{
 "cells": [
  {
   "cell_type": "code",
   "execution_count": 1,
   "metadata": {},
   "outputs": [],
   "source": [
    "import os\n",
    "os.chdir(\"/Users/karol/Desktop/Antwerp/ai_project\")\n",
    "import torch\n",
    "import torch\n",
    "import torch.nn as nn\n",
    "from model import MLP1, MLP2, TwoTower, TwoTowerEmbedded, LogisticRegression, TwoTowerFinal\n",
    "from data_reader import load_data, data_preprocessing, load_data_mf, load_customers_articles, customer_buckets, matrix_representation, create_random_candidates, articles_embbedings\n",
    "from helper import train_softmax, train_two_tower, train_two_tower_embedded, train_logistic\n",
    "import matplotlib.pyplot as plt\n",
    "import pandas as pd\n",
    "import numpy as np\n",
    "from scipy.sparse import csr_matrix\n",
    "import torch.nn.functional as F\n",
    "from sklearn.preprocessing import OneHotEncoder\n",
    "from sklearn.compose import ColumnTransformer\n",
    "from recommenders import recommender_softmax, recommender_two_towers, recommender_two_towers_embedded, recommender_logistic, recommender_two_towers_final\n",
    "import matplotlib.pyplot as plt\n",
    "import pickle"
   ]
  },
  {
   "cell_type": "markdown",
   "metadata": {},
   "source": [
    "# Data Preprocessing"
   ]
  },
  {
   "cell_type": "markdown",
   "metadata": {},
   "source": [
    "### Assumptions\n",
    "- Most important outcomes from feature engineering part were applied in data preprocessing function.\n",
    "- Function split_transaction generates targets (last purchases are considered as targets).\n",
    "- Function matrix representation transform transaction to pivot matrix.\n",
    "- Create specific Dataset classes for specific task.\n",
    "- Use sparse matrices to handle sparse data (create collate_fn for DataLoaders)."
   ]
  },
  {
   "cell_type": "markdown",
   "metadata": {},
   "source": [
    "### Preprocess and save data"
   ]
  },
  {
   "cell_type": "code",
   "execution_count": 17,
   "metadata": {},
   "outputs": [],
   "source": [
    "# transactions, articles, customers, article_encodings, customer_encodings, article_decodings, customer_decodings = data_preprocessing(feature_generation=False, return_encodings=True, save=True)"
   ]
  },
  {
   "cell_type": "markdown",
   "metadata": {},
   "source": [
    "### Load preprocessed data and apply one hot encoding for articles and customers"
   ]
  },
  {
   "cell_type": "code",
   "execution_count": 2,
   "metadata": {},
   "outputs": [],
   "source": [
    "# read data\n",
    "transactions = pd.read_csv(\"data/preprocessed/transactions.csv\") \n",
    "articles = pd.read_csv(\"data/preprocessed/articles.csv\") \n",
    "customers = pd.read_csv(\"data/preprocessed/customers.csv\") \n",
    "\n",
    "# one hot encoding \n",
    "articles = articles.set_index(\"article_id\")\n",
    "customers = customers.set_index(\"customer_id\")\n",
    "\n",
    "article_enc = OneHotEncoder(sparse_output=True)\n",
    "articles = article_enc.fit_transform(articles)\n",
    "\n",
    "customers_categorical = [\"FN\",'Active',\"club_member_status\", \"fashion_news_frequency\"]\n",
    "customers_cont = [\"age\"]\n",
    "\n",
    "preprocessor = ColumnTransformer(\n",
    "    transformers=[\n",
    "        ('cat', OneHotEncoder(sparse_output=True), customers_categorical),\n",
    "        ('cont', 'passthrough', customers_cont)  # 'passthrough' means no transformation for continuous variables\n",
    "    ],\n",
    "    remainder='drop'  # Drop any columns not explicitly transformed\n",
    ")\n",
    "customers = csr_matrix(preprocessor.fit_transform(customers))"
   ]
  },
  {
   "cell_type": "markdown",
   "metadata": {},
   "source": [
    "# Softmax DNN"
   ]
  },
  {
   "cell_type": "markdown",
   "metadata": {},
   "source": [
    "### Assumptions\n",
    "- The input is the purchase history without last purchase,\n",
    "- The target is the basket of the last purchase,\n",
    "- We are interested in whether article was bought not its amount. Therefore, the binary values are allowed.\n",
    "- In the target basket multiple articles could be bought therefore the sigmoid activation function was used at the last layer. It assumes that decision to buy specific article is independent from other products that customer is buying.\n",
    "- As I have multi-classification problem and I use sigmoid asa final activation layer I decided to use BCEWithLogitsLoss which supposed to deal with this configuration.\n"
   ]
  },
  {
   "cell_type": "markdown",
   "metadata": {},
   "source": [
    "### Load Data & Create Model"
   ]
  },
  {
   "cell_type": "code",
   "execution_count": 3,
   "metadata": {},
   "outputs": [],
   "source": [
    "train_dataloader_MLP, val_dataloader_MLP = load_data(transactions, train_test=True, batch_size=1000)"
   ]
  },
  {
   "cell_type": "markdown",
   "metadata": {},
   "source": [
    "### Create & Train basic Model "
   ]
  },
  {
   "cell_type": "code",
   "execution_count": 3,
   "metadata": {},
   "outputs": [
    {
     "ename": "NameError",
     "evalue": "name 'train_dataloader_MLP' is not defined",
     "output_type": "error",
     "traceback": [
      "\u001b[0;31m---------------------------------------------------------------------------\u001b[0m",
      "\u001b[0;31mNameError\u001b[0m                                 Traceback (most recent call last)",
      "\u001b[1;32m/Users/karol/Desktop/Antwerp/ai_project/AI_project/RQ1/report.ipynb Cell 14\u001b[0m line \u001b[0;36m8\n\u001b[1;32m      <a href='vscode-notebook-cell:/Users/karol/Desktop/Antwerp/ai_project/AI_project/RQ1/report.ipynb#X16sZmlsZQ%3D%3D?line=5'>6</a>\u001b[0m save_dir \u001b[39m=\u001b[39m \u001b[39m\"\u001b[39m\u001b[39mAI_project/RQ1/models/MLP2.pt\u001b[39m\u001b[39m\"\u001b[39m\n\u001b[1;32m      <a href='vscode-notebook-cell:/Users/karol/Desktop/Antwerp/ai_project/AI_project/RQ1/report.ipynb#X16sZmlsZQ%3D%3D?line=6'>7</a>\u001b[0m \u001b[39m# train\u001b[39;00m\n\u001b[0;32m----> <a href='vscode-notebook-cell:/Users/karol/Desktop/Antwerp/ai_project/AI_project/RQ1/report.ipynb#X16sZmlsZQ%3D%3D?line=7'>8</a>\u001b[0m val_loss_MLP \u001b[39m=\u001b[39m train_softmax(model, train_dataloader_MLP, val_dataloader_MLP, criterion, optimizer, save_dir, num_epochs\u001b[39m=\u001b[39m\u001b[39m10\u001b[39m)\n",
      "\u001b[0;31mNameError\u001b[0m: name 'train_dataloader_MLP' is not defined"
     ]
    }
   ],
   "source": [
    "# create model\n",
    "model = MLP1(input_dim=articles.shape[0], output_dim=articles.shape[0])\n",
    "# get params\n",
    "criterion = nn.BCEWithLogitsLoss()\n",
    "optimizer = torch.optim.Adam(model.parameters(), lr=0.001)\n",
    "save_dir = \"AI_project/RQ1/models/MLP2.pt\"\n",
    "# train\n",
    "# val_loss_MLP = train_softmax(model, train_dataloader_MLP, val_dataloader_MLP, criterion, optimizer, save_dir, num_epochs=10)"
   ]
  },
  {
   "cell_type": "markdown",
   "metadata": {},
   "source": [
    "### Load trained model"
   ]
  },
  {
   "cell_type": "code",
   "execution_count": 3,
   "metadata": {},
   "outputs": [],
   "source": [
    "MLP1 = torch.load(\"AI_project/RQ1/models/MLP1.pt\")"
   ]
  },
  {
   "cell_type": "markdown",
   "metadata": {},
   "source": [
    "### Generate recommendations for test data"
   ]
  },
  {
   "cell_type": "code",
   "execution_count": 7,
   "metadata": {},
   "outputs": [
    {
     "name": "stderr",
     "output_type": "stream",
     "text": [
      "100%|██████████| 138/138 [01:26<00:00,  1.60it/s]"
     ]
    },
    {
     "name": "stdout",
     "output_type": "stream",
     "text": [
      "Precision: 3.717255353576583e-05\n",
      "Recall: 0.00012372095079626888\n"
     ]
    },
    {
     "name": "stderr",
     "output_type": "stream",
     "text": [
      "\n"
     ]
    }
   ],
   "source": [
    "last_sold = transactions.groupby(\"article_id\")[\"t_dat\"].max()\n",
    "articles_recently_sold = last_sold[last_sold > '2020-08-22'].index.tolist()\n",
    "recommendations, recall, precision = recommender_softmax(MLP1, val_dataloader_MLP, articles_recently_sold, evaluate=True, top_k=10)\n",
    "print(f\"Precision: {precision}\\nRecall: {recall}\")"
   ]
  },
  {
   "cell_type": "markdown",
   "metadata": {},
   "source": [
    "### Ideas for improvements:\n",
    "- No warm start\n",
    "- Model should be trained on customers who had at least two purchases\n",
    "- We take into account baskets which are based on the past 2 years. Maybe we should train model based on customers who bought articles in last month.\n",
    "- Different way to measure accuracy.\n",
    "- Customers whou didn't developed any patterns (bought low amount of clothes) should be recommended with current top selling articles.\n",
    "- Develop more complex (deeper) model.\n",
    "- More training.\n",
    "- Distinguish customers who buys specific articles multiple times.\n",
    "### Potential Issues:\n",
    "- We need to predict articles for customers who were used to train the model.\n",
    "\n",
    "**Idea**: recommend things that haven't been bought.\n",
    "\n"
   ]
  },
  {
   "cell_type": "markdown",
   "metadata": {},
   "source": [
    "# Matrix Factorization with DNN"
   ]
  },
  {
   "cell_type": "markdown",
   "metadata": {},
   "source": [
    "### Assumptions\n",
    "- Firstly, it was decided to use one hot encoding for all categorical features.\n",
    "- Two tower architecture was used which is compsed from two different classes, which are responsible for encoding customer and article features. \n",
    "- These models are used for estimating embeddings for recommendations.\n",
    "- To estimate the probability of buying article x by customer y the product between corresponding embbedings is calculated and then the sigmoid function is applied. \n",
    "- For training purposes the random negative candidates have been generated.\n",
    "- Weights for recent articles"
   ]
  },
  {
   "cell_type": "markdown",
   "metadata": {},
   "source": [
    "### Load data"
   ]
  },
  {
   "cell_type": "code",
   "execution_count": 7,
   "metadata": {},
   "outputs": [],
   "source": [
    "# transactions_negatives = create_random_candidates(transactions, save_dir=None, num_sample=30_000_000)\n",
    "transactions_negatives = pd.read_csv(\"data/preprocessed/transactions_negatives.csv\")\n",
    "train_dataloader, val_dataloader, test_customers = load_data_mf(transactions_negatives, batch_size=1000)"
   ]
  },
  {
   "cell_type": "markdown",
   "metadata": {},
   "source": [
    "### Train Model"
   ]
  },
  {
   "cell_type": "code",
   "execution_count": null,
   "metadata": {},
   "outputs": [
    {
     "name": "stderr",
     "output_type": "stream",
     "text": [
      "100%|██████████| 55595/55595 [12:57<00:00, 71.47it/s]\n"
     ]
    },
    {
     "name": "stdout",
     "output_type": "stream",
     "text": [
      "Epoch [1/10] - Train Loss: 0.1969, Validation Loss: 0.1761%\n"
     ]
    },
    {
     "name": "stderr",
     "output_type": "stream",
     "text": [
      "100%|██████████| 55595/55595 [12:57<00:00, 71.47it/s]\n"
     ]
    },
    {
     "name": "stdout",
     "output_type": "stream",
     "text": [
      "Epoch [2/10] - Train Loss: 0.1975, Validation Loss: 0.1760%\n"
     ]
    },
    {
     "name": "stderr",
     "output_type": "stream",
     "text": [
      "100%|██████████| 55595/55595 [12:58<00:00, 71.44it/s]\n"
     ]
    },
    {
     "name": "stdout",
     "output_type": "stream",
     "text": [
      "Epoch [3/10] - Train Loss: 0.1971, Validation Loss: 0.1760%\n"
     ]
    },
    {
     "name": "stderr",
     "output_type": "stream",
     "text": [
      "100%|██████████| 55595/55595 [12:57<00:00, 71.48it/s]\n"
     ]
    },
    {
     "name": "stdout",
     "output_type": "stream",
     "text": [
      "Epoch [4/10] - Train Loss: 0.1970, Validation Loss: 0.1760%\n"
     ]
    },
    {
     "name": "stderr",
     "output_type": "stream",
     "text": [
      "100%|██████████| 55595/55595 [12:58<00:00, 71.42it/s]\n"
     ]
    },
    {
     "name": "stdout",
     "output_type": "stream",
     "text": [
      "Epoch [5/10] - Train Loss: 0.1969, Validation Loss: 0.1760%\n"
     ]
    },
    {
     "name": "stderr",
     "output_type": "stream",
     "text": [
      "100%|██████████| 55595/55595 [12:58<00:00, 71.45it/s]\n"
     ]
    },
    {
     "name": "stdout",
     "output_type": "stream",
     "text": [
      "Epoch [6/10] - Train Loss: 0.1971, Validation Loss: 0.1759%\n"
     ]
    },
    {
     "name": "stderr",
     "output_type": "stream",
     "text": [
      "100%|██████████| 55595/55595 [12:58<00:00, 71.44it/s]\n"
     ]
    },
    {
     "name": "stdout",
     "output_type": "stream",
     "text": [
      "Epoch [7/10] - Train Loss: 0.1975, Validation Loss: 0.1759%\n"
     ]
    },
    {
     "name": "stderr",
     "output_type": "stream",
     "text": [
      "100%|██████████| 55595/55595 [12:57<00:00, 71.48it/s]\n"
     ]
    },
    {
     "name": "stdout",
     "output_type": "stream",
     "text": [
      "Epoch [8/10] - Train Loss: 0.1976, Validation Loss: 0.1759%\n"
     ]
    },
    {
     "name": "stderr",
     "output_type": "stream",
     "text": [
      "100%|██████████| 55595/55595 [12:58<00:00, 71.43it/s]\n"
     ]
    },
    {
     "name": "stdout",
     "output_type": "stream",
     "text": [
      "Epoch [9/10] - Train Loss: 0.1977, Validation Loss: 0.1759%\n"
     ]
    },
    {
     "name": "stderr",
     "output_type": "stream",
     "text": [
      "100%|██████████| 55595/55595 [12:58<00:00, 71.44it/s]\n"
     ]
    },
    {
     "name": "stdout",
     "output_type": "stream",
     "text": [
      "Epoch [10/10] - Train Loss: 0.1978, Validation Loss: 0.1759%\n"
     ]
    }
   ],
   "source": [
    "input_article_dim = articles.shape[1]\n",
    "input_customer_dim = customers.shape[1]\n",
    "model = TwoTower(input_article_dim, input_customer_dim, output_dim=3)\n",
    "criterion = nn.MSELoss()\n",
    "optimizer = torch.optim.Adam(model.parameters(), lr=0.001)\n",
    "save_dir = \"AI_project/RQ1/models/TwoTower1.pt\"\n",
    "# val_loss_tower = train_two_tower(model, customers, articles, train_dataloader, val_dataloader, criterion, optimizer, save_dir, num_epochs=10)"
   ]
  },
  {
   "cell_type": "markdown",
   "metadata": {},
   "source": [
    "### Load Model"
   ]
  },
  {
   "cell_type": "code",
   "execution_count": 6,
   "metadata": {},
   "outputs": [],
   "source": [
    "TwoTower1 = torch.load(\"AI_project/RQ1/models/TwoTower1.pt\")"
   ]
  },
  {
   "cell_type": "markdown",
   "metadata": {},
   "source": [
    "### Load data required for recommendations"
   ]
  },
  {
   "cell_type": "code",
   "execution_count": 7,
   "metadata": {},
   "outputs": [],
   "source": [
    "matrix_full = matrix_representation(transactions, train_test=False)\n",
    "targets = matrix_full[test_customers]\n",
    "targets[targets>1] = 1\n",
    "dataloader_cust, dataloader_art = load_customers_articles(customers, articles, test_customers=test_customers, batch_size=100)"
   ]
  },
  {
   "cell_type": "markdown",
   "metadata": {},
   "source": [
    "### Evaluate Recommendations"
   ]
  },
  {
   "cell_type": "code",
   "execution_count": 8,
   "metadata": {},
   "outputs": [
    {
     "name": "stdout",
     "output_type": "stream",
     "text": [
      "Generate Customer Embeddings...\n"
     ]
    },
    {
     "name": "stderr",
     "output_type": "stream",
     "text": [
      "100%|██████████| 1363/1363 [00:09<00:00, 150.66it/s]\n"
     ]
    },
    {
     "name": "stdout",
     "output_type": "stream",
     "text": [
      "Generate Articles Embeddings...\n"
     ]
    },
    {
     "name": "stderr",
     "output_type": "stream",
     "text": [
      "100%|██████████| 1056/1056 [00:04<00:00, 247.05it/s]\n"
     ]
    },
    {
     "name": "stdout",
     "output_type": "stream",
     "text": [
      "Get recommendations...\n"
     ]
    },
    {
     "name": "stderr",
     "output_type": "stream",
     "text": [
      "100%|██████████| 137/137 [00:34<00:00,  3.99it/s]\n"
     ]
    },
    {
     "name": "stdout",
     "output_type": "stream",
     "text": [
      "Precision: 0.005470567940746831\n",
      "Recall: 0.001559738616899209\n"
     ]
    }
   ],
   "source": [
    "last_sold = transactions.groupby(\"article_id\")[\"t_dat\"].max()\n",
    "articles_recently_sold = [last_sold[last_sold > '2020-08-22'].index.tolist()]\n",
    "recommendations, recall, precision = recommender_two_towers(TwoTower1, dataloader_cust, dataloader_art, targets, articles_recently_sold, evaluate=True, top_k=12)\n",
    "print(f\"Precision: {precision}\\nRecall: {recall}\")"
   ]
  },
  {
   "cell_type": "markdown",
   "metadata": {},
   "source": [
    "### Ideas for improvements:\n",
    "- Use embeddings for warm start\n",
    "- Develop ebedding layers.\n",
    "- Generate more features.\n",
    "- More training.\n",
    "- Distinguish customers who buys specific articles multiple times.\n",
    "- Use article embeddings for recommendations.\n",
    "- Mix ways of recommending things"
   ]
  },
  {
   "cell_type": "markdown",
   "metadata": {},
   "source": [
    "# Evaluation"
   ]
  },
  {
   "cell_type": "code",
   "execution_count": 10,
   "metadata": {},
   "outputs": [
    {
     "name": "stderr",
     "output_type": "stream",
     "text": [
      "100%|██████████| 138/138 [01:01<00:00,  2.26it/s]\n"
     ]
    },
    {
     "name": "stdout",
     "output_type": "stream",
     "text": [
      "Generate Customer Embeddings...\n"
     ]
    },
    {
     "name": "stderr",
     "output_type": "stream",
     "text": [
      "100%|██████████| 1363/1363 [00:10<00:00, 127.13it/s]\n"
     ]
    },
    {
     "name": "stdout",
     "output_type": "stream",
     "text": [
      "Generate Articles Embeddings...\n"
     ]
    },
    {
     "name": "stderr",
     "output_type": "stream",
     "text": [
      "100%|██████████| 1056/1056 [00:04<00:00, 246.41it/s]\n"
     ]
    },
    {
     "name": "stdout",
     "output_type": "stream",
     "text": [
      "Get recommendations...\n"
     ]
    },
    {
     "name": "stderr",
     "output_type": "stream",
     "text": [
      "100%|██████████| 137/137 [00:32<00:00,  4.16it/s]\n",
      "100%|██████████| 138/138 [01:03<00:00,  2.17it/s]\n"
     ]
    },
    {
     "name": "stdout",
     "output_type": "stream",
     "text": [
      "Generate Customer Embeddings...\n"
     ]
    },
    {
     "name": "stderr",
     "output_type": "stream",
     "text": [
      "100%|██████████| 1363/1363 [00:06<00:00, 223.68it/s]\n"
     ]
    },
    {
     "name": "stdout",
     "output_type": "stream",
     "text": [
      "Generate Articles Embeddings...\n"
     ]
    },
    {
     "name": "stderr",
     "output_type": "stream",
     "text": [
      "100%|██████████| 1056/1056 [00:04<00:00, 221.47it/s]\n"
     ]
    },
    {
     "name": "stdout",
     "output_type": "stream",
     "text": [
      "Get recommendations...\n"
     ]
    },
    {
     "name": "stderr",
     "output_type": "stream",
     "text": [
      "100%|██████████| 137/137 [00:32<00:00,  4.23it/s]\n",
      "100%|██████████| 138/138 [01:04<00:00,  2.15it/s]\n"
     ]
    },
    {
     "name": "stdout",
     "output_type": "stream",
     "text": [
      "Generate Customer Embeddings...\n"
     ]
    },
    {
     "name": "stderr",
     "output_type": "stream",
     "text": [
      "100%|██████████| 1363/1363 [00:05<00:00, 237.55it/s]\n"
     ]
    },
    {
     "name": "stdout",
     "output_type": "stream",
     "text": [
      "Generate Articles Embeddings...\n"
     ]
    },
    {
     "name": "stderr",
     "output_type": "stream",
     "text": [
      "100%|██████████| 1056/1056 [00:04<00:00, 246.19it/s]\n"
     ]
    },
    {
     "name": "stdout",
     "output_type": "stream",
     "text": [
      "Get recommendations...\n"
     ]
    },
    {
     "name": "stderr",
     "output_type": "stream",
     "text": [
      "100%|██████████| 137/137 [00:32<00:00,  4.18it/s]\n",
      "  0%|          | 0/138 [00:00<?, ?it/s]/Users/karol/Desktop/Antwerp/ai_project/AI_project/RQ1/recommenders.py:28: UserWarning: torch.topk support for k>16 by MPS on MacOS 13+, please upgrade (Triggered internally at /Users/runner/work/pytorch/pytorch/pytorch/aten/src/ATen/native/mps/operations/Shape.mm:71.)\n",
      "  _, top_k_indices = torch.topk(results, k=top_k, dim=1)\n",
      "100%|██████████| 138/138 [01:07<00:00,  2.04it/s]\n"
     ]
    },
    {
     "name": "stdout",
     "output_type": "stream",
     "text": [
      "Generate Customer Embeddings...\n"
     ]
    },
    {
     "name": "stderr",
     "output_type": "stream",
     "text": [
      "100%|██████████| 1363/1363 [00:05<00:00, 232.02it/s]\n"
     ]
    },
    {
     "name": "stdout",
     "output_type": "stream",
     "text": [
      "Generate Articles Embeddings...\n"
     ]
    },
    {
     "name": "stderr",
     "output_type": "stream",
     "text": [
      "100%|██████████| 1056/1056 [00:04<00:00, 226.18it/s]\n"
     ]
    },
    {
     "name": "stdout",
     "output_type": "stream",
     "text": [
      "Get recommendations...\n"
     ]
    },
    {
     "name": "stderr",
     "output_type": "stream",
     "text": [
      "100%|██████████| 137/137 [00:35<00:00,  3.88it/s]\n",
      "100%|██████████| 138/138 [01:16<00:00,  1.80it/s]\n"
     ]
    },
    {
     "name": "stdout",
     "output_type": "stream",
     "text": [
      "Generate Customer Embeddings...\n"
     ]
    },
    {
     "name": "stderr",
     "output_type": "stream",
     "text": [
      "100%|██████████| 1363/1363 [00:06<00:00, 219.30it/s]\n"
     ]
    },
    {
     "name": "stdout",
     "output_type": "stream",
     "text": [
      "Generate Articles Embeddings...\n"
     ]
    },
    {
     "name": "stderr",
     "output_type": "stream",
     "text": [
      "100%|██████████| 1056/1056 [00:04<00:00, 227.71it/s]\n"
     ]
    },
    {
     "name": "stdout",
     "output_type": "stream",
     "text": [
      "Get recommendations...\n"
     ]
    },
    {
     "name": "stderr",
     "output_type": "stream",
     "text": [
      "100%|██████████| 137/137 [00:36<00:00,  3.75it/s]\n"
     ]
    }
   ],
   "source": [
    "last_sold = transactions.groupby(\"article_id\")[\"t_dat\"].max()\n",
    "articles_recently_sold = [last_sold[last_sold > '2020-08-22'].index.tolist()]\n",
    "\n",
    "recall_MLP_list = []\n",
    "precision_MPL_list = []\n",
    "\n",
    "recall_TwoTower_list = []\n",
    "precision_TwoTower_list = []\n",
    "\n",
    "for k in np.arange(5,30,5):\n",
    "    _, recall_MLP, precisionMLP = recommender_softmax(MLP1, val_dataloader_MLP, articles_recently_sold, evaluate=True, top_k=k)\n",
    "    _, recall_TT, precision_TT = recommender_two_towers(TwoTower1, dataloader_cust, dataloader_art, targets, articles_recently_sold, evaluate=True, top_k=k)\n",
    "    \n",
    "    recall_MLP_list.append(recall_MLP)\n",
    "    recall_TwoTower_list.append(recall_TT)\n",
    "    precision_MPL_list.append(precisionMLP)\n",
    "    precision_TwoTower_list.append(precision_TT)\n",
    "\n"
   ]
  },
  {
   "cell_type": "markdown",
   "metadata": {},
   "source": [
    "### Random Recommendations"
   ]
  },
  {
   "cell_type": "code",
   "execution_count": 45,
   "metadata": {},
   "outputs": [],
   "source": [
    "recall_random_list = []\n",
    "precision_random_list = []\n",
    "\n",
    "def random_rec_eval(test_customers, articles, targets, top_k):\n",
    "    # Define the matrix dimensions\n",
    "    rows, cols = len(test_customers), articles.shape[0]\n",
    "    num_ones_per_row = top_k\n",
    "\n",
    "    # Generate random positions for ones in each row\n",
    "    random_positions = np.random.choice(cols, (rows, num_ones_per_row))\n",
    "    # Create arrays for data, row indices, and column indices\n",
    "    data = np.ones(num_ones_per_row * rows)\n",
    "    row_indices = np.repeat(np.arange(rows), num_ones_per_row)\n",
    "    col_indices = random_positions.flatten()\n",
    "\n",
    "    # Create the sparse matrix using the collected data, row indices, and column indices\n",
    "    random_rec = csr_matrix((data, (row_indices, col_indices)), shape=(rows, cols))\n",
    "    correct_recommendations = random_rec.multiply(targets)\n",
    "    total_correct = correct_recommendations.sum().item()\n",
    "    total  = targets.sum().item()\n",
    "    recall = total_correct / total\n",
    "    precision = total_correct / (top_k*random_rec.shape[0])\n",
    "    return recall, precision\n",
    "\n",
    "for k in np.arange(5,30,5):\n",
    "    recall, precision = random_rec_eval(test_customers, articles, targets, top_k=k)\n",
    "    recall_random_list.append(recall)\n",
    "    precision_random_list.append(precision)"
   ]
  },
  {
   "cell_type": "code",
   "execution_count": 42,
   "metadata": {},
   "outputs": [],
   "source": [
    "# recall_MLP_list = [recall.to(\"cpu\").item() for recall in recall_MLP_list]\n",
    "# precision_MPL_list = [precision.to(\"cpu\").item() for precision in precision_MPL_list]"
   ]
  },
  {
   "cell_type": "markdown",
   "metadata": {},
   "source": [
    "### Recall plot"
   ]
  },
  {
   "cell_type": "code",
   "execution_count": 46,
   "metadata": {},
   "outputs": [
    {
     "data": {
      "image/png": "[encoded data removed]",
      "text/plain": [
       "<Figure size 640x480 with 1 Axes>"
      ]
     },
     "metadata": {},
     "output_type": "display_data"
    }
   ],
   "source": [
    "plt.plot(np.arange(5,30,5),recall_MLP_list, label=\"MLP\")\n",
    "plt.plot(np.arange(5,30,5),recall_TwoTower_list, label=\"TwoTower\")\n",
    "plt.plot(np.arange(5,30,5),recall_random_list, label=\"Random\")\n",
    "plt.title(\"Recall\")\n",
    "plt.legend()\n",
    "plt.xlabel(\"k\")\n",
    "plt.ylabel(\"recall\")\n",
    "plt.show()"
   ]
  },
  {
   "cell_type": "markdown",
   "metadata": {},
   "source": [
    "### Precision plot"
   ]
  },
  {
   "cell_type": "code",
   "execution_count": 47,
   "metadata": {},
   "outputs": [
    {
     "data": {
      "image/png": "[encoded data removed]",
      "text/plain": [
       "<Figure size 640x480 with 1 Axes>"
      ]
     },
     "metadata": {},
     "output_type": "display_data"
    }
   ],
   "source": [
    "plt.plot(np.arange(5,30,5),precision_MPL_list,  label=\"MLP\")\n",
    "plt.plot(np.arange(5,30,5), precision_TwoTower_list,  label=\"TwoTower\")\n",
    "plt.plot(np.arange(5,30,5),precision_random_list, label=\"Random\")\n",
    "plt.title(\"Precision\")\n",
    "plt.legend()\n",
    "plt.xlabel(\"k\")\n",
    "plt.ylabel(\"precision\")\n",
    "plt.show()"
   ]
  },
  {
   "cell_type": "markdown",
   "metadata": {},
   "source": [
    "# Get Final Recommendations"
   ]
  },
  {
   "cell_type": "markdown",
   "metadata": {},
   "source": [
    "### MLP"
   ]
  },
  {
   "cell_type": "code",
   "execution_count": 50,
   "metadata": {},
   "outputs": [
    {
     "name": "stderr",
     "output_type": "stream",
     "text": [
      "100%|██████████| 1372/1372 [05:06<00:00,  4.48it/s]\n"
     ]
    }
   ],
   "source": [
    "transactions = pd.read_csv(\"data/preprocessed/transactions.csv\") \n",
    "dataloader = load_data(transactions, train_test=False, batch_size=1000)\n",
    "MLP1 = torch.load(\"AI_project/RQ1/models/MLP1.pt\")\n",
    "recommendations = recommender_softmax(MLP1, dataloader, articles_recently_sold, evaluate=False, top_k=12).to(torch.int64).to(\"cpu\").numpy()\n",
    "output = pd.DataFrame(recommendations).reset_index()"
   ]
  },
  {
   "cell_type": "code",
   "execution_count": 51,
   "metadata": {},
   "outputs": [],
   "source": [
    "with open('data/preprocessed/customers_decoding.pickle', 'rb') as file:\n",
    "    customer_dict = pickle.load(file)\n",
    "\n",
    "with open('data/preprocessed/articles_decoding.pickle', 'rb') as file:\n",
    "    article_dict = pickle.load(file)"
   ]
  },
  {
   "cell_type": "code",
   "execution_count": 52,
   "metadata": {},
   "outputs": [],
   "source": [
    "for i in np.arange(1,12,1):\n",
    "    output[i] = output[i].apply(lambda x: article_dict[\"article_id\"][x])\n",
    "    \n",
    "preds = [' '.join(['0' + str(article_dict[\"article_id\"][p]) for p in ps]) for ps in recommendations]\n",
    "submission = pd.DataFrame(zip(np.arange(len(preds)), preds), columns=[\"customer_id\",\"prediction\"])\n",
    "submission[\"customer_id\"] = submission[\"customer_id\"].apply(lambda x: customer_dict[\"customer_id\"][x])\n",
    "submission.to_csv(\"submission/MLP/MLP2_submission.csv.gz\", index=False)\n"
   ]
  },
  {
   "cell_type": "markdown",
   "metadata": {},
   "source": [
    "### Two Tower"
   ]
  },
  {
   "cell_type": "code",
   "execution_count": 53,
   "metadata": {},
   "outputs": [
    {
     "name": "stdout",
     "output_type": "stream",
     "text": [
      "Generate Customer Embeddings...\n"
     ]
    },
    {
     "name": "stderr",
     "output_type": "stream",
     "text": [
      "100%|██████████| 1372/1372 [01:06<00:00, 20.58it/s]\n"
     ]
    },
    {
     "name": "stdout",
     "output_type": "stream",
     "text": [
      "Generate Articles Embeddings...\n"
     ]
    },
    {
     "name": "stderr",
     "output_type": "stream",
     "text": [
      "100%|██████████| 106/106 [00:03<00:00, 29.15it/s]\n"
     ]
    },
    {
     "name": "stdout",
     "output_type": "stream",
     "text": [
      "Get recommendations...\n"
     ]
    },
    {
     "name": "stderr",
     "output_type": "stream",
     "text": [
      "100%|██████████| 1372/1372 [05:47<00:00,  3.95it/s]\n"
     ]
    }
   ],
   "source": [
    "transactions = pd.read_csv(\"data/preprocessed/transactions.csv\") \n",
    "dataloader_cust, dataloader_art = load_customers_articles(customers, articles, batch_size=1000)\n",
    "TwoTower = torch.load(\"AI_project/RQ1/models/TwoTower1.pt\")\n",
    "recommendations = recommender_two_towers(TwoTower, dataloader_cust, dataloader_art, targets=matrix_full, articles_recently_sold=articles_recently_sold, top_k=12).to(torch.int64).to(\"cpu\").numpy()\n",
    "output = pd.DataFrame(recommendations).reset_index()"
   ]
  },
  {
   "cell_type": "code",
   "execution_count": 54,
   "metadata": {},
   "outputs": [],
   "source": [
    "for i in np.arange(1,12,1):\n",
    "    output[i] = output[i].apply(lambda x: article_dict[\"article_id\"][x])\n",
    "    \n",
    "preds = [' '.join(['0' + str(article_dict[\"article_id\"][p]) for p in ps]) for ps in recommendations]\n",
    "submission = pd.DataFrame(zip(np.arange(len(preds)), preds), columns=[\"customer_id\",\"prediction\"])\n",
    "submission[\"customer_id\"] = submission[\"customer_id\"].apply(lambda x: customer_dict[\"customer_id\"][x])\n",
    "submission.to_csv(\"submission/TwoTower/TwoTower5_submission.csv.gz\", index=False)"
   ]
  },
  {
   "cell_type": "markdown",
   "metadata": {},
   "source": [
    "# Models Development\n"
   ]
  },
  {
   "cell_type": "markdown",
   "metadata": {},
   "source": [
    "### 1. Deeper Architecture for the MLP1"
   ]
  },
  {
   "cell_type": "code",
   "execution_count": 4,
   "metadata": {},
   "outputs": [],
   "source": [
    "# load data\n",
    "train_dataloader_MLP, val_dataloader_MLP = load_data(transactions, train_test=True, batch_size=1000)\n",
    "# create model\n",
    "model = MLP2(input_dim=articles.shape[0], output_dim=articles.shape[0])\n",
    "# get params\n",
    "criterion = nn.BCEWithLogitsLoss()\n",
    "optimizer = torch.optim.Adam(model.parameters(), lr=0.01)\n",
    "save_dir = \"AI_project/RQ1/models/MLP2.pt\"\n",
    "# train\n",
    "# val_loss_MLP = train_softmax(model, train_dataloader_MLP, val_dataloader_MLP, criterion, optimizer, save_dir, num_epochs=5)"
   ]
  },
  {
   "cell_type": "code",
   "execution_count": 7,
   "metadata": {},
   "outputs": [
    {
     "name": "stderr",
     "output_type": "stream",
     "text": [
      "100%|██████████| 138/138 [02:17<00:00,  1.01it/s]"
     ]
    },
    {
     "name": "stdout",
     "output_type": "stream",
     "text": [
      "Precision: 0.00010058455662618988\n",
      "Recall: 0.00033380018430761993\n"
     ]
    },
    {
     "name": "stderr",
     "output_type": "stream",
     "text": [
      "\n"
     ]
    }
   ],
   "source": [
    "# load model\n",
    "MLP2 = torch.load(\"AI_project/RQ1/models/MLP2.pt\")\n",
    "last_sold = transactions.groupby(\"article_id\")[\"t_dat\"].max()\n",
    "articles_recently_sold = last_sold[last_sold > '2020-08-22'].index.tolist()\n",
    "# get recommendations\n",
    "recommendations, recall, precision = recommender_softmax(MLP2, val_dataloader_MLP, articles_recently_sold, evaluate=True, top_k=10)\n",
    "print(f\"Precision: {precision}\\nRecall: {recall}\")"
   ]
  },
  {
   "cell_type": "markdown",
   "metadata": {},
   "source": [
    "### 2. TwoTower model with embedding layers"
   ]
  },
  {
   "cell_type": "code",
   "execution_count": 5,
   "metadata": {},
   "outputs": [],
   "source": [
    "# read article and customer data\n",
    "articles = pd.read_csv(\"data/preprocessed/articles.csv\") \n",
    "customers = pd.read_csv(\"data/preprocessed/customers.csv\") \n",
    "\n",
    "# set indices\n",
    "articles = articles.set_index(\"article_id\")\n",
    "customers = customers.set_index(\"customer_id\")\n",
    "\n",
    "customers_categorical = [\"FN\",'Active',\"club_member_status\", \"fashion_news_frequency\"]\n",
    "customers_cont = [\"age\"]\n",
    "\n",
    "preprocessor = ColumnTransformer(\n",
    "    transformers=[\n",
    "        ('cat', OneHotEncoder(sparse_output=True), customers_categorical),\n",
    "        ('cont', 'passthrough', customers_cont)  # 'passthrough' means no transformation for continuous variables\n",
    "    ],\n",
    "    remainder='drop'  # Drop any columns not explicitly transformed\n",
    ")\n",
    "customers = csr_matrix(preprocessor.fit_transform(customers))\n",
    "articles = csr_matrix(articles)\n",
    "\n",
    "# load transaction\n",
    "transactions_negatives = pd.read_csv(\"data/preprocessed/transactions_negatives.csv\")\n",
    "# dataloader\n",
    "train_dataloader, val_dataloader, test_customers = load_data_mf(transactions_negatives, batch_size=1000)"
   ]
  },
  {
   "cell_type": "code",
   "execution_count": 5,
   "metadata": {},
   "outputs": [
    {
     "name": "stderr",
     "output_type": "stream",
     "text": [
      "  0%|          | 0/55595 [00:00<?, ?it/s]/Users/karol/Desktop/Antwerp/ai_project/AI_project/RQ1/model.py:81: UserWarning: The use of `x.T` on tensors of dimension other than 2 to reverse their shape is deprecated and it will throw an error in a future release. Consider `x.mT` to transpose batches of matrices or `x.permute(*torch.arange(x.ndim - 1, -1, -1))` to reverse the dimensions of a tensor. (Triggered internally at /Users/runner/work/pytorch/pytorch/pytorch/aten/src/ATen/native/TensorShape.cpp:3618.)\n",
      "  embedding_layer(x[:,i].T)\n",
      "100%|██████████| 55595/55595 [12:45<00:00, 72.59it/s]\n"
     ]
    },
    {
     "name": "stdout",
     "output_type": "stream",
     "text": [
      "Epoch [1/10] - Train Loss: 0.2040, Validation Loss: 0.1806\n"
     ]
    },
    {
     "name": "stderr",
     "output_type": "stream",
     "text": [
      "100%|██████████| 55595/55595 [12:28<00:00, 74.26it/s]\n"
     ]
    },
    {
     "name": "stdout",
     "output_type": "stream",
     "text": [
      "Epoch [2/10] - Train Loss: 0.2045, Validation Loss: 0.1804\n"
     ]
    },
    {
     "name": "stderr",
     "output_type": "stream",
     "text": [
      "100%|██████████| 55595/55595 [12:27<00:00, 74.37it/s]\n"
     ]
    },
    {
     "name": "stdout",
     "output_type": "stream",
     "text": [
      "Epoch [3/10] - Train Loss: 0.2042, Validation Loss: 0.1803\n"
     ]
    },
    {
     "name": "stderr",
     "output_type": "stream",
     "text": [
      "100%|██████████| 55595/55595 [12:27<00:00, 74.37it/s]\n"
     ]
    },
    {
     "name": "stdout",
     "output_type": "stream",
     "text": [
      "Epoch [4/10] - Train Loss: 0.2046, Validation Loss: 0.1803\n"
     ]
    },
    {
     "name": "stderr",
     "output_type": "stream",
     "text": [
      "100%|██████████| 55595/55595 [12:27<00:00, 74.35it/s]\n"
     ]
    },
    {
     "name": "stdout",
     "output_type": "stream",
     "text": [
      "Epoch [5/10] - Train Loss: 0.2046, Validation Loss: 0.1803\n"
     ]
    },
    {
     "name": "stderr",
     "output_type": "stream",
     "text": [
      "100%|██████████| 55595/55595 [12:28<00:00, 74.29it/s]\n"
     ]
    },
    {
     "name": "stdout",
     "output_type": "stream",
     "text": [
      "Epoch [6/10] - Train Loss: 0.2047, Validation Loss: 0.1802\n"
     ]
    },
    {
     "name": "stderr",
     "output_type": "stream",
     "text": [
      "100%|██████████| 55595/55595 [12:27<00:00, 74.35it/s]\n"
     ]
    },
    {
     "name": "stdout",
     "output_type": "stream",
     "text": [
      "Epoch [7/10] - Train Loss: 0.2047, Validation Loss: 0.1802\n"
     ]
    },
    {
     "name": "stderr",
     "output_type": "stream",
     "text": [
      "100%|██████████| 55595/55595 [12:27<00:00, 74.34it/s]\n"
     ]
    },
    {
     "name": "stdout",
     "output_type": "stream",
     "text": [
      "Epoch [8/10] - Train Loss: 0.2049, Validation Loss: 0.1802\n"
     ]
    },
    {
     "name": "stderr",
     "output_type": "stream",
     "text": [
      "100%|██████████| 55595/55595 [12:28<00:00, 74.29it/s]\n"
     ]
    },
    {
     "name": "stdout",
     "output_type": "stream",
     "text": [
      "Epoch [9/10] - Train Loss: 0.2050, Validation Loss: 0.1802\n"
     ]
    },
    {
     "name": "stderr",
     "output_type": "stream",
     "text": [
      "100%|██████████| 55595/55595 [12:24<00:00, 74.67it/s]\n"
     ]
    },
    {
     "name": "stdout",
     "output_type": "stream",
     "text": [
      "Epoch [10/10] - Train Loss: 0.2050, Validation Loss: 0.1802\n"
     ]
    }
   ],
   "source": [
    "article_cat_dim = articles_embbedings()\n",
    "input_customer_dim = customers.shape[1]\n",
    "model = TwoTowerEmbedded(article_cat_dim, input_customer_dim, output_dim=3)\n",
    "criterion = nn.MSELoss()\n",
    "optimizer = torch.optim.Adam(model.parameters(), lr=0.001)\n",
    "save_dir = \"AI_project/RQ1/models/TwoTowerEmbedded.pt\"\n",
    "# val_loss_tower = train_two_tower_embedded(model, customers, articles, train_dataloader, val_dataloader, criterion, optimizer, save_dir, num_epochs=10)"
   ]
  },
  {
   "cell_type": "code",
   "execution_count": 6,
   "metadata": {},
   "outputs": [
    {
     "name": "stdout",
     "output_type": "stream",
     "text": [
      "Generate Customer Embeddings...\n"
     ]
    },
    {
     "name": "stderr",
     "output_type": "stream",
     "text": [
      "100%|██████████| 1363/1363 [00:04<00:00, 307.38it/s]\n"
     ]
    },
    {
     "name": "stdout",
     "output_type": "stream",
     "text": [
      "Generate Articles Embeddings...\n"
     ]
    },
    {
     "name": "stderr",
     "output_type": "stream",
     "text": [
      "  0%|          | 0/1056 [00:00<?, ?it/s]/Users/karol/Desktop/Antwerp/ai_project/AI_project/RQ1/model.py:81: UserWarning: The use of `x.T` on tensors of dimension other than 2 to reverse their shape is deprecated and it will throw an error in a future release. Consider `x.mT` to transpose batches of matrices or `x.permute(*torch.arange(x.ndim - 1, -1, -1))` to reverse the dimensions of a tensor. (Triggered internally at /Users/runner/work/pytorch/pytorch/pytorch/aten/src/ATen/native/TensorShape.cpp:3618.)\n",
      "  embedding_layer(x[:,i].T)\n",
      "100%|██████████| 1056/1056 [00:03<00:00, 299.07it/s]\n"
     ]
    },
    {
     "name": "stdout",
     "output_type": "stream",
     "text": [
      "Get recommendations...\n"
     ]
    },
    {
     "name": "stderr",
     "output_type": "stream",
     "text": [
      "100%|██████████| 137/137 [00:31<00:00,  4.30it/s]\n"
     ]
    },
    {
     "name": "stdout",
     "output_type": "stream",
     "text": [
      "Precision: 0.004529138436015826\n",
      "Recall: 0.002709659144349369\n"
     ]
    }
   ],
   "source": [
    "# load the model\n",
    "TwoTowerEmb = torch.load(\"AI_project/RQ1/models/TwoTowerEmbedded.pt\")\n",
    "# generate targets\n",
    "matrix_full = matrix_representation(transactions, train_test=False)\n",
    "targets = matrix_full[test_customers]\n",
    "targets[targets>1] = 1\n",
    "# articles and customers dataloaders to push through corresponding towers\n",
    "dataloader_cust, dataloader_art = load_customers_articles(customers, articles, test_customers=test_customers, batch_size=100)\n",
    "# generate masks to recommend recent articles\n",
    "last_sold = transactions.groupby(\"article_id\")[\"t_dat\"].max()\n",
    "articles_recently_sold = last_sold[last_sold > '2020-08-22'].index.tolist()\n",
    "# evaluate recommenders\n",
    "recommendations, recall, precision = recommender_two_towers_embedded(TwoTowerEmb, dataloader_cust, dataloader_art, targets, articles_recently_sold, evaluate=True, top_k=12)\n",
    "print(f\"Precision: {precision}\\nRecall: {recall}\")"
   ]
  },
  {
   "cell_type": "markdown",
   "metadata": {},
   "source": [
    "### 3. Use Logistic Regression instead of Customer Tower"
   ]
  },
  {
   "cell_type": "code",
   "execution_count": 6,
   "metadata": {},
   "outputs": [],
   "source": [
    "# load negatives\n",
    "transactions_negatives = pd.read_csv(\"data/preprocessed/transactions_negatives.csv\")\n",
    "train_dataloader, val_dataloader, test_customers = load_data_mf(transactions_negatives, batch_size=1000)\n",
    "# create model instance\n",
    "input_article_dim = articles.shape[1]\n",
    "input_customer_dim = customers.shape[0]\n",
    "model = LogisticRegression(input_article_dim, input_customer_dim, output_dim=3)\n",
    "criterion = nn.MSELoss()\n",
    "optimizer = torch.optim.Adam(model.parameters(), lr=0.001)\n",
    "save_dir = \"AI_project/RQ1/models/LogisticRegression.pt\"\n",
    "# train\n",
    "# val_loss_tower = train_logistic(model, customers, articles, train_dataloader, val_dataloader, criterion, optimizer, save_dir, num_epochs=12)"
   ]
  },
  {
   "cell_type": "markdown",
   "metadata": {},
   "source": [
    "#### Conclusion: Takes to much time let's focus on the recent transactions for training."
   ]
  },
  {
   "cell_type": "code",
   "execution_count": 13,
   "metadata": {},
   "outputs": [
    {
     "name": "stderr",
     "output_type": "stream",
     "text": [
      "/Users/karol/Desktop/Antwerp/ai_project/AI_project/RQ1/data_reader.py:206: SettingWithCopyWarning: \n",
      "A value is trying to be set on a copy of a slice from a DataFrame.\n",
      "Try using .loc[row_indexer,col_indexer] = value instead\n",
      "\n",
      "See the caveats in the documentation: https://pandas.pydata.org/pandas-docs/stable/user_guide/indexing.html#returning-a-view-versus-a-copy\n",
      "  transactions[\"purchased\"] = np.ones(len(transactions))\n"
     ]
    }
   ],
   "source": [
    "# transactions_reduced = transactions[transactions[\"t_dat\"]>\"2020-07-22\"]\n",
    "# save_dir = \"data/preprocessed/transactions_negatives_reduced.csv\"\n",
    "# transactions_negatives_reduced = create_random_candidates(transactions_reduced, save_dir=save_dir, num_sample=len(transactions_reduced))"
   ]
  },
  {
   "cell_type": "code",
   "execution_count": 4,
   "metadata": {},
   "outputs": [],
   "source": [
    "# load negatives\n",
    "transactions_negatives_reduced = pd.read_csv(\"data/preprocessed/transactions_negatives_reduced.csv\")\n",
    "train_dataloader, val_dataloader, test_customers = load_data_mf(transactions_negatives_reduced, batch_size=1000)\n",
    "# create model instance\n",
    "input_article_dim = articles.shape[1]\n",
    "input_customer_dim = customers.shape[0]\n",
    "model = LogisticRegression(input_article_dim, input_customer_dim, output_dim=10)\n",
    "criterion = nn.MSELoss()\n",
    "optimizer = torch.optim.Adam(model.parameters(), lr=0.001)\n",
    "save_dir = \"AI_project/RQ1/models/LogisticRegression.pt\"\n",
    "# train\n",
    "val_loss_tower = train_logistic(model, customers, articles, train_dataloader, val_dataloader, criterion, optimizer, save_dir, num_epochs=12)"
   ]
  },
  {
   "cell_type": "code",
   "execution_count": 7,
   "metadata": {},
   "outputs": [],
   "source": [
    "input_customer_dim = customers.shape[0]\n",
    "# load the model\n",
    "LogReg = torch.load(\"AI_project/RQ1/models/LogisticRegression.pt\")\n",
    "# generate targets\n",
    "matrix_full = matrix_representation(transactions, train_test=False)\n",
    "targets = matrix_full[test_customers]\n",
    "targets[targets>1] = 1\n",
    "# articles and customers dataloaders to push through corresponding towers\n",
    "dataloader_cust, dataloader_art = load_customers_articles(customers, articles, test_customers=test_customers, batch_size=100)\n",
    "# generate masks to recommend recent articles\n",
    "last_sold = transactions.groupby(\"article_id\")[\"t_dat\"].max()\n",
    "articles_recently_sold = last_sold[last_sold > '2020-08-22'].index.tolist()\n",
    "# evaluate recommenders\n",
    "recommendations, recall, precision = recommender_logistic(LogReg, input_customer_dim, dataloader_art, targets, articles_recently_sold, evaluate=True, top_k=12)\n",
    "print(f\"Precision: {precision}\\nRecall: {recall}\")"
   ]
  },
  {
   "cell_type": "code",
   "execution_count": 13,
   "metadata": {},
   "outputs": [
    {
     "name": "stdout",
     "output_type": "stream",
     "text": [
      "Generate Articles Embeddings...\n"
     ]
    },
    {
     "name": "stderr",
     "output_type": "stream",
     "text": [
      "  0%|          | 0/1056 [00:00<?, ?it/s]"
     ]
    },
    {
     "name": "stderr",
     "output_type": "stream",
     "text": [
      "100%|██████████| 1056/1056 [00:03<00:00, 274.65it/s]\n"
     ]
    },
    {
     "name": "stdout",
     "output_type": "stream",
     "text": [
      "Get recommendations...\n"
     ]
    },
    {
     "name": "stderr",
     "output_type": "stream",
     "text": [
      "  0%|          | 1/1371980 [00:15<5887:05:29, 15.45s/it]"
     ]
    },
    {
     "ename": "",
     "evalue": "",
     "output_type": "error",
     "traceback": [
      "\u001b[1;31mThe Kernel crashed while executing code in the the current cell or a previous cell. Please review the code in the cell(s) to identify a possible cause of the failure. Click <a href='https://aka.ms/vscodeJupyterKernelCrash'>here</a> for more info. View Jupyter <a href='command:jupyter.viewOutput'>log</a> for further details."
     ]
    }
   ],
   "source": [
    "recommendations, recall, precision = recommender_logistic(LogReg, input_customer_dim, dataloader_art, targets, articles_recently_sold, evaluate=True, top_k=12)\n"
   ]
  },
  {
   "cell_type": "markdown",
   "metadata": {},
   "source": [
    "#### Conclusion: Still too expensive to compute"
   ]
  },
  {
   "cell_type": "markdown",
   "metadata": {},
   "source": [
    "### 4. Deeper TwoTower\n",
    "- Deeper ArticleTower\n",
    "- Increae the size of embeddings\n",
    "- Play with the learning rate"
   ]
  },
  {
   "cell_type": "code",
   "execution_count": 8,
   "metadata": {},
   "outputs": [
    {
     "name": "stderr",
     "output_type": "stream",
     "text": [
      "100%|██████████| 55595/55595 [13:22<00:00, 69.27it/s]\n"
     ]
    },
    {
     "name": "stdout",
     "output_type": "stream",
     "text": [
      "Epoch [1/10] - Train Loss: 0.1818, Validation Loss: 0.1665\n"
     ]
    },
    {
     "name": "stderr",
     "output_type": "stream",
     "text": [
      "100%|██████████| 55595/55595 [13:31<00:00, 68.49it/s]\n"
     ]
    },
    {
     "name": "stdout",
     "output_type": "stream",
     "text": [
      "Epoch [2/10] - Train Loss: 0.1820, Validation Loss: 0.1660\n"
     ]
    },
    {
     "name": "stderr",
     "output_type": "stream",
     "text": [
      "100%|██████████| 55595/55595 [13:36<00:00, 68.07it/s]\n"
     ]
    },
    {
     "name": "stdout",
     "output_type": "stream",
     "text": [
      "Epoch [3/10] - Train Loss: 0.1810, Validation Loss: 0.1658\n"
     ]
    },
    {
     "name": "stderr",
     "output_type": "stream",
     "text": [
      "100%|██████████| 55595/55595 [13:26<00:00, 68.95it/s]\n"
     ]
    },
    {
     "name": "stdout",
     "output_type": "stream",
     "text": [
      "Epoch [4/10] - Train Loss: 0.1821, Validation Loss: 0.1658\n"
     ]
    },
    {
     "name": "stderr",
     "output_type": "stream",
     "text": [
      "100%|██████████| 55595/55595 [13:23<00:00, 69.23it/s]\n"
     ]
    },
    {
     "name": "stdout",
     "output_type": "stream",
     "text": [
      "Epoch [5/10] - Train Loss: 0.1814, Validation Loss: 0.1657\n"
     ]
    },
    {
     "name": "stderr",
     "output_type": "stream",
     "text": [
      "100%|██████████| 55595/55595 [13:19<00:00, 69.51it/s]\n"
     ]
    },
    {
     "name": "stdout",
     "output_type": "stream",
     "text": [
      "Epoch [6/10] - Train Loss: 0.1811, Validation Loss: 0.1656\n"
     ]
    },
    {
     "name": "stderr",
     "output_type": "stream",
     "text": [
      "100%|██████████| 55595/55595 [14:05<00:00, 65.77it/s]\n"
     ]
    },
    {
     "name": "stdout",
     "output_type": "stream",
     "text": [
      "Epoch [7/10] - Train Loss: 0.1806, Validation Loss: 0.1656\n"
     ]
    },
    {
     "name": "stderr",
     "output_type": "stream",
     "text": [
      "100%|██████████| 55595/55595 [14:53<00:00, 62.20it/s]\n"
     ]
    },
    {
     "name": "stdout",
     "output_type": "stream",
     "text": [
      "Epoch [8/10] - Train Loss: 0.1819, Validation Loss: 0.1656\n"
     ]
    },
    {
     "name": "stderr",
     "output_type": "stream",
     "text": [
      "100%|██████████| 55595/55595 [14:13<00:00, 65.14it/s]\n"
     ]
    },
    {
     "name": "stdout",
     "output_type": "stream",
     "text": [
      "Epoch [9/10] - Train Loss: 0.1803, Validation Loss: 0.1655\n"
     ]
    },
    {
     "name": "stderr",
     "output_type": "stream",
     "text": [
      "100%|██████████| 55595/55595 [13:49<00:00, 67.04it/s]\n"
     ]
    },
    {
     "name": "stdout",
     "output_type": "stream",
     "text": [
      "Epoch [10/10] - Train Loss: 0.1812, Validation Loss: 0.1655\n"
     ]
    }
   ],
   "source": [
    "# deep architecture\n",
    "transactions_negatives = pd.read_csv(\"data/preprocessed/transactions_negatives.csv\")\n",
    "train_dataloader, val_dataloader, test_customers = load_data_mf(transactions_negatives, batch_size=1000)\n",
    "input_article_dim = articles.shape[1]\n",
    "input_customer_dim = customers.shape[1]\n",
    "model = TwoTowerFinal(input_article_dim, input_customer_dim, output_dim=10)\n",
    "criterion = nn.MSELoss()\n",
    "optimizer = torch.optim.Adam(model.parameters(), lr=0.001)\n",
    "save_dir = \"AI_project/RQ1/models/TwoTowerFinal.pt\"\n",
    "val_loss_tower = train_two_tower(model, customers, articles, train_dataloader, val_dataloader, criterion, optimizer, save_dir, num_epochs=10)"
   ]
  },
  {
   "cell_type": "code",
   "execution_count": 4,
   "metadata": {},
   "outputs": [
    {
     "name": "stdout",
     "output_type": "stream",
     "text": [
      "Generate Customer Embeddings...\n"
     ]
    },
    {
     "name": "stderr",
     "output_type": "stream",
     "text": [
      "100%|██████████| 1363/1363 [00:09<00:00, 143.60it/s]\n"
     ]
    },
    {
     "name": "stdout",
     "output_type": "stream",
     "text": [
      "Generate Articles Embeddings...\n"
     ]
    },
    {
     "name": "stderr",
     "output_type": "stream",
     "text": [
      "100%|██████████| 1056/1056 [00:04<00:00, 214.37it/s]\n"
     ]
    },
    {
     "name": "stdout",
     "output_type": "stream",
     "text": [
      "Get recommendations...\n"
     ]
    },
    {
     "name": "stderr",
     "output_type": "stream",
     "text": [
      "100%|██████████| 137/137 [00:34<00:00,  3.98it/s]\n"
     ]
    },
    {
     "name": "stdout",
     "output_type": "stream",
     "text": [
      "Precision: 0.005909167651527942\n",
      "Recall: 0.00353529272479942\n"
     ]
    }
   ],
   "source": [
    "# load model\n",
    "TwoTower = torch.load(\"AI_project/RQ1/models/TwoTowerFinal.pt\")\n",
    "matrix_full = matrix_representation(transactions, train_test=False)\n",
    "targets = matrix_full[test_customers]\n",
    "targets[targets>1] = 1\n",
    "# dataloader\n",
    "dataloader_cust, dataloader_art = load_customers_articles(customers, articles, test_customers=test_customers, batch_size=100)\n",
    "# get restrictions\n",
    "last_sold = transactions.groupby(\"article_id\")[\"t_dat\"].max()\n",
    "articles_recently_sold = [last_sold[last_sold > '2020-08-22'].index.tolist()]\n",
    "# generate recommendations\n",
    "recommendations, recall, precision = recommender_two_towers_final(TwoTower, dataloader_cust, dataloader_art, targets, articles_recently_sold, evaluate=True, top_k=12)\n",
    "print(f\"Precision: {precision}\\nRecall: {recall}\")"
   ]
  },
  {
   "cell_type": "markdown",
   "metadata": {},
   "source": [
    "### 5. Train MLP on the recent baskets"
   ]
  },
  {
   "cell_type": "code",
   "execution_count": 7,
   "metadata": {},
   "outputs": [
    {
     "name": "stderr",
     "output_type": "stream",
     "text": [
      " 20%|██        | 1/5 [18:03<1:12:15, 1083.91s/it]"
     ]
    },
    {
     "name": "stdout",
     "output_type": "stream",
     "text": [
      "Epoch [1/5] - Train Loss: 0.6934, Validation Loss: 0.6934%\n"
     ]
    },
    {
     "name": "stderr",
     "output_type": "stream",
     "text": [
      " 40%|████      | 2/5 [36:40<55:09, 1103.19s/it]  "
     ]
    },
    {
     "name": "stdout",
     "output_type": "stream",
     "text": [
      "Epoch [2/5] - Train Loss: 0.6932, Validation Loss: 0.6932%\n"
     ]
    },
    {
     "name": "stderr",
     "output_type": "stream",
     "text": [
      " 60%|██████    | 3/5 [54:52<36:36, 1098.17s/it]"
     ]
    },
    {
     "name": "stdout",
     "output_type": "stream",
     "text": [
      "Epoch [3/5] - Train Loss: 0.6932, Validation Loss: 0.6932%\n"
     ]
    },
    {
     "name": "stderr",
     "output_type": "stream",
     "text": [
      " 80%|████████  | 4/5 [1:13:29<18:25, 1105.66s/it]"
     ]
    },
    {
     "name": "stdout",
     "output_type": "stream",
     "text": [
      "Epoch [4/5] - Train Loss: 0.6932, Validation Loss: 0.6932%\n"
     ]
    },
    {
     "name": "stderr",
     "output_type": "stream",
     "text": [
      "100%|██████████| 5/5 [1:31:51<00:00, 1102.37s/it]"
     ]
    },
    {
     "name": "stdout",
     "output_type": "stream",
     "text": [
      "Epoch [5/5] - Train Loss: 0.6932, Validation Loss: 0.6932%\n"
     ]
    },
    {
     "name": "stderr",
     "output_type": "stream",
     "text": [
      "\n"
     ]
    }
   ],
   "source": [
    "# get recent transactions\n",
    "transactions_recent = transactions[transactions.t_dat>\"2020-07-22\"]\n",
    "# load data\n",
    "train_dataloader_MLP, val_dataloader_MLP = load_data(transactions_recent, train_test=True, batch_size=1000)\n",
    "# create model\n",
    "model = MLP1(input_dim=articles.shape[0], output_dim=articles.shape[0])\n",
    "# get params\n",
    "criterion = nn.BCEWithLogitsLoss()\n",
    "optimizer = torch.optim.Adam(model.parameters(), lr=0.001)\n",
    "save_dir = \"AI_project/RQ1/models/MLP_recent.pt\"\n",
    "# train\n",
    "val_loss_MLP = train_softmax(model, train_dataloader_MLP, val_dataloader_MLP, criterion, optimizer, save_dir, num_epochs=5)"
   ]
  },
  {
   "cell_type": "code",
   "execution_count": 5,
   "metadata": {},
   "outputs": [
    {
     "name": "stderr",
     "output_type": "stream",
     "text": [
      "100%|██████████| 138/138 [01:05<00:00,  2.12it/s]\n"
     ]
    },
    {
     "name": "stdout",
     "output_type": "stream",
     "text": [
      "Precision: 6.559862388664558e-05\n",
      "Recall: 0.0002178401337005198\n"
     ]
    }
   ],
   "source": [
    "# load model\n",
    "MLP_recent = torch.load(\"AI_project/RQ1/models/MLP_recent.pt\")\n",
    "last_sold = transactions.groupby(\"article_id\")[\"t_dat\"].max()\n",
    "articles_recently_sold = last_sold[last_sold > '2020-08-22'].index.tolist()\n",
    "# get recommendations\n",
    "recommendations, recall, precision = recommender_softmax(MLP_recent, val_dataloader_MLP, articles_recently_sold, evaluate=True, top_k=10)\n",
    "print(f\"Precision: {precision}\\nRecall: {recall}\")"
   ]
  },
  {
   "cell_type": "markdown",
   "metadata": {},
   "source": [
    "### Negative Sampling - top sold articles that haven't been bought"
   ]
  },
  {
   "cell_type": "code",
   "execution_count": null,
   "metadata": {},
   "outputs": [],
   "source": []
  },
  {
   "cell_type": "code",
   "execution_count": null,
   "metadata": {},
   "outputs": [],
   "source": []
  },
  {
   "cell_type": "code",
   "execution_count": null,
   "metadata": {},
   "outputs": [],
   "source": []
  },
  {
   "cell_type": "code",
   "execution_count": null,
   "metadata": {},
   "outputs": [],
   "source": []
  },
  {
   "cell_type": "markdown",
   "metadata": {},
   "source": [
    "### Recommenders - candidates"
   ]
  },
  {
   "cell_type": "code",
   "execution_count": 55,
   "metadata": {},
   "outputs": [
    {
     "name": "stdout",
     "output_type": "stream",
     "text": [
      "Generate Customer Embeddings...\n"
     ]
    },
    {
     "name": "stderr",
     "output_type": "stream",
     "text": [
      "100%|██████████| 1363/1363 [00:06<00:00, 204.52it/s]\n"
     ]
    },
    {
     "name": "stdout",
     "output_type": "stream",
     "text": [
      "Generate Articles Embeddings...\n"
     ]
    },
    {
     "name": "stderr",
     "output_type": "stream",
     "text": [
      "100%|██████████| 1056/1056 [00:04<00:00, 244.77it/s]\n"
     ]
    },
    {
     "name": "stdout",
     "output_type": "stream",
     "text": [
      "Get recommendations...\n"
     ]
    },
    {
     "name": "stderr",
     "output_type": "stream",
     "text": [
      "100%|██████████| 137/137 [00:35<00:00,  3.91it/s]\n"
     ]
    },
    {
     "name": "stdout",
     "output_type": "stream",
     "text": [
      "Precision: 0.007291032012273452\n",
      "Recall: 0.0043620242222447494\n"
     ]
    }
   ],
   "source": [
    "transactions[\"t_dat\"] = pd.to_datetime(transactions[\"t_dat\"])\n",
    "transactions[transactions[\"t_dat\"]>=\"2020-09-01\"].groupby(\"article_id\").count()[\"t_dat\"]\n",
    "grouped_counts = transactions[transactions[\"t_dat\"]>=\"2020-09-01\"].groupby(\"article_id\")[\"customer_id\"].count()\n",
    "\n",
    "canditates = [list(grouped_counts.sort_values(ascending=False)[0:1000].index)]\n",
    "\n",
    "# load model\n",
    "TwoTower = torch.load(\"AI_project/RQ1/models/TwoTowerFinal.pt\")\n",
    "matrix_full = matrix_representation(transactions, train_test=False)\n",
    "targets = matrix_full[test_customers]\n",
    "targets[targets>1] = 1\n",
    "# dataloader\n",
    "dataloader_cust, dataloader_art = load_customers_articles(customers, articles, test_customers=test_customers, batch_size=100)\n",
    "\n",
    "# generate recommendations\n",
    "recommendations, recall, precision = recommender_two_towers_final(TwoTower, dataloader_cust, dataloader_art, targets, canditates, evaluate=True, top_k=12)\n",
    "print(f\"Precision: {precision}\\nRecall: {recall}\")"
   ]
  },
  {
   "cell_type": "code",
   "execution_count": 57,
   "metadata": {},
   "outputs": [
    {
     "name": "stdout",
     "output_type": "stream",
     "text": [
      "Generate Customer Embeddings...\n"
     ]
    },
    {
     "name": "stderr",
     "output_type": "stream",
     "text": [
      "100%|██████████| 1363/1363 [00:06<00:00, 207.47it/s]\n"
     ]
    },
    {
     "name": "stdout",
     "output_type": "stream",
     "text": [
      "Generate Articles Embeddings...\n"
     ]
    },
    {
     "name": "stderr",
     "output_type": "stream",
     "text": [
      "100%|██████████| 1056/1056 [00:04<00:00, 243.61it/s]\n"
     ]
    },
    {
     "name": "stdout",
     "output_type": "stream",
     "text": [
      "Get recommendations...\n"
     ]
    },
    {
     "name": "stderr",
     "output_type": "stream",
     "text": [
      "100%|██████████| 137/137 [00:32<00:00,  4.16it/s]\n"
     ]
    },
    {
     "name": "stdout",
     "output_type": "stream",
     "text": [
      "Precision: 0.007331405207408114\n",
      "Recall: 0.004386178396140895\n"
     ]
    }
   ],
   "source": [
    "transactions[\"t_dat\"] = pd.to_datetime(transactions[\"t_dat\"])\n",
    "transactions[transactions[\"t_dat\"]>=\"2020-09-01\"].groupby(\"article_id\").count()[\"t_dat\"]\n",
    "grouped_counts = transactions[transactions[\"t_dat\"]>=\"2020-09-01\"].groupby(\"article_id\")[\"customer_id\"].count()\n",
    "\n",
    "canditates = [list(grouped_counts.sort_values(ascending=False)[0:5000].index)]\n",
    "\n",
    "# load model\n",
    "TwoTower = torch.load(\"AI_project/RQ1/models/TwoTowerFinal.pt\")\n",
    "matrix_full = matrix_representation(transactions, train_test=False)\n",
    "targets = matrix_full[test_customers]\n",
    "targets[targets>1] = 1\n",
    "# dataloader\n",
    "dataloader_cust, dataloader_art = load_customers_articles(customers, articles, test_customers=test_customers, batch_size=100)\n",
    "\n",
    "# generate recommendations\n",
    "recommendations, recall, precision = recommender_two_towers_final(TwoTower, dataloader_cust, dataloader_art, targets, canditates, evaluate=True, top_k=12)\n",
    "print(f\"Precision: {precision}\\nRecall: {recall}\")"
   ]
  },
  {
   "cell_type": "code",
   "execution_count": 58,
   "metadata": {},
   "outputs": [
    {
     "name": "stdout",
     "output_type": "stream",
     "text": [
      "Generate Customer Embeddings...\n"
     ]
    },
    {
     "name": "stderr",
     "output_type": "stream",
     "text": [
      "100%|██████████| 1363/1363 [00:06<00:00, 206.03it/s]\n"
     ]
    },
    {
     "name": "stdout",
     "output_type": "stream",
     "text": [
      "Generate Articles Embeddings...\n"
     ]
    },
    {
     "name": "stderr",
     "output_type": "stream",
     "text": [
      "100%|██████████| 1056/1056 [00:04<00:00, 243.62it/s]\n"
     ]
    },
    {
     "name": "stdout",
     "output_type": "stream",
     "text": [
      "Get recommendations...\n"
     ]
    },
    {
     "name": "stderr",
     "output_type": "stream",
     "text": [
      "100%|██████████| 137/137 [00:34<00:00,  3.98it/s]\n"
     ]
    },
    {
     "name": "stdout",
     "output_type": "stream",
     "text": [
      "Precision: 0.004864358298649088\n",
      "Recall: 0.0029102119821537253\n"
     ]
    }
   ],
   "source": [
    "transactions[\"t_dat\"] = pd.to_datetime(transactions[\"t_dat\"])\n",
    "transactions[transactions[\"t_dat\"]>=\"2020-09-01\"].groupby(\"article_id\").count()[\"t_dat\"]\n",
    "grouped_counts = transactions[transactions[\"t_dat\"]>=\"2020-09-01\"].groupby(\"article_id\")[\"customer_id\"].count()\n",
    "\n",
    "canditates = [list(grouped_counts.sort_values(ascending=False)[0:12].index)]\n",
    "\n",
    "# load model\n",
    "TwoTower = torch.load(\"AI_project/RQ1/models/TwoTowerFinal.pt\")\n",
    "matrix_full = matrix_representation(transactions, train_test=False)\n",
    "targets = matrix_full[test_customers]\n",
    "targets[targets>1] = 1\n",
    "# dataloader\n",
    "dataloader_cust, dataloader_art = load_customers_articles(customers, articles, test_customers=test_customers, batch_size=100)\n",
    "\n",
    "# generate recommendations\n",
    "recommendations, recall, precision = recommender_two_towers_final(TwoTower, dataloader_cust, dataloader_art, targets, canditates, evaluate=True, top_k=12)\n",
    "print(f\"Precision: {precision}\\nRecall: {recall}\")\n"
   ]
  },
  {
   "cell_type": "code",
   "execution_count": 66,
   "metadata": {},
   "outputs": [],
   "source": [
    "with open('data/preprocessed/customers_decoding.pickle', 'rb') as file:\n",
    "    customer_dict = pickle.load(file)\n",
    "\n",
    "with open('data/preprocessed/articles_decoding.pickle', 'rb') as file:\n",
    "    article_dict = pickle.load(file)\n",
    "\n",
    "transactions = pd.read_csv(\"data/preprocessed/transactions.csv\") \n",
    "# get candidates\n",
    "transactions[\"t_dat\"] = pd.to_datetime(transactions[\"t_dat\"])\n",
    "transactions[transactions[\"t_dat\"]>=\"2020-09-01\"].groupby(\"article_id\").count()[\"t_dat\"]\n",
    "grouped_counts = transactions[transactions[\"t_dat\"]>=\"2020-09-01\"].groupby(\"article_id\")[\"customer_id\"].count()\n",
    "canditates = [list(grouped_counts.sort_values(ascending=False)[0:5000].index)]\n",
    "# load data\n",
    "dataloader_cust, dataloader_art = load_customers_articles(customers, articles, batch_size=1000)\n",
    "TwoTower = torch.load(\"AI_project/RQ1/models/TwoTowerFinal.pt\")\n",
    "recommendations = recommender_two_towers_final(TwoTower, dataloader_cust, dataloader_art, targets, canditates, evaluate=False, top_k=12)\n",
    "output = pd.DataFrame(recommendations).reset_index()\n",
    "\n",
    "for i in np.arange(1,12,1):\n",
    "    output[i] = output[i].apply(lambda x: article_dict[\"article_id\"][x])\n",
    "    \n",
    "preds = [' '.join(['0' + str(article_dict[\"article_id\"][p.item()]) for p in ps]) for ps in recommendations]\n",
    "submission = pd.DataFrame(zip(np.arange(len(preds)), preds), columns=[\"customer_id\",\"prediction\"])\n",
    "submission[\"customer_id\"] = submission[\"customer_id\"].apply(lambda x: customer_dict[\"customer_id\"][x])\n",
    "submission.to_csv(\"submission/TwoTower/TwoTowerFinal_submission.csv.gz\", index=False)"
   ]
  },
  {
   "cell_type": "code",
   "execution_count": null,
   "metadata": {},
   "outputs": [],
   "source": []
  }
 ],
 "metadata": {
  "kernelspec": {
   "display_name": "ai_project",
   "language": "python",
   "name": "python3"
  },
  "language_info": {
   "codemirror_mode": {
    "name": "ipython",
    "version": 3
   },
   "file_extension": ".py",
   "mimetype": "text/x-python",
   "name": "python",
   "nbconvert_exporter": "python",
   "pygments_lexer": "ipython3",
   "version": "3.9.17"
  }
 },
 "nbformat": 4,
 "nbformat_minor": 2
}
