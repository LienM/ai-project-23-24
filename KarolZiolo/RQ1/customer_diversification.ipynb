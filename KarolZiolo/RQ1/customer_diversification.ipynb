{
 "cells": [
  {
   "cell_type": "code",
   "execution_count": 18,
   "metadata": {},
   "outputs": [],
   "source": [
    "import os\n",
    "os.chdir(\"/Users/karol/Desktop/Antwerp/ai_project\")\n",
    "import torch\n",
    "import torch.nn as nn\n",
    "from model import TwoTowerCustomer, TwoTowerFinal\n",
    "from data_reader import load_data_mf, load_customers_articles, matrix_representation\n",
    "from helper import train_two_tower\n",
    "import pandas as pd\n",
    "import numpy as np\n",
    "from scipy.sparse import csr_matrix\n",
    "from sklearn.preprocessing import OneHotEncoder\n",
    "from sklearn.compose import ColumnTransformer\n",
    "from recommenders import recommender_two_towers_customer, recommender_two_towers_final\n",
    "import matplotlib.pyplot as plt\n",
    "from sklearn import preprocessing \n",
    "from scipy.sparse import csr_array\n",
    "from sklearn.cluster import KMeans\n",
    "import seaborn as sns\n",
    "from sklearn.metrics import silhouette_score"
   ]
  },
  {
   "cell_type": "code",
   "execution_count": 2,
   "metadata": {},
   "outputs": [],
   "source": [
    "# read customers and transactions data\n",
    "customers = pd.read_csv(\"data/preprocessed/customers.csv\") \n",
    "transactions = pd.read_csv(\"data/preprocessed/transactions.csv\") \n",
    "articles = pd.read_csv(\"data/preprocessed/articles.csv\") \n"
   ]
  },
  {
   "cell_type": "markdown",
   "metadata": {},
   "source": [
    "# Sales channel preference"
   ]
  },
  {
   "cell_type": "code",
   "execution_count": 3,
   "metadata": {},
   "outputs": [],
   "source": [
    "def sales_channel_preference(customers, transactions):\n",
    "    grouped = transactions.groupby([\"customer_id\", \"sales_channel_id\"])[\"article_id\"].count()\n",
    "    percentages = grouped / grouped.groupby(level=0).transform(\"sum\")\n",
    "    # create first_cahnnel feature\n",
    "    first_sales_channel = percentages[percentages.index.get_level_values('sales_channel_id') == 1]\n",
    "    first_sales_channel = first_sales_channel.rename(\"first_channel\")\n",
    "    customers = customers.merge(first_sales_channel, how=\"left\", on=\"customer_id\")\n",
    "    customers[\"first_channel\"] = customers[\"first_channel\"].fillna(0)\n",
    "    # create second_cahnnel feature\n",
    "    second_sales_channel = percentages[percentages.index.get_level_values('sales_channel_id') == 2]\n",
    "    second_sales_channel = second_sales_channel.rename(\"second_channel\")\n",
    "    customers = customers.merge(second_sales_channel, how=\"left\", on=\"customer_id\")\n",
    "    customers[\"second_channel\"] = customers[\"second_channel\"].fillna(0)\n",
    "    return customers"
   ]
  },
  {
   "cell_type": "markdown",
   "metadata": {},
   "source": [
    "# Favourite colour - Determine favourite color depending on the season.\n"
   ]
  },
  {
   "cell_type": "code",
   "execution_count": 4,
   "metadata": {},
   "outputs": [],
   "source": [
    "def favourite_colour(customers, articles, transactions, quarter=4):\n",
    "    # get specific quarter we are interested in\n",
    "    transactions[\"t_dat\"] = pd.to_datetime(transactions[\"t_dat\"])\n",
    "    transactions[\"quarter\"] = transactions[\"t_dat\"].dt.quarter  \n",
    "    transactions = transactions[transactions[\"quarter\"]==quarter]\n",
    "    # merge colour information\n",
    "    transactions = transactions.merge(articles[[\"article_id\",\"perceived_colour_master_name\"]], how=\"left\", on=\"article_id\")\n",
    "    # get favourite colors\n",
    "    grouped = transactions.groupby([\"customer_id\",\"perceived_colour_master_name\"])[\"article_id\"].count()\n",
    "    max_indices = grouped.groupby(level=0).idxmax()\n",
    "    favourite_color = grouped.loc[max_indices]\n",
    "    favourite_color = favourite_color.rename(\"favourite_color\")\n",
    "    customers = customers.merge(favourite_color, how=\"left\", on=\"customer_id\")\n",
    "    # Fill NAs with -1 indicating customer didn't buy anythin\n",
    "    customers[\"favourite_color\"] = customers[\"favourite_color\"].fillna(-1)\n",
    "    return customers\n",
    "    "
   ]
  },
  {
   "cell_type": "markdown",
   "metadata": {},
   "source": [
    "# Favourite garment group - preferred if over 50% otherwise mixed"
   ]
  },
  {
   "cell_type": "code",
   "execution_count": 5,
   "metadata": {},
   "outputs": [],
   "source": [
    "def preferred_garment(customers, articles, transactions):\n",
    "    transactions = transactions.merge(articles[[\"article_id\",\"garment_group_name\"]], how=\"left\", on=\"article_id\")\n",
    "    grouped = transactions.groupby([\"customer_id\", \"garment_group_name\"])[\"article_id\"].count()\n",
    "    percentages = grouped / grouped.groupby(level=0).transform(\"sum\")\n",
    "    preferred_garment = percentages[percentages > 0.5]\n",
    "    df_garment = pd.DataFrame(preferred_garment).reset_index()[[\"customer_id\",\"garment_group_name\"]]\n",
    "    df_garment.rename(columns={\"garment_group_name\":\"preferred_garment\"}, inplace=True)\n",
    "    customers = customers.merge(df_garment, how=\"left\", on=\"customer_id\")\n",
    "    customers[\"preferred_garment\"] = customers[\"preferred_garment\"].fillna(-1)\n",
    "    return customers"
   ]
  },
  {
   "cell_type": "markdown",
   "metadata": {},
   "source": [
    "# Average price"
   ]
  },
  {
   "cell_type": "code",
   "execution_count": 6,
   "metadata": {},
   "outputs": [],
   "source": [
    "def avg_price(customers, transactions):\n",
    "    avg_grouped = transactions.groupby(\"customer_id\")[\"price\"].mean()\n",
    "    avg_grouped = avg_grouped.rename(\"avg_price\")\n",
    "    customers = customers.merge(avg_grouped, how=\"left\", on=\"customer_id\")\n",
    "    customers[\"avg_price\"] = customers[\"avg_price\"].fillna(0)\n",
    "    return customers"
   ]
  },
  {
   "cell_type": "markdown",
   "metadata": {},
   "source": [
    "# Amount of recent purchases"
   ]
  },
  {
   "cell_type": "code",
   "execution_count": 7,
   "metadata": {},
   "outputs": [],
   "source": [
    "def amount_purchases(customers, transactions, date_thrashold=\"2020-08-22\"):\n",
    "    # select recent transactions\n",
    "    transactions[\"t_dat\"] = pd.to_datetime(transactions[\"t_dat\"])\n",
    "    transactions = transactions[transactions[\"t_dat\"]>date_thrashold]\n",
    "    # get counts\n",
    "    grouped = transactions.groupby(\"customer_id\")[\"article_id\"].count()\n",
    "    grouped = grouped.rename(\"amount_purchases\")\n",
    "    customers = customers.merge(grouped, how=\"left\", on=\"customer_id\")\n",
    "    customers[\"amount_purchases\"] = customers[\"amount_purchases\"].fillna(0)\n",
    "    return customers"
   ]
  },
  {
   "cell_type": "markdown",
   "metadata": {},
   "source": [
    "# Man, Lady & Kids detection"
   ]
  },
  {
   "cell_type": "code",
   "execution_count": 8,
   "metadata": {},
   "outputs": [],
   "source": [
    "def sex_kid_estimation(customers, articles, transactions):\n",
    "    transactions = transactions.merge(articles[[\"article_id\", \"index_name\"]], how=\"left\", on=\"article_id\")\n",
    "    grouped = transactions.groupby([\"customer_id\", \"index_name\"])[\"article_id\"].count()\n",
    "    percentages = grouped/grouped.groupby(level=0).transform(\"sum\")\n",
    "    # get menswear \n",
    "    manswear = percentages[percentages.index.get_level_values('index_name') == 3]\n",
    "    manswear = manswear.rename(\"manswear\")\n",
    "    customers = customers.merge(manswear, how=\"left\", on=\"customer_id\")\n",
    "    customers[\"manswear\"] = customers[\"manswear\"].fillna(0)\n",
    "    # get ledieswear\n",
    "    ladieswear = percentages[percentages.index.get_level_values('index_name').isin([0,1,4])].groupby(\"customer_id\").sum()\n",
    "    ladieswear = ladieswear.rename(\"ladieswear\")\n",
    "    customers = customers.merge(ladieswear, how=\"left\", on=\"customer_id\")\n",
    "    customers[\"ladieswear\"] = customers[\"ladieswear\"].fillna(0)\n",
    "    # get kids \n",
    "    kids = percentages[percentages.index.get_level_values('index_name').isin([2,6,8,9])].groupby(\"customer_id\").sum()\n",
    "    kids = kids.rename(\"kids\")\n",
    "    customers = customers.merge(kids, how=\"left\", on=\"customer_id\")\n",
    "    customers[\"kids\"] = customers[\"kids\"].fillna(0)\n",
    "    return customers"
   ]
  },
  {
   "cell_type": "markdown",
   "metadata": {},
   "source": [
    "# Generate Features"
   ]
  },
  {
   "cell_type": "code",
   "execution_count": 9,
   "metadata": {},
   "outputs": [
    {
     "data": {
      "text/html": [
       "<div>\n",
       "<style scoped>\n",
       "    .dataframe tbody tr th:only-of-type {\n",
       "        vertical-align: middle;\n",
       "    }\n",
       "\n",
       "    .dataframe tbody tr th {\n",
       "        vertical-align: top;\n",
       "    }\n",
       "\n",
       "    .dataframe thead th {\n",
       "        text-align: right;\n",
       "    }\n",
       "</style>\n",
       "<table border=\"1\" class=\"dataframe\">\n",
       "  <thead>\n",
       "    <tr style=\"text-align: right;\">\n",
       "      <th></th>\n",
       "      <th>customer_id</th>\n",
       "      <th>FN</th>\n",
       "      <th>Active</th>\n",
       "      <th>club_member_status</th>\n",
       "      <th>fashion_news_frequency</th>\n",
       "      <th>age</th>\n",
       "      <th>postal_code</th>\n",
       "      <th>first_channel</th>\n",
       "      <th>second_channel</th>\n",
       "      <th>favourite_color</th>\n",
       "      <th>preferred_garment</th>\n",
       "      <th>avg_price</th>\n",
       "      <th>amount_purchases</th>\n",
       "      <th>manswear</th>\n",
       "      <th>ladieswear</th>\n",
       "      <th>kids</th>\n",
       "    </tr>\n",
       "  </thead>\n",
       "  <tbody>\n",
       "    <tr>\n",
       "      <th>0</th>\n",
       "      <td>0</td>\n",
       "      <td>-1.0</td>\n",
       "      <td>-1.0</td>\n",
       "      <td>0</td>\n",
       "      <td>0</td>\n",
       "      <td>49.0</td>\n",
       "      <td>0</td>\n",
       "      <td>0.428571</td>\n",
       "      <td>0.571429</td>\n",
       "      <td>5.0</td>\n",
       "      <td>-1.0</td>\n",
       "      <td>0.030904</td>\n",
       "      <td>1.0</td>\n",
       "      <td>0.047619</td>\n",
       "      <td>0.619048</td>\n",
       "      <td>0.238095</td>\n",
       "    </tr>\n",
       "    <tr>\n",
       "      <th>1</th>\n",
       "      <td>1</td>\n",
       "      <td>-1.0</td>\n",
       "      <td>-1.0</td>\n",
       "      <td>0</td>\n",
       "      <td>0</td>\n",
       "      <td>25.0</td>\n",
       "      <td>1</td>\n",
       "      <td>0.058140</td>\n",
       "      <td>0.941860</td>\n",
       "      <td>1.0</td>\n",
       "      <td>-1.0</td>\n",
       "      <td>0.030255</td>\n",
       "      <td>0.0</td>\n",
       "      <td>0.000000</td>\n",
       "      <td>0.720930</td>\n",
       "      <td>0.046512</td>\n",
       "    </tr>\n",
       "    <tr>\n",
       "      <th>2</th>\n",
       "      <td>2</td>\n",
       "      <td>-1.0</td>\n",
       "      <td>-1.0</td>\n",
       "      <td>0</td>\n",
       "      <td>0</td>\n",
       "      <td>24.0</td>\n",
       "      <td>2</td>\n",
       "      <td>0.000000</td>\n",
       "      <td>1.000000</td>\n",
       "      <td>-1.0</td>\n",
       "      <td>-1.0</td>\n",
       "      <td>0.039154</td>\n",
       "      <td>1.0</td>\n",
       "      <td>0.222222</td>\n",
       "      <td>0.666667</td>\n",
       "      <td>0.000000</td>\n",
       "    </tr>\n",
       "    <tr>\n",
       "      <th>3</th>\n",
       "      <td>3</td>\n",
       "      <td>-1.0</td>\n",
       "      <td>-1.0</td>\n",
       "      <td>0</td>\n",
       "      <td>0</td>\n",
       "      <td>54.0</td>\n",
       "      <td>3</td>\n",
       "      <td>0.000000</td>\n",
       "      <td>1.000000</td>\n",
       "      <td>-1.0</td>\n",
       "      <td>3.0</td>\n",
       "      <td>0.030492</td>\n",
       "      <td>0.0</td>\n",
       "      <td>0.000000</td>\n",
       "      <td>0.000000</td>\n",
       "      <td>0.000000</td>\n",
       "    </tr>\n",
       "    <tr>\n",
       "      <th>4</th>\n",
       "      <td>4</td>\n",
       "      <td>1.0</td>\n",
       "      <td>1.0</td>\n",
       "      <td>0</td>\n",
       "      <td>1</td>\n",
       "      <td>52.0</td>\n",
       "      <td>4</td>\n",
       "      <td>0.153846</td>\n",
       "      <td>0.846154</td>\n",
       "      <td>4.0</td>\n",
       "      <td>-1.0</td>\n",
       "      <td>0.036130</td>\n",
       "      <td>0.0</td>\n",
       "      <td>0.000000</td>\n",
       "      <td>0.846154</td>\n",
       "      <td>0.000000</td>\n",
       "    </tr>\n",
       "    <tr>\n",
       "      <th>...</th>\n",
       "      <td>...</td>\n",
       "      <td>...</td>\n",
       "      <td>...</td>\n",
       "      <td>...</td>\n",
       "      <td>...</td>\n",
       "      <td>...</td>\n",
       "      <td>...</td>\n",
       "      <td>...</td>\n",
       "      <td>...</td>\n",
       "      <td>...</td>\n",
       "      <td>...</td>\n",
       "      <td>...</td>\n",
       "      <td>...</td>\n",
       "      <td>...</td>\n",
       "      <td>...</td>\n",
       "      <td>...</td>\n",
       "    </tr>\n",
       "    <tr>\n",
       "      <th>1371975</th>\n",
       "      <td>1371975</td>\n",
       "      <td>-1.0</td>\n",
       "      <td>-1.0</td>\n",
       "      <td>0</td>\n",
       "      <td>0</td>\n",
       "      <td>24.0</td>\n",
       "      <td>62927</td>\n",
       "      <td>0.254902</td>\n",
       "      <td>0.745098</td>\n",
       "      <td>1.0</td>\n",
       "      <td>-1.0</td>\n",
       "      <td>0.025340</td>\n",
       "      <td>6.0</td>\n",
       "      <td>0.019608</td>\n",
       "      <td>0.901961</td>\n",
       "      <td>0.000000</td>\n",
       "    </tr>\n",
       "    <tr>\n",
       "      <th>1371976</th>\n",
       "      <td>1371976</td>\n",
       "      <td>-1.0</td>\n",
       "      <td>-1.0</td>\n",
       "      <td>0</td>\n",
       "      <td>0</td>\n",
       "      <td>21.0</td>\n",
       "      <td>6316</td>\n",
       "      <td>0.333333</td>\n",
       "      <td>0.666667</td>\n",
       "      <td>7.0</td>\n",
       "      <td>-1.0</td>\n",
       "      <td>0.021516</td>\n",
       "      <td>0.0</td>\n",
       "      <td>0.023810</td>\n",
       "      <td>0.321429</td>\n",
       "      <td>0.083333</td>\n",
       "    </tr>\n",
       "    <tr>\n",
       "      <th>1371977</th>\n",
       "      <td>1371977</td>\n",
       "      <td>1.0</td>\n",
       "      <td>1.0</td>\n",
       "      <td>0</td>\n",
       "      <td>1</td>\n",
       "      <td>21.0</td>\n",
       "      <td>273671</td>\n",
       "      <td>0.244444</td>\n",
       "      <td>0.755556</td>\n",
       "      <td>5.0</td>\n",
       "      <td>-1.0</td>\n",
       "      <td>0.017532</td>\n",
       "      <td>4.0</td>\n",
       "      <td>0.111111</td>\n",
       "      <td>0.422222</td>\n",
       "      <td>0.000000</td>\n",
       "    </tr>\n",
       "    <tr>\n",
       "      <th>1371978</th>\n",
       "      <td>1371978</td>\n",
       "      <td>1.0</td>\n",
       "      <td>1.0</td>\n",
       "      <td>0</td>\n",
       "      <td>1</td>\n",
       "      <td>18.0</td>\n",
       "      <td>218323</td>\n",
       "      <td>0.142857</td>\n",
       "      <td>0.857143</td>\n",
       "      <td>-1.0</td>\n",
       "      <td>-1.0</td>\n",
       "      <td>0.029886</td>\n",
       "      <td>0.0</td>\n",
       "      <td>0.000000</td>\n",
       "      <td>0.428571</td>\n",
       "      <td>0.000000</td>\n",
       "    </tr>\n",
       "    <tr>\n",
       "      <th>1371979</th>\n",
       "      <td>1371979</td>\n",
       "      <td>-1.0</td>\n",
       "      <td>-1.0</td>\n",
       "      <td>1</td>\n",
       "      <td>0</td>\n",
       "      <td>65.0</td>\n",
       "      <td>352898</td>\n",
       "      <td>0.000000</td>\n",
       "      <td>1.000000</td>\n",
       "      <td>1.0</td>\n",
       "      <td>7.0</td>\n",
       "      <td>0.084729</td>\n",
       "      <td>0.0</td>\n",
       "      <td>0.000000</td>\n",
       "      <td>1.000000</td>\n",
       "      <td>0.000000</td>\n",
       "    </tr>\n",
       "  </tbody>\n",
       "</table>\n",
       "<p>1371980 rows × 16 columns</p>\n",
       "</div>"
      ],
      "text/plain": [
       "         customer_id   FN  Active  club_member_status  fashion_news_frequency  \\\n",
       "0                  0 -1.0    -1.0                   0                       0   \n",
       "1                  1 -1.0    -1.0                   0                       0   \n",
       "2                  2 -1.0    -1.0                   0                       0   \n",
       "3                  3 -1.0    -1.0                   0                       0   \n",
       "4                  4  1.0     1.0                   0                       1   \n",
       "...              ...  ...     ...                 ...                     ...   \n",
       "1371975      1371975 -1.0    -1.0                   0                       0   \n",
       "1371976      1371976 -1.0    -1.0                   0                       0   \n",
       "1371977      1371977  1.0     1.0                   0                       1   \n",
       "1371978      1371978  1.0     1.0                   0                       1   \n",
       "1371979      1371979 -1.0    -1.0                   1                       0   \n",
       "\n",
       "          age  postal_code  first_channel  second_channel  favourite_color  \\\n",
       "0        49.0            0       0.428571        0.571429              5.0   \n",
       "1        25.0            1       0.058140        0.941860              1.0   \n",
       "2        24.0            2       0.000000        1.000000             -1.0   \n",
       "3        54.0            3       0.000000        1.000000             -1.0   \n",
       "4        52.0            4       0.153846        0.846154              4.0   \n",
       "...       ...          ...            ...             ...              ...   \n",
       "1371975  24.0        62927       0.254902        0.745098              1.0   \n",
       "1371976  21.0         6316       0.333333        0.666667              7.0   \n",
       "1371977  21.0       273671       0.244444        0.755556              5.0   \n",
       "1371978  18.0       218323       0.142857        0.857143             -1.0   \n",
       "1371979  65.0       352898       0.000000        1.000000              1.0   \n",
       "\n",
       "         preferred_garment  avg_price  amount_purchases  manswear  ladieswear  \\\n",
       "0                     -1.0   0.030904               1.0  0.047619    0.619048   \n",
       "1                     -1.0   0.030255               0.0  0.000000    0.720930   \n",
       "2                     -1.0   0.039154               1.0  0.222222    0.666667   \n",
       "3                      3.0   0.030492               0.0  0.000000    0.000000   \n",
       "4                     -1.0   0.036130               0.0  0.000000    0.846154   \n",
       "...                    ...        ...               ...       ...         ...   \n",
       "1371975               -1.0   0.025340               6.0  0.019608    0.901961   \n",
       "1371976               -1.0   0.021516               0.0  0.023810    0.321429   \n",
       "1371977               -1.0   0.017532               4.0  0.111111    0.422222   \n",
       "1371978               -1.0   0.029886               0.0  0.000000    0.428571   \n",
       "1371979                7.0   0.084729               0.0  0.000000    1.000000   \n",
       "\n",
       "             kids  \n",
       "0        0.238095  \n",
       "1        0.046512  \n",
       "2        0.000000  \n",
       "3        0.000000  \n",
       "4        0.000000  \n",
       "...           ...  \n",
       "1371975  0.000000  \n",
       "1371976  0.083333  \n",
       "1371977  0.000000  \n",
       "1371978  0.000000  \n",
       "1371979  0.000000  \n",
       "\n",
       "[1371980 rows x 16 columns]"
      ]
     },
     "execution_count": 9,
     "metadata": {},
     "output_type": "execute_result"
    }
   ],
   "source": [
    "customers = sales_channel_preference(customers, transactions)\n",
    "customers = favourite_colour(customers, articles, transactions, quarter=4)\n",
    "customers = preferred_garment(customers, articles, transactions)\n",
    "customers = avg_price(customers, transactions)\n",
    "customers = amount_purchases(customers, transactions, date_thrashold=\"2020-08-22\")\n",
    "customers = sex_kid_estimation(customers, articles, transactions)\n",
    "customers\n"
   ]
  },
  {
   "cell_type": "code",
   "execution_count": 10,
   "metadata": {},
   "outputs": [],
   "source": [
    "# one hot encoding \n",
    "articles = articles.set_index(\"article_id\")\n",
    "customers = customers.set_index(\"customer_id\")\n",
    "\n",
    "article_enc = OneHotEncoder(sparse_output=True)\n",
    "articles = article_enc.fit_transform(articles)\n",
    "\n",
    "customers_categorical = [\"FN\",'Active',\"club_member_status\", \"fashion_news_frequency\", \"favourite_color\", \"preferred_garment\"]\n",
    "customers_cont = [\"age\",\"first_channel\", \"second_channel\", \"avg_price\", \"amount_purchases\",\"manswear\",\"ladieswear\", \"kids\"]\n",
    "\n",
    "preprocessor = ColumnTransformer(\n",
    "    transformers=[\n",
    "        ('cat', OneHotEncoder(sparse_output=True), customers_categorical),\n",
    "        ('cont', 'passthrough', customers_cont)  # 'passthrough' means no transformation for continuous variables\n",
    "    ],\n",
    "    remainder='drop'  # Drop any columns not explicitly transformed\n",
    ")\n",
    "customers = csr_matrix(preprocessor.fit_transform(customers))"
   ]
  },
  {
   "cell_type": "markdown",
   "metadata": {},
   "source": [
    "# Train the model"
   ]
  },
  {
   "cell_type": "code",
   "execution_count": 11,
   "metadata": {},
   "outputs": [
    {
     "name": "stderr",
     "output_type": "stream",
     "text": [
      "100%|██████████| 55595/55595 [15:12<00:00, 60.90it/s]\n"
     ]
    },
    {
     "name": "stdout",
     "output_type": "stream",
     "text": [
      "Epoch [1/10] - Train Loss: 0.1106, Validation Loss: 0.1005\n"
     ]
    },
    {
     "name": "stderr",
     "output_type": "stream",
     "text": [
      "100%|██████████| 55595/55595 [15:20<00:00, 60.40it/s]\n"
     ]
    },
    {
     "name": "stdout",
     "output_type": "stream",
     "text": [
      "Epoch [2/10] - Train Loss: 0.1075, Validation Loss: 0.0984\n"
     ]
    },
    {
     "name": "stderr",
     "output_type": "stream",
     "text": [
      "100%|██████████| 55595/55595 [15:07<00:00, 61.25it/s]\n"
     ]
    },
    {
     "name": "stdout",
     "output_type": "stream",
     "text": [
      "Epoch [3/10] - Train Loss: 0.1068, Validation Loss: 0.0979\n"
     ]
    },
    {
     "name": "stderr",
     "output_type": "stream",
     "text": [
      "100%|██████████| 55595/55595 [15:06<00:00, 61.31it/s]\n"
     ]
    },
    {
     "name": "stdout",
     "output_type": "stream",
     "text": [
      "Epoch [4/10] - Train Loss: 0.1083, Validation Loss: 0.0978\n"
     ]
    },
    {
     "name": "stderr",
     "output_type": "stream",
     "text": [
      "100%|██████████| 55595/55595 [15:26<00:00, 59.98it/s]\n"
     ]
    },
    {
     "name": "stdout",
     "output_type": "stream",
     "text": [
      "Epoch [5/10] - Train Loss: 0.1078, Validation Loss: 0.0976\n"
     ]
    },
    {
     "name": "stderr",
     "output_type": "stream",
     "text": [
      "100%|██████████| 55595/55595 [15:20<00:00, 60.37it/s]\n"
     ]
    },
    {
     "name": "stdout",
     "output_type": "stream",
     "text": [
      "Epoch [6/10] - Train Loss: 0.1080, Validation Loss: 0.0974\n"
     ]
    },
    {
     "name": "stderr",
     "output_type": "stream",
     "text": [
      "100%|██████████| 55595/55595 [15:08<00:00, 61.22it/s]\n"
     ]
    },
    {
     "name": "stdout",
     "output_type": "stream",
     "text": [
      "Epoch [7/10] - Train Loss: 0.1085, Validation Loss: 0.0972\n"
     ]
    },
    {
     "name": "stderr",
     "output_type": "stream",
     "text": [
      "100%|██████████| 55595/55595 [15:21<00:00, 60.36it/s]\n"
     ]
    },
    {
     "name": "stdout",
     "output_type": "stream",
     "text": [
      "Epoch [8/10] - Train Loss: 0.1071, Validation Loss: 0.0972\n"
     ]
    },
    {
     "name": "stderr",
     "output_type": "stream",
     "text": [
      "100%|██████████| 55595/55595 [15:20<00:00, 60.39it/s]\n"
     ]
    },
    {
     "name": "stdout",
     "output_type": "stream",
     "text": [
      "Epoch [9/10] - Train Loss: 0.1068, Validation Loss: 0.0971\n"
     ]
    },
    {
     "name": "stderr",
     "output_type": "stream",
     "text": [
      "100%|██████████| 55595/55595 [15:06<00:00, 61.35it/s]\n"
     ]
    },
    {
     "name": "stdout",
     "output_type": "stream",
     "text": [
      "Epoch [10/10] - Train Loss: 0.1069, Validation Loss: 0.0972\n"
     ]
    }
   ],
   "source": [
    "# deep architecture\n",
    "transactions_negatives = pd.read_csv(\"data/preprocessed/transactions_negatives.csv\")\n",
    "train_dataloader, val_dataloader, test_customers = load_data_mf(transactions_negatives, batch_size=1000)\n",
    "input_article_dim = articles.shape[1]\n",
    "input_customer_dim = customers.shape[1]\n",
    "model = TwoTowerCustomer(input_article_dim, input_customer_dim, output_dim=10)\n",
    "criterion = nn.MSELoss()\n",
    "optimizer = torch.optim.Adam(model.parameters(), lr=0.001)\n",
    "save_dir = \"AI_project/RQ1/models/TwoTowerCustomer.pt\"\n",
    "val_loss_tower = train_two_tower(model, customers, articles, train_dataloader, val_dataloader, criterion, optimizer, save_dir, num_epochs=10)"
   ]
  },
  {
   "cell_type": "code",
   "execution_count": 13,
   "metadata": {},
   "outputs": [
    {
     "name": "stdout",
     "output_type": "stream",
     "text": [
      "Generate Customer Embeddings...\n"
     ]
    },
    {
     "name": "stderr",
     "output_type": "stream",
     "text": [
      "100%|██████████| 1363/1363 [00:09<00:00, 142.34it/s]\n"
     ]
    },
    {
     "name": "stdout",
     "output_type": "stream",
     "text": [
      "Generate Articles Embeddings...\n"
     ]
    },
    {
     "name": "stderr",
     "output_type": "stream",
     "text": [
      "100%|██████████| 1056/1056 [00:04<00:00, 244.06it/s]\n"
     ]
    },
    {
     "name": "stdout",
     "output_type": "stream",
     "text": [
      "Get recommendations...\n"
     ]
    },
    {
     "name": "stderr",
     "output_type": "stream",
     "text": [
      "100%|██████████| 137/137 [00:30<00:00,  4.42it/s]\n"
     ]
    },
    {
     "name": "stdout",
     "output_type": "stream",
     "text": [
      "Precision: 0.009606373581738593\n",
      "Recall: 0.005747229497955496\n"
     ]
    }
   ],
   "source": [
    "# load model\n",
    "TwoTower = torch.load(\"AI_project/RQ1/models/TwoTowerCustomer.pt\")\n",
    "matrix_full = matrix_representation(transactions, train_test=False)\n",
    "targets = matrix_full[test_customers]\n",
    "targets[targets>1] = 1\n",
    "# dataloader\n",
    "dataloader_cust, dataloader_art = load_customers_articles(customers, articles, test_customers=test_customers, batch_size=100)\n",
    "# get restrictions\n",
    "last_sold = transactions.groupby(\"article_id\")[\"t_dat\"].max()\n",
    "articles_recently_sold = [last_sold[last_sold > '2020-08-22'].index.tolist()]\n",
    "# generate recommendations\n",
    "recommendations, recall, precision = recommender_two_towers_customer(TwoTower, dataloader_cust, dataloader_art, targets, articles_recently_sold, evaluate=True, top_k=12)\n",
    "print(f\"Precision: {precision}\\nRecall: {recall}\")"
   ]
  },
  {
   "cell_type": "markdown",
   "metadata": {},
   "source": [
    "# Get customers clusters"
   ]
  },
  {
   "cell_type": "code",
   "execution_count": 9,
   "metadata": {},
   "outputs": [],
   "source": [
    "merged = transactions.merge(articles[[\"article_id\",\"product_type_name\",\"index_name\",\"garment_group_name\"]], on=\"article_id\")\n",
    "\n",
    "# Get customers baskets\n",
    "customer_baskets = merged.groupby(\"customer_id\")[\"index_name\"].unique()\n",
    "\n",
    "# Create a list of unique product_type_name values across all customers\n",
    "all_unique_products = np.unique(merged[\"index_name\"])\n",
    "\n",
    "# Create a numpy matrix to store the basket data\n",
    "matrix = np.zeros((len(customer_baskets), np.max(all_unique_products)+1), dtype=int)\n",
    "\n",
    "# Populate the matrix with 1s for each customer's products\n",
    "for i, basket in enumerate(customer_baskets):\n",
    "    matrix[i, basket] = 1\n",
    "\n",
    "# Get sparse matrix\n",
    "matrix_sparse = csr_array(matrix)"
   ]
  },
  {
   "cell_type": "code",
   "execution_count": 10,
   "metadata": {},
   "outputs": [
    {
     "data": {
      "image/png": "[encoded data removed]",
      "text/plain": [
       "<Figure size 640x480 with 1 Axes>"
      ]
     },
     "metadata": {},
     "output_type": "display_data"
    }
   ],
   "source": [
    "# Normalize matrix\n",
    "matrix_norm = preprocessing.normalize(matrix)\n",
    "matrix_sparse_norm = csr_array(matrix)\n",
    "\n",
    "# Dictionary to store silhouette scores\n",
    "silhouette_results_norm = {\"clusters\": [], \"results\": []}\n",
    "\n",
    "# Get sample\n",
    "num_rows_to_select = np.floor(0.01*len(matrix_norm)).astype(\"int\")\n",
    "num_rows = matrix_norm.shape[0]\n",
    "random_indices = np.random.choice(num_rows, size=num_rows_to_select, replace=False)\n",
    "random_matrix_sparse = matrix_sparse_norm[random_indices]\n",
    "random_matrix = matrix_norm[random_indices]\n",
    "# Generating scores\n",
    "for n_cluster in np.arange(5,100,5):\n",
    "    kmeans = KMeans(n_clusters=n_cluster, n_init=\"auto\")\n",
    "    y = kmeans.fit_predict(random_matrix)\n",
    "    res = silhouette_score(random_matrix_sparse, y)\n",
    "    silhouette_results_norm[\"clusters\"].append(n_cluster)\n",
    "    silhouette_results_norm[\"results\"].append(res)\n",
    "\n",
    "sns.lineplot(data=silhouette_results_norm, x=\"clusters\", y=\"results\")\n",
    "plt.show()"
   ]
  },
  {
   "cell_type": "code",
   "execution_count": 12,
   "metadata": {},
   "outputs": [
    {
     "data": {
      "text/html": [
       "<div>\n",
       "<style scoped>\n",
       "    .dataframe tbody tr th:only-of-type {\n",
       "        vertical-align: middle;\n",
       "    }\n",
       "\n",
       "    .dataframe tbody tr th {\n",
       "        vertical-align: top;\n",
       "    }\n",
       "\n",
       "    .dataframe thead th {\n",
       "        text-align: right;\n",
       "    }\n",
       "</style>\n",
       "<table border=\"1\" class=\"dataframe\">\n",
       "  <thead>\n",
       "    <tr style=\"text-align: right;\">\n",
       "      <th></th>\n",
       "      <th>customer_id</th>\n",
       "      <th>FN</th>\n",
       "      <th>Active</th>\n",
       "      <th>club_member_status</th>\n",
       "      <th>fashion_news_frequency</th>\n",
       "      <th>age</th>\n",
       "      <th>postal_code</th>\n",
       "      <th>index_name_cluster</th>\n",
       "    </tr>\n",
       "  </thead>\n",
       "  <tbody>\n",
       "    <tr>\n",
       "      <th>0</th>\n",
       "      <td>0</td>\n",
       "      <td>-1.0</td>\n",
       "      <td>-1.0</td>\n",
       "      <td>0</td>\n",
       "      <td>0</td>\n",
       "      <td>49.0</td>\n",
       "      <td>0</td>\n",
       "      <td>32.0</td>\n",
       "    </tr>\n",
       "    <tr>\n",
       "      <th>1</th>\n",
       "      <td>1</td>\n",
       "      <td>-1.0</td>\n",
       "      <td>-1.0</td>\n",
       "      <td>0</td>\n",
       "      <td>0</td>\n",
       "      <td>25.0</td>\n",
       "      <td>1</td>\n",
       "      <td>31.0</td>\n",
       "    </tr>\n",
       "    <tr>\n",
       "      <th>2</th>\n",
       "      <td>2</td>\n",
       "      <td>-1.0</td>\n",
       "      <td>-1.0</td>\n",
       "      <td>0</td>\n",
       "      <td>0</td>\n",
       "      <td>24.0</td>\n",
       "      <td>2</td>\n",
       "      <td>26.0</td>\n",
       "    </tr>\n",
       "    <tr>\n",
       "      <th>3</th>\n",
       "      <td>3</td>\n",
       "      <td>-1.0</td>\n",
       "      <td>-1.0</td>\n",
       "      <td>0</td>\n",
       "      <td>0</td>\n",
       "      <td>54.0</td>\n",
       "      <td>3</td>\n",
       "      <td>11.0</td>\n",
       "    </tr>\n",
       "    <tr>\n",
       "      <th>4</th>\n",
       "      <td>4</td>\n",
       "      <td>1.0</td>\n",
       "      <td>1.0</td>\n",
       "      <td>0</td>\n",
       "      <td>1</td>\n",
       "      <td>52.0</td>\n",
       "      <td>4</td>\n",
       "      <td>9.0</td>\n",
       "    </tr>\n",
       "  </tbody>\n",
       "</table>\n",
       "</div>"
      ],
      "text/plain": [
       "   customer_id   FN  Active  club_member_status  fashion_news_frequency   age  \\\n",
       "0            0 -1.0    -1.0                   0                       0  49.0   \n",
       "1            1 -1.0    -1.0                   0                       0  25.0   \n",
       "2            2 -1.0    -1.0                   0                       0  24.0   \n",
       "3            3 -1.0    -1.0                   0                       0  54.0   \n",
       "4            4  1.0     1.0                   0                       1  52.0   \n",
       "\n",
       "   postal_code  index_name_cluster  \n",
       "0            0                32.0  \n",
       "1            1                31.0  \n",
       "2            2                26.0  \n",
       "3            3                11.0  \n",
       "4            4                 9.0  "
      ]
     },
     "execution_count": 12,
     "metadata": {},
     "output_type": "execute_result"
    }
   ],
   "source": [
    "# Normalize matrix\n",
    "matrix_norm = preprocessing.normalize(matrix)\n",
    "# Set final number of clusters\n",
    "n_cluster = 35\n",
    "# Create kmeans class and predict clusters for customers\n",
    "kmeans = KMeans(n_clusters=n_cluster, n_init=\"auto\")\n",
    "index_name_cluster = kmeans.fit_predict(matrix_norm)\n",
    "index_name_cluster = pd.DataFrame(zip(customer_baskets.keys(), index_name_cluster), columns=[\"customer_id\",\"index_name_cluster\"])\n",
    "# Merge dataframes\n",
    "customers = customers.merge(index_name_cluster, on=\"customer_id\", how=\"left\")\n",
    "customers.head()"
   ]
  },
  {
   "cell_type": "code",
   "execution_count": 14,
   "metadata": {},
   "outputs": [],
   "source": [
    "# one hot encoding \n",
    "articles = articles.set_index(\"article_id\")\n",
    "customers = customers.set_index(\"customer_id\")\n",
    "\n",
    "article_enc = OneHotEncoder(sparse_output=True)\n",
    "articles = article_enc.fit_transform(articles)\n",
    "\n",
    "customers_categorical = [\"FN\",'Active',\"club_member_status\", \"fashion_news_frequency\", \"index_name_cluster\"]\n",
    "customers_cont = [\"age\"]\n",
    "\n",
    "preprocessor = ColumnTransformer(\n",
    "    transformers=[\n",
    "        ('cat', OneHotEncoder(sparse_output=True), customers_categorical),\n",
    "        ('cont', 'passthrough', customers_cont)  # 'passthrough' means no transformation for continuous variables\n",
    "    ],\n",
    "    remainder='drop'  # Drop any columns not explicitly transformed\n",
    ")\n",
    "customers = csr_matrix(preprocessor.fit_transform(customers))"
   ]
  },
  {
   "cell_type": "markdown",
   "metadata": {},
   "source": [
    "# Training"
   ]
  },
  {
   "cell_type": "code",
   "execution_count": 16,
   "metadata": {},
   "outputs": [
    {
     "name": "stderr",
     "output_type": "stream",
     "text": [
      "100%|██████████| 55595/55595 [14:05<00:00, 65.74it/s]\n"
     ]
    },
    {
     "name": "stdout",
     "output_type": "stream",
     "text": [
      "Epoch [1/10] - Train Loss: 0.1316, Validation Loss: 0.1138\n"
     ]
    },
    {
     "name": "stderr",
     "output_type": "stream",
     "text": [
      "100%|██████████| 55595/55595 [14:06<00:00, 65.67it/s]\n"
     ]
    },
    {
     "name": "stdout",
     "output_type": "stream",
     "text": [
      "Epoch [2/10] - Train Loss: 0.1310, Validation Loss: 0.1132\n"
     ]
    },
    {
     "name": "stderr",
     "output_type": "stream",
     "text": [
      "100%|██████████| 55595/55595 [14:03<00:00, 65.95it/s]\n"
     ]
    },
    {
     "name": "stdout",
     "output_type": "stream",
     "text": [
      "Epoch [3/10] - Train Loss: 0.1324, Validation Loss: 0.1130\n"
     ]
    },
    {
     "name": "stderr",
     "output_type": "stream",
     "text": [
      "100%|██████████| 55595/55595 [13:45<00:00, 67.31it/s]\n"
     ]
    },
    {
     "name": "stdout",
     "output_type": "stream",
     "text": [
      "Epoch [4/10] - Train Loss: 0.1327, Validation Loss: 0.1129\n"
     ]
    },
    {
     "name": "stderr",
     "output_type": "stream",
     "text": [
      "100%|██████████| 55595/55595 [13:53<00:00, 66.73it/s]\n"
     ]
    },
    {
     "name": "stdout",
     "output_type": "stream",
     "text": [
      "Epoch [5/10] - Train Loss: 0.1348, Validation Loss: 0.1128\n"
     ]
    },
    {
     "name": "stderr",
     "output_type": "stream",
     "text": [
      "100%|██████████| 55595/55595 [13:51<00:00, 66.85it/s]\n"
     ]
    },
    {
     "name": "stdout",
     "output_type": "stream",
     "text": [
      "Epoch [6/10] - Train Loss: 0.1329, Validation Loss: 0.1128\n"
     ]
    },
    {
     "name": "stderr",
     "output_type": "stream",
     "text": [
      "100%|██████████| 55595/55595 [13:51<00:00, 66.89it/s]\n"
     ]
    },
    {
     "name": "stdout",
     "output_type": "stream",
     "text": [
      "Epoch [7/10] - Train Loss: 0.1330, Validation Loss: 0.1127\n"
     ]
    },
    {
     "name": "stderr",
     "output_type": "stream",
     "text": [
      "100%|██████████| 55595/55595 [13:56<00:00, 66.46it/s]\n"
     ]
    },
    {
     "name": "stdout",
     "output_type": "stream",
     "text": [
      "Epoch [8/10] - Train Loss: 0.1336, Validation Loss: 0.1127\n"
     ]
    },
    {
     "name": "stderr",
     "output_type": "stream",
     "text": [
      "100%|██████████| 55595/55595 [14:07<00:00, 65.56it/s]\n"
     ]
    },
    {
     "name": "stdout",
     "output_type": "stream",
     "text": [
      "Epoch [9/10] - Train Loss: 0.1333, Validation Loss: 0.1126\n"
     ]
    },
    {
     "name": "stderr",
     "output_type": "stream",
     "text": [
      "100%|██████████| 55595/55595 [13:54<00:00, 66.62it/s]\n"
     ]
    },
    {
     "name": "stdout",
     "output_type": "stream",
     "text": [
      "Epoch [10/10] - Train Loss: 0.1319, Validation Loss: 0.1126\n"
     ]
    }
   ],
   "source": [
    "# deep architecture\n",
    "transactions_negatives = pd.read_csv(\"data/preprocessed/transactions_negatives.csv\")\n",
    "train_dataloader, val_dataloader, test_customers = load_data_mf(transactions_negatives, batch_size=1000)\n",
    "input_article_dim = articles.shape[1]\n",
    "input_customer_dim = customers.shape[1]\n",
    "model = TwoTowerFinal(input_article_dim, input_customer_dim, output_dim=10)\n",
    "criterion = nn.MSELoss()\n",
    "optimizer = torch.optim.Adam(model.parameters(), lr=0.001)\n",
    "save_dir = \"AI_project/RQ1/models/TwoTowerCustomersCluster.pt\"\n",
    "val_loss_tower = train_two_tower(model, customers, articles, train_dataloader, val_dataloader, criterion, optimizer, save_dir, num_epochs=10)"
   ]
  },
  {
   "cell_type": "markdown",
   "metadata": {},
   "source": [
    "# Evaluate Recomendations"
   ]
  },
  {
   "cell_type": "code",
   "execution_count": 19,
   "metadata": {},
   "outputs": [
    {
     "name": "stdout",
     "output_type": "stream",
     "text": [
      "Generate Customer Embeddings...\n"
     ]
    },
    {
     "name": "stderr",
     "output_type": "stream",
     "text": [
      "100%|██████████| 1363/1363 [00:10<00:00, 127.62it/s]\n"
     ]
    },
    {
     "name": "stdout",
     "output_type": "stream",
     "text": [
      "Generate Articles Embeddings...\n"
     ]
    },
    {
     "name": "stderr",
     "output_type": "stream",
     "text": [
      "100%|██████████| 1056/1056 [00:04<00:00, 229.96it/s]\n"
     ]
    },
    {
     "name": "stdout",
     "output_type": "stream",
     "text": [
      "Get recommendations...\n"
     ]
    },
    {
     "name": "stderr",
     "output_type": "stream",
     "text": [
      "100%|██████████| 137/137 [00:32<00:00,  4.26it/s]\n"
     ]
    },
    {
     "name": "stdout",
     "output_type": "stream",
     "text": [
      "Precision: 0.007071426299343997\n",
      "Recall: 0.004230640155142991\n"
     ]
    }
   ],
   "source": [
    "# load model\n",
    "TwoTower = torch.load(\"AI_project/RQ1/models/TwoTowerCustomersCluster.pt\")\n",
    "matrix_full = matrix_representation(transactions, train_test=False)\n",
    "targets = matrix_full[test_customers]\n",
    "targets[targets>1] = 1\n",
    "# dataloader\n",
    "dataloader_cust, dataloader_art = load_customers_articles(customers, articles, test_customers=test_customers, batch_size=100)\n",
    "# get restrictions\n",
    "last_sold = transactions.groupby(\"article_id\")[\"t_dat\"].max()\n",
    "articles_recently_sold = [last_sold[last_sold > '2020-08-22'].index.tolist()]\n",
    "# generate recommendations\n",
    "recommendations, recall, precision = recommender_two_towers_final(TwoTower, dataloader_cust, dataloader_art, targets, articles_recently_sold, evaluate=True, top_k=12)\n",
    "print(f\"Precision: {precision}\\nRecall: {recall}\")"
   ]
  },
  {
   "cell_type": "code",
   "execution_count": null,
   "metadata": {},
   "outputs": [],
   "source": []
  }
 ],
 "metadata": {
  "kernelspec": {
   "display_name": "ai_project",
   "language": "python",
   "name": "python3"
  },
  "language_info": {
   "codemirror_mode": {
    "name": "ipython",
    "version": 3
   },
   "file_extension": ".py",
   "mimetype": "text/x-python",
   "name": "python",
   "nbconvert_exporter": "python",
   "pygments_lexer": "ipython3",
   "version": "3.9.17"
  }
 },
 "nbformat": 4,
 "nbformat_minor": 2
}
