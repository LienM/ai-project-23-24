{
  "nbformat": 4,
  "nbformat_minor": 0,
  "metadata": {
    "colab": {
      "provenance": [],
      "collapsed_sections": [
        "IzdIsRCQ_2FB",
        "V8XZvCflPtuc"
      ]
    },
    "kernelspec": {
      "name": "python3",
      "display_name": "Python 3"
    },
    "language_info": {
      "name": "python"
    }
  },
  "cells": [
    {
      "cell_type": "code",
      "execution_count": 40,
      "metadata": {
        "id": "AKNYZ2n20WnR"
      },
      "outputs": [],
      "source": [
        "import numpy as np\n",
        "import pandas as pd\n",
        "import seaborn as sns\n",
        "import matplotlib.pyplot as plt"
      ]
    },
    {
      "cell_type": "code",
      "source": [
        "## Connecting drive\n",
        "\n",
        "from google.colab import drive\n",
        "drive.mount('/content/drive')"
      ],
      "metadata": {
        "colab": {
          "base_uri": "https://localhost:8080/"
        },
        "id": "MjbsuKYn0ddi",
        "outputId": "4c22db72-55d2-466f-fef1-ebf0719d5fe5"
      },
      "execution_count": 41,
      "outputs": [
        {
          "output_type": "stream",
          "name": "stdout",
          "text": [
            "Drive already mounted at /content/drive; to attempt to forcibly remount, call drive.mount(\"/content/drive\", force_remount=True).\n"
          ]
        }
      ]
    },
    {
      "cell_type": "code",
      "source": [
        "## Loading the dataset\n",
        "\n",
        "# articles = pd.read_csv('/content/drive/MyDrive/AIPROJECT/articles.csv')\n",
        "# customers = pd.read_csv('/content/drive/MyDrive/AIPROJECT/customers.csv')\n",
        "# sample_sub = pd.read_csv('/content/drive/MyDrive/AIPROJECT/sample_submission.csv')\n",
        "# transactions_train = pd.read_csv('/content/drive/MyDrive/AIPROJECT/transactions_train.csv')"
      ],
      "metadata": {
        "id": "8CEoxbRV0efH"
      },
      "execution_count": 42,
      "outputs": []
    },
    {
      "cell_type": "markdown",
      "source": [
        "# customers.csv"
      ],
      "metadata": {
        "id": "3XGciJiTfanc"
      }
    },
    {
      "cell_type": "code",
      "source": [
        "## Loading the dataset\n",
        "\n",
        "customers = pd.read_csv('/content/drive/MyDrive/AIPROJECT/customers.csv')"
      ],
      "metadata": {
        "id": "Pl337r8VflQm"
      },
      "execution_count": 47,
      "outputs": []
    },
    {
      "cell_type": "code",
      "source": [
        "customers.info()"
      ],
      "metadata": {
        "colab": {
          "base_uri": "https://localhost:8080/"
        },
        "id": "PNkM7CfC0w_b",
        "outputId": "fd510a28-e6d0-490b-a6e9-947e4b32d0d0"
      },
      "execution_count": 48,
      "outputs": [
        {
          "output_type": "stream",
          "name": "stdout",
          "text": [
            "<class 'pandas.core.frame.DataFrame'>\n",
            "RangeIndex: 1371980 entries, 0 to 1371979\n",
            "Data columns (total 7 columns):\n",
            " #   Column                  Non-Null Count    Dtype  \n",
            "---  ------                  --------------    -----  \n",
            " 0   customer_id             1371980 non-null  object \n",
            " 1   FN                      476930 non-null   float64\n",
            " 2   Active                  464404 non-null   float64\n",
            " 3   club_member_status      1365918 non-null  object \n",
            " 4   fashion_news_frequency  1355971 non-null  object \n",
            " 5   age                     1356119 non-null  float64\n",
            " 6   postal_code             1371980 non-null  object \n",
            "dtypes: float64(3), object(4)\n",
            "memory usage: 73.3+ MB\n"
          ]
        }
      ]
    },
    {
      "cell_type": "code",
      "source": [
        "customers.head(3)"
      ],
      "metadata": {
        "colab": {
          "base_uri": "https://localhost:8080/",
          "height": 143
        },
        "id": "6zDmUFSv05Mr",
        "outputId": "13b7e18c-a51b-480e-ab03-476c96ed2ecc"
      },
      "execution_count": 49,
      "outputs": [
        {
          "output_type": "execute_result",
          "data": {
            "text/plain": [
              "                                         customer_id  FN  Active  \\\n",
              "0  00000dbacae5abe5e23885899a1fa44253a17956c6d1c3... NaN     NaN   \n",
              "1  0000423b00ade91418cceaf3b26c6af3dd342b51fd051e... NaN     NaN   \n",
              "2  000058a12d5b43e67d225668fa1f8d618c13dc232df0ca... NaN     NaN   \n",
              "\n",
              "  club_member_status fashion_news_frequency   age  \\\n",
              "0             ACTIVE                   NONE  49.0   \n",
              "1             ACTIVE                   NONE  25.0   \n",
              "2             ACTIVE                   NONE  24.0   \n",
              "\n",
              "                                         postal_code  \n",
              "0  52043ee2162cf5aa7ee79974281641c6f11a68d276429a...  \n",
              "1  2973abc54daa8a5f8ccfe9362140c63247c5eee03f1d93...  \n",
              "2  64f17e6a330a85798e4998f62d0930d14db8db1c054af6...  "
            ],
            "text/html": [
              "\n",
              "  <div id=\"df-7e445f33-bded-447e-9a5e-5f5c82b4701c\" class=\"colab-df-container\">\n",
              "    <div>\n",
              "<style scoped>\n",
              "    .dataframe tbody tr th:only-of-type {\n",
              "        vertical-align: middle;\n",
              "    }\n",
              "\n",
              "    .dataframe tbody tr th {\n",
              "        vertical-align: top;\n",
              "    }\n",
              "\n",
              "    .dataframe thead th {\n",
              "        text-align: right;\n",
              "    }\n",
              "</style>\n",
              "<table border=\"1\" class=\"dataframe\">\n",
              "  <thead>\n",
              "    <tr style=\"text-align: right;\">\n",
              "      <th></th>\n",
              "      <th>customer_id</th>\n",
              "      <th>FN</th>\n",
              "      <th>Active</th>\n",
              "      <th>club_member_status</th>\n",
              "      <th>fashion_news_frequency</th>\n",
              "      <th>age</th>\n",
              "      <th>postal_code</th>\n",
              "    </tr>\n",
              "  </thead>\n",
              "  <tbody>\n",
              "    <tr>\n",
              "      <th>0</th>\n",
              "      <td>00000dbacae5abe5e23885899a1fa44253a17956c6d1c3...</td>\n",
              "      <td>NaN</td>\n",
              "      <td>NaN</td>\n",
              "      <td>ACTIVE</td>\n",
              "      <td>NONE</td>\n",
              "      <td>49.0</td>\n",
              "      <td>52043ee2162cf5aa7ee79974281641c6f11a68d276429a...</td>\n",
              "    </tr>\n",
              "    <tr>\n",
              "      <th>1</th>\n",
              "      <td>0000423b00ade91418cceaf3b26c6af3dd342b51fd051e...</td>\n",
              "      <td>NaN</td>\n",
              "      <td>NaN</td>\n",
              "      <td>ACTIVE</td>\n",
              "      <td>NONE</td>\n",
              "      <td>25.0</td>\n",
              "      <td>2973abc54daa8a5f8ccfe9362140c63247c5eee03f1d93...</td>\n",
              "    </tr>\n",
              "    <tr>\n",
              "      <th>2</th>\n",
              "      <td>000058a12d5b43e67d225668fa1f8d618c13dc232df0ca...</td>\n",
              "      <td>NaN</td>\n",
              "      <td>NaN</td>\n",
              "      <td>ACTIVE</td>\n",
              "      <td>NONE</td>\n",
              "      <td>24.0</td>\n",
              "      <td>64f17e6a330a85798e4998f62d0930d14db8db1c054af6...</td>\n",
              "    </tr>\n",
              "  </tbody>\n",
              "</table>\n",
              "</div>\n",
              "    <div class=\"colab-df-buttons\">\n",
              "\n",
              "  <div class=\"colab-df-container\">\n",
              "    <button class=\"colab-df-convert\" onclick=\"convertToInteractive('df-7e445f33-bded-447e-9a5e-5f5c82b4701c')\"\n",
              "            title=\"Convert this dataframe to an interactive table.\"\n",
              "            style=\"display:none;\">\n",
              "\n",
              "  <svg xmlns=\"http://www.w3.org/2000/svg\" height=\"24px\" viewBox=\"0 -960 960 960\">\n",
              "    <path d=\"M120-120v-720h720v720H120Zm60-500h600v-160H180v160Zm220 220h160v-160H400v160Zm0 220h160v-160H400v160ZM180-400h160v-160H180v160Zm440 0h160v-160H620v160ZM180-180h160v-160H180v160Zm440 0h160v-160H620v160Z\"/>\n",
              "  </svg>\n",
              "    </button>\n",
              "\n",
              "  <style>\n",
              "    .colab-df-container {\n",
              "      display:flex;\n",
              "      gap: 12px;\n",
              "    }\n",
              "\n",
              "    .colab-df-convert {\n",
              "      background-color: #E8F0FE;\n",
              "      border: none;\n",
              "      border-radius: 50%;\n",
              "      cursor: pointer;\n",
              "      display: none;\n",
              "      fill: #1967D2;\n",
              "      height: 32px;\n",
              "      padding: 0 0 0 0;\n",
              "      width: 32px;\n",
              "    }\n",
              "\n",
              "    .colab-df-convert:hover {\n",
              "      background-color: #E2EBFA;\n",
              "      box-shadow: 0px 1px 2px rgba(60, 64, 67, 0.3), 0px 1px 3px 1px rgba(60, 64, 67, 0.15);\n",
              "      fill: #174EA6;\n",
              "    }\n",
              "\n",
              "    .colab-df-buttons div {\n",
              "      margin-bottom: 4px;\n",
              "    }\n",
              "\n",
              "    [theme=dark] .colab-df-convert {\n",
              "      background-color: #3B4455;\n",
              "      fill: #D2E3FC;\n",
              "    }\n",
              "\n",
              "    [theme=dark] .colab-df-convert:hover {\n",
              "      background-color: #434B5C;\n",
              "      box-shadow: 0px 1px 3px 1px rgba(0, 0, 0, 0.15);\n",
              "      filter: drop-shadow(0px 1px 2px rgba(0, 0, 0, 0.3));\n",
              "      fill: #FFFFFF;\n",
              "    }\n",
              "  </style>\n",
              "\n",
              "    <script>\n",
              "      const buttonEl =\n",
              "        document.querySelector('#df-7e445f33-bded-447e-9a5e-5f5c82b4701c button.colab-df-convert');\n",
              "      buttonEl.style.display =\n",
              "        google.colab.kernel.accessAllowed ? 'block' : 'none';\n",
              "\n",
              "      async function convertToInteractive(key) {\n",
              "        const element = document.querySelector('#df-7e445f33-bded-447e-9a5e-5f5c82b4701c');\n",
              "        const dataTable =\n",
              "          await google.colab.kernel.invokeFunction('convertToInteractive',\n",
              "                                                    [key], {});\n",
              "        if (!dataTable) return;\n",
              "\n",
              "        const docLinkHtml = 'Like what you see? Visit the ' +\n",
              "          '<a target=\"_blank\" href=https://colab.research.google.com/notebooks/data_table.ipynb>data table notebook</a>'\n",
              "          + ' to learn more about interactive tables.';\n",
              "        element.innerHTML = '';\n",
              "        dataTable['output_type'] = 'display_data';\n",
              "        await google.colab.output.renderOutput(dataTable, element);\n",
              "        const docLink = document.createElement('div');\n",
              "        docLink.innerHTML = docLinkHtml;\n",
              "        element.appendChild(docLink);\n",
              "      }\n",
              "    </script>\n",
              "  </div>\n",
              "\n",
              "\n",
              "<div id=\"df-d45fc43b-49ab-473b-852b-d45cfc86dca8\">\n",
              "  <button class=\"colab-df-quickchart\" onclick=\"quickchart('df-d45fc43b-49ab-473b-852b-d45cfc86dca8')\"\n",
              "            title=\"Suggest charts.\"\n",
              "            style=\"display:none;\">\n",
              "\n",
              "<svg xmlns=\"http://www.w3.org/2000/svg\" height=\"24px\"viewBox=\"0 0 24 24\"\n",
              "     width=\"24px\">\n",
              "    <g>\n",
              "        <path d=\"M19 3H5c-1.1 0-2 .9-2 2v14c0 1.1.9 2 2 2h14c1.1 0 2-.9 2-2V5c0-1.1-.9-2-2-2zM9 17H7v-7h2v7zm4 0h-2V7h2v10zm4 0h-2v-4h2v4z\"/>\n",
              "    </g>\n",
              "</svg>\n",
              "  </button>\n",
              "\n",
              "<style>\n",
              "  .colab-df-quickchart {\n",
              "      --bg-color: #E8F0FE;\n",
              "      --fill-color: #1967D2;\n",
              "      --hover-bg-color: #E2EBFA;\n",
              "      --hover-fill-color: #174EA6;\n",
              "      --disabled-fill-color: #AAA;\n",
              "      --disabled-bg-color: #DDD;\n",
              "  }\n",
              "\n",
              "  [theme=dark] .colab-df-quickchart {\n",
              "      --bg-color: #3B4455;\n",
              "      --fill-color: #D2E3FC;\n",
              "      --hover-bg-color: #434B5C;\n",
              "      --hover-fill-color: #FFFFFF;\n",
              "      --disabled-bg-color: #3B4455;\n",
              "      --disabled-fill-color: #666;\n",
              "  }\n",
              "\n",
              "  .colab-df-quickchart {\n",
              "    background-color: var(--bg-color);\n",
              "    border: none;\n",
              "    border-radius: 50%;\n",
              "    cursor: pointer;\n",
              "    display: none;\n",
              "    fill: var(--fill-color);\n",
              "    height: 32px;\n",
              "    padding: 0;\n",
              "    width: 32px;\n",
              "  }\n",
              "\n",
              "  .colab-df-quickchart:hover {\n",
              "    background-color: var(--hover-bg-color);\n",
              "    box-shadow: 0 1px 2px rgba(60, 64, 67, 0.3), 0 1px 3px 1px rgba(60, 64, 67, 0.15);\n",
              "    fill: var(--button-hover-fill-color);\n",
              "  }\n",
              "\n",
              "  .colab-df-quickchart-complete:disabled,\n",
              "  .colab-df-quickchart-complete:disabled:hover {\n",
              "    background-color: var(--disabled-bg-color);\n",
              "    fill: var(--disabled-fill-color);\n",
              "    box-shadow: none;\n",
              "  }\n",
              "\n",
              "  .colab-df-spinner {\n",
              "    border: 2px solid var(--fill-color);\n",
              "    border-color: transparent;\n",
              "    border-bottom-color: var(--fill-color);\n",
              "    animation:\n",
              "      spin 1s steps(1) infinite;\n",
              "  }\n",
              "\n",
              "  @keyframes spin {\n",
              "    0% {\n",
              "      border-color: transparent;\n",
              "      border-bottom-color: var(--fill-color);\n",
              "      border-left-color: var(--fill-color);\n",
              "    }\n",
              "    20% {\n",
              "      border-color: transparent;\n",
              "      border-left-color: var(--fill-color);\n",
              "      border-top-color: var(--fill-color);\n",
              "    }\n",
              "    30% {\n",
              "      border-color: transparent;\n",
              "      border-left-color: var(--fill-color);\n",
              "      border-top-color: var(--fill-color);\n",
              "      border-right-color: var(--fill-color);\n",
              "    }\n",
              "    40% {\n",
              "      border-color: transparent;\n",
              "      border-right-color: var(--fill-color);\n",
              "      border-top-color: var(--fill-color);\n",
              "    }\n",
              "    60% {\n",
              "      border-color: transparent;\n",
              "      border-right-color: var(--fill-color);\n",
              "    }\n",
              "    80% {\n",
              "      border-color: transparent;\n",
              "      border-right-color: var(--fill-color);\n",
              "      border-bottom-color: var(--fill-color);\n",
              "    }\n",
              "    90% {\n",
              "      border-color: transparent;\n",
              "      border-bottom-color: var(--fill-color);\n",
              "    }\n",
              "  }\n",
              "</style>\n",
              "\n",
              "  <script>\n",
              "    async function quickchart(key) {\n",
              "      const quickchartButtonEl =\n",
              "        document.querySelector('#' + key + ' button');\n",
              "      quickchartButtonEl.disabled = true;  // To prevent multiple clicks.\n",
              "      quickchartButtonEl.classList.add('colab-df-spinner');\n",
              "      try {\n",
              "        const charts = await google.colab.kernel.invokeFunction(\n",
              "            'suggestCharts', [key], {});\n",
              "      } catch (error) {\n",
              "        console.error('Error during call to suggestCharts:', error);\n",
              "      }\n",
              "      quickchartButtonEl.classList.remove('colab-df-spinner');\n",
              "      quickchartButtonEl.classList.add('colab-df-quickchart-complete');\n",
              "    }\n",
              "    (() => {\n",
              "      let quickchartButtonEl =\n",
              "        document.querySelector('#df-d45fc43b-49ab-473b-852b-d45cfc86dca8 button');\n",
              "      quickchartButtonEl.style.display =\n",
              "        google.colab.kernel.accessAllowed ? 'block' : 'none';\n",
              "    })();\n",
              "  </script>\n",
              "</div>\n",
              "    </div>\n",
              "  </div>\n"
            ]
          },
          "metadata": {},
          "execution_count": 49
        }
      ]
    },
    {
      "cell_type": "code",
      "source": [
        "# checking for missing values\n",
        "# printing columns with missing values and their percentage\n",
        "for col in customers.columns:\n",
        "    if customers[col].isnull().sum() > 0:\n",
        "        print(f'{col} has {round(customers[col].isnull().sum()/len(customers[col])*100, 2)}% missing values')\n",
        "\n",
        "# plotting the missing values\n",
        "sns.heatmap(customers.isnull(), cbar=False)\n",
        "plt.title('Missing Values')\n",
        "plt.yticks([])\n",
        "plt.show()"
      ],
      "metadata": {
        "colab": {
          "base_uri": "https://localhost:8080/",
          "height": 716
        },
        "id": "_486f-ablAVl",
        "outputId": "27d58ef5-c56b-4b3b-c83b-b3ff332df44f"
      },
      "execution_count": 50,
      "outputs": [
        {
          "output_type": "stream",
          "name": "stdout",
          "text": [
            "FN has 65.24% missing values\n",
            "Active has 66.15% missing values\n",
            "club_member_status has 0.44% missing values\n",
            "fashion_news_frequency has 1.17% missing values\n",
            "age has 1.16% missing values\n"
          ]
        },
        {
          "output_type": "display_data",
          "data": {
            "text/plain": [
              "<Figure size 640x480 with 1 Axes>"
            ],
            "image/png": "[encoded data removed]"
          },
          "metadata": {}
        }
      ]
    },
    {
      "cell_type": "code",
      "source": [
        "## Unique values per column\n",
        "print(customers.nunique())"
      ],
      "metadata": {
        "colab": {
          "base_uri": "https://localhost:8080/"
        },
        "id": "yG7UbsnEiPSj",
        "outputId": "5f0eb667-61fd-4685-c2a3-8712edfd19de"
      },
      "execution_count": 51,
      "outputs": [
        {
          "output_type": "stream",
          "name": "stdout",
          "text": [
            "customer_id               1371980\n",
            "FN                              1\n",
            "Active                          1\n",
            "club_member_status              3\n",
            "fashion_news_frequency          4\n",
            "age                            84\n",
            "postal_code                352899\n",
            "dtype: int64\n"
          ]
        }
      ]
    },
    {
      "cell_type": "code",
      "source": [
        "# Unique values in the 'FN' column (Fashion newsletter)\n",
        "print(\"Unique values in 'FN' column:\", customers['FN'].unique())"
      ],
      "metadata": {
        "colab": {
          "base_uri": "https://localhost:8080/"
        },
        "id": "quvDFsAaiZgH",
        "outputId": "39b050af-c6d0-48a6-9eeb-2277f1e73cf6"
      },
      "execution_count": 52,
      "outputs": [
        {
          "output_type": "stream",
          "name": "stdout",
          "text": [
            "Unique values in 'FN' column: [nan  1.]\n"
          ]
        }
      ]
    },
    {
      "cell_type": "code",
      "source": [
        "# Unique values in the 'Active' column\n",
        "print(\"Unique values in 'Active' column:\", customers['Active'].unique())"
      ],
      "metadata": {
        "colab": {
          "base_uri": "https://localhost:8080/"
        },
        "id": "XkDzj0quinUz",
        "outputId": "cc7780c2-cf56-4826-dc0b-94c287b246b1"
      },
      "execution_count": 53,
      "outputs": [
        {
          "output_type": "stream",
          "name": "stdout",
          "text": [
            "Unique values in 'Active' column: [nan  1.]\n"
          ]
        }
      ]
    },
    {
      "cell_type": "code",
      "source": [
        "# Unique values in the 'club_member_status' column\n",
        "print(\"Unique values in 'club_member_status' column:\", customers['club_member_status'].unique())\n",
        "print(customers[\"club_member_status\"].value_counts())\n",
        "print(\"Sum non-null: \", customers[\"club_member_status\"].value_counts().sum()) # out of 1371980"
      ],
      "metadata": {
        "colab": {
          "base_uri": "https://localhost:8080/"
        },
        "id": "br4psKsTi4Xv",
        "outputId": "27ca3357-f6dd-4d33-da18-19dcdbad3e3c"
      },
      "execution_count": 54,
      "outputs": [
        {
          "output_type": "stream",
          "name": "stdout",
          "text": [
            "Unique values in 'club_member_status' column: ['ACTIVE' nan 'PRE-CREATE' 'LEFT CLUB']\n",
            "ACTIVE        1272491\n",
            "PRE-CREATE      92960\n",
            "LEFT CLUB         467\n",
            "Name: club_member_status, dtype: int64\n",
            "Sum non-null:  1365918\n"
          ]
        }
      ]
    },
    {
      "cell_type": "code",
      "source": [
        "# Unique values in the 'fashion_news_frequency' column\n",
        "print(\"Unique values in 'fashion_news_frequency' column:\", customers['fashion_news_frequency'].unique())\n",
        "print(customers[\"fashion_news_frequency\"].value_counts())\n",
        "print(\"Sum non-null: \", customers[\"fashion_news_frequency\"].value_counts().sum())"
      ],
      "metadata": {
        "colab": {
          "base_uri": "https://localhost:8080/"
        },
        "id": "QbJS9lzTjlsM",
        "outputId": "c2df430c-f187-493a-ed49-6d5d564db063"
      },
      "execution_count": 55,
      "outputs": [
        {
          "output_type": "stream",
          "name": "stdout",
          "text": [
            "Unique values in 'fashion_news_frequency' column: ['NONE' 'Regularly' nan 'Monthly' 'None']\n",
            "NONE         877711\n",
            "Regularly    477416\n",
            "Monthly         842\n",
            "None              2\n",
            "Name: fashion_news_frequency, dtype: int64\n",
            "Sum non-null:  1355971\n"
          ]
        }
      ]
    },
    {
      "cell_type": "code",
      "source": [
        "customers['age'].describe()"
      ],
      "metadata": {
        "colab": {
          "base_uri": "https://localhost:8080/"
        },
        "id": "W0ReDxtT_p-V",
        "outputId": "0c23ce8a-4bb3-4209-d100-9cbf70c548f8"
      },
      "execution_count": 56,
      "outputs": [
        {
          "output_type": "execute_result",
          "data": {
            "text/plain": [
              "count    1.356119e+06\n",
              "mean     3.638696e+01\n",
              "std      1.431363e+01\n",
              "min      1.600000e+01\n",
              "25%      2.400000e+01\n",
              "50%      3.200000e+01\n",
              "75%      4.900000e+01\n",
              "max      9.900000e+01\n",
              "Name: age, dtype: float64"
            ]
          },
          "metadata": {},
          "execution_count": 56
        }
      ]
    },
    {
      "cell_type": "code",
      "source": [
        "# Define a custom formatting function\n",
        "def formatted_age(describe_series):\n",
        "    return describe_series.apply(lambda x: f\"{x:.2f}\" if x.is_integer() else f\"{x:.2f}\")\n",
        "\n",
        "# Apply the custom formatting function to the describe result\n",
        "formatted_age = formatted_age(customers['age'].describe())\n",
        "\n",
        "# Print the formatted result\n",
        "print(formatted_age)"
      ],
      "metadata": {
        "colab": {
          "base_uri": "https://localhost:8080/"
        },
        "id": "zwexojOYlKan",
        "outputId": "802f75e9-5b78-4c8a-a5d3-d5350bf6a86f"
      },
      "execution_count": 57,
      "outputs": [
        {
          "output_type": "stream",
          "name": "stdout",
          "text": [
            "count    1356119.00\n",
            "mean          36.39\n",
            "std           14.31\n",
            "min           16.00\n",
            "25%           24.00\n",
            "50%           32.00\n",
            "75%           49.00\n",
            "max           99.00\n",
            "Name: age, dtype: object\n"
          ]
        }
      ]
    },
    {
      "cell_type": "code",
      "source": [
        "empty_age_count = customers['age'].isnull().sum()\n",
        "print(\"Number of empty values in 'age':\", empty_age_count)"
      ],
      "metadata": {
        "colab": {
          "base_uri": "https://localhost:8080/"
        },
        "id": "LqauF8Ox7Yw3",
        "outputId": "44563fcf-0fc4-4705-8ac8-450a082c1ab9"
      },
      "execution_count": 58,
      "outputs": [
        {
          "output_type": "stream",
          "name": "stdout",
          "text": [
            "Number of empty values in 'age': 15861\n"
          ]
        }
      ]
    },
    {
      "cell_type": "code",
      "source": [
        "customers[\"age\"].value_counts()"
      ],
      "metadata": {
        "colab": {
          "base_uri": "https://localhost:8080/"
        },
        "id": "yuWMysjf17Si",
        "outputId": "3e78aea3-2dea-4b96-abe9-273961165656"
      },
      "execution_count": 59,
      "outputs": [
        {
          "output_type": "execute_result",
          "data": {
            "text/plain": [
              "21.0    67530\n",
              "24.0    56124\n",
              "20.0    55196\n",
              "25.0    54989\n",
              "23.0    54867\n",
              "        ...  \n",
              "98.0        7\n",
              "97.0        4\n",
              "93.0        4\n",
              "96.0        3\n",
              "94.0        3\n",
              "Name: age, Length: 84, dtype: int64"
            ]
          },
          "metadata": {},
          "execution_count": 59
        }
      ]
    },
    {
      "cell_type": "code",
      "source": [
        "sns.set(style=\"whitegrid\")  # Set the style of the plot\n",
        "\n",
        "# Create a histogram using Seaborn\n",
        "plt.figure(figsize=(10, 6))  # Set the figure size\n",
        "sns.histplot(data=customers, x='age', bins=30, kde=True)  # Create a histogram with KDE overlay\n",
        "\n",
        "# Customize the plot\n",
        "plt.title('Distribution of Ages')\n",
        "plt.xlabel('Age')\n",
        "plt.ylabel('Count')\n",
        "\n",
        "# Show the plot\n",
        "plt.show()"
      ],
      "metadata": {
        "colab": {
          "base_uri": "https://localhost:8080/",
          "height": 573
        },
        "id": "XRMG8EKp3MY3",
        "outputId": "a5ca7136-bb97-43b7-a747-6a7e43b69023"
      },
      "execution_count": 60,
      "outputs": [
        {
          "output_type": "display_data",
          "data": {
            "text/plain": [
              "<Figure size 1000x600 with 1 Axes>"
            ],
            "image/png": "[encoded data removed]"
          },
          "metadata": {}
        }
      ]
    },
    {
      "cell_type": "code",
      "source": [
        "# Fill NaN values in the 'Active' column with 0 to represent inactive users\n",
        "customers['Active'].fillna(0, inplace=True)\n",
        "\n",
        "# Set the style of the plot\n",
        "sns.set(style=\"whitegrid\")\n",
        "\n",
        "# Create a histogram using Seaborn for both active and non-active users\n",
        "plt.figure(figsize=(10, 6))\n",
        "sns.histplot(data=customers, x='age', bins=30, kde=True, hue='Active', element='step', common_norm=False)\n",
        "\n",
        "# Customize the plot\n",
        "plt.title('Distribution of Ages')\n",
        "plt.xlabel('Age')\n",
        "plt.ylabel('Count')\n",
        "\n",
        "# Show the plot\n",
        "plt.show()"
      ],
      "metadata": {
        "colab": {
          "base_uri": "https://localhost:8080/",
          "height": 573
        },
        "id": "f4wL1wXhNulN",
        "outputId": "522cf50f-5967-4900-efda-2872751ee282"
      },
      "execution_count": 61,
      "outputs": [
        {
          "output_type": "display_data",
          "data": {
            "text/plain": [
              "<Figure size 1000x600 with 1 Axes>"
            ],
            "image/png": "[encoded data removed]"
          },
          "metadata": {}
        }
      ]
    },
    {
      "cell_type": "code",
      "source": [
        "## Format Customer ID\n",
        "customers[\"customer_id\"].iloc[0]"
      ],
      "metadata": {
        "colab": {
          "base_uri": "https://localhost:8080/",
          "height": 36
        },
        "id": "KSkr22O-m0ej",
        "outputId": "2a71967c-053a-4ad8-a251-4c8bf1a6684f"
      },
      "execution_count": 62,
      "outputs": [
        {
          "output_type": "execute_result",
          "data": {
            "text/plain": [
              "'00000dbacae5abe5e23885899a1fa44253a17956c6d1c3d25f88aa139fdfc657'"
            ],
            "application/vnd.google.colaboratory.intrinsic+json": {
              "type": "string"
            }
          },
          "metadata": {},
          "execution_count": 62
        }
      ]
    },
    {
      "cell_type": "code",
      "source": [
        "# Pattern to match a 64-character hexadecimal string\n",
        "hexadecimal_pattern = r'^[0-9a-f]{64}$'\n",
        "\n",
        "# Check if all customer IDs match the pattern\n",
        "all_customer_ids_match = customers[\"customer_id\"].str.match(hexadecimal_pattern).all()\n",
        "\n",
        "if all_customer_ids_match:\n",
        "    print(\"All customer IDs have the format of a 64-character hexadecimal string.\")\n",
        "else:\n",
        "    print(\"Not all customer IDs have the format of a 64-character hexadecimal string.\")"
      ],
      "metadata": {
        "colab": {
          "base_uri": "https://localhost:8080/"
        },
        "id": "H508z9LjnDM9",
        "outputId": "c0ed8118-13a6-49a2-e73a-3a384bc21eb4"
      },
      "execution_count": 63,
      "outputs": [
        {
          "output_type": "stream",
          "name": "stdout",
          "text": [
            "All customer IDs have the format of a 64-character hexadecimal string.\n"
          ]
        }
      ]
    },
    {
      "cell_type": "code",
      "source": [
        "## Format Postal Code\n",
        "customers[\"postal_code\"].iloc[0]"
      ],
      "metadata": {
        "colab": {
          "base_uri": "https://localhost:8080/",
          "height": 36
        },
        "id": "XaVH0iZhoARR",
        "outputId": "b3f073aa-7099-4554-9c04-b89d339c4a63"
      },
      "execution_count": 64,
      "outputs": [
        {
          "output_type": "execute_result",
          "data": {
            "text/plain": [
              "'52043ee2162cf5aa7ee79974281641c6f11a68d276429a91f8ca0d4b6efa8100'"
            ],
            "application/vnd.google.colaboratory.intrinsic+json": {
              "type": "string"
            }
          },
          "metadata": {},
          "execution_count": 64
        }
      ]
    },
    {
      "cell_type": "code",
      "source": [
        "# Pattern to match a 64-character hexadecimal string\n",
        "hexadecimal_pattern = r'^[0-9a-f]{64}$'\n",
        "\n",
        "# Check if all postal codes match the pattern\n",
        "all_postal_codes_match = customers[\"postal_code\"].str.match(hexadecimal_pattern).all()\n",
        "\n",
        "if all_postal_codes_match:\n",
        "    print(\"All postal codes have the format of a 64-character hexadecimal string.\")\n",
        "else:\n",
        "    print(\"Not all postal codes have the format of a 64-character hexadecimal string.\")"
      ],
      "metadata": {
        "colab": {
          "base_uri": "https://localhost:8080/"
        },
        "id": "hGvbsyjOoSNF",
        "outputId": "cce24b0a-cdac-44ee-b3a4-d14ba207a277"
      },
      "execution_count": 65,
      "outputs": [
        {
          "output_type": "stream",
          "name": "stdout",
          "text": [
            "All postal codes have the format of a 64-character hexadecimal string.\n"
          ]
        }
      ]
    },
    {
      "cell_type": "markdown",
      "source": [
        "# articles.csv"
      ],
      "metadata": {
        "id": "IzdIsRCQ_2FB"
      }
    },
    {
      "cell_type": "code",
      "source": [
        "articles = pd.read_csv('/content/drive/MyDrive/AIPROJECT/articles.csv')"
      ],
      "metadata": {
        "id": "Bmq2d3kYo2AG"
      },
      "execution_count": 70,
      "outputs": []
    },
    {
      "cell_type": "code",
      "source": [
        "articles.info()"
      ],
      "metadata": {
        "colab": {
          "base_uri": "https://localhost:8080/"
        },
        "id": "gRMhJDHVASWC",
        "outputId": "bf14f351-e1da-4a51-8cce-90f5042ccef6"
      },
      "execution_count": null,
      "outputs": [
        {
          "output_type": "stream",
          "name": "stdout",
          "text": [
            "<class 'pandas.core.frame.DataFrame'>\n",
            "RangeIndex: 105542 entries, 0 to 105541\n",
            "Data columns (total 25 columns):\n",
            " #   Column                        Non-Null Count   Dtype \n",
            "---  ------                        --------------   ----- \n",
            " 0   article_id                    105542 non-null  int64 \n",
            " 1   product_code                  105542 non-null  int64 \n",
            " 2   prod_name                     105542 non-null  object\n",
            " 3   product_type_no               105542 non-null  int64 \n",
            " 4   product_type_name             105542 non-null  object\n",
            " 5   product_group_name            105542 non-null  object\n",
            " 6   graphical_appearance_no       105542 non-null  int64 \n",
            " 7   graphical_appearance_name     105542 non-null  object\n",
            " 8   colour_group_code             105542 non-null  int64 \n",
            " 9   colour_group_name             105542 non-null  object\n",
            " 10  perceived_colour_value_id     105542 non-null  int64 \n",
            " 11  perceived_colour_value_name   105542 non-null  object\n",
            " 12  perceived_colour_master_id    105542 non-null  int64 \n",
            " 13  perceived_colour_master_name  105542 non-null  object\n",
            " 14  department_no                 105542 non-null  int64 \n",
            " 15  department_name               105542 non-null  object\n",
            " 16  index_code                    105542 non-null  object\n",
            " 17  index_name                    105542 non-null  object\n",
            " 18  index_group_no                105542 non-null  int64 \n",
            " 19  index_group_name              105542 non-null  object\n",
            " 20  section_no                    105542 non-null  int64 \n",
            " 21  section_name                  105542 non-null  object\n",
            " 22  garment_group_no              105542 non-null  int64 \n",
            " 23  garment_group_name            105542 non-null  object\n",
            " 24  detail_desc                   105126 non-null  object\n",
            "dtypes: int64(11), object(14)\n",
            "memory usage: 20.1+ MB\n"
          ]
        }
      ]
    },
    {
      "cell_type": "code",
      "source": [
        "articles.head(3)"
      ],
      "metadata": {
        "colab": {
          "base_uri": "https://localhost:8080/",
          "height": 349
        },
        "id": "pXQ_wPp38dfG",
        "outputId": "5cf2d2e6-5d3e-4c2f-fdb6-880534070c0e"
      },
      "execution_count": null,
      "outputs": [
        {
          "output_type": "execute_result",
          "data": {
            "text/plain": [
              "   article_id  product_code      prod_name  product_type_no product_type_name  \\\n",
              "0   108775015        108775      Strap top              253          Vest top   \n",
              "1   108775044        108775      Strap top              253          Vest top   \n",
              "2   108775051        108775  Strap top (1)              253          Vest top   \n",
              "\n",
              "   product_group_name  graphical_appearance_no graphical_appearance_name  \\\n",
              "0  Garment Upper body                  1010016                     Solid   \n",
              "1  Garment Upper body                  1010016                     Solid   \n",
              "2  Garment Upper body                  1010017                    Stripe   \n",
              "\n",
              "   colour_group_code colour_group_name  ...  department_name index_code  \\\n",
              "0                  9             Black  ...     Jersey Basic          A   \n",
              "1                 10             White  ...     Jersey Basic          A   \n",
              "2                 11         Off White  ...     Jersey Basic          A   \n",
              "\n",
              "   index_name index_group_no  index_group_name section_no  \\\n",
              "0  Ladieswear              1        Ladieswear         16   \n",
              "1  Ladieswear              1        Ladieswear         16   \n",
              "2  Ladieswear              1        Ladieswear         16   \n",
              "\n",
              "             section_name garment_group_no  garment_group_name  \\\n",
              "0  Womens Everyday Basics             1002        Jersey Basic   \n",
              "1  Womens Everyday Basics             1002        Jersey Basic   \n",
              "2  Womens Everyday Basics             1002        Jersey Basic   \n",
              "\n",
              "                               detail_desc  \n",
              "0  Jersey top with narrow shoulder straps.  \n",
              "1  Jersey top with narrow shoulder straps.  \n",
              "2  Jersey top with narrow shoulder straps.  \n",
              "\n",
              "[3 rows x 25 columns]"
            ],
            "text/html": [
              "\n",
              "  <div id=\"df-0ec22206-c50a-4d6d-954e-9a43be80eb84\" class=\"colab-df-container\">\n",
              "    <div>\n",
              "<style scoped>\n",
              "    .dataframe tbody tr th:only-of-type {\n",
              "        vertical-align: middle;\n",
              "    }\n",
              "\n",
              "    .dataframe tbody tr th {\n",
              "        vertical-align: top;\n",
              "    }\n",
              "\n",
              "    .dataframe thead th {\n",
              "        text-align: right;\n",
              "    }\n",
              "</style>\n",
              "<table border=\"1\" class=\"dataframe\">\n",
              "  <thead>\n",
              "    <tr style=\"text-align: right;\">\n",
              "      <th></th>\n",
              "      <th>article_id</th>\n",
              "      <th>product_code</th>\n",
              "      <th>prod_name</th>\n",
              "      <th>product_type_no</th>\n",
              "      <th>product_type_name</th>\n",
              "      <th>product_group_name</th>\n",
              "      <th>graphical_appearance_no</th>\n",
              "      <th>graphical_appearance_name</th>\n",
              "      <th>colour_group_code</th>\n",
              "      <th>colour_group_name</th>\n",
              "      <th>...</th>\n",
              "      <th>department_name</th>\n",
              "      <th>index_code</th>\n",
              "      <th>index_name</th>\n",
              "      <th>index_group_no</th>\n",
              "      <th>index_group_name</th>\n",
              "      <th>section_no</th>\n",
              "      <th>section_name</th>\n",
              "      <th>garment_group_no</th>\n",
              "      <th>garment_group_name</th>\n",
              "      <th>detail_desc</th>\n",
              "    </tr>\n",
              "  </thead>\n",
              "  <tbody>\n",
              "    <tr>\n",
              "      <th>0</th>\n",
              "      <td>108775015</td>\n",
              "      <td>108775</td>\n",
              "      <td>Strap top</td>\n",
              "      <td>253</td>\n",
              "      <td>Vest top</td>\n",
              "      <td>Garment Upper body</td>\n",
              "      <td>1010016</td>\n",
              "      <td>Solid</td>\n",
              "      <td>9</td>\n",
              "      <td>Black</td>\n",
              "      <td>...</td>\n",
              "      <td>Jersey Basic</td>\n",
              "      <td>A</td>\n",
              "      <td>Ladieswear</td>\n",
              "      <td>1</td>\n",
              "      <td>Ladieswear</td>\n",
              "      <td>16</td>\n",
              "      <td>Womens Everyday Basics</td>\n",
              "      <td>1002</td>\n",
              "      <td>Jersey Basic</td>\n",
              "      <td>Jersey top with narrow shoulder straps.</td>\n",
              "    </tr>\n",
              "    <tr>\n",
              "      <th>1</th>\n",
              "      <td>108775044</td>\n",
              "      <td>108775</td>\n",
              "      <td>Strap top</td>\n",
              "      <td>253</td>\n",
              "      <td>Vest top</td>\n",
              "      <td>Garment Upper body</td>\n",
              "      <td>1010016</td>\n",
              "      <td>Solid</td>\n",
              "      <td>10</td>\n",
              "      <td>White</td>\n",
              "      <td>...</td>\n",
              "      <td>Jersey Basic</td>\n",
              "      <td>A</td>\n",
              "      <td>Ladieswear</td>\n",
              "      <td>1</td>\n",
              "      <td>Ladieswear</td>\n",
              "      <td>16</td>\n",
              "      <td>Womens Everyday Basics</td>\n",
              "      <td>1002</td>\n",
              "      <td>Jersey Basic</td>\n",
              "      <td>Jersey top with narrow shoulder straps.</td>\n",
              "    </tr>\n",
              "    <tr>\n",
              "      <th>2</th>\n",
              "      <td>108775051</td>\n",
              "      <td>108775</td>\n",
              "      <td>Strap top (1)</td>\n",
              "      <td>253</td>\n",
              "      <td>Vest top</td>\n",
              "      <td>Garment Upper body</td>\n",
              "      <td>1010017</td>\n",
              "      <td>Stripe</td>\n",
              "      <td>11</td>\n",
              "      <td>Off White</td>\n",
              "      <td>...</td>\n",
              "      <td>Jersey Basic</td>\n",
              "      <td>A</td>\n",
              "      <td>Ladieswear</td>\n",
              "      <td>1</td>\n",
              "      <td>Ladieswear</td>\n",
              "      <td>16</td>\n",
              "      <td>Womens Everyday Basics</td>\n",
              "      <td>1002</td>\n",
              "      <td>Jersey Basic</td>\n",
              "      <td>Jersey top with narrow shoulder straps.</td>\n",
              "    </tr>\n",
              "  </tbody>\n",
              "</table>\n",
              "<p>3 rows × 25 columns</p>\n",
              "</div>\n",
              "    <div class=\"colab-df-buttons\">\n",
              "\n",
              "  <div class=\"colab-df-container\">\n",
              "    <button class=\"colab-df-convert\" onclick=\"convertToInteractive('df-0ec22206-c50a-4d6d-954e-9a43be80eb84')\"\n",
              "            title=\"Convert this dataframe to an interactive table.\"\n",
              "            style=\"display:none;\">\n",
              "\n",
              "  <svg xmlns=\"http://www.w3.org/2000/svg\" height=\"24px\" viewBox=\"0 -960 960 960\">\n",
              "    <path d=\"M120-120v-720h720v720H120Zm60-500h600v-160H180v160Zm220 220h160v-160H400v160Zm0 220h160v-160H400v160ZM180-400h160v-160H180v160Zm440 0h160v-160H620v160ZM180-180h160v-160H180v160Zm440 0h160v-160H620v160Z\"/>\n",
              "  </svg>\n",
              "    </button>\n",
              "\n",
              "  <style>\n",
              "    .colab-df-container {\n",
              "      display:flex;\n",
              "      gap: 12px;\n",
              "    }\n",
              "\n",
              "    .colab-df-convert {\n",
              "      background-color: #E8F0FE;\n",
              "      border: none;\n",
              "      border-radius: 50%;\n",
              "      cursor: pointer;\n",
              "      display: none;\n",
              "      fill: #1967D2;\n",
              "      height: 32px;\n",
              "      padding: 0 0 0 0;\n",
              "      width: 32px;\n",
              "    }\n",
              "\n",
              "    .colab-df-convert:hover {\n",
              "      background-color: #E2EBFA;\n",
              "      box-shadow: 0px 1px 2px rgba(60, 64, 67, 0.3), 0px 1px 3px 1px rgba(60, 64, 67, 0.15);\n",
              "      fill: #174EA6;\n",
              "    }\n",
              "\n",
              "    .colab-df-buttons div {\n",
              "      margin-bottom: 4px;\n",
              "    }\n",
              "\n",
              "    [theme=dark] .colab-df-convert {\n",
              "      background-color: #3B4455;\n",
              "      fill: #D2E3FC;\n",
              "    }\n",
              "\n",
              "    [theme=dark] .colab-df-convert:hover {\n",
              "      background-color: #434B5C;\n",
              "      box-shadow: 0px 1px 3px 1px rgba(0, 0, 0, 0.15);\n",
              "      filter: drop-shadow(0px 1px 2px rgba(0, 0, 0, 0.3));\n",
              "      fill: #FFFFFF;\n",
              "    }\n",
              "  </style>\n",
              "\n",
              "    <script>\n",
              "      const buttonEl =\n",
              "        document.querySelector('#df-0ec22206-c50a-4d6d-954e-9a43be80eb84 button.colab-df-convert');\n",
              "      buttonEl.style.display =\n",
              "        google.colab.kernel.accessAllowed ? 'block' : 'none';\n",
              "\n",
              "      async function convertToInteractive(key) {\n",
              "        const element = document.querySelector('#df-0ec22206-c50a-4d6d-954e-9a43be80eb84');\n",
              "        const dataTable =\n",
              "          await google.colab.kernel.invokeFunction('convertToInteractive',\n",
              "                                                    [key], {});\n",
              "        if (!dataTable) return;\n",
              "\n",
              "        const docLinkHtml = 'Like what you see? Visit the ' +\n",
              "          '<a target=\"_blank\" href=https://colab.research.google.com/notebooks/data_table.ipynb>data table notebook</a>'\n",
              "          + ' to learn more about interactive tables.';\n",
              "        element.innerHTML = '';\n",
              "        dataTable['output_type'] = 'display_data';\n",
              "        await google.colab.output.renderOutput(dataTable, element);\n",
              "        const docLink = document.createElement('div');\n",
              "        docLink.innerHTML = docLinkHtml;\n",
              "        element.appendChild(docLink);\n",
              "      }\n",
              "    </script>\n",
              "  </div>\n",
              "\n",
              "\n",
              "<div id=\"df-675d3694-070e-4f2a-b228-bc151369165f\">\n",
              "  <button class=\"colab-df-quickchart\" onclick=\"quickchart('df-675d3694-070e-4f2a-b228-bc151369165f')\"\n",
              "            title=\"Suggest charts.\"\n",
              "            style=\"display:none;\">\n",
              "\n",
              "<svg xmlns=\"http://www.w3.org/2000/svg\" height=\"24px\"viewBox=\"0 0 24 24\"\n",
              "     width=\"24px\">\n",
              "    <g>\n",
              "        <path d=\"M19 3H5c-1.1 0-2 .9-2 2v14c0 1.1.9 2 2 2h14c1.1 0 2-.9 2-2V5c0-1.1-.9-2-2-2zM9 17H7v-7h2v7zm4 0h-2V7h2v10zm4 0h-2v-4h2v4z\"/>\n",
              "    </g>\n",
              "</svg>\n",
              "  </button>\n",
              "\n",
              "<style>\n",
              "  .colab-df-quickchart {\n",
              "      --bg-color: #E8F0FE;\n",
              "      --fill-color: #1967D2;\n",
              "      --hover-bg-color: #E2EBFA;\n",
              "      --hover-fill-color: #174EA6;\n",
              "      --disabled-fill-color: #AAA;\n",
              "      --disabled-bg-color: #DDD;\n",
              "  }\n",
              "\n",
              "  [theme=dark] .colab-df-quickchart {\n",
              "      --bg-color: #3B4455;\n",
              "      --fill-color: #D2E3FC;\n",
              "      --hover-bg-color: #434B5C;\n",
              "      --hover-fill-color: #FFFFFF;\n",
              "      --disabled-bg-color: #3B4455;\n",
              "      --disabled-fill-color: #666;\n",
              "  }\n",
              "\n",
              "  .colab-df-quickchart {\n",
              "    background-color: var(--bg-color);\n",
              "    border: none;\n",
              "    border-radius: 50%;\n",
              "    cursor: pointer;\n",
              "    display: none;\n",
              "    fill: var(--fill-color);\n",
              "    height: 32px;\n",
              "    padding: 0;\n",
              "    width: 32px;\n",
              "  }\n",
              "\n",
              "  .colab-df-quickchart:hover {\n",
              "    background-color: var(--hover-bg-color);\n",
              "    box-shadow: 0 1px 2px rgba(60, 64, 67, 0.3), 0 1px 3px 1px rgba(60, 64, 67, 0.15);\n",
              "    fill: var(--button-hover-fill-color);\n",
              "  }\n",
              "\n",
              "  .colab-df-quickchart-complete:disabled,\n",
              "  .colab-df-quickchart-complete:disabled:hover {\n",
              "    background-color: var(--disabled-bg-color);\n",
              "    fill: var(--disabled-fill-color);\n",
              "    box-shadow: none;\n",
              "  }\n",
              "\n",
              "  .colab-df-spinner {\n",
              "    border: 2px solid var(--fill-color);\n",
              "    border-color: transparent;\n",
              "    border-bottom-color: var(--fill-color);\n",
              "    animation:\n",
              "      spin 1s steps(1) infinite;\n",
              "  }\n",
              "\n",
              "  @keyframes spin {\n",
              "    0% {\n",
              "      border-color: transparent;\n",
              "      border-bottom-color: var(--fill-color);\n",
              "      border-left-color: var(--fill-color);\n",
              "    }\n",
              "    20% {\n",
              "      border-color: transparent;\n",
              "      border-left-color: var(--fill-color);\n",
              "      border-top-color: var(--fill-color);\n",
              "    }\n",
              "    30% {\n",
              "      border-color: transparent;\n",
              "      border-left-color: var(--fill-color);\n",
              "      border-top-color: var(--fill-color);\n",
              "      border-right-color: var(--fill-color);\n",
              "    }\n",
              "    40% {\n",
              "      border-color: transparent;\n",
              "      border-right-color: var(--fill-color);\n",
              "      border-top-color: var(--fill-color);\n",
              "    }\n",
              "    60% {\n",
              "      border-color: transparent;\n",
              "      border-right-color: var(--fill-color);\n",
              "    }\n",
              "    80% {\n",
              "      border-color: transparent;\n",
              "      border-right-color: var(--fill-color);\n",
              "      border-bottom-color: var(--fill-color);\n",
              "    }\n",
              "    90% {\n",
              "      border-color: transparent;\n",
              "      border-bottom-color: var(--fill-color);\n",
              "    }\n",
              "  }\n",
              "</style>\n",
              "\n",
              "  <script>\n",
              "    async function quickchart(key) {\n",
              "      const quickchartButtonEl =\n",
              "        document.querySelector('#' + key + ' button');\n",
              "      quickchartButtonEl.disabled = true;  // To prevent multiple clicks.\n",
              "      quickchartButtonEl.classList.add('colab-df-spinner');\n",
              "      try {\n",
              "        const charts = await google.colab.kernel.invokeFunction(\n",
              "            'suggestCharts', [key], {});\n",
              "      } catch (error) {\n",
              "        console.error('Error during call to suggestCharts:', error);\n",
              "      }\n",
              "      quickchartButtonEl.classList.remove('colab-df-spinner');\n",
              "      quickchartButtonEl.classList.add('colab-df-quickchart-complete');\n",
              "    }\n",
              "    (() => {\n",
              "      let quickchartButtonEl =\n",
              "        document.querySelector('#df-675d3694-070e-4f2a-b228-bc151369165f button');\n",
              "      quickchartButtonEl.style.display =\n",
              "        google.colab.kernel.accessAllowed ? 'block' : 'none';\n",
              "    })();\n",
              "  </script>\n",
              "</div>\n",
              "    </div>\n",
              "  </div>\n"
            ]
          },
          "metadata": {},
          "execution_count": 55
        }
      ]
    },
    {
      "cell_type": "code",
      "source": [
        "# checking for missing values\n",
        "# printing columns with missing values and their percentage\n",
        "for col in articles.columns:\n",
        "    if articles[col].isnull().sum() > 0:\n",
        "        print(f'{col} has {round(articles[col].isnull().sum()/len(articles[col])*100, 2)}% missing values')\n",
        "\n",
        "# plotting the missing values\n",
        "sns.heatmap(articles.isnull(), cbar=False)\n",
        "plt.title('Missing Values')\n",
        "plt.yticks([])\n",
        "plt.show()"
      ],
      "metadata": {
        "colab": {
          "base_uri": "https://localhost:8080/",
          "height": 676
        },
        "id": "aYDA_Ajp-1m0",
        "outputId": "eb77d637-20d5-42f9-86bc-6e7b5aa3a4ee"
      },
      "execution_count": null,
      "outputs": [
        {
          "output_type": "stream",
          "name": "stdout",
          "text": [
            "detail_desc has 0.39% missing values\n"
          ]
        },
        {
          "output_type": "display_data",
          "data": {
            "text/plain": [
              "<Figure size 640x480 with 1 Axes>"
            ],
            "image/png": "[encoded data removed]"
          },
          "metadata": {}
        }
      ]
    },
    {
      "cell_type": "code",
      "source": [
        "empty_detail_desc_count = articles['detail_desc'].isnull().sum()\n",
        "print(\"Number of empty values in 'detail_desc':\", empty_detail_desc_count)"
      ],
      "metadata": {
        "colab": {
          "base_uri": "https://localhost:8080/"
        },
        "id": "rCCsUhAN_MrY",
        "outputId": "621b8df9-5f2b-400d-e7bb-308ed3341233"
      },
      "execution_count": null,
      "outputs": [
        {
          "output_type": "stream",
          "name": "stdout",
          "text": [
            "Number of empty values in 'detail_desc': 416\n"
          ]
        }
      ]
    },
    {
      "cell_type": "code",
      "source": [
        "## Unique values per column\n",
        "print(articles.nunique())"
      ],
      "metadata": {
        "colab": {
          "base_uri": "https://localhost:8080/"
        },
        "id": "2nXVjKfjpWtb",
        "outputId": "41ff3c29-eb36-4907-d541-de1b0e9be074"
      },
      "execution_count": null,
      "outputs": [
        {
          "output_type": "stream",
          "name": "stdout",
          "text": [
            "article_id                      105542\n",
            "product_code                     47224\n",
            "prod_name                        45875\n",
            "product_type_no                    132\n",
            "product_type_name                  131\n",
            "product_group_name                  19\n",
            "graphical_appearance_no             30\n",
            "graphical_appearance_name           30\n",
            "colour_group_code                   50\n",
            "colour_group_name                   50\n",
            "perceived_colour_value_id            8\n",
            "perceived_colour_value_name          8\n",
            "perceived_colour_master_id          20\n",
            "perceived_colour_master_name        20\n",
            "department_no                      299\n",
            "department_name                    250\n",
            "index_code                          10\n",
            "index_name                          10\n",
            "index_group_no                       5\n",
            "index_group_name                     5\n",
            "section_no                          57\n",
            "section_name                        56\n",
            "garment_group_no                    21\n",
            "garment_group_name                  21\n",
            "detail_desc                      43404\n",
            "dtype: int64\n"
          ]
        }
      ]
    },
    {
      "cell_type": "markdown",
      "source": [
        "    ('product_type_no', 'product_type_name'),                         (132,131)\n",
        "    ('product_group_name', 'product_group_name'),                     ()\n",
        "    ('graphical_appearance_no', 'graphical_appearance_name'),         (30,30)\n",
        "    ('colour_group_code', 'colour_group_name'),                       (50,50)\n",
        "    ('perceived_colour_value_id', 'perceived_colour_value_name'),     (8,8)\n",
        "    ('perceived_colour_master_id', 'perceived_colour_master_name'),   (20,20)\n",
        "    ('department_no', 'department_name'),                             (299,250)\n",
        "    ('index_code', 'index_name'),                                     (10,10)\n",
        "    ('index_group_no', 'index_group_name'),                           (5,5)\n",
        "    ('section_no', 'section_name'),                                   (57,56)\n",
        "    ('garment_group_no', 'garment_group_name')                        (21,21)"
      ],
      "metadata": {
        "id": "EUeWpFnZHIqy"
      }
    },
    {
      "cell_type": "code",
      "source": [
        "# data distribution in the categorical columns\n",
        "categorical_cols = articles.select_dtypes(include=['object']).columns\n",
        "\n",
        "# unique values in each cateforical column\n",
        "for col in categorical_cols:\n",
        "    print(f'{col} has {articles[col].nunique()} unique values.')"
      ],
      "metadata": {
        "colab": {
          "base_uri": "https://localhost:8080/"
        },
        "id": "eHVqJWhXAlWw",
        "outputId": "07740e5d-5feb-4ea4-ce64-12699e8610c4"
      },
      "execution_count": null,
      "outputs": [
        {
          "output_type": "stream",
          "name": "stdout",
          "text": [
            "prod_name has 45875 unique values.\n",
            "product_type_name has 131 unique values.\n",
            "product_group_name has 19 unique values.\n",
            "graphical_appearance_name has 30 unique values.\n",
            "colour_group_name has 50 unique values.\n",
            "perceived_colour_value_name has 8 unique values.\n",
            "perceived_colour_master_name has 20 unique values.\n",
            "department_name has 250 unique values.\n",
            "index_code has 10 unique values.\n",
            "index_name has 10 unique values.\n",
            "index_group_name has 5 unique values.\n",
            "section_name has 56 unique values.\n",
            "garment_group_name has 21 unique values.\n",
            "detail_desc has 43404 unique values.\n"
          ]
        }
      ]
    },
    {
      "cell_type": "code",
      "source": [
        "# for col in categorical_cols:\n",
        "#     unique_values = articles[col].unique()\n",
        "#     print(f'Unique values in {col}: {unique_values}')\n"
      ],
      "metadata": {
        "id": "VNOkKboPzPxv"
      },
      "execution_count": null,
      "outputs": []
    },
    {
      "cell_type": "code",
      "source": [
        "## Format Article ID\n",
        "articles[\"article_id\"].iloc[1]"
      ],
      "metadata": {
        "id": "fAiguxkEArnm",
        "colab": {
          "base_uri": "https://localhost:8080/"
        },
        "outputId": "ce332449-68eb-42b5-f586-8dc63b581136"
      },
      "execution_count": null,
      "outputs": [
        {
          "output_type": "execute_result",
          "data": {
            "text/plain": [
              "108775044"
            ]
          },
          "metadata": {},
          "execution_count": 67
        }
      ]
    },
    {
      "cell_type": "code",
      "source": [
        "random_article_ids = articles['article_id'].sample(n=10, random_state=42)  # You can change the random_state for different random selections\n",
        "\n",
        "# Print the 10 random article_ids\n",
        "print(\"Randomly selected article_ids:\")\n",
        "for article_id in random_article_ids:\n",
        "    print(article_id)"
      ],
      "metadata": {
        "id": "hgEddI7qCRoW",
        "colab": {
          "base_uri": "https://localhost:8080/"
        },
        "outputId": "948ab453-07e7-4810-894c-738bc117e5c5"
      },
      "execution_count": null,
      "outputs": [
        {
          "output_type": "stream",
          "name": "stdout",
          "text": [
            "Randomly selected article_ids:\n",
            "681107007\n",
            "686284001\n",
            "544254002\n",
            "820021001\n",
            "754256001\n",
            "821338004\n",
            "651490003\n",
            "487205007\n",
            "886270006\n",
            "755712001\n"
          ]
        }
      ]
    },
    {
      "cell_type": "code",
      "source": [
        "# Pattern to match the format (9 digits)\n",
        "pattern = r'^\\d{9}$'\n",
        "\n",
        "# Convert the article IDs to strings and check if they all match the pattern\n",
        "article_ids_as_strings = articles['article_id'].astype(str)\n",
        "all_article_ids_match = article_ids_as_strings.str.match(pattern).all()\n",
        "\n",
        "if all_article_ids_match:\n",
        "    print(\"All article IDs, when converted to strings, follow the format (9 digits).\")\n",
        "else:\n",
        "    print(\"Not all article IDs, when converted to strings, follow the format (9 digits).\")"
      ],
      "metadata": {
        "id": "kfmFssVuFB-f",
        "colab": {
          "base_uri": "https://localhost:8080/"
        },
        "outputId": "0e08a36e-bf08-4f5b-94df-a6b5d8b6fa58"
      },
      "execution_count": null,
      "outputs": [
        {
          "output_type": "stream",
          "name": "stdout",
          "text": [
            "All article IDs, when converted to strings, follow the format '754256001' (9 digits).\n"
          ]
        }
      ]
    },
    {
      "cell_type": "code",
      "source": [
        "articles[\"article_id\"].describe()"
      ],
      "metadata": {
        "id": "mGO7ccj2FDYU",
        "colab": {
          "base_uri": "https://localhost:8080/"
        },
        "outputId": "62e3d294-d6eb-4cd0-fc32-bcc2dce91a80"
      },
      "execution_count": null,
      "outputs": [
        {
          "output_type": "execute_result",
          "data": {
            "text/plain": [
              "count    1.055420e+05\n",
              "mean     6.984246e+08\n",
              "std      1.284624e+08\n",
              "min      1.087750e+08\n",
              "25%      6.169925e+08\n",
              "50%      7.022130e+08\n",
              "75%      7.967030e+08\n",
              "max      9.594610e+08\n",
              "Name: article_id, dtype: float64"
            ]
          },
          "metadata": {},
          "execution_count": 73
        }
      ]
    },
    {
      "cell_type": "code",
      "source": [
        "print(\"Article ids range from\",articles[\"article_id\"].min(), \"to\", articles[\"article_id\"].max())"
      ],
      "metadata": {
        "colab": {
          "base_uri": "https://localhost:8080/"
        },
        "id": "RKkKFDMKsB3U",
        "outputId": "f4233c99-8ca8-4f06-d948-c5d3fcc9bc13"
      },
      "execution_count": null,
      "outputs": [
        {
          "output_type": "stream",
          "name": "stdout",
          "text": [
            "Article ids range from 108775015 to 959461001\n"
          ]
        }
      ]
    },
    {
      "cell_type": "code",
      "source": [
        "## Product code\n",
        "articles[\"product_code\"].describe()"
      ],
      "metadata": {
        "colab": {
          "base_uri": "https://localhost:8080/"
        },
        "id": "B74U269qsG49",
        "outputId": "ad1de01a-e2df-441e-f234-5ca8ce0d4ea1"
      },
      "execution_count": null,
      "outputs": [
        {
          "output_type": "execute_result",
          "data": {
            "text/plain": [
              "count    105542.000000\n",
              "mean     698424.563378\n",
              "std      128462.384432\n",
              "min      108775.000000\n",
              "25%      616992.500000\n",
              "50%      702213.000000\n",
              "75%      796703.000000\n",
              "max      959461.000000\n",
              "Name: product_code, dtype: float64"
            ]
          },
          "metadata": {},
          "execution_count": 84
        }
      ]
    },
    {
      "cell_type": "code",
      "source": [
        "print(\"Product codes range from\",articles[\"product_code\"].min(), \"to\", articles[\"product_code\"].max())"
      ],
      "metadata": {
        "colab": {
          "base_uri": "https://localhost:8080/"
        },
        "id": "U80mGFresvWF",
        "outputId": "00ff6b68-8446-4596-ec16-f7359466abce"
      },
      "execution_count": null,
      "outputs": [
        {
          "output_type": "stream",
          "name": "stdout",
          "text": [
            "Product codes range from 108775 to 959461\n"
          ]
        }
      ]
    },
    {
      "cell_type": "code",
      "source": [
        "product_code_and_name = pd.concat([articles['product_code'], articles['prod_name']], axis=1)\n",
        "\n",
        "print(product_code_and_name)"
      ],
      "metadata": {
        "colab": {
          "base_uri": "https://localhost:8080/"
        },
        "id": "9XXcX6SxtJcN",
        "outputId": "ac57a23a-4941-4a74-a4c2-429312cfd40b"
      },
      "execution_count": null,
      "outputs": [
        {
          "output_type": "stream",
          "name": "stdout",
          "text": [
            "        product_code               prod_name\n",
            "0             108775               Strap top\n",
            "1             108775               Strap top\n",
            "2             108775           Strap top (1)\n",
            "3             110065       OP T-shirt (Idro)\n",
            "4             110065       OP T-shirt (Idro)\n",
            "...              ...                     ...\n",
            "105537        953450  5pk regular Placement1\n",
            "105538        953763       SPORT Malaga tank\n",
            "105539        956217         Cartwheel dress\n",
            "105540        957375        CLAIRE HAIR CLAW\n",
            "105541        959461            Lounge dress\n",
            "\n",
            "[105542 rows x 2 columns]\n"
          ]
        }
      ]
    },
    {
      "cell_type": "code",
      "source": [],
      "metadata": {
        "id": "btB6MEUWMpkt"
      },
      "execution_count": null,
      "outputs": []
    },
    {
      "cell_type": "code",
      "source": [
        "value_counts = articles['product_group_name'].value_counts()\n",
        "\n",
        "print(\"Unique values in 'product_group_name' (sorted) with counts:\")\n",
        "for name, count in sorted(value_counts.items()):\n",
        "    print(f\"{name}: {count}\")"
      ],
      "metadata": {
        "colab": {
          "base_uri": "https://localhost:8080/"
        },
        "id": "h7cM5Otg-U0U",
        "outputId": "862fcd51-a3ab-49a7-a1d8-6b42f33d4120"
      },
      "execution_count": null,
      "outputs": [
        {
          "output_type": "stream",
          "name": "stdout",
          "text": [
            "Unique values in 'product_group_name' (sorted) with counts:\n",
            "Accessories: 11158\n",
            "Bags: 25\n",
            "Cosmetic: 49\n",
            "Fun: 2\n",
            "Furniture: 13\n",
            "Garment Full body: 13292\n",
            "Garment Lower body: 19812\n",
            "Garment Upper body: 42741\n",
            "Garment and Shoe care: 9\n",
            "Interior textile: 3\n",
            "Items: 17\n",
            "Nightwear: 1899\n",
            "Shoes: 5283\n",
            "Socks & Tights: 2442\n",
            "Stationery: 5\n",
            "Swimwear: 3127\n",
            "Underwear: 5490\n",
            "Underwear/nightwear: 54\n",
            "Unknown: 121\n"
          ]
        }
      ]
    },
    {
      "cell_type": "code",
      "source": [
        "# Create a bar plot\n",
        "plt.figure(figsize=(10, 6))  # Adjust the figure size as needed\n",
        "sns.barplot(x=value_counts.values, y=value_counts.index, orient='h')\n",
        "\n",
        "plt.xlabel('Count')\n",
        "plt.ylabel('Product Group Name')\n",
        "plt.title('Distribution of Product Group Names')\n",
        "plt.show()"
      ],
      "metadata": {
        "colab": {
          "base_uri": "https://localhost:8080/"
        },
        "id": "m1jC4whoEuWf",
        "outputId": "51ed1cc8-4e55-4cda-d898-8be5c8a65928"
      },
      "execution_count": null,
      "outputs": [
        {
          "output_type": "display_data",
          "data": {
            "text/plain": [
              "<Figure size 1000x600 with 1 Axes>"
            ],
            "image/png": "[encoded data removed]"
          },
          "metadata": {}
        }
      ]
    },
    {
      "cell_type": "code",
      "source": [
        "value_counts_garment_group = articles['garment_group_name'].value_counts()\n",
        "\n",
        "print(\"Unique values in 'garment_group_name' (sorted) with counts:\")\n",
        "for name, count in sorted(value_counts_garment_group.items()):\n",
        "    print(f\"{name}: {count}\")"
      ],
      "metadata": {
        "colab": {
          "base_uri": "https://localhost:8080/"
        },
        "id": "iJ6AQH2t__r_",
        "outputId": "5bd7c66b-ea2e-466a-fec6-cde0e230cf2b"
      },
      "execution_count": null,
      "outputs": [
        {
          "output_type": "stream",
          "name": "stdout",
          "text": [
            "Unique values in 'garment_group_name' (sorted) with counts:\n",
            "Accessories: 11519\n",
            "Blouses: 5838\n",
            "Dressed: 908\n",
            "Dresses Ladies: 4874\n",
            "Dresses/Skirts girls: 1541\n",
            "Jersey Basic: 8126\n",
            "Jersey Fancy: 21445\n",
            "Knitwear: 7490\n",
            "Outdoor: 4501\n",
            "Shirts: 2116\n",
            "Shoes: 5145\n",
            "Shorts: 1559\n",
            "Skirts: 1254\n",
            "Socks and Tights: 2272\n",
            "Special Offers: 1061\n",
            "Swimwear: 2787\n",
            "Trousers: 6727\n",
            "Trousers Denim: 3100\n",
            "Under-, Nightwear: 7441\n",
            "Unknown: 3873\n",
            "Woven/Jersey/Knitted mix Baby: 1965\n"
          ]
        }
      ]
    },
    {
      "cell_type": "code",
      "source": [
        "# Create a bar plot\n",
        "plt.figure(figsize=(10, 6))  # Adjust the figure size as needed\n",
        "sns.barplot(x=value_counts_garment_group.values, y=value_counts_garment_group.index, orient='h')\n",
        "\n",
        "plt.xlabel('Count')\n",
        "plt.ylabel('Garment Group Name')\n",
        "plt.title('Distribution of Garment Group Names')\n",
        "plt.show()"
      ],
      "metadata": {
        "colab": {
          "base_uri": "https://localhost:8080/",
          "height": 564
        },
        "id": "ma8-9ctkDWJO",
        "outputId": "a5b9a544-9ef7-4183-c432-271aa3b3bf6d"
      },
      "execution_count": null,
      "outputs": [
        {
          "output_type": "display_data",
          "data": {
            "text/plain": [
              "<Figure size 1000x600 with 1 Axes>"
            ],
            "image/png": "[encoded data removed]"
          },
          "metadata": {}
        }
      ]
    },
    {
      "cell_type": "code",
      "source": [
        "value_counts_department_name = articles['department_name'].value_counts()\n",
        "\n",
        "print(\"Unique values in 'department_name' (sorted) with counts:\")\n",
        "for name, count in sorted(value_counts_department_name.items()):\n",
        "    print(f\"{name}: {count}\")"
      ],
      "metadata": {
        "id": "7Y9U-TNIDYU6",
        "colab": {
          "base_uri": "https://localhost:8080/"
        },
        "outputId": "a1921d09-23ab-4942-a4fa-0f074bccf2d4"
      },
      "execution_count": null,
      "outputs": [
        {
          "output_type": "stream",
          "name": "stdout",
          "text": [
            "Unique values in 'department_name' (sorted) with counts:\n",
            "AK Bottoms: 90\n",
            "AK Dresses & Outdoor: 87\n",
            "AK Other: 33\n",
            "AK Tops Jersey & Woven: 42\n",
            "AK Tops Knitwear: 28\n",
            "Accessories: 694\n",
            "Accessories Boys: 10\n",
            "Accessories Other: 1\n",
            "Asia Assortment: 101\n",
            "Baby Boy Jersey Fancy: 872\n",
            "Baby Boy Knitwear: 140\n",
            "Baby Boy Local Relevance: 3\n",
            "Baby Boy Outdoor: 205\n",
            "Baby Boy Woven: 500\n",
            "Baby Exclusive: 944\n",
            "Baby Girl Jersey Fancy: 859\n",
            "Baby Girl Knitwear: 257\n",
            "Baby Girl Local Relevance: 6\n",
            "Baby Girl Outdoor: 123\n",
            "Baby Girl Woven: 521\n",
            "Baby Nightwear: 420\n",
            "Baby Shoes: 457\n",
            "Baby Socks: 465\n",
            "Baby Toys/Acc: 1054\n",
            "Baby basics: 1147\n",
            "Bags: 820\n",
            "Bags & Items: 153\n",
            "Basic 1: 1339\n",
            "Basics: 284\n",
            "Belts: 374\n",
            "Blanks: 20\n",
            "Blazer: 139\n",
            "Blazer S&T: 142\n",
            "Blouse: 2362\n",
            "Blouse & Dress: 897\n",
            "Boots: 365\n",
            "Bottoms: 26\n",
            "Bottoms Boys: 27\n",
            "Bottoms Girls: 269\n",
            "Boys Local Relevance: 106\n",
            "Boys Small Acc & Bags: 55\n",
            "Campaigns: 221\n",
            "Casual Lingerie: 864\n",
            "Clean Lingerie: 238\n",
            "Conscious Exclusive: 192\n",
            "Denim Other Garments: 370\n",
            "Denim Trousers: 504\n",
            "Denim shorts: 123\n",
            "Denim trousers: 398\n",
            "Denim wardrobe H&M man inactive from S.6: 63\n",
            "Divided Shoes: 275\n",
            "Divided Swimwear: 76\n",
            "Divided+: 590\n",
            "Divided+ inactive from s.1: 25\n",
            "Dress: 2087\n",
            "Dress-up Boys: 89\n",
            "Dresses: 1354\n",
            "Dresses DS: 272\n",
            "EQ & Special Collections: 36\n",
            "EQ Divided Basics: 14\n",
            "EQ Divided Blue: 1\n",
            "EQ H&M Man: 127\n",
            "EQ Ladies Denim: 5\n",
            "Equatorial: 42\n",
            "Equatorial Assortment: 412\n",
            "Everyday Waredrobe Denim: 80\n",
            "Expressive Lingerie: 1921\n",
            "Flats: 533\n",
            "Functional Lingerie: 300\n",
            "Girls Local Relevance: 70\n",
            "Girls Projects: 7\n",
            "Girls Small Acc/Bags: 653\n",
            "Gloves/Hats: 356\n",
            "Hair Accessories: 719\n",
            "Heavy Basic Jersey: 206\n",
            "Heels: 390\n",
            "Jacket: 67\n",
            "Jacket Casual: 201\n",
            "Jacket Smart: 233\n",
            "Jacket Street: 128\n",
            "Jackets: 16\n",
            "Jersey: 4604\n",
            "Jersey Basic: 1514\n",
            "Jersey Fancy: 1754\n",
            "Jersey Fancy DS: 269\n",
            "Jersey License: 89\n",
            "Jersey Occasion: 150\n",
            "Jersey fancy: 1402\n",
            "Jersey inactive from S.6: 1\n",
            "Jersey inactive from s1: 224\n",
            "Jersey/Knitwear Premium: 380\n",
            "Jewellery: 1163\n",
            "Jewellery Extended: 675\n",
            "Kids Boy Big Acc: 398\n",
            "Kids Boy Denim: 402\n",
            "Kids Boy Exclusive: 59\n",
            "Kids Boy Jersey Basic: 673\n",
            "Kids Boy Jersey Fancy: 1488\n",
            "Kids Boy Knitwear: 308\n",
            "Kids Boy License: 1\n",
            "Kids Boy Outdoor: 394\n",
            "Kids Boy Shirt: 392\n",
            "Kids Boy Shoes: 446\n",
            "Kids Boy Shorts: 225\n",
            "Kids Boy Socks: 155\n",
            "Kids Boy Swimwear: 150\n",
            "Kids Boy Trouser: 453\n",
            "Kids Boy UW/NW: 364\n",
            "Kids Dress-up/Football: 262\n",
            "Kids Girl Big Acc: 402\n",
            "Kids Girl Denim: 410\n",
            "Kids Girl Dresses: 879\n",
            "Kids Girl Exclusive: 63\n",
            "Kids Girl Jersey Basic: 1098\n",
            "Kids Girl Jersey Fancy: 2032\n",
            "Kids Girl Knitwear: 658\n",
            "Kids Girl License: 3\n",
            "Kids Girl Outdoor: 436\n",
            "Kids Girl S&T: 373\n",
            "Kids Girl Shoes: 628\n",
            "Kids Girl Swimwear: 197\n",
            "Kids Girl Trouser: 424\n",
            "Kids Girl UW/NW: 534\n",
            "Knit & Woven: 512\n",
            "Knitwear: 3503\n",
            "Knitwear Basic: 222\n",
            "Knitwear inactive from s1: 51\n",
            "Ladies Sport Acc: 247\n",
            "Ladies Sport Bottoms: 468\n",
            "Ladies Sport Bras: 1006\n",
            "Ladies Sport Woven: 172\n",
            "License: 21\n",
            "Light Basic Jersey: 528\n",
            "Limited Edition: 138\n",
            "Local relevance: 85\n",
            "Loungewear: 350\n",
            "Mama Lingerie: 219\n",
            "Men Sport Acc: 124\n",
            "Men Sport Bottoms: 200\n",
            "Men Sport Tops: 248\n",
            "Men Sport Woven: 300\n",
            "Newborn: 853\n",
            "Nightwear: 687\n",
            "Nursing: 139\n",
            "OL Extended Sizes: 162\n",
            "On Demand: 27\n",
            "Other Accessories: 282\n",
            "Other items: 353\n",
            "Outdoor inactive from s1: 35\n",
            "Outdoor/Blazers: 667\n",
            "Outdoor/Blazers DS: 103\n",
            "Outwear: 1009\n",
            "Outwear & Blazers: 87\n",
            "Premium Quality: 432\n",
            "Price Items: 26\n",
            "Projects: 213\n",
            "Projects Dresses: 554\n",
            "Projects Jersey & Knitwear: 388\n",
            "Projects Woven Bottoms: 272\n",
            "Projects Woven Tops: 287\n",
            "Promotion / Other / Offer: 49\n",
            "Promotion/ Other /Offer: 115\n",
            "Promotion/Other/Offer: 25\n",
            "Read & React: 90\n",
            "Scarves: 357\n",
            "Shirt: 1153\n",
            "Shirt Extended inactive from s1: 1\n",
            "Shirt S&T: 141\n",
            "Shoes: 443\n",
            "Shoes / Boots inactive from s5: 202\n",
            "Shoes Other: 2\n",
            "Shopbasket Lingerie: 56\n",
            "Shopbasket Socks: 212\n",
            "Shorts: 849\n",
            "Shorts & Skirts: 177\n",
            "Shorts DS: 19\n",
            "Skirt: 726\n",
            "Skirts: 489\n",
            "Skirts DS: 39\n",
            "Small Acc. Jewellery & Other: 36\n",
            "Small Accessories: 873\n",
            "Small Accessories Extended: 80\n",
            "Small Bags: 128\n",
            "Sneakers: 306\n",
            "Sneakers big girl inactive from s2: 25\n",
            "Sneakers small girl inactive from s2: 39\n",
            "Socks: 216\n",
            "Socks Bin: 182\n",
            "Socks Wall: 183\n",
            "Special Collection: 33\n",
            "Studio Collection: 319\n",
            "Suit: 299\n",
            "Suit Extended inactive from s1: 3\n",
            "Suit jacket: 238\n",
            "Sunglasses: 269\n",
            "Swimwear: 2075\n",
            "Take Care External: 501\n",
            "Take care: 58\n",
            "Test Ladies: 3\n",
            "Tights basic: 223\n",
            "Tops & Bottoms Other: 13\n",
            "Tops Boys: 45\n",
            "Tops Fancy Jersey: 1429\n",
            "Tops Girls: 275\n",
            "Tops Knitwear: 1115\n",
            "Tops Knitwear DS: 153\n",
            "Tops Woven: 1007\n",
            "Tops woven DS: 52\n",
            "Trouser: 2655\n",
            "Trouser S&T: 116\n",
            "Trousers: 807\n",
            "Trousers & Skirt: 365\n",
            "Trousers DS: 84\n",
            "UW: 293\n",
            "Underwear Jersey: 291\n",
            "Underwear Jersey Fancy inactive from s1: 8\n",
            "Underwear Woven: 107\n",
            "Woven: 139\n",
            "Woven Occasion: 370\n",
            "Woven Premium: 370\n",
            "Woven Tops: 550\n",
            "Woven bottoms: 693\n",
            "Woven bottoms inactive from S.7: 1\n",
            "Woven inactive from s1: 62\n",
            "Woven top: 683\n",
            "Young Boy Big Acc: 197\n",
            "Young Boy Denim: 363\n",
            "Young Boy Jersey Basic: 462\n",
            "Young Boy Jersey Fancy: 1100\n",
            "Young Boy Knitwear: 162\n",
            "Young Boy Outdoor: 281\n",
            "Young Boy Shirt: 290\n",
            "Young Boy Shoes: 260\n",
            "Young Boy Shorts: 166\n",
            "Young Boy Socks: 90\n",
            "Young Boy Trouser: 271\n",
            "Young Boy UW/NW: 290\n",
            "Young Girl Big Acc: 202\n",
            "Young Girl Denim: 421\n",
            "Young Girl Dresses: 662\n",
            "Young Girl Jersey Basic: 813\n",
            "Young Girl Jersey Fancy: 1874\n",
            "Young Girl Knitwear: 513\n",
            "Young Girl Outdoor: 355\n",
            "Young Girl S&T: 173\n",
            "Young Girl Shoes: 287\n",
            "Young Girl Swimwear: 175\n",
            "Young Girl Trouser: 408\n",
            "Young Girl UW/NW: 499\n",
            "Young boy Swimwear: 114\n"
          ]
        }
      ]
    },
    {
      "cell_type": "code",
      "source": [
        "# Calculate the value counts for 'colour_group_name'\n",
        "value_counts_colour_group_name = articles['colour_group_name'].value_counts()\n",
        "\n",
        "print(\"Unique values in 'colour_group_name' (sorted) with counts:\")\n",
        "for name, count in sorted(value_counts_colour_group_name.items()):\n",
        "    print(f\"{name}: {count}\")"
      ],
      "metadata": {
        "colab": {
          "base_uri": "https://localhost:8080/"
        },
        "id": "0LKSDmFNLAc6",
        "outputId": "fed18d1b-350c-461c-ce65-2e7768481eae"
      },
      "execution_count": null,
      "outputs": [
        {
          "output_type": "stream",
          "name": "stdout",
          "text": [
            "Unique values in 'colour_group_name' (sorted) with counts:\n",
            "Beige: 2712\n",
            "Black: 22670\n",
            "Blue: 3308\n",
            "Bronze/Copper: 94\n",
            "Dark Beige: 1084\n",
            "Dark Blue: 12171\n",
            "Dark Green: 2106\n",
            "Dark Grey: 2731\n",
            "Dark Orange: 886\n",
            "Dark Pink: 818\n",
            "Dark Purple: 315\n",
            "Dark Red: 2340\n",
            "Dark Turquoise: 473\n",
            "Dark Yellow: 574\n",
            "Gold: 1377\n",
            "Green: 815\n",
            "Greenish Khaki: 2767\n",
            "Grey: 4487\n",
            "Greyish Beige: 226\n",
            "Light Beige: 3356\n",
            "Light Blue: 3012\n",
            "Light Green: 681\n",
            "Light Grey: 2105\n",
            "Light Orange: 1520\n",
            "Light Pink: 5811\n",
            "Light Purple: 553\n",
            "Light Red: 285\n",
            "Light Turquoise: 1027\n",
            "Light Yellow: 984\n",
            "Off White: 2726\n",
            "Orange: 779\n",
            "Other: 105\n",
            "Other Blue: 51\n",
            "Other Green: 129\n",
            "Other Orange: 153\n",
            "Other Pink: 750\n",
            "Other Purple: 46\n",
            "Other Red: 114\n",
            "Other Turquoise: 14\n",
            "Other Yellow: 225\n",
            "Pink: 2063\n",
            "Purple: 182\n",
            "Red: 3056\n",
            "Silver: 709\n",
            "Transparent: 31\n",
            "Turquoise: 435\n",
            "Unknown: 28\n",
            "White: 9542\n",
            "Yellow: 1645\n",
            "Yellowish Brown: 1471\n"
          ]
        }
      ]
    },
    {
      "cell_type": "code",
      "source": [
        "# Calculate the value counts for 'perceived_colour_value_name'\n",
        "value_counts_perceived_colour_value = articles['perceived_colour_value_name'].value_counts()\n",
        "\n",
        "print(\"Unique values in 'perceived_colour_value_name' (sorted) with counts:\")\n",
        "for name, count in sorted(value_counts_perceived_colour_value.items()):\n",
        "    print(f\"{name}: {count}\")"
      ],
      "metadata": {
        "id": "VpdtnhueD5VL",
        "colab": {
          "base_uri": "https://localhost:8080/"
        },
        "outputId": "e76c085c-9a24-435d-b973-85779ca31606"
      },
      "execution_count": null,
      "outputs": [
        {
          "output_type": "stream",
          "name": "stdout",
          "text": [
            "Unique values in 'perceived_colour_value_name' (sorted) with counts:\n",
            "Bright: 6471\n",
            "Dark: 42706\n",
            "Dusty Light: 22152\n",
            "Light: 15739\n",
            "Medium: 5711\n",
            "Medium Dusty: 12630\n",
            "Undefined: 105\n",
            "Unknown: 28\n"
          ]
        }
      ]
    },
    {
      "cell_type": "code",
      "source": [
        "# Calculate the value counts for 'perceived_colour_master_name'\n",
        "value_counts_perceived_colour_master = articles['perceived_colour_master_name'].value_counts()\n",
        "\n",
        "print(\"Unique values in 'perceived_colour_master_name' (sorted) with counts:\")\n",
        "for name, count in sorted(value_counts_perceived_colour_master.items()):\n",
        "    print(f\"{name}: {count}\")"
      ],
      "metadata": {
        "colab": {
          "base_uri": "https://localhost:8080/"
        },
        "id": "JsSiogHhKEdY",
        "outputId": "c090b913-398d-49f3-b6e9-370828ed5992"
      },
      "execution_count": null,
      "outputs": [
        {
          "output_type": "stream",
          "name": "stdout",
          "text": [
            "Unique values in 'perceived_colour_master_name' (sorted) with counts:\n",
            "Beige: 5657\n",
            "Black: 22585\n",
            "Blue: 18469\n",
            "Bluish Green: 3\n",
            "Brown: 2269\n",
            "Green: 3526\n",
            "Grey: 8924\n",
            "Khaki green: 3181\n",
            "Lilac Purple: 1100\n",
            "Metal: 2180\n",
            "Mole: 1223\n",
            "Orange: 2734\n",
            "Pink: 9403\n",
            "Red: 5878\n",
            "Turquoise: 1829\n",
            "Unknown: 685\n",
            "White: 12665\n",
            "Yellow: 3121\n",
            "Yellowish Green: 5\n",
            "undefined: 105\n"
          ]
        }
      ]
    },
    {
      "cell_type": "code",
      "source": [],
      "metadata": {
        "id": "rjRucRtSKwZB"
      },
      "execution_count": null,
      "outputs": []
    },
    {
      "cell_type": "code",
      "source": [],
      "metadata": {
        "id": "b1xSavr6LVeV"
      },
      "execution_count": null,
      "outputs": []
    },
    {
      "cell_type": "markdown",
      "source": [
        "# sample.csv"
      ],
      "metadata": {
        "id": "V8XZvCflPtuc"
      }
    },
    {
      "cell_type": "code",
      "source": [
        "sample_sub = pd.read_csv('/content/drive/MyDrive/AIPROJECT/sample_submission.csv')"
      ],
      "metadata": {
        "id": "A4okf0O8Pvph"
      },
      "execution_count": null,
      "outputs": []
    },
    {
      "cell_type": "code",
      "source": [
        "sample_sub.info()"
      ],
      "metadata": {
        "colab": {
          "base_uri": "https://localhost:8080/"
        },
        "id": "Z018HBLXQHI8",
        "outputId": "035a0fe9-fb30-4196-a088-80e50238502e"
      },
      "execution_count": null,
      "outputs": [
        {
          "output_type": "stream",
          "name": "stdout",
          "text": [
            "<class 'pandas.core.frame.DataFrame'>\n",
            "RangeIndex: 1371980 entries, 0 to 1371979\n",
            "Data columns (total 2 columns):\n",
            " #   Column       Non-Null Count    Dtype \n",
            "---  ------       --------------    ----- \n",
            " 0   customer_id  1371980 non-null  object\n",
            " 1   prediction   1371980 non-null  object\n",
            "dtypes: object(2)\n",
            "memory usage: 20.9+ MB\n"
          ]
        }
      ]
    },
    {
      "cell_type": "code",
      "source": [
        "customers.info()"
      ],
      "metadata": {
        "colab": {
          "base_uri": "https://localhost:8080/"
        },
        "id": "wtA5j8ccQTWi",
        "outputId": "c9d9bf82-5a94-44f1-c9e6-f8b9217fc810"
      },
      "execution_count": null,
      "outputs": [
        {
          "output_type": "stream",
          "name": "stdout",
          "text": [
            "<class 'pandas.core.frame.DataFrame'>\n",
            "RangeIndex: 1371980 entries, 0 to 1371979\n",
            "Data columns (total 7 columns):\n",
            " #   Column                  Non-Null Count    Dtype  \n",
            "---  ------                  --------------    -----  \n",
            " 0   customer_id             1371980 non-null  object \n",
            " 1   FN                      476930 non-null   float64\n",
            " 2   Active                  1371980 non-null  float64\n",
            " 3   club_member_status      1365918 non-null  object \n",
            " 4   fashion_news_frequency  1355971 non-null  object \n",
            " 5   age                     1356119 non-null  float64\n",
            " 6   postal_code             1371980 non-null  object \n",
            "dtypes: float64(3), object(4)\n",
            "memory usage: 73.3+ MB\n"
          ]
        }
      ]
    },
    {
      "cell_type": "code",
      "source": [
        "# Check if all customer IDs in 'customers' are also in 'sample_sub'\n",
        "all_ids_match = set(customers['customer_id']).issubset(set(sample_sub['customer_id']))\n",
        "\n",
        "# Print the result\n",
        "if all_ids_match:\n",
        "    print(\"All customer IDs in 'customers' are also in 'sample_sub'.\")\n",
        "else:\n",
        "    print(\"Not all customer IDs in 'customers' are in 'sample_sub'.\")"
      ],
      "metadata": {
        "colab": {
          "base_uri": "https://localhost:8080/"
        },
        "id": "Sbp986QDRPzV",
        "outputId": "41dcddb4-2036-4c8f-c521-d5c54d920d56"
      },
      "execution_count": null,
      "outputs": [
        {
          "output_type": "stream",
          "name": "stdout",
          "text": [
            "All customer IDs in 'customers' are also in 'sample_sub'.\n"
          ]
        }
      ]
    },
    {
      "cell_type": "code",
      "source": [
        "sample_sub.head(2)"
      ],
      "metadata": {
        "colab": {
          "base_uri": "https://localhost:8080/",
          "height": 112
        },
        "id": "fG2lsEiORgti",
        "outputId": "cbb99036-a406-4503-ba37-dd310303cc4b"
      },
      "execution_count": null,
      "outputs": [
        {
          "output_type": "execute_result",
          "data": {
            "text/plain": [
              "                                         customer_id  \\\n",
              "0  00000dbacae5abe5e23885899a1fa44253a17956c6d1c3...   \n",
              "1  0000423b00ade91418cceaf3b26c6af3dd342b51fd051e...   \n",
              "\n",
              "                                          prediction  \n",
              "0  0706016001 0706016002 0372860001 0610776002 07...  \n",
              "1  0706016001 0706016002 0372860001 0610776002 07...  "
            ],
            "text/html": [
              "\n",
              "  <div id=\"df-39cc7a2d-9243-4c84-9d58-f73e228a87f3\" class=\"colab-df-container\">\n",
              "    <div>\n",
              "<style scoped>\n",
              "    .dataframe tbody tr th:only-of-type {\n",
              "        vertical-align: middle;\n",
              "    }\n",
              "\n",
              "    .dataframe tbody tr th {\n",
              "        vertical-align: top;\n",
              "    }\n",
              "\n",
              "    .dataframe thead th {\n",
              "        text-align: right;\n",
              "    }\n",
              "</style>\n",
              "<table border=\"1\" class=\"dataframe\">\n",
              "  <thead>\n",
              "    <tr style=\"text-align: right;\">\n",
              "      <th></th>\n",
              "      <th>customer_id</th>\n",
              "      <th>prediction</th>\n",
              "    </tr>\n",
              "  </thead>\n",
              "  <tbody>\n",
              "    <tr>\n",
              "      <th>0</th>\n",
              "      <td>00000dbacae5abe5e23885899a1fa44253a17956c6d1c3...</td>\n",
              "      <td>0706016001 0706016002 0372860001 0610776002 07...</td>\n",
              "    </tr>\n",
              "    <tr>\n",
              "      <th>1</th>\n",
              "      <td>0000423b00ade91418cceaf3b26c6af3dd342b51fd051e...</td>\n",
              "      <td>0706016001 0706016002 0372860001 0610776002 07...</td>\n",
              "    </tr>\n",
              "  </tbody>\n",
              "</table>\n",
              "</div>\n",
              "    <div class=\"colab-df-buttons\">\n",
              "\n",
              "  <div class=\"colab-df-container\">\n",
              "    <button class=\"colab-df-convert\" onclick=\"convertToInteractive('df-39cc7a2d-9243-4c84-9d58-f73e228a87f3')\"\n",
              "            title=\"Convert this dataframe to an interactive table.\"\n",
              "            style=\"display:none;\">\n",
              "\n",
              "  <svg xmlns=\"http://www.w3.org/2000/svg\" height=\"24px\" viewBox=\"0 -960 960 960\">\n",
              "    <path d=\"M120-120v-720h720v720H120Zm60-500h600v-160H180v160Zm220 220h160v-160H400v160Zm0 220h160v-160H400v160ZM180-400h160v-160H180v160Zm440 0h160v-160H620v160ZM180-180h160v-160H180v160Zm440 0h160v-160H620v160Z\"/>\n",
              "  </svg>\n",
              "    </button>\n",
              "\n",
              "  <style>\n",
              "    .colab-df-container {\n",
              "      display:flex;\n",
              "      gap: 12px;\n",
              "    }\n",
              "\n",
              "    .colab-df-convert {\n",
              "      background-color: #E8F0FE;\n",
              "      border: none;\n",
              "      border-radius: 50%;\n",
              "      cursor: pointer;\n",
              "      display: none;\n",
              "      fill: #1967D2;\n",
              "      height: 32px;\n",
              "      padding: 0 0 0 0;\n",
              "      width: 32px;\n",
              "    }\n",
              "\n",
              "    .colab-df-convert:hover {\n",
              "      background-color: #E2EBFA;\n",
              "      box-shadow: 0px 1px 2px rgba(60, 64, 67, 0.3), 0px 1px 3px 1px rgba(60, 64, 67, 0.15);\n",
              "      fill: #174EA6;\n",
              "    }\n",
              "\n",
              "    .colab-df-buttons div {\n",
              "      margin-bottom: 4px;\n",
              "    }\n",
              "\n",
              "    [theme=dark] .colab-df-convert {\n",
              "      background-color: #3B4455;\n",
              "      fill: #D2E3FC;\n",
              "    }\n",
              "\n",
              "    [theme=dark] .colab-df-convert:hover {\n",
              "      background-color: #434B5C;\n",
              "      box-shadow: 0px 1px 3px 1px rgba(0, 0, 0, 0.15);\n",
              "      filter: drop-shadow(0px 1px 2px rgba(0, 0, 0, 0.3));\n",
              "      fill: #FFFFFF;\n",
              "    }\n",
              "  </style>\n",
              "\n",
              "    <script>\n",
              "      const buttonEl =\n",
              "        document.querySelector('#df-39cc7a2d-9243-4c84-9d58-f73e228a87f3 button.colab-df-convert');\n",
              "      buttonEl.style.display =\n",
              "        google.colab.kernel.accessAllowed ? 'block' : 'none';\n",
              "\n",
              "      async function convertToInteractive(key) {\n",
              "        const element = document.querySelector('#df-39cc7a2d-9243-4c84-9d58-f73e228a87f3');\n",
              "        const dataTable =\n",
              "          await google.colab.kernel.invokeFunction('convertToInteractive',\n",
              "                                                    [key], {});\n",
              "        if (!dataTable) return;\n",
              "\n",
              "        const docLinkHtml = 'Like what you see? Visit the ' +\n",
              "          '<a target=\"_blank\" href=https://colab.research.google.com/notebooks/data_table.ipynb>data table notebook</a>'\n",
              "          + ' to learn more about interactive tables.';\n",
              "        element.innerHTML = '';\n",
              "        dataTable['output_type'] = 'display_data';\n",
              "        await google.colab.output.renderOutput(dataTable, element);\n",
              "        const docLink = document.createElement('div');\n",
              "        docLink.innerHTML = docLinkHtml;\n",
              "        element.appendChild(docLink);\n",
              "      }\n",
              "    </script>\n",
              "  </div>\n",
              "\n",
              "\n",
              "<div id=\"df-e50ba839-8c4b-4616-ad96-49b86c69bae7\">\n",
              "  <button class=\"colab-df-quickchart\" onclick=\"quickchart('df-e50ba839-8c4b-4616-ad96-49b86c69bae7')\"\n",
              "            title=\"Suggest charts.\"\n",
              "            style=\"display:none;\">\n",
              "\n",
              "<svg xmlns=\"http://www.w3.org/2000/svg\" height=\"24px\"viewBox=\"0 0 24 24\"\n",
              "     width=\"24px\">\n",
              "    <g>\n",
              "        <path d=\"M19 3H5c-1.1 0-2 .9-2 2v14c0 1.1.9 2 2 2h14c1.1 0 2-.9 2-2V5c0-1.1-.9-2-2-2zM9 17H7v-7h2v7zm4 0h-2V7h2v10zm4 0h-2v-4h2v4z\"/>\n",
              "    </g>\n",
              "</svg>\n",
              "  </button>\n",
              "\n",
              "<style>\n",
              "  .colab-df-quickchart {\n",
              "      --bg-color: #E8F0FE;\n",
              "      --fill-color: #1967D2;\n",
              "      --hover-bg-color: #E2EBFA;\n",
              "      --hover-fill-color: #174EA6;\n",
              "      --disabled-fill-color: #AAA;\n",
              "      --disabled-bg-color: #DDD;\n",
              "  }\n",
              "\n",
              "  [theme=dark] .colab-df-quickchart {\n",
              "      --bg-color: #3B4455;\n",
              "      --fill-color: #D2E3FC;\n",
              "      --hover-bg-color: #434B5C;\n",
              "      --hover-fill-color: #FFFFFF;\n",
              "      --disabled-bg-color: #3B4455;\n",
              "      --disabled-fill-color: #666;\n",
              "  }\n",
              "\n",
              "  .colab-df-quickchart {\n",
              "    background-color: var(--bg-color);\n",
              "    border: none;\n",
              "    border-radius: 50%;\n",
              "    cursor: pointer;\n",
              "    display: none;\n",
              "    fill: var(--fill-color);\n",
              "    height: 32px;\n",
              "    padding: 0;\n",
              "    width: 32px;\n",
              "  }\n",
              "\n",
              "  .colab-df-quickchart:hover {\n",
              "    background-color: var(--hover-bg-color);\n",
              "    box-shadow: 0 1px 2px rgba(60, 64, 67, 0.3), 0 1px 3px 1px rgba(60, 64, 67, 0.15);\n",
              "    fill: var(--button-hover-fill-color);\n",
              "  }\n",
              "\n",
              "  .colab-df-quickchart-complete:disabled,\n",
              "  .colab-df-quickchart-complete:disabled:hover {\n",
              "    background-color: var(--disabled-bg-color);\n",
              "    fill: var(--disabled-fill-color);\n",
              "    box-shadow: none;\n",
              "  }\n",
              "\n",
              "  .colab-df-spinner {\n",
              "    border: 2px solid var(--fill-color);\n",
              "    border-color: transparent;\n",
              "    border-bottom-color: var(--fill-color);\n",
              "    animation:\n",
              "      spin 1s steps(1) infinite;\n",
              "  }\n",
              "\n",
              "  @keyframes spin {\n",
              "    0% {\n",
              "      border-color: transparent;\n",
              "      border-bottom-color: var(--fill-color);\n",
              "      border-left-color: var(--fill-color);\n",
              "    }\n",
              "    20% {\n",
              "      border-color: transparent;\n",
              "      border-left-color: var(--fill-color);\n",
              "      border-top-color: var(--fill-color);\n",
              "    }\n",
              "    30% {\n",
              "      border-color: transparent;\n",
              "      border-left-color: var(--fill-color);\n",
              "      border-top-color: var(--fill-color);\n",
              "      border-right-color: var(--fill-color);\n",
              "    }\n",
              "    40% {\n",
              "      border-color: transparent;\n",
              "      border-right-color: var(--fill-color);\n",
              "      border-top-color: var(--fill-color);\n",
              "    }\n",
              "    60% {\n",
              "      border-color: transparent;\n",
              "      border-right-color: var(--fill-color);\n",
              "    }\n",
              "    80% {\n",
              "      border-color: transparent;\n",
              "      border-right-color: var(--fill-color);\n",
              "      border-bottom-color: var(--fill-color);\n",
              "    }\n",
              "    90% {\n",
              "      border-color: transparent;\n",
              "      border-bottom-color: var(--fill-color);\n",
              "    }\n",
              "  }\n",
              "</style>\n",
              "\n",
              "  <script>\n",
              "    async function quickchart(key) {\n",
              "      const quickchartButtonEl =\n",
              "        document.querySelector('#' + key + ' button');\n",
              "      quickchartButtonEl.disabled = true;  // To prevent multiple clicks.\n",
              "      quickchartButtonEl.classList.add('colab-df-spinner');\n",
              "      try {\n",
              "        const charts = await google.colab.kernel.invokeFunction(\n",
              "            'suggestCharts', [key], {});\n",
              "      } catch (error) {\n",
              "        console.error('Error during call to suggestCharts:', error);\n",
              "      }\n",
              "      quickchartButtonEl.classList.remove('colab-df-spinner');\n",
              "      quickchartButtonEl.classList.add('colab-df-quickchart-complete');\n",
              "    }\n",
              "    (() => {\n",
              "      let quickchartButtonEl =\n",
              "        document.querySelector('#df-e50ba839-8c4b-4616-ad96-49b86c69bae7 button');\n",
              "      quickchartButtonEl.style.display =\n",
              "        google.colab.kernel.accessAllowed ? 'block' : 'none';\n",
              "    })();\n",
              "  </script>\n",
              "</div>\n",
              "    </div>\n",
              "  </div>\n"
            ]
          },
          "metadata": {},
          "execution_count": 39
        }
      ]
    },
    {
      "cell_type": "markdown",
      "source": [
        "# transaction.csv"
      ],
      "metadata": {
        "id": "K8eg4-n-P3-g"
      }
    },
    {
      "cell_type": "code",
      "source": [
        "transactions_train = pd.read_csv('/content/drive/MyDrive/AIPROJECT/transactions_train.csv')"
      ],
      "metadata": {
        "id": "qi4Dp_epP7e2"
      },
      "execution_count": 43,
      "outputs": []
    },
    {
      "cell_type": "code",
      "source": [
        "transactions_train.info()"
      ],
      "metadata": {
        "colab": {
          "base_uri": "https://localhost:8080/"
        },
        "id": "Xz90Ry0uR4SW",
        "outputId": "73bb905f-d4e3-43a4-9625-61d53ce5041b"
      },
      "execution_count": 44,
      "outputs": [
        {
          "output_type": "stream",
          "name": "stdout",
          "text": [
            "<class 'pandas.core.frame.DataFrame'>\n",
            "RangeIndex: 31788324 entries, 0 to 31788323\n",
            "Data columns (total 5 columns):\n",
            " #   Column            Dtype  \n",
            "---  ------            -----  \n",
            " 0   t_dat             object \n",
            " 1   customer_id       object \n",
            " 2   article_id        int64  \n",
            " 3   price             float64\n",
            " 4   sales_channel_id  int64  \n",
            "dtypes: float64(1), int64(2), object(2)\n",
            "memory usage: 1.2+ GB\n"
          ]
        }
      ]
    },
    {
      "cell_type": "code",
      "source": [
        "# customers.info()"
      ],
      "metadata": {
        "id": "5Lwj39jTT6FJ"
      },
      "execution_count": 79,
      "outputs": []
    },
    {
      "cell_type": "code",
      "source": [
        "# Check if all customer IDs in 'customers' are also in 'transactions_train'\n",
        "all_ids_match = set(customers['customer_id']).issubset(set(transactions_train['customer_id']))\n",
        "\n",
        "# Print the result\n",
        "if all_ids_match:\n",
        "    print(\"All customer IDs in 'customers' are also in 'transactions_train'.\")\n",
        "else:\n",
        "    print(\"Not all customer IDs in 'customers' are in 'transactions_train'.\")"
      ],
      "metadata": {
        "colab": {
          "base_uri": "https://localhost:8080/"
        },
        "id": "8PFInJ3XSTt_",
        "outputId": "0d9bb3fb-86c4-4504-b64c-2d965919fac7"
      },
      "execution_count": 66,
      "outputs": [
        {
          "output_type": "stream",
          "name": "stdout",
          "text": [
            "Not all customer IDs in 'customers' are in 'transactions_train'.\n"
          ]
        }
      ]
    },
    {
      "cell_type": "code",
      "source": [
        "# Extract the customer IDs from both DataFrames\n",
        "customer_ids_customers = set(customers['customer_id'])\n",
        "customer_ids_transactions_train = set(transactions_train['customer_id'])\n",
        "\n",
        "# Find the matching customer IDs\n",
        "matching_ids = customer_ids_customers.intersection(customer_ids_transactions_train)\n",
        "\n",
        "# Calculate the count of matching customer IDs\n",
        "matching_count = len(matching_ids)\n",
        "\n",
        "# Find the differential customer IDs\n",
        "differential_ids_customers = customer_ids_customers - customer_ids_transactions_train\n",
        "differential_ids_transactions_train = customer_ids_transactions_train - customer_ids_customers\n",
        "\n",
        "# Convert the differential IDs to DataFrames\n",
        "differential_customers_df = pd.DataFrame({'customer_id': list(differential_ids_customers)})\n",
        "differential_transactions_train_df = pd.DataFrame({'customer_id': list(differential_ids_transactions_train)})\n",
        "\n",
        "# Print the results\n",
        "print(\"Count of Matching Customer IDs:\", matching_count)\n",
        "\n",
        "print(\"\\nDifferential Customer IDs in 'customers' but not in 'transactions_train':\")\n",
        "print(differential_customers_df)\n",
        "\n",
        "print(\"\\nDifferential Customer IDs in 'transactions_train' but not in 'customers':\")\n",
        "print(differential_transactions_train_df)\n"
      ],
      "metadata": {
        "colab": {
          "base_uri": "https://localhost:8080/"
        },
        "id": "LrzrD3AiTBw1",
        "outputId": "3fa8f872-fb6c-4fe8-d1fc-16f352846a63"
      },
      "execution_count": 68,
      "outputs": [
        {
          "output_type": "stream",
          "name": "stdout",
          "text": [
            "Count of Matching Customer IDs: 1362281\n",
            "\n",
            "Differential Customer IDs in 'customers' but not in 'transactions_train':\n",
            "                                            customer_id\n",
            "0     367878e4d74ea31c199a6788822393460c8cfa475f7f60...\n",
            "1     fd3be2f6e535bed3d1b27dbda7d126acf554e745419518...\n",
            "2     ef58f6e98b18cdd2a2394a459834608174ec7030769917...\n",
            "3     23ad147d17f5d9b35df6fd1fa7e6b8a8af1080602df910...\n",
            "4     5e282dfb570e074adbfebcb71f85abb27a7f30191ce755...\n",
            "...                                                 ...\n",
            "9694  f64d50f5a81621c5720bcb2473679610f861047569028d...\n",
            "9695  dce13b6924801521f83c1a43f539293e004bf7b8cc9051...\n",
            "9696  a424af5674248c82bd961f87cb8048efe909de1ab63c4e...\n",
            "9697  72c02b85a6dce8c7fe4c148962c8f7709aa5118f19c94f...\n",
            "9698  31aaebd758990e431b7dba0506033860e398ec8148cae3...\n",
            "\n",
            "[9699 rows x 1 columns]\n",
            "\n",
            "Differential Customer IDs in 'transactions_train' but not in 'customers':\n",
            "Empty DataFrame\n",
            "Columns: [customer_id]\n",
            "Index: []\n"
          ]
        }
      ]
    },
    {
      "cell_type": "markdown",
      "source": [
        "Similar comparaison with article ID"
      ],
      "metadata": {
        "id": "s67EyvNTUxz3"
      }
    },
    {
      "cell_type": "code",
      "source": [
        "# Check if all articles IDs in 'articles' are also in 'transactions_train'\n",
        "all_ids_match = set(articles['article_id']).issubset(set(transactions_train['article_id']))\n",
        "\n",
        "# Print the result\n",
        "if all_ids_match:\n",
        "    print(\"All articles IDs in 'articles' are also in 'transactions_train'.\")\n",
        "else:\n",
        "    print(\"Not all articles IDs in 'articles' are in 'transactions_train'.\")"
      ],
      "metadata": {
        "colab": {
          "base_uri": "https://localhost:8080/"
        },
        "id": "QyAyjwFaVADd",
        "outputId": "6a0e84a0-a05f-42ff-b79a-4cd5aa012f5f"
      },
      "execution_count": 73,
      "outputs": [
        {
          "output_type": "stream",
          "name": "stdout",
          "text": [
            "Not all articles IDs in 'articles' are in 'transactions_train'.\n"
          ]
        }
      ]
    },
    {
      "cell_type": "code",
      "source": [
        "# Extract the article IDs from both DataFrames\n",
        "article_ids_transactions_train = set(transactions_train['article_id'])\n",
        "article_ids_articles = set(articles['article_id'])\n",
        "\n",
        "# Find the matching article IDs\n",
        "matching_article_ids = article_ids_transactions_train.intersection(article_ids_articles)\n",
        "\n",
        "# Calculate the count of matching article IDs\n",
        "matching_article_count = len(matching_article_ids)\n",
        "\n",
        "# Find the differential article IDs\n",
        "differential_article_ids_transactions_train = article_ids_transactions_train - article_ids_articles\n",
        "differential_article_ids_articles = article_ids_articles - article_ids_transactions_train\n",
        "\n",
        "# Convert the differential article IDs to DataFrames\n",
        "differential_transactions_train_df = pd.DataFrame({'article_id': list(differential_article_ids_transactions_train)})\n",
        "differential_articles_df = pd.DataFrame({'article_id': list(differential_article_ids_articles)})\n",
        "\n",
        "# Print the results\n",
        "print(\"Count of Matching Article IDs:\", matching_article_count)\n",
        "\n",
        "print(\"\\nDifferential Article IDs in 'transactions_train' but not in 'articles':\")\n",
        "print(differential_transactions_train_df)\n",
        "\n",
        "print(\"\\nDifferential Article IDs in 'articles' but not in 'transactions_train':\")\n",
        "print(differential_articles_df)\n"
      ],
      "metadata": {
        "colab": {
          "base_uri": "https://localhost:8080/"
        },
        "id": "bZAtBBnmTtKK",
        "outputId": "8e1f0a7f-cc14-4da1-9fa2-7609a587a681"
      },
      "execution_count": 71,
      "outputs": [
        {
          "output_type": "stream",
          "name": "stdout",
          "text": [
            "Count of Matching Article IDs: 104547\n",
            "\n",
            "Differential Article IDs in 'transactions_train' but not in 'articles':\n",
            "Empty DataFrame\n",
            "Columns: [article_id]\n",
            "Index: []\n",
            "\n",
            "Differential Article IDs in 'articles' but not in 'transactions_train':\n",
            "     article_id\n",
            "0     742742018\n",
            "1     742742019\n",
            "2     738859011\n",
            "3     742742021\n",
            "4     771328005\n",
            "..          ...\n",
            "990   902486003\n",
            "991   870529016\n",
            "992   894763001\n",
            "993   874113019\n",
            "994   902443007\n",
            "\n",
            "[995 rows x 1 columns]\n"
          ]
        }
      ]
    },
    {
      "cell_type": "markdown",
      "source": [
        "================"
      ],
      "metadata": {
        "id": "-OzRgpa4Vp9L"
      }
    },
    {
      "cell_type": "code",
      "source": [
        "sales_channel_counts = transactions_train['sales_channel_id'].value_counts()\n",
        "\n",
        "# Print the count of each sales channel ID\n",
        "print(sales_channel_counts)"
      ],
      "metadata": {
        "colab": {
          "base_uri": "https://localhost:8080/"
        },
        "id": "CwYzWae7U4ku",
        "outputId": "dc452a71-0b4c-4d2f-b461-c093e693b0d4"
      },
      "execution_count": 77,
      "outputs": [
        {
          "output_type": "stream",
          "name": "stdout",
          "text": [
            "2    22379862\n",
            "1     9408462\n",
            "Name: sales_channel_id, dtype: int64\n"
          ]
        }
      ]
    },
    {
      "cell_type": "code",
      "source": [
        "# Create a bar plot using Seaborn\n",
        "plt.figure(figsize=(8, 6))\n",
        "sns.barplot(x=sales_channel_counts.index, y=sales_channel_counts.values)\n",
        "\n",
        "# Customize the plot\n",
        "plt.title('Distribution of Sales Channels')\n",
        "plt.xlabel('Sales Channel ID')\n",
        "plt.ylabel('Count')\n",
        "\n",
        "# Show the plot\n",
        "plt.show()"
      ],
      "metadata": {
        "colab": {
          "base_uri": "https://localhost:8080/",
          "height": 573
        },
        "id": "j1EkzDfcVShX",
        "outputId": "d25852a9-bdd4-48c7-8c00-d5cdfaa629d4"
      },
      "execution_count": 78,
      "outputs": [
        {
          "output_type": "display_data",
          "data": {
            "text/plain": [
              "<Figure size 800x600 with 1 Axes>"
            ],
            "image/png": "[encoded data removed]"
          },
          "metadata": {}
        }
      ]
    },
    {
      "cell_type": "markdown",
      "source": [
        "**online/offline channels**"
      ],
      "metadata": {
        "id": "1PtkdSuQaKYf"
      }
    },
    {
      "cell_type": "code",
      "source": [
        "transactions_train.head(2)"
      ],
      "metadata": {
        "colab": {
          "base_uri": "https://localhost:8080/",
          "height": 112
        },
        "id": "ok9srUQxXVPe",
        "outputId": "7a0e13a7-3625-4ba6-eeb6-0ac3604e2726"
      },
      "execution_count": 80,
      "outputs": [
        {
          "output_type": "execute_result",
          "data": {
            "text/plain": [
              "        t_dat                                        customer_id  article_id  \\\n",
              "0  2018-09-20  000058a12d5b43e67d225668fa1f8d618c13dc232df0ca...   663713001   \n",
              "1  2018-09-20  000058a12d5b43e67d225668fa1f8d618c13dc232df0ca...   541518023   \n",
              "\n",
              "      price  sales_channel_id  \n",
              "0  0.050831                 2  \n",
              "1  0.030492                 2  "
            ],
            "text/html": [
              "\n",
              "  <div id=\"df-c2c00ff3-2ce8-49f2-8a6b-103595e16d77\" class=\"colab-df-container\">\n",
              "    <div>\n",
              "<style scoped>\n",
              "    .dataframe tbody tr th:only-of-type {\n",
              "        vertical-align: middle;\n",
              "    }\n",
              "\n",
              "    .dataframe tbody tr th {\n",
              "        vertical-align: top;\n",
              "    }\n",
              "\n",
              "    .dataframe thead th {\n",
              "        text-align: right;\n",
              "    }\n",
              "</style>\n",
              "<table border=\"1\" class=\"dataframe\">\n",
              "  <thead>\n",
              "    <tr style=\"text-align: right;\">\n",
              "      <th></th>\n",
              "      <th>t_dat</th>\n",
              "      <th>customer_id</th>\n",
              "      <th>article_id</th>\n",
              "      <th>price</th>\n",
              "      <th>sales_channel_id</th>\n",
              "    </tr>\n",
              "  </thead>\n",
              "  <tbody>\n",
              "    <tr>\n",
              "      <th>0</th>\n",
              "      <td>2018-09-20</td>\n",
              "      <td>000058a12d5b43e67d225668fa1f8d618c13dc232df0ca...</td>\n",
              "      <td>663713001</td>\n",
              "      <td>0.050831</td>\n",
              "      <td>2</td>\n",
              "    </tr>\n",
              "    <tr>\n",
              "      <th>1</th>\n",
              "      <td>2018-09-20</td>\n",
              "      <td>000058a12d5b43e67d225668fa1f8d618c13dc232df0ca...</td>\n",
              "      <td>541518023</td>\n",
              "      <td>0.030492</td>\n",
              "      <td>2</td>\n",
              "    </tr>\n",
              "  </tbody>\n",
              "</table>\n",
              "</div>\n",
              "    <div class=\"colab-df-buttons\">\n",
              "\n",
              "  <div class=\"colab-df-container\">\n",
              "    <button class=\"colab-df-convert\" onclick=\"convertToInteractive('df-c2c00ff3-2ce8-49f2-8a6b-103595e16d77')\"\n",
              "            title=\"Convert this dataframe to an interactive table.\"\n",
              "            style=\"display:none;\">\n",
              "\n",
              "  <svg xmlns=\"http://www.w3.org/2000/svg\" height=\"24px\" viewBox=\"0 -960 960 960\">\n",
              "    <path d=\"M120-120v-720h720v720H120Zm60-500h600v-160H180v160Zm220 220h160v-160H400v160Zm0 220h160v-160H400v160ZM180-400h160v-160H180v160Zm440 0h160v-160H620v160ZM180-180h160v-160H180v160Zm440 0h160v-160H620v160Z\"/>\n",
              "  </svg>\n",
              "    </button>\n",
              "\n",
              "  <style>\n",
              "    .colab-df-container {\n",
              "      display:flex;\n",
              "      gap: 12px;\n",
              "    }\n",
              "\n",
              "    .colab-df-convert {\n",
              "      background-color: #E8F0FE;\n",
              "      border: none;\n",
              "      border-radius: 50%;\n",
              "      cursor: pointer;\n",
              "      display: none;\n",
              "      fill: #1967D2;\n",
              "      height: 32px;\n",
              "      padding: 0 0 0 0;\n",
              "      width: 32px;\n",
              "    }\n",
              "\n",
              "    .colab-df-convert:hover {\n",
              "      background-color: #E2EBFA;\n",
              "      box-shadow: 0px 1px 2px rgba(60, 64, 67, 0.3), 0px 1px 3px 1px rgba(60, 64, 67, 0.15);\n",
              "      fill: #174EA6;\n",
              "    }\n",
              "\n",
              "    .colab-df-buttons div {\n",
              "      margin-bottom: 4px;\n",
              "    }\n",
              "\n",
              "    [theme=dark] .colab-df-convert {\n",
              "      background-color: #3B4455;\n",
              "      fill: #D2E3FC;\n",
              "    }\n",
              "\n",
              "    [theme=dark] .colab-df-convert:hover {\n",
              "      background-color: #434B5C;\n",
              "      box-shadow: 0px 1px 3px 1px rgba(0, 0, 0, 0.15);\n",
              "      filter: drop-shadow(0px 1px 2px rgba(0, 0, 0, 0.3));\n",
              "      fill: #FFFFFF;\n",
              "    }\n",
              "  </style>\n",
              "\n",
              "    <script>\n",
              "      const buttonEl =\n",
              "        document.querySelector('#df-c2c00ff3-2ce8-49f2-8a6b-103595e16d77 button.colab-df-convert');\n",
              "      buttonEl.style.display =\n",
              "        google.colab.kernel.accessAllowed ? 'block' : 'none';\n",
              "\n",
              "      async function convertToInteractive(key) {\n",
              "        const element = document.querySelector('#df-c2c00ff3-2ce8-49f2-8a6b-103595e16d77');\n",
              "        const dataTable =\n",
              "          await google.colab.kernel.invokeFunction('convertToInteractive',\n",
              "                                                    [key], {});\n",
              "        if (!dataTable) return;\n",
              "\n",
              "        const docLinkHtml = 'Like what you see? Visit the ' +\n",
              "          '<a target=\"_blank\" href=https://colab.research.google.com/notebooks/data_table.ipynb>data table notebook</a>'\n",
              "          + ' to learn more about interactive tables.';\n",
              "        element.innerHTML = '';\n",
              "        dataTable['output_type'] = 'display_data';\n",
              "        await google.colab.output.renderOutput(dataTable, element);\n",
              "        const docLink = document.createElement('div');\n",
              "        docLink.innerHTML = docLinkHtml;\n",
              "        element.appendChild(docLink);\n",
              "      }\n",
              "    </script>\n",
              "  </div>\n",
              "\n",
              "\n",
              "<div id=\"df-b88c1093-5f9f-464d-a66c-23140d31072e\">\n",
              "  <button class=\"colab-df-quickchart\" onclick=\"quickchart('df-b88c1093-5f9f-464d-a66c-23140d31072e')\"\n",
              "            title=\"Suggest charts.\"\n",
              "            style=\"display:none;\">\n",
              "\n",
              "<svg xmlns=\"http://www.w3.org/2000/svg\" height=\"24px\"viewBox=\"0 0 24 24\"\n",
              "     width=\"24px\">\n",
              "    <g>\n",
              "        <path d=\"M19 3H5c-1.1 0-2 .9-2 2v14c0 1.1.9 2 2 2h14c1.1 0 2-.9 2-2V5c0-1.1-.9-2-2-2zM9 17H7v-7h2v7zm4 0h-2V7h2v10zm4 0h-2v-4h2v4z\"/>\n",
              "    </g>\n",
              "</svg>\n",
              "  </button>\n",
              "\n",
              "<style>\n",
              "  .colab-df-quickchart {\n",
              "      --bg-color: #E8F0FE;\n",
              "      --fill-color: #1967D2;\n",
              "      --hover-bg-color: #E2EBFA;\n",
              "      --hover-fill-color: #174EA6;\n",
              "      --disabled-fill-color: #AAA;\n",
              "      --disabled-bg-color: #DDD;\n",
              "  }\n",
              "\n",
              "  [theme=dark] .colab-df-quickchart {\n",
              "      --bg-color: #3B4455;\n",
              "      --fill-color: #D2E3FC;\n",
              "      --hover-bg-color: #434B5C;\n",
              "      --hover-fill-color: #FFFFFF;\n",
              "      --disabled-bg-color: #3B4455;\n",
              "      --disabled-fill-color: #666;\n",
              "  }\n",
              "\n",
              "  .colab-df-quickchart {\n",
              "    background-color: var(--bg-color);\n",
              "    border: none;\n",
              "    border-radius: 50%;\n",
              "    cursor: pointer;\n",
              "    display: none;\n",
              "    fill: var(--fill-color);\n",
              "    height: 32px;\n",
              "    padding: 0;\n",
              "    width: 32px;\n",
              "  }\n",
              "\n",
              "  .colab-df-quickchart:hover {\n",
              "    background-color: var(--hover-bg-color);\n",
              "    box-shadow: 0 1px 2px rgba(60, 64, 67, 0.3), 0 1px 3px 1px rgba(60, 64, 67, 0.15);\n",
              "    fill: var(--button-hover-fill-color);\n",
              "  }\n",
              "\n",
              "  .colab-df-quickchart-complete:disabled,\n",
              "  .colab-df-quickchart-complete:disabled:hover {\n",
              "    background-color: var(--disabled-bg-color);\n",
              "    fill: var(--disabled-fill-color);\n",
              "    box-shadow: none;\n",
              "  }\n",
              "\n",
              "  .colab-df-spinner {\n",
              "    border: 2px solid var(--fill-color);\n",
              "    border-color: transparent;\n",
              "    border-bottom-color: var(--fill-color);\n",
              "    animation:\n",
              "      spin 1s steps(1) infinite;\n",
              "  }\n",
              "\n",
              "  @keyframes spin {\n",
              "    0% {\n",
              "      border-color: transparent;\n",
              "      border-bottom-color: var(--fill-color);\n",
              "      border-left-color: var(--fill-color);\n",
              "    }\n",
              "    20% {\n",
              "      border-color: transparent;\n",
              "      border-left-color: var(--fill-color);\n",
              "      border-top-color: var(--fill-color);\n",
              "    }\n",
              "    30% {\n",
              "      border-color: transparent;\n",
              "      border-left-color: var(--fill-color);\n",
              "      border-top-color: var(--fill-color);\n",
              "      border-right-color: var(--fill-color);\n",
              "    }\n",
              "    40% {\n",
              "      border-color: transparent;\n",
              "      border-right-color: var(--fill-color);\n",
              "      border-top-color: var(--fill-color);\n",
              "    }\n",
              "    60% {\n",
              "      border-color: transparent;\n",
              "      border-right-color: var(--fill-color);\n",
              "    }\n",
              "    80% {\n",
              "      border-color: transparent;\n",
              "      border-right-color: var(--fill-color);\n",
              "      border-bottom-color: var(--fill-color);\n",
              "    }\n",
              "    90% {\n",
              "      border-color: transparent;\n",
              "      border-bottom-color: var(--fill-color);\n",
              "    }\n",
              "  }\n",
              "</style>\n",
              "\n",
              "  <script>\n",
              "    async function quickchart(key) {\n",
              "      const quickchartButtonEl =\n",
              "        document.querySelector('#' + key + ' button');\n",
              "      quickchartButtonEl.disabled = true;  // To prevent multiple clicks.\n",
              "      quickchartButtonEl.classList.add('colab-df-spinner');\n",
              "      try {\n",
              "        const charts = await google.colab.kernel.invokeFunction(\n",
              "            'suggestCharts', [key], {});\n",
              "      } catch (error) {\n",
              "        console.error('Error during call to suggestCharts:', error);\n",
              "      }\n",
              "      quickchartButtonEl.classList.remove('colab-df-spinner');\n",
              "      quickchartButtonEl.classList.add('colab-df-quickchart-complete');\n",
              "    }\n",
              "    (() => {\n",
              "      let quickchartButtonEl =\n",
              "        document.querySelector('#df-b88c1093-5f9f-464d-a66c-23140d31072e button');\n",
              "      quickchartButtonEl.style.display =\n",
              "        google.colab.kernel.accessAllowed ? 'block' : 'none';\n",
              "    })();\n",
              "  </script>\n",
              "</div>\n",
              "    </div>\n",
              "  </div>\n"
            ]
          },
          "metadata": {},
          "execution_count": 80
        }
      ]
    },
    {
      "cell_type": "code",
      "source": [
        "# converting the \"t_dat\" column from a string to a datetime data type\n",
        "transactions_train['t_dat'] = pd.to_datetime(transactions_train['t_dat'])\n"
      ],
      "metadata": {
        "id": "vRhx9FOdXyjq"
      },
      "execution_count": 82,
      "outputs": []
    },
    {
      "cell_type": "code",
      "source": [
        "# extracting date components like year, month, day, etc.\n",
        "transactions_train['year'] = transactions_train['t_dat'].dt.year\n",
        "transactions_train['month'] = transactions_train['t_dat'].dt.month\n",
        "transactions_train['day'] = transactions_train['t_dat'].dt.day"
      ],
      "metadata": {
        "id": "lyaUP1K8YNax"
      },
      "execution_count": 83,
      "outputs": []
    },
    {
      "cell_type": "code",
      "source": [
        "min_date = transactions_train['t_dat'].min()\n",
        "max_date = transactions_train['t_dat'].max()\n",
        "\n",
        "print(\"Minimum Date:\", min_date)\n",
        "print(\"Maximum Date:\", max_date)"
      ],
      "metadata": {
        "colab": {
          "base_uri": "https://localhost:8080/"
        },
        "id": "YBKToa7CYX-n",
        "outputId": "d17baf64-5787-42ab-be2f-b6a05eddb4a1"
      },
      "execution_count": 87,
      "outputs": [
        {
          "output_type": "stream",
          "name": "stdout",
          "text": [
            "Minimum Date: 2018-09-20 00:00:00\n",
            "Maximum Date: 2020-09-22 00:00:00\n"
          ]
        }
      ]
    },
    {
      "cell_type": "code",
      "source": [
        "# Set the 't_dat' column as the DataFrame's index\n",
        "transactions_train.set_index('t_dat', inplace=True)\n",
        "\n",
        "# Resample the data to get the count of transactions per month\n",
        "monthly_counts = transactions_train['article_id'].resample('M').count()\n",
        "\n",
        "# Create a bar plot using Seaborn\n",
        "plt.figure(figsize=(10, 6))\n",
        "sns.barplot(x=monthly_counts.index.strftime('%Y-%m'), y=monthly_counts.values, palette='Blues')\n",
        "plt.title('Number of Transactions per Month')\n",
        "plt.xlabel('Month')\n",
        "plt.ylabel('Transaction Count')\n",
        "plt.xticks(rotation=45)\n",
        "plt.show()"
      ],
      "metadata": {
        "colab": {
          "base_uri": "https://localhost:8080/",
          "height": 613
        },
        "id": "clscjy07Yg5b",
        "outputId": "c20d9437-cacf-4e2f-ca4c-a7ab9f0f7edc"
      },
      "execution_count": 88,
      "outputs": [
        {
          "output_type": "display_data",
          "data": {
            "text/plain": [
              "<Figure size 1000x600 with 1 Axes>"
            ],
            "image/png": "[encoded data removed]"
          },
          "metadata": {}
        }
      ]
    },
    {
      "cell_type": "code",
      "source": [
        "transactions_train['price'].describe()"
      ],
      "metadata": {
        "colab": {
          "base_uri": "https://localhost:8080/"
        },
        "id": "ftgyZ_e_ZO8j",
        "outputId": "e8b79d92-85bc-4881-f1ac-a7d66c0ebe18"
      },
      "execution_count": 89,
      "outputs": [
        {
          "output_type": "execute_result",
          "data": {
            "text/plain": [
              "count    3.178832e+07\n",
              "mean     2.782927e-02\n",
              "std      1.918113e-02\n",
              "min      1.694915e-05\n",
              "25%      1.581356e-02\n",
              "50%      2.540678e-02\n",
              "75%      3.388136e-02\n",
              "max      5.915254e-01\n",
              "Name: price, dtype: float64"
            ]
          },
          "metadata": {},
          "execution_count": 89
        }
      ]
    },
    {
      "cell_type": "code",
      "source": [
        "description = transactions_train['price'].describe()\n",
        "\n",
        "formatted_description = f\"Count: {description['count']:.0f}\\n\" \\\n",
        "                        f\"Mean: {description['mean']:.4f}\\n\" \\\n",
        "                        f\"Std Dev: {description['std']:.4f}\\n\" \\\n",
        "                        f\"Min: {description['min']:.4f}\\n\" \\\n",
        "                        f\"25%: {description['25%']:.4f}\\n\" \\\n",
        "                        f\"50%: {description['50%']:.4f}\\n\" \\\n",
        "                        f\"75%: {description['75%']:.4f}\\n\" \\\n",
        "                        f\"Max: {description['max']:.4f}\"\n",
        "\n",
        "print(formatted_description)"
      ],
      "metadata": {
        "colab": {
          "base_uri": "https://localhost:8080/"
        },
        "id": "Jy6smTF1ZlgF",
        "outputId": "5497f9bb-5bee-4715-9a6e-58f79a6ee7dd"
      },
      "execution_count": 90,
      "outputs": [
        {
          "output_type": "stream",
          "name": "stdout",
          "text": [
            "Count: 31788324\n",
            "Mean: 0.0278\n",
            "Std Dev: 0.0192\n",
            "Min: 0.0000\n",
            "25%: 0.0158\n",
            "50%: 0.0254\n",
            "75%: 0.0339\n",
            "Max: 0.5915\n"
          ]
        }
      ]
    },
    {
      "cell_type": "markdown",
      "source": [
        "price range is between [0, 0.59]\n",
        "https://www.kaggle.com/c/h-and-m-personalized-fashion-recommendations/discussion/310496"
      ],
      "metadata": {
        "id": "hr3LDu2XbTRd"
      }
    },
    {
      "cell_type": "code",
      "source": [],
      "metadata": {
        "id": "ZV-DXsX4Z3Ty"
      },
      "execution_count": null,
      "outputs": []
    }
  ]
}