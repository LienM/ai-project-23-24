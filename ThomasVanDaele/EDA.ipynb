{
 "cells": [
  {
   "cell_type": "code",
   "execution_count": 1,
   "metadata": {
    "collapsed": true,
    "jupyter": {
     "outputs_hidden": true
    },
    "ExecuteTime": {
     "end_time": "2023-10-04T07:46:25.933731293Z",
     "start_time": "2023-10-04T07:46:25.928881109Z"
    }
   },
   "outputs": [
    {
     "data": {
      "text/plain": "<module 'utils' from '/home/thomas/Projects/ai-project-23-24/ThomasVanDaele/utils.py'>"
     },
     "execution_count": 1,
     "metadata": {},
     "output_type": "execute_result"
    }
   ],
   "source": [
    "import importlib\n",
    "from pathlib import Path\n",
    "\n",
    "import pandas as pd\n",
    "import seaborn as sns\n",
    "from matplotlib import pyplot as plt\n",
    "\n",
    "import utils\n",
    "\n",
    "# Reload my external python modules\n",
    "importlib.reload(utils)"
   ]
  },
  {
   "cell_type": "code",
   "execution_count": 2,
   "metadata": {
    "collapsed": false,
    "ExecuteTime": {
     "end_time": "2023-10-04T07:46:44.788520215Z",
     "start_time": "2023-10-04T07:46:25.930248816Z"
    }
   },
   "outputs": [],
   "source": [
    "# Read data\n",
    "# Force reading columns as str to not losing leading zeros on (hexadecimal) ids\n",
    "# Parse correct columns as datatime objects\n",
    "data_dir = Path(\"data/\")\n",
    "\n",
    "articles = pd.read_csv(data_dir / 'articles.csv', dtype={'article_id': str, 'product_code': str})\n",
    "customers = pd.read_csv(data_dir / 'customers.csv', dtype={'customer_id': str, 'postal_code': str})\n",
    "sample_submission = pd.read_csv(data_dir / 'sample_submission.csv', dtype={'customer_id': str, 'prediction': str})\n",
    "transactions_train = pd.read_csv(data_dir / 'transactions_train.csv', dtype={'customer_id': str, 'article_id': str}, parse_dates=['t_dat'])"
   ]
  },
  {
   "cell_type": "code",
   "execution_count": 3,
   "metadata": {
    "collapsed": false,
    "ExecuteTime": {
     "end_time": "2023-10-04T07:46:44.950358802Z",
     "start_time": "2023-10-04T07:46:44.789204559Z"
    }
   },
   "outputs": [
    {
     "name": "stdout",
     "output_type": "stream",
     "text": [
      "<class 'pandas.core.frame.DataFrame'>\n",
      "RangeIndex: 105542 entries, 0 to 105541\n",
      "Data columns (total 25 columns):\n",
      " #   Column                        Non-Null Count   Dtype \n",
      "---  ------                        --------------   ----- \n",
      " 0   article_id                    105542 non-null  object\n",
      " 1   product_code                  105542 non-null  object\n",
      " 2   prod_name                     105542 non-null  object\n",
      " 3   product_type_no               105542 non-null  int64 \n",
      " 4   product_type_name             105542 non-null  object\n",
      " 5   product_group_name            105542 non-null  object\n",
      " 6   graphical_appearance_no       105542 non-null  int64 \n",
      " 7   graphical_appearance_name     105542 non-null  object\n",
      " 8   colour_group_code             105542 non-null  int64 \n",
      " 9   colour_group_name             105542 non-null  object\n",
      " 10  perceived_colour_value_id     105542 non-null  int64 \n",
      " 11  perceived_colour_value_name   105542 non-null  object\n",
      " 12  perceived_colour_master_id    105542 non-null  int64 \n",
      " 13  perceived_colour_master_name  105542 non-null  object\n",
      " 14  department_no                 105542 non-null  int64 \n",
      " 15  department_name               105542 non-null  object\n",
      " 16  index_code                    105542 non-null  object\n",
      " 17  index_name                    105542 non-null  object\n",
      " 18  index_group_no                105542 non-null  int64 \n",
      " 19  index_group_name              105542 non-null  object\n",
      " 20  section_no                    105542 non-null  int64 \n",
      " 21  section_name                  105542 non-null  object\n",
      " 22  garment_group_no              105542 non-null  int64 \n",
      " 23  garment_group_name            105542 non-null  object\n",
      " 24  detail_desc                   105126 non-null  object\n",
      "dtypes: int64(9), object(16)\n",
      "memory usage: 20.1+ MB\n",
      "<class 'pandas.core.frame.DataFrame'>\n",
      "RangeIndex: 1371980 entries, 0 to 1371979\n",
      "Data columns (total 7 columns):\n",
      " #   Column                  Non-Null Count    Dtype  \n",
      "---  ------                  --------------    -----  \n",
      " 0   customer_id             1371980 non-null  object \n",
      " 1   FN                      476930 non-null   float64\n",
      " 2   Active                  464404 non-null   float64\n",
      " 3   club_member_status      1365918 non-null  object \n",
      " 4   fashion_news_frequency  1355969 non-null  object \n",
      " 5   age                     1356119 non-null  float64\n",
      " 6   postal_code             1371980 non-null  object \n",
      "dtypes: float64(3), object(4)\n",
      "memory usage: 73.3+ MB\n",
      "<class 'pandas.core.frame.DataFrame'>\n",
      "RangeIndex: 31788324 entries, 0 to 31788323\n",
      "Data columns (total 5 columns):\n",
      " #   Column            Dtype         \n",
      "---  ------            -----         \n",
      " 0   t_dat             datetime64[ns]\n",
      " 1   customer_id       object        \n",
      " 2   article_id        object        \n",
      " 3   price             float64       \n",
      " 4   sales_channel_id  int64         \n",
      "dtypes: datetime64[ns](1), float64(1), int64(1), object(2)\n",
      "memory usage: 1.2+ GB\n"
     ]
    }
   ],
   "source": [
    "articles.info()\n",
    "customers.info()\n",
    "transactions_train.info()"
   ]
  },
  {
   "cell_type": "markdown",
   "metadata": {
    "collapsed": false
   },
   "source": [
    "# EDA of customers"
   ]
  },
  {
   "cell_type": "code",
   "execution_count": 4,
   "metadata": {
    "collapsed": false,
    "ExecuteTime": {
     "end_time": "2023-10-04T07:46:44.997464432Z",
     "start_time": "2023-10-04T07:46:44.950522181Z"
    }
   },
   "outputs": [
    {
     "data": {
      "text/plain": "                                         customer_id   FN  Active  \\\n0  00000dbacae5abe5e23885899a1fa44253a17956c6d1c3...  NaN     NaN   \n1  0000423b00ade91418cceaf3b26c6af3dd342b51fd051e...  NaN     NaN   \n2  000058a12d5b43e67d225668fa1f8d618c13dc232df0ca...  NaN     NaN   \n3  00005ca1c9ed5f5146b52ac8639a40ca9d57aeff4d1bd2...  NaN     NaN   \n4  00006413d8573cd20ed7128e53b7b13819fe5cfc2d801f...  1.0     1.0   \n\n  club_member_status fashion_news_frequency   age  \\\n0             ACTIVE                   NONE  49.0   \n1             ACTIVE                   NONE  25.0   \n2             ACTIVE                   NONE  24.0   \n3             ACTIVE                   NONE  54.0   \n4             ACTIVE              Regularly  52.0   \n\n                                         postal_code  \n0  52043ee2162cf5aa7ee79974281641c6f11a68d276429a...  \n1  2973abc54daa8a5f8ccfe9362140c63247c5eee03f1d93...  \n2  64f17e6a330a85798e4998f62d0930d14db8db1c054af6...  \n3  5d36574f52495e81f019b680c843c443bd343d5ca5b1c2...  \n4  25fa5ddee9aac01b35208d01736e57942317d756b32ddd...  ",
      "text/html": "<div>\n<style scoped>\n    .dataframe tbody tr th:only-of-type {\n        vertical-align: middle;\n    }\n\n    .dataframe tbody tr th {\n        vertical-align: top;\n    }\n\n    .dataframe thead th {\n        text-align: right;\n    }\n</style>\n<table border=\"1\" class=\"dataframe\">\n  <thead>\n    <tr style=\"text-align: right;\">\n      <th></th>\n      <th>customer_id</th>\n      <th>FN</th>\n      <th>Active</th>\n      <th>club_member_status</th>\n      <th>fashion_news_frequency</th>\n      <th>age</th>\n      <th>postal_code</th>\n    </tr>\n  </thead>\n  <tbody>\n    <tr>\n      <th>0</th>\n      <td>00000dbacae5abe5e23885899a1fa44253a17956c6d1c3...</td>\n      <td>NaN</td>\n      <td>NaN</td>\n      <td>ACTIVE</td>\n      <td>NONE</td>\n      <td>49.0</td>\n      <td>52043ee2162cf5aa7ee79974281641c6f11a68d276429a...</td>\n    </tr>\n    <tr>\n      <th>1</th>\n      <td>0000423b00ade91418cceaf3b26c6af3dd342b51fd051e...</td>\n      <td>NaN</td>\n      <td>NaN</td>\n      <td>ACTIVE</td>\n      <td>NONE</td>\n      <td>25.0</td>\n      <td>2973abc54daa8a5f8ccfe9362140c63247c5eee03f1d93...</td>\n    </tr>\n    <tr>\n      <th>2</th>\n      <td>000058a12d5b43e67d225668fa1f8d618c13dc232df0ca...</td>\n      <td>NaN</td>\n      <td>NaN</td>\n      <td>ACTIVE</td>\n      <td>NONE</td>\n      <td>24.0</td>\n      <td>64f17e6a330a85798e4998f62d0930d14db8db1c054af6...</td>\n    </tr>\n    <tr>\n      <th>3</th>\n      <td>00005ca1c9ed5f5146b52ac8639a40ca9d57aeff4d1bd2...</td>\n      <td>NaN</td>\n      <td>NaN</td>\n      <td>ACTIVE</td>\n      <td>NONE</td>\n      <td>54.0</td>\n      <td>5d36574f52495e81f019b680c843c443bd343d5ca5b1c2...</td>\n    </tr>\n    <tr>\n      <th>4</th>\n      <td>00006413d8573cd20ed7128e53b7b13819fe5cfc2d801f...</td>\n      <td>1.0</td>\n      <td>1.0</td>\n      <td>ACTIVE</td>\n      <td>Regularly</td>\n      <td>52.0</td>\n      <td>25fa5ddee9aac01b35208d01736e57942317d756b32ddd...</td>\n    </tr>\n  </tbody>\n</table>\n</div>"
     },
     "execution_count": 4,
     "metadata": {},
     "output_type": "execute_result"
    }
   ],
   "source": [
    "customers.head()"
   ]
  },
  {
   "cell_type": "code",
   "execution_count": 5,
   "metadata": {
    "collapsed": false,
    "ExecuteTime": {
     "end_time": "2023-10-04T07:46:45.134186280Z",
     "start_time": "2023-10-04T07:46:44.979872707Z"
    }
   },
   "outputs": [
    {
     "data": {
      "text/plain": "             FN    Active           age\ncount  476930.0  464404.0  1.356119e+06\nmean        1.0       1.0  3.638696e+01\nstd         0.0       0.0  1.431363e+01\nmin         1.0       1.0  1.600000e+01\n25%         1.0       1.0  2.400000e+01\n50%         1.0       1.0  3.200000e+01\n75%         1.0       1.0  4.900000e+01\nmax         1.0       1.0  9.900000e+01",
      "text/html": "<div>\n<style scoped>\n    .dataframe tbody tr th:only-of-type {\n        vertical-align: middle;\n    }\n\n    .dataframe tbody tr th {\n        vertical-align: top;\n    }\n\n    .dataframe thead th {\n        text-align: right;\n    }\n</style>\n<table border=\"1\" class=\"dataframe\">\n  <thead>\n    <tr style=\"text-align: right;\">\n      <th></th>\n      <th>FN</th>\n      <th>Active</th>\n      <th>age</th>\n    </tr>\n  </thead>\n  <tbody>\n    <tr>\n      <th>count</th>\n      <td>476930.0</td>\n      <td>464404.0</td>\n      <td>1.356119e+06</td>\n    </tr>\n    <tr>\n      <th>mean</th>\n      <td>1.0</td>\n      <td>1.0</td>\n      <td>3.638696e+01</td>\n    </tr>\n    <tr>\n      <th>std</th>\n      <td>0.0</td>\n      <td>0.0</td>\n      <td>1.431363e+01</td>\n    </tr>\n    <tr>\n      <th>min</th>\n      <td>1.0</td>\n      <td>1.0</td>\n      <td>1.600000e+01</td>\n    </tr>\n    <tr>\n      <th>25%</th>\n      <td>1.0</td>\n      <td>1.0</td>\n      <td>2.400000e+01</td>\n    </tr>\n    <tr>\n      <th>50%</th>\n      <td>1.0</td>\n      <td>1.0</td>\n      <td>3.200000e+01</td>\n    </tr>\n    <tr>\n      <th>75%</th>\n      <td>1.0</td>\n      <td>1.0</td>\n      <td>4.900000e+01</td>\n    </tr>\n    <tr>\n      <th>max</th>\n      <td>1.0</td>\n      <td>1.0</td>\n      <td>9.900000e+01</td>\n    </tr>\n  </tbody>\n</table>\n</div>"
     },
     "execution_count": 5,
     "metadata": {},
     "output_type": "execute_result"
    }
   ],
   "source": [
    "customers.describe()"
   ]
  },
  {
   "cell_type": "code",
   "execution_count": 6,
   "metadata": {
    "collapsed": false,
    "ExecuteTime": {
     "end_time": "2023-10-04T07:46:47.254444775Z",
     "start_time": "2023-10-04T07:46:45.130174422Z"
    }
   },
   "outputs": [
    {
     "name": "stdout",
     "output_type": "stream",
     "text": [
      "Rows not matching the regex:\n",
      "Empty DataFrame\n",
      "Columns: [customer_id, FN, Active, club_member_status, fashion_news_frequency, age, postal_code]\n",
      "Index: []\n",
      "All values for column customer_id are unique\n",
      "Customer_id has same length in all rows: True\n",
      "Rows not matching the regex:\n",
      "Empty DataFrame\n",
      "Columns: [customer_id, FN, Active, club_member_status, fashion_news_frequency, age, postal_code]\n",
      "Index: []\n",
      "Column postal_code has non unique values\n",
      "Postal_code has same length in all rows: True\n",
      "postal_code\n",
      "2c29ae653a9282cce4151bd87643c907644e09541abc28ae87dea0d1f6603b1c    120303\n",
      "cc4ed85e30f4977dae47662ddc468cd2eec11472de6fac5ec985080fd92243c8       261\n",
      "714976379549eb90aae4a71bca6c7402cc646ae7c40f6c1cb91d4b5a18623fc1       159\n",
      "7c1fa3b0ec1d37ce2c3f34f63bd792f3b4494f324b6be5d1e4ba6a75456b96a7       157\n",
      "5b7eb31eabebd3277de632b82267286d847fd5d44287ee150bb4206b48439145       156\n",
      "                                                                     ...  \n",
      "23bcd86dc11e0a0dc7f6cd7c90c67628824067566824b4d32e32247f187bc03f         1\n",
      "4ec1eeb2488423a2913d5b37a1947269cb20ba3a2a80fc6566f695b33b661f47         1\n",
      "935b81e8d0cc43c03bc16d973ebaa950c93d8fa9822c501dcaca6f25dbe334df         1\n",
      "4c30540526a8c2c6b822625f83ba973cb7417c50cf47622100061746d798d854         1\n",
      "d7d80c9159b554b5879c7fb51f0e94e797a37bba82a278ab98fff23b8630921f         1\n",
      "Name: count, Length: 352899, dtype: int64\n"
     ]
    }
   ],
   "source": [
    "utils.check_regex(customers, \"customer_id\", \"^[a-f0-9]{64}$\", unique=True)\n",
    "customer_id_length = customers[customers['customer_id'].astype(str).map(len) == len(customers['customer_id'][0])]\n",
    "print(f\"Customer_id has same length in all rows: {customer_id_length.shape[0] == customers.shape[0]}\")\n",
    "utils.check_regex(customers, \"postal_code\", \"^[a-f0-9]{64}$\", unique=True)\n",
    "postal_code_length = customers[customers['postal_code'].astype(str).map(len) == len(customers['postal_code'][0])]\n",
    "print(f\"Postal_code has same length in all rows: {postal_code_length.shape[0] == customers.shape[0]}\")\n",
    "print(customers[\"postal_code\"].value_counts())"
   ]
  },
  {
   "cell_type": "code",
   "execution_count": 7,
   "metadata": {
    "collapsed": false,
    "ExecuteTime": {
     "end_time": "2023-10-04T07:46:47.293687903Z",
     "start_time": "2023-10-04T07:46:47.250554958Z"
    }
   },
   "outputs": [
    {
     "name": "stdout",
     "output_type": "stream",
     "text": [
      "Total number of customers is 1371980. 1.1560664149623172% have no age.\n"
     ]
    },
    {
     "data": {
      "text/plain": "count    1.356119e+06\nmean     3.638696e+01\nstd      1.431363e+01\nmin      1.600000e+01\n25%      2.400000e+01\n50%      3.200000e+01\n75%      4.900000e+01\nmax      9.900000e+01\nName: age, dtype: float64"
     },
     "execution_count": 7,
     "metadata": {},
     "output_type": "execute_result"
    }
   ],
   "source": [
    "utils.print_na(customers, \"customers\", \"age\")\n",
    "customers[\"age\"].describe()"
   ]
  },
  {
   "cell_type": "code",
   "execution_count": 8,
   "metadata": {
    "collapsed": false,
    "ExecuteTime": {
     "end_time": "2023-10-04T07:46:47.757444305Z",
     "start_time": "2023-10-04T07:46:47.305020940Z"
    }
   },
   "outputs": [
    {
     "data": {
      "text/plain": "<Axes: xlabel='age', ylabel='Count'>"
     },
     "execution_count": 8,
     "metadata": {},
     "output_type": "execute_result"
    },
    {
     "data": {
      "text/plain": "<Figure size 640x480 with 1 Axes>",
      "image/png": "[encoded data removed]"
     },
     "metadata": {},
     "output_type": "display_data"
    }
   ],
   "source": [
    "sns.histplot(customers[\"age\"])"
   ]
  },
  {
   "cell_type": "markdown",
   "metadata": {
    "collapsed": false
   },
   "source": []
  },
  {
   "cell_type": "code",
   "execution_count": 9,
   "metadata": {
    "collapsed": false,
    "ExecuteTime": {
     "end_time": "2023-10-04T07:46:47.802811276Z",
     "start_time": "2023-10-04T07:46:47.758393360Z"
    }
   },
   "outputs": [
    {
     "name": "stdout",
     "output_type": "stream",
     "text": [
      "Total number of customers is 1371980. 65.23783145526903% have no FN.\n"
     ]
    },
    {
     "data": {
      "text/plain": "count    476930.0\nmean          1.0\nstd           0.0\nmin           1.0\n25%           1.0\n50%           1.0\n75%           1.0\nmax           1.0\nName: FN, dtype: float64"
     },
     "execution_count": 9,
     "metadata": {},
     "output_type": "execute_result"
    }
   ],
   "source": [
    "utils.print_na(customers, \"customers\", \"FN\")\n",
    "customers[\"FN\"].describe()"
   ]
  },
  {
   "cell_type": "code",
   "execution_count": 10,
   "metadata": {
    "collapsed": false,
    "ExecuteTime": {
     "end_time": "2023-10-04T07:46:47.821906525Z",
     "start_time": "2023-10-04T07:46:47.789196614Z"
    }
   },
   "outputs": [
    {
     "name": "stdout",
     "output_type": "stream",
     "text": [
      "Total number of customers is 1371980. 66.15081852505138% have no Active.\n"
     ]
    },
    {
     "data": {
      "text/plain": "count    464404.0\nmean          1.0\nstd           0.0\nmin           1.0\n25%           1.0\n50%           1.0\n75%           1.0\nmax           1.0\nName: Active, dtype: float64"
     },
     "execution_count": 10,
     "metadata": {},
     "output_type": "execute_result"
    }
   ],
   "source": [
    "utils.print_na(customers, \"customers\", \"Active\")\n",
    "customers[\"Active\"].describe()"
   ]
  },
  {
   "cell_type": "code",
   "execution_count": 11,
   "metadata": {
    "collapsed": false,
    "ExecuteTime": {
     "end_time": "2023-10-04T07:46:47.872770293Z",
     "start_time": "2023-10-04T07:46:47.842207965Z"
    }
   },
   "outputs": [
    {
     "name": "stdout",
     "output_type": "stream",
     "text": [
      "Total number of customers is 1371980. 0.44184317555649494% have no club_member_status.\n"
     ]
    },
    {
     "data": {
      "text/plain": "club_member_status\nACTIVE        1272491\nPRE-CREATE      92960\nLEFT CLUB         467\nName: count, dtype: int64"
     },
     "execution_count": 11,
     "metadata": {},
     "output_type": "execute_result"
    }
   ],
   "source": [
    "utils.print_na(customers, \"customers\", \"club_member_status\")\n",
    "customers[\"club_member_status\"].value_counts()"
   ]
  },
  {
   "cell_type": "code",
   "execution_count": 12,
   "metadata": {
    "collapsed": false,
    "ExecuteTime": {
     "end_time": "2023-10-04T07:46:47.944056390Z",
     "start_time": "2023-10-04T07:46:47.871756345Z"
    }
   },
   "outputs": [
    {
     "name": "stdout",
     "output_type": "stream",
     "text": [
      "Total number of customers is 1371980. 1.1669995189434248% have no fashion_news_frequency.\n"
     ]
    },
    {
     "data": {
      "text/plain": "fashion_news_frequency\nNONE         877711\nRegularly    477416\nMonthly         842\nName: count, dtype: int64"
     },
     "execution_count": 12,
     "metadata": {},
     "output_type": "execute_result"
    }
   ],
   "source": [
    "utils.print_na(customers, \"customers\", \"fashion_news_frequency\")\n",
    "customers[\"fashion_news_frequency\"].value_counts()"
   ]
  },
  {
   "cell_type": "markdown",
   "metadata": {
    "collapsed": false
   },
   "source": [
    "# Articles"
   ]
  },
  {
   "cell_type": "code",
   "execution_count": 13,
   "metadata": {
    "collapsed": false,
    "ExecuteTime": {
     "end_time": "2023-10-04T07:46:47.989397673Z",
     "start_time": "2023-10-04T07:46:47.947936169Z"
    }
   },
   "outputs": [
    {
     "data": {
      "text/plain": "   article_id product_code          prod_name  product_type_no  \\\n0  0108775015      0108775          Strap top              253   \n1  0108775044      0108775          Strap top              253   \n2  0108775051      0108775      Strap top (1)              253   \n3  0110065001      0110065  OP T-shirt (Idro)              306   \n4  0110065002      0110065  OP T-shirt (Idro)              306   \n\n  product_type_name  product_group_name  graphical_appearance_no  \\\n0          Vest top  Garment Upper body                  1010016   \n1          Vest top  Garment Upper body                  1010016   \n2          Vest top  Garment Upper body                  1010017   \n3               Bra           Underwear                  1010016   \n4               Bra           Underwear                  1010016   \n\n  graphical_appearance_name  colour_group_code colour_group_name  ...  \\\n0                     Solid                  9             Black  ...   \n1                     Solid                 10             White  ...   \n2                    Stripe                 11         Off White  ...   \n3                     Solid                  9             Black  ...   \n4                     Solid                 10             White  ...   \n\n   department_name index_code        index_name index_group_no  \\\n0     Jersey Basic          A        Ladieswear              1   \n1     Jersey Basic          A        Ladieswear              1   \n2     Jersey Basic          A        Ladieswear              1   \n3   Clean Lingerie          B  Lingeries/Tights              1   \n4   Clean Lingerie          B  Lingeries/Tights              1   \n\n   index_group_name section_no            section_name garment_group_no  \\\n0        Ladieswear         16  Womens Everyday Basics             1002   \n1        Ladieswear         16  Womens Everyday Basics             1002   \n2        Ladieswear         16  Womens Everyday Basics             1002   \n3        Ladieswear         61         Womens Lingerie             1017   \n4        Ladieswear         61         Womens Lingerie             1017   \n\n   garment_group_name                                        detail_desc  \n0        Jersey Basic            Jersey top with narrow shoulder straps.  \n1        Jersey Basic            Jersey top with narrow shoulder straps.  \n2        Jersey Basic            Jersey top with narrow shoulder straps.  \n3   Under-, Nightwear  Microfibre T-shirt bra with underwired, moulde...  \n4   Under-, Nightwear  Microfibre T-shirt bra with underwired, moulde...  \n\n[5 rows x 25 columns]",
      "text/html": "<div>\n<style scoped>\n    .dataframe tbody tr th:only-of-type {\n        vertical-align: middle;\n    }\n\n    .dataframe tbody tr th {\n        vertical-align: top;\n    }\n\n    .dataframe thead th {\n        text-align: right;\n    }\n</style>\n<table border=\"1\" class=\"dataframe\">\n  <thead>\n    <tr style=\"text-align: right;\">\n      <th></th>\n      <th>article_id</th>\n      <th>product_code</th>\n      <th>prod_name</th>\n      <th>product_type_no</th>\n      <th>product_type_name</th>\n      <th>product_group_name</th>\n      <th>graphical_appearance_no</th>\n      <th>graphical_appearance_name</th>\n      <th>colour_group_code</th>\n      <th>colour_group_name</th>\n      <th>...</th>\n      <th>department_name</th>\n      <th>index_code</th>\n      <th>index_name</th>\n      <th>index_group_no</th>\n      <th>index_group_name</th>\n      <th>section_no</th>\n      <th>section_name</th>\n      <th>garment_group_no</th>\n      <th>garment_group_name</th>\n      <th>detail_desc</th>\n    </tr>\n  </thead>\n  <tbody>\n    <tr>\n      <th>0</th>\n      <td>0108775015</td>\n      <td>0108775</td>\n      <td>Strap top</td>\n      <td>253</td>\n      <td>Vest top</td>\n      <td>Garment Upper body</td>\n      <td>1010016</td>\n      <td>Solid</td>\n      <td>9</td>\n      <td>Black</td>\n      <td>...</td>\n      <td>Jersey Basic</td>\n      <td>A</td>\n      <td>Ladieswear</td>\n      <td>1</td>\n      <td>Ladieswear</td>\n      <td>16</td>\n      <td>Womens Everyday Basics</td>\n      <td>1002</td>\n      <td>Jersey Basic</td>\n      <td>Jersey top with narrow shoulder straps.</td>\n    </tr>\n    <tr>\n      <th>1</th>\n      <td>0108775044</td>\n      <td>0108775</td>\n      <td>Strap top</td>\n      <td>253</td>\n      <td>Vest top</td>\n      <td>Garment Upper body</td>\n      <td>1010016</td>\n      <td>Solid</td>\n      <td>10</td>\n      <td>White</td>\n      <td>...</td>\n      <td>Jersey Basic</td>\n      <td>A</td>\n      <td>Ladieswear</td>\n      <td>1</td>\n      <td>Ladieswear</td>\n      <td>16</td>\n      <td>Womens Everyday Basics</td>\n      <td>1002</td>\n      <td>Jersey Basic</td>\n      <td>Jersey top with narrow shoulder straps.</td>\n    </tr>\n    <tr>\n      <th>2</th>\n      <td>0108775051</td>\n      <td>0108775</td>\n      <td>Strap top (1)</td>\n      <td>253</td>\n      <td>Vest top</td>\n      <td>Garment Upper body</td>\n      <td>1010017</td>\n      <td>Stripe</td>\n      <td>11</td>\n      <td>Off White</td>\n      <td>...</td>\n      <td>Jersey Basic</td>\n      <td>A</td>\n      <td>Ladieswear</td>\n      <td>1</td>\n      <td>Ladieswear</td>\n      <td>16</td>\n      <td>Womens Everyday Basics</td>\n      <td>1002</td>\n      <td>Jersey Basic</td>\n      <td>Jersey top with narrow shoulder straps.</td>\n    </tr>\n    <tr>\n      <th>3</th>\n      <td>0110065001</td>\n      <td>0110065</td>\n      <td>OP T-shirt (Idro)</td>\n      <td>306</td>\n      <td>Bra</td>\n      <td>Underwear</td>\n      <td>1010016</td>\n      <td>Solid</td>\n      <td>9</td>\n      <td>Black</td>\n      <td>...</td>\n      <td>Clean Lingerie</td>\n      <td>B</td>\n      <td>Lingeries/Tights</td>\n      <td>1</td>\n      <td>Ladieswear</td>\n      <td>61</td>\n      <td>Womens Lingerie</td>\n      <td>1017</td>\n      <td>Under-, Nightwear</td>\n      <td>Microfibre T-shirt bra with underwired, moulde...</td>\n    </tr>\n    <tr>\n      <th>4</th>\n      <td>0110065002</td>\n      <td>0110065</td>\n      <td>OP T-shirt (Idro)</td>\n      <td>306</td>\n      <td>Bra</td>\n      <td>Underwear</td>\n      <td>1010016</td>\n      <td>Solid</td>\n      <td>10</td>\n      <td>White</td>\n      <td>...</td>\n      <td>Clean Lingerie</td>\n      <td>B</td>\n      <td>Lingeries/Tights</td>\n      <td>1</td>\n      <td>Ladieswear</td>\n      <td>61</td>\n      <td>Womens Lingerie</td>\n      <td>1017</td>\n      <td>Under-, Nightwear</td>\n      <td>Microfibre T-shirt bra with underwired, moulde...</td>\n    </tr>\n  </tbody>\n</table>\n<p>5 rows × 25 columns</p>\n</div>"
     },
     "execution_count": 13,
     "metadata": {},
     "output_type": "execute_result"
    }
   ],
   "source": [
    "articles.head()"
   ]
  },
  {
   "cell_type": "code",
   "execution_count": 14,
   "metadata": {
    "collapsed": false,
    "ExecuteTime": {
     "end_time": "2023-10-04T07:46:48.071797041Z",
     "start_time": "2023-10-04T07:46:47.988429041Z"
    }
   },
   "outputs": [
    {
     "data": {
      "text/plain": "       product_type_no  graphical_appearance_no  colour_group_code  \\\ncount    105542.000000             1.055420e+05      105542.000000   \nmean        234.861875             1.009515e+06          32.233822   \nstd          75.049308             2.241359e+04          28.086154   \nmin          -1.000000            -1.000000e+00          -1.000000   \n25%         252.000000             1.010008e+06           9.000000   \n50%         259.000000             1.010016e+06          14.000000   \n75%         272.000000             1.010016e+06          52.000000   \nmax         762.000000             1.010029e+06          93.000000   \n\n       perceived_colour_value_id  perceived_colour_master_id  department_no  \\\ncount              105542.000000               105542.000000  105542.000000   \nmean                    3.206183                    7.807972    4532.777833   \nstd                     1.563839                    5.376727    2712.692011   \nmin                    -1.000000                   -1.000000    1201.000000   \n25%                     2.000000                    4.000000    1676.000000   \n50%                     4.000000                    5.000000    4222.000000   \n75%                     4.000000                   11.000000    7389.000000   \nmax                     7.000000                   20.000000    9989.000000   \n\n       index_group_no     section_no  garment_group_no  \ncount   105542.000000  105542.000000     105542.000000  \nmean         3.171534      42.664219       1010.438290  \nstd          4.353234      23.260105          6.731023  \nmin          1.000000       2.000000       1001.000000  \n25%          1.000000      20.000000       1005.000000  \n50%          2.000000      46.000000       1009.000000  \n75%          4.000000      61.000000       1017.000000  \nmax         26.000000      97.000000       1025.000000  ",
      "text/html": "<div>\n<style scoped>\n    .dataframe tbody tr th:only-of-type {\n        vertical-align: middle;\n    }\n\n    .dataframe tbody tr th {\n        vertical-align: top;\n    }\n\n    .dataframe thead th {\n        text-align: right;\n    }\n</style>\n<table border=\"1\" class=\"dataframe\">\n  <thead>\n    <tr style=\"text-align: right;\">\n      <th></th>\n      <th>product_type_no</th>\n      <th>graphical_appearance_no</th>\n      <th>colour_group_code</th>\n      <th>perceived_colour_value_id</th>\n      <th>perceived_colour_master_id</th>\n      <th>department_no</th>\n      <th>index_group_no</th>\n      <th>section_no</th>\n      <th>garment_group_no</th>\n    </tr>\n  </thead>\n  <tbody>\n    <tr>\n      <th>count</th>\n      <td>105542.000000</td>\n      <td>1.055420e+05</td>\n      <td>105542.000000</td>\n      <td>105542.000000</td>\n      <td>105542.000000</td>\n      <td>105542.000000</td>\n      <td>105542.000000</td>\n      <td>105542.000000</td>\n      <td>105542.000000</td>\n    </tr>\n    <tr>\n      <th>mean</th>\n      <td>234.861875</td>\n      <td>1.009515e+06</td>\n      <td>32.233822</td>\n      <td>3.206183</td>\n      <td>7.807972</td>\n      <td>4532.777833</td>\n      <td>3.171534</td>\n      <td>42.664219</td>\n      <td>1010.438290</td>\n    </tr>\n    <tr>\n      <th>std</th>\n      <td>75.049308</td>\n      <td>2.241359e+04</td>\n      <td>28.086154</td>\n      <td>1.563839</td>\n      <td>5.376727</td>\n      <td>2712.692011</td>\n      <td>4.353234</td>\n      <td>23.260105</td>\n      <td>6.731023</td>\n    </tr>\n    <tr>\n      <th>min</th>\n      <td>-1.000000</td>\n      <td>-1.000000e+00</td>\n      <td>-1.000000</td>\n      <td>-1.000000</td>\n      <td>-1.000000</td>\n      <td>1201.000000</td>\n      <td>1.000000</td>\n      <td>2.000000</td>\n      <td>1001.000000</td>\n    </tr>\n    <tr>\n      <th>25%</th>\n      <td>252.000000</td>\n      <td>1.010008e+06</td>\n      <td>9.000000</td>\n      <td>2.000000</td>\n      <td>4.000000</td>\n      <td>1676.000000</td>\n      <td>1.000000</td>\n      <td>20.000000</td>\n      <td>1005.000000</td>\n    </tr>\n    <tr>\n      <th>50%</th>\n      <td>259.000000</td>\n      <td>1.010016e+06</td>\n      <td>14.000000</td>\n      <td>4.000000</td>\n      <td>5.000000</td>\n      <td>4222.000000</td>\n      <td>2.000000</td>\n      <td>46.000000</td>\n      <td>1009.000000</td>\n    </tr>\n    <tr>\n      <th>75%</th>\n      <td>272.000000</td>\n      <td>1.010016e+06</td>\n      <td>52.000000</td>\n      <td>4.000000</td>\n      <td>11.000000</td>\n      <td>7389.000000</td>\n      <td>4.000000</td>\n      <td>61.000000</td>\n      <td>1017.000000</td>\n    </tr>\n    <tr>\n      <th>max</th>\n      <td>762.000000</td>\n      <td>1.010029e+06</td>\n      <td>93.000000</td>\n      <td>7.000000</td>\n      <td>20.000000</td>\n      <td>9989.000000</td>\n      <td>26.000000</td>\n      <td>97.000000</td>\n      <td>1025.000000</td>\n    </tr>\n  </tbody>\n</table>\n</div>"
     },
     "execution_count": 14,
     "metadata": {},
     "output_type": "execute_result"
    }
   ],
   "source": [
    "articles.describe()"
   ]
  },
  {
   "cell_type": "code",
   "execution_count": 15,
   "metadata": {
    "collapsed": false,
    "ExecuteTime": {
     "end_time": "2023-10-04T07:46:48.072279564Z",
     "start_time": "2023-10-04T07:46:48.030343933Z"
    }
   },
   "outputs": [
    {
     "data": {
      "text/plain": "article_id                      0.000000\nproduct_code                    0.000000\nprod_name                       0.000000\nproduct_type_no                 0.000000\nproduct_type_name               0.000000\nproduct_group_name              0.000000\ngraphical_appearance_no         0.000000\ngraphical_appearance_name       0.000000\ncolour_group_code               0.000000\ncolour_group_name               0.000000\nperceived_colour_value_id       0.000000\nperceived_colour_value_name     0.000000\nperceived_colour_master_id      0.000000\nperceived_colour_master_name    0.000000\ndepartment_no                   0.000000\ndepartment_name                 0.000000\nindex_code                      0.000000\nindex_name                      0.000000\nindex_group_no                  0.000000\nindex_group_name                0.000000\nsection_no                      0.000000\nsection_name                    0.000000\ngarment_group_no                0.000000\ngarment_group_name              0.000000\ndetail_desc                     0.394156\ndtype: float64"
     },
     "execution_count": 15,
     "metadata": {},
     "output_type": "execute_result"
    }
   ],
   "source": [
    "articles.isna().sum() / articles.shape[0] * 100"
   ]
  },
  {
   "cell_type": "code",
   "execution_count": 16,
   "metadata": {
    "collapsed": false,
    "ExecuteTime": {
     "end_time": "2023-10-04T07:46:48.123787641Z",
     "start_time": "2023-10-04T07:46:48.030513824Z"
    }
   },
   "outputs": [
    {
     "name": "stdout",
     "output_type": "stream",
     "text": [
      "Rows not matching the regex:\n",
      "Empty DataFrame\n",
      "Columns: [article_id, product_code, prod_name, product_type_no, product_type_name, product_group_name, graphical_appearance_no, graphical_appearance_name, colour_group_code, colour_group_name, perceived_colour_value_id, perceived_colour_value_name, perceived_colour_master_id, perceived_colour_master_name, department_no, department_name, index_code, index_name, index_group_no, index_group_name, section_no, section_name, garment_group_no, garment_group_name, detail_desc]\n",
      "Index: []\n",
      "\n",
      "[0 rows x 25 columns]\n",
      "All values for column article_id are unique\n",
      "Article_id has same length in all rows: True\n"
     ]
    }
   ],
   "source": [
    "utils.check_regex(articles, \"article_id\", \"^[0-9]{10}$\", unique=True)\n",
    "article_id_length = articles[articles['article_id'].astype(str).map(len) == len(articles['article_id'][0])]\n",
    "print(f\"Article_id has same length in all rows: {article_id_length.shape[0] == articles.shape[0]}\")"
   ]
  },
  {
   "cell_type": "code",
   "execution_count": 17,
   "outputs": [
    {
     "name": "stdout",
     "output_type": "stream",
     "text": [
      "Rows not matching the regex:\n",
      "Empty DataFrame\n",
      "Columns: [article_id, product_code, prod_name, product_type_no, product_type_name, product_group_name, graphical_appearance_no, graphical_appearance_name, colour_group_code, colour_group_name, perceived_colour_value_id, perceived_colour_value_name, perceived_colour_master_id, perceived_colour_master_name, department_no, department_name, index_code, index_name, index_group_no, index_group_name, section_no, section_name, garment_group_no, garment_group_name, detail_desc]\n",
      "Index: []\n",
      "\n",
      "[0 rows x 25 columns]\n",
      "Column product_code has non unique values\n",
      "Product_code has same length in all rows: True\n"
     ]
    }
   ],
   "source": [
    "utils.check_regex(articles, \"product_code\", \"^[0-9]{7}$\", unique=True)\n",
    "product_code_length = articles[articles['product_code'].astype(str).map(len) == len(articles['product_code'][0])]\n",
    "print(f\"Product_code has same length in all rows: {product_code_length.shape[0] == articles.shape[0]}\")"
   ],
   "metadata": {
    "collapsed": false,
    "ExecuteTime": {
     "end_time": "2023-10-04T07:46:48.164813130Z",
     "start_time": "2023-10-04T07:46:48.083803641Z"
    }
   }
  },
  {
   "cell_type": "code",
   "execution_count": 18,
   "metadata": {
    "collapsed": false,
    "ExecuteTime": {
     "end_time": "2023-10-04T07:46:49.333734635Z",
     "start_time": "2023-10-04T07:46:48.146682466Z"
    }
   },
   "outputs": [
    {
     "name": "stdout",
     "output_type": "stream",
     "text": [
      "Found 2176 inconsistencies from product_code to prod_name\n",
      "Found 3072 inconsistencies from prod_name to product_code\n",
      "No inconsistencies from product_type_no to product_type_name\n",
      "Found 1 inconsistencies from product_type_name to product_type_no\n",
      "No inconsistencies from graphical_appearance_no to graphical_appearance_name\n",
      "No inconsistencies from graphical_appearance_name to graphical_appearance_no\n",
      "No inconsistencies from colour_group_code to colour_group_name\n",
      "No inconsistencies from colour_group_name to colour_group_code\n",
      "No inconsistencies from perceived_colour_value_id to perceived_colour_value_name\n",
      "No inconsistencies from perceived_colour_value_name to perceived_colour_value_id\n",
      "No inconsistencies from perceived_colour_master_id to perceived_colour_master_name\n",
      "No inconsistencies from perceived_colour_master_name to perceived_colour_master_id\n",
      "No inconsistencies from department_no to department_name\n",
      "Found 22 inconsistencies from department_name to department_no\n",
      "No inconsistencies from index_code to index_name\n",
      "No inconsistencies from index_name to index_code\n",
      "No inconsistencies from index_group_no to index_group_name\n",
      "No inconsistencies from index_group_name to index_group_no\n",
      "No inconsistencies from section_no to section_name\n",
      "Found 1 inconsistencies from section_name to section_no\n",
      "No inconsistencies from garment_group_no to garment_group_name\n",
      "No inconsistencies from garment_group_name to garment_group_no\n",
      "No inconsistencies from product_type_no to product_group_name\n",
      "Found 15 inconsistencies from product_group_name to product_type_no\n",
      "No inconsistencies from index_code to index_group_no\n",
      "Found 2 inconsistencies from index_group_no to index_code\n"
     ]
    }
   ],
   "source": [
    "print_all = False\n",
    "utils.inconsistency(articles, 'product_code', 'prod_name', print_all)\n",
    "utils.inconsistency(articles, 'product_type_no', 'product_type_name', print_all)\n",
    "utils.inconsistency(articles, 'graphical_appearance_no', 'graphical_appearance_name', print_all)\n",
    "utils.inconsistency(articles, 'colour_group_code', 'colour_group_name', print_all)\n",
    "utils.inconsistency(articles, 'perceived_colour_value_id', 'perceived_colour_value_name', print_all)\n",
    "utils.inconsistency(articles, 'perceived_colour_master_id', 'perceived_colour_master_name', print_all)\n",
    "utils.inconsistency(articles, 'department_no', 'department_name', print_all)\n",
    "utils.inconsistency(articles, 'index_code', 'index_name', print_all)\n",
    "utils.inconsistency(articles, 'index_group_no', 'index_group_name', print_all)\n",
    "utils.inconsistency(articles, 'section_no', 'section_name', print_all)\n",
    "utils.inconsistency(articles, 'garment_group_no', 'garment_group_name', print_all)\n",
    "\n",
    "utils.inconsistency(articles, 'product_type_no', 'product_group_name', print_all)\n",
    "utils.inconsistency(articles, 'index_code', 'index_group_no', print_all)"
   ]
  },
  {
   "cell_type": "markdown",
   "metadata": {
    "collapsed": false
   },
   "source": [
    "# Transaction data"
   ]
  },
  {
   "cell_type": "code",
   "execution_count": 19,
   "metadata": {
    "collapsed": false,
    "ExecuteTime": {
     "end_time": "2023-10-04T07:46:49.377427640Z",
     "start_time": "2023-10-04T07:46:49.335844907Z"
    }
   },
   "outputs": [
    {
     "data": {
      "text/plain": "       t_dat                                        customer_id  article_id  \\\n0 2018-09-20  000058a12d5b43e67d225668fa1f8d618c13dc232df0ca...  0663713001   \n1 2018-09-20  000058a12d5b43e67d225668fa1f8d618c13dc232df0ca...  0541518023   \n2 2018-09-20  00007d2de826758b65a93dd24ce629ed66842531df6699...  0505221004   \n3 2018-09-20  00007d2de826758b65a93dd24ce629ed66842531df6699...  0685687003   \n4 2018-09-20  00007d2de826758b65a93dd24ce629ed66842531df6699...  0685687004   \n\n      price  sales_channel_id  \n0  0.050831                 2  \n1  0.030492                 2  \n2  0.015237                 2  \n3  0.016932                 2  \n4  0.016932                 2  ",
      "text/html": "<div>\n<style scoped>\n    .dataframe tbody tr th:only-of-type {\n        vertical-align: middle;\n    }\n\n    .dataframe tbody tr th {\n        vertical-align: top;\n    }\n\n    .dataframe thead th {\n        text-align: right;\n    }\n</style>\n<table border=\"1\" class=\"dataframe\">\n  <thead>\n    <tr style=\"text-align: right;\">\n      <th></th>\n      <th>t_dat</th>\n      <th>customer_id</th>\n      <th>article_id</th>\n      <th>price</th>\n      <th>sales_channel_id</th>\n    </tr>\n  </thead>\n  <tbody>\n    <tr>\n      <th>0</th>\n      <td>2018-09-20</td>\n      <td>000058a12d5b43e67d225668fa1f8d618c13dc232df0ca...</td>\n      <td>0663713001</td>\n      <td>0.050831</td>\n      <td>2</td>\n    </tr>\n    <tr>\n      <th>1</th>\n      <td>2018-09-20</td>\n      <td>000058a12d5b43e67d225668fa1f8d618c13dc232df0ca...</td>\n      <td>0541518023</td>\n      <td>0.030492</td>\n      <td>2</td>\n    </tr>\n    <tr>\n      <th>2</th>\n      <td>2018-09-20</td>\n      <td>00007d2de826758b65a93dd24ce629ed66842531df6699...</td>\n      <td>0505221004</td>\n      <td>0.015237</td>\n      <td>2</td>\n    </tr>\n    <tr>\n      <th>3</th>\n      <td>2018-09-20</td>\n      <td>00007d2de826758b65a93dd24ce629ed66842531df6699...</td>\n      <td>0685687003</td>\n      <td>0.016932</td>\n      <td>2</td>\n    </tr>\n    <tr>\n      <th>4</th>\n      <td>2018-09-20</td>\n      <td>00007d2de826758b65a93dd24ce629ed66842531df6699...</td>\n      <td>0685687004</td>\n      <td>0.016932</td>\n      <td>2</td>\n    </tr>\n  </tbody>\n</table>\n</div>"
     },
     "execution_count": 19,
     "metadata": {},
     "output_type": "execute_result"
    }
   ],
   "source": [
    "transactions_train.head()"
   ]
  },
  {
   "cell_type": "code",
   "execution_count": 20,
   "metadata": {
    "collapsed": false,
    "ExecuteTime": {
     "end_time": "2023-10-04T07:46:50.807499267Z",
     "start_time": "2023-10-04T07:46:49.376484997Z"
    }
   },
   "outputs": [
    {
     "data": {
      "text/plain": "                               t_dat         price  sales_channel_id\ncount                       31788324  3.178832e+07      3.178832e+07\nmean   2019-09-15 17:27:46.894452992  2.782927e-02      1.704028e+00\nmin              2018-09-20 00:00:00  1.694915e-05      1.000000e+00\n25%              2019-03-28 00:00:00  1.581356e-02      1.000000e+00\n50%              2019-08-25 00:00:00  2.540678e-02      2.000000e+00\n75%              2020-03-29 00:00:00  3.388136e-02      2.000000e+00\nmax              2020-09-22 00:00:00  5.915254e-01      2.000000e+00\nstd                              NaN  1.918113e-02      4.564786e-01",
      "text/html": "<div>\n<style scoped>\n    .dataframe tbody tr th:only-of-type {\n        vertical-align: middle;\n    }\n\n    .dataframe tbody tr th {\n        vertical-align: top;\n    }\n\n    .dataframe thead th {\n        text-align: right;\n    }\n</style>\n<table border=\"1\" class=\"dataframe\">\n  <thead>\n    <tr style=\"text-align: right;\">\n      <th></th>\n      <th>t_dat</th>\n      <th>price</th>\n      <th>sales_channel_id</th>\n    </tr>\n  </thead>\n  <tbody>\n    <tr>\n      <th>count</th>\n      <td>31788324</td>\n      <td>3.178832e+07</td>\n      <td>3.178832e+07</td>\n    </tr>\n    <tr>\n      <th>mean</th>\n      <td>2019-09-15 17:27:46.894452992</td>\n      <td>2.782927e-02</td>\n      <td>1.704028e+00</td>\n    </tr>\n    <tr>\n      <th>min</th>\n      <td>2018-09-20 00:00:00</td>\n      <td>1.694915e-05</td>\n      <td>1.000000e+00</td>\n    </tr>\n    <tr>\n      <th>25%</th>\n      <td>2019-03-28 00:00:00</td>\n      <td>1.581356e-02</td>\n      <td>1.000000e+00</td>\n    </tr>\n    <tr>\n      <th>50%</th>\n      <td>2019-08-25 00:00:00</td>\n      <td>2.540678e-02</td>\n      <td>2.000000e+00</td>\n    </tr>\n    <tr>\n      <th>75%</th>\n      <td>2020-03-29 00:00:00</td>\n      <td>3.388136e-02</td>\n      <td>2.000000e+00</td>\n    </tr>\n    <tr>\n      <th>max</th>\n      <td>2020-09-22 00:00:00</td>\n      <td>5.915254e-01</td>\n      <td>2.000000e+00</td>\n    </tr>\n    <tr>\n      <th>std</th>\n      <td>NaN</td>\n      <td>1.918113e-02</td>\n      <td>4.564786e-01</td>\n    </tr>\n  </tbody>\n</table>\n</div>"
     },
     "execution_count": 20,
     "metadata": {},
     "output_type": "execute_result"
    }
   ],
   "source": [
    "transactions_train.describe()"
   ]
  },
  {
   "cell_type": "code",
   "execution_count": 21,
   "metadata": {
    "collapsed": false,
    "ExecuteTime": {
     "end_time": "2023-10-04T07:46:51.810317066Z",
     "start_time": "2023-10-04T07:46:50.805993008Z"
    }
   },
   "outputs": [
    {
     "data": {
      "text/plain": "t_dat               0.0\ncustomer_id         0.0\narticle_id          0.0\nprice               0.0\nsales_channel_id    0.0\ndtype: float64"
     },
     "execution_count": 21,
     "metadata": {},
     "output_type": "execute_result"
    }
   ],
   "source": [
    "transactions_train.isna().sum() / transactions_train.shape[0] * 100"
   ]
  },
  {
   "cell_type": "code",
   "execution_count": 22,
   "metadata": {
    "collapsed": false,
    "ExecuteTime": {
     "end_time": "2023-10-04T07:46:52.438232652Z",
     "start_time": "2023-10-04T07:46:51.807742206Z"
    }
   },
   "outputs": [
    {
     "data": {
      "text/plain": "count    3.178832e+07\nmean     2.782927e-02\nstd      1.918113e-02\nmin      1.694915e-05\n25%      1.581356e-02\n50%      2.540678e-02\n75%      3.388136e-02\nmax      5.915254e-01\nName: price, dtype: float64"
     },
     "execution_count": 22,
     "metadata": {},
     "output_type": "execute_result"
    }
   ],
   "source": [
    "transactions_train[\"price\"].describe()"
   ]
  },
  {
   "cell_type": "code",
   "execution_count": 23,
   "metadata": {
    "collapsed": false,
    "ExecuteTime": {
     "end_time": "2023-10-04T07:47:00.335558064Z",
     "start_time": "2023-10-04T07:46:52.438654219Z"
    }
   },
   "outputs": [
    {
     "data": {
      "text/plain": "<Axes: xlabel='price', ylabel='Count'>"
     },
     "execution_count": 23,
     "metadata": {},
     "output_type": "execute_result"
    },
    {
     "data": {
      "text/plain": "<Figure size 640x480 with 1 Axes>",
      "image/png": "[encoded data removed]"
     },
     "metadata": {},
     "output_type": "display_data"
    }
   ],
   "source": [
    "sns.histplot(transactions_train[\"price\"], bins=100)"
   ]
  },
  {
   "cell_type": "markdown",
   "metadata": {
    "collapsed": false
   },
   "source": []
  },
  {
   "cell_type": "code",
   "execution_count": 24,
   "metadata": {
    "collapsed": false,
    "ExecuteTime": {
     "end_time": "2023-10-04T07:47:00.436385808Z",
     "start_time": "2023-10-04T07:47:00.433685200Z"
    }
   },
   "outputs": [
    {
     "data": {
      "text/plain": "sales_channel_id\n2    22379862\n1     9408462\nName: count, dtype: int64"
     },
     "execution_count": 24,
     "metadata": {},
     "output_type": "execute_result"
    }
   ],
   "source": [
    "transactions_train[\"sales_channel_id\"].value_counts()"
   ]
  },
  {
   "cell_type": "code",
   "execution_count": 25,
   "metadata": {
    "collapsed": false,
    "ExecuteTime": {
     "end_time": "2023-10-04T07:47:05.637462343Z",
     "start_time": "2023-10-04T07:47:00.435672569Z"
    }
   },
   "outputs": [
    {
     "name": "stdout",
     "output_type": "stream",
     "text": [
      "                                               customer_id   FN  Active  \\\n",
      "131      00058ecf091cea1bba9d800cabac6ed1ae284202cdab68...  NaN     NaN   \n",
      "297      000df4d2084d142416b8165bdd249bab8fea2393447aed...  1.0     1.0   \n",
      "544      00193ff7f374dbcfecfa7fead0488e454be4918bec1ebd...  NaN     NaN   \n",
      "671      001f00e8c1eba437ff0dbad26a9a3d49e47cbf05fff02a...  1.0     1.0   \n",
      "809      002648d8f3b288531b24860f4a68a31d029ec5a0495c04...  1.0     1.0   \n",
      "...                                                    ...  ...     ...   \n",
      "1371440  ffe5801cb2a5b51d4d068322d7f8082e995f427a6f22a6...  NaN     NaN   \n",
      "1371554  ffeb3ca867aba57a312fe9d28d67dd46ef2240fe92a94c...  1.0     1.0   \n",
      "1371739  fff456fa60aac9174456c2f36ede5e0f25429a16c88a34...  NaN     NaN   \n",
      "1371872  fffa8d3cea26d4f5186472b923629b35fa28051f258030...  1.0     1.0   \n",
      "1371961  ffff01710b4f0d558ff62d7dc00f0641065b37e840bb43...  1.0     1.0   \n",
      "\n",
      "        club_member_status fashion_news_frequency   age  \\\n",
      "131                 ACTIVE                   NONE  21.0   \n",
      "297                 ACTIVE              Regularly  22.0   \n",
      "544                 ACTIVE                   NONE  28.0   \n",
      "671                 ACTIVE              Regularly  27.0   \n",
      "809                 ACTIVE              Regularly  41.0   \n",
      "...                    ...                    ...   ...   \n",
      "1371440             ACTIVE                   NONE  55.0   \n",
      "1371554             ACTIVE              Regularly  21.0   \n",
      "1371739         PRE-CREATE                   NONE  40.0   \n",
      "1371872             ACTIVE              Regularly  21.0   \n",
      "1371961             ACTIVE              Regularly  18.0   \n",
      "\n",
      "                                               postal_code  InDf2  \n",
      "131      1e40bebdc7cbfcb0f0ee995f5e0db13428430874a75c4b...      0  \n",
      "297      2c29ae653a9282cce4151bd87643c907644e09541abc28...      0  \n",
      "544      0e78861d5ef1caf30cd0c4935cff27657c069c1f2fd2ba...      0  \n",
      "671      d61345e04372ca317ac03dc220889f26a99b4eb20fbf60...      0  \n",
      "809      4812c1daacee854264500f67aef71d1e713dca9b4755d7...      0  \n",
      "...                                                    ...    ...  \n",
      "1371440  5b8b142d4bb9e28c0d2fc8f87ca22337469f21e7eeb428...      0  \n",
      "1371554  666ea034757d9ac0873fa8f213d7ea359312936e004e99...      0  \n",
      "1371739  efb648f93b15fd00f8a0067791bd47655f6577902b21fc...      0  \n",
      "1371872  c5641c33d0f01f66e69356fdc8ccb3012b14b1f51a90d0...      0  \n",
      "1371961  fac16a7bf6ad863c32009166cf834aab744af6caaee552...      0  \n",
      "\n",
      "[9699 rows x 8 columns]\n",
      "Empty DataFrame\n",
      "Columns: [t_dat, customer_id, article_id, price, sales_channel_id, InDf2]\n",
      "Index: []\n"
     ]
    }
   ],
   "source": [
    "utils.AinB(customers, \"customer_id\", transactions_train, \"customer_id\")"
   ]
  },
  {
   "cell_type": "code",
   "execution_count": 26,
   "metadata": {
    "collapsed": false,
    "ExecuteTime": {
     "end_time": "2023-10-04T07:47:07.783521356Z",
     "start_time": "2023-10-04T07:47:06.511118154Z"
    }
   },
   "outputs": [
    {
     "name": "stdout",
     "output_type": "stream",
     "text": [
      "        article_id product_code                 prod_name  product_type_no  \\\n",
      "159     0187949032      0187949             Padded pyjama              295   \n",
      "718     0288859020      0288859    Kakan 2-p cableknit BG              304   \n",
      "2106    0395730045      0395730        VIOLA 2-pack (TVP)              257   \n",
      "2708    0423900056      0423900  Gullan 5-p ankle sock SG              302   \n",
      "3682    0462435036      0462435           6P Tanktop Body              256   \n",
      "...            ...          ...                       ...              ...   \n",
      "105529  0949323002      0949323       Flintstone cardigan              245   \n",
      "105533  0950449002      0950449       Compact brush Fancy               78   \n",
      "105535  0952937003      0952937                Jets dress              265   \n",
      "105540  0957375001      0957375          CLAIRE HAIR CLAW               72   \n",
      "105541  0959461001      0959461              Lounge dress              265   \n",
      "\n",
      "               product_type_name  product_group_name  graphical_appearance_no  \\\n",
      "159     Pyjama jumpsuit/playsuit           Nightwear                  1010001   \n",
      "718             Underwear Tights      Socks & Tights                  1010016   \n",
      "2106                  Polo shirt  Garment Upper body                  1010001   \n",
      "2708                       Socks      Socks & Tights                  1010013   \n",
      "3682                    Bodysuit  Garment Upper body                  1010016   \n",
      "...                          ...                 ...                      ...   \n",
      "105529                  Cardigan  Garment Upper body                  1010016   \n",
      "105533         Other accessories         Accessories                  1010016   \n",
      "105535                     Dress   Garment Full body                  1010001   \n",
      "105540                 Hair clip         Accessories                  1010016   \n",
      "105541                     Dress   Garment Full body                  1010016   \n",
      "\n",
      "       graphical_appearance_name  colour_group_code colour_group_name  ...  \\\n",
      "159             All over pattern                 81   Light Turquoise  ...   \n",
      "718                        Solid                  7              Grey  ...   \n",
      "2106            All over pattern                 51        Light Pink  ...   \n",
      "2708               Other pattern                 52              Pink  ...   \n",
      "3682                       Solid                 17   Yellowish Brown  ...   \n",
      "...                          ...                ...               ...  ...   \n",
      "105529                     Solid                  9             Black  ...   \n",
      "105533                     Solid                 50        Other Pink  ...   \n",
      "105535          All over pattern                 13             Beige  ...   \n",
      "105540                     Solid                  9             Black  ...   \n",
      "105541                     Solid                 11         Off White  ...   \n",
      "\n",
      "        index_code                      index_name  index_group_no  \\\n",
      "159              G                Baby Sizes 50-98               4   \n",
      "718              I          Children Sizes 134-170               4   \n",
      "2106             H           Children Sizes 92-140               4   \n",
      "2708             H           Children Sizes 92-140               4   \n",
      "3682             G                Baby Sizes 50-98               4   \n",
      "...            ...                             ...             ...   \n",
      "105529           A                      Ladieswear               1   \n",
      "105533           J  Children Accessories, Swimwear               4   \n",
      "105535           A                      Ladieswear               1   \n",
      "105540           D                         Divided               2   \n",
      "105541           A                      Ladieswear               1   \n",
      "\n",
      "       index_group_name  section_no                    section_name  \\\n",
      "159       Baby/Children          44   Baby Essentials & Complements   \n",
      "718       Baby/Children          79        Girls Underwear & Basics   \n",
      "2106      Baby/Children          79        Girls Underwear & Basics   \n",
      "2708      Baby/Children          79        Girls Underwear & Basics   \n",
      "3682      Baby/Children          44   Baby Essentials & Complements   \n",
      "...                 ...         ...                             ...   \n",
      "105529       Ladieswear          18                    Womens Trend   \n",
      "105533    Baby/Children          43  Kids Accessories, Swimwear & D   \n",
      "105535       Ladieswear          18                    Womens Trend   \n",
      "105540          Divided          52             Divided Accessories   \n",
      "105541       Ladieswear          18                    Womens Trend   \n",
      "\n",
      "       garment_group_no garment_group_name  \\\n",
      "159                1017  Under-, Nightwear   \n",
      "718                1021   Socks and Tights   \n",
      "2106               1002       Jersey Basic   \n",
      "2708               1021   Socks and Tights   \n",
      "3682               1002       Jersey Basic   \n",
      "...                 ...                ...   \n",
      "105529             1003           Knitwear   \n",
      "105533             1019        Accessories   \n",
      "105535             1005       Jersey Fancy   \n",
      "105540             1019        Accessories   \n",
      "105541             1005       Jersey Fancy   \n",
      "\n",
      "                                              detail_desc InDf2  \n",
      "159     Lightly padded all-in-one pyjamas in soft cott...     0  \n",
      "718     Tights in a soft, cable-knit cotton blend with...     0  \n",
      "2106    Long-sleeved, polo-neck tops in organic cotton...     0  \n",
      "2708    Jacquard-knit socks in various colours and des...     0  \n",
      "3682    Sleeveless bodysuits in soft organic cotton je...     0  \n",
      "...                                                   ...   ...  \n",
      "105529  Calf-length cardigan knitted in a soft wool bl...     0  \n",
      "105533  Small, folding hair brush with a rhinestone-de...     0  \n",
      "105535  Fitted, calf-length dress in viscose jersey wi...     0  \n",
      "105540                           Large plastic hair claw.     0  \n",
      "105541  Calf-length dress in ribbed jersey made from a...     0  \n",
      "\n",
      "[995 rows x 26 columns]\n",
      "Empty DataFrame\n",
      "Columns: [t_dat, customer_id, article_id, price, sales_channel_id, InDf2]\n",
      "Index: []\n"
     ]
    }
   ],
   "source": [
    "utils.AinB(articles, \"article_id\", transactions_train, \"article_id\")"
   ]
  },
  {
   "cell_type": "code",
   "execution_count": 27,
   "metadata": {
    "collapsed": false,
    "ExecuteTime": {
     "end_time": "2023-10-04T07:48:21.074566786Z",
     "start_time": "2023-10-04T07:47:07.783906705Z"
    }
   },
   "outputs": [
    {
     "data": {
      "text/plain": "<Figure size 640x480 with 1 Axes>",
      "image/png": "[encoded data removed]"
     },
     "metadata": {},
     "output_type": "display_data"
    }
   ],
   "source": [
    "ax = sns.countplot(x=transactions_train.sort_values(\"t_dat\")[\"t_dat\"].dt.strftime('%Y-%m'))\n",
    "ax.tick_params(axis='x', rotation=45)\n",
    "ax.set_xlabel('')\n",
    "plt.tight_layout()\n",
    "plt.show()"
   ]
  },
  {
   "cell_type": "code",
   "execution_count": 28,
   "outputs": [
    {
     "data": {
      "text/plain": "<Figure size 640x480 with 1 Axes>",
      "image/png": "[encoded data removed]"
     },
     "metadata": {},
     "output_type": "display_data"
    }
   ],
   "source": [
    "transaction_online = transactions_train[transactions_train[\"sales_channel_id\"] == 1]\n",
    "ax = sns.countplot(x=transaction_online.sort_values(\"t_dat\")[\"t_dat\"].dt.strftime('%Y-%m'))\n",
    "ax.tick_params(axis='x', rotation=45)\n",
    "ax.set_xlabel('')\n",
    "plt.tight_layout()\n",
    "plt.show()"
   ],
   "metadata": {
    "collapsed": false,
    "ExecuteTime": {
     "end_time": "2023-10-04T07:48:41.779472819Z",
     "start_time": "2023-10-04T07:48:21.046423746Z"
    }
   }
  },
  {
   "cell_type": "code",
   "execution_count": 29,
   "outputs": [
    {
     "data": {
      "text/plain": "<Figure size 640x480 with 1 Axes>",
      "image/png": "[encoded data removed]"
     },
     "metadata": {},
     "output_type": "display_data"
    }
   ],
   "source": [
    "transaction_store = transactions_train[transactions_train[\"sales_channel_id\"] == 2]\n",
    "ax = sns.countplot(x=transaction_store.sort_values(\"t_dat\")[\"t_dat\"].dt.strftime('%Y-%m'))\n",
    "ax.tick_params(axis='x', rotation=45)\n",
    "ax.set_xlabel('')\n",
    "plt.tight_layout()\n",
    "plt.show()"
   ],
   "metadata": {
    "collapsed": false,
    "ExecuteTime": {
     "end_time": "2023-10-04T07:49:33.284073258Z",
     "start_time": "2023-10-04T07:48:41.752341141Z"
    }
   }
  },
  {
   "cell_type": "code",
   "execution_count": 30,
   "metadata": {
    "collapsed": false,
    "ExecuteTime": {
     "end_time": "2023-10-04T07:49:51.118589344Z",
     "start_time": "2023-10-04T07:49:33.337066211Z"
    }
   },
   "outputs": [
    {
     "name": "stdout",
     "output_type": "stream",
     "text": [
      "No columns with nan values\n",
      "Empty DataFrame\n",
      "Columns: [customer_id, prediction, InDf2]\n",
      "Index: []\n",
      "Empty DataFrame\n",
      "Columns: [customer_id, FN, Active, club_member_status, fashion_news_frequency, age, postal_code, InDf2]\n",
      "Index: []\n",
      "All are 12 items: True\n",
      "['0108775015' '0108775044' '0108775051' ... '0956217002' '0957375001'\n",
      " '0959461001']\n"
     ]
    }
   ],
   "source": [
    "utils.verify_submission(sample_submission, customers, articles)"
   ]
  },
  {
   "cell_type": "code",
   "execution_count": 30,
   "metadata": {
    "collapsed": false,
    "ExecuteTime": {
     "end_time": "2023-10-04T07:49:51.120631633Z",
     "start_time": "2023-10-04T07:49:51.118768735Z"
    }
   },
   "outputs": [],
   "source": []
  },
  {
   "cell_type": "code",
   "execution_count": 30,
   "metadata": {
    "collapsed": false,
    "ExecuteTime": {
     "end_time": "2023-10-04T07:49:51.121113268Z",
     "start_time": "2023-10-04T07:49:51.119901537Z"
    }
   },
   "outputs": [],
   "source": []
  }
 ],
 "metadata": {
  "kernelspec": {
   "display_name": "Python 3 (ipykernel)",
   "language": "python",
   "name": "python3"
  },
  "language_info": {
   "codemirror_mode": {
    "name": "ipython",
    "version": 3
   },
   "file_extension": ".py",
   "mimetype": "text/x-python",
   "name": "python",
   "nbconvert_exporter": "python",
   "pygments_lexer": "ipython3",
   "version": "3.11.5"
  }
 },
 "nbformat": 4,
 "nbformat_minor": 4
}
