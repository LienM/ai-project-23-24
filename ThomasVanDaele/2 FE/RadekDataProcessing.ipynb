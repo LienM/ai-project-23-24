{
 "cells": [
  {
   "cell_type": "markdown",
   "id": "54958734-c6aa-4fde-aff6-b8fb8300ed57",
   "metadata": {},
   "source": [
    "Based on https://github.com/radekosmulski/personalized_fashion_recs/blob/main/01_Solution_warmup.ipynb"
   ]
  },
  {
   "cell_type": "code",
   "execution_count": 1,
   "id": "ce54f6d4-749c-4e44-89d1-eeb1254d996b",
   "metadata": {
    "ExecuteTime": {
     "end_time": "2023-12-18T21:16:08.631024372Z",
     "start_time": "2023-12-18T21:16:07.386498402Z"
    }
   },
   "outputs": [],
   "source": [
    "from sklearn.base import BaseEstimator, TransformerMixin\n",
    "import numpy as np\n",
    "import pandas as pd"
   ]
  },
  {
   "cell_type": "code",
   "execution_count": 2,
   "id": "0a1d3c58-4bb5-424f-85b9-5e1c3a0902db",
   "metadata": {
    "ExecuteTime": {
     "end_time": "2023-12-18T21:16:08.633176826Z",
     "start_time": "2023-12-18T21:16:08.605286964Z"
    }
   },
   "outputs": [],
   "source": [
    "# helper functions\n",
    "\n",
    "# https://www.kaggle.com/c/h-and-m-personalized-fashion-recommendations/discussion/308635\n",
    "def customer_hex_id_to_int(series):\n",
    "    return series.str[-16:].apply(hex_id_to_int)\n",
    "\n",
    "def hex_id_to_int(str):\n",
    "    return int(str[-16:], 16)\n",
    "\n",
    "def article_id_str_to_int(series):\n",
    "    return series.astype('int32')\n",
    "\n",
    "def article_id_int_to_str(series):\n",
    "    return '0' + series.astype('str')\n",
    "\n",
    "class Categorize(BaseEstimator, TransformerMixin):\n",
    "    def __init__(self, min_examples=0):\n",
    "        self.min_examples = min_examples\n",
    "        self.categories = []\n",
    "        \n",
    "    def fit(self, X):\n",
    "        for i in range(X.shape[1]):\n",
    "            vc = X.iloc[:, i].value_counts()\n",
    "            self.categories.append(vc[vc > self.min_examples].index.tolist())\n",
    "        return self\n",
    "\n",
    "    def transform(self, X):\n",
    "        data = {X.columns[i]: pd.Categorical(X.iloc[:, i], categories=self.categories[i]).codes for i in range(X.shape[1])}\n",
    "        return pd.DataFrame(data=data)"
   ]
  },
  {
   "cell_type": "code",
   "execution_count": 3,
   "id": "e89a459e-a73a-40f4-a236-6d3932e57c53",
   "metadata": {
    "ExecuteTime": {
     "end_time": "2023-12-18T21:16:28.903567865Z",
     "start_time": "2023-12-18T21:16:08.608654869Z"
    }
   },
   "outputs": [
    {
     "name": "stdout",
     "output_type": "stream",
     "text": [
      "CPU times: user 16.5 s, sys: 2.76 s, total: 19.3 s\n",
      "Wall time: 20.3 s\n"
     ]
    }
   ],
   "source": [
    "%%time\n",
    "\n",
    "BASE_PATH = '../data/'\n",
    "\n",
    "transactions = pd.read_csv(BASE_PATH + 'csv/transactions_train.csv', dtype={'customer_id': str, 'article_id': str})\n",
    "customers = pd.read_csv(BASE_PATH + 'csv/customers.csv', dtype={'customer_id': str, 'postal_code': str})\n",
    "articles = pd.read_csv(BASE_PATH + 'csv/articles.csv', dtype={'article_id': str, 'product_code': str})"
   ]
  },
  {
   "cell_type": "code",
   "execution_count": 4,
   "outputs": [
    {
     "name": "stdout",
     "output_type": "stream",
     "text": [
      "<class 'pandas.core.frame.DataFrame'>\n",
      "RangeIndex: 31788324 entries, 0 to 31788323\n",
      "Data columns (total 5 columns):\n",
      " #   Column            Dtype  \n",
      "---  ------            -----  \n",
      " 0   t_dat             object \n",
      " 1   customer_id       object \n",
      " 2   article_id        object \n",
      " 3   price             float64\n",
      " 4   sales_channel_id  int64  \n",
      "dtypes: float64(1), int64(1), object(3)\n",
      "memory usage: 8.0 GB\n",
      "Index                      132\n",
      "t_dat               2129817708\n",
      "customer_id         3846387204\n",
      "article_id          2129817708\n",
      "price                254306592\n",
      "sales_channel_id     254306592\n",
      "dtype: int64 None\n"
     ]
    }
   ],
   "source": [
    "print(transactions.memory_usage(deep=True), transactions.info(memory_usage='deep'))"
   ],
   "metadata": {
    "collapsed": false,
    "ExecuteTime": {
     "end_time": "2023-12-18T21:16:41.569736661Z",
     "start_time": "2023-12-18T21:16:41.528661539Z"
    }
   },
   "id": "7ed55ce5f6b548e0"
  },
  {
   "cell_type": "code",
   "execution_count": 5,
   "outputs": [
    {
     "data": {
      "text/plain": "1362281"
     },
     "execution_count": 5,
     "metadata": {},
     "output_type": "execute_result"
    }
   ],
   "source": [
    "transactions['customer_id'].nunique()"
   ],
   "metadata": {
    "collapsed": false,
    "ExecuteTime": {
     "end_time": "2023-12-18T21:16:44.861586093Z",
     "start_time": "2023-12-18T21:16:41.930312934Z"
    }
   },
   "id": "2c76829ca8c23960"
  },
  {
   "cell_type": "code",
   "execution_count": 6,
   "outputs": [
    {
     "data": {
      "text/plain": "1362281"
     },
     "execution_count": 6,
     "metadata": {},
     "output_type": "execute_result"
    }
   ],
   "source": [
    "transactions['customer_id'] = customer_hex_id_to_int(transactions['customer_id'])\n",
    "transactions['customer_id'].nunique()"
   ],
   "metadata": {
    "collapsed": false,
    "ExecuteTime": {
     "end_time": "2023-12-18T21:16:54.911316197Z",
     "start_time": "2023-12-18T21:16:45.483866716Z"
    }
   },
   "id": "444178a55a74d693"
  },
  {
   "cell_type": "code",
   "execution_count": 7,
   "outputs": [],
   "source": [
    "transactions.t_dat = pd.to_datetime(transactions.t_dat, format='%Y-%m-%d')\n",
    "transactions['week'] = 104 - (transactions.t_dat.max() - transactions.t_dat).dt.days // 7"
   ],
   "metadata": {
    "collapsed": false,
    "ExecuteTime": {
     "end_time": "2023-12-18T21:20:54.943201643Z",
     "start_time": "2023-12-18T21:20:53.769558869Z"
    }
   },
   "id": "f54a911b6ef09b9e"
  },
  {
   "cell_type": "code",
   "execution_count": 8,
   "outputs": [],
   "source": [
    "transactions.article_id = article_id_str_to_int(transactions.article_id)\n",
    "articles.article_id = article_id_str_to_int(articles.article_id)\n",
    "\n",
    "transactions.week = transactions.week.astype('int8')\n",
    "transactions.sales_channel_id = transactions.sales_channel_id.astype('int8')\n",
    "transactions.price = transactions.price.astype('float32')"
   ],
   "metadata": {
    "collapsed": false,
    "ExecuteTime": {
     "end_time": "2023-12-18T21:20:56.420659998Z",
     "start_time": "2023-12-18T21:20:55.955994745Z"
    }
   },
   "id": "61cad8576d790ba"
  },
  {
   "cell_type": "code",
   "execution_count": 9,
   "outputs": [],
   "source": [
    "customers.customer_id = customer_hex_id_to_int(customers.customer_id)\n",
    "for col in ['FN', 'Active', 'age']:\n",
    "    customers[col].fillna(-1, inplace=True)\n",
    "    customers[col] = customers[col].astype('int8')"
   ],
   "metadata": {
    "collapsed": false,
    "ExecuteTime": {
     "end_time": "2023-12-18T21:20:56.810950197Z",
     "start_time": "2023-12-18T21:20:56.457235642Z"
    }
   },
   "id": "cedb50420d442cb2"
  },
  {
   "cell_type": "code",
   "execution_count": 10,
   "outputs": [],
   "source": [
    "customers.club_member_status = Categorize().fit_transform(customers[['club_member_status']]).club_member_status\n",
    "customers.postal_code = Categorize().fit_transform(customers[['postal_code']]).postal_code\n",
    "customers.fashion_news_frequency = Categorize().fit_transform(customers[['fashion_news_frequency']]).fashion_news_frequency"
   ],
   "metadata": {
    "collapsed": false,
    "ExecuteTime": {
     "end_time": "2023-12-18T21:20:57.485961243Z",
     "start_time": "2023-12-18T21:20:56.811226470Z"
    }
   },
   "id": "8ab95d72482cd8f6"
  },
  {
   "cell_type": "code",
   "execution_count": 11,
   "outputs": [],
   "source": [
    "for col in articles.columns:\n",
    "    if articles[col].dtype == 'object':\n",
    "        articles[col] = Categorize().fit_transform(articles[[col]])[col]\n",
    "    if articles[col].dtype == 'int64':\n",
    "        articles[col] = articles[col].astype('int32')"
   ],
   "metadata": {
    "collapsed": false,
    "ExecuteTime": {
     "end_time": "2023-12-18T21:20:57.591488315Z",
     "start_time": "2023-12-18T21:20:57.486938583Z"
    }
   },
   "id": "196ad5696c84ab46"
  },
  {
   "cell_type": "code",
   "execution_count": 12,
   "outputs": [],
   "source": [
    "transactions.sort_values(['t_dat', 'customer_id'], inplace=True)"
   ],
   "metadata": {
    "collapsed": false,
    "ExecuteTime": {
     "end_time": "2023-12-18T21:21:01.186251729Z",
     "start_time": "2023-12-18T21:20:57.589162512Z"
    }
   },
   "id": "9fa5337c4d24d74"
  },
  {
   "cell_type": "code",
   "execution_count": 15,
   "id": "399d9a82-2c1b-4fa8-af3b-38091835f5f3",
   "metadata": {
    "ExecuteTime": {
     "end_time": "2023-12-18T21:22:41.574896224Z",
     "start_time": "2023-12-18T21:22:37.486606878Z"
    }
   },
   "outputs": [
    {
     "name": "stdout",
     "output_type": "stream",
     "text": [
      "CPU times: user 3.35 s, sys: 725 ms, total: 4.08 s\n",
      "Wall time: 4.09 s\n"
     ]
    }
   ],
   "source": [
    "%%time\n",
    "\n",
    "transactions.to_parquet(BASE_PATH + 'parquet/transactions_train.parquet')\n",
    "customers.to_parquet(BASE_PATH + 'parquet/customers.parquet')\n",
    "articles.to_parquet(BASE_PATH + 'parquet/articles.parquet')\n",
    "\n",
    "# let's create a 5% sample of all the data to speed up dev\n",
    "sample = 0.05\n",
    "customers_sample = customers.sample(frac=sample, replace=False)\n",
    "customers_sample_ids = set(customers_sample['customer_id'])\n",
    "transactions_sample = transactions[transactions[\"customer_id\"].isin(customers_sample_ids)]\n",
    "articles_sample_ids = set(transactions_sample[\"article_id\"])\n",
    "articles_sample = articles[articles[\"article_id\"].isin(articles_sample_ids)]\n",
    "\n",
    "customers_sample.to_parquet(BASE_PATH + f'parquet/customers_sample_{sample}.parquet', index=False)\n",
    "transactions_sample.to_parquet(BASE_PATH + f'parquet/transactions_train_sample_{sample}.parquet', index=False)\n",
    "articles_sample.to_parquet(BASE_PATH + f'parquet/articles_train_sample_{sample}.parquet', index=False)"
   ]
  },
  {
   "cell_type": "code",
   "execution_count": 18,
   "outputs": [
    {
     "name": "stdout",
     "output_type": "stream",
     "text": [
      "<class 'pandas.core.frame.DataFrame'>\n",
      "Index: 31788324 entries, 25784 to 31780475\n",
      "Data columns (total 6 columns):\n",
      " #   Column            Dtype         \n",
      "---  ------            -----         \n",
      " 0   t_dat             datetime64[ns]\n",
      " 1   customer_id       uint64        \n",
      " 2   article_id        int32         \n",
      " 3   price             float32       \n",
      " 4   sales_channel_id  int8          \n",
      " 5   week              int8          \n",
      "dtypes: datetime64[ns](1), float32(1), int32(1), int8(2), uint64(1)\n",
      "memory usage: 1.0 GB\n",
      "Index               254306592\n",
      "t_dat               254306592\n",
      "customer_id         254306592\n",
      "article_id          127153296\n",
      "price               127153296\n",
      "sales_channel_id     31788324\n",
      "week                 31788324\n",
      "dtype: int64 None\n"
     ]
    }
   ],
   "source": [
    "# memory usage is a lot lower\n",
    "print(transactions.memory_usage(deep=True), transactions.info(memory_usage='deep'))"
   ],
   "metadata": {
    "collapsed": false,
    "ExecuteTime": {
     "end_time": "2023-12-18T21:24:11.150454902Z",
     "start_time": "2023-12-18T21:24:11.144076979Z"
    }
   },
   "id": "07496496-291d-4053-ab8c-2c5c74338064"
  },
  {
   "cell_type": "code",
   "execution_count": null,
   "outputs": [],
   "source": [],
   "metadata": {
    "collapsed": false
   },
   "id": "cd25601e7fd93145"
  }
 ],
 "metadata": {
  "kernelspec": {
   "display_name": "Python 3 (ipykernel)",
   "language": "python",
   "name": "python3"
  },
  "language_info": {
   "codemirror_mode": {
    "name": "ipython",
    "version": 3
   },
   "file_extension": ".py",
   "mimetype": "text/x-python",
   "name": "python",
   "nbconvert_exporter": "python",
   "pygments_lexer": "ipython3",
   "version": "3.11.2"
  }
 },
 "nbformat": 4,
 "nbformat_minor": 5
}
