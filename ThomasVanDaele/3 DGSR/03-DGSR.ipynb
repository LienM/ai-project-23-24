{
 "cells": [
  {
   "cell_type": "code",
   "execution_count": 27,
   "id": "initial_id",
   "metadata": {
    "collapsed": true,
    "jupyter": {
     "outputs_hidden": true
    },
    "ExecuteTime": {
     "end_time": "2023-12-18T20:40:06.416184331Z",
     "start_time": "2023-12-18T20:40:06.380605828Z"
    }
   },
   "outputs": [],
   "source": [
    "import os\n",
    "import pandas as pd\n",
    "from sklearn.preprocessing import LabelEncoder\n",
    "\n",
    "os.environ[\"DGLBACKEND\"] = \"pytorch\""
   ]
  },
  {
   "cell_type": "code",
   "execution_count": 37,
   "id": "17cb5de8f410e5a7",
   "metadata": {
    "collapsed": false,
    "ExecuteTime": {
     "end_time": "2023-12-18T20:44:54.997083131Z",
     "start_time": "2023-12-18T20:44:53.938452813Z"
    }
   },
   "outputs": [
    {
     "name": "stdout",
     "output_type": "stream",
     "text": [
      "user_id    int64\n",
      "item_id    int64\n",
      "time       int64\n",
      "dtype: object    user_id  item_id        time\n",
      "0      184     4220  1537401600\n",
      "1      224     3747  1537401600\n",
      "2      224    23666  1537401600\n",
      "3      224    15699  1537401600\n",
      "4      303      479  1537401600\n"
     ]
    }
   ],
   "source": [
    "# Load the 5% sample of the transactions data\n",
    "BASE_PATH = '../data/'\n",
    "\n",
    "transactions = pd.read_parquet(BASE_PATH + 'parquet/transactions_train_sample_0.05.parquet')"
   ]
  },
  {
   "cell_type": "code",
   "execution_count": null,
   "outputs": [],
   "source": [
    "# This are the columns that DGSR expects\n",
    "transactions = transactions.rename(columns={\"article_id\": \"item_id\", \"customer_id\": \"user_id\"})\n",
    "transactions['time'] = (transactions['t_dat'] - pd.Timestamp(\"1970-01-01\")) // pd.Timedelta('1s')\n",
    "\n",
    "# Drop the columns that are not needed for DGSR\n",
    "transactions.drop(columns=['t_dat', 'sales_channel_id', 'price', 'week'], inplace=True)"
   ],
   "metadata": {
    "collapsed": false
   },
   "id": "5f60c05bf16a0ef7"
  },
  {
   "cell_type": "code",
   "execution_count": null,
   "outputs": [],
   "source": [
    "# Change the datatype of the columns to the ones expected by DGSR\n",
    "# Label encode the user_id \n",
    "# Easy way to get the user_id to start at 0\n",
    "le = LabelEncoder()\n",
    "le.fit(transactions['user_id'])\n",
    "transactions['user_id'] = le.transform(transactions['user_id'])\n",
    "\n",
    "# Label encode the item_id \n",
    "# Easy way to get the item_id to start at 0\n",
    "le = LabelEncoder()\n",
    "le.fit(transactions['item_id'])\n",
    "transactions['item_id'] = le.transform(transactions['item_id'])"
   ],
   "metadata": {
    "collapsed": false
   },
   "id": "6b54c3f45e7b359a"
  },
  {
   "cell_type": "code",
   "execution_count": null,
   "outputs": [],
   "source": [
    "# Save to csv\n",
    "transactions.to_csv(BASE_PATH + 'dgsr/transactions_train.csv', index=False)"
   ],
   "metadata": {
    "collapsed": false
   },
   "id": "119cf7c78d4cf3e5"
  },
  {
   "cell_type": "markdown",
   "source": [
    "# Important note\n",
    " Make sure the DGSR submodule is pulled from git, the requirements are installed\n",
    " \n",
    "# Installation\n",
    "\n",
    "The inside the [requirments](./requirements.txt) file work for me. Depending on the GPU you have and what CUDA versions it\n",
    "supports you might have to install different versions of dgl and pytorch. \n",
    "\n",
    "Version selector for [dgl](https://www.dgl.ai/pages/start.html) and for [pytorch](https://pytorch.org/get-started/locally/)\n",
    "\n",
    "At some point I needed an older version of pytorch to get the correct CUDA versions, those you can find [here](https://pytorch.org/get-started/previous-versions/)"
   ],
   "metadata": {
    "collapsed": false
   },
   "id": "d26198b75cb57c5c"
  },
  {
   "cell_type": "code",
   "execution_count": 38,
   "outputs": [],
   "source": [
    "!cp -a ../data/dgsr/. ../DGSR/Data/"
   ],
   "metadata": {
    "collapsed": false,
    "ExecuteTime": {
     "end_time": "2023-12-18T20:45:34.062711699Z",
     "start_time": "2023-12-18T20:45:33.913359877Z"
    }
   },
   "id": "327200d912765bfe"
  },
  {
   "cell_type": "markdown",
   "source": [
    "The following might take a while to generate all the graphs and it will take quit a lot of storage space. Expanding the small amount of data results in massive amounts of graph data and is the reason why it is not feasible for me to run this on my own hardware. \n",
    "\n",
    "Their datasets were similar size to our 5% sample which I use, but they have either way more compute or way more time to be able to run the training stage."
   ],
   "metadata": {
    "collapsed": false
   },
   "id": "9c640f99b39c985e"
  },
  {
   "cell_type": "code",
   "execution_count": 39,
   "outputs": [
    {
     "name": "stdout",
     "output_type": "stream",
     "text": [
      "start: 2023-12-18 21:51:35.653903\r\n",
      "/home/thomas/Projects/ai-project-23-24/venv/lib/python3.11/site-packages/joblib/externals/loky/process_executor.py:752: UserWarning: A worker stopped while some jobs were given to the executor. This can be caused by a too short worker timeout or by a memory leak.\r\n",
      "  warnings.warn(\r\n",
      "^C\r\n"
     ]
    }
   ],
   "source": [
    "!./load_data.sh"
   ],
   "metadata": {
    "collapsed": false,
    "ExecuteTime": {
     "end_time": "2023-12-18T21:07:41.785939631Z",
     "start_time": "2023-12-18T20:45:47.203556161Z"
    }
   },
   "id": "21eb4a1049efe86a"
  },
  {
   "cell_type": "markdown",
   "source": [
    "# Changes to make in the DGSR code\n",
    "Open [this](./DGSR/generate_neg.py) file and change the dataset to \"transactions_train\""
   ],
   "metadata": {
    "collapsed": false
   },
   "id": "4d996970d4172509"
  },
  {
   "cell_type": "code",
   "execution_count": null,
   "outputs": [],
   "source": [
    "!./load_neg_data.sh"
   ],
   "metadata": {
    "collapsed": false
   },
   "id": "d2edc60c67202e9a"
  },
  {
   "cell_type": "code",
   "execution_count": null,
   "outputs": [],
   "source": [
    "!./train.sh"
   ],
   "metadata": {
    "collapsed": false
   },
   "id": "9d0279eed91542a0"
  }
 ],
 "metadata": {
  "kernelspec": {
   "display_name": "Python 3 (ipykernel)",
   "language": "python",
   "name": "python3"
  },
  "language_info": {
   "codemirror_mode": {
    "name": "ipython",
    "version": 3
   },
   "file_extension": ".py",
   "mimetype": "text/x-python",
   "name": "python",
   "nbconvert_exporter": "python",
   "pygments_lexer": "ipython3",
   "version": "3.11.6"
  }
 },
 "nbformat": 4,
 "nbformat_minor": 5
}
