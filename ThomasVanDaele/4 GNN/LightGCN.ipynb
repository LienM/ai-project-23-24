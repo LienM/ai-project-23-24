{
 "cells": [
  {
   "cell_type": "code",
   "execution_count": 1,
   "outputs": [],
   "source": [
    "import os\n",
    "import pandas as pd\n",
    "import numpy as np\n",
    "from sklearn.preprocessing import LabelEncoder"
   ],
   "metadata": {
    "collapsed": false,
    "ExecuteTime": {
     "end_time": "2023-12-22T09:11:50.916701021Z",
     "start_time": "2023-12-22T09:11:50.399220490Z"
    }
   },
   "id": "a153851f9b04c787"
  },
  {
   "cell_type": "code",
   "execution_count": 2,
   "outputs": [
    {
     "data": {
      "text/plain": "   article_id  product_code  prod_name  product_type_no  product_type_name  \\\n0   108775015          6290      22897              253                  9   \n1   108775044          6290      22897              253                  9   \n2   108775051          6290      45824              253                  9   \n3   110065001          6291      11405              306                 13   \n4   110065002          6291      11405              306                 13   \n\n   product_group_name  graphical_appearance_no  graphical_appearance_name  \\\n0                   0                  1010016                          0   \n1                   0                  1010016                          0   \n2                   0                  1010017                          3   \n3                   4                  1010016                          0   \n4                   4                  1010016                          0   \n\n   colour_group_code  colour_group_name  ...  department_name  index_code  \\\n0                  9                  0  ...               10           0   \n1                 10                  2  ...               10           0   \n2                 11                 11  ...               10           0   \n3                  9                  0  ...              132           7   \n4                 10                  2  ...              132           7   \n\n   index_name  index_group_no  index_group_name  section_no  section_name  \\\n0           0               1                 0          16            30   \n1           0               1                 0          16            30   \n2           0               1                 0          16            30   \n3           7               1                 0          61             5   \n4           7               1                 0          61             5   \n\n   garment_group_no  garment_group_name  detail_desc  \n0              1002                   2        10954  \n1              1002                   2        10954  \n2              1002                   2        10954  \n3              1017                   4        10885  \n4              1017                   4        10885  \n\n[5 rows x 25 columns]",
      "text/html": "<div>\n<style scoped>\n    .dataframe tbody tr th:only-of-type {\n        vertical-align: middle;\n    }\n\n    .dataframe tbody tr th {\n        vertical-align: top;\n    }\n\n    .dataframe thead th {\n        text-align: right;\n    }\n</style>\n<table border=\"1\" class=\"dataframe\">\n  <thead>\n    <tr style=\"text-align: right;\">\n      <th></th>\n      <th>article_id</th>\n      <th>product_code</th>\n      <th>prod_name</th>\n      <th>product_type_no</th>\n      <th>product_type_name</th>\n      <th>product_group_name</th>\n      <th>graphical_appearance_no</th>\n      <th>graphical_appearance_name</th>\n      <th>colour_group_code</th>\n      <th>colour_group_name</th>\n      <th>...</th>\n      <th>department_name</th>\n      <th>index_code</th>\n      <th>index_name</th>\n      <th>index_group_no</th>\n      <th>index_group_name</th>\n      <th>section_no</th>\n      <th>section_name</th>\n      <th>garment_group_no</th>\n      <th>garment_group_name</th>\n      <th>detail_desc</th>\n    </tr>\n  </thead>\n  <tbody>\n    <tr>\n      <th>0</th>\n      <td>108775015</td>\n      <td>6290</td>\n      <td>22897</td>\n      <td>253</td>\n      <td>9</td>\n      <td>0</td>\n      <td>1010016</td>\n      <td>0</td>\n      <td>9</td>\n      <td>0</td>\n      <td>...</td>\n      <td>10</td>\n      <td>0</td>\n      <td>0</td>\n      <td>1</td>\n      <td>0</td>\n      <td>16</td>\n      <td>30</td>\n      <td>1002</td>\n      <td>2</td>\n      <td>10954</td>\n    </tr>\n    <tr>\n      <th>1</th>\n      <td>108775044</td>\n      <td>6290</td>\n      <td>22897</td>\n      <td>253</td>\n      <td>9</td>\n      <td>0</td>\n      <td>1010016</td>\n      <td>0</td>\n      <td>10</td>\n      <td>2</td>\n      <td>...</td>\n      <td>10</td>\n      <td>0</td>\n      <td>0</td>\n      <td>1</td>\n      <td>0</td>\n      <td>16</td>\n      <td>30</td>\n      <td>1002</td>\n      <td>2</td>\n      <td>10954</td>\n    </tr>\n    <tr>\n      <th>2</th>\n      <td>108775051</td>\n      <td>6290</td>\n      <td>45824</td>\n      <td>253</td>\n      <td>9</td>\n      <td>0</td>\n      <td>1010017</td>\n      <td>3</td>\n      <td>11</td>\n      <td>11</td>\n      <td>...</td>\n      <td>10</td>\n      <td>0</td>\n      <td>0</td>\n      <td>1</td>\n      <td>0</td>\n      <td>16</td>\n      <td>30</td>\n      <td>1002</td>\n      <td>2</td>\n      <td>10954</td>\n    </tr>\n    <tr>\n      <th>3</th>\n      <td>110065001</td>\n      <td>6291</td>\n      <td>11405</td>\n      <td>306</td>\n      <td>13</td>\n      <td>4</td>\n      <td>1010016</td>\n      <td>0</td>\n      <td>9</td>\n      <td>0</td>\n      <td>...</td>\n      <td>132</td>\n      <td>7</td>\n      <td>7</td>\n      <td>1</td>\n      <td>0</td>\n      <td>61</td>\n      <td>5</td>\n      <td>1017</td>\n      <td>4</td>\n      <td>10885</td>\n    </tr>\n    <tr>\n      <th>4</th>\n      <td>110065002</td>\n      <td>6291</td>\n      <td>11405</td>\n      <td>306</td>\n      <td>13</td>\n      <td>4</td>\n      <td>1010016</td>\n      <td>0</td>\n      <td>10</td>\n      <td>2</td>\n      <td>...</td>\n      <td>132</td>\n      <td>7</td>\n      <td>7</td>\n      <td>1</td>\n      <td>0</td>\n      <td>61</td>\n      <td>5</td>\n      <td>1017</td>\n      <td>4</td>\n      <td>10885</td>\n    </tr>\n  </tbody>\n</table>\n<p>5 rows × 25 columns</p>\n</div>"
     },
     "execution_count": 2,
     "metadata": {},
     "output_type": "execute_result"
    }
   ],
   "source": [
    "BASE_PATH = '../data/'\n",
    "\n",
    "# make sure the same data preprocessing as in the radek notebook have been performed\n",
    "# (see 02 FE/DataProcessingRadek.ipynb)\n",
    "transactions = pd.read_parquet(BASE_PATH + 'parquet/transactions_train.parquet')\n",
    "customers = pd.read_parquet(BASE_PATH + 'parquet/customers.parquet')\n",
    "articles = pd.read_parquet(BASE_PATH + 'parquet/articles.parquet')\n",
    "\n",
    "articles.head()"
   ],
   "metadata": {
    "collapsed": false,
    "ExecuteTime": {
     "end_time": "2023-12-22T09:11:51.314843540Z",
     "start_time": "2023-12-22T09:11:50.916488100Z"
    }
   },
   "id": "c7f4b12dc091fa71"
  },
  {
   "cell_type": "markdown",
   "source": [
    "Generate x% sample of the data for training LightGCN\n",
    "\n",
    "15% is the maximum that worked for me, larger didn't fit into VRAM anymore."
   ],
   "metadata": {
    "collapsed": false
   },
   "id": "98ea160629964f44"
  },
  {
   "cell_type": "code",
   "execution_count": null,
   "outputs": [],
   "source": [
    "%%time\n",
    "\n",
    "transactions.to_parquet(BASE_PATH + 'parquet/transactions_train.parquet')\n",
    "customers.to_parquet(BASE_PATH + 'parquet/customers.parquet')\n",
    "articles.to_parquet(BASE_PATH + 'parquet/articles.parquet')\n",
    "\n",
    "# let's create a 15% sample of all the data to speed up dev\n",
    "sample = 0.15\n",
    "customers_sample = customers.sample(frac=sample, replace=False)\n",
    "customers_sample_ids = set(customers_sample['customer_id'])\n",
    "transactions_sample = transactions[transactions[\"customer_id\"].isin(customers_sample_ids)]\n",
    "articles_sample_ids = set(transactions_sample[\"article_id\"])\n",
    "articles_sample = articles[articles[\"article_id\"].isin(articles_sample_ids)]\n",
    "\n",
    "test_week = 104\n",
    "\n",
    "train = transactions_sample[transactions_sample.week != test_week]\n",
    "test = transactions_sample[transactions_sample.week == test_week]\n",
    "\n",
    "customers_sample.to_parquet(BASE_PATH + f'parquet/customers_sample_{sample}.parquet', index=False)\n",
    "train.to_parquet(BASE_PATH + f'parquet/transactions_train_sample_{sample}.parquet', index=False)\n",
    "test.to_parquet(BASE_PATH + f'parquet/transactions_test_sample_{sample}.parquet', index=False)\n",
    "articles_sample.to_parquet(BASE_PATH + f'parquet/articles_sample_{sample}.parquet', index=False)"
   ],
   "metadata": {
    "collapsed": false
   },
   "id": "d265c7fff3ba68c1"
  },
  {
   "cell_type": "code",
   "execution_count": null,
   "outputs": [],
   "source": [
    "!cp ../data/parquet/transactions_train_sample_0.15.parquet ../data/HMDataset/raw/train.parquet\n",
    "!cp ../data/parquet/transactions_test_sample_0.15.parquet ../data/HMDataset/raw/test.parquet\n",
    "!cp ../data/parquet/customers_sample_0.15.parquet ../data/HMDataset/raw/customers.parquet\n",
    "!cp ../data/parquet/articles_sample_0.15.parquet ../data/HMDataset/raw/articles.parquet"
   ],
   "metadata": {
    "collapsed": false
   },
   "id": "eb3777dec5d2e6b2"
  },
  {
   "cell_type": "markdown",
   "source": [
    "The following code is for an experiment that I did. \n",
    "In the experiment I made sure that every user in the training dataset was also in the test dataset and vice versa.\n",
    "\n",
    "This didn't improve the results, so I didn't use it in the end."
   ],
   "metadata": {
    "collapsed": false
   },
   "id": "bed99e60c5fe854"
  },
  {
   "cell_type": "code",
   "execution_count": null,
   "outputs": [],
   "source": [
    "BASE_PATH = '../data/'\n",
    "\n",
    "# make sure the same data preprocessing as in the radek notebook have been performed\n",
    "# (see 02 FE/DataProcessingRadek.ipynb)\n",
    "transactions = pd.read_parquet(BASE_PATH + 'parquet/transactions_train.parquet')\n",
    "customers = pd.read_parquet(BASE_PATH + 'parquet/customers.parquet')\n",
    "articles = pd.read_parquet(BASE_PATH + 'parquet/articles.parquet')\n",
    "\n",
    "articles.head()"
   ],
   "metadata": {
    "collapsed": false
   },
   "id": "7fe0c5e6c80e41e4"
  },
  {
   "cell_type": "code",
   "execution_count": 3,
   "outputs": [],
   "source": [
    "test_week = 104\n",
    "\n",
    "train = transactions[transactions.week != test_week]\n",
    "test = transactions[transactions.week == test_week]"
   ],
   "metadata": {
    "collapsed": false,
    "ExecuteTime": {
     "end_time": "2023-12-22T09:11:52.757895548Z",
     "start_time": "2023-12-22T09:11:52.287282019Z"
    }
   },
   "id": "d9bf93eef985cc9b"
  },
  {
   "cell_type": "code",
   "execution_count": 4,
   "outputs": [],
   "source": [
    "train = train.sort_values(ascending=True, by=['customer_id'])\n",
    "train_count = train.groupby(['customer_id']).size().reset_index(name='count')\n",
    "\n",
    "train_customers = set(train_count[train_count['count'] > 0]['customer_id'])"
   ],
   "metadata": {
    "collapsed": false,
    "ExecuteTime": {
     "end_time": "2023-12-22T09:11:53.676097273Z",
     "start_time": "2023-12-22T09:11:53.670276536Z"
    }
   },
   "id": "46056c45240e3400"
  },
  {
   "cell_type": "code",
   "execution_count": 5,
   "outputs": [],
   "source": [
    "test = test.sort_values(ascending=True, by=['customer_id'])\n",
    "test_count = test.groupby(['customer_id']).size().reset_index(name='count')\n",
    "\n",
    "test_customers = set(test_count[test_count['count'] > 0]['customer_id'])"
   ],
   "metadata": {
    "collapsed": false,
    "ExecuteTime": {
     "end_time": "2023-12-22T09:11:54.247918338Z",
     "start_time": "2023-12-22T09:11:54.246260452Z"
    }
   },
   "id": "18a48573732bb2d0"
  },
  {
   "cell_type": "code",
   "execution_count": 6,
   "outputs": [],
   "source": [
    "sample_customers = train_customers.intersection(test_customers) \n",
    "customers = customers[customers['customer_id'].isin(sample_customers)]\n",
    "\n",
    "print(len(sample_customers), len(customers))"
   ],
   "metadata": {
    "collapsed": false,
    "ExecuteTime": {
     "end_time": "2023-12-22T09:12:31.564819810Z",
     "start_time": "2023-12-22T09:12:31.523960637Z"
    }
   },
   "id": "2e9341ddaa33ed8f"
  },
  {
   "cell_type": "code",
   "execution_count": 7,
   "outputs": [],
   "source": [
    "train['purchased'] = 1"
   ],
   "metadata": {
    "collapsed": false,
    "ExecuteTime": {
     "end_time": "2023-12-22T09:12:32.115639775Z",
     "start_time": "2023-12-22T09:12:32.113596723Z"
    }
   },
   "id": "83822563aa8c50f0"
  },
  {
   "cell_type": "code",
   "execution_count": 16,
   "outputs": [],
   "source": [
    "# let's create a 15% sample of all the data to speed up dev\n",
    "sample = 0.15\n",
    "customers_sample = customers.sample(frac=sample, replace=False)\n",
    "customers_sample_ids = set(customers_sample['customer_id'])\n",
    "transactions_train_sample = train[train[\"customer_id\"].isin(customers_sample_ids)]\n",
    "transactions_test_sample = test[test[\"customer_id\"].isin(customers_sample_ids)]\n",
    "articles_sample_ids = set(transactions_train_sample[\"article_id\"]).union(set(transactions_test_sample[\"article_id\"]))\n",
    "articles_sample = articles[articles[\"article_id\"].isin(articles_sample_ids)]\n",
    "\n",
    "transactions_test_sample = transactions_test_sample.sample(frac=0.3, replace=False)\n",
    "\n",
    "customers_sample.to_parquet(BASE_PATH + f'parquet/customers_sample_{sample}.parquet', index=False)\n",
    "transactions_train_sample.to_parquet(BASE_PATH + f'parquet/transactions_train_sample_{sample}.parquet', index=False)\n",
    "transactions_test_sample.to_parquet(BASE_PATH + f'parquet/transactions_test_sample_{sample}.parquet', index=False)\n",
    "articles_sample.to_parquet(BASE_PATH + f'parquet/articles_sample_{sample}.parquet', index=False)"
   ],
   "metadata": {
    "collapsed": false,
    "ExecuteTime": {
     "end_time": "2023-12-22T11:50:52.310353601Z",
     "start_time": "2023-12-22T11:50:52.307650731Z"
    }
   },
   "id": "45cdbcd0f126260b"
  },
  {
   "cell_type": "code",
   "execution_count": 17,
   "outputs": [],
   "source": [
    "!cp ../data/parquet/transactions_train_sample_0.15.parquet ../data/HMDataset/raw/train.parquet\n",
    "!cp ../data/parquet/transactions_test_sample_0.15.parquet ../data/HMDataset/raw/test.parquet\n",
    "!cp ../data/parquet/customers_sample_0.15.parquet ../data/HMDataset/raw/customers.parquet\n",
    "!cp ../data/parquet/articles_sample_0.15.parquet ../data/HMDataset/raw/articles.parquet"
   ],
   "metadata": {
    "collapsed": false,
    "ExecuteTime": {
     "end_time": "2023-12-22T11:50:52.888429250Z",
     "start_time": "2023-12-22T11:50:52.307753436Z"
    }
   },
   "id": "c32fbf4ac29b4cdc"
  },
  {
   "cell_type": "markdown",
   "source": [
    "# Next steps in training\n",
    "Run the [train.py](./train.py) python file to train the model.\n",
    "\n",
    "The data loading is done by the HMDataset class in [dataset.py](./Dataset.py), between runs with different data (e.g. different sample size) you need to delete the [processed data](../data/HMDataset/processed) in the data folder. The raw data will be overwritten by the copy from the code block above, but as long as the file in processed is there, it will be used instead of the new raw data.\n",
    "\n",
    "# Prediction\n",
    "Run the [predict.py](./predict.py) python file to generate the predictions.\n",
    "\n",
    "# Submission and comparison to the baseline\n",
    "Run the [evaluation notebook](./Evaluation.ipynb) to generate the submission file and compare it to the baseline on the metrics."
   ],
   "metadata": {
    "collapsed": false
   },
   "id": "6ab5c7c9a6e643d6"
  },
  {
   "cell_type": "code",
   "execution_count": null,
   "outputs": [],
   "source": [],
   "metadata": {
    "collapsed": false
   },
   "id": "3d9df7005fd0fa87"
  }
 ],
 "metadata": {
  "kernelspec": {
   "display_name": "Python 3",
   "language": "python",
   "name": "python3"
  },
  "language_info": {
   "codemirror_mode": {
    "name": "ipython",
    "version": 2
   },
   "file_extension": ".py",
   "mimetype": "text/x-python",
   "name": "python",
   "nbconvert_exporter": "python",
   "pygments_lexer": "ipython2",
   "version": "2.7.6"
  }
 },
 "nbformat": 4,
 "nbformat_minor": 5
}
