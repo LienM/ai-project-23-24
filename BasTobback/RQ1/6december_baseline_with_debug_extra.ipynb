{
 "metadata": {
  "kernelspec": {
   "language": "python",
   "display_name": "Python 3",
   "name": "python3"
  },
  "language_info": {
   "name": "python",
   "version": "3.7.12",
   "mimetype": "text/x-python",
   "codemirror_mode": {
    "name": "ipython",
    "version": 3
   },
   "pygments_lexer": "ipython3",
   "nbconvert_exporter": "python",
   "file_extension": ".py"
  },
  "kaggle": {
   "accelerator": "none",
   "dataSources": [
    {
     "sourceId": 31254,
     "databundleVersionId": 3103714,
     "sourceType": "competition"
    },
    {
     "sourceId": 93163345,
     "sourceType": "kernelVersion"
    }
   ],
   "dockerImageVersionId": 30178,
   "isInternetEnabled": true,
   "language": "python",
   "sourceType": "notebook",
   "isGpuEnabled": false
  }
 },
 "nbformat_minor": 4,
 "nbformat": 4,
 "cells": [
  {
   "cell_type": "markdown",
   "source": [
    "Radek posted about this [here](https://www.kaggle.com/competitions/h-and-m-personalized-fashion-recommendations/discussion/309220), and linked to a GitHub repo with the code.\n",
    "\n",
    "I just transferred that code here to Kaggle notebooks, that's all."
   ],
   "metadata": {}
  },
  {
   "cell_type": "raw",
   "source": [
    "import numpy as np\n",
    "\n",
    "def apk(actual, predicted, k=10):\n",
    "    \"\"\"\n",
    "    Computes the average precision at k.\n",
    "\n",
    "    This function computes the average prescision at k between two lists of\n",
    "    items.\n",
    "\n",
    "    Parameters\n",
    "    ----------\n",
    "    actual : list\n",
    "             A list of elements that are to be predicted (order doesn't matter)\n",
    "    predicted : list\n",
    "                A list of predicted elements (order does matter)\n",
    "    k : int, optional\n",
    "        The maximum number of predicted elements\n",
    "\n",
    "    Returns\n",
    "    -------\n",
    "    score : double\n",
    "            The average precision at k over the input lists\n",
    "\n",
    "    \"\"\"\n",
    "    if len(predicted)>k:\n",
    "        predicted = predicted[:k]\n",
    "\n",
    "    score = 0.0\n",
    "    num_hits = 0.0\n",
    "\n",
    "    for i,p in enumerate(predicted):\n",
    "        if p in actual and p not in predicted[:i]:\n",
    "            num_hits += 1.0\n",
    "            score += num_hits / (i+1.0)\n",
    "\n",
    "    if not actual:\n",
    "        return 0.0\n",
    "\n",
    "    return score / min(len(actual), k)\n",
    "\n",
    "def mapk(actual, predicted, k=10):\n",
    "    \"\"\"\n",
    "    Computes the mean average precision at k.\n",
    "\n",
    "    This function computes the mean average prescision at k between two lists\n",
    "    of lists of items.\n",
    "\n",
    "    Parameters\n",
    "    ----------\n",
    "    actual : list\n",
    "             A list of lists of elements that are to be predicted \n",
    "             (order doesn't matter in the lists)\n",
    "    predicted : list\n",
    "                A list of lists of predicted elements\n",
    "                (order matters in the lists)\n",
    "    k : int, optional\n",
    "        The maximum number of predicted elements\n",
    "\n",
    "    Returns\n",
    "    -------\n",
    "    score : double\n",
    "            The mean average precision at k over the input lists\n",
    "\n",
    "    \"\"\"\n",
    "    return np.mean([apk(a,p,k) for a,p in zip(actual, predicted)])"
   ],
   "metadata": {
    "execution": {
     "iopub.status.busy": "2023-10-11T07:47:00.962118Z",
     "iopub.execute_input": "2023-10-11T07:47:00.963156Z",
     "iopub.status.idle": "2023-10-11T07:47:00.973770Z",
     "shell.execute_reply.started": "2023-10-11T07:47:00.963105Z",
     "shell.execute_reply": "2023-10-11T07:47:00.972043Z"
    }
   }
  },
  {
   "cell_type": "code",
   "source": [
    "from sklearn.base import BaseEstimator, TransformerMixin\n",
    "import numpy as np\n",
    "\n",
    "# https://www.kaggle.com/c/h-and-m-personalized-fashion-recommendations/discussion/308635\n",
    "def customer_hex_id_to_int(series):\n",
    "    return series.str[-16:].apply(hex_id_to_int)\n",
    "\n",
    "def hex_id_to_int(str):\n",
    "    return int(str[-16:], 16)\n",
    "\n",
    "def article_id_str_to_int(series):\n",
    "    return series.astype('int32')\n",
    "\n",
    "def article_id_int_to_str(series):\n",
    "    return '0' + series.astype('str')\n",
    "\n",
    "class Categorize(BaseEstimator, TransformerMixin):\n",
    "    def __init__(self, min_examples=0):\n",
    "        self.min_examples = min_examples\n",
    "        self.categories = []\n",
    "        \n",
    "    def fit(self, X):\n",
    "        for i in range(X.shape[1]):\n",
    "            vc = X.iloc[:, i].value_counts()\n",
    "            self.categories.append(vc[vc > self.min_examples].index.tolist())\n",
    "        return self\n",
    "\n",
    "    def transform(self, X):\n",
    "        data = {X.columns[i]: pd.Categorical(X.iloc[:, i], categories=self.categories[i]).codes for i in range(X.shape[1])}\n",
    "        return pd.DataFrame(data=data)\n",
    "\n",
    "\n",
    "def calculate_apk(list_of_preds, list_of_gts):\n",
    "    # for fast validation this can be changed to operate on dicts of {'cust_id_int': [art_id_int, ...]}\n",
    "    # using 'data/val_week_purchases_by_cust.pkl'\n",
    "    apks = []\n",
    "    for preds, gt in zip(list_of_preds, list_of_gts):\n",
    "        apks.append(apk(gt, preds, k=12))\n",
    "    return np.mean(apks)\n",
    "\n",
    "def eval_sub(sub_csv, skip_cust_with_no_purchases=True):\n",
    "    sub=pd.read_csv(sub_csv)\n",
    "    validation_set=pd.read_parquet('data/validation_ground_truth.parquet')\n",
    "\n",
    "    apks = []\n",
    "\n",
    "    no_purchases_pattern = []\n",
    "    for pred, gt in zip(sub.prediction.str.split(), validation_set.prediction.str.split()):\n",
    "        if skip_cust_with_no_purchases and (gt == no_purchases_pattern): continue\n",
    "        apks.append(apk(gt, pred, k=12))\n",
    "    return np.mean(apks)"
   ],
   "metadata": {
    "execution": {
     "iopub.status.busy": "2023-12-04T18:54:09.656968Z",
     "iopub.execute_input": "2023-12-04T18:54:09.657279Z",
     "iopub.status.idle": "2023-12-04T18:54:10.314082Z",
     "shell.execute_reply.started": "2023-12-04T18:54:09.657247Z",
     "shell.execute_reply": "2023-12-04T18:54:10.313074Z"
    },
    "trusted": true
   },
   "execution_count": null,
   "outputs": []
  },
  {
   "cell_type": "code",
   "source": [
    "import pandas as pd"
   ],
   "metadata": {
    "execution": {
     "iopub.status.busy": "2023-12-04T18:54:10.316247Z",
     "iopub.execute_input": "2023-12-04T18:54:10.316590Z",
     "iopub.status.idle": "2023-12-04T18:54:10.321276Z",
     "shell.execute_reply.started": "2023-12-04T18:54:10.316545Z",
     "shell.execute_reply": "2023-12-04T18:54:10.320378Z"
    },
    "trusted": true
   },
   "execution_count": null,
   "outputs": []
  },
  {
   "cell_type": "code",
   "source": [
    "%%time\n",
    "\n",
    "transactions = pd.read_parquet('../input/warmup/transactions_train.parquet')\n",
    "customers = pd.read_parquet('../input/warmup/customers.parquet')\n",
    "articles = pd.read_parquet('../input/warmup/articles.parquet')\n",
    "\n",
    "# sample = 0.05\n",
    "# transactions = pd.read_parquet(f'data/transactions_train_sample_{sample}.parquet')\n",
    "# customers = pd.read_parquet(f'data/customers_sample_{sample}.parquet')\n",
    "# articles = pd.read_parquet(f'data/articles_train_sample_{sample}.parquet')"
   ],
   "metadata": {
    "execution": {
     "iopub.status.busy": "2023-12-04T18:54:10.322628Z",
     "iopub.execute_input": "2023-12-04T18:54:10.322880Z",
     "iopub.status.idle": "2023-12-04T18:54:17.449223Z",
     "shell.execute_reply.started": "2023-12-04T18:54:10.322848Z",
     "shell.execute_reply": "2023-12-04T18:54:17.448380Z"
    },
    "trusted": true
   },
   "execution_count": null,
   "outputs": []
  },
  {
   "cell_type": "markdown",
   "source": [
    "# Test Week\n",
    "Change the test week based on what we want to check, if we want to predict -> 'transactions.week.max() + 1'. \n",
    "If we want to check the recall (how well it can predict) -> value of the test_week we want to test for"
   ],
   "metadata": {}
  },
  {
   "cell_type": "code",
   "source": [
    "test_week = 104\n",
    "absolute_max_week = transactions.week.max()\n",
    "print(test_week)\n",
    "test_week_transactions = transactions[transactions.week == test_week]\n",
    "transactions = transactions[(transactions.week > test_week - 11) & (transactions.week < test_week)].reset_index(drop=True)\n",
    "# transactions = transactions[transactions.week < test_week]"
   ],
   "metadata": {
    "execution": {
     "iopub.status.busy": "2023-12-04T18:54:17.450858Z",
     "iopub.execute_input": "2023-12-04T18:54:17.451411Z",
     "iopub.status.idle": "2023-12-04T18:54:17.809317Z",
     "shell.execute_reply.started": "2023-12-04T18:54:17.451368Z",
     "shell.execute_reply": "2023-12-04T18:54:17.808244Z"
    },
    "trusted": true
   },
   "execution_count": null,
   "outputs": []
  },
  {
   "cell_type": "markdown",
   "source": [
    "# Generating candidates"
   ],
   "metadata": {}
  },
  {
   "cell_type": "markdown",
   "source": [
    "### Last purchase candidates"
   ],
   "metadata": {}
  },
  {
   "cell_type": "code",
   "source": [
    "%%time\n",
    "\n",
    "c2weeks = transactions.groupby('customer_id')['week'].unique()"
   ],
   "metadata": {
    "execution": {
     "iopub.status.busy": "2023-12-04T18:54:17.811890Z",
     "iopub.execute_input": "2023-12-04T18:54:17.812234Z",
     "iopub.status.idle": "2023-12-04T18:54:44.154634Z",
     "shell.execute_reply.started": "2023-12-04T18:54:17.812192Z",
     "shell.execute_reply": "2023-12-04T18:54:44.153705Z"
    },
    "trusted": true
   },
   "execution_count": null,
   "outputs": []
  },
  {
   "cell_type": "code",
   "source": [
    "transactions.groupby('week')['t_dat'].agg(['min', 'max'])"
   ],
   "metadata": {
    "execution": {
     "iopub.status.busy": "2023-12-04T18:54:44.155927Z",
     "iopub.execute_input": "2023-12-04T18:54:44.156190Z",
     "iopub.status.idle": "2023-12-04T18:54:44.264970Z",
     "shell.execute_reply.started": "2023-12-04T18:54:44.156159Z",
     "shell.execute_reply": "2023-12-04T18:54:44.264104Z"
    },
    "trusted": true
   },
   "execution_count": null,
   "outputs": []
  },
  {
   "cell_type": "code",
   "source": [
    "c2weeks"
   ],
   "metadata": {
    "execution": {
     "iopub.status.busy": "2023-12-04T18:54:44.266187Z",
     "iopub.execute_input": "2023-12-04T18:54:44.266421Z",
     "iopub.status.idle": "2023-12-04T18:54:44.277054Z",
     "shell.execute_reply.started": "2023-12-04T18:54:44.266392Z",
     "shell.execute_reply": "2023-12-04T18:54:44.276157Z"
    },
    "trusted": true
   },
   "execution_count": null,
   "outputs": []
  },
  {
   "cell_type": "code",
   "source": [
    "%%time\n",
    "\n",
    "c2weeks2shifted_weeks = {}\n",
    "\n",
    "for c_id, weeks in c2weeks.items():\n",
    "    c2weeks2shifted_weeks[c_id] = {}\n",
    "    for i in range(weeks.shape[0]-1):\n",
    "        c2weeks2shifted_weeks[c_id][weeks[i]] = weeks[i+1]\n",
    "    c2weeks2shifted_weeks[c_id][weeks[-1]] = test_week"
   ],
   "metadata": {
    "execution": {
     "iopub.status.busy": "2023-12-04T18:54:44.278487Z",
     "iopub.execute_input": "2023-12-04T18:54:44.278805Z",
     "iopub.status.idle": "2023-12-04T18:54:45.563869Z",
     "shell.execute_reply.started": "2023-12-04T18:54:44.278759Z",
     "shell.execute_reply": "2023-12-04T18:54:45.562962Z"
    },
    "trusted": true
   },
   "execution_count": null,
   "outputs": []
  },
  {
   "cell_type": "code",
   "source": [
    "c2weeks2shifted_weeks[28847241659200]"
   ],
   "metadata": {
    "execution": {
     "iopub.status.busy": "2023-12-04T18:54:45.565248Z",
     "iopub.execute_input": "2023-12-04T18:54:45.565482Z",
     "iopub.status.idle": "2023-12-04T18:54:45.572399Z",
     "shell.execute_reply.started": "2023-12-04T18:54:45.565452Z",
     "shell.execute_reply": "2023-12-04T18:54:45.571616Z"
    },
    "trusted": true
   },
   "execution_count": null,
   "outputs": []
  },
  {
   "cell_type": "code",
   "source": [
    "candidates_last_purchase = transactions.copy()"
   ],
   "metadata": {
    "execution": {
     "iopub.status.busy": "2023-12-04T18:54:45.573726Z",
     "iopub.execute_input": "2023-12-04T18:54:45.574654Z",
     "iopub.status.idle": "2023-12-04T18:54:45.599655Z",
     "shell.execute_reply.started": "2023-12-04T18:54:45.574555Z",
     "shell.execute_reply": "2023-12-04T18:54:45.598650Z"
    },
    "trusted": true
   },
   "execution_count": null,
   "outputs": []
  },
  {
   "cell_type": "code",
   "source": [
    "%%time\n",
    "\n",
    "weeks = []\n",
    "for i, (c_id, week) in enumerate(zip(transactions['customer_id'], transactions['week'])):\n",
    "    weeks.append(c2weeks2shifted_weeks[c_id][week])\n",
    "    \n",
    "candidates_last_purchase.week=weeks"
   ],
   "metadata": {
    "execution": {
     "iopub.status.busy": "2023-12-04T18:54:45.601019Z",
     "iopub.execute_input": "2023-12-04T18:54:45.601325Z",
     "iopub.status.idle": "2023-12-04T18:54:58.205598Z",
     "shell.execute_reply.started": "2023-12-04T18:54:45.601288Z",
     "shell.execute_reply": "2023-12-04T18:54:58.204651Z"
    },
    "trusted": true
   },
   "execution_count": null,
   "outputs": []
  },
  {
   "cell_type": "code",
   "source": [
    "candidates_last_purchase[candidates_last_purchase['customer_id']==272412481300040]"
   ],
   "metadata": {
    "execution": {
     "iopub.status.busy": "2023-12-04T18:54:58.206894Z",
     "iopub.execute_input": "2023-12-04T18:54:58.207195Z",
     "iopub.status.idle": "2023-12-04T18:54:58.278251Z",
     "shell.execute_reply.started": "2023-12-04T18:54:58.207130Z",
     "shell.execute_reply": "2023-12-04T18:54:58.277333Z"
    },
    "trusted": true
   },
   "execution_count": null,
   "outputs": []
  },
  {
   "cell_type": "code",
   "source": [
    "transactions[transactions['customer_id']==272412481300040]"
   ],
   "metadata": {
    "execution": {
     "iopub.status.busy": "2023-12-04T18:54:58.279722Z",
     "iopub.execute_input": "2023-12-04T18:54:58.280537Z",
     "iopub.status.idle": "2023-12-04T18:54:58.300595Z",
     "shell.execute_reply.started": "2023-12-04T18:54:58.280494Z",
     "shell.execute_reply": "2023-12-04T18:54:58.299799Z"
    },
    "trusted": true
   },
   "execution_count": null,
   "outputs": []
  },
  {
   "cell_type": "markdown",
   "source": [
    "### Bestsellers candidates"
   ],
   "metadata": {}
  },
  {
   "cell_type": "markdown",
   "source": [
    "get the mean of the prices of transactions sorted on the article_id and the week"
   ],
   "metadata": {}
  },
  {
   "cell_type": "code",
   "source": [
    "mean_price = transactions \\\n",
    "    .groupby(['week', 'article_id'])['price'].mean()"
   ],
   "metadata": {
    "execution": {
     "iopub.status.busy": "2023-12-04T18:54:58.304399Z",
     "iopub.execute_input": "2023-12-04T18:54:58.304647Z",
     "iopub.status.idle": "2023-12-04T18:54:58.548111Z",
     "shell.execute_reply.started": "2023-12-04T18:54:58.304617Z",
     "shell.execute_reply": "2023-12-04T18:54:58.547370Z"
    },
    "trusted": true
   },
   "execution_count": null,
   "outputs": []
  },
  {
   "cell_type": "code",
   "source": [
    "mean_price"
   ],
   "metadata": {
    "execution": {
     "iopub.status.busy": "2023-12-04T18:54:58.549295Z",
     "iopub.execute_input": "2023-12-04T18:54:58.549540Z",
     "iopub.status.idle": "2023-12-04T18:54:58.560215Z",
     "shell.execute_reply.started": "2023-12-04T18:54:58.549511Z",
     "shell.execute_reply": "2023-12-04T18:54:58.559292Z"
    },
    "trusted": true
   },
   "execution_count": null,
   "outputs": []
  },
  {
   "cell_type": "markdown",
   "source": [
    "make sales which is the ranking of the 12 most bought article_ids in each week"
   ],
   "metadata": {}
  },
  {
   "cell_type": "code",
   "source": [
    "sales = transactions \\\n",
    "    .groupby('week')['article_id'].value_counts() \\\n",
    "    .groupby('week').rank(method='dense', ascending=False) \\\n",
    "    .groupby('week').head(12).rename('bestseller_rank').astype('int8')"
   ],
   "metadata": {
    "execution": {
     "iopub.status.busy": "2023-12-04T18:54:58.561701Z",
     "iopub.execute_input": "2023-12-04T18:54:58.561965Z",
     "iopub.status.idle": "2023-12-04T18:54:59.479375Z",
     "shell.execute_reply.started": "2023-12-04T18:54:58.561932Z",
     "shell.execute_reply": "2023-12-04T18:54:59.478409Z"
    },
    "trusted": true
   },
   "execution_count": null,
   "outputs": []
  },
  {
   "cell_type": "code",
   "source": [
    "sales"
   ],
   "metadata": {
    "execution": {
     "iopub.status.busy": "2023-12-04T18:54:59.480708Z",
     "iopub.execute_input": "2023-12-04T18:54:59.481001Z",
     "iopub.status.idle": "2023-12-04T18:54:59.491070Z",
     "shell.execute_reply.started": "2023-12-04T18:54:59.480967Z",
     "shell.execute_reply": "2023-12-04T18:54:59.490325Z"
    },
    "trusted": true
   },
   "execution_count": null,
   "outputs": []
  },
  {
   "cell_type": "code",
   "source": [
    "sales.loc[95]"
   ],
   "metadata": {
    "execution": {
     "iopub.status.busy": "2023-12-04T18:54:59.492513Z",
     "iopub.execute_input": "2023-12-04T18:54:59.492786Z",
     "iopub.status.idle": "2023-12-04T18:54:59.506969Z",
     "shell.execute_reply.started": "2023-12-04T18:54:59.492753Z",
     "shell.execute_reply": "2023-12-04T18:54:59.506106Z"
    },
    "trusted": true
   },
   "execution_count": null,
   "outputs": []
  },
  {
   "cell_type": "markdown",
   "source": [
    "bestsellers_previous_week will be a collection for all weeks where the mean price and the rankings are joined. Therefor the dataframe will look like the [week, article] combination with the ranking and then the average price. The week is increased with one."
   ],
   "metadata": {}
  },
  {
   "cell_type": "code",
   "source": [
    "bestsellers_previous_week = pd.merge(sales, mean_price, on=['week', 'article_id']).reset_index()\n",
    "bestsellers_previous_week.week += 1"
   ],
   "metadata": {
    "execution": {
     "iopub.status.busy": "2023-12-04T18:54:59.508286Z",
     "iopub.execute_input": "2023-12-04T18:54:59.509076Z",
     "iopub.status.idle": "2023-12-04T18:54:59.554027Z",
     "shell.execute_reply.started": "2023-12-04T18:54:59.509040Z",
     "shell.execute_reply": "2023-12-04T18:54:59.553058Z"
    },
    "trusted": true
   },
   "execution_count": null,
   "outputs": []
  },
  {
   "cell_type": "code",
   "source": [
    "bestsellers_previous_week.pipe(lambda df: df[df['week']==96])"
   ],
   "metadata": {
    "execution": {
     "iopub.status.busy": "2023-12-04T18:54:59.555630Z",
     "iopub.execute_input": "2023-12-04T18:54:59.555910Z",
     "iopub.status.idle": "2023-12-04T18:54:59.570418Z",
     "shell.execute_reply.started": "2023-12-04T18:54:59.555875Z",
     "shell.execute_reply": "2023-12-04T18:54:59.569436Z"
    },
    "trusted": true
   },
   "execution_count": null,
   "outputs": []
  },
  {
   "cell_type": "markdown",
   "source": [
    "Unique transactions is a dataframe containing one entry of the [week, customer_id] combination. Here the article_ids are dropped as well as the prices"
   ],
   "metadata": {}
  },
  {
   "cell_type": "code",
   "source": [
    "unique_transactions = transactions \\\n",
    "    .groupby(['week', 'customer_id']) \\\n",
    "    .head(1) \\\n",
    "    .drop(columns=['article_id', 'price']) \\\n",
    "    .copy()"
   ],
   "metadata": {
    "execution": {
     "iopub.status.busy": "2023-12-04T18:54:59.571878Z",
     "iopub.execute_input": "2023-12-04T18:54:59.572247Z",
     "iopub.status.idle": "2023-12-04T18:55:00.202583Z",
     "shell.execute_reply.started": "2023-12-04T18:54:59.572198Z",
     "shell.execute_reply": "2023-12-04T18:55:00.201754Z"
    },
    "trusted": true
   },
   "execution_count": null,
   "outputs": []
  },
  {
   "cell_type": "code",
   "source": [
    "unique_transactions"
   ],
   "metadata": {
    "execution": {
     "iopub.status.busy": "2023-12-04T18:55:00.203972Z",
     "iopub.execute_input": "2023-12-04T18:55:00.204342Z",
     "iopub.status.idle": "2023-12-04T18:55:00.221868Z",
     "shell.execute_reply.started": "2023-12-04T18:55:00.204298Z",
     "shell.execute_reply": "2023-12-04T18:55:00.220992Z"
    },
    "trusted": true
   },
   "execution_count": null,
   "outputs": []
  },
  {
   "cell_type": "markdown",
   "source": [
    "drop all duplicate [week, customer] baskets from transactions"
   ],
   "metadata": {}
  },
  {
   "cell_type": "code",
   "source": [
    "transactions"
   ],
   "metadata": {
    "execution": {
     "iopub.status.busy": "2023-12-04T18:55:00.223297Z",
     "iopub.execute_input": "2023-12-04T18:55:00.223995Z",
     "iopub.status.idle": "2023-12-04T18:55:00.241244Z",
     "shell.execute_reply.started": "2023-12-04T18:55:00.223949Z",
     "shell.execute_reply": "2023-12-04T18:55:00.240501Z"
    },
    "trusted": true
   },
   "execution_count": null,
   "outputs": []
  },
  {
   "cell_type": "code",
   "source": [
    "transactions.drop_duplicates(['week', 'customer_id'])"
   ],
   "metadata": {
    "execution": {
     "iopub.status.busy": "2023-12-04T18:55:00.242496Z",
     "iopub.execute_input": "2023-12-04T18:55:00.243314Z",
     "iopub.status.idle": "2023-12-04T18:55:00.525262Z",
     "shell.execute_reply.started": "2023-12-04T18:55:00.243264Z",
     "shell.execute_reply": "2023-12-04T18:55:00.524229Z"
    },
    "trusted": true
   },
   "execution_count": null,
   "outputs": []
  },
  {
   "cell_type": "code",
   "source": [
    "transactions"
   ],
   "metadata": {
    "execution": {
     "iopub.status.busy": "2023-12-04T18:55:00.526548Z",
     "iopub.execute_input": "2023-12-04T18:55:00.526789Z",
     "iopub.status.idle": "2023-12-04T18:55:00.596530Z",
     "shell.execute_reply.started": "2023-12-04T18:55:00.526760Z",
     "shell.execute_reply": "2023-12-04T18:55:00.595679Z"
    },
    "trusted": true
   },
   "execution_count": null,
   "outputs": []
  },
  {
   "cell_type": "markdown",
   "source": [
    "bestsellers for each customer from previous week for all the weeks that are in the dataset"
   ],
   "metadata": {}
  },
  {
   "cell_type": "markdown",
   "source": [
    "### !!!FOR AGE GROUP MERGE ON AGE"
   ],
   "metadata": {}
  },
  {
   "cell_type": "code",
   "source": [
    "candidates_bestsellers = pd.merge(\n",
    "    unique_transactions,\n",
    "    bestsellers_previous_week,\n",
    "    on='week',\n",
    ")"
   ],
   "metadata": {
    "execution": {
     "iopub.status.busy": "2023-12-04T18:55:00.597788Z",
     "iopub.execute_input": "2023-12-04T18:55:00.598037Z",
     "iopub.status.idle": "2023-12-04T18:55:01.269551Z",
     "shell.execute_reply.started": "2023-12-04T18:55:00.598007Z",
     "shell.execute_reply": "2023-12-04T18:55:01.268492Z"
    },
    "trusted": true
   },
   "execution_count": null,
   "outputs": []
  },
  {
   "cell_type": "markdown",
   "source": [
    "make a set of users that would buy in the test week"
   ],
   "metadata": {}
  },
  {
   "cell_type": "code",
   "source": [
    "test_set_transactions = unique_transactions.drop_duplicates('customer_id').reset_index(drop=True)\n",
    "test_set_transactions.week = test_week"
   ],
   "metadata": {
    "execution": {
     "iopub.status.busy": "2023-12-04T18:55:01.271242Z",
     "iopub.execute_input": "2023-12-04T18:55:01.271901Z",
     "iopub.status.idle": "2023-12-04T18:55:01.379528Z",
     "shell.execute_reply.started": "2023-12-04T18:55:01.271846Z",
     "shell.execute_reply": "2023-12-04T18:55:01.378812Z"
    },
    "trusted": true
   },
   "execution_count": null,
   "outputs": []
  },
  {
   "cell_type": "code",
   "source": [
    "test_set_transactions"
   ],
   "metadata": {
    "execution": {
     "iopub.status.busy": "2023-12-04T18:55:01.380531Z",
     "iopub.execute_input": "2023-12-04T18:55:01.381021Z",
     "iopub.status.idle": "2023-12-04T18:55:01.397101Z",
     "shell.execute_reply.started": "2023-12-04T18:55:01.380986Z",
     "shell.execute_reply": "2023-12-04T18:55:01.396488Z"
    },
    "trusted": true
   },
   "execution_count": null,
   "outputs": []
  },
  {
   "cell_type": "markdown",
   "source": [
    "all the bestsellers based on the weeks for the test week"
   ],
   "metadata": {}
  },
  {
   "cell_type": "code",
   "source": [
    "candidates_bestsellers_test_week = pd.merge(\n",
    "    test_set_transactions,\n",
    "    bestsellers_previous_week,\n",
    "    on='week'\n",
    ")"
   ],
   "metadata": {
    "execution": {
     "iopub.status.busy": "2023-12-04T18:55:01.398184Z",
     "iopub.execute_input": "2023-12-04T18:55:01.398770Z",
     "iopub.status.idle": "2023-12-04T18:55:01.845672Z",
     "shell.execute_reply.started": "2023-12-04T18:55:01.398731Z",
     "shell.execute_reply": "2023-12-04T18:55:01.844768Z"
    },
    "trusted": true
   },
   "execution_count": null,
   "outputs": []
  },
  {
   "cell_type": "markdown",
   "source": [
    "combine both lists of bestsellers"
   ],
   "metadata": {}
  },
  {
   "cell_type": "code",
   "source": [
    "candidates_bestsellers = pd.concat([candidates_bestsellers, candidates_bestsellers_test_week])\n",
    "candidates_bestsellers.drop(columns='bestseller_rank', inplace=True)"
   ],
   "metadata": {
    "execution": {
     "iopub.status.busy": "2023-12-04T18:55:01.846795Z",
     "iopub.execute_input": "2023-12-04T18:55:01.847028Z",
     "iopub.status.idle": "2023-12-04T18:55:02.697293Z",
     "shell.execute_reply.started": "2023-12-04T18:55:01.846999Z",
     "shell.execute_reply": "2023-12-04T18:55:02.696461Z"
    },
    "trusted": true
   },
   "execution_count": null,
   "outputs": []
  },
  {
   "cell_type": "code",
   "source": [
    "candidates_bestsellers"
   ],
   "metadata": {
    "execution": {
     "iopub.status.busy": "2023-12-04T18:55:02.698448Z",
     "iopub.execute_input": "2023-12-04T18:55:02.698690Z",
     "iopub.status.idle": "2023-12-04T18:55:02.720023Z",
     "shell.execute_reply.started": "2023-12-04T18:55:02.698661Z",
     "shell.execute_reply": "2023-12-04T18:55:02.719115Z"
    },
    "trusted": true
   },
   "execution_count": null,
   "outputs": []
  },
  {
   "cell_type": "markdown",
   "source": [
    "# Making a Recall evaluation function\n",
    "For the recall evaluation we have several requirements that have to be met:\n",
    "* We need to compare two sets of items, the first being the items that are in fact bought, the other set of items is the set of items that are candidates for the predictions\n",
    "* Only compare recall -> amount of positives (candidates that are in fact bought) / total positives (amount of items bought)\n",
    "\n",
    "!! If we would be to generate more candidates, this would automatically grow as the chance we include one is bigger"
   ],
   "metadata": {}
  },
  {
   "cell_type": "markdown",
   "source": [
    "## Eerste eigen poging\n",
    "Dit is de code die ik schreef om de recall handmatig te berekenen. Dit is immens traag vanwege de loop en de aparte dataframes die worden aangemaakt daarvoor. Hieronder is een recall functie die geinspireerd is door die van Noah Daniels die gebruik maakt van table en array operaties die vele malen sneller zijn."
   ],
   "metadata": {}
  },
  {
   "cell_type": "code",
   "source": [
    "# function that returns the recall value \n",
    "# It returns None if the predicted week is not in the purchases set\n",
    "def recall (purchases, candidates):\n",
    "    # check if the test_week is the same as the most recent week in the predictions\n",
    "    if not candidates.week.max() == test_week:\n",
    "        print(\"There is something wrong with the predictions\")\n",
    "    \n",
    "    # check if the predicted week is in fact in the dataset\n",
    "    if test_week > absolute_max_week:\n",
    "        return None\n",
    "    \n",
    "    # Take the data in question\n",
    "    test_week_purchases = purchases[purchases.week == test_week]\n",
    "    test_week_candidates = candidates[candidates.week == test_week]\n",
    "    \n",
    "    # take all the users\n",
    "    users = test_week_purchases.customer_id.drop_duplicates()\n",
    "    \n",
    "    # start the total recall value which will be averaged out at the end\n",
    "    total_recall = 0\n",
    "    \n",
    "    # loop over all the users in this week\n",
    "    for user in users:\n",
    "        # get the corresponding purchases and candidates\n",
    "        user_purchases = test_week_purchases[test_week_purchases.customer_id == user]\n",
    "        user_candidates = test_week_candidates[test_week_candidates.customer_id == user]\n",
    "        \n",
    "        # get the article_ids in a Series\n",
    "        user_purchased_articles = user_purchases.article_id.drop_duplicates()\n",
    "        user_candidate_articles = user_candidates.article_id.drop_duplicates()\n",
    "        \n",
    "        # get the total positives\n",
    "        total_positives = user_purchased_articles.count()\n",
    "        \n",
    "        # get the true positives\n",
    "        intersection = user_candidate_articles[user_candidate_articles.isin(user_purchased_articles)]\n",
    "        true_positives = intersection.count()\n",
    "        \n",
    "        # calculate the recall value for this user and add it to the total\n",
    "        recall_value = true_positives / total_positives\n",
    "        total_recall += recall_value\n",
    "    \n",
    "    # take the average of the recalls and return it\n",
    "    total_recall = total_recall / users.count()\n",
    "    return total_recall\n",
    "        "
   ],
   "metadata": {
    "execution": {
     "iopub.status.busy": "2023-12-04T18:55:02.721449Z",
     "iopub.execute_input": "2023-12-04T18:55:02.721759Z",
     "iopub.status.idle": "2023-12-04T18:55:02.733335Z",
     "shell.execute_reply.started": "2023-12-04T18:55:02.721712Z",
     "shell.execute_reply": "2023-12-04T18:55:02.732393Z"
    },
    "trusted": true
   },
   "execution_count": null,
   "outputs": []
  },
  {
   "cell_type": "code",
   "source": [
    "# return the average recall of generated candidates versus the actual bought items\n",
    "def average_recall(purchases, candidates):\n",
    "    joined = pd.merge(purchases, candidates, how='inner').drop_duplicates()\n",
    "    true_positives = joined.groupby('customer_id').count()\n",
    "    total_positives = purchases.groupby('customer_id').count()\n",
    "    recall = true_positives.divide(total_positives, fill_value=0)\n",
    "    return recall.mean().values[0]"
   ],
   "metadata": {
    "execution": {
     "iopub.status.busy": "2023-12-04T18:55:02.734594Z",
     "iopub.execute_input": "2023-12-04T18:55:02.735442Z",
     "iopub.status.idle": "2023-12-04T18:55:02.747664Z",
     "shell.execute_reply.started": "2023-12-04T18:55:02.735403Z",
     "shell.execute_reply": "2023-12-04T18:55:02.746889Z"
    },
    "trusted": true
   },
   "execution_count": null,
   "outputs": []
  },
  {
   "cell_type": "code",
   "source": [
    "if not test_week > absolute_max_week:\n",
    "    purchases = test_week_transactions[test_week_transactions.week == test_week][['customer_id', 'article_id']].drop_duplicates()\n",
    "    candidates = candidates_bestsellers[candidates_bestsellers.week == test_week][['customer_id', 'article_id']].drop_duplicates()\n",
    "    print(average_recall(purchases, candidates))"
   ],
   "metadata": {
    "execution": {
     "iopub.status.busy": "2023-12-04T18:55:02.749242Z",
     "iopub.execute_input": "2023-12-04T18:55:02.749799Z",
     "iopub.status.idle": "2023-12-04T18:55:05.382351Z",
     "shell.execute_reply.started": "2023-12-04T18:55:02.749764Z",
     "shell.execute_reply": "2023-12-04T18:55:05.380973Z"
    },
    "trusted": true
   },
   "execution_count": null,
   "outputs": []
  },
  {
   "cell_type": "code",
   "source": [
    "# test = candidates_bestsellers[candidates_bestsellers.week == test_week].customer_id.drop_duplicates()\n",
    "# print(test.count())"
   ],
   "metadata": {
    "execution": {
     "iopub.status.busy": "2023-12-04T18:55:05.384004Z",
     "iopub.execute_input": "2023-12-04T18:55:05.385614Z",
     "iopub.status.idle": "2023-12-04T18:55:05.390771Z",
     "shell.execute_reply.started": "2023-12-04T18:55:05.385555Z",
     "shell.execute_reply": "2023-12-04T18:55:05.389528Z"
    },
    "trusted": true
   },
   "execution_count": null,
   "outputs": []
  },
  {
   "cell_type": "markdown",
   "source": [
    "# Making a new group of candidates based on age group\n",
    "First make a new column and then apply the same process but instead group on both the age group and the "
   ],
   "metadata": {}
  },
  {
   "cell_type": "code",
   "source": [
    "# define age groups\n",
    "def get_age_group(age):\n",
    "    if age < 18:\n",
    "        return 0\n",
    "    elif age >= 18 and age < 25:\n",
    "        return 1\n",
    "    elif age >= 25 and age < 35:\n",
    "        return 2\n",
    "    elif age >= 35 and age < 45:\n",
    "        return 3\n",
    "    elif age >= 45 and age < 55:\n",
    "        return 4\n",
    "    elif age >= 55 and age < 65:\n",
    "        return 5\n",
    "    else:\n",
    "        return 6"
   ],
   "metadata": {
    "execution": {
     "iopub.status.busy": "2023-12-04T18:55:05.392205Z",
     "iopub.execute_input": "2023-12-04T18:55:05.392578Z",
     "iopub.status.idle": "2023-12-04T18:55:05.404578Z",
     "shell.execute_reply.started": "2023-12-04T18:55:05.392517Z",
     "shell.execute_reply": "2023-12-04T18:55:05.403885Z"
    },
    "trusted": true
   },
   "execution_count": null,
   "outputs": []
  },
  {
   "cell_type": "markdown",
   "source": [
    "Created a function to apply on the ages in the table. Then created a new column containing this. \n",
    "For now the age groups are strings, this means they cannot be used as features in the ranker model."
   ],
   "metadata": {
    "collapsed": false
   }
  },
  {
   "cell_type": "code",
   "source": [
    "#apply the age groups on transactions\n",
    "customers[\"age_group\"] = customers[\"age\"].apply(get_age_group)"
   ],
   "metadata": {
    "execution": {
     "iopub.status.busy": "2023-12-04T18:55:05.406309Z",
     "iopub.execute_input": "2023-12-04T18:55:05.406963Z",
     "iopub.status.idle": "2023-12-04T18:55:06.730874Z",
     "shell.execute_reply.started": "2023-12-04T18:55:05.406912Z",
     "shell.execute_reply": "2023-12-04T18:55:06.730210Z"
    },
    "trusted": true
   },
   "execution_count": null,
   "outputs": []
  },
  {
   "cell_type": "markdown",
   "source": [
    "## Now make a similar popularity calculation with respect to the age_group popularity \n",
    "(how popular is the item in a certain age_group that week)\n",
    "Then calculate similarly and evaluate"
   ],
   "metadata": {}
  },
  {
   "cell_type": "code",
   "source": [
    "# firstly take the age_groups and the cutomer ids\n",
    "age_groups_customers = customers[['customer_id', 'age_group']].drop_duplicates()\n",
    "\n",
    "# now join them into the transactions to create a new transactions set to work with\n",
    "age_group_transactions = pd.merge(transactions, age_groups_customers)\n",
    "# now the age_group is included, we will have to change some values and names to ensure this is used"
   ],
   "metadata": {
    "execution": {
     "iopub.status.busy": "2023-12-04T18:55:06.732610Z",
     "iopub.execute_input": "2023-12-04T18:55:06.733269Z",
     "iopub.status.idle": "2023-12-04T18:55:07.868647Z",
     "shell.execute_reply.started": "2023-12-04T18:55:06.733212Z",
     "shell.execute_reply": "2023-12-04T18:55:07.867918Z"
    },
    "trusted": true
   },
   "execution_count": null,
   "outputs": []
  },
  {
   "cell_type": "code",
   "source": [
    "# Group the mean_price not per week/article but by week/article/age_group\n",
    "# this is so we know\n",
    "mean_price_age_group = age_group_transactions \\\n",
    "    .groupby(['week', 'age_group', 'article_id'])['price'].mean()\n",
    "\n",
    "# group the sales by week AND the age group and so find the most popular article for each age group in each week\n",
    "sales_age_group = age_group_transactions \\\n",
    "    .groupby(['week', 'age_group'])['article_id'].value_counts() \\\n",
    "    .groupby(['week', 'age_group']).rank(method='dense', ascending=False) \\\n",
    "    .groupby(['week', 'age_group']).head(12).rename('age_group_bestseller_rank').astype('int8')"
   ],
   "metadata": {
    "execution": {
     "iopub.status.busy": "2023-12-04T18:55:07.870388Z",
     "iopub.execute_input": "2023-12-04T18:55:07.870985Z",
     "iopub.status.idle": "2023-12-04T18:55:09.716385Z",
     "shell.execute_reply.started": "2023-12-04T18:55:07.870936Z",
     "shell.execute_reply": "2023-12-04T18:55:09.715687Z"
    },
    "trusted": true
   },
   "execution_count": null,
   "outputs": []
  },
  {
   "cell_type": "code",
   "source": [
    "mean_price_age_group"
   ],
   "metadata": {
    "execution": {
     "iopub.status.busy": "2023-12-04T18:55:09.717998Z",
     "iopub.execute_input": "2023-12-04T18:55:09.718617Z",
     "iopub.status.idle": "2023-12-04T18:55:09.729923Z",
     "shell.execute_reply.started": "2023-12-04T18:55:09.718569Z",
     "shell.execute_reply": "2023-12-04T18:55:09.729080Z"
    },
    "trusted": true
   },
   "execution_count": null,
   "outputs": []
  },
  {
   "cell_type": "code",
   "source": [
    "sales_age_group"
   ],
   "metadata": {
    "execution": {
     "iopub.status.busy": "2023-12-04T18:55:09.736641Z",
     "iopub.execute_input": "2023-12-04T18:55:09.736930Z",
     "iopub.status.idle": "2023-12-04T18:55:09.748582Z",
     "shell.execute_reply.started": "2023-12-04T18:55:09.736881Z",
     "shell.execute_reply": "2023-12-04T18:55:09.747646Z"
    },
    "trusted": true
   },
   "execution_count": null,
   "outputs": []
  },
  {
   "cell_type": "code",
   "source": [
    "# now calculate the bestsellers for these week - age_group combos\n",
    "bestsellers_previous_week_age_group = pd.merge(sales_age_group, mean_price_age_group, on=['week', 'age_group', 'article_id']).reset_index()\n",
    "bestsellers_previous_week_age_group.week += 1"
   ],
   "metadata": {
    "execution": {
     "iopub.status.busy": "2023-12-04T18:55:09.750028Z",
     "iopub.execute_input": "2023-12-04T18:55:09.750666Z",
     "iopub.status.idle": "2023-12-04T18:55:09.852570Z",
     "shell.execute_reply.started": "2023-12-04T18:55:09.750616Z",
     "shell.execute_reply": "2023-12-04T18:55:09.851754Z"
    },
    "trusted": true
   },
   "execution_count": null,
   "outputs": []
  },
  {
   "cell_type": "code",
   "source": [
    "bestsellers_previous_week_age_group.pipe(lambda df: df[(df['week']==96) & (df['age_group']=='18-24')])"
   ],
   "metadata": {
    "execution": {
     "iopub.status.busy": "2023-12-04T18:55:09.853818Z",
     "iopub.execute_input": "2023-12-04T18:55:09.854073Z",
     "iopub.status.idle": "2023-12-04T18:55:09.867480Z",
     "shell.execute_reply.started": "2023-12-04T18:55:09.854044Z",
     "shell.execute_reply": "2023-12-04T18:55:09.866377Z"
    },
    "trusted": true
   },
   "execution_count": null,
   "outputs": []
  },
  {
   "cell_type": "code",
   "source": [
    "unique_age_group_transactions = age_group_transactions \\\n",
    "    .groupby(['week', 'customer_id']) \\\n",
    "    .head(1) \\\n",
    "    .drop(columns=['article_id', 'price']) \\\n",
    "    .copy()"
   ],
   "metadata": {
    "execution": {
     "iopub.status.busy": "2023-12-04T18:55:09.868935Z",
     "iopub.execute_input": "2023-12-04T18:55:09.869249Z",
     "iopub.status.idle": "2023-12-04T18:55:10.529298Z",
     "shell.execute_reply.started": "2023-12-04T18:55:09.869192Z",
     "shell.execute_reply": "2023-12-04T18:55:10.528495Z"
    },
    "trusted": true
   },
   "execution_count": null,
   "outputs": []
  },
  {
   "cell_type": "code",
   "source": [
    "age_group_candidates_bestsellers = pd.merge(\n",
    "    unique_age_group_transactions,\n",
    "    bestsellers_previous_week_age_group,\n",
    "    on=['week', 'age_group'],\n",
    ")"
   ],
   "metadata": {
    "execution": {
     "iopub.status.busy": "2023-12-04T18:55:10.530586Z",
     "iopub.execute_input": "2023-12-04T18:55:10.530846Z",
     "iopub.status.idle": "2023-12-04T18:55:11.291292Z",
     "shell.execute_reply.started": "2023-12-04T18:55:10.530816Z",
     "shell.execute_reply": "2023-12-04T18:55:11.290451Z"
    },
    "trusted": true
   },
   "execution_count": null,
   "outputs": []
  },
  {
   "cell_type": "code",
   "source": [
    "test_set_age_group_transactions = unique_age_group_transactions.drop_duplicates('customer_id').reset_index(drop=True)\n",
    "test_set_age_group_transactions.week = test_week"
   ],
   "metadata": {
    "execution": {
     "iopub.status.busy": "2023-12-04T18:55:11.292730Z",
     "iopub.execute_input": "2023-12-04T18:55:11.293297Z",
     "iopub.status.idle": "2023-12-04T18:55:11.372916Z",
     "shell.execute_reply.started": "2023-12-04T18:55:11.293245Z",
     "shell.execute_reply": "2023-12-04T18:55:11.372092Z"
    },
    "trusted": true
   },
   "execution_count": null,
   "outputs": []
  },
  {
   "cell_type": "code",
   "source": [
    "age_group_candidates_bestsellers_test_week = pd.merge(\n",
    "    test_set_age_group_transactions,\n",
    "    bestsellers_previous_week_age_group,\n",
    "    on=['week', 'age_group'],\n",
    ")"
   ],
   "metadata": {
    "execution": {
     "iopub.status.busy": "2023-12-04T18:55:11.374315Z",
     "iopub.execute_input": "2023-12-04T18:55:11.374651Z",
     "iopub.status.idle": "2023-12-04T18:55:11.875623Z",
     "shell.execute_reply.started": "2023-12-04T18:55:11.374609Z",
     "shell.execute_reply": "2023-12-04T18:55:11.874664Z"
    },
    "trusted": true
   },
   "execution_count": null,
   "outputs": []
  },
  {
   "cell_type": "code",
   "source": [
    "age_group_candidates_bestsellers = pd.concat([age_group_candidates_bestsellers, age_group_candidates_bestsellers_test_week])\n",
    "age_group_candidates_bestsellers.drop(columns='age_group_bestseller_rank', inplace=True)"
   ],
   "metadata": {
    "execution": {
     "iopub.status.busy": "2023-12-04T18:55:11.876720Z",
     "iopub.execute_input": "2023-12-04T18:55:11.876947Z",
     "iopub.status.idle": "2023-12-04T18:55:12.993142Z",
     "shell.execute_reply.started": "2023-12-04T18:55:11.876918Z",
     "shell.execute_reply": "2023-12-04T18:55:12.992325Z"
    },
    "trusted": true
   },
   "execution_count": null,
   "outputs": []
  },
  {
   "cell_type": "code",
   "source": [
    "age_group_candidates_bestsellers"
   ],
   "metadata": {
    "execution": {
     "iopub.status.busy": "2023-12-04T18:55:12.995443Z",
     "iopub.execute_input": "2023-12-04T18:55:12.995809Z",
     "iopub.status.idle": "2023-12-04T18:55:13.017162Z",
     "shell.execute_reply.started": "2023-12-04T18:55:12.995762Z",
     "shell.execute_reply": "2023-12-04T18:55:13.016119Z"
    },
    "trusted": true
   },
   "execution_count": null,
   "outputs": []
  },
  {
   "cell_type": "markdown",
   "source": [
    "# Check The Recall"
   ],
   "metadata": {}
  },
  {
   "cell_type": "code",
   "source": [
    "if not test_week > absolute_max_week:\n",
    "    purchases = test_week_transactions[test_week_transactions.week == test_week][['customer_id', 'article_id']].drop_duplicates()\n",
    "    candidates = age_group_candidates_bestsellers[age_group_candidates_bestsellers.week == test_week][['customer_id', 'article_id']].drop_duplicates()\n",
    "    print(average_recall(purchases, candidates))"
   ],
   "metadata": {
    "execution": {
     "iopub.status.busy": "2023-12-04T18:55:13.018486Z",
     "iopub.execute_input": "2023-12-04T18:55:13.018833Z",
     "iopub.status.idle": "2023-12-04T18:55:15.881192Z",
     "shell.execute_reply.started": "2023-12-04T18:55:13.018799Z",
     "shell.execute_reply": "2023-12-04T18:55:15.880203Z"
    },
    "trusted": true
   },
   "execution_count": null,
   "outputs": []
  },
  {
   "cell_type": "markdown",
   "source": [
    "1. # My code\n",
    "First a bit of encoding. We will change the missing age value to the median. "
   ],
   "metadata": {}
  },
  {
   "cell_type": "code",
   "source": [
    "# from sklearn.preprocessing import StandardScaler\n",
    "# scaler = StandardScaler()\n",
    "# scaler.fit_transform(train['age'])\n",
    "\n",
    "ages_copy = customers[customers.age != -1].copy()\n",
    "median_age = ages_copy['age'].median()\n",
    "median_age"
   ],
   "metadata": {
    "execution": {
     "iopub.status.busy": "2023-12-04T18:55:15.882448Z",
     "iopub.execute_input": "2023-12-04T18:55:15.882701Z",
     "iopub.status.idle": "2023-12-04T18:55:15.991897Z",
     "shell.execute_reply.started": "2023-12-04T18:55:15.882669Z",
     "shell.execute_reply": "2023-12-04T18:55:15.990983Z"
    },
    "trusted": true
   },
   "execution_count": null,
   "outputs": []
  },
  {
   "cell_type": "code",
   "source": [
    "customers.loc[customers['age'] == -1] = median_age \n",
    "customers['age'].min()"
   ],
   "metadata": {
    "execution": {
     "iopub.status.busy": "2023-12-04T18:55:15.993735Z",
     "iopub.execute_input": "2023-12-04T18:55:15.994341Z",
     "iopub.status.idle": "2023-12-04T18:55:16.029122Z",
     "shell.execute_reply.started": "2023-12-04T18:55:15.994290Z",
     "shell.execute_reply": "2023-12-04T18:55:16.028124Z"
    },
    "trusted": true
   },
   "execution_count": null,
   "outputs": []
  },
  {
   "cell_type": "markdown",
   "source": [
    "## Most popular item types"
   ],
   "metadata": {}
  },
  {
   "cell_type": "code",
   "source": [
    "# transactions.loc[:'year'] = transactions['t_dat'].dt.year\n",
    "# transactions['year'].value_counts()"
   ],
   "metadata": {
    "execution": {
     "iopub.status.busy": "2023-12-04T18:55:16.031953Z",
     "iopub.execute_input": "2023-12-04T18:55:16.032599Z",
     "iopub.status.idle": "2023-12-04T18:55:16.036672Z",
     "shell.execute_reply.started": "2023-12-04T18:55:16.032549Z",
     "shell.execute_reply": "2023-12-04T18:55:16.035789Z"
    },
    "trusted": true
   },
   "execution_count": null,
   "outputs": []
  },
  {
   "cell_type": "markdown",
   "source": [
    "## Find the most bought color for a user\n",
    "We want to know the favourite color of the user based on the items bought."
   ],
   "metadata": {}
  },
  {
   "cell_type": "code",
   "source": [
    "articles_and_transactions = pd.merge(articles, transactions, on=\"article_id\")\n",
    "pop_colors = articles_and_transactions.groupby('customer_id')['colour_group_code'].value_counts().groupby('customer_id').rank(method='dense', ascending=False) \\\n",
    "    .groupby('customer_id').head(12).rename('favourite_color').astype('int8')"
   ],
   "metadata": {
    "execution": {
     "iopub.status.busy": "2023-12-04T18:55:16.038741Z",
     "iopub.execute_input": "2023-12-04T18:55:16.039170Z",
     "iopub.status.idle": "2023-12-04T18:55:20.586080Z",
     "shell.execute_reply.started": "2023-12-04T18:55:16.039100Z",
     "shell.execute_reply": "2023-12-04T18:55:20.584933Z"
    },
    "trusted": true
   },
   "execution_count": null,
   "outputs": []
  },
  {
   "cell_type": "code",
   "source": [
    "pop_colors"
   ],
   "metadata": {
    "execution": {
     "iopub.status.busy": "2023-12-04T18:55:20.587247Z",
     "iopub.execute_input": "2023-12-04T18:55:20.587489Z",
     "iopub.status.idle": "2023-12-04T18:55:20.598529Z",
     "shell.execute_reply.started": "2023-12-04T18:55:20.587458Z",
     "shell.execute_reply": "2023-12-04T18:55:20.597546Z"
    },
    "trusted": true
   },
   "execution_count": null,
   "outputs": []
  },
  {
   "cell_type": "markdown",
   "source": [
    "# Combining transactions and candidates / negative examples"
   ],
   "metadata": {}
  },
  {
   "cell_type": "markdown",
   "source": [
    "## what are they doing here?"
   ],
   "metadata": {}
  },
  {
   "cell_type": "code",
   "source": [
    "age_group_transactions['purchased'] = 1"
   ],
   "metadata": {
    "execution": {
     "iopub.status.busy": "2023-12-04T18:55:20.600059Z",
     "iopub.execute_input": "2023-12-04T18:55:20.600578Z",
     "iopub.status.idle": "2023-12-04T18:55:20.612531Z",
     "shell.execute_reply.started": "2023-12-04T18:55:20.600530Z",
     "shell.execute_reply": "2023-12-04T18:55:20.611712Z"
    },
    "trusted": true
   },
   "execution_count": null,
   "outputs": []
  },
  {
   "cell_type": "code",
   "source": [
    "data = pd.concat([age_group_transactions, candidates_last_purchase, candidates_bestsellers, age_group_candidates_bestsellers])\n",
    "data.purchased.fillna(0, inplace=True)"
   ],
   "metadata": {
    "execution": {
     "iopub.status.busy": "2023-12-04T18:55:20.614294Z",
     "iopub.execute_input": "2023-12-04T18:55:20.614631Z",
     "iopub.status.idle": "2023-12-04T18:55:21.931025Z",
     "shell.execute_reply.started": "2023-12-04T18:55:20.614587Z",
     "shell.execute_reply": "2023-12-04T18:55:21.930338Z"
    },
    "trusted": true
   },
   "execution_count": null,
   "outputs": []
  },
  {
   "cell_type": "markdown",
   "source": [
    "The age_group has many NaN values"
   ],
   "metadata": {}
  },
  {
   "cell_type": "code",
   "source": [
    "data.isna().sum()"
   ],
   "metadata": {
    "execution": {
     "iopub.status.busy": "2023-12-04T18:55:21.932471Z",
     "iopub.execute_input": "2023-12-04T18:55:21.932804Z",
     "iopub.status.idle": "2023-12-04T18:55:22.378049Z",
     "shell.execute_reply.started": "2023-12-04T18:55:21.932755Z",
     "shell.execute_reply": "2023-12-04T18:55:22.376207Z"
    },
    "trusted": true
   },
   "execution_count": null,
   "outputs": []
  },
  {
   "cell_type": "markdown",
   "source": [
    "## checking for NAN age groups\n",
    "here the results showed that there were NAN values in the age groups"
   ],
   "metadata": {
    "collapsed": false
   }
  },
  {
   "cell_type": "code",
   "source": [
    "data.drop_duplicates(['customer_id', 'article_id', 'week'], inplace=True)"
   ],
   "metadata": {
    "execution": {
     "iopub.status.busy": "2023-12-04T18:55:22.380173Z",
     "iopub.execute_input": "2023-12-04T18:55:22.380509Z",
     "iopub.status.idle": "2023-12-04T18:55:31.778634Z",
     "shell.execute_reply.started": "2023-12-04T18:55:22.380464Z",
     "shell.execute_reply": "2023-12-04T18:55:31.777779Z"
    },
    "trusted": true
   },
   "execution_count": null,
   "outputs": []
  },
  {
   "cell_type": "code",
   "source": [
    "data.purchased.mean()"
   ],
   "metadata": {
    "execution": {
     "iopub.status.busy": "2023-12-04T18:55:31.780075Z",
     "iopub.execute_input": "2023-12-04T18:55:31.780442Z",
     "iopub.status.idle": "2023-12-04T18:55:31.854816Z",
     "shell.execute_reply.started": "2023-12-04T18:55:31.780395Z",
     "shell.execute_reply": "2023-12-04T18:55:31.853924Z"
    },
    "trusted": true
   },
   "execution_count": null,
   "outputs": []
  },
  {
   "cell_type": "markdown",
   "source": [
    "### Add bestseller information"
   ],
   "metadata": {}
  },
  {
   "cell_type": "markdown",
   "source": [
    "## why add the bestseller this way? How to do with age_group"
   ],
   "metadata": {}
  },
  {
   "cell_type": "code",
   "source": [
    "data = pd.merge(\n",
    "    data,\n",
    "    bestsellers_previous_week[['week', 'article_id', 'bestseller_rank']],\n",
    "    on=['week', 'article_id'],\n",
    "    how='left'\n",
    ")"
   ],
   "metadata": {
    "execution": {
     "iopub.status.busy": "2023-12-04T18:55:31.856299Z",
     "iopub.execute_input": "2023-12-04T18:55:31.856644Z",
     "iopub.status.idle": "2023-12-04T18:55:36.894212Z",
     "shell.execute_reply.started": "2023-12-04T18:55:31.856594Z",
     "shell.execute_reply": "2023-12-04T18:55:36.893203Z"
    },
    "trusted": true
   },
   "execution_count": null,
   "outputs": []
  },
  {
   "cell_type": "code",
   "source": [
    "data = data[data.week != data.week.min()]\n",
    "data.bestseller_rank.fillna(999, inplace=True)"
   ],
   "metadata": {
    "execution": {
     "iopub.status.busy": "2023-12-04T18:55:36.896272Z",
     "iopub.execute_input": "2023-12-04T18:55:36.896614Z",
     "iopub.status.idle": "2023-12-04T18:55:39.471730Z",
     "shell.execute_reply.started": "2023-12-04T18:55:36.896567Z",
     "shell.execute_reply": "2023-12-04T18:55:39.470715Z"
    },
    "trusted": true
   },
   "execution_count": null,
   "outputs": []
  },
  {
   "cell_type": "code",
   "source": [
    "data"
   ],
   "metadata": {
    "execution": {
     "iopub.status.busy": "2023-12-04T18:55:39.473110Z",
     "iopub.execute_input": "2023-12-04T18:55:39.473432Z",
     "iopub.status.idle": "2023-12-04T18:55:39.498692Z",
     "shell.execute_reply.started": "2023-12-04T18:55:39.473397Z",
     "shell.execute_reply": "2023-12-04T18:55:39.498061Z"
    },
    "trusted": true
   },
   "execution_count": null,
   "outputs": []
  },
  {
   "cell_type": "markdown",
   "source": [
    "Does age_group need to be included in the other bestseller ranking?"
   ],
   "metadata": {}
  },
  {
   "cell_type": "code",
   "source": [
    "# merge the data with the bestsellers information from the age_group popularity study\n",
    "data = pd.merge(\n",
    "    data,\n",
    "    bestsellers_previous_week_age_group[['week', 'age_group', 'article_id', 'age_group_bestseller_rank']],\n",
    "    on=['week', 'age_group', 'article_id'],\n",
    "    how='left'\n",
    ")"
   ],
   "metadata": {
    "execution": {
     "iopub.status.busy": "2023-12-04T18:55:39.499700Z",
     "iopub.execute_input": "2023-12-04T18:55:39.500545Z",
     "iopub.status.idle": "2023-12-04T18:55:49.528589Z",
     "shell.execute_reply.started": "2023-12-04T18:55:39.500492Z",
     "shell.execute_reply": "2023-12-04T18:55:49.527544Z"
    },
    "trusted": true
   },
   "execution_count": null,
   "outputs": []
  },
  {
   "cell_type": "code",
   "source": [
    "data = data[data.week != data.week.min()]\n",
    "data.age_group_bestseller_rank.fillna(999, inplace=True)"
   ],
   "metadata": {
    "execution": {
     "iopub.status.busy": "2023-12-04T18:55:49.530397Z",
     "iopub.execute_input": "2023-12-04T18:55:49.530670Z",
     "iopub.status.idle": "2023-12-04T18:55:52.427300Z",
     "shell.execute_reply.started": "2023-12-04T18:55:49.530637Z",
     "shell.execute_reply": "2023-12-04T18:55:52.426459Z"
    },
    "trusted": true
   },
   "execution_count": null,
   "outputs": []
  },
  {
   "cell_type": "markdown",
   "source": [
    "Merging the age group bestsellers in the same way as normal bestsellers should result in normal outputs. \n",
    "Only this would then be improved as the recall was higher.\n",
    "\n",
    "If you look closely the data is first concatenated and then merged on age groups. But the non age group sources like repurchase do not have these age groups. They are NAN values and aren't merged correctly and later are wrongly used during training."
   ],
   "metadata": {
    "collapsed": false
   }
  },
  {
   "cell_type": "code",
   "source": [
    "data = pd.merge(data, articles, on='article_id', how='left')\n",
    "data = pd.merge(data, customers, on=['customer_id', 'age_group'], how='left')"
   ],
   "metadata": {
    "execution": {
     "iopub.status.busy": "2023-12-04T18:55:52.428684Z",
     "iopub.execute_input": "2023-12-04T18:55:52.428925Z",
     "iopub.status.idle": "2023-12-04T18:56:31.013164Z",
     "shell.execute_reply.started": "2023-12-04T18:55:52.428896Z",
     "shell.execute_reply": "2023-12-04T18:56:31.012081Z"
    },
    "trusted": true
   },
   "execution_count": null,
   "outputs": []
  },
  {
   "cell_type": "code",
   "source": [
    "data.sort_values(['week', 'customer_id'], inplace=True)\n",
    "data.reset_index(drop=True, inplace=True)"
   ],
   "metadata": {
    "execution": {
     "iopub.status.busy": "2023-12-04T18:56:31.014863Z",
     "iopub.execute_input": "2023-12-04T18:56:31.018413Z",
     "iopub.status.idle": "2023-12-04T18:56:39.971725Z",
     "shell.execute_reply.started": "2023-12-04T18:56:31.018356Z",
     "shell.execute_reply": "2023-12-04T18:56:39.970915Z"
    },
    "trusted": true
   },
   "execution_count": null,
   "outputs": []
  },
  {
   "cell_type": "markdown",
   "source": [
    "# my code"
   ],
   "metadata": {}
  },
  {
   "cell_type": "code",
   "source": [
    "# make a copy of the date column\n",
    "# we use the date column to replace it with the days  so we still have the date, but now have a day column\n",
    "data[\"day\"] = data.loc[:,\"t_dat\"]\n",
    "data.loc[:, \"day\"] = data[\"day\"].dt.day\n",
    "data[\"day\"].value_counts()"
   ],
   "metadata": {
    "execution": {
     "iopub.status.busy": "2023-12-04T18:56:39.972790Z",
     "iopub.execute_input": "2023-12-04T18:56:39.973038Z",
     "iopub.status.idle": "2023-12-04T18:56:42.371216Z",
     "shell.execute_reply.started": "2023-12-04T18:56:39.973009Z",
     "shell.execute_reply": "2023-12-04T18:56:42.370220Z"
    },
    "trusted": true
   },
   "execution_count": null,
   "outputs": []
  },
  {
   "cell_type": "code",
   "source": [
    "data[\"t_dat\"].value_counts()"
   ],
   "metadata": {
    "execution": {
     "iopub.status.busy": "2023-12-04T18:56:42.372840Z",
     "iopub.execute_input": "2023-12-04T18:56:42.373303Z",
     "iopub.status.idle": "2023-12-04T18:56:42.567027Z",
     "shell.execute_reply.started": "2023-12-04T18:56:42.373254Z",
     "shell.execute_reply": "2023-12-04T18:56:42.566323Z"
    },
    "trusted": true
   },
   "execution_count": null,
   "outputs": []
  },
  {
   "cell_type": "code",
   "source": [
    "data.loc[:, \"day_sin\"] = np.sin(2 * np.pi * data[\"day\"]/365)\n",
    "data[\"day_sin\"]"
   ],
   "metadata": {
    "execution": {
     "iopub.status.busy": "2023-12-04T18:56:42.568121Z",
     "iopub.execute_input": "2023-12-04T18:56:42.569193Z",
     "iopub.status.idle": "2023-12-04T18:56:42.956506Z",
     "shell.execute_reply.started": "2023-12-04T18:56:42.569151Z",
     "shell.execute_reply": "2023-12-04T18:56:42.955594Z"
    },
    "trusted": true
   },
   "execution_count": null,
   "outputs": []
  },
  {
   "cell_type": "code",
   "source": [
    "data.loc[:, \"day_cos\"] = np.cos(2 * np.pi * data[\"day\"]/365)\n",
    "data[\"day_sin\"]"
   ],
   "metadata": {
    "execution": {
     "iopub.status.busy": "2023-12-04T18:56:42.957919Z",
     "iopub.execute_input": "2023-12-04T18:56:42.958307Z",
     "iopub.status.idle": "2023-12-04T18:56:43.328795Z",
     "shell.execute_reply.started": "2023-12-04T18:56:42.958260Z",
     "shell.execute_reply": "2023-12-04T18:56:43.327913Z"
    },
    "trusted": true
   },
   "execution_count": null,
   "outputs": []
  },
  {
   "cell_type": "code",
   "source": [
    "train = data[data.week != test_week]\n",
    "test = data[data.week==test_week].drop_duplicates(['customer_id', 'article_id', 'sales_channel_id']).copy()"
   ],
   "metadata": {
    "execution": {
     "iopub.status.busy": "2023-12-04T18:56:43.329970Z",
     "iopub.execute_input": "2023-12-04T18:56:43.330230Z",
     "iopub.status.idle": "2023-12-04T18:56:55.983689Z",
     "shell.execute_reply.started": "2023-12-04T18:56:43.330200Z",
     "shell.execute_reply": "2023-12-04T18:56:55.982697Z"
    },
    "trusted": true
   },
   "execution_count": null,
   "outputs": []
  },
  {
   "cell_type": "code",
   "source": [
    "train_baskets = train.groupby(['week', 'customer_id'])['article_id'].count().values"
   ],
   "metadata": {
    "execution": {
     "iopub.status.busy": "2023-12-04T18:56:55.984939Z",
     "iopub.execute_input": "2023-12-04T18:56:55.985228Z",
     "iopub.status.idle": "2023-12-04T18:56:57.035525Z",
     "shell.execute_reply.started": "2023-12-04T18:56:55.985194Z",
     "shell.execute_reply": "2023-12-04T18:56:57.034812Z"
    },
    "trusted": true
   },
   "execution_count": null,
   "outputs": []
  },
  {
   "cell_type": "code",
   "source": [
    "train.columns"
   ],
   "metadata": {
    "execution": {
     "iopub.status.busy": "2023-12-04T18:56:57.036764Z",
     "iopub.execute_input": "2023-12-04T18:56:57.037755Z",
     "iopub.status.idle": "2023-12-04T18:56:57.044826Z",
     "shell.execute_reply.started": "2023-12-04T18:56:57.037696Z",
     "shell.execute_reply": "2023-12-04T18:56:57.043800Z"
    },
    "trusted": true
   },
   "execution_count": null,
   "outputs": []
  },
  {
   "cell_type": "markdown",
   "source": [
    "### change to the columns\n",
    "after an attempt of using only age group bestseller rank, which lowered the results, I thought to maybe add the age groups as well. This later proved to be redundant, but at this moment resulted in a very (false) promising result in importance scores"
   ],
   "metadata": {
    "collapsed": false
   }
  },
  {
   "cell_type": "code",
   "source": [
    "columns_to_use = ['article_id', 'product_type_no', 'graphical_appearance_no', 'colour_group_code', 'perceived_colour_value_id',\n",
    "'perceived_colour_master_id', 'department_no', 'index_code',\n",
    "'index_group_no', 'section_no', 'garment_group_no', 'FN', 'Active',\n",
    "'club_member_status', 'fashion_news_frequency', 'age', 'postal_code', 'bestseller_rank', 'age_group_bestseller_rank', 'age_group']"
   ],
   "metadata": {
    "execution": {
     "iopub.status.busy": "2023-12-04T18:56:57.046167Z",
     "iopub.execute_input": "2023-12-04T18:56:57.046497Z",
     "iopub.status.idle": "2023-12-04T18:56:57.056333Z",
     "shell.execute_reply.started": "2023-12-04T18:56:57.046466Z",
     "shell.execute_reply": "2023-12-04T18:56:57.055396Z"
    },
    "trusted": true
   },
   "execution_count": null,
   "outputs": []
  },
  {
   "cell_type": "code",
   "source": [
    "%%time\n",
    "\n",
    "train_X = train[columns_to_use]\n",
    "train_y = train['purchased']\n",
    "\n",
    "test_X = test[columns_to_use]"
   ],
   "metadata": {
    "execution": {
     "iopub.status.busy": "2023-12-04T18:56:57.057573Z",
     "iopub.execute_input": "2023-12-04T18:56:57.057846Z",
     "iopub.status.idle": "2023-12-04T18:56:58.068502Z",
     "shell.execute_reply.started": "2023-12-04T18:56:57.057812Z",
     "shell.execute_reply": "2023-12-04T18:56:58.067789Z"
    },
    "trusted": true
   },
   "execution_count": null,
   "outputs": []
  },
  {
   "cell_type": "markdown",
   "source": [
    "# Model training"
   ],
   "metadata": {}
  },
  {
   "cell_type": "code",
   "source": [
    "from lightgbm.sklearn import LGBMRanker"
   ],
   "metadata": {
    "execution": {
     "iopub.status.busy": "2023-12-04T18:56:58.069528Z",
     "iopub.execute_input": "2023-12-04T18:56:58.070218Z",
     "iopub.status.idle": "2023-12-04T18:56:59.156982Z",
     "shell.execute_reply.started": "2023-12-04T18:56:58.070172Z",
     "shell.execute_reply": "2023-12-04T18:56:59.156162Z"
    },
    "trusted": true
   },
   "execution_count": null,
   "outputs": []
  },
  {
   "cell_type": "code",
   "source": [
    "ranker = LGBMRanker(\n",
    "    objective=\"lambdarank\",\n",
    "    metric=\"ndcg\",\n",
    "    boosting_type=\"dart\",\n",
    "    n_estimators=1,\n",
    "    importance_type='gain',\n",
    "    verbose=10\n",
    ")"
   ],
   "metadata": {
    "execution": {
     "iopub.status.busy": "2023-12-04T18:56:59.158105Z",
     "iopub.execute_input": "2023-12-04T18:56:59.158412Z",
     "iopub.status.idle": "2023-12-04T18:56:59.163787Z",
     "shell.execute_reply.started": "2023-12-04T18:56:59.158379Z",
     "shell.execute_reply": "2023-12-04T18:56:59.162852Z"
    },
    "trusted": true
   },
   "execution_count": null,
   "outputs": []
  },
  {
   "cell_type": "code",
   "source": [
    "%%time\n",
    "\n",
    "ranker = ranker.fit(\n",
    "    train_X,\n",
    "    train_y,\n",
    "    group=train_baskets,\n",
    ")"
   ],
   "metadata": {
    "execution": {
     "iopub.status.busy": "2023-12-04T18:56:59.165292Z",
     "iopub.execute_input": "2023-12-04T18:56:59.166343Z",
     "iopub.status.idle": "2023-12-04T18:57:11.720489Z",
     "shell.execute_reply.started": "2023-12-04T18:56:59.166296Z",
     "shell.execute_reply": "2023-12-04T18:57:11.719578Z"
    },
    "trusted": true
   },
   "execution_count": null,
   "outputs": []
  },
  {
   "cell_type": "code",
   "source": [
    "for i in ranker.feature_importances_.argsort()[::-1]:\n",
    "    print(columns_to_use[i], ranker.feature_importances_[i]/ranker.feature_importances_.sum())"
   ],
   "metadata": {
    "execution": {
     "iopub.status.busy": "2023-12-04T18:57:11.721727Z",
     "iopub.execute_input": "2023-12-04T18:57:11.721971Z",
     "iopub.status.idle": "2023-12-04T18:57:11.738787Z",
     "shell.execute_reply.started": "2023-12-04T18:57:11.721939Z",
     "shell.execute_reply": "2023-12-04T18:57:11.738049Z"
    },
    "trusted": true
   },
   "execution_count": null,
   "outputs": []
  },
  {
   "cell_type": "markdown",
   "source": [
    "Here the results are not saved for some reason, but the top two most important features were age group bestseller and age group itself. The reason for this was the model learning that that candidates were either from age group candidates or not, indicated by the absence of an age group value."
   ],
   "metadata": {
    "collapsed": false
   }
  },
  {
   "cell_type": "markdown",
   "source": [
    "# Calculate predictions"
   ],
   "metadata": {}
  },
  {
   "cell_type": "code",
   "source": [
    "%time\n",
    "\n",
    "test['preds'] = ranker.predict(test_X)\n",
    "\n",
    "c_id2predicted_article_ids = test \\\n",
    "    .sort_values(['customer_id', 'preds'], ascending=False) \\\n",
    "    .groupby('customer_id')['article_id'].apply(list).to_dict()\n",
    "\n",
    "bestsellers_last_week = \\\n",
    "    bestsellers_previous_week[bestsellers_previous_week.week == bestsellers_previous_week.week.max()]['article_id'].tolist()"
   ],
   "metadata": {
    "execution": {
     "iopub.status.busy": "2023-12-04T18:57:11.739740Z",
     "iopub.execute_input": "2023-12-04T18:57:11.739982Z",
     "iopub.status.idle": "2023-12-04T18:57:35.355858Z",
     "shell.execute_reply.started": "2023-12-04T18:57:11.739950Z",
     "shell.execute_reply": "2023-12-04T18:57:35.354572Z"
    },
    "trusted": true
   },
   "execution_count": null,
   "outputs": []
  },
  {
   "cell_type": "code",
   "source": [
    "c_id2predicted_article_ids = test \\\n",
    "    .sort_values(['customer_id', 'preds'], ascending=False) \\\n",
    "    .groupby('customer_id')['article_id'].apply(list)"
   ],
   "metadata": {
    "execution": {
     "iopub.status.busy": "2023-12-04T18:59:11.345786Z",
     "iopub.execute_input": "2023-12-04T18:59:11.346112Z",
     "iopub.status.idle": "2023-12-04T18:59:29.055296Z",
     "shell.execute_reply.started": "2023-12-04T18:59:11.346075Z",
     "shell.execute_reply": "2023-12-04T18:59:29.054240Z"
    },
    "trusted": true
   },
   "execution_count": null,
   "outputs": []
  },
  {
   "cell_type": "code",
   "source": [
    "c_id2predicted_article_ids"
   ],
   "metadata": {
    "execution": {
     "iopub.status.busy": "2023-12-04T18:59:39.654961Z",
     "iopub.execute_input": "2023-12-04T18:59:39.655302Z",
     "iopub.status.idle": "2023-12-04T18:59:39.668016Z",
     "shell.execute_reply.started": "2023-12-04T18:59:39.655265Z",
     "shell.execute_reply": "2023-12-04T18:59:39.666912Z"
    },
    "trusted": true
   },
   "execution_count": null,
   "outputs": []
  },
  {
   "cell_type": "code",
   "source": [
    "bestsellers_last_week"
   ],
   "metadata": {
    "execution": {
     "iopub.status.busy": "2023-12-04T18:57:35.357810Z",
     "iopub.execute_input": "2023-12-04T18:57:35.358124Z",
     "iopub.status.idle": "2023-12-04T18:57:35.365650Z",
     "shell.execute_reply.started": "2023-12-04T18:57:35.358084Z",
     "shell.execute_reply": "2023-12-04T18:57:35.364467Z"
    },
    "trusted": true
   },
   "execution_count": null,
   "outputs": []
  },
  {
   "cell_type": "markdown",
   "source": [
    "# Create submission"
   ],
   "metadata": {}
  },
  {
   "cell_type": "code",
   "source": [
    "sub = pd.read_csv('/kaggle/input/h-and-m-personalized-fashion-recommendations/sample_submission.csv')"
   ],
   "metadata": {
    "execution": {
     "iopub.status.busy": "2023-12-04T18:57:35.367128Z",
     "iopub.execute_input": "2023-12-04T18:57:35.367521Z",
     "iopub.status.idle": "2023-12-04T18:57:40.992244Z",
     "shell.execute_reply.started": "2023-12-04T18:57:35.367473Z",
     "shell.execute_reply": "2023-12-04T18:57:40.991421Z"
    },
    "trusted": true
   },
   "execution_count": null,
   "outputs": []
  },
  {
   "cell_type": "code",
   "source": [
    "%%time\n",
    "preds = []\n",
    "for c_id in customer_hex_id_to_int(sub.customer_id):\n",
    "    pred = c_id2predicted_article_ids.get(c_id, [])\n",
    "    pred = pred + bestsellers_last_week\n",
    "    preds.append(pred[:12])"
   ],
   "metadata": {
    "execution": {
     "iopub.status.busy": "2023-12-04T18:57:40.993705Z",
     "iopub.execute_input": "2023-12-04T18:57:40.994283Z",
     "iopub.status.idle": "2023-12-04T18:57:49.753271Z",
     "shell.execute_reply.started": "2023-12-04T18:57:40.994233Z",
     "shell.execute_reply": "2023-12-04T18:57:49.752044Z"
    },
    "trusted": true
   },
   "execution_count": null,
   "outputs": []
  },
  {
   "cell_type": "code",
   "source": [
    "preds = [' '.join(['0' + str(p) for p in ps]) for ps in preds]\n",
    "sub.prediction = preds"
   ],
   "metadata": {
    "execution": {
     "iopub.status.busy": "2023-12-04T18:57:49.754613Z",
     "iopub.execute_input": "2023-12-04T18:57:49.754938Z",
     "iopub.status.idle": "2023-12-04T18:57:57.813803Z",
     "shell.execute_reply.started": "2023-12-04T18:57:49.754905Z",
     "shell.execute_reply": "2023-12-04T18:57:57.812782Z"
    },
    "trusted": true
   },
   "execution_count": null,
   "outputs": []
  },
  {
   "cell_type": "code",
   "source": [
    "sub_name = 'added_2_features_model_submission'\n",
    "sub.to_csv(f'{sub_name}.csv.gz', index=False)"
   ],
   "metadata": {
    "execution": {
     "iopub.status.busy": "2023-12-04T18:57:57.815262Z",
     "iopub.execute_input": "2023-12-04T18:57:57.816089Z",
     "iopub.status.idle": "2023-12-04T18:58:27.541474Z",
     "shell.execute_reply.started": "2023-12-04T18:57:57.816034Z",
     "shell.execute_reply": "2023-12-04T18:58:27.540486Z"
    },
    "trusted": true
   },
   "execution_count": null,
   "outputs": []
  }
 ]
}
