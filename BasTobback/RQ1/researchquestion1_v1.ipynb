{
 "metadata": {
  "kernelspec": {
   "language": "python",
   "display_name": "Python 3",
   "name": "python3"
  },
  "language_info": {
   "name": "python",
   "version": "3.7.12",
   "mimetype": "text/x-python",
   "codemirror_mode": {
    "name": "ipython",
    "version": 3
   },
   "pygments_lexer": "ipython3",
   "nbconvert_exporter": "python",
   "file_extension": ".py"
  }
 },
 "nbformat_minor": 4,
 "nbformat": 4,
 "cells": [
  {
   "cell_type": "markdown",
   "source": [
    "Radek posted about this [here](https://www.kaggle.com/competitions/h-and-m-personalized-fashion-recommendations/discussion/309220), and linked to a GitHub repo with the code.\n",
    "\n",
    "I just transferred that code here to Kaggle notebooks, that's all."
   ],
   "metadata": {}
  },
  {
   "cell_type": "raw",
   "source": [
    "import numpy as np\n",
    "\n",
    "def apk(actual, predicted, k=10):\n",
    "    \"\"\"\n",
    "    Computes the average precision at k.\n",
    "\n",
    "    This function computes the average prescision at k between two lists of\n",
    "    items.\n",
    "\n",
    "    Parameters\n",
    "    ----------\n",
    "    actual : list\n",
    "             A list of elements that are to be predicted (order doesn't matter)\n",
    "    predicted : list\n",
    "                A list of predicted elements (order does matter)\n",
    "    k : int, optional\n",
    "        The maximum number of predicted elements\n",
    "\n",
    "    Returns\n",
    "    -------\n",
    "    score : double\n",
    "            The average precision at k over the input lists\n",
    "\n",
    "    \"\"\"\n",
    "    if len(predicted)>k:\n",
    "        predicted = predicted[:k]\n",
    "\n",
    "    score = 0.0\n",
    "    num_hits = 0.0\n",
    "\n",
    "    for i,p in enumerate(predicted):\n",
    "        if p in actual and p not in predicted[:i]:\n",
    "            num_hits += 1.0\n",
    "            score += num_hits / (i+1.0)\n",
    "\n",
    "    if not actual:\n",
    "        return 0.0\n",
    "\n",
    "    return score / min(len(actual), k)\n",
    "\n",
    "def mapk(actual, predicted, k=10):\n",
    "    \"\"\"\n",
    "    Computes the mean average precision at k.\n",
    "\n",
    "    This function computes the mean average prescision at k between two lists\n",
    "    of lists of items.\n",
    "\n",
    "    Parameters\n",
    "    ----------\n",
    "    actual : list\n",
    "             A list of lists of elements that are to be predicted \n",
    "             (order doesn't matter in the lists)\n",
    "    predicted : list\n",
    "                A list of lists of predicted elements\n",
    "                (order matters in the lists)\n",
    "    k : int, optional\n",
    "        The maximum number of predicted elements\n",
    "\n",
    "    Returns\n",
    "    -------\n",
    "    score : double\n",
    "            The mean average precision at k over the input lists\n",
    "\n",
    "    \"\"\"\n",
    "    return np.mean([apk(a,p,k) for a,p in zip(actual, predicted)])"
   ],
   "metadata": {
    "execution": {
     "iopub.status.busy": "2023-10-11T07:47:00.962118Z",
     "iopub.execute_input": "2023-10-11T07:47:00.963156Z",
     "iopub.status.idle": "2023-10-11T07:47:00.973770Z",
     "shell.execute_reply.started": "2023-10-11T07:47:00.963105Z",
     "shell.execute_reply": "2023-10-11T07:47:00.972043Z"
    }
   }
  },
  {
   "cell_type": "code",
   "source": [
    "from sklearn.base import BaseEstimator, TransformerMixin\n",
    "import numpy as np\n",
    "\n",
    "# https://www.kaggle.com/c/h-and-m-personalized-fashion-recommendations/discussion/308635\n",
    "def customer_hex_id_to_int(series):\n",
    "    return series.str[-16:].apply(hex_id_to_int)\n",
    "\n",
    "def hex_id_to_int(str):\n",
    "    return int(str[-16:], 16)\n",
    "\n",
    "def article_id_str_to_int(series):\n",
    "    return series.astype('int32')\n",
    "\n",
    "def article_id_int_to_str(series):\n",
    "    return '0' + series.astype('str')\n",
    "\n",
    "class Categorize(BaseEstimator, TransformerMixin):\n",
    "    def __init__(self, min_examples=0):\n",
    "        self.min_examples = min_examples\n",
    "        self.categories = []\n",
    "        \n",
    "    def fit(self, X):\n",
    "        for i in range(X.shape[1]):\n",
    "            vc = X.iloc[:, i].value_counts()\n",
    "            self.categories.append(vc[vc > self.min_examples].index.tolist())\n",
    "        return self\n",
    "\n",
    "    def transform(self, X):\n",
    "        data = {X.columns[i]: pd.Categorical(X.iloc[:, i], categories=self.categories[i]).codes for i in range(X.shape[1])}\n",
    "        return pd.DataFrame(data=data)\n",
    "\n",
    "\n",
    "def calculate_apk(list_of_preds, list_of_gts):\n",
    "    # for fast validation this can be changed to operate on dicts of {'cust_id_int': [art_id_int, ...]}\n",
    "    # using 'data/val_week_purchases_by_cust.pkl'\n",
    "    apks = []\n",
    "    for preds, gt in zip(list_of_preds, list_of_gts):\n",
    "        apks.append(apk(gt, preds, k=12))\n",
    "    return np.mean(apks)\n",
    "\n",
    "def eval_sub(sub_csv, skip_cust_with_no_purchases=True):\n",
    "    sub=pd.read_csv(sub_csv)\n",
    "    validation_set=pd.read_parquet('data/validation_ground_truth.parquet')\n",
    "\n",
    "    apks = []\n",
    "\n",
    "    no_purchases_pattern = []\n",
    "    for pred, gt in zip(sub.prediction.str.split(), validation_set.prediction.str.split()):\n",
    "        if skip_cust_with_no_purchases and (gt == no_purchases_pattern): continue\n",
    "        apks.append(apk(gt, pred, k=12))\n",
    "    return np.mean(apks)"
   ],
   "metadata": {
    "execution": {
     "iopub.status.busy": "2023-11-07T22:29:25.908981Z",
     "iopub.execute_input": "2023-11-07T22:29:25.910294Z",
     "iopub.status.idle": "2023-11-07T22:29:27.020918Z",
     "shell.execute_reply.started": "2023-11-07T22:29:25.910135Z",
     "shell.execute_reply": "2023-11-07T22:29:27.019663Z"
    },
    "trusted": true
   },
   "execution_count": 1,
   "outputs": []
  },
  {
   "cell_type": "code",
   "source": [
    "import pandas as pd"
   ],
   "metadata": {
    "execution": {
     "iopub.status.busy": "2023-11-07T22:29:27.022984Z",
     "iopub.execute_input": "2023-11-07T22:29:27.023312Z",
     "iopub.status.idle": "2023-11-07T22:29:27.029175Z",
     "shell.execute_reply.started": "2023-11-07T22:29:27.023279Z",
     "shell.execute_reply": "2023-11-07T22:29:27.027842Z"
    },
    "trusted": true
   },
   "execution_count": 2,
   "outputs": []
  },
  {
   "cell_type": "code",
   "source": [
    "%%time\n",
    "\n",
    "transactions = pd.read_parquet('../input/warmup/transactions_train.parquet')\n",
    "customers = pd.read_parquet('../input/warmup/customers.parquet')\n",
    "articles = pd.read_parquet('../input/warmup/articles.parquet')\n",
    "\n",
    "# sample = 0.05\n",
    "# transactions = pd.read_parquet(f'data/transactions_train_sample_{sample}.parquet')\n",
    "# customers = pd.read_parquet(f'data/customers_sample_{sample}.parquet')\n",
    "# articles = pd.read_parquet(f'data/articles_train_sample_{sample}.parquet')"
   ],
   "metadata": {
    "execution": {
     "iopub.status.busy": "2023-11-07T22:29:27.030762Z",
     "iopub.execute_input": "2023-11-07T22:29:27.031029Z",
     "iopub.status.idle": "2023-11-07T22:29:32.899062Z",
     "shell.execute_reply.started": "2023-11-07T22:29:27.030999Z",
     "shell.execute_reply": "2023-11-07T22:29:32.898223Z"
    },
    "trusted": true
   },
   "execution_count": 3,
   "outputs": [
    {
     "name": "stdout",
     "text": "CPU times: user 1.47 s, sys: 1.67 s, total: 3.13 s\nWall time: 5.86 s\n",
     "output_type": "stream"
    }
   ]
  },
  {
   "cell_type": "markdown",
   "source": [
    "# Test Week\n",
    "Change the test week based on what we want to check, if we want to predict -> 'transactions.week.max() + 1'. \n",
    "If we want to check the recall (how well it can predict) -> value of the test_week we want to test for"
   ],
   "metadata": {}
  },
  {
   "cell_type": "code",
   "source": [
    "test_week = 104\n",
    "absolute_max_week = transactions.week.max()\n",
    "print(test_week)\n",
    "total_transactions = transactions.copy()\n",
    "transactions = transactions[(transactions.week > test_week - 11) & (transactions.week < test_week)]\n",
    "# transactions = transactions[transactions.week < test_week]"
   ],
   "metadata": {
    "execution": {
     "iopub.status.busy": "2023-11-07T22:29:32.901219Z",
     "iopub.execute_input": "2023-11-07T22:29:32.901457Z",
     "iopub.status.idle": "2023-11-07T22:29:33.284433Z",
     "shell.execute_reply.started": "2023-11-07T22:29:32.901428Z",
     "shell.execute_reply": "2023-11-07T22:29:33.283283Z"
    },
    "trusted": true
   },
   "execution_count": 4,
   "outputs": [
    {
     "name": "stdout",
     "text": "104\n",
     "output_type": "stream"
    }
   ]
  },
  {
   "cell_type": "markdown",
   "source": [
    "# Generating candidates"
   ],
   "metadata": {}
  },
  {
   "cell_type": "markdown",
   "source": [
    "### Last purchase candidates"
   ],
   "metadata": {}
  },
  {
   "cell_type": "code",
   "source": [
    "%%time\n",
    "\n",
    "c2weeks = transactions.groupby('customer_id')['week'].unique()"
   ],
   "metadata": {
    "execution": {
     "iopub.status.busy": "2023-11-07T22:29:33.286044Z",
     "iopub.execute_input": "2023-11-07T22:29:33.286338Z",
     "iopub.status.idle": "2023-11-07T22:29:51.360723Z",
     "shell.execute_reply.started": "2023-11-07T22:29:33.286304Z",
     "shell.execute_reply": "2023-11-07T22:29:51.359269Z"
    },
    "trusted": true
   },
   "execution_count": 5,
   "outputs": [
    {
     "name": "stdout",
     "text": "CPU times: user 17.9 s, sys: 282 ms, total: 18.2 s\nWall time: 18.1 s\n",
     "output_type": "stream"
    }
   ]
  },
  {
   "cell_type": "code",
   "source": [
    "transactions.groupby('week')['t_dat'].agg(['min', 'max'])"
   ],
   "metadata": {
    "execution": {
     "iopub.status.busy": "2023-11-07T22:29:51.362182Z",
     "iopub.execute_input": "2023-11-07T22:29:51.362401Z",
     "iopub.status.idle": "2023-11-07T22:29:51.462721Z",
     "shell.execute_reply.started": "2023-11-07T22:29:51.362373Z",
     "shell.execute_reply": "2023-11-07T22:29:51.461169Z"
    },
    "trusted": true
   },
   "execution_count": 6,
   "outputs": [
    {
     "execution_count": 6,
     "output_type": "execute_result",
     "data": {
      "text/plain": "            min        max\nweek                      \n94   2020-07-08 2020-07-14\n95   2020-07-15 2020-07-21\n96   2020-07-22 2020-07-28\n97   2020-07-29 2020-08-04\n98   2020-08-05 2020-08-11\n99   2020-08-12 2020-08-18\n100  2020-08-19 2020-08-25\n101  2020-08-26 2020-09-01\n102  2020-09-02 2020-09-08\n103  2020-09-09 2020-09-15",
      "text/html": "<div>\n<style scoped>\n    .dataframe tbody tr th:only-of-type {\n        vertical-align: middle;\n    }\n\n    .dataframe tbody tr th {\n        vertical-align: top;\n    }\n\n    .dataframe thead th {\n        text-align: right;\n    }\n</style>\n<table border=\"1\" class=\"dataframe\">\n  <thead>\n    <tr style=\"text-align: right;\">\n      <th></th>\n      <th>min</th>\n      <th>max</th>\n    </tr>\n    <tr>\n      <th>week</th>\n      <th></th>\n      <th></th>\n    </tr>\n  </thead>\n  <tbody>\n    <tr>\n      <th>94</th>\n      <td>2020-07-08</td>\n      <td>2020-07-14</td>\n    </tr>\n    <tr>\n      <th>95</th>\n      <td>2020-07-15</td>\n      <td>2020-07-21</td>\n    </tr>\n    <tr>\n      <th>96</th>\n      <td>2020-07-22</td>\n      <td>2020-07-28</td>\n    </tr>\n    <tr>\n      <th>97</th>\n      <td>2020-07-29</td>\n      <td>2020-08-04</td>\n    </tr>\n    <tr>\n      <th>98</th>\n      <td>2020-08-05</td>\n      <td>2020-08-11</td>\n    </tr>\n    <tr>\n      <th>99</th>\n      <td>2020-08-12</td>\n      <td>2020-08-18</td>\n    </tr>\n    <tr>\n      <th>100</th>\n      <td>2020-08-19</td>\n      <td>2020-08-25</td>\n    </tr>\n    <tr>\n      <th>101</th>\n      <td>2020-08-26</td>\n      <td>2020-09-01</td>\n    </tr>\n    <tr>\n      <th>102</th>\n      <td>2020-09-02</td>\n      <td>2020-09-08</td>\n    </tr>\n    <tr>\n      <th>103</th>\n      <td>2020-09-09</td>\n      <td>2020-09-15</td>\n    </tr>\n  </tbody>\n</table>\n</div>"
     },
     "metadata": {}
    }
   ]
  },
  {
   "cell_type": "code",
   "source": [
    "c2weeks"
   ],
   "metadata": {
    "execution": {
     "iopub.status.busy": "2023-11-07T22:29:51.463895Z",
     "iopub.execute_input": "2023-11-07T22:29:51.464128Z",
     "iopub.status.idle": "2023-11-07T22:29:51.474277Z",
     "shell.execute_reply.started": "2023-11-07T22:29:51.464076Z",
     "shell.execute_reply": "2023-11-07T22:29:51.472917Z"
    },
    "trusted": true
   },
   "execution_count": 7,
   "outputs": [
    {
     "execution_count": 7,
     "output_type": "execute_result",
     "data": {
      "text/plain": "customer_id\n28847241659200          [94, 95, 96, 101, 102]\n41318098387474                            [98]\n116809474287335                     [101, 103]\n200292573348128              [95, 96, 99, 102]\n208119717816961                           [94]\n                                 ...          \n18446590778427270109                 [97, 102]\n18446624797007271432                      [95]\n18446630855572834764                     [103]\n18446662237889060501                     [100]\n18446705133201055310                     [102]\nName: week, Length: 439368, dtype: object"
     },
     "metadata": {}
    }
   ]
  },
  {
   "cell_type": "code",
   "source": [
    "%%time\n",
    "\n",
    "c2weeks2shifted_weeks = {}\n",
    "\n",
    "for c_id, weeks in c2weeks.items():\n",
    "    c2weeks2shifted_weeks[c_id] = {}\n",
    "    for i in range(weeks.shape[0]-1):\n",
    "        c2weeks2shifted_weeks[c_id][weeks[i]] = weeks[i+1]\n",
    "    c2weeks2shifted_weeks[c_id][weeks[-1]] = test_week"
   ],
   "metadata": {
    "execution": {
     "iopub.status.busy": "2023-11-07T22:29:51.475899Z",
     "iopub.execute_input": "2023-11-07T22:29:51.476203Z",
     "iopub.status.idle": "2023-11-07T22:29:52.196195Z",
     "shell.execute_reply.started": "2023-11-07T22:29:51.476169Z",
     "shell.execute_reply": "2023-11-07T22:29:52.194987Z"
    },
    "trusted": true
   },
   "execution_count": 8,
   "outputs": [
    {
     "name": "stdout",
     "text": "CPU times: user 664 ms, sys: 46 ms, total: 710 ms\nWall time: 710 ms\n",
     "output_type": "stream"
    }
   ]
  },
  {
   "cell_type": "code",
   "source": [
    "c2weeks2shifted_weeks[28847241659200]"
   ],
   "metadata": {
    "execution": {
     "iopub.status.busy": "2023-11-07T22:29:52.197766Z",
     "iopub.execute_input": "2023-11-07T22:29:52.198048Z",
     "iopub.status.idle": "2023-11-07T22:29:52.206605Z",
     "shell.execute_reply.started": "2023-11-07T22:29:52.198020Z",
     "shell.execute_reply": "2023-11-07T22:29:52.205589Z"
    },
    "trusted": true
   },
   "execution_count": 9,
   "outputs": [
    {
     "execution_count": 9,
     "output_type": "execute_result",
     "data": {
      "text/plain": "{94: 95, 95: 96, 96: 101, 101: 102, 102: 104}"
     },
     "metadata": {}
    }
   ]
  },
  {
   "cell_type": "code",
   "source": [
    "candidates_last_purchase = transactions.copy()"
   ],
   "metadata": {
    "execution": {
     "iopub.status.busy": "2023-11-07T22:29:52.209007Z",
     "iopub.execute_input": "2023-11-07T22:29:52.209296Z",
     "iopub.status.idle": "2023-11-07T22:29:52.222931Z",
     "shell.execute_reply.started": "2023-11-07T22:29:52.209264Z",
     "shell.execute_reply": "2023-11-07T22:29:52.221666Z"
    },
    "trusted": true
   },
   "execution_count": 10,
   "outputs": []
  },
  {
   "cell_type": "code",
   "source": [
    "%%time\n",
    "\n",
    "weeks = []\n",
    "for i, (c_id, week) in enumerate(zip(transactions['customer_id'], transactions['week'])):\n",
    "    weeks.append(c2weeks2shifted_weeks[c_id][week])\n",
    "    \n",
    "candidates_last_purchase.week=weeks"
   ],
   "metadata": {
    "execution": {
     "iopub.status.busy": "2023-11-07T22:29:52.224912Z",
     "iopub.execute_input": "2023-11-07T22:29:52.225213Z",
     "iopub.status.idle": "2023-11-07T22:29:58.931237Z",
     "shell.execute_reply.started": "2023-11-07T22:29:52.225183Z",
     "shell.execute_reply": "2023-11-07T22:29:58.930173Z"
    },
    "trusted": true
   },
   "execution_count": 11,
   "outputs": [
    {
     "name": "stdout",
     "text": "CPU times: user 6.67 s, sys: 28 ms, total: 6.7 s\nWall time: 6.7 s\n",
     "output_type": "stream"
    }
   ]
  },
  {
   "cell_type": "code",
   "source": [
    "candidates_last_purchase[candidates_last_purchase['customer_id']==272412481300040]"
   ],
   "metadata": {
    "execution": {
     "iopub.status.busy": "2023-11-07T22:29:58.932338Z",
     "iopub.execute_input": "2023-11-07T22:29:58.932578Z",
     "iopub.status.idle": "2023-11-07T22:29:58.949617Z",
     "shell.execute_reply.started": "2023-11-07T22:29:58.932545Z",
     "shell.execute_reply": "2023-11-07T22:29:58.948323Z"
    },
    "trusted": true
   },
   "execution_count": 12,
   "outputs": [
    {
     "execution_count": 12,
     "output_type": "execute_result",
     "data": {
      "text/plain": "              t_dat      customer_id  article_id     price  sales_channel_id  \\\n29030503 2020-07-15  272412481300040   778064028  0.008458                 1   \n29030504 2020-07-15  272412481300040   816592008  0.016932                 1   \n29030505 2020-07-15  272412481300040   621381021  0.033881                 1   \n29030506 2020-07-15  272412481300040   817477003  0.025407                 1   \n29030507 2020-07-15  272412481300040   899088002  0.025407                 1   \n29319533 2020-07-22  272412481300040   885077001  0.008458                 1   \n29410772 2020-07-24  272412481300040   850176003  0.029034                 2   \n29410773 2020-07-24  272412481300040   875803001  0.064559                 2   \n29410774 2020-07-24  272412481300040   892970003  0.020966                 2   \n29410775 2020-07-24  272412481300040   854619003  0.020966                 2   \n29531614 2020-07-27  272412481300040   900398001  0.030492                 2   \n29531615 2020-07-27  272412481300040   834179002  0.025407                 2   \n29531616 2020-07-27  272412481300040   875803001  0.067780                 2   \n31495014 2020-09-14  272412481300040   923460002  0.039932                 2   \n31495015 2020-09-14  272412481300040   922381001  0.039932                 2   \n31495016 2020-09-14  272412481300040   921906005  0.031949                 2   \n\n          week  \n29030503    96  \n29030504    96  \n29030505    96  \n29030506    96  \n29030507    96  \n29319533   103  \n29410772   103  \n29410773   103  \n29410774   103  \n29410775   103  \n29531614   103  \n29531615   103  \n29531616   103  \n31495014   104  \n31495015   104  \n31495016   104  ",
      "text/html": "<div>\n<style scoped>\n    .dataframe tbody tr th:only-of-type {\n        vertical-align: middle;\n    }\n\n    .dataframe tbody tr th {\n        vertical-align: top;\n    }\n\n    .dataframe thead th {\n        text-align: right;\n    }\n</style>\n<table border=\"1\" class=\"dataframe\">\n  <thead>\n    <tr style=\"text-align: right;\">\n      <th></th>\n      <th>t_dat</th>\n      <th>customer_id</th>\n      <th>article_id</th>\n      <th>price</th>\n      <th>sales_channel_id</th>\n      <th>week</th>\n    </tr>\n  </thead>\n  <tbody>\n    <tr>\n      <th>29030503</th>\n      <td>2020-07-15</td>\n      <td>272412481300040</td>\n      <td>778064028</td>\n      <td>0.008458</td>\n      <td>1</td>\n      <td>96</td>\n    </tr>\n    <tr>\n      <th>29030504</th>\n      <td>2020-07-15</td>\n      <td>272412481300040</td>\n      <td>816592008</td>\n      <td>0.016932</td>\n      <td>1</td>\n      <td>96</td>\n    </tr>\n    <tr>\n      <th>29030505</th>\n      <td>2020-07-15</td>\n      <td>272412481300040</td>\n      <td>621381021</td>\n      <td>0.033881</td>\n      <td>1</td>\n      <td>96</td>\n    </tr>\n    <tr>\n      <th>29030506</th>\n      <td>2020-07-15</td>\n      <td>272412481300040</td>\n      <td>817477003</td>\n      <td>0.025407</td>\n      <td>1</td>\n      <td>96</td>\n    </tr>\n    <tr>\n      <th>29030507</th>\n      <td>2020-07-15</td>\n      <td>272412481300040</td>\n      <td>899088002</td>\n      <td>0.025407</td>\n      <td>1</td>\n      <td>96</td>\n    </tr>\n    <tr>\n      <th>29319533</th>\n      <td>2020-07-22</td>\n      <td>272412481300040</td>\n      <td>885077001</td>\n      <td>0.008458</td>\n      <td>1</td>\n      <td>103</td>\n    </tr>\n    <tr>\n      <th>29410772</th>\n      <td>2020-07-24</td>\n      <td>272412481300040</td>\n      <td>850176003</td>\n      <td>0.029034</td>\n      <td>2</td>\n      <td>103</td>\n    </tr>\n    <tr>\n      <th>29410773</th>\n      <td>2020-07-24</td>\n      <td>272412481300040</td>\n      <td>875803001</td>\n      <td>0.064559</td>\n      <td>2</td>\n      <td>103</td>\n    </tr>\n    <tr>\n      <th>29410774</th>\n      <td>2020-07-24</td>\n      <td>272412481300040</td>\n      <td>892970003</td>\n      <td>0.020966</td>\n      <td>2</td>\n      <td>103</td>\n    </tr>\n    <tr>\n      <th>29410775</th>\n      <td>2020-07-24</td>\n      <td>272412481300040</td>\n      <td>854619003</td>\n      <td>0.020966</td>\n      <td>2</td>\n      <td>103</td>\n    </tr>\n    <tr>\n      <th>29531614</th>\n      <td>2020-07-27</td>\n      <td>272412481300040</td>\n      <td>900398001</td>\n      <td>0.030492</td>\n      <td>2</td>\n      <td>103</td>\n    </tr>\n    <tr>\n      <th>29531615</th>\n      <td>2020-07-27</td>\n      <td>272412481300040</td>\n      <td>834179002</td>\n      <td>0.025407</td>\n      <td>2</td>\n      <td>103</td>\n    </tr>\n    <tr>\n      <th>29531616</th>\n      <td>2020-07-27</td>\n      <td>272412481300040</td>\n      <td>875803001</td>\n      <td>0.067780</td>\n      <td>2</td>\n      <td>103</td>\n    </tr>\n    <tr>\n      <th>31495014</th>\n      <td>2020-09-14</td>\n      <td>272412481300040</td>\n      <td>923460002</td>\n      <td>0.039932</td>\n      <td>2</td>\n      <td>104</td>\n    </tr>\n    <tr>\n      <th>31495015</th>\n      <td>2020-09-14</td>\n      <td>272412481300040</td>\n      <td>922381001</td>\n      <td>0.039932</td>\n      <td>2</td>\n      <td>104</td>\n    </tr>\n    <tr>\n      <th>31495016</th>\n      <td>2020-09-14</td>\n      <td>272412481300040</td>\n      <td>921906005</td>\n      <td>0.031949</td>\n      <td>2</td>\n      <td>104</td>\n    </tr>\n  </tbody>\n</table>\n</div>"
     },
     "metadata": {}
    }
   ]
  },
  {
   "cell_type": "code",
   "source": [
    "transactions[transactions['customer_id']==272412481300040]"
   ],
   "metadata": {
    "execution": {
     "iopub.status.busy": "2023-11-07T22:29:58.952294Z",
     "iopub.execute_input": "2023-11-07T22:29:58.952982Z",
     "iopub.status.idle": "2023-11-07T22:29:58.968661Z",
     "shell.execute_reply.started": "2023-11-07T22:29:58.952938Z",
     "shell.execute_reply": "2023-11-07T22:29:58.968082Z"
    },
    "trusted": true
   },
   "execution_count": 13,
   "outputs": [
    {
     "execution_count": 13,
     "output_type": "execute_result",
     "data": {
      "text/plain": "              t_dat      customer_id  article_id     price  sales_channel_id  \\\n29030503 2020-07-15  272412481300040   778064028  0.008458                 1   \n29030504 2020-07-15  272412481300040   816592008  0.016932                 1   \n29030505 2020-07-15  272412481300040   621381021  0.033881                 1   \n29030506 2020-07-15  272412481300040   817477003  0.025407                 1   \n29030507 2020-07-15  272412481300040   899088002  0.025407                 1   \n29319533 2020-07-22  272412481300040   885077001  0.008458                 1   \n29410772 2020-07-24  272412481300040   850176003  0.029034                 2   \n29410773 2020-07-24  272412481300040   875803001  0.064559                 2   \n29410774 2020-07-24  272412481300040   892970003  0.020966                 2   \n29410775 2020-07-24  272412481300040   854619003  0.020966                 2   \n29531614 2020-07-27  272412481300040   900398001  0.030492                 2   \n29531615 2020-07-27  272412481300040   834179002  0.025407                 2   \n29531616 2020-07-27  272412481300040   875803001  0.067780                 2   \n31495014 2020-09-14  272412481300040   923460002  0.039932                 2   \n31495015 2020-09-14  272412481300040   922381001  0.039932                 2   \n31495016 2020-09-14  272412481300040   921906005  0.031949                 2   \n\n          week  \n29030503    95  \n29030504    95  \n29030505    95  \n29030506    95  \n29030507    95  \n29319533    96  \n29410772    96  \n29410773    96  \n29410774    96  \n29410775    96  \n29531614    96  \n29531615    96  \n29531616    96  \n31495014   103  \n31495015   103  \n31495016   103  ",
      "text/html": "<div>\n<style scoped>\n    .dataframe tbody tr th:only-of-type {\n        vertical-align: middle;\n    }\n\n    .dataframe tbody tr th {\n        vertical-align: top;\n    }\n\n    .dataframe thead th {\n        text-align: right;\n    }\n</style>\n<table border=\"1\" class=\"dataframe\">\n  <thead>\n    <tr style=\"text-align: right;\">\n      <th></th>\n      <th>t_dat</th>\n      <th>customer_id</th>\n      <th>article_id</th>\n      <th>price</th>\n      <th>sales_channel_id</th>\n      <th>week</th>\n    </tr>\n  </thead>\n  <tbody>\n    <tr>\n      <th>29030503</th>\n      <td>2020-07-15</td>\n      <td>272412481300040</td>\n      <td>778064028</td>\n      <td>0.008458</td>\n      <td>1</td>\n      <td>95</td>\n    </tr>\n    <tr>\n      <th>29030504</th>\n      <td>2020-07-15</td>\n      <td>272412481300040</td>\n      <td>816592008</td>\n      <td>0.016932</td>\n      <td>1</td>\n      <td>95</td>\n    </tr>\n    <tr>\n      <th>29030505</th>\n      <td>2020-07-15</td>\n      <td>272412481300040</td>\n      <td>621381021</td>\n      <td>0.033881</td>\n      <td>1</td>\n      <td>95</td>\n    </tr>\n    <tr>\n      <th>29030506</th>\n      <td>2020-07-15</td>\n      <td>272412481300040</td>\n      <td>817477003</td>\n      <td>0.025407</td>\n      <td>1</td>\n      <td>95</td>\n    </tr>\n    <tr>\n      <th>29030507</th>\n      <td>2020-07-15</td>\n      <td>272412481300040</td>\n      <td>899088002</td>\n      <td>0.025407</td>\n      <td>1</td>\n      <td>95</td>\n    </tr>\n    <tr>\n      <th>29319533</th>\n      <td>2020-07-22</td>\n      <td>272412481300040</td>\n      <td>885077001</td>\n      <td>0.008458</td>\n      <td>1</td>\n      <td>96</td>\n    </tr>\n    <tr>\n      <th>29410772</th>\n      <td>2020-07-24</td>\n      <td>272412481300040</td>\n      <td>850176003</td>\n      <td>0.029034</td>\n      <td>2</td>\n      <td>96</td>\n    </tr>\n    <tr>\n      <th>29410773</th>\n      <td>2020-07-24</td>\n      <td>272412481300040</td>\n      <td>875803001</td>\n      <td>0.064559</td>\n      <td>2</td>\n      <td>96</td>\n    </tr>\n    <tr>\n      <th>29410774</th>\n      <td>2020-07-24</td>\n      <td>272412481300040</td>\n      <td>892970003</td>\n      <td>0.020966</td>\n      <td>2</td>\n      <td>96</td>\n    </tr>\n    <tr>\n      <th>29410775</th>\n      <td>2020-07-24</td>\n      <td>272412481300040</td>\n      <td>854619003</td>\n      <td>0.020966</td>\n      <td>2</td>\n      <td>96</td>\n    </tr>\n    <tr>\n      <th>29531614</th>\n      <td>2020-07-27</td>\n      <td>272412481300040</td>\n      <td>900398001</td>\n      <td>0.030492</td>\n      <td>2</td>\n      <td>96</td>\n    </tr>\n    <tr>\n      <th>29531615</th>\n      <td>2020-07-27</td>\n      <td>272412481300040</td>\n      <td>834179002</td>\n      <td>0.025407</td>\n      <td>2</td>\n      <td>96</td>\n    </tr>\n    <tr>\n      <th>29531616</th>\n      <td>2020-07-27</td>\n      <td>272412481300040</td>\n      <td>875803001</td>\n      <td>0.067780</td>\n      <td>2</td>\n      <td>96</td>\n    </tr>\n    <tr>\n      <th>31495014</th>\n      <td>2020-09-14</td>\n      <td>272412481300040</td>\n      <td>923460002</td>\n      <td>0.039932</td>\n      <td>2</td>\n      <td>103</td>\n    </tr>\n    <tr>\n      <th>31495015</th>\n      <td>2020-09-14</td>\n      <td>272412481300040</td>\n      <td>922381001</td>\n      <td>0.039932</td>\n      <td>2</td>\n      <td>103</td>\n    </tr>\n    <tr>\n      <th>31495016</th>\n      <td>2020-09-14</td>\n      <td>272412481300040</td>\n      <td>921906005</td>\n      <td>0.031949</td>\n      <td>2</td>\n      <td>103</td>\n    </tr>\n  </tbody>\n</table>\n</div>"
     },
     "metadata": {}
    }
   ]
  },
  {
   "cell_type": "markdown",
   "source": [
    "### Bestsellers candidates"
   ],
   "metadata": {}
  },
  {
   "cell_type": "markdown",
   "source": [
    "get the mean of the prices of transactions sorted on the article_id and the week"
   ],
   "metadata": {}
  },
  {
   "cell_type": "code",
   "source": [
    "mean_price = transactions \\\n",
    "    .groupby(['week', 'article_id'])['price'].mean()"
   ],
   "metadata": {
    "execution": {
     "iopub.status.busy": "2023-11-07T22:29:58.969746Z",
     "iopub.execute_input": "2023-11-07T22:29:58.970073Z",
     "iopub.status.idle": "2023-11-07T22:29:59.154778Z",
     "shell.execute_reply.started": "2023-11-07T22:29:58.970038Z",
     "shell.execute_reply": "2023-11-07T22:29:59.154052Z"
    },
    "trusted": true
   },
   "execution_count": 14,
   "outputs": []
  },
  {
   "cell_type": "code",
   "source": [
    "mean_price"
   ],
   "metadata": {
    "execution": {
     "iopub.status.busy": "2023-11-07T22:29:59.155745Z",
     "iopub.execute_input": "2023-11-07T22:29:59.155934Z",
     "iopub.status.idle": "2023-11-07T22:29:59.163912Z",
     "shell.execute_reply.started": "2023-11-07T22:29:59.155907Z",
     "shell.execute_reply": "2023-11-07T22:29:59.163470Z"
    },
    "trusted": true
   },
   "execution_count": 15,
   "outputs": [
    {
     "execution_count": 15,
     "output_type": "execute_result",
     "data": {
      "text/plain": "week  article_id\n94    108775044     0.008339\n      110065002     0.005508\n      111565001     0.005452\n      111586001     0.013270\n      111593001     0.011669\n                      ...   \n103   952267001     0.014631\n      952938001     0.045746\n      953450001     0.016769\n      953763001     0.021932\n      956217002     0.059203\nName: price, Length: 199492, dtype: float32"
     },
     "metadata": {}
    }
   ]
  },
  {
   "cell_type": "markdown",
   "source": [
    "make sales which is the ranking of the 12 most bought article_ids in each week"
   ],
   "metadata": {}
  },
  {
   "cell_type": "code",
   "source": [
    "sales = transactions \\\n",
    "    .groupby('week')['article_id'].value_counts() \\\n",
    "    .groupby('week').rank(method='dense', ascending=False) \\\n",
    "    .groupby('week').head(12).rename('bestseller_rank').astype('int8')"
   ],
   "metadata": {
    "execution": {
     "iopub.status.busy": "2023-11-07T22:29:59.165855Z",
     "iopub.execute_input": "2023-11-07T22:29:59.166748Z",
     "iopub.status.idle": "2023-11-07T22:29:59.853653Z",
     "shell.execute_reply.started": "2023-11-07T22:29:59.166700Z",
     "shell.execute_reply": "2023-11-07T22:29:59.852814Z"
    },
    "trusted": true
   },
   "execution_count": 16,
   "outputs": []
  },
  {
   "cell_type": "code",
   "source": [
    "sales"
   ],
   "metadata": {
    "execution": {
     "iopub.status.busy": "2023-11-07T22:29:59.854850Z",
     "iopub.execute_input": "2023-11-07T22:29:59.855115Z",
     "iopub.status.idle": "2023-11-07T22:29:59.865484Z",
     "shell.execute_reply.started": "2023-11-07T22:29:59.855055Z",
     "shell.execute_reply": "2023-11-07T22:29:59.864426Z"
    },
    "trusted": true
   },
   "execution_count": 17,
   "outputs": [
    {
     "execution_count": 17,
     "output_type": "execute_result",
     "data": {
      "text/plain": "week  article_id\n94    806388001      1\n      730683021      2\n      610776002      3\n      805308002      4\n      866383006      5\n                    ..\n103   918292001      8\n      762846027      9\n      809238005     10\n      673677002     11\n      923758001     12\nName: bestseller_rank, Length: 120, dtype: int8"
     },
     "metadata": {}
    }
   ]
  },
  {
   "cell_type": "code",
   "source": [
    "sales.loc[95]"
   ],
   "metadata": {
    "execution": {
     "iopub.status.busy": "2023-11-07T22:29:59.866850Z",
     "iopub.execute_input": "2023-11-07T22:29:59.867207Z",
     "iopub.status.idle": "2023-11-07T22:29:59.881138Z",
     "shell.execute_reply.started": "2023-11-07T22:29:59.867169Z",
     "shell.execute_reply": "2023-11-07T22:29:59.880161Z"
    },
    "trusted": true
   },
   "execution_count": 18,
   "outputs": [
    {
     "execution_count": 18,
     "output_type": "execute_result",
     "data": {
      "text/plain": "article_id\n760084003     1\n866731001     2\n600886001     3\n706016001     4\n372860002     5\n610776002     6\n877278002     7\n547780003     8\n817354001     9\n827968001    10\n866731003    11\n866383006    12\nName: bestseller_rank, dtype: int8"
     },
     "metadata": {}
    }
   ]
  },
  {
   "cell_type": "markdown",
   "source": [
    "bestsellers_previous_week will be a collection for all weeks where the mean price and the rankings are joined. Therefor the dataframe will look like the [week, article] combination with the ranking and then the average price. The week is increased with one."
   ],
   "metadata": {}
  },
  {
   "cell_type": "code",
   "source": [
    "bestsellers_previous_week = pd.merge(sales, mean_price, on=['week', 'article_id']).reset_index()\n",
    "bestsellers_previous_week.week += 1"
   ],
   "metadata": {
    "execution": {
     "iopub.status.busy": "2023-11-07T22:29:59.882575Z",
     "iopub.execute_input": "2023-11-07T22:29:59.882856Z",
     "iopub.status.idle": "2023-11-07T22:29:59.930871Z",
     "shell.execute_reply.started": "2023-11-07T22:29:59.882819Z",
     "shell.execute_reply": "2023-11-07T22:29:59.929315Z"
    },
    "trusted": true
   },
   "execution_count": 19,
   "outputs": []
  },
  {
   "cell_type": "code",
   "source": [
    "bestsellers_previous_week.pipe(lambda df: df[df['week']==96])"
   ],
   "metadata": {
    "execution": {
     "iopub.status.busy": "2023-11-07T22:29:59.931844Z",
     "iopub.execute_input": "2023-11-07T22:29:59.932034Z",
     "iopub.status.idle": "2023-11-07T22:29:59.945246Z",
     "shell.execute_reply.started": "2023-11-07T22:29:59.932011Z",
     "shell.execute_reply": "2023-11-07T22:29:59.944379Z"
    },
    "trusted": true
   },
   "execution_count": 20,
   "outputs": [
    {
     "execution_count": 20,
     "output_type": "execute_result",
     "data": {
      "text/plain": "    week  article_id  bestseller_rank     price\n12    96   760084003                1  0.025094\n13    96   866731001                2  0.024919\n14    96   600886001                3  0.022980\n15    96   706016001                4  0.033197\n16    96   372860002                5  0.013193\n17    96   610776002                6  0.008318\n18    96   877278002                7  0.025036\n19    96   547780003                8  0.024814\n20    96   817354001                9  0.021913\n21    96   827968001               10  0.016436\n22    96   866731003               11  0.024893\n23    96   866383006               12  0.023195",
      "text/html": "<div>\n<style scoped>\n    .dataframe tbody tr th:only-of-type {\n        vertical-align: middle;\n    }\n\n    .dataframe tbody tr th {\n        vertical-align: top;\n    }\n\n    .dataframe thead th {\n        text-align: right;\n    }\n</style>\n<table border=\"1\" class=\"dataframe\">\n  <thead>\n    <tr style=\"text-align: right;\">\n      <th></th>\n      <th>week</th>\n      <th>article_id</th>\n      <th>bestseller_rank</th>\n      <th>price</th>\n    </tr>\n  </thead>\n  <tbody>\n    <tr>\n      <th>12</th>\n      <td>96</td>\n      <td>760084003</td>\n      <td>1</td>\n      <td>0.025094</td>\n    </tr>\n    <tr>\n      <th>13</th>\n      <td>96</td>\n      <td>866731001</td>\n      <td>2</td>\n      <td>0.024919</td>\n    </tr>\n    <tr>\n      <th>14</th>\n      <td>96</td>\n      <td>600886001</td>\n      <td>3</td>\n      <td>0.022980</td>\n    </tr>\n    <tr>\n      <th>15</th>\n      <td>96</td>\n      <td>706016001</td>\n      <td>4</td>\n      <td>0.033197</td>\n    </tr>\n    <tr>\n      <th>16</th>\n      <td>96</td>\n      <td>372860002</td>\n      <td>5</td>\n      <td>0.013193</td>\n    </tr>\n    <tr>\n      <th>17</th>\n      <td>96</td>\n      <td>610776002</td>\n      <td>6</td>\n      <td>0.008318</td>\n    </tr>\n    <tr>\n      <th>18</th>\n      <td>96</td>\n      <td>877278002</td>\n      <td>7</td>\n      <td>0.025036</td>\n    </tr>\n    <tr>\n      <th>19</th>\n      <td>96</td>\n      <td>547780003</td>\n      <td>8</td>\n      <td>0.024814</td>\n    </tr>\n    <tr>\n      <th>20</th>\n      <td>96</td>\n      <td>817354001</td>\n      <td>9</td>\n      <td>0.021913</td>\n    </tr>\n    <tr>\n      <th>21</th>\n      <td>96</td>\n      <td>827968001</td>\n      <td>10</td>\n      <td>0.016436</td>\n    </tr>\n    <tr>\n      <th>22</th>\n      <td>96</td>\n      <td>866731003</td>\n      <td>11</td>\n      <td>0.024893</td>\n    </tr>\n    <tr>\n      <th>23</th>\n      <td>96</td>\n      <td>866383006</td>\n      <td>12</td>\n      <td>0.023195</td>\n    </tr>\n  </tbody>\n</table>\n</div>"
     },
     "metadata": {}
    }
   ]
  },
  {
   "cell_type": "markdown",
   "source": [
    "Unique transactions is a dataframe containing one entry of the [week, customer_id] combination. Here the article_ids are dropped as well as the prices"
   ],
   "metadata": {}
  },
  {
   "cell_type": "code",
   "source": [
    "unique_transactions = transactions \\\n",
    "    .groupby(['week', 'customer_id']) \\\n",
    "    .head(1) \\\n",
    "    .drop(columns=['article_id', 'price']) \\\n",
    "    .copy()"
   ],
   "metadata": {
    "execution": {
     "iopub.status.busy": "2023-11-07T22:29:59.946335Z",
     "iopub.execute_input": "2023-11-07T22:29:59.947060Z",
     "iopub.status.idle": "2023-11-07T22:30:00.482989Z",
     "shell.execute_reply.started": "2023-11-07T22:29:59.947031Z",
     "shell.execute_reply": "2023-11-07T22:30:00.481926Z"
    },
    "trusted": true
   },
   "execution_count": 21,
   "outputs": []
  },
  {
   "cell_type": "code",
   "source": [
    "unique_transactions"
   ],
   "metadata": {
    "execution": {
     "iopub.status.busy": "2023-11-07T22:30:00.484040Z",
     "iopub.execute_input": "2023-11-07T22:30:00.484233Z",
     "iopub.status.idle": "2023-11-07T22:30:00.499780Z",
     "shell.execute_reply.started": "2023-11-07T22:30:00.484209Z",
     "shell.execute_reply": "2023-11-07T22:30:00.498538Z"
    },
    "trusted": true
   },
   "execution_count": 22,
   "outputs": [
    {
     "execution_count": 22,
     "output_type": "execute_result",
     "data": {
      "text/plain": "              t_dat           customer_id  sales_channel_id  week\n28777300 2020-07-08       857913002275398                 1    94\n28787123 2020-07-08      1658289241058394                 1    94\n28788562 2020-07-08      3828854365940846                 1    94\n28744235 2020-07-08      4195624216542755                 1    94\n28753719 2020-07-08      4233235614030232                 2    94\n...             ...                   ...               ...   ...\n31521960 2020-09-15  18439897732908966680                 2   103\n31531712 2020-09-15  18444276791873187543                 2   103\n31539937 2020-09-15  18444799607866739422                 2   103\n31543799 2020-09-15  18446250046654386343                 1   103\n31536744 2020-09-15  18446630855572834764                 2   103\n\n[762722 rows x 4 columns]",
      "text/html": "<div>\n<style scoped>\n    .dataframe tbody tr th:only-of-type {\n        vertical-align: middle;\n    }\n\n    .dataframe tbody tr th {\n        vertical-align: top;\n    }\n\n    .dataframe thead th {\n        text-align: right;\n    }\n</style>\n<table border=\"1\" class=\"dataframe\">\n  <thead>\n    <tr style=\"text-align: right;\">\n      <th></th>\n      <th>t_dat</th>\n      <th>customer_id</th>\n      <th>sales_channel_id</th>\n      <th>week</th>\n    </tr>\n  </thead>\n  <tbody>\n    <tr>\n      <th>28777300</th>\n      <td>2020-07-08</td>\n      <td>857913002275398</td>\n      <td>1</td>\n      <td>94</td>\n    </tr>\n    <tr>\n      <th>28787123</th>\n      <td>2020-07-08</td>\n      <td>1658289241058394</td>\n      <td>1</td>\n      <td>94</td>\n    </tr>\n    <tr>\n      <th>28788562</th>\n      <td>2020-07-08</td>\n      <td>3828854365940846</td>\n      <td>1</td>\n      <td>94</td>\n    </tr>\n    <tr>\n      <th>28744235</th>\n      <td>2020-07-08</td>\n      <td>4195624216542755</td>\n      <td>1</td>\n      <td>94</td>\n    </tr>\n    <tr>\n      <th>28753719</th>\n      <td>2020-07-08</td>\n      <td>4233235614030232</td>\n      <td>2</td>\n      <td>94</td>\n    </tr>\n    <tr>\n      <th>...</th>\n      <td>...</td>\n      <td>...</td>\n      <td>...</td>\n      <td>...</td>\n    </tr>\n    <tr>\n      <th>31521960</th>\n      <td>2020-09-15</td>\n      <td>18439897732908966680</td>\n      <td>2</td>\n      <td>103</td>\n    </tr>\n    <tr>\n      <th>31531712</th>\n      <td>2020-09-15</td>\n      <td>18444276791873187543</td>\n      <td>2</td>\n      <td>103</td>\n    </tr>\n    <tr>\n      <th>31539937</th>\n      <td>2020-09-15</td>\n      <td>18444799607866739422</td>\n      <td>2</td>\n      <td>103</td>\n    </tr>\n    <tr>\n      <th>31543799</th>\n      <td>2020-09-15</td>\n      <td>18446250046654386343</td>\n      <td>1</td>\n      <td>103</td>\n    </tr>\n    <tr>\n      <th>31536744</th>\n      <td>2020-09-15</td>\n      <td>18446630855572834764</td>\n      <td>2</td>\n      <td>103</td>\n    </tr>\n  </tbody>\n</table>\n<p>762722 rows × 4 columns</p>\n</div>"
     },
     "metadata": {}
    }
   ]
  },
  {
   "cell_type": "markdown",
   "source": [
    "drop all duplicate [week, customer] baskets from transactions"
   ],
   "metadata": {}
  },
  {
   "cell_type": "code",
   "source": [
    "transactions"
   ],
   "metadata": {
    "execution": {
     "iopub.status.busy": "2023-11-07T22:30:00.501736Z",
     "iopub.execute_input": "2023-11-07T22:30:00.502123Z",
     "iopub.status.idle": "2023-11-07T22:30:00.522824Z",
     "shell.execute_reply.started": "2023-11-07T22:30:00.502058Z",
     "shell.execute_reply": "2023-11-07T22:30:00.521385Z"
    },
    "trusted": true
   },
   "execution_count": 23,
   "outputs": [
    {
     "execution_count": 23,
     "output_type": "execute_result",
     "data": {
      "text/plain": "              t_dat           customer_id  article_id     price  \\\n28777300 2020-07-08       857913002275398   599580068  0.008458   \n28777301 2020-07-08       857913002275398   776237011  0.025407   \n28777302 2020-07-08       857913002275398   844294001  0.011847   \n28787123 2020-07-08      1658289241058394   877773001  0.007610   \n28788562 2020-07-08      3828854365940846   507883009  0.013542   \n...             ...                   ...         ...       ...   \n31536744 2020-09-15  18446630855572834764   568601045  0.050831   \n31536745 2020-09-15  18446630855572834764   568601045  0.050831   \n31536746 2020-09-15  18446630855572834764   898713001  0.067780   \n31536747 2020-09-15  18446630855572834764   898713001  0.067780   \n31536748 2020-09-15  18446630855572834764   886966002  0.067780   \n\n          sales_channel_id  week  \n28777300                 1    94  \n28777301                 1    94  \n28777302                 1    94  \n28787123                 1    94  \n28788562                 1    94  \n...                    ...   ...  \n31536744                 2   103  \n31536745                 2   103  \n31536746                 2   103  \n31536747                 2   103  \n31536748                 2   103  \n\n[2809233 rows x 6 columns]",
      "text/html": "<div>\n<style scoped>\n    .dataframe tbody tr th:only-of-type {\n        vertical-align: middle;\n    }\n\n    .dataframe tbody tr th {\n        vertical-align: top;\n    }\n\n    .dataframe thead th {\n        text-align: right;\n    }\n</style>\n<table border=\"1\" class=\"dataframe\">\n  <thead>\n    <tr style=\"text-align: right;\">\n      <th></th>\n      <th>t_dat</th>\n      <th>customer_id</th>\n      <th>article_id</th>\n      <th>price</th>\n      <th>sales_channel_id</th>\n      <th>week</th>\n    </tr>\n  </thead>\n  <tbody>\n    <tr>\n      <th>28777300</th>\n      <td>2020-07-08</td>\n      <td>857913002275398</td>\n      <td>599580068</td>\n      <td>0.008458</td>\n      <td>1</td>\n      <td>94</td>\n    </tr>\n    <tr>\n      <th>28777301</th>\n      <td>2020-07-08</td>\n      <td>857913002275398</td>\n      <td>776237011</td>\n      <td>0.025407</td>\n      <td>1</td>\n      <td>94</td>\n    </tr>\n    <tr>\n      <th>28777302</th>\n      <td>2020-07-08</td>\n      <td>857913002275398</td>\n      <td>844294001</td>\n      <td>0.011847</td>\n      <td>1</td>\n      <td>94</td>\n    </tr>\n    <tr>\n      <th>28787123</th>\n      <td>2020-07-08</td>\n      <td>1658289241058394</td>\n      <td>877773001</td>\n      <td>0.007610</td>\n      <td>1</td>\n      <td>94</td>\n    </tr>\n    <tr>\n      <th>28788562</th>\n      <td>2020-07-08</td>\n      <td>3828854365940846</td>\n      <td>507883009</td>\n      <td>0.013542</td>\n      <td>1</td>\n      <td>94</td>\n    </tr>\n    <tr>\n      <th>...</th>\n      <td>...</td>\n      <td>...</td>\n      <td>...</td>\n      <td>...</td>\n      <td>...</td>\n      <td>...</td>\n    </tr>\n    <tr>\n      <th>31536744</th>\n      <td>2020-09-15</td>\n      <td>18446630855572834764</td>\n      <td>568601045</td>\n      <td>0.050831</td>\n      <td>2</td>\n      <td>103</td>\n    </tr>\n    <tr>\n      <th>31536745</th>\n      <td>2020-09-15</td>\n      <td>18446630855572834764</td>\n      <td>568601045</td>\n      <td>0.050831</td>\n      <td>2</td>\n      <td>103</td>\n    </tr>\n    <tr>\n      <th>31536746</th>\n      <td>2020-09-15</td>\n      <td>18446630855572834764</td>\n      <td>898713001</td>\n      <td>0.067780</td>\n      <td>2</td>\n      <td>103</td>\n    </tr>\n    <tr>\n      <th>31536747</th>\n      <td>2020-09-15</td>\n      <td>18446630855572834764</td>\n      <td>898713001</td>\n      <td>0.067780</td>\n      <td>2</td>\n      <td>103</td>\n    </tr>\n    <tr>\n      <th>31536748</th>\n      <td>2020-09-15</td>\n      <td>18446630855572834764</td>\n      <td>886966002</td>\n      <td>0.067780</td>\n      <td>2</td>\n      <td>103</td>\n    </tr>\n  </tbody>\n</table>\n<p>2809233 rows × 6 columns</p>\n</div>"
     },
     "metadata": {}
    }
   ]
  },
  {
   "cell_type": "code",
   "source": [
    "transactions.drop_duplicates(['week', 'customer_id'])"
   ],
   "metadata": {
    "execution": {
     "iopub.status.busy": "2023-11-07T22:30:00.524375Z",
     "iopub.execute_input": "2023-11-07T22:30:00.524950Z",
     "iopub.status.idle": "2023-11-07T22:30:00.794085Z",
     "shell.execute_reply.started": "2023-11-07T22:30:00.524917Z",
     "shell.execute_reply": "2023-11-07T22:30:00.793301Z"
    },
    "trusted": true
   },
   "execution_count": 24,
   "outputs": [
    {
     "execution_count": 24,
     "output_type": "execute_result",
     "data": {
      "text/plain": "              t_dat           customer_id  article_id     price  \\\n28777300 2020-07-08       857913002275398   599580068  0.008458   \n28787123 2020-07-08      1658289241058394   877773001  0.007610   \n28788562 2020-07-08      3828854365940846   507883009  0.013542   \n28744235 2020-07-08      4195624216542755   817417005  0.022864   \n28753719 2020-07-08      4233235614030232   876986001  0.030492   \n...             ...                   ...         ...       ...   \n31521960 2020-09-15  18439897732908966680   794321007  0.061000   \n31531712 2020-09-15  18444276791873187543   867969008  0.033881   \n31539937 2020-09-15  18444799607866739422   909721003  0.042356   \n31543799 2020-09-15  18446250046654386343   869872006  0.033881   \n31536744 2020-09-15  18446630855572834764   568601045  0.050831   \n\n          sales_channel_id  week  \n28777300                 1    94  \n28787123                 1    94  \n28788562                 1    94  \n28744235                 1    94  \n28753719                 2    94  \n...                    ...   ...  \n31521960                 2   103  \n31531712                 2   103  \n31539937                 2   103  \n31543799                 1   103  \n31536744                 2   103  \n\n[762722 rows x 6 columns]",
      "text/html": "<div>\n<style scoped>\n    .dataframe tbody tr th:only-of-type {\n        vertical-align: middle;\n    }\n\n    .dataframe tbody tr th {\n        vertical-align: top;\n    }\n\n    .dataframe thead th {\n        text-align: right;\n    }\n</style>\n<table border=\"1\" class=\"dataframe\">\n  <thead>\n    <tr style=\"text-align: right;\">\n      <th></th>\n      <th>t_dat</th>\n      <th>customer_id</th>\n      <th>article_id</th>\n      <th>price</th>\n      <th>sales_channel_id</th>\n      <th>week</th>\n    </tr>\n  </thead>\n  <tbody>\n    <tr>\n      <th>28777300</th>\n      <td>2020-07-08</td>\n      <td>857913002275398</td>\n      <td>599580068</td>\n      <td>0.008458</td>\n      <td>1</td>\n      <td>94</td>\n    </tr>\n    <tr>\n      <th>28787123</th>\n      <td>2020-07-08</td>\n      <td>1658289241058394</td>\n      <td>877773001</td>\n      <td>0.007610</td>\n      <td>1</td>\n      <td>94</td>\n    </tr>\n    <tr>\n      <th>28788562</th>\n      <td>2020-07-08</td>\n      <td>3828854365940846</td>\n      <td>507883009</td>\n      <td>0.013542</td>\n      <td>1</td>\n      <td>94</td>\n    </tr>\n    <tr>\n      <th>28744235</th>\n      <td>2020-07-08</td>\n      <td>4195624216542755</td>\n      <td>817417005</td>\n      <td>0.022864</td>\n      <td>1</td>\n      <td>94</td>\n    </tr>\n    <tr>\n      <th>28753719</th>\n      <td>2020-07-08</td>\n      <td>4233235614030232</td>\n      <td>876986001</td>\n      <td>0.030492</td>\n      <td>2</td>\n      <td>94</td>\n    </tr>\n    <tr>\n      <th>...</th>\n      <td>...</td>\n      <td>...</td>\n      <td>...</td>\n      <td>...</td>\n      <td>...</td>\n      <td>...</td>\n    </tr>\n    <tr>\n      <th>31521960</th>\n      <td>2020-09-15</td>\n      <td>18439897732908966680</td>\n      <td>794321007</td>\n      <td>0.061000</td>\n      <td>2</td>\n      <td>103</td>\n    </tr>\n    <tr>\n      <th>31531712</th>\n      <td>2020-09-15</td>\n      <td>18444276791873187543</td>\n      <td>867969008</td>\n      <td>0.033881</td>\n      <td>2</td>\n      <td>103</td>\n    </tr>\n    <tr>\n      <th>31539937</th>\n      <td>2020-09-15</td>\n      <td>18444799607866739422</td>\n      <td>909721003</td>\n      <td>0.042356</td>\n      <td>2</td>\n      <td>103</td>\n    </tr>\n    <tr>\n      <th>31543799</th>\n      <td>2020-09-15</td>\n      <td>18446250046654386343</td>\n      <td>869872006</td>\n      <td>0.033881</td>\n      <td>1</td>\n      <td>103</td>\n    </tr>\n    <tr>\n      <th>31536744</th>\n      <td>2020-09-15</td>\n      <td>18446630855572834764</td>\n      <td>568601045</td>\n      <td>0.050831</td>\n      <td>2</td>\n      <td>103</td>\n    </tr>\n  </tbody>\n</table>\n<p>762722 rows × 6 columns</p>\n</div>"
     },
     "metadata": {}
    }
   ]
  },
  {
   "cell_type": "code",
   "source": [
    "transactions"
   ],
   "metadata": {
    "execution": {
     "iopub.status.busy": "2023-11-07T22:30:00.795179Z",
     "iopub.execute_input": "2023-11-07T22:30:00.795404Z",
     "iopub.status.idle": "2023-11-07T22:30:00.812875Z",
     "shell.execute_reply.started": "2023-11-07T22:30:00.795378Z",
     "shell.execute_reply": "2023-11-07T22:30:00.811526Z"
    },
    "trusted": true
   },
   "execution_count": 25,
   "outputs": [
    {
     "execution_count": 25,
     "output_type": "execute_result",
     "data": {
      "text/plain": "              t_dat           customer_id  article_id     price  \\\n28777300 2020-07-08       857913002275398   599580068  0.008458   \n28777301 2020-07-08       857913002275398   776237011  0.025407   \n28777302 2020-07-08       857913002275398   844294001  0.011847   \n28787123 2020-07-08      1658289241058394   877773001  0.007610   \n28788562 2020-07-08      3828854365940846   507883009  0.013542   \n...             ...                   ...         ...       ...   \n31536744 2020-09-15  18446630855572834764   568601045  0.050831   \n31536745 2020-09-15  18446630855572834764   568601045  0.050831   \n31536746 2020-09-15  18446630855572834764   898713001  0.067780   \n31536747 2020-09-15  18446630855572834764   898713001  0.067780   \n31536748 2020-09-15  18446630855572834764   886966002  0.067780   \n\n          sales_channel_id  week  \n28777300                 1    94  \n28777301                 1    94  \n28777302                 1    94  \n28787123                 1    94  \n28788562                 1    94  \n...                    ...   ...  \n31536744                 2   103  \n31536745                 2   103  \n31536746                 2   103  \n31536747                 2   103  \n31536748                 2   103  \n\n[2809233 rows x 6 columns]",
      "text/html": "<div>\n<style scoped>\n    .dataframe tbody tr th:only-of-type {\n        vertical-align: middle;\n    }\n\n    .dataframe tbody tr th {\n        vertical-align: top;\n    }\n\n    .dataframe thead th {\n        text-align: right;\n    }\n</style>\n<table border=\"1\" class=\"dataframe\">\n  <thead>\n    <tr style=\"text-align: right;\">\n      <th></th>\n      <th>t_dat</th>\n      <th>customer_id</th>\n      <th>article_id</th>\n      <th>price</th>\n      <th>sales_channel_id</th>\n      <th>week</th>\n    </tr>\n  </thead>\n  <tbody>\n    <tr>\n      <th>28777300</th>\n      <td>2020-07-08</td>\n      <td>857913002275398</td>\n      <td>599580068</td>\n      <td>0.008458</td>\n      <td>1</td>\n      <td>94</td>\n    </tr>\n    <tr>\n      <th>28777301</th>\n      <td>2020-07-08</td>\n      <td>857913002275398</td>\n      <td>776237011</td>\n      <td>0.025407</td>\n      <td>1</td>\n      <td>94</td>\n    </tr>\n    <tr>\n      <th>28777302</th>\n      <td>2020-07-08</td>\n      <td>857913002275398</td>\n      <td>844294001</td>\n      <td>0.011847</td>\n      <td>1</td>\n      <td>94</td>\n    </tr>\n    <tr>\n      <th>28787123</th>\n      <td>2020-07-08</td>\n      <td>1658289241058394</td>\n      <td>877773001</td>\n      <td>0.007610</td>\n      <td>1</td>\n      <td>94</td>\n    </tr>\n    <tr>\n      <th>28788562</th>\n      <td>2020-07-08</td>\n      <td>3828854365940846</td>\n      <td>507883009</td>\n      <td>0.013542</td>\n      <td>1</td>\n      <td>94</td>\n    </tr>\n    <tr>\n      <th>...</th>\n      <td>...</td>\n      <td>...</td>\n      <td>...</td>\n      <td>...</td>\n      <td>...</td>\n      <td>...</td>\n    </tr>\n    <tr>\n      <th>31536744</th>\n      <td>2020-09-15</td>\n      <td>18446630855572834764</td>\n      <td>568601045</td>\n      <td>0.050831</td>\n      <td>2</td>\n      <td>103</td>\n    </tr>\n    <tr>\n      <th>31536745</th>\n      <td>2020-09-15</td>\n      <td>18446630855572834764</td>\n      <td>568601045</td>\n      <td>0.050831</td>\n      <td>2</td>\n      <td>103</td>\n    </tr>\n    <tr>\n      <th>31536746</th>\n      <td>2020-09-15</td>\n      <td>18446630855572834764</td>\n      <td>898713001</td>\n      <td>0.067780</td>\n      <td>2</td>\n      <td>103</td>\n    </tr>\n    <tr>\n      <th>31536747</th>\n      <td>2020-09-15</td>\n      <td>18446630855572834764</td>\n      <td>898713001</td>\n      <td>0.067780</td>\n      <td>2</td>\n      <td>103</td>\n    </tr>\n    <tr>\n      <th>31536748</th>\n      <td>2020-09-15</td>\n      <td>18446630855572834764</td>\n      <td>886966002</td>\n      <td>0.067780</td>\n      <td>2</td>\n      <td>103</td>\n    </tr>\n  </tbody>\n</table>\n<p>2809233 rows × 6 columns</p>\n</div>"
     },
     "metadata": {}
    }
   ]
  },
  {
   "cell_type": "markdown",
   "source": [
    "bestsellers for each customer from revious week for all the weeks that are in the dataset"
   ],
   "metadata": {}
  },
  {
   "cell_type": "markdown",
   "source": [
    "### !!!FOR AGE GROUP MERGE ON AGE"
   ],
   "metadata": {}
  },
  {
   "cell_type": "code",
   "source": [
    "candidates_bestsellers = pd.merge(\n",
    "    unique_transactions,\n",
    "    bestsellers_previous_week,\n",
    "    on='week',\n",
    ")"
   ],
   "metadata": {
    "execution": {
     "iopub.status.busy": "2023-11-07T22:30:00.816197Z",
     "iopub.execute_input": "2023-11-07T22:30:00.816501Z",
     "iopub.status.idle": "2023-11-07T22:30:01.264716Z",
     "shell.execute_reply.started": "2023-11-07T22:30:00.816465Z",
     "shell.execute_reply": "2023-11-07T22:30:01.263545Z"
    },
    "trusted": true
   },
   "execution_count": 26,
   "outputs": []
  },
  {
   "cell_type": "markdown",
   "source": [
    "make a set of users that would buy in the test week"
   ],
   "metadata": {}
  },
  {
   "cell_type": "code",
   "source": [
    "test_set_transactions = unique_transactions.drop_duplicates('customer_id').reset_index(drop=True)\n",
    "test_set_transactions.week = test_week"
   ],
   "metadata": {
    "execution": {
     "iopub.status.busy": "2023-11-07T22:30:01.265925Z",
     "iopub.execute_input": "2023-11-07T22:30:01.266611Z",
     "iopub.status.idle": "2023-11-07T22:30:01.357890Z",
     "shell.execute_reply.started": "2023-11-07T22:30:01.266564Z",
     "shell.execute_reply": "2023-11-07T22:30:01.356850Z"
    },
    "trusted": true
   },
   "execution_count": 27,
   "outputs": []
  },
  {
   "cell_type": "code",
   "source": [
    "test_set_transactions"
   ],
   "metadata": {
    "execution": {
     "iopub.status.busy": "2023-11-07T22:30:01.409445Z",
     "iopub.execute_input": "2023-11-07T22:30:01.409695Z",
     "iopub.status.idle": "2023-11-07T22:30:01.422955Z",
     "shell.execute_reply.started": "2023-11-07T22:30:01.409670Z",
     "shell.execute_reply": "2023-11-07T22:30:01.421984Z"
    },
    "trusted": true
   },
   "execution_count": 28,
   "outputs": [
    {
     "execution_count": 28,
     "output_type": "execute_result",
     "data": {
      "text/plain": "            t_dat           customer_id  sales_channel_id  week\n0      2020-07-08       857913002275398                 1   104\n1      2020-07-08      1658289241058394                 1   104\n2      2020-07-08      3828854365940846                 1   104\n3      2020-07-08      4195624216542755                 1   104\n4      2020-07-08      4233235614030232                 2   104\n...           ...                   ...               ...   ...\n439363 2020-09-15  18431808737044686839                 1   104\n439364 2020-09-15  18436707407200418746                 2   104\n439365 2020-09-15  18439897732908966680                 2   104\n439366 2020-09-15  18446250046654386343                 1   104\n439367 2020-09-15  18446630855572834764                 2   104\n\n[439368 rows x 4 columns]",
      "text/html": "<div>\n<style scoped>\n    .dataframe tbody tr th:only-of-type {\n        vertical-align: middle;\n    }\n\n    .dataframe tbody tr th {\n        vertical-align: top;\n    }\n\n    .dataframe thead th {\n        text-align: right;\n    }\n</style>\n<table border=\"1\" class=\"dataframe\">\n  <thead>\n    <tr style=\"text-align: right;\">\n      <th></th>\n      <th>t_dat</th>\n      <th>customer_id</th>\n      <th>sales_channel_id</th>\n      <th>week</th>\n    </tr>\n  </thead>\n  <tbody>\n    <tr>\n      <th>0</th>\n      <td>2020-07-08</td>\n      <td>857913002275398</td>\n      <td>1</td>\n      <td>104</td>\n    </tr>\n    <tr>\n      <th>1</th>\n      <td>2020-07-08</td>\n      <td>1658289241058394</td>\n      <td>1</td>\n      <td>104</td>\n    </tr>\n    <tr>\n      <th>2</th>\n      <td>2020-07-08</td>\n      <td>3828854365940846</td>\n      <td>1</td>\n      <td>104</td>\n    </tr>\n    <tr>\n      <th>3</th>\n      <td>2020-07-08</td>\n      <td>4195624216542755</td>\n      <td>1</td>\n      <td>104</td>\n    </tr>\n    <tr>\n      <th>4</th>\n      <td>2020-07-08</td>\n      <td>4233235614030232</td>\n      <td>2</td>\n      <td>104</td>\n    </tr>\n    <tr>\n      <th>...</th>\n      <td>...</td>\n      <td>...</td>\n      <td>...</td>\n      <td>...</td>\n    </tr>\n    <tr>\n      <th>439363</th>\n      <td>2020-09-15</td>\n      <td>18431808737044686839</td>\n      <td>1</td>\n      <td>104</td>\n    </tr>\n    <tr>\n      <th>439364</th>\n      <td>2020-09-15</td>\n      <td>18436707407200418746</td>\n      <td>2</td>\n      <td>104</td>\n    </tr>\n    <tr>\n      <th>439365</th>\n      <td>2020-09-15</td>\n      <td>18439897732908966680</td>\n      <td>2</td>\n      <td>104</td>\n    </tr>\n    <tr>\n      <th>439366</th>\n      <td>2020-09-15</td>\n      <td>18446250046654386343</td>\n      <td>1</td>\n      <td>104</td>\n    </tr>\n    <tr>\n      <th>439367</th>\n      <td>2020-09-15</td>\n      <td>18446630855572834764</td>\n      <td>2</td>\n      <td>104</td>\n    </tr>\n  </tbody>\n</table>\n<p>439368 rows × 4 columns</p>\n</div>"
     },
     "metadata": {}
    }
   ]
  },
  {
   "cell_type": "markdown",
   "source": [
    "all the bestsellers based on the weeks for the test week"
   ],
   "metadata": {}
  },
  {
   "cell_type": "code",
   "source": [
    "candidates_bestsellers_test_week = pd.merge(\n",
    "    test_set_transactions,\n",
    "    bestsellers_previous_week,\n",
    "    on='week'\n",
    ")"
   ],
   "metadata": {
    "execution": {
     "iopub.status.busy": "2023-11-07T22:30:01.424237Z",
     "iopub.execute_input": "2023-11-07T22:30:01.424461Z",
     "iopub.status.idle": "2023-11-07T22:30:01.728958Z",
     "shell.execute_reply.started": "2023-11-07T22:30:01.424433Z",
     "shell.execute_reply": "2023-11-07T22:30:01.727902Z"
    },
    "trusted": true
   },
   "execution_count": 29,
   "outputs": []
  },
  {
   "cell_type": "markdown",
   "source": [
    "combine both lists of bestsellers"
   ],
   "metadata": {}
  },
  {
   "cell_type": "code",
   "source": [
    "candidates_bestsellers = pd.concat([candidates_bestsellers, candidates_bestsellers_test_week])\n",
    "candidates_bestsellers.drop(columns='bestseller_rank', inplace=True)"
   ],
   "metadata": {
    "execution": {
     "iopub.status.busy": "2023-11-07T22:30:01.730653Z",
     "iopub.execute_input": "2023-11-07T22:30:01.730928Z",
     "iopub.status.idle": "2023-11-07T22:30:02.170987Z",
     "shell.execute_reply.started": "2023-11-07T22:30:01.730893Z",
     "shell.execute_reply": "2023-11-07T22:30:02.169912Z"
    },
    "trusted": true
   },
   "execution_count": 30,
   "outputs": []
  },
  {
   "cell_type": "code",
   "source": [
    "candidates_bestsellers"
   ],
   "metadata": {
    "execution": {
     "iopub.status.busy": "2023-11-07T22:30:02.172332Z",
     "iopub.execute_input": "2023-11-07T22:30:02.172605Z",
     "iopub.status.idle": "2023-11-07T22:30:02.188270Z",
     "shell.execute_reply.started": "2023-11-07T22:30:02.172570Z",
     "shell.execute_reply": "2023-11-07T22:30:02.187288Z"
    },
    "trusted": true
   },
   "execution_count": 31,
   "outputs": [
    {
     "execution_count": 31,
     "output_type": "execute_result",
     "data": {
      "text/plain": "             t_dat           customer_id  sales_channel_id  week  article_id  \\\n0       2020-07-15       272412481300040                 1    95   806388001   \n1       2020-07-15       272412481300040                 1    95   730683021   \n2       2020-07-15       272412481300040                 1    95   610776002   \n3       2020-07-15       272412481300040                 1    95   805308002   \n4       2020-07-15       272412481300040                 1    95   866383006   \n...            ...                   ...               ...   ...         ...   \n5272411 2020-09-15  18446630855572834764                 2   104   918292001   \n5272412 2020-09-15  18446630855572834764                 2   104   762846027   \n5272413 2020-09-15  18446630855572834764                 2   104   809238005   \n5272414 2020-09-15  18446630855572834764                 2   104   673677002   \n5272415 2020-09-15  18446630855572834764                 2   104   923758001   \n\n            price  \n0        0.013301  \n1        0.025643  \n2        0.008303  \n3        0.013609  \n4        0.024971  \n...           ...  \n5272411  0.041424  \n5272412  0.025104  \n5272413  0.041656  \n5272414  0.024925  \n5272415  0.033478  \n\n[13513128 rows x 6 columns]",
      "text/html": "<div>\n<style scoped>\n    .dataframe tbody tr th:only-of-type {\n        vertical-align: middle;\n    }\n\n    .dataframe tbody tr th {\n        vertical-align: top;\n    }\n\n    .dataframe thead th {\n        text-align: right;\n    }\n</style>\n<table border=\"1\" class=\"dataframe\">\n  <thead>\n    <tr style=\"text-align: right;\">\n      <th></th>\n      <th>t_dat</th>\n      <th>customer_id</th>\n      <th>sales_channel_id</th>\n      <th>week</th>\n      <th>article_id</th>\n      <th>price</th>\n    </tr>\n  </thead>\n  <tbody>\n    <tr>\n      <th>0</th>\n      <td>2020-07-15</td>\n      <td>272412481300040</td>\n      <td>1</td>\n      <td>95</td>\n      <td>806388001</td>\n      <td>0.013301</td>\n    </tr>\n    <tr>\n      <th>1</th>\n      <td>2020-07-15</td>\n      <td>272412481300040</td>\n      <td>1</td>\n      <td>95</td>\n      <td>730683021</td>\n      <td>0.025643</td>\n    </tr>\n    <tr>\n      <th>2</th>\n      <td>2020-07-15</td>\n      <td>272412481300040</td>\n      <td>1</td>\n      <td>95</td>\n      <td>610776002</td>\n      <td>0.008303</td>\n    </tr>\n    <tr>\n      <th>3</th>\n      <td>2020-07-15</td>\n      <td>272412481300040</td>\n      <td>1</td>\n      <td>95</td>\n      <td>805308002</td>\n      <td>0.013609</td>\n    </tr>\n    <tr>\n      <th>4</th>\n      <td>2020-07-15</td>\n      <td>272412481300040</td>\n      <td>1</td>\n      <td>95</td>\n      <td>866383006</td>\n      <td>0.024971</td>\n    </tr>\n    <tr>\n      <th>...</th>\n      <td>...</td>\n      <td>...</td>\n      <td>...</td>\n      <td>...</td>\n      <td>...</td>\n      <td>...</td>\n    </tr>\n    <tr>\n      <th>5272411</th>\n      <td>2020-09-15</td>\n      <td>18446630855572834764</td>\n      <td>2</td>\n      <td>104</td>\n      <td>918292001</td>\n      <td>0.041424</td>\n    </tr>\n    <tr>\n      <th>5272412</th>\n      <td>2020-09-15</td>\n      <td>18446630855572834764</td>\n      <td>2</td>\n      <td>104</td>\n      <td>762846027</td>\n      <td>0.025104</td>\n    </tr>\n    <tr>\n      <th>5272413</th>\n      <td>2020-09-15</td>\n      <td>18446630855572834764</td>\n      <td>2</td>\n      <td>104</td>\n      <td>809238005</td>\n      <td>0.041656</td>\n    </tr>\n    <tr>\n      <th>5272414</th>\n      <td>2020-09-15</td>\n      <td>18446630855572834764</td>\n      <td>2</td>\n      <td>104</td>\n      <td>673677002</td>\n      <td>0.024925</td>\n    </tr>\n    <tr>\n      <th>5272415</th>\n      <td>2020-09-15</td>\n      <td>18446630855572834764</td>\n      <td>2</td>\n      <td>104</td>\n      <td>923758001</td>\n      <td>0.033478</td>\n    </tr>\n  </tbody>\n</table>\n<p>13513128 rows × 6 columns</p>\n</div>"
     },
     "metadata": {}
    }
   ]
  },
  {
   "cell_type": "markdown",
   "source": [
    "# Making a Recall evaluation function\n",
    "For the recall evaluation we have several requirements that have to be met:\n",
    "* We need to compare two sets of items, the first being the items that are in fact bought, the other set of items is the set of items that are candidates for the predictions\n",
    "* Only compare recall -> amount of positives (candidates that are in fact bought) / total positives (amount of items bought)\n",
    "\n",
    "!! If we would be to generate more candidates, this would automatically grow as the chance we include one is bigger"
   ],
   "metadata": {}
  },
  {
   "cell_type": "markdown",
   "source": [
    "## My own first attempt\n",
    "This part is my own function, created to calculate the recall values. This turned out to be so slow that even subsets took very long computation times. Therefore I asked Noah to help out."
   ],
   "metadata": {}
  },
  {
   "cell_type": "code",
   "source": [
    "# function that returns the recall value \n",
    "# It returns None if the predicted week is not in the purchases set\n",
    "def recall (purchases, candidates):\n",
    "    # check if the test_week is the same as the most recent week in the predictions\n",
    "    if not candidates.week.max() == test_week:\n",
    "        print(\"There is something wrong with the predictions\")\n",
    "    \n",
    "    # check if the predicted week is in fact in the dataset\n",
    "    if test_week > absolute_max_week:\n",
    "        return None\n",
    "    \n",
    "    # Take the data in question\n",
    "    test_week_purchases = purchases[purchases.week == test_week]\n",
    "    test_week_candidates = candidates[candidates.week == test_week]\n",
    "    \n",
    "    # take all the users\n",
    "    users = test_week_purchases.customer_id.drop_duplicates()\n",
    "    \n",
    "    # start the total recall value which will be averaged out at the end\n",
    "    total_recall = 0\n",
    "    \n",
    "    # loop over all the users in this week\n",
    "    for user in users:\n",
    "        # get the corresponding purchases and candidates\n",
    "        user_purchases = test_week_purchases[test_week_purchases.customer_id == user]\n",
    "        user_candidates = test_week_candidates[test_week_candidates.customer_id == user]\n",
    "        \n",
    "        # get the article_ids in a Series\n",
    "        user_purchased_articles = user_purchases.article_id.drop_duplicates()\n",
    "        user_candidate_articles = user_candidates.article_id.drop_duplicates()\n",
    "        \n",
    "        # get the total positives\n",
    "        total_positives = user_purchased_articles.count()\n",
    "        \n",
    "        # get the true positives\n",
    "        intersection = user_candidate_articles[user_candidate_articles.isin(user_purchased_articles)]\n",
    "        true_positives = intersection.count()\n",
    "        \n",
    "        # calculate the recall value for this user and add it to the total\n",
    "        recall_value = true_positives / total_positives\n",
    "        total_recall += recall_value\n",
    "    \n",
    "    # take the average of the recalls and return it\n",
    "    total_recall = total_recall / users.count()\n",
    "    return total_recall\n",
    "        "
   ],
   "metadata": {
    "execution": {
     "iopub.status.busy": "2023-11-07T22:30:02.189686Z",
     "iopub.execute_input": "2023-11-07T22:30:02.189948Z",
     "iopub.status.idle": "2023-11-07T22:30:02.200090Z",
     "shell.execute_reply.started": "2023-11-07T22:30:02.189893Z",
     "shell.execute_reply": "2023-11-07T22:30:02.198914Z"
    },
    "trusted": true
   },
   "execution_count": 32,
   "outputs": []
  },
  {
   "cell_type": "markdown",
   "source": [
    "The next cell contains a function I created based on the tips and guidance Noah provided. It merges the two tables of candidates and purchases. By doing this only the ones present in both are kept. So taking the count of the purchases we have the two only values needed."
   ],
   "metadata": {
    "collapsed": false
   }
  },
  {
   "cell_type": "code",
   "source": [
    "# return the average recall of generated candidates versus the actual bought items\n",
    "def average_recall(purchases, candidates):\n",
    "    joined = pd.merge(purchases, candidates, how='inner').drop_duplicates()\n",
    "    true_positives = joined.groupby('customer_id').count()\n",
    "    total_positives = purchases.groupby('customer_id').count()\n",
    "    recall = true_positives.divide(total_positives, fill_value=0)\n",
    "    return recall.mean().values[0]"
   ],
   "metadata": {
    "execution": {
     "iopub.status.busy": "2023-11-07T22:30:02.202125Z",
     "iopub.execute_input": "2023-11-07T22:30:02.202656Z",
     "iopub.status.idle": "2023-11-07T22:30:02.216604Z",
     "shell.execute_reply.started": "2023-11-07T22:30:02.202614Z",
     "shell.execute_reply": "2023-11-07T22:30:02.215157Z"
    },
    "trusted": true
   },
   "execution_count": 33,
   "outputs": []
  },
  {
   "cell_type": "markdown",
   "source": [
    "This then checks the recall of the candidates generated by the bestsellers"
   ],
   "metadata": {
    "collapsed": false
   }
  },
  {
   "cell_type": "code",
   "source": [
    "if not test_week > absolute_max_week:\n",
    "    purchases = total_transactions[total_transactions.week == test_week][['customer_id', 'article_id']].drop_duplicates()\n",
    "    candidates = candidates_bestsellers[candidates_bestsellers.week == test_week][['customer_id', 'article_id']].drop_duplicates()\n",
    "    print(average_recall(purchases, candidates))"
   ],
   "metadata": {
    "execution": {
     "iopub.status.busy": "2023-11-07T22:30:02.218249Z",
     "iopub.execute_input": "2023-11-07T22:30:02.218548Z",
     "iopub.status.idle": "2023-11-07T22:30:04.357925Z",
     "shell.execute_reply.started": "2023-11-07T22:30:02.218509Z",
     "shell.execute_reply": "2023-11-07T22:30:04.356727Z"
    },
    "trusted": true
   },
   "execution_count": 34,
   "outputs": [
    {
     "name": "stdout",
     "text": "0.01692710508568287\n",
     "output_type": "stream"
    }
   ]
  },
  {
   "cell_type": "code",
   "source": [
    "# test = candidates_bestsellers[candidates_bestsellers.week == test_week].customer_id.drop_duplicates()\n",
    "# print(test.count())"
   ],
   "metadata": {
    "execution": {
     "iopub.status.busy": "2023-11-07T22:30:04.359200Z",
     "iopub.execute_input": "2023-11-07T22:30:04.359418Z",
     "iopub.status.idle": "2023-11-07T22:30:04.364701Z",
     "shell.execute_reply.started": "2023-11-07T22:30:04.359390Z",
     "shell.execute_reply": "2023-11-07T22:30:04.363181Z"
    },
    "trusted": true
   },
   "execution_count": 35,
   "outputs": []
  },
  {
   "cell_type": "code",
   "source": [
    "# test2 = total_transactions[total_transactions.week == test_week].customer_id.drop_duplicates()\n",
    "# print(test2.count())"
   ],
   "metadata": {
    "execution": {
     "iopub.status.busy": "2023-11-07T22:30:04.366145Z",
     "iopub.execute_input": "2023-11-07T22:30:04.366380Z",
     "iopub.status.idle": "2023-11-07T22:30:04.375527Z",
     "shell.execute_reply.started": "2023-11-07T22:30:04.366350Z",
     "shell.execute_reply": "2023-11-07T22:30:04.374669Z"
    },
    "trusted": true
   },
   "execution_count": 36,
   "outputs": []
  },
  {
   "cell_type": "markdown",
   "source": [
    "# Making a new group of candidates based on age group\n",
    "First make a new column and then apply the same process "
   ],
   "metadata": {}
  },
  {
   "cell_type": "code",
   "source": [
    "# define age groups\n",
    "def get_age_group(age):\n",
    "    if age < 18:\n",
    "        return 'Under 18'\n",
    "    elif age >= 18 and age < 25:\n",
    "        return '18-24'\n",
    "    elif age >= 25 and age < 35:\n",
    "        return '25-34'\n",
    "    elif age >= 35 and age < 45:\n",
    "        return '35-44'\n",
    "    elif age >= 45 and age < 55:\n",
    "        return '45-54'\n",
    "    elif age >= 55 and age < 65:\n",
    "        return '55-64'\n",
    "    else:\n",
    "        return '65+'"
   ],
   "metadata": {
    "execution": {
     "iopub.status.busy": "2023-11-07T22:30:04.378955Z",
     "iopub.execute_input": "2023-11-07T22:30:04.379202Z",
     "iopub.status.idle": "2023-11-07T22:30:04.387511Z",
     "shell.execute_reply.started": "2023-11-07T22:30:04.379169Z",
     "shell.execute_reply": "2023-11-07T22:30:04.386164Z"
    },
    "trusted": true
   },
   "execution_count": 37,
   "outputs": []
  },
  {
   "cell_type": "markdown",
   "source": [
    "Created a function to apply on the ages in the table. Then created a new column containing this. \n",
    "For now the age groups are strings, this means they cannot be used as features in the ranker model. "
   ],
   "metadata": {
    "collapsed": false
   }
  },
  {
   "cell_type": "code",
   "source": [
    "#apply the age groups on transactions\n",
    "customers[\"age_group\"] = customers[\"age\"].apply(get_age_group)"
   ],
   "metadata": {
    "execution": {
     "iopub.status.busy": "2023-11-07T22:30:04.389240Z",
     "iopub.execute_input": "2023-11-07T22:30:04.389524Z",
     "iopub.status.idle": "2023-11-07T22:30:04.858605Z",
     "shell.execute_reply.started": "2023-11-07T22:30:04.389487Z",
     "shell.execute_reply": "2023-11-07T22:30:04.857428Z"
    },
    "trusted": true
   },
   "execution_count": 38,
   "outputs": []
  },
  {
   "cell_type": "markdown",
   "source": [
    "## Now make a similar popularity calculation with respect to the age_group popularity \n",
    "(how popular is the item in a certain age_group that week)\n",
    "Then calculate similarly and evaluate\n",
    "The difference with normal popularity lies in the grouping by week AND age group"
   ],
   "metadata": {}
  },
  {
   "cell_type": "code",
   "source": [
    "# firstly take the age_groups and the cutomer ids\n",
    "age_groups_customers = customers[['customer_id', 'age_group']].drop_duplicates()\n",
    "\n",
    "# now join them into the transactions to create a new transactions set to work with\n",
    "age_group_transactions = pd.merge(transactions, age_groups_customers)\n",
    "# now the age_group is included, we will have to change some values and names to ensure this is used"
   ],
   "metadata": {
    "execution": {
     "iopub.status.busy": "2023-11-07T22:30:04.859742Z",
     "iopub.execute_input": "2023-11-07T22:30:04.860014Z",
     "iopub.status.idle": "2023-11-07T22:30:06.133502Z",
     "shell.execute_reply.started": "2023-11-07T22:30:04.859980Z",
     "shell.execute_reply": "2023-11-07T22:30:06.132205Z"
    },
    "trusted": true
   },
   "execution_count": 39,
   "outputs": []
  },
  {
   "cell_type": "code",
   "source": [
    "# Group the mean_price not per week/article but by week/article/age_group\n",
    "# this is so we know\n",
    "mean_price_age_group = age_group_transactions \\\n",
    "    .groupby(['week', 'age_group', 'article_id'])['price'].mean()\n",
    "\n",
    "# group the sales by week AND the age group and so find the most popular article for each age group in each week\n",
    "sales_age_group = age_group_transactions \\\n",
    "    .groupby(['week', 'age_group'])['article_id'].value_counts() \\\n",
    "    .groupby(['week', 'age_group']).rank(method='dense', ascending=False) \\\n",
    "    .groupby(['week', 'age_group']).head(12).rename('bestseller_rank').astype('int8')"
   ],
   "metadata": {
    "execution": {
     "iopub.status.busy": "2023-11-07T22:30:06.136033Z",
     "iopub.execute_input": "2023-11-07T22:30:06.137128Z",
     "iopub.status.idle": "2023-11-07T22:30:07.843497Z",
     "shell.execute_reply.started": "2023-11-07T22:30:06.137070Z",
     "shell.execute_reply": "2023-11-07T22:30:07.842296Z"
    },
    "trusted": true
   },
   "execution_count": 40,
   "outputs": []
  },
  {
   "cell_type": "code",
   "source": [
    "mean_price_age_group"
   ],
   "metadata": {
    "execution": {
     "iopub.status.busy": "2023-11-07T22:30:07.845213Z",
     "iopub.execute_input": "2023-11-07T22:30:07.845473Z",
     "iopub.status.idle": "2023-11-07T22:30:07.855971Z",
     "shell.execute_reply.started": "2023-11-07T22:30:07.845444Z",
     "shell.execute_reply": "2023-11-07T22:30:07.854938Z"
    },
    "trusted": true
   },
   "execution_count": 41,
   "outputs": [
    {
     "execution_count": 41,
     "output_type": "execute_result",
     "data": {
      "text/plain": "week  age_group  article_id\n94    18-24      108775044     0.008458\n                 111565001     0.006789\n                 111586001     0.012630\n                 111593001     0.012040\n                 111609001     0.011610\n                                 ...   \n103   Under 18   942733001     0.011847\n                 944506001     0.042356\n                 944989001     0.023373\n                 949551001     0.030492\n                 953450001     0.016932\nName: price, Length: 570982, dtype: float32"
     },
     "metadata": {}
    }
   ]
  },
  {
   "cell_type": "code",
   "source": [
    "sales_age_group"
   ],
   "metadata": {
    "execution": {
     "iopub.status.busy": "2023-11-07T22:30:07.857602Z",
     "iopub.execute_input": "2023-11-07T22:30:07.857870Z",
     "iopub.status.idle": "2023-11-07T22:30:07.874090Z",
     "shell.execute_reply.started": "2023-11-07T22:30:07.857842Z",
     "shell.execute_reply": "2023-11-07T22:30:07.873185Z"
    },
    "trusted": true
   },
   "execution_count": 42,
   "outputs": [
    {
     "execution_count": 42,
     "output_type": "execute_result",
     "data": {
      "text/plain": "week  age_group  article_id\n94    18-24      806388001     1\n                 866383006     2\n                 894140004     3\n                 850244003     4\n                 733749001     5\n                              ..\n103   Under 18   685813043     5\n                 685814063     5\n                 706016001     5\n                 762143010     5\n                 767423001     5\nName: bestseller_rank, Length: 840, dtype: int8"
     },
     "metadata": {}
    }
   ]
  },
  {
   "cell_type": "code",
   "source": [
    "# now calculate the bestsellers for these week - age_group combos\n",
    "bestsellers_previous_week_age_group = pd.merge(sales_age_group, mean_price_age_group, on=['week', 'age_group', 'article_id']).reset_index()\n",
    "bestsellers_previous_week_age_group.week += 1"
   ],
   "metadata": {
    "execution": {
     "iopub.status.busy": "2023-11-07T22:30:07.875590Z",
     "iopub.execute_input": "2023-11-07T22:30:07.875807Z",
     "iopub.status.idle": "2023-11-07T22:30:07.981474Z",
     "shell.execute_reply.started": "2023-11-07T22:30:07.875783Z",
     "shell.execute_reply": "2023-11-07T22:30:07.980312Z"
    },
    "trusted": true
   },
   "execution_count": 43,
   "outputs": []
  },
  {
   "cell_type": "code",
   "source": [
    "bestsellers_previous_week_age_group.pipe(lambda df: df[(df['week']==96) & (df['age_group']=='18-24')])"
   ],
   "metadata": {
    "execution": {
     "iopub.status.busy": "2023-11-07T22:30:07.982755Z",
     "iopub.execute_input": "2023-11-07T22:30:07.982998Z",
     "iopub.status.idle": "2023-11-07T22:30:07.998241Z",
     "shell.execute_reply.started": "2023-11-07T22:30:07.982966Z",
     "shell.execute_reply": "2023-11-07T22:30:07.997019Z"
    },
    "trusted": true
   },
   "execution_count": 44,
   "outputs": [
    {
     "execution_count": 44,
     "output_type": "execute_result",
     "data": {
      "text/plain": "    week age_group  article_id  bestseller_rank     price\n84    96     18-24   760084003                1  0.025180\n85    96     18-24   706016001                2  0.033148\n86    96     18-24   759871002                3  0.006150\n87    96     18-24   880099001                4  0.016395\n88    96     18-24   372860002                5  0.013193\n89    96     18-24   600886001                6  0.022921\n90    96     18-24   547780003                7  0.024935\n91    96     18-24   866731001                8  0.024758\n92    96     18-24   895002002                9  0.013611\n93    96     18-24   733749001               10  0.004966\n94    96     18-24   759871025               10  0.006659\n95    96     18-24   811887001               11  0.011913",
      "text/html": "<div>\n<style scoped>\n    .dataframe tbody tr th:only-of-type {\n        vertical-align: middle;\n    }\n\n    .dataframe tbody tr th {\n        vertical-align: top;\n    }\n\n    .dataframe thead th {\n        text-align: right;\n    }\n</style>\n<table border=\"1\" class=\"dataframe\">\n  <thead>\n    <tr style=\"text-align: right;\">\n      <th></th>\n      <th>week</th>\n      <th>age_group</th>\n      <th>article_id</th>\n      <th>bestseller_rank</th>\n      <th>price</th>\n    </tr>\n  </thead>\n  <tbody>\n    <tr>\n      <th>84</th>\n      <td>96</td>\n      <td>18-24</td>\n      <td>760084003</td>\n      <td>1</td>\n      <td>0.025180</td>\n    </tr>\n    <tr>\n      <th>85</th>\n      <td>96</td>\n      <td>18-24</td>\n      <td>706016001</td>\n      <td>2</td>\n      <td>0.033148</td>\n    </tr>\n    <tr>\n      <th>86</th>\n      <td>96</td>\n      <td>18-24</td>\n      <td>759871002</td>\n      <td>3</td>\n      <td>0.006150</td>\n    </tr>\n    <tr>\n      <th>87</th>\n      <td>96</td>\n      <td>18-24</td>\n      <td>880099001</td>\n      <td>4</td>\n      <td>0.016395</td>\n    </tr>\n    <tr>\n      <th>88</th>\n      <td>96</td>\n      <td>18-24</td>\n      <td>372860002</td>\n      <td>5</td>\n      <td>0.013193</td>\n    </tr>\n    <tr>\n      <th>89</th>\n      <td>96</td>\n      <td>18-24</td>\n      <td>600886001</td>\n      <td>6</td>\n      <td>0.022921</td>\n    </tr>\n    <tr>\n      <th>90</th>\n      <td>96</td>\n      <td>18-24</td>\n      <td>547780003</td>\n      <td>7</td>\n      <td>0.024935</td>\n    </tr>\n    <tr>\n      <th>91</th>\n      <td>96</td>\n      <td>18-24</td>\n      <td>866731001</td>\n      <td>8</td>\n      <td>0.024758</td>\n    </tr>\n    <tr>\n      <th>92</th>\n      <td>96</td>\n      <td>18-24</td>\n      <td>895002002</td>\n      <td>9</td>\n      <td>0.013611</td>\n    </tr>\n    <tr>\n      <th>93</th>\n      <td>96</td>\n      <td>18-24</td>\n      <td>733749001</td>\n      <td>10</td>\n      <td>0.004966</td>\n    </tr>\n    <tr>\n      <th>94</th>\n      <td>96</td>\n      <td>18-24</td>\n      <td>759871025</td>\n      <td>10</td>\n      <td>0.006659</td>\n    </tr>\n    <tr>\n      <th>95</th>\n      <td>96</td>\n      <td>18-24</td>\n      <td>811887001</td>\n      <td>11</td>\n      <td>0.011913</td>\n    </tr>\n  </tbody>\n</table>\n</div>"
     },
     "metadata": {}
    }
   ]
  },
  {
   "cell_type": "code",
   "source": [
    "unique_age_group_transactions = age_group_transactions \\\n",
    "    .groupby(['week', 'customer_id']) \\\n",
    "    .head(1) \\\n",
    "    .drop(columns=['article_id', 'price']) \\\n",
    "    .copy()"
   ],
   "metadata": {
    "execution": {
     "iopub.status.busy": "2023-11-07T22:30:07.999322Z",
     "iopub.execute_input": "2023-11-07T22:30:07.999813Z",
     "iopub.status.idle": "2023-11-07T22:30:08.618276Z",
     "shell.execute_reply.started": "2023-11-07T22:30:07.999784Z",
     "shell.execute_reply": "2023-11-07T22:30:08.616882Z"
    },
    "trusted": true
   },
   "execution_count": 45,
   "outputs": []
  },
  {
   "cell_type": "code",
   "source": [
    "age_group_candidates_bestsellers = pd.merge(\n",
    "    unique_age_group_transactions,\n",
    "    bestsellers_previous_week_age_group,\n",
    "    on=['week', 'age_group'],\n",
    ")"
   ],
   "metadata": {
    "execution": {
     "iopub.status.busy": "2023-11-07T22:30:08.620019Z",
     "iopub.execute_input": "2023-11-07T22:30:08.620404Z",
     "iopub.status.idle": "2023-11-07T22:30:09.387306Z",
     "shell.execute_reply.started": "2023-11-07T22:30:08.620363Z",
     "shell.execute_reply": "2023-11-07T22:30:09.386609Z"
    },
    "trusted": true
   },
   "execution_count": 46,
   "outputs": []
  },
  {
   "cell_type": "code",
   "source": [
    "test_set_age_group_transactions = unique_age_group_transactions.drop_duplicates('customer_id').reset_index(drop=True)\n",
    "test_set_age_group_transactions.week = test_week"
   ],
   "metadata": {
    "execution": {
     "iopub.status.busy": "2023-11-07T22:30:09.388536Z",
     "iopub.execute_input": "2023-11-07T22:30:09.388779Z",
     "iopub.status.idle": "2023-11-07T22:30:09.476060Z",
     "shell.execute_reply.started": "2023-11-07T22:30:09.388747Z",
     "shell.execute_reply": "2023-11-07T22:30:09.474289Z"
    },
    "trusted": true
   },
   "execution_count": 47,
   "outputs": []
  },
  {
   "cell_type": "code",
   "source": [
    "age_group_candidates_bestsellers_test_week = pd.merge(\n",
    "    test_set_age_group_transactions,\n",
    "    bestsellers_previous_week_age_group,\n",
    "    on=['week', 'age_group'],\n",
    ")"
   ],
   "metadata": {
    "execution": {
     "iopub.status.busy": "2023-11-07T22:30:09.477971Z",
     "iopub.execute_input": "2023-11-07T22:30:09.478510Z",
     "iopub.status.idle": "2023-11-07T22:30:09.965338Z",
     "shell.execute_reply.started": "2023-11-07T22:30:09.478471Z",
     "shell.execute_reply": "2023-11-07T22:30:09.964703Z"
    },
    "trusted": true
   },
   "execution_count": 48,
   "outputs": []
  },
  {
   "cell_type": "code",
   "source": [
    "age_group_candidates_bestsellers = pd.concat([age_group_candidates_bestsellers, age_group_candidates_bestsellers_test_week])\n",
    "age_group_candidates_bestsellers.drop(columns='bestseller_rank', inplace=True)"
   ],
   "metadata": {
    "execution": {
     "iopub.status.busy": "2023-11-07T22:30:09.966624Z",
     "iopub.execute_input": "2023-11-07T22:30:09.967040Z",
     "iopub.status.idle": "2023-11-07T22:30:10.758776Z",
     "shell.execute_reply.started": "2023-11-07T22:30:09.967004Z",
     "shell.execute_reply": "2023-11-07T22:30:10.757400Z"
    },
    "trusted": true
   },
   "execution_count": 49,
   "outputs": []
  },
  {
   "cell_type": "code",
   "source": [
    "age_group_candidates_bestsellers"
   ],
   "metadata": {
    "execution": {
     "iopub.status.busy": "2023-11-07T22:30:10.759859Z",
     "iopub.execute_input": "2023-11-07T22:30:10.760056Z",
     "iopub.status.idle": "2023-11-07T22:30:10.781597Z",
     "shell.execute_reply.started": "2023-11-07T22:30:10.760028Z",
     "shell.execute_reply": "2023-11-07T22:30:10.780202Z"
    },
    "trusted": true
   },
   "execution_count": 50,
   "outputs": [
    {
     "execution_count": 50,
     "output_type": "execute_result",
     "data": {
      "text/plain": "             t_dat           customer_id  sales_channel_id  week age_group  \\\n0       2020-07-17       857913002275398                 1    95     18-24   \n1       2020-07-17       857913002275398                 1    95     18-24   \n2       2020-07-17       857913002275398                 1    95     18-24   \n3       2020-07-17       857913002275398                 1    95     18-24   \n4       2020-07-17       857913002275398                 1    95     18-24   \n...            ...                   ...               ...   ...       ...   \n5272411 2020-09-15  18275989151869979916                 1   104  Under 18   \n5272412 2020-09-15  18275989151869979916                 1   104  Under 18   \n5272413 2020-09-15  18275989151869979916                 1   104  Under 18   \n5272414 2020-09-15  18275989151869979916                 1   104  Under 18   \n5272415 2020-09-15  18275989151869979916                 1   104  Under 18   \n\n         article_id     price  \n0         806388001  0.013250  \n1         866383006  0.024987  \n2         894140004  0.021638  \n3         850244003  0.004267  \n4         733749001  0.004952  \n...             ...       ...  \n5272411   685813043  0.016297  \n5272412   685814063  0.032186  \n5272413   706016001  0.032189  \n5272414   762143010  0.013220  \n5272415   767423001  0.023945  \n\n[13513128 rows x 7 columns]",
      "text/html": "<div>\n<style scoped>\n    .dataframe tbody tr th:only-of-type {\n        vertical-align: middle;\n    }\n\n    .dataframe tbody tr th {\n        vertical-align: top;\n    }\n\n    .dataframe thead th {\n        text-align: right;\n    }\n</style>\n<table border=\"1\" class=\"dataframe\">\n  <thead>\n    <tr style=\"text-align: right;\">\n      <th></th>\n      <th>t_dat</th>\n      <th>customer_id</th>\n      <th>sales_channel_id</th>\n      <th>week</th>\n      <th>age_group</th>\n      <th>article_id</th>\n      <th>price</th>\n    </tr>\n  </thead>\n  <tbody>\n    <tr>\n      <th>0</th>\n      <td>2020-07-17</td>\n      <td>857913002275398</td>\n      <td>1</td>\n      <td>95</td>\n      <td>18-24</td>\n      <td>806388001</td>\n      <td>0.013250</td>\n    </tr>\n    <tr>\n      <th>1</th>\n      <td>2020-07-17</td>\n      <td>857913002275398</td>\n      <td>1</td>\n      <td>95</td>\n      <td>18-24</td>\n      <td>866383006</td>\n      <td>0.024987</td>\n    </tr>\n    <tr>\n      <th>2</th>\n      <td>2020-07-17</td>\n      <td>857913002275398</td>\n      <td>1</td>\n      <td>95</td>\n      <td>18-24</td>\n      <td>894140004</td>\n      <td>0.021638</td>\n    </tr>\n    <tr>\n      <th>3</th>\n      <td>2020-07-17</td>\n      <td>857913002275398</td>\n      <td>1</td>\n      <td>95</td>\n      <td>18-24</td>\n      <td>850244003</td>\n      <td>0.004267</td>\n    </tr>\n    <tr>\n      <th>4</th>\n      <td>2020-07-17</td>\n      <td>857913002275398</td>\n      <td>1</td>\n      <td>95</td>\n      <td>18-24</td>\n      <td>733749001</td>\n      <td>0.004952</td>\n    </tr>\n    <tr>\n      <th>...</th>\n      <td>...</td>\n      <td>...</td>\n      <td>...</td>\n      <td>...</td>\n      <td>...</td>\n      <td>...</td>\n      <td>...</td>\n    </tr>\n    <tr>\n      <th>5272411</th>\n      <td>2020-09-15</td>\n      <td>18275989151869979916</td>\n      <td>1</td>\n      <td>104</td>\n      <td>Under 18</td>\n      <td>685813043</td>\n      <td>0.016297</td>\n    </tr>\n    <tr>\n      <th>5272412</th>\n      <td>2020-09-15</td>\n      <td>18275989151869979916</td>\n      <td>1</td>\n      <td>104</td>\n      <td>Under 18</td>\n      <td>685814063</td>\n      <td>0.032186</td>\n    </tr>\n    <tr>\n      <th>5272413</th>\n      <td>2020-09-15</td>\n      <td>18275989151869979916</td>\n      <td>1</td>\n      <td>104</td>\n      <td>Under 18</td>\n      <td>706016001</td>\n      <td>0.032189</td>\n    </tr>\n    <tr>\n      <th>5272414</th>\n      <td>2020-09-15</td>\n      <td>18275989151869979916</td>\n      <td>1</td>\n      <td>104</td>\n      <td>Under 18</td>\n      <td>762143010</td>\n      <td>0.013220</td>\n    </tr>\n    <tr>\n      <th>5272415</th>\n      <td>2020-09-15</td>\n      <td>18275989151869979916</td>\n      <td>1</td>\n      <td>104</td>\n      <td>Under 18</td>\n      <td>767423001</td>\n      <td>0.023945</td>\n    </tr>\n  </tbody>\n</table>\n<p>13513128 rows × 7 columns</p>\n</div>"
     },
     "metadata": {}
    }
   ]
  },
  {
   "cell_type": "markdown",
   "source": [
    "# Check The Recall"
   ],
   "metadata": {}
  },
  {
   "cell_type": "code",
   "source": [
    "if not test_week > absolute_max_week:\n",
    "    purchases = total_transactions[total_transactions.week == test_week][['customer_id', 'article_id']].drop_duplicates()\n",
    "    candidates = age_group_candidates_bestsellers[candidates_bestsellers.week == test_week][['customer_id', 'article_id']].drop_duplicates()\n",
    "    print(average_recall(purchases, candidates))"
   ],
   "metadata": {
    "execution": {
     "iopub.status.busy": "2023-11-07T22:30:10.783278Z",
     "iopub.execute_input": "2023-11-07T22:30:10.783578Z",
     "iopub.status.idle": "2023-11-07T22:30:13.238569Z",
     "shell.execute_reply.started": "2023-11-07T22:30:10.783538Z",
     "shell.execute_reply": "2023-11-07T22:30:13.237148Z"
    },
    "trusted": true
   },
   "execution_count": 51,
   "outputs": [
    {
     "name": "stdout",
     "text": "0.018756583007294242\n",
     "output_type": "stream"
    }
   ]
  },
  {
   "cell_type": "markdown",
   "source": [
    "1. # My code\n",
    "First a bit of encoding. We will change the missing age value to the median. "
   ],
   "metadata": {}
  },
  {
   "cell_type": "code",
   "source": [
    "# from sklearn.preprocessing import StandardScaler\n",
    "# scaler = StandardScaler()\n",
    "# scaler.fit_transform(train['age'])\n",
    "\n",
    "ages_copy = customers[customers.age != -1].copy()\n",
    "median_age = ages_copy['age'].median()\n",
    "median_age"
   ],
   "metadata": {
    "execution": {
     "iopub.status.busy": "2023-11-07T22:30:13.241535Z",
     "iopub.execute_input": "2023-11-07T22:30:13.241857Z",
     "iopub.status.idle": "2023-11-07T22:30:13.357654Z",
     "shell.execute_reply.started": "2023-11-07T22:30:13.241815Z",
     "shell.execute_reply": "2023-11-07T22:30:13.356245Z"
    },
    "trusted": true
   },
   "execution_count": 52,
   "outputs": [
    {
     "execution_count": 52,
     "output_type": "execute_result",
     "data": {
      "text/plain": "32.0"
     },
     "metadata": {}
    }
   ]
  },
  {
   "cell_type": "code",
   "source": [
    "customers.loc[customers['age'] == -1] = median_age \n",
    "customers['age'].min()"
   ],
   "metadata": {
    "execution": {
     "iopub.status.busy": "2023-11-07T22:30:13.360248Z",
     "iopub.execute_input": "2023-11-07T22:30:13.360603Z",
     "iopub.status.idle": "2023-11-07T22:30:13.416734Z",
     "shell.execute_reply.started": "2023-11-07T22:30:13.360562Z",
     "shell.execute_reply": "2023-11-07T22:30:13.415254Z"
    },
    "trusted": true
   },
   "execution_count": 53,
   "outputs": [
    {
     "execution_count": 53,
     "output_type": "execute_result",
     "data": {
      "text/plain": "16"
     },
     "metadata": {}
    }
   ]
  },
  {
   "cell_type": "markdown",
   "source": [
    "## Most popular item types"
   ],
   "metadata": {}
  },
  {
   "cell_type": "code",
   "source": [
    "# transactions.loc[:'year'] = transactions['t_dat'].dt.year\n",
    "# transactions['year'].value_counts()"
   ],
   "metadata": {
    "execution": {
     "iopub.status.busy": "2023-11-07T22:30:13.418533Z",
     "iopub.execute_input": "2023-11-07T22:30:13.418788Z",
     "iopub.status.idle": "2023-11-07T22:30:13.422848Z",
     "shell.execute_reply.started": "2023-11-07T22:30:13.418758Z",
     "shell.execute_reply": "2023-11-07T22:30:13.421833Z"
    },
    "trusted": true
   },
   "execution_count": 54,
   "outputs": []
  },
  {
   "cell_type": "markdown",
   "source": [
    "## Find the most bought color for a user\n",
    "We want to know the favourite color of the user based on the items bought."
   ],
   "metadata": {}
  },
  {
   "cell_type": "code",
   "source": [
    "articles_and_transactions = pd.merge(articles, transactions, on=\"article_id\")\n",
    "pop_colors = articles_and_transactions.groupby('customer_id')['colour_group_code'].value_counts().groupby('customer_id').rank(method='dense', ascending=False) \\\n",
    "    .groupby('customer_id').head(12).rename('favourite_color').astype('int8')"
   ],
   "metadata": {
    "execution": {
     "iopub.status.busy": "2023-11-07T22:30:13.423916Z",
     "iopub.execute_input": "2023-11-07T22:30:13.424178Z",
     "iopub.status.idle": "2023-11-07T22:30:17.407480Z",
     "shell.execute_reply.started": "2023-11-07T22:30:13.424147Z",
     "shell.execute_reply": "2023-11-07T22:30:17.406304Z"
    },
    "trusted": true
   },
   "execution_count": 55,
   "outputs": []
  },
  {
   "cell_type": "code",
   "source": [
    "pop_colors"
   ],
   "metadata": {
    "execution": {
     "iopub.status.busy": "2023-11-07T22:30:17.408849Z",
     "iopub.execute_input": "2023-11-07T22:30:17.409057Z",
     "iopub.status.idle": "2023-11-07T22:30:17.419705Z",
     "shell.execute_reply.started": "2023-11-07T22:30:17.409031Z",
     "shell.execute_reply": "2023-11-07T22:30:17.418808Z"
    },
    "trusted": true
   },
   "execution_count": 56,
   "outputs": [
    {
     "execution_count": 56,
     "output_type": "execute_result",
     "data": {
      "text/plain": "customer_id           colour_group_code\n28847241659200        9                    1\n                      10                   2\n                      52                   2\n41318098387474        73                   1\n116809474287335       9                    1\n                                          ..\n18446624797007271432  51                   1\n18446630855572834764  42                   1\n                      33                   2\n18446662237889060501  9                    1\n18446705133201055310  9                    1\nName: favourite_color, Length: 1545671, dtype: int8"
     },
     "metadata": {}
    }
   ]
  },
  {
   "cell_type": "markdown",
   "source": [
    "# Combining transactions and candidates / negative examples"
   ],
   "metadata": {}
  },
  {
   "cell_type": "code",
   "source": [
    "transactions['purchased'] = 1"
   ],
   "metadata": {
    "execution": {
     "iopub.status.busy": "2023-11-07T22:30:17.420806Z",
     "iopub.execute_input": "2023-11-07T22:30:17.421005Z",
     "iopub.status.idle": "2023-11-07T22:30:17.437201Z",
     "shell.execute_reply.started": "2023-11-07T22:30:17.420981Z",
     "shell.execute_reply": "2023-11-07T22:30:17.435804Z"
    },
    "trusted": true
   },
   "execution_count": 57,
   "outputs": []
  },
  {
   "cell_type": "code",
   "source": [
    "data = pd.concat([transactions, candidates_last_purchase, candidates_bestsellers])\n",
    "data.purchased.fillna(0, inplace=True)"
   ],
   "metadata": {
    "execution": {
     "iopub.status.busy": "2023-11-07T22:30:17.438593Z",
     "iopub.execute_input": "2023-11-07T22:30:17.438885Z",
     "iopub.status.idle": "2023-11-07T22:30:17.741406Z",
     "shell.execute_reply.started": "2023-11-07T22:30:17.438843Z",
     "shell.execute_reply": "2023-11-07T22:30:17.739660Z"
    },
    "trusted": true
   },
   "execution_count": 58,
   "outputs": []
  },
  {
   "cell_type": "code",
   "source": [
    "data"
   ],
   "metadata": {
    "execution": {
     "iopub.status.busy": "2023-11-07T22:30:17.743627Z",
     "iopub.execute_input": "2023-11-07T22:30:17.744031Z",
     "iopub.status.idle": "2023-11-07T22:30:17.764700Z",
     "shell.execute_reply.started": "2023-11-07T22:30:17.743991Z",
     "shell.execute_reply": "2023-11-07T22:30:17.763341Z"
    },
    "trusted": true
   },
   "execution_count": 59,
   "outputs": [
    {
     "execution_count": 59,
     "output_type": "execute_result",
     "data": {
      "text/plain": "              t_dat           customer_id  article_id     price  \\\n28777300 2020-07-08       857913002275398   599580068  0.008458   \n28777301 2020-07-08       857913002275398   776237011  0.025407   \n28777302 2020-07-08       857913002275398   844294001  0.011847   \n28787123 2020-07-08      1658289241058394   877773001  0.007610   \n28788562 2020-07-08      3828854365940846   507883009  0.013542   \n...             ...                   ...         ...       ...   \n5272411  2020-09-15  18446630855572834764   918292001  0.041424   \n5272412  2020-09-15  18446630855572834764   762846027  0.025104   \n5272413  2020-09-15  18446630855572834764   809238005  0.041656   \n5272414  2020-09-15  18446630855572834764   673677002  0.024925   \n5272415  2020-09-15  18446630855572834764   923758001  0.033478   \n\n          sales_channel_id  week  purchased  \n28777300                 1    94        1.0  \n28777301                 1    94        1.0  \n28777302                 1    94        1.0  \n28787123                 1    94        1.0  \n28788562                 1    94        1.0  \n...                    ...   ...        ...  \n5272411                  2   104        0.0  \n5272412                  2   104        0.0  \n5272413                  2   104        0.0  \n5272414                  2   104        0.0  \n5272415                  2   104        0.0  \n\n[19131594 rows x 7 columns]",
      "text/html": "<div>\n<style scoped>\n    .dataframe tbody tr th:only-of-type {\n        vertical-align: middle;\n    }\n\n    .dataframe tbody tr th {\n        vertical-align: top;\n    }\n\n    .dataframe thead th {\n        text-align: right;\n    }\n</style>\n<table border=\"1\" class=\"dataframe\">\n  <thead>\n    <tr style=\"text-align: right;\">\n      <th></th>\n      <th>t_dat</th>\n      <th>customer_id</th>\n      <th>article_id</th>\n      <th>price</th>\n      <th>sales_channel_id</th>\n      <th>week</th>\n      <th>purchased</th>\n    </tr>\n  </thead>\n  <tbody>\n    <tr>\n      <th>28777300</th>\n      <td>2020-07-08</td>\n      <td>857913002275398</td>\n      <td>599580068</td>\n      <td>0.008458</td>\n      <td>1</td>\n      <td>94</td>\n      <td>1.0</td>\n    </tr>\n    <tr>\n      <th>28777301</th>\n      <td>2020-07-08</td>\n      <td>857913002275398</td>\n      <td>776237011</td>\n      <td>0.025407</td>\n      <td>1</td>\n      <td>94</td>\n      <td>1.0</td>\n    </tr>\n    <tr>\n      <th>28777302</th>\n      <td>2020-07-08</td>\n      <td>857913002275398</td>\n      <td>844294001</td>\n      <td>0.011847</td>\n      <td>1</td>\n      <td>94</td>\n      <td>1.0</td>\n    </tr>\n    <tr>\n      <th>28787123</th>\n      <td>2020-07-08</td>\n      <td>1658289241058394</td>\n      <td>877773001</td>\n      <td>0.007610</td>\n      <td>1</td>\n      <td>94</td>\n      <td>1.0</td>\n    </tr>\n    <tr>\n      <th>28788562</th>\n      <td>2020-07-08</td>\n      <td>3828854365940846</td>\n      <td>507883009</td>\n      <td>0.013542</td>\n      <td>1</td>\n      <td>94</td>\n      <td>1.0</td>\n    </tr>\n    <tr>\n      <th>...</th>\n      <td>...</td>\n      <td>...</td>\n      <td>...</td>\n      <td>...</td>\n      <td>...</td>\n      <td>...</td>\n      <td>...</td>\n    </tr>\n    <tr>\n      <th>5272411</th>\n      <td>2020-09-15</td>\n      <td>18446630855572834764</td>\n      <td>918292001</td>\n      <td>0.041424</td>\n      <td>2</td>\n      <td>104</td>\n      <td>0.0</td>\n    </tr>\n    <tr>\n      <th>5272412</th>\n      <td>2020-09-15</td>\n      <td>18446630855572834764</td>\n      <td>762846027</td>\n      <td>0.025104</td>\n      <td>2</td>\n      <td>104</td>\n      <td>0.0</td>\n    </tr>\n    <tr>\n      <th>5272413</th>\n      <td>2020-09-15</td>\n      <td>18446630855572834764</td>\n      <td>809238005</td>\n      <td>0.041656</td>\n      <td>2</td>\n      <td>104</td>\n      <td>0.0</td>\n    </tr>\n    <tr>\n      <th>5272414</th>\n      <td>2020-09-15</td>\n      <td>18446630855572834764</td>\n      <td>673677002</td>\n      <td>0.024925</td>\n      <td>2</td>\n      <td>104</td>\n      <td>0.0</td>\n    </tr>\n    <tr>\n      <th>5272415</th>\n      <td>2020-09-15</td>\n      <td>18446630855572834764</td>\n      <td>923758001</td>\n      <td>0.033478</td>\n      <td>2</td>\n      <td>104</td>\n      <td>0.0</td>\n    </tr>\n  </tbody>\n</table>\n<p>19131594 rows × 7 columns</p>\n</div>"
     },
     "metadata": {}
    }
   ]
  },
  {
   "cell_type": "code",
   "source": [
    "data.drop_duplicates(['customer_id', 'article_id', 'week'], inplace=True)"
   ],
   "metadata": {
    "execution": {
     "iopub.status.busy": "2023-11-07T22:30:17.765894Z",
     "iopub.execute_input": "2023-11-07T22:30:17.766150Z",
     "iopub.status.idle": "2023-11-07T22:30:22.961188Z",
     "shell.execute_reply.started": "2023-11-07T22:30:17.766118Z",
     "shell.execute_reply": "2023-11-07T22:30:22.960032Z"
    },
    "trusted": true
   },
   "execution_count": 60,
   "outputs": []
  },
  {
   "cell_type": "code",
   "source": [
    "data.purchased.mean()"
   ],
   "metadata": {
    "execution": {
     "iopub.status.busy": "2023-11-07T22:30:22.962554Z",
     "iopub.execute_input": "2023-11-07T22:30:22.962788Z",
     "iopub.status.idle": "2023-11-07T22:30:22.999822Z",
     "shell.execute_reply.started": "2023-11-07T22:30:22.962753Z",
     "shell.execute_reply": "2023-11-07T22:30:22.999197Z"
    },
    "trusted": true
   },
   "execution_count": 61,
   "outputs": [
    {
     "execution_count": 61,
     "output_type": "execute_result",
     "data": {
      "text/plain": "0.1369278646522875"
     },
     "metadata": {}
    }
   ]
  },
  {
   "cell_type": "markdown",
   "source": [
    "### Add bestseller information"
   ],
   "metadata": {}
  },
  {
   "cell_type": "code",
   "source": [
    "data = pd.merge(\n",
    "    data,\n",
    "    bestsellers_previous_week[['week', 'article_id', 'bestseller_rank']],\n",
    "    on=['week', 'article_id'],\n",
    "    how='left'\n",
    ")"
   ],
   "metadata": {
    "execution": {
     "iopub.status.busy": "2023-11-07T22:30:23.000639Z",
     "iopub.execute_input": "2023-11-07T22:30:23.000837Z",
     "iopub.status.idle": "2023-11-07T22:30:25.608704Z",
     "shell.execute_reply.started": "2023-11-07T22:30:23.000806Z",
     "shell.execute_reply": "2023-11-07T22:30:25.607276Z"
    },
    "trusted": true
   },
   "execution_count": 62,
   "outputs": []
  },
  {
   "cell_type": "code",
   "source": [
    "data = data[data.week != data.week.min()]\n",
    "data.bestseller_rank.fillna(999, inplace=True)"
   ],
   "metadata": {
    "execution": {
     "iopub.status.busy": "2023-11-07T22:30:25.609900Z",
     "iopub.execute_input": "2023-11-07T22:30:25.610151Z",
     "iopub.status.idle": "2023-11-07T22:30:26.741017Z",
     "shell.execute_reply.started": "2023-11-07T22:30:25.610118Z",
     "shell.execute_reply": "2023-11-07T22:30:26.739441Z"
    },
    "trusted": true
   },
   "execution_count": 63,
   "outputs": []
  },
  {
   "cell_type": "code",
   "source": [
    "data = pd.merge(data, articles, on='article_id', how='left')\n",
    "data = pd.merge(data, customers, on='customer_id', how='left')"
   ],
   "metadata": {
    "execution": {
     "iopub.status.busy": "2023-11-07T22:30:26.743067Z",
     "iopub.execute_input": "2023-11-07T22:30:26.743436Z",
     "iopub.status.idle": "2023-11-07T22:30:50.762389Z",
     "shell.execute_reply.started": "2023-11-07T22:30:26.743351Z",
     "shell.execute_reply": "2023-11-07T22:30:50.760959Z"
    },
    "trusted": true
   },
   "execution_count": 64,
   "outputs": []
  },
  {
   "cell_type": "code",
   "source": [
    "data.sort_values(['week', 'customer_id'], inplace=True)\n",
    "data.reset_index(drop=True, inplace=True)"
   ],
   "metadata": {
    "execution": {
     "iopub.status.busy": "2023-11-07T22:30:50.763960Z",
     "iopub.execute_input": "2023-11-07T22:30:50.764239Z",
     "iopub.status.idle": "2023-11-07T22:30:57.389264Z",
     "shell.execute_reply.started": "2023-11-07T22:30:50.764206Z",
     "shell.execute_reply": "2023-11-07T22:30:57.387692Z"
    },
    "trusted": true
   },
   "execution_count": 65,
   "outputs": []
  },
  {
   "cell_type": "markdown",
   "source": [
    "# my code"
   ],
   "metadata": {}
  },
  {
   "cell_type": "code",
   "source": [
    "# make a copy of the date column\n",
    "# we use the date column to replace it with the days  so we still have the date, but now have a day column\n",
    "data[\"day\"] = data.loc[:,\"t_dat\"]\n",
    "data.loc[:, \"day\"] = data[\"day\"].dt.day\n",
    "data[\"day\"].value_counts()"
   ],
   "metadata": {
    "execution": {
     "iopub.status.busy": "2023-11-07T22:30:57.390630Z",
     "iopub.execute_input": "2023-11-07T22:30:57.390873Z",
     "iopub.status.idle": "2023-11-07T22:30:58.106923Z",
     "shell.execute_reply.started": "2023-11-07T22:30:57.390842Z",
     "shell.execute_reply": "2023-11-07T22:30:58.105959Z"
    },
    "trusted": true
   },
   "execution_count": 66,
   "outputs": [
    {
     "execution_count": 66,
     "output_type": "execute_result",
     "data": {
      "text/plain": "12    800948\n15    775155\n10    680497\n11    668513\n5     661071\n8     659042\n13    656858\n29    640582\n9     632048\n4     614292\n22    598148\n30    597581\n27    585844\n28    585662\n24    583192\n6     573094\n3     572728\n14    561459\n20    557972\n25    556323\n26    553036\n23    548998\n21    538875\n17    534922\n7     514924\n1     513802\n18    508906\n16    503085\n31    493735\n2     480370\n19    464138\nName: day, dtype: int64"
     },
     "metadata": {}
    }
   ]
  },
  {
   "cell_type": "code",
   "source": [
    "data[\"t_dat\"].value_counts()"
   ],
   "metadata": {
    "execution": {
     "iopub.status.busy": "2023-11-07T22:30:58.108614Z",
     "iopub.execute_input": "2023-11-07T22:30:58.108845Z",
     "iopub.status.idle": "2023-11-07T22:30:58.262464Z",
     "shell.execute_reply.started": "2023-11-07T22:30:58.108820Z",
     "shell.execute_reply": "2023-11-07T22:30:58.261377Z"
    },
    "trusted": true
   },
   "execution_count": 67,
   "outputs": [
    {
     "execution_count": 67,
     "output_type": "execute_result",
     "data": {
      "text/plain": "2020-08-12    427360\n2020-07-15    418490\n2020-08-05    377314\n2020-07-30    373500\n2020-07-29    367905\n               ...  \n2020-07-13    153466\n2020-09-15    150876\n2020-07-14    145520\n2020-08-16    142685\n2020-07-12    111472\nName: t_dat, Length: 70, dtype: int64"
     },
     "metadata": {}
    }
   ]
  },
  {
   "cell_type": "code",
   "source": [
    "data.loc[:, \"day_sin\"] = np.sin(2 * np.pi * data[\"day\"]/365)\n",
    "data[\"day_sin\"]"
   ],
   "metadata": {
    "execution": {
     "iopub.status.busy": "2023-11-07T22:30:58.264158Z",
     "iopub.execute_input": "2023-11-07T22:30:58.264382Z",
     "iopub.status.idle": "2023-11-07T22:30:58.542217Z",
     "shell.execute_reply.started": "2023-11-07T22:30:58.264357Z",
     "shell.execute_reply": "2023-11-07T22:30:58.541343Z"
    },
    "trusted": true
   },
   "execution_count": 68,
   "outputs": [
    {
     "execution_count": 68,
     "output_type": "execute_result",
     "data": {
      "text/plain": "0           0.304921\n1           0.304921\n2           0.238673\n3           0.238673\n4           0.238673\n              ...   \n18215795    0.103102\n18215796    0.103102\n18215797    0.103102\n18215798    0.103102\n18215799    0.103102\nName: day_sin, Length: 18215800, dtype: float64"
     },
     "metadata": {}
    }
   ]
  },
  {
   "cell_type": "code",
   "source": [
    "data.loc[:, \"day_cos\"] = np.cos(2 * np.pi * data[\"day\"]/365)\n",
    "data[\"day_sin\"]"
   ],
   "metadata": {
    "execution": {
     "iopub.status.busy": "2023-11-07T22:30:58.543764Z",
     "iopub.execute_input": "2023-11-07T22:30:58.544013Z",
     "iopub.status.idle": "2023-11-07T22:30:58.820044Z",
     "shell.execute_reply.started": "2023-11-07T22:30:58.543987Z",
     "shell.execute_reply": "2023-11-07T22:30:58.818960Z"
    },
    "trusted": true
   },
   "execution_count": 69,
   "outputs": [
    {
     "execution_count": 69,
     "output_type": "execute_result",
     "data": {
      "text/plain": "0           0.304921\n1           0.304921\n2           0.238673\n3           0.238673\n4           0.238673\n              ...   \n18215795    0.103102\n18215796    0.103102\n18215797    0.103102\n18215798    0.103102\n18215799    0.103102\nName: day_sin, Length: 18215800, dtype: float64"
     },
     "metadata": {}
    }
   ]
  },
  {
   "cell_type": "code",
   "source": [
    "train = data[data.week != test_week]\n",
    "test = data[data.week==test_week].drop_duplicates(['customer_id', 'article_id', 'sales_channel_id']).copy()"
   ],
   "metadata": {
    "execution": {
     "iopub.status.busy": "2023-11-07T22:30:58.821678Z",
     "iopub.execute_input": "2023-11-07T22:30:58.821954Z",
     "iopub.status.idle": "2023-11-07T22:31:06.043851Z",
     "shell.execute_reply.started": "2023-11-07T22:30:58.821920Z",
     "shell.execute_reply": "2023-11-07T22:31:06.042483Z"
    },
    "trusted": true
   },
   "execution_count": 70,
   "outputs": []
  },
  {
   "cell_type": "code",
   "source": [
    "train_baskets = train.groupby(['week', 'customer_id'])['article_id'].count().values"
   ],
   "metadata": {
    "execution": {
     "iopub.status.busy": "2023-11-07T22:31:06.045255Z",
     "iopub.execute_input": "2023-11-07T22:31:06.045491Z",
     "iopub.status.idle": "2023-11-07T22:31:06.760389Z",
     "shell.execute_reply.started": "2023-11-07T22:31:06.045461Z",
     "shell.execute_reply": "2023-11-07T22:31:06.759147Z"
    },
    "trusted": true
   },
   "execution_count": 71,
   "outputs": []
  },
  {
   "cell_type": "code",
   "source": [
    "train['age'].min()"
   ],
   "metadata": {
    "execution": {
     "iopub.status.busy": "2023-11-07T22:31:06.761691Z",
     "iopub.execute_input": "2023-11-07T22:31:06.761924Z",
     "iopub.status.idle": "2023-11-07T22:31:06.806279Z",
     "shell.execute_reply.started": "2023-11-07T22:31:06.761896Z",
     "shell.execute_reply": "2023-11-07T22:31:06.805137Z"
    },
    "trusted": true
   },
   "execution_count": 72,
   "outputs": [
    {
     "execution_count": 72,
     "output_type": "execute_result",
     "data": {
      "text/plain": "16.0"
     },
     "metadata": {}
    }
   ]
  },
  {
   "cell_type": "code",
   "source": [
    "columns_to_use = ['article_id', 'product_type_no', 'graphical_appearance_no', 'colour_group_code', 'perceived_colour_value_id',\n",
    "'perceived_colour_master_id', 'department_no', 'index_code',\n",
    "'index_group_no', 'section_no', 'garment_group_no', 'FN', 'Active', 'day_sin', 'day_cos',\n",
    "'club_member_status', 'fashion_news_frequency', 'age', 'postal_code', 'bestseller_rank']"
   ],
   "metadata": {
    "execution": {
     "iopub.status.busy": "2023-11-07T22:31:06.808186Z",
     "iopub.execute_input": "2023-11-07T22:31:06.808500Z",
     "iopub.status.idle": "2023-11-07T22:31:06.814752Z",
     "shell.execute_reply.started": "2023-11-07T22:31:06.808467Z",
     "shell.execute_reply": "2023-11-07T22:31:06.813163Z"
    },
    "trusted": true
   },
   "execution_count": 73,
   "outputs": []
  },
  {
   "cell_type": "code",
   "source": [
    "%%time\n",
    "\n",
    "train_X = train[columns_to_use]\n",
    "train_y = train['purchased']\n",
    "\n",
    "test_X = test[columns_to_use]"
   ],
   "metadata": {
    "execution": {
     "iopub.status.busy": "2023-11-07T22:31:06.816647Z",
     "iopub.execute_input": "2023-11-07T22:31:06.816946Z",
     "iopub.status.idle": "2023-11-07T22:31:07.267729Z",
     "shell.execute_reply.started": "2023-11-07T22:31:06.816905Z",
     "shell.execute_reply": "2023-11-07T22:31:07.266677Z"
    },
    "trusted": true
   },
   "execution_count": 74,
   "outputs": [
    {
     "name": "stdout",
     "text": "CPU times: user 266 ms, sys: 175 ms, total: 442 ms\nWall time: 440 ms\n",
     "output_type": "stream"
    }
   ]
  },
  {
   "cell_type": "markdown",
   "source": [
    "# Model training"
   ],
   "metadata": {}
  },
  {
   "cell_type": "code",
   "source": [
    "from lightgbm.sklearn import LGBMRanker"
   ],
   "metadata": {
    "execution": {
     "iopub.status.busy": "2023-11-07T22:31:07.269410Z",
     "iopub.execute_input": "2023-11-07T22:31:07.269655Z",
     "iopub.status.idle": "2023-11-07T22:31:08.277860Z",
     "shell.execute_reply.started": "2023-11-07T22:31:07.269626Z",
     "shell.execute_reply": "2023-11-07T22:31:08.277280Z"
    },
    "trusted": true
   },
   "execution_count": 75,
   "outputs": [
    {
     "output_type": "display_data",
     "data": {
      "text/plain": "<IPython.core.display.HTML object>",
      "text/html": "<style type='text/css'>\n.datatable table.frame { margin-bottom: 0; }\n.datatable table.frame thead { border-bottom: none; }\n.datatable table.frame tr.coltypes td {  color: #FFFFFF;  line-height: 6px;  padding: 0 0.5em;}\n.datatable .bool    { background: #DDDD99; }\n.datatable .object  { background: #565656; }\n.datatable .int     { background: #5D9E5D; }\n.datatable .float   { background: #4040CC; }\n.datatable .str     { background: #CC4040; }\n.datatable .time    { background: #40CC40; }\n.datatable .row_index {  background: var(--jp-border-color3);  border-right: 1px solid var(--jp-border-color0);  color: var(--jp-ui-font-color3);  font-size: 9px;}\n.datatable .frame tbody td { text-align: left; }\n.datatable .frame tr.coltypes .row_index {  background: var(--jp-border-color0);}\n.datatable th:nth-child(2) { padding-left: 12px; }\n.datatable .hellipsis {  color: var(--jp-cell-editor-border-color);}\n.datatable .vellipsis {  background: var(--jp-layout-color0);  color: var(--jp-cell-editor-border-color);}\n.datatable .na {  color: var(--jp-cell-editor-border-color);  font-size: 80%;}\n.datatable .sp {  opacity: 0.25;}\n.datatable .footer { font-size: 9px; }\n.datatable .frame_dimensions {  background: var(--jp-border-color3);  border-top: 1px solid var(--jp-border-color0);  color: var(--jp-ui-font-color3);  display: inline-block;  opacity: 0.6;  padding: 1px 10px 1px 5px;}\n</style>\n"
     },
     "metadata": {}
    }
   ]
  },
  {
   "cell_type": "code",
   "source": [
    "ranker = LGBMRanker(\n",
    "    objective=\"lambdarank\",\n",
    "    metric=\"ndcg\",\n",
    "    boosting_type=\"dart\",\n",
    "    n_estimators=1,\n",
    "    importance_type='gain',\n",
    "    verbose=10\n",
    ")"
   ],
   "metadata": {
    "execution": {
     "iopub.status.busy": "2023-11-07T22:31:08.278799Z",
     "iopub.execute_input": "2023-11-07T22:31:08.279061Z",
     "iopub.status.idle": "2023-11-07T22:31:08.284599Z",
     "shell.execute_reply.started": "2023-11-07T22:31:08.279038Z",
     "shell.execute_reply": "2023-11-07T22:31:08.282964Z"
    },
    "trusted": true
   },
   "execution_count": 76,
   "outputs": []
  },
  {
   "cell_type": "code",
   "source": [
    "%%time\n",
    "\n",
    "ranker = ranker.fit(\n",
    "    train_X,\n",
    "    train_y,\n",
    "    group=train_baskets,\n",
    ")"
   ],
   "metadata": {
    "execution": {
     "iopub.status.busy": "2023-11-07T22:31:08.286351Z",
     "iopub.execute_input": "2023-11-07T22:31:08.286601Z",
     "iopub.status.idle": "2023-11-07T22:31:15.952650Z",
     "shell.execute_reply.started": "2023-11-07T22:31:08.286573Z",
     "shell.execute_reply": "2023-11-07T22:31:15.951726Z"
    },
    "trusted": true
   },
   "execution_count": 77,
   "outputs": [
    {
     "name": "stdout",
     "text": "[LightGBM] [Debug] Dataset::GetMultiBinFromSparseFeatures: sparse rate 0.843325\n[LightGBM] [Debug] Dataset::GetMultiBinFromAllFeatures: sparse rate 0.135675\n[LightGBM] [Debug] init for col-wise cost 0.195535 seconds, init for row-wise cost 0.900390 seconds\n[LightGBM] [Warning] Auto-choosing col-wise multi-threading, the overhead of testing was 1.550673 seconds.\nYou can set `force_col_wise=true` to remove the overhead.\n[LightGBM] [Info] Total Bins 1217\n[LightGBM] [Info] Number of data points in the train set: 11557594, number of used features: 20\n[LightGBM] [Debug] Trained a tree with leaves = 31 and depth = 11\nCPU times: user 23 s, sys: 741 ms, total: 23.8 s\nWall time: 7.66 s\n",
     "output_type": "stream"
    }
   ]
  },
  {
   "cell_type": "code",
   "source": [
    "for i in ranker.feature_importances_.argsort()[::-1]:\n",
    "    print(columns_to_use[i], ranker.feature_importances_[i]/ranker.feature_importances_.sum())"
   ],
   "metadata": {
    "execution": {
     "iopub.status.busy": "2023-11-07T22:31:15.953724Z",
     "iopub.execute_input": "2023-11-07T22:31:15.953963Z",
     "iopub.status.idle": "2023-11-07T22:31:15.967889Z",
     "shell.execute_reply.started": "2023-11-07T22:31:15.953933Z",
     "shell.execute_reply": "2023-11-07T22:31:15.964483Z"
    },
    "trusted": true
   },
   "execution_count": 78,
   "outputs": [
    {
     "name": "stdout",
     "text": "bestseller_rank 0.998576263874084\nday_sin 0.00048019114217671564\narticle_id 0.0004462109884813076\nage 0.00016144988300781788\ngarment_group_no 9.808106205412895e-05\nproduct_type_no 8.342173044933447e-05\nclub_member_status 4.696334666489633e-05\npostal_code 4.425691724660244e-05\ncolour_group_code 3.229196203482674e-05\ndepartment_no 3.086909380029724e-05\nfashion_news_frequency 0.0\nperceived_colour_master_id 0.0\ngraphical_appearance_no 0.0\nperceived_colour_value_id 0.0\nindex_group_no 0.0\nindex_code 0.0\nFN 0.0\nActive 0.0\nday_cos 0.0\nsection_no 0.0\n",
     "output_type": "stream"
    }
   ]
  },
  {
   "cell_type": "markdown",
   "source": [
    "# Calculate predictions"
   ],
   "metadata": {}
  },
  {
   "cell_type": "code",
   "source": [
    "%time\n",
    "\n",
    "test['preds'] = ranker.predict(test_X)\n",
    "\n",
    "c_id2predicted_article_ids = test \\\n",
    "    .sort_values(['customer_id', 'preds'], ascending=False) \\\n",
    "    .groupby('customer_id')['article_id'].apply(list).to_dict()\n",
    "\n",
    "bestsellers_last_week = \\\n",
    "    bestsellers_previous_week[bestsellers_previous_week.week == bestsellers_previous_week.week.max()]['article_id'].tolist()"
   ],
   "metadata": {
    "execution": {
     "iopub.status.busy": "2023-11-07T22:31:15.969362Z",
     "iopub.execute_input": "2023-11-07T22:31:15.969655Z",
     "iopub.status.idle": "2023-11-07T22:31:29.883334Z",
     "shell.execute_reply.started": "2023-11-07T22:31:15.969613Z",
     "shell.execute_reply": "2023-11-07T22:31:29.878275Z"
    },
    "trusted": true
   },
   "execution_count": 79,
   "outputs": [
    {
     "name": "stdout",
     "text": "CPU times: user 3 µs, sys: 0 ns, total: 3 µs\nWall time: 7.87 µs\n",
     "output_type": "stream"
    }
   ]
  },
  {
   "cell_type": "markdown",
   "source": [
    "# Create submission"
   ],
   "metadata": {}
  },
  {
   "cell_type": "code",
   "source": [
    "sub = pd.read_csv('/kaggle/input/h-and-m-personalized-fashion-recommendations/sample_submission.csv')"
   ],
   "metadata": {
    "execution": {
     "iopub.status.busy": "2023-11-07T22:31:29.893255Z",
     "iopub.execute_input": "2023-11-07T22:31:29.893848Z",
     "iopub.status.idle": "2023-11-07T22:31:35.199756Z",
     "shell.execute_reply.started": "2023-11-07T22:31:29.893783Z",
     "shell.execute_reply": "2023-11-07T22:31:35.198902Z"
    },
    "trusted": true
   },
   "execution_count": 80,
   "outputs": []
  },
  {
   "cell_type": "code",
   "source": [
    "%%time\n",
    "preds = []\n",
    "for c_id in customer_hex_id_to_int(sub.customer_id):\n",
    "    pred = c_id2predicted_article_ids.get(c_id, [])\n",
    "    pred = pred + bestsellers_last_week\n",
    "    preds.append(pred[:12])"
   ],
   "metadata": {
    "execution": {
     "iopub.status.busy": "2023-11-07T22:31:35.200883Z",
     "iopub.execute_input": "2023-11-07T22:31:35.201123Z",
     "iopub.status.idle": "2023-11-07T22:31:41.084866Z",
     "shell.execute_reply.started": "2023-11-07T22:31:35.201066Z",
     "shell.execute_reply": "2023-11-07T22:31:41.083631Z"
    },
    "trusted": true
   },
   "execution_count": 81,
   "outputs": [
    {
     "name": "stdout",
     "text": "CPU times: user 5.59 s, sys: 287 ms, total: 5.88 s\nWall time: 5.88 s\n",
     "output_type": "stream"
    }
   ]
  },
  {
   "cell_type": "code",
   "source": [
    "preds = [' '.join(['0' + str(p) for p in ps]) for ps in preds]\n",
    "sub.prediction = preds"
   ],
   "metadata": {
    "execution": {
     "iopub.status.busy": "2023-11-07T22:31:41.092664Z",
     "iopub.execute_input": "2023-11-07T22:31:41.092932Z",
     "iopub.status.idle": "2023-11-07T22:31:46.672413Z",
     "shell.execute_reply.started": "2023-11-07T22:31:41.092901Z",
     "shell.execute_reply": "2023-11-07T22:31:46.671811Z"
    },
    "trusted": true
   },
   "execution_count": 82,
   "outputs": []
  },
  {
   "cell_type": "code",
   "source": [
    "sub_name = 'added_2_features_model_submission'\n",
    "sub.to_csv(f'{sub_name}.csv.gz', index=False)"
   ],
   "metadata": {
    "execution": {
     "iopub.status.busy": "2023-11-07T22:31:46.673489Z",
     "iopub.execute_input": "2023-11-07T22:31:46.674377Z",
     "iopub.status.idle": "2023-11-07T22:32:05.483401Z",
     "shell.execute_reply.started": "2023-11-07T22:31:46.674333Z",
     "shell.execute_reply": "2023-11-07T22:32:05.482434Z"
    },
    "trusted": true
   },
   "execution_count": 83,
   "outputs": []
  }
 ]
}
