{
 "nbformat": 4,
 "nbformat_minor": 0,
 "metadata": {
  "colab": {
   "provenance": []
  },
  "kernelspec": {
   "name": "python3",
   "language": "python",
   "display_name": "Python 3 (ipykernel)"
  },
  "language_info": {
   "name": "python"
  }
 },
 "cells": [
  {
   "cell_type": "code",
   "execution_count": 9,
   "metadata": {
    "id": "XdYaV-8D7vBK",
    "ExecuteTime": {
     "end_time": "2023-10-02T23:08:56.233621833Z",
     "start_time": "2023-10-02T23:08:56.231371967Z"
    }
   },
   "outputs": [],
   "source": [
    "# mount Google Drive\n",
    "import pandas as pd\n",
    "# from google.colab import drive\n",
    "import seaborn as sns\n",
    "import matplotlib as plt"
   ]
  },
  {
   "cell_type": "code",
   "source": [
    "# import the drive\n",
    "# drive.mount('/content/gdrive')"
   ],
   "metadata": {
    "id": "egRcAlrprJYE"
   },
   "execution_count": 10,
   "outputs": []
  },
  {
   "cell_type": "markdown",
   "source": [
    "# Exploratory Data Analysis of the 'articles.csv' dataset\n",
    "We search for missing values, for values we did not expect such as outliers or special values."
   ],
   "metadata": {
    "id": "oazZG47vyVE7"
   }
  },
  {
   "cell_type": "code",
   "source": [
    "# import the csv file, read it and put it into a DataFrame\n",
    "gdrive_path_articles = '..\\\\..\\\\Data\\\\articles.csv'\n",
    "articles = pd.read_csv(gdrive_path_articles)\n",
    "articles = pd.DataFrame(articles)"
   ],
   "metadata": {
    "id": "RmnQlEXpOseJ"
   },
   "execution_count": 11,
   "outputs": []
  },
  {
   "cell_type": "code",
   "source": [
    "articles"
   ],
   "metadata": {
    "id": "ERzp_daUyNHN"
   },
   "execution_count": 12,
   "outputs": [
    {
     "data": {
      "text/plain": "        article_id  product_code               prod_name  product_type_no  \\\n0        108775015        108775               Strap top              253   \n1        108775044        108775               Strap top              253   \n2        108775051        108775           Strap top (1)              253   \n3        110065001        110065       OP T-shirt (Idro)              306   \n4        110065002        110065       OP T-shirt (Idro)              306   \n...            ...           ...                     ...              ...   \n105537   953450001        953450  5pk regular Placement1              302   \n105538   953763001        953763       SPORT Malaga tank              253   \n105539   956217002        956217         Cartwheel dress              265   \n105540   957375001        957375        CLAIRE HAIR CLAW               72   \n105541   959461001        959461            Lounge dress              265   \n\n       product_type_name  product_group_name  graphical_appearance_no  \\\n0               Vest top  Garment Upper body                  1010016   \n1               Vest top  Garment Upper body                  1010016   \n2               Vest top  Garment Upper body                  1010017   \n3                    Bra           Underwear                  1010016   \n4                    Bra           Underwear                  1010016   \n...                  ...                 ...                      ...   \n105537             Socks      Socks & Tights                  1010014   \n105538          Vest top  Garment Upper body                  1010016   \n105539             Dress   Garment Full body                  1010016   \n105540         Hair clip         Accessories                  1010016   \n105541             Dress   Garment Full body                  1010016   \n\n       graphical_appearance_name  colour_group_code colour_group_name  ...  \\\n0                          Solid                  9             Black  ...   \n1                          Solid                 10             White  ...   \n2                         Stripe                 11         Off White  ...   \n3                          Solid                  9             Black  ...   \n4                          Solid                 10             White  ...   \n...                          ...                ...               ...  ...   \n105537           Placement print                  9             Black  ...   \n105538                     Solid                  9             Black  ...   \n105539                     Solid                  9             Black  ...   \n105540                     Solid                  9             Black  ...   \n105541                     Solid                 11         Off White  ...   \n\n          department_name index_code        index_name index_group_no  \\\n0            Jersey Basic          A        Ladieswear              1   \n1            Jersey Basic          A        Ladieswear              1   \n2            Jersey Basic          A        Ladieswear              1   \n3          Clean Lingerie          B  Lingeries/Tights              1   \n4          Clean Lingerie          B  Lingeries/Tights              1   \n...                   ...        ...               ...            ...   \n105537          Socks Bin          F          Menswear              3   \n105538             Jersey          A        Ladieswear              1   \n105539             Jersey          A        Ladieswear              1   \n105540  Small Accessories          D           Divided              2   \n105541             Jersey          A        Ladieswear              1   \n\n        index_group_name section_no            section_name garment_group_no  \\\n0             Ladieswear         16  Womens Everyday Basics             1002   \n1             Ladieswear         16  Womens Everyday Basics             1002   \n2             Ladieswear         16  Womens Everyday Basics             1002   \n3             Ladieswear         61         Womens Lingerie             1017   \n4             Ladieswear         61         Womens Lingerie             1017   \n...                  ...        ...                     ...              ...   \n105537          Menswear         26           Men Underwear             1021   \n105538        Ladieswear          2                    H&M+             1005   \n105539        Ladieswear         18            Womens Trend             1005   \n105540           Divided         52     Divided Accessories             1019   \n105541        Ladieswear         18            Womens Trend             1005   \n\n        garment_group_name                                        detail_desc  \n0             Jersey Basic            Jersey top with narrow shoulder straps.  \n1             Jersey Basic            Jersey top with narrow shoulder straps.  \n2             Jersey Basic            Jersey top with narrow shoulder straps.  \n3        Under-, Nightwear  Microfibre T-shirt bra with underwired, moulde...  \n4        Under-, Nightwear  Microfibre T-shirt bra with underwired, moulde...  \n...                    ...                                                ...  \n105537    Socks and Tights  Socks in a fine-knit cotton blend with a small...  \n105538        Jersey Fancy  Loose-fitting sports vest top in ribbed fast-d...  \n105539        Jersey Fancy  Short, A-line dress in jersey with a round nec...  \n105540         Accessories                           Large plastic hair claw.  \n105541        Jersey Fancy  Calf-length dress in ribbed jersey made from a...  \n\n[105542 rows x 25 columns]",
      "text/html": "<div>\n<style scoped>\n    .dataframe tbody tr th:only-of-type {\n        vertical-align: middle;\n    }\n\n    .dataframe tbody tr th {\n        vertical-align: top;\n    }\n\n    .dataframe thead th {\n        text-align: right;\n    }\n</style>\n<table border=\"1\" class=\"dataframe\">\n  <thead>\n    <tr style=\"text-align: right;\">\n      <th></th>\n      <th>article_id</th>\n      <th>product_code</th>\n      <th>prod_name</th>\n      <th>product_type_no</th>\n      <th>product_type_name</th>\n      <th>product_group_name</th>\n      <th>graphical_appearance_no</th>\n      <th>graphical_appearance_name</th>\n      <th>colour_group_code</th>\n      <th>colour_group_name</th>\n      <th>...</th>\n      <th>department_name</th>\n      <th>index_code</th>\n      <th>index_name</th>\n      <th>index_group_no</th>\n      <th>index_group_name</th>\n      <th>section_no</th>\n      <th>section_name</th>\n      <th>garment_group_no</th>\n      <th>garment_group_name</th>\n      <th>detail_desc</th>\n    </tr>\n  </thead>\n  <tbody>\n    <tr>\n      <th>0</th>\n      <td>108775015</td>\n      <td>108775</td>\n      <td>Strap top</td>\n      <td>253</td>\n      <td>Vest top</td>\n      <td>Garment Upper body</td>\n      <td>1010016</td>\n      <td>Solid</td>\n      <td>9</td>\n      <td>Black</td>\n      <td>...</td>\n      <td>Jersey Basic</td>\n      <td>A</td>\n      <td>Ladieswear</td>\n      <td>1</td>\n      <td>Ladieswear</td>\n      <td>16</td>\n      <td>Womens Everyday Basics</td>\n      <td>1002</td>\n      <td>Jersey Basic</td>\n      <td>Jersey top with narrow shoulder straps.</td>\n    </tr>\n    <tr>\n      <th>1</th>\n      <td>108775044</td>\n      <td>108775</td>\n      <td>Strap top</td>\n      <td>253</td>\n      <td>Vest top</td>\n      <td>Garment Upper body</td>\n      <td>1010016</td>\n      <td>Solid</td>\n      <td>10</td>\n      <td>White</td>\n      <td>...</td>\n      <td>Jersey Basic</td>\n      <td>A</td>\n      <td>Ladieswear</td>\n      <td>1</td>\n      <td>Ladieswear</td>\n      <td>16</td>\n      <td>Womens Everyday Basics</td>\n      <td>1002</td>\n      <td>Jersey Basic</td>\n      <td>Jersey top with narrow shoulder straps.</td>\n    </tr>\n    <tr>\n      <th>2</th>\n      <td>108775051</td>\n      <td>108775</td>\n      <td>Strap top (1)</td>\n      <td>253</td>\n      <td>Vest top</td>\n      <td>Garment Upper body</td>\n      <td>1010017</td>\n      <td>Stripe</td>\n      <td>11</td>\n      <td>Off White</td>\n      <td>...</td>\n      <td>Jersey Basic</td>\n      <td>A</td>\n      <td>Ladieswear</td>\n      <td>1</td>\n      <td>Ladieswear</td>\n      <td>16</td>\n      <td>Womens Everyday Basics</td>\n      <td>1002</td>\n      <td>Jersey Basic</td>\n      <td>Jersey top with narrow shoulder straps.</td>\n    </tr>\n    <tr>\n      <th>3</th>\n      <td>110065001</td>\n      <td>110065</td>\n      <td>OP T-shirt (Idro)</td>\n      <td>306</td>\n      <td>Bra</td>\n      <td>Underwear</td>\n      <td>1010016</td>\n      <td>Solid</td>\n      <td>9</td>\n      <td>Black</td>\n      <td>...</td>\n      <td>Clean Lingerie</td>\n      <td>B</td>\n      <td>Lingeries/Tights</td>\n      <td>1</td>\n      <td>Ladieswear</td>\n      <td>61</td>\n      <td>Womens Lingerie</td>\n      <td>1017</td>\n      <td>Under-, Nightwear</td>\n      <td>Microfibre T-shirt bra with underwired, moulde...</td>\n    </tr>\n    <tr>\n      <th>4</th>\n      <td>110065002</td>\n      <td>110065</td>\n      <td>OP T-shirt (Idro)</td>\n      <td>306</td>\n      <td>Bra</td>\n      <td>Underwear</td>\n      <td>1010016</td>\n      <td>Solid</td>\n      <td>10</td>\n      <td>White</td>\n      <td>...</td>\n      <td>Clean Lingerie</td>\n      <td>B</td>\n      <td>Lingeries/Tights</td>\n      <td>1</td>\n      <td>Ladieswear</td>\n      <td>61</td>\n      <td>Womens Lingerie</td>\n      <td>1017</td>\n      <td>Under-, Nightwear</td>\n      <td>Microfibre T-shirt bra with underwired, moulde...</td>\n    </tr>\n    <tr>\n      <th>...</th>\n      <td>...</td>\n      <td>...</td>\n      <td>...</td>\n      <td>...</td>\n      <td>...</td>\n      <td>...</td>\n      <td>...</td>\n      <td>...</td>\n      <td>...</td>\n      <td>...</td>\n      <td>...</td>\n      <td>...</td>\n      <td>...</td>\n      <td>...</td>\n      <td>...</td>\n      <td>...</td>\n      <td>...</td>\n      <td>...</td>\n      <td>...</td>\n      <td>...</td>\n      <td>...</td>\n    </tr>\n    <tr>\n      <th>105537</th>\n      <td>953450001</td>\n      <td>953450</td>\n      <td>5pk regular Placement1</td>\n      <td>302</td>\n      <td>Socks</td>\n      <td>Socks &amp; Tights</td>\n      <td>1010014</td>\n      <td>Placement print</td>\n      <td>9</td>\n      <td>Black</td>\n      <td>...</td>\n      <td>Socks Bin</td>\n      <td>F</td>\n      <td>Menswear</td>\n      <td>3</td>\n      <td>Menswear</td>\n      <td>26</td>\n      <td>Men Underwear</td>\n      <td>1021</td>\n      <td>Socks and Tights</td>\n      <td>Socks in a fine-knit cotton blend with a small...</td>\n    </tr>\n    <tr>\n      <th>105538</th>\n      <td>953763001</td>\n      <td>953763</td>\n      <td>SPORT Malaga tank</td>\n      <td>253</td>\n      <td>Vest top</td>\n      <td>Garment Upper body</td>\n      <td>1010016</td>\n      <td>Solid</td>\n      <td>9</td>\n      <td>Black</td>\n      <td>...</td>\n      <td>Jersey</td>\n      <td>A</td>\n      <td>Ladieswear</td>\n      <td>1</td>\n      <td>Ladieswear</td>\n      <td>2</td>\n      <td>H&amp;M+</td>\n      <td>1005</td>\n      <td>Jersey Fancy</td>\n      <td>Loose-fitting sports vest top in ribbed fast-d...</td>\n    </tr>\n    <tr>\n      <th>105539</th>\n      <td>956217002</td>\n      <td>956217</td>\n      <td>Cartwheel dress</td>\n      <td>265</td>\n      <td>Dress</td>\n      <td>Garment Full body</td>\n      <td>1010016</td>\n      <td>Solid</td>\n      <td>9</td>\n      <td>Black</td>\n      <td>...</td>\n      <td>Jersey</td>\n      <td>A</td>\n      <td>Ladieswear</td>\n      <td>1</td>\n      <td>Ladieswear</td>\n      <td>18</td>\n      <td>Womens Trend</td>\n      <td>1005</td>\n      <td>Jersey Fancy</td>\n      <td>Short, A-line dress in jersey with a round nec...</td>\n    </tr>\n    <tr>\n      <th>105540</th>\n      <td>957375001</td>\n      <td>957375</td>\n      <td>CLAIRE HAIR CLAW</td>\n      <td>72</td>\n      <td>Hair clip</td>\n      <td>Accessories</td>\n      <td>1010016</td>\n      <td>Solid</td>\n      <td>9</td>\n      <td>Black</td>\n      <td>...</td>\n      <td>Small Accessories</td>\n      <td>D</td>\n      <td>Divided</td>\n      <td>2</td>\n      <td>Divided</td>\n      <td>52</td>\n      <td>Divided Accessories</td>\n      <td>1019</td>\n      <td>Accessories</td>\n      <td>Large plastic hair claw.</td>\n    </tr>\n    <tr>\n      <th>105541</th>\n      <td>959461001</td>\n      <td>959461</td>\n      <td>Lounge dress</td>\n      <td>265</td>\n      <td>Dress</td>\n      <td>Garment Full body</td>\n      <td>1010016</td>\n      <td>Solid</td>\n      <td>11</td>\n      <td>Off White</td>\n      <td>...</td>\n      <td>Jersey</td>\n      <td>A</td>\n      <td>Ladieswear</td>\n      <td>1</td>\n      <td>Ladieswear</td>\n      <td>18</td>\n      <td>Womens Trend</td>\n      <td>1005</td>\n      <td>Jersey Fancy</td>\n      <td>Calf-length dress in ribbed jersey made from a...</td>\n    </tr>\n  </tbody>\n</table>\n<p>105542 rows × 25 columns</p>\n</div>"
     },
     "execution_count": 12,
     "metadata": {},
     "output_type": "execute_result"
    }
   ]
  },
  {
   "cell_type": "code",
   "source": [
    "# let's check if any values are missing. As we do not yet want to search a specific column we just look at the entire dataframe\n",
    "articles.isna().sum()"
   ],
   "metadata": {
    "id": "VmQyIVipyTlr"
   },
   "execution_count": 13,
   "outputs": [
    {
     "data": {
      "text/plain": "article_id                        0\nproduct_code                      0\nprod_name                         0\nproduct_type_no                   0\nproduct_type_name                 0\nproduct_group_name                0\ngraphical_appearance_no           0\ngraphical_appearance_name         0\ncolour_group_code                 0\ncolour_group_name                 0\nperceived_colour_value_id         0\nperceived_colour_value_name       0\nperceived_colour_master_id        0\nperceived_colour_master_name      0\ndepartment_no                     0\ndepartment_name                   0\nindex_code                        0\nindex_name                        0\nindex_group_no                    0\nindex_group_name                  0\nsection_no                        0\nsection_name                      0\ngarment_group_no                  0\ngarment_group_name                0\ndetail_desc                     416\ndtype: int64"
     },
     "execution_count": 13,
     "metadata": {},
     "output_type": "execute_result"
    }
   ]
  },
  {
   "cell_type": "code",
   "execution_count": 14,
   "outputs": [
    {
     "data": {
      "text/plain": "article_id                    959461001\nproduct_code                     959461\nproduct_type_no                     762\ngraphical_appearance_no         1010029\ncolour_group_code                    93\nperceived_colour_value_id             7\nperceived_colour_master_id           20\ndepartment_no                      9989\nindex_group_no                       26\nsection_no                           97\ngarment_group_no                   1025\ndtype: int64"
     },
     "execution_count": 14,
     "metadata": {},
     "output_type": "execute_result"
    }
   ],
   "source": [
    "articles.max(numeric_only=True)"
   ],
   "metadata": {
    "collapsed": false
   }
  },
  {
   "cell_type": "code",
   "execution_count": 15,
   "outputs": [
    {
     "data": {
      "text/plain": "article_id                    108775015\nproduct_code                     108775\nproduct_type_no                      -1\ngraphical_appearance_no              -1\ncolour_group_code                    -1\nperceived_colour_value_id            -1\nperceived_colour_master_id           -1\ndepartment_no                      1201\nindex_group_no                        1\nsection_no                            2\ngarment_group_no                   1001\ndtype: int64"
     },
     "execution_count": 15,
     "metadata": {},
     "output_type": "execute_result"
    }
   ],
   "source": [
    "articles.min(numeric_only=True)"
   ],
   "metadata": {
    "collapsed": false
   }
  },
  {
   "cell_type": "code",
   "execution_count": 84,
   "outputs": [
    {
     "data": {
      "text/plain": "       article_id  product_code             prod_name  product_type_no  \\\n21238   592986010        592986  Cool tiebelt dressed              272   \n39690   662344003        662344           Lily blouse              258   \n40806   665665001        665665      J LORENZO TRS EQ              272   \n49595   694968001        694968          Sagus Jogger              272   \n49597   694968004        694968          Sagus Jogger              272   \n50122   696114001        696114        W MARS TRS CNY              272   \n50123   696114002        696114        W MARS TRS CNY              272   \n50129   696124001        696124  W PASTILLE DRESS CNY              265   \n50130   696124002        696124  W PASTILLE DRESS CNY              265   \n50289   696500001        696500          J MADRID CNY              252   \n50293   696508002        696508       W STACY TRS CNY              272   \n50298   696512002        696512          K ROME DRESS              265   \n55757   711483004        711483           RODEO SHIRT              259   \n56231   713577001        713577          Malte r-neck              252   \n58183   719216001        719216            W IMMY TRS              272   \n58184   719216002        719216            W IMMY TRS              272   \n58207   719243001        719243      D WILMA SKIRT EQ              275   \n58208   719243002        719243      D WILMA SKIRT EQ              275   \n58209   719244001        719244     W ED KANTA TRS EQ              272   \n58210   719244003        719244     W ED KANTA TRS EQ              272   \n58213   719250001        719250        W DAVID TRS EQ              272   \n58214   719250002        719250        W DAVID TRS EQ              272   \n58220   719258001        719258       W GAIL DRESS EQ              265   \n58221   719259001        719259   W FREDRIKA DRESS EQ              265   \n58912   721472001        721472     CNY Porky pig tee              255   \n60223   727667002        727667              HOWIE LS              259   \n60627   730292001        730292   J MYSA JOGGERS. CNY              272   \n64927   743295001        743295    W Henry Blouse CNY              258   \n\n      product_type_name  product_group_name  graphical_appearance_no  \\\n21238          Trousers  Garment Lower body                       -1   \n39690            Blouse  Garment Upper body                       -1   \n40806          Trousers  Garment Lower body                       -1   \n49595          Trousers  Garment Lower body                       -1   \n49597          Trousers  Garment Lower body                       -1   \n50122          Trousers  Garment Lower body                       -1   \n50123          Trousers  Garment Lower body                       -1   \n50129             Dress   Garment Full body                       -1   \n50130             Dress   Garment Full body                       -1   \n50289           Sweater  Garment Upper body                       -1   \n50293          Trousers  Garment Lower body                       -1   \n50298             Dress   Garment Full body                       -1   \n55757             Shirt  Garment Upper body                       -1   \n56231           Sweater  Garment Upper body                       -1   \n58183          Trousers  Garment Lower body                       -1   \n58184          Trousers  Garment Lower body                       -1   \n58207             Skirt  Garment Lower body                       -1   \n58208             Skirt  Garment Lower body                       -1   \n58209          Trousers  Garment Lower body                       -1   \n58210          Trousers  Garment Lower body                       -1   \n58213          Trousers  Garment Lower body                       -1   \n58214          Trousers  Garment Lower body                       -1   \n58220             Dress   Garment Full body                       -1   \n58221             Dress   Garment Full body                       -1   \n58912           T-shirt  Garment Upper body                       -1   \n60223             Shirt  Garment Upper body                       -1   \n60627          Trousers  Garment Lower body                       -1   \n64927            Blouse  Garment Upper body                       -1   \n\n      graphical_appearance_name  colour_group_code colour_group_name  ...  \\\n21238                   Unknown                 -1           Unknown  ...   \n39690                   Unknown                 -1           Unknown  ...   \n40806                   Unknown                 -1           Unknown  ...   \n49595                   Unknown                 -1           Unknown  ...   \n49597                   Unknown                 -1           Unknown  ...   \n50122                   Unknown                 -1           Unknown  ...   \n50123                   Unknown                 -1           Unknown  ...   \n50129                   Unknown                 -1           Unknown  ...   \n50130                   Unknown                 -1           Unknown  ...   \n50289                   Unknown                 -1           Unknown  ...   \n50293                   Unknown                 -1           Unknown  ...   \n50298                   Unknown                 -1           Unknown  ...   \n55757                   Unknown                 -1           Unknown  ...   \n56231                   Unknown                 -1           Unknown  ...   \n58183                   Unknown                 -1           Unknown  ...   \n58184                   Unknown                 -1           Unknown  ...   \n58207                   Unknown                 -1           Unknown  ...   \n58208                   Unknown                 -1           Unknown  ...   \n58209                   Unknown                 -1           Unknown  ...   \n58210                   Unknown                 -1           Unknown  ...   \n58213                   Unknown                 -1           Unknown  ...   \n58214                   Unknown                 -1           Unknown  ...   \n58220                   Unknown                 -1           Unknown  ...   \n58221                   Unknown                 -1           Unknown  ...   \n58912                   Unknown                 -1           Unknown  ...   \n60223                   Unknown                 -1           Unknown  ...   \n60627                   Unknown                 -1           Unknown  ...   \n64927                   Unknown                 -1           Unknown  ...   \n\n             department_name index_code  index_name index_group_no  \\\n21238                Trouser          A  Ladieswear              1   \n39690                 Blouse          A  Ladieswear              1   \n40806  Equatorial Assortment          A  Ladieswear              1   \n49595           Jersey Fancy          F    Menswear              3   \n49597           Jersey Fancy          F    Menswear              3   \n50122        Asia Assortment          A  Ladieswear              1   \n50123        Asia Assortment          A  Ladieswear              1   \n50129        Asia Assortment          A  Ladieswear              1   \n50130        Asia Assortment          A  Ladieswear              1   \n50289        Asia Assortment          A  Ladieswear              1   \n50293        Asia Assortment          A  Ladieswear              1   \n50298        Asia Assortment          A  Ladieswear              1   \n55757                  Shirt          F    Menswear              3   \n56231               Knitwear          F    Menswear              3   \n58183  Equatorial Assortment          A  Ladieswear              1   \n58184  Equatorial Assortment          A  Ladieswear              1   \n58207  Equatorial Assortment          A  Ladieswear              1   \n58208  Equatorial Assortment          A  Ladieswear              1   \n58209  Equatorial Assortment          A  Ladieswear              1   \n58210  Equatorial Assortment          A  Ladieswear              1   \n58213  Equatorial Assortment          A  Ladieswear              1   \n58214  Equatorial Assortment          A  Ladieswear              1   \n58220  Equatorial Assortment          A  Ladieswear              1   \n58221  Equatorial Assortment          A  Ladieswear              1   \n58912               Projects          F    Menswear              3   \n60223                  Shirt          F    Menswear              3   \n60627        Asia Assortment          A  Ladieswear              1   \n64927        Asia Assortment          A  Ladieswear              1   \n\n       index_group_name section_no                section_name  \\\n21238        Ladieswear         11            Womens Tailoring   \n39690        Ladieswear         11            Womens Tailoring   \n40806        Ladieswear         15  Womens Everyday Collection   \n49595          Menswear         55         Contemporary Street   \n49597          Menswear         55         Contemporary Street   \n50122        Ladieswear         15  Womens Everyday Collection   \n50123        Ladieswear         15  Womens Everyday Collection   \n50129        Ladieswear         15  Womens Everyday Collection   \n50130        Ladieswear         15  Womens Everyday Collection   \n50289        Ladieswear         15  Womens Everyday Collection   \n50293        Ladieswear         15  Womens Everyday Collection   \n50298        Ladieswear         15  Womens Everyday Collection   \n55757          Menswear         55         Contemporary Street   \n56231          Menswear         21         Contemporary Casual   \n58183        Ladieswear         15  Womens Everyday Collection   \n58184        Ladieswear         15  Womens Everyday Collection   \n58207        Ladieswear         15  Womens Everyday Collection   \n58208        Ladieswear         15  Womens Everyday Collection   \n58209        Ladieswear         15  Womens Everyday Collection   \n58210        Ladieswear         15  Womens Everyday Collection   \n58213        Ladieswear         15  Womens Everyday Collection   \n58214        Ladieswear         15  Womens Everyday Collection   \n58220        Ladieswear         15  Womens Everyday Collection   \n58221        Ladieswear         15  Womens Everyday Collection   \n58912          Menswear         24                 Men Project   \n60223          Menswear         55         Contemporary Street   \n60627        Ladieswear         15  Womens Everyday Collection   \n64927        Ladieswear         15  Womens Everyday Collection   \n\n      garment_group_no  garment_group_name  \\\n21238             1009            Trousers   \n39690             1010             Blouses   \n40806             1001             Unknown   \n49595             1005        Jersey Fancy   \n49597             1005        Jersey Fancy   \n50122             1001             Unknown   \n50123             1001             Unknown   \n50129             1001             Unknown   \n50130             1001             Unknown   \n50289             1001             Unknown   \n50293             1001             Unknown   \n50298             1001             Unknown   \n55757             1011              Shirts   \n56231             1003            Knitwear   \n58183             1001             Unknown   \n58184             1001             Unknown   \n58207             1001             Unknown   \n58208             1001             Unknown   \n58209             1001             Unknown   \n58210             1001             Unknown   \n58213             1001             Unknown   \n58214             1001             Unknown   \n58220             1001             Unknown   \n58221             1001             Unknown   \n58912             1001             Unknown   \n60223             1011              Shirts   \n60627             1001             Unknown   \n64927             1001             Unknown   \n\n                                             detail_desc  \n21238  Wide, high-waisted trousers in woven fabric wi...  \n39690  Long-sleeved blouse in satin with a small stan...  \n40806  Leggings in soft jersey made from a viscose bl...  \n49595  Joggers in sweatshirt fabric with an elasticat...  \n49597  Joggers in sweatshirt fabric with an elasticat...  \n50122  Ankle-length trousers in woven fabric with ela...  \n50123  Ankle-length trousers in woven fabric with ela...  \n50129  Calf-length dress in woven fabric with a round...  \n50130  Calf-length dress in woven fabric with a round...  \n50289  Sweatshirt in sturdy jersey made from a cotton...  \n50293  Wide, ankle-length trousers in cotton twill wi...  \n50298  Straight, knee-length dress in a soft knit wit...  \n55757  Straight-cut shirt in soft flannel with a coll...  \n56231  Jumper in soft, patterned, fine-knit cotton wi...  \n58183  Trousers in an airy viscose weave with a high ...  \n58184  Trousers in an airy viscose weave with a high ...  \n58207  Short, 5-pocket skirt in washed denim with a h...  \n58208  Short, 5-pocket skirt in washed denim with a h...  \n58209  Ankle-length cigarette trousers in a stretch w...  \n58210  Ankle-length cigarette trousers in a stretch w...  \n58213  Wide, ankle-length trousers in a textured weav...  \n58214  Wide, ankle-length trousers in a textured weav...  \n58220  Maxi dress in an airy, patterned weave with a ...  \n58221  Calf-length dress in a crinkled weave with a l...  \n58912                  T-shirt in printed cotton jersey.  \n60223  Shirt in a cotton weave with a turn-down colla...  \n60627  Trousers in sturdy jersey with a high, elastic...  \n64927  Wide blouse in a patterned crêpe weave with a ...  \n\n[28 rows x 25 columns]",
      "text/html": "<div>\n<style scoped>\n    .dataframe tbody tr th:only-of-type {\n        vertical-align: middle;\n    }\n\n    .dataframe tbody tr th {\n        vertical-align: top;\n    }\n\n    .dataframe thead th {\n        text-align: right;\n    }\n</style>\n<table border=\"1\" class=\"dataframe\">\n  <thead>\n    <tr style=\"text-align: right;\">\n      <th></th>\n      <th>article_id</th>\n      <th>product_code</th>\n      <th>prod_name</th>\n      <th>product_type_no</th>\n      <th>product_type_name</th>\n      <th>product_group_name</th>\n      <th>graphical_appearance_no</th>\n      <th>graphical_appearance_name</th>\n      <th>colour_group_code</th>\n      <th>colour_group_name</th>\n      <th>...</th>\n      <th>department_name</th>\n      <th>index_code</th>\n      <th>index_name</th>\n      <th>index_group_no</th>\n      <th>index_group_name</th>\n      <th>section_no</th>\n      <th>section_name</th>\n      <th>garment_group_no</th>\n      <th>garment_group_name</th>\n      <th>detail_desc</th>\n    </tr>\n  </thead>\n  <tbody>\n    <tr>\n      <th>21238</th>\n      <td>592986010</td>\n      <td>592986</td>\n      <td>Cool tiebelt dressed</td>\n      <td>272</td>\n      <td>Trousers</td>\n      <td>Garment Lower body</td>\n      <td>-1</td>\n      <td>Unknown</td>\n      <td>-1</td>\n      <td>Unknown</td>\n      <td>...</td>\n      <td>Trouser</td>\n      <td>A</td>\n      <td>Ladieswear</td>\n      <td>1</td>\n      <td>Ladieswear</td>\n      <td>11</td>\n      <td>Womens Tailoring</td>\n      <td>1009</td>\n      <td>Trousers</td>\n      <td>Wide, high-waisted trousers in woven fabric wi...</td>\n    </tr>\n    <tr>\n      <th>39690</th>\n      <td>662344003</td>\n      <td>662344</td>\n      <td>Lily blouse</td>\n      <td>258</td>\n      <td>Blouse</td>\n      <td>Garment Upper body</td>\n      <td>-1</td>\n      <td>Unknown</td>\n      <td>-1</td>\n      <td>Unknown</td>\n      <td>...</td>\n      <td>Blouse</td>\n      <td>A</td>\n      <td>Ladieswear</td>\n      <td>1</td>\n      <td>Ladieswear</td>\n      <td>11</td>\n      <td>Womens Tailoring</td>\n      <td>1010</td>\n      <td>Blouses</td>\n      <td>Long-sleeved blouse in satin with a small stan...</td>\n    </tr>\n    <tr>\n      <th>40806</th>\n      <td>665665001</td>\n      <td>665665</td>\n      <td>J LORENZO TRS EQ</td>\n      <td>272</td>\n      <td>Trousers</td>\n      <td>Garment Lower body</td>\n      <td>-1</td>\n      <td>Unknown</td>\n      <td>-1</td>\n      <td>Unknown</td>\n      <td>...</td>\n      <td>Equatorial Assortment</td>\n      <td>A</td>\n      <td>Ladieswear</td>\n      <td>1</td>\n      <td>Ladieswear</td>\n      <td>15</td>\n      <td>Womens Everyday Collection</td>\n      <td>1001</td>\n      <td>Unknown</td>\n      <td>Leggings in soft jersey made from a viscose bl...</td>\n    </tr>\n    <tr>\n      <th>49595</th>\n      <td>694968001</td>\n      <td>694968</td>\n      <td>Sagus Jogger</td>\n      <td>272</td>\n      <td>Trousers</td>\n      <td>Garment Lower body</td>\n      <td>-1</td>\n      <td>Unknown</td>\n      <td>-1</td>\n      <td>Unknown</td>\n      <td>...</td>\n      <td>Jersey Fancy</td>\n      <td>F</td>\n      <td>Menswear</td>\n      <td>3</td>\n      <td>Menswear</td>\n      <td>55</td>\n      <td>Contemporary Street</td>\n      <td>1005</td>\n      <td>Jersey Fancy</td>\n      <td>Joggers in sweatshirt fabric with an elasticat...</td>\n    </tr>\n    <tr>\n      <th>49597</th>\n      <td>694968004</td>\n      <td>694968</td>\n      <td>Sagus Jogger</td>\n      <td>272</td>\n      <td>Trousers</td>\n      <td>Garment Lower body</td>\n      <td>-1</td>\n      <td>Unknown</td>\n      <td>-1</td>\n      <td>Unknown</td>\n      <td>...</td>\n      <td>Jersey Fancy</td>\n      <td>F</td>\n      <td>Menswear</td>\n      <td>3</td>\n      <td>Menswear</td>\n      <td>55</td>\n      <td>Contemporary Street</td>\n      <td>1005</td>\n      <td>Jersey Fancy</td>\n      <td>Joggers in sweatshirt fabric with an elasticat...</td>\n    </tr>\n    <tr>\n      <th>50122</th>\n      <td>696114001</td>\n      <td>696114</td>\n      <td>W MARS TRS CNY</td>\n      <td>272</td>\n      <td>Trousers</td>\n      <td>Garment Lower body</td>\n      <td>-1</td>\n      <td>Unknown</td>\n      <td>-1</td>\n      <td>Unknown</td>\n      <td>...</td>\n      <td>Asia Assortment</td>\n      <td>A</td>\n      <td>Ladieswear</td>\n      <td>1</td>\n      <td>Ladieswear</td>\n      <td>15</td>\n      <td>Womens Everyday Collection</td>\n      <td>1001</td>\n      <td>Unknown</td>\n      <td>Ankle-length trousers in woven fabric with ela...</td>\n    </tr>\n    <tr>\n      <th>50123</th>\n      <td>696114002</td>\n      <td>696114</td>\n      <td>W MARS TRS CNY</td>\n      <td>272</td>\n      <td>Trousers</td>\n      <td>Garment Lower body</td>\n      <td>-1</td>\n      <td>Unknown</td>\n      <td>-1</td>\n      <td>Unknown</td>\n      <td>...</td>\n      <td>Asia Assortment</td>\n      <td>A</td>\n      <td>Ladieswear</td>\n      <td>1</td>\n      <td>Ladieswear</td>\n      <td>15</td>\n      <td>Womens Everyday Collection</td>\n      <td>1001</td>\n      <td>Unknown</td>\n      <td>Ankle-length trousers in woven fabric with ela...</td>\n    </tr>\n    <tr>\n      <th>50129</th>\n      <td>696124001</td>\n      <td>696124</td>\n      <td>W PASTILLE DRESS CNY</td>\n      <td>265</td>\n      <td>Dress</td>\n      <td>Garment Full body</td>\n      <td>-1</td>\n      <td>Unknown</td>\n      <td>-1</td>\n      <td>Unknown</td>\n      <td>...</td>\n      <td>Asia Assortment</td>\n      <td>A</td>\n      <td>Ladieswear</td>\n      <td>1</td>\n      <td>Ladieswear</td>\n      <td>15</td>\n      <td>Womens Everyday Collection</td>\n      <td>1001</td>\n      <td>Unknown</td>\n      <td>Calf-length dress in woven fabric with a round...</td>\n    </tr>\n    <tr>\n      <th>50130</th>\n      <td>696124002</td>\n      <td>696124</td>\n      <td>W PASTILLE DRESS CNY</td>\n      <td>265</td>\n      <td>Dress</td>\n      <td>Garment Full body</td>\n      <td>-1</td>\n      <td>Unknown</td>\n      <td>-1</td>\n      <td>Unknown</td>\n      <td>...</td>\n      <td>Asia Assortment</td>\n      <td>A</td>\n      <td>Ladieswear</td>\n      <td>1</td>\n      <td>Ladieswear</td>\n      <td>15</td>\n      <td>Womens Everyday Collection</td>\n      <td>1001</td>\n      <td>Unknown</td>\n      <td>Calf-length dress in woven fabric with a round...</td>\n    </tr>\n    <tr>\n      <th>50289</th>\n      <td>696500001</td>\n      <td>696500</td>\n      <td>J MADRID CNY</td>\n      <td>252</td>\n      <td>Sweater</td>\n      <td>Garment Upper body</td>\n      <td>-1</td>\n      <td>Unknown</td>\n      <td>-1</td>\n      <td>Unknown</td>\n      <td>...</td>\n      <td>Asia Assortment</td>\n      <td>A</td>\n      <td>Ladieswear</td>\n      <td>1</td>\n      <td>Ladieswear</td>\n      <td>15</td>\n      <td>Womens Everyday Collection</td>\n      <td>1001</td>\n      <td>Unknown</td>\n      <td>Sweatshirt in sturdy jersey made from a cotton...</td>\n    </tr>\n    <tr>\n      <th>50293</th>\n      <td>696508002</td>\n      <td>696508</td>\n      <td>W STACY TRS CNY</td>\n      <td>272</td>\n      <td>Trousers</td>\n      <td>Garment Lower body</td>\n      <td>-1</td>\n      <td>Unknown</td>\n      <td>-1</td>\n      <td>Unknown</td>\n      <td>...</td>\n      <td>Asia Assortment</td>\n      <td>A</td>\n      <td>Ladieswear</td>\n      <td>1</td>\n      <td>Ladieswear</td>\n      <td>15</td>\n      <td>Womens Everyday Collection</td>\n      <td>1001</td>\n      <td>Unknown</td>\n      <td>Wide, ankle-length trousers in cotton twill wi...</td>\n    </tr>\n    <tr>\n      <th>50298</th>\n      <td>696512002</td>\n      <td>696512</td>\n      <td>K ROME DRESS</td>\n      <td>265</td>\n      <td>Dress</td>\n      <td>Garment Full body</td>\n      <td>-1</td>\n      <td>Unknown</td>\n      <td>-1</td>\n      <td>Unknown</td>\n      <td>...</td>\n      <td>Asia Assortment</td>\n      <td>A</td>\n      <td>Ladieswear</td>\n      <td>1</td>\n      <td>Ladieswear</td>\n      <td>15</td>\n      <td>Womens Everyday Collection</td>\n      <td>1001</td>\n      <td>Unknown</td>\n      <td>Straight, knee-length dress in a soft knit wit...</td>\n    </tr>\n    <tr>\n      <th>55757</th>\n      <td>711483004</td>\n      <td>711483</td>\n      <td>RODEO SHIRT</td>\n      <td>259</td>\n      <td>Shirt</td>\n      <td>Garment Upper body</td>\n      <td>-1</td>\n      <td>Unknown</td>\n      <td>-1</td>\n      <td>Unknown</td>\n      <td>...</td>\n      <td>Shirt</td>\n      <td>F</td>\n      <td>Menswear</td>\n      <td>3</td>\n      <td>Menswear</td>\n      <td>55</td>\n      <td>Contemporary Street</td>\n      <td>1011</td>\n      <td>Shirts</td>\n      <td>Straight-cut shirt in soft flannel with a coll...</td>\n    </tr>\n    <tr>\n      <th>56231</th>\n      <td>713577001</td>\n      <td>713577</td>\n      <td>Malte r-neck</td>\n      <td>252</td>\n      <td>Sweater</td>\n      <td>Garment Upper body</td>\n      <td>-1</td>\n      <td>Unknown</td>\n      <td>-1</td>\n      <td>Unknown</td>\n      <td>...</td>\n      <td>Knitwear</td>\n      <td>F</td>\n      <td>Menswear</td>\n      <td>3</td>\n      <td>Menswear</td>\n      <td>21</td>\n      <td>Contemporary Casual</td>\n      <td>1003</td>\n      <td>Knitwear</td>\n      <td>Jumper in soft, patterned, fine-knit cotton wi...</td>\n    </tr>\n    <tr>\n      <th>58183</th>\n      <td>719216001</td>\n      <td>719216</td>\n      <td>W IMMY TRS</td>\n      <td>272</td>\n      <td>Trousers</td>\n      <td>Garment Lower body</td>\n      <td>-1</td>\n      <td>Unknown</td>\n      <td>-1</td>\n      <td>Unknown</td>\n      <td>...</td>\n      <td>Equatorial Assortment</td>\n      <td>A</td>\n      <td>Ladieswear</td>\n      <td>1</td>\n      <td>Ladieswear</td>\n      <td>15</td>\n      <td>Womens Everyday Collection</td>\n      <td>1001</td>\n      <td>Unknown</td>\n      <td>Trousers in an airy viscose weave with a high ...</td>\n    </tr>\n    <tr>\n      <th>58184</th>\n      <td>719216002</td>\n      <td>719216</td>\n      <td>W IMMY TRS</td>\n      <td>272</td>\n      <td>Trousers</td>\n      <td>Garment Lower body</td>\n      <td>-1</td>\n      <td>Unknown</td>\n      <td>-1</td>\n      <td>Unknown</td>\n      <td>...</td>\n      <td>Equatorial Assortment</td>\n      <td>A</td>\n      <td>Ladieswear</td>\n      <td>1</td>\n      <td>Ladieswear</td>\n      <td>15</td>\n      <td>Womens Everyday Collection</td>\n      <td>1001</td>\n      <td>Unknown</td>\n      <td>Trousers in an airy viscose weave with a high ...</td>\n    </tr>\n    <tr>\n      <th>58207</th>\n      <td>719243001</td>\n      <td>719243</td>\n      <td>D WILMA SKIRT EQ</td>\n      <td>275</td>\n      <td>Skirt</td>\n      <td>Garment Lower body</td>\n      <td>-1</td>\n      <td>Unknown</td>\n      <td>-1</td>\n      <td>Unknown</td>\n      <td>...</td>\n      <td>Equatorial Assortment</td>\n      <td>A</td>\n      <td>Ladieswear</td>\n      <td>1</td>\n      <td>Ladieswear</td>\n      <td>15</td>\n      <td>Womens Everyday Collection</td>\n      <td>1001</td>\n      <td>Unknown</td>\n      <td>Short, 5-pocket skirt in washed denim with a h...</td>\n    </tr>\n    <tr>\n      <th>58208</th>\n      <td>719243002</td>\n      <td>719243</td>\n      <td>D WILMA SKIRT EQ</td>\n      <td>275</td>\n      <td>Skirt</td>\n      <td>Garment Lower body</td>\n      <td>-1</td>\n      <td>Unknown</td>\n      <td>-1</td>\n      <td>Unknown</td>\n      <td>...</td>\n      <td>Equatorial Assortment</td>\n      <td>A</td>\n      <td>Ladieswear</td>\n      <td>1</td>\n      <td>Ladieswear</td>\n      <td>15</td>\n      <td>Womens Everyday Collection</td>\n      <td>1001</td>\n      <td>Unknown</td>\n      <td>Short, 5-pocket skirt in washed denim with a h...</td>\n    </tr>\n    <tr>\n      <th>58209</th>\n      <td>719244001</td>\n      <td>719244</td>\n      <td>W ED KANTA TRS EQ</td>\n      <td>272</td>\n      <td>Trousers</td>\n      <td>Garment Lower body</td>\n      <td>-1</td>\n      <td>Unknown</td>\n      <td>-1</td>\n      <td>Unknown</td>\n      <td>...</td>\n      <td>Equatorial Assortment</td>\n      <td>A</td>\n      <td>Ladieswear</td>\n      <td>1</td>\n      <td>Ladieswear</td>\n      <td>15</td>\n      <td>Womens Everyday Collection</td>\n      <td>1001</td>\n      <td>Unknown</td>\n      <td>Ankle-length cigarette trousers in a stretch w...</td>\n    </tr>\n    <tr>\n      <th>58210</th>\n      <td>719244003</td>\n      <td>719244</td>\n      <td>W ED KANTA TRS EQ</td>\n      <td>272</td>\n      <td>Trousers</td>\n      <td>Garment Lower body</td>\n      <td>-1</td>\n      <td>Unknown</td>\n      <td>-1</td>\n      <td>Unknown</td>\n      <td>...</td>\n      <td>Equatorial Assortment</td>\n      <td>A</td>\n      <td>Ladieswear</td>\n      <td>1</td>\n      <td>Ladieswear</td>\n      <td>15</td>\n      <td>Womens Everyday Collection</td>\n      <td>1001</td>\n      <td>Unknown</td>\n      <td>Ankle-length cigarette trousers in a stretch w...</td>\n    </tr>\n    <tr>\n      <th>58213</th>\n      <td>719250001</td>\n      <td>719250</td>\n      <td>W DAVID TRS EQ</td>\n      <td>272</td>\n      <td>Trousers</td>\n      <td>Garment Lower body</td>\n      <td>-1</td>\n      <td>Unknown</td>\n      <td>-1</td>\n      <td>Unknown</td>\n      <td>...</td>\n      <td>Equatorial Assortment</td>\n      <td>A</td>\n      <td>Ladieswear</td>\n      <td>1</td>\n      <td>Ladieswear</td>\n      <td>15</td>\n      <td>Womens Everyday Collection</td>\n      <td>1001</td>\n      <td>Unknown</td>\n      <td>Wide, ankle-length trousers in a textured weav...</td>\n    </tr>\n    <tr>\n      <th>58214</th>\n      <td>719250002</td>\n      <td>719250</td>\n      <td>W DAVID TRS EQ</td>\n      <td>272</td>\n      <td>Trousers</td>\n      <td>Garment Lower body</td>\n      <td>-1</td>\n      <td>Unknown</td>\n      <td>-1</td>\n      <td>Unknown</td>\n      <td>...</td>\n      <td>Equatorial Assortment</td>\n      <td>A</td>\n      <td>Ladieswear</td>\n      <td>1</td>\n      <td>Ladieswear</td>\n      <td>15</td>\n      <td>Womens Everyday Collection</td>\n      <td>1001</td>\n      <td>Unknown</td>\n      <td>Wide, ankle-length trousers in a textured weav...</td>\n    </tr>\n    <tr>\n      <th>58220</th>\n      <td>719258001</td>\n      <td>719258</td>\n      <td>W GAIL DRESS EQ</td>\n      <td>265</td>\n      <td>Dress</td>\n      <td>Garment Full body</td>\n      <td>-1</td>\n      <td>Unknown</td>\n      <td>-1</td>\n      <td>Unknown</td>\n      <td>...</td>\n      <td>Equatorial Assortment</td>\n      <td>A</td>\n      <td>Ladieswear</td>\n      <td>1</td>\n      <td>Ladieswear</td>\n      <td>15</td>\n      <td>Womens Everyday Collection</td>\n      <td>1001</td>\n      <td>Unknown</td>\n      <td>Maxi dress in an airy, patterned weave with a ...</td>\n    </tr>\n    <tr>\n      <th>58221</th>\n      <td>719259001</td>\n      <td>719259</td>\n      <td>W FREDRIKA DRESS EQ</td>\n      <td>265</td>\n      <td>Dress</td>\n      <td>Garment Full body</td>\n      <td>-1</td>\n      <td>Unknown</td>\n      <td>-1</td>\n      <td>Unknown</td>\n      <td>...</td>\n      <td>Equatorial Assortment</td>\n      <td>A</td>\n      <td>Ladieswear</td>\n      <td>1</td>\n      <td>Ladieswear</td>\n      <td>15</td>\n      <td>Womens Everyday Collection</td>\n      <td>1001</td>\n      <td>Unknown</td>\n      <td>Calf-length dress in a crinkled weave with a l...</td>\n    </tr>\n    <tr>\n      <th>58912</th>\n      <td>721472001</td>\n      <td>721472</td>\n      <td>CNY Porky pig tee</td>\n      <td>255</td>\n      <td>T-shirt</td>\n      <td>Garment Upper body</td>\n      <td>-1</td>\n      <td>Unknown</td>\n      <td>-1</td>\n      <td>Unknown</td>\n      <td>...</td>\n      <td>Projects</td>\n      <td>F</td>\n      <td>Menswear</td>\n      <td>3</td>\n      <td>Menswear</td>\n      <td>24</td>\n      <td>Men Project</td>\n      <td>1001</td>\n      <td>Unknown</td>\n      <td>T-shirt in printed cotton jersey.</td>\n    </tr>\n    <tr>\n      <th>60223</th>\n      <td>727667002</td>\n      <td>727667</td>\n      <td>HOWIE LS</td>\n      <td>259</td>\n      <td>Shirt</td>\n      <td>Garment Upper body</td>\n      <td>-1</td>\n      <td>Unknown</td>\n      <td>-1</td>\n      <td>Unknown</td>\n      <td>...</td>\n      <td>Shirt</td>\n      <td>F</td>\n      <td>Menswear</td>\n      <td>3</td>\n      <td>Menswear</td>\n      <td>55</td>\n      <td>Contemporary Street</td>\n      <td>1011</td>\n      <td>Shirts</td>\n      <td>Shirt in a cotton weave with a turn-down colla...</td>\n    </tr>\n    <tr>\n      <th>60627</th>\n      <td>730292001</td>\n      <td>730292</td>\n      <td>J MYSA JOGGERS. CNY</td>\n      <td>272</td>\n      <td>Trousers</td>\n      <td>Garment Lower body</td>\n      <td>-1</td>\n      <td>Unknown</td>\n      <td>-1</td>\n      <td>Unknown</td>\n      <td>...</td>\n      <td>Asia Assortment</td>\n      <td>A</td>\n      <td>Ladieswear</td>\n      <td>1</td>\n      <td>Ladieswear</td>\n      <td>15</td>\n      <td>Womens Everyday Collection</td>\n      <td>1001</td>\n      <td>Unknown</td>\n      <td>Trousers in sturdy jersey with a high, elastic...</td>\n    </tr>\n    <tr>\n      <th>64927</th>\n      <td>743295001</td>\n      <td>743295</td>\n      <td>W Henry Blouse CNY</td>\n      <td>258</td>\n      <td>Blouse</td>\n      <td>Garment Upper body</td>\n      <td>-1</td>\n      <td>Unknown</td>\n      <td>-1</td>\n      <td>Unknown</td>\n      <td>...</td>\n      <td>Asia Assortment</td>\n      <td>A</td>\n      <td>Ladieswear</td>\n      <td>1</td>\n      <td>Ladieswear</td>\n      <td>15</td>\n      <td>Womens Everyday Collection</td>\n      <td>1001</td>\n      <td>Unknown</td>\n      <td>Wide blouse in a patterned crêpe weave with a ...</td>\n    </tr>\n  </tbody>\n</table>\n<p>28 rows × 25 columns</p>\n</div>"
     },
     "execution_count": 84,
     "metadata": {},
     "output_type": "execute_result"
    }
   ],
   "source": [
    "articles[articles[\"colour_group_code\"] == -1]"
   ],
   "metadata": {
    "collapsed": false
   }
  },
  {
   "cell_type": "markdown",
   "source": [
    "Clearly the values are well kept and only the detail description lacks a bit. In total 416 values are missing.\n",
    "Although the minimum values of some of these numerical columns are -1, which is odd.\n",
    "Now let's look at the descriptions of the columns. We want to look for anomalies, and values out of the ordinary."
   ],
   "metadata": {
    "id": "N6-wwn6VrLoX"
   }
  },
  {
   "cell_type": "code",
   "execution_count": 16,
   "outputs": [
    {
     "data": {
      "text/plain": "True"
     },
     "execution_count": 16,
     "metadata": {},
     "output_type": "execute_result"
    }
   ],
   "source": [
    "# check for uniqueness in the article IDs\n",
    "len(articles[\"article_id\"].unique()) == articles.shape[0]"
   ],
   "metadata": {
    "collapsed": false
   }
  },
  {
   "cell_type": "code",
   "source": [
    "# using this we get lots of info about counts, means, deviations, and so forth ...\n",
    "articles[\"prod_name\"].describe()"
   ],
   "metadata": {
    "id": "l0UUcc3DriqH"
   },
   "execution_count": 17,
   "outputs": [
    {
     "data": {
      "text/plain": "count              105542\nunique              45875\ntop       Dragonfly dress\nfreq                   98\nName: prod_name, dtype: object"
     },
     "execution_count": 17,
     "metadata": {},
     "output_type": "execute_result"
    }
   ]
  },
  {
   "cell_type": "code",
   "source": [
    "# lets look at the description of both the product code and the product type number\n",
    "articles[\"product_code\"].value_counts()"
   ],
   "metadata": {
    "id": "Yadrc_2iw39n"
   },
   "execution_count": 18,
   "outputs": [
    {
     "data": {
      "text/plain": "783707    75\n684021    70\n699923    52\n699755    49\n685604    46\n          ..\n761368     1\n761366     1\n761360     1\n761350     1\n959461     1\nName: product_code, Length: 47224, dtype: int64"
     },
     "execution_count": 18,
     "metadata": {},
     "output_type": "execute_result"
    }
   ]
  },
  {
   "cell_type": "markdown",
   "source": [
    "There are more codes than names, why? What should we use? "
   ],
   "metadata": {
    "collapsed": false
   }
  },
  {
   "cell_type": "code",
   "execution_count": 19,
   "outputs": [
    {
     "data": {
      "text/plain": "count    105542.000000\nmean     698424.563378\nstd      128462.384432\nmin      108775.000000\n25%      616992.500000\n50%      702213.000000\n75%      796703.000000\nmax      959461.000000\nName: product_code, dtype: float64"
     },
     "execution_count": 19,
     "metadata": {},
     "output_type": "execute_result"
    }
   ],
   "source": [
    "articles[\"product_code\"].describe()"
   ],
   "metadata": {
    "collapsed": false
   }
  },
  {
   "cell_type": "code",
   "source": [
    "articles[\"product_type_no\"].value_counts()"
   ],
   "metadata": {
    "id": "k9sFqksKxXmv"
   },
   "execution_count": 20,
   "outputs": [
    {
     "data": {
      "text/plain": "272    11169\n265    10362\n252     9302\n255     7904\n254     4155\n       ...  \n525        1\n514        1\n351        1\n349        1\n483        1\nName: product_type_no, Length: 132, dtype: int64"
     },
     "execution_count": 20,
     "metadata": {},
     "output_type": "execute_result"
    }
   ]
  },
  {
   "cell_type": "code",
   "source": [
    "articles[\"product_type_name\"].value_counts()"
   ],
   "metadata": {
    "id": "4vR4KBwGx47S"
   },
   "execution_count": 21,
   "outputs": [
    {
     "data": {
      "text/plain": "Trousers         11169\nDress            10362\nSweater           9302\nT-shirt           7904\nTop               4155\n                 ...  \nKeychain             1\nHeadband             1\nCushion              1\nBlanket              1\nClothing mist        1\nName: product_type_name, Length: 131, dtype: int64"
     },
     "execution_count": 21,
     "metadata": {},
     "output_type": "execute_result"
    }
   ]
  },
  {
   "cell_type": "code",
   "execution_count": 22,
   "outputs": [
    {
     "data": {
      "text/plain": "(132, 131)"
     },
     "execution_count": 22,
     "metadata": {},
     "output_type": "execute_result"
    }
   ],
   "source": [
    "len(articles[\"product_type_no\"].unique()), len(articles[\"product_type_name\"].unique())"
   ],
   "metadata": {
    "collapsed": false
   }
  },
  {
   "cell_type": "code",
   "execution_count": 22,
   "outputs": [],
   "source": [],
   "metadata": {
    "collapsed": false
   }
  },
  {
   "cell_type": "code",
   "execution_count": 23,
   "outputs": [
    {
     "data": {
      "text/plain": "(47224, 45875)"
     },
     "execution_count": 23,
     "metadata": {},
     "output_type": "execute_result"
    }
   ],
   "source": [
    "len(articles[\"product_code\"].unique()), len(articles[\"prod_name\"].unique())"
   ],
   "metadata": {
    "collapsed": false
   }
  },
  {
   "cell_type": "code",
   "execution_count": 24,
   "outputs": [
    {
     "data": {
      "text/plain": "(30, 30)"
     },
     "execution_count": 24,
     "metadata": {},
     "output_type": "execute_result"
    }
   ],
   "source": [
    "len(articles[\"graphical_appearance_no\"].unique()), len(articles[\"graphical_appearance_name\"].unique())"
   ],
   "metadata": {
    "collapsed": false
   }
  },
  {
   "cell_type": "code",
   "execution_count": 25,
   "outputs": [
    {
     "data": {
      "text/plain": "(50, 50)"
     },
     "execution_count": 25,
     "metadata": {},
     "output_type": "execute_result"
    }
   ],
   "source": [
    "len(articles[\"colour_group_code\"].unique()), len(articles[\"colour_group_name\"].unique())"
   ],
   "metadata": {
    "collapsed": false
   }
  },
  {
   "cell_type": "code",
   "execution_count": 85,
   "outputs": [
    {
     "data": {
      "text/plain": " 9     22670\n 73    12171\n 10     9542\n 51     5811\n 7      4487\n 12     3356\n 72     3308\n 42     3056\n 71     3012\n 19     2767\n 8      2731\n 11     2726\n 13     2712\n 43     2340\n 93     2106\n 6      2105\n 52     2063\n 22     1645\n 31     1520\n 17     1471\n 5      1377\n 14     1084\n 81     1027\n 21      984\n 33      886\n 53      818\n 92      815\n 32      779\n 50      750\n 3       709\n 91      681\n 23      574\n 61      553\n 83      473\n 82      435\n 63      315\n 41      285\n 15      226\n 20      225\n 62      182\n 30      153\n 90      129\n 40      114\n 1       105\n 4        94\n 70       51\n 60       46\n 2        31\n-1        28\n 80       14\nName: colour_group_code, dtype: int64"
     },
     "execution_count": 85,
     "metadata": {},
     "output_type": "execute_result"
    }
   ],
   "source": [
    "articles[\"colour_group_code\"].value_counts()"
   ],
   "metadata": {
    "collapsed": false
   }
  },
  {
   "cell_type": "code",
   "execution_count": 86,
   "outputs": [
    {
     "data": {
      "text/plain": "Black              22670\nDark Blue          12171\nWhite               9542\nLight Pink          5811\nGrey                4487\nLight Beige         3356\nBlue                3308\nRed                 3056\nLight Blue          3012\nGreenish Khaki      2767\nDark Grey           2731\nOff White           2726\nBeige               2712\nDark Red            2340\nDark Green          2106\nLight Grey          2105\nPink                2063\nYellow              1645\nLight Orange        1520\nYellowish Brown     1471\nGold                1377\nDark Beige          1084\nLight Turquoise     1027\nLight Yellow         984\nDark Orange          886\nDark Pink            818\nGreen                815\nOrange               779\nOther Pink           750\nSilver               709\nLight Green          681\nDark Yellow          574\nLight Purple         553\nDark Turquoise       473\nTurquoise            435\nDark Purple          315\nLight Red            285\nGreyish Beige        226\nOther Yellow         225\nPurple               182\nOther Orange         153\nOther Green          129\nOther Red            114\nOther                105\nBronze/Copper         94\nOther Blue            51\nOther Purple          46\nTransparent           31\nUnknown               28\nOther Turquoise       14\nName: colour_group_name, dtype: int64"
     },
     "execution_count": 86,
     "metadata": {},
     "output_type": "execute_result"
    }
   ],
   "source": [
    "articles[\"colour_group_name\"].value_counts()"
   ],
   "metadata": {
    "collapsed": false
   }
  },
  {
   "cell_type": "code",
   "execution_count": 26,
   "outputs": [
    {
     "data": {
      "text/plain": "(20, 20)"
     },
     "execution_count": 26,
     "metadata": {},
     "output_type": "execute_result"
    }
   ],
   "source": [
    "len(articles[\"perceived_colour_master_id\"].unique()), len(articles[\"perceived_colour_master_name\"].unique())"
   ],
   "metadata": {
    "collapsed": false
   }
  },
  {
   "cell_type": "code",
   "execution_count": 27,
   "outputs": [
    {
     "data": {
      "text/plain": "(8, 8)"
     },
     "execution_count": 27,
     "metadata": {},
     "output_type": "execute_result"
    }
   ],
   "source": [
    "len(articles[\"perceived_colour_value_id\"].unique()), len(articles[\"perceived_colour_value_name\"].unique())"
   ],
   "metadata": {
    "collapsed": false
   }
  },
  {
   "cell_type": "code",
   "execution_count": 28,
   "outputs": [
    {
     "data": {
      "text/plain": "(299, 250)"
     },
     "execution_count": 28,
     "metadata": {},
     "output_type": "execute_result"
    }
   ],
   "source": [
    "len(articles[\"department_no\"].unique()), len(articles[\"department_name\"].unique())"
   ],
   "metadata": {
    "collapsed": false
   }
  },
  {
   "cell_type": "code",
   "execution_count": 29,
   "outputs": [
    {
     "data": {
      "text/plain": "(10, 10)"
     },
     "execution_count": 29,
     "metadata": {},
     "output_type": "execute_result"
    }
   ],
   "source": [
    "len(articles[\"index_code\"].unique()), len(articles[\"index_name\"].unique())"
   ],
   "metadata": {
    "collapsed": false
   }
  },
  {
   "cell_type": "code",
   "execution_count": 30,
   "outputs": [
    {
     "data": {
      "text/plain": "(5, 5)"
     },
     "execution_count": 30,
     "metadata": {},
     "output_type": "execute_result"
    }
   ],
   "source": [
    "len(articles[\"index_group_no\"].unique()), len(articles[\"index_group_name\"].unique())"
   ],
   "metadata": {
    "collapsed": false
   }
  },
  {
   "cell_type": "code",
   "execution_count": 31,
   "outputs": [
    {
     "data": {
      "text/plain": "(57, 56)"
     },
     "execution_count": 31,
     "metadata": {},
     "output_type": "execute_result"
    }
   ],
   "source": [
    "len(articles[\"section_no\"].unique()), len(articles[\"section_name\"].unique())"
   ],
   "metadata": {
    "collapsed": false
   }
  },
  {
   "cell_type": "code",
   "execution_count": 32,
   "outputs": [
    {
     "data": {
      "text/plain": "(21, 21)"
     },
     "execution_count": 32,
     "metadata": {},
     "output_type": "execute_result"
    }
   ],
   "source": [
    "len(articles[\"garment_group_no\"].unique()), len(articles[\"garment_group_name\"].unique())"
   ],
   "metadata": {
    "collapsed": false
   }
  },
  {
   "cell_type": "markdown",
   "source": [
    "Some value_counts and graphs"
   ],
   "metadata": {
    "collapsed": false
   }
  },
  {
   "cell_type": "code",
   "execution_count": 33,
   "outputs": [
    {
     "data": {
      "text/plain": "Solid                  49747\nAll over pattern       17165\nMelange                 5938\nStripe                  4990\nDenim                   4842\nFront print             3215\nPlacement print         3098\nCheck                   2178\nColour blocking         1830\nLace                    1513\nOther structure         1502\nApplication/3D          1341\nEmbroidery              1165\nMixed solid/pattern     1132\nGlittering/Metallic      958\nJacquard                 830\nSequin                   806\nDot                      681\nTreatment                586\nOther pattern            515\nContrast                 376\nMetallic                 346\nChambray                 322\nSlub                     153\nTransparent               86\nMesh                      86\nNeps                      66\nUnknown                   52\nArgyle                    15\nHologram                   8\nName: graphical_appearance_name, dtype: int64"
     },
     "execution_count": 33,
     "metadata": {},
     "output_type": "execute_result"
    }
   ],
   "source": [
    "articles[\"graphical_appearance_name\"].value_counts()"
   ],
   "metadata": {
    "collapsed": false
   }
  },
  {
   "cell_type": "code",
   "execution_count": 34,
   "outputs": [
    {
     "data": {
      "text/plain": "Black              22670\nDark Blue          12171\nWhite               9542\nLight Pink          5811\nGrey                4487\nLight Beige         3356\nBlue                3308\nRed                 3056\nLight Blue          3012\nGreenish Khaki      2767\nDark Grey           2731\nOff White           2726\nBeige               2712\nDark Red            2340\nDark Green          2106\nLight Grey          2105\nPink                2063\nYellow              1645\nLight Orange        1520\nYellowish Brown     1471\nGold                1377\nDark Beige          1084\nLight Turquoise     1027\nLight Yellow         984\nDark Orange          886\nDark Pink            818\nGreen                815\nOrange               779\nOther Pink           750\nSilver               709\nLight Green          681\nDark Yellow          574\nLight Purple         553\nDark Turquoise       473\nTurquoise            435\nDark Purple          315\nLight Red            285\nGreyish Beige        226\nOther Yellow         225\nPurple               182\nOther Orange         153\nOther Green          129\nOther Red            114\nOther                105\nBronze/Copper         94\nOther Blue            51\nOther Purple          46\nTransparent           31\nUnknown               28\nOther Turquoise       14\nName: colour_group_name, dtype: int64"
     },
     "execution_count": 34,
     "metadata": {},
     "output_type": "execute_result"
    }
   ],
   "source": [
    "articles[\"colour_group_name\"].value_counts()"
   ],
   "metadata": {
    "collapsed": false
   }
  },
  {
   "cell_type": "code",
   "execution_count": 35,
   "outputs": [
    {
     "data": {
      "text/plain": "Dark            42706\nDusty Light     22152\nLight           15739\nMedium Dusty    12630\nBright           6471\nMedium           5711\nUndefined         105\nUnknown            28\nName: perceived_colour_value_name, dtype: int64"
     },
     "execution_count": 35,
     "metadata": {},
     "output_type": "execute_result"
    }
   ],
   "source": [
    "articles[\"perceived_colour_value_name\"].value_counts()"
   ],
   "metadata": {
    "collapsed": false
   }
  },
  {
   "cell_type": "code",
   "execution_count": 36,
   "outputs": [
    {
     "data": {
      "text/plain": "<AxesSubplot: >"
     },
     "execution_count": 36,
     "metadata": {},
     "output_type": "execute_result"
    },
    {
     "data": {
      "text/plain": "<Figure size 640x480 with 1 Axes>",
      "image/png": "[encoded data removed]"
     },
     "metadata": {},
     "output_type": "display_data"
    }
   ],
   "source": [
    "articles[\"perceived_colour_value_name\"].value_counts().plot.bar()"
   ],
   "metadata": {
    "collapsed": false
   }
  },
  {
   "cell_type": "code",
   "execution_count": 37,
   "outputs": [
    {
     "data": {
      "text/plain": "Black              22585\nBlue               18469\nWhite              12665\nPink                9403\nGrey                8924\nRed                 5878\nBeige               5657\nGreen               3526\nKhaki green         3181\nYellow              3121\nOrange              2734\nBrown               2269\nMetal               2180\nTurquoise           1829\nMole                1223\nLilac Purple        1100\nUnknown              685\nundefined            105\nYellowish Green        5\nBluish Green           3\nName: perceived_colour_master_name, dtype: int64"
     },
     "execution_count": 37,
     "metadata": {},
     "output_type": "execute_result"
    }
   ],
   "source": [
    "articles[\"perceived_colour_master_name\"].value_counts()"
   ],
   "metadata": {
    "collapsed": false
   }
  },
  {
   "cell_type": "code",
   "execution_count": 38,
   "outputs": [
    {
     "data": {
      "text/plain": "Jersey                             4604\nKnitwear                           3503\nTrouser                            2655\nBlouse                             2362\nDress                              2087\n                                   ... \nWoven bottoms inactive from S.7       1\nJersey inactive from S.6              1\nEQ Divided Blue                       1\nAccessories Other                     1\nKids Boy License                      1\nName: department_name, Length: 250, dtype: int64"
     },
     "execution_count": 38,
     "metadata": {},
     "output_type": "execute_result"
    }
   ],
   "source": [
    "articles[\"department_name\"].value_counts()"
   ],
   "metadata": {
    "collapsed": false
   }
  },
  {
   "cell_type": "code",
   "execution_count": 39,
   "outputs": [
    {
     "data": {
      "text/plain": "Ladieswear                        26001\nDivided                           15149\nMenswear                          12553\nChildren Sizes 92-140             12007\nChildren Sizes 134-170             9214\nBaby Sizes 50-98                   8875\nLadies Accessories                 6961\nLingeries/Tights                   6775\nChildren Accessories, Swimwear     4615\nSport                              3392\nName: index_name, dtype: int64"
     },
     "execution_count": 39,
     "metadata": {},
     "output_type": "execute_result"
    }
   ],
   "source": [
    "articles[\"index_name\"].value_counts()"
   ],
   "metadata": {
    "collapsed": false
   }
  },
  {
   "cell_type": "code",
   "execution_count": 40,
   "outputs": [
    {
     "data": {
      "text/plain": "<AxesSubplot: >"
     },
     "execution_count": 40,
     "metadata": {},
     "output_type": "execute_result"
    },
    {
     "data": {
      "text/plain": "<Figure size 640x480 with 1 Axes>",
      "image/png": "[encoded data removed]"
     },
     "metadata": {},
     "output_type": "display_data"
    }
   ],
   "source": [
    "articles[\"index_name\"].value_counts().plot.bar()"
   ],
   "metadata": {
    "collapsed": false
   }
  },
  {
   "cell_type": "code",
   "execution_count": 41,
   "outputs": [
    {
     "data": {
      "text/plain": "Ladieswear       39737\nBaby/Children    34711\nDivided          15149\nMenswear         12553\nSport             3392\nName: index_group_name, dtype: int64"
     },
     "execution_count": 41,
     "metadata": {},
     "output_type": "execute_result"
    }
   ],
   "source": [
    "articles[\"index_group_name\"].value_counts()"
   ],
   "metadata": {
    "collapsed": false
   }
  },
  {
   "cell_type": "code",
   "execution_count": 42,
   "outputs": [
    {
     "data": {
      "text/plain": "Womens Everyday Collection        7295\nDivided Collection                7124\nBaby Essentials & Complements     4932\nKids Girl                         4469\nYoung Girl                        3899\nWomens Lingerie                   3598\nGirls Underwear & Basics          3490\nWomens Tailoring                  3376\nKids Boy                          3328\nWomens Small accessories          3270\nWomens Casual                     2725\nKids Outerwear                    2665\nWomens Trend                      2622\nDivided Projects                  2364\nYoung Boy                         2352\nH&M+                              2337\nMen Underwear                     2322\nMama                              2266\nKids & Baby Shoes                 2142\nBoys Underwear & Basics           2034\nWomens Shoes                      2026\nLadies H&M Sport                  1894\nWomens Swimwear, beachwear        1839\nContemporary Smart                1778\nBaby Girl                         1760\nDivided Accessories               1732\nKids Accessories, Swimwear & D    1731\nDivided Basics                    1723\nBaby Boy                          1717\nWomens Big accessories            1665\nWomens Everyday Basics            1581\nWomens Nightwear, Socks & Tigh    1566\nContemporary Casual               1560\nContemporary Street               1490\nMen Suits & Tailoring             1428\nMen Accessories                   1337\nWomens Premium                    1270\nLadies Denim                      1101\nDivided Selected                   991\nMen H&M Sport                      872\nWomens Jackets                     829\nSpecial Collections                682\nMen Shoes                          645\nMens Outerwear                     629\nKids Sports                        626\nCollaborations                     559\nDenim Men                          521\nMen Edition                        330\nMen Project                        298\nDivided Asia keys                  280\nKids Local Relevance               192\nMen Other 2                        190\nDivided Complements Other           35\nEQ Divided                          26\nMen Other                           25\nLadies Other                         4\nName: section_name, dtype: int64"
     },
     "execution_count": 42,
     "metadata": {},
     "output_type": "execute_result"
    }
   ],
   "source": [
    "articles[\"section_name\"].value_counts()"
   ],
   "metadata": {
    "collapsed": false
   }
  },
  {
   "cell_type": "code",
   "execution_count": 43,
   "outputs": [
    {
     "data": {
      "text/plain": "Jersey Fancy                     21445\nAccessories                      11519\nJersey Basic                      8126\nKnitwear                          7490\nUnder-, Nightwear                 7441\nTrousers                          6727\nBlouses                           5838\nShoes                             5145\nDresses Ladies                    4874\nOutdoor                           4501\nUnknown                           3873\nTrousers Denim                    3100\nSwimwear                          2787\nSocks and Tights                  2272\nShirts                            2116\nWoven/Jersey/Knitted mix Baby     1965\nShorts                            1559\nDresses/Skirts girls              1541\nSkirts                            1254\nSpecial Offers                    1061\nDressed                            908\nName: garment_group_name, dtype: int64"
     },
     "execution_count": 43,
     "metadata": {},
     "output_type": "execute_result"
    }
   ],
   "source": [
    "articles[\"garment_group_name\"].value_counts()"
   ],
   "metadata": {
    "collapsed": false
   }
  },
  {
   "cell_type": "markdown",
   "source": [
    "Apparently there are not as many product names as there are product codes. From this we can conclude that the names probably correspond to many codes but a code will always denote to a same name. I was not able to test this out yet."
   ],
   "metadata": {
    "collapsed": false
   }
  },
  {
   "cell_type": "markdown",
   "source": [
    "One thing we can notice here is that the length differs with one. We can ask ourselves if we maybe missed a value, but as we have seen earlier, no value is missing."
   ],
   "metadata": {
    "id": "yKQL--gFypIA"
   }
  },
  {
   "cell_type": "code",
   "source": [
    "pr_ty_no = articles[\"product_type_no\"].isna().sum()\n",
    "pr_ty_na = articles[\"product_type_name\"].isna().sum()\n",
    "\n",
    "pr_ty_no, pr_ty_na"
   ],
   "metadata": {
    "id": "YoKeVYIyx_-i"
   },
   "execution_count": 44,
   "outputs": [
    {
     "data": {
      "text/plain": "(0, 0)"
     },
     "execution_count": 44,
     "metadata": {},
     "output_type": "execute_result"
    }
   ]
  },
  {
   "cell_type": "markdown",
   "source": [
    "---\n",
    "# Analysing the 'customers.csv' Dataset\n",
    "first we import the dataset, then we show a little overview.\n",
    "\n",
    "\n",
    "\n"
   ],
   "metadata": {
    "id": "SRBviZ6bzqUq"
   }
  },
  {
   "cell_type": "code",
   "source": [
    "# import the csv file, read it and put it into a DataFrame\n",
    "gdrive_path_customers = '..\\\\..\\\\Data\\\\customers.csv'\n",
    "customers = pd.read_csv(gdrive_path_customers)\n",
    "customers = pd.DataFrame(customers)"
   ],
   "metadata": {
    "id": "RisCAWMRT7JB"
   },
   "execution_count": 45,
   "outputs": []
  },
  {
   "cell_type": "code",
   "source": [
    "customers"
   ],
   "metadata": {
    "id": "xvnrojv9Y7Cr"
   },
   "execution_count": 46,
   "outputs": [
    {
     "data": {
      "text/plain": "                                               customer_id   FN  Active  \\\n0        00000dbacae5abe5e23885899a1fa44253a17956c6d1c3...  NaN     NaN   \n1        0000423b00ade91418cceaf3b26c6af3dd342b51fd051e...  NaN     NaN   \n2        000058a12d5b43e67d225668fa1f8d618c13dc232df0ca...  NaN     NaN   \n3        00005ca1c9ed5f5146b52ac8639a40ca9d57aeff4d1bd2...  NaN     NaN   \n4        00006413d8573cd20ed7128e53b7b13819fe5cfc2d801f...  1.0     1.0   \n...                                                    ...  ...     ...   \n1371975  ffffbbf78b6eaac697a8a5dfbfd2bfa8113ee5b403e474...  NaN     NaN   \n1371976  ffffcd5046a6143d29a04fb8c424ce494a76e5cdf4fab5...  NaN     NaN   \n1371977  ffffcf35913a0bee60e8741cb2b4e78b8a98ee5ff2e6a1...  1.0     1.0   \n1371978  ffffd7744cebcf3aca44ae7049d2a94b87074c3d4ffe38...  1.0     1.0   \n1371979  ffffd9ac14e89946416d80e791d064701994755c3ab686...  NaN     NaN   \n\n        club_member_status fashion_news_frequency   age  \\\n0                   ACTIVE                   NONE  49.0   \n1                   ACTIVE                   NONE  25.0   \n2                   ACTIVE                   NONE  24.0   \n3                   ACTIVE                   NONE  54.0   \n4                   ACTIVE              Regularly  52.0   \n...                    ...                    ...   ...   \n1371975             ACTIVE                   NONE  24.0   \n1371976             ACTIVE                   NONE  21.0   \n1371977             ACTIVE              Regularly  21.0   \n1371978             ACTIVE              Regularly  18.0   \n1371979         PRE-CREATE                   NONE  65.0   \n\n                                               postal_code  \n0        52043ee2162cf5aa7ee79974281641c6f11a68d276429a...  \n1        2973abc54daa8a5f8ccfe9362140c63247c5eee03f1d93...  \n2        64f17e6a330a85798e4998f62d0930d14db8db1c054af6...  \n3        5d36574f52495e81f019b680c843c443bd343d5ca5b1c2...  \n4        25fa5ddee9aac01b35208d01736e57942317d756b32ddd...  \n...                                                    ...  \n1371975  7aa399f7e669990daba2d92c577b52237380662f36480b...  \n1371976  3f47f1279beb72215f4de557d950e0bfa73789d24acb5e...  \n1371977  4563fc79215672cd6a863f2b4bf56b8f898f2d96ed590e...  \n1371978  8892c18e9bc3dca6aa4000cb8094fc4b51ee8db2ed14d7...  \n1371979  0a1a03306fb2f62164c2a439b38c0caa64b40deaae8687...  \n\n[1371980 rows x 7 columns]",
      "text/html": "<div>\n<style scoped>\n    .dataframe tbody tr th:only-of-type {\n        vertical-align: middle;\n    }\n\n    .dataframe tbody tr th {\n        vertical-align: top;\n    }\n\n    .dataframe thead th {\n        text-align: right;\n    }\n</style>\n<table border=\"1\" class=\"dataframe\">\n  <thead>\n    <tr style=\"text-align: right;\">\n      <th></th>\n      <th>customer_id</th>\n      <th>FN</th>\n      <th>Active</th>\n      <th>club_member_status</th>\n      <th>fashion_news_frequency</th>\n      <th>age</th>\n      <th>postal_code</th>\n    </tr>\n  </thead>\n  <tbody>\n    <tr>\n      <th>0</th>\n      <td>00000dbacae5abe5e23885899a1fa44253a17956c6d1c3...</td>\n      <td>NaN</td>\n      <td>NaN</td>\n      <td>ACTIVE</td>\n      <td>NONE</td>\n      <td>49.0</td>\n      <td>52043ee2162cf5aa7ee79974281641c6f11a68d276429a...</td>\n    </tr>\n    <tr>\n      <th>1</th>\n      <td>0000423b00ade91418cceaf3b26c6af3dd342b51fd051e...</td>\n      <td>NaN</td>\n      <td>NaN</td>\n      <td>ACTIVE</td>\n      <td>NONE</td>\n      <td>25.0</td>\n      <td>2973abc54daa8a5f8ccfe9362140c63247c5eee03f1d93...</td>\n    </tr>\n    <tr>\n      <th>2</th>\n      <td>000058a12d5b43e67d225668fa1f8d618c13dc232df0ca...</td>\n      <td>NaN</td>\n      <td>NaN</td>\n      <td>ACTIVE</td>\n      <td>NONE</td>\n      <td>24.0</td>\n      <td>64f17e6a330a85798e4998f62d0930d14db8db1c054af6...</td>\n    </tr>\n    <tr>\n      <th>3</th>\n      <td>00005ca1c9ed5f5146b52ac8639a40ca9d57aeff4d1bd2...</td>\n      <td>NaN</td>\n      <td>NaN</td>\n      <td>ACTIVE</td>\n      <td>NONE</td>\n      <td>54.0</td>\n      <td>5d36574f52495e81f019b680c843c443bd343d5ca5b1c2...</td>\n    </tr>\n    <tr>\n      <th>4</th>\n      <td>00006413d8573cd20ed7128e53b7b13819fe5cfc2d801f...</td>\n      <td>1.0</td>\n      <td>1.0</td>\n      <td>ACTIVE</td>\n      <td>Regularly</td>\n      <td>52.0</td>\n      <td>25fa5ddee9aac01b35208d01736e57942317d756b32ddd...</td>\n    </tr>\n    <tr>\n      <th>...</th>\n      <td>...</td>\n      <td>...</td>\n      <td>...</td>\n      <td>...</td>\n      <td>...</td>\n      <td>...</td>\n      <td>...</td>\n    </tr>\n    <tr>\n      <th>1371975</th>\n      <td>ffffbbf78b6eaac697a8a5dfbfd2bfa8113ee5b403e474...</td>\n      <td>NaN</td>\n      <td>NaN</td>\n      <td>ACTIVE</td>\n      <td>NONE</td>\n      <td>24.0</td>\n      <td>7aa399f7e669990daba2d92c577b52237380662f36480b...</td>\n    </tr>\n    <tr>\n      <th>1371976</th>\n      <td>ffffcd5046a6143d29a04fb8c424ce494a76e5cdf4fab5...</td>\n      <td>NaN</td>\n      <td>NaN</td>\n      <td>ACTIVE</td>\n      <td>NONE</td>\n      <td>21.0</td>\n      <td>3f47f1279beb72215f4de557d950e0bfa73789d24acb5e...</td>\n    </tr>\n    <tr>\n      <th>1371977</th>\n      <td>ffffcf35913a0bee60e8741cb2b4e78b8a98ee5ff2e6a1...</td>\n      <td>1.0</td>\n      <td>1.0</td>\n      <td>ACTIVE</td>\n      <td>Regularly</td>\n      <td>21.0</td>\n      <td>4563fc79215672cd6a863f2b4bf56b8f898f2d96ed590e...</td>\n    </tr>\n    <tr>\n      <th>1371978</th>\n      <td>ffffd7744cebcf3aca44ae7049d2a94b87074c3d4ffe38...</td>\n      <td>1.0</td>\n      <td>1.0</td>\n      <td>ACTIVE</td>\n      <td>Regularly</td>\n      <td>18.0</td>\n      <td>8892c18e9bc3dca6aa4000cb8094fc4b51ee8db2ed14d7...</td>\n    </tr>\n    <tr>\n      <th>1371979</th>\n      <td>ffffd9ac14e89946416d80e791d064701994755c3ab686...</td>\n      <td>NaN</td>\n      <td>NaN</td>\n      <td>PRE-CREATE</td>\n      <td>NONE</td>\n      <td>65.0</td>\n      <td>0a1a03306fb2f62164c2a439b38c0caa64b40deaae8687...</td>\n    </tr>\n  </tbody>\n</table>\n<p>1371980 rows × 7 columns</p>\n</div>"
     },
     "execution_count": 46,
     "metadata": {},
     "output_type": "execute_result"
    }
   ]
  },
  {
   "cell_type": "code",
   "source": [
    "customers.isna().sum()"
   ],
   "metadata": {
    "id": "MoNsLoSpY_A0"
   },
   "execution_count": 47,
   "outputs": [
    {
     "data": {
      "text/plain": "customer_id                    0\nFN                        895050\nActive                    907576\nclub_member_status          6062\nfashion_news_frequency     16009\nage                        15861\npostal_code                    0\ndtype: int64"
     },
     "execution_count": 47,
     "metadata": {},
     "output_type": "execute_result"
    }
   ]
  },
  {
   "cell_type": "code",
   "source": [
    "# amount of rows\n",
    "cshape = customers.shape[0]\n",
    "fn_ratio = customers['FN'].isna().sum()/cshape*100\n",
    "print(f\"The ratio of NaN to entries for FN is ({customers['FN'].isna().sum()}/{cshape}) = {fn_ratio}%\")"
   ],
   "metadata": {
    "id": "1MqEj_zzZU4R"
   },
   "execution_count": 48,
   "outputs": [
    {
     "name": "stdout",
     "output_type": "stream",
     "text": [
      "The ratio of NaN to entries for FN is (895050/1371980) = 65.23783145526903%\n"
     ]
    }
   ]
  },
  {
   "cell_type": "markdown",
   "source": [
    "There is a 65% shortage on entries for the FN column. This may very well result in it not being usable."
   ],
   "metadata": {
    "collapsed": false
   }
  },
  {
   "cell_type": "code",
   "execution_count": 49,
   "outputs": [
    {
     "name": "stdout",
     "output_type": "stream",
     "text": [
      "The ratio of NaN to entries for Active is (907576/1371980) = 66.15081852505138%\n"
     ]
    }
   ],
   "source": [
    "active_ratio = customers['Active'].isna().sum()/cshape*100\n",
    "print(f\"The ratio of NaN to entries for Active is ({customers['Active'].isna().sum()}/{cshape}) = {active_ratio}%\")"
   ],
   "metadata": {
    "collapsed": false
   }
  },
  {
   "cell_type": "code",
   "execution_count": 50,
   "outputs": [
    {
     "name": "stdout",
     "output_type": "stream",
     "text": [
      "The ratio of NaN to entries for club_member_status is (6062/1371980) = 0.44184317555649494%\n"
     ]
    }
   ],
   "source": [
    "cms_ratio = customers['club_member_status'].isna().sum()/cshape*100\n",
    "print(f\"The ratio of NaN to entries for club_member_status is ({customers['club_member_status'].isna().sum()}/{cshape}) = {cms_ratio}%\")"
   ],
   "metadata": {
    "collapsed": false
   }
  },
  {
   "cell_type": "code",
   "execution_count": 51,
   "outputs": [
    {
     "name": "stdout",
     "output_type": "stream",
     "text": [
      "The ratio of NaN to entries for fashion_news_frequency is (16009/1371980) = 1.1668537442236768%\n"
     ]
    }
   ],
   "source": [
    "fnf_ratio = customers['fashion_news_frequency'].isna().sum()/cshape*100\n",
    "print(f\"The ratio of NaN to entries for fashion_news_frequency is ({customers['fashion_news_frequency'].isna().sum()}/{cshape}) = {fnf_ratio}%\")"
   ],
   "metadata": {
    "collapsed": false
   }
  },
  {
   "cell_type": "code",
   "execution_count": 52,
   "outputs": [
    {
     "name": "stdout",
     "output_type": "stream",
     "text": [
      "The ratio of NaN to entries for Age is (15861/1371980) = 1.1560664149623172%\n"
     ]
    }
   ],
   "source": [
    "age_ratio = customers['age'].isna().sum()/cshape*100\n",
    "print(f\"The ratio of NaN to entries for Age is ({customers['age'].isna().sum()}/{cshape}) = {age_ratio}%\")"
   ],
   "metadata": {
    "collapsed": false
   }
  },
  {
   "cell_type": "markdown",
   "source": [
    "There are even less entries present for the Active column."
   ],
   "metadata": {
    "collapsed": false
   }
  },
  {
   "cell_type": "code",
   "execution_count": 53,
   "outputs": [
    {
     "data": {
      "text/plain": "(1, array([nan,  1.]))"
     },
     "execution_count": 53,
     "metadata": {},
     "output_type": "execute_result"
    }
   ],
   "source": [
    "customers[\"FN\"].nunique(), customers[\"FN\"].unique()"
   ],
   "metadata": {
    "collapsed": false
   }
  },
  {
   "cell_type": "code",
   "execution_count": 54,
   "outputs": [
    {
     "data": {
      "text/plain": "(1, array([nan,  1.]))"
     },
     "execution_count": 54,
     "metadata": {},
     "output_type": "execute_result"
    }
   ],
   "source": [
    "customers[\"Active\"].nunique(), customers[\"Active\"].unique()"
   ],
   "metadata": {
    "collapsed": false
   }
  },
  {
   "cell_type": "code",
   "execution_count": 55,
   "outputs": [
    {
     "data": {
      "text/plain": "array(['ACTIVE', nan, 'PRE-CREATE', 'LEFT CLUB'], dtype=object)"
     },
     "execution_count": 55,
     "metadata": {},
     "output_type": "execute_result"
    }
   ],
   "source": [
    "# check how much values there are in the club_member_status category\n",
    "customers[\"club_member_status\"].unique()"
   ],
   "metadata": {
    "collapsed": false
   }
  },
  {
   "cell_type": "code",
   "execution_count": 56,
   "outputs": [
    {
     "data": {
      "text/plain": "count     1365918\nunique          3\ntop        ACTIVE\nfreq      1272491\nName: club_member_status, dtype: object"
     },
     "execution_count": 56,
     "metadata": {},
     "output_type": "execute_result"
    }
   ],
   "source": [
    "customers[\"club_member_status\"].describe()"
   ],
   "metadata": {
    "collapsed": false
   }
  },
  {
   "cell_type": "code",
   "execution_count": 57,
   "outputs": [
    {
     "data": {
      "text/plain": "<AxesSubplot: >"
     },
     "execution_count": 57,
     "metadata": {},
     "output_type": "execute_result"
    },
    {
     "data": {
      "text/plain": "<Figure size 640x480 with 1 Axes>",
      "image/png": "[encoded data removed]"
     },
     "metadata": {},
     "output_type": "display_data"
    }
   ],
   "source": [
    "customers[\"club_member_status\"].value_counts().plot.bar()"
   ],
   "metadata": {
    "collapsed": false
   }
  },
  {
   "cell_type": "code",
   "execution_count": 58,
   "outputs": [
    {
     "data": {
      "text/plain": "ACTIVE        1272491\nPRE-CREATE      92960\nLEFT CLUB         467\nName: club_member_status, dtype: int64"
     },
     "execution_count": 58,
     "metadata": {},
     "output_type": "execute_result"
    }
   ],
   "source": [
    "customers[\"club_member_status\"].value_counts()"
   ],
   "metadata": {
    "collapsed": false
   }
  },
  {
   "cell_type": "code",
   "execution_count": 59,
   "outputs": [
    {
     "data": {
      "text/plain": "array(['NONE', 'Regularly', nan, 'Monthly', 'None'], dtype=object)"
     },
     "execution_count": 59,
     "metadata": {},
     "output_type": "execute_result"
    }
   ],
   "source": [
    "customers[\"fashion_news_frequency\"].unique()"
   ],
   "metadata": {
    "collapsed": false
   }
  },
  {
   "cell_type": "code",
   "execution_count": 60,
   "outputs": [
    {
     "data": {
      "text/plain": "count     1355971\nunique          4\ntop          NONE\nfreq       877711\nName: fashion_news_frequency, dtype: object"
     },
     "execution_count": 60,
     "metadata": {},
     "output_type": "execute_result"
    }
   ],
   "source": [
    "customers[\"fashion_news_frequency\"].describe()"
   ],
   "metadata": {
    "collapsed": false
   }
  },
  {
   "cell_type": "code",
   "execution_count": 61,
   "outputs": [
    {
     "data": {
      "text/plain": "<AxesSubplot: >"
     },
     "execution_count": 61,
     "metadata": {},
     "output_type": "execute_result"
    },
    {
     "data": {
      "text/plain": "<Figure size 640x480 with 1 Axes>",
      "image/png": "[encoded data removed]"
     },
     "metadata": {},
     "output_type": "display_data"
    }
   ],
   "source": [
    "customers[\"fashion_news_frequency\"].value_counts().plot.bar()"
   ],
   "metadata": {
    "collapsed": false
   }
  },
  {
   "cell_type": "code",
   "execution_count": 62,
   "outputs": [
    {
     "data": {
      "text/plain": "NONE         877711\nRegularly    477416\nMonthly         842\nNone              2\nName: fashion_news_frequency, dtype: int64"
     },
     "execution_count": 62,
     "metadata": {},
     "output_type": "execute_result"
    }
   ],
   "source": [
    "customers[\"fashion_news_frequency\"].value_counts()"
   ],
   "metadata": {
    "collapsed": false
   }
  },
  {
   "cell_type": "markdown",
   "source": [],
   "metadata": {
    "collapsed": false
   }
  },
  {
   "cell_type": "code",
   "execution_count": 63,
   "outputs": [
    {
     "data": {
      "text/plain": "(16.0, 99.0)"
     },
     "execution_count": 63,
     "metadata": {},
     "output_type": "execute_result"
    }
   ],
   "source": [
    "# the minimum and maximum age of the customers\n",
    "customers[\"age\"].min(), customers[\"age\"].max()"
   ],
   "metadata": {
    "collapsed": false
   }
  },
  {
   "cell_type": "code",
   "execution_count": 64,
   "outputs": [
    {
     "data": {
      "text/plain": "21.0    67530\n24.0    56124\n20.0    55196\n25.0    54989\n23.0    54867\n        ...  \n98.0        7\n97.0        4\n93.0        4\n96.0        3\n94.0        3\nName: age, Length: 84, dtype: int64"
     },
     "execution_count": 64,
     "metadata": {},
     "output_type": "execute_result"
    }
   ],
   "source": [
    "# bar chart of the ages of customers\n",
    "customers[\"age\"].value_counts()"
   ],
   "metadata": {
    "collapsed": false
   }
  },
  {
   "cell_type": "code",
   "execution_count": 65,
   "outputs": [
    {
     "data": {
      "text/plain": "(3, 67530)"
     },
     "execution_count": 65,
     "metadata": {},
     "output_type": "execute_result"
    }
   ],
   "source": [
    "# min and max amount of an age\n",
    "customers[\"age\"].value_counts().min(), customers[\"age\"].value_counts().max()"
   ],
   "metadata": {
    "collapsed": false
   }
  },
  {
   "cell_type": "code",
   "execution_count": 66,
   "outputs": [
    {
     "data": {
      "text/plain": "<AxesSubplot: xlabel='age', ylabel='Count'>"
     },
     "execution_count": 66,
     "metadata": {},
     "output_type": "execute_result"
    },
    {
     "data": {
      "text/plain": "<Figure size 640x480 with 1 Axes>",
      "image/png": "[encoded data removed]"
     },
     "metadata": {},
     "output_type": "display_data"
    }
   ],
   "source": [
    "sns.histplot(customers[\"age\"])"
   ],
   "metadata": {
    "collapsed": false
   }
  },
  {
   "cell_type": "code",
   "execution_count": 77,
   "outputs": [
    {
     "data": {
      "text/plain": "count    1.356119e+06\nmean     3.638696e+01\nstd      1.431363e+01\nmin      1.600000e+01\n25%      2.400000e+01\n50%      3.200000e+01\n75%      4.900000e+01\nmax      9.900000e+01\nName: age, dtype: float64"
     },
     "execution_count": 77,
     "metadata": {},
     "output_type": "execute_result"
    }
   ],
   "source": [
    "customers[\"age\"].describe()"
   ],
   "metadata": {
    "collapsed": false
   }
  },
  {
   "cell_type": "code",
   "execution_count": 67,
   "outputs": [
    {
     "data": {
      "text/plain": "True"
     },
     "execution_count": 67,
     "metadata": {},
     "output_type": "execute_result"
    }
   ],
   "source": [
    "# check if there are as many unique customer IDs as there are entrances, in other words, no duplicate customers\n",
    "len(customers[\"customer_id\"]) == cshape"
   ],
   "metadata": {
    "collapsed": false
   }
  },
  {
   "cell_type": "markdown",
   "source": [
    "---\n",
    "# Analysing the 'transactions_train.csv' Dataset\n",
    "first we import the dataset, then we show a little overview."
   ],
   "metadata": {
    "collapsed": false
   }
  },
  {
   "cell_type": "code",
   "source": [
    "# import the csv file, read it and put it into a DataFrame\n",
    "gdrive_path_transactions = '..\\\\..\\\\Data\\\\transactions_train.csv'\n",
    "transactions = pd.read_csv(gdrive_path_transactions)\n",
    "transactions = pd.DataFrame(transactions)"
   ],
   "metadata": {
    "id": "aSjithofT6RW"
   },
   "execution_count": 68,
   "outputs": []
  },
  {
   "cell_type": "code",
   "source": [
    "transactions"
   ],
   "metadata": {
    "id": "g7vmAJGrViiN"
   },
   "execution_count": 69,
   "outputs": [
    {
     "data": {
      "text/plain": "               t_dat                                        customer_id  \\\n0         2018-09-20  000058a12d5b43e67d225668fa1f8d618c13dc232df0ca...   \n1         2018-09-20  000058a12d5b43e67d225668fa1f8d618c13dc232df0ca...   \n2         2018-09-20  00007d2de826758b65a93dd24ce629ed66842531df6699...   \n3         2018-09-20  00007d2de826758b65a93dd24ce629ed66842531df6699...   \n4         2018-09-20  00007d2de826758b65a93dd24ce629ed66842531df6699...   \n...              ...                                                ...   \n31788319  2020-09-22  fff2282977442e327b45d8c89afde25617d00124d0f999...   \n31788320  2020-09-22  fff2282977442e327b45d8c89afde25617d00124d0f999...   \n31788321  2020-09-22  fff380805474b287b05cb2a7507b9a013482f7dd0bce0e...   \n31788322  2020-09-22  fff4d3a8b1f3b60af93e78c30a7cb4cf75edaf2590d3e5...   \n31788323  2020-09-22  fffef3b6b73545df065b521e19f64bf6fe93bfd450ab20...   \n\n          article_id     price  sales_channel_id  \n0          663713001  0.050831                 2  \n1          541518023  0.030492                 2  \n2          505221004  0.015237                 2  \n3          685687003  0.016932                 2  \n4          685687004  0.016932                 2  \n...              ...       ...               ...  \n31788319   929511001  0.059305                 2  \n31788320   891322004  0.042356                 2  \n31788321   918325001  0.043203                 1  \n31788322   833459002  0.006763                 1  \n31788323   898573003  0.033881                 2  \n\n[31788324 rows x 5 columns]",
      "text/html": "<div>\n<style scoped>\n    .dataframe tbody tr th:only-of-type {\n        vertical-align: middle;\n    }\n\n    .dataframe tbody tr th {\n        vertical-align: top;\n    }\n\n    .dataframe thead th {\n        text-align: right;\n    }\n</style>\n<table border=\"1\" class=\"dataframe\">\n  <thead>\n    <tr style=\"text-align: right;\">\n      <th></th>\n      <th>t_dat</th>\n      <th>customer_id</th>\n      <th>article_id</th>\n      <th>price</th>\n      <th>sales_channel_id</th>\n    </tr>\n  </thead>\n  <tbody>\n    <tr>\n      <th>0</th>\n      <td>2018-09-20</td>\n      <td>000058a12d5b43e67d225668fa1f8d618c13dc232df0ca...</td>\n      <td>663713001</td>\n      <td>0.050831</td>\n      <td>2</td>\n    </tr>\n    <tr>\n      <th>1</th>\n      <td>2018-09-20</td>\n      <td>000058a12d5b43e67d225668fa1f8d618c13dc232df0ca...</td>\n      <td>541518023</td>\n      <td>0.030492</td>\n      <td>2</td>\n    </tr>\n    <tr>\n      <th>2</th>\n      <td>2018-09-20</td>\n      <td>00007d2de826758b65a93dd24ce629ed66842531df6699...</td>\n      <td>505221004</td>\n      <td>0.015237</td>\n      <td>2</td>\n    </tr>\n    <tr>\n      <th>3</th>\n      <td>2018-09-20</td>\n      <td>00007d2de826758b65a93dd24ce629ed66842531df6699...</td>\n      <td>685687003</td>\n      <td>0.016932</td>\n      <td>2</td>\n    </tr>\n    <tr>\n      <th>4</th>\n      <td>2018-09-20</td>\n      <td>00007d2de826758b65a93dd24ce629ed66842531df6699...</td>\n      <td>685687004</td>\n      <td>0.016932</td>\n      <td>2</td>\n    </tr>\n    <tr>\n      <th>...</th>\n      <td>...</td>\n      <td>...</td>\n      <td>...</td>\n      <td>...</td>\n      <td>...</td>\n    </tr>\n    <tr>\n      <th>31788319</th>\n      <td>2020-09-22</td>\n      <td>fff2282977442e327b45d8c89afde25617d00124d0f999...</td>\n      <td>929511001</td>\n      <td>0.059305</td>\n      <td>2</td>\n    </tr>\n    <tr>\n      <th>31788320</th>\n      <td>2020-09-22</td>\n      <td>fff2282977442e327b45d8c89afde25617d00124d0f999...</td>\n      <td>891322004</td>\n      <td>0.042356</td>\n      <td>2</td>\n    </tr>\n    <tr>\n      <th>31788321</th>\n      <td>2020-09-22</td>\n      <td>fff380805474b287b05cb2a7507b9a013482f7dd0bce0e...</td>\n      <td>918325001</td>\n      <td>0.043203</td>\n      <td>1</td>\n    </tr>\n    <tr>\n      <th>31788322</th>\n      <td>2020-09-22</td>\n      <td>fff4d3a8b1f3b60af93e78c30a7cb4cf75edaf2590d3e5...</td>\n      <td>833459002</td>\n      <td>0.006763</td>\n      <td>1</td>\n    </tr>\n    <tr>\n      <th>31788323</th>\n      <td>2020-09-22</td>\n      <td>fffef3b6b73545df065b521e19f64bf6fe93bfd450ab20...</td>\n      <td>898573003</td>\n      <td>0.033881</td>\n      <td>2</td>\n    </tr>\n  </tbody>\n</table>\n<p>31788324 rows × 5 columns</p>\n</div>"
     },
     "execution_count": 69,
     "metadata": {},
     "output_type": "execute_result"
    }
   ]
  },
  {
   "cell_type": "code",
   "source": [
    "# check if any column has any missing values.\n",
    "transactions.isna().any()"
   ],
   "metadata": {
    "id": "9VqsOhvbXxxo"
   },
   "execution_count": 70,
   "outputs": [
    {
     "data": {
      "text/plain": "t_dat               False\ncustomer_id         False\narticle_id          False\nprice               False\nsales_channel_id    False\ndtype: bool"
     },
     "execution_count": 70,
     "metadata": {},
     "output_type": "execute_result"
    }
   ]
  },
  {
   "cell_type": "markdown",
   "source": [
    "Clearly no values are missing, this is ideal. No actions are to be taken."
   ],
   "metadata": {
    "collapsed": false
   }
  },
  {
   "cell_type": "code",
   "source": [
    "transactions[\"sales_channel_id\"].value_counts()"
   ],
   "metadata": {
    "id": "i1SSg6q8WP1R"
   },
   "execution_count": 71,
   "outputs": [
    {
     "data": {
      "text/plain": "2    22379862\n1     9408462\nName: sales_channel_id, dtype: int64"
     },
     "execution_count": 71,
     "metadata": {},
     "output_type": "execute_result"
    }
   ]
  },
  {
   "cell_type": "code",
   "execution_count": 72,
   "outputs": [
    {
     "data": {
      "text/plain": "<AxesSubplot: >"
     },
     "execution_count": 72,
     "metadata": {},
     "output_type": "execute_result"
    },
    {
     "data": {
      "text/plain": "<Figure size 640x480 with 1 Axes>",
      "image/png": "[encoded data removed]"
     },
     "metadata": {},
     "output_type": "display_data"
    }
   ],
   "source": [
    "transactions[\"sales_channel_id\"].value_counts().plot.bar()"
   ],
   "metadata": {
    "collapsed": false
   }
  },
  {
   "cell_type": "markdown",
   "source": [
    "There is one channel which is clearly more successful"
   ],
   "metadata": {
    "collapsed": false
   }
  },
  {
   "cell_type": "code",
   "source": [
    "transactions[\"price\"].min(), transactions[\"price\"].max()"
   ],
   "metadata": {
    "id": "3LI5x--DXmhI"
   },
   "execution_count": 73,
   "outputs": [
    {
     "data": {
      "text/plain": "(1.694915254237288e-05, 0.5915254237288136)"
     },
     "execution_count": 73,
     "metadata": {},
     "output_type": "execute_result"
    }
   ]
  },
  {
   "cell_type": "code",
   "execution_count": 74,
   "outputs": [
    {
     "data": {
      "text/plain": "('2018-09-20', '2020-09-22')"
     },
     "execution_count": 74,
     "metadata": {},
     "output_type": "execute_result"
    }
   ],
   "source": [
    "transactions[\"t_dat\"].min(), transactions[\"t_dat\"].max()"
   ],
   "metadata": {
    "collapsed": false
   }
  },
  {
   "cell_type": "markdown",
   "source": [
    "Some weird values in the price column. The date is very useful in some cases such as the most popular in a month for example.\n",
    "For this to work we need to reduce to months instead of keeping the date exact to the day."
   ],
   "metadata": {
    "collapsed": false
   }
  },
  {
   "cell_type": "code",
   "execution_count": 75,
   "outputs": [
    {
     "data": {
      "text/plain": "<AxesSubplot: >"
     },
     "execution_count": 75,
     "metadata": {},
     "output_type": "execute_result"
    },
    {
     "data": {
      "text/plain": "<Figure size 640x480 with 1 Axes>",
      "image/png": "[encoded data removed]"
     },
     "metadata": {},
     "output_type": "display_data"
    }
   ],
   "source": [
    "transactions[\"t_dat\"].value_counts().plot.line()"
   ],
   "metadata": {
    "collapsed": false
   }
  },
  {
   "cell_type": "code",
   "execution_count": 90,
   "outputs": [
    {
     "data": {
      "text/plain": "<AxesSubplot: ylabel='t_dat'>"
     },
     "execution_count": 90,
     "metadata": {},
     "output_type": "execute_result"
    },
    {
     "data": {
      "text/plain": "<Figure size 640x480 with 1 Axes>",
      "image/png": "[encoded data removed]"
     },
     "metadata": {},
     "output_type": "display_data"
    }
   ],
   "source": [
    "sns.barplot(transactions[\"t_dat\"].value_counts())"
   ],
   "metadata": {
    "collapsed": false
   }
  },
  {
   "cell_type": "code",
   "execution_count": 76,
   "outputs": [
    {
     "data": {
      "text/plain": "31788324"
     },
     "execution_count": 76,
     "metadata": {},
     "output_type": "execute_result"
    }
   ],
   "source": [
    "trans_shape = transactions.shape[0]\n",
    "trans_shape"
   ],
   "metadata": {
    "collapsed": false
   }
  }
 ]
}
