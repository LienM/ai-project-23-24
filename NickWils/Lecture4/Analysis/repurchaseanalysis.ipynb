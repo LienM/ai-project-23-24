{
 "cells": [
  {
   "cell_type": "markdown",
   "id": "27d8d275",
   "metadata": {
    "papermill": {
     "duration": 0.006948,
     "end_time": "2023-11-08T00:46:03.365693",
     "exception": false,
     "start_time": "2023-11-08T00:46:03.358745",
     "status": "completed"
    },
    "tags": []
   },
   "source": [
    "# Read input files"
   ]
  },
  {
   "cell_type": "code",
   "execution_count": 1,
   "id": "46165e34",
   "metadata": {
    "execution": {
     "iopub.execute_input": "2023-11-08T00:46:03.383832Z",
     "iopub.status.busy": "2023-11-08T00:46:03.382854Z",
     "iopub.status.idle": "2023-11-08T00:46:11.848418Z",
     "shell.execute_reply": "2023-11-08T00:46:11.847358Z"
    },
    "papermill": {
     "duration": 8.477171,
     "end_time": "2023-11-08T00:46:11.851791",
     "exception": false,
     "start_time": "2023-11-08T00:46:03.374620",
     "status": "completed"
    },
    "tags": []
   },
   "outputs": [
    {
     "name": "stdout",
     "output_type": "stream",
     "text": [
      "CPU times: user 4.4 s, sys: 5.48 s, total: 9.88 s\n",
      "Wall time: 8.45 s\n"
     ]
    }
   ],
   "source": [
    "%%time\n",
    "import pandas as pd\n",
    "\n",
    "pad = \"/kaggle/input/makeparquet\"\n",
    "transactions = pd.read_parquet(pad+'/transactions_train.parquet')\n",
    "customers = pd.read_parquet(pad+'/customers.parquet')\n",
    "articles = pd.read_parquet(pad+'/articles.parquet')\n"
   ]
  },
  {
   "cell_type": "markdown",
   "id": "ec6f053e",
   "metadata": {
    "papermill": {
     "duration": 0.006196,
     "end_time": "2023-11-08T00:46:11.864402",
     "exception": false,
     "start_time": "2023-11-08T00:46:11.858206",
     "status": "completed"
    },
    "tags": []
   },
   "source": [
    "# Research Question 1: Repurchase Analysis\n"
   ]
  },
  {
   "cell_type": "code",
   "execution_count": 2,
   "id": "c16e46c7",
   "metadata": {
    "execution": {
     "iopub.execute_input": "2023-11-08T00:46:11.879855Z",
     "iopub.status.busy": "2023-11-08T00:46:11.879256Z",
     "iopub.status.idle": "2023-11-08T00:46:32.672739Z",
     "shell.execute_reply": "2023-11-08T00:46:32.671196Z"
    },
    "papermill": {
     "duration": 20.805015,
     "end_time": "2023-11-08T00:46:32.675894",
     "exception": false,
     "start_time": "2023-11-08T00:46:11.870879",
     "status": "completed"
    },
    "tags": []
   },
   "outputs": [
    {
     "name": "stdout",
     "output_type": "stream",
     "text": [
      "0.16413289920373725\n"
     ]
    }
   ],
   "source": [
    "# Calculate repurchase rate for each article\n",
    "# Group by customer and article, and count how many times each article was purchased\n",
    "repurchase_counts = transactions.groupby(['customer_id', 'article_id'])['t_dat'].count().reset_index()\n",
    "repurchase_counts['t_dat'] = repurchase_counts['t_dat'] - 1\n",
    "\n",
    "# Calculate the average repurchase rate\n",
    "average_repurchase_rate = repurchase_counts['t_dat'].mean()\n",
    "print(average_repurchase_rate)"
   ]
  },
  {
   "cell_type": "markdown",
   "id": "86c5e436",
   "metadata": {
    "papermill": {
     "duration": 0.005831,
     "end_time": "2023-11-08T00:46:32.687975",
     "exception": false,
     "start_time": "2023-11-08T00:46:32.682144",
     "status": "completed"
    },
    "tags": []
   },
   "source": [
    "Bulk purchases:"
   ]
  },
  {
   "cell_type": "code",
   "execution_count": 3,
   "id": "9e95eb42",
   "metadata": {
    "execution": {
     "iopub.execute_input": "2023-11-08T00:46:32.702240Z",
     "iopub.status.busy": "2023-11-08T00:46:32.701768Z",
     "iopub.status.idle": "2023-11-08T00:46:32.730437Z",
     "shell.execute_reply": "2023-11-08T00:46:32.728817Z"
    },
    "papermill": {
     "duration": 0.039708,
     "end_time": "2023-11-08T00:46:32.733702",
     "exception": false,
     "start_time": "2023-11-08T00:46:32.693994",
     "status": "completed"
    },
    "tags": []
   },
   "outputs": [
    {
     "name": "stdout",
     "output_type": "stream",
     "text": [
      "569\n"
     ]
    }
   ],
   "source": [
    "average_repurchase_rate = repurchase_counts['t_dat'].max()\n",
    "print(average_repurchase_rate)"
   ]
  },
  {
   "cell_type": "code",
   "execution_count": 4,
   "id": "36d134e4",
   "metadata": {
    "execution": {
     "iopub.execute_input": "2023-11-08T00:46:32.748810Z",
     "iopub.status.busy": "2023-11-08T00:46:32.748406Z",
     "iopub.status.idle": "2023-11-08T00:46:32.859980Z",
     "shell.execute_reply": "2023-11-08T00:46:32.858423Z"
    },
    "papermill": {
     "duration": 0.123394,
     "end_time": "2023-11-08T00:46:32.863357",
     "exception": false,
     "start_time": "2023-11-08T00:46:32.739963",
     "status": "completed"
    },
    "tags": []
   },
   "outputs": [
    {
     "data": {
      "text/html": [
       "<div>\n",
       "<style scoped>\n",
       "    .dataframe tbody tr th:only-of-type {\n",
       "        vertical-align: middle;\n",
       "    }\n",
       "\n",
       "    .dataframe tbody tr th {\n",
       "        vertical-align: top;\n",
       "    }\n",
       "\n",
       "    .dataframe thead th {\n",
       "        text-align: right;\n",
       "    }\n",
       "</style>\n",
       "<table border=\"1\" class=\"dataframe\">\n",
       "  <thead>\n",
       "    <tr style=\"text-align: right;\">\n",
       "      <th></th>\n",
       "      <th>customer_id</th>\n",
       "      <th>article_id</th>\n",
       "      <th>t_dat</th>\n",
       "    </tr>\n",
       "  </thead>\n",
       "  <tbody>\n",
       "    <tr>\n",
       "      <th>8524309</th>\n",
       "      <td>5743206735920807081</td>\n",
       "      <td>678342001</td>\n",
       "      <td>569</td>\n",
       "    </tr>\n",
       "  </tbody>\n",
       "</table>\n",
       "</div>"
      ],
      "text/plain": [
       "                 customer_id  article_id  t_dat\n",
       "8524309  5743206735920807081   678342001    569"
      ]
     },
     "execution_count": 4,
     "metadata": {},
     "output_type": "execute_result"
    }
   ],
   "source": [
    "repurchase_counts[repurchase_counts['t_dat']==569]"
   ]
  },
  {
   "cell_type": "code",
   "execution_count": 5,
   "id": "1ab94fda",
   "metadata": {
    "execution": {
     "iopub.execute_input": "2023-11-08T00:46:32.878682Z",
     "iopub.status.busy": "2023-11-08T00:46:32.878278Z",
     "iopub.status.idle": "2023-11-08T00:46:32.905554Z",
     "shell.execute_reply": "2023-11-08T00:46:32.904514Z"
    },
    "papermill": {
     "duration": 0.037621,
     "end_time": "2023-11-08T00:46:32.907820",
     "exception": false,
     "start_time": "2023-11-08T00:46:32.870199",
     "status": "completed"
    },
    "tags": []
   },
   "outputs": [
    {
     "data": {
      "text/html": [
       "<div>\n",
       "<style scoped>\n",
       "    .dataframe tbody tr th:only-of-type {\n",
       "        vertical-align: middle;\n",
       "    }\n",
       "\n",
       "    .dataframe tbody tr th {\n",
       "        vertical-align: top;\n",
       "    }\n",
       "\n",
       "    .dataframe thead th {\n",
       "        text-align: right;\n",
       "    }\n",
       "</style>\n",
       "<table border=\"1\" class=\"dataframe\">\n",
       "  <thead>\n",
       "    <tr style=\"text-align: right;\">\n",
       "      <th></th>\n",
       "      <th>article_id</th>\n",
       "      <th>product_code</th>\n",
       "      <th>prod_name</th>\n",
       "      <th>product_type_no</th>\n",
       "      <th>product_type_name</th>\n",
       "      <th>product_group_name</th>\n",
       "      <th>graphical_appearance_no</th>\n",
       "      <th>graphical_appearance_name</th>\n",
       "      <th>colour_group_code</th>\n",
       "      <th>colour_group_name</th>\n",
       "      <th>...</th>\n",
       "      <th>fabric_wool</th>\n",
       "      <th>fabric_polyester</th>\n",
       "      <th>fabric_silk</th>\n",
       "      <th>fabric_denim</th>\n",
       "      <th>fabric_linen</th>\n",
       "      <th>fabric_spandex</th>\n",
       "      <th>fabric_rayon</th>\n",
       "      <th>fabric_nylon</th>\n",
       "      <th>fabric_leather</th>\n",
       "      <th>fabric_suede</th>\n",
       "    </tr>\n",
       "  </thead>\n",
       "  <tbody>\n",
       "    <tr>\n",
       "      <th>43839</th>\n",
       "      <td>678342001</td>\n",
       "      <td>678342</td>\n",
       "      <td>Lima SS.</td>\n",
       "      <td>255</td>\n",
       "      <td>T-shirt</td>\n",
       "      <td>Garment Upper body</td>\n",
       "      <td>1010016</td>\n",
       "      <td>Solid</td>\n",
       "      <td>9</td>\n",
       "      <td>Black</td>\n",
       "      <td>...</td>\n",
       "      <td>0</td>\n",
       "      <td>0</td>\n",
       "      <td>0</td>\n",
       "      <td>0</td>\n",
       "      <td>0</td>\n",
       "      <td>0</td>\n",
       "      <td>0</td>\n",
       "      <td>0</td>\n",
       "      <td>0</td>\n",
       "      <td>0</td>\n",
       "    </tr>\n",
       "  </tbody>\n",
       "</table>\n",
       "<p>1 rows × 37 columns</p>\n",
       "</div>"
      ],
      "text/plain": [
       "       article_id  product_code prod_name  product_type_no product_type_name  \\\n",
       "43839   678342001        678342  Lima SS.              255           T-shirt   \n",
       "\n",
       "       product_group_name  graphical_appearance_no graphical_appearance_name  \\\n",
       "43839  Garment Upper body                  1010016                     Solid   \n",
       "\n",
       "       colour_group_code colour_group_name  ...  fabric_wool fabric_polyester  \\\n",
       "43839                  9             Black  ...            0                0   \n",
       "\n",
       "       fabric_silk fabric_denim  fabric_linen fabric_spandex  fabric_rayon  \\\n",
       "43839            0            0             0              0             0   \n",
       "\n",
       "      fabric_nylon  fabric_leather fabric_suede  \n",
       "43839            0               0            0  \n",
       "\n",
       "[1 rows x 37 columns]"
      ]
     },
     "execution_count": 5,
     "metadata": {},
     "output_type": "execute_result"
    }
   ],
   "source": [
    "articles[articles.article_id == 678342001]"
   ]
  },
  {
   "cell_type": "code",
   "execution_count": 6,
   "id": "74cb832c",
   "metadata": {
    "execution": {
     "iopub.execute_input": "2023-11-08T00:46:32.924054Z",
     "iopub.status.busy": "2023-11-08T00:46:32.922915Z",
     "iopub.status.idle": "2023-11-08T00:46:33.078822Z",
     "shell.execute_reply": "2023-11-08T00:46:33.077565Z"
    },
    "papermill": {
     "duration": 0.167141,
     "end_time": "2023-11-08T00:46:33.081650",
     "exception": false,
     "start_time": "2023-11-08T00:46:32.914509",
     "status": "completed"
    },
    "tags": []
   },
   "outputs": [
    {
     "data": {
      "text/html": [
       "<div>\n",
       "<style scoped>\n",
       "    .dataframe tbody tr th:only-of-type {\n",
       "        vertical-align: middle;\n",
       "    }\n",
       "\n",
       "    .dataframe tbody tr th {\n",
       "        vertical-align: top;\n",
       "    }\n",
       "\n",
       "    .dataframe thead th {\n",
       "        text-align: right;\n",
       "    }\n",
       "</style>\n",
       "<table border=\"1\" class=\"dataframe\">\n",
       "  <thead>\n",
       "    <tr style=\"text-align: right;\">\n",
       "      <th></th>\n",
       "      <th>t_dat</th>\n",
       "      <th>customer_id</th>\n",
       "      <th>article_id</th>\n",
       "      <th>price</th>\n",
       "      <th>sales_channel_id</th>\n",
       "      <th>season</th>\n",
       "      <th>year</th>\n",
       "      <th>month</th>\n",
       "      <th>week</th>\n",
       "    </tr>\n",
       "  </thead>\n",
       "  <tbody>\n",
       "    <tr>\n",
       "      <th>1177871</th>\n",
       "      <td>2018-10-14</td>\n",
       "      <td>5743206735920807081</td>\n",
       "      <td>678342001</td>\n",
       "      <td>0.006763</td>\n",
       "      <td>1</td>\n",
       "      <td>3</td>\n",
       "      <td>-30</td>\n",
       "      <td>10</td>\n",
       "      <td>3</td>\n",
       "    </tr>\n",
       "    <tr>\n",
       "      <th>1177872</th>\n",
       "      <td>2018-10-14</td>\n",
       "      <td>5743206735920807081</td>\n",
       "      <td>678342001</td>\n",
       "      <td>0.006763</td>\n",
       "      <td>1</td>\n",
       "      <td>3</td>\n",
       "      <td>-30</td>\n",
       "      <td>10</td>\n",
       "      <td>3</td>\n",
       "    </tr>\n",
       "    <tr>\n",
       "      <th>1177873</th>\n",
       "      <td>2018-10-14</td>\n",
       "      <td>5743206735920807081</td>\n",
       "      <td>678342001</td>\n",
       "      <td>0.006763</td>\n",
       "      <td>1</td>\n",
       "      <td>3</td>\n",
       "      <td>-30</td>\n",
       "      <td>10</td>\n",
       "      <td>3</td>\n",
       "    </tr>\n",
       "    <tr>\n",
       "      <th>1177874</th>\n",
       "      <td>2018-10-14</td>\n",
       "      <td>5743206735920807081</td>\n",
       "      <td>678342001</td>\n",
       "      <td>0.006763</td>\n",
       "      <td>1</td>\n",
       "      <td>3</td>\n",
       "      <td>-30</td>\n",
       "      <td>10</td>\n",
       "      <td>3</td>\n",
       "    </tr>\n",
       "    <tr>\n",
       "      <th>1177875</th>\n",
       "      <td>2018-10-14</td>\n",
       "      <td>5743206735920807081</td>\n",
       "      <td>678342001</td>\n",
       "      <td>0.006763</td>\n",
       "      <td>1</td>\n",
       "      <td>3</td>\n",
       "      <td>-30</td>\n",
       "      <td>10</td>\n",
       "      <td>3</td>\n",
       "    </tr>\n",
       "    <tr>\n",
       "      <th>...</th>\n",
       "      <td>...</td>\n",
       "      <td>...</td>\n",
       "      <td>...</td>\n",
       "      <td>...</td>\n",
       "      <td>...</td>\n",
       "      <td>...</td>\n",
       "      <td>...</td>\n",
       "      <td>...</td>\n",
       "      <td>...</td>\n",
       "    </tr>\n",
       "    <tr>\n",
       "      <th>1178436</th>\n",
       "      <td>2018-10-14</td>\n",
       "      <td>5743206735920807081</td>\n",
       "      <td>678342001</td>\n",
       "      <td>0.006763</td>\n",
       "      <td>1</td>\n",
       "      <td>3</td>\n",
       "      <td>-30</td>\n",
       "      <td>10</td>\n",
       "      <td>3</td>\n",
       "    </tr>\n",
       "    <tr>\n",
       "      <th>1178437</th>\n",
       "      <td>2018-10-14</td>\n",
       "      <td>5743206735920807081</td>\n",
       "      <td>678342001</td>\n",
       "      <td>0.006763</td>\n",
       "      <td>1</td>\n",
       "      <td>3</td>\n",
       "      <td>-30</td>\n",
       "      <td>10</td>\n",
       "      <td>3</td>\n",
       "    </tr>\n",
       "    <tr>\n",
       "      <th>1178438</th>\n",
       "      <td>2018-10-14</td>\n",
       "      <td>5743206735920807081</td>\n",
       "      <td>678342001</td>\n",
       "      <td>0.006763</td>\n",
       "      <td>1</td>\n",
       "      <td>3</td>\n",
       "      <td>-30</td>\n",
       "      <td>10</td>\n",
       "      <td>3</td>\n",
       "    </tr>\n",
       "    <tr>\n",
       "      <th>1178439</th>\n",
       "      <td>2018-10-14</td>\n",
       "      <td>5743206735920807081</td>\n",
       "      <td>678342001</td>\n",
       "      <td>0.006763</td>\n",
       "      <td>1</td>\n",
       "      <td>3</td>\n",
       "      <td>-30</td>\n",
       "      <td>10</td>\n",
       "      <td>3</td>\n",
       "    </tr>\n",
       "    <tr>\n",
       "      <th>1178440</th>\n",
       "      <td>2018-10-14</td>\n",
       "      <td>5743206735920807081</td>\n",
       "      <td>678342001</td>\n",
       "      <td>0.006763</td>\n",
       "      <td>1</td>\n",
       "      <td>3</td>\n",
       "      <td>-30</td>\n",
       "      <td>10</td>\n",
       "      <td>3</td>\n",
       "    </tr>\n",
       "  </tbody>\n",
       "</table>\n",
       "<p>570 rows × 9 columns</p>\n",
       "</div>"
      ],
      "text/plain": [
       "             t_dat          customer_id  article_id     price  \\\n",
       "1177871 2018-10-14  5743206735920807081   678342001  0.006763   \n",
       "1177872 2018-10-14  5743206735920807081   678342001  0.006763   \n",
       "1177873 2018-10-14  5743206735920807081   678342001  0.006763   \n",
       "1177874 2018-10-14  5743206735920807081   678342001  0.006763   \n",
       "1177875 2018-10-14  5743206735920807081   678342001  0.006763   \n",
       "...            ...                  ...         ...       ...   \n",
       "1178436 2018-10-14  5743206735920807081   678342001  0.006763   \n",
       "1178437 2018-10-14  5743206735920807081   678342001  0.006763   \n",
       "1178438 2018-10-14  5743206735920807081   678342001  0.006763   \n",
       "1178439 2018-10-14  5743206735920807081   678342001  0.006763   \n",
       "1178440 2018-10-14  5743206735920807081   678342001  0.006763   \n",
       "\n",
       "         sales_channel_id  season  year  month  week  \n",
       "1177871                 1       3   -30     10     3  \n",
       "1177872                 1       3   -30     10     3  \n",
       "1177873                 1       3   -30     10     3  \n",
       "1177874                 1       3   -30     10     3  \n",
       "1177875                 1       3   -30     10     3  \n",
       "...                   ...     ...   ...    ...   ...  \n",
       "1178436                 1       3   -30     10     3  \n",
       "1178437                 1       3   -30     10     3  \n",
       "1178438                 1       3   -30     10     3  \n",
       "1178439                 1       3   -30     10     3  \n",
       "1178440                 1       3   -30     10     3  \n",
       "\n",
       "[570 rows x 9 columns]"
      ]
     },
     "execution_count": 6,
     "metadata": {},
     "output_type": "execute_result"
    }
   ],
   "source": [
    "transactions[(transactions.customer_id == 5743206735920807081) & (transactions.article_id == 678342001)]\n"
   ]
  },
  {
   "cell_type": "code",
   "execution_count": 7,
   "id": "ab69f27b",
   "metadata": {
    "execution": {
     "iopub.execute_input": "2023-11-08T00:46:33.098382Z",
     "iopub.status.busy": "2023-11-08T00:46:33.097861Z",
     "iopub.status.idle": "2023-11-08T00:47:18.865639Z",
     "shell.execute_reply": "2023-11-08T00:47:18.864174Z"
    },
    "papermill": {
     "duration": 45.786056,
     "end_time": "2023-11-08T00:47:18.874830",
     "exception": false,
     "start_time": "2023-11-08T00:46:33.088774",
     "status": "completed"
    },
    "tags": []
   },
   "outputs": [
    {
     "name": "stdout",
     "output_type": "stream",
     "text": [
      "5 days 09:23:10.299972753\n"
     ]
    }
   ],
   "source": [
    "# Calculate the average time between purchases of the same item\n",
    "transactions['t_dat'] = pd.to_datetime(transactions['t_dat'])\n",
    "transactions = transactions.sort_values(by=['customer_id', 'article_id', 't_dat'])\n",
    "\n",
    "# Calculate time difference between successive purchases of the same item\n",
    "transactions['time_diff'] = transactions.groupby(['customer_id', 'article_id'])['t_dat'].diff()\n",
    "\n",
    "# Calculate the average time difference for each article\n",
    "average_time_between_purchases = transactions.groupby('article_id')['time_diff'].mean()\n",
    "print(average_time_between_purchases.mean())\n"
   ]
  },
  {
   "cell_type": "code",
   "execution_count": 8,
   "id": "038700b0",
   "metadata": {
    "execution": {
     "iopub.execute_input": "2023-11-08T00:47:18.891933Z",
     "iopub.status.busy": "2023-11-08T00:47:18.891444Z",
     "iopub.status.idle": "2023-11-08T00:47:51.992354Z",
     "shell.execute_reply": "2023-11-08T00:47:51.986924Z"
    },
    "papermill": {
     "duration": 33.115782,
     "end_time": "2023-11-08T00:47:51.998275",
     "exception": false,
     "start_time": "2023-11-08T00:47:18.882493",
     "status": "completed"
    },
    "tags": []
   },
   "outputs": [
    {
     "name": "stdout",
     "output_type": "stream",
     "text": [
      "27306439\n",
      "31788324\n",
      "customer_id\n",
      "2729025827381139556     99.0\n",
      "11558794799858991958    93.0\n",
      "4485518665254175540     85.0\n",
      "17539785738842741120    80.0\n",
      "3601599666106972342     79.0\n",
      "                        ... \n",
      "8168426714032213336      0.0\n",
      "8168460412275439387      0.0\n",
      "8168483953316266352      0.0\n",
      "8168523330546161729      0.0\n",
      "9234284623732377441      0.0\n",
      "Length: 1362281, dtype: float64\n"
     ]
    }
   ],
   "source": [
    "# Calculate repurchase rate for each customer\n",
    "# Calculate the number of unique items purchased by each customer\n",
    "unique_items_per_customer = transactions.groupby('customer_id')['article_id'].nunique()\n",
    "\n",
    "# Calculate the number of repurchased items by each customer\n",
    "repurchased_items_per_customer = transactions.groupby(['customer_id', 'article_id']).size().groupby('customer_id').sum()\n",
    "\n",
    "# Calculate the customer-specific repurchase rate\n",
    "customer_repurchase_rate = (repurchased_items_per_customer / unique_items_per_customer)-1\n",
    "print(unique_items_per_customer.sum())\n",
    "print(repurchased_items_per_customer.sum())\n",
    "\n",
    "\n",
    "print(customer_repurchase_rate.sort_values(ascending=False))"
   ]
  },
  {
   "cell_type": "code",
   "execution_count": 9,
   "id": "0e9e013c",
   "metadata": {
    "execution": {
     "iopub.execute_input": "2023-11-08T00:47:52.015418Z",
     "iopub.status.busy": "2023-11-08T00:47:52.015019Z",
     "iopub.status.idle": "2023-11-08T00:48:26.231125Z",
     "shell.execute_reply": "2023-11-08T00:48:26.229681Z"
    },
    "papermill": {
     "duration": 34.236049,
     "end_time": "2023-11-08T00:48:26.241654",
     "exception": false,
     "start_time": "2023-11-08T00:47:52.005605",
     "status": "completed"
    },
    "tags": []
   },
   "outputs": [
    {
     "name": "stdout",
     "output_type": "stream",
     "text": [
      "article_id\n",
      "706016001    18036\n",
      "156231001    10761\n",
      "706016002     9558\n",
      "160442007     7993\n",
      "610776002     7628\n",
      "             ...  \n",
      "528746001        0\n",
      "423900049        0\n",
      "423900050        0\n",
      "556424001        0\n",
      "565200003        0\n",
      "Length: 104547, dtype: int64\n",
      "article_id\n",
      "740299001    15.000000\n",
      "704760004     8.000000\n",
      "331474016     8.000000\n",
      "877607001     6.333333\n",
      "701784017     5.750000\n",
      "               ...    \n",
      "868629001     1.003831\n",
      "624634005     1.003731\n",
      "860885002     1.003623\n",
      "805510032     1.003236\n",
      "838750001     1.003205\n",
      "Length: 81937, dtype: float64\n",
      "81937\n",
      "104547\n"
     ]
    }
   ],
   "source": [
    "# Calculate the number of unique customers who purchased each item\n",
    "unique_customers_per_item = transactions.groupby('article_id')['customer_id'].nunique()\n",
    "\n",
    "# Calculate the number of repurchases for each item\n",
    "repurchases_per_item = transactions.groupby(['article_id', 'customer_id']).size().groupby('article_id').sum()\n",
    "\n",
    "# Calculate the item-specific repurchase rate\n",
    "item_repurchase = repurchases_per_item - unique_customers_per_item\n",
    "item_repurchase_rate = repurchases_per_item / (unique_customers_per_item)\n",
    "filtered_item_repurchase_rate = item_repurchase_rate[item_repurchase_rate != 1]\n",
    "\n",
    "print(item_repurchase.sort_values(ascending=False))\n",
    "print(filtered_item_repurchase_rate.sort_values(ascending=False))\n",
    "print(len(filtered_item_repurchase_rate))\n",
    "print(len(item_repurchase_rate))"
   ]
  },
  {
   "cell_type": "code",
   "execution_count": 10,
   "id": "a7d2b403",
   "metadata": {
    "execution": {
     "iopub.execute_input": "2023-11-08T00:48:26.259278Z",
     "iopub.status.busy": "2023-11-08T00:48:26.258656Z",
     "iopub.status.idle": "2023-11-08T00:48:26.320934Z",
     "shell.execute_reply": "2023-11-08T00:48:26.319792Z"
    },
    "papermill": {
     "duration": 0.074484,
     "end_time": "2023-11-08T00:48:26.323909",
     "exception": false,
     "start_time": "2023-11-08T00:48:26.249425",
     "status": "completed"
    },
    "tags": []
   },
   "outputs": [
    {
     "name": "stdout",
     "output_type": "stream",
     "text": [
      "              t_dat          customer_id  article_id     price  \\\n",
      "28675451 2020-07-06  3601599666106972342   685813001  0.016932   \n",
      "28675452 2020-07-06  3601599666106972342   685813001  0.016932   \n",
      "28675453 2020-07-06  3601599666106972342   685813001  0.016932   \n",
      "28675454 2020-07-06  3601599666106972342   685813001  0.016932   \n",
      "28675455 2020-07-06  3601599666106972342   685813001  0.016932   \n",
      "...             ...                  ...         ...       ...   \n",
      "28675526 2020-07-06  3601599666106972342   685813001  0.016932   \n",
      "28675527 2020-07-06  3601599666106972342   685813001  0.016932   \n",
      "28675528 2020-07-06  3601599666106972342   685813001  0.016932   \n",
      "28675529 2020-07-06  3601599666106972342   685813001  0.016932   \n",
      "28675530 2020-07-06  3601599666106972342   685813001  0.016932   \n",
      "\n",
      "          sales_channel_id  season  year  month  week time_diff  \n",
      "28675451                 2       2   -28      7    93       NaT  \n",
      "28675452                 2       2   -28      7    93    0 days  \n",
      "28675453                 2       2   -28      7    93    0 days  \n",
      "28675454                 2       2   -28      7    93    0 days  \n",
      "28675455                 2       2   -28      7    93    0 days  \n",
      "...                    ...     ...   ...    ...   ...       ...  \n",
      "28675526                 2       2   -28      7    93    0 days  \n",
      "28675527                 2       2   -28      7    93    0 days  \n",
      "28675528                 2       2   -28      7    93    0 days  \n",
      "28675529                 2       2   -28      7    93    0 days  \n",
      "28675530                 2       2   -28      7    93    0 days  \n",
      "\n",
      "[80 rows x 10 columns]\n"
     ]
    }
   ],
   "source": [
    "test = transactions[transactions.customer_id ==3601599666106972342]\n",
    "print(test)"
   ]
  },
  {
   "cell_type": "code",
   "execution_count": 11,
   "id": "ae7534fb",
   "metadata": {
    "execution": {
     "iopub.execute_input": "2023-11-08T00:48:26.341694Z",
     "iopub.status.busy": "2023-11-08T00:48:26.341284Z",
     "iopub.status.idle": "2023-11-08T00:49:37.760414Z",
     "shell.execute_reply": "2023-11-08T00:49:37.758634Z"
    },
    "papermill": {
     "duration": 71.442358,
     "end_time": "2023-11-08T00:49:37.774007",
     "exception": false,
     "start_time": "2023-11-08T00:48:26.331649",
     "status": "completed"
    },
    "tags": []
   },
   "outputs": [
    {
     "name": "stdout",
     "output_type": "stream",
     "text": [
      "                   customer_id  article_id      t_dat\n",
      "6             8979857957419452   715624010 2019-09-05\n",
      "7             8979857957419452   715624010 2019-09-05\n",
      "15           32772099130663382   715624010 2020-01-19\n",
      "16           32772099130663382   715624010 2020-01-22\n",
      "19           39172497731037957   715624010 2019-08-13\n",
      "...                        ...         ...        ...\n",
      "31788203  17969406184413867807   487750043 2019-04-09\n",
      "31788231  18079877935957048209   553212001 2018-12-09\n",
      "31788232  18079877935957048209   553212001 2018-12-09\n",
      "31788292  18297284838138651866   790940001 2019-08-21\n",
      "31788293  18297284838138651866   790940001 2019-08-21\n",
      "\n",
      "[7997298 rows x 3 columns]\n"
     ]
    }
   ],
   "source": [
    "import pandas as pd\n",
    "\n",
    "# Merge transactions and customers dataframes on 'customer_id'\n",
    "merged_data = transactions.merge(customers, on='customer_id', how='inner')\n",
    "\n",
    "# Merge the merged_data with the articles dataframe on 'article_id'\n",
    "merged_data = merged_data.merge(articles, on='article_id', how='inner')\n",
    "\n",
    "# Now you have a dataframe that contains all the relevant information\n",
    "\n",
    "# Filter for rows where the same customer bought the same article\n",
    "duplicate_sales = merged_data[merged_data.duplicated(subset=['customer_id', 'article_id'], keep=False)]\n",
    "\n",
    "# You can now access the dates of these transactions\n",
    "duplicate_sales_dates = duplicate_sales[['customer_id', 'article_id', 't_dat']]\n",
    "\n",
    "print(duplicate_sales_dates)"
   ]
  },
  {
   "cell_type": "code",
   "execution_count": 12,
   "id": "d0e5569d",
   "metadata": {
    "execution": {
     "iopub.execute_input": "2023-11-08T00:49:37.791670Z",
     "iopub.status.busy": "2023-11-08T00:49:37.791287Z",
     "iopub.status.idle": "2023-11-08T00:51:15.646585Z",
     "shell.execute_reply": "2023-11-08T00:51:15.645188Z"
    },
    "papermill": {
     "duration": 97.876001,
     "end_time": "2023-11-08T00:51:15.657615",
     "exception": false,
     "start_time": "2023-11-08T00:49:37.781614",
     "status": "completed"
    },
    "tags": []
   },
   "outputs": [
    {
     "name": "stdout",
     "output_type": "stream",
     "text": [
      "                   customer_id  article_id  t_dat\n",
      "11              23962613628581   732842001      2\n",
      "40              28847241659200   672598002      2\n",
      "64              28847241659200   762846001      2\n",
      "87              28847241659200   859076001      2\n",
      "164             77117344919861   539723003      2\n",
      "...                        ...         ...    ...\n",
      "27306369  18446723086055369602   559139004      2\n",
      "27306386  18446737527580148316   596400007      2\n",
      "27306387  18446737527580148316   608776003      2\n",
      "27306399  18446737527580148316   678942039      2\n",
      "27306431  18446737527580148316   827968002      2\n",
      "\n",
      "[1141216 rows x 3 columns]\n"
     ]
    }
   ],
   "source": [
    "import pandas as pd\n",
    "\n",
    "# Merge transactions and customers dataframes on 'customer_id'\n",
    "merged_data = transactions.merge(customers, on='customer_id', how='inner')\n",
    "\n",
    "# Merge the merged_data with the articles dataframe on 'article_id'\n",
    "merged_data = merged_data.merge(articles, on='article_id', how='inner')\n",
    "\n",
    "# Now you have a dataframe that contains all the relevant information\n",
    "\n",
    "# Group by customer_id and article_id and filter for items that are repurchased on different dates\n",
    "duplicate_sales = merged_data.groupby(['customer_id', 'article_id'])['t_dat'].nunique().reset_index()\n",
    "duplicate_sales = duplicate_sales[duplicate_sales['t_dat'] > 1]\n",
    "\n",
    "print(duplicate_sales)\n"
   ]
  },
  {
   "cell_type": "code",
   "execution_count": 13,
   "id": "294955ff",
   "metadata": {
    "execution": {
     "iopub.execute_input": "2023-11-08T00:51:15.676884Z",
     "iopub.status.busy": "2023-11-08T00:51:15.675674Z",
     "iopub.status.idle": "2023-11-08T00:51:15.728429Z",
     "shell.execute_reply": "2023-11-08T00:51:15.726931Z"
    },
    "papermill": {
     "duration": 0.065639,
     "end_time": "2023-11-08T00:51:15.731337",
     "exception": false,
     "start_time": "2023-11-08T00:51:15.665698",
     "status": "completed"
    },
    "tags": []
   },
   "outputs": [
    {
     "name": "stdout",
     "output_type": "stream",
     "text": [
      "Number of unique articles in duplicate_sales: 63079\n",
      "Number of unique customers in duplicate_sales: 377478\n"
     ]
    }
   ],
   "source": [
    "# Calculate the number of unique articles and customers in duplicate_sales\n",
    "unique_articles = duplicate_sales['article_id'].nunique()\n",
    "unique_customers = duplicate_sales['customer_id'].nunique()\n",
    "\n",
    "print(f\"Number of unique articles in duplicate_sales: {unique_articles}\")\n",
    "print(f\"Number of unique customers in duplicate_sales: {unique_customers}\")"
   ]
  }
 ],
 "metadata": {
  "kernelspec": {
   "display_name": "Python 3",
   "language": "python",
   "name": "python3"
  },
  "language_info": {
   "codemirror_mode": {
    "name": "ipython",
    "version": 3
   },
   "file_extension": ".py",
   "mimetype": "text/x-python",
   "name": "python",
   "nbconvert_exporter": "python",
   "pygments_lexer": "ipython3",
   "version": "3.10.12"
  },
  "papermill": {
   "default_parameters": {},
   "duration": 318.678417,
   "end_time": "2023-11-08T00:51:18.075265",
   "environment_variables": {},
   "exception": null,
   "input_path": "__notebook__.ipynb",
   "output_path": "__notebook__.ipynb",
   "parameters": {},
   "start_time": "2023-11-08T00:45:59.396848",
   "version": "2.4.0"
  }
 },
 "nbformat": 4,
 "nbformat_minor": 5
}
