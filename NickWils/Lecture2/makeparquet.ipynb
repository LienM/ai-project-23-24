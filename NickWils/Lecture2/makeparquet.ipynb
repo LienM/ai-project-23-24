{
 "cells": [
  {
   "cell_type": "markdown",
   "id": "cec930fa",
   "metadata": {
    "id": "247666fb",
    "papermill": {
     "duration": 0.007548,
     "end_time": "2023-11-06T15:42:11.082532",
     "exception": false,
     "start_time": "2023-11-06T15:42:11.074984",
     "status": "completed"
    },
    "tags": []
   },
   "source": [
    "Based on the baseline \"Radek's LGBMRanker starter pack warmup”: https://www.kaggle.com/code/marcogorelli/radek-s-lgbmranker-starter-pack-warmup\n"
   ]
  },
  {
   "cell_type": "markdown",
   "id": "9bc27d6b",
   "metadata": {
    "papermill": {
     "duration": 0.006444,
     "end_time": "2023-11-06T15:42:11.096585",
     "exception": false,
     "start_time": "2023-11-06T15:42:11.090141",
     "status": "completed"
    },
    "tags": []
   },
   "source": [
    "# Helper functions"
   ]
  },
  {
   "cell_type": "code",
   "execution_count": 1,
   "id": "68e8b6ed",
   "metadata": {
    "execution": {
     "iopub.execute_input": "2023-11-06T15:42:11.112223Z",
     "iopub.status.busy": "2023-11-06T15:42:11.111922Z",
     "iopub.status.idle": "2023-11-06T15:42:11.714046Z",
     "shell.execute_reply": "2023-11-06T15:42:11.713196Z"
    },
    "executionInfo": {
     "elapsed": 621,
     "status": "ok",
     "timestamp": 1699019776747,
     "user": {
      "displayName": "nick wils",
      "userId": "09906672494021070283"
     },
     "user_tz": -60
    },
    "id": "2cd6646a",
    "outputId": "035c3658-6b27-4488-8d61-1a2d075a1269",
    "papermill": {
     "duration": 0.612916,
     "end_time": "2023-11-06T15:42:11.716440",
     "exception": false,
     "start_time": "2023-11-06T15:42:11.103524",
     "status": "completed"
    },
    "tags": []
   },
   "outputs": [
    {
     "name": "stdout",
     "output_type": "stream",
     "text": [
      "--2023-11-06 15:42:11--  https://raw.githubusercontent.com/benhamner/Metrics/master/Python/ml_metrics/average_precision.py\r\n",
      "Resolving raw.githubusercontent.com (raw.githubusercontent.com)... 185.199.108.133, 185.199.109.133, 185.199.110.133, ...\r\n",
      "Connecting to raw.githubusercontent.com (raw.githubusercontent.com)|185.199.108.133|:443... connected.\r\n",
      "HTTP request sent, awaiting response... 200 OK\r\n",
      "Length: 1654 (1.6K) [text/plain]\r\n",
      "Saving to: ‘average_precision.py’\r\n",
      "\r\n",
      "average_precision.p 100%[===================>]   1.62K  --.-KB/s    in 0s      \r\n",
      "\r\n",
      "2023-11-06 15:42:11 (23.2 MB/s) - ‘average_precision.py’ saved [1654/1654]\r\n",
      "\r\n"
     ]
    }
   ],
   "source": [
    "!wget https://raw.githubusercontent.com/benhamner/Metrics/master/Python/ml_metrics/average_precision.py"
   ]
  },
  {
   "cell_type": "code",
   "execution_count": 2,
   "id": "04722155",
   "metadata": {
    "execution": {
     "iopub.execute_input": "2023-11-06T15:42:11.734082Z",
     "iopub.status.busy": "2023-11-06T15:42:11.732625Z",
     "iopub.status.idle": "2023-11-06T15:42:13.053411Z",
     "shell.execute_reply": "2023-11-06T15:42:13.052389Z"
    },
    "executionInfo": {
     "elapsed": 263,
     "status": "ok",
     "timestamp": 1699019781962,
     "user": {
      "displayName": "nick wils",
      "userId": "09906672494021070283"
     },
     "user_tz": -60
    },
    "id": "5d3ac989",
    "papermill": {
     "duration": 1.331785,
     "end_time": "2023-11-06T15:42:13.055792",
     "exception": false,
     "start_time": "2023-11-06T15:42:11.724007",
     "status": "completed"
    },
    "tags": []
   },
   "outputs": [],
   "source": [
    "# helper functions\n",
    "from sklearn.base import BaseEstimator, TransformerMixin\n",
    "import numpy as np\n",
    "from average_precision import apk\n",
    "\n",
    "# https://www.kaggle.com/c/h-and-m-personalized-fashion-recommendations/discussion/308635\n",
    "def customer_hex_id_to_int(series):\n",
    "    return series.str[-16:].apply(hex_id_to_int)\n",
    "\n",
    "def hex_id_to_int(str):\n",
    "    return int(str[-16:], 16)\n",
    "\n",
    "def article_id_str_to_int(series):\n",
    "    return series.astype('int32')\n",
    "\n",
    "def article_id_int_to_str(series):\n",
    "    return '0' + series.astype('str')\n",
    "\n",
    "class Categorize(BaseEstimator, TransformerMixin):\n",
    "    def __init__(self, min_examples=0):\n",
    "        self.min_examples = min_examples\n",
    "        self.categories = []\n",
    "\n",
    "    def fit(self, X):\n",
    "        for i in range(X.shape[1]):\n",
    "            vc = X.iloc[:, i].value_counts()\n",
    "            self.categories.append(vc[vc > self.min_examples].index.tolist())\n",
    "        return self\n",
    "\n",
    "    def transform(self, X):\n",
    "        data = {X.columns[i]: pd.Categorical(X.iloc[:, i], categories=self.categories[i]).codes for i in range(X.shape[1])}\n",
    "        return pd.DataFrame(data=data)"
   ]
  },
  {
   "cell_type": "markdown",
   "id": "990e2a36",
   "metadata": {
    "papermill": {
     "duration": 0.007017,
     "end_time": "2023-11-06T15:42:13.070332",
     "exception": false,
     "start_time": "2023-11-06T15:42:13.063315",
     "status": "completed"
    },
    "tags": []
   },
   "source": [
    "# Read input files"
   ]
  },
  {
   "cell_type": "code",
   "execution_count": 3,
   "id": "6034a6ea",
   "metadata": {
    "execution": {
     "iopub.execute_input": "2023-11-06T15:42:13.087657Z",
     "iopub.status.busy": "2023-11-06T15:42:13.086473Z",
     "iopub.status.idle": "2023-11-06T15:43:24.061200Z",
     "shell.execute_reply": "2023-11-06T15:43:24.059775Z"
    },
    "executionInfo": {
     "elapsed": 57782,
     "status": "ok",
     "timestamp": 1699020115485,
     "user": {
      "displayName": "nick wils",
      "userId": "09906672494021070283"
     },
     "user_tz": -60
    },
    "id": "94cd3410",
    "outputId": "434a2a68-1309-4995-d9dd-37f6b68693aa",
    "papermill": {
     "duration": 70.992705,
     "end_time": "2023-11-06T15:43:24.070381",
     "exception": false,
     "start_time": "2023-11-06T15:42:13.077676",
     "status": "completed"
    },
    "tags": []
   },
   "outputs": [
    {
     "name": "stdout",
     "output_type": "stream",
     "text": [
      "CPU times: user 35.8 s, sys: 4.63 s, total: 40.5 s\n",
      "Wall time: 1min 10s\n"
     ]
    }
   ],
   "source": [
    "%%time\n",
    "import pandas as pd\n",
    "\n",
    "transactions = pd.read_csv('/kaggle/input/h-and-m-personalized-fashion-recommendations/transactions_train.csv', dtype={\"article_id\": \"str\"})\n",
    "customers = pd.read_csv('/kaggle/input/h-and-m-personalized-fashion-recommendations/customers.csv')\n",
    "articles = pd.read_csv('/kaggle/input/h-and-m-personalized-fashion-recommendations/articles.csv', dtype={\"article_id\": \"str\"})"
   ]
  },
  {
   "cell_type": "code",
   "execution_count": 4,
   "id": "9ded5c26",
   "metadata": {
    "execution": {
     "iopub.execute_input": "2023-11-06T15:43:24.086620Z",
     "iopub.status.busy": "2023-11-06T15:43:24.086221Z",
     "iopub.status.idle": "2023-11-06T15:43:49.659140Z",
     "shell.execute_reply": "2023-11-06T15:43:49.657569Z"
    },
    "executionInfo": {
     "elapsed": 34115,
     "status": "ok",
     "timestamp": 1699020182125,
     "user": {
      "displayName": "nick wils",
      "userId": "09906672494021070283"
     },
     "user_tz": -60
    },
    "id": "b0ef4c75",
    "outputId": "5fa6e683-c063-4585-989e-e73a394efded",
    "papermill": {
     "duration": 25.583406,
     "end_time": "2023-11-06T15:43:49.661261",
     "exception": false,
     "start_time": "2023-11-06T15:43:24.077855",
     "status": "completed"
    },
    "tags": []
   },
   "outputs": [
    {
     "name": "stdout",
     "output_type": "stream",
     "text": [
      "CPU times: user 23.7 s, sys: 1.92 s, total: 25.6 s\n",
      "Wall time: 25.6 s\n"
     ]
    },
    {
     "data": {
      "text/plain": [
       "1362281"
      ]
     },
     "execution_count": 4,
     "metadata": {},
     "output_type": "execute_result"
    }
   ],
   "source": [
    "%%time\n",
    "transactions['customer_id'] = customer_hex_id_to_int(transactions['customer_id'])\n",
    "transactions['customer_id'].nunique()"
   ]
  },
  {
   "cell_type": "code",
   "execution_count": 5,
   "id": "319cf82e",
   "metadata": {
    "execution": {
     "iopub.execute_input": "2023-11-06T15:43:49.677607Z",
     "iopub.status.busy": "2023-11-06T15:43:49.677254Z",
     "iopub.status.idle": "2023-11-06T15:43:52.812564Z",
     "shell.execute_reply": "2023-11-06T15:43:52.810961Z"
    },
    "executionInfo": {
     "elapsed": 3773,
     "status": "ok",
     "timestamp": 1699020202642,
     "user": {
      "displayName": "nick wils",
      "userId": "09906672494021070283"
     },
     "user_tz": -60
    },
    "id": "0d9a0cca",
    "outputId": "880b6c16-f599-4ef8-b631-1edfe847d591",
    "papermill": {
     "duration": 3.146521,
     "end_time": "2023-11-06T15:43:52.815199",
     "exception": false,
     "start_time": "2023-11-06T15:43:49.668678",
     "status": "completed"
    },
    "tags": []
   },
   "outputs": [
    {
     "name": "stdout",
     "output_type": "stream",
     "text": [
      "CPU times: user 2.99 s, sys: 139 ms, total: 3.13 s\n",
      "Wall time: 3.13 s\n"
     ]
    }
   ],
   "source": [
    "%%time\n",
    "\n",
    "transactions.t_dat = pd.to_datetime(transactions.t_dat, format='%Y-%m-%d')"
   ]
  },
  {
   "cell_type": "markdown",
   "id": "f63e5f43",
   "metadata": {
    "papermill": {
     "duration": 0.00733,
     "end_time": "2023-11-06T15:43:52.830389",
     "exception": false,
     "start_time": "2023-11-06T15:43:52.823059",
     "status": "completed"
    },
    "tags": []
   },
   "source": [
    "# Add the season as feature"
   ]
  },
  {
   "cell_type": "code",
   "execution_count": 6,
   "id": "e76da31d",
   "metadata": {
    "execution": {
     "iopub.execute_input": "2023-11-06T15:43:52.847967Z",
     "iopub.status.busy": "2023-11-06T15:43:52.846860Z",
     "iopub.status.idle": "2023-11-06T15:44:45.653510Z",
     "shell.execute_reply": "2023-11-06T15:44:45.651894Z"
    },
    "papermill": {
     "duration": 52.818976,
     "end_time": "2023-11-06T15:44:45.657034",
     "exception": false,
     "start_time": "2023-11-06T15:43:52.838058",
     "status": "completed"
    },
    "tags": []
   },
   "outputs": [],
   "source": [
    "def get_season(date):\n",
    "    month = date.month\n",
    "    if 3 <= month <= 5:\n",
    "        return 1  # Spring\n",
    "    elif 6 <= month <= 8:\n",
    "        return 2  # Summer\n",
    "    elif 9 <= month <= 11:\n",
    "        return 3  # Autumn\n",
    "    else:\n",
    "        return 4  # Winter\n",
    "transactions['season'] = transactions['t_dat'].apply(get_season)\n",
    "transactions['season'] = transactions['season'].astype('int8')\n"
   ]
  },
  {
   "cell_type": "markdown",
   "id": "ffe1801b",
   "metadata": {
    "papermill": {
     "duration": 0.007711,
     "end_time": "2023-11-06T15:44:45.673324",
     "exception": false,
     "start_time": "2023-11-06T15:44:45.665613",
     "status": "completed"
    },
    "tags": []
   },
   "source": [
    "# Add month and year as features"
   ]
  },
  {
   "cell_type": "code",
   "execution_count": 7,
   "id": "6e3f1272",
   "metadata": {
    "execution": {
     "iopub.execute_input": "2023-11-06T15:44:45.690407Z",
     "iopub.status.busy": "2023-11-06T15:44:45.689986Z",
     "iopub.status.idle": "2023-11-06T15:44:47.287760Z",
     "shell.execute_reply": "2023-11-06T15:44:47.286184Z"
    },
    "papermill": {
     "duration": 1.609978,
     "end_time": "2023-11-06T15:44:47.290807",
     "exception": false,
     "start_time": "2023-11-06T15:44:45.680829",
     "status": "completed"
    },
    "tags": []
   },
   "outputs": [],
   "source": [
    "transactions['year'] = transactions['t_dat'].dt.year\n",
    "transactions['month'] = transactions['t_dat'].dt.month\n",
    "\n",
    "transactions['year'] = transactions['year'].astype('int8')\n",
    "transactions['month'] = transactions['month'].astype('int8')\n"
   ]
  },
  {
   "cell_type": "markdown",
   "id": "bc5faf6e",
   "metadata": {
    "papermill": {
     "duration": 0.007531,
     "end_time": "2023-11-06T15:44:47.306302",
     "exception": false,
     "start_time": "2023-11-06T15:44:47.298771",
     "status": "completed"
    },
    "tags": []
   },
   "source": [
    "Add week"
   ]
  },
  {
   "cell_type": "code",
   "execution_count": 8,
   "id": "9cc9f180",
   "metadata": {
    "execution": {
     "iopub.execute_input": "2023-11-06T15:44:47.323298Z",
     "iopub.status.busy": "2023-11-06T15:44:47.322860Z",
     "iopub.status.idle": "2023-11-06T15:44:48.053182Z",
     "shell.execute_reply": "2023-11-06T15:44:48.051100Z"
    },
    "executionInfo": {
     "elapsed": 1450,
     "status": "ok",
     "timestamp": 1699020204050,
     "user": {
      "displayName": "nick wils",
      "userId": "09906672494021070283"
     },
     "user_tz": -60
    },
    "id": "2bfae010",
    "papermill": {
     "duration": 0.741824,
     "end_time": "2023-11-06T15:44:48.055734",
     "exception": false,
     "start_time": "2023-11-06T15:44:47.313910",
     "status": "completed"
    },
    "tags": []
   },
   "outputs": [],
   "source": [
    "transactions['week'] = 104 - (transactions.t_dat.max() - transactions.t_dat).dt.days // 7"
   ]
  },
  {
   "cell_type": "markdown",
   "id": "fd4ca36f",
   "metadata": {
    "id": "b094879d",
    "papermill": {
     "duration": 0.007499,
     "end_time": "2023-11-06T15:44:48.071816",
     "exception": false,
     "start_time": "2023-11-06T15:44:48.064317",
     "status": "completed"
    },
    "tags": []
   },
   "source": [
    "Let's do something about the `article_id` (both here and on `articles`) and let's take a closer look at `price`, `sales_channel_id` and `week`."
   ]
  },
  {
   "cell_type": "code",
   "execution_count": 9,
   "id": "d1ad62a8",
   "metadata": {
    "execution": {
     "iopub.execute_input": "2023-11-06T15:44:48.089885Z",
     "iopub.status.busy": "2023-11-06T15:44:48.089496Z",
     "iopub.status.idle": "2023-11-06T15:44:51.241076Z",
     "shell.execute_reply": "2023-11-06T15:44:51.239612Z"
    },
    "executionInfo": {
     "elapsed": 6050,
     "status": "ok",
     "timestamp": 1699020213619,
     "user": {
      "displayName": "nick wils",
      "userId": "09906672494021070283"
     },
     "user_tz": -60
    },
    "id": "7390ff52",
    "papermill": {
     "duration": 3.164561,
     "end_time": "2023-11-06T15:44:51.244397",
     "exception": false,
     "start_time": "2023-11-06T15:44:48.079836",
     "status": "completed"
    },
    "tags": []
   },
   "outputs": [],
   "source": [
    "transactions.article_id = article_id_str_to_int(transactions.article_id)\n",
    "articles.article_id = article_id_str_to_int(articles.article_id)\n",
    "\n",
    "transactions.week = transactions.week.astype('int8')\n",
    "transactions.sales_channel_id = transactions.sales_channel_id.astype('int8')\n",
    "transactions.price = transactions.price.astype('float32')"
   ]
  },
  {
   "cell_type": "code",
   "execution_count": 10,
   "id": "7f0539da",
   "metadata": {
    "execution": {
     "iopub.execute_input": "2023-11-06T15:44:51.261694Z",
     "iopub.status.busy": "2023-11-06T15:44:51.261340Z",
     "iopub.status.idle": "2023-11-06T15:44:52.313133Z",
     "shell.execute_reply": "2023-11-06T15:44:52.311759Z"
    },
    "executionInfo": {
     "elapsed": 962,
     "status": "ok",
     "timestamp": 1699020214546,
     "user": {
      "displayName": "nick wils",
      "userId": "09906672494021070283"
     },
     "user_tz": -60
    },
    "id": "10623914",
    "outputId": "ca9662f6-53d3-4715-82d8-f29ccf14d27e",
    "papermill": {
     "duration": 1.06323,
     "end_time": "2023-11-06T15:44:52.315702",
     "exception": false,
     "start_time": "2023-11-06T15:44:51.252472",
     "status": "completed"
    },
    "tags": []
   },
   "outputs": [
    {
     "name": "stdout",
     "output_type": "stream",
     "text": [
      "<class 'pandas.core.frame.DataFrame'>\n",
      "RangeIndex: 31788324 entries, 0 to 31788323\n",
      "Data columns (total 8 columns):\n",
      " #   Column            Dtype  \n",
      "---  ------            -----  \n",
      " 0   customer_id       uint64 \n",
      " 1   article_id        int32  \n",
      " 2   price             float32\n",
      " 3   sales_channel_id  int8   \n",
      " 4   season            int8   \n",
      " 5   year              int8   \n",
      " 6   month             int8   \n",
      " 7   week              int8   \n",
      "dtypes: float32(1), int32(1), int8(5), uint64(1)\n",
      "memory usage: 636.6 MB\n"
     ]
    }
   ],
   "source": [
    "transactions.drop(columns='t_dat').info(memory_usage='deep')"
   ]
  },
  {
   "cell_type": "markdown",
   "id": "40c65957",
   "metadata": {
    "papermill": {
     "duration": 0.00756,
     "end_time": "2023-11-06T15:44:52.331149",
     "exception": false,
     "start_time": "2023-11-06T15:44:52.323589",
     "status": "completed"
    },
    "tags": []
   },
   "source": [
    "# Use median for empty age"
   ]
  },
  {
   "cell_type": "code",
   "execution_count": 11,
   "id": "85be5771",
   "metadata": {
    "execution": {
     "iopub.execute_input": "2023-11-06T15:44:52.348361Z",
     "iopub.status.busy": "2023-11-06T15:44:52.348000Z",
     "iopub.status.idle": "2023-11-06T15:44:53.391311Z",
     "shell.execute_reply": "2023-11-06T15:44:53.389830Z"
    },
    "executionInfo": {
     "elapsed": 2006,
     "status": "ok",
     "timestamp": 1699020218191,
     "user": {
      "displayName": "nick wils",
      "userId": "09906672494021070283"
     },
     "user_tz": -60
    },
    "id": "61bf9df5",
    "papermill": {
     "duration": 1.055957,
     "end_time": "2023-11-06T15:44:53.394869",
     "exception": false,
     "start_time": "2023-11-06T15:44:52.338912",
     "status": "completed"
    },
    "tags": []
   },
   "outputs": [],
   "source": [
    "customers.customer_id = customer_hex_id_to_int(customers.customer_id)\n",
    "median_age = customers['age'].median()\n",
    "customers['age'].fillna(median_age, inplace=True)\n",
    "customers['age'] = customers['age'].astype('int8')"
   ]
  },
  {
   "cell_type": "markdown",
   "id": "e6205dc4",
   "metadata": {
    "papermill": {
     "duration": 0.007343,
     "end_time": "2023-11-06T15:44:53.409859",
     "exception": false,
     "start_time": "2023-11-06T15:44:53.402516",
     "status": "completed"
    },
    "tags": []
   },
   "source": [
    "Let's take a brief look at the `customers` and `articles` dfs."
   ]
  },
  {
   "cell_type": "code",
   "execution_count": 12,
   "id": "d804004b",
   "metadata": {
    "execution": {
     "iopub.execute_input": "2023-11-06T15:44:53.427386Z",
     "iopub.status.busy": "2023-11-06T15:44:53.427057Z",
     "iopub.status.idle": "2023-11-06T15:44:53.452474Z",
     "shell.execute_reply": "2023-11-06T15:44:53.450433Z"
    },
    "papermill": {
     "duration": 0.03756,
     "end_time": "2023-11-06T15:44:53.455294",
     "exception": false,
     "start_time": "2023-11-06T15:44:53.417734",
     "status": "completed"
    },
    "tags": []
   },
   "outputs": [],
   "source": [
    "for col in ['FN', 'Active']:\n",
    "    customers[col].fillna(0, inplace=True)\n",
    "    customers[col] = customers[col].astype('int8')"
   ]
  },
  {
   "cell_type": "code",
   "execution_count": 13,
   "id": "294eef5b",
   "metadata": {
    "execution": {
     "iopub.execute_input": "2023-11-06T15:44:53.475303Z",
     "iopub.status.busy": "2023-11-06T15:44:53.474894Z",
     "iopub.status.idle": "2023-11-06T15:44:55.581447Z",
     "shell.execute_reply": "2023-11-06T15:44:55.580347Z"
    },
    "executionInfo": {
     "elapsed": 1587,
     "status": "ok",
     "timestamp": 1699020219776,
     "user": {
      "displayName": "nick wils",
      "userId": "09906672494021070283"
     },
     "user_tz": -60
    },
    "id": "758411dd",
    "papermill": {
     "duration": 2.119028,
     "end_time": "2023-11-06T15:44:55.584047",
     "exception": false,
     "start_time": "2023-11-06T15:44:53.465019",
     "status": "completed"
    },
    "tags": []
   },
   "outputs": [],
   "source": [
    "customers.club_member_status = Categorize().fit_transform(customers[['club_member_status']]).club_member_status\n",
    "customers.postal_code = Categorize().fit_transform(customers[['postal_code']]).postal_code\n",
    "customers.fashion_news_frequency = Categorize().fit_transform(customers[['fashion_news_frequency']]).fashion_news_frequency"
   ]
  },
  {
   "cell_type": "markdown",
   "id": "98283e61",
   "metadata": {
    "papermill": {
     "duration": 0.007316,
     "end_time": "2023-11-06T15:44:55.599270",
     "exception": false,
     "start_time": "2023-11-06T15:44:55.591954",
     "status": "completed"
    },
    "tags": []
   },
   "source": [
    "# Add fabrics as a feature"
   ]
  },
  {
   "cell_type": "code",
   "execution_count": 14,
   "id": "eb4a6099",
   "metadata": {
    "execution": {
     "iopub.execute_input": "2023-11-06T15:44:55.615796Z",
     "iopub.status.busy": "2023-11-06T15:44:55.615419Z",
     "iopub.status.idle": "2023-11-06T15:44:58.200702Z",
     "shell.execute_reply": "2023-11-06T15:44:58.198664Z"
    },
    "papermill": {
     "duration": 2.596788,
     "end_time": "2023-11-06T15:44:58.203516",
     "exception": false,
     "start_time": "2023-11-06T15:44:55.606728",
     "status": "completed"
    },
    "tags": []
   },
   "outputs": [],
   "source": [
    "articles['detail_desc'] = articles['detail_desc'].fillna('')\n",
    "\n",
    "# Extract fabric names from descriptions\n",
    "fabric_names = ['jeans','cotton', 'wool', 'polyester', 'silk', 'denim', 'linen', 'spandex', 'rayon', 'nylon', 'leather', 'suede']\n",
    "\n",
    "# Create fabric features\n",
    "for fabric in fabric_names:\n",
    "    articles[f'fabric_{fabric}'] = articles['detail_desc'].str.contains(fabric, case=False, regex=True).astype(int)"
   ]
  },
  {
   "cell_type": "code",
   "execution_count": 15,
   "id": "9ade9337",
   "metadata": {
    "execution": {
     "iopub.execute_input": "2023-11-06T15:44:58.222116Z",
     "iopub.status.busy": "2023-11-06T15:44:58.221682Z",
     "iopub.status.idle": "2023-11-06T15:44:58.236956Z",
     "shell.execute_reply": "2023-11-06T15:44:58.235481Z"
    },
    "papermill": {
     "duration": 0.028107,
     "end_time": "2023-11-06T15:44:58.239460",
     "exception": false,
     "start_time": "2023-11-06T15:44:58.211353",
     "status": "completed"
    },
    "tags": []
   },
   "outputs": [
    {
     "data": {
      "text/plain": [
       "array(['Womens Everyday Basics', 'Womens Lingerie',\n",
       "       'Womens Nightwear, Socks & Tigh', 'Baby Essentials & Complements',\n",
       "       'Men Underwear', 'Mama', 'Womens Small accessories',\n",
       "       'Men H&M Sport', 'Kids Boy', 'Divided Basics',\n",
       "       'Girls Underwear & Basics', 'Mens Outerwear',\n",
       "       'Womens Big accessories', 'Divided Accessories',\n",
       "       'Womens Swimwear, beachwear', 'Divided Selected',\n",
       "       'Boys Underwear & Basics', 'Contemporary Street',\n",
       "       'Contemporary Casual', 'Men Accessories', 'Men Suits & Tailoring',\n",
       "       'Womens Everyday Collection', 'Men Shoes', 'Young Boy', 'H&M+',\n",
       "       'Divided Collection', 'Ladies Denim', 'Contemporary Smart',\n",
       "       'Womens Trend', 'Kids Outerwear', 'Young Girl', 'Womens Shoes',\n",
       "       'Womens Tailoring', 'Divided Projects', 'Denim Men', 'Men Other',\n",
       "       'Womens Jackets', 'Men Other 2', 'Baby Boy', 'Womens Casual',\n",
       "       'Kids Accessories, Swimwear & D', 'Ladies H&M Sport',\n",
       "       'Kids & Baby Shoes', 'Baby Girl', 'Kids Girl',\n",
       "       'Divided Complements Other', 'Womens Premium',\n",
       "       'Special Collections', 'Kids Sports', 'Men Project', 'Men Edition',\n",
       "       'Collaborations', 'Divided Asia keys', 'EQ Divided',\n",
       "       'Kids Local Relevance', 'Ladies Other'], dtype=object)"
      ]
     },
     "execution_count": 15,
     "metadata": {},
     "output_type": "execute_result"
    }
   ],
   "source": [
    "articles['section_name'].unique()"
   ]
  },
  {
   "cell_type": "markdown",
   "id": "62370b19",
   "metadata": {
    "papermill": {
     "duration": 0.008113,
     "end_time": "2023-11-06T15:44:58.256304",
     "exception": false,
     "start_time": "2023-11-06T15:44:58.248191",
     "status": "completed"
    },
    "tags": []
   },
   "source": [
    "# Add feature if the customer buys kids, womans and/or mens clothing"
   ]
  },
  {
   "cell_type": "code",
   "execution_count": 16,
   "id": "5d5035b9",
   "metadata": {
    "execution": {
     "iopub.execute_input": "2023-11-06T15:44:58.274073Z",
     "iopub.status.busy": "2023-11-06T15:44:58.273679Z",
     "iopub.status.idle": "2023-11-06T15:46:44.016839Z",
     "shell.execute_reply": "2023-11-06T15:46:44.015040Z"
    },
    "papermill": {
     "duration": 105.755222,
     "end_time": "2023-11-06T15:46:44.019450",
     "exception": false,
     "start_time": "2023-11-06T15:44:58.264228",
     "status": "completed"
    },
    "tags": []
   },
   "outputs": [],
   "source": [
    "# Step 1: Define keywords for kid and baby clothing sections\n",
    "kid_baby_keywords = ['Kids', 'Baby', 'Girls', 'Girl', 'Boy', 'Boys']\n",
    "mens_keywords = ['Men', 'Mens']\n",
    "women_keywords = ['Womens', 'Women', 'Woman', 'Ladies', 'Mama']\n",
    "\n",
    "# Step 2: Merge the transaction_train DataFrame with the articles DataFrame\n",
    "merged_df = transactions.merge(articles[['article_id', 'section_name']], on='article_id', how='left')\n",
    "\n",
    "# Step 3: Check if the section name contains kid or baby keywords\n",
    "merged_df['buys_kid_baby_clothes'] = merged_df['section_name'].str.contains('|'.join(kid_baby_keywords), case=False)\n",
    "merged_df['buys_mens_clothes'] = merged_df['section_name'].str.contains('|'.join(mens_keywords), case=False)\n",
    "merged_df['buys_womens_clothing'] = merged_df['section_name'].str.contains('|'.join(women_keywords), case=False)\n",
    "\n",
    "# Step 4: Aggregate the information for each customer\n",
    "customer_buys_kid_baby = merged_df.groupby('customer_id')['buys_kid_baby_clothes'].any().reset_index()\n",
    "customer_buys_mens = merged_df.groupby('customer_id')['buys_mens_clothes'].any().reset_index()\n",
    "customer_buys_womens = merged_df.groupby('customer_id')['buys_womens_clothing'].any().reset_index()\n",
    "\n",
    "# Merge this information with your customers DataFrame\n",
    "customers = customers.merge(customer_buys_kid_baby, on='customer_id', how='left')\n",
    "customers = customers.merge(customer_buys_mens, on='customer_id', how='left')\n",
    "customers = customers.merge(customer_buys_womens, on='customer_id', how='left')\n",
    "\n",
    "# Correct column names for converting to integers\n",
    "customers['buys_mens_clothes'] = customers['buys_mens_clothes'].fillna(-1).astype(int)\n",
    "customers['buys_womens_clothing'] = customers['buys_womens_clothing'].fillna(-1).astype(int)\n",
    "customers['buys_kid_baby_clothes'] = customers['buys_kid_baby_clothes'].fillna(-1).astype(int)"
   ]
  },
  {
   "cell_type": "code",
   "execution_count": 17,
   "id": "3f94686f",
   "metadata": {
    "execution": {
     "iopub.execute_input": "2023-11-06T15:46:44.037333Z",
     "iopub.status.busy": "2023-11-06T15:46:44.036945Z",
     "iopub.status.idle": "2023-11-06T15:46:44.054948Z",
     "shell.execute_reply": "2023-11-06T15:46:44.053491Z"
    },
    "papermill": {
     "duration": 0.029933,
     "end_time": "2023-11-06T15:46:44.057586",
     "exception": false,
     "start_time": "2023-11-06T15:46:44.027653",
     "status": "completed"
    },
    "tags": []
   },
   "outputs": [],
   "source": [
    "articles['index_code'] = Categorize().fit_transform(articles[['index_code']])['index_code']"
   ]
  },
  {
   "cell_type": "code",
   "execution_count": 18,
   "id": "f540756b",
   "metadata": {
    "execution": {
     "iopub.execute_input": "2023-11-06T15:46:44.180296Z",
     "iopub.status.busy": "2023-11-06T15:46:44.179921Z",
     "iopub.status.idle": "2023-11-06T15:46:44.195888Z",
     "shell.execute_reply": "2023-11-06T15:46:44.194553Z"
    },
    "executionInfo": {
     "elapsed": 4,
     "status": "ok",
     "timestamp": 1699020220560,
     "user": {
      "displayName": "nick wils",
      "userId": "09906672494021070283"
     },
     "user_tz": -60
    },
    "id": "b3596527",
    "papermill": {
     "duration": 0.132851,
     "end_time": "2023-11-06T15:46:44.198731",
     "exception": false,
     "start_time": "2023-11-06T15:46:44.065880",
     "status": "completed"
    },
    "tags": []
   },
   "outputs": [],
   "source": [
    "for col in articles.columns:\n",
    "    if articles[col].dtype == 'int64':\n",
    "        articles[col] = articles[col].astype('int32')"
   ]
  },
  {
   "cell_type": "markdown",
   "id": "68c6dffa",
   "metadata": {
    "id": "dc411fb5",
    "papermill": {
     "duration": 0.007628,
     "end_time": "2023-11-06T15:46:44.214666",
     "exception": false,
     "start_time": "2023-11-06T15:46:44.207038",
     "status": "completed"
    },
    "tags": []
   },
   "source": [
    "# And this concludes our raw data preparation step! Let's now write everything back to disk."
   ]
  },
  {
   "cell_type": "code",
   "execution_count": 19,
   "id": "28a08402",
   "metadata": {
    "execution": {
     "iopub.execute_input": "2023-11-06T15:46:44.233479Z",
     "iopub.status.busy": "2023-11-06T15:46:44.232868Z",
     "iopub.status.idle": "2023-11-06T15:46:53.825304Z",
     "shell.execute_reply": "2023-11-06T15:46:53.823482Z"
    },
    "executionInfo": {
     "elapsed": 8975,
     "status": "ok",
     "timestamp": 1699020229532,
     "user": {
      "displayName": "nick wils",
      "userId": "09906672494021070283"
     },
     "user_tz": -60
    },
    "id": "86f4e1b3",
    "papermill": {
     "duration": 9.605451,
     "end_time": "2023-11-06T15:46:53.828464",
     "exception": false,
     "start_time": "2023-11-06T15:46:44.223013",
     "status": "completed"
    },
    "tags": []
   },
   "outputs": [],
   "source": [
    "transactions.sort_values(['t_dat', 'customer_id'], inplace=True)"
   ]
  },
  {
   "cell_type": "code",
   "execution_count": 20,
   "id": "4b72947b",
   "metadata": {
    "execution": {
     "iopub.execute_input": "2023-11-06T15:46:53.846230Z",
     "iopub.status.busy": "2023-11-06T15:46:53.845890Z",
     "iopub.status.idle": "2023-11-06T15:47:00.166915Z",
     "shell.execute_reply": "2023-11-06T15:47:00.164824Z"
    },
    "executionInfo": {
     "elapsed": 5997,
     "status": "ok",
     "timestamp": 1699020235502,
     "user": {
      "displayName": "nick wils",
      "userId": "09906672494021070283"
     },
     "user_tz": -60
    },
    "id": "682b1125",
    "outputId": "a609c485-37d7-47ad-b160-a8ea33fae82d",
    "papermill": {
     "duration": 6.333157,
     "end_time": "2023-11-06T15:47:00.169733",
     "exception": false,
     "start_time": "2023-11-06T15:46:53.836576",
     "status": "completed"
    },
    "tags": []
   },
   "outputs": [
    {
     "name": "stdout",
     "output_type": "stream",
     "text": [
      "CPU times: user 5.74 s, sys: 511 ms, total: 6.25 s\n",
      "Wall time: 6.31 s\n"
     ]
    }
   ],
   "source": [
    "%%time\n",
    "pad = \"\"\n",
    "transactions.to_parquet(pad+'transactions_train.parquet')\n",
    "customers.to_parquet(pad+'customers.parquet')\n",
    "articles.to_parquet(pad+'articles.parquet')"
   ]
  }
 ],
 "metadata": {
  "kernelspec": {
   "display_name": "Python 3",
   "language": "python",
   "name": "python3"
  },
  "language_info": {
   "codemirror_mode": {
    "name": "ipython",
    "version": 3
   },
   "file_extension": ".py",
   "mimetype": "text/x-python",
   "name": "python",
   "nbconvert_exporter": "python",
   "pygments_lexer": "ipython3",
   "version": "3.10.12"
  },
  "papermill": {
   "default_parameters": {},
   "duration": 292.956413,
   "end_time": "2023-11-06T15:47:01.002293",
   "environment_variables": {},
   "exception": null,
   "input_path": "__notebook__.ipynb",
   "output_path": "__notebook__.ipynb",
   "parameters": {},
   "start_time": "2023-11-06T15:42:08.045880",
   "version": "2.4.0"
  }
 },
 "nbformat": 4,
 "nbformat_minor": 5
}
