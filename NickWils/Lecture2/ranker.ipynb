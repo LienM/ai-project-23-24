{
 "cells": [
  {
   "cell_type": "markdown",
   "id": "f6877bf0",
   "metadata": {
    "id": "6f21ab04",
    "papermill": {
     "duration": 0.018167,
     "end_time": "2023-11-06T15:48:46.656371",
     "exception": false,
     "start_time": "2023-11-06T15:48:46.638204",
     "status": "completed"
    },
    "tags": []
   },
   "source": [
    "Based on the baseline \"Radek's LGBMRanker starter-pack”: https://www.kaggle.com/code/marcogorelli/radek-s-lgbmranker-starter-pack\n"
   ]
  },
  {
   "cell_type": "markdown",
   "id": "1fe7dbca",
   "metadata": {
    "papermill": {
     "duration": 0.018386,
     "end_time": "2023-11-06T15:48:46.693293",
     "exception": false,
     "start_time": "2023-11-06T15:48:46.674907",
     "status": "completed"
    },
    "tags": []
   },
   "source": [
    "# Helper functions"
   ]
  },
  {
   "cell_type": "code",
   "execution_count": 1,
   "id": "e65b17a5",
   "metadata": {
    "execution": {
     "iopub.execute_input": "2023-11-06T15:48:46.732037Z",
     "iopub.status.busy": "2023-11-06T15:48:46.731643Z",
     "iopub.status.idle": "2023-11-06T15:48:46.748735Z",
     "shell.execute_reply": "2023-11-06T15:48:46.747844Z"
    },
    "executionInfo": {
     "elapsed": 8,
     "status": "ok",
     "timestamp": 1699021070415,
     "user": {
      "displayName": "nick wils",
      "userId": "09906672494021070283"
     },
     "user_tz": -60
    },
    "id": "4a7e7212",
    "papermill": {
     "duration": 0.039578,
     "end_time": "2023-11-06T15:48:46.751277",
     "exception": false,
     "start_time": "2023-11-06T15:48:46.711699",
     "status": "completed"
    },
    "tags": []
   },
   "outputs": [],
   "source": [
    "import numpy as np\n",
    "\n",
    "def apk(actual, predicted, k=10):\n",
    "    \"\"\"\n",
    "    Computes the average precision at k.\n",
    "\n",
    "    This function computes the average prescision at k between two lists of\n",
    "    items.\n",
    "\n",
    "    Parameters\n",
    "    ----------\n",
    "    actual : list\n",
    "             A list of elements that are to be predicted (order doesn't matter)\n",
    "    predicted : list\n",
    "                A list of predicted elements (order does matter)\n",
    "    k : int, optional\n",
    "        The maximum number of predicted elements\n",
    "\n",
    "    Returns\n",
    "    -------\n",
    "    score : double\n",
    "            The average precision at k over the input lists\n",
    "\n",
    "    \"\"\"\n",
    "    if len(predicted)>k:\n",
    "        predicted = predicted[:k]\n",
    "\n",
    "    score = 0.0\n",
    "    num_hits = 0.0\n",
    "\n",
    "    for i,p in enumerate(predicted):\n",
    "        if p in actual and p not in predicted[:i]:\n",
    "            num_hits += 1.0\n",
    "            score += num_hits / (i+1.0)\n",
    "\n",
    "    if not actual:\n",
    "        return 0.0\n",
    "\n",
    "    return score / min(len(actual), k)\n",
    "\n",
    "def mapk(actual, predicted, k=10):\n",
    "    \"\"\"\n",
    "    Computes the mean average precision at k.\n",
    "\n",
    "    This function computes the mean average prescision at k between two lists\n",
    "    of lists of items.\n",
    "\n",
    "    Parameters\n",
    "    ----------\n",
    "    actual : list\n",
    "             A list of lists of elements that are to be predicted\n",
    "             (order doesn't matter in the lists)\n",
    "    predicted : list\n",
    "                A list of lists of predicted elements\n",
    "                (order matters in the lists)\n",
    "    k : int, optional\n",
    "        The maximum number of predicted elements\n",
    "\n",
    "    Returns\n",
    "    -------\n",
    "    score : double\n",
    "            The mean average precision at k over the input lists\n",
    "\n",
    "    \"\"\"\n",
    "    return np.mean([apk(a,p,k) for a,p in zip(actual, predicted)])"
   ]
  },
  {
   "cell_type": "code",
   "execution_count": 2,
   "id": "38388490",
   "metadata": {
    "execution": {
     "iopub.execute_input": "2023-11-06T15:48:46.789490Z",
     "iopub.status.busy": "2023-11-06T15:48:46.788607Z",
     "iopub.status.idle": "2023-11-06T15:48:48.155758Z",
     "shell.execute_reply": "2023-11-06T15:48:48.154400Z"
    },
    "executionInfo": {
     "elapsed": 1622,
     "status": "ok",
     "timestamp": 1699021072031,
     "user": {
      "displayName": "nick wils",
      "userId": "09906672494021070283"
     },
     "user_tz": -60
    },
    "id": "85ef6566",
    "papermill": {
     "duration": 1.389303,
     "end_time": "2023-11-06T15:48:48.158553",
     "exception": false,
     "start_time": "2023-11-06T15:48:46.769250",
     "status": "completed"
    },
    "tags": []
   },
   "outputs": [],
   "source": [
    "from sklearn.base import BaseEstimator, TransformerMixin\n",
    "import numpy as np\n",
    "\n",
    "# https://www.kaggle.com/c/h-and-m-personalized-fashion-recommendations/discussion/308635\n",
    "def customer_hex_id_to_int(series):\n",
    "    return series.str[-16:].apply(hex_id_to_int)\n",
    "\n",
    "def hex_id_to_int(str):\n",
    "    return int(str[-16:], 16)\n",
    "\n",
    "def article_id_str_to_int(series):\n",
    "    return series.astype('int32')\n",
    "\n",
    "def article_id_int_to_str(series):\n",
    "    return '0' + series.astype('str')\n",
    "\n",
    "class Categorize(BaseEstimator, TransformerMixin):\n",
    "    def __init__(self, min_examples=0):\n",
    "        self.min_examples = min_examples\n",
    "        self.categories = []\n",
    "\n",
    "    def fit(self, X):\n",
    "        for i in range(X.shape[1]):\n",
    "            vc = X.iloc[:, i].value_counts()\n",
    "            self.categories.append(vc[vc > self.min_examples].index.tolist())\n",
    "        return self\n",
    "\n",
    "    def transform(self, X):\n",
    "        data = {X.columns[i]: pd.Categorical(X.iloc[:, i], categories=self.categories[i]).codes for i in range(X.shape[1])}\n",
    "        return pd.DataFrame(data=data)\n",
    "\n",
    "\n",
    "def calculate_apk(list_of_preds, list_of_gts):\n",
    "    # for fast validation this can be changed to operate on dicts of {'cust_id_int': [art_id_int, ...]}\n",
    "    # using 'data/val_week_purchases_by_cust.pkl'\n",
    "    apks = []\n",
    "    for preds, gt in zip(list_of_preds, list_of_gts):\n",
    "        apks.append(apk(gt, preds, k=12))\n",
    "    return np.mean(apks)\n",
    "\n",
    "def eval_sub(sub_csv, skip_cust_with_no_purchases=True):\n",
    "    sub=pd.read_csv(sub_csv)\n",
    "    validation_set=pd.read_parquet('data/validation_ground_truth.parquet')\n",
    "\n",
    "    apks = []\n",
    "\n",
    "    no_purchases_pattern = []\n",
    "    for pred, gt in zip(sub.prediction.str.split(), validation_set.prediction.str.split()):\n",
    "        if skip_cust_with_no_purchases and (gt == no_purchases_pattern): continue\n",
    "        apks.append(apk(gt, pred, k=12))\n",
    "    return np.mean(apks)"
   ]
  },
  {
   "cell_type": "code",
   "execution_count": 3,
   "id": "284f2445",
   "metadata": {
    "execution": {
     "iopub.execute_input": "2023-11-06T15:48:48.196850Z",
     "iopub.status.busy": "2023-11-06T15:48:48.196267Z",
     "iopub.status.idle": "2023-11-06T15:48:48.553673Z",
     "shell.execute_reply": "2023-11-06T15:48:48.552407Z"
    },
    "executionInfo": {
     "elapsed": 1009,
     "status": "ok",
     "timestamp": 1699021073032,
     "user": {
      "displayName": "nick wils",
      "userId": "09906672494021070283"
     },
     "user_tz": -60
    },
    "id": "78c7a34c",
    "papermill": {
     "duration": 0.379856,
     "end_time": "2023-11-06T15:48:48.556432",
     "exception": false,
     "start_time": "2023-11-06T15:48:48.176576",
     "status": "completed"
    },
    "tags": []
   },
   "outputs": [],
   "source": [
    "import pandas as pd"
   ]
  },
  {
   "cell_type": "markdown",
   "id": "46e37546",
   "metadata": {
    "papermill": {
     "duration": 0.017406,
     "end_time": "2023-11-06T15:48:48.593123",
     "exception": false,
     "start_time": "2023-11-06T15:48:48.575717",
     "status": "completed"
    },
    "tags": []
   },
   "source": [
    "# Read input files"
   ]
  },
  {
   "cell_type": "code",
   "execution_count": 4,
   "id": "4ce86615",
   "metadata": {
    "execution": {
     "iopub.execute_input": "2023-11-06T15:48:48.631055Z",
     "iopub.status.busy": "2023-11-06T15:48:48.630262Z",
     "iopub.status.idle": "2023-11-06T15:48:54.797858Z",
     "shell.execute_reply": "2023-11-06T15:48:54.796706Z"
    },
    "executionInfo": {
     "elapsed": 10386,
     "status": "ok",
     "timestamp": 1699021083403,
     "user": {
      "displayName": "nick wils",
      "userId": "09906672494021070283"
     },
     "user_tz": -60
    },
    "id": "af847e1a",
    "outputId": "3cbfb68d-34ad-434e-8246-c093b7fedffd",
    "papermill": {
     "duration": 6.190519,
     "end_time": "2023-11-06T15:48:54.801472",
     "exception": false,
     "start_time": "2023-11-06T15:48:48.610953",
     "status": "completed"
    },
    "tags": []
   },
   "outputs": [
    {
     "name": "stdout",
     "output_type": "stream",
     "text": [
      "CPU times: user 3.63 s, sys: 4.28 s, total: 7.9 s\n",
      "Wall time: 6.16 s\n"
     ]
    }
   ],
   "source": [
    "%%time\n",
    "pad = \"/kaggle/input/makeparquet\"\n",
    "transactions = pd.read_parquet(pad+'/transactions_train.parquet')\n",
    "customers = pd.read_parquet(pad+'/customers.parquet')\n",
    "articles = pd.read_parquet(pad+'/articles.parquet')"
   ]
  },
  {
   "cell_type": "code",
   "execution_count": 5,
   "id": "f2f6bfd9",
   "metadata": {
    "execution": {
     "iopub.execute_input": "2023-11-06T15:48:54.841310Z",
     "iopub.status.busy": "2023-11-06T15:48:54.840932Z",
     "iopub.status.idle": "2023-11-06T15:48:55.104981Z",
     "shell.execute_reply": "2023-11-06T15:48:55.103827Z"
    },
    "executionInfo": {
     "elapsed": 359,
     "status": "ok",
     "timestamp": 1699021083748,
     "user": {
      "displayName": "nick wils",
      "userId": "09906672494021070283"
     },
     "user_tz": -60
    },
    "id": "76f70d9a",
    "papermill": {
     "duration": 0.287933,
     "end_time": "2023-11-06T15:48:55.108756",
     "exception": false,
     "start_time": "2023-11-06T15:48:54.820823",
     "status": "completed"
    },
    "tags": []
   },
   "outputs": [],
   "source": [
    "test_week = transactions.week.max() + 1\n",
    "transactions = transactions[transactions.week > transactions.week.max() - 10]"
   ]
  },
  {
   "cell_type": "markdown",
   "id": "db3b71ec",
   "metadata": {
    "id": "5133081f",
    "papermill": {
     "duration": 0.017976,
     "end_time": "2023-11-06T15:48:55.144786",
     "exception": false,
     "start_time": "2023-11-06T15:48:55.126810",
     "status": "completed"
    },
    "tags": []
   },
   "source": [
    "# Generating candidates"
   ]
  },
  {
   "cell_type": "markdown",
   "id": "a5bf881f",
   "metadata": {
    "id": "55672930",
    "papermill": {
     "duration": 0.017881,
     "end_time": "2023-11-06T15:48:55.181177",
     "exception": false,
     "start_time": "2023-11-06T15:48:55.163296",
     "status": "completed"
    },
    "tags": []
   },
   "source": [
    "### Last purchase candidates"
   ]
  },
  {
   "cell_type": "code",
   "execution_count": 6,
   "id": "65157444",
   "metadata": {
    "execution": {
     "iopub.execute_input": "2023-11-06T15:48:55.218719Z",
     "iopub.status.busy": "2023-11-06T15:48:55.218297Z",
     "iopub.status.idle": "2023-11-06T15:49:26.745296Z",
     "shell.execute_reply": "2023-11-06T15:49:26.743992Z"
    },
    "executionInfo": {
     "elapsed": 44324,
     "status": "ok",
     "timestamp": 1699021128069,
     "user": {
      "displayName": "nick wils",
      "userId": "09906672494021070283"
     },
     "user_tz": -60
    },
    "id": "953a0f07",
    "outputId": "a64eb57a-9b27-486a-ed3e-cbd737918d66",
    "papermill": {
     "duration": 31.566998,
     "end_time": "2023-11-06T15:49:26.766063",
     "exception": false,
     "start_time": "2023-11-06T15:48:55.199065",
     "status": "completed"
    },
    "tags": []
   },
   "outputs": [
    {
     "name": "stdout",
     "output_type": "stream",
     "text": [
      "CPU times: user 31.2 s, sys: 538 ms, total: 31.8 s\n",
      "Wall time: 31.5 s\n"
     ]
    }
   ],
   "source": [
    "%%time\n",
    "\n",
    "c2weeks = transactions.groupby('customer_id')['week'].unique()"
   ]
  },
  {
   "cell_type": "code",
   "execution_count": 7,
   "id": "73fc1dbf",
   "metadata": {
    "execution": {
     "iopub.execute_input": "2023-11-06T15:49:26.869642Z",
     "iopub.status.busy": "2023-11-06T15:49:26.868987Z",
     "iopub.status.idle": "2023-11-06T15:49:26.956374Z",
     "shell.execute_reply": "2023-11-06T15:49:26.955533Z"
    },
    "executionInfo": {
     "elapsed": 27,
     "status": "ok",
     "timestamp": 1699021128070,
     "user": {
      "displayName": "nick wils",
      "userId": "09906672494021070283"
     },
     "user_tz": -60
    },
    "id": "a36be6fc",
    "outputId": "d760722c-fd93-4387-ec91-567d48918be5",
    "papermill": {
     "duration": 0.10998,
     "end_time": "2023-11-06T15:49:26.958942",
     "exception": false,
     "start_time": "2023-11-06T15:49:26.848962",
     "status": "completed"
    },
    "tags": []
   },
   "outputs": [
    {
     "data": {
      "text/html": [
       "<div>\n",
       "<style scoped>\n",
       "    .dataframe tbody tr th:only-of-type {\n",
       "        vertical-align: middle;\n",
       "    }\n",
       "\n",
       "    .dataframe tbody tr th {\n",
       "        vertical-align: top;\n",
       "    }\n",
       "\n",
       "    .dataframe thead th {\n",
       "        text-align: right;\n",
       "    }\n",
       "</style>\n",
       "<table border=\"1\" class=\"dataframe\">\n",
       "  <thead>\n",
       "    <tr style=\"text-align: right;\">\n",
       "      <th></th>\n",
       "      <th>min</th>\n",
       "      <th>max</th>\n",
       "    </tr>\n",
       "    <tr>\n",
       "      <th>week</th>\n",
       "      <th></th>\n",
       "      <th></th>\n",
       "    </tr>\n",
       "  </thead>\n",
       "  <tbody>\n",
       "    <tr>\n",
       "      <th>95</th>\n",
       "      <td>2020-07-15</td>\n",
       "      <td>2020-07-21</td>\n",
       "    </tr>\n",
       "    <tr>\n",
       "      <th>96</th>\n",
       "      <td>2020-07-22</td>\n",
       "      <td>2020-07-28</td>\n",
       "    </tr>\n",
       "    <tr>\n",
       "      <th>97</th>\n",
       "      <td>2020-07-29</td>\n",
       "      <td>2020-08-04</td>\n",
       "    </tr>\n",
       "    <tr>\n",
       "      <th>98</th>\n",
       "      <td>2020-08-05</td>\n",
       "      <td>2020-08-11</td>\n",
       "    </tr>\n",
       "    <tr>\n",
       "      <th>99</th>\n",
       "      <td>2020-08-12</td>\n",
       "      <td>2020-08-18</td>\n",
       "    </tr>\n",
       "    <tr>\n",
       "      <th>100</th>\n",
       "      <td>2020-08-19</td>\n",
       "      <td>2020-08-25</td>\n",
       "    </tr>\n",
       "    <tr>\n",
       "      <th>101</th>\n",
       "      <td>2020-08-26</td>\n",
       "      <td>2020-09-01</td>\n",
       "    </tr>\n",
       "    <tr>\n",
       "      <th>102</th>\n",
       "      <td>2020-09-02</td>\n",
       "      <td>2020-09-08</td>\n",
       "    </tr>\n",
       "    <tr>\n",
       "      <th>103</th>\n",
       "      <td>2020-09-09</td>\n",
       "      <td>2020-09-15</td>\n",
       "    </tr>\n",
       "    <tr>\n",
       "      <th>104</th>\n",
       "      <td>2020-09-16</td>\n",
       "      <td>2020-09-22</td>\n",
       "    </tr>\n",
       "  </tbody>\n",
       "</table>\n",
       "</div>"
      ],
      "text/plain": [
       "            min        max\n",
       "week                      \n",
       "95   2020-07-15 2020-07-21\n",
       "96   2020-07-22 2020-07-28\n",
       "97   2020-07-29 2020-08-04\n",
       "98   2020-08-05 2020-08-11\n",
       "99   2020-08-12 2020-08-18\n",
       "100  2020-08-19 2020-08-25\n",
       "101  2020-08-26 2020-09-01\n",
       "102  2020-09-02 2020-09-08\n",
       "103  2020-09-09 2020-09-15\n",
       "104  2020-09-16 2020-09-22"
      ]
     },
     "execution_count": 7,
     "metadata": {},
     "output_type": "execute_result"
    }
   ],
   "source": [
    "transactions.groupby('week')['t_dat'].agg(['min', 'max'])"
   ]
  },
  {
   "cell_type": "code",
   "execution_count": 8,
   "id": "404dc65d",
   "metadata": {
    "execution": {
     "iopub.execute_input": "2023-11-06T15:49:26.997911Z",
     "iopub.status.busy": "2023-11-06T15:49:26.997457Z",
     "iopub.status.idle": "2023-11-06T15:49:28.178608Z",
     "shell.execute_reply": "2023-11-06T15:49:28.177026Z"
    },
    "executionInfo": {
     "elapsed": 942,
     "status": "ok",
     "timestamp": 1699021129001,
     "user": {
      "displayName": "nick wils",
      "userId": "09906672494021070283"
     },
     "user_tz": -60
    },
    "id": "f4723bec",
    "outputId": "700683a1-0720-43a3-bd06-c22a827fbf02",
    "papermill": {
     "duration": 1.20499,
     "end_time": "2023-11-06T15:49:28.182691",
     "exception": false,
     "start_time": "2023-11-06T15:49:26.977701",
     "status": "completed"
    },
    "tags": []
   },
   "outputs": [
    {
     "name": "stdout",
     "output_type": "stream",
     "text": [
      "CPU times: user 1.13 s, sys: 46.8 ms, total: 1.17 s\n",
      "Wall time: 1.17 s\n"
     ]
    }
   ],
   "source": [
    "%%time\n",
    "\n",
    "c2weeks2shifted_weeks = {}\n",
    "\n",
    "for c_id, weeks in c2weeks.items():\n",
    "    c2weeks2shifted_weeks[c_id] = {}\n",
    "    for i in range(weeks.shape[0]-1):\n",
    "        c2weeks2shifted_weeks[c_id][weeks[i]] = weeks[i+1]\n",
    "    c2weeks2shifted_weeks[c_id][weeks[-1]] = test_week"
   ]
  },
  {
   "cell_type": "code",
   "execution_count": 9,
   "id": "da09c181",
   "metadata": {
    "execution": {
     "iopub.execute_input": "2023-11-06T15:49:28.221324Z",
     "iopub.status.busy": "2023-11-06T15:49:28.220907Z",
     "iopub.status.idle": "2023-11-06T15:49:28.245226Z",
     "shell.execute_reply": "2023-11-06T15:49:28.244017Z"
    },
    "executionInfo": {
     "elapsed": 6,
     "status": "ok",
     "timestamp": 1699021129002,
     "user": {
      "displayName": "nick wils",
      "userId": "09906672494021070283"
     },
     "user_tz": -60
    },
    "id": "5a87c920",
    "papermill": {
     "duration": 0.047076,
     "end_time": "2023-11-06T15:49:28.248120",
     "exception": false,
     "start_time": "2023-11-06T15:49:28.201044",
     "status": "completed"
    },
    "tags": []
   },
   "outputs": [],
   "source": [
    "candidates_last_purchase = transactions.copy()"
   ]
  },
  {
   "cell_type": "code",
   "execution_count": 10,
   "id": "2febc4b0",
   "metadata": {
    "execution": {
     "iopub.execute_input": "2023-11-06T15:49:28.287024Z",
     "iopub.status.busy": "2023-11-06T15:49:28.286366Z",
     "iopub.status.idle": "2023-11-06T15:50:00.025876Z",
     "shell.execute_reply": "2023-11-06T15:50:00.024543Z"
    },
    "executionInfo": {
     "elapsed": 20239,
     "status": "ok",
     "timestamp": 1699021149235,
     "user": {
      "displayName": "nick wils",
      "userId": "09906672494021070283"
     },
     "user_tz": -60
    },
    "id": "4f4d4a18",
    "outputId": "a177aca2-7d87-44a1-cbfd-23488359d3d3",
    "papermill": {
     "duration": 31.780207,
     "end_time": "2023-11-06T15:50:00.046808",
     "exception": false,
     "start_time": "2023-11-06T15:49:28.266601",
     "status": "completed"
    },
    "tags": []
   },
   "outputs": [
    {
     "name": "stdout",
     "output_type": "stream",
     "text": [
      "CPU times: user 31.7 s, sys: 145 ms, total: 31.9 s\n",
      "Wall time: 31.7 s\n"
     ]
    }
   ],
   "source": [
    "%%time\n",
    "\n",
    "weeks = []\n",
    "for i, (c_id, week) in enumerate(zip(transactions['customer_id'], transactions['week'])):\n",
    "    weeks.append(c2weeks2shifted_weeks[c_id][week])\n",
    "\n",
    "candidates_last_purchase.week=weeks"
   ]
  },
  {
   "cell_type": "markdown",
   "id": "c212a0a0",
   "metadata": {
    "id": "38ae3458",
    "papermill": {
     "duration": 0.018514,
     "end_time": "2023-11-06T15:50:00.084541",
     "exception": false,
     "start_time": "2023-11-06T15:50:00.066027",
     "status": "completed"
    },
    "tags": []
   },
   "source": [
    "### Bestsellers candidates"
   ]
  },
  {
   "cell_type": "code",
   "execution_count": 11,
   "id": "31906d97",
   "metadata": {
    "execution": {
     "iopub.execute_input": "2023-11-06T15:50:00.124109Z",
     "iopub.status.busy": "2023-11-06T15:50:00.123702Z",
     "iopub.status.idle": "2023-11-06T15:50:00.357997Z",
     "shell.execute_reply": "2023-11-06T15:50:00.356921Z"
    },
    "executionInfo": {
     "elapsed": 36,
     "status": "ok",
     "timestamp": 1699021149236,
     "user": {
      "displayName": "nick wils",
      "userId": "09906672494021070283"
     },
     "user_tz": -60
    },
    "id": "022a7879",
    "papermill": {
     "duration": 0.25721,
     "end_time": "2023-11-06T15:50:00.360720",
     "exception": false,
     "start_time": "2023-11-06T15:50:00.103510",
     "status": "completed"
    },
    "tags": []
   },
   "outputs": [],
   "source": [
    "mean_price = transactions \\\n",
    "    .groupby(['week', 'article_id'])['price'].mean()"
   ]
  },
  {
   "cell_type": "code",
   "execution_count": 12,
   "id": "323aaa29",
   "metadata": {
    "execution": {
     "iopub.execute_input": "2023-11-06T15:50:00.402048Z",
     "iopub.status.busy": "2023-11-06T15:50:00.401601Z",
     "iopub.status.idle": "2023-11-06T15:50:00.676416Z",
     "shell.execute_reply": "2023-11-06T15:50:00.675136Z"
    },
    "executionInfo": {
     "elapsed": 732,
     "status": "ok",
     "timestamp": 1699021150260,
     "user": {
      "displayName": "nick wils",
      "userId": "09906672494021070283"
     },
     "user_tz": -60
    },
    "id": "9a104ef9",
    "papermill": {
     "duration": 0.29905,
     "end_time": "2023-11-06T15:50:00.679507",
     "exception": false,
     "start_time": "2023-11-06T15:50:00.380457",
     "status": "completed"
    },
    "tags": []
   },
   "outputs": [],
   "source": [
    "sales = transactions \\\n",
    "    .groupby('week')['article_id'].value_counts() \\\n",
    "    .groupby('week').rank(method='dense', ascending=False) \\\n",
    "    .groupby('week').head(12).rename('bestseller_rank').astype('int8')"
   ]
  },
  {
   "cell_type": "code",
   "execution_count": 13,
   "id": "d181f932",
   "metadata": {
    "execution": {
     "iopub.execute_input": "2023-11-06T15:50:00.719053Z",
     "iopub.status.busy": "2023-11-06T15:50:00.718607Z",
     "iopub.status.idle": "2023-11-06T15:50:00.802016Z",
     "shell.execute_reply": "2023-11-06T15:50:00.800731Z"
    },
    "executionInfo": {
     "elapsed": 14,
     "status": "ok",
     "timestamp": 1699021150262,
     "user": {
      "displayName": "nick wils",
      "userId": "09906672494021070283"
     },
     "user_tz": -60
    },
    "id": "20324cc0",
    "papermill": {
     "duration": 0.106226,
     "end_time": "2023-11-06T15:50:00.804884",
     "exception": false,
     "start_time": "2023-11-06T15:50:00.698658",
     "status": "completed"
    },
    "tags": []
   },
   "outputs": [],
   "source": [
    "bestsellers_previous_week = pd.merge(sales, mean_price, on=['week', 'article_id']).reset_index()\n",
    "bestsellers_previous_week.week += 1"
   ]
  },
  {
   "cell_type": "code",
   "execution_count": 14,
   "id": "7f226aba",
   "metadata": {
    "execution": {
     "iopub.execute_input": "2023-11-06T15:50:00.845365Z",
     "iopub.status.busy": "2023-11-06T15:50:00.844921Z",
     "iopub.status.idle": "2023-11-06T15:50:00.862915Z",
     "shell.execute_reply": "2023-11-06T15:50:00.861938Z"
    },
    "executionInfo": {
     "elapsed": 13,
     "status": "ok",
     "timestamp": 1699021150262,
     "user": {
      "displayName": "nick wils",
      "userId": "09906672494021070283"
     },
     "user_tz": -60
    },
    "id": "b8447b19",
    "outputId": "b992d53d-c501-4be5-e373-7ed121335003",
    "papermill": {
     "duration": 0.040767,
     "end_time": "2023-11-06T15:50:00.865496",
     "exception": false,
     "start_time": "2023-11-06T15:50:00.824729",
     "status": "completed"
    },
    "tags": []
   },
   "outputs": [
    {
     "data": {
      "text/html": [
       "<div>\n",
       "<style scoped>\n",
       "    .dataframe tbody tr th:only-of-type {\n",
       "        vertical-align: middle;\n",
       "    }\n",
       "\n",
       "    .dataframe tbody tr th {\n",
       "        vertical-align: top;\n",
       "    }\n",
       "\n",
       "    .dataframe thead th {\n",
       "        text-align: right;\n",
       "    }\n",
       "</style>\n",
       "<table border=\"1\" class=\"dataframe\">\n",
       "  <thead>\n",
       "    <tr style=\"text-align: right;\">\n",
       "      <th></th>\n",
       "      <th>week</th>\n",
       "      <th>article_id</th>\n",
       "      <th>bestseller_rank</th>\n",
       "      <th>price</th>\n",
       "    </tr>\n",
       "  </thead>\n",
       "  <tbody>\n",
       "    <tr>\n",
       "      <th>0</th>\n",
       "      <td>96</td>\n",
       "      <td>760084003</td>\n",
       "      <td>1</td>\n",
       "      <td>0.025094</td>\n",
       "    </tr>\n",
       "    <tr>\n",
       "      <th>1</th>\n",
       "      <td>96</td>\n",
       "      <td>866731001</td>\n",
       "      <td>2</td>\n",
       "      <td>0.024919</td>\n",
       "    </tr>\n",
       "    <tr>\n",
       "      <th>2</th>\n",
       "      <td>96</td>\n",
       "      <td>600886001</td>\n",
       "      <td>3</td>\n",
       "      <td>0.022980</td>\n",
       "    </tr>\n",
       "    <tr>\n",
       "      <th>3</th>\n",
       "      <td>96</td>\n",
       "      <td>706016001</td>\n",
       "      <td>4</td>\n",
       "      <td>0.033197</td>\n",
       "    </tr>\n",
       "    <tr>\n",
       "      <th>4</th>\n",
       "      <td>96</td>\n",
       "      <td>372860002</td>\n",
       "      <td>5</td>\n",
       "      <td>0.013193</td>\n",
       "    </tr>\n",
       "    <tr>\n",
       "      <th>5</th>\n",
       "      <td>96</td>\n",
       "      <td>610776002</td>\n",
       "      <td>6</td>\n",
       "      <td>0.008318</td>\n",
       "    </tr>\n",
       "    <tr>\n",
       "      <th>6</th>\n",
       "      <td>96</td>\n",
       "      <td>877278002</td>\n",
       "      <td>7</td>\n",
       "      <td>0.025036</td>\n",
       "    </tr>\n",
       "    <tr>\n",
       "      <th>7</th>\n",
       "      <td>96</td>\n",
       "      <td>547780003</td>\n",
       "      <td>8</td>\n",
       "      <td>0.024814</td>\n",
       "    </tr>\n",
       "    <tr>\n",
       "      <th>8</th>\n",
       "      <td>96</td>\n",
       "      <td>817354001</td>\n",
       "      <td>9</td>\n",
       "      <td>0.021913</td>\n",
       "    </tr>\n",
       "    <tr>\n",
       "      <th>9</th>\n",
       "      <td>96</td>\n",
       "      <td>827968001</td>\n",
       "      <td>10</td>\n",
       "      <td>0.016436</td>\n",
       "    </tr>\n",
       "    <tr>\n",
       "      <th>10</th>\n",
       "      <td>96</td>\n",
       "      <td>866731003</td>\n",
       "      <td>11</td>\n",
       "      <td>0.024893</td>\n",
       "    </tr>\n",
       "    <tr>\n",
       "      <th>11</th>\n",
       "      <td>96</td>\n",
       "      <td>866383006</td>\n",
       "      <td>12</td>\n",
       "      <td>0.023195</td>\n",
       "    </tr>\n",
       "  </tbody>\n",
       "</table>\n",
       "</div>"
      ],
      "text/plain": [
       "    week  article_id  bestseller_rank     price\n",
       "0     96   760084003                1  0.025094\n",
       "1     96   866731001                2  0.024919\n",
       "2     96   600886001                3  0.022980\n",
       "3     96   706016001                4  0.033197\n",
       "4     96   372860002                5  0.013193\n",
       "5     96   610776002                6  0.008318\n",
       "6     96   877278002                7  0.025036\n",
       "7     96   547780003                8  0.024814\n",
       "8     96   817354001                9  0.021913\n",
       "9     96   827968001               10  0.016436\n",
       "10    96   866731003               11  0.024893\n",
       "11    96   866383006               12  0.023195"
      ]
     },
     "execution_count": 14,
     "metadata": {},
     "output_type": "execute_result"
    }
   ],
   "source": [
    "bestsellers_previous_week.pipe(lambda df: df[df['week']==96])"
   ]
  },
  {
   "cell_type": "code",
   "execution_count": 15,
   "id": "d4ca038a",
   "metadata": {
    "execution": {
     "iopub.execute_input": "2023-11-06T15:50:00.906326Z",
     "iopub.status.busy": "2023-11-06T15:50:00.905914Z",
     "iopub.status.idle": "2023-11-06T15:50:01.529174Z",
     "shell.execute_reply": "2023-11-06T15:50:01.527894Z"
    },
    "executionInfo": {
     "elapsed": 867,
     "status": "ok",
     "timestamp": 1699021151118,
     "user": {
      "displayName": "nick wils",
      "userId": "09906672494021070283"
     },
     "user_tz": -60
    },
    "id": "1ad756de",
    "papermill": {
     "duration": 0.646885,
     "end_time": "2023-11-06T15:50:01.532124",
     "exception": false,
     "start_time": "2023-11-06T15:50:00.885239",
     "status": "completed"
    },
    "tags": []
   },
   "outputs": [],
   "source": [
    "unique_transactions = transactions \\\n",
    "    .groupby(['week', 'customer_id']) \\\n",
    "    .head(1) \\\n",
    "    .drop(columns=['article_id', 'price']) \\\n",
    "    .copy()"
   ]
  },
  {
   "cell_type": "code",
   "execution_count": 16,
   "id": "9de0869a",
   "metadata": {
    "execution": {
     "iopub.execute_input": "2023-11-06T15:50:01.572827Z",
     "iopub.status.busy": "2023-11-06T15:50:01.572404Z",
     "iopub.status.idle": "2023-11-06T15:50:01.916311Z",
     "shell.execute_reply": "2023-11-06T15:50:01.914881Z"
    },
    "executionInfo": {
     "elapsed": 343,
     "status": "ok",
     "timestamp": 1699021151457,
     "user": {
      "displayName": "nick wils",
      "userId": "09906672494021070283"
     },
     "user_tz": -60
    },
    "id": "5721ca6d",
    "outputId": "26dbeac9-bfc8-44b6-879f-c3fbe5cb175d",
    "papermill": {
     "duration": 0.36796,
     "end_time": "2023-11-06T15:50:01.919364",
     "exception": false,
     "start_time": "2023-11-06T15:50:01.551404",
     "status": "completed"
    },
    "tags": []
   },
   "outputs": [
    {
     "data": {
      "text/html": [
       "<div>\n",
       "<style scoped>\n",
       "    .dataframe tbody tr th:only-of-type {\n",
       "        vertical-align: middle;\n",
       "    }\n",
       "\n",
       "    .dataframe tbody tr th {\n",
       "        vertical-align: top;\n",
       "    }\n",
       "\n",
       "    .dataframe thead th {\n",
       "        text-align: right;\n",
       "    }\n",
       "</style>\n",
       "<table border=\"1\" class=\"dataframe\">\n",
       "  <thead>\n",
       "    <tr style=\"text-align: right;\">\n",
       "      <th></th>\n",
       "      <th>t_dat</th>\n",
       "      <th>customer_id</th>\n",
       "      <th>article_id</th>\n",
       "      <th>price</th>\n",
       "      <th>sales_channel_id</th>\n",
       "      <th>season</th>\n",
       "      <th>year</th>\n",
       "      <th>month</th>\n",
       "      <th>week</th>\n",
       "    </tr>\n",
       "  </thead>\n",
       "  <tbody>\n",
       "    <tr>\n",
       "      <th>29030503</th>\n",
       "      <td>2020-07-15</td>\n",
       "      <td>272412481300040</td>\n",
       "      <td>778064028</td>\n",
       "      <td>0.008458</td>\n",
       "      <td>1</td>\n",
       "      <td>2</td>\n",
       "      <td>-28</td>\n",
       "      <td>7</td>\n",
       "      <td>95</td>\n",
       "    </tr>\n",
       "    <tr>\n",
       "      <th>29064059</th>\n",
       "      <td>2020-07-15</td>\n",
       "      <td>1456826891333599</td>\n",
       "      <td>888294001</td>\n",
       "      <td>0.013542</td>\n",
       "      <td>1</td>\n",
       "      <td>2</td>\n",
       "      <td>-28</td>\n",
       "      <td>7</td>\n",
       "      <td>95</td>\n",
       "    </tr>\n",
       "    <tr>\n",
       "      <th>29067103</th>\n",
       "      <td>2020-07-15</td>\n",
       "      <td>2133687643102426</td>\n",
       "      <td>843642001</td>\n",
       "      <td>0.042356</td>\n",
       "      <td>2</td>\n",
       "      <td>2</td>\n",
       "      <td>-28</td>\n",
       "      <td>7</td>\n",
       "      <td>95</td>\n",
       "    </tr>\n",
       "    <tr>\n",
       "      <th>29027487</th>\n",
       "      <td>2020-07-15</td>\n",
       "      <td>6010692573790711</td>\n",
       "      <td>857812010</td>\n",
       "      <td>0.039661</td>\n",
       "      <td>1</td>\n",
       "      <td>2</td>\n",
       "      <td>-28</td>\n",
       "      <td>7</td>\n",
       "      <td>95</td>\n",
       "    </tr>\n",
       "    <tr>\n",
       "      <th>29046403</th>\n",
       "      <td>2020-07-15</td>\n",
       "      <td>6171059100114610</td>\n",
       "      <td>815447007</td>\n",
       "      <td>0.006763</td>\n",
       "      <td>2</td>\n",
       "      <td>2</td>\n",
       "      <td>-28</td>\n",
       "      <td>7</td>\n",
       "      <td>95</td>\n",
       "    </tr>\n",
       "    <tr>\n",
       "      <th>...</th>\n",
       "      <td>...</td>\n",
       "      <td>...</td>\n",
       "      <td>...</td>\n",
       "      <td>...</td>\n",
       "      <td>...</td>\n",
       "      <td>...</td>\n",
       "      <td>...</td>\n",
       "      <td>...</td>\n",
       "      <td>...</td>\n",
       "    </tr>\n",
       "    <tr>\n",
       "      <th>31760188</th>\n",
       "      <td>2020-09-22</td>\n",
       "      <td>18435221511488011015</td>\n",
       "      <td>573085055</td>\n",
       "      <td>0.033881</td>\n",
       "      <td>1</td>\n",
       "      <td>3</td>\n",
       "      <td>-28</td>\n",
       "      <td>9</td>\n",
       "      <td>104</td>\n",
       "    </tr>\n",
       "    <tr>\n",
       "      <th>31782234</th>\n",
       "      <td>2020-09-22</td>\n",
       "      <td>18436859303155335645</td>\n",
       "      <td>801447001</td>\n",
       "      <td>0.030492</td>\n",
       "      <td>1</td>\n",
       "      <td>3</td>\n",
       "      <td>-28</td>\n",
       "      <td>9</td>\n",
       "      <td>104</td>\n",
       "    </tr>\n",
       "    <tr>\n",
       "      <th>31787251</th>\n",
       "      <td>2020-09-22</td>\n",
       "      <td>18437941771381362708</td>\n",
       "      <td>907188001</td>\n",
       "      <td>0.050831</td>\n",
       "      <td>2</td>\n",
       "      <td>3</td>\n",
       "      <td>-28</td>\n",
       "      <td>9</td>\n",
       "      <td>104</td>\n",
       "    </tr>\n",
       "    <tr>\n",
       "      <th>31776022</th>\n",
       "      <td>2020-09-22</td>\n",
       "      <td>18438270306572912089</td>\n",
       "      <td>751471043</td>\n",
       "      <td>0.033881</td>\n",
       "      <td>1</td>\n",
       "      <td>3</td>\n",
       "      <td>-28</td>\n",
       "      <td>9</td>\n",
       "      <td>104</td>\n",
       "    </tr>\n",
       "    <tr>\n",
       "      <th>31779097</th>\n",
       "      <td>2020-09-22</td>\n",
       "      <td>18440902715633436014</td>\n",
       "      <td>918894002</td>\n",
       "      <td>0.016932</td>\n",
       "      <td>1</td>\n",
       "      <td>3</td>\n",
       "      <td>-28</td>\n",
       "      <td>9</td>\n",
       "      <td>104</td>\n",
       "    </tr>\n",
       "  </tbody>\n",
       "</table>\n",
       "<p>755710 rows × 9 columns</p>\n",
       "</div>"
      ],
      "text/plain": [
       "              t_dat           customer_id  article_id     price  \\\n",
       "29030503 2020-07-15       272412481300040   778064028  0.008458   \n",
       "29064059 2020-07-15      1456826891333599   888294001  0.013542   \n",
       "29067103 2020-07-15      2133687643102426   843642001  0.042356   \n",
       "29027487 2020-07-15      6010692573790711   857812010  0.039661   \n",
       "29046403 2020-07-15      6171059100114610   815447007  0.006763   \n",
       "...             ...                   ...         ...       ...   \n",
       "31760188 2020-09-22  18435221511488011015   573085055  0.033881   \n",
       "31782234 2020-09-22  18436859303155335645   801447001  0.030492   \n",
       "31787251 2020-09-22  18437941771381362708   907188001  0.050831   \n",
       "31776022 2020-09-22  18438270306572912089   751471043  0.033881   \n",
       "31779097 2020-09-22  18440902715633436014   918894002  0.016932   \n",
       "\n",
       "          sales_channel_id  season  year  month  week  \n",
       "29030503                 1       2   -28      7    95  \n",
       "29064059                 1       2   -28      7    95  \n",
       "29067103                 2       2   -28      7    95  \n",
       "29027487                 1       2   -28      7    95  \n",
       "29046403                 2       2   -28      7    95  \n",
       "...                    ...     ...   ...    ...   ...  \n",
       "31760188                 1       3   -28      9   104  \n",
       "31782234                 1       3   -28      9   104  \n",
       "31787251                 2       3   -28      9   104  \n",
       "31776022                 1       3   -28      9   104  \n",
       "31779097                 1       3   -28      9   104  \n",
       "\n",
       "[755710 rows x 9 columns]"
      ]
     },
     "execution_count": 16,
     "metadata": {},
     "output_type": "execute_result"
    }
   ],
   "source": [
    "transactions.drop_duplicates(['week', 'customer_id'])"
   ]
  },
  {
   "cell_type": "code",
   "execution_count": 17,
   "id": "7d8ba8e1",
   "metadata": {
    "execution": {
     "iopub.execute_input": "2023-11-06T15:50:01.962363Z",
     "iopub.status.busy": "2023-11-06T15:50:01.961465Z",
     "iopub.status.idle": "2023-11-06T15:50:02.623816Z",
     "shell.execute_reply": "2023-11-06T15:50:02.622563Z"
    },
    "executionInfo": {
     "elapsed": 939,
     "status": "ok",
     "timestamp": 1699021152392,
     "user": {
      "displayName": "nick wils",
      "userId": "09906672494021070283"
     },
     "user_tz": -60
    },
    "id": "4a23981e",
    "papermill": {
     "duration": 0.686946,
     "end_time": "2023-11-06T15:50:02.626612",
     "exception": false,
     "start_time": "2023-11-06T15:50:01.939666",
     "status": "completed"
    },
    "tags": []
   },
   "outputs": [],
   "source": [
    "candidates_bestsellers = pd.merge(\n",
    "    unique_transactions,\n",
    "    bestsellers_previous_week,\n",
    "    on='week',\n",
    ")"
   ]
  },
  {
   "cell_type": "code",
   "execution_count": 18,
   "id": "c46dddff",
   "metadata": {
    "execution": {
     "iopub.execute_input": "2023-11-06T15:50:02.675231Z",
     "iopub.status.busy": "2023-11-06T15:50:02.674665Z",
     "iopub.status.idle": "2023-11-06T15:50:02.746438Z",
     "shell.execute_reply": "2023-11-06T15:50:02.745047Z"
    },
    "executionInfo": {
     "elapsed": 16,
     "status": "ok",
     "timestamp": 1699021152393,
     "user": {
      "displayName": "nick wils",
      "userId": "09906672494021070283"
     },
     "user_tz": -60
    },
    "id": "ad3a9710",
    "papermill": {
     "duration": 0.100819,
     "end_time": "2023-11-06T15:50:02.749118",
     "exception": false,
     "start_time": "2023-11-06T15:50:02.648299",
     "status": "completed"
    },
    "tags": []
   },
   "outputs": [],
   "source": [
    "test_set_transactions = unique_transactions.drop_duplicates('customer_id').reset_index(drop=True)\n",
    "test_set_transactions.week = test_week"
   ]
  },
  {
   "cell_type": "code",
   "execution_count": 19,
   "id": "93672ec2",
   "metadata": {
    "execution": {
     "iopub.execute_input": "2023-11-06T15:50:02.790355Z",
     "iopub.status.busy": "2023-11-06T15:50:02.789249Z",
     "iopub.status.idle": "2023-11-06T15:50:03.261220Z",
     "shell.execute_reply": "2023-11-06T15:50:03.260210Z"
    },
    "executionInfo": {
     "elapsed": 802,
     "status": "ok",
     "timestamp": 1699021153185,
     "user": {
      "displayName": "nick wils",
      "userId": "09906672494021070283"
     },
     "user_tz": -60
    },
    "id": "9f64b005",
    "papermill": {
     "duration": 0.49522,
     "end_time": "2023-11-06T15:50:03.263752",
     "exception": false,
     "start_time": "2023-11-06T15:50:02.768532",
     "status": "completed"
    },
    "tags": []
   },
   "outputs": [],
   "source": [
    "candidates_bestsellers_test_week = pd.merge(\n",
    "    test_set_transactions,\n",
    "    bestsellers_previous_week,\n",
    "    on='week'\n",
    ")"
   ]
  },
  {
   "cell_type": "code",
   "execution_count": 20,
   "id": "e3eebee2",
   "metadata": {
    "execution": {
     "iopub.execute_input": "2023-11-06T15:50:03.305010Z",
     "iopub.status.busy": "2023-11-06T15:50:03.304227Z",
     "iopub.status.idle": "2023-11-06T15:50:04.163885Z",
     "shell.execute_reply": "2023-11-06T15:50:04.162553Z"
    },
    "executionInfo": {
     "elapsed": 837,
     "status": "ok",
     "timestamp": 1699021154020,
     "user": {
      "displayName": "nick wils",
      "userId": "09906672494021070283"
     },
     "user_tz": -60
    },
    "id": "212b7926",
    "papermill": {
     "duration": 0.883245,
     "end_time": "2023-11-06T15:50:04.166758",
     "exception": false,
     "start_time": "2023-11-06T15:50:03.283513",
     "status": "completed"
    },
    "tags": []
   },
   "outputs": [],
   "source": [
    "candidates_bestsellers = pd.concat([candidates_bestsellers, candidates_bestsellers_test_week])\n",
    "candidates_bestsellers.drop(columns='bestseller_rank', inplace=True)"
   ]
  },
  {
   "cell_type": "markdown",
   "id": "036acce2",
   "metadata": {
    "id": "d5b03292",
    "papermill": {
     "duration": 0.01921,
     "end_time": "2023-11-06T15:50:04.205425",
     "exception": false,
     "start_time": "2023-11-06T15:50:04.186215",
     "status": "completed"
    },
    "tags": []
   },
   "source": [
    "# Combining transactions and candidates / negative examples"
   ]
  },
  {
   "cell_type": "code",
   "execution_count": 21,
   "id": "290e3c13",
   "metadata": {
    "execution": {
     "iopub.execute_input": "2023-11-06T15:50:04.246131Z",
     "iopub.status.busy": "2023-11-06T15:50:04.245721Z",
     "iopub.status.idle": "2023-11-06T15:50:04.255597Z",
     "shell.execute_reply": "2023-11-06T15:50:04.254403Z"
    },
    "executionInfo": {
     "elapsed": 11,
     "status": "ok",
     "timestamp": 1699021154021,
     "user": {
      "displayName": "nick wils",
      "userId": "09906672494021070283"
     },
     "user_tz": -60
    },
    "id": "529196a4",
    "papermill": {
     "duration": 0.033347,
     "end_time": "2023-11-06T15:50:04.258191",
     "exception": false,
     "start_time": "2023-11-06T15:50:04.224844",
     "status": "completed"
    },
    "tags": []
   },
   "outputs": [],
   "source": [
    "transactions['purchased'] = 1"
   ]
  },
  {
   "cell_type": "code",
   "execution_count": 22,
   "id": "3ec23fae",
   "metadata": {
    "execution": {
     "iopub.execute_input": "2023-11-06T15:50:04.299066Z",
     "iopub.status.busy": "2023-11-06T15:50:04.298610Z",
     "iopub.status.idle": "2023-11-06T15:50:04.817242Z",
     "shell.execute_reply": "2023-11-06T15:50:04.816091Z"
    },
    "executionInfo": {
     "elapsed": 630,
     "status": "ok",
     "timestamp": 1699021154641,
     "user": {
      "displayName": "nick wils",
      "userId": "09906672494021070283"
     },
     "user_tz": -60
    },
    "id": "421a601e",
    "papermill": {
     "duration": 0.542483,
     "end_time": "2023-11-06T15:50:04.820086",
     "exception": false,
     "start_time": "2023-11-06T15:50:04.277603",
     "status": "completed"
    },
    "tags": []
   },
   "outputs": [],
   "source": [
    "data = pd.concat([transactions, candidates_last_purchase, candidates_bestsellers])\n",
    "data.purchased.fillna(0, inplace=True)"
   ]
  },
  {
   "cell_type": "code",
   "execution_count": 23,
   "id": "eadace1e",
   "metadata": {
    "execution": {
     "iopub.execute_input": "2023-11-06T15:50:04.861529Z",
     "iopub.status.busy": "2023-11-06T15:50:04.861097Z",
     "iopub.status.idle": "2023-11-06T15:50:10.994439Z",
     "shell.execute_reply": "2023-11-06T15:50:10.993108Z"
    },
    "executionInfo": {
     "elapsed": 6444,
     "status": "ok",
     "timestamp": 1699021161077,
     "user": {
      "displayName": "nick wils",
      "userId": "09906672494021070283"
     },
     "user_tz": -60
    },
    "id": "9f4e8cdb",
    "papermill": {
     "duration": 6.157011,
     "end_time": "2023-11-06T15:50:10.997305",
     "exception": false,
     "start_time": "2023-11-06T15:50:04.840294",
     "status": "completed"
    },
    "tags": []
   },
   "outputs": [],
   "source": [
    "data.drop_duplicates(['customer_id', 'article_id', 'week'], inplace=True)"
   ]
  },
  {
   "cell_type": "code",
   "execution_count": 24,
   "id": "ee0ae302",
   "metadata": {
    "execution": {
     "iopub.execute_input": "2023-11-06T15:50:11.038436Z",
     "iopub.status.busy": "2023-11-06T15:50:11.038016Z",
     "iopub.status.idle": "2023-11-06T15:50:11.092277Z",
     "shell.execute_reply": "2023-11-06T15:50:11.091035Z"
    },
    "executionInfo": {
     "elapsed": 39,
     "status": "ok",
     "timestamp": 1699021161080,
     "user": {
      "displayName": "nick wils",
      "userId": "09906672494021070283"
     },
     "user_tz": -60
    },
    "id": "95414c83",
    "outputId": "0aa85517-00f2-45b4-8a4a-1b314d82ffc4",
    "papermill": {
     "duration": 0.078264,
     "end_time": "2023-11-06T15:50:11.095312",
     "exception": false,
     "start_time": "2023-11-06T15:50:11.017048",
     "status": "completed"
    },
    "tags": []
   },
   "outputs": [
    {
     "data": {
      "text/plain": [
       "0.13607582749165664"
      ]
     },
     "execution_count": 24,
     "metadata": {},
     "output_type": "execute_result"
    }
   ],
   "source": [
    "data.purchased.mean()"
   ]
  },
  {
   "cell_type": "markdown",
   "id": "60b45ddd",
   "metadata": {
    "id": "4d35aac7",
    "papermill": {
     "duration": 0.019373,
     "end_time": "2023-11-06T15:50:11.134751",
     "exception": false,
     "start_time": "2023-11-06T15:50:11.115378",
     "status": "completed"
    },
    "tags": []
   },
   "source": [
    "### Add bestseller information"
   ]
  },
  {
   "cell_type": "code",
   "execution_count": 25,
   "id": "22f807bb",
   "metadata": {
    "execution": {
     "iopub.execute_input": "2023-11-06T15:50:11.175868Z",
     "iopub.status.busy": "2023-11-06T15:50:11.175248Z",
     "iopub.status.idle": "2023-11-06T15:50:13.749375Z",
     "shell.execute_reply": "2023-11-06T15:50:13.747996Z"
    },
    "executionInfo": {
     "elapsed": 3395,
     "status": "ok",
     "timestamp": 1699021164442,
     "user": {
      "displayName": "nick wils",
      "userId": "09906672494021070283"
     },
     "user_tz": -60
    },
    "id": "ab6d0095",
    "papermill": {
     "duration": 2.598103,
     "end_time": "2023-11-06T15:50:13.752360",
     "exception": false,
     "start_time": "2023-11-06T15:50:11.154257",
     "status": "completed"
    },
    "tags": []
   },
   "outputs": [],
   "source": [
    "data = pd.merge(\n",
    "    data,\n",
    "    bestsellers_previous_week[['week', 'article_id', 'bestseller_rank']],\n",
    "    on=['week', 'article_id'],\n",
    "    how='left'\n",
    ")"
   ]
  },
  {
   "cell_type": "code",
   "execution_count": 26,
   "id": "f3f4a886",
   "metadata": {
    "execution": {
     "iopub.execute_input": "2023-11-06T15:50:13.795322Z",
     "iopub.status.busy": "2023-11-06T15:50:13.794494Z",
     "iopub.status.idle": "2023-11-06T15:50:15.403933Z",
     "shell.execute_reply": "2023-11-06T15:50:15.402589Z"
    },
    "executionInfo": {
     "elapsed": 2042,
     "status": "ok",
     "timestamp": 1699021166476,
     "user": {
      "displayName": "nick wils",
      "userId": "09906672494021070283"
     },
     "user_tz": -60
    },
    "id": "7b18597e",
    "papermill": {
     "duration": 1.634369,
     "end_time": "2023-11-06T15:50:15.406812",
     "exception": false,
     "start_time": "2023-11-06T15:50:13.772443",
     "status": "completed"
    },
    "tags": []
   },
   "outputs": [],
   "source": [
    "data = data[data.week != data.week.min()]\n",
    "data.bestseller_rank.fillna(999, inplace=True)"
   ]
  },
  {
   "cell_type": "code",
   "execution_count": 27,
   "id": "c0cebb61",
   "metadata": {
    "execution": {
     "iopub.execute_input": "2023-11-06T15:50:15.448812Z",
     "iopub.status.busy": "2023-11-06T15:50:15.447737Z",
     "iopub.status.idle": "2023-11-06T15:50:36.770691Z",
     "shell.execute_reply": "2023-11-06T15:50:36.769419Z"
    },
    "executionInfo": {
     "elapsed": 12548,
     "status": "ok",
     "timestamp": 1699021179017,
     "user": {
      "displayName": "nick wils",
      "userId": "09906672494021070283"
     },
     "user_tz": -60
    },
    "id": "7d9bb629",
    "papermill": {
     "duration": 21.346744,
     "end_time": "2023-11-06T15:50:36.773660",
     "exception": false,
     "start_time": "2023-11-06T15:50:15.426916",
     "status": "completed"
    },
    "tags": []
   },
   "outputs": [],
   "source": [
    "data = pd.merge(data, articles, on='article_id', how='left')\n",
    "data = pd.merge(data, customers, on='customer_id', how='left')"
   ]
  },
  {
   "cell_type": "code",
   "execution_count": 28,
   "id": "78d9a588",
   "metadata": {
    "execution": {
     "iopub.execute_input": "2023-11-06T15:50:36.815313Z",
     "iopub.status.busy": "2023-11-06T15:50:36.814928Z",
     "iopub.status.idle": "2023-11-06T15:50:47.177874Z",
     "shell.execute_reply": "2023-11-06T15:50:47.176677Z"
    },
    "executionInfo": {
     "elapsed": 7950,
     "status": "ok",
     "timestamp": 1699021186933,
     "user": {
      "displayName": "nick wils",
      "userId": "09906672494021070283"
     },
     "user_tz": -60
    },
    "id": "1560db63",
    "papermill": {
     "duration": 10.387017,
     "end_time": "2023-11-06T15:50:47.180476",
     "exception": false,
     "start_time": "2023-11-06T15:50:36.793459",
     "status": "completed"
    },
    "tags": []
   },
   "outputs": [],
   "source": [
    "data.sort_values(['week', 'customer_id'], inplace=True)\n",
    "data.reset_index(drop=True, inplace=True)"
   ]
  },
  {
   "cell_type": "code",
   "execution_count": 29,
   "id": "50163280",
   "metadata": {
    "execution": {
     "iopub.execute_input": "2023-11-06T15:50:47.221508Z",
     "iopub.status.busy": "2023-11-06T15:50:47.221119Z",
     "iopub.status.idle": "2023-11-06T15:51:01.639178Z",
     "shell.execute_reply": "2023-11-06T15:51:01.638000Z"
    },
    "executionInfo": {
     "elapsed": 5910,
     "status": "ok",
     "timestamp": 1699021192840,
     "user": {
      "displayName": "nick wils",
      "userId": "09906672494021070283"
     },
     "user_tz": -60
    },
    "id": "05114189",
    "papermill": {
     "duration": 14.441863,
     "end_time": "2023-11-06T15:51:01.641984",
     "exception": false,
     "start_time": "2023-11-06T15:50:47.200121",
     "status": "completed"
    },
    "tags": []
   },
   "outputs": [],
   "source": [
    "train = data[data.week != test_week]\n",
    "test = data[data.week==test_week].drop_duplicates(['customer_id', 'article_id', 'sales_channel_id']).copy()"
   ]
  },
  {
   "cell_type": "code",
   "execution_count": 30,
   "id": "98cda98d",
   "metadata": {
    "execution": {
     "iopub.execute_input": "2023-11-06T15:51:01.683507Z",
     "iopub.status.busy": "2023-11-06T15:51:01.682782Z",
     "iopub.status.idle": "2023-11-06T15:51:02.684098Z",
     "shell.execute_reply": "2023-11-06T15:51:02.682546Z"
    },
    "executionInfo": {
     "elapsed": 996,
     "status": "ok",
     "timestamp": 1699021193784,
     "user": {
      "displayName": "nick wils",
      "userId": "09906672494021070283"
     },
     "user_tz": -60
    },
    "id": "d32dfd01",
    "papermill": {
     "duration": 1.026382,
     "end_time": "2023-11-06T15:51:02.687964",
     "exception": false,
     "start_time": "2023-11-06T15:51:01.661582",
     "status": "completed"
    },
    "tags": []
   },
   "outputs": [],
   "source": [
    "train_baskets = train.groupby(['week', 'customer_id'])['article_id'].count().values"
   ]
  },
  {
   "cell_type": "code",
   "execution_count": 31,
   "id": "f05dbb60",
   "metadata": {
    "execution": {
     "iopub.execute_input": "2023-11-06T15:51:02.738806Z",
     "iopub.status.busy": "2023-11-06T15:51:02.738341Z",
     "iopub.status.idle": "2023-11-06T15:51:02.745850Z",
     "shell.execute_reply": "2023-11-06T15:51:02.744451Z"
    },
    "executionInfo": {
     "elapsed": 11,
     "status": "ok",
     "timestamp": 1699021193785,
     "user": {
      "displayName": "nick wils",
      "userId": "09906672494021070283"
     },
     "user_tz": -60
    },
    "id": "2b027da8",
    "papermill": {
     "duration": 0.03248,
     "end_time": "2023-11-06T15:51:02.748612",
     "exception": false,
     "start_time": "2023-11-06T15:51:02.716132",
     "status": "completed"
    },
    "tags": []
   },
   "outputs": [],
   "source": [
    "columns_to_use = ['article_id', 'product_type_no', 'graphical_appearance_no', 'colour_group_code', 'perceived_colour_value_id',\n",
    "'perceived_colour_master_id', 'department_no', 'index_code',\n",
    "'index_group_no', 'section_no', 'garment_group_no', 'FN', 'Active',\n",
    "'club_member_status', 'fashion_news_frequency', 'age', 'postal_code', 'bestseller_rank',\n",
    "'buys_womens_clothing', 'buys_mens_clothes', 'buys_kid_baby_clothes', 'season',\n",
    "'fabric_jeans','fabric_cotton', 'fabric_wool', 'fabric_polyester', 'fabric_silk', 'fabric_denim', 'fabric_linen', 'fabric_spandex', 'fabric_rayon', 'fabric_nylon', 'fabric_leather', 'fabric_suede']\n",
    "#  'year', 'month',"
   ]
  },
  {
   "cell_type": "code",
   "execution_count": 32,
   "id": "4d2df724",
   "metadata": {
    "execution": {
     "iopub.execute_input": "2023-11-06T15:51:02.791157Z",
     "iopub.status.busy": "2023-11-06T15:51:02.790491Z",
     "iopub.status.idle": "2023-11-06T15:51:04.145366Z",
     "shell.execute_reply": "2023-11-06T15:51:04.143843Z"
    },
    "executionInfo": {
     "elapsed": 884,
     "status": "ok",
     "timestamp": 1699021194659,
     "user": {
      "displayName": "nick wils",
      "userId": "09906672494021070283"
     },
     "user_tz": -60
    },
    "id": "120aecab",
    "outputId": "ac17e6b9-f070-44a7-a804-861394e9d164",
    "papermill": {
     "duration": 1.379732,
     "end_time": "2023-11-06T15:51:04.148199",
     "exception": false,
     "start_time": "2023-11-06T15:51:02.768467",
     "status": "completed"
    },
    "tags": []
   },
   "outputs": [
    {
     "name": "stdout",
     "output_type": "stream",
     "text": [
      "CPU times: user 608 ms, sys: 738 ms, total: 1.35 s\n",
      "Wall time: 1.35 s\n"
     ]
    }
   ],
   "source": [
    "%%time\n",
    "\n",
    "train_X = train[columns_to_use]\n",
    "train_y = train['purchased']\n",
    "\n",
    "test_X = test[columns_to_use]"
   ]
  },
  {
   "cell_type": "markdown",
   "id": "8920446e",
   "metadata": {
    "id": "82745ed2",
    "papermill": {
     "duration": 0.020873,
     "end_time": "2023-11-06T15:51:04.189160",
     "exception": false,
     "start_time": "2023-11-06T15:51:04.168287",
     "status": "completed"
    },
    "tags": []
   },
   "source": [
    "# Model training"
   ]
  },
  {
   "cell_type": "code",
   "execution_count": 33,
   "id": "de44fec8",
   "metadata": {
    "execution": {
     "iopub.execute_input": "2023-11-06T15:51:04.231236Z",
     "iopub.status.busy": "2023-11-06T15:51:04.230842Z",
     "iopub.status.idle": "2023-11-06T15:51:05.649928Z",
     "shell.execute_reply": "2023-11-06T15:51:05.648685Z"
    },
    "executionInfo": {
     "elapsed": 1538,
     "status": "ok",
     "timestamp": 1699021196194,
     "user": {
      "displayName": "nick wils",
      "userId": "09906672494021070283"
     },
     "user_tz": -60
    },
    "id": "1e949a9d",
    "papermill": {
     "duration": 1.443474,
     "end_time": "2023-11-06T15:51:05.652760",
     "exception": false,
     "start_time": "2023-11-06T15:51:04.209286",
     "status": "completed"
    },
    "tags": []
   },
   "outputs": [],
   "source": [
    "from lightgbm.sklearn import LGBMRanker"
   ]
  },
  {
   "cell_type": "code",
   "execution_count": 34,
   "id": "9f9de36e",
   "metadata": {
    "execution": {
     "iopub.execute_input": "2023-11-06T15:51:05.694584Z",
     "iopub.status.busy": "2023-11-06T15:51:05.694140Z",
     "iopub.status.idle": "2023-11-06T15:51:05.700497Z",
     "shell.execute_reply": "2023-11-06T15:51:05.699327Z"
    },
    "executionInfo": {
     "elapsed": 4,
     "status": "ok",
     "timestamp": 1699021196194,
     "user": {
      "displayName": "nick wils",
      "userId": "09906672494021070283"
     },
     "user_tz": -60
    },
    "id": "cd60dded",
    "papermill": {
     "duration": 0.030291,
     "end_time": "2023-11-06T15:51:05.703020",
     "exception": false,
     "start_time": "2023-11-06T15:51:05.672729",
     "status": "completed"
    },
    "tags": []
   },
   "outputs": [],
   "source": [
    "ranker = LGBMRanker(\n",
    "    objective=\"lambdarank\",\n",
    "    metric=\"ndcg\",\n",
    "    boosting_type=\"dart\",\n",
    "    n_estimators=1,\n",
    "    importance_type='gain',\n",
    "    verbose=10\n",
    ")"
   ]
  },
  {
   "cell_type": "code",
   "execution_count": 35,
   "id": "2db8a51e",
   "metadata": {
    "execution": {
     "iopub.execute_input": "2023-11-06T15:51:05.746076Z",
     "iopub.status.busy": "2023-11-06T15:51:05.745661Z",
     "iopub.status.idle": "2023-11-06T15:51:30.593758Z",
     "shell.execute_reply": "2023-11-06T15:51:30.591855Z"
    },
    "id": "25f040a4",
    "papermill": {
     "duration": 24.876545,
     "end_time": "2023-11-06T15:51:30.599756",
     "exception": false,
     "start_time": "2023-11-06T15:51:05.723211",
     "status": "completed"
    },
    "tags": []
   },
   "outputs": [
    {
     "name": "stdout",
     "output_type": "stream",
     "text": [
      "[LightGBM] [Debug] Dataset::GetMultiBinFromSparseFeatures: sparse rate 0.916047\n",
      "[LightGBM] [Debug] Dataset::GetMultiBinFromAllFeatures: sparse rate 0.509258\n",
      "[LightGBM] [Debug] init for col-wise cost 1.038187 seconds, init for row-wise cost 6.832187 seconds\n",
      "[LightGBM] [Warning] Auto-choosing row-wise multi-threading, the overhead of testing was 2.316111 seconds.\n",
      "You can set `force_row_wise=true` to remove the overhead.\n",
      "And if memory is not enough, you can set `force_col_wise=true`.\n",
      "[LightGBM] [Debug] Using Sparse Multi-Val Bin\n",
      "[LightGBM] [Info] Total Bins 1107\n",
      "[LightGBM] [Info] Number of data points in the train set: 11381612, number of used features: 33\n",
      "[LightGBM] [Debug] Trained a tree with leaves = 31 and depth = 10\n",
      "CPU times: user 47.2 s, sys: 8.18 s, total: 55.4 s\n",
      "Wall time: 24.8 s\n"
     ]
    }
   ],
   "source": [
    "%%time\n",
    "\n",
    "ranker = ranker.fit(\n",
    "    train_X,\n",
    "    train_y,\n",
    "    group=train_baskets,\n",
    ")"
   ]
  },
  {
   "cell_type": "code",
   "execution_count": 36,
   "id": "6d7d4254",
   "metadata": {
    "execution": {
     "iopub.execute_input": "2023-11-06T15:51:30.702785Z",
     "iopub.status.busy": "2023-11-06T15:51:30.698074Z",
     "iopub.status.idle": "2023-11-06T15:51:30.739500Z",
     "shell.execute_reply": "2023-11-06T15:51:30.736783Z"
    },
    "id": "4b6b5a94",
    "papermill": {
     "duration": 0.111694,
     "end_time": "2023-11-06T15:51:30.748724",
     "exception": false,
     "start_time": "2023-11-06T15:51:30.637030",
     "status": "completed"
    },
    "tags": []
   },
   "outputs": [
    {
     "name": "stdout",
     "output_type": "stream",
     "text": [
      "bestseller_rank 0.9959464973582318\n",
      "season 0.0028884476828523694\n",
      "buys_kid_baby_clothes 0.00048602297535493475\n",
      "age 0.0002271913563462163\n",
      "buys_mens_clothes 0.00017845578608163687\n",
      "club_member_status 5.026178733690465e-05\n",
      "postal_code 4.3260036177845566e-05\n",
      "section_no 4.128856467573397e-05\n",
      "product_type_no 3.940360791478877e-05\n",
      "fabric_wool 2.833330143370025e-05\n",
      "garment_group_no 2.145876785818854e-05\n",
      "Active 1.6150356488640473e-05\n",
      "perceived_colour_value_id 1.2832119006626338e-05\n",
      "fashion_news_frequency 1.2347827731112598e-05\n",
      "index_group_no 8.048472509456437e-06\n",
      "department_no 0.0\n",
      "index_code 0.0\n",
      "perceived_colour_master_id 0.0\n",
      "colour_group_code 0.0\n",
      "graphical_appearance_no 0.0\n",
      "FN 0.0\n",
      "fabric_suede 0.0\n",
      "fabric_leather 0.0\n",
      "buys_womens_clothing 0.0\n",
      "fabric_jeans 0.0\n",
      "fabric_cotton 0.0\n",
      "fabric_polyester 0.0\n",
      "fabric_silk 0.0\n",
      "fabric_denim 0.0\n",
      "fabric_linen 0.0\n",
      "fabric_spandex 0.0\n",
      "fabric_rayon 0.0\n",
      "fabric_nylon 0.0\n",
      "article_id 0.0\n"
     ]
    }
   ],
   "source": [
    "for i in ranker.feature_importances_.argsort()[::-1]:\n",
    "    print(columns_to_use[i], ranker.feature_importances_[i]/ranker.feature_importances_.sum())"
   ]
  },
  {
   "cell_type": "markdown",
   "id": "f6a816ea",
   "metadata": {
    "id": "00faf029",
    "papermill": {
     "duration": 0.058775,
     "end_time": "2023-11-06T15:51:30.879638",
     "exception": false,
     "start_time": "2023-11-06T15:51:30.820863",
     "status": "completed"
    },
    "tags": []
   },
   "source": [
    "# Calculate predictions"
   ]
  },
  {
   "cell_type": "code",
   "execution_count": 37,
   "id": "7e61cc3e",
   "metadata": {
    "execution": {
     "iopub.execute_input": "2023-11-06T15:51:31.023565Z",
     "iopub.status.busy": "2023-11-06T15:51:31.023186Z",
     "iopub.status.idle": "2023-11-06T15:52:02.615214Z",
     "shell.execute_reply": "2023-11-06T15:52:02.613424Z"
    },
    "id": "7e862846",
    "papermill": {
     "duration": 31.667062,
     "end_time": "2023-11-06T15:52:02.618127",
     "exception": false,
     "start_time": "2023-11-06T15:51:30.951065",
     "status": "completed"
    },
    "tags": []
   },
   "outputs": [
    {
     "name": "stdout",
     "output_type": "stream",
     "text": [
      "CPU times: user 0 ns, sys: 19 µs, total: 19 µs\n",
      "Wall time: 37.4 µs\n"
     ]
    }
   ],
   "source": [
    "%time\n",
    "\n",
    "test['preds'] = ranker.predict(test_X)\n",
    "\n",
    "c_id2predicted_article_ids = test \\\n",
    "    .sort_values(['customer_id', 'preds'], ascending=False) \\\n",
    "    .groupby('customer_id')['article_id'].apply(list).to_dict()\n",
    "\n",
    "bestsellers_last_week = \\\n",
    "    bestsellers_previous_week[bestsellers_previous_week.week == bestsellers_previous_week.week.max()]['article_id'].tolist()"
   ]
  },
  {
   "cell_type": "markdown",
   "id": "48aa8c4f",
   "metadata": {
    "id": "de045e98",
    "papermill": {
     "duration": 0.027767,
     "end_time": "2023-11-06T15:52:02.670555",
     "exception": false,
     "start_time": "2023-11-06T15:52:02.642788",
     "status": "completed"
    },
    "tags": []
   },
   "source": [
    "# Create submission"
   ]
  },
  {
   "cell_type": "code",
   "execution_count": 38,
   "id": "46336885",
   "metadata": {
    "execution": {
     "iopub.execute_input": "2023-11-06T15:52:02.728047Z",
     "iopub.status.busy": "2023-11-06T15:52:02.727315Z",
     "iopub.status.idle": "2023-11-06T15:52:09.691363Z",
     "shell.execute_reply": "2023-11-06T15:52:09.690173Z"
    },
    "id": "43e4fda7",
    "papermill": {
     "duration": 6.994187,
     "end_time": "2023-11-06T15:52:09.694043",
     "exception": false,
     "start_time": "2023-11-06T15:52:02.699856",
     "status": "completed"
    },
    "tags": []
   },
   "outputs": [],
   "source": [
    "sub = pd.read_csv('/kaggle/input/h-and-m-personalized-fashion-recommendations/sample_submission.csv')"
   ]
  },
  {
   "cell_type": "code",
   "execution_count": 39,
   "id": "40864fff",
   "metadata": {
    "execution": {
     "iopub.execute_input": "2023-11-06T15:52:09.738954Z",
     "iopub.status.busy": "2023-11-06T15:52:09.738253Z",
     "iopub.status.idle": "2023-11-06T15:52:17.613370Z",
     "shell.execute_reply": "2023-11-06T15:52:17.612117Z"
    },
    "id": "a35ac969",
    "papermill": {
     "duration": 7.90014,
     "end_time": "2023-11-06T15:52:17.615853",
     "exception": false,
     "start_time": "2023-11-06T15:52:09.715713",
     "status": "completed"
    },
    "tags": []
   },
   "outputs": [
    {
     "name": "stdout",
     "output_type": "stream",
     "text": [
      "CPU times: user 7.62 s, sys: 250 ms, total: 7.87 s\n",
      "Wall time: 7.87 s\n"
     ]
    }
   ],
   "source": [
    "%%time\n",
    "preds = []\n",
    "for c_id in customer_hex_id_to_int(sub.customer_id):\n",
    "    pred = c_id2predicted_article_ids.get(c_id, [])\n",
    "    pred = pred + bestsellers_last_week\n",
    "    preds.append(pred[:12])"
   ]
  },
  {
   "cell_type": "code",
   "execution_count": 40,
   "id": "183daca1",
   "metadata": {
    "execution": {
     "iopub.execute_input": "2023-11-06T15:52:17.661187Z",
     "iopub.status.busy": "2023-11-06T15:52:17.660346Z",
     "iopub.status.idle": "2023-11-06T15:52:24.990669Z",
     "shell.execute_reply": "2023-11-06T15:52:24.989608Z"
    },
    "id": "3f8f9304",
    "papermill": {
     "duration": 7.355891,
     "end_time": "2023-11-06T15:52:24.993337",
     "exception": false,
     "start_time": "2023-11-06T15:52:17.637446",
     "status": "completed"
    },
    "tags": []
   },
   "outputs": [],
   "source": [
    "preds = [' '.join(['0' + str(p) for p in ps]) for ps in preds]\n",
    "sub.prediction = preds"
   ]
  },
  {
   "cell_type": "code",
   "execution_count": 41,
   "id": "b0b377c2",
   "metadata": {
    "execution": {
     "iopub.execute_input": "2023-11-06T15:52:25.038350Z",
     "iopub.status.busy": "2023-11-06T15:52:25.037960Z",
     "iopub.status.idle": "2023-11-06T15:52:57.073166Z",
     "shell.execute_reply": "2023-11-06T15:52:57.072110Z"
    },
    "id": "62d8338d",
    "papermill": {
     "duration": 32.060918,
     "end_time": "2023-11-06T15:52:57.076037",
     "exception": false,
     "start_time": "2023-11-06T15:52:25.015119",
     "status": "completed"
    },
    "tags": []
   },
   "outputs": [],
   "source": [
    "sub_name = 'preprocessed_model_submission'\n",
    "sub.to_csv(f'{sub_name}.csv.gz', index=False)"
   ]
  }
 ],
 "metadata": {
  "kernelspec": {
   "display_name": "Python 3",
   "language": "python",
   "name": "python3"
  },
  "language_info": {
   "codemirror_mode": {
    "name": "ipython",
    "version": 3
   },
   "file_extension": ".py",
   "mimetype": "text/x-python",
   "name": "python",
   "nbconvert_exporter": "python",
   "pygments_lexer": "ipython3",
   "version": "3.10.12"
  },
  "papermill": {
   "default_parameters": {},
   "duration": 257.167698,
   "end_time": "2023-11-06T15:52:59.921014",
   "environment_variables": {},
   "exception": null,
   "input_path": "__notebook__.ipynb",
   "output_path": "__notebook__.ipynb",
   "parameters": {},
   "start_time": "2023-11-06T15:48:42.753316",
   "version": "2.4.0"
  }
 },
 "nbformat": 4,
 "nbformat_minor": 5
}
