{
 "cells": [
  {
   "cell_type": "markdown",
   "id": "470dec02",
   "metadata": {
    "id": "6f21ab04",
    "papermill": {
     "duration": 0.013832,
     "end_time": "2023-12-21T22:45:56.363847",
     "exception": false,
     "start_time": "2023-12-21T22:45:56.350015",
     "status": "completed"
    },
    "tags": []
   },
   "source": [
    "Based on the baseline \"Radek's LGBMRanker starter-pack”: https://www.kaggle.com/code/marcogorelli/radek-s-lgbmranker-starter-pack\n"
   ]
  },
  {
   "cell_type": "markdown",
   "id": "48f57189",
   "metadata": {
    "papermill": {
     "duration": 0.013542,
     "end_time": "2023-12-21T22:45:56.390936",
     "exception": false,
     "start_time": "2023-12-21T22:45:56.377394",
     "status": "completed"
    },
    "tags": []
   },
   "source": [
    "# Helper functions"
   ]
  },
  {
   "cell_type": "code",
   "execution_count": 1,
   "id": "d6e95345",
   "metadata": {
    "execution": {
     "iopub.execute_input": "2023-12-21T22:45:56.419283Z",
     "iopub.status.busy": "2023-12-21T22:45:56.418644Z",
     "iopub.status.idle": "2023-12-21T22:45:56.430520Z",
     "shell.execute_reply": "2023-12-21T22:45:56.429098Z"
    },
    "executionInfo": {
     "elapsed": 8,
     "status": "ok",
     "timestamp": 1699021070415,
     "user": {
      "displayName": "nick wils",
      "userId": "09906672494021070283"
     },
     "user_tz": -60
    },
    "id": "4a7e7212",
    "papermill": {
     "duration": 0.028669,
     "end_time": "2023-12-21T22:45:56.433004",
     "exception": false,
     "start_time": "2023-12-21T22:45:56.404335",
     "status": "completed"
    },
    "tags": []
   },
   "outputs": [],
   "source": [
    "import numpy as np\n",
    "\n",
    "def apk(actual, predicted, k=10):\n",
    "    \"\"\"\n",
    "    Computes the average precision at k.\n",
    "\n",
    "    This function computes the average prescision at k between two lists of\n",
    "    items.\n",
    "\n",
    "    Parameters\n",
    "    ----------\n",
    "    actual : list\n",
    "             A list of elements that are to be predicted (order doesn't matter)\n",
    "    predicted : list\n",
    "                A list of predicted elements (order does matter)\n",
    "    k : int, optional\n",
    "        The maximum number of predicted elements\n",
    "\n",
    "    Returns\n",
    "    -------\n",
    "    score : double\n",
    "            The average precision at k over the input lists\n",
    "\n",
    "    \"\"\"\n",
    "    if len(predicted)>k:\n",
    "        predicted = predicted[:k]\n",
    "\n",
    "    score = 0.0\n",
    "    num_hits = 0.0\n",
    "\n",
    "    for i,p in enumerate(predicted):\n",
    "        if p in actual and p not in predicted[:i]:\n",
    "            num_hits += 1.0\n",
    "            score += num_hits / (i+1.0)\n",
    "\n",
    "    if not actual:\n",
    "        return 0.0\n",
    "\n",
    "    return score / min(len(actual), k)\n",
    "\n",
    "def mapk(actual, predicted, k=10):\n",
    "    \"\"\"\n",
    "    Computes the mean average precision at k.\n",
    "\n",
    "    This function computes the mean average prescision at k between two lists\n",
    "    of lists of items.\n",
    "\n",
    "    Parameters\n",
    "    ----------\n",
    "    actual : list\n",
    "             A list of lists of elements that are to be predicted\n",
    "             (order doesn't matter in the lists)\n",
    "    predicted : list\n",
    "                A list of lists of predicted elements\n",
    "                (order matters in the lists)\n",
    "    k : int, optional\n",
    "        The maximum number of predicted elements\n",
    "\n",
    "    Returns\n",
    "    -------\n",
    "    score : double\n",
    "            The mean average precision at k over the input lists\n",
    "\n",
    "    \"\"\"\n",
    "    return np.mean([apk(a,p,k) for a,p in zip(actual, predicted)])"
   ]
  },
  {
   "cell_type": "code",
   "execution_count": 2,
   "id": "47252919",
   "metadata": {
    "execution": {
     "iopub.execute_input": "2023-12-21T22:45:56.462207Z",
     "iopub.status.busy": "2023-12-21T22:45:56.461827Z",
     "iopub.status.idle": "2023-12-21T22:45:57.765619Z",
     "shell.execute_reply": "2023-12-21T22:45:57.764121Z"
    },
    "executionInfo": {
     "elapsed": 1622,
     "status": "ok",
     "timestamp": 1699021072031,
     "user": {
      "displayName": "nick wils",
      "userId": "09906672494021070283"
     },
     "user_tz": -60
    },
    "id": "85ef6566",
    "papermill": {
     "duration": 1.321004,
     "end_time": "2023-12-21T22:45:57.767835",
     "exception": false,
     "start_time": "2023-12-21T22:45:56.446831",
     "status": "completed"
    },
    "tags": []
   },
   "outputs": [],
   "source": [
    "from sklearn.base import BaseEstimator, TransformerMixin\n",
    "import numpy as np\n",
    "\n",
    "# https://www.kaggle.com/c/h-and-m-personalized-fashion-recommendations/discussion/308635\n",
    "def customer_hex_id_to_int(series):\n",
    "    return series.str[-16:].apply(hex_id_to_int)\n",
    "\n",
    "def hex_id_to_int(str):\n",
    "    return int(str[-16:], 16)\n",
    "\n",
    "def article_id_str_to_int(series):\n",
    "    return series.astype('int32')\n",
    "\n",
    "def article_id_int_to_str(series):\n",
    "    return '0' + series.astype('str')\n",
    "\n",
    "class Categorize(BaseEstimator, TransformerMixin):\n",
    "    def __init__(self, min_examples=0):\n",
    "        self.min_examples = min_examples\n",
    "        self.categories = []\n",
    "\n",
    "    def fit(self, X):\n",
    "        for i in range(X.shape[1]):\n",
    "            vc = X.iloc[:, i].value_counts()\n",
    "            self.categories.append(vc[vc > self.min_examples].index.tolist())\n",
    "        return self\n",
    "\n",
    "    def transform(self, X):\n",
    "        data = {X.columns[i]: pd.Categorical(X.iloc[:, i], categories=self.categories[i]).codes for i in range(X.shape[1])}\n",
    "        return pd.DataFrame(data=data)\n",
    "\n",
    "\n",
    "def calculate_apk(list_of_preds, list_of_gts):\n",
    "    # for fast validation this can be changed to operate on dicts of {'cust_id_int': [art_id_int, ...]}\n",
    "    # using 'data/val_week_purchases_by_cust.pkl'\n",
    "    apks = []\n",
    "    for preds, gt in zip(list_of_preds, list_of_gts):\n",
    "        apks.append(apk(gt, preds, k=12))\n",
    "    return np.mean(apks)\n",
    "\n",
    "def eval_sub(sub_csv, skip_cust_with_no_purchases=True):\n",
    "    sub=pd.read_csv(sub_csv)\n",
    "    validation_set=pd.read_parquet('data/validation_ground_truth.parquet')\n",
    "\n",
    "    apks = []\n",
    "\n",
    "    no_purchases_pattern = []\n",
    "    for pred, gt in zip(sub.prediction.str.split(), validation_set.prediction.str.split()):\n",
    "        if skip_cust_with_no_purchases and (gt == no_purchases_pattern): continue\n",
    "        apks.append(apk(gt, pred, k=12))\n",
    "    return np.mean(apks)"
   ]
  },
  {
   "cell_type": "code",
   "execution_count": 3,
   "id": "9411e99a",
   "metadata": {
    "execution": {
     "iopub.execute_input": "2023-12-21T22:45:57.796863Z",
     "iopub.status.busy": "2023-12-21T22:45:57.796369Z",
     "iopub.status.idle": "2023-12-21T22:45:57.804035Z",
     "shell.execute_reply": "2023-12-21T22:45:57.802995Z"
    },
    "papermill": {
     "duration": 0.024787,
     "end_time": "2023-12-21T22:45:57.806216",
     "exception": false,
     "start_time": "2023-12-21T22:45:57.781429",
     "status": "completed"
    },
    "tags": []
   },
   "outputs": [],
   "source": [
    "def precision(actual, predicted, k=12):\n",
    "    if len(predicted) > k:\n",
    "        predicted = predicted[:k]\n",
    "\n",
    "    correct_predictions = [p for p in predicted if p in actual]\n",
    "\n",
    "    return len(correct_predictions) / len(predicted)\n",
    "\n",
    "def recall(actual, predicted, k=12):\n",
    "    if len(predicted) > k:\n",
    "        predicted = predicted[:k]\n",
    "\n",
    "    correct_predictions = [p for p in predicted if p in actual]\n",
    "\n",
    "    return len(correct_predictions) / len(actual)\n",
    "\n",
    "def precision12(actual, predicted, k=12):\n",
    "    return np.mean([precision(a,p,k) for a,p in zip(actual, predicted)])\n",
    "\n",
    "def recall12(actual, predicted, k=12):\n",
    "    return np.mean([recall(a,p,k) for a,p in zip(actual, predicted)])"
   ]
  },
  {
   "cell_type": "code",
   "execution_count": 4,
   "id": "88048cf2",
   "metadata": {
    "execution": {
     "iopub.execute_input": "2023-12-21T22:45:57.836293Z",
     "iopub.status.busy": "2023-12-21T22:45:57.835624Z",
     "iopub.status.idle": "2023-12-21T22:45:58.663969Z",
     "shell.execute_reply": "2023-12-21T22:45:58.662707Z"
    },
    "executionInfo": {
     "elapsed": 1009,
     "status": "ok",
     "timestamp": 1699021073032,
     "user": {
      "displayName": "nick wils",
      "userId": "09906672494021070283"
     },
     "user_tz": -60
    },
    "id": "78c7a34c",
    "papermill": {
     "duration": 0.846392,
     "end_time": "2023-12-21T22:45:58.666455",
     "exception": false,
     "start_time": "2023-12-21T22:45:57.820063",
     "status": "completed"
    },
    "tags": []
   },
   "outputs": [],
   "source": [
    "import pandas as pd"
   ]
  },
  {
   "cell_type": "markdown",
   "id": "75e0a77e",
   "metadata": {
    "papermill": {
     "duration": 0.012902,
     "end_time": "2023-12-21T22:45:58.694009",
     "exception": false,
     "start_time": "2023-12-21T22:45:58.681107",
     "status": "completed"
    },
    "tags": []
   },
   "source": [
    "# Read input files"
   ]
  },
  {
   "cell_type": "code",
   "execution_count": 5,
   "id": "6d7ac290",
   "metadata": {
    "execution": {
     "iopub.execute_input": "2023-12-21T22:45:58.722015Z",
     "iopub.status.busy": "2023-12-21T22:45:58.721498Z",
     "iopub.status.idle": "2023-12-21T22:46:03.469936Z",
     "shell.execute_reply": "2023-12-21T22:46:03.468434Z"
    },
    "executionInfo": {
     "elapsed": 10386,
     "status": "ok",
     "timestamp": 1699021083403,
     "user": {
      "displayName": "nick wils",
      "userId": "09906672494021070283"
     },
     "user_tz": -60
    },
    "id": "af847e1a",
    "outputId": "3cbfb68d-34ad-434e-8246-c093b7fedffd",
    "papermill": {
     "duration": 4.765044,
     "end_time": "2023-12-21T22:46:03.472234",
     "exception": false,
     "start_time": "2023-12-21T22:45:58.707190",
     "status": "completed"
    },
    "tags": []
   },
   "outputs": [
    {
     "name": "stdout",
     "output_type": "stream",
     "text": [
      "CPU times: user 2.16 s, sys: 2.28 s, total: 4.44 s\n",
      "Wall time: 4.74 s\n"
     ]
    }
   ],
   "source": [
    "%%time\n",
    "pad = \"/kaggle/input/makeparquet\"\n",
    "transactions = pd.read_parquet(pad+'/transactions_train.parquet')\n",
    "customers = pd.read_parquet(pad+'/customers.parquet')\n",
    "articles = pd.read_parquet(pad+'/articles.parquet')"
   ]
  },
  {
   "cell_type": "markdown",
   "id": "ce3f9eef",
   "metadata": {
    "papermill": {
     "duration": 0.013372,
     "end_time": "2023-12-21T22:46:03.499404",
     "exception": false,
     "start_time": "2023-12-21T22:46:03.486032",
     "status": "completed"
    },
    "tags": []
   },
   "source": [
    "# Add seasonal boosted feature"
   ]
  },
  {
   "cell_type": "code",
   "execution_count": 6,
   "id": "05693c3e",
   "metadata": {
    "execution": {
     "iopub.execute_input": "2023-12-21T22:46:03.529467Z",
     "iopub.status.busy": "2023-12-21T22:46:03.529135Z",
     "iopub.status.idle": "2023-12-21T22:46:04.577233Z",
     "shell.execute_reply": "2023-12-21T22:46:04.575802Z"
    },
    "papermill": {
     "duration": 1.065447,
     "end_time": "2023-12-21T22:46:04.579631",
     "exception": false,
     "start_time": "2023-12-21T22:46:03.514184",
     "status": "completed"
    },
    "tags": []
   },
   "outputs": [],
   "source": [
    "import pandas as pd\n",
    "\n",
    "# Define a function to apply to each row to calculate the new column value\n",
    "def color_or_fabric(row):\n",
    "    if row['colour_group_code'] in [7, 43] or row['fabric_wool'] == 1:\n",
    "        return 1\n",
    "    else:\n",
    "        return 0\n",
    "\n",
    "# Apply the function to create the new column 'color_or_fabric'\n",
    "articles['autumnBoosted'] = articles.apply(color_or_fabric, axis=1)"
   ]
  },
  {
   "cell_type": "markdown",
   "id": "d5f86fed",
   "metadata": {
    "papermill": {
     "duration": 0.075583,
     "end_time": "2023-12-21T22:46:04.669121",
     "exception": false,
     "start_time": "2023-12-21T22:46:04.593538",
     "status": "completed"
    },
    "tags": []
   },
   "source": [
    "# Set Validation and prune transactions on date"
   ]
  },
  {
   "cell_type": "code",
   "execution_count": 7,
   "id": "4903ccd8",
   "metadata": {
    "execution": {
     "iopub.execute_input": "2023-12-21T22:46:04.697329Z",
     "iopub.status.busy": "2023-12-21T22:46:04.696790Z",
     "iopub.status.idle": "2023-12-21T22:46:04.728595Z",
     "shell.execute_reply": "2023-12-21T22:46:04.727830Z"
    },
    "papermill": {
     "duration": 0.04833,
     "end_time": "2023-12-21T22:46:04.730778",
     "exception": false,
     "start_time": "2023-12-21T22:46:04.682448",
     "status": "completed"
    },
    "tags": []
   },
   "outputs": [],
   "source": [
    "val = transactions[transactions.week == transactions.week.max()]"
   ]
  },
  {
   "cell_type": "markdown",
   "id": "f21e05b9",
   "metadata": {
    "papermill": {
     "duration": 0.013132,
     "end_time": "2023-12-21T22:46:04.757541",
     "exception": false,
     "start_time": "2023-12-21T22:46:04.744409",
     "status": "completed"
    },
    "tags": []
   },
   "source": [
    "Comment one of the blocks out whether you want a test run or a sumbission run"
   ]
  },
  {
   "cell_type": "code",
   "execution_count": 8,
   "id": "5cf8652c",
   "metadata": {
    "execution": {
     "iopub.execute_input": "2023-12-21T22:46:04.788317Z",
     "iopub.status.busy": "2023-12-21T22:46:04.787734Z",
     "iopub.status.idle": "2023-12-21T22:46:05.065719Z",
     "shell.execute_reply": "2023-12-21T22:46:05.064843Z"
    },
    "papermill": {
     "duration": 0.295921,
     "end_time": "2023-12-21T22:46:05.068043",
     "exception": false,
     "start_time": "2023-12-21T22:46:04.772122",
     "status": "completed"
    },
    "tags": []
   },
   "outputs": [],
   "source": [
    "Testing = True\n",
    "test_week = transactions.week.max()\n",
    "transactions = transactions[transactions.week > transactions.week.max() - 10]\n",
    "transactions = transactions[transactions.week < transactions.week.max()]"
   ]
  },
  {
   "cell_type": "code",
   "execution_count": 9,
   "id": "73bd91df",
   "metadata": {
    "execution": {
     "iopub.execute_input": "2023-12-21T22:46:05.098067Z",
     "iopub.status.busy": "2023-12-21T22:46:05.097473Z",
     "iopub.status.idle": "2023-12-21T22:46:05.101880Z",
     "shell.execute_reply": "2023-12-21T22:46:05.100858Z"
    },
    "papermill": {
     "duration": 0.022122,
     "end_time": "2023-12-21T22:46:05.104218",
     "exception": false,
     "start_time": "2023-12-21T22:46:05.082096",
     "status": "completed"
    },
    "tags": []
   },
   "outputs": [],
   "source": [
    "# Testing = False\n",
    "# test_week = transactions.week.max()+1\n",
    "# transactions = transactions[transactions.week > transactions.week.max() - 10]"
   ]
  },
  {
   "cell_type": "markdown",
   "id": "ffefaaca",
   "metadata": {
    "id": "5133081f",
    "papermill": {
     "duration": 0.013577,
     "end_time": "2023-12-21T22:46:05.131818",
     "exception": false,
     "start_time": "2023-12-21T22:46:05.118241",
     "status": "completed"
    },
    "tags": []
   },
   "source": [
    "# Generating candidates"
   ]
  },
  {
   "cell_type": "markdown",
   "id": "d95fa9cc",
   "metadata": {
    "id": "55672930",
    "papermill": {
     "duration": 0.013485,
     "end_time": "2023-12-21T22:46:05.159038",
     "exception": false,
     "start_time": "2023-12-21T22:46:05.145553",
     "status": "completed"
    },
    "tags": []
   },
   "source": [
    "### Last purchase candidates"
   ]
  },
  {
   "cell_type": "code",
   "execution_count": 10,
   "id": "a87d4a1f",
   "metadata": {
    "execution": {
     "iopub.execute_input": "2023-12-21T22:46:05.188413Z",
     "iopub.status.busy": "2023-12-21T22:46:05.188017Z",
     "iopub.status.idle": "2023-12-21T22:46:26.445998Z",
     "shell.execute_reply": "2023-12-21T22:46:26.444764Z"
    },
    "executionInfo": {
     "elapsed": 44324,
     "status": "ok",
     "timestamp": 1699021128069,
     "user": {
      "displayName": "nick wils",
      "userId": "09906672494021070283"
     },
     "user_tz": -60
    },
    "id": "953a0f07",
    "outputId": "a64eb57a-9b27-486a-ed3e-cbd737918d66",
    "papermill": {
     "duration": 21.275399,
     "end_time": "2023-12-21T22:46:26.448295",
     "exception": false,
     "start_time": "2023-12-21T22:46:05.172896",
     "status": "completed"
    },
    "tags": []
   },
   "outputs": [
    {
     "name": "stdout",
     "output_type": "stream",
     "text": [
      "CPU times: user 21.1 s, sys: 203 ms, total: 21.3 s\n",
      "Wall time: 21.3 s\n"
     ]
    }
   ],
   "source": [
    "%%time\n",
    "\n",
    "c2weeks = transactions.groupby('customer_id')['week'].unique()"
   ]
  },
  {
   "cell_type": "code",
   "execution_count": 11,
   "id": "f586a6be",
   "metadata": {
    "execution": {
     "iopub.execute_input": "2023-12-21T22:46:26.477923Z",
     "iopub.status.busy": "2023-12-21T22:46:26.477561Z",
     "iopub.status.idle": "2023-12-21T22:46:26.550896Z",
     "shell.execute_reply": "2023-12-21T22:46:26.549781Z"
    },
    "executionInfo": {
     "elapsed": 27,
     "status": "ok",
     "timestamp": 1699021128070,
     "user": {
      "displayName": "nick wils",
      "userId": "09906672494021070283"
     },
     "user_tz": -60
    },
    "id": "a36be6fc",
    "outputId": "d760722c-fd93-4387-ec91-567d48918be5",
    "papermill": {
     "duration": 0.090675,
     "end_time": "2023-12-21T22:46:26.553021",
     "exception": false,
     "start_time": "2023-12-21T22:46:26.462346",
     "status": "completed"
    },
    "tags": []
   },
   "outputs": [
    {
     "data": {
      "text/html": [
       "<div>\n",
       "<style scoped>\n",
       "    .dataframe tbody tr th:only-of-type {\n",
       "        vertical-align: middle;\n",
       "    }\n",
       "\n",
       "    .dataframe tbody tr th {\n",
       "        vertical-align: top;\n",
       "    }\n",
       "\n",
       "    .dataframe thead th {\n",
       "        text-align: right;\n",
       "    }\n",
       "</style>\n",
       "<table border=\"1\" class=\"dataframe\">\n",
       "  <thead>\n",
       "    <tr style=\"text-align: right;\">\n",
       "      <th></th>\n",
       "      <th>min</th>\n",
       "      <th>max</th>\n",
       "    </tr>\n",
       "    <tr>\n",
       "      <th>week</th>\n",
       "      <th></th>\n",
       "      <th></th>\n",
       "    </tr>\n",
       "  </thead>\n",
       "  <tbody>\n",
       "    <tr>\n",
       "      <th>95</th>\n",
       "      <td>2020-07-15</td>\n",
       "      <td>2020-07-21</td>\n",
       "    </tr>\n",
       "    <tr>\n",
       "      <th>96</th>\n",
       "      <td>2020-07-22</td>\n",
       "      <td>2020-07-28</td>\n",
       "    </tr>\n",
       "    <tr>\n",
       "      <th>97</th>\n",
       "      <td>2020-07-29</td>\n",
       "      <td>2020-08-04</td>\n",
       "    </tr>\n",
       "    <tr>\n",
       "      <th>98</th>\n",
       "      <td>2020-08-05</td>\n",
       "      <td>2020-08-11</td>\n",
       "    </tr>\n",
       "    <tr>\n",
       "      <th>99</th>\n",
       "      <td>2020-08-12</td>\n",
       "      <td>2020-08-18</td>\n",
       "    </tr>\n",
       "    <tr>\n",
       "      <th>100</th>\n",
       "      <td>2020-08-19</td>\n",
       "      <td>2020-08-25</td>\n",
       "    </tr>\n",
       "    <tr>\n",
       "      <th>101</th>\n",
       "      <td>2020-08-26</td>\n",
       "      <td>2020-09-01</td>\n",
       "    </tr>\n",
       "    <tr>\n",
       "      <th>102</th>\n",
       "      <td>2020-09-02</td>\n",
       "      <td>2020-09-08</td>\n",
       "    </tr>\n",
       "    <tr>\n",
       "      <th>103</th>\n",
       "      <td>2020-09-09</td>\n",
       "      <td>2020-09-15</td>\n",
       "    </tr>\n",
       "  </tbody>\n",
       "</table>\n",
       "</div>"
      ],
      "text/plain": [
       "            min        max\n",
       "week                      \n",
       "95   2020-07-15 2020-07-21\n",
       "96   2020-07-22 2020-07-28\n",
       "97   2020-07-29 2020-08-04\n",
       "98   2020-08-05 2020-08-11\n",
       "99   2020-08-12 2020-08-18\n",
       "100  2020-08-19 2020-08-25\n",
       "101  2020-08-26 2020-09-01\n",
       "102  2020-09-02 2020-09-08\n",
       "103  2020-09-09 2020-09-15"
      ]
     },
     "execution_count": 11,
     "metadata": {},
     "output_type": "execute_result"
    }
   ],
   "source": [
    "transactions.groupby('week')['t_dat'].agg(['min', 'max'])"
   ]
  },
  {
   "cell_type": "code",
   "execution_count": 12,
   "id": "f1089501",
   "metadata": {
    "execution": {
     "iopub.execute_input": "2023-12-21T22:46:26.583519Z",
     "iopub.status.busy": "2023-12-21T22:46:26.583104Z",
     "iopub.status.idle": "2023-12-21T22:46:27.154302Z",
     "shell.execute_reply": "2023-12-21T22:46:27.152770Z"
    },
    "executionInfo": {
     "elapsed": 942,
     "status": "ok",
     "timestamp": 1699021129001,
     "user": {
      "displayName": "nick wils",
      "userId": "09906672494021070283"
     },
     "user_tz": -60
    },
    "id": "f4723bec",
    "outputId": "700683a1-0720-43a3-bd06-c22a827fbf02",
    "papermill": {
     "duration": 0.589624,
     "end_time": "2023-12-21T22:46:27.157200",
     "exception": false,
     "start_time": "2023-12-21T22:46:26.567576",
     "status": "completed"
    },
    "tags": []
   },
   "outputs": [
    {
     "name": "stdout",
     "output_type": "stream",
     "text": [
      "CPU times: user 547 ms, sys: 17.7 ms, total: 565 ms\n",
      "Wall time: 564 ms\n"
     ]
    }
   ],
   "source": [
    "%%time\n",
    "\n",
    "c2weeks2shifted_weeks = {}\n",
    "\n",
    "for c_id, weeks in c2weeks.items():\n",
    "    c2weeks2shifted_weeks[c_id] = {}\n",
    "    for i in range(weeks.shape[0]-1):\n",
    "        c2weeks2shifted_weeks[c_id][weeks[i]] = weeks[i+1]\n",
    "    c2weeks2shifted_weeks[c_id][weeks[-1]] = test_week"
   ]
  },
  {
   "cell_type": "code",
   "execution_count": 13,
   "id": "573eddd7",
   "metadata": {
    "execution": {
     "iopub.execute_input": "2023-12-21T22:46:27.188927Z",
     "iopub.status.busy": "2023-12-21T22:46:27.188506Z",
     "iopub.status.idle": "2023-12-21T22:46:27.204223Z",
     "shell.execute_reply": "2023-12-21T22:46:27.202847Z"
    },
    "executionInfo": {
     "elapsed": 6,
     "status": "ok",
     "timestamp": 1699021129002,
     "user": {
      "displayName": "nick wils",
      "userId": "09906672494021070283"
     },
     "user_tz": -60
    },
    "id": "5a87c920",
    "papermill": {
     "duration": 0.034685,
     "end_time": "2023-12-21T22:46:27.206899",
     "exception": false,
     "start_time": "2023-12-21T22:46:27.172214",
     "status": "completed"
    },
    "tags": []
   },
   "outputs": [],
   "source": [
    "candidates_last_purchase = transactions.copy()"
   ]
  },
  {
   "cell_type": "code",
   "execution_count": 14,
   "id": "50cddee4",
   "metadata": {
    "execution": {
     "iopub.execute_input": "2023-12-21T22:46:27.235625Z",
     "iopub.status.busy": "2023-12-21T22:46:27.235288Z",
     "iopub.status.idle": "2023-12-21T22:46:43.558770Z",
     "shell.execute_reply": "2023-12-21T22:46:43.557476Z"
    },
    "executionInfo": {
     "elapsed": 20239,
     "status": "ok",
     "timestamp": 1699021149235,
     "user": {
      "displayName": "nick wils",
      "userId": "09906672494021070283"
     },
     "user_tz": -60
    },
    "id": "4f4d4a18",
    "outputId": "a177aca2-7d87-44a1-cbfd-23488359d3d3",
    "papermill": {
     "duration": 16.34036,
     "end_time": "2023-12-21T22:46:43.560908",
     "exception": false,
     "start_time": "2023-12-21T22:46:27.220548",
     "status": "completed"
    },
    "tags": []
   },
   "outputs": [
    {
     "name": "stdout",
     "output_type": "stream",
     "text": [
      "CPU times: user 16.3 s, sys: 90 ms, total: 16.4 s\n",
      "Wall time: 16.3 s\n"
     ]
    }
   ],
   "source": [
    "%%time\n",
    "\n",
    "weeks = []\n",
    "for i, (c_id, week) in enumerate(zip(transactions['customer_id'], transactions['week'])):\n",
    "    weeks.append(c2weeks2shifted_weeks[c_id][week])\n",
    "\n",
    "candidates_last_purchase.week=weeks"
   ]
  },
  {
   "cell_type": "markdown",
   "id": "b2075d67",
   "metadata": {
    "id": "38ae3458",
    "papermill": {
     "duration": 0.013779,
     "end_time": "2023-12-21T22:46:43.589016",
     "exception": false,
     "start_time": "2023-12-21T22:46:43.575237",
     "status": "completed"
    },
    "tags": []
   },
   "source": [
    "### Bestsellers candidates"
   ]
  },
  {
   "cell_type": "code",
   "execution_count": 15,
   "id": "614d0fbb",
   "metadata": {
    "execution": {
     "iopub.execute_input": "2023-12-21T22:46:43.617857Z",
     "iopub.status.busy": "2023-12-21T22:46:43.617473Z",
     "iopub.status.idle": "2023-12-21T22:46:43.776485Z",
     "shell.execute_reply": "2023-12-21T22:46:43.775104Z"
    },
    "executionInfo": {
     "elapsed": 36,
     "status": "ok",
     "timestamp": 1699021149236,
     "user": {
      "displayName": "nick wils",
      "userId": "09906672494021070283"
     },
     "user_tz": -60
    },
    "id": "022a7879",
    "papermill": {
     "duration": 0.176179,
     "end_time": "2023-12-21T22:46:43.779002",
     "exception": false,
     "start_time": "2023-12-21T22:46:43.602823",
     "status": "completed"
    },
    "tags": []
   },
   "outputs": [],
   "source": [
    "mean_price = transactions \\\n",
    "    .groupby(['week', 'article_id'])['price'].mean()"
   ]
  },
  {
   "cell_type": "code",
   "execution_count": 16,
   "id": "096ae449",
   "metadata": {
    "execution": {
     "iopub.execute_input": "2023-12-21T22:46:43.808486Z",
     "iopub.status.busy": "2023-12-21T22:46:43.808171Z",
     "iopub.status.idle": "2023-12-21T22:46:43.995425Z",
     "shell.execute_reply": "2023-12-21T22:46:43.994130Z"
    },
    "executionInfo": {
     "elapsed": 732,
     "status": "ok",
     "timestamp": 1699021150260,
     "user": {
      "displayName": "nick wils",
      "userId": "09906672494021070283"
     },
     "user_tz": -60
    },
    "id": "9a104ef9",
    "papermill": {
     "duration": 0.204908,
     "end_time": "2023-12-21T22:46:43.997994",
     "exception": false,
     "start_time": "2023-12-21T22:46:43.793086",
     "status": "completed"
    },
    "tags": []
   },
   "outputs": [],
   "source": [
    "sales = transactions \\\n",
    "    .groupby('week')['article_id'].value_counts() \\\n",
    "    .groupby('week').rank(method='dense', ascending=False) \\\n",
    "    .groupby('week').head(12).rename('bestseller_rank').astype('int8')"
   ]
  },
  {
   "cell_type": "code",
   "execution_count": 17,
   "id": "0196bc11",
   "metadata": {
    "execution": {
     "iopub.execute_input": "2023-12-21T22:46:44.029721Z",
     "iopub.status.busy": "2023-12-21T22:46:44.029361Z",
     "iopub.status.idle": "2023-12-21T22:46:44.100280Z",
     "shell.execute_reply": "2023-12-21T22:46:44.099166Z"
    },
    "executionInfo": {
     "elapsed": 14,
     "status": "ok",
     "timestamp": 1699021150262,
     "user": {
      "displayName": "nick wils",
      "userId": "09906672494021070283"
     },
     "user_tz": -60
    },
    "id": "20324cc0",
    "papermill": {
     "duration": 0.088623,
     "end_time": "2023-12-21T22:46:44.102705",
     "exception": false,
     "start_time": "2023-12-21T22:46:44.014082",
     "status": "completed"
    },
    "tags": []
   },
   "outputs": [],
   "source": [
    "bestsellers_previous_week = pd.merge(sales, mean_price, on=['week', 'article_id']).reset_index()\n",
    "bestsellers_previous_week.week += 1"
   ]
  },
  {
   "cell_type": "code",
   "execution_count": 18,
   "id": "d8002cd0",
   "metadata": {
    "execution": {
     "iopub.execute_input": "2023-12-21T22:46:44.132459Z",
     "iopub.status.busy": "2023-12-21T22:46:44.132125Z",
     "iopub.status.idle": "2023-12-21T22:46:44.145055Z",
     "shell.execute_reply": "2023-12-21T22:46:44.144307Z"
    },
    "executionInfo": {
     "elapsed": 13,
     "status": "ok",
     "timestamp": 1699021150262,
     "user": {
      "displayName": "nick wils",
      "userId": "09906672494021070283"
     },
     "user_tz": -60
    },
    "id": "b8447b19",
    "outputId": "b992d53d-c501-4be5-e373-7ed121335003",
    "papermill": {
     "duration": 0.030034,
     "end_time": "2023-12-21T22:46:44.146928",
     "exception": false,
     "start_time": "2023-12-21T22:46:44.116894",
     "status": "completed"
    },
    "tags": []
   },
   "outputs": [
    {
     "data": {
      "text/html": [
       "<div>\n",
       "<style scoped>\n",
       "    .dataframe tbody tr th:only-of-type {\n",
       "        vertical-align: middle;\n",
       "    }\n",
       "\n",
       "    .dataframe tbody tr th {\n",
       "        vertical-align: top;\n",
       "    }\n",
       "\n",
       "    .dataframe thead th {\n",
       "        text-align: right;\n",
       "    }\n",
       "</style>\n",
       "<table border=\"1\" class=\"dataframe\">\n",
       "  <thead>\n",
       "    <tr style=\"text-align: right;\">\n",
       "      <th></th>\n",
       "      <th>week</th>\n",
       "      <th>article_id</th>\n",
       "      <th>bestseller_rank</th>\n",
       "      <th>price</th>\n",
       "    </tr>\n",
       "  </thead>\n",
       "  <tbody>\n",
       "    <tr>\n",
       "      <th>0</th>\n",
       "      <td>96</td>\n",
       "      <td>760084003</td>\n",
       "      <td>1</td>\n",
       "      <td>0.025094</td>\n",
       "    </tr>\n",
       "    <tr>\n",
       "      <th>1</th>\n",
       "      <td>96</td>\n",
       "      <td>866731001</td>\n",
       "      <td>2</td>\n",
       "      <td>0.024919</td>\n",
       "    </tr>\n",
       "    <tr>\n",
       "      <th>2</th>\n",
       "      <td>96</td>\n",
       "      <td>600886001</td>\n",
       "      <td>3</td>\n",
       "      <td>0.022980</td>\n",
       "    </tr>\n",
       "    <tr>\n",
       "      <th>3</th>\n",
       "      <td>96</td>\n",
       "      <td>706016001</td>\n",
       "      <td>4</td>\n",
       "      <td>0.033197</td>\n",
       "    </tr>\n",
       "    <tr>\n",
       "      <th>4</th>\n",
       "      <td>96</td>\n",
       "      <td>372860002</td>\n",
       "      <td>5</td>\n",
       "      <td>0.013193</td>\n",
       "    </tr>\n",
       "    <tr>\n",
       "      <th>5</th>\n",
       "      <td>96</td>\n",
       "      <td>610776002</td>\n",
       "      <td>6</td>\n",
       "      <td>0.008318</td>\n",
       "    </tr>\n",
       "    <tr>\n",
       "      <th>6</th>\n",
       "      <td>96</td>\n",
       "      <td>877278002</td>\n",
       "      <td>7</td>\n",
       "      <td>0.025036</td>\n",
       "    </tr>\n",
       "    <tr>\n",
       "      <th>7</th>\n",
       "      <td>96</td>\n",
       "      <td>547780003</td>\n",
       "      <td>8</td>\n",
       "      <td>0.024814</td>\n",
       "    </tr>\n",
       "    <tr>\n",
       "      <th>8</th>\n",
       "      <td>96</td>\n",
       "      <td>817354001</td>\n",
       "      <td>9</td>\n",
       "      <td>0.021913</td>\n",
       "    </tr>\n",
       "    <tr>\n",
       "      <th>9</th>\n",
       "      <td>96</td>\n",
       "      <td>827968001</td>\n",
       "      <td>10</td>\n",
       "      <td>0.016436</td>\n",
       "    </tr>\n",
       "    <tr>\n",
       "      <th>10</th>\n",
       "      <td>96</td>\n",
       "      <td>866731003</td>\n",
       "      <td>11</td>\n",
       "      <td>0.024893</td>\n",
       "    </tr>\n",
       "    <tr>\n",
       "      <th>11</th>\n",
       "      <td>96</td>\n",
       "      <td>866383006</td>\n",
       "      <td>12</td>\n",
       "      <td>0.023195</td>\n",
       "    </tr>\n",
       "  </tbody>\n",
       "</table>\n",
       "</div>"
      ],
      "text/plain": [
       "    week  article_id  bestseller_rank     price\n",
       "0     96   760084003                1  0.025094\n",
       "1     96   866731001                2  0.024919\n",
       "2     96   600886001                3  0.022980\n",
       "3     96   706016001                4  0.033197\n",
       "4     96   372860002                5  0.013193\n",
       "5     96   610776002                6  0.008318\n",
       "6     96   877278002                7  0.025036\n",
       "7     96   547780003                8  0.024814\n",
       "8     96   817354001                9  0.021913\n",
       "9     96   827968001               10  0.016436\n",
       "10    96   866731003               11  0.024893\n",
       "11    96   866383006               12  0.023195"
      ]
     },
     "execution_count": 18,
     "metadata": {},
     "output_type": "execute_result"
    }
   ],
   "source": [
    "bestsellers_previous_week.pipe(lambda df: df[df['week']==96])"
   ]
  },
  {
   "cell_type": "code",
   "execution_count": 19,
   "id": "e97c307b",
   "metadata": {
    "execution": {
     "iopub.execute_input": "2023-12-21T22:46:44.176991Z",
     "iopub.status.busy": "2023-12-21T22:46:44.176664Z",
     "iopub.status.idle": "2023-12-21T22:46:44.637609Z",
     "shell.execute_reply": "2023-12-21T22:46:44.636401Z"
    },
    "executionInfo": {
     "elapsed": 867,
     "status": "ok",
     "timestamp": 1699021151118,
     "user": {
      "displayName": "nick wils",
      "userId": "09906672494021070283"
     },
     "user_tz": -60
    },
    "id": "1ad756de",
    "papermill": {
     "duration": 0.478912,
     "end_time": "2023-12-21T22:46:44.640014",
     "exception": false,
     "start_time": "2023-12-21T22:46:44.161102",
     "status": "completed"
    },
    "tags": []
   },
   "outputs": [],
   "source": [
    "unique_transactions = transactions \\\n",
    "    .groupby(['week', 'customer_id']) \\\n",
    "    .head(1) \\\n",
    "    .drop(columns=['article_id', 'price']) \\\n",
    "    .copy()"
   ]
  },
  {
   "cell_type": "code",
   "execution_count": 20,
   "id": "4486cfd7",
   "metadata": {
    "execution": {
     "iopub.execute_input": "2023-12-21T22:46:44.670919Z",
     "iopub.status.busy": "2023-12-21T22:46:44.670527Z",
     "iopub.status.idle": "2023-12-21T22:46:44.899204Z",
     "shell.execute_reply": "2023-12-21T22:46:44.898062Z"
    },
    "executionInfo": {
     "elapsed": 343,
     "status": "ok",
     "timestamp": 1699021151457,
     "user": {
      "displayName": "nick wils",
      "userId": "09906672494021070283"
     },
     "user_tz": -60
    },
    "id": "5721ca6d",
    "outputId": "26dbeac9-bfc8-44b6-879f-c3fbe5cb175d",
    "papermill": {
     "duration": 0.247257,
     "end_time": "2023-12-21T22:46:44.901346",
     "exception": false,
     "start_time": "2023-12-21T22:46:44.654089",
     "status": "completed"
    },
    "tags": []
   },
   "outputs": [
    {
     "data": {
      "text/html": [
       "<div>\n",
       "<style scoped>\n",
       "    .dataframe tbody tr th:only-of-type {\n",
       "        vertical-align: middle;\n",
       "    }\n",
       "\n",
       "    .dataframe tbody tr th {\n",
       "        vertical-align: top;\n",
       "    }\n",
       "\n",
       "    .dataframe thead th {\n",
       "        text-align: right;\n",
       "    }\n",
       "</style>\n",
       "<table border=\"1\" class=\"dataframe\">\n",
       "  <thead>\n",
       "    <tr style=\"text-align: right;\">\n",
       "      <th></th>\n",
       "      <th>t_dat</th>\n",
       "      <th>customer_id</th>\n",
       "      <th>article_id</th>\n",
       "      <th>price</th>\n",
       "      <th>sales_channel_id</th>\n",
       "      <th>season</th>\n",
       "      <th>year</th>\n",
       "      <th>month</th>\n",
       "      <th>week</th>\n",
       "    </tr>\n",
       "  </thead>\n",
       "  <tbody>\n",
       "    <tr>\n",
       "      <th>29030503</th>\n",
       "      <td>2020-07-15</td>\n",
       "      <td>272412481300040</td>\n",
       "      <td>778064028</td>\n",
       "      <td>0.008458</td>\n",
       "      <td>1</td>\n",
       "      <td>2</td>\n",
       "      <td>-28</td>\n",
       "      <td>7</td>\n",
       "      <td>95</td>\n",
       "    </tr>\n",
       "    <tr>\n",
       "      <th>29064059</th>\n",
       "      <td>2020-07-15</td>\n",
       "      <td>1456826891333599</td>\n",
       "      <td>888294001</td>\n",
       "      <td>0.013542</td>\n",
       "      <td>1</td>\n",
       "      <td>2</td>\n",
       "      <td>-28</td>\n",
       "      <td>7</td>\n",
       "      <td>95</td>\n",
       "    </tr>\n",
       "    <tr>\n",
       "      <th>29067103</th>\n",
       "      <td>2020-07-15</td>\n",
       "      <td>2133687643102426</td>\n",
       "      <td>843642001</td>\n",
       "      <td>0.042356</td>\n",
       "      <td>2</td>\n",
       "      <td>2</td>\n",
       "      <td>-28</td>\n",
       "      <td>7</td>\n",
       "      <td>95</td>\n",
       "    </tr>\n",
       "    <tr>\n",
       "      <th>29027487</th>\n",
       "      <td>2020-07-15</td>\n",
       "      <td>6010692573790711</td>\n",
       "      <td>857812010</td>\n",
       "      <td>0.039661</td>\n",
       "      <td>1</td>\n",
       "      <td>2</td>\n",
       "      <td>-28</td>\n",
       "      <td>7</td>\n",
       "      <td>95</td>\n",
       "    </tr>\n",
       "    <tr>\n",
       "      <th>29046403</th>\n",
       "      <td>2020-07-15</td>\n",
       "      <td>6171059100114610</td>\n",
       "      <td>815447007</td>\n",
       "      <td>0.006763</td>\n",
       "      <td>2</td>\n",
       "      <td>2</td>\n",
       "      <td>-28</td>\n",
       "      <td>7</td>\n",
       "      <td>95</td>\n",
       "    </tr>\n",
       "    <tr>\n",
       "      <th>...</th>\n",
       "      <td>...</td>\n",
       "      <td>...</td>\n",
       "      <td>...</td>\n",
       "      <td>...</td>\n",
       "      <td>...</td>\n",
       "      <td>...</td>\n",
       "      <td>...</td>\n",
       "      <td>...</td>\n",
       "      <td>...</td>\n",
       "    </tr>\n",
       "    <tr>\n",
       "      <th>31521960</th>\n",
       "      <td>2020-09-15</td>\n",
       "      <td>18439897732908966680</td>\n",
       "      <td>794321007</td>\n",
       "      <td>0.061000</td>\n",
       "      <td>2</td>\n",
       "      <td>3</td>\n",
       "      <td>-28</td>\n",
       "      <td>9</td>\n",
       "      <td>103</td>\n",
       "    </tr>\n",
       "    <tr>\n",
       "      <th>31531712</th>\n",
       "      <td>2020-09-15</td>\n",
       "      <td>18444276791873187543</td>\n",
       "      <td>867969008</td>\n",
       "      <td>0.033881</td>\n",
       "      <td>2</td>\n",
       "      <td>3</td>\n",
       "      <td>-28</td>\n",
       "      <td>9</td>\n",
       "      <td>103</td>\n",
       "    </tr>\n",
       "    <tr>\n",
       "      <th>31539937</th>\n",
       "      <td>2020-09-15</td>\n",
       "      <td>18444799607866739422</td>\n",
       "      <td>909721003</td>\n",
       "      <td>0.042356</td>\n",
       "      <td>2</td>\n",
       "      <td>3</td>\n",
       "      <td>-28</td>\n",
       "      <td>9</td>\n",
       "      <td>103</td>\n",
       "    </tr>\n",
       "    <tr>\n",
       "      <th>31543799</th>\n",
       "      <td>2020-09-15</td>\n",
       "      <td>18446250046654386343</td>\n",
       "      <td>869872006</td>\n",
       "      <td>0.033881</td>\n",
       "      <td>1</td>\n",
       "      <td>3</td>\n",
       "      <td>-28</td>\n",
       "      <td>9</td>\n",
       "      <td>103</td>\n",
       "    </tr>\n",
       "    <tr>\n",
       "      <th>31536744</th>\n",
       "      <td>2020-09-15</td>\n",
       "      <td>18446630855572834764</td>\n",
       "      <td>568601045</td>\n",
       "      <td>0.050831</td>\n",
       "      <td>2</td>\n",
       "      <td>3</td>\n",
       "      <td>-28</td>\n",
       "      <td>9</td>\n",
       "      <td>103</td>\n",
       "    </tr>\n",
       "  </tbody>\n",
       "</table>\n",
       "<p>686726 rows × 9 columns</p>\n",
       "</div>"
      ],
      "text/plain": [
       "              t_dat           customer_id  article_id     price  \\\n",
       "29030503 2020-07-15       272412481300040   778064028  0.008458   \n",
       "29064059 2020-07-15      1456826891333599   888294001  0.013542   \n",
       "29067103 2020-07-15      2133687643102426   843642001  0.042356   \n",
       "29027487 2020-07-15      6010692573790711   857812010  0.039661   \n",
       "29046403 2020-07-15      6171059100114610   815447007  0.006763   \n",
       "...             ...                   ...         ...       ...   \n",
       "31521960 2020-09-15  18439897732908966680   794321007  0.061000   \n",
       "31531712 2020-09-15  18444276791873187543   867969008  0.033881   \n",
       "31539937 2020-09-15  18444799607866739422   909721003  0.042356   \n",
       "31543799 2020-09-15  18446250046654386343   869872006  0.033881   \n",
       "31536744 2020-09-15  18446630855572834764   568601045  0.050831   \n",
       "\n",
       "          sales_channel_id  season  year  month  week  \n",
       "29030503                 1       2   -28      7    95  \n",
       "29064059                 1       2   -28      7    95  \n",
       "29067103                 2       2   -28      7    95  \n",
       "29027487                 1       2   -28      7    95  \n",
       "29046403                 2       2   -28      7    95  \n",
       "...                    ...     ...   ...    ...   ...  \n",
       "31521960                 2       3   -28      9   103  \n",
       "31531712                 2       3   -28      9   103  \n",
       "31539937                 2       3   -28      9   103  \n",
       "31543799                 1       3   -28      9   103  \n",
       "31536744                 2       3   -28      9   103  \n",
       "\n",
       "[686726 rows x 9 columns]"
      ]
     },
     "execution_count": 20,
     "metadata": {},
     "output_type": "execute_result"
    }
   ],
   "source": [
    "transactions.drop_duplicates(['week', 'customer_id'])"
   ]
  },
  {
   "cell_type": "code",
   "execution_count": 21,
   "id": "091e7c0e",
   "metadata": {
    "execution": {
     "iopub.execute_input": "2023-12-21T22:46:44.932656Z",
     "iopub.status.busy": "2023-12-21T22:46:44.931302Z",
     "iopub.status.idle": "2023-12-21T22:46:45.276995Z",
     "shell.execute_reply": "2023-12-21T22:46:45.276000Z"
    },
    "executionInfo": {
     "elapsed": 939,
     "status": "ok",
     "timestamp": 1699021152392,
     "user": {
      "displayName": "nick wils",
      "userId": "09906672494021070283"
     },
     "user_tz": -60
    },
    "id": "4a23981e",
    "papermill": {
     "duration": 0.363937,
     "end_time": "2023-12-21T22:46:45.279760",
     "exception": false,
     "start_time": "2023-12-21T22:46:44.915823",
     "status": "completed"
    },
    "tags": []
   },
   "outputs": [],
   "source": [
    "candidates_bestsellers = pd.merge(\n",
    "    unique_transactions,\n",
    "    bestsellers_previous_week,\n",
    "    on='week',\n",
    ")"
   ]
  },
  {
   "cell_type": "code",
   "execution_count": 22,
   "id": "e72edb85",
   "metadata": {
    "execution": {
     "iopub.execute_input": "2023-12-21T22:46:45.311629Z",
     "iopub.status.busy": "2023-12-21T22:46:45.311259Z",
     "iopub.status.idle": "2023-12-21T22:46:45.356506Z",
     "shell.execute_reply": "2023-12-21T22:46:45.355260Z"
    },
    "executionInfo": {
     "elapsed": 16,
     "status": "ok",
     "timestamp": 1699021152393,
     "user": {
      "displayName": "nick wils",
      "userId": "09906672494021070283"
     },
     "user_tz": -60
    },
    "id": "ad3a9710",
    "papermill": {
     "duration": 0.06421,
     "end_time": "2023-12-21T22:46:45.359050",
     "exception": false,
     "start_time": "2023-12-21T22:46:45.294840",
     "status": "completed"
    },
    "tags": []
   },
   "outputs": [],
   "source": [
    "test_set_transactions = unique_transactions.drop_duplicates('customer_id').reset_index(drop=True)\n",
    "test_set_transactions.week = test_week"
   ]
  },
  {
   "cell_type": "code",
   "execution_count": 23,
   "id": "617045a1",
   "metadata": {
    "execution": {
     "iopub.execute_input": "2023-12-21T22:46:45.389560Z",
     "iopub.status.busy": "2023-12-21T22:46:45.389196Z",
     "iopub.status.idle": "2023-12-21T22:46:45.641910Z",
     "shell.execute_reply": "2023-12-21T22:46:45.640215Z"
    },
    "executionInfo": {
     "elapsed": 802,
     "status": "ok",
     "timestamp": 1699021153185,
     "user": {
      "displayName": "nick wils",
      "userId": "09906672494021070283"
     },
     "user_tz": -60
    },
    "id": "9f64b005",
    "papermill": {
     "duration": 0.270526,
     "end_time": "2023-12-21T22:46:45.644158",
     "exception": false,
     "start_time": "2023-12-21T22:46:45.373632",
     "status": "completed"
    },
    "tags": []
   },
   "outputs": [],
   "source": [
    "candidates_bestsellers_test_week = pd.merge(\n",
    "    test_set_transactions,\n",
    "    bestsellers_previous_week,\n",
    "    on='week'\n",
    ")"
   ]
  },
  {
   "cell_type": "code",
   "execution_count": 24,
   "id": "3a1512ed",
   "metadata": {
    "execution": {
     "iopub.execute_input": "2023-12-21T22:46:45.674910Z",
     "iopub.status.busy": "2023-12-21T22:46:45.674536Z",
     "iopub.status.idle": "2023-12-21T22:46:46.048171Z",
     "shell.execute_reply": "2023-12-21T22:46:46.046665Z"
    },
    "executionInfo": {
     "elapsed": 837,
     "status": "ok",
     "timestamp": 1699021154020,
     "user": {
      "displayName": "nick wils",
      "userId": "09906672494021070283"
     },
     "user_tz": -60
    },
    "id": "212b7926",
    "papermill": {
     "duration": 0.391882,
     "end_time": "2023-12-21T22:46:46.050655",
     "exception": false,
     "start_time": "2023-12-21T22:46:45.658773",
     "status": "completed"
    },
    "tags": []
   },
   "outputs": [],
   "source": [
    "candidates_bestsellers = pd.concat([candidates_bestsellers, candidates_bestsellers_test_week])\n",
    "candidates_bestsellers.drop(columns='bestseller_rank', inplace=True)"
   ]
  },
  {
   "cell_type": "markdown",
   "id": "469ef4cc",
   "metadata": {
    "id": "d5b03292",
    "papermill": {
     "duration": 0.014457,
     "end_time": "2023-12-21T22:46:46.079660",
     "exception": false,
     "start_time": "2023-12-21T22:46:46.065203",
     "status": "completed"
    },
    "tags": []
   },
   "source": [
    "# Combining transactions and candidates / negative examples"
   ]
  },
  {
   "cell_type": "code",
   "execution_count": 25,
   "id": "83a975cd",
   "metadata": {
    "execution": {
     "iopub.execute_input": "2023-12-21T22:46:46.110354Z",
     "iopub.status.busy": "2023-12-21T22:46:46.110018Z",
     "iopub.status.idle": "2023-12-21T22:46:46.115480Z",
     "shell.execute_reply": "2023-12-21T22:46:46.114553Z"
    },
    "executionInfo": {
     "elapsed": 11,
     "status": "ok",
     "timestamp": 1699021154021,
     "user": {
      "displayName": "nick wils",
      "userId": "09906672494021070283"
     },
     "user_tz": -60
    },
    "id": "529196a4",
    "papermill": {
     "duration": 0.023377,
     "end_time": "2023-12-21T22:46:46.117847",
     "exception": false,
     "start_time": "2023-12-21T22:46:46.094470",
     "status": "completed"
    },
    "tags": []
   },
   "outputs": [],
   "source": [
    "transactions['purchased'] = 1"
   ]
  },
  {
   "cell_type": "code",
   "execution_count": 26,
   "id": "34a6659a",
   "metadata": {
    "execution": {
     "iopub.execute_input": "2023-12-21T22:46:46.147268Z",
     "iopub.status.busy": "2023-12-21T22:46:46.146941Z",
     "iopub.status.idle": "2023-12-21T22:46:46.330695Z",
     "shell.execute_reply": "2023-12-21T22:46:46.328921Z"
    },
    "executionInfo": {
     "elapsed": 630,
     "status": "ok",
     "timestamp": 1699021154641,
     "user": {
      "displayName": "nick wils",
      "userId": "09906672494021070283"
     },
     "user_tz": -60
    },
    "id": "421a601e",
    "papermill": {
     "duration": 0.201276,
     "end_time": "2023-12-21T22:46:46.333391",
     "exception": false,
     "start_time": "2023-12-21T22:46:46.132115",
     "status": "completed"
    },
    "tags": []
   },
   "outputs": [],
   "source": [
    "data = pd.concat([transactions, candidates_last_purchase, candidates_bestsellers])\n",
    "data.purchased.fillna(0, inplace=True)"
   ]
  },
  {
   "cell_type": "code",
   "execution_count": 27,
   "id": "eb0d696e",
   "metadata": {
    "execution": {
     "iopub.execute_input": "2023-12-21T22:46:46.364390Z",
     "iopub.status.busy": "2023-12-21T22:46:46.364000Z",
     "iopub.status.idle": "2023-12-21T22:46:50.895375Z",
     "shell.execute_reply": "2023-12-21T22:46:50.894356Z"
    },
    "executionInfo": {
     "elapsed": 6444,
     "status": "ok",
     "timestamp": 1699021161077,
     "user": {
      "displayName": "nick wils",
      "userId": "09906672494021070283"
     },
     "user_tz": -60
    },
    "id": "9f4e8cdb",
    "papermill": {
     "duration": 4.549506,
     "end_time": "2023-12-21T22:46:50.897557",
     "exception": false,
     "start_time": "2023-12-21T22:46:46.348051",
     "status": "completed"
    },
    "tags": []
   },
   "outputs": [],
   "source": [
    "data.drop_duplicates(['customer_id', 'article_id', 'week'], inplace=True)"
   ]
  },
  {
   "cell_type": "code",
   "execution_count": 28,
   "id": "7ed081c7",
   "metadata": {
    "execution": {
     "iopub.execute_input": "2023-12-21T22:46:50.939046Z",
     "iopub.status.busy": "2023-12-21T22:46:50.938058Z",
     "iopub.status.idle": "2023-12-21T22:46:50.970043Z",
     "shell.execute_reply": "2023-12-21T22:46:50.968913Z"
    },
    "executionInfo": {
     "elapsed": 39,
     "status": "ok",
     "timestamp": 1699021161080,
     "user": {
      "displayName": "nick wils",
      "userId": "09906672494021070283"
     },
     "user_tz": -60
    },
    "id": "95414c83",
    "outputId": "0aa85517-00f2-45b4-8a4a-1b314d82ffc4",
    "papermill": {
     "duration": 0.056454,
     "end_time": "2023-12-21T22:46:50.972541",
     "exception": false,
     "start_time": "2023-12-21T22:46:50.916087",
     "status": "completed"
    },
    "tags": []
   },
   "outputs": [
    {
     "data": {
      "text/plain": [
       "0.13579181084519196"
      ]
     },
     "execution_count": 28,
     "metadata": {},
     "output_type": "execute_result"
    }
   ],
   "source": [
    "data.purchased.mean()"
   ]
  },
  {
   "cell_type": "markdown",
   "id": "414bfa77",
   "metadata": {
    "id": "4d35aac7",
    "papermill": {
     "duration": 0.014942,
     "end_time": "2023-12-21T22:46:51.002640",
     "exception": false,
     "start_time": "2023-12-21T22:46:50.987698",
     "status": "completed"
    },
    "tags": []
   },
   "source": [
    "### Add bestseller information"
   ]
  },
  {
   "cell_type": "code",
   "execution_count": 29,
   "id": "5b355217",
   "metadata": {
    "execution": {
     "iopub.execute_input": "2023-12-21T22:46:51.034659Z",
     "iopub.status.busy": "2023-12-21T22:46:51.034133Z",
     "iopub.status.idle": "2023-12-21T22:46:52.415162Z",
     "shell.execute_reply": "2023-12-21T22:46:52.413968Z"
    },
    "executionInfo": {
     "elapsed": 3395,
     "status": "ok",
     "timestamp": 1699021164442,
     "user": {
      "displayName": "nick wils",
      "userId": "09906672494021070283"
     },
     "user_tz": -60
    },
    "id": "ab6d0095",
    "papermill": {
     "duration": 1.399956,
     "end_time": "2023-12-21T22:46:52.417943",
     "exception": false,
     "start_time": "2023-12-21T22:46:51.017987",
     "status": "completed"
    },
    "tags": []
   },
   "outputs": [],
   "source": [
    "data = pd.merge(\n",
    "    data,\n",
    "    bestsellers_previous_week[['week', 'article_id', 'bestseller_rank']],\n",
    "    on=['week', 'article_id'],\n",
    "    how='left'\n",
    ")"
   ]
  },
  {
   "cell_type": "code",
   "execution_count": 30,
   "id": "c7f1368f",
   "metadata": {
    "execution": {
     "iopub.execute_input": "2023-12-21T22:46:52.449476Z",
     "iopub.status.busy": "2023-12-21T22:46:52.449107Z",
     "iopub.status.idle": "2023-12-21T22:46:53.378475Z",
     "shell.execute_reply": "2023-12-21T22:46:53.377017Z"
    },
    "executionInfo": {
     "elapsed": 2042,
     "status": "ok",
     "timestamp": 1699021166476,
     "user": {
      "displayName": "nick wils",
      "userId": "09906672494021070283"
     },
     "user_tz": -60
    },
    "id": "7b18597e",
    "papermill": {
     "duration": 0.948254,
     "end_time": "2023-12-21T22:46:53.381160",
     "exception": false,
     "start_time": "2023-12-21T22:46:52.432906",
     "status": "completed"
    },
    "tags": []
   },
   "outputs": [],
   "source": [
    "data = data[data.week != data.week.min()]\n",
    "data.bestseller_rank.fillna(999, inplace=True)"
   ]
  },
  {
   "cell_type": "code",
   "execution_count": 31,
   "id": "3870703a",
   "metadata": {
    "execution": {
     "iopub.execute_input": "2023-12-21T22:46:53.412510Z",
     "iopub.status.busy": "2023-12-21T22:46:53.412150Z",
     "iopub.status.idle": "2023-12-21T22:47:05.815743Z",
     "shell.execute_reply": "2023-12-21T22:47:05.814465Z"
    },
    "executionInfo": {
     "elapsed": 12548,
     "status": "ok",
     "timestamp": 1699021179017,
     "user": {
      "displayName": "nick wils",
      "userId": "09906672494021070283"
     },
     "user_tz": -60
    },
    "id": "7d9bb629",
    "papermill": {
     "duration": 12.422024,
     "end_time": "2023-12-21T22:47:05.818205",
     "exception": false,
     "start_time": "2023-12-21T22:46:53.396181",
     "status": "completed"
    },
    "tags": []
   },
   "outputs": [],
   "source": [
    "data = pd.merge(data, articles, on='article_id', how='left')\n",
    "data = pd.merge(data, customers, on='customer_id', how='left')"
   ]
  },
  {
   "cell_type": "code",
   "execution_count": 32,
   "id": "ec59bd57",
   "metadata": {
    "execution": {
     "iopub.execute_input": "2023-12-21T22:47:05.848855Z",
     "iopub.status.busy": "2023-12-21T22:47:05.848470Z",
     "iopub.status.idle": "2023-12-21T22:47:14.570722Z",
     "shell.execute_reply": "2023-12-21T22:47:14.569725Z"
    },
    "executionInfo": {
     "elapsed": 7950,
     "status": "ok",
     "timestamp": 1699021186933,
     "user": {
      "displayName": "nick wils",
      "userId": "09906672494021070283"
     },
     "user_tz": -60
    },
    "id": "1560db63",
    "papermill": {
     "duration": 8.740027,
     "end_time": "2023-12-21T22:47:14.572883",
     "exception": false,
     "start_time": "2023-12-21T22:47:05.832856",
     "status": "completed"
    },
    "tags": []
   },
   "outputs": [],
   "source": [
    "data.sort_values(['week', 'customer_id'], inplace=True)\n",
    "data.reset_index(drop=True, inplace=True)"
   ]
  },
  {
   "cell_type": "code",
   "execution_count": 33,
   "id": "eb076d98",
   "metadata": {
    "execution": {
     "iopub.execute_input": "2023-12-21T22:47:14.605222Z",
     "iopub.status.busy": "2023-12-21T22:47:14.604884Z",
     "iopub.status.idle": "2023-12-21T22:47:22.268135Z",
     "shell.execute_reply": "2023-12-21T22:47:22.267147Z"
    },
    "executionInfo": {
     "elapsed": 5910,
     "status": "ok",
     "timestamp": 1699021192840,
     "user": {
      "displayName": "nick wils",
      "userId": "09906672494021070283"
     },
     "user_tz": -60
    },
    "id": "05114189",
    "papermill": {
     "duration": 7.682051,
     "end_time": "2023-12-21T22:47:22.270525",
     "exception": false,
     "start_time": "2023-12-21T22:47:14.588474",
     "status": "completed"
    },
    "tags": []
   },
   "outputs": [],
   "source": [
    "train = data[data.week != test_week]\n",
    "test = data[data.week==test_week].drop_duplicates(['customer_id', 'article_id', 'sales_channel_id']).copy()"
   ]
  },
  {
   "cell_type": "code",
   "execution_count": 34,
   "id": "073389e7",
   "metadata": {
    "execution": {
     "iopub.execute_input": "2023-12-21T22:47:22.301872Z",
     "iopub.status.busy": "2023-12-21T22:47:22.301511Z",
     "iopub.status.idle": "2023-12-21T22:47:22.908158Z",
     "shell.execute_reply": "2023-12-21T22:47:22.906865Z"
    },
    "executionInfo": {
     "elapsed": 996,
     "status": "ok",
     "timestamp": 1699021193784,
     "user": {
      "displayName": "nick wils",
      "userId": "09906672494021070283"
     },
     "user_tz": -60
    },
    "id": "d32dfd01",
    "papermill": {
     "duration": 0.624683,
     "end_time": "2023-12-21T22:47:22.910191",
     "exception": false,
     "start_time": "2023-12-21T22:47:22.285508",
     "status": "completed"
    },
    "tags": []
   },
   "outputs": [],
   "source": [
    "train_baskets = train.groupby(['week', 'customer_id'])['article_id'].count().values"
   ]
  },
  {
   "cell_type": "code",
   "execution_count": 35,
   "id": "d8b23fd1",
   "metadata": {
    "execution": {
     "iopub.execute_input": "2023-12-21T22:47:22.940227Z",
     "iopub.status.busy": "2023-12-21T22:47:22.939246Z",
     "iopub.status.idle": "2023-12-21T22:47:22.945388Z",
     "shell.execute_reply": "2023-12-21T22:47:22.944432Z"
    },
    "executionInfo": {
     "elapsed": 11,
     "status": "ok",
     "timestamp": 1699021193785,
     "user": {
      "displayName": "nick wils",
      "userId": "09906672494021070283"
     },
     "user_tz": -60
    },
    "id": "2b027da8",
    "papermill": {
     "duration": 0.022703,
     "end_time": "2023-12-21T22:47:22.947119",
     "exception": false,
     "start_time": "2023-12-21T22:47:22.924416",
     "status": "completed"
    },
    "tags": []
   },
   "outputs": [],
   "source": [
    "columns_to_use = ['article_id', 'product_type_no', 'graphical_appearance_no', 'colour_group_code', 'perceived_colour_value_id',\n",
    "'perceived_colour_master_id', 'department_no', 'index_code',\n",
    "'index_group_no', 'section_no', 'garment_group_no', 'FN', 'Active',\n",
    "'club_member_status', 'fashion_news_frequency', 'age', 'postal_code', 'bestseller_rank',\n",
    "'buys_womens_clothing', 'buys_mens_clothes', 'buys_kid_baby_clothes', 'season',\n",
    "'fabric_jeans','fabric_cotton', 'fabric_wool', 'fabric_polyester', 'fabric_silk', 'fabric_denim', 'fabric_linen', 'fabric_spandex', 'fabric_rayon', 'fabric_nylon', 'fabric_leather', 'fabric_suede',\n",
    "'autumnBoosted']\n",
    "#  'year', 'month',"
   ]
  },
  {
   "cell_type": "code",
   "execution_count": 36,
   "id": "605b3e01",
   "metadata": {
    "execution": {
     "iopub.execute_input": "2023-12-21T22:47:22.977055Z",
     "iopub.status.busy": "2023-12-21T22:47:22.976701Z",
     "iopub.status.idle": "2023-12-21T22:47:23.561489Z",
     "shell.execute_reply": "2023-12-21T22:47:23.560036Z"
    },
    "executionInfo": {
     "elapsed": 884,
     "status": "ok",
     "timestamp": 1699021194659,
     "user": {
      "displayName": "nick wils",
      "userId": "09906672494021070283"
     },
     "user_tz": -60
    },
    "id": "120aecab",
    "outputId": "ac17e6b9-f070-44a7-a804-861394e9d164",
    "papermill": {
     "duration": 0.602112,
     "end_time": "2023-12-21T22:47:23.563352",
     "exception": false,
     "start_time": "2023-12-21T22:47:22.961240",
     "status": "completed"
    },
    "tags": []
   },
   "outputs": [
    {
     "name": "stdout",
     "output_type": "stream",
     "text": [
      "CPU times: user 393 ms, sys: 189 ms, total: 582 ms\n",
      "Wall time: 579 ms\n"
     ]
    }
   ],
   "source": [
    "%%time\n",
    "\n",
    "train_X = train[columns_to_use]\n",
    "train_y = train['purchased']\n",
    "\n",
    "test_X = test[columns_to_use]"
   ]
  },
  {
   "cell_type": "markdown",
   "id": "f1501f6b",
   "metadata": {
    "id": "82745ed2",
    "papermill": {
     "duration": 0.014386,
     "end_time": "2023-12-21T22:47:23.592818",
     "exception": false,
     "start_time": "2023-12-21T22:47:23.578432",
     "status": "completed"
    },
    "tags": []
   },
   "source": [
    "# Model training"
   ]
  },
  {
   "cell_type": "code",
   "execution_count": 37,
   "id": "fff8d2cd",
   "metadata": {
    "execution": {
     "iopub.execute_input": "2023-12-21T22:47:23.624102Z",
     "iopub.status.busy": "2023-12-21T22:47:23.623481Z",
     "iopub.status.idle": "2023-12-21T22:47:24.886345Z",
     "shell.execute_reply": "2023-12-21T22:47:24.885156Z"
    },
    "executionInfo": {
     "elapsed": 1538,
     "status": "ok",
     "timestamp": 1699021196194,
     "user": {
      "displayName": "nick wils",
      "userId": "09906672494021070283"
     },
     "user_tz": -60
    },
    "id": "1e949a9d",
    "papermill": {
     "duration": 1.281235,
     "end_time": "2023-12-21T22:47:24.888802",
     "exception": false,
     "start_time": "2023-12-21T22:47:23.607567",
     "status": "completed"
    },
    "tags": []
   },
   "outputs": [],
   "source": [
    "from lightgbm.sklearn import LGBMRanker"
   ]
  },
  {
   "cell_type": "code",
   "execution_count": 38,
   "id": "a91948c0",
   "metadata": {
    "execution": {
     "iopub.execute_input": "2023-12-21T22:47:24.920349Z",
     "iopub.status.busy": "2023-12-21T22:47:24.920011Z",
     "iopub.status.idle": "2023-12-21T22:47:24.925485Z",
     "shell.execute_reply": "2023-12-21T22:47:24.924023Z"
    },
    "executionInfo": {
     "elapsed": 4,
     "status": "ok",
     "timestamp": 1699021196194,
     "user": {
      "displayName": "nick wils",
      "userId": "09906672494021070283"
     },
     "user_tz": -60
    },
    "id": "cd60dded",
    "papermill": {
     "duration": 0.023857,
     "end_time": "2023-12-21T22:47:24.927891",
     "exception": false,
     "start_time": "2023-12-21T22:47:24.904034",
     "status": "completed"
    },
    "tags": []
   },
   "outputs": [],
   "source": [
    "ranker = LGBMRanker(\n",
    "    objective=\"lambdarank\",\n",
    "    metric=\"ndcg\",\n",
    "    boosting_type=\"dart\",\n",
    "    n_estimators=1,\n",
    "    importance_type='gain',\n",
    "    verbose=10\n",
    ")"
   ]
  },
  {
   "cell_type": "markdown",
   "id": "27321d41",
   "metadata": {
    "papermill": {
     "duration": 0.01433,
     "end_time": "2023-12-21T22:47:24.957393",
     "exception": false,
     "start_time": "2023-12-21T22:47:24.943063",
     "status": "completed"
    },
    "tags": []
   },
   "source": [
    "# Boost seasonal feature"
   ]
  },
  {
   "cell_type": "code",
   "execution_count": 39,
   "id": "d8b09294",
   "metadata": {
    "execution": {
     "iopub.execute_input": "2023-12-21T22:47:24.987860Z",
     "iopub.status.busy": "2023-12-21T22:47:24.987458Z",
     "iopub.status.idle": "2023-12-21T22:47:26.375228Z",
     "shell.execute_reply": "2023-12-21T22:47:26.373793Z"
    },
    "papermill": {
     "duration": 1.406024,
     "end_time": "2023-12-21T22:47:26.377736",
     "exception": false,
     "start_time": "2023-12-21T22:47:24.971712",
     "status": "completed"
    },
    "tags": []
   },
   "outputs": [],
   "source": [
    "sample_weights = [2 if autumnBoosted == 1 else 1 for autumnBoosted in train_X['autumnBoosted']]\n"
   ]
  },
  {
   "cell_type": "code",
   "execution_count": 40,
   "id": "2600f75c",
   "metadata": {
    "execution": {
     "iopub.execute_input": "2023-12-21T22:47:26.408813Z",
     "iopub.status.busy": "2023-12-21T22:47:26.408457Z",
     "iopub.status.idle": "2023-12-21T22:47:38.912503Z",
     "shell.execute_reply": "2023-12-21T22:47:38.910926Z"
    },
    "id": "25f040a4",
    "papermill": {
     "duration": 12.523181,
     "end_time": "2023-12-21T22:47:38.915845",
     "exception": false,
     "start_time": "2023-12-21T22:47:26.392664",
     "status": "completed"
    },
    "tags": []
   },
   "outputs": [
    {
     "name": "stdout",
     "output_type": "stream",
     "text": [
      "[LightGBM] [Info] Loading query weights...\n",
      "[LightGBM] [Debug] Dataset::GetMultiBinFromSparseFeatures: sparse rate 0.905733\n",
      "[LightGBM] [Debug] Dataset::GetMultiBinFromAllFeatures: sparse rate 0.542235\n",
      "[LightGBM] [Debug] init for col-wise cost 0.959954 seconds, init for row-wise cost 2.303538 seconds\n",
      "[LightGBM] [Warning] Auto-choosing row-wise multi-threading, the overhead of testing was 1.545566 seconds.\n",
      "You can set `force_row_wise=true` to remove the overhead.\n",
      "And if memory is not enough, you can set `force_col_wise=true`.\n",
      "[LightGBM] [Debug] Using Sparse Multi-Val Bin\n",
      "[LightGBM] [Info] Total Bins 1109\n",
      "[LightGBM] [Info] Number of data points in the train set: 10205052, number of used features: 34\n",
      "[LightGBM] [Debug] Trained a tree with leaves = 31 and depth = 9\n",
      "CPU times: user 29 s, sys: 2.3 s, total: 31.3 s\n",
      "Wall time: 12.5 s\n"
     ]
    }
   ],
   "source": [
    "%%time\n",
    "\n",
    "ranker = ranker.fit(\n",
    "    train_X,\n",
    "    train_y,\n",
    "    group=train_baskets,\n",
    "    sample_weight=sample_weights  # Use sample weights\n",
    ")"
   ]
  },
  {
   "cell_type": "code",
   "execution_count": 41,
   "id": "7e9b36d8",
   "metadata": {
    "execution": {
     "iopub.execute_input": "2023-12-21T22:47:38.968921Z",
     "iopub.status.busy": "2023-12-21T22:47:38.967617Z",
     "iopub.status.idle": "2023-12-21T22:47:38.985437Z",
     "shell.execute_reply": "2023-12-21T22:47:38.982753Z"
    },
    "id": "4b6b5a94",
    "papermill": {
     "duration": 0.050422,
     "end_time": "2023-12-21T22:47:38.988191",
     "exception": false,
     "start_time": "2023-12-21T22:47:38.937769",
     "status": "completed"
    },
    "tags": []
   },
   "outputs": [
    {
     "name": "stdout",
     "output_type": "stream",
     "text": [
      "bestseller_rank 0.9962709464663856\n",
      "season 0.00254325057488934\n",
      "buys_kid_baby_clothes 0.00045367677222126694\n",
      "age 0.00022416996550489576\n",
      "buys_mens_clothes 0.00015890162233198903\n",
      "fabric_wool 6.42673572945795e-05\n",
      "product_type_no 4.831104818682237e-05\n",
      "club_member_status 4.714161441205282e-05\n",
      "postal_code 3.8716484374915604e-05\n",
      "perceived_colour_value_id 3.8267316518420724e-05\n",
      "article_id 3.335042368171536e-05\n",
      "garment_group_no 2.6965350561717527e-05\n",
      "Active 1.8510743441764202e-05\n",
      "graphical_appearance_no 1.2813621122884336e-05\n",
      "fashion_news_frequency 1.1690443880555831e-05\n",
      "index_group_no 9.020195191537174e-06\n",
      "fabric_cotton 0.0\n",
      "fabric_leather 0.0\n",
      "colour_group_code 0.0\n",
      "fabric_nylon 0.0\n",
      "perceived_colour_master_id 0.0\n",
      "department_no 0.0\n",
      "index_code 0.0\n",
      "section_no 0.0\n",
      "FN 0.0\n",
      "fabric_jeans 0.0\n",
      "fabric_rayon 0.0\n",
      "fabric_spandex 0.0\n",
      "fabric_linen 0.0\n",
      "fabric_suede 0.0\n",
      "buys_womens_clothing 0.0\n",
      "fabric_denim 0.0\n",
      "fabric_silk 0.0\n",
      "fabric_polyester 0.0\n",
      "autumnBoosted 0.0\n"
     ]
    }
   ],
   "source": [
    "for i in ranker.feature_importances_.argsort()[::-1]:\n",
    "    print(columns_to_use[i], ranker.feature_importances_[i]/ranker.feature_importances_.sum())"
   ]
  },
  {
   "cell_type": "markdown",
   "id": "0824d703",
   "metadata": {
    "id": "00faf029",
    "papermill": {
     "duration": 0.025461,
     "end_time": "2023-12-21T22:47:39.037999",
     "exception": false,
     "start_time": "2023-12-21T22:47:39.012538",
     "status": "completed"
    },
    "tags": []
   },
   "source": [
    "# Calculate predictions"
   ]
  },
  {
   "cell_type": "code",
   "execution_count": 42,
   "id": "b52b2a86",
   "metadata": {
    "execution": {
     "iopub.execute_input": "2023-12-21T22:47:39.097636Z",
     "iopub.status.busy": "2023-12-21T22:47:39.095387Z",
     "iopub.status.idle": "2023-12-21T22:47:58.870787Z",
     "shell.execute_reply": "2023-12-21T22:47:58.869498Z"
    },
    "id": "7e862846",
    "papermill": {
     "duration": 19.806169,
     "end_time": "2023-12-21T22:47:58.875084",
     "exception": false,
     "start_time": "2023-12-21T22:47:39.068915",
     "status": "completed"
    },
    "tags": []
   },
   "outputs": [
    {
     "name": "stdout",
     "output_type": "stream",
     "text": [
      "CPU times: user 2 µs, sys: 1e+03 ns, total: 3 µs\n",
      "Wall time: 5.72 µs\n"
     ]
    }
   ],
   "source": [
    "%time\n",
    "\n",
    "test['preds'] = ranker.predict(test_X)\n",
    "\n",
    "c_id2predicted_article_ids = test \\\n",
    "    .sort_values(['customer_id', 'preds'], ascending=False) \\\n",
    "    .groupby('customer_id')['article_id'].apply(list).to_dict()\n",
    "\n",
    "bestsellers_last_week = \\\n",
    "    bestsellers_previous_week[bestsellers_previous_week.week == bestsellers_previous_week.week.max()]['article_id'].tolist()"
   ]
  },
  {
   "cell_type": "markdown",
   "id": "e11da670",
   "metadata": {
    "id": "de045e98",
    "papermill": {
     "duration": 0.015296,
     "end_time": "2023-12-21T22:47:58.908058",
     "exception": false,
     "start_time": "2023-12-21T22:47:58.892762",
     "status": "completed"
    },
    "tags": []
   },
   "source": [
    "# Create submission"
   ]
  },
  {
   "cell_type": "code",
   "execution_count": 43,
   "id": "4c1a8dff",
   "metadata": {
    "execution": {
     "iopub.execute_input": "2023-12-21T22:47:58.941506Z",
     "iopub.status.busy": "2023-12-21T22:47:58.940965Z",
     "iopub.status.idle": "2023-12-21T22:48:03.300514Z",
     "shell.execute_reply": "2023-12-21T22:48:03.298614Z"
    },
    "id": "43e4fda7",
    "papermill": {
     "duration": 4.379931,
     "end_time": "2023-12-21T22:48:03.303349",
     "exception": false,
     "start_time": "2023-12-21T22:47:58.923418",
     "status": "completed"
    },
    "tags": []
   },
   "outputs": [],
   "source": [
    "sub = pd.read_csv('/kaggle/input/h-and-m-personalized-fashion-recommendations/sample_submission.csv')"
   ]
  },
  {
   "cell_type": "code",
   "execution_count": 44,
   "id": "f7422e59",
   "metadata": {
    "execution": {
     "iopub.execute_input": "2023-12-21T22:48:03.336291Z",
     "iopub.status.busy": "2023-12-21T22:48:03.335944Z",
     "iopub.status.idle": "2023-12-21T22:48:12.364844Z",
     "shell.execute_reply": "2023-12-21T22:48:12.363442Z"
    },
    "id": "a35ac969",
    "papermill": {
     "duration": 9.048513,
     "end_time": "2023-12-21T22:48:12.367245",
     "exception": false,
     "start_time": "2023-12-21T22:48:03.318732",
     "status": "completed"
    },
    "tags": []
   },
   "outputs": [
    {
     "name": "stdout",
     "output_type": "stream",
     "text": [
      "CPU times: user 8.85 s, sys: 169 ms, total: 9.02 s\n",
      "Wall time: 9.02 s\n"
     ]
    }
   ],
   "source": [
    "%%time\n",
    "preds = []\n",
    "predsval = []\n",
    "positive_items_val = val.groupby(['customer_id'])['article_id'].apply(list)\n",
    "# creating validation set for metrics\n",
    "val_users = positive_items_val.keys()\n",
    "val_items = []\n",
    "# Go over all customers and get a prediction\n",
    "for c_id in customer_hex_id_to_int(sub.customer_id):\n",
    "    pred = c_id2predicted_article_ids.get(c_id, [])\n",
    "    pred = pred + bestsellers_last_week\n",
    "    preds.append(pred[:12])\n",
    "#     if the customer bought something in the validation set add it to the validation list\n",
    "    if c_id in val_users:\n",
    "        predsval.append(pred[:12])\n",
    "        val_items.append(positive_items_val[c_id])"
   ]
  },
  {
   "cell_type": "code",
   "execution_count": 45,
   "id": "98cb64aa",
   "metadata": {
    "execution": {
     "iopub.execute_input": "2023-12-21T22:48:12.401114Z",
     "iopub.status.busy": "2023-12-21T22:48:12.400720Z",
     "iopub.status.idle": "2023-12-21T22:48:12.963940Z",
     "shell.execute_reply": "2023-12-21T22:48:12.961730Z"
    },
    "papermill": {
     "duration": 0.584449,
     "end_time": "2023-12-21T22:48:12.966862",
     "exception": false,
     "start_time": "2023-12-21T22:48:12.382413",
     "status": "completed"
    },
    "tags": []
   },
   "outputs": [
    {
     "name": "stdout",
     "output_type": "stream",
     "text": [
      "Total users in validation: 68984\n",
      "mAP12 Score on Validation set: 0.022771612247049183\n",
      "precision Score on Validation set: 0.010159360624685917\n",
      "recall Score on Validation set: 0.0477448074224207\n"
     ]
    }
   ],
   "source": [
    "if Testing:\n",
    "    print(\"Total users in validation:\", len(val_users))\n",
    "    print(\"mAP12 Score on Validation set:\", mapk(val_items, predsval))\n",
    "    print(\"precision Score on Validation set:\", precision12(val_items, predsval))\n",
    "    print(\"recall Score on Validation set:\", recall12(val_items, predsval))"
   ]
  },
  {
   "cell_type": "code",
   "execution_count": 46,
   "id": "044d772b",
   "metadata": {
    "execution": {
     "iopub.execute_input": "2023-12-21T22:48:13.001502Z",
     "iopub.status.busy": "2023-12-21T22:48:13.001077Z",
     "iopub.status.idle": "2023-12-21T22:48:17.863775Z",
     "shell.execute_reply": "2023-12-21T22:48:17.862554Z"
    },
    "id": "3f8f9304",
    "papermill": {
     "duration": 4.882676,
     "end_time": "2023-12-21T22:48:17.866326",
     "exception": false,
     "start_time": "2023-12-21T22:48:12.983650",
     "status": "completed"
    },
    "tags": []
   },
   "outputs": [],
   "source": [
    "preds = [' '.join(['0' + str(p) for p in ps]) for ps in preds]\n",
    "sub.prediction = preds"
   ]
  },
  {
   "cell_type": "code",
   "execution_count": 47,
   "id": "c584a6bc",
   "metadata": {
    "execution": {
     "iopub.execute_input": "2023-12-21T22:48:17.900885Z",
     "iopub.status.busy": "2023-12-21T22:48:17.900492Z",
     "iopub.status.idle": "2023-12-21T22:48:36.265239Z",
     "shell.execute_reply": "2023-12-21T22:48:36.264085Z"
    },
    "id": "62d8338d",
    "papermill": {
     "duration": 18.385299,
     "end_time": "2023-12-21T22:48:36.268172",
     "exception": false,
     "start_time": "2023-12-21T22:48:17.882873",
     "status": "completed"
    },
    "tags": []
   },
   "outputs": [],
   "source": [
    "sub_name = 'SeasonBoosted_model_submission'\n",
    "sub.to_csv(f'{sub_name}.csv.gz', index=False)"
   ]
  }
 ],
 "metadata": {
  "kaggle": {
   "accelerator": "none",
   "dataSources": [
    {
     "databundleVersionId": 3103714,
     "sourceId": 31254,
     "sourceType": "competition"
    },
    {
     "sourceId": 149573710,
     "sourceType": "kernelVersion"
    }
   ],
   "dockerImageVersionId": 30558,
   "isGpuEnabled": false,
   "isInternetEnabled": true,
   "language": "python",
   "sourceType": "notebook"
  },
  "kernelspec": {
   "display_name": "Python 3",
   "language": "python",
   "name": "python3"
  },
  "language_info": {
   "codemirror_mode": {
    "name": "ipython",
    "version": 3
   },
   "file_extension": ".py",
   "mimetype": "text/x-python",
   "name": "python",
   "nbconvert_exporter": "python",
   "pygments_lexer": "ipython3",
   "version": "3.10.12"
  },
  "papermill": {
   "default_parameters": {},
   "duration": 166.158773,
   "end_time": "2023-12-21T22:48:38.910325",
   "environment_variables": {},
   "exception": null,
   "input_path": "__notebook__.ipynb",
   "output_path": "__notebook__.ipynb",
   "parameters": {},
   "start_time": "2023-12-21T22:45:52.751552",
   "version": "2.4.0"
  }
 },
 "nbformat": 4,
 "nbformat_minor": 5
}
