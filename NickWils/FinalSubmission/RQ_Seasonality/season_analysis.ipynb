{
 "cells": [
  {
   "cell_type": "markdown",
   "id": "21268b67",
   "metadata": {
    "papermill": {
     "duration": 0.004633,
     "end_time": "2023-12-21T22:39:53.614263",
     "exception": false,
     "start_time": "2023-12-21T22:39:53.609630",
     "status": "completed"
    },
    "tags": []
   },
   "source": [
    "# Read input files"
   ]
  },
  {
   "cell_type": "code",
   "execution_count": 1,
   "id": "4ea25f66",
   "metadata": {
    "execution": {
     "iopub.execute_input": "2023-12-21T22:39:53.625627Z",
     "iopub.status.busy": "2023-12-21T22:39:53.625296Z",
     "iopub.status.idle": "2023-12-21T22:39:59.394335Z",
     "shell.execute_reply": "2023-12-21T22:39:59.393259Z"
    },
    "papermill": {
     "duration": 5.776496,
     "end_time": "2023-12-21T22:39:59.396382",
     "exception": false,
     "start_time": "2023-12-21T22:39:53.619886",
     "status": "completed"
    },
    "tags": []
   },
   "outputs": [
    {
     "name": "stdout",
     "output_type": "stream",
     "text": [
      "CPU times: user 2.6 s, sys: 2.5 s, total: 5.1 s\n",
      "Wall time: 5.76 s\n"
     ]
    }
   ],
   "source": [
    "%%time\n",
    "import pandas as pd\n",
    "\n",
    "pad = \"/kaggle/input/makeparquet\"\n",
    "transactions = pd.read_parquet(pad+'/transactions_train.parquet')\n",
    "customers = pd.read_parquet(pad+'/customers.parquet')\n",
    "articles = pd.read_parquet(pad+'/articles.parquet')"
   ]
  },
  {
   "cell_type": "markdown",
   "id": "26f2782f",
   "metadata": {
    "papermill": {
     "duration": 0.004075,
     "end_time": "2023-12-21T22:39:59.404554",
     "exception": false,
     "start_time": "2023-12-21T22:39:59.400479",
     "status": "completed"
    },
    "tags": []
   },
   "source": [
    "Combine transactions with articles"
   ]
  },
  {
   "cell_type": "code",
   "execution_count": 2,
   "id": "54f436d9",
   "metadata": {
    "execution": {
     "iopub.execute_input": "2023-12-21T22:39:59.414316Z",
     "iopub.status.busy": "2023-12-21T22:39:59.413808Z",
     "iopub.status.idle": "2023-12-21T22:40:19.167786Z",
     "shell.execute_reply": "2023-12-21T22:40:19.166264Z"
    },
    "papermill": {
     "duration": 19.761517,
     "end_time": "2023-12-21T22:40:19.170089",
     "exception": false,
     "start_time": "2023-12-21T22:39:59.408572",
     "status": "completed"
    },
    "tags": []
   },
   "outputs": [],
   "source": [
    "transactions = transactions.merge(articles, on='article_id', how='inner')"
   ]
  },
  {
   "cell_type": "markdown",
   "id": "6b2495b8",
   "metadata": {
    "papermill": {
     "duration": 0.003697,
     "end_time": "2023-12-21T22:40:19.178008",
     "exception": false,
     "start_time": "2023-12-21T22:40:19.174311",
     "status": "completed"
    },
    "tags": []
   },
   "source": [
    "# Most bought color by season, each block is a different season"
   ]
  },
  {
   "cell_type": "code",
   "execution_count": 3,
   "id": "7d36a073",
   "metadata": {
    "execution": {
     "iopub.execute_input": "2023-12-21T22:40:19.187446Z",
     "iopub.status.busy": "2023-12-21T22:40:19.187061Z",
     "iopub.status.idle": "2023-12-21T22:40:21.655081Z",
     "shell.execute_reply": "2023-12-21T22:40:21.653850Z"
    },
    "papermill": {
     "duration": 2.475564,
     "end_time": "2023-12-21T22:40:21.657392",
     "exception": false,
     "start_time": "2023-12-21T22:40:19.181828",
     "status": "completed"
    },
    "tags": []
   },
   "outputs": [
    {
     "name": "stdout",
     "output_type": "stream",
     "text": [
      "autumn\n",
      "    colour_group_code  purchase_count colour_group_name\n",
      "9                   9         2943256             Black\n",
      "10                 10          539354             White\n",
      "41                 73          530908         Dark Blue\n",
      "7                   7          299429              Grey\n",
      "29                 43          299090          Dark Red\n",
      "12                 12          262684       Light Beige\n",
      "8                   8          236046         Dark Grey\n",
      "13                 13          222579             Beige\n",
      "40                 72          217331              Blue\n",
      "49                 93          201611        Dark Green\n",
      "31                 51          174769        Light Pink\n",
      "11                 11          173669         Off White\n",
      "28                 42          149212               Red\n",
      "39                 71          143287        Light Blue\n",
      "17                 19          138014    Greenish Khaki\n",
      "16                 17          128572   Yellowish Brown\n",
      "6                   6          124724        Light Grey\n",
      "14                 14           99022        Dark Beige\n",
      "20                 22           94038            Yellow\n",
      "32                 52           93570              Pink\n",
      "23                 31           72731      Light Orange\n",
      "45                 83           54354    Dark Turquoise\n",
      "5                   5           52140              Gold\n",
      "33                 53           50771         Dark Pink\n",
      "25                 33           44486       Dark Orange\n",
      "24                 32           37476            Orange\n",
      "21                 23           31710       Dark Yellow\n",
      "48                 92           31200             Green\n",
      "3                   3           29499            Silver\n",
      "15                 15           25778     Greyish Beige\n",
      "37                 63           17615       Dark Purple\n",
      "44                 82           15022         Turquoise\n",
      "43                 81           13647   Light Turquoise\n",
      "19                 21           13308      Light Yellow\n",
      "35                 61           13015      Light Purple\n",
      "30                 50           10999        Other Pink\n",
      "47                 91            8692       Light Green\n",
      "18                 20            7020      Other Yellow\n",
      "36                 62            6982            Purple\n",
      "1                   1            6270             Other\n",
      "26                 40            4398         Other Red\n",
      "27                 41            3560         Light Red\n",
      "22                 30            2429      Other Orange\n",
      "38                 70            1625        Other Blue\n",
      "2                   2            1586       Transparent\n",
      "34                 60            1515      Other Purple\n",
      "4                   4            1462     Bronze/Copper\n",
      "46                 90            1251       Other Green\n",
      "0                  -1             887           Unknown\n",
      "42                 80              94   Other Turquoise\n"
     ]
    }
   ],
   "source": [
    "import pandas as pd\n",
    "\n",
    "# Filter transactions for autumn months (September, October, November)\n",
    "autumn_transactions = transactions[(transactions['month'] >= 9) & (transactions['month'] <= 11)]\n",
    "\n",
    "# Group transactions by 'colour_group_code' and count the number of purchases for each group\n",
    "autumn_purchase_count_by_color_group = autumn_transactions.groupby('colour_group_code')['article_id'].count().reset_index()\n",
    "\n",
    "# Merge the result with the 'articles' DataFrame to add the 'colour_group_name'\n",
    "autumn_purchase_count_by_color_group = autumn_purchase_count_by_color_group.merge(articles[['colour_group_code', 'colour_group_name']].drop_duplicates(), on='colour_group_code')\n",
    "\n",
    "# Rename the columns for clarity\n",
    "autumn_purchase_count_by_color_group = autumn_purchase_count_by_color_group.rename(columns={'article_id': 'purchase_count'})\n",
    "\n",
    "# Sort the result by purchase count in descending order\n",
    "autumn_purchase_count_by_color_group = autumn_purchase_count_by_color_group.sort_values(by='purchase_count', ascending=False)\n",
    "\n",
    "# Print the result\n",
    "print(\"autumn\")\n",
    "\n",
    "print(autumn_purchase_count_by_color_group)\n"
   ]
  },
  {
   "cell_type": "code",
   "execution_count": 4,
   "id": "16d8bd4d",
   "metadata": {
    "execution": {
     "iopub.execute_input": "2023-12-21T22:40:21.667854Z",
     "iopub.status.busy": "2023-12-21T22:40:21.667444Z",
     "iopub.status.idle": "2023-12-21T22:40:23.874625Z",
     "shell.execute_reply": "2023-12-21T22:40:23.872620Z"
    },
    "papermill": {
     "duration": 2.215223,
     "end_time": "2023-12-21T22:40:23.876954",
     "exception": false,
     "start_time": "2023-12-21T22:40:21.661731",
     "status": "completed"
    },
    "tags": []
   },
   "outputs": [
    {
     "name": "stdout",
     "output_type": "stream",
     "text": [
      "winter\n",
      "    colour_group_code  purchase_count colour_group_name\n",
      "9                   9         2603863             Black\n",
      "10                 10          529817             White\n",
      "41                 73          486910         Dark Blue\n",
      "7                   7          229790              Grey\n",
      "12                 12          220426       Light Beige\n",
      "13                 13          215135             Beige\n",
      "40                 72          203517              Blue\n",
      "29                 43          197419          Dark Red\n",
      "8                   8          190372         Dark Grey\n",
      "31                 51          184951        Light Pink\n",
      "28                 42          179733               Red\n",
      "39                 71          156540        Light Blue\n",
      "49                 93          153546        Dark Green\n",
      "11                 11          134763         Off White\n",
      "17                 19          133915    Greenish Khaki\n",
      "6                   6          116526        Light Grey\n",
      "32                 52          114548              Pink\n",
      "16                 17           85730   Yellowish Brown\n",
      "14                 14           71137        Dark Beige\n",
      "20                 22           65322            Yellow\n",
      "23                 31           64268      Light Orange\n",
      "5                   5           55155              Gold\n",
      "33                 53           40540         Dark Pink\n",
      "3                   3           33910            Silver\n",
      "25                 33           28859       Dark Orange\n",
      "24                 32           28272            Orange\n",
      "45                 83           27267    Dark Turquoise\n",
      "19                 21           25571      Light Yellow\n",
      "48                 92           25040             Green\n",
      "21                 23           24833       Dark Yellow\n",
      "35                 61           15765      Light Purple\n",
      "15                 15           15097     Greyish Beige\n",
      "30                 50           13958        Other Pink\n",
      "37                 63           13474       Dark Purple\n",
      "43                 81           12197   Light Turquoise\n",
      "47                 91           11761       Light Green\n",
      "44                 82           10598         Turquoise\n",
      "18                 20            9406      Other Yellow\n",
      "27                 41            5340         Light Red\n",
      "36                 62            4060            Purple\n",
      "1                   1            3637             Other\n",
      "46                 90            3562       Other Green\n",
      "26                 40            3190         Other Red\n",
      "2                   2            2678       Transparent\n",
      "0                  -1            2071           Unknown\n",
      "22                 30            2035      Other Orange\n",
      "4                   4            1742     Bronze/Copper\n",
      "34                 60            1584      Other Purple\n",
      "38                 70            1329        Other Blue\n",
      "42                 80              79   Other Turquoise\n"
     ]
    }
   ],
   "source": [
    "import pandas as pd\n",
    "\n",
    "# Filter transactions for winter months (December, January, February)\n",
    "winter_transactions = transactions[(transactions['month'] == 12) | (transactions['month'] <= 2)]\n",
    "\n",
    "# Group transactions by 'colour_group_code' and count the number of purchases for each group\n",
    "winter_purchase_by_color_group = winter_transactions.groupby('colour_group_code')['article_id'].count().reset_index()\n",
    "\n",
    "# Merge the result with the 'articles' DataFrame to add the 'colour_group_name'\n",
    "winter_purchase_by_color_group = winter_purchase_by_color_group.merge(articles[['colour_group_code', 'colour_group_name']].drop_duplicates(), on='colour_group_code')\n",
    "\n",
    "# Rename the columns for clarity\n",
    "winter_purchase_by_color_group = winter_purchase_by_color_group.rename(columns={'article_id': 'purchase_count'})\n",
    "\n",
    "# Sort the result by purchase count in descending order\n",
    "winter_purchase_by_color_group = winter_purchase_by_color_group.sort_values(by='purchase_count', ascending=False)\n",
    "\n",
    "# Print the result\n",
    "print(\"winter\")\n",
    "\n",
    "print(winter_purchase_by_color_group)\n"
   ]
  },
  {
   "cell_type": "code",
   "execution_count": 5,
   "id": "b6e65b73",
   "metadata": {
    "execution": {
     "iopub.execute_input": "2023-12-21T22:40:23.887992Z",
     "iopub.status.busy": "2023-12-21T22:40:23.887645Z",
     "iopub.status.idle": "2023-12-21T22:40:26.860587Z",
     "shell.execute_reply": "2023-12-21T22:40:26.858639Z"
    },
    "papermill": {
     "duration": 2.981756,
     "end_time": "2023-12-21T22:40:26.863402",
     "exception": false,
     "start_time": "2023-12-21T22:40:23.881646",
     "status": "completed"
    },
    "tags": []
   },
   "outputs": [
    {
     "name": "stdout",
     "output_type": "stream",
     "text": [
      "summer\n",
      "    colour_group_code  purchase_count colour_group_name\n",
      "9                   9         2931330             Black\n",
      "10                 10         1265327             White\n",
      "41                 73          621718         Dark Blue\n",
      "12                 12          440601       Light Beige\n",
      "40                 72          341192              Blue\n",
      "39                 71          323777        Light Blue\n",
      "11                 11          300449         Off White\n",
      "31                 51          272031        Light Pink\n",
      "17                 19          252210    Greenish Khaki\n",
      "13                 13          243380             Beige\n",
      "28                 42          192978               Red\n",
      "49                 93          165199        Dark Green\n",
      "7                   7          161572              Grey\n",
      "32                 52          154066              Pink\n",
      "8                   8          152258         Dark Grey\n",
      "23                 31          141407      Light Orange\n",
      "20                 22          140164            Yellow\n",
      "25                 33          127556       Dark Orange\n",
      "29                 43          124035          Dark Red\n",
      "16                 17          115173   Yellowish Brown\n",
      "6                   6           81197        Light Grey\n",
      "19                 21           80304      Light Yellow\n",
      "5                   5           77657              Gold\n",
      "48                 92           66678             Green\n",
      "14                 14           63870        Dark Beige\n",
      "33                 53           61867         Dark Pink\n",
      "24                 32           57909            Orange\n",
      "47                 91           52002       Light Green\n",
      "35                 61           43209      Light Purple\n",
      "21                 23           29992       Dark Yellow\n",
      "3                   3           29759            Silver\n",
      "44                 82           29443         Turquoise\n",
      "43                 81           28226   Light Turquoise\n",
      "30                 50           23915        Other Pink\n",
      "45                 83           21336    Dark Turquoise\n",
      "18                 20           17091      Other Yellow\n",
      "22                 30           16074      Other Orange\n",
      "36                 62           13371            Purple\n",
      "15                 15           11507     Greyish Beige\n",
      "37                 63           11409       Dark Purple\n",
      "27                 41            8779         Light Red\n",
      "1                   1            5748             Other\n",
      "46                 90            5239       Other Green\n",
      "26                 40            4679         Other Red\n",
      "38                 70            3206        Other Blue\n",
      "34                 60            3164      Other Purple\n",
      "4                   4            2822     Bronze/Copper\n",
      "2                   2            2347       Transparent\n",
      "0                  -1            1017           Unknown\n",
      "42                 80             187   Other Turquoise\n"
     ]
    }
   ],
   "source": [
    "import pandas as pd\n",
    "\n",
    "# Filter transactions for summer months (June, July, August)\n",
    "summer_transactions = transactions[(transactions['month'] >= 6) & (transactions['month'] <= 8)]\n",
    "\n",
    "# Group transactions by 'colour_group_code' and count the number of purchases for each group\n",
    "summer_purchase_by_color_group = summer_transactions.groupby('colour_group_code')['article_id'].count().reset_index()\n",
    "\n",
    "# Merge the result with the 'articles' DataFrame to add the 'colour_group_name'\n",
    "summer_purchase_by_color_group = summer_purchase_by_color_group.merge(articles[['colour_group_code', 'colour_group_name']].drop_duplicates(), on='colour_group_code')\n",
    "\n",
    "# Rename the columns for clarity\n",
    "summer_purchase_by_color_group = summer_purchase_by_color_group.rename(columns={'article_id': 'purchase_count'})\n",
    "\n",
    "# Sort the result by purchase count in descending order\n",
    "summer_purchase_by_color_group = summer_purchase_by_color_group.sort_values(by='purchase_count', ascending=False)\n",
    "\n",
    "# Print the result\n",
    "print(\"summer\")\n",
    "\n",
    "print(summer_purchase_by_color_group)\n"
   ]
  },
  {
   "cell_type": "code",
   "execution_count": 6,
   "id": "dc968b3f",
   "metadata": {
    "execution": {
     "iopub.execute_input": "2023-12-21T22:40:26.874176Z",
     "iopub.status.busy": "2023-12-21T22:40:26.873810Z",
     "iopub.status.idle": "2023-12-21T22:40:29.591664Z",
     "shell.execute_reply": "2023-12-21T22:40:29.590180Z"
    },
    "papermill": {
     "duration": 2.726515,
     "end_time": "2023-12-21T22:40:29.594458",
     "exception": false,
     "start_time": "2023-12-21T22:40:26.867943",
     "status": "completed"
    },
    "tags": []
   },
   "outputs": [
    {
     "name": "stdout",
     "output_type": "stream",
     "text": [
      "spring\n",
      "    colour_group_code  purchase_count colour_group_name\n",
      "9                   9         2558507             Black\n",
      "10                 10         1033778             White\n",
      "41                 73          541084         Dark Blue\n",
      "12                 12          339674       Light Beige\n",
      "40                 72          326415              Blue\n",
      "39                 71          289892        Light Blue\n",
      "28                 42          246722               Red\n",
      "13                 13          240090             Beige\n",
      "17                 19          237252    Greenish Khaki\n",
      "11                 11          232792         Off White\n",
      "31                 51          226483        Light Pink\n",
      "49                 93          193617        Dark Green\n",
      "7                   7          149274              Grey\n",
      "8                   8          138365         Dark Grey\n",
      "32                 52          129992              Pink\n",
      "20                 22          129772            Yellow\n",
      "23                 31          105693      Light Orange\n",
      "29                 43           96846          Dark Red\n",
      "16                 17           84553   Yellowish Brown\n",
      "6                   6           82651        Light Grey\n",
      "25                 33           75878       Dark Orange\n",
      "19                 21           66516      Light Yellow\n",
      "48                 92           64847             Green\n",
      "5                   5           59094              Gold\n",
      "14                 14           56667        Dark Beige\n",
      "47                 91           50551       Light Green\n",
      "24                 32           40147            Orange\n",
      "33                 53           38568         Dark Pink\n",
      "35                 61           36771      Light Purple\n",
      "21                 23           27959       Dark Yellow\n",
      "3                   3           24167            Silver\n",
      "30                 50           22876        Other Pink\n",
      "43                 81           18432   Light Turquoise\n",
      "44                 82           17217         Turquoise\n",
      "27                 41           15802         Light Red\n",
      "45                 83           14885    Dark Turquoise\n",
      "18                 20            8391      Other Yellow\n",
      "37                 63            7886       Dark Purple\n",
      "15                 15            7813     Greyish Beige\n",
      "22                 30            7259      Other Orange\n",
      "1                   1            5372             Other\n",
      "46                 90            4841       Other Green\n",
      "36                 62            4484            Purple\n",
      "4                   4            3843     Bronze/Copper\n",
      "26                 40            3102         Other Red\n",
      "38                 70            1897        Other Blue\n",
      "2                   2            1832       Transparent\n",
      "0                  -1            1620           Unknown\n",
      "34                 60            1608      Other Purple\n",
      "42                 80             195   Other Turquoise\n"
     ]
    }
   ],
   "source": [
    "import pandas as pd\n",
    "\n",
    "\n",
    "# Filter transactions for spring months (March, April, May)\n",
    "spring_transactions = transactions[(transactions['month'] >= 3) & (transactions['month'] <= 5)]\n",
    "\n",
    "# Group transactions by 'colour_group_code' and count the number of purchases for each group\n",
    "spring_purchase_by_color_group = spring_transactions.groupby('colour_group_code')['article_id'].count().reset_index()\n",
    "\n",
    "# Merge the result with the 'articles' DataFrame to add the 'colour_group_name'\n",
    "spring_purchase_by_color_group = spring_purchase_by_color_group.merge(articles[['colour_group_code', 'colour_group_name']].drop_duplicates(), on='colour_group_code')\n",
    "\n",
    "# Rename the columns for clarity\n",
    "spring_purchase_by_color_group = spring_purchase_by_color_group.rename(columns={'article_id': 'purchase_count'})\n",
    "\n",
    "# Sort the result by purchase count in descending order\n",
    "spring_purchase_by_color_group = spring_purchase_by_color_group.sort_values(by='purchase_count', ascending=False)\n",
    "\n",
    "# Print the result\n",
    "print(\"spring\")\n",
    "print(spring_purchase_by_color_group)\n"
   ]
  },
  {
   "cell_type": "code",
   "execution_count": 7,
   "id": "a1eb468f",
   "metadata": {
    "execution": {
     "iopub.execute_input": "2023-12-21T22:40:29.606006Z",
     "iopub.status.busy": "2023-12-21T22:40:29.604938Z",
     "iopub.status.idle": "2023-12-21T22:40:30.053904Z",
     "shell.execute_reply": "2023-12-21T22:40:30.051323Z"
    },
    "papermill": {
     "duration": 0.457682,
     "end_time": "2023-12-21T22:40:30.056837",
     "exception": false,
     "start_time": "2023-12-21T22:40:29.599155",
     "status": "completed"
    },
    "tags": []
   },
   "outputs": [
    {
     "name": "stdout",
     "output_type": "stream",
     "text": [
      "All transactions\n",
      "    colour_group_code  purchase_count colour_group_name\n",
      "9                   9        11036956             Black\n",
      "10                 10         3368276             White\n",
      "41                 73         2180620         Dark Blue\n",
      "12                 12         1263385       Light Beige\n",
      "40                 72         1088455              Blue\n",
      "13                 13          921184             Beige\n",
      "39                 71          913496        Light Blue\n",
      "31                 51          858234        Light Pink\n",
      "11                 11          841673         Off White\n",
      "7                   7          840065              Grey\n",
      "28                 42          768645               Red\n",
      "17                 19          761391    Greenish Khaki\n",
      "29                 43          717390          Dark Red\n",
      "8                   8          717041         Dark Grey\n",
      "49                 93          713973        Dark Green\n",
      "32                 52          492176              Pink\n",
      "20                 22          429296            Yellow\n",
      "16                 17          414028   Yellowish Brown\n",
      "6                   6          405098        Light Grey\n",
      "23                 31          384099      Light Orange\n",
      "14                 14          290696        Dark Beige\n",
      "25                 33          276779       Dark Orange\n",
      "5                   5          244046              Gold\n",
      "33                 53          191746         Dark Pink\n",
      "48                 92          187765             Green\n",
      "19                 21          185699      Light Yellow\n",
      "24                 32          163804            Orange\n",
      "47                 91          123006       Light Green\n",
      "45                 83          117842    Dark Turquoise\n",
      "3                   3          117335            Silver\n",
      "21                 23          114494       Dark Yellow\n",
      "35                 61          108760      Light Purple\n",
      "43                 81           72502   Light Turquoise\n",
      "44                 82           72280         Turquoise\n",
      "30                 50           71748        Other Pink\n",
      "15                 15           60195     Greyish Beige\n",
      "37                 63           50384       Dark Purple\n",
      "18                 20           41908      Other Yellow\n",
      "27                 41           33481         Light Red\n",
      "36                 62           28897            Purple\n",
      "22                 30           27797      Other Orange\n",
      "1                   1           21027             Other\n",
      "26                 40           15369         Other Red\n",
      "46                 90           14893       Other Green\n",
      "4                   4            9869     Bronze/Copper\n",
      "2                   2            8443       Transparent\n",
      "38                 70            8057        Other Blue\n",
      "34                 60            7871      Other Purple\n",
      "0                  -1            5595           Unknown\n",
      "42                 80             555   Other Turquoise\n"
     ]
    }
   ],
   "source": [
    "import pandas as pd\n",
    "\n",
    "\n",
    "# Combine data for all seasons \n",
    "all_seasons_transactions = transactions\n",
    "\n",
    "# Group transactions by 'colour_group_code' and count the number of purchases for each group\n",
    "total_purchase_by_color_group = all_seasons_transactions.groupby('colour_group_code')['article_id'].count().reset_index()\n",
    "\n",
    "# Merge the result with the 'articles' DataFrame to add the 'colour_group_name'\n",
    "total_purchase_by_color_group = total_purchase_by_color_group.merge(articles[['colour_group_code', 'colour_group_name']].drop_duplicates(), on='colour_group_code')\n",
    "\n",
    "# Rename the columns for clarity\n",
    "total_purchase_by_color_group = total_purchase_by_color_group.rename(columns={'article_id': 'purchase_count'})\n",
    "\n",
    "# Sort the result by purchase count in descending order\n",
    "total_purchase_by_color_group = total_purchase_by_color_group.sort_values(by='purchase_count', ascending=False)\n",
    "\n",
    "# Print the result\n",
    "print(\"All transactions\")\n",
    "print(total_purchase_by_color_group)\n"
   ]
  },
  {
   "cell_type": "markdown",
   "id": "1e4dc515",
   "metadata": {
    "papermill": {
     "duration": 0.004749,
     "end_time": "2023-12-21T22:40:30.066531",
     "exception": false,
     "start_time": "2023-12-21T22:40:30.061782",
     "status": "completed"
    },
    "tags": []
   },
   "source": [
    "# Most bought fabrics by season, each block is a different season"
   ]
  },
  {
   "cell_type": "code",
   "execution_count": 8,
   "id": "fbcdc09d",
   "metadata": {
    "execution": {
     "iopub.execute_input": "2023-12-21T22:40:30.077759Z",
     "iopub.status.busy": "2023-12-21T22:40:30.077412Z",
     "iopub.status.idle": "2023-12-21T22:40:34.134341Z",
     "shell.execute_reply": "2023-12-21T22:40:34.132516Z"
    },
    "papermill": {
     "duration": 4.065533,
     "end_time": "2023-12-21T22:40:34.136863",
     "exception": false,
     "start_time": "2023-12-21T22:40:30.071330",
     "status": "completed"
    },
    "tags": []
   },
   "outputs": [
    {
     "name": "stdout",
     "output_type": "stream",
     "text": [
      "autumn\n",
      "fabric_cotton 31117.059\n",
      "fabric_denim 26421.986\n",
      "fabric_wool 25924.1\n",
      "fabric_jeans 21279.512\n",
      "fabric_leather 11354.427\n",
      "fabric_polyester 11331.343\n",
      "fabric_suede 3821.358\n",
      "fabric_silk 970.1086\n",
      "fabric_linen 940.11224\n",
      "fabric_nylon 469.85333\n",
      "fabric_rayon 0.5678644\n",
      "fabric_spandex 0.0\n"
     ]
    }
   ],
   "source": [
    "import pandas as pd\n",
    "\n",
    "# Filter transactions for autumn months\n",
    "autumn_transactions = transactions[(transactions['month'] >= 9) & (transactions['month'] <= 11)]\n",
    "\n",
    "# List of fabric columns to consider\n",
    "fabric_columns = ['fabric_jeans', 'fabric_cotton', 'fabric_wool', 'fabric_polyester', 'fabric_silk', 'fabric_denim', 'fabric_linen', 'fabric_spandex', 'fabric_rayon', 'fabric_nylon', 'fabric_leather', 'fabric_suede']\n",
    "\n",
    "# Create an empty dictionary to store the total purchases for each fabric type\n",
    "fabric_purchases = {}\n",
    "\n",
    "# Iterate through fabric columns and sum the purchases for each fabric type\n",
    "for column in fabric_columns:\n",
    "    fabric_purchases[column] = autumn_transactions[autumn_transactions[column] == 1]['price'].sum()\n",
    "\n",
    "# Convert the dictionary to a list\n",
    "fabric_purchases_list = list(fabric_purchases.items())\n",
    "\n",
    "# Sort the list by total purchases in descending order\n",
    "fabric_purchases_list.sort(key=lambda x: x[1], reverse=True)\n",
    "\n",
    "# Print the result\n",
    "print(\"autumn\")\n",
    "for fabric, total_purchases in fabric_purchases_list:\n",
    "    print(fabric, total_purchases)\n"
   ]
  },
  {
   "cell_type": "code",
   "execution_count": 9,
   "id": "7984a6d6",
   "metadata": {
    "execution": {
     "iopub.execute_input": "2023-12-21T22:40:34.148467Z",
     "iopub.status.busy": "2023-12-21T22:40:34.148022Z",
     "iopub.status.idle": "2023-12-21T22:40:37.685028Z",
     "shell.execute_reply": "2023-12-21T22:40:37.682968Z"
    },
    "papermill": {
     "duration": 3.545847,
     "end_time": "2023-12-21T22:40:37.687722",
     "exception": false,
     "start_time": "2023-12-21T22:40:34.141875",
     "status": "completed"
    },
    "tags": []
   },
   "outputs": [
    {
     "name": "stdout",
     "output_type": "stream",
     "text": [
      "winter\n",
      "fabric_cotton 23852.19\n",
      "fabric_denim 21743.31\n",
      "fabric_jeans 16868.385\n",
      "fabric_wool 12386.671\n",
      "fabric_leather 8675.545\n",
      "fabric_polyester 5015.292\n",
      "fabric_suede 3114.6084\n",
      "fabric_linen 872.42\n",
      "fabric_silk 723.8568\n",
      "fabric_nylon 334.04092\n",
      "fabric_rayon 4.7845764\n",
      "fabric_spandex 0.0\n"
     ]
    }
   ],
   "source": [
    "import pandas as pd\n",
    "\n",
    "# Filter transactions for winter months\n",
    "winter_transactions = transactions[(transactions['month'] == 12) | (transactions['month'] <= 2)]\n",
    "\n",
    "# List of fabric columns to consider\n",
    "fabric_columns = ['fabric_jeans', 'fabric_cotton', 'fabric_wool', 'fabric_polyester', 'fabric_silk', 'fabric_denim', 'fabric_linen', 'fabric_spandex', 'fabric_rayon', 'fabric_nylon', 'fabric_leather', 'fabric_suede']\n",
    "\n",
    "# Create an empty dictionary to store the total purchases for each fabric type\n",
    "fabric_purchases = {}\n",
    "\n",
    "# Iterate through fabric columns and sum the purchases for each fabric type\n",
    "for column in fabric_columns:\n",
    "    fabric_purchases[column] = winter_transactions[winter_transactions[column] == 1]['price'].sum()\n",
    "\n",
    "# Convert the dictionary to a list\n",
    "fabric_purchases_list = list(fabric_purchases.items())\n",
    "\n",
    "# Sort the list by total purchases in descending order\n",
    "fabric_purchases_list.sort(key=lambda x: x[1], reverse=True)\n",
    "\n",
    "# Print the result\n",
    "print(\"winter\")\n",
    "for fabric, total_purchases in fabric_purchases_list:\n",
    "    print(fabric, total_purchases)\n"
   ]
  },
  {
   "cell_type": "code",
   "execution_count": 10,
   "id": "75cdd397",
   "metadata": {
    "execution": {
     "iopub.execute_input": "2023-12-21T22:40:37.699158Z",
     "iopub.status.busy": "2023-12-21T22:40:37.698764Z",
     "iopub.status.idle": "2023-12-21T22:40:42.283065Z",
     "shell.execute_reply": "2023-12-21T22:40:42.281770Z"
    },
    "papermill": {
     "duration": 4.592339,
     "end_time": "2023-12-21T22:40:42.285170",
     "exception": false,
     "start_time": "2023-12-21T22:40:37.692831",
     "status": "completed"
    },
    "tags": []
   },
   "outputs": [
    {
     "name": "stdout",
     "output_type": "stream",
     "text": [
      "autumn\n",
      "fabric_cotton 42240.38\n",
      "fabric_denim 24715.91\n",
      "fabric_jeans 13729.361\n",
      "fabric_polyester 7945.688\n",
      "fabric_leather 7898.2197\n",
      "fabric_linen 7855.2534\n",
      "fabric_wool 2747.905\n",
      "fabric_suede 2712.19\n",
      "fabric_silk 884.57495\n",
      "fabric_nylon 284.10736\n",
      "fabric_rayon 6.106983\n",
      "fabric_spandex 0.0\n"
     ]
    }
   ],
   "source": [
    "import pandas as pd\n",
    "\n",
    "# Filter transactions for Autumn months \n",
    "summer_transactions = transactions[(transactions['month'] >= 6) & (transactions['month'] <= 8)]\n",
    "\n",
    "# List of fabric columns to consider\n",
    "fabric_columns = ['fabric_jeans', 'fabric_cotton', 'fabric_wool', 'fabric_polyester', 'fabric_silk', 'fabric_denim', 'fabric_linen', 'fabric_spandex', 'fabric_rayon', 'fabric_nylon', 'fabric_leather', 'fabric_suede']\n",
    "\n",
    "# Create an empty dictionary to store the total purchases for each fabric type\n",
    "fabric_purchases = {}\n",
    "\n",
    "# Iterate through fabric columns and sum the purchases for each fabric type\n",
    "for column in fabric_columns:\n",
    "    fabric_purchases[column] = summer_transactions[summer_transactions[column] == 1]['price'].sum()\n",
    "\n",
    "# Convert the dictionary to a list\n",
    "fabric_purchases_list = list(fabric_purchases.items())\n",
    "\n",
    "# Sort the list by total purchases in descending order\n",
    "fabric_purchases_list.sort(key=lambda x: x[1], reverse=True)\n",
    "\n",
    "# Print the result\n",
    "print(\"autumn\")\n",
    "for fabric, total_purchases in fabric_purchases_list:\n",
    "    print(fabric, total_purchases)"
   ]
  },
  {
   "cell_type": "code",
   "execution_count": 11,
   "id": "896181c3",
   "metadata": {
    "execution": {
     "iopub.execute_input": "2023-12-21T22:40:42.296583Z",
     "iopub.status.busy": "2023-12-21T22:40:42.296206Z",
     "iopub.status.idle": "2023-12-21T22:40:46.436180Z",
     "shell.execute_reply": "2023-12-21T22:40:46.434451Z"
    },
    "papermill": {
     "duration": 4.148375,
     "end_time": "2023-12-21T22:40:46.438700",
     "exception": false,
     "start_time": "2023-12-21T22:40:42.290325",
     "status": "completed"
    },
    "tags": []
   },
   "outputs": [
    {
     "name": "stdout",
     "output_type": "stream",
     "text": [
      "summer\n",
      "fabric_cotton 38965.273\n",
      "fabric_denim 27821.562\n",
      "fabric_jeans 17248.898\n",
      "fabric_linen 8311.631\n",
      "fabric_leather 8018.5044\n",
      "fabric_polyester 5451.559\n",
      "fabric_suede 3271.3625\n",
      "fabric_wool 2341.765\n",
      "fabric_silk 997.9345\n",
      "fabric_nylon 326.86337\n",
      "fabric_rayon 5.8532877\n",
      "fabric_spandex 0.0\n"
     ]
    }
   ],
   "source": [
    "import pandas as pd\n",
    "\n",
    "\n",
    "# Filter transactions for summer months\n",
    "spring_transactions = transactions[(transactions['month'] >= 3) & (transactions['month'] <= 5)]\n",
    "\n",
    "# List of fabric columns to consider\n",
    "fabric_columns = ['fabric_jeans', 'fabric_cotton', 'fabric_wool', 'fabric_polyester', 'fabric_silk', 'fabric_denim', 'fabric_linen', 'fabric_spandex', 'fabric_rayon', 'fabric_nylon', 'fabric_leather', 'fabric_suede']\n",
    "\n",
    "# Create an empty dictionary to store the total purchases for each fabric type\n",
    "fabric_purchases = {}\n",
    "\n",
    "# Iterate through fabric columns and sum the purchases for each fabric type\n",
    "for column in fabric_columns:\n",
    "    fabric_purchases[column] = spring_transactions[spring_transactions[column] == 1]['price'].sum()\n",
    "\n",
    "# Convert the dictionary to a list\n",
    "fabric_purchases_list = list(fabric_purchases.items())\n",
    "\n",
    "# Sort the list by total purchases in descending order\n",
    "fabric_purchases_list.sort(key=lambda x: x[1], reverse=True)\n",
    "\n",
    "# Print the result\n",
    "print(\"summer\")\n",
    "for fabric, total_purchases in fabric_purchases_list:\n",
    "    print(fabric, total_purchases)"
   ]
  },
  {
   "cell_type": "markdown",
   "id": "58dc522c",
   "metadata": {
    "papermill": {
     "duration": 0.004462,
     "end_time": "2023-12-21T22:40:46.448215",
     "exception": false,
     "start_time": "2023-12-21T22:40:46.443753",
     "status": "completed"
    },
    "tags": []
   },
   "source": [
    "All transactions"
   ]
  },
  {
   "cell_type": "code",
   "execution_count": 12,
   "id": "cb3e1af9",
   "metadata": {
    "execution": {
     "iopub.execute_input": "2023-12-21T22:40:46.459064Z",
     "iopub.status.busy": "2023-12-21T22:40:46.458711Z",
     "iopub.status.idle": "2023-12-21T22:40:51.329127Z",
     "shell.execute_reply": "2023-12-21T22:40:51.327326Z"
    },
    "papermill": {
     "duration": 4.878948,
     "end_time": "2023-12-21T22:40:51.331808",
     "exception": false,
     "start_time": "2023-12-21T22:40:46.452860",
     "status": "completed"
    },
    "tags": []
   },
   "outputs": [
    {
     "name": "stdout",
     "output_type": "stream",
     "text": [
      "all transactions\n",
      "fabric_cotton 136174.9\n",
      "fabric_denim 100702.766\n",
      "fabric_jeans 69126.17\n",
      "fabric_wool 43400.438\n",
      "fabric_leather 35946.703\n",
      "fabric_polyester 29743.883\n",
      "fabric_linen 17979.416\n",
      "fabric_suede 12919.517\n",
      "fabric_silk 3576.4749\n",
      "fabric_nylon 1414.865\n",
      "fabric_rayon 17.312714\n",
      "fabric_spandex 0.0\n"
     ]
    }
   ],
   "source": [
    "import pandas as pd\n",
    "\n",
    "# Filter transactions for all transactions\n",
    "all_seasons_transactions = transactions\n",
    "\n",
    "# List of fabric columns to consider\n",
    "fabric_columns = ['fabric_jeans', 'fabric_cotton', 'fabric_wool', 'fabric_polyester', 'fabric_silk', 'fabric_denim', 'fabric_linen', 'fabric_spandex', 'fabric_rayon', 'fabric_nylon', 'fabric_leather', 'fabric_suede']\n",
    "\n",
    "# Create an empty dictionary to store the total purchases for each fabric type\n",
    "fabric_purchases = {}\n",
    "\n",
    "# Iterate through fabric columns and sum the purchases for each fabric type\n",
    "for column in fabric_columns:\n",
    "    fabric_purchases[column] = all_seasons_transactions[all_seasons_transactions[column] == 1]['price'].sum()\n",
    "\n",
    "# Convert the dictionary to a list\n",
    "fabric_purchases_list = list(fabric_purchases.items())\n",
    "\n",
    "# Sort the list by total purchases in descending order\n",
    "fabric_purchases_list.sort(key=lambda x: x[1], reverse=True)\n",
    "\n",
    "# Print the result\n",
    "print(\"all transactions\")\n",
    "for fabric, total_purchases in fabric_purchases_list:\n",
    "    print(fabric, total_purchases)"
   ]
  }
 ],
 "metadata": {
  "kaggle": {
   "accelerator": "none",
   "dataSources": [
    {
     "sourceId": 149573710,
     "sourceType": "kernelVersion"
    }
   ],
   "dockerImageVersionId": 30558,
   "isGpuEnabled": false,
   "isInternetEnabled": true,
   "language": "python",
   "sourceType": "notebook"
  },
  "kernelspec": {
   "display_name": "Python 3",
   "language": "python",
   "name": "python3"
  },
  "language_info": {
   "codemirror_mode": {
    "name": "ipython",
    "version": 3
   },
   "file_extension": ".py",
   "mimetype": "text/x-python",
   "name": "python",
   "nbconvert_exporter": "python",
   "pygments_lexer": "ipython3",
   "version": "3.10.12"
  },
  "papermill": {
   "default_parameters": {},
   "duration": 64.315293,
   "end_time": "2023-12-21T22:40:53.957470",
   "environment_variables": {},
   "exception": null,
   "input_path": "__notebook__.ipynb",
   "output_path": "__notebook__.ipynb",
   "parameters": {},
   "start_time": "2023-12-21T22:39:49.642177",
   "version": "2.4.0"
  }
 },
 "nbformat": 4,
 "nbformat_minor": 5
}
