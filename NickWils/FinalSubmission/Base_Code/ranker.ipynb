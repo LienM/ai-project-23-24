{
 "cells": [
  {
   "cell_type": "markdown",
   "id": "3d0e79c7",
   "metadata": {
    "id": "6f21ab04",
    "papermill": {
     "duration": 0.013868,
     "end_time": "2023-12-21T22:19:43.341967",
     "exception": false,
     "start_time": "2023-12-21T22:19:43.328099",
     "status": "completed"
    },
    "tags": []
   },
   "source": [
    "Based on the baseline \"Radek's LGBMRanker starter-pack”: https://www.kaggle.com/code/marcogorelli/radek-s-lgbmranker-starter-pack\n"
   ]
  },
  {
   "cell_type": "markdown",
   "id": "15f78723",
   "metadata": {
    "papermill": {
     "duration": 0.011963,
     "end_time": "2023-12-21T22:19:43.366708",
     "exception": false,
     "start_time": "2023-12-21T22:19:43.354745",
     "status": "completed"
    },
    "tags": []
   },
   "source": [
    "# Helper functions"
   ]
  },
  {
   "cell_type": "code",
   "execution_count": 1,
   "id": "df0ce5af",
   "metadata": {
    "execution": {
     "iopub.execute_input": "2023-12-21T22:19:43.394637Z",
     "iopub.status.busy": "2023-12-21T22:19:43.394247Z",
     "iopub.status.idle": "2023-12-21T22:19:43.404950Z",
     "shell.execute_reply": "2023-12-21T22:19:43.404336Z"
    },
    "executionInfo": {
     "elapsed": 8,
     "status": "ok",
     "timestamp": 1699021070415,
     "user": {
      "displayName": "nick wils",
      "userId": "09906672494021070283"
     },
     "user_tz": -60
    },
    "id": "4a7e7212",
    "papermill": {
     "duration": 0.027525,
     "end_time": "2023-12-21T22:19:43.406591",
     "exception": false,
     "start_time": "2023-12-21T22:19:43.379066",
     "status": "completed"
    },
    "tags": []
   },
   "outputs": [],
   "source": [
    "import numpy as np\n",
    "\n",
    "def apk(actual, predicted, k=10):\n",
    "    \"\"\"\n",
    "    Computes the average precision at k.\n",
    "\n",
    "    This function computes the average prescision at k between two lists of\n",
    "    items.\n",
    "\n",
    "    Parameters\n",
    "    ----------\n",
    "    actual : list\n",
    "             A list of elements that are to be predicted (order doesn't matter)\n",
    "    predicted : list\n",
    "                A list of predicted elements (order does matter)\n",
    "    k : int, optional\n",
    "        The maximum number of predicted elements\n",
    "\n",
    "    Returns\n",
    "    -------\n",
    "    score : double\n",
    "            The average precision at k over the input lists\n",
    "\n",
    "    \"\"\"\n",
    "    if len(predicted)>k:\n",
    "        predicted = predicted[:k]\n",
    "\n",
    "    score = 0.0\n",
    "    num_hits = 0.0\n",
    "\n",
    "    for i,p in enumerate(predicted):\n",
    "        if p in actual and p not in predicted[:i]:\n",
    "            num_hits += 1.0\n",
    "            score += num_hits / (i+1.0)\n",
    "\n",
    "    if not actual:\n",
    "        return 0.0\n",
    "\n",
    "    return score / min(len(actual), k)\n",
    "\n",
    "def mapk(actual, predicted, k=10):\n",
    "    \"\"\"\n",
    "    Computes the mean average precision at k.\n",
    "\n",
    "    This function computes the mean average prescision at k between two lists\n",
    "    of lists of items.\n",
    "\n",
    "    Parameters\n",
    "    ----------\n",
    "    actual : list\n",
    "             A list of lists of elements that are to be predicted\n",
    "             (order doesn't matter in the lists)\n",
    "    predicted : list\n",
    "                A list of lists of predicted elements\n",
    "                (order matters in the lists)\n",
    "    k : int, optional\n",
    "        The maximum number of predicted elements\n",
    "\n",
    "    Returns\n",
    "    -------\n",
    "    score : double\n",
    "            The mean average precision at k over the input lists\n",
    "\n",
    "    \"\"\"\n",
    "    return np.mean([apk(a,p,k) for a,p in zip(actual, predicted)])"
   ]
  },
  {
   "cell_type": "code",
   "execution_count": null,
   "id": "60409862",
   "metadata": {
    "papermill": {
     "duration": 0.012215,
     "end_time": "2023-12-21T22:19:43.431793",
     "exception": false,
     "start_time": "2023-12-21T22:19:43.419578",
     "status": "completed"
    },
    "tags": []
   },
   "outputs": [],
   "source": []
  },
  {
   "cell_type": "code",
   "execution_count": 2,
   "id": "5e5c4db4",
   "metadata": {
    "execution": {
     "iopub.execute_input": "2023-12-21T22:19:43.459111Z",
     "iopub.status.busy": "2023-12-21T22:19:43.458607Z",
     "iopub.status.idle": "2023-12-21T22:19:43.465162Z",
     "shell.execute_reply": "2023-12-21T22:19:43.464237Z"
    },
    "papermill": {
     "duration": 0.022512,
     "end_time": "2023-12-21T22:19:43.467462",
     "exception": false,
     "start_time": "2023-12-21T22:19:43.444950",
     "status": "completed"
    },
    "tags": []
   },
   "outputs": [],
   "source": [
    "def precision(actual, predicted, k=12):\n",
    "    if len(predicted) > k:\n",
    "        predicted = predicted[:k]\n",
    "\n",
    "    correct_predictions = [p for p in predicted if p in actual]\n",
    "\n",
    "    return len(correct_predictions) / len(predicted)\n",
    "\n",
    "def recall(actual, predicted, k=12):\n",
    "    if len(predicted) > k:\n",
    "        predicted = predicted[:k]\n",
    "\n",
    "    correct_predictions = [p for p in predicted if p in actual]\n",
    "\n",
    "    return len(correct_predictions) / len(actual)\n",
    "\n",
    "def precision12(actual, predicted, k=12):\n",
    "    return np.mean([precision(a,p,k) for a,p in zip(actual, predicted)])\n",
    "\n",
    "def recall12(actual, predicted, k=12):\n",
    "    return np.mean([recall(a,p,k) for a,p in zip(actual, predicted)])"
   ]
  },
  {
   "cell_type": "code",
   "execution_count": 3,
   "id": "bca02115",
   "metadata": {
    "execution": {
     "iopub.execute_input": "2023-12-21T22:19:43.495209Z",
     "iopub.status.busy": "2023-12-21T22:19:43.494670Z",
     "iopub.status.idle": "2023-12-21T22:19:44.584996Z",
     "shell.execute_reply": "2023-12-21T22:19:44.583910Z"
    },
    "executionInfo": {
     "elapsed": 1622,
     "status": "ok",
     "timestamp": 1699021072031,
     "user": {
      "displayName": "nick wils",
      "userId": "09906672494021070283"
     },
     "user_tz": -60
    },
    "id": "85ef6566",
    "papermill": {
     "duration": 1.106142,
     "end_time": "2023-12-21T22:19:44.587084",
     "exception": false,
     "start_time": "2023-12-21T22:19:43.480942",
     "status": "completed"
    },
    "tags": []
   },
   "outputs": [],
   "source": [
    "from sklearn.base import BaseEstimator, TransformerMixin\n",
    "import numpy as np\n",
    "\n",
    "# https://www.kaggle.com/c/h-and-m-personalized-fashion-recommendations/discussion/308635\n",
    "def customer_hex_id_to_int(series):\n",
    "    return series.str[-16:].apply(hex_id_to_int)\n",
    "\n",
    "def hex_id_to_int(str):\n",
    "    return int(str[-16:], 16)\n",
    "\n",
    "def article_id_str_to_int(series):\n",
    "    return series.astype('int32')\n",
    "\n",
    "def article_id_int_to_str(series):\n",
    "    return '0' + series.astype('str')\n",
    "\n",
    "class Categorize(BaseEstimator, TransformerMixin):\n",
    "    def __init__(self, min_examples=0):\n",
    "        self.min_examples = min_examples\n",
    "        self.categories = []\n",
    "\n",
    "    def fit(self, X):\n",
    "        for i in range(X.shape[1]):\n",
    "            vc = X.iloc[:, i].value_counts()\n",
    "            self.categories.append(vc[vc > self.min_examples].index.tolist())\n",
    "        return self\n",
    "\n",
    "    def transform(self, X):\n",
    "        data = {X.columns[i]: pd.Categorical(X.iloc[:, i], categories=self.categories[i]).codes for i in range(X.shape[1])}\n",
    "        return pd.DataFrame(data=data)\n",
    "\n",
    "\n",
    "def calculate_apk(list_of_preds, list_of_gts):\n",
    "    # for fast validation this can be changed to operate on dicts of {'cust_id_int': [art_id_int, ...]}\n",
    "    # using 'data/val_week_purchases_by_cust.pkl'\n",
    "    apks = []\n",
    "    for preds, gt in zip(list_of_preds, list_of_gts):\n",
    "        apks.append(apk(gt, preds, k=12))\n",
    "    return np.mean(apks)\n",
    "\n",
    "def eval_sub(sub_csv, skip_cust_with_no_purchases=True):\n",
    "    sub=pd.read_csv(sub_csv)\n",
    "    validation_set=pd.read_parquet('data/validation_ground_truth.parquet')\n",
    "\n",
    "    apks = []\n",
    "\n",
    "    no_purchases_pattern = []\n",
    "    for pred, gt in zip(sub.prediction.str.split(), validation_set.prediction.str.split()):\n",
    "        if skip_cust_with_no_purchases and (gt == no_purchases_pattern): continue\n",
    "        apks.append(apk(gt, pred, k=12))\n",
    "    return np.mean(apks)"
   ]
  },
  {
   "cell_type": "code",
   "execution_count": 4,
   "id": "c7ae0ea3",
   "metadata": {
    "execution": {
     "iopub.execute_input": "2023-12-21T22:19:44.614746Z",
     "iopub.status.busy": "2023-12-21T22:19:44.613954Z",
     "iopub.status.idle": "2023-12-21T22:19:45.313251Z",
     "shell.execute_reply": "2023-12-21T22:19:45.311946Z"
    },
    "executionInfo": {
     "elapsed": 1009,
     "status": "ok",
     "timestamp": 1699021073032,
     "user": {
      "displayName": "nick wils",
      "userId": "09906672494021070283"
     },
     "user_tz": -60
    },
    "id": "78c7a34c",
    "papermill": {
     "duration": 0.714842,
     "end_time": "2023-12-21T22:19:45.315297",
     "exception": false,
     "start_time": "2023-12-21T22:19:44.600455",
     "status": "completed"
    },
    "tags": []
   },
   "outputs": [],
   "source": [
    "import pandas as pd"
   ]
  },
  {
   "cell_type": "markdown",
   "id": "78d48d9b",
   "metadata": {
    "papermill": {
     "duration": 0.012818,
     "end_time": "2023-12-21T22:19:45.341577",
     "exception": false,
     "start_time": "2023-12-21T22:19:45.328759",
     "status": "completed"
    },
    "tags": []
   },
   "source": [
    "# Read input files"
   ]
  },
  {
   "cell_type": "code",
   "execution_count": 5,
   "id": "908e7efa",
   "metadata": {
    "execution": {
     "iopub.execute_input": "2023-12-21T22:19:45.369870Z",
     "iopub.status.busy": "2023-12-21T22:19:45.369389Z",
     "iopub.status.idle": "2023-12-21T22:19:50.745594Z",
     "shell.execute_reply": "2023-12-21T22:19:50.744622Z"
    },
    "executionInfo": {
     "elapsed": 10386,
     "status": "ok",
     "timestamp": 1699021083403,
     "user": {
      "displayName": "nick wils",
      "userId": "09906672494021070283"
     },
     "user_tz": -60
    },
    "id": "af847e1a",
    "outputId": "3cbfb68d-34ad-434e-8246-c093b7fedffd",
    "papermill": {
     "duration": 5.392182,
     "end_time": "2023-12-21T22:19:50.747620",
     "exception": false,
     "start_time": "2023-12-21T22:19:45.355438",
     "status": "completed"
    },
    "tags": []
   },
   "outputs": [
    {
     "name": "stdout",
     "output_type": "stream",
     "text": [
      "CPU times: user 2.06 s, sys: 1.7 s, total: 3.77 s\n",
      "Wall time: 5.37 s\n"
     ]
    }
   ],
   "source": [
    "%%time\n",
    "pad = \"/kaggle/input/makeparquet\"\n",
    "transactions = pd.read_parquet(pad+'/transactions_train.parquet')\n",
    "customers = pd.read_parquet(pad+'/customers.parquet')\n",
    "articles = pd.read_parquet(pad+'/articles.parquet')"
   ]
  },
  {
   "cell_type": "markdown",
   "id": "fe3df41c",
   "metadata": {
    "papermill": {
     "duration": 0.01763,
     "end_time": "2023-12-21T22:19:50.778469",
     "exception": false,
     "start_time": "2023-12-21T22:19:50.760839",
     "status": "completed"
    },
    "tags": []
   },
   "source": [
    "# Set Validation and prune transactions on date"
   ]
  },
  {
   "cell_type": "code",
   "execution_count": 6,
   "id": "352db9f2",
   "metadata": {
    "execution": {
     "iopub.execute_input": "2023-12-21T22:19:50.862570Z",
     "iopub.status.busy": "2023-12-21T22:19:50.862224Z",
     "iopub.status.idle": "2023-12-21T22:19:50.935399Z",
     "shell.execute_reply": "2023-12-21T22:19:50.934114Z"
    },
    "papermill": {
     "duration": 0.142011,
     "end_time": "2023-12-21T22:19:50.937663",
     "exception": false,
     "start_time": "2023-12-21T22:19:50.795652",
     "status": "completed"
    },
    "tags": []
   },
   "outputs": [],
   "source": [
    "val = transactions[transactions.week == transactions.week.max()]"
   ]
  },
  {
   "cell_type": "markdown",
   "id": "be58157a",
   "metadata": {
    "papermill": {
     "duration": 0.013521,
     "end_time": "2023-12-21T22:19:50.964620",
     "exception": false,
     "start_time": "2023-12-21T22:19:50.951099",
     "status": "completed"
    },
    "tags": []
   },
   "source": [
    "Comment one of the blocks out whether you want a test run or a sumbission run "
   ]
  },
  {
   "cell_type": "code",
   "execution_count": 7,
   "id": "111db36b",
   "metadata": {
    "execution": {
     "iopub.execute_input": "2023-12-21T22:19:50.992479Z",
     "iopub.status.busy": "2023-12-21T22:19:50.992175Z",
     "iopub.status.idle": "2023-12-21T22:19:51.257341Z",
     "shell.execute_reply": "2023-12-21T22:19:51.255842Z"
    },
    "papermill": {
     "duration": 0.281888,
     "end_time": "2023-12-21T22:19:51.259767",
     "exception": false,
     "start_time": "2023-12-21T22:19:50.977879",
     "status": "completed"
    },
    "tags": []
   },
   "outputs": [],
   "source": [
    "Testing = True\n",
    "test_week = transactions.week.max()\n",
    "transactions = transactions[transactions.week > transactions.week.max() - 10]\n",
    "transactions = transactions[transactions.week < transactions.week.max()]"
   ]
  },
  {
   "cell_type": "code",
   "execution_count": 8,
   "id": "55046483",
   "metadata": {
    "execution": {
     "iopub.execute_input": "2023-12-21T22:19:51.290196Z",
     "iopub.status.busy": "2023-12-21T22:19:51.289074Z",
     "iopub.status.idle": "2023-12-21T22:19:51.293024Z",
     "shell.execute_reply": "2023-12-21T22:19:51.292462Z"
    },
    "executionInfo": {
     "elapsed": 359,
     "status": "ok",
     "timestamp": 1699021083748,
     "user": {
      "displayName": "nick wils",
      "userId": "09906672494021070283"
     },
     "user_tz": -60
    },
    "id": "76f70d9a",
    "papermill": {
     "duration": 0.020803,
     "end_time": "2023-12-21T22:19:51.294678",
     "exception": false,
     "start_time": "2023-12-21T22:19:51.273875",
     "status": "completed"
    },
    "tags": []
   },
   "outputs": [],
   "source": [
    "# Testing = False\n",
    "# test_week = transactions.week.max()+1\n",
    "# transactions = transactions[transactions.week > transactions.week.max() - 10]"
   ]
  },
  {
   "cell_type": "markdown",
   "id": "888dd6af",
   "metadata": {
    "id": "5133081f",
    "papermill": {
     "duration": 0.013373,
     "end_time": "2023-12-21T22:19:51.321821",
     "exception": false,
     "start_time": "2023-12-21T22:19:51.308448",
     "status": "completed"
    },
    "tags": []
   },
   "source": [
    "# Generating candidates"
   ]
  },
  {
   "cell_type": "markdown",
   "id": "dbca8fbf",
   "metadata": {
    "id": "55672930",
    "papermill": {
     "duration": 0.013287,
     "end_time": "2023-12-21T22:19:51.348939",
     "exception": false,
     "start_time": "2023-12-21T22:19:51.335652",
     "status": "completed"
    },
    "tags": []
   },
   "source": [
    "### Last purchase candidates"
   ]
  },
  {
   "cell_type": "code",
   "execution_count": 9,
   "id": "1601bca6",
   "metadata": {
    "execution": {
     "iopub.execute_input": "2023-12-21T22:19:51.378603Z",
     "iopub.status.busy": "2023-12-21T22:19:51.377514Z",
     "iopub.status.idle": "2023-12-21T22:20:13.601345Z",
     "shell.execute_reply": "2023-12-21T22:20:13.600281Z"
    },
    "executionInfo": {
     "elapsed": 44324,
     "status": "ok",
     "timestamp": 1699021128069,
     "user": {
      "displayName": "nick wils",
      "userId": "09906672494021070283"
     },
     "user_tz": -60
    },
    "id": "953a0f07",
    "outputId": "a64eb57a-9b27-486a-ed3e-cbd737918d66",
    "papermill": {
     "duration": 22.240424,
     "end_time": "2023-12-21T22:20:13.603097",
     "exception": false,
     "start_time": "2023-12-21T22:19:51.362673",
     "status": "completed"
    },
    "tags": []
   },
   "outputs": [
    {
     "name": "stdout",
     "output_type": "stream",
     "text": [
      "CPU times: user 22 s, sys: 278 ms, total: 22.3 s\n",
      "Wall time: 22.2 s\n"
     ]
    }
   ],
   "source": [
    "%%time\n",
    "\n",
    "c2weeks = transactions.groupby('customer_id')['week'].unique()"
   ]
  },
  {
   "cell_type": "code",
   "execution_count": 10,
   "id": "e4508e0d",
   "metadata": {
    "execution": {
     "iopub.execute_input": "2023-12-21T22:20:13.631782Z",
     "iopub.status.busy": "2023-12-21T22:20:13.631188Z",
     "iopub.status.idle": "2023-12-21T22:20:13.705736Z",
     "shell.execute_reply": "2023-12-21T22:20:13.704561Z"
    },
    "executionInfo": {
     "elapsed": 27,
     "status": "ok",
     "timestamp": 1699021128070,
     "user": {
      "displayName": "nick wils",
      "userId": "09906672494021070283"
     },
     "user_tz": -60
    },
    "id": "a36be6fc",
    "outputId": "d760722c-fd93-4387-ec91-567d48918be5",
    "papermill": {
     "duration": 0.090576,
     "end_time": "2023-12-21T22:20:13.707670",
     "exception": false,
     "start_time": "2023-12-21T22:20:13.617094",
     "status": "completed"
    },
    "tags": []
   },
   "outputs": [
    {
     "data": {
      "text/html": [
       "<div>\n",
       "<style scoped>\n",
       "    .dataframe tbody tr th:only-of-type {\n",
       "        vertical-align: middle;\n",
       "    }\n",
       "\n",
       "    .dataframe tbody tr th {\n",
       "        vertical-align: top;\n",
       "    }\n",
       "\n",
       "    .dataframe thead th {\n",
       "        text-align: right;\n",
       "    }\n",
       "</style>\n",
       "<table border=\"1\" class=\"dataframe\">\n",
       "  <thead>\n",
       "    <tr style=\"text-align: right;\">\n",
       "      <th></th>\n",
       "      <th>min</th>\n",
       "      <th>max</th>\n",
       "    </tr>\n",
       "    <tr>\n",
       "      <th>week</th>\n",
       "      <th></th>\n",
       "      <th></th>\n",
       "    </tr>\n",
       "  </thead>\n",
       "  <tbody>\n",
       "    <tr>\n",
       "      <th>95</th>\n",
       "      <td>2020-07-15</td>\n",
       "      <td>2020-07-21</td>\n",
       "    </tr>\n",
       "    <tr>\n",
       "      <th>96</th>\n",
       "      <td>2020-07-22</td>\n",
       "      <td>2020-07-28</td>\n",
       "    </tr>\n",
       "    <tr>\n",
       "      <th>97</th>\n",
       "      <td>2020-07-29</td>\n",
       "      <td>2020-08-04</td>\n",
       "    </tr>\n",
       "    <tr>\n",
       "      <th>98</th>\n",
       "      <td>2020-08-05</td>\n",
       "      <td>2020-08-11</td>\n",
       "    </tr>\n",
       "    <tr>\n",
       "      <th>99</th>\n",
       "      <td>2020-08-12</td>\n",
       "      <td>2020-08-18</td>\n",
       "    </tr>\n",
       "    <tr>\n",
       "      <th>100</th>\n",
       "      <td>2020-08-19</td>\n",
       "      <td>2020-08-25</td>\n",
       "    </tr>\n",
       "    <tr>\n",
       "      <th>101</th>\n",
       "      <td>2020-08-26</td>\n",
       "      <td>2020-09-01</td>\n",
       "    </tr>\n",
       "    <tr>\n",
       "      <th>102</th>\n",
       "      <td>2020-09-02</td>\n",
       "      <td>2020-09-08</td>\n",
       "    </tr>\n",
       "    <tr>\n",
       "      <th>103</th>\n",
       "      <td>2020-09-09</td>\n",
       "      <td>2020-09-15</td>\n",
       "    </tr>\n",
       "  </tbody>\n",
       "</table>\n",
       "</div>"
      ],
      "text/plain": [
       "            min        max\n",
       "week                      \n",
       "95   2020-07-15 2020-07-21\n",
       "96   2020-07-22 2020-07-28\n",
       "97   2020-07-29 2020-08-04\n",
       "98   2020-08-05 2020-08-11\n",
       "99   2020-08-12 2020-08-18\n",
       "100  2020-08-19 2020-08-25\n",
       "101  2020-08-26 2020-09-01\n",
       "102  2020-09-02 2020-09-08\n",
       "103  2020-09-09 2020-09-15"
      ]
     },
     "execution_count": 10,
     "metadata": {},
     "output_type": "execute_result"
    }
   ],
   "source": [
    "transactions.groupby('week')['t_dat'].agg(['min', 'max'])"
   ]
  },
  {
   "cell_type": "code",
   "execution_count": 11,
   "id": "22bc063d",
   "metadata": {
    "execution": {
     "iopub.execute_input": "2023-12-21T22:20:13.736969Z",
     "iopub.status.busy": "2023-12-21T22:20:13.736560Z",
     "iopub.status.idle": "2023-12-21T22:20:14.304112Z",
     "shell.execute_reply": "2023-12-21T22:20:14.303479Z"
    },
    "executionInfo": {
     "elapsed": 942,
     "status": "ok",
     "timestamp": 1699021129001,
     "user": {
      "displayName": "nick wils",
      "userId": "09906672494021070283"
     },
     "user_tz": -60
    },
    "id": "f4723bec",
    "outputId": "700683a1-0720-43a3-bd06-c22a827fbf02",
    "papermill": {
     "duration": 0.584059,
     "end_time": "2023-12-21T22:20:14.305963",
     "exception": false,
     "start_time": "2023-12-21T22:20:13.721904",
     "status": "completed"
    },
    "tags": []
   },
   "outputs": [
    {
     "name": "stdout",
     "output_type": "stream",
     "text": [
      "CPU times: user 541 ms, sys: 21 ms, total: 562 ms\n",
      "Wall time: 562 ms\n"
     ]
    }
   ],
   "source": [
    "%%time\n",
    "\n",
    "c2weeks2shifted_weeks = {}\n",
    "\n",
    "for c_id, weeks in c2weeks.items():\n",
    "    c2weeks2shifted_weeks[c_id] = {}\n",
    "    for i in range(weeks.shape[0]-1):\n",
    "        c2weeks2shifted_weeks[c_id][weeks[i]] = weeks[i+1]\n",
    "    c2weeks2shifted_weeks[c_id][weeks[-1]] = test_week"
   ]
  },
  {
   "cell_type": "code",
   "execution_count": 12,
   "id": "fbc1d7a2",
   "metadata": {
    "execution": {
     "iopub.execute_input": "2023-12-21T22:20:14.333975Z",
     "iopub.status.busy": "2023-12-21T22:20:14.333646Z",
     "iopub.status.idle": "2023-12-21T22:20:14.345435Z",
     "shell.execute_reply": "2023-12-21T22:20:14.344589Z"
    },
    "executionInfo": {
     "elapsed": 6,
     "status": "ok",
     "timestamp": 1699021129002,
     "user": {
      "displayName": "nick wils",
      "userId": "09906672494021070283"
     },
     "user_tz": -60
    },
    "id": "5a87c920",
    "papermill": {
     "duration": 0.027876,
     "end_time": "2023-12-21T22:20:14.347287",
     "exception": false,
     "start_time": "2023-12-21T22:20:14.319411",
     "status": "completed"
    },
    "tags": []
   },
   "outputs": [],
   "source": [
    "candidates_last_purchase = transactions.copy()"
   ]
  },
  {
   "cell_type": "code",
   "execution_count": 13,
   "id": "28e96c06",
   "metadata": {
    "execution": {
     "iopub.execute_input": "2023-12-21T22:20:14.375207Z",
     "iopub.status.busy": "2023-12-21T22:20:14.374724Z",
     "iopub.status.idle": "2023-12-21T22:20:30.244460Z",
     "shell.execute_reply": "2023-12-21T22:20:30.243361Z"
    },
    "executionInfo": {
     "elapsed": 20239,
     "status": "ok",
     "timestamp": 1699021149235,
     "user": {
      "displayName": "nick wils",
      "userId": "09906672494021070283"
     },
     "user_tz": -60
    },
    "id": "4f4d4a18",
    "outputId": "a177aca2-7d87-44a1-cbfd-23488359d3d3",
    "papermill": {
     "duration": 15.885865,
     "end_time": "2023-12-21T22:20:30.246360",
     "exception": false,
     "start_time": "2023-12-21T22:20:14.360495",
     "status": "completed"
    },
    "tags": []
   },
   "outputs": [
    {
     "name": "stdout",
     "output_type": "stream",
     "text": [
      "CPU times: user 15.9 s, sys: 62.4 ms, total: 15.9 s\n",
      "Wall time: 15.9 s\n"
     ]
    }
   ],
   "source": [
    "%%time\n",
    "\n",
    "weeks = []\n",
    "for i, (c_id, week) in enumerate(zip(transactions['customer_id'], transactions['week'])):\n",
    "    weeks.append(c2weeks2shifted_weeks[c_id][week])\n",
    "\n",
    "candidates_last_purchase.week=weeks"
   ]
  },
  {
   "cell_type": "markdown",
   "id": "9e8a588b",
   "metadata": {
    "id": "38ae3458",
    "papermill": {
     "duration": 0.013199,
     "end_time": "2023-12-21T22:20:30.273429",
     "exception": false,
     "start_time": "2023-12-21T22:20:30.260230",
     "status": "completed"
    },
    "tags": []
   },
   "source": [
    "### Bestsellers candidates"
   ]
  },
  {
   "cell_type": "code",
   "execution_count": 14,
   "id": "1795547c",
   "metadata": {
    "execution": {
     "iopub.execute_input": "2023-12-21T22:20:30.302274Z",
     "iopub.status.busy": "2023-12-21T22:20:30.301726Z",
     "iopub.status.idle": "2023-12-21T22:20:30.464997Z",
     "shell.execute_reply": "2023-12-21T22:20:30.463968Z"
    },
    "executionInfo": {
     "elapsed": 36,
     "status": "ok",
     "timestamp": 1699021149236,
     "user": {
      "displayName": "nick wils",
      "userId": "09906672494021070283"
     },
     "user_tz": -60
    },
    "id": "022a7879",
    "papermill": {
     "duration": 0.180113,
     "end_time": "2023-12-21T22:20:30.467146",
     "exception": false,
     "start_time": "2023-12-21T22:20:30.287033",
     "status": "completed"
    },
    "tags": []
   },
   "outputs": [],
   "source": [
    "mean_price = transactions \\\n",
    "    .groupby(['week', 'article_id'])['price'].mean()"
   ]
  },
  {
   "cell_type": "code",
   "execution_count": 15,
   "id": "07a5c945",
   "metadata": {
    "execution": {
     "iopub.execute_input": "2023-12-21T22:20:30.496058Z",
     "iopub.status.busy": "2023-12-21T22:20:30.495720Z",
     "iopub.status.idle": "2023-12-21T22:20:30.678124Z",
     "shell.execute_reply": "2023-12-21T22:20:30.677223Z"
    },
    "executionInfo": {
     "elapsed": 732,
     "status": "ok",
     "timestamp": 1699021150260,
     "user": {
      "displayName": "nick wils",
      "userId": "09906672494021070283"
     },
     "user_tz": -60
    },
    "id": "9a104ef9",
    "papermill": {
     "duration": 0.199575,
     "end_time": "2023-12-21T22:20:30.680736",
     "exception": false,
     "start_time": "2023-12-21T22:20:30.481161",
     "status": "completed"
    },
    "tags": []
   },
   "outputs": [],
   "source": [
    "sales = transactions \\\n",
    "    .groupby('week')['article_id'].value_counts() \\\n",
    "    .groupby('week').rank(method='dense', ascending=False) \\\n",
    "    .groupby('week').head(12).rename('bestseller_rank').astype('int8')"
   ]
  },
  {
   "cell_type": "code",
   "execution_count": 16,
   "id": "a41f9941",
   "metadata": {
    "execution": {
     "iopub.execute_input": "2023-12-21T22:20:30.709405Z",
     "iopub.status.busy": "2023-12-21T22:20:30.708415Z",
     "iopub.status.idle": "2023-12-21T22:20:30.773084Z",
     "shell.execute_reply": "2023-12-21T22:20:30.772100Z"
    },
    "executionInfo": {
     "elapsed": 14,
     "status": "ok",
     "timestamp": 1699021150262,
     "user": {
      "displayName": "nick wils",
      "userId": "09906672494021070283"
     },
     "user_tz": -60
    },
    "id": "20324cc0",
    "papermill": {
     "duration": 0.081343,
     "end_time": "2023-12-21T22:20:30.775725",
     "exception": false,
     "start_time": "2023-12-21T22:20:30.694382",
     "status": "completed"
    },
    "tags": []
   },
   "outputs": [],
   "source": [
    "bestsellers_previous_week = pd.merge(sales, mean_price, on=['week', 'article_id']).reset_index()\n",
    "bestsellers_previous_week.week += 1"
   ]
  },
  {
   "cell_type": "code",
   "execution_count": 17,
   "id": "32814daf",
   "metadata": {
    "execution": {
     "iopub.execute_input": "2023-12-21T22:20:30.804931Z",
     "iopub.status.busy": "2023-12-21T22:20:30.804610Z",
     "iopub.status.idle": "2023-12-21T22:20:30.817720Z",
     "shell.execute_reply": "2023-12-21T22:20:30.816349Z"
    },
    "executionInfo": {
     "elapsed": 13,
     "status": "ok",
     "timestamp": 1699021150262,
     "user": {
      "displayName": "nick wils",
      "userId": "09906672494021070283"
     },
     "user_tz": -60
    },
    "id": "b8447b19",
    "outputId": "b992d53d-c501-4be5-e373-7ed121335003",
    "papermill": {
     "duration": 0.030575,
     "end_time": "2023-12-21T22:20:30.820161",
     "exception": false,
     "start_time": "2023-12-21T22:20:30.789586",
     "status": "completed"
    },
    "tags": []
   },
   "outputs": [
    {
     "data": {
      "text/html": [
       "<div>\n",
       "<style scoped>\n",
       "    .dataframe tbody tr th:only-of-type {\n",
       "        vertical-align: middle;\n",
       "    }\n",
       "\n",
       "    .dataframe tbody tr th {\n",
       "        vertical-align: top;\n",
       "    }\n",
       "\n",
       "    .dataframe thead th {\n",
       "        text-align: right;\n",
       "    }\n",
       "</style>\n",
       "<table border=\"1\" class=\"dataframe\">\n",
       "  <thead>\n",
       "    <tr style=\"text-align: right;\">\n",
       "      <th></th>\n",
       "      <th>week</th>\n",
       "      <th>article_id</th>\n",
       "      <th>bestseller_rank</th>\n",
       "      <th>price</th>\n",
       "    </tr>\n",
       "  </thead>\n",
       "  <tbody>\n",
       "    <tr>\n",
       "      <th>0</th>\n",
       "      <td>96</td>\n",
       "      <td>760084003</td>\n",
       "      <td>1</td>\n",
       "      <td>0.025094</td>\n",
       "    </tr>\n",
       "    <tr>\n",
       "      <th>1</th>\n",
       "      <td>96</td>\n",
       "      <td>866731001</td>\n",
       "      <td>2</td>\n",
       "      <td>0.024919</td>\n",
       "    </tr>\n",
       "    <tr>\n",
       "      <th>2</th>\n",
       "      <td>96</td>\n",
       "      <td>600886001</td>\n",
       "      <td>3</td>\n",
       "      <td>0.022980</td>\n",
       "    </tr>\n",
       "    <tr>\n",
       "      <th>3</th>\n",
       "      <td>96</td>\n",
       "      <td>706016001</td>\n",
       "      <td>4</td>\n",
       "      <td>0.033197</td>\n",
       "    </tr>\n",
       "    <tr>\n",
       "      <th>4</th>\n",
       "      <td>96</td>\n",
       "      <td>372860002</td>\n",
       "      <td>5</td>\n",
       "      <td>0.013193</td>\n",
       "    </tr>\n",
       "    <tr>\n",
       "      <th>5</th>\n",
       "      <td>96</td>\n",
       "      <td>610776002</td>\n",
       "      <td>6</td>\n",
       "      <td>0.008318</td>\n",
       "    </tr>\n",
       "    <tr>\n",
       "      <th>6</th>\n",
       "      <td>96</td>\n",
       "      <td>877278002</td>\n",
       "      <td>7</td>\n",
       "      <td>0.025036</td>\n",
       "    </tr>\n",
       "    <tr>\n",
       "      <th>7</th>\n",
       "      <td>96</td>\n",
       "      <td>547780003</td>\n",
       "      <td>8</td>\n",
       "      <td>0.024814</td>\n",
       "    </tr>\n",
       "    <tr>\n",
       "      <th>8</th>\n",
       "      <td>96</td>\n",
       "      <td>817354001</td>\n",
       "      <td>9</td>\n",
       "      <td>0.021913</td>\n",
       "    </tr>\n",
       "    <tr>\n",
       "      <th>9</th>\n",
       "      <td>96</td>\n",
       "      <td>827968001</td>\n",
       "      <td>10</td>\n",
       "      <td>0.016436</td>\n",
       "    </tr>\n",
       "    <tr>\n",
       "      <th>10</th>\n",
       "      <td>96</td>\n",
       "      <td>866731003</td>\n",
       "      <td>11</td>\n",
       "      <td>0.024893</td>\n",
       "    </tr>\n",
       "    <tr>\n",
       "      <th>11</th>\n",
       "      <td>96</td>\n",
       "      <td>866383006</td>\n",
       "      <td>12</td>\n",
       "      <td>0.023195</td>\n",
       "    </tr>\n",
       "  </tbody>\n",
       "</table>\n",
       "</div>"
      ],
      "text/plain": [
       "    week  article_id  bestseller_rank     price\n",
       "0     96   760084003                1  0.025094\n",
       "1     96   866731001                2  0.024919\n",
       "2     96   600886001                3  0.022980\n",
       "3     96   706016001                4  0.033197\n",
       "4     96   372860002                5  0.013193\n",
       "5     96   610776002                6  0.008318\n",
       "6     96   877278002                7  0.025036\n",
       "7     96   547780003                8  0.024814\n",
       "8     96   817354001                9  0.021913\n",
       "9     96   827968001               10  0.016436\n",
       "10    96   866731003               11  0.024893\n",
       "11    96   866383006               12  0.023195"
      ]
     },
     "execution_count": 17,
     "metadata": {},
     "output_type": "execute_result"
    }
   ],
   "source": [
    "bestsellers_previous_week.pipe(lambda df: df[df['week']==96])"
   ]
  },
  {
   "cell_type": "code",
   "execution_count": 18,
   "id": "b2acbae2",
   "metadata": {
    "execution": {
     "iopub.execute_input": "2023-12-21T22:20:30.851364Z",
     "iopub.status.busy": "2023-12-21T22:20:30.851014Z",
     "iopub.status.idle": "2023-12-21T22:20:31.287075Z",
     "shell.execute_reply": "2023-12-21T22:20:31.286034Z"
    },
    "executionInfo": {
     "elapsed": 867,
     "status": "ok",
     "timestamp": 1699021151118,
     "user": {
      "displayName": "nick wils",
      "userId": "09906672494021070283"
     },
     "user_tz": -60
    },
    "id": "1ad756de",
    "papermill": {
     "duration": 0.45425,
     "end_time": "2023-12-21T22:20:31.289313",
     "exception": false,
     "start_time": "2023-12-21T22:20:30.835063",
     "status": "completed"
    },
    "tags": []
   },
   "outputs": [],
   "source": [
    "unique_transactions = transactions \\\n",
    "    .groupby(['week', 'customer_id']) \\\n",
    "    .head(1) \\\n",
    "    .drop(columns=['article_id', 'price']) \\\n",
    "    .copy()"
   ]
  },
  {
   "cell_type": "code",
   "execution_count": 19,
   "id": "4fe95b74",
   "metadata": {
    "execution": {
     "iopub.execute_input": "2023-12-21T22:20:31.318804Z",
     "iopub.status.busy": "2023-12-21T22:20:31.318430Z",
     "iopub.status.idle": "2023-12-21T22:20:31.519966Z",
     "shell.execute_reply": "2023-12-21T22:20:31.519036Z"
    },
    "executionInfo": {
     "elapsed": 343,
     "status": "ok",
     "timestamp": 1699021151457,
     "user": {
      "displayName": "nick wils",
      "userId": "09906672494021070283"
     },
     "user_tz": -60
    },
    "id": "5721ca6d",
    "outputId": "26dbeac9-bfc8-44b6-879f-c3fbe5cb175d",
    "papermill": {
     "duration": 0.218329,
     "end_time": "2023-12-21T22:20:31.521861",
     "exception": false,
     "start_time": "2023-12-21T22:20:31.303532",
     "status": "completed"
    },
    "tags": []
   },
   "outputs": [
    {
     "data": {
      "text/html": [
       "<div>\n",
       "<style scoped>\n",
       "    .dataframe tbody tr th:only-of-type {\n",
       "        vertical-align: middle;\n",
       "    }\n",
       "\n",
       "    .dataframe tbody tr th {\n",
       "        vertical-align: top;\n",
       "    }\n",
       "\n",
       "    .dataframe thead th {\n",
       "        text-align: right;\n",
       "    }\n",
       "</style>\n",
       "<table border=\"1\" class=\"dataframe\">\n",
       "  <thead>\n",
       "    <tr style=\"text-align: right;\">\n",
       "      <th></th>\n",
       "      <th>t_dat</th>\n",
       "      <th>customer_id</th>\n",
       "      <th>article_id</th>\n",
       "      <th>price</th>\n",
       "      <th>sales_channel_id</th>\n",
       "      <th>season</th>\n",
       "      <th>year</th>\n",
       "      <th>month</th>\n",
       "      <th>week</th>\n",
       "    </tr>\n",
       "  </thead>\n",
       "  <tbody>\n",
       "    <tr>\n",
       "      <th>29030503</th>\n",
       "      <td>2020-07-15</td>\n",
       "      <td>272412481300040</td>\n",
       "      <td>778064028</td>\n",
       "      <td>0.008458</td>\n",
       "      <td>1</td>\n",
       "      <td>2</td>\n",
       "      <td>-28</td>\n",
       "      <td>7</td>\n",
       "      <td>95</td>\n",
       "    </tr>\n",
       "    <tr>\n",
       "      <th>29064059</th>\n",
       "      <td>2020-07-15</td>\n",
       "      <td>1456826891333599</td>\n",
       "      <td>888294001</td>\n",
       "      <td>0.013542</td>\n",
       "      <td>1</td>\n",
       "      <td>2</td>\n",
       "      <td>-28</td>\n",
       "      <td>7</td>\n",
       "      <td>95</td>\n",
       "    </tr>\n",
       "    <tr>\n",
       "      <th>29067103</th>\n",
       "      <td>2020-07-15</td>\n",
       "      <td>2133687643102426</td>\n",
       "      <td>843642001</td>\n",
       "      <td>0.042356</td>\n",
       "      <td>2</td>\n",
       "      <td>2</td>\n",
       "      <td>-28</td>\n",
       "      <td>7</td>\n",
       "      <td>95</td>\n",
       "    </tr>\n",
       "    <tr>\n",
       "      <th>29027487</th>\n",
       "      <td>2020-07-15</td>\n",
       "      <td>6010692573790711</td>\n",
       "      <td>857812010</td>\n",
       "      <td>0.039661</td>\n",
       "      <td>1</td>\n",
       "      <td>2</td>\n",
       "      <td>-28</td>\n",
       "      <td>7</td>\n",
       "      <td>95</td>\n",
       "    </tr>\n",
       "    <tr>\n",
       "      <th>29046403</th>\n",
       "      <td>2020-07-15</td>\n",
       "      <td>6171059100114610</td>\n",
       "      <td>815447007</td>\n",
       "      <td>0.006763</td>\n",
       "      <td>2</td>\n",
       "      <td>2</td>\n",
       "      <td>-28</td>\n",
       "      <td>7</td>\n",
       "      <td>95</td>\n",
       "    </tr>\n",
       "    <tr>\n",
       "      <th>...</th>\n",
       "      <td>...</td>\n",
       "      <td>...</td>\n",
       "      <td>...</td>\n",
       "      <td>...</td>\n",
       "      <td>...</td>\n",
       "      <td>...</td>\n",
       "      <td>...</td>\n",
       "      <td>...</td>\n",
       "      <td>...</td>\n",
       "    </tr>\n",
       "    <tr>\n",
       "      <th>31521960</th>\n",
       "      <td>2020-09-15</td>\n",
       "      <td>18439897732908966680</td>\n",
       "      <td>794321007</td>\n",
       "      <td>0.061000</td>\n",
       "      <td>2</td>\n",
       "      <td>3</td>\n",
       "      <td>-28</td>\n",
       "      <td>9</td>\n",
       "      <td>103</td>\n",
       "    </tr>\n",
       "    <tr>\n",
       "      <th>31531712</th>\n",
       "      <td>2020-09-15</td>\n",
       "      <td>18444276791873187543</td>\n",
       "      <td>867969008</td>\n",
       "      <td>0.033881</td>\n",
       "      <td>2</td>\n",
       "      <td>3</td>\n",
       "      <td>-28</td>\n",
       "      <td>9</td>\n",
       "      <td>103</td>\n",
       "    </tr>\n",
       "    <tr>\n",
       "      <th>31539937</th>\n",
       "      <td>2020-09-15</td>\n",
       "      <td>18444799607866739422</td>\n",
       "      <td>909721003</td>\n",
       "      <td>0.042356</td>\n",
       "      <td>2</td>\n",
       "      <td>3</td>\n",
       "      <td>-28</td>\n",
       "      <td>9</td>\n",
       "      <td>103</td>\n",
       "    </tr>\n",
       "    <tr>\n",
       "      <th>31543799</th>\n",
       "      <td>2020-09-15</td>\n",
       "      <td>18446250046654386343</td>\n",
       "      <td>869872006</td>\n",
       "      <td>0.033881</td>\n",
       "      <td>1</td>\n",
       "      <td>3</td>\n",
       "      <td>-28</td>\n",
       "      <td>9</td>\n",
       "      <td>103</td>\n",
       "    </tr>\n",
       "    <tr>\n",
       "      <th>31536744</th>\n",
       "      <td>2020-09-15</td>\n",
       "      <td>18446630855572834764</td>\n",
       "      <td>568601045</td>\n",
       "      <td>0.050831</td>\n",
       "      <td>2</td>\n",
       "      <td>3</td>\n",
       "      <td>-28</td>\n",
       "      <td>9</td>\n",
       "      <td>103</td>\n",
       "    </tr>\n",
       "  </tbody>\n",
       "</table>\n",
       "<p>686726 rows × 9 columns</p>\n",
       "</div>"
      ],
      "text/plain": [
       "              t_dat           customer_id  article_id     price  \\\n",
       "29030503 2020-07-15       272412481300040   778064028  0.008458   \n",
       "29064059 2020-07-15      1456826891333599   888294001  0.013542   \n",
       "29067103 2020-07-15      2133687643102426   843642001  0.042356   \n",
       "29027487 2020-07-15      6010692573790711   857812010  0.039661   \n",
       "29046403 2020-07-15      6171059100114610   815447007  0.006763   \n",
       "...             ...                   ...         ...       ...   \n",
       "31521960 2020-09-15  18439897732908966680   794321007  0.061000   \n",
       "31531712 2020-09-15  18444276791873187543   867969008  0.033881   \n",
       "31539937 2020-09-15  18444799607866739422   909721003  0.042356   \n",
       "31543799 2020-09-15  18446250046654386343   869872006  0.033881   \n",
       "31536744 2020-09-15  18446630855572834764   568601045  0.050831   \n",
       "\n",
       "          sales_channel_id  season  year  month  week  \n",
       "29030503                 1       2   -28      7    95  \n",
       "29064059                 1       2   -28      7    95  \n",
       "29067103                 2       2   -28      7    95  \n",
       "29027487                 1       2   -28      7    95  \n",
       "29046403                 2       2   -28      7    95  \n",
       "...                    ...     ...   ...    ...   ...  \n",
       "31521960                 2       3   -28      9   103  \n",
       "31531712                 2       3   -28      9   103  \n",
       "31539937                 2       3   -28      9   103  \n",
       "31543799                 1       3   -28      9   103  \n",
       "31536744                 2       3   -28      9   103  \n",
       "\n",
       "[686726 rows x 9 columns]"
      ]
     },
     "execution_count": 19,
     "metadata": {},
     "output_type": "execute_result"
    }
   ],
   "source": [
    "transactions.drop_duplicates(['week', 'customer_id'])"
   ]
  },
  {
   "cell_type": "code",
   "execution_count": 20,
   "id": "f3203938",
   "metadata": {
    "execution": {
     "iopub.execute_input": "2023-12-21T22:20:31.553450Z",
     "iopub.status.busy": "2023-12-21T22:20:31.553068Z",
     "iopub.status.idle": "2023-12-21T22:20:31.884840Z",
     "shell.execute_reply": "2023-12-21T22:20:31.883473Z"
    },
    "executionInfo": {
     "elapsed": 939,
     "status": "ok",
     "timestamp": 1699021152392,
     "user": {
      "displayName": "nick wils",
      "userId": "09906672494021070283"
     },
     "user_tz": -60
    },
    "id": "4a23981e",
    "papermill": {
     "duration": 0.3501,
     "end_time": "2023-12-21T22:20:31.887227",
     "exception": false,
     "start_time": "2023-12-21T22:20:31.537127",
     "status": "completed"
    },
    "tags": []
   },
   "outputs": [],
   "source": [
    "candidates_bestsellers = pd.merge(\n",
    "    unique_transactions,\n",
    "    bestsellers_previous_week,\n",
    "    on='week',\n",
    ")"
   ]
  },
  {
   "cell_type": "code",
   "execution_count": 21,
   "id": "61b01354",
   "metadata": {
    "execution": {
     "iopub.execute_input": "2023-12-21T22:20:31.918600Z",
     "iopub.status.busy": "2023-12-21T22:20:31.918202Z",
     "iopub.status.idle": "2023-12-21T22:20:31.960460Z",
     "shell.execute_reply": "2023-12-21T22:20:31.959548Z"
    },
    "executionInfo": {
     "elapsed": 16,
     "status": "ok",
     "timestamp": 1699021152393,
     "user": {
      "displayName": "nick wils",
      "userId": "09906672494021070283"
     },
     "user_tz": -60
    },
    "id": "ad3a9710",
    "papermill": {
     "duration": 0.061092,
     "end_time": "2023-12-21T22:20:31.962903",
     "exception": false,
     "start_time": "2023-12-21T22:20:31.901811",
     "status": "completed"
    },
    "tags": []
   },
   "outputs": [],
   "source": [
    "test_set_transactions = unique_transactions.drop_duplicates('customer_id').reset_index(drop=True)\n",
    "test_set_transactions.week = test_week"
   ]
  },
  {
   "cell_type": "code",
   "execution_count": 22,
   "id": "63d1b507",
   "metadata": {
    "execution": {
     "iopub.execute_input": "2023-12-21T22:20:31.993861Z",
     "iopub.status.busy": "2023-12-21T22:20:31.993482Z",
     "iopub.status.idle": "2023-12-21T22:20:32.234609Z",
     "shell.execute_reply": "2023-12-21T22:20:32.233047Z"
    },
    "executionInfo": {
     "elapsed": 802,
     "status": "ok",
     "timestamp": 1699021153185,
     "user": {
      "displayName": "nick wils",
      "userId": "09906672494021070283"
     },
     "user_tz": -60
    },
    "id": "9f64b005",
    "papermill": {
     "duration": 0.260085,
     "end_time": "2023-12-21T22:20:32.237339",
     "exception": false,
     "start_time": "2023-12-21T22:20:31.977254",
     "status": "completed"
    },
    "tags": []
   },
   "outputs": [],
   "source": [
    "candidates_bestsellers_test_week = pd.merge(\n",
    "    test_set_transactions,\n",
    "    bestsellers_previous_week,\n",
    "    on='week'\n",
    ")"
   ]
  },
  {
   "cell_type": "code",
   "execution_count": 23,
   "id": "844dbb6f",
   "metadata": {
    "execution": {
     "iopub.execute_input": "2023-12-21T22:20:32.267276Z",
     "iopub.status.busy": "2023-12-21T22:20:32.266950Z",
     "iopub.status.idle": "2023-12-21T22:20:32.615140Z",
     "shell.execute_reply": "2023-12-21T22:20:32.614279Z"
    },
    "executionInfo": {
     "elapsed": 837,
     "status": "ok",
     "timestamp": 1699021154020,
     "user": {
      "displayName": "nick wils",
      "userId": "09906672494021070283"
     },
     "user_tz": -60
    },
    "id": "212b7926",
    "papermill": {
     "duration": 0.365579,
     "end_time": "2023-12-21T22:20:32.617443",
     "exception": false,
     "start_time": "2023-12-21T22:20:32.251864",
     "status": "completed"
    },
    "tags": []
   },
   "outputs": [],
   "source": [
    "candidates_bestsellers = pd.concat([candidates_bestsellers, candidates_bestsellers_test_week])\n",
    "candidates_bestsellers.drop(columns='bestseller_rank', inplace=True)"
   ]
  },
  {
   "cell_type": "markdown",
   "id": "1d009890",
   "metadata": {
    "id": "d5b03292",
    "papermill": {
     "duration": 0.01315,
     "end_time": "2023-12-21T22:20:32.644765",
     "exception": false,
     "start_time": "2023-12-21T22:20:32.631615",
     "status": "completed"
    },
    "tags": []
   },
   "source": [
    "# Combining transactions and candidates / negative examples"
   ]
  },
  {
   "cell_type": "code",
   "execution_count": 24,
   "id": "8cd9f175",
   "metadata": {
    "execution": {
     "iopub.execute_input": "2023-12-21T22:20:32.673400Z",
     "iopub.status.busy": "2023-12-21T22:20:32.673054Z",
     "iopub.status.idle": "2023-12-21T22:20:32.679219Z",
     "shell.execute_reply": "2023-12-21T22:20:32.677810Z"
    },
    "executionInfo": {
     "elapsed": 11,
     "status": "ok",
     "timestamp": 1699021154021,
     "user": {
      "displayName": "nick wils",
      "userId": "09906672494021070283"
     },
     "user_tz": -60
    },
    "id": "529196a4",
    "papermill": {
     "duration": 0.023058,
     "end_time": "2023-12-21T22:20:32.681330",
     "exception": false,
     "start_time": "2023-12-21T22:20:32.658272",
     "status": "completed"
    },
    "tags": []
   },
   "outputs": [],
   "source": [
    "transactions['purchased'] = 1"
   ]
  },
  {
   "cell_type": "code",
   "execution_count": 25,
   "id": "f6982cc1",
   "metadata": {
    "execution": {
     "iopub.execute_input": "2023-12-21T22:20:32.711956Z",
     "iopub.status.busy": "2023-12-21T22:20:32.711611Z",
     "iopub.status.idle": "2023-12-21T22:20:32.870682Z",
     "shell.execute_reply": "2023-12-21T22:20:32.869351Z"
    },
    "executionInfo": {
     "elapsed": 630,
     "status": "ok",
     "timestamp": 1699021154641,
     "user": {
      "displayName": "nick wils",
      "userId": "09906672494021070283"
     },
     "user_tz": -60
    },
    "id": "421a601e",
    "papermill": {
     "duration": 0.177489,
     "end_time": "2023-12-21T22:20:32.873003",
     "exception": false,
     "start_time": "2023-12-21T22:20:32.695514",
     "status": "completed"
    },
    "tags": []
   },
   "outputs": [],
   "source": [
    "data = pd.concat([transactions, candidates_last_purchase, candidates_bestsellers])\n",
    "data.purchased.fillna(0, inplace=True)"
   ]
  },
  {
   "cell_type": "code",
   "execution_count": 26,
   "id": "7fbcf44b",
   "metadata": {
    "execution": {
     "iopub.execute_input": "2023-12-21T22:20:32.902439Z",
     "iopub.status.busy": "2023-12-21T22:20:32.902117Z",
     "iopub.status.idle": "2023-12-21T22:20:37.099074Z",
     "shell.execute_reply": "2023-12-21T22:20:37.097534Z"
    },
    "executionInfo": {
     "elapsed": 6444,
     "status": "ok",
     "timestamp": 1699021161077,
     "user": {
      "displayName": "nick wils",
      "userId": "09906672494021070283"
     },
     "user_tz": -60
    },
    "id": "9f4e8cdb",
    "papermill": {
     "duration": 4.214309,
     "end_time": "2023-12-21T22:20:37.101564",
     "exception": false,
     "start_time": "2023-12-21T22:20:32.887255",
     "status": "completed"
    },
    "tags": []
   },
   "outputs": [],
   "source": [
    "data.drop_duplicates(['customer_id', 'article_id', 'week'], inplace=True)"
   ]
  },
  {
   "cell_type": "code",
   "execution_count": 27,
   "id": "fe69ebbe",
   "metadata": {
    "execution": {
     "iopub.execute_input": "2023-12-21T22:20:37.132770Z",
     "iopub.status.busy": "2023-12-21T22:20:37.131205Z",
     "iopub.status.idle": "2023-12-21T22:20:37.161062Z",
     "shell.execute_reply": "2023-12-21T22:20:37.159535Z"
    },
    "executionInfo": {
     "elapsed": 39,
     "status": "ok",
     "timestamp": 1699021161080,
     "user": {
      "displayName": "nick wils",
      "userId": "09906672494021070283"
     },
     "user_tz": -60
    },
    "id": "95414c83",
    "outputId": "0aa85517-00f2-45b4-8a4a-1b314d82ffc4",
    "papermill": {
     "duration": 0.047121,
     "end_time": "2023-12-21T22:20:37.163648",
     "exception": false,
     "start_time": "2023-12-21T22:20:37.116527",
     "status": "completed"
    },
    "tags": []
   },
   "outputs": [
    {
     "data": {
      "text/plain": [
       "0.13579181084519196"
      ]
     },
     "execution_count": 27,
     "metadata": {},
     "output_type": "execute_result"
    }
   ],
   "source": [
    "data.purchased.mean()"
   ]
  },
  {
   "cell_type": "markdown",
   "id": "617c9c39",
   "metadata": {
    "id": "4d35aac7",
    "papermill": {
     "duration": 0.013397,
     "end_time": "2023-12-21T22:20:37.191496",
     "exception": false,
     "start_time": "2023-12-21T22:20:37.178099",
     "status": "completed"
    },
    "tags": []
   },
   "source": [
    "### Add bestseller information"
   ]
  },
  {
   "cell_type": "code",
   "execution_count": 28,
   "id": "14b2e1d6",
   "metadata": {
    "execution": {
     "iopub.execute_input": "2023-12-21T22:20:37.220187Z",
     "iopub.status.busy": "2023-12-21T22:20:37.219838Z",
     "iopub.status.idle": "2023-12-21T22:20:38.541291Z",
     "shell.execute_reply": "2023-12-21T22:20:38.540609Z"
    },
    "executionInfo": {
     "elapsed": 3395,
     "status": "ok",
     "timestamp": 1699021164442,
     "user": {
      "displayName": "nick wils",
      "userId": "09906672494021070283"
     },
     "user_tz": -60
    },
    "id": "ab6d0095",
    "papermill": {
     "duration": 1.338318,
     "end_time": "2023-12-21T22:20:38.543421",
     "exception": false,
     "start_time": "2023-12-21T22:20:37.205103",
     "status": "completed"
    },
    "tags": []
   },
   "outputs": [],
   "source": [
    "data = pd.merge(\n",
    "    data,\n",
    "    bestsellers_previous_week[['week', 'article_id', 'bestseller_rank']],\n",
    "    on=['week', 'article_id'],\n",
    "    how='left'\n",
    ")"
   ]
  },
  {
   "cell_type": "code",
   "execution_count": 29,
   "id": "ed9f0305",
   "metadata": {
    "execution": {
     "iopub.execute_input": "2023-12-21T22:20:38.573650Z",
     "iopub.status.busy": "2023-12-21T22:20:38.573276Z",
     "iopub.status.idle": "2023-12-21T22:20:39.490069Z",
     "shell.execute_reply": "2023-12-21T22:20:39.488978Z"
    },
    "executionInfo": {
     "elapsed": 2042,
     "status": "ok",
     "timestamp": 1699021166476,
     "user": {
      "displayName": "nick wils",
      "userId": "09906672494021070283"
     },
     "user_tz": -60
    },
    "id": "7b18597e",
    "papermill": {
     "duration": 0.934149,
     "end_time": "2023-12-21T22:20:39.492144",
     "exception": false,
     "start_time": "2023-12-21T22:20:38.557995",
     "status": "completed"
    },
    "tags": []
   },
   "outputs": [],
   "source": [
    "data = data[data.week != data.week.min()]\n",
    "data.bestseller_rank.fillna(999, inplace=True)"
   ]
  },
  {
   "cell_type": "code",
   "execution_count": 30,
   "id": "cf1fad46",
   "metadata": {
    "execution": {
     "iopub.execute_input": "2023-12-21T22:20:39.523269Z",
     "iopub.status.busy": "2023-12-21T22:20:39.522428Z",
     "iopub.status.idle": "2023-12-21T22:20:51.084533Z",
     "shell.execute_reply": "2023-12-21T22:20:51.083499Z"
    },
    "executionInfo": {
     "elapsed": 12548,
     "status": "ok",
     "timestamp": 1699021179017,
     "user": {
      "displayName": "nick wils",
      "userId": "09906672494021070283"
     },
     "user_tz": -60
    },
    "id": "7d9bb629",
    "papermill": {
     "duration": 11.579778,
     "end_time": "2023-12-21T22:20:51.086954",
     "exception": false,
     "start_time": "2023-12-21T22:20:39.507176",
     "status": "completed"
    },
    "tags": []
   },
   "outputs": [],
   "source": [
    "data = pd.merge(data, articles, on='article_id', how='left')\n",
    "data = pd.merge(data, customers, on='customer_id', how='left')"
   ]
  },
  {
   "cell_type": "code",
   "execution_count": 31,
   "id": "bef8c321",
   "metadata": {
    "execution": {
     "iopub.execute_input": "2023-12-21T22:20:51.117738Z",
     "iopub.status.busy": "2023-12-21T22:20:51.117357Z",
     "iopub.status.idle": "2023-12-21T22:20:59.217223Z",
     "shell.execute_reply": "2023-12-21T22:20:59.216262Z"
    },
    "executionInfo": {
     "elapsed": 7950,
     "status": "ok",
     "timestamp": 1699021186933,
     "user": {
      "displayName": "nick wils",
      "userId": "09906672494021070283"
     },
     "user_tz": -60
    },
    "id": "1560db63",
    "papermill": {
     "duration": 8.117913,
     "end_time": "2023-12-21T22:20:59.219526",
     "exception": false,
     "start_time": "2023-12-21T22:20:51.101613",
     "status": "completed"
    },
    "tags": []
   },
   "outputs": [],
   "source": [
    "data.sort_values(['week', 'customer_id'], inplace=True)\n",
    "data.reset_index(drop=True, inplace=True)"
   ]
  },
  {
   "cell_type": "code",
   "execution_count": 32,
   "id": "501e6597",
   "metadata": {
    "execution": {
     "iopub.execute_input": "2023-12-21T22:20:59.248897Z",
     "iopub.status.busy": "2023-12-21T22:20:59.248530Z",
     "iopub.status.idle": "2023-12-21T22:21:06.335180Z",
     "shell.execute_reply": "2023-12-21T22:21:06.334077Z"
    },
    "executionInfo": {
     "elapsed": 5910,
     "status": "ok",
     "timestamp": 1699021192840,
     "user": {
      "displayName": "nick wils",
      "userId": "09906672494021070283"
     },
     "user_tz": -60
    },
    "id": "05114189",
    "papermill": {
     "duration": 7.103492,
     "end_time": "2023-12-21T22:21:06.337247",
     "exception": false,
     "start_time": "2023-12-21T22:20:59.233755",
     "status": "completed"
    },
    "tags": []
   },
   "outputs": [],
   "source": [
    "train = data[data.week != test_week]\n",
    "test = data[data.week==test_week].drop_duplicates(['customer_id', 'article_id', 'sales_channel_id']).copy()"
   ]
  },
  {
   "cell_type": "code",
   "execution_count": 33,
   "id": "81097341",
   "metadata": {
    "execution": {
     "iopub.execute_input": "2023-12-21T22:21:06.366263Z",
     "iopub.status.busy": "2023-12-21T22:21:06.365951Z",
     "iopub.status.idle": "2023-12-21T22:21:06.959374Z",
     "shell.execute_reply": "2023-12-21T22:21:06.958147Z"
    },
    "executionInfo": {
     "elapsed": 996,
     "status": "ok",
     "timestamp": 1699021193784,
     "user": {
      "displayName": "nick wils",
      "userId": "09906672494021070283"
     },
     "user_tz": -60
    },
    "id": "d32dfd01",
    "papermill": {
     "duration": 0.610255,
     "end_time": "2023-12-21T22:21:06.961649",
     "exception": false,
     "start_time": "2023-12-21T22:21:06.351394",
     "status": "completed"
    },
    "tags": []
   },
   "outputs": [],
   "source": [
    "train_baskets = train.groupby(['week', 'customer_id'])['article_id'].count().values"
   ]
  },
  {
   "cell_type": "code",
   "execution_count": 34,
   "id": "3f8ae649",
   "metadata": {
    "execution": {
     "iopub.execute_input": "2023-12-21T22:21:06.990580Z",
     "iopub.status.busy": "2023-12-21T22:21:06.990253Z",
     "iopub.status.idle": "2023-12-21T22:21:06.995291Z",
     "shell.execute_reply": "2023-12-21T22:21:06.994308Z"
    },
    "executionInfo": {
     "elapsed": 11,
     "status": "ok",
     "timestamp": 1699021193785,
     "user": {
      "displayName": "nick wils",
      "userId": "09906672494021070283"
     },
     "user_tz": -60
    },
    "id": "2b027da8",
    "papermill": {
     "duration": 0.021307,
     "end_time": "2023-12-21T22:21:06.997068",
     "exception": false,
     "start_time": "2023-12-21T22:21:06.975761",
     "status": "completed"
    },
    "tags": []
   },
   "outputs": [],
   "source": [
    "columns_to_use = ['article_id', 'product_type_no', 'graphical_appearance_no', 'colour_group_code', 'perceived_colour_value_id',\n",
    "'perceived_colour_master_id', 'department_no', 'index_code',\n",
    "'index_group_no', 'section_no', 'garment_group_no', 'FN', 'Active',\n",
    "'club_member_status', 'fashion_news_frequency', 'age', 'postal_code', 'bestseller_rank']\n",
    "# 'buys_womens_clothing', 'buys_mens_clothes', 'buys_kid_baby_clothes', 'season',\n",
    "# 'fabric_jeans','fabric_cotton', 'fabric_wool', 'fabric_polyester', 'fabric_silk', 'fabric_denim', 'fabric_linen', 'fabric_spandex', 'fabric_rayon', 'fabric_nylon', 'fabric_leather', 'fabric_suede']\n",
    "#  'year', 'month',"
   ]
  },
  {
   "cell_type": "code",
   "execution_count": 35,
   "id": "8d8361ed",
   "metadata": {
    "execution": {
     "iopub.execute_input": "2023-12-21T22:21:07.026290Z",
     "iopub.status.busy": "2023-12-21T22:21:07.025974Z",
     "iopub.status.idle": "2023-12-21T22:21:07.326107Z",
     "shell.execute_reply": "2023-12-21T22:21:07.325067Z"
    },
    "executionInfo": {
     "elapsed": 884,
     "status": "ok",
     "timestamp": 1699021194659,
     "user": {
      "displayName": "nick wils",
      "userId": "09906672494021070283"
     },
     "user_tz": -60
    },
    "id": "120aecab",
    "outputId": "ac17e6b9-f070-44a7-a804-861394e9d164",
    "papermill": {
     "duration": 0.316713,
     "end_time": "2023-12-21T22:21:07.327699",
     "exception": false,
     "start_time": "2023-12-21T22:21:07.010986",
     "status": "completed"
    },
    "tags": []
   },
   "outputs": [
    {
     "name": "stdout",
     "output_type": "stream",
     "text": [
      "CPU times: user 230 ms, sys: 66.1 ms, total: 296 ms\n",
      "Wall time: 295 ms\n"
     ]
    }
   ],
   "source": [
    "%%time\n",
    "\n",
    "train_X = train[columns_to_use]\n",
    "train_y = train['purchased']\n",
    "\n",
    "test_X = test[columns_to_use]"
   ]
  },
  {
   "cell_type": "markdown",
   "id": "eafac427",
   "metadata": {
    "id": "82745ed2",
    "papermill": {
     "duration": 0.013321,
     "end_time": "2023-12-21T22:21:07.354693",
     "exception": false,
     "start_time": "2023-12-21T22:21:07.341372",
     "status": "completed"
    },
    "tags": []
   },
   "source": [
    "# Model training"
   ]
  },
  {
   "cell_type": "code",
   "execution_count": 36,
   "id": "e82710e8",
   "metadata": {
    "execution": {
     "iopub.execute_input": "2023-12-21T22:21:07.383164Z",
     "iopub.status.busy": "2023-12-21T22:21:07.382834Z",
     "iopub.status.idle": "2023-12-21T22:21:08.410343Z",
     "shell.execute_reply": "2023-12-21T22:21:08.409092Z"
    },
    "executionInfo": {
     "elapsed": 1538,
     "status": "ok",
     "timestamp": 1699021196194,
     "user": {
      "displayName": "nick wils",
      "userId": "09906672494021070283"
     },
     "user_tz": -60
    },
    "id": "1e949a9d",
    "papermill": {
     "duration": 1.044397,
     "end_time": "2023-12-21T22:21:08.412438",
     "exception": false,
     "start_time": "2023-12-21T22:21:07.368041",
     "status": "completed"
    },
    "tags": []
   },
   "outputs": [],
   "source": [
    "from lightgbm.sklearn import LGBMRanker"
   ]
  },
  {
   "cell_type": "code",
   "execution_count": 37,
   "id": "822b3e44",
   "metadata": {
    "execution": {
     "iopub.execute_input": "2023-12-21T22:21:08.442691Z",
     "iopub.status.busy": "2023-12-21T22:21:08.442358Z",
     "iopub.status.idle": "2023-12-21T22:21:08.447388Z",
     "shell.execute_reply": "2023-12-21T22:21:08.446359Z"
    },
    "executionInfo": {
     "elapsed": 4,
     "status": "ok",
     "timestamp": 1699021196194,
     "user": {
      "displayName": "nick wils",
      "userId": "09906672494021070283"
     },
     "user_tz": -60
    },
    "id": "cd60dded",
    "papermill": {
     "duration": 0.022406,
     "end_time": "2023-12-21T22:21:08.449854",
     "exception": false,
     "start_time": "2023-12-21T22:21:08.427448",
     "status": "completed"
    },
    "tags": []
   },
   "outputs": [],
   "source": [
    "ranker = LGBMRanker(\n",
    "    objective=\"lambdarank\",\n",
    "    metric=\"ndcg\",\n",
    "    boosting_type=\"dart\",\n",
    "    n_estimators=1,\n",
    "    importance_type='gain',\n",
    "    verbose=10\n",
    ")"
   ]
  },
  {
   "cell_type": "code",
   "execution_count": 38,
   "id": "b4f542ad",
   "metadata": {
    "execution": {
     "iopub.execute_input": "2023-12-21T22:21:08.481522Z",
     "iopub.status.busy": "2023-12-21T22:21:08.481200Z",
     "iopub.status.idle": "2023-12-21T22:21:14.715109Z",
     "shell.execute_reply": "2023-12-21T22:21:14.714416Z"
    },
    "id": "25f040a4",
    "papermill": {
     "duration": 6.251751,
     "end_time": "2023-12-21T22:21:14.716720",
     "exception": false,
     "start_time": "2023-12-21T22:21:08.464969",
     "status": "completed"
    },
    "tags": []
   },
   "outputs": [
    {
     "name": "stdout",
     "output_type": "stream",
     "text": [
      "[LightGBM] [Debug] Dataset::GetMultiBinFromSparseFeatures: sparse rate 0.849315\n",
      "[LightGBM] [Debug] Dataset::GetMultiBinFromAllFeatures: sparse rate 0.212857\n",
      "[LightGBM] [Debug] init for col-wise cost 0.293427 seconds, init for row-wise cost 0.712822 seconds\n",
      "[LightGBM] [Warning] Auto-choosing col-wise multi-threading, the overhead of testing was 1.206340 seconds.\n",
      "You can set `force_col_wise=true` to remove the overhead.\n",
      "[LightGBM] [Info] Total Bins 1076\n",
      "[LightGBM] [Info] Number of data points in the train set: 10205052, number of used features: 18\n",
      "[LightGBM] [Debug] Trained a tree with leaves = 31 and depth = 10\n",
      "CPU times: user 17.7 s, sys: 590 ms, total: 18.3 s\n",
      "Wall time: 6.23 s\n"
     ]
    }
   ],
   "source": [
    "%%time\n",
    "\n",
    "ranker = ranker.fit(\n",
    "    train_X,\n",
    "    train_y,\n",
    "    group=train_baskets,\n",
    ")"
   ]
  },
  {
   "cell_type": "code",
   "execution_count": 39,
   "id": "8b62cb2a",
   "metadata": {
    "execution": {
     "iopub.execute_input": "2023-12-21T22:21:14.747708Z",
     "iopub.status.busy": "2023-12-21T22:21:14.746655Z",
     "iopub.status.idle": "2023-12-21T22:21:14.752602Z",
     "shell.execute_reply": "2023-12-21T22:21:14.751597Z"
    },
    "id": "4b6b5a94",
    "papermill": {
     "duration": 0.022578,
     "end_time": "2023-12-21T22:21:14.754258",
     "exception": false,
     "start_time": "2023-12-21T22:21:14.731680",
     "status": "completed"
    },
    "tags": []
   },
   "outputs": [
    {
     "name": "stdout",
     "output_type": "stream",
     "text": [
      "bestseller_rank 0.9990630474859556\n",
      "article_id 0.00025672954816784117\n",
      "age 0.00023379656467406953\n",
      "garment_group_no 0.00011449622082225071\n",
      "product_type_no 7.124829237827351e-05\n",
      "club_member_status 6.555863224332772e-05\n",
      "postal_code 6.3111471349543e-05\n",
      "colour_group_code 5.2718280425564896e-05\n",
      "department_no 3.499042564464031e-05\n",
      "Active 2.9488149526114902e-05\n",
      "perceived_colour_value_id 1.4814928812684849e-05\n",
      "fashion_news_frequency 0.0\n",
      "FN 0.0\n",
      "section_no 0.0\n",
      "index_code 0.0\n",
      "perceived_colour_master_id 0.0\n",
      "graphical_appearance_no 0.0\n",
      "index_group_no 0.0\n"
     ]
    }
   ],
   "source": [
    "for i in ranker.feature_importances_.argsort()[::-1]:\n",
    "    print(columns_to_use[i], ranker.feature_importances_[i]/ranker.feature_importances_.sum())"
   ]
  },
  {
   "cell_type": "markdown",
   "id": "6449e9df",
   "metadata": {
    "id": "00faf029",
    "papermill": {
     "duration": 0.01392,
     "end_time": "2023-12-21T22:21:14.782416",
     "exception": false,
     "start_time": "2023-12-21T22:21:14.768496",
     "status": "completed"
    },
    "tags": []
   },
   "source": [
    "# Calculate predictions"
   ]
  },
  {
   "cell_type": "code",
   "execution_count": 40,
   "id": "83a91f12",
   "metadata": {
    "execution": {
     "iopub.execute_input": "2023-12-21T22:21:14.812270Z",
     "iopub.status.busy": "2023-12-21T22:21:14.811391Z",
     "iopub.status.idle": "2023-12-21T22:21:29.362075Z",
     "shell.execute_reply": "2023-12-21T22:21:29.361129Z"
    },
    "id": "7e862846",
    "papermill": {
     "duration": 14.568041,
     "end_time": "2023-12-21T22:21:29.364372",
     "exception": false,
     "start_time": "2023-12-21T22:21:14.796331",
     "status": "completed"
    },
    "tags": []
   },
   "outputs": [
    {
     "name": "stdout",
     "output_type": "stream",
     "text": [
      "CPU times: user 3 µs, sys: 0 ns, total: 3 µs\n",
      "Wall time: 5.72 µs\n"
     ]
    }
   ],
   "source": [
    "%time\n",
    "\n",
    "test['preds'] = ranker.predict(test_X)\n",
    "\n",
    "c_id2predicted_article_ids = test \\\n",
    "    .sort_values(['customer_id', 'preds'], ascending=False) \\\n",
    "    .groupby('customer_id')['article_id'].apply(list).to_dict()\n",
    "\n",
    "bestsellers_last_week = \\\n",
    "    bestsellers_previous_week[bestsellers_previous_week.week == bestsellers_previous_week.week.max()]['article_id'].tolist()"
   ]
  },
  {
   "cell_type": "markdown",
   "id": "62c916ae",
   "metadata": {
    "id": "de045e98",
    "papermill": {
     "duration": 0.014628,
     "end_time": "2023-12-21T22:21:29.393978",
     "exception": false,
     "start_time": "2023-12-21T22:21:29.379350",
     "status": "completed"
    },
    "tags": []
   },
   "source": [
    "# Create submission"
   ]
  },
  {
   "cell_type": "code",
   "execution_count": 41,
   "id": "736fc1e8",
   "metadata": {
    "execution": {
     "iopub.execute_input": "2023-12-21T22:21:29.424008Z",
     "iopub.status.busy": "2023-12-21T22:21:29.423667Z",
     "iopub.status.idle": "2023-12-21T22:21:35.040486Z",
     "shell.execute_reply": "2023-12-21T22:21:35.039610Z"
    },
    "id": "43e4fda7",
    "papermill": {
     "duration": 5.634611,
     "end_time": "2023-12-21T22:21:35.042750",
     "exception": false,
     "start_time": "2023-12-21T22:21:29.408139",
     "status": "completed"
    },
    "tags": []
   },
   "outputs": [],
   "source": [
    "sub = pd.read_csv('/kaggle/input/h-and-m-personalized-fashion-recommendations/sample_submission.csv')"
   ]
  },
  {
   "cell_type": "code",
   "execution_count": 42,
   "id": "6ced8978",
   "metadata": {
    "execution": {
     "iopub.execute_input": "2023-12-21T22:21:35.072811Z",
     "iopub.status.busy": "2023-12-21T22:21:35.072474Z",
     "iopub.status.idle": "2023-12-21T22:21:43.397961Z",
     "shell.execute_reply": "2023-12-21T22:21:43.396978Z"
    },
    "id": "a35ac969",
    "papermill": {
     "duration": 8.342981,
     "end_time": "2023-12-21T22:21:43.400327",
     "exception": false,
     "start_time": "2023-12-21T22:21:35.057346",
     "status": "completed"
    },
    "tags": []
   },
   "outputs": [
    {
     "name": "stdout",
     "output_type": "stream",
     "text": [
      "CPU times: user 8.19 s, sys: 130 ms, total: 8.32 s\n",
      "Wall time: 8.32 s\n"
     ]
    }
   ],
   "source": [
    "%%time\n",
    "preds = []\n",
    "predsval = []\n",
    "positive_items_val = val.groupby(['customer_id'])['article_id'].apply(list)\n",
    "# creating validation set for metrics\n",
    "val_users = positive_items_val.keys()\n",
    "val_items = []\n",
    "# Go over all customers and get a prediction\n",
    "for c_id in customer_hex_id_to_int(sub.customer_id):\n",
    "    pred = c_id2predicted_article_ids.get(c_id, [])\n",
    "    pred = pred + bestsellers_last_week\n",
    "    preds.append(pred[:12])\n",
    "#     if the customer bought something in the validation set add it to the validation list\n",
    "    if c_id in val_users:\n",
    "        predsval.append(pred[:12])\n",
    "        val_items.append(positive_items_val[c_id])"
   ]
  },
  {
   "cell_type": "code",
   "execution_count": 43,
   "id": "5e8ac1e5",
   "metadata": {
    "execution": {
     "iopub.execute_input": "2023-12-21T22:21:43.435011Z",
     "iopub.status.busy": "2023-12-21T22:21:43.434697Z",
     "iopub.status.idle": "2023-12-21T22:21:43.941175Z",
     "shell.execute_reply": "2023-12-21T22:21:43.940503Z"
    },
    "papermill": {
     "duration": 0.524441,
     "end_time": "2023-12-21T22:21:43.943224",
     "exception": false,
     "start_time": "2023-12-21T22:21:43.418783",
     "status": "completed"
    },
    "tags": []
   },
   "outputs": [
    {
     "name": "stdout",
     "output_type": "stream",
     "text": [
      "Total users in validation: 68984\n",
      "mAP12 Score on Validation set: 0.022897740813341838\n",
      "precision Score on Validation set: 0.00981386988287139\n",
      "recall Score on Validation set: 0.046099024994739723\n"
     ]
    }
   ],
   "source": [
    "if Testing:\n",
    "    print(\"Total users in validation:\", len(val_users))\n",
    "    print(\"mAP12 Score on Validation set:\", mapk(val_items, predsval))\n",
    "    print(\"precision Score on Validation set:\", precision12(val_items, predsval))\n",
    "    print(\"recall Score on Validation set:\", recall12(val_items, predsval))"
   ]
  },
  {
   "cell_type": "code",
   "execution_count": 44,
   "id": "df495045",
   "metadata": {
    "execution": {
     "iopub.execute_input": "2023-12-21T22:21:43.974857Z",
     "iopub.status.busy": "2023-12-21T22:21:43.973486Z",
     "iopub.status.idle": "2023-12-21T22:21:48.670923Z",
     "shell.execute_reply": "2023-12-21T22:21:48.669706Z"
    },
    "id": "3f8f9304",
    "papermill": {
     "duration": 4.715014,
     "end_time": "2023-12-21T22:21:48.673169",
     "exception": false,
     "start_time": "2023-12-21T22:21:43.958155",
     "status": "completed"
    },
    "tags": []
   },
   "outputs": [],
   "source": [
    "preds = [' '.join(['0' + str(p) for p in ps]) for ps in preds]\n",
    "sub.prediction = preds"
   ]
  },
  {
   "cell_type": "code",
   "execution_count": 45,
   "id": "ae489ae1",
   "metadata": {
    "execution": {
     "iopub.execute_input": "2023-12-21T22:21:48.704352Z",
     "iopub.status.busy": "2023-12-21T22:21:48.704046Z",
     "iopub.status.idle": "2023-12-21T22:22:06.956535Z",
     "shell.execute_reply": "2023-12-21T22:22:06.955156Z"
    },
    "id": "62d8338d",
    "papermill": {
     "duration": 18.270413,
     "end_time": "2023-12-21T22:22:06.958757",
     "exception": false,
     "start_time": "2023-12-21T22:21:48.688344",
     "status": "completed"
    },
    "tags": []
   },
   "outputs": [],
   "source": [
    "sub_name = 'baseline_model_submission'\n",
    "sub.to_csv(f'{sub_name}.csv.gz', index=False)"
   ]
  }
 ],
 "metadata": {
  "colab": {
   "provenance": []
  },
  "kaggle": {
   "accelerator": "none",
   "dataSources": [
    {
     "databundleVersionId": 3103714,
     "sourceId": 31254,
     "sourceType": "competition"
    },
    {
     "datasetId": 3950161,
     "sourceId": 6874227,
     "sourceType": "datasetVersion"
    },
    {
     "datasetId": 3950274,
     "sourceId": 6874424,
     "sourceType": "datasetVersion"
    },
    {
     "datasetId": 3954698,
     "sourceId": 6883243,
     "sourceType": "datasetVersion"
    },
    {
     "sourceId": 149573710,
     "sourceType": "kernelVersion"
    }
   ],
   "dockerImageVersionId": 30558,
   "isGpuEnabled": false,
   "isInternetEnabled": true,
   "language": "python",
   "sourceType": "notebook"
  },
  "kernelspec": {
   "display_name": "Python 3",
   "language": "python",
   "name": "python3"
  },
  "language_info": {
   "codemirror_mode": {
    "name": "ipython",
    "version": 3
   },
   "file_extension": ".py",
   "mimetype": "text/x-python",
   "name": "python",
   "nbconvert_exporter": "python",
   "pygments_lexer": "ipython3",
   "version": "3.10.12"
  },
  "papermill": {
   "default_parameters": {},
   "duration": 149.501399,
   "end_time": "2023-12-21T22:22:09.592831",
   "environment_variables": {},
   "exception": null,
   "input_path": "__notebook__.ipynb",
   "output_path": "__notebook__.ipynb",
   "parameters": {},
   "start_time": "2023-12-21T22:19:40.091432",
   "version": "2.3.4"
  }
 },
 "nbformat": 4,
 "nbformat_minor": 5
}
