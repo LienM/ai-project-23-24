{
 "cells": [
  {
   "cell_type": "code",
   "execution_count": 1,
   "id": "38e12846",
   "metadata": {
    "execution": {
     "iopub.execute_input": "2023-12-22T02:28:04.122778Z",
     "iopub.status.busy": "2023-12-22T02:28:04.121346Z",
     "iopub.status.idle": "2023-12-22T02:28:05.100776Z",
     "shell.execute_reply": "2023-12-22T02:28:05.099631Z"
    },
    "papermill": {
     "duration": 0.988221,
     "end_time": "2023-12-22T02:28:05.103952",
     "exception": false,
     "start_time": "2023-12-22T02:28:04.115731",
     "status": "completed"
    },
    "tags": []
   },
   "outputs": [],
   "source": [
    "import numpy as np\n",
    "import pandas as pd\n",
    "import unittest"
   ]
  },
  {
   "cell_type": "markdown",
   "id": "82d0bcf6",
   "metadata": {
    "papermill": {
     "duration": 0.003163,
     "end_time": "2023-12-22T02:28:05.110772",
     "exception": false,
     "start_time": "2023-12-22T02:28:05.107609",
     "status": "completed"
    },
    "tags": []
   },
   "source": [
    "# Functions I need to test"
   ]
  },
  {
   "cell_type": "code",
   "execution_count": 2,
   "id": "f70c785c",
   "metadata": {
    "_cell_guid": "b1076dfc-b9ad-4769-8c92-a6c4dae69d19",
    "_uuid": "8f2839f25d086af736a60e9eeb907d3b93b6e0e5",
    "execution": {
     "iopub.execute_input": "2023-12-22T02:28:05.120160Z",
     "iopub.status.busy": "2023-12-22T02:28:05.119084Z",
     "iopub.status.idle": "2023-12-22T02:28:05.134338Z",
     "shell.execute_reply": "2023-12-22T02:28:05.133125Z"
    },
    "papermill": {
     "duration": 0.022781,
     "end_time": "2023-12-22T02:28:05.136928",
     "exception": false,
     "start_time": "2023-12-22T02:28:05.114147",
     "status": "completed"
    },
    "tags": []
   },
   "outputs": [],
   "source": [
    "def precision(actual, predicted, k=12):\n",
    "    if len(predicted) > k:\n",
    "        predicted = predicted[:k]\n",
    "\n",
    "    correct_predictions = [p for p in predicted if p in actual]\n",
    "\n",
    "    return len(correct_predictions) / len(predicted)\n",
    "\n",
    "def recall(actual, predicted, k=12):\n",
    "    if len(predicted) > k:\n",
    "        predicted = predicted[:k]\n",
    "\n",
    "    correct_predictions = [p for p in predicted if p in actual]\n",
    "\n",
    "    return len(correct_predictions) / len(actual)\n",
    "\n",
    "def precision12(actual, predicted, k=12):\n",
    "    return np.mean([precision(a,p,k) for a,p in zip(actual, predicted)])\n",
    "\n",
    "def recall12(actual, predicted, k=12):\n",
    "    return np.mean([recall(a,p,k) for a,p in zip(actual, predicted)])\n",
    "\n",
    "def apk(actual, predicted, k=10):\n",
    "\n",
    "    if len(predicted)>k:\n",
    "        predicted = predicted[:k]\n",
    "\n",
    "    score = 0.0\n",
    "    num_hits = 0.0\n",
    "\n",
    "    for i,p in enumerate(predicted):\n",
    "        if p in actual and p not in predicted[:i]:\n",
    "            num_hits += 1.0\n",
    "            score += num_hits / (i+1.0)\n",
    "\n",
    "    if not actual:\n",
    "        return 0.0\n",
    "\n",
    "    return score / min(len(actual), k)\n",
    "\n",
    "def mapk(actual, predicted, k=10):\n",
    "\n",
    "    return np.mean([apk(a,p,k) for a,p in zip(actual, predicted)])"
   ]
  },
  {
   "cell_type": "markdown",
   "id": "887ba270",
   "metadata": {
    "papermill": {
     "duration": 0.003306,
     "end_time": "2023-12-22T02:28:05.143646",
     "exception": false,
     "start_time": "2023-12-22T02:28:05.140340",
     "status": "completed"
    },
    "tags": []
   },
   "source": [
    "# Tests"
   ]
  },
  {
   "cell_type": "code",
   "execution_count": 3,
   "id": "21a57126",
   "metadata": {
    "execution": {
     "iopub.execute_input": "2023-12-22T02:28:05.152284Z",
     "iopub.status.busy": "2023-12-22T02:28:05.151872Z",
     "iopub.status.idle": "2023-12-22T02:28:05.173137Z",
     "shell.execute_reply": "2023-12-22T02:28:05.172212Z"
    },
    "papermill": {
     "duration": 0.028594,
     "end_time": "2023-12-22T02:28:05.175677",
     "exception": false,
     "start_time": "2023-12-22T02:28:05.147083",
     "status": "completed"
    },
    "tags": []
   },
   "outputs": [],
   "source": [
    "class TestMetricsFunctions(unittest.TestCase):\n",
    "\n",
    "    def setUp(self):\n",
    "        # Define example data for testing\n",
    "        self.actual = [[1,2,3,4],\n",
    "                       [1,2,3,4],\n",
    "                       [1,2,3,4],\n",
    "                       [1,2,3,4]]\n",
    "        self.predicted = [[1,2,3,4],\n",
    "                          [2,3,4,1],\n",
    "                          [5,6,7,8],\n",
    "                          [1,2,3,5]]\n",
    "\n",
    "    def test_precision(self):\n",
    "        # Test precision for various cases\n",
    "        self.assertAlmostEqual(precision(self.actual[0], self.predicted[0]), 1)  # Corrected expected value\n",
    "        self.assertAlmostEqual(precision(self.actual[1], self.predicted[1]), 1)\n",
    "        self.assertAlmostEqual(precision(self.actual[2], self.predicted[2]), 0)\n",
    "        self.assertAlmostEqual(precision(self.actual[3], self.predicted[3]), 0.75)\n",
    "\n",
    "        # Test precision with k parameter\n",
    "        self.assertAlmostEqual(precision(self.actual[0], self.predicted[0], k=2), 1.0)\n",
    "\n",
    "    def test_recall(self):\n",
    "        # Test recall for various cases\n",
    "        self.assertAlmostEqual(recall(self.actual[0], self.predicted[0]), 1)  # Corrected expected value\n",
    "        self.assertAlmostEqual(recall(self.actual[1], self.predicted[1]), 1)\n",
    "        self.assertAlmostEqual(recall(self.actual[2], self.predicted[2]), 0)\n",
    "        self.assertAlmostEqual(recall(self.actual[3], self.predicted[3]), 0.75)\n",
    "\n",
    "        # Test recall with k parameter\n",
    "        self.assertAlmostEqual(recall(self.actual[0], self.predicted[0], k=2), 0.5)\n",
    "\n",
    "    def test_precision12(self):\n",
    "        # Test precision12 for various cases\n",
    "        self.assertAlmostEqual(precision12(self.actual, self.predicted), 0.6875)  # Corrected expected value\n",
    "\n",
    "        # Test precision12 with k parameter\n",
    "        self.assertAlmostEqual(precision12(self.actual, self.predicted, k=2), 0.75)\n",
    "\n",
    "    def test_recall12(self):\n",
    "        # Test recall12 for various cases\n",
    "        self.assertAlmostEqual(recall12(self.actual, self.predicted), 0.6875)  # Corrected expected value\n",
    "\n",
    "        # Test recall12 with k parameter\n",
    "        self.assertAlmostEqual(recall12(self.actual, self.predicted, k=2), 0.375)\n",
    "        \n",
    "    def test_apk(self):\n",
    "        # Test apk for various cases\n",
    "        self.assertAlmostEqual(apk(self.actual[0], self.predicted[0]), 1.0)  # Corrected expected value\n",
    "        self.assertAlmostEqual(apk(self.actual[1], self.predicted[1]), 1.0)\n",
    "        self.assertAlmostEqual(apk(self.actual[2], self.predicted[2]), 0.0)\n",
    "        self.assertAlmostEqual(apk(self.actual[3], self.predicted[3]), 0.75)\n",
    "\n",
    "        # Test apk with k parameter\n",
    "        self.assertAlmostEqual(apk(self.actual[0], self.predicted[0], k=2), 1.0)\n",
    "\n",
    "    def test_mapk(self):\n",
    "        # Test mapk for various cases\n",
    "        self.assertAlmostEqual(mapk(self.actual, self.predicted), 0.6875)  # Corrected expected value\n",
    "\n",
    "        # Test mapk with k parameter\n",
    "        self.assertAlmostEqual(mapk(self.actual, self.predicted, k=2), 0.75)"
   ]
  },
  {
   "cell_type": "markdown",
   "id": "87a0fa11",
   "metadata": {
    "papermill": {
     "duration": 0.003112,
     "end_time": "2023-12-22T02:28:05.182217",
     "exception": false,
     "start_time": "2023-12-22T02:28:05.179105",
     "status": "completed"
    },
    "tags": []
   },
   "source": [
    "# Run the tests"
   ]
  },
  {
   "cell_type": "code",
   "execution_count": 4,
   "id": "38853b31",
   "metadata": {
    "execution": {
     "iopub.execute_input": "2023-12-22T02:28:05.190880Z",
     "iopub.status.busy": "2023-12-22T02:28:05.190217Z",
     "iopub.status.idle": "2023-12-22T02:28:05.209871Z",
     "shell.execute_reply": "2023-12-22T02:28:05.208633Z"
    },
    "papermill": {
     "duration": 0.027263,
     "end_time": "2023-12-22T02:28:05.212770",
     "exception": false,
     "start_time": "2023-12-22T02:28:05.185507",
     "status": "completed"
    },
    "tags": []
   },
   "outputs": [
    {
     "name": "stderr",
     "output_type": "stream",
     "text": [
      "......\n",
      "----------------------------------------------------------------------\n",
      "Ran 6 tests in 0.006s\n",
      "\n",
      "OK\n"
     ]
    },
    {
     "data": {
      "text/plain": [
       "<unittest.runner.TextTestResult run=6 errors=0 failures=0>"
      ]
     },
     "execution_count": 4,
     "metadata": {},
     "output_type": "execute_result"
    }
   ],
   "source": [
    "# Run the tests\n",
    "test_runner = unittest.TextTestRunner()\n",
    "suite = unittest.TestLoader().loadTestsFromTestCase(TestMetricsFunctions)\n",
    "test_runner.run(suite)"
   ]
  }
 ],
 "metadata": {
  "kaggle": {
   "accelerator": "none",
   "dataSources": [],
   "dockerImageVersionId": 30626,
   "isGpuEnabled": false,
   "isInternetEnabled": true,
   "language": "python",
   "sourceType": "notebook"
  },
  "kernelspec": {
   "display_name": "Python 3",
   "language": "python",
   "name": "python3"
  },
  "language_info": {
   "codemirror_mode": {
    "name": "ipython",
    "version": 3
   },
   "file_extension": ".py",
   "mimetype": "text/x-python",
   "name": "python",
   "nbconvert_exporter": "python",
   "pygments_lexer": "ipython3",
   "version": "3.10.12"
  },
  "papermill": {
   "default_parameters": {},
   "duration": 6.508227,
   "end_time": "2023-12-22T02:28:05.739389",
   "environment_variables": {},
   "exception": null,
   "input_path": "__notebook__.ipynb",
   "output_path": "__notebook__.ipynb",
   "parameters": {},
   "start_time": "2023-12-22T02:27:59.231162",
   "version": "2.4.0"
  }
 },
 "nbformat": 4,
 "nbformat_minor": 5
}
