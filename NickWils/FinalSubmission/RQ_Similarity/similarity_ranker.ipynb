{
 "cells": [
  {
   "cell_type": "markdown",
   "id": "bb8663eb",
   "metadata": {
    "papermill": {
     "duration": 0.005395,
     "end_time": "2023-12-21T23:20:23.784500",
     "exception": false,
     "start_time": "2023-12-21T23:20:23.779105",
     "status": "completed"
    },
    "tags": []
   },
   "source": [
    "Based on the baseline \"Radek's LGBMRanker starter-pack”: https://www.kaggle.com/code/marcogorelli/radek-s-lgbmranker-starter-pack\n"
   ]
  },
  {
   "cell_type": "markdown",
   "id": "01de1093",
   "metadata": {
    "papermill": {
     "duration": 0.004498,
     "end_time": "2023-12-21T23:20:23.796084",
     "exception": false,
     "start_time": "2023-12-21T23:20:23.791586",
     "status": "completed"
    },
    "tags": []
   },
   "source": [
    "# Helper functions"
   ]
  },
  {
   "cell_type": "code",
   "execution_count": 1,
   "id": "655a68a7",
   "metadata": {
    "execution": {
     "iopub.execute_input": "2023-12-21T23:20:23.807712Z",
     "iopub.status.busy": "2023-12-21T23:20:23.807311Z",
     "iopub.status.idle": "2023-12-21T23:20:23.833701Z",
     "shell.execute_reply": "2023-12-21T23:20:23.832774Z"
    },
    "executionInfo": {
     "elapsed": 8,
     "status": "ok",
     "timestamp": 1699021070415,
     "user": {
      "displayName": "nick wils",
      "userId": "09906672494021070283"
     },
     "user_tz": -60
    },
    "id": "4a7e7212",
    "papermill": {
     "duration": 0.035508,
     "end_time": "2023-12-21T23:20:23.836268",
     "exception": false,
     "start_time": "2023-12-21T23:20:23.800760",
     "status": "completed"
    },
    "tags": []
   },
   "outputs": [],
   "source": [
    "import numpy as np\n",
    "import numpy as np\n",
    "from tqdm import tqdm\n",
    "def apk(actual, predicted, k=10):\n",
    "    \"\"\"\n",
    "    Computes the average precision at k.\n",
    "\n",
    "    This function computes the average prescision at k between two lists of\n",
    "    items.\n",
    "\n",
    "    Parameters\n",
    "    ----------\n",
    "    actual : list\n",
    "             A list of elements that are to be predicted (order doesn't matter)\n",
    "    predicted : list\n",
    "                A list of predicted elements (order does matter)\n",
    "    k : int, optional\n",
    "        The maximum number of predicted elements\n",
    "\n",
    "    Returns\n",
    "    -------\n",
    "    score : double\n",
    "            The average precision at k over the input lists\n",
    "\n",
    "    \"\"\"\n",
    "    if len(predicted)>k:\n",
    "        predicted = predicted[:k]\n",
    "\n",
    "    score = 0.0\n",
    "    num_hits = 0.0\n",
    "\n",
    "    for i,p in enumerate(predicted):\n",
    "        if p in actual and p not in predicted[:i]:\n",
    "            num_hits += 1.0\n",
    "            score += num_hits / (i+1.0)\n",
    "\n",
    "    if not actual:\n",
    "        return 0.0\n",
    "\n",
    "    return score / min(len(actual), k)\n",
    "\n",
    "def mapk(actual, predicted, k=10):\n",
    "    \"\"\"\n",
    "    Computes the mean average precision at k.\n",
    "\n",
    "    This function computes the mean average prescision at k between two lists\n",
    "    of lists of items.\n",
    "\n",
    "    Parameters\n",
    "    ----------\n",
    "    actual : list\n",
    "             A list of lists of elements that are to be predicted\n",
    "             (order doesn't matter in the lists)\n",
    "    predicted : list\n",
    "                A list of lists of predicted elements\n",
    "                (order matters in the lists)\n",
    "    k : int, optional\n",
    "        The maximum number of predicted elements\n",
    "\n",
    "    Returns\n",
    "    -------\n",
    "    score : double\n",
    "            The mean average precision at k over the input lists\n",
    "\n",
    "    \"\"\"\n",
    "    return np.mean([apk(a,p,k) for a,p in zip(actual, predicted)])"
   ]
  },
  {
   "cell_type": "code",
   "execution_count": 2,
   "id": "c2f25e01",
   "metadata": {
    "execution": {
     "iopub.execute_input": "2023-12-21T23:20:23.847931Z",
     "iopub.status.busy": "2023-12-21T23:20:23.847575Z",
     "iopub.status.idle": "2023-12-21T23:20:25.087843Z",
     "shell.execute_reply": "2023-12-21T23:20:25.086756Z"
    },
    "executionInfo": {
     "elapsed": 1622,
     "status": "ok",
     "timestamp": 1699021072031,
     "user": {
      "displayName": "nick wils",
      "userId": "09906672494021070283"
     },
     "user_tz": -60
    },
    "id": "85ef6566",
    "papermill": {
     "duration": 1.24929,
     "end_time": "2023-12-21T23:20:25.090631",
     "exception": false,
     "start_time": "2023-12-21T23:20:23.841341",
     "status": "completed"
    },
    "tags": []
   },
   "outputs": [],
   "source": [
    "from sklearn.base import BaseEstimator, TransformerMixin\n",
    "import numpy as np\n",
    "\n",
    "# https://www.kaggle.com/c/h-and-m-personalized-fashion-recommendations/discussion/308635\n",
    "def customer_hex_id_to_int(series):\n",
    "    return series.str[-16:].apply(hex_id_to_int)\n",
    "\n",
    "def hex_id_to_int(str):\n",
    "    return int(str[-16:], 16)\n",
    "\n",
    "def article_id_str_to_int(series):\n",
    "    return series.astype('int32')\n",
    "\n",
    "def article_id_int_to_str(series):\n",
    "    return '0' + series.astype('str')\n",
    "\n",
    "class Categorize(BaseEstimator, TransformerMixin):\n",
    "    def __init__(self, min_examples=0):\n",
    "        self.min_examples = min_examples\n",
    "        self.categories = []\n",
    "\n",
    "    def fit(self, X):\n",
    "        for i in range(X.shape[1]):\n",
    "            vc = X.iloc[:, i].value_counts()\n",
    "            self.categories.append(vc[vc > self.min_examples].index.tolist())\n",
    "        return self\n",
    "\n",
    "    def transform(self, X):\n",
    "        data = {X.columns[i]: pd.Categorical(X.iloc[:, i], categories=self.categories[i]).codes for i in range(X.shape[1])}\n",
    "        return pd.DataFrame(data=data)\n",
    "\n",
    "\n",
    "def calculate_apk(list_of_preds, list_of_gts):\n",
    "    # for fast validation this can be changed to operate on dicts of {'cust_id_int': [art_id_int, ...]}\n",
    "    # using 'data/val_week_purchases_by_cust.pkl'\n",
    "    apks = []\n",
    "    for preds, gt in zip(list_of_preds, list_of_gts):\n",
    "        apks.append(apk(gt, preds, k=12))\n",
    "    return np.mean(apks)\n",
    "\n",
    "def eval_sub(sub_csv, skip_cust_with_no_purchases=True):\n",
    "    sub=pd.read_csv(sub_csv)\n",
    "    validation_set=pd.read_parquet('data/validation_ground_truth.parquet')\n",
    "\n",
    "    apks = []\n",
    "\n",
    "    no_purchases_pattern = []\n",
    "    for pred, gt in zip(sub.prediction.str.split(), validation_set.prediction.str.split()):\n",
    "        if skip_cust_with_no_purchases and (gt == no_purchases_pattern): continue\n",
    "        apks.append(apk(gt, pred, k=12))\n",
    "    return np.mean(apks)"
   ]
  },
  {
   "cell_type": "code",
   "execution_count": 3,
   "id": "2f87bd3f",
   "metadata": {
    "execution": {
     "iopub.execute_input": "2023-12-21T23:20:25.102477Z",
     "iopub.status.busy": "2023-12-21T23:20:25.102056Z",
     "iopub.status.idle": "2023-12-21T23:20:25.923120Z",
     "shell.execute_reply": "2023-12-21T23:20:25.922025Z"
    },
    "executionInfo": {
     "elapsed": 1009,
     "status": "ok",
     "timestamp": 1699021073032,
     "user": {
      "displayName": "nick wils",
      "userId": "09906672494021070283"
     },
     "user_tz": -60
    },
    "id": "78c7a34c",
    "papermill": {
     "duration": 0.829858,
     "end_time": "2023-12-21T23:20:25.925737",
     "exception": false,
     "start_time": "2023-12-21T23:20:25.095879",
     "status": "completed"
    },
    "tags": []
   },
   "outputs": [],
   "source": [
    "import pandas as pd"
   ]
  },
  {
   "cell_type": "markdown",
   "id": "65ecafff",
   "metadata": {
    "papermill": {
     "duration": 0.005428,
     "end_time": "2023-12-21T23:20:25.936260",
     "exception": false,
     "start_time": "2023-12-21T23:20:25.930832",
     "status": "completed"
    },
    "tags": []
   },
   "source": [
    "# Read input files"
   ]
  },
  {
   "cell_type": "code",
   "execution_count": 4,
   "id": "b1835a51",
   "metadata": {
    "execution": {
     "iopub.execute_input": "2023-12-21T23:20:25.948364Z",
     "iopub.status.busy": "2023-12-21T23:20:25.947487Z",
     "iopub.status.idle": "2023-12-21T23:20:31.209274Z",
     "shell.execute_reply": "2023-12-21T23:20:31.208266Z"
    },
    "executionInfo": {
     "elapsed": 10386,
     "status": "ok",
     "timestamp": 1699021083403,
     "user": {
      "displayName": "nick wils",
      "userId": "09906672494021070283"
     },
     "user_tz": -60
    },
    "id": "af847e1a",
    "outputId": "3cbfb68d-34ad-434e-8246-c093b7fedffd",
    "papermill": {
     "duration": 5.270173,
     "end_time": "2023-12-21T23:20:31.211490",
     "exception": false,
     "start_time": "2023-12-21T23:20:25.941317",
     "status": "completed"
    },
    "tags": []
   },
   "outputs": [
    {
     "name": "stdout",
     "output_type": "stream",
     "text": [
      "CPU times: user 3.55 s, sys: 2.43 s, total: 5.98 s\n",
      "Wall time: 5.25 s\n"
     ]
    }
   ],
   "source": [
    "%%time\n",
    "pad = \"/kaggle/input/makeparquet\"\n",
    "transactions = pd.read_parquet(pad+'/transactions_train.parquet')\n",
    "customers = pd.read_parquet(pad+'/customers.parquet')\n",
    "articles = pd.read_parquet(pad+'/articles.parquet')"
   ]
  },
  {
   "cell_type": "code",
   "execution_count": 5,
   "id": "979f3d1a",
   "metadata": {
    "execution": {
     "iopub.execute_input": "2023-12-21T23:20:31.223217Z",
     "iopub.status.busy": "2023-12-21T23:20:31.222779Z",
     "iopub.status.idle": "2023-12-21T23:20:31.502598Z",
     "shell.execute_reply": "2023-12-21T23:20:31.501385Z"
    },
    "executionInfo": {
     "elapsed": 359,
     "status": "ok",
     "timestamp": 1699021083748,
     "user": {
      "displayName": "nick wils",
      "userId": "09906672494021070283"
     },
     "user_tz": -60
    },
    "id": "76f70d9a",
    "papermill": {
     "duration": 0.288658,
     "end_time": "2023-12-21T23:20:31.505228",
     "exception": false,
     "start_time": "2023-12-21T23:20:31.216570",
     "status": "completed"
    },
    "tags": []
   },
   "outputs": [],
   "source": [
    "test_week = transactions.week.max() + 1\n",
    "transactions = transactions[transactions.week > transactions.week.max() - 10]"
   ]
  },
  {
   "cell_type": "markdown",
   "id": "66c55c68",
   "metadata": {
    "id": "de045e98",
    "papermill": {
     "duration": 0.004494,
     "end_time": "2023-12-21T23:20:31.514703",
     "exception": false,
     "start_time": "2023-12-21T23:20:31.510209",
     "status": "completed"
    },
    "tags": []
   },
   "source": [
    "# Create submission"
   ]
  },
  {
   "cell_type": "code",
   "execution_count": 6,
   "id": "a6c30e2c",
   "metadata": {
    "execution": {
     "iopub.execute_input": "2023-12-21T23:20:31.526519Z",
     "iopub.status.busy": "2023-12-21T23:20:31.526104Z",
     "iopub.status.idle": "2023-12-21T23:20:36.736804Z",
     "shell.execute_reply": "2023-12-21T23:20:36.735539Z"
    },
    "id": "43e4fda7",
    "papermill": {
     "duration": 5.220051,
     "end_time": "2023-12-21T23:20:36.739621",
     "exception": false,
     "start_time": "2023-12-21T23:20:31.519570",
     "status": "completed"
    },
    "tags": []
   },
   "outputs": [],
   "source": [
    "sub = pd.read_csv('/kaggle/input/h-and-m-personalized-fashion-recommendations/sample_submission.csv')"
   ]
  },
  {
   "cell_type": "code",
   "execution_count": 7,
   "id": "83c98be4",
   "metadata": {
    "execution": {
     "iopub.execute_input": "2023-12-21T23:20:36.750957Z",
     "iopub.status.busy": "2023-12-21T23:20:36.750574Z",
     "iopub.status.idle": "2023-12-21T23:20:39.786094Z",
     "shell.execute_reply": "2023-12-21T23:20:39.784970Z"
    },
    "papermill": {
     "duration": 3.044221,
     "end_time": "2023-12-21T23:20:39.788786",
     "exception": false,
     "start_time": "2023-12-21T23:20:36.744565",
     "status": "completed"
    },
    "tags": []
   },
   "outputs": [],
   "source": [
    "latest_bought_articles = pd.read_csv('/kaggle/input/repurchase4weeks/repurchase4Weeks.csv')"
   ]
  },
  {
   "cell_type": "code",
   "execution_count": 8,
   "id": "a2aca530",
   "metadata": {
    "execution": {
     "iopub.execute_input": "2023-12-21T23:20:39.800331Z",
     "iopub.status.busy": "2023-12-21T23:20:39.799931Z",
     "iopub.status.idle": "2023-12-21T23:20:41.724748Z",
     "shell.execute_reply": "2023-12-21T23:20:41.723581Z"
    },
    "papermill": {
     "duration": 1.933025,
     "end_time": "2023-12-21T23:20:41.726887",
     "exception": false,
     "start_time": "2023-12-21T23:20:39.793862",
     "status": "completed"
    },
    "tags": []
   },
   "outputs": [],
   "source": [
    "latest_bought_articles = latest_bought_articles.values.tolist()\n"
   ]
  },
  {
   "cell_type": "markdown",
   "id": "03e9f1b7",
   "metadata": {
    "papermill": {
     "duration": 0.004487,
     "end_time": "2023-12-21T23:20:41.736237",
     "exception": false,
     "start_time": "2023-12-21T23:20:41.731750",
     "status": "completed"
    },
    "tags": []
   },
   "source": [
    "# Change repurchase to similar items with same group code"
   ]
  },
  {
   "cell_type": "code",
   "execution_count": 9,
   "id": "093f4bb4",
   "metadata": {
    "execution": {
     "iopub.execute_input": "2023-12-21T23:20:41.747614Z",
     "iopub.status.busy": "2023-12-21T23:20:41.747141Z",
     "iopub.status.idle": "2023-12-21T23:30:49.914552Z",
     "shell.execute_reply": "2023-12-21T23:30:49.913289Z"
    },
    "papermill": {
     "duration": 608.177399,
     "end_time": "2023-12-21T23:30:49.918315",
     "exception": false,
     "start_time": "2023-12-21T23:20:41.740916",
     "status": "completed"
    },
    "tags": []
   },
   "outputs": [
    {
     "name": "stderr",
     "output_type": "stream",
     "text": [
      "100%|██████████| 1371980/1371980 [10:08<00:00, 2255.97it/s]\n"
     ]
    }
   ],
   "source": [
    "# Function to replace article_id with random similar articles\n",
    "def replace_article_ids(article_ids):\n",
    "    new_article_ids = []\n",
    "\n",
    "    for article_id in (article_ids):\n",
    "        if article_id !=  0:\n",
    "            product_code = articles.loc[articles['article_id'] == article_id, 'product_code'].values[0]\n",
    "            similar_articles = articles.loc[articles['product_code'] == product_code, 'article_id'].tolist()\n",
    "\n",
    "            # Exclude the original article_id from similar articles\n",
    "            similar_articles = [a for a in similar_articles if a not in article_ids]\n",
    "\n",
    "            # Shuffle the list of similar articles\n",
    "\n",
    "            # Take up to 12 random similar articles\n",
    "            new_article_ids.extend(similar_articles)\n",
    "    np.random.shuffle(new_article_ids)\n",
    "    new_article_ids[:min(12, len(new_article_ids))]\n",
    "    while len(new_article_ids)<12:\n",
    "        new_article_ids.append(0)\n",
    "    return new_article_ids\n",
    "new_last_bought_articles = []\n",
    "# Replace article_ids in the last_bought_articles list\n",
    "new_last_bought_articles = [replace_article_ids(article_ids) for article_ids in tqdm(latest_bought_articles)]\n",
    "\n"
   ]
  },
  {
   "cell_type": "code",
   "execution_count": 10,
   "id": "eddfe8d6",
   "metadata": {
    "execution": {
     "iopub.execute_input": "2023-12-21T23:30:50.712115Z",
     "iopub.status.busy": "2023-12-21T23:30:50.710974Z",
     "iopub.status.idle": "2023-12-21T23:30:50.717277Z",
     "shell.execute_reply": "2023-12-21T23:30:50.716113Z"
    },
    "papermill": {
     "duration": 0.366325,
     "end_time": "2023-12-21T23:30:50.719339",
     "exception": false,
     "start_time": "2023-12-21T23:30:50.353014",
     "status": "completed"
    },
    "tags": []
   },
   "outputs": [
    {
     "name": "stdout",
     "output_type": "stream",
     "text": [
      "[[568601018, 568601044, 568601007, 568601008, 568601006, 568601034, 568601038, 568601033, 568601045, 568601026, 568601019, 568601016, 568601013, 568601012, 568601022, 568601037, 568601023, 568601024, 568601020, 568601030, 568601031, 568601029], [0, 0, 0, 0, 0, 0, 0, 0, 0, 0, 0, 0], [794321002, 794321001, 794321011, 794321003, 794321004, 794321008, 794321005, 0, 0, 0, 0, 0]]\n"
     ]
    }
   ],
   "source": [
    "print(new_last_bought_articles[:3])"
   ]
  },
  {
   "cell_type": "code",
   "execution_count": 11,
   "id": "edbb5a7b",
   "metadata": {
    "execution": {
     "iopub.execute_input": "2023-12-21T23:30:51.435595Z",
     "iopub.status.busy": "2023-12-21T23:30:51.435138Z",
     "iopub.status.idle": "2023-12-21T23:30:57.572017Z",
     "shell.execute_reply": "2023-12-21T23:30:57.570852Z"
    },
    "id": "3f8f9304",
    "papermill": {
     "duration": 6.498416,
     "end_time": "2023-12-21T23:30:57.574570",
     "exception": false,
     "start_time": "2023-12-21T23:30:51.076154",
     "status": "completed"
    },
    "tags": []
   },
   "outputs": [],
   "source": [
    "preds = [' '.join(['0' + str(p) for p in ps]) for ps in new_last_bought_articles]\n",
    "sub.prediction = preds"
   ]
  },
  {
   "cell_type": "code",
   "execution_count": 12,
   "id": "94405f00",
   "metadata": {
    "execution": {
     "iopub.execute_input": "2023-12-21T23:30:58.371198Z",
     "iopub.status.busy": "2023-12-21T23:30:58.370762Z",
     "iopub.status.idle": "2023-12-21T23:31:24.106107Z",
     "shell.execute_reply": "2023-12-21T23:31:24.105156Z"
    },
    "id": "62d8338d",
    "papermill": {
     "duration": 26.16181,
     "end_time": "2023-12-21T23:31:24.108606",
     "exception": false,
     "start_time": "2023-12-21T23:30:57.946796",
     "status": "completed"
    },
    "tags": []
   },
   "outputs": [],
   "source": [
    "sub_name = 'similarity_submission'\n",
    "sub.to_csv(f'{sub_name}.csv.gz', index=False)"
   ]
  }
 ],
 "metadata": {
  "kaggle": {
   "accelerator": "none",
   "dataSources": [
    {
     "databundleVersionId": 3103714,
     "sourceId": 31254,
     "sourceType": "competition"
    },
    {
     "sourceId": 149573710,
     "sourceType": "kernelVersion"
    },
    {
     "sourceId": 149747734,
     "sourceType": "kernelVersion"
    },
    {
     "sourceId": 151594135,
     "sourceType": "kernelVersion"
    }
   ],
   "dockerImageVersionId": 30587,
   "isGpuEnabled": false,
   "isInternetEnabled": true,
   "language": "python",
   "sourceType": "notebook"
  },
  "kernelspec": {
   "display_name": "Python 3",
   "language": "python",
   "name": "python3"
  },
  "language_info": {
   "codemirror_mode": {
    "name": "ipython",
    "version": 3
   },
   "file_extension": ".py",
   "mimetype": "text/x-python",
   "name": "python",
   "nbconvert_exporter": "python",
   "pygments_lexer": "ipython3",
   "version": "3.10.12"
  },
  "papermill": {
   "default_parameters": {},
   "duration": 666.17317,
   "end_time": "2023-12-21T23:31:25.987491",
   "environment_variables": {},
   "exception": null,
   "input_path": "__notebook__.ipynb",
   "output_path": "__notebook__.ipynb",
   "parameters": {},
   "start_time": "2023-12-21T23:20:19.814321",
   "version": "2.4.0"
  }
 },
 "nbformat": 4,
 "nbformat_minor": 5
}
