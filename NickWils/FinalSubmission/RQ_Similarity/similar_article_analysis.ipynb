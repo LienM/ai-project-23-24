{
 "cells": [
  {
   "cell_type": "markdown",
   "id": "eb825e0d",
   "metadata": {
    "papermill": {
     "duration": 0.003948,
     "end_time": "2023-11-08T00:48:09.502649",
     "exception": false,
     "start_time": "2023-11-08T00:48:09.498701",
     "status": "completed"
    },
    "tags": []
   },
   "source": [
    "# Read input files"
   ]
  },
  {
   "cell_type": "code",
   "execution_count": 1,
   "id": "310e59c0",
   "metadata": {
    "execution": {
     "iopub.execute_input": "2023-11-08T00:48:09.513505Z",
     "iopub.status.busy": "2023-11-08T00:48:09.512800Z",
     "iopub.status.idle": "2023-11-08T00:48:16.459615Z",
     "shell.execute_reply": "2023-11-08T00:48:16.458571Z"
    },
    "papermill": {
     "duration": 6.955836,
     "end_time": "2023-11-08T00:48:16.462100",
     "exception": false,
     "start_time": "2023-11-08T00:48:09.506264",
     "status": "completed"
    },
    "tags": []
   },
   "outputs": [
    {
     "name": "stdout",
     "output_type": "stream",
     "text": [
      "CPU times: user 4.03 s, sys: 4.1 s, total: 8.13 s\n",
      "Wall time: 6.93 s\n"
     ]
    }
   ],
   "source": [
    "%%time\n",
    "import pandas as pd\n",
    "\n",
    "pad = \"/kaggle/input/makeparquet\"\n",
    "transactions = pd.read_parquet(pad+'/transactions_train.parquet')\n",
    "customers = pd.read_parquet(pad+'/customers.parquet')\n",
    "articles = pd.read_parquet(pad+'/articles.parquet')"
   ]
  },
  {
   "cell_type": "code",
   "execution_count": 2,
   "id": "07edd781",
   "metadata": {
    "execution": {
     "iopub.execute_input": "2023-11-08T00:48:16.471156Z",
     "iopub.status.busy": "2023-11-08T00:48:16.470677Z",
     "iopub.status.idle": "2023-11-08T00:48:54.217635Z",
     "shell.execute_reply": "2023-11-08T00:48:54.216505Z"
    },
    "papermill": {
     "duration": 37.757493,
     "end_time": "2023-11-08T00:48:54.223306",
     "exception": false,
     "start_time": "2023-11-08T00:48:16.465813",
     "status": "completed"
    },
    "tags": []
   },
   "outputs": [
    {
     "name": "stdout",
     "output_type": "stream",
     "text": [
      "                   customer_id  product_code  article_id\n",
      "11              23962613628581        732842           3\n",
      "12              23962613628581        739618           2\n",
      "13              23962613628581        752512           2\n",
      "56              28847241659200        759871           2\n",
      "59              28847241659200        762846           2\n",
      "...                        ...           ...         ...\n",
      "24414665  18446737527580148316        699923           2\n",
      "24414666  18446737527580148316        701134           3\n",
      "24414675  18446737527580148316        762600           2\n",
      "24414676  18446737527580148316        763988           2\n",
      "24414687  18446737527580148316        845790           2\n",
      "\n",
      "[2338909 rows x 3 columns]\n"
     ]
    }
   ],
   "source": [
    "import pandas as pd\n",
    "\n",
    "# Step 1: Merge the transactions and articles dataframes on 'article_id'\n",
    "merged_df = transactions.merge(articles[['article_id', 'product_code']], on='article_id', how='inner')\n",
    "\n",
    "# Step 2: Group by 'customer_id' and 'product_code', and count unique articles\n",
    "customer_product_counts = merged_df.groupby(['customer_id', 'product_code'])['article_id'].nunique().reset_index()\n",
    "\n",
    "# Step 3: Filter customers who bought multiple articles with the same product code\n",
    "customers_with_multiple_purchases = customer_product_counts[customer_product_counts['article_id'] > 1]\n",
    "\n",
    "# Display the result\n",
    "print(customers_with_multiple_purchases)"
   ]
  },
  {
   "cell_type": "code",
   "execution_count": 3,
   "id": "37ea05b6",
   "metadata": {
    "execution": {
     "iopub.execute_input": "2023-11-08T00:48:54.232412Z",
     "iopub.status.busy": "2023-11-08T00:48:54.232020Z",
     "iopub.status.idle": "2023-11-08T01:29:55.238297Z",
     "shell.execute_reply": "2023-11-08T01:29:55.237080Z"
    },
    "papermill": {
     "duration": 2461.016129,
     "end_time": "2023-11-08T01:29:55.243069",
     "exception": false,
     "start_time": "2023-11-08T00:48:54.226940",
     "status": "completed"
    },
    "tags": []
   },
   "outputs": [
    {
     "name": "stdout",
     "output_type": "stream",
     "text": [
      "                   customer_id  product_code              article_id  \\\n",
      "0                4245900472157        715624             [715624010]   \n",
      "1                4245900472157        803757             [803757011]   \n",
      "2               23962613628581        594264             [594264006]   \n",
      "3               23962613628581        602540             [602540001]   \n",
      "4               23962613628581        638629             [638629002]   \n",
      "...                        ...           ...                     ...   \n",
      "24414685  18446737527580148316        832481             [832481001]   \n",
      "24414686  18446737527580148316        840566             [840566001]   \n",
      "24414687  18446737527580148316        845790  [845790001, 845790004]   \n",
      "24414688  18446737527580148316        850015             [850015002]   \n",
      "24414689  18446737527580148316        859416             [859416011]   \n",
      "\n",
      "                                               t_dat  \n",
      "0                              [2020-04-10 00:00:00]  \n",
      "1                              [2020-04-10 00:00:00]  \n",
      "2                              [2019-07-18 00:00:00]  \n",
      "3                              [2019-07-18 00:00:00]  \n",
      "4                              [2019-07-18 00:00:00]  \n",
      "...                                              ...  \n",
      "24414685                       [2020-05-02 00:00:00]  \n",
      "24414686                       [2019-12-14 00:00:00]  \n",
      "24414687  [2020-03-08 00:00:00, 2020-03-08 00:00:00]  \n",
      "24414688                       [2020-01-26 00:00:00]  \n",
      "24414689                       [2020-04-26 00:00:00]  \n",
      "\n",
      "[24414690 rows x 4 columns]\n"
     ]
    }
   ],
   "source": [
    "import pandas as pd\n",
    "\n",
    "# Step 1: Merge the transactions and articles dataframes on 'article_id'\n",
    "merged_df2 = transactions.merge(articles[['article_id', 'product_code']], on='article_id', how='inner')\n",
    "\n",
    "# Step 2: Group by 'customer_id', 'product_code', and aggregate lists of article_ids and dates\n",
    "grouped = merged_df2.groupby(['customer_id', 'product_code']).agg({\n",
    "    'article_id': list,\n",
    "    't_dat': list\n",
    "}).reset_index()\n",
    "\n",
    "# Display the result\n",
    "print(grouped)\n"
   ]
  },
  {
   "cell_type": "code",
   "execution_count": 4,
   "id": "53b4e623",
   "metadata": {
    "execution": {
     "iopub.execute_input": "2023-11-08T01:29:55.256767Z",
     "iopub.status.busy": "2023-11-08T01:29:55.255901Z",
     "iopub.status.idle": "2023-11-08T01:30:12.508486Z",
     "shell.execute_reply": "2023-11-08T01:30:12.506743Z"
    },
    "papermill": {
     "duration": 17.266853,
     "end_time": "2023-11-08T01:30:12.515029",
     "exception": false,
     "start_time": "2023-11-08T01:29:55.248176",
     "status": "completed"
    },
    "tags": []
   },
   "outputs": [
    {
     "name": "stdout",
     "output_type": "stream",
     "text": [
      "                   customer_id  product_code  \\\n",
      "8               23962613628581        721966   \n",
      "11              23962613628581        732842   \n",
      "12              23962613628581        739618   \n",
      "13              23962613628581        752512   \n",
      "36              28847241659200        672598   \n",
      "...                        ...           ...   \n",
      "24414666  18446737527580148316        701134   \n",
      "24414675  18446737527580148316        762600   \n",
      "24414676  18446737527580148316        763988   \n",
      "24414683  18446737527580148316        827968   \n",
      "24414687  18446737527580148316        845790   \n",
      "\n",
      "                                            article_id  \\\n",
      "8                               [721966002, 721966002]   \n",
      "11        [732842001, 732842001, 732842002, 732842004]   \n",
      "12                              [739618001, 739618002]   \n",
      "13                              [752512006, 752512008]   \n",
      "36                              [672598002, 672598002]   \n",
      "...                                                ...   \n",
      "24414666             [701134009, 701134010, 701134007]   \n",
      "24414675                        [762600008, 762600009]   \n",
      "24414676                        [763988003, 763988001]   \n",
      "24414683                        [827968002, 827968002]   \n",
      "24414687                        [845790001, 845790004]   \n",
      "\n",
      "                                                      t_dat  \n",
      "8                [2019-07-18 00:00:00, 2019-07-18 00:00:00]  \n",
      "11        [2019-07-18 00:00:00, 2019-08-03 00:00:00, 201...  \n",
      "12               [2019-07-18 00:00:00, 2019-07-18 00:00:00]  \n",
      "13               [2019-07-18 00:00:00, 2019-07-18 00:00:00]  \n",
      "36               [2018-09-30 00:00:00, 2018-10-01 00:00:00]  \n",
      "...                                                     ...  \n",
      "24414666  [2018-11-17 00:00:00, 2018-11-17 00:00:00, 201...  \n",
      "24414675         [2020-05-02 00:00:00, 2020-05-02 00:00:00]  \n",
      "24414676         [2020-09-21 00:00:00, 2020-09-21 00:00:00]  \n",
      "24414683         [2020-04-26 00:00:00, 2020-05-02 00:00:00]  \n",
      "24414687         [2020-03-08 00:00:00, 2020-03-08 00:00:00]  \n",
      "\n",
      "[4946329 rows x 4 columns]\n"
     ]
    }
   ],
   "source": [
    "# Filter the grouped dataset to include only entries with at least 2 articles\n",
    "filtered_grouped = grouped[grouped['article_id'].apply(len) >= 2]\n",
    "\n",
    "# Display the filtered result\n",
    "print(filtered_grouped)"
   ]
  },
  {
   "cell_type": "code",
   "execution_count": 5,
   "id": "6accb2e8",
   "metadata": {
    "execution": {
     "iopub.execute_input": "2023-11-08T01:30:12.527467Z",
     "iopub.status.busy": "2023-11-08T01:30:12.527002Z",
     "iopub.status.idle": "2023-11-08T01:30:12.533754Z",
     "shell.execute_reply": "2023-11-08T01:30:12.532594Z"
    },
    "papermill": {
     "duration": 0.015947,
     "end_time": "2023-11-08T01:30:12.536713",
     "exception": false,
     "start_time": "2023-11-08T01:30:12.520766",
     "status": "completed"
    },
    "tags": []
   },
   "outputs": [
    {
     "name": "stdout",
     "output_type": "stream",
     "text": [
      "24414690\n",
      "4946329\n"
     ]
    }
   ],
   "source": [
    "print(len(grouped))\n",
    "print(len(filtered_grouped))"
   ]
  },
  {
   "cell_type": "code",
   "execution_count": 6,
   "id": "436fadb2",
   "metadata": {
    "execution": {
     "iopub.execute_input": "2023-11-08T01:30:12.546888Z",
     "iopub.status.busy": "2023-11-08T01:30:12.546472Z",
     "iopub.status.idle": "2023-11-08T01:30:22.584025Z",
     "shell.execute_reply": "2023-11-08T01:30:22.582904Z"
    },
    "papermill": {
     "duration": 10.045378,
     "end_time": "2023-11-08T01:30:22.586481",
     "exception": false,
     "start_time": "2023-11-08T01:30:12.541103",
     "status": "completed"
    },
    "tags": []
   },
   "outputs": [
    {
     "name": "stdout",
     "output_type": "stream",
     "text": [
      "                   customer_id  product_code  \\\n",
      "11              23962613628581        732842   \n",
      "36              28847241659200        672598   \n",
      "59              28847241659200        762846   \n",
      "72              28847241659200        838825   \n",
      "76              28847241659200        855080   \n",
      "...                        ...           ...   \n",
      "24414650  18446737527580148316        596400   \n",
      "24414651  18446737527580148316        608776   \n",
      "24414656  18446737527580148316        636587   \n",
      "24414658  18446737527580148316        678942   \n",
      "24414683  18446737527580148316        827968   \n",
      "\n",
      "                                                 article_id  \\\n",
      "11             [732842001, 732842001, 732842002, 732842004]   \n",
      "36                                   [672598002, 672598002]   \n",
      "59                        [762846001, 762846001, 762846007]   \n",
      "72                                   [838825001, 838825003]   \n",
      "76                        [855080001, 855080004, 855080002]   \n",
      "...                                                     ...   \n",
      "24414650                             [596400007, 596400007]   \n",
      "24414651                             [608776003, 608776003]   \n",
      "24414656  [636587001, 636587001, 636587002, 636587014, 6...   \n",
      "24414658                             [678942039, 678942039]   \n",
      "24414683                             [827968002, 827968002]   \n",
      "\n",
      "                                                      t_dat  \n",
      "11        [2019-07-18 00:00:00, 2019-08-03 00:00:00, 201...  \n",
      "36               [2018-09-30 00:00:00, 2018-10-01 00:00:00]  \n",
      "59        [2019-04-10 00:00:00, 2020-07-18 00:00:00, 201...  \n",
      "72               [2020-04-26 00:00:00, 2020-06-26 00:00:00]  \n",
      "76        [2020-01-31 00:00:00, 2020-01-31 00:00:00, 202...  \n",
      "...                                                     ...  \n",
      "24414650         [2018-09-29 00:00:00, 2019-12-21 00:00:00]  \n",
      "24414651         [2018-09-29 00:00:00, 2018-11-17 00:00:00]  \n",
      "24414656  [2018-11-17 00:00:00, 2018-11-17 00:00:00, 201...  \n",
      "24414658         [2020-04-26 00:00:00, 2020-05-02 00:00:00]  \n",
      "24414683         [2020-04-26 00:00:00, 2020-05-02 00:00:00]  \n",
      "\n",
      "[1708722 rows x 4 columns]\n"
     ]
    }
   ],
   "source": [
    "# Function to check if there are at least two different dates in the list\n",
    "def has_at_least_two_different_dates(date_list):\n",
    "    unique_dates = set(date_list)\n",
    "    return len(unique_dates) >= 2\n",
    "\n",
    "# Filter the dataset to include only entries with at least two different dates\n",
    "filtered_grouped_with_diff_dates = filtered_grouped[filtered_grouped['t_dat'].apply(has_at_least_two_different_dates)]\n",
    "\n",
    "# Display the result\n",
    "print(filtered_grouped_with_diff_dates)"
   ]
  },
  {
   "cell_type": "code",
   "execution_count": 7,
   "id": "6fb3b959",
   "metadata": {
    "execution": {
     "iopub.execute_input": "2023-11-08T01:30:22.596732Z",
     "iopub.status.busy": "2023-11-08T01:30:22.596344Z",
     "iopub.status.idle": "2023-11-08T01:30:22.602834Z",
     "shell.execute_reply": "2023-11-08T01:30:22.601864Z"
    },
    "papermill": {
     "duration": 0.014362,
     "end_time": "2023-11-08T01:30:22.605260",
     "exception": false,
     "start_time": "2023-11-08T01:30:22.590898",
     "status": "completed"
    },
    "tags": []
   },
   "outputs": [
    {
     "name": "stdout",
     "output_type": "stream",
     "text": [
      "All used combinations of customer_id and product_code:\n",
      "24414690\n",
      "Filtered at least 2 different article_ids in these combinations: \n",
      "4946329\n",
      "Filtered 2 different article_ids in at least 2 different dates: \n",
      "1708722\n"
     ]
    }
   ],
   "source": [
    "print(\"All used combinations of customer_id and product_code:\")\n",
    "print(len(grouped))\n",
    "print(\"Filtered at least 2 different article_ids in these combinations: \")\n",
    "print(len(filtered_grouped))\n",
    "print(\"Filtered 2 different article_ids in at least 2 different dates: \")\n",
    "print(len(filtered_grouped_with_diff_dates))"
   ]
  }
 ],
 "metadata": {
  "kernelspec": {
   "display_name": "Python 3",
   "language": "python",
   "name": "python3"
  },
  "language_info": {
   "codemirror_mode": {
    "name": "ipython",
    "version": 3
   },
   "file_extension": ".py",
   "mimetype": "text/x-python",
   "name": "python",
   "nbconvert_exporter": "python",
   "pygments_lexer": "ipython3",
   "version": "3.10.12"
  },
  "papermill": {
   "default_parameters": {},
   "duration": 2540.449959,
   "end_time": "2023-11-08T01:30:26.343974",
   "environment_variables": {},
   "exception": null,
   "input_path": "__notebook__.ipynb",
   "output_path": "__notebook__.ipynb",
   "parameters": {},
   "start_time": "2023-11-08T00:48:05.894015",
   "version": "2.4.0"
  }
 },
 "nbformat": 4,
 "nbformat_minor": 5
}
