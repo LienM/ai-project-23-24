{
 "cells": [
  {
   "cell_type": "markdown",
   "id": "462d5e42",
   "metadata": {
    "id": "6f21ab04",
    "papermill": {
     "duration": 0.018028,
     "end_time": "2023-12-22T01:48:58.136318",
     "exception": false,
     "start_time": "2023-12-22T01:48:58.118290",
     "status": "completed"
    },
    "tags": []
   },
   "source": [
    "Based on the baseline \"Radek's LGBMRanker starter-pack”: https://www.kaggle.com/code/marcogorelli/radek-s-lgbmranker-starter-pack\n"
   ]
  },
  {
   "cell_type": "markdown",
   "id": "81f04492",
   "metadata": {
    "papermill": {
     "duration": 0.016845,
     "end_time": "2023-12-22T01:48:58.170491",
     "exception": false,
     "start_time": "2023-12-22T01:48:58.153646",
     "status": "completed"
    },
    "tags": []
   },
   "source": [
    "# Helper functions"
   ]
  },
  {
   "cell_type": "code",
   "execution_count": 1,
   "id": "e989e973",
   "metadata": {
    "execution": {
     "iopub.execute_input": "2023-12-22T01:48:58.207491Z",
     "iopub.status.busy": "2023-12-22T01:48:58.206496Z",
     "iopub.status.idle": "2023-12-22T01:48:58.223757Z",
     "shell.execute_reply": "2023-12-22T01:48:58.222768Z"
    },
    "executionInfo": {
     "elapsed": 8,
     "status": "ok",
     "timestamp": 1699021070415,
     "user": {
      "displayName": "nick wils",
      "userId": "09906672494021070283"
     },
     "user_tz": -60
    },
    "id": "4a7e7212",
    "papermill": {
     "duration": 0.038669,
     "end_time": "2023-12-22T01:48:58.226317",
     "exception": false,
     "start_time": "2023-12-22T01:48:58.187648",
     "status": "completed"
    },
    "tags": []
   },
   "outputs": [],
   "source": [
    "import numpy as np\n",
    "\n",
    "def apk(actual, predicted, k=12):\n",
    "    \"\"\"\n",
    "    Computes the average precision at k.\n",
    "\n",
    "    This function computes the average prescision at k between two lists of\n",
    "    items.\n",
    "\n",
    "    Parameters\n",
    "    ----------\n",
    "    actual : list\n",
    "             A list of elements that are to be predicted (order doesn't matter)\n",
    "    predicted : list\n",
    "                A list of predicted elements (order does matter)\n",
    "    k : int, optional\n",
    "        The maximum number of predicted elements\n",
    "\n",
    "    Returns\n",
    "    -------\n",
    "    score : double\n",
    "            The average precision at k over the input lists\n",
    "\n",
    "    \"\"\"\n",
    "    if len(predicted)>k:\n",
    "        predicted = predicted[:k]\n",
    "\n",
    "    score = 0.0\n",
    "    num_hits = 0.0\n",
    "\n",
    "    for i,p in enumerate(predicted):\n",
    "        if p in actual and p not in predicted[:i]:\n",
    "            num_hits += 1.0\n",
    "            score += num_hits / (i+1.0)\n",
    "\n",
    "    if not actual:\n",
    "        return 0.0\n",
    "\n",
    "    return score / min(len(actual), k)\n",
    "\n",
    "def mapk(actual, predicted, k=12):\n",
    "    \"\"\"\n",
    "    Computes the mean average precision at k.\n",
    "\n",
    "    This function computes the mean average prescision at k between two lists\n",
    "    of lists of items.\n",
    "\n",
    "    Parameters\n",
    "    ----------\n",
    "    actual : list\n",
    "             A list of lists of elements that are to be predicted\n",
    "             (order doesn't matter in the lists)\n",
    "    predicted : list\n",
    "                A list of lists of predicted elements\n",
    "                (order matters in the lists)\n",
    "    k : int, optional\n",
    "        The maximum number of predicted elements\n",
    "\n",
    "    Returns\n",
    "    -------\n",
    "    score : double\n",
    "            The mean average precision at k over the input lists\n",
    "\n",
    "    \"\"\"\n",
    "    return np.mean([apk(a,p,k) for a,p in zip(actual, predicted)])"
   ]
  },
  {
   "cell_type": "code",
   "execution_count": 2,
   "id": "ba15acad",
   "metadata": {
    "execution": {
     "iopub.execute_input": "2023-12-22T01:48:58.262667Z",
     "iopub.status.busy": "2023-12-22T01:48:58.262285Z",
     "iopub.status.idle": "2023-12-22T01:48:58.271464Z",
     "shell.execute_reply": "2023-12-22T01:48:58.270386Z"
    },
    "papermill": {
     "duration": 0.030214,
     "end_time": "2023-12-22T01:48:58.273837",
     "exception": false,
     "start_time": "2023-12-22T01:48:58.243623",
     "status": "completed"
    },
    "tags": []
   },
   "outputs": [],
   "source": [
    "def precision(actual, predicted, k=12):\n",
    "    if len(predicted) > k:\n",
    "        predicted = predicted[:k]\n",
    "\n",
    "    correct_predictions = [p for p in predicted if p in actual]\n",
    "\n",
    "    return len(correct_predictions) / len(predicted)\n",
    "\n",
    "def recall(actual, predicted, k=12):\n",
    "    if len(predicted) > k:\n",
    "        predicted = predicted[:k]\n",
    "\n",
    "    correct_predictions = [p for p in predicted if p in actual]\n",
    "\n",
    "    return len(correct_predictions) / len(actual)\n",
    "\n",
    "def precision12(actual, predicted, k=12):\n",
    "    return np.mean([precision(a,p,k) for a,p in zip(actual, predicted)])\n",
    "\n",
    "def recall12(actual, predicted, k=12):\n",
    "    return np.mean([recall(a,p,k) for a,p in zip(actual, predicted)])"
   ]
  },
  {
   "cell_type": "code",
   "execution_count": 3,
   "id": "c1aa99d9",
   "metadata": {
    "execution": {
     "iopub.execute_input": "2023-12-22T01:48:58.311956Z",
     "iopub.status.busy": "2023-12-22T01:48:58.310919Z",
     "iopub.status.idle": "2023-12-22T01:48:59.733181Z",
     "shell.execute_reply": "2023-12-22T01:48:59.731957Z"
    },
    "executionInfo": {
     "elapsed": 1622,
     "status": "ok",
     "timestamp": 1699021072031,
     "user": {
      "displayName": "nick wils",
      "userId": "09906672494021070283"
     },
     "user_tz": -60
    },
    "id": "85ef6566",
    "papermill": {
     "duration": 1.444401,
     "end_time": "2023-12-22T01:48:59.736021",
     "exception": false,
     "start_time": "2023-12-22T01:48:58.291620",
     "status": "completed"
    },
    "tags": []
   },
   "outputs": [],
   "source": [
    "from sklearn.base import BaseEstimator, TransformerMixin\n",
    "import numpy as np\n",
    "\n",
    "# https://www.kaggle.com/c/h-and-m-personalized-fashion-recommendations/discussion/308635\n",
    "def customer_hex_id_to_int(series):\n",
    "    return series.str[-16:].apply(hex_id_to_int)\n",
    "\n",
    "def hex_id_to_int(str):\n",
    "    return int(str[-16:], 16)\n",
    "\n",
    "def article_id_str_to_int(series):\n",
    "    return series.astype('int32')\n",
    "\n",
    "def article_id_int_to_str(series):\n",
    "    return '0' + series.astype('str')\n",
    "\n",
    "class Categorize(BaseEstimator, TransformerMixin):\n",
    "    def __init__(self, min_examples=0):\n",
    "        self.min_examples = min_examples\n",
    "        self.categories = []\n",
    "\n",
    "    def fit(self, X):\n",
    "        for i in range(X.shape[1]):\n",
    "            vc = X.iloc[:, i].value_counts()\n",
    "            self.categories.append(vc[vc > self.min_examples].index.tolist())\n",
    "        return self\n",
    "\n",
    "    def transform(self, X):\n",
    "        data = {X.columns[i]: pd.Categorical(X.iloc[:, i], categories=self.categories[i]).codes for i in range(X.shape[1])}\n",
    "        return pd.DataFrame(data=data)\n",
    "\n",
    "\n",
    "def calculate_apk(list_of_preds, list_of_gts):\n",
    "    # for fast validation this can be changed to operate on dicts of {'cust_id_int': [art_id_int, ...]}\n",
    "    # using 'data/val_week_purchases_by_cust.pkl'\n",
    "    apks = []\n",
    "    for preds, gt in zip(list_of_preds, list_of_gts):\n",
    "        apks.append(apk(gt, preds, k=12))\n",
    "    return np.mean(apks)\n",
    "\n",
    "def eval_sub(sub_csv, skip_cust_with_no_purchases=True):\n",
    "    sub=pd.read_csv(sub_csv)\n",
    "    validation_set=pd.read_parquet('data/validation_ground_truth.parquet')\n",
    "\n",
    "    apks = []\n",
    "\n",
    "    no_purchases_pattern = []\n",
    "    for pred, gt in zip(sub.prediction.str.split(), validation_set.prediction.str.split()):\n",
    "        if skip_cust_with_no_purchases and (gt == no_purchases_pattern): continue\n",
    "        apks.append(apk(gt, pred, k=12))\n",
    "    return np.mean(apks)"
   ]
  },
  {
   "cell_type": "code",
   "execution_count": 4,
   "id": "9d96a7f4",
   "metadata": {
    "execution": {
     "iopub.execute_input": "2023-12-22T01:48:59.773271Z",
     "iopub.status.busy": "2023-12-22T01:48:59.772638Z",
     "iopub.status.idle": "2023-12-22T01:49:00.725913Z",
     "shell.execute_reply": "2023-12-22T01:49:00.724674Z"
    },
    "executionInfo": {
     "elapsed": 1009,
     "status": "ok",
     "timestamp": 1699021073032,
     "user": {
      "displayName": "nick wils",
      "userId": "09906672494021070283"
     },
     "user_tz": -60
    },
    "id": "78c7a34c",
    "papermill": {
     "duration": 0.974862,
     "end_time": "2023-12-22T01:49:00.728663",
     "exception": false,
     "start_time": "2023-12-22T01:48:59.753801",
     "status": "completed"
    },
    "tags": []
   },
   "outputs": [],
   "source": [
    "import pandas as pd"
   ]
  },
  {
   "cell_type": "markdown",
   "id": "873083c9",
   "metadata": {
    "papermill": {
     "duration": 0.017251,
     "end_time": "2023-12-22T01:49:00.763638",
     "exception": false,
     "start_time": "2023-12-22T01:49:00.746387",
     "status": "completed"
    },
    "tags": []
   },
   "source": [
    "# Read input files"
   ]
  },
  {
   "cell_type": "code",
   "execution_count": 5,
   "id": "63d04527",
   "metadata": {
    "execution": {
     "iopub.execute_input": "2023-12-22T01:49:00.803324Z",
     "iopub.status.busy": "2023-12-22T01:49:00.802428Z",
     "iopub.status.idle": "2023-12-22T01:49:06.471244Z",
     "shell.execute_reply": "2023-12-22T01:49:06.469784Z"
    },
    "executionInfo": {
     "elapsed": 10386,
     "status": "ok",
     "timestamp": 1699021083403,
     "user": {
      "displayName": "nick wils",
      "userId": "09906672494021070283"
     },
     "user_tz": -60
    },
    "id": "af847e1a",
    "outputId": "3cbfb68d-34ad-434e-8246-c093b7fedffd",
    "papermill": {
     "duration": 5.694004,
     "end_time": "2023-12-22T01:49:06.475468",
     "exception": false,
     "start_time": "2023-12-22T01:49:00.781464",
     "status": "completed"
    },
    "tags": []
   },
   "outputs": [
    {
     "name": "stdout",
     "output_type": "stream",
     "text": [
      "CPU times: user 3.48 s, sys: 3.42 s, total: 6.9 s\n",
      "Wall time: 5.66 s\n"
     ]
    }
   ],
   "source": [
    "%%time\n",
    "pad = \"/kaggle/input/makeparquet\"\n",
    "transactions = pd.read_parquet(pad+'/transactions_train.parquet')\n",
    "customers = pd.read_parquet(pad+'/customers.parquet')\n",
    "articles = pd.read_parquet(pad+'/articles.parquet')"
   ]
  },
  {
   "cell_type": "code",
   "execution_count": 6,
   "id": "2d98cbbb",
   "metadata": {
    "execution": {
     "iopub.execute_input": "2023-12-22T01:49:06.523799Z",
     "iopub.status.busy": "2023-12-22T01:49:06.523361Z",
     "iopub.status.idle": "2023-12-22T01:49:06.579395Z",
     "shell.execute_reply": "2023-12-22T01:49:06.578157Z"
    },
    "papermill": {
     "duration": 0.079181,
     "end_time": "2023-12-22T01:49:06.582284",
     "exception": false,
     "start_time": "2023-12-22T01:49:06.503103",
     "status": "completed"
    },
    "tags": []
   },
   "outputs": [],
   "source": [
    "val = transactions[transactions.week == transactions.week.max()]"
   ]
  },
  {
   "cell_type": "markdown",
   "id": "4b8910cd",
   "metadata": {
    "papermill": {
     "duration": 0.017941,
     "end_time": "2023-12-22T01:49:06.622448",
     "exception": false,
     "start_time": "2023-12-22T01:49:06.604507",
     "status": "completed"
    },
    "tags": []
   },
   "source": [
    "# Testing week or latest week for submission"
   ]
  },
  {
   "cell_type": "code",
   "execution_count": 7,
   "id": "08bf00f2",
   "metadata": {
    "execution": {
     "iopub.execute_input": "2023-12-22T01:49:06.660366Z",
     "iopub.status.busy": "2023-12-22T01:49:06.659614Z",
     "iopub.status.idle": "2023-12-22T01:49:07.099488Z",
     "shell.execute_reply": "2023-12-22T01:49:07.098356Z"
    },
    "executionInfo": {
     "elapsed": 359,
     "status": "ok",
     "timestamp": 1699021083748,
     "user": {
      "displayName": "nick wils",
      "userId": "09906672494021070283"
     },
     "user_tz": -60
    },
    "id": "76f70d9a",
    "papermill": {
     "duration": 0.462074,
     "end_time": "2023-12-22T01:49:07.102427",
     "exception": false,
     "start_time": "2023-12-22T01:49:06.640353",
     "status": "completed"
    },
    "tags": []
   },
   "outputs": [],
   "source": [
    "Testting = True\n",
    "test_week = transactions.week.max()\n",
    "transactions = transactions[transactions.week > transactions.week.max() - 10]\n",
    "transactions = transactions[transactions.week < transactions.week.max()]\n",
    "\n",
    "# Testting = False\n",
    "# test_week = transactions.week.max()+1\n",
    "# transactions = transactions[transactions.week > transactions.week.max() - 9]\n"
   ]
  },
  {
   "cell_type": "markdown",
   "id": "105a30b8",
   "metadata": {
    "id": "5133081f",
    "papermill": {
     "duration": 0.078143,
     "end_time": "2023-12-22T01:49:07.203988",
     "exception": false,
     "start_time": "2023-12-22T01:49:07.125845",
     "status": "completed"
    },
    "tags": []
   },
   "source": [
    "# Generating candidates"
   ]
  },
  {
   "cell_type": "markdown",
   "id": "08e125af",
   "metadata": {
    "id": "55672930",
    "papermill": {
     "duration": 0.017721,
     "end_time": "2023-12-22T01:49:07.239621",
     "exception": false,
     "start_time": "2023-12-22T01:49:07.221900",
     "status": "completed"
    },
    "tags": []
   },
   "source": [
    "### Last purchase candidates"
   ]
  },
  {
   "cell_type": "code",
   "execution_count": 8,
   "id": "acd90808",
   "metadata": {
    "execution": {
     "iopub.execute_input": "2023-12-22T01:49:07.287390Z",
     "iopub.status.busy": "2023-12-22T01:49:07.286364Z",
     "iopub.status.idle": "2023-12-22T01:49:37.529019Z",
     "shell.execute_reply": "2023-12-22T01:49:37.527860Z"
    },
    "executionInfo": {
     "elapsed": 44324,
     "status": "ok",
     "timestamp": 1699021128069,
     "user": {
      "displayName": "nick wils",
      "userId": "09906672494021070283"
     },
     "user_tz": -60
    },
    "id": "953a0f07",
    "outputId": "a64eb57a-9b27-486a-ed3e-cbd737918d66",
    "papermill": {
     "duration": 30.286702,
     "end_time": "2023-12-22T01:49:37.549449",
     "exception": false,
     "start_time": "2023-12-22T01:49:07.262747",
     "status": "completed"
    },
    "tags": []
   },
   "outputs": [
    {
     "name": "stdout",
     "output_type": "stream",
     "text": [
      "CPU times: user 30 s, sys: 420 ms, total: 30.4 s\n",
      "Wall time: 30.2 s\n"
     ]
    }
   ],
   "source": [
    "%%time\n",
    "\n",
    "c2weeks = transactions.groupby('customer_id')['week'].unique()"
   ]
  },
  {
   "cell_type": "code",
   "execution_count": 9,
   "id": "598e2acf",
   "metadata": {
    "execution": {
     "iopub.execute_input": "2023-12-22T01:49:37.587084Z",
     "iopub.status.busy": "2023-12-22T01:49:37.586690Z",
     "iopub.status.idle": "2023-12-22T01:49:37.669451Z",
     "shell.execute_reply": "2023-12-22T01:49:37.668240Z"
    },
    "executionInfo": {
     "elapsed": 27,
     "status": "ok",
     "timestamp": 1699021128070,
     "user": {
      "displayName": "nick wils",
      "userId": "09906672494021070283"
     },
     "user_tz": -60
    },
    "id": "a36be6fc",
    "outputId": "d760722c-fd93-4387-ec91-567d48918be5",
    "papermill": {
     "duration": 0.104607,
     "end_time": "2023-12-22T01:49:37.671986",
     "exception": false,
     "start_time": "2023-12-22T01:49:37.567379",
     "status": "completed"
    },
    "tags": []
   },
   "outputs": [
    {
     "data": {
      "text/html": [
       "<div>\n",
       "<style scoped>\n",
       "    .dataframe tbody tr th:only-of-type {\n",
       "        vertical-align: middle;\n",
       "    }\n",
       "\n",
       "    .dataframe tbody tr th {\n",
       "        vertical-align: top;\n",
       "    }\n",
       "\n",
       "    .dataframe thead th {\n",
       "        text-align: right;\n",
       "    }\n",
       "</style>\n",
       "<table border=\"1\" class=\"dataframe\">\n",
       "  <thead>\n",
       "    <tr style=\"text-align: right;\">\n",
       "      <th></th>\n",
       "      <th>min</th>\n",
       "      <th>max</th>\n",
       "    </tr>\n",
       "    <tr>\n",
       "      <th>week</th>\n",
       "      <th></th>\n",
       "      <th></th>\n",
       "    </tr>\n",
       "  </thead>\n",
       "  <tbody>\n",
       "    <tr>\n",
       "      <th>95</th>\n",
       "      <td>2020-07-15</td>\n",
       "      <td>2020-07-21</td>\n",
       "    </tr>\n",
       "    <tr>\n",
       "      <th>96</th>\n",
       "      <td>2020-07-22</td>\n",
       "      <td>2020-07-28</td>\n",
       "    </tr>\n",
       "    <tr>\n",
       "      <th>97</th>\n",
       "      <td>2020-07-29</td>\n",
       "      <td>2020-08-04</td>\n",
       "    </tr>\n",
       "    <tr>\n",
       "      <th>98</th>\n",
       "      <td>2020-08-05</td>\n",
       "      <td>2020-08-11</td>\n",
       "    </tr>\n",
       "    <tr>\n",
       "      <th>99</th>\n",
       "      <td>2020-08-12</td>\n",
       "      <td>2020-08-18</td>\n",
       "    </tr>\n",
       "    <tr>\n",
       "      <th>100</th>\n",
       "      <td>2020-08-19</td>\n",
       "      <td>2020-08-25</td>\n",
       "    </tr>\n",
       "    <tr>\n",
       "      <th>101</th>\n",
       "      <td>2020-08-26</td>\n",
       "      <td>2020-09-01</td>\n",
       "    </tr>\n",
       "    <tr>\n",
       "      <th>102</th>\n",
       "      <td>2020-09-02</td>\n",
       "      <td>2020-09-08</td>\n",
       "    </tr>\n",
       "    <tr>\n",
       "      <th>103</th>\n",
       "      <td>2020-09-09</td>\n",
       "      <td>2020-09-15</td>\n",
       "    </tr>\n",
       "  </tbody>\n",
       "</table>\n",
       "</div>"
      ],
      "text/plain": [
       "            min        max\n",
       "week                      \n",
       "95   2020-07-15 2020-07-21\n",
       "96   2020-07-22 2020-07-28\n",
       "97   2020-07-29 2020-08-04\n",
       "98   2020-08-05 2020-08-11\n",
       "99   2020-08-12 2020-08-18\n",
       "100  2020-08-19 2020-08-25\n",
       "101  2020-08-26 2020-09-01\n",
       "102  2020-09-02 2020-09-08\n",
       "103  2020-09-09 2020-09-15"
      ]
     },
     "execution_count": 9,
     "metadata": {},
     "output_type": "execute_result"
    }
   ],
   "source": [
    "transactions.groupby('week')['t_dat'].agg(['min', 'max'])"
   ]
  },
  {
   "cell_type": "code",
   "execution_count": 10,
   "id": "6a7bbe05",
   "metadata": {
    "execution": {
     "iopub.execute_input": "2023-12-22T01:49:37.710866Z",
     "iopub.status.busy": "2023-12-22T01:49:37.710486Z",
     "iopub.status.idle": "2023-12-22T01:49:38.785362Z",
     "shell.execute_reply": "2023-12-22T01:49:38.783900Z"
    },
    "executionInfo": {
     "elapsed": 942,
     "status": "ok",
     "timestamp": 1699021129001,
     "user": {
      "displayName": "nick wils",
      "userId": "09906672494021070283"
     },
     "user_tz": -60
    },
    "id": "f4723bec",
    "outputId": "700683a1-0720-43a3-bd06-c22a827fbf02",
    "papermill": {
     "duration": 1.097804,
     "end_time": "2023-12-22T01:49:38.788424",
     "exception": false,
     "start_time": "2023-12-22T01:49:37.690620",
     "status": "completed"
    },
    "tags": []
   },
   "outputs": [
    {
     "name": "stdout",
     "output_type": "stream",
     "text": [
      "CPU times: user 1.03 s, sys: 42.8 ms, total: 1.07 s\n",
      "Wall time: 1.07 s\n"
     ]
    }
   ],
   "source": [
    "%%time\n",
    "\n",
    "c2weeks2shifted_weeks = {}\n",
    "\n",
    "for c_id, weeks in c2weeks.items():\n",
    "    c2weeks2shifted_weeks[c_id] = {}\n",
    "    for i in range(weeks.shape[0]-1):\n",
    "        c2weeks2shifted_weeks[c_id][weeks[i]] = weeks[i+1]\n",
    "    c2weeks2shifted_weeks[c_id][weeks[-1]] = test_week"
   ]
  },
  {
   "cell_type": "code",
   "execution_count": 11,
   "id": "a219a7e6",
   "metadata": {
    "execution": {
     "iopub.execute_input": "2023-12-22T01:49:38.829221Z",
     "iopub.status.busy": "2023-12-22T01:49:38.828811Z",
     "iopub.status.idle": "2023-12-22T01:49:38.853181Z",
     "shell.execute_reply": "2023-12-22T01:49:38.852216Z"
    },
    "executionInfo": {
     "elapsed": 6,
     "status": "ok",
     "timestamp": 1699021129002,
     "user": {
      "displayName": "nick wils",
      "userId": "09906672494021070283"
     },
     "user_tz": -60
    },
    "id": "5a87c920",
    "papermill": {
     "duration": 0.047403,
     "end_time": "2023-12-22T01:49:38.855865",
     "exception": false,
     "start_time": "2023-12-22T01:49:38.808462",
     "status": "completed"
    },
    "tags": []
   },
   "outputs": [],
   "source": [
    "candidates_last_purchase = transactions.copy()"
   ]
  },
  {
   "cell_type": "code",
   "execution_count": 12,
   "id": "a6640891",
   "metadata": {
    "execution": {
     "iopub.execute_input": "2023-12-22T01:49:38.895553Z",
     "iopub.status.busy": "2023-12-22T01:49:38.895158Z",
     "iopub.status.idle": "2023-12-22T01:50:15.981727Z",
     "shell.execute_reply": "2023-12-22T01:50:15.980593Z"
    },
    "executionInfo": {
     "elapsed": 20239,
     "status": "ok",
     "timestamp": 1699021149235,
     "user": {
      "displayName": "nick wils",
      "userId": "09906672494021070283"
     },
     "user_tz": -60
    },
    "id": "4f4d4a18",
    "outputId": "a177aca2-7d87-44a1-cbfd-23488359d3d3",
    "papermill": {
     "duration": 37.127511,
     "end_time": "2023-12-22T01:50:16.002509",
     "exception": false,
     "start_time": "2023-12-22T01:49:38.874998",
     "status": "completed"
    },
    "tags": []
   },
   "outputs": [
    {
     "name": "stdout",
     "output_type": "stream",
     "text": [
      "CPU times: user 37.1 s, sys: 105 ms, total: 37.2 s\n",
      "Wall time: 37.1 s\n"
     ]
    }
   ],
   "source": [
    "%%time\n",
    "\n",
    "weeks = []\n",
    "for i, (c_id, week) in enumerate(zip(transactions['customer_id'], transactions['week'])):\n",
    "    weeks.append(c2weeks2shifted_weeks[c_id][week])\n",
    "\n",
    "candidates_last_purchase.week=weeks"
   ]
  },
  {
   "cell_type": "markdown",
   "id": "e458a508",
   "metadata": {
    "papermill": {
     "duration": 0.019771,
     "end_time": "2023-12-22T01:50:16.041354",
     "exception": false,
     "start_time": "2023-12-22T01:50:16.021583",
     "status": "completed"
    },
    "tags": []
   },
   "source": [
    "# Overwrite with my own implementation of candidate generation"
   ]
  },
  {
   "cell_type": "code",
   "execution_count": 13,
   "id": "1cb3c403",
   "metadata": {
    "execution": {
     "iopub.execute_input": "2023-12-22T01:50:16.081290Z",
     "iopub.status.busy": "2023-12-22T01:50:16.080880Z",
     "iopub.status.idle": "2023-12-22T01:50:21.185592Z",
     "shell.execute_reply": "2023-12-22T01:50:21.184633Z"
    },
    "papermill": {
     "duration": 5.128021,
     "end_time": "2023-12-22T01:50:21.188325",
     "exception": false,
     "start_time": "2023-12-22T01:50:16.060304",
     "status": "completed"
    },
    "tags": []
   },
   "outputs": [],
   "source": [
    "# Generating candidates based on repurchasing\n",
    "repurchase_candidates = transactions.copy()\n",
    "repurchase_candidates['week'] += 1 \n",
    "\n",
    "# Calculate the average amount spent by each customer\n",
    "average_amount_spent = transactions.groupby('customer_id')['price'].mean().reset_index()\n",
    "average_amount_spent.rename(columns={'price': 'average_amount_spent'}, inplace=True)\n",
    "\n",
    "# Merge repurchase candidates with customer and article information\n",
    "repurchase_candidates = pd.merge(repurchase_candidates, customers, on='customer_id', how='left')\n",
    "repurchase_candidates = pd.merge(repurchase_candidates, articles, on='article_id', how='left')\n",
    "\n",
    "# Merge with the average amount spent\n",
    "repurchase_candidates = pd.merge(repurchase_candidates, average_amount_spent, on='customer_id', how='left')\n",
    "\n",
    "# Drop unnecessary columns\n",
    "repurchase_candidates.drop(['price', 'sales_channel_id', 'year', 'month'], axis=1, inplace=True)\n",
    "\n",
    "# Rename columns to match the rest of the data\n",
    "repurchase_candidates.rename(columns={'week': 'previous_purchase_week'}, inplace=True)\n",
    "\n",
    "# Use repurchase candidates directly\n",
    "candidates_last_purchase = repurchase_candidates.copy()\n",
    "\n",
    "# Fill NaN values in 'previous_purchase_week' with a value that represents no repurchase\n",
    "candidates_last_purchase['repurchased'] = (candidates_last_purchase['previous_purchase_week'].notna()).astype(int)\n",
    "\n",
    "# Drop the 'previous_purchase_week' column as it's no longer needed\n",
    "candidates_last_purchase.rename(columns={'previous_purchase_week': 'week'}, inplace=True)\n",
    "\n",
    "\n"
   ]
  },
  {
   "cell_type": "markdown",
   "id": "e62cadd4",
   "metadata": {
    "id": "38ae3458",
    "papermill": {
     "duration": 0.019414,
     "end_time": "2023-12-22T01:50:21.227658",
     "exception": false,
     "start_time": "2023-12-22T01:50:21.208244",
     "status": "completed"
    },
    "tags": []
   },
   "source": [
    "### Bestsellers candidates"
   ]
  },
  {
   "cell_type": "code",
   "execution_count": 14,
   "id": "a36771b7",
   "metadata": {
    "execution": {
     "iopub.execute_input": "2023-12-22T01:50:21.267332Z",
     "iopub.status.busy": "2023-12-22T01:50:21.266905Z",
     "iopub.status.idle": "2023-12-22T01:50:21.271040Z",
     "shell.execute_reply": "2023-12-22T01:50:21.270349Z"
    },
    "executionInfo": {
     "elapsed": 36,
     "status": "ok",
     "timestamp": 1699021149236,
     "user": {
      "displayName": "nick wils",
      "userId": "09906672494021070283"
     },
     "user_tz": -60
    },
    "id": "022a7879",
    "papermill": {
     "duration": 0.0265,
     "end_time": "2023-12-22T01:50:21.273079",
     "exception": false,
     "start_time": "2023-12-22T01:50:21.246579",
     "status": "completed"
    },
    "tags": []
   },
   "outputs": [],
   "source": [
    "# mean_price = transactions \\\n",
    "#     .groupby(['week', 'article_id'])['price'].mean()\n",
    "# sales = transactions \\\n",
    "#     .groupby('week')['article_id'].value_counts() \\\n",
    "#     .groupby('week').rank(method='dense', ascending=False) \\\n",
    "#     .groupby('week').head(12).rename('bestseller_rank').astype('int8')\n",
    "# bestsellers_previous_week = pd.merge(sales, mean_price, on=['week', 'article_id']).reset_index()\n",
    "# bestsellers_previous_week.week += 1\n",
    "# bestsellers_previous_week.week\n",
    "# bestsellers_previous_week.pipe(lambda df: df[df['week']==96])"
   ]
  },
  {
   "cell_type": "markdown",
   "id": "a501bf2e",
   "metadata": {
    "papermill": {
     "duration": 0.019113,
     "end_time": "2023-12-22T01:50:21.312244",
     "exception": false,
     "start_time": "2023-12-22T01:50:21.293131",
     "status": "completed"
    },
    "tags": []
   },
   "source": [
    "**Use either the above one or my own implmentation below**"
   ]
  },
  {
   "cell_type": "code",
   "execution_count": 15,
   "id": "4edbad05",
   "metadata": {
    "execution": {
     "iopub.execute_input": "2023-12-22T01:50:21.353413Z",
     "iopub.status.busy": "2023-12-22T01:50:21.352737Z",
     "iopub.status.idle": "2023-12-22T01:50:22.395449Z",
     "shell.execute_reply": "2023-12-22T01:50:22.394309Z"
    },
    "papermill": {
     "duration": 1.066349,
     "end_time": "2023-12-22T01:50:22.398128",
     "exception": false,
     "start_time": "2023-12-22T01:50:21.331779",
     "status": "completed"
    },
    "tags": []
   },
   "outputs": [],
   "source": [
    "# Calculate the number of unique customers who bought each article\n",
    "unique_customers_per_article = transactions.groupby('article_id')['customer_id'].nunique().reset_index()\n",
    "unique_customers_per_article.rename(columns={'customer_id': 'unique_customers'}, inplace=True)\n",
    "\n",
    "# Rank articles based on the number of unique customers\n",
    "bestsellers_ranked = unique_customers_per_article.sort_values('unique_customers', ascending=False).reset_index(drop=True)\n",
    "bestsellers_ranked['bestseller_rank'] = bestsellers_ranked.index + 1\n",
    "\n",
    "# Merge the bestseller ranks with the articles information\n",
    "bestsellers_previous_week = pd.merge(bestsellers_ranked[['article_id', 'bestseller_rank']], articles, on='article_id')\n",
    "\n",
    "# Calculate mean price for each article in each week\n",
    "mean_price = transactions.groupby(['week', 'article_id'])['price'].mean().reset_index()\n",
    "\n",
    "# Identify the top 12 bestsellers for each week based on mean price\n",
    "bestsellers_previous_week = mean_price.groupby('week', group_keys=False).apply(\n",
    "    lambda x: x.sort_values('price', ascending=False).head(12)\n",
    ").reset_index(drop=True)\n",
    "\n",
    "\n",
    "bestsellers_previous_week['bestseller_rank'] = bestsellers_previous_week.groupby('week').cumcount() + 1\n",
    "bestsellers_previous_week = pd.merge(bestsellers_previous_week, articles, on='article_id')\n",
    "\n",
    "# Adjust week for the next week\n",
    "bestsellers_previous_week['week'] += 1\n"
   ]
  },
  {
   "cell_type": "code",
   "execution_count": null,
   "id": "a581654a",
   "metadata": {
    "executionInfo": {
     "elapsed": 13,
     "status": "ok",
     "timestamp": 1699021150262,
     "user": {
      "displayName": "nick wils",
      "userId": "09906672494021070283"
     },
     "user_tz": -60
    },
    "id": "b8447b19",
    "outputId": "b992d53d-c501-4be5-e373-7ed121335003",
    "papermill": {
     "duration": 0.018754,
     "end_time": "2023-12-22T01:50:22.436467",
     "exception": false,
     "start_time": "2023-12-22T01:50:22.417713",
     "status": "completed"
    },
    "tags": []
   },
   "outputs": [],
   "source": []
  },
  {
   "cell_type": "code",
   "execution_count": 16,
   "id": "b039d8c1",
   "metadata": {
    "execution": {
     "iopub.execute_input": "2023-12-22T01:50:22.477297Z",
     "iopub.status.busy": "2023-12-22T01:50:22.476873Z",
     "iopub.status.idle": "2023-12-22T01:50:22.984697Z",
     "shell.execute_reply": "2023-12-22T01:50:22.983492Z"
    },
    "executionInfo": {
     "elapsed": 867,
     "status": "ok",
     "timestamp": 1699021151118,
     "user": {
      "displayName": "nick wils",
      "userId": "09906672494021070283"
     },
     "user_tz": -60
    },
    "id": "1ad756de",
    "papermill": {
     "duration": 0.531678,
     "end_time": "2023-12-22T01:50:22.987275",
     "exception": false,
     "start_time": "2023-12-22T01:50:22.455597",
     "status": "completed"
    },
    "tags": []
   },
   "outputs": [],
   "source": [
    "unique_transactions = transactions \\\n",
    "    .groupby(['week', 'customer_id']) \\\n",
    "    .head(1) \\\n",
    "    .drop(columns=['article_id', 'price']) \\\n",
    "    .copy()"
   ]
  },
  {
   "cell_type": "code",
   "execution_count": 17,
   "id": "dadee736",
   "metadata": {
    "execution": {
     "iopub.execute_input": "2023-12-22T01:50:23.027768Z",
     "iopub.status.busy": "2023-12-22T01:50:23.027347Z",
     "iopub.status.idle": "2023-12-22T01:50:23.252624Z",
     "shell.execute_reply": "2023-12-22T01:50:23.251520Z"
    },
    "executionInfo": {
     "elapsed": 343,
     "status": "ok",
     "timestamp": 1699021151457,
     "user": {
      "displayName": "nick wils",
      "userId": "09906672494021070283"
     },
     "user_tz": -60
    },
    "id": "5721ca6d",
    "outputId": "26dbeac9-bfc8-44b6-879f-c3fbe5cb175d",
    "papermill": {
     "duration": 0.24854,
     "end_time": "2023-12-22T01:50:23.255240",
     "exception": false,
     "start_time": "2023-12-22T01:50:23.006700",
     "status": "completed"
    },
    "tags": []
   },
   "outputs": [
    {
     "data": {
      "text/html": [
       "<div>\n",
       "<style scoped>\n",
       "    .dataframe tbody tr th:only-of-type {\n",
       "        vertical-align: middle;\n",
       "    }\n",
       "\n",
       "    .dataframe tbody tr th {\n",
       "        vertical-align: top;\n",
       "    }\n",
       "\n",
       "    .dataframe thead th {\n",
       "        text-align: right;\n",
       "    }\n",
       "</style>\n",
       "<table border=\"1\" class=\"dataframe\">\n",
       "  <thead>\n",
       "    <tr style=\"text-align: right;\">\n",
       "      <th></th>\n",
       "      <th>t_dat</th>\n",
       "      <th>customer_id</th>\n",
       "      <th>article_id</th>\n",
       "      <th>price</th>\n",
       "      <th>sales_channel_id</th>\n",
       "      <th>season</th>\n",
       "      <th>year</th>\n",
       "      <th>month</th>\n",
       "      <th>week</th>\n",
       "    </tr>\n",
       "  </thead>\n",
       "  <tbody>\n",
       "    <tr>\n",
       "      <th>29030503</th>\n",
       "      <td>2020-07-15</td>\n",
       "      <td>272412481300040</td>\n",
       "      <td>778064028</td>\n",
       "      <td>0.008458</td>\n",
       "      <td>1</td>\n",
       "      <td>2</td>\n",
       "      <td>-28</td>\n",
       "      <td>7</td>\n",
       "      <td>95</td>\n",
       "    </tr>\n",
       "    <tr>\n",
       "      <th>29064059</th>\n",
       "      <td>2020-07-15</td>\n",
       "      <td>1456826891333599</td>\n",
       "      <td>888294001</td>\n",
       "      <td>0.013542</td>\n",
       "      <td>1</td>\n",
       "      <td>2</td>\n",
       "      <td>-28</td>\n",
       "      <td>7</td>\n",
       "      <td>95</td>\n",
       "    </tr>\n",
       "    <tr>\n",
       "      <th>29067103</th>\n",
       "      <td>2020-07-15</td>\n",
       "      <td>2133687643102426</td>\n",
       "      <td>843642001</td>\n",
       "      <td>0.042356</td>\n",
       "      <td>2</td>\n",
       "      <td>2</td>\n",
       "      <td>-28</td>\n",
       "      <td>7</td>\n",
       "      <td>95</td>\n",
       "    </tr>\n",
       "    <tr>\n",
       "      <th>29027487</th>\n",
       "      <td>2020-07-15</td>\n",
       "      <td>6010692573790711</td>\n",
       "      <td>857812010</td>\n",
       "      <td>0.039661</td>\n",
       "      <td>1</td>\n",
       "      <td>2</td>\n",
       "      <td>-28</td>\n",
       "      <td>7</td>\n",
       "      <td>95</td>\n",
       "    </tr>\n",
       "    <tr>\n",
       "      <th>29046403</th>\n",
       "      <td>2020-07-15</td>\n",
       "      <td>6171059100114610</td>\n",
       "      <td>815447007</td>\n",
       "      <td>0.006763</td>\n",
       "      <td>2</td>\n",
       "      <td>2</td>\n",
       "      <td>-28</td>\n",
       "      <td>7</td>\n",
       "      <td>95</td>\n",
       "    </tr>\n",
       "    <tr>\n",
       "      <th>...</th>\n",
       "      <td>...</td>\n",
       "      <td>...</td>\n",
       "      <td>...</td>\n",
       "      <td>...</td>\n",
       "      <td>...</td>\n",
       "      <td>...</td>\n",
       "      <td>...</td>\n",
       "      <td>...</td>\n",
       "      <td>...</td>\n",
       "    </tr>\n",
       "    <tr>\n",
       "      <th>31521960</th>\n",
       "      <td>2020-09-15</td>\n",
       "      <td>18439897732908966680</td>\n",
       "      <td>794321007</td>\n",
       "      <td>0.061000</td>\n",
       "      <td>2</td>\n",
       "      <td>3</td>\n",
       "      <td>-28</td>\n",
       "      <td>9</td>\n",
       "      <td>103</td>\n",
       "    </tr>\n",
       "    <tr>\n",
       "      <th>31531712</th>\n",
       "      <td>2020-09-15</td>\n",
       "      <td>18444276791873187543</td>\n",
       "      <td>867969008</td>\n",
       "      <td>0.033881</td>\n",
       "      <td>2</td>\n",
       "      <td>3</td>\n",
       "      <td>-28</td>\n",
       "      <td>9</td>\n",
       "      <td>103</td>\n",
       "    </tr>\n",
       "    <tr>\n",
       "      <th>31539937</th>\n",
       "      <td>2020-09-15</td>\n",
       "      <td>18444799607866739422</td>\n",
       "      <td>909721003</td>\n",
       "      <td>0.042356</td>\n",
       "      <td>2</td>\n",
       "      <td>3</td>\n",
       "      <td>-28</td>\n",
       "      <td>9</td>\n",
       "      <td>103</td>\n",
       "    </tr>\n",
       "    <tr>\n",
       "      <th>31543799</th>\n",
       "      <td>2020-09-15</td>\n",
       "      <td>18446250046654386343</td>\n",
       "      <td>869872006</td>\n",
       "      <td>0.033881</td>\n",
       "      <td>1</td>\n",
       "      <td>3</td>\n",
       "      <td>-28</td>\n",
       "      <td>9</td>\n",
       "      <td>103</td>\n",
       "    </tr>\n",
       "    <tr>\n",
       "      <th>31536744</th>\n",
       "      <td>2020-09-15</td>\n",
       "      <td>18446630855572834764</td>\n",
       "      <td>568601045</td>\n",
       "      <td>0.050831</td>\n",
       "      <td>2</td>\n",
       "      <td>3</td>\n",
       "      <td>-28</td>\n",
       "      <td>9</td>\n",
       "      <td>103</td>\n",
       "    </tr>\n",
       "  </tbody>\n",
       "</table>\n",
       "<p>686726 rows × 9 columns</p>\n",
       "</div>"
      ],
      "text/plain": [
       "              t_dat           customer_id  article_id     price  \\\n",
       "29030503 2020-07-15       272412481300040   778064028  0.008458   \n",
       "29064059 2020-07-15      1456826891333599   888294001  0.013542   \n",
       "29067103 2020-07-15      2133687643102426   843642001  0.042356   \n",
       "29027487 2020-07-15      6010692573790711   857812010  0.039661   \n",
       "29046403 2020-07-15      6171059100114610   815447007  0.006763   \n",
       "...             ...                   ...         ...       ...   \n",
       "31521960 2020-09-15  18439897732908966680   794321007  0.061000   \n",
       "31531712 2020-09-15  18444276791873187543   867969008  0.033881   \n",
       "31539937 2020-09-15  18444799607866739422   909721003  0.042356   \n",
       "31543799 2020-09-15  18446250046654386343   869872006  0.033881   \n",
       "31536744 2020-09-15  18446630855572834764   568601045  0.050831   \n",
       "\n",
       "          sales_channel_id  season  year  month  week  \n",
       "29030503                 1       2   -28      7    95  \n",
       "29064059                 1       2   -28      7    95  \n",
       "29067103                 2       2   -28      7    95  \n",
       "29027487                 1       2   -28      7    95  \n",
       "29046403                 2       2   -28      7    95  \n",
       "...                    ...     ...   ...    ...   ...  \n",
       "31521960                 2       3   -28      9   103  \n",
       "31531712                 2       3   -28      9   103  \n",
       "31539937                 2       3   -28      9   103  \n",
       "31543799                 1       3   -28      9   103  \n",
       "31536744                 2       3   -28      9   103  \n",
       "\n",
       "[686726 rows x 9 columns]"
      ]
     },
     "execution_count": 17,
     "metadata": {},
     "output_type": "execute_result"
    }
   ],
   "source": [
    "transactions.drop_duplicates(['week', 'customer_id'])"
   ]
  },
  {
   "cell_type": "code",
   "execution_count": 18,
   "id": "c35870b5",
   "metadata": {
    "execution": {
     "iopub.execute_input": "2023-12-22T01:50:23.299664Z",
     "iopub.status.busy": "2023-12-22T01:50:23.299225Z",
     "iopub.status.idle": "2023-12-22T01:50:27.427871Z",
     "shell.execute_reply": "2023-12-22T01:50:27.426892Z"
    },
    "executionInfo": {
     "elapsed": 939,
     "status": "ok",
     "timestamp": 1699021152392,
     "user": {
      "displayName": "nick wils",
      "userId": "09906672494021070283"
     },
     "user_tz": -60
    },
    "id": "4a23981e",
    "papermill": {
     "duration": 4.153516,
     "end_time": "2023-12-22T01:50:27.430558",
     "exception": false,
     "start_time": "2023-12-22T01:50:23.277042",
     "status": "completed"
    },
    "tags": []
   },
   "outputs": [],
   "source": [
    "candidates_bestsellers = pd.merge(\n",
    "    unique_transactions,\n",
    "    bestsellers_previous_week,\n",
    "    on='week',\n",
    ")"
   ]
  },
  {
   "cell_type": "code",
   "execution_count": 19,
   "id": "c1a78f28",
   "metadata": {
    "execution": {
     "iopub.execute_input": "2023-12-22T01:50:27.472762Z",
     "iopub.status.busy": "2023-12-22T01:50:27.472372Z",
     "iopub.status.idle": "2023-12-22T01:50:27.521849Z",
     "shell.execute_reply": "2023-12-22T01:50:27.520911Z"
    },
    "executionInfo": {
     "elapsed": 16,
     "status": "ok",
     "timestamp": 1699021152393,
     "user": {
      "displayName": "nick wils",
      "userId": "09906672494021070283"
     },
     "user_tz": -60
    },
    "id": "ad3a9710",
    "papermill": {
     "duration": 0.074048,
     "end_time": "2023-12-22T01:50:27.524643",
     "exception": false,
     "start_time": "2023-12-22T01:50:27.450595",
     "status": "completed"
    },
    "tags": []
   },
   "outputs": [],
   "source": [
    "test_set_transactions = unique_transactions.drop_duplicates('customer_id').reset_index(drop=True)\n",
    "test_set_transactions.week = test_week"
   ]
  },
  {
   "cell_type": "code",
   "execution_count": 20,
   "id": "9856b2f0",
   "metadata": {
    "execution": {
     "iopub.execute_input": "2023-12-22T01:50:27.567242Z",
     "iopub.status.busy": "2023-12-22T01:50:27.566303Z",
     "iopub.status.idle": "2023-12-22T01:50:30.299070Z",
     "shell.execute_reply": "2023-12-22T01:50:30.298052Z"
    },
    "executionInfo": {
     "elapsed": 802,
     "status": "ok",
     "timestamp": 1699021153185,
     "user": {
      "displayName": "nick wils",
      "userId": "09906672494021070283"
     },
     "user_tz": -60
    },
    "id": "9f64b005",
    "papermill": {
     "duration": 2.75721,
     "end_time": "2023-12-22T01:50:30.301900",
     "exception": false,
     "start_time": "2023-12-22T01:50:27.544690",
     "status": "completed"
    },
    "tags": []
   },
   "outputs": [],
   "source": [
    "candidates_bestsellers_test_week = pd.merge(\n",
    "    test_set_transactions,\n",
    "    bestsellers_previous_week,\n",
    "    on='week'\n",
    ")"
   ]
  },
  {
   "cell_type": "code",
   "execution_count": 21,
   "id": "c9c24705",
   "metadata": {
    "execution": {
     "iopub.execute_input": "2023-12-22T01:50:30.343236Z",
     "iopub.status.busy": "2023-12-22T01:50:30.342836Z",
     "iopub.status.idle": "2023-12-22T01:50:30.349650Z",
     "shell.execute_reply": "2023-12-22T01:50:30.348779Z"
    },
    "papermill": {
     "duration": 0.029887,
     "end_time": "2023-12-22T01:50:30.351651",
     "exception": false,
     "start_time": "2023-12-22T01:50:30.321764",
     "status": "completed"
    },
    "tags": []
   },
   "outputs": [
    {
     "data": {
      "text/plain": [
       "Index(['t_dat', 'customer_id', 'sales_channel_id', 'season', 'year', 'month',\n",
       "       'week', 'article_id', 'price', 'bestseller_rank', 'product_code',\n",
       "       'prod_name', 'product_type_no', 'product_type_name',\n",
       "       'product_group_name', 'graphical_appearance_no',\n",
       "       'graphical_appearance_name', 'colour_group_code', 'colour_group_name',\n",
       "       'perceived_colour_value_id', 'perceived_colour_value_name',\n",
       "       'perceived_colour_master_id', 'perceived_colour_master_name',\n",
       "       'department_no', 'department_name', 'index_code', 'index_name',\n",
       "       'index_group_no', 'index_group_name', 'section_no', 'section_name',\n",
       "       'garment_group_no', 'garment_group_name', 'detail_desc', 'fabric_jeans',\n",
       "       'fabric_cotton', 'fabric_wool', 'fabric_polyester', 'fabric_silk',\n",
       "       'fabric_denim', 'fabric_linen', 'fabric_spandex', 'fabric_rayon',\n",
       "       'fabric_nylon', 'fabric_leather', 'fabric_suede'],\n",
       "      dtype='object')"
      ]
     },
     "execution_count": 21,
     "metadata": {},
     "output_type": "execute_result"
    }
   ],
   "source": [
    "candidates_bestsellers_test_week.columns"
   ]
  },
  {
   "cell_type": "code",
   "execution_count": 22,
   "id": "3f4b693f",
   "metadata": {
    "execution": {
     "iopub.execute_input": "2023-12-22T01:50:30.394461Z",
     "iopub.status.busy": "2023-12-22T01:50:30.393706Z",
     "iopub.status.idle": "2023-12-22T01:50:41.078796Z",
     "shell.execute_reply": "2023-12-22T01:50:41.077630Z"
    },
    "executionInfo": {
     "elapsed": 837,
     "status": "ok",
     "timestamp": 1699021154020,
     "user": {
      "displayName": "nick wils",
      "userId": "09906672494021070283"
     },
     "user_tz": -60
    },
    "id": "212b7926",
    "papermill": {
     "duration": 10.709351,
     "end_time": "2023-12-22T01:50:41.081572",
     "exception": false,
     "start_time": "2023-12-22T01:50:30.372221",
     "status": "completed"
    },
    "tags": []
   },
   "outputs": [],
   "source": [
    "candidates_bestsellers = pd.concat([candidates_bestsellers, candidates_bestsellers_test_week])\n",
    "candidates_bestsellers.drop(columns='bestseller_rank', inplace=True)"
   ]
  },
  {
   "cell_type": "code",
   "execution_count": 23,
   "id": "f62cff85",
   "metadata": {
    "execution": {
     "iopub.execute_input": "2023-12-22T01:50:41.124231Z",
     "iopub.status.busy": "2023-12-22T01:50:41.123775Z",
     "iopub.status.idle": "2023-12-22T01:50:41.131548Z",
     "shell.execute_reply": "2023-12-22T01:50:41.130398Z"
    },
    "papermill": {
     "duration": 0.031791,
     "end_time": "2023-12-22T01:50:41.133814",
     "exception": false,
     "start_time": "2023-12-22T01:50:41.102023",
     "status": "completed"
    },
    "tags": []
   },
   "outputs": [
    {
     "data": {
      "text/plain": [
       "Index(['t_dat', 'customer_id', 'sales_channel_id', 'season', 'year', 'month',\n",
       "       'week', 'article_id', 'price', 'product_code', 'prod_name',\n",
       "       'product_type_no', 'product_type_name', 'product_group_name',\n",
       "       'graphical_appearance_no', 'graphical_appearance_name',\n",
       "       'colour_group_code', 'colour_group_name', 'perceived_colour_value_id',\n",
       "       'perceived_colour_value_name', 'perceived_colour_master_id',\n",
       "       'perceived_colour_master_name', 'department_no', 'department_name',\n",
       "       'index_code', 'index_name', 'index_group_no', 'index_group_name',\n",
       "       'section_no', 'section_name', 'garment_group_no', 'garment_group_name',\n",
       "       'detail_desc', 'fabric_jeans', 'fabric_cotton', 'fabric_wool',\n",
       "       'fabric_polyester', 'fabric_silk', 'fabric_denim', 'fabric_linen',\n",
       "       'fabric_spandex', 'fabric_rayon', 'fabric_nylon', 'fabric_leather',\n",
       "       'fabric_suede'],\n",
       "      dtype='object')"
      ]
     },
     "execution_count": 23,
     "metadata": {},
     "output_type": "execute_result"
    }
   ],
   "source": [
    "candidates_bestsellers.columns"
   ]
  },
  {
   "cell_type": "markdown",
   "id": "91789a99",
   "metadata": {
    "id": "d5b03292",
    "papermill": {
     "duration": 0.020175,
     "end_time": "2023-12-22T01:50:41.174543",
     "exception": false,
     "start_time": "2023-12-22T01:50:41.154368",
     "status": "completed"
    },
    "tags": []
   },
   "source": [
    "# Combining transactions and candidates / negative examples"
   ]
  },
  {
   "cell_type": "code",
   "execution_count": 24,
   "id": "9728a7de",
   "metadata": {
    "execution": {
     "iopub.execute_input": "2023-12-22T01:50:41.217912Z",
     "iopub.status.busy": "2023-12-22T01:50:41.217500Z",
     "iopub.status.idle": "2023-12-22T01:50:41.224470Z",
     "shell.execute_reply": "2023-12-22T01:50:41.223406Z"
    },
    "executionInfo": {
     "elapsed": 11,
     "status": "ok",
     "timestamp": 1699021154021,
     "user": {
      "displayName": "nick wils",
      "userId": "09906672494021070283"
     },
     "user_tz": -60
    },
    "id": "529196a4",
    "papermill": {
     "duration": 0.032039,
     "end_time": "2023-12-22T01:50:41.226932",
     "exception": false,
     "start_time": "2023-12-22T01:50:41.194893",
     "status": "completed"
    },
    "tags": []
   },
   "outputs": [],
   "source": [
    "transactions['purchased'] = 1"
   ]
  },
  {
   "cell_type": "code",
   "execution_count": 25,
   "id": "2858094c",
   "metadata": {
    "execution": {
     "iopub.execute_input": "2023-12-22T01:50:41.270253Z",
     "iopub.status.busy": "2023-12-22T01:50:41.269828Z",
     "iopub.status.idle": "2023-12-22T01:50:47.641289Z",
     "shell.execute_reply": "2023-12-22T01:50:47.639993Z"
    },
    "executionInfo": {
     "elapsed": 630,
     "status": "ok",
     "timestamp": 1699021154641,
     "user": {
      "displayName": "nick wils",
      "userId": "09906672494021070283"
     },
     "user_tz": -60
    },
    "id": "421a601e",
    "papermill": {
     "duration": 6.396578,
     "end_time": "2023-12-22T01:50:47.644306",
     "exception": false,
     "start_time": "2023-12-22T01:50:41.247728",
     "status": "completed"
    },
    "tags": []
   },
   "outputs": [],
   "source": [
    "data = pd.concat([transactions, candidates_last_purchase, candidates_bestsellers])\n",
    "data.purchased.fillna(0, inplace=True)"
   ]
  },
  {
   "cell_type": "code",
   "execution_count": 26,
   "id": "bd6f93ec",
   "metadata": {
    "execution": {
     "iopub.execute_input": "2023-12-22T01:50:47.688361Z",
     "iopub.status.busy": "2023-12-22T01:50:47.687936Z",
     "iopub.status.idle": "2023-12-22T01:51:01.210941Z",
     "shell.execute_reply": "2023-12-22T01:51:01.209820Z"
    },
    "executionInfo": {
     "elapsed": 6444,
     "status": "ok",
     "timestamp": 1699021161077,
     "user": {
      "displayName": "nick wils",
      "userId": "09906672494021070283"
     },
     "user_tz": -60
    },
    "id": "9f4e8cdb",
    "papermill": {
     "duration": 13.548164,
     "end_time": "2023-12-22T01:51:01.213891",
     "exception": false,
     "start_time": "2023-12-22T01:50:47.665727",
     "status": "completed"
    },
    "tags": []
   },
   "outputs": [],
   "source": [
    "data.drop_duplicates(['customer_id', 'article_id', 'week'], inplace=True)"
   ]
  },
  {
   "cell_type": "code",
   "execution_count": 27,
   "id": "b33140fe",
   "metadata": {
    "execution": {
     "iopub.execute_input": "2023-12-22T01:51:01.258721Z",
     "iopub.status.busy": "2023-12-22T01:51:01.258306Z",
     "iopub.status.idle": "2023-12-22T01:51:01.304456Z",
     "shell.execute_reply": "2023-12-22T01:51:01.303338Z"
    },
    "executionInfo": {
     "elapsed": 39,
     "status": "ok",
     "timestamp": 1699021161080,
     "user": {
      "displayName": "nick wils",
      "userId": "09906672494021070283"
     },
     "user_tz": -60
    },
    "id": "95414c83",
    "outputId": "0aa85517-00f2-45b4-8a4a-1b314d82ffc4",
    "papermill": {
     "duration": 0.071754,
     "end_time": "2023-12-22T01:51:01.307084",
     "exception": false,
     "start_time": "2023-12-22T01:51:01.235330",
     "status": "completed"
    },
    "tags": []
   },
   "outputs": [
    {
     "data": {
      "text/plain": [
       "0.1352913103560726"
      ]
     },
     "execution_count": 27,
     "metadata": {},
     "output_type": "execute_result"
    }
   ],
   "source": [
    "data.purchased.mean()"
   ]
  },
  {
   "cell_type": "markdown",
   "id": "b2182ede",
   "metadata": {
    "id": "4d35aac7",
    "papermill": {
     "duration": 0.020502,
     "end_time": "2023-12-22T01:51:01.348507",
     "exception": false,
     "start_time": "2023-12-22T01:51:01.328005",
     "status": "completed"
    },
    "tags": []
   },
   "source": [
    "### Add bestseller information"
   ]
  },
  {
   "cell_type": "code",
   "execution_count": 28,
   "id": "93e4ac0f",
   "metadata": {
    "execution": {
     "iopub.execute_input": "2023-12-22T01:51:01.391666Z",
     "iopub.status.busy": "2023-12-22T01:51:01.391276Z",
     "iopub.status.idle": "2023-12-22T01:51:08.209446Z",
     "shell.execute_reply": "2023-12-22T01:51:08.208437Z"
    },
    "executionInfo": {
     "elapsed": 3395,
     "status": "ok",
     "timestamp": 1699021164442,
     "user": {
      "displayName": "nick wils",
      "userId": "09906672494021070283"
     },
     "user_tz": -60
    },
    "id": "ab6d0095",
    "papermill": {
     "duration": 6.842934,
     "end_time": "2023-12-22T01:51:08.212137",
     "exception": false,
     "start_time": "2023-12-22T01:51:01.369203",
     "status": "completed"
    },
    "tags": []
   },
   "outputs": [],
   "source": [
    "data = pd.merge(\n",
    "    data,\n",
    "    bestsellers_previous_week[['week', 'article_id', 'bestseller_rank']],\n",
    "    on=['week', 'article_id'],\n",
    "    how='left'\n",
    ")"
   ]
  },
  {
   "cell_type": "code",
   "execution_count": 29,
   "id": "f21fefa5",
   "metadata": {
    "execution": {
     "iopub.execute_input": "2023-12-22T01:51:08.255695Z",
     "iopub.status.busy": "2023-12-22T01:51:08.255124Z",
     "iopub.status.idle": "2023-12-22T01:51:17.015700Z",
     "shell.execute_reply": "2023-12-22T01:51:17.014528Z"
    },
    "executionInfo": {
     "elapsed": 2042,
     "status": "ok",
     "timestamp": 1699021166476,
     "user": {
      "displayName": "nick wils",
      "userId": "09906672494021070283"
     },
     "user_tz": -60
    },
    "id": "7b18597e",
    "papermill": {
     "duration": 8.785571,
     "end_time": "2023-12-22T01:51:17.018619",
     "exception": false,
     "start_time": "2023-12-22T01:51:08.233048",
     "status": "completed"
    },
    "tags": []
   },
   "outputs": [],
   "source": [
    "data = data[data.week != data.week.min()]\n",
    "data.bestseller_rank.fillna(999, inplace=True)"
   ]
  },
  {
   "cell_type": "code",
   "execution_count": 30,
   "id": "89c91873",
   "metadata": {
    "execution": {
     "iopub.execute_input": "2023-12-22T01:51:17.063500Z",
     "iopub.status.busy": "2023-12-22T01:51:17.062786Z",
     "iopub.status.idle": "2023-12-22T01:51:27.831743Z",
     "shell.execute_reply": "2023-12-22T01:51:27.830680Z"
    },
    "executionInfo": {
     "elapsed": 7950,
     "status": "ok",
     "timestamp": 1699021186933,
     "user": {
      "displayName": "nick wils",
      "userId": "09906672494021070283"
     },
     "user_tz": -60
    },
    "id": "1560db63",
    "papermill": {
     "duration": 10.794367,
     "end_time": "2023-12-22T01:51:27.834439",
     "exception": false,
     "start_time": "2023-12-22T01:51:17.040072",
     "status": "completed"
    },
    "tags": []
   },
   "outputs": [],
   "source": [
    "data.sort_values(['week', 'customer_id'], inplace=True)\n",
    "data.reset_index(drop=True, inplace=True)"
   ]
  },
  {
   "cell_type": "code",
   "execution_count": 31,
   "id": "8109cfa8",
   "metadata": {
    "execution": {
     "iopub.execute_input": "2023-12-22T01:51:27.879408Z",
     "iopub.status.busy": "2023-12-22T01:51:27.878988Z",
     "iopub.status.idle": "2023-12-22T01:51:43.844476Z",
     "shell.execute_reply": "2023-12-22T01:51:43.843398Z"
    },
    "executionInfo": {
     "elapsed": 5910,
     "status": "ok",
     "timestamp": 1699021192840,
     "user": {
      "displayName": "nick wils",
      "userId": "09906672494021070283"
     },
     "user_tz": -60
    },
    "id": "05114189",
    "papermill": {
     "duration": 15.991373,
     "end_time": "2023-12-22T01:51:43.847258",
     "exception": false,
     "start_time": "2023-12-22T01:51:27.855885",
     "status": "completed"
    },
    "tags": []
   },
   "outputs": [],
   "source": [
    "train = data[data.week != test_week]\n",
    "test = data[data.week==test_week].drop_duplicates(['customer_id', 'article_id', 'sales_channel_id']).copy()"
   ]
  },
  {
   "cell_type": "code",
   "execution_count": 32,
   "id": "41b5805f",
   "metadata": {
    "execution": {
     "iopub.execute_input": "2023-12-22T01:51:43.892070Z",
     "iopub.status.busy": "2023-12-22T01:51:43.891402Z",
     "iopub.status.idle": "2023-12-22T01:51:44.812332Z",
     "shell.execute_reply": "2023-12-22T01:51:44.811370Z"
    },
    "executionInfo": {
     "elapsed": 996,
     "status": "ok",
     "timestamp": 1699021193784,
     "user": {
      "displayName": "nick wils",
      "userId": "09906672494021070283"
     },
     "user_tz": -60
    },
    "id": "d32dfd01",
    "papermill": {
     "duration": 0.946361,
     "end_time": "2023-12-22T01:51:44.815022",
     "exception": false,
     "start_time": "2023-12-22T01:51:43.868661",
     "status": "completed"
    },
    "tags": []
   },
   "outputs": [],
   "source": [
    "train_baskets = train.groupby(['week', 'customer_id'])['article_id'].count().values"
   ]
  },
  {
   "cell_type": "code",
   "execution_count": 33,
   "id": "f193c3c1",
   "metadata": {
    "execution": {
     "iopub.execute_input": "2023-12-22T01:51:44.860039Z",
     "iopub.status.busy": "2023-12-22T01:51:44.858981Z",
     "iopub.status.idle": "2023-12-22T01:51:44.865078Z",
     "shell.execute_reply": "2023-12-22T01:51:44.863681Z"
    },
    "executionInfo": {
     "elapsed": 11,
     "status": "ok",
     "timestamp": 1699021193785,
     "user": {
      "displayName": "nick wils",
      "userId": "09906672494021070283"
     },
     "user_tz": -60
    },
    "id": "2b027da8",
    "papermill": {
     "duration": 0.031519,
     "end_time": "2023-12-22T01:51:44.867846",
     "exception": false,
     "start_time": "2023-12-22T01:51:44.836327",
     "status": "completed"
    },
    "tags": []
   },
   "outputs": [],
   "source": [
    "columns_to_use = ['article_id', 'product_type_no', 'graphical_appearance_no', 'colour_group_code', 'perceived_colour_value_id',\n",
    "'perceived_colour_master_id', 'department_no', 'index_code',\n",
    "'index_group_no', 'section_no', 'garment_group_no', 'FN', 'Active',\n",
    "'club_member_status', 'fashion_news_frequency', 'age', 'postal_code', 'bestseller_rank',\n",
    "'buys_womens_clothing', 'buys_mens_clothes', 'buys_kid_baby_clothes']\n",
    "#  'year', 'month',"
   ]
  },
  {
   "cell_type": "code",
   "execution_count": 34,
   "id": "df3a9072",
   "metadata": {
    "execution": {
     "iopub.execute_input": "2023-12-22T01:51:44.912836Z",
     "iopub.status.busy": "2023-12-22T01:51:44.912389Z",
     "iopub.status.idle": "2023-12-22T01:51:46.138343Z",
     "shell.execute_reply": "2023-12-22T01:51:46.137181Z"
    },
    "executionInfo": {
     "elapsed": 884,
     "status": "ok",
     "timestamp": 1699021194659,
     "user": {
      "displayName": "nick wils",
      "userId": "09906672494021070283"
     },
     "user_tz": -60
    },
    "id": "120aecab",
    "outputId": "ac17e6b9-f070-44a7-a804-861394e9d164",
    "papermill": {
     "duration": 1.251683,
     "end_time": "2023-12-22T01:51:46.141310",
     "exception": false,
     "start_time": "2023-12-22T01:51:44.889627",
     "status": "completed"
    },
    "tags": []
   },
   "outputs": [
    {
     "name": "stdout",
     "output_type": "stream",
     "text": [
      "CPU times: user 753 ms, sys: 467 ms, total: 1.22 s\n",
      "Wall time: 1.22 s\n"
     ]
    }
   ],
   "source": [
    "%%time\n",
    "\n",
    "train_X = train[columns_to_use]\n",
    "train_y = train['purchased']\n",
    "\n",
    "test_X = test[columns_to_use]"
   ]
  },
  {
   "cell_type": "markdown",
   "id": "bc2b4dbe",
   "metadata": {
    "id": "82745ed2",
    "papermill": {
     "duration": 0.021258,
     "end_time": "2023-12-22T01:51:46.188316",
     "exception": false,
     "start_time": "2023-12-22T01:51:46.167058",
     "status": "completed"
    },
    "tags": []
   },
   "source": [
    "# Model training"
   ]
  },
  {
   "cell_type": "code",
   "execution_count": 35,
   "id": "1660faba",
   "metadata": {
    "execution": {
     "iopub.execute_input": "2023-12-22T01:51:46.233764Z",
     "iopub.status.busy": "2023-12-22T01:51:46.232967Z",
     "iopub.status.idle": "2023-12-22T01:51:47.812838Z",
     "shell.execute_reply": "2023-12-22T01:51:47.811918Z"
    },
    "executionInfo": {
     "elapsed": 1538,
     "status": "ok",
     "timestamp": 1699021196194,
     "user": {
      "displayName": "nick wils",
      "userId": "09906672494021070283"
     },
     "user_tz": -60
    },
    "id": "1e949a9d",
    "papermill": {
     "duration": 1.605819,
     "end_time": "2023-12-22T01:51:47.815591",
     "exception": false,
     "start_time": "2023-12-22T01:51:46.209772",
     "status": "completed"
    },
    "tags": []
   },
   "outputs": [],
   "source": [
    "from lightgbm.sklearn import LGBMRanker\n",
    "from tqdm import tqdm\n"
   ]
  },
  {
   "cell_type": "code",
   "execution_count": 36,
   "id": "66327334",
   "metadata": {
    "execution": {
     "iopub.execute_input": "2023-12-22T01:51:47.860833Z",
     "iopub.status.busy": "2023-12-22T01:51:47.860202Z",
     "iopub.status.idle": "2023-12-22T01:51:47.865466Z",
     "shell.execute_reply": "2023-12-22T01:51:47.864621Z"
    },
    "executionInfo": {
     "elapsed": 4,
     "status": "ok",
     "timestamp": 1699021196194,
     "user": {
      "displayName": "nick wils",
      "userId": "09906672494021070283"
     },
     "user_tz": -60
    },
    "id": "cd60dded",
    "papermill": {
     "duration": 0.030544,
     "end_time": "2023-12-22T01:51:47.867600",
     "exception": false,
     "start_time": "2023-12-22T01:51:47.837056",
     "status": "completed"
    },
    "tags": []
   },
   "outputs": [],
   "source": [
    "ranker = LGBMRanker(\n",
    "    objective=\"lambdarank\",\n",
    "    metric=\"ndcg\",\n",
    "    boosting_type=\"dart\",\n",
    "    n_estimators=1,\n",
    "    importance_type='gain',\n",
    "    verbose=10\n",
    ")"
   ]
  },
  {
   "cell_type": "code",
   "execution_count": 37,
   "id": "b14cbc15",
   "metadata": {
    "execution": {
     "iopub.execute_input": "2023-12-22T01:51:47.912264Z",
     "iopub.status.busy": "2023-12-22T01:51:47.911809Z",
     "iopub.status.idle": "2023-12-22T01:52:02.479304Z",
     "shell.execute_reply": "2023-12-22T01:52:02.477673Z"
    },
    "id": "25f040a4",
    "papermill": {
     "duration": 14.592928,
     "end_time": "2023-12-22T01:52:02.481926",
     "exception": false,
     "start_time": "2023-12-22T01:51:47.888998",
     "status": "completed"
    },
    "tags": []
   },
   "outputs": [
    {
     "name": "stdout",
     "output_type": "stream",
     "text": [
      "[LightGBM] [Debug] Dataset::GetMultiBinFromSparseFeatures: sparse rate 0.799041\n",
      "[LightGBM] [Debug] Dataset::GetMultiBinFromAllFeatures: sparse rate 0.418545\n",
      "[LightGBM] [Debug] init for col-wise cost 0.803511 seconds, init for row-wise cost 2.188007 seconds\n",
      "[LightGBM] [Warning] Auto-choosing row-wise multi-threading, the overhead of testing was 1.185579 seconds.\n",
      "You can set `force_row_wise=true` to remove the overhead.\n",
      "And if memory is not enough, you can set `force_col_wise=true`.\n",
      "[LightGBM] [Debug] Using Sparse Multi-Val Bin\n",
      "[LightGBM] [Info] Total Bins 1145\n",
      "[LightGBM] [Info] Number of data points in the train set: 11337104, number of used features: 21\n",
      "[LightGBM] [Warning] No further splits with positive gain, best gain: -inf\n",
      "[LightGBM] [Debug] Trained a tree with leaves = 4 and depth = 2\n",
      "CPU times: user 27.6 s, sys: 5.08 s, total: 32.7 s\n",
      "Wall time: 14.6 s\n"
     ]
    }
   ],
   "source": [
    "%%time\n",
    "\n",
    "ranker = ranker.fit(\n",
    "    train_X,\n",
    "    train_y,\n",
    "    group=train_baskets,\n",
    ")"
   ]
  },
  {
   "cell_type": "code",
   "execution_count": 38,
   "id": "82b58902",
   "metadata": {
    "execution": {
     "iopub.execute_input": "2023-12-22T01:52:02.529071Z",
     "iopub.status.busy": "2023-12-22T01:52:02.528651Z",
     "iopub.status.idle": "2023-12-22T01:52:02.537460Z",
     "shell.execute_reply": "2023-12-22T01:52:02.535960Z"
    },
    "id": "4b6b5a94",
    "papermill": {
     "duration": 0.036172,
     "end_time": "2023-12-22T01:52:02.540483",
     "exception": false,
     "start_time": "2023-12-22T01:52:02.504311",
     "status": "completed"
    },
    "tags": []
   },
   "outputs": [
    {
     "name": "stdout",
     "output_type": "stream",
     "text": [
      "product_type_no 0.9999999999999999\n",
      "article_id 1.2566101113223014e-16\n",
      "section_no 0.0\n",
      "graphical_appearance_no 0.0\n",
      "colour_group_code 0.0\n",
      "perceived_colour_value_id 0.0\n",
      "perceived_colour_master_id 0.0\n",
      "department_no 0.0\n",
      "index_code 0.0\n",
      "index_group_no 0.0\n",
      "buys_kid_baby_clothes 0.0\n",
      "buys_mens_clothes 0.0\n",
      "FN 0.0\n",
      "Active 0.0\n",
      "club_member_status 0.0\n",
      "fashion_news_frequency 0.0\n",
      "age 0.0\n",
      "postal_code 0.0\n",
      "bestseller_rank 0.0\n",
      "buys_womens_clothing 0.0\n",
      "garment_group_no 0.0\n"
     ]
    }
   ],
   "source": [
    "for i in ranker.feature_importances_.argsort()[::-1]:\n",
    "    print(columns_to_use[i], ranker.feature_importances_[i]/ranker.feature_importances_.sum())"
   ]
  },
  {
   "cell_type": "markdown",
   "id": "ae9601f2",
   "metadata": {
    "id": "00faf029",
    "papermill": {
     "duration": 0.021873,
     "end_time": "2023-12-22T01:52:02.584944",
     "exception": false,
     "start_time": "2023-12-22T01:52:02.563071",
     "status": "completed"
    },
    "tags": []
   },
   "source": [
    "# Calculate predictions"
   ]
  },
  {
   "cell_type": "code",
   "execution_count": 39,
   "id": "2aab9796",
   "metadata": {
    "execution": {
     "iopub.execute_input": "2023-12-22T01:52:02.631804Z",
     "iopub.status.busy": "2023-12-22T01:52:02.631379Z",
     "iopub.status.idle": "2023-12-22T01:52:24.432589Z",
     "shell.execute_reply": "2023-12-22T01:52:24.431240Z"
    },
    "id": "7e862846",
    "papermill": {
     "duration": 21.828113,
     "end_time": "2023-12-22T01:52:24.435476",
     "exception": false,
     "start_time": "2023-12-22T01:52:02.607363",
     "status": "completed"
    },
    "tags": []
   },
   "outputs": [
    {
     "name": "stdout",
     "output_type": "stream",
     "text": [
      "CPU times: user 3 µs, sys: 1e+03 ns, total: 4 µs\n",
      "Wall time: 8.58 µs\n"
     ]
    }
   ],
   "source": [
    "%time\n",
    "\n",
    "test['preds'] = ranker.predict(test_X)\n",
    "\n",
    "c_id2predicted_article_ids = test \\\n",
    "    .sort_values(['customer_id', 'preds'], ascending=False) \\\n",
    "    .groupby('customer_id')['article_id'].apply(list).to_dict()\n",
    "\n",
    "bestsellers_last_week = \\\n",
    "    bestsellers_previous_week[bestsellers_previous_week.week == bestsellers_previous_week.week.max()]['article_id'].tolist()"
   ]
  },
  {
   "cell_type": "markdown",
   "id": "8dca7f3b",
   "metadata": {
    "id": "de045e98",
    "papermill": {
     "duration": 0.022657,
     "end_time": "2023-12-22T01:52:24.481155",
     "exception": false,
     "start_time": "2023-12-22T01:52:24.458498",
     "status": "completed"
    },
    "tags": []
   },
   "source": [
    "# Create submission"
   ]
  },
  {
   "cell_type": "code",
   "execution_count": 40,
   "id": "49aeef74",
   "metadata": {
    "execution": {
     "iopub.execute_input": "2023-12-22T01:52:24.528441Z",
     "iopub.status.busy": "2023-12-22T01:52:24.528038Z",
     "iopub.status.idle": "2023-12-22T01:52:29.689308Z",
     "shell.execute_reply": "2023-12-22T01:52:29.688120Z"
    },
    "id": "43e4fda7",
    "papermill": {
     "duration": 5.18824,
     "end_time": "2023-12-22T01:52:29.692311",
     "exception": false,
     "start_time": "2023-12-22T01:52:24.504071",
     "status": "completed"
    },
    "tags": []
   },
   "outputs": [],
   "source": [
    "sub = pd.read_csv('/kaggle/input/h-and-m-personalized-fashion-recommendations/sample_submission.csv')"
   ]
  },
  {
   "cell_type": "code",
   "execution_count": 41,
   "id": "0d0a8fbe",
   "metadata": {
    "execution": {
     "iopub.execute_input": "2023-12-22T01:52:29.739752Z",
     "iopub.status.busy": "2023-12-22T01:52:29.739082Z",
     "iopub.status.idle": "2023-12-22T01:52:43.105715Z",
     "shell.execute_reply": "2023-12-22T01:52:43.104213Z"
    },
    "id": "a35ac969",
    "papermill": {
     "duration": 13.393722,
     "end_time": "2023-12-22T01:52:43.108699",
     "exception": false,
     "start_time": "2023-12-22T01:52:29.714977",
     "status": "completed"
    },
    "tags": []
   },
   "outputs": [
    {
     "name": "stdout",
     "output_type": "stream",
     "text": [
      "CPU times: user 13.1 s, sys: 240 ms, total: 13.4 s\n",
      "Wall time: 13.4 s\n"
     ]
    }
   ],
   "source": [
    "%%time\n",
    "preds = []\n",
    "predsval = []\n",
    "positive_items_val = val.groupby(['customer_id'])['article_id'].apply(list)\n",
    "# creating validation set for metrics use case\n",
    "val_users = positive_items_val.keys()\n",
    "val_items = []\n",
    "\n",
    "for c_id in customer_hex_id_to_int(sub.customer_id):\n",
    "    pred = c_id2predicted_article_ids.get(c_id, [])\n",
    "    pred = pred + bestsellers_last_week\n",
    "    preds.append(pred[:12])\n",
    "    if c_id in val_users:\n",
    "        predsval.append(pred[:12])\n",
    "        val_items.append(positive_items_val[c_id])"
   ]
  },
  {
   "cell_type": "code",
   "execution_count": 42,
   "id": "bb7bffa5",
   "metadata": {
    "execution": {
     "iopub.execute_input": "2023-12-22T01:52:43.156226Z",
     "iopub.status.busy": "2023-12-22T01:52:43.155561Z",
     "iopub.status.idle": "2023-12-22T01:52:43.768978Z",
     "shell.execute_reply": "2023-12-22T01:52:43.767552Z"
    },
    "papermill": {
     "duration": 0.640274,
     "end_time": "2023-12-22T01:52:43.771663",
     "exception": false,
     "start_time": "2023-12-22T01:52:43.131389",
     "status": "completed"
    },
    "tags": []
   },
   "outputs": [
    {
     "name": "stdout",
     "output_type": "stream",
     "text": [
      "Total users in validation: 68984\n",
      "mAP12 Score on Validation set: 0.00014432626990430248\n",
      "precision Score on Validation set: 0.00010630484363523909\n",
      "recall Score on Validation set: 0.0005125383066473144\n"
     ]
    }
   ],
   "source": [
    "if Testting:\n",
    "    print(\"Total users in validation:\", len(val_users))\n",
    "    print(\"mAP12 Score on Validation set:\", mapk(val_items, preds))\n",
    "    print(\"precision Score on Validation set:\", precision12(val_items, preds))\n",
    "    print(\"recall Score on Validation set:\", recall12(val_items, preds))"
   ]
  },
  {
   "cell_type": "code",
   "execution_count": 43,
   "id": "9d6394ad",
   "metadata": {
    "execution": {
     "iopub.execute_input": "2023-12-22T01:52:43.821613Z",
     "iopub.status.busy": "2023-12-22T01:52:43.821193Z",
     "iopub.status.idle": "2023-12-22T01:52:51.461299Z",
     "shell.execute_reply": "2023-12-22T01:52:51.459992Z"
    },
    "id": "3f8f9304",
    "papermill": {
     "duration": 7.669104,
     "end_time": "2023-12-22T01:52:51.464580",
     "exception": false,
     "start_time": "2023-12-22T01:52:43.795476",
     "status": "completed"
    },
    "tags": []
   },
   "outputs": [],
   "source": [
    "preds = [' '.join(['0' + str(p) for p in ps]) for ps in preds]\n",
    "sub.prediction = preds"
   ]
  },
  {
   "cell_type": "code",
   "execution_count": 44,
   "id": "0cee4856",
   "metadata": {
    "execution": {
     "iopub.execute_input": "2023-12-22T01:52:51.513939Z",
     "iopub.status.busy": "2023-12-22T01:52:51.513567Z",
     "iopub.status.idle": "2023-12-22T01:53:17.382301Z",
     "shell.execute_reply": "2023-12-22T01:53:17.381026Z"
    },
    "id": "62d8338d",
    "papermill": {
     "duration": 25.896624,
     "end_time": "2023-12-22T01:53:17.385543",
     "exception": false,
     "start_time": "2023-12-22T01:52:51.488919",
     "status": "completed"
    },
    "tags": []
   },
   "outputs": [],
   "source": [
    "sub_name = 'candidateRepurchaseMeanBuyingPrice'\n",
    "sub.to_csv(f'{sub_name}.csv.gz', index=False)"
   ]
  }
 ],
 "metadata": {
  "kaggle": {
   "accelerator": "none",
   "dataSources": [
    {
     "databundleVersionId": 3103714,
     "sourceId": 31254,
     "sourceType": "competition"
    },
    {
     "datasetId": 3950161,
     "sourceId": 6874227,
     "sourceType": "datasetVersion"
    },
    {
     "datasetId": 3950274,
     "sourceId": 6874424,
     "sourceType": "datasetVersion"
    },
    {
     "datasetId": 3954698,
     "sourceId": 6883243,
     "sourceType": "datasetVersion"
    },
    {
     "sourceId": 149573710,
     "sourceType": "kernelVersion"
    }
   ],
   "dockerImageVersionId": 30587,
   "isGpuEnabled": false,
   "isInternetEnabled": true,
   "language": "python",
   "sourceType": "notebook"
  },
  "kernelspec": {
   "display_name": "Python 3",
   "language": "python",
   "name": "python3"
  },
  "language_info": {
   "codemirror_mode": {
    "name": "ipython",
    "version": 3
   },
   "file_extension": ".py",
   "mimetype": "text/x-python",
   "name": "python",
   "nbconvert_exporter": "python",
   "pygments_lexer": "ipython3",
   "version": "3.10.12"
  },
  "papermill": {
   "default_parameters": {},
   "duration": 266.104099,
   "end_time": "2023-12-22T01:53:20.432823",
   "environment_variables": {},
   "exception": null,
   "input_path": "__notebook__.ipynb",
   "output_path": "__notebook__.ipynb",
   "parameters": {},
   "start_time": "2023-12-22T01:48:54.328724",
   "version": "2.4.0"
  }
 },
 "nbformat": 4,
 "nbformat_minor": 5
}
