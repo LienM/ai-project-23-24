{
 "cells": [
  {
   "cell_type": "markdown",
   "id": "a8ef87d1",
   "metadata": {
    "id": "6f21ab04",
    "papermill": {
     "duration": 0.021778,
     "end_time": "2023-12-22T01:49:48.669872",
     "exception": false,
     "start_time": "2023-12-22T01:49:48.648094",
     "status": "completed"
    },
    "tags": []
   },
   "source": [
    "Based on the baseline \"Radek's LGBMRanker starter-pack”: https://www.kaggle.com/code/marcogorelli/radek-s-lgbmranker-starter-pack\n"
   ]
  },
  {
   "cell_type": "markdown",
   "id": "d00c1b62",
   "metadata": {
    "papermill": {
     "duration": 0.020386,
     "end_time": "2023-12-22T01:49:48.711483",
     "exception": false,
     "start_time": "2023-12-22T01:49:48.691097",
     "status": "completed"
    },
    "tags": []
   },
   "source": [
    "# Helper functions"
   ]
  },
  {
   "cell_type": "code",
   "execution_count": 1,
   "id": "d828dbd9",
   "metadata": {
    "execution": {
     "iopub.execute_input": "2023-12-22T01:49:48.755167Z",
     "iopub.status.busy": "2023-12-22T01:49:48.754554Z",
     "iopub.status.idle": "2023-12-22T01:49:48.770416Z",
     "shell.execute_reply": "2023-12-22T01:49:48.769216Z"
    },
    "executionInfo": {
     "elapsed": 8,
     "status": "ok",
     "timestamp": 1699021070415,
     "user": {
      "displayName": "nick wils",
      "userId": "09906672494021070283"
     },
     "user_tz": -60
    },
    "id": "4a7e7212",
    "papermill": {
     "duration": 0.041096,
     "end_time": "2023-12-22T01:49:48.773221",
     "exception": false,
     "start_time": "2023-12-22T01:49:48.732125",
     "status": "completed"
    },
    "tags": []
   },
   "outputs": [],
   "source": [
    "import numpy as np\n",
    "\n",
    "def apk(actual, predicted, k=12):\n",
    "    \"\"\"\n",
    "    Computes the average precision at k.\n",
    "\n",
    "    This function computes the average prescision at k between two lists of\n",
    "    items.\n",
    "\n",
    "    Parameters\n",
    "    ----------\n",
    "    actual : list\n",
    "             A list of elements that are to be predicted (order doesn't matter)\n",
    "    predicted : list\n",
    "                A list of predicted elements (order does matter)\n",
    "    k : int, optional\n",
    "        The maximum number of predicted elements\n",
    "\n",
    "    Returns\n",
    "    -------\n",
    "    score : double\n",
    "            The average precision at k over the input lists\n",
    "\n",
    "    \"\"\"\n",
    "    if len(predicted)>k:\n",
    "        predicted = predicted[:k]\n",
    "\n",
    "    score = 0.0\n",
    "    num_hits = 0.0\n",
    "\n",
    "    for i,p in enumerate(predicted):\n",
    "        if p in actual and p not in predicted[:i]:\n",
    "            num_hits += 1.0\n",
    "            score += num_hits / (i+1.0)\n",
    "\n",
    "    if not actual:\n",
    "        return 0.0\n",
    "\n",
    "    return score / min(len(actual), k)\n",
    "\n",
    "def mapk(actual, predicted, k=12):\n",
    "    \"\"\"\n",
    "    Computes the mean average precision at k.\n",
    "\n",
    "    This function computes the mean average prescision at k between two lists\n",
    "    of lists of items.\n",
    "\n",
    "    Parameters\n",
    "    ----------\n",
    "    actual : list\n",
    "             A list of lists of elements that are to be predicted\n",
    "             (order doesn't matter in the lists)\n",
    "    predicted : list\n",
    "                A list of lists of predicted elements\n",
    "                (order matters in the lists)\n",
    "    k : int, optional\n",
    "        The maximum number of predicted elements\n",
    "\n",
    "    Returns\n",
    "    -------\n",
    "    score : double\n",
    "            The mean average precision at k over the input lists\n",
    "\n",
    "    \"\"\"\n",
    "    return np.mean([apk(a,p,k) for a,p in zip(actual, predicted)])"
   ]
  },
  {
   "cell_type": "code",
   "execution_count": 2,
   "id": "08d7cc64",
   "metadata": {
    "execution": {
     "iopub.execute_input": "2023-12-22T01:49:48.817164Z",
     "iopub.status.busy": "2023-12-22T01:49:48.816759Z",
     "iopub.status.idle": "2023-12-22T01:49:48.826392Z",
     "shell.execute_reply": "2023-12-22T01:49:48.825588Z"
    },
    "papermill": {
     "duration": 0.034623,
     "end_time": "2023-12-22T01:49:48.828619",
     "exception": false,
     "start_time": "2023-12-22T01:49:48.793996",
     "status": "completed"
    },
    "tags": []
   },
   "outputs": [],
   "source": [
    "def precision(actual, predicted, k=12):\n",
    "    if len(predicted) > k:\n",
    "        predicted = predicted[:k]\n",
    "\n",
    "    correct_predictions = [p for p in predicted if p in actual]\n",
    "\n",
    "    return len(correct_predictions) / len(predicted)\n",
    "\n",
    "def recall(actual, predicted, k=12):\n",
    "    if len(predicted) > k:\n",
    "        predicted = predicted[:k]\n",
    "\n",
    "    correct_predictions = [p for p in predicted if p in actual]\n",
    "\n",
    "    return len(correct_predictions) / len(actual)\n",
    "\n",
    "def precision12(actual, predicted, k=12):\n",
    "    return np.mean([precision(a,p,k) for a,p in zip(actual, predicted)])\n",
    "\n",
    "def recall12(actual, predicted, k=12):\n",
    "    return np.mean([recall(a,p,k) for a,p in zip(actual, predicted)])"
   ]
  },
  {
   "cell_type": "code",
   "execution_count": 3,
   "id": "84866c52",
   "metadata": {
    "execution": {
     "iopub.execute_input": "2023-12-22T01:49:48.873230Z",
     "iopub.status.busy": "2023-12-22T01:49:48.872283Z",
     "iopub.status.idle": "2023-12-22T01:49:50.232660Z",
     "shell.execute_reply": "2023-12-22T01:49:50.231575Z"
    },
    "executionInfo": {
     "elapsed": 1622,
     "status": "ok",
     "timestamp": 1699021072031,
     "user": {
      "displayName": "nick wils",
      "userId": "09906672494021070283"
     },
     "user_tz": -60
    },
    "id": "85ef6566",
    "papermill": {
     "duration": 1.385821,
     "end_time": "2023-12-22T01:49:50.235340",
     "exception": false,
     "start_time": "2023-12-22T01:49:48.849519",
     "status": "completed"
    },
    "tags": []
   },
   "outputs": [],
   "source": [
    "from sklearn.base import BaseEstimator, TransformerMixin\n",
    "import numpy as np\n",
    "\n",
    "# https://www.kaggle.com/c/h-and-m-personalized-fashion-recommendations/discussion/308635\n",
    "def customer_hex_id_to_int(series):\n",
    "    return series.str[-16:].apply(hex_id_to_int)\n",
    "\n",
    "def hex_id_to_int(str):\n",
    "    return int(str[-16:], 16)\n",
    "\n",
    "def article_id_str_to_int(series):\n",
    "    return series.astype('int32')\n",
    "\n",
    "def article_id_int_to_str(series):\n",
    "    return '0' + series.astype('str')\n",
    "\n",
    "class Categorize(BaseEstimator, TransformerMixin):\n",
    "    def __init__(self, min_examples=0):\n",
    "        self.min_examples = min_examples\n",
    "        self.categories = []\n",
    "\n",
    "    def fit(self, X):\n",
    "        for i in range(X.shape[1]):\n",
    "            vc = X.iloc[:, i].value_counts()\n",
    "            self.categories.append(vc[vc > self.min_examples].index.tolist())\n",
    "        return self\n",
    "\n",
    "    def transform(self, X):\n",
    "        data = {X.columns[i]: pd.Categorical(X.iloc[:, i], categories=self.categories[i]).codes for i in range(X.shape[1])}\n",
    "        return pd.DataFrame(data=data)\n",
    "\n",
    "\n",
    "def calculate_apk(list_of_preds, list_of_gts):\n",
    "    # for fast validation this can be changed to operate on dicts of {'cust_id_int': [art_id_int, ...]}\n",
    "    # using 'data/val_week_purchases_by_cust.pkl'\n",
    "    apks = []\n",
    "    for preds, gt in zip(list_of_preds, list_of_gts):\n",
    "        apks.append(apk(gt, preds, k=12))\n",
    "    return np.mean(apks)\n",
    "\n",
    "def eval_sub(sub_csv, skip_cust_with_no_purchases=True):\n",
    "    sub=pd.read_csv(sub_csv)\n",
    "    validation_set=pd.read_parquet('data/validation_ground_truth.parquet')\n",
    "\n",
    "    apks = []\n",
    "\n",
    "    no_purchases_pattern = []\n",
    "    for pred, gt in zip(sub.prediction.str.split(), validation_set.prediction.str.split()):\n",
    "        if skip_cust_with_no_purchases and (gt == no_purchases_pattern): continue\n",
    "        apks.append(apk(gt, pred, k=12))\n",
    "    return np.mean(apks)"
   ]
  },
  {
   "cell_type": "code",
   "execution_count": 4,
   "id": "623b3f9f",
   "metadata": {
    "execution": {
     "iopub.execute_input": "2023-12-22T01:49:50.279179Z",
     "iopub.status.busy": "2023-12-22T01:49:50.278754Z",
     "iopub.status.idle": "2023-12-22T01:49:51.165822Z",
     "shell.execute_reply": "2023-12-22T01:49:51.164619Z"
    },
    "executionInfo": {
     "elapsed": 1009,
     "status": "ok",
     "timestamp": 1699021073032,
     "user": {
      "displayName": "nick wils",
      "userId": "09906672494021070283"
     },
     "user_tz": -60
    },
    "id": "78c7a34c",
    "papermill": {
     "duration": 0.912113,
     "end_time": "2023-12-22T01:49:51.168657",
     "exception": false,
     "start_time": "2023-12-22T01:49:50.256544",
     "status": "completed"
    },
    "tags": []
   },
   "outputs": [],
   "source": [
    "import pandas as pd"
   ]
  },
  {
   "cell_type": "markdown",
   "id": "d04f6cae",
   "metadata": {
    "papermill": {
     "duration": 0.021797,
     "end_time": "2023-12-22T01:49:51.212948",
     "exception": false,
     "start_time": "2023-12-22T01:49:51.191151",
     "status": "completed"
    },
    "tags": []
   },
   "source": [
    "# Read input files"
   ]
  },
  {
   "cell_type": "code",
   "execution_count": 5,
   "id": "af4ccbc6",
   "metadata": {
    "execution": {
     "iopub.execute_input": "2023-12-22T01:49:51.258545Z",
     "iopub.status.busy": "2023-12-22T01:49:51.257580Z",
     "iopub.status.idle": "2023-12-22T01:49:56.972833Z",
     "shell.execute_reply": "2023-12-22T01:49:56.971443Z"
    },
    "executionInfo": {
     "elapsed": 10386,
     "status": "ok",
     "timestamp": 1699021083403,
     "user": {
      "displayName": "nick wils",
      "userId": "09906672494021070283"
     },
     "user_tz": -60
    },
    "id": "af847e1a",
    "outputId": "3cbfb68d-34ad-434e-8246-c093b7fedffd",
    "papermill": {
     "duration": 5.740986,
     "end_time": "2023-12-22T01:49:56.975363",
     "exception": false,
     "start_time": "2023-12-22T01:49:51.234377",
     "status": "completed"
    },
    "tags": []
   },
   "outputs": [
    {
     "name": "stdout",
     "output_type": "stream",
     "text": [
      "CPU times: user 3.53 s, sys: 3.71 s, total: 7.24 s\n",
      "Wall time: 5.71 s\n"
     ]
    }
   ],
   "source": [
    "%%time\n",
    "pad = \"/kaggle/input/makeparquet\"\n",
    "transactions = pd.read_parquet(pad+'/transactions_train.parquet')\n",
    "customers = pd.read_parquet(pad+'/customers.parquet')\n",
    "articles = pd.read_parquet(pad+'/articles.parquet')"
   ]
  },
  {
   "cell_type": "code",
   "execution_count": 6,
   "id": "f409d3cb",
   "metadata": {
    "execution": {
     "iopub.execute_input": "2023-12-22T01:49:57.019855Z",
     "iopub.status.busy": "2023-12-22T01:49:57.019401Z",
     "iopub.status.idle": "2023-12-22T01:49:57.109051Z",
     "shell.execute_reply": "2023-12-22T01:49:57.107743Z"
    },
    "papermill": {
     "duration": 0.115314,
     "end_time": "2023-12-22T01:49:57.111974",
     "exception": false,
     "start_time": "2023-12-22T01:49:56.996660",
     "status": "completed"
    },
    "tags": []
   },
   "outputs": [],
   "source": [
    "val = transactions[transactions.week == transactions.week.max()]"
   ]
  },
  {
   "cell_type": "markdown",
   "id": "a536a4c7",
   "metadata": {
    "papermill": {
     "duration": 0.020796,
     "end_time": "2023-12-22T01:49:57.153909",
     "exception": false,
     "start_time": "2023-12-22T01:49:57.133113",
     "status": "completed"
    },
    "tags": []
   },
   "source": [
    "# Testing week or latest week for submission"
   ]
  },
  {
   "cell_type": "code",
   "execution_count": 7,
   "id": "43f78307",
   "metadata": {
    "execution": {
     "iopub.execute_input": "2023-12-22T01:49:57.205621Z",
     "iopub.status.busy": "2023-12-22T01:49:57.204847Z",
     "iopub.status.idle": "2023-12-22T01:49:57.717318Z",
     "shell.execute_reply": "2023-12-22T01:49:57.716171Z"
    },
    "executionInfo": {
     "elapsed": 359,
     "status": "ok",
     "timestamp": 1699021083748,
     "user": {
      "displayName": "nick wils",
      "userId": "09906672494021070283"
     },
     "user_tz": -60
    },
    "id": "76f70d9a",
    "papermill": {
     "duration": 0.538413,
     "end_time": "2023-12-22T01:49:57.720403",
     "exception": false,
     "start_time": "2023-12-22T01:49:57.181990",
     "status": "completed"
    },
    "tags": []
   },
   "outputs": [],
   "source": [
    "Testting = True\n",
    "test_week = transactions.week.max()\n",
    "transactions = transactions[transactions.week > transactions.week.max() - 11]\n",
    "transactions = transactions[transactions.week < transactions.week.max()]\n",
    "\n",
    "# Testting = False\n",
    "# test_week = transactions.week.max()+1\n",
    "# transactions = transactions[transactions.week > transactions.week.max() - 10]\n"
   ]
  },
  {
   "cell_type": "markdown",
   "id": "79f7ec80",
   "metadata": {
    "id": "5133081f",
    "papermill": {
     "duration": 0.021621,
     "end_time": "2023-12-22T01:49:57.827269",
     "exception": false,
     "start_time": "2023-12-22T01:49:57.805648",
     "status": "completed"
    },
    "tags": []
   },
   "source": [
    "# Generating candidates"
   ]
  },
  {
   "cell_type": "markdown",
   "id": "7f168cd5",
   "metadata": {
    "id": "55672930",
    "papermill": {
     "duration": 0.020818,
     "end_time": "2023-12-22T01:49:57.869829",
     "exception": false,
     "start_time": "2023-12-22T01:49:57.849011",
     "status": "completed"
    },
    "tags": []
   },
   "source": [
    "### Last purchase candidates"
   ]
  },
  {
   "cell_type": "code",
   "execution_count": 8,
   "id": "ac3f73fd",
   "metadata": {
    "execution": {
     "iopub.execute_input": "2023-12-22T01:49:57.913925Z",
     "iopub.status.busy": "2023-12-22T01:49:57.913492Z",
     "iopub.status.idle": "2023-12-22T01:50:29.900995Z",
     "shell.execute_reply": "2023-12-22T01:50:29.899630Z"
    },
    "executionInfo": {
     "elapsed": 44324,
     "status": "ok",
     "timestamp": 1699021128069,
     "user": {
      "displayName": "nick wils",
      "userId": "09906672494021070283"
     },
     "user_tz": -60
    },
    "id": "953a0f07",
    "outputId": "a64eb57a-9b27-486a-ed3e-cbd737918d66",
    "papermill": {
     "duration": 32.034071,
     "end_time": "2023-12-22T01:50:29.924990",
     "exception": false,
     "start_time": "2023-12-22T01:49:57.890919",
     "status": "completed"
    },
    "tags": []
   },
   "outputs": [
    {
     "name": "stdout",
     "output_type": "stream",
     "text": [
      "CPU times: user 31.8 s, sys: 293 ms, total: 32.1 s\n",
      "Wall time: 32 s\n"
     ]
    }
   ],
   "source": [
    "%%time\n",
    "\n",
    "c2weeks = transactions.groupby('customer_id')['week'].unique()"
   ]
  },
  {
   "cell_type": "code",
   "execution_count": 9,
   "id": "8584bf3b",
   "metadata": {
    "execution": {
     "iopub.execute_input": "2023-12-22T01:50:29.971124Z",
     "iopub.status.busy": "2023-12-22T01:50:29.970361Z",
     "iopub.status.idle": "2023-12-22T01:50:30.062057Z",
     "shell.execute_reply": "2023-12-22T01:50:30.061152Z"
    },
    "executionInfo": {
     "elapsed": 27,
     "status": "ok",
     "timestamp": 1699021128070,
     "user": {
      "displayName": "nick wils",
      "userId": "09906672494021070283"
     },
     "user_tz": -60
    },
    "id": "a36be6fc",
    "outputId": "d760722c-fd93-4387-ec91-567d48918be5",
    "papermill": {
     "duration": 0.117318,
     "end_time": "2023-12-22T01:50:30.064417",
     "exception": false,
     "start_time": "2023-12-22T01:50:29.947099",
     "status": "completed"
    },
    "tags": []
   },
   "outputs": [
    {
     "data": {
      "text/html": [
       "<div>\n",
       "<style scoped>\n",
       "    .dataframe tbody tr th:only-of-type {\n",
       "        vertical-align: middle;\n",
       "    }\n",
       "\n",
       "    .dataframe tbody tr th {\n",
       "        vertical-align: top;\n",
       "    }\n",
       "\n",
       "    .dataframe thead th {\n",
       "        text-align: right;\n",
       "    }\n",
       "</style>\n",
       "<table border=\"1\" class=\"dataframe\">\n",
       "  <thead>\n",
       "    <tr style=\"text-align: right;\">\n",
       "      <th></th>\n",
       "      <th>min</th>\n",
       "      <th>max</th>\n",
       "    </tr>\n",
       "    <tr>\n",
       "      <th>week</th>\n",
       "      <th></th>\n",
       "      <th></th>\n",
       "    </tr>\n",
       "  </thead>\n",
       "  <tbody>\n",
       "    <tr>\n",
       "      <th>94</th>\n",
       "      <td>2020-07-08</td>\n",
       "      <td>2020-07-14</td>\n",
       "    </tr>\n",
       "    <tr>\n",
       "      <th>95</th>\n",
       "      <td>2020-07-15</td>\n",
       "      <td>2020-07-21</td>\n",
       "    </tr>\n",
       "    <tr>\n",
       "      <th>96</th>\n",
       "      <td>2020-07-22</td>\n",
       "      <td>2020-07-28</td>\n",
       "    </tr>\n",
       "    <tr>\n",
       "      <th>97</th>\n",
       "      <td>2020-07-29</td>\n",
       "      <td>2020-08-04</td>\n",
       "    </tr>\n",
       "    <tr>\n",
       "      <th>98</th>\n",
       "      <td>2020-08-05</td>\n",
       "      <td>2020-08-11</td>\n",
       "    </tr>\n",
       "    <tr>\n",
       "      <th>99</th>\n",
       "      <td>2020-08-12</td>\n",
       "      <td>2020-08-18</td>\n",
       "    </tr>\n",
       "    <tr>\n",
       "      <th>100</th>\n",
       "      <td>2020-08-19</td>\n",
       "      <td>2020-08-25</td>\n",
       "    </tr>\n",
       "    <tr>\n",
       "      <th>101</th>\n",
       "      <td>2020-08-26</td>\n",
       "      <td>2020-09-01</td>\n",
       "    </tr>\n",
       "    <tr>\n",
       "      <th>102</th>\n",
       "      <td>2020-09-02</td>\n",
       "      <td>2020-09-08</td>\n",
       "    </tr>\n",
       "    <tr>\n",
       "      <th>103</th>\n",
       "      <td>2020-09-09</td>\n",
       "      <td>2020-09-15</td>\n",
       "    </tr>\n",
       "  </tbody>\n",
       "</table>\n",
       "</div>"
      ],
      "text/plain": [
       "            min        max\n",
       "week                      \n",
       "94   2020-07-08 2020-07-14\n",
       "95   2020-07-15 2020-07-21\n",
       "96   2020-07-22 2020-07-28\n",
       "97   2020-07-29 2020-08-04\n",
       "98   2020-08-05 2020-08-11\n",
       "99   2020-08-12 2020-08-18\n",
       "100  2020-08-19 2020-08-25\n",
       "101  2020-08-26 2020-09-01\n",
       "102  2020-09-02 2020-09-08\n",
       "103  2020-09-09 2020-09-15"
      ]
     },
     "execution_count": 9,
     "metadata": {},
     "output_type": "execute_result"
    }
   ],
   "source": [
    "transactions.groupby('week')['t_dat'].agg(['min', 'max'])"
   ]
  },
  {
   "cell_type": "code",
   "execution_count": 10,
   "id": "233389f6",
   "metadata": {
    "execution": {
     "iopub.execute_input": "2023-12-22T01:50:30.111744Z",
     "iopub.status.busy": "2023-12-22T01:50:30.110672Z",
     "iopub.status.idle": "2023-12-22T01:50:31.306957Z",
     "shell.execute_reply": "2023-12-22T01:50:31.305675Z"
    },
    "executionInfo": {
     "elapsed": 942,
     "status": "ok",
     "timestamp": 1699021129001,
     "user": {
      "displayName": "nick wils",
      "userId": "09906672494021070283"
     },
     "user_tz": -60
    },
    "id": "f4723bec",
    "outputId": "700683a1-0720-43a3-bd06-c22a827fbf02",
    "papermill": {
     "duration": 1.223092,
     "end_time": "2023-12-22T01:50:31.309940",
     "exception": false,
     "start_time": "2023-12-22T01:50:30.086848",
     "status": "completed"
    },
    "tags": []
   },
   "outputs": [
    {
     "name": "stdout",
     "output_type": "stream",
     "text": [
      "CPU times: user 1.13 s, sys: 56.8 ms, total: 1.19 s\n",
      "Wall time: 1.19 s\n"
     ]
    }
   ],
   "source": [
    "%%time\n",
    "\n",
    "c2weeks2shifted_weeks = {}\n",
    "\n",
    "for c_id, weeks in c2weeks.items():\n",
    "    c2weeks2shifted_weeks[c_id] = {}\n",
    "    for i in range(weeks.shape[0]-1):\n",
    "        c2weeks2shifted_weeks[c_id][weeks[i]] = weeks[i+1]\n",
    "    c2weeks2shifted_weeks[c_id][weeks[-1]] = test_week"
   ]
  },
  {
   "cell_type": "code",
   "execution_count": 11,
   "id": "44c87961",
   "metadata": {
    "execution": {
     "iopub.execute_input": "2023-12-22T01:50:31.356134Z",
     "iopub.status.busy": "2023-12-22T01:50:31.355707Z",
     "iopub.status.idle": "2023-12-22T01:50:31.383763Z",
     "shell.execute_reply": "2023-12-22T01:50:31.382594Z"
    },
    "executionInfo": {
     "elapsed": 6,
     "status": "ok",
     "timestamp": 1699021129002,
     "user": {
      "displayName": "nick wils",
      "userId": "09906672494021070283"
     },
     "user_tz": -60
    },
    "id": "5a87c920",
    "papermill": {
     "duration": 0.054669,
     "end_time": "2023-12-22T01:50:31.386536",
     "exception": false,
     "start_time": "2023-12-22T01:50:31.331867",
     "status": "completed"
    },
    "tags": []
   },
   "outputs": [],
   "source": [
    "candidates_last_purchase = transactions.copy()"
   ]
  },
  {
   "cell_type": "code",
   "execution_count": 12,
   "id": "d3c6be76",
   "metadata": {
    "execution": {
     "iopub.execute_input": "2023-12-22T01:50:31.432731Z",
     "iopub.status.busy": "2023-12-22T01:50:31.432293Z",
     "iopub.status.idle": "2023-12-22T01:51:13.739654Z",
     "shell.execute_reply": "2023-12-22T01:51:13.738490Z"
    },
    "executionInfo": {
     "elapsed": 20239,
     "status": "ok",
     "timestamp": 1699021149235,
     "user": {
      "displayName": "nick wils",
      "userId": "09906672494021070283"
     },
     "user_tz": -60
    },
    "id": "4f4d4a18",
    "outputId": "a177aca2-7d87-44a1-cbfd-23488359d3d3",
    "papermill": {
     "duration": 42.354854,
     "end_time": "2023-12-22T01:51:13.764195",
     "exception": false,
     "start_time": "2023-12-22T01:50:31.409341",
     "status": "completed"
    },
    "tags": []
   },
   "outputs": [
    {
     "name": "stdout",
     "output_type": "stream",
     "text": [
      "CPU times: user 42.4 s, sys: 170 ms, total: 42.5 s\n",
      "Wall time: 42.3 s\n"
     ]
    }
   ],
   "source": [
    "%%time\n",
    "\n",
    "weeks = []\n",
    "for i, (c_id, week) in enumerate(zip(transactions['customer_id'], transactions['week'])):\n",
    "    weeks.append(c2weeks2shifted_weeks[c_id][week])\n",
    "\n",
    "candidates_last_purchase.week=weeks"
   ]
  },
  {
   "cell_type": "markdown",
   "id": "e85d4db7",
   "metadata": {
    "papermill": {
     "duration": 0.02157,
     "end_time": "2023-12-22T01:51:13.807228",
     "exception": false,
     "start_time": "2023-12-22T01:51:13.785658",
     "status": "completed"
    },
    "tags": []
   },
   "source": [
    "# Add my own implementation of candidate generation"
   ]
  },
  {
   "cell_type": "code",
   "execution_count": 13,
   "id": "b53de051",
   "metadata": {
    "execution": {
     "iopub.execute_input": "2023-12-22T01:51:13.852132Z",
     "iopub.status.busy": "2023-12-22T01:51:13.851677Z",
     "iopub.status.idle": "2023-12-22T01:51:19.849729Z",
     "shell.execute_reply": "2023-12-22T01:51:19.848755Z"
    },
    "papermill": {
     "duration": 6.023912,
     "end_time": "2023-12-22T01:51:19.852618",
     "exception": false,
     "start_time": "2023-12-22T01:51:13.828706",
     "status": "completed"
    },
    "tags": []
   },
   "outputs": [],
   "source": [
    "# Generating candidates based on repurchasing\n",
    "repurchase_candidates = transactions.copy()\n",
    "repurchase_candidates['week'] += 1 \n",
    "\n",
    "# Merge repurchase candidates with customer information\n",
    "repurchase_candidates = pd.merge(repurchase_candidates, customers, on='customer_id', how='left')\n",
    "repurchase_candidates = pd.merge(repurchase_candidates, articles, on='article_id', how='left')\n",
    "\n",
    "# Drop unnecessary columns\n",
    "repurchase_candidates.drop(['price', 'sales_channel_id', 'year', 'month'], axis=1, inplace=True)\n",
    "\n",
    "# Rename columns to match the rest of the data\n",
    "repurchase_candidates.rename(columns={'week': 'previous_purchase_week'}, inplace=True)\n",
    "\n",
    "# Merge repurchase candidates with the existing last purchase candidates\n",
    "candidates_last_purchase = pd.merge(\n",
    "    candidates_last_purchase,\n",
    "    repurchase_candidates[['customer_id', 'article_id', 'previous_purchase_week']], \n",
    "    left_on=['customer_id', 'article_id', 'week'], \n",
    "    right_on=['customer_id', 'article_id', 'previous_purchase_week'], \n",
    "    how='left'\n",
    ")\n",
    "# Fill NaN values in 'previous_purchase_week' with a value that represents no repurchase\n",
    "candidates_last_purchase['previous_purchase_week'].fillna(-1, inplace=True)\n",
    "\n",
    "# Create a new column 'repurchased' indicating repurchase\n",
    "candidates_last_purchase['repurchased'] = (candidates_last_purchase['previous_purchase_week'] != -1).astype(int)\n",
    "\n",
    "# Drop the 'previous_purchase_week' column as it's no longer needed\n",
    "candidates_last_purchase.drop('previous_purchase_week', axis=1, inplace=True)\n",
    "\n",
    "\n"
   ]
  },
  {
   "cell_type": "markdown",
   "id": "62468de7",
   "metadata": {
    "id": "38ae3458",
    "papermill": {
     "duration": 0.021209,
     "end_time": "2023-12-22T01:51:19.895510",
     "exception": false,
     "start_time": "2023-12-22T01:51:19.874301",
     "status": "completed"
    },
    "tags": []
   },
   "source": [
    "### Bestsellers candidates"
   ]
  },
  {
   "cell_type": "code",
   "execution_count": 14,
   "id": "497c89e4",
   "metadata": {
    "execution": {
     "iopub.execute_input": "2023-12-22T01:51:19.940444Z",
     "iopub.status.busy": "2023-12-22T01:51:19.940051Z",
     "iopub.status.idle": "2023-12-22T01:51:20.451749Z",
     "shell.execute_reply": "2023-12-22T01:51:20.450421Z"
    },
    "executionInfo": {
     "elapsed": 36,
     "status": "ok",
     "timestamp": 1699021149236,
     "user": {
      "displayName": "nick wils",
      "userId": "09906672494021070283"
     },
     "user_tz": -60
    },
    "id": "022a7879",
    "papermill": {
     "duration": 0.537466,
     "end_time": "2023-12-22T01:51:20.454481",
     "exception": false,
     "start_time": "2023-12-22T01:51:19.917015",
     "status": "completed"
    },
    "tags": []
   },
   "outputs": [
    {
     "data": {
      "text/html": [
       "<div>\n",
       "<style scoped>\n",
       "    .dataframe tbody tr th:only-of-type {\n",
       "        vertical-align: middle;\n",
       "    }\n",
       "\n",
       "    .dataframe tbody tr th {\n",
       "        vertical-align: top;\n",
       "    }\n",
       "\n",
       "    .dataframe thead th {\n",
       "        text-align: right;\n",
       "    }\n",
       "</style>\n",
       "<table border=\"1\" class=\"dataframe\">\n",
       "  <thead>\n",
       "    <tr style=\"text-align: right;\">\n",
       "      <th></th>\n",
       "      <th>week</th>\n",
       "      <th>article_id</th>\n",
       "      <th>bestseller_rank</th>\n",
       "      <th>price</th>\n",
       "    </tr>\n",
       "  </thead>\n",
       "  <tbody>\n",
       "    <tr>\n",
       "      <th>12</th>\n",
       "      <td>96</td>\n",
       "      <td>760084003</td>\n",
       "      <td>1</td>\n",
       "      <td>0.025094</td>\n",
       "    </tr>\n",
       "    <tr>\n",
       "      <th>13</th>\n",
       "      <td>96</td>\n",
       "      <td>866731001</td>\n",
       "      <td>2</td>\n",
       "      <td>0.024919</td>\n",
       "    </tr>\n",
       "    <tr>\n",
       "      <th>14</th>\n",
       "      <td>96</td>\n",
       "      <td>600886001</td>\n",
       "      <td>3</td>\n",
       "      <td>0.022980</td>\n",
       "    </tr>\n",
       "    <tr>\n",
       "      <th>15</th>\n",
       "      <td>96</td>\n",
       "      <td>706016001</td>\n",
       "      <td>4</td>\n",
       "      <td>0.033197</td>\n",
       "    </tr>\n",
       "    <tr>\n",
       "      <th>16</th>\n",
       "      <td>96</td>\n",
       "      <td>372860002</td>\n",
       "      <td>5</td>\n",
       "      <td>0.013193</td>\n",
       "    </tr>\n",
       "    <tr>\n",
       "      <th>17</th>\n",
       "      <td>96</td>\n",
       "      <td>610776002</td>\n",
       "      <td>6</td>\n",
       "      <td>0.008318</td>\n",
       "    </tr>\n",
       "    <tr>\n",
       "      <th>18</th>\n",
       "      <td>96</td>\n",
       "      <td>877278002</td>\n",
       "      <td>7</td>\n",
       "      <td>0.025036</td>\n",
       "    </tr>\n",
       "    <tr>\n",
       "      <th>19</th>\n",
       "      <td>96</td>\n",
       "      <td>547780003</td>\n",
       "      <td>8</td>\n",
       "      <td>0.024814</td>\n",
       "    </tr>\n",
       "    <tr>\n",
       "      <th>20</th>\n",
       "      <td>96</td>\n",
       "      <td>817354001</td>\n",
       "      <td>9</td>\n",
       "      <td>0.021913</td>\n",
       "    </tr>\n",
       "    <tr>\n",
       "      <th>21</th>\n",
       "      <td>96</td>\n",
       "      <td>827968001</td>\n",
       "      <td>10</td>\n",
       "      <td>0.016436</td>\n",
       "    </tr>\n",
       "    <tr>\n",
       "      <th>22</th>\n",
       "      <td>96</td>\n",
       "      <td>866731003</td>\n",
       "      <td>11</td>\n",
       "      <td>0.024893</td>\n",
       "    </tr>\n",
       "    <tr>\n",
       "      <th>23</th>\n",
       "      <td>96</td>\n",
       "      <td>866383006</td>\n",
       "      <td>12</td>\n",
       "      <td>0.023195</td>\n",
       "    </tr>\n",
       "  </tbody>\n",
       "</table>\n",
       "</div>"
      ],
      "text/plain": [
       "    week  article_id  bestseller_rank     price\n",
       "12    96   760084003                1  0.025094\n",
       "13    96   866731001                2  0.024919\n",
       "14    96   600886001                3  0.022980\n",
       "15    96   706016001                4  0.033197\n",
       "16    96   372860002                5  0.013193\n",
       "17    96   610776002                6  0.008318\n",
       "18    96   877278002                7  0.025036\n",
       "19    96   547780003                8  0.024814\n",
       "20    96   817354001                9  0.021913\n",
       "21    96   827968001               10  0.016436\n",
       "22    96   866731003               11  0.024893\n",
       "23    96   866383006               12  0.023195"
      ]
     },
     "execution_count": 14,
     "metadata": {},
     "output_type": "execute_result"
    }
   ],
   "source": [
    "mean_price = transactions \\\n",
    "    .groupby(['week', 'article_id'])['price'].mean()\n",
    "sales = transactions \\\n",
    "    .groupby('week')['article_id'].value_counts() \\\n",
    "    .groupby('week').rank(method='dense', ascending=False) \\\n",
    "    .groupby('week').head(12).rename('bestseller_rank').astype('int8')\n",
    "bestsellers_previous_week = pd.merge(sales, mean_price, on=['week', 'article_id']).reset_index()\n",
    "bestsellers_previous_week.week += 1\n",
    "bestsellers_previous_week.week\n",
    "bestsellers_previous_week.pipe(lambda df: df[df['week']==96])"
   ]
  },
  {
   "cell_type": "markdown",
   "id": "79dd7b61",
   "metadata": {
    "papermill": {
     "duration": 0.021775,
     "end_time": "2023-12-22T01:51:20.498832",
     "exception": false,
     "start_time": "2023-12-22T01:51:20.477057",
     "status": "completed"
    },
    "tags": []
   },
   "source": [
    "**Use either the above one or my own implmentation below**"
   ]
  },
  {
   "cell_type": "code",
   "execution_count": 15,
   "id": "9bfd7f64",
   "metadata": {
    "execution": {
     "iopub.execute_input": "2023-12-22T01:51:20.544851Z",
     "iopub.status.busy": "2023-12-22T01:51:20.544343Z",
     "iopub.status.idle": "2023-12-22T01:51:20.550713Z",
     "shell.execute_reply": "2023-12-22T01:51:20.549614Z"
    },
    "papermill": {
     "duration": 0.032,
     "end_time": "2023-12-22T01:51:20.552900",
     "exception": false,
     "start_time": "2023-12-22T01:51:20.520900",
     "status": "completed"
    },
    "tags": []
   },
   "outputs": [],
   "source": [
    "# # Calculate the number of unique customers who bought each article\n",
    "# unique_customers_per_article = transactions.groupby('article_id')['customer_id'].nunique().reset_index()\n",
    "# unique_customers_per_article.rename(columns={'customer_id': 'unique_customers'}, inplace=True)\n",
    "\n",
    "# # Rank articles based on the number of unique customers\n",
    "# bestsellers_ranked = unique_customers_per_article.sort_values('unique_customers', ascending=False).reset_index(drop=True)\n",
    "# bestsellers_ranked['bestseller_rank'] = bestsellers_ranked.index + 1\n",
    "\n",
    "# # Merge the bestseller ranks with the articles information\n",
    "# bestsellers_previous_week = pd.merge(bestsellers_ranked[['article_id', 'bestseller_rank']], articles, on='article_id')\n",
    "\n",
    "# # Calculate mean price for each article in each week\n",
    "# mean_price = transactions.groupby(['week', 'article_id'])['price'].mean().reset_index()\n",
    "\n",
    "# # Identify the top 12 bestsellers for each week based on mean price\n",
    "# bestsellers_previous_week = mean_price.groupby('week', group_keys=False).apply(\n",
    "#     lambda x: x.sort_values('price', ascending=False).head(12)\n",
    "# ).reset_index(drop=True)\n",
    "\n",
    "\n",
    "# bestsellers_previous_week['bestseller_rank'] = bestsellers_previous_week.groupby('week').cumcount() + 1\n",
    "# bestsellers_previous_week = pd.merge(bestsellers_previous_week, articles, on='article_id')\n",
    "\n",
    "# # Adjust week for the next week\n",
    "# bestsellers_previous_week['week'] += 1\n"
   ]
  },
  {
   "cell_type": "code",
   "execution_count": 16,
   "id": "d8b96103",
   "metadata": {
    "execution": {
     "iopub.execute_input": "2023-12-22T01:51:20.599871Z",
     "iopub.status.busy": "2023-12-22T01:51:20.599401Z",
     "iopub.status.idle": "2023-12-22T01:51:21.193475Z",
     "shell.execute_reply": "2023-12-22T01:51:21.192222Z"
    },
    "executionInfo": {
     "elapsed": 867,
     "status": "ok",
     "timestamp": 1699021151118,
     "user": {
      "displayName": "nick wils",
      "userId": "09906672494021070283"
     },
     "user_tz": -60
    },
    "id": "1ad756de",
    "papermill": {
     "duration": 0.620792,
     "end_time": "2023-12-22T01:51:21.196272",
     "exception": false,
     "start_time": "2023-12-22T01:51:20.575480",
     "status": "completed"
    },
    "tags": []
   },
   "outputs": [],
   "source": [
    "unique_transactions = transactions \\\n",
    "    .groupby(['week', 'customer_id']) \\\n",
    "    .head(1) \\\n",
    "    .drop(columns=['article_id', 'price']) \\\n",
    "    .copy()"
   ]
  },
  {
   "cell_type": "code",
   "execution_count": 17,
   "id": "a7737f1d",
   "metadata": {
    "execution": {
     "iopub.execute_input": "2023-12-22T01:51:21.243564Z",
     "iopub.status.busy": "2023-12-22T01:51:21.243124Z",
     "iopub.status.idle": "2023-12-22T01:51:21.488857Z",
     "shell.execute_reply": "2023-12-22T01:51:21.487740Z"
    },
    "executionInfo": {
     "elapsed": 343,
     "status": "ok",
     "timestamp": 1699021151457,
     "user": {
      "displayName": "nick wils",
      "userId": "09906672494021070283"
     },
     "user_tz": -60
    },
    "id": "5721ca6d",
    "outputId": "26dbeac9-bfc8-44b6-879f-c3fbe5cb175d",
    "papermill": {
     "duration": 0.272393,
     "end_time": "2023-12-22T01:51:21.491503",
     "exception": false,
     "start_time": "2023-12-22T01:51:21.219110",
     "status": "completed"
    },
    "tags": []
   },
   "outputs": [
    {
     "data": {
      "text/html": [
       "<div>\n",
       "<style scoped>\n",
       "    .dataframe tbody tr th:only-of-type {\n",
       "        vertical-align: middle;\n",
       "    }\n",
       "\n",
       "    .dataframe tbody tr th {\n",
       "        vertical-align: top;\n",
       "    }\n",
       "\n",
       "    .dataframe thead th {\n",
       "        text-align: right;\n",
       "    }\n",
       "</style>\n",
       "<table border=\"1\" class=\"dataframe\">\n",
       "  <thead>\n",
       "    <tr style=\"text-align: right;\">\n",
       "      <th></th>\n",
       "      <th>t_dat</th>\n",
       "      <th>customer_id</th>\n",
       "      <th>article_id</th>\n",
       "      <th>price</th>\n",
       "      <th>sales_channel_id</th>\n",
       "      <th>season</th>\n",
       "      <th>year</th>\n",
       "      <th>month</th>\n",
       "      <th>week</th>\n",
       "    </tr>\n",
       "  </thead>\n",
       "  <tbody>\n",
       "    <tr>\n",
       "      <th>28777300</th>\n",
       "      <td>2020-07-08</td>\n",
       "      <td>857913002275398</td>\n",
       "      <td>599580068</td>\n",
       "      <td>0.008458</td>\n",
       "      <td>1</td>\n",
       "      <td>2</td>\n",
       "      <td>-28</td>\n",
       "      <td>7</td>\n",
       "      <td>94</td>\n",
       "    </tr>\n",
       "    <tr>\n",
       "      <th>28787123</th>\n",
       "      <td>2020-07-08</td>\n",
       "      <td>1658289241058394</td>\n",
       "      <td>877773001</td>\n",
       "      <td>0.007610</td>\n",
       "      <td>1</td>\n",
       "      <td>2</td>\n",
       "      <td>-28</td>\n",
       "      <td>7</td>\n",
       "      <td>94</td>\n",
       "    </tr>\n",
       "    <tr>\n",
       "      <th>28788562</th>\n",
       "      <td>2020-07-08</td>\n",
       "      <td>3828854365940846</td>\n",
       "      <td>507883009</td>\n",
       "      <td>0.013542</td>\n",
       "      <td>1</td>\n",
       "      <td>2</td>\n",
       "      <td>-28</td>\n",
       "      <td>7</td>\n",
       "      <td>94</td>\n",
       "    </tr>\n",
       "    <tr>\n",
       "      <th>28744235</th>\n",
       "      <td>2020-07-08</td>\n",
       "      <td>4195624216542755</td>\n",
       "      <td>817417005</td>\n",
       "      <td>0.022864</td>\n",
       "      <td>1</td>\n",
       "      <td>2</td>\n",
       "      <td>-28</td>\n",
       "      <td>7</td>\n",
       "      <td>94</td>\n",
       "    </tr>\n",
       "    <tr>\n",
       "      <th>28753719</th>\n",
       "      <td>2020-07-08</td>\n",
       "      <td>4233235614030232</td>\n",
       "      <td>876986001</td>\n",
       "      <td>0.030492</td>\n",
       "      <td>2</td>\n",
       "      <td>2</td>\n",
       "      <td>-28</td>\n",
       "      <td>7</td>\n",
       "      <td>94</td>\n",
       "    </tr>\n",
       "    <tr>\n",
       "      <th>...</th>\n",
       "      <td>...</td>\n",
       "      <td>...</td>\n",
       "      <td>...</td>\n",
       "      <td>...</td>\n",
       "      <td>...</td>\n",
       "      <td>...</td>\n",
       "      <td>...</td>\n",
       "      <td>...</td>\n",
       "      <td>...</td>\n",
       "    </tr>\n",
       "    <tr>\n",
       "      <th>31521960</th>\n",
       "      <td>2020-09-15</td>\n",
       "      <td>18439897732908966680</td>\n",
       "      <td>794321007</td>\n",
       "      <td>0.061000</td>\n",
       "      <td>2</td>\n",
       "      <td>3</td>\n",
       "      <td>-28</td>\n",
       "      <td>9</td>\n",
       "      <td>103</td>\n",
       "    </tr>\n",
       "    <tr>\n",
       "      <th>31531712</th>\n",
       "      <td>2020-09-15</td>\n",
       "      <td>18444276791873187543</td>\n",
       "      <td>867969008</td>\n",
       "      <td>0.033881</td>\n",
       "      <td>2</td>\n",
       "      <td>3</td>\n",
       "      <td>-28</td>\n",
       "      <td>9</td>\n",
       "      <td>103</td>\n",
       "    </tr>\n",
       "    <tr>\n",
       "      <th>31539937</th>\n",
       "      <td>2020-09-15</td>\n",
       "      <td>18444799607866739422</td>\n",
       "      <td>909721003</td>\n",
       "      <td>0.042356</td>\n",
       "      <td>2</td>\n",
       "      <td>3</td>\n",
       "      <td>-28</td>\n",
       "      <td>9</td>\n",
       "      <td>103</td>\n",
       "    </tr>\n",
       "    <tr>\n",
       "      <th>31543799</th>\n",
       "      <td>2020-09-15</td>\n",
       "      <td>18446250046654386343</td>\n",
       "      <td>869872006</td>\n",
       "      <td>0.033881</td>\n",
       "      <td>1</td>\n",
       "      <td>3</td>\n",
       "      <td>-28</td>\n",
       "      <td>9</td>\n",
       "      <td>103</td>\n",
       "    </tr>\n",
       "    <tr>\n",
       "      <th>31536744</th>\n",
       "      <td>2020-09-15</td>\n",
       "      <td>18446630855572834764</td>\n",
       "      <td>568601045</td>\n",
       "      <td>0.050831</td>\n",
       "      <td>2</td>\n",
       "      <td>3</td>\n",
       "      <td>-28</td>\n",
       "      <td>9</td>\n",
       "      <td>103</td>\n",
       "    </tr>\n",
       "  </tbody>\n",
       "</table>\n",
       "<p>762722 rows × 9 columns</p>\n",
       "</div>"
      ],
      "text/plain": [
       "              t_dat           customer_id  article_id     price  \\\n",
       "28777300 2020-07-08       857913002275398   599580068  0.008458   \n",
       "28787123 2020-07-08      1658289241058394   877773001  0.007610   \n",
       "28788562 2020-07-08      3828854365940846   507883009  0.013542   \n",
       "28744235 2020-07-08      4195624216542755   817417005  0.022864   \n",
       "28753719 2020-07-08      4233235614030232   876986001  0.030492   \n",
       "...             ...                   ...         ...       ...   \n",
       "31521960 2020-09-15  18439897732908966680   794321007  0.061000   \n",
       "31531712 2020-09-15  18444276791873187543   867969008  0.033881   \n",
       "31539937 2020-09-15  18444799607866739422   909721003  0.042356   \n",
       "31543799 2020-09-15  18446250046654386343   869872006  0.033881   \n",
       "31536744 2020-09-15  18446630855572834764   568601045  0.050831   \n",
       "\n",
       "          sales_channel_id  season  year  month  week  \n",
       "28777300                 1       2   -28      7    94  \n",
       "28787123                 1       2   -28      7    94  \n",
       "28788562                 1       2   -28      7    94  \n",
       "28744235                 1       2   -28      7    94  \n",
       "28753719                 2       2   -28      7    94  \n",
       "...                    ...     ...   ...    ...   ...  \n",
       "31521960                 2       3   -28      9   103  \n",
       "31531712                 2       3   -28      9   103  \n",
       "31539937                 2       3   -28      9   103  \n",
       "31543799                 1       3   -28      9   103  \n",
       "31536744                 2       3   -28      9   103  \n",
       "\n",
       "[762722 rows x 9 columns]"
      ]
     },
     "execution_count": 17,
     "metadata": {},
     "output_type": "execute_result"
    }
   ],
   "source": [
    "transactions.drop_duplicates(['week', 'customer_id'])"
   ]
  },
  {
   "cell_type": "code",
   "execution_count": 18,
   "id": "57302a3c",
   "metadata": {
    "execution": {
     "iopub.execute_input": "2023-12-22T01:51:21.539177Z",
     "iopub.status.busy": "2023-12-22T01:51:21.538778Z",
     "iopub.status.idle": "2023-12-22T01:51:22.290869Z",
     "shell.execute_reply": "2023-12-22T01:51:22.289730Z"
    },
    "executionInfo": {
     "elapsed": 939,
     "status": "ok",
     "timestamp": 1699021152392,
     "user": {
      "displayName": "nick wils",
      "userId": "09906672494021070283"
     },
     "user_tz": -60
    },
    "id": "4a23981e",
    "papermill": {
     "duration": 0.778798,
     "end_time": "2023-12-22T01:51:22.293616",
     "exception": false,
     "start_time": "2023-12-22T01:51:21.514818",
     "status": "completed"
    },
    "tags": []
   },
   "outputs": [],
   "source": [
    "candidates_bestsellers = pd.merge(\n",
    "    unique_transactions,\n",
    "    bestsellers_previous_week,\n",
    "    on='week',\n",
    ")"
   ]
  },
  {
   "cell_type": "code",
   "execution_count": 19,
   "id": "3983c555",
   "metadata": {
    "execution": {
     "iopub.execute_input": "2023-12-22T01:51:22.342348Z",
     "iopub.status.busy": "2023-12-22T01:51:22.341931Z",
     "iopub.status.idle": "2023-12-22T01:51:22.396913Z",
     "shell.execute_reply": "2023-12-22T01:51:22.395789Z"
    },
    "executionInfo": {
     "elapsed": 16,
     "status": "ok",
     "timestamp": 1699021152393,
     "user": {
      "displayName": "nick wils",
      "userId": "09906672494021070283"
     },
     "user_tz": -60
    },
    "id": "ad3a9710",
    "papermill": {
     "duration": 0.083094,
     "end_time": "2023-12-22T01:51:22.400122",
     "exception": false,
     "start_time": "2023-12-22T01:51:22.317028",
     "status": "completed"
    },
    "tags": []
   },
   "outputs": [],
   "source": [
    "test_set_transactions = unique_transactions.drop_duplicates('customer_id').reset_index(drop=True)\n",
    "test_set_transactions.week = test_week"
   ]
  },
  {
   "cell_type": "code",
   "execution_count": 20,
   "id": "bdc74b13",
   "metadata": {
    "execution": {
     "iopub.execute_input": "2023-12-22T01:51:22.448559Z",
     "iopub.status.busy": "2023-12-22T01:51:22.447856Z",
     "iopub.status.idle": "2023-12-22T01:51:22.932851Z",
     "shell.execute_reply": "2023-12-22T01:51:22.931657Z"
    },
    "executionInfo": {
     "elapsed": 802,
     "status": "ok",
     "timestamp": 1699021153185,
     "user": {
      "displayName": "nick wils",
      "userId": "09906672494021070283"
     },
     "user_tz": -60
    },
    "id": "9f64b005",
    "papermill": {
     "duration": 0.512895,
     "end_time": "2023-12-22T01:51:22.935972",
     "exception": false,
     "start_time": "2023-12-22T01:51:22.423077",
     "status": "completed"
    },
    "tags": []
   },
   "outputs": [],
   "source": [
    "candidates_bestsellers_test_week = pd.merge(\n",
    "    test_set_transactions,\n",
    "    bestsellers_previous_week,\n",
    "    on='week'\n",
    ")"
   ]
  },
  {
   "cell_type": "code",
   "execution_count": 21,
   "id": "576eaed7",
   "metadata": {
    "execution": {
     "iopub.execute_input": "2023-12-22T01:51:22.984198Z",
     "iopub.status.busy": "2023-12-22T01:51:22.983495Z",
     "iopub.status.idle": "2023-12-22T01:51:22.990560Z",
     "shell.execute_reply": "2023-12-22T01:51:22.989530Z"
    },
    "papermill": {
     "duration": 0.033532,
     "end_time": "2023-12-22T01:51:22.992768",
     "exception": false,
     "start_time": "2023-12-22T01:51:22.959236",
     "status": "completed"
    },
    "tags": []
   },
   "outputs": [
    {
     "data": {
      "text/plain": [
       "Index(['t_dat', 'customer_id', 'sales_channel_id', 'season', 'year', 'month',\n",
       "       'week', 'article_id', 'bestseller_rank', 'price'],\n",
       "      dtype='object')"
      ]
     },
     "execution_count": 21,
     "metadata": {},
     "output_type": "execute_result"
    }
   ],
   "source": [
    "candidates_bestsellers_test_week.columns"
   ]
  },
  {
   "cell_type": "code",
   "execution_count": 22,
   "id": "f04a3947",
   "metadata": {
    "execution": {
     "iopub.execute_input": "2023-12-22T01:51:23.042196Z",
     "iopub.status.busy": "2023-12-22T01:51:23.041513Z",
     "iopub.status.idle": "2023-12-22T01:51:23.840513Z",
     "shell.execute_reply": "2023-12-22T01:51:23.839270Z"
    },
    "executionInfo": {
     "elapsed": 837,
     "status": "ok",
     "timestamp": 1699021154020,
     "user": {
      "displayName": "nick wils",
      "userId": "09906672494021070283"
     },
     "user_tz": -60
    },
    "id": "212b7926",
    "papermill": {
     "duration": 0.826686,
     "end_time": "2023-12-22T01:51:23.843448",
     "exception": false,
     "start_time": "2023-12-22T01:51:23.016762",
     "status": "completed"
    },
    "tags": []
   },
   "outputs": [],
   "source": [
    "candidates_bestsellers = pd.concat([candidates_bestsellers, candidates_bestsellers_test_week])\n",
    "candidates_bestsellers.drop(columns='bestseller_rank', inplace=True)"
   ]
  },
  {
   "cell_type": "code",
   "execution_count": 23,
   "id": "ab7325d6",
   "metadata": {
    "execution": {
     "iopub.execute_input": "2023-12-22T01:51:23.890177Z",
     "iopub.status.busy": "2023-12-22T01:51:23.889794Z",
     "iopub.status.idle": "2023-12-22T01:51:23.896899Z",
     "shell.execute_reply": "2023-12-22T01:51:23.895753Z"
    },
    "papermill": {
     "duration": 0.033331,
     "end_time": "2023-12-22T01:51:23.899361",
     "exception": false,
     "start_time": "2023-12-22T01:51:23.866030",
     "status": "completed"
    },
    "tags": []
   },
   "outputs": [
    {
     "data": {
      "text/plain": [
       "Index(['t_dat', 'customer_id', 'sales_channel_id', 'season', 'year', 'month',\n",
       "       'week', 'article_id', 'price'],\n",
       "      dtype='object')"
      ]
     },
     "execution_count": 23,
     "metadata": {},
     "output_type": "execute_result"
    }
   ],
   "source": [
    "candidates_bestsellers.columns"
   ]
  },
  {
   "cell_type": "markdown",
   "id": "c4104700",
   "metadata": {
    "id": "d5b03292",
    "papermill": {
     "duration": 0.022728,
     "end_time": "2023-12-22T01:51:23.946123",
     "exception": false,
     "start_time": "2023-12-22T01:51:23.923395",
     "status": "completed"
    },
    "tags": []
   },
   "source": [
    "# Combining transactions and candidates / negative examples"
   ]
  },
  {
   "cell_type": "code",
   "execution_count": 24,
   "id": "1e6b2f0b",
   "metadata": {
    "execution": {
     "iopub.execute_input": "2023-12-22T01:51:23.993590Z",
     "iopub.status.busy": "2023-12-22T01:51:23.993180Z",
     "iopub.status.idle": "2023-12-22T01:51:24.000923Z",
     "shell.execute_reply": "2023-12-22T01:51:23.999762Z"
    },
    "executionInfo": {
     "elapsed": 11,
     "status": "ok",
     "timestamp": 1699021154021,
     "user": {
      "displayName": "nick wils",
      "userId": "09906672494021070283"
     },
     "user_tz": -60
    },
    "id": "529196a4",
    "papermill": {
     "duration": 0.034957,
     "end_time": "2023-12-22T01:51:24.003838",
     "exception": false,
     "start_time": "2023-12-22T01:51:23.968881",
     "status": "completed"
    },
    "tags": []
   },
   "outputs": [],
   "source": [
    "transactions['purchased'] = 1"
   ]
  },
  {
   "cell_type": "code",
   "execution_count": 25,
   "id": "0834adbf",
   "metadata": {
    "execution": {
     "iopub.execute_input": "2023-12-22T01:51:24.052500Z",
     "iopub.status.busy": "2023-12-22T01:51:24.052098Z",
     "iopub.status.idle": "2023-12-22T01:51:24.627239Z",
     "shell.execute_reply": "2023-12-22T01:51:24.625993Z"
    },
    "executionInfo": {
     "elapsed": 630,
     "status": "ok",
     "timestamp": 1699021154641,
     "user": {
      "displayName": "nick wils",
      "userId": "09906672494021070283"
     },
     "user_tz": -60
    },
    "id": "421a601e",
    "papermill": {
     "duration": 0.602505,
     "end_time": "2023-12-22T01:51:24.630564",
     "exception": false,
     "start_time": "2023-12-22T01:51:24.028059",
     "status": "completed"
    },
    "tags": []
   },
   "outputs": [],
   "source": [
    "data = pd.concat([transactions, candidates_last_purchase, candidates_bestsellers])\n",
    "data.purchased.fillna(0, inplace=True)"
   ]
  },
  {
   "cell_type": "code",
   "execution_count": 26,
   "id": "040a25f6",
   "metadata": {
    "execution": {
     "iopub.execute_input": "2023-12-22T01:51:24.678626Z",
     "iopub.status.busy": "2023-12-22T01:51:24.678225Z",
     "iopub.status.idle": "2023-12-22T01:51:30.888256Z",
     "shell.execute_reply": "2023-12-22T01:51:30.887349Z"
    },
    "executionInfo": {
     "elapsed": 6444,
     "status": "ok",
     "timestamp": 1699021161077,
     "user": {
      "displayName": "nick wils",
      "userId": "09906672494021070283"
     },
     "user_tz": -60
    },
    "id": "9f4e8cdb",
    "papermill": {
     "duration": 6.236643,
     "end_time": "2023-12-22T01:51:30.890856",
     "exception": false,
     "start_time": "2023-12-22T01:51:24.654213",
     "status": "completed"
    },
    "tags": []
   },
   "outputs": [],
   "source": [
    "data.drop_duplicates(['customer_id', 'article_id', 'week'], inplace=True)"
   ]
  },
  {
   "cell_type": "code",
   "execution_count": 27,
   "id": "5fbf006b",
   "metadata": {
    "execution": {
     "iopub.execute_input": "2023-12-22T01:51:30.939607Z",
     "iopub.status.busy": "2023-12-22T01:51:30.938501Z",
     "iopub.status.idle": "2023-12-22T01:51:30.991623Z",
     "shell.execute_reply": "2023-12-22T01:51:30.990461Z"
    },
    "executionInfo": {
     "elapsed": 39,
     "status": "ok",
     "timestamp": 1699021161080,
     "user": {
      "displayName": "nick wils",
      "userId": "09906672494021070283"
     },
     "user_tz": -60
    },
    "id": "95414c83",
    "outputId": "0aa85517-00f2-45b4-8a4a-1b314d82ffc4",
    "papermill": {
     "duration": 0.08059,
     "end_time": "2023-12-22T01:51:30.994526",
     "exception": false,
     "start_time": "2023-12-22T01:51:30.913936",
     "status": "completed"
    },
    "tags": []
   },
   "outputs": [
    {
     "data": {
      "text/plain": [
       "0.1369278646522875"
      ]
     },
     "execution_count": 27,
     "metadata": {},
     "output_type": "execute_result"
    }
   ],
   "source": [
    "data.purchased.mean()"
   ]
  },
  {
   "cell_type": "markdown",
   "id": "a0114e2e",
   "metadata": {
    "id": "4d35aac7",
    "papermill": {
     "duration": 0.025417,
     "end_time": "2023-12-22T01:51:31.043056",
     "exception": false,
     "start_time": "2023-12-22T01:51:31.017639",
     "status": "completed"
    },
    "tags": []
   },
   "source": [
    "### Add bestseller information"
   ]
  },
  {
   "cell_type": "code",
   "execution_count": 28,
   "id": "3905a7c5",
   "metadata": {
    "execution": {
     "iopub.execute_input": "2023-12-22T01:51:31.091880Z",
     "iopub.status.busy": "2023-12-22T01:51:31.091442Z",
     "iopub.status.idle": "2023-12-22T01:51:33.654972Z",
     "shell.execute_reply": "2023-12-22T01:51:33.653886Z"
    },
    "executionInfo": {
     "elapsed": 3395,
     "status": "ok",
     "timestamp": 1699021164442,
     "user": {
      "displayName": "nick wils",
      "userId": "09906672494021070283"
     },
     "user_tz": -60
    },
    "id": "ab6d0095",
    "papermill": {
     "duration": 2.591617,
     "end_time": "2023-12-22T01:51:33.657621",
     "exception": false,
     "start_time": "2023-12-22T01:51:31.066004",
     "status": "completed"
    },
    "tags": []
   },
   "outputs": [],
   "source": [
    "data = pd.merge(\n",
    "    data,\n",
    "    bestsellers_previous_week[['week', 'article_id', 'bestseller_rank']],\n",
    "    on=['week', 'article_id'],\n",
    "    how='left'\n",
    ")"
   ]
  },
  {
   "cell_type": "code",
   "execution_count": 29,
   "id": "96bb752b",
   "metadata": {
    "execution": {
     "iopub.execute_input": "2023-12-22T01:51:33.705217Z",
     "iopub.status.busy": "2023-12-22T01:51:33.704830Z",
     "iopub.status.idle": "2023-12-22T01:51:35.653640Z",
     "shell.execute_reply": "2023-12-22T01:51:35.652512Z"
    },
    "executionInfo": {
     "elapsed": 2042,
     "status": "ok",
     "timestamp": 1699021166476,
     "user": {
      "displayName": "nick wils",
      "userId": "09906672494021070283"
     },
     "user_tz": -60
    },
    "id": "7b18597e",
    "papermill": {
     "duration": 1.975895,
     "end_time": "2023-12-22T01:51:35.656319",
     "exception": false,
     "start_time": "2023-12-22T01:51:33.680424",
     "status": "completed"
    },
    "tags": []
   },
   "outputs": [],
   "source": [
    "data = data[data.week != data.week.min()]\n",
    "data.bestseller_rank.fillna(999, inplace=True)"
   ]
  },
  {
   "cell_type": "code",
   "execution_count": 30,
   "id": "a45ddcea",
   "metadata": {
    "execution": {
     "iopub.execute_input": "2023-12-22T01:51:35.704583Z",
     "iopub.status.busy": "2023-12-22T01:51:35.704170Z",
     "iopub.status.idle": "2023-12-22T01:51:54.720924Z",
     "shell.execute_reply": "2023-12-22T01:51:54.719599Z"
    },
    "executionInfo": {
     "elapsed": 12548,
     "status": "ok",
     "timestamp": 1699021179017,
     "user": {
      "displayName": "nick wils",
      "userId": "09906672494021070283"
     },
     "user_tz": -60
    },
    "id": "7d9bb629",
    "papermill": {
     "duration": 19.044323,
     "end_time": "2023-12-22T01:51:54.723864",
     "exception": false,
     "start_time": "2023-12-22T01:51:35.679541",
     "status": "completed"
    },
    "tags": []
   },
   "outputs": [],
   "source": [
    "data = pd.merge(data, articles, on='article_id', how='left')\n",
    "data = pd.merge(data, customers, on='customer_id', how='left')"
   ]
  },
  {
   "cell_type": "code",
   "execution_count": null,
   "id": "a34753e7",
   "metadata": {
    "papermill": {
     "duration": 0.022402,
     "end_time": "2023-12-22T01:51:54.769678",
     "exception": false,
     "start_time": "2023-12-22T01:51:54.747276",
     "status": "completed"
    },
    "tags": []
   },
   "outputs": [],
   "source": []
  },
  {
   "cell_type": "code",
   "execution_count": 31,
   "id": "eff1edbd",
   "metadata": {
    "execution": {
     "iopub.execute_input": "2023-12-22T01:51:54.816940Z",
     "iopub.status.busy": "2023-12-22T01:51:54.816480Z",
     "iopub.status.idle": "2023-12-22T01:52:05.616131Z",
     "shell.execute_reply": "2023-12-22T01:52:05.614806Z"
    },
    "executionInfo": {
     "elapsed": 7950,
     "status": "ok",
     "timestamp": 1699021186933,
     "user": {
      "displayName": "nick wils",
      "userId": "09906672494021070283"
     },
     "user_tz": -60
    },
    "id": "1560db63",
    "papermill": {
     "duration": 10.826866,
     "end_time": "2023-12-22T01:52:05.619072",
     "exception": false,
     "start_time": "2023-12-22T01:51:54.792206",
     "status": "completed"
    },
    "tags": []
   },
   "outputs": [],
   "source": [
    "data.sort_values(['week', 'customer_id'], inplace=True)\n",
    "data.reset_index(drop=True, inplace=True)"
   ]
  },
  {
   "cell_type": "code",
   "execution_count": 32,
   "id": "42f32241",
   "metadata": {
    "execution": {
     "iopub.execute_input": "2023-12-22T01:52:05.667011Z",
     "iopub.status.busy": "2023-12-22T01:52:05.666617Z",
     "iopub.status.idle": "2023-12-22T01:52:18.165475Z",
     "shell.execute_reply": "2023-12-22T01:52:18.164271Z"
    },
    "executionInfo": {
     "elapsed": 5910,
     "status": "ok",
     "timestamp": 1699021192840,
     "user": {
      "displayName": "nick wils",
      "userId": "09906672494021070283"
     },
     "user_tz": -60
    },
    "id": "05114189",
    "papermill": {
     "duration": 12.526332,
     "end_time": "2023-12-22T01:52:18.168599",
     "exception": false,
     "start_time": "2023-12-22T01:52:05.642267",
     "status": "completed"
    },
    "tags": []
   },
   "outputs": [],
   "source": [
    "train = data[data.week != test_week]\n",
    "test = data[data.week==test_week].drop_duplicates(['customer_id', 'article_id', 'sales_channel_id']).copy()"
   ]
  },
  {
   "cell_type": "code",
   "execution_count": 33,
   "id": "38fc8513",
   "metadata": {
    "execution": {
     "iopub.execute_input": "2023-12-22T01:52:18.216472Z",
     "iopub.status.busy": "2023-12-22T01:52:18.215778Z",
     "iopub.status.idle": "2023-12-22T01:52:19.116253Z",
     "shell.execute_reply": "2023-12-22T01:52:19.114788Z"
    },
    "executionInfo": {
     "elapsed": 996,
     "status": "ok",
     "timestamp": 1699021193784,
     "user": {
      "displayName": "nick wils",
      "userId": "09906672494021070283"
     },
     "user_tz": -60
    },
    "id": "d32dfd01",
    "papermill": {
     "duration": 0.927703,
     "end_time": "2023-12-22T01:52:19.119103",
     "exception": false,
     "start_time": "2023-12-22T01:52:18.191400",
     "status": "completed"
    },
    "tags": []
   },
   "outputs": [],
   "source": [
    "train_baskets = train.groupby(['week', 'customer_id'])['article_id'].count().values"
   ]
  },
  {
   "cell_type": "code",
   "execution_count": 34,
   "id": "5018d96e",
   "metadata": {
    "execution": {
     "iopub.execute_input": "2023-12-22T01:52:19.168120Z",
     "iopub.status.busy": "2023-12-22T01:52:19.167308Z",
     "iopub.status.idle": "2023-12-22T01:52:19.173539Z",
     "shell.execute_reply": "2023-12-22T01:52:19.172741Z"
    },
    "executionInfo": {
     "elapsed": 11,
     "status": "ok",
     "timestamp": 1699021193785,
     "user": {
      "displayName": "nick wils",
      "userId": "09906672494021070283"
     },
     "user_tz": -60
    },
    "id": "2b027da8",
    "papermill": {
     "duration": 0.033039,
     "end_time": "2023-12-22T01:52:19.175969",
     "exception": false,
     "start_time": "2023-12-22T01:52:19.142930",
     "status": "completed"
    },
    "tags": []
   },
   "outputs": [],
   "source": [
    "columns_to_use = ['article_id', 'product_type_no', 'graphical_appearance_no', 'colour_group_code', 'perceived_colour_value_id',\n",
    "'perceived_colour_master_id', 'department_no', 'index_code',\n",
    "'index_group_no', 'section_no', 'garment_group_no', 'FN', 'Active',\n",
    "'club_member_status', 'fashion_news_frequency', 'age', 'postal_code', 'bestseller_rank',\n",
    "'buys_womens_clothing', 'buys_mens_clothes', 'buys_kid_baby_clothes']\n",
    "#  'year', 'month',"
   ]
  },
  {
   "cell_type": "code",
   "execution_count": 35,
   "id": "15e94a6b",
   "metadata": {
    "execution": {
     "iopub.execute_input": "2023-12-22T01:52:19.224742Z",
     "iopub.status.busy": "2023-12-22T01:52:19.224293Z",
     "iopub.status.idle": "2023-12-22T01:52:19.965302Z",
     "shell.execute_reply": "2023-12-22T01:52:19.963753Z"
    },
    "executionInfo": {
     "elapsed": 884,
     "status": "ok",
     "timestamp": 1699021194659,
     "user": {
      "displayName": "nick wils",
      "userId": "09906672494021070283"
     },
     "user_tz": -60
    },
    "id": "120aecab",
    "outputId": "ac17e6b9-f070-44a7-a804-861394e9d164",
    "papermill": {
     "duration": 0.771875,
     "end_time": "2023-12-22T01:52:19.970608",
     "exception": false,
     "start_time": "2023-12-22T01:52:19.198733",
     "status": "completed"
    },
    "tags": []
   },
   "outputs": [
    {
     "name": "stdout",
     "output_type": "stream",
     "text": [
      "CPU times: user 463 ms, sys: 269 ms, total: 732 ms\n",
      "Wall time: 734 ms\n"
     ]
    }
   ],
   "source": [
    "%%time\n",
    "\n",
    "train_X = train[columns_to_use]\n",
    "train_y = train['purchased']\n",
    "\n",
    "test_X = test[columns_to_use]"
   ]
  },
  {
   "cell_type": "markdown",
   "id": "670413ed",
   "metadata": {
    "id": "82745ed2",
    "papermill": {
     "duration": 0.024299,
     "end_time": "2023-12-22T01:52:20.020082",
     "exception": false,
     "start_time": "2023-12-22T01:52:19.995783",
     "status": "completed"
    },
    "tags": []
   },
   "source": [
    "# Model training"
   ]
  },
  {
   "cell_type": "code",
   "execution_count": 36,
   "id": "542e399e",
   "metadata": {
    "execution": {
     "iopub.execute_input": "2023-12-22T01:52:20.069556Z",
     "iopub.status.busy": "2023-12-22T01:52:20.068445Z",
     "iopub.status.idle": "2023-12-22T01:52:21.496425Z",
     "shell.execute_reply": "2023-12-22T01:52:21.495330Z"
    },
    "executionInfo": {
     "elapsed": 1538,
     "status": "ok",
     "timestamp": 1699021196194,
     "user": {
      "displayName": "nick wils",
      "userId": "09906672494021070283"
     },
     "user_tz": -60
    },
    "id": "1e949a9d",
    "papermill": {
     "duration": 1.456042,
     "end_time": "2023-12-22T01:52:21.499269",
     "exception": false,
     "start_time": "2023-12-22T01:52:20.043227",
     "status": "completed"
    },
    "tags": []
   },
   "outputs": [],
   "source": [
    "from lightgbm.sklearn import LGBMRanker\n",
    "from tqdm import tqdm\n"
   ]
  },
  {
   "cell_type": "code",
   "execution_count": 37,
   "id": "b3c5b9c8",
   "metadata": {
    "execution": {
     "iopub.execute_input": "2023-12-22T01:52:21.547233Z",
     "iopub.status.busy": "2023-12-22T01:52:21.546829Z",
     "iopub.status.idle": "2023-12-22T01:52:21.552190Z",
     "shell.execute_reply": "2023-12-22T01:52:21.550935Z"
    },
    "executionInfo": {
     "elapsed": 4,
     "status": "ok",
     "timestamp": 1699021196194,
     "user": {
      "displayName": "nick wils",
      "userId": "09906672494021070283"
     },
     "user_tz": -60
    },
    "id": "cd60dded",
    "papermill": {
     "duration": 0.032392,
     "end_time": "2023-12-22T01:52:21.554787",
     "exception": false,
     "start_time": "2023-12-22T01:52:21.522395",
     "status": "completed"
    },
    "tags": []
   },
   "outputs": [],
   "source": [
    "ranker = LGBMRanker(\n",
    "    objective=\"lambdarank\",\n",
    "    metric=\"ndcg\",\n",
    "    boosting_type=\"dart\",\n",
    "    n_estimators=1,\n",
    "    importance_type='gain',\n",
    "    verbose=10\n",
    ")"
   ]
  },
  {
   "cell_type": "code",
   "execution_count": 38,
   "id": "c0e255b8",
   "metadata": {
    "execution": {
     "iopub.execute_input": "2023-12-22T01:52:21.604303Z",
     "iopub.status.busy": "2023-12-22T01:52:21.603891Z",
     "iopub.status.idle": "2023-12-22T01:52:33.809470Z",
     "shell.execute_reply": "2023-12-22T01:52:33.808679Z"
    },
    "id": "25f040a4",
    "papermill": {
     "duration": 12.233845,
     "end_time": "2023-12-22T01:52:33.811847",
     "exception": false,
     "start_time": "2023-12-22T01:52:21.578002",
     "status": "completed"
    },
    "tags": []
   },
   "outputs": [
    {
     "name": "stdout",
     "output_type": "stream",
     "text": [
      "[LightGBM] [Debug] Dataset::GetMultiBinFromSparseFeatures: sparse rate 0.875538\n",
      "[LightGBM] [Debug] Dataset::GetMultiBinFromAllFeatures: sparse rate 0.309410\n",
      "[LightGBM] [Debug] init for col-wise cost 0.401617 seconds, init for row-wise cost 2.642108 seconds\n",
      "[LightGBM] [Warning] Auto-choosing row-wise multi-threading, the overhead of testing was 0.887117 seconds.\n",
      "You can set `force_row_wise=true` to remove the overhead.\n",
      "And if memory is not enough, you can set `force_col_wise=true`.\n",
      "[LightGBM] [Debug] Using Sparse Multi-Val Bin\n",
      "[LightGBM] [Info] Total Bins 1152\n",
      "[LightGBM] [Info] Number of data points in the train set: 11557594, number of used features: 21\n",
      "[LightGBM] [Debug] Trained a tree with leaves = 31 and depth = 12\n",
      "CPU times: user 32.5 s, sys: 2.22 s, total: 34.7 s\n",
      "Wall time: 12.2 s\n"
     ]
    }
   ],
   "source": [
    "%%time\n",
    "\n",
    "ranker = ranker.fit(\n",
    "    train_X,\n",
    "    train_y,\n",
    "    group=train_baskets,\n",
    ")"
   ]
  },
  {
   "cell_type": "code",
   "execution_count": 39,
   "id": "8592d040",
   "metadata": {
    "execution": {
     "iopub.execute_input": "2023-12-22T01:52:33.861832Z",
     "iopub.status.busy": "2023-12-22T01:52:33.860981Z",
     "iopub.status.idle": "2023-12-22T01:52:33.869465Z",
     "shell.execute_reply": "2023-12-22T01:52:33.867921Z"
    },
    "id": "4b6b5a94",
    "papermill": {
     "duration": 0.036642,
     "end_time": "2023-12-22T01:52:33.871999",
     "exception": false,
     "start_time": "2023-12-22T01:52:33.835357",
     "status": "completed"
    },
    "tags": []
   },
   "outputs": [
    {
     "name": "stdout",
     "output_type": "stream",
     "text": [
      "bestseller_rank 0.9986831977191895\n",
      "buys_kid_baby_clothes 0.000448768279366918\n",
      "article_id 0.00028685058433633947\n",
      "buys_mens_clothes 0.00015437483283531055\n",
      "age 0.00013802905588662434\n",
      "product_type_no 5.086142721963031e-05\n",
      "club_member_status 4.3759893618657776e-05\n",
      "postal_code 4.131216320652104e-05\n",
      "department_no 4.112576253030648e-05\n",
      "garment_group_no 4.090274388052675e-05\n",
      "colour_group_code 3.490940925686682e-05\n",
      "index_group_no 2.264537974168692e-05\n",
      "perceived_colour_value_id 1.3262748931176935e-05\n",
      "section_no 0.0\n",
      "index_code 0.0\n",
      "FN 0.0\n",
      "perceived_colour_master_id 0.0\n",
      "Active 0.0\n",
      "graphical_appearance_no 0.0\n",
      "fashion_news_frequency 0.0\n",
      "buys_womens_clothing 0.0\n"
     ]
    }
   ],
   "source": [
    "for i in ranker.feature_importances_.argsort()[::-1]:\n",
    "    print(columns_to_use[i], ranker.feature_importances_[i]/ranker.feature_importances_.sum())"
   ]
  },
  {
   "cell_type": "markdown",
   "id": "77d7095b",
   "metadata": {
    "id": "00faf029",
    "papermill": {
     "duration": 0.023515,
     "end_time": "2023-12-22T01:52:33.919261",
     "exception": false,
     "start_time": "2023-12-22T01:52:33.895746",
     "status": "completed"
    },
    "tags": []
   },
   "source": [
    "# Calculate predictions"
   ]
  },
  {
   "cell_type": "code",
   "execution_count": 40,
   "id": "a6adb667",
   "metadata": {
    "execution": {
     "iopub.execute_input": "2023-12-22T01:52:33.968181Z",
     "iopub.status.busy": "2023-12-22T01:52:33.967768Z",
     "iopub.status.idle": "2023-12-22T01:52:59.161778Z",
     "shell.execute_reply": "2023-12-22T01:52:59.160632Z"
    },
    "id": "7e862846",
    "papermill": {
     "duration": 25.221886,
     "end_time": "2023-12-22T01:52:59.164666",
     "exception": false,
     "start_time": "2023-12-22T01:52:33.942780",
     "status": "completed"
    },
    "tags": []
   },
   "outputs": [
    {
     "name": "stdout",
     "output_type": "stream",
     "text": [
      "CPU times: user 3 µs, sys: 0 ns, total: 3 µs\n",
      "Wall time: 8.34 µs\n"
     ]
    }
   ],
   "source": [
    "%time\n",
    "\n",
    "test['preds'] = ranker.predict(test_X)\n",
    "\n",
    "c_id2predicted_article_ids = test \\\n",
    "    .sort_values(['customer_id', 'preds'], ascending=False) \\\n",
    "    .groupby('customer_id')['article_id'].apply(list).to_dict()\n",
    "\n",
    "bestsellers_last_week = \\\n",
    "    bestsellers_previous_week[bestsellers_previous_week.week == bestsellers_previous_week.week.max()]['article_id'].tolist()"
   ]
  },
  {
   "cell_type": "markdown",
   "id": "3a1cf099",
   "metadata": {
    "id": "de045e98",
    "papermill": {
     "duration": 0.02355,
     "end_time": "2023-12-22T01:52:59.212179",
     "exception": false,
     "start_time": "2023-12-22T01:52:59.188629",
     "status": "completed"
    },
    "tags": []
   },
   "source": [
    "# Create submission"
   ]
  },
  {
   "cell_type": "code",
   "execution_count": 41,
   "id": "f369f09f",
   "metadata": {
    "execution": {
     "iopub.execute_input": "2023-12-22T01:52:59.262894Z",
     "iopub.status.busy": "2023-12-22T01:52:59.262495Z",
     "iopub.status.idle": "2023-12-22T01:53:04.552191Z",
     "shell.execute_reply": "2023-12-22T01:53:04.551113Z"
    },
    "id": "43e4fda7",
    "papermill": {
     "duration": 5.31829,
     "end_time": "2023-12-22T01:53:04.554961",
     "exception": false,
     "start_time": "2023-12-22T01:52:59.236671",
     "status": "completed"
    },
    "tags": []
   },
   "outputs": [],
   "source": [
    "sub = pd.read_csv('/kaggle/input/h-and-m-personalized-fashion-recommendations/sample_submission.csv')"
   ]
  },
  {
   "cell_type": "code",
   "execution_count": 42,
   "id": "58f816e3",
   "metadata": {
    "execution": {
     "iopub.execute_input": "2023-12-22T01:53:04.608018Z",
     "iopub.status.busy": "2023-12-22T01:53:04.607289Z",
     "iopub.status.idle": "2023-12-22T01:53:17.850332Z",
     "shell.execute_reply": "2023-12-22T01:53:17.849464Z"
    },
    "id": "a35ac969",
    "papermill": {
     "duration": 13.272795,
     "end_time": "2023-12-22T01:53:17.852978",
     "exception": false,
     "start_time": "2023-12-22T01:53:04.580183",
     "status": "completed"
    },
    "tags": []
   },
   "outputs": [
    {
     "name": "stdout",
     "output_type": "stream",
     "text": [
      "CPU times: user 12.9 s, sys: 281 ms, total: 13.2 s\n",
      "Wall time: 13.2 s\n"
     ]
    }
   ],
   "source": [
    "%%time\n",
    "preds = []\n",
    "predsval = []\n",
    "positive_items_val = val.groupby(['customer_id'])['article_id'].apply(list)\n",
    "# creating validation set for metrics use case\n",
    "val_users = positive_items_val.keys()\n",
    "val_items = []\n",
    "\n",
    "for c_id in customer_hex_id_to_int(sub.customer_id):\n",
    "    pred = c_id2predicted_article_ids.get(c_id, [])\n",
    "    pred = pred + bestsellers_last_week\n",
    "    preds.append(pred[:12])\n",
    "    if c_id in val_users:\n",
    "\n",
    "        predsval.append(pred[:12])\n",
    "        val_items.append(positive_items_val[c_id])"
   ]
  },
  {
   "cell_type": "code",
   "execution_count": 43,
   "id": "a1716e33",
   "metadata": {
    "execution": {
     "iopub.execute_input": "2023-12-22T01:53:17.903079Z",
     "iopub.status.busy": "2023-12-22T01:53:17.902638Z",
     "iopub.status.idle": "2023-12-22T01:53:18.527085Z",
     "shell.execute_reply": "2023-12-22T01:53:18.525881Z"
    },
    "papermill": {
     "duration": 0.652347,
     "end_time": "2023-12-22T01:53:18.529566",
     "exception": false,
     "start_time": "2023-12-22T01:53:17.877219",
     "status": "completed"
    },
    "tags": []
   },
   "outputs": [
    {
     "name": "stdout",
     "output_type": "stream",
     "text": [
      "Total users in validation: 68984\n",
      "mAP12 Score on Validation set: 0.006754732864361758\n",
      "precision Score on Validation set: 0.005327322277629595\n",
      "recall Score on Validation set: 0.021549200506863587\n"
     ]
    }
   ],
   "source": [
    "if Testting:\n",
    "    print(\"Total users in validation:\", len(val_users))\n",
    "    print(\"mAP12 Score on Validation set:\", mapk(val_items, preds))\n",
    "    print(\"precision Score on Validation set:\", precision12(val_items, preds))\n",
    "    print(\"recall Score on Validation set:\", recall12(val_items, preds))"
   ]
  },
  {
   "cell_type": "code",
   "execution_count": 44,
   "id": "8fd90bbf",
   "metadata": {
    "execution": {
     "iopub.execute_input": "2023-12-22T01:53:18.580530Z",
     "iopub.status.busy": "2023-12-22T01:53:18.580068Z",
     "iopub.status.idle": "2023-12-22T01:53:26.107267Z",
     "shell.execute_reply": "2023-12-22T01:53:26.106163Z"
    },
    "id": "3f8f9304",
    "papermill": {
     "duration": 7.555583,
     "end_time": "2023-12-22T01:53:26.110146",
     "exception": false,
     "start_time": "2023-12-22T01:53:18.554563",
     "status": "completed"
    },
    "tags": []
   },
   "outputs": [],
   "source": [
    "preds = [' '.join(['0' + str(p) for p in ps]) for ps in preds]\n",
    "sub.prediction = preds"
   ]
  },
  {
   "cell_type": "code",
   "execution_count": 45,
   "id": "5e21860b",
   "metadata": {
    "execution": {
     "iopub.execute_input": "2023-12-22T01:53:26.161048Z",
     "iopub.status.busy": "2023-12-22T01:53:26.160596Z",
     "iopub.status.idle": "2023-12-22T01:53:57.735758Z",
     "shell.execute_reply": "2023-12-22T01:53:57.734850Z"
    },
    "id": "62d8338d",
    "papermill": {
     "duration": 31.603715,
     "end_time": "2023-12-22T01:53:57.738395",
     "exception": false,
     "start_time": "2023-12-22T01:53:26.134680",
     "status": "completed"
    },
    "tags": []
   },
   "outputs": [],
   "source": [
    "sub_name = 'candidateRadekRepurchase_oldBestseller'\n",
    "sub.to_csv(f'{sub_name}.csv.gz', index=False)"
   ]
  }
 ],
 "metadata": {
  "kaggle": {
   "accelerator": "none",
   "dataSources": [
    {
     "databundleVersionId": 3103714,
     "sourceId": 31254,
     "sourceType": "competition"
    },
    {
     "datasetId": 3950161,
     "sourceId": 6874227,
     "sourceType": "datasetVersion"
    },
    {
     "datasetId": 3950274,
     "sourceId": 6874424,
     "sourceType": "datasetVersion"
    },
    {
     "datasetId": 3954698,
     "sourceId": 6883243,
     "sourceType": "datasetVersion"
    },
    {
     "sourceId": 149573710,
     "sourceType": "kernelVersion"
    }
   ],
   "dockerImageVersionId": 30587,
   "isGpuEnabled": false,
   "isInternetEnabled": true,
   "language": "python",
   "sourceType": "notebook"
  },
  "kernelspec": {
   "display_name": "Python 3",
   "language": "python",
   "name": "python3"
  },
  "language_info": {
   "codemirror_mode": {
    "name": "ipython",
    "version": 3
   },
   "file_extension": ".py",
   "mimetype": "text/x-python",
   "name": "python",
   "nbconvert_exporter": "python",
   "pygments_lexer": "ipython3",
   "version": "3.10.12"
  },
  "papermill": {
   "default_parameters": {},
   "duration": 255.841771,
   "end_time": "2023-12-22T01:54:00.588570",
   "environment_variables": {},
   "exception": null,
   "input_path": "__notebook__.ipynb",
   "output_path": "__notebook__.ipynb",
   "parameters": {},
   "start_time": "2023-12-22T01:49:44.746799",
   "version": "2.4.0"
  }
 },
 "nbformat": 4,
 "nbformat_minor": 5
}
