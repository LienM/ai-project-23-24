{
 "cells": [
  {
   "cell_type": "markdown",
   "id": "38125765",
   "metadata": {
    "id": "6f21ab04",
    "papermill": {
     "duration": 0.014541,
     "end_time": "2023-12-22T01:55:15.141496",
     "exception": false,
     "start_time": "2023-12-22T01:55:15.126955",
     "status": "completed"
    },
    "tags": []
   },
   "source": [
    "Based on the baseline \"Radek's LGBMRanker starter-pack”: https://www.kaggle.com/code/marcogorelli/radek-s-lgbmranker-starter-pack\n"
   ]
  },
  {
   "cell_type": "markdown",
   "id": "53f4a482",
   "metadata": {
    "papermill": {
     "duration": 0.013908,
     "end_time": "2023-12-22T01:55:15.169650",
     "exception": false,
     "start_time": "2023-12-22T01:55:15.155742",
     "status": "completed"
    },
    "tags": []
   },
   "source": [
    "# Helper functions"
   ]
  },
  {
   "cell_type": "code",
   "execution_count": 1,
   "id": "c9c14068",
   "metadata": {
    "execution": {
     "iopub.execute_input": "2023-12-22T01:55:15.200080Z",
     "iopub.status.busy": "2023-12-22T01:55:15.199571Z",
     "iopub.status.idle": "2023-12-22T01:55:15.217218Z",
     "shell.execute_reply": "2023-12-22T01:55:15.215580Z"
    },
    "executionInfo": {
     "elapsed": 8,
     "status": "ok",
     "timestamp": 1699021070415,
     "user": {
      "displayName": "nick wils",
      "userId": "09906672494021070283"
     },
     "user_tz": -60
    },
    "id": "4a7e7212",
    "papermill": {
     "duration": 0.036223,
     "end_time": "2023-12-22T01:55:15.220022",
     "exception": false,
     "start_time": "2023-12-22T01:55:15.183799",
     "status": "completed"
    },
    "tags": []
   },
   "outputs": [],
   "source": [
    "import numpy as np\n",
    "\n",
    "def apk(actual, predicted, k=12):\n",
    "    \"\"\"\n",
    "    Computes the average precision at k.\n",
    "\n",
    "    This function computes the average prescision at k between two lists of\n",
    "    items.\n",
    "\n",
    "    Parameters\n",
    "    ----------\n",
    "    actual : list\n",
    "             A list of elements that are to be predicted (order doesn't matter)\n",
    "    predicted : list\n",
    "                A list of predicted elements (order does matter)\n",
    "    k : int, optional\n",
    "        The maximum number of predicted elements\n",
    "\n",
    "    Returns\n",
    "    -------\n",
    "    score : double\n",
    "            The average precision at k over the input lists\n",
    "\n",
    "    \"\"\"\n",
    "    if len(predicted)>k:\n",
    "        predicted = predicted[:k]\n",
    "\n",
    "    score = 0.0\n",
    "    num_hits = 0.0\n",
    "\n",
    "    for i,p in enumerate(predicted):\n",
    "        if p in actual and p not in predicted[:i]:\n",
    "            num_hits += 1.0\n",
    "            score += num_hits / (i+1.0)\n",
    "\n",
    "    if not actual:\n",
    "        return 0.0\n",
    "\n",
    "    return score / min(len(actual), k)\n",
    "\n",
    "def mapk(actual, predicted, k=12):\n",
    "    \"\"\"\n",
    "    Computes the mean average precision at k.\n",
    "\n",
    "    This function computes the mean average prescision at k between two lists\n",
    "    of lists of items.\n",
    "\n",
    "    Parameters\n",
    "    ----------\n",
    "    actual : list\n",
    "             A list of lists of elements that are to be predicted\n",
    "             (order doesn't matter in the lists)\n",
    "    predicted : list\n",
    "                A list of lists of predicted elements\n",
    "                (order matters in the lists)\n",
    "    k : int, optional\n",
    "        The maximum number of predicted elements\n",
    "\n",
    "    Returns\n",
    "    -------\n",
    "    score : double\n",
    "            The mean average precision at k over the input lists\n",
    "\n",
    "    \"\"\"\n",
    "    return np.mean([apk(a,p,k) for a,p in zip(actual, predicted)])"
   ]
  },
  {
   "cell_type": "code",
   "execution_count": 2,
   "id": "8be52e64",
   "metadata": {
    "execution": {
     "iopub.execute_input": "2023-12-22T01:55:15.250573Z",
     "iopub.status.busy": "2023-12-22T01:55:15.250084Z",
     "iopub.status.idle": "2023-12-22T01:55:15.259965Z",
     "shell.execute_reply": "2023-12-22T01:55:15.258588Z"
    },
    "papermill": {
     "duration": 0.028571,
     "end_time": "2023-12-22T01:55:15.262915",
     "exception": false,
     "start_time": "2023-12-22T01:55:15.234344",
     "status": "completed"
    },
    "tags": []
   },
   "outputs": [],
   "source": [
    "def precision(actual, predicted, k=12):\n",
    "    if len(predicted) > k:\n",
    "        predicted = predicted[:k]\n",
    "\n",
    "    correct_predictions = [p for p in predicted if p in actual]\n",
    "\n",
    "    return len(correct_predictions) / len(predicted)\n",
    "\n",
    "def recall(actual, predicted, k=12):\n",
    "    if len(predicted) > k:\n",
    "        predicted = predicted[:k]\n",
    "\n",
    "    correct_predictions = [p for p in predicted if p in actual]\n",
    "\n",
    "    return len(correct_predictions) / len(actual)\n",
    "\n",
    "def precision12(actual, predicted, k=12):\n",
    "    return np.mean([precision(a,p,k) for a,p in zip(actual, predicted)])\n",
    "\n",
    "def recall12(actual, predicted, k=12):\n",
    "    return np.mean([recall(a,p,k) for a,p in zip(actual, predicted)])"
   ]
  },
  {
   "cell_type": "code",
   "execution_count": 3,
   "id": "b582e074",
   "metadata": {
    "execution": {
     "iopub.execute_input": "2023-12-22T01:55:15.298290Z",
     "iopub.status.busy": "2023-12-22T01:55:15.297834Z",
     "iopub.status.idle": "2023-12-22T01:55:16.583625Z",
     "shell.execute_reply": "2023-12-22T01:55:16.582509Z"
    },
    "executionInfo": {
     "elapsed": 1622,
     "status": "ok",
     "timestamp": 1699021072031,
     "user": {
      "displayName": "nick wils",
      "userId": "09906672494021070283"
     },
     "user_tz": -60
    },
    "id": "85ef6566",
    "papermill": {
     "duration": 1.307671,
     "end_time": "2023-12-22T01:55:16.586741",
     "exception": false,
     "start_time": "2023-12-22T01:55:15.279070",
     "status": "completed"
    },
    "tags": []
   },
   "outputs": [],
   "source": [
    "from sklearn.base import BaseEstimator, TransformerMixin\n",
    "import numpy as np\n",
    "\n",
    "# https://www.kaggle.com/c/h-and-m-personalized-fashion-recommendations/discussion/308635\n",
    "def customer_hex_id_to_int(series):\n",
    "    return series.str[-16:].apply(hex_id_to_int)\n",
    "\n",
    "def hex_id_to_int(str):\n",
    "    return int(str[-16:], 16)\n",
    "\n",
    "def article_id_str_to_int(series):\n",
    "    return series.astype('int32')\n",
    "\n",
    "def article_id_int_to_str(series):\n",
    "    return '0' + series.astype('str')\n",
    "\n",
    "class Categorize(BaseEstimator, TransformerMixin):\n",
    "    def __init__(self, min_examples=0):\n",
    "        self.min_examples = min_examples\n",
    "        self.categories = []\n",
    "\n",
    "    def fit(self, X):\n",
    "        for i in range(X.shape[1]):\n",
    "            vc = X.iloc[:, i].value_counts()\n",
    "            self.categories.append(vc[vc > self.min_examples].index.tolist())\n",
    "        return self\n",
    "\n",
    "    def transform(self, X):\n",
    "        data = {X.columns[i]: pd.Categorical(X.iloc[:, i], categories=self.categories[i]).codes for i in range(X.shape[1])}\n",
    "        return pd.DataFrame(data=data)\n",
    "\n",
    "\n",
    "def calculate_apk(list_of_preds, list_of_gts):\n",
    "    # for fast validation this can be changed to operate on dicts of {'cust_id_int': [art_id_int, ...]}\n",
    "    # using 'data/val_week_purchases_by_cust.pkl'\n",
    "    apks = []\n",
    "    for preds, gt in zip(list_of_preds, list_of_gts):\n",
    "        apks.append(apk(gt, preds, k=12))\n",
    "    return np.mean(apks)\n",
    "\n",
    "def eval_sub(sub_csv, skip_cust_with_no_purchases=True):\n",
    "    sub=pd.read_csv(sub_csv)\n",
    "    validation_set=pd.read_parquet('data/validation_ground_truth.parquet')\n",
    "\n",
    "    apks = []\n",
    "\n",
    "    no_purchases_pattern = []\n",
    "    for pred, gt in zip(sub.prediction.str.split(), validation_set.prediction.str.split()):\n",
    "        if skip_cust_with_no_purchases and (gt == no_purchases_pattern): continue\n",
    "        apks.append(apk(gt, pred, k=12))\n",
    "    return np.mean(apks)"
   ]
  },
  {
   "cell_type": "code",
   "execution_count": 4,
   "id": "1a34c64c",
   "metadata": {
    "execution": {
     "iopub.execute_input": "2023-12-22T01:55:16.628804Z",
     "iopub.status.busy": "2023-12-22T01:55:16.627930Z",
     "iopub.status.idle": "2023-12-22T01:55:17.601289Z",
     "shell.execute_reply": "2023-12-22T01:55:17.599965Z"
    },
    "executionInfo": {
     "elapsed": 1009,
     "status": "ok",
     "timestamp": 1699021073032,
     "user": {
      "displayName": "nick wils",
      "userId": "09906672494021070283"
     },
     "user_tz": -60
    },
    "id": "78c7a34c",
    "papermill": {
     "duration": 1.000757,
     "end_time": "2023-12-22T01:55:17.605081",
     "exception": false,
     "start_time": "2023-12-22T01:55:16.604324",
     "status": "completed"
    },
    "tags": []
   },
   "outputs": [],
   "source": [
    "import pandas as pd"
   ]
  },
  {
   "cell_type": "markdown",
   "id": "79b381ef",
   "metadata": {
    "papermill": {
     "duration": 0.015715,
     "end_time": "2023-12-22T01:55:17.636905",
     "exception": false,
     "start_time": "2023-12-22T01:55:17.621190",
     "status": "completed"
    },
    "tags": []
   },
   "source": [
    "# Read input files"
   ]
  },
  {
   "cell_type": "code",
   "execution_count": 5,
   "id": "4320592c",
   "metadata": {
    "execution": {
     "iopub.execute_input": "2023-12-22T01:55:17.673747Z",
     "iopub.status.busy": "2023-12-22T01:55:17.672460Z",
     "iopub.status.idle": "2023-12-22T01:55:23.708271Z",
     "shell.execute_reply": "2023-12-22T01:55:23.706076Z"
    },
    "executionInfo": {
     "elapsed": 10386,
     "status": "ok",
     "timestamp": 1699021083403,
     "user": {
      "displayName": "nick wils",
      "userId": "09906672494021070283"
     },
     "user_tz": -60
    },
    "id": "af847e1a",
    "outputId": "3cbfb68d-34ad-434e-8246-c093b7fedffd",
    "papermill": {
     "duration": 6.057343,
     "end_time": "2023-12-22T01:55:23.711198",
     "exception": false,
     "start_time": "2023-12-22T01:55:17.653855",
     "status": "completed"
    },
    "tags": []
   },
   "outputs": [
    {
     "name": "stdout",
     "output_type": "stream",
     "text": [
      "CPU times: user 3.67 s, sys: 4.38 s, total: 8.05 s\n",
      "Wall time: 6.03 s\n"
     ]
    }
   ],
   "source": [
    "%%time\n",
    "pad = \"/kaggle/input/makeparquet\"\n",
    "transactions = pd.read_parquet(pad+'/transactions_train.parquet')\n",
    "customers = pd.read_parquet(pad+'/customers.parquet')\n",
    "articles = pd.read_parquet(pad+'/articles.parquet')"
   ]
  },
  {
   "cell_type": "code",
   "execution_count": 6,
   "id": "8e297d65",
   "metadata": {
    "execution": {
     "iopub.execute_input": "2023-12-22T01:55:23.747339Z",
     "iopub.status.busy": "2023-12-22T01:55:23.746875Z",
     "iopub.status.idle": "2023-12-22T01:55:23.830734Z",
     "shell.execute_reply": "2023-12-22T01:55:23.829511Z"
    },
    "papermill": {
     "duration": 0.105265,
     "end_time": "2023-12-22T01:55:23.833685",
     "exception": false,
     "start_time": "2023-12-22T01:55:23.728420",
     "status": "completed"
    },
    "tags": []
   },
   "outputs": [],
   "source": [
    "val = transactions[transactions.week == transactions.week.max()]"
   ]
  },
  {
   "cell_type": "markdown",
   "id": "ad852090",
   "metadata": {
    "papermill": {
     "duration": 0.013835,
     "end_time": "2023-12-22T01:55:23.862048",
     "exception": false,
     "start_time": "2023-12-22T01:55:23.848213",
     "status": "completed"
    },
    "tags": []
   },
   "source": [
    "# Testing week or latest week for submission"
   ]
  },
  {
   "cell_type": "code",
   "execution_count": 7,
   "id": "f8c6dfe4",
   "metadata": {
    "execution": {
     "iopub.execute_input": "2023-12-22T01:55:23.892783Z",
     "iopub.status.busy": "2023-12-22T01:55:23.892355Z",
     "iopub.status.idle": "2023-12-22T01:55:24.366852Z",
     "shell.execute_reply": "2023-12-22T01:55:24.365283Z"
    },
    "executionInfo": {
     "elapsed": 359,
     "status": "ok",
     "timestamp": 1699021083748,
     "user": {
      "displayName": "nick wils",
      "userId": "09906672494021070283"
     },
     "user_tz": -60
    },
    "id": "76f70d9a",
    "papermill": {
     "duration": 0.493574,
     "end_time": "2023-12-22T01:55:24.369995",
     "exception": false,
     "start_time": "2023-12-22T01:55:23.876421",
     "status": "completed"
    },
    "tags": []
   },
   "outputs": [],
   "source": [
    "Testting = True\n",
    "test_week = transactions.week.max()\n",
    "transactions = transactions[transactions.week > transactions.week.max() - 9]\n",
    "transactions = transactions[transactions.week < transactions.week.max()]\n",
    "\n",
    "# Testting = False\n",
    "# test_week = transactions.week.max()+1\n",
    "# transactions = transactions[transactions.week > transactions.week.max() - 9]\n"
   ]
  },
  {
   "cell_type": "markdown",
   "id": "4a6a3e59",
   "metadata": {
    "id": "5133081f",
    "papermill": {
     "duration": 0.110262,
     "end_time": "2023-12-22T01:55:24.496977",
     "exception": false,
     "start_time": "2023-12-22T01:55:24.386715",
     "status": "completed"
    },
    "tags": []
   },
   "source": [
    "# Generating candidates"
   ]
  },
  {
   "cell_type": "markdown",
   "id": "1a98928f",
   "metadata": {
    "id": "55672930",
    "papermill": {
     "duration": 0.016229,
     "end_time": "2023-12-22T01:55:24.530296",
     "exception": false,
     "start_time": "2023-12-22T01:55:24.514067",
     "status": "completed"
    },
    "tags": []
   },
   "source": [
    "### Last purchase candidates"
   ]
  },
  {
   "cell_type": "code",
   "execution_count": 8,
   "id": "cc9ac9fa",
   "metadata": {
    "execution": {
     "iopub.execute_input": "2023-12-22T01:55:24.566774Z",
     "iopub.status.busy": "2023-12-22T01:55:24.565409Z",
     "iopub.status.idle": "2023-12-22T01:55:50.119367Z",
     "shell.execute_reply": "2023-12-22T01:55:50.118070Z"
    },
    "executionInfo": {
     "elapsed": 44324,
     "status": "ok",
     "timestamp": 1699021128069,
     "user": {
      "displayName": "nick wils",
      "userId": "09906672494021070283"
     },
     "user_tz": -60
    },
    "id": "953a0f07",
    "outputId": "a64eb57a-9b27-486a-ed3e-cbd737918d66",
    "papermill": {
     "duration": 25.574614,
     "end_time": "2023-12-22T01:55:50.122058",
     "exception": false,
     "start_time": "2023-12-22T01:55:24.547444",
     "status": "completed"
    },
    "tags": []
   },
   "outputs": [
    {
     "name": "stdout",
     "output_type": "stream",
     "text": [
      "CPU times: user 25.2 s, sys: 275 ms, total: 25.5 s\n",
      "Wall time: 25.5 s\n"
     ]
    }
   ],
   "source": [
    "%%time\n",
    "\n",
    "c2weeks = transactions.groupby('customer_id')['week'].unique()"
   ]
  },
  {
   "cell_type": "code",
   "execution_count": 9,
   "id": "3a901c80",
   "metadata": {
    "execution": {
     "iopub.execute_input": "2023-12-22T01:55:50.158019Z",
     "iopub.status.busy": "2023-12-22T01:55:50.157325Z",
     "iopub.status.idle": "2023-12-22T01:55:50.237760Z",
     "shell.execute_reply": "2023-12-22T01:55:50.236575Z"
    },
    "executionInfo": {
     "elapsed": 27,
     "status": "ok",
     "timestamp": 1699021128070,
     "user": {
      "displayName": "nick wils",
      "userId": "09906672494021070283"
     },
     "user_tz": -60
    },
    "id": "a36be6fc",
    "outputId": "d760722c-fd93-4387-ec91-567d48918be5",
    "papermill": {
     "duration": 0.102296,
     "end_time": "2023-12-22T01:55:50.240494",
     "exception": false,
     "start_time": "2023-12-22T01:55:50.138198",
     "status": "completed"
    },
    "tags": []
   },
   "outputs": [
    {
     "data": {
      "text/html": [
       "<div>\n",
       "<style scoped>\n",
       "    .dataframe tbody tr th:only-of-type {\n",
       "        vertical-align: middle;\n",
       "    }\n",
       "\n",
       "    .dataframe tbody tr th {\n",
       "        vertical-align: top;\n",
       "    }\n",
       "\n",
       "    .dataframe thead th {\n",
       "        text-align: right;\n",
       "    }\n",
       "</style>\n",
       "<table border=\"1\" class=\"dataframe\">\n",
       "  <thead>\n",
       "    <tr style=\"text-align: right;\">\n",
       "      <th></th>\n",
       "      <th>min</th>\n",
       "      <th>max</th>\n",
       "    </tr>\n",
       "    <tr>\n",
       "      <th>week</th>\n",
       "      <th></th>\n",
       "      <th></th>\n",
       "    </tr>\n",
       "  </thead>\n",
       "  <tbody>\n",
       "    <tr>\n",
       "      <th>96</th>\n",
       "      <td>2020-07-22</td>\n",
       "      <td>2020-07-28</td>\n",
       "    </tr>\n",
       "    <tr>\n",
       "      <th>97</th>\n",
       "      <td>2020-07-29</td>\n",
       "      <td>2020-08-04</td>\n",
       "    </tr>\n",
       "    <tr>\n",
       "      <th>98</th>\n",
       "      <td>2020-08-05</td>\n",
       "      <td>2020-08-11</td>\n",
       "    </tr>\n",
       "    <tr>\n",
       "      <th>99</th>\n",
       "      <td>2020-08-12</td>\n",
       "      <td>2020-08-18</td>\n",
       "    </tr>\n",
       "    <tr>\n",
       "      <th>100</th>\n",
       "      <td>2020-08-19</td>\n",
       "      <td>2020-08-25</td>\n",
       "    </tr>\n",
       "    <tr>\n",
       "      <th>101</th>\n",
       "      <td>2020-08-26</td>\n",
       "      <td>2020-09-01</td>\n",
       "    </tr>\n",
       "    <tr>\n",
       "      <th>102</th>\n",
       "      <td>2020-09-02</td>\n",
       "      <td>2020-09-08</td>\n",
       "    </tr>\n",
       "    <tr>\n",
       "      <th>103</th>\n",
       "      <td>2020-09-09</td>\n",
       "      <td>2020-09-15</td>\n",
       "    </tr>\n",
       "  </tbody>\n",
       "</table>\n",
       "</div>"
      ],
      "text/plain": [
       "            min        max\n",
       "week                      \n",
       "96   2020-07-22 2020-07-28\n",
       "97   2020-07-29 2020-08-04\n",
       "98   2020-08-05 2020-08-11\n",
       "99   2020-08-12 2020-08-18\n",
       "100  2020-08-19 2020-08-25\n",
       "101  2020-08-26 2020-09-01\n",
       "102  2020-09-02 2020-09-08\n",
       "103  2020-09-09 2020-09-15"
      ]
     },
     "execution_count": 9,
     "metadata": {},
     "output_type": "execute_result"
    }
   ],
   "source": [
    "transactions.groupby('week')['t_dat'].agg(['min', 'max'])"
   ]
  },
  {
   "cell_type": "code",
   "execution_count": 10,
   "id": "71da5a7b",
   "metadata": {
    "execution": {
     "iopub.execute_input": "2023-12-22T01:55:50.277278Z",
     "iopub.status.busy": "2023-12-22T01:55:50.276881Z",
     "iopub.status.idle": "2023-12-22T01:55:51.084460Z",
     "shell.execute_reply": "2023-12-22T01:55:51.083285Z"
    },
    "executionInfo": {
     "elapsed": 942,
     "status": "ok",
     "timestamp": 1699021129001,
     "user": {
      "displayName": "nick wils",
      "userId": "09906672494021070283"
     },
     "user_tz": -60
    },
    "id": "f4723bec",
    "outputId": "700683a1-0720-43a3-bd06-c22a827fbf02",
    "papermill": {
     "duration": 0.829062,
     "end_time": "2023-12-22T01:55:51.087030",
     "exception": false,
     "start_time": "2023-12-22T01:55:50.257968",
     "status": "completed"
    },
    "tags": []
   },
   "outputs": [
    {
     "name": "stdout",
     "output_type": "stream",
     "text": [
      "CPU times: user 752 ms, sys: 45.7 ms, total: 798 ms\n",
      "Wall time: 801 ms\n"
     ]
    }
   ],
   "source": [
    "%%time\n",
    "\n",
    "c2weeks2shifted_weeks = {}\n",
    "\n",
    "for c_id, weeks in c2weeks.items():\n",
    "    c2weeks2shifted_weeks[c_id] = {}\n",
    "    for i in range(weeks.shape[0]-1):\n",
    "        c2weeks2shifted_weeks[c_id][weeks[i]] = weeks[i+1]\n",
    "    c2weeks2shifted_weeks[c_id][weeks[-1]] = test_week"
   ]
  },
  {
   "cell_type": "code",
   "execution_count": 11,
   "id": "7ca3f089",
   "metadata": {
    "execution": {
     "iopub.execute_input": "2023-12-22T01:55:51.125935Z",
     "iopub.status.busy": "2023-12-22T01:55:51.125529Z",
     "iopub.status.idle": "2023-12-22T01:55:51.150156Z",
     "shell.execute_reply": "2023-12-22T01:55:51.149077Z"
    },
    "executionInfo": {
     "elapsed": 6,
     "status": "ok",
     "timestamp": 1699021129002,
     "user": {
      "displayName": "nick wils",
      "userId": "09906672494021070283"
     },
     "user_tz": -60
    },
    "id": "5a87c920",
    "papermill": {
     "duration": 0.047157,
     "end_time": "2023-12-22T01:55:51.153286",
     "exception": false,
     "start_time": "2023-12-22T01:55:51.106129",
     "status": "completed"
    },
    "tags": []
   },
   "outputs": [],
   "source": [
    "candidates_last_purchase = transactions.copy()"
   ]
  },
  {
   "cell_type": "code",
   "execution_count": 12,
   "id": "44edc665",
   "metadata": {
    "execution": {
     "iopub.execute_input": "2023-12-22T01:55:51.189948Z",
     "iopub.status.busy": "2023-12-22T01:55:51.189529Z",
     "iopub.status.idle": "2023-12-22T01:56:09.775940Z",
     "shell.execute_reply": "2023-12-22T01:56:09.774878Z"
    },
    "executionInfo": {
     "elapsed": 20239,
     "status": "ok",
     "timestamp": 1699021149235,
     "user": {
      "displayName": "nick wils",
      "userId": "09906672494021070283"
     },
     "user_tz": -60
    },
    "id": "4f4d4a18",
    "outputId": "a177aca2-7d87-44a1-cbfd-23488359d3d3",
    "papermill": {
     "duration": 18.607065,
     "end_time": "2023-12-22T01:56:09.778057",
     "exception": false,
     "start_time": "2023-12-22T01:55:51.170992",
     "status": "completed"
    },
    "tags": []
   },
   "outputs": [
    {
     "name": "stdout",
     "output_type": "stream",
     "text": [
      "CPU times: user 18.6 s, sys: 95.8 ms, total: 18.7 s\n",
      "Wall time: 18.6 s\n"
     ]
    }
   ],
   "source": [
    "%%time\n",
    "\n",
    "weeks = []\n",
    "for i, (c_id, week) in enumerate(zip(transactions['customer_id'], transactions['week'])):\n",
    "    weeks.append(c2weeks2shifted_weeks[c_id][week])\n",
    "\n",
    "candidates_last_purchase.week=weeks"
   ]
  },
  {
   "cell_type": "markdown",
   "id": "f53cd3e6",
   "metadata": {
    "papermill": {
     "duration": 0.014481,
     "end_time": "2023-12-22T01:56:09.807549",
     "exception": false,
     "start_time": "2023-12-22T01:56:09.793068",
     "status": "completed"
    },
    "tags": []
   },
   "source": [
    "# Over write with my own implementation of candidate generation"
   ]
  },
  {
   "cell_type": "code",
   "execution_count": 13,
   "id": "c0cbfede",
   "metadata": {
    "execution": {
     "iopub.execute_input": "2023-12-22T01:56:09.839610Z",
     "iopub.status.busy": "2023-12-22T01:56:09.838442Z",
     "iopub.status.idle": "2023-12-22T01:56:13.575500Z",
     "shell.execute_reply": "2023-12-22T01:56:13.574278Z"
    },
    "papermill": {
     "duration": 3.755929,
     "end_time": "2023-12-22T01:56:13.578239",
     "exception": false,
     "start_time": "2023-12-22T01:56:09.822310",
     "status": "completed"
    },
    "tags": []
   },
   "outputs": [],
   "source": [
    "# Generating candidates based on repurchasing\n",
    "repurchase_candidates = transactions.copy()\n",
    "repurchase_candidates['week'] += 1 \n",
    "\n",
    "# Merge repurchase candidates with customer information\n",
    "repurchase_candidates = pd.merge(repurchase_candidates, customers, on='customer_id', how='left')\n",
    "repurchase_candidates = pd.merge(repurchase_candidates, articles, on='article_id', how='left')\n",
    "\n",
    "# Drop unnecessary columns\n",
    "repurchase_candidates.drop(['price', 'sales_channel_id', 'year', 'month'], axis=1, inplace=True)\n",
    "\n",
    "# Rename columns to match the rest of the data\n",
    "repurchase_candidates.rename(columns={'week': 'previous_purchase_week'}, inplace=True)\n",
    "\n",
    "candidates_last_purchase = repurchase_candidates.copy()\n",
    "# Fill NaN values in 'previous_purchase_week' with a value that represents no repurchase\n",
    "candidates_last_purchase['previous_purchase_week'].fillna(-1, inplace=True)\n",
    "\n",
    "# Create a new column 'repurchased' indicating repurchase\n",
    "candidates_last_purchase['repurchased'] = (candidates_last_purchase['previous_purchase_week'] != -1).astype(int)\n",
    "\n",
    "# Drop the 'previous_purchase_week' column as it's no longer needed\n",
    "# candidates_last_purchase.drop('previous_purchase_week', axis=1, inplace=True)\n",
    "candidates_last_purchase.rename(columns={'previous_purchase_week': 'week'}, inplace=True)"
   ]
  },
  {
   "cell_type": "markdown",
   "id": "467270a4",
   "metadata": {
    "id": "38ae3458",
    "papermill": {
     "duration": 0.014464,
     "end_time": "2023-12-22T01:56:13.608080",
     "exception": false,
     "start_time": "2023-12-22T01:56:13.593616",
     "status": "completed"
    },
    "tags": []
   },
   "source": [
    "### Bestsellers candidates"
   ]
  },
  {
   "cell_type": "code",
   "execution_count": 14,
   "id": "2710833a",
   "metadata": {
    "execution": {
     "iopub.execute_input": "2023-12-22T01:56:13.639375Z",
     "iopub.status.busy": "2023-12-22T01:56:13.638798Z",
     "iopub.status.idle": "2023-12-22T01:56:13.643227Z",
     "shell.execute_reply": "2023-12-22T01:56:13.642531Z"
    },
    "executionInfo": {
     "elapsed": 36,
     "status": "ok",
     "timestamp": 1699021149236,
     "user": {
      "displayName": "nick wils",
      "userId": "09906672494021070283"
     },
     "user_tz": -60
    },
    "id": "022a7879",
    "papermill": {
     "duration": 0.022611,
     "end_time": "2023-12-22T01:56:13.645267",
     "exception": false,
     "start_time": "2023-12-22T01:56:13.622656",
     "status": "completed"
    },
    "tags": []
   },
   "outputs": [],
   "source": [
    "# mean_price = transactions \\\n",
    "#     .groupby(['week', 'article_id'])['price'].mean()\n",
    "# sales = transactions \\\n",
    "#     .groupby('week')['article_id'].value_counts() \\\n",
    "#     .groupby('week').rank(method='dense', ascending=False) \\\n",
    "#     .groupby('week').head(12).rename('bestseller_rank').astype('int8')\n",
    "# bestsellers_previous_week = pd.merge(sales, mean_price, on=['week', 'article_id']).reset_index()\n",
    "# bestsellers_previous_week.week += 1\n",
    "# bestsellers_previous_week.week\n",
    "# bestsellers_previous_week.pipe(lambda df: df[df['week']==96])"
   ]
  },
  {
   "cell_type": "markdown",
   "id": "4a457d11",
   "metadata": {
    "papermill": {
     "duration": 0.014506,
     "end_time": "2023-12-22T01:56:13.674412",
     "exception": false,
     "start_time": "2023-12-22T01:56:13.659906",
     "status": "completed"
    },
    "tags": []
   },
   "source": [
    "**Use either the above one or my own implmentation below**"
   ]
  },
  {
   "cell_type": "code",
   "execution_count": 15,
   "id": "5d6153c8",
   "metadata": {
    "execution": {
     "iopub.execute_input": "2023-12-22T01:56:13.705868Z",
     "iopub.status.busy": "2023-12-22T01:56:13.705253Z",
     "iopub.status.idle": "2023-12-22T01:56:14.647923Z",
     "shell.execute_reply": "2023-12-22T01:56:14.647046Z"
    },
    "papermill": {
     "duration": 0.961277,
     "end_time": "2023-12-22T01:56:14.650421",
     "exception": false,
     "start_time": "2023-12-22T01:56:13.689144",
     "status": "completed"
    },
    "tags": []
   },
   "outputs": [],
   "source": [
    "# Calculate the number of unique customers who bought each article\n",
    "unique_customers_per_article = transactions.groupby('article_id')['customer_id'].nunique().reset_index()\n",
    "unique_customers_per_article.rename(columns={'customer_id': 'unique_customers'}, inplace=True)\n",
    "\n",
    "# Rank articles based on the number of unique customers\n",
    "bestsellers_ranked = unique_customers_per_article.sort_values('unique_customers', ascending=False).reset_index(drop=True)\n",
    "bestsellers_ranked['bestseller_rank'] = bestsellers_ranked.index + 1\n",
    "\n",
    "# Merge the bestseller ranks with the articles information\n",
    "bestsellers_previous_week = pd.merge(bestsellers_ranked[['article_id', 'bestseller_rank']], articles, on='article_id')\n",
    "\n",
    "# Calculate mean price for each article in each week\n",
    "mean_price = transactions.groupby(['week', 'article_id'])['price'].mean().reset_index()\n",
    "\n",
    "# Identify the top 12 bestsellers for each week based on mean price\n",
    "bestsellers_previous_week = mean_price.groupby('week', group_keys=False).apply(\n",
    "    lambda x: x.sort_values('price', ascending=False).head(12)\n",
    ").reset_index(drop=True)\n",
    "\n",
    "\n",
    "bestsellers_previous_week['bestseller_rank'] = bestsellers_previous_week.groupby('week').cumcount() + 1\n",
    "bestsellers_previous_week = pd.merge(bestsellers_previous_week, articles, on='article_id')\n",
    "\n",
    "# Adjust week for the next week\n",
    "bestsellers_previous_week['week'] += 1\n"
   ]
  },
  {
   "cell_type": "code",
   "execution_count": null,
   "id": "4f508138",
   "metadata": {
    "executionInfo": {
     "elapsed": 13,
     "status": "ok",
     "timestamp": 1699021150262,
     "user": {
      "displayName": "nick wils",
      "userId": "09906672494021070283"
     },
     "user_tz": -60
    },
    "id": "b8447b19",
    "outputId": "b992d53d-c501-4be5-e373-7ed121335003",
    "papermill": {
     "duration": 0.014494,
     "end_time": "2023-12-22T01:56:14.679833",
     "exception": false,
     "start_time": "2023-12-22T01:56:14.665339",
     "status": "completed"
    },
    "tags": []
   },
   "outputs": [],
   "source": []
  },
  {
   "cell_type": "code",
   "execution_count": 16,
   "id": "38a48dd5",
   "metadata": {
    "execution": {
     "iopub.execute_input": "2023-12-22T01:56:14.711453Z",
     "iopub.status.busy": "2023-12-22T01:56:14.710846Z",
     "iopub.status.idle": "2023-12-22T01:56:15.203967Z",
     "shell.execute_reply": "2023-12-22T01:56:15.202912Z"
    },
    "executionInfo": {
     "elapsed": 867,
     "status": "ok",
     "timestamp": 1699021151118,
     "user": {
      "displayName": "nick wils",
      "userId": "09906672494021070283"
     },
     "user_tz": -60
    },
    "id": "1ad756de",
    "papermill": {
     "duration": 0.512163,
     "end_time": "2023-12-22T01:56:15.206706",
     "exception": false,
     "start_time": "2023-12-22T01:56:14.694543",
     "status": "completed"
    },
    "tags": []
   },
   "outputs": [],
   "source": [
    "unique_transactions = transactions \\\n",
    "    .groupby(['week', 'customer_id']) \\\n",
    "    .head(1) \\\n",
    "    .drop(columns=['article_id', 'price']) \\\n",
    "    .copy()"
   ]
  },
  {
   "cell_type": "code",
   "execution_count": 17,
   "id": "ed42454e",
   "metadata": {
    "execution": {
     "iopub.execute_input": "2023-12-22T01:56:15.240450Z",
     "iopub.status.busy": "2023-12-22T01:56:15.239447Z",
     "iopub.status.idle": "2023-12-22T01:56:15.434625Z",
     "shell.execute_reply": "2023-12-22T01:56:15.433334Z"
    },
    "executionInfo": {
     "elapsed": 343,
     "status": "ok",
     "timestamp": 1699021151457,
     "user": {
      "displayName": "nick wils",
      "userId": "09906672494021070283"
     },
     "user_tz": -60
    },
    "id": "5721ca6d",
    "outputId": "26dbeac9-bfc8-44b6-879f-c3fbe5cb175d",
    "papermill": {
     "duration": 0.214269,
     "end_time": "2023-12-22T01:56:15.437022",
     "exception": false,
     "start_time": "2023-12-22T01:56:15.222753",
     "status": "completed"
    },
    "tags": []
   },
   "outputs": [
    {
     "data": {
      "text/html": [
       "<div>\n",
       "<style scoped>\n",
       "    .dataframe tbody tr th:only-of-type {\n",
       "        vertical-align: middle;\n",
       "    }\n",
       "\n",
       "    .dataframe tbody tr th {\n",
       "        vertical-align: top;\n",
       "    }\n",
       "\n",
       "    .dataframe thead th {\n",
       "        text-align: right;\n",
       "    }\n",
       "</style>\n",
       "<table border=\"1\" class=\"dataframe\">\n",
       "  <thead>\n",
       "    <tr style=\"text-align: right;\">\n",
       "      <th></th>\n",
       "      <th>t_dat</th>\n",
       "      <th>customer_id</th>\n",
       "      <th>article_id</th>\n",
       "      <th>price</th>\n",
       "      <th>sales_channel_id</th>\n",
       "      <th>season</th>\n",
       "      <th>year</th>\n",
       "      <th>month</th>\n",
       "      <th>week</th>\n",
       "    </tr>\n",
       "  </thead>\n",
       "  <tbody>\n",
       "    <tr>\n",
       "      <th>29334775</th>\n",
       "      <td>2020-07-22</td>\n",
       "      <td>200292573348128</td>\n",
       "      <td>880777001</td>\n",
       "      <td>0.025407</td>\n",
       "      <td>2</td>\n",
       "      <td>2</td>\n",
       "      <td>-28</td>\n",
       "      <td>7</td>\n",
       "      <td>96</td>\n",
       "    </tr>\n",
       "    <tr>\n",
       "      <th>29330872</th>\n",
       "      <td>2020-07-22</td>\n",
       "      <td>248294615847351</td>\n",
       "      <td>720504008</td>\n",
       "      <td>0.031458</td>\n",
       "      <td>1</td>\n",
       "      <td>2</td>\n",
       "      <td>-28</td>\n",
       "      <td>7</td>\n",
       "      <td>96</td>\n",
       "    </tr>\n",
       "    <tr>\n",
       "      <th>29319533</th>\n",
       "      <td>2020-07-22</td>\n",
       "      <td>272412481300040</td>\n",
       "      <td>885077001</td>\n",
       "      <td>0.008458</td>\n",
       "      <td>1</td>\n",
       "      <td>2</td>\n",
       "      <td>-28</td>\n",
       "      <td>7</td>\n",
       "      <td>96</td>\n",
       "    </tr>\n",
       "    <tr>\n",
       "      <th>29357168</th>\n",
       "      <td>2020-07-22</td>\n",
       "      <td>649760207043851</td>\n",
       "      <td>878502001</td>\n",
       "      <td>0.022017</td>\n",
       "      <td>1</td>\n",
       "      <td>2</td>\n",
       "      <td>-28</td>\n",
       "      <td>7</td>\n",
       "      <td>96</td>\n",
       "    </tr>\n",
       "    <tr>\n",
       "      <th>29324267</th>\n",
       "      <td>2020-07-22</td>\n",
       "      <td>2269719878901327</td>\n",
       "      <td>724905002</td>\n",
       "      <td>0.011898</td>\n",
       "      <td>1</td>\n",
       "      <td>2</td>\n",
       "      <td>-28</td>\n",
       "      <td>7</td>\n",
       "      <td>96</td>\n",
       "    </tr>\n",
       "    <tr>\n",
       "      <th>...</th>\n",
       "      <td>...</td>\n",
       "      <td>...</td>\n",
       "      <td>...</td>\n",
       "      <td>...</td>\n",
       "      <td>...</td>\n",
       "      <td>...</td>\n",
       "      <td>...</td>\n",
       "      <td>...</td>\n",
       "      <td>...</td>\n",
       "    </tr>\n",
       "    <tr>\n",
       "      <th>31521960</th>\n",
       "      <td>2020-09-15</td>\n",
       "      <td>18439897732908966680</td>\n",
       "      <td>794321007</td>\n",
       "      <td>0.061000</td>\n",
       "      <td>2</td>\n",
       "      <td>3</td>\n",
       "      <td>-28</td>\n",
       "      <td>9</td>\n",
       "      <td>103</td>\n",
       "    </tr>\n",
       "    <tr>\n",
       "      <th>31531712</th>\n",
       "      <td>2020-09-15</td>\n",
       "      <td>18444276791873187543</td>\n",
       "      <td>867969008</td>\n",
       "      <td>0.033881</td>\n",
       "      <td>2</td>\n",
       "      <td>3</td>\n",
       "      <td>-28</td>\n",
       "      <td>9</td>\n",
       "      <td>103</td>\n",
       "    </tr>\n",
       "    <tr>\n",
       "      <th>31539937</th>\n",
       "      <td>2020-09-15</td>\n",
       "      <td>18444799607866739422</td>\n",
       "      <td>909721003</td>\n",
       "      <td>0.042356</td>\n",
       "      <td>2</td>\n",
       "      <td>3</td>\n",
       "      <td>-28</td>\n",
       "      <td>9</td>\n",
       "      <td>103</td>\n",
       "    </tr>\n",
       "    <tr>\n",
       "      <th>31543799</th>\n",
       "      <td>2020-09-15</td>\n",
       "      <td>18446250046654386343</td>\n",
       "      <td>869872006</td>\n",
       "      <td>0.033881</td>\n",
       "      <td>1</td>\n",
       "      <td>3</td>\n",
       "      <td>-28</td>\n",
       "      <td>9</td>\n",
       "      <td>103</td>\n",
       "    </tr>\n",
       "    <tr>\n",
       "      <th>31536744</th>\n",
       "      <td>2020-09-15</td>\n",
       "      <td>18446630855572834764</td>\n",
       "      <td>568601045</td>\n",
       "      <td>0.050831</td>\n",
       "      <td>2</td>\n",
       "      <td>3</td>\n",
       "      <td>-28</td>\n",
       "      <td>9</td>\n",
       "      <td>103</td>\n",
       "    </tr>\n",
       "  </tbody>\n",
       "</table>\n",
       "<p>609449 rows × 9 columns</p>\n",
       "</div>"
      ],
      "text/plain": [
       "              t_dat           customer_id  article_id     price  \\\n",
       "29334775 2020-07-22       200292573348128   880777001  0.025407   \n",
       "29330872 2020-07-22       248294615847351   720504008  0.031458   \n",
       "29319533 2020-07-22       272412481300040   885077001  0.008458   \n",
       "29357168 2020-07-22       649760207043851   878502001  0.022017   \n",
       "29324267 2020-07-22      2269719878901327   724905002  0.011898   \n",
       "...             ...                   ...         ...       ...   \n",
       "31521960 2020-09-15  18439897732908966680   794321007  0.061000   \n",
       "31531712 2020-09-15  18444276791873187543   867969008  0.033881   \n",
       "31539937 2020-09-15  18444799607866739422   909721003  0.042356   \n",
       "31543799 2020-09-15  18446250046654386343   869872006  0.033881   \n",
       "31536744 2020-09-15  18446630855572834764   568601045  0.050831   \n",
       "\n",
       "          sales_channel_id  season  year  month  week  \n",
       "29334775                 2       2   -28      7    96  \n",
       "29330872                 1       2   -28      7    96  \n",
       "29319533                 1       2   -28      7    96  \n",
       "29357168                 1       2   -28      7    96  \n",
       "29324267                 1       2   -28      7    96  \n",
       "...                    ...     ...   ...    ...   ...  \n",
       "31521960                 2       3   -28      9   103  \n",
       "31531712                 2       3   -28      9   103  \n",
       "31539937                 2       3   -28      9   103  \n",
       "31543799                 1       3   -28      9   103  \n",
       "31536744                 2       3   -28      9   103  \n",
       "\n",
       "[609449 rows x 9 columns]"
      ]
     },
     "execution_count": 17,
     "metadata": {},
     "output_type": "execute_result"
    }
   ],
   "source": [
    "transactions.drop_duplicates(['week', 'customer_id'])"
   ]
  },
  {
   "cell_type": "code",
   "execution_count": 18,
   "id": "9f856af9",
   "metadata": {
    "execution": {
     "iopub.execute_input": "2023-12-22T01:56:15.474273Z",
     "iopub.status.busy": "2023-12-22T01:56:15.473907Z",
     "iopub.status.idle": "2023-12-22T01:56:19.018547Z",
     "shell.execute_reply": "2023-12-22T01:56:19.017248Z"
    },
    "executionInfo": {
     "elapsed": 939,
     "status": "ok",
     "timestamp": 1699021152392,
     "user": {
      "displayName": "nick wils",
      "userId": "09906672494021070283"
     },
     "user_tz": -60
    },
    "id": "4a23981e",
    "papermill": {
     "duration": 3.567105,
     "end_time": "2023-12-22T01:56:19.021519",
     "exception": false,
     "start_time": "2023-12-22T01:56:15.454414",
     "status": "completed"
    },
    "tags": []
   },
   "outputs": [],
   "source": [
    "candidates_bestsellers = pd.merge(\n",
    "    unique_transactions,\n",
    "    bestsellers_previous_week,\n",
    "    on='week',\n",
    ")"
   ]
  },
  {
   "cell_type": "code",
   "execution_count": 19,
   "id": "6d2317a7",
   "metadata": {
    "execution": {
     "iopub.execute_input": "2023-12-22T01:56:19.063893Z",
     "iopub.status.busy": "2023-12-22T01:56:19.063495Z",
     "iopub.status.idle": "2023-12-22T01:56:19.116543Z",
     "shell.execute_reply": "2023-12-22T01:56:19.114809Z"
    },
    "executionInfo": {
     "elapsed": 16,
     "status": "ok",
     "timestamp": 1699021152393,
     "user": {
      "displayName": "nick wils",
      "userId": "09906672494021070283"
     },
     "user_tz": -60
    },
    "id": "ad3a9710",
    "papermill": {
     "duration": 0.078152,
     "end_time": "2023-12-22T01:56:19.119757",
     "exception": false,
     "start_time": "2023-12-22T01:56:19.041605",
     "status": "completed"
    },
    "tags": []
   },
   "outputs": [],
   "source": [
    "test_set_transactions = unique_transactions.drop_duplicates('customer_id').reset_index(drop=True)\n",
    "test_set_transactions.week = test_week"
   ]
  },
  {
   "cell_type": "code",
   "execution_count": 20,
   "id": "ae26cff8",
   "metadata": {
    "execution": {
     "iopub.execute_input": "2023-12-22T01:56:19.157066Z",
     "iopub.status.busy": "2023-12-22T01:56:19.156687Z",
     "iopub.status.idle": "2023-12-22T01:56:22.038203Z",
     "shell.execute_reply": "2023-12-22T01:56:22.036777Z"
    },
    "executionInfo": {
     "elapsed": 802,
     "status": "ok",
     "timestamp": 1699021153185,
     "user": {
      "displayName": "nick wils",
      "userId": "09906672494021070283"
     },
     "user_tz": -60
    },
    "id": "9f64b005",
    "papermill": {
     "duration": 2.903898,
     "end_time": "2023-12-22T01:56:22.041223",
     "exception": false,
     "start_time": "2023-12-22T01:56:19.137325",
     "status": "completed"
    },
    "tags": []
   },
   "outputs": [],
   "source": [
    "candidates_bestsellers_test_week = pd.merge(\n",
    "    test_set_transactions,\n",
    "    bestsellers_previous_week,\n",
    "    on='week'\n",
    ")"
   ]
  },
  {
   "cell_type": "code",
   "execution_count": 21,
   "id": "325641af",
   "metadata": {
    "execution": {
     "iopub.execute_input": "2023-12-22T01:56:22.075024Z",
     "iopub.status.busy": "2023-12-22T01:56:22.074350Z",
     "iopub.status.idle": "2023-12-22T01:56:22.081976Z",
     "shell.execute_reply": "2023-12-22T01:56:22.080864Z"
    },
    "papermill": {
     "duration": 0.027229,
     "end_time": "2023-12-22T01:56:22.084242",
     "exception": false,
     "start_time": "2023-12-22T01:56:22.057013",
     "status": "completed"
    },
    "tags": []
   },
   "outputs": [
    {
     "data": {
      "text/plain": [
       "Index(['t_dat', 'customer_id', 'sales_channel_id', 'season', 'year', 'month',\n",
       "       'week', 'article_id', 'price', 'bestseller_rank', 'product_code',\n",
       "       'prod_name', 'product_type_no', 'product_type_name',\n",
       "       'product_group_name', 'graphical_appearance_no',\n",
       "       'graphical_appearance_name', 'colour_group_code', 'colour_group_name',\n",
       "       'perceived_colour_value_id', 'perceived_colour_value_name',\n",
       "       'perceived_colour_master_id', 'perceived_colour_master_name',\n",
       "       'department_no', 'department_name', 'index_code', 'index_name',\n",
       "       'index_group_no', 'index_group_name', 'section_no', 'section_name',\n",
       "       'garment_group_no', 'garment_group_name', 'detail_desc', 'fabric_jeans',\n",
       "       'fabric_cotton', 'fabric_wool', 'fabric_polyester', 'fabric_silk',\n",
       "       'fabric_denim', 'fabric_linen', 'fabric_spandex', 'fabric_rayon',\n",
       "       'fabric_nylon', 'fabric_leather', 'fabric_suede'],\n",
       "      dtype='object')"
      ]
     },
     "execution_count": 21,
     "metadata": {},
     "output_type": "execute_result"
    }
   ],
   "source": [
    "candidates_bestsellers_test_week.columns"
   ]
  },
  {
   "cell_type": "code",
   "execution_count": 22,
   "id": "6e4f9067",
   "metadata": {
    "execution": {
     "iopub.execute_input": "2023-12-22T01:56:22.117720Z",
     "iopub.status.busy": "2023-12-22T01:56:22.117317Z",
     "iopub.status.idle": "2023-12-22T01:56:31.344795Z",
     "shell.execute_reply": "2023-12-22T01:56:31.343892Z"
    },
    "executionInfo": {
     "elapsed": 837,
     "status": "ok",
     "timestamp": 1699021154020,
     "user": {
      "displayName": "nick wils",
      "userId": "09906672494021070283"
     },
     "user_tz": -60
    },
    "id": "212b7926",
    "papermill": {
     "duration": 9.246968,
     "end_time": "2023-12-22T01:56:31.347255",
     "exception": false,
     "start_time": "2023-12-22T01:56:22.100287",
     "status": "completed"
    },
    "tags": []
   },
   "outputs": [],
   "source": [
    "candidates_bestsellers = pd.concat([candidates_bestsellers, candidates_bestsellers_test_week])\n",
    "candidates_bestsellers.drop(columns='bestseller_rank', inplace=True)"
   ]
  },
  {
   "cell_type": "code",
   "execution_count": 23,
   "id": "1825e373",
   "metadata": {
    "execution": {
     "iopub.execute_input": "2023-12-22T01:56:31.380737Z",
     "iopub.status.busy": "2023-12-22T01:56:31.379847Z",
     "iopub.status.idle": "2023-12-22T01:56:31.387703Z",
     "shell.execute_reply": "2023-12-22T01:56:31.386270Z"
    },
    "papermill": {
     "duration": 0.027237,
     "end_time": "2023-12-22T01:56:31.390016",
     "exception": false,
     "start_time": "2023-12-22T01:56:31.362779",
     "status": "completed"
    },
    "tags": []
   },
   "outputs": [
    {
     "data": {
      "text/plain": [
       "Index(['t_dat', 'customer_id', 'sales_channel_id', 'season', 'year', 'month',\n",
       "       'week', 'article_id', 'price', 'product_code', 'prod_name',\n",
       "       'product_type_no', 'product_type_name', 'product_group_name',\n",
       "       'graphical_appearance_no', 'graphical_appearance_name',\n",
       "       'colour_group_code', 'colour_group_name', 'perceived_colour_value_id',\n",
       "       'perceived_colour_value_name', 'perceived_colour_master_id',\n",
       "       'perceived_colour_master_name', 'department_no', 'department_name',\n",
       "       'index_code', 'index_name', 'index_group_no', 'index_group_name',\n",
       "       'section_no', 'section_name', 'garment_group_no', 'garment_group_name',\n",
       "       'detail_desc', 'fabric_jeans', 'fabric_cotton', 'fabric_wool',\n",
       "       'fabric_polyester', 'fabric_silk', 'fabric_denim', 'fabric_linen',\n",
       "       'fabric_spandex', 'fabric_rayon', 'fabric_nylon', 'fabric_leather',\n",
       "       'fabric_suede'],\n",
       "      dtype='object')"
      ]
     },
     "execution_count": 23,
     "metadata": {},
     "output_type": "execute_result"
    }
   ],
   "source": [
    "candidates_bestsellers.columns"
   ]
  },
  {
   "cell_type": "markdown",
   "id": "21a47ac1",
   "metadata": {
    "id": "d5b03292",
    "papermill": {
     "duration": 0.015266,
     "end_time": "2023-12-22T01:56:31.421012",
     "exception": false,
     "start_time": "2023-12-22T01:56:31.405746",
     "status": "completed"
    },
    "tags": []
   },
   "source": [
    "# Combining transactions and candidates / negative examples"
   ]
  },
  {
   "cell_type": "code",
   "execution_count": 24,
   "id": "b060bc55",
   "metadata": {
    "execution": {
     "iopub.execute_input": "2023-12-22T01:56:31.454585Z",
     "iopub.status.busy": "2023-12-22T01:56:31.454148Z",
     "iopub.status.idle": "2023-12-22T01:56:31.463320Z",
     "shell.execute_reply": "2023-12-22T01:56:31.461923Z"
    },
    "executionInfo": {
     "elapsed": 11,
     "status": "ok",
     "timestamp": 1699021154021,
     "user": {
      "displayName": "nick wils",
      "userId": "09906672494021070283"
     },
     "user_tz": -60
    },
    "id": "529196a4",
    "papermill": {
     "duration": 0.029197,
     "end_time": "2023-12-22T01:56:31.465813",
     "exception": false,
     "start_time": "2023-12-22T01:56:31.436616",
     "status": "completed"
    },
    "tags": []
   },
   "outputs": [],
   "source": [
    "transactions['purchased'] = 1"
   ]
  },
  {
   "cell_type": "code",
   "execution_count": 25,
   "id": "a21851ef",
   "metadata": {
    "execution": {
     "iopub.execute_input": "2023-12-22T01:56:31.498747Z",
     "iopub.status.busy": "2023-12-22T01:56:31.498032Z",
     "iopub.status.idle": "2023-12-22T01:56:37.199329Z",
     "shell.execute_reply": "2023-12-22T01:56:37.197852Z"
    },
    "executionInfo": {
     "elapsed": 630,
     "status": "ok",
     "timestamp": 1699021154641,
     "user": {
      "displayName": "nick wils",
      "userId": "09906672494021070283"
     },
     "user_tz": -60
    },
    "id": "421a601e",
    "papermill": {
     "duration": 5.720639,
     "end_time": "2023-12-22T01:56:37.201810",
     "exception": false,
     "start_time": "2023-12-22T01:56:31.481171",
     "status": "completed"
    },
    "tags": []
   },
   "outputs": [],
   "source": [
    "data = pd.concat([transactions, candidates_last_purchase, candidates_bestsellers])\n",
    "data.purchased.fillna(0, inplace=True)"
   ]
  },
  {
   "cell_type": "code",
   "execution_count": 26,
   "id": "1e83dd77",
   "metadata": {
    "execution": {
     "iopub.execute_input": "2023-12-22T01:56:37.234311Z",
     "iopub.status.busy": "2023-12-22T01:56:37.233950Z",
     "iopub.status.idle": "2023-12-22T01:56:49.404079Z",
     "shell.execute_reply": "2023-12-22T01:56:49.402336Z"
    },
    "executionInfo": {
     "elapsed": 6444,
     "status": "ok",
     "timestamp": 1699021161077,
     "user": {
      "displayName": "nick wils",
      "userId": "09906672494021070283"
     },
     "user_tz": -60
    },
    "id": "9f4e8cdb",
    "papermill": {
     "duration": 12.189981,
     "end_time": "2023-12-22T01:56:49.407234",
     "exception": false,
     "start_time": "2023-12-22T01:56:37.217253",
     "status": "completed"
    },
    "tags": []
   },
   "outputs": [],
   "source": [
    "data.drop_duplicates(['customer_id', 'article_id', 'week'], inplace=True)"
   ]
  },
  {
   "cell_type": "code",
   "execution_count": 27,
   "id": "f6087bf7",
   "metadata": {
    "execution": {
     "iopub.execute_input": "2023-12-22T01:56:49.441398Z",
     "iopub.status.busy": "2023-12-22T01:56:49.440412Z",
     "iopub.status.idle": "2023-12-22T01:56:49.481846Z",
     "shell.execute_reply": "2023-12-22T01:56:49.480242Z"
    },
    "executionInfo": {
     "elapsed": 39,
     "status": "ok",
     "timestamp": 1699021161080,
     "user": {
      "displayName": "nick wils",
      "userId": "09906672494021070283"
     },
     "user_tz": -60
    },
    "id": "95414c83",
    "outputId": "0aa85517-00f2-45b4-8a4a-1b314d82ffc4",
    "papermill": {
     "duration": 0.061136,
     "end_time": "2023-12-22T01:56:49.484276",
     "exception": false,
     "start_time": "2023-12-22T01:56:49.423140",
     "status": "completed"
    },
    "tags": []
   },
   "outputs": [
    {
     "data": {
      "text/plain": [
       "0.13442601859465572"
      ]
     },
     "execution_count": 27,
     "metadata": {},
     "output_type": "execute_result"
    }
   ],
   "source": [
    "data.purchased.mean()"
   ]
  },
  {
   "cell_type": "markdown",
   "id": "5b2a9dca",
   "metadata": {
    "id": "4d35aac7",
    "papermill": {
     "duration": 0.015241,
     "end_time": "2023-12-22T01:56:49.515055",
     "exception": false,
     "start_time": "2023-12-22T01:56:49.499814",
     "status": "completed"
    },
    "tags": []
   },
   "source": [
    "### Add bestseller information"
   ]
  },
  {
   "cell_type": "code",
   "execution_count": 28,
   "id": "ca70602e",
   "metadata": {
    "execution": {
     "iopub.execute_input": "2023-12-22T01:56:49.547538Z",
     "iopub.status.busy": "2023-12-22T01:56:49.547148Z",
     "iopub.status.idle": "2023-12-22T01:56:55.648859Z",
     "shell.execute_reply": "2023-12-22T01:56:55.647634Z"
    },
    "executionInfo": {
     "elapsed": 3395,
     "status": "ok",
     "timestamp": 1699021164442,
     "user": {
      "displayName": "nick wils",
      "userId": "09906672494021070283"
     },
     "user_tz": -60
    },
    "id": "ab6d0095",
    "papermill": {
     "duration": 6.121297,
     "end_time": "2023-12-22T01:56:55.651899",
     "exception": false,
     "start_time": "2023-12-22T01:56:49.530602",
     "status": "completed"
    },
    "tags": []
   },
   "outputs": [],
   "source": [
    "data = pd.merge(\n",
    "    data,\n",
    "    bestsellers_previous_week[['week', 'article_id', 'bestseller_rank']],\n",
    "    on=['week', 'article_id'],\n",
    "    how='left'\n",
    ")"
   ]
  },
  {
   "cell_type": "code",
   "execution_count": 29,
   "id": "af93b1fa",
   "metadata": {
    "execution": {
     "iopub.execute_input": "2023-12-22T01:56:55.689907Z",
     "iopub.status.busy": "2023-12-22T01:56:55.689451Z",
     "iopub.status.idle": "2023-12-22T01:57:03.278219Z",
     "shell.execute_reply": "2023-12-22T01:57:03.276668Z"
    },
    "executionInfo": {
     "elapsed": 2042,
     "status": "ok",
     "timestamp": 1699021166476,
     "user": {
      "displayName": "nick wils",
      "userId": "09906672494021070283"
     },
     "user_tz": -60
    },
    "id": "7b18597e",
    "papermill": {
     "duration": 7.611048,
     "end_time": "2023-12-22T01:57:03.281285",
     "exception": false,
     "start_time": "2023-12-22T01:56:55.670237",
     "status": "completed"
    },
    "tags": []
   },
   "outputs": [],
   "source": [
    "data = data[data.week != data.week.min()]\n",
    "data.bestseller_rank.fillna(999, inplace=True)"
   ]
  },
  {
   "cell_type": "code",
   "execution_count": 30,
   "id": "32fcbf3b",
   "metadata": {
    "execution": {
     "iopub.execute_input": "2023-12-22T01:57:03.316080Z",
     "iopub.status.busy": "2023-12-22T01:57:03.315550Z",
     "iopub.status.idle": "2023-12-22T01:57:12.749338Z",
     "shell.execute_reply": "2023-12-22T01:57:12.747733Z"
    },
    "executionInfo": {
     "elapsed": 7950,
     "status": "ok",
     "timestamp": 1699021186933,
     "user": {
      "displayName": "nick wils",
      "userId": "09906672494021070283"
     },
     "user_tz": -60
    },
    "id": "1560db63",
    "papermill": {
     "duration": 9.454919,
     "end_time": "2023-12-22T01:57:12.752626",
     "exception": false,
     "start_time": "2023-12-22T01:57:03.297707",
     "status": "completed"
    },
    "tags": []
   },
   "outputs": [],
   "source": [
    "data.sort_values(['week', 'customer_id'], inplace=True)\n",
    "data.reset_index(drop=True, inplace=True)"
   ]
  },
  {
   "cell_type": "code",
   "execution_count": 31,
   "id": "78b091d5",
   "metadata": {
    "execution": {
     "iopub.execute_input": "2023-12-22T01:57:12.792436Z",
     "iopub.status.busy": "2023-12-22T01:57:12.792040Z",
     "iopub.status.idle": "2023-12-22T01:57:27.428409Z",
     "shell.execute_reply": "2023-12-22T01:57:27.427568Z"
    },
    "executionInfo": {
     "elapsed": 5910,
     "status": "ok",
     "timestamp": 1699021192840,
     "user": {
      "displayName": "nick wils",
      "userId": "09906672494021070283"
     },
     "user_tz": -60
    },
    "id": "05114189",
    "papermill": {
     "duration": 14.65981,
     "end_time": "2023-12-22T01:57:27.430881",
     "exception": false,
     "start_time": "2023-12-22T01:57:12.771071",
     "status": "completed"
    },
    "tags": []
   },
   "outputs": [],
   "source": [
    "train = data[data.week != test_week]\n",
    "test = data[data.week==test_week].drop_duplicates(['customer_id', 'article_id', 'sales_channel_id']).copy()"
   ]
  },
  {
   "cell_type": "code",
   "execution_count": 32,
   "id": "295425e9",
   "metadata": {
    "execution": {
     "iopub.execute_input": "2023-12-22T01:57:27.464782Z",
     "iopub.status.busy": "2023-12-22T01:57:27.463842Z",
     "iopub.status.idle": "2023-12-22T01:57:28.282817Z",
     "shell.execute_reply": "2023-12-22T01:57:28.281272Z"
    },
    "executionInfo": {
     "elapsed": 996,
     "status": "ok",
     "timestamp": 1699021193784,
     "user": {
      "displayName": "nick wils",
      "userId": "09906672494021070283"
     },
     "user_tz": -60
    },
    "id": "d32dfd01",
    "papermill": {
     "duration": 0.8395,
     "end_time": "2023-12-22T01:57:28.286015",
     "exception": false,
     "start_time": "2023-12-22T01:57:27.446515",
     "status": "completed"
    },
    "tags": []
   },
   "outputs": [],
   "source": [
    "train_baskets = train.groupby(['week', 'customer_id'])['article_id'].count().values"
   ]
  },
  {
   "cell_type": "code",
   "execution_count": 33,
   "id": "6d20e86c",
   "metadata": {
    "execution": {
     "iopub.execute_input": "2023-12-22T01:57:28.319820Z",
     "iopub.status.busy": "2023-12-22T01:57:28.319288Z",
     "iopub.status.idle": "2023-12-22T01:57:28.327118Z",
     "shell.execute_reply": "2023-12-22T01:57:28.325779Z"
    },
    "executionInfo": {
     "elapsed": 11,
     "status": "ok",
     "timestamp": 1699021193785,
     "user": {
      "displayName": "nick wils",
      "userId": "09906672494021070283"
     },
     "user_tz": -60
    },
    "id": "2b027da8",
    "papermill": {
     "duration": 0.028368,
     "end_time": "2023-12-22T01:57:28.330154",
     "exception": false,
     "start_time": "2023-12-22T01:57:28.301786",
     "status": "completed"
    },
    "tags": []
   },
   "outputs": [],
   "source": [
    "columns_to_use = ['article_id', 'product_type_no', 'graphical_appearance_no', 'colour_group_code', 'perceived_colour_value_id',\n",
    "'perceived_colour_master_id', 'department_no', 'index_code',\n",
    "'index_group_no', 'section_no', 'garment_group_no', 'FN', 'Active',\n",
    "'club_member_status', 'fashion_news_frequency', 'age', 'postal_code', 'bestseller_rank',\n",
    "'buys_womens_clothing', 'buys_mens_clothes', 'buys_kid_baby_clothes']\n",
    "#  'year', 'month',"
   ]
  },
  {
   "cell_type": "code",
   "execution_count": 34,
   "id": "79b23522",
   "metadata": {
    "execution": {
     "iopub.execute_input": "2023-12-22T01:57:28.363338Z",
     "iopub.status.busy": "2023-12-22T01:57:28.362851Z",
     "iopub.status.idle": "2023-12-22T01:57:29.640736Z",
     "shell.execute_reply": "2023-12-22T01:57:29.639090Z"
    },
    "executionInfo": {
     "elapsed": 884,
     "status": "ok",
     "timestamp": 1699021194659,
     "user": {
      "displayName": "nick wils",
      "userId": "09906672494021070283"
     },
     "user_tz": -60
    },
    "id": "120aecab",
    "outputId": "ac17e6b9-f070-44a7-a804-861394e9d164",
    "papermill": {
     "duration": 1.297362,
     "end_time": "2023-12-22T01:57:29.643122",
     "exception": false,
     "start_time": "2023-12-22T01:57:28.345760",
     "status": "completed"
    },
    "tags": []
   },
   "outputs": [
    {
     "name": "stdout",
     "output_type": "stream",
     "text": [
      "CPU times: user 674 ms, sys: 593 ms, total: 1.27 s\n",
      "Wall time: 1.27 s\n"
     ]
    }
   ],
   "source": [
    "%%time\n",
    "\n",
    "train_X = train[columns_to_use]\n",
    "train_y = train['purchased']\n",
    "\n",
    "test_X = test[columns_to_use]"
   ]
  },
  {
   "cell_type": "markdown",
   "id": "39654249",
   "metadata": {
    "id": "82745ed2",
    "papermill": {
     "duration": 0.015252,
     "end_time": "2023-12-22T01:57:29.673947",
     "exception": false,
     "start_time": "2023-12-22T01:57:29.658695",
     "status": "completed"
    },
    "tags": []
   },
   "source": [
    "# Model training"
   ]
  },
  {
   "cell_type": "code",
   "execution_count": 35,
   "id": "7d4e58b8",
   "metadata": {
    "execution": {
     "iopub.execute_input": "2023-12-22T01:57:29.706615Z",
     "iopub.status.busy": "2023-12-22T01:57:29.706220Z",
     "iopub.status.idle": "2023-12-22T01:57:30.998554Z",
     "shell.execute_reply": "2023-12-22T01:57:30.996864Z"
    },
    "executionInfo": {
     "elapsed": 1538,
     "status": "ok",
     "timestamp": 1699021196194,
     "user": {
      "displayName": "nick wils",
      "userId": "09906672494021070283"
     },
     "user_tz": -60
    },
    "id": "1e949a9d",
    "papermill": {
     "duration": 1.312,
     "end_time": "2023-12-22T01:57:31.001353",
     "exception": false,
     "start_time": "2023-12-22T01:57:29.689353",
     "status": "completed"
    },
    "tags": []
   },
   "outputs": [],
   "source": [
    "from lightgbm.sklearn import LGBMRanker\n",
    "from tqdm import tqdm\n"
   ]
  },
  {
   "cell_type": "code",
   "execution_count": 36,
   "id": "d1f54f73",
   "metadata": {
    "execution": {
     "iopub.execute_input": "2023-12-22T01:57:31.035102Z",
     "iopub.status.busy": "2023-12-22T01:57:31.034729Z",
     "iopub.status.idle": "2023-12-22T01:57:31.040355Z",
     "shell.execute_reply": "2023-12-22T01:57:31.039077Z"
    },
    "executionInfo": {
     "elapsed": 4,
     "status": "ok",
     "timestamp": 1699021196194,
     "user": {
      "displayName": "nick wils",
      "userId": "09906672494021070283"
     },
     "user_tz": -60
    },
    "id": "cd60dded",
    "papermill": {
     "duration": 0.025595,
     "end_time": "2023-12-22T01:57:31.043022",
     "exception": false,
     "start_time": "2023-12-22T01:57:31.017427",
     "status": "completed"
    },
    "tags": []
   },
   "outputs": [],
   "source": [
    "ranker = LGBMRanker(\n",
    "    objective=\"lambdarank\",\n",
    "    metric=\"ndcg\",\n",
    "    boosting_type=\"dart\",\n",
    "    n_estimators=1,\n",
    "    importance_type='gain',\n",
    "    verbose=10\n",
    ")"
   ]
  },
  {
   "cell_type": "code",
   "execution_count": 37,
   "id": "b5875a02",
   "metadata": {
    "execution": {
     "iopub.execute_input": "2023-12-22T01:57:31.081238Z",
     "iopub.status.busy": "2023-12-22T01:57:31.080831Z",
     "iopub.status.idle": "2023-12-22T01:57:44.249356Z",
     "shell.execute_reply": "2023-12-22T01:57:44.248512Z"
    },
    "id": "25f040a4",
    "papermill": {
     "duration": 13.190497,
     "end_time": "2023-12-22T01:57:44.251667",
     "exception": false,
     "start_time": "2023-12-22T01:57:31.061170",
     "status": "completed"
    },
    "tags": []
   },
   "outputs": [
    {
     "name": "stdout",
     "output_type": "stream",
     "text": [
      "[LightGBM] [Debug] Dataset::GetMultiBinFromSparseFeatures: sparse rate 0.798015\n",
      "[LightGBM] [Debug] Dataset::GetMultiBinFromAllFeatures: sparse rate 0.418008\n",
      "[LightGBM] [Debug] init for col-wise cost 1.163528 seconds, init for row-wise cost 2.149877 seconds\n",
      "[LightGBM] [Warning] Auto-choosing row-wise multi-threading, the overhead of testing was 1.494854 seconds.\n",
      "You can set `force_row_wise=true` to remove the overhead.\n",
      "And if memory is not enough, you can set `force_col_wise=true`.\n",
      "[LightGBM] [Debug] Using Sparse Multi-Val Bin\n",
      "[LightGBM] [Info] Total Bins 1142\n",
      "[LightGBM] [Info] Number of data points in the train set: 9839121, number of used features: 21\n",
      "[LightGBM] [Warning] No further splits with positive gain, best gain: -inf\n",
      "[LightGBM] [Debug] Trained a tree with leaves = 5 and depth = 3\n",
      "CPU times: user 31.1 s, sys: 2.77 s, total: 33.8 s\n",
      "Wall time: 13.2 s\n"
     ]
    }
   ],
   "source": [
    "%%time\n",
    "\n",
    "ranker = ranker.fit(\n",
    "    train_X,\n",
    "    train_y,\n",
    "    group=train_baskets,\n",
    ")"
   ]
  },
  {
   "cell_type": "code",
   "execution_count": 38,
   "id": "25d84c34",
   "metadata": {
    "execution": {
     "iopub.execute_input": "2023-12-22T01:57:44.291697Z",
     "iopub.status.busy": "2023-12-22T01:57:44.291296Z",
     "iopub.status.idle": "2023-12-22T01:57:44.300281Z",
     "shell.execute_reply": "2023-12-22T01:57:44.299455Z"
    },
    "id": "4b6b5a94",
    "papermill": {
     "duration": 0.032051,
     "end_time": "2023-12-22T01:57:44.302863",
     "exception": false,
     "start_time": "2023-12-22T01:57:44.270812",
     "status": "completed"
    },
    "tags": []
   },
   "outputs": [
    {
     "name": "stdout",
     "output_type": "stream",
     "text": [
      "product_type_no 0.9999999999999997\n",
      "article_id 2.171651046441018e-16\n",
      "postal_code 3.534592926646226e-20\n",
      "section_no 0.0\n",
      "graphical_appearance_no 0.0\n",
      "colour_group_code 0.0\n",
      "perceived_colour_value_id 0.0\n",
      "perceived_colour_master_id 0.0\n",
      "department_no 0.0\n",
      "index_code 0.0\n",
      "index_group_no 0.0\n",
      "buys_kid_baby_clothes 0.0\n",
      "buys_mens_clothes 0.0\n",
      "FN 0.0\n",
      "Active 0.0\n",
      "club_member_status 0.0\n",
      "fashion_news_frequency 0.0\n",
      "age 0.0\n",
      "bestseller_rank 0.0\n",
      "buys_womens_clothing 0.0\n",
      "garment_group_no 0.0\n"
     ]
    }
   ],
   "source": [
    "for i in ranker.feature_importances_.argsort()[::-1]:\n",
    "    print(columns_to_use[i], ranker.feature_importances_[i]/ranker.feature_importances_.sum())"
   ]
  },
  {
   "cell_type": "markdown",
   "id": "ce04c2fe",
   "metadata": {
    "id": "00faf029",
    "papermill": {
     "duration": 0.018197,
     "end_time": "2023-12-22T01:57:44.340545",
     "exception": false,
     "start_time": "2023-12-22T01:57:44.322348",
     "status": "completed"
    },
    "tags": []
   },
   "source": [
    "# Calculate predictions"
   ]
  },
  {
   "cell_type": "code",
   "execution_count": 39,
   "id": "e37216cb",
   "metadata": {
    "execution": {
     "iopub.execute_input": "2023-12-22T01:57:44.381185Z",
     "iopub.status.busy": "2023-12-22T01:57:44.379983Z",
     "iopub.status.idle": "2023-12-22T01:58:00.235005Z",
     "shell.execute_reply": "2023-12-22T01:58:00.233651Z"
    },
    "id": "7e862846",
    "papermill": {
     "duration": 15.878995,
     "end_time": "2023-12-22T01:58:00.238293",
     "exception": false,
     "start_time": "2023-12-22T01:57:44.359298",
     "status": "completed"
    },
    "tags": []
   },
   "outputs": [
    {
     "name": "stdout",
     "output_type": "stream",
     "text": [
      "CPU times: user 3 µs, sys: 1 µs, total: 4 µs\n",
      "Wall time: 8.11 µs\n"
     ]
    }
   ],
   "source": [
    "%time\n",
    "\n",
    "test['preds'] = ranker.predict(test_X)\n",
    "\n",
    "c_id2predicted_article_ids = test \\\n",
    "    .sort_values(['customer_id', 'preds'], ascending=False) \\\n",
    "    .groupby('customer_id')['article_id'].apply(list).to_dict()\n",
    "\n",
    "bestsellers_last_week = \\\n",
    "    bestsellers_previous_week[bestsellers_previous_week.week == bestsellers_previous_week.week.max()]['article_id'].tolist()"
   ]
  },
  {
   "cell_type": "markdown",
   "id": "2b332824",
   "metadata": {
    "id": "de045e98",
    "papermill": {
     "duration": 0.02005,
     "end_time": "2023-12-22T01:58:00.278203",
     "exception": false,
     "start_time": "2023-12-22T01:58:00.258153",
     "status": "completed"
    },
    "tags": []
   },
   "source": [
    "# Create submission"
   ]
  },
  {
   "cell_type": "code",
   "execution_count": 40,
   "id": "1ec910ba",
   "metadata": {
    "execution": {
     "iopub.execute_input": "2023-12-22T01:58:00.318644Z",
     "iopub.status.busy": "2023-12-22T01:58:00.317341Z",
     "iopub.status.idle": "2023-12-22T01:58:05.402455Z",
     "shell.execute_reply": "2023-12-22T01:58:05.401196Z"
    },
    "id": "43e4fda7",
    "papermill": {
     "duration": 5.107833,
     "end_time": "2023-12-22T01:58:05.405042",
     "exception": false,
     "start_time": "2023-12-22T01:58:00.297209",
     "status": "completed"
    },
    "tags": []
   },
   "outputs": [],
   "source": [
    "sub = pd.read_csv('/kaggle/input/h-and-m-personalized-fashion-recommendations/sample_submission.csv')"
   ]
  },
  {
   "cell_type": "code",
   "execution_count": 41,
   "id": "db455096",
   "metadata": {
    "execution": {
     "iopub.execute_input": "2023-12-22T01:58:05.440407Z",
     "iopub.status.busy": "2023-12-22T01:58:05.440020Z",
     "iopub.status.idle": "2023-12-22T01:58:14.943906Z",
     "shell.execute_reply": "2023-12-22T01:58:14.942368Z"
    },
    "id": "a35ac969",
    "papermill": {
     "duration": 9.525116,
     "end_time": "2023-12-22T01:58:14.947107",
     "exception": false,
     "start_time": "2023-12-22T01:58:05.421991",
     "status": "completed"
    },
    "tags": []
   },
   "outputs": [
    {
     "name": "stdout",
     "output_type": "stream",
     "text": [
      "CPU times: user 9.25 s, sys: 249 ms, total: 9.5 s\n",
      "Wall time: 9.49 s\n"
     ]
    }
   ],
   "source": [
    "%%time\n",
    "preds = []\n",
    "predsval = []\n",
    "positive_items_val = val.groupby(['customer_id'])['article_id'].apply(list)\n",
    "# creating validation set for metrics use case\n",
    "val_users = positive_items_val.keys()\n",
    "val_items = []\n",
    "\n",
    "for c_id in customer_hex_id_to_int(sub.customer_id):\n",
    "    pred = c_id2predicted_article_ids.get(c_id, [])\n",
    "    pred = pred + bestsellers_last_week\n",
    "    preds.append(pred[:12])\n",
    "    if c_id in val_users:\n",
    "\n",
    "        predsval.append(pred[:12])\n",
    "        val_items.append(positive_items_val[c_id])"
   ]
  },
  {
   "cell_type": "code",
   "execution_count": 42,
   "id": "0a6208d1",
   "metadata": {
    "execution": {
     "iopub.execute_input": "2023-12-22T01:58:14.988437Z",
     "iopub.status.busy": "2023-12-22T01:58:14.987582Z",
     "iopub.status.idle": "2023-12-22T01:58:15.510137Z",
     "shell.execute_reply": "2023-12-22T01:58:15.509365Z"
    },
    "papermill": {
     "duration": 0.546392,
     "end_time": "2023-12-22T01:58:15.513022",
     "exception": false,
     "start_time": "2023-12-22T01:58:14.966630",
     "status": "completed"
    },
    "tags": []
   },
   "outputs": [
    {
     "name": "stdout",
     "output_type": "stream",
     "text": [
      "Total users in validation: 68984\n",
      "mAP12 Score on Validation set: 0.013107914471683598\n",
      "precision Score on Validation set: 0.0038982469364876875\n",
      "recall Score on Validation set: 0.020387639576473455\n"
     ]
    }
   ],
   "source": [
    "if Testting:\n",
    "    print(\"Total users in validation:\", len(val_users))\n",
    "    print(\"mAP12 Score on Validation set:\", mapk(val_items, predsval))\n",
    "    print(\"precision Score on Validation set:\", precision12(val_items, predsval))\n",
    "    print(\"recall Score on Validation set:\", recall12(val_items, predsval))"
   ]
  },
  {
   "cell_type": "code",
   "execution_count": 43,
   "id": "b1124f53",
   "metadata": {
    "execution": {
     "iopub.execute_input": "2023-12-22T01:58:15.555213Z",
     "iopub.status.busy": "2023-12-22T01:58:15.554597Z",
     "iopub.status.idle": "2023-12-22T01:58:20.988919Z",
     "shell.execute_reply": "2023-12-22T01:58:20.987190Z"
    },
    "id": "3f8f9304",
    "papermill": {
     "duration": 5.459013,
     "end_time": "2023-12-22T01:58:20.992417",
     "exception": false,
     "start_time": "2023-12-22T01:58:15.533404",
     "status": "completed"
    },
    "tags": []
   },
   "outputs": [],
   "source": [
    "preds = [' '.join(['0' + str(p) for p in ps]) for ps in preds]\n",
    "sub.prediction = preds"
   ]
  },
  {
   "cell_type": "code",
   "execution_count": 44,
   "id": "13acb02d",
   "metadata": {
    "execution": {
     "iopub.execute_input": "2023-12-22T01:58:21.033546Z",
     "iopub.status.busy": "2023-12-22T01:58:21.032865Z",
     "iopub.status.idle": "2023-12-22T01:58:39.894813Z",
     "shell.execute_reply": "2023-12-22T01:58:39.893559Z"
    },
    "id": "62d8338d",
    "papermill": {
     "duration": 18.886123,
     "end_time": "2023-12-22T01:58:39.897961",
     "exception": false,
     "start_time": "2023-12-22T01:58:21.011838",
     "status": "completed"
    },
    "tags": []
   },
   "outputs": [],
   "source": [
    "sub_name = 'candidateRepurchase'\n",
    "sub.to_csv(f'{sub_name}.csv.gz', index=False)"
   ]
  }
 ],
 "metadata": {
  "kaggle": {
   "accelerator": "none",
   "dataSources": [
    {
     "databundleVersionId": 3103714,
     "sourceId": 31254,
     "sourceType": "competition"
    },
    {
     "datasetId": 3950161,
     "sourceId": 6874227,
     "sourceType": "datasetVersion"
    },
    {
     "datasetId": 3950274,
     "sourceId": 6874424,
     "sourceType": "datasetVersion"
    },
    {
     "datasetId": 3954698,
     "sourceId": 6883243,
     "sourceType": "datasetVersion"
    },
    {
     "sourceId": 149573710,
     "sourceType": "kernelVersion"
    }
   ],
   "dockerImageVersionId": 30587,
   "isGpuEnabled": false,
   "isInternetEnabled": true,
   "language": "python",
   "sourceType": "notebook"
  },
  "kernelspec": {
   "display_name": "Python 3",
   "language": "python",
   "name": "python3"
  },
  "language_info": {
   "codemirror_mode": {
    "name": "ipython",
    "version": 3
   },
   "file_extension": ".py",
   "mimetype": "text/x-python",
   "name": "python",
   "nbconvert_exporter": "python",
   "pygments_lexer": "ipython3",
   "version": "3.10.12"
  },
  "papermill": {
   "default_parameters": {},
   "duration": 210.942868,
   "end_time": "2023-12-22T01:58:42.642198",
   "environment_variables": {},
   "exception": null,
   "input_path": "__notebook__.ipynb",
   "output_path": "__notebook__.ipynb",
   "parameters": {},
   "start_time": "2023-12-22T01:55:11.699330",
   "version": "2.4.0"
  }
 },
 "nbformat": 4,
 "nbformat_minor": 5
}
