{
 "cells": [
  {
   "cell_type": "code",
   "execution_count": 1,
   "id": "57f856fa",
   "metadata": {
    "_cell_guid": "b1076dfc-b9ad-4769-8c92-a6c4dae69d19",
    "_uuid": "8f2839f25d086af736a60e9eeb907d3b93b6e0e5",
    "execution": {
     "iopub.execute_input": "2023-12-22T00:06:12.049448Z",
     "iopub.status.busy": "2023-12-22T00:06:12.048756Z",
     "iopub.status.idle": "2023-12-22T00:06:12.060941Z",
     "shell.execute_reply": "2023-12-22T00:06:12.060224Z"
    },
    "papermill": {
     "duration": 0.021121,
     "end_time": "2023-12-22T00:06:12.063811",
     "exception": false,
     "start_time": "2023-12-22T00:06:12.042690",
     "status": "completed"
    },
    "tags": []
   },
   "outputs": [],
   "source": [
    "import numpy as np\n",
    "\n",
    "def apk(actual, predicted, k=10):\n",
    "    \"\"\"\n",
    "    Computes the average precision at k.\n",
    "\n",
    "    This function computes the average prescision at k between two lists of\n",
    "    items.\n",
    "\n",
    "    Parameters\n",
    "    ----------\n",
    "    actual : list\n",
    "             A list of elements that are to be predicted (order doesn't matter)\n",
    "    predicted : list\n",
    "                A list of predicted elements (order does matter)\n",
    "    k : int, optional\n",
    "        The maximum number of predicted elements\n",
    "\n",
    "    Returns\n",
    "    -------\n",
    "    score : double\n",
    "            The average precision at k over the input lists\n",
    "\n",
    "    \"\"\"\n",
    "    if len(predicted)>k:\n",
    "        predicted = predicted[:k]\n",
    "\n",
    "    score = 0.0\n",
    "    num_hits = 0.0\n",
    "\n",
    "    for i,p in enumerate(predicted):\n",
    "        if p in actual and p not in predicted[:i]:\n",
    "            num_hits += 1.0\n",
    "            score += num_hits / (i+1.0)\n",
    "\n",
    "    if not actual:\n",
    "        return 0.0\n",
    "\n",
    "    return score / min(len(actual), k)\n",
    "\n",
    "def mapk(actual, predicted, k=10):\n",
    "    \"\"\"\n",
    "    Computes the mean average precision at k.\n",
    "\n",
    "    This function computes the mean average prescision at k between two lists\n",
    "    of lists of items.\n",
    "\n",
    "    Parameters\n",
    "    ----------\n",
    "    actual : list\n",
    "             A list of lists of elements that are to be predicted\n",
    "             (order doesn't matter in the lists)\n",
    "    predicted : list\n",
    "                A list of lists of predicted elements\n",
    "                (order matters in the lists)\n",
    "    k : int, optional\n",
    "        The maximum number of predicted elements\n",
    "\n",
    "    Returns\n",
    "    -------\n",
    "    score : double\n",
    "            The mean average precision at k over the input lists\n",
    "\n",
    "    \"\"\"\n",
    "    return np.mean([apk(a,p,k) for a,p in zip(actual, predicted)])"
   ]
  },
  {
   "cell_type": "code",
   "execution_count": 2,
   "id": "cf6198d4",
   "metadata": {
    "execution": {
     "iopub.execute_input": "2023-12-22T00:06:12.075554Z",
     "iopub.status.busy": "2023-12-22T00:06:12.075254Z",
     "iopub.status.idle": "2023-12-22T00:06:13.397896Z",
     "shell.execute_reply": "2023-12-22T00:06:13.396155Z"
    },
    "papermill": {
     "duration": 1.330264,
     "end_time": "2023-12-22T00:06:13.400619",
     "exception": false,
     "start_time": "2023-12-22T00:06:12.070355",
     "status": "completed"
    },
    "tags": []
   },
   "outputs": [],
   "source": [
    "from sklearn.base import BaseEstimator, TransformerMixin\n",
    "import numpy as np\n",
    "\n",
    "# https://www.kaggle.com/c/h-and-m-personalized-fashion-recommendations/discussion/308635\n",
    "def customer_hex_id_to_int(series):\n",
    "    return series.str[-16:].apply(hex_id_to_int)\n",
    "\n",
    "def hex_id_to_int(str):\n",
    "    return int(str[-16:], 16)\n",
    "\n",
    "def article_id_str_to_int(series):\n",
    "    return series.astype('int32')\n",
    "\n",
    "def article_id_int_to_str(series):\n",
    "    return '0' + series.astype('str')\n",
    "\n",
    "class Categorize(BaseEstimator, TransformerMixin):\n",
    "    def __init__(self, min_examples=0):\n",
    "        self.min_examples = min_examples\n",
    "        self.categories = []\n",
    "\n",
    "    def fit(self, X):\n",
    "        for i in range(X.shape[1]):\n",
    "            vc = X.iloc[:, i].value_counts()\n",
    "            self.categories.append(vc[vc > self.min_examples].index.tolist())\n",
    "        return self\n",
    "\n",
    "    def transform(self, X):\n",
    "        data = {X.columns[i]: pd.Categorical(X.iloc[:, i], categories=self.categories[i]).codes for i in range(X.shape[1])}\n",
    "        return pd.DataFrame(data=data)\n",
    "\n",
    "\n",
    "def calculate_apk(list_of_preds, list_of_gts):\n",
    "    # for fast validation this can be changed to operate on dicts of {'cust_id_int': [art_id_int, ...]}\n",
    "    # using 'data/val_week_purchases_by_cust.pkl'\n",
    "    apks = []\n",
    "    for preds, gt in zip(list_of_preds, list_of_gts):\n",
    "        apks.append(apk(gt, preds, k=12))\n",
    "    return np.mean(apks)\n",
    "\n",
    "def eval_sub(sub_csv, skip_cust_with_no_purchases=True):\n",
    "    sub=pd.read_csv(sub_csv)\n",
    "    validation_set=pd.read_parquet('data/validation_ground_truth.parquet')\n",
    "\n",
    "    apks = []\n",
    "\n",
    "    no_purchases_pattern = []\n",
    "    for pred, gt in zip(sub.prediction.str.split(), validation_set.prediction.str.split()):\n",
    "        if skip_cust_with_no_purchases and (gt == no_purchases_pattern): continue\n",
    "        apks.append(apk(gt, pred, k=12))\n",
    "    return np.mean(apks)"
   ]
  },
  {
   "cell_type": "code",
   "execution_count": 3,
   "id": "43dc493b",
   "metadata": {
    "execution": {
     "iopub.execute_input": "2023-12-22T00:06:13.410111Z",
     "iopub.status.busy": "2023-12-22T00:06:13.409668Z",
     "iopub.status.idle": "2023-12-22T00:06:14.259414Z",
     "shell.execute_reply": "2023-12-22T00:06:14.258175Z"
    },
    "papermill": {
     "duration": 0.857441,
     "end_time": "2023-12-22T00:06:14.261984",
     "exception": false,
     "start_time": "2023-12-22T00:06:13.404543",
     "status": "completed"
    },
    "tags": []
   },
   "outputs": [],
   "source": [
    "import pandas as pd"
   ]
  },
  {
   "cell_type": "markdown",
   "id": "05e1e0ba",
   "metadata": {
    "papermill": {
     "duration": 0.003358,
     "end_time": "2023-12-22T00:06:14.269313",
     "exception": false,
     "start_time": "2023-12-22T00:06:14.265955",
     "status": "completed"
    },
    "tags": []
   },
   "source": [
    "# Read input files"
   ]
  },
  {
   "cell_type": "code",
   "execution_count": 4,
   "id": "27e639f7",
   "metadata": {
    "execution": {
     "iopub.execute_input": "2023-12-22T00:06:14.279332Z",
     "iopub.status.busy": "2023-12-22T00:06:14.278839Z",
     "iopub.status.idle": "2023-12-22T00:06:19.474582Z",
     "shell.execute_reply": "2023-12-22T00:06:19.473710Z"
    },
    "papermill": {
     "duration": 5.202765,
     "end_time": "2023-12-22T00:06:19.476486",
     "exception": false,
     "start_time": "2023-12-22T00:06:14.273721",
     "status": "completed"
    },
    "tags": []
   },
   "outputs": [
    {
     "name": "stdout",
     "output_type": "stream",
     "text": [
      "CPU times: user 2.13 s, sys: 2.34 s, total: 4.47 s\n",
      "Wall time: 5.19 s\n"
     ]
    }
   ],
   "source": [
    "%%time\n",
    "pad = \"/kaggle/input/makeparquet\"\n",
    "transactions = pd.read_parquet(pad+'/transactions_train.parquet')\n",
    "customers = pd.read_parquet(pad+'/customers.parquet')\n",
    "articles = pd.read_parquet(pad+'/articles.parquet')"
   ]
  },
  {
   "cell_type": "markdown",
   "id": "a98c63ee",
   "metadata": {
    "papermill": {
     "duration": 0.003407,
     "end_time": "2023-12-22T00:06:19.483876",
     "exception": false,
     "start_time": "2023-12-22T00:06:19.480469",
     "status": "completed"
    },
    "tags": []
   },
   "source": [
    "# Choose how many last weeks to look at"
   ]
  },
  {
   "cell_type": "code",
   "execution_count": 5,
   "id": "42a1b50d",
   "metadata": {
    "execution": {
     "iopub.execute_input": "2023-12-22T00:06:19.492828Z",
     "iopub.status.busy": "2023-12-22T00:06:19.492514Z",
     "iopub.status.idle": "2023-12-22T00:06:19.496652Z",
     "shell.execute_reply": "2023-12-22T00:06:19.495976Z"
    },
    "papermill": {
     "duration": 0.010802,
     "end_time": "2023-12-22T00:06:19.498357",
     "exception": false,
     "start_time": "2023-12-22T00:06:19.487555",
     "status": "completed"
    },
    "tags": []
   },
   "outputs": [],
   "source": [
    "how_many_last_weeks = 4"
   ]
  },
  {
   "cell_type": "code",
   "execution_count": 6,
   "id": "b7766429",
   "metadata": {
    "execution": {
     "iopub.execute_input": "2023-12-22T00:06:19.508154Z",
     "iopub.status.busy": "2023-12-22T00:06:19.507334Z",
     "iopub.status.idle": "2023-12-22T00:06:19.608099Z",
     "shell.execute_reply": "2023-12-22T00:06:19.606699Z"
    },
    "papermill": {
     "duration": 0.108264,
     "end_time": "2023-12-22T00:06:19.610676",
     "exception": false,
     "start_time": "2023-12-22T00:06:19.502412",
     "status": "completed"
    },
    "tags": []
   },
   "outputs": [],
   "source": [
    "how_many_last_weeks -= 1\n",
    "test_week = transactions.week.max() + 1\n",
    "transactions = transactions[transactions.week >= transactions.week.max() - how_many_last_weeks]"
   ]
  },
  {
   "cell_type": "code",
   "execution_count": 7,
   "id": "ba46399f",
   "metadata": {
    "execution": {
     "iopub.execute_input": "2023-12-22T00:06:19.625474Z",
     "iopub.status.busy": "2023-12-22T00:06:19.625048Z",
     "iopub.status.idle": "2023-12-22T00:06:24.082846Z",
     "shell.execute_reply": "2023-12-22T00:06:24.081454Z"
    },
    "papermill": {
     "duration": 4.467133,
     "end_time": "2023-12-22T00:06:24.085793",
     "exception": false,
     "start_time": "2023-12-22T00:06:19.618660",
     "status": "completed"
    },
    "tags": []
   },
   "outputs": [],
   "source": [
    "sub = pd.read_csv('/kaggle/input/h-and-m-personalized-fashion-recommendations/sample_submission.csv')"
   ]
  },
  {
   "cell_type": "markdown",
   "id": "034b9411",
   "metadata": {
    "papermill": {
     "duration": 0.003477,
     "end_time": "2023-12-22T00:06:24.093433",
     "exception": false,
     "start_time": "2023-12-22T00:06:24.089956",
     "status": "completed"
    },
    "tags": []
   },
   "source": [
    "# Find the last 12 owned items in the timeframe for each customers fill up with 0000"
   ]
  },
  {
   "cell_type": "code",
   "execution_count": 8,
   "id": "edeefbd2",
   "metadata": {
    "execution": {
     "iopub.execute_input": "2023-12-22T00:06:24.103533Z",
     "iopub.status.busy": "2023-12-22T00:06:24.103207Z",
     "iopub.status.idle": "2023-12-22T00:06:29.790598Z",
     "shell.execute_reply": "2023-12-22T00:06:29.789437Z"
    },
    "papermill": {
     "duration": 5.695513,
     "end_time": "2023-12-22T00:06:29.793094",
     "exception": false,
     "start_time": "2023-12-22T00:06:24.097581",
     "status": "completed"
    },
    "tags": []
   },
   "outputs": [],
   "source": [
    "# Create a dictionary of owned articles for each customer\n",
    "owned_articles = transactions.groupby('customer_id')['article_id'].apply(list).to_dict()\n",
    "\n",
    "def get_latest_bought_articles2(customer_id, owned_articles):\n",
    "    new_predictions = []\n",
    "    bought_articles = owned_articles.get(customer_id, [])\n",
    "    \n",
    "    # Create a DataFrame with the bought articles for the specific customer\n",
    "    customer_transactions = transactions[(transactions['customer_id'] == customer_id) & (transactions['article_id'].isin(bought_articles))]\n",
    "    \n",
    "    # Sort by purchase date in descending order\n",
    "    customer_transactions = customer_transactions.sort_values(by='t_dat', ascending=False)\n",
    "    \n",
    "    # Take the latest 12 unique bought articles\n",
    "    latest_bought = customer_transactions['article_id'].unique()[:12]\n",
    "    \n",
    "    for i in range(12):\n",
    "        if i<len(latest_bought):\n",
    "            new_predictions.append(latest_bought[i])\n",
    "        else:\n",
    "            new_predictions.append('000000000')\n",
    "    return new_predictions\n"
   ]
  },
  {
   "cell_type": "code",
   "execution_count": 9,
   "id": "b25b0a87",
   "metadata": {
    "execution": {
     "iopub.execute_input": "2023-12-22T00:06:29.803946Z",
     "iopub.status.busy": "2023-12-22T00:06:29.802794Z",
     "iopub.status.idle": "2023-12-22T00:54:57.780366Z",
     "shell.execute_reply": "2023-12-22T00:54:57.778690Z"
    },
    "papermill": {
     "duration": 2907.985058,
     "end_time": "2023-12-22T00:54:57.782456",
     "exception": false,
     "start_time": "2023-12-22T00:06:29.797398",
     "status": "completed"
    },
    "tags": []
   },
   "outputs": [
    {
     "name": "stderr",
     "output_type": "stream",
     "text": [
      "100%|██████████| 1371980/1371980 [48:26<00:00, 471.97it/s]"
     ]
    },
    {
     "name": "stdout",
     "output_type": "stream",
     "text": [
      "CPU times: user 48min 28s, sys: 11.9 s, total: 48min 40s\n",
      "Wall time: 48min 27s\n"
     ]
    },
    {
     "name": "stderr",
     "output_type": "stream",
     "text": [
      "\n"
     ]
    }
   ],
   "source": [
    "%%time\n",
    "from tqdm import tqdm\n",
    "preds = []\n",
    "for c_id in tqdm(customer_hex_id_to_int(sub.customer_id)):\n",
    "    \n",
    "    pred = get_latest_bought_articles2(c_id, owned_articles)\n",
    "    preds.append(pred[:12])"
   ]
  },
  {
   "cell_type": "markdown",
   "id": "b33aa7f7",
   "metadata": {
    "papermill": {
     "duration": 1.681989,
     "end_time": "2023-12-22T00:55:01.059895",
     "exception": false,
     "start_time": "2023-12-22T00:54:59.377906",
     "status": "completed"
    },
    "tags": []
   },
   "source": [
    "# Write Dictionary away"
   ]
  },
  {
   "cell_type": "code",
   "execution_count": 10,
   "id": "af6802ee",
   "metadata": {
    "execution": {
     "iopub.execute_input": "2023-12-22T00:55:04.421415Z",
     "iopub.status.busy": "2023-12-22T00:55:04.420746Z",
     "iopub.status.idle": "2023-12-22T00:55:09.880574Z",
     "shell.execute_reply": "2023-12-22T00:55:09.879396Z"
    },
    "papermill": {
     "duration": 7.04941,
     "end_time": "2023-12-22T00:55:09.883271",
     "exception": false,
     "start_time": "2023-12-22T00:55:02.833861",
     "status": "completed"
    },
    "tags": []
   },
   "outputs": [],
   "source": [
    "df = pd.DataFrame(preds)\n",
    "df.to_csv(f\"repurchase{how_many_last_weeks}Weeks.csv\", index=False)"
   ]
  },
  {
   "cell_type": "markdown",
   "id": "c20e640f",
   "metadata": {
    "papermill": {
     "duration": 1.751207,
     "end_time": "2023-12-22T00:55:13.308902",
     "exception": false,
     "start_time": "2023-12-22T00:55:11.557695",
     "status": "completed"
    },
    "tags": []
   },
   "source": [
    "# Make Submission"
   ]
  },
  {
   "cell_type": "code",
   "execution_count": 11,
   "id": "2e86ca80",
   "metadata": {
    "execution": {
     "iopub.execute_input": "2023-12-22T00:55:16.590614Z",
     "iopub.status.busy": "2023-12-22T00:55:16.590190Z",
     "iopub.status.idle": "2023-12-22T00:55:20.776860Z",
     "shell.execute_reply": "2023-12-22T00:55:20.776144Z"
    },
    "papermill": {
     "duration": 5.878137,
     "end_time": "2023-12-22T00:55:20.778998",
     "exception": false,
     "start_time": "2023-12-22T00:55:14.900861",
     "status": "completed"
    },
    "tags": []
   },
   "outputs": [],
   "source": [
    "preds2 = [' '.join(['0' + str(p) for p in ps]) for ps in preds]\n",
    "sub.prediction = preds2"
   ]
  },
  {
   "cell_type": "code",
   "execution_count": 12,
   "id": "f678a52a",
   "metadata": {
    "execution": {
     "iopub.execute_input": "2023-12-22T00:55:24.110466Z",
     "iopub.status.busy": "2023-12-22T00:55:24.110113Z",
     "iopub.status.idle": "2023-12-22T00:55:37.856830Z",
     "shell.execute_reply": "2023-12-22T00:55:37.856020Z"
    },
    "papermill": {
     "duration": 15.328958,
     "end_time": "2023-12-22T00:55:37.859118",
     "exception": false,
     "start_time": "2023-12-22T00:55:22.530160",
     "status": "completed"
    },
    "tags": []
   },
   "outputs": [],
   "source": [
    "sub_name = f\"Repurchase_sub_{how_many_last_weeks+1}weeks\"\n",
    "sub.to_csv(f'{sub_name}.csv.gz', index=False)"
   ]
  }
 ],
 "metadata": {
  "kaggle": {
   "accelerator": "none",
   "dataSources": [
    {
     "databundleVersionId": 3103714,
     "sourceId": 31254,
     "sourceType": "competition"
    },
    {
     "sourceId": 149573710,
     "sourceType": "kernelVersion"
    }
   ],
   "dockerImageVersionId": 30587,
   "isGpuEnabled": false,
   "isInternetEnabled": true,
   "language": "python",
   "sourceType": "notebook"
  },
  "kernelspec": {
   "display_name": "Python 3",
   "language": "python",
   "name": "python3"
  },
  "language_info": {
   "codemirror_mode": {
    "name": "ipython",
    "version": 3
   },
   "file_extension": ".py",
   "mimetype": "text/x-python",
   "name": "python",
   "nbconvert_exporter": "python",
   "pygments_lexer": "ipython3",
   "version": "3.10.12"
  },
  "papermill": {
   "default_parameters": {},
   "duration": 2972.123065,
   "end_time": "2023-12-22T00:55:41.070646",
   "environment_variables": {},
   "exception": null,
   "input_path": "__notebook__.ipynb",
   "output_path": "__notebook__.ipynb",
   "parameters": {},
   "start_time": "2023-12-22T00:06:08.947581",
   "version": "2.4.0"
  }
 },
 "nbformat": 4,
 "nbformat_minor": 5
}
