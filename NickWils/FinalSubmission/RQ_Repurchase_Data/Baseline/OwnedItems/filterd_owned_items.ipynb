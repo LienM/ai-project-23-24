{
 "cells": [
  {
   "cell_type": "code",
   "execution_count": 1,
   "id": "5272a42d",
   "metadata": {
    "_cell_guid": "b1076dfc-b9ad-4769-8c92-a6c4dae69d19",
    "_uuid": "8f2839f25d086af736a60e9eeb907d3b93b6e0e5",
    "execution": {
     "iopub.execute_input": "2023-12-22T00:39:52.263510Z",
     "iopub.status.busy": "2023-12-22T00:39:52.263119Z",
     "iopub.status.idle": "2023-12-22T00:39:52.279559Z",
     "shell.execute_reply": "2023-12-22T00:39:52.278145Z"
    },
    "papermill": {
     "duration": 0.027109,
     "end_time": "2023-12-22T00:39:52.282407",
     "exception": false,
     "start_time": "2023-12-22T00:39:52.255298",
     "status": "completed"
    },
    "tags": []
   },
   "outputs": [],
   "source": [
    "import numpy as np\n",
    "\n",
    "def apk(actual, predicted, k=10):\n",
    "    \"\"\"\n",
    "    Computes the average precision at k.\n",
    "\n",
    "    This function computes the average prescision at k between two lists of\n",
    "    items.\n",
    "\n",
    "    Parameters\n",
    "    ----------\n",
    "    actual : list\n",
    "             A list of elements that are to be predicted (order doesn't matter)\n",
    "    predicted : list\n",
    "                A list of predicted elements (order does matter)\n",
    "    k : int, optional\n",
    "        The maximum number of predicted elements\n",
    "\n",
    "    Returns\n",
    "    -------\n",
    "    score : double\n",
    "            The average precision at k over the input lists\n",
    "\n",
    "    \"\"\"\n",
    "    if len(predicted)>k:\n",
    "        predicted = predicted[:k]\n",
    "\n",
    "    score = 0.0\n",
    "    num_hits = 0.0\n",
    "\n",
    "    for i,p in enumerate(predicted):\n",
    "        if p in actual and p not in predicted[:i]:\n",
    "            num_hits += 1.0\n",
    "            score += num_hits / (i+1.0)\n",
    "\n",
    "    if not actual:\n",
    "        return 0.0\n",
    "\n",
    "    return score / min(len(actual), k)\n",
    "\n",
    "def mapk(actual, predicted, k=10):\n",
    "    \"\"\"\n",
    "    Computes the mean average precision at k.\n",
    "\n",
    "    This function computes the mean average prescision at k between two lists\n",
    "    of lists of items.\n",
    "\n",
    "    Parameters\n",
    "    ----------\n",
    "    actual : list\n",
    "             A list of lists of elements that are to be predicted\n",
    "             (order doesn't matter in the lists)\n",
    "    predicted : list\n",
    "                A list of lists of predicted elements\n",
    "                (order matters in the lists)\n",
    "    k : int, optional\n",
    "        The maximum number of predicted elements\n",
    "\n",
    "    Returns\n",
    "    -------\n",
    "    score : double\n",
    "            The mean average precision at k over the input lists\n",
    "\n",
    "    \"\"\"\n",
    "    return np.mean([apk(a,p,k) for a,p in zip(actual, predicted)])"
   ]
  },
  {
   "cell_type": "code",
   "execution_count": 2,
   "id": "810a577d",
   "metadata": {
    "execution": {
     "iopub.execute_input": "2023-12-22T00:39:52.297555Z",
     "iopub.status.busy": "2023-12-22T00:39:52.296813Z",
     "iopub.status.idle": "2023-12-22T00:39:53.498778Z",
     "shell.execute_reply": "2023-12-22T00:39:53.497845Z"
    },
    "papermill": {
     "duration": 1.211711,
     "end_time": "2023-12-22T00:39:53.501526",
     "exception": false,
     "start_time": "2023-12-22T00:39:52.289815",
     "status": "completed"
    },
    "tags": []
   },
   "outputs": [],
   "source": [
    "from sklearn.base import BaseEstimator, TransformerMixin\n",
    "import numpy as np\n",
    "\n",
    "# https://www.kaggle.com/c/h-and-m-personalized-fashion-recommendations/discussion/308635\n",
    "def customer_hex_id_to_int(series):\n",
    "    return series.str[-16:].apply(hex_id_to_int)\n",
    "\n",
    "def hex_id_to_int(str):\n",
    "    return int(str[-16:], 16)\n",
    "\n",
    "def article_id_str_to_int(series):\n",
    "    return series.astype('int32')\n",
    "\n",
    "def article_id_int_to_str(series):\n",
    "    return '0' + series.astype('str')\n",
    "\n",
    "class Categorize(BaseEstimator, TransformerMixin):\n",
    "    def __init__(self, min_examples=0):\n",
    "        self.min_examples = min_examples\n",
    "        self.categories = []\n",
    "\n",
    "    def fit(self, X):\n",
    "        for i in range(X.shape[1]):\n",
    "            vc = X.iloc[:, i].value_counts()\n",
    "            self.categories.append(vc[vc > self.min_examples].index.tolist())\n",
    "        return self\n",
    "\n",
    "    def transform(self, X):\n",
    "        data = {X.columns[i]: pd.Categorical(X.iloc[:, i], categories=self.categories[i]).codes for i in range(X.shape[1])}\n",
    "        return pd.DataFrame(data=data)\n",
    "\n",
    "\n",
    "def calculate_apk(list_of_preds, list_of_gts):\n",
    "    # for fast validation this can be changed to operate on dicts of {'cust_id_int': [art_id_int, ...]}\n",
    "    # using 'data/val_week_purchases_by_cust.pkl'\n",
    "    apks = []\n",
    "    for preds, gt in zip(list_of_preds, list_of_gts):\n",
    "        apks.append(apk(gt, preds, k=12))\n",
    "    return np.mean(apks)\n",
    "\n",
    "def eval_sub(sub_csv, skip_cust_with_no_purchases=True):\n",
    "    sub=pd.read_csv(sub_csv)\n",
    "    validation_set=pd.read_parquet('data/validation_ground_truth.parquet')\n",
    "\n",
    "    apks = []\n",
    "\n",
    "    no_purchases_pattern = []\n",
    "    for pred, gt in zip(sub.prediction.str.split(), validation_set.prediction.str.split()):\n",
    "        if skip_cust_with_no_purchases and (gt == no_purchases_pattern): continue\n",
    "        apks.append(apk(gt, pred, k=12))\n",
    "    return np.mean(apks)"
   ]
  },
  {
   "cell_type": "code",
   "execution_count": 3,
   "id": "3a8bb152",
   "metadata": {
    "execution": {
     "iopub.execute_input": "2023-12-22T00:39:53.514967Z",
     "iopub.status.busy": "2023-12-22T00:39:53.514534Z",
     "iopub.status.idle": "2023-12-22T00:39:54.335976Z",
     "shell.execute_reply": "2023-12-22T00:39:54.334976Z"
    },
    "papermill": {
     "duration": 0.831697,
     "end_time": "2023-12-22T00:39:54.338993",
     "exception": false,
     "start_time": "2023-12-22T00:39:53.507296",
     "status": "completed"
    },
    "tags": []
   },
   "outputs": [],
   "source": [
    "import pandas as pd"
   ]
  },
  {
   "cell_type": "markdown",
   "id": "d57489fe",
   "metadata": {
    "papermill": {
     "duration": 0.005151,
     "end_time": "2023-12-22T00:39:54.349925",
     "exception": false,
     "start_time": "2023-12-22T00:39:54.344774",
     "status": "completed"
    },
    "tags": []
   },
   "source": [
    "# Read input files"
   ]
  },
  {
   "cell_type": "code",
   "execution_count": 4,
   "id": "06e3db0b",
   "metadata": {
    "execution": {
     "iopub.execute_input": "2023-12-22T00:39:54.362369Z",
     "iopub.status.busy": "2023-12-22T00:39:54.361839Z",
     "iopub.status.idle": "2023-12-22T00:40:00.351314Z",
     "shell.execute_reply": "2023-12-22T00:40:00.350316Z"
    },
    "papermill": {
     "duration": 5.999014,
     "end_time": "2023-12-22T00:40:00.354254",
     "exception": false,
     "start_time": "2023-12-22T00:39:54.355240",
     "status": "completed"
    },
    "tags": []
   },
   "outputs": [
    {
     "name": "stdout",
     "output_type": "stream",
     "text": [
      "CPU times: user 3.78 s, sys: 5.1 s, total: 8.88 s\n",
      "Wall time: 5.98 s\n"
     ]
    }
   ],
   "source": [
    "%%time\n",
    "pad = \"/kaggle/input/makeparquet\"\n",
    "transactions = pd.read_parquet(pad+'/transactions_train.parquet')\n",
    "customers = pd.read_parquet(pad+'/customers.parquet')\n",
    "articles = pd.read_parquet(pad+'/articles.parquet')"
   ]
  },
  {
   "cell_type": "code",
   "execution_count": 5,
   "id": "e590664c",
   "metadata": {
    "execution": {
     "iopub.execute_input": "2023-12-22T00:40:00.368279Z",
     "iopub.status.busy": "2023-12-22T00:40:00.367117Z",
     "iopub.status.idle": "2023-12-22T00:40:00.563574Z",
     "shell.execute_reply": "2023-12-22T00:40:00.562570Z"
    },
    "papermill": {
     "duration": 0.206269,
     "end_time": "2023-12-22T00:40:00.566352",
     "exception": false,
     "start_time": "2023-12-22T00:40:00.360083",
     "status": "completed"
    },
    "tags": []
   },
   "outputs": [],
   "source": [
    "test_week = transactions.week.max() + 1\n",
    "transactions = transactions[transactions.week > transactions.week.max() - 4]"
   ]
  },
  {
   "cell_type": "code",
   "execution_count": 6,
   "id": "cfacba7e",
   "metadata": {
    "execution": {
     "iopub.execute_input": "2023-12-22T00:40:00.580162Z",
     "iopub.status.busy": "2023-12-22T00:40:00.579222Z",
     "iopub.status.idle": "2023-12-22T00:40:06.298008Z",
     "shell.execute_reply": "2023-12-22T00:40:06.296485Z"
    },
    "papermill": {
     "duration": 5.728723,
     "end_time": "2023-12-22T00:40:06.300865",
     "exception": false,
     "start_time": "2023-12-22T00:40:00.572142",
     "status": "completed"
    },
    "tags": []
   },
   "outputs": [],
   "source": [
    "sub = pd.read_csv('/kaggle/input/h-and-m-personalized-fashion-recommendations/sample_submission.csv')"
   ]
  },
  {
   "cell_type": "markdown",
   "id": "ecffd081",
   "metadata": {
    "papermill": {
     "duration": 0.005283,
     "end_time": "2023-12-22T00:40:06.312118",
     "exception": false,
     "start_time": "2023-12-22T00:40:06.306835",
     "status": "completed"
    },
    "tags": []
   },
   "source": [
    "# Most rebought types based on analysis"
   ]
  },
  {
   "cell_type": "code",
   "execution_count": 7,
   "id": "8baf318e",
   "metadata": {
    "execution": {
     "iopub.execute_input": "2023-12-22T00:40:06.324822Z",
     "iopub.status.busy": "2023-12-22T00:40:06.324402Z",
     "iopub.status.idle": "2023-12-22T00:40:06.330882Z",
     "shell.execute_reply": "2023-12-22T00:40:06.329691Z"
    },
    "papermill": {
     "duration": 0.015525,
     "end_time": "2023-12-22T00:40:06.333190",
     "exception": false,
     "start_time": "2023-12-22T00:40:06.317665",
     "status": "completed"
    },
    "tags": []
   },
   "outputs": [],
   "source": [
    "rebought_list = [272, 252, 265, 254, 255, 258, 306, 286, 273, 308, 259, 245, 262, 253, 275, 302, 264, -1, 298, 59, 274, 87, 304, 70, 67, 297, 77, 66, 296, 256]\n",
    "top_product_types_set = set(rebought_list)\n"
   ]
  },
  {
   "cell_type": "code",
   "execution_count": 8,
   "id": "c79c0b05",
   "metadata": {
    "execution": {
     "iopub.execute_input": "2023-12-22T00:40:06.346091Z",
     "iopub.status.busy": "2023-12-22T00:40:06.345656Z",
     "iopub.status.idle": "2023-12-22T00:40:15.619377Z",
     "shell.execute_reply": "2023-12-22T00:40:15.618035Z"
    },
    "papermill": {
     "duration": 9.283449,
     "end_time": "2023-12-22T00:40:15.622229",
     "exception": false,
     "start_time": "2023-12-22T00:40:06.338780",
     "status": "completed"
    },
    "tags": []
   },
   "outputs": [],
   "source": [
    "# Create a dictionary of owned articles for each customer\n",
    "owned_articles = transactions.groupby('customer_id')['article_id'].apply(list).to_dict()\n",
    "\n",
    "def get_latest_bought_articles(customer_id, owned_articles):\n",
    "    new_predictions = []\n",
    "    bought_articles = owned_articles.get(customer_id, [])\n",
    "    \n",
    "    # Create a DataFrame with the bought articles for the specific customer\n",
    "    customer_transactions = transactions[(transactions['customer_id'] == customer_id) & (transactions['article_id'].isin(bought_articles))]\n",
    "    \n",
    "    # Filter by product_type_name in the top 20 list\n",
    "    customer_transactions = pd.merge(customer_transactions, articles[['article_id', 'product_type_no']], on='article_id', how='left')\n",
    "    customer_transactions = customer_transactions[customer_transactions['product_type_no'].isin(top_product_types_set)]\n",
    "\n",
    "    # Sort by purchase date in descending order\n",
    "    customer_transactions = customer_transactions.sort_values(by='t_dat', ascending=False)\n",
    "    \n",
    "    # Take the latest 12 unique bought articles\n",
    "    latest_bought = customer_transactions['article_id'].unique()[:12]\n",
    "    \n",
    "    for i in range(12):\n",
    "        if i<len(latest_bought):\n",
    "            new_predictions.append(latest_bought[i])\n",
    "        else:\n",
    "            new_predictions.append('000000000')\n",
    "    return new_predictions\n"
   ]
  },
  {
   "cell_type": "code",
   "execution_count": 9,
   "id": "a0c5cf3d",
   "metadata": {
    "execution": {
     "iopub.execute_input": "2023-12-22T00:40:15.635376Z",
     "iopub.status.busy": "2023-12-22T00:40:15.634963Z",
     "iopub.status.idle": "2023-12-22T04:45:31.377396Z",
     "shell.execute_reply": "2023-12-22T04:45:31.376067Z"
    },
    "papermill": {
     "duration": 14715.752753,
     "end_time": "2023-12-22T04:45:31.380877",
     "exception": false,
     "start_time": "2023-12-22T00:40:15.628124",
     "status": "completed"
    },
    "tags": []
   },
   "outputs": [
    {
     "name": "stderr",
     "output_type": "stream",
     "text": [
      "100%|██████████| 1371980/1371980 [4:05:13<00:00, 93.25it/s] "
     ]
    },
    {
     "name": "stdout",
     "output_type": "stream",
     "text": [
      "CPU times: user 4h 5min 33s, sys: 47.8 s, total: 4h 6min 21s\n",
      "Wall time: 4h 5min 15s\n"
     ]
    },
    {
     "name": "stderr",
     "output_type": "stream",
     "text": [
      "\n"
     ]
    }
   ],
   "source": [
    "%%time\n",
    "from tqdm import tqdm\n",
    "preds = []\n",
    "for c_id in tqdm(customer_hex_id_to_int(sub.customer_id)):\n",
    "    \n",
    "    pred = get_latest_bought_articles(c_id, owned_articles)\n",
    "    preds.append(pred[:12])"
   ]
  },
  {
   "cell_type": "code",
   "execution_count": 10,
   "id": "692b4c9f",
   "metadata": {
    "execution": {
     "iopub.execute_input": "2023-12-22T04:45:56.589302Z",
     "iopub.status.busy": "2023-12-22T04:45:56.588884Z",
     "iopub.status.idle": "2023-12-22T04:46:10.987810Z",
     "shell.execute_reply": "2023-12-22T04:46:10.986870Z"
    },
    "papermill": {
     "duration": 26.732983,
     "end_time": "2023-12-22T04:46:10.990396",
     "exception": false,
     "start_time": "2023-12-22T04:45:44.257413",
     "status": "completed"
    },
    "tags": []
   },
   "outputs": [],
   "source": [
    "df = pd.DataFrame(preds)\n",
    "df.to_csv('filteredRepurchase4Weeks.csv', index=False)"
   ]
  },
  {
   "cell_type": "code",
   "execution_count": 11,
   "id": "a16ae4cb",
   "metadata": {
    "execution": {
     "iopub.execute_input": "2023-12-22T04:46:36.266396Z",
     "iopub.status.busy": "2023-12-22T04:46:36.265700Z",
     "iopub.status.idle": "2023-12-22T04:46:42.762391Z",
     "shell.execute_reply": "2023-12-22T04:46:42.761121Z"
    },
    "papermill": {
     "duration": 18.956439,
     "end_time": "2023-12-22T04:46:42.765254",
     "exception": false,
     "start_time": "2023-12-22T04:46:23.808815",
     "status": "completed"
    },
    "tags": []
   },
   "outputs": [],
   "source": [
    "preds2 = [' '.join(['0' + str(p) for p in ps]) for ps in preds]\n",
    "sub.prediction = preds2"
   ]
  },
  {
   "cell_type": "code",
   "execution_count": 12,
   "id": "aaa93914",
   "metadata": {
    "execution": {
     "iopub.execute_input": "2023-12-22T04:47:08.549542Z",
     "iopub.status.busy": "2023-12-22T04:47:08.549139Z",
     "iopub.status.idle": "2023-12-22T04:47:34.532653Z",
     "shell.execute_reply": "2023-12-22T04:47:34.531422Z"
    },
    "papermill": {
     "duration": 38.886672,
     "end_time": "2023-12-22T04:47:34.535655",
     "exception": false,
     "start_time": "2023-12-22T04:46:55.648983",
     "status": "completed"
    },
    "tags": []
   },
   "outputs": [],
   "source": [
    "sub_name = 'filteredRepurchase_sub_4weeks'\n",
    "sub.to_csv(f'{sub_name}.csv.gz', index=False)"
   ]
  },
  {
   "cell_type": "code",
   "execution_count": null,
   "id": "67b3c9e5",
   "metadata": {
    "papermill": {
     "duration": 12.548746,
     "end_time": "2023-12-22T04:47:59.346515",
     "exception": false,
     "start_time": "2023-12-22T04:47:46.797769",
     "status": "completed"
    },
    "tags": []
   },
   "outputs": [],
   "source": []
  }
 ],
 "metadata": {
  "kaggle": {
   "accelerator": "none",
   "dataSources": [
    {
     "databundleVersionId": 3103714,
     "sourceId": 31254,
     "sourceType": "competition"
    },
    {
     "sourceId": 149573710,
     "sourceType": "kernelVersion"
    }
   ],
   "dockerImageVersionId": 30587,
   "isGpuEnabled": false,
   "isInternetEnabled": true,
   "language": "python",
   "sourceType": "notebook"
  },
  "kernelspec": {
   "display_name": "Python 3",
   "language": "python",
   "name": "python3"
  },
  "language_info": {
   "codemirror_mode": {
    "name": "ipython",
    "version": 3
   },
   "file_extension": ".py",
   "mimetype": "text/x-python",
   "name": "python",
   "nbconvert_exporter": "python",
   "pygments_lexer": "ipython3",
   "version": "3.10.12"
  },
  "papermill": {
   "default_parameters": {},
   "duration": 14905.354389,
   "end_time": "2023-12-22T04:48:13.816454",
   "environment_variables": {},
   "exception": null,
   "input_path": "__notebook__.ipynb",
   "output_path": "__notebook__.ipynb",
   "parameters": {},
   "start_time": "2023-12-22T00:39:48.462065",
   "version": "2.4.0"
  }
 },
 "nbformat": 4,
 "nbformat_minor": 5
}
