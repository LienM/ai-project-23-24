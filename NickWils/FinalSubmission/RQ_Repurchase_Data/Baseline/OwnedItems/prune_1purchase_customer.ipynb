{
 "cells": [
  {
   "cell_type": "markdown",
   "id": "8a551828",
   "metadata": {
    "papermill": {
     "duration": 0.006164,
     "end_time": "2023-12-21T23:45:32.131191",
     "exception": false,
     "start_time": "2023-12-21T23:45:32.125027",
     "status": "completed"
    },
    "tags": []
   },
   "source": [
    "# Prune the leaderbord by just giving recommendations for customers that only bought 1 article"
   ]
  },
  {
   "cell_type": "code",
   "execution_count": 1,
   "id": "aec7ed0a",
   "metadata": {
    "execution": {
     "iopub.execute_input": "2023-12-21T23:45:32.145488Z",
     "iopub.status.busy": "2023-12-21T23:45:32.144558Z",
     "iopub.status.idle": "2023-12-21T23:45:34.380517Z",
     "shell.execute_reply": "2023-12-21T23:45:34.379331Z"
    },
    "papermill": {
     "duration": 2.246174,
     "end_time": "2023-12-21T23:45:34.383341",
     "exception": false,
     "start_time": "2023-12-21T23:45:32.137167",
     "status": "completed"
    },
    "tags": []
   },
   "outputs": [],
   "source": [
    "import numpy as np\n",
    "import pandas as pd\n",
    "\n",
    "def apk(actual, predicted, k=10):\n",
    "    \"\"\"\n",
    "    Computes the average precision at k.\n",
    "\n",
    "    This function computes the average prescision at k between two lists of\n",
    "    items.\n",
    "\n",
    "    Parameters\n",
    "    ----------\n",
    "    actual : list\n",
    "             A list of elements that are to be predicted (order doesn't matter)\n",
    "    predicted : list\n",
    "                A list of predicted elements (order does matter)\n",
    "    k : int, optional\n",
    "        The maximum number of predicted elements\n",
    "\n",
    "    Returns\n",
    "    -------\n",
    "    score : double\n",
    "            The average precision at k over the input lists\n",
    "\n",
    "    \"\"\"\n",
    "    if len(predicted)>k:\n",
    "        predicted = predicted[:k]\n",
    "\n",
    "    score = 0.0\n",
    "    num_hits = 0.0\n",
    "\n",
    "    for i,p in enumerate(predicted):\n",
    "        if p in actual and p not in predicted[:i]:\n",
    "            num_hits += 1.0\n",
    "            score += num_hits / (i+1.0)\n",
    "\n",
    "    if not actual:\n",
    "        return 0.0\n",
    "\n",
    "    return score / min(len(actual), k)\n",
    "\n",
    "def mapk(actual, predicted, k=10):\n",
    "    \"\"\"\n",
    "    Computes the mean average precision at k.\n",
    "\n",
    "    This function computes the mean average prescision at k between two lists\n",
    "    of lists of items.\n",
    "\n",
    "    Parameters\n",
    "    ----------\n",
    "    actual : list\n",
    "             A list of lists of elements that are to be predicted\n",
    "             (order doesn't matter in the lists)\n",
    "    predicted : list\n",
    "                A list of lists of predicted elements\n",
    "                (order matters in the lists)\n",
    "    k : int, optional\n",
    "        The maximum number of predicted elements\n",
    "\n",
    "    Returns\n",
    "    -------\n",
    "    score : double\n",
    "            The mean average precision at k over the input lists\n",
    "\n",
    "    \"\"\"\n",
    "    return np.mean([apk(a,p,k) for a,p in zip(actual, predicted)])\n",
    "from sklearn.base import BaseEstimator, TransformerMixin\n",
    "import numpy as np\n",
    "\n",
    "# https://www.kaggle.com/c/h-and-m-personalized-fashion-recommendations/discussion/308635\n",
    "def customer_hex_id_to_int(series):\n",
    "    return series.str[-16:].apply(hex_id_to_int)\n",
    "\n",
    "def hex_id_to_int(str):\n",
    "    return int(str[-16:], 16)\n",
    "\n",
    "def article_id_str_to_int(series):\n",
    "    return series.astype('int32')\n",
    "\n",
    "def article_id_int_to_str(series):\n",
    "    return '0' + series.astype('str')\n",
    "\n",
    "class Categorize(BaseEstimator, TransformerMixin):\n",
    "    def __init__(self, min_examples=0):\n",
    "        self.min_examples = min_examples\n",
    "        self.categories = []\n",
    "\n",
    "    def fit(self, X):\n",
    "        for i in range(X.shape[1]):\n",
    "            vc = X.iloc[:, i].value_counts()\n",
    "            self.categories.append(vc[vc > self.min_examples].index.tolist())\n",
    "        return self\n",
    "\n",
    "    def transform(self, X):\n",
    "        data = {X.columns[i]: pd.Categorical(X.iloc[:, i], categories=self.categories[i]).codes for i in range(X.shape[1])}\n",
    "        return pd.DataFrame(data=data)\n",
    "\n",
    "\n",
    "def calculate_apk(list_of_preds, list_of_gts):\n",
    "    # for fast validation this can be changed to operate on dicts of {'cust_id_int': [art_id_int, ...]}\n",
    "    # using 'data/val_week_purchases_by_cust.pkl'\n",
    "    apks = []\n",
    "    for preds, gt in zip(list_of_preds, list_of_gts):\n",
    "        apks.append(apk(gt, preds, k=12))\n",
    "    return np.mean(apks)\n",
    "\n",
    "def eval_sub(sub_csv, skip_cust_with_no_purchases=True):\n",
    "    sub=pd.read_csv(sub_csv)\n",
    "    validation_set=pd.read_parquet('data/validation_ground_truth.parquet')\n",
    "\n",
    "    apks = []\n",
    "\n",
    "    no_purchases_pattern = []\n",
    "    for pred, gt in zip(sub.prediction.str.split(), validation_set.prediction.str.split()):\n",
    "        if skip_cust_with_no_purchases and (gt == no_purchases_pattern): continue\n",
    "        apks.append(apk(gt, pred, k=12))\n",
    "    return np.mean(apks)\n"
   ]
  },
  {
   "cell_type": "markdown",
   "id": "10afe6a4",
   "metadata": {
    "papermill": {
     "duration": 0.005388,
     "end_time": "2023-12-21T23:45:34.394433",
     "exception": false,
     "start_time": "2023-12-21T23:45:34.389045",
     "status": "completed"
    },
    "tags": []
   },
   "source": [
    "# Load input"
   ]
  },
  {
   "cell_type": "code",
   "execution_count": 2,
   "id": "5d85fbf1",
   "metadata": {
    "execution": {
     "iopub.execute_input": "2023-12-21T23:45:34.407512Z",
     "iopub.status.busy": "2023-12-21T23:45:34.406926Z",
     "iopub.status.idle": "2023-12-21T23:45:40.353786Z",
     "shell.execute_reply": "2023-12-21T23:45:40.351863Z"
    },
    "papermill": {
     "duration": 5.956574,
     "end_time": "2023-12-21T23:45:40.356679",
     "exception": false,
     "start_time": "2023-12-21T23:45:34.400105",
     "status": "completed"
    },
    "tags": []
   },
   "outputs": [
    {
     "name": "stdout",
     "output_type": "stream",
     "text": [
      "CPU times: user 3.75 s, sys: 4.42 s, total: 8.17 s\n",
      "Wall time: 5.94 s\n"
     ]
    }
   ],
   "source": [
    "%%time\n",
    "pad = \"/kaggle/input/makeparquet\"\n",
    "transactions = pd.read_parquet(pad+'/transactions_train.parquet')\n",
    "customers = pd.read_parquet(pad+'/customers.parquet')\n",
    "articles = pd.read_parquet(pad+'/articles.parquet')\n"
   ]
  },
  {
   "cell_type": "markdown",
   "id": "264abd37",
   "metadata": {
    "papermill": {
     "duration": 0.005442,
     "end_time": "2023-12-21T23:45:40.367974",
     "exception": false,
     "start_time": "2023-12-21T23:45:40.362532",
     "status": "completed"
    },
    "tags": []
   },
   "source": [
    "# Items bought by most customers"
   ]
  },
  {
   "cell_type": "code",
   "execution_count": 3,
   "id": "aa059537",
   "metadata": {
    "execution": {
     "iopub.execute_input": "2023-12-21T23:45:40.381607Z",
     "iopub.status.busy": "2023-12-21T23:45:40.381157Z",
     "iopub.status.idle": "2023-12-21T23:45:40.513871Z",
     "shell.execute_reply": "2023-12-21T23:45:40.511910Z"
    },
    "papermill": {
     "duration": 0.143577,
     "end_time": "2023-12-21T23:45:40.517549",
     "exception": false,
     "start_time": "2023-12-21T23:45:40.373972",
     "status": "completed"
    },
    "tags": []
   },
   "outputs": [
    {
     "name": "stdout",
     "output_type": "stream",
     "text": [
      "       article_id  customer_count\n",
      "17308   924243001             763\n",
      "16961   918522001             569\n",
      "17309   924243002             533\n",
      "17287   923758001             513\n",
      "11827   866731001             481\n",
      "16773   915529003             456\n",
      "16264   909370001             444\n",
      "16774   915529005             426\n",
      "4496    751471001             418\n",
      "16944   918292001             402\n",
      "5030    762846027             397\n",
      "430     448509014             388\n"
     ]
    }
   ],
   "source": [
    "import pandas as pd\n",
    "\n",
    "# Step 1: Filter transactions for the last week\n",
    "last_week_transactions = transactions[transactions['week'] >= transactions['week'].max()]\n",
    "\n",
    "# Step 2: Group transactions by 'article_id' and count unique 'customer_id'\n",
    "article_customer_count = last_week_transactions.groupby('article_id')['customer_id'].nunique().reset_index(name='customer_count')\n",
    "\n",
    "# Step 3: Sort articles based on customer count in descending order\n",
    "sorted_articles = article_customer_count.sort_values(by='customer_count', ascending=False)\n",
    "\n",
    "# Step 4: Take the top 12 articles\n",
    "top_12_articles = sorted_articles.head(12)\n",
    "\n",
    "# Display the result\n",
    "print(top_12_articles)\n",
    "article_ids = top_12_articles['article_id'].tolist()\n",
    "\n"
   ]
  },
  {
   "cell_type": "markdown",
   "id": "9adcf252",
   "metadata": {
    "papermill": {
     "duration": 0.005557,
     "end_time": "2023-12-21T23:45:40.529060",
     "exception": false,
     "start_time": "2023-12-21T23:45:40.523503",
     "status": "completed"
    },
    "tags": []
   },
   "source": [
    "# Only look at customers bying only 1 item"
   ]
  },
  {
   "cell_type": "code",
   "execution_count": 4,
   "id": "1e8074e3",
   "metadata": {
    "execution": {
     "iopub.execute_input": "2023-12-21T23:45:40.543529Z",
     "iopub.status.busy": "2023-12-21T23:45:40.543076Z",
     "iopub.status.idle": "2023-12-21T23:45:59.258573Z",
     "shell.execute_reply": "2023-12-21T23:45:59.257105Z"
    },
    "papermill": {
     "duration": 18.72582,
     "end_time": "2023-12-21T23:45:59.261388",
     "exception": false,
     "start_time": "2023-12-21T23:45:40.535568",
     "status": "completed"
    },
    "tags": []
   },
   "outputs": [
    {
     "name": "stdout",
     "output_type": "stream",
     "text": [
      "154947\n"
     ]
    }
   ],
   "source": [
    "# Count the number of unique article_ids for each customer\n",
    "customer_article_count = transactions.groupby('customer_id')['article_id'].nunique()\n",
    "\n",
    "# Get customers with only one unique article_id\n",
    "customers_with_one_article = customer_article_count[customer_article_count == 1].index\n",
    "\n",
    "# Filter the customers dataframe\n",
    "result = customers[customers['customer_id'].isin(customers_with_one_article)]\n",
    "\n",
    "print(len(result))"
   ]
  },
  {
   "cell_type": "code",
   "execution_count": 5,
   "id": "7921acd1",
   "metadata": {
    "execution": {
     "iopub.execute_input": "2023-12-21T23:45:59.275344Z",
     "iopub.status.busy": "2023-12-21T23:45:59.274884Z",
     "iopub.status.idle": "2023-12-21T23:45:59.280689Z",
     "shell.execute_reply": "2023-12-21T23:45:59.279459Z"
    },
    "papermill": {
     "duration": 0.015953,
     "end_time": "2023-12-21T23:45:59.283627",
     "exception": false,
     "start_time": "2023-12-21T23:45:59.267674",
     "status": "completed"
    },
    "tags": []
   },
   "outputs": [
    {
     "name": "stdout",
     "output_type": "stream",
     "text": [
      "1371980\n"
     ]
    }
   ],
   "source": [
    "print(len(customers))"
   ]
  },
  {
   "cell_type": "code",
   "execution_count": 6,
   "id": "b0a48112",
   "metadata": {
    "execution": {
     "iopub.execute_input": "2023-12-21T23:45:59.297612Z",
     "iopub.status.busy": "2023-12-21T23:45:59.297222Z",
     "iopub.status.idle": "2023-12-21T23:46:04.579475Z",
     "shell.execute_reply": "2023-12-21T23:46:04.578348Z"
    },
    "papermill": {
     "duration": 5.292763,
     "end_time": "2023-12-21T23:46:04.582432",
     "exception": false,
     "start_time": "2023-12-21T23:45:59.289669",
     "status": "completed"
    },
    "tags": []
   },
   "outputs": [],
   "source": [
    "sub = pd.read_csv('/kaggle/input/h-and-m-personalized-fashion-recommendations/sample_submission.csv')"
   ]
  },
  {
   "cell_type": "markdown",
   "id": "85b9e857",
   "metadata": {
    "papermill": {
     "duration": 0.006217,
     "end_time": "2023-12-21T23:46:04.595549",
     "exception": false,
     "start_time": "2023-12-21T23:46:04.589332",
     "status": "completed"
    },
    "tags": []
   },
   "source": [
    "# Make submission"
   ]
  },
  {
   "cell_type": "code",
   "execution_count": 7,
   "id": "185bc2b0",
   "metadata": {
    "execution": {
     "iopub.execute_input": "2023-12-21T23:46:04.609673Z",
     "iopub.status.busy": "2023-12-21T23:46:04.609246Z",
     "iopub.status.idle": "2023-12-21T23:46:09.969808Z",
     "shell.execute_reply": "2023-12-21T23:46:09.968547Z"
    },
    "papermill": {
     "duration": 5.371107,
     "end_time": "2023-12-21T23:46:09.972723",
     "exception": false,
     "start_time": "2023-12-21T23:46:04.601616",
     "status": "completed"
    },
    "tags": []
   },
   "outputs": [],
   "source": [
    "latest_bought_articles = pd.read_csv('/kaggle/input/workingpurchase/filename.csv')\n",
    "latest_bought_articles = latest_bought_articles.values.tolist()"
   ]
  },
  {
   "cell_type": "code",
   "execution_count": 8,
   "id": "d3511683",
   "metadata": {
    "execution": {
     "iopub.execute_input": "2023-12-21T23:46:09.989157Z",
     "iopub.status.busy": "2023-12-21T23:46:09.987946Z",
     "iopub.status.idle": "2023-12-21T23:48:04.558549Z",
     "shell.execute_reply": "2023-12-21T23:48:04.557126Z"
    },
    "papermill": {
     "duration": 114.586098,
     "end_time": "2023-12-21T23:48:04.566049",
     "exception": false,
     "start_time": "2023-12-21T23:46:09.979951",
     "status": "completed"
    },
    "tags": []
   },
   "outputs": [
    {
     "name": "stdout",
     "output_type": "stream",
     "text": [
      "CPU times: user 1min 54s, sys: 499 ms, total: 1min 54s\n",
      "Wall time: 1min 54s\n"
     ]
    }
   ],
   "source": [
    "%%time\n",
    "\n",
    "preds = []\n",
    "i=-1\n",
    "for c_id in customer_hex_id_to_int(sub.customer_id):\n",
    "    i+=1\n",
    "    if c_id in result['customer_id'].values:\n",
    "        pred = latest_bought_articles[i]\n",
    "        while len(pred)<12:\n",
    "            pred.append(0)\n",
    "        pred = article_ids\n",
    "    else:\n",
    "        zeros = [0,0,0,0,0,0,0,0,0,0,0,0]\n",
    "        pred = zeros\n",
    "    #     pred = article_ids\n",
    "\n",
    "        # Take the top 12 predictions (excluding any replaced '000000000' articles)\n",
    "    preds.append(pred[:12])"
   ]
  },
  {
   "cell_type": "code",
   "execution_count": 9,
   "id": "3d41bcb7",
   "metadata": {
    "execution": {
     "iopub.execute_input": "2023-12-21T23:48:04.580687Z",
     "iopub.status.busy": "2023-12-21T23:48:04.580231Z",
     "iopub.status.idle": "2023-12-21T23:48:10.410661Z",
     "shell.execute_reply": "2023-12-21T23:48:10.409539Z"
    },
    "papermill": {
     "duration": 5.84104,
     "end_time": "2023-12-21T23:48:10.413265",
     "exception": false,
     "start_time": "2023-12-21T23:48:04.572225",
     "status": "completed"
    },
    "tags": []
   },
   "outputs": [],
   "source": [
    "preds = [' '.join(['0' + str(p) for p in ps]) for ps in preds]\n",
    "sub.prediction = preds"
   ]
  },
  {
   "cell_type": "code",
   "execution_count": 10,
   "id": "59150fa0",
   "metadata": {
    "execution": {
     "iopub.execute_input": "2023-12-21T23:48:10.427616Z",
     "iopub.status.busy": "2023-12-21T23:48:10.427185Z",
     "iopub.status.idle": "2023-12-21T23:48:28.986672Z",
     "shell.execute_reply": "2023-12-21T23:48:28.985182Z"
    },
    "papermill": {
     "duration": 18.569697,
     "end_time": "2023-12-21T23:48:28.989396",
     "exception": false,
     "start_time": "2023-12-21T23:48:10.419699",
     "status": "completed"
    },
    "tags": []
   },
   "outputs": [],
   "source": [
    "sub_name = 'bought1articlePop_submission'\n",
    "sub.to_csv(f'{sub_name}.csv.gz', index=False)"
   ]
  }
 ],
 "metadata": {
  "kaggle": {
   "accelerator": "none",
   "dataSources": [
    {
     "databundleVersionId": 3103714,
     "sourceId": 31254,
     "sourceType": "competition"
    },
    {
     "sourceId": 149573710,
     "sourceType": "kernelVersion"
    },
    {
     "sourceId": 149747734,
     "sourceType": "kernelVersion"
    }
   ],
   "dockerImageVersionId": 30579,
   "isGpuEnabled": false,
   "isInternetEnabled": true,
   "language": "python",
   "sourceType": "notebook"
  },
  "kernelspec": {
   "display_name": "Python 3",
   "language": "python",
   "name": "python3"
  },
  "language_info": {
   "codemirror_mode": {
    "name": "ipython",
    "version": 3
   },
   "file_extension": ".py",
   "mimetype": "text/x-python",
   "name": "python",
   "nbconvert_exporter": "python",
   "pygments_lexer": "ipython3",
   "version": "3.10.12"
  },
  "papermill": {
   "default_parameters": {},
   "duration": 182.074261,
   "end_time": "2023-12-21T23:48:30.219740",
   "environment_variables": {},
   "exception": null,
   "input_path": "__notebook__.ipynb",
   "output_path": "__notebook__.ipynb",
   "parameters": {},
   "start_time": "2023-12-21T23:45:28.145479",
   "version": "2.4.0"
  }
 },
 "nbformat": 4,
 "nbformat_minor": 5
}
