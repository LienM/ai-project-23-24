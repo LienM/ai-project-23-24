{
 "cells": [
  {
   "cell_type": "markdown",
   "id": "084d936a",
   "metadata": {
    "papermill": {
     "duration": 0.004093,
     "end_time": "2023-12-22T00:53:22.997030",
     "exception": false,
     "start_time": "2023-12-22T00:53:22.992937",
     "status": "completed"
    },
    "tags": []
   },
   "source": [
    "# Read input files"
   ]
  },
  {
   "cell_type": "code",
   "execution_count": 1,
   "id": "60c8c673",
   "metadata": {
    "execution": {
     "iopub.execute_input": "2023-12-22T00:53:23.007471Z",
     "iopub.status.busy": "2023-12-22T00:53:23.007116Z",
     "iopub.status.idle": "2023-12-22T00:53:28.444505Z",
     "shell.execute_reply": "2023-12-22T00:53:28.443315Z"
    },
    "papermill": {
     "duration": 5.444465,
     "end_time": "2023-12-22T00:53:28.446965",
     "exception": false,
     "start_time": "2023-12-22T00:53:23.002500",
     "status": "completed"
    },
    "tags": []
   },
   "outputs": [
    {
     "name": "stdout",
     "output_type": "stream",
     "text": [
      "CPU times: user 2.34 s, sys: 1.18 s, total: 3.53 s\n",
      "Wall time: 5.43 s\n"
     ]
    }
   ],
   "source": [
    "%%time\n",
    "import pandas as pd\n",
    "pad = \"/kaggle/input/makeparquet\"\n",
    "transactions = pd.read_parquet(pad+'/transactions_train.parquet')\n",
    "customers = pd.read_parquet(pad+'/customers.parquet')\n",
    "articles = pd.read_parquet(pad+'/articles.parquet')"
   ]
  },
  {
   "cell_type": "code",
   "execution_count": 2,
   "id": "7de8dc83",
   "metadata": {
    "execution": {
     "iopub.execute_input": "2023-12-22T00:53:28.457534Z",
     "iopub.status.busy": "2023-12-22T00:53:28.456894Z",
     "iopub.status.idle": "2023-12-22T00:53:29.487575Z",
     "shell.execute_reply": "2023-12-22T00:53:29.486634Z"
    },
    "papermill": {
     "duration": 1.039741,
     "end_time": "2023-12-22T00:53:29.490703",
     "exception": false,
     "start_time": "2023-12-22T00:53:28.450962",
     "status": "completed"
    },
    "tags": []
   },
   "outputs": [],
   "source": [
    "from sklearn.base import BaseEstimator, TransformerMixin\n",
    "import numpy as np\n",
    "\n",
    "# https://www.kaggle.com/c/h-and-m-personalized-fashion-recommendations/discussion/308635\n",
    "def customer_hex_id_to_int(series):\n",
    "    return series.str[-16:].apply(hex_id_to_int)\n",
    "\n",
    "def hex_id_to_int(str):\n",
    "    return int(str[-16:], 16)\n",
    "\n",
    "def article_id_str_to_int(series):\n",
    "    return series.astype('int32')\n",
    "\n",
    "def article_id_int_to_str(series):\n",
    "    return '0' + series.astype('str')\n",
    "\n",
    "class Categorize(BaseEstimator, TransformerMixin):\n",
    "    def __init__(self, min_examples=0):\n",
    "        self.min_examples = min_examples\n",
    "        self.categories = []\n",
    "\n",
    "    def fit(self, X):\n",
    "        for i in range(X.shape[1]):\n",
    "            vc = X.iloc[:, i].value_counts()\n",
    "            self.categories.append(vc[vc > self.min_examples].index.tolist())\n",
    "        return self\n",
    "\n",
    "    def transform(self, X):\n",
    "        data = {X.columns[i]: pd.Categorical(X.iloc[:, i], categories=self.categories[i]).codes for i in range(X.shape[1])}\n",
    "        return pd.DataFrame(data=data)\n",
    "\n",
    "\n",
    "def calculate_apk(list_of_preds, list_of_gts):\n",
    "    # for fast validation this can be changed to operate on dicts of {'cust_id_int': [art_id_int, ...]}\n",
    "    # using 'data/val_week_purchases_by_cust.pkl'\n",
    "    apks = []\n",
    "    for preds, gt in zip(list_of_preds, list_of_gts):\n",
    "        apks.append(apk(gt, preds, k=12))\n",
    "    return np.mean(apks)\n",
    "\n",
    "def eval_sub(sub_csv, skip_cust_with_no_purchases=True):\n",
    "    sub=pd.read_csv(sub_csv)\n",
    "    validation_set=pd.read_parquet('data/validation_ground_truth.parquet')\n",
    "\n",
    "    apks = []\n",
    "\n",
    "    no_purchases_pattern = []\n",
    "    for pred, gt in zip(sub.prediction.str.split(), validation_set.prediction.str.split()):\n",
    "        if skip_cust_with_no_purchases and (gt == no_purchases_pattern): continue\n",
    "        apks.append(apk(gt, pred, k=12))\n",
    "    return np.mean(apks)"
   ]
  },
  {
   "cell_type": "code",
   "execution_count": 3,
   "id": "385d90d9",
   "metadata": {
    "execution": {
     "iopub.execute_input": "2023-12-22T00:53:29.499973Z",
     "iopub.status.busy": "2023-12-22T00:53:29.499640Z",
     "iopub.status.idle": "2023-12-22T00:53:37.813199Z",
     "shell.execute_reply": "2023-12-22T00:53:37.812312Z"
    },
    "papermill": {
     "duration": 8.320706,
     "end_time": "2023-12-22T00:53:37.815535",
     "exception": false,
     "start_time": "2023-12-22T00:53:29.494829",
     "status": "completed"
    },
    "tags": []
   },
   "outputs": [],
   "source": [
    "# Step 1: Merge transactions with selected columns from customers\n",
    "selected_columns = ['customer_id','age', 'buys_kid_baby_clothes', 'buys_mens_clothes', 'buys_womens_clothing']\n",
    "merged_data = pd.merge(transactions, customers[selected_columns], on='customer_id', how='inner')\n",
    "\n",
    "# Step 1: Filter transactions for the last week\n",
    "last_week_transactions = merged_data[merged_data['week'] >= merged_data['week'].max()]\n",
    "last_10week_transactions = merged_data[merged_data['week'] >= merged_data['week'].max()-9]"
   ]
  },
  {
   "cell_type": "markdown",
   "id": "9a8961aa",
   "metadata": {
    "papermill": {
     "duration": 0.003658,
     "end_time": "2023-12-22T00:53:37.823094",
     "exception": false,
     "start_time": "2023-12-22T00:53:37.819436",
     "status": "completed"
    },
    "tags": []
   },
   "source": [
    "# Make condiditons"
   ]
  },
  {
   "cell_type": "code",
   "execution_count": 4,
   "id": "96243911",
   "metadata": {
    "execution": {
     "iopub.execute_input": "2023-12-22T00:53:37.832502Z",
     "iopub.status.busy": "2023-12-22T00:53:37.832194Z",
     "iopub.status.idle": "2023-12-22T00:53:37.851588Z",
     "shell.execute_reply": "2023-12-22T00:53:37.850685Z"
    },
    "papermill": {
     "duration": 0.027066,
     "end_time": "2023-12-22T00:53:37.853832",
     "exception": false,
     "start_time": "2023-12-22T00:53:37.826766",
     "status": "completed"
    },
    "tags": []
   },
   "outputs": [],
   "source": [
    "import pandas as pd\n",
    "\n",
    "\n",
    "# Condition 1: age < 25\n",
    "condition_1 = last_week_transactions[last_week_transactions['age'] < 25]\n",
    "\n",
    "# Condition 2: 25 <= age < 35\n",
    "condition_2 = last_week_transactions[(last_week_transactions['age'] >= 25) & (last_week_transactions['age'] < 50)]\n",
    "\n",
    "# Condition 4: 50 <= age\n",
    "condition_3 = last_week_transactions[last_week_transactions['age'] >= 50]\n"
   ]
  },
  {
   "cell_type": "markdown",
   "id": "5668bb71",
   "metadata": {
    "papermill": {
     "duration": 0.004103,
     "end_time": "2023-12-22T00:53:37.861837",
     "exception": false,
     "start_time": "2023-12-22T00:53:37.857734",
     "status": "completed"
    },
    "tags": []
   },
   "source": [
    "# Get popularity for each condition and general popularity"
   ]
  },
  {
   "cell_type": "code",
   "execution_count": 5,
   "id": "879d09e4",
   "metadata": {
    "execution": {
     "iopub.execute_input": "2023-12-22T00:53:37.870488Z",
     "iopub.status.busy": "2023-12-22T00:53:37.870197Z",
     "iopub.status.idle": "2023-12-22T00:53:37.910077Z",
     "shell.execute_reply": "2023-12-22T00:53:37.909120Z"
    },
    "papermill": {
     "duration": 0.04609,
     "end_time": "2023-12-22T00:53:37.911743",
     "exception": false,
     "start_time": "2023-12-22T00:53:37.865653",
     "status": "completed"
    },
    "tags": []
   },
   "outputs": [
    {
     "name": "stdout",
     "output_type": "stream",
     "text": [
      "[924243001, 918522001, 924243002, 923758001, 866731001, 915529003, 909370001, 915529005, 751471001, 918292001, 762846027, 448509014]\n"
     ]
    }
   ],
   "source": [
    "import pandas as pd\n",
    "\n",
    "\n",
    "# Step 1: Group transactions by 'article_id' and count unique 'customer_id'\n",
    "article_customer_countold = last_week_transactions.groupby('article_id')['customer_id'].nunique().reset_index(name='customer_count')\n",
    "\n",
    "# Step 2: Sort articles based on customer count in descending order\n",
    "sorted_articlesold = article_customer_countold.sort_values(by='customer_count', ascending=False)\n",
    "\n",
    "# Step 3: Take the top 12 articles\n",
    "top_12_articlesold = sorted_articlesold.head(12)\n",
    "top_12_articlesold= (top_12_articlesold.article_id.to_list())\n",
    "# Display the result\n",
    "print(top_12_articlesold)"
   ]
  },
  {
   "cell_type": "code",
   "execution_count": 6,
   "id": "a8478052",
   "metadata": {
    "execution": {
     "iopub.execute_input": "2023-12-22T00:53:37.920473Z",
     "iopub.status.busy": "2023-12-22T00:53:37.919797Z",
     "iopub.status.idle": "2023-12-22T00:53:37.936729Z",
     "shell.execute_reply": "2023-12-22T00:53:37.935743Z"
    },
    "papermill": {
     "duration": 0.022887,
     "end_time": "2023-12-22T00:53:37.938402",
     "exception": false,
     "start_time": "2023-12-22T00:53:37.915515",
     "status": "completed"
    },
    "tags": []
   },
   "outputs": [
    {
     "name": "stdout",
     "output_type": "stream",
     "text": [
      "[918522001, 924243001, 448509014, 866731001, 915526001, 915529005, 915529003, 924243002, 918292001, 923758001, 911699002, 715624001]\n"
     ]
    }
   ],
   "source": [
    "import pandas as pd\n",
    "\n",
    "\n",
    "# Step 1: Group transactions by 'article_id' and count unique 'customer_id'\n",
    "article_customer_count1 = condition_1.groupby('article_id')['customer_id'].nunique().reset_index(name='customer_count')\n",
    "\n",
    "# Step 2: Sort articles based on customer count in descending order\n",
    "sorted_articles1 = article_customer_count1.sort_values(by='customer_count', ascending=False)\n",
    "\n",
    "# Step 3: Take the top 12 articles\n",
    "top_12_articles1 = sorted_articles1.head(12)\n",
    "top_12_articles1= (top_12_articles1.article_id.to_list())\n",
    "# Display the result\n",
    "print(top_12_articles1)"
   ]
  },
  {
   "cell_type": "code",
   "execution_count": 7,
   "id": "645117d0",
   "metadata": {
    "execution": {
     "iopub.execute_input": "2023-12-22T00:53:37.946821Z",
     "iopub.status.busy": "2023-12-22T00:53:37.946557Z",
     "iopub.status.idle": "2023-12-22T00:53:37.973313Z",
     "shell.execute_reply": "2023-12-22T00:53:37.972014Z"
    },
    "papermill": {
     "duration": 0.033157,
     "end_time": "2023-12-22T00:53:37.975206",
     "exception": false,
     "start_time": "2023-12-22T00:53:37.942049",
     "status": "completed"
    },
    "tags": []
   },
   "outputs": [
    {
     "name": "stdout",
     "output_type": "stream",
     "text": [
      "[924243001, 909370001, 866731001, 923758001, 924243002, 915529003, 918292001, 919273002, 915529005, 889550002, 762846027, 935541001]\n"
     ]
    }
   ],
   "source": [
    "import pandas as pd\n",
    "\n",
    "\n",
    "# Step 1: Group transactions by 'article_id' and count unique 'customer_id'\n",
    "article_customer_count2 = condition_2.groupby('article_id')['customer_id'].nunique().reset_index(name='customer_count')\n",
    "\n",
    "# Step 2: Sort articles based on customer count in descending order\n",
    "sorted_articles2 = article_customer_count2.sort_values(by='customer_count', ascending=False)\n",
    "\n",
    "# Step 3: Take the top 12 articles\n",
    "top_12_articles2 = sorted_articles2.head(12)\n",
    "top_12_articles2= (top_12_articles2.article_id.to_list())\n",
    "\n",
    "# Display the result\n",
    "print(top_12_articles2)"
   ]
  },
  {
   "cell_type": "code",
   "execution_count": 8,
   "id": "d77905bf",
   "metadata": {
    "execution": {
     "iopub.execute_input": "2023-12-22T00:53:37.984049Z",
     "iopub.status.busy": "2023-12-22T00:53:37.983756Z",
     "iopub.status.idle": "2023-12-22T00:53:37.999499Z",
     "shell.execute_reply": "2023-12-22T00:53:37.998386Z"
    },
    "papermill": {
     "duration": 0.022675,
     "end_time": "2023-12-22T00:53:38.001692",
     "exception": false,
     "start_time": "2023-12-22T00:53:37.979017",
     "status": "completed"
    },
    "tags": []
   },
   "outputs": [
    {
     "name": "stdout",
     "output_type": "stream",
     "text": [
      "[924243001, 930380001, 924243002, 928206001, 918522001, 751471043, 910601003, 751471001, 923758001, 863646001, 865799006, 673677002]\n"
     ]
    }
   ],
   "source": [
    "import pandas as pd\n",
    "\n",
    "\n",
    "# Step 1: Group transactions by 'article_id' and count unique 'customer_id'\n",
    "article_customer_count3 = condition_3.groupby('article_id')['customer_id'].nunique().reset_index(name='customer_count')\n",
    "\n",
    "# Step 2: Sort articles based on customer count in descending order\n",
    "sorted_articles3 = article_customer_count3.sort_values(by='customer_count', ascending=False)\n",
    "\n",
    "# Step 3: Take the top 12 articles\n",
    "top_12_articles3 = sorted_articles3.head(12)\n",
    "top_12_articles3= (top_12_articles3.article_id.to_list())\n",
    "\n",
    "# Display the result\n",
    "print(top_12_articles3)"
   ]
  },
  {
   "cell_type": "code",
   "execution_count": 9,
   "id": "90ab42c4",
   "metadata": {
    "execution": {
     "iopub.execute_input": "2023-12-22T00:53:38.010887Z",
     "iopub.status.busy": "2023-12-22T00:53:38.010606Z",
     "iopub.status.idle": "2023-12-22T00:53:42.444924Z",
     "shell.execute_reply": "2023-12-22T00:53:42.443858Z"
    },
    "papermill": {
     "duration": 4.441151,
     "end_time": "2023-12-22T00:53:42.447248",
     "exception": false,
     "start_time": "2023-12-22T00:53:38.006097",
     "status": "completed"
    },
    "tags": []
   },
   "outputs": [],
   "source": [
    "sub = pd.read_csv('/kaggle/input/h-and-m-personalized-fashion-recommendations/sample_submission.csv')"
   ]
  },
  {
   "cell_type": "markdown",
   "id": "c89d2818",
   "metadata": {
    "papermill": {
     "duration": 0.003634,
     "end_time": "2023-12-22T00:53:42.454972",
     "exception": false,
     "start_time": "2023-12-22T00:53:42.451338",
     "status": "completed"
    },
    "tags": []
   },
   "source": [
    "# Make submission"
   ]
  },
  {
   "cell_type": "code",
   "execution_count": 10,
   "id": "031012e9",
   "metadata": {
    "execution": {
     "iopub.execute_input": "2023-12-22T00:53:42.464474Z",
     "iopub.status.busy": "2023-12-22T00:53:42.463591Z",
     "iopub.status.idle": "2023-12-22T00:55:38.441990Z",
     "shell.execute_reply": "2023-12-22T00:55:38.440791Z"
    },
    "papermill": {
     "duration": 115.985419,
     "end_time": "2023-12-22T00:55:38.444099",
     "exception": false,
     "start_time": "2023-12-22T00:53:42.458680",
     "status": "completed"
    },
    "tags": []
   },
   "outputs": [
    {
     "name": "stderr",
     "output_type": "stream",
     "text": [
      "100%|██████████| 1371980/1371980 [01:54<00:00, 11938.70it/s]"
     ]
    },
    {
     "name": "stdout",
     "output_type": "stream",
     "text": [
      "CPU times: user 1min 55s, sys: 472 ms, total: 1min 56s\n",
      "Wall time: 1min 55s\n"
     ]
    },
    {
     "name": "stderr",
     "output_type": "stream",
     "text": [
      "\n"
     ]
    }
   ],
   "source": [
    "%%time\n",
    "from tqdm import tqdm\n",
    "latest_bought_articles = []\n",
    "for c_id in tqdm(customer_hex_id_to_int(sub.customer_id)):\n",
    "    # Check in which condition the target_customer_id falls\n",
    "    if c_id in condition_1['customer_id'].values:\n",
    "        latest_bought_articles.append(top_12_articles1)\n",
    "    elif c_id in condition_2['customer_id'].values:\n",
    "        latest_bought_articles.append(top_12_articles2)\n",
    "    elif c_id in condition_3['customer_id'].values:\n",
    "        latest_bought_articles.append(top_12_articles3)\n",
    "    else:\n",
    "        latest_bought_articles.append(top_12_articlesold)\n",
    "\n",
    "\n"
   ]
  },
  {
   "cell_type": "code",
   "execution_count": 11,
   "id": "4b6d8f45",
   "metadata": {
    "execution": {
     "iopub.execute_input": "2023-12-22T00:55:38.627356Z",
     "iopub.status.busy": "2023-12-22T00:55:38.626328Z",
     "iopub.status.idle": "2023-12-22T00:55:43.073527Z",
     "shell.execute_reply": "2023-12-22T00:55:43.072583Z"
    },
    "papermill": {
     "duration": 4.519682,
     "end_time": "2023-12-22T00:55:43.075873",
     "exception": false,
     "start_time": "2023-12-22T00:55:38.556191",
     "status": "completed"
    },
    "tags": []
   },
   "outputs": [],
   "source": [
    "preds = [' '.join(['0' + str(p) for p in ps]) for ps in latest_bought_articles]\n",
    "sub.prediction = preds"
   ]
  },
  {
   "cell_type": "code",
   "execution_count": 12,
   "id": "f7c29d74",
   "metadata": {
    "execution": {
     "iopub.execute_input": "2023-12-22T00:55:43.214217Z",
     "iopub.status.busy": "2023-12-22T00:55:43.213129Z",
     "iopub.status.idle": "2023-12-22T00:55:57.007369Z",
     "shell.execute_reply": "2023-12-22T00:55:57.005319Z"
    },
    "papermill": {
     "duration": 13.865803,
     "end_time": "2023-12-22T00:55:57.009537",
     "exception": false,
     "start_time": "2023-12-22T00:55:43.143734",
     "status": "completed"
    },
    "tags": []
   },
   "outputs": [],
   "source": [
    "sub_name = 'Popularity_ageGroup'\n",
    "sub.to_csv(f'{sub_name}.csv.gz', index=False)"
   ]
  }
 ],
 "metadata": {
  "kaggle": {
   "accelerator": "none",
   "dataSources": [
    {
     "databundleVersionId": 3103714,
     "sourceId": 31254,
     "sourceType": "competition"
    },
    {
     "sourceId": 149573710,
     "sourceType": "kernelVersion"
    }
   ],
   "dockerImageVersionId": 30587,
   "isGpuEnabled": false,
   "isInternetEnabled": true,
   "language": "python",
   "sourceType": "notebook"
  },
  "kernelspec": {
   "display_name": "Python 3",
   "language": "python",
   "name": "python3"
  },
  "language_info": {
   "codemirror_mode": {
    "name": "ipython",
    "version": 3
   },
   "file_extension": ".py",
   "mimetype": "text/x-python",
   "name": "python",
   "nbconvert_exporter": "python",
   "pygments_lexer": "ipython3",
   "version": "3.10.12"
  },
  "papermill": {
   "default_parameters": {},
   "duration": 157.943376,
   "end_time": "2023-12-22T00:55:57.797289",
   "environment_variables": {},
   "exception": null,
   "input_path": "__notebook__.ipynb",
   "output_path": "__notebook__.ipynb",
   "parameters": {},
   "start_time": "2023-12-22T00:53:19.853913",
   "version": "2.4.0"
  }
 },
 "nbformat": 4,
 "nbformat_minor": 5
}
