{
 "cells": [
  {
   "cell_type": "markdown",
   "id": "9de6929a",
   "metadata": {
    "id": "6f21ab04",
    "papermill": {
     "duration": 0.009617,
     "end_time": "2023-12-22T00:33:32.797143",
     "exception": false,
     "start_time": "2023-12-22T00:33:32.787526",
     "status": "completed"
    },
    "tags": []
   },
   "source": [
    "Based on the baseline \"Radek's LGBMRanker starter-pack”: https://www.kaggle.com/code/marcogorelli/radek-s-lgbmranker-starter-pack\n"
   ]
  },
  {
   "cell_type": "markdown",
   "id": "f898d2cc",
   "metadata": {
    "papermill": {
     "duration": 0.008555,
     "end_time": "2023-12-22T00:33:32.814685",
     "exception": false,
     "start_time": "2023-12-22T00:33:32.806130",
     "status": "completed"
    },
    "tags": []
   },
   "source": [
    "# Helper functions"
   ]
  },
  {
   "cell_type": "code",
   "execution_count": 1,
   "id": "f161e599",
   "metadata": {
    "execution": {
     "iopub.execute_input": "2023-12-22T00:33:32.835229Z",
     "iopub.status.busy": "2023-12-22T00:33:32.834834Z",
     "iopub.status.idle": "2023-12-22T00:33:32.851193Z",
     "shell.execute_reply": "2023-12-22T00:33:32.850416Z"
    },
    "executionInfo": {
     "elapsed": 8,
     "status": "ok",
     "timestamp": 1699021070415,
     "user": {
      "displayName": "nick wils",
      "userId": "09906672494021070283"
     },
     "user_tz": -60
    },
    "id": "4a7e7212",
    "papermill": {
     "duration": 0.028799,
     "end_time": "2023-12-22T00:33:32.853437",
     "exception": false,
     "start_time": "2023-12-22T00:33:32.824638",
     "status": "completed"
    },
    "tags": []
   },
   "outputs": [],
   "source": [
    "import numpy as np\n",
    "\n",
    "def apk(actual, predicted, k=10):\n",
    "    \"\"\"\n",
    "    Computes the average precision at k.\n",
    "\n",
    "    This function computes the average prescision at k between two lists of\n",
    "    items.\n",
    "\n",
    "    Parameters\n",
    "    ----------\n",
    "    actual : list\n",
    "             A list of elements that are to be predicted (order doesn't matter)\n",
    "    predicted : list\n",
    "                A list of predicted elements (order does matter)\n",
    "    k : int, optional\n",
    "        The maximum number of predicted elements\n",
    "\n",
    "    Returns\n",
    "    -------\n",
    "    score : double\n",
    "            The average precision at k over the input lists\n",
    "\n",
    "    \"\"\"\n",
    "    if len(predicted)>k:\n",
    "        predicted = predicted[:k]\n",
    "\n",
    "    score = 0.0\n",
    "    num_hits = 0.0\n",
    "\n",
    "    for i,p in enumerate(predicted):\n",
    "        if p in actual and p not in predicted[:i]:\n",
    "            num_hits += 1.0\n",
    "            score += num_hits / (i+1.0)\n",
    "\n",
    "    if not actual:\n",
    "        return 0.0\n",
    "\n",
    "    return score / min(len(actual), k)\n",
    "\n",
    "def mapk(actual, predicted, k=10):\n",
    "    \"\"\"\n",
    "    Computes the mean average precision at k.\n",
    "\n",
    "    This function computes the mean average prescision at k between two lists\n",
    "    of lists of items.\n",
    "\n",
    "    Parameters\n",
    "    ----------\n",
    "    actual : list\n",
    "             A list of lists of elements that are to be predicted\n",
    "             (order doesn't matter in the lists)\n",
    "    predicted : list\n",
    "                A list of lists of predicted elements\n",
    "                (order matters in the lists)\n",
    "    k : int, optional\n",
    "        The maximum number of predicted elements\n",
    "\n",
    "    Returns\n",
    "    -------\n",
    "    score : double\n",
    "            The mean average precision at k over the input lists\n",
    "\n",
    "    \"\"\"\n",
    "    return np.mean([apk(a,p,k) for a,p in zip(actual, predicted)])"
   ]
  },
  {
   "cell_type": "code",
   "execution_count": 2,
   "id": "b6e0e3fd",
   "metadata": {
    "execution": {
     "iopub.execute_input": "2023-12-22T00:33:32.873015Z",
     "iopub.status.busy": "2023-12-22T00:33:32.872612Z",
     "iopub.status.idle": "2023-12-22T00:33:34.179194Z",
     "shell.execute_reply": "2023-12-22T00:33:34.177919Z"
    },
    "executionInfo": {
     "elapsed": 1622,
     "status": "ok",
     "timestamp": 1699021072031,
     "user": {
      "displayName": "nick wils",
      "userId": "09906672494021070283"
     },
     "user_tz": -60
    },
    "id": "85ef6566",
    "papermill": {
     "duration": 1.319584,
     "end_time": "2023-12-22T00:33:34.182058",
     "exception": false,
     "start_time": "2023-12-22T00:33:32.862474",
     "status": "completed"
    },
    "tags": []
   },
   "outputs": [],
   "source": [
    "from sklearn.base import BaseEstimator, TransformerMixin\n",
    "import numpy as np\n",
    "\n",
    "# https://www.kaggle.com/c/h-and-m-personalized-fashion-recommendations/discussion/308635\n",
    "def customer_hex_id_to_int(series):\n",
    "    return series.str[-16:].apply(hex_id_to_int)\n",
    "\n",
    "def hex_id_to_int(str):\n",
    "    return int(str[-16:], 16)\n",
    "\n",
    "def article_id_str_to_int(series):\n",
    "    return series.astype('int32')\n",
    "\n",
    "def article_id_int_to_str(series):\n",
    "    return '0' + series.astype('str')\n",
    "\n",
    "class Categorize(BaseEstimator, TransformerMixin):\n",
    "    def __init__(self, min_examples=0):\n",
    "        self.min_examples = min_examples\n",
    "        self.categories = []\n",
    "\n",
    "    def fit(self, X):\n",
    "        for i in range(X.shape[1]):\n",
    "            vc = X.iloc[:, i].value_counts()\n",
    "            self.categories.append(vc[vc > self.min_examples].index.tolist())\n",
    "        return self\n",
    "\n",
    "    def transform(self, X):\n",
    "        data = {X.columns[i]: pd.Categorical(X.iloc[:, i], categories=self.categories[i]).codes for i in range(X.shape[1])}\n",
    "        return pd.DataFrame(data=data)\n",
    "\n",
    "\n",
    "def calculate_apk(list_of_preds, list_of_gts):\n",
    "    # for fast validation this can be changed to operate on dicts of {'cust_id_int': [art_id_int, ...]}\n",
    "    # using 'data/val_week_purchases_by_cust.pkl'\n",
    "    apks = []\n",
    "    for preds, gt in zip(list_of_preds, list_of_gts):\n",
    "        apks.append(apk(gt, preds, k=12))\n",
    "    return np.mean(apks)\n",
    "\n",
    "def eval_sub(sub_csv, skip_cust_with_no_purchases=True):\n",
    "    sub=pd.read_csv(sub_csv)\n",
    "    validation_set=pd.read_parquet('data/validation_ground_truth.parquet')\n",
    "\n",
    "    apks = []\n",
    "\n",
    "    no_purchases_pattern = []\n",
    "    for pred, gt in zip(sub.prediction.str.split(), validation_set.prediction.str.split()):\n",
    "        if skip_cust_with_no_purchases and (gt == no_purchases_pattern): continue\n",
    "        apks.append(apk(gt, pred, k=12))\n",
    "    return np.mean(apks)"
   ]
  },
  {
   "cell_type": "code",
   "execution_count": 3,
   "id": "4a1da67e",
   "metadata": {
    "execution": {
     "iopub.execute_input": "2023-12-22T00:33:34.202373Z",
     "iopub.status.busy": "2023-12-22T00:33:34.201861Z",
     "iopub.status.idle": "2023-12-22T00:33:34.999141Z",
     "shell.execute_reply": "2023-12-22T00:33:34.998025Z"
    },
    "executionInfo": {
     "elapsed": 1009,
     "status": "ok",
     "timestamp": 1699021073032,
     "user": {
      "displayName": "nick wils",
      "userId": "09906672494021070283"
     },
     "user_tz": -60
    },
    "id": "78c7a34c",
    "papermill": {
     "duration": 0.810528,
     "end_time": "2023-12-22T00:33:35.001846",
     "exception": false,
     "start_time": "2023-12-22T00:33:34.191318",
     "status": "completed"
    },
    "tags": []
   },
   "outputs": [],
   "source": [
    "import pandas as pd"
   ]
  },
  {
   "cell_type": "markdown",
   "id": "507eb145",
   "metadata": {
    "papermill": {
     "duration": 0.008499,
     "end_time": "2023-12-22T00:33:35.019584",
     "exception": false,
     "start_time": "2023-12-22T00:33:35.011085",
     "status": "completed"
    },
    "tags": []
   },
   "source": [
    "# Read input files"
   ]
  },
  {
   "cell_type": "code",
   "execution_count": 4,
   "id": "6bc2361f",
   "metadata": {
    "execution": {
     "iopub.execute_input": "2023-12-22T00:33:35.039438Z",
     "iopub.status.busy": "2023-12-22T00:33:35.038564Z",
     "iopub.status.idle": "2023-12-22T00:33:40.485847Z",
     "shell.execute_reply": "2023-12-22T00:33:40.484926Z"
    },
    "executionInfo": {
     "elapsed": 10386,
     "status": "ok",
     "timestamp": 1699021083403,
     "user": {
      "displayName": "nick wils",
      "userId": "09906672494021070283"
     },
     "user_tz": -60
    },
    "id": "af847e1a",
    "outputId": "3cbfb68d-34ad-434e-8246-c093b7fedffd",
    "papermill": {
     "duration": 5.460005,
     "end_time": "2023-12-22T00:33:40.488390",
     "exception": false,
     "start_time": "2023-12-22T00:33:35.028385",
     "status": "completed"
    },
    "tags": []
   },
   "outputs": [
    {
     "name": "stdout",
     "output_type": "stream",
     "text": [
      "CPU times: user 3.49 s, sys: 4.03 s, total: 7.52 s\n",
      "Wall time: 5.44 s\n"
     ]
    }
   ],
   "source": [
    "%%time\n",
    "pad = \"/kaggle/input/makeparquet\"\n",
    "transactions = pd.read_parquet(pad+'/transactions_train.parquet')\n",
    "customers = pd.read_parquet(pad+'/customers.parquet')\n",
    "articles = pd.read_parquet(pad+'/articles.parquet')"
   ]
  },
  {
   "cell_type": "code",
   "execution_count": 5,
   "id": "732ef73a",
   "metadata": {
    "execution": {
     "iopub.execute_input": "2023-12-22T00:33:40.508588Z",
     "iopub.status.busy": "2023-12-22T00:33:40.507802Z",
     "iopub.status.idle": "2023-12-22T00:33:40.809611Z",
     "shell.execute_reply": "2023-12-22T00:33:40.808496Z"
    },
    "executionInfo": {
     "elapsed": 359,
     "status": "ok",
     "timestamp": 1699021083748,
     "user": {
      "displayName": "nick wils",
      "userId": "09906672494021070283"
     },
     "user_tz": -60
    },
    "id": "76f70d9a",
    "papermill": {
     "duration": 0.3151,
     "end_time": "2023-12-22T00:33:40.812530",
     "exception": false,
     "start_time": "2023-12-22T00:33:40.497430",
     "status": "completed"
    },
    "tags": []
   },
   "outputs": [],
   "source": [
    "test_week = transactions.week.max() + 1\n",
    "transactions = transactions[transactions.week > transactions.week.max() - 10]"
   ]
  },
  {
   "cell_type": "markdown",
   "id": "19f9830c",
   "metadata": {
    "id": "5133081f",
    "papermill": {
     "duration": 0.008802,
     "end_time": "2023-12-22T00:33:40.830414",
     "exception": false,
     "start_time": "2023-12-22T00:33:40.821612",
     "status": "completed"
    },
    "tags": []
   },
   "source": [
    "# Generating bestseller"
   ]
  },
  {
   "cell_type": "code",
   "execution_count": 6,
   "id": "2346190c",
   "metadata": {
    "execution": {
     "iopub.execute_input": "2023-12-22T00:33:40.851280Z",
     "iopub.status.busy": "2023-12-22T00:33:40.850298Z",
     "iopub.status.idle": "2023-12-22T00:33:40.979036Z",
     "shell.execute_reply": "2023-12-22T00:33:40.977213Z"
    },
    "executionInfo": {
     "elapsed": 27,
     "status": "ok",
     "timestamp": 1699021128070,
     "user": {
      "displayName": "nick wils",
      "userId": "09906672494021070283"
     },
     "user_tz": -60
    },
    "id": "a36be6fc",
    "outputId": "d760722c-fd93-4387-ec91-567d48918be5",
    "papermill": {
     "duration": 0.143578,
     "end_time": "2023-12-22T00:33:40.983039",
     "exception": false,
     "start_time": "2023-12-22T00:33:40.839461",
     "status": "completed"
    },
    "tags": []
   },
   "outputs": [
    {
     "data": {
      "text/html": [
       "<div>\n",
       "<style scoped>\n",
       "    .dataframe tbody tr th:only-of-type {\n",
       "        vertical-align: middle;\n",
       "    }\n",
       "\n",
       "    .dataframe tbody tr th {\n",
       "        vertical-align: top;\n",
       "    }\n",
       "\n",
       "    .dataframe thead th {\n",
       "        text-align: right;\n",
       "    }\n",
       "</style>\n",
       "<table border=\"1\" class=\"dataframe\">\n",
       "  <thead>\n",
       "    <tr style=\"text-align: right;\">\n",
       "      <th></th>\n",
       "      <th>min</th>\n",
       "      <th>max</th>\n",
       "    </tr>\n",
       "    <tr>\n",
       "      <th>week</th>\n",
       "      <th></th>\n",
       "      <th></th>\n",
       "    </tr>\n",
       "  </thead>\n",
       "  <tbody>\n",
       "    <tr>\n",
       "      <th>95</th>\n",
       "      <td>2020-07-15</td>\n",
       "      <td>2020-07-21</td>\n",
       "    </tr>\n",
       "    <tr>\n",
       "      <th>96</th>\n",
       "      <td>2020-07-22</td>\n",
       "      <td>2020-07-28</td>\n",
       "    </tr>\n",
       "    <tr>\n",
       "      <th>97</th>\n",
       "      <td>2020-07-29</td>\n",
       "      <td>2020-08-04</td>\n",
       "    </tr>\n",
       "    <tr>\n",
       "      <th>98</th>\n",
       "      <td>2020-08-05</td>\n",
       "      <td>2020-08-11</td>\n",
       "    </tr>\n",
       "    <tr>\n",
       "      <th>99</th>\n",
       "      <td>2020-08-12</td>\n",
       "      <td>2020-08-18</td>\n",
       "    </tr>\n",
       "    <tr>\n",
       "      <th>100</th>\n",
       "      <td>2020-08-19</td>\n",
       "      <td>2020-08-25</td>\n",
       "    </tr>\n",
       "    <tr>\n",
       "      <th>101</th>\n",
       "      <td>2020-08-26</td>\n",
       "      <td>2020-09-01</td>\n",
       "    </tr>\n",
       "    <tr>\n",
       "      <th>102</th>\n",
       "      <td>2020-09-02</td>\n",
       "      <td>2020-09-08</td>\n",
       "    </tr>\n",
       "    <tr>\n",
       "      <th>103</th>\n",
       "      <td>2020-09-09</td>\n",
       "      <td>2020-09-15</td>\n",
       "    </tr>\n",
       "    <tr>\n",
       "      <th>104</th>\n",
       "      <td>2020-09-16</td>\n",
       "      <td>2020-09-22</td>\n",
       "    </tr>\n",
       "  </tbody>\n",
       "</table>\n",
       "</div>"
      ],
      "text/plain": [
       "            min        max\n",
       "week                      \n",
       "95   2020-07-15 2020-07-21\n",
       "96   2020-07-22 2020-07-28\n",
       "97   2020-07-29 2020-08-04\n",
       "98   2020-08-05 2020-08-11\n",
       "99   2020-08-12 2020-08-18\n",
       "100  2020-08-19 2020-08-25\n",
       "101  2020-08-26 2020-09-01\n",
       "102  2020-09-02 2020-09-08\n",
       "103  2020-09-09 2020-09-15\n",
       "104  2020-09-16 2020-09-22"
      ]
     },
     "execution_count": 6,
     "metadata": {},
     "output_type": "execute_result"
    }
   ],
   "source": [
    "transactions.groupby('week')['t_dat'].agg(['min', 'max'])"
   ]
  },
  {
   "cell_type": "markdown",
   "id": "73aacee3",
   "metadata": {
    "id": "38ae3458",
    "papermill": {
     "duration": 0.009698,
     "end_time": "2023-12-22T00:33:41.003461",
     "exception": false,
     "start_time": "2023-12-22T00:33:40.993763",
     "status": "completed"
    },
    "tags": []
   },
   "source": [
    "### Bestsellers candidates"
   ]
  },
  {
   "cell_type": "code",
   "execution_count": 7,
   "id": "1bfe6cdc",
   "metadata": {
    "execution": {
     "iopub.execute_input": "2023-12-22T00:33:41.025063Z",
     "iopub.status.busy": "2023-12-22T00:33:41.024639Z",
     "iopub.status.idle": "2023-12-22T00:33:41.318038Z",
     "shell.execute_reply": "2023-12-22T00:33:41.316505Z"
    },
    "papermill": {
     "duration": 0.308289,
     "end_time": "2023-12-22T00:33:41.321686",
     "exception": false,
     "start_time": "2023-12-22T00:33:41.013397",
     "status": "completed"
    },
    "tags": []
   },
   "outputs": [],
   "source": [
    "mean_price = transactions \\\n",
    "    .groupby(['week', 'article_id'])['price'].mean()"
   ]
  },
  {
   "cell_type": "code",
   "execution_count": 8,
   "id": "9a419026",
   "metadata": {
    "execution": {
     "iopub.execute_input": "2023-12-22T00:33:41.343844Z",
     "iopub.status.busy": "2023-12-22T00:33:41.343400Z",
     "iopub.status.idle": "2023-12-22T00:33:41.638053Z",
     "shell.execute_reply": "2023-12-22T00:33:41.636824Z"
    },
    "executionInfo": {
     "elapsed": 732,
     "status": "ok",
     "timestamp": 1699021150260,
     "user": {
      "displayName": "nick wils",
      "userId": "09906672494021070283"
     },
     "user_tz": -60
    },
    "id": "9a104ef9",
    "papermill": {
     "duration": 0.309179,
     "end_time": "2023-12-22T00:33:41.640941",
     "exception": false,
     "start_time": "2023-12-22T00:33:41.331762",
     "status": "completed"
    },
    "tags": []
   },
   "outputs": [],
   "source": [
    "sales = transactions \\\n",
    "    .groupby('week')['article_id'].value_counts() \\\n",
    "    .groupby('week').rank(method='dense', ascending=False) \\\n",
    "    .groupby('week').head(24).rename('bestseller_rank').astype('int8')"
   ]
  },
  {
   "cell_type": "code",
   "execution_count": 9,
   "id": "56348c59",
   "metadata": {
    "execution": {
     "iopub.execute_input": "2023-12-22T00:33:41.661617Z",
     "iopub.status.busy": "2023-12-22T00:33:41.661191Z",
     "iopub.status.idle": "2023-12-22T00:33:41.704589Z",
     "shell.execute_reply": "2023-12-22T00:33:41.703409Z"
    },
    "executionInfo": {
     "elapsed": 14,
     "status": "ok",
     "timestamp": 1699021150262,
     "user": {
      "displayName": "nick wils",
      "userId": "09906672494021070283"
     },
     "user_tz": -60
    },
    "id": "20324cc0",
    "papermill": {
     "duration": 0.056781,
     "end_time": "2023-12-22T00:33:41.707309",
     "exception": false,
     "start_time": "2023-12-22T00:33:41.650528",
     "status": "completed"
    },
    "tags": []
   },
   "outputs": [],
   "source": [
    "bestsellers_previous_week2 = pd.merge(sales, mean_price, on=['week', 'article_id']).reset_index()\n",
    "bestsellers_previous_week2.week += 1"
   ]
  },
  {
   "cell_type": "code",
   "execution_count": 10,
   "id": "b448f6a1",
   "metadata": {
    "execution": {
     "iopub.execute_input": "2023-12-22T00:33:41.727767Z",
     "iopub.status.busy": "2023-12-22T00:33:41.727340Z",
     "iopub.status.idle": "2023-12-22T00:33:41.744531Z",
     "shell.execute_reply": "2023-12-22T00:33:41.743746Z"
    },
    "executionInfo": {
     "elapsed": 13,
     "status": "ok",
     "timestamp": 1699021150262,
     "user": {
      "displayName": "nick wils",
      "userId": "09906672494021070283"
     },
     "user_tz": -60
    },
    "id": "b8447b19",
    "outputId": "b992d53d-c501-4be5-e373-7ed121335003",
    "papermill": {
     "duration": 0.030245,
     "end_time": "2023-12-22T00:33:41.746894",
     "exception": false,
     "start_time": "2023-12-22T00:33:41.716649",
     "status": "completed"
    },
    "tags": []
   },
   "outputs": [
    {
     "data": {
      "text/html": [
       "<div>\n",
       "<style scoped>\n",
       "    .dataframe tbody tr th:only-of-type {\n",
       "        vertical-align: middle;\n",
       "    }\n",
       "\n",
       "    .dataframe tbody tr th {\n",
       "        vertical-align: top;\n",
       "    }\n",
       "\n",
       "    .dataframe thead th {\n",
       "        text-align: right;\n",
       "    }\n",
       "</style>\n",
       "<table border=\"1\" class=\"dataframe\">\n",
       "  <thead>\n",
       "    <tr style=\"text-align: right;\">\n",
       "      <th></th>\n",
       "      <th>week</th>\n",
       "      <th>article_id</th>\n",
       "      <th>bestseller_rank</th>\n",
       "      <th>price</th>\n",
       "    </tr>\n",
       "  </thead>\n",
       "  <tbody>\n",
       "    <tr>\n",
       "      <th>0</th>\n",
       "      <td>96</td>\n",
       "      <td>760084003</td>\n",
       "      <td>1</td>\n",
       "      <td>0.025094</td>\n",
       "    </tr>\n",
       "    <tr>\n",
       "      <th>1</th>\n",
       "      <td>96</td>\n",
       "      <td>866731001</td>\n",
       "      <td>2</td>\n",
       "      <td>0.024919</td>\n",
       "    </tr>\n",
       "    <tr>\n",
       "      <th>2</th>\n",
       "      <td>96</td>\n",
       "      <td>600886001</td>\n",
       "      <td>3</td>\n",
       "      <td>0.022980</td>\n",
       "    </tr>\n",
       "    <tr>\n",
       "      <th>3</th>\n",
       "      <td>96</td>\n",
       "      <td>706016001</td>\n",
       "      <td>4</td>\n",
       "      <td>0.033197</td>\n",
       "    </tr>\n",
       "    <tr>\n",
       "      <th>4</th>\n",
       "      <td>96</td>\n",
       "      <td>372860002</td>\n",
       "      <td>5</td>\n",
       "      <td>0.013193</td>\n",
       "    </tr>\n",
       "    <tr>\n",
       "      <th>5</th>\n",
       "      <td>96</td>\n",
       "      <td>610776002</td>\n",
       "      <td>6</td>\n",
       "      <td>0.008318</td>\n",
       "    </tr>\n",
       "    <tr>\n",
       "      <th>6</th>\n",
       "      <td>96</td>\n",
       "      <td>877278002</td>\n",
       "      <td>7</td>\n",
       "      <td>0.025036</td>\n",
       "    </tr>\n",
       "    <tr>\n",
       "      <th>7</th>\n",
       "      <td>96</td>\n",
       "      <td>547780003</td>\n",
       "      <td>8</td>\n",
       "      <td>0.024814</td>\n",
       "    </tr>\n",
       "    <tr>\n",
       "      <th>8</th>\n",
       "      <td>96</td>\n",
       "      <td>817354001</td>\n",
       "      <td>9</td>\n",
       "      <td>0.021913</td>\n",
       "    </tr>\n",
       "    <tr>\n",
       "      <th>9</th>\n",
       "      <td>96</td>\n",
       "      <td>827968001</td>\n",
       "      <td>10</td>\n",
       "      <td>0.016436</td>\n",
       "    </tr>\n",
       "    <tr>\n",
       "      <th>10</th>\n",
       "      <td>96</td>\n",
       "      <td>866731003</td>\n",
       "      <td>11</td>\n",
       "      <td>0.024893</td>\n",
       "    </tr>\n",
       "    <tr>\n",
       "      <th>11</th>\n",
       "      <td>96</td>\n",
       "      <td>866383006</td>\n",
       "      <td>12</td>\n",
       "      <td>0.023195</td>\n",
       "    </tr>\n",
       "    <tr>\n",
       "      <th>12</th>\n",
       "      <td>96</td>\n",
       "      <td>717490064</td>\n",
       "      <td>13</td>\n",
       "      <td>0.008260</td>\n",
       "    </tr>\n",
       "    <tr>\n",
       "      <th>13</th>\n",
       "      <td>96</td>\n",
       "      <td>759871002</td>\n",
       "      <td>14</td>\n",
       "      <td>0.006181</td>\n",
       "    </tr>\n",
       "    <tr>\n",
       "      <th>14</th>\n",
       "      <td>96</td>\n",
       "      <td>880099001</td>\n",
       "      <td>15</td>\n",
       "      <td>0.016502</td>\n",
       "    </tr>\n",
       "    <tr>\n",
       "      <th>15</th>\n",
       "      <td>96</td>\n",
       "      <td>806388001</td>\n",
       "      <td>16</td>\n",
       "      <td>0.013307</td>\n",
       "    </tr>\n",
       "    <tr>\n",
       "      <th>16</th>\n",
       "      <td>96</td>\n",
       "      <td>372860001</td>\n",
       "      <td>17</td>\n",
       "      <td>0.013167</td>\n",
       "    </tr>\n",
       "    <tr>\n",
       "      <th>17</th>\n",
       "      <td>96</td>\n",
       "      <td>895002002</td>\n",
       "      <td>18</td>\n",
       "      <td>0.013114</td>\n",
       "    </tr>\n",
       "    <tr>\n",
       "      <th>18</th>\n",
       "      <td>96</td>\n",
       "      <td>824490001</td>\n",
       "      <td>19</td>\n",
       "      <td>0.030348</td>\n",
       "    </tr>\n",
       "    <tr>\n",
       "      <th>19</th>\n",
       "      <td>96</td>\n",
       "      <td>730683050</td>\n",
       "      <td>20</td>\n",
       "      <td>0.041582</td>\n",
       "    </tr>\n",
       "    <tr>\n",
       "      <th>20</th>\n",
       "      <td>96</td>\n",
       "      <td>599580038</td>\n",
       "      <td>21</td>\n",
       "      <td>0.015072</td>\n",
       "    </tr>\n",
       "    <tr>\n",
       "      <th>21</th>\n",
       "      <td>96</td>\n",
       "      <td>610776001</td>\n",
       "      <td>22</td>\n",
       "      <td>0.008237</td>\n",
       "    </tr>\n",
       "    <tr>\n",
       "      <th>22</th>\n",
       "      <td>96</td>\n",
       "      <td>559616013</td>\n",
       "      <td>23</td>\n",
       "      <td>0.022949</td>\n",
       "    </tr>\n",
       "    <tr>\n",
       "      <th>23</th>\n",
       "      <td>96</td>\n",
       "      <td>751471001</td>\n",
       "      <td>24</td>\n",
       "      <td>0.033261</td>\n",
       "    </tr>\n",
       "  </tbody>\n",
       "</table>\n",
       "</div>"
      ],
      "text/plain": [
       "    week  article_id  bestseller_rank     price\n",
       "0     96   760084003                1  0.025094\n",
       "1     96   866731001                2  0.024919\n",
       "2     96   600886001                3  0.022980\n",
       "3     96   706016001                4  0.033197\n",
       "4     96   372860002                5  0.013193\n",
       "5     96   610776002                6  0.008318\n",
       "6     96   877278002                7  0.025036\n",
       "7     96   547780003                8  0.024814\n",
       "8     96   817354001                9  0.021913\n",
       "9     96   827968001               10  0.016436\n",
       "10    96   866731003               11  0.024893\n",
       "11    96   866383006               12  0.023195\n",
       "12    96   717490064               13  0.008260\n",
       "13    96   759871002               14  0.006181\n",
       "14    96   880099001               15  0.016502\n",
       "15    96   806388001               16  0.013307\n",
       "16    96   372860001               17  0.013167\n",
       "17    96   895002002               18  0.013114\n",
       "18    96   824490001               19  0.030348\n",
       "19    96   730683050               20  0.041582\n",
       "20    96   599580038               21  0.015072\n",
       "21    96   610776001               22  0.008237\n",
       "22    96   559616013               23  0.022949\n",
       "23    96   751471001               24  0.033261"
      ]
     },
     "execution_count": 10,
     "metadata": {},
     "output_type": "execute_result"
    }
   ],
   "source": [
    "bestsellers_previous_week2.pipe(lambda df: df[df['week']==96])"
   ]
  },
  {
   "cell_type": "code",
   "execution_count": 11,
   "id": "ea4a7ae5",
   "metadata": {
    "execution": {
     "iopub.execute_input": "2023-12-22T00:33:41.767761Z",
     "iopub.status.busy": "2023-12-22T00:33:41.766946Z",
     "iopub.status.idle": "2023-12-22T00:33:41.780252Z",
     "shell.execute_reply": "2023-12-22T00:33:41.779096Z"
    },
    "papermill": {
     "duration": 0.026304,
     "end_time": "2023-12-22T00:33:41.782584",
     "exception": false,
     "start_time": "2023-12-22T00:33:41.756280",
     "status": "completed"
    },
    "tags": []
   },
   "outputs": [
    {
     "data": {
      "text/html": [
       "<div>\n",
       "<style scoped>\n",
       "    .dataframe tbody tr th:only-of-type {\n",
       "        vertical-align: middle;\n",
       "    }\n",
       "\n",
       "    .dataframe tbody tr th {\n",
       "        vertical-align: top;\n",
       "    }\n",
       "\n",
       "    .dataframe thead th {\n",
       "        text-align: right;\n",
       "    }\n",
       "</style>\n",
       "<table border=\"1\" class=\"dataframe\">\n",
       "  <thead>\n",
       "    <tr style=\"text-align: right;\">\n",
       "      <th></th>\n",
       "      <th>week</th>\n",
       "      <th>article_id</th>\n",
       "      <th>bestseller_rank</th>\n",
       "      <th>price</th>\n",
       "    </tr>\n",
       "  </thead>\n",
       "  <tbody>\n",
       "    <tr>\n",
       "      <th>0</th>\n",
       "      <td>96</td>\n",
       "      <td>760084003</td>\n",
       "      <td>1</td>\n",
       "      <td>0.025094</td>\n",
       "    </tr>\n",
       "    <tr>\n",
       "      <th>1</th>\n",
       "      <td>96</td>\n",
       "      <td>866731001</td>\n",
       "      <td>2</td>\n",
       "      <td>0.024919</td>\n",
       "    </tr>\n",
       "    <tr>\n",
       "      <th>2</th>\n",
       "      <td>96</td>\n",
       "      <td>600886001</td>\n",
       "      <td>3</td>\n",
       "      <td>0.022980</td>\n",
       "    </tr>\n",
       "    <tr>\n",
       "      <th>3</th>\n",
       "      <td>96</td>\n",
       "      <td>706016001</td>\n",
       "      <td>4</td>\n",
       "      <td>0.033197</td>\n",
       "    </tr>\n",
       "    <tr>\n",
       "      <th>4</th>\n",
       "      <td>96</td>\n",
       "      <td>372860002</td>\n",
       "      <td>5</td>\n",
       "      <td>0.013193</td>\n",
       "    </tr>\n",
       "    <tr>\n",
       "      <th>...</th>\n",
       "      <td>...</td>\n",
       "      <td>...</td>\n",
       "      <td>...</td>\n",
       "      <td>...</td>\n",
       "    </tr>\n",
       "    <tr>\n",
       "      <th>235</th>\n",
       "      <td>105</td>\n",
       "      <td>935541001</td>\n",
       "      <td>20</td>\n",
       "      <td>0.024353</td>\n",
       "    </tr>\n",
       "    <tr>\n",
       "      <th>236</th>\n",
       "      <td>105</td>\n",
       "      <td>934835001</td>\n",
       "      <td>20</td>\n",
       "      <td>0.024789</td>\n",
       "    </tr>\n",
       "    <tr>\n",
       "      <th>237</th>\n",
       "      <td>105</td>\n",
       "      <td>894780001</td>\n",
       "      <td>21</td>\n",
       "      <td>0.033416</td>\n",
       "    </tr>\n",
       "    <tr>\n",
       "      <th>238</th>\n",
       "      <td>105</td>\n",
       "      <td>673677002</td>\n",
       "      <td>22</td>\n",
       "      <td>0.024958</td>\n",
       "    </tr>\n",
       "    <tr>\n",
       "      <th>239</th>\n",
       "      <td>105</td>\n",
       "      <td>788575004</td>\n",
       "      <td>23</td>\n",
       "      <td>0.041971</td>\n",
       "    </tr>\n",
       "  </tbody>\n",
       "</table>\n",
       "<p>240 rows × 4 columns</p>\n",
       "</div>"
      ],
      "text/plain": [
       "     week  article_id  bestseller_rank     price\n",
       "0      96   760084003                1  0.025094\n",
       "1      96   866731001                2  0.024919\n",
       "2      96   600886001                3  0.022980\n",
       "3      96   706016001                4  0.033197\n",
       "4      96   372860002                5  0.013193\n",
       "..    ...         ...              ...       ...\n",
       "235   105   935541001               20  0.024353\n",
       "236   105   934835001               20  0.024789\n",
       "237   105   894780001               21  0.033416\n",
       "238   105   673677002               22  0.024958\n",
       "239   105   788575004               23  0.041971\n",
       "\n",
       "[240 rows x 4 columns]"
      ]
     },
     "execution_count": 11,
     "metadata": {},
     "output_type": "execute_result"
    }
   ],
   "source": [
    "bestsellers_previous_week2"
   ]
  },
  {
   "cell_type": "code",
   "execution_count": 12,
   "id": "5bef1aeb",
   "metadata": {
    "execution": {
     "iopub.execute_input": "2023-12-22T00:33:41.808297Z",
     "iopub.status.busy": "2023-12-22T00:33:41.807853Z",
     "iopub.status.idle": "2023-12-22T00:33:41.815775Z",
     "shell.execute_reply": "2023-12-22T00:33:41.814788Z"
    },
    "id": "7e862846",
    "papermill": {
     "duration": 0.022706,
     "end_time": "2023-12-22T00:33:41.818076",
     "exception": false,
     "start_time": "2023-12-22T00:33:41.795370",
     "status": "completed"
    },
    "tags": []
   },
   "outputs": [
    {
     "name": "stdout",
     "output_type": "stream",
     "text": [
      "CPU times: user 2 µs, sys: 2 µs, total: 4 µs\n",
      "Wall time: 8.82 µs\n"
     ]
    }
   ],
   "source": [
    "%time\n",
    "\n",
    "bestsellers_last_week = \\\n",
    "    bestsellers_previous_week2[bestsellers_previous_week2.week == bestsellers_previous_week2.week.max()]['article_id'].tolist()"
   ]
  },
  {
   "cell_type": "markdown",
   "id": "1fdbe654",
   "metadata": {
    "id": "de045e98",
    "papermill": {
     "duration": 0.009765,
     "end_time": "2023-12-22T00:33:41.837764",
     "exception": false,
     "start_time": "2023-12-22T00:33:41.827999",
     "status": "completed"
    },
    "tags": []
   },
   "source": [
    "# Create submission"
   ]
  },
  {
   "cell_type": "code",
   "execution_count": 13,
   "id": "7d2547d6",
   "metadata": {
    "execution": {
     "iopub.execute_input": "2023-12-22T00:33:41.861033Z",
     "iopub.status.busy": "2023-12-22T00:33:41.860457Z",
     "iopub.status.idle": "2023-12-22T00:33:47.078048Z",
     "shell.execute_reply": "2023-12-22T00:33:47.076817Z"
    },
    "id": "43e4fda7",
    "papermill": {
     "duration": 5.23332,
     "end_time": "2023-12-22T00:33:47.081060",
     "exception": false,
     "start_time": "2023-12-22T00:33:41.847740",
     "status": "completed"
    },
    "tags": []
   },
   "outputs": [],
   "source": [
    "sub = pd.read_csv('/kaggle/input/h-and-m-personalized-fashion-recommendations/sample_submission.csv')"
   ]
  },
  {
   "cell_type": "markdown",
   "id": "b060628a",
   "metadata": {
    "papermill": {
     "duration": 0.009843,
     "end_time": "2023-12-22T00:33:47.101734",
     "exception": false,
     "start_time": "2023-12-22T00:33:47.091891",
     "status": "completed"
    },
    "tags": []
   },
   "source": [
    "# combine bestseller and repurchase"
   ]
  },
  {
   "cell_type": "code",
   "execution_count": 14,
   "id": "b28ef950",
   "metadata": {
    "execution": {
     "iopub.execute_input": "2023-12-22T00:33:47.123918Z",
     "iopub.status.busy": "2023-12-22T00:33:47.123507Z",
     "iopub.status.idle": "2023-12-22T00:33:47.364944Z",
     "shell.execute_reply": "2023-12-22T00:33:47.363660Z"
    },
    "papermill": {
     "duration": 0.256142,
     "end_time": "2023-12-22T00:33:47.367935",
     "exception": false,
     "start_time": "2023-12-22T00:33:47.111793",
     "status": "completed"
    },
    "tags": []
   },
   "outputs": [],
   "source": [
    "latest_bought_articles = []\n",
    "for i in range(len(sub)):\n",
    "    latest_bought_articles.append(bestsellers_last_week)\n",
    "\n",
    "            "
   ]
  },
  {
   "cell_type": "code",
   "execution_count": 15,
   "id": "cef3cddf",
   "metadata": {
    "execution": {
     "iopub.execute_input": "2023-12-22T00:33:47.390278Z",
     "iopub.status.busy": "2023-12-22T00:33:47.389798Z",
     "iopub.status.idle": "2023-12-22T00:33:47.396850Z",
     "shell.execute_reply": "2023-12-22T00:33:47.395527Z"
    },
    "papermill": {
     "duration": 0.021213,
     "end_time": "2023-12-22T00:33:47.399330",
     "exception": false,
     "start_time": "2023-12-22T00:33:47.378117",
     "status": "completed"
    },
    "tags": []
   },
   "outputs": [
    {
     "name": "stdout",
     "output_type": "stream",
     "text": [
      "[[924243001, 924243002, 918522001, 923758001, 866731001, 909370001, 751471001, 915529003, 915529005, 448509014, 762846027, 714790020, 918292001, 865799006, 850917001, 929275001, 896169005, 919273002, 889550002, 935541001, 934835001, 894780001, 673677002, 788575004], [924243001, 924243002, 918522001, 923758001, 866731001, 909370001, 751471001, 915529003, 915529005, 448509014, 762846027, 714790020, 918292001, 865799006, 850917001, 929275001, 896169005, 919273002, 889550002, 935541001, 934835001, 894780001, 673677002, 788575004], [924243001, 924243002, 918522001, 923758001, 866731001, 909370001, 751471001, 915529003, 915529005, 448509014, 762846027, 714790020, 918292001, 865799006, 850917001, 929275001, 896169005, 919273002, 889550002, 935541001, 934835001, 894780001, 673677002, 788575004]]\n"
     ]
    }
   ],
   "source": [
    "print(latest_bought_articles[:3])"
   ]
  },
  {
   "cell_type": "code",
   "execution_count": 16,
   "id": "249d1c94",
   "metadata": {
    "execution": {
     "iopub.execute_input": "2023-12-22T00:33:47.421669Z",
     "iopub.status.busy": "2023-12-22T00:33:47.421229Z",
     "iopub.status.idle": "2023-12-22T00:33:59.366228Z",
     "shell.execute_reply": "2023-12-22T00:33:59.365141Z"
    },
    "id": "3f8f9304",
    "papermill": {
     "duration": 11.959629,
     "end_time": "2023-12-22T00:33:59.369175",
     "exception": false,
     "start_time": "2023-12-22T00:33:47.409546",
     "status": "completed"
    },
    "tags": []
   },
   "outputs": [],
   "source": [
    "preds = [' '.join(['0' + str(p) for p in ps]) for ps in latest_bought_articles]\n",
    "sub.prediction = preds"
   ]
  },
  {
   "cell_type": "code",
   "execution_count": 17,
   "id": "314ae524",
   "metadata": {
    "execution": {
     "iopub.execute_input": "2023-12-22T00:33:59.392196Z",
     "iopub.status.busy": "2023-12-22T00:33:59.391571Z",
     "iopub.status.idle": "2023-12-22T00:34:33.864336Z",
     "shell.execute_reply": "2023-12-22T00:34:33.863090Z"
    },
    "id": "62d8338d",
    "papermill": {
     "duration": 34.487743,
     "end_time": "2023-12-22T00:34:33.867228",
     "exception": false,
     "start_time": "2023-12-22T00:33:59.379485",
     "status": "completed"
    },
    "tags": []
   },
   "outputs": [],
   "source": [
    "sub_name = 'bestseller_submission'\n",
    "sub.to_csv(f'{sub_name}.csv.gz', index=False)"
   ]
  }
 ],
 "metadata": {
  "kaggle": {
   "accelerator": "none",
   "dataSources": [
    {
     "databundleVersionId": 3103714,
     "sourceId": 31254,
     "sourceType": "competition"
    },
    {
     "sourceId": 149573710,
     "sourceType": "kernelVersion"
    },
    {
     "sourceId": 149747734,
     "sourceType": "kernelVersion"
    },
    {
     "sourceId": 151594135,
     "sourceType": "kernelVersion"
    }
   ],
   "dockerImageVersionId": 30558,
   "isGpuEnabled": false,
   "isInternetEnabled": true,
   "language": "python",
   "sourceType": "notebook"
  },
  "kernelspec": {
   "display_name": "Python 3",
   "language": "python",
   "name": "python3"
  },
  "language_info": {
   "codemirror_mode": {
    "name": "ipython",
    "version": 3
   },
   "file_extension": ".py",
   "mimetype": "text/x-python",
   "name": "python",
   "nbconvert_exporter": "python",
   "pygments_lexer": "ipython3",
   "version": "3.10.12"
  },
  "papermill": {
   "default_parameters": {},
   "duration": 66.177277,
   "end_time": "2023-12-22T00:34:34.699815",
   "environment_variables": {},
   "exception": null,
   "input_path": "__notebook__.ipynb",
   "output_path": "__notebook__.ipynb",
   "parameters": {},
   "start_time": "2023-12-22T00:33:28.522538",
   "version": "2.4.0"
  }
 },
 "nbformat": 4,
 "nbformat_minor": 5
}
