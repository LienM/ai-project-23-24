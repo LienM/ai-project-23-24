{
 "cells": [
  {
   "cell_type": "markdown",
   "id": "e43bfff3",
   "metadata": {
    "papermill": {
     "duration": 0.005468,
     "end_time": "2023-12-22T00:54:23.067796",
     "exception": false,
     "start_time": "2023-12-22T00:54:23.062328",
     "status": "completed"
    },
    "tags": []
   },
   "source": [
    "# Read input files"
   ]
  },
  {
   "cell_type": "code",
   "execution_count": 1,
   "id": "6d651b95",
   "metadata": {
    "execution": {
     "iopub.execute_input": "2023-12-22T00:54:23.083900Z",
     "iopub.status.busy": "2023-12-22T00:54:23.083360Z",
     "iopub.status.idle": "2023-12-22T00:54:30.135056Z",
     "shell.execute_reply": "2023-12-22T00:54:30.133748Z"
    },
    "papermill": {
     "duration": 7.061868,
     "end_time": "2023-12-22T00:54:30.138109",
     "exception": false,
     "start_time": "2023-12-22T00:54:23.076241",
     "status": "completed"
    },
    "tags": []
   },
   "outputs": [
    {
     "name": "stdout",
     "output_type": "stream",
     "text": [
      "CPU times: user 3.93 s, sys: 4.48 s, total: 8.41 s\n",
      "Wall time: 7.03 s\n"
     ]
    }
   ],
   "source": [
    "%%time\n",
    "import pandas as pd\n",
    "pad = \"/kaggle/input/makeparquet\"\n",
    "transactions = pd.read_parquet(pad+'/transactions_train.parquet')\n",
    "customers = pd.read_parquet(pad+'/customers.parquet')\n",
    "articles = pd.read_parquet(pad+'/articles.parquet')"
   ]
  },
  {
   "cell_type": "code",
   "execution_count": 2,
   "id": "ccc8f004",
   "metadata": {
    "execution": {
     "iopub.execute_input": "2023-12-22T00:54:30.151047Z",
     "iopub.status.busy": "2023-12-22T00:54:30.150458Z",
     "iopub.status.idle": "2023-12-22T00:54:31.405491Z",
     "shell.execute_reply": "2023-12-22T00:54:31.404333Z"
    },
    "papermill": {
     "duration": 1.265588,
     "end_time": "2023-12-22T00:54:31.409149",
     "exception": false,
     "start_time": "2023-12-22T00:54:30.143561",
     "status": "completed"
    },
    "tags": []
   },
   "outputs": [],
   "source": [
    "from sklearn.base import BaseEstimator, TransformerMixin\n",
    "import numpy as np\n",
    "\n",
    "# https://www.kaggle.com/c/h-and-m-personalized-fashion-recommendations/discussion/308635\n",
    "def customer_hex_id_to_int(series):\n",
    "    return series.str[-16:].apply(hex_id_to_int)\n",
    "\n",
    "def hex_id_to_int(str):\n",
    "    return int(str[-16:], 16)\n",
    "\n",
    "def article_id_str_to_int(series):\n",
    "    return series.astype('int32')\n",
    "\n",
    "def article_id_int_to_str(series):\n",
    "    return '0' + series.astype('str')\n",
    "\n",
    "class Categorize(BaseEstimator, TransformerMixin):\n",
    "    def __init__(self, min_examples=0):\n",
    "        self.min_examples = min_examples\n",
    "        self.categories = []\n",
    "\n",
    "    def fit(self, X):\n",
    "        for i in range(X.shape[1]):\n",
    "            vc = X.iloc[:, i].value_counts()\n",
    "            self.categories.append(vc[vc > self.min_examples].index.tolist())\n",
    "        return self\n",
    "\n",
    "    def transform(self, X):\n",
    "        data = {X.columns[i]: pd.Categorical(X.iloc[:, i], categories=self.categories[i]).codes for i in range(X.shape[1])}\n",
    "        return pd.DataFrame(data=data)\n",
    "\n",
    "\n",
    "def calculate_apk(list_of_preds, list_of_gts):\n",
    "    # for fast validation this can be changed to operate on dicts of {'cust_id_int': [art_id_int, ...]}\n",
    "    # using 'data/val_week_purchases_by_cust.pkl'\n",
    "    apks = []\n",
    "    for preds, gt in zip(list_of_preds, list_of_gts):\n",
    "        apks.append(apk(gt, preds, k=12))\n",
    "    return np.mean(apks)\n",
    "\n",
    "def eval_sub(sub_csv, skip_cust_with_no_purchases=True):\n",
    "    sub=pd.read_csv(sub_csv)\n",
    "    validation_set=pd.read_parquet('data/validation_ground_truth.parquet')\n",
    "\n",
    "    apks = []\n",
    "\n",
    "    no_purchases_pattern = []\n",
    "    for pred, gt in zip(sub.prediction.str.split(), validation_set.prediction.str.split()):\n",
    "        if skip_cust_with_no_purchases and (gt == no_purchases_pattern): continue\n",
    "        apks.append(apk(gt, pred, k=12))\n",
    "    return np.mean(apks)"
   ]
  },
  {
   "cell_type": "markdown",
   "id": "ed9dcfd3",
   "metadata": {
    "papermill": {
     "duration": 0.005595,
     "end_time": "2023-12-22T00:54:31.421028",
     "exception": false,
     "start_time": "2023-12-22T00:54:31.415433",
     "status": "completed"
    },
    "tags": []
   },
   "source": [
    "# prune datasets"
   ]
  },
  {
   "cell_type": "code",
   "execution_count": 3,
   "id": "badc171f",
   "metadata": {
    "execution": {
     "iopub.execute_input": "2023-12-22T00:54:31.434322Z",
     "iopub.status.busy": "2023-12-22T00:54:31.433838Z",
     "iopub.status.idle": "2023-12-22T00:54:43.046418Z",
     "shell.execute_reply": "2023-12-22T00:54:43.045301Z"
    },
    "papermill": {
     "duration": 11.622811,
     "end_time": "2023-12-22T00:54:43.049344",
     "exception": false,
     "start_time": "2023-12-22T00:54:31.426533",
     "status": "completed"
    },
    "tags": []
   },
   "outputs": [],
   "source": [
    "# Step 1: Merge transactions with selected columns from customers\n",
    "selected_columns = ['customer_id', 'buys_kid_baby_clothes', 'buys_mens_clothes', 'buys_womens_clothing']\n",
    "merged_data = pd.merge(transactions, customers[selected_columns], on='customer_id', how='inner')\n",
    "\n",
    "# Step 1: Filter transactions for the last week\n",
    "last_week_transactions = merged_data[merged_data['week'] >= merged_data['week'].max()]\n",
    "last_10week_transactions = merged_data[merged_data['week'] >= merged_data['week'].max()-9]"
   ]
  },
  {
   "cell_type": "markdown",
   "id": "afe2ce82",
   "metadata": {
    "papermill": {
     "duration": 0.005097,
     "end_time": "2023-12-22T00:54:43.059862",
     "exception": false,
     "start_time": "2023-12-22T00:54:43.054765",
     "status": "completed"
    },
    "tags": []
   },
   "source": [
    "# Make Conditions"
   ]
  },
  {
   "cell_type": "code",
   "execution_count": 4,
   "id": "a5c4ca87",
   "metadata": {
    "execution": {
     "iopub.execute_input": "2023-12-22T00:54:43.072336Z",
     "iopub.status.busy": "2023-12-22T00:54:43.071852Z",
     "iopub.status.idle": "2023-12-22T00:54:43.110637Z",
     "shell.execute_reply": "2023-12-22T00:54:43.109410Z"
    },
    "papermill": {
     "duration": 0.048377,
     "end_time": "2023-12-22T00:54:43.113554",
     "exception": false,
     "start_time": "2023-12-22T00:54:43.065177",
     "status": "completed"
    },
    "tags": []
   },
   "outputs": [],
   "source": [
    "import pandas as pd\n",
    "\n",
    "# Condition 1: buys_kid_baby_clothes=1\n",
    "condition_1 = last_week_transactions[last_week_transactions['buys_kid_baby_clothes'] == 1]\n",
    "\n",
    "# Condition 2: buys_kid_baby_clothes=0 and buys_mens_clothes=0 and buys_womens_clothing=1\n",
    "condition_2 = last_week_transactions[\n",
    "    (last_week_transactions['buys_kid_baby_clothes'] == 0) &\n",
    "    (last_week_transactions['buys_mens_clothes'] == 0) &\n",
    "    (last_week_transactions['buys_womens_clothing'] == 1)\n",
    "]\n",
    "\n",
    "# Condition 3: buys_kid_baby_clothes=0 and buys_mens_clothes=1 and buys_womens_clothing=0\n",
    "condition_3 = last_week_transactions[\n",
    "    (last_week_transactions['buys_kid_baby_clothes'] == 0) &\n",
    "    (last_week_transactions['buys_mens_clothes'] == 1) &\n",
    "    (last_week_transactions['buys_womens_clothing'] == 0)\n",
    "]\n",
    "\n",
    "# Condition 4: The rest of the transactions\n",
    "condition_4 = last_week_transactions[\n",
    "    ~((last_week_transactions['buys_kid_baby_clothes'] == 1) |\n",
    "      ((last_week_transactions['buys_kid_baby_clothes'] == 0) &\n",
    "       (last_week_transactions['buys_mens_clothes'] == 0) &\n",
    "       (last_week_transactions['buys_womens_clothing'] == 1)) |\n",
    "      ((last_week_transactions['buys_kid_baby_clothes'] == 0) &\n",
    "       (last_week_transactions['buys_mens_clothes'] == 1) &\n",
    "       (last_week_transactions['buys_womens_clothing'] == 0)))\n",
    "]\n"
   ]
  },
  {
   "cell_type": "markdown",
   "id": "adfb7fc6",
   "metadata": {
    "papermill": {
     "duration": 0.005671,
     "end_time": "2023-12-22T00:54:43.124975",
     "exception": false,
     "start_time": "2023-12-22T00:54:43.119304",
     "status": "completed"
    },
    "tags": []
   },
   "source": [
    "# General popularity"
   ]
  },
  {
   "cell_type": "code",
   "execution_count": 5,
   "id": "241b97a1",
   "metadata": {
    "execution": {
     "iopub.execute_input": "2023-12-22T00:54:43.137956Z",
     "iopub.status.busy": "2023-12-22T00:54:43.137445Z",
     "iopub.status.idle": "2023-12-22T00:54:43.199005Z",
     "shell.execute_reply": "2023-12-22T00:54:43.197428Z"
    },
    "papermill": {
     "duration": 0.071519,
     "end_time": "2023-12-22T00:54:43.201891",
     "exception": false,
     "start_time": "2023-12-22T00:54:43.130372",
     "status": "completed"
    },
    "tags": []
   },
   "outputs": [
    {
     "name": "stdout",
     "output_type": "stream",
     "text": [
      "[924243001, 918522001, 924243002, 923758001, 866731001, 915529003, 909370001, 915529005, 751471001, 918292001, 762846027, 448509014]\n"
     ]
    }
   ],
   "source": [
    "import pandas as pd\n",
    "# Step 1: Group transactions by 'article_id' and count unique 'customer_id'\n",
    "article_customer_countold = last_week_transactions.groupby('article_id')['customer_id'].nunique().reset_index(name='customer_count')\n",
    "\n",
    "# Step 2: Sort articles based on customer count in descending order\n",
    "sorted_articlesold = article_customer_countold.sort_values(by='customer_count', ascending=False)\n",
    "\n",
    "# Step 3: Take the top 12 articles\n",
    "top_12_articlesold = sorted_articlesold.head(12)\n",
    "top_12_articlesold= (top_12_articlesold.article_id.to_list())\n",
    "# Display the result\n",
    "print(top_12_articlesold)"
   ]
  },
  {
   "cell_type": "markdown",
   "id": "26e1b165",
   "metadata": {
    "papermill": {
     "duration": 0.005133,
     "end_time": "2023-12-22T00:54:43.212666",
     "exception": false,
     "start_time": "2023-12-22T00:54:43.207533",
     "status": "completed"
    },
    "tags": []
   },
   "source": [
    "# Baby popularity"
   ]
  },
  {
   "cell_type": "code",
   "execution_count": 6,
   "id": "220460b8",
   "metadata": {
    "execution": {
     "iopub.execute_input": "2023-12-22T00:54:43.226610Z",
     "iopub.status.busy": "2023-12-22T00:54:43.225318Z",
     "iopub.status.idle": "2023-12-22T00:54:43.251388Z",
     "shell.execute_reply": "2023-12-22T00:54:43.249935Z"
    },
    "papermill": {
     "duration": 0.035569,
     "end_time": "2023-12-22T00:54:43.254030",
     "exception": false,
     "start_time": "2023-12-22T00:54:43.218461",
     "status": "completed"
    },
    "tags": []
   },
   "outputs": [
    {
     "name": "stdout",
     "output_type": "stream",
     "text": [
      "[924243001, 909370001, 924243002, 923758001, 915529003, 889550002, 935541001, 915529005, 918522001, 919273002, 928206001, 865799006]\n"
     ]
    }
   ],
   "source": [
    "import pandas as pd\n",
    "\n",
    "\n",
    "# Step 1: Group transactions by 'article_id' and count unique 'customer_id'\n",
    "article_customer_count1 = condition_1.groupby('article_id')['customer_id'].nunique().reset_index(name='customer_count')\n",
    "\n",
    "# Step 2: Sort articles based on customer count in descending order\n",
    "sorted_articles1 = article_customer_count1.sort_values(by='customer_count', ascending=False)\n",
    "\n",
    "# Step 3: Take the top 12 articles\n",
    "top_12_articles1 = sorted_articles1.head(12)\n",
    "top_12_articles1= (top_12_articles1.article_id.to_list())\n",
    "# Display the result\n",
    "print(top_12_articles1)"
   ]
  },
  {
   "cell_type": "markdown",
   "id": "2858ee6f",
   "metadata": {
    "papermill": {
     "duration": 0.005339,
     "end_time": "2023-12-22T00:54:43.265722",
     "exception": false,
     "start_time": "2023-12-22T00:54:43.260383",
     "status": "completed"
    },
    "tags": []
   },
   "source": [
    "# Man popularity"
   ]
  },
  {
   "cell_type": "code",
   "execution_count": 7,
   "id": "f016b871",
   "metadata": {
    "execution": {
     "iopub.execute_input": "2023-12-22T00:54:43.279955Z",
     "iopub.status.busy": "2023-12-22T00:54:43.279121Z",
     "iopub.status.idle": "2023-12-22T00:54:43.291449Z",
     "shell.execute_reply": "2023-12-22T00:54:43.289910Z"
    },
    "papermill": {
     "duration": 0.024018,
     "end_time": "2023-12-22T00:54:43.295235",
     "exception": false,
     "start_time": "2023-12-22T00:54:43.271217",
     "status": "completed"
    },
    "tags": []
   },
   "outputs": [
    {
     "name": "stdout",
     "output_type": "stream",
     "text": [
      "[866731001, 918292001, 852584001, 791587001, 918292004, 730683050, 714790020, 804992014, 856270002, 868823008, 804992017, 809961002]\n"
     ]
    }
   ],
   "source": [
    "import pandas as pd\n",
    "\n",
    "\n",
    "# Step 1: Group transactions by 'article_id' and count unique 'customer_id'\n",
    "article_customer_count2 = condition_2.groupby('article_id')['customer_id'].nunique().reset_index(name='customer_count')\n",
    "\n",
    "# Step 2: Sort articles based on customer count in descending order\n",
    "sorted_articles2 = article_customer_count2.sort_values(by='customer_count', ascending=False)\n",
    "\n",
    "# Step 3: Take the top 12 articles\n",
    "top_12_articles2 = sorted_articles2.head(12)\n",
    "top_12_articles2= (top_12_articles2.article_id.to_list())\n",
    "\n",
    "# Display the result\n",
    "print(top_12_articles2)"
   ]
  },
  {
   "cell_type": "markdown",
   "id": "1d2f04b1",
   "metadata": {
    "papermill": {
     "duration": 0.00553,
     "end_time": "2023-12-22T00:54:43.306969",
     "exception": false,
     "start_time": "2023-12-22T00:54:43.301439",
     "status": "completed"
    },
    "tags": []
   },
   "source": [
    "# Woman popularity"
   ]
  },
  {
   "cell_type": "code",
   "execution_count": 8,
   "id": "7b3537d3",
   "metadata": {
    "execution": {
     "iopub.execute_input": "2023-12-22T00:54:43.322309Z",
     "iopub.status.busy": "2023-12-22T00:54:43.321436Z",
     "iopub.status.idle": "2023-12-22T00:54:43.332044Z",
     "shell.execute_reply": "2023-12-22T00:54:43.331042Z"
    },
    "papermill": {
     "duration": 0.021705,
     "end_time": "2023-12-22T00:54:43.334720",
     "exception": false,
     "start_time": "2023-12-22T00:54:43.313015",
     "status": "completed"
    },
    "tags": []
   },
   "outputs": [
    {
     "name": "stdout",
     "output_type": "stream",
     "text": [
      "[685814001, 685814063, 685814003, 685813003, 720504010, 685813001, 685814022, 685813037, 685814033, 864562001, 720504008, 763988004]\n"
     ]
    }
   ],
   "source": [
    "import pandas as pd\n",
    "\n",
    "\n",
    "# Step 1: Group transactions by 'article_id' and count unique 'customer_id'\n",
    "article_customer_count3 = condition_3.groupby('article_id')['customer_id'].nunique().reset_index(name='customer_count')\n",
    "\n",
    "# Step 2: Sort articles based on customer count in descending order\n",
    "sorted_articles3 = article_customer_count3.sort_values(by='customer_count', ascending=False)\n",
    "\n",
    "# Step 3: Take the top 12 articles\n",
    "top_12_articles3 = sorted_articles3.head(12)\n",
    "top_12_articles3= (top_12_articles3.article_id.to_list())\n",
    "\n",
    "# Display the result\n",
    "print(top_12_articles3)"
   ]
  },
  {
   "cell_type": "markdown",
   "id": "948efcb3",
   "metadata": {
    "papermill": {
     "duration": 0.005836,
     "end_time": "2023-12-22T00:54:43.346969",
     "exception": false,
     "start_time": "2023-12-22T00:54:43.341133",
     "status": "completed"
    },
    "tags": []
   },
   "source": [
    "# Make submission"
   ]
  },
  {
   "cell_type": "code",
   "execution_count": 9,
   "id": "db689699",
   "metadata": {
    "execution": {
     "iopub.execute_input": "2023-12-22T00:54:43.360577Z",
     "iopub.status.busy": "2023-12-22T00:54:43.359843Z",
     "iopub.status.idle": "2023-12-22T00:54:48.720340Z",
     "shell.execute_reply": "2023-12-22T00:54:48.718823Z"
    },
    "papermill": {
     "duration": 5.370789,
     "end_time": "2023-12-22T00:54:48.723386",
     "exception": false,
     "start_time": "2023-12-22T00:54:43.352597",
     "status": "completed"
    },
    "tags": []
   },
   "outputs": [],
   "source": [
    "sub = pd.read_csv('/kaggle/input/h-and-m-personalized-fashion-recommendations/sample_submission.csv')"
   ]
  },
  {
   "cell_type": "code",
   "execution_count": 10,
   "id": "647bb58a",
   "metadata": {
    "execution": {
     "iopub.execute_input": "2023-12-22T00:54:48.740086Z",
     "iopub.status.busy": "2023-12-22T00:54:48.739390Z",
     "iopub.status.idle": "2023-12-22T00:58:15.001234Z",
     "shell.execute_reply": "2023-12-22T00:58:14.999828Z"
    },
    "papermill": {
     "duration": 206.27607,
     "end_time": "2023-12-22T00:58:15.005792",
     "exception": false,
     "start_time": "2023-12-22T00:54:48.729722",
     "status": "completed"
    },
    "tags": []
   },
   "outputs": [
    {
     "name": "stderr",
     "output_type": "stream",
     "text": [
      "100%|██████████| 1371980/1371980 [03:24<00:00, 6702.42it/s]"
     ]
    },
    {
     "name": "stdout",
     "output_type": "stream",
     "text": [
      "CPU times: user 3min 25s, sys: 879 ms, total: 3min 25s\n",
      "Wall time: 3min 26s\n"
     ]
    },
    {
     "name": "stderr",
     "output_type": "stream",
     "text": [
      "\n"
     ]
    }
   ],
   "source": [
    "%%time\n",
    "from tqdm import tqdm\n",
    "latest_bought_articles = []\n",
    "for c_id in tqdm(customer_hex_id_to_int(sub.customer_id)):\n",
    "    # Check in which condition the target_customer_id falls\n",
    "    if c_id in condition_1['customer_id'].values:\n",
    "        latest_bought_articles.append(top_12_articles1)\n",
    "    elif c_id in condition_2['customer_id'].values:\n",
    "        latest_bought_articles.append(top_12_articles2)\n",
    "    elif c_id in condition_3['customer_id'].values:\n",
    "        latest_bought_articles.append(top_12_articles3)\n",
    "    elif c_id in condition_4['customer_id'].values:\n",
    "        latest_bought_articles.append(top_12_articlesold)\n",
    "    else:\n",
    "        latest_bought_articles.append(top_12_articlesold)\n",
    "\n",
    "\n"
   ]
  },
  {
   "cell_type": "code",
   "execution_count": 11,
   "id": "8ac0c20f",
   "metadata": {
    "execution": {
     "iopub.execute_input": "2023-12-22T00:58:15.288087Z",
     "iopub.status.busy": "2023-12-22T00:58:15.287642Z",
     "iopub.status.idle": "2023-12-22T00:58:20.531943Z",
     "shell.execute_reply": "2023-12-22T00:58:20.530383Z"
    },
    "papermill": {
     "duration": 5.390621,
     "end_time": "2023-12-22T00:58:20.535765",
     "exception": false,
     "start_time": "2023-12-22T00:58:15.145144",
     "status": "completed"
    },
    "tags": []
   },
   "outputs": [],
   "source": [
    "preds = [' '.join(['0' + str(p) for p in ps]) for ps in latest_bought_articles]\n",
    "sub.prediction = preds"
   ]
  },
  {
   "cell_type": "code",
   "execution_count": 12,
   "id": "71368cff",
   "metadata": {
    "execution": {
     "iopub.execute_input": "2023-12-22T00:58:20.832739Z",
     "iopub.status.busy": "2023-12-22T00:58:20.832030Z",
     "iopub.status.idle": "2023-12-22T00:58:39.100823Z",
     "shell.execute_reply": "2023-12-22T00:58:39.099236Z"
    },
    "papermill": {
     "duration": 18.420582,
     "end_time": "2023-12-22T00:58:39.103802",
     "exception": false,
     "start_time": "2023-12-22T00:58:20.683220",
     "status": "completed"
    },
    "tags": []
   },
   "outputs": [],
   "source": [
    "sub_name = 'Popularity_ManWomanBaby'\n",
    "sub.to_csv(f'{sub_name}.csv.gz', index=False)"
   ]
  }
 ],
 "metadata": {
  "kaggle": {
   "accelerator": "none",
   "dataSources": [
    {
     "databundleVersionId": 3103714,
     "sourceId": 31254,
     "sourceType": "competition"
    },
    {
     "sourceId": 149573710,
     "sourceType": "kernelVersion"
    }
   ],
   "dockerImageVersionId": 30587,
   "isGpuEnabled": false,
   "isInternetEnabled": true,
   "language": "python",
   "sourceType": "notebook"
  },
  "kernelspec": {
   "display_name": "Python 3",
   "language": "python",
   "name": "python3"
  },
  "language_info": {
   "codemirror_mode": {
    "name": "ipython",
    "version": 3
   },
   "file_extension": ".py",
   "mimetype": "text/x-python",
   "name": "python",
   "nbconvert_exporter": "python",
   "pygments_lexer": "ipython3",
   "version": "3.10.12"
  },
  "papermill": {
   "default_parameters": {},
   "duration": 260.952383,
   "end_time": "2023-12-22T00:58:40.276410",
   "environment_variables": {},
   "exception": null,
   "input_path": "__notebook__.ipynb",
   "output_path": "__notebook__.ipynb",
   "parameters": {},
   "start_time": "2023-12-22T00:54:19.324027",
   "version": "2.4.0"
  }
 },
 "nbformat": 4,
 "nbformat_minor": 5
}
