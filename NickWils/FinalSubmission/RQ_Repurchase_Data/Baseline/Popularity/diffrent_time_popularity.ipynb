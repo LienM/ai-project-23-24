{
 "cells": [
  {
   "cell_type": "markdown",
   "id": "f9821c7f",
   "metadata": {
    "papermill": {
     "duration": 0.005382,
     "end_time": "2023-12-22T00:17:48.344284",
     "exception": false,
     "start_time": "2023-12-22T00:17:48.338902",
     "status": "completed"
    },
    "tags": []
   },
   "source": [
    "# Experiment with different time cut-offs"
   ]
  },
  {
   "cell_type": "markdown",
   "id": "edd336b0",
   "metadata": {
    "papermill": {
     "duration": 0.004463,
     "end_time": "2023-12-22T00:17:48.353589",
     "exception": false,
     "start_time": "2023-12-22T00:17:48.349126",
     "status": "completed"
    },
    "tags": []
   },
   "source": [
    "# Helper functions from Radek's LGBMRanker starter-pack"
   ]
  },
  {
   "cell_type": "code",
   "execution_count": 1,
   "id": "8a9bffa4",
   "metadata": {
    "execution": {
     "iopub.execute_input": "2023-12-22T00:17:48.365079Z",
     "iopub.status.busy": "2023-12-22T00:17:48.364395Z",
     "iopub.status.idle": "2023-12-22T00:17:48.376141Z",
     "shell.execute_reply": "2023-12-22T00:17:48.375472Z"
    },
    "papermill": {
     "duration": 0.019968,
     "end_time": "2023-12-22T00:17:48.378253",
     "exception": false,
     "start_time": "2023-12-22T00:17:48.358285",
     "status": "completed"
    },
    "tags": []
   },
   "outputs": [],
   "source": [
    "import numpy as np\n",
    "\n",
    "def apk(actual, predicted, k=10):\n",
    "    \"\"\"\n",
    "    Computes the average precision at k.\n",
    "\n",
    "    This function computes the average prescision at k between two lists of\n",
    "    items.\n",
    "\n",
    "    Parameters\n",
    "    ----------\n",
    "    actual : list\n",
    "             A list of elements that are to be predicted (order doesn't matter)\n",
    "    predicted : list\n",
    "                A list of predicted elements (order does matter)\n",
    "    k : int, optional\n",
    "        The maximum number of predicted elements\n",
    "\n",
    "    Returns\n",
    "    -------\n",
    "    score : double\n",
    "            The average precision at k over the input lists\n",
    "\n",
    "    \"\"\"\n",
    "    if len(predicted)>k:\n",
    "        predicted = predicted[:k]\n",
    "\n",
    "    score = 0.0\n",
    "    num_hits = 0.0\n",
    "\n",
    "    for i,p in enumerate(predicted):\n",
    "        if p in actual and p not in predicted[:i]:\n",
    "            num_hits += 1.0\n",
    "            score += num_hits / (i+1.0)\n",
    "\n",
    "    if not actual:\n",
    "        return 0.0\n",
    "\n",
    "    return score / min(len(actual), k)\n",
    "\n",
    "def mapk(actual, predicted, k=10):\n",
    "    \"\"\"\n",
    "    Computes the mean average precision at k.\n",
    "\n",
    "    This function computes the mean average prescision at k between two lists\n",
    "    of lists of items.\n",
    "\n",
    "    Parameters\n",
    "    ----------\n",
    "    actual : list\n",
    "             A list of lists of elements that are to be predicted\n",
    "             (order doesn't matter in the lists)\n",
    "    predicted : list\n",
    "                A list of lists of predicted elements\n",
    "                (order matters in the lists)\n",
    "    k : int, optional\n",
    "        The maximum number of predicted elements\n",
    "\n",
    "    Returns\n",
    "    -------\n",
    "    score : double\n",
    "            The mean average precision at k over the input lists\n",
    "\n",
    "    \"\"\"\n",
    "    return np.mean([apk(a,p,k) for a,p in zip(actual, predicted)])"
   ]
  },
  {
   "cell_type": "markdown",
   "id": "5302b318",
   "metadata": {
    "papermill": {
     "duration": 0.004489,
     "end_time": "2023-12-22T00:17:48.387650",
     "exception": false,
     "start_time": "2023-12-22T00:17:48.383161",
     "status": "completed"
    },
    "tags": []
   },
   "source": [
    "# Read input data"
   ]
  },
  {
   "cell_type": "code",
   "execution_count": 2,
   "id": "40652018",
   "metadata": {
    "execution": {
     "iopub.execute_input": "2023-12-22T00:17:48.398209Z",
     "iopub.status.busy": "2023-12-22T00:17:48.397847Z",
     "iopub.status.idle": "2023-12-22T00:17:54.585994Z",
     "shell.execute_reply": "2023-12-22T00:17:54.585259Z"
    },
    "papermill": {
     "duration": 6.196035,
     "end_time": "2023-12-22T00:17:54.588197",
     "exception": false,
     "start_time": "2023-12-22T00:17:48.392162",
     "status": "completed"
    },
    "tags": []
   },
   "outputs": [
    {
     "name": "stdout",
     "output_type": "stream",
     "text": [
      "CPU times: user 2.37 s, sys: 2.4 s, total: 4.77 s\n",
      "Wall time: 6.18 s\n"
     ]
    }
   ],
   "source": [
    "%%time\n",
    "import pandas as pd\n",
    "import tqdm as tqdm\n",
    "pad = \"/kaggle/input/makeparquet\"\n",
    "transactions = pd.read_parquet(pad+'/transactions_train.parquet')\n",
    "customers = pd.read_parquet(pad+'/customers.parquet')\n",
    "articles = pd.read_parquet(pad+'/articles.parquet')"
   ]
  },
  {
   "cell_type": "markdown",
   "id": "b7ae2c75",
   "metadata": {
    "papermill": {
     "duration": 0.004686,
     "end_time": "2023-12-22T00:17:54.598224",
     "exception": false,
     "start_time": "2023-12-22T00:17:54.593538",
     "status": "completed"
    },
    "tags": []
   },
   "source": [
    "# Validation last x week information"
   ]
  },
  {
   "cell_type": "code",
   "execution_count": 3,
   "id": "edd3fcd5",
   "metadata": {
    "execution": {
     "iopub.execute_input": "2023-12-22T00:17:54.609701Z",
     "iopub.status.busy": "2023-12-22T00:17:54.609266Z",
     "iopub.status.idle": "2023-12-22T00:17:54.663221Z",
     "shell.execute_reply": "2023-12-22T00:17:54.662182Z"
    },
    "papermill": {
     "duration": 0.062228,
     "end_time": "2023-12-22T00:17:54.665330",
     "exception": false,
     "start_time": "2023-12-22T00:17:54.603102",
     "status": "completed"
    },
    "tags": []
   },
   "outputs": [],
   "source": [
    "val = transactions[transactions['week'] >= transactions['week'].max()]\n"
   ]
  },
  {
   "cell_type": "code",
   "execution_count": 4,
   "id": "fd4069f2",
   "metadata": {
    "execution": {
     "iopub.execute_input": "2023-12-22T00:17:54.676748Z",
     "iopub.status.busy": "2023-12-22T00:17:54.676181Z",
     "iopub.status.idle": "2023-12-22T00:17:56.260507Z",
     "shell.execute_reply": "2023-12-22T00:17:56.259181Z"
    },
    "papermill": {
     "duration": 1.59244,
     "end_time": "2023-12-22T00:17:56.262714",
     "exception": false,
     "start_time": "2023-12-22T00:17:54.670274",
     "status": "completed"
    },
    "tags": []
   },
   "outputs": [],
   "source": [
    "positive_items_val = val.groupby(['customer_id'])['article_id'].apply(list)"
   ]
  },
  {
   "cell_type": "code",
   "execution_count": 5,
   "id": "fd4e6f49",
   "metadata": {
    "execution": {
     "iopub.execute_input": "2023-12-22T00:17:56.274124Z",
     "iopub.status.busy": "2023-12-22T00:17:56.273296Z",
     "iopub.status.idle": "2023-12-22T00:17:56.510459Z",
     "shell.execute_reply": "2023-12-22T00:17:56.508979Z"
    },
    "papermill": {
     "duration": 0.245315,
     "end_time": "2023-12-22T00:17:56.513134",
     "exception": false,
     "start_time": "2023-12-22T00:17:56.267819",
     "status": "completed"
    },
    "tags": []
   },
   "outputs": [
    {
     "name": "stdout",
     "output_type": "stream",
     "text": [
      "Total users in validation: 68984\n"
     ]
    }
   ],
   "source": [
    "# creating validation set for metrics use case\n",
    "val_users = positive_items_val.keys()\n",
    "val_items = []\n",
    "\n",
    "for i,user in (enumerate(val_users)):\n",
    "    val_items.append(positive_items_val[user])\n",
    "    \n",
    "print(\"Total users in validation:\", len(val_users))"
   ]
  },
  {
   "cell_type": "markdown",
   "id": "c51a243a",
   "metadata": {
    "papermill": {
     "duration": 0.005295,
     "end_time": "2023-12-22T00:17:56.524076",
     "exception": false,
     "start_time": "2023-12-22T00:17:56.518781",
     "status": "completed"
    },
    "tags": []
   },
   "source": [
    "Use the last x week to calculate popularity"
   ]
  },
  {
   "cell_type": "code",
   "execution_count": 6,
   "id": "54948713",
   "metadata": {
    "execution": {
     "iopub.execute_input": "2023-12-22T00:17:56.535288Z",
     "iopub.status.busy": "2023-12-22T00:17:56.534952Z",
     "iopub.status.idle": "2023-12-22T00:17:56.540133Z",
     "shell.execute_reply": "2023-12-22T00:17:56.539105Z"
    },
    "papermill": {
     "duration": 0.012925,
     "end_time": "2023-12-22T00:17:56.541985",
     "exception": false,
     "start_time": "2023-12-22T00:17:56.529060",
     "status": "completed"
    },
    "tags": []
   },
   "outputs": [],
   "source": [
    "last_x_weeks = 1\n",
    "last_x_weeks -= 1"
   ]
  },
  {
   "cell_type": "code",
   "execution_count": 7,
   "id": "1b9f0234",
   "metadata": {
    "execution": {
     "iopub.execute_input": "2023-12-22T00:17:56.553568Z",
     "iopub.status.busy": "2023-12-22T00:17:56.553219Z",
     "iopub.status.idle": "2023-12-22T00:17:56.684153Z",
     "shell.execute_reply": "2023-12-22T00:17:56.682602Z"
    },
    "papermill": {
     "duration": 0.139394,
     "end_time": "2023-12-22T00:17:56.686667",
     "exception": false,
     "start_time": "2023-12-22T00:17:56.547273",
     "status": "completed"
    },
    "tags": []
   },
   "outputs": [
    {
     "name": "stdout",
     "output_type": "stream",
     "text": [
      "       article_id  customer_count\n",
      "20744   909370001            1474\n",
      "21887   924243001            1364\n",
      "21513   918522001            1212\n",
      "15285   865799006            1020\n",
      "5999    751471001             905\n",
      "21495   918292001             895\n",
      "21866   923758001             891\n",
      "21305   915529003             872\n",
      "535     448509014             844\n",
      "6706    762846027             837\n",
      "21888   924243002             830\n",
      "3116    673677002             757\n"
     ]
    }
   ],
   "source": [
    "import pandas as pd\n",
    "\n",
    "# Step 1: Filter transactions for the last week\n",
    "last_week_transactions = transactions[transactions['week'] >= transactions['week'].max()-(last_x_weeks+1)]\n",
    "\n",
    "# Step 2: Group transactions by 'article_id' and count unique 'customer_id'\n",
    "article_customer_count = last_week_transactions.groupby('article_id')['customer_id'].nunique().reset_index(name='customer_count')\n",
    "\n",
    "# Step 3: Sort articles based on customer count in descending order\n",
    "sorted_articles = article_customer_count.sort_values(by='customer_count', ascending=False)\n",
    "\n",
    "# Step 4: Take the top 12 articles\n",
    "top_12_articles = sorted_articles.head(12)\n",
    "\n",
    "# Display the result\n",
    "print(top_12_articles)\n"
   ]
  },
  {
   "cell_type": "code",
   "execution_count": 8,
   "id": "d5fb8c53",
   "metadata": {
    "execution": {
     "iopub.execute_input": "2023-12-22T00:17:56.698029Z",
     "iopub.status.busy": "2023-12-22T00:17:56.697729Z",
     "iopub.status.idle": "2023-12-22T00:17:56.703063Z",
     "shell.execute_reply": "2023-12-22T00:17:56.702141Z"
    },
    "papermill": {
     "duration": 0.012761,
     "end_time": "2023-12-22T00:17:56.704670",
     "exception": false,
     "start_time": "2023-12-22T00:17:56.691909",
     "status": "completed"
    },
    "tags": []
   },
   "outputs": [],
   "source": [
    "x = (top_12_articles.article_id.to_list())\n"
   ]
  },
  {
   "cell_type": "code",
   "execution_count": 9,
   "id": "a2c903f7",
   "metadata": {
    "execution": {
     "iopub.execute_input": "2023-12-22T00:17:56.716201Z",
     "iopub.status.busy": "2023-12-22T00:17:56.715913Z",
     "iopub.status.idle": "2023-12-22T00:18:01.822953Z",
     "shell.execute_reply": "2023-12-22T00:18:01.821472Z"
    },
    "papermill": {
     "duration": 5.115742,
     "end_time": "2023-12-22T00:18:01.825781",
     "exception": false,
     "start_time": "2023-12-22T00:17:56.710039",
     "status": "completed"
    },
    "tags": []
   },
   "outputs": [],
   "source": [
    "sub = pd.read_csv('/kaggle/input/h-and-m-personalized-fashion-recommendations/sample_submission.csv')"
   ]
  },
  {
   "cell_type": "code",
   "execution_count": 10,
   "id": "7fbbad06",
   "metadata": {
    "execution": {
     "iopub.execute_input": "2023-12-22T00:18:01.838263Z",
     "iopub.status.busy": "2023-12-22T00:18:01.837941Z",
     "iopub.status.idle": "2023-12-22T00:18:02.009200Z",
     "shell.execute_reply": "2023-12-22T00:18:02.007904Z"
    },
    "papermill": {
     "duration": 0.180372,
     "end_time": "2023-12-22T00:18:02.011517",
     "exception": false,
     "start_time": "2023-12-22T00:18:01.831145",
     "status": "completed"
    },
    "tags": []
   },
   "outputs": [],
   "source": [
    "latest_bought_articles=[]\n",
    "for i in range(len(sub)):\n",
    "    latest_bought_articles.append(x)"
   ]
  },
  {
   "cell_type": "code",
   "execution_count": 11,
   "id": "94f6f2b0",
   "metadata": {
    "execution": {
     "iopub.execute_input": "2023-12-22T00:18:02.023178Z",
     "iopub.status.busy": "2023-12-22T00:18:02.022730Z",
     "iopub.status.idle": "2023-12-22T00:18:02.166085Z",
     "shell.execute_reply": "2023-12-22T00:18:02.165180Z"
    },
    "papermill": {
     "duration": 0.151131,
     "end_time": "2023-12-22T00:18:02.167925",
     "exception": false,
     "start_time": "2023-12-22T00:18:02.016794",
     "status": "completed"
    },
    "tags": []
   },
   "outputs": [
    {
     "name": "stdout",
     "output_type": "stream",
     "text": [
      "mAP Score on Validation set: 0.008877847770291514\n"
     ]
    }
   ],
   "source": [
    "print(\"mAP Score on Validation set:\", mapk(val_items, latest_bought_articles))"
   ]
  },
  {
   "cell_type": "markdown",
   "id": "ab97e5b5",
   "metadata": {
    "papermill": {
     "duration": 0.004827,
     "end_time": "2023-12-22T00:18:02.177845",
     "exception": false,
     "start_time": "2023-12-22T00:18:02.173018",
     "status": "completed"
    },
    "tags": []
   },
   "source": [
    "# get last x week information"
   ]
  },
  {
   "cell_type": "code",
   "execution_count": 12,
   "id": "f64c9b68",
   "metadata": {
    "_cell_guid": "b1076dfc-b9ad-4769-8c92-a6c4dae69d19",
    "_uuid": "8f2839f25d086af736a60e9eeb907d3b93b6e0e5",
    "execution": {
     "iopub.execute_input": "2023-12-22T00:18:02.189386Z",
     "iopub.status.busy": "2023-12-22T00:18:02.188845Z",
     "iopub.status.idle": "2023-12-22T00:18:02.265246Z",
     "shell.execute_reply": "2023-12-22T00:18:02.264385Z"
    },
    "papermill": {
     "duration": 0.084675,
     "end_time": "2023-12-22T00:18:02.267389",
     "exception": false,
     "start_time": "2023-12-22T00:18:02.182714",
     "status": "completed"
    },
    "tags": []
   },
   "outputs": [
    {
     "name": "stdout",
     "output_type": "stream",
     "text": [
      "       article_id  customer_count\n",
      "17308   924243001             763\n",
      "16961   918522001             569\n",
      "17309   924243002             533\n",
      "17287   923758001             513\n",
      "11827   866731001             481\n",
      "16773   915529003             456\n",
      "16264   909370001             444\n",
      "16774   915529005             426\n",
      "4496    751471001             418\n",
      "16944   918292001             402\n",
      "5030    762846027             397\n",
      "430     448509014             388\n"
     ]
    }
   ],
   "source": [
    "import pandas as pd\n",
    "\n",
    "# Step 1: Filter transactions for the last week\n",
    "last_week_transactions = transactions[transactions['week'] >= transactions['week'].max()-last_x_weeks]\n",
    "\n",
    "# Step 2: Group transactions by 'article_id' and count unique 'customer_id'\n",
    "article_customer_count = last_week_transactions.groupby('article_id')['customer_id'].nunique().reset_index(name='customer_count')\n",
    "\n",
    "# Step 3: Sort articles based on customer count in descending order\n",
    "sorted_articles = article_customer_count.sort_values(by='customer_count', ascending=False)\n",
    "\n",
    "# Step 4: Take the top 12 articles\n",
    "top_12_articles = sorted_articles.head(12)\n",
    "\n",
    "# Display the result\n",
    "print(top_12_articles)\n"
   ]
  },
  {
   "cell_type": "code",
   "execution_count": 13,
   "id": "5e72bd05",
   "metadata": {
    "execution": {
     "iopub.execute_input": "2023-12-22T00:18:02.279173Z",
     "iopub.status.busy": "2023-12-22T00:18:02.278896Z",
     "iopub.status.idle": "2023-12-22T00:18:02.282616Z",
     "shell.execute_reply": "2023-12-22T00:18:02.281813Z"
    },
    "papermill": {
     "duration": 0.011534,
     "end_time": "2023-12-22T00:18:02.284285",
     "exception": false,
     "start_time": "2023-12-22T00:18:02.272751",
     "status": "completed"
    },
    "tags": []
   },
   "outputs": [],
   "source": [
    "x = (top_12_articles.article_id.to_list())\n"
   ]
  },
  {
   "cell_type": "markdown",
   "id": "7ce8d555",
   "metadata": {
    "papermill": {
     "duration": 0.004695,
     "end_time": "2023-12-22T00:18:02.294314",
     "exception": false,
     "start_time": "2023-12-22T00:18:02.289619",
     "status": "completed"
    },
    "tags": []
   },
   "source": [
    "# Make submission"
   ]
  },
  {
   "cell_type": "code",
   "execution_count": 14,
   "id": "803dc9f9",
   "metadata": {
    "execution": {
     "iopub.execute_input": "2023-12-22T00:18:02.305171Z",
     "iopub.status.busy": "2023-12-22T00:18:02.304916Z",
     "iopub.status.idle": "2023-12-22T00:18:04.447378Z",
     "shell.execute_reply": "2023-12-22T00:18:04.446415Z"
    },
    "papermill": {
     "duration": 2.150587,
     "end_time": "2023-12-22T00:18:04.449806",
     "exception": false,
     "start_time": "2023-12-22T00:18:02.299219",
     "status": "completed"
    },
    "tags": []
   },
   "outputs": [],
   "source": [
    "sub = pd.read_csv('/kaggle/input/h-and-m-personalized-fashion-recommendations/sample_submission.csv')"
   ]
  },
  {
   "cell_type": "code",
   "execution_count": 15,
   "id": "ce54fe4a",
   "metadata": {
    "execution": {
     "iopub.execute_input": "2023-12-22T00:18:04.461739Z",
     "iopub.status.busy": "2023-12-22T00:18:04.461370Z",
     "iopub.status.idle": "2023-12-22T00:18:04.627919Z",
     "shell.execute_reply": "2023-12-22T00:18:04.626680Z"
    },
    "papermill": {
     "duration": 0.175453,
     "end_time": "2023-12-22T00:18:04.630546",
     "exception": false,
     "start_time": "2023-12-22T00:18:04.455093",
     "status": "completed"
    },
    "tags": []
   },
   "outputs": [],
   "source": [
    "latest_bought_articles=[]\n",
    "for i in range(len(sub)):\n",
    "    latest_bought_articles.append(x)"
   ]
  },
  {
   "cell_type": "code",
   "execution_count": 16,
   "id": "ab3ecd6e",
   "metadata": {
    "execution": {
     "iopub.execute_input": "2023-12-22T00:18:04.643319Z",
     "iopub.status.busy": "2023-12-22T00:18:04.642306Z",
     "iopub.status.idle": "2023-12-22T00:18:08.938660Z",
     "shell.execute_reply": "2023-12-22T00:18:08.937725Z"
    },
    "papermill": {
     "duration": 4.304698,
     "end_time": "2023-12-22T00:18:08.940767",
     "exception": false,
     "start_time": "2023-12-22T00:18:04.636069",
     "status": "completed"
    },
    "tags": []
   },
   "outputs": [],
   "source": [
    "preds = [' '.join(['0' + str(p) for p in ps]) for ps in latest_bought_articles]\n",
    "sub.prediction = preds"
   ]
  },
  {
   "cell_type": "code",
   "execution_count": 17,
   "id": "4d0b6569",
   "metadata": {
    "execution": {
     "iopub.execute_input": "2023-12-22T00:18:08.953221Z",
     "iopub.status.busy": "2023-12-22T00:18:08.952342Z",
     "iopub.status.idle": "2023-12-22T00:18:22.502914Z",
     "shell.execute_reply": "2023-12-22T00:18:22.501921Z"
    },
    "papermill": {
     "duration": 13.559271,
     "end_time": "2023-12-22T00:18:22.505348",
     "exception": false,
     "start_time": "2023-12-22T00:18:08.946077",
     "status": "completed"
    },
    "tags": []
   },
   "outputs": [],
   "source": [
    "sub_name = 'popularityLast2Years_submission'\n",
    "sub.to_csv(f'{sub_name}.csv.gz', index=False)"
   ]
  }
 ],
 "metadata": {
  "kaggle": {
   "accelerator": "none",
   "dataSources": [
    {
     "databundleVersionId": 3103714,
     "sourceId": 31254,
     "sourceType": "competition"
    },
    {
     "sourceId": 149573710,
     "sourceType": "kernelVersion"
    }
   ],
   "dockerImageVersionId": 30558,
   "isGpuEnabled": false,
   "isInternetEnabled": true,
   "language": "python",
   "sourceType": "notebook"
  },
  "kernelspec": {
   "display_name": "Python 3",
   "language": "python",
   "name": "python3"
  },
  "language_info": {
   "codemirror_mode": {
    "name": "ipython",
    "version": 3
   },
   "file_extension": ".py",
   "mimetype": "text/x-python",
   "name": "python",
   "nbconvert_exporter": "python",
   "pygments_lexer": "ipython3",
   "version": "3.10.12"
  },
  "papermill": {
   "default_parameters": {},
   "duration": 38.028778,
   "end_time": "2023-12-22T00:18:23.131639",
   "environment_variables": {},
   "exception": null,
   "input_path": "__notebook__.ipynb",
   "output_path": "__notebook__.ipynb",
   "parameters": {},
   "start_time": "2023-12-22T00:17:45.102861",
   "version": "2.4.0"
  }
 },
 "nbformat": 4,
 "nbformat_minor": 5
}
