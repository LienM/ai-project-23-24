{
 "cells": [
  {
   "cell_type": "markdown",
   "id": "7f8c5c91",
   "metadata": {
    "papermill": {
     "duration": 0.006346,
     "end_time": "2023-12-22T00:12:51.090757",
     "exception": false,
     "start_time": "2023-12-22T00:12:51.084411",
     "status": "completed"
    },
    "tags": []
   },
   "source": [
    "# Popularity with repurchase information "
   ]
  },
  {
   "cell_type": "markdown",
   "id": "eb4da824",
   "metadata": {
    "papermill": {
     "duration": 0.005505,
     "end_time": "2023-12-22T00:12:51.104102",
     "exception": false,
     "start_time": "2023-12-22T00:12:51.098597",
     "status": "completed"
    },
    "tags": []
   },
   "source": [
    "# Read input data"
   ]
  },
  {
   "cell_type": "code",
   "execution_count": 1,
   "id": "47b4bc50",
   "metadata": {
    "execution": {
     "iopub.execute_input": "2023-12-22T00:12:51.118156Z",
     "iopub.status.busy": "2023-12-22T00:12:51.117623Z",
     "iopub.status.idle": "2023-12-22T00:12:57.548613Z",
     "shell.execute_reply": "2023-12-22T00:12:57.547343Z"
    },
    "papermill": {
     "duration": 6.441731,
     "end_time": "2023-12-22T00:12:57.551867",
     "exception": false,
     "start_time": "2023-12-22T00:12:51.110136",
     "status": "completed"
    },
    "tags": []
   },
   "outputs": [
    {
     "name": "stdout",
     "output_type": "stream",
     "text": [
      "CPU times: user 4.05 s, sys: 3.62 s, total: 7.68 s\n",
      "Wall time: 6.42 s\n"
     ]
    }
   ],
   "source": [
    "%%time\n",
    "import pandas as pd\n",
    "pad = \"/kaggle/input/makeparquet\"\n",
    "transactions = pd.read_parquet(pad+'/transactions_train.parquet')\n",
    "customers = pd.read_parquet(pad+'/customers.parquet')\n",
    "articles = pd.read_parquet(pad+'/articles.parquet')"
   ]
  },
  {
   "cell_type": "markdown",
   "id": "28a9635c",
   "metadata": {
    "papermill": {
     "duration": 0.005724,
     "end_time": "2023-12-22T00:12:57.564613",
     "exception": false,
     "start_time": "2023-12-22T00:12:57.558889",
     "status": "completed"
    },
    "tags": []
   },
   "source": [
    "# Helper functions from Radek's LGBMRanker starter-pack"
   ]
  },
  {
   "cell_type": "code",
   "execution_count": 2,
   "id": "38bf50b0",
   "metadata": {
    "execution": {
     "iopub.execute_input": "2023-12-22T00:12:57.586499Z",
     "iopub.status.busy": "2023-12-22T00:12:57.585992Z",
     "iopub.status.idle": "2023-12-22T00:12:58.931797Z",
     "shell.execute_reply": "2023-12-22T00:12:58.930703Z"
    },
    "papermill": {
     "duration": 1.360274,
     "end_time": "2023-12-22T00:12:58.934576",
     "exception": false,
     "start_time": "2023-12-22T00:12:57.574302",
     "status": "completed"
    },
    "tags": []
   },
   "outputs": [],
   "source": [
    "from sklearn.base import BaseEstimator, TransformerMixin\n",
    "import numpy as np\n",
    "\n",
    "# https://www.kaggle.com/c/h-and-m-personalized-fashion-recommendations/discussion/308635\n",
    "def customer_hex_id_to_int(series):\n",
    "    return series.str[-16:].apply(hex_id_to_int)\n",
    "\n",
    "def hex_id_to_int(str):\n",
    "    return int(str[-16:], 16)\n",
    "\n",
    "def article_id_str_to_int(series):\n",
    "    return series.astype('int32')\n",
    "\n",
    "def article_id_int_to_str(series):\n",
    "    return '0' + series.astype('str')\n",
    "\n",
    "class Categorize(BaseEstimator, TransformerMixin):\n",
    "    def __init__(self, min_examples=0):\n",
    "        self.min_examples = min_examples\n",
    "        self.categories = []\n",
    "\n",
    "    def fit(self, X):\n",
    "        for i in range(X.shape[1]):\n",
    "            vc = X.iloc[:, i].value_counts()\n",
    "            self.categories.append(vc[vc > self.min_examples].index.tolist())\n",
    "        return self\n",
    "\n",
    "    def transform(self, X):\n",
    "        data = {X.columns[i]: pd.Categorical(X.iloc[:, i], categories=self.categories[i]).codes for i in range(X.shape[1])}\n",
    "        return pd.DataFrame(data=data)\n",
    "\n",
    "\n",
    "def calculate_apk(list_of_preds, list_of_gts):\n",
    "    # for fast validation this can be changed to operate on dicts of {'cust_id_int': [art_id_int, ...]}\n",
    "    # using 'data/val_week_purchases_by_cust.pkl'\n",
    "    apks = []\n",
    "    for preds, gt in zip(list_of_preds, list_of_gts):\n",
    "        apks.append(apk(gt, preds, k=12))\n",
    "    return np.mean(apks)\n",
    "\n",
    "def eval_sub(sub_csv, skip_cust_with_no_purchases=True):\n",
    "    sub=pd.read_csv(sub_csv)\n",
    "    validation_set=pd.read_parquet('data/validation_ground_truth.parquet')\n",
    "\n",
    "    apks = []\n",
    "\n",
    "    no_purchases_pattern = []\n",
    "    for pred, gt in zip(sub.prediction.str.split(), validation_set.prediction.str.split()):\n",
    "        if skip_cust_with_no_purchases and (gt == no_purchases_pattern): continue\n",
    "        apks.append(apk(gt, pred, k=12))\n",
    "    return np.mean(apks)"
   ]
  },
  {
   "cell_type": "markdown",
   "id": "a51b9755",
   "metadata": {
    "papermill": {
     "duration": 0.005717,
     "end_time": "2023-12-22T00:12:58.946586",
     "exception": false,
     "start_time": "2023-12-22T00:12:58.940869",
     "status": "completed"
    },
    "tags": []
   },
   "source": [
    "# get last week popularity information"
   ]
  },
  {
   "cell_type": "code",
   "execution_count": 3,
   "id": "f434f48e",
   "metadata": {
    "execution": {
     "iopub.execute_input": "2023-12-22T00:12:58.960200Z",
     "iopub.status.busy": "2023-12-22T00:12:58.959739Z",
     "iopub.status.idle": "2023-12-22T00:12:59.017597Z",
     "shell.execute_reply": "2023-12-22T00:12:59.016432Z"
    },
    "papermill": {
     "duration": 0.067757,
     "end_time": "2023-12-22T00:12:59.020325",
     "exception": false,
     "start_time": "2023-12-22T00:12:58.952568",
     "status": "completed"
    },
    "tags": []
   },
   "outputs": [],
   "source": [
    "last_week_transactions = transactions[transactions['week'] >= transactions['week'].max()]"
   ]
  },
  {
   "cell_type": "code",
   "execution_count": 4,
   "id": "266a49cb",
   "metadata": {
    "execution": {
     "iopub.execute_input": "2023-12-22T00:12:59.034424Z",
     "iopub.status.busy": "2023-12-22T00:12:59.033985Z",
     "iopub.status.idle": "2023-12-22T00:12:59.104469Z",
     "shell.execute_reply": "2023-12-22T00:12:59.103225Z"
    },
    "papermill": {
     "duration": 0.080335,
     "end_time": "2023-12-22T00:12:59.106887",
     "exception": false,
     "start_time": "2023-12-22T00:12:59.026552",
     "status": "completed"
    },
    "tags": []
   },
   "outputs": [
    {
     "name": "stdout",
     "output_type": "stream",
     "text": [
      "[924243001, 918522001, 924243002, 923758001, 866731001, 915529003, 909370001, 915529005, 751471001, 918292001, 762846027, 448509014]\n"
     ]
    }
   ],
   "source": [
    "import pandas as pd\n",
    "\n",
    "\n",
    "# Step 1: Group transactions by 'article_id' and count unique 'customer_id'\n",
    "article_customer_count = last_week_transactions.groupby('article_id')['customer_id'].nunique().reset_index(name='customer_count')\n",
    "\n",
    "# Step 2: Sort articles based on customer count in descending order\n",
    "sorted_articles = article_customer_count.sort_values(by='customer_count', ascending=False)\n",
    "\n",
    "# Step 3: Take the top 12 articles\n",
    "top_12_articles = sorted_articles.head(12)\n",
    "top_12_articles = (top_12_articles.article_id.to_list())\n",
    "# Display the result\n",
    "print(top_12_articles)"
   ]
  },
  {
   "cell_type": "markdown",
   "id": "f1b79802",
   "metadata": {
    "papermill": {
     "duration": 0.00576,
     "end_time": "2023-12-22T00:12:59.118755",
     "exception": false,
     "start_time": "2023-12-22T00:12:59.112995",
     "status": "completed"
    },
    "tags": []
   },
   "source": [
    "# Make submission"
   ]
  },
  {
   "cell_type": "code",
   "execution_count": 5,
   "id": "e4b82975",
   "metadata": {
    "execution": {
     "iopub.execute_input": "2023-12-22T00:12:59.132700Z",
     "iopub.status.busy": "2023-12-22T00:12:59.132322Z",
     "iopub.status.idle": "2023-12-22T00:13:05.649661Z",
     "shell.execute_reply": "2023-12-22T00:13:05.648302Z"
    },
    "papermill": {
     "duration": 6.52782,
     "end_time": "2023-12-22T00:13:05.652719",
     "exception": false,
     "start_time": "2023-12-22T00:12:59.124899",
     "status": "completed"
    },
    "tags": []
   },
   "outputs": [],
   "source": [
    "sub = pd.read_csv('/kaggle/input/h-and-m-personalized-fashion-recommendations/sample_submission.csv')"
   ]
  },
  {
   "cell_type": "markdown",
   "id": "0643eecc",
   "metadata": {
    "papermill": {
     "duration": 0.005721,
     "end_time": "2023-12-22T00:13:05.664665",
     "exception": false,
     "start_time": "2023-12-22T00:13:05.658944",
     "status": "completed"
    },
    "tags": []
   },
   "source": [
    "# Read repurchase info"
   ]
  },
  {
   "cell_type": "code",
   "execution_count": 6,
   "id": "1b03e717",
   "metadata": {
    "execution": {
     "iopub.execute_input": "2023-12-22T00:13:05.679549Z",
     "iopub.status.busy": "2023-12-22T00:13:05.678354Z",
     "iopub.status.idle": "2023-12-22T00:13:11.314628Z",
     "shell.execute_reply": "2023-12-22T00:13:11.313592Z"
    },
    "papermill": {
     "duration": 5.646375,
     "end_time": "2023-12-22T00:13:11.317270",
     "exception": false,
     "start_time": "2023-12-22T00:13:05.670895",
     "status": "completed"
    },
    "tags": []
   },
   "outputs": [],
   "source": [
    "latest_bought_articles = pd.read_csv('/kaggle/input/repurchase4weeks/repurchase4Weeks.csv')\n",
    "latest_bought_articles = latest_bought_articles.values.tolist()"
   ]
  },
  {
   "cell_type": "markdown",
   "id": "abaa8f38",
   "metadata": {
    "papermill": {
     "duration": 0.006139,
     "end_time": "2023-12-22T00:13:11.329833",
     "exception": false,
     "start_time": "2023-12-22T00:13:11.323694",
     "status": "completed"
    },
    "tags": []
   },
   "source": [
    "# Make submission with this information"
   ]
  },
  {
   "cell_type": "code",
   "execution_count": 7,
   "id": "023702d0",
   "metadata": {
    "execution": {
     "iopub.execute_input": "2023-12-22T00:13:11.343770Z",
     "iopub.status.busy": "2023-12-22T00:13:11.343377Z",
     "iopub.status.idle": "2023-12-22T00:18:05.553820Z",
     "shell.execute_reply": "2023-12-22T00:18:05.552489Z"
    },
    "papermill": {
     "duration": 294.221685,
     "end_time": "2023-12-22T00:18:05.557736",
     "exception": false,
     "start_time": "2023-12-22T00:13:11.336051",
     "status": "completed"
    },
    "tags": []
   },
   "outputs": [
    {
     "name": "stderr",
     "output_type": "stream",
     "text": [
      "100%|██████████| 1371980/1371980 [04:51<00:00, 4699.71it/s]"
     ]
    },
    {
     "name": "stdout",
     "output_type": "stream",
     "text": [
      "CPU times: user 4min 50s, sys: 6.7 s, total: 4min 57s\n",
      "Wall time: 4min 54s\n"
     ]
    },
    {
     "name": "stderr",
     "output_type": "stream",
     "text": [
      "\n"
     ]
    }
   ],
   "source": [
    "%%time\n",
    "from tqdm import tqdm\n",
    "pop_items = []\n",
    "outputs = []\n",
    "user_cnt=0\n",
    "for c_id in tqdm(customer_hex_id_to_int(sub.customer_id)):\n",
    "    extraOutput = []\n",
    "    for articleRepurchase in latest_bought_articles[user_cnt]:\n",
    "        if articleRepurchase !=0:\n",
    "            extraOutput.append(articleRepurchase)\n",
    "\n",
    "    user_output = extraOutput + top_12_articles\n",
    "\n",
    "    user_output = [int(j) for j in user_output] \n",
    "    user_output = pd.Series(user_output).drop_duplicates().tolist()\n",
    "\n",
    "    user_output = user_output[:12]\n",
    "    outputs.append(user_output)\n",
    "    user_cnt+=1\n"
   ]
  },
  {
   "cell_type": "code",
   "execution_count": 8,
   "id": "e042cfe5",
   "metadata": {
    "execution": {
     "iopub.execute_input": "2023-12-22T00:18:06.100823Z",
     "iopub.status.busy": "2023-12-22T00:18:06.100353Z",
     "iopub.status.idle": "2023-12-22T00:18:12.949526Z",
     "shell.execute_reply": "2023-12-22T00:18:12.948183Z"
    },
    "papermill": {
     "duration": 7.123336,
     "end_time": "2023-12-22T00:18:12.952447",
     "exception": false,
     "start_time": "2023-12-22T00:18:05.829111",
     "status": "completed"
    },
    "tags": []
   },
   "outputs": [],
   "source": [
    "preds = [' '.join(['0' + str(p) for p in ps]) for ps in outputs]\n",
    "sub.prediction = preds"
   ]
  },
  {
   "cell_type": "code",
   "execution_count": 9,
   "id": "054ff11f",
   "metadata": {
    "execution": {
     "iopub.execute_input": "2023-12-22T00:18:13.505671Z",
     "iopub.status.busy": "2023-12-22T00:18:13.505254Z",
     "iopub.status.idle": "2023-12-22T00:18:43.068194Z",
     "shell.execute_reply": "2023-12-22T00:18:43.066831Z"
    },
    "papermill": {
     "duration": 29.844859,
     "end_time": "2023-12-22T00:18:43.071148",
     "exception": false,
     "start_time": "2023-12-22T00:18:13.226289",
     "status": "completed"
    },
    "tags": []
   },
   "outputs": [],
   "source": [
    "sub_name = 'Repurchase4pop'\n",
    "sub.to_csv(f'{sub_name}.csv.gz', index=False)"
   ]
  }
 ],
 "metadata": {
  "kaggle": {
   "accelerator": "none",
   "dataSources": [
    {
     "databundleVersionId": 3103714,
     "sourceId": 31254,
     "sourceType": "competition"
    },
    {
     "datasetId": 4032885,
     "sourceId": 7014309,
     "sourceType": "datasetVersion"
    },
    {
     "sourceId": 149573710,
     "sourceType": "kernelVersion"
    },
    {
     "sourceId": 149747734,
     "sourceType": "kernelVersion"
    },
    {
     "sourceId": 151584800,
     "sourceType": "kernelVersion"
    },
    {
     "sourceId": 151594135,
     "sourceType": "kernelVersion"
    },
    {
     "sourceId": 151606092,
     "sourceType": "kernelVersion"
    },
    {
     "sourceId": 151691097,
     "sourceType": "kernelVersion"
    },
    {
     "sourceId": 154376297,
     "sourceType": "kernelVersion"
    },
    {
     "sourceId": 155319119,
     "sourceType": "kernelVersion"
    }
   ],
   "dockerImageVersionId": 30587,
   "isGpuEnabled": false,
   "isInternetEnabled": true,
   "language": "python",
   "sourceType": "notebook"
  },
  "kernelspec": {
   "display_name": "Python 3",
   "language": "python",
   "name": "python3"
  },
  "language_info": {
   "codemirror_mode": {
    "name": "ipython",
    "version": 3
   },
   "file_extension": ".py",
   "mimetype": "text/x-python",
   "name": "python",
   "nbconvert_exporter": "python",
   "pygments_lexer": "ipython3",
   "version": "3.10.12"
  },
  "papermill": {
   "default_parameters": {},
   "duration": 358.020949,
   "end_time": "2023-12-22T00:18:45.166089",
   "environment_variables": {},
   "exception": null,
   "input_path": "__notebook__.ipynb",
   "output_path": "__notebook__.ipynb",
   "parameters": {},
   "start_time": "2023-12-22T00:12:47.145140",
   "version": "2.4.0"
  }
 },
 "nbformat": 4,
 "nbformat_minor": 5
}
