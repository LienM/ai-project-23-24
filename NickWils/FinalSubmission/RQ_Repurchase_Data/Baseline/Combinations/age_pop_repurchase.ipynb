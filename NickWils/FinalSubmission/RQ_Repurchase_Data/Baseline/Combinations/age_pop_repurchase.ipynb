{
 "cells": [
  {
   "cell_type": "markdown",
   "id": "355472b3",
   "metadata": {
    "papermill": {
     "duration": 0.007105,
     "end_time": "2023-12-22T00:57:44.198524",
     "exception": false,
     "start_time": "2023-12-22T00:57:44.191419",
     "status": "completed"
    },
    "tags": []
   },
   "source": [
    "# Popularity with repurchase information with age buckets"
   ]
  },
  {
   "cell_type": "markdown",
   "id": "16f43010",
   "metadata": {
    "papermill": {
     "duration": 0.003996,
     "end_time": "2023-12-22T00:57:44.206981",
     "exception": false,
     "start_time": "2023-12-22T00:57:44.202985",
     "status": "completed"
    },
    "tags": []
   },
   "source": [
    "# Read input data"
   ]
  },
  {
   "cell_type": "code",
   "execution_count": 1,
   "id": "b2f44e4e",
   "metadata": {
    "execution": {
     "iopub.execute_input": "2023-12-22T00:57:44.217898Z",
     "iopub.status.busy": "2023-12-22T00:57:44.217202Z",
     "iopub.status.idle": "2023-12-22T00:57:49.763665Z",
     "shell.execute_reply": "2023-12-22T00:57:49.762252Z"
    },
    "papermill": {
     "duration": 5.554805,
     "end_time": "2023-12-22T00:57:49.766135",
     "exception": false,
     "start_time": "2023-12-22T00:57:44.211330",
     "status": "completed"
    },
    "tags": []
   },
   "outputs": [
    {
     "name": "stdout",
     "output_type": "stream",
     "text": [
      "CPU times: user 2.48 s, sys: 1.75 s, total: 4.22 s\n",
      "Wall time: 5.53 s\n"
     ]
    }
   ],
   "source": [
    "%%time\n",
    "import pandas as pd\n",
    "pad = \"/kaggle/input/makeparquet\"\n",
    "transactions = pd.read_parquet(pad+'/transactions_train.parquet')\n",
    "customers = pd.read_parquet(pad+'/customers.parquet')\n",
    "articles = pd.read_parquet(pad+'/articles.parquet')"
   ]
  },
  {
   "cell_type": "markdown",
   "id": "5f82e0e0",
   "metadata": {
    "papermill": {
     "duration": 0.005437,
     "end_time": "2023-12-22T00:57:49.777544",
     "exception": false,
     "start_time": "2023-12-22T00:57:49.772107",
     "status": "completed"
    },
    "tags": []
   },
   "source": [
    "# Helper functions from Radek's LGBMRanker starter-pack"
   ]
  },
  {
   "cell_type": "code",
   "execution_count": 2,
   "id": "52ef79dc",
   "metadata": {
    "execution": {
     "iopub.execute_input": "2023-12-22T00:57:49.791035Z",
     "iopub.status.busy": "2023-12-22T00:57:49.790564Z",
     "iopub.status.idle": "2023-12-22T00:57:51.062478Z",
     "shell.execute_reply": "2023-12-22T00:57:51.061333Z"
    },
    "papermill": {
     "duration": 1.281385,
     "end_time": "2023-12-22T00:57:51.065240",
     "exception": false,
     "start_time": "2023-12-22T00:57:49.783855",
     "status": "completed"
    },
    "tags": []
   },
   "outputs": [],
   "source": [
    "from sklearn.base import BaseEstimator, TransformerMixin\n",
    "import numpy as np\n",
    "\n",
    "# https://www.kaggle.com/c/h-and-m-personalized-fashion-recommendations/discussion/308635\n",
    "def customer_hex_id_to_int(series):\n",
    "    return series.str[-16:].apply(hex_id_to_int)\n",
    "\n",
    "def hex_id_to_int(str):\n",
    "    return int(str[-16:], 16)\n",
    "\n",
    "def article_id_str_to_int(series):\n",
    "    return series.astype('int32')\n",
    "\n",
    "def article_id_int_to_str(series):\n",
    "    return '0' + series.astype('str')\n",
    "\n",
    "class Categorize(BaseEstimator, TransformerMixin):\n",
    "    def __init__(self, min_examples=0):\n",
    "        self.min_examples = min_examples\n",
    "        self.categories = []\n",
    "\n",
    "    def fit(self, X):\n",
    "        for i in range(X.shape[1]):\n",
    "            vc = X.iloc[:, i].value_counts()\n",
    "            self.categories.append(vc[vc > self.min_examples].index.tolist())\n",
    "        return self\n",
    "\n",
    "    def transform(self, X):\n",
    "        data = {X.columns[i]: pd.Categorical(X.iloc[:, i], categories=self.categories[i]).codes for i in range(X.shape[1])}\n",
    "        return pd.DataFrame(data=data)\n",
    "\n",
    "\n",
    "def calculate_apk(list_of_preds, list_of_gts):\n",
    "    # for fast validation this can be changed to operate on dicts of {'cust_id_int': [art_id_int, ...]}\n",
    "    # using 'data/val_week_purchases_by_cust.pkl'\n",
    "    apks = []\n",
    "    for preds, gt in zip(list_of_preds, list_of_gts):\n",
    "        apks.append(apk(gt, preds, k=12))\n",
    "    return np.mean(apks)\n",
    "\n",
    "def eval_sub(sub_csv, skip_cust_with_no_purchases=True):\n",
    "    sub=pd.read_csv(sub_csv)\n",
    "    validation_set=pd.read_parquet('data/validation_ground_truth.parquet')\n",
    "\n",
    "    apks = []\n",
    "\n",
    "    no_purchases_pattern = []\n",
    "    for pred, gt in zip(sub.prediction.str.split(), validation_set.prediction.str.split()):\n",
    "        if skip_cust_with_no_purchases and (gt == no_purchases_pattern): continue\n",
    "        apks.append(apk(gt, pred, k=12))\n",
    "    return np.mean(apks)"
   ]
  },
  {
   "cell_type": "markdown",
   "id": "ae42f62c",
   "metadata": {
    "papermill": {
     "duration": 0.004178,
     "end_time": "2023-12-22T00:57:51.074194",
     "exception": false,
     "start_time": "2023-12-22T00:57:51.070016",
     "status": "completed"
    },
    "tags": []
   },
   "source": [
    "# get last week information"
   ]
  },
  {
   "cell_type": "code",
   "execution_count": 3,
   "id": "5dd5f3df",
   "metadata": {
    "execution": {
     "iopub.execute_input": "2023-12-22T00:57:51.084828Z",
     "iopub.status.busy": "2023-12-22T00:57:51.084433Z",
     "iopub.status.idle": "2023-12-22T00:57:59.615336Z",
     "shell.execute_reply": "2023-12-22T00:57:59.614125Z"
    },
    "papermill": {
     "duration": 8.539131,
     "end_time": "2023-12-22T00:57:59.617780",
     "exception": false,
     "start_time": "2023-12-22T00:57:51.078649",
     "status": "completed"
    },
    "tags": []
   },
   "outputs": [],
   "source": [
    "# Step 1: Merge transactions with selected columns from customers\n",
    "selected_columns = ['customer_id', 'age','buys_kid_baby_clothes', 'buys_mens_clothes', 'buys_womens_clothing']\n",
    "merged_data = pd.merge(transactions, customers[selected_columns], on='customer_id', how='inner')\n",
    "\n",
    "# Step 2: Filter transactions for the last week\n",
    "last_week_transactions = merged_data[merged_data['week'] >= merged_data['week'].max()]\n",
    "# last_10week_transactions = merged_data[merged_data['week'] >= merged_data['week'].max()-9]"
   ]
  },
  {
   "cell_type": "markdown",
   "id": "2fc5650d",
   "metadata": {
    "papermill": {
     "duration": 0.004411,
     "end_time": "2023-12-22T00:57:59.627017",
     "exception": false,
     "start_time": "2023-12-22T00:57:59.622606",
     "status": "completed"
    },
    "tags": []
   },
   "source": [
    "# Split transactions based on conditions"
   ]
  },
  {
   "cell_type": "code",
   "execution_count": 4,
   "id": "7ea4d424",
   "metadata": {
    "execution": {
     "iopub.execute_input": "2023-12-22T00:57:59.638456Z",
     "iopub.status.busy": "2023-12-22T00:57:59.637535Z",
     "iopub.status.idle": "2023-12-22T00:57:59.659902Z",
     "shell.execute_reply": "2023-12-22T00:57:59.658773Z"
    },
    "papermill": {
     "duration": 0.030637,
     "end_time": "2023-12-22T00:57:59.662252",
     "exception": false,
     "start_time": "2023-12-22T00:57:59.631615",
     "status": "completed"
    },
    "tags": []
   },
   "outputs": [],
   "source": [
    "import pandas as pd\n",
    "\n",
    "# Condition 1: age < 25\n",
    "condition_1 = last_week_transactions[last_week_transactions['age'] < 25]\n",
    "\n",
    "# Condition 2: 25 <= age < 50\n",
    "condition_2 = last_week_transactions[(last_week_transactions['age'] >= 25) & (last_week_transactions['age'] < 50)]\n",
    "\n",
    "\n",
    "# Condition 3: 50 <= age\n",
    "condition_3 = last_week_transactions[last_week_transactions['age'] >= 50]\n"
   ]
  },
  {
   "cell_type": "markdown",
   "id": "6d4d4c4b",
   "metadata": {
    "papermill": {
     "duration": 0.00544,
     "end_time": "2023-12-22T00:57:59.672338",
     "exception": false,
     "start_time": "2023-12-22T00:57:59.666898",
     "status": "completed"
    },
    "tags": []
   },
   "source": [
    "# Get popularity for each age bucket"
   ]
  },
  {
   "cell_type": "code",
   "execution_count": 5,
   "id": "ed21a35b",
   "metadata": {
    "execution": {
     "iopub.execute_input": "2023-12-22T00:57:59.683776Z",
     "iopub.status.busy": "2023-12-22T00:57:59.683338Z",
     "iopub.status.idle": "2023-12-22T00:57:59.732329Z",
     "shell.execute_reply": "2023-12-22T00:57:59.731036Z"
    },
    "papermill": {
     "duration": 0.058068,
     "end_time": "2023-12-22T00:57:59.734947",
     "exception": false,
     "start_time": "2023-12-22T00:57:59.676879",
     "status": "completed"
    },
    "tags": []
   },
   "outputs": [
    {
     "name": "stdout",
     "output_type": "stream",
     "text": [
      "[924243001, 918522001, 924243002, 923758001, 866731001, 915529003, 909370001, 915529005, 751471001, 918292001, 762846027, 448509014]\n"
     ]
    }
   ],
   "source": [
    "import pandas as pd\n",
    "\n",
    "\n",
    "# Step 1: Group transactions by 'article_id' and count unique 'customer_id'\n",
    "article_customer_countold = last_week_transactions.groupby('article_id')['customer_id'].nunique().reset_index(name='customer_count')\n",
    "\n",
    "# Step 2: Sort articles based on customer count in descending order\n",
    "sorted_articlesold = article_customer_countold.sort_values(by='customer_count', ascending=False)\n",
    "\n",
    "# Step 3: Take the top 12 articles\n",
    "top_12_articlesold = sorted_articlesold.head(12)\n",
    "top_12_articlesold= (top_12_articlesold.article_id.to_list())\n",
    "# Display the result\n",
    "print(top_12_articlesold)"
   ]
  },
  {
   "cell_type": "code",
   "execution_count": 6,
   "id": "9e879b26",
   "metadata": {
    "execution": {
     "iopub.execute_input": "2023-12-22T00:57:59.748154Z",
     "iopub.status.busy": "2023-12-22T00:57:59.746684Z",
     "iopub.status.idle": "2023-12-22T00:57:59.767038Z",
     "shell.execute_reply": "2023-12-22T00:57:59.766129Z"
    },
    "papermill": {
     "duration": 0.028534,
     "end_time": "2023-12-22T00:57:59.769059",
     "exception": false,
     "start_time": "2023-12-22T00:57:59.740525",
     "status": "completed"
    },
    "tags": []
   },
   "outputs": [
    {
     "name": "stdout",
     "output_type": "stream",
     "text": [
      "[918522001, 924243001, 448509014, 866731001, 915526001, 915529005, 915529003, 924243002, 918292001, 923758001, 911699002, 715624001]\n"
     ]
    }
   ],
   "source": [
    "import pandas as pd\n",
    "\n",
    "\n",
    "# Step 1: Group transactions by 'article_id' and count unique 'customer_id'\n",
    "article_customer_count1 = condition_1.groupby('article_id')['customer_id'].nunique().reset_index(name='customer_count')\n",
    "\n",
    "# Step 2: Sort articles based on customer count in descending order\n",
    "sorted_articles1 = article_customer_count1.sort_values(by='customer_count', ascending=False)\n",
    "\n",
    "# Step 3: Take the top 12 articles\n",
    "top_12_articles1 = sorted_articles1.head(12)\n",
    "top_12_articles1= (top_12_articles1.article_id.to_list())\n",
    "# Display the result\n",
    "print(top_12_articles1)"
   ]
  },
  {
   "cell_type": "code",
   "execution_count": 7,
   "id": "8fd305a9",
   "metadata": {
    "execution": {
     "iopub.execute_input": "2023-12-22T00:57:59.782308Z",
     "iopub.status.busy": "2023-12-22T00:57:59.781985Z",
     "iopub.status.idle": "2023-12-22T00:57:59.811239Z",
     "shell.execute_reply": "2023-12-22T00:57:59.810013Z"
    },
    "papermill": {
     "duration": 0.039188,
     "end_time": "2023-12-22T00:57:59.813721",
     "exception": false,
     "start_time": "2023-12-22T00:57:59.774533",
     "status": "completed"
    },
    "tags": []
   },
   "outputs": [
    {
     "name": "stdout",
     "output_type": "stream",
     "text": [
      "[924243001, 909370001, 866731001, 923758001, 924243002, 915529003, 918292001, 919273002, 915529005, 889550002, 762846027, 935541001]\n"
     ]
    }
   ],
   "source": [
    "import pandas as pd\n",
    "\n",
    "\n",
    "# Step 1: Group transactions by 'article_id' and count unique 'customer_id'\n",
    "article_customer_count2 = condition_2.groupby('article_id')['customer_id'].nunique().reset_index(name='customer_count')\n",
    "\n",
    "# Step 2: Sort articles based on customer count in descending order\n",
    "sorted_articles2 = article_customer_count2.sort_values(by='customer_count', ascending=False)\n",
    "\n",
    "# Step 3: Take the top 12 articles\n",
    "top_12_articles2 = sorted_articles2.head(12)\n",
    "top_12_articles2= (top_12_articles2.article_id.to_list())\n",
    "\n",
    "# Display the result\n",
    "print(top_12_articles2)"
   ]
  },
  {
   "cell_type": "code",
   "execution_count": 8,
   "id": "850535c3",
   "metadata": {
    "_cell_guid": "b1076dfc-b9ad-4769-8c92-a6c4dae69d19",
    "_uuid": "8f2839f25d086af736a60e9eeb907d3b93b6e0e5",
    "execution": {
     "iopub.execute_input": "2023-12-22T00:57:59.824971Z",
     "iopub.status.busy": "2023-12-22T00:57:59.824596Z",
     "iopub.status.idle": "2023-12-22T00:57:59.840867Z",
     "shell.execute_reply": "2023-12-22T00:57:59.840147Z"
    },
    "papermill": {
     "duration": 0.023809,
     "end_time": "2023-12-22T00:57:59.842576",
     "exception": false,
     "start_time": "2023-12-22T00:57:59.818767",
     "status": "completed"
    },
    "tags": []
   },
   "outputs": [
    {
     "name": "stdout",
     "output_type": "stream",
     "text": [
      "[924243001, 930380001, 924243002, 928206001, 918522001, 751471043, 910601003, 751471001, 923758001, 863646001, 865799006, 673677002]\n"
     ]
    }
   ],
   "source": [
    "\n",
    "import pandas as pd\n",
    "\n",
    "\n",
    "# Step 1: Group transactions by 'article_id' and count unique 'customer_id'\n",
    "article_customer_count3 = condition_3.groupby('article_id')['customer_id'].nunique().reset_index(name='customer_count')\n",
    "\n",
    "# Step 2: Sort articles based on customer count in descending order\n",
    "sorted_articles3 = article_customer_count3.sort_values(by='customer_count', ascending=False)\n",
    "\n",
    "# Step 3: Take the top 12 articles\n",
    "top_12_articles3 = sorted_articles3.head(12)\n",
    "top_12_articles3= (top_12_articles3.article_id.to_list())\n",
    "\n",
    "# Display the result\n",
    "print(top_12_articles3)"
   ]
  },
  {
   "cell_type": "markdown",
   "id": "5ba49fdd",
   "metadata": {
    "papermill": {
     "duration": 0.004421,
     "end_time": "2023-12-22T00:57:59.851951",
     "exception": false,
     "start_time": "2023-12-22T00:57:59.847530",
     "status": "completed"
    },
    "tags": []
   },
   "source": [
    "# Make submission"
   ]
  },
  {
   "cell_type": "code",
   "execution_count": 9,
   "id": "73f3c63f",
   "metadata": {
    "execution": {
     "iopub.execute_input": "2023-12-22T00:57:59.863594Z",
     "iopub.status.busy": "2023-12-22T00:57:59.862982Z",
     "iopub.status.idle": "2023-12-22T00:58:04.119218Z",
     "shell.execute_reply": "2023-12-22T00:58:04.118126Z"
    },
    "papermill": {
     "duration": 4.265072,
     "end_time": "2023-12-22T00:58:04.121651",
     "exception": false,
     "start_time": "2023-12-22T00:57:59.856579",
     "status": "completed"
    },
    "tags": []
   },
   "outputs": [],
   "source": [
    "sub = pd.read_csv('/kaggle/input/h-and-m-personalized-fashion-recommendations/sample_submission.csv')"
   ]
  },
  {
   "cell_type": "markdown",
   "id": "fae0c6d9",
   "metadata": {
    "papermill": {
     "duration": 0.005068,
     "end_time": "2023-12-22T00:58:04.132129",
     "exception": false,
     "start_time": "2023-12-22T00:58:04.127061",
     "status": "completed"
    },
    "tags": []
   },
   "source": [
    "# Read repurchase info"
   ]
  },
  {
   "cell_type": "code",
   "execution_count": 10,
   "id": "c71b30a4",
   "metadata": {
    "execution": {
     "iopub.execute_input": "2023-12-22T00:58:04.143990Z",
     "iopub.status.busy": "2023-12-22T00:58:04.143581Z",
     "iopub.status.idle": "2023-12-22T00:58:07.926203Z",
     "shell.execute_reply": "2023-12-22T00:58:07.925187Z"
    },
    "papermill": {
     "duration": 3.790822,
     "end_time": "2023-12-22T00:58:07.928489",
     "exception": false,
     "start_time": "2023-12-22T00:58:04.137667",
     "status": "completed"
    },
    "tags": []
   },
   "outputs": [],
   "source": [
    "latest_bought_articles = pd.read_csv('/kaggle/input/repurchase4weeks/repurchase4Weeks.csv')\n",
    "latest_bought_articles = latest_bought_articles.values.tolist()"
   ]
  },
  {
   "cell_type": "code",
   "execution_count": 11,
   "id": "e429bf9b",
   "metadata": {
    "execution": {
     "iopub.execute_input": "2023-12-22T00:58:07.940138Z",
     "iopub.status.busy": "2023-12-22T00:58:07.939694Z",
     "iopub.status.idle": "2023-12-22T01:04:38.394117Z",
     "shell.execute_reply": "2023-12-22T01:04:38.392136Z"
    },
    "papermill": {
     "duration": 390.463297,
     "end_time": "2023-12-22T01:04:38.396725",
     "exception": false,
     "start_time": "2023-12-22T00:58:07.933428",
     "status": "completed"
    },
    "tags": []
   },
   "outputs": [
    {
     "name": "stderr",
     "output_type": "stream",
     "text": [
      "100%|██████████| 1371980/1371980 [06:29<00:00, 3523.33it/s]"
     ]
    },
    {
     "name": "stdout",
     "output_type": "stream",
     "text": [
      "CPU times: user 6min 28s, sys: 2.76 s, total: 6min 30s\n",
      "Wall time: 6min 30s\n"
     ]
    },
    {
     "name": "stderr",
     "output_type": "stream",
     "text": [
      "\n"
     ]
    }
   ],
   "source": [
    "%%time\n",
    "from tqdm import tqdm\n",
    "pop_items = []\n",
    "outputs = []\n",
    "user_cnt=0\n",
    "for c_id in tqdm(customer_hex_id_to_int(sub.customer_id)):\n",
    "    extraOutput = []\n",
    "    for articleRepurchase in latest_bought_articles[user_cnt]:\n",
    "        if articleRepurchase !=0:\n",
    "            extraOutput.append(articleRepurchase)\n",
    "    # Check in which condition the target_customer_id falls\n",
    "    if c_id in condition_1['customer_id'].values:\n",
    "        pop_items = (top_12_articles1)\n",
    "    elif c_id in condition_2['customer_id'].values:\n",
    "        pop_items = (top_12_articles2)\n",
    "    elif c_id in condition_3['customer_id'].values:\n",
    "        pop_items = (top_12_articles3)\n",
    "    else:\n",
    "        pop_items = (top_12_articlesold)\n",
    "    user_output = extraOutput + pop_items\n",
    "\n",
    "    user_output = [int(j) for j in user_output] \n",
    "    user_output = pd.Series(user_output).drop_duplicates().tolist()\n",
    "\n",
    "    user_output = user_output[:12]\n",
    "    outputs.append(user_output)\n",
    "    user_cnt+=1\n"
   ]
  },
  {
   "cell_type": "code",
   "execution_count": 12,
   "id": "35344099",
   "metadata": {
    "execution": {
     "iopub.execute_input": "2023-12-22T01:04:38.850545Z",
     "iopub.status.busy": "2023-12-22T01:04:38.850190Z",
     "iopub.status.idle": "2023-12-22T01:04:43.597219Z",
     "shell.execute_reply": "2023-12-22T01:04:43.595891Z"
    },
    "papermill": {
     "duration": 4.973479,
     "end_time": "2023-12-22T01:04:43.599533",
     "exception": false,
     "start_time": "2023-12-22T01:04:38.626054",
     "status": "completed"
    },
    "tags": []
   },
   "outputs": [],
   "source": [
    "preds = [' '.join(['0' + str(p) for p in ps]) for ps in outputs]\n",
    "sub.prediction = preds"
   ]
  },
  {
   "cell_type": "code",
   "execution_count": 13,
   "id": "f95af733",
   "metadata": {
    "execution": {
     "iopub.execute_input": "2023-12-22T01:04:44.105752Z",
     "iopub.status.busy": "2023-12-22T01:04:44.105426Z",
     "iopub.status.idle": "2023-12-22T01:05:01.724246Z",
     "shell.execute_reply": "2023-12-22T01:05:01.722688Z"
    },
    "papermill": {
     "duration": 17.843433,
     "end_time": "2023-12-22T01:05:01.726930",
     "exception": false,
     "start_time": "2023-12-22T01:04:43.883497",
     "status": "completed"
    },
    "tags": []
   },
   "outputs": [],
   "source": [
    "sub_name = 'Repurchase4popAge'\n",
    "sub.to_csv(f'{sub_name}.csv.gz', index=False)"
   ]
  }
 ],
 "metadata": {
  "kaggle": {
   "accelerator": "none",
   "dataSources": [
    {
     "databundleVersionId": 3103714,
     "sourceId": 31254,
     "sourceType": "competition"
    },
    {
     "datasetId": 4032885,
     "sourceId": 7014309,
     "sourceType": "datasetVersion"
    },
    {
     "sourceId": 149573710,
     "sourceType": "kernelVersion"
    },
    {
     "sourceId": 149747734,
     "sourceType": "kernelVersion"
    },
    {
     "sourceId": 151594135,
     "sourceType": "kernelVersion"
    },
    {
     "sourceId": 151606092,
     "sourceType": "kernelVersion"
    },
    {
     "sourceId": 151691097,
     "sourceType": "kernelVersion"
    }
   ],
   "dockerImageVersionId": 30587,
   "isGpuEnabled": false,
   "isInternetEnabled": true,
   "language": "python",
   "sourceType": "notebook"
  },
  "kernelspec": {
   "display_name": "Python 3",
   "language": "python",
   "name": "python3"
  },
  "language_info": {
   "codemirror_mode": {
    "name": "ipython",
    "version": 3
   },
   "file_extension": ".py",
   "mimetype": "text/x-python",
   "name": "python",
   "nbconvert_exporter": "python",
   "pygments_lexer": "ipython3",
   "version": "3.10.12"
  },
  "papermill": {
   "default_parameters": {},
   "duration": 442.256835,
   "end_time": "2023-12-22T01:05:03.476457",
   "environment_variables": {},
   "exception": null,
   "input_path": "__notebook__.ipynb",
   "output_path": "__notebook__.ipynb",
   "parameters": {},
   "start_time": "2023-12-22T00:57:41.219622",
   "version": "2.4.0"
  }
 },
 "nbformat": 4,
 "nbformat_minor": 5
}
