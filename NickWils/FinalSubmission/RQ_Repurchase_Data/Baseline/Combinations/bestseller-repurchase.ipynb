{
 "cells": [
  {
   "cell_type": "markdown",
   "id": "66919014",
   "metadata": {
    "id": "6f21ab04",
    "papermill": {
     "duration": 0.011499,
     "end_time": "2023-12-22T00:20:30.432070",
     "exception": false,
     "start_time": "2023-12-22T00:20:30.420571",
     "status": "completed"
    },
    "tags": []
   },
   "source": [
    "Based on the baseline \"Radek's LGBMRanker starter-pack”: https://www.kaggle.com/code/marcogorelli/radek-s-lgbmranker-starter-pack\n"
   ]
  },
  {
   "cell_type": "markdown",
   "id": "ba27ef1d",
   "metadata": {
    "papermill": {
     "duration": 0.006848,
     "end_time": "2023-12-22T00:20:30.446780",
     "exception": false,
     "start_time": "2023-12-22T00:20:30.439932",
     "status": "completed"
    },
    "tags": []
   },
   "source": [
    "# Helper functions"
   ]
  },
  {
   "cell_type": "code",
   "execution_count": 1,
   "id": "b57a21ac",
   "metadata": {
    "execution": {
     "iopub.execute_input": "2023-12-22T00:20:30.463791Z",
     "iopub.status.busy": "2023-12-22T00:20:30.463060Z",
     "iopub.status.idle": "2023-12-22T00:20:30.476491Z",
     "shell.execute_reply": "2023-12-22T00:20:30.475651Z"
    },
    "executionInfo": {
     "elapsed": 8,
     "status": "ok",
     "timestamp": 1699021070415,
     "user": {
      "displayName": "nick wils",
      "userId": "09906672494021070283"
     },
     "user_tz": -60
    },
    "id": "4a7e7212",
    "papermill": {
     "duration": 0.024618,
     "end_time": "2023-12-22T00:20:30.478806",
     "exception": false,
     "start_time": "2023-12-22T00:20:30.454188",
     "status": "completed"
    },
    "tags": []
   },
   "outputs": [],
   "source": [
    "import numpy as np\n",
    "\n",
    "def apk(actual, predicted, k=10):\n",
    "    \"\"\"\n",
    "    Computes the average precision at k.\n",
    "\n",
    "    This function computes the average prescision at k between two lists of\n",
    "    items.\n",
    "\n",
    "    Parameters\n",
    "    ----------\n",
    "    actual : list\n",
    "             A list of elements that are to be predicted (order doesn't matter)\n",
    "    predicted : list\n",
    "                A list of predicted elements (order does matter)\n",
    "    k : int, optional\n",
    "        The maximum number of predicted elements\n",
    "\n",
    "    Returns\n",
    "    -------\n",
    "    score : double\n",
    "            The average precision at k over the input lists\n",
    "\n",
    "    \"\"\"\n",
    "    if len(predicted)>k:\n",
    "        predicted = predicted[:k]\n",
    "\n",
    "    score = 0.0\n",
    "    num_hits = 0.0\n",
    "\n",
    "    for i,p in enumerate(predicted):\n",
    "        if p in actual and p not in predicted[:i]:\n",
    "            num_hits += 1.0\n",
    "            score += num_hits / (i+1.0)\n",
    "\n",
    "    if not actual:\n",
    "        return 0.0\n",
    "\n",
    "    return score / min(len(actual), k)\n",
    "\n",
    "def mapk(actual, predicted, k=10):\n",
    "    \"\"\"\n",
    "    Computes the mean average precision at k.\n",
    "\n",
    "    This function computes the mean average prescision at k between two lists\n",
    "    of lists of items.\n",
    "\n",
    "    Parameters\n",
    "    ----------\n",
    "    actual : list\n",
    "             A list of lists of elements that are to be predicted\n",
    "             (order doesn't matter in the lists)\n",
    "    predicted : list\n",
    "                A list of lists of predicted elements\n",
    "                (order matters in the lists)\n",
    "    k : int, optional\n",
    "        The maximum number of predicted elements\n",
    "\n",
    "    Returns\n",
    "    -------\n",
    "    score : double\n",
    "            The mean average precision at k over the input lists\n",
    "\n",
    "    \"\"\"\n",
    "    return np.mean([apk(a,p,k) for a,p in zip(actual, predicted)])"
   ]
  },
  {
   "cell_type": "code",
   "execution_count": 2,
   "id": "da991bbf",
   "metadata": {
    "execution": {
     "iopub.execute_input": "2023-12-22T00:20:30.495773Z",
     "iopub.status.busy": "2023-12-22T00:20:30.495098Z",
     "iopub.status.idle": "2023-12-22T00:20:31.746047Z",
     "shell.execute_reply": "2023-12-22T00:20:31.744887Z"
    },
    "executionInfo": {
     "elapsed": 1622,
     "status": "ok",
     "timestamp": 1699021072031,
     "user": {
      "displayName": "nick wils",
      "userId": "09906672494021070283"
     },
     "user_tz": -60
    },
    "id": "85ef6566",
    "papermill": {
     "duration": 1.262471,
     "end_time": "2023-12-22T00:20:31.748682",
     "exception": false,
     "start_time": "2023-12-22T00:20:30.486211",
     "status": "completed"
    },
    "tags": []
   },
   "outputs": [],
   "source": [
    "from sklearn.base import BaseEstimator, TransformerMixin\n",
    "import numpy as np\n",
    "\n",
    "# https://www.kaggle.com/c/h-and-m-personalized-fashion-recommendations/discussion/308635\n",
    "def customer_hex_id_to_int(series):\n",
    "    return series.str[-16:].apply(hex_id_to_int)\n",
    "\n",
    "def hex_id_to_int(str):\n",
    "    return int(str[-16:], 16)\n",
    "\n",
    "def article_id_str_to_int(series):\n",
    "    return series.astype('int32')\n",
    "\n",
    "def article_id_int_to_str(series):\n",
    "    return '0' + series.astype('str')\n",
    "\n",
    "class Categorize(BaseEstimator, TransformerMixin):\n",
    "    def __init__(self, min_examples=0):\n",
    "        self.min_examples = min_examples\n",
    "        self.categories = []\n",
    "\n",
    "    def fit(self, X):\n",
    "        for i in range(X.shape[1]):\n",
    "            vc = X.iloc[:, i].value_counts()\n",
    "            self.categories.append(vc[vc > self.min_examples].index.tolist())\n",
    "        return self\n",
    "\n",
    "    def transform(self, X):\n",
    "        data = {X.columns[i]: pd.Categorical(X.iloc[:, i], categories=self.categories[i]).codes for i in range(X.shape[1])}\n",
    "        return pd.DataFrame(data=data)\n",
    "\n",
    "\n",
    "def calculate_apk(list_of_preds, list_of_gts):\n",
    "    # for fast validation this can be changed to operate on dicts of {'cust_id_int': [art_id_int, ...]}\n",
    "    # using 'data/val_week_purchases_by_cust.pkl'\n",
    "    apks = []\n",
    "    for preds, gt in zip(list_of_preds, list_of_gts):\n",
    "        apks.append(apk(gt, preds, k=12))\n",
    "    return np.mean(apks)\n",
    "\n",
    "def eval_sub(sub_csv, skip_cust_with_no_purchases=True):\n",
    "    sub=pd.read_csv(sub_csv)\n",
    "    validation_set=pd.read_parquet('data/validation_ground_truth.parquet')\n",
    "\n",
    "    apks = []\n",
    "\n",
    "    no_purchases_pattern = []\n",
    "    for pred, gt in zip(sub.prediction.str.split(), validation_set.prediction.str.split()):\n",
    "        if skip_cust_with_no_purchases and (gt == no_purchases_pattern): continue\n",
    "        apks.append(apk(gt, pred, k=12))\n",
    "    return np.mean(apks)"
   ]
  },
  {
   "cell_type": "code",
   "execution_count": 3,
   "id": "c543df42",
   "metadata": {
    "execution": {
     "iopub.execute_input": "2023-12-22T00:20:31.765531Z",
     "iopub.status.busy": "2023-12-22T00:20:31.764613Z",
     "iopub.status.idle": "2023-12-22T00:20:32.560325Z",
     "shell.execute_reply": "2023-12-22T00:20:32.559238Z"
    },
    "executionInfo": {
     "elapsed": 1009,
     "status": "ok",
     "timestamp": 1699021073032,
     "user": {
      "displayName": "nick wils",
      "userId": "09906672494021070283"
     },
     "user_tz": -60
    },
    "id": "78c7a34c",
    "papermill": {
     "duration": 0.807121,
     "end_time": "2023-12-22T00:20:32.563201",
     "exception": false,
     "start_time": "2023-12-22T00:20:31.756080",
     "status": "completed"
    },
    "tags": []
   },
   "outputs": [],
   "source": [
    "import pandas as pd"
   ]
  },
  {
   "cell_type": "markdown",
   "id": "91775231",
   "metadata": {
    "papermill": {
     "duration": 0.007243,
     "end_time": "2023-12-22T00:20:32.578815",
     "exception": false,
     "start_time": "2023-12-22T00:20:32.571572",
     "status": "completed"
    },
    "tags": []
   },
   "source": [
    "# Read input files"
   ]
  },
  {
   "cell_type": "code",
   "execution_count": 4,
   "id": "3c3607c3",
   "metadata": {
    "execution": {
     "iopub.execute_input": "2023-12-22T00:20:32.595335Z",
     "iopub.status.busy": "2023-12-22T00:20:32.594372Z",
     "iopub.status.idle": "2023-12-22T00:20:38.875607Z",
     "shell.execute_reply": "2023-12-22T00:20:38.874707Z"
    },
    "executionInfo": {
     "elapsed": 10386,
     "status": "ok",
     "timestamp": 1699021083403,
     "user": {
      "displayName": "nick wils",
      "userId": "09906672494021070283"
     },
     "user_tz": -60
    },
    "id": "af847e1a",
    "outputId": "3cbfb68d-34ad-434e-8246-c093b7fedffd",
    "papermill": {
     "duration": 6.292087,
     "end_time": "2023-12-22T00:20:38.877942",
     "exception": false,
     "start_time": "2023-12-22T00:20:32.585855",
     "status": "completed"
    },
    "tags": []
   },
   "outputs": [
    {
     "name": "stdout",
     "output_type": "stream",
     "text": [
      "CPU times: user 3.53 s, sys: 4.2 s, total: 7.73 s\n",
      "Wall time: 6.27 s\n"
     ]
    }
   ],
   "source": [
    "%%time\n",
    "pad = \"/kaggle/input/makeparquet\"\n",
    "transactions = pd.read_parquet(pad+'/transactions_train.parquet')\n",
    "customers = pd.read_parquet(pad+'/customers.parquet')\n",
    "articles = pd.read_parquet(pad+'/articles.parquet')"
   ]
  },
  {
   "cell_type": "code",
   "execution_count": 5,
   "id": "a67347f2",
   "metadata": {
    "execution": {
     "iopub.execute_input": "2023-12-22T00:20:38.895010Z",
     "iopub.status.busy": "2023-12-22T00:20:38.894587Z",
     "iopub.status.idle": "2023-12-22T00:20:39.162471Z",
     "shell.execute_reply": "2023-12-22T00:20:39.161211Z"
    },
    "executionInfo": {
     "elapsed": 359,
     "status": "ok",
     "timestamp": 1699021083748,
     "user": {
      "displayName": "nick wils",
      "userId": "09906672494021070283"
     },
     "user_tz": -60
    },
    "id": "76f70d9a",
    "papermill": {
     "duration": 0.279677,
     "end_time": "2023-12-22T00:20:39.165173",
     "exception": false,
     "start_time": "2023-12-22T00:20:38.885496",
     "status": "completed"
    },
    "tags": []
   },
   "outputs": [],
   "source": [
    "test_week = transactions.week.max() + 1\n",
    "transactions = transactions[transactions.week > transactions.week.max() - 10]"
   ]
  },
  {
   "cell_type": "markdown",
   "id": "9dde0a20",
   "metadata": {
    "id": "5133081f",
    "papermill": {
     "duration": 0.007006,
     "end_time": "2023-12-22T00:20:39.179609",
     "exception": false,
     "start_time": "2023-12-22T00:20:39.172603",
     "status": "completed"
    },
    "tags": []
   },
   "source": [
    "# Generating bestseller"
   ]
  },
  {
   "cell_type": "code",
   "execution_count": 6,
   "id": "02b473f5",
   "metadata": {
    "execution": {
     "iopub.execute_input": "2023-12-22T00:20:39.201197Z",
     "iopub.status.busy": "2023-12-22T00:20:39.200668Z",
     "iopub.status.idle": "2023-12-22T00:20:39.305998Z",
     "shell.execute_reply": "2023-12-22T00:20:39.304448Z"
    },
    "executionInfo": {
     "elapsed": 27,
     "status": "ok",
     "timestamp": 1699021128070,
     "user": {
      "displayName": "nick wils",
      "userId": "09906672494021070283"
     },
     "user_tz": -60
    },
    "id": "a36be6fc",
    "outputId": "d760722c-fd93-4387-ec91-567d48918be5",
    "papermill": {
     "duration": 0.120895,
     "end_time": "2023-12-22T00:20:39.308671",
     "exception": false,
     "start_time": "2023-12-22T00:20:39.187776",
     "status": "completed"
    },
    "tags": []
   },
   "outputs": [
    {
     "data": {
      "text/html": [
       "<div>\n",
       "<style scoped>\n",
       "    .dataframe tbody tr th:only-of-type {\n",
       "        vertical-align: middle;\n",
       "    }\n",
       "\n",
       "    .dataframe tbody tr th {\n",
       "        vertical-align: top;\n",
       "    }\n",
       "\n",
       "    .dataframe thead th {\n",
       "        text-align: right;\n",
       "    }\n",
       "</style>\n",
       "<table border=\"1\" class=\"dataframe\">\n",
       "  <thead>\n",
       "    <tr style=\"text-align: right;\">\n",
       "      <th></th>\n",
       "      <th>min</th>\n",
       "      <th>max</th>\n",
       "    </tr>\n",
       "    <tr>\n",
       "      <th>week</th>\n",
       "      <th></th>\n",
       "      <th></th>\n",
       "    </tr>\n",
       "  </thead>\n",
       "  <tbody>\n",
       "    <tr>\n",
       "      <th>95</th>\n",
       "      <td>2020-07-15</td>\n",
       "      <td>2020-07-21</td>\n",
       "    </tr>\n",
       "    <tr>\n",
       "      <th>96</th>\n",
       "      <td>2020-07-22</td>\n",
       "      <td>2020-07-28</td>\n",
       "    </tr>\n",
       "    <tr>\n",
       "      <th>97</th>\n",
       "      <td>2020-07-29</td>\n",
       "      <td>2020-08-04</td>\n",
       "    </tr>\n",
       "    <tr>\n",
       "      <th>98</th>\n",
       "      <td>2020-08-05</td>\n",
       "      <td>2020-08-11</td>\n",
       "    </tr>\n",
       "    <tr>\n",
       "      <th>99</th>\n",
       "      <td>2020-08-12</td>\n",
       "      <td>2020-08-18</td>\n",
       "    </tr>\n",
       "    <tr>\n",
       "      <th>100</th>\n",
       "      <td>2020-08-19</td>\n",
       "      <td>2020-08-25</td>\n",
       "    </tr>\n",
       "    <tr>\n",
       "      <th>101</th>\n",
       "      <td>2020-08-26</td>\n",
       "      <td>2020-09-01</td>\n",
       "    </tr>\n",
       "    <tr>\n",
       "      <th>102</th>\n",
       "      <td>2020-09-02</td>\n",
       "      <td>2020-09-08</td>\n",
       "    </tr>\n",
       "    <tr>\n",
       "      <th>103</th>\n",
       "      <td>2020-09-09</td>\n",
       "      <td>2020-09-15</td>\n",
       "    </tr>\n",
       "    <tr>\n",
       "      <th>104</th>\n",
       "      <td>2020-09-16</td>\n",
       "      <td>2020-09-22</td>\n",
       "    </tr>\n",
       "  </tbody>\n",
       "</table>\n",
       "</div>"
      ],
      "text/plain": [
       "            min        max\n",
       "week                      \n",
       "95   2020-07-15 2020-07-21\n",
       "96   2020-07-22 2020-07-28\n",
       "97   2020-07-29 2020-08-04\n",
       "98   2020-08-05 2020-08-11\n",
       "99   2020-08-12 2020-08-18\n",
       "100  2020-08-19 2020-08-25\n",
       "101  2020-08-26 2020-09-01\n",
       "102  2020-09-02 2020-09-08\n",
       "103  2020-09-09 2020-09-15\n",
       "104  2020-09-16 2020-09-22"
      ]
     },
     "execution_count": 6,
     "metadata": {},
     "output_type": "execute_result"
    }
   ],
   "source": [
    "transactions.groupby('week')['t_dat'].agg(['min', 'max'])"
   ]
  },
  {
   "cell_type": "markdown",
   "id": "f68369e6",
   "metadata": {
    "id": "38ae3458",
    "papermill": {
     "duration": 0.007317,
     "end_time": "2023-12-22T00:20:39.323469",
     "exception": false,
     "start_time": "2023-12-22T00:20:39.316152",
     "status": "completed"
    },
    "tags": []
   },
   "source": [
    "### Bestsellers candidates"
   ]
  },
  {
   "cell_type": "code",
   "execution_count": 7,
   "id": "fc551ccf",
   "metadata": {
    "execution": {
     "iopub.execute_input": "2023-12-22T00:20:39.341182Z",
     "iopub.status.busy": "2023-12-22T00:20:39.340556Z",
     "iopub.status.idle": "2023-12-22T00:20:39.626833Z",
     "shell.execute_reply": "2023-12-22T00:20:39.625643Z"
    },
    "papermill": {
     "duration": 0.297922,
     "end_time": "2023-12-22T00:20:39.629477",
     "exception": false,
     "start_time": "2023-12-22T00:20:39.331555",
     "status": "completed"
    },
    "tags": []
   },
   "outputs": [],
   "source": [
    "mean_price = transactions \\\n",
    "    .groupby(['week', 'article_id'])['price'].mean()"
   ]
  },
  {
   "cell_type": "code",
   "execution_count": 8,
   "id": "72acf37d",
   "metadata": {
    "execution": {
     "iopub.execute_input": "2023-12-22T00:20:39.647314Z",
     "iopub.status.busy": "2023-12-22T00:20:39.646887Z",
     "iopub.status.idle": "2023-12-22T00:20:39.937487Z",
     "shell.execute_reply": "2023-12-22T00:20:39.936304Z"
    },
    "executionInfo": {
     "elapsed": 732,
     "status": "ok",
     "timestamp": 1699021150260,
     "user": {
      "displayName": "nick wils",
      "userId": "09906672494021070283"
     },
     "user_tz": -60
    },
    "id": "9a104ef9",
    "papermill": {
     "duration": 0.302816,
     "end_time": "2023-12-22T00:20:39.940300",
     "exception": false,
     "start_time": "2023-12-22T00:20:39.637484",
     "status": "completed"
    },
    "tags": []
   },
   "outputs": [],
   "source": [
    "sales = transactions \\\n",
    "    .groupby('week')['article_id'].value_counts() \\\n",
    "    .groupby('week').rank(method='dense', ascending=False) \\\n",
    "    .groupby('week').head(24).rename('bestseller_rank').astype('int8')"
   ]
  },
  {
   "cell_type": "code",
   "execution_count": 9,
   "id": "82644527",
   "metadata": {
    "execution": {
     "iopub.execute_input": "2023-12-22T00:20:39.957379Z",
     "iopub.status.busy": "2023-12-22T00:20:39.956586Z",
     "iopub.status.idle": "2023-12-22T00:20:40.000505Z",
     "shell.execute_reply": "2023-12-22T00:20:39.999364Z"
    },
    "executionInfo": {
     "elapsed": 14,
     "status": "ok",
     "timestamp": 1699021150262,
     "user": {
      "displayName": "nick wils",
      "userId": "09906672494021070283"
     },
     "user_tz": -60
    },
    "id": "20324cc0",
    "papermill": {
     "duration": 0.05549,
     "end_time": "2023-12-22T00:20:40.003182",
     "exception": false,
     "start_time": "2023-12-22T00:20:39.947692",
     "status": "completed"
    },
    "tags": []
   },
   "outputs": [],
   "source": [
    "bestsellers_previous_week2 = pd.merge(sales, mean_price, on=['week', 'article_id']).reset_index()\n",
    "bestsellers_previous_week2.week += 1"
   ]
  },
  {
   "cell_type": "code",
   "execution_count": 10,
   "id": "ea8a6b91",
   "metadata": {
    "execution": {
     "iopub.execute_input": "2023-12-22T00:20:40.023306Z",
     "iopub.status.busy": "2023-12-22T00:20:40.022888Z",
     "iopub.status.idle": "2023-12-22T00:20:40.039696Z",
     "shell.execute_reply": "2023-12-22T00:20:40.038657Z"
    },
    "executionInfo": {
     "elapsed": 13,
     "status": "ok",
     "timestamp": 1699021150262,
     "user": {
      "displayName": "nick wils",
      "userId": "09906672494021070283"
     },
     "user_tz": -60
    },
    "id": "b8447b19",
    "outputId": "b992d53d-c501-4be5-e373-7ed121335003",
    "papermill": {
     "duration": 0.027959,
     "end_time": "2023-12-22T00:20:40.041862",
     "exception": false,
     "start_time": "2023-12-22T00:20:40.013903",
     "status": "completed"
    },
    "tags": []
   },
   "outputs": [
    {
     "data": {
      "text/html": [
       "<div>\n",
       "<style scoped>\n",
       "    .dataframe tbody tr th:only-of-type {\n",
       "        vertical-align: middle;\n",
       "    }\n",
       "\n",
       "    .dataframe tbody tr th {\n",
       "        vertical-align: top;\n",
       "    }\n",
       "\n",
       "    .dataframe thead th {\n",
       "        text-align: right;\n",
       "    }\n",
       "</style>\n",
       "<table border=\"1\" class=\"dataframe\">\n",
       "  <thead>\n",
       "    <tr style=\"text-align: right;\">\n",
       "      <th></th>\n",
       "      <th>week</th>\n",
       "      <th>article_id</th>\n",
       "      <th>bestseller_rank</th>\n",
       "      <th>price</th>\n",
       "    </tr>\n",
       "  </thead>\n",
       "  <tbody>\n",
       "    <tr>\n",
       "      <th>0</th>\n",
       "      <td>96</td>\n",
       "      <td>760084003</td>\n",
       "      <td>1</td>\n",
       "      <td>0.025094</td>\n",
       "    </tr>\n",
       "    <tr>\n",
       "      <th>1</th>\n",
       "      <td>96</td>\n",
       "      <td>866731001</td>\n",
       "      <td>2</td>\n",
       "      <td>0.024919</td>\n",
       "    </tr>\n",
       "    <tr>\n",
       "      <th>2</th>\n",
       "      <td>96</td>\n",
       "      <td>600886001</td>\n",
       "      <td>3</td>\n",
       "      <td>0.022980</td>\n",
       "    </tr>\n",
       "    <tr>\n",
       "      <th>3</th>\n",
       "      <td>96</td>\n",
       "      <td>706016001</td>\n",
       "      <td>4</td>\n",
       "      <td>0.033197</td>\n",
       "    </tr>\n",
       "    <tr>\n",
       "      <th>4</th>\n",
       "      <td>96</td>\n",
       "      <td>372860002</td>\n",
       "      <td>5</td>\n",
       "      <td>0.013193</td>\n",
       "    </tr>\n",
       "    <tr>\n",
       "      <th>5</th>\n",
       "      <td>96</td>\n",
       "      <td>610776002</td>\n",
       "      <td>6</td>\n",
       "      <td>0.008318</td>\n",
       "    </tr>\n",
       "    <tr>\n",
       "      <th>6</th>\n",
       "      <td>96</td>\n",
       "      <td>877278002</td>\n",
       "      <td>7</td>\n",
       "      <td>0.025036</td>\n",
       "    </tr>\n",
       "    <tr>\n",
       "      <th>7</th>\n",
       "      <td>96</td>\n",
       "      <td>547780003</td>\n",
       "      <td>8</td>\n",
       "      <td>0.024814</td>\n",
       "    </tr>\n",
       "    <tr>\n",
       "      <th>8</th>\n",
       "      <td>96</td>\n",
       "      <td>817354001</td>\n",
       "      <td>9</td>\n",
       "      <td>0.021913</td>\n",
       "    </tr>\n",
       "    <tr>\n",
       "      <th>9</th>\n",
       "      <td>96</td>\n",
       "      <td>827968001</td>\n",
       "      <td>10</td>\n",
       "      <td>0.016436</td>\n",
       "    </tr>\n",
       "    <tr>\n",
       "      <th>10</th>\n",
       "      <td>96</td>\n",
       "      <td>866731003</td>\n",
       "      <td>11</td>\n",
       "      <td>0.024893</td>\n",
       "    </tr>\n",
       "    <tr>\n",
       "      <th>11</th>\n",
       "      <td>96</td>\n",
       "      <td>866383006</td>\n",
       "      <td>12</td>\n",
       "      <td>0.023195</td>\n",
       "    </tr>\n",
       "    <tr>\n",
       "      <th>12</th>\n",
       "      <td>96</td>\n",
       "      <td>717490064</td>\n",
       "      <td>13</td>\n",
       "      <td>0.008260</td>\n",
       "    </tr>\n",
       "    <tr>\n",
       "      <th>13</th>\n",
       "      <td>96</td>\n",
       "      <td>759871002</td>\n",
       "      <td>14</td>\n",
       "      <td>0.006181</td>\n",
       "    </tr>\n",
       "    <tr>\n",
       "      <th>14</th>\n",
       "      <td>96</td>\n",
       "      <td>880099001</td>\n",
       "      <td>15</td>\n",
       "      <td>0.016502</td>\n",
       "    </tr>\n",
       "    <tr>\n",
       "      <th>15</th>\n",
       "      <td>96</td>\n",
       "      <td>806388001</td>\n",
       "      <td>16</td>\n",
       "      <td>0.013307</td>\n",
       "    </tr>\n",
       "    <tr>\n",
       "      <th>16</th>\n",
       "      <td>96</td>\n",
       "      <td>372860001</td>\n",
       "      <td>17</td>\n",
       "      <td>0.013167</td>\n",
       "    </tr>\n",
       "    <tr>\n",
       "      <th>17</th>\n",
       "      <td>96</td>\n",
       "      <td>895002002</td>\n",
       "      <td>18</td>\n",
       "      <td>0.013114</td>\n",
       "    </tr>\n",
       "    <tr>\n",
       "      <th>18</th>\n",
       "      <td>96</td>\n",
       "      <td>824490001</td>\n",
       "      <td>19</td>\n",
       "      <td>0.030348</td>\n",
       "    </tr>\n",
       "    <tr>\n",
       "      <th>19</th>\n",
       "      <td>96</td>\n",
       "      <td>730683050</td>\n",
       "      <td>20</td>\n",
       "      <td>0.041582</td>\n",
       "    </tr>\n",
       "    <tr>\n",
       "      <th>20</th>\n",
       "      <td>96</td>\n",
       "      <td>599580038</td>\n",
       "      <td>21</td>\n",
       "      <td>0.015072</td>\n",
       "    </tr>\n",
       "    <tr>\n",
       "      <th>21</th>\n",
       "      <td>96</td>\n",
       "      <td>610776001</td>\n",
       "      <td>22</td>\n",
       "      <td>0.008237</td>\n",
       "    </tr>\n",
       "    <tr>\n",
       "      <th>22</th>\n",
       "      <td>96</td>\n",
       "      <td>559616013</td>\n",
       "      <td>23</td>\n",
       "      <td>0.022949</td>\n",
       "    </tr>\n",
       "    <tr>\n",
       "      <th>23</th>\n",
       "      <td>96</td>\n",
       "      <td>751471001</td>\n",
       "      <td>24</td>\n",
       "      <td>0.033261</td>\n",
       "    </tr>\n",
       "  </tbody>\n",
       "</table>\n",
       "</div>"
      ],
      "text/plain": [
       "    week  article_id  bestseller_rank     price\n",
       "0     96   760084003                1  0.025094\n",
       "1     96   866731001                2  0.024919\n",
       "2     96   600886001                3  0.022980\n",
       "3     96   706016001                4  0.033197\n",
       "4     96   372860002                5  0.013193\n",
       "5     96   610776002                6  0.008318\n",
       "6     96   877278002                7  0.025036\n",
       "7     96   547780003                8  0.024814\n",
       "8     96   817354001                9  0.021913\n",
       "9     96   827968001               10  0.016436\n",
       "10    96   866731003               11  0.024893\n",
       "11    96   866383006               12  0.023195\n",
       "12    96   717490064               13  0.008260\n",
       "13    96   759871002               14  0.006181\n",
       "14    96   880099001               15  0.016502\n",
       "15    96   806388001               16  0.013307\n",
       "16    96   372860001               17  0.013167\n",
       "17    96   895002002               18  0.013114\n",
       "18    96   824490001               19  0.030348\n",
       "19    96   730683050               20  0.041582\n",
       "20    96   599580038               21  0.015072\n",
       "21    96   610776001               22  0.008237\n",
       "22    96   559616013               23  0.022949\n",
       "23    96   751471001               24  0.033261"
      ]
     },
     "execution_count": 10,
     "metadata": {},
     "output_type": "execute_result"
    }
   ],
   "source": [
    "bestsellers_previous_week2.pipe(lambda df: df[df['week']==96])"
   ]
  },
  {
   "cell_type": "code",
   "execution_count": 11,
   "id": "28c6a084",
   "metadata": {
    "execution": {
     "iopub.execute_input": "2023-12-22T00:20:40.059813Z",
     "iopub.status.busy": "2023-12-22T00:20:40.059179Z",
     "iopub.status.idle": "2023-12-22T00:20:40.072761Z",
     "shell.execute_reply": "2023-12-22T00:20:40.071503Z"
    },
    "papermill": {
     "duration": 0.024888,
     "end_time": "2023-12-22T00:20:40.074976",
     "exception": false,
     "start_time": "2023-12-22T00:20:40.050088",
     "status": "completed"
    },
    "tags": []
   },
   "outputs": [
    {
     "data": {
      "text/html": [
       "<div>\n",
       "<style scoped>\n",
       "    .dataframe tbody tr th:only-of-type {\n",
       "        vertical-align: middle;\n",
       "    }\n",
       "\n",
       "    .dataframe tbody tr th {\n",
       "        vertical-align: top;\n",
       "    }\n",
       "\n",
       "    .dataframe thead th {\n",
       "        text-align: right;\n",
       "    }\n",
       "</style>\n",
       "<table border=\"1\" class=\"dataframe\">\n",
       "  <thead>\n",
       "    <tr style=\"text-align: right;\">\n",
       "      <th></th>\n",
       "      <th>week</th>\n",
       "      <th>article_id</th>\n",
       "      <th>bestseller_rank</th>\n",
       "      <th>price</th>\n",
       "    </tr>\n",
       "  </thead>\n",
       "  <tbody>\n",
       "    <tr>\n",
       "      <th>0</th>\n",
       "      <td>96</td>\n",
       "      <td>760084003</td>\n",
       "      <td>1</td>\n",
       "      <td>0.025094</td>\n",
       "    </tr>\n",
       "    <tr>\n",
       "      <th>1</th>\n",
       "      <td>96</td>\n",
       "      <td>866731001</td>\n",
       "      <td>2</td>\n",
       "      <td>0.024919</td>\n",
       "    </tr>\n",
       "    <tr>\n",
       "      <th>2</th>\n",
       "      <td>96</td>\n",
       "      <td>600886001</td>\n",
       "      <td>3</td>\n",
       "      <td>0.022980</td>\n",
       "    </tr>\n",
       "    <tr>\n",
       "      <th>3</th>\n",
       "      <td>96</td>\n",
       "      <td>706016001</td>\n",
       "      <td>4</td>\n",
       "      <td>0.033197</td>\n",
       "    </tr>\n",
       "    <tr>\n",
       "      <th>4</th>\n",
       "      <td>96</td>\n",
       "      <td>372860002</td>\n",
       "      <td>5</td>\n",
       "      <td>0.013193</td>\n",
       "    </tr>\n",
       "    <tr>\n",
       "      <th>...</th>\n",
       "      <td>...</td>\n",
       "      <td>...</td>\n",
       "      <td>...</td>\n",
       "      <td>...</td>\n",
       "    </tr>\n",
       "    <tr>\n",
       "      <th>235</th>\n",
       "      <td>105</td>\n",
       "      <td>935541001</td>\n",
       "      <td>20</td>\n",
       "      <td>0.024353</td>\n",
       "    </tr>\n",
       "    <tr>\n",
       "      <th>236</th>\n",
       "      <td>105</td>\n",
       "      <td>934835001</td>\n",
       "      <td>20</td>\n",
       "      <td>0.024789</td>\n",
       "    </tr>\n",
       "    <tr>\n",
       "      <th>237</th>\n",
       "      <td>105</td>\n",
       "      <td>894780001</td>\n",
       "      <td>21</td>\n",
       "      <td>0.033416</td>\n",
       "    </tr>\n",
       "    <tr>\n",
       "      <th>238</th>\n",
       "      <td>105</td>\n",
       "      <td>673677002</td>\n",
       "      <td>22</td>\n",
       "      <td>0.024958</td>\n",
       "    </tr>\n",
       "    <tr>\n",
       "      <th>239</th>\n",
       "      <td>105</td>\n",
       "      <td>788575004</td>\n",
       "      <td>23</td>\n",
       "      <td>0.041971</td>\n",
       "    </tr>\n",
       "  </tbody>\n",
       "</table>\n",
       "<p>240 rows × 4 columns</p>\n",
       "</div>"
      ],
      "text/plain": [
       "     week  article_id  bestseller_rank     price\n",
       "0      96   760084003                1  0.025094\n",
       "1      96   866731001                2  0.024919\n",
       "2      96   600886001                3  0.022980\n",
       "3      96   706016001                4  0.033197\n",
       "4      96   372860002                5  0.013193\n",
       "..    ...         ...              ...       ...\n",
       "235   105   935541001               20  0.024353\n",
       "236   105   934835001               20  0.024789\n",
       "237   105   894780001               21  0.033416\n",
       "238   105   673677002               22  0.024958\n",
       "239   105   788575004               23  0.041971\n",
       "\n",
       "[240 rows x 4 columns]"
      ]
     },
     "execution_count": 11,
     "metadata": {},
     "output_type": "execute_result"
    }
   ],
   "source": [
    "bestsellers_previous_week2"
   ]
  },
  {
   "cell_type": "code",
   "execution_count": 12,
   "id": "989c1ed4",
   "metadata": {
    "execution": {
     "iopub.execute_input": "2023-12-22T00:20:40.093995Z",
     "iopub.status.busy": "2023-12-22T00:20:40.093341Z",
     "iopub.status.idle": "2023-12-22T00:20:40.101469Z",
     "shell.execute_reply": "2023-12-22T00:20:40.100143Z"
    },
    "id": "7e862846",
    "papermill": {
     "duration": 0.02089,
     "end_time": "2023-12-22T00:20:40.104131",
     "exception": false,
     "start_time": "2023-12-22T00:20:40.083241",
     "status": "completed"
    },
    "tags": []
   },
   "outputs": [
    {
     "name": "stdout",
     "output_type": "stream",
     "text": [
      "CPU times: user 2 µs, sys: 2 µs, total: 4 µs\n",
      "Wall time: 7.87 µs\n"
     ]
    }
   ],
   "source": [
    "%time\n",
    "\n",
    "bestsellers_last_week = \\\n",
    "    bestsellers_previous_week2[bestsellers_previous_week2.week == bestsellers_previous_week2.week.max()]['article_id'].tolist()"
   ]
  },
  {
   "cell_type": "markdown",
   "id": "8510e6d5",
   "metadata": {
    "id": "de045e98",
    "papermill": {
     "duration": 0.01579,
     "end_time": "2023-12-22T00:20:40.128002",
     "exception": false,
     "start_time": "2023-12-22T00:20:40.112212",
     "status": "completed"
    },
    "tags": []
   },
   "source": [
    "# Create submission"
   ]
  },
  {
   "cell_type": "code",
   "execution_count": 13,
   "id": "465076d9",
   "metadata": {
    "execution": {
     "iopub.execute_input": "2023-12-22T00:20:40.150130Z",
     "iopub.status.busy": "2023-12-22T00:20:40.149370Z",
     "iopub.status.idle": "2023-12-22T00:20:45.255254Z",
     "shell.execute_reply": "2023-12-22T00:20:45.254088Z"
    },
    "id": "43e4fda7",
    "papermill": {
     "duration": 5.118499,
     "end_time": "2023-12-22T00:20:45.258254",
     "exception": false,
     "start_time": "2023-12-22T00:20:40.139755",
     "status": "completed"
    },
    "tags": []
   },
   "outputs": [],
   "source": [
    "sub = pd.read_csv('/kaggle/input/h-and-m-personalized-fashion-recommendations/sample_submission.csv')"
   ]
  },
  {
   "cell_type": "markdown",
   "id": "f32ee481",
   "metadata": {
    "papermill": {
     "duration": 0.007982,
     "end_time": "2023-12-22T00:20:45.276067",
     "exception": false,
     "start_time": "2023-12-22T00:20:45.268085",
     "status": "completed"
    },
    "tags": []
   },
   "source": [
    "# Repurchase information"
   ]
  },
  {
   "cell_type": "code",
   "execution_count": 14,
   "id": "8e6a9786",
   "metadata": {
    "execution": {
     "iopub.execute_input": "2023-12-22T00:20:45.293700Z",
     "iopub.status.busy": "2023-12-22T00:20:45.293303Z",
     "iopub.status.idle": "2023-12-22T00:20:48.302864Z",
     "shell.execute_reply": "2023-12-22T00:20:48.301586Z"
    },
    "papermill": {
     "duration": 3.021403,
     "end_time": "2023-12-22T00:20:48.305422",
     "exception": false,
     "start_time": "2023-12-22T00:20:45.284019",
     "status": "completed"
    },
    "tags": []
   },
   "outputs": [],
   "source": [
    "latest_bought_articles = pd.read_csv('/kaggle/input/repurchase4weeks/repurchase4Weeks.csv')"
   ]
  },
  {
   "cell_type": "code",
   "execution_count": 15,
   "id": "2914ee6b",
   "metadata": {
    "execution": {
     "iopub.execute_input": "2023-12-22T00:20:48.324193Z",
     "iopub.status.busy": "2023-12-22T00:20:48.323809Z",
     "iopub.status.idle": "2023-12-22T00:20:50.246537Z",
     "shell.execute_reply": "2023-12-22T00:20:50.245319Z"
    },
    "papermill": {
     "duration": 1.934525,
     "end_time": "2023-12-22T00:20:50.249060",
     "exception": false,
     "start_time": "2023-12-22T00:20:48.314535",
     "status": "completed"
    },
    "tags": []
   },
   "outputs": [],
   "source": [
    "latest_bought_articles = latest_bought_articles.values.tolist()\n"
   ]
  },
  {
   "cell_type": "code",
   "execution_count": 16,
   "id": "7c151f0b",
   "metadata": {
    "execution": {
     "iopub.execute_input": "2023-12-22T00:20:50.266898Z",
     "iopub.status.busy": "2023-12-22T00:20:50.266503Z",
     "iopub.status.idle": "2023-12-22T00:20:50.272724Z",
     "shell.execute_reply": "2023-12-22T00:20:50.271961Z"
    },
    "papermill": {
     "duration": 0.018285,
     "end_time": "2023-12-22T00:20:50.275521",
     "exception": false,
     "start_time": "2023-12-22T00:20:50.257236",
     "status": "completed"
    },
    "tags": []
   },
   "outputs": [
    {
     "data": {
      "text/plain": [
       "[924243001,\n",
       " 924243002,\n",
       " 918522001,\n",
       " 923758001,\n",
       " 866731001,\n",
       " 909370001,\n",
       " 751471001,\n",
       " 915529003,\n",
       " 915529005,\n",
       " 448509014,\n",
       " 762846027,\n",
       " 714790020,\n",
       " 918292001,\n",
       " 865799006,\n",
       " 850917001,\n",
       " 929275001,\n",
       " 896169005,\n",
       " 919273002,\n",
       " 889550002,\n",
       " 935541001,\n",
       " 934835001,\n",
       " 894780001,\n",
       " 673677002,\n",
       " 788575004]"
      ]
     },
     "execution_count": 16,
     "metadata": {},
     "output_type": "execute_result"
    }
   ],
   "source": [
    "bestsellers_last_week"
   ]
  },
  {
   "cell_type": "markdown",
   "id": "3ac7e4ed",
   "metadata": {
    "papermill": {
     "duration": 0.008815,
     "end_time": "2023-12-22T00:20:50.292982",
     "exception": false,
     "start_time": "2023-12-22T00:20:50.284167",
     "status": "completed"
    },
    "tags": []
   },
   "source": [
    "# combine bestseller and repurchase"
   ]
  },
  {
   "cell_type": "code",
   "execution_count": 17,
   "id": "124df721",
   "metadata": {
    "execution": {
     "iopub.execute_input": "2023-12-22T00:20:50.311873Z",
     "iopub.status.busy": "2023-12-22T00:20:50.311221Z",
     "iopub.status.idle": "2023-12-22T00:21:10.478797Z",
     "shell.execute_reply": "2023-12-22T00:21:10.477670Z"
    },
    "papermill": {
     "duration": 20.180393,
     "end_time": "2023-12-22T00:21:10.481635",
     "exception": false,
     "start_time": "2023-12-22T00:20:50.301242",
     "status": "completed"
    },
    "tags": []
   },
   "outputs": [],
   "source": [
    "for i in range(len(latest_bought_articles)):\n",
    "    temp = []\n",
    "    for j in range(len(latest_bought_articles[i])):\n",
    "        if latest_bought_articles[i][j]!=0:\n",
    "            temp.append(latest_bought_articles[i][j])\n",
    "        else:\n",
    "            for k in bestsellers_last_week:\n",
    "                if k not in temp:\n",
    "                    temp.append(k)\n",
    "                    latest_bought_articles[i][j]=k\n",
    "                    break\n",
    "\n",
    "            "
   ]
  },
  {
   "cell_type": "code",
   "execution_count": 18,
   "id": "b3ce6409",
   "metadata": {
    "execution": {
     "iopub.execute_input": "2023-12-22T00:21:10.501468Z",
     "iopub.status.busy": "2023-12-22T00:21:10.501042Z",
     "iopub.status.idle": "2023-12-22T00:21:10.506567Z",
     "shell.execute_reply": "2023-12-22T00:21:10.505361Z"
    },
    "papermill": {
     "duration": 0.018975,
     "end_time": "2023-12-22T00:21:10.509510",
     "exception": false,
     "start_time": "2023-12-22T00:21:10.490535",
     "status": "completed"
    },
    "tags": []
   },
   "outputs": [
    {
     "name": "stdout",
     "output_type": "stream",
     "text": [
      "[[568601043, 924243001, 924243002, 918522001, 923758001, 866731001, 909370001, 751471001, 915529003, 915529005, 448509014, 762846027], [924243001, 924243002, 918522001, 923758001, 866731001, 909370001, 751471001, 915529003, 915529005, 448509014, 762846027, 714790020], [794321007, 924243001, 924243002, 918522001, 923758001, 866731001, 909370001, 751471001, 915529003, 915529005, 448509014, 762846027]]\n"
     ]
    }
   ],
   "source": [
    "print(latest_bought_articles[:3])"
   ]
  },
  {
   "cell_type": "code",
   "execution_count": 19,
   "id": "c7ff7265",
   "metadata": {
    "execution": {
     "iopub.execute_input": "2023-12-22T00:21:10.528009Z",
     "iopub.status.busy": "2023-12-22T00:21:10.527591Z",
     "iopub.status.idle": "2023-12-22T00:21:15.544744Z",
     "shell.execute_reply": "2023-12-22T00:21:15.543656Z"
    },
    "id": "3f8f9304",
    "papermill": {
     "duration": 5.029346,
     "end_time": "2023-12-22T00:21:15.547215",
     "exception": false,
     "start_time": "2023-12-22T00:21:10.517869",
     "status": "completed"
    },
    "tags": []
   },
   "outputs": [],
   "source": [
    "preds = [' '.join(['0' + str(p) for p in ps]) for ps in latest_bought_articles]\n",
    "sub.prediction = preds"
   ]
  },
  {
   "cell_type": "code",
   "execution_count": 20,
   "id": "c1068e41",
   "metadata": {
    "execution": {
     "iopub.execute_input": "2023-12-22T00:21:15.568700Z",
     "iopub.status.busy": "2023-12-22T00:21:15.568007Z",
     "iopub.status.idle": "2023-12-22T00:21:37.595579Z",
     "shell.execute_reply": "2023-12-22T00:21:37.594126Z"
    },
    "id": "62d8338d",
    "papermill": {
     "duration": 22.040808,
     "end_time": "2023-12-22T00:21:37.598052",
     "exception": false,
     "start_time": "2023-12-22T00:21:15.557244",
     "status": "completed"
    },
    "tags": []
   },
   "outputs": [],
   "source": [
    "sub_name = 'bestseller_repurchas_submission'\n",
    "sub.to_csv(f'{sub_name}.csv.gz', index=False)"
   ]
  }
 ],
 "metadata": {
  "kaggle": {
   "accelerator": "none",
   "dataSources": [
    {
     "databundleVersionId": 3103714,
     "sourceId": 31254,
     "sourceType": "competition"
    },
    {
     "sourceId": 149573710,
     "sourceType": "kernelVersion"
    },
    {
     "sourceId": 149747734,
     "sourceType": "kernelVersion"
    },
    {
     "sourceId": 151594135,
     "sourceType": "kernelVersion"
    }
   ],
   "dockerImageVersionId": 30558,
   "isGpuEnabled": false,
   "isInternetEnabled": true,
   "language": "python",
   "sourceType": "notebook"
  },
  "kernelspec": {
   "display_name": "Python 3",
   "language": "python",
   "name": "python3"
  },
  "language_info": {
   "codemirror_mode": {
    "name": "ipython",
    "version": 3
   },
   "file_extension": ".py",
   "mimetype": "text/x-python",
   "name": "python",
   "nbconvert_exporter": "python",
   "pygments_lexer": "ipython3",
   "version": "3.10.12"
  },
  "papermill": {
   "default_parameters": {},
   "duration": 72.155639,
   "end_time": "2023-12-22T00:21:38.631542",
   "environment_variables": {},
   "exception": null,
   "input_path": "__notebook__.ipynb",
   "output_path": "__notebook__.ipynb",
   "parameters": {},
   "start_time": "2023-12-22T00:20:26.475903",
   "version": "2.4.0"
  }
 },
 "nbformat": 4,
 "nbformat_minor": 5
}
