{
 "cells": [
  {
   "cell_type": "markdown",
   "id": "ed89d3db",
   "metadata": {
    "papermill": {
     "duration": 0.010216,
     "end_time": "2023-12-22T00:59:13.735787",
     "exception": false,
     "start_time": "2023-12-22T00:59:13.725571",
     "status": "completed"
    },
    "tags": []
   },
   "source": [
    "# Popularity with repurchase information for woman/men/baby accounts"
   ]
  },
  {
   "cell_type": "markdown",
   "id": "8328d1af",
   "metadata": {
    "papermill": {
     "duration": 0.00731,
     "end_time": "2023-12-22T00:59:13.751381",
     "exception": false,
     "start_time": "2023-12-22T00:59:13.744071",
     "status": "completed"
    },
    "tags": []
   },
   "source": [
    "# Read input data"
   ]
  },
  {
   "cell_type": "code",
   "execution_count": 1,
   "id": "75e86410",
   "metadata": {
    "execution": {
     "iopub.execute_input": "2023-12-22T00:59:13.769056Z",
     "iopub.status.busy": "2023-12-22T00:59:13.767691Z",
     "iopub.status.idle": "2023-12-22T00:59:20.679927Z",
     "shell.execute_reply": "2023-12-22T00:59:20.678585Z"
    },
    "papermill": {
     "duration": 6.923671,
     "end_time": "2023-12-22T00:59:20.682457",
     "exception": false,
     "start_time": "2023-12-22T00:59:13.758786",
     "status": "completed"
    },
    "tags": []
   },
   "outputs": [
    {
     "name": "stdout",
     "output_type": "stream",
     "text": [
      "CPU times: user 3.91 s, sys: 3.79 s, total: 7.7 s\n",
      "Wall time: 6.9 s\n"
     ]
    }
   ],
   "source": [
    "%%time\n",
    "import pandas as pd\n",
    "pad = \"/kaggle/input/makeparquet\"\n",
    "transactions = pd.read_parquet(pad+'/transactions_train.parquet')\n",
    "customers = pd.read_parquet(pad+'/customers.parquet')\n",
    "articles = pd.read_parquet(pad+'/articles.parquet')"
   ]
  },
  {
   "cell_type": "markdown",
   "id": "d70d61a3",
   "metadata": {
    "papermill": {
     "duration": 0.007688,
     "end_time": "2023-12-22T00:59:20.697636",
     "exception": false,
     "start_time": "2023-12-22T00:59:20.689948",
     "status": "completed"
    },
    "tags": []
   },
   "source": [
    "# Helper functions from Radek's LGBMRanker starter-pack"
   ]
  },
  {
   "cell_type": "code",
   "execution_count": 2,
   "id": "07dc02b4",
   "metadata": {
    "execution": {
     "iopub.execute_input": "2023-12-22T00:59:20.714563Z",
     "iopub.status.busy": "2023-12-22T00:59:20.714039Z",
     "iopub.status.idle": "2023-12-22T00:59:21.981084Z",
     "shell.execute_reply": "2023-12-22T00:59:21.980228Z"
    },
    "papermill": {
     "duration": 1.278688,
     "end_time": "2023-12-22T00:59:21.983794",
     "exception": false,
     "start_time": "2023-12-22T00:59:20.705106",
     "status": "completed"
    },
    "tags": []
   },
   "outputs": [],
   "source": [
    "from sklearn.base import BaseEstimator, TransformerMixin\n",
    "import numpy as np\n",
    "\n",
    "# https://www.kaggle.com/c/h-and-m-personalized-fashion-recommendations/discussion/308635\n",
    "def customer_hex_id_to_int(series):\n",
    "    return series.str[-16:].apply(hex_id_to_int)\n",
    "\n",
    "def hex_id_to_int(str):\n",
    "    return int(str[-16:], 16)\n",
    "\n",
    "def article_id_str_to_int(series):\n",
    "    return series.astype('int32')\n",
    "\n",
    "def article_id_int_to_str(series):\n",
    "    return '0' + series.astype('str')\n",
    "\n",
    "class Categorize(BaseEstimator, TransformerMixin):\n",
    "    def __init__(self, min_examples=0):\n",
    "        self.min_examples = min_examples\n",
    "        self.categories = []\n",
    "\n",
    "    def fit(self, X):\n",
    "        for i in range(X.shape[1]):\n",
    "            vc = X.iloc[:, i].value_counts()\n",
    "            self.categories.append(vc[vc > self.min_examples].index.tolist())\n",
    "        return self\n",
    "\n",
    "    def transform(self, X):\n",
    "        data = {X.columns[i]: pd.Categorical(X.iloc[:, i], categories=self.categories[i]).codes for i in range(X.shape[1])}\n",
    "        return pd.DataFrame(data=data)\n",
    "\n",
    "\n",
    "def calculate_apk(list_of_preds, list_of_gts):\n",
    "    # for fast validation this can be changed to operate on dicts of {'cust_id_int': [art_id_int, ...]}\n",
    "    # using 'data/val_week_purchases_by_cust.pkl'\n",
    "    apks = []\n",
    "    for preds, gt in zip(list_of_preds, list_of_gts):\n",
    "        apks.append(apk(gt, preds, k=12))\n",
    "    return np.mean(apks)\n",
    "\n",
    "def eval_sub(sub_csv, skip_cust_with_no_purchases=True):\n",
    "    sub=pd.read_csv(sub_csv)\n",
    "    validation_set=pd.read_parquet('data/validation_ground_truth.parquet')\n",
    "\n",
    "    apks = []\n",
    "\n",
    "    no_purchases_pattern = []\n",
    "    for pred, gt in zip(sub.prediction.str.split(), validation_set.prediction.str.split()):\n",
    "        if skip_cust_with_no_purchases and (gt == no_purchases_pattern): continue\n",
    "        apks.append(apk(gt, pred, k=12))\n",
    "    return np.mean(apks)"
   ]
  },
  {
   "cell_type": "markdown",
   "id": "8e9bf88e",
   "metadata": {
    "papermill": {
     "duration": 0.006998,
     "end_time": "2023-12-22T00:59:21.998241",
     "exception": false,
     "start_time": "2023-12-22T00:59:21.991243",
     "status": "completed"
    },
    "tags": []
   },
   "source": [
    "# get last week information"
   ]
  },
  {
   "cell_type": "code",
   "execution_count": 3,
   "id": "31fba749",
   "metadata": {
    "execution": {
     "iopub.execute_input": "2023-12-22T00:59:22.015849Z",
     "iopub.status.busy": "2023-12-22T00:59:22.015474Z",
     "iopub.status.idle": "2023-12-22T00:59:32.756811Z",
     "shell.execute_reply": "2023-12-22T00:59:32.755682Z"
    },
    "papermill": {
     "duration": 10.753444,
     "end_time": "2023-12-22T00:59:32.759632",
     "exception": false,
     "start_time": "2023-12-22T00:59:22.006188",
     "status": "completed"
    },
    "tags": []
   },
   "outputs": [],
   "source": [
    "# Step 1: Merge transactions with selected columns from customers\n",
    "selected_columns = ['customer_id', 'buys_kid_baby_clothes', 'buys_mens_clothes', 'buys_womens_clothing']\n",
    "merged_data = pd.merge(transactions, customers[selected_columns], on='customer_id', how='inner')\n",
    "\n",
    "# Step 2: Filter transactions for the last week\n",
    "last_week_transactions = merged_data[merged_data['week'] >= merged_data['week'].max()]\n",
    "# last_10week_transactions = merged_data[merged_data['week'] >= merged_data['week'].max()-9]"
   ]
  },
  {
   "cell_type": "markdown",
   "id": "4e44631f",
   "metadata": {
    "papermill": {
     "duration": 0.007112,
     "end_time": "2023-12-22T00:59:32.774162",
     "exception": false,
     "start_time": "2023-12-22T00:59:32.767050",
     "status": "completed"
    },
    "tags": []
   },
   "source": [
    "# Split transactions based on conditions"
   ]
  },
  {
   "cell_type": "code",
   "execution_count": 4,
   "id": "112ad393",
   "metadata": {
    "execution": {
     "iopub.execute_input": "2023-12-22T00:59:32.791070Z",
     "iopub.status.busy": "2023-12-22T00:59:32.790583Z",
     "iopub.status.idle": "2023-12-22T00:59:32.827751Z",
     "shell.execute_reply": "2023-12-22T00:59:32.826450Z"
    },
    "papermill": {
     "duration": 0.049123,
     "end_time": "2023-12-22T00:59:32.830733",
     "exception": false,
     "start_time": "2023-12-22T00:59:32.781610",
     "status": "completed"
    },
    "tags": []
   },
   "outputs": [],
   "source": [
    "import pandas as pd\n",
    "\n",
    "\n",
    "# Condition 1: buys_kid_baby_clothes=1\n",
    "condition_1 = last_week_transactions[last_week_transactions['buys_kid_baby_clothes'] == 1]\n",
    "\n",
    "# Condition 2: buys_kid_baby_clothes=0 and buys_mens_clothes=0 and buys_womens_clothing=1\n",
    "condition_2 = last_week_transactions[\n",
    "    (last_week_transactions['buys_kid_baby_clothes'] == 0) &\n",
    "    (last_week_transactions['buys_mens_clothes'] == 0) &\n",
    "    (last_week_transactions['buys_womens_clothing'] == 1)\n",
    "]\n",
    "\n",
    "# Condition 3: buys_kid_baby_clothes=0 and buys_mens_clothes=1 and buys_womens_clothing=0\n",
    "condition_3 = last_week_transactions[\n",
    "    (last_week_transactions['buys_kid_baby_clothes'] == 0) &\n",
    "    (last_week_transactions['buys_mens_clothes'] == 1) &\n",
    "    (last_week_transactions['buys_womens_clothing'] == 0)\n",
    "]\n",
    "\n",
    "# Condition 4: The rest of the transactions\n",
    "condition_4 = last_week_transactions[\n",
    "    ~((last_week_transactions['buys_kid_baby_clothes'] == 1) |\n",
    "      ((last_week_transactions['buys_kid_baby_clothes'] == 0) &\n",
    "       (last_week_transactions['buys_mens_clothes'] == 0) &\n",
    "       (last_week_transactions['buys_womens_clothing'] == 1)) |\n",
    "      ((last_week_transactions['buys_kid_baby_clothes'] == 0) &\n",
    "       (last_week_transactions['buys_mens_clothes'] == 1) &\n",
    "       (last_week_transactions['buys_womens_clothing'] == 0)))\n",
    "]\n"
   ]
  },
  {
   "cell_type": "markdown",
   "id": "11a7c0ce",
   "metadata": {
    "execution": {
     "iopub.execute_input": "2023-11-21T18:39:35.912566Z",
     "iopub.status.busy": "2023-11-21T18:39:35.912229Z",
     "iopub.status.idle": "2023-11-21T18:39:35.915815Z",
     "shell.execute_reply": "2023-11-21T18:39:35.915076Z",
     "shell.execute_reply.started": "2023-11-21T18:39:35.912546Z"
    },
    "papermill": {
     "duration": 0.007198,
     "end_time": "2023-12-22T00:59:32.845400",
     "exception": false,
     "start_time": "2023-12-22T00:59:32.838202",
     "status": "completed"
    },
    "tags": []
   },
   "source": [
    "# Get popularity for each condition"
   ]
  },
  {
   "cell_type": "code",
   "execution_count": 5,
   "id": "2335de2d",
   "metadata": {
    "execution": {
     "iopub.execute_input": "2023-12-22T00:59:32.862250Z",
     "iopub.status.busy": "2023-12-22T00:59:32.861785Z",
     "iopub.status.idle": "2023-12-22T00:59:32.918499Z",
     "shell.execute_reply": "2023-12-22T00:59:32.917162Z"
    },
    "papermill": {
     "duration": 0.068347,
     "end_time": "2023-12-22T00:59:32.921242",
     "exception": false,
     "start_time": "2023-12-22T00:59:32.852895",
     "status": "completed"
    },
    "tags": []
   },
   "outputs": [
    {
     "name": "stdout",
     "output_type": "stream",
     "text": [
      "[924243001, 918522001, 924243002, 923758001, 866731001, 915529003, 909370001, 915529005, 751471001, 918292001, 762846027, 448509014]\n"
     ]
    }
   ],
   "source": [
    "import pandas as pd\n",
    "\n",
    "\n",
    "# Step 1: Group transactions by 'article_id' and count unique 'customer_id'\n",
    "article_customer_countold = last_week_transactions.groupby('article_id')['customer_id'].nunique().reset_index(name='customer_count')\n",
    "\n",
    "# Step 2: Sort articles based on customer count in descending order\n",
    "sorted_articlesold = article_customer_countold.sort_values(by='customer_count', ascending=False)\n",
    "\n",
    "# Step 3: Take the top 12 articles\n",
    "top_12_articlesold = sorted_articlesold.head(12)\n",
    "top_12_articlesold= (top_12_articlesold.article_id.to_list())\n",
    "# Display the result\n",
    "print(top_12_articlesold)"
   ]
  },
  {
   "cell_type": "code",
   "execution_count": 6,
   "id": "e80a2a6c",
   "metadata": {
    "execution": {
     "iopub.execute_input": "2023-12-22T00:59:32.938396Z",
     "iopub.status.busy": "2023-12-22T00:59:32.937962Z",
     "iopub.status.idle": "2023-12-22T00:59:32.965162Z",
     "shell.execute_reply": "2023-12-22T00:59:32.963969Z"
    },
    "papermill": {
     "duration": 0.039057,
     "end_time": "2023-12-22T00:59:32.967990",
     "exception": false,
     "start_time": "2023-12-22T00:59:32.928933",
     "status": "completed"
    },
    "tags": []
   },
   "outputs": [
    {
     "name": "stdout",
     "output_type": "stream",
     "text": [
      "[924243001, 909370001, 924243002, 923758001, 915529003, 889550002, 935541001, 915529005, 918522001, 919273002, 928206001, 865799006]\n"
     ]
    }
   ],
   "source": [
    "import pandas as pd\n",
    "\n",
    "\n",
    "# Step 1: Group transactions by 'article_id' and count unique 'customer_id'\n",
    "article_customer_count1 = condition_1.groupby('article_id')['customer_id'].nunique().reset_index(name='customer_count')\n",
    "\n",
    "# Step 2: Sort articles based on customer count in descending order\n",
    "sorted_articles1 = article_customer_count1.sort_values(by='customer_count', ascending=False)\n",
    "\n",
    "# Step 3: Take the top 12 articles\n",
    "top_12_articles1 = sorted_articles1.head(12)\n",
    "top_12_articles1= (top_12_articles1.article_id.to_list())\n",
    "# Display the result\n",
    "print(top_12_articles1)"
   ]
  },
  {
   "cell_type": "code",
   "execution_count": 7,
   "id": "86374ce7",
   "metadata": {
    "execution": {
     "iopub.execute_input": "2023-12-22T00:59:32.985195Z",
     "iopub.status.busy": "2023-12-22T00:59:32.984516Z",
     "iopub.status.idle": "2023-12-22T00:59:32.996056Z",
     "shell.execute_reply": "2023-12-22T00:59:32.994696Z"
    },
    "papermill": {
     "duration": 0.022991,
     "end_time": "2023-12-22T00:59:32.998592",
     "exception": false,
     "start_time": "2023-12-22T00:59:32.975601",
     "status": "completed"
    },
    "tags": []
   },
   "outputs": [
    {
     "name": "stdout",
     "output_type": "stream",
     "text": [
      "[866731001, 918292001, 852584001, 791587001, 918292004, 730683050, 714790020, 804992014, 856270002, 868823008, 804992017, 809961002]\n"
     ]
    }
   ],
   "source": [
    "import pandas as pd\n",
    "\n",
    "\n",
    "# Step 1: Group transactions by 'article_id' and count unique 'customer_id'\n",
    "article_customer_count2 = condition_2.groupby('article_id')['customer_id'].nunique().reset_index(name='customer_count')\n",
    "\n",
    "# Step 2: Sort articles based on customer count in descending order\n",
    "sorted_articles2 = article_customer_count2.sort_values(by='customer_count', ascending=False)\n",
    "\n",
    "# Step 3: Take the top 12 articles\n",
    "top_12_articles2 = sorted_articles2.head(12)\n",
    "top_12_articles2= (top_12_articles2.article_id.to_list())\n",
    "\n",
    "# Display the result\n",
    "print(top_12_articles2)"
   ]
  },
  {
   "cell_type": "code",
   "execution_count": 8,
   "id": "f920c6ee",
   "metadata": {
    "execution": {
     "iopub.execute_input": "2023-12-22T00:59:33.016094Z",
     "iopub.status.busy": "2023-12-22T00:59:33.015380Z",
     "iopub.status.idle": "2023-12-22T00:59:33.024884Z",
     "shell.execute_reply": "2023-12-22T00:59:33.024028Z"
    },
    "papermill": {
     "duration": 0.020991,
     "end_time": "2023-12-22T00:59:33.027212",
     "exception": false,
     "start_time": "2023-12-22T00:59:33.006221",
     "status": "completed"
    },
    "tags": []
   },
   "outputs": [
    {
     "name": "stdout",
     "output_type": "stream",
     "text": [
      "[685814001, 685814063, 685814003, 685813003, 720504010, 685813001, 685814022, 685813037, 685814033, 864562001, 720504008, 763988004]\n"
     ]
    }
   ],
   "source": [
    "import pandas as pd\n",
    "\n",
    "\n",
    "# Step 1: Group transactions by 'article_id' and count unique 'customer_id'\n",
    "article_customer_count3 = condition_3.groupby('article_id')['customer_id'].nunique().reset_index(name='customer_count')\n",
    "\n",
    "# Step 2: Sort articles based on customer count in descending order\n",
    "sorted_articles3 = article_customer_count3.sort_values(by='customer_count', ascending=False)\n",
    "\n",
    "# Step 3: Take the top 12 articles\n",
    "top_12_articles3 = sorted_articles3.head(12)\n",
    "top_12_articles3= (top_12_articles3.article_id.to_list())\n",
    "\n",
    "# Display the result\n",
    "print(top_12_articles3)"
   ]
  },
  {
   "cell_type": "code",
   "execution_count": 9,
   "id": "50b3ff2b",
   "metadata": {
    "_cell_guid": "b1076dfc-b9ad-4769-8c92-a6c4dae69d19",
    "_uuid": "8f2839f25d086af736a60e9eeb907d3b93b6e0e5",
    "execution": {
     "iopub.execute_input": "2023-12-22T00:59:33.045596Z",
     "iopub.status.busy": "2023-12-22T00:59:33.044650Z",
     "iopub.status.idle": "2023-12-22T00:59:33.099097Z",
     "shell.execute_reply": "2023-12-22T00:59:33.097898Z"
    },
    "papermill": {
     "duration": 0.066035,
     "end_time": "2023-12-22T00:59:33.101487",
     "exception": false,
     "start_time": "2023-12-22T00:59:33.035452",
     "status": "completed"
    },
    "tags": []
   },
   "outputs": [
    {
     "name": "stdout",
     "output_type": "stream",
     "text": [
      "[924243001, 918522001, 924243002, 923758001, 866731001, 915529003, 909370001, 915529005, 751471001, 918292001, 762846027, 448509014]\n"
     ]
    }
   ],
   "source": [
    "\n",
    "import pandas as pd\n",
    "\n",
    "\n",
    "# Step 1: Group transactions by 'article_id' and count unique 'customer_id'\n",
    "article_customer_count4 = last_week_transactions.groupby('article_id')['customer_id'].nunique().reset_index(name='customer_count')\n",
    "\n",
    "# Step 2: Sort articles based on customer count in descending order\n",
    "sorted_articles4 = article_customer_count4.sort_values(by='customer_count', ascending=False)\n",
    "\n",
    "# Step 3: Take the top 12 articles\n",
    "top_12_articles4 = sorted_articles4.head(12)\n",
    "top_12_articles4= (top_12_articles4.article_id.to_list())\n",
    "\n",
    "# Display the result\n",
    "print(top_12_articles4)"
   ]
  },
  {
   "cell_type": "markdown",
   "id": "ab54685d",
   "metadata": {
    "papermill": {
     "duration": 0.007375,
     "end_time": "2023-12-22T00:59:33.116616",
     "exception": false,
     "start_time": "2023-12-22T00:59:33.109241",
     "status": "completed"
    },
    "tags": []
   },
   "source": [
    "# Make submission"
   ]
  },
  {
   "cell_type": "code",
   "execution_count": 10,
   "id": "dfa9c7ba",
   "metadata": {
    "execution": {
     "iopub.execute_input": "2023-12-22T00:59:33.133811Z",
     "iopub.status.busy": "2023-12-22T00:59:33.133395Z",
     "iopub.status.idle": "2023-12-22T00:59:38.681294Z",
     "shell.execute_reply": "2023-12-22T00:59:38.679976Z"
    },
    "papermill": {
     "duration": 5.560089,
     "end_time": "2023-12-22T00:59:38.684452",
     "exception": false,
     "start_time": "2023-12-22T00:59:33.124363",
     "status": "completed"
    },
    "tags": []
   },
   "outputs": [],
   "source": [
    "sub = pd.read_csv('/kaggle/input/h-and-m-personalized-fashion-recommendations/sample_submission.csv')"
   ]
  },
  {
   "cell_type": "code",
   "execution_count": 11,
   "id": "b03aaf22",
   "metadata": {
    "execution": {
     "iopub.execute_input": "2023-12-22T00:59:38.702700Z",
     "iopub.status.busy": "2023-12-22T00:59:38.702287Z",
     "iopub.status.idle": "2023-12-22T00:59:44.236515Z",
     "shell.execute_reply": "2023-12-22T00:59:44.235261Z"
    },
    "papermill": {
     "duration": 5.546838,
     "end_time": "2023-12-22T00:59:44.239392",
     "exception": false,
     "start_time": "2023-12-22T00:59:38.692554",
     "status": "completed"
    },
    "tags": []
   },
   "outputs": [],
   "source": [
    "latest_bought_articles = pd.read_csv('/kaggle/input/repurchase4weeks/repurchase4Weeks.csv')\n",
    "latest_bought_articles = latest_bought_articles.values.tolist()"
   ]
  },
  {
   "cell_type": "code",
   "execution_count": 12,
   "id": "235c5224",
   "metadata": {
    "execution": {
     "iopub.execute_input": "2023-12-22T00:59:44.257221Z",
     "iopub.status.busy": "2023-12-22T00:59:44.256810Z",
     "iopub.status.idle": "2023-12-22T01:10:28.587266Z",
     "shell.execute_reply": "2023-12-22T01:10:28.586270Z"
    },
    "papermill": {
     "duration": 644.345727,
     "end_time": "2023-12-22T01:10:28.593144",
     "exception": false,
     "start_time": "2023-12-22T00:59:44.247417",
     "status": "completed"
    },
    "tags": []
   },
   "outputs": [
    {
     "name": "stderr",
     "output_type": "stream",
     "text": [
      "100%|██████████| 1371980/1371980 [10:42<00:00, 2136.90it/s]"
     ]
    },
    {
     "name": "stdout",
     "output_type": "stream",
     "text": [
      "CPU times: user 10min 40s, sys: 4.55 s, total: 10min 45s\n",
      "Wall time: 10min 44s\n"
     ]
    },
    {
     "name": "stderr",
     "output_type": "stream",
     "text": [
      "\n"
     ]
    }
   ],
   "source": [
    "%%time\n",
    "from tqdm import tqdm\n",
    "pop_items = []\n",
    "outputs = []\n",
    "user_cnt=0\n",
    "for c_id in tqdm(customer_hex_id_to_int(sub.customer_id)):\n",
    "    extraOutput = []\n",
    "    for articleRepurchase in latest_bought_articles[user_cnt]:\n",
    "        if articleRepurchase !=0:\n",
    "            extraOutput.append(articleRepurchase)\n",
    "    # Check in which condition the target_customer_id falls\n",
    "    if c_id in condition_1['customer_id'].values:\n",
    "        pop_items = (top_12_articles1)\n",
    "    elif c_id in condition_2['customer_id'].values:\n",
    "        pop_items = (top_12_articles2)\n",
    "    elif c_id in condition_3['customer_id'].values:\n",
    "        pop_items = (top_12_articles3)\n",
    "    elif c_id in condition_4['customer_id'].values:\n",
    "        pop_items = (top_12_articles4)\n",
    "    else:\n",
    "        pop_items = (top_12_articlesold)\n",
    "    user_output = extraOutput + pop_items\n",
    "\n",
    "    user_output = [int(j) for j in user_output] \n",
    "    user_output = pd.Series(user_output).drop_duplicates().tolist()\n",
    "\n",
    "    user_output = user_output[:12]\n",
    "    outputs.append(user_output)\n",
    "    user_cnt+=1\n"
   ]
  },
  {
   "cell_type": "code",
   "execution_count": 13,
   "id": "78628ddb",
   "metadata": {
    "execution": {
     "iopub.execute_input": "2023-12-22T01:10:29.871570Z",
     "iopub.status.busy": "2023-12-22T01:10:29.871151Z",
     "iopub.status.idle": "2023-12-22T01:10:36.879411Z",
     "shell.execute_reply": "2023-12-22T01:10:36.878272Z"
    },
    "papermill": {
     "duration": 7.676045,
     "end_time": "2023-12-22T01:10:36.881971",
     "exception": false,
     "start_time": "2023-12-22T01:10:29.205926",
     "status": "completed"
    },
    "tags": []
   },
   "outputs": [],
   "source": [
    "preds = [' '.join(['0' + str(p) for p in ps]) for ps in outputs]\n",
    "sub.prediction = preds"
   ]
  },
  {
   "cell_type": "code",
   "execution_count": 14,
   "id": "5393ea13",
   "metadata": {
    "execution": {
     "iopub.execute_input": "2023-12-22T01:10:38.092402Z",
     "iopub.status.busy": "2023-12-22T01:10:38.092002Z",
     "iopub.status.idle": "2023-12-22T01:11:07.733918Z",
     "shell.execute_reply": "2023-12-22T01:11:07.732495Z"
    },
    "papermill": {
     "duration": 30.259882,
     "end_time": "2023-12-22T01:11:07.737343",
     "exception": false,
     "start_time": "2023-12-22T01:10:37.477461",
     "status": "completed"
    },
    "tags": []
   },
   "outputs": [],
   "source": [
    "sub_name = 'Repurchase4_pop_gender_baby'\n",
    "# sub_name = 'popularity_submission'\n",
    "sub.to_csv(f'{sub_name}.csv.gz', index=False)"
   ]
  }
 ],
 "metadata": {
  "kaggle": {
   "accelerator": "none",
   "dataSources": [
    {
     "databundleVersionId": 3103714,
     "sourceId": 31254,
     "sourceType": "competition"
    },
    {
     "datasetId": 4032885,
     "sourceId": 7014309,
     "sourceType": "datasetVersion"
    },
    {
     "sourceId": 149573710,
     "sourceType": "kernelVersion"
    },
    {
     "sourceId": 149747734,
     "sourceType": "kernelVersion"
    },
    {
     "sourceId": 151594135,
     "sourceType": "kernelVersion"
    }
   ],
   "dockerImageVersionId": 30587,
   "isGpuEnabled": false,
   "isInternetEnabled": true,
   "language": "python",
   "sourceType": "notebook"
  },
  "kernelspec": {
   "display_name": "Python 3",
   "language": "python",
   "name": "python3"
  },
  "language_info": {
   "codemirror_mode": {
    "name": "ipython",
    "version": 3
   },
   "file_extension": ".py",
   "mimetype": "text/x-python",
   "name": "python",
   "nbconvert_exporter": "python",
   "pygments_lexer": "ipython3",
   "version": "3.10.12"
  },
  "papermill": {
   "default_parameters": {},
   "duration": 720.31563,
   "end_time": "2023-12-22T01:11:10.264130",
   "environment_variables": {},
   "exception": null,
   "input_path": "__notebook__.ipynb",
   "output_path": "__notebook__.ipynb",
   "parameters": {},
   "start_time": "2023-12-22T00:59:09.948500",
   "version": "2.4.0"
  }
 },
 "nbformat": 4,
 "nbformat_minor": 5
}
