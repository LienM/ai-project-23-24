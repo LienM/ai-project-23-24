{
 "cells": [
  {
   "cell_type": "markdown",
   "id": "820e75f2",
   "metadata": {
    "papermill": {
     "duration": 0.038192,
     "end_time": "2023-12-22T01:01:38.659630",
     "exception": false,
     "start_time": "2023-12-22T01:01:38.621438",
     "status": "completed"
    },
    "tags": []
   },
   "source": [
    "Based on Time Decaying Popularity Benchmark [0.0216] : https://www.kaggle.com/code/mayukh18/time-decaying-popularity-benchmark-0-0216"
   ]
  },
  {
   "cell_type": "markdown",
   "id": "e897c666",
   "metadata": {
    "_cell_guid": "b1076dfc-b9ad-4769-8c92-a6c4dae69d19",
    "_uuid": "8f2839f25d086af736a60e9eeb907d3b93b6e0e5",
    "papermill": {
     "duration": 0.03652,
     "end_time": "2023-12-22T01:01:38.732114",
     "exception": false,
     "start_time": "2023-12-22T01:01:38.695594",
     "status": "completed"
    },
    "tags": []
   },
   "source": [
    "# This notebook combines time decay + repurchase information + popular items\n",
    "1. Recommend items that the customer bought in the last 4 weeks.\n",
    "2. Recommend popular items from last 2 weeks weighted down by time.\n",
    "3. Recommend items that are bought by the most customers from the last week.\n"
   ]
  },
  {
   "cell_type": "code",
   "execution_count": 1,
   "id": "d881f3f2",
   "metadata": {
    "execution": {
     "iopub.execute_input": "2023-12-22T01:01:38.817006Z",
     "iopub.status.busy": "2023-12-22T01:01:38.815959Z",
     "iopub.status.idle": "2023-12-22T01:01:38.821115Z",
     "shell.execute_reply": "2023-12-22T01:01:38.820235Z",
     "shell.execute_reply.started": "2023-11-21T17:44:05.978738Z"
    },
    "papermill": {
     "duration": 0.053321,
     "end_time": "2023-12-22T01:01:38.821306",
     "exception": false,
     "start_time": "2023-12-22T01:01:38.767985",
     "status": "completed"
    },
    "tags": []
   },
   "outputs": [],
   "source": [
    "import numpy as np\n",
    "import pandas as pd\n",
    "import os\n",
    "import glob\n",
    "from tqdm import tqdm\n",
    "import datetime"
   ]
  },
  {
   "cell_type": "markdown",
   "id": "0ec3bfe0",
   "metadata": {
    "papermill": {
     "duration": 0.035633,
     "end_time": "2023-12-22T01:01:38.892622",
     "exception": false,
     "start_time": "2023-12-22T01:01:38.856989",
     "status": "completed"
    },
    "tags": []
   },
   "source": [
    "# Forming Train Set"
   ]
  },
  {
   "cell_type": "markdown",
   "id": "79325102",
   "metadata": {
    "papermill": {
     "duration": 0.03677,
     "end_time": "2023-12-22T01:01:38.964804",
     "exception": false,
     "start_time": "2023-12-22T01:01:38.928034",
     "status": "completed"
    },
    "tags": []
   },
   "source": [
    "Repurchase info"
   ]
  },
  {
   "cell_type": "code",
   "execution_count": 2,
   "id": "6559a8cc",
   "metadata": {
    "execution": {
     "iopub.execute_input": "2023-12-22T01:01:39.042691Z",
     "iopub.status.busy": "2023-12-22T01:01:39.041613Z",
     "iopub.status.idle": "2023-12-22T01:01:45.255137Z",
     "shell.execute_reply": "2023-12-22T01:01:45.254505Z",
     "shell.execute_reply.started": "2023-11-21T17:44:06.018976Z"
    },
    "papermill": {
     "duration": 6.254858,
     "end_time": "2023-12-22T01:01:45.255304",
     "exception": false,
     "start_time": "2023-12-22T01:01:39.000446",
     "status": "completed"
    },
    "tags": []
   },
   "outputs": [],
   "source": [
    "latest_bought_articles = pd.read_csv('/kaggle/input/repurchase5weeks/repurchase5Weeks.csv')\n",
    "latest_bought_articles = latest_bought_articles.values.tolist()"
   ]
  },
  {
   "cell_type": "markdown",
   "id": "40ccd3ed",
   "metadata": {
    "papermill": {
     "duration": 0.036392,
     "end_time": "2023-12-22T01:01:45.328380",
     "exception": false,
     "start_time": "2023-12-22T01:01:45.291988",
     "status": "completed"
    },
    "tags": []
   },
   "source": [
    "Popularity"
   ]
  },
  {
   "cell_type": "code",
   "execution_count": 3,
   "id": "847fc2dc",
   "metadata": {
    "execution": {
     "iopub.execute_input": "2023-12-22T01:01:45.409213Z",
     "iopub.status.busy": "2023-12-22T01:01:45.408237Z",
     "iopub.status.idle": "2023-12-22T01:01:51.981322Z",
     "shell.execute_reply": "2023-12-22T01:01:51.980518Z",
     "shell.execute_reply.started": "2023-11-21T17:44:11.243169Z"
    },
    "papermill": {
     "duration": 6.617584,
     "end_time": "2023-12-22T01:01:51.981521",
     "exception": false,
     "start_time": "2023-12-22T01:01:45.363937",
     "status": "completed"
    },
    "tags": []
   },
   "outputs": [
    {
     "name": "stdout",
     "output_type": "stream",
     "text": [
      "CPU times: user 3.62 s, sys: 4.33 s, total: 7.96 s\n",
      "Wall time: 6.57 s\n"
     ]
    }
   ],
   "source": [
    "%%time\n",
    "import pandas as pd\n",
    "pad = \"/kaggle/input/makeparquet\"\n",
    "transactions = pd.read_parquet(pad+'/transactions_train.parquet')\n",
    "customers = pd.read_parquet(pad+'/customers.parquet')\n",
    "articles = pd.read_parquet(pad+'/articles.parquet')"
   ]
  },
  {
   "cell_type": "code",
   "execution_count": 4,
   "id": "00164fcf",
   "metadata": {
    "execution": {
     "iopub.execute_input": "2023-12-22T01:01:52.067972Z",
     "iopub.status.busy": "2023-12-22T01:01:52.067153Z",
     "iopub.status.idle": "2023-12-22T01:01:52.202839Z",
     "shell.execute_reply": "2023-12-22T01:01:52.202220Z",
     "shell.execute_reply.started": "2023-11-21T17:44:17.717277Z"
    },
    "papermill": {
     "duration": 0.184343,
     "end_time": "2023-12-22T01:01:52.203010",
     "exception": false,
     "start_time": "2023-12-22T01:01:52.018667",
     "status": "completed"
    },
    "tags": []
   },
   "outputs": [],
   "source": [
    "# Step 1: Filter transactions for the last week\n",
    "last_week_transactions = transactions[transactions['week'] == transactions['week'].max()-1]\n",
    "\n",
    "# Step 2: Group transactions by 'article_id' and count unique 'customer_id'\n",
    "article_customer_count = last_week_transactions.groupby('article_id')['customer_id'].nunique().reset_index(name='customer_count')\n",
    "\n",
    "# Step 3: Sort articles based on customer count in descending order\n",
    "sorted_articles = article_customer_count.sort_values(by='customer_count', ascending=False)\n",
    "\n",
    "# Step 4: Take the top 12 articles\n",
    "top_12_articles = sorted_articles.head(12)\n",
    "pop_items = (top_12_articles.article_id.to_list())"
   ]
  },
  {
   "cell_type": "markdown",
   "id": "03c4ae3f",
   "metadata": {
    "papermill": {
     "duration": 0.035748,
     "end_time": "2023-12-22T01:01:52.277126",
     "exception": false,
     "start_time": "2023-12-22T01:01:52.241378",
     "status": "completed"
    },
    "tags": []
   },
   "source": [
    "time decay"
   ]
  },
  {
   "cell_type": "code",
   "execution_count": 5,
   "id": "90a1fa91",
   "metadata": {
    "execution": {
     "iopub.execute_input": "2023-12-22T01:01:52.357952Z",
     "iopub.status.busy": "2023-12-22T01:01:52.357172Z",
     "iopub.status.idle": "2023-12-22T01:03:25.444982Z",
     "shell.execute_reply": "2023-12-22T01:03:25.445625Z",
     "shell.execute_reply.started": "2023-11-21T17:44:17.842572Z"
    },
    "papermill": {
     "duration": 93.131923,
     "end_time": "2023-12-22T01:03:25.445875",
     "exception": false,
     "start_time": "2023-12-22T01:01:52.313952",
     "status": "completed"
    },
    "tags": []
   },
   "outputs": [
    {
     "data": {
      "text/html": [
       "<div>\n",
       "<style scoped>\n",
       "    .dataframe tbody tr th:only-of-type {\n",
       "        vertical-align: middle;\n",
       "    }\n",
       "\n",
       "    .dataframe tbody tr th {\n",
       "        vertical-align: top;\n",
       "    }\n",
       "\n",
       "    .dataframe thead th {\n",
       "        text-align: right;\n",
       "    }\n",
       "</style>\n",
       "<table border=\"1\" class=\"dataframe\">\n",
       "  <thead>\n",
       "    <tr style=\"text-align: right;\">\n",
       "      <th></th>\n",
       "      <th>t_dat</th>\n",
       "      <th>customer_id</th>\n",
       "      <th>article_id</th>\n",
       "      <th>price</th>\n",
       "      <th>sales_channel_id</th>\n",
       "    </tr>\n",
       "  </thead>\n",
       "  <tbody>\n",
       "    <tr>\n",
       "      <th>0</th>\n",
       "      <td>2018-09-20</td>\n",
       "      <td>000058a12d5b43e67d225668fa1f8d618c13dc232df0ca...</td>\n",
       "      <td>0663713001</td>\n",
       "      <td>0.050831</td>\n",
       "      <td>2</td>\n",
       "    </tr>\n",
       "    <tr>\n",
       "      <th>1</th>\n",
       "      <td>2018-09-20</td>\n",
       "      <td>000058a12d5b43e67d225668fa1f8d618c13dc232df0ca...</td>\n",
       "      <td>0541518023</td>\n",
       "      <td>0.030492</td>\n",
       "      <td>2</td>\n",
       "    </tr>\n",
       "    <tr>\n",
       "      <th>2</th>\n",
       "      <td>2018-09-20</td>\n",
       "      <td>00007d2de826758b65a93dd24ce629ed66842531df6699...</td>\n",
       "      <td>0505221004</td>\n",
       "      <td>0.015237</td>\n",
       "      <td>2</td>\n",
       "    </tr>\n",
       "    <tr>\n",
       "      <th>3</th>\n",
       "      <td>2018-09-20</td>\n",
       "      <td>00007d2de826758b65a93dd24ce629ed66842531df6699...</td>\n",
       "      <td>0685687003</td>\n",
       "      <td>0.016932</td>\n",
       "      <td>2</td>\n",
       "    </tr>\n",
       "    <tr>\n",
       "      <th>4</th>\n",
       "      <td>2018-09-20</td>\n",
       "      <td>00007d2de826758b65a93dd24ce629ed66842531df6699...</td>\n",
       "      <td>0685687004</td>\n",
       "      <td>0.016932</td>\n",
       "      <td>2</td>\n",
       "    </tr>\n",
       "  </tbody>\n",
       "</table>\n",
       "</div>"
      ],
      "text/plain": [
       "        t_dat                                        customer_id  article_id  \\\n",
       "0  2018-09-20  000058a12d5b43e67d225668fa1f8d618c13dc232df0ca...  0663713001   \n",
       "1  2018-09-20  000058a12d5b43e67d225668fa1f8d618c13dc232df0ca...  0541518023   \n",
       "2  2018-09-20  00007d2de826758b65a93dd24ce629ed66842531df6699...  0505221004   \n",
       "3  2018-09-20  00007d2de826758b65a93dd24ce629ed66842531df6699...  0685687003   \n",
       "4  2018-09-20  00007d2de826758b65a93dd24ce629ed66842531df6699...  0685687004   \n",
       "\n",
       "      price  sales_channel_id  \n",
       "0  0.050831                 2  \n",
       "1  0.030492                 2  \n",
       "2  0.015237                 2  \n",
       "3  0.016932                 2  \n",
       "4  0.016932                 2  "
      ]
     },
     "execution_count": 5,
     "metadata": {},
     "output_type": "execute_result"
    }
   ],
   "source": [
    "data = pd.read_csv(\"/kaggle/input/h-and-m-personalized-fashion-recommendations/transactions_train.csv\", dtype={'article_id':str})\n",
    "data.head()"
   ]
  },
  {
   "cell_type": "markdown",
   "id": "0705d2c6",
   "metadata": {
    "papermill": {
     "duration": 0.036911,
     "end_time": "2023-12-22T01:03:25.521124",
     "exception": false,
     "start_time": "2023-12-22T01:03:25.484213",
     "status": "completed"
    },
    "tags": []
   },
   "source": [
    "We'll drop everything except the last few(up for experimentation) days. The info from previous months are not coming of much use. \n",
    "We'll keep 4 weeks as train and the last week as validation."
   ]
  },
  {
   "cell_type": "code",
   "execution_count": 6,
   "id": "329be82d",
   "metadata": {
    "execution": {
     "iopub.execute_input": "2023-12-22T01:03:29.099349Z",
     "iopub.status.busy": "2023-12-22T01:03:25.604501Z",
     "iopub.status.idle": "2023-12-22T01:03:44.822742Z",
     "shell.execute_reply": "2023-12-22T01:03:44.822002Z",
     "shell.execute_reply.started": "2023-11-21T17:45:27.976379Z"
    },
    "papermill": {
     "duration": 19.264442,
     "end_time": "2023-12-22T01:03:44.822928",
     "exception": false,
     "start_time": "2023-12-22T01:03:25.558486",
     "status": "completed"
    },
    "tags": []
   },
   "outputs": [
    {
     "name": "stdout",
     "output_type": "stream",
     "text": [
      "All Transactions Date Range: 2018-09-20 to 2020-09-22\n"
     ]
    }
   ],
   "source": [
    "print(\"All Transactions Date Range: {} to {}\".format(data['t_dat'].min(), data['t_dat'].max()))\n",
    "\n",
    "data[\"t_dat\"] = pd.to_datetime(data[\"t_dat\"])\n",
    "train1 = data.loc[(data[\"t_dat\"] >= datetime.datetime(2020,9,8)) & (data['t_dat'] < datetime.datetime(2020,9,16))]\n",
    "train2 = data.loc[(data[\"t_dat\"] >= datetime.datetime(2020,9,1)) & (data['t_dat'] < datetime.datetime(2020,9,8))]\n",
    "train3 = data.loc[(data[\"t_dat\"] >= datetime.datetime(2020,8,23)) & (data['t_dat'] < datetime.datetime(2020,9,1))]\n",
    "train4 = data.loc[(data[\"t_dat\"] >= datetime.datetime(2020,8,15)) & (data['t_dat'] < datetime.datetime(2020,8,23))]\n",
    "\n",
    "val = data.loc[data[\"t_dat\"] >= datetime.datetime(2020,9,16)]"
   ]
  },
  {
   "cell_type": "markdown",
   "id": "ea15234b",
   "metadata": {
    "papermill": {
     "duration": 0.038165,
     "end_time": "2023-12-22T01:03:44.898843",
     "exception": false,
     "start_time": "2023-12-22T01:03:44.860678",
     "status": "completed"
    },
    "tags": []
   },
   "source": [
    "Items which an user has bought in our train set time."
   ]
  },
  {
   "cell_type": "code",
   "execution_count": 7,
   "id": "a9937a3b",
   "metadata": {
    "execution": {
     "iopub.execute_input": "2023-12-22T01:03:44.988390Z",
     "iopub.status.busy": "2023-12-22T01:03:44.987323Z",
     "iopub.status.idle": "2023-12-22T01:03:54.488273Z",
     "shell.execute_reply": "2023-12-22T01:03:54.487600Z",
     "shell.execute_reply.started": "2023-11-21T17:45:38.598959Z"
    },
    "papermill": {
     "duration": 9.552204,
     "end_time": "2023-12-22T01:03:54.488433",
     "exception": false,
     "start_time": "2023-12-22T01:03:44.936229",
     "status": "completed"
    },
    "tags": []
   },
   "outputs": [],
   "source": [
    "# List of all purchases per user (has repetitions)\n",
    "positive_items_per_user1 = train1.groupby(['customer_id'])['article_id'].apply(list)\n",
    "positive_items_per_user2 = train2.groupby(['customer_id'])['article_id'].apply(list)\n",
    "positive_items_per_user3 = train3.groupby(['customer_id'])['article_id'].apply(list)\n",
    "positive_items_per_user4 = train4.groupby(['customer_id'])['article_id'].apply(list)"
   ]
  },
  {
   "cell_type": "markdown",
   "id": "5b51bb1b",
   "metadata": {
    "papermill": {
     "duration": 0.036846,
     "end_time": "2023-12-22T01:03:54.562495",
     "exception": false,
     "start_time": "2023-12-22T01:03:54.525649",
     "status": "completed"
    },
    "tags": []
   },
   "source": [
    "Next we do time decay based popularity for items. This leads to items bought more recently having more weight in the popularity list. In simple words, item A bought 5 times on the first day of the train period is inferior than item B bought 4 times on the last day of the train period."
   ]
  },
  {
   "cell_type": "code",
   "execution_count": 8,
   "id": "6ee9a413",
   "metadata": {
    "execution": {
     "iopub.execute_input": "2023-12-22T01:03:54.647219Z",
     "iopub.status.busy": "2023-12-22T01:03:54.645560Z",
     "iopub.status.idle": "2023-12-22T01:04:06.443343Z",
     "shell.execute_reply": "2023-12-22T01:04:06.442668Z",
     "shell.execute_reply.started": "2023-11-21T17:45:46.445889Z"
    },
    "papermill": {
     "duration": 11.843269,
     "end_time": "2023-12-22T01:04:06.443555",
     "exception": false,
     "start_time": "2023-12-22T01:03:54.600286",
     "status": "completed"
    },
    "tags": []
   },
   "outputs": [
    {
     "data": {
      "text/plain": [
       "count    557958.000000\n",
       "mean          0.200478\n",
       "std           0.207752\n",
       "min           0.066667\n",
       "25%           0.083333\n",
       "50%           0.125000\n",
       "75%           0.200000\n",
       "max           1.000000\n",
       "Name: pop_factor, dtype: float64"
      ]
     },
     "execution_count": 8,
     "metadata": {},
     "output_type": "execute_result"
    }
   ],
   "source": [
    "train = pd.concat([train1, train2], axis=0)\n",
    "train['pop_factor'] = train['t_dat'].apply(lambda x: 1/(datetime.datetime(2020,9,16) - x).days)\n",
    "popular_items_group = train.groupby(['article_id'])['pop_factor'].sum()\n",
    "\n",
    "_, popular_items = zip(*sorted(zip(popular_items_group, popular_items_group.keys()))[::-1])\n",
    "\n",
    "train['pop_factor'].describe()"
   ]
  },
  {
   "cell_type": "markdown",
   "id": "b49c1628",
   "metadata": {
    "papermill": {
     "duration": 0.038166,
     "end_time": "2023-12-22T01:04:06.520836",
     "exception": false,
     "start_time": "2023-12-22T01:04:06.482670",
     "status": "completed"
    },
    "tags": []
   },
   "source": [
    "# Validation: Evaluating the Idea"
   ]
  },
  {
   "cell_type": "code",
   "execution_count": 9,
   "id": "bc197578",
   "metadata": {
    "execution": {
     "iopub.execute_input": "2023-12-22T01:04:06.608972Z",
     "iopub.status.busy": "2023-12-22T01:04:06.607847Z",
     "iopub.status.idle": "2023-12-22T01:04:06.611366Z",
     "shell.execute_reply": "2023-12-22T01:04:06.610621Z",
     "shell.execute_reply.started": "2023-11-21T17:45:51.991899Z"
    },
    "papermill": {
     "duration": 0.051969,
     "end_time": "2023-12-22T01:04:06.611688",
     "exception": false,
     "start_time": "2023-12-22T01:04:06.559719",
     "status": "completed"
    },
    "tags": []
   },
   "outputs": [],
   "source": [
    "def apk(actual, predicted, k=12):\n",
    "    if len(predicted)>k:\n",
    "        predicted = predicted[:k]\n",
    "\n",
    "    score = 0.0\n",
    "    num_hits = 0.0\n",
    "\n",
    "    for i,p in enumerate(predicted):\n",
    "        if p in actual and p not in predicted[:i]:\n",
    "            num_hits += 1.0\n",
    "            score += num_hits / (i+1.0)\n",
    "\n",
    "    if not actual:\n",
    "        return 0.0\n",
    "\n",
    "    return score / min(len(actual), k)\n",
    "\n",
    "def mapk(actual, predicted, k=12):\n",
    "    return np.mean([apk(a,p,k) for a,p in zip(actual, predicted)])"
   ]
  },
  {
   "cell_type": "markdown",
   "id": "b3415e6a",
   "metadata": {
    "papermill": {
     "duration": 0.0384,
     "end_time": "2023-12-22T01:04:06.691978",
     "exception": false,
     "start_time": "2023-12-22T01:04:06.653578",
     "status": "completed"
    },
    "tags": []
   },
   "source": [
    "Items bought by users in the validation period. Similar as the one for train set."
   ]
  },
  {
   "cell_type": "code",
   "execution_count": 10,
   "id": "6e95fa63",
   "metadata": {
    "execution": {
     "iopub.execute_input": "2023-12-22T01:04:06.780486Z",
     "iopub.status.busy": "2023-12-22T01:04:06.779651Z",
     "iopub.status.idle": "2023-12-22T01:04:08.692549Z",
     "shell.execute_reply": "2023-12-22T01:04:08.691797Z",
     "shell.execute_reply.started": "2023-11-21T17:45:52.003590Z"
    },
    "papermill": {
     "duration": 1.962404,
     "end_time": "2023-12-22T01:04:08.692737",
     "exception": false,
     "start_time": "2023-12-22T01:04:06.730333",
     "status": "completed"
    },
    "tags": []
   },
   "outputs": [],
   "source": [
    "positive_items_val = val.groupby(['customer_id'])['article_id'].apply(list)"
   ]
  },
  {
   "cell_type": "code",
   "execution_count": 11,
   "id": "544a538b",
   "metadata": {
    "execution": {
     "iopub.execute_input": "2023-12-22T01:04:08.781666Z",
     "iopub.status.busy": "2023-12-22T01:04:08.780812Z",
     "iopub.status.idle": "2023-12-22T01:04:09.362059Z",
     "shell.execute_reply": "2023-12-22T01:04:09.362653Z",
     "shell.execute_reply.started": "2023-11-21T17:45:53.210937Z"
    },
    "papermill": {
     "duration": 0.630895,
     "end_time": "2023-12-22T01:04:09.362878",
     "exception": false,
     "start_time": "2023-12-22T01:04:08.731983",
     "status": "completed"
    },
    "tags": []
   },
   "outputs": [
    {
     "name": "stderr",
     "output_type": "stream",
     "text": [
      "68984it [00:00, 122380.83it/s]"
     ]
    },
    {
     "name": "stdout",
     "output_type": "stream",
     "text": [
      "Total users in validation: 68984\n"
     ]
    },
    {
     "name": "stderr",
     "output_type": "stream",
     "text": [
      "\n"
     ]
    }
   ],
   "source": [
    "# creating validation set for metrics use case\n",
    "val_users = positive_items_val.keys()\n",
    "val_items = []\n",
    "\n",
    "for i,user in tqdm(enumerate(val_users)):\n",
    "    val_items.append(positive_items_val[user])\n",
    "    \n",
    "print(\"Total users in validation:\", len(val_users))"
   ]
  },
  {
   "cell_type": "markdown",
   "id": "f556b586",
   "metadata": {
    "papermill": {
     "duration": 0.042005,
     "end_time": "2023-12-22T01:04:09.448076",
     "exception": false,
     "start_time": "2023-12-22T01:04:09.406071",
     "status": "completed"
    },
    "tags": []
   },
   "source": [
    "We'll now validate our algo on the validation set."
   ]
  },
  {
   "cell_type": "code",
   "execution_count": 12,
   "id": "a0f7abde",
   "metadata": {
    "execution": {
     "iopub.execute_input": "2023-12-22T01:04:09.554909Z",
     "iopub.status.busy": "2023-12-22T01:04:09.553918Z",
     "iopub.status.idle": "2023-12-22T01:04:33.732671Z",
     "shell.execute_reply": "2023-12-22T01:04:33.731906Z",
     "shell.execute_reply.started": "2023-11-21T17:45:53.585979Z"
    },
    "papermill": {
     "duration": 24.242118,
     "end_time": "2023-12-22T01:04:33.732859",
     "exception": false,
     "start_time": "2023-12-22T01:04:09.490741",
     "status": "completed"
    },
    "tags": []
   },
   "outputs": [
    {
     "name": "stderr",
     "output_type": "stream",
     "text": [
      "100%|██████████| 68984/68984 [00:23<00:00, 2890.60it/s]\n"
     ]
    },
    {
     "name": "stdout",
     "output_type": "stream",
     "text": [
      "mAP Score on Validation set: 0.021107420449245917\n"
     ]
    }
   ],
   "source": [
    "from collections import Counter\n",
    "outputs = []\n",
    "cnt = 0\n",
    "user_cnt=0\n",
    "\n",
    "popular_items = list(popular_items)\n",
    "\n",
    "for user in tqdm(val_users):\n",
    "    user_output = []\n",
    "    if user in positive_items_per_user1.keys():\n",
    "        most_common_items_of_user = {k:v for k, v in Counter(positive_items_per_user1[user]).most_common()}\n",
    "        user_output += list(most_common_items_of_user.keys())[:12]\n",
    "    if user in positive_items_per_user2.keys():\n",
    "        most_common_items_of_user = {k:v for k, v in Counter(positive_items_per_user2[user]).most_common()}\n",
    "        user_output += list(most_common_items_of_user.keys())[:12]\n",
    "    if user in positive_items_per_user3.keys():\n",
    "        most_common_items_of_user = {k:v for k, v in Counter(positive_items_per_user3[user]).most_common()}\n",
    "        user_output += list(most_common_items_of_user.keys())[:12]\n",
    "    if user in positive_items_per_user4.keys():\n",
    "        most_common_items_of_user = {k:v for k, v in Counter(positive_items_per_user4[user]).most_common()}\n",
    "        user_output += list(most_common_items_of_user.keys())[:12]\n",
    "    \n",
    "    \n",
    "    user_output = [int(j) for j in user_output] \n",
    "    repurchase = []\n",
    "    for articleRepurchase in latest_bought_articles[user_cnt]:\n",
    "        if articleRepurchase !=0:\n",
    "            repurchase.append(articleRepurchase)\n",
    "    \n",
    "#     order: repurchase decay + pop_items\n",
    "    user_output = repurchase + user_output + pop_items\n",
    "#     remove duplicates\n",
    "    user_output = [int(j) for j in user_output] \n",
    "    user_output = pd.Series(user_output).drop_duplicates().tolist()\n",
    "    \n",
    "    user_output = user_output[:12]\n",
    "    user_output = ['0'+str(j) for j in user_output] \n",
    "\n",
    "    outputs.append(user_output)\n",
    "    user_cnt+=1\n",
    "    \n",
    "print(\"mAP Score on Validation set:\", mapk(val_items, outputs))"
   ]
  },
  {
   "cell_type": "markdown",
   "id": "a1421537",
   "metadata": {
    "papermill": {
     "duration": 0.153381,
     "end_time": "2023-12-22T01:04:34.041081",
     "exception": false,
     "start_time": "2023-12-22T01:04:33.887700",
     "status": "completed"
    },
    "tags": []
   },
   "source": [
    "# Prediction on Test Set: Submission"
   ]
  },
  {
   "cell_type": "code",
   "execution_count": 13,
   "id": "7b10eb77",
   "metadata": {
    "execution": {
     "iopub.execute_input": "2023-12-22T01:04:34.376013Z",
     "iopub.status.busy": "2023-12-22T01:04:34.375198Z",
     "iopub.status.idle": "2023-12-22T01:04:34.485031Z",
     "shell.execute_reply": "2023-12-22T01:04:34.484299Z",
     "shell.execute_reply.started": "2023-11-21T17:46:16.353527Z"
    },
    "papermill": {
     "duration": 0.275112,
     "end_time": "2023-12-22T01:04:34.485215",
     "exception": false,
     "start_time": "2023-12-22T01:04:34.210103",
     "status": "completed"
    },
    "tags": []
   },
   "outputs": [],
   "source": [
    "# Step 1: Filter transactions for the last week\n",
    "last_week_transactions = transactions[transactions['week'] >= transactions['week'].max()]\n",
    "\n",
    "# Step 2: Group transactions by 'article_id' and count unique 'customer_id'\n",
    "article_customer_count = last_week_transactions.groupby('article_id')['customer_id'].nunique().reset_index(name='customer_count')\n",
    "\n",
    "# Step 3: Sort articles based on customer count in descending order\n",
    "sorted_articles = article_customer_count.sort_values(by='customer_count', ascending=False)\n",
    "\n",
    "# Step 4: Take the top 12 articles\n",
    "top_12_articles = sorted_articles.head(12)\n",
    "pop_items = (top_12_articles.article_id.to_list())"
   ]
  },
  {
   "cell_type": "code",
   "execution_count": 14,
   "id": "034258ad",
   "metadata": {
    "execution": {
     "iopub.execute_input": "2023-12-22T01:04:34.806038Z",
     "iopub.status.busy": "2023-12-22T01:04:34.805207Z",
     "iopub.status.idle": "2023-12-22T01:05:03.955422Z",
     "shell.execute_reply": "2023-12-22T01:05:03.954714Z",
     "shell.execute_reply.started": "2023-11-21T17:46:16.527049Z"
    },
    "papermill": {
     "duration": 29.318717,
     "end_time": "2023-12-22T01:05:03.955641",
     "exception": false,
     "start_time": "2023-12-22T01:04:34.636924",
     "status": "completed"
    },
    "tags": []
   },
   "outputs": [],
   "source": [
    "train1 = data.loc[(data[\"t_dat\"] >= datetime.datetime(2020,9,16)) & (data['t_dat'] < datetime.datetime(2020,9,23))]\n",
    "train2 = data.loc[(data[\"t_dat\"] >= datetime.datetime(2020,9,8)) & (data['t_dat'] < datetime.datetime(2020,9,16))]\n",
    "train3 = data.loc[(data[\"t_dat\"] >= datetime.datetime(2020,8,31)) & (data['t_dat'] < datetime.datetime(2020,9,8))]\n",
    "train4 = data.loc[(data[\"t_dat\"] >= datetime.datetime(2020,8,23)) & (data['t_dat'] < datetime.datetime(2020,8,31))]\n",
    "\n",
    "positive_items_per_user1 = train1.groupby(['customer_id'])['article_id'].apply(list)\n",
    "positive_items_per_user2 = train2.groupby(['customer_id'])['article_id'].apply(list)\n",
    "positive_items_per_user3 = train3.groupby(['customer_id'])['article_id'].apply(list)\n",
    "positive_items_per_user4 = train4.groupby(['customer_id'])['article_id'].apply(list)\n",
    "\n",
    "train = pd.concat([train1, train2], axis=0)\n",
    "train['pop_factor'] = train['t_dat'].apply(lambda x: 1/(datetime.datetime(2020,9,23) - x).days)\n",
    "popular_items_group = train.groupby(['article_id'])['pop_factor'].sum()\n",
    "\n",
    "_, popular_items = zip(*sorted(zip(popular_items_group, popular_items_group.keys()))[::-1])\n",
    "\n",
    "user_group = pd.concat([train1, train2, train3, train4], axis=0).groupby(['customer_id'])['article_id'].apply(list)"
   ]
  },
  {
   "cell_type": "code",
   "execution_count": 15,
   "id": "31533db7",
   "metadata": {
    "execution": {
     "iopub.execute_input": "2023-12-22T01:05:04.297365Z",
     "iopub.status.busy": "2023-12-22T01:05:04.296650Z",
     "iopub.status.idle": "2023-12-22T01:05:10.141766Z",
     "shell.execute_reply": "2023-12-22T01:05:10.142356Z",
     "shell.execute_reply.started": "2023-11-21T17:46:43.180175Z"
    },
    "papermill": {
     "duration": 6.004487,
     "end_time": "2023-12-22T01:05:10.142592",
     "exception": false,
     "start_time": "2023-12-22T01:05:04.138105",
     "status": "completed"
    },
    "tags": []
   },
   "outputs": [
    {
     "data": {
      "text/html": [
       "<div>\n",
       "<style scoped>\n",
       "    .dataframe tbody tr th:only-of-type {\n",
       "        vertical-align: middle;\n",
       "    }\n",
       "\n",
       "    .dataframe tbody tr th {\n",
       "        vertical-align: top;\n",
       "    }\n",
       "\n",
       "    .dataframe thead th {\n",
       "        text-align: right;\n",
       "    }\n",
       "</style>\n",
       "<table border=\"1\" class=\"dataframe\">\n",
       "  <thead>\n",
       "    <tr style=\"text-align: right;\">\n",
       "      <th></th>\n",
       "      <th>customer_id</th>\n",
       "      <th>prediction</th>\n",
       "    </tr>\n",
       "  </thead>\n",
       "  <tbody>\n",
       "    <tr>\n",
       "      <th>0</th>\n",
       "      <td>00000dbacae5abe5e23885899a1fa44253a17956c6d1c3...</td>\n",
       "      <td>0706016001 0706016002 0372860001 0610776002 07...</td>\n",
       "    </tr>\n",
       "    <tr>\n",
       "      <th>1</th>\n",
       "      <td>0000423b00ade91418cceaf3b26c6af3dd342b51fd051e...</td>\n",
       "      <td>0706016001 0706016002 0372860001 0610776002 07...</td>\n",
       "    </tr>\n",
       "    <tr>\n",
       "      <th>2</th>\n",
       "      <td>000058a12d5b43e67d225668fa1f8d618c13dc232df0ca...</td>\n",
       "      <td>0706016001 0706016002 0372860001 0610776002 07...</td>\n",
       "    </tr>\n",
       "    <tr>\n",
       "      <th>3</th>\n",
       "      <td>00005ca1c9ed5f5146b52ac8639a40ca9d57aeff4d1bd2...</td>\n",
       "      <td>0706016001 0706016002 0372860001 0610776002 07...</td>\n",
       "    </tr>\n",
       "    <tr>\n",
       "      <th>4</th>\n",
       "      <td>00006413d8573cd20ed7128e53b7b13819fe5cfc2d801f...</td>\n",
       "      <td>0706016001 0706016002 0372860001 0610776002 07...</td>\n",
       "    </tr>\n",
       "  </tbody>\n",
       "</table>\n",
       "</div>"
      ],
      "text/plain": [
       "                                         customer_id  \\\n",
       "0  00000dbacae5abe5e23885899a1fa44253a17956c6d1c3...   \n",
       "1  0000423b00ade91418cceaf3b26c6af3dd342b51fd051e...   \n",
       "2  000058a12d5b43e67d225668fa1f8d618c13dc232df0ca...   \n",
       "3  00005ca1c9ed5f5146b52ac8639a40ca9d57aeff4d1bd2...   \n",
       "4  00006413d8573cd20ed7128e53b7b13819fe5cfc2d801f...   \n",
       "\n",
       "                                          prediction  \n",
       "0  0706016001 0706016002 0372860001 0610776002 07...  \n",
       "1  0706016001 0706016002 0372860001 0610776002 07...  \n",
       "2  0706016001 0706016002 0372860001 0610776002 07...  \n",
       "3  0706016001 0706016002 0372860001 0610776002 07...  \n",
       "4  0706016001 0706016002 0372860001 0610776002 07...  "
      ]
     },
     "execution_count": 15,
     "metadata": {},
     "output_type": "execute_result"
    }
   ],
   "source": [
    "submission = pd.read_csv(\"/kaggle/input/h-and-m-personalized-fashion-recommendations/sample_submission.csv\")\n",
    "submission.head()"
   ]
  },
  {
   "cell_type": "markdown",
   "id": "2a8302a5",
   "metadata": {
    "papermill": {
     "duration": 0.15157,
     "end_time": "2023-12-22T01:05:10.444993",
     "exception": false,
     "start_time": "2023-12-22T01:05:10.293423",
     "status": "completed"
    },
    "tags": []
   },
   "source": [
    "# Make the submission Owned items + temporal popularity + my popularity"
   ]
  },
  {
   "cell_type": "code",
   "execution_count": 16,
   "id": "38eb714a",
   "metadata": {
    "execution": {
     "iopub.execute_input": "2023-12-22T01:05:10.797409Z",
     "iopub.status.busy": "2023-12-22T01:05:10.762190Z",
     "iopub.status.idle": "2023-12-22T01:12:34.399406Z",
     "shell.execute_reply": "2023-12-22T01:12:34.398265Z",
     "shell.execute_reply.started": "2023-11-21T17:46:50.044951Z"
    },
    "papermill": {
     "duration": 443.804006,
     "end_time": "2023-12-22T01:12:34.399617",
     "exception": false,
     "start_time": "2023-12-22T01:05:10.595611",
     "status": "completed"
    },
    "tags": []
   },
   "outputs": [
    {
     "name": "stderr",
     "output_type": "stream",
     "text": [
      "100%|██████████| 1371980/1371980 [07:15<00:00, 3147.25it/s]\n"
     ]
    }
   ],
   "source": [
    "from collections import Counter\n",
    "outputs = []\n",
    "cnt = 0\n",
    "user_cnt=0\n",
    "for user in tqdm(submission['customer_id']):\n",
    "    user_output = []\n",
    "    if user in positive_items_per_user1.keys():\n",
    "        most_common_items_of_user = {k:v for k, v in Counter(positive_items_per_user1[user]).most_common()}\n",
    "        user_output += list(most_common_items_of_user.keys())[:12]\n",
    "    if user in positive_items_per_user2.keys():\n",
    "        most_common_items_of_user = {k:v for k, v in Counter(positive_items_per_user2[user]).most_common()}\n",
    "        user_output += list(most_common_items_of_user.keys())[:12 - len(user_output)]\n",
    "    if user in positive_items_per_user3.keys():\n",
    "        most_common_items_of_user = {k:v for k, v in Counter(positive_items_per_user3[user]).most_common()}\n",
    "        user_output += list(most_common_items_of_user.keys())[:12 - len(user_output)]\n",
    "    if user in positive_items_per_user4.keys():\n",
    "        most_common_items_of_user = {k:v for k, v in Counter(positive_items_per_user4[user]).most_common()}\n",
    "        user_output += list(most_common_items_of_user.keys())[:12 - len(user_output)]\n",
    "        \n",
    "#     Add repurchase and own popularity\n",
    "    user_output = [int(j) for j in user_output] \n",
    "    repurchase = []\n",
    "    for articleRepurchase in latest_bought_articles[user_cnt]:\n",
    "        if articleRepurchase !=0:\n",
    "            repurchase.append(articleRepurchase)\n",
    "    \n",
    "#     order: repurchase decay + pop_items\n",
    "    user_output = repurchase + user_output + pop_items\n",
    "#     remove duplicates\n",
    "    user_output = [int(j) for j in user_output] \n",
    "    user_output = pd.Series(user_output).drop_duplicates().tolist()\n",
    "    \n",
    "    user_output = user_output[:12]\n",
    "    outputs.append(user_output)\n",
    "    user_cnt+=1\n",
    "    \n",
    "str_outputs = []\n",
    "for output in outputs:\n",
    "    str_outputs.append(\" \".join(['0' + str(x) for x in output]))"
   ]
  },
  {
   "cell_type": "code",
   "execution_count": 17,
   "id": "d4bc8a81",
   "metadata": {
    "execution": {
     "iopub.execute_input": "2023-12-22T01:12:38.690499Z",
     "iopub.status.busy": "2023-12-22T01:12:38.566863Z",
     "iopub.status.idle": "2023-12-22T01:12:38.746539Z",
     "shell.execute_reply": "2023-12-22T01:12:38.745897Z",
     "shell.execute_reply.started": "2023-11-21T17:52:47.801939Z"
    },
    "papermill": {
     "duration": 2.286285,
     "end_time": "2023-12-22T01:12:38.746701",
     "exception": false,
     "start_time": "2023-12-22T01:12:36.460416",
     "status": "completed"
    },
    "tags": []
   },
   "outputs": [],
   "source": [
    "submission['prediction'] = str_outputs\n"
   ]
  },
  {
   "cell_type": "code",
   "execution_count": 18,
   "id": "61b5a75e",
   "metadata": {
    "execution": {
     "iopub.execute_input": "2023-12-22T01:12:42.948470Z",
     "iopub.status.busy": "2023-12-22T01:12:42.947710Z",
     "iopub.status.idle": "2023-12-22T01:13:11.622584Z",
     "shell.execute_reply": "2023-12-22T01:13:11.621855Z",
     "shell.execute_reply.started": "2023-11-21T17:54:35.260467Z"
    },
    "papermill": {
     "duration": 30.816751,
     "end_time": "2023-12-22T01:13:11.622800",
     "exception": false,
     "start_time": "2023-12-22T01:12:40.806049",
     "status": "completed"
    },
    "tags": []
   },
   "outputs": [],
   "source": [
    "submission.to_csv(f'Repurchase5weekDecayPopular.csv.gz', index=False)"
   ]
  },
  {
   "cell_type": "code",
   "execution_count": 19,
   "id": "923325a4",
   "metadata": {
    "execution": {
     "iopub.execute_input": "2023-12-22T01:13:15.790651Z",
     "iopub.status.busy": "2023-12-22T01:13:15.789869Z",
     "iopub.status.idle": "2023-12-22T01:13:15.795688Z",
     "shell.execute_reply": "2023-12-22T01:13:15.796281Z",
     "shell.execute_reply.started": "2023-11-21T17:53:06.063425Z"
    },
    "papermill": {
     "duration": 2.10076,
     "end_time": "2023-12-22T01:13:15.796513",
     "exception": false,
     "start_time": "2023-12-22T01:13:13.695753",
     "status": "completed"
    },
    "tags": []
   },
   "outputs": [
    {
     "data": {
      "text/plain": [
       "array(['0568601043 0924243001 0918522001 0924243002 0923758001 0866731001 0915529003 0909370001 0915529005 0751471001 0918292001 0762846027'],\n",
       "      dtype=object)"
      ]
     },
     "execution_count": 19,
     "metadata": {},
     "output_type": "execute_result"
    }
   ],
   "source": [
    "submission.head(1).prediction.values"
   ]
  }
 ],
 "metadata": {
  "kaggle": {
   "accelerator": "none",
   "dataSources": [
    {
     "databundleVersionId": 3103714,
     "sourceId": 31254,
     "sourceType": "competition"
    },
    {
     "datasetId": 4032885,
     "sourceId": 7014309,
     "sourceType": "datasetVersion"
    },
    {
     "sourceId": 149573710,
     "sourceType": "kernelVersion"
    },
    {
     "sourceId": 149747734,
     "sourceType": "kernelVersion"
    },
    {
     "sourceId": 151606092,
     "sourceType": "kernelVersion"
    },
    {
     "sourceId": 151606319,
     "sourceType": "kernelVersion"
    },
    {
     "sourceId": 151691097,
     "sourceType": "kernelVersion"
    }
   ],
   "dockerImageVersionId": 30162,
   "isGpuEnabled": false,
   "isInternetEnabled": true,
   "language": "python",
   "sourceType": "notebook"
  },
  "kernelspec": {
   "display_name": "Python 3",
   "language": "python",
   "name": "python3"
  },
  "language_info": {
   "codemirror_mode": {
    "name": "ipython",
    "version": 3
   },
   "file_extension": ".py",
   "mimetype": "text/x-python",
   "name": "python",
   "nbconvert_exporter": "python",
   "pygments_lexer": "ipython3",
   "version": "3.7.12"
  },
  "papermill": {
   "default_parameters": {},
   "duration": 713.636938,
   "end_time": "2023-12-22T01:13:20.813031",
   "environment_variables": {},
   "exception": null,
   "input_path": "__notebook__.ipynb",
   "output_path": "__notebook__.ipynb",
   "parameters": {},
   "start_time": "2023-12-22T01:01:27.176093",
   "version": "2.3.3"
  }
 },
 "nbformat": 4,
 "nbformat_minor": 5
}
