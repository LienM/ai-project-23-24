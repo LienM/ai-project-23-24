{
 "cells": [
  {
   "cell_type": "markdown",
   "id": "fbdfb8f2",
   "metadata": {
    "id": "6f21ab04",
    "papermill": {
     "duration": 0.022656,
     "end_time": "2023-12-21T23:08:11.721905",
     "exception": false,
     "start_time": "2023-12-21T23:08:11.699249",
     "status": "completed"
    },
    "tags": []
   },
   "source": [
    "Based on the baseline \"Radek's LGBMRanker starter-pack”: https://www.kaggle.com/code/marcogorelli/radek-s-lgbmranker-starter-pack\n"
   ]
  },
  {
   "cell_type": "markdown",
   "id": "25ede62c",
   "metadata": {
    "papermill": {
     "duration": 0.025042,
     "end_time": "2023-12-21T23:08:11.769824",
     "exception": false,
     "start_time": "2023-12-21T23:08:11.744782",
     "status": "completed"
    },
    "tags": []
   },
   "source": [
    "# Helper functions"
   ]
  },
  {
   "cell_type": "code",
   "execution_count": 1,
   "id": "0e7420ce",
   "metadata": {
    "execution": {
     "iopub.execute_input": "2023-12-21T23:08:11.827985Z",
     "iopub.status.busy": "2023-12-21T23:08:11.826555Z",
     "iopub.status.idle": "2023-12-21T23:08:11.844027Z",
     "shell.execute_reply": "2023-12-21T23:08:11.843139Z"
    },
    "executionInfo": {
     "elapsed": 8,
     "status": "ok",
     "timestamp": 1699021070415,
     "user": {
      "displayName": "nick wils",
      "userId": "09906672494021070283"
     },
     "user_tz": -60
    },
    "id": "4a7e7212",
    "papermill": {
     "duration": 0.046261,
     "end_time": "2023-12-21T23:08:11.846987",
     "exception": false,
     "start_time": "2023-12-21T23:08:11.800726",
     "status": "completed"
    },
    "tags": []
   },
   "outputs": [],
   "source": [
    "import numpy as np\n",
    "\n",
    "def apk(actual, predicted, k=10):\n",
    "    \"\"\"\n",
    "    Computes the average precision at k.\n",
    "\n",
    "    This function computes the average prescision at k between two lists of\n",
    "    items.\n",
    "\n",
    "    Parameters\n",
    "    ----------\n",
    "    actual : list\n",
    "             A list of elements that are to be predicted (order doesn't matter)\n",
    "    predicted : list\n",
    "                A list of predicted elements (order does matter)\n",
    "    k : int, optional\n",
    "        The maximum number of predicted elements\n",
    "\n",
    "    Returns\n",
    "    -------\n",
    "    score : double\n",
    "            The average precision at k over the input lists\n",
    "\n",
    "    \"\"\"\n",
    "    if len(predicted)>k:\n",
    "        predicted = predicted[:k]\n",
    "\n",
    "    score = 0.0\n",
    "    num_hits = 0.0\n",
    "\n",
    "    for i,p in enumerate(predicted):\n",
    "        if p in actual and p not in predicted[:i]:\n",
    "            num_hits += 1.0\n",
    "            score += num_hits / (i+1.0)\n",
    "\n",
    "    if not actual:\n",
    "        return 0.0\n",
    "\n",
    "    return score / min(len(actual), k)\n",
    "\n",
    "def mapk(actual, predicted, k=10):\n",
    "    \"\"\"\n",
    "    Computes the mean average precision at k.\n",
    "\n",
    "    This function computes the mean average prescision at k between two lists\n",
    "    of lists of items.\n",
    "\n",
    "    Parameters\n",
    "    ----------\n",
    "    actual : list\n",
    "             A list of lists of elements that are to be predicted\n",
    "             (order doesn't matter in the lists)\n",
    "    predicted : list\n",
    "                A list of lists of predicted elements\n",
    "                (order matters in the lists)\n",
    "    k : int, optional\n",
    "        The maximum number of predicted elements\n",
    "\n",
    "    Returns\n",
    "    -------\n",
    "    score : double\n",
    "            The mean average precision at k over the input lists\n",
    "\n",
    "    \"\"\"\n",
    "    return np.mean([apk(a,p,k) for a,p in zip(actual, predicted)])"
   ]
  },
  {
   "cell_type": "code",
   "execution_count": 2,
   "id": "c7e7bf44",
   "metadata": {
    "execution": {
     "iopub.execute_input": "2023-12-21T23:08:11.900554Z",
     "iopub.status.busy": "2023-12-21T23:08:11.899056Z",
     "iopub.status.idle": "2023-12-21T23:08:13.438383Z",
     "shell.execute_reply": "2023-12-21T23:08:13.436652Z"
    },
    "executionInfo": {
     "elapsed": 1622,
     "status": "ok",
     "timestamp": 1699021072031,
     "user": {
      "displayName": "nick wils",
      "userId": "09906672494021070283"
     },
     "user_tz": -60
    },
    "id": "85ef6566",
    "papermill": {
     "duration": 1.571845,
     "end_time": "2023-12-21T23:08:13.441940",
     "exception": false,
     "start_time": "2023-12-21T23:08:11.870095",
     "status": "completed"
    },
    "tags": []
   },
   "outputs": [],
   "source": [
    "from sklearn.base import BaseEstimator, TransformerMixin\n",
    "import numpy as np\n",
    "\n",
    "# https://www.kaggle.com/c/h-and-m-personalized-fashion-recommendations/discussion/308635\n",
    "def customer_hex_id_to_int(series):\n",
    "    return series.str[-16:].apply(hex_id_to_int)\n",
    "\n",
    "def hex_id_to_int(str):\n",
    "    return int(str[-16:], 16)\n",
    "\n",
    "def article_id_str_to_int(series):\n",
    "    return series.astype('int32')\n",
    "\n",
    "def article_id_int_to_str(series):\n",
    "    return '0' + series.astype('str')\n",
    "\n",
    "class Categorize(BaseEstimator, TransformerMixin):\n",
    "    def __init__(self, min_examples=0):\n",
    "        self.min_examples = min_examples\n",
    "        self.categories = []\n",
    "\n",
    "    def fit(self, X):\n",
    "        for i in range(X.shape[1]):\n",
    "            vc = X.iloc[:, i].value_counts()\n",
    "            self.categories.append(vc[vc > self.min_examples].index.tolist())\n",
    "        return self\n",
    "\n",
    "    def transform(self, X):\n",
    "        data = {X.columns[i]: pd.Categorical(X.iloc[:, i], categories=self.categories[i]).codes for i in range(X.shape[1])}\n",
    "        return pd.DataFrame(data=data)\n",
    "\n",
    "\n",
    "def calculate_apk(list_of_preds, list_of_gts):\n",
    "    # for fast validation this can be changed to operate on dicts of {'cust_id_int': [art_id_int, ...]}\n",
    "    # using 'data/val_week_purchases_by_cust.pkl'\n",
    "    apks = []\n",
    "    for preds, gt in zip(list_of_preds, list_of_gts):\n",
    "        apks.append(apk(gt, preds, k=12))\n",
    "    return np.mean(apks)\n",
    "\n",
    "def eval_sub(sub_csv, skip_cust_with_no_purchases=True):\n",
    "    sub=pd.read_csv(sub_csv)\n",
    "    validation_set=pd.read_parquet('data/validation_ground_truth.parquet')\n",
    "\n",
    "    apks = []\n",
    "\n",
    "    no_purchases_pattern = []\n",
    "    for pred, gt in zip(sub.prediction.str.split(), validation_set.prediction.str.split()):\n",
    "        if skip_cust_with_no_purchases and (gt == no_purchases_pattern): continue\n",
    "        apks.append(apk(gt, pred, k=12))\n",
    "    return np.mean(apks)"
   ]
  },
  {
   "cell_type": "code",
   "execution_count": 3,
   "id": "deadd61b",
   "metadata": {
    "execution": {
     "iopub.execute_input": "2023-12-21T23:08:13.491040Z",
     "iopub.status.busy": "2023-12-21T23:08:13.490416Z",
     "iopub.status.idle": "2023-12-21T23:08:14.531508Z",
     "shell.execute_reply": "2023-12-21T23:08:14.529829Z"
    },
    "executionInfo": {
     "elapsed": 1009,
     "status": "ok",
     "timestamp": 1699021073032,
     "user": {
      "displayName": "nick wils",
      "userId": "09906672494021070283"
     },
     "user_tz": -60
    },
    "id": "78c7a34c",
    "papermill": {
     "duration": 1.069556,
     "end_time": "2023-12-21T23:08:14.534907",
     "exception": false,
     "start_time": "2023-12-21T23:08:13.465351",
     "status": "completed"
    },
    "tags": []
   },
   "outputs": [],
   "source": [
    "import pandas as pd"
   ]
  },
  {
   "cell_type": "markdown",
   "id": "b6e1462c",
   "metadata": {
    "papermill": {
     "duration": 0.021013,
     "end_time": "2023-12-21T23:08:14.578321",
     "exception": false,
     "start_time": "2023-12-21T23:08:14.557308",
     "status": "completed"
    },
    "tags": []
   },
   "source": [
    "# Read input files"
   ]
  },
  {
   "cell_type": "code",
   "execution_count": 4,
   "id": "9780ab13",
   "metadata": {
    "execution": {
     "iopub.execute_input": "2023-12-21T23:08:14.624107Z",
     "iopub.status.busy": "2023-12-21T23:08:14.623373Z",
     "iopub.status.idle": "2023-12-21T23:08:21.586654Z",
     "shell.execute_reply": "2023-12-21T23:08:21.584915Z"
    },
    "executionInfo": {
     "elapsed": 10386,
     "status": "ok",
     "timestamp": 1699021083403,
     "user": {
      "displayName": "nick wils",
      "userId": "09906672494021070283"
     },
     "user_tz": -60
    },
    "id": "af847e1a",
    "outputId": "3cbfb68d-34ad-434e-8246-c093b7fedffd",
    "papermill": {
     "duration": 6.990409,
     "end_time": "2023-12-21T23:08:21.589997",
     "exception": false,
     "start_time": "2023-12-21T23:08:14.599588",
     "status": "completed"
    },
    "tags": []
   },
   "outputs": [
    {
     "name": "stdout",
     "output_type": "stream",
     "text": [
      "CPU times: user 3.78 s, sys: 5.56 s, total: 9.34 s\n",
      "Wall time: 6.95 s\n"
     ]
    }
   ],
   "source": [
    "%%time\n",
    "pad = \"/kaggle/input/makeparquet\"\n",
    "transactions = pd.read_parquet(pad+'/transactions_train.parquet')\n",
    "customers = pd.read_parquet(pad+'/customers.parquet')\n",
    "articles = pd.read_parquet(pad+'/articles.parquet')"
   ]
  },
  {
   "cell_type": "code",
   "execution_count": 5,
   "id": "2dc02e93",
   "metadata": {
    "execution": {
     "iopub.execute_input": "2023-12-21T23:08:21.642477Z",
     "iopub.status.busy": "2023-12-21T23:08:21.642012Z",
     "iopub.status.idle": "2023-12-21T23:08:21.997045Z",
     "shell.execute_reply": "2023-12-21T23:08:21.995114Z"
    },
    "executionInfo": {
     "elapsed": 359,
     "status": "ok",
     "timestamp": 1699021083748,
     "user": {
      "displayName": "nick wils",
      "userId": "09906672494021070283"
     },
     "user_tz": -60
    },
    "id": "76f70d9a",
    "papermill": {
     "duration": 0.388334,
     "end_time": "2023-12-21T23:08:22.000354",
     "exception": false,
     "start_time": "2023-12-21T23:08:21.612020",
     "status": "completed"
    },
    "tags": []
   },
   "outputs": [],
   "source": [
    "test_week = transactions.week.max() + 1\n",
    "transactions = transactions[transactions.week > transactions.week.max() - 10]"
   ]
  },
  {
   "cell_type": "markdown",
   "id": "eecd9761",
   "metadata": {
    "id": "5133081f",
    "papermill": {
     "duration": 0.020879,
     "end_time": "2023-12-21T23:08:22.043434",
     "exception": false,
     "start_time": "2023-12-21T23:08:22.022555",
     "status": "completed"
    },
    "tags": []
   },
   "source": [
    "# Generating candidates"
   ]
  },
  {
   "cell_type": "markdown",
   "id": "bbaf8889",
   "metadata": {
    "id": "55672930",
    "papermill": {
     "duration": 0.026822,
     "end_time": "2023-12-21T23:08:22.092047",
     "exception": false,
     "start_time": "2023-12-21T23:08:22.065225",
     "status": "completed"
    },
    "tags": []
   },
   "source": [
    "### Last purchase candidates"
   ]
  },
  {
   "cell_type": "code",
   "execution_count": 6,
   "id": "b8d6036d",
   "metadata": {
    "execution": {
     "iopub.execute_input": "2023-12-21T23:08:22.224470Z",
     "iopub.status.busy": "2023-12-21T23:08:22.223996Z",
     "iopub.status.idle": "2023-12-21T23:08:56.127015Z",
     "shell.execute_reply": "2023-12-21T23:08:56.125317Z"
    },
    "executionInfo": {
     "elapsed": 44324,
     "status": "ok",
     "timestamp": 1699021128069,
     "user": {
      "displayName": "nick wils",
      "userId": "09906672494021070283"
     },
     "user_tz": -60
    },
    "id": "953a0f07",
    "outputId": "a64eb57a-9b27-486a-ed3e-cbd737918d66",
    "papermill": {
     "duration": 34.036825,
     "end_time": "2023-12-21T23:08:56.152491",
     "exception": false,
     "start_time": "2023-12-21T23:08:22.115666",
     "status": "completed"
    },
    "tags": []
   },
   "outputs": [
    {
     "name": "stdout",
     "output_type": "stream",
     "text": [
      "CPU times: user 33.5 s, sys: 607 ms, total: 34.1 s\n",
      "Wall time: 33.9 s\n"
     ]
    }
   ],
   "source": [
    "%%time\n",
    "\n",
    "c2weeks = transactions.groupby('customer_id')['week'].unique()"
   ]
  },
  {
   "cell_type": "code",
   "execution_count": 7,
   "id": "10f7acc9",
   "metadata": {
    "execution": {
     "iopub.execute_input": "2023-12-21T23:08:56.200555Z",
     "iopub.status.busy": "2023-12-21T23:08:56.200070Z",
     "iopub.status.idle": "2023-12-21T23:08:56.296005Z",
     "shell.execute_reply": "2023-12-21T23:08:56.294806Z"
    },
    "executionInfo": {
     "elapsed": 27,
     "status": "ok",
     "timestamp": 1699021128070,
     "user": {
      "displayName": "nick wils",
      "userId": "09906672494021070283"
     },
     "user_tz": -60
    },
    "id": "a36be6fc",
    "outputId": "d760722c-fd93-4387-ec91-567d48918be5",
    "papermill": {
     "duration": 0.122508,
     "end_time": "2023-12-21T23:08:56.298470",
     "exception": false,
     "start_time": "2023-12-21T23:08:56.175962",
     "status": "completed"
    },
    "tags": []
   },
   "outputs": [
    {
     "data": {
      "text/html": [
       "<div>\n",
       "<style scoped>\n",
       "    .dataframe tbody tr th:only-of-type {\n",
       "        vertical-align: middle;\n",
       "    }\n",
       "\n",
       "    .dataframe tbody tr th {\n",
       "        vertical-align: top;\n",
       "    }\n",
       "\n",
       "    .dataframe thead th {\n",
       "        text-align: right;\n",
       "    }\n",
       "</style>\n",
       "<table border=\"1\" class=\"dataframe\">\n",
       "  <thead>\n",
       "    <tr style=\"text-align: right;\">\n",
       "      <th></th>\n",
       "      <th>min</th>\n",
       "      <th>max</th>\n",
       "    </tr>\n",
       "    <tr>\n",
       "      <th>week</th>\n",
       "      <th></th>\n",
       "      <th></th>\n",
       "    </tr>\n",
       "  </thead>\n",
       "  <tbody>\n",
       "    <tr>\n",
       "      <th>95</th>\n",
       "      <td>2020-07-15</td>\n",
       "      <td>2020-07-21</td>\n",
       "    </tr>\n",
       "    <tr>\n",
       "      <th>96</th>\n",
       "      <td>2020-07-22</td>\n",
       "      <td>2020-07-28</td>\n",
       "    </tr>\n",
       "    <tr>\n",
       "      <th>97</th>\n",
       "      <td>2020-07-29</td>\n",
       "      <td>2020-08-04</td>\n",
       "    </tr>\n",
       "    <tr>\n",
       "      <th>98</th>\n",
       "      <td>2020-08-05</td>\n",
       "      <td>2020-08-11</td>\n",
       "    </tr>\n",
       "    <tr>\n",
       "      <th>99</th>\n",
       "      <td>2020-08-12</td>\n",
       "      <td>2020-08-18</td>\n",
       "    </tr>\n",
       "    <tr>\n",
       "      <th>100</th>\n",
       "      <td>2020-08-19</td>\n",
       "      <td>2020-08-25</td>\n",
       "    </tr>\n",
       "    <tr>\n",
       "      <th>101</th>\n",
       "      <td>2020-08-26</td>\n",
       "      <td>2020-09-01</td>\n",
       "    </tr>\n",
       "    <tr>\n",
       "      <th>102</th>\n",
       "      <td>2020-09-02</td>\n",
       "      <td>2020-09-08</td>\n",
       "    </tr>\n",
       "    <tr>\n",
       "      <th>103</th>\n",
       "      <td>2020-09-09</td>\n",
       "      <td>2020-09-15</td>\n",
       "    </tr>\n",
       "    <tr>\n",
       "      <th>104</th>\n",
       "      <td>2020-09-16</td>\n",
       "      <td>2020-09-22</td>\n",
       "    </tr>\n",
       "  </tbody>\n",
       "</table>\n",
       "</div>"
      ],
      "text/plain": [
       "            min        max\n",
       "week                      \n",
       "95   2020-07-15 2020-07-21\n",
       "96   2020-07-22 2020-07-28\n",
       "97   2020-07-29 2020-08-04\n",
       "98   2020-08-05 2020-08-11\n",
       "99   2020-08-12 2020-08-18\n",
       "100  2020-08-19 2020-08-25\n",
       "101  2020-08-26 2020-09-01\n",
       "102  2020-09-02 2020-09-08\n",
       "103  2020-09-09 2020-09-15\n",
       "104  2020-09-16 2020-09-22"
      ]
     },
     "execution_count": 7,
     "metadata": {},
     "output_type": "execute_result"
    }
   ],
   "source": [
    "transactions.groupby('week')['t_dat'].agg(['min', 'max'])"
   ]
  },
  {
   "cell_type": "code",
   "execution_count": 8,
   "id": "c3ed5a30",
   "metadata": {
    "execution": {
     "iopub.execute_input": "2023-12-21T23:08:56.344915Z",
     "iopub.status.busy": "2023-12-21T23:08:56.344252Z",
     "iopub.status.idle": "2023-12-21T23:08:57.573598Z",
     "shell.execute_reply": "2023-12-21T23:08:57.572413Z"
    },
    "executionInfo": {
     "elapsed": 942,
     "status": "ok",
     "timestamp": 1699021129001,
     "user": {
      "displayName": "nick wils",
      "userId": "09906672494021070283"
     },
     "user_tz": -60
    },
    "id": "f4723bec",
    "outputId": "700683a1-0720-43a3-bd06-c22a827fbf02",
    "papermill": {
     "duration": 1.255899,
     "end_time": "2023-12-21T23:08:57.576240",
     "exception": false,
     "start_time": "2023-12-21T23:08:56.320341",
     "status": "completed"
    },
    "tags": []
   },
   "outputs": [
    {
     "name": "stdout",
     "output_type": "stream",
     "text": [
      "CPU times: user 1.17 s, sys: 52.8 ms, total: 1.22 s\n",
      "Wall time: 1.22 s\n"
     ]
    }
   ],
   "source": [
    "%%time\n",
    "\n",
    "c2weeks2shifted_weeks = {}\n",
    "\n",
    "for c_id, weeks in c2weeks.items():\n",
    "    c2weeks2shifted_weeks[c_id] = {}\n",
    "    for i in range(weeks.shape[0]-1):\n",
    "        c2weeks2shifted_weeks[c_id][weeks[i]] = weeks[i+1]\n",
    "    c2weeks2shifted_weeks[c_id][weeks[-1]] = test_week"
   ]
  },
  {
   "cell_type": "code",
   "execution_count": 9,
   "id": "13dc1cc2",
   "metadata": {
    "execution": {
     "iopub.execute_input": "2023-12-21T23:08:57.622311Z",
     "iopub.status.busy": "2023-12-21T23:08:57.621394Z",
     "iopub.status.idle": "2023-12-21T23:08:57.648178Z",
     "shell.execute_reply": "2023-12-21T23:08:57.647254Z"
    },
    "executionInfo": {
     "elapsed": 6,
     "status": "ok",
     "timestamp": 1699021129002,
     "user": {
      "displayName": "nick wils",
      "userId": "09906672494021070283"
     },
     "user_tz": -60
    },
    "id": "5a87c920",
    "papermill": {
     "duration": 0.052838,
     "end_time": "2023-12-21T23:08:57.650849",
     "exception": false,
     "start_time": "2023-12-21T23:08:57.598011",
     "status": "completed"
    },
    "tags": []
   },
   "outputs": [],
   "source": [
    "candidates_last_purchase = transactions.copy()"
   ]
  },
  {
   "cell_type": "code",
   "execution_count": 10,
   "id": "be6bc6f2",
   "metadata": {
    "execution": {
     "iopub.execute_input": "2023-12-21T23:08:57.696758Z",
     "iopub.status.busy": "2023-12-21T23:08:57.696112Z",
     "iopub.status.idle": "2023-12-21T23:09:30.686409Z",
     "shell.execute_reply": "2023-12-21T23:09:30.684677Z"
    },
    "executionInfo": {
     "elapsed": 20239,
     "status": "ok",
     "timestamp": 1699021149235,
     "user": {
      "displayName": "nick wils",
      "userId": "09906672494021070283"
     },
     "user_tz": -60
    },
    "id": "4f4d4a18",
    "outputId": "a177aca2-7d87-44a1-cbfd-23488359d3d3",
    "papermill": {
     "duration": 33.037211,
     "end_time": "2023-12-21T23:09:30.709828",
     "exception": false,
     "start_time": "2023-12-21T23:08:57.672617",
     "status": "completed"
    },
    "tags": []
   },
   "outputs": [
    {
     "name": "stdout",
     "output_type": "stream",
     "text": [
      "CPU times: user 32.9 s, sys: 218 ms, total: 33.2 s\n",
      "Wall time: 33 s\n"
     ]
    }
   ],
   "source": [
    "%%time\n",
    "\n",
    "weeks = []\n",
    "for i, (c_id, week) in enumerate(zip(transactions['customer_id'], transactions['week'])):\n",
    "    weeks.append(c2weeks2shifted_weeks[c_id][week])\n",
    "\n",
    "candidates_last_purchase.week=weeks"
   ]
  },
  {
   "cell_type": "markdown",
   "id": "7f34ea16",
   "metadata": {
    "id": "38ae3458",
    "papermill": {
     "duration": 0.021665,
     "end_time": "2023-12-21T23:09:30.753318",
     "exception": false,
     "start_time": "2023-12-21T23:09:30.731653",
     "status": "completed"
    },
    "tags": []
   },
   "source": [
    "### Bestsellers candidates"
   ]
  },
  {
   "cell_type": "code",
   "execution_count": 11,
   "id": "25275984",
   "metadata": {
    "execution": {
     "iopub.execute_input": "2023-12-21T23:09:30.800909Z",
     "iopub.status.busy": "2023-12-21T23:09:30.800153Z",
     "iopub.status.idle": "2023-12-21T23:09:31.078963Z",
     "shell.execute_reply": "2023-12-21T23:09:31.077036Z"
    },
    "executionInfo": {
     "elapsed": 36,
     "status": "ok",
     "timestamp": 1699021149236,
     "user": {
      "displayName": "nick wils",
      "userId": "09906672494021070283"
     },
     "user_tz": -60
    },
    "id": "022a7879",
    "papermill": {
     "duration": 0.307255,
     "end_time": "2023-12-21T23:09:31.082317",
     "exception": false,
     "start_time": "2023-12-21T23:09:30.775062",
     "status": "completed"
    },
    "tags": []
   },
   "outputs": [],
   "source": [
    "mean_price = transactions \\\n",
    "    .groupby(['week', 'article_id'])['price'].mean()"
   ]
  },
  {
   "cell_type": "code",
   "execution_count": 12,
   "id": "42a5ed2a",
   "metadata": {
    "execution": {
     "iopub.execute_input": "2023-12-21T23:09:31.129634Z",
     "iopub.status.busy": "2023-12-21T23:09:31.129131Z",
     "iopub.status.idle": "2023-12-21T23:09:31.455539Z",
     "shell.execute_reply": "2023-12-21T23:09:31.453978Z"
    },
    "executionInfo": {
     "elapsed": 732,
     "status": "ok",
     "timestamp": 1699021150260,
     "user": {
      "displayName": "nick wils",
      "userId": "09906672494021070283"
     },
     "user_tz": -60
    },
    "id": "9a104ef9",
    "papermill": {
     "duration": 0.353966,
     "end_time": "2023-12-21T23:09:31.458561",
     "exception": false,
     "start_time": "2023-12-21T23:09:31.104595",
     "status": "completed"
    },
    "tags": []
   },
   "outputs": [],
   "source": [
    "sales = transactions \\\n",
    "    .groupby('week')['article_id'].value_counts() \\\n",
    "    .groupby('week').rank(method='dense', ascending=False) \\\n",
    "    .groupby('week').head(12).rename('bestseller_rank').astype('int8')"
   ]
  },
  {
   "cell_type": "code",
   "execution_count": 13,
   "id": "65d5e6b5",
   "metadata": {
    "execution": {
     "iopub.execute_input": "2023-12-21T23:09:31.505355Z",
     "iopub.status.busy": "2023-12-21T23:09:31.504857Z",
     "iopub.status.idle": "2023-12-21T23:09:31.615950Z",
     "shell.execute_reply": "2023-12-21T23:09:31.614181Z"
    },
    "executionInfo": {
     "elapsed": 14,
     "status": "ok",
     "timestamp": 1699021150262,
     "user": {
      "displayName": "nick wils",
      "userId": "09906672494021070283"
     },
     "user_tz": -60
    },
    "id": "20324cc0",
    "papermill": {
     "duration": 0.138051,
     "end_time": "2023-12-21T23:09:31.619121",
     "exception": false,
     "start_time": "2023-12-21T23:09:31.481070",
     "status": "completed"
    },
    "tags": []
   },
   "outputs": [],
   "source": [
    "bestsellers_previous_week = pd.merge(sales, mean_price, on=['week', 'article_id']).reset_index()\n",
    "bestsellers_previous_week.week += 1"
   ]
  },
  {
   "cell_type": "code",
   "execution_count": 14,
   "id": "9b16cfd4",
   "metadata": {
    "execution": {
     "iopub.execute_input": "2023-12-21T23:09:31.665901Z",
     "iopub.status.busy": "2023-12-21T23:09:31.665179Z",
     "iopub.status.idle": "2023-12-21T23:09:31.683619Z",
     "shell.execute_reply": "2023-12-21T23:09:31.682199Z"
    },
    "executionInfo": {
     "elapsed": 13,
     "status": "ok",
     "timestamp": 1699021150262,
     "user": {
      "displayName": "nick wils",
      "userId": "09906672494021070283"
     },
     "user_tz": -60
    },
    "id": "b8447b19",
    "outputId": "b992d53d-c501-4be5-e373-7ed121335003",
    "papermill": {
     "duration": 0.044955,
     "end_time": "2023-12-21T23:09:31.686535",
     "exception": false,
     "start_time": "2023-12-21T23:09:31.641580",
     "status": "completed"
    },
    "tags": []
   },
   "outputs": [
    {
     "data": {
      "text/html": [
       "<div>\n",
       "<style scoped>\n",
       "    .dataframe tbody tr th:only-of-type {\n",
       "        vertical-align: middle;\n",
       "    }\n",
       "\n",
       "    .dataframe tbody tr th {\n",
       "        vertical-align: top;\n",
       "    }\n",
       "\n",
       "    .dataframe thead th {\n",
       "        text-align: right;\n",
       "    }\n",
       "</style>\n",
       "<table border=\"1\" class=\"dataframe\">\n",
       "  <thead>\n",
       "    <tr style=\"text-align: right;\">\n",
       "      <th></th>\n",
       "      <th>week</th>\n",
       "      <th>article_id</th>\n",
       "      <th>bestseller_rank</th>\n",
       "      <th>price</th>\n",
       "    </tr>\n",
       "  </thead>\n",
       "  <tbody>\n",
       "    <tr>\n",
       "      <th>0</th>\n",
       "      <td>96</td>\n",
       "      <td>760084003</td>\n",
       "      <td>1</td>\n",
       "      <td>0.025094</td>\n",
       "    </tr>\n",
       "    <tr>\n",
       "      <th>1</th>\n",
       "      <td>96</td>\n",
       "      <td>866731001</td>\n",
       "      <td>2</td>\n",
       "      <td>0.024919</td>\n",
       "    </tr>\n",
       "    <tr>\n",
       "      <th>2</th>\n",
       "      <td>96</td>\n",
       "      <td>600886001</td>\n",
       "      <td>3</td>\n",
       "      <td>0.022980</td>\n",
       "    </tr>\n",
       "    <tr>\n",
       "      <th>3</th>\n",
       "      <td>96</td>\n",
       "      <td>706016001</td>\n",
       "      <td>4</td>\n",
       "      <td>0.033197</td>\n",
       "    </tr>\n",
       "    <tr>\n",
       "      <th>4</th>\n",
       "      <td>96</td>\n",
       "      <td>372860002</td>\n",
       "      <td>5</td>\n",
       "      <td>0.013193</td>\n",
       "    </tr>\n",
       "    <tr>\n",
       "      <th>5</th>\n",
       "      <td>96</td>\n",
       "      <td>610776002</td>\n",
       "      <td>6</td>\n",
       "      <td>0.008318</td>\n",
       "    </tr>\n",
       "    <tr>\n",
       "      <th>6</th>\n",
       "      <td>96</td>\n",
       "      <td>877278002</td>\n",
       "      <td>7</td>\n",
       "      <td>0.025036</td>\n",
       "    </tr>\n",
       "    <tr>\n",
       "      <th>7</th>\n",
       "      <td>96</td>\n",
       "      <td>547780003</td>\n",
       "      <td>8</td>\n",
       "      <td>0.024814</td>\n",
       "    </tr>\n",
       "    <tr>\n",
       "      <th>8</th>\n",
       "      <td>96</td>\n",
       "      <td>817354001</td>\n",
       "      <td>9</td>\n",
       "      <td>0.021913</td>\n",
       "    </tr>\n",
       "    <tr>\n",
       "      <th>9</th>\n",
       "      <td>96</td>\n",
       "      <td>827968001</td>\n",
       "      <td>10</td>\n",
       "      <td>0.016436</td>\n",
       "    </tr>\n",
       "    <tr>\n",
       "      <th>10</th>\n",
       "      <td>96</td>\n",
       "      <td>866731003</td>\n",
       "      <td>11</td>\n",
       "      <td>0.024893</td>\n",
       "    </tr>\n",
       "    <tr>\n",
       "      <th>11</th>\n",
       "      <td>96</td>\n",
       "      <td>866383006</td>\n",
       "      <td>12</td>\n",
       "      <td>0.023195</td>\n",
       "    </tr>\n",
       "  </tbody>\n",
       "</table>\n",
       "</div>"
      ],
      "text/plain": [
       "    week  article_id  bestseller_rank     price\n",
       "0     96   760084003                1  0.025094\n",
       "1     96   866731001                2  0.024919\n",
       "2     96   600886001                3  0.022980\n",
       "3     96   706016001                4  0.033197\n",
       "4     96   372860002                5  0.013193\n",
       "5     96   610776002                6  0.008318\n",
       "6     96   877278002                7  0.025036\n",
       "7     96   547780003                8  0.024814\n",
       "8     96   817354001                9  0.021913\n",
       "9     96   827968001               10  0.016436\n",
       "10    96   866731003               11  0.024893\n",
       "11    96   866383006               12  0.023195"
      ]
     },
     "execution_count": 14,
     "metadata": {},
     "output_type": "execute_result"
    }
   ],
   "source": [
    "bestsellers_previous_week.pipe(lambda df: df[df['week']==96])"
   ]
  },
  {
   "cell_type": "code",
   "execution_count": 15,
   "id": "c23371b5",
   "metadata": {
    "execution": {
     "iopub.execute_input": "2023-12-21T23:09:31.736277Z",
     "iopub.status.busy": "2023-12-21T23:09:31.735521Z",
     "iopub.status.idle": "2023-12-21T23:09:32.435200Z",
     "shell.execute_reply": "2023-12-21T23:09:32.433417Z"
    },
    "executionInfo": {
     "elapsed": 867,
     "status": "ok",
     "timestamp": 1699021151118,
     "user": {
      "displayName": "nick wils",
      "userId": "09906672494021070283"
     },
     "user_tz": -60
    },
    "id": "1ad756de",
    "papermill": {
     "duration": 0.729133,
     "end_time": "2023-12-21T23:09:32.438110",
     "exception": false,
     "start_time": "2023-12-21T23:09:31.708977",
     "status": "completed"
    },
    "tags": []
   },
   "outputs": [],
   "source": [
    "unique_transactions = transactions \\\n",
    "    .groupby(['week', 'customer_id']) \\\n",
    "    .head(1) \\\n",
    "    .drop(columns=['article_id', 'price']) \\\n",
    "    .copy()"
   ]
  },
  {
   "cell_type": "code",
   "execution_count": 16,
   "id": "61b8f384",
   "metadata": {
    "execution": {
     "iopub.execute_input": "2023-12-21T23:09:32.487013Z",
     "iopub.status.busy": "2023-12-21T23:09:32.485512Z",
     "iopub.status.idle": "2023-12-21T23:09:32.844744Z",
     "shell.execute_reply": "2023-12-21T23:09:32.843566Z"
    },
    "executionInfo": {
     "elapsed": 343,
     "status": "ok",
     "timestamp": 1699021151457,
     "user": {
      "displayName": "nick wils",
      "userId": "09906672494021070283"
     },
     "user_tz": -60
    },
    "id": "5721ca6d",
    "outputId": "26dbeac9-bfc8-44b6-879f-c3fbe5cb175d",
    "papermill": {
     "duration": 0.386326,
     "end_time": "2023-12-21T23:09:32.847455",
     "exception": false,
     "start_time": "2023-12-21T23:09:32.461129",
     "status": "completed"
    },
    "tags": []
   },
   "outputs": [
    {
     "data": {
      "text/html": [
       "<div>\n",
       "<style scoped>\n",
       "    .dataframe tbody tr th:only-of-type {\n",
       "        vertical-align: middle;\n",
       "    }\n",
       "\n",
       "    .dataframe tbody tr th {\n",
       "        vertical-align: top;\n",
       "    }\n",
       "\n",
       "    .dataframe thead th {\n",
       "        text-align: right;\n",
       "    }\n",
       "</style>\n",
       "<table border=\"1\" class=\"dataframe\">\n",
       "  <thead>\n",
       "    <tr style=\"text-align: right;\">\n",
       "      <th></th>\n",
       "      <th>t_dat</th>\n",
       "      <th>customer_id</th>\n",
       "      <th>article_id</th>\n",
       "      <th>price</th>\n",
       "      <th>sales_channel_id</th>\n",
       "      <th>season</th>\n",
       "      <th>year</th>\n",
       "      <th>month</th>\n",
       "      <th>week</th>\n",
       "    </tr>\n",
       "  </thead>\n",
       "  <tbody>\n",
       "    <tr>\n",
       "      <th>29030503</th>\n",
       "      <td>2020-07-15</td>\n",
       "      <td>272412481300040</td>\n",
       "      <td>778064028</td>\n",
       "      <td>0.008458</td>\n",
       "      <td>1</td>\n",
       "      <td>2</td>\n",
       "      <td>-28</td>\n",
       "      <td>7</td>\n",
       "      <td>95</td>\n",
       "    </tr>\n",
       "    <tr>\n",
       "      <th>29064059</th>\n",
       "      <td>2020-07-15</td>\n",
       "      <td>1456826891333599</td>\n",
       "      <td>888294001</td>\n",
       "      <td>0.013542</td>\n",
       "      <td>1</td>\n",
       "      <td>2</td>\n",
       "      <td>-28</td>\n",
       "      <td>7</td>\n",
       "      <td>95</td>\n",
       "    </tr>\n",
       "    <tr>\n",
       "      <th>29067103</th>\n",
       "      <td>2020-07-15</td>\n",
       "      <td>2133687643102426</td>\n",
       "      <td>843642001</td>\n",
       "      <td>0.042356</td>\n",
       "      <td>2</td>\n",
       "      <td>2</td>\n",
       "      <td>-28</td>\n",
       "      <td>7</td>\n",
       "      <td>95</td>\n",
       "    </tr>\n",
       "    <tr>\n",
       "      <th>29027487</th>\n",
       "      <td>2020-07-15</td>\n",
       "      <td>6010692573790711</td>\n",
       "      <td>857812010</td>\n",
       "      <td>0.039661</td>\n",
       "      <td>1</td>\n",
       "      <td>2</td>\n",
       "      <td>-28</td>\n",
       "      <td>7</td>\n",
       "      <td>95</td>\n",
       "    </tr>\n",
       "    <tr>\n",
       "      <th>29046403</th>\n",
       "      <td>2020-07-15</td>\n",
       "      <td>6171059100114610</td>\n",
       "      <td>815447007</td>\n",
       "      <td>0.006763</td>\n",
       "      <td>2</td>\n",
       "      <td>2</td>\n",
       "      <td>-28</td>\n",
       "      <td>7</td>\n",
       "      <td>95</td>\n",
       "    </tr>\n",
       "    <tr>\n",
       "      <th>...</th>\n",
       "      <td>...</td>\n",
       "      <td>...</td>\n",
       "      <td>...</td>\n",
       "      <td>...</td>\n",
       "      <td>...</td>\n",
       "      <td>...</td>\n",
       "      <td>...</td>\n",
       "      <td>...</td>\n",
       "      <td>...</td>\n",
       "    </tr>\n",
       "    <tr>\n",
       "      <th>31760188</th>\n",
       "      <td>2020-09-22</td>\n",
       "      <td>18435221511488011015</td>\n",
       "      <td>573085055</td>\n",
       "      <td>0.033881</td>\n",
       "      <td>1</td>\n",
       "      <td>3</td>\n",
       "      <td>-28</td>\n",
       "      <td>9</td>\n",
       "      <td>104</td>\n",
       "    </tr>\n",
       "    <tr>\n",
       "      <th>31782234</th>\n",
       "      <td>2020-09-22</td>\n",
       "      <td>18436859303155335645</td>\n",
       "      <td>801447001</td>\n",
       "      <td>0.030492</td>\n",
       "      <td>1</td>\n",
       "      <td>3</td>\n",
       "      <td>-28</td>\n",
       "      <td>9</td>\n",
       "      <td>104</td>\n",
       "    </tr>\n",
       "    <tr>\n",
       "      <th>31787251</th>\n",
       "      <td>2020-09-22</td>\n",
       "      <td>18437941771381362708</td>\n",
       "      <td>907188001</td>\n",
       "      <td>0.050831</td>\n",
       "      <td>2</td>\n",
       "      <td>3</td>\n",
       "      <td>-28</td>\n",
       "      <td>9</td>\n",
       "      <td>104</td>\n",
       "    </tr>\n",
       "    <tr>\n",
       "      <th>31776022</th>\n",
       "      <td>2020-09-22</td>\n",
       "      <td>18438270306572912089</td>\n",
       "      <td>751471043</td>\n",
       "      <td>0.033881</td>\n",
       "      <td>1</td>\n",
       "      <td>3</td>\n",
       "      <td>-28</td>\n",
       "      <td>9</td>\n",
       "      <td>104</td>\n",
       "    </tr>\n",
       "    <tr>\n",
       "      <th>31779097</th>\n",
       "      <td>2020-09-22</td>\n",
       "      <td>18440902715633436014</td>\n",
       "      <td>918894002</td>\n",
       "      <td>0.016932</td>\n",
       "      <td>1</td>\n",
       "      <td>3</td>\n",
       "      <td>-28</td>\n",
       "      <td>9</td>\n",
       "      <td>104</td>\n",
       "    </tr>\n",
       "  </tbody>\n",
       "</table>\n",
       "<p>755710 rows × 9 columns</p>\n",
       "</div>"
      ],
      "text/plain": [
       "              t_dat           customer_id  article_id     price  \\\n",
       "29030503 2020-07-15       272412481300040   778064028  0.008458   \n",
       "29064059 2020-07-15      1456826891333599   888294001  0.013542   \n",
       "29067103 2020-07-15      2133687643102426   843642001  0.042356   \n",
       "29027487 2020-07-15      6010692573790711   857812010  0.039661   \n",
       "29046403 2020-07-15      6171059100114610   815447007  0.006763   \n",
       "...             ...                   ...         ...       ...   \n",
       "31760188 2020-09-22  18435221511488011015   573085055  0.033881   \n",
       "31782234 2020-09-22  18436859303155335645   801447001  0.030492   \n",
       "31787251 2020-09-22  18437941771381362708   907188001  0.050831   \n",
       "31776022 2020-09-22  18438270306572912089   751471043  0.033881   \n",
       "31779097 2020-09-22  18440902715633436014   918894002  0.016932   \n",
       "\n",
       "          sales_channel_id  season  year  month  week  \n",
       "29030503                 1       2   -28      7    95  \n",
       "29064059                 1       2   -28      7    95  \n",
       "29067103                 2       2   -28      7    95  \n",
       "29027487                 1       2   -28      7    95  \n",
       "29046403                 2       2   -28      7    95  \n",
       "...                    ...     ...   ...    ...   ...  \n",
       "31760188                 1       3   -28      9   104  \n",
       "31782234                 1       3   -28      9   104  \n",
       "31787251                 2       3   -28      9   104  \n",
       "31776022                 1       3   -28      9   104  \n",
       "31779097                 1       3   -28      9   104  \n",
       "\n",
       "[755710 rows x 9 columns]"
      ]
     },
     "execution_count": 16,
     "metadata": {},
     "output_type": "execute_result"
    }
   ],
   "source": [
    "transactions.drop_duplicates(['week', 'customer_id'])"
   ]
  },
  {
   "cell_type": "code",
   "execution_count": 17,
   "id": "f177bdcb",
   "metadata": {
    "execution": {
     "iopub.execute_input": "2023-12-21T23:09:32.896904Z",
     "iopub.status.busy": "2023-12-21T23:09:32.896441Z",
     "iopub.status.idle": "2023-12-21T23:09:33.696391Z",
     "shell.execute_reply": "2023-12-21T23:09:33.695299Z"
    },
    "executionInfo": {
     "elapsed": 939,
     "status": "ok",
     "timestamp": 1699021152392,
     "user": {
      "displayName": "nick wils",
      "userId": "09906672494021070283"
     },
     "user_tz": -60
    },
    "id": "4a23981e",
    "papermill": {
     "duration": 0.82804,
     "end_time": "2023-12-21T23:09:33.699429",
     "exception": false,
     "start_time": "2023-12-21T23:09:32.871389",
     "status": "completed"
    },
    "tags": []
   },
   "outputs": [],
   "source": [
    "candidates_bestsellers = pd.merge(\n",
    "    unique_transactions,\n",
    "    bestsellers_previous_week,\n",
    "    on='week',\n",
    ")"
   ]
  },
  {
   "cell_type": "code",
   "execution_count": 18,
   "id": "3383c020",
   "metadata": {
    "execution": {
     "iopub.execute_input": "2023-12-21T23:09:33.748765Z",
     "iopub.status.busy": "2023-12-21T23:09:33.747479Z",
     "iopub.status.idle": "2023-12-21T23:09:33.812924Z",
     "shell.execute_reply": "2023-12-21T23:09:33.811658Z"
    },
    "executionInfo": {
     "elapsed": 16,
     "status": "ok",
     "timestamp": 1699021152393,
     "user": {
      "displayName": "nick wils",
      "userId": "09906672494021070283"
     },
     "user_tz": -60
    },
    "id": "ad3a9710",
    "papermill": {
     "duration": 0.09288,
     "end_time": "2023-12-21T23:09:33.815921",
     "exception": false,
     "start_time": "2023-12-21T23:09:33.723041",
     "status": "completed"
    },
    "tags": []
   },
   "outputs": [],
   "source": [
    "test_set_transactions = unique_transactions.drop_duplicates('customer_id').reset_index(drop=True)\n",
    "test_set_transactions.week = test_week"
   ]
  },
  {
   "cell_type": "code",
   "execution_count": 19,
   "id": "47987d97",
   "metadata": {
    "execution": {
     "iopub.execute_input": "2023-12-21T23:09:33.863662Z",
     "iopub.status.busy": "2023-12-21T23:09:33.863169Z",
     "iopub.status.idle": "2023-12-21T23:09:34.503675Z",
     "shell.execute_reply": "2023-12-21T23:09:34.502110Z"
    },
    "executionInfo": {
     "elapsed": 802,
     "status": "ok",
     "timestamp": 1699021153185,
     "user": {
      "displayName": "nick wils",
      "userId": "09906672494021070283"
     },
     "user_tz": -60
    },
    "id": "9f64b005",
    "papermill": {
     "duration": 0.668244,
     "end_time": "2023-12-21T23:09:34.506898",
     "exception": false,
     "start_time": "2023-12-21T23:09:33.838654",
     "status": "completed"
    },
    "tags": []
   },
   "outputs": [],
   "source": [
    "candidates_bestsellers_test_week = pd.merge(\n",
    "    test_set_transactions,\n",
    "    bestsellers_previous_week,\n",
    "    on='week'\n",
    ")"
   ]
  },
  {
   "cell_type": "code",
   "execution_count": 20,
   "id": "1a8e8cb2",
   "metadata": {
    "execution": {
     "iopub.execute_input": "2023-12-21T23:09:34.556922Z",
     "iopub.status.busy": "2023-12-21T23:09:34.556439Z",
     "iopub.status.idle": "2023-12-21T23:09:35.771460Z",
     "shell.execute_reply": "2023-12-21T23:09:35.770184Z"
    },
    "executionInfo": {
     "elapsed": 837,
     "status": "ok",
     "timestamp": 1699021154020,
     "user": {
      "displayName": "nick wils",
      "userId": "09906672494021070283"
     },
     "user_tz": -60
    },
    "id": "212b7926",
    "papermill": {
     "duration": 1.243764,
     "end_time": "2023-12-21T23:09:35.774728",
     "exception": false,
     "start_time": "2023-12-21T23:09:34.530964",
     "status": "completed"
    },
    "tags": []
   },
   "outputs": [],
   "source": [
    "candidates_bestsellers = pd.concat([candidates_bestsellers, candidates_bestsellers_test_week])\n",
    "candidates_bestsellers.drop(columns='bestseller_rank', inplace=True)"
   ]
  },
  {
   "cell_type": "markdown",
   "id": "52b726cb",
   "metadata": {
    "id": "d5b03292",
    "papermill": {
     "duration": 0.024102,
     "end_time": "2023-12-21T23:09:35.823176",
     "exception": false,
     "start_time": "2023-12-21T23:09:35.799074",
     "status": "completed"
    },
    "tags": []
   },
   "source": [
    "# Combining transactions and candidates / negative examples"
   ]
  },
  {
   "cell_type": "code",
   "execution_count": 21,
   "id": "c1bddbbf",
   "metadata": {
    "execution": {
     "iopub.execute_input": "2023-12-21T23:09:35.872760Z",
     "iopub.status.busy": "2023-12-21T23:09:35.872315Z",
     "iopub.status.idle": "2023-12-21T23:09:35.881836Z",
     "shell.execute_reply": "2023-12-21T23:09:35.880463Z"
    },
    "executionInfo": {
     "elapsed": 11,
     "status": "ok",
     "timestamp": 1699021154021,
     "user": {
      "displayName": "nick wils",
      "userId": "09906672494021070283"
     },
     "user_tz": -60
    },
    "id": "529196a4",
    "papermill": {
     "duration": 0.037799,
     "end_time": "2023-12-21T23:09:35.884950",
     "exception": false,
     "start_time": "2023-12-21T23:09:35.847151",
     "status": "completed"
    },
    "tags": []
   },
   "outputs": [],
   "source": [
    "transactions['purchased'] = 1"
   ]
  },
  {
   "cell_type": "code",
   "execution_count": 22,
   "id": "97e7f0ea",
   "metadata": {
    "execution": {
     "iopub.execute_input": "2023-12-21T23:09:35.934159Z",
     "iopub.status.busy": "2023-12-21T23:09:35.933636Z",
     "iopub.status.idle": "2023-12-21T23:09:36.625866Z",
     "shell.execute_reply": "2023-12-21T23:09:36.624255Z"
    },
    "executionInfo": {
     "elapsed": 630,
     "status": "ok",
     "timestamp": 1699021154641,
     "user": {
      "displayName": "nick wils",
      "userId": "09906672494021070283"
     },
     "user_tz": -60
    },
    "id": "421a601e",
    "papermill": {
     "duration": 0.720931,
     "end_time": "2023-12-21T23:09:36.629320",
     "exception": false,
     "start_time": "2023-12-21T23:09:35.908389",
     "status": "completed"
    },
    "tags": []
   },
   "outputs": [],
   "source": [
    "data = pd.concat([transactions, candidates_last_purchase, candidates_bestsellers])\n",
    "data.purchased.fillna(0, inplace=True)"
   ]
  },
  {
   "cell_type": "code",
   "execution_count": 23,
   "id": "6a5266f8",
   "metadata": {
    "execution": {
     "iopub.execute_input": "2023-12-21T23:09:36.677489Z",
     "iopub.status.busy": "2023-12-21T23:09:36.677080Z",
     "iopub.status.idle": "2023-12-21T23:09:43.391926Z",
     "shell.execute_reply": "2023-12-21T23:09:43.390462Z"
    },
    "executionInfo": {
     "elapsed": 6444,
     "status": "ok",
     "timestamp": 1699021161077,
     "user": {
      "displayName": "nick wils",
      "userId": "09906672494021070283"
     },
     "user_tz": -60
    },
    "id": "9f4e8cdb",
    "papermill": {
     "duration": 6.742513,
     "end_time": "2023-12-21T23:09:43.395232",
     "exception": false,
     "start_time": "2023-12-21T23:09:36.652719",
     "status": "completed"
    },
    "tags": []
   },
   "outputs": [],
   "source": [
    "data.drop_duplicates(['customer_id', 'article_id', 'week'], inplace=True)"
   ]
  },
  {
   "cell_type": "code",
   "execution_count": 24,
   "id": "de0f5df1",
   "metadata": {
    "execution": {
     "iopub.execute_input": "2023-12-21T23:09:43.443897Z",
     "iopub.status.busy": "2023-12-21T23:09:43.443409Z",
     "iopub.status.idle": "2023-12-21T23:09:43.516164Z",
     "shell.execute_reply": "2023-12-21T23:09:43.514791Z"
    },
    "executionInfo": {
     "elapsed": 39,
     "status": "ok",
     "timestamp": 1699021161080,
     "user": {
      "displayName": "nick wils",
      "userId": "09906672494021070283"
     },
     "user_tz": -60
    },
    "id": "95414c83",
    "outputId": "0aa85517-00f2-45b4-8a4a-1b314d82ffc4",
    "papermill": {
     "duration": 0.100717,
     "end_time": "2023-12-21T23:09:43.519072",
     "exception": false,
     "start_time": "2023-12-21T23:09:43.418355",
     "status": "completed"
    },
    "tags": []
   },
   "outputs": [
    {
     "data": {
      "text/plain": [
       "0.13607582749165664"
      ]
     },
     "execution_count": 24,
     "metadata": {},
     "output_type": "execute_result"
    }
   ],
   "source": [
    "data.purchased.mean()"
   ]
  },
  {
   "cell_type": "markdown",
   "id": "095a3f72",
   "metadata": {
    "id": "4d35aac7",
    "papermill": {
     "duration": 0.023779,
     "end_time": "2023-12-21T23:09:43.566179",
     "exception": false,
     "start_time": "2023-12-21T23:09:43.542400",
     "status": "completed"
    },
    "tags": []
   },
   "source": [
    "### Add bestseller information"
   ]
  },
  {
   "cell_type": "code",
   "execution_count": 25,
   "id": "c4a5af54",
   "metadata": {
    "execution": {
     "iopub.execute_input": "2023-12-21T23:09:43.615440Z",
     "iopub.status.busy": "2023-12-21T23:09:43.614992Z",
     "iopub.status.idle": "2023-12-21T23:09:47.101809Z",
     "shell.execute_reply": "2023-12-21T23:09:47.100337Z"
    },
    "executionInfo": {
     "elapsed": 3395,
     "status": "ok",
     "timestamp": 1699021164442,
     "user": {
      "displayName": "nick wils",
      "userId": "09906672494021070283"
     },
     "user_tz": -60
    },
    "id": "ab6d0095",
    "papermill": {
     "duration": 3.51529,
     "end_time": "2023-12-21T23:09:47.104931",
     "exception": false,
     "start_time": "2023-12-21T23:09:43.589641",
     "status": "completed"
    },
    "tags": []
   },
   "outputs": [],
   "source": [
    "data = pd.merge(\n",
    "    data,\n",
    "    bestsellers_previous_week[['week', 'article_id', 'bestseller_rank']],\n",
    "    on=['week', 'article_id'],\n",
    "    how='left'\n",
    ")"
   ]
  },
  {
   "cell_type": "code",
   "execution_count": 26,
   "id": "625f186d",
   "metadata": {
    "execution": {
     "iopub.execute_input": "2023-12-21T23:09:47.155510Z",
     "iopub.status.busy": "2023-12-21T23:09:47.155053Z",
     "iopub.status.idle": "2023-12-21T23:09:48.866077Z",
     "shell.execute_reply": "2023-12-21T23:09:48.864772Z"
    },
    "executionInfo": {
     "elapsed": 2042,
     "status": "ok",
     "timestamp": 1699021166476,
     "user": {
      "displayName": "nick wils",
      "userId": "09906672494021070283"
     },
     "user_tz": -60
    },
    "id": "7b18597e",
    "papermill": {
     "duration": 1.7405,
     "end_time": "2023-12-21T23:09:48.869342",
     "exception": false,
     "start_time": "2023-12-21T23:09:47.128842",
     "status": "completed"
    },
    "tags": []
   },
   "outputs": [],
   "source": [
    "data = data[data.week != data.week.min()]\n",
    "data.bestseller_rank.fillna(999, inplace=True)"
   ]
  },
  {
   "cell_type": "code",
   "execution_count": 27,
   "id": "06caadb5",
   "metadata": {
    "execution": {
     "iopub.execute_input": "2023-12-21T23:09:48.920115Z",
     "iopub.status.busy": "2023-12-21T23:09:48.919600Z",
     "iopub.status.idle": "2023-12-21T23:10:13.942847Z",
     "shell.execute_reply": "2023-12-21T23:10:13.941279Z"
    },
    "executionInfo": {
     "elapsed": 12548,
     "status": "ok",
     "timestamp": 1699021179017,
     "user": {
      "displayName": "nick wils",
      "userId": "09906672494021070283"
     },
     "user_tz": -60
    },
    "id": "7d9bb629",
    "papermill": {
     "duration": 25.052714,
     "end_time": "2023-12-21T23:10:13.946158",
     "exception": false,
     "start_time": "2023-12-21T23:09:48.893444",
     "status": "completed"
    },
    "tags": []
   },
   "outputs": [],
   "source": [
    "data = pd.merge(data, articles, on='article_id', how='left')\n",
    "data = pd.merge(data, customers, on='customer_id', how='left')"
   ]
  },
  {
   "cell_type": "code",
   "execution_count": 28,
   "id": "18703179",
   "metadata": {
    "execution": {
     "iopub.execute_input": "2023-12-21T23:10:13.995632Z",
     "iopub.status.busy": "2023-12-21T23:10:13.995178Z",
     "iopub.status.idle": "2023-12-21T23:10:25.764795Z",
     "shell.execute_reply": "2023-12-21T23:10:25.763129Z"
    },
    "executionInfo": {
     "elapsed": 7950,
     "status": "ok",
     "timestamp": 1699021186933,
     "user": {
      "displayName": "nick wils",
      "userId": "09906672494021070283"
     },
     "user_tz": -60
    },
    "id": "1560db63",
    "papermill": {
     "duration": 11.797607,
     "end_time": "2023-12-21T23:10:25.767852",
     "exception": false,
     "start_time": "2023-12-21T23:10:13.970245",
     "status": "completed"
    },
    "tags": []
   },
   "outputs": [],
   "source": [
    "data.sort_values(['week', 'customer_id'], inplace=True)\n",
    "data.reset_index(drop=True, inplace=True)"
   ]
  },
  {
   "cell_type": "code",
   "execution_count": 29,
   "id": "cba126cd",
   "metadata": {
    "execution": {
     "iopub.execute_input": "2023-12-21T23:10:25.815722Z",
     "iopub.status.busy": "2023-12-21T23:10:25.815237Z",
     "iopub.status.idle": "2023-12-21T23:10:39.998146Z",
     "shell.execute_reply": "2023-12-21T23:10:39.996543Z"
    },
    "executionInfo": {
     "elapsed": 5910,
     "status": "ok",
     "timestamp": 1699021192840,
     "user": {
      "displayName": "nick wils",
      "userId": "09906672494021070283"
     },
     "user_tz": -60
    },
    "id": "05114189",
    "papermill": {
     "duration": 14.210978,
     "end_time": "2023-12-21T23:10:40.001513",
     "exception": false,
     "start_time": "2023-12-21T23:10:25.790535",
     "status": "completed"
    },
    "tags": []
   },
   "outputs": [],
   "source": [
    "train = data[data.week != test_week]\n",
    "test = data[data.week==test_week].drop_duplicates(['customer_id', 'article_id', 'sales_channel_id']).copy()"
   ]
  },
  {
   "cell_type": "code",
   "execution_count": 30,
   "id": "3fc45835",
   "metadata": {
    "execution": {
     "iopub.execute_input": "2023-12-21T23:10:40.051783Z",
     "iopub.status.busy": "2023-12-21T23:10:40.050971Z",
     "iopub.status.idle": "2023-12-21T23:10:40.993309Z",
     "shell.execute_reply": "2023-12-21T23:10:40.992163Z"
    },
    "executionInfo": {
     "elapsed": 996,
     "status": "ok",
     "timestamp": 1699021193784,
     "user": {
      "displayName": "nick wils",
      "userId": "09906672494021070283"
     },
     "user_tz": -60
    },
    "id": "d32dfd01",
    "papermill": {
     "duration": 0.970997,
     "end_time": "2023-12-21T23:10:40.996909",
     "exception": false,
     "start_time": "2023-12-21T23:10:40.025912",
     "status": "completed"
    },
    "tags": []
   },
   "outputs": [],
   "source": [
    "train_baskets = train.groupby(['week', 'customer_id'])['article_id'].count().values"
   ]
  },
  {
   "cell_type": "code",
   "execution_count": 31,
   "id": "0a01c91d",
   "metadata": {
    "execution": {
     "iopub.execute_input": "2023-12-21T23:10:41.055514Z",
     "iopub.status.busy": "2023-12-21T23:10:41.054216Z",
     "iopub.status.idle": "2023-12-21T23:10:41.063201Z",
     "shell.execute_reply": "2023-12-21T23:10:41.061693Z"
    },
    "executionInfo": {
     "elapsed": 11,
     "status": "ok",
     "timestamp": 1699021193785,
     "user": {
      "displayName": "nick wils",
      "userId": "09906672494021070283"
     },
     "user_tz": -60
    },
    "id": "2b027da8",
    "papermill": {
     "duration": 0.041032,
     "end_time": "2023-12-21T23:10:41.066552",
     "exception": false,
     "start_time": "2023-12-21T23:10:41.025520",
     "status": "completed"
    },
    "tags": []
   },
   "outputs": [],
   "source": [
    "columns_to_use = ['article_id', 'product_type_no', 'graphical_appearance_no', 'colour_group_code', 'perceived_colour_value_id',\n",
    "'perceived_colour_master_id', 'department_no', 'index_code',\n",
    "'index_group_no', 'section_no', 'garment_group_no', 'FN', 'Active',\n",
    "'club_member_status', 'fashion_news_frequency', 'age', 'postal_code', 'bestseller_rank',\n",
    "'buys_womens_clothing', 'buys_mens_clothes', 'buys_kid_baby_clothes', 'season',\n",
    "'fabric_jeans','fabric_cotton', 'fabric_wool', 'fabric_polyester', 'fabric_silk', 'fabric_denim', 'fabric_linen', 'fabric_spandex', 'fabric_rayon', 'fabric_nylon', 'fabric_leather', 'fabric_suede']\n",
    "#  'year', 'month',"
   ]
  },
  {
   "cell_type": "code",
   "execution_count": 32,
   "id": "707e806a",
   "metadata": {
    "execution": {
     "iopub.execute_input": "2023-12-21T23:10:41.118987Z",
     "iopub.status.busy": "2023-12-21T23:10:41.118212Z",
     "iopub.status.idle": "2023-12-21T23:10:42.201990Z",
     "shell.execute_reply": "2023-12-21T23:10:42.200873Z"
    },
    "executionInfo": {
     "elapsed": 884,
     "status": "ok",
     "timestamp": 1699021194659,
     "user": {
      "displayName": "nick wils",
      "userId": "09906672494021070283"
     },
     "user_tz": -60
    },
    "id": "120aecab",
    "outputId": "ac17e6b9-f070-44a7-a804-861394e9d164",
    "papermill": {
     "duration": 1.111341,
     "end_time": "2023-12-21T23:10:42.204523",
     "exception": false,
     "start_time": "2023-12-21T23:10:41.093182",
     "status": "completed"
    },
    "tags": []
   },
   "outputs": [
    {
     "name": "stdout",
     "output_type": "stream",
     "text": [
      "CPU times: user 643 ms, sys: 431 ms, total: 1.07 s\n",
      "Wall time: 1.08 s\n"
     ]
    }
   ],
   "source": [
    "%%time\n",
    "\n",
    "train_X = train[columns_to_use]\n",
    "train_y = train['purchased']\n",
    "\n",
    "test_X = test[columns_to_use]"
   ]
  },
  {
   "cell_type": "markdown",
   "id": "3f364147",
   "metadata": {
    "id": "82745ed2",
    "papermill": {
     "duration": 0.022593,
     "end_time": "2023-12-21T23:10:42.250392",
     "exception": false,
     "start_time": "2023-12-21T23:10:42.227799",
     "status": "completed"
    },
    "tags": []
   },
   "source": [
    "# Model training"
   ]
  },
  {
   "cell_type": "code",
   "execution_count": 33,
   "id": "3bf3fe7a",
   "metadata": {
    "execution": {
     "iopub.execute_input": "2023-12-21T23:10:42.298404Z",
     "iopub.status.busy": "2023-12-21T23:10:42.297716Z",
     "iopub.status.idle": "2023-12-21T23:10:43.887551Z",
     "shell.execute_reply": "2023-12-21T23:10:43.885726Z"
    },
    "executionInfo": {
     "elapsed": 1538,
     "status": "ok",
     "timestamp": 1699021196194,
     "user": {
      "displayName": "nick wils",
      "userId": "09906672494021070283"
     },
     "user_tz": -60
    },
    "id": "1e949a9d",
    "papermill": {
     "duration": 1.617613,
     "end_time": "2023-12-21T23:10:43.890951",
     "exception": false,
     "start_time": "2023-12-21T23:10:42.273338",
     "status": "completed"
    },
    "tags": []
   },
   "outputs": [],
   "source": [
    "from lightgbm.sklearn import LGBMRanker"
   ]
  },
  {
   "cell_type": "code",
   "execution_count": 34,
   "id": "63a519bf",
   "metadata": {
    "execution": {
     "iopub.execute_input": "2023-12-21T23:10:43.942919Z",
     "iopub.status.busy": "2023-12-21T23:10:43.941565Z",
     "iopub.status.idle": "2023-12-21T23:10:43.947103Z",
     "shell.execute_reply": "2023-12-21T23:10:43.946296Z"
    },
    "executionInfo": {
     "elapsed": 4,
     "status": "ok",
     "timestamp": 1699021196194,
     "user": {
      "displayName": "nick wils",
      "userId": "09906672494021070283"
     },
     "user_tz": -60
    },
    "id": "cd60dded",
    "papermill": {
     "duration": 0.03382,
     "end_time": "2023-12-21T23:10:43.949338",
     "exception": false,
     "start_time": "2023-12-21T23:10:43.915518",
     "status": "completed"
    },
    "tags": []
   },
   "outputs": [],
   "source": [
    "ranker = LGBMRanker(\n",
    "    objective=\"lambdarank\",\n",
    "    metric=\"ndcg\",\n",
    "    boosting_type=\"dart\",\n",
    "    n_estimators=1,\n",
    "    importance_type='gain',\n",
    "    verbose=10\n",
    ")"
   ]
  },
  {
   "cell_type": "code",
   "execution_count": 35,
   "id": "7e46cf37",
   "metadata": {
    "execution": {
     "iopub.execute_input": "2023-12-21T23:10:43.998292Z",
     "iopub.status.busy": "2023-12-21T23:10:43.997619Z",
     "iopub.status.idle": "2023-12-21T23:11:10.018499Z",
     "shell.execute_reply": "2023-12-21T23:11:10.015813Z"
    },
    "id": "25f040a4",
    "papermill": {
     "duration": 26.050258,
     "end_time": "2023-12-21T23:11:10.022998",
     "exception": false,
     "start_time": "2023-12-21T23:10:43.972740",
     "status": "completed"
    },
    "tags": []
   },
   "outputs": [
    {
     "name": "stdout",
     "output_type": "stream",
     "text": [
      "[LightGBM] [Debug] Dataset::GetMultiBinFromSparseFeatures: sparse rate 0.916047\n",
      "[LightGBM] [Debug] Dataset::GetMultiBinFromAllFeatures: sparse rate 0.509258\n",
      "[LightGBM] [Debug] init for col-wise cost 1.528795 seconds, init for row-wise cost 7.896210 seconds\n",
      "[LightGBM] [Warning] Auto-choosing row-wise multi-threading, the overhead of testing was 2.744739 seconds.\n",
      "You can set `force_row_wise=true` to remove the overhead.\n",
      "And if memory is not enough, you can set `force_col_wise=true`.\n",
      "[LightGBM] [Debug] Using Sparse Multi-Val Bin\n",
      "[LightGBM] [Info] Total Bins 1107\n",
      "[LightGBM] [Info] Number of data points in the train set: 11381612, number of used features: 33\n",
      "[LightGBM] [Debug] Trained a tree with leaves = 31 and depth = 10\n",
      "CPU times: user 51 s, sys: 7.84 s, total: 58.8 s\n",
      "Wall time: 26 s\n"
     ]
    }
   ],
   "source": [
    "%%time\n",
    "\n",
    "ranker = ranker.fit(\n",
    "    train_X,\n",
    "    train_y,\n",
    "    group=train_baskets,\n",
    ")"
   ]
  },
  {
   "cell_type": "code",
   "execution_count": 36,
   "id": "19a1fa69",
   "metadata": {
    "execution": {
     "iopub.execute_input": "2023-12-21T23:11:10.075759Z",
     "iopub.status.busy": "2023-12-21T23:11:10.075330Z",
     "iopub.status.idle": "2023-12-21T23:11:10.085040Z",
     "shell.execute_reply": "2023-12-21T23:11:10.083776Z"
    },
    "id": "4b6b5a94",
    "papermill": {
     "duration": 0.039816,
     "end_time": "2023-12-21T23:11:10.088046",
     "exception": false,
     "start_time": "2023-12-21T23:11:10.048230",
     "status": "completed"
    },
    "tags": []
   },
   "outputs": [
    {
     "name": "stdout",
     "output_type": "stream",
     "text": [
      "bestseller_rank 0.9959464973582318\n",
      "season 0.0028884476828523694\n",
      "buys_kid_baby_clothes 0.00048602297535493475\n",
      "age 0.0002271913563462163\n",
      "buys_mens_clothes 0.00017845578608163687\n",
      "club_member_status 5.026178733690465e-05\n",
      "postal_code 4.3260036177845566e-05\n",
      "section_no 4.128856467573397e-05\n",
      "product_type_no 3.940360791478877e-05\n",
      "fabric_wool 2.833330143370025e-05\n",
      "garment_group_no 2.145876785818854e-05\n",
      "Active 1.6150356488640473e-05\n",
      "perceived_colour_value_id 1.2832119006626338e-05\n",
      "fashion_news_frequency 1.2347827731112598e-05\n",
      "index_group_no 8.048472509456437e-06\n",
      "department_no 0.0\n",
      "index_code 0.0\n",
      "perceived_colour_master_id 0.0\n",
      "colour_group_code 0.0\n",
      "graphical_appearance_no 0.0\n",
      "FN 0.0\n",
      "fabric_suede 0.0\n",
      "fabric_leather 0.0\n",
      "buys_womens_clothing 0.0\n",
      "fabric_jeans 0.0\n",
      "fabric_cotton 0.0\n",
      "fabric_polyester 0.0\n",
      "fabric_silk 0.0\n",
      "fabric_denim 0.0\n",
      "fabric_linen 0.0\n",
      "fabric_spandex 0.0\n",
      "fabric_rayon 0.0\n",
      "fabric_nylon 0.0\n",
      "article_id 0.0\n"
     ]
    }
   ],
   "source": [
    "for i in ranker.feature_importances_.argsort()[::-1]:\n",
    "    print(columns_to_use[i], ranker.feature_importances_[i]/ranker.feature_importances_.sum())"
   ]
  },
  {
   "cell_type": "markdown",
   "id": "666571ff",
   "metadata": {
    "id": "00faf029",
    "papermill": {
     "duration": 0.023392,
     "end_time": "2023-12-21T23:11:10.135439",
     "exception": false,
     "start_time": "2023-12-21T23:11:10.112047",
     "status": "completed"
    },
    "tags": []
   },
   "source": [
    "# Calculate predictions"
   ]
  },
  {
   "cell_type": "code",
   "execution_count": 37,
   "id": "129659e9",
   "metadata": {
    "execution": {
     "iopub.execute_input": "2023-12-21T23:11:10.185690Z",
     "iopub.status.busy": "2023-12-21T23:11:10.184752Z",
     "iopub.status.idle": "2023-12-21T23:11:38.260626Z",
     "shell.execute_reply": "2023-12-21T23:11:38.259652Z"
    },
    "id": "7e862846",
    "papermill": {
     "duration": 28.104654,
     "end_time": "2023-12-21T23:11:38.263911",
     "exception": false,
     "start_time": "2023-12-21T23:11:10.159257",
     "status": "completed"
    },
    "tags": []
   },
   "outputs": [
    {
     "name": "stdout",
     "output_type": "stream",
     "text": [
      "CPU times: user 4 µs, sys: 1e+03 ns, total: 5 µs\n",
      "Wall time: 8.58 µs\n"
     ]
    }
   ],
   "source": [
    "%time\n",
    "\n",
    "test['preds'] = ranker.predict(test_X)\n",
    "\n",
    "c_id2predicted_article_ids = test \\\n",
    "    .sort_values(['customer_id', 'preds'], ascending=False) \\\n",
    "    .groupby('customer_id')['article_id'].apply(list).to_dict()\n",
    "\n",
    "bestsellers_last_week = \\\n",
    "    bestsellers_previous_week[bestsellers_previous_week.week == bestsellers_previous_week.week.max()]['article_id'].tolist()"
   ]
  },
  {
   "cell_type": "markdown",
   "id": "17d33f96",
   "metadata": {
    "id": "de045e98",
    "papermill": {
     "duration": 0.024424,
     "end_time": "2023-12-21T23:11:38.314164",
     "exception": false,
     "start_time": "2023-12-21T23:11:38.289740",
     "status": "completed"
    },
    "tags": []
   },
   "source": [
    "# Create submission with 3 veriosn: All predictions, only owned items, only new items"
   ]
  },
  {
   "cell_type": "code",
   "execution_count": 38,
   "id": "56d7a9e2",
   "metadata": {
    "execution": {
     "iopub.execute_input": "2023-12-21T23:11:38.369409Z",
     "iopub.status.busy": "2023-12-21T23:11:38.368726Z",
     "iopub.status.idle": "2023-12-21T23:11:44.123529Z",
     "shell.execute_reply": "2023-12-21T23:11:44.122477Z"
    },
    "id": "43e4fda7",
    "papermill": {
     "duration": 5.785536,
     "end_time": "2023-12-21T23:11:44.126439",
     "exception": false,
     "start_time": "2023-12-21T23:11:38.340903",
     "status": "completed"
    },
    "tags": []
   },
   "outputs": [],
   "source": [
    "sub = pd.read_csv('/kaggle/input/h-and-m-personalized-fashion-recommendations/sample_submission.csv')"
   ]
  },
  {
   "cell_type": "code",
   "execution_count": 39,
   "id": "8c11964e",
   "metadata": {
    "execution": {
     "iopub.execute_input": "2023-12-21T23:11:44.178786Z",
     "iopub.status.busy": "2023-12-21T23:11:44.177962Z",
     "iopub.status.idle": "2023-12-21T23:11:47.589322Z",
     "shell.execute_reply": "2023-12-21T23:11:47.588092Z"
    },
    "papermill": {
     "duration": 3.441492,
     "end_time": "2023-12-21T23:11:47.592935",
     "exception": false,
     "start_time": "2023-12-21T23:11:44.151443",
     "status": "completed"
    },
    "tags": []
   },
   "outputs": [],
   "source": [
    "subAltered = pd.read_csv('/kaggle/input/h-and-m-personalized-fashion-recommendations/sample_submission.csv')"
   ]
  },
  {
   "cell_type": "code",
   "execution_count": 40,
   "id": "d866ebe1",
   "metadata": {
    "execution": {
     "iopub.execute_input": "2023-12-21T23:11:47.645751Z",
     "iopub.status.busy": "2023-12-21T23:11:47.644981Z",
     "iopub.status.idle": "2023-12-21T23:11:50.964251Z",
     "shell.execute_reply": "2023-12-21T23:11:50.963192Z"
    },
    "papermill": {
     "duration": 3.348852,
     "end_time": "2023-12-21T23:11:50.967254",
     "exception": false,
     "start_time": "2023-12-21T23:11:47.618402",
     "status": "completed"
    },
    "tags": []
   },
   "outputs": [],
   "source": [
    "subOwned = pd.read_csv('/kaggle/input/h-and-m-personalized-fashion-recommendations/sample_submission.csv')"
   ]
  },
  {
   "cell_type": "code",
   "execution_count": 41,
   "id": "26b08612",
   "metadata": {
    "execution": {
     "iopub.execute_input": "2023-12-21T23:11:51.019203Z",
     "iopub.status.busy": "2023-12-21T23:11:51.018418Z",
     "iopub.status.idle": "2023-12-21T23:12:10.738789Z",
     "shell.execute_reply": "2023-12-21T23:12:10.737790Z"
    },
    "papermill": {
     "duration": 19.750295,
     "end_time": "2023-12-21T23:12:10.742584",
     "exception": false,
     "start_time": "2023-12-21T23:11:50.992289",
     "status": "completed"
    },
    "tags": []
   },
   "outputs": [],
   "source": [
    "# Create a dictionary of owned articles for each customer\n",
    "owned_articles = transactions.groupby('customer_id')['article_id'].apply(set).to_dict()\n",
    "\n",
    "# Define a function to replace owned articles with '000000000'\n",
    "def replace_owned_articles(customer_id, predictions, owned_articles):\n",
    "    new_predictions = []\n",
    "    for article_id in predictions:\n",
    "        if article_id not in owned_articles.get(customer_id, set()):\n",
    "            new_predictions.append(article_id)\n",
    "        else:\n",
    "            new_predictions.append('000000000')\n",
    "    return new_predictions\n",
    "\n",
    "# Define a function to replace owned articles with '000000000'\n",
    "def replace_unowned_articles(customer_id, predictions, owned_articles):\n",
    "    new_predictions = []\n",
    "    for article_id in predictions:\n",
    "        if article_id in owned_articles.get(customer_id, set()):\n",
    "            new_predictions.append(article_id)\n",
    "        else:\n",
    "            new_predictions.append('000000000')\n",
    "    return new_predictions"
   ]
  },
  {
   "cell_type": "code",
   "execution_count": 42,
   "id": "ae4f5da1",
   "metadata": {
    "execution": {
     "iopub.execute_input": "2023-12-21T23:12:10.803212Z",
     "iopub.status.busy": "2023-12-21T23:12:10.802494Z",
     "iopub.status.idle": "2023-12-21T23:12:46.652586Z",
     "shell.execute_reply": "2023-12-21T23:12:46.651181Z"
    },
    "id": "a35ac969",
    "papermill": {
     "duration": 35.914,
     "end_time": "2023-12-21T23:12:46.686161",
     "exception": false,
     "start_time": "2023-12-21T23:12:10.772161",
     "status": "completed"
    },
    "tags": []
   },
   "outputs": [
    {
     "name": "stdout",
     "output_type": "stream",
     "text": [
      "CPU times: user 35.2 s, sys: 557 ms, total: 35.8 s\n",
      "Wall time: 35.8 s\n"
     ]
    }
   ],
   "source": [
    "%%time\n",
    "\n",
    "preds = []\n",
    "predsAlterd = []\n",
    "predsOwned = []\n",
    "for c_id in customer_hex_id_to_int(sub.customer_id):\n",
    "    pred = c_id2predicted_article_ids.get(c_id, [])\n",
    "        \n",
    "    # Add bestsellers from the previous week\n",
    "    pred = pred + bestsellers_last_week\n",
    "        \n",
    "    # Replace owned articles with '000000000'\n",
    "    predAltered = replace_unowned_articles(c_id, pred, owned_articles)\n",
    "    # Replace unowned articles with '000000000'\n",
    "    predOwned = replace_owned_articles(c_id, pred, owned_articles)\n",
    "    \n",
    "    # Take the top 12 predictions (excluding any replaced '000000000' articles)\n",
    "    preds.append(pred[:12])\n",
    "    predsAlterd.append(predAltered[:12])\n",
    "    predsOwned.append(predOwned[:12])\n"
   ]
  },
  {
   "cell_type": "code",
   "execution_count": 43,
   "id": "d6b9afce",
   "metadata": {
    "execution": {
     "iopub.execute_input": "2023-12-21T23:12:46.749203Z",
     "iopub.status.busy": "2023-12-21T23:12:46.747956Z",
     "iopub.status.idle": "2023-12-21T23:12:54.500633Z",
     "shell.execute_reply": "2023-12-21T23:12:54.499061Z"
    },
    "id": "3f8f9304",
    "papermill": {
     "duration": 7.788189,
     "end_time": "2023-12-21T23:12:54.503566",
     "exception": false,
     "start_time": "2023-12-21T23:12:46.715377",
     "status": "completed"
    },
    "tags": []
   },
   "outputs": [],
   "source": [
    "preds = [' '.join(['0' + str(p) for p in ps]) for ps in preds]\n",
    "sub.prediction = preds"
   ]
  },
  {
   "cell_type": "code",
   "execution_count": 44,
   "id": "b9722e8e",
   "metadata": {
    "execution": {
     "iopub.execute_input": "2023-12-21T23:12:54.555393Z",
     "iopub.status.busy": "2023-12-21T23:12:54.554551Z",
     "iopub.status.idle": "2023-12-21T23:13:26.633949Z",
     "shell.execute_reply": "2023-12-21T23:13:26.632817Z"
    },
    "id": "62d8338d",
    "papermill": {
     "duration": 32.108128,
     "end_time": "2023-12-21T23:13:26.636997",
     "exception": false,
     "start_time": "2023-12-21T23:12:54.528869",
     "status": "completed"
    },
    "tags": []
   },
   "outputs": [],
   "source": [
    "sub_name = 'RepurchaseFilter_model_submissionUnAltered'\n",
    "sub.to_csv(f'{sub_name}.csv.gz', index=False)"
   ]
  },
  {
   "cell_type": "code",
   "execution_count": 45,
   "id": "0df80051",
   "metadata": {
    "execution": {
     "iopub.execute_input": "2023-12-21T23:13:26.691228Z",
     "iopub.status.busy": "2023-12-21T23:13:26.690103Z",
     "iopub.status.idle": "2023-12-21T23:13:32.606817Z",
     "shell.execute_reply": "2023-12-21T23:13:32.605664Z"
    },
    "papermill": {
     "duration": 5.947736,
     "end_time": "2023-12-21T23:13:32.609866",
     "exception": false,
     "start_time": "2023-12-21T23:13:26.662130",
     "status": "completed"
    },
    "tags": []
   },
   "outputs": [],
   "source": [
    "predsAlterd = [' '.join(['0' + str(p) for p in ps]) for ps in predsAlterd]\n",
    "subAltered.prediction = predsAlterd"
   ]
  },
  {
   "cell_type": "code",
   "execution_count": 46,
   "id": "0863f759",
   "metadata": {
    "execution": {
     "iopub.execute_input": "2023-12-21T23:13:32.662741Z",
     "iopub.status.busy": "2023-12-21T23:13:32.661800Z",
     "iopub.status.idle": "2023-12-21T23:14:00.328895Z",
     "shell.execute_reply": "2023-12-21T23:14:00.327814Z"
    },
    "papermill": {
     "duration": 27.696718,
     "end_time": "2023-12-21T23:14:00.332087",
     "exception": false,
     "start_time": "2023-12-21T23:13:32.635369",
     "status": "completed"
    },
    "tags": []
   },
   "outputs": [],
   "source": [
    "sub_nameAltered = 'RepurchaseFilter_model_submissionUnOwned'\n",
    "subAltered.to_csv(f'{sub_nameAltered}.csv.gz', index=False)"
   ]
  },
  {
   "cell_type": "code",
   "execution_count": 47,
   "id": "f8060c4b",
   "metadata": {
    "execution": {
     "iopub.execute_input": "2023-12-21T23:14:00.384950Z",
     "iopub.status.busy": "2023-12-21T23:14:00.384322Z",
     "iopub.status.idle": "2023-12-21T23:14:07.575347Z",
     "shell.execute_reply": "2023-12-21T23:14:07.573807Z"
    },
    "papermill": {
     "duration": 7.220826,
     "end_time": "2023-12-21T23:14:07.578918",
     "exception": false,
     "start_time": "2023-12-21T23:14:00.358092",
     "status": "completed"
    },
    "tags": []
   },
   "outputs": [],
   "source": [
    "predsOwned = [' '.join(['0' + str(p) for p in ps]) for ps in predsOwned]\n",
    "subOwned.prediction = predsOwned"
   ]
  },
  {
   "cell_type": "code",
   "execution_count": 48,
   "id": "f735dbdb",
   "metadata": {
    "execution": {
     "iopub.execute_input": "2023-12-21T23:14:07.629971Z",
     "iopub.status.busy": "2023-12-21T23:14:07.629569Z",
     "iopub.status.idle": "2023-12-21T23:14:34.393413Z",
     "shell.execute_reply": "2023-12-21T23:14:34.391840Z"
    },
    "papermill": {
     "duration": 26.793243,
     "end_time": "2023-12-21T23:14:34.396770",
     "exception": false,
     "start_time": "2023-12-21T23:14:07.603527",
     "status": "completed"
    },
    "tags": []
   },
   "outputs": [],
   "source": [
    "sub_nameOwned = 'RepurchaseFilter_model_submissionOwned'\n",
    "subOwned.to_csv(f'{sub_nameOwned}.csv.gz', index=False)"
   ]
  }
 ],
 "metadata": {
  "kaggle": {
   "accelerator": "none",
   "dataSources": [
    {
     "databundleVersionId": 3103714,
     "sourceId": 31254,
     "sourceType": "competition"
    },
    {
     "sourceId": 149573710,
     "sourceType": "kernelVersion"
    }
   ],
   "dockerImageVersionId": 30558,
   "isGpuEnabled": false,
   "isInternetEnabled": true,
   "language": "python",
   "sourceType": "notebook"
  },
  "kernelspec": {
   "display_name": "Python 3",
   "language": "python",
   "name": "python3"
  },
  "language_info": {
   "codemirror_mode": {
    "name": "ipython",
    "version": 3
   },
   "file_extension": ".py",
   "mimetype": "text/x-python",
   "name": "python",
   "nbconvert_exporter": "python",
   "pygments_lexer": "ipython3",
   "version": "3.10.12"
  },
  "papermill": {
   "default_parameters": {},
   "duration": 390.501599,
   "end_time": "2023-12-21T23:14:37.245984",
   "environment_variables": {},
   "exception": null,
   "input_path": "__notebook__.ipynb",
   "output_path": "__notebook__.ipynb",
   "parameters": {},
   "start_time": "2023-12-21T23:08:06.744385",
   "version": "2.4.0"
  }
 },
 "nbformat": 4,
 "nbformat_minor": 5
}
