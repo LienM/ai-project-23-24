{
 "cells": [
  {
   "cell_type": "markdown",
   "id": "f9714ef9",
   "metadata": {
    "papermill": {
     "duration": 0.010939,
     "end_time": "2023-12-21T23:44:48.119847",
     "exception": false,
     "start_time": "2023-12-21T23:44:48.108908",
     "status": "completed"
    },
    "tags": []
   },
   "source": [
    "# Read input files"
   ]
  },
  {
   "cell_type": "code",
   "execution_count": 1,
   "id": "974a790e",
   "metadata": {
    "execution": {
     "iopub.execute_input": "2023-12-21T23:44:48.143103Z",
     "iopub.status.busy": "2023-12-21T23:44:48.142587Z",
     "iopub.status.idle": "2023-12-21T23:44:56.690103Z",
     "shell.execute_reply": "2023-12-21T23:44:56.688957Z"
    },
    "papermill": {
     "duration": 8.562657,
     "end_time": "2023-12-21T23:44:56.693021",
     "exception": false,
     "start_time": "2023-12-21T23:44:48.130364",
     "status": "completed"
    },
    "tags": []
   },
   "outputs": [
    {
     "name": "stdout",
     "output_type": "stream",
     "text": [
      "CPU times: user 4.55 s, sys: 6.36 s, total: 10.9 s\n",
      "Wall time: 8.53 s\n"
     ]
    }
   ],
   "source": [
    "%%time\n",
    "import pandas as pd\n",
    "\n",
    "pad = \"/kaggle/input/makeparquet\"\n",
    "transactions = pd.read_parquet(pad+'/transactions_train.parquet')\n",
    "customers = pd.read_parquet(pad+'/customers.parquet')\n",
    "articles = pd.read_parquet(pad+'/articles.parquet')\n"
   ]
  },
  {
   "cell_type": "markdown",
   "id": "b8b5ce5c",
   "metadata": {
    "papermill": {
     "duration": 0.010558,
     "end_time": "2023-12-21T23:44:56.714711",
     "exception": false,
     "start_time": "2023-12-21T23:44:56.704153",
     "status": "completed"
    },
    "tags": []
   },
   "source": [
    "# Most popular product type numbers"
   ]
  },
  {
   "cell_type": "code",
   "execution_count": 2,
   "id": "7803a6b0",
   "metadata": {
    "execution": {
     "iopub.execute_input": "2023-12-21T23:44:56.739863Z",
     "iopub.status.busy": "2023-12-21T23:44:56.739214Z",
     "iopub.status.idle": "2023-12-21T23:45:55.033084Z",
     "shell.execute_reply": "2023-12-21T23:45:55.032095Z"
    },
    "papermill": {
     "duration": 58.320456,
     "end_time": "2023-12-21T23:45:55.046652",
     "exception": false,
     "start_time": "2023-12-21T23:44:56.726196",
     "status": "completed"
    },
    "tags": []
   },
   "outputs": [
    {
     "name": "stdout",
     "output_type": "stream",
     "text": [
      "     product_type_no  repurchase_count\n",
      "0                 -1             11925\n",
      "1                 49                42\n",
      "2                 57             50459\n",
      "3                 59            193391\n",
      "4                 60                18\n",
      "..               ...               ...\n",
      "111              523                 5\n",
      "112              529                45\n",
      "113              532                29\n",
      "114              761                42\n",
      "115              762                 8\n",
      "\n",
      "[116 rows x 2 columns]\n"
     ]
    }
   ],
   "source": [
    "import pandas as pd\n",
    "\n",
    "# Assuming you have three dataframes named transactions, customers, and articles\n",
    "\n",
    "# Merge transactions with articles on 'article_id'\n",
    "merged_df = pd.merge(transactions, articles, on='article_id')\n",
    "\n",
    "# Group by 'customer_id' and 'product_type_name', count unique article_ids\n",
    "repurchase_counts = merged_df.groupby(['customer_id', 'product_type_no']).agg({'article_id': 'nunique'})\n",
    "\n",
    "# Filter for repurchases greater than 1\n",
    "repurchase_counts = repurchase_counts[repurchase_counts['article_id'] > 1]\n",
    "\n",
    "# Count the number of unique customers for each product type\n",
    "repurchase_summary = repurchase_counts.groupby('product_type_no').size().reset_index(name='repurchase_count')\n",
    "\n",
    "# Display the result\n",
    "print(repurchase_summary)"
   ]
  },
  {
   "cell_type": "code",
   "execution_count": 3,
   "id": "7984f22f",
   "metadata": {
    "execution": {
     "iopub.execute_input": "2023-12-21T23:45:55.073931Z",
     "iopub.status.busy": "2023-12-21T23:45:55.072363Z",
     "iopub.status.idle": "2023-12-21T23:45:55.081840Z",
     "shell.execute_reply": "2023-12-21T23:45:55.080277Z"
    },
    "papermill": {
     "duration": 0.025954,
     "end_time": "2023-12-21T23:45:55.084610",
     "exception": false,
     "start_time": "2023-12-21T23:45:55.058656",
     "status": "completed"
    },
    "tags": []
   },
   "outputs": [
    {
     "name": "stdout",
     "output_type": "stream",
     "text": [
      "[272, 252, 265, 255, 254, 258, 253, 306, 274, 286, 298, 59, 275, 259, 273, 262, 302, 308, 264, 245, 57, 66, 267, 297, 67, 70, 304, 87, 80, 77]\n"
     ]
    }
   ],
   "source": [
    "repurchase_summary = repurchase_summary.sort_values(by='repurchase_count', ascending=False)\n",
    "top_20_product_types = repurchase_summary.head(30)\n",
    "top_20_product_names = top_20_product_types['product_type_no'].tolist()\n",
    "print(top_20_product_names)"
   ]
  },
  {
   "cell_type": "markdown",
   "id": "b5dc2b3b",
   "metadata": {
    "papermill": {
     "duration": 0.011616,
     "end_time": "2023-12-21T23:45:55.108091",
     "exception": false,
     "start_time": "2023-12-21T23:45:55.096475",
     "status": "completed"
    },
    "tags": []
   },
   "source": [
    "# Research Question 1: Repurchase Analysis\n"
   ]
  },
  {
   "cell_type": "code",
   "execution_count": 4,
   "id": "451604f3",
   "metadata": {
    "execution": {
     "iopub.execute_input": "2023-12-21T23:45:55.134604Z",
     "iopub.status.busy": "2023-12-21T23:45:55.133685Z",
     "iopub.status.idle": "2023-12-21T23:46:21.025036Z",
     "shell.execute_reply": "2023-12-21T23:46:21.023181Z"
    },
    "papermill": {
     "duration": 25.908182,
     "end_time": "2023-12-21T23:46:21.028272",
     "exception": false,
     "start_time": "2023-12-21T23:45:55.120090",
     "status": "completed"
    },
    "tags": []
   },
   "outputs": [
    {
     "name": "stdout",
     "output_type": "stream",
     "text": [
      "0.16413289920373725\n"
     ]
    }
   ],
   "source": [
    "# Calculate repurchase rate for each article\n",
    "# Group by customer and article, and count how many times each article was purchased\n",
    "repurchase_counts = transactions.groupby(['customer_id', 'article_id'])['t_dat'].count().reset_index()\n",
    "repurchase_counts['t_dat'] = repurchase_counts['t_dat'] - 1\n",
    "\n",
    "# Calculate the average repurchase rate\n",
    "average_repurchase_rate = repurchase_counts['t_dat'].mean()\n",
    "print(average_repurchase_rate)"
   ]
  },
  {
   "cell_type": "markdown",
   "id": "acc1b728",
   "metadata": {
    "papermill": {
     "duration": 0.012109,
     "end_time": "2023-12-21T23:46:21.052121",
     "exception": false,
     "start_time": "2023-12-21T23:46:21.040012",
     "status": "completed"
    },
    "tags": []
   },
   "source": [
    "# Bulk purchases:"
   ]
  },
  {
   "cell_type": "code",
   "execution_count": 5,
   "id": "ef2c6aaa",
   "metadata": {
    "execution": {
     "iopub.execute_input": "2023-12-21T23:46:21.078058Z",
     "iopub.status.busy": "2023-12-21T23:46:21.077656Z",
     "iopub.status.idle": "2023-12-21T23:46:21.105288Z",
     "shell.execute_reply": "2023-12-21T23:46:21.103676Z"
    },
    "papermill": {
     "duration": 0.044633,
     "end_time": "2023-12-21T23:46:21.109041",
     "exception": false,
     "start_time": "2023-12-21T23:46:21.064408",
     "status": "completed"
    },
    "tags": []
   },
   "outputs": [
    {
     "name": "stdout",
     "output_type": "stream",
     "text": [
      "569\n"
     ]
    }
   ],
   "source": [
    "average_repurchase_rate = repurchase_counts['t_dat'].max()\n",
    "print(average_repurchase_rate)"
   ]
  },
  {
   "cell_type": "code",
   "execution_count": 6,
   "id": "62eb3fc7",
   "metadata": {
    "execution": {
     "iopub.execute_input": "2023-12-21T23:46:21.135524Z",
     "iopub.status.busy": "2023-12-21T23:46:21.134393Z",
     "iopub.status.idle": "2023-12-21T23:46:21.234538Z",
     "shell.execute_reply": "2023-12-21T23:46:21.232929Z"
    },
    "papermill": {
     "duration": 0.118093,
     "end_time": "2023-12-21T23:46:21.239186",
     "exception": false,
     "start_time": "2023-12-21T23:46:21.121093",
     "status": "completed"
    },
    "tags": []
   },
   "outputs": [
    {
     "data": {
      "text/html": [
       "<div>\n",
       "<style scoped>\n",
       "    .dataframe tbody tr th:only-of-type {\n",
       "        vertical-align: middle;\n",
       "    }\n",
       "\n",
       "    .dataframe tbody tr th {\n",
       "        vertical-align: top;\n",
       "    }\n",
       "\n",
       "    .dataframe thead th {\n",
       "        text-align: right;\n",
       "    }\n",
       "</style>\n",
       "<table border=\"1\" class=\"dataframe\">\n",
       "  <thead>\n",
       "    <tr style=\"text-align: right;\">\n",
       "      <th></th>\n",
       "      <th>customer_id</th>\n",
       "      <th>article_id</th>\n",
       "      <th>t_dat</th>\n",
       "    </tr>\n",
       "  </thead>\n",
       "  <tbody>\n",
       "    <tr>\n",
       "      <th>8524309</th>\n",
       "      <td>5743206735920807081</td>\n",
       "      <td>678342001</td>\n",
       "      <td>569</td>\n",
       "    </tr>\n",
       "  </tbody>\n",
       "</table>\n",
       "</div>"
      ],
      "text/plain": [
       "                 customer_id  article_id  t_dat\n",
       "8524309  5743206735920807081   678342001    569"
      ]
     },
     "execution_count": 6,
     "metadata": {},
     "output_type": "execute_result"
    }
   ],
   "source": [
    "repurchase_counts[repurchase_counts['t_dat']==569]"
   ]
  },
  {
   "cell_type": "code",
   "execution_count": 7,
   "id": "016e5872",
   "metadata": {
    "execution": {
     "iopub.execute_input": "2023-12-21T23:46:21.266333Z",
     "iopub.status.busy": "2023-12-21T23:46:21.265670Z",
     "iopub.status.idle": "2023-12-21T23:46:21.292437Z",
     "shell.execute_reply": "2023-12-21T23:46:21.290895Z"
    },
    "papermill": {
     "duration": 0.043861,
     "end_time": "2023-12-21T23:46:21.295630",
     "exception": false,
     "start_time": "2023-12-21T23:46:21.251769",
     "status": "completed"
    },
    "tags": []
   },
   "outputs": [
    {
     "data": {
      "text/html": [
       "<div>\n",
       "<style scoped>\n",
       "    .dataframe tbody tr th:only-of-type {\n",
       "        vertical-align: middle;\n",
       "    }\n",
       "\n",
       "    .dataframe tbody tr th {\n",
       "        vertical-align: top;\n",
       "    }\n",
       "\n",
       "    .dataframe thead th {\n",
       "        text-align: right;\n",
       "    }\n",
       "</style>\n",
       "<table border=\"1\" class=\"dataframe\">\n",
       "  <thead>\n",
       "    <tr style=\"text-align: right;\">\n",
       "      <th></th>\n",
       "      <th>article_id</th>\n",
       "      <th>product_code</th>\n",
       "      <th>prod_name</th>\n",
       "      <th>product_type_no</th>\n",
       "      <th>product_type_name</th>\n",
       "      <th>product_group_name</th>\n",
       "      <th>graphical_appearance_no</th>\n",
       "      <th>graphical_appearance_name</th>\n",
       "      <th>colour_group_code</th>\n",
       "      <th>colour_group_name</th>\n",
       "      <th>...</th>\n",
       "      <th>fabric_wool</th>\n",
       "      <th>fabric_polyester</th>\n",
       "      <th>fabric_silk</th>\n",
       "      <th>fabric_denim</th>\n",
       "      <th>fabric_linen</th>\n",
       "      <th>fabric_spandex</th>\n",
       "      <th>fabric_rayon</th>\n",
       "      <th>fabric_nylon</th>\n",
       "      <th>fabric_leather</th>\n",
       "      <th>fabric_suede</th>\n",
       "    </tr>\n",
       "  </thead>\n",
       "  <tbody>\n",
       "    <tr>\n",
       "      <th>43839</th>\n",
       "      <td>678342001</td>\n",
       "      <td>678342</td>\n",
       "      <td>Lima SS.</td>\n",
       "      <td>255</td>\n",
       "      <td>T-shirt</td>\n",
       "      <td>Garment Upper body</td>\n",
       "      <td>1010016</td>\n",
       "      <td>Solid</td>\n",
       "      <td>9</td>\n",
       "      <td>Black</td>\n",
       "      <td>...</td>\n",
       "      <td>0</td>\n",
       "      <td>0</td>\n",
       "      <td>0</td>\n",
       "      <td>0</td>\n",
       "      <td>0</td>\n",
       "      <td>0</td>\n",
       "      <td>0</td>\n",
       "      <td>0</td>\n",
       "      <td>0</td>\n",
       "      <td>0</td>\n",
       "    </tr>\n",
       "  </tbody>\n",
       "</table>\n",
       "<p>1 rows × 37 columns</p>\n",
       "</div>"
      ],
      "text/plain": [
       "       article_id  product_code prod_name  product_type_no product_type_name  \\\n",
       "43839   678342001        678342  Lima SS.              255           T-shirt   \n",
       "\n",
       "       product_group_name  graphical_appearance_no graphical_appearance_name  \\\n",
       "43839  Garment Upper body                  1010016                     Solid   \n",
       "\n",
       "       colour_group_code colour_group_name  ...  fabric_wool fabric_polyester  \\\n",
       "43839                  9             Black  ...            0                0   \n",
       "\n",
       "       fabric_silk fabric_denim  fabric_linen fabric_spandex  fabric_rayon  \\\n",
       "43839            0            0             0              0             0   \n",
       "\n",
       "      fabric_nylon  fabric_leather fabric_suede  \n",
       "43839            0               0            0  \n",
       "\n",
       "[1 rows x 37 columns]"
      ]
     },
     "execution_count": 7,
     "metadata": {},
     "output_type": "execute_result"
    }
   ],
   "source": [
    "articles[articles.article_id == 678342001]"
   ]
  },
  {
   "cell_type": "code",
   "execution_count": 8,
   "id": "2c73d355",
   "metadata": {
    "execution": {
     "iopub.execute_input": "2023-12-21T23:46:21.323136Z",
     "iopub.status.busy": "2023-12-21T23:46:21.322658Z",
     "iopub.status.idle": "2023-12-21T23:46:21.484862Z",
     "shell.execute_reply": "2023-12-21T23:46:21.483528Z"
    },
    "papermill": {
     "duration": 0.179199,
     "end_time": "2023-12-21T23:46:21.487845",
     "exception": false,
     "start_time": "2023-12-21T23:46:21.308646",
     "status": "completed"
    },
    "tags": []
   },
   "outputs": [
    {
     "data": {
      "text/html": [
       "<div>\n",
       "<style scoped>\n",
       "    .dataframe tbody tr th:only-of-type {\n",
       "        vertical-align: middle;\n",
       "    }\n",
       "\n",
       "    .dataframe tbody tr th {\n",
       "        vertical-align: top;\n",
       "    }\n",
       "\n",
       "    .dataframe thead th {\n",
       "        text-align: right;\n",
       "    }\n",
       "</style>\n",
       "<table border=\"1\" class=\"dataframe\">\n",
       "  <thead>\n",
       "    <tr style=\"text-align: right;\">\n",
       "      <th></th>\n",
       "      <th>t_dat</th>\n",
       "      <th>customer_id</th>\n",
       "      <th>article_id</th>\n",
       "      <th>price</th>\n",
       "      <th>sales_channel_id</th>\n",
       "      <th>season</th>\n",
       "      <th>year</th>\n",
       "      <th>month</th>\n",
       "      <th>week</th>\n",
       "    </tr>\n",
       "  </thead>\n",
       "  <tbody>\n",
       "    <tr>\n",
       "      <th>1177871</th>\n",
       "      <td>2018-10-14</td>\n",
       "      <td>5743206735920807081</td>\n",
       "      <td>678342001</td>\n",
       "      <td>0.006763</td>\n",
       "      <td>1</td>\n",
       "      <td>3</td>\n",
       "      <td>-30</td>\n",
       "      <td>10</td>\n",
       "      <td>3</td>\n",
       "    </tr>\n",
       "    <tr>\n",
       "      <th>1177872</th>\n",
       "      <td>2018-10-14</td>\n",
       "      <td>5743206735920807081</td>\n",
       "      <td>678342001</td>\n",
       "      <td>0.006763</td>\n",
       "      <td>1</td>\n",
       "      <td>3</td>\n",
       "      <td>-30</td>\n",
       "      <td>10</td>\n",
       "      <td>3</td>\n",
       "    </tr>\n",
       "    <tr>\n",
       "      <th>1177873</th>\n",
       "      <td>2018-10-14</td>\n",
       "      <td>5743206735920807081</td>\n",
       "      <td>678342001</td>\n",
       "      <td>0.006763</td>\n",
       "      <td>1</td>\n",
       "      <td>3</td>\n",
       "      <td>-30</td>\n",
       "      <td>10</td>\n",
       "      <td>3</td>\n",
       "    </tr>\n",
       "    <tr>\n",
       "      <th>1177874</th>\n",
       "      <td>2018-10-14</td>\n",
       "      <td>5743206735920807081</td>\n",
       "      <td>678342001</td>\n",
       "      <td>0.006763</td>\n",
       "      <td>1</td>\n",
       "      <td>3</td>\n",
       "      <td>-30</td>\n",
       "      <td>10</td>\n",
       "      <td>3</td>\n",
       "    </tr>\n",
       "    <tr>\n",
       "      <th>1177875</th>\n",
       "      <td>2018-10-14</td>\n",
       "      <td>5743206735920807081</td>\n",
       "      <td>678342001</td>\n",
       "      <td>0.006763</td>\n",
       "      <td>1</td>\n",
       "      <td>3</td>\n",
       "      <td>-30</td>\n",
       "      <td>10</td>\n",
       "      <td>3</td>\n",
       "    </tr>\n",
       "    <tr>\n",
       "      <th>...</th>\n",
       "      <td>...</td>\n",
       "      <td>...</td>\n",
       "      <td>...</td>\n",
       "      <td>...</td>\n",
       "      <td>...</td>\n",
       "      <td>...</td>\n",
       "      <td>...</td>\n",
       "      <td>...</td>\n",
       "      <td>...</td>\n",
       "    </tr>\n",
       "    <tr>\n",
       "      <th>1178436</th>\n",
       "      <td>2018-10-14</td>\n",
       "      <td>5743206735920807081</td>\n",
       "      <td>678342001</td>\n",
       "      <td>0.006763</td>\n",
       "      <td>1</td>\n",
       "      <td>3</td>\n",
       "      <td>-30</td>\n",
       "      <td>10</td>\n",
       "      <td>3</td>\n",
       "    </tr>\n",
       "    <tr>\n",
       "      <th>1178437</th>\n",
       "      <td>2018-10-14</td>\n",
       "      <td>5743206735920807081</td>\n",
       "      <td>678342001</td>\n",
       "      <td>0.006763</td>\n",
       "      <td>1</td>\n",
       "      <td>3</td>\n",
       "      <td>-30</td>\n",
       "      <td>10</td>\n",
       "      <td>3</td>\n",
       "    </tr>\n",
       "    <tr>\n",
       "      <th>1178438</th>\n",
       "      <td>2018-10-14</td>\n",
       "      <td>5743206735920807081</td>\n",
       "      <td>678342001</td>\n",
       "      <td>0.006763</td>\n",
       "      <td>1</td>\n",
       "      <td>3</td>\n",
       "      <td>-30</td>\n",
       "      <td>10</td>\n",
       "      <td>3</td>\n",
       "    </tr>\n",
       "    <tr>\n",
       "      <th>1178439</th>\n",
       "      <td>2018-10-14</td>\n",
       "      <td>5743206735920807081</td>\n",
       "      <td>678342001</td>\n",
       "      <td>0.006763</td>\n",
       "      <td>1</td>\n",
       "      <td>3</td>\n",
       "      <td>-30</td>\n",
       "      <td>10</td>\n",
       "      <td>3</td>\n",
       "    </tr>\n",
       "    <tr>\n",
       "      <th>1178440</th>\n",
       "      <td>2018-10-14</td>\n",
       "      <td>5743206735920807081</td>\n",
       "      <td>678342001</td>\n",
       "      <td>0.006763</td>\n",
       "      <td>1</td>\n",
       "      <td>3</td>\n",
       "      <td>-30</td>\n",
       "      <td>10</td>\n",
       "      <td>3</td>\n",
       "    </tr>\n",
       "  </tbody>\n",
       "</table>\n",
       "<p>570 rows × 9 columns</p>\n",
       "</div>"
      ],
      "text/plain": [
       "             t_dat          customer_id  article_id     price  \\\n",
       "1177871 2018-10-14  5743206735920807081   678342001  0.006763   \n",
       "1177872 2018-10-14  5743206735920807081   678342001  0.006763   \n",
       "1177873 2018-10-14  5743206735920807081   678342001  0.006763   \n",
       "1177874 2018-10-14  5743206735920807081   678342001  0.006763   \n",
       "1177875 2018-10-14  5743206735920807081   678342001  0.006763   \n",
       "...            ...                  ...         ...       ...   \n",
       "1178436 2018-10-14  5743206735920807081   678342001  0.006763   \n",
       "1178437 2018-10-14  5743206735920807081   678342001  0.006763   \n",
       "1178438 2018-10-14  5743206735920807081   678342001  0.006763   \n",
       "1178439 2018-10-14  5743206735920807081   678342001  0.006763   \n",
       "1178440 2018-10-14  5743206735920807081   678342001  0.006763   \n",
       "\n",
       "         sales_channel_id  season  year  month  week  \n",
       "1177871                 1       3   -30     10     3  \n",
       "1177872                 1       3   -30     10     3  \n",
       "1177873                 1       3   -30     10     3  \n",
       "1177874                 1       3   -30     10     3  \n",
       "1177875                 1       3   -30     10     3  \n",
       "...                   ...     ...   ...    ...   ...  \n",
       "1178436                 1       3   -30     10     3  \n",
       "1178437                 1       3   -30     10     3  \n",
       "1178438                 1       3   -30     10     3  \n",
       "1178439                 1       3   -30     10     3  \n",
       "1178440                 1       3   -30     10     3  \n",
       "\n",
       "[570 rows x 9 columns]"
      ]
     },
     "execution_count": 8,
     "metadata": {},
     "output_type": "execute_result"
    }
   ],
   "source": [
    "transactions[(transactions.customer_id == 5743206735920807081) & (transactions.article_id == 678342001)]\n"
   ]
  },
  {
   "cell_type": "code",
   "execution_count": 9,
   "id": "534343dc",
   "metadata": {
    "execution": {
     "iopub.execute_input": "2023-12-21T23:46:21.515052Z",
     "iopub.status.busy": "2023-12-21T23:46:21.514606Z",
     "iopub.status.idle": "2023-12-21T23:46:21.528889Z",
     "shell.execute_reply": "2023-12-21T23:46:21.527461Z"
    },
    "papermill": {
     "duration": 0.031334,
     "end_time": "2023-12-21T23:46:21.531781",
     "exception": false,
     "start_time": "2023-12-21T23:46:21.500447",
     "status": "completed"
    },
    "tags": []
   },
   "outputs": [
    {
     "name": "stdout",
     "output_type": "stream",
     "text": [
      "       article_id  product_code prod_name  product_type_no product_type_name  \\\n",
      "43839   678342001        678342  Lima SS.              255           T-shirt   \n",
      "\n",
      "       product_group_name  graphical_appearance_no graphical_appearance_name  \\\n",
      "43839  Garment Upper body                  1010016                     Solid   \n",
      "\n",
      "       colour_group_code colour_group_name  ...  fabric_wool fabric_polyester  \\\n",
      "43839                  9             Black  ...            0                0   \n",
      "\n",
      "       fabric_silk fabric_denim  fabric_linen fabric_spandex  fabric_rayon  \\\n",
      "43839            0            0             0              0             0   \n",
      "\n",
      "      fabric_nylon  fabric_leather fabric_suede  \n",
      "43839            0               0            0  \n",
      "\n",
      "[1 rows x 37 columns]\n"
     ]
    }
   ],
   "source": [
    "print(articles[articles.article_id == 678342001])"
   ]
  },
  {
   "cell_type": "markdown",
   "id": "10cd070c",
   "metadata": {
    "papermill": {
     "duration": 0.012206,
     "end_time": "2023-12-21T23:46:21.556618",
     "exception": false,
     "start_time": "2023-12-21T23:46:21.544412",
     "status": "completed"
    },
    "tags": []
   },
   "source": [
    "# Average time between repurchases"
   ]
  },
  {
   "cell_type": "code",
   "execution_count": 10,
   "id": "ead5dfb7",
   "metadata": {
    "execution": {
     "iopub.execute_input": "2023-12-21T23:46:21.584981Z",
     "iopub.status.busy": "2023-12-21T23:46:21.583897Z",
     "iopub.status.idle": "2023-12-21T23:47:14.374065Z",
     "shell.execute_reply": "2023-12-21T23:47:14.372662Z"
    },
    "papermill": {
     "duration": 52.820457,
     "end_time": "2023-12-21T23:47:14.389794",
     "exception": false,
     "start_time": "2023-12-21T23:46:21.569337",
     "status": "completed"
    },
    "tags": []
   },
   "outputs": [
    {
     "name": "stdout",
     "output_type": "stream",
     "text": [
      "5 days 09:23:10.299972753\n"
     ]
    }
   ],
   "source": [
    "# Calculate the average time between purchases of the same item\n",
    "transactions['t_dat'] = pd.to_datetime(transactions['t_dat'])\n",
    "transactions = transactions.sort_values(by=['customer_id', 'article_id', 't_dat'])\n",
    "\n",
    "# Calculate time difference between successive purchases of the same item\n",
    "transactions['time_diff'] = transactions.groupby(['customer_id', 'article_id'])['t_dat'].diff()\n",
    "\n",
    "# Calculate the average time difference for each article\n",
    "average_time_between_purchases = transactions.groupby('article_id')['time_diff'].mean()\n",
    "print(average_time_between_purchases.mean())\n"
   ]
  },
  {
   "cell_type": "code",
   "execution_count": 11,
   "id": "c34305ec",
   "metadata": {
    "execution": {
     "iopub.execute_input": "2023-12-21T23:47:14.418513Z",
     "iopub.status.busy": "2023-12-21T23:47:14.417521Z",
     "iopub.status.idle": "2023-12-21T23:47:15.297076Z",
     "shell.execute_reply": "2023-12-21T23:47:15.295743Z"
    },
    "papermill": {
     "duration": 0.897479,
     "end_time": "2023-12-21T23:47:15.299913",
     "exception": false,
     "start_time": "2023-12-21T23:47:14.402434",
     "status": "completed"
    },
    "tags": []
   },
   "outputs": [
    {
     "name": "stdout",
     "output_type": "stream",
     "text": [
      "104547\n",
      "1362281\n"
     ]
    }
   ],
   "source": [
    "# Calculate repurchase rate for each customer\n",
    "# Calculate the number of unique items purchased by each customer\n",
    "unique_items = transactions['article_id'].nunique()\n",
    "\n",
    "# Calculate the number of repurchased items by each customer\n",
    "unique_customers = transactions['customer_id'].nunique()\n",
    "\n",
    "print(unique_items)\n",
    "print(unique_customers)"
   ]
  },
  {
   "cell_type": "markdown",
   "id": "93904f10",
   "metadata": {
    "papermill": {
     "duration": 0.01251,
     "end_time": "2023-12-21T23:47:15.325275",
     "exception": false,
     "start_time": "2023-12-21T23:47:15.312765",
     "status": "completed"
    },
    "tags": []
   },
   "source": [
    "# Calculate repurchase rate for each customer"
   ]
  },
  {
   "cell_type": "code",
   "execution_count": 12,
   "id": "0fefcf61",
   "metadata": {
    "execution": {
     "iopub.execute_input": "2023-12-21T23:47:15.355476Z",
     "iopub.status.busy": "2023-12-21T23:47:15.354951Z",
     "iopub.status.idle": "2023-12-21T23:47:56.934717Z",
     "shell.execute_reply": "2023-12-21T23:47:56.933309Z"
    },
    "papermill": {
     "duration": 41.612533,
     "end_time": "2023-12-21T23:47:56.952025",
     "exception": false,
     "start_time": "2023-12-21T23:47:15.339492",
     "status": "completed"
    },
    "tags": []
   },
   "outputs": [
    {
     "name": "stdout",
     "output_type": "stream",
     "text": [
      "27306439\n",
      "31788324\n",
      "customer_id\n",
      "2729025827381139556     99.0\n",
      "11558794799858991958    93.0\n",
      "4485518665254175540     85.0\n",
      "17539785738842741120    80.0\n",
      "3601599666106972342     79.0\n",
      "                        ... \n",
      "8168426714032213336      0.0\n",
      "8168460412275439387      0.0\n",
      "8168483953316266352      0.0\n",
      "8168523330546161729      0.0\n",
      "9234284623732377441      0.0\n",
      "Length: 1362281, dtype: float64\n"
     ]
    }
   ],
   "source": [
    "\n",
    "# Calculate the number of unique items purchased by each customer\n",
    "unique_items_per_customer = transactions.groupby('customer_id')['article_id'].nunique()\n",
    "\n",
    "# Calculate the number of repurchased items by each customer\n",
    "repurchased_items_per_customer = transactions.groupby(['customer_id', 'article_id']).size().groupby('customer_id').sum()\n",
    "\n",
    "# Calculate the customer-specific repurchase rate\n",
    "customer_repurchase_rate = (repurchased_items_per_customer / unique_items_per_customer)-1\n",
    "print(unique_items_per_customer.sum())\n",
    "print(repurchased_items_per_customer.sum())\n",
    "\n",
    "\n",
    "print(customer_repurchase_rate.sort_values(ascending=False))"
   ]
  },
  {
   "cell_type": "markdown",
   "id": "24acbbe7",
   "metadata": {
    "papermill": {
     "duration": 0.012753,
     "end_time": "2023-12-21T23:47:56.979519",
     "exception": false,
     "start_time": "2023-12-21T23:47:56.966766",
     "status": "completed"
    },
    "tags": []
   },
   "source": [
    "# Item repurchase rate"
   ]
  },
  {
   "cell_type": "code",
   "execution_count": 13,
   "id": "bbb70cf6",
   "metadata": {
    "execution": {
     "iopub.execute_input": "2023-12-21T23:47:57.009053Z",
     "iopub.status.busy": "2023-12-21T23:47:57.008532Z",
     "iopub.status.idle": "2023-12-21T23:48:38.054212Z",
     "shell.execute_reply": "2023-12-21T23:48:38.052698Z"
    },
    "papermill": {
     "duration": 41.077056,
     "end_time": "2023-12-21T23:48:38.070216",
     "exception": false,
     "start_time": "2023-12-21T23:47:56.993160",
     "status": "completed"
    },
    "tags": []
   },
   "outputs": [
    {
     "name": "stdout",
     "output_type": "stream",
     "text": [
      "article_id\n",
      "706016001    18036\n",
      "156231001    10761\n",
      "706016002     9558\n",
      "160442007     7993\n",
      "610776002     7628\n",
      "             ...  \n",
      "528746001        0\n",
      "423900049        0\n",
      "423900050        0\n",
      "556424001        0\n",
      "565200003        0\n",
      "Length: 104547, dtype: int64\n",
      "article_id\n",
      "740299001    15.000000\n",
      "704760004     8.000000\n",
      "331474016     8.000000\n",
      "877607001     6.333333\n",
      "701784017     5.750000\n",
      "               ...    \n",
      "868629001     1.003831\n",
      "624634005     1.003731\n",
      "860885002     1.003623\n",
      "805510032     1.003236\n",
      "838750001     1.003205\n",
      "Length: 81937, dtype: float64\n",
      "81937\n",
      "104547\n"
     ]
    }
   ],
   "source": [
    "# Calculate the number of unique customers who purchased each item\n",
    "unique_customers_per_item = transactions.groupby('article_id')['customer_id'].nunique()\n",
    "\n",
    "# Calculate the number of repurchases for each item\n",
    "repurchases_per_item = transactions.groupby(['article_id', 'customer_id']).size().groupby('article_id').sum()\n",
    "\n",
    "# Calculate the item-specific repurchase rate\n",
    "item_repurchase = repurchases_per_item - unique_customers_per_item\n",
    "item_repurchase_rate = repurchases_per_item / (unique_customers_per_item)\n",
    "filtered_item_repurchase_rate = item_repurchase_rate[item_repurchase_rate != 1]\n",
    "\n",
    "print(item_repurchase.sort_values(ascending=False))\n",
    "print(filtered_item_repurchase_rate.sort_values(ascending=False))\n",
    "print(len(filtered_item_repurchase_rate))\n",
    "print(len(item_repurchase_rate))"
   ]
  },
  {
   "cell_type": "code",
   "execution_count": 14,
   "id": "12dcd9fa",
   "metadata": {
    "execution": {
     "iopub.execute_input": "2023-12-21T23:48:38.100072Z",
     "iopub.status.busy": "2023-12-21T23:48:38.099495Z",
     "iopub.status.idle": "2023-12-21T23:48:38.173401Z",
     "shell.execute_reply": "2023-12-21T23:48:38.171581Z"
    },
    "papermill": {
     "duration": 0.092789,
     "end_time": "2023-12-21T23:48:38.176591",
     "exception": false,
     "start_time": "2023-12-21T23:48:38.083802",
     "status": "completed"
    },
    "tags": []
   },
   "outputs": [
    {
     "name": "stdout",
     "output_type": "stream",
     "text": [
      "              t_dat          customer_id  article_id     price  \\\n",
      "28675451 2020-07-06  3601599666106972342   685813001  0.016932   \n",
      "28675452 2020-07-06  3601599666106972342   685813001  0.016932   \n",
      "28675453 2020-07-06  3601599666106972342   685813001  0.016932   \n",
      "28675454 2020-07-06  3601599666106972342   685813001  0.016932   \n",
      "28675455 2020-07-06  3601599666106972342   685813001  0.016932   \n",
      "...             ...                  ...         ...       ...   \n",
      "28675526 2020-07-06  3601599666106972342   685813001  0.016932   \n",
      "28675527 2020-07-06  3601599666106972342   685813001  0.016932   \n",
      "28675528 2020-07-06  3601599666106972342   685813001  0.016932   \n",
      "28675529 2020-07-06  3601599666106972342   685813001  0.016932   \n",
      "28675530 2020-07-06  3601599666106972342   685813001  0.016932   \n",
      "\n",
      "          sales_channel_id  season  year  month  week time_diff  \n",
      "28675451                 2       2   -28      7    93       NaT  \n",
      "28675452                 2       2   -28      7    93    0 days  \n",
      "28675453                 2       2   -28      7    93    0 days  \n",
      "28675454                 2       2   -28      7    93    0 days  \n",
      "28675455                 2       2   -28      7    93    0 days  \n",
      "...                    ...     ...   ...    ...   ...       ...  \n",
      "28675526                 2       2   -28      7    93    0 days  \n",
      "28675527                 2       2   -28      7    93    0 days  \n",
      "28675528                 2       2   -28      7    93    0 days  \n",
      "28675529                 2       2   -28      7    93    0 days  \n",
      "28675530                 2       2   -28      7    93    0 days  \n",
      "\n",
      "[80 rows x 10 columns]\n"
     ]
    }
   ],
   "source": [
    "test = transactions[transactions.customer_id ==3601599666106972342]\n",
    "print(test)"
   ]
  },
  {
   "cell_type": "markdown",
   "id": "e8f9bd1c",
   "metadata": {
    "papermill": {
     "duration": 0.01286,
     "end_time": "2023-12-21T23:48:38.203465",
     "exception": false,
     "start_time": "2023-12-21T23:48:38.190605",
     "status": "completed"
    },
    "tags": []
   },
   "source": [
    "# Repurchases on different dates"
   ]
  },
  {
   "cell_type": "code",
   "execution_count": 15,
   "id": "4b73927d",
   "metadata": {
    "execution": {
     "iopub.execute_input": "2023-12-21T23:48:38.234947Z",
     "iopub.status.busy": "2023-12-21T23:48:38.234416Z",
     "iopub.status.idle": "2023-12-21T23:49:46.620700Z",
     "shell.execute_reply": "2023-12-21T23:49:46.618950Z"
    },
    "papermill": {
     "duration": 68.421767,
     "end_time": "2023-12-21T23:49:46.639527",
     "exception": false,
     "start_time": "2023-12-21T23:48:38.217760",
     "status": "completed"
    },
    "tags": []
   },
   "outputs": [
    {
     "name": "stdout",
     "output_type": "stream",
     "text": [
      "                   customer_id  article_id      t_dat\n",
      "6             8979857957419452   715624010 2019-09-05\n",
      "7             8979857957419452   715624010 2019-09-05\n",
      "15           32772099130663382   715624010 2020-01-19\n",
      "16           32772099130663382   715624010 2020-01-22\n",
      "19           39172497731037957   715624010 2019-08-13\n",
      "...                        ...         ...        ...\n",
      "31788203  17969406184413867807   487750043 2019-04-09\n",
      "31788231  18079877935957048209   553212001 2018-12-09\n",
      "31788232  18079877935957048209   553212001 2018-12-09\n",
      "31788292  18297284838138651866   790940001 2019-08-21\n",
      "31788293  18297284838138651866   790940001 2019-08-21\n",
      "\n",
      "[7997298 rows x 3 columns]\n"
     ]
    }
   ],
   "source": [
    "import pandas as pd\n",
    "\n",
    "# Merge transactions and customers dataframes on 'customer_id'\n",
    "merged_data = transactions.merge(customers, on='customer_id', how='inner')\n",
    "\n",
    "# Merge the merged_data with the articles dataframe on 'article_id'\n",
    "merged_data = merged_data.merge(articles, on='article_id', how='inner')\n",
    "\n",
    "# Filter for rows where the same customer bought the same article\n",
    "duplicate_sales = merged_data[merged_data.duplicated(subset=['customer_id', 'article_id'], keep=False)]\n",
    "\n",
    "duplicate_sales_dates = duplicate_sales[['customer_id', 'article_id', 't_dat']]\n",
    "\n",
    "print(duplicate_sales_dates)"
   ]
  },
  {
   "cell_type": "code",
   "execution_count": 16,
   "id": "f3052a39",
   "metadata": {
    "execution": {
     "iopub.execute_input": "2023-12-21T23:49:46.671856Z",
     "iopub.status.busy": "2023-12-21T23:49:46.671304Z",
     "iopub.status.idle": "2023-12-21T23:51:29.082456Z",
     "shell.execute_reply": "2023-12-21T23:51:29.080758Z"
    },
    "papermill": {
     "duration": 102.569182,
     "end_time": "2023-12-21T23:51:29.222875",
     "exception": false,
     "start_time": "2023-12-21T23:49:46.653693",
     "status": "completed"
    },
    "tags": []
   },
   "outputs": [
    {
     "name": "stdout",
     "output_type": "stream",
     "text": [
      "                   customer_id  article_id  t_dat\n",
      "11              23962613628581   732842001      2\n",
      "40              28847241659200   672598002      2\n",
      "64              28847241659200   762846001      2\n",
      "87              28847241659200   859076001      2\n",
      "164             77117344919861   539723003      2\n",
      "...                        ...         ...    ...\n",
      "27306369  18446723086055369602   559139004      2\n",
      "27306386  18446737527580148316   596400007      2\n",
      "27306387  18446737527580148316   608776003      2\n",
      "27306399  18446737527580148316   678942039      2\n",
      "27306431  18446737527580148316   827968002      2\n",
      "\n",
      "[1141216 rows x 3 columns]\n"
     ]
    }
   ],
   "source": [
    "import pandas as pd\n",
    "\n",
    "# Merge transactions and customers dataframes on 'customer_id'\n",
    "merged_data = transactions.merge(customers, on='customer_id', how='inner')\n",
    "\n",
    "# Merge the merged_data with the articles dataframe on 'article_id'\n",
    "merged_data = merged_data.merge(articles, on='article_id', how='inner')\n",
    "\n",
    "# Group by customer_id and article_id and filter for items that are repurchased on different dates\n",
    "duplicate_sales = merged_data.groupby(['customer_id', 'article_id'])['t_dat'].nunique().reset_index()\n",
    "duplicate_sales = duplicate_sales[duplicate_sales['t_dat'] > 1]\n",
    "\n",
    "print(duplicate_sales)\n"
   ]
  },
  {
   "cell_type": "markdown",
   "id": "40a9fb01",
   "metadata": {
    "papermill": {
     "duration": 0.013214,
     "end_time": "2023-12-21T23:51:29.249707",
     "exception": false,
     "start_time": "2023-12-21T23:51:29.236493",
     "status": "completed"
    },
    "tags": []
   },
   "source": [
    "# Calculate the number of unique articles and customers in duplicate_sales\n"
   ]
  },
  {
   "cell_type": "code",
   "execution_count": 17,
   "id": "8671eaf9",
   "metadata": {
    "execution": {
     "iopub.execute_input": "2023-12-21T23:51:29.281223Z",
     "iopub.status.busy": "2023-12-21T23:51:29.280742Z",
     "iopub.status.idle": "2023-12-21T23:51:29.339636Z",
     "shell.execute_reply": "2023-12-21T23:51:29.338524Z"
    },
    "papermill": {
     "duration": 0.078065,
     "end_time": "2023-12-21T23:51:29.342263",
     "exception": false,
     "start_time": "2023-12-21T23:51:29.264198",
     "status": "completed"
    },
    "tags": []
   },
   "outputs": [
    {
     "name": "stdout",
     "output_type": "stream",
     "text": [
      "Number of unique articles in duplicate_sales: 63079\n",
      "Number of unique customers in duplicate_sales: 377478\n"
     ]
    }
   ],
   "source": [
    "unique_articles = duplicate_sales['article_id'].nunique()\n",
    "unique_customers = duplicate_sales['customer_id'].nunique()\n",
    "\n",
    "print(f\"Number of unique articles in duplicate_sales: {unique_articles}\")\n",
    "print(f\"Number of unique customers in duplicate_sales: {unique_customers}\")"
   ]
  },
  {
   "cell_type": "code",
   "execution_count": 18,
   "id": "566655b9",
   "metadata": {
    "execution": {
     "iopub.execute_input": "2023-12-21T23:51:29.372785Z",
     "iopub.status.busy": "2023-12-21T23:51:29.371926Z",
     "iopub.status.idle": "2023-12-21T23:51:29.491984Z",
     "shell.execute_reply": "2023-12-21T23:51:29.490613Z"
    },
    "papermill": {
     "duration": 0.139334,
     "end_time": "2023-12-21T23:51:29.495341",
     "exception": false,
     "start_time": "2023-12-21T23:51:29.356007",
     "status": "completed"
    },
    "tags": []
   },
   "outputs": [
    {
     "name": "stdout",
     "output_type": "stream",
     "text": [
      "                   customer_id  article_id  t_dat\n",
      "23079364  15590696367035504989   728162001     32\n",
      "5064218    3432541823604352203   668537001     25\n",
      "754325      510252261938392406   772032001     23\n",
      "24968945  16862770066992317693   847180001     20\n",
      "13733187   9270256441939693849   228257001     20\n",
      "3300722    2251074248250852282   189616001     20\n",
      "12903301   8709376079053390588   120129001     19\n",
      "23262029  15715213897719939573   399223001     19\n",
      "23949764  16169536517697217003   581298001     19\n",
      "13923086   9391202256185024930   228257002     18\n"
     ]
    }
   ],
   "source": [
    "duplicate_sales = duplicate_sales.sort_values(by='t_dat', ascending=False)\n",
    "print(duplicate_sales.head(10))"
   ]
  },
  {
   "cell_type": "markdown",
   "id": "0c86e4b3",
   "metadata": {
    "papermill": {
     "duration": 0.013509,
     "end_time": "2023-12-21T23:51:29.523160",
     "exception": false,
     "start_time": "2023-12-21T23:51:29.509651",
     "status": "completed"
    },
    "tags": []
   },
   "source": [
    "# Top 10 articles bought on different dates"
   ]
  },
  {
   "cell_type": "markdown",
   "id": "b71c89cd",
   "metadata": {
    "papermill": {
     "duration": 0.013563,
     "end_time": "2023-12-21T23:51:29.550577",
     "exception": false,
     "start_time": "2023-12-21T23:51:29.537014",
     "status": "completed"
    },
    "tags": []
   },
   "source": [
    "What to look for"
   ]
  },
  {
   "cell_type": "code",
   "execution_count": 19,
   "id": "2729bebf",
   "metadata": {
    "execution": {
     "iopub.execute_input": "2023-12-21T23:51:29.581833Z",
     "iopub.status.busy": "2023-12-21T23:51:29.581312Z",
     "iopub.status.idle": "2023-12-21T23:51:29.587552Z",
     "shell.execute_reply": "2023-12-21T23:51:29.586139Z"
    },
    "papermill": {
     "duration": 0.025575,
     "end_time": "2023-12-21T23:51:29.590572",
     "exception": false,
     "start_time": "2023-12-21T23:51:29.564997",
     "status": "completed"
    },
    "tags": []
   },
   "outputs": [],
   "source": [
    "# column_name = 'prod_name'\n",
    "# column_name = 'product_group_name'\n",
    "column_name = 'product_type_name'"
   ]
  },
  {
   "cell_type": "code",
   "execution_count": 20,
   "id": "04ed6d63",
   "metadata": {
    "execution": {
     "iopub.execute_input": "2023-12-21T23:51:29.622558Z",
     "iopub.status.busy": "2023-12-21T23:51:29.622050Z",
     "iopub.status.idle": "2023-12-21T23:51:29.760267Z",
     "shell.execute_reply": "2023-12-21T23:51:29.759119Z"
    },
    "papermill": {
     "duration": 0.158167,
     "end_time": "2023-12-21T23:51:29.763283",
     "exception": false,
     "start_time": "2023-12-21T23:51:29.605116",
     "status": "completed"
    },
    "tags": []
   },
   "outputs": [
    {
     "name": "stdout",
     "output_type": "stream",
     "text": [
      "   article_id    sum  count  difference product_type_name\n",
      "0   706016001  16333   6438        9895          Trousers\n",
      "1   706016002   8906   3847        5059          Trousers\n",
      "2   372860001   6501   2881        3620             Socks\n",
      "3   399223001   5843   2378        3465          Trousers\n",
      "4   156231001   5116   1935        3181  Underwear Tights\n",
      "5   160442007   5372   2201        3171             Socks\n",
      "6   464297007   5293   2333        2960  Underwear bottom\n",
      "7   399256001   4519   1911        2608          Trousers\n",
      "8   160442010   4221   1743        2478             Socks\n",
      "9   610776002   4402   1998        2404           T-shirt\n"
     ]
    }
   ],
   "source": [
    "import pandas as pd\n",
    "\n",
    "# Group by article_id in duplicate_sales and calculate the sum of t_dat and count of occurrences\n",
    "article_sum_df = duplicate_sales.groupby('article_id')['t_dat'].agg(['sum', 'count']).reset_index()\n",
    "\n",
    "# Calculate the difference between the sum and count\n",
    "article_sum_df['difference'] = article_sum_df['sum'] - article_sum_df['count']\n",
    "\n",
    "# Sort the dataframe in descending order based on the difference\n",
    "article_sum_df = article_sum_df.sort_values(by='difference', ascending=False)\n",
    "\n",
    "# Get the top 10 articles based on the 'difference' column\n",
    "top_10_articles = article_sum_df.nlargest(10, 'difference')\n",
    "# Merge the top 10 articles with the articles dataframe to get the 'prod_name'\n",
    "top_10_articles_with_name = top_10_articles.merge(articles[['article_id', column_name]], on='article_id', how='left')\n",
    "print(top_10_articles_with_name)\n"
   ]
  },
  {
   "cell_type": "code",
   "execution_count": 21,
   "id": "9a724c1c",
   "metadata": {
    "execution": {
     "iopub.execute_input": "2023-12-21T23:51:29.794630Z",
     "iopub.status.busy": "2023-12-21T23:51:29.794125Z",
     "iopub.status.idle": "2023-12-21T23:51:30.495485Z",
     "shell.execute_reply": "2023-12-21T23:51:30.493606Z"
    },
    "papermill": {
     "duration": 0.720491,
     "end_time": "2023-12-21T23:51:30.498970",
     "exception": false,
     "start_time": "2023-12-21T23:51:29.778479",
     "status": "completed"
    },
    "tags": []
   },
   "outputs": [
    {
     "data": {
      "image/png": "[encoded data removed]",
      "text/plain": [
       "<Figure size 640x480 with 1 Axes>"
      ]
     },
     "metadata": {},
     "output_type": "display_data"
    }
   ],
   "source": [
    "import matplotlib.pyplot as plt\n",
    "\n",
    "# Assuming you already have the top_10_articles_with_name dataframe\n",
    "\n",
    "# Plotting\n",
    "# plt.figure(figsize=(14, 8))\n",
    "plt.bar(top_10_articles_with_name.index, top_10_articles_with_name['difference'], color='skyblue')\n",
    "plt.title('Top 10 Article repurchases on different dates')\n",
    "plt.xlabel('Product Name')\n",
    "plt.ylabel('Amount')\n",
    "plt.xticks(top_10_articles_with_name.index, top_10_articles_with_name[column_name], rotation=45, ha='right')\n",
    "plt.tight_layout()\n",
    "plt.savefig(f\"top10articles_{column_name}_diffdate.png\")\n",
    "# Show the plot\n",
    "plt.show()"
   ]
  },
  {
   "cell_type": "markdown",
   "id": "6d045c34",
   "metadata": {
    "papermill": {
     "duration": 0.015284,
     "end_time": "2023-12-21T23:51:30.530074",
     "exception": false,
     "start_time": "2023-12-21T23:51:30.514790",
     "status": "completed"
    },
    "tags": []
   },
   "source": [
    "# Top 10 articles bought on different dates and the same date"
   ]
  },
  {
   "cell_type": "code",
   "execution_count": 22,
   "id": "3d803fab",
   "metadata": {
    "execution": {
     "iopub.execute_input": "2023-12-21T23:51:30.564316Z",
     "iopub.status.busy": "2023-12-21T23:51:30.563260Z",
     "iopub.status.idle": "2023-12-21T23:51:56.178008Z",
     "shell.execute_reply": "2023-12-21T23:51:56.176480Z"
    },
    "papermill": {
     "duration": 25.635561,
     "end_time": "2023-12-21T23:51:56.181866",
     "exception": false,
     "start_time": "2023-12-21T23:51:30.546305",
     "status": "completed"
    },
    "tags": []
   },
   "outputs": [
    {
     "name": "stdout",
     "output_type": "stream",
     "text": [
      "   article_id    sum  count  difference product_type_name\n",
      "0   706016001  18036  32251       18036          Trousers\n",
      "1   156231001  10761  10252       10761  Underwear Tights\n",
      "2   706016002   9558  25485        9558          Trousers\n",
      "3   160442007   7993   9873        7993             Socks\n",
      "4   610776002   7628  22571        7628           T-shirt\n",
      "5   158340001   7577   8956        7577   Leggings/Tights\n",
      "6   160442010   6586   8505        6586             Socks\n",
      "7   228257001   6585   6775        6585  Underwear Tights\n",
      "8   464297007   6471  18554        6471  Underwear bottom\n",
      "9   399223001   6307  15929        6307          Trousers\n"
     ]
    }
   ],
   "source": [
    "repurchase_counts = transactions.groupby(['customer_id', 'article_id'])['t_dat'].count().reset_index()\n",
    "repurchase_counts['t_dat'] = repurchase_counts['t_dat'] - 1\n",
    "# Group by article_id in duplicate_sales and calculate the sum of t_dat and count of occurrences\n",
    "article_sum_df = repurchase_counts.groupby('article_id')['t_dat'].agg(['sum', 'count']).reset_index()\n",
    "\n",
    "# Calculate the difference between the sum and count\n",
    "article_sum_df['difference'] = article_sum_df['sum'] \n",
    "\n",
    "# Sort the dataframe in descending order based on the difference\n",
    "article_sum_df = article_sum_df.sort_values(by='difference', ascending=False)\n",
    "\n",
    "# Get the top 10 articles based on the 'difference' column\n",
    "top_10_articles = article_sum_df.nlargest(10, 'difference')\n",
    "# Merge the top 10 articles with the articles dataframe to get the 'prod_name'\n",
    "top_10_articles_with_name = top_10_articles.merge(articles[['article_id', column_name]], on='article_id', how='left')\n",
    "print(top_10_articles_with_name)"
   ]
  },
  {
   "cell_type": "code",
   "execution_count": 23,
   "id": "b140dd14",
   "metadata": {
    "execution": {
     "iopub.execute_input": "2023-12-21T23:51:56.215711Z",
     "iopub.status.busy": "2023-12-21T23:51:56.215033Z",
     "iopub.status.idle": "2023-12-21T23:51:56.866471Z",
     "shell.execute_reply": "2023-12-21T23:51:56.865056Z"
    },
    "papermill": {
     "duration": 0.672335,
     "end_time": "2023-12-21T23:51:56.870254",
     "exception": false,
     "start_time": "2023-12-21T23:51:56.197919",
     "status": "completed"
    },
    "tags": []
   },
   "outputs": [
    {
     "data": {
      "image/png": "[encoded data removed]",
      "text/plain": [
       "<Figure size 640x480 with 1 Axes>"
      ]
     },
     "metadata": {},
     "output_type": "display_data"
    }
   ],
   "source": [
    "import matplotlib.pyplot as plt\n",
    "\n",
    "# Assuming you already have the top_10_articles_with_name dataframe\n",
    "\n",
    "# Plotting\n",
    "# plt.figure(figsize=(14, 8))\n",
    "plt.bar(top_10_articles_with_name.index, top_10_articles_with_name['difference'], color='skyblue')\n",
    "plt.title('Top 10 Article repurchases')\n",
    "plt.xlabel('Product Name')\n",
    "plt.ylabel('Amount')\n",
    "plt.xticks(top_10_articles_with_name.index, top_10_articles_with_name[column_name], rotation=45, ha='right')\n",
    "plt.tight_layout()\n",
    "\n",
    "plt.savefig(f\"top10articles_{column_name}_samedate.png\")\n",
    "# Show the plot\n",
    "plt.show()"
   ]
  }
 ],
 "metadata": {
  "kaggle": {
   "accelerator": "none",
   "dataSources": [
    {
     "sourceId": 149573710,
     "sourceType": "kernelVersion"
    }
   ],
   "dockerImageVersionId": 30558,
   "isGpuEnabled": false,
   "isInternetEnabled": true,
   "language": "python",
   "sourceType": "notebook"
  },
  "kernelspec": {
   "display_name": "Python 3",
   "language": "python",
   "name": "python3"
  },
  "language_info": {
   "codemirror_mode": {
    "name": "ipython",
    "version": 3
   },
   "file_extension": ".py",
   "mimetype": "text/x-python",
   "name": "python",
   "nbconvert_exporter": "python",
   "pygments_lexer": "ipython3",
   "version": "3.10.12"
  },
  "papermill": {
   "default_parameters": {},
   "duration": 436.549398,
   "end_time": "2023-12-21T23:51:59.817900",
   "environment_variables": {},
   "exception": null,
   "input_path": "__notebook__.ipynb",
   "output_path": "__notebook__.ipynb",
   "parameters": {},
   "start_time": "2023-12-21T23:44:43.268502",
   "version": "2.4.0"
  }
 },
 "nbformat": 4,
 "nbformat_minor": 5
}
