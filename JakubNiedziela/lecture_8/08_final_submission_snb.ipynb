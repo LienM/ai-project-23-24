{
 "cells": [
  {
   "cell_type": "code",
   "execution_count": 1,
   "metadata": {},
   "outputs": [],
   "source": [
    "import pandas as pd\n",
    "import warnings\n",
    "import json\n",
    "warnings.simplefilter(action='ignore', category=FutureWarning)\n",
    "\n",
    "import os\n",
    "os.chdir('../')\n",
    "from model import *\n",
    "os.chdir('../../data/')"
   ]
  },
  {
   "cell_type": "code",
   "execution_count": 2,
   "metadata": {},
   "outputs": [
    {
     "name": "stdout",
     "output_type": "stream",
     "text": [
      "First week num:  0 \n",
      "Last week num:  104 \n",
      "\n"
     ]
    }
   ],
   "source": [
    "transactions = pd.read_pickle('../data/compressed_data/transactions_train.pkl')\n",
    "customers = pd.read_pickle('../data/compressed_data/customers.pkl')\n",
    "articles = pd.read_pickle('../data/compressed_data/articles.pkl')\n",
    "\n",
    "transactions['week'] = 104 - (transactions.t_dat.max() - transactions.t_dat).dt.days // 7\n",
    "\n",
    "print('First week num: ', transactions.week.min(), '\\nLast week num: ', transactions.week.max(), '\\n')"
   ]
  },
  {
   "cell_type": "code",
   "execution_count": 3,
   "metadata": {},
   "outputs": [],
   "source": [
    "# Test week is week after last week in train data\n",
    "test_week = transactions.week.max() + 1\n",
    "\n",
    "# Filter transactions to last 10 weeks (most recent data)\n",
    "transactions = transactions[transactions.week > transactions.week.max() - 10]"
   ]
  },
  {
   "cell_type": "code",
   "execution_count": 4,
   "metadata": {},
   "outputs": [
    {
     "data": {
      "text/plain": [
       "Index(['t_dat', 'customer_id', 'article_id', 'price', 'sales_channel_id',\n",
       "       'week'],\n",
       "      dtype='object')"
      ]
     },
     "execution_count": 4,
     "metadata": {},
     "output_type": "execute_result"
    }
   ],
   "source": [
    "transactions.columns"
   ]
  },
  {
   "cell_type": "code",
   "execution_count": 5,
   "metadata": {},
   "outputs": [],
   "source": [
    "# Load radek's candidates\n",
    "candidates_last_purchase = pd.read_csv('candidates/radek_last_purchase.csv')\n",
    "candidates_bestsellers = pd.read_csv('candidates/radek_bestsellers.csv')\n",
    "bestsellers_previous_week = pd.read_csv('candidates/radek_bestsellers_previous_week.csv')"
   ]
  },
  {
   "cell_type": "markdown",
   "metadata": {},
   "source": [
    "# Load my candidates\n",
    "## Similar not bought (negative cases only)"
   ]
  },
  {
   "cell_type": "code",
   "execution_count": 6,
   "metadata": {},
   "outputs": [],
   "source": [
    "# Load my candidates\n",
    "candidates_similar_not_bought = pd.read_csv('candidates_200_ranks/sim_not_bought.csv')"
   ]
  },
  {
   "cell_type": "markdown",
   "metadata": {},
   "source": [
    "## Submission Loop -- check best k for kaggle"
   ]
  },
  {
   "cell_type": "code",
   "execution_count": 7,
   "metadata": {},
   "outputs": [],
   "source": [
    "columns_to_use = [\n",
    "    'article_id', \n",
    "    'product_type_no', \n",
    "    'graphical_appearance_no', \n",
    "    'colour_group_code', \n",
    "    'perceived_colour_value_id',\n",
    "    'perceived_colour_master_id', \n",
    "    'department_no', \n",
    "    'index_code',\n",
    "    'index_group_no', \n",
    "    'section_no', \n",
    "    'garment_group_no', \n",
    "    'FN', \n",
    "    'Active',\n",
    "    'club_member_status', \n",
    "    'fashion_news_frequency', \n",
    "    'age', \n",
    "    'postal_code', \n",
    "    'bestseller_rank'\n",
    "]\n",
    "\n",
    "model_params = {\n",
    "    'objective': 'lambdarank',\n",
    "    'metric': 'ndcg',\n",
    "    'boosting_type': 'dart',\n",
    "    'n_estimators': 1,\n",
    "    'importance_type': 'gain'\n",
    "}"
   ]
  },
  {
   "cell_type": "code",
   "execution_count": 8,
   "metadata": {},
   "outputs": [
    {
     "name": "stdout",
     "output_type": "stream",
     "text": [
      "k =  200\n",
      "Percentage of real transactions:  0.013467521769342657\n",
      "Mergining features...\n",
      "Done.\n",
      "Sorting data...\n",
      "Done.\n",
      "Preparing for training...\n",
      "Done.\n",
      "Training model...\n",
      "[LightGBM] [Info] Auto-choosing row-wise multi-threading, the overhead of testing was 2.137583 seconds.\n",
      "You can set `force_row_wise=true` to remove the overhead.\n",
      "And if memory is not enough, you can set `force_col_wise=true`.\n",
      "[LightGBM] [Info] Total Bins 1111\n",
      "[LightGBM] [Info] Number of data points in the train set: 162626513, number of used features: 18\n",
      "Feature importance:\n",
      "colour_group_code 0.22660346193184802\n",
      "product_type_no 0.14202720914045072\n",
      "section_no 0.14186738798970644\n",
      "article_id 0.12038481379958879\n",
      "index_code 0.0813696011667323\n",
      "bestseller_rank 0.0744456911619956\n",
      "perceived_colour_master_id 0.07294693109851845\n",
      "department_no 0.049874748996315034\n",
      "graphical_appearance_no 0.04420028283109395\n",
      "garment_group_no 0.030675638617336694\n",
      "Starting submission process...\n",
      "Calculating predictions...\n",
      "Done.\n",
      "Creating submission...\n",
      "Done.\n",
      "Saving submission...\n",
      "Done.\n"
     ]
    },
    {
     "name": "stderr",
     "output_type": "stream",
     "text": [
      "100%|██████████| 58.5M/58.5M [00:27<00:00, 2.22MB/s]\n"
     ]
    },
    {
     "name": "stdout",
     "output_type": "stream",
     "text": [
      "Successfully submitted to H&M Personalized Fashion RecommendationsSubmission saved and submitted to Kaggle.\n"
     ]
    }
   ],
   "source": [
    "# Get bestsellers from previous week\n",
    "bestsellers_last_week = \\\n",
    "bestsellers_previous_week[bestsellers_previous_week['week'] == bestsellers_previous_week['week'].max()]['article_id'].tolist()\n",
    "\n",
    "# for k in range(20, 201, 10):  crashed at 170\n",
    "# for k in range(170, 201, 10):\n",
    "# for k in range(190, 201, 10):\n",
    "for k in range(200, 201, 10):\n",
    "    print('k = ', k)\n",
    "\n",
    "    # Get top k similar not bought articles for each customer\n",
    "    top_k_snb_weekly = candidates_similar_not_bought\\\n",
    "        .groupby(['week', 'customer_id']).head(k)\\\n",
    "        .drop(columns=['strategy', 'similarity_score'])\n",
    "\n",
    "    top_k_snb_weekly['t_dat'] = '2020-07-15'\n",
    "    top_k_snb_weekly['price'] = 0\n",
    "    top_k_snb_weekly['sales_channel_id'] = 2\n",
    "\n",
    "    # Prepare data for model\n",
    "    train_X, train_y, test_X, test, train_baskets = prepare_data(\n",
    "        transactions,\n",
    "        bestsellers_previous_week,\n",
    "        candidates=[candidates_last_purchase, candidates_bestsellers, top_k_snb_weekly], \n",
    "        features=[customers, articles], \n",
    "        cols_to_use=columns_to_use\n",
    "        )\n",
    "    \n",
    "    # Train model\n",
    "    ranker = train_model(\n",
    "        train_X, \n",
    "        train_y, \n",
    "        train_baskets, \n",
    "        model_params, \n",
    "        columns_to_use, \n",
    "        show_importance=10\n",
    "    )\n",
    "\n",
    "    # Make submission\n",
    "    make_submission(customers, test, test_X, ranker, bestsellers_last_week, f'submission_snb_{k}')\n",
    "\n"
   ]
  },
  {
   "cell_type": "code",
   "execution_count": 11,
   "metadata": {},
   "outputs": [
    {
     "name": "stdout",
     "output_type": "stream",
     "text": [
      "fileName                                                                                                             date                 description                                                                                                   status    publicScore  privateScore  \n",
      "-------------------------------------------------------------------------------------------------------------------  -------------------  ------------------------------------------------------------------------------------------------------------  --------  -----------  ------------  \n",
      "submission_snb_200.csv.gz                                                                                            2023-12-12 23:02:39  submission_snb_200                                                                                            complete  0.01085      0.01105       \n",
      "submission_snb_190.csv.gz                                                                                            2023-12-12 22:41:31  submission_snb_190                                                                                            complete  0.01094      0.01112       \n",
      "submission_snb_180.csv.gz                                                                                            2023-12-12 22:15:20  submission_snb_180                                                                                            complete  0.01788      0.01753       \n",
      "submission_snb_170.csv.gz                                                                                            2023-12-12 22:03:30  submission_snb_170                                                                                            complete  0.01686      0.01687       \n",
      "submission_snb_160.csv.gz                                                                                            2023-12-12 18:15:37  submission_snb_160                                                                                            complete  0.02055      0.02008       \n",
      "submission_snb_150.csv.gz                                                                                            2023-12-12 18:05:34  submission_snb_150                                                                                            complete  0.02039      0.02009       \n",
      "submission_snb_140.csv.gz                                                                                            2023-12-12 17:56:25  submission_snb_140                                                                                            complete  0.02032      0.02014       \n",
      "submission_snb_130.csv.gz                                                                                            2023-12-12 17:47:50  submission_snb_130                                                                                            complete  0.02061      0.02014       \n",
      "submission_snb_120.csv.gz                                                                                            2023-12-12 17:39:46  submission_snb_120                                                                                            complete  0.02092      0.02053       \n",
      "submission_snb_110.csv.gz                                                                                            2023-12-12 17:32:11  submission_snb_110                                                                                            complete  0.02087      0.02049       \n",
      "submission_snb_100.csv.gz                                                                                            2023-12-12 17:24:34  submission_snb_100                                                                                            complete  0.02083      0.0205        \n",
      "submission_snb_90.csv.gz                                                                                             2023-12-12 17:20:39  submission_snb_90                                                                                             complete  0.02079      0.02049       \n",
      "submission_snb_80.csv.gz                                                                                             2023-12-12 17:16:58  submission_snb_80                                                                                             complete  0.02075      0.02049       \n",
      "submission_snb_70.csv.gz                                                                                             2023-12-12 17:13:25  submission_snb_70                                                                                             complete  0.02052      0.0205        \n",
      "submission_snb_60.csv.gz                                                                                             2023-12-12 17:10:18  submission_snb_60                                                                                             complete  0.02061      0.0204        \n",
      "submission_snb_50.csv.gz                                                                                             2023-12-12 17:07:23  submission_snb_50                                                                                             complete  0.02053      0.02045       \n",
      "submission_snb_40.csv.gz                                                                                             2023-12-12 17:04:35  submission_snb_40                                                                                             complete  0.02064      0.02044       \n",
      "submission_snb_30.csv.gz                                                                                             2023-12-12 17:02:07  submission_snb_30                                                                                             complete  0.0206       0.02038       \n",
      "submission_snb_20.csv.gz                                                                                             2023-12-12 16:59:58  submission_snb_20                                                                                             complete  0.02071      0.02046       \n"
     ]
    }
   ],
   "source": [
    "!kaggle competitions submissions -c h-and-m-personalized-fashion-recommendations | head -n 21"
   ]
  }
 ],
 "metadata": {
  "kernelspec": {
   "display_name": "AIPRO",
   "language": "python",
   "name": "python3"
  },
  "language_info": {
   "codemirror_mode": {
    "name": "ipython",
    "version": 3
   },
   "file_extension": ".py",
   "mimetype": "text/x-python",
   "name": "python",
   "nbconvert_exporter": "python",
   "pygments_lexer": "ipython3",
   "version": "3.11.5"
  }
 },
 "nbformat": 4,
 "nbformat_minor": 2
}
