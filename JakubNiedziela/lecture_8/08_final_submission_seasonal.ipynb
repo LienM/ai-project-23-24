{
 "cells": [
  {
   "cell_type": "code",
   "execution_count": 1,
   "metadata": {},
   "outputs": [],
   "source": [
    "import pandas as pd\n",
    "import warnings\n",
    "warnings.simplefilter(action='ignore', category=FutureWarning)\n",
    "\n",
    "import os\n",
    "os.chdir('../')\n",
    "from model import *\n",
    "os.chdir('../../data/')"
   ]
  },
  {
   "cell_type": "code",
   "execution_count": 2,
   "metadata": {},
   "outputs": [
    {
     "name": "stdout",
     "output_type": "stream",
     "text": [
      "First week num:  0 \n",
      "Last week num:  104 \n",
      "\n"
     ]
    }
   ],
   "source": [
    "transactions = pd.read_pickle('compressed_data/transactions_train.pkl')\n",
    "customers = pd.read_pickle('compressed_data/customers.pkl')\n",
    "articles = pd.read_pickle('compressed_data/articles.pkl')\n",
    "\n",
    "transactions['week'] = 104 - (transactions.t_dat.max() - transactions.t_dat).dt.days // 7\n",
    "\n",
    "print('First week num: ', transactions.week.min(), '\\nLast week num: ', transactions.week.max(), '\\n')"
   ]
  },
  {
   "cell_type": "code",
   "execution_count": 3,
   "metadata": {},
   "outputs": [],
   "source": [
    "# Test week is week after last week in train data\n",
    "test_week = transactions.week.max() + 1\n",
    "\n",
    "# Filter transactions to last 10 weeks (most recent data)\n",
    "transactions = transactions[transactions.week > transactions.week.max() - 10]"
   ]
  },
  {
   "cell_type": "code",
   "execution_count": 4,
   "metadata": {},
   "outputs": [
    {
     "data": {
      "text/plain": [
       "Index(['t_dat', 'customer_id', 'article_id', 'price', 'sales_channel_id',\n",
       "       'week'],\n",
       "      dtype='object')"
      ]
     },
     "execution_count": 4,
     "metadata": {},
     "output_type": "execute_result"
    }
   ],
   "source": [
    "transactions.columns"
   ]
  },
  {
   "cell_type": "code",
   "execution_count": 5,
   "metadata": {},
   "outputs": [],
   "source": [
    "# Load radek's candidates\n",
    "candidates_last_purchase = pd.read_csv('candidates/radek_last_purchase.csv')\n",
    "candidates_bestsellers = pd.read_csv('candidates/radek_bestsellers.csv')\n",
    "bestsellers_previous_week = pd.read_csv('candidates/radek_bestsellers_previous_week.csv')"
   ]
  },
  {
   "cell_type": "markdown",
   "metadata": {},
   "source": [
    "# Load my candidates"
   ]
  },
  {
   "cell_type": "code",
   "execution_count": 6,
   "metadata": {},
   "outputs": [],
   "source": [
    "seasonal_candidates_loaded = pd.read_csv('candidates_200_ranks/seasonal_candidates_2019.csv')"
   ]
  },
  {
   "cell_type": "markdown",
   "metadata": {},
   "source": [
    "## Submission Loop -- check best k for kaggle"
   ]
  },
  {
   "cell_type": "code",
   "execution_count": 7,
   "metadata": {},
   "outputs": [],
   "source": [
    "columns_to_use = [\n",
    "    'article_id', \n",
    "    'product_type_no', \n",
    "    'graphical_appearance_no', \n",
    "    'colour_group_code', \n",
    "    'perceived_colour_value_id',\n",
    "    'perceived_colour_master_id', \n",
    "    'department_no', \n",
    "    'index_code',\n",
    "    'index_group_no', \n",
    "    'section_no', \n",
    "    'garment_group_no', \n",
    "    'FN', \n",
    "    'Active',\n",
    "    'club_member_status', \n",
    "    'fashion_news_frequency', \n",
    "    'age', \n",
    "    'postal_code', \n",
    "    'bestseller_rank'\n",
    "]\n",
    "\n",
    "model_params = {\n",
    "    'objective': 'lambdarank',\n",
    "    'metric': 'ndcg',\n",
    "    'boosting_type': 'dart',\n",
    "    'n_estimators': 1,\n",
    "    'importance_type': 'gain'\n",
    "}"
   ]
  },
  {
   "cell_type": "code",
   "execution_count": 8,
   "metadata": {},
   "outputs": [
    {
     "name": "stdout",
     "output_type": "stream",
     "text": [
      "k =  20\n",
      "Percentage of real transactions:  0.0779173253115634\n",
      "Mergining features...\n",
      "Done.\n",
      "Sorting data...\n",
      "Done.\n",
      "Preparing for training...\n",
      "Done.\n",
      "Training model...\n",
      "[LightGBM] [Info] Auto-choosing row-wise multi-threading, the overhead of testing was 0.289176 seconds.\n",
      "You can set `force_row_wise=true` to remove the overhead.\n",
      "And if memory is not enough, you can set `force_col_wise=true`.\n",
      "[LightGBM] [Info] Total Bins 1104\n",
      "[LightGBM] [Info] Number of data points in the train set: 23463051, number of used features: 18\n",
      "Feature importance:\n",
      "bestseller_rank 0.4100716459066416\n",
      "article_id 0.30253876536813384\n",
      "perceived_colour_value_id 0.061037614365297685\n",
      "index_code 0.05987238543987213\n",
      "colour_group_code 0.047949815441443465\n",
      "product_type_no 0.04336769386964039\n",
      "graphical_appearance_no 0.028464341074866513\n",
      "index_group_no 0.018193087851052798\n",
      "section_no 0.01288933290528505\n",
      "department_no 0.011907930392236709\n",
      "Starting submission process...\n",
      "Calculating predictions...\n",
      "Done.\n",
      "Creating submission...\n",
      "Done.\n",
      "Saving submission...\n",
      "Done.\n"
     ]
    },
    {
     "name": "stderr",
     "output_type": "stream",
     "text": [
      "100%|██████████| 58.0M/58.0M [00:26<00:00, 2.27MB/s]\n"
     ]
    },
    {
     "name": "stdout",
     "output_type": "stream",
     "text": [
      "Successfully submitted to H&M Personalized Fashion RecommendationsSubmission saved and submitted to Kaggle.\n",
      "k =  30\n",
      "Percentage of real transactions:  0.0632228639718578\n",
      "Mergining features...\n",
      "Done.\n",
      "Sorting data...\n",
      "Done.\n",
      "Preparing for training...\n",
      "Done.\n",
      "Training model...\n",
      "[LightGBM] [Info] Auto-choosing row-wise multi-threading, the overhead of testing was 0.706566 seconds.\n",
      "You can set `force_row_wise=true` to remove the overhead.\n",
      "And if memory is not enough, you can set `force_col_wise=true`.\n",
      "[LightGBM] [Info] Total Bins 1093\n",
      "[LightGBM] [Info] Number of data points in the train set: 30100035, number of used features: 18\n",
      "Feature importance:\n",
      "article_id 0.33450062257272467\n",
      "bestseller_rank 0.33304677346647465\n",
      "index_code 0.07817529146444506\n",
      "perceived_colour_value_id 0.07391767697007509\n",
      "garment_group_no 0.05596199092297255\n",
      "department_no 0.04431911734422342\n",
      "colour_group_code 0.03364512598353286\n",
      "product_type_no 0.030855932298192487\n",
      "perceived_colour_master_id 0.010678867771919858\n",
      "section_no 0.0024956496551111484\n",
      "Starting submission process...\n",
      "Calculating predictions...\n",
      "Done.\n",
      "Creating submission...\n",
      "Done.\n",
      "Saving submission...\n",
      "Done.\n"
     ]
    },
    {
     "name": "stderr",
     "output_type": "stream",
     "text": [
      "100%|██████████| 58.0M/58.0M [00:26<00:00, 2.28MB/s]\n"
     ]
    },
    {
     "name": "stdout",
     "output_type": "stream",
     "text": [
      "Successfully submitted to H&M Personalized Fashion RecommendationsSubmission saved and submitted to Kaggle.\n",
      "k =  40\n",
      "Percentage of real transactions:  0.05311954981441688\n",
      "Mergining features...\n",
      "Done.\n",
      "Sorting data...\n",
      "Done.\n",
      "Preparing for training...\n",
      "Done.\n",
      "Training model...\n",
      "[LightGBM] [Info] Auto-choosing row-wise multi-threading, the overhead of testing was 0.916320 seconds.\n",
      "You can set `force_row_wise=true` to remove the overhead.\n",
      "And if memory is not enough, you can set `force_col_wise=true`.\n",
      "[LightGBM] [Info] Total Bins 1086\n",
      "[LightGBM] [Info] Number of data points in the train set: 36800401, number of used features: 18\n",
      "Feature importance:\n",
      "article_id 0.4554993780344747\n",
      "bestseller_rank 0.2678667310428709\n",
      "product_type_no 0.09473483281125142\n",
      "index_code 0.07042183105463544\n",
      "perceived_colour_value_id 0.05472643298540227\n",
      "garment_group_no 0.026216124031750852\n",
      "perceived_colour_master_id 0.017002602811175688\n",
      "department_no 0.008002071431279475\n",
      "graphical_appearance_no 0.005529995797159292\n",
      "age 0.0\n",
      "Starting submission process...\n",
      "Calculating predictions...\n",
      "Done.\n",
      "Creating submission...\n",
      "Done.\n",
      "Saving submission...\n",
      "Done.\n"
     ]
    },
    {
     "name": "stderr",
     "output_type": "stream",
     "text": [
      "100%|██████████| 58.1M/58.1M [00:27<00:00, 2.25MB/s]\n"
     ]
    },
    {
     "name": "stdout",
     "output_type": "stream",
     "text": [
      "Successfully submitted to H&M Personalized Fashion RecommendationsSubmission saved and submitted to Kaggle.\n",
      "k =  50\n",
      "Percentage of real transactions:  0.045935805929285874\n",
      "Mergining features...\n",
      "Done.\n",
      "Sorting data...\n",
      "Done.\n",
      "Preparing for training...\n",
      "Done.\n",
      "Training model...\n",
      "[LightGBM] [Info] Auto-choosing row-wise multi-threading, the overhead of testing was 0.977362 seconds.\n",
      "You can set `force_row_wise=true` to remove the overhead.\n",
      "And if memory is not enough, you can set `force_col_wise=true`.\n",
      "[LightGBM] [Info] Total Bins 1067\n",
      "[LightGBM] [Info] Number of data points in the train set: 43340980, number of used features: 18\n",
      "Feature importance:\n",
      "article_id 0.49081848109077997\n",
      "bestseller_rank 0.20075000715151578\n",
      "product_type_no 0.09790077997743672\n",
      "index_code 0.07629770158076196\n",
      "perceived_colour_value_id 0.046014654194665154\n",
      "garment_group_no 0.03029338502401349\n",
      "department_no 0.02567252102893108\n",
      "perceived_colour_master_id 0.01190203311640901\n",
      "section_no 0.008186434107263602\n",
      "index_group_no 0.007471220264217832\n",
      "Starting submission process...\n",
      "Calculating predictions...\n",
      "Done.\n",
      "Creating submission...\n",
      "Done.\n",
      "Saving submission...\n",
      "Done.\n"
     ]
    },
    {
     "name": "stderr",
     "output_type": "stream",
     "text": [
      "100%|██████████| 57.9M/57.9M [00:26<00:00, 2.28MB/s]\n"
     ]
    },
    {
     "name": "stdout",
     "output_type": "stream",
     "text": [
      "Successfully submitted to H&M Personalized Fashion RecommendationsSubmission saved and submitted to Kaggle.\n",
      "k =  60\n",
      "Percentage of real transactions:  0.04031049493792828\n",
      "Mergining features...\n",
      "Done.\n",
      "Sorting data...\n",
      "Done.\n",
      "Preparing for training...\n",
      "Done.\n",
      "Training model...\n",
      "[LightGBM] [Info] Auto-choosing row-wise multi-threading, the overhead of testing was 0.996066 seconds.\n",
      "You can set `force_row_wise=true` to remove the overhead.\n",
      "And if memory is not enough, you can set `force_col_wise=true`.\n",
      "[LightGBM] [Info] Total Bins 1050\n",
      "[LightGBM] [Info] Number of data points in the train set: 50114706, number of used features: 18\n",
      "Feature importance:\n",
      "article_id 0.5196724231545928\n",
      "bestseller_rank 0.17168026681818846\n",
      "department_no 0.08849020253071398\n",
      "colour_group_code 0.05865594999974562\n",
      "section_no 0.03874533646152448\n",
      "perceived_colour_value_id 0.03754442998137051\n",
      "garment_group_no 0.03695883002453205\n",
      "product_type_no 0.03091823269366097\n",
      "graphical_appearance_no 0.011391284868698814\n",
      "perceived_colour_master_id 0.005943043466972299\n",
      "Starting submission process...\n",
      "Calculating predictions...\n",
      "Done.\n",
      "Creating submission...\n",
      "Done.\n",
      "Saving submission...\n",
      "Done.\n"
     ]
    },
    {
     "name": "stderr",
     "output_type": "stream",
     "text": [
      "100%|██████████| 58.1M/58.1M [00:32<00:00, 1.85MB/s]  \n"
     ]
    },
    {
     "name": "stdout",
     "output_type": "stream",
     "text": [
      "Successfully submitted to H&M Personalized Fashion RecommendationsSubmission saved and submitted to Kaggle.\n",
      "k =  70\n",
      "Percentage of real transactions:  0.03590889553344247\n",
      "Mergining features...\n",
      "Done.\n",
      "Sorting data...\n",
      "Done.\n",
      "Preparing for training...\n",
      "Done.\n",
      "Training model...\n",
      "[LightGBM] [Info] Auto-choosing row-wise multi-threading, the overhead of testing was 1.379875 seconds.\n",
      "You can set `force_row_wise=true` to remove the overhead.\n",
      "And if memory is not enough, you can set `force_col_wise=true`.\n",
      "[LightGBM] [Info] Total Bins 1056\n",
      "[LightGBM] [Info] Number of data points in the train set: 56895125, number of used features: 18\n",
      "Feature importance:\n",
      "article_id 0.4904833456272732\n",
      "bestseller_rank 0.153573101701302\n",
      "department_no 0.1418238588285225\n",
      "colour_group_code 0.05548084172897119\n",
      "perceived_colour_value_id 0.04293481699282973\n",
      "section_no 0.03587475400722741\n",
      "garment_group_no 0.03367757886290779\n",
      "graphical_appearance_no 0.018930167369868377\n",
      "product_type_no 0.014150444499479616\n",
      "index_code 0.008601911747713405\n",
      "Starting submission process...\n",
      "Calculating predictions...\n",
      "Done.\n",
      "Creating submission...\n",
      "Done.\n",
      "Saving submission...\n",
      "Done.\n"
     ]
    },
    {
     "name": "stderr",
     "output_type": "stream",
     "text": [
      "100%|██████████| 57.6M/57.6M [00:28<00:00, 2.10MB/s]  \n"
     ]
    },
    {
     "name": "stdout",
     "output_type": "stream",
     "text": [
      "Successfully submitted to H&M Personalized Fashion RecommendationsSubmission saved and submitted to Kaggle.\n",
      "k =  80\n",
      "Percentage of real transactions:  0.03237427447054137\n",
      "Mergining features...\n",
      "Done.\n",
      "Sorting data...\n",
      "Done.\n",
      "Preparing for training...\n",
      "Done.\n",
      "Training model...\n",
      "[LightGBM] [Info] Auto-choosing row-wise multi-threading, the overhead of testing was 1.544289 seconds.\n",
      "You can set `force_row_wise=true` to remove the overhead.\n",
      "And if memory is not enough, you can set `force_col_wise=true`.\n",
      "[LightGBM] [Info] Total Bins 1045\n",
      "[LightGBM] [Info] Number of data points in the train set: 63674824, number of used features: 18\n",
      "Feature importance:\n",
      "article_id 0.5156156659470487\n",
      "bestseller_rank 0.13978808430703338\n",
      "index_code 0.0725204293414736\n",
      "product_type_no 0.06918198112345371\n",
      "perceived_colour_value_id 0.05321209756452257\n",
      "graphical_appearance_no 0.04236376690853275\n",
      "section_no 0.0404622190023637\n",
      "colour_group_code 0.03950979766082568\n",
      "department_no 0.022380947553748306\n",
      "perceived_colour_master_id 0.004965010590997653\n",
      "Starting submission process...\n",
      "Calculating predictions...\n",
      "Done.\n",
      "Creating submission...\n",
      "Done.\n",
      "Saving submission...\n",
      "Done.\n"
     ]
    },
    {
     "name": "stderr",
     "output_type": "stream",
     "text": [
      "100%|██████████| 57.5M/57.5M [00:27<00:00, 2.22MB/s]\n"
     ]
    },
    {
     "name": "stdout",
     "output_type": "stream",
     "text": [
      "Successfully submitted to H&M Personalized Fashion RecommendationsSubmission saved and submitted to Kaggle.\n",
      "k =  90\n",
      "Percentage of real transactions:  0.029471938799785467\n",
      "Mergining features...\n",
      "Done.\n",
      "Sorting data...\n",
      "Done.\n",
      "Preparing for training...\n",
      "Done.\n",
      "Training model...\n",
      "[LightGBM] [Info] Auto-choosing row-wise multi-threading, the overhead of testing was 1.659901 seconds.\n",
      "You can set `force_row_wise=true` to remove the overhead.\n",
      "And if memory is not enough, you can set `force_col_wise=true`.\n",
      "[LightGBM] [Info] Total Bins 1053\n",
      "[LightGBM] [Info] Number of data points in the train set: 70457834, number of used features: 18\n",
      "Feature importance:\n",
      "article_id 0.5422847378039153\n",
      "bestseller_rank 0.12350781447631451\n",
      "garment_group_no 0.1112270254751974\n",
      "index_code 0.08689291060890371\n",
      "perceived_colour_value_id 0.04097098787607793\n",
      "product_type_no 0.02707856231522566\n",
      "colour_group_code 0.026976553931377448\n",
      "section_no 0.0174783967917162\n",
      "department_no 0.010845469588514524\n",
      "graphical_appearance_no 0.007122705088415227\n",
      "Starting submission process...\n",
      "Calculating predictions...\n",
      "Done.\n",
      "Creating submission...\n",
      "Done.\n",
      "Saving submission...\n",
      "Done.\n"
     ]
    },
    {
     "name": "stderr",
     "output_type": "stream",
     "text": [
      "100%|██████████| 57.3M/57.3M [00:27<00:00, 2.20MB/s]\n"
     ]
    },
    {
     "name": "stdout",
     "output_type": "stream",
     "text": [
      "Successfully submitted to H&M Personalized Fashion RecommendationsSubmission saved and submitted to Kaggle.\n",
      "k =  100\n",
      "Percentage of real transactions:  0.02704913687573667\n",
      "Mergining features...\n",
      "Done.\n",
      "Sorting data...\n",
      "Done.\n",
      "Preparing for training...\n",
      "Done.\n",
      "Training model...\n",
      "[LightGBM] [Info] Auto-choosing row-wise multi-threading, the overhead of testing was 1.806621 seconds.\n",
      "You can set `force_row_wise=true` to remove the overhead.\n",
      "And if memory is not enough, you can set `force_col_wise=true`.\n",
      "[LightGBM] [Info] Total Bins 1025\n",
      "[LightGBM] [Info] Number of data points in the train set: 77234471, number of used features: 18\n",
      "Feature importance:\n",
      "article_id 0.5666650746197678\n",
      "bestseller_rank 0.11222181674143569\n",
      "garment_group_no 0.09769121250537413\n",
      "index_code 0.0907446750168934\n",
      "perceived_colour_value_id 0.03931252594415695\n",
      "product_type_no 0.036619045175212826\n",
      "section_no 0.020968667686394174\n",
      "perceived_colour_master_id 0.01325314440100334\n",
      "colour_group_code 0.012352904429937576\n",
      "department_no 0.010170933479824111\n",
      "Starting submission process...\n",
      "Calculating predictions...\n",
      "Done.\n",
      "Creating submission...\n",
      "Done.\n",
      "Saving submission...\n",
      "Done.\n"
     ]
    },
    {
     "name": "stderr",
     "output_type": "stream",
     "text": [
      "100%|██████████| 57.3M/57.3M [00:28<00:00, 2.08MB/s]  \n"
     ]
    },
    {
     "name": "stdout",
     "output_type": "stream",
     "text": [
      "Successfully submitted to H&M Personalized Fashion RecommendationsSubmission saved and submitted to Kaggle.\n",
      "k =  110\n",
      "Percentage of real transactions:  0.02499390470858369\n",
      "Mergining features...\n",
      "Done.\n",
      "Sorting data...\n",
      "Done.\n",
      "Preparing for training...\n",
      "Done.\n",
      "Training model...\n",
      "[LightGBM] [Info] Auto-choosing row-wise multi-threading, the overhead of testing was 1.948418 seconds.\n",
      "You can set `force_row_wise=true` to remove the overhead.\n",
      "And if memory is not enough, you can set `force_col_wise=true`.\n",
      "[LightGBM] [Info] Total Bins 1020\n",
      "[LightGBM] [Info] Number of data points in the train set: 84012982, number of used features: 18\n",
      "Feature importance:\n",
      "article_id 0.5709225779564584\n",
      "bestseller_rank 0.09800102459307651\n",
      "index_code 0.09343892528678353\n",
      "garment_group_no 0.07944132790260484\n",
      "department_no 0.04438410877536162\n",
      "product_type_no 0.04352677489461481\n",
      "perceived_colour_value_id 0.030421651310221166\n",
      "perceived_colour_master_id 0.01472166043522691\n",
      "graphical_appearance_no 0.010653162405416085\n",
      "section_no 0.00862585291253088\n",
      "Starting submission process...\n",
      "Calculating predictions...\n",
      "Done.\n",
      "Creating submission...\n",
      "Done.\n",
      "Saving submission...\n",
      "Done.\n"
     ]
    },
    {
     "name": "stderr",
     "output_type": "stream",
     "text": [
      "100%|██████████| 57.3M/57.3M [00:26<00:00, 2.26MB/s]\n"
     ]
    },
    {
     "name": "stdout",
     "output_type": "stream",
     "text": [
      "Successfully submitted to H&M Personalized Fashion RecommendationsSubmission saved and submitted to Kaggle.\n",
      "k =  120\n",
      "Percentage of real transactions:  0.023228474117578165\n",
      "Mergining features...\n",
      "Done.\n",
      "Sorting data...\n",
      "Done.\n",
      "Preparing for training...\n",
      "Done.\n",
      "Training model...\n",
      "[LightGBM] [Info] Auto-choosing row-wise multi-threading, the overhead of testing was 2.013739 seconds.\n",
      "You can set `force_row_wise=true` to remove the overhead.\n",
      "And if memory is not enough, you can set `force_col_wise=true`.\n",
      "[LightGBM] [Info] Total Bins 1042\n",
      "[LightGBM] [Info] Number of data points in the train set: 90793552, number of used features: 18\n",
      "Feature importance:\n",
      "article_id 0.5704168825975098\n",
      "index_code 0.10143017178818194\n",
      "bestseller_rank 0.08571112857912397\n",
      "garment_group_no 0.07491450902413388\n",
      "department_no 0.046402168701910745\n",
      "product_type_no 0.038398551563301686\n",
      "perceived_colour_value_id 0.03389376447044235\n",
      "section_no 0.01773338684807383\n",
      "perceived_colour_master_id 0.015422310035306168\n",
      "graphical_appearance_no 0.01031141056604931\n",
      "Starting submission process...\n",
      "Calculating predictions...\n",
      "Done.\n",
      "Creating submission...\n",
      "Done.\n",
      "Saving submission...\n",
      "Done.\n"
     ]
    },
    {
     "name": "stderr",
     "output_type": "stream",
     "text": [
      "100%|██████████| 57.3M/57.3M [00:26<00:00, 2.30MB/s]\n"
     ]
    },
    {
     "name": "stdout",
     "output_type": "stream",
     "text": [
      "Successfully submitted to H&M Personalized Fashion RecommendationsSubmission saved and submitted to Kaggle.\n",
      "k =  130\n",
      "Percentage of real transactions:  0.021695751511063524\n",
      "Mergining features...\n",
      "Done.\n",
      "Sorting data...\n",
      "Done.\n",
      "Preparing for training...\n",
      "Done.\n",
      "Training model...\n",
      "[LightGBM] [Info] Auto-choosing row-wise multi-threading, the overhead of testing was 2.333584 seconds.\n",
      "You can set `force_row_wise=true` to remove the overhead.\n",
      "And if memory is not enough, you can set `force_col_wise=true`.\n",
      "[LightGBM] [Info] Total Bins 1038\n",
      "[LightGBM] [Info] Number of data points in the train set: 97575458, number of used features: 18\n",
      "Feature importance:\n",
      "article_id 0.5890660329170161\n",
      "index_code 0.11506137777636498\n",
      "bestseller_rank 0.07813543353492532\n",
      "perceived_colour_value_id 0.061635377666375286\n",
      "department_no 0.061173213390317636\n",
      "product_type_no 0.05515976273189736\n",
      "perceived_colour_master_id 0.014833482843027209\n",
      "section_no 0.012623713310127875\n",
      "garment_group_no 0.012311605829948207\n",
      "fashion_news_frequency 0.0\n",
      "Starting submission process...\n",
      "Calculating predictions...\n",
      "Done.\n",
      "Creating submission...\n",
      "Done.\n",
      "Saving submission...\n",
      "Done.\n"
     ]
    },
    {
     "name": "stderr",
     "output_type": "stream",
     "text": [
      "100%|██████████| 57.3M/57.3M [00:27<00:00, 2.22MB/s]\n"
     ]
    },
    {
     "name": "stdout",
     "output_type": "stream",
     "text": [
      "Successfully submitted to H&M Personalized Fashion RecommendationsSubmission saved and submitted to Kaggle.\n",
      "k =  140\n",
      "Percentage of real transactions:  0.02036692899964314\n",
      "Mergining features...\n",
      "Done.\n",
      "Sorting data...\n",
      "Done.\n",
      "Preparing for training...\n",
      "Done.\n",
      "Training model...\n",
      "[LightGBM] [Info] Auto-choosing row-wise multi-threading, the overhead of testing was 2.130673 seconds.\n",
      "You can set `force_row_wise=true` to remove the overhead.\n",
      "And if memory is not enough, you can set `force_col_wise=true`.\n",
      "[LightGBM] [Info] Total Bins 1036\n",
      "[LightGBM] [Info] Number of data points in the train set: 104272716, number of used features: 18\n",
      "Feature importance:\n",
      "article_id 0.5917702397185971\n",
      "index_code 0.11849464302799728\n",
      "department_no 0.07228433105262737\n",
      "bestseller_rank 0.07085247087017223\n",
      "perceived_colour_value_id 0.06855540966828941\n",
      "graphical_appearance_no 0.028945177198791396\n",
      "product_type_no 0.028914147188285916\n",
      "perceived_colour_master_id 0.00881001946557143\n",
      "colour_group_code 0.006702653905168591\n",
      "section_no 0.004670907904499289\n",
      "Starting submission process...\n",
      "Calculating predictions...\n",
      "Done.\n",
      "Creating submission...\n",
      "Done.\n",
      "Saving submission...\n",
      "Done.\n"
     ]
    },
    {
     "name": "stderr",
     "output_type": "stream",
     "text": [
      "100%|██████████| 57.3M/57.3M [00:27<00:00, 2.22MB/s]\n"
     ]
    },
    {
     "name": "stdout",
     "output_type": "stream",
     "text": [
      "Successfully submitted to H&M Personalized Fashion RecommendationsSubmission saved and submitted to Kaggle.\n",
      "k =  150\n",
      "Percentage of real transactions:  0.01917906174790248\n",
      "Mergining features...\n",
      "Done.\n",
      "Sorting data...\n",
      "Done.\n",
      "Preparing for training...\n",
      "Done.\n",
      "Training model...\n",
      "[LightGBM] [Info] Auto-choosing row-wise multi-threading, the overhead of testing was 1.578673 seconds.\n",
      "You can set `force_row_wise=true` to remove the overhead.\n",
      "And if memory is not enough, you can set `force_col_wise=true`.\n",
      "[LightGBM] [Info] Total Bins 1027\n",
      "[LightGBM] [Info] Number of data points in the train set: 111053746, number of used features: 18\n",
      "Feature importance:\n",
      "article_id 0.6041031082410578\n",
      "index_code 0.11946566531182362\n",
      "perceived_colour_value_id 0.07448569715835948\n",
      "bestseller_rank 0.06685636171631656\n",
      "department_no 0.06561715880694913\n",
      "product_type_no 0.04058879057297428\n",
      "graphical_appearance_no 0.010705646032032685\n",
      "perceived_colour_master_id 0.009207162946344665\n",
      "garment_group_no 0.008970409214141724\n",
      "club_member_status 0.0\n",
      "Starting submission process...\n",
      "Calculating predictions...\n",
      "Done.\n",
      "Creating submission...\n",
      "Done.\n",
      "Saving submission...\n",
      "Done.\n"
     ]
    },
    {
     "name": "stderr",
     "output_type": "stream",
     "text": [
      "100%|██████████| 57.3M/57.3M [00:26<00:00, 2.25MB/s]\n"
     ]
    },
    {
     "name": "stdout",
     "output_type": "stream",
     "text": [
      "Successfully submitted to H&M Personalized Fashion RecommendationsSubmission saved and submitted to Kaggle.\n",
      "k =  160\n",
      "Percentage of real transactions:  0.01835598524582854\n",
      "Mergining features...\n",
      "Done.\n",
      "Sorting data...\n",
      "Done.\n",
      "Preparing for training...\n",
      "Done.\n",
      "Training model...\n",
      "[LightGBM] [Info] Auto-choosing row-wise multi-threading, the overhead of testing was 1.897990 seconds.\n",
      "You can set `force_row_wise=true` to remove the overhead.\n",
      "And if memory is not enough, you can set `force_col_wise=true`.\n",
      "[LightGBM] [Info] Total Bins 1027\n",
      "[LightGBM] [Info] Number of data points in the train set: 116243133, number of used features: 18\n",
      "Feature importance:\n",
      "article_id 0.6463723847757629\n",
      "index_code 0.10172629611093659\n",
      "product_type_no 0.07441617363989601\n",
      "bestseller_rank 0.062096453918375746\n",
      "perceived_colour_value_id 0.05132550341406754\n",
      "department_no 0.019250585838487197\n",
      "garment_group_no 0.01273509236338469\n",
      "colour_group_code 0.012601143654221793\n",
      "graphical_appearance_no 0.00986652062359689\n",
      "section_no 0.009609845661270695\n",
      "Starting submission process...\n",
      "Calculating predictions...\n",
      "Done.\n",
      "Creating submission...\n",
      "Done.\n",
      "Saving submission...\n",
      "Done.\n"
     ]
    },
    {
     "name": "stderr",
     "output_type": "stream",
     "text": [
      "100%|██████████| 57.3M/57.3M [00:28<00:00, 2.09MB/s]  \n"
     ]
    },
    {
     "name": "stdout",
     "output_type": "stream",
     "text": [
      "Successfully submitted to H&M Personalized Fashion RecommendationsSubmission saved and submitted to Kaggle.\n",
      "k =  170\n",
      "Percentage of real transactions:  0.01835598524582854\n",
      "Mergining features...\n",
      "Done.\n",
      "Sorting data...\n",
      "Done.\n",
      "Preparing for training...\n",
      "Done.\n",
      "Training model...\n",
      "[LightGBM] [Info] Auto-choosing row-wise multi-threading, the overhead of testing was 1.935050 seconds.\n",
      "You can set `force_row_wise=true` to remove the overhead.\n",
      "And if memory is not enough, you can set `force_col_wise=true`.\n",
      "[LightGBM] [Info] Total Bins 1027\n",
      "[LightGBM] [Info] Number of data points in the train set: 116243133, number of used features: 18\n",
      "Feature importance:\n",
      "article_id 0.6463723847757629\n",
      "index_code 0.10172629611093659\n",
      "product_type_no 0.07441617363989601\n",
      "bestseller_rank 0.062096453918375746\n",
      "perceived_colour_value_id 0.05132550341406754\n",
      "department_no 0.019250585838487197\n",
      "garment_group_no 0.01273509236338469\n",
      "colour_group_code 0.012601143654221793\n",
      "graphical_appearance_no 0.00986652062359689\n",
      "section_no 0.009609845661270695\n",
      "Starting submission process...\n",
      "Calculating predictions...\n",
      "Done.\n",
      "Creating submission...\n",
      "Done.\n",
      "Saving submission...\n",
      "Done.\n"
     ]
    },
    {
     "name": "stderr",
     "output_type": "stream",
     "text": [
      "100%|██████████| 57.3M/57.3M [00:26<00:00, 2.27MB/s]\n"
     ]
    },
    {
     "name": "stdout",
     "output_type": "stream",
     "text": [
      "Successfully submitted to H&M Personalized Fashion RecommendationsSubmission saved and submitted to Kaggle.\n",
      "k =  180\n",
      "Percentage of real transactions:  0.01835598524582854\n",
      "Mergining features...\n",
      "Done.\n",
      "Sorting data...\n",
      "Done.\n",
      "Preparing for training...\n",
      "Done.\n",
      "Training model...\n",
      "[LightGBM] [Info] Auto-choosing row-wise multi-threading, the overhead of testing was 2.562546 seconds.\n",
      "You can set `force_row_wise=true` to remove the overhead.\n",
      "And if memory is not enough, you can set `force_col_wise=true`.\n",
      "[LightGBM] [Info] Total Bins 1027\n",
      "[LightGBM] [Info] Number of data points in the train set: 116243133, number of used features: 18\n",
      "Feature importance:\n",
      "article_id 0.6463723847757629\n",
      "index_code 0.10172629611093659\n",
      "product_type_no 0.07441617363989601\n",
      "bestseller_rank 0.062096453918375746\n",
      "perceived_colour_value_id 0.05132550341406754\n",
      "department_no 0.019250585838487197\n",
      "garment_group_no 0.01273509236338469\n",
      "colour_group_code 0.012601143654221793\n",
      "graphical_appearance_no 0.00986652062359689\n",
      "section_no 0.009609845661270695\n",
      "Starting submission process...\n",
      "Calculating predictions...\n",
      "Done.\n",
      "Creating submission...\n",
      "Done.\n",
      "Saving submission...\n",
      "Done.\n"
     ]
    },
    {
     "name": "stderr",
     "output_type": "stream",
     "text": [
      "100%|██████████| 57.3M/57.3M [00:29<00:00, 2.04MB/s]  \n"
     ]
    },
    {
     "name": "stdout",
     "output_type": "stream",
     "text": [
      "Successfully submitted to H&M Personalized Fashion RecommendationsSubmission saved and submitted to Kaggle.\n",
      "k =  190\n",
      "Percentage of real transactions:  0.01835598524582854\n",
      "Mergining features...\n",
      "Done.\n",
      "Sorting data...\n",
      "Done.\n",
      "Preparing for training...\n",
      "Done.\n",
      "Training model...\n",
      "[LightGBM] [Info] Auto-choosing row-wise multi-threading, the overhead of testing was 2.426483 seconds.\n",
      "You can set `force_row_wise=true` to remove the overhead.\n",
      "And if memory is not enough, you can set `force_col_wise=true`.\n",
      "[LightGBM] [Info] Total Bins 1027\n",
      "[LightGBM] [Info] Number of data points in the train set: 116243133, number of used features: 18\n",
      "Feature importance:\n",
      "article_id 0.6463723847757629\n",
      "index_code 0.10172629611093659\n",
      "product_type_no 0.07441617363989601\n",
      "bestseller_rank 0.062096453918375746\n",
      "perceived_colour_value_id 0.05132550341406754\n",
      "department_no 0.019250585838487197\n",
      "garment_group_no 0.01273509236338469\n",
      "colour_group_code 0.012601143654221793\n",
      "graphical_appearance_no 0.00986652062359689\n",
      "section_no 0.009609845661270695\n",
      "Starting submission process...\n",
      "Calculating predictions...\n",
      "Done.\n",
      "Creating submission...\n",
      "Done.\n",
      "Saving submission...\n",
      "Done.\n"
     ]
    },
    {
     "name": "stderr",
     "output_type": "stream",
     "text": [
      "100%|██████████| 57.3M/57.3M [00:26<00:00, 2.25MB/s]\n"
     ]
    },
    {
     "name": "stdout",
     "output_type": "stream",
     "text": [
      "Successfully submitted to H&M Personalized Fashion RecommendationsSubmission saved and submitted to Kaggle.\n",
      "k =  200\n",
      "Percentage of real transactions:  0.01835598524582854\n",
      "Mergining features...\n",
      "Done.\n",
      "Sorting data...\n",
      "Done.\n",
      "Preparing for training...\n",
      "Done.\n",
      "Training model...\n",
      "[LightGBM] [Info] Auto-choosing row-wise multi-threading, the overhead of testing was 2.323619 seconds.\n",
      "You can set `force_row_wise=true` to remove the overhead.\n",
      "And if memory is not enough, you can set `force_col_wise=true`.\n",
      "[LightGBM] [Info] Total Bins 1027\n",
      "[LightGBM] [Info] Number of data points in the train set: 116243133, number of used features: 18\n",
      "Feature importance:\n",
      "article_id 0.6463723847757629\n",
      "index_code 0.10172629611093659\n",
      "product_type_no 0.07441617363989601\n",
      "bestseller_rank 0.062096453918375746\n",
      "perceived_colour_value_id 0.05132550341406754\n",
      "department_no 0.019250585838487197\n",
      "garment_group_no 0.01273509236338469\n",
      "colour_group_code 0.012601143654221793\n",
      "graphical_appearance_no 0.00986652062359689\n",
      "section_no 0.009609845661270695\n",
      "Starting submission process...\n",
      "Calculating predictions...\n",
      "Done.\n",
      "Creating submission...\n",
      "Done.\n",
      "Saving submission...\n",
      "Done.\n"
     ]
    },
    {
     "name": "stderr",
     "output_type": "stream",
     "text": [
      "100%|██████████| 57.3M/57.3M [00:26<00:00, 2.24MB/s]\n"
     ]
    },
    {
     "name": "stdout",
     "output_type": "stream",
     "text": [
      "Successfully submitted to H&M Personalized Fashion RecommendationsSubmission saved and submitted to Kaggle.\n"
     ]
    }
   ],
   "source": [
    "# Get bestsellers from previous week\n",
    "bestsellers_last_week = \\\n",
    "    bestsellers_previous_week[bestsellers_previous_week['week'] == bestsellers_previous_week['week'].max()]['article_id'].tolist()\n",
    "\n",
    "for k in range(20, 201, 10):\n",
    "    print('k = ', k)\n",
    "\n",
    "    seasonal_candidates = seasonal_candidates_loaded[seasonal_candidates_loaded.article_id.isin(transactions.article_id.unique())].head(k)\n",
    "    \n",
    "    seasonal_bestsellers = transactions[['customer_id', 'week']].drop_duplicates()\n",
    "    seasonal_bestsellers['key'] = 1\n",
    "    seasonal_candidates['key'] = 1\n",
    "\n",
    "    seasonal_candidates = seasonal_bestsellers.merge(seasonal_candidates, on='key').drop(columns='key')\n",
    "    seasonal_candidates['t_dat'] = '2020-07-15'\n",
    "    seasonal_candidates['price'] = 0\n",
    "    seasonal_candidates['sales_channel_id'] = 2\n",
    "    seasonal_candidates.drop(columns=['seasonal_bestseller_rank', 'year'], inplace=True)\n",
    "\n",
    "    # Prepare data for model\n",
    "    train_X, train_y, test_X, test, train_baskets = prepare_data(\n",
    "        transactions,\n",
    "        bestsellers_previous_week,\n",
    "        candidates=[candidates_last_purchase, candidates_bestsellers, seasonal_candidates], \n",
    "        features=[customers, articles], \n",
    "        cols_to_use=columns_to_use\n",
    "        )\n",
    "    \n",
    "    # Train model\n",
    "    ranker = train_model(\n",
    "        train_X, \n",
    "        train_y, \n",
    "        train_baskets, \n",
    "        model_params, \n",
    "        columns_to_use, \n",
    "        show_importance=10\n",
    "    )\n",
    "\n",
    "    # Make submission\n",
    "    make_submission(customers, test, test_X, ranker, bestsellers_last_week, f'submission_seasonal_{k}')\n",
    "\n",
    "    del seasonal_candidates, seasonal_bestsellers, train_X, train_y, test_X, test, train_baskets, ranker\n",
    "\n"
   ]
  },
  {
   "cell_type": "code",
   "execution_count": 9,
   "metadata": {},
   "outputs": [
    {
     "name": "stdout",
     "output_type": "stream",
     "text": [
      "fileName                                                     date                 description                                           status    publicScore  privateScore  \n",
      "-----------------------------------------------------------  -------------------  ----------------------------------------------------  --------  -----------  ------------  \n",
      "submission_seasonal_200.csv.gz                               2023-12-13 00:17:30  submission_seasonal_200                               pending                              \n",
      "submission_seasonal_190.csv.gz                               2023-12-13 00:12:05  submission_seasonal_190                               complete  0.01815      0.01819       \n",
      "submission_seasonal_180.csv.gz                               2023-12-13 00:06:18  submission_seasonal_180                               complete  0.01815      0.01819       \n",
      "submission_seasonal_170.csv.gz                               2023-12-12 23:58:35  submission_seasonal_170                               complete  0.01815      0.01819       \n",
      "submission_seasonal_160.csv.gz                               2023-12-12 23:52:50  submission_seasonal_160                               complete  0.01815      0.01819       \n",
      "submission_seasonal_150.csv.gz                               2023-12-12 23:47:16  submission_seasonal_150                               complete  0.01833      0.01816       \n",
      "submission_seasonal_140.csv.gz                               2023-12-12 23:42:18  submission_seasonal_140                               complete  0.01883      0.01857       \n",
      "submission_seasonal_130.csv.gz                               2023-12-12 23:37:50  submission_seasonal_130                               complete  0.01852      0.01834       \n",
      "submission_seasonal_120.csv.gz                               2023-12-12 23:33:41  submission_seasonal_120                               complete  0.01847      0.01848       \n",
      "submission_seasonal_110.csv.gz                               2023-12-12 23:29:58  submission_seasonal_110                               complete  0.01816      0.01839       \n",
      "submission_seasonal_100.csv.gz                               2023-12-12 23:26:39  submission_seasonal_100                               complete  0.01815      0.01824       \n",
      "submission_seasonal_90.csv.gz                                2023-12-12 23:23:32  submission_seasonal_90                                complete  0.01796      0.01797       \n",
      "submission_seasonal_80.csv.gz                                2023-12-12 23:20:49  submission_seasonal_80                                complete  0.01796      0.01835       \n",
      "submission_seasonal_70.csv.gz                                2023-12-12 23:18:22  submission_seasonal_70                                complete  0.01866      0.01913       \n",
      "submission_seasonal_60.csv.gz                                2023-12-12 23:16:04  submission_seasonal_60                                complete  0.01386      0.014         \n",
      "submission_seasonal_50.csv.gz                                2023-12-12 23:13:56  submission_seasonal_50                                complete  0.01891      0.01915       \n",
      "submission_seasonal_40.csv.gz                                2023-12-12 23:12:05  submission_seasonal_40                                complete  0.01398      0.01409       \n",
      "submission_seasonal_30.csv.gz                                2023-12-12 23:10:23  submission_seasonal_30                                complete  0.01929      0.01937       \n",
      "submission_seasonal_20.csv.gz                                2023-12-12 23:08:49  submission_seasonal_20                                complete  0.01936      0.01958       \n"
     ]
    }
   ],
   "source": [
    "!kaggle competitions submissions -c h-and-m-personalized-fashion-recommendations | head -n 21"
   ]
  },
  {
   "cell_type": "code",
   "execution_count": null,
   "metadata": {},
   "outputs": [],
   "source": []
  }
 ],
 "metadata": {
  "kernelspec": {
   "display_name": "AIPRO",
   "language": "python",
   "name": "python3"
  },
  "language_info": {
   "codemirror_mode": {
    "name": "ipython",
    "version": 3
   },
   "file_extension": ".py",
   "mimetype": "text/x-python",
   "name": "python",
   "nbconvert_exporter": "python",
   "pygments_lexer": "ipython3",
   "version": "3.11.5"
  }
 },
 "nbformat": 4,
 "nbformat_minor": 2
}
