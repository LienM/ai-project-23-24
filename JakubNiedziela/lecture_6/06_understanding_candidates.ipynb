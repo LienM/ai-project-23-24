{
 "cells": [
  {
   "cell_type": "code",
   "execution_count": 1,
   "metadata": {},
   "outputs": [],
   "source": [
    "import pandas as pd\n",
    "import numpy as np\n",
    "import warnings\n",
    "warnings.simplefilter(action='ignore', category=FutureWarning)\n",
    "\n",
    "import os\n",
    "os.chdir('../')\n",
    "from eval_helpers import calculate_recall_score, plot_recall_by_k\n",
    "from candidate_generation import *\n",
    "os.chdir('../../data/')"
   ]
  },
  {
   "cell_type": "code",
   "execution_count": 2,
   "metadata": {},
   "outputs": [
    {
     "name": "stdout",
     "output_type": "stream",
     "text": [
      "First week num:  0 \n",
      "Last week num:  104 \n",
      "\n"
     ]
    }
   ],
   "source": [
    "transactions = pd.read_pickle('../data/compressed_data/transactions_train.pkl')\n",
    "customers = pd.read_pickle('../data/compressed_data/customers.pkl')\n",
    "articles = pd.read_pickle('../data/compressed_data/articles.pkl')\n",
    "\n",
    "transactions['week'] = 104 - (transactions.t_dat.max() - transactions.t_dat).dt.days // 7\n",
    "\n",
    "print('First week num: ', transactions.week.min(), '\\nLast week num: ', transactions.week.max(), '\\n')\n",
    "\n",
    "# Test week is week after last week in train data\n",
    "test_week = transactions.week.max()\n",
    "train_weeks = range(test_week - 10, test_week)\n",
    "\n",
    "# Filter transactions to last 10 weeks (most recent data)\n",
    "transactions_train = transactions[transactions.week.isin(train_weeks)]\n",
    "transaction_test = transactions[transactions.week == test_week]"
   ]
  },
  {
   "cell_type": "code",
   "execution_count": 3,
   "metadata": {},
   "outputs": [],
   "source": [
    "transactions_train_test = pd.concat([transactions_train, transaction_test])"
   ]
  },
  {
   "cell_type": "code",
   "execution_count": 4,
   "metadata": {},
   "outputs": [
    {
     "name": "stderr",
     "output_type": "stream",
     "text": [
      "100%|██████████| 831706/831706 [14:05<00:00, 983.77it/s]  \n",
      "100%|██████████| 831706/831706 [10:21<00:00, 1337.54it/s]\n"
     ]
    }
   ],
   "source": [
    "article_groups_cols = [\n",
    "    # 'product_group_name',\n",
    "    # 'graphical_appearance_name',\n",
    "    # 'colour_group_name',\n",
    "    # 'perceived_colour_value_name',\n",
    "    # 'perceived_colour_master_name',\n",
    "    # 'index_name',\n",
    "    # 'index_group_name',\n",
    "    'section_name',\n",
    "    'garment_group_name'\n",
    "]\n",
    "\n",
    "for col in article_groups_cols:\n",
    "    candidates = not_interacted_with_candidates_weekly(transactions_train_test, articles, col, 200)\n",
    "    candidates.to_csv('candidates_200_ranks/niw_candidates_{}.csv'.format(col), index=False)\n",
    "    del candidates\n",
    "    \n"
   ]
  },
  {
   "cell_type": "markdown",
   "metadata": {},
   "source": []
  }
 ],
 "metadata": {
  "kernelspec": {
   "display_name": "AIPRO",
   "language": "python",
   "name": "python3"
  },
  "language_info": {
   "codemirror_mode": {
    "name": "ipython",
    "version": 3
   },
   "file_extension": ".py",
   "mimetype": "text/x-python",
   "name": "python",
   "nbconvert_exporter": "python",
   "pygments_lexer": "ipython3",
   "version": "3.11.5"
  }
 },
 "nbformat": 4,
 "nbformat_minor": 2
}
