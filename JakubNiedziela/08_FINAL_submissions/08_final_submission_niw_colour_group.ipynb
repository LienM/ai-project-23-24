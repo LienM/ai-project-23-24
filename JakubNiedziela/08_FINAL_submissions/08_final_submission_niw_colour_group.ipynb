{
 "cells": [
  {
   "cell_type": "code",
   "execution_count": 1,
   "metadata": {},
   "outputs": [],
   "source": [
    "import pandas as pd\n",
    "import warnings\n",
    "warnings.simplefilter(action='ignore', category=FutureWarning)\n",
    "\n",
    "import os\n",
    "os.chdir('../')\n",
    "from model import *\n",
    "os.chdir('../../data/')"
   ]
  },
  {
   "cell_type": "code",
   "execution_count": 2,
   "metadata": {},
   "outputs": [
    {
     "name": "stdout",
     "output_type": "stream",
     "text": [
      "First week num:  0 \n",
      "Last week num:  104 \n",
      "\n"
     ]
    }
   ],
   "source": [
    "transactions = pd.read_pickle('../data/compressed_data/transactions_train.pkl')\n",
    "customers = pd.read_pickle('../data/compressed_data/customers.pkl')\n",
    "articles = pd.read_pickle('../data/compressed_data/articles.pkl')\n",
    "\n",
    "transactions['week'] = 104 - (transactions.t_dat.max() - transactions.t_dat).dt.days // 7\n",
    "\n",
    "print('First week num: ', transactions.week.min(), '\\nLast week num: ', transactions.week.max(), '\\n')"
   ]
  },
  {
   "cell_type": "code",
   "execution_count": 3,
   "metadata": {},
   "outputs": [],
   "source": [
    "# Test week is week after last week in train data\n",
    "test_week = transactions.week.max() + 1\n",
    "\n",
    "# Filter transactions to last 10 weeks (most recent data)\n",
    "transactions = transactions[transactions.week > transactions.week.max() - 10]"
   ]
  },
  {
   "cell_type": "code",
   "execution_count": 4,
   "metadata": {},
   "outputs": [
    {
     "data": {
      "text/plain": [
       "Index(['t_dat', 'customer_id', 'article_id', 'price', 'sales_channel_id',\n",
       "       'week'],\n",
       "      dtype='object')"
      ]
     },
     "execution_count": 4,
     "metadata": {},
     "output_type": "execute_result"
    }
   ],
   "source": [
    "transactions.columns"
   ]
  },
  {
   "cell_type": "code",
   "execution_count": 5,
   "metadata": {},
   "outputs": [],
   "source": [
    "# Load radek's candidates\n",
    "candidates_last_purchase = pd.read_csv('../data/candidates/radek_last_purchase.csv')\n",
    "candidates_bestsellers = pd.read_csv('../data/candidates/radek_bestsellers.csv')\n",
    "bestsellers_previous_week = pd.read_csv('../data/candidates/radek_bestsellers_previous_week.csv')"
   ]
  },
  {
   "cell_type": "markdown",
   "metadata": {},
   "source": [
    "# Load my candidates"
   ]
  },
  {
   "cell_type": "code",
   "execution_count": 6,
   "metadata": {},
   "outputs": [],
   "source": [
    "# Load my candidates\n",
    "candidates_niw_loaded = pd.read_csv('../data/candidates_200_ranks/niw_candidates_colour_group_name.csv')"
   ]
  },
  {
   "cell_type": "markdown",
   "metadata": {},
   "source": [
    "## Submission Loop -- check best k for kaggle"
   ]
  },
  {
   "cell_type": "code",
   "execution_count": 7,
   "metadata": {},
   "outputs": [],
   "source": [
    "columns_to_use = [\n",
    "    'article_id', \n",
    "    'product_type_no', \n",
    "    'graphical_appearance_no', \n",
    "    'colour_group_code', \n",
    "    'perceived_colour_value_id',\n",
    "    'perceived_colour_master_id', \n",
    "    'department_no', \n",
    "    'index_code',\n",
    "    'index_group_no', \n",
    "    'section_no', \n",
    "    'garment_group_no', \n",
    "    'FN', \n",
    "    'Active',\n",
    "    'club_member_status', \n",
    "    'fashion_news_frequency', \n",
    "    'age', \n",
    "    'postal_code', \n",
    "    'bestseller_rank',\n",
    "    'not_interacted_weekly_rank'\n",
    "]\n",
    "\n",
    "model_params = {\n",
    "    'objective': 'lambdarank',\n",
    "    'metric': 'ndcg',\n",
    "    'boosting_type': 'dart',\n",
    "    'n_estimators': 1,\n",
    "    'importance_type': 'gain'\n",
    "}"
   ]
  },
  {
   "cell_type": "code",
   "execution_count": 8,
   "metadata": {},
   "outputs": [
    {
     "name": "stdout",
     "output_type": "stream",
     "text": [
      "k =  20\n",
      "Percentage of real transactions:  0.07205122701166096\n",
      "Mergining features...\n",
      "Done.\n",
      "Sorting data...\n",
      "Done.\n",
      "Preparing for training...\n",
      "Done.\n",
      "Training model...\n",
      "[LightGBM] [Info] Auto-choosing row-wise multi-threading, the overhead of testing was 0.264246 seconds.\n",
      "You can set `force_row_wise=true` to remove the overhead.\n",
      "And if memory is not enough, you can set `force_col_wise=true`.\n",
      "[LightGBM] [Info] Total Bins 1131\n",
      "[LightGBM] [Info] Number of data points in the train set: 24896704, number of used features: 19\n",
      "Feature importance:\n",
      "bestseller_rank 0.8077098548474034\n",
      "not_interacted_weekly_rank 0.10680044788940318\n",
      "colour_group_code 0.0314940609368392\n",
      "perceived_colour_master_id 0.01353900117930774\n",
      "perceived_colour_value_id 0.012534448875430256\n",
      "article_id 0.008222430606826677\n",
      "garment_group_no 0.005870691149032165\n",
      "index_code 0.005570038482793826\n",
      "department_no 0.004991986469053238\n",
      "product_type_no 0.003267039563910241\n",
      "Starting submission process...\n",
      "Calculating predictions...\n",
      "Done.\n",
      "Creating submission...\n",
      "Done.\n",
      "Saving submission...\n",
      "Done.\n"
     ]
    },
    {
     "name": "stderr",
     "output_type": "stream",
     "text": [
      "100%|██████████| 58.1M/58.1M [00:27<00:00, 2.24MB/s]\n"
     ]
    },
    {
     "name": "stdout",
     "output_type": "stream",
     "text": [
      "Successfully submitted to H&M Personalized Fashion RecommendationsSubmission saved and submitted to Kaggle.\n",
      "k =  30\n",
      "Percentage of real transactions:  0.058259282367467434\n",
      "Mergining features...\n",
      "Done.\n",
      "Sorting data...\n",
      "Done.\n",
      "Preparing for training...\n",
      "Done.\n",
      "Training model...\n",
      "[LightGBM] [Info] Auto-choosing row-wise multi-threading, the overhead of testing was 0.351032 seconds.\n",
      "You can set `force_row_wise=true` to remove the overhead.\n",
      "And if memory is not enough, you can set `force_col_wise=true`.\n",
      "[LightGBM] [Info] Total Bins 1116\n",
      "[LightGBM] [Info] Number of data points in the train set: 31617411, number of used features: 19\n",
      "Feature importance:\n",
      "bestseller_rank 0.7790799892333308\n",
      "not_interacted_weekly_rank 0.14366626665537352\n",
      "colour_group_code 0.039277701527001135\n",
      "article_id 0.010447098018257757\n",
      "index_code 0.006679182887210959\n",
      "garment_group_no 0.004347388643620012\n",
      "perceived_colour_master_id 0.0034136583915778717\n",
      "section_no 0.0032801294264810125\n",
      "perceived_colour_value_id 0.00306747586781864\n",
      "index_group_no 0.002312163001479116\n",
      "Starting submission process...\n",
      "Calculating predictions...\n",
      "Done.\n",
      "Creating submission...\n",
      "Done.\n",
      "Saving submission...\n",
      "Done.\n"
     ]
    },
    {
     "name": "stderr",
     "output_type": "stream",
     "text": [
      "100%|██████████| 58.1M/58.1M [00:33<00:00, 1.83MB/s]  \n"
     ]
    },
    {
     "name": "stdout",
     "output_type": "stream",
     "text": [
      "Successfully submitted to H&M Personalized Fashion RecommendationsSubmission saved and submitted to Kaggle.\n",
      "k =  40\n",
      "Percentage of real transactions:  0.048813265276143256\n",
      "Mergining features...\n",
      "Done.\n",
      "Sorting data...\n",
      "Done.\n",
      "Preparing for training...\n",
      "Done.\n",
      "Training model...\n",
      "[LightGBM] [Info] Auto-choosing row-wise multi-threading, the overhead of testing was 0.494597 seconds.\n",
      "You can set `force_row_wise=true` to remove the overhead.\n",
      "And if memory is not enough, you can set `force_col_wise=true`.\n",
      "[LightGBM] [Info] Total Bins 1118\n",
      "[LightGBM] [Info] Number of data points in the train set: 38420358, number of used features: 19\n",
      "Feature importance:\n",
      "bestseller_rank 0.7526329141373416\n",
      "not_interacted_weekly_rank 0.17018041285685248\n",
      "colour_group_code 0.04406308839472477\n",
      "index_code 0.007519483173732698\n",
      "product_type_no 0.005138237992154772\n",
      "section_no 0.005059210256434062\n",
      "perceived_colour_master_id 0.004603253313775617\n",
      "article_id 0.004518404499914067\n",
      "department_no 0.003318149247861335\n",
      "garment_group_no 0.0029668461272086204\n",
      "Starting submission process...\n",
      "Calculating predictions...\n",
      "Done.\n",
      "Creating submission...\n",
      "Done.\n",
      "Saving submission...\n",
      "Done.\n"
     ]
    },
    {
     "name": "stderr",
     "output_type": "stream",
     "text": [
      "100%|██████████| 57.9M/57.9M [00:29<00:00, 2.09MB/s]\n"
     ]
    },
    {
     "name": "stdout",
     "output_type": "stream",
     "text": [
      "Successfully submitted to H&M Personalized Fashion RecommendationsSubmission saved and submitted to Kaggle.\n",
      "k =  50\n",
      "Percentage of real transactions:  0.04204734767249704\n",
      "Mergining features...\n",
      "Done.\n",
      "Sorting data...\n",
      "Done.\n",
      "Preparing for training...\n",
      "Done.\n",
      "Training model...\n",
      "[LightGBM] [Info] Auto-choosing row-wise multi-threading, the overhead of testing was 0.403004 seconds.\n",
      "You can set `force_row_wise=true` to remove the overhead.\n",
      "And if memory is not enough, you can set `force_col_wise=true`.\n",
      "[LightGBM] [Info] Total Bins 1108\n",
      "[LightGBM] [Info] Number of data points in the train set: 45218842, number of used features: 19\n",
      "Feature importance:\n",
      "bestseller_rank 0.7277055596962838\n",
      "not_interacted_weekly_rank 0.2035067122365094\n",
      "colour_group_code 0.03482810660263533\n",
      "product_type_no 0.010476680049321892\n",
      "index_code 0.007320177266225458\n",
      "perceived_colour_master_id 0.005281401117679718\n",
      "article_id 0.005050530217810435\n",
      "section_no 0.003365024706339392\n",
      "graphical_appearance_no 0.002465808107194579\n",
      "FN 0.0\n",
      "Starting submission process...\n",
      "Calculating predictions...\n",
      "Done.\n",
      "Creating submission...\n",
      "Done.\n",
      "Saving submission...\n",
      "Done.\n"
     ]
    },
    {
     "name": "stderr",
     "output_type": "stream",
     "text": [
      "100%|██████████| 58.0M/58.0M [00:27<00:00, 2.23MB/s]\n"
     ]
    },
    {
     "name": "stdout",
     "output_type": "stream",
     "text": [
      "Successfully submitted to H&M Personalized Fashion RecommendationsSubmission saved and submitted to Kaggle.\n",
      "k =  60\n",
      "Percentage of real transactions:  0.03687618922063287\n",
      "Mergining features...\n",
      "Done.\n",
      "Sorting data...\n",
      "Done.\n",
      "Preparing for training...\n",
      "Done.\n",
      "Training model...\n",
      "[LightGBM] [Info] Auto-choosing row-wise multi-threading, the overhead of testing was 0.766886 seconds.\n",
      "You can set `force_row_wise=true` to remove the overhead.\n",
      "And if memory is not enough, you can set `force_col_wise=true`.\n",
      "[LightGBM] [Info] Total Bins 1096\n",
      "[LightGBM] [Info] Number of data points in the train set: 52053309, number of used features: 19\n",
      "Feature importance:\n",
      "bestseller_rank 0.7108643999716348\n",
      "not_interacted_weekly_rank 0.21860078224620638\n",
      "colour_group_code 0.033634981773092494\n",
      "perceived_colour_master_id 0.009910081574422533\n",
      "index_code 0.00792138984030987\n",
      "article_id 0.006150493820689888\n",
      "section_no 0.0047156070518855195\n",
      "perceived_colour_value_id 0.0033874057503494523\n",
      "product_type_no 0.0030624475109727895\n",
      "garment_group_no 0.0008908517458673577\n",
      "Starting submission process...\n",
      "Calculating predictions...\n",
      "Done.\n",
      "Creating submission...\n",
      "Done.\n",
      "Saving submission...\n",
      "Done.\n"
     ]
    },
    {
     "name": "stderr",
     "output_type": "stream",
     "text": [
      "100%|██████████| 57.9M/57.9M [00:27<00:00, 2.24MB/s]\n"
     ]
    },
    {
     "name": "stdout",
     "output_type": "stream",
     "text": [
      "Successfully submitted to H&M Personalized Fashion RecommendationsSubmission saved and submitted to Kaggle.\n",
      "k =  70\n",
      "Percentage of real transactions:  0.03286032553854207\n",
      "Mergining features...\n",
      "Done.\n",
      "Sorting data...\n",
      "Done.\n",
      "Preparing for training...\n",
      "Done.\n",
      "Training model...\n",
      "[LightGBM] [Info] Auto-choosing row-wise multi-threading, the overhead of testing was 0.525176 seconds.\n",
      "You can set `force_row_wise=true` to remove the overhead.\n",
      "And if memory is not enough, you can set `force_col_wise=true`.\n",
      "[LightGBM] [Info] Total Bins 1079\n",
      "[LightGBM] [Info] Number of data points in the train set: 58881135, number of used features: 19\n",
      "Feature importance:\n",
      "bestseller_rank 0.7057199226195701\n",
      "not_interacted_weekly_rank 0.2231531312253905\n",
      "colour_group_code 0.03400630105602047\n",
      "index_code 0.009523577287137304\n",
      "article_id 0.00873738477424542\n",
      "perceived_colour_master_id 0.006139083964184733\n",
      "perceived_colour_value_id 0.005161136801040334\n",
      "section_no 0.004730938797831164\n",
      "product_type_no 0.0017003795759362678\n",
      "department_no 0.001128143898643703\n",
      "Starting submission process...\n",
      "Calculating predictions...\n",
      "Done.\n",
      "Creating submission...\n",
      "Done.\n",
      "Saving submission...\n",
      "Done.\n"
     ]
    },
    {
     "name": "stderr",
     "output_type": "stream",
     "text": [
      "100%|██████████| 57.9M/57.9M [00:32<00:00, 1.89MB/s]  \n"
     ]
    },
    {
     "name": "stdout",
     "output_type": "stream",
     "text": [
      "Successfully submitted to H&M Personalized Fashion RecommendationsSubmission saved and submitted to Kaggle.\n",
      "k =  80\n",
      "Percentage of real transactions:  0.029678926151510524\n",
      "Mergining features...\n",
      "Done.\n",
      "Sorting data...\n",
      "Done.\n",
      "Preparing for training...\n",
      "Done.\n",
      "Training model...\n",
      "[LightGBM] [Info] Auto-choosing row-wise multi-threading, the overhead of testing was 0.556416 seconds.\n",
      "You can set `force_row_wise=true` to remove the overhead.\n",
      "And if memory is not enough, you can set `force_col_wise=true`.\n",
      "[LightGBM] [Info] Total Bins 1086\n",
      "[LightGBM] [Info] Number of data points in the train set: 65671241, number of used features: 19\n",
      "Feature importance:\n",
      "bestseller_rank 0.6948269135437849\n",
      "not_interacted_weekly_rank 0.22079459592510595\n",
      "colour_group_code 0.04636836269883547\n",
      "perceived_colour_value_id 0.015941993420073637\n",
      "article_id 0.005355621942012091\n",
      "index_code 0.004513548596289859\n",
      "perceived_colour_master_id 0.00422396297685926\n",
      "department_no 0.002899077958048833\n",
      "product_type_no 0.0021581753168500874\n",
      "garment_group_no 0.0017668743893371314\n",
      "Starting submission process...\n",
      "Calculating predictions...\n",
      "Done.\n",
      "Creating submission...\n",
      "Done.\n",
      "Saving submission...\n",
      "Done.\n"
     ]
    },
    {
     "name": "stderr",
     "output_type": "stream",
     "text": [
      "100%|██████████| 57.9M/57.9M [00:26<00:00, 2.25MB/s]\n"
     ]
    },
    {
     "name": "stdout",
     "output_type": "stream",
     "text": [
      "Successfully submitted to H&M Personalized Fashion RecommendationsSubmission saved and submitted to Kaggle.\n",
      "k =  90\n",
      "Percentage of real transactions:  0.0270157993592349\n",
      "Mergining features...\n",
      "Done.\n",
      "Sorting data...\n",
      "Done.\n",
      "Preparing for training...\n",
      "Done.\n",
      "Training model...\n",
      "[LightGBM] [Info] Auto-choosing row-wise multi-threading, the overhead of testing was 0.663250 seconds.\n",
      "You can set `force_row_wise=true` to remove the overhead.\n",
      "And if memory is not enough, you can set `force_col_wise=true`.\n",
      "[LightGBM] [Info] Total Bins 1078\n",
      "[LightGBM] [Info] Number of data points in the train set: 72498690, number of used features: 19\n",
      "Feature importance:\n",
      "bestseller_rank 0.6901266166981973\n",
      "not_interacted_weekly_rank 0.230027785851604\n",
      "colour_group_code 0.04693958790467583\n",
      "perceived_colour_value_id 0.015772182073652174\n",
      "index_code 0.004029273996146255\n",
      "department_no 0.0037309994051610913\n",
      "article_id 0.0030463076910945265\n",
      "perceived_colour_master_id 0.0028550964611439725\n",
      "graphical_appearance_no 0.001411188095984149\n",
      "section_no 0.0011723688722394309\n",
      "Starting submission process...\n",
      "Calculating predictions...\n",
      "Done.\n",
      "Creating submission...\n",
      "Done.\n",
      "Saving submission...\n",
      "Done.\n"
     ]
    },
    {
     "name": "stderr",
     "output_type": "stream",
     "text": [
      "100%|██████████| 57.7M/57.7M [00:26<00:00, 2.25MB/s]\n"
     ]
    },
    {
     "name": "stdout",
     "output_type": "stream",
     "text": [
      "Successfully submitted to H&M Personalized Fashion RecommendationsSubmission saved and submitted to Kaggle.\n",
      "k =  100\n",
      "Percentage of real transactions:  0.024779403023942433\n",
      "Mergining features...\n",
      "Done.\n",
      "Sorting data...\n",
      "Done.\n",
      "Preparing for training...\n",
      "Done.\n",
      "Training model...\n",
      "[LightGBM] [Info] Auto-choosing row-wise multi-threading, the overhead of testing was 0.697526 seconds.\n",
      "You can set `force_row_wise=true` to remove the overhead.\n",
      "And if memory is not enough, you can set `force_col_wise=true`.\n",
      "[LightGBM] [Info] Total Bins 1076\n",
      "[LightGBM] [Info] Number of data points in the train set: 79348534, number of used features: 19\n",
      "Feature importance:\n",
      "bestseller_rank 0.6795139157820543\n",
      "not_interacted_weekly_rank 0.2332971700831934\n",
      "colour_group_code 0.04609476428902177\n",
      "perceived_colour_value_id 0.01722672716630787\n",
      "article_id 0.007322212850015167\n",
      "perceived_colour_master_id 0.005978117661842689\n",
      "department_no 0.0055088900538038605\n",
      "index_code 0.005058202113760976\n",
      "club_member_status 0.0\n",
      "Active 0.0\n",
      "Starting submission process...\n",
      "Calculating predictions...\n",
      "Done.\n",
      "Creating submission...\n",
      "Done.\n",
      "Saving submission...\n",
      "Done.\n"
     ]
    },
    {
     "name": "stderr",
     "output_type": "stream",
     "text": [
      "100%|██████████| 57.9M/57.9M [00:27<00:00, 2.22MB/s]\n"
     ]
    },
    {
     "name": "stdout",
     "output_type": "stream",
     "text": [
      "Successfully submitted to H&M Personalized Fashion RecommendationsSubmission saved and submitted to Kaggle.\n",
      "k =  110\n",
      "Percentage of real transactions:  0.022892064039798352\n",
      "Mergining features...\n",
      "Done.\n",
      "Sorting data...\n",
      "Done.\n",
      "Preparing for training...\n",
      "Done.\n",
      "Training model...\n",
      "[LightGBM] [Info] Auto-choosing row-wise multi-threading, the overhead of testing was 0.818233 seconds.\n",
      "You can set `force_row_wise=true` to remove the overhead.\n",
      "And if memory is not enough, you can set `force_col_wise=true`.\n",
      "[LightGBM] [Info] Total Bins 1077\n",
      "[LightGBM] [Info] Number of data points in the train set: 86197699, number of used features: 19\n",
      "Feature importance:\n",
      "bestseller_rank 0.6765368713757691\n",
      "not_interacted_weekly_rank 0.2305784401294259\n",
      "colour_group_code 0.046350712800798825\n",
      "perceived_colour_value_id 0.02067075331624572\n",
      "perceived_colour_master_id 0.006414346134560675\n",
      "index_code 0.006221885599377238\n",
      "article_id 0.005142274485361941\n",
      "department_no 0.005113072541509522\n",
      "section_no 0.0019297479259176506\n",
      "garment_group_no 0.0010418956910334127\n",
      "Starting submission process...\n",
      "Calculating predictions...\n",
      "Done.\n",
      "Creating submission...\n",
      "Done.\n",
      "Saving submission...\n",
      "Done.\n"
     ]
    },
    {
     "name": "stderr",
     "output_type": "stream",
     "text": [
      "100%|██████████| 57.8M/57.8M [00:26<00:00, 2.28MB/s]\n"
     ]
    },
    {
     "name": "stdout",
     "output_type": "stream",
     "text": [
      "Successfully submitted to H&M Personalized Fashion RecommendationsSubmission saved and submitted to Kaggle.\n",
      "k =  120\n",
      "Percentage of real transactions:  0.021275673409581326\n",
      "Mergining features...\n",
      "Done.\n",
      "Sorting data...\n",
      "Done.\n",
      "Preparing for training...\n",
      "Done.\n",
      "Training model...\n",
      "[LightGBM] [Info] Auto-choosing row-wise multi-threading, the overhead of testing was 0.778936 seconds.\n",
      "You can set `force_row_wise=true` to remove the overhead.\n",
      "And if memory is not enough, you can set `force_col_wise=true`.\n",
      "[LightGBM] [Info] Total Bins 1067\n",
      "[LightGBM] [Info] Number of data points in the train set: 93040482, number of used features: 19\n",
      "Feature importance:\n",
      "bestseller_rank 0.6700693891065499\n",
      "not_interacted_weekly_rank 0.23443597665333174\n",
      "colour_group_code 0.056166942761704454\n",
      "perceived_colour_value_id 0.020776859537582026\n",
      "perceived_colour_master_id 0.007105717916755988\n",
      "department_no 0.004922481358113178\n",
      "index_code 0.0033580451501191437\n",
      "article_id 0.0031645875158435427\n",
      "garment_group_no 0.0\n",
      "FN 0.0\n",
      "Starting submission process...\n",
      "Calculating predictions...\n",
      "Done.\n",
      "Creating submission...\n",
      "Done.\n",
      "Saving submission...\n",
      "Done.\n"
     ]
    },
    {
     "name": "stderr",
     "output_type": "stream",
     "text": [
      "100%|██████████| 57.8M/57.8M [00:28<00:00, 2.11MB/s]  \n"
     ]
    },
    {
     "name": "stdout",
     "output_type": "stream",
     "text": [
      "Successfully submitted to H&M Personalized Fashion RecommendationsSubmission saved and submitted to Kaggle.\n",
      "k =  130\n",
      "Percentage of real transactions:  0.01986537689655165\n",
      "Mergining features...\n",
      "Done.\n",
      "Sorting data...\n",
      "Done.\n",
      "Preparing for training...\n",
      "Done.\n",
      "Training model...\n",
      "[LightGBM] [Info] Auto-choosing row-wise multi-threading, the overhead of testing was 0.916474 seconds.\n",
      "You can set `force_row_wise=true` to remove the overhead.\n",
      "And if memory is not enough, you can set `force_col_wise=true`.\n",
      "[LightGBM] [Info] Total Bins 1068\n",
      "[LightGBM] [Info] Number of data points in the train set: 99879052, number of used features: 19\n",
      "Feature importance:\n",
      "bestseller_rank 0.6678613920602774\n",
      "not_interacted_weekly_rank 0.23862597941648847\n",
      "colour_group_code 0.04884626145136693\n",
      "perceived_colour_value_id 0.019788493304754518\n",
      "perceived_colour_master_id 0.010383685206793038\n",
      "index_code 0.006547456603228481\n",
      "article_id 0.004078274337388245\n",
      "section_no 0.002146182945929987\n",
      "department_no 0.0008907689901762974\n",
      "garment_group_no 0.0008315056835965811\n",
      "Starting submission process...\n",
      "Calculating predictions...\n",
      "Done.\n",
      "Creating submission...\n",
      "Done.\n",
      "Saving submission...\n",
      "Done.\n"
     ]
    },
    {
     "name": "stderr",
     "output_type": "stream",
     "text": [
      "100%|██████████| 57.7M/57.7M [00:28<00:00, 2.09MB/s]  \n"
     ]
    },
    {
     "name": "stdout",
     "output_type": "stream",
     "text": [
      "Successfully submitted to H&M Personalized Fashion RecommendationsSubmission saved and submitted to Kaggle.\n",
      "k =  140\n",
      "Percentage of real transactions:  0.018627869288632658\n",
      "Mergining features...\n",
      "Done.\n",
      "Sorting data...\n",
      "Done.\n",
      "Preparing for training...\n",
      "Done.\n",
      "Training model...\n",
      "[LightGBM] [Info] Auto-choosing row-wise multi-threading, the overhead of testing was 2.388596 seconds.\n",
      "You can set `force_row_wise=true` to remove the overhead.\n",
      "And if memory is not enough, you can set `force_col_wise=true`.\n",
      "[LightGBM] [Info] Total Bins 1059\n",
      "[LightGBM] [Info] Number of data points in the train set: 106735929, number of used features: 19\n",
      "Feature importance:\n",
      "bestseller_rank 0.6633011608305297\n",
      "not_interacted_weekly_rank 0.24004476504463482\n",
      "colour_group_code 0.05321084350138206\n",
      "perceived_colour_value_id 0.02120573963742911\n",
      "perceived_colour_master_id 0.009155796767018096\n",
      "index_code 0.004569983211609808\n",
      "article_id 0.0036598578690650355\n",
      "department_no 0.002709038081666809\n",
      "section_no 0.0021428150566645794\n",
      "FN 0.0\n",
      "Starting submission process...\n",
      "Calculating predictions...\n",
      "Done.\n",
      "Creating submission...\n",
      "Done.\n",
      "Saving submission...\n",
      "Done.\n"
     ]
    },
    {
     "name": "stderr",
     "output_type": "stream",
     "text": [
      "100%|██████████| 57.9M/57.9M [00:26<00:00, 2.27MB/s]\n"
     ]
    },
    {
     "name": "stdout",
     "output_type": "stream",
     "text": [
      "Successfully submitted to H&M Personalized Fashion RecommendationsSubmission saved and submitted to Kaggle.\n",
      "k =  150\n",
      "Percentage of real transactions:  0.017534556233046117\n",
      "Mergining features...\n",
      "Done.\n",
      "Sorting data...\n",
      "Done.\n",
      "Preparing for training...\n",
      "Done.\n",
      "Training model...\n",
      "[LightGBM] [Info] Auto-choosing row-wise multi-threading, the overhead of testing was 2.763673 seconds.\n",
      "You can set `force_row_wise=true` to remove the overhead.\n",
      "And if memory is not enough, you can set `force_col_wise=true`.\n",
      "[LightGBM] [Info] Total Bins 1064\n",
      "[LightGBM] [Info] Number of data points in the train set: 113600423, number of used features: 19\n",
      "Feature importance:\n",
      "bestseller_rank 0.6611714810050955\n",
      "not_interacted_weekly_rank 0.23855072905872468\n",
      "colour_group_code 0.05950100458447212\n",
      "perceived_colour_value_id 0.021377983169101278\n",
      "perceived_colour_master_id 0.007394458581336989\n",
      "index_code 0.0037852122043442447\n",
      "section_no 0.0035380930907578157\n",
      "article_id 0.0025161592759968855\n",
      "department_no 0.0021648790301704757\n",
      "FN 0.0\n",
      "Starting submission process...\n",
      "Calculating predictions...\n",
      "Done.\n",
      "Creating submission...\n",
      "Done.\n",
      "Saving submission...\n",
      "Done.\n"
     ]
    },
    {
     "name": "stderr",
     "output_type": "stream",
     "text": [
      "100%|██████████| 57.7M/57.7M [00:29<00:00, 2.07MB/s]  \n"
     ]
    },
    {
     "name": "stdout",
     "output_type": "stream",
     "text": [
      "Successfully submitted to H&M Personalized Fashion RecommendationsSubmission saved and submitted to Kaggle.\n",
      "k =  160\n",
      "Percentage of real transactions:  0.016563204237117803\n",
      "Mergining features...\n",
      "Done.\n",
      "Sorting data...\n",
      "Done.\n",
      "Preparing for training...\n",
      "Done.\n",
      "Training model...\n",
      "[LightGBM] [Info] Auto-choosing row-wise multi-threading, the overhead of testing was 2.925873 seconds.\n",
      "You can set `force_row_wise=true` to remove the overhead.\n",
      "And if memory is not enough, you can set `force_col_wise=true`.\n",
      "[LightGBM] [Info] Total Bins 1060\n",
      "[LightGBM] [Info] Number of data points in the train set: 120458251, number of used features: 19\n",
      "Feature importance:\n",
      "bestseller_rank 0.6551956186524451\n",
      "not_interacted_weekly_rank 0.23611768841357905\n",
      "colour_group_code 0.07000577294252078\n",
      "perceived_colour_value_id 0.02191128476281501\n",
      "perceived_colour_master_id 0.006806143313523368\n",
      "section_no 0.003853333012780604\n",
      "department_no 0.0022123438333883838\n",
      "index_code 0.0019544839346168526\n",
      "article_id 0.0019433311343308637\n",
      "Active 0.0\n",
      "Starting submission process...\n",
      "Calculating predictions...\n",
      "Done.\n",
      "Creating submission...\n",
      "Done.\n",
      "Saving submission...\n",
      "Done.\n"
     ]
    },
    {
     "name": "stderr",
     "output_type": "stream",
     "text": [
      "100%|██████████| 57.7M/57.7M [00:27<00:00, 2.22MB/s]\n"
     ]
    },
    {
     "name": "stdout",
     "output_type": "stream",
     "text": [
      "Successfully submitted to H&M Personalized Fashion RecommendationsSubmission saved and submitted to Kaggle.\n",
      "k =  170\n",
      "Percentage of real transactions:  0.015694676036973457\n",
      "Mergining features...\n",
      "Done.\n",
      "Sorting data...\n",
      "Done.\n",
      "Preparing for training...\n",
      "Done.\n",
      "Training model...\n",
      "[LightGBM] [Info] Auto-choosing row-wise multi-threading, the overhead of testing was 1.902421 seconds.\n",
      "You can set `force_row_wise=true` to remove the overhead.\n",
      "And if memory is not enough, you can set `force_col_wise=true`.\n",
      "[LightGBM] [Info] Total Bins 1060\n",
      "[LightGBM] [Info] Number of data points in the train set: 127307443, number of used features: 19\n",
      "Feature importance:\n",
      "bestseller_rank 0.6513893637324322\n",
      "not_interacted_weekly_rank 0.23445156808012213\n",
      "colour_group_code 0.07645100416560997\n",
      "perceived_colour_value_id 0.02390239712009938\n",
      "perceived_colour_master_id 0.007003526664250258\n",
      "department_no 0.002231207379935296\n",
      "index_code 0.0021399747526679195\n",
      "section_no 0.0012382192867724507\n",
      "article_id 0.0011927388181104473\n",
      "garment_group_no 0.0\n",
      "Starting submission process...\n",
      "Calculating predictions...\n",
      "Done.\n",
      "Creating submission...\n",
      "Done.\n",
      "Saving submission...\n",
      "Done.\n"
     ]
    },
    {
     "name": "stderr",
     "output_type": "stream",
     "text": [
      "100%|██████████| 57.7M/57.7M [00:27<00:00, 2.20MB/s]\n"
     ]
    },
    {
     "name": "stdout",
     "output_type": "stream",
     "text": [
      "Successfully submitted to H&M Personalized Fashion RecommendationsSubmission saved and submitted to Kaggle.\n",
      "k =  180\n",
      "Percentage of real transactions:  0.014911478170315247\n",
      "Mergining features...\n",
      "Done.\n",
      "Sorting data...\n",
      "Done.\n",
      "Preparing for training...\n",
      "Done.\n",
      "Training model...\n",
      "[LightGBM] [Info] Auto-choosing row-wise multi-threading, the overhead of testing was 2.600785 seconds.\n",
      "You can set `force_row_wise=true` to remove the overhead.\n",
      "And if memory is not enough, you can set `force_col_wise=true`.\n",
      "[LightGBM] [Info] Total Bins 1056\n",
      "[LightGBM] [Info] Number of data points in the train set: 134170277, number of used features: 19\n",
      "Feature importance:\n",
      "bestseller_rank 0.6472671423264711\n",
      "not_interacted_weekly_rank 0.2315948496320048\n",
      "colour_group_code 0.08251597392234433\n",
      "perceived_colour_value_id 0.02466609192802566\n",
      "perceived_colour_master_id 0.007276025136722061\n",
      "index_code 0.002180045827081982\n",
      "department_no 0.002158314091758068\n",
      "article_id 0.0012071992245320435\n",
      "section_no 0.001134357911059914\n",
      "garment_group_no 0.0\n",
      "Starting submission process...\n",
      "Calculating predictions...\n",
      "Done.\n",
      "Creating submission...\n",
      "Done.\n",
      "Saving submission...\n",
      "Done.\n"
     ]
    },
    {
     "name": "stderr",
     "output_type": "stream",
     "text": [
      "100%|██████████| 57.7M/57.7M [00:26<00:00, 2.27MB/s]\n"
     ]
    },
    {
     "name": "stdout",
     "output_type": "stream",
     "text": [
      "Successfully submitted to H&M Personalized Fashion RecommendationsSubmission saved and submitted to Kaggle.\n",
      "k =  190\n",
      "Percentage of real transactions:  0.014202789912926549\n",
      "Mergining features...\n",
      "Done.\n",
      "Sorting data...\n",
      "Done.\n",
      "Preparing for training...\n",
      "Done.\n",
      "Training model...\n",
      "[LightGBM] [Info] Auto-choosing row-wise multi-threading, the overhead of testing was 3.216797 seconds.\n",
      "You can set `force_row_wise=true` to remove the overhead.\n",
      "And if memory is not enough, you can set `force_col_wise=true`.\n",
      "[LightGBM] [Info] Total Bins 1060\n",
      "[LightGBM] [Info] Number of data points in the train set: 141032599, number of used features: 19\n",
      "Feature importance:\n",
      "bestseller_rank 0.6462482400317187\n",
      "not_interacted_weekly_rank 0.23144190643953944\n",
      "colour_group_code 0.08418448615687522\n",
      "perceived_colour_value_id 0.023368885799082854\n",
      "perceived_colour_master_id 0.007645953797654852\n",
      "index_code 0.0020890197178054484\n",
      "department_no 0.0019903189211225945\n",
      "article_id 0.0019768533233885653\n",
      "section_no 0.0010543358128123179\n",
      "garment_group_no 0.0\n",
      "Starting submission process...\n",
      "Calculating predictions...\n",
      "Done.\n",
      "Creating submission...\n",
      "Done.\n",
      "Saving submission...\n",
      "Done.\n"
     ]
    },
    {
     "name": "stderr",
     "output_type": "stream",
     "text": [
      "100%|██████████| 57.8M/57.8M [00:26<00:00, 2.26MB/s]\n"
     ]
    },
    {
     "name": "stdout",
     "output_type": "stream",
     "text": [
      "Successfully submitted to H&M Personalized Fashion RecommendationsSubmission saved and submitted to Kaggle.\n",
      "k =  200\n",
      "Percentage of real transactions:  0.013559513782687575\n",
      "Mergining features...\n",
      "Done.\n",
      "Sorting data...\n",
      "Done.\n",
      "Preparing for training...\n",
      "Done.\n",
      "Training model...\n",
      "[LightGBM] [Info] Auto-choosing row-wise multi-threading, the overhead of testing was 3.293673 seconds.\n",
      "You can set `force_row_wise=true` to remove the overhead.\n",
      "And if memory is not enough, you can set `force_col_wise=true`.\n",
      "[LightGBM] [Info] Total Bins 1052\n",
      "[LightGBM] [Info] Number of data points in the train set: 147883693, number of used features: 19\n",
      "Feature importance:\n",
      "bestseller_rank 0.6448497293239519\n",
      "not_interacted_weekly_rank 0.23211452813484848\n",
      "colour_group_code 0.08603873207334307\n",
      "perceived_colour_value_id 0.022603163479539466\n",
      "perceived_colour_master_id 0.00818751815502367\n",
      "index_code 0.002185755223015063\n",
      "department_no 0.002130059828091432\n",
      "article_id 0.0018905137821869122\n",
      "garment_group_no 0.0\n",
      "FN 0.0\n",
      "Starting submission process...\n",
      "Calculating predictions...\n",
      "Done.\n",
      "Creating submission...\n",
      "Done.\n",
      "Saving submission...\n",
      "Done.\n"
     ]
    },
    {
     "name": "stderr",
     "output_type": "stream",
     "text": [
      "100%|██████████| 57.8M/57.8M [00:26<00:00, 2.28MB/s]\n"
     ]
    },
    {
     "name": "stdout",
     "output_type": "stream",
     "text": [
      "Successfully submitted to H&M Personalized Fashion RecommendationsSubmission saved and submitted to Kaggle.\n"
     ]
    }
   ],
   "source": [
    "# Get bestsellers from previous week\n",
    "bestsellers_last_week = \\\n",
    "    bestsellers_previous_week[bestsellers_previous_week['week'] == bestsellers_previous_week['week'].max()]['article_id'].tolist()\n",
    "\n",
    "niw_ranks = candidates_niw_loaded[['week', 'article_id', 'not_interacted_weekly_rank']].drop_duplicates()\n",
    "\n",
    "for k in range(20, 201, 10):\n",
    "    print('k = ', k)\n",
    "\n",
    "    # Get top k similar not bought articles for each customer\n",
    "    candidates_niw = candidates_niw_loaded.groupby(['week', 'customer_id']).head(k)\\\n",
    "        .drop(columns=['strategy', 'not_interacted_weekly_rank'])\n",
    "\n",
    "    candidates_niw['week'] = candidates_niw['week'] + 1\n",
    "\n",
    "    candidates_niw['t_dat'] = '2020-07-15'\n",
    "    candidates_niw['price'] = 0\n",
    "    candidates_niw['sales_channel_id'] = 2\n",
    "\n",
    "    # Prepare data for model\n",
    "    train_X, train_y, test_X, test, train_baskets = prepare_data(\n",
    "        transactions,\n",
    "        bestsellers_previous_week,\n",
    "        candidates=[candidates_last_purchase, candidates_bestsellers, candidates_niw], \n",
    "        features=[customers, articles, niw_ranks], \n",
    "        cols_to_use=columns_to_use\n",
    "        )\n",
    "    \n",
    "    del candidates_niw\n",
    "    gc.collect()\n",
    "    \n",
    "    # Train model\n",
    "    ranker = train_model(\n",
    "        train_X, \n",
    "        train_y, \n",
    "        train_baskets, \n",
    "        model_params, \n",
    "        columns_to_use, \n",
    "        show_importance=10\n",
    "    )\n",
    "\n",
    "    gc.collect()\n",
    "\n",
    "    # Make submission\n",
    "    make_submission(customers, test, test_X, ranker, bestsellers_last_week, f'submission_niw_colour_group_{k}')\n",
    "\n",
    "    del train_X, train_y, test_X, test, train_baskets, ranker\n",
    "    gc.collect()\n",
    "\n"
   ]
  },
  {
   "cell_type": "code",
   "execution_count": 9,
   "metadata": {},
   "outputs": [
    {
     "name": "stdout",
     "output_type": "stream",
     "text": [
      "fileName                                 date                 description                       status    publicScore  privateScore  \n",
      "---------------------------------------  -------------------  --------------------------------  --------  -----------  ------------  \n",
      "submission_niw_colour_group_200.csv.gz   2023-12-14 20:20:44  submission_niw_colour_group_200   pending                              \n",
      "submission_niw_colour_group_190.csv.gz   2023-12-14 20:08:46  submission_niw_colour_group_190   complete  0.0156       0.01542       \n",
      "submission_niw_colour_group_180.csv.gz   2023-12-14 19:57:38  submission_niw_colour_group_180   complete  0.01562      0.01543       \n",
      "submission_niw_colour_group_170.csv.gz   2023-12-14 19:46:27  submission_niw_colour_group_170   complete  0.01537      0.0151        \n",
      "submission_niw_colour_group_160.csv.gz   2023-12-14 19:35:46  submission_niw_colour_group_160   complete  0.01541      0.01513       \n",
      "submission_niw_colour_group_150.csv.gz   2023-12-14 19:25:03  submission_niw_colour_group_150   complete  0.01542      0.01522       \n",
      "submission_niw_colour_group_140.csv.gz   2023-12-14 19:14:37  submission_niw_colour_group_140   complete  0.01663      0.01669       \n",
      "submission_niw_colour_group_130.csv.gz   2023-12-14 19:05:15  submission_niw_colour_group_130   complete  0.01175      0.0119        \n",
      "submission_niw_colour_group_120.csv.gz   2023-12-14 18:56:12  submission_niw_colour_group_120   complete  0.01632      0.01611       \n",
      "submission_niw_colour_group_110.csv.gz   2023-12-14 18:47:50  submission_niw_colour_group_110   complete  0.01634      0.01612       \n",
      "submission_niw_colour_group_100.csv.gz   2023-12-14 18:39:58  submission_niw_colour_group_100   complete  0.01729      0.01725       \n",
      "submission_niw_colour_group_90.csv.gz    2023-12-14 18:35:33  submission_niw_colour_group_90    complete  0.01647      0.0162        \n",
      "submission_niw_colour_group_80.csv.gz    2023-12-14 18:31:42  submission_niw_colour_group_80    complete  0.01755      0.01739       \n",
      "submission_niw_colour_group_70.csv.gz    2023-12-14 18:28:27  submission_niw_colour_group_70    complete  0.01755      0.0175        \n",
      "submission_niw_colour_group_60.csv.gz    2023-12-14 18:25:25  submission_niw_colour_group_60    complete  0.01806      0.01798       \n",
      "submission_niw_colour_group_50.csv.gz    2023-12-14 18:22:42  submission_niw_colour_group_50    complete  0.01776      0.01773       \n",
      "submission_niw_colour_group_40.csv.gz    2023-12-14 18:20:19  submission_niw_colour_group_40    complete  0.01778      0.01756       \n",
      "submission_niw_colour_group_30.csv.gz    2023-12-14 18:18:06  submission_niw_colour_group_30    complete  0.01731      0.01709       \n",
      "submission_niw_colour_group_20.csv.gz    2023-12-14 18:15:57  submission_niw_colour_group_20    complete  0.01265      0.01268       \n"
     ]
    }
   ],
   "source": [
    "!kaggle competitions submissions -c h-and-m-personalized-fashion-recommendations | head -n 21"
   ]
  },
  {
   "cell_type": "code",
   "execution_count": null,
   "metadata": {},
   "outputs": [],
   "source": []
  }
 ],
 "metadata": {
  "kernelspec": {
   "display_name": "AIPRO",
   "language": "python",
   "name": "python3"
  },
  "language_info": {
   "codemirror_mode": {
    "name": "ipython",
    "version": 3
   },
   "file_extension": ".py",
   "mimetype": "text/x-python",
   "name": "python",
   "nbconvert_exporter": "python",
   "pygments_lexer": "ipython3",
   "version": "3.11.5"
  }
 },
 "nbformat": 4,
 "nbformat_minor": 2
}
