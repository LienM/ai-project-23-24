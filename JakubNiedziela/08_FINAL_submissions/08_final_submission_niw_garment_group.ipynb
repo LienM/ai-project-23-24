{
 "cells": [
  {
   "cell_type": "code",
   "execution_count": 1,
   "metadata": {},
   "outputs": [],
   "source": [
    "import pandas as pd\n",
    "import warnings\n",
    "import json\n",
    "warnings.simplefilter(action='ignore', category=FutureWarning)\n",
    "\n",
    "import os\n",
    "os.chdir('../')\n",
    "from model import *\n",
    "os.chdir('../../data/')"
   ]
  },
  {
   "cell_type": "code",
   "execution_count": 2,
   "metadata": {},
   "outputs": [
    {
     "name": "stdout",
     "output_type": "stream",
     "text": [
      "First week num:  0 \n",
      "Last week num:  104 \n",
      "\n"
     ]
    }
   ],
   "source": [
    "transactions = pd.read_pickle('../data/compressed_data/transactions_train.pkl')\n",
    "customers = pd.read_pickle('../data/compressed_data/customers.pkl')\n",
    "articles = pd.read_pickle('../data/compressed_data/articles.pkl')\n",
    "\n",
    "transactions['week'] = 104 - (transactions.t_dat.max() - transactions.t_dat).dt.days // 7\n",
    "\n",
    "print('First week num: ', transactions.week.min(), '\\nLast week num: ', transactions.week.max(), '\\n')"
   ]
  },
  {
   "cell_type": "code",
   "execution_count": 3,
   "metadata": {},
   "outputs": [],
   "source": [
    "# Test week is week after last week in train data\n",
    "test_week = transactions.week.max() + 1\n",
    "\n",
    "# Filter transactions to last 10 weeks (most recent data)\n",
    "transactions = transactions[transactions.week > transactions.week.max() - 10]"
   ]
  },
  {
   "cell_type": "code",
   "execution_count": 4,
   "metadata": {},
   "outputs": [
    {
     "data": {
      "text/plain": [
       "Index(['t_dat', 'customer_id', 'article_id', 'price', 'sales_channel_id',\n",
       "       'week'],\n",
       "      dtype='object')"
      ]
     },
     "execution_count": 4,
     "metadata": {},
     "output_type": "execute_result"
    }
   ],
   "source": [
    "transactions.columns"
   ]
  },
  {
   "cell_type": "code",
   "execution_count": 5,
   "metadata": {},
   "outputs": [],
   "source": [
    "# Load radek's candidates\n",
    "candidates_last_purchase = pd.read_csv('../data/candidates/radek_last_purchase.csv')\n",
    "candidates_bestsellers = pd.read_csv('../data/candidates/radek_bestsellers.csv')\n",
    "bestsellers_previous_week = pd.read_csv('../data/candidates/radek_bestsellers_previous_week.csv')"
   ]
  },
  {
   "cell_type": "markdown",
   "metadata": {},
   "source": [
    "# Load my candidates"
   ]
  },
  {
   "cell_type": "code",
   "execution_count": 6,
   "metadata": {},
   "outputs": [],
   "source": [
    "# Load my candidates\n",
    "candidates_niw_loaded = pd.read_csv('../data/candidates_200_ranks/niw_candidates_garment_group_name.csv')"
   ]
  },
  {
   "cell_type": "markdown",
   "metadata": {},
   "source": [
    "## Submission Loop -- check best k for kaggle"
   ]
  },
  {
   "cell_type": "code",
   "execution_count": 7,
   "metadata": {},
   "outputs": [],
   "source": [
    "columns_to_use = [\n",
    "    'article_id', \n",
    "    'product_type_no', \n",
    "    'graphical_appearance_no', \n",
    "    'colour_group_code', \n",
    "    'perceived_colour_value_id',\n",
    "    'perceived_colour_master_id', \n",
    "    'department_no', \n",
    "    'index_code',\n",
    "    'index_group_no', \n",
    "    'section_no', \n",
    "    'garment_group_no', \n",
    "    'FN', \n",
    "    'Active',\n",
    "    'club_member_status', \n",
    "    'fashion_news_frequency', \n",
    "    'age', \n",
    "    'postal_code', \n",
    "    'bestseller_rank',\n",
    "    'not_interacted_weekly_rank'\n",
    "]\n",
    "\n",
    "model_params = {\n",
    "    'objective': 'lambdarank',\n",
    "    'metric': 'ndcg',\n",
    "    'boosting_type': 'dart',\n",
    "    'n_estimators': 1,\n",
    "    'importance_type': 'gain'\n",
    "}"
   ]
  },
  {
   "cell_type": "code",
   "execution_count": 9,
   "metadata": {},
   "outputs": [
    {
     "name": "stdout",
     "output_type": "stream",
     "text": [
      "k =  20\n",
      "Percentage of real transactions:  0.07313803995527318\n",
      "Mergining features...\n",
      "Done.\n",
      "Sorting data...\n",
      "Done.\n",
      "Preparing for training...\n",
      "Done.\n",
      "Training model...\n",
      "[LightGBM] [Info] Auto-choosing row-wise multi-threading, the overhead of testing was 0.238352 seconds.\n",
      "You can set `force_row_wise=true` to remove the overhead.\n",
      "And if memory is not enough, you can set `force_col_wise=true`.\n",
      "[LightGBM] [Info] Total Bins 1133\n",
      "[LightGBM] [Info] Number of data points in the train set: 24531862, number of used features: 19\n",
      "Feature importance:\n",
      "bestseller_rank 0.8371640800628387\n",
      "not_interacted_weekly_rank 0.10473969797965298\n",
      "index_code 0.016873756326542606\n",
      "department_no 0.010063857078205387\n",
      "garment_group_no 0.007863416770449822\n",
      "article_id 0.007464027003561572\n",
      "product_type_no 0.005771634475179649\n",
      "perceived_colour_value_id 0.0029643150920194146\n",
      "colour_group_code 0.0026579830286630347\n",
      "perceived_colour_master_id 0.0023870990772154634\n",
      "Starting submission process...\n",
      "Calculating predictions...\n",
      "Done.\n",
      "Creating submission...\n",
      "Done.\n",
      "Saving submission...\n",
      "Done.\n"
     ]
    },
    {
     "name": "stderr",
     "output_type": "stream",
     "text": [
      "100%|██████████| 58.0M/58.0M [00:27<00:00, 2.25MB/s]\n"
     ]
    },
    {
     "name": "stdout",
     "output_type": "stream",
     "text": [
      "Successfully submitted to H&M Personalized Fashion RecommendationsSubmission saved and submitted to Kaggle.\n",
      "k =  30\n",
      "Percentage of real transactions:  0.05909607318861378\n",
      "Mergining features...\n",
      "Done.\n",
      "Sorting data...\n",
      "Done.\n",
      "Preparing for training...\n",
      "Done.\n",
      "Training model...\n",
      "[LightGBM] [Info] Auto-choosing row-wise multi-threading, the overhead of testing was 0.292496 seconds.\n",
      "You can set `force_row_wise=true` to remove the overhead.\n",
      "And if memory is not enough, you can set `force_col_wise=true`.\n",
      "[LightGBM] [Info] Total Bins 1123\n",
      "[LightGBM] [Info] Number of data points in the train set: 31262091, number of used features: 19\n",
      "Feature importance:\n",
      "bestseller_rank 0.8033436380115033\n",
      "not_interacted_weekly_rank 0.12861269065385017\n",
      "index_code 0.02472004202813619\n",
      "department_no 0.014068760379298304\n",
      "article_id 0.010128278379545993\n",
      "garment_group_no 0.008591878745881545\n",
      "product_type_no 0.0036044641598853033\n",
      "graphical_appearance_no 0.002423293233135136\n",
      "colour_group_code 0.0016568054770928996\n",
      "section_no 0.0014994633603472231\n",
      "Starting submission process...\n",
      "Calculating predictions...\n",
      "Done.\n",
      "Creating submission...\n",
      "Done.\n",
      "Saving submission...\n",
      "Done.\n"
     ]
    },
    {
     "name": "stderr",
     "output_type": "stream",
     "text": [
      "100%|██████████| 58.1M/58.1M [00:26<00:00, 2.29MB/s]\n"
     ]
    },
    {
     "name": "stdout",
     "output_type": "stream",
     "text": [
      "Successfully submitted to H&M Personalized Fashion RecommendationsSubmission saved and submitted to Kaggle.\n",
      "k =  40\n",
      "Percentage of real transactions:  0.04950112336871991\n",
      "Mergining features...\n",
      "Done.\n",
      "Sorting data...\n",
      "Done.\n",
      "Preparing for training...\n",
      "Done.\n",
      "Training model...\n",
      "[LightGBM] [Info] Auto-choosing row-wise multi-threading, the overhead of testing was 0.352327 seconds.\n",
      "You can set `force_row_wise=true` to remove the overhead.\n",
      "And if memory is not enough, you can set `force_col_wise=true`.\n",
      "[LightGBM] [Info] Total Bins 1110\n",
      "[LightGBM] [Info] Number of data points in the train set: 38011697, number of used features: 19\n",
      "Feature importance:\n",
      "bestseller_rank 0.7709836757172868\n",
      "not_interacted_weekly_rank 0.15581477848393835\n",
      "garment_group_no 0.022933084295029077\n",
      "index_code 0.021607073279271728\n",
      "department_no 0.013873314977602814\n",
      "article_id 0.009380022795310717\n",
      "product_type_no 0.0030197336094880335\n",
      "graphical_appearance_no 0.0014912539747487213\n",
      "perceived_colour_master_id 0.0008970628673237806\n",
      "Active 0.0\n",
      "Starting submission process...\n",
      "Calculating predictions...\n",
      "Done.\n",
      "Creating submission...\n",
      "Done.\n",
      "Saving submission...\n",
      "Done.\n"
     ]
    },
    {
     "name": "stderr",
     "output_type": "stream",
     "text": [
      "100%|██████████| 58.1M/58.1M [00:26<00:00, 2.28MB/s]\n"
     ]
    },
    {
     "name": "stdout",
     "output_type": "stream",
     "text": [
      "Successfully submitted to H&M Personalized Fashion RecommendationsSubmission saved and submitted to Kaggle.\n",
      "k =  50\n",
      "Percentage of real transactions:  0.042560897021862616\n",
      "Mergining features...\n",
      "Done.\n",
      "Sorting data...\n",
      "Done.\n",
      "Preparing for training...\n",
      "Done.\n",
      "Training model...\n",
      "[LightGBM] [Info] Auto-choosing row-wise multi-threading, the overhead of testing was 0.685588 seconds.\n",
      "You can set `force_row_wise=true` to remove the overhead.\n",
      "And if memory is not enough, you can set `force_col_wise=true`.\n",
      "[LightGBM] [Info] Total Bins 1109\n",
      "[LightGBM] [Info] Number of data points in the train set: 44792804, number of used features: 19\n",
      "Feature importance:\n",
      "bestseller_rank 0.7478447588168841\n",
      "not_interacted_weekly_rank 0.1717372685053227\n",
      "index_code 0.02405826998916822\n",
      "garment_group_no 0.023986267635452294\n",
      "department_no 0.012901657305928719\n",
      "article_id 0.006357378742846389\n",
      "graphical_appearance_no 0.006004412235942317\n",
      "product_type_no 0.0041618540774075756\n",
      "colour_group_code 0.0018998578370326739\n",
      "perceived_colour_master_id 0.0010482748540150218\n",
      "Starting submission process...\n",
      "Calculating predictions...\n",
      "Done.\n",
      "Creating submission...\n",
      "Done.\n",
      "Saving submission...\n",
      "Done.\n"
     ]
    },
    {
     "name": "stderr",
     "output_type": "stream",
     "text": [
      "100%|██████████| 58.1M/58.1M [00:27<00:00, 2.22MB/s]\n"
     ]
    },
    {
     "name": "stdout",
     "output_type": "stream",
     "text": [
      "Successfully submitted to H&M Personalized Fashion RecommendationsSubmission saved and submitted to Kaggle.\n",
      "k =  60\n",
      "Percentage of real transactions:  0.03731074540947842\n",
      "Mergining features...\n",
      "Done.\n",
      "Sorting data...\n",
      "Done.\n",
      "Preparing for training...\n",
      "Done.\n",
      "Training model...\n",
      "[LightGBM] [Info] Auto-choosing row-wise multi-threading, the overhead of testing was 0.624765 seconds.\n",
      "You can set `force_row_wise=true` to remove the overhead.\n",
      "And if memory is not enough, you can set `force_col_wise=true`.\n",
      "[LightGBM] [Info] Total Bins 1094\n",
      "[LightGBM] [Info] Number of data points in the train set: 51555504, number of used features: 19\n",
      "Feature importance:\n",
      "bestseller_rank 0.7321601090454369\n",
      "not_interacted_weekly_rank 0.18384578247443087\n",
      "garment_group_no 0.03067092901937698\n",
      "index_code 0.028751767061759245\n",
      "department_no 0.012467070361505753\n",
      "article_id 0.009472755306041244\n",
      "colour_group_code 0.0017050490874517198\n",
      "perceived_colour_value_id 0.0009265376439972947\n",
      "Active 0.0\n",
      "FN 0.0\n",
      "Starting submission process...\n",
      "Calculating predictions...\n",
      "Done.\n",
      "Creating submission...\n",
      "Done.\n",
      "Saving submission...\n",
      "Done.\n"
     ]
    },
    {
     "name": "stderr",
     "output_type": "stream",
     "text": [
      "100%|██████████| 58.1M/58.1M [00:33<00:00, 1.82MB/s]\n"
     ]
    },
    {
     "name": "stdout",
     "output_type": "stream",
     "text": [
      "Successfully submitted to H&M Personalized Fashion RecommendationsSubmission saved and submitted to Kaggle.\n",
      "k =  70\n",
      "Percentage of real transactions:  0.033187280354526894\n",
      "Mergining features...\n",
      "Done.\n",
      "Sorting data...\n",
      "Done.\n",
      "Preparing for training...\n",
      "Done.\n",
      "Training model...\n",
      "[LightGBM] [Info] Auto-choosing row-wise multi-threading, the overhead of testing was 0.930021 seconds.\n",
      "You can set `force_row_wise=true` to remove the overhead.\n",
      "And if memory is not enough, you can set `force_col_wise=true`.\n",
      "[LightGBM] [Info] Total Bins 1089\n",
      "[LightGBM] [Info] Number of data points in the train set: 58380172, number of used features: 19\n",
      "Feature importance:\n",
      "bestseller_rank 0.719585342478405\n",
      "not_interacted_weekly_rank 0.19298219461255497\n",
      "garment_group_no 0.03667178602795795\n",
      "index_code 0.030724001575606574\n",
      "department_no 0.008074802345444202\n",
      "article_id 0.007465370094210505\n",
      "colour_group_code 0.002417577904777417\n",
      "perceived_colour_value_id 0.0011244177163983653\n",
      "product_type_no 0.0009545072446449911\n",
      "Active 0.0\n",
      "Starting submission process...\n",
      "Calculating predictions...\n",
      "Done.\n",
      "Creating submission...\n",
      "Done.\n",
      "Saving submission...\n",
      "Done.\n"
     ]
    },
    {
     "name": "stderr",
     "output_type": "stream",
     "text": [
      "100%|██████████| 57.8M/57.8M [00:27<00:00, 2.19MB/s]\n"
     ]
    },
    {
     "name": "stdout",
     "output_type": "stream",
     "text": [
      "Successfully submitted to H&M Personalized Fashion RecommendationsSubmission saved and submitted to Kaggle.\n",
      "k =  80\n",
      "Percentage of real transactions:  0.029887169555957216\n",
      "Mergining features...\n",
      "Done.\n",
      "Sorting data...\n",
      "Done.\n",
      "Preparing for training...\n",
      "Done.\n",
      "Training model...\n",
      "[LightGBM] [Info] Auto-choosing row-wise multi-threading, the overhead of testing was 0.816730 seconds.\n",
      "You can set `force_row_wise=true` to remove the overhead.\n",
      "And if memory is not enough, you can set `force_col_wise=true`.\n",
      "[LightGBM] [Info] Total Bins 1080\n",
      "[LightGBM] [Info] Number of data points in the train set: 65215686, number of used features: 19\n",
      "Feature importance:\n",
      "bestseller_rank 0.7055780831320639\n",
      "not_interacted_weekly_rank 0.19802947332227464\n",
      "garment_group_no 0.039164378962087666\n",
      "index_code 0.03615571390298146\n",
      "department_no 0.009620594727352544\n",
      "article_id 0.006004040068376256\n",
      "perceived_colour_value_id 0.0019082149317122292\n",
      "product_type_no 0.0018465067817795891\n",
      "colour_group_code 0.0016929941713716896\n",
      "Active 0.0\n",
      "Starting submission process...\n",
      "Calculating predictions...\n",
      "Done.\n",
      "Creating submission...\n",
      "Done.\n",
      "Saving submission...\n",
      "Done.\n"
     ]
    },
    {
     "name": "stderr",
     "output_type": "stream",
     "text": [
      "100%|██████████| 57.8M/57.8M [00:27<00:00, 2.18MB/s]\n"
     ]
    },
    {
     "name": "stdout",
     "output_type": "stream",
     "text": [
      "Successfully submitted to H&M Personalized Fashion RecommendationsSubmission saved and submitted to Kaggle.\n",
      "k =  90\n",
      "Percentage of real transactions:  0.027193367898264962\n",
      "Mergining features...\n",
      "Done.\n",
      "Sorting data...\n",
      "Done.\n",
      "Preparing for training...\n",
      "Done.\n",
      "Training model...\n",
      "[LightGBM] [Info] Auto-choosing row-wise multi-threading, the overhead of testing was 1.190388 seconds.\n",
      "You can set `force_row_wise=true` to remove the overhead.\n",
      "And if memory is not enough, you can set `force_col_wise=true`.\n",
      "[LightGBM] [Info] Total Bins 1073\n",
      "[LightGBM] [Info] Number of data points in the train set: 72047682, number of used features: 19\n",
      "Feature importance:\n",
      "bestseller_rank 0.6954228868461579\n",
      "not_interacted_weekly_rank 0.19843714705582635\n",
      "index_code 0.04399877328169603\n",
      "garment_group_no 0.04315153110446633\n",
      "article_id 0.00866126279052218\n",
      "department_no 0.0060033148061884025\n",
      "colour_group_code 0.002489116472698861\n",
      "perceived_colour_value_id 0.0009587656347207313\n",
      "product_type_no 0.0008772020077231957\n",
      "club_member_status 0.0\n",
      "Starting submission process...\n",
      "Calculating predictions...\n",
      "Done.\n",
      "Creating submission...\n",
      "Done.\n",
      "Saving submission...\n",
      "Done.\n"
     ]
    },
    {
     "name": "stderr",
     "output_type": "stream",
     "text": [
      "100%|██████████| 57.7M/57.7M [00:28<00:00, 2.15MB/s]\n"
     ]
    },
    {
     "name": "stdout",
     "output_type": "stream",
     "text": [
      "Successfully submitted to H&M Personalized Fashion RecommendationsSubmission saved and submitted to Kaggle.\n",
      "k =  100\n",
      "Percentage of real transactions:  0.024939218853263653\n",
      "Mergining features...\n",
      "Done.\n",
      "Sorting data...\n",
      "Done.\n",
      "Preparing for training...\n",
      "Done.\n",
      "Training model...\n",
      "[LightGBM] [Info] Auto-choosing row-wise multi-threading, the overhead of testing was 0.991643 seconds.\n",
      "You can set `force_row_wise=true` to remove the overhead.\n",
      "And if memory is not enough, you can set `force_col_wise=true`.\n",
      "[LightGBM] [Info] Total Bins 1084\n",
      "[LightGBM] [Info] Number of data points in the train set: 78882360, number of used features: 19\n",
      "Feature importance:\n",
      "bestseller_rank 0.6920835543455535\n",
      "not_interacted_weekly_rank 0.1984833220270886\n",
      "garment_group_no 0.04567112055546736\n",
      "index_code 0.045031858374790026\n",
      "article_id 0.00730266886534743\n",
      "department_no 0.007107246216451123\n",
      "colour_group_code 0.0021150633680291748\n",
      "perceived_colour_value_id 0.0012710560037602816\n",
      "section_no 0.000934110243512562\n",
      "club_member_status 0.0\n",
      "Starting submission process...\n",
      "Calculating predictions...\n",
      "Done.\n",
      "Creating submission...\n",
      "Done.\n",
      "Saving submission...\n",
      "Done.\n"
     ]
    },
    {
     "name": "stderr",
     "output_type": "stream",
     "text": [
      "100%|██████████| 57.9M/57.9M [00:28<00:00, 2.10MB/s]\n"
     ]
    },
    {
     "name": "stdout",
     "output_type": "stream",
     "text": [
      "Successfully submitted to H&M Personalized Fashion RecommendationsSubmission saved and submitted to Kaggle.\n",
      "k =  110\n",
      "Percentage of real transactions:  0.023019577772344323\n",
      "Mergining features...\n",
      "Done.\n",
      "Sorting data...\n",
      "Done.\n",
      "Preparing for training...\n",
      "Done.\n",
      "Training model...\n",
      "[LightGBM] [Info] Auto-choosing row-wise multi-threading, the overhead of testing was 1.439195 seconds.\n",
      "You can set `force_row_wise=true` to remove the overhead.\n",
      "And if memory is not enough, you can set `force_col_wise=true`.\n",
      "[LightGBM] [Info] Total Bins 1065\n",
      "[LightGBM] [Info] Number of data points in the train set: 85738281, number of used features: 19\n",
      "Feature importance:\n",
      "bestseller_rank 0.6834187863638473\n",
      "not_interacted_weekly_rank 0.20022506062423737\n",
      "index_code 0.05070042115999537\n",
      "garment_group_no 0.04743629775853273\n",
      "article_id 0.006894560549572394\n",
      "department_no 0.006070330027504299\n",
      "colour_group_code 0.0025314125682330694\n",
      "perceived_colour_value_id 0.0010270676285535063\n",
      "section_no 0.0009731215230426187\n",
      "perceived_colour_master_id 0.0007229417964813002\n",
      "Starting submission process...\n",
      "Calculating predictions...\n",
      "Done.\n",
      "Creating submission...\n",
      "Done.\n",
      "Saving submission...\n",
      "Done.\n"
     ]
    },
    {
     "name": "stderr",
     "output_type": "stream",
     "text": [
      "100%|██████████| 57.8M/57.8M [00:28<00:00, 2.14MB/s]\n"
     ]
    },
    {
     "name": "stdout",
     "output_type": "stream",
     "text": [
      "Successfully submitted to H&M Personalized Fashion RecommendationsSubmission saved and submitted to Kaggle.\n",
      "k =  120\n",
      "Percentage of real transactions:  0.02137263500712013\n",
      "Mergining features...\n",
      "Done.\n",
      "Sorting data...\n",
      "Done.\n",
      "Preparing for training...\n",
      "Done.\n",
      "Training model...\n",
      "[LightGBM] [Info] Auto-choosing row-wise multi-threading, the overhead of testing was 1.323563 seconds.\n",
      "You can set `force_row_wise=true` to remove the overhead.\n",
      "And if memory is not enough, you can set `force_col_wise=true`.\n",
      "[LightGBM] [Info] Total Bins 1082\n",
      "[LightGBM] [Info] Number of data points in the train set: 92603413, number of used features: 19\n",
      "Feature importance:\n",
      "bestseller_rank 0.6722491535210902\n",
      "not_interacted_weekly_rank 0.2015902208910687\n",
      "index_code 0.05988609484824939\n",
      "garment_group_no 0.04630683551749789\n",
      "department_no 0.008817141777345962\n",
      "article_id 0.005744638298031462\n",
      "colour_group_code 0.002509683683981189\n",
      "perceived_colour_value_id 0.0009791386995808432\n",
      "section_no 0.00097400886044308\n",
      "graphical_appearance_no 0.0009430839027113505\n",
      "Starting submission process...\n",
      "Calculating predictions...\n",
      "Done.\n",
      "Creating submission...\n",
      "Done.\n",
      "Saving submission...\n",
      "Done.\n"
     ]
    },
    {
     "name": "stderr",
     "output_type": "stream",
     "text": [
      "100%|██████████| 57.9M/57.9M [00:31<00:00, 1.91MB/s]  \n"
     ]
    },
    {
     "name": "stdout",
     "output_type": "stream",
     "text": [
      "Successfully submitted to H&M Personalized Fashion RecommendationsSubmission saved and submitted to Kaggle.\n",
      "k =  130\n",
      "Percentage of real transactions:  0.01994632779461042\n",
      "Mergining features...\n",
      "Done.\n",
      "Sorting data...\n",
      "Done.\n",
      "Preparing for training...\n",
      "Done.\n",
      "Training model...\n",
      "[LightGBM] [Info] Auto-choosing row-wise multi-threading, the overhead of testing was 1.543869 seconds.\n",
      "You can set `force_row_wise=true` to remove the overhead.\n",
      "And if memory is not enough, you can set `force_col_wise=true`.\n",
      "[LightGBM] [Info] Total Bins 1069\n",
      "[LightGBM] [Info] Number of data points in the train set: 99464155, number of used features: 19\n",
      "Feature importance:\n",
      "bestseller_rank 0.6628497065767135\n",
      "not_interacted_weekly_rank 0.19890060950483576\n",
      "garment_group_no 0.04747933106579188\n",
      "index_code 0.04388867831834405\n",
      "section_no 0.03269908729505839\n",
      "department_no 0.007661214870504302\n",
      "article_id 0.0034635855846398282\n",
      "colour_group_code 0.002204222940992042\n",
      "perceived_colour_value_id 0.0008535638431202678\n",
      "club_member_status 0.0\n",
      "Starting submission process...\n",
      "Calculating predictions...\n",
      "Done.\n",
      "Creating submission...\n",
      "Done.\n",
      "Saving submission...\n",
      "Done.\n"
     ]
    },
    {
     "name": "stderr",
     "output_type": "stream",
     "text": [
      "100%|██████████| 57.9M/57.9M [00:27<00:00, 2.21MB/s]\n"
     ]
    },
    {
     "name": "stdout",
     "output_type": "stream",
     "text": [
      "Successfully submitted to H&M Personalized Fashion RecommendationsSubmission saved and submitted to Kaggle.\n",
      "k =  140\n",
      "Percentage of real transactions:  0.01869947026973157\n",
      "Mergining features...\n",
      "Done.\n",
      "Sorting data...\n",
      "Done.\n",
      "Preparing for training...\n",
      "Done.\n",
      "Training model...\n",
      "[LightGBM] [Info] Auto-choosing row-wise multi-threading, the overhead of testing was 1.194948 seconds.\n",
      "You can set `force_row_wise=true` to remove the overhead.\n",
      "And if memory is not enough, you can set `force_col_wise=true`.\n",
      "[LightGBM] [Info] Total Bins 1059\n",
      "[LightGBM] [Info] Number of data points in the train set: 106317869, number of used features: 19\n",
      "Feature importance:\n",
      "bestseller_rank 0.6526212581792132\n",
      "not_interacted_weekly_rank 0.19464261891432663\n",
      "garment_group_no 0.04846154461696558\n",
      "index_code 0.04541451612800799\n",
      "section_no 0.0425078969406087\n",
      "department_no 0.007631235672790115\n",
      "article_id 0.004789329261895261\n",
      "product_type_no 0.0012586598419723274\n",
      "colour_group_code 0.001203973959552395\n",
      "index_group_no 0.0007347075380063447\n",
      "Starting submission process...\n",
      "Calculating predictions...\n",
      "Done.\n",
      "Creating submission...\n",
      "Done.\n",
      "Saving submission...\n",
      "Done.\n"
     ]
    },
    {
     "name": "stderr",
     "output_type": "stream",
     "text": [
      "100%|██████████| 57.9M/57.9M [00:28<00:00, 2.10MB/s]  \n"
     ]
    },
    {
     "name": "stdout",
     "output_type": "stream",
     "text": [
      "Successfully submitted to H&M Personalized Fashion RecommendationsSubmission saved and submitted to Kaggle.\n",
      "k =  150\n",
      "Percentage of real transactions:  0.017597884831013138\n",
      "Mergining features...\n",
      "Done.\n",
      "Sorting data...\n",
      "Done.\n",
      "Preparing for training...\n",
      "Done.\n",
      "Training model...\n",
      "[LightGBM] [Info] Auto-choosing row-wise multi-threading, the overhead of testing was 1.516209 seconds.\n",
      "You can set `force_row_wise=true` to remove the overhead.\n",
      "And if memory is not enough, you can set `force_col_wise=true`.\n",
      "[LightGBM] [Info] Total Bins 1059\n",
      "[LightGBM] [Info] Number of data points in the train set: 113183074, number of used features: 19\n",
      "Feature importance:\n",
      "bestseller_rank 0.6422564595387296\n",
      "not_interacted_weekly_rank 0.1915604641284624\n",
      "section_no 0.0535785878589331\n",
      "index_code 0.04827085732292667\n",
      "garment_group_no 0.04797898064369785\n",
      "department_no 0.0064149102871917255\n",
      "article_id 0.004813891812488046\n",
      "perceived_colour_value_id 0.0015490739742097855\n",
      "index_group_no 0.0012815581982456086\n",
      "product_type_no 0.0011943731097601093\n",
      "Starting submission process...\n",
      "Calculating predictions...\n",
      "Done.\n",
      "Creating submission...\n",
      "Done.\n",
      "Saving submission...\n",
      "Done.\n"
     ]
    },
    {
     "name": "stderr",
     "output_type": "stream",
     "text": [
      "100%|██████████| 57.8M/57.8M [00:26<00:00, 2.27MB/s]\n"
     ]
    },
    {
     "name": "stdout",
     "output_type": "stream",
     "text": [
      "Successfully submitted to H&M Personalized Fashion RecommendationsSubmission saved and submitted to Kaggle.\n",
      "k =  160\n",
      "Percentage of real transactions:  0.016619514810028064\n",
      "Mergining features...\n",
      "Done.\n",
      "Sorting data...\n",
      "Done.\n",
      "Preparing for training...\n",
      "Done.\n",
      "Training model...\n",
      "[LightGBM] [Info] Auto-choosing row-wise multi-threading, the overhead of testing was 1.321695 seconds.\n",
      "You can set `force_row_wise=true` to remove the overhead.\n",
      "And if memory is not enough, you can set `force_col_wise=true`.\n",
      "[LightGBM] [Info] Total Bins 1050\n",
      "[LightGBM] [Info] Number of data points in the train set: 120042477, number of used features: 19\n",
      "Feature importance:\n",
      "bestseller_rank 0.6352573989708393\n",
      "not_interacted_weekly_rank 0.19033712431216296\n",
      "section_no 0.06005484274429259\n",
      "index_code 0.05168869531168831\n",
      "garment_group_no 0.046810089324128626\n",
      "department_no 0.007709815793983516\n",
      "article_id 0.004064819174220418\n",
      "product_type_no 0.001777358642927651\n",
      "index_group_no 0.0013551501087305914\n",
      "colour_group_code 0.00094470561702602\n",
      "Starting submission process...\n",
      "Calculating predictions...\n",
      "Done.\n",
      "Creating submission...\n",
      "Done.\n",
      "Saving submission...\n",
      "Done.\n"
     ]
    },
    {
     "name": "stderr",
     "output_type": "stream",
     "text": [
      "100%|██████████| 57.9M/57.9M [00:30<00:00, 2.02MB/s]  \n"
     ]
    },
    {
     "name": "stdout",
     "output_type": "stream",
     "text": [
      "Successfully submitted to H&M Personalized Fashion RecommendationsSubmission saved and submitted to Kaggle.\n",
      "k =  170\n",
      "Percentage of real transactions:  0.01574425811908645\n",
      "Mergining features...\n",
      "Done.\n",
      "Sorting data...\n",
      "Done.\n",
      "Preparing for training...\n",
      "Done.\n",
      "Training model...\n",
      "[LightGBM] [Info] Auto-choosing row-wise multi-threading, the overhead of testing was 1.564840 seconds.\n",
      "You can set `force_row_wise=true` to remove the overhead.\n",
      "And if memory is not enough, you can set `force_col_wise=true`.\n",
      "[LightGBM] [Info] Total Bins 1056\n",
      "[LightGBM] [Info] Number of data points in the train set: 126901333, number of used features: 19\n",
      "Feature importance:\n",
      "bestseller_rank 0.6293902867854277\n",
      "not_interacted_weekly_rank 0.18858318844163552\n",
      "section_no 0.06604321477070992\n",
      "index_code 0.05311188018720648\n",
      "garment_group_no 0.047178524979903005\n",
      "department_no 0.007189320305973391\n",
      "article_id 0.004460505479196543\n",
      "product_type_no 0.0017738781920082468\n",
      "index_group_no 0.001382553449516079\n",
      "colour_group_code 0.0008866474084230517\n",
      "Starting submission process...\n",
      "Calculating predictions...\n",
      "Done.\n",
      "Creating submission...\n",
      "Done.\n",
      "Saving submission...\n",
      "Done.\n"
     ]
    },
    {
     "name": "stderr",
     "output_type": "stream",
     "text": [
      "100%|██████████| 57.9M/57.9M [00:29<00:00, 2.09MB/s]  \n"
     ]
    },
    {
     "name": "stdout",
     "output_type": "stream",
     "text": [
      "Successfully submitted to H&M Personalized Fashion RecommendationsSubmission saved and submitted to Kaggle.\n",
      "k =  180\n",
      "Percentage of real transactions:  0.014956262205544302\n",
      "Mergining features...\n",
      "Done.\n",
      "Sorting data...\n",
      "Done.\n",
      "Preparing for training...\n",
      "Done.\n",
      "Training model...\n",
      "[LightGBM] [Info] Auto-choosing row-wise multi-threading, the overhead of testing was 1.798203 seconds.\n",
      "You can set `force_row_wise=true` to remove the overhead.\n",
      "And if memory is not enough, you can set `force_col_wise=true`.\n",
      "[LightGBM] [Info] Total Bins 1041\n",
      "[LightGBM] [Info] Number of data points in the train set: 133763709, number of used features: 19\n",
      "Feature importance:\n",
      "bestseller_rank 0.6216137770971796\n",
      "index_code 0.19380188466132164\n",
      "not_interacted_weekly_rank 0.10710845143965961\n",
      "garment_group_no 0.056154361060681\n",
      "department_no 0.01286601615966179\n",
      "article_id 0.003283704913484713\n",
      "section_no 0.0030032676493691574\n",
      "colour_group_code 0.0014834078355476113\n",
      "graphical_appearance_no 0.0006851291830949094\n",
      "Active 0.0\n",
      "Starting submission process...\n",
      "Calculating predictions...\n",
      "Done.\n",
      "Creating submission...\n",
      "Done.\n",
      "Saving submission...\n",
      "Done.\n"
     ]
    },
    {
     "name": "stderr",
     "output_type": "stream",
     "text": [
      "100%|██████████| 57.8M/57.8M [00:28<00:00, 2.09MB/s]  \n"
     ]
    },
    {
     "name": "stdout",
     "output_type": "stream",
     "text": [
      "Successfully submitted to H&M Personalized Fashion RecommendationsSubmission saved and submitted to Kaggle.\n",
      "k =  190\n",
      "Percentage of real transactions:  0.014243014138486366\n",
      "Mergining features...\n",
      "Done.\n",
      "Sorting data...\n",
      "Done.\n",
      "Preparing for training...\n",
      "Done.\n",
      "Training model...\n",
      "[LightGBM] [Info] Auto-choosing row-wise multi-threading, the overhead of testing was 2.032448 seconds.\n",
      "You can set `force_row_wise=true` to remove the overhead.\n",
      "And if memory is not enough, you can set `force_col_wise=true`.\n",
      "[LightGBM] [Info] Total Bins 1047\n",
      "[LightGBM] [Info] Number of data points in the train set: 140630610, number of used features: 19\n",
      "Feature importance:\n",
      "bestseller_rank 0.6137178426727896\n",
      "index_code 0.20787980773433887\n",
      "not_interacted_weekly_rank 0.1025118978948199\n",
      "garment_group_no 0.0553542253948239\n",
      "department_no 0.0123705481630428\n",
      "article_id 0.0031468693148376395\n",
      "section_no 0.003001512698268842\n",
      "colour_group_code 0.0013389823928122132\n",
      "graphical_appearance_no 0.0006783137342661638\n",
      "Active 0.0\n",
      "Starting submission process...\n",
      "Calculating predictions...\n",
      "Done.\n",
      "Creating submission...\n",
      "Done.\n",
      "Saving submission...\n",
      "Done.\n"
     ]
    },
    {
     "name": "stderr",
     "output_type": "stream",
     "text": [
      "100%|██████████| 57.8M/57.8M [00:28<00:00, 2.11MB/s]  \n"
     ]
    },
    {
     "name": "stdout",
     "output_type": "stream",
     "text": [
      "Successfully submitted to H&M Personalized Fashion RecommendationsSubmission saved and submitted to Kaggle.\n",
      "k =  200\n",
      "Percentage of real transactions:  0.013594696283440014\n",
      "Mergining features...\n",
      "Done.\n",
      "Sorting data...\n",
      "Done.\n",
      "Preparing for training...\n",
      "Done.\n",
      "Training model...\n",
      "[LightGBM] [Info] Auto-choosing row-wise multi-threading, the overhead of testing was 1.993001 seconds.\n",
      "You can set `force_row_wise=true` to remove the overhead.\n",
      "And if memory is not enough, you can set `force_col_wise=true`.\n",
      "[LightGBM] [Info] Total Bins 1043\n",
      "[LightGBM] [Info] Number of data points in the train set: 147497523, number of used features: 19\n",
      "Feature importance:\n",
      "bestseller_rank 0.6070292238819979\n",
      "index_code 0.21971102000857276\n",
      "not_interacted_weekly_rank 0.0982471308561217\n",
      "garment_group_no 0.05433521271418926\n",
      "department_no 0.01271535903341661\n",
      "section_no 0.003040677719482183\n",
      "article_id 0.0030188398992914314\n",
      "colour_group_code 0.001234212062094655\n",
      "graphical_appearance_no 0.0006683238248335508\n",
      "Active 0.0\n",
      "Starting submission process...\n",
      "Calculating predictions...\n",
      "Done.\n",
      "Creating submission...\n",
      "Done.\n",
      "Saving submission...\n",
      "Done.\n"
     ]
    },
    {
     "name": "stderr",
     "output_type": "stream",
     "text": [
      "100%|██████████| 57.8M/57.8M [00:26<00:00, 2.29MB/s]\n"
     ]
    },
    {
     "name": "stdout",
     "output_type": "stream",
     "text": [
      "Successfully submitted to H&M Personalized Fashion RecommendationsSubmission saved and submitted to Kaggle.\n"
     ]
    }
   ],
   "source": [
    "# Get bestsellers from previous week\n",
    "bestsellers_last_week = \\\n",
    "    bestsellers_previous_week[bestsellers_previous_week['week'] == bestsellers_previous_week['week'].max()]['article_id'].tolist()\n",
    "\n",
    "niw_ranks = candidates_niw_loaded[['week', 'article_id', 'not_interacted_weekly_rank']].drop_duplicates()\n",
    "\n",
    "for k in range(20, 201, 10):\n",
    "    print('k = ', k)\n",
    "\n",
    "    # Get top k similar not bought articles for each customer\n",
    "    candidates_niw = candidates_niw_loaded.groupby(['week', 'customer_id']).head(k)\\\n",
    "        .drop(columns=['strategy', 'not_interacted_weekly_rank'])\n",
    "\n",
    "    candidates_niw['week'] = candidates_niw['week'] + 1\n",
    "\n",
    "    candidates_niw['t_dat'] = '2020-07-15'\n",
    "    candidates_niw['price'] = 0\n",
    "    candidates_niw['sales_channel_id'] = 2\n",
    "\n",
    "    # Prepare data for model\n",
    "    train_X, train_y, test_X, test, train_baskets = prepare_data(\n",
    "        transactions,\n",
    "        bestsellers_previous_week,\n",
    "        candidates=[candidates_last_purchase, candidates_bestsellers, candidates_niw], \n",
    "        features=[customers, articles, niw_ranks], \n",
    "        cols_to_use=columns_to_use\n",
    "        )\n",
    "    \n",
    "    del candidates_niw\n",
    "    gc.collect()\n",
    "    \n",
    "    # Train model\n",
    "    ranker = train_model(\n",
    "        train_X, \n",
    "        train_y, \n",
    "        train_baskets, \n",
    "        model_params, \n",
    "        columns_to_use, \n",
    "        show_importance=10\n",
    "    )\n",
    "\n",
    "    gc.collect()\n",
    "\n",
    "    # Make submission\n",
    "    make_submission(customers, test, test_X, ranker, bestsellers_last_week, f'submission_niw_garment_group_{k}')\n",
    "\n",
    "    del train_X, train_y, test_X, test, train_baskets, ranker\n",
    "    gc.collect()\n",
    "\n"
   ]
  },
  {
   "cell_type": "code",
   "execution_count": 10,
   "metadata": {},
   "outputs": [
    {
     "name": "stdout",
     "output_type": "stream",
     "text": [
      "fileName                                 date                 description                       status    publicScore  privateScore  \n",
      "---------------------------------------  -------------------  --------------------------------  --------  -----------  ------------  \n",
      "submission_niw_garment_group_200.csv.gz  2023-12-14 17:15:57  submission_niw_garment_group_200  complete  0.01633      0.01551       \n",
      "submission_niw_garment_group_190.csv.gz  2023-12-14 17:03:59  submission_niw_garment_group_190  complete  0.01633      0.01551       \n",
      "submission_niw_garment_group_180.csv.gz  2023-12-14 16:52:11  submission_niw_garment_group_180  complete  0.01633      0.01551       \n",
      "submission_niw_garment_group_170.csv.gz  2023-12-14 16:40:45  submission_niw_garment_group_170  complete  0.01072      0.0107        \n",
      "submission_niw_garment_group_160.csv.gz  2023-12-14 16:30:52  submission_niw_garment_group_160  complete  0.01068      0.01069       \n",
      "submission_niw_garment_group_150.csv.gz  2023-12-14 16:19:14  submission_niw_garment_group_150  complete  0.01033      0.01036       \n",
      "submission_niw_garment_group_140.csv.gz  2023-12-14 16:07:42  submission_niw_garment_group_140  complete  0.01068      0.0107        \n",
      "submission_niw_garment_group_130.csv.gz  2023-12-14 15:56:11  submission_niw_garment_group_130  complete  0.01628      0.01557       \n",
      "submission_niw_garment_group_120.csv.gz  2023-12-14 15:46:05  submission_niw_garment_group_120  complete  0.01637      0.01554       \n",
      "submission_niw_garment_group_110.csv.gz  2023-12-14 15:35:55  submission_niw_garment_group_110  complete  0.01744      0.01672       \n",
      "submission_niw_garment_group_100.csv.gz  2023-12-14 15:26:45  submission_niw_garment_group_100  complete  0.01641      0.0155        \n",
      "submission_niw_garment_group_90.csv.gz   2023-12-14 15:21:43  submission_niw_garment_group_90   complete  0.0169       0.01601       \n",
      "submission_niw_garment_group_80.csv.gz   2023-12-14 15:17:23  submission_niw_garment_group_80   complete  0.01688      0.01602       \n",
      "submission_niw_garment_group_70.csv.gz   2023-12-14 15:13:25  submission_niw_garment_group_70   complete  0.01692      0.01606       \n",
      "submission_niw_garment_group_60.csv.gz   2023-12-14 15:10:09  submission_niw_garment_group_60   complete  0.01969      0.01923       \n",
      "submission_niw_garment_group_50.csv.gz   2023-12-14 15:07:18  submission_niw_garment_group_50   complete  0.01983      0.01932       \n",
      "submission_niw_garment_group_40.csv.gz   2023-12-14 15:04:43  submission_niw_garment_group_40   complete  0.01983      0.01932       \n",
      "submission_niw_garment_group_30.csv.gz   2023-12-14 15:02:30  submission_niw_garment_group_30   complete  0.01983      0.01932       \n",
      "submission_niw_garment_group_20.csv.gz   2023-12-14 15:00:27  submission_niw_garment_group_20   complete  0.01967      0.01926       \n"
     ]
    }
   ],
   "source": [
    "!kaggle competitions submissions -c h-and-m-personalized-fashion-recommendations | head -n 21"
   ]
  }
 ],
 "metadata": {
  "kernelspec": {
   "display_name": "AIPRO",
   "language": "python",
   "name": "python3"
  },
  "language_info": {
   "codemirror_mode": {
    "name": "ipython",
    "version": 3
   },
   "file_extension": ".py",
   "mimetype": "text/x-python",
   "name": "python",
   "nbconvert_exporter": "python",
   "pygments_lexer": "ipython3",
   "version": "3.11.5"
  }
 },
 "nbformat": 4,
 "nbformat_minor": 2
}
