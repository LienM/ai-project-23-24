{
 "cells": [
  {
   "cell_type": "code",
   "execution_count": 1,
   "metadata": {},
   "outputs": [],
   "source": [
    "import pandas as pd\n",
    "import gc\n",
    "import warnings\n",
    "warnings.simplefilter(action='ignore', category=FutureWarning)\n",
    "\n",
    "import os\n",
    "os.chdir('../')\n",
    "from model import *\n",
    "os.chdir('../../data/')"
   ]
  },
  {
   "cell_type": "code",
   "execution_count": 2,
   "metadata": {},
   "outputs": [
    {
     "name": "stdout",
     "output_type": "stream",
     "text": [
      "First week num:  0 \n",
      "Last week num:  104 \n",
      "\n"
     ]
    }
   ],
   "source": [
    "transactions = pd.read_pickle('../data/compressed_data/transactions_train.pkl')\n",
    "customers = pd.read_pickle('../data/compressed_data/customers.pkl')\n",
    "articles = pd.read_pickle('../data/compressed_data/articles.pkl')\n",
    "\n",
    "transactions['week'] = 104 - (transactions.t_dat.max() - transactions.t_dat).dt.days // 7\n",
    "\n",
    "print('First week num: ', transactions.week.min(), '\\nLast week num: ', transactions.week.max(), '\\n')"
   ]
  },
  {
   "cell_type": "code",
   "execution_count": 3,
   "metadata": {},
   "outputs": [],
   "source": [
    "# Test week is week after last week in train data\n",
    "test_week = transactions.week.max() + 1\n",
    "\n",
    "# Filter transactions to last 10 weeks (most recent data)\n",
    "transactions = transactions[transactions.week > transactions.week.max() - 10]"
   ]
  },
  {
   "cell_type": "code",
   "execution_count": 4,
   "metadata": {},
   "outputs": [
    {
     "data": {
      "text/plain": [
       "Index(['t_dat', 'customer_id', 'article_id', 'price', 'sales_channel_id',\n",
       "       'week'],\n",
       "      dtype='object')"
      ]
     },
     "execution_count": 4,
     "metadata": {},
     "output_type": "execute_result"
    }
   ],
   "source": [
    "transactions.columns"
   ]
  },
  {
   "cell_type": "code",
   "execution_count": 5,
   "metadata": {},
   "outputs": [],
   "source": [
    "# Load radek's candidates\n",
    "candidates_last_purchase = pd.read_csv('../data/candidates/radek_last_purchase.csv')\n",
    "candidates_bestsellers = pd.read_csv('../data/candidates/radek_bestsellers.csv')\n",
    "bestsellers_previous_week = pd.read_csv('../data/candidates/radek_bestsellers_previous_week.csv')"
   ]
  },
  {
   "cell_type": "markdown",
   "metadata": {},
   "source": [
    "# Load my candidates"
   ]
  },
  {
   "cell_type": "code",
   "execution_count": 6,
   "metadata": {},
   "outputs": [],
   "source": [
    "seasonal_bestsellers = pd.read_csv('../data/candidates_200_ranks/seasonal_candidates_2019.csv')"
   ]
  },
  {
   "cell_type": "markdown",
   "metadata": {},
   "source": [
    "## Submission Loop -- check best k for kaggle"
   ]
  },
  {
   "cell_type": "code",
   "execution_count": 7,
   "metadata": {},
   "outputs": [],
   "source": [
    "columns_to_use = [\n",
    "    'article_id', \n",
    "    'product_type_no', \n",
    "    'graphical_appearance_no', \n",
    "    'colour_group_code', \n",
    "    'perceived_colour_value_id',\n",
    "    'perceived_colour_master_id', \n",
    "    'department_no', \n",
    "    'index_code',\n",
    "    'index_group_no', \n",
    "    'section_no', \n",
    "    'garment_group_no', \n",
    "    'FN', \n",
    "    'Active',\n",
    "    'club_member_status', \n",
    "    'fashion_news_frequency', \n",
    "    'age', \n",
    "    'postal_code', \n",
    "    'bestseller_rank',\n",
    "    'seasonal_bestseller_rank',\n",
    "]\n",
    "\n",
    "model_params = {\n",
    "    'objective': 'lambdarank',\n",
    "    'metric': 'ndcg',\n",
    "    'boosting_type': 'dart',\n",
    "    'n_estimators': 1,\n",
    "    'importance_type': 'gain'\n",
    "}"
   ]
  },
  {
   "cell_type": "code",
   "execution_count": 8,
   "metadata": {},
   "outputs": [
    {
     "name": "stdout",
     "output_type": "stream",
     "text": [
      "k =  20\n",
      "Percentage of real transactions:  0.061829279882676676\n",
      "Mergining features...\n",
      "Done.\n",
      "Sorting data...\n",
      "Done.\n",
      "Preparing for training...\n",
      "Done.\n",
      "Training model...\n",
      "[LightGBM] [Info] Auto-choosing row-wise multi-threading, the overhead of testing was 0.430650 seconds.\n",
      "You can set `force_row_wise=true` to remove the overhead.\n",
      "And if memory is not enough, you can set `force_col_wise=true`.\n",
      "[LightGBM] [Info] Total Bins 1184\n",
      "[LightGBM] [Info] Number of data points in the train set: 23463051, number of used features: 19\n",
      "Feature importance:\n",
      "seasonal_bestseller_rank 0.5720376883311716\n",
      "bestseller_rank 0.4272203347278425\n",
      "age 0.0002152678015759515\n",
      "garment_group_no 0.00013095893320647876\n",
      "article_id 0.0001212617767094929\n",
      "section_no 9.965273324791193e-05\n",
      "department_no 8.115657964707224e-05\n",
      "perceived_colour_master_id 4.078699575167992e-05\n",
      "perceived_colour_value_id 3.7758158809847746e-05\n",
      "index_group_no 1.5133962037420627e-05\n",
      "Starting submission process...\n",
      "Calculating predictions...\n",
      "Done.\n",
      "Creating submission...\n",
      "Done.\n",
      "Saving submission...\n",
      "Done.\n"
     ]
    },
    {
     "name": "stderr",
     "output_type": "stream",
     "text": [
      "100%|██████████| 58.0M/58.0M [00:26<00:00, 2.27MB/s]\n"
     ]
    },
    {
     "name": "stdout",
     "output_type": "stream",
     "text": [
      "Successfully submitted to H&M Personalized Fashion RecommendationsSubmission saved and submitted to Kaggle.\n",
      "k =  30\n",
      "Percentage of real transactions:  0.04821502177484468\n",
      "Mergining features...\n",
      "Done.\n",
      "Sorting data...\n",
      "Done.\n",
      "Preparing for training...\n",
      "Done.\n",
      "Training model...\n",
      "[LightGBM] [Info] Auto-choosing row-wise multi-threading, the overhead of testing was 0.648654 seconds.\n",
      "You can set `force_row_wise=true` to remove the overhead.\n",
      "And if memory is not enough, you can set `force_col_wise=true`.\n",
      "[LightGBM] [Info] Total Bins 1168\n",
      "[LightGBM] [Info] Number of data points in the train set: 30100035, number of used features: 19\n",
      "Feature importance:\n",
      "seasonal_bestseller_rank 0.6717934027516975\n",
      "bestseller_rank 0.32725238051124683\n",
      "age 0.00028558696564934716\n",
      "garment_group_no 0.00016245883065897716\n",
      "section_no 0.00014365970399203028\n",
      "article_id 0.0001155961450922189\n",
      "department_no 0.0001059922758259242\n",
      "perceived_colour_master_id 5.5369998108101734e-05\n",
      "perceived_colour_value_id 4.372388306081759e-05\n",
      "colour_group_code 2.4673034778416775e-05\n",
      "Starting submission process...\n",
      "Calculating predictions...\n",
      "Done.\n",
      "Creating submission...\n",
      "Done.\n",
      "Saving submission...\n",
      "Done.\n"
     ]
    },
    {
     "name": "stderr",
     "output_type": "stream",
     "text": [
      "100%|██████████| 58.1M/58.1M [00:27<00:00, 2.23MB/s]\n"
     ]
    },
    {
     "name": "stdout",
     "output_type": "stream",
     "text": [
      "Successfully submitted to H&M Personalized Fashion RecommendationsSubmission saved and submitted to Kaggle.\n",
      "k =  40\n",
      "Percentage of real transactions:  0.03920390825982366\n",
      "Mergining features...\n",
      "Done.\n",
      "Sorting data...\n",
      "Done.\n",
      "Preparing for training...\n",
      "Done.\n",
      "Training model...\n",
      "[LightGBM] [Info] Auto-choosing row-wise multi-threading, the overhead of testing was 0.796202 seconds.\n",
      "You can set `force_row_wise=true` to remove the overhead.\n",
      "And if memory is not enough, you can set `force_col_wise=true`.\n",
      "[LightGBM] [Info] Total Bins 1167\n",
      "[LightGBM] [Info] Number of data points in the train set: 36800401, number of used features: 19\n",
      "Feature importance:\n",
      "seasonal_bestseller_rank 0.7374803161338307\n",
      "bestseller_rank 0.2613269050650377\n",
      "age 0.0002824484684367767\n",
      "article_id 0.0002209856933250561\n",
      "garment_group_no 0.00019414791287649915\n",
      "section_no 0.00015580035500085311\n",
      "department_no 0.00013197095291825296\n",
      "perceived_colour_master_id 6.8497682382352e-05\n",
      "colour_group_code 5.216607979365776e-05\n",
      "perceived_colour_value_id 4.957709517467289e-05\n",
      "Starting submission process...\n",
      "Calculating predictions...\n",
      "Done.\n",
      "Creating submission...\n",
      "Done.\n",
      "Saving submission...\n",
      "Done.\n"
     ]
    },
    {
     "name": "stderr",
     "output_type": "stream",
     "text": [
      "100%|██████████| 58.1M/58.1M [00:27<00:00, 2.24MB/s]\n"
     ]
    },
    {
     "name": "stdout",
     "output_type": "stream",
     "text": [
      "Successfully submitted to H&M Personalized Fashion RecommendationsSubmission saved and submitted to Kaggle.\n",
      "k =  50\n",
      "Percentage of real transactions:  0.03310045026795585\n",
      "Mergining features...\n",
      "Done.\n",
      "Sorting data...\n",
      "Done.\n",
      "Preparing for training...\n",
      "Done.\n",
      "Training model...\n",
      "[LightGBM] [Info] Auto-choosing row-wise multi-threading, the overhead of testing was 1.041187 seconds.\n",
      "You can set `force_row_wise=true` to remove the overhead.\n",
      "And if memory is not enough, you can set `force_col_wise=true`.\n",
      "[LightGBM] [Info] Total Bins 1154\n",
      "[LightGBM] [Info] Number of data points in the train set: 43340980, number of used features: 19\n",
      "Feature importance:\n",
      "seasonal_bestseller_rank 0.782497078659374\n",
      "bestseller_rank 0.21605589273076292\n",
      "age 0.0003148238404482663\n",
      "garment_group_no 0.00022381145011629613\n",
      "section_no 0.00020872134021558507\n",
      "article_id 0.00017462340968123146\n",
      "department_no 0.00015565077010413534\n",
      "product_type_no 0.0001448028458734302\n",
      "perceived_colour_master_id 8.173704265107358e-05\n",
      "perceived_colour_value_id 5.3977902787805004e-05\n",
      "Starting submission process...\n",
      "Calculating predictions...\n",
      "Done.\n",
      "Creating submission...\n",
      "Done.\n",
      "Saving submission...\n",
      "Done.\n"
     ]
    },
    {
     "name": "stderr",
     "output_type": "stream",
     "text": [
      "100%|██████████| 58.1M/58.1M [00:27<00:00, 2.21MB/s]\n"
     ]
    },
    {
     "name": "stdout",
     "output_type": "stream",
     "text": [
      "Successfully submitted to H&M Personalized Fashion RecommendationsSubmission saved and submitted to Kaggle.\n",
      "k =  60\n",
      "Percentage of real transactions:  0.028565119268142373\n",
      "Mergining features...\n",
      "Done.\n",
      "Sorting data...\n",
      "Done.\n",
      "Preparing for training...\n",
      "Done.\n",
      "Training model...\n",
      "[LightGBM] [Info] Auto-choosing row-wise multi-threading, the overhead of testing was 1.153768 seconds.\n",
      "You can set `force_row_wise=true` to remove the overhead.\n",
      "And if memory is not enough, you can set `force_col_wise=true`.\n",
      "[LightGBM] [Info] Total Bins 1138\n",
      "[LightGBM] [Info] Number of data points in the train set: 50114706, number of used features: 19\n",
      "Feature importance:\n",
      "seasonal_bestseller_rank 0.8138604783588292\n",
      "bestseller_rank 0.18448822148531935\n",
      "age 0.00038372370194734485\n",
      "section_no 0.00026278006821519163\n",
      "garment_group_no 0.00024787727922784514\n",
      "department_no 0.00017752195173069044\n",
      "product_type_no 0.00016657236596215598\n",
      "article_id 0.00015917196509448696\n",
      "perceived_colour_master_id 9.568098539198518e-05\n",
      "perceived_colour_value_id 5.742116242046127e-05\n",
      "Starting submission process...\n",
      "Calculating predictions...\n",
      "Done.\n",
      "Creating submission...\n",
      "Done.\n",
      "Saving submission...\n",
      "Done.\n"
     ]
    },
    {
     "name": "stderr",
     "output_type": "stream",
     "text": [
      "100%|██████████| 58.0M/58.0M [00:26<00:00, 2.27MB/s]\n"
     ]
    },
    {
     "name": "stdout",
     "output_type": "stream",
     "text": [
      "Successfully submitted to H&M Personalized Fashion RecommendationsSubmission saved and submitted to Kaggle.\n",
      "k =  70\n",
      "Percentage of real transactions:  0.02512019804622255\n",
      "Mergining features...\n",
      "Done.\n",
      "Sorting data...\n",
      "Done.\n",
      "Preparing for training...\n",
      "Done.\n",
      "Training model...\n",
      "[LightGBM] [Info] Auto-choosing row-wise multi-threading, the overhead of testing was 1.596762 seconds.\n",
      "You can set `force_row_wise=true` to remove the overhead.\n",
      "And if memory is not enough, you can set `force_col_wise=true`.\n",
      "[LightGBM] [Info] Total Bins 1148\n",
      "[LightGBM] [Info] Number of data points in the train set: 56895125, number of used features: 19\n",
      "Feature importance:\n",
      "seasonal_bestseller_rank 0.8383711167525345\n",
      "bestseller_rank 0.15971887603870383\n",
      "age 0.0004107334132043921\n",
      "article_id 0.00032590782188637895\n",
      "garment_group_no 0.00026783266063053803\n",
      "section_no 0.00022962232416841208\n",
      "department_no 0.000197177483003655\n",
      "product_type_no 0.0001794415513969447\n",
      "perceived_colour_master_id 0.00010900741182663641\n",
      "perceived_colour_value_id 5.968276188989051e-05\n",
      "Starting submission process...\n",
      "Calculating predictions...\n",
      "Done.\n",
      "Creating submission...\n",
      "Done.\n",
      "Saving submission...\n",
      "Done.\n"
     ]
    },
    {
     "name": "stderr",
     "output_type": "stream",
     "text": [
      "100%|██████████| 58.0M/58.0M [00:28<00:00, 2.12MB/s]\n"
     ]
    },
    {
     "name": "stdout",
     "output_type": "stream",
     "text": [
      "Successfully submitted to H&M Personalized Fashion RecommendationsSubmission saved and submitted to Kaggle.\n",
      "k =  80\n",
      "Percentage of real transactions:  0.02241705293586082\n",
      "Mergining features...\n",
      "Done.\n",
      "Sorting data...\n",
      "Done.\n",
      "Preparing for training...\n",
      "Done.\n",
      "Training model...\n",
      "[LightGBM] [Info] Auto-choosing row-wise multi-threading, the overhead of testing was 1.534724 seconds.\n",
      "You can set `force_row_wise=true` to remove the overhead.\n",
      "And if memory is not enough, you can set `force_col_wise=true`.\n",
      "[LightGBM] [Info] Total Bins 1141\n",
      "[LightGBM] [Info] Number of data points in the train set: 63674824, number of used features: 19\n",
      "Feature importance:\n",
      "seasonal_bestseller_rank 0.8574498125820744\n",
      "bestseller_rank 0.14048623265328797\n",
      "age 0.0004341806729845717\n",
      "article_id 0.00031733954224749656\n",
      "garment_group_no 0.0002854057912609024\n",
      "section_no 0.00024987423806446064\n",
      "product_type_no 0.0002226480000758935\n",
      "department_no 0.00021565756671750288\n",
      "perceived_colour_master_id 0.00012222765160050278\n",
      "graphical_appearance_no 0.00010817621746004472\n",
      "Starting submission process...\n",
      "Calculating predictions...\n",
      "Done.\n",
      "Creating submission...\n",
      "Done.\n",
      "Saving submission...\n",
      "Done.\n"
     ]
    },
    {
     "name": "stderr",
     "output_type": "stream",
     "text": [
      "100%|██████████| 58.0M/58.0M [00:27<00:00, 2.21MB/s]\n"
     ]
    },
    {
     "name": "stdout",
     "output_type": "stream",
     "text": [
      "Successfully submitted to H&M Personalized Fashion RecommendationsSubmission saved and submitted to Kaggle.\n",
      "k =  90\n",
      "Percentage of real transactions:  0.020238282540599492\n",
      "Mergining features...\n",
      "Done.\n",
      "Sorting data...\n",
      "Done.\n",
      "Preparing for training...\n",
      "Done.\n",
      "Training model...\n",
      "[LightGBM] [Info] Auto-choosing row-wise multi-threading, the overhead of testing was 1.294948 seconds.\n",
      "You can set `force_row_wise=true` to remove the overhead.\n",
      "And if memory is not enough, you can set `force_col_wise=true`.\n",
      "[LightGBM] [Info] Total Bins 1157\n",
      "[LightGBM] [Info] Number of data points in the train set: 70457834, number of used features: 19\n",
      "Feature importance:\n",
      "seasonal_bestseller_rank 0.8729496681097257\n",
      "bestseller_rank 0.12473646470339698\n",
      "age 0.00045314566255048703\n",
      "product_type_no 0.00040010218984781027\n",
      "article_id 0.0003079199937855597\n",
      "garment_group_no 0.00029982221485219516\n",
      "section_no 0.00026768295941544064\n",
      "department_no 0.0002322286755409779\n",
      "perceived_colour_master_id 0.00013487408300584758\n",
      "graphical_appearance_no 0.00010551089570109852\n",
      "Starting submission process...\n",
      "Calculating predictions...\n",
      "Done.\n",
      "Creating submission...\n",
      "Done.\n",
      "Saving submission...\n",
      "Done.\n"
     ]
    },
    {
     "name": "stderr",
     "output_type": "stream",
     "text": [
      "100%|██████████| 58.0M/58.0M [00:27<00:00, 2.23MB/s]\n"
     ]
    },
    {
     "name": "stdout",
     "output_type": "stream",
     "text": [
      "Successfully submitted to H&M Personalized Fashion RecommendationsSubmission saved and submitted to Kaggle.\n",
      "k =  100\n",
      "Percentage of real transactions:  0.018446831689777236\n",
      "Mergining features...\n",
      "Done.\n",
      "Sorting data...\n",
      "Done.\n",
      "Preparing for training...\n",
      "Done.\n",
      "Training model...\n",
      "[LightGBM] [Info] Auto-choosing row-wise multi-threading, the overhead of testing was 1.984873 seconds.\n",
      "You can set `force_row_wise=true` to remove the overhead.\n",
      "And if memory is not enough, you can set `force_col_wise=true`.\n",
      "[LightGBM] [Info] Total Bins 1132\n",
      "[LightGBM] [Info] Number of data points in the train set: 77234471, number of used features: 19\n",
      "Feature importance:\n",
      "seasonal_bestseller_rank 0.8854576440621561\n",
      "bestseller_rank 0.11229236911678148\n",
      "age 0.00047128915203377734\n",
      "article_id 0.00035052370395105776\n",
      "garment_group_no 0.0003133672292341774\n",
      "section_no 0.00028499443913439205\n",
      "department_no 0.00024854133995346985\n",
      "perceived_colour_master_id 0.00022685050034094143\n",
      "product_type_no 0.0001924598194578659\n",
      "perceived_colour_value_id 6.270555117397626e-05\n",
      "Starting submission process...\n",
      "Calculating predictions...\n",
      "Done.\n",
      "Creating submission...\n",
      "Done.\n",
      "Saving submission...\n",
      "Done.\n"
     ]
    },
    {
     "name": "stderr",
     "output_type": "stream",
     "text": [
      "100%|██████████| 58.0M/58.0M [00:28<00:00, 2.14MB/s]\n"
     ]
    },
    {
     "name": "stdout",
     "output_type": "stream",
     "text": [
      "Successfully submitted to H&M Personalized Fashion RecommendationsSubmission saved and submitted to Kaggle.\n",
      "k =  110\n",
      "Percentage of real transactions:  0.016946410121635797\n",
      "Mergining features...\n",
      "Done.\n",
      "Sorting data...\n",
      "Done.\n",
      "Preparing for training...\n",
      "Done.\n",
      "Training model...\n",
      "[LightGBM] [Info] Auto-choosing row-wise multi-threading, the overhead of testing was 3.179185 seconds.\n",
      "You can set `force_row_wise=true` to remove the overhead.\n",
      "And if memory is not enough, you can set `force_col_wise=true`.\n",
      "[LightGBM] [Info] Total Bins 1133\n",
      "[LightGBM] [Info] Number of data points in the train set: 84012982, number of used features: 19\n",
      "Feature importance:\n",
      "seasonal_bestseller_rank 0.8958620393445864\n",
      "bestseller_rank 0.10182880368067494\n",
      "age 0.0004866875423115569\n",
      "garment_group_no 0.00032470315963261705\n",
      "section_no 0.0003005005381792818\n",
      "product_type_no 0.0002746767821386224\n",
      "article_id 0.0002723783332694817\n",
      "perceived_colour_master_id 0.00026728338971732416\n",
      "department_no 0.00026347535134059274\n",
      "perceived_colour_value_id 6.287251914847493e-05\n",
      "Starting submission process...\n",
      "Calculating predictions...\n",
      "Done.\n",
      "Creating submission...\n",
      "Done.\n",
      "Saving submission...\n",
      "Done.\n"
     ]
    },
    {
     "name": "stderr",
     "output_type": "stream",
     "text": [
      "100%|██████████| 58.0M/58.0M [00:26<00:00, 2.26MB/s]\n"
     ]
    },
    {
     "name": "stdout",
     "output_type": "stream",
     "text": [
      "Successfully submitted to H&M Personalized Fashion RecommendationsSubmission saved and submitted to Kaggle.\n",
      "k =  120\n",
      "Percentage of real transactions:  0.015671423308551133\n",
      "Mergining features...\n",
      "Done.\n",
      "Sorting data...\n",
      "Done.\n",
      "Preparing for training...\n",
      "Done.\n",
      "Training model...\n",
      "[LightGBM] [Info] Auto-choosing row-wise multi-threading, the overhead of testing was 2.113673 seconds.\n",
      "You can set `force_row_wise=true` to remove the overhead.\n",
      "And if memory is not enough, you can set `force_col_wise=true`.\n",
      "[LightGBM] [Info] Total Bins 1162\n",
      "[LightGBM] [Info] Number of data points in the train set: 90793552, number of used features: 19\n",
      "Feature importance:\n",
      "seasonal_bestseller_rank 0.9044597499585063\n",
      "bestseller_rank 0.09291931853604936\n",
      "section_no 0.0005441875442432632\n",
      "age 0.00039942436153331425\n",
      "department_no 0.000345786633630538\n",
      "garment_group_no 0.00033406918282337253\n",
      "perceived_colour_master_id 0.0002493530723534999\n",
      "article_id 0.00023624202147340737\n",
      "product_type_no 0.00020988389260875192\n",
      "perceived_colour_value_id 0.00018979870873259022\n",
      "Starting submission process...\n",
      "Calculating predictions...\n",
      "Done.\n",
      "Creating submission...\n",
      "Done.\n",
      "Saving submission...\n",
      "Done.\n"
     ]
    },
    {
     "name": "stderr",
     "output_type": "stream",
     "text": [
      "100%|██████████| 58.0M/58.0M [00:26<00:00, 2.28MB/s]\n"
     ]
    },
    {
     "name": "stdout",
     "output_type": "stream",
     "text": [
      "Successfully submitted to H&M Personalized Fashion RecommendationsSubmission saved and submitted to Kaggle.\n",
      "k =  130\n",
      "Percentage of real transactions:  0.014574686028707665\n",
      "Mergining features...\n",
      "Done.\n",
      "Sorting data...\n",
      "Done.\n",
      "Preparing for training...\n",
      "Done.\n",
      "Training model...\n",
      "[LightGBM] [Info] Auto-choosing row-wise multi-threading, the overhead of testing was 1.628345 seconds.\n",
      "You can set `force_row_wise=true` to remove the overhead.\n",
      "And if memory is not enough, you can set `force_col_wise=true`.\n",
      "[LightGBM] [Info] Total Bins 1167\n",
      "[LightGBM] [Info] Number of data points in the train set: 97575458, number of used features: 19\n",
      "Feature importance:\n",
      "seasonal_bestseller_rank 0.9120594814496003\n",
      "bestseller_rank 0.08525163028122773\n",
      "section_no 0.0006148579935218506\n",
      "age 0.0004124934557334117\n",
      "garment_group_no 0.0004084464626033938\n",
      "product_type_no 0.00036770853506080313\n",
      "department_no 0.0002894495996178036\n",
      "perceived_colour_master_id 0.00027429528517454964\n",
      "article_id 0.00026023794635793843\n",
      "colour_group_code 6.139899110226398e-05\n",
      "Starting submission process...\n",
      "Calculating predictions...\n",
      "Done.\n",
      "Creating submission...\n",
      "Done.\n",
      "Saving submission...\n",
      "Done.\n"
     ]
    },
    {
     "name": "stderr",
     "output_type": "stream",
     "text": [
      "100%|██████████| 58.0M/58.0M [00:29<00:00, 2.05MB/s]  \n"
     ]
    },
    {
     "name": "stdout",
     "output_type": "stream",
     "text": [
      "Successfully submitted to H&M Personalized Fashion RecommendationsSubmission saved and submitted to Kaggle.\n",
      "k =  140\n",
      "Percentage of real transactions:  0.013627828273608785\n",
      "Mergining features...\n",
      "Done.\n",
      "Sorting data...\n",
      "Done.\n",
      "Preparing for training...\n",
      "Done.\n",
      "Training model...\n",
      "[LightGBM] [Info] Auto-choosing row-wise multi-threading, the overhead of testing was 2.470540 seconds.\n",
      "You can set `force_row_wise=true` to remove the overhead.\n",
      "And if memory is not enough, you can set `force_col_wise=true`.\n",
      "[LightGBM] [Info] Total Bins 1174\n",
      "[LightGBM] [Info] Number of data points in the train set: 104272716, number of used features: 19\n",
      "Feature importance:\n",
      "seasonal_bestseller_rank 0.9192221010745185\n",
      "bestseller_rank 0.07776709867499068\n",
      "article_id 0.0006125102434621695\n",
      "age 0.0004215165431213823\n",
      "department_no 0.0003564888635171871\n",
      "garment_group_no 0.0003487030399070482\n",
      "section_no 0.0003415780344715856\n",
      "product_type_no 0.0003028650210952809\n",
      "index_code 0.000250545479721774\n",
      "perceived_colour_master_id 0.00019633185086697085\n",
      "Starting submission process...\n",
      "Calculating predictions...\n",
      "Done.\n",
      "Creating submission...\n",
      "Done.\n",
      "Saving submission...\n",
      "Done.\n"
     ]
    },
    {
     "name": "stderr",
     "output_type": "stream",
     "text": [
      "100%|██████████| 58.0M/58.0M [00:34<00:00, 1.76MB/s]\n"
     ]
    },
    {
     "name": "stdout",
     "output_type": "stream",
     "text": [
      "Successfully submitted to H&M Personalized Fashion RecommendationsSubmission saved and submitted to Kaggle.\n",
      "k =  150\n",
      "Percentage of real transactions:  0.012790922481971652\n",
      "Mergining features...\n",
      "Done.\n",
      "Sorting data...\n",
      "Done.\n",
      "Preparing for training...\n",
      "Done.\n",
      "Training model...\n",
      "[LightGBM] [Info] Auto-choosing row-wise multi-threading, the overhead of testing was 2.811215 seconds.\n",
      "You can set `force_row_wise=true` to remove the overhead.\n",
      "And if memory is not enough, you can set `force_col_wise=true`.\n",
      "[LightGBM] [Info] Total Bins 1173\n",
      "[LightGBM] [Info] Number of data points in the train set: 111053746, number of used features: 19\n",
      "Feature importance:\n",
      "seasonal_bestseller_rank 0.9277191574588394\n",
      "bestseller_rank 0.06939021114590783\n",
      "perceived_colour_master_id 0.0005727816019945859\n",
      "section_no 0.00042267033738129986\n",
      "age 0.000415036766737374\n",
      "garment_group_no 0.00035396621734273283\n",
      "department_no 0.000333361691811724\n",
      "product_type_no 0.0003225354306680411\n",
      "article_id 0.0002218780137590296\n",
      "index_code 0.00015674690469608628\n",
      "Starting submission process...\n",
      "Calculating predictions...\n",
      "Done.\n",
      "Creating submission...\n",
      "Done.\n",
      "Saving submission...\n",
      "Done.\n"
     ]
    },
    {
     "name": "stderr",
     "output_type": "stream",
     "text": [
      "100%|██████████| 58.0M/58.0M [00:30<00:00, 2.00MB/s]  \n"
     ]
    },
    {
     "name": "stdout",
     "output_type": "stream",
     "text": [
      "Successfully submitted to H&M Personalized Fashion RecommendationsSubmission saved and submitted to Kaggle.\n",
      "k =  160\n",
      "Percentage of real transactions:  0.01220610208689714\n",
      "Mergining features...\n",
      "Done.\n",
      "Sorting data...\n",
      "Done.\n",
      "Preparing for training...\n",
      "Done.\n",
      "Training model...\n",
      "[LightGBM] [Info] Auto-choosing row-wise multi-threading, the overhead of testing was 2.506757 seconds.\n",
      "You can set `force_row_wise=true` to remove the overhead.\n",
      "And if memory is not enough, you can set `force_col_wise=true`.\n",
      "[LightGBM] [Info] Total Bins 1179\n",
      "[LightGBM] [Info] Number of data points in the train set: 116243133, number of used features: 19\n",
      "Feature importance:\n",
      "seasonal_bestseller_rank 0.9312218828985023\n",
      "bestseller_rank 0.06551944730042172\n",
      "article_id 0.0006387492049801384\n",
      "garment_group_no 0.0005110400146892217\n",
      "perceived_colour_master_id 0.0005087660411255784\n",
      "age 0.0004987234504363261\n",
      "section_no 0.0004444942466204021\n",
      "product_type_no 0.000332931268098815\n",
      "department_no 0.00013481493411381177\n",
      "colour_group_code 0.0001057167487879475\n",
      "Starting submission process...\n",
      "Calculating predictions...\n",
      "Done.\n",
      "Creating submission...\n",
      "Done.\n",
      "Saving submission...\n",
      "Done.\n"
     ]
    },
    {
     "name": "stderr",
     "output_type": "stream",
     "text": [
      "100%|██████████| 57.9M/57.9M [00:28<00:00, 2.10MB/s]\n"
     ]
    },
    {
     "name": "stdout",
     "output_type": "stream",
     "text": [
      "Successfully submitted to H&M Personalized Fashion RecommendationsSubmission saved and submitted to Kaggle.\n",
      "k =  170\n",
      "Percentage of real transactions:  0.01220610208689714\n",
      "Mergining features...\n",
      "Done.\n",
      "Sorting data...\n",
      "Done.\n",
      "Preparing for training...\n",
      "Done.\n",
      "Training model...\n",
      "[LightGBM] [Info] Auto-choosing row-wise multi-threading, the overhead of testing was 2.062194 seconds.\n",
      "You can set `force_row_wise=true` to remove the overhead.\n",
      "And if memory is not enough, you can set `force_col_wise=true`.\n",
      "[LightGBM] [Info] Total Bins 1179\n",
      "[LightGBM] [Info] Number of data points in the train set: 116243133, number of used features: 19\n",
      "Feature importance:\n",
      "seasonal_bestseller_rank 0.9312218828985023\n",
      "bestseller_rank 0.06551944730042172\n",
      "article_id 0.0006387492049801384\n",
      "garment_group_no 0.0005110400146892217\n",
      "perceived_colour_master_id 0.0005087660411255784\n",
      "age 0.0004987234504363261\n",
      "section_no 0.0004444942466204021\n",
      "product_type_no 0.000332931268098815\n",
      "department_no 0.00013481493411381177\n",
      "colour_group_code 0.0001057167487879475\n",
      "Starting submission process...\n",
      "Calculating predictions...\n",
      "Done.\n",
      "Creating submission...\n",
      "Done.\n",
      "Saving submission...\n",
      "Done.\n"
     ]
    },
    {
     "name": "stderr",
     "output_type": "stream",
     "text": [
      "100%|██████████| 57.9M/57.9M [00:38<00:00, 1.59MB/s]\n"
     ]
    },
    {
     "name": "stdout",
     "output_type": "stream",
     "text": [
      "Successfully submitted to H&M Personalized Fashion RecommendationsSubmission saved and submitted to Kaggle.\n",
      "k =  180\n",
      "Percentage of real transactions:  0.01220610208689714\n",
      "Mergining features...\n",
      "Done.\n",
      "Sorting data...\n",
      "Done.\n",
      "Preparing for training...\n",
      "Done.\n",
      "Training model...\n",
      "[LightGBM] [Info] Auto-choosing row-wise multi-threading, the overhead of testing was 2.757851 seconds.\n",
      "You can set `force_row_wise=true` to remove the overhead.\n",
      "And if memory is not enough, you can set `force_col_wise=true`.\n",
      "[LightGBM] [Info] Total Bins 1179\n",
      "[LightGBM] [Info] Number of data points in the train set: 116243133, number of used features: 19\n",
      "Feature importance:\n",
      "seasonal_bestseller_rank 0.9312218828985023\n",
      "bestseller_rank 0.06551944730042172\n",
      "article_id 0.0006387492049801384\n",
      "garment_group_no 0.0005110400146892217\n",
      "perceived_colour_master_id 0.0005087660411255784\n",
      "age 0.0004987234504363261\n",
      "section_no 0.0004444942466204021\n",
      "product_type_no 0.000332931268098815\n",
      "department_no 0.00013481493411381177\n",
      "colour_group_code 0.0001057167487879475\n",
      "Starting submission process...\n",
      "Calculating predictions...\n",
      "Done.\n",
      "Creating submission...\n",
      "Done.\n",
      "Saving submission...\n",
      "Done.\n"
     ]
    },
    {
     "name": "stderr",
     "output_type": "stream",
     "text": [
      "100%|██████████| 57.9M/57.9M [00:40<00:00, 1.50MB/s]  \n"
     ]
    },
    {
     "name": "stdout",
     "output_type": "stream",
     "text": [
      "Successfully submitted to H&M Personalized Fashion RecommendationsSubmission saved and submitted to Kaggle.\n",
      "k =  190\n",
      "Percentage of real transactions:  0.01220610208689714\n",
      "Mergining features...\n",
      "Done.\n",
      "Sorting data...\n",
      "Done.\n",
      "Preparing for training...\n",
      "Done.\n",
      "Training model...\n",
      "[LightGBM] [Info] Auto-choosing row-wise multi-threading, the overhead of testing was 1.857371 seconds.\n",
      "You can set `force_row_wise=true` to remove the overhead.\n",
      "And if memory is not enough, you can set `force_col_wise=true`.\n",
      "[LightGBM] [Info] Total Bins 1179\n",
      "[LightGBM] [Info] Number of data points in the train set: 116243133, number of used features: 19\n",
      "Feature importance:\n",
      "seasonal_bestseller_rank 0.9312218828985023\n",
      "bestseller_rank 0.06551944730042172\n",
      "article_id 0.0006387492049801384\n",
      "garment_group_no 0.0005110400146892217\n",
      "perceived_colour_master_id 0.0005087660411255784\n",
      "age 0.0004987234504363261\n",
      "section_no 0.0004444942466204021\n",
      "product_type_no 0.000332931268098815\n",
      "department_no 0.00013481493411381177\n",
      "colour_group_code 0.0001057167487879475\n",
      "Starting submission process...\n",
      "Calculating predictions...\n",
      "Done.\n",
      "Creating submission...\n",
      "Done.\n",
      "Saving submission...\n",
      "Done.\n"
     ]
    },
    {
     "name": "stderr",
     "output_type": "stream",
     "text": [
      "100%|██████████| 57.9M/57.9M [00:28<00:00, 2.11MB/s]\n"
     ]
    },
    {
     "name": "stdout",
     "output_type": "stream",
     "text": [
      "Successfully submitted to H&M Personalized Fashion RecommendationsSubmission saved and submitted to Kaggle.\n",
      "k =  200\n",
      "Percentage of real transactions:  0.01220610208689714\n",
      "Mergining features...\n",
      "Done.\n",
      "Sorting data...\n",
      "Done.\n",
      "Preparing for training...\n",
      "Done.\n",
      "Training model...\n",
      "[LightGBM] [Info] Auto-choosing row-wise multi-threading, the overhead of testing was 2.545749 seconds.\n",
      "You can set `force_row_wise=true` to remove the overhead.\n",
      "And if memory is not enough, you can set `force_col_wise=true`.\n",
      "[LightGBM] [Info] Total Bins 1179\n",
      "[LightGBM] [Info] Number of data points in the train set: 116243133, number of used features: 19\n",
      "Feature importance:\n",
      "seasonal_bestseller_rank 0.9312218828985023\n",
      "bestseller_rank 0.06551944730042172\n",
      "article_id 0.0006387492049801384\n",
      "garment_group_no 0.0005110400146892217\n",
      "perceived_colour_master_id 0.0005087660411255784\n",
      "age 0.0004987234504363261\n",
      "section_no 0.0004444942466204021\n",
      "product_type_no 0.000332931268098815\n",
      "department_no 0.00013481493411381177\n",
      "colour_group_code 0.0001057167487879475\n",
      "Starting submission process...\n",
      "Calculating predictions...\n",
      "Done.\n",
      "Creating submission...\n",
      "Done.\n",
      "Saving submission...\n",
      "Done.\n"
     ]
    },
    {
     "name": "stderr",
     "output_type": "stream",
     "text": [
      "100%|██████████| 57.9M/57.9M [00:29<00:00, 2.07MB/s]\n"
     ]
    },
    {
     "name": "stdout",
     "output_type": "stream",
     "text": [
      "Successfully submitted to H&M Personalized Fashion RecommendationsSubmission saved and submitted to Kaggle.\n"
     ]
    }
   ],
   "source": [
    "# Get bestsellers from previous week\n",
    "bestsellers_last_week = \\\n",
    "    bestsellers_previous_week[bestsellers_previous_week['week'] == bestsellers_previous_week['week'].max()]['article_id'].tolist()\n",
    " \n",
    "for k in range(20, 201, 10):\n",
    "    print('k = ', k)\n",
    "\n",
    "    seasonal_candidates_filtered = seasonal_bestsellers[seasonal_bestsellers.article_id.isin(transactions.article_id.unique())].head(k)\n",
    "\n",
    "    seasonal_candidates = transactions[['customer_id', 'week']].drop_duplicates()\n",
    "    test_candidates = customers[customers.customer_id.isin(transactions.customer_id.unique())][['customer_id']].drop_duplicates()\n",
    "    test_candidates['week'] = test_week\n",
    "    seasonal_candidates = pd.concat([seasonal_candidates, test_candidates], ignore_index=True)\n",
    "\n",
    "    seasonal_candidates['key'] = 1\n",
    "    seasonal_candidates_filtered['key'] = 1\n",
    "\n",
    "    seasonal_candidates = seasonal_candidates.merge(seasonal_candidates_filtered, on='key').drop(columns='key')\n",
    "    seasonal_candidates['t_dat'] = '2020-07-15'\n",
    "    seasonal_candidates['price'] = 0\n",
    "    seasonal_candidates['sales_channel_id'] = 2\n",
    "    seasonal_candidates.drop(columns=['seasonal_bestseller_rank', 'year'], inplace=True)\n",
    "\n",
    "\n",
    "    # Prepare data for model\n",
    "    train_X, train_y, test_X, test, train_baskets = prepare_data(\n",
    "        transactions,\n",
    "        bestsellers_previous_week,\n",
    "        candidates=[candidates_last_purchase, candidates_bestsellers, seasonal_candidates], \n",
    "        features=[customers, articles, seasonal_bestsellers[['article_id', 'seasonal_bestseller_rank']]], \n",
    "        cols_to_use=columns_to_use\n",
    "        )\n",
    "    \n",
    "    gc.collect()\n",
    "    \n",
    "    # Train model\n",
    "    ranker = train_model(\n",
    "        train_X, \n",
    "        train_y, \n",
    "        train_baskets, \n",
    "        model_params, \n",
    "        columns_to_use, \n",
    "        show_importance=10\n",
    "    )\n",
    "\n",
    "    gc.collect()\n",
    "\n",
    "    # Make submission\n",
    "    make_submission(customers, test, test_X, ranker, bestsellers_last_week, f'submission_seasonal_{k}')\n",
    "\n",
    "    del seasonal_candidates, test_candidates, seasonal_candidates_filtered, train_X, train_y, test_X, test, train_baskets, ranker\n",
    "    gc.collect()\n"
   ]
  },
  {
   "cell_type": "code",
   "execution_count": 10,
   "metadata": {},
   "outputs": [
    {
     "name": "stdout",
     "output_type": "stream",
     "text": [
      "fileName                        date                 description              status    publicScore  privateScore  \n",
      "------------------------------  -------------------  -----------------------  --------  -----------  ------------  \n",
      "submission_seasonal_200.csv.gz  2023-12-14 14:21:39  submission_seasonal_200  complete  0.01973      0.01958       \n",
      "submission_seasonal_190.csv.gz  2023-12-14 14:07:21  submission_seasonal_190  complete  0.01973      0.01958       \n",
      "submission_seasonal_180.csv.gz  2023-12-14 13:52:22  submission_seasonal_180  complete  0.01973      0.01958       \n",
      "submission_seasonal_170.csv.gz  2023-12-14 13:36:43  submission_seasonal_170  complete  0.01973      0.01958       \n",
      "submission_seasonal_160.csv.gz  2023-12-14 13:20:40  submission_seasonal_160  complete  0.01973      0.01958       \n",
      "submission_seasonal_150.csv.gz  2023-12-14 13:05:26  submission_seasonal_150  complete  0.01963      0.01951       \n",
      "submission_seasonal_140.csv.gz  2023-12-14 12:50:51  submission_seasonal_140  complete  0.01972      0.01954       \n",
      "submission_seasonal_130.csv.gz  2023-12-14 12:37:51  submission_seasonal_130  complete  0.01973      0.01956       \n",
      "submission_seasonal_120.csv.gz  2023-12-14 12:25:11  submission_seasonal_120  complete  0.01974      0.01957       \n",
      "submission_seasonal_110.csv.gz  2023-12-14 12:13:36  submission_seasonal_110  complete  0.0198       0.01957       \n",
      "submission_seasonal_100.csv.gz  2023-12-14 12:02:24  submission_seasonal_100  complete  0.0199       0.01957       \n",
      "submission_seasonal_90.csv.gz   2023-12-14 11:52:47  submission_seasonal_90   complete  0.01999      0.01959       \n",
      "submission_seasonal_80.csv.gz   2023-12-14 11:43:23  submission_seasonal_80   complete  0.02         0.0196        \n",
      "submission_seasonal_70.csv.gz   2023-12-14 11:36:54  submission_seasonal_70   complete  0.02005      0.01961       \n",
      "submission_seasonal_60.csv.gz   2023-12-14 11:32:52  submission_seasonal_60   complete  0.02007      0.01961       \n",
      "submission_seasonal_50.csv.gz   2023-12-14 11:29:34  submission_seasonal_50   complete  0.02012      0.01973       \n",
      "submission_seasonal_40.csv.gz   2023-12-14 11:26:55  submission_seasonal_40   complete  0.02016      0.01978       \n",
      "submission_seasonal_30.csv.gz   2023-12-14 11:24:40  submission_seasonal_30   complete  0.0204       0.01988       \n",
      "submission_seasonal_20.csv.gz   2023-12-14 11:22:41  submission_seasonal_20   complete  0.02094      0.02007       \n"
     ]
    }
   ],
   "source": [
    "!kaggle competitions submissions -c h-and-m-personalized-fashion-recommendations | head -n 21"
   ]
  }
 ],
 "metadata": {
  "kernelspec": {
   "display_name": "AIPRO",
   "language": "python",
   "name": "python3"
  },
  "language_info": {
   "codemirror_mode": {
    "name": "ipython",
    "version": 3
   },
   "file_extension": ".py",
   "mimetype": "text/x-python",
   "name": "python",
   "nbconvert_exporter": "python",
   "pygments_lexer": "ipython3",
   "version": "3.11.5"
  }
 },
 "nbformat": 4,
 "nbformat_minor": 2
}
