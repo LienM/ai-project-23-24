{
 "cells": [
  {
   "cell_type": "code",
   "execution_count": 1,
   "metadata": {},
   "outputs": [],
   "source": [
    "import pandas as pd\n",
    "import warnings\n",
    "warnings.simplefilter(action='ignore', category=FutureWarning)\n",
    "\n",
    "import os\n",
    "os.chdir('../')\n",
    "from candidate_generation import *\n",
    "os.chdir('../../data/')"
   ]
  },
  {
   "cell_type": "code",
   "execution_count": 2,
   "metadata": {},
   "outputs": [
    {
     "name": "stdout",
     "output_type": "stream",
     "text": [
      "First week num:  0 \n",
      "Last week num:  104 \n",
      "\n"
     ]
    }
   ],
   "source": [
    "transactions = pd.read_pickle('../data/compressed_data/transactions_train.pkl')\n",
    "customers = pd.read_pickle('../data/compressed_data/customers.pkl')\n",
    "articles = pd.read_pickle('../data/compressed_data/articles.pkl')\n",
    "\n",
    "transactions['week'] = 104 - (transactions.t_dat.max() - transactions.t_dat).dt.days // 7\n",
    "\n",
    "print('First week num: ', transactions.week.min(), '\\nLast week num: ', transactions.week.max(), '\\n')\n",
    "\n",
    "# Test week is week after last week in train data\n",
    "test_week = transactions.week.max()\n",
    "train_weeks = range(test_week - 10, test_week)\n",
    "\n",
    "# Filter transactions to last 10 weeks (most recent data)\n",
    "transactions_train = transactions[transactions.week.isin(train_weeks)]\n",
    "transaction_test = transactions[transactions.week == test_week]"
   ]
  },
  {
   "cell_type": "markdown",
   "metadata": {},
   "source": [
    "# Generate sim not bought candidates for k=200 with ranks"
   ]
  },
  {
   "cell_type": "code",
   "execution_count": 3,
   "metadata": {},
   "outputs": [
    {
     "name": "stderr",
     "output_type": "stream",
     "text": [
      "39521it [03:38, 180.66it/s]\n"
     ]
    }
   ],
   "source": [
    "# Generate cosine item similarities for all items in train and test data (last 10 weeks)\n",
    "sims = generate_item_similarities(pd.concat([transactions_train, transaction_test]), articles)"
   ]
  },
  {
   "cell_type": "code",
   "execution_count": 19,
   "metadata": {},
   "outputs": [],
   "source": [
    "# Generate candidate items for each user in train and test data (for final prediction use test as well)\n",
    "t = pd.concat([transactions_train, transaction_test])\n",
    "similarities_dict = sims.copy()\n",
    "k = 200"
   ]
  },
  {
   "cell_type": "code",
   "execution_count": 20,
   "metadata": {},
   "outputs": [
    {
     "data": {
      "text/plain": [
       "customer_id  week\n",
       "0            102                                      [568601043]\n",
       "1            94                                       [826211002]\n",
       "2            103                                      [794321007]\n",
       "4            99      [896152002, 730683050, 927530004, 791587015]\n",
       "6            103                           [719530003, 448509014]\n",
       "                                         ...                     \n",
       "1371976      98      [853654012, 624486088, 853654002, 759871030]\n",
       "             99                                       [762846031]\n",
       "1371977      95                 [636323002, 835561003, 795975009]\n",
       "             102                [689365050, 884081001, 794819001]\n",
       "             103                                      [762846027]\n",
       "Name: article_id, Length: 831706, dtype: object"
      ]
     },
     "execution_count": 20,
     "metadata": {},
     "output_type": "execute_result"
    }
   ],
   "source": [
    "# Get items purchased by each user in train and test data in each week\n",
    "user_purchases = t.groupby(['customer_id', 'week'])['article_id'].apply(list)\n",
    "user_purchases"
   ]
  },
  {
   "cell_type": "code",
   "execution_count": 22,
   "metadata": {},
   "outputs": [
    {
     "name": "stderr",
     "output_type": "stream",
     "text": [
      "100%|██████████| 831706/831706 [13:42<00:00, 1011.42it/s] \n"
     ]
    }
   ],
   "source": [
    "# \n",
    "# For each customer, get k most similar items to items that customer did not interact with\n",
    "#\n",
    "\n",
    "total_candidates = []\n",
    "\n",
    "for cid, week in tqdm(user_purchases.index.values):\n",
    "    items = user_purchases.loc[(cid, week)]\n",
    "\n",
    "    sim_df = []\n",
    "    for item in items:\n",
    "        sim_df.append(similarities_dict[item])\n",
    "    sim_df = pd.concat(sim_df)\n",
    "    \n",
    "    candidates = sim_df[~sim_df.article_id.isin(items)]\\\n",
    "        .drop_duplicates(subset=['article_id'], keep='first')\\\n",
    "        .sort_values(by='similarity', ascending=False)\\\n",
    "        .rename(columns={'similarity':'similarity_score'})\\\n",
    "        .head(k)\n",
    "    \n",
    "    candidates['customer_id'] = cid\n",
    "    candidates['week'] = week\n",
    "\n",
    "    total_candidates.append(candidates)"
   ]
  },
  {
   "cell_type": "code",
   "execution_count": 24,
   "metadata": {},
   "outputs": [],
   "source": [
    "result = pd.concat(total_candidates)\n",
    "result['strategy'] = 'sim_not_bought'\n",
    "result.to_csv('../data/candidates_200_ranks/sim_not_bought.csv', index=False)"
   ]
  },
  {
   "cell_type": "code",
   "execution_count": 26,
   "metadata": {},
   "outputs": [
    {
     "data": {
      "text/html": [
       "<div>\n",
       "<style scoped>\n",
       "    .dataframe tbody tr th:only-of-type {\n",
       "        vertical-align: middle;\n",
       "    }\n",
       "\n",
       "    .dataframe tbody tr th {\n",
       "        vertical-align: top;\n",
       "    }\n",
       "\n",
       "    .dataframe thead th {\n",
       "        text-align: right;\n",
       "    }\n",
       "</style>\n",
       "<table border=\"1\" class=\"dataframe\">\n",
       "  <thead>\n",
       "    <tr style=\"text-align: right;\">\n",
       "      <th></th>\n",
       "      <th>article_id</th>\n",
       "      <th>similarity_score</th>\n",
       "      <th>customer_id</th>\n",
       "      <th>week</th>\n",
       "      <th>strategy</th>\n",
       "    </tr>\n",
       "  </thead>\n",
       "  <tbody>\n",
       "    <tr>\n",
       "      <th>470</th>\n",
       "      <td>815434005</td>\n",
       "      <td>0.990989</td>\n",
       "      <td>138112</td>\n",
       "      <td>100</td>\n",
       "      <td>sim_not_bought</td>\n",
       "    </tr>\n",
       "    <tr>\n",
       "      <th>494</th>\n",
       "      <td>751664001</td>\n",
       "      <td>1.000000</td>\n",
       "      <td>588242</td>\n",
       "      <td>103</td>\n",
       "      <td>sim_not_bought</td>\n",
       "    </tr>\n",
       "    <tr>\n",
       "      <th>493</th>\n",
       "      <td>783707046</td>\n",
       "      <td>1.000000</td>\n",
       "      <td>476944</td>\n",
       "      <td>97</td>\n",
       "      <td>sim_not_bought</td>\n",
       "    </tr>\n",
       "    <tr>\n",
       "      <th>429</th>\n",
       "      <td>841260002</td>\n",
       "      <td>0.994158</td>\n",
       "      <td>181285</td>\n",
       "      <td>100</td>\n",
       "      <td>sim_not_bought</td>\n",
       "    </tr>\n",
       "    <tr>\n",
       "      <th>442</th>\n",
       "      <td>810836001</td>\n",
       "      <td>0.995140</td>\n",
       "      <td>997864</td>\n",
       "      <td>102</td>\n",
       "      <td>sim_not_bought</td>\n",
       "    </tr>\n",
       "    <tr>\n",
       "      <th>307</th>\n",
       "      <td>266873006</td>\n",
       "      <td>0.874690</td>\n",
       "      <td>85192</td>\n",
       "      <td>95</td>\n",
       "      <td>sim_not_bought</td>\n",
       "    </tr>\n",
       "    <tr>\n",
       "      <th>315</th>\n",
       "      <td>724378001</td>\n",
       "      <td>0.922175</td>\n",
       "      <td>866800</td>\n",
       "      <td>94</td>\n",
       "      <td>sim_not_bought</td>\n",
       "    </tr>\n",
       "    <tr>\n",
       "      <th>442</th>\n",
       "      <td>935548001</td>\n",
       "      <td>0.976015</td>\n",
       "      <td>1176214</td>\n",
       "      <td>100</td>\n",
       "      <td>sim_not_bought</td>\n",
       "    </tr>\n",
       "    <tr>\n",
       "      <th>379</th>\n",
       "      <td>557048002</td>\n",
       "      <td>0.771031</td>\n",
       "      <td>251688</td>\n",
       "      <td>100</td>\n",
       "      <td>sim_not_bought</td>\n",
       "    </tr>\n",
       "    <tr>\n",
       "      <th>397</th>\n",
       "      <td>803454001</td>\n",
       "      <td>0.997391</td>\n",
       "      <td>501694</td>\n",
       "      <td>94</td>\n",
       "      <td>sim_not_bought</td>\n",
       "    </tr>\n",
       "  </tbody>\n",
       "</table>\n",
       "</div>"
      ],
      "text/plain": [
       "     article_id  similarity_score  customer_id  week        strategy\n",
       "470   815434005          0.990989       138112   100  sim_not_bought\n",
       "494   751664001          1.000000       588242   103  sim_not_bought\n",
       "493   783707046          1.000000       476944    97  sim_not_bought\n",
       "429   841260002          0.994158       181285   100  sim_not_bought\n",
       "442   810836001          0.995140       997864   102  sim_not_bought\n",
       "307   266873006          0.874690        85192    95  sim_not_bought\n",
       "315   724378001          0.922175       866800    94  sim_not_bought\n",
       "442   935548001          0.976015      1176214   100  sim_not_bought\n",
       "379   557048002          0.771031       251688   100  sim_not_bought\n",
       "397   803454001          0.997391       501694    94  sim_not_bought"
      ]
     },
     "execution_count": 26,
     "metadata": {},
     "output_type": "execute_result"
    }
   ],
   "source": [
    "result.sample(10)"
   ]
  }
 ],
 "metadata": {
  "kernelspec": {
   "display_name": "AIPRO",
   "language": "python",
   "name": "python3"
  },
  "language_info": {
   "codemirror_mode": {
    "name": "ipython",
    "version": 3
   },
   "file_extension": ".py",
   "mimetype": "text/x-python",
   "name": "python",
   "nbconvert_exporter": "python",
   "pygments_lexer": "ipython3",
   "version": "3.11.5"
  }
 },
 "nbformat": 4,
 "nbformat_minor": 2
}
