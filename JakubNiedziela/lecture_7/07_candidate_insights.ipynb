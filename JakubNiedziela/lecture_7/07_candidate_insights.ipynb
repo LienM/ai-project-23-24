{
 "cells": [
  {
   "cell_type": "code",
   "execution_count": 1,
   "metadata": {},
   "outputs": [],
   "source": [
    "import pandas as pd\n",
    "import numpy as np\n",
    "import seaborn as sns\n",
    "import matplotlib.pyplot as plt\n",
    "import warnings\n",
    "warnings.simplefilter(action='ignore', category=FutureWarning)\n",
    "\n",
    "import os\n",
    "os.chdir('../')\n",
    "from eval_helpers import calculate_recall_score, plot_recall_by_k, recall\n",
    "from candidate_generation import *\n",
    "os.chdir('../../data/')"
   ]
  },
  {
   "cell_type": "code",
   "execution_count": 2,
   "metadata": {},
   "outputs": [
    {
     "name": "stdout",
     "output_type": "stream",
     "text": [
      "First week num:  0 \n",
      "Last week num:  104 \n",
      "\n"
     ]
    }
   ],
   "source": [
    "transactions = pd.read_pickle('../data/compressed_data/transactions_train.pkl')\n",
    "customers = pd.read_pickle('../data/compressed_data/customers.pkl')\n",
    "articles = pd.read_pickle('../data/compressed_data/articles.pkl')\n",
    "\n",
    "transactions['week'] = 104 - (transactions.t_dat.max() - transactions.t_dat).dt.days // 7\n",
    "\n",
    "print('First week num: ', transactions.week.min(), '\\nLast week num: ', transactions.week.max(), '\\n')\n",
    "\n",
    "# Test week is week after last week in train data\n",
    "test_week = transactions.week.max()\n",
    "train_weeks = range(test_week - 10, test_week)\n",
    "\n",
    "# Filter transactions to last 10 weeks (most recent data)\n",
    "transactions_train = transactions[transactions.week.isin(train_weeks)]\n",
    "transaction_test = transactions[transactions.week == test_week]"
   ]
  },
  {
   "cell_type": "markdown",
   "metadata": {},
   "source": [
    "# Quick preprocess customers"
   ]
  },
  {
   "cell_type": "code",
   "execution_count": 3,
   "metadata": {},
   "outputs": [],
   "source": [
    "def age_groups(age):\n",
    "    if age < 20:\n",
    "        return '0-20'\n",
    "    elif age < 25:\n",
    "        return '20-24'\n",
    "    elif age < 30:\n",
    "        return '25-29'\n",
    "    elif age < 40:\n",
    "        return '30-39'\n",
    "    elif age < 60:\n",
    "        return '40-59'\n",
    "    else:\n",
    "        return '60+'"
   ]
  },
  {
   "cell_type": "code",
   "execution_count": 4,
   "metadata": {},
   "outputs": [],
   "source": [
    "# Check best channel for each customer\n",
    "cust_sales_channel = transactions_train.groupby('customer_id')['sales_channel_id'].value_counts()\\\n",
    "    .groupby('customer_id').head(1).reset_index().drop('count', axis=1)"
   ]
  },
  {
   "cell_type": "code",
   "execution_count": 5,
   "metadata": {},
   "outputs": [
    {
     "name": "stderr",
     "output_type": "stream",
     "text": [
      "/Users/jniedziela/.pyenv/versions/3.9/envs/AIPRO/lib/python3.11/site-packages/numpy/core/_methods.py:48: RuntimeWarning: overflow encountered in reduce\n",
      "  return umr_sum(a, axis, dtype, out, keepdims, initial, where)\n",
      "/Users/jniedziela/.pyenv/versions/3.9/envs/AIPRO/lib/python3.11/site-packages/pandas/core/nanops.py:731: RuntimeWarning: invalid value encountered in half_scalars\n",
      "  the_mean = the_sum / count if count > 0 else np.nan\n"
     ]
    }
   ],
   "source": [
    "customers.drop(columns=['FN', 'Active'], inplace=True)\n",
    "\n",
    "customers['age'] = customers['age'].fillna(customers['age'].mean())\n",
    "customers['age_group'] = customers['age'].apply(age_groups)\n",
    "\n",
    "mapping_club_member_status = {'ACTIVE': 1, 'PRE-CREATE': 0, np.NaN: 0, 'LEFT CLUB': 0}\n",
    "mapping_fashion_news = {'NONE':0, 'Regularly':1, np.NaN: 0, 'Monthly':1}\n",
    "\n",
    "customers['club_member_status'] = customers['club_member_status'].apply(lambda x: mapping_club_member_status[x])\n",
    "customers['fashion_news_frequency'] = customers['fashion_news_frequency'].apply(lambda x: mapping_fashion_news[x])\n",
    "\n",
    "customers.fillna(0, inplace=True)\n",
    "\n",
    "customers = pd.merge(customers, cust_sales_channel, on='customer_id', how='left')\n",
    "\n",
    "customers.fillna(2, inplace=True) # 2 is online channel (most popular)"
   ]
  },
  {
   "cell_type": "markdown",
   "metadata": {},
   "source": [
    "# Prepare Test for comparison"
   ]
  },
  {
   "cell_type": "code",
   "execution_count": 6,
   "metadata": {},
   "outputs": [
    {
     "data": {
      "text/html": [
       "<div>\n",
       "<style scoped>\n",
       "    .dataframe tbody tr th:only-of-type {\n",
       "        vertical-align: middle;\n",
       "    }\n",
       "\n",
       "    .dataframe tbody tr th {\n",
       "        vertical-align: top;\n",
       "    }\n",
       "\n",
       "    .dataframe thead th {\n",
       "        text-align: right;\n",
       "    }\n",
       "</style>\n",
       "<table border=\"1\" class=\"dataframe\">\n",
       "  <thead>\n",
       "    <tr style=\"text-align: right;\">\n",
       "      <th></th>\n",
       "      <th>customer_id</th>\n",
       "      <th>true_purchase</th>\n",
       "    </tr>\n",
       "  </thead>\n",
       "  <tbody>\n",
       "    <tr>\n",
       "      <th>0</th>\n",
       "      <td>80</td>\n",
       "      <td>{624486001}</td>\n",
       "    </tr>\n",
       "    <tr>\n",
       "      <th>1</th>\n",
       "      <td>86</td>\n",
       "      <td>{827487003}</td>\n",
       "    </tr>\n",
       "    <tr>\n",
       "      <th>2</th>\n",
       "      <td>107</td>\n",
       "      <td>{757926001, 640021019, 788575004}</td>\n",
       "    </tr>\n",
       "    <tr>\n",
       "      <th>3</th>\n",
       "      <td>117</td>\n",
       "      <td>{874110016}</td>\n",
       "    </tr>\n",
       "    <tr>\n",
       "      <th>4</th>\n",
       "      <td>179</td>\n",
       "      <td>{158340001, 935892001, 799365027, 918171001, 9...</td>\n",
       "    </tr>\n",
       "  </tbody>\n",
       "</table>\n",
       "</div>"
      ],
      "text/plain": [
       "   customer_id                                      true_purchase\n",
       "0           80                                        {624486001}\n",
       "1           86                                        {827487003}\n",
       "2          107                  {757926001, 640021019, 788575004}\n",
       "3          117                                        {874110016}\n",
       "4          179  {158340001, 935892001, 799365027, 918171001, 9..."
      ]
     },
     "execution_count": 6,
     "metadata": {},
     "output_type": "execute_result"
    }
   ],
   "source": [
    "test_baskets = transaction_test.groupby('customer_id')['article_id']\\\n",
    "    .apply(set)\\\n",
    "    .reset_index()\\\n",
    "    .rename(columns={'article_id': 'true_purchase'})\n",
    "test_baskets.head()"
   ]
  },
  {
   "cell_type": "markdown",
   "metadata": {},
   "source": []
  },
  {
   "cell_type": "markdown",
   "metadata": {},
   "source": [
    "# Compare seasonal bestsellers"
   ]
  },
  {
   "cell_type": "code",
   "execution_count": 7,
   "metadata": {},
   "outputs": [],
   "source": [
    "seasonal_bestsellers = pd.read_csv('candidates_200_ranks/seasonal_candidates_2019.csv')\n",
    "seasonal_basket = set(seasonal_bestsellers.article_id.unique())"
   ]
  },
  {
   "cell_type": "code",
   "execution_count": 8,
   "metadata": {},
   "outputs": [
    {
     "name": "stdout",
     "output_type": "stream",
     "text": [
      "<class 'pandas.core.frame.DataFrame'>\n",
      "RangeIndex: 68984 entries, 0 to 68983\n",
      "Data columns (total 9 columns):\n",
      " #   Column                  Non-Null Count  Dtype  \n",
      "---  ------                  --------------  -----  \n",
      " 0   customer_id             68984 non-null  int32  \n",
      " 1   recall                  68984 non-null  float64\n",
      " 2   num_purchased           68984 non-null  int64  \n",
      " 3   club_member_status      68984 non-null  float64\n",
      " 4   fashion_news_frequency  68984 non-null  float64\n",
      " 5   age                     68984 non-null  float16\n",
      " 6   postal_code             68984 non-null  int32  \n",
      " 7   age_group               68984 non-null  object \n",
      " 8   sales_channel_id        68984 non-null  float64\n",
      "dtypes: float16(1), float64(4), int32(2), int64(1), object(1)\n",
      "memory usage: 3.8+ MB\n"
     ]
    }
   ],
   "source": [
    "seasonal_analysis = test_baskets.copy()\n",
    "\n",
    "seasonal_analysis['recall'] = seasonal_analysis.apply(lambda x: recall(x['true_purchase'], seasonal_basket), axis=1)\n",
    "seasonal_analysis['num_purchased'] = seasonal_analysis['true_purchase'].apply(len)\n",
    "\n",
    "seasonal_analysis.drop('true_purchase', axis=1, inplace=True)\n",
    "seasonal_analysis = pd.merge(seasonal_analysis, customers, on='customer_id', how='left')\n",
    "\n",
    "seasonal_analysis.info()"
   ]
  },
  {
   "cell_type": "code",
   "execution_count": 63,
   "metadata": {},
   "outputs": [
    {
     "data": {
      "text/plain": [
       "recall                    1.000000\n",
       "num_purchased            -0.011542\n",
       "club_member_status       -0.001457\n",
       "fashion_news_frequency   -0.003369\n",
       "age                      -0.023138\n",
       "postal_code               0.001930\n",
       "sales_channel_id         -0.007229\n",
       "Name: recall, dtype: float64"
      ]
     },
     "execution_count": 63,
     "metadata": {},
     "output_type": "execute_result"
    }
   ],
   "source": [
    "seasonal_analysis.drop(columns=['customer_id', 'age_group']).corr().loc['recall']"
   ]
  },
  {
   "cell_type": "code",
   "execution_count": 62,
   "metadata": {},
   "outputs": [
    {
     "data": {
      "text/plain": [
       "recall                    1.000000\n",
       "num_purchased            -0.636077\n",
       "club_member_status       -0.011849\n",
       "fashion_news_frequency    0.030283\n",
       "age                      -0.000961\n",
       "postal_code               0.009324\n",
       "sales_channel_id         -0.107618\n",
       "Name: recall, dtype: float64"
      ]
     },
     "execution_count": 62,
     "metadata": {},
     "output_type": "execute_result"
    }
   ],
   "source": [
    "seasonal_analysis[seasonal_analysis.recall > 0].drop(columns=['customer_id', 'age_group']).corr().loc['recall']"
   ]
  },
  {
   "cell_type": "code",
   "execution_count": 14,
   "metadata": {},
   "outputs": [
    {
     "data": {
      "text/plain": [
       "<Axes: xlabel='sales_channel_id', ylabel='recall'>"
      ]
     },
     "execution_count": 14,
     "metadata": {},
     "output_type": "execute_result"
    },
    {
     "data": {
      "image/png": "[encoded data removed]",
      "text/plain": [
       "<Figure size 1000x1000 with 4 Axes>"
      ]
     },
     "metadata": {},
     "output_type": "display_data"
    }
   ],
   "source": [
    "fig, ax = plt.subplots(2, 2, figsize=(10, 10))\n",
    "\n",
    "sns.boxplot(data=seasonal_analysis[seasonal_analysis.recall > 0], y='recall', x='age_group', ax=ax[0][0], color='red')\n",
    "\n",
    "sns.boxplot(data=seasonal_analysis[seasonal_analysis.recall > 0], y='recall', x='club_member_status', ax=ax[0][1], color='blue')\n",
    "\n",
    "sns.boxplot(data=seasonal_analysis[seasonal_analysis.recall > 0], y='recall', x='fashion_news_frequency', ax=ax[1][0], color='green')\n",
    "\n",
    "sns.boxplot(data=seasonal_analysis[seasonal_analysis.recall > 0], y='recall', x='sales_channel_id', ax=ax[1][1], color='orange')"
   ]
  },
  {
   "cell_type": "markdown",
   "metadata": {},
   "source": [
    "# Similar not bought candidates analysis"
   ]
  },
  {
   "cell_type": "code",
   "execution_count": 16,
   "metadata": {},
   "outputs": [],
   "source": [
    "sim_not_bought = pd.read_csv('candidates_200_ranks/sim_not_bought.csv')"
   ]
  },
  {
   "cell_type": "code",
   "execution_count": 17,
   "metadata": {},
   "outputs": [],
   "source": [
    "top_200_snb_total = sim_not_bought[sim_not_bought.week != test_week][['customer_id', 'article_id', 'similarity_score']]\\\n",
    "    .sort_values('similarity_score', ascending=False)\\\n",
    "    .groupby('customer_id').head(200)"
   ]
  },
  {
   "cell_type": "code",
   "execution_count": 18,
   "metadata": {},
   "outputs": [
    {
     "data": {
      "text/html": [
       "<div>\n",
       "<style scoped>\n",
       "    .dataframe tbody tr th:only-of-type {\n",
       "        vertical-align: middle;\n",
       "    }\n",
       "\n",
       "    .dataframe tbody tr th {\n",
       "        vertical-align: top;\n",
       "    }\n",
       "\n",
       "    .dataframe thead th {\n",
       "        text-align: right;\n",
       "    }\n",
       "</style>\n",
       "<table border=\"1\" class=\"dataframe\">\n",
       "  <thead>\n",
       "    <tr style=\"text-align: right;\">\n",
       "      <th></th>\n",
       "      <th>customer_id</th>\n",
       "      <th>snb_candidates</th>\n",
       "    </tr>\n",
       "  </thead>\n",
       "  <tbody>\n",
       "    <tr>\n",
       "      <th>0</th>\n",
       "      <td>0</td>\n",
       "      <td>{784192001, 554901002, 820906002, 570367001, 8...</td>\n",
       "    </tr>\n",
       "    <tr>\n",
       "      <th>1</th>\n",
       "      <td>1</td>\n",
       "      <td>{727616001, 849984002, 842560003, 823189001, 6...</td>\n",
       "    </tr>\n",
       "    <tr>\n",
       "      <th>2</th>\n",
       "      <td>2</td>\n",
       "      <td>{748566023, 804992009, 914453002, 914453001, 7...</td>\n",
       "    </tr>\n",
       "    <tr>\n",
       "      <th>3</th>\n",
       "      <td>4</td>\n",
       "      <td>{917760001, 920448002, 878080001, 886720004, 8...</td>\n",
       "    </tr>\n",
       "    <tr>\n",
       "      <th>4</th>\n",
       "      <td>6</td>\n",
       "      <td>{761664001, 777728001, 761664003, 470636041, 7...</td>\n",
       "    </tr>\n",
       "  </tbody>\n",
       "</table>\n",
       "</div>"
      ],
      "text/plain": [
       "   customer_id                                     snb_candidates\n",
       "0            0  {784192001, 554901002, 820906002, 570367001, 8...\n",
       "1            1  {727616001, 849984002, 842560003, 823189001, 6...\n",
       "2            2  {748566023, 804992009, 914453002, 914453001, 7...\n",
       "3            4  {917760001, 920448002, 878080001, 886720004, 8...\n",
       "4            6  {761664001, 777728001, 761664003, 470636041, 7..."
      ]
     },
     "execution_count": 18,
     "metadata": {},
     "output_type": "execute_result"
    }
   ],
   "source": [
    "snb_basekts = top_200_snb_total.groupby('customer_id')['article_id']\\\n",
    "    .apply(set)\\\n",
    "    .reset_index()\\\n",
    "    .rename(columns={'article_id': 'snb_candidates'})\n",
    "snb_basekts.head()"
   ]
  },
  {
   "cell_type": "code",
   "execution_count": 56,
   "metadata": {},
   "outputs": [],
   "source": [
    "snb_analysis = test_baskets.copy()\n",
    "\n",
    "snb_analysis = pd.merge(snb_analysis, snb_basekts, on='customer_id', how='left')\n",
    "snb_analysis['snb_candidates'] = [x if type(x) == set else set() for x in snb_analysis['snb_candidates']]\n",
    "\n",
    "snb_analysis['recall'] = snb_analysis.apply(lambda x: recall(x['true_purchase'], x['snb_candidates']), axis=1)\n",
    "snb_analysis['num_purchased'] = snb_analysis['true_purchase'].apply(len)\n",
    "\n",
    "snb_analysis.drop(columns=['true_purchase', 'snb_candidates'], inplace=True)\n",
    "\n",
    "snb_analysis = pd.merge(snb_analysis, customers, on='customer_id', how='left')"
   ]
  },
  {
   "cell_type": "code",
   "execution_count": 64,
   "metadata": {},
   "outputs": [
    {
     "data": {
      "text/plain": [
       "recall                    1.000000\n",
       "num_purchased            -0.013879\n",
       "club_member_status        0.013067\n",
       "fashion_news_frequency    0.016250\n",
       "age                       0.024204\n",
       "postal_code               0.008653\n",
       "sales_channel_id         -0.029140\n",
       "Name: recall, dtype: float64"
      ]
     },
     "execution_count": 64,
     "metadata": {},
     "output_type": "execute_result"
    }
   ],
   "source": [
    "snb_analysis.drop(columns=['customer_id', 'age_group']).corr().loc['recall']"
   ]
  },
  {
   "cell_type": "code",
   "execution_count": 65,
   "metadata": {},
   "outputs": [
    {
     "data": {
      "text/plain": [
       "recall                    1.000000\n",
       "num_purchased            -0.648188\n",
       "club_member_status        0.006189\n",
       "fashion_news_frequency    0.005458\n",
       "age                       0.061473\n",
       "postal_code               0.027591\n",
       "sales_channel_id         -0.107375\n",
       "Name: recall, dtype: float64"
      ]
     },
     "execution_count": 65,
     "metadata": {},
     "output_type": "execute_result"
    }
   ],
   "source": [
    "snb_analysis[snb_analysis.recall > 0].drop(columns=['customer_id', 'age_group']).corr().loc['recall']"
   ]
  },
  {
   "cell_type": "code",
   "execution_count": 66,
   "metadata": {},
   "outputs": [
    {
     "data": {
      "text/plain": [
       "<Axes: xlabel='sales_channel_id', ylabel='recall'>"
      ]
     },
     "execution_count": 66,
     "metadata": {},
     "output_type": "execute_result"
    },
    {
     "data": {
      "image/png": "[encoded data removed]",
      "text/plain": [
       "<Figure size 1000x1000 with 4 Axes>"
      ]
     },
     "metadata": {},
     "output_type": "display_data"
    }
   ],
   "source": [
    "fig, ax = plt.subplots(2, 2, figsize=(10, 10))\n",
    "\n",
    "sns.boxplot(data=snb_analysis[snb_analysis.recall > 0], y='recall', x='age_group', ax=ax[0][0], color='red')\n",
    "\n",
    "sns.boxplot(data=snb_analysis[snb_analysis.recall > 0], y='recall', x='club_member_status', ax=ax[0][1], color='blue')\n",
    "\n",
    "sns.boxplot(data=snb_analysis[snb_analysis.recall > 0], y='recall', x='fashion_news_frequency', ax=ax[1][0], color='green')\n",
    "\n",
    "sns.boxplot(data=snb_analysis[snb_analysis.recall > 0], y='recall', x='sales_channel_id', ax=ax[1][1], color='orange')"
   ]
  },
  {
   "cell_type": "markdown",
   "metadata": {},
   "source": [
    "# Not interacted with candidates analysis"
   ]
  },
  {
   "cell_type": "code",
   "execution_count": 67,
   "metadata": {},
   "outputs": [],
   "source": [
    "niw_candidates = pd.read_csv('candidates_200_ranks/niw_candidates_garment_group_name.csv')"
   ]
  },
  {
   "cell_type": "code",
   "execution_count": 78,
   "metadata": {},
   "outputs": [
    {
     "data": {
      "text/html": [
       "<div>\n",
       "<style scoped>\n",
       "    .dataframe tbody tr th:only-of-type {\n",
       "        vertical-align: middle;\n",
       "    }\n",
       "\n",
       "    .dataframe tbody tr th {\n",
       "        vertical-align: top;\n",
       "    }\n",
       "\n",
       "    .dataframe thead th {\n",
       "        text-align: right;\n",
       "    }\n",
       "</style>\n",
       "<table border=\"1\" class=\"dataframe\">\n",
       "  <thead>\n",
       "    <tr style=\"text-align: right;\">\n",
       "      <th></th>\n",
       "      <th>customer_id</th>\n",
       "      <th>niw_candidates</th>\n",
       "    </tr>\n",
       "  </thead>\n",
       "  <tbody>\n",
       "    <tr>\n",
       "      <th>0</th>\n",
       "      <td>2</td>\n",
       "      <td>{820480001, 876416001, 858816001, 827968001, 8...</td>\n",
       "    </tr>\n",
       "    <tr>\n",
       "      <th>1</th>\n",
       "      <td>6</td>\n",
       "      <td>{820480001, 876416001, 858816001, 827968001, 8...</td>\n",
       "    </tr>\n",
       "    <tr>\n",
       "      <th>2</th>\n",
       "      <td>38</td>\n",
       "      <td>{820480001, 876416001, 858816001, 827968001, 8...</td>\n",
       "    </tr>\n",
       "    <tr>\n",
       "      <th>3</th>\n",
       "      <td>86</td>\n",
       "      <td>{820480001, 876416001, 858816001, 827968001, 8...</td>\n",
       "    </tr>\n",
       "    <tr>\n",
       "      <th>4</th>\n",
       "      <td>90</td>\n",
       "      <td>{820480001, 876416001, 858816001, 827968001, 8...</td>\n",
       "    </tr>\n",
       "  </tbody>\n",
       "</table>\n",
       "</div>"
      ],
      "text/plain": [
       "   customer_id                                     niw_candidates\n",
       "0            2  {820480001, 876416001, 858816001, 827968001, 8...\n",
       "1            6  {820480001, 876416001, 858816001, 827968001, 8...\n",
       "2           38  {820480001, 876416001, 858816001, 827968001, 8...\n",
       "3           86  {820480001, 876416001, 858816001, 827968001, 8...\n",
       "4           90  {820480001, 876416001, 858816001, 827968001, 8..."
      ]
     },
     "execution_count": 78,
     "metadata": {},
     "output_type": "execute_result"
    }
   ],
   "source": [
    "niw_candidates_test = niw_candidates[niw_candidates.week == test_week - 1]\n",
    "\n",
    "niw_baskets = niw_candidates_test.groupby('customer_id')['article_id']\\\n",
    "    .apply(set)\\\n",
    "    .reset_index()\\\n",
    "    .rename(columns={'article_id': 'niw_candidates'})\n",
    "\n",
    "niw_baskets.head()"
   ]
  },
  {
   "cell_type": "code",
   "execution_count": 80,
   "metadata": {},
   "outputs": [
    {
     "data": {
      "text/html": [
       "<div>\n",
       "<style scoped>\n",
       "    .dataframe tbody tr th:only-of-type {\n",
       "        vertical-align: middle;\n",
       "    }\n",
       "\n",
       "    .dataframe tbody tr th {\n",
       "        vertical-align: top;\n",
       "    }\n",
       "\n",
       "    .dataframe thead th {\n",
       "        text-align: right;\n",
       "    }\n",
       "</style>\n",
       "<table border=\"1\" class=\"dataframe\">\n",
       "  <thead>\n",
       "    <tr style=\"text-align: right;\">\n",
       "      <th></th>\n",
       "      <th>customer_id</th>\n",
       "      <th>recall</th>\n",
       "      <th>num_purchased</th>\n",
       "      <th>club_member_status</th>\n",
       "      <th>fashion_news_frequency</th>\n",
       "      <th>age</th>\n",
       "      <th>postal_code</th>\n",
       "      <th>age_group</th>\n",
       "      <th>sales_channel_id</th>\n",
       "    </tr>\n",
       "  </thead>\n",
       "  <tbody>\n",
       "    <tr>\n",
       "      <th>0</th>\n",
       "      <td>80</td>\n",
       "      <td>0.000000</td>\n",
       "      <td>1</td>\n",
       "      <td>1.0</td>\n",
       "      <td>0.0</td>\n",
       "      <td>27.0</td>\n",
       "      <td>67</td>\n",
       "      <td>25-29</td>\n",
       "      <td>2.0</td>\n",
       "    </tr>\n",
       "    <tr>\n",
       "      <th>1</th>\n",
       "      <td>86</td>\n",
       "      <td>0.000000</td>\n",
       "      <td>1</td>\n",
       "      <td>1.0</td>\n",
       "      <td>1.0</td>\n",
       "      <td>33.0</td>\n",
       "      <td>73</td>\n",
       "      <td>30-39</td>\n",
       "      <td>2.0</td>\n",
       "    </tr>\n",
       "    <tr>\n",
       "      <th>2</th>\n",
       "      <td>107</td>\n",
       "      <td>0.000000</td>\n",
       "      <td>3</td>\n",
       "      <td>1.0</td>\n",
       "      <td>0.0</td>\n",
       "      <td>29.0</td>\n",
       "      <td>90</td>\n",
       "      <td>25-29</td>\n",
       "      <td>2.0</td>\n",
       "    </tr>\n",
       "    <tr>\n",
       "      <th>3</th>\n",
       "      <td>117</td>\n",
       "      <td>0.000000</td>\n",
       "      <td>1</td>\n",
       "      <td>1.0</td>\n",
       "      <td>1.0</td>\n",
       "      <td>25.0</td>\n",
       "      <td>98</td>\n",
       "      <td>25-29</td>\n",
       "      <td>2.0</td>\n",
       "    </tr>\n",
       "    <tr>\n",
       "      <th>4</th>\n",
       "      <td>179</td>\n",
       "      <td>0.142857</td>\n",
       "      <td>14</td>\n",
       "      <td>1.0</td>\n",
       "      <td>0.0</td>\n",
       "      <td>23.0</td>\n",
       "      <td>155</td>\n",
       "      <td>20-24</td>\n",
       "      <td>2.0</td>\n",
       "    </tr>\n",
       "    <tr>\n",
       "      <th>...</th>\n",
       "      <td>...</td>\n",
       "      <td>...</td>\n",
       "      <td>...</td>\n",
       "      <td>...</td>\n",
       "      <td>...</td>\n",
       "      <td>...</td>\n",
       "      <td>...</td>\n",
       "      <td>...</td>\n",
       "      <td>...</td>\n",
       "    </tr>\n",
       "    <tr>\n",
       "      <th>68979</th>\n",
       "      <td>1371868</td>\n",
       "      <td>0.000000</td>\n",
       "      <td>2</td>\n",
       "      <td>1.0</td>\n",
       "      <td>0.0</td>\n",
       "      <td>24.0</td>\n",
       "      <td>35764</td>\n",
       "      <td>20-24</td>\n",
       "      <td>2.0</td>\n",
       "    </tr>\n",
       "    <tr>\n",
       "      <th>68980</th>\n",
       "      <td>1371871</td>\n",
       "      <td>0.000000</td>\n",
       "      <td>2</td>\n",
       "      <td>1.0</td>\n",
       "      <td>0.0</td>\n",
       "      <td>50.0</td>\n",
       "      <td>71137</td>\n",
       "      <td>40-59</td>\n",
       "      <td>2.0</td>\n",
       "    </tr>\n",
       "    <tr>\n",
       "      <th>68981</th>\n",
       "      <td>1371879</td>\n",
       "      <td>0.100000</td>\n",
       "      <td>10</td>\n",
       "      <td>1.0</td>\n",
       "      <td>0.0</td>\n",
       "      <td>25.0</td>\n",
       "      <td>17978</td>\n",
       "      <td>25-29</td>\n",
       "      <td>2.0</td>\n",
       "    </tr>\n",
       "    <tr>\n",
       "      <th>68982</th>\n",
       "      <td>1371937</td>\n",
       "      <td>0.000000</td>\n",
       "      <td>2</td>\n",
       "      <td>1.0</td>\n",
       "      <td>1.0</td>\n",
       "      <td>45.0</td>\n",
       "      <td>43151</td>\n",
       "      <td>40-59</td>\n",
       "      <td>1.0</td>\n",
       "    </tr>\n",
       "    <tr>\n",
       "      <th>68983</th>\n",
       "      <td>1371960</td>\n",
       "      <td>0.000000</td>\n",
       "      <td>1</td>\n",
       "      <td>1.0</td>\n",
       "      <td>1.0</td>\n",
       "      <td>29.0</td>\n",
       "      <td>40777</td>\n",
       "      <td>25-29</td>\n",
       "      <td>2.0</td>\n",
       "    </tr>\n",
       "  </tbody>\n",
       "</table>\n",
       "<p>68984 rows × 9 columns</p>\n",
       "</div>"
      ],
      "text/plain": [
       "       customer_id    recall  num_purchased  club_member_status  \\\n",
       "0               80  0.000000              1                 1.0   \n",
       "1               86  0.000000              1                 1.0   \n",
       "2              107  0.000000              3                 1.0   \n",
       "3              117  0.000000              1                 1.0   \n",
       "4              179  0.142857             14                 1.0   \n",
       "...            ...       ...            ...                 ...   \n",
       "68979      1371868  0.000000              2                 1.0   \n",
       "68980      1371871  0.000000              2                 1.0   \n",
       "68981      1371879  0.100000             10                 1.0   \n",
       "68982      1371937  0.000000              2                 1.0   \n",
       "68983      1371960  0.000000              1                 1.0   \n",
       "\n",
       "       fashion_news_frequency   age  postal_code age_group  sales_channel_id  \n",
       "0                         0.0  27.0           67     25-29               2.0  \n",
       "1                         1.0  33.0           73     30-39               2.0  \n",
       "2                         0.0  29.0           90     25-29               2.0  \n",
       "3                         1.0  25.0           98     25-29               2.0  \n",
       "4                         0.0  23.0          155     20-24               2.0  \n",
       "...                       ...   ...          ...       ...               ...  \n",
       "68979                     0.0  24.0        35764     20-24               2.0  \n",
       "68980                     0.0  50.0        71137     40-59               2.0  \n",
       "68981                     0.0  25.0        17978     25-29               2.0  \n",
       "68982                     1.0  45.0        43151     40-59               1.0  \n",
       "68983                     1.0  29.0        40777     25-29               2.0  \n",
       "\n",
       "[68984 rows x 9 columns]"
      ]
     },
     "execution_count": 80,
     "metadata": {},
     "output_type": "execute_result"
    }
   ],
   "source": [
    "niw_analysis = test_baskets.copy()\n",
    "\n",
    "niw_analysis = pd.merge(niw_analysis, niw_baskets, on='customer_id', how='left')\n",
    "niw_analysis['niw_candidates'] = [x if type(x) == set else set() for x in niw_analysis['niw_candidates']]\n",
    "\n",
    "niw_analysis['recall'] = niw_analysis.apply(lambda x: recall(x['true_purchase'], x['niw_candidates']), axis=1)\n",
    "niw_analysis['num_purchased'] = niw_analysis['true_purchase'].apply(len)\n",
    "\n",
    "niw_analysis.drop(columns=['true_purchase', 'niw_candidates'], inplace=True)\n",
    "\n",
    "niw_analysis = pd.merge(niw_analysis, customers, on='customer_id', how='left')\n",
    "\n",
    "niw_analysis"
   ]
  },
  {
   "cell_type": "code",
   "execution_count": 81,
   "metadata": {},
   "outputs": [
    {
     "data": {
      "text/plain": [
       "recall                    1.000000\n",
       "num_purchased            -0.015186\n",
       "club_member_status        0.011148\n",
       "fashion_news_frequency    0.019658\n",
       "age                      -0.001637\n",
       "postal_code              -0.001010\n",
       "sales_channel_id         -0.020883\n",
       "Name: recall, dtype: float64"
      ]
     },
     "execution_count": 81,
     "metadata": {},
     "output_type": "execute_result"
    }
   ],
   "source": [
    "niw_analysis.drop(columns=['customer_id', 'age_group']).corr().loc['recall']"
   ]
  },
  {
   "cell_type": "code",
   "execution_count": 82,
   "metadata": {},
   "outputs": [
    {
     "data": {
      "text/plain": [
       "recall                    1.000000\n",
       "num_purchased            -0.650226\n",
       "club_member_status        0.029984\n",
       "fashion_news_frequency   -0.024724\n",
       "age                       0.011993\n",
       "postal_code               0.000194\n",
       "sales_channel_id         -0.129911\n",
       "Name: recall, dtype: float64"
      ]
     },
     "execution_count": 82,
     "metadata": {},
     "output_type": "execute_result"
    }
   ],
   "source": [
    "niw_analysis[niw_analysis.recall > 0].drop(columns=['customer_id', 'age_group']).corr().loc['recall']"
   ]
  },
  {
   "cell_type": "code",
   "execution_count": 83,
   "metadata": {},
   "outputs": [
    {
     "data": {
      "text/plain": [
       "<Axes: xlabel='sales_channel_id', ylabel='recall'>"
      ]
     },
     "execution_count": 83,
     "metadata": {},
     "output_type": "execute_result"
    },
    {
     "data": {
      "image/png": "[encoded data removed]",
      "text/plain": [
       "<Figure size 1000x1000 with 4 Axes>"
      ]
     },
     "metadata": {},
     "output_type": "display_data"
    }
   ],
   "source": [
    "fig, ax = plt.subplots(2, 2, figsize=(10, 10))\n",
    "\n",
    "sns.boxplot(data=niw_analysis[niw_analysis.recall > 0], y='recall', x='age_group', ax=ax[0][0], color='red')\n",
    "\n",
    "sns.boxplot(data=niw_analysis[niw_analysis.recall > 0], y='recall', x='club_member_status', ax=ax[0][1], color='blue')\n",
    "\n",
    "sns.boxplot(data=niw_analysis[niw_analysis.recall > 0], y='recall', x='fashion_news_frequency', ax=ax[1][0], color='green')\n",
    "\n",
    "sns.boxplot(data=niw_analysis[niw_analysis.recall > 0], y='recall', x='sales_channel_id', ax=ax[1][1], color='orange')"
   ]
  },
  {
   "cell_type": "code",
   "execution_count": null,
   "metadata": {},
   "outputs": [],
   "source": []
  }
 ],
 "metadata": {
  "kernelspec": {
   "display_name": "AIPRO",
   "language": "python",
   "name": "python3"
  },
  "language_info": {
   "codemirror_mode": {
    "name": "ipython",
    "version": 3
   },
   "file_extension": ".py",
   "mimetype": "text/x-python",
   "name": "python",
   "nbconvert_exporter": "python",
   "pygments_lexer": "ipython3",
   "version": "3.11.5"
  }
 },
 "nbformat": 4,
 "nbformat_minor": 2
}
