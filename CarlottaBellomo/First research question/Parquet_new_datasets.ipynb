{
 "cells": [
  {
   "cell_type": "markdown",
   "id": "8fff63f2",
   "metadata": {},
   "source": [
    "# Import of libraries and datasets needed"
   ]
  },
  {
   "cell_type": "code",
   "execution_count": 1,
   "id": "99acf97e",
   "metadata": {},
   "outputs": [],
   "source": [
    "#libraries\n",
    "import pandas as pd\n",
    "from sklearn.preprocessing import LabelEncoder"
   ]
  },
  {
   "cell_type": "code",
   "execution_count": 2,
   "id": "4826cef3",
   "metadata": {},
   "outputs": [],
   "source": [
    "articles_parquet = pd.read_parquet('data_parquet_github/articles.parquet')\n",
    "customers_parquet = pd.read_parquet('data_parquet_github/customers.parquet')"
   ]
  },
  {
   "cell_type": "code",
   "execution_count": 3,
   "id": "51addca8",
   "metadata": {},
   "outputs": [
    {
     "data": {
      "text/html": [
       "<div>\n",
       "<style scoped>\n",
       "    .dataframe tbody tr th:only-of-type {\n",
       "        vertical-align: middle;\n",
       "    }\n",
       "\n",
       "    .dataframe tbody tr th {\n",
       "        vertical-align: top;\n",
       "    }\n",
       "\n",
       "    .dataframe thead th {\n",
       "        text-align: right;\n",
       "    }\n",
       "</style>\n",
       "<table border=\"1\" class=\"dataframe\">\n",
       "  <thead>\n",
       "    <tr style=\"text-align: right;\">\n",
       "      <th></th>\n",
       "      <th>article_id</th>\n",
       "      <th>product_code</th>\n",
       "      <th>prod_name</th>\n",
       "      <th>product_type_no</th>\n",
       "      <th>product_type_name</th>\n",
       "      <th>product_group_name</th>\n",
       "      <th>graphical_appearance_no</th>\n",
       "      <th>graphical_appearance_name</th>\n",
       "      <th>colour_group_code</th>\n",
       "      <th>colour_group_name</th>\n",
       "      <th>...</th>\n",
       "      <th>department_name</th>\n",
       "      <th>index_code</th>\n",
       "      <th>index_name</th>\n",
       "      <th>index_group_no</th>\n",
       "      <th>index_group_name</th>\n",
       "      <th>section_no</th>\n",
       "      <th>section_name</th>\n",
       "      <th>garment_group_no</th>\n",
       "      <th>garment_group_name</th>\n",
       "      <th>detail_desc</th>\n",
       "    </tr>\n",
       "  </thead>\n",
       "  <tbody>\n",
       "    <tr>\n",
       "      <th>0</th>\n",
       "      <td>108775015</td>\n",
       "      <td>108775</td>\n",
       "      <td>12855</td>\n",
       "      <td>253</td>\n",
       "      <td>9</td>\n",
       "      <td>0</td>\n",
       "      <td>1010016</td>\n",
       "      <td>0</td>\n",
       "      <td>9</td>\n",
       "      <td>0</td>\n",
       "      <td>...</td>\n",
       "      <td>10</td>\n",
       "      <td>0</td>\n",
       "      <td>0</td>\n",
       "      <td>1</td>\n",
       "      <td>0</td>\n",
       "      <td>16</td>\n",
       "      <td>30</td>\n",
       "      <td>1002</td>\n",
       "      <td>2</td>\n",
       "      <td>8834</td>\n",
       "    </tr>\n",
       "    <tr>\n",
       "      <th>1</th>\n",
       "      <td>108775044</td>\n",
       "      <td>108775</td>\n",
       "      <td>12855</td>\n",
       "      <td>253</td>\n",
       "      <td>9</td>\n",
       "      <td>0</td>\n",
       "      <td>1010016</td>\n",
       "      <td>0</td>\n",
       "      <td>10</td>\n",
       "      <td>2</td>\n",
       "      <td>...</td>\n",
       "      <td>10</td>\n",
       "      <td>0</td>\n",
       "      <td>0</td>\n",
       "      <td>1</td>\n",
       "      <td>0</td>\n",
       "      <td>16</td>\n",
       "      <td>30</td>\n",
       "      <td>1002</td>\n",
       "      <td>2</td>\n",
       "      <td>8834</td>\n",
       "    </tr>\n",
       "    <tr>\n",
       "      <th>2</th>\n",
       "      <td>108775051</td>\n",
       "      <td>108775</td>\n",
       "      <td>44846</td>\n",
       "      <td>253</td>\n",
       "      <td>9</td>\n",
       "      <td>0</td>\n",
       "      <td>1010017</td>\n",
       "      <td>3</td>\n",
       "      <td>11</td>\n",
       "      <td>11</td>\n",
       "      <td>...</td>\n",
       "      <td>10</td>\n",
       "      <td>0</td>\n",
       "      <td>0</td>\n",
       "      <td>1</td>\n",
       "      <td>0</td>\n",
       "      <td>16</td>\n",
       "      <td>30</td>\n",
       "      <td>1002</td>\n",
       "      <td>2</td>\n",
       "      <td>8834</td>\n",
       "    </tr>\n",
       "    <tr>\n",
       "      <th>3</th>\n",
       "      <td>110065001</td>\n",
       "      <td>110065</td>\n",
       "      <td>8159</td>\n",
       "      <td>306</td>\n",
       "      <td>13</td>\n",
       "      <td>4</td>\n",
       "      <td>1010016</td>\n",
       "      <td>0</td>\n",
       "      <td>9</td>\n",
       "      <td>0</td>\n",
       "      <td>...</td>\n",
       "      <td>131</td>\n",
       "      <td>7</td>\n",
       "      <td>7</td>\n",
       "      <td>1</td>\n",
       "      <td>0</td>\n",
       "      <td>61</td>\n",
       "      <td>5</td>\n",
       "      <td>1017</td>\n",
       "      <td>4</td>\n",
       "      <td>8243</td>\n",
       "    </tr>\n",
       "    <tr>\n",
       "      <th>4</th>\n",
       "      <td>110065002</td>\n",
       "      <td>110065</td>\n",
       "      <td>8159</td>\n",
       "      <td>306</td>\n",
       "      <td>13</td>\n",
       "      <td>4</td>\n",
       "      <td>1010016</td>\n",
       "      <td>0</td>\n",
       "      <td>10</td>\n",
       "      <td>2</td>\n",
       "      <td>...</td>\n",
       "      <td>131</td>\n",
       "      <td>7</td>\n",
       "      <td>7</td>\n",
       "      <td>1</td>\n",
       "      <td>0</td>\n",
       "      <td>61</td>\n",
       "      <td>5</td>\n",
       "      <td>1017</td>\n",
       "      <td>4</td>\n",
       "      <td>8243</td>\n",
       "    </tr>\n",
       "    <tr>\n",
       "      <th>...</th>\n",
       "      <td>...</td>\n",
       "      <td>...</td>\n",
       "      <td>...</td>\n",
       "      <td>...</td>\n",
       "      <td>...</td>\n",
       "      <td>...</td>\n",
       "      <td>...</td>\n",
       "      <td>...</td>\n",
       "      <td>...</td>\n",
       "      <td>...</td>\n",
       "      <td>...</td>\n",
       "      <td>...</td>\n",
       "      <td>...</td>\n",
       "      <td>...</td>\n",
       "      <td>...</td>\n",
       "      <td>...</td>\n",
       "      <td>...</td>\n",
       "      <td>...</td>\n",
       "      <td>...</td>\n",
       "      <td>...</td>\n",
       "      <td>...</td>\n",
       "    </tr>\n",
       "    <tr>\n",
       "      <th>105537</th>\n",
       "      <td>953450001</td>\n",
       "      <td>953450</td>\n",
       "      <td>24043</td>\n",
       "      <td>302</td>\n",
       "      <td>14</td>\n",
       "      <td>7</td>\n",
       "      <td>1010014</td>\n",
       "      <td>6</td>\n",
       "      <td>9</td>\n",
       "      <td>0</td>\n",
       "      <td>...</td>\n",
       "      <td>153</td>\n",
       "      <td>2</td>\n",
       "      <td>2</td>\n",
       "      <td>3</td>\n",
       "      <td>3</td>\n",
       "      <td>26</td>\n",
       "      <td>16</td>\n",
       "      <td>1021</td>\n",
       "      <td>13</td>\n",
       "      <td>28026</td>\n",
       "    </tr>\n",
       "    <tr>\n",
       "      <th>105538</th>\n",
       "      <td>953763001</td>\n",
       "      <td>953763</td>\n",
       "      <td>24027</td>\n",
       "      <td>253</td>\n",
       "      <td>9</td>\n",
       "      <td>0</td>\n",
       "      <td>1010016</td>\n",
       "      <td>0</td>\n",
       "      <td>9</td>\n",
       "      <td>0</td>\n",
       "      <td>...</td>\n",
       "      <td>0</td>\n",
       "      <td>0</td>\n",
       "      <td>0</td>\n",
       "      <td>1</td>\n",
       "      <td>0</td>\n",
       "      <td>2</td>\n",
       "      <td>15</td>\n",
       "      <td>1005</td>\n",
       "      <td>0</td>\n",
       "      <td>28025</td>\n",
       "    </tr>\n",
       "    <tr>\n",
       "      <th>105539</th>\n",
       "      <td>956217002</td>\n",
       "      <td>956217</td>\n",
       "      <td>24040</td>\n",
       "      <td>265</td>\n",
       "      <td>1</td>\n",
       "      <td>2</td>\n",
       "      <td>1010016</td>\n",
       "      <td>0</td>\n",
       "      <td>9</td>\n",
       "      <td>0</td>\n",
       "      <td>...</td>\n",
       "      <td>0</td>\n",
       "      <td>0</td>\n",
       "      <td>0</td>\n",
       "      <td>1</td>\n",
       "      <td>0</td>\n",
       "      <td>18</td>\n",
       "      <td>12</td>\n",
       "      <td>1005</td>\n",
       "      <td>0</td>\n",
       "      <td>28024</td>\n",
       "    </tr>\n",
       "    <tr>\n",
       "      <th>105540</th>\n",
       "      <td>957375001</td>\n",
       "      <td>957375</td>\n",
       "      <td>24041</td>\n",
       "      <td>72</td>\n",
       "      <td>48</td>\n",
       "      <td>3</td>\n",
       "      <td>1010016</td>\n",
       "      <td>0</td>\n",
       "      <td>9</td>\n",
       "      <td>0</td>\n",
       "      <td>...</td>\n",
       "      <td>29</td>\n",
       "      <td>1</td>\n",
       "      <td>1</td>\n",
       "      <td>2</td>\n",
       "      <td>2</td>\n",
       "      <td>52</td>\n",
       "      <td>25</td>\n",
       "      <td>1019</td>\n",
       "      <td>1</td>\n",
       "      <td>28023</td>\n",
       "    </tr>\n",
       "    <tr>\n",
       "      <th>105541</th>\n",
       "      <td>959461001</td>\n",
       "      <td>959461</td>\n",
       "      <td>45874</td>\n",
       "      <td>265</td>\n",
       "      <td>1</td>\n",
       "      <td>2</td>\n",
       "      <td>1010016</td>\n",
       "      <td>0</td>\n",
       "      <td>11</td>\n",
       "      <td>11</td>\n",
       "      <td>...</td>\n",
       "      <td>0</td>\n",
       "      <td>0</td>\n",
       "      <td>0</td>\n",
       "      <td>1</td>\n",
       "      <td>0</td>\n",
       "      <td>18</td>\n",
       "      <td>12</td>\n",
       "      <td>1005</td>\n",
       "      <td>0</td>\n",
       "      <td>43403</td>\n",
       "    </tr>\n",
       "  </tbody>\n",
       "</table>\n",
       "<p>105542 rows × 25 columns</p>\n",
       "</div>"
      ],
      "text/plain": [
       "        article_id  product_code  prod_name  product_type_no  \\\n",
       "0        108775015        108775      12855              253   \n",
       "1        108775044        108775      12855              253   \n",
       "2        108775051        108775      44846              253   \n",
       "3        110065001        110065       8159              306   \n",
       "4        110065002        110065       8159              306   \n",
       "...            ...           ...        ...              ...   \n",
       "105537   953450001        953450      24043              302   \n",
       "105538   953763001        953763      24027              253   \n",
       "105539   956217002        956217      24040              265   \n",
       "105540   957375001        957375      24041               72   \n",
       "105541   959461001        959461      45874              265   \n",
       "\n",
       "        product_type_name  product_group_name  graphical_appearance_no  \\\n",
       "0                       9                   0                  1010016   \n",
       "1                       9                   0                  1010016   \n",
       "2                       9                   0                  1010017   \n",
       "3                      13                   4                  1010016   \n",
       "4                      13                   4                  1010016   \n",
       "...                   ...                 ...                      ...   \n",
       "105537                 14                   7                  1010014   \n",
       "105538                  9                   0                  1010016   \n",
       "105539                  1                   2                  1010016   \n",
       "105540                 48                   3                  1010016   \n",
       "105541                  1                   2                  1010016   \n",
       "\n",
       "        graphical_appearance_name  colour_group_code  colour_group_name  ...  \\\n",
       "0                               0                  9                  0  ...   \n",
       "1                               0                 10                  2  ...   \n",
       "2                               3                 11                 11  ...   \n",
       "3                               0                  9                  0  ...   \n",
       "4                               0                 10                  2  ...   \n",
       "...                           ...                ...                ...  ...   \n",
       "105537                          6                  9                  0  ...   \n",
       "105538                          0                  9                  0  ...   \n",
       "105539                          0                  9                  0  ...   \n",
       "105540                          0                  9                  0  ...   \n",
       "105541                          0                 11                 11  ...   \n",
       "\n",
       "        department_name  index_code  index_name  index_group_no  \\\n",
       "0                    10           0           0               1   \n",
       "1                    10           0           0               1   \n",
       "2                    10           0           0               1   \n",
       "3                   131           7           7               1   \n",
       "4                   131           7           7               1   \n",
       "...                 ...         ...         ...             ...   \n",
       "105537              153           2           2               3   \n",
       "105538                0           0           0               1   \n",
       "105539                0           0           0               1   \n",
       "105540               29           1           1               2   \n",
       "105541                0           0           0               1   \n",
       "\n",
       "        index_group_name  section_no  section_name  garment_group_no  \\\n",
       "0                      0          16            30              1002   \n",
       "1                      0          16            30              1002   \n",
       "2                      0          16            30              1002   \n",
       "3                      0          61             5              1017   \n",
       "4                      0          61             5              1017   \n",
       "...                  ...         ...           ...               ...   \n",
       "105537                 3          26            16              1021   \n",
       "105538                 0           2            15              1005   \n",
       "105539                 0          18            12              1005   \n",
       "105540                 2          52            25              1019   \n",
       "105541                 0          18            12              1005   \n",
       "\n",
       "        garment_group_name  detail_desc  \n",
       "0                        2         8834  \n",
       "1                        2         8834  \n",
       "2                        2         8834  \n",
       "3                        4         8243  \n",
       "4                        4         8243  \n",
       "...                    ...          ...  \n",
       "105537                  13        28026  \n",
       "105538                   0        28025  \n",
       "105539                   0        28024  \n",
       "105540                   1        28023  \n",
       "105541                   0        43403  \n",
       "\n",
       "[105542 rows x 25 columns]"
      ]
     },
     "execution_count": 3,
     "metadata": {},
     "output_type": "execute_result"
    }
   ],
   "source": [
    "articles_parquet"
   ]
  },
  {
   "cell_type": "code",
   "execution_count": 4,
   "id": "a3e3edf4",
   "metadata": {
    "scrolled": true
   },
   "outputs": [
    {
     "data": {
      "text/html": [
       "<div>\n",
       "<style scoped>\n",
       "    .dataframe tbody tr th:only-of-type {\n",
       "        vertical-align: middle;\n",
       "    }\n",
       "\n",
       "    .dataframe tbody tr th {\n",
       "        vertical-align: top;\n",
       "    }\n",
       "\n",
       "    .dataframe thead th {\n",
       "        text-align: right;\n",
       "    }\n",
       "</style>\n",
       "<table border=\"1\" class=\"dataframe\">\n",
       "  <thead>\n",
       "    <tr style=\"text-align: right;\">\n",
       "      <th></th>\n",
       "      <th>customer_id</th>\n",
       "      <th>FN</th>\n",
       "      <th>Active</th>\n",
       "      <th>club_member_status</th>\n",
       "      <th>fashion_news_frequency</th>\n",
       "      <th>age</th>\n",
       "      <th>postal_code</th>\n",
       "    </tr>\n",
       "  </thead>\n",
       "  <tbody>\n",
       "    <tr>\n",
       "      <th>0</th>\n",
       "      <td>6883939031699146327</td>\n",
       "      <td>-1</td>\n",
       "      <td>-1</td>\n",
       "      <td>0</td>\n",
       "      <td>0</td>\n",
       "      <td>49</td>\n",
       "      <td>6305</td>\n",
       "    </tr>\n",
       "    <tr>\n",
       "      <th>1</th>\n",
       "      <td>11246327431398957306</td>\n",
       "      <td>-1</td>\n",
       "      <td>-1</td>\n",
       "      <td>0</td>\n",
       "      <td>0</td>\n",
       "      <td>25</td>\n",
       "      <td>33726</td>\n",
       "    </tr>\n",
       "    <tr>\n",
       "      <th>2</th>\n",
       "      <td>18439897732908966680</td>\n",
       "      <td>-1</td>\n",
       "      <td>-1</td>\n",
       "      <td>0</td>\n",
       "      <td>0</td>\n",
       "      <td>24</td>\n",
       "      <td>3247</td>\n",
       "    </tr>\n",
       "    <tr>\n",
       "      <th>3</th>\n",
       "      <td>18352672461570950206</td>\n",
       "      <td>-1</td>\n",
       "      <td>-1</td>\n",
       "      <td>0</td>\n",
       "      <td>0</td>\n",
       "      <td>54</td>\n",
       "      <td>168643</td>\n",
       "    </tr>\n",
       "    <tr>\n",
       "      <th>4</th>\n",
       "      <td>18162778555210377306</td>\n",
       "      <td>1</td>\n",
       "      <td>1</td>\n",
       "      <td>0</td>\n",
       "      <td>1</td>\n",
       "      <td>52</td>\n",
       "      <td>168645</td>\n",
       "    </tr>\n",
       "    <tr>\n",
       "      <th>...</th>\n",
       "      <td>...</td>\n",
       "      <td>...</td>\n",
       "      <td>...</td>\n",
       "      <td>...</td>\n",
       "      <td>...</td>\n",
       "      <td>...</td>\n",
       "      <td>...</td>\n",
       "    </tr>\n",
       "    <tr>\n",
       "      <th>1371975</th>\n",
       "      <td>7551062398649767985</td>\n",
       "      <td>-1</td>\n",
       "      <td>-1</td>\n",
       "      <td>0</td>\n",
       "      <td>0</td>\n",
       "      <td>24</td>\n",
       "      <td>50351</td>\n",
       "    </tr>\n",
       "    <tr>\n",
       "      <th>1371976</th>\n",
       "      <td>9305341941720086711</td>\n",
       "      <td>-1</td>\n",
       "      <td>-1</td>\n",
       "      <td>0</td>\n",
       "      <td>0</td>\n",
       "      <td>21</td>\n",
       "      <td>80169</td>\n",
       "    </tr>\n",
       "    <tr>\n",
       "      <th>1371977</th>\n",
       "      <td>10160427316885688932</td>\n",
       "      <td>1</td>\n",
       "      <td>1</td>\n",
       "      <td>0</td>\n",
       "      <td>1</td>\n",
       "      <td>21</td>\n",
       "      <td>106737</td>\n",
       "    </tr>\n",
       "    <tr>\n",
       "      <th>1371978</th>\n",
       "      <td>2551401172826382186</td>\n",
       "      <td>1</td>\n",
       "      <td>1</td>\n",
       "      <td>0</td>\n",
       "      <td>1</td>\n",
       "      <td>18</td>\n",
       "      <td>111894</td>\n",
       "    </tr>\n",
       "    <tr>\n",
       "      <th>1371979</th>\n",
       "      <td>16929951892735599169</td>\n",
       "      <td>-1</td>\n",
       "      <td>-1</td>\n",
       "      <td>1</td>\n",
       "      <td>0</td>\n",
       "      <td>65</td>\n",
       "      <td>352898</td>\n",
       "    </tr>\n",
       "  </tbody>\n",
       "</table>\n",
       "<p>1371980 rows × 7 columns</p>\n",
       "</div>"
      ],
      "text/plain": [
       "                  customer_id  FN  Active  club_member_status  \\\n",
       "0         6883939031699146327  -1      -1                   0   \n",
       "1        11246327431398957306  -1      -1                   0   \n",
       "2        18439897732908966680  -1      -1                   0   \n",
       "3        18352672461570950206  -1      -1                   0   \n",
       "4        18162778555210377306   1       1                   0   \n",
       "...                       ...  ..     ...                 ...   \n",
       "1371975   7551062398649767985  -1      -1                   0   \n",
       "1371976   9305341941720086711  -1      -1                   0   \n",
       "1371977  10160427316885688932   1       1                   0   \n",
       "1371978   2551401172826382186   1       1                   0   \n",
       "1371979  16929951892735599169  -1      -1                   1   \n",
       "\n",
       "         fashion_news_frequency  age  postal_code  \n",
       "0                             0   49         6305  \n",
       "1                             0   25        33726  \n",
       "2                             0   24         3247  \n",
       "3                             0   54       168643  \n",
       "4                             1   52       168645  \n",
       "...                         ...  ...          ...  \n",
       "1371975                       0   24        50351  \n",
       "1371976                       0   21        80169  \n",
       "1371977                       1   21       106737  \n",
       "1371978                       1   18       111894  \n",
       "1371979                       0   65       352898  \n",
       "\n",
       "[1371980 rows x 7 columns]"
      ]
     },
     "execution_count": 4,
     "metadata": {},
     "output_type": "execute_result"
    }
   ],
   "source": [
    "customers_parquet"
   ]
  },
  {
   "cell_type": "code",
   "execution_count": 5,
   "id": "a08d076a",
   "metadata": {},
   "outputs": [],
   "source": [
    "articles_new_one = pd.read_csv('Data/gender_articles_first_version.csv')\n",
    "articles_new_two = pd.read_csv('Data/gender_articles_second_version.csv')\n",
    "customers_new_one = pd.read_csv('Data/gender_customers_first_version.csv')\n",
    "customers_new_two = pd.read_csv('Data/gender_customers_first_version.csv')"
   ]
  },
  {
   "cell_type": "markdown",
   "id": "f00392f6",
   "metadata": {},
   "source": [
    "# Add of the new column to the dataset to use in LGBM Ranker and export of the new parquet dataset"
   ]
  },
  {
   "cell_type": "markdown",
   "id": "45491c15",
   "metadata": {},
   "source": [
    "### First version of the articles dataset"
   ]
  },
  {
   "cell_type": "code",
   "execution_count": 6,
   "id": "c11274be",
   "metadata": {},
   "outputs": [
    {
     "data": {
      "text/plain": [
       "Index(['Unnamed: 0', 'article_id', 'product_code', 'prod_name',\n",
       "       'product_type_no', 'product_type_name', 'product_group_name',\n",
       "       'graphical_appearance_no', 'graphical_appearance_name',\n",
       "       'colour_group_code', 'colour_group_name', 'perceived_colour_value_id',\n",
       "       'perceived_colour_value_name', 'perceived_colour_master_id',\n",
       "       'perceived_colour_master_name', 'department_no', 'department_name',\n",
       "       'index_code', 'index_name', 'index_group_no', 'index_group_name',\n",
       "       'section_no', 'section_name', 'garment_group_no', 'garment_group_name',\n",
       "       'detail_desc', 'article_gender', 'numerical_article_gender'],\n",
       "      dtype='object')"
      ]
     },
     "execution_count": 6,
     "metadata": {},
     "output_type": "execute_result"
    }
   ],
   "source": [
    "articles_new_one.columns"
   ]
  },
  {
   "cell_type": "code",
   "execution_count": 7,
   "id": "11cae0dd",
   "metadata": {},
   "outputs": [],
   "source": [
    "#gender from the first version of the article dataset\n",
    "articles_parquet_one = articles_parquet.copy()\n",
    "column_to_add = articles_new_one['numerical_article_gender']\n",
    "articles_parquet_one['numerical_article_gender'] = column_to_add"
   ]
  },
  {
   "cell_type": "code",
   "execution_count": 8,
   "id": "5fd84cdd",
   "metadata": {},
   "outputs": [
    {
     "data": {
      "text/plain": [
       "Index(['article_id', 'product_code', 'prod_name', 'product_type_no',\n",
       "       'product_type_name', 'product_group_name', 'graphical_appearance_no',\n",
       "       'graphical_appearance_name', 'colour_group_code', 'colour_group_name',\n",
       "       'perceived_colour_value_id', 'perceived_colour_value_name',\n",
       "       'perceived_colour_master_id', 'perceived_colour_master_name',\n",
       "       'department_no', 'department_name', 'index_code', 'index_name',\n",
       "       'index_group_no', 'index_group_name', 'section_no', 'section_name',\n",
       "       'garment_group_no', 'garment_group_name', 'detail_desc',\n",
       "       'numerical_article_gender'],\n",
       "      dtype='object')"
      ]
     },
     "execution_count": 8,
     "metadata": {},
     "output_type": "execute_result"
    }
   ],
   "source": [
    "articles_parquet_one.columns"
   ]
  },
  {
   "cell_type": "code",
   "execution_count": 9,
   "id": "3d266841",
   "metadata": {},
   "outputs": [],
   "source": [
    "articles_parquet_one.to_parquet('Dataset_parquet_new_assignement/new_articles_one.parquet')"
   ]
  },
  {
   "cell_type": "markdown",
   "id": "de475d6f",
   "metadata": {},
   "source": [
    "### Second version of the articles dataset"
   ]
  },
  {
   "cell_type": "code",
   "execution_count": 10,
   "id": "037a3466",
   "metadata": {},
   "outputs": [
    {
     "data": {
      "text/plain": [
       "Index(['Unnamed: 0', 'article_id', 'product_code', 'prod_name',\n",
       "       'product_type_no', 'product_type_name', 'product_group_name',\n",
       "       'graphical_appearance_no', 'graphical_appearance_name',\n",
       "       'colour_group_code', 'colour_group_name', 'perceived_colour_value_id',\n",
       "       'perceived_colour_value_name', 'perceived_colour_master_id',\n",
       "       'perceived_colour_master_name', 'department_no', 'department_name',\n",
       "       'index_code', 'index_name', 'index_group_no', 'index_group_name',\n",
       "       'section_no', 'section_name', 'garment_group_no', 'garment_group_name',\n",
       "       'detail_desc', 'gender_clothes', 'numerical_gender_clothes'],\n",
       "      dtype='object')"
      ]
     },
     "execution_count": 10,
     "metadata": {},
     "output_type": "execute_result"
    }
   ],
   "source": [
    "articles_new_two.columns"
   ]
  },
  {
   "cell_type": "code",
   "execution_count": 11,
   "id": "a32fd144",
   "metadata": {},
   "outputs": [],
   "source": [
    "#gender from the second version of the article dataset\n",
    "articles_parquet_two = articles_parquet.copy()\n",
    "column_to_add_two = articles_new_one['numerical_article_gender']\n",
    "articles_parquet_two['numerical_article_gender'] = column_to_add_two"
   ]
  },
  {
   "cell_type": "code",
   "execution_count": 12,
   "id": "f0d48f65",
   "metadata": {},
   "outputs": [
    {
     "data": {
      "text/plain": [
       "Index(['article_id', 'product_code', 'prod_name', 'product_type_no',\n",
       "       'product_type_name', 'product_group_name', 'graphical_appearance_no',\n",
       "       'graphical_appearance_name', 'colour_group_code', 'colour_group_name',\n",
       "       'perceived_colour_value_id', 'perceived_colour_value_name',\n",
       "       'perceived_colour_master_id', 'perceived_colour_master_name',\n",
       "       'department_no', 'department_name', 'index_code', 'index_name',\n",
       "       'index_group_no', 'index_group_name', 'section_no', 'section_name',\n",
       "       'garment_group_no', 'garment_group_name', 'detail_desc',\n",
       "       'numerical_article_gender'],\n",
       "      dtype='object')"
      ]
     },
     "execution_count": 12,
     "metadata": {},
     "output_type": "execute_result"
    }
   ],
   "source": [
    "articles_parquet_two.columns"
   ]
  },
  {
   "cell_type": "code",
   "execution_count": 13,
   "id": "8cbd2ec2",
   "metadata": {},
   "outputs": [],
   "source": [
    "articles_parquet_two.to_parquet('Dataset_parquet_new_assignement/new_articles_two.parquet')"
   ]
  },
  {
   "cell_type": "markdown",
   "id": "a8c85b52",
   "metadata": {},
   "source": [
    "### First version of the customers dataset"
   ]
  },
  {
   "cell_type": "code",
   "execution_count": 14,
   "id": "13778943",
   "metadata": {},
   "outputs": [
    {
     "data": {
      "text/plain": [
       "Index(['Unnamed: 0', 'customer_id', 'FN', 'Active', 'club_member_status',\n",
       "       'fashion_news_frequency', 'age', 'postal_code', 'gender'],\n",
       "      dtype='object')"
      ]
     },
     "execution_count": 14,
     "metadata": {},
     "output_type": "execute_result"
    }
   ],
   "source": [
    "customers_new_one.columns"
   ]
  },
  {
   "cell_type": "code",
   "execution_count": 15,
   "id": "d01e1364",
   "metadata": {},
   "outputs": [],
   "source": [
    "#gender from the first version of the customer dataset\n",
    "customers_parquet_one = customers_parquet.copy()\n",
    "column_to_add = customers_new_one['gender']"
   ]
  },
  {
   "cell_type": "code",
   "execution_count": 16,
   "id": "c678007f",
   "metadata": {},
   "outputs": [
    {
     "data": {
      "text/plain": [
       "[0, 1, 2, 3]"
      ]
     },
     "execution_count": 16,
     "metadata": {},
     "output_type": "execute_result"
    }
   ],
   "source": [
    "label_encoder = LabelEncoder()\n",
    "label_encoder.fit(customers_new_one['gender'])\n",
    "results = label_encoder.transform(customers_new_one['gender'])\n",
    "list(set(results))"
   ]
  },
  {
   "cell_type": "code",
   "execution_count": 17,
   "id": "2275253e",
   "metadata": {},
   "outputs": [],
   "source": [
    "customers_parquet_one['numerical_gender'] = results"
   ]
  },
  {
   "cell_type": "code",
   "execution_count": 18,
   "id": "c72b489a",
   "metadata": {},
   "outputs": [],
   "source": [
    "customers_parquet_one.to_parquet('Dataset_parquet_new_assignement/new_customer_one.parquet')"
   ]
  },
  {
   "cell_type": "markdown",
   "id": "e3fd925a",
   "metadata": {},
   "source": [
    "### Second version of the customers dataset"
   ]
  },
  {
   "cell_type": "code",
   "execution_count": 19,
   "id": "d5b03713",
   "metadata": {},
   "outputs": [
    {
     "data": {
      "text/plain": [
       "Index(['Unnamed: 0', 'customer_id', 'FN', 'Active', 'club_member_status',\n",
       "       'fashion_news_frequency', 'age', 'postal_code', 'gender'],\n",
       "      dtype='object')"
      ]
     },
     "execution_count": 19,
     "metadata": {},
     "output_type": "execute_result"
    }
   ],
   "source": [
    "customers_new_two.columns"
   ]
  },
  {
   "cell_type": "code",
   "execution_count": 20,
   "id": "f86a7372",
   "metadata": {},
   "outputs": [],
   "source": [
    "#gender from the second version of the customer dataset\n",
    "customers_parquet_two = customers_parquet.copy()\n",
    "column_to_add_two = customers_new_one['gender']"
   ]
  },
  {
   "cell_type": "code",
   "execution_count": 21,
   "id": "83e3a5e2",
   "metadata": {},
   "outputs": [
    {
     "data": {
      "text/plain": [
       "[0, 1, 2, 3]"
      ]
     },
     "execution_count": 21,
     "metadata": {},
     "output_type": "execute_result"
    }
   ],
   "source": [
    "label_encoder = LabelEncoder()\n",
    "label_encoder.fit(customers_new_two['gender'])\n",
    "results_two = label_encoder.transform(customers_new_two['gender'])\n",
    "list(set(results_two))"
   ]
  },
  {
   "cell_type": "code",
   "execution_count": 22,
   "id": "84fc9b2e",
   "metadata": {},
   "outputs": [],
   "source": [
    "customers_parquet_two['numerical_gender'] = results"
   ]
  },
  {
   "cell_type": "code",
   "execution_count": 23,
   "id": "cb2d4d32",
   "metadata": {},
   "outputs": [],
   "source": [
    "customers_parquet_two.to_parquet('Dataset_parquet_new_assignement/new_customer_two.parquet')"
   ]
  }
 ],
 "metadata": {
  "kernelspec": {
   "display_name": "Python 3 (ipykernel)",
   "language": "python",
   "name": "python3"
  },
  "language_info": {
   "codemirror_mode": {
    "name": "ipython",
    "version": 3
   },
   "file_extension": ".py",
   "mimetype": "text/x-python",
   "name": "python",
   "nbconvert_exporter": "python",
   "pygments_lexer": "ipython3",
   "version": "3.11.5"
  }
 },
 "nbformat": 4,
 "nbformat_minor": 5
}
