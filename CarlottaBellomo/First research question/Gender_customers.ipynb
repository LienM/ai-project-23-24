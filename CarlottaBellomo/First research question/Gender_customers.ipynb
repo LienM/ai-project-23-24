{
 "cells": [
  {
   "cell_type": "markdown",
   "id": "83e57cfc",
   "metadata": {},
   "source": [
    "# Import of libraries and datasets"
   ]
  },
  {
   "cell_type": "code",
   "execution_count": 1,
   "id": "43728a70",
   "metadata": {},
   "outputs": [],
   "source": [
    "#libraries\n",
    "import pandas as pd\n",
    "import numpy as np"
   ]
  },
  {
   "cell_type": "code",
   "execution_count": 2,
   "id": "e493db04",
   "metadata": {},
   "outputs": [],
   "source": [
    "#articles first version\n",
    "articles_one = pd.read_csv('Data/gender_articles_first_version.csv')\n",
    "articles_one = pd.DataFrame(articles_one)"
   ]
  },
  {
   "cell_type": "code",
   "execution_count": 3,
   "id": "cb45b10f",
   "metadata": {},
   "outputs": [],
   "source": [
    "#articles second version\n",
    "articles_two = pd.read_csv('Data/gender_articles_second_version.csv')\n",
    "articles_two = pd.DataFrame(articles_two)"
   ]
  },
  {
   "cell_type": "code",
   "execution_count": 4,
   "id": "73d262cf",
   "metadata": {},
   "outputs": [],
   "source": [
    "#transactions\n",
    "transactions = pd.read_csv('Data/transactions_train.csv')\n",
    "transactions = pd.DataFrame(transactions)"
   ]
  },
  {
   "cell_type": "code",
   "execution_count": 5,
   "id": "1bd312f2",
   "metadata": {},
   "outputs": [],
   "source": [
    "#customers\n",
    "customers = pd.read_csv('Data/customers.csv')\n",
    "customers = pd.DataFrame(customers)"
   ]
  },
  {
   "cell_type": "markdown",
   "id": "15c1a4f4",
   "metadata": {},
   "source": [
    "# Identification of the id of the articles bought by a customer and gender association"
   ]
  },
  {
   "cell_type": "code",
   "execution_count": 6,
   "id": "721238fa",
   "metadata": {},
   "outputs": [],
   "source": [
    "#creation of an association between the customer_id and the article_id of bought articles\n",
    "result = transactions.groupby('customer_id')['article_id'].agg(list).reset_index()"
   ]
  },
  {
   "cell_type": "markdown",
   "id": "a7b00cea",
   "metadata": {},
   "source": [
    "### working with the dataframe articles_one"
   ]
  },
  {
   "cell_type": "code",
   "execution_count": 7,
   "id": "51049acc",
   "metadata": {},
   "outputs": [],
   "source": [
    "customer_gender_dict = {}\n",
    "\n",
    "for index, row in result.iterrows():\n",
    "    customer_id = row['customer_id']\n",
    "    article_ids = row['article_id']\n",
    "    \n",
    "    gender_counts = articles_one[articles_one['article_id'].isin(article_ids)]['article_gender'].value_counts()\n",
    "    \n",
    "    if not gender_counts.empty:\n",
    "        most_common_gender = gender_counts.idxmax()  # Get the most common gender\n",
    "        customer_gender_dict[customer_id] = most_common_gender\n",
    "\n",
    "customers_one = customers.copy()\n",
    "customers_one['gender'] = customers_one['customer_id'].map(customer_gender_dict)\n",
    "customers_one['gender'].fillna('unknown', inplace=True)"
   ]
  },
  {
   "cell_type": "markdown",
   "id": "bf690433",
   "metadata": {},
   "source": [
    "### working with the dataframe articles_two"
   ]
  },
  {
   "cell_type": "code",
   "execution_count": 8,
   "id": "8ae7451d",
   "metadata": {},
   "outputs": [],
   "source": [
    "customer_gender_dict_bis = {}\n",
    "\n",
    "for index, row in result.iterrows():\n",
    "    customer_id = row['customer_id']\n",
    "    article_ids = row['article_id']\n",
    "    \n",
    "    gender_counts_bis = articles_one[articles_two['article_id'].isin(article_ids)]['article_gender'].value_counts()\n",
    "    \n",
    "    if not gender_counts_bis.empty:\n",
    "        most_common_gender = gender_counts_bis.idxmax() \n",
    "        customer_gender_dict_bis[customer_id] = most_common_gender\n",
    "\n",
    "# Add a 'gender' column to the 'customers' DataFrame\n",
    "customers_two = customers.copy()\n",
    "customers_two['gender'] = customers_two['customer_id'].map(customer_gender_dict_bis)\n",
    "customers_two['gender'].fillna('unknown', inplace = True)"
   ]
  },
  {
   "cell_type": "markdown",
   "id": "4f153a7a",
   "metadata": {},
   "source": [
    "# Saving of the new datasets"
   ]
  },
  {
   "cell_type": "code",
   "execution_count": 9,
   "id": "40f7121f",
   "metadata": {},
   "outputs": [],
   "source": [
    "customers_one.to_csv('Data/gender_customers_first_version.csv')\n",
    "customers_two.to_csv('Data/gender_customers_second_version.csv')"
   ]
  },
  {
   "cell_type": "code",
   "execution_count": null,
   "id": "f95929c1",
   "metadata": {},
   "outputs": [],
   "source": []
  }
 ],
 "metadata": {
  "kernelspec": {
   "display_name": "Python 3 (ipykernel)",
   "language": "python",
   "name": "python3"
  },
  "language_info": {
   "codemirror_mode": {
    "name": "ipython",
    "version": 3
   },
   "file_extension": ".py",
   "mimetype": "text/x-python",
   "name": "python",
   "nbconvert_exporter": "python",
   "pygments_lexer": "ipython3",
   "version": "3.11.5"
  }
 },
 "nbformat": 4,
 "nbformat_minor": 5
}
