{
 "cells": [
  {
   "cell_type": "markdown",
   "id": "8c737869",
   "metadata": {
    "papermill": {
     "duration": 0.049833,
     "end_time": "2023-11-20T18:52:23.862888",
     "exception": false,
     "start_time": "2023-11-20T18:52:23.813055",
     "status": "completed"
    },
    "tags": []
   },
   "source": [
    "Radek posted about this [here](https://www.kaggle.com/competitions/h-and-m-personalized-fashion-recommendations/discussion/309220), and linked to a GitHub repo with the code.\n",
    "\n",
    "I just transferred that code here to Kaggle notebooks, that's all."
   ]
  },
  {
   "cell_type": "code",
   "execution_count": 1,
   "id": "828b7424",
   "metadata": {
    "execution": {
     "iopub.execute_input": "2023-11-20T18:52:23.961448Z",
     "iopub.status.busy": "2023-11-20T18:52:23.960987Z",
     "iopub.status.idle": "2023-11-20T18:52:23.982644Z",
     "shell.execute_reply": "2023-11-20T18:52:23.981844Z"
    },
    "papermill": {
     "duration": 0.073629,
     "end_time": "2023-11-20T18:52:23.985107",
     "exception": false,
     "start_time": "2023-11-20T18:52:23.911478",
     "status": "completed"
    },
    "tags": []
   },
   "outputs": [],
   "source": [
    "import numpy as np\n",
    "\n",
    "def apk(actual, predicted, k=10):\n",
    "    \"\"\"\n",
    "    Computes the average precision at k.\n",
    "\n",
    "    This function computes the average prescision at k between two lists of\n",
    "    items.\n",
    "\n",
    "    Parameters\n",
    "    ----------\n",
    "    actual : list\n",
    "             A list of elements that are to be predicted (order doesn't matter)\n",
    "    predicted : list\n",
    "                A list of predicted elements (order does matter)\n",
    "    k : int, optional\n",
    "        The maximum number of predicted elements\n",
    "\n",
    "    Returns\n",
    "    -------\n",
    "    score : double\n",
    "            The average precision at k over the input lists\n",
    "\n",
    "    \"\"\"\n",
    "    if len(predicted)>k:\n",
    "        predicted = predicted[:k]\n",
    "\n",
    "    score = 0.0\n",
    "    num_hits = 0.0\n",
    "\n",
    "    for i,p in enumerate(predicted):\n",
    "        if p in actual and p not in predicted[:i]:\n",
    "            num_hits += 1.0\n",
    "            score += num_hits / (i+1.0)\n",
    "\n",
    "    if not actual:\n",
    "        return 0.0\n",
    "\n",
    "    return score / min(len(actual), k)\n",
    "\n",
    "def mapk(actual, predicted, k=10):\n",
    "    \"\"\"\n",
    "    Computes the mean average precision at k.\n",
    "\n",
    "    This function computes the mean average prescision at k between two lists\n",
    "    of lists of items.\n",
    "\n",
    "    Parameters\n",
    "    ----------\n",
    "    actual : list\n",
    "             A list of lists of elements that are to be predicted \n",
    "             (order doesn't matter in the lists)\n",
    "    predicted : list\n",
    "                A list of lists of predicted elements\n",
    "                (order matters in the lists)\n",
    "    k : int, optional\n",
    "        The maximum number of predicted elements\n",
    "\n",
    "    Returns\n",
    "    -------\n",
    "    score : double\n",
    "            The mean average precision at k over the input lists\n",
    "\n",
    "    \"\"\"\n",
    "    return np.mean([apk(a,p,k) for a,p in zip(actual, predicted)])"
   ]
  },
  {
   "cell_type": "code",
   "execution_count": 2,
   "id": "080f513c",
   "metadata": {
    "execution": {
     "iopub.execute_input": "2023-11-20T18:52:24.082909Z",
     "iopub.status.busy": "2023-11-20T18:52:24.082605Z",
     "iopub.status.idle": "2023-11-20T18:52:25.131299Z",
     "shell.execute_reply": "2023-11-20T18:52:25.130285Z"
    },
    "papermill": {
     "duration": 1.10031,
     "end_time": "2023-11-20T18:52:25.133994",
     "exception": false,
     "start_time": "2023-11-20T18:52:24.033684",
     "status": "completed"
    },
    "tags": []
   },
   "outputs": [],
   "source": [
    "from sklearn.base import BaseEstimator, TransformerMixin\n",
    "import numpy as np\n",
    "\n",
    "# https://www.kaggle.com/c/h-and-m-personalized-fashion-recommendations/discussion/308635\n",
    "def customer_hex_id_to_int(series):\n",
    "    return series.str[-16:].apply(hex_id_to_int)\n",
    "\n",
    "def hex_id_to_int(str):\n",
    "    return int(str[-16:], 16)\n",
    "\n",
    "def article_id_str_to_int(series):\n",
    "    return series.astype('int32')\n",
    "\n",
    "def article_id_int_to_str(series):\n",
    "    return '0' + series.astype('str')\n",
    "\n",
    "class Categorize(BaseEstimator, TransformerMixin):\n",
    "    def __init__(self, min_examples=0):\n",
    "        self.min_examples = min_examples\n",
    "        self.categories = []\n",
    "        \n",
    "    def fit(self, X):\n",
    "        for i in range(X.shape[1]):\n",
    "            vc = X.iloc[:, i].value_counts()\n",
    "            self.categories.append(vc[vc > self.min_examples].index.tolist())\n",
    "        return self\n",
    "\n",
    "    def transform(self, X):\n",
    "        data = {X.columns[i]: pd.Categorical(X.iloc[:, i], categories=self.categories[i]).codes for i in range(X.shape[1])}\n",
    "        return pd.DataFrame(data=data)\n",
    "\n",
    "\n",
    "def calculate_apk(list_of_preds, list_of_gts):\n",
    "    # for fast validation this can be changed to operate on dicts of {'cust_id_int': [art_id_int, ...]}\n",
    "    # using 'data/val_week_purchases_by_cust.pkl'\n",
    "    apks = []\n",
    "    for preds, gt in zip(list_of_preds, list_of_gts):\n",
    "        apks.append(apk(gt, preds, k=12))\n",
    "    return np.mean(apks)\n",
    "\n",
    "def eval_sub(sub_csv, skip_cust_with_no_purchases=True):\n",
    "    sub=pd.read_csv(sub_csv)\n",
    "    validation_set=pd.read_parquet('data/validation_ground_truth.parquet')\n",
    "\n",
    "    apks = []\n",
    "\n",
    "    no_purchases_pattern = []\n",
    "    for pred, gt in zip(sub.prediction.str.split(), validation_set.prediction.str.split()):\n",
    "        if skip_cust_with_no_purchases and (gt == no_purchases_pattern): continue\n",
    "        apks.append(apk(gt, pred, k=12))\n",
    "    return np.mean(apks)"
   ]
  },
  {
   "cell_type": "code",
   "execution_count": 3,
   "id": "1d642465",
   "metadata": {
    "execution": {
     "iopub.execute_input": "2023-11-20T18:52:25.235146Z",
     "iopub.status.busy": "2023-11-20T18:52:25.234824Z",
     "iopub.status.idle": "2023-11-20T18:52:25.238744Z",
     "shell.execute_reply": "2023-11-20T18:52:25.238100Z"
    },
    "papermill": {
     "duration": 0.055807,
     "end_time": "2023-11-20T18:52:25.240536",
     "exception": false,
     "start_time": "2023-11-20T18:52:25.184729",
     "status": "completed"
    },
    "tags": []
   },
   "outputs": [],
   "source": [
    "import pandas as pd"
   ]
  },
  {
   "cell_type": "code",
   "execution_count": 4,
   "id": "0e4b192d",
   "metadata": {
    "execution": {
     "iopub.execute_input": "2023-11-20T18:52:25.339178Z",
     "iopub.status.busy": "2023-11-20T18:52:25.338354Z",
     "iopub.status.idle": "2023-11-20T18:52:32.438445Z",
     "shell.execute_reply": "2023-11-20T18:52:32.437282Z"
    },
    "papermill": {
     "duration": 7.152077,
     "end_time": "2023-11-20T18:52:32.440990",
     "exception": false,
     "start_time": "2023-11-20T18:52:25.288913",
     "status": "completed"
    },
    "tags": []
   },
   "outputs": [
    {
     "name": "stdout",
     "output_type": "stream",
     "text": [
      "CPU times: user 2.24 s, sys: 2.85 s, total: 5.09 s\n",
      "Wall time: 7.09 s\n"
     ]
    }
   ],
   "source": [
    "%%time\n",
    "\n",
    "transactions = pd.read_parquet('../input/warmup/transactions_train.parquet')\n",
    "customers = pd.read_parquet('../input/parquet-new-assignement/new_customer_one.parquet')\n",
    "articles = pd.read_parquet('../input/parquet-new-assignement/new_articles_one.parquet')\n",
    "\n",
    "# sample = 0.05\n",
    "# transactions = pd.read_parquet(f'data/transactions_train_sample_{sample}.parquet')\n",
    "# customers = pd.read_parquet(f'data/customers_sample_{sample}.parquet')\n",
    "# articles = pd.read_parquet(f'data/articles_train_sample_{sample}.parquet')"
   ]
  },
  {
   "cell_type": "code",
   "execution_count": 5,
   "id": "258729bd",
   "metadata": {
    "execution": {
     "iopub.execute_input": "2023-11-20T18:52:32.550627Z",
     "iopub.status.busy": "2023-11-20T18:52:32.550122Z",
     "iopub.status.idle": "2023-11-20T18:52:34.621540Z",
     "shell.execute_reply": "2023-11-20T18:52:34.620660Z"
    },
    "papermill": {
     "duration": 2.125059,
     "end_time": "2023-11-20T18:52:34.624205",
     "exception": false,
     "start_time": "2023-11-20T18:52:32.499146",
     "status": "completed"
    },
    "tags": []
   },
   "outputs": [],
   "source": [
    "#adding of the column week to the dataframe transactions\n",
    "transactions.t_dat = pd.to_datetime(transactions.t_dat, format='%Y-%m-%d')\n",
    "transactions['week'] = 104 - (transactions.t_dat.max() - transactions.t_dat).dt.days // 7"
   ]
  },
  {
   "cell_type": "code",
   "execution_count": 6,
   "id": "9d8aa2b2",
   "metadata": {
    "execution": {
     "iopub.execute_input": "2023-11-20T18:52:34.723186Z",
     "iopub.status.busy": "2023-11-20T18:52:34.722899Z",
     "iopub.status.idle": "2023-11-20T18:52:34.759607Z",
     "shell.execute_reply": "2023-11-20T18:52:34.758749Z"
    },
    "papermill": {
     "duration": 0.088937,
     "end_time": "2023-11-20T18:52:34.762011",
     "exception": false,
     "start_time": "2023-11-20T18:52:34.673074",
     "status": "completed"
    },
    "tags": []
   },
   "outputs": [],
   "source": [
    "#definition of the week for test\n",
    "test_week = transactions.week.max() + 1 \n",
    "#transactions = transactions[transactions.week > transactions.week.max() - 10]"
   ]
  },
  {
   "cell_type": "markdown",
   "id": "29e9ad2e",
   "metadata": {
    "papermill": {
     "duration": 0.048842,
     "end_time": "2023-11-20T18:52:34.860838",
     "exception": false,
     "start_time": "2023-11-20T18:52:34.811996",
     "status": "completed"
    },
    "tags": []
   },
   "source": [
    "# Generating candidates"
   ]
  },
  {
   "cell_type": "markdown",
   "id": "c1ea67f1",
   "metadata": {
    "papermill": {
     "duration": 0.05129,
     "end_time": "2023-11-20T18:52:34.961628",
     "exception": false,
     "start_time": "2023-11-20T18:52:34.910338",
     "status": "completed"
    },
    "tags": []
   },
   "source": [
    "### Last purchase candidates"
   ]
  },
  {
   "cell_type": "code",
   "execution_count": 7,
   "id": "9cb9986e",
   "metadata": {
    "execution": {
     "iopub.execute_input": "2023-11-20T18:52:35.061777Z",
     "iopub.status.busy": "2023-11-20T18:52:35.061445Z",
     "iopub.status.idle": "2023-11-20T18:52:54.747928Z",
     "shell.execute_reply": "2023-11-20T18:52:54.746884Z"
    },
    "papermill": {
     "duration": 19.740476,
     "end_time": "2023-11-20T18:52:54.750724",
     "exception": false,
     "start_time": "2023-11-20T18:52:35.010248",
     "status": "completed"
    },
    "tags": []
   },
   "outputs": [],
   "source": [
    "'''deciding to work only with data of the months of September since probably articles\n",
    "bought in this period could be the same and then the reccomendation could be more \n",
    "related also to the period in which we need to give them'''\n",
    "\n",
    "#filtering only the weeks of the month of semptember for the years 2018-2020\n",
    "filtered_transactions = transactions[(transactions['t_dat'].dt.month == 9) &\n",
    "                                     (transactions['t_dat'].dt.year == 2020)]\n",
    "\n",
    "#groupby of candidates based on the customer_id and extraction of weeks\n",
    "c2weeks = filtered_transactions.groupby('customer_id')['week'].unique()\n",
    "\n",
    "#creation of a dictionary for shifted weeks\n",
    "c2weeks2shifted_weeks = {}\n",
    "candidates_last_purchase_september = filtered_transactions.copy()\n",
    "\n",
    "for c_id, weeks in c2weeks.items():\n",
    "    c2weeks2shifted_weeks[c_id] = {}\n",
    "    for i in range(weeks.shape[0]-1):\n",
    "        c2weeks2shifted_weeks[c_id][weeks[i]] = weeks[i+1]\n",
    "    c2weeks2shifted_weeks[c_id][weeks[-1]] = test_week\n",
    "\n",
    "#update of the dataframe candidates_last_purchase_september\n",
    "weeks = []\n",
    "for i, (c_id, week) in enumerate(zip(filtered_transactions['customer_id'], filtered_transactions['week'])):\n",
    "    weeks.append(c2weeks2shifted_weeks[c_id][week])\n",
    "    \n",
    "candidates_last_purchase_september.week = weeks"
   ]
  },
  {
   "cell_type": "markdown",
   "id": "8689c6e7",
   "metadata": {
    "papermill": {
     "duration": 0.048459,
     "end_time": "2023-11-20T18:52:54.849014",
     "exception": false,
     "start_time": "2023-11-20T18:52:54.800555",
     "status": "completed"
    },
    "tags": []
   },
   "source": [
    "### candidates"
   ]
  },
  {
   "cell_type": "code",
   "execution_count": 8,
   "id": "9d2e39c2",
   "metadata": {
    "execution": {
     "iopub.execute_input": "2023-11-20T18:52:54.947797Z",
     "iopub.status.busy": "2023-11-20T18:52:54.947124Z",
     "iopub.status.idle": "2023-11-20T18:52:55.049170Z",
     "shell.execute_reply": "2023-11-20T18:52:55.048178Z"
    },
    "papermill": {
     "duration": 0.154201,
     "end_time": "2023-11-20T18:52:55.051668",
     "exception": false,
     "start_time": "2023-11-20T18:52:54.897467",
     "status": "completed"
    },
    "tags": []
   },
   "outputs": [
    {
     "data": {
      "text/html": [
       "<div>\n",
       "<style scoped>\n",
       "    .dataframe tbody tr th:only-of-type {\n",
       "        vertical-align: middle;\n",
       "    }\n",
       "\n",
       "    .dataframe tbody tr th {\n",
       "        vertical-align: top;\n",
       "    }\n",
       "\n",
       "    .dataframe thead th {\n",
       "        text-align: right;\n",
       "    }\n",
       "</style>\n",
       "<table border=\"1\" class=\"dataframe\">\n",
       "  <thead>\n",
       "    <tr style=\"text-align: right;\">\n",
       "      <th></th>\n",
       "      <th>customer_id</th>\n",
       "      <th>mean price purchases</th>\n",
       "    </tr>\n",
       "  </thead>\n",
       "  <tbody>\n",
       "    <tr>\n",
       "      <th>0</th>\n",
       "      <td>28847241659200</td>\n",
       "      <td>0.128797</td>\n",
       "    </tr>\n",
       "    <tr>\n",
       "      <th>1</th>\n",
       "      <td>116809474287335</td>\n",
       "      <td>0.033881</td>\n",
       "    </tr>\n",
       "    <tr>\n",
       "      <th>2</th>\n",
       "      <td>200292573348128</td>\n",
       "      <td>0.044051</td>\n",
       "    </tr>\n",
       "    <tr>\n",
       "      <th>3</th>\n",
       "      <td>272412481300040</td>\n",
       "      <td>0.037271</td>\n",
       "    </tr>\n",
       "    <tr>\n",
       "      <th>4</th>\n",
       "      <td>519262836338427</td>\n",
       "      <td>0.029644</td>\n",
       "    </tr>\n",
       "    <tr>\n",
       "      <th>...</th>\n",
       "      <td>...</td>\n",
       "      <td>...</td>\n",
       "    </tr>\n",
       "    <tr>\n",
       "      <th>189505</th>\n",
       "      <td>18446420423308293068</td>\n",
       "      <td>0.019729</td>\n",
       "    </tr>\n",
       "    <tr>\n",
       "      <th>189506</th>\n",
       "      <td>18446590778427270109</td>\n",
       "      <td>0.029644</td>\n",
       "    </tr>\n",
       "    <tr>\n",
       "      <th>189507</th>\n",
       "      <td>18446630855572834764</td>\n",
       "      <td>0.061000</td>\n",
       "    </tr>\n",
       "    <tr>\n",
       "      <th>189508</th>\n",
       "      <td>18446705133201055310</td>\n",
       "      <td>0.050831</td>\n",
       "    </tr>\n",
       "    <tr>\n",
       "      <th>189509</th>\n",
       "      <td>18446737527580148316</td>\n",
       "      <td>0.023712</td>\n",
       "    </tr>\n",
       "  </tbody>\n",
       "</table>\n",
       "<p>189510 rows × 2 columns</p>\n",
       "</div>"
      ],
      "text/plain": [
       "                 customer_id  mean price purchases\n",
       "0             28847241659200              0.128797\n",
       "1            116809474287335              0.033881\n",
       "2            200292573348128              0.044051\n",
       "3            272412481300040              0.037271\n",
       "4            519262836338427              0.029644\n",
       "...                      ...                   ...\n",
       "189505  18446420423308293068              0.019729\n",
       "189506  18446590778427270109              0.029644\n",
       "189507  18446630855572834764              0.061000\n",
       "189508  18446705133201055310              0.050831\n",
       "189509  18446737527580148316              0.023712\n",
       "\n",
       "[189510 rows x 2 columns]"
      ]
     },
     "execution_count": 8,
     "metadata": {},
     "output_type": "execute_result"
    }
   ],
   "source": [
    "#creation of the mean price of purchases for each candidate only in the filtered transactions\n",
    "mean_price_purchases = filtered_transactions.groupby('customer_id')['price'].mean().rename('mean price purchases').reset_index()\n",
    "mean_price_purchases"
   ]
  },
  {
   "cell_type": "code",
   "execution_count": 9,
   "id": "d89afcec",
   "metadata": {
    "execution": {
     "iopub.execute_input": "2023-11-20T18:52:55.154000Z",
     "iopub.status.busy": "2023-11-20T18:52:55.153652Z",
     "iopub.status.idle": "2023-11-20T18:52:57.212167Z",
     "shell.execute_reply": "2023-11-20T18:52:57.211174Z"
    },
    "papermill": {
     "duration": 2.113244,
     "end_time": "2023-11-20T18:52:57.214754",
     "exception": false,
     "start_time": "2023-11-20T18:52:55.101510",
     "status": "completed"
    },
    "tags": []
   },
   "outputs": [
    {
     "data": {
      "text/html": [
       "<div>\n",
       "<style scoped>\n",
       "    .dataframe tbody tr th:only-of-type {\n",
       "        vertical-align: middle;\n",
       "    }\n",
       "\n",
       "    .dataframe tbody tr th {\n",
       "        vertical-align: top;\n",
       "    }\n",
       "\n",
       "    .dataframe thead th {\n",
       "        text-align: right;\n",
       "    }\n",
       "</style>\n",
       "<table border=\"1\" class=\"dataframe\">\n",
       "  <thead>\n",
       "    <tr style=\"text-align: right;\">\n",
       "      <th></th>\n",
       "      <th>customer_id</th>\n",
       "      <th>most_present_gender_in_area</th>\n",
       "    </tr>\n",
       "  </thead>\n",
       "  <tbody>\n",
       "    <tr>\n",
       "      <th>0</th>\n",
       "      <td>4245900472157</td>\n",
       "      <td>2</td>\n",
       "    </tr>\n",
       "    <tr>\n",
       "      <th>1</th>\n",
       "      <td>23962613628581</td>\n",
       "      <td>0</td>\n",
       "    </tr>\n",
       "    <tr>\n",
       "      <th>2</th>\n",
       "      <td>25398598941468</td>\n",
       "      <td>2</td>\n",
       "    </tr>\n",
       "    <tr>\n",
       "      <th>3</th>\n",
       "      <td>28847241659200</td>\n",
       "      <td>2</td>\n",
       "    </tr>\n",
       "    <tr>\n",
       "      <th>4</th>\n",
       "      <td>41046458195168</td>\n",
       "      <td>2</td>\n",
       "    </tr>\n",
       "    <tr>\n",
       "      <th>...</th>\n",
       "      <td>...</td>\n",
       "      <td>...</td>\n",
       "    </tr>\n",
       "    <tr>\n",
       "      <th>1371975</th>\n",
       "      <td>18446630855572834764</td>\n",
       "      <td>0</td>\n",
       "    </tr>\n",
       "    <tr>\n",
       "      <th>1371976</th>\n",
       "      <td>18446662237889060501</td>\n",
       "      <td>2</td>\n",
       "    </tr>\n",
       "    <tr>\n",
       "      <th>1371977</th>\n",
       "      <td>18446705133201055310</td>\n",
       "      <td>0</td>\n",
       "    </tr>\n",
       "    <tr>\n",
       "      <th>1371978</th>\n",
       "      <td>18446723086055369602</td>\n",
       "      <td>2</td>\n",
       "    </tr>\n",
       "    <tr>\n",
       "      <th>1371979</th>\n",
       "      <td>18446737527580148316</td>\n",
       "      <td>1</td>\n",
       "    </tr>\n",
       "  </tbody>\n",
       "</table>\n",
       "<p>1371980 rows × 2 columns</p>\n",
       "</div>"
      ],
      "text/plain": [
       "                  customer_id  most_present_gender_in_area\n",
       "0               4245900472157                            2\n",
       "1              23962613628581                            0\n",
       "2              25398598941468                            2\n",
       "3              28847241659200                            2\n",
       "4              41046458195168                            2\n",
       "...                       ...                          ...\n",
       "1371975  18446630855572834764                            0\n",
       "1371976  18446662237889060501                            2\n",
       "1371977  18446705133201055310                            0\n",
       "1371978  18446723086055369602                            2\n",
       "1371979  18446737527580148316                            1\n",
       "\n",
       "[1371980 rows x 2 columns]"
      ]
     },
     "execution_count": 9,
     "metadata": {},
     "output_type": "execute_result"
    }
   ],
   "source": [
    "#identification of the gender group that is the most present in a specific geographic area\n",
    "most_present_gender = customers.groupby(['customer_id', 'postal_code', 'numerical_gender']).size().reset_index(name='count')\n",
    "idx = most_present_gender.groupby(['customer_id', 'postal_code'])['count'].transform(max) == most_present_gender['count']\n",
    "most_present_gender = most_present_gender[idx][['customer_id', 'postal_code', 'numerical_gender']]\n",
    "most_present_gender = most_present_gender.rename(columns = {'numerical_gender': 'most_present_gender_in_area'})\n",
    "most_present_gender.drop(columns = 'postal_code', inplace = True)\n",
    "most_present_gender"
   ]
  },
  {
   "cell_type": "code",
   "execution_count": 10,
   "id": "e2925ed5",
   "metadata": {
    "execution": {
     "iopub.execute_input": "2023-11-20T18:52:57.317196Z",
     "iopub.status.busy": "2023-11-20T18:52:57.316880Z",
     "iopub.status.idle": "2023-11-20T18:52:58.718412Z",
     "shell.execute_reply": "2023-11-20T18:52:58.717798Z"
    },
    "papermill": {
     "duration": 1.454858,
     "end_time": "2023-11-20T18:52:58.720409",
     "exception": false,
     "start_time": "2023-11-20T18:52:57.265551",
     "status": "completed"
    },
    "tags": []
   },
   "outputs": [
    {
     "data": {
      "text/html": [
       "<div>\n",
       "<style scoped>\n",
       "    .dataframe tbody tr th:only-of-type {\n",
       "        vertical-align: middle;\n",
       "    }\n",
       "\n",
       "    .dataframe tbody tr th {\n",
       "        vertical-align: top;\n",
       "    }\n",
       "\n",
       "    .dataframe thead th {\n",
       "        text-align: right;\n",
       "    }\n",
       "</style>\n",
       "<table border=\"1\" class=\"dataframe\">\n",
       "  <thead>\n",
       "    <tr style=\"text-align: right;\">\n",
       "      <th></th>\n",
       "      <th>customer_id</th>\n",
       "      <th>median_age_area</th>\n",
       "    </tr>\n",
       "  </thead>\n",
       "  <tbody>\n",
       "    <tr>\n",
       "      <th>0</th>\n",
       "      <td>4245900472157</td>\n",
       "      <td>21.0</td>\n",
       "    </tr>\n",
       "    <tr>\n",
       "      <th>1</th>\n",
       "      <td>23962613628581</td>\n",
       "      <td>34.0</td>\n",
       "    </tr>\n",
       "    <tr>\n",
       "      <th>2</th>\n",
       "      <td>25398598941468</td>\n",
       "      <td>21.0</td>\n",
       "    </tr>\n",
       "    <tr>\n",
       "      <th>3</th>\n",
       "      <td>28847241659200</td>\n",
       "      <td>21.0</td>\n",
       "    </tr>\n",
       "    <tr>\n",
       "      <th>4</th>\n",
       "      <td>41046458195168</td>\n",
       "      <td>18.0</td>\n",
       "    </tr>\n",
       "    <tr>\n",
       "      <th>...</th>\n",
       "      <td>...</td>\n",
       "      <td>...</td>\n",
       "    </tr>\n",
       "    <tr>\n",
       "      <th>1371975</th>\n",
       "      <td>18446630855572834764</td>\n",
       "      <td>33.0</td>\n",
       "    </tr>\n",
       "    <tr>\n",
       "      <th>1371976</th>\n",
       "      <td>18446662237889060501</td>\n",
       "      <td>75.0</td>\n",
       "    </tr>\n",
       "    <tr>\n",
       "      <th>1371977</th>\n",
       "      <td>18446705133201055310</td>\n",
       "      <td>60.0</td>\n",
       "    </tr>\n",
       "    <tr>\n",
       "      <th>1371978</th>\n",
       "      <td>18446723086055369602</td>\n",
       "      <td>33.0</td>\n",
       "    </tr>\n",
       "    <tr>\n",
       "      <th>1371979</th>\n",
       "      <td>18446737527580148316</td>\n",
       "      <td>60.0</td>\n",
       "    </tr>\n",
       "  </tbody>\n",
       "</table>\n",
       "<p>1371980 rows × 2 columns</p>\n",
       "</div>"
      ],
      "text/plain": [
       "                  customer_id  median_age_area\n",
       "0               4245900472157             21.0\n",
       "1              23962613628581             34.0\n",
       "2              25398598941468             21.0\n",
       "3              28847241659200             21.0\n",
       "4              41046458195168             18.0\n",
       "...                       ...              ...\n",
       "1371975  18446630855572834764             33.0\n",
       "1371976  18446662237889060501             75.0\n",
       "1371977  18446705133201055310             60.0\n",
       "1371978  18446723086055369602             33.0\n",
       "1371979  18446737527580148316             60.0\n",
       "\n",
       "[1371980 rows x 2 columns]"
      ]
     },
     "execution_count": 10,
     "metadata": {},
     "output_type": "execute_result"
    }
   ],
   "source": [
    "#identification of the medium age for geographic area\n",
    "median_age = customers.groupby(['customer_id', 'postal_code'])['age'].median().reset_index(name = 'median_age_area')\n",
    "median_age.drop(columns = 'postal_code', inplace = True)\n",
    "median_age"
   ]
  },
  {
   "cell_type": "code",
   "execution_count": 11,
   "id": "bb8871a2",
   "metadata": {
    "execution": {
     "iopub.execute_input": "2023-11-20T18:52:58.825154Z",
     "iopub.status.busy": "2023-11-20T18:52:58.824341Z",
     "iopub.status.idle": "2023-11-20T18:52:59.753463Z",
     "shell.execute_reply": "2023-11-20T18:52:59.752833Z"
    },
    "papermill": {
     "duration": 0.984766,
     "end_time": "2023-11-20T18:52:59.756185",
     "exception": false,
     "start_time": "2023-11-20T18:52:58.771419",
     "status": "completed"
    },
    "tags": []
   },
   "outputs": [
    {
     "data": {
      "text/plain": [
       "Index(['t_dat', 'customer_id', 'article_id', 'price', 'sales_channel_id',\n",
       "       'week', 'mean price purchases', 'most_present_gender_in_area',\n",
       "       'median_age_area'],\n",
       "      dtype='object')"
      ]
     },
     "execution_count": 11,
     "metadata": {},
     "output_type": "execute_result"
    }
   ],
   "source": [
    "candidates_definitive = pd.merge(candidates_last_purchase_september, mean_price_purchases, on = 'customer_id') #merge of values of mean fo the purchases\n",
    "candidates_definitive = pd.merge(candidates_definitive, most_present_gender, on = 'customer_id') #merge of values of the dominant gender in teh geographic area of the customer\n",
    "candidates_definitive = pd.merge(candidates_definitive, median_age, on = 'customer_id') #merge of values of the dominant gender in teh geographic area of the customer\n",
    "\n",
    "candidates_definitive.columns"
   ]
  },
  {
   "cell_type": "code",
   "execution_count": 12,
   "id": "eb24f760",
   "metadata": {
    "execution": {
     "iopub.execute_input": "2023-11-20T18:52:59.860026Z",
     "iopub.status.busy": "2023-11-20T18:52:59.859406Z",
     "iopub.status.idle": "2023-11-20T18:52:59.927037Z",
     "shell.execute_reply": "2023-11-20T18:52:59.926230Z"
    },
    "papermill": {
     "duration": 0.122283,
     "end_time": "2023-11-20T18:52:59.929452",
     "exception": false,
     "start_time": "2023-11-20T18:52:59.807169",
     "status": "completed"
    },
    "tags": []
   },
   "outputs": [],
   "source": [
    "candidates_definitive = candidates_definitive.drop_duplicates(subset = 'customer_id')"
   ]
  },
  {
   "cell_type": "code",
   "execution_count": 13,
   "id": "3bcf24a5",
   "metadata": {
    "execution": {
     "iopub.execute_input": "2023-11-20T18:53:00.034120Z",
     "iopub.status.busy": "2023-11-20T18:53:00.033811Z",
     "iopub.status.idle": "2023-11-20T18:53:00.058425Z",
     "shell.execute_reply": "2023-11-20T18:53:00.057570Z"
    },
    "papermill": {
     "duration": 0.079883,
     "end_time": "2023-11-20T18:53:00.060875",
     "exception": false,
     "start_time": "2023-11-20T18:52:59.980992",
     "status": "completed"
    },
    "tags": []
   },
   "outputs": [
    {
     "data": {
      "text/html": [
       "<div>\n",
       "<style scoped>\n",
       "    .dataframe tbody tr th:only-of-type {\n",
       "        vertical-align: middle;\n",
       "    }\n",
       "\n",
       "    .dataframe tbody tr th {\n",
       "        vertical-align: top;\n",
       "    }\n",
       "\n",
       "    .dataframe thead th {\n",
       "        text-align: right;\n",
       "    }\n",
       "</style>\n",
       "<table border=\"1\" class=\"dataframe\">\n",
       "  <thead>\n",
       "    <tr style=\"text-align: right;\">\n",
       "      <th></th>\n",
       "      <th>t_dat</th>\n",
       "      <th>customer_id</th>\n",
       "      <th>article_id</th>\n",
       "      <th>price</th>\n",
       "      <th>sales_channel_id</th>\n",
       "      <th>week</th>\n",
       "      <th>mean price purchases</th>\n",
       "      <th>most_present_gender_in_area</th>\n",
       "      <th>median_age_area</th>\n",
       "    </tr>\n",
       "  </thead>\n",
       "  <tbody>\n",
       "    <tr>\n",
       "      <th>0</th>\n",
       "      <td>2020-09-01</td>\n",
       "      <td>1905990147027598</td>\n",
       "      <td>828934001</td>\n",
       "      <td>0.010153</td>\n",
       "      <td>1</td>\n",
       "      <td>103</td>\n",
       "      <td>0.028514</td>\n",
       "      <td>2</td>\n",
       "      <td>25.0</td>\n",
       "    </tr>\n",
       "    <tr>\n",
       "      <th>1</th>\n",
       "      <td>2020-09-01</td>\n",
       "      <td>2916865100647462</td>\n",
       "      <td>497640002</td>\n",
       "      <td>0.067780</td>\n",
       "      <td>1</td>\n",
       "      <td>105</td>\n",
       "      <td>0.067780</td>\n",
       "      <td>2</td>\n",
       "      <td>57.0</td>\n",
       "    </tr>\n",
       "    <tr>\n",
       "      <th>2</th>\n",
       "      <td>2020-09-01</td>\n",
       "      <td>4181258700444159</td>\n",
       "      <td>733098018</td>\n",
       "      <td>0.016932</td>\n",
       "      <td>1</td>\n",
       "      <td>103</td>\n",
       "      <td>0.039531</td>\n",
       "      <td>0</td>\n",
       "      <td>35.0</td>\n",
       "    </tr>\n",
       "    <tr>\n",
       "      <th>3</th>\n",
       "      <td>2020-09-01</td>\n",
       "      <td>6425392668902854</td>\n",
       "      <td>806131002</td>\n",
       "      <td>0.033881</td>\n",
       "      <td>1</td>\n",
       "      <td>105</td>\n",
       "      <td>0.033881</td>\n",
       "      <td>0</td>\n",
       "      <td>24.0</td>\n",
       "    </tr>\n",
       "    <tr>\n",
       "      <th>4</th>\n",
       "      <td>2020-09-01</td>\n",
       "      <td>6533896350022044</td>\n",
       "      <td>896152002</td>\n",
       "      <td>0.033881</td>\n",
       "      <td>1</td>\n",
       "      <td>105</td>\n",
       "      <td>0.067780</td>\n",
       "      <td>0</td>\n",
       "      <td>55.0</td>\n",
       "    </tr>\n",
       "    <tr>\n",
       "      <th>...</th>\n",
       "      <td>...</td>\n",
       "      <td>...</td>\n",
       "      <td>...</td>\n",
       "      <td>...</td>\n",
       "      <td>...</td>\n",
       "      <td>...</td>\n",
       "      <td>...</td>\n",
       "      <td>...</td>\n",
       "      <td>...</td>\n",
       "    </tr>\n",
       "    <tr>\n",
       "      <th>189505</th>\n",
       "      <td>2020-09-22</td>\n",
       "      <td>18418054986721795659</td>\n",
       "      <td>873279003</td>\n",
       "      <td>0.042356</td>\n",
       "      <td>2</td>\n",
       "      <td>105</td>\n",
       "      <td>0.042356</td>\n",
       "      <td>0</td>\n",
       "      <td>28.0</td>\n",
       "    </tr>\n",
       "    <tr>\n",
       "      <th>189506</th>\n",
       "      <td>2020-09-22</td>\n",
       "      <td>18421175435799911749</td>\n",
       "      <td>863583001</td>\n",
       "      <td>0.033881</td>\n",
       "      <td>2</td>\n",
       "      <td>105</td>\n",
       "      <td>0.033881</td>\n",
       "      <td>2</td>\n",
       "      <td>28.0</td>\n",
       "    </tr>\n",
       "    <tr>\n",
       "      <th>189507</th>\n",
       "      <td>2020-09-22</td>\n",
       "      <td>18422784312842572958</td>\n",
       "      <td>639448011</td>\n",
       "      <td>0.050831</td>\n",
       "      <td>1</td>\n",
       "      <td>105</td>\n",
       "      <td>0.032186</td>\n",
       "      <td>2</td>\n",
       "      <td>25.0</td>\n",
       "    </tr>\n",
       "    <tr>\n",
       "      <th>189508</th>\n",
       "      <td>2020-09-22</td>\n",
       "      <td>18435221511488011015</td>\n",
       "      <td>573085055</td>\n",
       "      <td>0.033881</td>\n",
       "      <td>1</td>\n",
       "      <td>105</td>\n",
       "      <td>0.033881</td>\n",
       "      <td>0</td>\n",
       "      <td>56.0</td>\n",
       "    </tr>\n",
       "    <tr>\n",
       "      <th>189509</th>\n",
       "      <td>2020-09-22</td>\n",
       "      <td>18438270306572912089</td>\n",
       "      <td>751471043</td>\n",
       "      <td>0.033881</td>\n",
       "      <td>1</td>\n",
       "      <td>105</td>\n",
       "      <td>0.033881</td>\n",
       "      <td>0</td>\n",
       "      <td>71.0</td>\n",
       "    </tr>\n",
       "  </tbody>\n",
       "</table>\n",
       "<p>189510 rows × 9 columns</p>\n",
       "</div>"
      ],
      "text/plain": [
       "            t_dat           customer_id  article_id     price  \\\n",
       "0      2020-09-01      1905990147027598   828934001  0.010153   \n",
       "1      2020-09-01      2916865100647462   497640002  0.067780   \n",
       "2      2020-09-01      4181258700444159   733098018  0.016932   \n",
       "3      2020-09-01      6425392668902854   806131002  0.033881   \n",
       "4      2020-09-01      6533896350022044   896152002  0.033881   \n",
       "...           ...                   ...         ...       ...   \n",
       "189505 2020-09-22  18418054986721795659   873279003  0.042356   \n",
       "189506 2020-09-22  18421175435799911749   863583001  0.033881   \n",
       "189507 2020-09-22  18422784312842572958   639448011  0.050831   \n",
       "189508 2020-09-22  18435221511488011015   573085055  0.033881   \n",
       "189509 2020-09-22  18438270306572912089   751471043  0.033881   \n",
       "\n",
       "        sales_channel_id  week  mean price purchases  \\\n",
       "0                      1   103              0.028514   \n",
       "1                      1   105              0.067780   \n",
       "2                      1   103              0.039531   \n",
       "3                      1   105              0.033881   \n",
       "4                      1   105              0.067780   \n",
       "...                  ...   ...                   ...   \n",
       "189505                 2   105              0.042356   \n",
       "189506                 2   105              0.033881   \n",
       "189507                 1   105              0.032186   \n",
       "189508                 1   105              0.033881   \n",
       "189509                 1   105              0.033881   \n",
       "\n",
       "        most_present_gender_in_area  median_age_area  \n",
       "0                                 2             25.0  \n",
       "1                                 2             57.0  \n",
       "2                                 0             35.0  \n",
       "3                                 0             24.0  \n",
       "4                                 0             55.0  \n",
       "...                             ...              ...  \n",
       "189505                            0             28.0  \n",
       "189506                            2             28.0  \n",
       "189507                            2             25.0  \n",
       "189508                            0             56.0  \n",
       "189509                            0             71.0  \n",
       "\n",
       "[189510 rows x 9 columns]"
      ]
     },
     "execution_count": 13,
     "metadata": {},
     "output_type": "execute_result"
    }
   ],
   "source": [
    "#dataset about candidates in the analyzed period\n",
    "candidates_definitive.reset_index(drop = True, inplace = True)\n",
    "candidates_definitive"
   ]
  },
  {
   "cell_type": "code",
   "execution_count": 14,
   "id": "069ea531",
   "metadata": {
    "execution": {
     "iopub.execute_input": "2023-11-20T18:53:00.168534Z",
     "iopub.status.busy": "2023-11-20T18:53:00.167558Z",
     "iopub.status.idle": "2023-11-20T18:53:00.235475Z",
     "shell.execute_reply": "2023-11-20T18:53:00.234503Z"
    },
    "papermill": {
     "duration": 0.12397,
     "end_time": "2023-11-20T18:53:00.237760",
     "exception": false,
     "start_time": "2023-11-20T18:53:00.113790",
     "status": "completed"
    },
    "tags": []
   },
   "outputs": [
    {
     "data": {
      "text/html": [
       "<div>\n",
       "<style scoped>\n",
       "    .dataframe tbody tr th:only-of-type {\n",
       "        vertical-align: middle;\n",
       "    }\n",
       "\n",
       "    .dataframe tbody tr th {\n",
       "        vertical-align: top;\n",
       "    }\n",
       "\n",
       "    .dataframe thead th {\n",
       "        text-align: right;\n",
       "    }\n",
       "</style>\n",
       "<table border=\"1\" class=\"dataframe\">\n",
       "  <thead>\n",
       "    <tr style=\"text-align: right;\">\n",
       "      <th></th>\n",
       "      <th>t_dat</th>\n",
       "      <th>customer_id</th>\n",
       "      <th>article_id</th>\n",
       "      <th>price</th>\n",
       "      <th>sales_channel_id</th>\n",
       "      <th>week</th>\n",
       "    </tr>\n",
       "  </thead>\n",
       "  <tbody>\n",
       "    <tr>\n",
       "      <th>0</th>\n",
       "      <td>2020-09-01</td>\n",
       "      <td>1905990147027598</td>\n",
       "      <td>828934001</td>\n",
       "      <td>0.010153</td>\n",
       "      <td>1</td>\n",
       "      <td>101</td>\n",
       "    </tr>\n",
       "    <tr>\n",
       "      <th>1</th>\n",
       "      <td>2020-09-01</td>\n",
       "      <td>2916865100647462</td>\n",
       "      <td>497640002</td>\n",
       "      <td>0.067780</td>\n",
       "      <td>1</td>\n",
       "      <td>101</td>\n",
       "    </tr>\n",
       "    <tr>\n",
       "      <th>2</th>\n",
       "      <td>2020-09-01</td>\n",
       "      <td>4181258700444159</td>\n",
       "      <td>733098018</td>\n",
       "      <td>0.016932</td>\n",
       "      <td>1</td>\n",
       "      <td>101</td>\n",
       "    </tr>\n",
       "    <tr>\n",
       "      <th>3</th>\n",
       "      <td>2020-09-01</td>\n",
       "      <td>6425392668902854</td>\n",
       "      <td>806131002</td>\n",
       "      <td>0.033881</td>\n",
       "      <td>1</td>\n",
       "      <td>101</td>\n",
       "    </tr>\n",
       "    <tr>\n",
       "      <th>4</th>\n",
       "      <td>2020-09-01</td>\n",
       "      <td>6533896350022044</td>\n",
       "      <td>896152002</td>\n",
       "      <td>0.033881</td>\n",
       "      <td>1</td>\n",
       "      <td>101</td>\n",
       "    </tr>\n",
       "    <tr>\n",
       "      <th>...</th>\n",
       "      <td>...</td>\n",
       "      <td>...</td>\n",
       "      <td>...</td>\n",
       "      <td>...</td>\n",
       "      <td>...</td>\n",
       "      <td>...</td>\n",
       "    </tr>\n",
       "    <tr>\n",
       "      <th>189505</th>\n",
       "      <td>2020-09-22</td>\n",
       "      <td>18418054986721795659</td>\n",
       "      <td>873279003</td>\n",
       "      <td>0.042356</td>\n",
       "      <td>2</td>\n",
       "      <td>104</td>\n",
       "    </tr>\n",
       "    <tr>\n",
       "      <th>189506</th>\n",
       "      <td>2020-09-22</td>\n",
       "      <td>18421175435799911749</td>\n",
       "      <td>863583001</td>\n",
       "      <td>0.033881</td>\n",
       "      <td>2</td>\n",
       "      <td>104</td>\n",
       "    </tr>\n",
       "    <tr>\n",
       "      <th>189507</th>\n",
       "      <td>2020-09-22</td>\n",
       "      <td>18422784312842572958</td>\n",
       "      <td>639448011</td>\n",
       "      <td>0.050831</td>\n",
       "      <td>1</td>\n",
       "      <td>104</td>\n",
       "    </tr>\n",
       "    <tr>\n",
       "      <th>189508</th>\n",
       "      <td>2020-09-22</td>\n",
       "      <td>18435221511488011015</td>\n",
       "      <td>573085055</td>\n",
       "      <td>0.033881</td>\n",
       "      <td>1</td>\n",
       "      <td>104</td>\n",
       "    </tr>\n",
       "    <tr>\n",
       "      <th>189509</th>\n",
       "      <td>2020-09-22</td>\n",
       "      <td>18438270306572912089</td>\n",
       "      <td>751471043</td>\n",
       "      <td>0.033881</td>\n",
       "      <td>1</td>\n",
       "      <td>104</td>\n",
       "    </tr>\n",
       "  </tbody>\n",
       "</table>\n",
       "<p>189510 rows × 6 columns</p>\n",
       "</div>"
      ],
      "text/plain": [
       "            t_dat           customer_id  article_id     price  \\\n",
       "0      2020-09-01      1905990147027598   828934001  0.010153   \n",
       "1      2020-09-01      2916865100647462   497640002  0.067780   \n",
       "2      2020-09-01      4181258700444159   733098018  0.016932   \n",
       "3      2020-09-01      6425392668902854   806131002  0.033881   \n",
       "4      2020-09-01      6533896350022044   896152002  0.033881   \n",
       "...           ...                   ...         ...       ...   \n",
       "189505 2020-09-22  18418054986721795659   873279003  0.042356   \n",
       "189506 2020-09-22  18421175435799911749   863583001  0.033881   \n",
       "189507 2020-09-22  18422784312842572958   639448011  0.050831   \n",
       "189508 2020-09-22  18435221511488011015   573085055  0.033881   \n",
       "189509 2020-09-22  18438270306572912089   751471043  0.033881   \n",
       "\n",
       "        sales_channel_id  week  \n",
       "0                      1   101  \n",
       "1                      1   101  \n",
       "2                      1   101  \n",
       "3                      1   101  \n",
       "4                      1   101  \n",
       "...                  ...   ...  \n",
       "189505                 2   104  \n",
       "189506                 2   104  \n",
       "189507                 1   104  \n",
       "189508                 1   104  \n",
       "189509                 1   104  \n",
       "\n",
       "[189510 rows x 6 columns]"
      ]
     },
     "execution_count": 14,
     "metadata": {},
     "output_type": "execute_result"
    }
   ],
   "source": [
    "#test set about transactions\n",
    "test_set_transactions = filtered_transactions.drop_duplicates('customer_id')\n",
    "test_set_transactions.reset_index(drop = True, inplace = True)\n",
    "test_set_transactions"
   ]
  },
  {
   "cell_type": "code",
   "execution_count": 15,
   "id": "eb230a36",
   "metadata": {
    "execution": {
     "iopub.execute_input": "2023-11-20T18:53:00.349085Z",
     "iopub.status.busy": "2023-11-20T18:53:00.348764Z",
     "iopub.status.idle": "2023-11-20T18:53:00.658029Z",
     "shell.execute_reply": "2023-11-20T18:53:00.657192Z"
    },
    "papermill": {
     "duration": 0.369864,
     "end_time": "2023-11-20T18:53:00.660775",
     "exception": false,
     "start_time": "2023-11-20T18:53:00.290911",
     "status": "completed"
    },
    "tags": []
   },
   "outputs": [],
   "source": [
    "#bestsellers for septembers\n",
    "mean_price = filtered_transactions \\\n",
    "    .groupby(['week', 'article_id'])['price'].mean()\n",
    "\n",
    "sales = filtered_transactions \\\n",
    "    .groupby('week')['article_id'].value_counts() \\\n",
    "    .groupby('week').rank(method='dense', ascending=False) \\\n",
    "    .groupby('week').head(12).rename('bestseller_rank').astype('int8')\n",
    "\n",
    "bestsellers_september = pd.merge(sales, mean_price, on=['week', 'article_id']).reset_index()"
   ]
  },
  {
   "cell_type": "markdown",
   "id": "01b5e39f",
   "metadata": {
    "papermill": {
     "duration": 0.054674,
     "end_time": "2023-11-20T18:53:00.769743",
     "exception": false,
     "start_time": "2023-11-20T18:53:00.715069",
     "status": "completed"
    },
    "tags": []
   },
   "source": [
    "# Combining transactions and candidates / negative examples"
   ]
  },
  {
   "cell_type": "code",
   "execution_count": 16,
   "id": "39df2acd",
   "metadata": {
    "execution": {
     "iopub.execute_input": "2023-11-20T18:53:00.880553Z",
     "iopub.status.busy": "2023-11-20T18:53:00.880208Z",
     "iopub.status.idle": "2023-11-20T18:53:00.889002Z",
     "shell.execute_reply": "2023-11-20T18:53:00.888121Z"
    },
    "papermill": {
     "duration": 0.06729,
     "end_time": "2023-11-20T18:53:00.891495",
     "exception": false,
     "start_time": "2023-11-20T18:53:00.824205",
     "status": "completed"
    },
    "tags": []
   },
   "outputs": [
    {
     "name": "stderr",
     "output_type": "stream",
     "text": [
      "/opt/conda/lib/python3.7/site-packages/pandas/core/indexing.py:1667: SettingWithCopyWarning: \n",
      "A value is trying to be set on a copy of a slice from a DataFrame.\n",
      "Try using .loc[row_indexer,col_indexer] = value instead\n",
      "\n",
      "See the caveats in the documentation: https://pandas.pydata.org/pandas-docs/stable/user_guide/indexing.html#returning-a-view-versus-a-copy\n",
      "  self.obj[key] = value\n"
     ]
    }
   ],
   "source": [
    "filtered_transactions.loc[:, 'purchased'] = 1"
   ]
  },
  {
   "cell_type": "code",
   "execution_count": 17,
   "id": "93d59b82",
   "metadata": {
    "execution": {
     "iopub.execute_input": "2023-11-20T18:53:01.001285Z",
     "iopub.status.busy": "2023-11-20T18:53:01.000802Z",
     "iopub.status.idle": "2023-11-20T18:53:15.659401Z",
     "shell.execute_reply": "2023-11-20T18:53:15.658586Z"
    },
    "papermill": {
     "duration": 14.716051,
     "end_time": "2023-11-20T18:53:15.662260",
     "exception": false,
     "start_time": "2023-11-20T18:53:00.946209",
     "status": "completed"
    },
    "tags": []
   },
   "outputs": [],
   "source": [
    "data = pd.concat([filtered_transactions, candidates_last_purchase_september])\n",
    "data = pd.merge(data, bestsellers_september[['article_id', 'bestseller_rank']], on = 'article_id', how = 'left')\n",
    "data.fillna(0, inplace = True)"
   ]
  },
  {
   "cell_type": "code",
   "execution_count": 18,
   "id": "a4f9cbf7",
   "metadata": {
    "execution": {
     "iopub.execute_input": "2023-11-20T18:53:15.772170Z",
     "iopub.status.busy": "2023-11-20T18:53:15.771863Z",
     "iopub.status.idle": "2023-11-20T18:53:16.116009Z",
     "shell.execute_reply": "2023-11-20T18:53:16.114867Z"
    },
    "papermill": {
     "duration": 0.401949,
     "end_time": "2023-11-20T18:53:16.118745",
     "exception": false,
     "start_time": "2023-11-20T18:53:15.716796",
     "status": "completed"
    },
    "tags": []
   },
   "outputs": [],
   "source": [
    "#adding candidates info\n",
    "data = pd.merge(data, candidates_definitive[['customer_id', 'mean price purchases', 'most_present_gender_in_area', 'median_age_area']], on = 'customer_id', how = 'left')"
   ]
  },
  {
   "cell_type": "code",
   "execution_count": 19,
   "id": "d3fddbb4",
   "metadata": {
    "execution": {
     "iopub.execute_input": "2023-11-20T18:53:16.230303Z",
     "iopub.status.busy": "2023-11-20T18:53:16.229988Z",
     "iopub.status.idle": "2023-11-20T18:53:18.892016Z",
     "shell.execute_reply": "2023-11-20T18:53:18.891065Z"
    },
    "papermill": {
     "duration": 2.720735,
     "end_time": "2023-11-20T18:53:18.895020",
     "exception": false,
     "start_time": "2023-11-20T18:53:16.174285",
     "status": "completed"
    },
    "tags": []
   },
   "outputs": [],
   "source": [
    "#adding initial datasets to my new dataset\n",
    "data = pd.merge(data, articles, on = 'article_id', how = 'left')\n",
    "data = pd.merge(data, customers, on = 'customer_id', how = 'left')"
   ]
  },
  {
   "cell_type": "code",
   "execution_count": 20,
   "id": "a85be527",
   "metadata": {
    "execution": {
     "iopub.execute_input": "2023-11-20T18:53:19.005618Z",
     "iopub.status.busy": "2023-11-20T18:53:19.005227Z",
     "iopub.status.idle": "2023-11-20T18:53:19.556926Z",
     "shell.execute_reply": "2023-11-20T18:53:19.556119Z"
    },
    "papermill": {
     "duration": 0.609467,
     "end_time": "2023-11-20T18:53:19.559555",
     "exception": false,
     "start_time": "2023-11-20T18:53:18.950088",
     "status": "completed"
    },
    "tags": []
   },
   "outputs": [],
   "source": [
    "data.sort_values(['week', 'customer_id'], inplace=True)\n",
    "data.reset_index(drop=True, inplace=True)"
   ]
  },
  {
   "cell_type": "code",
   "execution_count": 21,
   "id": "73d758d3",
   "metadata": {
    "execution": {
     "iopub.execute_input": "2023-11-20T18:53:19.668100Z",
     "iopub.status.busy": "2023-11-20T18:53:19.667797Z",
     "iopub.status.idle": "2023-11-20T18:53:20.274098Z",
     "shell.execute_reply": "2023-11-20T18:53:20.273028Z"
    },
    "papermill": {
     "duration": 0.66415,
     "end_time": "2023-11-20T18:53:20.277457",
     "exception": false,
     "start_time": "2023-11-20T18:53:19.613307",
     "status": "completed"
    },
    "tags": []
   },
   "outputs": [],
   "source": [
    "train = data[data.week != test_week]\n",
    "test = data[data.week==test_week].drop_duplicates(['customer_id', 'article_id', 'sales_channel_id']).copy()"
   ]
  },
  {
   "cell_type": "code",
   "execution_count": 22,
   "id": "6a50c31b",
   "metadata": {
    "execution": {
     "iopub.execute_input": "2023-11-20T18:53:20.397226Z",
     "iopub.status.busy": "2023-11-20T18:53:20.396938Z",
     "iopub.status.idle": "2023-11-20T18:53:20.544009Z",
     "shell.execute_reply": "2023-11-20T18:53:20.543001Z"
    },
    "papermill": {
     "duration": 0.212806,
     "end_time": "2023-11-20T18:53:20.547638",
     "exception": false,
     "start_time": "2023-11-20T18:53:20.334832",
     "status": "completed"
    },
    "tags": []
   },
   "outputs": [],
   "source": [
    "train_baskets = train.groupby(['week', 'customer_id'])['article_id'].count().values"
   ]
  },
  {
   "cell_type": "code",
   "execution_count": 23,
   "id": "755fec17",
   "metadata": {
    "execution": {
     "iopub.execute_input": "2023-11-20T18:53:20.660001Z",
     "iopub.status.busy": "2023-11-20T18:53:20.659613Z",
     "iopub.status.idle": "2023-11-20T18:53:20.665057Z",
     "shell.execute_reply": "2023-11-20T18:53:20.664106Z"
    },
    "papermill": {
     "duration": 0.062916,
     "end_time": "2023-11-20T18:53:20.667282",
     "exception": false,
     "start_time": "2023-11-20T18:53:20.604366",
     "status": "completed"
    },
    "tags": []
   },
   "outputs": [],
   "source": [
    "columns_to_use = ['article_id', 'product_type_no', 'graphical_appearance_no', 'colour_group_code', 'perceived_colour_value_id',\n",
    "'perceived_colour_master_id', 'department_no', 'index_code', 'index_group_no', 'section_no', 'garment_group_no', 'FN', 'Active',\n",
    "'club_member_status', 'fashion_news_frequency', 'bestseller_rank', 'mean price purchases', 'most_present_gender_in_area', 'median_age_area']"
   ]
  },
  {
   "cell_type": "code",
   "execution_count": 24,
   "id": "f39c7749",
   "metadata": {
    "execution": {
     "iopub.execute_input": "2023-11-20T18:53:20.778623Z",
     "iopub.status.busy": "2023-11-20T18:53:20.777633Z",
     "iopub.status.idle": "2023-11-20T18:53:20.832550Z",
     "shell.execute_reply": "2023-11-20T18:53:20.831505Z"
    },
    "papermill": {
     "duration": 0.113743,
     "end_time": "2023-11-20T18:53:20.835019",
     "exception": false,
     "start_time": "2023-11-20T18:53:20.721276",
     "status": "completed"
    },
    "tags": []
   },
   "outputs": [
    {
     "name": "stdout",
     "output_type": "stream",
     "text": [
      "CPU times: user 41.4 ms, sys: 5.94 ms, total: 47.3 ms\n",
      "Wall time: 47.4 ms\n"
     ]
    }
   ],
   "source": [
    "%%time\n",
    "\n",
    "train_X = train[columns_to_use]\n",
    "train_y = train['purchased']\n",
    "\n",
    "test_X = test[columns_to_use]"
   ]
  },
  {
   "cell_type": "markdown",
   "id": "11bea711",
   "metadata": {
    "papermill": {
     "duration": 0.053871,
     "end_time": "2023-11-20T18:53:20.946230",
     "exception": false,
     "start_time": "2023-11-20T18:53:20.892359",
     "status": "completed"
    },
    "tags": []
   },
   "source": [
    "# Model training"
   ]
  },
  {
   "cell_type": "code",
   "execution_count": 25,
   "id": "1e6bd474",
   "metadata": {
    "execution": {
     "iopub.execute_input": "2023-11-20T18:53:21.057123Z",
     "iopub.status.busy": "2023-11-20T18:53:21.056820Z",
     "iopub.status.idle": "2023-11-20T18:53:22.286585Z",
     "shell.execute_reply": "2023-11-20T18:53:22.285733Z"
    },
    "papermill": {
     "duration": 1.287671,
     "end_time": "2023-11-20T18:53:22.289007",
     "exception": false,
     "start_time": "2023-11-20T18:53:21.001336",
     "status": "completed"
    },
    "tags": []
   },
   "outputs": [
    {
     "data": {
      "text/html": [
       "<style type='text/css'>\n",
       ".datatable table.frame { margin-bottom: 0; }\n",
       ".datatable table.frame thead { border-bottom: none; }\n",
       ".datatable table.frame tr.coltypes td {  color: #FFFFFF;  line-height: 6px;  padding: 0 0.5em;}\n",
       ".datatable .bool    { background: #DDDD99; }\n",
       ".datatable .object  { background: #565656; }\n",
       ".datatable .int     { background: #5D9E5D; }\n",
       ".datatable .float   { background: #4040CC; }\n",
       ".datatable .str     { background: #CC4040; }\n",
       ".datatable .time    { background: #40CC40; }\n",
       ".datatable .row_index {  background: var(--jp-border-color3);  border-right: 1px solid var(--jp-border-color0);  color: var(--jp-ui-font-color3);  font-size: 9px;}\n",
       ".datatable .frame tbody td { text-align: left; }\n",
       ".datatable .frame tr.coltypes .row_index {  background: var(--jp-border-color0);}\n",
       ".datatable th:nth-child(2) { padding-left: 12px; }\n",
       ".datatable .hellipsis {  color: var(--jp-cell-editor-border-color);}\n",
       ".datatable .vellipsis {  background: var(--jp-layout-color0);  color: var(--jp-cell-editor-border-color);}\n",
       ".datatable .na {  color: var(--jp-cell-editor-border-color);  font-size: 80%;}\n",
       ".datatable .sp {  opacity: 0.25;}\n",
       ".datatable .footer { font-size: 9px; }\n",
       ".datatable .frame_dimensions {  background: var(--jp-border-color3);  border-top: 1px solid var(--jp-border-color0);  color: var(--jp-ui-font-color3);  display: inline-block;  opacity: 0.6;  padding: 1px 10px 1px 5px;}\n",
       "</style>\n"
      ],
      "text/plain": [
       "<IPython.core.display.HTML object>"
      ]
     },
     "metadata": {},
     "output_type": "display_data"
    }
   ],
   "source": [
    "from lightgbm.sklearn import LGBMRanker"
   ]
  },
  {
   "cell_type": "code",
   "execution_count": 26,
   "id": "5bbfe984",
   "metadata": {
    "execution": {
     "iopub.execute_input": "2023-11-20T18:53:22.401668Z",
     "iopub.status.busy": "2023-11-20T18:53:22.401351Z",
     "iopub.status.idle": "2023-11-20T18:53:22.405770Z",
     "shell.execute_reply": "2023-11-20T18:53:22.405113Z"
    },
    "papermill": {
     "duration": 0.062157,
     "end_time": "2023-11-20T18:53:22.407746",
     "exception": false,
     "start_time": "2023-11-20T18:53:22.345589",
     "status": "completed"
    },
    "tags": []
   },
   "outputs": [],
   "source": [
    "ranker = LGBMRanker(\n",
    "    objective=\"lambdarank\",\n",
    "    metric=\"ndcg\",\n",
    "    boosting_type=\"dart\",\n",
    "    n_estimators=1,\n",
    "    importance_type='gain',\n",
    "    verbose=10\n",
    ")"
   ]
  },
  {
   "cell_type": "code",
   "execution_count": 27,
   "id": "b9ee3c6a",
   "metadata": {
    "execution": {
     "iopub.execute_input": "2023-11-20T18:53:22.520063Z",
     "iopub.status.busy": "2023-11-20T18:53:22.519725Z",
     "iopub.status.idle": "2023-11-20T18:53:23.670116Z",
     "shell.execute_reply": "2023-11-20T18:53:23.669231Z"
    },
    "papermill": {
     "duration": 1.20903,
     "end_time": "2023-11-20T18:53:23.672757",
     "exception": false,
     "start_time": "2023-11-20T18:53:22.463727",
     "status": "completed"
    },
    "tags": []
   },
   "outputs": [
    {
     "name": "stdout",
     "output_type": "stream",
     "text": [
      "[LightGBM] [Warning] Found whitespace in feature_names, replace with underlines\n",
      "[LightGBM] [Debug] Dataset::GetMultiBinFromSparseFeatures: sparse rate 0.953828\n",
      "[LightGBM] [Debug] Dataset::GetMultiBinFromAllFeatures: sparse rate 0.175143\n",
      "[LightGBM] [Debug] init for col-wise cost 0.015716 seconds, init for row-wise cost 0.158228 seconds\n",
      "[LightGBM] [Warning] Auto-choosing row-wise multi-threading, the overhead of testing was 0.064867 seconds.\n",
      "You can set `force_row_wise=true` to remove the overhead.\n",
      "And if memory is not enough, you can set `force_col_wise=true`.\n",
      "[LightGBM] [Debug] Using Dense Multi-Val Bin\n",
      "[LightGBM] [Info] Total Bins 1106\n",
      "[LightGBM] [Info] Number of data points in the train set: 983992, number of used features: 19\n",
      "[LightGBM] [Debug] Trained a tree with leaves = 31 and depth = 9\n",
      "CPU times: user 3.54 s, sys: 134 ms, total: 3.68 s\n",
      "Wall time: 1.14 s\n"
     ]
    }
   ],
   "source": [
    "%%time\n",
    "\n",
    "ranker = ranker.fit(\n",
    "    train_X,\n",
    "    train_y,\n",
    "    group=train_baskets,\n",
    ")"
   ]
  },
  {
   "cell_type": "code",
   "execution_count": 28,
   "id": "d601a738",
   "metadata": {
    "execution": {
     "iopub.execute_input": "2023-11-20T18:53:23.789093Z",
     "iopub.status.busy": "2023-11-20T18:53:23.788571Z",
     "iopub.status.idle": "2023-11-20T18:53:23.801079Z",
     "shell.execute_reply": "2023-11-20T18:53:23.800082Z"
    },
    "papermill": {
     "duration": 0.07338,
     "end_time": "2023-11-20T18:53:23.803456",
     "exception": false,
     "start_time": "2023-11-20T18:53:23.730076",
     "status": "completed"
    },
    "tags": []
   },
   "outputs": [
    {
     "name": "stdout",
     "output_type": "stream",
     "text": [
      "bestseller_rank 0.29357902215987824\n",
      "article_id 0.23810375868581196\n",
      "garment_group_no 0.10941118175092103\n",
      "perceived_colour_master_id 0.0839680522011746\n",
      "department_no 0.08252986165503182\n",
      "perceived_colour_value_id 0.0702231711693175\n",
      "section_no 0.04850300676857512\n",
      "product_type_no 0.030123302794064277\n",
      "index_code 0.029674638530389975\n",
      "graphical_appearance_no 0.013884004284835421\n",
      "FN 0.0\n",
      "Active 0.0\n",
      "most_present_gender_in_area 0.0\n",
      "index_group_no 0.0\n",
      "club_member_status 0.0\n",
      "fashion_news_frequency 0.0\n",
      "mean price purchases 0.0\n",
      "colour_group_code 0.0\n",
      "median_age_area 0.0\n"
     ]
    }
   ],
   "source": [
    "for i in ranker.feature_importances_.argsort()[::-1]:\n",
    "    print(columns_to_use[i], ranker.feature_importances_[i]/ranker.feature_importances_.sum())"
   ]
  },
  {
   "cell_type": "markdown",
   "id": "07f0972d",
   "metadata": {
    "papermill": {
     "duration": 0.055981,
     "end_time": "2023-11-20T18:53:23.915972",
     "exception": false,
     "start_time": "2023-11-20T18:53:23.859991",
     "status": "completed"
    },
    "tags": []
   },
   "source": [
    "# Calculate predictions"
   ]
  },
  {
   "cell_type": "code",
   "execution_count": 29,
   "id": "d1fc7cea",
   "metadata": {
    "execution": {
     "iopub.execute_input": "2023-11-20T18:53:24.031620Z",
     "iopub.status.busy": "2023-11-20T18:53:24.031288Z",
     "iopub.status.idle": "2023-11-20T18:53:29.839979Z",
     "shell.execute_reply": "2023-11-20T18:53:29.839024Z"
    },
    "papermill": {
     "duration": 5.869871,
     "end_time": "2023-11-20T18:53:29.842738",
     "exception": false,
     "start_time": "2023-11-20T18:53:23.972867",
     "status": "completed"
    },
    "tags": []
   },
   "outputs": [
    {
     "name": "stdout",
     "output_type": "stream",
     "text": [
      "CPU times: user 4 µs, sys: 0 ns, total: 4 µs\n",
      "Wall time: 8.82 µs\n"
     ]
    }
   ],
   "source": [
    "%time\n",
    "\n",
    "test['preds'] = ranker.predict(test_X)\n",
    "\n",
    "c_id2predicted_article_ids = test \\\n",
    "    .sort_values(['customer_id', 'preds'], ascending=False) \\\n",
    "    .groupby('customer_id')['article_id'].apply(list).to_dict()\n",
    "\n",
    "bestsellers_september_all = \\\n",
    "    bestsellers_september[bestsellers_september.week == bestsellers_september.week.max()]['article_id'].tolist()"
   ]
  },
  {
   "cell_type": "markdown",
   "id": "c0765703",
   "metadata": {
    "papermill": {
     "duration": 0.055853,
     "end_time": "2023-11-20T18:53:29.955252",
     "exception": false,
     "start_time": "2023-11-20T18:53:29.899399",
     "status": "completed"
    },
    "tags": []
   },
   "source": [
    "# Create submission"
   ]
  },
  {
   "cell_type": "code",
   "execution_count": 30,
   "id": "5a081718",
   "metadata": {
    "execution": {
     "iopub.execute_input": "2023-11-20T18:53:30.069857Z",
     "iopub.status.busy": "2023-11-20T18:53:30.069101Z",
     "iopub.status.idle": "2023-11-20T18:53:35.497796Z",
     "shell.execute_reply": "2023-11-20T18:53:35.496836Z"
    },
    "papermill": {
     "duration": 5.4895,
     "end_time": "2023-11-20T18:53:35.500748",
     "exception": false,
     "start_time": "2023-11-20T18:53:30.011248",
     "status": "completed"
    },
    "tags": []
   },
   "outputs": [],
   "source": [
    "sub = pd.read_csv('/kaggle/input/h-and-m-personalized-fashion-recommendations/sample_submission.csv')"
   ]
  },
  {
   "cell_type": "code",
   "execution_count": 31,
   "id": "a43e303d",
   "metadata": {
    "execution": {
     "iopub.execute_input": "2023-11-20T18:53:35.615558Z",
     "iopub.status.busy": "2023-11-20T18:53:35.615209Z",
     "iopub.status.idle": "2023-11-20T18:53:41.949730Z",
     "shell.execute_reply": "2023-11-20T18:53:41.948772Z"
    },
    "papermill": {
     "duration": 6.394406,
     "end_time": "2023-11-20T18:53:41.952028",
     "exception": false,
     "start_time": "2023-11-20T18:53:35.557622",
     "status": "completed"
    },
    "tags": []
   },
   "outputs": [
    {
     "name": "stdout",
     "output_type": "stream",
     "text": [
      "CPU times: user 6 s, sys: 319 ms, total: 6.32 s\n",
      "Wall time: 6.33 s\n"
     ]
    }
   ],
   "source": [
    "%%time\n",
    "preds = []\n",
    "for c_id in customer_hex_id_to_int(sub.customer_id):\n",
    "    pred = c_id2predicted_article_ids.get(c_id, [])\n",
    "    pred = pred + bestsellers_september_all\n",
    "    preds.append(pred[:12])"
   ]
  },
  {
   "cell_type": "code",
   "execution_count": 32,
   "id": "dfff63bf",
   "metadata": {
    "execution": {
     "iopub.execute_input": "2023-11-20T18:53:42.069200Z",
     "iopub.status.busy": "2023-11-20T18:53:42.068849Z",
     "iopub.status.idle": "2023-11-20T18:53:49.239974Z",
     "shell.execute_reply": "2023-11-20T18:53:49.238944Z"
    },
    "papermill": {
     "duration": 7.232399,
     "end_time": "2023-11-20T18:53:49.242660",
     "exception": false,
     "start_time": "2023-11-20T18:53:42.010261",
     "status": "completed"
    },
    "tags": []
   },
   "outputs": [],
   "source": [
    "preds = [' '.join(['0' + str(p) for p in ps]) for ps in preds]\n",
    "sub.prediction = preds"
   ]
  },
  {
   "cell_type": "code",
   "execution_count": 33,
   "id": "b5c70306",
   "metadata": {
    "execution": {
     "iopub.execute_input": "2023-11-20T18:53:49.359111Z",
     "iopub.status.busy": "2023-11-20T18:53:49.358781Z",
     "iopub.status.idle": "2023-11-20T18:54:03.235941Z",
     "shell.execute_reply": "2023-11-20T18:54:03.234955Z"
    },
    "papermill": {
     "duration": 13.938604,
     "end_time": "2023-11-20T18:54:03.238415",
     "exception": false,
     "start_time": "2023-11-20T18:53:49.299811",
     "status": "completed"
    },
    "tags": []
   },
   "outputs": [],
   "source": [
    "sub_name = 'submission'\n",
    "sub.to_csv(f'{sub_name}.csv', index=False)"
   ]
  }
 ],
 "metadata": {
  "kaggle": {
   "accelerator": "none",
   "dataSources": [
    {
     "databundleVersionId": 3103714,
     "sourceId": 31254,
     "sourceType": "competition"
    },
    {
     "datasetId": 3840849,
     "sourceId": 6655455,
     "sourceType": "datasetVersion"
    },
    {
     "datasetId": 3967857,
     "sourceId": 6908916,
     "sourceType": "datasetVersion"
    },
    {
     "sourceId": 93163345,
     "sourceType": "kernelVersion"
    }
   ],
   "dockerImageVersionId": 30178,
   "isGpuEnabled": false,
   "isInternetEnabled": true,
   "language": "python",
   "sourceType": "notebook"
  },
  "kernelspec": {
   "display_name": "Python 3",
   "language": "python",
   "name": "python3"
  },
  "language_info": {
   "codemirror_mode": {
    "name": "ipython",
    "version": 3
   },
   "file_extension": ".py",
   "mimetype": "text/x-python",
   "name": "python",
   "nbconvert_exporter": "python",
   "pygments_lexer": "ipython3",
   "version": "3.7.12"
  },
  "papermill": {
   "default_parameters": {},
   "duration": 111.769469,
   "end_time": "2023-11-20T18:54:04.420216",
   "environment_variables": {},
   "exception": null,
   "input_path": "__notebook__.ipynb",
   "output_path": "__notebook__.ipynb",
   "parameters": {},
   "start_time": "2023-11-20T18:52:12.650747",
   "version": "2.3.4"
  }
 },
 "nbformat": 4,
 "nbformat_minor": 5
}
