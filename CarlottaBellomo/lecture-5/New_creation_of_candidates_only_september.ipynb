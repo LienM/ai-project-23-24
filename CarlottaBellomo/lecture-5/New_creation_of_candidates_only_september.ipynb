{
 "cells": [
  {
   "cell_type": "markdown",
   "id": "c1badadd",
   "metadata": {
    "papermill": {
     "duration": 0.037596,
     "end_time": "2023-11-20T15:13:37.152777",
     "exception": false,
     "start_time": "2023-11-20T15:13:37.115181",
     "status": "completed"
    },
    "tags": []
   },
   "source": [
    "Radek posted about this [here](https://www.kaggle.com/competitions/h-and-m-personalized-fashion-recommendations/discussion/309220), and linked to a GitHub repo with the code.\n",
    "\n",
    "I just transferred that code here to Kaggle notebooks, that's all."
   ]
  },
  {
   "cell_type": "code",
   "execution_count": 1,
   "id": "9e99306c",
   "metadata": {
    "execution": {
     "iopub.execute_input": "2023-11-20T15:13:37.226152Z",
     "iopub.status.busy": "2023-11-20T15:13:37.225769Z",
     "iopub.status.idle": "2023-11-20T15:13:37.240088Z",
     "shell.execute_reply": "2023-11-20T15:13:37.239390Z"
    },
    "papermill": {
     "duration": 0.054036,
     "end_time": "2023-11-20T15:13:37.242598",
     "exception": false,
     "start_time": "2023-11-20T15:13:37.188562",
     "status": "completed"
    },
    "tags": []
   },
   "outputs": [],
   "source": [
    "import numpy as np\n",
    "\n",
    "def apk(actual, predicted, k=10):\n",
    "    \"\"\"\n",
    "    Computes the average precision at k.\n",
    "\n",
    "    This function computes the average prescision at k between two lists of\n",
    "    items.\n",
    "\n",
    "    Parameters\n",
    "    ----------\n",
    "    actual : list\n",
    "             A list of elements that are to be predicted (order doesn't matter)\n",
    "    predicted : list\n",
    "                A list of predicted elements (order does matter)\n",
    "    k : int, optional\n",
    "        The maximum number of predicted elements\n",
    "\n",
    "    Returns\n",
    "    -------\n",
    "    score : double\n",
    "            The average precision at k over the input lists\n",
    "\n",
    "    \"\"\"\n",
    "    if len(predicted)>k:\n",
    "        predicted = predicted[:k]\n",
    "\n",
    "    score = 0.0\n",
    "    num_hits = 0.0\n",
    "\n",
    "    for i,p in enumerate(predicted):\n",
    "        if p in actual and p not in predicted[:i]:\n",
    "            num_hits += 1.0\n",
    "            score += num_hits / (i+1.0)\n",
    "\n",
    "    if not actual:\n",
    "        return 0.0\n",
    "\n",
    "    return score / min(len(actual), k)\n",
    "\n",
    "def mapk(actual, predicted, k=10):\n",
    "    \"\"\"\n",
    "    Computes the mean average precision at k.\n",
    "\n",
    "    This function computes the mean average prescision at k between two lists\n",
    "    of lists of items.\n",
    "\n",
    "    Parameters\n",
    "    ----------\n",
    "    actual : list\n",
    "             A list of lists of elements that are to be predicted \n",
    "             (order doesn't matter in the lists)\n",
    "    predicted : list\n",
    "                A list of lists of predicted elements\n",
    "                (order matters in the lists)\n",
    "    k : int, optional\n",
    "        The maximum number of predicted elements\n",
    "\n",
    "    Returns\n",
    "    -------\n",
    "    score : double\n",
    "            The mean average precision at k over the input lists\n",
    "\n",
    "    \"\"\"\n",
    "    return np.mean([apk(a,p,k) for a,p in zip(actual, predicted)])"
   ]
  },
  {
   "cell_type": "code",
   "execution_count": 2,
   "id": "9b1cd55c",
   "metadata": {
    "execution": {
     "iopub.execute_input": "2023-11-20T15:13:37.316928Z",
     "iopub.status.busy": "2023-11-20T15:13:37.316608Z",
     "iopub.status.idle": "2023-11-20T15:13:38.278897Z",
     "shell.execute_reply": "2023-11-20T15:13:38.277813Z"
    },
    "papermill": {
     "duration": 1.002568,
     "end_time": "2023-11-20T15:13:38.281293",
     "exception": false,
     "start_time": "2023-11-20T15:13:37.278725",
     "status": "completed"
    },
    "tags": []
   },
   "outputs": [],
   "source": [
    "from sklearn.base import BaseEstimator, TransformerMixin\n",
    "import numpy as np\n",
    "\n",
    "# https://www.kaggle.com/c/h-and-m-personalized-fashion-recommendations/discussion/308635\n",
    "def customer_hex_id_to_int(series):\n",
    "    return series.str[-16:].apply(hex_id_to_int)\n",
    "\n",
    "def hex_id_to_int(str):\n",
    "    return int(str[-16:], 16)\n",
    "\n",
    "def article_id_str_to_int(series):\n",
    "    return series.astype('int32')\n",
    "\n",
    "def article_id_int_to_str(series):\n",
    "    return '0' + series.astype('str')\n",
    "\n",
    "class Categorize(BaseEstimator, TransformerMixin):\n",
    "    def __init__(self, min_examples=0):\n",
    "        self.min_examples = min_examples\n",
    "        self.categories = []\n",
    "        \n",
    "    def fit(self, X):\n",
    "        for i in range(X.shape[1]):\n",
    "            vc = X.iloc[:, i].value_counts()\n",
    "            self.categories.append(vc[vc > self.min_examples].index.tolist())\n",
    "        return self\n",
    "\n",
    "    def transform(self, X):\n",
    "        data = {X.columns[i]: pd.Categorical(X.iloc[:, i], categories=self.categories[i]).codes for i in range(X.shape[1])}\n",
    "        return pd.DataFrame(data=data)\n",
    "\n",
    "\n",
    "def calculate_apk(list_of_preds, list_of_gts):\n",
    "    # for fast validation this can be changed to operate on dicts of {'cust_id_int': [art_id_int, ...]}\n",
    "    # using 'data/val_week_purchases_by_cust.pkl'\n",
    "    apks = []\n",
    "    for preds, gt in zip(list_of_preds, list_of_gts):\n",
    "        apks.append(apk(gt, preds, k=12))\n",
    "    return np.mean(apks)\n",
    "\n",
    "def eval_sub(sub_csv, skip_cust_with_no_purchases=True):\n",
    "    sub=pd.read_csv(sub_csv)\n",
    "    validation_set=pd.read_parquet('data/validation_ground_truth.parquet')\n",
    "\n",
    "    apks = []\n",
    "\n",
    "    no_purchases_pattern = []\n",
    "    for pred, gt in zip(sub.prediction.str.split(), validation_set.prediction.str.split()):\n",
    "        if skip_cust_with_no_purchases and (gt == no_purchases_pattern): continue\n",
    "        apks.append(apk(gt, pred, k=12))\n",
    "    return np.mean(apks)"
   ]
  },
  {
   "cell_type": "code",
   "execution_count": 3,
   "id": "c502ef22",
   "metadata": {
    "execution": {
     "iopub.execute_input": "2023-11-20T15:13:38.356585Z",
     "iopub.status.busy": "2023-11-20T15:13:38.356227Z",
     "iopub.status.idle": "2023-11-20T15:13:38.360564Z",
     "shell.execute_reply": "2023-11-20T15:13:38.359742Z"
    },
    "papermill": {
     "duration": 0.042895,
     "end_time": "2023-11-20T15:13:38.362504",
     "exception": false,
     "start_time": "2023-11-20T15:13:38.319609",
     "status": "completed"
    },
    "tags": []
   },
   "outputs": [],
   "source": [
    "import pandas as pd"
   ]
  },
  {
   "cell_type": "code",
   "execution_count": 4,
   "id": "61225aa0",
   "metadata": {
    "execution": {
     "iopub.execute_input": "2023-11-20T15:13:38.435807Z",
     "iopub.status.busy": "2023-11-20T15:13:38.435499Z",
     "iopub.status.idle": "2023-11-20T15:13:44.726965Z",
     "shell.execute_reply": "2023-11-20T15:13:44.726296Z"
    },
    "papermill": {
     "duration": 6.331056,
     "end_time": "2023-11-20T15:13:44.729728",
     "exception": false,
     "start_time": "2023-11-20T15:13:38.398672",
     "status": "completed"
    },
    "tags": []
   },
   "outputs": [
    {
     "name": "stdout",
     "output_type": "stream",
     "text": [
      "CPU times: user 2.18 s, sys: 2.54 s, total: 4.72 s\n",
      "Wall time: 6.29 s\n"
     ]
    }
   ],
   "source": [
    "%%time\n",
    "\n",
    "transactions = pd.read_parquet('../input/warmup/transactions_train.parquet')\n",
    "customers = pd.read_parquet('../input/parquet-new-assignement/new_customer_one.parquet')\n",
    "articles = pd.read_parquet('../input/parquet-new-assignement/new_articles_one.parquet')\n",
    "\n",
    "# sample = 0.05\n",
    "# transactions = pd.read_parquet(f'data/transactions_train_sample_{sample}.parquet')\n",
    "# customers = pd.read_parquet(f'data/customers_sample_{sample}.parquet')\n",
    "# articles = pd.read_parquet(f'data/articles_train_sample_{sample}.parquet')"
   ]
  },
  {
   "cell_type": "code",
   "execution_count": 5,
   "id": "5989d07c",
   "metadata": {
    "execution": {
     "iopub.execute_input": "2023-11-20T15:13:44.804581Z",
     "iopub.status.busy": "2023-11-20T15:13:44.804012Z",
     "iopub.status.idle": "2023-11-20T15:13:46.945656Z",
     "shell.execute_reply": "2023-11-20T15:13:46.944607Z"
    },
    "papermill": {
     "duration": 2.181229,
     "end_time": "2023-11-20T15:13:46.948171",
     "exception": false,
     "start_time": "2023-11-20T15:13:44.766942",
     "status": "completed"
    },
    "tags": []
   },
   "outputs": [],
   "source": [
    "#adding of the column week to the dataframe transactions\n",
    "transactions.t_dat = pd.to_datetime(transactions.t_dat, format='%Y-%m-%d')\n",
    "transactions['week'] = 104 - (transactions.t_dat.max() - transactions.t_dat).dt.days // 7"
   ]
  },
  {
   "cell_type": "code",
   "execution_count": 6,
   "id": "a2a0088b",
   "metadata": {
    "execution": {
     "iopub.execute_input": "2023-11-20T15:13:47.022211Z",
     "iopub.status.busy": "2023-11-20T15:13:47.021864Z",
     "iopub.status.idle": "2023-11-20T15:13:47.061510Z",
     "shell.execute_reply": "2023-11-20T15:13:47.060532Z"
    },
    "papermill": {
     "duration": 0.079571,
     "end_time": "2023-11-20T15:13:47.063938",
     "exception": false,
     "start_time": "2023-11-20T15:13:46.984367",
     "status": "completed"
    },
    "tags": []
   },
   "outputs": [],
   "source": [
    "#definition of the week for test\n",
    "test_week = transactions.week.max() + 1 \n",
    "#transactions = transactions[transactions.week > transactions.week.max() - 10]"
   ]
  },
  {
   "cell_type": "markdown",
   "id": "09a24ba6",
   "metadata": {
    "papermill": {
     "duration": 0.037237,
     "end_time": "2023-11-20T15:13:47.137294",
     "exception": false,
     "start_time": "2023-11-20T15:13:47.100057",
     "status": "completed"
    },
    "tags": []
   },
   "source": [
    "# Generating candidates"
   ]
  },
  {
   "cell_type": "markdown",
   "id": "a43ecd67",
   "metadata": {
    "papermill": {
     "duration": 0.035944,
     "end_time": "2023-11-20T15:13:47.209019",
     "exception": false,
     "start_time": "2023-11-20T15:13:47.173075",
     "status": "completed"
    },
    "tags": []
   },
   "source": [
    "### Last purchase candidates"
   ]
  },
  {
   "cell_type": "code",
   "execution_count": 7,
   "id": "f81be5db",
   "metadata": {
    "execution": {
     "iopub.execute_input": "2023-11-20T15:13:47.284168Z",
     "iopub.status.busy": "2023-11-20T15:13:47.283866Z",
     "iopub.status.idle": "2023-11-20T15:14:19.462470Z",
     "shell.execute_reply": "2023-11-20T15:14:19.461516Z"
    },
    "papermill": {
     "duration": 32.220074,
     "end_time": "2023-11-20T15:14:19.464995",
     "exception": false,
     "start_time": "2023-11-20T15:13:47.244921",
     "status": "completed"
    },
    "tags": []
   },
   "outputs": [],
   "source": [
    "'''deciding to work only with data of the months of September since probably articles\n",
    "bought in this period could be the same and then the reccomendation could be more \n",
    "related also to the period in which we need to give them'''\n",
    "\n",
    "#filtering only the weeks of the month of semptember for the years 2018-2020\n",
    "filtered_transactions = transactions[(transactions['t_dat'].dt.month == 9) &\n",
    "                                     (transactions['t_dat'].dt.year.between(2018, 2020))]\n",
    "\n",
    "#groupby of candidates based on the customer_id and extraction of weeks\n",
    "c2weeks = filtered_transactions.groupby('customer_id')['week'].unique()\n",
    "\n",
    "#creation of a dictionary for shifted weeks\n",
    "c2weeks2shifted_weeks = {}\n",
    "candidates_last_purchase_september = filtered_transactions.copy()\n",
    "\n",
    "for c_id, weeks in c2weeks.items():\n",
    "    c2weeks2shifted_weeks[c_id] = {}\n",
    "    for i in range(weeks.shape[0]-1):\n",
    "        c2weeks2shifted_weeks[c_id][weeks[i]] = weeks[i+1]\n",
    "    c2weeks2shifted_weeks[c_id][weeks[-1]] = test_week\n",
    "\n",
    "#update of the dataframe candidates_last_purchase_september\n",
    "weeks = []\n",
    "for i, (c_id, week) in enumerate(zip(filtered_transactions['customer_id'], filtered_transactions['week'])):\n",
    "    weeks.append(c2weeks2shifted_weeks[c_id][week])\n",
    "    \n",
    "candidates_last_purchase_september.week = weeks"
   ]
  },
  {
   "cell_type": "markdown",
   "id": "693ff6da",
   "metadata": {
    "papermill": {
     "duration": 0.03568,
     "end_time": "2023-11-20T15:14:19.536909",
     "exception": false,
     "start_time": "2023-11-20T15:14:19.501229",
     "status": "completed"
    },
    "tags": []
   },
   "source": [
    "### candidates"
   ]
  },
  {
   "cell_type": "code",
   "execution_count": 8,
   "id": "7723a33a",
   "metadata": {
    "execution": {
     "iopub.execute_input": "2023-11-20T15:14:19.610441Z",
     "iopub.status.busy": "2023-11-20T15:14:19.609774Z",
     "iopub.status.idle": "2023-11-20T15:14:19.927408Z",
     "shell.execute_reply": "2023-11-20T15:14:19.926513Z"
    },
    "papermill": {
     "duration": 0.357081,
     "end_time": "2023-11-20T15:14:19.929942",
     "exception": false,
     "start_time": "2023-11-20T15:14:19.572861",
     "status": "completed"
    },
    "tags": []
   },
   "outputs": [
    {
     "data": {
      "text/html": [
       "<div>\n",
       "<style scoped>\n",
       "    .dataframe tbody tr th:only-of-type {\n",
       "        vertical-align: middle;\n",
       "    }\n",
       "\n",
       "    .dataframe tbody tr th {\n",
       "        vertical-align: top;\n",
       "    }\n",
       "\n",
       "    .dataframe thead th {\n",
       "        text-align: right;\n",
       "    }\n",
       "</style>\n",
       "<table border=\"1\" class=\"dataframe\">\n",
       "  <thead>\n",
       "    <tr style=\"text-align: right;\">\n",
       "      <th></th>\n",
       "      <th>customer_id</th>\n",
       "      <th>mean price purchases</th>\n",
       "    </tr>\n",
       "  </thead>\n",
       "  <tbody>\n",
       "    <tr>\n",
       "      <th>0</th>\n",
       "      <td>28847241659200</td>\n",
       "      <td>0.045407</td>\n",
       "    </tr>\n",
       "    <tr>\n",
       "      <th>1</th>\n",
       "      <td>77117344919861</td>\n",
       "      <td>0.044347</td>\n",
       "    </tr>\n",
       "    <tr>\n",
       "      <th>2</th>\n",
       "      <td>116809474287335</td>\n",
       "      <td>0.033881</td>\n",
       "    </tr>\n",
       "    <tr>\n",
       "      <th>3</th>\n",
       "      <td>200292573348128</td>\n",
       "      <td>0.023712</td>\n",
       "    </tr>\n",
       "    <tr>\n",
       "      <th>4</th>\n",
       "      <td>272412481300040</td>\n",
       "      <td>0.029856</td>\n",
       "    </tr>\n",
       "    <tr>\n",
       "      <th>...</th>\n",
       "      <td>...</td>\n",
       "      <td>...</td>\n",
       "    </tr>\n",
       "    <tr>\n",
       "      <th>440583</th>\n",
       "      <td>18446571879212697038</td>\n",
       "      <td>0.026254</td>\n",
       "    </tr>\n",
       "    <tr>\n",
       "      <th>440584</th>\n",
       "      <td>18446590778427270109</td>\n",
       "      <td>0.029644</td>\n",
       "    </tr>\n",
       "    <tr>\n",
       "      <th>440585</th>\n",
       "      <td>18446630855572834764</td>\n",
       "      <td>0.061000</td>\n",
       "    </tr>\n",
       "    <tr>\n",
       "      <th>440586</th>\n",
       "      <td>18446705133201055310</td>\n",
       "      <td>0.050831</td>\n",
       "    </tr>\n",
       "    <tr>\n",
       "      <th>440587</th>\n",
       "      <td>18446737527580148316</td>\n",
       "      <td>0.018570</td>\n",
       "    </tr>\n",
       "  </tbody>\n",
       "</table>\n",
       "<p>440588 rows × 2 columns</p>\n",
       "</div>"
      ],
      "text/plain": [
       "                 customer_id  mean price purchases\n",
       "0             28847241659200              0.045407\n",
       "1             77117344919861              0.044347\n",
       "2            116809474287335              0.033881\n",
       "3            200292573348128              0.023712\n",
       "4            272412481300040              0.029856\n",
       "...                      ...                   ...\n",
       "440583  18446571879212697038              0.026254\n",
       "440584  18446590778427270109              0.029644\n",
       "440585  18446630855572834764              0.061000\n",
       "440586  18446705133201055310              0.050831\n",
       "440587  18446737527580148316              0.018570\n",
       "\n",
       "[440588 rows x 2 columns]"
      ]
     },
     "execution_count": 8,
     "metadata": {},
     "output_type": "execute_result"
    }
   ],
   "source": [
    "#creation of the mean price of purchases for each candidate only in the filtered transactions\n",
    "mean_price_purchases = filtered_transactions.groupby('customer_id')['price'].mean().rename('mean price purchases').reset_index()\n",
    "mean_price_purchases"
   ]
  },
  {
   "cell_type": "code",
   "execution_count": 9,
   "id": "a79508d0",
   "metadata": {
    "execution": {
     "iopub.execute_input": "2023-11-20T15:14:20.004221Z",
     "iopub.status.busy": "2023-11-20T15:14:20.003470Z",
     "iopub.status.idle": "2023-11-20T15:14:22.160074Z",
     "shell.execute_reply": "2023-11-20T15:14:22.159218Z"
    },
    "papermill": {
     "duration": 2.196212,
     "end_time": "2023-11-20T15:14:22.162261",
     "exception": false,
     "start_time": "2023-11-20T15:14:19.966049",
     "status": "completed"
    },
    "tags": []
   },
   "outputs": [
    {
     "data": {
      "text/html": [
       "<div>\n",
       "<style scoped>\n",
       "    .dataframe tbody tr th:only-of-type {\n",
       "        vertical-align: middle;\n",
       "    }\n",
       "\n",
       "    .dataframe tbody tr th {\n",
       "        vertical-align: top;\n",
       "    }\n",
       "\n",
       "    .dataframe thead th {\n",
       "        text-align: right;\n",
       "    }\n",
       "</style>\n",
       "<table border=\"1\" class=\"dataframe\">\n",
       "  <thead>\n",
       "    <tr style=\"text-align: right;\">\n",
       "      <th></th>\n",
       "      <th>customer_id</th>\n",
       "      <th>most_present_gender_in_area</th>\n",
       "    </tr>\n",
       "  </thead>\n",
       "  <tbody>\n",
       "    <tr>\n",
       "      <th>0</th>\n",
       "      <td>4245900472157</td>\n",
       "      <td>2</td>\n",
       "    </tr>\n",
       "    <tr>\n",
       "      <th>1</th>\n",
       "      <td>23962613628581</td>\n",
       "      <td>0</td>\n",
       "    </tr>\n",
       "    <tr>\n",
       "      <th>2</th>\n",
       "      <td>25398598941468</td>\n",
       "      <td>2</td>\n",
       "    </tr>\n",
       "    <tr>\n",
       "      <th>3</th>\n",
       "      <td>28847241659200</td>\n",
       "      <td>2</td>\n",
       "    </tr>\n",
       "    <tr>\n",
       "      <th>4</th>\n",
       "      <td>41046458195168</td>\n",
       "      <td>2</td>\n",
       "    </tr>\n",
       "    <tr>\n",
       "      <th>...</th>\n",
       "      <td>...</td>\n",
       "      <td>...</td>\n",
       "    </tr>\n",
       "    <tr>\n",
       "      <th>1371975</th>\n",
       "      <td>18446630855572834764</td>\n",
       "      <td>0</td>\n",
       "    </tr>\n",
       "    <tr>\n",
       "      <th>1371976</th>\n",
       "      <td>18446662237889060501</td>\n",
       "      <td>2</td>\n",
       "    </tr>\n",
       "    <tr>\n",
       "      <th>1371977</th>\n",
       "      <td>18446705133201055310</td>\n",
       "      <td>0</td>\n",
       "    </tr>\n",
       "    <tr>\n",
       "      <th>1371978</th>\n",
       "      <td>18446723086055369602</td>\n",
       "      <td>2</td>\n",
       "    </tr>\n",
       "    <tr>\n",
       "      <th>1371979</th>\n",
       "      <td>18446737527580148316</td>\n",
       "      <td>1</td>\n",
       "    </tr>\n",
       "  </tbody>\n",
       "</table>\n",
       "<p>1371980 rows × 2 columns</p>\n",
       "</div>"
      ],
      "text/plain": [
       "                  customer_id  most_present_gender_in_area\n",
       "0               4245900472157                            2\n",
       "1              23962613628581                            0\n",
       "2              25398598941468                            2\n",
       "3              28847241659200                            2\n",
       "4              41046458195168                            2\n",
       "...                       ...                          ...\n",
       "1371975  18446630855572834764                            0\n",
       "1371976  18446662237889060501                            2\n",
       "1371977  18446705133201055310                            0\n",
       "1371978  18446723086055369602                            2\n",
       "1371979  18446737527580148316                            1\n",
       "\n",
       "[1371980 rows x 2 columns]"
      ]
     },
     "execution_count": 9,
     "metadata": {},
     "output_type": "execute_result"
    }
   ],
   "source": [
    "#identification of the gender group that is the most present in a specific geographic area\n",
    "most_present_gender = customers.groupby(['customer_id', 'postal_code', 'numerical_gender']).size().reset_index(name='count')\n",
    "idx = most_present_gender.groupby(['customer_id', 'postal_code'])['count'].transform(max) == most_present_gender['count']\n",
    "most_present_gender = most_present_gender[idx][['customer_id', 'postal_code', 'numerical_gender']]\n",
    "most_present_gender = most_present_gender.rename(columns = {'numerical_gender': 'most_present_gender_in_area'})\n",
    "most_present_gender.drop(columns = 'postal_code', inplace = True)\n",
    "most_present_gender"
   ]
  },
  {
   "cell_type": "code",
   "execution_count": 10,
   "id": "b89e6eff",
   "metadata": {
    "execution": {
     "iopub.execute_input": "2023-11-20T15:14:22.238628Z",
     "iopub.status.busy": "2023-11-20T15:14:22.238334Z",
     "iopub.status.idle": "2023-11-20T15:14:23.703901Z",
     "shell.execute_reply": "2023-11-20T15:14:23.702801Z"
    },
    "papermill": {
     "duration": 1.506332,
     "end_time": "2023-11-20T15:14:23.706133",
     "exception": false,
     "start_time": "2023-11-20T15:14:22.199801",
     "status": "completed"
    },
    "tags": []
   },
   "outputs": [
    {
     "data": {
      "text/html": [
       "<div>\n",
       "<style scoped>\n",
       "    .dataframe tbody tr th:only-of-type {\n",
       "        vertical-align: middle;\n",
       "    }\n",
       "\n",
       "    .dataframe tbody tr th {\n",
       "        vertical-align: top;\n",
       "    }\n",
       "\n",
       "    .dataframe thead th {\n",
       "        text-align: right;\n",
       "    }\n",
       "</style>\n",
       "<table border=\"1\" class=\"dataframe\">\n",
       "  <thead>\n",
       "    <tr style=\"text-align: right;\">\n",
       "      <th></th>\n",
       "      <th>customer_id</th>\n",
       "      <th>median_age_area</th>\n",
       "    </tr>\n",
       "  </thead>\n",
       "  <tbody>\n",
       "    <tr>\n",
       "      <th>0</th>\n",
       "      <td>4245900472157</td>\n",
       "      <td>21.0</td>\n",
       "    </tr>\n",
       "    <tr>\n",
       "      <th>1</th>\n",
       "      <td>23962613628581</td>\n",
       "      <td>34.0</td>\n",
       "    </tr>\n",
       "    <tr>\n",
       "      <th>2</th>\n",
       "      <td>25398598941468</td>\n",
       "      <td>21.0</td>\n",
       "    </tr>\n",
       "    <tr>\n",
       "      <th>3</th>\n",
       "      <td>28847241659200</td>\n",
       "      <td>21.0</td>\n",
       "    </tr>\n",
       "    <tr>\n",
       "      <th>4</th>\n",
       "      <td>41046458195168</td>\n",
       "      <td>18.0</td>\n",
       "    </tr>\n",
       "    <tr>\n",
       "      <th>...</th>\n",
       "      <td>...</td>\n",
       "      <td>...</td>\n",
       "    </tr>\n",
       "    <tr>\n",
       "      <th>1371975</th>\n",
       "      <td>18446630855572834764</td>\n",
       "      <td>33.0</td>\n",
       "    </tr>\n",
       "    <tr>\n",
       "      <th>1371976</th>\n",
       "      <td>18446662237889060501</td>\n",
       "      <td>75.0</td>\n",
       "    </tr>\n",
       "    <tr>\n",
       "      <th>1371977</th>\n",
       "      <td>18446705133201055310</td>\n",
       "      <td>60.0</td>\n",
       "    </tr>\n",
       "    <tr>\n",
       "      <th>1371978</th>\n",
       "      <td>18446723086055369602</td>\n",
       "      <td>33.0</td>\n",
       "    </tr>\n",
       "    <tr>\n",
       "      <th>1371979</th>\n",
       "      <td>18446737527580148316</td>\n",
       "      <td>60.0</td>\n",
       "    </tr>\n",
       "  </tbody>\n",
       "</table>\n",
       "<p>1371980 rows × 2 columns</p>\n",
       "</div>"
      ],
      "text/plain": [
       "                  customer_id  median_age_area\n",
       "0               4245900472157             21.0\n",
       "1              23962613628581             34.0\n",
       "2              25398598941468             21.0\n",
       "3              28847241659200             21.0\n",
       "4              41046458195168             18.0\n",
       "...                       ...              ...\n",
       "1371975  18446630855572834764             33.0\n",
       "1371976  18446662237889060501             75.0\n",
       "1371977  18446705133201055310             60.0\n",
       "1371978  18446723086055369602             33.0\n",
       "1371979  18446737527580148316             60.0\n",
       "\n",
       "[1371980 rows x 2 columns]"
      ]
     },
     "execution_count": 10,
     "metadata": {},
     "output_type": "execute_result"
    }
   ],
   "source": [
    "#identification of the medium age for geographic area\n",
    "median_age = customers.groupby(['customer_id', 'postal_code'])['age'].median().reset_index(name = 'median_age_area')\n",
    "median_age.drop(columns = 'postal_code', inplace = True)\n",
    "median_age"
   ]
  },
  {
   "cell_type": "code",
   "execution_count": 11,
   "id": "25f663df",
   "metadata": {
    "execution": {
     "iopub.execute_input": "2023-11-20T15:14:23.784392Z",
     "iopub.status.busy": "2023-11-20T15:14:23.784079Z",
     "iopub.status.idle": "2023-11-20T15:14:25.681948Z",
     "shell.execute_reply": "2023-11-20T15:14:25.681028Z"
    },
    "papermill": {
     "duration": 1.939784,
     "end_time": "2023-11-20T15:14:25.684345",
     "exception": false,
     "start_time": "2023-11-20T15:14:23.744561",
     "status": "completed"
    },
    "tags": []
   },
   "outputs": [
    {
     "data": {
      "text/plain": [
       "Index(['t_dat', 'customer_id', 'article_id', 'price', 'sales_channel_id',\n",
       "       'week', 'mean price purchases', 'most_present_gender_in_area',\n",
       "       'median_age_area'],\n",
       "      dtype='object')"
      ]
     },
     "execution_count": 11,
     "metadata": {},
     "output_type": "execute_result"
    }
   ],
   "source": [
    "candidates_definitive = pd.merge(candidates_last_purchase_september, mean_price_purchases, on = 'customer_id') #merge of values of mean fo the purchases\n",
    "candidates_definitive = pd.merge(candidates_definitive, most_present_gender, on = 'customer_id') #merge of values of the dominant gender in teh geographic area of the customer\n",
    "candidates_definitive = pd.merge(candidates_definitive, median_age, on = 'customer_id') #merge of values of the dominant gender in teh geographic area of the customer\n",
    "\n",
    "candidates_definitive.columns"
   ]
  },
  {
   "cell_type": "code",
   "execution_count": 12,
   "id": "2750ddc2",
   "metadata": {
    "execution": {
     "iopub.execute_input": "2023-11-20T15:14:25.762758Z",
     "iopub.status.busy": "2023-11-20T15:14:25.762438Z",
     "iopub.status.idle": "2023-11-20T15:14:25.932015Z",
     "shell.execute_reply": "2023-11-20T15:14:25.931058Z"
    },
    "papermill": {
     "duration": 0.212161,
     "end_time": "2023-11-20T15:14:25.934856",
     "exception": false,
     "start_time": "2023-11-20T15:14:25.722695",
     "status": "completed"
    },
    "tags": []
   },
   "outputs": [],
   "source": [
    "candidates_definitive = candidates_definitive.drop_duplicates(subset = 'customer_id')"
   ]
  },
  {
   "cell_type": "code",
   "execution_count": 13,
   "id": "356ca7f5",
   "metadata": {
    "execution": {
     "iopub.execute_input": "2023-11-20T15:14:26.011837Z",
     "iopub.status.busy": "2023-11-20T15:14:26.011547Z",
     "iopub.status.idle": "2023-11-20T15:14:26.033221Z",
     "shell.execute_reply": "2023-11-20T15:14:26.032558Z"
    },
    "papermill": {
     "duration": 0.062918,
     "end_time": "2023-11-20T15:14:26.035455",
     "exception": false,
     "start_time": "2023-11-20T15:14:25.972537",
     "status": "completed"
    },
    "tags": []
   },
   "outputs": [
    {
     "data": {
      "text/html": [
       "<div>\n",
       "<style scoped>\n",
       "    .dataframe tbody tr th:only-of-type {\n",
       "        vertical-align: middle;\n",
       "    }\n",
       "\n",
       "    .dataframe tbody tr th {\n",
       "        vertical-align: top;\n",
       "    }\n",
       "\n",
       "    .dataframe thead th {\n",
       "        text-align: right;\n",
       "    }\n",
       "</style>\n",
       "<table border=\"1\" class=\"dataframe\">\n",
       "  <thead>\n",
       "    <tr style=\"text-align: right;\">\n",
       "      <th></th>\n",
       "      <th>t_dat</th>\n",
       "      <th>customer_id</th>\n",
       "      <th>article_id</th>\n",
       "      <th>price</th>\n",
       "      <th>sales_channel_id</th>\n",
       "      <th>week</th>\n",
       "      <th>mean price purchases</th>\n",
       "      <th>most_present_gender_in_area</th>\n",
       "      <th>median_age_area</th>\n",
       "    </tr>\n",
       "  </thead>\n",
       "  <tbody>\n",
       "    <tr>\n",
       "      <th>0</th>\n",
       "      <td>2018-09-20</td>\n",
       "      <td>1728846800780188</td>\n",
       "      <td>519773001</td>\n",
       "      <td>0.028458</td>\n",
       "      <td>2</td>\n",
       "      <td>105</td>\n",
       "      <td>0.030492</td>\n",
       "      <td>0</td>\n",
       "      <td>59.0</td>\n",
       "    </tr>\n",
       "    <tr>\n",
       "      <th>1</th>\n",
       "      <td>2018-09-20</td>\n",
       "      <td>2076973761519164</td>\n",
       "      <td>661795002</td>\n",
       "      <td>0.167797</td>\n",
       "      <td>2</td>\n",
       "      <td>52</td>\n",
       "      <td>0.103944</td>\n",
       "      <td>1</td>\n",
       "      <td>55.0</td>\n",
       "    </tr>\n",
       "    <tr>\n",
       "      <th>2</th>\n",
       "      <td>2018-09-20</td>\n",
       "      <td>2918879973994241</td>\n",
       "      <td>662980001</td>\n",
       "      <td>0.033881</td>\n",
       "      <td>1</td>\n",
       "      <td>105</td>\n",
       "      <td>0.033881</td>\n",
       "      <td>0</td>\n",
       "      <td>40.0</td>\n",
       "    </tr>\n",
       "    <tr>\n",
       "      <th>3</th>\n",
       "      <td>2018-09-20</td>\n",
       "      <td>4233235614030232</td>\n",
       "      <td>568836006</td>\n",
       "      <td>0.023712</td>\n",
       "      <td>2</td>\n",
       "      <td>1</td>\n",
       "      <td>0.040661</td>\n",
       "      <td>0</td>\n",
       "      <td>72.0</td>\n",
       "    </tr>\n",
       "    <tr>\n",
       "      <th>4</th>\n",
       "      <td>2018-09-20</td>\n",
       "      <td>7002608101212285</td>\n",
       "      <td>636722002</td>\n",
       "      <td>0.033881</td>\n",
       "      <td>2</td>\n",
       "      <td>103</td>\n",
       "      <td>0.039531</td>\n",
       "      <td>2</td>\n",
       "      <td>61.0</td>\n",
       "    </tr>\n",
       "    <tr>\n",
       "      <th>...</th>\n",
       "      <td>...</td>\n",
       "      <td>...</td>\n",
       "      <td>...</td>\n",
       "      <td>...</td>\n",
       "      <td>...</td>\n",
       "      <td>...</td>\n",
       "      <td>...</td>\n",
       "      <td>...</td>\n",
       "      <td>...</td>\n",
       "    </tr>\n",
       "    <tr>\n",
       "      <th>440583</th>\n",
       "      <td>2020-09-22</td>\n",
       "      <td>18417769707947924979</td>\n",
       "      <td>729860001</td>\n",
       "      <td>0.022017</td>\n",
       "      <td>2</td>\n",
       "      <td>105</td>\n",
       "      <td>0.019475</td>\n",
       "      <td>2</td>\n",
       "      <td>40.0</td>\n",
       "    </tr>\n",
       "    <tr>\n",
       "      <th>440584</th>\n",
       "      <td>2020-09-22</td>\n",
       "      <td>18418054986721795659</td>\n",
       "      <td>873279003</td>\n",
       "      <td>0.042356</td>\n",
       "      <td>2</td>\n",
       "      <td>105</td>\n",
       "      <td>0.042356</td>\n",
       "      <td>0</td>\n",
       "      <td>28.0</td>\n",
       "    </tr>\n",
       "    <tr>\n",
       "      <th>440585</th>\n",
       "      <td>2020-09-22</td>\n",
       "      <td>18421175435799911749</td>\n",
       "      <td>863583001</td>\n",
       "      <td>0.033881</td>\n",
       "      <td>2</td>\n",
       "      <td>105</td>\n",
       "      <td>0.033881</td>\n",
       "      <td>2</td>\n",
       "      <td>28.0</td>\n",
       "    </tr>\n",
       "    <tr>\n",
       "      <th>440586</th>\n",
       "      <td>2020-09-22</td>\n",
       "      <td>18422784312842572958</td>\n",
       "      <td>639448011</td>\n",
       "      <td>0.050831</td>\n",
       "      <td>1</td>\n",
       "      <td>105</td>\n",
       "      <td>0.032186</td>\n",
       "      <td>2</td>\n",
       "      <td>25.0</td>\n",
       "    </tr>\n",
       "    <tr>\n",
       "      <th>440587</th>\n",
       "      <td>2020-09-22</td>\n",
       "      <td>18438270306572912089</td>\n",
       "      <td>751471043</td>\n",
       "      <td>0.033881</td>\n",
       "      <td>1</td>\n",
       "      <td>105</td>\n",
       "      <td>0.033881</td>\n",
       "      <td>0</td>\n",
       "      <td>71.0</td>\n",
       "    </tr>\n",
       "  </tbody>\n",
       "</table>\n",
       "<p>440588 rows × 9 columns</p>\n",
       "</div>"
      ],
      "text/plain": [
       "            t_dat           customer_id  article_id     price  \\\n",
       "0      2018-09-20      1728846800780188   519773001  0.028458   \n",
       "1      2018-09-20      2076973761519164   661795002  0.167797   \n",
       "2      2018-09-20      2918879973994241   662980001  0.033881   \n",
       "3      2018-09-20      4233235614030232   568836006  0.023712   \n",
       "4      2018-09-20      7002608101212285   636722002  0.033881   \n",
       "...           ...                   ...         ...       ...   \n",
       "440583 2020-09-22  18417769707947924979   729860001  0.022017   \n",
       "440584 2020-09-22  18418054986721795659   873279003  0.042356   \n",
       "440585 2020-09-22  18421175435799911749   863583001  0.033881   \n",
       "440586 2020-09-22  18422784312842572958   639448011  0.050831   \n",
       "440587 2020-09-22  18438270306572912089   751471043  0.033881   \n",
       "\n",
       "        sales_channel_id  week  mean price purchases  \\\n",
       "0                      2   105              0.030492   \n",
       "1                      2    52              0.103944   \n",
       "2                      1   105              0.033881   \n",
       "3                      2     1              0.040661   \n",
       "4                      2   103              0.039531   \n",
       "...                  ...   ...                   ...   \n",
       "440583                 2   105              0.019475   \n",
       "440584                 2   105              0.042356   \n",
       "440585                 2   105              0.033881   \n",
       "440586                 1   105              0.032186   \n",
       "440587                 1   105              0.033881   \n",
       "\n",
       "        most_present_gender_in_area  median_age_area  \n",
       "0                                 0             59.0  \n",
       "1                                 1             55.0  \n",
       "2                                 0             40.0  \n",
       "3                                 0             72.0  \n",
       "4                                 2             61.0  \n",
       "...                             ...              ...  \n",
       "440583                            2             40.0  \n",
       "440584                            0             28.0  \n",
       "440585                            2             28.0  \n",
       "440586                            2             25.0  \n",
       "440587                            0             71.0  \n",
       "\n",
       "[440588 rows x 9 columns]"
      ]
     },
     "execution_count": 13,
     "metadata": {},
     "output_type": "execute_result"
    }
   ],
   "source": [
    "#dataset about candidates in the analyzed period\n",
    "candidates_definitive.reset_index(drop = True, inplace = True)\n",
    "candidates_definitive"
   ]
  },
  {
   "cell_type": "code",
   "execution_count": 14,
   "id": "caf32440",
   "metadata": {
    "execution": {
     "iopub.execute_input": "2023-11-20T15:14:26.114496Z",
     "iopub.status.busy": "2023-11-20T15:14:26.113582Z",
     "iopub.status.idle": "2023-11-20T15:14:26.288764Z",
     "shell.execute_reply": "2023-11-20T15:14:26.287885Z"
    },
    "papermill": {
     "duration": 0.216967,
     "end_time": "2023-11-20T15:14:26.291020",
     "exception": false,
     "start_time": "2023-11-20T15:14:26.074053",
     "status": "completed"
    },
    "tags": []
   },
   "outputs": [
    {
     "data": {
      "text/html": [
       "<div>\n",
       "<style scoped>\n",
       "    .dataframe tbody tr th:only-of-type {\n",
       "        vertical-align: middle;\n",
       "    }\n",
       "\n",
       "    .dataframe tbody tr th {\n",
       "        vertical-align: top;\n",
       "    }\n",
       "\n",
       "    .dataframe thead th {\n",
       "        text-align: right;\n",
       "    }\n",
       "</style>\n",
       "<table border=\"1\" class=\"dataframe\">\n",
       "  <thead>\n",
       "    <tr style=\"text-align: right;\">\n",
       "      <th></th>\n",
       "      <th>t_dat</th>\n",
       "      <th>customer_id</th>\n",
       "      <th>article_id</th>\n",
       "      <th>price</th>\n",
       "      <th>sales_channel_id</th>\n",
       "      <th>week</th>\n",
       "    </tr>\n",
       "  </thead>\n",
       "  <tbody>\n",
       "    <tr>\n",
       "      <th>0</th>\n",
       "      <td>2018-09-20</td>\n",
       "      <td>1728846800780188</td>\n",
       "      <td>519773001</td>\n",
       "      <td>0.028458</td>\n",
       "      <td>2</td>\n",
       "      <td>0</td>\n",
       "    </tr>\n",
       "    <tr>\n",
       "      <th>1</th>\n",
       "      <td>2018-09-20</td>\n",
       "      <td>2076973761519164</td>\n",
       "      <td>661795002</td>\n",
       "      <td>0.167797</td>\n",
       "      <td>2</td>\n",
       "      <td>0</td>\n",
       "    </tr>\n",
       "    <tr>\n",
       "      <th>2</th>\n",
       "      <td>2018-09-20</td>\n",
       "      <td>2918879973994241</td>\n",
       "      <td>662980001</td>\n",
       "      <td>0.033881</td>\n",
       "      <td>1</td>\n",
       "      <td>0</td>\n",
       "    </tr>\n",
       "    <tr>\n",
       "      <th>3</th>\n",
       "      <td>2018-09-20</td>\n",
       "      <td>4233235614030232</td>\n",
       "      <td>568836006</td>\n",
       "      <td>0.023712</td>\n",
       "      <td>2</td>\n",
       "      <td>0</td>\n",
       "    </tr>\n",
       "    <tr>\n",
       "      <th>4</th>\n",
       "      <td>2018-09-20</td>\n",
       "      <td>7002608101212285</td>\n",
       "      <td>636722002</td>\n",
       "      <td>0.033881</td>\n",
       "      <td>2</td>\n",
       "      <td>0</td>\n",
       "    </tr>\n",
       "    <tr>\n",
       "      <th>...</th>\n",
       "      <td>...</td>\n",
       "      <td>...</td>\n",
       "      <td>...</td>\n",
       "      <td>...</td>\n",
       "      <td>...</td>\n",
       "      <td>...</td>\n",
       "    </tr>\n",
       "    <tr>\n",
       "      <th>440583</th>\n",
       "      <td>2020-09-22</td>\n",
       "      <td>18417769707947924979</td>\n",
       "      <td>729860001</td>\n",
       "      <td>0.022017</td>\n",
       "      <td>2</td>\n",
       "      <td>104</td>\n",
       "    </tr>\n",
       "    <tr>\n",
       "      <th>440584</th>\n",
       "      <td>2020-09-22</td>\n",
       "      <td>18418054986721795659</td>\n",
       "      <td>873279003</td>\n",
       "      <td>0.042356</td>\n",
       "      <td>2</td>\n",
       "      <td>104</td>\n",
       "    </tr>\n",
       "    <tr>\n",
       "      <th>440585</th>\n",
       "      <td>2020-09-22</td>\n",
       "      <td>18421175435799911749</td>\n",
       "      <td>863583001</td>\n",
       "      <td>0.033881</td>\n",
       "      <td>2</td>\n",
       "      <td>104</td>\n",
       "    </tr>\n",
       "    <tr>\n",
       "      <th>440586</th>\n",
       "      <td>2020-09-22</td>\n",
       "      <td>18422784312842572958</td>\n",
       "      <td>639448011</td>\n",
       "      <td>0.050831</td>\n",
       "      <td>1</td>\n",
       "      <td>104</td>\n",
       "    </tr>\n",
       "    <tr>\n",
       "      <th>440587</th>\n",
       "      <td>2020-09-22</td>\n",
       "      <td>18438270306572912089</td>\n",
       "      <td>751471043</td>\n",
       "      <td>0.033881</td>\n",
       "      <td>1</td>\n",
       "      <td>104</td>\n",
       "    </tr>\n",
       "  </tbody>\n",
       "</table>\n",
       "<p>440588 rows × 6 columns</p>\n",
       "</div>"
      ],
      "text/plain": [
       "            t_dat           customer_id  article_id     price  \\\n",
       "0      2018-09-20      1728846800780188   519773001  0.028458   \n",
       "1      2018-09-20      2076973761519164   661795002  0.167797   \n",
       "2      2018-09-20      2918879973994241   662980001  0.033881   \n",
       "3      2018-09-20      4233235614030232   568836006  0.023712   \n",
       "4      2018-09-20      7002608101212285   636722002  0.033881   \n",
       "...           ...                   ...         ...       ...   \n",
       "440583 2020-09-22  18417769707947924979   729860001  0.022017   \n",
       "440584 2020-09-22  18418054986721795659   873279003  0.042356   \n",
       "440585 2020-09-22  18421175435799911749   863583001  0.033881   \n",
       "440586 2020-09-22  18422784312842572958   639448011  0.050831   \n",
       "440587 2020-09-22  18438270306572912089   751471043  0.033881   \n",
       "\n",
       "        sales_channel_id  week  \n",
       "0                      2     0  \n",
       "1                      2     0  \n",
       "2                      1     0  \n",
       "3                      2     0  \n",
       "4                      2     0  \n",
       "...                  ...   ...  \n",
       "440583                 2   104  \n",
       "440584                 2   104  \n",
       "440585                 2   104  \n",
       "440586                 1   104  \n",
       "440587                 1   104  \n",
       "\n",
       "[440588 rows x 6 columns]"
      ]
     },
     "execution_count": 14,
     "metadata": {},
     "output_type": "execute_result"
    }
   ],
   "source": [
    "#test set about transactions\n",
    "test_set_transactions = filtered_transactions.drop_duplicates('customer_id')\n",
    "test_set_transactions.reset_index(drop = True, inplace = True)\n",
    "test_set_transactions"
   ]
  },
  {
   "cell_type": "code",
   "execution_count": 15,
   "id": "7e2dbb7a",
   "metadata": {
    "execution": {
     "iopub.execute_input": "2023-11-20T15:14:26.376146Z",
     "iopub.status.busy": "2023-11-20T15:14:26.375537Z",
     "iopub.status.idle": "2023-11-20T15:14:27.520360Z",
     "shell.execute_reply": "2023-11-20T15:14:27.518959Z"
    },
    "papermill": {
     "duration": 1.191222,
     "end_time": "2023-11-20T15:14:27.522766",
     "exception": false,
     "start_time": "2023-11-20T15:14:26.331544",
     "status": "completed"
    },
    "tags": []
   },
   "outputs": [],
   "source": [
    "#bestsellers for septembers\n",
    "mean_price = filtered_transactions \\\n",
    "    .groupby(['week', 'article_id'])['price'].mean()\n",
    "\n",
    "sales = filtered_transactions \\\n",
    "    .groupby('week')['article_id'].value_counts() \\\n",
    "    .groupby('week').rank(method='dense', ascending=False) \\\n",
    "    .groupby('week').head(12).rename('bestseller_rank').astype('int8')\n",
    "\n",
    "bestsellers_september = pd.merge(sales, mean_price, on=['week', 'article_id']).reset_index()"
   ]
  },
  {
   "cell_type": "markdown",
   "id": "b6b956f2",
   "metadata": {
    "papermill": {
     "duration": 0.039003,
     "end_time": "2023-11-20T15:14:27.602372",
     "exception": false,
     "start_time": "2023-11-20T15:14:27.563369",
     "status": "completed"
    },
    "tags": []
   },
   "source": [
    "# Combining transactions and candidates / negative examples"
   ]
  },
  {
   "cell_type": "code",
   "execution_count": 16,
   "id": "09b5037b",
   "metadata": {
    "execution": {
     "iopub.execute_input": "2023-11-20T15:14:27.683180Z",
     "iopub.status.busy": "2023-11-20T15:14:27.682590Z",
     "iopub.status.idle": "2023-11-20T15:14:27.692327Z",
     "shell.execute_reply": "2023-11-20T15:14:27.691429Z"
    },
    "papermill": {
     "duration": 0.052612,
     "end_time": "2023-11-20T15:14:27.694458",
     "exception": false,
     "start_time": "2023-11-20T15:14:27.641846",
     "status": "completed"
    },
    "tags": []
   },
   "outputs": [
    {
     "name": "stderr",
     "output_type": "stream",
     "text": [
      "/opt/conda/lib/python3.7/site-packages/pandas/core/indexing.py:1667: SettingWithCopyWarning: \n",
      "A value is trying to be set on a copy of a slice from a DataFrame.\n",
      "Try using .loc[row_indexer,col_indexer] = value instead\n",
      "\n",
      "See the caveats in the documentation: https://pandas.pydata.org/pandas-docs/stable/user_guide/indexing.html#returning-a-view-versus-a-copy\n",
      "  self.obj[key] = value\n"
     ]
    }
   ],
   "source": [
    "filtered_transactions.loc[:, 'purchased'] = 1"
   ]
  },
  {
   "cell_type": "code",
   "execution_count": 17,
   "id": "de82c2b6",
   "metadata": {
    "execution": {
     "iopub.execute_input": "2023-11-20T15:14:27.775698Z",
     "iopub.status.busy": "2023-11-20T15:14:27.775391Z",
     "iopub.status.idle": "2023-11-20T15:14:57.564746Z",
     "shell.execute_reply": "2023-11-20T15:14:57.563818Z"
    },
    "papermill": {
     "duration": 29.833267,
     "end_time": "2023-11-20T15:14:57.567382",
     "exception": false,
     "start_time": "2023-11-20T15:14:27.734115",
     "status": "completed"
    },
    "tags": []
   },
   "outputs": [],
   "source": [
    "data = pd.concat([filtered_transactions, candidates_last_purchase_september])\n",
    "data = pd.merge(data, bestsellers_september[['article_id', 'bestseller_rank']], on = 'article_id', how = 'left')\n",
    "data.fillna(0, inplace = True)"
   ]
  },
  {
   "cell_type": "code",
   "execution_count": 18,
   "id": "217516b9",
   "metadata": {
    "execution": {
     "iopub.execute_input": "2023-11-20T15:14:57.649065Z",
     "iopub.status.busy": "2023-11-20T15:14:57.648742Z",
     "iopub.status.idle": "2023-11-20T15:14:58.997803Z",
     "shell.execute_reply": "2023-11-20T15:14:58.996834Z"
    },
    "papermill": {
     "duration": 1.392728,
     "end_time": "2023-11-20T15:14:59.000455",
     "exception": false,
     "start_time": "2023-11-20T15:14:57.607727",
     "status": "completed"
    },
    "tags": []
   },
   "outputs": [],
   "source": [
    "#adding candidates info\n",
    "data = pd.merge(data, candidates_definitive[['customer_id', 'mean price purchases', 'most_present_gender_in_area', 'median_age_area']], on = 'customer_id', how = 'left')"
   ]
  },
  {
   "cell_type": "code",
   "execution_count": 19,
   "id": "b48bc6bf",
   "metadata": {
    "execution": {
     "iopub.execute_input": "2023-11-20T15:14:59.083057Z",
     "iopub.status.busy": "2023-11-20T15:14:59.082585Z",
     "iopub.status.idle": "2023-11-20T15:15:07.856701Z",
     "shell.execute_reply": "2023-11-20T15:15:07.855974Z"
    },
    "papermill": {
     "duration": 8.819035,
     "end_time": "2023-11-20T15:15:07.859015",
     "exception": false,
     "start_time": "2023-11-20T15:14:59.039980",
     "status": "completed"
    },
    "tags": []
   },
   "outputs": [],
   "source": [
    "#adding initial datasets to my new dataset\n",
    "data = pd.merge(data, articles, on = 'article_id', how = 'left')\n",
    "data = pd.merge(data, customers, on = 'customer_id', how = 'left')"
   ]
  },
  {
   "cell_type": "code",
   "execution_count": 20,
   "id": "ad54038e",
   "metadata": {
    "execution": {
     "iopub.execute_input": "2023-11-20T15:15:07.941055Z",
     "iopub.status.busy": "2023-11-20T15:15:07.939987Z",
     "iopub.status.idle": "2023-11-20T15:15:10.267687Z",
     "shell.execute_reply": "2023-11-20T15:15:10.266634Z"
    },
    "papermill": {
     "duration": 2.372104,
     "end_time": "2023-11-20T15:15:10.270631",
     "exception": false,
     "start_time": "2023-11-20T15:15:07.898527",
     "status": "completed"
    },
    "tags": []
   },
   "outputs": [],
   "source": [
    "data.sort_values(['week', 'customer_id'], inplace=True)\n",
    "data.reset_index(drop=True, inplace=True)"
   ]
  },
  {
   "cell_type": "code",
   "execution_count": 21,
   "id": "09725e61",
   "metadata": {
    "execution": {
     "iopub.execute_input": "2023-11-20T15:15:10.353888Z",
     "iopub.status.busy": "2023-11-20T15:15:10.352983Z",
     "iopub.status.idle": "2023-11-20T15:15:12.369421Z",
     "shell.execute_reply": "2023-11-20T15:15:12.368759Z"
    },
    "papermill": {
     "duration": 2.059749,
     "end_time": "2023-11-20T15:15:12.371612",
     "exception": false,
     "start_time": "2023-11-20T15:15:10.311863",
     "status": "completed"
    },
    "tags": []
   },
   "outputs": [],
   "source": [
    "train = data[data.week != test_week]\n",
    "test = data[data.week==test_week].drop_duplicates(['customer_id', 'article_id', 'sales_channel_id']).copy()"
   ]
  },
  {
   "cell_type": "code",
   "execution_count": 22,
   "id": "6dafc978",
   "metadata": {
    "execution": {
     "iopub.execute_input": "2023-11-20T15:15:12.452721Z",
     "iopub.status.busy": "2023-11-20T15:15:12.452230Z",
     "iopub.status.idle": "2023-11-20T15:15:12.899095Z",
     "shell.execute_reply": "2023-11-20T15:15:12.898414Z"
    },
    "papermill": {
     "duration": 0.490256,
     "end_time": "2023-11-20T15:15:12.901394",
     "exception": false,
     "start_time": "2023-11-20T15:15:12.411138",
     "status": "completed"
    },
    "tags": []
   },
   "outputs": [],
   "source": [
    "train_baskets = train.groupby(['week', 'customer_id'])['article_id'].count().values"
   ]
  },
  {
   "cell_type": "code",
   "execution_count": 23,
   "id": "30136d52",
   "metadata": {
    "execution": {
     "iopub.execute_input": "2023-11-20T15:15:12.983397Z",
     "iopub.status.busy": "2023-11-20T15:15:12.983074Z",
     "iopub.status.idle": "2023-11-20T15:15:12.987783Z",
     "shell.execute_reply": "2023-11-20T15:15:12.986955Z"
    },
    "papermill": {
     "duration": 0.047995,
     "end_time": "2023-11-20T15:15:12.989772",
     "exception": false,
     "start_time": "2023-11-20T15:15:12.941777",
     "status": "completed"
    },
    "tags": []
   },
   "outputs": [],
   "source": [
    "columns_to_use = ['article_id', 'product_type_no', 'graphical_appearance_no', 'colour_group_code', 'perceived_colour_value_id',\n",
    "'perceived_colour_master_id', 'department_no', 'index_code', 'index_group_no', 'section_no', 'garment_group_no', 'FN', 'Active',\n",
    "'club_member_status', 'fashion_news_frequency', 'bestseller_rank', 'mean price purchases', 'most_present_gender_in_area', 'median_age_area']"
   ]
  },
  {
   "cell_type": "code",
   "execution_count": 24,
   "id": "88be64c0",
   "metadata": {
    "execution": {
     "iopub.execute_input": "2023-11-20T15:15:13.070142Z",
     "iopub.status.busy": "2023-11-20T15:15:13.069830Z",
     "iopub.status.idle": "2023-11-20T15:15:13.224889Z",
     "shell.execute_reply": "2023-11-20T15:15:13.224068Z"
    },
    "papermill": {
     "duration": 0.197983,
     "end_time": "2023-11-20T15:15:13.227096",
     "exception": false,
     "start_time": "2023-11-20T15:15:13.029113",
     "status": "completed"
    },
    "tags": []
   },
   "outputs": [
    {
     "name": "stdout",
     "output_type": "stream",
     "text": [
      "CPU times: user 106 ms, sys: 45 ms, total: 151 ms\n",
      "Wall time: 150 ms\n"
     ]
    }
   ],
   "source": [
    "%%time\n",
    "\n",
    "train_X = train[columns_to_use]\n",
    "train_y = train['purchased']\n",
    "\n",
    "test_X = test[columns_to_use]"
   ]
  },
  {
   "cell_type": "markdown",
   "id": "44ebd008",
   "metadata": {
    "papermill": {
     "duration": 0.039443,
     "end_time": "2023-11-20T15:15:13.306134",
     "exception": false,
     "start_time": "2023-11-20T15:15:13.266691",
     "status": "completed"
    },
    "tags": []
   },
   "source": [
    "# Model training"
   ]
  },
  {
   "cell_type": "code",
   "execution_count": 25,
   "id": "3a65ffd6",
   "metadata": {
    "execution": {
     "iopub.execute_input": "2023-11-20T15:15:13.387592Z",
     "iopub.status.busy": "2023-11-20T15:15:13.386996Z",
     "iopub.status.idle": "2023-11-20T15:15:14.382596Z",
     "shell.execute_reply": "2023-11-20T15:15:14.381775Z"
    },
    "papermill": {
     "duration": 1.039396,
     "end_time": "2023-11-20T15:15:14.385007",
     "exception": false,
     "start_time": "2023-11-20T15:15:13.345611",
     "status": "completed"
    },
    "tags": []
   },
   "outputs": [
    {
     "data": {
      "text/html": [
       "<style type='text/css'>\n",
       ".datatable table.frame { margin-bottom: 0; }\n",
       ".datatable table.frame thead { border-bottom: none; }\n",
       ".datatable table.frame tr.coltypes td {  color: #FFFFFF;  line-height: 6px;  padding: 0 0.5em;}\n",
       ".datatable .bool    { background: #DDDD99; }\n",
       ".datatable .object  { background: #565656; }\n",
       ".datatable .int     { background: #5D9E5D; }\n",
       ".datatable .float   { background: #4040CC; }\n",
       ".datatable .str     { background: #CC4040; }\n",
       ".datatable .time    { background: #40CC40; }\n",
       ".datatable .row_index {  background: var(--jp-border-color3);  border-right: 1px solid var(--jp-border-color0);  color: var(--jp-ui-font-color3);  font-size: 9px;}\n",
       ".datatable .frame tbody td { text-align: left; }\n",
       ".datatable .frame tr.coltypes .row_index {  background: var(--jp-border-color0);}\n",
       ".datatable th:nth-child(2) { padding-left: 12px; }\n",
       ".datatable .hellipsis {  color: var(--jp-cell-editor-border-color);}\n",
       ".datatable .vellipsis {  background: var(--jp-layout-color0);  color: var(--jp-cell-editor-border-color);}\n",
       ".datatable .na {  color: var(--jp-cell-editor-border-color);  font-size: 80%;}\n",
       ".datatable .sp {  opacity: 0.25;}\n",
       ".datatable .footer { font-size: 9px; }\n",
       ".datatable .frame_dimensions {  background: var(--jp-border-color3);  border-top: 1px solid var(--jp-border-color0);  color: var(--jp-ui-font-color3);  display: inline-block;  opacity: 0.6;  padding: 1px 10px 1px 5px;}\n",
       "</style>\n"
      ],
      "text/plain": [
       "<IPython.core.display.HTML object>"
      ]
     },
     "metadata": {},
     "output_type": "display_data"
    }
   ],
   "source": [
    "from lightgbm.sklearn import LGBMRanker"
   ]
  },
  {
   "cell_type": "code",
   "execution_count": 26,
   "id": "3ebfa9ac",
   "metadata": {
    "execution": {
     "iopub.execute_input": "2023-11-20T15:15:14.467969Z",
     "iopub.status.busy": "2023-11-20T15:15:14.467184Z",
     "iopub.status.idle": "2023-11-20T15:15:14.471333Z",
     "shell.execute_reply": "2023-11-20T15:15:14.470713Z"
    },
    "papermill": {
     "duration": 0.047641,
     "end_time": "2023-11-20T15:15:14.473166",
     "exception": false,
     "start_time": "2023-11-20T15:15:14.425525",
     "status": "completed"
    },
    "tags": []
   },
   "outputs": [],
   "source": [
    "ranker = LGBMRanker(\n",
    "    objective=\"lambdarank\",\n",
    "    metric=\"ndcg\",\n",
    "    boosting_type=\"dart\",\n",
    "    n_estimators=1,\n",
    "    importance_type='gain',\n",
    "    verbose=10\n",
    ")"
   ]
  },
  {
   "cell_type": "code",
   "execution_count": 27,
   "id": "33467dc4",
   "metadata": {
    "execution": {
     "iopub.execute_input": "2023-11-20T15:15:14.556384Z",
     "iopub.status.busy": "2023-11-20T15:15:14.555598Z",
     "iopub.status.idle": "2023-11-20T15:15:18.228215Z",
     "shell.execute_reply": "2023-11-20T15:15:18.227036Z"
    },
    "papermill": {
     "duration": 3.716826,
     "end_time": "2023-11-20T15:15:18.230644",
     "exception": false,
     "start_time": "2023-11-20T15:15:14.513818",
     "status": "completed"
    },
    "tags": []
   },
   "outputs": [
    {
     "name": "stdout",
     "output_type": "stream",
     "text": [
      "[LightGBM] [Warning] Found whitespace in feature_names, replace with underlines\n",
      "[LightGBM] [Debug] Dataset::GetMultiBinFromSparseFeatures: sparse rate 0.945005\n",
      "[LightGBM] [Debug] Dataset::GetMultiBinFromAllFeatures: sparse rate 0.173077\n",
      "[LightGBM] [Debug] init for col-wise cost 0.063092 seconds, init for row-wise cost 0.455166 seconds\n",
      "[LightGBM] [Warning] Auto-choosing row-wise multi-threading, the overhead of testing was 0.251513 seconds.\n",
      "You can set `force_row_wise=true` to remove the overhead.\n",
      "And if memory is not enough, you can set `force_col_wise=true`.\n",
      "[LightGBM] [Debug] Using Dense Multi-Val Bin\n",
      "[LightGBM] [Info] Total Bins 1117\n",
      "[LightGBM] [Info] Number of data points in the train set: 3830486, number of used features: 19\n",
      "[LightGBM] [Debug] Trained a tree with leaves = 31 and depth = 8\n",
      "CPU times: user 10.2 s, sys: 574 ms, total: 10.8 s\n",
      "Wall time: 3.67 s\n"
     ]
    }
   ],
   "source": [
    "%%time\n",
    "\n",
    "ranker = ranker.fit(\n",
    "    train_X,\n",
    "    train_y,\n",
    "    group=train_baskets,\n",
    ")"
   ]
  },
  {
   "cell_type": "code",
   "execution_count": 28,
   "id": "7d86b2a8",
   "metadata": {
    "execution": {
     "iopub.execute_input": "2023-11-20T15:15:18.316896Z",
     "iopub.status.busy": "2023-11-20T15:15:18.316178Z",
     "iopub.status.idle": "2023-11-20T15:15:18.329100Z",
     "shell.execute_reply": "2023-11-20T15:15:18.328201Z"
    },
    "papermill": {
     "duration": 0.058457,
     "end_time": "2023-11-20T15:15:18.331244",
     "exception": false,
     "start_time": "2023-11-20T15:15:18.272787",
     "status": "completed"
    },
    "tags": []
   },
   "outputs": [
    {
     "name": "stdout",
     "output_type": "stream",
     "text": [
      "article_id 0.9055082782213165\n",
      "department_no 0.03335564633738892\n",
      "garment_group_no 0.017094880718728847\n",
      "section_no 0.012441230938512187\n",
      "index_code 0.010694182955027515\n",
      "product_type_no 0.007430265790560317\n",
      "bestseller_rank 0.005947997265337346\n",
      "index_group_no 0.004592147393195083\n",
      "mean price purchases 0.0029353703799333175\n",
      "fashion_news_frequency 0.0\n",
      "club_member_status 0.0\n",
      "Active 0.0\n",
      "FN 0.0\n",
      "most_present_gender_in_area 0.0\n",
      "perceived_colour_master_id 0.0\n",
      "perceived_colour_value_id 0.0\n",
      "colour_group_code 0.0\n",
      "graphical_appearance_no 0.0\n",
      "median_age_area 0.0\n"
     ]
    }
   ],
   "source": [
    "for i in ranker.feature_importances_.argsort()[::-1]:\n",
    "    print(columns_to_use[i], ranker.feature_importances_[i]/ranker.feature_importances_.sum())"
   ]
  },
  {
   "cell_type": "markdown",
   "id": "392bd3d3",
   "metadata": {
    "papermill": {
     "duration": 0.042556,
     "end_time": "2023-11-20T15:15:18.416525",
     "exception": false,
     "start_time": "2023-11-20T15:15:18.373969",
     "status": "completed"
    },
    "tags": []
   },
   "source": [
    "# Calculate predictions"
   ]
  },
  {
   "cell_type": "code",
   "execution_count": 29,
   "id": "a168f338",
   "metadata": {
    "execution": {
     "iopub.execute_input": "2023-11-20T15:15:18.503367Z",
     "iopub.status.busy": "2023-11-20T15:15:18.502675Z",
     "iopub.status.idle": "2023-11-20T15:15:28.592364Z",
     "shell.execute_reply": "2023-11-20T15:15:28.591656Z"
    },
    "papermill": {
     "duration": 10.136007,
     "end_time": "2023-11-20T15:15:28.594812",
     "exception": false,
     "start_time": "2023-11-20T15:15:18.458805",
     "status": "completed"
    },
    "tags": []
   },
   "outputs": [
    {
     "name": "stdout",
     "output_type": "stream",
     "text": [
      "CPU times: user 5 µs, sys: 1 µs, total: 6 µs\n",
      "Wall time: 8.82 µs\n"
     ]
    }
   ],
   "source": [
    "%time\n",
    "\n",
    "test['preds'] = ranker.predict(test_X)\n",
    "\n",
    "c_id2predicted_article_ids = test \\\n",
    "    .sort_values(['customer_id', 'preds'], ascending=False) \\\n",
    "    .groupby('customer_id')['article_id'].apply(list).to_dict()\n",
    "\n",
    "bestsellers_september_all = \\\n",
    "    bestsellers_september[bestsellers_september.week == bestsellers_september.week.max()]['article_id'].tolist()"
   ]
  },
  {
   "cell_type": "markdown",
   "id": "9eba6e32",
   "metadata": {
    "papermill": {
     "duration": 0.042491,
     "end_time": "2023-11-20T15:15:28.679715",
     "exception": false,
     "start_time": "2023-11-20T15:15:28.637224",
     "status": "completed"
    },
    "tags": []
   },
   "source": [
    "# Create submission"
   ]
  },
  {
   "cell_type": "code",
   "execution_count": 30,
   "id": "3d042e51",
   "metadata": {
    "execution": {
     "iopub.execute_input": "2023-11-20T15:15:28.766369Z",
     "iopub.status.busy": "2023-11-20T15:15:28.765714Z",
     "iopub.status.idle": "2023-11-20T15:15:34.162535Z",
     "shell.execute_reply": "2023-11-20T15:15:34.161525Z"
    },
    "papermill": {
     "duration": 5.44309,
     "end_time": "2023-11-20T15:15:34.165084",
     "exception": false,
     "start_time": "2023-11-20T15:15:28.721994",
     "status": "completed"
    },
    "tags": []
   },
   "outputs": [],
   "source": [
    "sub = pd.read_csv('/kaggle/input/h-and-m-personalized-fashion-recommendations/sample_submission.csv')"
   ]
  },
  {
   "cell_type": "code",
   "execution_count": 31,
   "id": "0aa0c2e3",
   "metadata": {
    "execution": {
     "iopub.execute_input": "2023-11-20T15:15:34.253061Z",
     "iopub.status.busy": "2023-11-20T15:15:34.252765Z",
     "iopub.status.idle": "2023-11-20T15:15:40.030070Z",
     "shell.execute_reply": "2023-11-20T15:15:40.029116Z"
    },
    "papermill": {
     "duration": 5.823781,
     "end_time": "2023-11-20T15:15:40.032530",
     "exception": false,
     "start_time": "2023-11-20T15:15:34.208749",
     "status": "completed"
    },
    "tags": []
   },
   "outputs": [
    {
     "name": "stdout",
     "output_type": "stream",
     "text": [
      "CPU times: user 5.53 s, sys: 238 ms, total: 5.77 s\n",
      "Wall time: 5.77 s\n"
     ]
    }
   ],
   "source": [
    "%%time\n",
    "preds = []\n",
    "for c_id in customer_hex_id_to_int(sub.customer_id):\n",
    "    pred = c_id2predicted_article_ids.get(c_id, [])\n",
    "    pred = pred + bestsellers_september_all\n",
    "    preds.append(pred[:12])"
   ]
  },
  {
   "cell_type": "code",
   "execution_count": 32,
   "id": "122f4d9d",
   "metadata": {
    "execution": {
     "iopub.execute_input": "2023-11-20T15:15:40.125288Z",
     "iopub.status.busy": "2023-11-20T15:15:40.124962Z",
     "iopub.status.idle": "2023-11-20T15:15:46.230552Z",
     "shell.execute_reply": "2023-11-20T15:15:46.229692Z"
    },
    "papermill": {
     "duration": 6.154517,
     "end_time": "2023-11-20T15:15:46.233058",
     "exception": false,
     "start_time": "2023-11-20T15:15:40.078541",
     "status": "completed"
    },
    "tags": []
   },
   "outputs": [],
   "source": [
    "preds = [' '.join(['0' + str(p) for p in ps]) for ps in preds]\n",
    "sub.prediction = preds"
   ]
  },
  {
   "cell_type": "code",
   "execution_count": 33,
   "id": "d6709c81",
   "metadata": {
    "execution": {
     "iopub.execute_input": "2023-11-20T15:15:46.320845Z",
     "iopub.status.busy": "2023-11-20T15:15:46.320550Z",
     "iopub.status.idle": "2023-11-20T15:15:53.737140Z",
     "shell.execute_reply": "2023-11-20T15:15:53.736437Z"
    },
    "papermill": {
     "duration": 7.463299,
     "end_time": "2023-11-20T15:15:53.739529",
     "exception": false,
     "start_time": "2023-11-20T15:15:46.276230",
     "status": "completed"
    },
    "tags": []
   },
   "outputs": [],
   "source": [
    "sub_name = 'submission'\n",
    "sub.to_csv(f'{sub_name}.csv', index=False)"
   ]
  }
 ],
 "metadata": {
  "kaggle": {
   "accelerator": "none",
   "dataSources": [
    {
     "databundleVersionId": 3103714,
     "sourceId": 31254,
     "sourceType": "competition"
    },
    {
     "datasetId": 3840849,
     "sourceId": 6655455,
     "sourceType": "datasetVersion"
    },
    {
     "datasetId": 3967857,
     "sourceId": 6908916,
     "sourceType": "datasetVersion"
    },
    {
     "sourceId": 93163345,
     "sourceType": "kernelVersion"
    }
   ],
   "dockerImageVersionId": 30178,
   "isGpuEnabled": false,
   "isInternetEnabled": true,
   "language": "python",
   "sourceType": "notebook"
  },
  "kernelspec": {
   "display_name": "Python 3",
   "language": "python",
   "name": "python3"
  },
  "language_info": {
   "codemirror_mode": {
    "name": "ipython",
    "version": 3
   },
   "file_extension": ".py",
   "mimetype": "text/x-python",
   "name": "python",
   "nbconvert_exporter": "python",
   "pygments_lexer": "ipython3",
   "version": "3.7.12"
  },
  "papermill": {
   "default_parameters": {},
   "duration": 147.298748,
   "end_time": "2023-11-20T15:15:55.107759",
   "environment_variables": {},
   "exception": null,
   "input_path": "__notebook__.ipynb",
   "output_path": "__notebook__.ipynb",
   "parameters": {},
   "start_time": "2023-11-20T15:13:27.809011",
   "version": "2.3.4"
  }
 },
 "nbformat": 4,
 "nbformat_minor": 5
}
