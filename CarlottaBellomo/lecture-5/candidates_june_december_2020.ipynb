{
 "cells": [
  {
   "cell_type": "markdown",
   "id": "f3ac6755",
   "metadata": {
    "papermill": {
     "duration": 0.047691,
     "end_time": "2023-11-21T09:20:55.318502",
     "exception": false,
     "start_time": "2023-11-21T09:20:55.270811",
     "status": "completed"
    },
    "tags": []
   },
   "source": [
    "Radek posted about this [here](https://www.kaggle.com/competitions/h-and-m-personalized-fashion-recommendations/discussion/309220), and linked to a GitHub repo with the code.\n",
    "\n",
    "I just transferred that code here to Kaggle notebooks, that's all."
   ]
  },
  {
   "cell_type": "code",
   "execution_count": 1,
   "id": "725c7f5b",
   "metadata": {
    "execution": {
     "iopub.execute_input": "2023-11-21T09:20:55.413752Z",
     "iopub.status.busy": "2023-11-21T09:20:55.412974Z",
     "iopub.status.idle": "2023-11-21T09:20:55.431703Z",
     "shell.execute_reply": "2023-11-21T09:20:55.431090Z"
    },
    "papermill": {
     "duration": 0.06898,
     "end_time": "2023-11-21T09:20:55.433877",
     "exception": false,
     "start_time": "2023-11-21T09:20:55.364897",
     "status": "completed"
    },
    "tags": []
   },
   "outputs": [],
   "source": [
    "import numpy as np\n",
    "\n",
    "def apk(actual, predicted, k=10):\n",
    "    \"\"\"\n",
    "    Computes the average precision at k.\n",
    "\n",
    "    This function computes the average prescision at k between two lists of\n",
    "    items.\n",
    "\n",
    "    Parameters\n",
    "    ----------\n",
    "    actual : list\n",
    "             A list of elements that are to be predicted (order doesn't matter)\n",
    "    predicted : list\n",
    "                A list of predicted elements (order does matter)\n",
    "    k : int, optional\n",
    "        The maximum number of predicted elements\n",
    "\n",
    "    Returns\n",
    "    -------\n",
    "    score : double\n",
    "            The average precision at k over the input lists\n",
    "\n",
    "    \"\"\"\n",
    "    if len(predicted)>k:\n",
    "        predicted = predicted[:k]\n",
    "\n",
    "    score = 0.0\n",
    "    num_hits = 0.0\n",
    "\n",
    "    for i,p in enumerate(predicted):\n",
    "        if p in actual and p not in predicted[:i]:\n",
    "            num_hits += 1.0\n",
    "            score += num_hits / (i+1.0)\n",
    "\n",
    "    if not actual:\n",
    "        return 0.0\n",
    "\n",
    "    return score / min(len(actual), k)\n",
    "\n",
    "def mapk(actual, predicted, k=10):\n",
    "    \"\"\"\n",
    "    Computes the mean average precision at k.\n",
    "\n",
    "    This function computes the mean average prescision at k between two lists\n",
    "    of lists of items.\n",
    "\n",
    "    Parameters\n",
    "    ----------\n",
    "    actual : list\n",
    "             A list of lists of elements that are to be predicted \n",
    "             (order doesn't matter in the lists)\n",
    "    predicted : list\n",
    "                A list of lists of predicted elements\n",
    "                (order matters in the lists)\n",
    "    k : int, optional\n",
    "        The maximum number of predicted elements\n",
    "\n",
    "    Returns\n",
    "    -------\n",
    "    score : double\n",
    "            The mean average precision at k over the input lists\n",
    "\n",
    "    \"\"\"\n",
    "    return np.mean([apk(a,p,k) for a,p in zip(actual, predicted)])"
   ]
  },
  {
   "cell_type": "code",
   "execution_count": 2,
   "id": "c992ea3b",
   "metadata": {
    "execution": {
     "iopub.execute_input": "2023-11-21T09:20:55.527919Z",
     "iopub.status.busy": "2023-11-21T09:20:55.527348Z",
     "iopub.status.idle": "2023-11-21T09:20:56.485195Z",
     "shell.execute_reply": "2023-11-21T09:20:56.484204Z"
    },
    "papermill": {
     "duration": 1.008447,
     "end_time": "2023-11-21T09:20:56.488424",
     "exception": false,
     "start_time": "2023-11-21T09:20:55.479977",
     "status": "completed"
    },
    "tags": []
   },
   "outputs": [],
   "source": [
    "from sklearn.base import BaseEstimator, TransformerMixin\n",
    "import numpy as np\n",
    "\n",
    "# https://www.kaggle.com/c/h-and-m-personalized-fashion-recommendations/discussion/308635\n",
    "def customer_hex_id_to_int(series):\n",
    "    return series.str[-16:].apply(hex_id_to_int)\n",
    "\n",
    "def hex_id_to_int(str):\n",
    "    return int(str[-16:], 16)\n",
    "\n",
    "def article_id_str_to_int(series):\n",
    "    return series.astype('int32')\n",
    "\n",
    "def article_id_int_to_str(series):\n",
    "    return '0' + series.astype('str')\n",
    "\n",
    "class Categorize(BaseEstimator, TransformerMixin):\n",
    "    def __init__(self, min_examples=0):\n",
    "        self.min_examples = min_examples\n",
    "        self.categories = []\n",
    "        \n",
    "    def fit(self, X):\n",
    "        for i in range(X.shape[1]):\n",
    "            vc = X.iloc[:, i].value_counts()\n",
    "            self.categories.append(vc[vc > self.min_examples].index.tolist())\n",
    "        return self\n",
    "\n",
    "    def transform(self, X):\n",
    "        data = {X.columns[i]: pd.Categorical(X.iloc[:, i], categories=self.categories[i]).codes for i in range(X.shape[1])}\n",
    "        return pd.DataFrame(data=data)\n",
    "\n",
    "\n",
    "def calculate_apk(list_of_preds, list_of_gts):\n",
    "    # for fast validation this can be changed to operate on dicts of {'cust_id_int': [art_id_int, ...]}\n",
    "    # using 'data/val_week_purchases_by_cust.pkl'\n",
    "    apks = []\n",
    "    for preds, gt in zip(list_of_preds, list_of_gts):\n",
    "        apks.append(apk(gt, preds, k=12))\n",
    "    return np.mean(apks)\n",
    "\n",
    "def eval_sub(sub_csv, skip_cust_with_no_purchases=True):\n",
    "    sub=pd.read_csv(sub_csv)\n",
    "    validation_set=pd.read_parquet('data/validation_ground_truth.parquet')\n",
    "\n",
    "    apks = []\n",
    "\n",
    "    no_purchases_pattern = []\n",
    "    for pred, gt in zip(sub.prediction.str.split(), validation_set.prediction.str.split()):\n",
    "        if skip_cust_with_no_purchases and (gt == no_purchases_pattern): continue\n",
    "        apks.append(apk(gt, pred, k=12))\n",
    "    return np.mean(apks)"
   ]
  },
  {
   "cell_type": "code",
   "execution_count": 3,
   "id": "cdfccf08",
   "metadata": {
    "execution": {
     "iopub.execute_input": "2023-11-21T09:20:56.585818Z",
     "iopub.status.busy": "2023-11-21T09:20:56.585463Z",
     "iopub.status.idle": "2023-11-21T09:20:56.589609Z",
     "shell.execute_reply": "2023-11-21T09:20:56.588758Z"
    },
    "papermill": {
     "duration": 0.0546,
     "end_time": "2023-11-21T09:20:56.591831",
     "exception": false,
     "start_time": "2023-11-21T09:20:56.537231",
     "status": "completed"
    },
    "tags": []
   },
   "outputs": [],
   "source": [
    "import pandas as pd"
   ]
  },
  {
   "cell_type": "code",
   "execution_count": 4,
   "id": "42638598",
   "metadata": {
    "execution": {
     "iopub.execute_input": "2023-11-21T09:20:56.687439Z",
     "iopub.status.busy": "2023-11-21T09:20:56.687121Z",
     "iopub.status.idle": "2023-11-21T09:21:03.823212Z",
     "shell.execute_reply": "2023-11-21T09:21:03.822516Z"
    },
    "papermill": {
     "duration": 7.186999,
     "end_time": "2023-11-21T09:21:03.825542",
     "exception": false,
     "start_time": "2023-11-21T09:20:56.638543",
     "status": "completed"
    },
    "tags": []
   },
   "outputs": [
    {
     "name": "stdout",
     "output_type": "stream",
     "text": [
      "CPU times: user 2.19 s, sys: 2.34 s, total: 4.53 s\n",
      "Wall time: 7.13 s\n"
     ]
    }
   ],
   "source": [
    "%%time\n",
    "\n",
    "transactions = pd.read_parquet('../input/warmup/transactions_train.parquet')\n",
    "customers = pd.read_parquet('../input/parquet-new-assignement/new_customer_one.parquet')\n",
    "articles = pd.read_parquet('../input/parquet-new-assignement/new_articles_one.parquet')\n",
    "\n",
    "# sample = 0.05\n",
    "# transactions = pd.read_parquet(f'data/transactions_train_sample_{sample}.parquet')\n",
    "# customers = pd.read_parquet(f'data/customers_sample_{sample}.parquet')\n",
    "# articles = pd.read_parquet(f'data/articles_train_sample_{sample}.parquet')"
   ]
  },
  {
   "cell_type": "code",
   "execution_count": 5,
   "id": "4d5e14a4",
   "metadata": {
    "execution": {
     "iopub.execute_input": "2023-11-21T09:21:03.924381Z",
     "iopub.status.busy": "2023-11-21T09:21:03.923840Z",
     "iopub.status.idle": "2023-11-21T09:21:05.959119Z",
     "shell.execute_reply": "2023-11-21T09:21:05.958392Z"
    },
    "papermill": {
     "duration": 2.08668,
     "end_time": "2023-11-21T09:21:05.961710",
     "exception": false,
     "start_time": "2023-11-21T09:21:03.875030",
     "status": "completed"
    },
    "tags": []
   },
   "outputs": [],
   "source": [
    "#adding of the column week to the dataframe transactions\n",
    "transactions.t_dat = pd.to_datetime(transactions.t_dat, format='%Y-%m-%d')\n",
    "transactions['week'] = 104 - (transactions.t_dat.max() - transactions.t_dat).dt.days // 7"
   ]
  },
  {
   "cell_type": "code",
   "execution_count": 6,
   "id": "a28c8248",
   "metadata": {
    "execution": {
     "iopub.execute_input": "2023-11-21T09:21:06.057114Z",
     "iopub.status.busy": "2023-11-21T09:21:06.056269Z",
     "iopub.status.idle": "2023-11-21T09:21:06.094977Z",
     "shell.execute_reply": "2023-11-21T09:21:06.094248Z"
    },
    "papermill": {
     "duration": 0.089214,
     "end_time": "2023-11-21T09:21:06.097386",
     "exception": false,
     "start_time": "2023-11-21T09:21:06.008172",
     "status": "completed"
    },
    "tags": []
   },
   "outputs": [],
   "source": [
    "#definition of the week for test\n",
    "test_week = transactions.week.max() + 1 \n",
    "#transactions = transactions[transactions.week > transactions.week.max() - 10]"
   ]
  },
  {
   "cell_type": "markdown",
   "id": "07ea2fd4",
   "metadata": {
    "papermill": {
     "duration": 0.045809,
     "end_time": "2023-11-21T09:21:06.189889",
     "exception": false,
     "start_time": "2023-11-21T09:21:06.144080",
     "status": "completed"
    },
    "tags": []
   },
   "source": [
    "# Generating candidates"
   ]
  },
  {
   "cell_type": "markdown",
   "id": "0fd1496e",
   "metadata": {
    "papermill": {
     "duration": 0.047483,
     "end_time": "2023-11-21T09:21:06.283731",
     "exception": false,
     "start_time": "2023-11-21T09:21:06.236248",
     "status": "completed"
    },
    "tags": []
   },
   "source": [
    "### Last purchase candidates"
   ]
  },
  {
   "cell_type": "code",
   "execution_count": 7,
   "id": "2f26cd35",
   "metadata": {
    "execution": {
     "iopub.execute_input": "2023-11-21T09:21:06.378627Z",
     "iopub.status.busy": "2023-11-21T09:21:06.378327Z",
     "iopub.status.idle": "2023-11-21T09:22:00.530101Z",
     "shell.execute_reply": "2023-11-21T09:22:00.528882Z"
    },
    "papermill": {
     "duration": 54.202859,
     "end_time": "2023-11-21T09:22:00.533406",
     "exception": false,
     "start_time": "2023-11-21T09:21:06.330547",
     "status": "completed"
    },
    "tags": []
   },
   "outputs": [],
   "source": [
    "'''deciding to work only with data of the months of September since probably articles\n",
    "bought in this period could be the same and then the reccomendation could be more \n",
    "related also to the period in which we need to give them'''\n",
    "\n",
    "#filtering only the weeks of the month of semptember for the years 2018-2020\n",
    "filtered_transactions = transactions[(transactions['t_dat'].dt.month.between(6, 12)) &\n",
    "                                     (transactions['t_dat'].dt.year == 2020)]\n",
    "\n",
    "#groupby of candidates based on the customer_id and extraction of weeks\n",
    "c2weeks = filtered_transactions.groupby('customer_id')['week'].unique()\n",
    "\n",
    "#creation of a dictionary for shifted weeks\n",
    "c2weeks2shifted_weeks = {}\n",
    "candidates_last_purchase_september = filtered_transactions.copy()\n",
    "\n",
    "for c_id, weeks in c2weeks.items():\n",
    "    c2weeks2shifted_weeks[c_id] = {}\n",
    "    for i in range(weeks.shape[0]-1):\n",
    "        c2weeks2shifted_weeks[c_id][weeks[i]] = weeks[i+1]\n",
    "    c2weeks2shifted_weeks[c_id][weeks[-1]] = test_week\n",
    "\n",
    "#update of the dataframe candidates_last_purchase_september\n",
    "weeks = []\n",
    "for i, (c_id, week) in enumerate(zip(filtered_transactions['customer_id'], filtered_transactions['week'])):\n",
    "    weeks.append(c2weeks2shifted_weeks[c_id][week])\n",
    "    \n",
    "candidates_last_purchase_september.week = weeks"
   ]
  },
  {
   "cell_type": "markdown",
   "id": "246917a8",
   "metadata": {
    "papermill": {
     "duration": 0.046627,
     "end_time": "2023-11-21T09:22:00.628762",
     "exception": false,
     "start_time": "2023-11-21T09:22:00.582135",
     "status": "completed"
    },
    "tags": []
   },
   "source": [
    "### candidates"
   ]
  },
  {
   "cell_type": "code",
   "execution_count": 8,
   "id": "8221e340",
   "metadata": {
    "execution": {
     "iopub.execute_input": "2023-11-21T09:22:00.725131Z",
     "iopub.status.busy": "2023-11-21T09:22:00.724183Z",
     "iopub.status.idle": "2023-11-21T09:22:01.234815Z",
     "shell.execute_reply": "2023-11-21T09:22:01.233929Z"
    },
    "papermill": {
     "duration": 0.562754,
     "end_time": "2023-11-21T09:22:01.237962",
     "exception": false,
     "start_time": "2023-11-21T09:22:00.675208",
     "status": "completed"
    },
    "tags": []
   },
   "outputs": [
    {
     "data": {
      "text/html": [
       "<div>\n",
       "<style scoped>\n",
       "    .dataframe tbody tr th:only-of-type {\n",
       "        vertical-align: middle;\n",
       "    }\n",
       "\n",
       "    .dataframe tbody tr th {\n",
       "        vertical-align: top;\n",
       "    }\n",
       "\n",
       "    .dataframe thead th {\n",
       "        text-align: right;\n",
       "    }\n",
       "</style>\n",
       "<table border=\"1\" class=\"dataframe\">\n",
       "  <thead>\n",
       "    <tr style=\"text-align: right;\">\n",
       "      <th></th>\n",
       "      <th>customer_id</th>\n",
       "      <th>mean price purchases</th>\n",
       "    </tr>\n",
       "  </thead>\n",
       "  <tbody>\n",
       "    <tr>\n",
       "      <th>0</th>\n",
       "      <td>28847241659200</td>\n",
       "      <td>0.036918</td>\n",
       "    </tr>\n",
       "    <tr>\n",
       "      <th>1</th>\n",
       "      <td>41318098387474</td>\n",
       "      <td>0.027525</td>\n",
       "    </tr>\n",
       "    <tr>\n",
       "      <th>2</th>\n",
       "      <td>77117344919861</td>\n",
       "      <td>0.020068</td>\n",
       "    </tr>\n",
       "    <tr>\n",
       "      <th>3</th>\n",
       "      <td>116809474287335</td>\n",
       "      <td>0.029644</td>\n",
       "    </tr>\n",
       "    <tr>\n",
       "      <th>4</th>\n",
       "      <td>200292573348128</td>\n",
       "      <td>0.031618</td>\n",
       "    </tr>\n",
       "    <tr>\n",
       "      <th>...</th>\n",
       "      <td>...</td>\n",
       "      <td>...</td>\n",
       "    </tr>\n",
       "    <tr>\n",
       "      <th>598997</th>\n",
       "      <td>18446624797007271432</td>\n",
       "      <td>0.013119</td>\n",
       "    </tr>\n",
       "    <tr>\n",
       "      <th>598998</th>\n",
       "      <td>18446630855572834764</td>\n",
       "      <td>0.061000</td>\n",
       "    </tr>\n",
       "    <tr>\n",
       "      <th>598999</th>\n",
       "      <td>18446662237889060501</td>\n",
       "      <td>0.033881</td>\n",
       "    </tr>\n",
       "    <tr>\n",
       "      <th>599000</th>\n",
       "      <td>18446705133201055310</td>\n",
       "      <td>0.050831</td>\n",
       "    </tr>\n",
       "    <tr>\n",
       "      <th>599001</th>\n",
       "      <td>18446737527580148316</td>\n",
       "      <td>0.023712</td>\n",
       "    </tr>\n",
       "  </tbody>\n",
       "</table>\n",
       "<p>599002 rows × 2 columns</p>\n",
       "</div>"
      ],
      "text/plain": [
       "                 customer_id  mean price purchases\n",
       "0             28847241659200              0.036918\n",
       "1             41318098387474              0.027525\n",
       "2             77117344919861              0.020068\n",
       "3            116809474287335              0.029644\n",
       "4            200292573348128              0.031618\n",
       "...                      ...                   ...\n",
       "598997  18446624797007271432              0.013119\n",
       "598998  18446630855572834764              0.061000\n",
       "598999  18446662237889060501              0.033881\n",
       "599000  18446705133201055310              0.050831\n",
       "599001  18446737527580148316              0.023712\n",
       "\n",
       "[599002 rows x 2 columns]"
      ]
     },
     "execution_count": 8,
     "metadata": {},
     "output_type": "execute_result"
    }
   ],
   "source": [
    "#creation of the mean price of purchases for each candidate only in the filtered transactions\n",
    "mean_price_purchases = filtered_transactions.groupby('customer_id')['price'].mean().rename('mean price purchases').reset_index()\n",
    "mean_price_purchases"
   ]
  },
  {
   "cell_type": "code",
   "execution_count": 9,
   "id": "bf9789fa",
   "metadata": {
    "execution": {
     "iopub.execute_input": "2023-11-21T09:22:01.334988Z",
     "iopub.status.busy": "2023-11-21T09:22:01.334720Z",
     "iopub.status.idle": "2023-11-21T09:22:03.279300Z",
     "shell.execute_reply": "2023-11-21T09:22:03.278491Z"
    },
    "papermill": {
     "duration": 1.995688,
     "end_time": "2023-11-21T09:22:03.281628",
     "exception": false,
     "start_time": "2023-11-21T09:22:01.285940",
     "status": "completed"
    },
    "tags": []
   },
   "outputs": [
    {
     "data": {
      "text/html": [
       "<div>\n",
       "<style scoped>\n",
       "    .dataframe tbody tr th:only-of-type {\n",
       "        vertical-align: middle;\n",
       "    }\n",
       "\n",
       "    .dataframe tbody tr th {\n",
       "        vertical-align: top;\n",
       "    }\n",
       "\n",
       "    .dataframe thead th {\n",
       "        text-align: right;\n",
       "    }\n",
       "</style>\n",
       "<table border=\"1\" class=\"dataframe\">\n",
       "  <thead>\n",
       "    <tr style=\"text-align: right;\">\n",
       "      <th></th>\n",
       "      <th>customer_id</th>\n",
       "      <th>most_present_gender_in_area</th>\n",
       "    </tr>\n",
       "  </thead>\n",
       "  <tbody>\n",
       "    <tr>\n",
       "      <th>0</th>\n",
       "      <td>4245900472157</td>\n",
       "      <td>2</td>\n",
       "    </tr>\n",
       "    <tr>\n",
       "      <th>1</th>\n",
       "      <td>23962613628581</td>\n",
       "      <td>0</td>\n",
       "    </tr>\n",
       "    <tr>\n",
       "      <th>2</th>\n",
       "      <td>25398598941468</td>\n",
       "      <td>2</td>\n",
       "    </tr>\n",
       "    <tr>\n",
       "      <th>3</th>\n",
       "      <td>28847241659200</td>\n",
       "      <td>2</td>\n",
       "    </tr>\n",
       "    <tr>\n",
       "      <th>4</th>\n",
       "      <td>41046458195168</td>\n",
       "      <td>2</td>\n",
       "    </tr>\n",
       "    <tr>\n",
       "      <th>...</th>\n",
       "      <td>...</td>\n",
       "      <td>...</td>\n",
       "    </tr>\n",
       "    <tr>\n",
       "      <th>1371975</th>\n",
       "      <td>18446630855572834764</td>\n",
       "      <td>0</td>\n",
       "    </tr>\n",
       "    <tr>\n",
       "      <th>1371976</th>\n",
       "      <td>18446662237889060501</td>\n",
       "      <td>2</td>\n",
       "    </tr>\n",
       "    <tr>\n",
       "      <th>1371977</th>\n",
       "      <td>18446705133201055310</td>\n",
       "      <td>0</td>\n",
       "    </tr>\n",
       "    <tr>\n",
       "      <th>1371978</th>\n",
       "      <td>18446723086055369602</td>\n",
       "      <td>2</td>\n",
       "    </tr>\n",
       "    <tr>\n",
       "      <th>1371979</th>\n",
       "      <td>18446737527580148316</td>\n",
       "      <td>1</td>\n",
       "    </tr>\n",
       "  </tbody>\n",
       "</table>\n",
       "<p>1371980 rows × 2 columns</p>\n",
       "</div>"
      ],
      "text/plain": [
       "                  customer_id  most_present_gender_in_area\n",
       "0               4245900472157                            2\n",
       "1              23962613628581                            0\n",
       "2              25398598941468                            2\n",
       "3              28847241659200                            2\n",
       "4              41046458195168                            2\n",
       "...                       ...                          ...\n",
       "1371975  18446630855572834764                            0\n",
       "1371976  18446662237889060501                            2\n",
       "1371977  18446705133201055310                            0\n",
       "1371978  18446723086055369602                            2\n",
       "1371979  18446737527580148316                            1\n",
       "\n",
       "[1371980 rows x 2 columns]"
      ]
     },
     "execution_count": 9,
     "metadata": {},
     "output_type": "execute_result"
    }
   ],
   "source": [
    "#identification of the gender group that is the most present in a specific geographic area\n",
    "most_present_gender = customers.groupby(['customer_id', 'postal_code', 'numerical_gender']).size().reset_index(name='count')\n",
    "idx = most_present_gender.groupby(['customer_id', 'postal_code'])['count'].transform(max) == most_present_gender['count']\n",
    "most_present_gender = most_present_gender[idx][['customer_id', 'postal_code', 'numerical_gender']]\n",
    "most_present_gender = most_present_gender.rename(columns = {'numerical_gender': 'most_present_gender_in_area'})\n",
    "most_present_gender.drop(columns = 'postal_code', inplace = True)\n",
    "most_present_gender"
   ]
  },
  {
   "cell_type": "code",
   "execution_count": 10,
   "id": "6377e7ca",
   "metadata": {
    "execution": {
     "iopub.execute_input": "2023-11-21T09:22:03.380287Z",
     "iopub.status.busy": "2023-11-21T09:22:03.379400Z",
     "iopub.status.idle": "2023-11-21T09:22:04.665019Z",
     "shell.execute_reply": "2023-11-21T09:22:04.664208Z"
    },
    "papermill": {
     "duration": 1.337726,
     "end_time": "2023-11-21T09:22:04.667298",
     "exception": false,
     "start_time": "2023-11-21T09:22:03.329572",
     "status": "completed"
    },
    "tags": []
   },
   "outputs": [
    {
     "data": {
      "text/html": [
       "<div>\n",
       "<style scoped>\n",
       "    .dataframe tbody tr th:only-of-type {\n",
       "        vertical-align: middle;\n",
       "    }\n",
       "\n",
       "    .dataframe tbody tr th {\n",
       "        vertical-align: top;\n",
       "    }\n",
       "\n",
       "    .dataframe thead th {\n",
       "        text-align: right;\n",
       "    }\n",
       "</style>\n",
       "<table border=\"1\" class=\"dataframe\">\n",
       "  <thead>\n",
       "    <tr style=\"text-align: right;\">\n",
       "      <th></th>\n",
       "      <th>customer_id</th>\n",
       "      <th>median_age_area</th>\n",
       "    </tr>\n",
       "  </thead>\n",
       "  <tbody>\n",
       "    <tr>\n",
       "      <th>0</th>\n",
       "      <td>4245900472157</td>\n",
       "      <td>21.0</td>\n",
       "    </tr>\n",
       "    <tr>\n",
       "      <th>1</th>\n",
       "      <td>23962613628581</td>\n",
       "      <td>34.0</td>\n",
       "    </tr>\n",
       "    <tr>\n",
       "      <th>2</th>\n",
       "      <td>25398598941468</td>\n",
       "      <td>21.0</td>\n",
       "    </tr>\n",
       "    <tr>\n",
       "      <th>3</th>\n",
       "      <td>28847241659200</td>\n",
       "      <td>21.0</td>\n",
       "    </tr>\n",
       "    <tr>\n",
       "      <th>4</th>\n",
       "      <td>41046458195168</td>\n",
       "      <td>18.0</td>\n",
       "    </tr>\n",
       "    <tr>\n",
       "      <th>...</th>\n",
       "      <td>...</td>\n",
       "      <td>...</td>\n",
       "    </tr>\n",
       "    <tr>\n",
       "      <th>1371975</th>\n",
       "      <td>18446630855572834764</td>\n",
       "      <td>33.0</td>\n",
       "    </tr>\n",
       "    <tr>\n",
       "      <th>1371976</th>\n",
       "      <td>18446662237889060501</td>\n",
       "      <td>75.0</td>\n",
       "    </tr>\n",
       "    <tr>\n",
       "      <th>1371977</th>\n",
       "      <td>18446705133201055310</td>\n",
       "      <td>60.0</td>\n",
       "    </tr>\n",
       "    <tr>\n",
       "      <th>1371978</th>\n",
       "      <td>18446723086055369602</td>\n",
       "      <td>33.0</td>\n",
       "    </tr>\n",
       "    <tr>\n",
       "      <th>1371979</th>\n",
       "      <td>18446737527580148316</td>\n",
       "      <td>60.0</td>\n",
       "    </tr>\n",
       "  </tbody>\n",
       "</table>\n",
       "<p>1371980 rows × 2 columns</p>\n",
       "</div>"
      ],
      "text/plain": [
       "                  customer_id  median_age_area\n",
       "0               4245900472157             21.0\n",
       "1              23962613628581             34.0\n",
       "2              25398598941468             21.0\n",
       "3              28847241659200             21.0\n",
       "4              41046458195168             18.0\n",
       "...                       ...              ...\n",
       "1371975  18446630855572834764             33.0\n",
       "1371976  18446662237889060501             75.0\n",
       "1371977  18446705133201055310             60.0\n",
       "1371978  18446723086055369602             33.0\n",
       "1371979  18446737527580148316             60.0\n",
       "\n",
       "[1371980 rows x 2 columns]"
      ]
     },
     "execution_count": 10,
     "metadata": {},
     "output_type": "execute_result"
    }
   ],
   "source": [
    "#identification of the medium age for geographic area\n",
    "median_age = customers.groupby(['customer_id', 'postal_code'])['age'].median().reset_index(name = 'median_age_area')\n",
    "median_age.drop(columns = 'postal_code', inplace = True)\n",
    "median_age"
   ]
  },
  {
   "cell_type": "code",
   "execution_count": 11,
   "id": "b79bc4de",
   "metadata": {
    "execution": {
     "iopub.execute_input": "2023-11-21T09:22:04.768773Z",
     "iopub.status.busy": "2023-11-21T09:22:04.768308Z",
     "iopub.status.idle": "2023-11-21T09:22:07.849893Z",
     "shell.execute_reply": "2023-11-21T09:22:07.849255Z"
    },
    "papermill": {
     "duration": 3.134102,
     "end_time": "2023-11-21T09:22:07.852134",
     "exception": false,
     "start_time": "2023-11-21T09:22:04.718032",
     "status": "completed"
    },
    "tags": []
   },
   "outputs": [
    {
     "data": {
      "text/plain": [
       "Index(['t_dat', 'customer_id', 'article_id', 'price', 'sales_channel_id',\n",
       "       'week', 'mean price purchases', 'most_present_gender_in_area',\n",
       "       'median_age_area'],\n",
       "      dtype='object')"
      ]
     },
     "execution_count": 11,
     "metadata": {},
     "output_type": "execute_result"
    }
   ],
   "source": [
    "candidates_definitive = pd.merge(candidates_last_purchase_september, mean_price_purchases, on = 'customer_id') #merge of values of mean fo the purchases\n",
    "candidates_definitive = pd.merge(candidates_definitive, most_present_gender, on = 'customer_id') #merge of values of the dominant gender in teh geographic area of the customer\n",
    "candidates_definitive = pd.merge(candidates_definitive, median_age, on = 'customer_id') #merge of values of the dominant gender in teh geographic area of the customer\n",
    "\n",
    "candidates_definitive.columns"
   ]
  },
  {
   "cell_type": "code",
   "execution_count": 12,
   "id": "b16e8ca7",
   "metadata": {
    "execution": {
     "iopub.execute_input": "2023-11-21T09:22:07.952843Z",
     "iopub.status.busy": "2023-11-21T09:22:07.952543Z",
     "iopub.status.idle": "2023-11-21T09:22:08.246344Z",
     "shell.execute_reply": "2023-11-21T09:22:08.245502Z"
    },
    "papermill": {
     "duration": 0.346702,
     "end_time": "2023-11-21T09:22:08.248909",
     "exception": false,
     "start_time": "2023-11-21T09:22:07.902207",
     "status": "completed"
    },
    "tags": []
   },
   "outputs": [],
   "source": [
    "candidates_definitive = candidates_definitive.drop_duplicates(subset = 'customer_id')"
   ]
  },
  {
   "cell_type": "code",
   "execution_count": 13,
   "id": "2afc7c5f",
   "metadata": {
    "execution": {
     "iopub.execute_input": "2023-11-21T09:22:08.351093Z",
     "iopub.status.busy": "2023-11-21T09:22:08.350784Z",
     "iopub.status.idle": "2023-11-21T09:22:08.373064Z",
     "shell.execute_reply": "2023-11-21T09:22:08.372475Z"
    },
    "papermill": {
     "duration": 0.075856,
     "end_time": "2023-11-21T09:22:08.375083",
     "exception": false,
     "start_time": "2023-11-21T09:22:08.299227",
     "status": "completed"
    },
    "tags": []
   },
   "outputs": [
    {
     "data": {
      "text/html": [
       "<div>\n",
       "<style scoped>\n",
       "    .dataframe tbody tr th:only-of-type {\n",
       "        vertical-align: middle;\n",
       "    }\n",
       "\n",
       "    .dataframe tbody tr th {\n",
       "        vertical-align: top;\n",
       "    }\n",
       "\n",
       "    .dataframe thead th {\n",
       "        text-align: right;\n",
       "    }\n",
       "</style>\n",
       "<table border=\"1\" class=\"dataframe\">\n",
       "  <thead>\n",
       "    <tr style=\"text-align: right;\">\n",
       "      <th></th>\n",
       "      <th>t_dat</th>\n",
       "      <th>customer_id</th>\n",
       "      <th>article_id</th>\n",
       "      <th>price</th>\n",
       "      <th>sales_channel_id</th>\n",
       "      <th>week</th>\n",
       "      <th>mean price purchases</th>\n",
       "      <th>most_present_gender_in_area</th>\n",
       "      <th>median_age_area</th>\n",
       "    </tr>\n",
       "  </thead>\n",
       "  <tbody>\n",
       "    <tr>\n",
       "      <th>0</th>\n",
       "      <td>2020-06-01</td>\n",
       "      <td>3030245210403714</td>\n",
       "      <td>399256023</td>\n",
       "      <td>0.016932</td>\n",
       "      <td>1</td>\n",
       "      <td>91</td>\n",
       "      <td>0.016424</td>\n",
       "      <td>2</td>\n",
       "      <td>47.0</td>\n",
       "    </tr>\n",
       "    <tr>\n",
       "      <th>1</th>\n",
       "      <td>2020-06-01</td>\n",
       "      <td>3697956998694085</td>\n",
       "      <td>854883003</td>\n",
       "      <td>0.030492</td>\n",
       "      <td>2</td>\n",
       "      <td>105</td>\n",
       "      <td>0.020534</td>\n",
       "      <td>2</td>\n",
       "      <td>52.0</td>\n",
       "    </tr>\n",
       "    <tr>\n",
       "      <th>2</th>\n",
       "      <td>2020-06-01</td>\n",
       "      <td>4563203946496378</td>\n",
       "      <td>802459001</td>\n",
       "      <td>0.003373</td>\n",
       "      <td>1</td>\n",
       "      <td>99</td>\n",
       "      <td>0.027263</td>\n",
       "      <td>0</td>\n",
       "      <td>35.0</td>\n",
       "    </tr>\n",
       "    <tr>\n",
       "      <th>3</th>\n",
       "      <td>2020-06-01</td>\n",
       "      <td>4813676888825046</td>\n",
       "      <td>874916005</td>\n",
       "      <td>0.016932</td>\n",
       "      <td>1</td>\n",
       "      <td>105</td>\n",
       "      <td>0.016932</td>\n",
       "      <td>2</td>\n",
       "      <td>24.0</td>\n",
       "    </tr>\n",
       "    <tr>\n",
       "      <th>4</th>\n",
       "      <td>2020-06-01</td>\n",
       "      <td>6289628826503662</td>\n",
       "      <td>523404032</td>\n",
       "      <td>0.025407</td>\n",
       "      <td>2</td>\n",
       "      <td>105</td>\n",
       "      <td>0.036706</td>\n",
       "      <td>0</td>\n",
       "      <td>62.0</td>\n",
       "    </tr>\n",
       "    <tr>\n",
       "      <th>...</th>\n",
       "      <td>...</td>\n",
       "      <td>...</td>\n",
       "      <td>...</td>\n",
       "      <td>...</td>\n",
       "      <td>...</td>\n",
       "      <td>...</td>\n",
       "      <td>...</td>\n",
       "      <td>...</td>\n",
       "      <td>...</td>\n",
       "    </tr>\n",
       "    <tr>\n",
       "      <th>598997</th>\n",
       "      <td>2020-09-22</td>\n",
       "      <td>18409112236320621348</td>\n",
       "      <td>860833002</td>\n",
       "      <td>0.025407</td>\n",
       "      <td>2</td>\n",
       "      <td>105</td>\n",
       "      <td>0.029644</td>\n",
       "      <td>2</td>\n",
       "      <td>21.0</td>\n",
       "    </tr>\n",
       "    <tr>\n",
       "      <th>598998</th>\n",
       "      <td>2020-09-22</td>\n",
       "      <td>18417769707947924979</td>\n",
       "      <td>729860001</td>\n",
       "      <td>0.022017</td>\n",
       "      <td>2</td>\n",
       "      <td>105</td>\n",
       "      <td>0.019475</td>\n",
       "      <td>2</td>\n",
       "      <td>40.0</td>\n",
       "    </tr>\n",
       "    <tr>\n",
       "      <th>598999</th>\n",
       "      <td>2020-09-22</td>\n",
       "      <td>18418054986721795659</td>\n",
       "      <td>873279003</td>\n",
       "      <td>0.042356</td>\n",
       "      <td>2</td>\n",
       "      <td>105</td>\n",
       "      <td>0.042356</td>\n",
       "      <td>0</td>\n",
       "      <td>28.0</td>\n",
       "    </tr>\n",
       "    <tr>\n",
       "      <th>599000</th>\n",
       "      <td>2020-09-22</td>\n",
       "      <td>18421175435799911749</td>\n",
       "      <td>863583001</td>\n",
       "      <td>0.033881</td>\n",
       "      <td>2</td>\n",
       "      <td>105</td>\n",
       "      <td>0.033881</td>\n",
       "      <td>2</td>\n",
       "      <td>28.0</td>\n",
       "    </tr>\n",
       "    <tr>\n",
       "      <th>599001</th>\n",
       "      <td>2020-09-22</td>\n",
       "      <td>18438270306572912089</td>\n",
       "      <td>751471043</td>\n",
       "      <td>0.033881</td>\n",
       "      <td>1</td>\n",
       "      <td>105</td>\n",
       "      <td>0.033881</td>\n",
       "      <td>0</td>\n",
       "      <td>71.0</td>\n",
       "    </tr>\n",
       "  </tbody>\n",
       "</table>\n",
       "<p>599002 rows × 9 columns</p>\n",
       "</div>"
      ],
      "text/plain": [
       "            t_dat           customer_id  article_id     price  \\\n",
       "0      2020-06-01      3030245210403714   399256023  0.016932   \n",
       "1      2020-06-01      3697956998694085   854883003  0.030492   \n",
       "2      2020-06-01      4563203946496378   802459001  0.003373   \n",
       "3      2020-06-01      4813676888825046   874916005  0.016932   \n",
       "4      2020-06-01      6289628826503662   523404032  0.025407   \n",
       "...           ...                   ...         ...       ...   \n",
       "598997 2020-09-22  18409112236320621348   860833002  0.025407   \n",
       "598998 2020-09-22  18417769707947924979   729860001  0.022017   \n",
       "598999 2020-09-22  18418054986721795659   873279003  0.042356   \n",
       "599000 2020-09-22  18421175435799911749   863583001  0.033881   \n",
       "599001 2020-09-22  18438270306572912089   751471043  0.033881   \n",
       "\n",
       "        sales_channel_id  week  mean price purchases  \\\n",
       "0                      1    91              0.016424   \n",
       "1                      2   105              0.020534   \n",
       "2                      1    99              0.027263   \n",
       "3                      1   105              0.016932   \n",
       "4                      2   105              0.036706   \n",
       "...                  ...   ...                   ...   \n",
       "598997                 2   105              0.029644   \n",
       "598998                 2   105              0.019475   \n",
       "598999                 2   105              0.042356   \n",
       "599000                 2   105              0.033881   \n",
       "599001                 1   105              0.033881   \n",
       "\n",
       "        most_present_gender_in_area  median_age_area  \n",
       "0                                 2             47.0  \n",
       "1                                 2             52.0  \n",
       "2                                 0             35.0  \n",
       "3                                 2             24.0  \n",
       "4                                 0             62.0  \n",
       "...                             ...              ...  \n",
       "598997                            2             21.0  \n",
       "598998                            2             40.0  \n",
       "598999                            0             28.0  \n",
       "599000                            2             28.0  \n",
       "599001                            0             71.0  \n",
       "\n",
       "[599002 rows x 9 columns]"
      ]
     },
     "execution_count": 13,
     "metadata": {},
     "output_type": "execute_result"
    }
   ],
   "source": [
    "#dataset about candidates in the analyzed period\n",
    "candidates_definitive.reset_index(drop = True, inplace = True)\n",
    "candidates_definitive"
   ]
  },
  {
   "cell_type": "code",
   "execution_count": 14,
   "id": "e15396a9",
   "metadata": {
    "execution": {
     "iopub.execute_input": "2023-11-21T09:22:08.477775Z",
     "iopub.status.busy": "2023-11-21T09:22:08.476815Z",
     "iopub.status.idle": "2023-11-21T09:22:08.773864Z",
     "shell.execute_reply": "2023-11-21T09:22:08.773037Z"
    },
    "papermill": {
     "duration": 0.350134,
     "end_time": "2023-11-21T09:22:08.776020",
     "exception": false,
     "start_time": "2023-11-21T09:22:08.425886",
     "status": "completed"
    },
    "tags": []
   },
   "outputs": [
    {
     "data": {
      "text/html": [
       "<div>\n",
       "<style scoped>\n",
       "    .dataframe tbody tr th:only-of-type {\n",
       "        vertical-align: middle;\n",
       "    }\n",
       "\n",
       "    .dataframe tbody tr th {\n",
       "        vertical-align: top;\n",
       "    }\n",
       "\n",
       "    .dataframe thead th {\n",
       "        text-align: right;\n",
       "    }\n",
       "</style>\n",
       "<table border=\"1\" class=\"dataframe\">\n",
       "  <thead>\n",
       "    <tr style=\"text-align: right;\">\n",
       "      <th></th>\n",
       "      <th>t_dat</th>\n",
       "      <th>customer_id</th>\n",
       "      <th>article_id</th>\n",
       "      <th>price</th>\n",
       "      <th>sales_channel_id</th>\n",
       "      <th>week</th>\n",
       "    </tr>\n",
       "  </thead>\n",
       "  <tbody>\n",
       "    <tr>\n",
       "      <th>0</th>\n",
       "      <td>2020-06-01</td>\n",
       "      <td>3030245210403714</td>\n",
       "      <td>399256023</td>\n",
       "      <td>0.016932</td>\n",
       "      <td>1</td>\n",
       "      <td>88</td>\n",
       "    </tr>\n",
       "    <tr>\n",
       "      <th>1</th>\n",
       "      <td>2020-06-01</td>\n",
       "      <td>3697956998694085</td>\n",
       "      <td>854883003</td>\n",
       "      <td>0.030492</td>\n",
       "      <td>2</td>\n",
       "      <td>88</td>\n",
       "    </tr>\n",
       "    <tr>\n",
       "      <th>2</th>\n",
       "      <td>2020-06-01</td>\n",
       "      <td>4563203946496378</td>\n",
       "      <td>802459001</td>\n",
       "      <td>0.003373</td>\n",
       "      <td>1</td>\n",
       "      <td>88</td>\n",
       "    </tr>\n",
       "    <tr>\n",
       "      <th>3</th>\n",
       "      <td>2020-06-01</td>\n",
       "      <td>4813676888825046</td>\n",
       "      <td>874916005</td>\n",
       "      <td>0.016932</td>\n",
       "      <td>1</td>\n",
       "      <td>88</td>\n",
       "    </tr>\n",
       "    <tr>\n",
       "      <th>4</th>\n",
       "      <td>2020-06-01</td>\n",
       "      <td>6289628826503662</td>\n",
       "      <td>523404032</td>\n",
       "      <td>0.025407</td>\n",
       "      <td>2</td>\n",
       "      <td>88</td>\n",
       "    </tr>\n",
       "    <tr>\n",
       "      <th>...</th>\n",
       "      <td>...</td>\n",
       "      <td>...</td>\n",
       "      <td>...</td>\n",
       "      <td>...</td>\n",
       "      <td>...</td>\n",
       "      <td>...</td>\n",
       "    </tr>\n",
       "    <tr>\n",
       "      <th>598997</th>\n",
       "      <td>2020-09-22</td>\n",
       "      <td>18409112236320621348</td>\n",
       "      <td>860833002</td>\n",
       "      <td>0.025407</td>\n",
       "      <td>2</td>\n",
       "      <td>104</td>\n",
       "    </tr>\n",
       "    <tr>\n",
       "      <th>598998</th>\n",
       "      <td>2020-09-22</td>\n",
       "      <td>18417769707947924979</td>\n",
       "      <td>729860001</td>\n",
       "      <td>0.022017</td>\n",
       "      <td>2</td>\n",
       "      <td>104</td>\n",
       "    </tr>\n",
       "    <tr>\n",
       "      <th>598999</th>\n",
       "      <td>2020-09-22</td>\n",
       "      <td>18418054986721795659</td>\n",
       "      <td>873279003</td>\n",
       "      <td>0.042356</td>\n",
       "      <td>2</td>\n",
       "      <td>104</td>\n",
       "    </tr>\n",
       "    <tr>\n",
       "      <th>599000</th>\n",
       "      <td>2020-09-22</td>\n",
       "      <td>18421175435799911749</td>\n",
       "      <td>863583001</td>\n",
       "      <td>0.033881</td>\n",
       "      <td>2</td>\n",
       "      <td>104</td>\n",
       "    </tr>\n",
       "    <tr>\n",
       "      <th>599001</th>\n",
       "      <td>2020-09-22</td>\n",
       "      <td>18438270306572912089</td>\n",
       "      <td>751471043</td>\n",
       "      <td>0.033881</td>\n",
       "      <td>1</td>\n",
       "      <td>104</td>\n",
       "    </tr>\n",
       "  </tbody>\n",
       "</table>\n",
       "<p>599002 rows × 6 columns</p>\n",
       "</div>"
      ],
      "text/plain": [
       "            t_dat           customer_id  article_id     price  \\\n",
       "0      2020-06-01      3030245210403714   399256023  0.016932   \n",
       "1      2020-06-01      3697956998694085   854883003  0.030492   \n",
       "2      2020-06-01      4563203946496378   802459001  0.003373   \n",
       "3      2020-06-01      4813676888825046   874916005  0.016932   \n",
       "4      2020-06-01      6289628826503662   523404032  0.025407   \n",
       "...           ...                   ...         ...       ...   \n",
       "598997 2020-09-22  18409112236320621348   860833002  0.025407   \n",
       "598998 2020-09-22  18417769707947924979   729860001  0.022017   \n",
       "598999 2020-09-22  18418054986721795659   873279003  0.042356   \n",
       "599000 2020-09-22  18421175435799911749   863583001  0.033881   \n",
       "599001 2020-09-22  18438270306572912089   751471043  0.033881   \n",
       "\n",
       "        sales_channel_id  week  \n",
       "0                      1    88  \n",
       "1                      2    88  \n",
       "2                      1    88  \n",
       "3                      1    88  \n",
       "4                      2    88  \n",
       "...                  ...   ...  \n",
       "598997                 2   104  \n",
       "598998                 2   104  \n",
       "598999                 2   104  \n",
       "599000                 2   104  \n",
       "599001                 1   104  \n",
       "\n",
       "[599002 rows x 6 columns]"
      ]
     },
     "execution_count": 14,
     "metadata": {},
     "output_type": "execute_result"
    }
   ],
   "source": [
    "#test set about transactions\n",
    "test_set_transactions = filtered_transactions.drop_duplicates('customer_id')\n",
    "test_set_transactions.reset_index(drop = True, inplace = True)\n",
    "test_set_transactions"
   ]
  },
  {
   "cell_type": "code",
   "execution_count": 15,
   "id": "1fd21b3a",
   "metadata": {
    "execution": {
     "iopub.execute_input": "2023-11-21T09:22:08.881042Z",
     "iopub.status.busy": "2023-11-21T09:22:08.880019Z",
     "iopub.status.idle": "2023-11-21T09:22:11.023618Z",
     "shell.execute_reply": "2023-11-21T09:22:11.022883Z"
    },
    "papermill": {
     "duration": 2.198182,
     "end_time": "2023-11-21T09:22:11.026090",
     "exception": false,
     "start_time": "2023-11-21T09:22:08.827908",
     "status": "completed"
    },
    "tags": []
   },
   "outputs": [],
   "source": [
    "#bestsellers for septembers\n",
    "mean_price = filtered_transactions \\\n",
    "    .groupby(['week', 'article_id'])['price'].mean()\n",
    "\n",
    "sales = filtered_transactions \\\n",
    "    .groupby('week')['article_id'].value_counts() \\\n",
    "    .groupby('week').rank(method='dense', ascending=False) \\\n",
    "    .groupby('week').head(12).rename('bestseller_rank').astype('int8')\n",
    "\n",
    "bestsellers_september = pd.merge(sales, mean_price, on=['week', 'article_id']).reset_index()"
   ]
  },
  {
   "cell_type": "markdown",
   "id": "12b6272c",
   "metadata": {
    "papermill": {
     "duration": 0.051161,
     "end_time": "2023-11-21T09:22:11.128003",
     "exception": false,
     "start_time": "2023-11-21T09:22:11.076842",
     "status": "completed"
    },
    "tags": []
   },
   "source": [
    "# Combining transactions and candidates / negative examples"
   ]
  },
  {
   "cell_type": "code",
   "execution_count": 16,
   "id": "4dd98de5",
   "metadata": {
    "execution": {
     "iopub.execute_input": "2023-11-21T09:22:11.231100Z",
     "iopub.status.busy": "2023-11-21T09:22:11.230784Z",
     "iopub.status.idle": "2023-11-21T09:22:11.243578Z",
     "shell.execute_reply": "2023-11-21T09:22:11.242426Z"
    },
    "papermill": {
     "duration": 0.067216,
     "end_time": "2023-11-21T09:22:11.245573",
     "exception": false,
     "start_time": "2023-11-21T09:22:11.178357",
     "status": "completed"
    },
    "tags": []
   },
   "outputs": [
    {
     "name": "stderr",
     "output_type": "stream",
     "text": [
      "/opt/conda/lib/python3.7/site-packages/pandas/core/indexing.py:1667: SettingWithCopyWarning: \n",
      "A value is trying to be set on a copy of a slice from a DataFrame.\n",
      "Try using .loc[row_indexer,col_indexer] = value instead\n",
      "\n",
      "See the caveats in the documentation: https://pandas.pydata.org/pandas-docs/stable/user_guide/indexing.html#returning-a-view-versus-a-copy\n",
      "  self.obj[key] = value\n"
     ]
    }
   ],
   "source": [
    "filtered_transactions.loc[:, 'purchased'] = 1"
   ]
  },
  {
   "cell_type": "code",
   "execution_count": 17,
   "id": "25b7d6f8",
   "metadata": {
    "execution": {
     "iopub.execute_input": "2023-11-21T09:22:11.350467Z",
     "iopub.status.busy": "2023-11-21T09:22:11.350196Z",
     "iopub.status.idle": "2023-11-21T09:23:44.726711Z",
     "shell.execute_reply": "2023-11-21T09:23:44.725594Z"
    },
    "papermill": {
     "duration": 93.432205,
     "end_time": "2023-11-21T09:23:44.729555",
     "exception": false,
     "start_time": "2023-11-21T09:22:11.297350",
     "status": "completed"
    },
    "tags": []
   },
   "outputs": [],
   "source": [
    "data = pd.concat([filtered_transactions, candidates_last_purchase_september])\n",
    "data = pd.merge(data, bestsellers_september[['article_id', 'bestseller_rank']], on = 'article_id', how = 'left')\n",
    "data.fillna(0, inplace = True)"
   ]
  },
  {
   "cell_type": "code",
   "execution_count": 18,
   "id": "26200340",
   "metadata": {
    "execution": {
     "iopub.execute_input": "2023-11-21T09:23:44.837900Z",
     "iopub.status.busy": "2023-11-21T09:23:44.836990Z",
     "iopub.status.idle": "2023-11-21T09:23:47.647066Z",
     "shell.execute_reply": "2023-11-21T09:23:47.646039Z"
    },
    "papermill": {
     "duration": 2.867427,
     "end_time": "2023-11-21T09:23:47.649818",
     "exception": false,
     "start_time": "2023-11-21T09:23:44.782391",
     "status": "completed"
    },
    "tags": []
   },
   "outputs": [],
   "source": [
    "#adding candidates info\n",
    "data = pd.merge(data, candidates_definitive[['customer_id', 'mean price purchases', 'most_present_gender_in_area', 'median_age_area']], on = 'customer_id', how = 'left')"
   ]
  },
  {
   "cell_type": "code",
   "execution_count": 19,
   "id": "ff09064f",
   "metadata": {
    "execution": {
     "iopub.execute_input": "2023-11-21T09:23:47.755973Z",
     "iopub.status.busy": "2023-11-21T09:23:47.755635Z",
     "iopub.status.idle": "2023-11-21T09:24:04.763839Z",
     "shell.execute_reply": "2023-11-21T09:24:04.763163Z"
    },
    "papermill": {
     "duration": 17.064652,
     "end_time": "2023-11-21T09:24:04.766240",
     "exception": false,
     "start_time": "2023-11-21T09:23:47.701588",
     "status": "completed"
    },
    "tags": []
   },
   "outputs": [],
   "source": [
    "#adding initial datasets to my new dataset\n",
    "data = pd.merge(data, articles, on = 'article_id', how = 'left')\n",
    "data = pd.merge(data, customers, on = 'customer_id', how = 'left')"
   ]
  },
  {
   "cell_type": "code",
   "execution_count": 20,
   "id": "5151ac98",
   "metadata": {
    "execution": {
     "iopub.execute_input": "2023-11-21T09:24:04.871755Z",
     "iopub.status.busy": "2023-11-21T09:24:04.870983Z",
     "iopub.status.idle": "2023-11-21T09:24:09.741090Z",
     "shell.execute_reply": "2023-11-21T09:24:09.740014Z"
    },
    "papermill": {
     "duration": 4.924728,
     "end_time": "2023-11-21T09:24:09.743539",
     "exception": false,
     "start_time": "2023-11-21T09:24:04.818811",
     "status": "completed"
    },
    "tags": []
   },
   "outputs": [],
   "source": [
    "data.sort_values(['week', 'customer_id'], inplace=True)\n",
    "data.reset_index(drop=True, inplace=True)"
   ]
  },
  {
   "cell_type": "code",
   "execution_count": 21,
   "id": "64a4dc6e",
   "metadata": {
    "execution": {
     "iopub.execute_input": "2023-11-21T09:24:09.850340Z",
     "iopub.status.busy": "2023-11-21T09:24:09.850005Z",
     "iopub.status.idle": "2023-11-21T09:24:13.877232Z",
     "shell.execute_reply": "2023-11-21T09:24:13.876365Z"
    },
    "papermill": {
     "duration": 4.083333,
     "end_time": "2023-11-21T09:24:13.879756",
     "exception": false,
     "start_time": "2023-11-21T09:24:09.796423",
     "status": "completed"
    },
    "tags": []
   },
   "outputs": [],
   "source": [
    "train = data[data.week != test_week]\n",
    "test = data[data.week==test_week].drop_duplicates(['customer_id', 'article_id', 'sales_channel_id']).copy()"
   ]
  },
  {
   "cell_type": "code",
   "execution_count": 22,
   "id": "f89450a3",
   "metadata": {
    "execution": {
     "iopub.execute_input": "2023-11-21T09:24:13.984578Z",
     "iopub.status.busy": "2023-11-21T09:24:13.984069Z",
     "iopub.status.idle": "2023-11-21T09:24:14.962393Z",
     "shell.execute_reply": "2023-11-21T09:24:14.961724Z"
    },
    "papermill": {
     "duration": 1.032888,
     "end_time": "2023-11-21T09:24:14.964760",
     "exception": false,
     "start_time": "2023-11-21T09:24:13.931872",
     "status": "completed"
    },
    "tags": []
   },
   "outputs": [],
   "source": [
    "train_baskets = train.groupby(['week', 'customer_id'])['article_id'].count().values"
   ]
  },
  {
   "cell_type": "code",
   "execution_count": 23,
   "id": "505a65e0",
   "metadata": {
    "execution": {
     "iopub.execute_input": "2023-11-21T09:24:15.070412Z",
     "iopub.status.busy": "2023-11-21T09:24:15.069896Z",
     "iopub.status.idle": "2023-11-21T09:24:15.074277Z",
     "shell.execute_reply": "2023-11-21T09:24:15.073750Z"
    },
    "papermill": {
     "duration": 0.05892,
     "end_time": "2023-11-21T09:24:15.076154",
     "exception": false,
     "start_time": "2023-11-21T09:24:15.017234",
     "status": "completed"
    },
    "tags": []
   },
   "outputs": [],
   "source": [
    "columns_to_use = ['article_id', 'product_type_no', 'graphical_appearance_no', 'colour_group_code', 'perceived_colour_value_id',\n",
    "'perceived_colour_master_id', 'department_no', 'index_code', 'index_group_no', 'section_no', 'garment_group_no', 'FN', 'Active',\n",
    "'club_member_status', 'fashion_news_frequency', 'bestseller_rank', 'mean price purchases', 'most_present_gender_in_area', 'median_age_area']"
   ]
  },
  {
   "cell_type": "code",
   "execution_count": 24,
   "id": "e30eb9e0",
   "metadata": {
    "execution": {
     "iopub.execute_input": "2023-11-21T09:24:15.181745Z",
     "iopub.status.busy": "2023-11-21T09:24:15.181402Z",
     "iopub.status.idle": "2023-11-21T09:24:15.525202Z",
     "shell.execute_reply": "2023-11-21T09:24:15.524203Z"
    },
    "papermill": {
     "duration": 0.399336,
     "end_time": "2023-11-21T09:24:15.527580",
     "exception": false,
     "start_time": "2023-11-21T09:24:15.128244",
     "status": "completed"
    },
    "tags": []
   },
   "outputs": [
    {
     "name": "stdout",
     "output_type": "stream",
     "text": [
      "CPU times: user 180 ms, sys: 159 ms, total: 339 ms\n",
      "Wall time: 337 ms\n"
     ]
    }
   ],
   "source": [
    "%%time\n",
    "\n",
    "train_X = train[columns_to_use]\n",
    "train_y = train['purchased']\n",
    "\n",
    "test_X = test[columns_to_use]"
   ]
  },
  {
   "cell_type": "markdown",
   "id": "c0b39632",
   "metadata": {
    "papermill": {
     "duration": 0.054618,
     "end_time": "2023-11-21T09:24:15.640732",
     "exception": false,
     "start_time": "2023-11-21T09:24:15.586114",
     "status": "completed"
    },
    "tags": []
   },
   "source": [
    "# Model training"
   ]
  },
  {
   "cell_type": "code",
   "execution_count": 25,
   "id": "93779a9b",
   "metadata": {
    "execution": {
     "iopub.execute_input": "2023-11-21T09:24:15.749343Z",
     "iopub.status.busy": "2023-11-21T09:24:15.749001Z",
     "iopub.status.idle": "2023-11-21T09:24:16.758752Z",
     "shell.execute_reply": "2023-11-21T09:24:16.758028Z"
    },
    "papermill": {
     "duration": 1.067405,
     "end_time": "2023-11-21T09:24:16.761797",
     "exception": false,
     "start_time": "2023-11-21T09:24:15.694392",
     "status": "completed"
    },
    "tags": []
   },
   "outputs": [
    {
     "data": {
      "text/html": [
       "<style type='text/css'>\n",
       ".datatable table.frame { margin-bottom: 0; }\n",
       ".datatable table.frame thead { border-bottom: none; }\n",
       ".datatable table.frame tr.coltypes td {  color: #FFFFFF;  line-height: 6px;  padding: 0 0.5em;}\n",
       ".datatable .bool    { background: #DDDD99; }\n",
       ".datatable .object  { background: #565656; }\n",
       ".datatable .int     { background: #5D9E5D; }\n",
       ".datatable .float   { background: #4040CC; }\n",
       ".datatable .str     { background: #CC4040; }\n",
       ".datatable .time    { background: #40CC40; }\n",
       ".datatable .row_index {  background: var(--jp-border-color3);  border-right: 1px solid var(--jp-border-color0);  color: var(--jp-ui-font-color3);  font-size: 9px;}\n",
       ".datatable .frame tbody td { text-align: left; }\n",
       ".datatable .frame tr.coltypes .row_index {  background: var(--jp-border-color0);}\n",
       ".datatable th:nth-child(2) { padding-left: 12px; }\n",
       ".datatable .hellipsis {  color: var(--jp-cell-editor-border-color);}\n",
       ".datatable .vellipsis {  background: var(--jp-layout-color0);  color: var(--jp-cell-editor-border-color);}\n",
       ".datatable .na {  color: var(--jp-cell-editor-border-color);  font-size: 80%;}\n",
       ".datatable .sp {  opacity: 0.25;}\n",
       ".datatable .footer { font-size: 9px; }\n",
       ".datatable .frame_dimensions {  background: var(--jp-border-color3);  border-top: 1px solid var(--jp-border-color0);  color: var(--jp-ui-font-color3);  display: inline-block;  opacity: 0.6;  padding: 1px 10px 1px 5px;}\n",
       "</style>\n"
      ],
      "text/plain": [
       "<IPython.core.display.HTML object>"
      ]
     },
     "metadata": {},
     "output_type": "display_data"
    }
   ],
   "source": [
    "from lightgbm.sklearn import LGBMRanker"
   ]
  },
  {
   "cell_type": "code",
   "execution_count": 26,
   "id": "3f31c70b",
   "metadata": {
    "execution": {
     "iopub.execute_input": "2023-11-21T09:24:16.887072Z",
     "iopub.status.busy": "2023-11-21T09:24:16.886537Z",
     "iopub.status.idle": "2023-11-21T09:24:16.891126Z",
     "shell.execute_reply": "2023-11-21T09:24:16.890149Z"
    },
    "papermill": {
     "duration": 0.07051,
     "end_time": "2023-11-21T09:24:16.893649",
     "exception": false,
     "start_time": "2023-11-21T09:24:16.823139",
     "status": "completed"
    },
    "tags": []
   },
   "outputs": [],
   "source": [
    "ranker = LGBMRanker(\n",
    "    objective=\"lambdarank\",\n",
    "    metric=\"ndcg\",\n",
    "    boosting_type=\"dart\",\n",
    "    n_estimators=1,\n",
    "    importance_type='gain',\n",
    "    verbose=10\n",
    ")"
   ]
  },
  {
   "cell_type": "code",
   "execution_count": 27,
   "id": "79536b5c",
   "metadata": {
    "execution": {
     "iopub.execute_input": "2023-11-21T09:24:17.007797Z",
     "iopub.status.busy": "2023-11-21T09:24:17.007105Z",
     "iopub.status.idle": "2023-11-21T09:24:25.257992Z",
     "shell.execute_reply": "2023-11-21T09:24:25.257290Z"
    },
    "papermill": {
     "duration": 8.308778,
     "end_time": "2023-11-21T09:24:25.260550",
     "exception": false,
     "start_time": "2023-11-21T09:24:16.951772",
     "status": "completed"
    },
    "tags": []
   },
   "outputs": [
    {
     "name": "stdout",
     "output_type": "stream",
     "text": [
      "[LightGBM] [Warning] Found whitespace in feature_names, replace with underlines\n",
      "[LightGBM] [Debug] Dataset::GetMultiBinFromSparseFeatures: sparse rate 0.939805\n",
      "[LightGBM] [Debug] Dataset::GetMultiBinFromAllFeatures: sparse rate 0.168589\n",
      "[LightGBM] [Debug] init for col-wise cost 0.137066 seconds, init for row-wise cost 1.349010 seconds\n",
      "[LightGBM] [Warning] Auto-choosing row-wise multi-threading, the overhead of testing was 0.559538 seconds.\n",
      "You can set `force_row_wise=true` to remove the overhead.\n",
      "And if memory is not enough, you can set `force_col_wise=true`.\n",
      "[LightGBM] [Debug] Using Dense Multi-Val Bin\n",
      "[LightGBM] [Info] Total Bins 1103\n",
      "[LightGBM] [Info] Number of data points in the train set: 8635834, number of used features: 19\n",
      "[LightGBM] [Debug] Trained a tree with leaves = 31 and depth = 10\n",
      "CPU times: user 24.4 s, sys: 1.33 s, total: 25.7 s\n",
      "Wall time: 8.24 s\n"
     ]
    }
   ],
   "source": [
    "%%time\n",
    "\n",
    "ranker = ranker.fit(\n",
    "    train_X,\n",
    "    train_y,\n",
    "    group=train_baskets,\n",
    ")"
   ]
  },
  {
   "cell_type": "code",
   "execution_count": 28,
   "id": "3ac990d9",
   "metadata": {
    "execution": {
     "iopub.execute_input": "2023-11-21T09:24:25.373946Z",
     "iopub.status.busy": "2023-11-21T09:24:25.373410Z",
     "iopub.status.idle": "2023-11-21T09:24:25.387783Z",
     "shell.execute_reply": "2023-11-21T09:24:25.387162Z"
    },
    "papermill": {
     "duration": 0.07359,
     "end_time": "2023-11-21T09:24:25.389740",
     "exception": false,
     "start_time": "2023-11-21T09:24:25.316150",
     "status": "completed"
    },
    "tags": []
   },
   "outputs": [
    {
     "name": "stdout",
     "output_type": "stream",
     "text": [
      "article_id 0.5199963947090402\n",
      "product_type_no 0.14014272728421925\n",
      "department_no 0.09532508756804196\n",
      "garment_group_no 0.09189725815909089\n",
      "bestseller_rank 0.08941498426749918\n",
      "index_group_no 0.02646477552387221\n",
      "colour_group_code 0.01553369685665219\n",
      "section_no 0.013800773347267798\n",
      "mean price purchases 0.007424302284316233\n",
      "FN 0.0\n",
      "most_present_gender_in_area 0.0\n",
      "Active 0.0\n",
      "index_code 0.0\n",
      "club_member_status 0.0\n",
      "perceived_colour_master_id 0.0\n",
      "perceived_colour_value_id 0.0\n",
      "fashion_news_frequency 0.0\n",
      "graphical_appearance_no 0.0\n",
      "median_age_area 0.0\n"
     ]
    }
   ],
   "source": [
    "for i in ranker.feature_importances_.argsort()[::-1]:\n",
    "    print(columns_to_use[i], ranker.feature_importances_[i]/ranker.feature_importances_.sum())"
   ]
  },
  {
   "cell_type": "markdown",
   "id": "738a00c2",
   "metadata": {
    "papermill": {
     "duration": 0.055821,
     "end_time": "2023-11-21T09:24:25.502247",
     "exception": false,
     "start_time": "2023-11-21T09:24:25.446426",
     "status": "completed"
    },
    "tags": []
   },
   "source": [
    "# Calculate predictions"
   ]
  },
  {
   "cell_type": "code",
   "execution_count": 29,
   "id": "79f84fe1",
   "metadata": {
    "execution": {
     "iopub.execute_input": "2023-11-21T09:24:25.617631Z",
     "iopub.status.busy": "2023-11-21T09:24:25.617311Z",
     "iopub.status.idle": "2023-11-21T09:24:43.238767Z",
     "shell.execute_reply": "2023-11-21T09:24:43.238123Z"
    },
    "papermill": {
     "duration": 17.681175,
     "end_time": "2023-11-21T09:24:43.241156",
     "exception": false,
     "start_time": "2023-11-21T09:24:25.559981",
     "status": "completed"
    },
    "tags": []
   },
   "outputs": [
    {
     "name": "stdout",
     "output_type": "stream",
     "text": [
      "CPU times: user 4 µs, sys: 0 ns, total: 4 µs\n",
      "Wall time: 8.34 µs\n"
     ]
    }
   ],
   "source": [
    "%time\n",
    "\n",
    "test['preds'] = ranker.predict(test_X)\n",
    "\n",
    "c_id2predicted_article_ids = test \\\n",
    "    .sort_values(['customer_id', 'preds'], ascending=False) \\\n",
    "    .groupby('customer_id')['article_id'].apply(list).to_dict()\n",
    "\n",
    "bestsellers_september_all = \\\n",
    "    bestsellers_september[bestsellers_september.week == bestsellers_september.week.max()]['article_id'].tolist()"
   ]
  },
  {
   "cell_type": "markdown",
   "id": "fdadfe1a",
   "metadata": {
    "papermill": {
     "duration": 0.055871,
     "end_time": "2023-11-21T09:24:43.354596",
     "exception": false,
     "start_time": "2023-11-21T09:24:43.298725",
     "status": "completed"
    },
    "tags": []
   },
   "source": [
    "# Create submission"
   ]
  },
  {
   "cell_type": "code",
   "execution_count": 30,
   "id": "5fdb75aa",
   "metadata": {
    "execution": {
     "iopub.execute_input": "2023-11-21T09:24:43.469053Z",
     "iopub.status.busy": "2023-11-21T09:24:43.468589Z",
     "iopub.status.idle": "2023-11-21T09:24:48.808508Z",
     "shell.execute_reply": "2023-11-21T09:24:48.807654Z"
    },
    "papermill": {
     "duration": 5.400234,
     "end_time": "2023-11-21T09:24:48.811152",
     "exception": false,
     "start_time": "2023-11-21T09:24:43.410918",
     "status": "completed"
    },
    "tags": []
   },
   "outputs": [],
   "source": [
    "sub = pd.read_csv('/kaggle/input/h-and-m-personalized-fashion-recommendations/sample_submission.csv')"
   ]
  },
  {
   "cell_type": "code",
   "execution_count": 31,
   "id": "829b1ba9",
   "metadata": {
    "execution": {
     "iopub.execute_input": "2023-11-21T09:24:48.930404Z",
     "iopub.status.busy": "2023-11-21T09:24:48.929737Z",
     "iopub.status.idle": "2023-11-21T09:24:55.619720Z",
     "shell.execute_reply": "2023-11-21T09:24:55.618714Z"
    },
    "papermill": {
     "duration": 6.752328,
     "end_time": "2023-11-21T09:24:55.622273",
     "exception": false,
     "start_time": "2023-11-21T09:24:48.869945",
     "status": "completed"
    },
    "tags": []
   },
   "outputs": [
    {
     "name": "stdout",
     "output_type": "stream",
     "text": [
      "CPU times: user 6.46 s, sys: 227 ms, total: 6.68 s\n",
      "Wall time: 6.68 s\n"
     ]
    }
   ],
   "source": [
    "%%time\n",
    "preds = []\n",
    "for c_id in customer_hex_id_to_int(sub.customer_id):\n",
    "    pred = c_id2predicted_article_ids.get(c_id, [])\n",
    "    pred = pred + bestsellers_september_all\n",
    "    preds.append(pred[:12])"
   ]
  },
  {
   "cell_type": "code",
   "execution_count": 32,
   "id": "cb25c445",
   "metadata": {
    "execution": {
     "iopub.execute_input": "2023-11-21T09:24:55.738421Z",
     "iopub.status.busy": "2023-11-21T09:24:55.738105Z",
     "iopub.status.idle": "2023-11-21T09:25:03.016997Z",
     "shell.execute_reply": "2023-11-21T09:25:03.015960Z"
    },
    "papermill": {
     "duration": 7.339632,
     "end_time": "2023-11-21T09:25:03.019742",
     "exception": false,
     "start_time": "2023-11-21T09:24:55.680110",
     "status": "completed"
    },
    "tags": []
   },
   "outputs": [],
   "source": [
    "preds = [' '.join(['0' + str(p) for p in ps]) for ps in preds]\n",
    "sub.prediction = preds"
   ]
  },
  {
   "cell_type": "code",
   "execution_count": 33,
   "id": "6d30274b",
   "metadata": {
    "execution": {
     "iopub.execute_input": "2023-11-21T09:25:03.133626Z",
     "iopub.status.busy": "2023-11-21T09:25:03.133302Z",
     "iopub.status.idle": "2023-11-21T09:25:16.530105Z",
     "shell.execute_reply": "2023-11-21T09:25:16.529091Z"
    },
    "papermill": {
     "duration": 13.457462,
     "end_time": "2023-11-21T09:25:16.532656",
     "exception": false,
     "start_time": "2023-11-21T09:25:03.075194",
     "status": "completed"
    },
    "tags": []
   },
   "outputs": [],
   "source": [
    "sub_name = 'submission'\n",
    "sub.to_csv(f'{sub_name}.csv', index=False)"
   ]
  }
 ],
 "metadata": {
  "kaggle": {
   "accelerator": "none",
   "dataSources": [
    {
     "databundleVersionId": 3103714,
     "sourceId": 31254,
     "sourceType": "competition"
    },
    {
     "datasetId": 3840849,
     "sourceId": 6655455,
     "sourceType": "datasetVersion"
    },
    {
     "datasetId": 3967857,
     "sourceId": 6908916,
     "sourceType": "datasetVersion"
    },
    {
     "sourceId": 93163345,
     "sourceType": "kernelVersion"
    }
   ],
   "dockerImageVersionId": 30178,
   "isGpuEnabled": false,
   "isInternetEnabled": true,
   "language": "python",
   "sourceType": "notebook"
  },
  "kernelspec": {
   "display_name": "Python 3",
   "language": "python",
   "name": "python3"
  },
  "language_info": {
   "codemirror_mode": {
    "name": "ipython",
    "version": 3
   },
   "file_extension": ".py",
   "mimetype": "text/x-python",
   "name": "python",
   "nbconvert_exporter": "python",
   "pygments_lexer": "ipython3",
   "version": "3.7.12"
  },
  "papermill": {
   "default_parameters": {},
   "duration": 273.386649,
   "end_time": "2023-11-21T09:25:18.314980",
   "environment_variables": {},
   "exception": null,
   "input_path": "__notebook__.ipynb",
   "output_path": "__notebook__.ipynb",
   "parameters": {},
   "start_time": "2023-11-21T09:20:44.928331",
   "version": "2.3.4"
  }
 },
 "nbformat": 4,
 "nbformat_minor": 5
}
