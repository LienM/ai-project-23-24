{
 "cells": [
  {
   "cell_type": "markdown",
   "id": "7d5d60a4",
   "metadata": {
    "papermill": {
     "duration": 0.051458,
     "end_time": "2023-11-20T19:12:35.737540",
     "exception": false,
     "start_time": "2023-11-20T19:12:35.686082",
     "status": "completed"
    },
    "tags": []
   },
   "source": [
    "Radek posted about this [here](https://www.kaggle.com/competitions/h-and-m-personalized-fashion-recommendations/discussion/309220), and linked to a GitHub repo with the code.\n",
    "\n",
    "I just transferred that code here to Kaggle notebooks, that's all."
   ]
  },
  {
   "cell_type": "code",
   "execution_count": 1,
   "id": "6e1101e4",
   "metadata": {
    "execution": {
     "iopub.execute_input": "2023-11-20T19:12:35.839412Z",
     "iopub.status.busy": "2023-11-20T19:12:35.838958Z",
     "iopub.status.idle": "2023-11-20T19:12:35.858025Z",
     "shell.execute_reply": "2023-11-20T19:12:35.857080Z"
    },
    "papermill": {
     "duration": 0.07363,
     "end_time": "2023-11-20T19:12:35.861319",
     "exception": false,
     "start_time": "2023-11-20T19:12:35.787689",
     "status": "completed"
    },
    "tags": []
   },
   "outputs": [],
   "source": [
    "import numpy as np\n",
    "\n",
    "def apk(actual, predicted, k=10):\n",
    "    \"\"\"\n",
    "    Computes the average precision at k.\n",
    "\n",
    "    This function computes the average prescision at k between two lists of\n",
    "    items.\n",
    "\n",
    "    Parameters\n",
    "    ----------\n",
    "    actual : list\n",
    "             A list of elements that are to be predicted (order doesn't matter)\n",
    "    predicted : list\n",
    "                A list of predicted elements (order does matter)\n",
    "    k : int, optional\n",
    "        The maximum number of predicted elements\n",
    "\n",
    "    Returns\n",
    "    -------\n",
    "    score : double\n",
    "            The average precision at k over the input lists\n",
    "\n",
    "    \"\"\"\n",
    "    if len(predicted)>k:\n",
    "        predicted = predicted[:k]\n",
    "\n",
    "    score = 0.0\n",
    "    num_hits = 0.0\n",
    "\n",
    "    for i,p in enumerate(predicted):\n",
    "        if p in actual and p not in predicted[:i]:\n",
    "            num_hits += 1.0\n",
    "            score += num_hits / (i+1.0)\n",
    "\n",
    "    if not actual:\n",
    "        return 0.0\n",
    "\n",
    "    return score / min(len(actual), k)\n",
    "\n",
    "def mapk(actual, predicted, k=10):\n",
    "    \"\"\"\n",
    "    Computes the mean average precision at k.\n",
    "\n",
    "    This function computes the mean average prescision at k between two lists\n",
    "    of lists of items.\n",
    "\n",
    "    Parameters\n",
    "    ----------\n",
    "    actual : list\n",
    "             A list of lists of elements that are to be predicted \n",
    "             (order doesn't matter in the lists)\n",
    "    predicted : list\n",
    "                A list of lists of predicted elements\n",
    "                (order matters in the lists)\n",
    "    k : int, optional\n",
    "        The maximum number of predicted elements\n",
    "\n",
    "    Returns\n",
    "    -------\n",
    "    score : double\n",
    "            The mean average precision at k over the input lists\n",
    "\n",
    "    \"\"\"\n",
    "    return np.mean([apk(a,p,k) for a,p in zip(actual, predicted)])"
   ]
  },
  {
   "cell_type": "code",
   "execution_count": 2,
   "id": "d2fb071b",
   "metadata": {
    "execution": {
     "iopub.execute_input": "2023-11-20T19:12:35.961266Z",
     "iopub.status.busy": "2023-11-20T19:12:35.960952Z",
     "iopub.status.idle": "2023-11-20T19:12:37.101821Z",
     "shell.execute_reply": "2023-11-20T19:12:37.100691Z"
    },
    "papermill": {
     "duration": 1.194892,
     "end_time": "2023-11-20T19:12:37.105074",
     "exception": false,
     "start_time": "2023-11-20T19:12:35.910182",
     "status": "completed"
    },
    "tags": []
   },
   "outputs": [],
   "source": [
    "from sklearn.base import BaseEstimator, TransformerMixin\n",
    "import numpy as np\n",
    "\n",
    "# https://www.kaggle.com/c/h-and-m-personalized-fashion-recommendations/discussion/308635\n",
    "def customer_hex_id_to_int(series):\n",
    "    return series.str[-16:].apply(hex_id_to_int)\n",
    "\n",
    "def hex_id_to_int(str):\n",
    "    return int(str[-16:], 16)\n",
    "\n",
    "def article_id_str_to_int(series):\n",
    "    return series.astype('int32')\n",
    "\n",
    "def article_id_int_to_str(series):\n",
    "    return '0' + series.astype('str')\n",
    "\n",
    "class Categorize(BaseEstimator, TransformerMixin):\n",
    "    def __init__(self, min_examples=0):\n",
    "        self.min_examples = min_examples\n",
    "        self.categories = []\n",
    "        \n",
    "    def fit(self, X):\n",
    "        for i in range(X.shape[1]):\n",
    "            vc = X.iloc[:, i].value_counts()\n",
    "            self.categories.append(vc[vc > self.min_examples].index.tolist())\n",
    "        return self\n",
    "\n",
    "    def transform(self, X):\n",
    "        data = {X.columns[i]: pd.Categorical(X.iloc[:, i], categories=self.categories[i]).codes for i in range(X.shape[1])}\n",
    "        return pd.DataFrame(data=data)\n",
    "\n",
    "\n",
    "def calculate_apk(list_of_preds, list_of_gts):\n",
    "    # for fast validation this can be changed to operate on dicts of {'cust_id_int': [art_id_int, ...]}\n",
    "    # using 'data/val_week_purchases_by_cust.pkl'\n",
    "    apks = []\n",
    "    for preds, gt in zip(list_of_preds, list_of_gts):\n",
    "        apks.append(apk(gt, preds, k=12))\n",
    "    return np.mean(apks)\n",
    "\n",
    "def eval_sub(sub_csv, skip_cust_with_no_purchases=True):\n",
    "    sub=pd.read_csv(sub_csv)\n",
    "    validation_set=pd.read_parquet('data/validation_ground_truth.parquet')\n",
    "\n",
    "    apks = []\n",
    "\n",
    "    no_purchases_pattern = []\n",
    "    for pred, gt in zip(sub.prediction.str.split(), validation_set.prediction.str.split()):\n",
    "        if skip_cust_with_no_purchases and (gt == no_purchases_pattern): continue\n",
    "        apks.append(apk(gt, pred, k=12))\n",
    "    return np.mean(apks)"
   ]
  },
  {
   "cell_type": "code",
   "execution_count": 3,
   "id": "ce1f8f78",
   "metadata": {
    "execution": {
     "iopub.execute_input": "2023-11-20T19:12:37.208518Z",
     "iopub.status.busy": "2023-11-20T19:12:37.208210Z",
     "iopub.status.idle": "2023-11-20T19:12:37.212850Z",
     "shell.execute_reply": "2023-11-20T19:12:37.211772Z"
    },
    "papermill": {
     "duration": 0.05767,
     "end_time": "2023-11-20T19:12:37.215110",
     "exception": false,
     "start_time": "2023-11-20T19:12:37.157440",
     "status": "completed"
    },
    "tags": []
   },
   "outputs": [],
   "source": [
    "import pandas as pd"
   ]
  },
  {
   "cell_type": "code",
   "execution_count": 4,
   "id": "467b8cdc",
   "metadata": {
    "execution": {
     "iopub.execute_input": "2023-11-20T19:12:37.315821Z",
     "iopub.status.busy": "2023-11-20T19:12:37.315257Z",
     "iopub.status.idle": "2023-11-20T19:12:48.141208Z",
     "shell.execute_reply": "2023-11-20T19:12:48.140338Z"
    },
    "papermill": {
     "duration": 10.880804,
     "end_time": "2023-11-20T19:12:48.144871",
     "exception": false,
     "start_time": "2023-11-20T19:12:37.264067",
     "status": "completed"
    },
    "tags": []
   },
   "outputs": [
    {
     "name": "stdout",
     "output_type": "stream",
     "text": [
      "CPU times: user 2.53 s, sys: 6.04 s, total: 8.56 s\n",
      "Wall time: 10.8 s\n"
     ]
    }
   ],
   "source": [
    "%%time\n",
    "\n",
    "transactions = pd.read_parquet('../input/warmup/transactions_train.parquet')\n",
    "customers = pd.read_parquet('../input/parquet-new-assignement/new_customer_one.parquet')\n",
    "articles = pd.read_parquet('../input/parquet-new-assignement/new_articles_one.parquet')\n",
    "\n",
    "# sample = 0.05\n",
    "# transactions = pd.read_parquet(f'data/transactions_train_sample_{sample}.parquet')\n",
    "# customers = pd.read_parquet(f'data/customers_sample_{sample}.parquet')\n",
    "# articles = pd.read_parquet(f'data/articles_train_sample_{sample}.parquet')"
   ]
  },
  {
   "cell_type": "code",
   "execution_count": 5,
   "id": "97930c26",
   "metadata": {
    "execution": {
     "iopub.execute_input": "2023-11-20T19:12:48.252548Z",
     "iopub.status.busy": "2023-11-20T19:12:48.252186Z",
     "iopub.status.idle": "2023-11-20T19:12:51.456154Z",
     "shell.execute_reply": "2023-11-20T19:12:51.455049Z"
    },
    "papermill": {
     "duration": 3.258023,
     "end_time": "2023-11-20T19:12:51.459322",
     "exception": false,
     "start_time": "2023-11-20T19:12:48.201299",
     "status": "completed"
    },
    "tags": []
   },
   "outputs": [],
   "source": [
    "#adding of the column week to the dataframe transactions\n",
    "transactions.t_dat = pd.to_datetime(transactions.t_dat, format='%Y-%m-%d')\n",
    "transactions['week'] = 104 - (transactions.t_dat.max() - transactions.t_dat).dt.days // 7"
   ]
  },
  {
   "cell_type": "code",
   "execution_count": 6,
   "id": "858167ce",
   "metadata": {
    "execution": {
     "iopub.execute_input": "2023-11-20T19:12:51.568060Z",
     "iopub.status.busy": "2023-11-20T19:12:51.567721Z",
     "iopub.status.idle": "2023-11-20T19:12:51.616796Z",
     "shell.execute_reply": "2023-11-20T19:12:51.615355Z"
    },
    "papermill": {
     "duration": 0.107879,
     "end_time": "2023-11-20T19:12:51.620036",
     "exception": false,
     "start_time": "2023-11-20T19:12:51.512157",
     "status": "completed"
    },
    "tags": []
   },
   "outputs": [],
   "source": [
    "#definition of the week for test\n",
    "test_week = transactions.week.max() + 1 \n",
    "#transactions = transactions[transactions.week > transactions.week.max() - 10]"
   ]
  },
  {
   "cell_type": "markdown",
   "id": "d941600b",
   "metadata": {
    "papermill": {
     "duration": 0.055318,
     "end_time": "2023-11-20T19:12:51.726813",
     "exception": false,
     "start_time": "2023-11-20T19:12:51.671495",
     "status": "completed"
    },
    "tags": []
   },
   "source": [
    "# Generating candidates"
   ]
  },
  {
   "cell_type": "markdown",
   "id": "a7d17592",
   "metadata": {
    "papermill": {
     "duration": 0.053168,
     "end_time": "2023-11-20T19:12:51.835239",
     "exception": false,
     "start_time": "2023-11-20T19:12:51.782071",
     "status": "completed"
    },
    "tags": []
   },
   "source": [
    "### Last purchase candidates"
   ]
  },
  {
   "cell_type": "code",
   "execution_count": 7,
   "id": "b94cab38",
   "metadata": {
    "execution": {
     "iopub.execute_input": "2023-11-20T19:12:51.943600Z",
     "iopub.status.busy": "2023-11-20T19:12:51.943278Z",
     "iopub.status.idle": "2023-11-20T19:13:01.515330Z",
     "shell.execute_reply": "2023-11-20T19:13:01.514240Z"
    },
    "papermill": {
     "duration": 9.629158,
     "end_time": "2023-11-20T19:13:01.518489",
     "exception": false,
     "start_time": "2023-11-20T19:12:51.889331",
     "status": "completed"
    },
    "tags": []
   },
   "outputs": [],
   "source": [
    "'''deciding to work only with data of the months of September since probably articles\n",
    "bought in this period could be the same and then the reccomendation could be more \n",
    "related also to the period in which we need to give them'''\n",
    "\n",
    "#filtering only the weeks of the month of semptember for the years 2018-2020\n",
    "filtered_transactions = transactions[(transactions['week'] == 104) | (transactions['week'] == 103)]\n",
    "\n",
    "#groupby of candidates based on the customer_id and extraction of weeks\n",
    "c2weeks = filtered_transactions.groupby('customer_id')['week'].unique()\n",
    "\n",
    "#creation of a dictionary for shifted weeks\n",
    "c2weeks2shifted_weeks = {}\n",
    "candidates_last_purchase_september = filtered_transactions.copy()\n",
    "\n",
    "for c_id, weeks in c2weeks.items():\n",
    "    c2weeks2shifted_weeks[c_id] = {}\n",
    "    for i in range(weeks.shape[0]-1):\n",
    "        c2weeks2shifted_weeks[c_id][weeks[i]] = weeks[i+1]\n",
    "    c2weeks2shifted_weeks[c_id][weeks[-1]] = test_week\n",
    "\n",
    "#update of the dataframe candidates_last_purchase_september\n",
    "weeks = []\n",
    "for i, (c_id, week) in enumerate(zip(filtered_transactions['customer_id'], filtered_transactions['week'])):\n",
    "    weeks.append(c2weeks2shifted_weeks[c_id][week])\n",
    "    \n",
    "candidates_last_purchase_september.week = weeks"
   ]
  },
  {
   "cell_type": "markdown",
   "id": "5a38954a",
   "metadata": {
    "papermill": {
     "duration": 0.050496,
     "end_time": "2023-11-20T19:13:01.622428",
     "exception": false,
     "start_time": "2023-11-20T19:13:01.571932",
     "status": "completed"
    },
    "tags": []
   },
   "source": [
    "### candidates"
   ]
  },
  {
   "cell_type": "code",
   "execution_count": 8,
   "id": "b909622d",
   "metadata": {
    "execution": {
     "iopub.execute_input": "2023-11-20T19:13:01.723715Z",
     "iopub.status.busy": "2023-11-20T19:13:01.723373Z",
     "iopub.status.idle": "2023-11-20T19:13:01.804023Z",
     "shell.execute_reply": "2023-11-20T19:13:01.802926Z"
    },
    "papermill": {
     "duration": 0.135292,
     "end_time": "2023-11-20T19:13:01.807821",
     "exception": false,
     "start_time": "2023-11-20T19:13:01.672529",
     "status": "completed"
    },
    "tags": []
   },
   "outputs": [
    {
     "data": {
      "text/html": [
       "<div>\n",
       "<style scoped>\n",
       "    .dataframe tbody tr th:only-of-type {\n",
       "        vertical-align: middle;\n",
       "    }\n",
       "\n",
       "    .dataframe tbody tr th {\n",
       "        vertical-align: top;\n",
       "    }\n",
       "\n",
       "    .dataframe thead th {\n",
       "        text-align: right;\n",
       "    }\n",
       "</style>\n",
       "<table border=\"1\" class=\"dataframe\">\n",
       "  <thead>\n",
       "    <tr style=\"text-align: right;\">\n",
       "      <th></th>\n",
       "      <th>customer_id</th>\n",
       "      <th>mean price purchases</th>\n",
       "    </tr>\n",
       "  </thead>\n",
       "  <tbody>\n",
       "    <tr>\n",
       "      <th>0</th>\n",
       "      <td>116809474287335</td>\n",
       "      <td>0.033881</td>\n",
       "    </tr>\n",
       "    <tr>\n",
       "      <th>1</th>\n",
       "      <td>272412481300040</td>\n",
       "      <td>0.037271</td>\n",
       "    </tr>\n",
       "    <tr>\n",
       "      <th>2</th>\n",
       "      <td>690285180337957</td>\n",
       "      <td>0.033881</td>\n",
       "    </tr>\n",
       "    <tr>\n",
       "      <th>3</th>\n",
       "      <td>1200402310946735</td>\n",
       "      <td>0.042356</td>\n",
       "    </tr>\n",
       "    <tr>\n",
       "      <th>4</th>\n",
       "      <td>1219588721247131</td>\n",
       "      <td>0.031339</td>\n",
       "    </tr>\n",
       "    <tr>\n",
       "      <th>...</th>\n",
       "      <td>...</td>\n",
       "      <td>...</td>\n",
       "    </tr>\n",
       "    <tr>\n",
       "      <th>128328</th>\n",
       "      <td>18445641720816255142</td>\n",
       "      <td>0.056884</td>\n",
       "    </tr>\n",
       "    <tr>\n",
       "      <th>128329</th>\n",
       "      <td>18446250046654386343</td>\n",
       "      <td>0.033881</td>\n",
       "    </tr>\n",
       "    <tr>\n",
       "      <th>128330</th>\n",
       "      <td>18446420423308293068</td>\n",
       "      <td>0.024842</td>\n",
       "    </tr>\n",
       "    <tr>\n",
       "      <th>128331</th>\n",
       "      <td>18446630855572834764</td>\n",
       "      <td>0.061000</td>\n",
       "    </tr>\n",
       "    <tr>\n",
       "      <th>128332</th>\n",
       "      <td>18446737527580148316</td>\n",
       "      <td>0.023712</td>\n",
       "    </tr>\n",
       "  </tbody>\n",
       "</table>\n",
       "<p>128333 rows × 2 columns</p>\n",
       "</div>"
      ],
      "text/plain": [
       "                 customer_id  mean price purchases\n",
       "0            116809474287335              0.033881\n",
       "1            272412481300040              0.037271\n",
       "2            690285180337957              0.033881\n",
       "3           1200402310946735              0.042356\n",
       "4           1219588721247131              0.031339\n",
       "...                      ...                   ...\n",
       "128328  18445641720816255142              0.056884\n",
       "128329  18446250046654386343              0.033881\n",
       "128330  18446420423308293068              0.024842\n",
       "128331  18446630855572834764              0.061000\n",
       "128332  18446737527580148316              0.023712\n",
       "\n",
       "[128333 rows x 2 columns]"
      ]
     },
     "execution_count": 8,
     "metadata": {},
     "output_type": "execute_result"
    }
   ],
   "source": [
    "#creation of the mean price of purchases for each candidate only in the filtered transactions\n",
    "mean_price_purchases = filtered_transactions.groupby('customer_id')['price'].mean().rename('mean price purchases').reset_index()\n",
    "mean_price_purchases"
   ]
  },
  {
   "cell_type": "code",
   "execution_count": 9,
   "id": "e6f8cab0",
   "metadata": {
    "execution": {
     "iopub.execute_input": "2023-11-20T19:13:01.910925Z",
     "iopub.status.busy": "2023-11-20T19:13:01.910608Z",
     "iopub.status.idle": "2023-11-20T19:13:04.509476Z",
     "shell.execute_reply": "2023-11-20T19:13:04.508304Z"
    },
    "papermill": {
     "duration": 2.653792,
     "end_time": "2023-11-20T19:13:04.512243",
     "exception": false,
     "start_time": "2023-11-20T19:13:01.858451",
     "status": "completed"
    },
    "tags": []
   },
   "outputs": [
    {
     "data": {
      "text/html": [
       "<div>\n",
       "<style scoped>\n",
       "    .dataframe tbody tr th:only-of-type {\n",
       "        vertical-align: middle;\n",
       "    }\n",
       "\n",
       "    .dataframe tbody tr th {\n",
       "        vertical-align: top;\n",
       "    }\n",
       "\n",
       "    .dataframe thead th {\n",
       "        text-align: right;\n",
       "    }\n",
       "</style>\n",
       "<table border=\"1\" class=\"dataframe\">\n",
       "  <thead>\n",
       "    <tr style=\"text-align: right;\">\n",
       "      <th></th>\n",
       "      <th>customer_id</th>\n",
       "      <th>most_present_gender_in_area</th>\n",
       "    </tr>\n",
       "  </thead>\n",
       "  <tbody>\n",
       "    <tr>\n",
       "      <th>0</th>\n",
       "      <td>4245900472157</td>\n",
       "      <td>2</td>\n",
       "    </tr>\n",
       "    <tr>\n",
       "      <th>1</th>\n",
       "      <td>23962613628581</td>\n",
       "      <td>0</td>\n",
       "    </tr>\n",
       "    <tr>\n",
       "      <th>2</th>\n",
       "      <td>25398598941468</td>\n",
       "      <td>2</td>\n",
       "    </tr>\n",
       "    <tr>\n",
       "      <th>3</th>\n",
       "      <td>28847241659200</td>\n",
       "      <td>2</td>\n",
       "    </tr>\n",
       "    <tr>\n",
       "      <th>4</th>\n",
       "      <td>41046458195168</td>\n",
       "      <td>2</td>\n",
       "    </tr>\n",
       "    <tr>\n",
       "      <th>...</th>\n",
       "      <td>...</td>\n",
       "      <td>...</td>\n",
       "    </tr>\n",
       "    <tr>\n",
       "      <th>1371975</th>\n",
       "      <td>18446630855572834764</td>\n",
       "      <td>0</td>\n",
       "    </tr>\n",
       "    <tr>\n",
       "      <th>1371976</th>\n",
       "      <td>18446662237889060501</td>\n",
       "      <td>2</td>\n",
       "    </tr>\n",
       "    <tr>\n",
       "      <th>1371977</th>\n",
       "      <td>18446705133201055310</td>\n",
       "      <td>0</td>\n",
       "    </tr>\n",
       "    <tr>\n",
       "      <th>1371978</th>\n",
       "      <td>18446723086055369602</td>\n",
       "      <td>2</td>\n",
       "    </tr>\n",
       "    <tr>\n",
       "      <th>1371979</th>\n",
       "      <td>18446737527580148316</td>\n",
       "      <td>1</td>\n",
       "    </tr>\n",
       "  </tbody>\n",
       "</table>\n",
       "<p>1371980 rows × 2 columns</p>\n",
       "</div>"
      ],
      "text/plain": [
       "                  customer_id  most_present_gender_in_area\n",
       "0               4245900472157                            2\n",
       "1              23962613628581                            0\n",
       "2              25398598941468                            2\n",
       "3              28847241659200                            2\n",
       "4              41046458195168                            2\n",
       "...                       ...                          ...\n",
       "1371975  18446630855572834764                            0\n",
       "1371976  18446662237889060501                            2\n",
       "1371977  18446705133201055310                            0\n",
       "1371978  18446723086055369602                            2\n",
       "1371979  18446737527580148316                            1\n",
       "\n",
       "[1371980 rows x 2 columns]"
      ]
     },
     "execution_count": 9,
     "metadata": {},
     "output_type": "execute_result"
    }
   ],
   "source": [
    "#identification of the gender group that is the most present in a specific geographic area\n",
    "most_present_gender = customers.groupby(['customer_id', 'postal_code', 'numerical_gender']).size().reset_index(name='count')\n",
    "idx = most_present_gender.groupby(['customer_id', 'postal_code'])['count'].transform(max) == most_present_gender['count']\n",
    "most_present_gender = most_present_gender[idx][['customer_id', 'postal_code', 'numerical_gender']]\n",
    "most_present_gender = most_present_gender.rename(columns = {'numerical_gender': 'most_present_gender_in_area'})\n",
    "most_present_gender.drop(columns = 'postal_code', inplace = True)\n",
    "most_present_gender"
   ]
  },
  {
   "cell_type": "code",
   "execution_count": 10,
   "id": "8c4a9bac",
   "metadata": {
    "execution": {
     "iopub.execute_input": "2023-11-20T19:13:04.618917Z",
     "iopub.status.busy": "2023-11-20T19:13:04.618558Z",
     "iopub.status.idle": "2023-11-20T19:13:06.721774Z",
     "shell.execute_reply": "2023-11-20T19:13:06.720715Z"
    },
    "papermill": {
     "duration": 2.159222,
     "end_time": "2023-11-20T19:13:06.725087",
     "exception": false,
     "start_time": "2023-11-20T19:13:04.565865",
     "status": "completed"
    },
    "tags": []
   },
   "outputs": [
    {
     "data": {
      "text/html": [
       "<div>\n",
       "<style scoped>\n",
       "    .dataframe tbody tr th:only-of-type {\n",
       "        vertical-align: middle;\n",
       "    }\n",
       "\n",
       "    .dataframe tbody tr th {\n",
       "        vertical-align: top;\n",
       "    }\n",
       "\n",
       "    .dataframe thead th {\n",
       "        text-align: right;\n",
       "    }\n",
       "</style>\n",
       "<table border=\"1\" class=\"dataframe\">\n",
       "  <thead>\n",
       "    <tr style=\"text-align: right;\">\n",
       "      <th></th>\n",
       "      <th>customer_id</th>\n",
       "      <th>median_age_area</th>\n",
       "    </tr>\n",
       "  </thead>\n",
       "  <tbody>\n",
       "    <tr>\n",
       "      <th>0</th>\n",
       "      <td>4245900472157</td>\n",
       "      <td>21.0</td>\n",
       "    </tr>\n",
       "    <tr>\n",
       "      <th>1</th>\n",
       "      <td>23962613628581</td>\n",
       "      <td>34.0</td>\n",
       "    </tr>\n",
       "    <tr>\n",
       "      <th>2</th>\n",
       "      <td>25398598941468</td>\n",
       "      <td>21.0</td>\n",
       "    </tr>\n",
       "    <tr>\n",
       "      <th>3</th>\n",
       "      <td>28847241659200</td>\n",
       "      <td>21.0</td>\n",
       "    </tr>\n",
       "    <tr>\n",
       "      <th>4</th>\n",
       "      <td>41046458195168</td>\n",
       "      <td>18.0</td>\n",
       "    </tr>\n",
       "    <tr>\n",
       "      <th>...</th>\n",
       "      <td>...</td>\n",
       "      <td>...</td>\n",
       "    </tr>\n",
       "    <tr>\n",
       "      <th>1371975</th>\n",
       "      <td>18446630855572834764</td>\n",
       "      <td>33.0</td>\n",
       "    </tr>\n",
       "    <tr>\n",
       "      <th>1371976</th>\n",
       "      <td>18446662237889060501</td>\n",
       "      <td>75.0</td>\n",
       "    </tr>\n",
       "    <tr>\n",
       "      <th>1371977</th>\n",
       "      <td>18446705133201055310</td>\n",
       "      <td>60.0</td>\n",
       "    </tr>\n",
       "    <tr>\n",
       "      <th>1371978</th>\n",
       "      <td>18446723086055369602</td>\n",
       "      <td>33.0</td>\n",
       "    </tr>\n",
       "    <tr>\n",
       "      <th>1371979</th>\n",
       "      <td>18446737527580148316</td>\n",
       "      <td>60.0</td>\n",
       "    </tr>\n",
       "  </tbody>\n",
       "</table>\n",
       "<p>1371980 rows × 2 columns</p>\n",
       "</div>"
      ],
      "text/plain": [
       "                  customer_id  median_age_area\n",
       "0               4245900472157             21.0\n",
       "1              23962613628581             34.0\n",
       "2              25398598941468             21.0\n",
       "3              28847241659200             21.0\n",
       "4              41046458195168             18.0\n",
       "...                       ...              ...\n",
       "1371975  18446630855572834764             33.0\n",
       "1371976  18446662237889060501             75.0\n",
       "1371977  18446705133201055310             60.0\n",
       "1371978  18446723086055369602             33.0\n",
       "1371979  18446737527580148316             60.0\n",
       "\n",
       "[1371980 rows x 2 columns]"
      ]
     },
     "execution_count": 10,
     "metadata": {},
     "output_type": "execute_result"
    }
   ],
   "source": [
    "#identification of the medium age for geographic area\n",
    "median_age = customers.groupby(['customer_id', 'postal_code'])['age'].median().reset_index(name = 'median_age_area')\n",
    "median_age.drop(columns = 'postal_code', inplace = True)\n",
    "median_age"
   ]
  },
  {
   "cell_type": "code",
   "execution_count": 11,
   "id": "080b1a36",
   "metadata": {
    "execution": {
     "iopub.execute_input": "2023-11-20T19:13:06.831628Z",
     "iopub.status.busy": "2023-11-20T19:13:06.831223Z",
     "iopub.status.idle": "2023-11-20T19:13:08.054651Z",
     "shell.execute_reply": "2023-11-20T19:13:08.053416Z"
    },
    "papermill": {
     "duration": 1.279949,
     "end_time": "2023-11-20T19:13:08.057299",
     "exception": false,
     "start_time": "2023-11-20T19:13:06.777350",
     "status": "completed"
    },
    "tags": []
   },
   "outputs": [
    {
     "data": {
      "text/plain": [
       "Index(['t_dat', 'customer_id', 'article_id', 'price', 'sales_channel_id',\n",
       "       'week', 'mean price purchases', 'most_present_gender_in_area',\n",
       "       'median_age_area'],\n",
       "      dtype='object')"
      ]
     },
     "execution_count": 11,
     "metadata": {},
     "output_type": "execute_result"
    }
   ],
   "source": [
    "candidates_definitive = pd.merge(candidates_last_purchase_september, mean_price_purchases, on = 'customer_id') #merge of values of mean fo the purchases\n",
    "candidates_definitive = pd.merge(candidates_definitive, most_present_gender, on = 'customer_id') #merge of values of the dominant gender in teh geographic area of the customer\n",
    "candidates_definitive = pd.merge(candidates_definitive, median_age, on = 'customer_id') #merge of values of the dominant gender in teh geographic area of the customer\n",
    "\n",
    "candidates_definitive.columns"
   ]
  },
  {
   "cell_type": "code",
   "execution_count": 12,
   "id": "e84f327f",
   "metadata": {
    "execution": {
     "iopub.execute_input": "2023-11-20T19:13:08.165868Z",
     "iopub.status.busy": "2023-11-20T19:13:08.165483Z",
     "iopub.status.idle": "2023-11-20T19:13:08.226905Z",
     "shell.execute_reply": "2023-11-20T19:13:08.225711Z"
    },
    "papermill": {
     "duration": 0.121083,
     "end_time": "2023-11-20T19:13:08.229842",
     "exception": false,
     "start_time": "2023-11-20T19:13:08.108759",
     "status": "completed"
    },
    "tags": []
   },
   "outputs": [],
   "source": [
    "candidates_definitive = candidates_definitive.drop_duplicates(subset = 'customer_id')"
   ]
  },
  {
   "cell_type": "code",
   "execution_count": 13,
   "id": "0cae0926",
   "metadata": {
    "execution": {
     "iopub.execute_input": "2023-11-20T19:13:08.339489Z",
     "iopub.status.busy": "2023-11-20T19:13:08.339055Z",
     "iopub.status.idle": "2023-11-20T19:13:08.370068Z",
     "shell.execute_reply": "2023-11-20T19:13:08.369333Z"
    },
    "papermill": {
     "duration": 0.089435,
     "end_time": "2023-11-20T19:13:08.372706",
     "exception": false,
     "start_time": "2023-11-20T19:13:08.283271",
     "status": "completed"
    },
    "tags": []
   },
   "outputs": [
    {
     "data": {
      "text/html": [
       "<div>\n",
       "<style scoped>\n",
       "    .dataframe tbody tr th:only-of-type {\n",
       "        vertical-align: middle;\n",
       "    }\n",
       "\n",
       "    .dataframe tbody tr th {\n",
       "        vertical-align: top;\n",
       "    }\n",
       "\n",
       "    .dataframe thead th {\n",
       "        text-align: right;\n",
       "    }\n",
       "</style>\n",
       "<table border=\"1\" class=\"dataframe\">\n",
       "  <thead>\n",
       "    <tr style=\"text-align: right;\">\n",
       "      <th></th>\n",
       "      <th>t_dat</th>\n",
       "      <th>customer_id</th>\n",
       "      <th>article_id</th>\n",
       "      <th>price</th>\n",
       "      <th>sales_channel_id</th>\n",
       "      <th>week</th>\n",
       "      <th>mean price purchases</th>\n",
       "      <th>most_present_gender_in_area</th>\n",
       "      <th>median_age_area</th>\n",
       "    </tr>\n",
       "  </thead>\n",
       "  <tbody>\n",
       "    <tr>\n",
       "      <th>0</th>\n",
       "      <td>2020-09-09</td>\n",
       "      <td>4920151714340210</td>\n",
       "      <td>564358058</td>\n",
       "      <td>0.033881</td>\n",
       "      <td>1</td>\n",
       "      <td>105</td>\n",
       "      <td>0.039178</td>\n",
       "      <td>0</td>\n",
       "      <td>52.0</td>\n",
       "    </tr>\n",
       "    <tr>\n",
       "      <th>1</th>\n",
       "      <td>2020-09-09</td>\n",
       "      <td>6611639188934298</td>\n",
       "      <td>685814003</td>\n",
       "      <td>0.030492</td>\n",
       "      <td>2</td>\n",
       "      <td>104</td>\n",
       "      <td>0.019192</td>\n",
       "      <td>1</td>\n",
       "      <td>16.0</td>\n",
       "    </tr>\n",
       "    <tr>\n",
       "      <th>2</th>\n",
       "      <td>2020-09-09</td>\n",
       "      <td>7009916629804102</td>\n",
       "      <td>933032002</td>\n",
       "      <td>0.116831</td>\n",
       "      <td>2</td>\n",
       "      <td>105</td>\n",
       "      <td>0.044220</td>\n",
       "      <td>0</td>\n",
       "      <td>50.0</td>\n",
       "    </tr>\n",
       "    <tr>\n",
       "      <th>3</th>\n",
       "      <td>2020-09-09</td>\n",
       "      <td>8383252499052781</td>\n",
       "      <td>865929007</td>\n",
       "      <td>0.016932</td>\n",
       "      <td>1</td>\n",
       "      <td>105</td>\n",
       "      <td>0.022582</td>\n",
       "      <td>0</td>\n",
       "      <td>49.0</td>\n",
       "    </tr>\n",
       "    <tr>\n",
       "      <th>4</th>\n",
       "      <td>2020-09-09</td>\n",
       "      <td>8853302310499171</td>\n",
       "      <td>915526001</td>\n",
       "      <td>0.030492</td>\n",
       "      <td>2</td>\n",
       "      <td>105</td>\n",
       "      <td>0.030492</td>\n",
       "      <td>0</td>\n",
       "      <td>19.0</td>\n",
       "    </tr>\n",
       "    <tr>\n",
       "      <th>...</th>\n",
       "      <td>...</td>\n",
       "      <td>...</td>\n",
       "      <td>...</td>\n",
       "      <td>...</td>\n",
       "      <td>...</td>\n",
       "      <td>...</td>\n",
       "      <td>...</td>\n",
       "      <td>...</td>\n",
       "      <td>...</td>\n",
       "    </tr>\n",
       "    <tr>\n",
       "      <th>128328</th>\n",
       "      <td>2020-09-22</td>\n",
       "      <td>18422784312842572958</td>\n",
       "      <td>639448011</td>\n",
       "      <td>0.050831</td>\n",
       "      <td>1</td>\n",
       "      <td>105</td>\n",
       "      <td>0.032186</td>\n",
       "      <td>2</td>\n",
       "      <td>25.0</td>\n",
       "    </tr>\n",
       "    <tr>\n",
       "      <th>128329</th>\n",
       "      <td>2020-09-22</td>\n",
       "      <td>18432411165497420051</td>\n",
       "      <td>852092002</td>\n",
       "      <td>0.015237</td>\n",
       "      <td>1</td>\n",
       "      <td>105</td>\n",
       "      <td>0.015237</td>\n",
       "      <td>2</td>\n",
       "      <td>19.0</td>\n",
       "    </tr>\n",
       "    <tr>\n",
       "      <th>128330</th>\n",
       "      <td>2020-09-22</td>\n",
       "      <td>18435221511488011015</td>\n",
       "      <td>573085055</td>\n",
       "      <td>0.033881</td>\n",
       "      <td>1</td>\n",
       "      <td>105</td>\n",
       "      <td>0.033881</td>\n",
       "      <td>0</td>\n",
       "      <td>56.0</td>\n",
       "    </tr>\n",
       "    <tr>\n",
       "      <th>128331</th>\n",
       "      <td>2020-09-22</td>\n",
       "      <td>18437941771381362708</td>\n",
       "      <td>907188001</td>\n",
       "      <td>0.050831</td>\n",
       "      <td>2</td>\n",
       "      <td>105</td>\n",
       "      <td>0.050831</td>\n",
       "      <td>2</td>\n",
       "      <td>49.0</td>\n",
       "    </tr>\n",
       "    <tr>\n",
       "      <th>128332</th>\n",
       "      <td>2020-09-22</td>\n",
       "      <td>18438270306572912089</td>\n",
       "      <td>751471043</td>\n",
       "      <td>0.033881</td>\n",
       "      <td>1</td>\n",
       "      <td>105</td>\n",
       "      <td>0.033881</td>\n",
       "      <td>0</td>\n",
       "      <td>71.0</td>\n",
       "    </tr>\n",
       "  </tbody>\n",
       "</table>\n",
       "<p>128333 rows × 9 columns</p>\n",
       "</div>"
      ],
      "text/plain": [
       "            t_dat           customer_id  article_id     price  \\\n",
       "0      2020-09-09      4920151714340210   564358058  0.033881   \n",
       "1      2020-09-09      6611639188934298   685814003  0.030492   \n",
       "2      2020-09-09      7009916629804102   933032002  0.116831   \n",
       "3      2020-09-09      8383252499052781   865929007  0.016932   \n",
       "4      2020-09-09      8853302310499171   915526001  0.030492   \n",
       "...           ...                   ...         ...       ...   \n",
       "128328 2020-09-22  18422784312842572958   639448011  0.050831   \n",
       "128329 2020-09-22  18432411165497420051   852092002  0.015237   \n",
       "128330 2020-09-22  18435221511488011015   573085055  0.033881   \n",
       "128331 2020-09-22  18437941771381362708   907188001  0.050831   \n",
       "128332 2020-09-22  18438270306572912089   751471043  0.033881   \n",
       "\n",
       "        sales_channel_id  week  mean price purchases  \\\n",
       "0                      1   105              0.039178   \n",
       "1                      2   104              0.019192   \n",
       "2                      2   105              0.044220   \n",
       "3                      1   105              0.022582   \n",
       "4                      2   105              0.030492   \n",
       "...                  ...   ...                   ...   \n",
       "128328                 1   105              0.032186   \n",
       "128329                 1   105              0.015237   \n",
       "128330                 1   105              0.033881   \n",
       "128331                 2   105              0.050831   \n",
       "128332                 1   105              0.033881   \n",
       "\n",
       "        most_present_gender_in_area  median_age_area  \n",
       "0                                 0             52.0  \n",
       "1                                 1             16.0  \n",
       "2                                 0             50.0  \n",
       "3                                 0             49.0  \n",
       "4                                 0             19.0  \n",
       "...                             ...              ...  \n",
       "128328                            2             25.0  \n",
       "128329                            2             19.0  \n",
       "128330                            0             56.0  \n",
       "128331                            2             49.0  \n",
       "128332                            0             71.0  \n",
       "\n",
       "[128333 rows x 9 columns]"
      ]
     },
     "execution_count": 13,
     "metadata": {},
     "output_type": "execute_result"
    }
   ],
   "source": [
    "#dataset about candidates in the analyzed period\n",
    "candidates_definitive.reset_index(drop = True, inplace = True)\n",
    "candidates_definitive"
   ]
  },
  {
   "cell_type": "code",
   "execution_count": 14,
   "id": "18fff6ac",
   "metadata": {
    "execution": {
     "iopub.execute_input": "2023-11-20T19:13:08.483027Z",
     "iopub.status.busy": "2023-11-20T19:13:08.482675Z",
     "iopub.status.idle": "2023-11-20T19:13:08.563753Z",
     "shell.execute_reply": "2023-11-20T19:13:08.562953Z"
    },
    "papermill": {
     "duration": 0.13889,
     "end_time": "2023-11-20T19:13:08.567222",
     "exception": false,
     "start_time": "2023-11-20T19:13:08.428332",
     "status": "completed"
    },
    "tags": []
   },
   "outputs": [
    {
     "data": {
      "text/html": [
       "<div>\n",
       "<style scoped>\n",
       "    .dataframe tbody tr th:only-of-type {\n",
       "        vertical-align: middle;\n",
       "    }\n",
       "\n",
       "    .dataframe tbody tr th {\n",
       "        vertical-align: top;\n",
       "    }\n",
       "\n",
       "    .dataframe thead th {\n",
       "        text-align: right;\n",
       "    }\n",
       "</style>\n",
       "<table border=\"1\" class=\"dataframe\">\n",
       "  <thead>\n",
       "    <tr style=\"text-align: right;\">\n",
       "      <th></th>\n",
       "      <th>t_dat</th>\n",
       "      <th>customer_id</th>\n",
       "      <th>article_id</th>\n",
       "      <th>price</th>\n",
       "      <th>sales_channel_id</th>\n",
       "      <th>week</th>\n",
       "    </tr>\n",
       "  </thead>\n",
       "  <tbody>\n",
       "    <tr>\n",
       "      <th>0</th>\n",
       "      <td>2020-09-09</td>\n",
       "      <td>4920151714340210</td>\n",
       "      <td>564358058</td>\n",
       "      <td>0.033881</td>\n",
       "      <td>1</td>\n",
       "      <td>103</td>\n",
       "    </tr>\n",
       "    <tr>\n",
       "      <th>1</th>\n",
       "      <td>2020-09-09</td>\n",
       "      <td>6611639188934298</td>\n",
       "      <td>685814003</td>\n",
       "      <td>0.030492</td>\n",
       "      <td>2</td>\n",
       "      <td>103</td>\n",
       "    </tr>\n",
       "    <tr>\n",
       "      <th>2</th>\n",
       "      <td>2020-09-09</td>\n",
       "      <td>7009916629804102</td>\n",
       "      <td>933032002</td>\n",
       "      <td>0.116831</td>\n",
       "      <td>2</td>\n",
       "      <td>103</td>\n",
       "    </tr>\n",
       "    <tr>\n",
       "      <th>3</th>\n",
       "      <td>2020-09-09</td>\n",
       "      <td>8383252499052781</td>\n",
       "      <td>865929007</td>\n",
       "      <td>0.016932</td>\n",
       "      <td>1</td>\n",
       "      <td>103</td>\n",
       "    </tr>\n",
       "    <tr>\n",
       "      <th>4</th>\n",
       "      <td>2020-09-09</td>\n",
       "      <td>8853302310499171</td>\n",
       "      <td>915526001</td>\n",
       "      <td>0.030492</td>\n",
       "      <td>2</td>\n",
       "      <td>103</td>\n",
       "    </tr>\n",
       "    <tr>\n",
       "      <th>...</th>\n",
       "      <td>...</td>\n",
       "      <td>...</td>\n",
       "      <td>...</td>\n",
       "      <td>...</td>\n",
       "      <td>...</td>\n",
       "      <td>...</td>\n",
       "    </tr>\n",
       "    <tr>\n",
       "      <th>128328</th>\n",
       "      <td>2020-09-22</td>\n",
       "      <td>18422784312842572958</td>\n",
       "      <td>639448011</td>\n",
       "      <td>0.050831</td>\n",
       "      <td>1</td>\n",
       "      <td>104</td>\n",
       "    </tr>\n",
       "    <tr>\n",
       "      <th>128329</th>\n",
       "      <td>2020-09-22</td>\n",
       "      <td>18432411165497420051</td>\n",
       "      <td>852092002</td>\n",
       "      <td>0.015237</td>\n",
       "      <td>1</td>\n",
       "      <td>104</td>\n",
       "    </tr>\n",
       "    <tr>\n",
       "      <th>128330</th>\n",
       "      <td>2020-09-22</td>\n",
       "      <td>18435221511488011015</td>\n",
       "      <td>573085055</td>\n",
       "      <td>0.033881</td>\n",
       "      <td>1</td>\n",
       "      <td>104</td>\n",
       "    </tr>\n",
       "    <tr>\n",
       "      <th>128331</th>\n",
       "      <td>2020-09-22</td>\n",
       "      <td>18437941771381362708</td>\n",
       "      <td>907188001</td>\n",
       "      <td>0.050831</td>\n",
       "      <td>2</td>\n",
       "      <td>104</td>\n",
       "    </tr>\n",
       "    <tr>\n",
       "      <th>128332</th>\n",
       "      <td>2020-09-22</td>\n",
       "      <td>18438270306572912089</td>\n",
       "      <td>751471043</td>\n",
       "      <td>0.033881</td>\n",
       "      <td>1</td>\n",
       "      <td>104</td>\n",
       "    </tr>\n",
       "  </tbody>\n",
       "</table>\n",
       "<p>128333 rows × 6 columns</p>\n",
       "</div>"
      ],
      "text/plain": [
       "            t_dat           customer_id  article_id     price  \\\n",
       "0      2020-09-09      4920151714340210   564358058  0.033881   \n",
       "1      2020-09-09      6611639188934298   685814003  0.030492   \n",
       "2      2020-09-09      7009916629804102   933032002  0.116831   \n",
       "3      2020-09-09      8383252499052781   865929007  0.016932   \n",
       "4      2020-09-09      8853302310499171   915526001  0.030492   \n",
       "...           ...                   ...         ...       ...   \n",
       "128328 2020-09-22  18422784312842572958   639448011  0.050831   \n",
       "128329 2020-09-22  18432411165497420051   852092002  0.015237   \n",
       "128330 2020-09-22  18435221511488011015   573085055  0.033881   \n",
       "128331 2020-09-22  18437941771381362708   907188001  0.050831   \n",
       "128332 2020-09-22  18438270306572912089   751471043  0.033881   \n",
       "\n",
       "        sales_channel_id  week  \n",
       "0                      1   103  \n",
       "1                      2   103  \n",
       "2                      2   103  \n",
       "3                      1   103  \n",
       "4                      2   103  \n",
       "...                  ...   ...  \n",
       "128328                 1   104  \n",
       "128329                 1   104  \n",
       "128330                 1   104  \n",
       "128331                 2   104  \n",
       "128332                 1   104  \n",
       "\n",
       "[128333 rows x 6 columns]"
      ]
     },
     "execution_count": 14,
     "metadata": {},
     "output_type": "execute_result"
    }
   ],
   "source": [
    "#test set about transactions\n",
    "test_set_transactions = filtered_transactions.drop_duplicates('customer_id')\n",
    "test_set_transactions.reset_index(drop = True, inplace = True)\n",
    "test_set_transactions"
   ]
  },
  {
   "cell_type": "code",
   "execution_count": 15,
   "id": "695fc57c",
   "metadata": {
    "execution": {
     "iopub.execute_input": "2023-11-20T19:13:08.686056Z",
     "iopub.status.busy": "2023-11-20T19:13:08.685742Z",
     "iopub.status.idle": "2023-11-20T19:13:08.900275Z",
     "shell.execute_reply": "2023-11-20T19:13:08.899116Z"
    },
    "papermill": {
     "duration": 0.272513,
     "end_time": "2023-11-20T19:13:08.903065",
     "exception": false,
     "start_time": "2023-11-20T19:13:08.630552",
     "status": "completed"
    },
    "tags": []
   },
   "outputs": [],
   "source": [
    "#bestsellers for septembers\n",
    "mean_price = filtered_transactions \\\n",
    "    .groupby(['week', 'article_id'])['price'].mean()\n",
    "\n",
    "sales = filtered_transactions \\\n",
    "    .groupby('week')['article_id'].value_counts() \\\n",
    "    .groupby('week').rank(method='dense', ascending=False) \\\n",
    "    .groupby('week').head(12).rename('bestseller_rank').astype('int8')\n",
    "\n",
    "bestsellers_september = pd.merge(sales, mean_price, on=['week', 'article_id']).reset_index()"
   ]
  },
  {
   "cell_type": "markdown",
   "id": "492ab2ec",
   "metadata": {
    "papermill": {
     "duration": 0.053622,
     "end_time": "2023-11-20T19:13:09.009927",
     "exception": false,
     "start_time": "2023-11-20T19:13:08.956305",
     "status": "completed"
    },
    "tags": []
   },
   "source": [
    "# Combining transactions and candidates / negative examples"
   ]
  },
  {
   "cell_type": "code",
   "execution_count": 16,
   "id": "6923fa04",
   "metadata": {
    "execution": {
     "iopub.execute_input": "2023-11-20T19:13:09.120262Z",
     "iopub.status.busy": "2023-11-20T19:13:09.118971Z",
     "iopub.status.idle": "2023-11-20T19:13:09.130009Z",
     "shell.execute_reply": "2023-11-20T19:13:09.129011Z"
    },
    "papermill": {
     "duration": 0.069071,
     "end_time": "2023-11-20T19:13:09.133333",
     "exception": false,
     "start_time": "2023-11-20T19:13:09.064262",
     "status": "completed"
    },
    "tags": []
   },
   "outputs": [
    {
     "name": "stderr",
     "output_type": "stream",
     "text": [
      "/opt/conda/lib/python3.7/site-packages/pandas/core/indexing.py:1667: SettingWithCopyWarning: \n",
      "A value is trying to be set on a copy of a slice from a DataFrame.\n",
      "Try using .loc[row_indexer,col_indexer] = value instead\n",
      "\n",
      "See the caveats in the documentation: https://pandas.pydata.org/pandas-docs/stable/user_guide/indexing.html#returning-a-view-versus-a-copy\n",
      "  self.obj[key] = value\n"
     ]
    }
   ],
   "source": [
    "filtered_transactions.loc[:, 'purchased'] = 1"
   ]
  },
  {
   "cell_type": "code",
   "execution_count": 17,
   "id": "466e6ca4",
   "metadata": {
    "execution": {
     "iopub.execute_input": "2023-11-20T19:13:09.245079Z",
     "iopub.status.busy": "2023-11-20T19:13:09.243800Z",
     "iopub.status.idle": "2023-11-20T19:13:19.273541Z",
     "shell.execute_reply": "2023-11-20T19:13:19.272415Z"
    },
    "papermill": {
     "duration": 10.088917,
     "end_time": "2023-11-20T19:13:19.276624",
     "exception": false,
     "start_time": "2023-11-20T19:13:09.187707",
     "status": "completed"
    },
    "tags": []
   },
   "outputs": [],
   "source": [
    "data = pd.concat([filtered_transactions, candidates_last_purchase_september])\n",
    "data = pd.merge(data, bestsellers_september[['article_id', 'bestseller_rank']], on = 'article_id', how = 'left')\n",
    "data.fillna(0, inplace = True)"
   ]
  },
  {
   "cell_type": "code",
   "execution_count": 18,
   "id": "4c0b9af7",
   "metadata": {
    "execution": {
     "iopub.execute_input": "2023-11-20T19:13:19.388445Z",
     "iopub.status.busy": "2023-11-20T19:13:19.387405Z",
     "iopub.status.idle": "2023-11-20T19:13:19.660714Z",
     "shell.execute_reply": "2023-11-20T19:13:19.659892Z"
    },
    "papermill": {
     "duration": 0.332964,
     "end_time": "2023-11-20T19:13:19.663644",
     "exception": false,
     "start_time": "2023-11-20T19:13:19.330680",
     "status": "completed"
    },
    "tags": []
   },
   "outputs": [],
   "source": [
    "#adding candidates info\n",
    "data = pd.merge(data, candidates_definitive[['customer_id', 'mean price purchases', 'most_present_gender_in_area', 'median_age_area']], on = 'customer_id', how = 'left')"
   ]
  },
  {
   "cell_type": "code",
   "execution_count": 19,
   "id": "a54831a7",
   "metadata": {
    "execution": {
     "iopub.execute_input": "2023-11-20T19:13:19.775675Z",
     "iopub.status.busy": "2023-11-20T19:13:19.774540Z",
     "iopub.status.idle": "2023-11-20T19:13:22.151415Z",
     "shell.execute_reply": "2023-11-20T19:13:22.149923Z"
    },
    "papermill": {
     "duration": 2.436558,
     "end_time": "2023-11-20T19:13:22.154535",
     "exception": false,
     "start_time": "2023-11-20T19:13:19.717977",
     "status": "completed"
    },
    "tags": []
   },
   "outputs": [],
   "source": [
    "#adding initial datasets to my new dataset\n",
    "data = pd.merge(data, articles, on = 'article_id', how = 'left')\n",
    "data = pd.merge(data, customers, on = 'customer_id', how = 'left')"
   ]
  },
  {
   "cell_type": "code",
   "execution_count": 20,
   "id": "8accfc45",
   "metadata": {
    "execution": {
     "iopub.execute_input": "2023-11-20T19:13:22.271750Z",
     "iopub.status.busy": "2023-11-20T19:13:22.271330Z",
     "iopub.status.idle": "2023-11-20T19:13:22.712730Z",
     "shell.execute_reply": "2023-11-20T19:13:22.711662Z"
    },
    "papermill": {
     "duration": 0.503896,
     "end_time": "2023-11-20T19:13:22.715582",
     "exception": false,
     "start_time": "2023-11-20T19:13:22.211686",
     "status": "completed"
    },
    "tags": []
   },
   "outputs": [],
   "source": [
    "data.sort_values(['week', 'customer_id'], inplace=True)\n",
    "data.reset_index(drop=True, inplace=True)"
   ]
  },
  {
   "cell_type": "code",
   "execution_count": 21,
   "id": "5e3763a6",
   "metadata": {
    "execution": {
     "iopub.execute_input": "2023-11-20T19:13:22.828051Z",
     "iopub.status.busy": "2023-11-20T19:13:22.827581Z",
     "iopub.status.idle": "2023-11-20T19:13:23.292880Z",
     "shell.execute_reply": "2023-11-20T19:13:23.291803Z"
    },
    "papermill": {
     "duration": 0.526445,
     "end_time": "2023-11-20T19:13:23.295643",
     "exception": false,
     "start_time": "2023-11-20T19:13:22.769198",
     "status": "completed"
    },
    "tags": []
   },
   "outputs": [],
   "source": [
    "train = data[data.week != test_week]\n",
    "test = data[data.week==test_week].drop_duplicates(['customer_id', 'article_id', 'sales_channel_id']).copy()"
   ]
  },
  {
   "cell_type": "code",
   "execution_count": 22,
   "id": "c143ba22",
   "metadata": {
    "execution": {
     "iopub.execute_input": "2023-11-20T19:13:23.406368Z",
     "iopub.status.busy": "2023-11-20T19:13:23.405985Z",
     "iopub.status.idle": "2023-11-20T19:13:23.487422Z",
     "shell.execute_reply": "2023-11-20T19:13:23.486496Z"
    },
    "papermill": {
     "duration": 0.140851,
     "end_time": "2023-11-20T19:13:23.490264",
     "exception": false,
     "start_time": "2023-11-20T19:13:23.349413",
     "status": "completed"
    },
    "tags": []
   },
   "outputs": [],
   "source": [
    "train_baskets = train.groupby(['week', 'customer_id'])['article_id'].count().values"
   ]
  },
  {
   "cell_type": "code",
   "execution_count": 23,
   "id": "363547d8",
   "metadata": {
    "execution": {
     "iopub.execute_input": "2023-11-20T19:13:23.600384Z",
     "iopub.status.busy": "2023-11-20T19:13:23.600032Z",
     "iopub.status.idle": "2023-11-20T19:13:23.606274Z",
     "shell.execute_reply": "2023-11-20T19:13:23.605218Z"
    },
    "papermill": {
     "duration": 0.064289,
     "end_time": "2023-11-20T19:13:23.608857",
     "exception": false,
     "start_time": "2023-11-20T19:13:23.544568",
     "status": "completed"
    },
    "tags": []
   },
   "outputs": [],
   "source": [
    "columns_to_use = ['article_id', 'product_type_no', 'graphical_appearance_no', 'colour_group_code', 'perceived_colour_value_id',\n",
    "'perceived_colour_master_id', 'department_no', 'index_code', 'index_group_no', 'section_no', 'garment_group_no', 'FN', 'Active',\n",
    "'club_member_status', 'fashion_news_frequency', 'bestseller_rank', 'mean price purchases', 'most_present_gender_in_area', 'median_age_area']"
   ]
  },
  {
   "cell_type": "code",
   "execution_count": 24,
   "id": "4d72a1b0",
   "metadata": {
    "execution": {
     "iopub.execute_input": "2023-11-20T19:13:23.719215Z",
     "iopub.status.busy": "2023-11-20T19:13:23.718790Z",
     "iopub.status.idle": "2023-11-20T19:13:23.755669Z",
     "shell.execute_reply": "2023-11-20T19:13:23.754543Z"
    },
    "papermill": {
     "duration": 0.095092,
     "end_time": "2023-11-20T19:13:23.758436",
     "exception": false,
     "start_time": "2023-11-20T19:13:23.663344",
     "status": "completed"
    },
    "tags": []
   },
   "outputs": [
    {
     "name": "stdout",
     "output_type": "stream",
     "text": [
      "CPU times: user 28.9 ms, sys: 0 ns, total: 28.9 ms\n",
      "Wall time: 28.4 ms\n"
     ]
    }
   ],
   "source": [
    "%%time\n",
    "\n",
    "train_X = train[columns_to_use]\n",
    "train_y = train['purchased']\n",
    "\n",
    "test_X = test[columns_to_use]"
   ]
  },
  {
   "cell_type": "markdown",
   "id": "327d6387",
   "metadata": {
    "papermill": {
     "duration": 0.056963,
     "end_time": "2023-11-20T19:13:23.871526",
     "exception": false,
     "start_time": "2023-11-20T19:13:23.814563",
     "status": "completed"
    },
    "tags": []
   },
   "source": [
    "# Model training"
   ]
  },
  {
   "cell_type": "code",
   "execution_count": 25,
   "id": "96fdcdc0",
   "metadata": {
    "execution": {
     "iopub.execute_input": "2023-11-20T19:13:24.000347Z",
     "iopub.status.busy": "2023-11-20T19:13:23.999033Z",
     "iopub.status.idle": "2023-11-20T19:13:25.195729Z",
     "shell.execute_reply": "2023-11-20T19:13:25.194555Z"
    },
    "papermill": {
     "duration": 1.2703,
     "end_time": "2023-11-20T19:13:25.198492",
     "exception": false,
     "start_time": "2023-11-20T19:13:23.928192",
     "status": "completed"
    },
    "tags": []
   },
   "outputs": [
    {
     "data": {
      "text/html": [
       "<style type='text/css'>\n",
       ".datatable table.frame { margin-bottom: 0; }\n",
       ".datatable table.frame thead { border-bottom: none; }\n",
       ".datatable table.frame tr.coltypes td {  color: #FFFFFF;  line-height: 6px;  padding: 0 0.5em;}\n",
       ".datatable .bool    { background: #DDDD99; }\n",
       ".datatable .object  { background: #565656; }\n",
       ".datatable .int     { background: #5D9E5D; }\n",
       ".datatable .float   { background: #4040CC; }\n",
       ".datatable .str     { background: #CC4040; }\n",
       ".datatable .time    { background: #40CC40; }\n",
       ".datatable .row_index {  background: var(--jp-border-color3);  border-right: 1px solid var(--jp-border-color0);  color: var(--jp-ui-font-color3);  font-size: 9px;}\n",
       ".datatable .frame tbody td { text-align: left; }\n",
       ".datatable .frame tr.coltypes .row_index {  background: var(--jp-border-color0);}\n",
       ".datatable th:nth-child(2) { padding-left: 12px; }\n",
       ".datatable .hellipsis {  color: var(--jp-cell-editor-border-color);}\n",
       ".datatable .vellipsis {  background: var(--jp-layout-color0);  color: var(--jp-cell-editor-border-color);}\n",
       ".datatable .na {  color: var(--jp-cell-editor-border-color);  font-size: 80%;}\n",
       ".datatable .sp {  opacity: 0.25;}\n",
       ".datatable .footer { font-size: 9px; }\n",
       ".datatable .frame_dimensions {  background: var(--jp-border-color3);  border-top: 1px solid var(--jp-border-color0);  color: var(--jp-ui-font-color3);  display: inline-block;  opacity: 0.6;  padding: 1px 10px 1px 5px;}\n",
       "</style>\n"
      ],
      "text/plain": [
       "<IPython.core.display.HTML object>"
      ]
     },
     "metadata": {},
     "output_type": "display_data"
    }
   ],
   "source": [
    "from lightgbm.sklearn import LGBMRanker"
   ]
  },
  {
   "cell_type": "code",
   "execution_count": 26,
   "id": "cc9979d5",
   "metadata": {
    "execution": {
     "iopub.execute_input": "2023-11-20T19:13:25.312234Z",
     "iopub.status.busy": "2023-11-20T19:13:25.311546Z",
     "iopub.status.idle": "2023-11-20T19:13:25.316456Z",
     "shell.execute_reply": "2023-11-20T19:13:25.315767Z"
    },
    "papermill": {
     "duration": 0.064714,
     "end_time": "2023-11-20T19:13:25.318689",
     "exception": false,
     "start_time": "2023-11-20T19:13:25.253975",
     "status": "completed"
    },
    "tags": []
   },
   "outputs": [],
   "source": [
    "ranker = LGBMRanker(\n",
    "    objective=\"lambdarank\",\n",
    "    metric=\"ndcg\",\n",
    "    boosting_type=\"dart\",\n",
    "    n_estimators=1,\n",
    "    importance_type='gain',\n",
    "    verbose=10\n",
    ")"
   ]
  },
  {
   "cell_type": "code",
   "execution_count": 27,
   "id": "56d53793",
   "metadata": {
    "execution": {
     "iopub.execute_input": "2023-11-20T19:13:25.432729Z",
     "iopub.status.busy": "2023-11-20T19:13:25.432006Z",
     "iopub.status.idle": "2023-11-20T19:13:26.334958Z",
     "shell.execute_reply": "2023-11-20T19:13:26.334147Z"
    },
    "papermill": {
     "duration": 0.963686,
     "end_time": "2023-11-20T19:13:26.337729",
     "exception": false,
     "start_time": "2023-11-20T19:13:25.374043",
     "status": "completed"
    },
    "tags": []
   },
   "outputs": [
    {
     "name": "stdout",
     "output_type": "stream",
     "text": [
      "[LightGBM] [Warning] Found whitespace in feature_names, replace with underlines\n",
      "[LightGBM] [Debug] Dataset::GetMultiBinFromSparseFeatures: sparse rate 0.966892\n",
      "[LightGBM] [Debug] Dataset::GetMultiBinFromAllFeatures: sparse rate 0.177251\n",
      "[LightGBM] [Debug] init for col-wise cost 0.013454 seconds, init for row-wise cost 0.092749 seconds\n",
      "[LightGBM] [Warning] Auto-choosing row-wise multi-threading, the overhead of testing was 0.041514 seconds.\n",
      "You can set `force_row_wise=true` to remove the overhead.\n",
      "And if memory is not enough, you can set `force_col_wise=true`.\n",
      "[LightGBM] [Debug] Using Dense Multi-Val Bin\n",
      "[LightGBM] [Info] Total Bins 1100\n",
      "[LightGBM] [Info] Number of data points in the train set: 556644, number of used features: 19\n",
      "[LightGBM] [Debug] Trained a tree with leaves = 31 and depth = 9\n",
      "CPU times: user 2.65 s, sys: 94.1 ms, total: 2.74 s\n",
      "Wall time: 894 ms\n"
     ]
    }
   ],
   "source": [
    "%%time\n",
    "\n",
    "ranker = ranker.fit(\n",
    "    train_X,\n",
    "    train_y,\n",
    "    group=train_baskets,\n",
    ")"
   ]
  },
  {
   "cell_type": "code",
   "execution_count": 28,
   "id": "a00b8a46",
   "metadata": {
    "execution": {
     "iopub.execute_input": "2023-11-20T19:13:26.454404Z",
     "iopub.status.busy": "2023-11-20T19:13:26.454013Z",
     "iopub.status.idle": "2023-11-20T19:13:26.471741Z",
     "shell.execute_reply": "2023-11-20T19:13:26.470223Z"
    },
    "papermill": {
     "duration": 0.078803,
     "end_time": "2023-11-20T19:13:26.474776",
     "exception": false,
     "start_time": "2023-11-20T19:13:26.395973",
     "status": "completed"
    },
    "tags": []
   },
   "outputs": [
    {
     "name": "stdout",
     "output_type": "stream",
     "text": [
      "department_no 0.2641360224563905\n",
      "bestseller_rank 0.21134275878572173\n",
      "article_id 0.15269241969329592\n",
      "product_type_no 0.09734629376070911\n",
      "garment_group_no 0.06780239796662654\n",
      "index_group_no 0.048897001888731216\n",
      "index_code 0.04395545365658853\n",
      "section_no 0.039966283708073466\n",
      "perceived_colour_value_id 0.025669374184446276\n",
      "perceived_colour_master_id 0.025373690760005486\n",
      "colour_group_code 0.022818303139411196\n",
      "FN 0.0\n",
      "most_present_gender_in_area 0.0\n",
      "Active 0.0\n",
      "club_member_status 0.0\n",
      "fashion_news_frequency 0.0\n",
      "graphical_appearance_no 0.0\n",
      "mean price purchases 0.0\n",
      "median_age_area 0.0\n"
     ]
    }
   ],
   "source": [
    "for i in ranker.feature_importances_.argsort()[::-1]:\n",
    "    print(columns_to_use[i], ranker.feature_importances_[i]/ranker.feature_importances_.sum())"
   ]
  },
  {
   "cell_type": "markdown",
   "id": "97686f63",
   "metadata": {
    "papermill": {
     "duration": 0.056662,
     "end_time": "2023-11-20T19:13:26.588570",
     "exception": false,
     "start_time": "2023-11-20T19:13:26.531908",
     "status": "completed"
    },
    "tags": []
   },
   "source": [
    "# Calculate predictions"
   ]
  },
  {
   "cell_type": "code",
   "execution_count": 29,
   "id": "54cdef78",
   "metadata": {
    "execution": {
     "iopub.execute_input": "2023-11-20T19:13:26.709745Z",
     "iopub.status.busy": "2023-11-20T19:13:26.709380Z",
     "iopub.status.idle": "2023-11-20T19:13:30.615109Z",
     "shell.execute_reply": "2023-11-20T19:13:30.614010Z"
    },
    "papermill": {
     "duration": 3.971882,
     "end_time": "2023-11-20T19:13:30.618354",
     "exception": false,
     "start_time": "2023-11-20T19:13:26.646472",
     "status": "completed"
    },
    "tags": []
   },
   "outputs": [
    {
     "name": "stdout",
     "output_type": "stream",
     "text": [
      "CPU times: user 4 µs, sys: 1 µs, total: 5 µs\n",
      "Wall time: 10 µs\n"
     ]
    }
   ],
   "source": [
    "%time\n",
    "\n",
    "test['preds'] = ranker.predict(test_X)\n",
    "\n",
    "c_id2predicted_article_ids = test \\\n",
    "    .sort_values(['customer_id', 'preds'], ascending=False) \\\n",
    "    .groupby('customer_id')['article_id'].apply(list).to_dict()\n",
    "\n",
    "bestsellers_september_all = \\\n",
    "    bestsellers_september[bestsellers_september.week == bestsellers_september.week.max()]['article_id'].tolist()"
   ]
  },
  {
   "cell_type": "markdown",
   "id": "b6d92abf",
   "metadata": {
    "papermill": {
     "duration": 0.059599,
     "end_time": "2023-11-20T19:13:30.737978",
     "exception": false,
     "start_time": "2023-11-20T19:13:30.678379",
     "status": "completed"
    },
    "tags": []
   },
   "source": [
    "# Create submission"
   ]
  },
  {
   "cell_type": "code",
   "execution_count": 30,
   "id": "6983491a",
   "metadata": {
    "execution": {
     "iopub.execute_input": "2023-11-20T19:13:30.857650Z",
     "iopub.status.busy": "2023-11-20T19:13:30.857121Z",
     "iopub.status.idle": "2023-11-20T19:13:37.294337Z",
     "shell.execute_reply": "2023-11-20T19:13:37.292919Z"
    },
    "papermill": {
     "duration": 6.501127,
     "end_time": "2023-11-20T19:13:37.297177",
     "exception": false,
     "start_time": "2023-11-20T19:13:30.796050",
     "status": "completed"
    },
    "tags": []
   },
   "outputs": [],
   "source": [
    "sub = pd.read_csv('/kaggle/input/h-and-m-personalized-fashion-recommendations/sample_submission.csv')"
   ]
  },
  {
   "cell_type": "code",
   "execution_count": 31,
   "id": "4b6f2e06",
   "metadata": {
    "execution": {
     "iopub.execute_input": "2023-11-20T19:13:37.417620Z",
     "iopub.status.busy": "2023-11-20T19:13:37.417231Z",
     "iopub.status.idle": "2023-11-20T19:13:44.714225Z",
     "shell.execute_reply": "2023-11-20T19:13:44.712542Z"
    },
    "papermill": {
     "duration": 7.362474,
     "end_time": "2023-11-20T19:13:44.717052",
     "exception": false,
     "start_time": "2023-11-20T19:13:37.354578",
     "status": "completed"
    },
    "tags": []
   },
   "outputs": [
    {
     "name": "stdout",
     "output_type": "stream",
     "text": [
      "CPU times: user 6.92 s, sys: 370 ms, total: 7.29 s\n",
      "Wall time: 7.29 s\n"
     ]
    }
   ],
   "source": [
    "%%time\n",
    "preds = []\n",
    "for c_id in customer_hex_id_to_int(sub.customer_id):\n",
    "    pred = c_id2predicted_article_ids.get(c_id, [])\n",
    "    pred = pred + bestsellers_september_all\n",
    "    preds.append(pred[:12])"
   ]
  },
  {
   "cell_type": "code",
   "execution_count": 32,
   "id": "36cebeeb",
   "metadata": {
    "execution": {
     "iopub.execute_input": "2023-11-20T19:13:44.837317Z",
     "iopub.status.busy": "2023-11-20T19:13:44.836957Z",
     "iopub.status.idle": "2023-11-20T19:13:53.084379Z",
     "shell.execute_reply": "2023-11-20T19:13:53.083036Z"
    },
    "papermill": {
     "duration": 8.309267,
     "end_time": "2023-11-20T19:13:53.087472",
     "exception": false,
     "start_time": "2023-11-20T19:13:44.778205",
     "status": "completed"
    },
    "tags": []
   },
   "outputs": [],
   "source": [
    "preds = [' '.join(['0' + str(p) for p in ps]) for ps in preds]\n",
    "sub.prediction = preds"
   ]
  },
  {
   "cell_type": "code",
   "execution_count": 33,
   "id": "0404c5c5",
   "metadata": {
    "execution": {
     "iopub.execute_input": "2023-11-20T19:13:53.208049Z",
     "iopub.status.busy": "2023-11-20T19:13:53.207587Z",
     "iopub.status.idle": "2023-11-20T19:14:07.375045Z",
     "shell.execute_reply": "2023-11-20T19:14:07.374183Z"
    },
    "papermill": {
     "duration": 14.230793,
     "end_time": "2023-11-20T19:14:07.377690",
     "exception": false,
     "start_time": "2023-11-20T19:13:53.146897",
     "status": "completed"
    },
    "tags": []
   },
   "outputs": [],
   "source": [
    "sub_name = 'submission'\n",
    "sub.to_csv(f'{sub_name}.csv', index=False)"
   ]
  }
 ],
 "metadata": {
  "kaggle": {
   "accelerator": "none",
   "dataSources": [
    {
     "databundleVersionId": 3103714,
     "sourceId": 31254,
     "sourceType": "competition"
    },
    {
     "datasetId": 3840849,
     "sourceId": 6655455,
     "sourceType": "datasetVersion"
    },
    {
     "datasetId": 3967857,
     "sourceId": 6908916,
     "sourceType": "datasetVersion"
    },
    {
     "sourceId": 93163345,
     "sourceType": "kernelVersion"
    }
   ],
   "dockerImageVersionId": 30178,
   "isGpuEnabled": false,
   "isInternetEnabled": true,
   "language": "python",
   "sourceType": "notebook"
  },
  "kernelspec": {
   "display_name": "Python 3",
   "language": "python",
   "name": "python3"
  },
  "language_info": {
   "codemirror_mode": {
    "name": "ipython",
    "version": 3
   },
   "file_extension": ".py",
   "mimetype": "text/x-python",
   "name": "python",
   "nbconvert_exporter": "python",
   "pygments_lexer": "ipython3",
   "version": "3.7.12"
  },
  "papermill": {
   "default_parameters": {},
   "duration": 106.931434,
   "end_time": "2023-11-20T19:14:09.166586",
   "environment_variables": {},
   "exception": null,
   "input_path": "__notebook__.ipynb",
   "output_path": "__notebook__.ipynb",
   "parameters": {},
   "start_time": "2023-11-20T19:12:22.235152",
   "version": "2.3.4"
  }
 },
 "nbformat": 4,
 "nbformat_minor": 5
}
