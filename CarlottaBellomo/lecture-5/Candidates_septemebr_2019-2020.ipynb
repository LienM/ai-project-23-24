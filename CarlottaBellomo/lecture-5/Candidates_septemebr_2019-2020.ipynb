{
 "cells": [
  {
   "cell_type": "markdown",
   "id": "d0ac4fe2",
   "metadata": {
    "papermill": {
     "duration": 0.037434,
     "end_time": "2023-11-20T18:46:04.068420",
     "exception": false,
     "start_time": "2023-11-20T18:46:04.030986",
     "status": "completed"
    },
    "tags": []
   },
   "source": [
    "Radek posted about this [here](https://www.kaggle.com/competitions/h-and-m-personalized-fashion-recommendations/discussion/309220), and linked to a GitHub repo with the code.\n",
    "\n",
    "I just transferred that code here to Kaggle notebooks, that's all."
   ]
  },
  {
   "cell_type": "code",
   "execution_count": null,
   "id": "6741a263",
   "metadata": {
    "papermill": {
     "duration": 0.032779,
     "end_time": "2023-11-20T18:46:04.134962",
     "exception": false,
     "start_time": "2023-11-20T18:46:04.102183",
     "status": "completed"
    },
    "tags": []
   },
   "outputs": [],
   "source": []
  },
  {
   "cell_type": "code",
   "execution_count": 1,
   "id": "fc72e813",
   "metadata": {
    "execution": {
     "iopub.execute_input": "2023-11-20T18:46:04.203772Z",
     "iopub.status.busy": "2023-11-20T18:46:04.203278Z",
     "iopub.status.idle": "2023-11-20T18:46:04.215147Z",
     "shell.execute_reply": "2023-11-20T18:46:04.213972Z"
    },
    "papermill": {
     "duration": 0.04875,
     "end_time": "2023-11-20T18:46:04.217442",
     "exception": false,
     "start_time": "2023-11-20T18:46:04.168692",
     "status": "completed"
    },
    "tags": []
   },
   "outputs": [],
   "source": [
    "import numpy as np\n",
    "\n",
    "def apk(actual, predicted, k=10):\n",
    "    \"\"\"\n",
    "    Computes the average precision at k.\n",
    "\n",
    "    This function computes the average prescision at k between two lists of\n",
    "    items.\n",
    "\n",
    "    Parameters\n",
    "    ----------\n",
    "    actual : list\n",
    "             A list of elements that are to be predicted (order doesn't matter)\n",
    "    predicted : list\n",
    "                A list of predicted elements (order does matter)\n",
    "    k : int, optional\n",
    "        The maximum number of predicted elements\n",
    "\n",
    "    Returns\n",
    "    -------\n",
    "    score : double\n",
    "            The average precision at k over the input lists\n",
    "\n",
    "    \"\"\"\n",
    "    if len(predicted)>k:\n",
    "        predicted = predicted[:k]\n",
    "\n",
    "    score = 0.0\n",
    "    num_hits = 0.0\n",
    "\n",
    "    for i,p in enumerate(predicted):\n",
    "        if p in actual and p not in predicted[:i]:\n",
    "            num_hits += 1.0\n",
    "            score += num_hits / (i+1.0)\n",
    "\n",
    "    if not actual:\n",
    "        return 0.0\n",
    "\n",
    "    return score / min(len(actual), k)\n",
    "\n",
    "def mapk(actual, predicted, k=10):\n",
    "    \"\"\"\n",
    "    Computes the mean average precision at k.\n",
    "\n",
    "    This function computes the mean average prescision at k between two lists\n",
    "    of lists of items.\n",
    "\n",
    "    Parameters\n",
    "    ----------\n",
    "    actual : list\n",
    "             A list of lists of elements that are to be predicted \n",
    "             (order doesn't matter in the lists)\n",
    "    predicted : list\n",
    "                A list of lists of predicted elements\n",
    "                (order matters in the lists)\n",
    "    k : int, optional\n",
    "        The maximum number of predicted elements\n",
    "\n",
    "    Returns\n",
    "    -------\n",
    "    score : double\n",
    "            The mean average precision at k over the input lists\n",
    "\n",
    "    \"\"\"\n",
    "    return np.mean([apk(a,p,k) for a,p in zip(actual, predicted)])"
   ]
  },
  {
   "cell_type": "code",
   "execution_count": 2,
   "id": "88897d4d",
   "metadata": {
    "execution": {
     "iopub.execute_input": "2023-11-20T18:46:04.286517Z",
     "iopub.status.busy": "2023-11-20T18:46:04.286245Z",
     "iopub.status.idle": "2023-11-20T18:46:05.240291Z",
     "shell.execute_reply": "2023-11-20T18:46:05.239586Z"
    },
    "papermill": {
     "duration": 0.990062,
     "end_time": "2023-11-20T18:46:05.242264",
     "exception": false,
     "start_time": "2023-11-20T18:46:04.252202",
     "status": "completed"
    },
    "tags": []
   },
   "outputs": [],
   "source": [
    "from sklearn.base import BaseEstimator, TransformerMixin\n",
    "import numpy as np\n",
    "\n",
    "# https://www.kaggle.com/c/h-and-m-personalized-fashion-recommendations/discussion/308635\n",
    "def customer_hex_id_to_int(series):\n",
    "    return series.str[-16:].apply(hex_id_to_int)\n",
    "\n",
    "def hex_id_to_int(str):\n",
    "    return int(str[-16:], 16)\n",
    "\n",
    "def article_id_str_to_int(series):\n",
    "    return series.astype('int32')\n",
    "\n",
    "def article_id_int_to_str(series):\n",
    "    return '0' + series.astype('str')\n",
    "\n",
    "class Categorize(BaseEstimator, TransformerMixin):\n",
    "    def __init__(self, min_examples=0):\n",
    "        self.min_examples = min_examples\n",
    "        self.categories = []\n",
    "        \n",
    "    def fit(self, X):\n",
    "        for i in range(X.shape[1]):\n",
    "            vc = X.iloc[:, i].value_counts()\n",
    "            self.categories.append(vc[vc > self.min_examples].index.tolist())\n",
    "        return self\n",
    "\n",
    "    def transform(self, X):\n",
    "        data = {X.columns[i]: pd.Categorical(X.iloc[:, i], categories=self.categories[i]).codes for i in range(X.shape[1])}\n",
    "        return pd.DataFrame(data=data)\n",
    "\n",
    "\n",
    "def calculate_apk(list_of_preds, list_of_gts):\n",
    "    # for fast validation this can be changed to operate on dicts of {'cust_id_int': [art_id_int, ...]}\n",
    "    # using 'data/val_week_purchases_by_cust.pkl'\n",
    "    apks = []\n",
    "    for preds, gt in zip(list_of_preds, list_of_gts):\n",
    "        apks.append(apk(gt, preds, k=12))\n",
    "    return np.mean(apks)\n",
    "\n",
    "def eval_sub(sub_csv, skip_cust_with_no_purchases=True):\n",
    "    sub=pd.read_csv(sub_csv)\n",
    "    validation_set=pd.read_parquet('data/validation_ground_truth.parquet')\n",
    "\n",
    "    apks = []\n",
    "\n",
    "    no_purchases_pattern = []\n",
    "    for pred, gt in zip(sub.prediction.str.split(), validation_set.prediction.str.split()):\n",
    "        if skip_cust_with_no_purchases and (gt == no_purchases_pattern): continue\n",
    "        apks.append(apk(gt, pred, k=12))\n",
    "    return np.mean(apks)"
   ]
  },
  {
   "cell_type": "code",
   "execution_count": 3,
   "id": "641ade14",
   "metadata": {
    "execution": {
     "iopub.execute_input": "2023-11-20T18:46:05.309907Z",
     "iopub.status.busy": "2023-11-20T18:46:05.309636Z",
     "iopub.status.idle": "2023-11-20T18:46:05.313693Z",
     "shell.execute_reply": "2023-11-20T18:46:05.312750Z"
    },
    "papermill": {
     "duration": 0.040682,
     "end_time": "2023-11-20T18:46:05.315775",
     "exception": false,
     "start_time": "2023-11-20T18:46:05.275093",
     "status": "completed"
    },
    "tags": []
   },
   "outputs": [],
   "source": [
    "import pandas as pd"
   ]
  },
  {
   "cell_type": "code",
   "execution_count": 4,
   "id": "f0fe9528",
   "metadata": {
    "execution": {
     "iopub.execute_input": "2023-11-20T18:46:05.384543Z",
     "iopub.status.busy": "2023-11-20T18:46:05.384235Z",
     "iopub.status.idle": "2023-11-20T18:46:11.432263Z",
     "shell.execute_reply": "2023-11-20T18:46:11.431783Z"
    },
    "papermill": {
     "duration": 6.084527,
     "end_time": "2023-11-20T18:46:11.434341",
     "exception": false,
     "start_time": "2023-11-20T18:46:05.349814",
     "status": "completed"
    },
    "tags": []
   },
   "outputs": [
    {
     "name": "stdout",
     "output_type": "stream",
     "text": [
      "CPU times: user 1.4 s, sys: 1.47 s, total: 2.87 s\n",
      "Wall time: 6.04 s\n"
     ]
    }
   ],
   "source": [
    "%%time\n",
    "\n",
    "transactions = pd.read_parquet('../input/warmup/transactions_train.parquet')\n",
    "customers = pd.read_parquet('../input/parquet-new-assignement/new_customer_one.parquet')\n",
    "articles = pd.read_parquet('../input/parquet-new-assignement/new_articles_one.parquet')\n",
    "\n",
    "# sample = 0.05\n",
    "# transactions = pd.read_parquet(f'data/transactions_train_sample_{sample}.parquet')\n",
    "# customers = pd.read_parquet(f'data/customers_sample_{sample}.parquet')\n",
    "# articles = pd.read_parquet(f'data/articles_train_sample_{sample}.parquet')"
   ]
  },
  {
   "cell_type": "code",
   "execution_count": 5,
   "id": "adb9f9fc",
   "metadata": {
    "execution": {
     "iopub.execute_input": "2023-11-20T18:46:11.503536Z",
     "iopub.status.busy": "2023-11-20T18:46:11.503026Z",
     "iopub.status.idle": "2023-11-20T18:46:12.735323Z",
     "shell.execute_reply": "2023-11-20T18:46:12.734608Z"
    },
    "papermill": {
     "duration": 1.269141,
     "end_time": "2023-11-20T18:46:12.737378",
     "exception": false,
     "start_time": "2023-11-20T18:46:11.468237",
     "status": "completed"
    },
    "tags": []
   },
   "outputs": [],
   "source": [
    "#adding of the column week to the dataframe transactions\n",
    "transactions.t_dat = pd.to_datetime(transactions.t_dat, format='%Y-%m-%d')\n",
    "transactions['week'] = 104 - (transactions.t_dat.max() - transactions.t_dat).dt.days // 7"
   ]
  },
  {
   "cell_type": "code",
   "execution_count": 6,
   "id": "df771fd5",
   "metadata": {
    "execution": {
     "iopub.execute_input": "2023-11-20T18:46:12.818024Z",
     "iopub.status.busy": "2023-11-20T18:46:12.817770Z",
     "iopub.status.idle": "2023-11-20T18:46:12.843085Z",
     "shell.execute_reply": "2023-11-20T18:46:12.842280Z"
    },
    "papermill": {
     "duration": 0.066225,
     "end_time": "2023-11-20T18:46:12.845120",
     "exception": false,
     "start_time": "2023-11-20T18:46:12.778895",
     "status": "completed"
    },
    "tags": []
   },
   "outputs": [],
   "source": [
    "#definition of the week for test\n",
    "test_week = transactions.week.max() + 1 \n",
    "#transactions = transactions[transactions.week > transactions.week.max() - 10]"
   ]
  },
  {
   "cell_type": "markdown",
   "id": "852d0cdd",
   "metadata": {
    "papermill": {
     "duration": 0.033345,
     "end_time": "2023-11-20T18:46:12.912224",
     "exception": false,
     "start_time": "2023-11-20T18:46:12.878879",
     "status": "completed"
    },
    "tags": []
   },
   "source": [
    "# Generating candidates"
   ]
  },
  {
   "cell_type": "markdown",
   "id": "3f2a3e01",
   "metadata": {
    "papermill": {
     "duration": 0.033546,
     "end_time": "2023-11-20T18:46:12.979965",
     "exception": false,
     "start_time": "2023-11-20T18:46:12.946419",
     "status": "completed"
    },
    "tags": []
   },
   "source": [
    "### Last purchase candidates"
   ]
  },
  {
   "cell_type": "code",
   "execution_count": 7,
   "id": "534dee03",
   "metadata": {
    "execution": {
     "iopub.execute_input": "2023-11-20T18:46:13.049494Z",
     "iopub.status.busy": "2023-11-20T18:46:13.049231Z",
     "iopub.status.idle": "2023-11-20T18:46:32.771658Z",
     "shell.execute_reply": "2023-11-20T18:46:32.770095Z"
    },
    "papermill": {
     "duration": 19.760649,
     "end_time": "2023-11-20T18:46:32.774792",
     "exception": false,
     "start_time": "2023-11-20T18:46:13.014143",
     "status": "completed"
    },
    "tags": []
   },
   "outputs": [],
   "source": [
    "'''deciding to work only with data of the months of September since probably articles\n",
    "bought in this period could be the same and then the reccomendation could be more \n",
    "related also to the period in which we need to give them'''\n",
    "\n",
    "#filtering only the weeks of the month of semptember for the years 2018-2020\n",
    "filtered_transactions = transactions[(transactions['t_dat'].dt.month == 9) &\n",
    "                                     (transactions['t_dat'].dt.year.between(2019, 2020))]\n",
    "\n",
    "#groupby of candidates based on the customer_id and extraction of weeks\n",
    "c2weeks = filtered_transactions.groupby('customer_id')['week'].unique()\n",
    "\n",
    "#creation of a dictionary for shifted weeks\n",
    "c2weeks2shifted_weeks = {}\n",
    "candidates_last_purchase_september = filtered_transactions.copy()\n",
    "\n",
    "for c_id, weeks in c2weeks.items():\n",
    "    c2weeks2shifted_weeks[c_id] = {}\n",
    "    for i in range(weeks.shape[0]-1):\n",
    "        c2weeks2shifted_weeks[c_id][weeks[i]] = weeks[i+1]\n",
    "    c2weeks2shifted_weeks[c_id][weeks[-1]] = test_week\n",
    "\n",
    "#update of the dataframe candidates_last_purchase_september\n",
    "weeks = []\n",
    "for i, (c_id, week) in enumerate(zip(filtered_transactions['customer_id'], filtered_transactions['week'])):\n",
    "    weeks.append(c2weeks2shifted_weeks[c_id][week])\n",
    "    \n",
    "candidates_last_purchase_september.week = weeks"
   ]
  },
  {
   "cell_type": "markdown",
   "id": "1519acec",
   "metadata": {
    "papermill": {
     "duration": 0.032519,
     "end_time": "2023-11-20T18:46:32.847213",
     "exception": false,
     "start_time": "2023-11-20T18:46:32.814694",
     "status": "completed"
    },
    "tags": []
   },
   "source": [
    "### candidates"
   ]
  },
  {
   "cell_type": "code",
   "execution_count": 8,
   "id": "5bdcf85a",
   "metadata": {
    "execution": {
     "iopub.execute_input": "2023-11-20T18:46:32.916681Z",
     "iopub.status.busy": "2023-11-20T18:46:32.916015Z",
     "iopub.status.idle": "2023-11-20T18:46:33.078516Z",
     "shell.execute_reply": "2023-11-20T18:46:33.077756Z"
    },
    "papermill": {
     "duration": 0.199985,
     "end_time": "2023-11-20T18:46:33.080970",
     "exception": false,
     "start_time": "2023-11-20T18:46:32.880985",
     "status": "completed"
    },
    "tags": []
   },
   "outputs": [
    {
     "data": {
      "text/html": [
       "<div>\n",
       "<style scoped>\n",
       "    .dataframe tbody tr th:only-of-type {\n",
       "        vertical-align: middle;\n",
       "    }\n",
       "\n",
       "    .dataframe tbody tr th {\n",
       "        vertical-align: top;\n",
       "    }\n",
       "\n",
       "    .dataframe thead th {\n",
       "        text-align: right;\n",
       "    }\n",
       "</style>\n",
       "<table border=\"1\" class=\"dataframe\">\n",
       "  <thead>\n",
       "    <tr style=\"text-align: right;\">\n",
       "      <th></th>\n",
       "      <th>customer_id</th>\n",
       "      <th>mean price purchases</th>\n",
       "    </tr>\n",
       "  </thead>\n",
       "  <tbody>\n",
       "    <tr>\n",
       "      <th>0</th>\n",
       "      <td>28847241659200</td>\n",
       "      <td>0.062695</td>\n",
       "    </tr>\n",
       "    <tr>\n",
       "      <th>1</th>\n",
       "      <td>77117344919861</td>\n",
       "      <td>0.033233</td>\n",
       "    </tr>\n",
       "    <tr>\n",
       "      <th>2</th>\n",
       "      <td>116809474287335</td>\n",
       "      <td>0.033881</td>\n",
       "    </tr>\n",
       "    <tr>\n",
       "      <th>3</th>\n",
       "      <td>200292573348128</td>\n",
       "      <td>0.039305</td>\n",
       "    </tr>\n",
       "    <tr>\n",
       "      <th>4</th>\n",
       "      <td>272412481300040</td>\n",
       "      <td>0.029856</td>\n",
       "    </tr>\n",
       "    <tr>\n",
       "      <th>...</th>\n",
       "      <td>...</td>\n",
       "      <td>...</td>\n",
       "    </tr>\n",
       "    <tr>\n",
       "      <th>364719</th>\n",
       "      <td>18446571879212697038</td>\n",
       "      <td>0.031621</td>\n",
       "    </tr>\n",
       "    <tr>\n",
       "      <th>364720</th>\n",
       "      <td>18446590778427270109</td>\n",
       "      <td>0.029644</td>\n",
       "    </tr>\n",
       "    <tr>\n",
       "      <th>364721</th>\n",
       "      <td>18446630855572834764</td>\n",
       "      <td>0.061000</td>\n",
       "    </tr>\n",
       "    <tr>\n",
       "      <th>364722</th>\n",
       "      <td>18446705133201055310</td>\n",
       "      <td>0.050831</td>\n",
       "    </tr>\n",
       "    <tr>\n",
       "      <th>364723</th>\n",
       "      <td>18446737527580148316</td>\n",
       "      <td>0.023712</td>\n",
       "    </tr>\n",
       "  </tbody>\n",
       "</table>\n",
       "<p>364724 rows × 2 columns</p>\n",
       "</div>"
      ],
      "text/plain": [
       "                 customer_id  mean price purchases\n",
       "0             28847241659200              0.062695\n",
       "1             77117344919861              0.033233\n",
       "2            116809474287335              0.033881\n",
       "3            200292573348128              0.039305\n",
       "4            272412481300040              0.029856\n",
       "...                      ...                   ...\n",
       "364719  18446571879212697038              0.031621\n",
       "364720  18446590778427270109              0.029644\n",
       "364721  18446630855572834764              0.061000\n",
       "364722  18446705133201055310              0.050831\n",
       "364723  18446737527580148316              0.023712\n",
       "\n",
       "[364724 rows x 2 columns]"
      ]
     },
     "execution_count": 8,
     "metadata": {},
     "output_type": "execute_result"
    }
   ],
   "source": [
    "#creation of the mean price of purchases for each candidate only in the filtered transactions\n",
    "mean_price_purchases = filtered_transactions.groupby('customer_id')['price'].mean().rename('mean price purchases').reset_index()\n",
    "mean_price_purchases"
   ]
  },
  {
   "cell_type": "code",
   "execution_count": 9,
   "id": "42c2e885",
   "metadata": {
    "execution": {
     "iopub.execute_input": "2023-11-20T18:46:33.149298Z",
     "iopub.status.busy": "2023-11-20T18:46:33.148684Z",
     "iopub.status.idle": "2023-11-20T18:46:34.541908Z",
     "shell.execute_reply": "2023-11-20T18:46:34.540920Z"
    },
    "papermill": {
     "duration": 1.42921,
     "end_time": "2023-11-20T18:46:34.543731",
     "exception": false,
     "start_time": "2023-11-20T18:46:33.114521",
     "status": "completed"
    },
    "tags": []
   },
   "outputs": [
    {
     "data": {
      "text/html": [
       "<div>\n",
       "<style scoped>\n",
       "    .dataframe tbody tr th:only-of-type {\n",
       "        vertical-align: middle;\n",
       "    }\n",
       "\n",
       "    .dataframe tbody tr th {\n",
       "        vertical-align: top;\n",
       "    }\n",
       "\n",
       "    .dataframe thead th {\n",
       "        text-align: right;\n",
       "    }\n",
       "</style>\n",
       "<table border=\"1\" class=\"dataframe\">\n",
       "  <thead>\n",
       "    <tr style=\"text-align: right;\">\n",
       "      <th></th>\n",
       "      <th>customer_id</th>\n",
       "      <th>most_present_gender_in_area</th>\n",
       "    </tr>\n",
       "  </thead>\n",
       "  <tbody>\n",
       "    <tr>\n",
       "      <th>0</th>\n",
       "      <td>4245900472157</td>\n",
       "      <td>2</td>\n",
       "    </tr>\n",
       "    <tr>\n",
       "      <th>1</th>\n",
       "      <td>23962613628581</td>\n",
       "      <td>0</td>\n",
       "    </tr>\n",
       "    <tr>\n",
       "      <th>2</th>\n",
       "      <td>25398598941468</td>\n",
       "      <td>2</td>\n",
       "    </tr>\n",
       "    <tr>\n",
       "      <th>3</th>\n",
       "      <td>28847241659200</td>\n",
       "      <td>2</td>\n",
       "    </tr>\n",
       "    <tr>\n",
       "      <th>4</th>\n",
       "      <td>41046458195168</td>\n",
       "      <td>2</td>\n",
       "    </tr>\n",
       "    <tr>\n",
       "      <th>...</th>\n",
       "      <td>...</td>\n",
       "      <td>...</td>\n",
       "    </tr>\n",
       "    <tr>\n",
       "      <th>1371975</th>\n",
       "      <td>18446630855572834764</td>\n",
       "      <td>0</td>\n",
       "    </tr>\n",
       "    <tr>\n",
       "      <th>1371976</th>\n",
       "      <td>18446662237889060501</td>\n",
       "      <td>2</td>\n",
       "    </tr>\n",
       "    <tr>\n",
       "      <th>1371977</th>\n",
       "      <td>18446705133201055310</td>\n",
       "      <td>0</td>\n",
       "    </tr>\n",
       "    <tr>\n",
       "      <th>1371978</th>\n",
       "      <td>18446723086055369602</td>\n",
       "      <td>2</td>\n",
       "    </tr>\n",
       "    <tr>\n",
       "      <th>1371979</th>\n",
       "      <td>18446737527580148316</td>\n",
       "      <td>1</td>\n",
       "    </tr>\n",
       "  </tbody>\n",
       "</table>\n",
       "<p>1371980 rows × 2 columns</p>\n",
       "</div>"
      ],
      "text/plain": [
       "                  customer_id  most_present_gender_in_area\n",
       "0               4245900472157                            2\n",
       "1              23962613628581                            0\n",
       "2              25398598941468                            2\n",
       "3              28847241659200                            2\n",
       "4              41046458195168                            2\n",
       "...                       ...                          ...\n",
       "1371975  18446630855572834764                            0\n",
       "1371976  18446662237889060501                            2\n",
       "1371977  18446705133201055310                            0\n",
       "1371978  18446723086055369602                            2\n",
       "1371979  18446737527580148316                            1\n",
       "\n",
       "[1371980 rows x 2 columns]"
      ]
     },
     "execution_count": 9,
     "metadata": {},
     "output_type": "execute_result"
    }
   ],
   "source": [
    "#identification of the gender group that is the most present in a specific geographic area\n",
    "most_present_gender = customers.groupby(['customer_id', 'postal_code', 'numerical_gender']).size().reset_index(name='count')\n",
    "idx = most_present_gender.groupby(['customer_id', 'postal_code'])['count'].transform(max) == most_present_gender['count']\n",
    "most_present_gender = most_present_gender[idx][['customer_id', 'postal_code', 'numerical_gender']]\n",
    "most_present_gender = most_present_gender.rename(columns = {'numerical_gender': 'most_present_gender_in_area'})\n",
    "most_present_gender.drop(columns = 'postal_code', inplace = True)\n",
    "most_present_gender"
   ]
  },
  {
   "cell_type": "code",
   "execution_count": 10,
   "id": "fe1a56be",
   "metadata": {
    "execution": {
     "iopub.execute_input": "2023-11-20T18:46:34.613742Z",
     "iopub.status.busy": "2023-11-20T18:46:34.613258Z",
     "iopub.status.idle": "2023-11-20T18:46:35.613934Z",
     "shell.execute_reply": "2023-11-20T18:46:35.612882Z"
    },
    "papermill": {
     "duration": 1.037616,
     "end_time": "2023-11-20T18:46:35.615683",
     "exception": false,
     "start_time": "2023-11-20T18:46:34.578067",
     "status": "completed"
    },
    "tags": []
   },
   "outputs": [
    {
     "data": {
      "text/html": [
       "<div>\n",
       "<style scoped>\n",
       "    .dataframe tbody tr th:only-of-type {\n",
       "        vertical-align: middle;\n",
       "    }\n",
       "\n",
       "    .dataframe tbody tr th {\n",
       "        vertical-align: top;\n",
       "    }\n",
       "\n",
       "    .dataframe thead th {\n",
       "        text-align: right;\n",
       "    }\n",
       "</style>\n",
       "<table border=\"1\" class=\"dataframe\">\n",
       "  <thead>\n",
       "    <tr style=\"text-align: right;\">\n",
       "      <th></th>\n",
       "      <th>customer_id</th>\n",
       "      <th>median_age_area</th>\n",
       "    </tr>\n",
       "  </thead>\n",
       "  <tbody>\n",
       "    <tr>\n",
       "      <th>0</th>\n",
       "      <td>4245900472157</td>\n",
       "      <td>21.0</td>\n",
       "    </tr>\n",
       "    <tr>\n",
       "      <th>1</th>\n",
       "      <td>23962613628581</td>\n",
       "      <td>34.0</td>\n",
       "    </tr>\n",
       "    <tr>\n",
       "      <th>2</th>\n",
       "      <td>25398598941468</td>\n",
       "      <td>21.0</td>\n",
       "    </tr>\n",
       "    <tr>\n",
       "      <th>3</th>\n",
       "      <td>28847241659200</td>\n",
       "      <td>21.0</td>\n",
       "    </tr>\n",
       "    <tr>\n",
       "      <th>4</th>\n",
       "      <td>41046458195168</td>\n",
       "      <td>18.0</td>\n",
       "    </tr>\n",
       "    <tr>\n",
       "      <th>...</th>\n",
       "      <td>...</td>\n",
       "      <td>...</td>\n",
       "    </tr>\n",
       "    <tr>\n",
       "      <th>1371975</th>\n",
       "      <td>18446630855572834764</td>\n",
       "      <td>33.0</td>\n",
       "    </tr>\n",
       "    <tr>\n",
       "      <th>1371976</th>\n",
       "      <td>18446662237889060501</td>\n",
       "      <td>75.0</td>\n",
       "    </tr>\n",
       "    <tr>\n",
       "      <th>1371977</th>\n",
       "      <td>18446705133201055310</td>\n",
       "      <td>60.0</td>\n",
       "    </tr>\n",
       "    <tr>\n",
       "      <th>1371978</th>\n",
       "      <td>18446723086055369602</td>\n",
       "      <td>33.0</td>\n",
       "    </tr>\n",
       "    <tr>\n",
       "      <th>1371979</th>\n",
       "      <td>18446737527580148316</td>\n",
       "      <td>60.0</td>\n",
       "    </tr>\n",
       "  </tbody>\n",
       "</table>\n",
       "<p>1371980 rows × 2 columns</p>\n",
       "</div>"
      ],
      "text/plain": [
       "                  customer_id  median_age_area\n",
       "0               4245900472157             21.0\n",
       "1              23962613628581             34.0\n",
       "2              25398598941468             21.0\n",
       "3              28847241659200             21.0\n",
       "4              41046458195168             18.0\n",
       "...                       ...              ...\n",
       "1371975  18446630855572834764             33.0\n",
       "1371976  18446662237889060501             75.0\n",
       "1371977  18446705133201055310             60.0\n",
       "1371978  18446723086055369602             33.0\n",
       "1371979  18446737527580148316             60.0\n",
       "\n",
       "[1371980 rows x 2 columns]"
      ]
     },
     "execution_count": 10,
     "metadata": {},
     "output_type": "execute_result"
    }
   ],
   "source": [
    "#identification of the medium age for geographic area\n",
    "median_age = customers.groupby(['customer_id', 'postal_code'])['age'].median().reset_index(name = 'median_age_area')\n",
    "median_age.drop(columns = 'postal_code', inplace = True)\n",
    "median_age"
   ]
  },
  {
   "cell_type": "code",
   "execution_count": 11,
   "id": "b7eebaf5",
   "metadata": {
    "execution": {
     "iopub.execute_input": "2023-11-20T18:46:35.686796Z",
     "iopub.status.busy": "2023-11-20T18:46:35.686557Z",
     "iopub.status.idle": "2023-11-20T18:46:36.948852Z",
     "shell.execute_reply": "2023-11-20T18:46:36.947905Z"
    },
    "papermill": {
     "duration": 1.300132,
     "end_time": "2023-11-20T18:46:36.950790",
     "exception": false,
     "start_time": "2023-11-20T18:46:35.650658",
     "status": "completed"
    },
    "tags": []
   },
   "outputs": [
    {
     "data": {
      "text/plain": [
       "Index(['t_dat', 'customer_id', 'article_id', 'price', 'sales_channel_id',\n",
       "       'week', 'mean price purchases', 'most_present_gender_in_area',\n",
       "       'median_age_area'],\n",
       "      dtype='object')"
      ]
     },
     "execution_count": 11,
     "metadata": {},
     "output_type": "execute_result"
    }
   ],
   "source": [
    "candidates_definitive = pd.merge(candidates_last_purchase_september, mean_price_purchases, on = 'customer_id') #merge of values of mean fo the purchases\n",
    "candidates_definitive = pd.merge(candidates_definitive, most_present_gender, on = 'customer_id') #merge of values of the dominant gender in teh geographic area of the customer\n",
    "candidates_definitive = pd.merge(candidates_definitive, median_age, on = 'customer_id') #merge of values of the dominant gender in teh geographic area of the customer\n",
    "\n",
    "candidates_definitive.columns"
   ]
  },
  {
   "cell_type": "code",
   "execution_count": 12,
   "id": "fa4adf14",
   "metadata": {
    "execution": {
     "iopub.execute_input": "2023-11-20T18:46:37.023388Z",
     "iopub.status.busy": "2023-11-20T18:46:37.023119Z",
     "iopub.status.idle": "2023-11-20T18:46:37.126648Z",
     "shell.execute_reply": "2023-11-20T18:46:37.126112Z"
    },
    "papermill": {
     "duration": 0.142583,
     "end_time": "2023-11-20T18:46:37.128409",
     "exception": false,
     "start_time": "2023-11-20T18:46:36.985826",
     "status": "completed"
    },
    "tags": []
   },
   "outputs": [],
   "source": [
    "candidates_definitive = candidates_definitive.drop_duplicates(subset = 'customer_id')"
   ]
  },
  {
   "cell_type": "code",
   "execution_count": 13,
   "id": "2a8dab75",
   "metadata": {
    "execution": {
     "iopub.execute_input": "2023-11-20T18:46:37.200978Z",
     "iopub.status.busy": "2023-11-20T18:46:37.200603Z",
     "iopub.status.idle": "2023-11-20T18:46:37.217418Z",
     "shell.execute_reply": "2023-11-20T18:46:37.216709Z"
    },
    "papermill": {
     "duration": 0.055604,
     "end_time": "2023-11-20T18:46:37.218948",
     "exception": false,
     "start_time": "2023-11-20T18:46:37.163344",
     "status": "completed"
    },
    "tags": []
   },
   "outputs": [
    {
     "data": {
      "text/html": [
       "<div>\n",
       "<style scoped>\n",
       "    .dataframe tbody tr th:only-of-type {\n",
       "        vertical-align: middle;\n",
       "    }\n",
       "\n",
       "    .dataframe tbody tr th {\n",
       "        vertical-align: top;\n",
       "    }\n",
       "\n",
       "    .dataframe thead th {\n",
       "        text-align: right;\n",
       "    }\n",
       "</style>\n",
       "<table border=\"1\" class=\"dataframe\">\n",
       "  <thead>\n",
       "    <tr style=\"text-align: right;\">\n",
       "      <th></th>\n",
       "      <th>t_dat</th>\n",
       "      <th>customer_id</th>\n",
       "      <th>article_id</th>\n",
       "      <th>price</th>\n",
       "      <th>sales_channel_id</th>\n",
       "      <th>week</th>\n",
       "      <th>mean price purchases</th>\n",
       "      <th>most_present_gender_in_area</th>\n",
       "      <th>median_age_area</th>\n",
       "    </tr>\n",
       "  </thead>\n",
       "  <tbody>\n",
       "    <tr>\n",
       "      <th>0</th>\n",
       "      <td>2019-09-01</td>\n",
       "      <td>5341589326356166</td>\n",
       "      <td>767893004</td>\n",
       "      <td>0.016932</td>\n",
       "      <td>2</td>\n",
       "      <td>105</td>\n",
       "      <td>0.016085</td>\n",
       "      <td>2</td>\n",
       "      <td>20.0</td>\n",
       "    </tr>\n",
       "    <tr>\n",
       "      <th>1</th>\n",
       "      <td>2019-09-01</td>\n",
       "      <td>6553270874922497</td>\n",
       "      <td>708138021</td>\n",
       "      <td>0.067780</td>\n",
       "      <td>2</td>\n",
       "      <td>105</td>\n",
       "      <td>0.045181</td>\n",
       "      <td>2</td>\n",
       "      <td>24.0</td>\n",
       "    </tr>\n",
       "    <tr>\n",
       "      <th>2</th>\n",
       "      <td>2019-09-01</td>\n",
       "      <td>9020202416008033</td>\n",
       "      <td>696744001</td>\n",
       "      <td>0.049983</td>\n",
       "      <td>2</td>\n",
       "      <td>105</td>\n",
       "      <td>0.057126</td>\n",
       "      <td>2</td>\n",
       "      <td>34.0</td>\n",
       "    </tr>\n",
       "    <tr>\n",
       "      <th>3</th>\n",
       "      <td>2019-09-01</td>\n",
       "      <td>9395514529856290</td>\n",
       "      <td>779781003</td>\n",
       "      <td>0.042356</td>\n",
       "      <td>1</td>\n",
       "      <td>53</td>\n",
       "      <td>0.023712</td>\n",
       "      <td>2</td>\n",
       "      <td>54.0</td>\n",
       "    </tr>\n",
       "    <tr>\n",
       "      <th>4</th>\n",
       "      <td>2019-09-01</td>\n",
       "      <td>12485207671530100</td>\n",
       "      <td>715546002</td>\n",
       "      <td>0.011356</td>\n",
       "      <td>1</td>\n",
       "      <td>105</td>\n",
       "      <td>0.011346</td>\n",
       "      <td>0</td>\n",
       "      <td>25.0</td>\n",
       "    </tr>\n",
       "    <tr>\n",
       "      <th>...</th>\n",
       "      <td>...</td>\n",
       "      <td>...</td>\n",
       "      <td>...</td>\n",
       "      <td>...</td>\n",
       "      <td>...</td>\n",
       "      <td>...</td>\n",
       "      <td>...</td>\n",
       "      <td>...</td>\n",
       "      <td>...</td>\n",
       "    </tr>\n",
       "    <tr>\n",
       "      <th>364719</th>\n",
       "      <td>2020-09-22</td>\n",
       "      <td>18417769707947924979</td>\n",
       "      <td>729860001</td>\n",
       "      <td>0.022017</td>\n",
       "      <td>2</td>\n",
       "      <td>105</td>\n",
       "      <td>0.019475</td>\n",
       "      <td>2</td>\n",
       "      <td>40.0</td>\n",
       "    </tr>\n",
       "    <tr>\n",
       "      <th>364720</th>\n",
       "      <td>2020-09-22</td>\n",
       "      <td>18418054986721795659</td>\n",
       "      <td>873279003</td>\n",
       "      <td>0.042356</td>\n",
       "      <td>2</td>\n",
       "      <td>105</td>\n",
       "      <td>0.042356</td>\n",
       "      <td>0</td>\n",
       "      <td>28.0</td>\n",
       "    </tr>\n",
       "    <tr>\n",
       "      <th>364721</th>\n",
       "      <td>2020-09-22</td>\n",
       "      <td>18421175435799911749</td>\n",
       "      <td>863583001</td>\n",
       "      <td>0.033881</td>\n",
       "      <td>2</td>\n",
       "      <td>105</td>\n",
       "      <td>0.033881</td>\n",
       "      <td>2</td>\n",
       "      <td>28.0</td>\n",
       "    </tr>\n",
       "    <tr>\n",
       "      <th>364722</th>\n",
       "      <td>2020-09-22</td>\n",
       "      <td>18422784312842572958</td>\n",
       "      <td>639448011</td>\n",
       "      <td>0.050831</td>\n",
       "      <td>1</td>\n",
       "      <td>105</td>\n",
       "      <td>0.032186</td>\n",
       "      <td>2</td>\n",
       "      <td>25.0</td>\n",
       "    </tr>\n",
       "    <tr>\n",
       "      <th>364723</th>\n",
       "      <td>2020-09-22</td>\n",
       "      <td>18438270306572912089</td>\n",
       "      <td>751471043</td>\n",
       "      <td>0.033881</td>\n",
       "      <td>1</td>\n",
       "      <td>105</td>\n",
       "      <td>0.033881</td>\n",
       "      <td>0</td>\n",
       "      <td>71.0</td>\n",
       "    </tr>\n",
       "  </tbody>\n",
       "</table>\n",
       "<p>364724 rows × 9 columns</p>\n",
       "</div>"
      ],
      "text/plain": [
       "            t_dat           customer_id  article_id     price  \\\n",
       "0      2019-09-01      5341589326356166   767893004  0.016932   \n",
       "1      2019-09-01      6553270874922497   708138021  0.067780   \n",
       "2      2019-09-01      9020202416008033   696744001  0.049983   \n",
       "3      2019-09-01      9395514529856290   779781003  0.042356   \n",
       "4      2019-09-01     12485207671530100   715546002  0.011356   \n",
       "...           ...                   ...         ...       ...   \n",
       "364719 2020-09-22  18417769707947924979   729860001  0.022017   \n",
       "364720 2020-09-22  18418054986721795659   873279003  0.042356   \n",
       "364721 2020-09-22  18421175435799911749   863583001  0.033881   \n",
       "364722 2020-09-22  18422784312842572958   639448011  0.050831   \n",
       "364723 2020-09-22  18438270306572912089   751471043  0.033881   \n",
       "\n",
       "        sales_channel_id  week  mean price purchases  \\\n",
       "0                      2   105              0.016085   \n",
       "1                      2   105              0.045181   \n",
       "2                      2   105              0.057126   \n",
       "3                      1    53              0.023712   \n",
       "4                      1   105              0.011346   \n",
       "...                  ...   ...                   ...   \n",
       "364719                 2   105              0.019475   \n",
       "364720                 2   105              0.042356   \n",
       "364721                 2   105              0.033881   \n",
       "364722                 1   105              0.032186   \n",
       "364723                 1   105              0.033881   \n",
       "\n",
       "        most_present_gender_in_area  median_age_area  \n",
       "0                                 2             20.0  \n",
       "1                                 2             24.0  \n",
       "2                                 2             34.0  \n",
       "3                                 2             54.0  \n",
       "4                                 0             25.0  \n",
       "...                             ...              ...  \n",
       "364719                            2             40.0  \n",
       "364720                            0             28.0  \n",
       "364721                            2             28.0  \n",
       "364722                            2             25.0  \n",
       "364723                            0             71.0  \n",
       "\n",
       "[364724 rows x 9 columns]"
      ]
     },
     "execution_count": 13,
     "metadata": {},
     "output_type": "execute_result"
    }
   ],
   "source": [
    "#dataset about candidates in the analyzed period\n",
    "candidates_definitive.reset_index(drop = True, inplace = True)\n",
    "candidates_definitive"
   ]
  },
  {
   "cell_type": "code",
   "execution_count": 14,
   "id": "23720240",
   "metadata": {
    "execution": {
     "iopub.execute_input": "2023-11-20T18:46:37.291034Z",
     "iopub.status.busy": "2023-11-20T18:46:37.290156Z",
     "iopub.status.idle": "2023-11-20T18:46:37.399236Z",
     "shell.execute_reply": "2023-11-20T18:46:37.398626Z"
    },
    "papermill": {
     "duration": 0.146931,
     "end_time": "2023-11-20T18:46:37.400806",
     "exception": false,
     "start_time": "2023-11-20T18:46:37.253875",
     "status": "completed"
    },
    "tags": []
   },
   "outputs": [
    {
     "data": {
      "text/html": [
       "<div>\n",
       "<style scoped>\n",
       "    .dataframe tbody tr th:only-of-type {\n",
       "        vertical-align: middle;\n",
       "    }\n",
       "\n",
       "    .dataframe tbody tr th {\n",
       "        vertical-align: top;\n",
       "    }\n",
       "\n",
       "    .dataframe thead th {\n",
       "        text-align: right;\n",
       "    }\n",
       "</style>\n",
       "<table border=\"1\" class=\"dataframe\">\n",
       "  <thead>\n",
       "    <tr style=\"text-align: right;\">\n",
       "      <th></th>\n",
       "      <th>t_dat</th>\n",
       "      <th>customer_id</th>\n",
       "      <th>article_id</th>\n",
       "      <th>price</th>\n",
       "      <th>sales_channel_id</th>\n",
       "      <th>week</th>\n",
       "    </tr>\n",
       "  </thead>\n",
       "  <tbody>\n",
       "    <tr>\n",
       "      <th>0</th>\n",
       "      <td>2019-09-01</td>\n",
       "      <td>5341589326356166</td>\n",
       "      <td>767893004</td>\n",
       "      <td>0.016932</td>\n",
       "      <td>2</td>\n",
       "      <td>49</td>\n",
       "    </tr>\n",
       "    <tr>\n",
       "      <th>1</th>\n",
       "      <td>2019-09-01</td>\n",
       "      <td>6553270874922497</td>\n",
       "      <td>708138021</td>\n",
       "      <td>0.067780</td>\n",
       "      <td>2</td>\n",
       "      <td>49</td>\n",
       "    </tr>\n",
       "    <tr>\n",
       "      <th>2</th>\n",
       "      <td>2019-09-01</td>\n",
       "      <td>9020202416008033</td>\n",
       "      <td>696744001</td>\n",
       "      <td>0.049983</td>\n",
       "      <td>2</td>\n",
       "      <td>49</td>\n",
       "    </tr>\n",
       "    <tr>\n",
       "      <th>3</th>\n",
       "      <td>2019-09-01</td>\n",
       "      <td>9395514529856290</td>\n",
       "      <td>779781003</td>\n",
       "      <td>0.042356</td>\n",
       "      <td>1</td>\n",
       "      <td>49</td>\n",
       "    </tr>\n",
       "    <tr>\n",
       "      <th>4</th>\n",
       "      <td>2019-09-01</td>\n",
       "      <td>12485207671530100</td>\n",
       "      <td>715546002</td>\n",
       "      <td>0.011356</td>\n",
       "      <td>1</td>\n",
       "      <td>49</td>\n",
       "    </tr>\n",
       "    <tr>\n",
       "      <th>...</th>\n",
       "      <td>...</td>\n",
       "      <td>...</td>\n",
       "      <td>...</td>\n",
       "      <td>...</td>\n",
       "      <td>...</td>\n",
       "      <td>...</td>\n",
       "    </tr>\n",
       "    <tr>\n",
       "      <th>364719</th>\n",
       "      <td>2020-09-22</td>\n",
       "      <td>18417769707947924979</td>\n",
       "      <td>729860001</td>\n",
       "      <td>0.022017</td>\n",
       "      <td>2</td>\n",
       "      <td>104</td>\n",
       "    </tr>\n",
       "    <tr>\n",
       "      <th>364720</th>\n",
       "      <td>2020-09-22</td>\n",
       "      <td>18418054986721795659</td>\n",
       "      <td>873279003</td>\n",
       "      <td>0.042356</td>\n",
       "      <td>2</td>\n",
       "      <td>104</td>\n",
       "    </tr>\n",
       "    <tr>\n",
       "      <th>364721</th>\n",
       "      <td>2020-09-22</td>\n",
       "      <td>18421175435799911749</td>\n",
       "      <td>863583001</td>\n",
       "      <td>0.033881</td>\n",
       "      <td>2</td>\n",
       "      <td>104</td>\n",
       "    </tr>\n",
       "    <tr>\n",
       "      <th>364722</th>\n",
       "      <td>2020-09-22</td>\n",
       "      <td>18422784312842572958</td>\n",
       "      <td>639448011</td>\n",
       "      <td>0.050831</td>\n",
       "      <td>1</td>\n",
       "      <td>104</td>\n",
       "    </tr>\n",
       "    <tr>\n",
       "      <th>364723</th>\n",
       "      <td>2020-09-22</td>\n",
       "      <td>18438270306572912089</td>\n",
       "      <td>751471043</td>\n",
       "      <td>0.033881</td>\n",
       "      <td>1</td>\n",
       "      <td>104</td>\n",
       "    </tr>\n",
       "  </tbody>\n",
       "</table>\n",
       "<p>364724 rows × 6 columns</p>\n",
       "</div>"
      ],
      "text/plain": [
       "            t_dat           customer_id  article_id     price  \\\n",
       "0      2019-09-01      5341589326356166   767893004  0.016932   \n",
       "1      2019-09-01      6553270874922497   708138021  0.067780   \n",
       "2      2019-09-01      9020202416008033   696744001  0.049983   \n",
       "3      2019-09-01      9395514529856290   779781003  0.042356   \n",
       "4      2019-09-01     12485207671530100   715546002  0.011356   \n",
       "...           ...                   ...         ...       ...   \n",
       "364719 2020-09-22  18417769707947924979   729860001  0.022017   \n",
       "364720 2020-09-22  18418054986721795659   873279003  0.042356   \n",
       "364721 2020-09-22  18421175435799911749   863583001  0.033881   \n",
       "364722 2020-09-22  18422784312842572958   639448011  0.050831   \n",
       "364723 2020-09-22  18438270306572912089   751471043  0.033881   \n",
       "\n",
       "        sales_channel_id  week  \n",
       "0                      2    49  \n",
       "1                      2    49  \n",
       "2                      2    49  \n",
       "3                      1    49  \n",
       "4                      1    49  \n",
       "...                  ...   ...  \n",
       "364719                 2   104  \n",
       "364720                 2   104  \n",
       "364721                 2   104  \n",
       "364722                 1   104  \n",
       "364723                 1   104  \n",
       "\n",
       "[364724 rows x 6 columns]"
      ]
     },
     "execution_count": 14,
     "metadata": {},
     "output_type": "execute_result"
    }
   ],
   "source": [
    "#test set about transactions\n",
    "test_set_transactions = filtered_transactions.drop_duplicates('customer_id')\n",
    "test_set_transactions.reset_index(drop = True, inplace = True)\n",
    "test_set_transactions"
   ]
  },
  {
   "cell_type": "code",
   "execution_count": 15,
   "id": "fe528d91",
   "metadata": {
    "execution": {
     "iopub.execute_input": "2023-11-20T18:46:37.474337Z",
     "iopub.status.busy": "2023-11-20T18:46:37.473903Z",
     "iopub.status.idle": "2023-11-20T18:46:38.031880Z",
     "shell.execute_reply": "2023-11-20T18:46:38.030715Z"
    },
    "papermill": {
     "duration": 0.59734,
     "end_time": "2023-11-20T18:46:38.033936",
     "exception": false,
     "start_time": "2023-11-20T18:46:37.436596",
     "status": "completed"
    },
    "tags": []
   },
   "outputs": [],
   "source": [
    "#bestsellers for septembers\n",
    "mean_price = filtered_transactions \\\n",
    "    .groupby(['week', 'article_id'])['price'].mean()\n",
    "\n",
    "sales = filtered_transactions \\\n",
    "    .groupby('week')['article_id'].value_counts() \\\n",
    "    .groupby('week').rank(method='dense', ascending=False) \\\n",
    "    .groupby('week').head(12).rename('bestseller_rank').astype('int8')\n",
    "\n",
    "bestsellers_september = pd.merge(sales, mean_price, on=['week', 'article_id']).reset_index()"
   ]
  },
  {
   "cell_type": "markdown",
   "id": "9073ad36",
   "metadata": {
    "papermill": {
     "duration": 0.035631,
     "end_time": "2023-11-20T18:46:38.106486",
     "exception": false,
     "start_time": "2023-11-20T18:46:38.070855",
     "status": "completed"
    },
    "tags": []
   },
   "source": [
    "# Combining transactions and candidates / negative examples"
   ]
  },
  {
   "cell_type": "code",
   "execution_count": 16,
   "id": "3defee2c",
   "metadata": {
    "execution": {
     "iopub.execute_input": "2023-11-20T18:46:38.180037Z",
     "iopub.status.busy": "2023-11-20T18:46:38.179787Z",
     "iopub.status.idle": "2023-11-20T18:46:38.187506Z",
     "shell.execute_reply": "2023-11-20T18:46:38.186624Z"
    },
    "papermill": {
     "duration": 0.04672,
     "end_time": "2023-11-20T18:46:38.189058",
     "exception": false,
     "start_time": "2023-11-20T18:46:38.142338",
     "status": "completed"
    },
    "tags": []
   },
   "outputs": [
    {
     "name": "stderr",
     "output_type": "stream",
     "text": [
      "/opt/conda/lib/python3.7/site-packages/pandas/core/indexing.py:1667: SettingWithCopyWarning: \n",
      "A value is trying to be set on a copy of a slice from a DataFrame.\n",
      "Try using .loc[row_indexer,col_indexer] = value instead\n",
      "\n",
      "See the caveats in the documentation: https://pandas.pydata.org/pandas-docs/stable/user_guide/indexing.html#returning-a-view-versus-a-copy\n",
      "  self.obj[key] = value\n"
     ]
    }
   ],
   "source": [
    "filtered_transactions.loc[:, 'purchased'] = 1"
   ]
  },
  {
   "cell_type": "code",
   "execution_count": 17,
   "id": "2151fcc4",
   "metadata": {
    "execution": {
     "iopub.execute_input": "2023-11-20T18:46:38.262708Z",
     "iopub.status.busy": "2023-11-20T18:46:38.262437Z",
     "iopub.status.idle": "2023-11-20T18:46:55.966227Z",
     "shell.execute_reply": "2023-11-20T18:46:55.965414Z"
    },
    "papermill": {
     "duration": 17.743251,
     "end_time": "2023-11-20T18:46:55.968520",
     "exception": false,
     "start_time": "2023-11-20T18:46:38.225269",
     "status": "completed"
    },
    "tags": []
   },
   "outputs": [],
   "source": [
    "data = pd.concat([filtered_transactions, candidates_last_purchase_september])\n",
    "data = pd.merge(data, bestsellers_september[['article_id', 'bestseller_rank']], on = 'article_id', how = 'left')\n",
    "data.fillna(0, inplace = True)"
   ]
  },
  {
   "cell_type": "code",
   "execution_count": 18,
   "id": "dec1c599",
   "metadata": {
    "execution": {
     "iopub.execute_input": "2023-11-20T18:46:56.043655Z",
     "iopub.status.busy": "2023-11-20T18:46:56.043375Z",
     "iopub.status.idle": "2023-11-20T18:46:56.793097Z",
     "shell.execute_reply": "2023-11-20T18:46:56.792481Z"
    },
    "papermill": {
     "duration": 0.78921,
     "end_time": "2023-11-20T18:46:56.795038",
     "exception": false,
     "start_time": "2023-11-20T18:46:56.005828",
     "status": "completed"
    },
    "tags": []
   },
   "outputs": [],
   "source": [
    "#adding candidates info\n",
    "data = pd.merge(data, candidates_definitive[['customer_id', 'mean price purchases', 'most_present_gender_in_area', 'median_age_area']], on = 'customer_id', how = 'left')"
   ]
  },
  {
   "cell_type": "code",
   "execution_count": 19,
   "id": "f2d29cdb",
   "metadata": {
    "execution": {
     "iopub.execute_input": "2023-11-20T18:46:56.870664Z",
     "iopub.status.busy": "2023-11-20T18:46:56.870417Z",
     "iopub.status.idle": "2023-11-20T18:47:02.617115Z",
     "shell.execute_reply": "2023-11-20T18:47:02.616399Z"
    },
    "papermill": {
     "duration": 5.78725,
     "end_time": "2023-11-20T18:47:02.619076",
     "exception": false,
     "start_time": "2023-11-20T18:46:56.831826",
     "status": "completed"
    },
    "tags": []
   },
   "outputs": [],
   "source": [
    "#adding initial datasets to my new dataset\n",
    "data = pd.merge(data, articles, on = 'article_id', how = 'left')\n",
    "data = pd.merge(data, customers, on = 'customer_id', how = 'left')"
   ]
  },
  {
   "cell_type": "code",
   "execution_count": 20,
   "id": "cabf3e3d",
   "metadata": {
    "execution": {
     "iopub.execute_input": "2023-11-20T18:47:02.695237Z",
     "iopub.status.busy": "2023-11-20T18:47:02.694996Z",
     "iopub.status.idle": "2023-11-20T18:47:04.350033Z",
     "shell.execute_reply": "2023-11-20T18:47:04.349271Z"
    },
    "papermill": {
     "duration": 1.69466,
     "end_time": "2023-11-20T18:47:04.352003",
     "exception": false,
     "start_time": "2023-11-20T18:47:02.657343",
     "status": "completed"
    },
    "tags": []
   },
   "outputs": [],
   "source": [
    "data.sort_values(['week', 'customer_id'], inplace=True)\n",
    "data.reset_index(drop=True, inplace=True)"
   ]
  },
  {
   "cell_type": "code",
   "execution_count": 21,
   "id": "7a0ce039",
   "metadata": {
    "execution": {
     "iopub.execute_input": "2023-11-20T18:47:04.425788Z",
     "iopub.status.busy": "2023-11-20T18:47:04.425528Z",
     "iopub.status.idle": "2023-11-20T18:47:05.682033Z",
     "shell.execute_reply": "2023-11-20T18:47:05.681271Z"
    },
    "papermill": {
     "duration": 1.29599,
     "end_time": "2023-11-20T18:47:05.684000",
     "exception": false,
     "start_time": "2023-11-20T18:47:04.388010",
     "status": "completed"
    },
    "tags": []
   },
   "outputs": [],
   "source": [
    "train = data[data.week != test_week]\n",
    "test = data[data.week==test_week].drop_duplicates(['customer_id', 'article_id', 'sales_channel_id']).copy()"
   ]
  },
  {
   "cell_type": "code",
   "execution_count": 22,
   "id": "e8cbf6c0",
   "metadata": {
    "execution": {
     "iopub.execute_input": "2023-11-20T18:47:05.759529Z",
     "iopub.status.busy": "2023-11-20T18:47:05.758719Z",
     "iopub.status.idle": "2023-11-20T18:47:06.036306Z",
     "shell.execute_reply": "2023-11-20T18:47:06.035571Z"
    },
    "papermill": {
     "duration": 0.317893,
     "end_time": "2023-11-20T18:47:06.038334",
     "exception": false,
     "start_time": "2023-11-20T18:47:05.720441",
     "status": "completed"
    },
    "tags": []
   },
   "outputs": [],
   "source": [
    "train_baskets = train.groupby(['week', 'customer_id'])['article_id'].count().values"
   ]
  },
  {
   "cell_type": "code",
   "execution_count": 23,
   "id": "c4e5dfda",
   "metadata": {
    "execution": {
     "iopub.execute_input": "2023-11-20T18:47:06.114487Z",
     "iopub.status.busy": "2023-11-20T18:47:06.114224Z",
     "iopub.status.idle": "2023-11-20T18:47:06.118048Z",
     "shell.execute_reply": "2023-11-20T18:47:06.117511Z"
    },
    "papermill": {
     "duration": 0.044309,
     "end_time": "2023-11-20T18:47:06.119536",
     "exception": false,
     "start_time": "2023-11-20T18:47:06.075227",
     "status": "completed"
    },
    "tags": []
   },
   "outputs": [],
   "source": [
    "columns_to_use = ['article_id', 'product_type_no', 'graphical_appearance_no', 'colour_group_code', 'perceived_colour_value_id',\n",
    "'perceived_colour_master_id', 'department_no', 'index_code', 'index_group_no', 'section_no', 'garment_group_no', 'FN', 'Active',\n",
    "'club_member_status', 'fashion_news_frequency', 'bestseller_rank', 'mean price purchases', 'most_present_gender_in_area', 'median_age_area']"
   ]
  },
  {
   "cell_type": "code",
   "execution_count": 24,
   "id": "69faaf25",
   "metadata": {
    "execution": {
     "iopub.execute_input": "2023-11-20T18:47:06.194865Z",
     "iopub.status.busy": "2023-11-20T18:47:06.194499Z",
     "iopub.status.idle": "2023-11-20T18:47:06.281074Z",
     "shell.execute_reply": "2023-11-20T18:47:06.280640Z"
    },
    "papermill": {
     "duration": 0.126935,
     "end_time": "2023-11-20T18:47:06.282782",
     "exception": false,
     "start_time": "2023-11-20T18:47:06.155847",
     "status": "completed"
    },
    "tags": []
   },
   "outputs": [
    {
     "name": "stdout",
     "output_type": "stream",
     "text": [
      "CPU times: user 48.2 ms, sys: 34 ms, total: 82.3 ms\n",
      "Wall time: 82.4 ms\n"
     ]
    }
   ],
   "source": [
    "%%time\n",
    "\n",
    "train_X = train[columns_to_use]\n",
    "train_y = train['purchased']\n",
    "\n",
    "test_X = test[columns_to_use]"
   ]
  },
  {
   "cell_type": "markdown",
   "id": "a4346838",
   "metadata": {
    "papermill": {
     "duration": 0.036305,
     "end_time": "2023-11-20T18:47:06.355391",
     "exception": false,
     "start_time": "2023-11-20T18:47:06.319086",
     "status": "completed"
    },
    "tags": []
   },
   "source": [
    "# Model training"
   ]
  },
  {
   "cell_type": "code",
   "execution_count": 25,
   "id": "603df292",
   "metadata": {
    "execution": {
     "iopub.execute_input": "2023-11-20T18:47:06.430373Z",
     "iopub.status.busy": "2023-11-20T18:47:06.430125Z",
     "iopub.status.idle": "2023-11-20T18:47:07.258888Z",
     "shell.execute_reply": "2023-11-20T18:47:07.257859Z"
    },
    "papermill": {
     "duration": 0.868906,
     "end_time": "2023-11-20T18:47:07.261014",
     "exception": false,
     "start_time": "2023-11-20T18:47:06.392108",
     "status": "completed"
    },
    "tags": []
   },
   "outputs": [
    {
     "data": {
      "text/html": [
       "<style type='text/css'>\n",
       ".datatable table.frame { margin-bottom: 0; }\n",
       ".datatable table.frame thead { border-bottom: none; }\n",
       ".datatable table.frame tr.coltypes td {  color: #FFFFFF;  line-height: 6px;  padding: 0 0.5em;}\n",
       ".datatable .bool    { background: #DDDD99; }\n",
       ".datatable .object  { background: #565656; }\n",
       ".datatable .int     { background: #5D9E5D; }\n",
       ".datatable .float   { background: #4040CC; }\n",
       ".datatable .str     { background: #CC4040; }\n",
       ".datatable .time    { background: #40CC40; }\n",
       ".datatable .row_index {  background: var(--jp-border-color3);  border-right: 1px solid var(--jp-border-color0);  color: var(--jp-ui-font-color3);  font-size: 9px;}\n",
       ".datatable .frame tbody td { text-align: left; }\n",
       ".datatable .frame tr.coltypes .row_index {  background: var(--jp-border-color0);}\n",
       ".datatable th:nth-child(2) { padding-left: 12px; }\n",
       ".datatable .hellipsis {  color: var(--jp-cell-editor-border-color);}\n",
       ".datatable .vellipsis {  background: var(--jp-layout-color0);  color: var(--jp-cell-editor-border-color);}\n",
       ".datatable .na {  color: var(--jp-cell-editor-border-color);  font-size: 80%;}\n",
       ".datatable .sp {  opacity: 0.25;}\n",
       ".datatable .footer { font-size: 9px; }\n",
       ".datatable .frame_dimensions {  background: var(--jp-border-color3);  border-top: 1px solid var(--jp-border-color0);  color: var(--jp-ui-font-color3);  display: inline-block;  opacity: 0.6;  padding: 1px 10px 1px 5px;}\n",
       "</style>\n"
      ],
      "text/plain": [
       "<IPython.core.display.HTML object>"
      ]
     },
     "metadata": {},
     "output_type": "display_data"
    }
   ],
   "source": [
    "from lightgbm.sklearn import LGBMRanker"
   ]
  },
  {
   "cell_type": "code",
   "execution_count": 26,
   "id": "856d4907",
   "metadata": {
    "execution": {
     "iopub.execute_input": "2023-11-20T18:47:07.335972Z",
     "iopub.status.busy": "2023-11-20T18:47:07.335286Z",
     "iopub.status.idle": "2023-11-20T18:47:07.339078Z",
     "shell.execute_reply": "2023-11-20T18:47:07.338610Z"
    },
    "papermill": {
     "duration": 0.04361,
     "end_time": "2023-11-20T18:47:07.340697",
     "exception": false,
     "start_time": "2023-11-20T18:47:07.297087",
     "status": "completed"
    },
    "tags": []
   },
   "outputs": [],
   "source": [
    "ranker = LGBMRanker(\n",
    "    objective=\"lambdarank\",\n",
    "    metric=\"ndcg\",\n",
    "    boosting_type=\"dart\",\n",
    "    n_estimators=1,\n",
    "    importance_type='gain',\n",
    "    verbose=10\n",
    ")"
   ]
  },
  {
   "cell_type": "code",
   "execution_count": 27,
   "id": "ba0cba0e",
   "metadata": {
    "execution": {
     "iopub.execute_input": "2023-11-20T18:47:07.416029Z",
     "iopub.status.busy": "2023-11-20T18:47:07.415752Z",
     "iopub.status.idle": "2023-11-20T18:47:09.560662Z",
     "shell.execute_reply": "2023-11-20T18:47:09.560183Z"
    },
    "papermill": {
     "duration": 2.184384,
     "end_time": "2023-11-20T18:47:09.562124",
     "exception": false,
     "start_time": "2023-11-20T18:47:07.377740",
     "status": "completed"
    },
    "tags": []
   },
   "outputs": [
    {
     "name": "stdout",
     "output_type": "stream",
     "text": [
      "[LightGBM] [Warning] Found whitespace in feature_names, replace with underlines\n",
      "[LightGBM] [Debug] Dataset::GetMultiBinFromSparseFeatures: sparse rate 0.940203\n",
      "[LightGBM] [Debug] Dataset::GetMultiBinFromAllFeatures: sparse rate 0.173201\n",
      "[LightGBM] [Debug] init for col-wise cost 0.044369 seconds, init for row-wise cost 0.227277 seconds\n",
      "[LightGBM] [Warning] Auto-choosing col-wise multi-threading, the overhead of testing was 0.387035 seconds.\n",
      "You can set `force_col_wise=true` to remove the overhead.\n",
      "[LightGBM] [Info] Total Bins 1112\n",
      "[LightGBM] [Info] Number of data points in the train set: 2918658, number of used features: 19\n",
      "[LightGBM] [Debug] Trained a tree with leaves = 31 and depth = 13\n",
      "CPU times: user 6.42 s, sys: 274 ms, total: 6.69 s\n",
      "Wall time: 2.14 s\n"
     ]
    }
   ],
   "source": [
    "%%time\n",
    "\n",
    "ranker = ranker.fit(\n",
    "    train_X,\n",
    "    train_y,\n",
    "    group=train_baskets,\n",
    ")"
   ]
  },
  {
   "cell_type": "code",
   "execution_count": 28,
   "id": "77ed7bcc",
   "metadata": {
    "execution": {
     "iopub.execute_input": "2023-11-20T18:47:09.640639Z",
     "iopub.status.busy": "2023-11-20T18:47:09.640354Z",
     "iopub.status.idle": "2023-11-20T18:47:09.652579Z",
     "shell.execute_reply": "2023-11-20T18:47:09.651928Z"
    },
    "papermill": {
     "duration": 0.054312,
     "end_time": "2023-11-20T18:47:09.654616",
     "exception": false,
     "start_time": "2023-11-20T18:47:09.600304",
     "status": "completed"
    },
    "tags": []
   },
   "outputs": [
    {
     "name": "stdout",
     "output_type": "stream",
     "text": [
      "article_id 0.8722422174316217\n",
      "department_no 0.038587174903066034\n",
      "bestseller_rank 0.021223372398009654\n",
      "product_type_no 0.017165271720638777\n",
      "index_code 0.012796393446133906\n",
      "graphical_appearance_no 0.011042943359889881\n",
      "section_no 0.007719192940979198\n",
      "mean price purchases 0.005560238069510006\n",
      "garment_group_no 0.005365664105602769\n",
      "colour_group_code 0.003067872673784903\n",
      "index_group_no 0.0029463242620862283\n",
      "perceived_colour_master_id 0.0022833346886769463\n",
      "FN 0.0\n",
      "most_present_gender_in_area 0.0\n",
      "Active 0.0\n",
      "club_member_status 0.0\n",
      "perceived_colour_value_id 0.0\n",
      "fashion_news_frequency 0.0\n",
      "median_age_area 0.0\n"
     ]
    }
   ],
   "source": [
    "for i in ranker.feature_importances_.argsort()[::-1]:\n",
    "    print(columns_to_use[i], ranker.feature_importances_[i]/ranker.feature_importances_.sum())"
   ]
  },
  {
   "cell_type": "markdown",
   "id": "b4effd76",
   "metadata": {
    "papermill": {
     "duration": 0.038572,
     "end_time": "2023-11-20T18:47:09.731795",
     "exception": false,
     "start_time": "2023-11-20T18:47:09.693223",
     "status": "completed"
    },
    "tags": []
   },
   "source": [
    "# Calculate predictions"
   ]
  },
  {
   "cell_type": "code",
   "execution_count": 29,
   "id": "fed64567",
   "metadata": {
    "execution": {
     "iopub.execute_input": "2023-11-20T18:47:09.811526Z",
     "iopub.status.busy": "2023-11-20T18:47:09.811255Z",
     "iopub.status.idle": "2023-11-20T18:47:16.773987Z",
     "shell.execute_reply": "2023-11-20T18:47:16.772604Z"
    },
    "papermill": {
     "duration": 7.005208,
     "end_time": "2023-11-20T18:47:16.776198",
     "exception": false,
     "start_time": "2023-11-20T18:47:09.770990",
     "status": "completed"
    },
    "tags": []
   },
   "outputs": [
    {
     "name": "stdout",
     "output_type": "stream",
     "text": [
      "CPU times: user 3 µs, sys: 0 ns, total: 3 µs\n",
      "Wall time: 5.96 µs\n"
     ]
    }
   ],
   "source": [
    "%time\n",
    "\n",
    "test['preds'] = ranker.predict(test_X)\n",
    "\n",
    "c_id2predicted_article_ids = test \\\n",
    "    .sort_values(['customer_id', 'preds'], ascending=False) \\\n",
    "    .groupby('customer_id')['article_id'].apply(list).to_dict()\n",
    "\n",
    "bestsellers_september_all = \\\n",
    "    bestsellers_september[bestsellers_september.week == bestsellers_september.week.max()]['article_id'].tolist()"
   ]
  },
  {
   "cell_type": "markdown",
   "id": "8b6032b7",
   "metadata": {
    "papermill": {
     "duration": 0.039183,
     "end_time": "2023-11-20T18:47:16.858531",
     "exception": false,
     "start_time": "2023-11-20T18:47:16.819348",
     "status": "completed"
    },
    "tags": []
   },
   "source": [
    "# Create submission"
   ]
  },
  {
   "cell_type": "code",
   "execution_count": 30,
   "id": "01c5f79c",
   "metadata": {
    "execution": {
     "iopub.execute_input": "2023-11-20T18:47:16.949141Z",
     "iopub.status.busy": "2023-11-20T18:47:16.948660Z",
     "iopub.status.idle": "2023-11-20T18:47:22.078181Z",
     "shell.execute_reply": "2023-11-20T18:47:22.077333Z"
    },
    "papermill": {
     "duration": 5.178133,
     "end_time": "2023-11-20T18:47:22.080335",
     "exception": false,
     "start_time": "2023-11-20T18:47:16.902202",
     "status": "completed"
    },
    "tags": []
   },
   "outputs": [],
   "source": [
    "sub = pd.read_csv('/kaggle/input/h-and-m-personalized-fashion-recommendations/sample_submission.csv')"
   ]
  },
  {
   "cell_type": "code",
   "execution_count": 31,
   "id": "96d8d32f",
   "metadata": {
    "execution": {
     "iopub.execute_input": "2023-11-20T18:47:22.161003Z",
     "iopub.status.busy": "2023-11-20T18:47:22.160743Z",
     "iopub.status.idle": "2023-11-20T18:47:27.033752Z",
     "shell.execute_reply": "2023-11-20T18:47:27.032819Z"
    },
    "papermill": {
     "duration": 4.915101,
     "end_time": "2023-11-20T18:47:27.035538",
     "exception": false,
     "start_time": "2023-11-20T18:47:22.120437",
     "status": "completed"
    },
    "tags": []
   },
   "outputs": [
    {
     "name": "stdout",
     "output_type": "stream",
     "text": [
      "CPU times: user 4.72 s, sys: 147 ms, total: 4.87 s\n",
      "Wall time: 4.87 s\n"
     ]
    }
   ],
   "source": [
    "%%time\n",
    "preds = []\n",
    "for c_id in customer_hex_id_to_int(sub.customer_id):\n",
    "    pred = c_id2predicted_article_ids.get(c_id, [])\n",
    "    pred = pred + bestsellers_september_all\n",
    "    preds.append(pred[:12])"
   ]
  },
  {
   "cell_type": "code",
   "execution_count": 32,
   "id": "5d6743d8",
   "metadata": {
    "execution": {
     "iopub.execute_input": "2023-11-20T18:47:27.116094Z",
     "iopub.status.busy": "2023-11-20T18:47:27.115357Z",
     "iopub.status.idle": "2023-11-20T18:47:31.968225Z",
     "shell.execute_reply": "2023-11-20T18:47:31.967250Z"
    },
    "papermill": {
     "duration": 4.895365,
     "end_time": "2023-11-20T18:47:31.970248",
     "exception": false,
     "start_time": "2023-11-20T18:47:27.074883",
     "status": "completed"
    },
    "tags": []
   },
   "outputs": [],
   "source": [
    "preds = [' '.join(['0' + str(p) for p in ps]) for ps in preds]\n",
    "sub.prediction = preds"
   ]
  },
  {
   "cell_type": "code",
   "execution_count": 33,
   "id": "ce2fe20e",
   "metadata": {
    "execution": {
     "iopub.execute_input": "2023-11-20T18:47:32.049274Z",
     "iopub.status.busy": "2023-11-20T18:47:32.048941Z",
     "iopub.status.idle": "2023-11-20T18:47:36.400950Z",
     "shell.execute_reply": "2023-11-20T18:47:36.400135Z"
    },
    "papermill": {
     "duration": 4.393693,
     "end_time": "2023-11-20T18:47:36.403253",
     "exception": false,
     "start_time": "2023-11-20T18:47:32.009560",
     "status": "completed"
    },
    "tags": []
   },
   "outputs": [],
   "source": [
    "sub_name = 'submission'\n",
    "sub.to_csv(f'{sub_name}.csv', index=False)"
   ]
  }
 ],
 "metadata": {
  "kaggle": {
   "accelerator": "none",
   "dataSources": [
    {
     "databundleVersionId": 3103714,
     "sourceId": 31254,
     "sourceType": "competition"
    },
    {
     "datasetId": 3840849,
     "sourceId": 6655455,
     "sourceType": "datasetVersion"
    },
    {
     "datasetId": 3967857,
     "sourceId": 6908916,
     "sourceType": "datasetVersion"
    },
    {
     "sourceId": 93163345,
     "sourceType": "kernelVersion"
    }
   ],
   "dockerImageVersionId": 30178,
   "isGpuEnabled": false,
   "isInternetEnabled": true,
   "language": "python",
   "sourceType": "notebook"
  },
  "kernelspec": {
   "display_name": "Python 3",
   "language": "python",
   "name": "python3"
  },
  "language_info": {
   "codemirror_mode": {
    "name": "ipython",
    "version": 3
   },
   "file_extension": ".py",
   "mimetype": "text/x-python",
   "name": "python",
   "nbconvert_exporter": "python",
   "pygments_lexer": "ipython3",
   "version": "3.7.12"
  },
  "papermill": {
   "default_parameters": {},
   "duration": 101.913178,
   "end_time": "2023-11-20T18:47:37.563185",
   "environment_variables": {},
   "exception": null,
   "input_path": "__notebook__.ipynb",
   "output_path": "__notebook__.ipynb",
   "parameters": {},
   "start_time": "2023-11-20T18:45:55.650007",
   "version": "2.3.4"
  }
 },
 "nbformat": 4,
 "nbformat_minor": 5
}
