{
 "cells": [
  {
   "cell_type": "markdown",
   "id": "d436b622",
   "metadata": {
    "papermill": {
     "duration": 0.075106,
     "end_time": "2023-12-14T10:15:46.466034",
     "exception": false,
     "start_time": "2023-12-14T10:15:46.390928",
     "status": "completed"
    },
    "tags": []
   },
   "source": [
    "Radek posted about this [here](https://www.kaggle.com/competitions/h-and-m-personalized-fashion-recommendations/discussion/309220), and linked to a GitHub repo with the code.\n",
    "\n",
    "I just transferred that code here to Kaggle notebooks, that's all."
   ]
  },
  {
   "cell_type": "code",
   "execution_count": 1,
   "id": "bc6bc6a7",
   "metadata": {
    "execution": {
     "iopub.execute_input": "2023-12-14T10:15:46.626303Z",
     "iopub.status.busy": "2023-12-14T10:15:46.625675Z",
     "iopub.status.idle": "2023-12-14T10:15:46.628936Z",
     "shell.execute_reply": "2023-12-14T10:15:46.629410Z",
     "shell.execute_reply.started": "2023-12-14T09:42:56.462209Z"
    },
    "papermill": {
     "duration": 0.090294,
     "end_time": "2023-12-14T10:15:46.629650",
     "exception": false,
     "start_time": "2023-12-14T10:15:46.539356",
     "status": "completed"
    },
    "tags": []
   },
   "outputs": [],
   "source": [
    "import numpy as np\n",
    "\n",
    "def apk(actual, predicted, k=10):\n",
    "    \"\"\"\n",
    "    Computes the average precision at k.\n",
    "\n",
    "    This function computes the average prescision at k between two lists of\n",
    "    items.\n",
    "\n",
    "    Parameters\n",
    "    ----------\n",
    "    actual : list\n",
    "             A list of elements that are to be predicted (order doesn't matter)\n",
    "    predicted : list\n",
    "                A list of predicted elements (order does matter)\n",
    "    k : int, optional\n",
    "        The maximum number of predicted elements\n",
    "\n",
    "    Returns\n",
    "    -------\n",
    "    score : double\n",
    "            The average precision at k over the input lists\n",
    "\n",
    "    \"\"\"\n",
    "    if len(predicted)>k:\n",
    "        predicted = predicted[:k]\n",
    "\n",
    "    score = 0.0\n",
    "    num_hits = 0.0\n",
    "\n",
    "    for i,p in enumerate(predicted):\n",
    "        if p in actual and p not in predicted[:i]:\n",
    "            num_hits += 1.0\n",
    "            score += num_hits / (i+1.0)\n",
    "\n",
    "    if not actual:\n",
    "        return 0.0\n",
    "\n",
    "    return score / min(len(actual), k)\n",
    "\n",
    "def mapk(actual, predicted, k=10):\n",
    "    \"\"\"\n",
    "    Computes the mean average precision at k.\n",
    "\n",
    "    This function computes the mean average prescision at k between two lists\n",
    "    of lists of items.\n",
    "\n",
    "    Parameters\n",
    "    ----------\n",
    "    actual : list\n",
    "             A list of lists of elements that are to be predicted \n",
    "             (order doesn't matter in the lists)\n",
    "    predicted : list\n",
    "                A list of lists of predicted elements\n",
    "                (order matters in the lists)\n",
    "    k : int, optional\n",
    "        The maximum number of predicted elements\n",
    "\n",
    "    Returns\n",
    "    -------\n",
    "    score : double\n",
    "            The mean average precision at k over the input lists\n",
    "\n",
    "    \"\"\"\n",
    "    return np.mean([apk(a,p,k) for a,p in zip(actual, predicted)])"
   ]
  },
  {
   "cell_type": "code",
   "execution_count": 2,
   "id": "502ac881",
   "metadata": {
    "execution": {
     "iopub.execute_input": "2023-12-14T10:15:46.786649Z",
     "iopub.status.busy": "2023-12-14T10:15:46.780623Z",
     "iopub.status.idle": "2023-12-14T10:15:47.819964Z",
     "shell.execute_reply": "2023-12-14T10:15:47.819349Z",
     "shell.execute_reply.started": "2023-12-14T09:42:56.478962Z"
    },
    "papermill": {
     "duration": 1.118554,
     "end_time": "2023-12-14T10:15:47.820121",
     "exception": false,
     "start_time": "2023-12-14T10:15:46.701567",
     "status": "completed"
    },
    "tags": []
   },
   "outputs": [],
   "source": [
    "from sklearn.base import BaseEstimator, TransformerMixin\n",
    "import numpy as np\n",
    "\n",
    "# https://www.kaggle.com/c/h-and-m-personalized-fashion-recommendations/discussion/308635\n",
    "def customer_hex_id_to_int(series):\n",
    "    return series.str[-16:].apply(hex_id_to_int)\n",
    "\n",
    "def hex_id_to_int(str):\n",
    "    return int(str[-16:], 16)\n",
    "\n",
    "def article_id_str_to_int(series):\n",
    "    return series.astype('int32')\n",
    "\n",
    "def article_id_int_to_str(series):\n",
    "    return '0' + series.astype('str')\n",
    "\n",
    "class Categorize(BaseEstimator, TransformerMixin):\n",
    "    def __init__(self, min_examples=0):\n",
    "        self.min_examples = min_examples\n",
    "        self.categories = []\n",
    "        \n",
    "    def fit(self, X):\n",
    "        for i in range(X.shape[1]):\n",
    "            vc = X.iloc[:, i].value_counts()\n",
    "            self.categories.append(vc[vc > self.min_examples].index.tolist())\n",
    "        return self\n",
    "\n",
    "    def transform(self, X):\n",
    "        data = {X.columns[i]: pd.Categorical(X.iloc[:, i], categories=self.categories[i]).codes for i in range(X.shape[1])}\n",
    "        return pd.DataFrame(data=data)\n",
    "\n",
    "\n",
    "def calculate_apk(list_of_preds, list_of_gts):\n",
    "    # for fast validation this can be changed to operate on dicts of {'cust_id_int': [art_id_int, ...]}\n",
    "    # using 'data/val_week_purchases_by_cust.pkl'\n",
    "    apks = []\n",
    "    for preds, gt in zip(list_of_preds, list_of_gts):\n",
    "        apks.append(apk(gt, preds, k=12))\n",
    "    return np.mean(apks)\n",
    "\n",
    "def eval_sub(sub_csv, skip_cust_with_no_purchases=True):\n",
    "    sub=pd.read_csv(sub_csv)\n",
    "    validation_set=pd.read_parquet('data/validation_ground_truth.parquet')\n",
    "\n",
    "    apks = []\n",
    "\n",
    "    no_purchases_pattern = []\n",
    "    for pred, gt in zip(sub.prediction.str.split(), validation_set.prediction.str.split()):\n",
    "        if skip_cust_with_no_purchases and (gt == no_purchases_pattern): continue\n",
    "        apks.append(apk(gt, pred, k=12))\n",
    "    return np.mean(apks)"
   ]
  },
  {
   "cell_type": "code",
   "execution_count": 3,
   "id": "77f41efc",
   "metadata": {
    "execution": {
     "iopub.execute_input": "2023-12-14T10:15:47.976753Z",
     "iopub.status.busy": "2023-12-14T10:15:47.975759Z",
     "iopub.status.idle": "2023-12-14T10:15:47.978800Z",
     "shell.execute_reply": "2023-12-14T10:15:47.978142Z",
     "shell.execute_reply.started": "2023-12-14T09:42:56.942796Z"
    },
    "papermill": {
     "duration": 0.083542,
     "end_time": "2023-12-14T10:15:47.978979",
     "exception": false,
     "start_time": "2023-12-14T10:15:47.895437",
     "status": "completed"
    },
    "tags": []
   },
   "outputs": [],
   "source": [
    "import pandas as pd\n",
    "import matplotlib.pyplot as plt"
   ]
  },
  {
   "cell_type": "code",
   "execution_count": 4,
   "id": "b4201ab7",
   "metadata": {
    "execution": {
     "iopub.execute_input": "2023-12-14T10:15:48.152422Z",
     "iopub.status.busy": "2023-12-14T10:15:48.151518Z",
     "iopub.status.idle": "2023-12-14T10:15:53.142121Z",
     "shell.execute_reply": "2023-12-14T10:15:53.143188Z",
     "shell.execute_reply.started": "2023-12-14T09:42:56.949598Z"
    },
    "papermill": {
     "duration": 5.078979,
     "end_time": "2023-12-14T10:15:53.143467",
     "exception": false,
     "start_time": "2023-12-14T10:15:48.064488",
     "status": "completed"
    },
    "tags": []
   },
   "outputs": [
    {
     "name": "stdout",
     "output_type": "stream",
     "text": [
      "CPU times: user 3.4 s, sys: 1.83 s, total: 5.23 s\n",
      "Wall time: 4.99 s\n"
     ]
    }
   ],
   "source": [
    "%%time\n",
    "\n",
    "transactions = pd.read_parquet('../input/warmup/transactions_train.parquet')\n",
    "customers = pd.read_parquet('../input/parquet-new-assignement/new_customer_one.parquet')\n",
    "articles = pd.read_parquet('../input/parquet-new-assignement/new_articles_one.parquet')\n",
    "\n",
    "# sample = 0.05\n",
    "# transactions = pd.read_parquet(f'data/transactions_train_sample_{sample}.parquet')\n",
    "# customers = pd.read_parquet(f'data/customers_sample_{sample}.parquet')\n",
    "# articles = pd.read_parquet(f'data/articles_train_sample_{sample}.parquet')"
   ]
  },
  {
   "cell_type": "code",
   "execution_count": 5,
   "id": "3f57f501",
   "metadata": {
    "execution": {
     "iopub.execute_input": "2023-12-14T10:15:53.324708Z",
     "iopub.status.busy": "2023-12-14T10:15:53.311202Z",
     "iopub.status.idle": "2023-12-14T10:15:55.497044Z",
     "shell.execute_reply": "2023-12-14T10:15:55.496402Z",
     "shell.execute_reply.started": "2023-12-14T09:42:59.252532Z"
    },
    "papermill": {
     "duration": 2.266773,
     "end_time": "2023-12-14T10:15:55.497179",
     "exception": false,
     "start_time": "2023-12-14T10:15:53.230406",
     "status": "completed"
    },
    "tags": []
   },
   "outputs": [],
   "source": [
    "#adding of the column week to the dataframe transactions\n",
    "transactions.t_dat = pd.to_datetime(transactions.t_dat, format='%Y-%m-%d')\n",
    "transactions['week'] = 104 - (transactions.t_dat.max() - transactions.t_dat).dt.days // 7"
   ]
  },
  {
   "cell_type": "code",
   "execution_count": 6,
   "id": "76f99fd3",
   "metadata": {
    "execution": {
     "iopub.execute_input": "2023-12-14T10:15:55.645966Z",
     "iopub.status.busy": "2023-12-14T10:15:55.645013Z",
     "iopub.status.idle": "2023-12-14T10:15:55.677853Z",
     "shell.execute_reply": "2023-12-14T10:15:55.677325Z",
     "shell.execute_reply.started": "2023-12-14T09:43:01.461423Z"
    },
    "papermill": {
     "duration": 0.10894,
     "end_time": "2023-12-14T10:15:55.677984",
     "exception": false,
     "start_time": "2023-12-14T10:15:55.569044",
     "status": "completed"
    },
    "tags": []
   },
   "outputs": [],
   "source": [
    "#definition of the week for test\n",
    "test_week = transactions.week.max() + 1 \n",
    "#transactions = transactions[transactions.week > transactions.week.max() - 10]"
   ]
  },
  {
   "cell_type": "markdown",
   "id": "0eeba013",
   "metadata": {
    "papermill": {
     "duration": 0.070846,
     "end_time": "2023-12-14T10:15:55.819854",
     "exception": false,
     "start_time": "2023-12-14T10:15:55.749008",
     "status": "completed"
    },
    "tags": []
   },
   "source": [
    "# Generating candidates"
   ]
  },
  {
   "cell_type": "markdown",
   "id": "45af24b5",
   "metadata": {
    "papermill": {
     "duration": 0.070685,
     "end_time": "2023-12-14T10:15:55.961665",
     "exception": false,
     "start_time": "2023-12-14T10:15:55.890980",
     "status": "completed"
    },
    "tags": []
   },
   "source": [
    "### Last purchase candidates"
   ]
  },
  {
   "cell_type": "code",
   "execution_count": 7,
   "id": "5eba9e26",
   "metadata": {
    "execution": {
     "iopub.execute_input": "2023-12-14T10:15:56.122702Z",
     "iopub.status.busy": "2023-12-14T10:15:56.122051Z",
     "iopub.status.idle": "2023-12-14T10:17:10.956834Z",
     "shell.execute_reply": "2023-12-14T10:17:10.957371Z",
     "shell.execute_reply.started": "2023-12-14T09:43:01.496061Z"
    },
    "papermill": {
     "duration": 74.92442,
     "end_time": "2023-12-14T10:17:10.957560",
     "exception": false,
     "start_time": "2023-12-14T10:15:56.033140",
     "status": "completed"
    },
    "tags": []
   },
   "outputs": [],
   "source": [
    "'''deciding to work only with data of the months of September since probably articles\n",
    "bought in this period could be the same and then the reccomendation could be more \n",
    "related also to the period in which we need to give them'''\n",
    "\n",
    "#filtering only the weeks of the month of semptember for the years 2018-2020\n",
    "filtered_transactions = transactions[(transactions['t_dat'].dt.year == 2020)]\n",
    "\n",
    "#groupby of candidates based on the customer_id and extraction of weeks\n",
    "c2weeks = filtered_transactions.groupby('customer_id')['week'].unique()\n",
    "\n",
    "#creation of a dictionary for shifted weeks\n",
    "c2weeks2shifted_weeks = {}\n",
    "candidates_last_purchase_2020 = filtered_transactions.copy()\n",
    "\n",
    "for c_id, weeks in c2weeks.items():\n",
    "    c2weeks2shifted_weeks[c_id] = {}\n",
    "    for i in range(weeks.shape[0]-1):\n",
    "        c2weeks2shifted_weeks[c_id][weeks[i]] = weeks[i+1]\n",
    "    c2weeks2shifted_weeks[c_id][weeks[-1]] = test_week\n",
    "\n",
    "#update of the dataframe candidates_last_purchase_2020\n",
    "weeks = []\n",
    "for i, (c_id, week) in enumerate(zip(filtered_transactions['customer_id'], filtered_transactions['week'])):\n",
    "    weeks.append(c2weeks2shifted_weeks[c_id][week])\n",
    "    \n",
    "candidates_last_purchase_2020.week = weeks"
   ]
  },
  {
   "cell_type": "markdown",
   "id": "41b562d3",
   "metadata": {
    "papermill": {
     "duration": 0.073118,
     "end_time": "2023-12-14T10:17:11.102954",
     "exception": false,
     "start_time": "2023-12-14T10:17:11.029836",
     "status": "completed"
    },
    "tags": []
   },
   "source": [
    "### candidates"
   ]
  },
  {
   "cell_type": "code",
   "execution_count": 8,
   "id": "55710346",
   "metadata": {
    "execution": {
     "iopub.execute_input": "2023-12-14T10:17:11.251600Z",
     "iopub.status.busy": "2023-12-14T10:17:11.250946Z",
     "iopub.status.idle": "2023-12-14T10:17:12.079632Z",
     "shell.execute_reply": "2023-12-14T10:17:12.080114Z",
     "shell.execute_reply.started": "2023-12-14T09:44:16.902264Z"
    },
    "papermill": {
     "duration": 0.906019,
     "end_time": "2023-12-14T10:17:12.080276",
     "exception": false,
     "start_time": "2023-12-14T10:17:11.174257",
     "status": "completed"
    },
    "tags": []
   },
   "outputs": [
    {
     "data": {
      "text/html": [
       "<div>\n",
       "<style scoped>\n",
       "    .dataframe tbody tr th:only-of-type {\n",
       "        vertical-align: middle;\n",
       "    }\n",
       "\n",
       "    .dataframe tbody tr th {\n",
       "        vertical-align: top;\n",
       "    }\n",
       "\n",
       "    .dataframe thead th {\n",
       "        text-align: right;\n",
       "    }\n",
       "</style>\n",
       "<table border=\"1\" class=\"dataframe\">\n",
       "  <thead>\n",
       "    <tr style=\"text-align: right;\">\n",
       "      <th></th>\n",
       "      <th>customer_id</th>\n",
       "      <th>mean price purchases</th>\n",
       "    </tr>\n",
       "  </thead>\n",
       "  <tbody>\n",
       "    <tr>\n",
       "      <th>0</th>\n",
       "      <td>4245900472157</td>\n",
       "      <td>0.021169</td>\n",
       "    </tr>\n",
       "    <tr>\n",
       "      <th>1</th>\n",
       "      <td>28847241659200</td>\n",
       "      <td>0.031091</td>\n",
       "    </tr>\n",
       "    <tr>\n",
       "      <th>2</th>\n",
       "      <td>41046458195168</td>\n",
       "      <td>0.016932</td>\n",
       "    </tr>\n",
       "    <tr>\n",
       "      <th>3</th>\n",
       "      <td>41318098387474</td>\n",
       "      <td>0.020322</td>\n",
       "    </tr>\n",
       "    <tr>\n",
       "      <th>4</th>\n",
       "      <td>46878247658203</td>\n",
       "      <td>0.016932</td>\n",
       "    </tr>\n",
       "    <tr>\n",
       "      <th>...</th>\n",
       "      <td>...</td>\n",
       "      <td>...</td>\n",
       "    </tr>\n",
       "    <tr>\n",
       "      <th>862719</th>\n",
       "      <td>18446624797007271432</td>\n",
       "      <td>0.013119</td>\n",
       "    </tr>\n",
       "    <tr>\n",
       "      <th>862720</th>\n",
       "      <td>18446630855572834764</td>\n",
       "      <td>0.045181</td>\n",
       "    </tr>\n",
       "    <tr>\n",
       "      <th>862721</th>\n",
       "      <td>18446662237889060501</td>\n",
       "      <td>0.057186</td>\n",
       "    </tr>\n",
       "    <tr>\n",
       "      <th>862722</th>\n",
       "      <td>18446705133201055310</td>\n",
       "      <td>0.050831</td>\n",
       "    </tr>\n",
       "    <tr>\n",
       "      <th>862723</th>\n",
       "      <td>18446737527580148316</td>\n",
       "      <td>0.021203</td>\n",
       "    </tr>\n",
       "  </tbody>\n",
       "</table>\n",
       "<p>862724 rows × 2 columns</p>\n",
       "</div>"
      ],
      "text/plain": [
       "                 customer_id  mean price purchases\n",
       "0              4245900472157              0.021169\n",
       "1             28847241659200              0.031091\n",
       "2             41046458195168              0.016932\n",
       "3             41318098387474              0.020322\n",
       "4             46878247658203              0.016932\n",
       "...                      ...                   ...\n",
       "862719  18446624797007271432              0.013119\n",
       "862720  18446630855572834764              0.045181\n",
       "862721  18446662237889060501              0.057186\n",
       "862722  18446705133201055310              0.050831\n",
       "862723  18446737527580148316              0.021203\n",
       "\n",
       "[862724 rows x 2 columns]"
      ]
     },
     "execution_count": 8,
     "metadata": {},
     "output_type": "execute_result"
    }
   ],
   "source": [
    "#creation of the mean price of purchases for each candidate only in the filtered transactions\n",
    "mean_price_purchases = filtered_transactions.groupby('customer_id')['price'].mean().rename('mean price purchases').reset_index()\n",
    "mean_price_purchases"
   ]
  },
  {
   "cell_type": "code",
   "execution_count": 9,
   "id": "23f722e5",
   "metadata": {
    "execution": {
     "iopub.execute_input": "2023-12-14T10:17:12.233574Z",
     "iopub.status.busy": "2023-12-14T10:17:12.232958Z",
     "iopub.status.idle": "2023-12-14T10:17:13.930709Z",
     "shell.execute_reply": "2023-12-14T10:17:13.930065Z",
     "shell.execute_reply.started": "2023-12-14T09:44:17.732115Z"
    },
    "papermill": {
     "duration": 1.776851,
     "end_time": "2023-12-14T10:17:13.930855",
     "exception": false,
     "start_time": "2023-12-14T10:17:12.154004",
     "status": "completed"
    },
    "tags": []
   },
   "outputs": [
    {
     "data": {
      "text/html": [
       "<div>\n",
       "<style scoped>\n",
       "    .dataframe tbody tr th:only-of-type {\n",
       "        vertical-align: middle;\n",
       "    }\n",
       "\n",
       "    .dataframe tbody tr th {\n",
       "        vertical-align: top;\n",
       "    }\n",
       "\n",
       "    .dataframe thead th {\n",
       "        text-align: right;\n",
       "    }\n",
       "</style>\n",
       "<table border=\"1\" class=\"dataframe\">\n",
       "  <thead>\n",
       "    <tr style=\"text-align: right;\">\n",
       "      <th></th>\n",
       "      <th>customer_id</th>\n",
       "      <th>most_present_gender_in_area</th>\n",
       "    </tr>\n",
       "  </thead>\n",
       "  <tbody>\n",
       "    <tr>\n",
       "      <th>0</th>\n",
       "      <td>4245900472157</td>\n",
       "      <td>2</td>\n",
       "    </tr>\n",
       "    <tr>\n",
       "      <th>1</th>\n",
       "      <td>23962613628581</td>\n",
       "      <td>0</td>\n",
       "    </tr>\n",
       "    <tr>\n",
       "      <th>2</th>\n",
       "      <td>25398598941468</td>\n",
       "      <td>2</td>\n",
       "    </tr>\n",
       "    <tr>\n",
       "      <th>3</th>\n",
       "      <td>28847241659200</td>\n",
       "      <td>2</td>\n",
       "    </tr>\n",
       "    <tr>\n",
       "      <th>4</th>\n",
       "      <td>41046458195168</td>\n",
       "      <td>2</td>\n",
       "    </tr>\n",
       "    <tr>\n",
       "      <th>...</th>\n",
       "      <td>...</td>\n",
       "      <td>...</td>\n",
       "    </tr>\n",
       "    <tr>\n",
       "      <th>1371975</th>\n",
       "      <td>18446630855572834764</td>\n",
       "      <td>0</td>\n",
       "    </tr>\n",
       "    <tr>\n",
       "      <th>1371976</th>\n",
       "      <td>18446662237889060501</td>\n",
       "      <td>2</td>\n",
       "    </tr>\n",
       "    <tr>\n",
       "      <th>1371977</th>\n",
       "      <td>18446705133201055310</td>\n",
       "      <td>0</td>\n",
       "    </tr>\n",
       "    <tr>\n",
       "      <th>1371978</th>\n",
       "      <td>18446723086055369602</td>\n",
       "      <td>2</td>\n",
       "    </tr>\n",
       "    <tr>\n",
       "      <th>1371979</th>\n",
       "      <td>18446737527580148316</td>\n",
       "      <td>1</td>\n",
       "    </tr>\n",
       "  </tbody>\n",
       "</table>\n",
       "<p>1371980 rows × 2 columns</p>\n",
       "</div>"
      ],
      "text/plain": [
       "                  customer_id  most_present_gender_in_area\n",
       "0               4245900472157                            2\n",
       "1              23962613628581                            0\n",
       "2              25398598941468                            2\n",
       "3              28847241659200                            2\n",
       "4              41046458195168                            2\n",
       "...                       ...                          ...\n",
       "1371975  18446630855572834764                            0\n",
       "1371976  18446662237889060501                            2\n",
       "1371977  18446705133201055310                            0\n",
       "1371978  18446723086055369602                            2\n",
       "1371979  18446737527580148316                            1\n",
       "\n",
       "[1371980 rows x 2 columns]"
      ]
     },
     "execution_count": 9,
     "metadata": {},
     "output_type": "execute_result"
    }
   ],
   "source": [
    "#identification of the gender group that is the most present in a specific geographic area\n",
    "most_present_gender = customers.groupby(['customer_id', 'postal_code', 'numerical_gender']).size().reset_index(name='count')\n",
    "idx = most_present_gender.groupby(['customer_id', 'postal_code'])['count'].transform(max) == most_present_gender['count']\n",
    "most_present_gender = most_present_gender[idx][['customer_id', 'postal_code', 'numerical_gender']]\n",
    "most_present_gender = most_present_gender.rename(columns = {'numerical_gender': 'most_present_gender_in_area'})\n",
    "most_present_gender.drop(columns = 'postal_code', inplace = True)\n",
    "most_present_gender"
   ]
  },
  {
   "cell_type": "code",
   "execution_count": 10,
   "id": "4e4b64c2",
   "metadata": {
    "execution": {
     "iopub.execute_input": "2023-12-14T10:17:14.085025Z",
     "iopub.status.busy": "2023-12-14T10:17:14.084369Z",
     "iopub.status.idle": "2023-12-14T10:17:15.152788Z",
     "shell.execute_reply": "2023-12-14T10:17:15.153220Z",
     "shell.execute_reply.started": "2023-12-14T09:44:19.463319Z"
    },
    "papermill": {
     "duration": 1.149252,
     "end_time": "2023-12-14T10:17:15.153401",
     "exception": false,
     "start_time": "2023-12-14T10:17:14.004149",
     "status": "completed"
    },
    "tags": []
   },
   "outputs": [
    {
     "data": {
      "text/html": [
       "<div>\n",
       "<style scoped>\n",
       "    .dataframe tbody tr th:only-of-type {\n",
       "        vertical-align: middle;\n",
       "    }\n",
       "\n",
       "    .dataframe tbody tr th {\n",
       "        vertical-align: top;\n",
       "    }\n",
       "\n",
       "    .dataframe thead th {\n",
       "        text-align: right;\n",
       "    }\n",
       "</style>\n",
       "<table border=\"1\" class=\"dataframe\">\n",
       "  <thead>\n",
       "    <tr style=\"text-align: right;\">\n",
       "      <th></th>\n",
       "      <th>customer_id</th>\n",
       "      <th>median_age_area</th>\n",
       "    </tr>\n",
       "  </thead>\n",
       "  <tbody>\n",
       "    <tr>\n",
       "      <th>0</th>\n",
       "      <td>4245900472157</td>\n",
       "      <td>21.0</td>\n",
       "    </tr>\n",
       "    <tr>\n",
       "      <th>1</th>\n",
       "      <td>23962613628581</td>\n",
       "      <td>34.0</td>\n",
       "    </tr>\n",
       "    <tr>\n",
       "      <th>2</th>\n",
       "      <td>25398598941468</td>\n",
       "      <td>21.0</td>\n",
       "    </tr>\n",
       "    <tr>\n",
       "      <th>3</th>\n",
       "      <td>28847241659200</td>\n",
       "      <td>21.0</td>\n",
       "    </tr>\n",
       "    <tr>\n",
       "      <th>4</th>\n",
       "      <td>41046458195168</td>\n",
       "      <td>18.0</td>\n",
       "    </tr>\n",
       "    <tr>\n",
       "      <th>...</th>\n",
       "      <td>...</td>\n",
       "      <td>...</td>\n",
       "    </tr>\n",
       "    <tr>\n",
       "      <th>1371975</th>\n",
       "      <td>18446630855572834764</td>\n",
       "      <td>33.0</td>\n",
       "    </tr>\n",
       "    <tr>\n",
       "      <th>1371976</th>\n",
       "      <td>18446662237889060501</td>\n",
       "      <td>75.0</td>\n",
       "    </tr>\n",
       "    <tr>\n",
       "      <th>1371977</th>\n",
       "      <td>18446705133201055310</td>\n",
       "      <td>60.0</td>\n",
       "    </tr>\n",
       "    <tr>\n",
       "      <th>1371978</th>\n",
       "      <td>18446723086055369602</td>\n",
       "      <td>33.0</td>\n",
       "    </tr>\n",
       "    <tr>\n",
       "      <th>1371979</th>\n",
       "      <td>18446737527580148316</td>\n",
       "      <td>60.0</td>\n",
       "    </tr>\n",
       "  </tbody>\n",
       "</table>\n",
       "<p>1371980 rows × 2 columns</p>\n",
       "</div>"
      ],
      "text/plain": [
       "                  customer_id  median_age_area\n",
       "0               4245900472157             21.0\n",
       "1              23962613628581             34.0\n",
       "2              25398598941468             21.0\n",
       "3              28847241659200             21.0\n",
       "4              41046458195168             18.0\n",
       "...                       ...              ...\n",
       "1371975  18446630855572834764             33.0\n",
       "1371976  18446662237889060501             75.0\n",
       "1371977  18446705133201055310             60.0\n",
       "1371978  18446723086055369602             33.0\n",
       "1371979  18446737527580148316             60.0\n",
       "\n",
       "[1371980 rows x 2 columns]"
      ]
     },
     "execution_count": 10,
     "metadata": {},
     "output_type": "execute_result"
    }
   ],
   "source": [
    "#identification of the medium age for geographic area\n",
    "median_age = customers.groupby(['customer_id', 'postal_code'])['age'].median().reset_index(name = 'median_age_area')\n",
    "median_age.drop(columns = 'postal_code', inplace = True)\n",
    "median_age"
   ]
  },
  {
   "cell_type": "code",
   "execution_count": 11,
   "id": "5b96cdb2",
   "metadata": {
    "execution": {
     "iopub.execute_input": "2023-12-14T10:17:15.307686Z",
     "iopub.status.busy": "2023-12-14T10:17:15.307027Z",
     "iopub.status.idle": "2023-12-14T10:17:21.019212Z",
     "shell.execute_reply": "2023-12-14T10:17:21.018667Z",
     "shell.execute_reply.started": "2023-12-14T09:44:20.536592Z"
    },
    "papermill": {
     "duration": 5.790386,
     "end_time": "2023-12-14T10:17:21.019379",
     "exception": false,
     "start_time": "2023-12-14T10:17:15.228993",
     "status": "completed"
    },
    "tags": []
   },
   "outputs": [
    {
     "data": {
      "text/plain": [
       "Index(['t_dat', 'customer_id', 'article_id', 'price', 'sales_channel_id',\n",
       "       'week', 'mean price purchases', 'most_present_gender_in_area',\n",
       "       'median_age_area'],\n",
       "      dtype='object')"
      ]
     },
     "execution_count": 11,
     "metadata": {},
     "output_type": "execute_result"
    }
   ],
   "source": [
    "candidates_definitive = pd.merge(candidates_last_purchase_2020, mean_price_purchases, on = 'customer_id') #merge of values of mean fo the purchases\n",
    "candidates_definitive = pd.merge(candidates_definitive, most_present_gender, on = 'customer_id') #merge of values of the dominant gender in teh geographic area of the customer\n",
    "candidates_definitive = pd.merge(candidates_definitive, median_age, on = 'customer_id') #merge of values of the dominant gender in teh geographic area of the customer\n",
    "\n",
    "candidates_definitive.columns"
   ]
  },
  {
   "cell_type": "code",
   "execution_count": 12,
   "id": "e296412a",
   "metadata": {
    "execution": {
     "iopub.execute_input": "2023-12-14T10:17:21.178011Z",
     "iopub.status.busy": "2023-12-14T10:17:21.177383Z",
     "iopub.status.idle": "2023-12-14T10:17:21.782983Z",
     "shell.execute_reply": "2023-12-14T10:17:21.782260Z",
     "shell.execute_reply.started": "2023-12-14T09:44:26.176167Z"
    },
    "papermill": {
     "duration": 0.685302,
     "end_time": "2023-12-14T10:17:21.783138",
     "exception": false,
     "start_time": "2023-12-14T10:17:21.097836",
     "status": "completed"
    },
    "tags": []
   },
   "outputs": [],
   "source": [
    "candidates_definitive = candidates_definitive.drop_duplicates(subset = 'customer_id')"
   ]
  },
  {
   "cell_type": "code",
   "execution_count": 13,
   "id": "6e47e5a8",
   "metadata": {
    "execution": {
     "iopub.execute_input": "2023-12-14T10:17:21.938267Z",
     "iopub.status.busy": "2023-12-14T10:17:21.937368Z",
     "iopub.status.idle": "2023-12-14T10:17:21.954395Z",
     "shell.execute_reply": "2023-12-14T10:17:21.953786Z",
     "shell.execute_reply.started": "2023-12-14T09:44:26.780473Z"
    },
    "papermill": {
     "duration": 0.095867,
     "end_time": "2023-12-14T10:17:21.954517",
     "exception": false,
     "start_time": "2023-12-14T10:17:21.858650",
     "status": "completed"
    },
    "tags": []
   },
   "outputs": [
    {
     "data": {
      "text/html": [
       "<div>\n",
       "<style scoped>\n",
       "    .dataframe tbody tr th:only-of-type {\n",
       "        vertical-align: middle;\n",
       "    }\n",
       "\n",
       "    .dataframe tbody tr th {\n",
       "        vertical-align: top;\n",
       "    }\n",
       "\n",
       "    .dataframe thead th {\n",
       "        text-align: right;\n",
       "    }\n",
       "</style>\n",
       "<table border=\"1\" class=\"dataframe\">\n",
       "  <thead>\n",
       "    <tr style=\"text-align: right;\">\n",
       "      <th></th>\n",
       "      <th>t_dat</th>\n",
       "      <th>customer_id</th>\n",
       "      <th>article_id</th>\n",
       "      <th>price</th>\n",
       "      <th>sales_channel_id</th>\n",
       "      <th>week</th>\n",
       "      <th>mean price purchases</th>\n",
       "      <th>most_present_gender_in_area</th>\n",
       "      <th>median_age_area</th>\n",
       "    </tr>\n",
       "  </thead>\n",
       "  <tbody>\n",
       "    <tr>\n",
       "      <th>0</th>\n",
       "      <td>2020-01-01</td>\n",
       "      <td>4195624216542755</td>\n",
       "      <td>799417004</td>\n",
       "      <td>0.030492</td>\n",
       "      <td>2</td>\n",
       "      <td>68</td>\n",
       "      <td>0.023881</td>\n",
       "      <td>2</td>\n",
       "      <td>56.0</td>\n",
       "    </tr>\n",
       "    <tr>\n",
       "      <th>1</th>\n",
       "      <td>2020-01-01</td>\n",
       "      <td>10296145678877316</td>\n",
       "      <td>682771005</td>\n",
       "      <td>0.015237</td>\n",
       "      <td>2</td>\n",
       "      <td>68</td>\n",
       "      <td>0.019812</td>\n",
       "      <td>2</td>\n",
       "      <td>21.0</td>\n",
       "    </tr>\n",
       "    <tr>\n",
       "      <th>2</th>\n",
       "      <td>2020-01-01</td>\n",
       "      <td>18673653377351162</td>\n",
       "      <td>775077001</td>\n",
       "      <td>0.015237</td>\n",
       "      <td>2</td>\n",
       "      <td>69</td>\n",
       "      <td>0.028413</td>\n",
       "      <td>2</td>\n",
       "      <td>28.0</td>\n",
       "    </tr>\n",
       "    <tr>\n",
       "      <th>3</th>\n",
       "      <td>2020-01-01</td>\n",
       "      <td>25713010999983855</td>\n",
       "      <td>687948001</td>\n",
       "      <td>0.042356</td>\n",
       "      <td>2</td>\n",
       "      <td>71</td>\n",
       "      <td>0.026250</td>\n",
       "      <td>2</td>\n",
       "      <td>22.0</td>\n",
       "    </tr>\n",
       "    <tr>\n",
       "      <th>4</th>\n",
       "      <td>2020-01-01</td>\n",
       "      <td>29659536698466345</td>\n",
       "      <td>777148005</td>\n",
       "      <td>0.050831</td>\n",
       "      <td>2</td>\n",
       "      <td>69</td>\n",
       "      <td>0.052631</td>\n",
       "      <td>0</td>\n",
       "      <td>60.0</td>\n",
       "    </tr>\n",
       "    <tr>\n",
       "      <th>...</th>\n",
       "      <td>...</td>\n",
       "      <td>...</td>\n",
       "      <td>...</td>\n",
       "      <td>...</td>\n",
       "      <td>...</td>\n",
       "      <td>...</td>\n",
       "      <td>...</td>\n",
       "      <td>...</td>\n",
       "      <td>...</td>\n",
       "    </tr>\n",
       "    <tr>\n",
       "      <th>862719</th>\n",
       "      <td>2020-09-22</td>\n",
       "      <td>18409112236320621348</td>\n",
       "      <td>860833002</td>\n",
       "      <td>0.025407</td>\n",
       "      <td>2</td>\n",
       "      <td>105</td>\n",
       "      <td>0.029644</td>\n",
       "      <td>2</td>\n",
       "      <td>21.0</td>\n",
       "    </tr>\n",
       "    <tr>\n",
       "      <th>862720</th>\n",
       "      <td>2020-09-22</td>\n",
       "      <td>18417769707947924979</td>\n",
       "      <td>729860001</td>\n",
       "      <td>0.022017</td>\n",
       "      <td>2</td>\n",
       "      <td>105</td>\n",
       "      <td>0.019475</td>\n",
       "      <td>2</td>\n",
       "      <td>40.0</td>\n",
       "    </tr>\n",
       "    <tr>\n",
       "      <th>862721</th>\n",
       "      <td>2020-09-22</td>\n",
       "      <td>18418054986721795659</td>\n",
       "      <td>873279003</td>\n",
       "      <td>0.042356</td>\n",
       "      <td>2</td>\n",
       "      <td>105</td>\n",
       "      <td>0.042356</td>\n",
       "      <td>0</td>\n",
       "      <td>28.0</td>\n",
       "    </tr>\n",
       "    <tr>\n",
       "      <th>862722</th>\n",
       "      <td>2020-09-22</td>\n",
       "      <td>18421175435799911749</td>\n",
       "      <td>863583001</td>\n",
       "      <td>0.033881</td>\n",
       "      <td>2</td>\n",
       "      <td>105</td>\n",
       "      <td>0.033881</td>\n",
       "      <td>2</td>\n",
       "      <td>28.0</td>\n",
       "    </tr>\n",
       "    <tr>\n",
       "      <th>862723</th>\n",
       "      <td>2020-09-22</td>\n",
       "      <td>18438270306572912089</td>\n",
       "      <td>751471043</td>\n",
       "      <td>0.033881</td>\n",
       "      <td>1</td>\n",
       "      <td>105</td>\n",
       "      <td>0.033881</td>\n",
       "      <td>0</td>\n",
       "      <td>71.0</td>\n",
       "    </tr>\n",
       "  </tbody>\n",
       "</table>\n",
       "<p>862724 rows × 9 columns</p>\n",
       "</div>"
      ],
      "text/plain": [
       "            t_dat           customer_id  article_id     price  \\\n",
       "0      2020-01-01      4195624216542755   799417004  0.030492   \n",
       "1      2020-01-01     10296145678877316   682771005  0.015237   \n",
       "2      2020-01-01     18673653377351162   775077001  0.015237   \n",
       "3      2020-01-01     25713010999983855   687948001  0.042356   \n",
       "4      2020-01-01     29659536698466345   777148005  0.050831   \n",
       "...           ...                   ...         ...       ...   \n",
       "862719 2020-09-22  18409112236320621348   860833002  0.025407   \n",
       "862720 2020-09-22  18417769707947924979   729860001  0.022017   \n",
       "862721 2020-09-22  18418054986721795659   873279003  0.042356   \n",
       "862722 2020-09-22  18421175435799911749   863583001  0.033881   \n",
       "862723 2020-09-22  18438270306572912089   751471043  0.033881   \n",
       "\n",
       "        sales_channel_id  week  mean price purchases  \\\n",
       "0                      2    68              0.023881   \n",
       "1                      2    68              0.019812   \n",
       "2                      2    69              0.028413   \n",
       "3                      2    71              0.026250   \n",
       "4                      2    69              0.052631   \n",
       "...                  ...   ...                   ...   \n",
       "862719                 2   105              0.029644   \n",
       "862720                 2   105              0.019475   \n",
       "862721                 2   105              0.042356   \n",
       "862722                 2   105              0.033881   \n",
       "862723                 1   105              0.033881   \n",
       "\n",
       "        most_present_gender_in_area  median_age_area  \n",
       "0                                 2             56.0  \n",
       "1                                 2             21.0  \n",
       "2                                 2             28.0  \n",
       "3                                 2             22.0  \n",
       "4                                 0             60.0  \n",
       "...                             ...              ...  \n",
       "862719                            2             21.0  \n",
       "862720                            2             40.0  \n",
       "862721                            0             28.0  \n",
       "862722                            2             28.0  \n",
       "862723                            0             71.0  \n",
       "\n",
       "[862724 rows x 9 columns]"
      ]
     },
     "execution_count": 13,
     "metadata": {},
     "output_type": "execute_result"
    }
   ],
   "source": [
    "#dataset about candidates in the analyzed period\n",
    "candidates_definitive.reset_index(drop = True, inplace = True)\n",
    "candidates_definitive"
   ]
  },
  {
   "cell_type": "code",
   "execution_count": 14,
   "id": "7d927c4f",
   "metadata": {
    "execution": {
     "iopub.execute_input": "2023-12-14T10:17:22.112312Z",
     "iopub.status.busy": "2023-12-14T10:17:22.111716Z",
     "iopub.status.idle": "2023-12-14T10:17:22.656618Z",
     "shell.execute_reply": "2023-12-14T10:17:22.656019Z",
     "shell.execute_reply.started": "2023-12-14T09:44:26.803776Z"
    },
    "papermill": {
     "duration": 0.62703,
     "end_time": "2023-12-14T10:17:22.656766",
     "exception": false,
     "start_time": "2023-12-14T10:17:22.029736",
     "status": "completed"
    },
    "tags": []
   },
   "outputs": [
    {
     "data": {
      "text/html": [
       "<div>\n",
       "<style scoped>\n",
       "    .dataframe tbody tr th:only-of-type {\n",
       "        vertical-align: middle;\n",
       "    }\n",
       "\n",
       "    .dataframe tbody tr th {\n",
       "        vertical-align: top;\n",
       "    }\n",
       "\n",
       "    .dataframe thead th {\n",
       "        text-align: right;\n",
       "    }\n",
       "</style>\n",
       "<table border=\"1\" class=\"dataframe\">\n",
       "  <thead>\n",
       "    <tr style=\"text-align: right;\">\n",
       "      <th></th>\n",
       "      <th>t_dat</th>\n",
       "      <th>customer_id</th>\n",
       "      <th>article_id</th>\n",
       "      <th>price</th>\n",
       "      <th>sales_channel_id</th>\n",
       "      <th>week</th>\n",
       "    </tr>\n",
       "  </thead>\n",
       "  <tbody>\n",
       "    <tr>\n",
       "      <th>0</th>\n",
       "      <td>2020-01-01</td>\n",
       "      <td>4195624216542755</td>\n",
       "      <td>799417004</td>\n",
       "      <td>0.030492</td>\n",
       "      <td>2</td>\n",
       "      <td>67</td>\n",
       "    </tr>\n",
       "    <tr>\n",
       "      <th>1</th>\n",
       "      <td>2020-01-01</td>\n",
       "      <td>10296145678877316</td>\n",
       "      <td>682771005</td>\n",
       "      <td>0.015237</td>\n",
       "      <td>2</td>\n",
       "      <td>67</td>\n",
       "    </tr>\n",
       "    <tr>\n",
       "      <th>2</th>\n",
       "      <td>2020-01-01</td>\n",
       "      <td>18673653377351162</td>\n",
       "      <td>775077001</td>\n",
       "      <td>0.015237</td>\n",
       "      <td>2</td>\n",
       "      <td>67</td>\n",
       "    </tr>\n",
       "    <tr>\n",
       "      <th>3</th>\n",
       "      <td>2020-01-01</td>\n",
       "      <td>25713010999983855</td>\n",
       "      <td>687948001</td>\n",
       "      <td>0.042356</td>\n",
       "      <td>2</td>\n",
       "      <td>67</td>\n",
       "    </tr>\n",
       "    <tr>\n",
       "      <th>4</th>\n",
       "      <td>2020-01-01</td>\n",
       "      <td>29659536698466345</td>\n",
       "      <td>777148005</td>\n",
       "      <td>0.050831</td>\n",
       "      <td>2</td>\n",
       "      <td>67</td>\n",
       "    </tr>\n",
       "    <tr>\n",
       "      <th>...</th>\n",
       "      <td>...</td>\n",
       "      <td>...</td>\n",
       "      <td>...</td>\n",
       "      <td>...</td>\n",
       "      <td>...</td>\n",
       "      <td>...</td>\n",
       "    </tr>\n",
       "    <tr>\n",
       "      <th>862719</th>\n",
       "      <td>2020-09-22</td>\n",
       "      <td>18409112236320621348</td>\n",
       "      <td>860833002</td>\n",
       "      <td>0.025407</td>\n",
       "      <td>2</td>\n",
       "      <td>104</td>\n",
       "    </tr>\n",
       "    <tr>\n",
       "      <th>862720</th>\n",
       "      <td>2020-09-22</td>\n",
       "      <td>18417769707947924979</td>\n",
       "      <td>729860001</td>\n",
       "      <td>0.022017</td>\n",
       "      <td>2</td>\n",
       "      <td>104</td>\n",
       "    </tr>\n",
       "    <tr>\n",
       "      <th>862721</th>\n",
       "      <td>2020-09-22</td>\n",
       "      <td>18418054986721795659</td>\n",
       "      <td>873279003</td>\n",
       "      <td>0.042356</td>\n",
       "      <td>2</td>\n",
       "      <td>104</td>\n",
       "    </tr>\n",
       "    <tr>\n",
       "      <th>862722</th>\n",
       "      <td>2020-09-22</td>\n",
       "      <td>18421175435799911749</td>\n",
       "      <td>863583001</td>\n",
       "      <td>0.033881</td>\n",
       "      <td>2</td>\n",
       "      <td>104</td>\n",
       "    </tr>\n",
       "    <tr>\n",
       "      <th>862723</th>\n",
       "      <td>2020-09-22</td>\n",
       "      <td>18438270306572912089</td>\n",
       "      <td>751471043</td>\n",
       "      <td>0.033881</td>\n",
       "      <td>1</td>\n",
       "      <td>104</td>\n",
       "    </tr>\n",
       "  </tbody>\n",
       "</table>\n",
       "<p>862724 rows × 6 columns</p>\n",
       "</div>"
      ],
      "text/plain": [
       "            t_dat           customer_id  article_id     price  \\\n",
       "0      2020-01-01      4195624216542755   799417004  0.030492   \n",
       "1      2020-01-01     10296145678877316   682771005  0.015237   \n",
       "2      2020-01-01     18673653377351162   775077001  0.015237   \n",
       "3      2020-01-01     25713010999983855   687948001  0.042356   \n",
       "4      2020-01-01     29659536698466345   777148005  0.050831   \n",
       "...           ...                   ...         ...       ...   \n",
       "862719 2020-09-22  18409112236320621348   860833002  0.025407   \n",
       "862720 2020-09-22  18417769707947924979   729860001  0.022017   \n",
       "862721 2020-09-22  18418054986721795659   873279003  0.042356   \n",
       "862722 2020-09-22  18421175435799911749   863583001  0.033881   \n",
       "862723 2020-09-22  18438270306572912089   751471043  0.033881   \n",
       "\n",
       "        sales_channel_id  week  \n",
       "0                      2    67  \n",
       "1                      2    67  \n",
       "2                      2    67  \n",
       "3                      2    67  \n",
       "4                      2    67  \n",
       "...                  ...   ...  \n",
       "862719                 2   104  \n",
       "862720                 2   104  \n",
       "862721                 2   104  \n",
       "862722                 2   104  \n",
       "862723                 1   104  \n",
       "\n",
       "[862724 rows x 6 columns]"
      ]
     },
     "execution_count": 14,
     "metadata": {},
     "output_type": "execute_result"
    }
   ],
   "source": [
    "#test set about transactions\n",
    "test_set_transactions = filtered_transactions.drop_duplicates('customer_id')\n",
    "test_set_transactions.reset_index(drop = True, inplace = True)\n",
    "test_set_transactions"
   ]
  },
  {
   "cell_type": "code",
   "execution_count": 15,
   "id": "ea94d65e",
   "metadata": {
    "execution": {
     "iopub.execute_input": "2023-12-14T10:17:22.823019Z",
     "iopub.status.busy": "2023-12-14T10:17:22.822168Z",
     "iopub.status.idle": "2023-12-14T10:17:27.186850Z",
     "shell.execute_reply": "2023-12-14T10:17:27.186205Z",
     "shell.execute_reply.started": "2023-12-14T09:44:27.339642Z"
    },
    "papermill": {
     "duration": 4.448935,
     "end_time": "2023-12-14T10:17:27.186986",
     "exception": false,
     "start_time": "2023-12-14T10:17:22.738051",
     "status": "completed"
    },
    "tags": []
   },
   "outputs": [],
   "source": [
    "#bestsellers for 2020\n",
    "mean_price = filtered_transactions \\\n",
    "    .groupby(['week', 'article_id'])['price'].mean()\n",
    "\n",
    "sales = filtered_transactions \\\n",
    "    .groupby('week')['article_id'].value_counts() \\\n",
    "    .groupby('week').rank(method='dense', ascending=False) \\\n",
    "    .groupby('week').head(50).rename('bestseller_rank').astype('int8')\n",
    "\n",
    "bestsellers_2020 = pd.merge(sales, mean_price, on=['week', 'article_id']).reset_index()"
   ]
  },
  {
   "cell_type": "markdown",
   "id": "3aa58f98",
   "metadata": {
    "papermill": {
     "duration": 0.076274,
     "end_time": "2023-12-14T10:17:27.343259",
     "exception": false,
     "start_time": "2023-12-14T10:17:27.266985",
     "status": "completed"
    },
    "tags": []
   },
   "source": [
    "# Combining transactions and candidates / negative examples"
   ]
  },
  {
   "cell_type": "markdown",
   "id": "70904fd5",
   "metadata": {
    "papermill": {
     "duration": 0.075458,
     "end_time": "2023-12-14T10:17:27.496055",
     "exception": false,
     "start_time": "2023-12-14T10:17:27.420597",
     "status": "completed"
    },
    "tags": []
   },
   "source": [
    "##### Images to create negative candidates"
   ]
  },
  {
   "cell_type": "code",
   "execution_count": 16,
   "id": "7ad09990",
   "metadata": {
    "execution": {
     "iopub.execute_input": "2023-12-14T10:17:27.652992Z",
     "iopub.status.busy": "2023-12-14T10:17:27.652152Z",
     "iopub.status.idle": "2023-12-14T10:17:27.655021Z",
     "shell.execute_reply": "2023-12-14T10:17:27.654419Z",
     "shell.execute_reply.started": "2023-12-14T09:44:31.664385Z"
    },
    "papermill": {
     "duration": 0.082884,
     "end_time": "2023-12-14T10:17:27.655143",
     "exception": false,
     "start_time": "2023-12-14T10:17:27.572259",
     "status": "completed"
    },
    "tags": []
   },
   "outputs": [],
   "source": [
    "#print(bestsellers_2020[bestsellers_2020['bestseller_rank'] == 1]) #first bestseller for each considered week"
   ]
  },
  {
   "cell_type": "code",
   "execution_count": 17,
   "id": "c6e88b3e",
   "metadata": {
    "execution": {
     "iopub.execute_input": "2023-12-14T10:17:27.817675Z",
     "iopub.status.busy": "2023-12-14T10:17:27.816999Z",
     "iopub.status.idle": "2023-12-14T10:17:27.820440Z",
     "shell.execute_reply": "2023-12-14T10:17:27.819966Z",
     "shell.execute_reply.started": "2023-12-14T09:44:31.669223Z"
    },
    "papermill": {
     "duration": 0.088585,
     "end_time": "2023-12-14T10:17:27.820575",
     "exception": false,
     "start_time": "2023-12-14T10:17:27.731990",
     "status": "completed"
    },
    "tags": []
   },
   "outputs": [
    {
     "data": {
      "text/plain": [
       "0      736870005\n",
       "1      746775001\n",
       "2      720125001\n",
       "3      831211001\n",
       "4      706016001\n",
       "         ...    \n",
       "186    924243001\n",
       "187    924243002\n",
       "188    918522001\n",
       "189    923758001\n",
       "190    866731001\n",
       "Name: article_id, Length: 191, dtype: int64"
      ]
     },
     "execution_count": 17,
     "metadata": {},
     "output_type": "execute_result"
    }
   ],
   "source": [
    "top_5_bestsellers_article_ref = bestsellers_2020['article_id'][bestsellers_2020['bestseller_rank'].between(1, 5)]\n",
    "top_5_bestsellers_article_ref = top_5_bestsellers_article_ref.reset_index(drop = True)\n",
    "#top_5_bestsellers_article_ref = pd.DataFrame(top_5_bestsellers_article_ref)\n",
    "top_5_bestsellers_article_ref"
   ]
  },
  {
   "cell_type": "code",
   "execution_count": 18,
   "id": "2c8319c9",
   "metadata": {
    "execution": {
     "iopub.execute_input": "2023-12-14T10:17:27.982081Z",
     "iopub.status.busy": "2023-12-14T10:17:27.981233Z",
     "iopub.status.idle": "2023-12-14T10:17:27.984723Z",
     "shell.execute_reply": "2023-12-14T10:17:27.984136Z",
     "shell.execute_reply.started": "2023-12-14T09:44:31.688474Z"
    },
    "papermill": {
     "duration": 0.087547,
     "end_time": "2023-12-14T10:17:27.984843",
     "exception": false,
     "start_time": "2023-12-14T10:17:27.897296",
     "status": "completed"
    },
    "tags": []
   },
   "outputs": [
    {
     "data": {
      "text/plain": [
       "0      0736870005\n",
       "1      0746775001\n",
       "2      0720125001\n",
       "3      0831211001\n",
       "4      0706016001\n",
       "          ...    \n",
       "186    0924243001\n",
       "187    0924243002\n",
       "188    0918522001\n",
       "189    0923758001\n",
       "190    0866731001\n",
       "Name: article_id, Length: 191, dtype: object"
      ]
     },
     "execution_count": 18,
     "metadata": {},
     "output_type": "execute_result"
    }
   ],
   "source": [
    "top_5_bestsellers_article_ref = article_id_int_to_str(top_5_bestsellers_article_ref)\n",
    "top_5_bestsellers_article_ref"
   ]
  },
  {
   "cell_type": "code",
   "execution_count": 19,
   "id": "7c5537e7",
   "metadata": {
    "execution": {
     "iopub.execute_input": "2023-12-14T10:17:28.147182Z",
     "iopub.status.busy": "2023-12-14T10:17:28.146555Z",
     "iopub.status.idle": "2023-12-14T10:19:14.397633Z",
     "shell.execute_reply": "2023-12-14T10:19:14.397026Z",
     "shell.execute_reply.started": "2023-12-14T09:44:31.704193Z"
    },
    "papermill": {
     "duration": 106.332958,
     "end_time": "2023-12-14T10:19:14.397782",
     "exception": false,
     "start_time": "2023-12-14T10:17:28.064824",
     "status": "completed"
    },
    "tags": []
   },
   "outputs": [],
   "source": [
    "import os \n",
    "\n",
    "directory = '../input/h-and-m-personalized-fashion-recommendations/images'\n",
    "found_images_5bestsellers = []\n",
    "\n",
    "for root, dirs, files in os.walk(directory):\n",
    "    for file in files:\n",
    "        article_id = file.split('.')[0].strip().lower()\n",
    "        if article_id in [x.strip().lower() for x in top_5_bestsellers_article_ref]:\n",
    "            found_images_5bestsellers.append(article_id)"
   ]
  },
  {
   "cell_type": "code",
   "execution_count": 20,
   "id": "d3a3b986",
   "metadata": {
    "execution": {
     "iopub.execute_input": "2023-12-14T10:19:14.564496Z",
     "iopub.status.busy": "2023-12-14T10:19:14.563773Z",
     "iopub.status.idle": "2023-12-14T10:19:14.567588Z",
     "shell.execute_reply": "2023-12-14T10:19:14.567026Z",
     "shell.execute_reply.started": "2023-12-14T09:45:59.809576Z"
    },
    "papermill": {
     "duration": 0.090936,
     "end_time": "2023-12-14T10:19:14.567722",
     "exception": false,
     "start_time": "2023-12-14T10:19:14.476786",
     "status": "completed"
    },
    "tags": []
   },
   "outputs": [
    {
     "data": {
      "text/plain": [
       "0       0736870005\n",
       "1       0746775001\n",
       "2       0720125001\n",
       "3       0831211001\n",
       "4       0706016001\n",
       "           ...    \n",
       "1895    0911699002\n",
       "1896    0923340001\n",
       "1897    0904571001\n",
       "1898    0896169002\n",
       "1899    0881942001\n",
       "Name: article_id, Length: 1900, dtype: object"
      ]
     },
     "execution_count": 20,
     "metadata": {},
     "output_type": "execute_result"
    }
   ],
   "source": [
    "bestsellers_2020_str = article_id_int_to_str(bestsellers_2020['article_id'])\n",
    "bestsellers_2020_str"
   ]
  },
  {
   "cell_type": "code",
   "execution_count": 21,
   "id": "bb9d1d19",
   "metadata": {
    "execution": {
     "iopub.execute_input": "2023-12-14T10:19:14.731872Z",
     "iopub.status.busy": "2023-12-14T10:19:14.731174Z",
     "iopub.status.idle": "2023-12-14T10:20:33.093831Z",
     "shell.execute_reply": "2023-12-14T10:20:33.094596Z",
     "shell.execute_reply.started": "2023-12-14T09:45:59.824140Z"
    },
    "papermill": {
     "duration": 78.445345,
     "end_time": "2023-12-14T10:20:33.094835",
     "exception": false,
     "start_time": "2023-12-14T10:19:14.649490",
     "status": "completed"
    },
    "tags": []
   },
   "outputs": [],
   "source": [
    "matching_article_ids_2020 = []\n",
    "\n",
    "for root, dirs, files in os.walk(directory):\n",
    "    for file in files:\n",
    "        article_id = file.split('.')[0].strip().lower()\n",
    "        if article_id in [x.strip().lower() for x in bestsellers_2020_str]:\n",
    "            matching_article_ids_2020.append(article_id)"
   ]
  },
  {
   "cell_type": "code",
   "execution_count": 22,
   "id": "e1728483",
   "metadata": {
    "execution": {
     "iopub.execute_input": "2023-12-14T10:20:33.268457Z",
     "iopub.status.busy": "2023-12-14T10:20:33.267733Z",
     "iopub.status.idle": "2023-12-14T10:20:33.271209Z",
     "shell.execute_reply": "2023-12-14T10:20:33.270750Z",
     "shell.execute_reply.started": "2023-12-14T09:47:36.713649Z"
    },
    "papermill": {
     "duration": 0.084438,
     "end_time": "2023-12-14T10:20:33.271347",
     "exception": false,
     "start_time": "2023-12-14T10:20:33.186909",
     "status": "completed"
    },
    "tags": []
   },
   "outputs": [
    {
     "data": {
      "text/plain": [
       "'directory = \\'/kaggle/input/h-and-m-personalized-fashion-recommendations/images\\'\\n\\nimage_count = 0\\n\\nfor root, dirs, files in os.walk(directory):\\n    for file in files:\\n        # Check if the file is an image (you can customize the extension list)\\n        if file.lower().endswith((\\'.jpg\\')):\\n            image_count += 1\\n\\nprint(f\"Total number of images in {directory} and its subdirectories: {image_count}\")'"
      ]
     },
     "execution_count": 22,
     "metadata": {},
     "output_type": "execute_result"
    }
   ],
   "source": [
    "'''directory = '/kaggle/input/h-and-m-personalized-fashion-recommendations/images'\n",
    "\n",
    "image_count = 0\n",
    "\n",
    "for root, dirs, files in os.walk(directory):\n",
    "    for file in files:\n",
    "        # Check if the file is an image (you can customize the extension list)\n",
    "        if file.lower().endswith(('.jpg')):\n",
    "            image_count += 1\n",
    "\n",
    "print(f\"Total number of images in {directory} and its subdirectories: {image_count}\")'''"
   ]
  },
  {
   "cell_type": "code",
   "execution_count": 23,
   "id": "2628e2a9",
   "metadata": {
    "execution": {
     "iopub.execute_input": "2023-12-14T10:20:33.430544Z",
     "iopub.status.busy": "2023-12-14T10:20:33.429785Z",
     "iopub.status.idle": "2023-12-14T10:20:33.433248Z",
     "shell.execute_reply": "2023-12-14T10:20:33.432715Z",
     "shell.execute_reply.started": "2023-12-14T09:47:36.721018Z"
    },
    "papermill": {
     "duration": 0.085035,
     "end_time": "2023-12-14T10:20:33.433450",
     "exception": false,
     "start_time": "2023-12-14T10:20:33.348415",
     "status": "completed"
    },
    "tags": []
   },
   "outputs": [
    {
     "name": "stdout",
     "output_type": "stream",
     "text": [
      "Total number of unique articles in bestsellers_2020_str: 792\n",
      "Total number of unique articles in top_5_bestsellers_article_ref: 111\n"
     ]
    }
   ],
   "source": [
    "#unique elements of bestsellers_2020_str and top_5_bestsellers_article_ref\n",
    "unique_article_count_bestsellers_2020 = len(set(bestsellers_2020_str))\n",
    "unique_article_count_5_bestsellers = len(set(top_5_bestsellers_article_ref))\n",
    "\n",
    "print(f\"Total number of unique articles in bestsellers_2020_str: {unique_article_count_bestsellers_2020}\")\n",
    "print(f\"Total number of unique articles in top_5_bestsellers_article_ref: {unique_article_count_5_bestsellers}\")"
   ]
  },
  {
   "cell_type": "code",
   "execution_count": 24,
   "id": "f9d003fd",
   "metadata": {
    "execution": {
     "iopub.execute_input": "2023-12-14T10:20:33.594521Z",
     "iopub.status.busy": "2023-12-14T10:20:33.593194Z",
     "iopub.status.idle": "2023-12-14T10:20:33.595674Z",
     "shell.execute_reply": "2023-12-14T10:20:33.596154Z",
     "shell.execute_reply.started": "2023-12-14T09:47:36.742073Z"
    },
    "papermill": {
     "duration": 0.084934,
     "end_time": "2023-12-14T10:20:33.596292",
     "exception": false,
     "start_time": "2023-12-14T10:20:33.511358",
     "status": "completed"
    },
    "tags": []
   },
   "outputs": [],
   "source": [
    "#remove of duplicate elements from the arrays\n",
    "found_images_5bestsellers = set(found_images_5bestsellers)\n",
    "matching_article_ids_2020 = set(matching_article_ids_2020)"
   ]
  },
  {
   "cell_type": "code",
   "execution_count": 25,
   "id": "d1d4a18e",
   "metadata": {
    "execution": {
     "iopub.execute_input": "2023-12-14T10:20:33.756473Z",
     "iopub.status.busy": "2023-12-14T10:20:33.755857Z",
     "iopub.status.idle": "2023-12-14T10:20:33.758672Z",
     "shell.execute_reply": "2023-12-14T10:20:33.758104Z",
     "shell.execute_reply.started": "2023-12-14T09:47:36.755337Z"
    },
    "papermill": {
     "duration": 0.084544,
     "end_time": "2023-12-14T10:20:33.758794",
     "exception": false,
     "start_time": "2023-12-14T10:20:33.674250",
     "status": "completed"
    },
    "tags": []
   },
   "outputs": [],
   "source": [
    "#function to find images in the image folder\n",
    "def find_images(image_filename, base_folder='/kaggle/input/h-and-m-personalized-fashion-recommendations/images'):\n",
    "    for root, dirs, files in os.walk(base_folder):\n",
    "        if (image_filename + '.jpg') in files:\n",
    "            return os.path.join(root, image_filename + '.jpg')\n",
    "    return None"
   ]
  },
  {
   "cell_type": "code",
   "execution_count": 26,
   "id": "7966e9ef",
   "metadata": {
    "execution": {
     "iopub.execute_input": "2023-12-14T10:20:33.917973Z",
     "iopub.status.busy": "2023-12-14T10:20:33.917264Z",
     "iopub.status.idle": "2023-12-14T10:24:40.991626Z",
     "shell.execute_reply": "2023-12-14T10:24:40.991018Z",
     "shell.execute_reply.started": "2023-12-14T09:47:36.767027Z"
    },
    "papermill": {
     "duration": 247.155548,
     "end_time": "2023-12-14T10:24:40.991781",
     "exception": false,
     "start_time": "2023-12-14T10:20:33.836233",
     "status": "completed"
    },
    "tags": []
   },
   "outputs": [],
   "source": [
    "found_images = []\n",
    "\n",
    "for image_filename in matching_article_ids_2020:\n",
    "    image_path = find_images(image_filename)\n",
    "    if image_path:\n",
    "        found_images.append(image_path)"
   ]
  },
  {
   "cell_type": "code",
   "execution_count": 27,
   "id": "b4753264",
   "metadata": {
    "execution": {
     "iopub.execute_input": "2023-12-14T10:24:41.158474Z",
     "iopub.status.busy": "2023-12-14T10:24:41.157858Z",
     "iopub.status.idle": "2023-12-14T10:24:41.160744Z",
     "shell.execute_reply": "2023-12-14T10:24:41.161205Z",
     "shell.execute_reply.started": "2023-12-14T09:54:15.892217Z"
    },
    "papermill": {
     "duration": 0.086569,
     "end_time": "2023-12-14T10:24:41.161373",
     "exception": false,
     "start_time": "2023-12-14T10:24:41.074804",
     "status": "completed"
    },
    "tags": []
   },
   "outputs": [
    {
     "name": "stdout",
     "output_type": "stream",
     "text": [
      "789\n",
      "789\n"
     ]
    }
   ],
   "source": [
    "print(len(found_images))\n",
    "print(len(matching_article_ids_2020))"
   ]
  },
  {
   "cell_type": "code",
   "execution_count": 28,
   "id": "d2c4bc27",
   "metadata": {
    "execution": {
     "iopub.execute_input": "2023-12-14T10:24:41.326808Z",
     "iopub.status.busy": "2023-12-14T10:24:41.326124Z",
     "iopub.status.idle": "2023-12-14T10:29:22.173044Z",
     "shell.execute_reply": "2023-12-14T10:29:22.172284Z",
     "shell.execute_reply.started": "2023-12-14T09:54:15.898346Z"
    },
    "papermill": {
     "duration": 280.931887,
     "end_time": "2023-12-14T10:29:22.173203",
     "exception": false,
     "start_time": "2023-12-14T10:24:41.241316",
     "status": "completed"
    },
    "tags": []
   },
   "outputs": [],
   "source": [
    "import cv2\n",
    "import numpy as np\n",
    "from skimage.metrics import structural_similarity as ssim\n",
    "from skimage import color, transform\n",
    "\n",
    "#function to calculate the structural similarity index between images\n",
    "def calculate_ssi(image1, image2):\n",
    "    if image1.shape != image2.shape:\n",
    "        image2 = transform.resize(image2, image1.shape, mode='reflect', anti_aliasing=True)\n",
    "    gray1 = color.rgb2gray(image1)\n",
    "    gray2 = color.rgb2gray(image2)\n",
    "    return ssim(gray1, gray2)\n",
    "\n",
    "reference_image_path = found_images[0]\n",
    "\n",
    "reference_image = cv2.imread(reference_image_path)\n",
    "\n",
    "similarity_scores = []\n",
    "\n",
    "for image_path in found_images[1:]:\n",
    "    current_image = cv2.imread(image_path)\n",
    "    \n",
    "    similarity_score = calculate_ssi(reference_image, current_image)\n",
    "    \n",
    "    similarity_scores.append((image_path, similarity_score))"
   ]
  },
  {
   "cell_type": "code",
   "execution_count": 29,
   "id": "d83908ae",
   "metadata": {
    "execution": {
     "iopub.execute_input": "2023-12-14T10:29:22.352070Z",
     "iopub.status.busy": "2023-12-14T10:29:22.351399Z",
     "iopub.status.idle": "2023-12-14T10:29:22.355113Z",
     "shell.execute_reply": "2023-12-14T10:29:22.354533Z",
     "shell.execute_reply.started": "2023-12-14T09:58:50.565385Z"
    },
    "papermill": {
     "duration": 0.098693,
     "end_time": "2023-12-14T10:29:22.355234",
     "exception": false,
     "start_time": "2023-12-14T10:29:22.256541",
     "status": "completed"
    },
    "tags": []
   },
   "outputs": [
    {
     "data": {
      "text/html": [
       "<div>\n",
       "<style scoped>\n",
       "    .dataframe tbody tr th:only-of-type {\n",
       "        vertical-align: middle;\n",
       "    }\n",
       "\n",
       "    .dataframe tbody tr th {\n",
       "        vertical-align: top;\n",
       "    }\n",
       "\n",
       "    .dataframe thead th {\n",
       "        text-align: right;\n",
       "    }\n",
       "</style>\n",
       "<table border=\"1\" class=\"dataframe\">\n",
       "  <thead>\n",
       "    <tr style=\"text-align: right;\">\n",
       "      <th></th>\n",
       "      <th>path to image</th>\n",
       "      <th>similarity with item 928206001</th>\n",
       "    </tr>\n",
       "  </thead>\n",
       "  <tbody>\n",
       "    <tr>\n",
       "      <th>0</th>\n",
       "      <td>/kaggle/input/h-and-m-personalized-fashion-rec...</td>\n",
       "      <td>0.645270</td>\n",
       "    </tr>\n",
       "    <tr>\n",
       "      <th>1</th>\n",
       "      <td>/kaggle/input/h-and-m-personalized-fashion-rec...</td>\n",
       "      <td>0.606393</td>\n",
       "    </tr>\n",
       "    <tr>\n",
       "      <th>2</th>\n",
       "      <td>/kaggle/input/h-and-m-personalized-fashion-rec...</td>\n",
       "      <td>0.672709</td>\n",
       "    </tr>\n",
       "    <tr>\n",
       "      <th>3</th>\n",
       "      <td>/kaggle/input/h-and-m-personalized-fashion-rec...</td>\n",
       "      <td>0.600112</td>\n",
       "    </tr>\n",
       "    <tr>\n",
       "      <th>4</th>\n",
       "      <td>/kaggle/input/h-and-m-personalized-fashion-rec...</td>\n",
       "      <td>0.739109</td>\n",
       "    </tr>\n",
       "    <tr>\n",
       "      <th>...</th>\n",
       "      <td>...</td>\n",
       "      <td>...</td>\n",
       "    </tr>\n",
       "    <tr>\n",
       "      <th>783</th>\n",
       "      <td>/kaggle/input/h-and-m-personalized-fashion-rec...</td>\n",
       "      <td>0.700491</td>\n",
       "    </tr>\n",
       "    <tr>\n",
       "      <th>784</th>\n",
       "      <td>/kaggle/input/h-and-m-personalized-fashion-rec...</td>\n",
       "      <td>0.664267</td>\n",
       "    </tr>\n",
       "    <tr>\n",
       "      <th>785</th>\n",
       "      <td>/kaggle/input/h-and-m-personalized-fashion-rec...</td>\n",
       "      <td>0.697150</td>\n",
       "    </tr>\n",
       "    <tr>\n",
       "      <th>786</th>\n",
       "      <td>/kaggle/input/h-and-m-personalized-fashion-rec...</td>\n",
       "      <td>0.765960</td>\n",
       "    </tr>\n",
       "    <tr>\n",
       "      <th>787</th>\n",
       "      <td>/kaggle/input/h-and-m-personalized-fashion-rec...</td>\n",
       "      <td>0.763028</td>\n",
       "    </tr>\n",
       "  </tbody>\n",
       "</table>\n",
       "<p>788 rows × 2 columns</p>\n",
       "</div>"
      ],
      "text/plain": [
       "                                         path to image  \\\n",
       "0    /kaggle/input/h-and-m-personalized-fashion-rec...   \n",
       "1    /kaggle/input/h-and-m-personalized-fashion-rec...   \n",
       "2    /kaggle/input/h-and-m-personalized-fashion-rec...   \n",
       "3    /kaggle/input/h-and-m-personalized-fashion-rec...   \n",
       "4    /kaggle/input/h-and-m-personalized-fashion-rec...   \n",
       "..                                                 ...   \n",
       "783  /kaggle/input/h-and-m-personalized-fashion-rec...   \n",
       "784  /kaggle/input/h-and-m-personalized-fashion-rec...   \n",
       "785  /kaggle/input/h-and-m-personalized-fashion-rec...   \n",
       "786  /kaggle/input/h-and-m-personalized-fashion-rec...   \n",
       "787  /kaggle/input/h-and-m-personalized-fashion-rec...   \n",
       "\n",
       "     similarity with item 928206001  \n",
       "0                          0.645270  \n",
       "1                          0.606393  \n",
       "2                          0.672709  \n",
       "3                          0.600112  \n",
       "4                          0.739109  \n",
       "..                              ...  \n",
       "783                        0.700491  \n",
       "784                        0.664267  \n",
       "785                        0.697150  \n",
       "786                        0.765960  \n",
       "787                        0.763028  \n",
       "\n",
       "[788 rows x 2 columns]"
      ]
     },
     "execution_count": 29,
     "metadata": {},
     "output_type": "execute_result"
    }
   ],
   "source": [
    "#dataframe about the similarity scores\n",
    "similarity = pd.DataFrame(similarity_scores, columns = ['path to image', 'similarity with item 928206001'])\n",
    "similarity"
   ]
  },
  {
   "cell_type": "code",
   "execution_count": 30,
   "id": "ab500c9b",
   "metadata": {
    "execution": {
     "iopub.execute_input": "2023-12-14T10:29:22.533278Z",
     "iopub.status.busy": "2023-12-14T10:29:22.532586Z",
     "iopub.status.idle": "2023-12-14T10:29:22.536277Z",
     "shell.execute_reply": "2023-12-14T10:29:22.535806Z",
     "shell.execute_reply.started": "2023-12-14T09:58:50.580837Z"
    },
    "papermill": {
     "duration": 0.10048,
     "end_time": "2023-12-14T10:29:22.536414",
     "exception": false,
     "start_time": "2023-12-14T10:29:22.435934",
     "status": "completed"
    },
    "tags": []
   },
   "outputs": [
    {
     "data": {
      "text/html": [
       "<div>\n",
       "<style scoped>\n",
       "    .dataframe tbody tr th:only-of-type {\n",
       "        vertical-align: middle;\n",
       "    }\n",
       "\n",
       "    .dataframe tbody tr th {\n",
       "        vertical-align: top;\n",
       "    }\n",
       "\n",
       "    .dataframe thead th {\n",
       "        text-align: right;\n",
       "    }\n",
       "</style>\n",
       "<table border=\"1\" class=\"dataframe\">\n",
       "  <thead>\n",
       "    <tr style=\"text-align: right;\">\n",
       "      <th></th>\n",
       "      <th>path to image</th>\n",
       "      <th>similarity with item 928206001</th>\n",
       "      <th>image_number</th>\n",
       "    </tr>\n",
       "  </thead>\n",
       "  <tbody>\n",
       "    <tr>\n",
       "      <th>0</th>\n",
       "      <td>/kaggle/input/h-and-m-personalized-fashion-rec...</td>\n",
       "      <td>0.645270</td>\n",
       "      <td>0568601006</td>\n",
       "    </tr>\n",
       "    <tr>\n",
       "      <th>1</th>\n",
       "      <td>/kaggle/input/h-and-m-personalized-fashion-rec...</td>\n",
       "      <td>0.606393</td>\n",
       "      <td>0817401002</td>\n",
       "    </tr>\n",
       "    <tr>\n",
       "      <th>2</th>\n",
       "      <td>/kaggle/input/h-and-m-personalized-fashion-rec...</td>\n",
       "      <td>0.672709</td>\n",
       "      <td>0759814009</td>\n",
       "    </tr>\n",
       "    <tr>\n",
       "      <th>3</th>\n",
       "      <td>/kaggle/input/h-and-m-personalized-fashion-rec...</td>\n",
       "      <td>0.600112</td>\n",
       "      <td>0870328003</td>\n",
       "    </tr>\n",
       "    <tr>\n",
       "      <th>4</th>\n",
       "      <td>/kaggle/input/h-and-m-personalized-fashion-rec...</td>\n",
       "      <td>0.739109</td>\n",
       "      <td>0854683001</td>\n",
       "    </tr>\n",
       "    <tr>\n",
       "      <th>...</th>\n",
       "      <td>...</td>\n",
       "      <td>...</td>\n",
       "      <td>...</td>\n",
       "    </tr>\n",
       "    <tr>\n",
       "      <th>783</th>\n",
       "      <td>/kaggle/input/h-and-m-personalized-fashion-rec...</td>\n",
       "      <td>0.700491</td>\n",
       "      <td>0788575001</td>\n",
       "    </tr>\n",
       "    <tr>\n",
       "      <th>784</th>\n",
       "      <td>/kaggle/input/h-and-m-personalized-fashion-rec...</td>\n",
       "      <td>0.664267</td>\n",
       "      <td>0852374004</td>\n",
       "    </tr>\n",
       "    <tr>\n",
       "      <th>785</th>\n",
       "      <td>/kaggle/input/h-and-m-personalized-fashion-rec...</td>\n",
       "      <td>0.697150</td>\n",
       "      <td>0751471001</td>\n",
       "    </tr>\n",
       "    <tr>\n",
       "      <th>786</th>\n",
       "      <td>/kaggle/input/h-and-m-personalized-fashion-rec...</td>\n",
       "      <td>0.765960</td>\n",
       "      <td>0769748005</td>\n",
       "    </tr>\n",
       "    <tr>\n",
       "      <th>787</th>\n",
       "      <td>/kaggle/input/h-and-m-personalized-fashion-rec...</td>\n",
       "      <td>0.763028</td>\n",
       "      <td>0832331004</td>\n",
       "    </tr>\n",
       "  </tbody>\n",
       "</table>\n",
       "<p>788 rows × 3 columns</p>\n",
       "</div>"
      ],
      "text/plain": [
       "                                         path to image  \\\n",
       "0    /kaggle/input/h-and-m-personalized-fashion-rec...   \n",
       "1    /kaggle/input/h-and-m-personalized-fashion-rec...   \n",
       "2    /kaggle/input/h-and-m-personalized-fashion-rec...   \n",
       "3    /kaggle/input/h-and-m-personalized-fashion-rec...   \n",
       "4    /kaggle/input/h-and-m-personalized-fashion-rec...   \n",
       "..                                                 ...   \n",
       "783  /kaggle/input/h-and-m-personalized-fashion-rec...   \n",
       "784  /kaggle/input/h-and-m-personalized-fashion-rec...   \n",
       "785  /kaggle/input/h-and-m-personalized-fashion-rec...   \n",
       "786  /kaggle/input/h-and-m-personalized-fashion-rec...   \n",
       "787  /kaggle/input/h-and-m-personalized-fashion-rec...   \n",
       "\n",
       "     similarity with item 928206001 image_number  \n",
       "0                          0.645270   0568601006  \n",
       "1                          0.606393   0817401002  \n",
       "2                          0.672709   0759814009  \n",
       "3                          0.600112   0870328003  \n",
       "4                          0.739109   0854683001  \n",
       "..                              ...          ...  \n",
       "783                        0.700491   0788575001  \n",
       "784                        0.664267   0852374004  \n",
       "785                        0.697150   0751471001  \n",
       "786                        0.765960   0769748005  \n",
       "787                        0.763028   0832331004  \n",
       "\n",
       "[788 rows x 3 columns]"
      ]
     },
     "execution_count": 30,
     "metadata": {},
     "output_type": "execute_result"
    }
   ],
   "source": [
    "similarity['image_number'] = similarity['path to image'].str.extract(r'/(\\d+)\\.jpg')\n",
    "similarity"
   ]
  },
  {
   "cell_type": "code",
   "execution_count": 31,
   "id": "444c68b4",
   "metadata": {
    "execution": {
     "iopub.execute_input": "2023-12-14T10:29:22.707937Z",
     "iopub.status.busy": "2023-12-14T10:29:22.707099Z",
     "iopub.status.idle": "2023-12-14T10:29:22.710938Z",
     "shell.execute_reply": "2023-12-14T10:29:22.710446Z",
     "shell.execute_reply.started": "2023-12-14T09:58:50.609707Z"
    },
    "papermill": {
     "duration": 0.092144,
     "end_time": "2023-12-14T10:29:22.711078",
     "exception": false,
     "start_time": "2023-12-14T10:29:22.618934",
     "status": "completed"
    },
    "tags": []
   },
   "outputs": [
    {
     "data": {
      "text/plain": [
       "str"
      ]
     },
     "execution_count": 31,
     "metadata": {},
     "output_type": "execute_result"
    }
   ],
   "source": [
    "type(similarity['image_number'][0])"
   ]
  },
  {
   "cell_type": "code",
   "execution_count": 32,
   "id": "3690ee75",
   "metadata": {
    "execution": {
     "iopub.execute_input": "2023-12-14T10:29:22.880892Z",
     "iopub.status.busy": "2023-12-14T10:29:22.880196Z",
     "iopub.status.idle": "2023-12-14T10:29:22.882770Z",
     "shell.execute_reply": "2023-12-14T10:29:22.882276Z",
     "shell.execute_reply.started": "2023-12-14T09:58:50.622504Z"
    },
    "papermill": {
     "duration": 0.088437,
     "end_time": "2023-12-14T10:29:22.882890",
     "exception": false,
     "start_time": "2023-12-14T10:29:22.794453",
     "status": "completed"
    },
    "tags": []
   },
   "outputs": [],
   "source": [
    "#transformation of the column image_number into an int and deteletion of the zero \n",
    "\n",
    "def remove_zero_and_to_int(series):\n",
    "    series_without_zeros = series.str.lstrip('0')\n",
    "    return series_without_zeros.astype('int32')\n",
    "\n",
    "similarity['image_number'] = remove_zero_and_to_int(similarity['image_number'])"
   ]
  },
  {
   "cell_type": "code",
   "execution_count": 33,
   "id": "eee2843f",
   "metadata": {
    "execution": {
     "iopub.execute_input": "2023-12-14T10:29:23.059801Z",
     "iopub.status.busy": "2023-12-14T10:29:23.058966Z",
     "iopub.status.idle": "2023-12-14T10:29:23.062623Z",
     "shell.execute_reply": "2023-12-14T10:29:23.062028Z",
     "shell.execute_reply.started": "2023-12-14T09:58:50.633641Z"
    },
    "papermill": {
     "duration": 0.098659,
     "end_time": "2023-12-14T10:29:23.062751",
     "exception": false,
     "start_time": "2023-12-14T10:29:22.964092",
     "status": "completed"
    },
    "tags": []
   },
   "outputs": [
    {
     "data": {
      "text/plain": [
       "0      568601006\n",
       "1      817401002\n",
       "2      759814009\n",
       "3      870328003\n",
       "4      854683001\n",
       "         ...    \n",
       "783    788575001\n",
       "784    852374004\n",
       "785    751471001\n",
       "786    769748005\n",
       "787    832331004\n",
       "Name: image_number, Length: 788, dtype: int32"
      ]
     },
     "execution_count": 33,
     "metadata": {},
     "output_type": "execute_result"
    }
   ],
   "source": [
    "similarity['image_number']"
   ]
  },
  {
   "cell_type": "markdown",
   "id": "12dcd42d",
   "metadata": {
    "papermill": {
     "duration": 0.083061,
     "end_time": "2023-12-14T10:29:23.247118",
     "exception": false,
     "start_time": "2023-12-14T10:29:23.164057",
     "status": "completed"
    },
    "tags": []
   },
   "source": [
    "##### Creation of the dataset to use"
   ]
  },
  {
   "cell_type": "code",
   "execution_count": 34,
   "id": "e9a08f54",
   "metadata": {
    "execution": {
     "iopub.execute_input": "2023-12-14T10:29:23.412643Z",
     "iopub.status.busy": "2023-12-14T10:29:23.412013Z",
     "iopub.status.idle": "2023-12-14T10:29:23.439758Z",
     "shell.execute_reply": "2023-12-14T10:29:23.440271Z",
     "shell.execute_reply.started": "2023-12-14T09:58:50.660257Z"
    },
    "papermill": {
     "duration": 0.112795,
     "end_time": "2023-12-14T10:29:23.440476",
     "exception": false,
     "start_time": "2023-12-14T10:29:23.327681",
     "status": "completed"
    },
    "tags": []
   },
   "outputs": [
    {
     "name": "stderr",
     "output_type": "stream",
     "text": [
      "/opt/conda/lib/python3.7/site-packages/pandas/core/indexing.py:1667: SettingWithCopyWarning: \n",
      "A value is trying to be set on a copy of a slice from a DataFrame.\n",
      "Try using .loc[row_indexer,col_indexer] = value instead\n",
      "\n",
      "See the caveats in the documentation: https://pandas.pydata.org/pandas-docs/stable/user_guide/indexing.html#returning-a-view-versus-a-copy\n",
      "  self.obj[key] = value\n"
     ]
    }
   ],
   "source": [
    "filtered_transactions.loc[:, 'purchased'] = 1"
   ]
  },
  {
   "cell_type": "code",
   "execution_count": 35,
   "id": "5f9378ca",
   "metadata": {
    "execution": {
     "iopub.execute_input": "2023-12-14T10:29:23.613071Z",
     "iopub.status.busy": "2023-12-14T10:29:23.611688Z",
     "iopub.status.idle": "2023-12-14T10:33:59.800437Z",
     "shell.execute_reply": "2023-12-14T10:33:59.799845Z",
     "shell.execute_reply.started": "2023-12-14T09:58:50.704996Z"
    },
    "papermill": {
     "duration": 276.276353,
     "end_time": "2023-12-14T10:33:59.800601",
     "exception": false,
     "start_time": "2023-12-14T10:29:23.524248",
     "status": "completed"
    },
    "tags": []
   },
   "outputs": [],
   "source": [
    "data = pd.concat([filtered_transactions, candidates_last_purchase_2020])\n",
    "data = pd.merge(data, bestsellers_2020[['article_id', 'bestseller_rank']], on = 'article_id', how = 'left')\n",
    "data = pd.merge(data, similarity[['image_number', 'similarity with item 928206001']], left_on = 'article_id', right_on = 'image_number', how = 'left')\n",
    "data.fillna(0, inplace = True)"
   ]
  },
  {
   "cell_type": "code",
   "execution_count": 36,
   "id": "298960cb",
   "metadata": {
    "execution": {
     "iopub.execute_input": "2023-12-14T10:33:59.973185Z",
     "iopub.status.busy": "2023-12-14T10:33:59.972313Z",
     "iopub.status.idle": "2023-12-14T10:34:08.015578Z",
     "shell.execute_reply": "2023-12-14T10:34:08.014858Z",
     "shell.execute_reply.started": "2023-12-14T10:03:23.900759Z"
    },
    "papermill": {
     "duration": 8.13185,
     "end_time": "2023-12-14T10:34:08.015728",
     "exception": false,
     "start_time": "2023-12-14T10:33:59.883878",
     "status": "completed"
    },
    "tags": []
   },
   "outputs": [],
   "source": [
    "#adding candidates info\n",
    "data = pd.merge(data, candidates_definitive[['customer_id', 'mean price purchases', 'most_present_gender_in_area', 'median_age_area']], on = 'customer_id', how = 'left')"
   ]
  },
  {
   "cell_type": "code",
   "execution_count": 37,
   "id": "3fd864bd",
   "metadata": {
    "execution": {
     "iopub.execute_input": "2023-12-14T10:34:08.187674Z",
     "iopub.status.busy": "2023-12-14T10:34:08.186852Z",
     "iopub.status.idle": "2023-12-14T10:34:57.755856Z",
     "shell.execute_reply": "2023-12-14T10:34:57.755169Z",
     "shell.execute_reply.started": "2023-12-14T10:03:31.909820Z"
    },
    "papermill": {
     "duration": 49.657121,
     "end_time": "2023-12-14T10:34:57.756002",
     "exception": false,
     "start_time": "2023-12-14T10:34:08.098881",
     "status": "completed"
    },
    "tags": []
   },
   "outputs": [],
   "source": [
    "#adding initial datasets to my new dataset\n",
    "data = pd.merge(data, articles, on = 'article_id', how = 'left')\n",
    "data = pd.merge(data, customers, on = 'customer_id', how = 'left')"
   ]
  },
  {
   "cell_type": "code",
   "execution_count": 38,
   "id": "7fd6982d",
   "metadata": {
    "execution": {
     "iopub.execute_input": "2023-12-14T10:34:57.925703Z",
     "iopub.status.busy": "2023-12-14T10:34:57.925020Z",
     "iopub.status.idle": "2023-12-14T10:35:13.555652Z",
     "shell.execute_reply": "2023-12-14T10:35:13.555078Z",
     "shell.execute_reply.started": "2023-12-14T10:04:21.108909Z"
    },
    "papermill": {
     "duration": 15.717879,
     "end_time": "2023-12-14T10:35:13.555805",
     "exception": false,
     "start_time": "2023-12-14T10:34:57.837926",
     "status": "completed"
    },
    "tags": []
   },
   "outputs": [],
   "source": [
    "data.sort_values(['week', 'customer_id'], inplace=True)\n",
    "data.reset_index(drop=True, inplace=True)"
   ]
  },
  {
   "cell_type": "code",
   "execution_count": 39,
   "id": "4f9844c6",
   "metadata": {
    "execution": {
     "iopub.execute_input": "2023-12-14T10:35:13.736506Z",
     "iopub.status.busy": "2023-12-14T10:35:13.724440Z",
     "iopub.status.idle": "2023-12-14T10:35:25.799816Z",
     "shell.execute_reply": "2023-12-14T10:35:25.799258Z",
     "shell.execute_reply.started": "2023-12-14T10:04:36.572413Z"
    },
    "papermill": {
     "duration": 12.162558,
     "end_time": "2023-12-14T10:35:25.799961",
     "exception": false,
     "start_time": "2023-12-14T10:35:13.637403",
     "status": "completed"
    },
    "tags": []
   },
   "outputs": [],
   "source": [
    "train = data[data.week != test_week]\n",
    "test = data[data.week==test_week].drop_duplicates(['customer_id', 'article_id', 'sales_channel_id']).copy()"
   ]
  },
  {
   "cell_type": "code",
   "execution_count": 40,
   "id": "c12071a9",
   "metadata": {
    "execution": {
     "iopub.execute_input": "2023-12-14T10:35:25.965827Z",
     "iopub.status.busy": "2023-12-14T10:35:25.964960Z",
     "iopub.status.idle": "2023-12-14T10:35:28.645718Z",
     "shell.execute_reply": "2023-12-14T10:35:28.645117Z",
     "shell.execute_reply.started": "2023-12-14T10:04:48.602577Z"
    },
    "papermill": {
     "duration": 2.765341,
     "end_time": "2023-12-14T10:35:28.645878",
     "exception": false,
     "start_time": "2023-12-14T10:35:25.880537",
     "status": "completed"
    },
    "tags": []
   },
   "outputs": [],
   "source": [
    "train_baskets = train.groupby(['week', 'customer_id'])['article_id'].count().values"
   ]
  },
  {
   "cell_type": "code",
   "execution_count": 41,
   "id": "6d126e0d",
   "metadata": {
    "execution": {
     "iopub.execute_input": "2023-12-14T10:35:28.816882Z",
     "iopub.status.busy": "2023-12-14T10:35:28.816195Z",
     "iopub.status.idle": "2023-12-14T10:35:28.818918Z",
     "shell.execute_reply": "2023-12-14T10:35:28.818440Z",
     "shell.execute_reply.started": "2023-12-14T10:04:51.298604Z"
    },
    "papermill": {
     "duration": 0.091262,
     "end_time": "2023-12-14T10:35:28.819052",
     "exception": false,
     "start_time": "2023-12-14T10:35:28.727790",
     "status": "completed"
    },
    "tags": []
   },
   "outputs": [],
   "source": [
    "columns_to_use = ['article_id', 'product_type_no', 'graphical_appearance_no', 'colour_group_code', 'perceived_colour_value_id',\n",
    "'perceived_colour_master_id', 'department_no', 'index_code', 'index_group_no', 'section_no', 'garment_group_no', 'FN', 'Active',\n",
    "'club_member_status', 'fashion_news_frequency', 'bestseller_rank', 'mean price purchases', 'most_present_gender_in_area', 'median_age_area',\n",
    "'numerical_gender', 'numerical_article_gender', 'similarity with item 928206001']"
   ]
  },
  {
   "cell_type": "code",
   "execution_count": 42,
   "id": "420a75bc",
   "metadata": {
    "execution": {
     "iopub.execute_input": "2023-12-14T10:35:29.608761Z",
     "iopub.status.busy": "2023-12-14T10:35:29.479891Z",
     "iopub.status.idle": "2023-12-14T10:35:30.114581Z",
     "shell.execute_reply": "2023-12-14T10:35:30.114011Z",
     "shell.execute_reply.started": "2023-12-14T10:04:51.304667Z"
    },
    "papermill": {
     "duration": 1.213655,
     "end_time": "2023-12-14T10:35:30.114724",
     "exception": false,
     "start_time": "2023-12-14T10:35:28.901069",
     "status": "completed"
    },
    "tags": []
   },
   "outputs": [
    {
     "name": "stdout",
     "output_type": "stream",
     "text": [
      "CPU times: user 589 ms, sys: 539 ms, total: 1.13 s\n",
      "Wall time: 1.12 s\n"
     ]
    }
   ],
   "source": [
    "%%time\n",
    "\n",
    "train_X = train[columns_to_use]\n",
    "train_y = train['purchased']\n",
    "\n",
    "test_X = test[columns_to_use]"
   ]
  },
  {
   "cell_type": "markdown",
   "id": "c50224da",
   "metadata": {
    "papermill": {
     "duration": 0.081752,
     "end_time": "2023-12-14T10:35:30.279614",
     "exception": false,
     "start_time": "2023-12-14T10:35:30.197862",
     "status": "completed"
    },
    "tags": []
   },
   "source": [
    "# Model training"
   ]
  },
  {
   "cell_type": "code",
   "execution_count": 43,
   "id": "6219fae3",
   "metadata": {
    "execution": {
     "iopub.execute_input": "2023-12-14T10:35:30.448854Z",
     "iopub.status.busy": "2023-12-14T10:35:30.448234Z",
     "iopub.status.idle": "2023-12-14T10:35:33.045836Z",
     "shell.execute_reply": "2023-12-14T10:35:33.046369Z",
     "shell.execute_reply.started": "2023-12-14T10:04:52.429520Z"
    },
    "papermill": {
     "duration": 2.682553,
     "end_time": "2023-12-14T10:35:33.046569",
     "exception": false,
     "start_time": "2023-12-14T10:35:30.364016",
     "status": "completed"
    },
    "tags": []
   },
   "outputs": [
    {
     "data": {
      "text/html": [
       "<style type='text/css'>\n",
       ".datatable table.frame { margin-bottom: 0; }\n",
       ".datatable table.frame thead { border-bottom: none; }\n",
       ".datatable table.frame tr.coltypes td {  color: #FFFFFF;  line-height: 6px;  padding: 0 0.5em;}\n",
       ".datatable .bool    { background: #DDDD99; }\n",
       ".datatable .object  { background: #565656; }\n",
       ".datatable .int     { background: #5D9E5D; }\n",
       ".datatable .float   { background: #4040CC; }\n",
       ".datatable .str     { background: #CC4040; }\n",
       ".datatable .time    { background: #40CC40; }\n",
       ".datatable .row_index {  background: var(--jp-border-color3);  border-right: 1px solid var(--jp-border-color0);  color: var(--jp-ui-font-color3);  font-size: 9px;}\n",
       ".datatable .frame tbody td { text-align: left; }\n",
       ".datatable .frame tr.coltypes .row_index {  background: var(--jp-border-color0);}\n",
       ".datatable th:nth-child(2) { padding-left: 12px; }\n",
       ".datatable .hellipsis {  color: var(--jp-cell-editor-border-color);}\n",
       ".datatable .vellipsis {  background: var(--jp-layout-color0);  color: var(--jp-cell-editor-border-color);}\n",
       ".datatable .na {  color: var(--jp-cell-editor-border-color);  font-size: 80%;}\n",
       ".datatable .sp {  opacity: 0.25;}\n",
       ".datatable .footer { font-size: 9px; }\n",
       ".datatable .frame_dimensions {  background: var(--jp-border-color3);  border-top: 1px solid var(--jp-border-color0);  color: var(--jp-ui-font-color3);  display: inline-block;  opacity: 0.6;  padding: 1px 10px 1px 5px;}\n",
       ".datatable .frame thead tr.colnames {  background-image: url('data:image/png;base64,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');  background-repeat: repeat-x;  background-size: 14px;  height: 28px;}\n",
       "</style>\n"
      ],
      "text/plain": [
       "<IPython.core.display.HTML object>"
      ]
     },
     "metadata": {},
     "output_type": "display_data"
    }
   ],
   "source": [
    "from lightgbm.sklearn import LGBMRanker"
   ]
  },
  {
   "cell_type": "code",
   "execution_count": 44,
   "id": "8c8fba08",
   "metadata": {
    "execution": {
     "iopub.execute_input": "2023-12-14T10:35:33.239977Z",
     "iopub.status.busy": "2023-12-14T10:35:33.239074Z",
     "iopub.status.idle": "2023-12-14T10:35:33.241773Z",
     "shell.execute_reply": "2023-12-14T10:35:33.241085Z",
     "shell.execute_reply.started": "2023-12-14T10:04:56.775072Z"
    },
    "papermill": {
     "duration": 0.093087,
     "end_time": "2023-12-14T10:35:33.241913",
     "exception": false,
     "start_time": "2023-12-14T10:35:33.148826",
     "status": "completed"
    },
    "tags": []
   },
   "outputs": [],
   "source": [
    "ranker = LGBMRanker(\n",
    "    objective=\"lambdarank\",\n",
    "    metric=\"ndcg\",\n",
    "    boosting_type=\"dart\",\n",
    "    n_estimators=1,\n",
    "    importance_type='gain',\n",
    "    verbose=10\n",
    ")"
   ]
  },
  {
   "cell_type": "code",
   "execution_count": 45,
   "id": "4ede17c7",
   "metadata": {
    "execution": {
     "iopub.execute_input": "2023-12-14T10:35:33.415054Z",
     "iopub.status.busy": "2023-12-14T10:35:33.414447Z",
     "iopub.status.idle": "2023-12-14T10:36:03.918092Z",
     "shell.execute_reply": "2023-12-14T10:36:03.917566Z",
     "shell.execute_reply.started": "2023-12-14T10:04:56.780668Z"
    },
    "papermill": {
     "duration": 30.594768,
     "end_time": "2023-12-14T10:36:03.918223",
     "exception": false,
     "start_time": "2023-12-14T10:35:33.323455",
     "status": "completed"
    },
    "tags": []
   },
   "outputs": [
    {
     "name": "stdout",
     "output_type": "stream",
     "text": [
      "[LightGBM] [Warning] Found whitespace in feature_names, replace with underlines\n",
      "[LightGBM] [Debug] Dataset::GetMultiBinFromAllFeatures: sparse rate 0.183885\n",
      "[LightGBM] [Debug] init for col-wise cost 0.000153 seconds, init for row-wise cost 4.781966 seconds\n",
      "[LightGBM] [Warning] Auto-choosing row-wise multi-threading, the overhead of testing was 1.658917 seconds.\n",
      "You can set `force_row_wise=true` to remove the overhead.\n",
      "And if memory is not enough, you can set `force_col_wise=true`.\n",
      "[LightGBM] [Debug] Using Dense Multi-Val Bin\n",
      "[LightGBM] [Info] Total Bins 1394\n",
      "[LightGBM] [Info] Number of data points in the train set: 30459632, number of used features: 22\n",
      "[LightGBM] [Debug] Trained a tree with leaves = 31 and depth = 9\n",
      "CPU times: user 1min 23s, sys: 5.81 s, total: 1min 28s\n",
      "Wall time: 30.5 s\n"
     ]
    }
   ],
   "source": [
    "%%time\n",
    "\n",
    "ranker = ranker.fit(\n",
    "    train_X,\n",
    "    train_y,\n",
    "    group = train_baskets,\n",
    ")"
   ]
  },
  {
   "cell_type": "code",
   "execution_count": 46,
   "id": "99ba08ac",
   "metadata": {
    "execution": {
     "iopub.execute_input": "2023-12-14T10:36:04.099195Z",
     "iopub.status.busy": "2023-12-14T10:36:04.098179Z",
     "iopub.status.idle": "2023-12-14T10:36:04.105178Z",
     "shell.execute_reply": "2023-12-14T10:36:04.104580Z",
     "shell.execute_reply.started": "2023-12-14T10:05:28.722979Z"
    },
    "papermill": {
     "duration": 0.102689,
     "end_time": "2023-12-14T10:36:04.105308",
     "exception": false,
     "start_time": "2023-12-14T10:36:04.002619",
     "status": "completed"
    },
    "tags": []
   },
   "outputs": [
    {
     "name": "stdout",
     "output_type": "stream",
     "text": [
      "bestseller_rank 0.5472737201482138\n",
      "article_id 0.33702542326123247\n",
      "department_no 0.03902659270110233\n",
      "perceived_colour_value_id 0.023077002999589397\n",
      "product_type_no 0.02127132409180601\n",
      "graphical_appearance_no 0.017805844784772366\n",
      "similarity with item 928206001 0.008813941427242702\n",
      "section_no 0.0057061505860408635\n",
      "fashion_news_frequency 0.0\n",
      "club_member_status 0.0\n",
      "Active 0.0\n",
      "FN 0.0\n",
      "numerical_article_gender 0.0\n",
      "index_group_no 0.0\n",
      "index_code 0.0\n",
      "mean price purchases 0.0\n",
      "perceived_colour_master_id 0.0\n",
      "most_present_gender_in_area 0.0\n",
      "colour_group_code 0.0\n",
      "median_age_area 0.0\n",
      "numerical_gender 0.0\n",
      "garment_group_no 0.0\n"
     ]
    }
   ],
   "source": [
    "for i in ranker.feature_importances_.argsort()[::-1]:\n",
    "    print(columns_to_use[i], ranker.feature_importances_[i]/ranker.feature_importances_.sum())"
   ]
  },
  {
   "cell_type": "markdown",
   "id": "fb127943",
   "metadata": {
    "papermill": {
     "duration": 0.084916,
     "end_time": "2023-12-14T10:36:04.278998",
     "exception": false,
     "start_time": "2023-12-14T10:36:04.194082",
     "status": "completed"
    },
    "tags": []
   },
   "source": [
    "# Calculate predictions"
   ]
  },
  {
   "cell_type": "code",
   "execution_count": 47,
   "id": "569b2f58",
   "metadata": {
    "execution": {
     "iopub.execute_input": "2023-12-14T10:36:04.456674Z",
     "iopub.status.busy": "2023-12-14T10:36:04.456042Z",
     "iopub.status.idle": "2023-12-14T10:36:26.134888Z",
     "shell.execute_reply": "2023-12-14T10:36:26.134178Z",
     "shell.execute_reply.started": "2023-12-14T10:05:28.738519Z"
    },
    "papermill": {
     "duration": 21.771306,
     "end_time": "2023-12-14T10:36:26.135041",
     "exception": false,
     "start_time": "2023-12-14T10:36:04.363735",
     "status": "completed"
    },
    "tags": []
   },
   "outputs": [
    {
     "name": "stdout",
     "output_type": "stream",
     "text": [
      "CPU times: user 3 µs, sys: 1e+03 ns, total: 4 µs\n",
      "Wall time: 8.34 µs\n"
     ]
    }
   ],
   "source": [
    "%time\n",
    "\n",
    "test['preds'] = ranker.predict(test_X)\n",
    "\n",
    "c_id2predicted_article_ids = test \\\n",
    "    .sort_values(['customer_id', 'preds'], ascending=False) \\\n",
    "    .groupby('customer_id')['article_id'].apply(list).to_dict()\n",
    "\n",
    "bestsellers_2020_all = \\\n",
    "    bestsellers_2020[bestsellers_2020.week == bestsellers_2020.week.max()]['article_id'].tolist()"
   ]
  },
  {
   "cell_type": "markdown",
   "id": "6b237652",
   "metadata": {
    "papermill": {
     "duration": 0.085166,
     "end_time": "2023-12-14T10:36:26.307647",
     "exception": false,
     "start_time": "2023-12-14T10:36:26.222481",
     "status": "completed"
    },
    "tags": []
   },
   "source": [
    "# Create submission"
   ]
  },
  {
   "cell_type": "code",
   "execution_count": 48,
   "id": "f138a25a",
   "metadata": {
    "execution": {
     "iopub.execute_input": "2023-12-14T10:36:26.481273Z",
     "iopub.status.busy": "2023-12-14T10:36:26.480649Z",
     "iopub.status.idle": "2023-12-14T10:36:30.908781Z",
     "shell.execute_reply": "2023-12-14T10:36:30.909315Z",
     "shell.execute_reply.started": "2023-12-14T10:05:50.015839Z"
    },
    "papermill": {
     "duration": 4.517406,
     "end_time": "2023-12-14T10:36:30.909541",
     "exception": false,
     "start_time": "2023-12-14T10:36:26.392135",
     "status": "completed"
    },
    "tags": []
   },
   "outputs": [],
   "source": [
    "sub = pd.read_csv('/kaggle/input/h-and-m-personalized-fashion-recommendations/sample_submission.csv')"
   ]
  },
  {
   "cell_type": "code",
   "execution_count": 49,
   "id": "55ecc411",
   "metadata": {
    "execution": {
     "iopub.execute_input": "2023-12-14T10:36:31.250191Z",
     "iopub.status.busy": "2023-12-14T10:36:31.249300Z",
     "iopub.status.idle": "2023-12-14T10:36:37.051279Z",
     "shell.execute_reply": "2023-12-14T10:36:37.050624Z",
     "shell.execute_reply.started": "2023-12-14T10:05:56.928880Z"
    },
    "papermill": {
     "duration": 6.056867,
     "end_time": "2023-12-14T10:36:37.051454",
     "exception": false,
     "start_time": "2023-12-14T10:36:30.994587",
     "status": "completed"
    },
    "tags": []
   },
   "outputs": [
    {
     "name": "stdout",
     "output_type": "stream",
     "text": [
      "CPU times: user 5.49 s, sys: 443 ms, total: 5.94 s\n",
      "Wall time: 5.93 s\n"
     ]
    }
   ],
   "source": [
    "%%time\n",
    "preds = []\n",
    "for c_id in customer_hex_id_to_int(sub.customer_id):\n",
    "    pred = c_id2predicted_article_ids.get(c_id, [])\n",
    "    pred = pred + bestsellers_2020_all\n",
    "    preds.append(pred[:50])"
   ]
  },
  {
   "cell_type": "code",
   "execution_count": 50,
   "id": "0702b829",
   "metadata": {
    "execution": {
     "iopub.execute_input": "2023-12-14T10:36:37.263091Z",
     "iopub.status.busy": "2023-12-14T10:36:37.237617Z",
     "iopub.status.idle": "2023-12-14T10:37:01.650642Z",
     "shell.execute_reply": "2023-12-14T10:37:01.650042Z",
     "shell.execute_reply.started": "2023-12-14T10:06:02.814747Z"
    },
    "papermill": {
     "duration": 24.510334,
     "end_time": "2023-12-14T10:37:01.650800",
     "exception": false,
     "start_time": "2023-12-14T10:36:37.140466",
     "status": "completed"
    },
    "tags": []
   },
   "outputs": [],
   "source": [
    "preds = [' '.join(['0' + str(p) for p in ps]) for ps in preds]\n",
    "sub.prediction = preds"
   ]
  },
  {
   "cell_type": "code",
   "execution_count": 51,
   "id": "93308d88",
   "metadata": {
    "execution": {
     "iopub.execute_input": "2023-12-14T10:37:01.858369Z",
     "iopub.status.busy": "2023-12-14T10:37:01.857665Z",
     "iopub.status.idle": "2023-12-14T10:37:34.948956Z",
     "shell.execute_reply": "2023-12-14T10:37:34.948431Z",
     "shell.execute_reply.started": "2023-12-14T10:06:25.667655Z"
    },
    "papermill": {
     "duration": 33.196015,
     "end_time": "2023-12-14T10:37:34.949106",
     "exception": false,
     "start_time": "2023-12-14T10:37:01.753091",
     "status": "completed"
    },
    "tags": []
   },
   "outputs": [],
   "source": [
    "sub_name = 'submission'\n",
    "sub.to_csv(f'{sub_name}.csv', index=False)"
   ]
  },
  {
   "cell_type": "markdown",
   "id": "a21d4621",
   "metadata": {
    "papermill": {
     "duration": 0.086166,
     "end_time": "2023-12-14T10:37:35.120307",
     "exception": false,
     "start_time": "2023-12-14T10:37:35.034141",
     "status": "completed"
    },
    "tags": []
   },
   "source": [
    "# Evaluation of the model V1"
   ]
  },
  {
   "cell_type": "code",
   "execution_count": 52,
   "id": "9672c5ab",
   "metadata": {
    "execution": {
     "iopub.execute_input": "2023-12-14T10:37:35.299799Z",
     "iopub.status.busy": "2023-12-14T10:37:35.298972Z",
     "iopub.status.idle": "2023-12-14T10:37:35.302401Z",
     "shell.execute_reply": "2023-12-14T10:37:35.301925Z",
     "shell.execute_reply.started": "2023-12-14T10:06:58.733071Z"
    },
    "papermill": {
     "duration": 0.093308,
     "end_time": "2023-12-14T10:37:35.302539",
     "exception": false,
     "start_time": "2023-12-14T10:37:35.209231",
     "status": "completed"
    },
    "tags": []
   },
   "outputs": [
    {
     "data": {
      "text/plain": [
       "Index(['t_dat', 'customer_id', 'article_id', 'price', 'sales_channel_id',\n",
       "       'week', 'purchased', 'bestseller_rank', 'image_number',\n",
       "       'similarity with item 928206001', 'mean price purchases',\n",
       "       'most_present_gender_in_area', 'median_age_area', 'product_code',\n",
       "       'prod_name', 'product_type_no', 'product_type_name',\n",
       "       'product_group_name', 'graphical_appearance_no',\n",
       "       'graphical_appearance_name', 'colour_group_code', 'colour_group_name',\n",
       "       'perceived_colour_value_id', 'perceived_colour_value_name',\n",
       "       'perceived_colour_master_id', 'perceived_colour_master_name',\n",
       "       'department_no', 'department_name', 'index_code', 'index_name',\n",
       "       'index_group_no', 'index_group_name', 'section_no', 'section_name',\n",
       "       'garment_group_no', 'garment_group_name', 'detail_desc',\n",
       "       'numerical_article_gender', 'FN', 'Active', 'club_member_status',\n",
       "       'fashion_news_frequency', 'age', 'postal_code', 'numerical_gender',\n",
       "       'preds'],\n",
       "      dtype='object')"
      ]
     },
     "execution_count": 52,
     "metadata": {},
     "output_type": "execute_result"
    }
   ],
   "source": [
    "test.columns"
   ]
  },
  {
   "cell_type": "code",
   "execution_count": 53,
   "id": "6e06559d",
   "metadata": {
    "execution": {
     "iopub.execute_input": "2023-12-14T10:37:35.478427Z",
     "iopub.status.busy": "2023-12-14T10:37:35.477813Z",
     "iopub.status.idle": "2023-12-14T10:41:18.179716Z",
     "shell.execute_reply": "2023-12-14T10:41:18.178946Z",
     "shell.execute_reply.started": "2023-12-14T10:06:58.740224Z"
    },
    "papermill": {
     "duration": 222.791628,
     "end_time": "2023-12-14T10:41:18.179920",
     "exception": false,
     "start_time": "2023-12-14T10:37:35.388292",
     "status": "completed"
    },
    "tags": []
   },
   "outputs": [],
   "source": [
    "clothes_purchased = []\n",
    "filtered_transactions = filtered_transactions.reset_index(drop = True)\n",
    "\n",
    "for index, purchase in enumerate(filtered_transactions['purchased']):\n",
    "    if purchase == 1:\n",
    "        clothes_purchased.append(filtered_transactions.at[index, 'article_id'])"
   ]
  },
  {
   "cell_type": "code",
   "execution_count": 54,
   "id": "9732c633",
   "metadata": {
    "execution": {
     "iopub.execute_input": "2023-12-14T10:41:18.368198Z",
     "iopub.status.busy": "2023-12-14T10:41:18.367481Z",
     "iopub.status.idle": "2023-12-14T10:41:18.370160Z",
     "shell.execute_reply": "2023-12-14T10:41:18.369695Z",
     "shell.execute_reply.started": "2023-12-14T10:10:40.387593Z"
    },
    "papermill": {
     "duration": 0.097312,
     "end_time": "2023-12-14T10:41:18.370282",
     "exception": false,
     "start_time": "2023-12-14T10:41:18.272970",
     "status": "completed"
    },
    "tags": []
   },
   "outputs": [],
   "source": [
    "#value of k to calculate precision, recall\n",
    "k_value = [10, 20, 50, 100]"
   ]
  },
  {
   "cell_type": "code",
   "execution_count": 55,
   "id": "17978865",
   "metadata": {
    "execution": {
     "iopub.execute_input": "2023-12-14T10:41:18.549438Z",
     "iopub.status.busy": "2023-12-14T10:41:18.547063Z",
     "iopub.status.idle": "2023-12-14T10:41:18.551405Z",
     "shell.execute_reply": "2023-12-14T10:41:18.551859Z",
     "shell.execute_reply.started": "2023-12-14T10:10:40.392668Z"
    },
    "papermill": {
     "duration": 0.093729,
     "end_time": "2023-12-14T10:41:18.552004",
     "exception": false,
     "start_time": "2023-12-14T10:41:18.458275",
     "status": "completed"
    },
    "tags": []
   },
   "outputs": [],
   "source": [
    "#precision at K \n",
    "def precision_at_k(clothes_purchased, preds, k):\n",
    "    predicted_at_k = preds[:k]\n",
    "    relevant_at_k = clothes_purchased and predicted_at_k\n",
    "    precision = len(relevant_at_k) / k\n",
    "    return precision\n",
    "\n",
    "\n",
    "#precision = precision_at_k(clothes_purchased, preds, k_value)\n",
    "#print(f'Precision at {k_value}: {precision}')"
   ]
  },
  {
   "cell_type": "code",
   "execution_count": 56,
   "id": "2eaaf060",
   "metadata": {
    "execution": {
     "iopub.execute_input": "2023-12-14T10:41:18.738014Z",
     "iopub.status.busy": "2023-12-14T10:41:18.737373Z",
     "iopub.status.idle": "2023-12-14T10:41:18.740152Z",
     "shell.execute_reply": "2023-12-14T10:41:18.739649Z",
     "shell.execute_reply.started": "2023-12-14T10:10:40.421537Z"
    },
    "papermill": {
     "duration": 0.099977,
     "end_time": "2023-12-14T10:41:18.740285",
     "exception": false,
     "start_time": "2023-12-14T10:41:18.640308",
     "status": "completed"
    },
    "tags": []
   },
   "outputs": [],
   "source": [
    "#recall at k\n",
    "def recall_at_k(clothes_purchased, preds, k):\n",
    "    predicted_at_k = preds[:k]\n",
    "    relevant_at_k = clothes_purchased and predicted_at_k\n",
    "    recall_at_k = len(relevant_at_k) / len(clothes_purchased)\n",
    "    return recall_at_k\n",
    "\n",
    "#recall = recall_at_k(clothes_purchased, preds, k_value)\n",
    "#print(f'Recall at {k_value}: {recall}')"
   ]
  },
  {
   "cell_type": "code",
   "execution_count": 57,
   "id": "89f38bb9",
   "metadata": {
    "execution": {
     "iopub.execute_input": "2023-12-14T10:41:18.920991Z",
     "iopub.status.busy": "2023-12-14T10:41:18.920244Z",
     "iopub.status.idle": "2023-12-14T10:41:18.924099Z",
     "shell.execute_reply": "2023-12-14T10:41:18.923556Z",
     "shell.execute_reply.started": "2023-12-14T10:10:40.433985Z"
    },
    "papermill": {
     "duration": 0.095362,
     "end_time": "2023-12-14T10:41:18.924225",
     "exception": false,
     "start_time": "2023-12-14T10:41:18.828863",
     "status": "completed"
    },
    "tags": []
   },
   "outputs": [
    {
     "name": "stdout",
     "output_type": "stream",
     "text": [
      "Precision at 10: 1.0000, Recall at 10: 0.0000009107\n",
      "Precision at 20: 1.0000, Recall at 20: 0.0000018215\n",
      "Precision at 50: 1.0000, Recall at 50: 0.0000045537\n",
      "Precision at 100: 1.0000, Recall at 100: 0.0000091074\n"
     ]
    }
   ],
   "source": [
    "precisions = []\n",
    "recalls = []\n",
    "\n",
    "for k in k_value:\n",
    "    precision = precision_at_k(clothes_purchased, preds, k)\n",
    "    recall = recall_at_k(clothes_purchased, preds, k)\n",
    "    precisions.append(precision)\n",
    "    recalls.append(recall)\n",
    "    print(f'Precision at {k}: {precision:.4f}, Recall at {k}: {recall:.10f}')"
   ]
  },
  {
   "cell_type": "code",
   "execution_count": 58,
   "id": "b70cce68",
   "metadata": {
    "execution": {
     "iopub.execute_input": "2023-12-14T10:41:19.245358Z",
     "iopub.status.busy": "2023-12-14T10:41:19.244730Z",
     "iopub.status.idle": "2023-12-14T10:41:19.556590Z",
     "shell.execute_reply": "2023-12-14T10:41:19.556104Z",
     "shell.execute_reply.started": "2023-12-14T10:10:40.448529Z"
    },
    "papermill": {
     "duration": 0.5454,
     "end_time": "2023-12-14T10:41:19.556724",
     "exception": false,
     "start_time": "2023-12-14T10:41:19.011324",
     "status": "completed"
    },
    "tags": []
   },
   "outputs": [
    {
     "data": {
      "image/png": "[encoded data removed]",
      "text/plain": [
       "<Figure size 432x288 with 1 Axes>"
      ]
     },
     "metadata": {
      "needs_background": "light"
     },
     "output_type": "display_data"
    }
   ],
   "source": [
    "#graph about recall\n",
    "\n",
    "plt.plot(k_value, recalls, label = 'Recall')\n",
    "plt.xlabel('K')\n",
    "plt.ylabel('Value')\n",
    "plt.title('Recall at K')\n",
    "plt.legend()\n",
    "plt.show()"
   ]
  },
  {
   "cell_type": "code",
   "execution_count": 59,
   "id": "3bd498ec",
   "metadata": {
    "execution": {
     "iopub.execute_input": "2023-12-14T10:41:19.776120Z",
     "iopub.status.busy": "2023-12-14T10:41:19.759854Z",
     "iopub.status.idle": "2023-12-14T10:41:19.875217Z",
     "shell.execute_reply": "2023-12-14T10:41:19.875735Z",
     "shell.execute_reply.started": "2023-12-14T10:10:41.016128Z"
    },
    "papermill": {
     "duration": 0.229421,
     "end_time": "2023-12-14T10:41:19.875900",
     "exception": false,
     "start_time": "2023-12-14T10:41:19.646479",
     "status": "completed"
    },
    "tags": []
   },
   "outputs": [
    {
     "data": {
      "image/png": "[encoded data removed]",
      "text/plain": [
       "<Figure size 432x288 with 1 Axes>"
      ]
     },
     "metadata": {
      "needs_background": "light"
     },
     "output_type": "display_data"
    }
   ],
   "source": [
    "#graph about precision\n",
    "\n",
    "plt.plot(k_value, precisions, label = 'Precision')\n",
    "plt.xlabel('K')\n",
    "plt.ylabel('Value')\n",
    "plt.title('Precision at K')\n",
    "plt.legend()\n",
    "plt.show()"
   ]
  },
  {
   "cell_type": "markdown",
   "id": "d547f150",
   "metadata": {
    "papermill": {
     "duration": 0.0902,
     "end_time": "2023-12-14T10:41:20.055236",
     "exception": false,
     "start_time": "2023-12-14T10:41:19.965036",
     "status": "completed"
    },
    "tags": []
   },
   "source": [
    "# Evaluation of the model V2"
   ]
  },
  {
   "cell_type": "code",
   "execution_count": 60,
   "id": "30d5f413",
   "metadata": {
    "execution": {
     "iopub.execute_input": "2023-12-14T10:41:20.237971Z",
     "iopub.status.busy": "2023-12-14T10:41:20.236437Z",
     "iopub.status.idle": "2023-12-14T10:42:17.448166Z",
     "shell.execute_reply": "2023-12-14T10:42:17.448721Z",
     "shell.execute_reply.started": "2023-12-14T10:10:41.218224Z"
    },
    "papermill": {
     "duration": 57.304553,
     "end_time": "2023-12-14T10:42:17.448905",
     "exception": false,
     "start_time": "2023-12-14T10:41:20.144352",
     "status": "completed"
    },
    "tags": []
   },
   "outputs": [
    {
     "name": "stdout",
     "output_type": "stream",
     "text": [
      "Collecting recmetrics\r\n",
      "  Downloading recmetrics-0.1.5-py3-none-any.whl (9.3 kB)\r\n",
      "Collecting pytest-cov<3.0.0,>=2.10.1\r\n",
      "  Downloading pytest_cov-2.12.1-py2.py3-none-any.whl (20 kB)\r\n",
      "Collecting plotly<5.0.0,>=4.11.0\r\n",
      "  Downloading plotly-4.14.3-py2.py3-none-any.whl (13.2 MB)\r\n",
      "     |████████████████████████████████| 13.2 MB 1.6 MB/s            \r\n",
      "\u001b[?25hCollecting scikit-learn<2.0.0,>=1.0.2\r\n",
      "  Downloading scikit_learn-1.0.2-cp37-cp37m-manylinux_2_17_x86_64.manylinux2014_x86_64.whl (24.8 MB)\r\n",
      "     |████████████████████████████████| 24.8 MB 48.2 MB/s            \r\n",
      "\u001b[?25hRequirement already satisfied: scipy<2.0.0,>=1.5.2 in /opt/conda/lib/python3.7/site-packages (from recmetrics) (1.7.3)\r\n",
      "Requirement already satisfied: seaborn<0.12.0,>=0.11.0 in /opt/conda/lib/python3.7/site-packages (from recmetrics) (0.11.2)\r\n",
      "Requirement already satisfied: matplotlib<4.0.0,>=3.3.2 in /opt/conda/lib/python3.7/site-packages (from recmetrics) (3.5.1)\r\n",
      "Requirement already satisfied: jupyter<2.0.0,>=1.0.0 in /opt/conda/lib/python3.7/site-packages (from recmetrics) (1.0.0)\r\n",
      "Collecting twine<5.0.0,>=4.0.0\r\n",
      "  Downloading twine-4.0.2-py3-none-any.whl (36 kB)\r\n",
      "Requirement already satisfied: ipython<8.0.0,>=7.18.1 in /opt/conda/lib/python3.7/site-packages (from recmetrics) (7.30.1)\r\n",
      "Collecting funcsigs<2.0.0,>=1.0.2\r\n",
      "  Downloading funcsigs-1.0.2-py2.py3-none-any.whl (17 kB)\r\n",
      "Requirement already satisfied: pandas<2.0.0,>=1.1.3 in /opt/conda/lib/python3.7/site-packages (from recmetrics) (1.3.5)\r\n",
      "Requirement already satisfied: pygments in /opt/conda/lib/python3.7/site-packages (from ipython<8.0.0,>=7.18.1->recmetrics) (2.10.0)\r\n",
      "Requirement already satisfied: pexpect>4.3 in /opt/conda/lib/python3.7/site-packages (from ipython<8.0.0,>=7.18.1->recmetrics) (4.8.0)\r\n",
      "Requirement already satisfied: pickleshare in /opt/conda/lib/python3.7/site-packages (from ipython<8.0.0,>=7.18.1->recmetrics) (0.7.5)\r\n",
      "Requirement already satisfied: backcall in /opt/conda/lib/python3.7/site-packages (from ipython<8.0.0,>=7.18.1->recmetrics) (0.2.0)\r\n",
      "Requirement already satisfied: traitlets>=4.2 in /opt/conda/lib/python3.7/site-packages (from ipython<8.0.0,>=7.18.1->recmetrics) (5.1.1)\r\n",
      "Requirement already satisfied: decorator in /opt/conda/lib/python3.7/site-packages (from ipython<8.0.0,>=7.18.1->recmetrics) (5.1.0)\r\n",
      "Requirement already satisfied: setuptools>=18.5 in /opt/conda/lib/python3.7/site-packages (from ipython<8.0.0,>=7.18.1->recmetrics) (59.5.0)\r\n",
      "Requirement already satisfied: prompt-toolkit!=3.0.0,!=3.0.1,<3.1.0,>=2.0.0 in /opt/conda/lib/python3.7/site-packages (from ipython<8.0.0,>=7.18.1->recmetrics) (3.0.24)\r\n",
      "Requirement already satisfied: jedi>=0.16 in /opt/conda/lib/python3.7/site-packages (from ipython<8.0.0,>=7.18.1->recmetrics) (0.18.1)\r\n",
      "Requirement already satisfied: matplotlib-inline in /opt/conda/lib/python3.7/site-packages (from ipython<8.0.0,>=7.18.1->recmetrics) (0.1.3)\r\n",
      "Requirement already satisfied: ipywidgets in /opt/conda/lib/python3.7/site-packages (from jupyter<2.0.0,>=1.0.0->recmetrics) (7.6.5)\r\n",
      "Requirement already satisfied: qtconsole in /opt/conda/lib/python3.7/site-packages (from jupyter<2.0.0,>=1.0.0->recmetrics) (5.2.2)\r\n",
      "Requirement already satisfied: jupyter-console in /opt/conda/lib/python3.7/site-packages (from jupyter<2.0.0,>=1.0.0->recmetrics) (6.4.0)\r\n",
      "Requirement already satisfied: nbconvert in /opt/conda/lib/python3.7/site-packages (from jupyter<2.0.0,>=1.0.0->recmetrics) (6.3.0)\r\n",
      "Requirement already satisfied: notebook in /opt/conda/lib/python3.7/site-packages (from jupyter<2.0.0,>=1.0.0->recmetrics) (6.4.6)\r\n",
      "Requirement already satisfied: ipykernel in /opt/conda/lib/python3.7/site-packages (from jupyter<2.0.0,>=1.0.0->recmetrics) (6.6.0)\r\n",
      "Requirement already satisfied: numpy>=1.17 in /opt/conda/lib/python3.7/site-packages (from matplotlib<4.0.0,>=3.3.2->recmetrics) (1.20.3)\r\n",
      "Requirement already satisfied: pyparsing>=2.2.1 in /opt/conda/lib/python3.7/site-packages (from matplotlib<4.0.0,>=3.3.2->recmetrics) (3.0.6)\r\n",
      "Requirement already satisfied: cycler>=0.10 in /opt/conda/lib/python3.7/site-packages (from matplotlib<4.0.0,>=3.3.2->recmetrics) (0.11.0)\r\n",
      "Requirement already satisfied: python-dateutil>=2.7 in /opt/conda/lib/python3.7/site-packages (from matplotlib<4.0.0,>=3.3.2->recmetrics) (2.8.2)\r\n",
      "Requirement already satisfied: fonttools>=4.22.0 in /opt/conda/lib/python3.7/site-packages (from matplotlib<4.0.0,>=3.3.2->recmetrics) (4.28.4)\r\n",
      "Requirement already satisfied: pillow>=6.2.0 in /opt/conda/lib/python3.7/site-packages (from matplotlib<4.0.0,>=3.3.2->recmetrics) (8.2.0)\r\n",
      "Requirement already satisfied: kiwisolver>=1.0.1 in /opt/conda/lib/python3.7/site-packages (from matplotlib<4.0.0,>=3.3.2->recmetrics) (1.3.2)\r\n",
      "Requirement already satisfied: packaging>=20.0 in /opt/conda/lib/python3.7/site-packages (from matplotlib<4.0.0,>=3.3.2->recmetrics) (21.3)\r\n",
      "Requirement already satisfied: pytz>=2017.3 in /opt/conda/lib/python3.7/site-packages (from pandas<2.0.0,>=1.1.3->recmetrics) (2021.3)\r\n",
      "Requirement already satisfied: six in /opt/conda/lib/python3.7/site-packages (from plotly<5.0.0,>=4.11.0->recmetrics) (1.16.0)\r\n",
      "Requirement already satisfied: retrying>=1.3.3 in /opt/conda/lib/python3.7/site-packages (from plotly<5.0.0,>=4.11.0->recmetrics) (1.3.3)\r\n",
      "Requirement already satisfied: toml in /opt/conda/lib/python3.7/site-packages (from pytest-cov<3.0.0,>=2.10.1->recmetrics) (0.10.2)\r\n",
      "Collecting coverage>=5.2.1\r\n",
      "  Downloading coverage-7.2.7-cp37-cp37m-manylinux_2_5_x86_64.manylinux1_x86_64.manylinux_2_17_x86_64.manylinux2014_x86_64.whl (225 kB)\r\n",
      "     |████████████████████████████████| 225 kB 64.4 MB/s            \r\n",
      "\u001b[?25hRequirement already satisfied: pytest>=4.6 in /opt/conda/lib/python3.7/site-packages (from pytest-cov<3.0.0,>=2.10.1->recmetrics) (7.1.0)\r\n",
      "Requirement already satisfied: threadpoolctl>=2.0.0 in /opt/conda/lib/python3.7/site-packages (from scikit-learn<2.0.0,>=1.0.2->recmetrics) (3.0.0)\r\n",
      "Requirement already satisfied: joblib>=0.11 in /opt/conda/lib/python3.7/site-packages (from scikit-learn<2.0.0,>=1.0.2->recmetrics) (1.1.0)\r\n",
      "Collecting requests-toolbelt!=0.9.0,>=0.8.0\r\n",
      "  Downloading requests_toolbelt-1.0.0-py2.py3-none-any.whl (54 kB)\r\n",
      "     |████████████████████████████████| 54 kB 2.6 MB/s             \r\n",
      "\u001b[?25hCollecting readme-renderer>=35.0\r\n",
      "  Downloading readme_renderer-37.3-py3-none-any.whl (14 kB)\r\n",
      "Requirement already satisfied: urllib3>=1.26.0 in /opt/conda/lib/python3.7/site-packages (from twine<5.0.0,>=4.0.0->recmetrics) (1.26.7)\r\n",
      "Requirement already satisfied: rich>=12.0.0 in /opt/conda/lib/python3.7/site-packages (from twine<5.0.0,>=4.0.0->recmetrics) (12.0.0)\r\n",
      "Requirement already satisfied: keyring>=15.1 in /opt/conda/lib/python3.7/site-packages (from twine<5.0.0,>=4.0.0->recmetrics) (23.4.0)\r\n",
      "Collecting rfc3986>=1.4.0\r\n",
      "  Downloading rfc3986-2.0.0-py2.py3-none-any.whl (31 kB)\r\n",
      "Collecting pkginfo>=1.8.1\r\n",
      "  Downloading pkginfo-1.9.6-py3-none-any.whl (30 kB)\r\n",
      "Requirement already satisfied: importlib-metadata>=3.6 in /opt/conda/lib/python3.7/site-packages (from twine<5.0.0,>=4.0.0->recmetrics) (4.11.3)\r\n",
      "Requirement already satisfied: requests>=2.20 in /opt/conda/lib/python3.7/site-packages (from twine<5.0.0,>=4.0.0->recmetrics) (2.26.0)\r\n",
      "Requirement already satisfied: zipp>=0.5 in /opt/conda/lib/python3.7/site-packages (from importlib-metadata>=3.6->twine<5.0.0,>=4.0.0->recmetrics) (3.6.0)\r\n",
      "Requirement already satisfied: typing-extensions>=3.6.4 in /opt/conda/lib/python3.7/site-packages (from importlib-metadata>=3.6->twine<5.0.0,>=4.0.0->recmetrics) (4.1.1)\r\n",
      "Requirement already satisfied: parso<0.9.0,>=0.8.0 in /opt/conda/lib/python3.7/site-packages (from jedi>=0.16->ipython<8.0.0,>=7.18.1->recmetrics) (0.8.3)\r\n",
      "Requirement already satisfied: jeepney>=0.4.2 in /opt/conda/lib/python3.7/site-packages (from keyring>=15.1->twine<5.0.0,>=4.0.0->recmetrics) (0.7.1)\r\n",
      "Requirement already satisfied: SecretStorage>=3.2 in /opt/conda/lib/python3.7/site-packages (from keyring>=15.1->twine<5.0.0,>=4.0.0->recmetrics) (3.3.1)\r\n",
      "Requirement already satisfied: ptyprocess>=0.5 in /opt/conda/lib/python3.7/site-packages (from pexpect>4.3->ipython<8.0.0,>=7.18.1->recmetrics) (0.7.0)\r\n",
      "Requirement already satisfied: wcwidth in /opt/conda/lib/python3.7/site-packages (from prompt-toolkit!=3.0.0,!=3.0.1,<3.1.0,>=2.0.0->ipython<8.0.0,>=7.18.1->recmetrics) (0.2.5)\r\n",
      "Requirement already satisfied: pluggy<2.0,>=0.12 in /opt/conda/lib/python3.7/site-packages (from pytest>=4.6->pytest-cov<3.0.0,>=2.10.1->recmetrics) (1.0.0)\r\n",
      "Requirement already satisfied: iniconfig in /opt/conda/lib/python3.7/site-packages (from pytest>=4.6->pytest-cov<3.0.0,>=2.10.1->recmetrics) (1.1.1)\r\n",
      "Requirement already satisfied: attrs>=19.2.0 in /opt/conda/lib/python3.7/site-packages (from pytest>=4.6->pytest-cov<3.0.0,>=2.10.1->recmetrics) (21.2.0)\r\n",
      "Requirement already satisfied: tomli>=1.0.0 in /opt/conda/lib/python3.7/site-packages (from pytest>=4.6->pytest-cov<3.0.0,>=2.10.1->recmetrics) (1.2.2)\r\n",
      "Requirement already satisfied: py>=1.8.2 in /opt/conda/lib/python3.7/site-packages (from pytest>=4.6->pytest-cov<3.0.0,>=2.10.1->recmetrics) (1.11.0)\r\n",
      "Requirement already satisfied: bleach>=2.1.0 in /opt/conda/lib/python3.7/site-packages (from readme-renderer>=35.0->twine<5.0.0,>=4.0.0->recmetrics) (4.1.0)\r\n",
      "Requirement already satisfied: docutils>=0.13.1 in /opt/conda/lib/python3.7/site-packages (from readme-renderer>=35.0->twine<5.0.0,>=4.0.0->recmetrics) (0.18.1)\r\n",
      "Requirement already satisfied: charset-normalizer~=2.0.0 in /opt/conda/lib/python3.7/site-packages (from requests>=2.20->twine<5.0.0,>=4.0.0->recmetrics) (2.0.9)\r\n",
      "Requirement already satisfied: idna<4,>=2.5 in /opt/conda/lib/python3.7/site-packages (from requests>=2.20->twine<5.0.0,>=4.0.0->recmetrics) (3.1)\r\n",
      "Requirement already satisfied: certifi>=2017.4.17 in /opt/conda/lib/python3.7/site-packages (from requests>=2.20->twine<5.0.0,>=4.0.0->recmetrics) (2021.10.8)\r\n",
      "Requirement already satisfied: commonmark<0.10.0,>=0.9.0 in /opt/conda/lib/python3.7/site-packages (from rich>=12.0.0->twine<5.0.0,>=4.0.0->recmetrics) (0.9.1)\r\n",
      "Requirement already satisfied: tornado<7.0,>=4.2 in /opt/conda/lib/python3.7/site-packages (from ipykernel->jupyter<2.0.0,>=1.0.0->recmetrics) (6.1)\r\n",
      "Requirement already satisfied: argcomplete>=1.12.3 in /opt/conda/lib/python3.7/site-packages (from ipykernel->jupyter<2.0.0,>=1.0.0->recmetrics) (1.12.3)\r\n",
      "Requirement already satisfied: jupyter-client<8.0 in /opt/conda/lib/python3.7/site-packages (from ipykernel->jupyter<2.0.0,>=1.0.0->recmetrics) (7.1.0)\r\n",
      "Requirement already satisfied: debugpy<2.0,>=1.0.0 in /opt/conda/lib/python3.7/site-packages (from ipykernel->jupyter<2.0.0,>=1.0.0->recmetrics) (1.5.1)\r\n",
      "Requirement already satisfied: widgetsnbextension~=3.5.0 in /opt/conda/lib/python3.7/site-packages (from ipywidgets->jupyter<2.0.0,>=1.0.0->recmetrics) (3.5.2)\r\n",
      "Requirement already satisfied: nbformat>=4.2.0 in /opt/conda/lib/python3.7/site-packages (from ipywidgets->jupyter<2.0.0,>=1.0.0->recmetrics) (5.1.3)\r\n",
      "Requirement already satisfied: jupyterlab-widgets>=1.0.0 in /opt/conda/lib/python3.7/site-packages (from ipywidgets->jupyter<2.0.0,>=1.0.0->recmetrics) (1.0.2)\r\n",
      "Requirement already satisfied: ipython-genutils~=0.2.0 in /opt/conda/lib/python3.7/site-packages (from ipywidgets->jupyter<2.0.0,>=1.0.0->recmetrics) (0.2.0)\r\n",
      "Requirement already satisfied: jupyterlab-pygments in /opt/conda/lib/python3.7/site-packages (from nbconvert->jupyter<2.0.0,>=1.0.0->recmetrics) (0.1.2)\r\n",
      "Requirement already satisfied: jinja2>=2.4 in /opt/conda/lib/python3.7/site-packages (from nbconvert->jupyter<2.0.0,>=1.0.0->recmetrics) (3.0.3)\r\n",
      "Requirement already satisfied: nbclient<0.6.0,>=0.5.0 in /opt/conda/lib/python3.7/site-packages (from nbconvert->jupyter<2.0.0,>=1.0.0->recmetrics) (0.5.9)\r\n",
      "Requirement already satisfied: mistune<2,>=0.8.1 in /opt/conda/lib/python3.7/site-packages (from nbconvert->jupyter<2.0.0,>=1.0.0->recmetrics) (0.8.4)\r\n",
      "Requirement already satisfied: testpath in /opt/conda/lib/python3.7/site-packages (from nbconvert->jupyter<2.0.0,>=1.0.0->recmetrics) (0.5.0)\r\n",
      "Requirement already satisfied: entrypoints>=0.2.2 in /opt/conda/lib/python3.7/site-packages (from nbconvert->jupyter<2.0.0,>=1.0.0->recmetrics) (0.3)\r\n",
      "Requirement already satisfied: defusedxml in /opt/conda/lib/python3.7/site-packages (from nbconvert->jupyter<2.0.0,>=1.0.0->recmetrics) (0.7.1)\r\n",
      "Requirement already satisfied: pandocfilters>=1.4.1 in /opt/conda/lib/python3.7/site-packages (from nbconvert->jupyter<2.0.0,>=1.0.0->recmetrics) (1.5.0)\r\n",
      "Requirement already satisfied: jupyter-core in /opt/conda/lib/python3.7/site-packages (from nbconvert->jupyter<2.0.0,>=1.0.0->recmetrics) (4.9.1)\r\n",
      "Requirement already satisfied: nest-asyncio>=1.5 in /opt/conda/lib/python3.7/site-packages (from notebook->jupyter<2.0.0,>=1.0.0->recmetrics) (1.5.4)\r\n",
      "Requirement already satisfied: terminado>=0.8.3 in /opt/conda/lib/python3.7/site-packages (from notebook->jupyter<2.0.0,>=1.0.0->recmetrics) (0.12.1)\r\n",
      "Requirement already satisfied: pyzmq>=17 in /opt/conda/lib/python3.7/site-packages (from notebook->jupyter<2.0.0,>=1.0.0->recmetrics) (22.3.0)\r\n",
      "Requirement already satisfied: prometheus-client in /opt/conda/lib/python3.7/site-packages (from notebook->jupyter<2.0.0,>=1.0.0->recmetrics) (0.12.0)\r\n",
      "Requirement already satisfied: argon2-cffi in /opt/conda/lib/python3.7/site-packages (from notebook->jupyter<2.0.0,>=1.0.0->recmetrics) (21.1.0)\r\n",
      "Requirement already satisfied: Send2Trash>=1.8.0 in /opt/conda/lib/python3.7/site-packages (from notebook->jupyter<2.0.0,>=1.0.0->recmetrics) (1.8.0)\r\n",
      "Requirement already satisfied: qtpy in /opt/conda/lib/python3.7/site-packages (from qtconsole->jupyter<2.0.0,>=1.0.0->recmetrics) (1.11.3)\r\n",
      "Requirement already satisfied: webencodings in /opt/conda/lib/python3.7/site-packages (from bleach>=2.1.0->readme-renderer>=35.0->twine<5.0.0,>=4.0.0->recmetrics) (0.5.1)\r\n",
      "Requirement already satisfied: MarkupSafe>=2.0 in /opt/conda/lib/python3.7/site-packages (from jinja2>=2.4->nbconvert->jupyter<2.0.0,>=1.0.0->recmetrics) (2.1.1)\r\n",
      "Requirement already satisfied: jsonschema!=2.5.0,>=2.4 in /opt/conda/lib/python3.7/site-packages (from nbformat>=4.2.0->ipywidgets->jupyter<2.0.0,>=1.0.0->recmetrics) (4.3.1)\r\n",
      "Requirement already satisfied: cryptography>=2.0 in /opt/conda/lib/python3.7/site-packages (from SecretStorage>=3.2->keyring>=15.1->twine<5.0.0,>=4.0.0->recmetrics) (36.0.1)\r\n",
      "Requirement already satisfied: cffi>=1.0.0 in /opt/conda/lib/python3.7/site-packages (from argon2-cffi->notebook->jupyter<2.0.0,>=1.0.0->recmetrics) (1.15.0)\r\n",
      "Requirement already satisfied: pycparser in /opt/conda/lib/python3.7/site-packages (from cffi>=1.0.0->argon2-cffi->notebook->jupyter<2.0.0,>=1.0.0->recmetrics) (2.21)\r\n",
      "Requirement already satisfied: pyrsistent!=0.17.0,!=0.17.1,!=0.17.2,>=0.14.0 in /opt/conda/lib/python3.7/site-packages (from jsonschema!=2.5.0,>=2.4->nbformat>=4.2.0->ipywidgets->jupyter<2.0.0,>=1.0.0->recmetrics) (0.18.0)\r\n",
      "Requirement already satisfied: importlib-resources>=1.4.0 in /opt/conda/lib/python3.7/site-packages (from jsonschema!=2.5.0,>=2.4->nbformat>=4.2.0->ipywidgets->jupyter<2.0.0,>=1.0.0->recmetrics) (5.4.0)\r\n",
      "Installing collected packages: rfc3986, requests-toolbelt, readme-renderer, pkginfo, coverage, twine, scikit-learn, pytest-cov, plotly, funcsigs, recmetrics\r\n",
      "  Attempting uninstall: scikit-learn\r\n",
      "    Found existing installation: scikit-learn 1.0.1\r\n",
      "    Uninstalling scikit-learn-1.0.1:\r\n",
      "      Successfully uninstalled scikit-learn-1.0.1\r\n",
      "  Attempting uninstall: plotly\r\n",
      "    Found existing installation: plotly 5.6.0\r\n",
      "    Uninstalling plotly-5.6.0:\r\n",
      "      Successfully uninstalled plotly-5.6.0\r\n",
      "\u001b[31mERROR: pip's dependency resolver does not currently take into account all the packages that are installed. This behaviour is the source of the following dependency conflicts.\r\n",
      "pdpbox 0.2.1 requires matplotlib==3.1.1, but you have matplotlib 3.5.1 which is incompatible.\r\n",
      "featuretools 1.6.0 requires numpy>=1.21.0, but you have numpy 1.20.3 which is incompatible.\u001b[0m\r\n",
      "Successfully installed coverage-7.2.7 funcsigs-1.0.2 pkginfo-1.9.6 plotly-4.14.3 pytest-cov-2.12.1 readme-renderer-37.3 recmetrics-0.1.5 requests-toolbelt-1.0.0 rfc3986-2.0.0 scikit-learn-1.0.2 twine-4.0.2\r\n",
      "\u001b[33mWARNING: Running pip as the 'root' user can result in broken permissions and conflicting behaviour with the system package manager. It is recommended to use a virtual environment instead: https://pip.pypa.io/warnings/venv\u001b[0m\r\n"
     ]
    }
   ],
   "source": [
    "!pip install recmetrics"
   ]
  },
  {
   "cell_type": "code",
   "execution_count": 61,
   "id": "181b774c",
   "metadata": {
    "execution": {
     "iopub.execute_input": "2023-12-14T10:42:17.715422Z",
     "iopub.status.busy": "2023-12-14T10:42:17.714229Z",
     "iopub.status.idle": "2023-12-14T10:43:11.992285Z",
     "shell.execute_reply": "2023-12-14T10:43:11.992788Z",
     "shell.execute_reply.started": "2023-12-14T10:11:58.222832Z"
    },
    "papermill": {
     "duration": 54.417875,
     "end_time": "2023-12-14T10:43:11.992947",
     "exception": false,
     "start_time": "2023-12-14T10:42:17.575072",
     "status": "completed"
    },
    "tags": []
   },
   "outputs": [
    {
     "name": "stdout",
     "output_type": "stream",
     "text": [
      "Value of precision: 0.038913636363636366\n",
      "Value of recall: 0.7492409090909091\n",
      "Value of MAR@K: 0.005801956664025629\n",
      "Value of personalization: 0.8639168308415421\n"
     ]
    }
   ],
   "source": [
    "#reference: https://github.com/statisticianinstilettos/recmetrics\n",
    "\n",
    "from recmetrics import metrics\n",
    "\n",
    "#precision\n",
    "recommender_precision = metrics.recommender_precision(predicted = preds, actual = test_X)\n",
    "print('Value of precision:', recommender_precision)\n",
    "\n",
    "#recall\n",
    "recommender_recall = metrics.recommender_recall(predicted = preds, actual = test_X)\n",
    "print('Value of recall:', recommender_recall)\n",
    "\n",
    "#MAP --> not working: isn't finding the function\n",
    "#recommender_mapk = metrics.mapk(predicted = preds, actual = test_X, k = 10)\n",
    "#print('Value of MAP@K:', recommender_mapk)\n",
    "\n",
    "#MARK\n",
    "reccomender_mark = metrics.mark(predicted = preds, actual = test_X, k = 100)\n",
    "print('Value of MAR@K:', reccomender_mark)\n",
    "\n",
    "#personalization --> reccomendation similarity across users: high = personalization are different and good; low = personalization are similar and not good\n",
    "personalization_score = metrics.personalization(predicted = preds[:20000])\n",
    "print('Value of personalization:', personalization_score)"
   ]
  }
 ],
 "metadata": {
  "kaggle": {
   "accelerator": "nvidiaTeslaT4",
   "dataSources": [
    {
     "databundleVersionId": 3103714,
     "sourceId": 31254,
     "sourceType": "competition"
    },
    {
     "datasetId": 3840849,
     "sourceId": 6655455,
     "sourceType": "datasetVersion"
    },
    {
     "datasetId": 3967857,
     "sourceId": 6908916,
     "sourceType": "datasetVersion"
    },
    {
     "datasetId": 4086917,
     "sourceId": 7091965,
     "sourceType": "datasetVersion"
    },
    {
     "sourceId": 93163345,
     "sourceType": "kernelVersion"
    }
   ],
   "dockerImageVersionId": 30178,
   "isGpuEnabled": true,
   "isInternetEnabled": true,
   "language": "python",
   "sourceType": "notebook"
  },
  "kernelspec": {
   "display_name": "Python 3 (ipykernel)",
   "language": "python",
   "name": "python3"
  },
  "language_info": {
   "codemirror_mode": {
    "name": "ipython",
    "version": 3
   },
   "file_extension": ".py",
   "mimetype": "text/x-python",
   "name": "python",
   "nbconvert_exporter": "python",
   "pygments_lexer": "ipython3",
   "version": "3.11.5"
  },
  "papermill": {
   "default_parameters": {},
   "duration": 1658.214772,
   "end_time": "2023-12-14T10:43:14.830952",
   "environment_variables": {},
   "exception": null,
   "input_path": "__notebook__.ipynb",
   "output_path": "__notebook__.ipynb",
   "parameters": {},
   "start_time": "2023-12-14T10:15:36.616180",
   "version": "2.3.3"
  }
 },
 "nbformat": 4,
 "nbformat_minor": 5
}
