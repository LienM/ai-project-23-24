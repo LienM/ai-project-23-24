{
 "cells": [
  {
   "cell_type": "markdown",
   "id": "04292b33",
   "metadata": {
    "papermill": {
     "duration": 0.073638,
     "end_time": "2023-12-14T15:38:08.152311",
     "exception": false,
     "start_time": "2023-12-14T15:38:08.078673",
     "status": "completed"
    },
    "tags": []
   },
   "source": [
    "Radek posted about this [here](https://www.kaggle.com/competitions/h-and-m-personalized-fashion-recommendations/discussion/309220), and linked to a GitHub repo with the code.\n",
    "\n",
    "I just transferred that code here to Kaggle notebooks, that's all."
   ]
  },
  {
   "cell_type": "code",
   "execution_count": 1,
   "id": "8f256ed2",
   "metadata": {
    "execution": {
     "iopub.execute_input": "2023-12-14T15:38:08.309963Z",
     "iopub.status.busy": "2023-12-14T15:38:08.309069Z",
     "iopub.status.idle": "2023-12-14T15:38:08.313288Z",
     "shell.execute_reply": "2023-12-14T15:38:08.313743Z",
     "shell.execute_reply.started": "2023-12-14T15:18:16.802242Z"
    },
    "papermill": {
     "duration": 0.089008,
     "end_time": "2023-12-14T15:38:08.313997",
     "exception": false,
     "start_time": "2023-12-14T15:38:08.224989",
     "status": "completed"
    },
    "tags": []
   },
   "outputs": [],
   "source": [
    "import numpy as np\n",
    "\n",
    "def apk(actual, predicted, k=10):\n",
    "    \"\"\"\n",
    "    Computes the average precision at k.\n",
    "\n",
    "    This function computes the average prescision at k between two lists of\n",
    "    items.\n",
    "\n",
    "    Parameters\n",
    "    ----------\n",
    "    actual : list\n",
    "             A list of elements that are to be predicted (order doesn't matter)\n",
    "    predicted : list\n",
    "                A list of predicted elements (order does matter)\n",
    "    k : int, optional\n",
    "        The maximum number of predicted elements\n",
    "\n",
    "    Returns\n",
    "    -------\n",
    "    score : double\n",
    "            The average precision at k over the input lists\n",
    "\n",
    "    \"\"\"\n",
    "    if len(predicted)>k:\n",
    "        predicted = predicted[:k]\n",
    "\n",
    "    score = 0.0\n",
    "    num_hits = 0.0\n",
    "\n",
    "    for i,p in enumerate(predicted):\n",
    "        if p in actual and p not in predicted[:i]:\n",
    "            num_hits += 1.0\n",
    "            score += num_hits / (i+1.0)\n",
    "\n",
    "    if not actual:\n",
    "        return 0.0\n",
    "\n",
    "    return score / min(len(actual), k)\n",
    "\n",
    "def mapk(actual, predicted, k=10):\n",
    "    \"\"\"\n",
    "    Computes the mean average precision at k.\n",
    "\n",
    "    This function computes the mean average prescision at k between two lists\n",
    "    of lists of items.\n",
    "\n",
    "    Parameters\n",
    "    ----------\n",
    "    actual : list\n",
    "             A list of lists of elements that are to be predicted \n",
    "             (order doesn't matter in the lists)\n",
    "    predicted : list\n",
    "                A list of lists of predicted elements\n",
    "                (order matters in the lists)\n",
    "    k : int, optional\n",
    "        The maximum number of predicted elements\n",
    "\n",
    "    Returns\n",
    "    -------\n",
    "    score : double\n",
    "            The mean average precision at k over the input lists\n",
    "\n",
    "    \"\"\"\n",
    "    return np.mean([apk(a,p,k) for a,p in zip(actual, predicted)])"
   ]
  },
  {
   "cell_type": "code",
   "execution_count": 2,
   "id": "f0fd353f",
   "metadata": {
    "execution": {
     "iopub.execute_input": "2023-12-14T15:38:08.466973Z",
     "iopub.status.busy": "2023-12-14T15:38:08.460623Z",
     "iopub.status.idle": "2023-12-14T15:38:09.527991Z",
     "shell.execute_reply": "2023-12-14T15:38:09.527402Z",
     "shell.execute_reply.started": "2023-12-14T15:18:16.819072Z"
    },
    "papermill": {
     "duration": 1.14442,
     "end_time": "2023-12-14T15:38:09.528133",
     "exception": false,
     "start_time": "2023-12-14T15:38:08.383713",
     "status": "completed"
    },
    "tags": []
   },
   "outputs": [],
   "source": [
    "from sklearn.base import BaseEstimator, TransformerMixin\n",
    "import numpy as np\n",
    "\n",
    "# https://www.kaggle.com/c/h-and-m-personalized-fashion-recommendations/discussion/308635\n",
    "def customer_hex_id_to_int(series):\n",
    "    return series.str[-16:].apply(hex_id_to_int)\n",
    "\n",
    "def hex_id_to_int(str):\n",
    "    return int(str[-16:], 16)\n",
    "\n",
    "def article_id_str_to_int(series):\n",
    "    return series.astype('int32')\n",
    "\n",
    "def article_id_int_to_str(series):\n",
    "    return '0' + series.astype('str')\n",
    "\n",
    "class Categorize(BaseEstimator, TransformerMixin):\n",
    "    def __init__(self, min_examples=0):\n",
    "        self.min_examples = min_examples\n",
    "        self.categories = []\n",
    "        \n",
    "    def fit(self, X):\n",
    "        for i in range(X.shape[1]):\n",
    "            vc = X.iloc[:, i].value_counts()\n",
    "            self.categories.append(vc[vc > self.min_examples].index.tolist())\n",
    "        return self\n",
    "\n",
    "    def transform(self, X):\n",
    "        data = {X.columns[i]: pd.Categorical(X.iloc[:, i], categories=self.categories[i]).codes for i in range(X.shape[1])}\n",
    "        return pd.DataFrame(data=data)\n",
    "\n",
    "\n",
    "def calculate_apk(list_of_preds, list_of_gts):\n",
    "    # for fast validation this can be changed to operate on dicts of {'cust_id_int': [art_id_int, ...]}\n",
    "    # using 'data/val_week_purchases_by_cust.pkl'\n",
    "    apks = []\n",
    "    for preds, gt in zip(list_of_preds, list_of_gts):\n",
    "        apks.append(apk(gt, preds, k=12))\n",
    "    return np.mean(apks)\n",
    "\n",
    "def eval_sub(sub_csv, skip_cust_with_no_purchases=True):\n",
    "    sub=pd.read_csv(sub_csv)\n",
    "    validation_set=pd.read_parquet('data/validation_ground_truth.parquet')\n",
    "\n",
    "    apks = []\n",
    "\n",
    "    no_purchases_pattern = []\n",
    "    for pred, gt in zip(sub.prediction.str.split(), validation_set.prediction.str.split()):\n",
    "        if skip_cust_with_no_purchases and (gt == no_purchases_pattern): continue\n",
    "        apks.append(apk(gt, pred, k=12))\n",
    "    return np.mean(apks)"
   ]
  },
  {
   "cell_type": "code",
   "execution_count": 3,
   "id": "fe547912",
   "metadata": {
    "execution": {
     "iopub.execute_input": "2023-12-14T15:38:09.674186Z",
     "iopub.status.busy": "2023-12-14T15:38:09.673583Z",
     "iopub.status.idle": "2023-12-14T15:38:09.676146Z",
     "shell.execute_reply": "2023-12-14T15:38:09.675697Z",
     "shell.execute_reply.started": "2023-12-14T15:18:17.299128Z"
    },
    "papermill": {
     "duration": 0.076847,
     "end_time": "2023-12-14T15:38:09.676285",
     "exception": false,
     "start_time": "2023-12-14T15:38:09.599438",
     "status": "completed"
    },
    "tags": []
   },
   "outputs": [],
   "source": [
    "import pandas as pd\n",
    "import matplotlib.pyplot as plt"
   ]
  },
  {
   "cell_type": "code",
   "execution_count": 4,
   "id": "e6103c5e",
   "metadata": {
    "execution": {
     "iopub.execute_input": "2023-12-14T15:38:09.822387Z",
     "iopub.status.busy": "2023-12-14T15:38:09.821737Z",
     "iopub.status.idle": "2023-12-14T15:38:15.898146Z",
     "shell.execute_reply": "2023-12-14T15:38:15.898839Z",
     "shell.execute_reply.started": "2023-12-14T15:18:17.307510Z"
    },
    "papermill": {
     "duration": 6.151879,
     "end_time": "2023-12-14T15:38:15.899023",
     "exception": false,
     "start_time": "2023-12-14T15:38:09.747144",
     "status": "completed"
    },
    "tags": []
   },
   "outputs": [
    {
     "name": "stdout",
     "output_type": "stream",
     "text": [
      "CPU times: user 3.17 s, sys: 1.81 s, total: 4.98 s\n",
      "Wall time: 6.07 s\n"
     ]
    }
   ],
   "source": [
    "%%time\n",
    "\n",
    "transactions = pd.read_parquet('../input/warmup/transactions_train.parquet')\n",
    "customers = pd.read_parquet('../input/parquet-new-assignement/new_customer_one.parquet')\n",
    "articles = pd.read_parquet('../input/parquet-new-assignement/new_articles_one.parquet')\n",
    "\n",
    "# sample = 0.05\n",
    "# transactions = pd.read_parquet(f'data/transactions_train_sample_{sample}.parquet')\n",
    "# customers = pd.read_parquet(f'data/customers_sample_{sample}.parquet')\n",
    "# articles = pd.read_parquet(f'data/articles_train_sample_{sample}.parquet')"
   ]
  },
  {
   "cell_type": "code",
   "execution_count": 5,
   "id": "471a7614",
   "metadata": {
    "execution": {
     "iopub.execute_input": "2023-12-14T15:38:16.082756Z",
     "iopub.status.busy": "2023-12-14T15:38:16.059956Z",
     "iopub.status.idle": "2023-12-14T15:38:18.271184Z",
     "shell.execute_reply": "2023-12-14T15:38:18.270516Z",
     "shell.execute_reply.started": "2023-12-14T15:18:19.823716Z"
    },
    "papermill": {
     "duration": 2.296569,
     "end_time": "2023-12-14T15:38:18.271337",
     "exception": false,
     "start_time": "2023-12-14T15:38:15.974768",
     "status": "completed"
    },
    "tags": []
   },
   "outputs": [],
   "source": [
    "#adding of the column week to the dataframe transactions\n",
    "transactions.t_dat = pd.to_datetime(transactions.t_dat, format='%Y-%m-%d')\n",
    "transactions['week'] = 104 - (transactions.t_dat.max() - transactions.t_dat).dt.days // 7"
   ]
  },
  {
   "cell_type": "code",
   "execution_count": 6,
   "id": "22473c98",
   "metadata": {
    "execution": {
     "iopub.execute_input": "2023-12-14T15:38:18.422018Z",
     "iopub.status.busy": "2023-12-14T15:38:18.421088Z",
     "iopub.status.idle": "2023-12-14T15:38:18.454363Z",
     "shell.execute_reply": "2023-12-14T15:38:18.453877Z",
     "shell.execute_reply.started": "2023-12-14T15:18:22.008929Z"
    },
    "papermill": {
     "duration": 0.109876,
     "end_time": "2023-12-14T15:38:18.454499",
     "exception": false,
     "start_time": "2023-12-14T15:38:18.344623",
     "status": "completed"
    },
    "tags": []
   },
   "outputs": [],
   "source": [
    "#definition of the week for test\n",
    "test_week = transactions.week.max() + 1 \n",
    "#transactions = transactions[transactions.week > transactions.week.max() - 10]"
   ]
  },
  {
   "cell_type": "markdown",
   "id": "7367d60c",
   "metadata": {
    "papermill": {
     "duration": 0.07555,
     "end_time": "2023-12-14T15:38:18.602299",
     "exception": false,
     "start_time": "2023-12-14T15:38:18.526749",
     "status": "completed"
    },
    "tags": []
   },
   "source": [
    "# Generating candidates"
   ]
  },
  {
   "cell_type": "markdown",
   "id": "25acb3a4",
   "metadata": {
    "papermill": {
     "duration": 0.071507,
     "end_time": "2023-12-14T15:38:18.747668",
     "exception": false,
     "start_time": "2023-12-14T15:38:18.676161",
     "status": "completed"
    },
    "tags": []
   },
   "source": [
    "### Last purchase candidates"
   ]
  },
  {
   "cell_type": "code",
   "execution_count": 7,
   "id": "fe6799bb",
   "metadata": {
    "execution": {
     "iopub.execute_input": "2023-12-14T15:38:18.902728Z",
     "iopub.status.busy": "2023-12-14T15:38:18.902050Z",
     "iopub.status.idle": "2023-12-14T15:39:10.188781Z",
     "shell.execute_reply": "2023-12-14T15:39:10.188161Z",
     "shell.execute_reply.started": "2023-12-14T15:18:22.043765Z"
    },
    "papermill": {
     "duration": 51.368182,
     "end_time": "2023-12-14T15:39:10.188939",
     "exception": false,
     "start_time": "2023-12-14T15:38:18.820757",
     "status": "completed"
    },
    "tags": []
   },
   "outputs": [],
   "source": [
    "#filtering only the weeks of the months of june/september 2020\n",
    "filtered_transactions = transactions[(transactions['t_dat'].dt.month >= 6)\n",
    "                                     & (transactions['t_dat'].dt.month <= 9)\n",
    "                                     & (transactions['t_dat'].dt.year == 2020)]\n",
    "\n",
    "#groupby of candidates based on the customer_id and extraction of weeks\n",
    "c2weeks = filtered_transactions.groupby('customer_id')['week'].unique()\n",
    "\n",
    "#creation of a dictionary for shifted weeks\n",
    "c2weeks2shifted_weeks = {}\n",
    "candidates_last_purchase_2020 = filtered_transactions.copy()\n",
    "\n",
    "for c_id, weeks in c2weeks.items():\n",
    "    c2weeks2shifted_weeks[c_id] = {}\n",
    "    for i in range(weeks.shape[0]-1):\n",
    "        c2weeks2shifted_weeks[c_id][weeks[i]] = weeks[i+1]\n",
    "    c2weeks2shifted_weeks[c_id][weeks[-1]] = test_week\n",
    "\n",
    "#update of the dataframe candidates_last_purchase_2020\n",
    "weeks = []\n",
    "for i, (c_id, week) in enumerate(zip(filtered_transactions['customer_id'], filtered_transactions['week'])):\n",
    "    weeks.append(c2weeks2shifted_weeks[c_id][week])\n",
    "    \n",
    "candidates_last_purchase_2020.week = weeks"
   ]
  },
  {
   "cell_type": "markdown",
   "id": "f2f993d2",
   "metadata": {
    "papermill": {
     "duration": 0.071553,
     "end_time": "2023-12-14T15:39:10.332574",
     "exception": false,
     "start_time": "2023-12-14T15:39:10.261021",
     "status": "completed"
    },
    "tags": []
   },
   "source": [
    "### candidates"
   ]
  },
  {
   "cell_type": "code",
   "execution_count": 8,
   "id": "f9cd4783",
   "metadata": {
    "execution": {
     "iopub.execute_input": "2023-12-14T15:39:10.478478Z",
     "iopub.status.busy": "2023-12-14T15:39:10.477557Z",
     "iopub.status.idle": "2023-12-14T15:39:10.920982Z",
     "shell.execute_reply": "2023-12-14T15:39:10.921541Z",
     "shell.execute_reply.started": "2023-12-14T15:19:13.602668Z"
    },
    "papermill": {
     "duration": 0.518755,
     "end_time": "2023-12-14T15:39:10.921715",
     "exception": false,
     "start_time": "2023-12-14T15:39:10.402960",
     "status": "completed"
    },
    "tags": []
   },
   "outputs": [
    {
     "data": {
      "text/html": [
       "<div>\n",
       "<style scoped>\n",
       "    .dataframe tbody tr th:only-of-type {\n",
       "        vertical-align: middle;\n",
       "    }\n",
       "\n",
       "    .dataframe tbody tr th {\n",
       "        vertical-align: top;\n",
       "    }\n",
       "\n",
       "    .dataframe thead th {\n",
       "        text-align: right;\n",
       "    }\n",
       "</style>\n",
       "<table border=\"1\" class=\"dataframe\">\n",
       "  <thead>\n",
       "    <tr style=\"text-align: right;\">\n",
       "      <th></th>\n",
       "      <th>customer_id</th>\n",
       "      <th>mean price purchases</th>\n",
       "    </tr>\n",
       "  </thead>\n",
       "  <tbody>\n",
       "    <tr>\n",
       "      <th>0</th>\n",
       "      <td>28847241659200</td>\n",
       "      <td>0.036918</td>\n",
       "    </tr>\n",
       "    <tr>\n",
       "      <th>1</th>\n",
       "      <td>41318098387474</td>\n",
       "      <td>0.027525</td>\n",
       "    </tr>\n",
       "    <tr>\n",
       "      <th>2</th>\n",
       "      <td>77117344919861</td>\n",
       "      <td>0.020068</td>\n",
       "    </tr>\n",
       "    <tr>\n",
       "      <th>3</th>\n",
       "      <td>116809474287335</td>\n",
       "      <td>0.029644</td>\n",
       "    </tr>\n",
       "    <tr>\n",
       "      <th>4</th>\n",
       "      <td>200292573348128</td>\n",
       "      <td>0.031618</td>\n",
       "    </tr>\n",
       "    <tr>\n",
       "      <th>...</th>\n",
       "      <td>...</td>\n",
       "      <td>...</td>\n",
       "    </tr>\n",
       "    <tr>\n",
       "      <th>598997</th>\n",
       "      <td>18446624797007271432</td>\n",
       "      <td>0.013119</td>\n",
       "    </tr>\n",
       "    <tr>\n",
       "      <th>598998</th>\n",
       "      <td>18446630855572834764</td>\n",
       "      <td>0.061000</td>\n",
       "    </tr>\n",
       "    <tr>\n",
       "      <th>598999</th>\n",
       "      <td>18446662237889060501</td>\n",
       "      <td>0.033881</td>\n",
       "    </tr>\n",
       "    <tr>\n",
       "      <th>599000</th>\n",
       "      <td>18446705133201055310</td>\n",
       "      <td>0.050831</td>\n",
       "    </tr>\n",
       "    <tr>\n",
       "      <th>599001</th>\n",
       "      <td>18446737527580148316</td>\n",
       "      <td>0.023712</td>\n",
       "    </tr>\n",
       "  </tbody>\n",
       "</table>\n",
       "<p>599002 rows × 2 columns</p>\n",
       "</div>"
      ],
      "text/plain": [
       "                 customer_id  mean price purchases\n",
       "0             28847241659200              0.036918\n",
       "1             41318098387474              0.027525\n",
       "2             77117344919861              0.020068\n",
       "3            116809474287335              0.029644\n",
       "4            200292573348128              0.031618\n",
       "...                      ...                   ...\n",
       "598997  18446624797007271432              0.013119\n",
       "598998  18446630855572834764              0.061000\n",
       "598999  18446662237889060501              0.033881\n",
       "599000  18446705133201055310              0.050831\n",
       "599001  18446737527580148316              0.023712\n",
       "\n",
       "[599002 rows x 2 columns]"
      ]
     },
     "execution_count": 8,
     "metadata": {},
     "output_type": "execute_result"
    }
   ],
   "source": [
    "#creation of the mean price of purchases for each candidate only in the filtered transactions\n",
    "mean_price_purchases = filtered_transactions.groupby('customer_id')['price'].mean().rename('mean price purchases').reset_index()\n",
    "mean_price_purchases"
   ]
  },
  {
   "cell_type": "code",
   "execution_count": 9,
   "id": "124be91a",
   "metadata": {
    "execution": {
     "iopub.execute_input": "2023-12-14T15:39:11.072926Z",
     "iopub.status.busy": "2023-12-14T15:39:11.072332Z",
     "iopub.status.idle": "2023-12-14T15:39:12.845805Z",
     "shell.execute_reply": "2023-12-14T15:39:12.845273Z",
     "shell.execute_reply.started": "2023-12-14T15:19:14.077294Z"
    },
    "papermill": {
     "duration": 1.85228,
     "end_time": "2023-12-14T15:39:12.845932",
     "exception": false,
     "start_time": "2023-12-14T15:39:10.993652",
     "status": "completed"
    },
    "tags": []
   },
   "outputs": [
    {
     "data": {
      "text/html": [
       "<div>\n",
       "<style scoped>\n",
       "    .dataframe tbody tr th:only-of-type {\n",
       "        vertical-align: middle;\n",
       "    }\n",
       "\n",
       "    .dataframe tbody tr th {\n",
       "        vertical-align: top;\n",
       "    }\n",
       "\n",
       "    .dataframe thead th {\n",
       "        text-align: right;\n",
       "    }\n",
       "</style>\n",
       "<table border=\"1\" class=\"dataframe\">\n",
       "  <thead>\n",
       "    <tr style=\"text-align: right;\">\n",
       "      <th></th>\n",
       "      <th>customer_id</th>\n",
       "      <th>most_present_gender_in_area</th>\n",
       "    </tr>\n",
       "  </thead>\n",
       "  <tbody>\n",
       "    <tr>\n",
       "      <th>0</th>\n",
       "      <td>4245900472157</td>\n",
       "      <td>2</td>\n",
       "    </tr>\n",
       "    <tr>\n",
       "      <th>1</th>\n",
       "      <td>23962613628581</td>\n",
       "      <td>0</td>\n",
       "    </tr>\n",
       "    <tr>\n",
       "      <th>2</th>\n",
       "      <td>25398598941468</td>\n",
       "      <td>2</td>\n",
       "    </tr>\n",
       "    <tr>\n",
       "      <th>3</th>\n",
       "      <td>28847241659200</td>\n",
       "      <td>2</td>\n",
       "    </tr>\n",
       "    <tr>\n",
       "      <th>4</th>\n",
       "      <td>41046458195168</td>\n",
       "      <td>2</td>\n",
       "    </tr>\n",
       "    <tr>\n",
       "      <th>...</th>\n",
       "      <td>...</td>\n",
       "      <td>...</td>\n",
       "    </tr>\n",
       "    <tr>\n",
       "      <th>1371975</th>\n",
       "      <td>18446630855572834764</td>\n",
       "      <td>0</td>\n",
       "    </tr>\n",
       "    <tr>\n",
       "      <th>1371976</th>\n",
       "      <td>18446662237889060501</td>\n",
       "      <td>2</td>\n",
       "    </tr>\n",
       "    <tr>\n",
       "      <th>1371977</th>\n",
       "      <td>18446705133201055310</td>\n",
       "      <td>0</td>\n",
       "    </tr>\n",
       "    <tr>\n",
       "      <th>1371978</th>\n",
       "      <td>18446723086055369602</td>\n",
       "      <td>2</td>\n",
       "    </tr>\n",
       "    <tr>\n",
       "      <th>1371979</th>\n",
       "      <td>18446737527580148316</td>\n",
       "      <td>1</td>\n",
       "    </tr>\n",
       "  </tbody>\n",
       "</table>\n",
       "<p>1371980 rows × 2 columns</p>\n",
       "</div>"
      ],
      "text/plain": [
       "                  customer_id  most_present_gender_in_area\n",
       "0               4245900472157                            2\n",
       "1              23962613628581                            0\n",
       "2              25398598941468                            2\n",
       "3              28847241659200                            2\n",
       "4              41046458195168                            2\n",
       "...                       ...                          ...\n",
       "1371975  18446630855572834764                            0\n",
       "1371976  18446662237889060501                            2\n",
       "1371977  18446705133201055310                            0\n",
       "1371978  18446723086055369602                            2\n",
       "1371979  18446737527580148316                            1\n",
       "\n",
       "[1371980 rows x 2 columns]"
      ]
     },
     "execution_count": 9,
     "metadata": {},
     "output_type": "execute_result"
    }
   ],
   "source": [
    "#identification of the gender group that is the most present in a specific geographic area\n",
    "most_present_gender = customers.groupby(['customer_id', 'postal_code', 'numerical_gender']).size().reset_index(name='count')\n",
    "idx = most_present_gender.groupby(['customer_id', 'postal_code'])['count'].transform(max) == most_present_gender['count']\n",
    "most_present_gender = most_present_gender[idx][['customer_id', 'postal_code', 'numerical_gender']]\n",
    "most_present_gender = most_present_gender.rename(columns = {'numerical_gender': 'most_present_gender_in_area'})\n",
    "most_present_gender.drop(columns = 'postal_code', inplace = True)\n",
    "most_present_gender"
   ]
  },
  {
   "cell_type": "code",
   "execution_count": 10,
   "id": "cf019015",
   "metadata": {
    "execution": {
     "iopub.execute_input": "2023-12-14T15:39:12.995811Z",
     "iopub.status.busy": "2023-12-14T15:39:12.995215Z",
     "iopub.status.idle": "2023-12-14T15:39:14.079908Z",
     "shell.execute_reply": "2023-12-14T15:39:14.079246Z",
     "shell.execute_reply.started": "2023-12-14T15:19:15.829871Z"
    },
    "papermill": {
     "duration": 1.161993,
     "end_time": "2023-12-14T15:39:14.080056",
     "exception": false,
     "start_time": "2023-12-14T15:39:12.918063",
     "status": "completed"
    },
    "tags": []
   },
   "outputs": [
    {
     "data": {
      "text/html": [
       "<div>\n",
       "<style scoped>\n",
       "    .dataframe tbody tr th:only-of-type {\n",
       "        vertical-align: middle;\n",
       "    }\n",
       "\n",
       "    .dataframe tbody tr th {\n",
       "        vertical-align: top;\n",
       "    }\n",
       "\n",
       "    .dataframe thead th {\n",
       "        text-align: right;\n",
       "    }\n",
       "</style>\n",
       "<table border=\"1\" class=\"dataframe\">\n",
       "  <thead>\n",
       "    <tr style=\"text-align: right;\">\n",
       "      <th></th>\n",
       "      <th>customer_id</th>\n",
       "      <th>median_age_area</th>\n",
       "    </tr>\n",
       "  </thead>\n",
       "  <tbody>\n",
       "    <tr>\n",
       "      <th>0</th>\n",
       "      <td>4245900472157</td>\n",
       "      <td>21.0</td>\n",
       "    </tr>\n",
       "    <tr>\n",
       "      <th>1</th>\n",
       "      <td>23962613628581</td>\n",
       "      <td>34.0</td>\n",
       "    </tr>\n",
       "    <tr>\n",
       "      <th>2</th>\n",
       "      <td>25398598941468</td>\n",
       "      <td>21.0</td>\n",
       "    </tr>\n",
       "    <tr>\n",
       "      <th>3</th>\n",
       "      <td>28847241659200</td>\n",
       "      <td>21.0</td>\n",
       "    </tr>\n",
       "    <tr>\n",
       "      <th>4</th>\n",
       "      <td>41046458195168</td>\n",
       "      <td>18.0</td>\n",
       "    </tr>\n",
       "    <tr>\n",
       "      <th>...</th>\n",
       "      <td>...</td>\n",
       "      <td>...</td>\n",
       "    </tr>\n",
       "    <tr>\n",
       "      <th>1371975</th>\n",
       "      <td>18446630855572834764</td>\n",
       "      <td>33.0</td>\n",
       "    </tr>\n",
       "    <tr>\n",
       "      <th>1371976</th>\n",
       "      <td>18446662237889060501</td>\n",
       "      <td>75.0</td>\n",
       "    </tr>\n",
       "    <tr>\n",
       "      <th>1371977</th>\n",
       "      <td>18446705133201055310</td>\n",
       "      <td>60.0</td>\n",
       "    </tr>\n",
       "    <tr>\n",
       "      <th>1371978</th>\n",
       "      <td>18446723086055369602</td>\n",
       "      <td>33.0</td>\n",
       "    </tr>\n",
       "    <tr>\n",
       "      <th>1371979</th>\n",
       "      <td>18446737527580148316</td>\n",
       "      <td>60.0</td>\n",
       "    </tr>\n",
       "  </tbody>\n",
       "</table>\n",
       "<p>1371980 rows × 2 columns</p>\n",
       "</div>"
      ],
      "text/plain": [
       "                  customer_id  median_age_area\n",
       "0               4245900472157             21.0\n",
       "1              23962613628581             34.0\n",
       "2              25398598941468             21.0\n",
       "3              28847241659200             21.0\n",
       "4              41046458195168             18.0\n",
       "...                       ...              ...\n",
       "1371975  18446630855572834764             33.0\n",
       "1371976  18446662237889060501             75.0\n",
       "1371977  18446705133201055310             60.0\n",
       "1371978  18446723086055369602             33.0\n",
       "1371979  18446737527580148316             60.0\n",
       "\n",
       "[1371980 rows x 2 columns]"
      ]
     },
     "execution_count": 10,
     "metadata": {},
     "output_type": "execute_result"
    }
   ],
   "source": [
    "#identification of the medium age for geographic area\n",
    "median_age = customers.groupby(['customer_id', 'postal_code'])['age'].median().reset_index(name = 'median_age_area')\n",
    "median_age.drop(columns = 'postal_code', inplace = True)\n",
    "median_age"
   ]
  },
  {
   "cell_type": "code",
   "execution_count": 11,
   "id": "f435d016",
   "metadata": {
    "execution": {
     "iopub.execute_input": "2023-12-14T15:39:14.230738Z",
     "iopub.status.busy": "2023-12-14T15:39:14.230118Z",
     "iopub.status.idle": "2023-12-14T15:39:17.058029Z",
     "shell.execute_reply": "2023-12-14T15:39:17.057426Z",
     "shell.execute_reply.started": "2023-12-14T15:19:16.990793Z"
    },
    "papermill": {
     "duration": 2.90488,
     "end_time": "2023-12-14T15:39:17.058164",
     "exception": false,
     "start_time": "2023-12-14T15:39:14.153284",
     "status": "completed"
    },
    "tags": []
   },
   "outputs": [
    {
     "data": {
      "text/plain": [
       "Index(['t_dat', 'customer_id', 'article_id', 'price', 'sales_channel_id',\n",
       "       'week', 'mean price purchases', 'most_present_gender_in_area',\n",
       "       'median_age_area'],\n",
       "      dtype='object')"
      ]
     },
     "execution_count": 11,
     "metadata": {},
     "output_type": "execute_result"
    }
   ],
   "source": [
    "candidates_definitive = pd.merge(candidates_last_purchase_2020, mean_price_purchases, on = 'customer_id') #merge of values of mean fo the purchases\n",
    "candidates_definitive = pd.merge(candidates_definitive, most_present_gender, on = 'customer_id') #merge of values of the dominant gender in teh geographic area of the customer\n",
    "candidates_definitive = pd.merge(candidates_definitive, median_age, on = 'customer_id') #merge of values of the dominant gender in teh geographic area of the customer\n",
    "\n",
    "candidates_definitive.columns"
   ]
  },
  {
   "cell_type": "code",
   "execution_count": 12,
   "id": "ac995da1",
   "metadata": {
    "execution": {
     "iopub.execute_input": "2023-12-14T15:39:17.214198Z",
     "iopub.status.busy": "2023-12-14T15:39:17.213505Z",
     "iopub.status.idle": "2023-12-14T15:39:17.492223Z",
     "shell.execute_reply": "2023-12-14T15:39:17.492697Z",
     "shell.execute_reply.started": "2023-12-14T15:19:19.829892Z"
    },
    "papermill": {
     "duration": 0.360141,
     "end_time": "2023-12-14T15:39:17.492873",
     "exception": false,
     "start_time": "2023-12-14T15:39:17.132732",
     "status": "completed"
    },
    "tags": []
   },
   "outputs": [],
   "source": [
    "candidates_definitive = candidates_definitive.drop_duplicates(subset = 'customer_id')"
   ]
  },
  {
   "cell_type": "code",
   "execution_count": 13,
   "id": "4bf97058",
   "metadata": {
    "execution": {
     "iopub.execute_input": "2023-12-14T15:39:17.654426Z",
     "iopub.status.busy": "2023-12-14T15:39:17.645359Z",
     "iopub.status.idle": "2023-12-14T15:39:17.662063Z",
     "shell.execute_reply": "2023-12-14T15:39:17.662557Z",
     "shell.execute_reply.started": "2023-12-14T15:19:20.109783Z"
    },
    "papermill": {
     "duration": 0.095524,
     "end_time": "2023-12-14T15:39:17.662715",
     "exception": false,
     "start_time": "2023-12-14T15:39:17.567191",
     "status": "completed"
    },
    "tags": []
   },
   "outputs": [
    {
     "data": {
      "text/html": [
       "<div>\n",
       "<style scoped>\n",
       "    .dataframe tbody tr th:only-of-type {\n",
       "        vertical-align: middle;\n",
       "    }\n",
       "\n",
       "    .dataframe tbody tr th {\n",
       "        vertical-align: top;\n",
       "    }\n",
       "\n",
       "    .dataframe thead th {\n",
       "        text-align: right;\n",
       "    }\n",
       "</style>\n",
       "<table border=\"1\" class=\"dataframe\">\n",
       "  <thead>\n",
       "    <tr style=\"text-align: right;\">\n",
       "      <th></th>\n",
       "      <th>t_dat</th>\n",
       "      <th>customer_id</th>\n",
       "      <th>article_id</th>\n",
       "      <th>price</th>\n",
       "      <th>sales_channel_id</th>\n",
       "      <th>week</th>\n",
       "      <th>mean price purchases</th>\n",
       "      <th>most_present_gender_in_area</th>\n",
       "      <th>median_age_area</th>\n",
       "    </tr>\n",
       "  </thead>\n",
       "  <tbody>\n",
       "    <tr>\n",
       "      <th>0</th>\n",
       "      <td>2020-06-01</td>\n",
       "      <td>3030245210403714</td>\n",
       "      <td>399256023</td>\n",
       "      <td>0.016932</td>\n",
       "      <td>1</td>\n",
       "      <td>91</td>\n",
       "      <td>0.016424</td>\n",
       "      <td>2</td>\n",
       "      <td>47.0</td>\n",
       "    </tr>\n",
       "    <tr>\n",
       "      <th>1</th>\n",
       "      <td>2020-06-01</td>\n",
       "      <td>3697956998694085</td>\n",
       "      <td>854883003</td>\n",
       "      <td>0.030492</td>\n",
       "      <td>2</td>\n",
       "      <td>105</td>\n",
       "      <td>0.020534</td>\n",
       "      <td>2</td>\n",
       "      <td>52.0</td>\n",
       "    </tr>\n",
       "    <tr>\n",
       "      <th>2</th>\n",
       "      <td>2020-06-01</td>\n",
       "      <td>4563203946496378</td>\n",
       "      <td>802459001</td>\n",
       "      <td>0.003373</td>\n",
       "      <td>1</td>\n",
       "      <td>99</td>\n",
       "      <td>0.027263</td>\n",
       "      <td>0</td>\n",
       "      <td>35.0</td>\n",
       "    </tr>\n",
       "    <tr>\n",
       "      <th>3</th>\n",
       "      <td>2020-06-01</td>\n",
       "      <td>4813676888825046</td>\n",
       "      <td>874916005</td>\n",
       "      <td>0.016932</td>\n",
       "      <td>1</td>\n",
       "      <td>105</td>\n",
       "      <td>0.016932</td>\n",
       "      <td>2</td>\n",
       "      <td>24.0</td>\n",
       "    </tr>\n",
       "    <tr>\n",
       "      <th>4</th>\n",
       "      <td>2020-06-01</td>\n",
       "      <td>6289628826503662</td>\n",
       "      <td>523404032</td>\n",
       "      <td>0.025407</td>\n",
       "      <td>2</td>\n",
       "      <td>105</td>\n",
       "      <td>0.036706</td>\n",
       "      <td>0</td>\n",
       "      <td>62.0</td>\n",
       "    </tr>\n",
       "    <tr>\n",
       "      <th>...</th>\n",
       "      <td>...</td>\n",
       "      <td>...</td>\n",
       "      <td>...</td>\n",
       "      <td>...</td>\n",
       "      <td>...</td>\n",
       "      <td>...</td>\n",
       "      <td>...</td>\n",
       "      <td>...</td>\n",
       "      <td>...</td>\n",
       "    </tr>\n",
       "    <tr>\n",
       "      <th>598997</th>\n",
       "      <td>2020-09-22</td>\n",
       "      <td>18409112236320621348</td>\n",
       "      <td>860833002</td>\n",
       "      <td>0.025407</td>\n",
       "      <td>2</td>\n",
       "      <td>105</td>\n",
       "      <td>0.029644</td>\n",
       "      <td>2</td>\n",
       "      <td>21.0</td>\n",
       "    </tr>\n",
       "    <tr>\n",
       "      <th>598998</th>\n",
       "      <td>2020-09-22</td>\n",
       "      <td>18417769707947924979</td>\n",
       "      <td>729860001</td>\n",
       "      <td>0.022017</td>\n",
       "      <td>2</td>\n",
       "      <td>105</td>\n",
       "      <td>0.019475</td>\n",
       "      <td>2</td>\n",
       "      <td>40.0</td>\n",
       "    </tr>\n",
       "    <tr>\n",
       "      <th>598999</th>\n",
       "      <td>2020-09-22</td>\n",
       "      <td>18418054986721795659</td>\n",
       "      <td>873279003</td>\n",
       "      <td>0.042356</td>\n",
       "      <td>2</td>\n",
       "      <td>105</td>\n",
       "      <td>0.042356</td>\n",
       "      <td>0</td>\n",
       "      <td>28.0</td>\n",
       "    </tr>\n",
       "    <tr>\n",
       "      <th>599000</th>\n",
       "      <td>2020-09-22</td>\n",
       "      <td>18421175435799911749</td>\n",
       "      <td>863583001</td>\n",
       "      <td>0.033881</td>\n",
       "      <td>2</td>\n",
       "      <td>105</td>\n",
       "      <td>0.033881</td>\n",
       "      <td>2</td>\n",
       "      <td>28.0</td>\n",
       "    </tr>\n",
       "    <tr>\n",
       "      <th>599001</th>\n",
       "      <td>2020-09-22</td>\n",
       "      <td>18438270306572912089</td>\n",
       "      <td>751471043</td>\n",
       "      <td>0.033881</td>\n",
       "      <td>1</td>\n",
       "      <td>105</td>\n",
       "      <td>0.033881</td>\n",
       "      <td>0</td>\n",
       "      <td>71.0</td>\n",
       "    </tr>\n",
       "  </tbody>\n",
       "</table>\n",
       "<p>599002 rows × 9 columns</p>\n",
       "</div>"
      ],
      "text/plain": [
       "            t_dat           customer_id  article_id     price  \\\n",
       "0      2020-06-01      3030245210403714   399256023  0.016932   \n",
       "1      2020-06-01      3697956998694085   854883003  0.030492   \n",
       "2      2020-06-01      4563203946496378   802459001  0.003373   \n",
       "3      2020-06-01      4813676888825046   874916005  0.016932   \n",
       "4      2020-06-01      6289628826503662   523404032  0.025407   \n",
       "...           ...                   ...         ...       ...   \n",
       "598997 2020-09-22  18409112236320621348   860833002  0.025407   \n",
       "598998 2020-09-22  18417769707947924979   729860001  0.022017   \n",
       "598999 2020-09-22  18418054986721795659   873279003  0.042356   \n",
       "599000 2020-09-22  18421175435799911749   863583001  0.033881   \n",
       "599001 2020-09-22  18438270306572912089   751471043  0.033881   \n",
       "\n",
       "        sales_channel_id  week  mean price purchases  \\\n",
       "0                      1    91              0.016424   \n",
       "1                      2   105              0.020534   \n",
       "2                      1    99              0.027263   \n",
       "3                      1   105              0.016932   \n",
       "4                      2   105              0.036706   \n",
       "...                  ...   ...                   ...   \n",
       "598997                 2   105              0.029644   \n",
       "598998                 2   105              0.019475   \n",
       "598999                 2   105              0.042356   \n",
       "599000                 2   105              0.033881   \n",
       "599001                 1   105              0.033881   \n",
       "\n",
       "        most_present_gender_in_area  median_age_area  \n",
       "0                                 2             47.0  \n",
       "1                                 2             52.0  \n",
       "2                                 0             35.0  \n",
       "3                                 2             24.0  \n",
       "4                                 0             62.0  \n",
       "...                             ...              ...  \n",
       "598997                            2             21.0  \n",
       "598998                            2             40.0  \n",
       "598999                            0             28.0  \n",
       "599000                            2             28.0  \n",
       "599001                            0             71.0  \n",
       "\n",
       "[599002 rows x 9 columns]"
      ]
     },
     "execution_count": 13,
     "metadata": {},
     "output_type": "execute_result"
    }
   ],
   "source": [
    "#dataset about candidates in the analyzed period\n",
    "candidates_definitive.reset_index(drop = True, inplace = True)\n",
    "candidates_definitive"
   ]
  },
  {
   "cell_type": "code",
   "execution_count": 14,
   "id": "85d082dc",
   "metadata": {
    "execution": {
     "iopub.execute_input": "2023-12-14T15:39:17.819704Z",
     "iopub.status.busy": "2023-12-14T15:39:17.819076Z",
     "iopub.status.idle": "2023-12-14T15:39:18.112158Z",
     "shell.execute_reply": "2023-12-14T15:39:18.111625Z",
     "shell.execute_reply.started": "2023-12-14T15:19:20.132021Z"
    },
    "papermill": {
     "duration": 0.372598,
     "end_time": "2023-12-14T15:39:18.112333",
     "exception": false,
     "start_time": "2023-12-14T15:39:17.739735",
     "status": "completed"
    },
    "tags": []
   },
   "outputs": [
    {
     "data": {
      "text/html": [
       "<div>\n",
       "<style scoped>\n",
       "    .dataframe tbody tr th:only-of-type {\n",
       "        vertical-align: middle;\n",
       "    }\n",
       "\n",
       "    .dataframe tbody tr th {\n",
       "        vertical-align: top;\n",
       "    }\n",
       "\n",
       "    .dataframe thead th {\n",
       "        text-align: right;\n",
       "    }\n",
       "</style>\n",
       "<table border=\"1\" class=\"dataframe\">\n",
       "  <thead>\n",
       "    <tr style=\"text-align: right;\">\n",
       "      <th></th>\n",
       "      <th>t_dat</th>\n",
       "      <th>customer_id</th>\n",
       "      <th>article_id</th>\n",
       "      <th>price</th>\n",
       "      <th>sales_channel_id</th>\n",
       "      <th>week</th>\n",
       "    </tr>\n",
       "  </thead>\n",
       "  <tbody>\n",
       "    <tr>\n",
       "      <th>0</th>\n",
       "      <td>2020-06-01</td>\n",
       "      <td>3030245210403714</td>\n",
       "      <td>399256023</td>\n",
       "      <td>0.016932</td>\n",
       "      <td>1</td>\n",
       "      <td>88</td>\n",
       "    </tr>\n",
       "    <tr>\n",
       "      <th>1</th>\n",
       "      <td>2020-06-01</td>\n",
       "      <td>3697956998694085</td>\n",
       "      <td>854883003</td>\n",
       "      <td>0.030492</td>\n",
       "      <td>2</td>\n",
       "      <td>88</td>\n",
       "    </tr>\n",
       "    <tr>\n",
       "      <th>2</th>\n",
       "      <td>2020-06-01</td>\n",
       "      <td>4563203946496378</td>\n",
       "      <td>802459001</td>\n",
       "      <td>0.003373</td>\n",
       "      <td>1</td>\n",
       "      <td>88</td>\n",
       "    </tr>\n",
       "    <tr>\n",
       "      <th>3</th>\n",
       "      <td>2020-06-01</td>\n",
       "      <td>4813676888825046</td>\n",
       "      <td>874916005</td>\n",
       "      <td>0.016932</td>\n",
       "      <td>1</td>\n",
       "      <td>88</td>\n",
       "    </tr>\n",
       "    <tr>\n",
       "      <th>4</th>\n",
       "      <td>2020-06-01</td>\n",
       "      <td>6289628826503662</td>\n",
       "      <td>523404032</td>\n",
       "      <td>0.025407</td>\n",
       "      <td>2</td>\n",
       "      <td>88</td>\n",
       "    </tr>\n",
       "    <tr>\n",
       "      <th>...</th>\n",
       "      <td>...</td>\n",
       "      <td>...</td>\n",
       "      <td>...</td>\n",
       "      <td>...</td>\n",
       "      <td>...</td>\n",
       "      <td>...</td>\n",
       "    </tr>\n",
       "    <tr>\n",
       "      <th>598997</th>\n",
       "      <td>2020-09-22</td>\n",
       "      <td>18409112236320621348</td>\n",
       "      <td>860833002</td>\n",
       "      <td>0.025407</td>\n",
       "      <td>2</td>\n",
       "      <td>104</td>\n",
       "    </tr>\n",
       "    <tr>\n",
       "      <th>598998</th>\n",
       "      <td>2020-09-22</td>\n",
       "      <td>18417769707947924979</td>\n",
       "      <td>729860001</td>\n",
       "      <td>0.022017</td>\n",
       "      <td>2</td>\n",
       "      <td>104</td>\n",
       "    </tr>\n",
       "    <tr>\n",
       "      <th>598999</th>\n",
       "      <td>2020-09-22</td>\n",
       "      <td>18418054986721795659</td>\n",
       "      <td>873279003</td>\n",
       "      <td>0.042356</td>\n",
       "      <td>2</td>\n",
       "      <td>104</td>\n",
       "    </tr>\n",
       "    <tr>\n",
       "      <th>599000</th>\n",
       "      <td>2020-09-22</td>\n",
       "      <td>18421175435799911749</td>\n",
       "      <td>863583001</td>\n",
       "      <td>0.033881</td>\n",
       "      <td>2</td>\n",
       "      <td>104</td>\n",
       "    </tr>\n",
       "    <tr>\n",
       "      <th>599001</th>\n",
       "      <td>2020-09-22</td>\n",
       "      <td>18438270306572912089</td>\n",
       "      <td>751471043</td>\n",
       "      <td>0.033881</td>\n",
       "      <td>1</td>\n",
       "      <td>104</td>\n",
       "    </tr>\n",
       "  </tbody>\n",
       "</table>\n",
       "<p>599002 rows × 6 columns</p>\n",
       "</div>"
      ],
      "text/plain": [
       "            t_dat           customer_id  article_id     price  \\\n",
       "0      2020-06-01      3030245210403714   399256023  0.016932   \n",
       "1      2020-06-01      3697956998694085   854883003  0.030492   \n",
       "2      2020-06-01      4563203946496378   802459001  0.003373   \n",
       "3      2020-06-01      4813676888825046   874916005  0.016932   \n",
       "4      2020-06-01      6289628826503662   523404032  0.025407   \n",
       "...           ...                   ...         ...       ...   \n",
       "598997 2020-09-22  18409112236320621348   860833002  0.025407   \n",
       "598998 2020-09-22  18417769707947924979   729860001  0.022017   \n",
       "598999 2020-09-22  18418054986721795659   873279003  0.042356   \n",
       "599000 2020-09-22  18421175435799911749   863583001  0.033881   \n",
       "599001 2020-09-22  18438270306572912089   751471043  0.033881   \n",
       "\n",
       "        sales_channel_id  week  \n",
       "0                      1    88  \n",
       "1                      2    88  \n",
       "2                      1    88  \n",
       "3                      1    88  \n",
       "4                      2    88  \n",
       "...                  ...   ...  \n",
       "598997                 2   104  \n",
       "598998                 2   104  \n",
       "598999                 2   104  \n",
       "599000                 2   104  \n",
       "599001                 1   104  \n",
       "\n",
       "[599002 rows x 6 columns]"
      ]
     },
     "execution_count": 14,
     "metadata": {},
     "output_type": "execute_result"
    }
   ],
   "source": [
    "#test set about transactions\n",
    "test_set_transactions = filtered_transactions.drop_duplicates('customer_id')\n",
    "test_set_transactions.reset_index(drop = True, inplace = True)\n",
    "test_set_transactions"
   ]
  },
  {
   "cell_type": "code",
   "execution_count": 15,
   "id": "4e73003d",
   "metadata": {
    "execution": {
     "iopub.execute_input": "2023-12-14T15:39:18.272127Z",
     "iopub.status.busy": "2023-12-14T15:39:18.271550Z",
     "iopub.status.idle": "2023-12-14T15:39:20.129930Z",
     "shell.execute_reply": "2023-12-14T15:39:20.129278Z",
     "shell.execute_reply.started": "2023-12-14T15:19:20.430063Z"
    },
    "papermill": {
     "duration": 1.939513,
     "end_time": "2023-12-14T15:39:20.130075",
     "exception": false,
     "start_time": "2023-12-14T15:39:18.190562",
     "status": "completed"
    },
    "tags": []
   },
   "outputs": [],
   "source": [
    "#bestsellers for 2020\n",
    "mean_price = filtered_transactions \\\n",
    "    .groupby(['week', 'article_id'])['price'].mean()\n",
    "\n",
    "sales = filtered_transactions \\\n",
    "    .groupby('week')['article_id'].value_counts() \\\n",
    "    .groupby('week').rank(method='dense', ascending=False) \\\n",
    "    .groupby('week').head(50).rename('bestseller_rank').astype('int8')\n",
    "\n",
    "bestsellers_2020 = pd.merge(sales, mean_price, on=['week', 'article_id']).reset_index()"
   ]
  },
  {
   "cell_type": "markdown",
   "id": "ed56c785",
   "metadata": {
    "papermill": {
     "duration": 0.075728,
     "end_time": "2023-12-14T15:39:20.287829",
     "exception": false,
     "start_time": "2023-12-14T15:39:20.212101",
     "status": "completed"
    },
    "tags": []
   },
   "source": [
    "# Combining transactions and candidates / negative examples"
   ]
  },
  {
   "cell_type": "markdown",
   "id": "150d7c19",
   "metadata": {
    "papermill": {
     "duration": 0.074919,
     "end_time": "2023-12-14T15:39:20.438854",
     "exception": false,
     "start_time": "2023-12-14T15:39:20.363935",
     "status": "completed"
    },
    "tags": []
   },
   "source": [
    "##### Images to create negative candidates"
   ]
  },
  {
   "cell_type": "code",
   "execution_count": 16,
   "id": "0613999b",
   "metadata": {
    "execution": {
     "iopub.execute_input": "2023-12-14T15:39:20.592631Z",
     "iopub.status.busy": "2023-12-14T15:39:20.591738Z",
     "iopub.status.idle": "2023-12-14T15:39:20.594445Z",
     "shell.execute_reply": "2023-12-14T15:39:20.593817Z",
     "shell.execute_reply.started": "2023-12-14T15:19:22.326125Z"
    },
    "papermill": {
     "duration": 0.081695,
     "end_time": "2023-12-14T15:39:20.594566",
     "exception": false,
     "start_time": "2023-12-14T15:39:20.512871",
     "status": "completed"
    },
    "tags": []
   },
   "outputs": [],
   "source": [
    "#print(bestsellers_2020[bestsellers_2020['bestseller_rank'] == 1]) #first bestseller for each considered week"
   ]
  },
  {
   "cell_type": "code",
   "execution_count": 17,
   "id": "fdd6d5d0",
   "metadata": {
    "execution": {
     "iopub.execute_input": "2023-12-14T15:39:20.751836Z",
     "iopub.status.busy": "2023-12-14T15:39:20.751180Z",
     "iopub.status.idle": "2023-12-14T15:39:20.754813Z",
     "shell.execute_reply": "2023-12-14T15:39:20.754290Z",
     "shell.execute_reply.started": "2023-12-14T15:19:22.331590Z"
    },
    "papermill": {
     "duration": 0.08557,
     "end_time": "2023-12-14T15:39:20.754946",
     "exception": false,
     "start_time": "2023-12-14T15:39:20.669376",
     "status": "completed"
    },
    "tags": []
   },
   "outputs": [
    {
     "data": {
      "text/plain": [
       "0     859105003\n",
       "1     599580038\n",
       "2     599580052\n",
       "3     841434001\n",
       "4     859105002\n",
       "        ...    \n",
       "80    924243001\n",
       "81    924243002\n",
       "82    918522001\n",
       "83    923758001\n",
       "84    866731001\n",
       "Name: article_id, Length: 85, dtype: int64"
      ]
     },
     "execution_count": 17,
     "metadata": {},
     "output_type": "execute_result"
    }
   ],
   "source": [
    "top_5_bestsellers_article_ref = bestsellers_2020['article_id'][bestsellers_2020['bestseller_rank'].between(1, 5)]\n",
    "top_5_bestsellers_article_ref = top_5_bestsellers_article_ref.reset_index(drop = True)\n",
    "#top_5_bestsellers_article_ref = pd.DataFrame(top_5_bestsellers_article_ref)\n",
    "top_5_bestsellers_article_ref"
   ]
  },
  {
   "cell_type": "code",
   "execution_count": 18,
   "id": "e261b1f8",
   "metadata": {
    "execution": {
     "iopub.execute_input": "2023-12-14T15:39:20.913013Z",
     "iopub.status.busy": "2023-12-14T15:39:20.912347Z",
     "iopub.status.idle": "2023-12-14T15:39:20.916381Z",
     "shell.execute_reply": "2023-12-14T15:39:20.915785Z",
     "shell.execute_reply.started": "2023-12-14T15:19:22.345419Z"
    },
    "papermill": {
     "duration": 0.086813,
     "end_time": "2023-12-14T15:39:20.916510",
     "exception": false,
     "start_time": "2023-12-14T15:39:20.829697",
     "status": "completed"
    },
    "tags": []
   },
   "outputs": [
    {
     "data": {
      "text/plain": [
       "0     0859105003\n",
       "1     0599580038\n",
       "2     0599580052\n",
       "3     0841434001\n",
       "4     0859105002\n",
       "         ...    \n",
       "80    0924243001\n",
       "81    0924243002\n",
       "82    0918522001\n",
       "83    0923758001\n",
       "84    0866731001\n",
       "Name: article_id, Length: 85, dtype: object"
      ]
     },
     "execution_count": 18,
     "metadata": {},
     "output_type": "execute_result"
    }
   ],
   "source": [
    "top_5_bestsellers_article_ref = article_id_int_to_str(top_5_bestsellers_article_ref)\n",
    "top_5_bestsellers_article_ref"
   ]
  },
  {
   "cell_type": "code",
   "execution_count": 19,
   "id": "1e55123b",
   "metadata": {
    "execution": {
     "iopub.execute_input": "2023-12-14T15:39:21.079298Z",
     "iopub.status.busy": "2023-12-14T15:39:21.078642Z",
     "iopub.status.idle": "2023-12-14T15:41:38.534718Z",
     "shell.execute_reply": "2023-12-14T15:41:38.534075Z",
     "shell.execute_reply.started": "2023-12-14T15:19:22.355310Z"
    },
    "papermill": {
     "duration": 137.53853,
     "end_time": "2023-12-14T15:41:38.534864",
     "exception": false,
     "start_time": "2023-12-14T15:39:20.996334",
     "status": "completed"
    },
    "tags": []
   },
   "outputs": [],
   "source": [
    "import os \n",
    "\n",
    "directory = '../input/h-and-m-personalized-fashion-recommendations/images'\n",
    "found_images_5bestsellers = []\n",
    "\n",
    "for root, dirs, files in os.walk(directory):\n",
    "    for file in files:\n",
    "        article_id = file.split('.')[0].strip().lower()\n",
    "        if article_id in [x.strip().lower() for x in top_5_bestsellers_article_ref]:\n",
    "            found_images_5bestsellers.append(article_id)"
   ]
  },
  {
   "cell_type": "code",
   "execution_count": 20,
   "id": "c0972cdc",
   "metadata": {
    "execution": {
     "iopub.execute_input": "2023-12-14T15:41:38.694461Z",
     "iopub.status.busy": "2023-12-14T15:41:38.693683Z",
     "iopub.status.idle": "2023-12-14T15:41:38.697405Z",
     "shell.execute_reply": "2023-12-14T15:41:38.696795Z",
     "shell.execute_reply.started": "2023-12-14T15:21:36.894394Z"
    },
    "papermill": {
     "duration": 0.086712,
     "end_time": "2023-12-14T15:41:38.697539",
     "exception": false,
     "start_time": "2023-12-14T15:41:38.610827",
     "status": "completed"
    },
    "tags": []
   },
   "outputs": [
    {
     "data": {
      "text/plain": [
       "0      0859105003\n",
       "1      0599580038\n",
       "2      0599580052\n",
       "3      0841434001\n",
       "4      0859105002\n",
       "          ...    \n",
       "845    0911699002\n",
       "846    0923340001\n",
       "847    0904571001\n",
       "848    0896169002\n",
       "849    0881942001\n",
       "Name: article_id, Length: 850, dtype: object"
      ]
     },
     "execution_count": 20,
     "metadata": {},
     "output_type": "execute_result"
    }
   ],
   "source": [
    "bestsellers_2020_str = article_id_int_to_str(bestsellers_2020['article_id'])\n",
    "bestsellers_2020_str"
   ]
  },
  {
   "cell_type": "code",
   "execution_count": 21,
   "id": "f130c32f",
   "metadata": {
    "execution": {
     "iopub.execute_input": "2023-12-14T15:41:38.855114Z",
     "iopub.status.busy": "2023-12-14T15:41:38.854457Z",
     "iopub.status.idle": "2023-12-14T15:42:21.190579Z",
     "shell.execute_reply": "2023-12-14T15:42:21.189936Z",
     "shell.execute_reply.started": "2023-12-14T15:21:36.905533Z"
    },
    "papermill": {
     "duration": 42.41732,
     "end_time": "2023-12-14T15:42:21.190717",
     "exception": false,
     "start_time": "2023-12-14T15:41:38.773397",
     "status": "completed"
    },
    "tags": []
   },
   "outputs": [],
   "source": [
    "matching_article_ids_2020 = []\n",
    "\n",
    "for root, dirs, files in os.walk(directory):\n",
    "    for file in files:\n",
    "        article_id = file.split('.')[0].strip().lower()\n",
    "        if article_id in [x.strip().lower() for x in bestsellers_2020_str]:\n",
    "            matching_article_ids_2020.append(article_id)"
   ]
  },
  {
   "cell_type": "code",
   "execution_count": 22,
   "id": "44d17880",
   "metadata": {
    "execution": {
     "iopub.execute_input": "2023-12-14T15:42:21.352359Z",
     "iopub.status.busy": "2023-12-14T15:42:21.351391Z",
     "iopub.status.idle": "2023-12-14T15:42:21.354375Z",
     "shell.execute_reply": "2023-12-14T15:42:21.354836Z",
     "shell.execute_reply.started": "2023-12-14T15:22:19.177076Z"
    },
    "papermill": {
     "duration": 0.085423,
     "end_time": "2023-12-14T15:42:21.354969",
     "exception": false,
     "start_time": "2023-12-14T15:42:21.269546",
     "status": "completed"
    },
    "tags": []
   },
   "outputs": [
    {
     "data": {
      "text/plain": [
       "'directory = \\'/kaggle/input/h-and-m-personalized-fashion-recommendations/images\\'\\n\\nimage_count = 0\\n\\nfor root, dirs, files in os.walk(directory):\\n    for file in files:\\n        # Check if the file is an image (you can customize the extension list)\\n        if file.lower().endswith((\\'.jpg\\')):\\n            image_count += 1\\n\\nprint(f\"Total number of images in {directory} and its subdirectories: {image_count}\")'"
      ]
     },
     "execution_count": 22,
     "metadata": {},
     "output_type": "execute_result"
    }
   ],
   "source": [
    "'''directory = '/kaggle/input/h-and-m-personalized-fashion-recommendations/images'\n",
    "\n",
    "image_count = 0\n",
    "\n",
    "for root, dirs, files in os.walk(directory):\n",
    "    for file in files:\n",
    "        # Check if the file is an image (you can customize the extension list)\n",
    "        if file.lower().endswith(('.jpg')):\n",
    "            image_count += 1\n",
    "\n",
    "print(f\"Total number of images in {directory} and its subdirectories: {image_count}\")'''"
   ]
  },
  {
   "cell_type": "code",
   "execution_count": 23,
   "id": "bbf69c8e",
   "metadata": {
    "execution": {
     "iopub.execute_input": "2023-12-14T15:42:21.513953Z",
     "iopub.status.busy": "2023-12-14T15:42:21.513332Z",
     "iopub.status.idle": "2023-12-14T15:42:21.515915Z",
     "shell.execute_reply": "2023-12-14T15:42:21.516405Z",
     "shell.execute_reply.started": "2023-12-14T15:22:19.184697Z"
    },
    "papermill": {
     "duration": 0.084599,
     "end_time": "2023-12-14T15:42:21.516550",
     "exception": false,
     "start_time": "2023-12-14T15:42:21.431951",
     "status": "completed"
    },
    "tags": []
   },
   "outputs": [
    {
     "name": "stdout",
     "output_type": "stream",
     "text": [
      "Total number of unique articles in bestsellers_2020_str: 434\n",
      "Total number of unique articles in top_5_bestsellers_article_ref: 60\n"
     ]
    }
   ],
   "source": [
    "#unique elements of bestsellers_2020_str and top_5_bestsellers_article_ref\n",
    "unique_article_count_bestsellers_2020 = len(set(bestsellers_2020_str))\n",
    "unique_article_count_5_bestsellers = len(set(top_5_bestsellers_article_ref))\n",
    "\n",
    "print(f\"Total number of unique articles in bestsellers_2020_str: {unique_article_count_bestsellers_2020}\")\n",
    "print(f\"Total number of unique articles in top_5_bestsellers_article_ref: {unique_article_count_5_bestsellers}\")"
   ]
  },
  {
   "cell_type": "code",
   "execution_count": 24,
   "id": "645557b9",
   "metadata": {
    "execution": {
     "iopub.execute_input": "2023-12-14T15:42:21.675666Z",
     "iopub.status.busy": "2023-12-14T15:42:21.674952Z",
     "iopub.status.idle": "2023-12-14T15:42:21.677540Z",
     "shell.execute_reply": "2023-12-14T15:42:21.677039Z",
     "shell.execute_reply.started": "2023-12-14T15:22:19.197657Z"
    },
    "papermill": {
     "duration": 0.083797,
     "end_time": "2023-12-14T15:42:21.677654",
     "exception": false,
     "start_time": "2023-12-14T15:42:21.593857",
     "status": "completed"
    },
    "tags": []
   },
   "outputs": [],
   "source": [
    "#remove of duplicate elements from the arrays\n",
    "found_images_5bestsellers = set(found_images_5bestsellers)\n",
    "matching_article_ids_2020 = set(matching_article_ids_2020)"
   ]
  },
  {
   "cell_type": "code",
   "execution_count": 25,
   "id": "2919f2fa",
   "metadata": {
    "execution": {
     "iopub.execute_input": "2023-12-14T15:42:21.841759Z",
     "iopub.status.busy": "2023-12-14T15:42:21.841065Z",
     "iopub.status.idle": "2023-12-14T15:42:21.843665Z",
     "shell.execute_reply": "2023-12-14T15:42:21.843106Z",
     "shell.execute_reply.started": "2023-12-14T15:22:19.205925Z"
    },
    "papermill": {
     "duration": 0.08482,
     "end_time": "2023-12-14T15:42:21.843784",
     "exception": false,
     "start_time": "2023-12-14T15:42:21.758964",
     "status": "completed"
    },
    "tags": []
   },
   "outputs": [],
   "source": [
    "#function to find images in the image folder\n",
    "def find_images(image_filename, base_folder='/kaggle/input/h-and-m-personalized-fashion-recommendations/images'):\n",
    "    for root, dirs, files in os.walk(base_folder):\n",
    "        if (image_filename + '.jpg') in files:\n",
    "            return os.path.join(root, image_filename + '.jpg')\n",
    "    return None"
   ]
  },
  {
   "cell_type": "code",
   "execution_count": 26,
   "id": "f5b3d9a7",
   "metadata": {
    "execution": {
     "iopub.execute_input": "2023-12-14T15:42:22.004305Z",
     "iopub.status.busy": "2023-12-14T15:42:22.003569Z",
     "iopub.status.idle": "2023-12-14T15:44:37.744599Z",
     "shell.execute_reply": "2023-12-14T15:44:37.743863Z",
     "shell.execute_reply.started": "2023-12-14T15:22:19.214342Z"
    },
    "papermill": {
     "duration": 135.822988,
     "end_time": "2023-12-14T15:44:37.744752",
     "exception": false,
     "start_time": "2023-12-14T15:42:21.921764",
     "status": "completed"
    },
    "tags": []
   },
   "outputs": [],
   "source": [
    "found_images = []\n",
    "\n",
    "for image_filename in matching_article_ids_2020:\n",
    "    image_path = find_images(image_filename)\n",
    "    if image_path:\n",
    "        found_images.append(image_path)"
   ]
  },
  {
   "cell_type": "code",
   "execution_count": 27,
   "id": "187f2c1b",
   "metadata": {
    "execution": {
     "iopub.execute_input": "2023-12-14T15:44:37.904432Z",
     "iopub.status.busy": "2023-12-14T15:44:37.903741Z",
     "iopub.status.idle": "2023-12-14T15:44:37.906527Z",
     "shell.execute_reply": "2023-12-14T15:44:37.906991Z",
     "shell.execute_reply.started": "2023-12-14T15:24:35.738671Z"
    },
    "papermill": {
     "duration": 0.08383,
     "end_time": "2023-12-14T15:44:37.907126",
     "exception": false,
     "start_time": "2023-12-14T15:44:37.823296",
     "status": "completed"
    },
    "tags": []
   },
   "outputs": [
    {
     "name": "stdout",
     "output_type": "stream",
     "text": [
      "431\n",
      "431\n"
     ]
    }
   ],
   "source": [
    "print(len(found_images))\n",
    "print(len(matching_article_ids_2020))"
   ]
  },
  {
   "cell_type": "code",
   "execution_count": 28,
   "id": "7df9dba8",
   "metadata": {
    "execution": {
     "iopub.execute_input": "2023-12-14T15:44:38.067953Z",
     "iopub.status.busy": "2023-12-14T15:44:38.067350Z",
     "iopub.status.idle": "2023-12-14T15:47:17.978540Z",
     "shell.execute_reply": "2023-12-14T15:47:17.977909Z",
     "shell.execute_reply.started": "2023-12-14T15:24:35.745324Z"
    },
    "papermill": {
     "duration": 159.994769,
     "end_time": "2023-12-14T15:47:17.978685",
     "exception": false,
     "start_time": "2023-12-14T15:44:37.983916",
     "status": "completed"
    },
    "tags": []
   },
   "outputs": [],
   "source": [
    "import cv2\n",
    "import numpy as np\n",
    "from skimage.metrics import structural_similarity as ssim\n",
    "from skimage import color, transform\n",
    "\n",
    "#function to calculate the structural similarity index between images\n",
    "def calculate_ssi(image1, image2):\n",
    "    if image1.shape != image2.shape:\n",
    "        image2 = transform.resize(image2, image1.shape, mode='reflect', anti_aliasing=True)\n",
    "    gray1 = color.rgb2gray(image1)\n",
    "    gray2 = color.rgb2gray(image2)\n",
    "    return ssim(gray1, gray2)\n",
    "\n",
    "reference_image_path = found_images[0]\n",
    "\n",
    "reference_image = cv2.imread(reference_image_path)\n",
    "\n",
    "similarity_scores = []\n",
    "\n",
    "for image_path in found_images[1:]:\n",
    "    current_image = cv2.imread(image_path)\n",
    "    \n",
    "    similarity_score = calculate_ssi(reference_image, current_image)\n",
    "    \n",
    "    similarity_scores.append((image_path, similarity_score))"
   ]
  },
  {
   "cell_type": "code",
   "execution_count": 29,
   "id": "a5317a4c",
   "metadata": {
    "execution": {
     "iopub.execute_input": "2023-12-14T15:47:18.155464Z",
     "iopub.status.busy": "2023-12-14T15:47:18.154616Z",
     "iopub.status.idle": "2023-12-14T15:47:18.158063Z",
     "shell.execute_reply": "2023-12-14T15:47:18.158612Z",
     "shell.execute_reply.started": "2023-12-14T15:27:14.414288Z"
    },
    "papermill": {
     "duration": 0.100713,
     "end_time": "2023-12-14T15:47:18.158772",
     "exception": false,
     "start_time": "2023-12-14T15:47:18.058059",
     "status": "completed"
    },
    "tags": []
   },
   "outputs": [
    {
     "data": {
      "text/html": [
       "<div>\n",
       "<style scoped>\n",
       "    .dataframe tbody tr th:only-of-type {\n",
       "        vertical-align: middle;\n",
       "    }\n",
       "\n",
       "    .dataframe tbody tr th {\n",
       "        vertical-align: top;\n",
       "    }\n",
       "\n",
       "    .dataframe thead th {\n",
       "        text-align: right;\n",
       "    }\n",
       "</style>\n",
       "<table border=\"1\" class=\"dataframe\">\n",
       "  <thead>\n",
       "    <tr style=\"text-align: right;\">\n",
       "      <th></th>\n",
       "      <th>path to image</th>\n",
       "      <th>similarity with item 929165002</th>\n",
       "    </tr>\n",
       "  </thead>\n",
       "  <tbody>\n",
       "    <tr>\n",
       "      <th>0</th>\n",
       "      <td>/kaggle/input/h-and-m-personalized-fashion-rec...</td>\n",
       "      <td>0.765768</td>\n",
       "    </tr>\n",
       "    <tr>\n",
       "      <th>1</th>\n",
       "      <td>/kaggle/input/h-and-m-personalized-fashion-rec...</td>\n",
       "      <td>0.708255</td>\n",
       "    </tr>\n",
       "    <tr>\n",
       "      <th>2</th>\n",
       "      <td>/kaggle/input/h-and-m-personalized-fashion-rec...</td>\n",
       "      <td>0.930020</td>\n",
       "    </tr>\n",
       "    <tr>\n",
       "      <th>3</th>\n",
       "      <td>/kaggle/input/h-and-m-personalized-fashion-rec...</td>\n",
       "      <td>0.786449</td>\n",
       "    </tr>\n",
       "    <tr>\n",
       "      <th>4</th>\n",
       "      <td>/kaggle/input/h-and-m-personalized-fashion-rec...</td>\n",
       "      <td>0.930863</td>\n",
       "    </tr>\n",
       "    <tr>\n",
       "      <th>...</th>\n",
       "      <td>...</td>\n",
       "      <td>...</td>\n",
       "    </tr>\n",
       "    <tr>\n",
       "      <th>425</th>\n",
       "      <td>/kaggle/input/h-and-m-personalized-fashion-rec...</td>\n",
       "      <td>0.725394</td>\n",
       "    </tr>\n",
       "    <tr>\n",
       "      <th>426</th>\n",
       "      <td>/kaggle/input/h-and-m-personalized-fashion-rec...</td>\n",
       "      <td>0.715877</td>\n",
       "    </tr>\n",
       "    <tr>\n",
       "      <th>427</th>\n",
       "      <td>/kaggle/input/h-and-m-personalized-fashion-rec...</td>\n",
       "      <td>0.729497</td>\n",
       "    </tr>\n",
       "    <tr>\n",
       "      <th>428</th>\n",
       "      <td>/kaggle/input/h-and-m-personalized-fashion-rec...</td>\n",
       "      <td>0.819073</td>\n",
       "    </tr>\n",
       "    <tr>\n",
       "      <th>429</th>\n",
       "      <td>/kaggle/input/h-and-m-personalized-fashion-rec...</td>\n",
       "      <td>0.787090</td>\n",
       "    </tr>\n",
       "  </tbody>\n",
       "</table>\n",
       "<p>430 rows × 2 columns</p>\n",
       "</div>"
      ],
      "text/plain": [
       "                                         path to image  \\\n",
       "0    /kaggle/input/h-and-m-personalized-fashion-rec...   \n",
       "1    /kaggle/input/h-and-m-personalized-fashion-rec...   \n",
       "2    /kaggle/input/h-and-m-personalized-fashion-rec...   \n",
       "3    /kaggle/input/h-and-m-personalized-fashion-rec...   \n",
       "4    /kaggle/input/h-and-m-personalized-fashion-rec...   \n",
       "..                                                 ...   \n",
       "425  /kaggle/input/h-and-m-personalized-fashion-rec...   \n",
       "426  /kaggle/input/h-and-m-personalized-fashion-rec...   \n",
       "427  /kaggle/input/h-and-m-personalized-fashion-rec...   \n",
       "428  /kaggle/input/h-and-m-personalized-fashion-rec...   \n",
       "429  /kaggle/input/h-and-m-personalized-fashion-rec...   \n",
       "\n",
       "     similarity with item 929165002  \n",
       "0                          0.765768  \n",
       "1                          0.708255  \n",
       "2                          0.930020  \n",
       "3                          0.786449  \n",
       "4                          0.930863  \n",
       "..                              ...  \n",
       "425                        0.725394  \n",
       "426                        0.715877  \n",
       "427                        0.729497  \n",
       "428                        0.819073  \n",
       "429                        0.787090  \n",
       "\n",
       "[430 rows x 2 columns]"
      ]
     },
     "execution_count": 29,
     "metadata": {},
     "output_type": "execute_result"
    }
   ],
   "source": [
    "#dataframe about the similarity scores\n",
    "similarity = pd.DataFrame(similarity_scores, columns = ['path to image', 'similarity with item 929165002'])\n",
    "similarity"
   ]
  },
  {
   "cell_type": "code",
   "execution_count": 30,
   "id": "d2325278",
   "metadata": {
    "execution": {
     "iopub.execute_input": "2023-12-14T15:47:18.329975Z",
     "iopub.status.busy": "2023-12-14T15:47:18.323605Z",
     "iopub.status.idle": "2023-12-14T15:47:18.333346Z",
     "shell.execute_reply": "2023-12-14T15:47:18.332846Z",
     "shell.execute_reply.started": "2023-12-14T15:27:14.429424Z"
    },
    "papermill": {
     "duration": 0.093959,
     "end_time": "2023-12-14T15:47:18.333469",
     "exception": false,
     "start_time": "2023-12-14T15:47:18.239510",
     "status": "completed"
    },
    "tags": []
   },
   "outputs": [
    {
     "data": {
      "text/html": [
       "<div>\n",
       "<style scoped>\n",
       "    .dataframe tbody tr th:only-of-type {\n",
       "        vertical-align: middle;\n",
       "    }\n",
       "\n",
       "    .dataframe tbody tr th {\n",
       "        vertical-align: top;\n",
       "    }\n",
       "\n",
       "    .dataframe thead th {\n",
       "        text-align: right;\n",
       "    }\n",
       "</style>\n",
       "<table border=\"1\" class=\"dataframe\">\n",
       "  <thead>\n",
       "    <tr style=\"text-align: right;\">\n",
       "      <th></th>\n",
       "      <th>path to image</th>\n",
       "      <th>similarity with item 929165002</th>\n",
       "      <th>image_number</th>\n",
       "    </tr>\n",
       "  </thead>\n",
       "  <tbody>\n",
       "    <tr>\n",
       "      <th>0</th>\n",
       "      <td>/kaggle/input/h-and-m-personalized-fashion-rec...</td>\n",
       "      <td>0.765768</td>\n",
       "      <td>0766346003</td>\n",
       "    </tr>\n",
       "    <tr>\n",
       "      <th>1</th>\n",
       "      <td>/kaggle/input/h-and-m-personalized-fashion-rec...</td>\n",
       "      <td>0.708255</td>\n",
       "      <td>0921906003</td>\n",
       "    </tr>\n",
       "    <tr>\n",
       "      <th>2</th>\n",
       "      <td>/kaggle/input/h-and-m-personalized-fashion-rec...</td>\n",
       "      <td>0.930020</td>\n",
       "      <td>0806388010</td>\n",
       "    </tr>\n",
       "    <tr>\n",
       "      <th>3</th>\n",
       "      <td>/kaggle/input/h-and-m-personalized-fashion-rec...</td>\n",
       "      <td>0.786449</td>\n",
       "      <td>0880839001</td>\n",
       "    </tr>\n",
       "    <tr>\n",
       "      <th>4</th>\n",
       "      <td>/kaggle/input/h-and-m-personalized-fashion-rec...</td>\n",
       "      <td>0.930863</td>\n",
       "      <td>0399256005</td>\n",
       "    </tr>\n",
       "    <tr>\n",
       "      <th>...</th>\n",
       "      <td>...</td>\n",
       "      <td>...</td>\n",
       "      <td>...</td>\n",
       "    </tr>\n",
       "    <tr>\n",
       "      <th>425</th>\n",
       "      <td>/kaggle/input/h-and-m-personalized-fashion-rec...</td>\n",
       "      <td>0.725394</td>\n",
       "      <td>0895002002</td>\n",
       "    </tr>\n",
       "    <tr>\n",
       "      <th>426</th>\n",
       "      <td>/kaggle/input/h-and-m-personalized-fashion-rec...</td>\n",
       "      <td>0.715877</td>\n",
       "      <td>0879248001</td>\n",
       "    </tr>\n",
       "    <tr>\n",
       "      <th>427</th>\n",
       "      <td>/kaggle/input/h-and-m-personalized-fashion-rec...</td>\n",
       "      <td>0.729497</td>\n",
       "      <td>0914441007</td>\n",
       "    </tr>\n",
       "    <tr>\n",
       "      <th>428</th>\n",
       "      <td>/kaggle/input/h-and-m-personalized-fashion-rec...</td>\n",
       "      <td>0.819073</td>\n",
       "      <td>0547780003</td>\n",
       "    </tr>\n",
       "    <tr>\n",
       "      <th>429</th>\n",
       "      <td>/kaggle/input/h-and-m-personalized-fashion-rec...</td>\n",
       "      <td>0.787090</td>\n",
       "      <td>0870970001</td>\n",
       "    </tr>\n",
       "  </tbody>\n",
       "</table>\n",
       "<p>430 rows × 3 columns</p>\n",
       "</div>"
      ],
      "text/plain": [
       "                                         path to image  \\\n",
       "0    /kaggle/input/h-and-m-personalized-fashion-rec...   \n",
       "1    /kaggle/input/h-and-m-personalized-fashion-rec...   \n",
       "2    /kaggle/input/h-and-m-personalized-fashion-rec...   \n",
       "3    /kaggle/input/h-and-m-personalized-fashion-rec...   \n",
       "4    /kaggle/input/h-and-m-personalized-fashion-rec...   \n",
       "..                                                 ...   \n",
       "425  /kaggle/input/h-and-m-personalized-fashion-rec...   \n",
       "426  /kaggle/input/h-and-m-personalized-fashion-rec...   \n",
       "427  /kaggle/input/h-and-m-personalized-fashion-rec...   \n",
       "428  /kaggle/input/h-and-m-personalized-fashion-rec...   \n",
       "429  /kaggle/input/h-and-m-personalized-fashion-rec...   \n",
       "\n",
       "     similarity with item 929165002 image_number  \n",
       "0                          0.765768   0766346003  \n",
       "1                          0.708255   0921906003  \n",
       "2                          0.930020   0806388010  \n",
       "3                          0.786449   0880839001  \n",
       "4                          0.930863   0399256005  \n",
       "..                              ...          ...  \n",
       "425                        0.725394   0895002002  \n",
       "426                        0.715877   0879248001  \n",
       "427                        0.729497   0914441007  \n",
       "428                        0.819073   0547780003  \n",
       "429                        0.787090   0870970001  \n",
       "\n",
       "[430 rows x 3 columns]"
      ]
     },
     "execution_count": 30,
     "metadata": {},
     "output_type": "execute_result"
    }
   ],
   "source": [
    "similarity['image_number'] = similarity['path to image'].str.extract(r'/(\\d+)\\.jpg')\n",
    "similarity"
   ]
  },
  {
   "cell_type": "code",
   "execution_count": 31,
   "id": "54712e62",
   "metadata": {
    "execution": {
     "iopub.execute_input": "2023-12-14T15:47:18.494362Z",
     "iopub.status.busy": "2023-12-14T15:47:18.493623Z",
     "iopub.status.idle": "2023-12-14T15:47:18.496966Z",
     "shell.execute_reply": "2023-12-14T15:47:18.496454Z",
     "shell.execute_reply.started": "2023-12-14T15:27:14.450597Z"
    },
    "papermill": {
     "duration": 0.085441,
     "end_time": "2023-12-14T15:47:18.497087",
     "exception": false,
     "start_time": "2023-12-14T15:47:18.411646",
     "status": "completed"
    },
    "tags": []
   },
   "outputs": [
    {
     "data": {
      "text/plain": [
       "str"
      ]
     },
     "execution_count": 31,
     "metadata": {},
     "output_type": "execute_result"
    }
   ],
   "source": [
    "type(similarity['image_number'][0])"
   ]
  },
  {
   "cell_type": "code",
   "execution_count": 32,
   "id": "eef8b9b9",
   "metadata": {
    "execution": {
     "iopub.execute_input": "2023-12-14T15:47:18.661620Z",
     "iopub.status.busy": "2023-12-14T15:47:18.660926Z",
     "iopub.status.idle": "2023-12-14T15:47:18.663518Z",
     "shell.execute_reply": "2023-12-14T15:47:18.662984Z",
     "shell.execute_reply.started": "2023-12-14T15:27:14.459555Z"
    },
    "papermill": {
     "duration": 0.087076,
     "end_time": "2023-12-14T15:47:18.663633",
     "exception": false,
     "start_time": "2023-12-14T15:47:18.576557",
     "status": "completed"
    },
    "tags": []
   },
   "outputs": [],
   "source": [
    "#transformation of the column image_number into an int and deteletion of the zero \n",
    "\n",
    "def remove_zero_and_to_int(series):\n",
    "    series_without_zeros = series.str.lstrip('0')\n",
    "    return series_without_zeros.astype('int32')\n",
    "\n",
    "similarity['image_number'] = remove_zero_and_to_int(similarity['image_number'])"
   ]
  },
  {
   "cell_type": "code",
   "execution_count": 33,
   "id": "3704e520",
   "metadata": {
    "execution": {
     "iopub.execute_input": "2023-12-14T15:47:18.829257Z",
     "iopub.status.busy": "2023-12-14T15:47:18.826310Z",
     "iopub.status.idle": "2023-12-14T15:47:18.832821Z",
     "shell.execute_reply": "2023-12-14T15:47:18.832255Z",
     "shell.execute_reply.started": "2023-12-14T15:27:14.469051Z"
    },
    "papermill": {
     "duration": 0.090769,
     "end_time": "2023-12-14T15:47:18.832932",
     "exception": false,
     "start_time": "2023-12-14T15:47:18.742163",
     "status": "completed"
    },
    "tags": []
   },
   "outputs": [
    {
     "data": {
      "text/plain": [
       "0      766346003\n",
       "1      921906003\n",
       "2      806388010\n",
       "3      880839001\n",
       "4      399256005\n",
       "         ...    \n",
       "425    895002002\n",
       "426    879248001\n",
       "427    914441007\n",
       "428    547780003\n",
       "429    870970001\n",
       "Name: image_number, Length: 430, dtype: int32"
      ]
     },
     "execution_count": 33,
     "metadata": {},
     "output_type": "execute_result"
    }
   ],
   "source": [
    "similarity['image_number']"
   ]
  },
  {
   "cell_type": "markdown",
   "id": "95f8d4fa",
   "metadata": {
    "papermill": {
     "duration": 0.078794,
     "end_time": "2023-12-14T15:47:18.991292",
     "exception": false,
     "start_time": "2023-12-14T15:47:18.912498",
     "status": "completed"
    },
    "tags": []
   },
   "source": [
    "##### Creation of the dataset to use"
   ]
  },
  {
   "cell_type": "code",
   "execution_count": 34,
   "id": "0f492809",
   "metadata": {
    "execution": {
     "iopub.execute_input": "2023-12-14T15:47:19.155315Z",
     "iopub.status.busy": "2023-12-14T15:47:19.154731Z",
     "iopub.status.idle": "2023-12-14T15:47:19.171144Z",
     "shell.execute_reply": "2023-12-14T15:47:19.171755Z",
     "shell.execute_reply.started": "2023-12-14T15:27:14.482542Z"
    },
    "papermill": {
     "duration": 0.09979,
     "end_time": "2023-12-14T15:47:19.171913",
     "exception": false,
     "start_time": "2023-12-14T15:47:19.072123",
     "status": "completed"
    },
    "tags": []
   },
   "outputs": [
    {
     "name": "stderr",
     "output_type": "stream",
     "text": [
      "/opt/conda/lib/python3.7/site-packages/pandas/core/indexing.py:1667: SettingWithCopyWarning: \n",
      "A value is trying to be set on a copy of a slice from a DataFrame.\n",
      "Try using .loc[row_indexer,col_indexer] = value instead\n",
      "\n",
      "See the caveats in the documentation: https://pandas.pydata.org/pandas-docs/stable/user_guide/indexing.html#returning-a-view-versus-a-copy\n",
      "  self.obj[key] = value\n"
     ]
    }
   ],
   "source": [
    "filtered_transactions.loc[:, 'purchased'] = 1"
   ]
  },
  {
   "cell_type": "code",
   "execution_count": 35,
   "id": "66753a16",
   "metadata": {
    "execution": {
     "iopub.execute_input": "2023-12-14T15:47:19.337950Z",
     "iopub.status.busy": "2023-12-14T15:47:19.337358Z",
     "iopub.status.idle": "2023-12-14T15:49:00.204315Z",
     "shell.execute_reply": "2023-12-14T15:49:00.204847Z",
     "shell.execute_reply.started": "2023-12-14T15:27:14.504226Z"
    },
    "papermill": {
     "duration": 100.952595,
     "end_time": "2023-12-14T15:49:00.205032",
     "exception": false,
     "start_time": "2023-12-14T15:47:19.252437",
     "status": "completed"
    },
    "tags": []
   },
   "outputs": [],
   "source": [
    "data = pd.concat([filtered_transactions, candidates_last_purchase_2020])\n",
    "data = pd.merge(data, bestsellers_2020[['article_id', 'bestseller_rank']], on = 'article_id', how = 'left')\n",
    "data = pd.merge(data, similarity[['image_number', 'similarity with item 929165002']], left_on = 'article_id', right_on = 'image_number', how = 'left')\n",
    "data.fillna(0, inplace = True)"
   ]
  },
  {
   "cell_type": "code",
   "execution_count": 36,
   "id": "4bf8a3cc",
   "metadata": {
    "execution": {
     "iopub.execute_input": "2023-12-14T15:49:00.375092Z",
     "iopub.status.busy": "2023-12-14T15:49:00.374493Z",
     "iopub.status.idle": "2023-12-14T15:49:03.379732Z",
     "shell.execute_reply": "2023-12-14T15:49:03.379194Z",
     "shell.execute_reply.started": "2023-12-14T15:28:55.021602Z"
    },
    "papermill": {
     "duration": 3.091526,
     "end_time": "2023-12-14T15:49:03.379870",
     "exception": false,
     "start_time": "2023-12-14T15:49:00.288344",
     "status": "completed"
    },
    "tags": []
   },
   "outputs": [],
   "source": [
    "#adding candidates info\n",
    "data = pd.merge(data, candidates_definitive[['customer_id', 'mean price purchases', 'most_present_gender_in_area', 'median_age_area']], on = 'customer_id', how = 'left')"
   ]
  },
  {
   "cell_type": "code",
   "execution_count": 37,
   "id": "6bc2eb48",
   "metadata": {
    "execution": {
     "iopub.execute_input": "2023-12-14T15:49:03.548363Z",
     "iopub.status.busy": "2023-12-14T15:49:03.547727Z",
     "iopub.status.idle": "2023-12-14T15:49:21.738758Z",
     "shell.execute_reply": "2023-12-14T15:49:21.738163Z",
     "shell.execute_reply.started": "2023-12-14T15:28:57.988190Z"
    },
    "papermill": {
     "duration": 18.276415,
     "end_time": "2023-12-14T15:49:21.738908",
     "exception": false,
     "start_time": "2023-12-14T15:49:03.462493",
     "status": "completed"
    },
    "tags": []
   },
   "outputs": [],
   "source": [
    "#adding initial datasets to my new dataset\n",
    "data = pd.merge(data, articles, on = 'article_id', how = 'left')\n",
    "data = pd.merge(data, customers, on = 'customer_id', how = 'left')"
   ]
  },
  {
   "cell_type": "code",
   "execution_count": 38,
   "id": "590e74ee",
   "metadata": {
    "execution": {
     "iopub.execute_input": "2023-12-14T15:49:21.904536Z",
     "iopub.status.busy": "2023-12-14T15:49:21.903887Z",
     "iopub.status.idle": "2023-12-14T15:49:27.091703Z",
     "shell.execute_reply": "2023-12-14T15:49:27.092462Z",
     "shell.execute_reply.started": "2023-12-14T15:29:16.092258Z"
    },
    "papermill": {
     "duration": 5.272734,
     "end_time": "2023-12-14T15:49:27.092686",
     "exception": false,
     "start_time": "2023-12-14T15:49:21.819952",
     "status": "completed"
    },
    "tags": []
   },
   "outputs": [],
   "source": [
    "data.sort_values(['week', 'customer_id'], inplace=True)\n",
    "data.reset_index(drop=True, inplace=True)"
   ]
  },
  {
   "cell_type": "code",
   "execution_count": 39,
   "id": "896e0b25",
   "metadata": {
    "execution": {
     "iopub.execute_input": "2023-12-14T15:49:27.259710Z",
     "iopub.status.busy": "2023-12-14T15:49:27.258949Z",
     "iopub.status.idle": "2023-12-14T15:49:31.835466Z",
     "shell.execute_reply": "2023-12-14T15:49:31.834849Z",
     "shell.execute_reply.started": "2023-12-14T15:29:21.262834Z"
    },
    "papermill": {
     "duration": 4.661137,
     "end_time": "2023-12-14T15:49:31.835603",
     "exception": false,
     "start_time": "2023-12-14T15:49:27.174466",
     "status": "completed"
    },
    "tags": []
   },
   "outputs": [],
   "source": [
    "train = data[data.week != test_week]\n",
    "test = data[data.week==test_week].drop_duplicates(['customer_id', 'article_id', 'sales_channel_id']).copy()"
   ]
  },
  {
   "cell_type": "code",
   "execution_count": 40,
   "id": "71070edf",
   "metadata": {
    "execution": {
     "iopub.execute_input": "2023-12-14T15:49:32.018459Z",
     "iopub.status.busy": "2023-12-14T15:49:32.017602Z",
     "iopub.status.idle": "2023-12-14T15:49:32.971975Z",
     "shell.execute_reply": "2023-12-14T15:49:32.972522Z",
     "shell.execute_reply.started": "2023-12-14T15:29:25.838714Z"
    },
    "papermill": {
     "duration": 1.053124,
     "end_time": "2023-12-14T15:49:32.972707",
     "exception": false,
     "start_time": "2023-12-14T15:49:31.919583",
     "status": "completed"
    },
    "tags": []
   },
   "outputs": [],
   "source": [
    "train_baskets = train.groupby(['week', 'customer_id'])['article_id'].count().values"
   ]
  },
  {
   "cell_type": "code",
   "execution_count": 41,
   "id": "486102f1",
   "metadata": {
    "execution": {
     "iopub.execute_input": "2023-12-14T15:49:33.141485Z",
     "iopub.status.busy": "2023-12-14T15:49:33.140739Z",
     "iopub.status.idle": "2023-12-14T15:49:33.143500Z",
     "shell.execute_reply": "2023-12-14T15:49:33.142990Z",
     "shell.execute_reply.started": "2023-12-14T15:29:26.816281Z"
    },
    "papermill": {
     "duration": 0.090299,
     "end_time": "2023-12-14T15:49:33.143626",
     "exception": false,
     "start_time": "2023-12-14T15:49:33.053327",
     "status": "completed"
    },
    "tags": []
   },
   "outputs": [],
   "source": [
    "columns_to_use = ['article_id', 'product_type_no', 'graphical_appearance_no', 'colour_group_code', 'perceived_colour_value_id',\n",
    "'perceived_colour_master_id', 'department_no', 'index_code', 'index_group_no', 'section_no', 'garment_group_no', 'FN', 'Active',\n",
    "'club_member_status', 'fashion_news_frequency', 'bestseller_rank', 'mean price purchases', 'most_present_gender_in_area', 'median_age_area',\n",
    "'numerical_gender', 'numerical_article_gender', 'similarity with item 929165002']"
   ]
  },
  {
   "cell_type": "code",
   "execution_count": 42,
   "id": "91681dda",
   "metadata": {
    "execution": {
     "iopub.execute_input": "2023-12-14T15:49:33.682653Z",
     "iopub.status.busy": "2023-12-14T15:49:33.581153Z",
     "iopub.status.idle": "2023-12-14T15:49:33.710291Z",
     "shell.execute_reply": "2023-12-14T15:49:33.709593Z",
     "shell.execute_reply.started": "2023-12-14T15:29:26.822492Z"
    },
    "papermill": {
     "duration": 0.487645,
     "end_time": "2023-12-14T15:49:33.710436",
     "exception": false,
     "start_time": "2023-12-14T15:49:33.222791",
     "status": "completed"
    },
    "tags": []
   },
   "outputs": [
    {
     "name": "stdout",
     "output_type": "stream",
     "text": [
      "CPU times: user 234 ms, sys: 167 ms, total: 401 ms\n",
      "Wall time: 400 ms\n"
     ]
    }
   ],
   "source": [
    "%%time\n",
    "\n",
    "train_X = train[columns_to_use]\n",
    "train_y = train['purchased']\n",
    "\n",
    "test_X = test[columns_to_use]"
   ]
  },
  {
   "cell_type": "markdown",
   "id": "445a6b6e",
   "metadata": {
    "papermill": {
     "duration": 0.07913,
     "end_time": "2023-12-14T15:49:33.871154",
     "exception": false,
     "start_time": "2023-12-14T15:49:33.792024",
     "status": "completed"
    },
    "tags": []
   },
   "source": [
    "# Model training"
   ]
  },
  {
   "cell_type": "code",
   "execution_count": 43,
   "id": "0429a06b",
   "metadata": {
    "execution": {
     "iopub.execute_input": "2023-12-14T15:49:34.034911Z",
     "iopub.status.busy": "2023-12-14T15:49:34.034319Z",
     "iopub.status.idle": "2023-12-14T15:49:36.587149Z",
     "shell.execute_reply": "2023-12-14T15:49:36.586549Z",
     "shell.execute_reply.started": "2023-12-14T15:29:27.232272Z"
    },
    "papermill": {
     "duration": 2.636483,
     "end_time": "2023-12-14T15:49:36.587317",
     "exception": false,
     "start_time": "2023-12-14T15:49:33.950834",
     "status": "completed"
    },
    "tags": []
   },
   "outputs": [
    {
     "data": {
      "text/html": [
       "<style type='text/css'>\n",
       ".datatable table.frame { margin-bottom: 0; }\n",
       ".datatable table.frame thead { border-bottom: none; }\n",
       ".datatable table.frame tr.coltypes td {  color: #FFFFFF;  line-height: 6px;  padding: 0 0.5em;}\n",
       ".datatable .bool    { background: #DDDD99; }\n",
       ".datatable .object  { background: #565656; }\n",
       ".datatable .int     { background: #5D9E5D; }\n",
       ".datatable .float   { background: #4040CC; }\n",
       ".datatable .str     { background: #CC4040; }\n",
       ".datatable .time    { background: #40CC40; }\n",
       ".datatable .row_index {  background: var(--jp-border-color3);  border-right: 1px solid var(--jp-border-color0);  color: var(--jp-ui-font-color3);  font-size: 9px;}\n",
       ".datatable .frame tbody td { text-align: left; }\n",
       ".datatable .frame tr.coltypes .row_index {  background: var(--jp-border-color0);}\n",
       ".datatable th:nth-child(2) { padding-left: 12px; }\n",
       ".datatable .hellipsis {  color: var(--jp-cell-editor-border-color);}\n",
       ".datatable .vellipsis {  background: var(--jp-layout-color0);  color: var(--jp-cell-editor-border-color);}\n",
       ".datatable .na {  color: var(--jp-cell-editor-border-color);  font-size: 80%;}\n",
       ".datatable .sp {  opacity: 0.25;}\n",
       ".datatable .footer { font-size: 9px; }\n",
       ".datatable .frame_dimensions {  background: var(--jp-border-color3);  border-top: 1px solid var(--jp-border-color0);  color: var(--jp-ui-font-color3);  display: inline-block;  opacity: 0.6;  padding: 1px 10px 1px 5px;}\n",
       ".datatable .frame thead tr.colnames {  background-image: url('data:image/png;base64,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');  background-repeat: repeat-x;  background-size: 14px;  height: 28px;}\n",
       "</style>\n"
      ],
      "text/plain": [
       "<IPython.core.display.HTML object>"
      ]
     },
     "metadata": {},
     "output_type": "display_data"
    }
   ],
   "source": [
    "from lightgbm.sklearn import LGBMRanker"
   ]
  },
  {
   "cell_type": "code",
   "execution_count": 44,
   "id": "60743d71",
   "metadata": {
    "execution": {
     "iopub.execute_input": "2023-12-14T15:49:36.766761Z",
     "iopub.status.busy": "2023-12-14T15:49:36.766028Z",
     "iopub.status.idle": "2023-12-14T15:49:36.769061Z",
     "shell.execute_reply": "2023-12-14T15:49:36.768560Z",
     "shell.execute_reply.started": "2023-12-14T15:29:29.300147Z"
    },
    "papermill": {
     "duration": 0.097495,
     "end_time": "2023-12-14T15:49:36.769220",
     "exception": false,
     "start_time": "2023-12-14T15:49:36.671725",
     "status": "completed"
    },
    "tags": []
   },
   "outputs": [],
   "source": [
    "ranker = LGBMRanker(\n",
    "    objective=\"lambdarank\",\n",
    "    metric=\"ndcg\",\n",
    "    boosting_type=\"dart\",\n",
    "    n_estimators=1,\n",
    "    importance_type='gain',\n",
    "    verbose=10\n",
    ")"
   ]
  },
  {
   "cell_type": "code",
   "execution_count": 45,
   "id": "a83eaaf2",
   "metadata": {
    "execution": {
     "iopub.execute_input": "2023-12-14T15:49:36.965466Z",
     "iopub.status.busy": "2023-12-14T15:49:36.964697Z",
     "iopub.status.idle": "2023-12-14T15:49:46.720679Z",
     "shell.execute_reply": "2023-12-14T15:49:46.721472Z",
     "shell.execute_reply.started": "2023-12-14T15:29:29.306723Z"
    },
    "papermill": {
     "duration": 9.858152,
     "end_time": "2023-12-14T15:49:46.721658",
     "exception": false,
     "start_time": "2023-12-14T15:49:36.863506",
     "status": "completed"
    },
    "tags": []
   },
   "outputs": [
    {
     "name": "stdout",
     "output_type": "stream",
     "text": [
      "[LightGBM] [Warning] Found whitespace in feature_names, replace with underlines\n",
      "[LightGBM] [Debug] Dataset::GetMultiBinFromSparseFeatures: sparse rate 0.786548\n",
      "[LightGBM] [Debug] Dataset::GetMultiBinFromAllFeatures: sparse rate 0.201759\n",
      "[LightGBM] [Debug] init for col-wise cost 0.251642 seconds, init for row-wise cost 1.912674 seconds\n",
      "[LightGBM] [Warning] Auto-choosing row-wise multi-threading, the overhead of testing was 0.821353 seconds.\n",
      "You can set `force_row_wise=true` to remove the overhead.\n",
      "And if memory is not enough, you can set `force_col_wise=true`.\n",
      "[LightGBM] [Debug] Using Dense Multi-Val Bin\n",
      "[LightGBM] [Info] Total Bins 1384\n",
      "[LightGBM] [Info] Number of data points in the train set: 10264565, number of used features: 22\n",
      "[LightGBM] [Debug] Trained a tree with leaves = 31 and depth = 10\n",
      "CPU times: user 28.2 s, sys: 1.32 s, total: 29.6 s\n",
      "Wall time: 9.75 s\n"
     ]
    }
   ],
   "source": [
    "%%time\n",
    "\n",
    "ranker = ranker.fit(\n",
    "    train_X,\n",
    "    train_y,\n",
    "    group = train_baskets,\n",
    ")"
   ]
  },
  {
   "cell_type": "code",
   "execution_count": 46,
   "id": "7bd195b1",
   "metadata": {
    "execution": {
     "iopub.execute_input": "2023-12-14T15:49:46.901458Z",
     "iopub.status.busy": "2023-12-14T15:49:46.899489Z",
     "iopub.status.idle": "2023-12-14T15:49:46.911237Z",
     "shell.execute_reply": "2023-12-14T15:49:46.910742Z",
     "shell.execute_reply.started": "2023-12-14T15:29:39.063999Z"
    },
    "papermill": {
     "duration": 0.103666,
     "end_time": "2023-12-14T15:49:46.911369",
     "exception": false,
     "start_time": "2023-12-14T15:49:46.807703",
     "status": "completed"
    },
    "tags": []
   },
   "outputs": [
    {
     "name": "stdout",
     "output_type": "stream",
     "text": [
      "article_id 0.39634584470166895\n",
      "bestseller_rank 0.2829809750715128\n",
      "product_type_no 0.10079214956776665\n",
      "department_no 0.08913656047808187\n",
      "section_no 0.03509984268867263\n",
      "garment_group_no 0.034778985825386625\n",
      "perceived_colour_master_id 0.016714483179840506\n",
      "graphical_appearance_no 0.015614528310100352\n",
      "similarity with item 929165002 0.015199392607633542\n",
      "index_group_no 0.013337237569336044\n",
      "mean price purchases 0.0\n",
      "fashion_news_frequency 0.0\n",
      "club_member_status 0.0\n",
      "Active 0.0\n",
      "FN 0.0\n",
      "numerical_article_gender 0.0\n",
      "most_present_gender_in_area 0.0\n",
      "index_code 0.0\n",
      "median_age_area 0.0\n",
      "perceived_colour_value_id 0.0\n",
      "colour_group_code 0.0\n",
      "numerical_gender 0.0\n"
     ]
    }
   ],
   "source": [
    "for i in ranker.feature_importances_.argsort()[::-1]:\n",
    "    print(columns_to_use[i], ranker.feature_importances_[i]/ranker.feature_importances_.sum())"
   ]
  },
  {
   "cell_type": "markdown",
   "id": "0b77b63d",
   "metadata": {
    "papermill": {
     "duration": 0.08776,
     "end_time": "2023-12-14T15:49:47.083182",
     "exception": false,
     "start_time": "2023-12-14T15:49:46.995422",
     "status": "completed"
    },
    "tags": []
   },
   "source": [
    "# Calculate predictions"
   ]
  },
  {
   "cell_type": "code",
   "execution_count": 47,
   "id": "c667f3a3",
   "metadata": {
    "execution": {
     "iopub.execute_input": "2023-12-14T15:49:47.258777Z",
     "iopub.status.busy": "2023-12-14T15:49:47.258137Z",
     "iopub.status.idle": "2023-12-14T15:50:02.327884Z",
     "shell.execute_reply": "2023-12-14T15:50:02.327364Z",
     "shell.execute_reply.started": "2023-12-14T15:29:39.082028Z"
    },
    "papermill": {
     "duration": 15.160566,
     "end_time": "2023-12-14T15:50:02.328040",
     "exception": false,
     "start_time": "2023-12-14T15:49:47.167474",
     "status": "completed"
    },
    "tags": []
   },
   "outputs": [
    {
     "name": "stdout",
     "output_type": "stream",
     "text": [
      "CPU times: user 3 µs, sys: 1e+03 ns, total: 4 µs\n",
      "Wall time: 7.15 µs\n"
     ]
    }
   ],
   "source": [
    "%time\n",
    "\n",
    "test['preds'] = ranker.predict(test_X)\n",
    "\n",
    "c_id2predicted_article_ids = test \\\n",
    "    .sort_values(['customer_id', 'preds'], ascending=False) \\\n",
    "    .groupby('customer_id')['article_id'].apply(list).to_dict()\n",
    "\n",
    "bestsellers_2020_all = \\\n",
    "    bestsellers_2020[bestsellers_2020.week == bestsellers_2020.week.max()]['article_id'].tolist()"
   ]
  },
  {
   "cell_type": "markdown",
   "id": "84ebb0c7",
   "metadata": {
    "papermill": {
     "duration": 0.086225,
     "end_time": "2023-12-14T15:50:02.499213",
     "exception": false,
     "start_time": "2023-12-14T15:50:02.412988",
     "status": "completed"
    },
    "tags": []
   },
   "source": [
    "# Create submission"
   ]
  },
  {
   "cell_type": "code",
   "execution_count": 48,
   "id": "62e0ef91",
   "metadata": {
    "execution": {
     "iopub.execute_input": "2023-12-14T15:50:02.675836Z",
     "iopub.status.busy": "2023-12-14T15:50:02.675111Z",
     "iopub.status.idle": "2023-12-14T15:50:08.745934Z",
     "shell.execute_reply": "2023-12-14T15:50:08.745332Z",
     "shell.execute_reply.started": "2023-12-14T15:29:53.829746Z"
    },
    "papermill": {
     "duration": 6.160817,
     "end_time": "2023-12-14T15:50:08.746087",
     "exception": false,
     "start_time": "2023-12-14T15:50:02.585270",
     "status": "completed"
    },
    "tags": []
   },
   "outputs": [],
   "source": [
    "sub = pd.read_csv('/kaggle/input/h-and-m-personalized-fashion-recommendations/sample_submission.csv')"
   ]
  },
  {
   "cell_type": "code",
   "execution_count": 49,
   "id": "a11713e5",
   "metadata": {
    "execution": {
     "iopub.execute_input": "2023-12-14T15:50:09.092347Z",
     "iopub.status.busy": "2023-12-14T15:50:09.091654Z",
     "iopub.status.idle": "2023-12-14T15:50:16.953017Z",
     "shell.execute_reply": "2023-12-14T15:50:16.952450Z",
     "shell.execute_reply.started": "2023-12-14T15:29:58.690476Z"
    },
    "papermill": {
     "duration": 8.111748,
     "end_time": "2023-12-14T15:50:16.953195",
     "exception": false,
     "start_time": "2023-12-14T15:50:08.841447",
     "status": "completed"
    },
    "tags": []
   },
   "outputs": [
    {
     "name": "stdout",
     "output_type": "stream",
     "text": [
      "CPU times: user 7.58 s, sys: 431 ms, total: 8.01 s\n",
      "Wall time: 8.01 s\n"
     ]
    }
   ],
   "source": [
    "%%time\n",
    "preds = []\n",
    "for c_id in customer_hex_id_to_int(sub.customer_id):\n",
    "    pred = c_id2predicted_article_ids.get(c_id, [])\n",
    "    pred = pred + bestsellers_2020_all\n",
    "    preds.append(pred[:50])"
   ]
  },
  {
   "cell_type": "code",
   "execution_count": 50,
   "id": "0f9265e4",
   "metadata": {
    "execution": {
     "iopub.execute_input": "2023-12-14T15:50:17.206726Z",
     "iopub.status.busy": "2023-12-14T15:50:17.171008Z",
     "iopub.status.idle": "2023-12-14T15:50:40.547720Z",
     "shell.execute_reply": "2023-12-14T15:50:40.547137Z",
     "shell.execute_reply.started": "2023-12-14T15:30:06.352763Z"
    },
    "papermill": {
     "duration": 23.500217,
     "end_time": "2023-12-14T15:50:40.547858",
     "exception": false,
     "start_time": "2023-12-14T15:50:17.047641",
     "status": "completed"
    },
    "tags": []
   },
   "outputs": [],
   "source": [
    "preds = [' '.join(['0' + str(p) for p in ps]) for ps in preds]\n",
    "sub.prediction = preds"
   ]
  },
  {
   "cell_type": "code",
   "execution_count": 51,
   "id": "a8d91709",
   "metadata": {
    "execution": {
     "iopub.execute_input": "2023-12-14T15:50:40.723301Z",
     "iopub.status.busy": "2023-12-14T15:50:40.722511Z",
     "iopub.status.idle": "2023-12-14T15:51:13.641792Z",
     "shell.execute_reply": "2023-12-14T15:51:13.641019Z",
     "shell.execute_reply.started": "2023-12-14T15:30:28.830451Z"
    },
    "papermill": {
     "duration": 33.008334,
     "end_time": "2023-12-14T15:51:13.641953",
     "exception": false,
     "start_time": "2023-12-14T15:50:40.633619",
     "status": "completed"
    },
    "tags": []
   },
   "outputs": [],
   "source": [
    "sub_name = 'submission'\n",
    "sub.to_csv(f'{sub_name}.csv', index=False)"
   ]
  },
  {
   "cell_type": "markdown",
   "id": "562e0d17",
   "metadata": {
    "papermill": {
     "duration": 0.084814,
     "end_time": "2023-12-14T15:51:13.816692",
     "exception": false,
     "start_time": "2023-12-14T15:51:13.731878",
     "status": "completed"
    },
    "tags": []
   },
   "source": [
    "# Evaluation of the model V1"
   ]
  },
  {
   "cell_type": "code",
   "execution_count": 52,
   "id": "c9eef2c6",
   "metadata": {
    "execution": {
     "iopub.execute_input": "2023-12-14T15:51:13.999532Z",
     "iopub.status.busy": "2023-12-14T15:51:13.998715Z",
     "iopub.status.idle": "2023-12-14T15:51:14.001617Z",
     "shell.execute_reply": "2023-12-14T15:51:14.002072Z",
     "shell.execute_reply.started": "2023-12-14T15:31:01.836747Z"
    },
    "papermill": {
     "duration": 0.097819,
     "end_time": "2023-12-14T15:51:14.002232",
     "exception": false,
     "start_time": "2023-12-14T15:51:13.904413",
     "status": "completed"
    },
    "tags": []
   },
   "outputs": [
    {
     "data": {
      "text/plain": [
       "Index(['t_dat', 'customer_id', 'article_id', 'price', 'sales_channel_id',\n",
       "       'week', 'purchased', 'bestseller_rank', 'image_number',\n",
       "       'similarity with item 929165002', 'mean price purchases',\n",
       "       'most_present_gender_in_area', 'median_age_area', 'product_code',\n",
       "       'prod_name', 'product_type_no', 'product_type_name',\n",
       "       'product_group_name', 'graphical_appearance_no',\n",
       "       'graphical_appearance_name', 'colour_group_code', 'colour_group_name',\n",
       "       'perceived_colour_value_id', 'perceived_colour_value_name',\n",
       "       'perceived_colour_master_id', 'perceived_colour_master_name',\n",
       "       'department_no', 'department_name', 'index_code', 'index_name',\n",
       "       'index_group_no', 'index_group_name', 'section_no', 'section_name',\n",
       "       'garment_group_no', 'garment_group_name', 'detail_desc',\n",
       "       'numerical_article_gender', 'FN', 'Active', 'club_member_status',\n",
       "       'fashion_news_frequency', 'age', 'postal_code', 'numerical_gender',\n",
       "       'preds'],\n",
       "      dtype='object')"
      ]
     },
     "execution_count": 52,
     "metadata": {},
     "output_type": "execute_result"
    }
   ],
   "source": [
    "test.columns"
   ]
  },
  {
   "cell_type": "code",
   "execution_count": 53,
   "id": "5f0af2c9",
   "metadata": {
    "execution": {
     "iopub.execute_input": "2023-12-14T15:51:14.188885Z",
     "iopub.status.busy": "2023-12-14T15:51:14.188253Z",
     "iopub.status.idle": "2023-12-14T15:53:03.271468Z",
     "shell.execute_reply": "2023-12-14T15:53:03.270853Z",
     "shell.execute_reply.started": "2023-12-14T15:31:01.845236Z"
    },
    "papermill": {
     "duration": 109.179653,
     "end_time": "2023-12-14T15:53:03.271680",
     "exception": false,
     "start_time": "2023-12-14T15:51:14.092027",
     "status": "completed"
    },
    "tags": []
   },
   "outputs": [],
   "source": [
    "clothes_purchased = []\n",
    "filtered_transactions = filtered_transactions.reset_index(drop = True)\n",
    "\n",
    "for index, purchase in enumerate(filtered_transactions['purchased']):\n",
    "    if purchase == 1:\n",
    "        clothes_purchased.append(filtered_transactions.at[index, 'article_id'])"
   ]
  },
  {
   "cell_type": "code",
   "execution_count": 54,
   "id": "66b35e1c",
   "metadata": {
    "execution": {
     "iopub.execute_input": "2023-12-14T15:53:03.469136Z",
     "iopub.status.busy": "2023-12-14T15:53:03.468105Z",
     "iopub.status.idle": "2023-12-14T15:53:03.470961Z",
     "shell.execute_reply": "2023-12-14T15:53:03.470393Z",
     "shell.execute_reply.started": "2023-12-14T15:32:43.163110Z"
    },
    "papermill": {
     "duration": 0.102459,
     "end_time": "2023-12-14T15:53:03.471102",
     "exception": false,
     "start_time": "2023-12-14T15:53:03.368643",
     "status": "completed"
    },
    "tags": []
   },
   "outputs": [],
   "source": [
    "#value of k to calculate precision, recall\n",
    "k_value = [10, 20, 50, 100]"
   ]
  },
  {
   "cell_type": "code",
   "execution_count": 55,
   "id": "bf0b001f",
   "metadata": {
    "execution": {
     "iopub.execute_input": "2023-12-14T15:53:03.671636Z",
     "iopub.status.busy": "2023-12-14T15:53:03.670774Z",
     "iopub.status.idle": "2023-12-14T15:53:03.673763Z",
     "shell.execute_reply": "2023-12-14T15:53:03.673231Z",
     "shell.execute_reply.started": "2023-12-14T15:32:43.168021Z"
    },
    "papermill": {
     "duration": 0.104561,
     "end_time": "2023-12-14T15:53:03.673894",
     "exception": false,
     "start_time": "2023-12-14T15:53:03.569333",
     "status": "completed"
    },
    "tags": []
   },
   "outputs": [],
   "source": [
    "#precision at K \n",
    "def precision_at_k(clothes_purchased, preds, k):\n",
    "    predicted_at_k = preds[:k]\n",
    "    relevant_at_k = clothes_purchased and predicted_at_k\n",
    "    precision = len(relevant_at_k) / k\n",
    "    return precision\n",
    "\n",
    "\n",
    "#precision = precision_at_k(clothes_purchased, preds, k_value)\n",
    "#print(f'Precision at {k_value}: {precision}')"
   ]
  },
  {
   "cell_type": "code",
   "execution_count": 56,
   "id": "dd18eff3",
   "metadata": {
    "execution": {
     "iopub.execute_input": "2023-12-14T15:53:03.867251Z",
     "iopub.status.busy": "2023-12-14T15:53:03.866368Z",
     "iopub.status.idle": "2023-12-14T15:53:03.869071Z",
     "shell.execute_reply": "2023-12-14T15:53:03.868516Z",
     "shell.execute_reply.started": "2023-12-14T15:32:43.178580Z"
    },
    "papermill": {
     "duration": 0.104593,
     "end_time": "2023-12-14T15:53:03.869237",
     "exception": false,
     "start_time": "2023-12-14T15:53:03.764644",
     "status": "completed"
    },
    "tags": []
   },
   "outputs": [],
   "source": [
    "#recall at k\n",
    "def recall_at_k(clothes_purchased, preds, k):\n",
    "    predicted_at_k = preds[:k]\n",
    "    relevant_at_k = clothes_purchased and predicted_at_k\n",
    "    recall_at_k = len(relevant_at_k) / len(clothes_purchased)\n",
    "    return recall_at_k\n",
    "\n",
    "#recall = recall_at_k(clothes_purchased, preds, k_value)\n",
    "#print(f'Recall at {k_value}: {recall}')"
   ]
  },
  {
   "cell_type": "code",
   "execution_count": 57,
   "id": "b5432374",
   "metadata": {
    "execution": {
     "iopub.execute_input": "2023-12-14T15:53:04.067686Z",
     "iopub.status.busy": "2023-12-14T15:53:04.066860Z",
     "iopub.status.idle": "2023-12-14T15:53:04.070494Z",
     "shell.execute_reply": "2023-12-14T15:53:04.069824Z",
     "shell.execute_reply.started": "2023-12-14T15:32:43.187359Z"
    },
    "papermill": {
     "duration": 0.106246,
     "end_time": "2023-12-14T15:53:04.070631",
     "exception": false,
     "start_time": "2023-12-14T15:53:03.964385",
     "status": "completed"
    },
    "tags": []
   },
   "outputs": [
    {
     "name": "stdout",
     "output_type": "stream",
     "text": [
      "Precision at 10: 1.0000, Recall at 10: 0.0000019412\n",
      "Precision at 20: 1.0000, Recall at 20: 0.0000038824\n",
      "Precision at 50: 1.0000, Recall at 50: 0.0000097060\n",
      "Precision at 100: 1.0000, Recall at 100: 0.0000194119\n"
     ]
    }
   ],
   "source": [
    "precisions = []\n",
    "recalls = []\n",
    "\n",
    "for k in k_value:\n",
    "    precision = precision_at_k(clothes_purchased, preds, k)\n",
    "    recall = recall_at_k(clothes_purchased, preds, k)\n",
    "    precisions.append(precision)\n",
    "    recalls.append(recall)\n",
    "    print(f'Precision at {k}: {precision:.4f}, Recall at {k}: {recall:.10f}')"
   ]
  },
  {
   "cell_type": "code",
   "execution_count": 58,
   "id": "ec731e4e",
   "metadata": {
    "execution": {
     "iopub.execute_input": "2023-12-14T15:53:04.359231Z",
     "iopub.status.busy": "2023-12-14T15:53:04.355309Z",
     "iopub.status.idle": "2023-12-14T15:53:04.703314Z",
     "shell.execute_reply": "2023-12-14T15:53:04.702687Z",
     "shell.execute_reply.started": "2023-12-14T15:32:43.273686Z"
    },
    "papermill": {
     "duration": 0.540073,
     "end_time": "2023-12-14T15:53:04.703472",
     "exception": false,
     "start_time": "2023-12-14T15:53:04.163399",
     "status": "completed"
    },
    "tags": []
   },
   "outputs": [
    {
     "data": {
      "image/png": "[encoded data removed]",
      "text/plain": [
       "<Figure size 432x288 with 1 Axes>"
      ]
     },
     "metadata": {
      "needs_background": "light"
     },
     "output_type": "display_data"
    }
   ],
   "source": [
    "#graph about recall\n",
    "\n",
    "plt.plot(k_value, recalls, label = 'Recall')\n",
    "plt.xlabel('K')\n",
    "plt.ylabel('Value')\n",
    "plt.title('Recall at K')\n",
    "plt.legend()\n",
    "plt.show()"
   ]
  },
  {
   "cell_type": "code",
   "execution_count": 59,
   "id": "ad15ac9b",
   "metadata": {
    "execution": {
     "iopub.execute_input": "2023-12-14T15:53:04.928835Z",
     "iopub.status.busy": "2023-12-14T15:53:04.912956Z",
     "iopub.status.idle": "2023-12-14T15:53:05.085893Z",
     "shell.execute_reply": "2023-12-14T15:53:05.086458Z",
     "shell.execute_reply.started": "2023-12-14T15:32:43.607829Z"
    },
    "papermill": {
     "duration": 0.282767,
     "end_time": "2023-12-14T15:53:05.086637",
     "exception": false,
     "start_time": "2023-12-14T15:53:04.803870",
     "status": "completed"
    },
    "tags": []
   },
   "outputs": [
    {
     "data": {
      "image/png": "[encoded data removed]",
      "text/plain": [
       "<Figure size 432x288 with 1 Axes>"
      ]
     },
     "metadata": {
      "needs_background": "light"
     },
     "output_type": "display_data"
    }
   ],
   "source": [
    "#graph about precision\n",
    "\n",
    "plt.plot(k_value, precisions, label = 'Precision')\n",
    "plt.xlabel('K')\n",
    "plt.ylabel('Value')\n",
    "plt.title('Precision at K')\n",
    "plt.legend()\n",
    "plt.show()"
   ]
  },
  {
   "cell_type": "markdown",
   "id": "444103fe",
   "metadata": {
    "papermill": {
     "duration": 0.100408,
     "end_time": "2023-12-14T15:53:05.284829",
     "exception": false,
     "start_time": "2023-12-14T15:53:05.184421",
     "status": "completed"
    },
    "tags": []
   },
   "source": [
    "# Evaluation of the model V2"
   ]
  },
  {
   "cell_type": "code",
   "execution_count": 60,
   "id": "9d369814",
   "metadata": {
    "execution": {
     "iopub.execute_input": "2023-12-14T15:53:05.486621Z",
     "iopub.status.busy": "2023-12-14T15:53:05.485578Z",
     "iopub.status.idle": "2023-12-14T15:54:05.280001Z",
     "shell.execute_reply": "2023-12-14T15:54:05.279447Z",
     "shell.execute_reply.started": "2023-12-14T15:32:43.819526Z"
    },
    "papermill": {
     "duration": 59.895085,
     "end_time": "2023-12-14T15:54:05.280164",
     "exception": false,
     "start_time": "2023-12-14T15:53:05.385079",
     "status": "completed"
    },
    "tags": []
   },
   "outputs": [
    {
     "name": "stdout",
     "output_type": "stream",
     "text": [
      "Collecting recmetrics\r\n",
      "  Downloading recmetrics-0.1.5-py3-none-any.whl (9.3 kB)\r\n",
      "Requirement already satisfied: jupyter<2.0.0,>=1.0.0 in /opt/conda/lib/python3.7/site-packages (from recmetrics) (1.0.0)\r\n",
      "Requirement already satisfied: scipy<2.0.0,>=1.5.2 in /opt/conda/lib/python3.7/site-packages (from recmetrics) (1.7.3)\r\n",
      "Collecting twine<5.0.0,>=4.0.0\r\n",
      "  Downloading twine-4.0.2-py3-none-any.whl (36 kB)\r\n",
      "Requirement already satisfied: ipython<8.0.0,>=7.18.1 in /opt/conda/lib/python3.7/site-packages (from recmetrics) (7.30.1)\r\n",
      "Collecting funcsigs<2.0.0,>=1.0.2\r\n",
      "  Downloading funcsigs-1.0.2-py2.py3-none-any.whl (17 kB)\r\n",
      "Collecting pytest-cov<3.0.0,>=2.10.1\r\n",
      "  Downloading pytest_cov-2.12.1-py2.py3-none-any.whl (20 kB)\r\n",
      "Collecting scikit-learn<2.0.0,>=1.0.2\r\n",
      "  Downloading scikit_learn-1.0.2-cp37-cp37m-manylinux_2_17_x86_64.manylinux2014_x86_64.whl (24.8 MB)\r\n",
      "     |████████████████████████████████| 24.8 MB 33.1 MB/s            \r\n",
      "\u001b[?25hCollecting plotly<5.0.0,>=4.11.0\r\n",
      "  Downloading plotly-4.14.3-py2.py3-none-any.whl (13.2 MB)\r\n",
      "     |████████████████████████████████| 13.2 MB 54.8 MB/s            \r\n",
      "\u001b[?25hRequirement already satisfied: seaborn<0.12.0,>=0.11.0 in /opt/conda/lib/python3.7/site-packages (from recmetrics) (0.11.2)\r\n",
      "Requirement already satisfied: matplotlib<4.0.0,>=3.3.2 in /opt/conda/lib/python3.7/site-packages (from recmetrics) (3.5.1)\r\n",
      "Requirement already satisfied: pandas<2.0.0,>=1.1.3 in /opt/conda/lib/python3.7/site-packages (from recmetrics) (1.3.5)\r\n",
      "Requirement already satisfied: traitlets>=4.2 in /opt/conda/lib/python3.7/site-packages (from ipython<8.0.0,>=7.18.1->recmetrics) (5.1.1)\r\n",
      "Requirement already satisfied: decorator in /opt/conda/lib/python3.7/site-packages (from ipython<8.0.0,>=7.18.1->recmetrics) (5.1.0)\r\n",
      "Requirement already satisfied: prompt-toolkit!=3.0.0,!=3.0.1,<3.1.0,>=2.0.0 in /opt/conda/lib/python3.7/site-packages (from ipython<8.0.0,>=7.18.1->recmetrics) (3.0.24)\r\n",
      "Requirement already satisfied: backcall in /opt/conda/lib/python3.7/site-packages (from ipython<8.0.0,>=7.18.1->recmetrics) (0.2.0)\r\n",
      "Requirement already satisfied: setuptools>=18.5 in /opt/conda/lib/python3.7/site-packages (from ipython<8.0.0,>=7.18.1->recmetrics) (59.5.0)\r\n",
      "Requirement already satisfied: pexpect>4.3 in /opt/conda/lib/python3.7/site-packages (from ipython<8.0.0,>=7.18.1->recmetrics) (4.8.0)\r\n",
      "Requirement already satisfied: pickleshare in /opt/conda/lib/python3.7/site-packages (from ipython<8.0.0,>=7.18.1->recmetrics) (0.7.5)\r\n",
      "Requirement already satisfied: pygments in /opt/conda/lib/python3.7/site-packages (from ipython<8.0.0,>=7.18.1->recmetrics) (2.10.0)\r\n",
      "Requirement already satisfied: jedi>=0.16 in /opt/conda/lib/python3.7/site-packages (from ipython<8.0.0,>=7.18.1->recmetrics) (0.18.1)\r\n",
      "Requirement already satisfied: matplotlib-inline in /opt/conda/lib/python3.7/site-packages (from ipython<8.0.0,>=7.18.1->recmetrics) (0.1.3)\r\n",
      "Requirement already satisfied: qtconsole in /opt/conda/lib/python3.7/site-packages (from jupyter<2.0.0,>=1.0.0->recmetrics) (5.2.2)\r\n",
      "Requirement already satisfied: notebook in /opt/conda/lib/python3.7/site-packages (from jupyter<2.0.0,>=1.0.0->recmetrics) (6.4.6)\r\n",
      "Requirement already satisfied: ipywidgets in /opt/conda/lib/python3.7/site-packages (from jupyter<2.0.0,>=1.0.0->recmetrics) (7.6.5)\r\n",
      "Requirement already satisfied: jupyter-console in /opt/conda/lib/python3.7/site-packages (from jupyter<2.0.0,>=1.0.0->recmetrics) (6.4.0)\r\n",
      "Requirement already satisfied: nbconvert in /opt/conda/lib/python3.7/site-packages (from jupyter<2.0.0,>=1.0.0->recmetrics) (6.3.0)\r\n",
      "Requirement already satisfied: ipykernel in /opt/conda/lib/python3.7/site-packages (from jupyter<2.0.0,>=1.0.0->recmetrics) (6.6.0)\r\n",
      "Requirement already satisfied: python-dateutil>=2.7 in /opt/conda/lib/python3.7/site-packages (from matplotlib<4.0.0,>=3.3.2->recmetrics) (2.8.2)\r\n",
      "Requirement already satisfied: pyparsing>=2.2.1 in /opt/conda/lib/python3.7/site-packages (from matplotlib<4.0.0,>=3.3.2->recmetrics) (3.0.6)\r\n",
      "Requirement already satisfied: kiwisolver>=1.0.1 in /opt/conda/lib/python3.7/site-packages (from matplotlib<4.0.0,>=3.3.2->recmetrics) (1.3.2)\r\n",
      "Requirement already satisfied: pillow>=6.2.0 in /opt/conda/lib/python3.7/site-packages (from matplotlib<4.0.0,>=3.3.2->recmetrics) (8.2.0)\r\n",
      "Requirement already satisfied: cycler>=0.10 in /opt/conda/lib/python3.7/site-packages (from matplotlib<4.0.0,>=3.3.2->recmetrics) (0.11.0)\r\n",
      "Requirement already satisfied: numpy>=1.17 in /opt/conda/lib/python3.7/site-packages (from matplotlib<4.0.0,>=3.3.2->recmetrics) (1.20.3)\r\n",
      "Requirement already satisfied: packaging>=20.0 in /opt/conda/lib/python3.7/site-packages (from matplotlib<4.0.0,>=3.3.2->recmetrics) (21.3)\r\n",
      "Requirement already satisfied: fonttools>=4.22.0 in /opt/conda/lib/python3.7/site-packages (from matplotlib<4.0.0,>=3.3.2->recmetrics) (4.28.4)\r\n",
      "Requirement already satisfied: pytz>=2017.3 in /opt/conda/lib/python3.7/site-packages (from pandas<2.0.0,>=1.1.3->recmetrics) (2021.3)\r\n",
      "Requirement already satisfied: six in /opt/conda/lib/python3.7/site-packages (from plotly<5.0.0,>=4.11.0->recmetrics) (1.16.0)\r\n",
      "Requirement already satisfied: retrying>=1.3.3 in /opt/conda/lib/python3.7/site-packages (from plotly<5.0.0,>=4.11.0->recmetrics) (1.3.3)\r\n",
      "Collecting coverage>=5.2.1\r\n",
      "  Downloading coverage-7.2.7-cp37-cp37m-manylinux_2_5_x86_64.manylinux1_x86_64.manylinux_2_17_x86_64.manylinux2014_x86_64.whl (225 kB)\r\n",
      "     |████████████████████████████████| 225 kB 55.6 MB/s            \r\n",
      "\u001b[?25hRequirement already satisfied: toml in /opt/conda/lib/python3.7/site-packages (from pytest-cov<3.0.0,>=2.10.1->recmetrics) (0.10.2)\r\n",
      "Requirement already satisfied: pytest>=4.6 in /opt/conda/lib/python3.7/site-packages (from pytest-cov<3.0.0,>=2.10.1->recmetrics) (7.1.0)\r\n",
      "Requirement already satisfied: joblib>=0.11 in /opt/conda/lib/python3.7/site-packages (from scikit-learn<2.0.0,>=1.0.2->recmetrics) (1.1.0)\r\n",
      "Requirement already satisfied: threadpoolctl>=2.0.0 in /opt/conda/lib/python3.7/site-packages (from scikit-learn<2.0.0,>=1.0.2->recmetrics) (3.0.0)\r\n",
      "Collecting requests-toolbelt!=0.9.0,>=0.8.0\r\n",
      "  Downloading requests_toolbelt-1.0.0-py2.py3-none-any.whl (54 kB)\r\n",
      "     |████████████████████████████████| 54 kB 2.4 MB/s             \r\n",
      "\u001b[?25hCollecting rfc3986>=1.4.0\r\n",
      "  Downloading rfc3986-2.0.0-py2.py3-none-any.whl (31 kB)\r\n",
      "Requirement already satisfied: urllib3>=1.26.0 in /opt/conda/lib/python3.7/site-packages (from twine<5.0.0,>=4.0.0->recmetrics) (1.26.7)\r\n",
      "Requirement already satisfied: keyring>=15.1 in /opt/conda/lib/python3.7/site-packages (from twine<5.0.0,>=4.0.0->recmetrics) (23.4.0)\r\n",
      "Collecting pkginfo>=1.8.1\r\n",
      "  Downloading pkginfo-1.9.6-py3-none-any.whl (30 kB)\r\n",
      "Requirement already satisfied: requests>=2.20 in /opt/conda/lib/python3.7/site-packages (from twine<5.0.0,>=4.0.0->recmetrics) (2.26.0)\r\n",
      "Collecting readme-renderer>=35.0\r\n",
      "  Downloading readme_renderer-37.3-py3-none-any.whl (14 kB)\r\n",
      "Requirement already satisfied: rich>=12.0.0 in /opt/conda/lib/python3.7/site-packages (from twine<5.0.0,>=4.0.0->recmetrics) (12.0.0)\r\n",
      "Requirement already satisfied: importlib-metadata>=3.6 in /opt/conda/lib/python3.7/site-packages (from twine<5.0.0,>=4.0.0->recmetrics) (4.11.3)\r\n",
      "Requirement already satisfied: zipp>=0.5 in /opt/conda/lib/python3.7/site-packages (from importlib-metadata>=3.6->twine<5.0.0,>=4.0.0->recmetrics) (3.6.0)\r\n",
      "Requirement already satisfied: typing-extensions>=3.6.4 in /opt/conda/lib/python3.7/site-packages (from importlib-metadata>=3.6->twine<5.0.0,>=4.0.0->recmetrics) (4.1.1)\r\n",
      "Requirement already satisfied: parso<0.9.0,>=0.8.0 in /opt/conda/lib/python3.7/site-packages (from jedi>=0.16->ipython<8.0.0,>=7.18.1->recmetrics) (0.8.3)\r\n",
      "Requirement already satisfied: jeepney>=0.4.2 in /opt/conda/lib/python3.7/site-packages (from keyring>=15.1->twine<5.0.0,>=4.0.0->recmetrics) (0.7.1)\r\n",
      "Requirement already satisfied: SecretStorage>=3.2 in /opt/conda/lib/python3.7/site-packages (from keyring>=15.1->twine<5.0.0,>=4.0.0->recmetrics) (3.3.1)\r\n",
      "Requirement already satisfied: ptyprocess>=0.5 in /opt/conda/lib/python3.7/site-packages (from pexpect>4.3->ipython<8.0.0,>=7.18.1->recmetrics) (0.7.0)\r\n",
      "Requirement already satisfied: wcwidth in /opt/conda/lib/python3.7/site-packages (from prompt-toolkit!=3.0.0,!=3.0.1,<3.1.0,>=2.0.0->ipython<8.0.0,>=7.18.1->recmetrics) (0.2.5)\r\n",
      "Requirement already satisfied: py>=1.8.2 in /opt/conda/lib/python3.7/site-packages (from pytest>=4.6->pytest-cov<3.0.0,>=2.10.1->recmetrics) (1.11.0)\r\n",
      "Requirement already satisfied: pluggy<2.0,>=0.12 in /opt/conda/lib/python3.7/site-packages (from pytest>=4.6->pytest-cov<3.0.0,>=2.10.1->recmetrics) (1.0.0)\r\n",
      "Requirement already satisfied: iniconfig in /opt/conda/lib/python3.7/site-packages (from pytest>=4.6->pytest-cov<3.0.0,>=2.10.1->recmetrics) (1.1.1)\r\n",
      "Requirement already satisfied: attrs>=19.2.0 in /opt/conda/lib/python3.7/site-packages (from pytest>=4.6->pytest-cov<3.0.0,>=2.10.1->recmetrics) (21.2.0)\r\n",
      "Requirement already satisfied: tomli>=1.0.0 in /opt/conda/lib/python3.7/site-packages (from pytest>=4.6->pytest-cov<3.0.0,>=2.10.1->recmetrics) (1.2.2)\r\n",
      "Requirement already satisfied: docutils>=0.13.1 in /opt/conda/lib/python3.7/site-packages (from readme-renderer>=35.0->twine<5.0.0,>=4.0.0->recmetrics) (0.18.1)\r\n",
      "Requirement already satisfied: bleach>=2.1.0 in /opt/conda/lib/python3.7/site-packages (from readme-renderer>=35.0->twine<5.0.0,>=4.0.0->recmetrics) (4.1.0)\r\n",
      "Requirement already satisfied: charset-normalizer~=2.0.0 in /opt/conda/lib/python3.7/site-packages (from requests>=2.20->twine<5.0.0,>=4.0.0->recmetrics) (2.0.9)\r\n",
      "Requirement already satisfied: certifi>=2017.4.17 in /opt/conda/lib/python3.7/site-packages (from requests>=2.20->twine<5.0.0,>=4.0.0->recmetrics) (2021.10.8)\r\n",
      "Requirement already satisfied: idna<4,>=2.5 in /opt/conda/lib/python3.7/site-packages (from requests>=2.20->twine<5.0.0,>=4.0.0->recmetrics) (3.1)\r\n",
      "Requirement already satisfied: commonmark<0.10.0,>=0.9.0 in /opt/conda/lib/python3.7/site-packages (from rich>=12.0.0->twine<5.0.0,>=4.0.0->recmetrics) (0.9.1)\r\n",
      "Requirement already satisfied: tornado<7.0,>=4.2 in /opt/conda/lib/python3.7/site-packages (from ipykernel->jupyter<2.0.0,>=1.0.0->recmetrics) (6.1)\r\n",
      "Requirement already satisfied: argcomplete>=1.12.3 in /opt/conda/lib/python3.7/site-packages (from ipykernel->jupyter<2.0.0,>=1.0.0->recmetrics) (1.12.3)\r\n",
      "Requirement already satisfied: debugpy<2.0,>=1.0.0 in /opt/conda/lib/python3.7/site-packages (from ipykernel->jupyter<2.0.0,>=1.0.0->recmetrics) (1.5.1)\r\n",
      "Requirement already satisfied: jupyter-client<8.0 in /opt/conda/lib/python3.7/site-packages (from ipykernel->jupyter<2.0.0,>=1.0.0->recmetrics) (7.1.0)\r\n",
      "Requirement already satisfied: nbformat>=4.2.0 in /opt/conda/lib/python3.7/site-packages (from ipywidgets->jupyter<2.0.0,>=1.0.0->recmetrics) (5.1.3)\r\n",
      "Requirement already satisfied: ipython-genutils~=0.2.0 in /opt/conda/lib/python3.7/site-packages (from ipywidgets->jupyter<2.0.0,>=1.0.0->recmetrics) (0.2.0)\r\n",
      "Requirement already satisfied: widgetsnbextension~=3.5.0 in /opt/conda/lib/python3.7/site-packages (from ipywidgets->jupyter<2.0.0,>=1.0.0->recmetrics) (3.5.2)\r\n",
      "Requirement already satisfied: jupyterlab-widgets>=1.0.0 in /opt/conda/lib/python3.7/site-packages (from ipywidgets->jupyter<2.0.0,>=1.0.0->recmetrics) (1.0.2)\r\n",
      "Requirement already satisfied: jinja2>=2.4 in /opt/conda/lib/python3.7/site-packages (from nbconvert->jupyter<2.0.0,>=1.0.0->recmetrics) (3.0.3)\r\n",
      "Requirement already satisfied: pandocfilters>=1.4.1 in /opt/conda/lib/python3.7/site-packages (from nbconvert->jupyter<2.0.0,>=1.0.0->recmetrics) (1.5.0)\r\n",
      "Requirement already satisfied: defusedxml in /opt/conda/lib/python3.7/site-packages (from nbconvert->jupyter<2.0.0,>=1.0.0->recmetrics) (0.7.1)\r\n",
      "Requirement already satisfied: entrypoints>=0.2.2 in /opt/conda/lib/python3.7/site-packages (from nbconvert->jupyter<2.0.0,>=1.0.0->recmetrics) (0.3)\r\n",
      "Requirement already satisfied: nbclient<0.6.0,>=0.5.0 in /opt/conda/lib/python3.7/site-packages (from nbconvert->jupyter<2.0.0,>=1.0.0->recmetrics) (0.5.9)\r\n",
      "Requirement already satisfied: jupyterlab-pygments in /opt/conda/lib/python3.7/site-packages (from nbconvert->jupyter<2.0.0,>=1.0.0->recmetrics) (0.1.2)\r\n",
      "Requirement already satisfied: mistune<2,>=0.8.1 in /opt/conda/lib/python3.7/site-packages (from nbconvert->jupyter<2.0.0,>=1.0.0->recmetrics) (0.8.4)\r\n",
      "Requirement already satisfied: jupyter-core in /opt/conda/lib/python3.7/site-packages (from nbconvert->jupyter<2.0.0,>=1.0.0->recmetrics) (4.9.1)\r\n",
      "Requirement already satisfied: testpath in /opt/conda/lib/python3.7/site-packages (from nbconvert->jupyter<2.0.0,>=1.0.0->recmetrics) (0.5.0)\r\n",
      "Requirement already satisfied: argon2-cffi in /opt/conda/lib/python3.7/site-packages (from notebook->jupyter<2.0.0,>=1.0.0->recmetrics) (21.1.0)\r\n",
      "Requirement already satisfied: terminado>=0.8.3 in /opt/conda/lib/python3.7/site-packages (from notebook->jupyter<2.0.0,>=1.0.0->recmetrics) (0.12.1)\r\n",
      "Requirement already satisfied: nest-asyncio>=1.5 in /opt/conda/lib/python3.7/site-packages (from notebook->jupyter<2.0.0,>=1.0.0->recmetrics) (1.5.4)\r\n",
      "Requirement already satisfied: Send2Trash>=1.8.0 in /opt/conda/lib/python3.7/site-packages (from notebook->jupyter<2.0.0,>=1.0.0->recmetrics) (1.8.0)\r\n",
      "Requirement already satisfied: pyzmq>=17 in /opt/conda/lib/python3.7/site-packages (from notebook->jupyter<2.0.0,>=1.0.0->recmetrics) (22.3.0)\r\n",
      "Requirement already satisfied: prometheus-client in /opt/conda/lib/python3.7/site-packages (from notebook->jupyter<2.0.0,>=1.0.0->recmetrics) (0.12.0)\r\n",
      "Requirement already satisfied: qtpy in /opt/conda/lib/python3.7/site-packages (from qtconsole->jupyter<2.0.0,>=1.0.0->recmetrics) (1.11.3)\r\n",
      "Requirement already satisfied: webencodings in /opt/conda/lib/python3.7/site-packages (from bleach>=2.1.0->readme-renderer>=35.0->twine<5.0.0,>=4.0.0->recmetrics) (0.5.1)\r\n",
      "Requirement already satisfied: MarkupSafe>=2.0 in /opt/conda/lib/python3.7/site-packages (from jinja2>=2.4->nbconvert->jupyter<2.0.0,>=1.0.0->recmetrics) (2.1.1)\r\n",
      "Requirement already satisfied: jsonschema!=2.5.0,>=2.4 in /opt/conda/lib/python3.7/site-packages (from nbformat>=4.2.0->ipywidgets->jupyter<2.0.0,>=1.0.0->recmetrics) (4.3.1)\r\n",
      "Requirement already satisfied: cryptography>=2.0 in /opt/conda/lib/python3.7/site-packages (from SecretStorage>=3.2->keyring>=15.1->twine<5.0.0,>=4.0.0->recmetrics) (36.0.1)\r\n",
      "Requirement already satisfied: cffi>=1.0.0 in /opt/conda/lib/python3.7/site-packages (from argon2-cffi->notebook->jupyter<2.0.0,>=1.0.0->recmetrics) (1.15.0)\r\n",
      "Requirement already satisfied: pycparser in /opt/conda/lib/python3.7/site-packages (from cffi>=1.0.0->argon2-cffi->notebook->jupyter<2.0.0,>=1.0.0->recmetrics) (2.21)\r\n",
      "Requirement already satisfied: importlib-resources>=1.4.0 in /opt/conda/lib/python3.7/site-packages (from jsonschema!=2.5.0,>=2.4->nbformat>=4.2.0->ipywidgets->jupyter<2.0.0,>=1.0.0->recmetrics) (5.4.0)\r\n",
      "Requirement already satisfied: pyrsistent!=0.17.0,!=0.17.1,!=0.17.2,>=0.14.0 in /opt/conda/lib/python3.7/site-packages (from jsonschema!=2.5.0,>=2.4->nbformat>=4.2.0->ipywidgets->jupyter<2.0.0,>=1.0.0->recmetrics) (0.18.0)\r\n",
      "Installing collected packages: rfc3986, requests-toolbelt, readme-renderer, pkginfo, coverage, twine, scikit-learn, pytest-cov, plotly, funcsigs, recmetrics\r\n",
      "  Attempting uninstall: scikit-learn\r\n",
      "    Found existing installation: scikit-learn 1.0.1\r\n",
      "    Uninstalling scikit-learn-1.0.1:\r\n",
      "      Successfully uninstalled scikit-learn-1.0.1\r\n",
      "  Attempting uninstall: plotly\r\n",
      "    Found existing installation: plotly 5.6.0\r\n",
      "    Uninstalling plotly-5.6.0:\r\n",
      "      Successfully uninstalled plotly-5.6.0\r\n",
      "\u001b[31mERROR: pip's dependency resolver does not currently take into account all the packages that are installed. This behaviour is the source of the following dependency conflicts.\r\n",
      "pdpbox 0.2.1 requires matplotlib==3.1.1, but you have matplotlib 3.5.1 which is incompatible.\r\n",
      "featuretools 1.6.0 requires numpy>=1.21.0, but you have numpy 1.20.3 which is incompatible.\u001b[0m\r\n",
      "Successfully installed coverage-7.2.7 funcsigs-1.0.2 pkginfo-1.9.6 plotly-4.14.3 pytest-cov-2.12.1 readme-renderer-37.3 recmetrics-0.1.5 requests-toolbelt-1.0.0 rfc3986-2.0.0 scikit-learn-1.0.2 twine-4.0.2\r\n",
      "\u001b[33mWARNING: Running pip as the 'root' user can result in broken permissions and conflicting behaviour with the system package manager. It is recommended to use a virtual environment instead: https://pip.pypa.io/warnings/venv\u001b[0m\r\n"
     ]
    }
   ],
   "source": [
    "!pip install recmetrics"
   ]
  },
  {
   "cell_type": "code",
   "execution_count": 61,
   "id": "b215d836",
   "metadata": {
    "execution": {
     "iopub.execute_input": "2023-12-14T15:54:05.613715Z",
     "iopub.status.busy": "2023-12-14T15:54:05.607919Z",
     "iopub.status.idle": "2023-12-14T15:54:45.794747Z",
     "shell.execute_reply": "2023-12-14T15:54:45.795290Z",
     "shell.execute_reply.started": "2023-12-14T15:33:33.609683Z"
    },
    "papermill": {
     "duration": 40.383795,
     "end_time": "2023-12-14T15:54:45.795462",
     "exception": false,
     "start_time": "2023-12-14T15:54:05.411667",
     "status": "completed"
    },
    "tags": []
   },
   "outputs": [
    {
     "name": "stdout",
     "output_type": "stream",
     "text": [
      "Value of precision: 0.03924545454545455\n",
      "Value of recall: 0.7553045454545455\n",
      "Value of MAR@K: 0.005882892721749391\n",
      "Value of personalization: 0.6912054102705135\n"
     ]
    }
   ],
   "source": [
    "#reference: https://github.com/statisticianinstilettos/recmetrics\n",
    "\n",
    "from recmetrics import metrics\n",
    "\n",
    "#precision\n",
    "recommender_precision = metrics.recommender_precision(predicted = preds, actual = test_X)\n",
    "print('Value of precision:', recommender_precision)\n",
    "\n",
    "#recall\n",
    "recommender_recall = metrics.recommender_recall(predicted = preds, actual = test_X)\n",
    "print('Value of recall:', recommender_recall)\n",
    "\n",
    "#MAP --> not working: isn't finding the function\n",
    "#recommender_mapk = metrics.mapk(predicted = preds, actual = test_X, k = 10)\n",
    "#print('Value of MAP@K:', recommender_mapk)\n",
    "\n",
    "#MARK\n",
    "reccomender_mark = metrics.mark(predicted = preds, actual = test_X, k = 100)\n",
    "print('Value of MAR@K:', reccomender_mark)\n",
    "\n",
    "#personalization --> reccomendation similarity across users: high = personalization are different and good; low = personalization are similar and not good\n",
    "personalization_score = metrics.personalization(predicted = preds[:20000])\n",
    "print('Value of personalization:', personalization_score)"
   ]
  }
 ],
 "metadata": {
  "kaggle": {
   "accelerator": "nvidiaTeslaT4",
   "dataSources": [
    {
     "databundleVersionId": 3103714,
     "sourceId": 31254,
     "sourceType": "competition"
    },
    {
     "datasetId": 3840849,
     "sourceId": 6655455,
     "sourceType": "datasetVersion"
    },
    {
     "datasetId": 3967857,
     "sourceId": 6908916,
     "sourceType": "datasetVersion"
    },
    {
     "datasetId": 4086917,
     "sourceId": 7091965,
     "sourceType": "datasetVersion"
    },
    {
     "sourceId": 93163345,
     "sourceType": "kernelVersion"
    }
   ],
   "dockerImageVersionId": 30178,
   "isGpuEnabled": true,
   "isInternetEnabled": true,
   "language": "python",
   "sourceType": "notebook"
  },
  "kernelspec": {
   "display_name": "Python 3",
   "language": "python",
   "name": "python3"
  },
  "language_info": {
   "codemirror_mode": {
    "name": "ipython",
    "version": 3
   },
   "file_extension": ".py",
   "mimetype": "text/x-python",
   "name": "python",
   "nbconvert_exporter": "python",
   "pygments_lexer": "ipython3",
   "version": "3.7.12"
  },
  "papermill": {
   "default_parameters": {},
   "duration": 1010.257969,
   "end_time": "2023-12-14T15:54:48.636285",
   "environment_variables": {},
   "exception": null,
   "input_path": "__notebook__.ipynb",
   "output_path": "__notebook__.ipynb",
   "parameters": {},
   "start_time": "2023-12-14T15:37:58.378316",
   "version": "2.3.3"
  }
 },
 "nbformat": 4,
 "nbformat_minor": 5
}
