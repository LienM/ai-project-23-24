{
 "cells": [
  {
   "cell_type": "markdown",
   "id": "b6b81488",
   "metadata": {
    "papermill": {
     "duration": 0.044503,
     "end_time": "2023-10-09T16:12:48.397005",
     "exception": false,
     "start_time": "2023-10-09T16:12:48.352502",
     "status": "completed"
    },
    "tags": []
   },
   "source": [
    "Radek posted about this [here](https://www.kaggle.com/competitions/h-and-m-personalized-fashion-recommendations/discussion/309220), and linked to a GitHub repo with the code.\n",
    "\n",
    "I just transferred that code here to Kaggle notebooks, that's all."
   ]
  },
  {
   "cell_type": "code",
   "execution_count": 1,
   "id": "8f773d48",
   "metadata": {
    "execution": {
     "iopub.execute_input": "2023-10-09T16:12:48.482294Z",
     "iopub.status.busy": "2023-10-09T16:12:48.481874Z",
     "iopub.status.idle": "2023-10-09T16:12:48.495389Z",
     "shell.execute_reply": "2023-10-09T16:12:48.494388Z"
    },
    "papermill": {
     "duration": 0.05965,
     "end_time": "2023-10-09T16:12:48.497419",
     "exception": false,
     "start_time": "2023-10-09T16:12:48.437769",
     "status": "completed"
    },
    "tags": []
   },
   "outputs": [],
   "source": [
    "import numpy as np\n",
    "\n",
    "def apk(actual, predicted, k=10):\n",
    "    \"\"\"\n",
    "    Computes the average precision at k.\n",
    "\n",
    "    This function computes the average prescision at k between two lists of\n",
    "    items.\n",
    "\n",
    "    Parameters\n",
    "    ----------\n",
    "    actual : list\n",
    "             A list of elements that are to be predicted (order doesn't matter)\n",
    "    predicted : list\n",
    "                A list of predicted elements (order does matter)\n",
    "    k : int, optional\n",
    "        The maximum number of predicted elements\n",
    "\n",
    "    Returns\n",
    "    -------\n",
    "    score : double\n",
    "            The average precision at k over the input lists\n",
    "\n",
    "    \"\"\"\n",
    "    if len(predicted)>k:\n",
    "        predicted = predicted[:k]\n",
    "\n",
    "    score = 0.0\n",
    "    num_hits = 0.0\n",
    "\n",
    "    for i,p in enumerate(predicted):\n",
    "        if p in actual and p not in predicted[:i]:\n",
    "            num_hits += 1.0\n",
    "            score += num_hits / (i+1.0)\n",
    "\n",
    "    if not actual:\n",
    "        return 0.0\n",
    "\n",
    "    return score / min(len(actual), k)\n",
    "\n",
    "def mapk(actual, predicted, k=10):\n",
    "    \"\"\"\n",
    "    Computes the mean average precision at k.\n",
    "\n",
    "    This function computes the mean average prescision at k between two lists\n",
    "    of lists of items.\n",
    "\n",
    "    Parameters\n",
    "    ----------\n",
    "    actual : list\n",
    "             A list of lists of elements that are to be predicted \n",
    "             (order doesn't matter in the lists)\n",
    "    predicted : list\n",
    "                A list of lists of predicted elements\n",
    "                (order matters in the lists)\n",
    "    k : int, optional\n",
    "        The maximum number of predicted elements\n",
    "\n",
    "    Returns\n",
    "    -------\n",
    "    score : double\n",
    "            The mean average precision at k over the input lists\n",
    "\n",
    "    \"\"\"\n",
    "    return np.mean([apk(a,p,k) for a,p in zip(actual, predicted)])"
   ]
  },
  {
   "cell_type": "code",
   "execution_count": 2,
   "id": "68b9ff84",
   "metadata": {
    "execution": {
     "iopub.execute_input": "2023-10-09T16:12:48.580649Z",
     "iopub.status.busy": "2023-10-09T16:12:48.579507Z",
     "iopub.status.idle": "2023-10-09T16:12:49.780630Z",
     "shell.execute_reply": "2023-10-09T16:12:49.779293Z"
    },
    "papermill": {
     "duration": 1.246209,
     "end_time": "2023-10-09T16:12:49.783838",
     "exception": false,
     "start_time": "2023-10-09T16:12:48.537629",
     "status": "completed"
    },
    "tags": []
   },
   "outputs": [],
   "source": [
    "from sklearn.base import BaseEstimator, TransformerMixin\n",
    "import numpy as np\n",
    "\n",
    "# https://www.kaggle.com/c/h-and-m-personalized-fashion-recommendations/discussion/308635\n",
    "def customer_hex_id_to_int(series):\n",
    "    return series.str[-16:].apply(hex_id_to_int)\n",
    "\n",
    "def hex_id_to_int(str):\n",
    "    return int(str[-16:], 16)\n",
    "\n",
    "def article_id_str_to_int(series):\n",
    "    return series.astype('int32')\n",
    "\n",
    "def article_id_int_to_str(series):\n",
    "    return '0' + series.astype('str')\n",
    "\n",
    "class Categorize(BaseEstimator, TransformerMixin):\n",
    "    def __init__(self, min_examples=0):\n",
    "        self.min_examples = min_examples\n",
    "        self.categories = []\n",
    "        \n",
    "    def fit(self, X):\n",
    "        for i in range(X.shape[1]):\n",
    "            vc = X.iloc[:, i].value_counts()\n",
    "            self.categories.append(vc[vc > self.min_examples].index.tolist())\n",
    "        return self\n",
    "\n",
    "    def transform(self, X):\n",
    "        data = {X.columns[i]: pd.Categorical(X.iloc[:, i], categories=self.categories[i]).codes for i in range(X.shape[1])}\n",
    "        return pd.DataFrame(data=data)\n",
    "\n",
    "\n",
    "def calculate_apk(list_of_preds, list_of_gts):\n",
    "    # for fast validation this can be changed to operate on dicts of {'cust_id_int': [art_id_int, ...]}\n",
    "    # using 'data/val_week_purchases_by_cust.pkl'\n",
    "    apks = []\n",
    "    for preds, gt in zip(list_of_preds, list_of_gts):\n",
    "        apks.append(apk(gt, preds, k=12))\n",
    "    return np.mean(apks)\n",
    "\n",
    "def eval_sub(sub_csv, skip_cust_with_no_purchases=True):\n",
    "    sub=pd.read_csv(sub_csv)\n",
    "    validation_set=pd.read_parquet('data/validation_ground_truth.parquet')\n",
    "\n",
    "    apks = []\n",
    "\n",
    "    no_purchases_pattern = []\n",
    "    for pred, gt in zip(sub.prediction.str.split(), validation_set.prediction.str.split()):\n",
    "        if skip_cust_with_no_purchases and (gt == no_purchases_pattern): continue\n",
    "        apks.append(apk(gt, pred, k=12))\n",
    "    return np.mean(apks)"
   ]
  },
  {
   "cell_type": "code",
   "execution_count": 3,
   "id": "6a31264d",
   "metadata": {
    "execution": {
     "iopub.execute_input": "2023-10-09T16:12:49.872217Z",
     "iopub.status.busy": "2023-10-09T16:12:49.871901Z",
     "iopub.status.idle": "2023-10-09T16:12:49.876982Z",
     "shell.execute_reply": "2023-10-09T16:12:49.875983Z"
    },
    "papermill": {
     "duration": 0.049624,
     "end_time": "2023-10-09T16:12:49.879087",
     "exception": false,
     "start_time": "2023-10-09T16:12:49.829463",
     "status": "completed"
    },
    "tags": []
   },
   "outputs": [],
   "source": [
    "import pandas as pd"
   ]
  },
  {
   "cell_type": "code",
   "execution_count": 4,
   "id": "ee9aaa05",
   "metadata": {
    "execution": {
     "iopub.execute_input": "2023-10-09T16:12:49.962488Z",
     "iopub.status.busy": "2023-10-09T16:12:49.961980Z",
     "iopub.status.idle": "2023-10-09T16:12:59.010420Z",
     "shell.execute_reply": "2023-10-09T16:12:59.009287Z"
    },
    "papermill": {
     "duration": 9.093514,
     "end_time": "2023-10-09T16:12:59.013342",
     "exception": false,
     "start_time": "2023-10-09T16:12:49.919828",
     "status": "completed"
    },
    "tags": []
   },
   "outputs": [
    {
     "name": "stdout",
     "output_type": "stream",
     "text": [
      "CPU times: user 2.39 s, sys: 4.5 s, total: 6.89 s\n",
      "Wall time: 9.04 s\n"
     ]
    }
   ],
   "source": [
    "%%time\n",
    "\n",
    "transactions = pd.read_parquet('../input/warmup/transactions_train.parquet')\n",
    "customers = pd.read_parquet('../input/warmup/customers.parquet')\n",
    "articles = pd.read_parquet('../input/warmup/articles.parquet')\n",
    "\n",
    "# sample = 0.05\n",
    "# transactions = pd.read_parquet(f'data/transactions_train_sample_{sample}.parquet')\n",
    "# customers = pd.read_parquet(f'data/customers_sample_{sample}.parquet')\n",
    "# articles = pd.read_parquet(f'data/articles_train_sample_{sample}.parquet')"
   ]
  },
  {
   "cell_type": "code",
   "execution_count": 5,
   "id": "da58d26e",
   "metadata": {
    "execution": {
     "iopub.execute_input": "2023-10-09T16:12:59.098994Z",
     "iopub.status.busy": "2023-10-09T16:12:59.098656Z",
     "iopub.status.idle": "2023-10-09T16:12:59.419003Z",
     "shell.execute_reply": "2023-10-09T16:12:59.417958Z"
    },
    "papermill": {
     "duration": 0.366453,
     "end_time": "2023-10-09T16:12:59.421540",
     "exception": false,
     "start_time": "2023-10-09T16:12:59.055087",
     "status": "completed"
    },
    "tags": []
   },
   "outputs": [],
   "source": [
    "test_week = transactions.week.max() + 1\n",
    "transactions = transactions[transactions.week > transactions.week.max() - 10]"
   ]
  },
  {
   "cell_type": "markdown",
   "id": "8157e9dd",
   "metadata": {
    "papermill": {
     "duration": 0.044849,
     "end_time": "2023-10-09T16:12:59.508225",
     "exception": false,
     "start_time": "2023-10-09T16:12:59.463376",
     "status": "completed"
    },
    "tags": []
   },
   "source": [
    "# Generating candidates"
   ]
  },
  {
   "cell_type": "markdown",
   "id": "7eee62a1",
   "metadata": {
    "papermill": {
     "duration": 0.041143,
     "end_time": "2023-10-09T16:12:59.611260",
     "exception": false,
     "start_time": "2023-10-09T16:12:59.570117",
     "status": "completed"
    },
    "tags": []
   },
   "source": [
    "### Last purchase candidates"
   ]
  },
  {
   "cell_type": "code",
   "execution_count": 6,
   "id": "1b2bd2d0",
   "metadata": {
    "execution": {
     "iopub.execute_input": "2023-10-09T16:12:59.716833Z",
     "iopub.status.busy": "2023-10-09T16:12:59.716490Z",
     "iopub.status.idle": "2023-10-09T16:13:18.387758Z",
     "shell.execute_reply": "2023-10-09T16:13:18.386415Z"
    },
    "papermill": {
     "duration": 18.736431,
     "end_time": "2023-10-09T16:13:18.390438",
     "exception": false,
     "start_time": "2023-10-09T16:12:59.654007",
     "status": "completed"
    },
    "tags": []
   },
   "outputs": [
    {
     "name": "stdout",
     "output_type": "stream",
     "text": [
      "CPU times: user 18.3 s, sys: 502 ms, total: 18.8 s\n",
      "Wall time: 18.7 s\n"
     ]
    }
   ],
   "source": [
    "%%time\n",
    "\n",
    "c2weeks = transactions.groupby('customer_id')['week'].unique()"
   ]
  },
  {
   "cell_type": "code",
   "execution_count": 7,
   "id": "d701f8e5",
   "metadata": {
    "execution": {
     "iopub.execute_input": "2023-10-09T16:13:18.476826Z",
     "iopub.status.busy": "2023-10-09T16:13:18.476526Z",
     "iopub.status.idle": "2023-10-09T16:13:18.560993Z",
     "shell.execute_reply": "2023-10-09T16:13:18.559839Z"
    },
    "papermill": {
     "duration": 0.132121,
     "end_time": "2023-10-09T16:13:18.563903",
     "exception": false,
     "start_time": "2023-10-09T16:13:18.431782",
     "status": "completed"
    },
    "tags": []
   },
   "outputs": [
    {
     "data": {
      "text/html": [
       "<div>\n",
       "<style scoped>\n",
       "    .dataframe tbody tr th:only-of-type {\n",
       "        vertical-align: middle;\n",
       "    }\n",
       "\n",
       "    .dataframe tbody tr th {\n",
       "        vertical-align: top;\n",
       "    }\n",
       "\n",
       "    .dataframe thead th {\n",
       "        text-align: right;\n",
       "    }\n",
       "</style>\n",
       "<table border=\"1\" class=\"dataframe\">\n",
       "  <thead>\n",
       "    <tr style=\"text-align: right;\">\n",
       "      <th></th>\n",
       "      <th>min</th>\n",
       "      <th>max</th>\n",
       "    </tr>\n",
       "    <tr>\n",
       "      <th>week</th>\n",
       "      <th></th>\n",
       "      <th></th>\n",
       "    </tr>\n",
       "  </thead>\n",
       "  <tbody>\n",
       "    <tr>\n",
       "      <th>95</th>\n",
       "      <td>2020-07-15</td>\n",
       "      <td>2020-07-21</td>\n",
       "    </tr>\n",
       "    <tr>\n",
       "      <th>96</th>\n",
       "      <td>2020-07-22</td>\n",
       "      <td>2020-07-28</td>\n",
       "    </tr>\n",
       "    <tr>\n",
       "      <th>97</th>\n",
       "      <td>2020-07-29</td>\n",
       "      <td>2020-08-04</td>\n",
       "    </tr>\n",
       "    <tr>\n",
       "      <th>98</th>\n",
       "      <td>2020-08-05</td>\n",
       "      <td>2020-08-11</td>\n",
       "    </tr>\n",
       "    <tr>\n",
       "      <th>99</th>\n",
       "      <td>2020-08-12</td>\n",
       "      <td>2020-08-18</td>\n",
       "    </tr>\n",
       "    <tr>\n",
       "      <th>100</th>\n",
       "      <td>2020-08-19</td>\n",
       "      <td>2020-08-25</td>\n",
       "    </tr>\n",
       "    <tr>\n",
       "      <th>101</th>\n",
       "      <td>2020-08-26</td>\n",
       "      <td>2020-09-01</td>\n",
       "    </tr>\n",
       "    <tr>\n",
       "      <th>102</th>\n",
       "      <td>2020-09-02</td>\n",
       "      <td>2020-09-08</td>\n",
       "    </tr>\n",
       "    <tr>\n",
       "      <th>103</th>\n",
       "      <td>2020-09-09</td>\n",
       "      <td>2020-09-15</td>\n",
       "    </tr>\n",
       "    <tr>\n",
       "      <th>104</th>\n",
       "      <td>2020-09-16</td>\n",
       "      <td>2020-09-22</td>\n",
       "    </tr>\n",
       "  </tbody>\n",
       "</table>\n",
       "</div>"
      ],
      "text/plain": [
       "            min        max\n",
       "week                      \n",
       "95   2020-07-15 2020-07-21\n",
       "96   2020-07-22 2020-07-28\n",
       "97   2020-07-29 2020-08-04\n",
       "98   2020-08-05 2020-08-11\n",
       "99   2020-08-12 2020-08-18\n",
       "100  2020-08-19 2020-08-25\n",
       "101  2020-08-26 2020-09-01\n",
       "102  2020-09-02 2020-09-08\n",
       "103  2020-09-09 2020-09-15\n",
       "104  2020-09-16 2020-09-22"
      ]
     },
     "execution_count": 7,
     "metadata": {},
     "output_type": "execute_result"
    }
   ],
   "source": [
    "transactions.groupby('week')['t_dat'].agg(['min', 'max'])"
   ]
  },
  {
   "cell_type": "code",
   "execution_count": 8,
   "id": "041f7e0a",
   "metadata": {
    "execution": {
     "iopub.execute_input": "2023-10-09T16:13:18.649304Z",
     "iopub.status.busy": "2023-10-09T16:13:18.649007Z",
     "iopub.status.idle": "2023-10-09T16:13:18.659241Z",
     "shell.execute_reply": "2023-10-09T16:13:18.658250Z"
    },
    "papermill": {
     "duration": 0.056011,
     "end_time": "2023-10-09T16:13:18.661397",
     "exception": false,
     "start_time": "2023-10-09T16:13:18.605386",
     "status": "completed"
    },
    "tags": []
   },
   "outputs": [
    {
     "data": {
      "text/plain": [
       "customer_id\n",
       "28847241659200          [95, 96, 101, 102]\n",
       "41318098387474                        [98]\n",
       "116809474287335                 [101, 103]\n",
       "200292573348128          [95, 96, 99, 102]\n",
       "248294615847351                       [96]\n",
       "                               ...        \n",
       "18446624797007271432                  [95]\n",
       "18446630855572834764                 [103]\n",
       "18446662237889060501                 [100]\n",
       "18446705133201055310                 [102]\n",
       "18446737527580148316                 [104]\n",
       "Name: week, Length: 437365, dtype: object"
      ]
     },
     "execution_count": 8,
     "metadata": {},
     "output_type": "execute_result"
    }
   ],
   "source": [
    "c2weeks"
   ]
  },
  {
   "cell_type": "code",
   "execution_count": 9,
   "id": "dee8a20d",
   "metadata": {
    "execution": {
     "iopub.execute_input": "2023-10-09T16:13:18.747652Z",
     "iopub.status.busy": "2023-10-09T16:13:18.747354Z",
     "iopub.status.idle": "2023-10-09T16:13:19.755265Z",
     "shell.execute_reply": "2023-10-09T16:13:19.754097Z"
    },
    "papermill": {
     "duration": 1.054031,
     "end_time": "2023-10-09T16:13:19.757664",
     "exception": false,
     "start_time": "2023-10-09T16:13:18.703633",
     "status": "completed"
    },
    "tags": []
   },
   "outputs": [
    {
     "name": "stdout",
     "output_type": "stream",
     "text": [
      "CPU times: user 857 ms, sys: 142 ms, total: 999 ms\n",
      "Wall time: 1 s\n"
     ]
    }
   ],
   "source": [
    "%%time\n",
    "\n",
    "c2weeks2shifted_weeks = {}\n",
    "\n",
    "for c_id, weeks in c2weeks.items():\n",
    "    c2weeks2shifted_weeks[c_id] = {}\n",
    "    for i in range(weeks.shape[0]-1):\n",
    "        c2weeks2shifted_weeks[c_id][weeks[i]] = weeks[i+1]\n",
    "    c2weeks2shifted_weeks[c_id][weeks[-1]] = test_week"
   ]
  },
  {
   "cell_type": "code",
   "execution_count": 10,
   "id": "f6b537a8",
   "metadata": {
    "execution": {
     "iopub.execute_input": "2023-10-09T16:13:19.850213Z",
     "iopub.status.busy": "2023-10-09T16:13:19.849639Z",
     "iopub.status.idle": "2023-10-09T16:13:19.857353Z",
     "shell.execute_reply": "2023-10-09T16:13:19.856342Z"
    },
    "papermill": {
     "duration": 0.054288,
     "end_time": "2023-10-09T16:13:19.859377",
     "exception": false,
     "start_time": "2023-10-09T16:13:19.805089",
     "status": "completed"
    },
    "tags": []
   },
   "outputs": [
    {
     "data": {
      "text/plain": [
       "{95: 96, 96: 101, 101: 102, 102: 105}"
      ]
     },
     "execution_count": 10,
     "metadata": {},
     "output_type": "execute_result"
    }
   ],
   "source": [
    "c2weeks2shifted_weeks[28847241659200]"
   ]
  },
  {
   "cell_type": "code",
   "execution_count": 11,
   "id": "4c98ab68",
   "metadata": {
    "execution": {
     "iopub.execute_input": "2023-10-09T16:13:19.950278Z",
     "iopub.status.busy": "2023-10-09T16:13:19.950013Z",
     "iopub.status.idle": "2023-10-09T16:13:19.972406Z",
     "shell.execute_reply": "2023-10-09T16:13:19.971405Z"
    },
    "papermill": {
     "duration": 0.069548,
     "end_time": "2023-10-09T16:13:19.974951",
     "exception": false,
     "start_time": "2023-10-09T16:13:19.905403",
     "status": "completed"
    },
    "tags": []
   },
   "outputs": [],
   "source": [
    "candidates_last_purchase = transactions.copy()"
   ]
  },
  {
   "cell_type": "code",
   "execution_count": 12,
   "id": "811bff2c",
   "metadata": {
    "execution": {
     "iopub.execute_input": "2023-10-09T16:13:20.071048Z",
     "iopub.status.busy": "2023-10-09T16:13:20.070494Z",
     "iopub.status.idle": "2023-10-09T16:13:28.164015Z",
     "shell.execute_reply": "2023-10-09T16:13:28.162960Z"
    },
    "papermill": {
     "duration": 8.142287,
     "end_time": "2023-10-09T16:13:28.166720",
     "exception": false,
     "start_time": "2023-10-09T16:13:20.024433",
     "status": "completed"
    },
    "tags": []
   },
   "outputs": [
    {
     "name": "stdout",
     "output_type": "stream",
     "text": [
      "CPU times: user 7.96 s, sys: 92.4 ms, total: 8.05 s\n",
      "Wall time: 8.09 s\n"
     ]
    }
   ],
   "source": [
    "%%time\n",
    "\n",
    "weeks = []\n",
    "for i, (c_id, week) in enumerate(zip(transactions['customer_id'], transactions['week'])):\n",
    "    weeks.append(c2weeks2shifted_weeks[c_id][week])\n",
    "    \n",
    "candidates_last_purchase.week=weeks"
   ]
  },
  {
   "cell_type": "code",
   "execution_count": 13,
   "id": "5cedc3a5",
   "metadata": {
    "execution": {
     "iopub.execute_input": "2023-10-09T16:13:28.260052Z",
     "iopub.status.busy": "2023-10-09T16:13:28.259719Z",
     "iopub.status.idle": "2023-10-09T16:13:28.279507Z",
     "shell.execute_reply": "2023-10-09T16:13:28.278417Z"
    },
    "papermill": {
     "duration": 0.068518,
     "end_time": "2023-10-09T16:13:28.281835",
     "exception": false,
     "start_time": "2023-10-09T16:13:28.213317",
     "status": "completed"
    },
    "tags": []
   },
   "outputs": [
    {
     "data": {
      "text/html": [
       "<div>\n",
       "<style scoped>\n",
       "    .dataframe tbody tr th:only-of-type {\n",
       "        vertical-align: middle;\n",
       "    }\n",
       "\n",
       "    .dataframe tbody tr th {\n",
       "        vertical-align: top;\n",
       "    }\n",
       "\n",
       "    .dataframe thead th {\n",
       "        text-align: right;\n",
       "    }\n",
       "</style>\n",
       "<table border=\"1\" class=\"dataframe\">\n",
       "  <thead>\n",
       "    <tr style=\"text-align: right;\">\n",
       "      <th></th>\n",
       "      <th>t_dat</th>\n",
       "      <th>customer_id</th>\n",
       "      <th>article_id</th>\n",
       "      <th>price</th>\n",
       "      <th>sales_channel_id</th>\n",
       "      <th>week</th>\n",
       "    </tr>\n",
       "  </thead>\n",
       "  <tbody>\n",
       "    <tr>\n",
       "      <th>29030503</th>\n",
       "      <td>2020-07-15</td>\n",
       "      <td>272412481300040</td>\n",
       "      <td>778064028</td>\n",
       "      <td>0.008458</td>\n",
       "      <td>1</td>\n",
       "      <td>96</td>\n",
       "    </tr>\n",
       "    <tr>\n",
       "      <th>29030504</th>\n",
       "      <td>2020-07-15</td>\n",
       "      <td>272412481300040</td>\n",
       "      <td>816592008</td>\n",
       "      <td>0.016932</td>\n",
       "      <td>1</td>\n",
       "      <td>96</td>\n",
       "    </tr>\n",
       "    <tr>\n",
       "      <th>29030505</th>\n",
       "      <td>2020-07-15</td>\n",
       "      <td>272412481300040</td>\n",
       "      <td>621381021</td>\n",
       "      <td>0.033881</td>\n",
       "      <td>1</td>\n",
       "      <td>96</td>\n",
       "    </tr>\n",
       "    <tr>\n",
       "      <th>29030506</th>\n",
       "      <td>2020-07-15</td>\n",
       "      <td>272412481300040</td>\n",
       "      <td>817477003</td>\n",
       "      <td>0.025407</td>\n",
       "      <td>1</td>\n",
       "      <td>96</td>\n",
       "    </tr>\n",
       "    <tr>\n",
       "      <th>29030507</th>\n",
       "      <td>2020-07-15</td>\n",
       "      <td>272412481300040</td>\n",
       "      <td>899088002</td>\n",
       "      <td>0.025407</td>\n",
       "      <td>1</td>\n",
       "      <td>96</td>\n",
       "    </tr>\n",
       "    <tr>\n",
       "      <th>29319533</th>\n",
       "      <td>2020-07-22</td>\n",
       "      <td>272412481300040</td>\n",
       "      <td>885077001</td>\n",
       "      <td>0.008458</td>\n",
       "      <td>1</td>\n",
       "      <td>103</td>\n",
       "    </tr>\n",
       "    <tr>\n",
       "      <th>29410772</th>\n",
       "      <td>2020-07-24</td>\n",
       "      <td>272412481300040</td>\n",
       "      <td>850176003</td>\n",
       "      <td>0.029034</td>\n",
       "      <td>2</td>\n",
       "      <td>103</td>\n",
       "    </tr>\n",
       "    <tr>\n",
       "      <th>29410773</th>\n",
       "      <td>2020-07-24</td>\n",
       "      <td>272412481300040</td>\n",
       "      <td>875803001</td>\n",
       "      <td>0.064559</td>\n",
       "      <td>2</td>\n",
       "      <td>103</td>\n",
       "    </tr>\n",
       "    <tr>\n",
       "      <th>29410774</th>\n",
       "      <td>2020-07-24</td>\n",
       "      <td>272412481300040</td>\n",
       "      <td>892970003</td>\n",
       "      <td>0.020966</td>\n",
       "      <td>2</td>\n",
       "      <td>103</td>\n",
       "    </tr>\n",
       "    <tr>\n",
       "      <th>29410775</th>\n",
       "      <td>2020-07-24</td>\n",
       "      <td>272412481300040</td>\n",
       "      <td>854619003</td>\n",
       "      <td>0.020966</td>\n",
       "      <td>2</td>\n",
       "      <td>103</td>\n",
       "    </tr>\n",
       "    <tr>\n",
       "      <th>29531614</th>\n",
       "      <td>2020-07-27</td>\n",
       "      <td>272412481300040</td>\n",
       "      <td>900398001</td>\n",
       "      <td>0.030492</td>\n",
       "      <td>2</td>\n",
       "      <td>103</td>\n",
       "    </tr>\n",
       "    <tr>\n",
       "      <th>29531615</th>\n",
       "      <td>2020-07-27</td>\n",
       "      <td>272412481300040</td>\n",
       "      <td>834179002</td>\n",
       "      <td>0.025407</td>\n",
       "      <td>2</td>\n",
       "      <td>103</td>\n",
       "    </tr>\n",
       "    <tr>\n",
       "      <th>29531616</th>\n",
       "      <td>2020-07-27</td>\n",
       "      <td>272412481300040</td>\n",
       "      <td>875803001</td>\n",
       "      <td>0.067780</td>\n",
       "      <td>2</td>\n",
       "      <td>103</td>\n",
       "    </tr>\n",
       "    <tr>\n",
       "      <th>31495014</th>\n",
       "      <td>2020-09-14</td>\n",
       "      <td>272412481300040</td>\n",
       "      <td>923460002</td>\n",
       "      <td>0.039932</td>\n",
       "      <td>2</td>\n",
       "      <td>105</td>\n",
       "    </tr>\n",
       "    <tr>\n",
       "      <th>31495015</th>\n",
       "      <td>2020-09-14</td>\n",
       "      <td>272412481300040</td>\n",
       "      <td>922381001</td>\n",
       "      <td>0.039932</td>\n",
       "      <td>2</td>\n",
       "      <td>105</td>\n",
       "    </tr>\n",
       "    <tr>\n",
       "      <th>31495016</th>\n",
       "      <td>2020-09-14</td>\n",
       "      <td>272412481300040</td>\n",
       "      <td>921906005</td>\n",
       "      <td>0.031949</td>\n",
       "      <td>2</td>\n",
       "      <td>105</td>\n",
       "    </tr>\n",
       "  </tbody>\n",
       "</table>\n",
       "</div>"
      ],
      "text/plain": [
       "              t_dat      customer_id  article_id     price  sales_channel_id  \\\n",
       "29030503 2020-07-15  272412481300040   778064028  0.008458                 1   \n",
       "29030504 2020-07-15  272412481300040   816592008  0.016932                 1   \n",
       "29030505 2020-07-15  272412481300040   621381021  0.033881                 1   \n",
       "29030506 2020-07-15  272412481300040   817477003  0.025407                 1   \n",
       "29030507 2020-07-15  272412481300040   899088002  0.025407                 1   \n",
       "29319533 2020-07-22  272412481300040   885077001  0.008458                 1   \n",
       "29410772 2020-07-24  272412481300040   850176003  0.029034                 2   \n",
       "29410773 2020-07-24  272412481300040   875803001  0.064559                 2   \n",
       "29410774 2020-07-24  272412481300040   892970003  0.020966                 2   \n",
       "29410775 2020-07-24  272412481300040   854619003  0.020966                 2   \n",
       "29531614 2020-07-27  272412481300040   900398001  0.030492                 2   \n",
       "29531615 2020-07-27  272412481300040   834179002  0.025407                 2   \n",
       "29531616 2020-07-27  272412481300040   875803001  0.067780                 2   \n",
       "31495014 2020-09-14  272412481300040   923460002  0.039932                 2   \n",
       "31495015 2020-09-14  272412481300040   922381001  0.039932                 2   \n",
       "31495016 2020-09-14  272412481300040   921906005  0.031949                 2   \n",
       "\n",
       "          week  \n",
       "29030503    96  \n",
       "29030504    96  \n",
       "29030505    96  \n",
       "29030506    96  \n",
       "29030507    96  \n",
       "29319533   103  \n",
       "29410772   103  \n",
       "29410773   103  \n",
       "29410774   103  \n",
       "29410775   103  \n",
       "29531614   103  \n",
       "29531615   103  \n",
       "29531616   103  \n",
       "31495014   105  \n",
       "31495015   105  \n",
       "31495016   105  "
      ]
     },
     "execution_count": 13,
     "metadata": {},
     "output_type": "execute_result"
    }
   ],
   "source": [
    "candidates_last_purchase[candidates_last_purchase['customer_id']==272412481300040]"
   ]
  },
  {
   "cell_type": "code",
   "execution_count": 14,
   "id": "290d4779",
   "metadata": {
    "execution": {
     "iopub.execute_input": "2023-10-09T16:13:28.373254Z",
     "iopub.status.busy": "2023-10-09T16:13:28.372169Z",
     "iopub.status.idle": "2023-10-09T16:13:28.392766Z",
     "shell.execute_reply": "2023-10-09T16:13:28.392158Z"
    },
    "papermill": {
     "duration": 0.068906,
     "end_time": "2023-10-09T16:13:28.394525",
     "exception": false,
     "start_time": "2023-10-09T16:13:28.325619",
     "status": "completed"
    },
    "tags": []
   },
   "outputs": [
    {
     "data": {
      "text/html": [
       "<div>\n",
       "<style scoped>\n",
       "    .dataframe tbody tr th:only-of-type {\n",
       "        vertical-align: middle;\n",
       "    }\n",
       "\n",
       "    .dataframe tbody tr th {\n",
       "        vertical-align: top;\n",
       "    }\n",
       "\n",
       "    .dataframe thead th {\n",
       "        text-align: right;\n",
       "    }\n",
       "</style>\n",
       "<table border=\"1\" class=\"dataframe\">\n",
       "  <thead>\n",
       "    <tr style=\"text-align: right;\">\n",
       "      <th></th>\n",
       "      <th>t_dat</th>\n",
       "      <th>customer_id</th>\n",
       "      <th>article_id</th>\n",
       "      <th>price</th>\n",
       "      <th>sales_channel_id</th>\n",
       "      <th>week</th>\n",
       "    </tr>\n",
       "  </thead>\n",
       "  <tbody>\n",
       "    <tr>\n",
       "      <th>29030503</th>\n",
       "      <td>2020-07-15</td>\n",
       "      <td>272412481300040</td>\n",
       "      <td>778064028</td>\n",
       "      <td>0.008458</td>\n",
       "      <td>1</td>\n",
       "      <td>95</td>\n",
       "    </tr>\n",
       "    <tr>\n",
       "      <th>29030504</th>\n",
       "      <td>2020-07-15</td>\n",
       "      <td>272412481300040</td>\n",
       "      <td>816592008</td>\n",
       "      <td>0.016932</td>\n",
       "      <td>1</td>\n",
       "      <td>95</td>\n",
       "    </tr>\n",
       "    <tr>\n",
       "      <th>29030505</th>\n",
       "      <td>2020-07-15</td>\n",
       "      <td>272412481300040</td>\n",
       "      <td>621381021</td>\n",
       "      <td>0.033881</td>\n",
       "      <td>1</td>\n",
       "      <td>95</td>\n",
       "    </tr>\n",
       "    <tr>\n",
       "      <th>29030506</th>\n",
       "      <td>2020-07-15</td>\n",
       "      <td>272412481300040</td>\n",
       "      <td>817477003</td>\n",
       "      <td>0.025407</td>\n",
       "      <td>1</td>\n",
       "      <td>95</td>\n",
       "    </tr>\n",
       "    <tr>\n",
       "      <th>29030507</th>\n",
       "      <td>2020-07-15</td>\n",
       "      <td>272412481300040</td>\n",
       "      <td>899088002</td>\n",
       "      <td>0.025407</td>\n",
       "      <td>1</td>\n",
       "      <td>95</td>\n",
       "    </tr>\n",
       "    <tr>\n",
       "      <th>29319533</th>\n",
       "      <td>2020-07-22</td>\n",
       "      <td>272412481300040</td>\n",
       "      <td>885077001</td>\n",
       "      <td>0.008458</td>\n",
       "      <td>1</td>\n",
       "      <td>96</td>\n",
       "    </tr>\n",
       "    <tr>\n",
       "      <th>29410772</th>\n",
       "      <td>2020-07-24</td>\n",
       "      <td>272412481300040</td>\n",
       "      <td>850176003</td>\n",
       "      <td>0.029034</td>\n",
       "      <td>2</td>\n",
       "      <td>96</td>\n",
       "    </tr>\n",
       "    <tr>\n",
       "      <th>29410773</th>\n",
       "      <td>2020-07-24</td>\n",
       "      <td>272412481300040</td>\n",
       "      <td>875803001</td>\n",
       "      <td>0.064559</td>\n",
       "      <td>2</td>\n",
       "      <td>96</td>\n",
       "    </tr>\n",
       "    <tr>\n",
       "      <th>29410774</th>\n",
       "      <td>2020-07-24</td>\n",
       "      <td>272412481300040</td>\n",
       "      <td>892970003</td>\n",
       "      <td>0.020966</td>\n",
       "      <td>2</td>\n",
       "      <td>96</td>\n",
       "    </tr>\n",
       "    <tr>\n",
       "      <th>29410775</th>\n",
       "      <td>2020-07-24</td>\n",
       "      <td>272412481300040</td>\n",
       "      <td>854619003</td>\n",
       "      <td>0.020966</td>\n",
       "      <td>2</td>\n",
       "      <td>96</td>\n",
       "    </tr>\n",
       "    <tr>\n",
       "      <th>29531614</th>\n",
       "      <td>2020-07-27</td>\n",
       "      <td>272412481300040</td>\n",
       "      <td>900398001</td>\n",
       "      <td>0.030492</td>\n",
       "      <td>2</td>\n",
       "      <td>96</td>\n",
       "    </tr>\n",
       "    <tr>\n",
       "      <th>29531615</th>\n",
       "      <td>2020-07-27</td>\n",
       "      <td>272412481300040</td>\n",
       "      <td>834179002</td>\n",
       "      <td>0.025407</td>\n",
       "      <td>2</td>\n",
       "      <td>96</td>\n",
       "    </tr>\n",
       "    <tr>\n",
       "      <th>29531616</th>\n",
       "      <td>2020-07-27</td>\n",
       "      <td>272412481300040</td>\n",
       "      <td>875803001</td>\n",
       "      <td>0.067780</td>\n",
       "      <td>2</td>\n",
       "      <td>96</td>\n",
       "    </tr>\n",
       "    <tr>\n",
       "      <th>31495014</th>\n",
       "      <td>2020-09-14</td>\n",
       "      <td>272412481300040</td>\n",
       "      <td>923460002</td>\n",
       "      <td>0.039932</td>\n",
       "      <td>2</td>\n",
       "      <td>103</td>\n",
       "    </tr>\n",
       "    <tr>\n",
       "      <th>31495015</th>\n",
       "      <td>2020-09-14</td>\n",
       "      <td>272412481300040</td>\n",
       "      <td>922381001</td>\n",
       "      <td>0.039932</td>\n",
       "      <td>2</td>\n",
       "      <td>103</td>\n",
       "    </tr>\n",
       "    <tr>\n",
       "      <th>31495016</th>\n",
       "      <td>2020-09-14</td>\n",
       "      <td>272412481300040</td>\n",
       "      <td>921906005</td>\n",
       "      <td>0.031949</td>\n",
       "      <td>2</td>\n",
       "      <td>103</td>\n",
       "    </tr>\n",
       "  </tbody>\n",
       "</table>\n",
       "</div>"
      ],
      "text/plain": [
       "              t_dat      customer_id  article_id     price  sales_channel_id  \\\n",
       "29030503 2020-07-15  272412481300040   778064028  0.008458                 1   \n",
       "29030504 2020-07-15  272412481300040   816592008  0.016932                 1   \n",
       "29030505 2020-07-15  272412481300040   621381021  0.033881                 1   \n",
       "29030506 2020-07-15  272412481300040   817477003  0.025407                 1   \n",
       "29030507 2020-07-15  272412481300040   899088002  0.025407                 1   \n",
       "29319533 2020-07-22  272412481300040   885077001  0.008458                 1   \n",
       "29410772 2020-07-24  272412481300040   850176003  0.029034                 2   \n",
       "29410773 2020-07-24  272412481300040   875803001  0.064559                 2   \n",
       "29410774 2020-07-24  272412481300040   892970003  0.020966                 2   \n",
       "29410775 2020-07-24  272412481300040   854619003  0.020966                 2   \n",
       "29531614 2020-07-27  272412481300040   900398001  0.030492                 2   \n",
       "29531615 2020-07-27  272412481300040   834179002  0.025407                 2   \n",
       "29531616 2020-07-27  272412481300040   875803001  0.067780                 2   \n",
       "31495014 2020-09-14  272412481300040   923460002  0.039932                 2   \n",
       "31495015 2020-09-14  272412481300040   922381001  0.039932                 2   \n",
       "31495016 2020-09-14  272412481300040   921906005  0.031949                 2   \n",
       "\n",
       "          week  \n",
       "29030503    95  \n",
       "29030504    95  \n",
       "29030505    95  \n",
       "29030506    95  \n",
       "29030507    95  \n",
       "29319533    96  \n",
       "29410772    96  \n",
       "29410773    96  \n",
       "29410774    96  \n",
       "29410775    96  \n",
       "29531614    96  \n",
       "29531615    96  \n",
       "29531616    96  \n",
       "31495014   103  \n",
       "31495015   103  \n",
       "31495016   103  "
      ]
     },
     "execution_count": 14,
     "metadata": {},
     "output_type": "execute_result"
    }
   ],
   "source": [
    "transactions[transactions['customer_id']==272412481300040]"
   ]
  },
  {
   "cell_type": "markdown",
   "id": "a53285d2",
   "metadata": {
    "papermill": {
     "duration": 0.0437,
     "end_time": "2023-10-09T16:13:28.484254",
     "exception": false,
     "start_time": "2023-10-09T16:13:28.440554",
     "status": "completed"
    },
    "tags": []
   },
   "source": [
    "### Bestsellers candidates"
   ]
  },
  {
   "cell_type": "code",
   "execution_count": 15,
   "id": "f85cd8ce",
   "metadata": {
    "execution": {
     "iopub.execute_input": "2023-10-09T16:13:28.574298Z",
     "iopub.status.busy": "2023-10-09T16:13:28.573233Z",
     "iopub.status.idle": "2023-10-09T16:13:28.812276Z",
     "shell.execute_reply": "2023-10-09T16:13:28.811159Z"
    },
    "papermill": {
     "duration": 0.286529,
     "end_time": "2023-10-09T16:13:28.814908",
     "exception": false,
     "start_time": "2023-10-09T16:13:28.528379",
     "status": "completed"
    },
    "tags": []
   },
   "outputs": [],
   "source": [
    "mean_price = transactions \\\n",
    "    .groupby(['week', 'article_id'])['price'].mean()"
   ]
  },
  {
   "cell_type": "code",
   "execution_count": 16,
   "id": "ff159397",
   "metadata": {
    "execution": {
     "iopub.execute_input": "2023-10-09T16:13:28.906666Z",
     "iopub.status.busy": "2023-10-09T16:13:28.906359Z",
     "iopub.status.idle": "2023-10-09T16:13:28.987687Z",
     "shell.execute_reply": "2023-10-09T16:13:28.986960Z"
    },
    "papermill": {
     "duration": 0.12953,
     "end_time": "2023-10-09T16:13:28.989521",
     "exception": false,
     "start_time": "2023-10-09T16:13:28.859991",
     "status": "completed"
    },
    "tags": []
   },
   "outputs": [
    {
     "data": {
      "text/plain": [
       "week  article_id\n",
       "95    108775015     0.004729\n",
       "      108775044     0.008458\n",
       "      110065001     0.006085\n",
       "      110065002     0.006085\n",
       "      111565001     0.004288\n",
       "                      ...   \n",
       "104   952267001     0.013732\n",
       "      952938001     0.048651\n",
       "      953450001     0.016932\n",
       "      953763001     0.021885\n",
       "      956217002     0.059068\n",
       "Name: price, Length: 196880, dtype: float32"
      ]
     },
     "execution_count": 16,
     "metadata": {},
     "output_type": "execute_result"
    }
   ],
   "source": [
    "mean_price"
   ]
  },
  {
   "cell_type": "code",
   "execution_count": 17,
   "id": "02bc3da5",
   "metadata": {
    "execution": {
     "iopub.execute_input": "2023-10-09T16:13:29.086400Z",
     "iopub.status.busy": "2023-10-09T16:13:29.085860Z",
     "iopub.status.idle": "2023-10-09T16:13:30.064945Z",
     "shell.execute_reply": "2023-10-09T16:13:30.063307Z"
    },
    "papermill": {
     "duration": 1.027821,
     "end_time": "2023-10-09T16:13:30.068027",
     "exception": false,
     "start_time": "2023-10-09T16:13:29.040206",
     "status": "completed"
    },
    "tags": []
   },
   "outputs": [],
   "source": [
    "sales = transactions \\\n",
    "    .groupby('week')['article_id'].value_counts() \\\n",
    "    .groupby('week').rank(method='dense', ascending=False) \\\n",
    "    .groupby('week').head(12).rename('bestseller_rank').astype('int8')"
   ]
  },
  {
   "cell_type": "code",
   "execution_count": 18,
   "id": "be91dd20",
   "metadata": {
    "execution": {
     "iopub.execute_input": "2023-10-09T16:13:30.162191Z",
     "iopub.status.busy": "2023-10-09T16:13:30.161586Z",
     "iopub.status.idle": "2023-10-09T16:13:30.169638Z",
     "shell.execute_reply": "2023-10-09T16:13:30.168627Z"
    },
    "papermill": {
     "duration": 0.05821,
     "end_time": "2023-10-09T16:13:30.172257",
     "exception": false,
     "start_time": "2023-10-09T16:13:30.114047",
     "status": "completed"
    },
    "tags": []
   },
   "outputs": [
    {
     "data": {
      "text/plain": [
       "week  article_id\n",
       "95    760084003      1\n",
       "      866731001      2\n",
       "      600886001      3\n",
       "      706016001      4\n",
       "      372860002      5\n",
       "                    ..\n",
       "104   915529003      8\n",
       "      915529005      9\n",
       "      448509014     10\n",
       "      762846027     11\n",
       "      714790020     12\n",
       "Name: bestseller_rank, Length: 120, dtype: int8"
      ]
     },
     "execution_count": 18,
     "metadata": {},
     "output_type": "execute_result"
    }
   ],
   "source": [
    "sales"
   ]
  },
  {
   "cell_type": "code",
   "execution_count": 19,
   "id": "ca1716ae",
   "metadata": {
    "execution": {
     "iopub.execute_input": "2023-10-09T16:13:30.263221Z",
     "iopub.status.busy": "2023-10-09T16:13:30.262869Z",
     "iopub.status.idle": "2023-10-09T16:13:30.273669Z",
     "shell.execute_reply": "2023-10-09T16:13:30.272581Z"
    },
    "papermill": {
     "duration": 0.059666,
     "end_time": "2023-10-09T16:13:30.276363",
     "exception": false,
     "start_time": "2023-10-09T16:13:30.216697",
     "status": "completed"
    },
    "tags": []
   },
   "outputs": [
    {
     "data": {
      "text/plain": [
       "article_id\n",
       "760084003     1\n",
       "866731001     2\n",
       "600886001     3\n",
       "706016001     4\n",
       "372860002     5\n",
       "610776002     6\n",
       "877278002     7\n",
       "547780003     8\n",
       "817354001     9\n",
       "827968001    10\n",
       "866731003    11\n",
       "866383006    12\n",
       "Name: bestseller_rank, dtype: int8"
      ]
     },
     "execution_count": 19,
     "metadata": {},
     "output_type": "execute_result"
    }
   ],
   "source": [
    "sales.loc[95]"
   ]
  },
  {
   "cell_type": "code",
   "execution_count": 20,
   "id": "ef30c131",
   "metadata": {
    "execution": {
     "iopub.execute_input": "2023-10-09T16:13:30.372718Z",
     "iopub.status.busy": "2023-10-09T16:13:30.372396Z",
     "iopub.status.idle": "2023-10-09T16:13:30.427583Z",
     "shell.execute_reply": "2023-10-09T16:13:30.426279Z"
    },
    "papermill": {
     "duration": 0.108506,
     "end_time": "2023-10-09T16:13:30.431021",
     "exception": false,
     "start_time": "2023-10-09T16:13:30.322515",
     "status": "completed"
    },
    "tags": []
   },
   "outputs": [],
   "source": [
    "bestsellers_previous_week = pd.merge(sales, mean_price, on=['week', 'article_id']).reset_index()\n",
    "bestsellers_previous_week.week += 1"
   ]
  },
  {
   "cell_type": "code",
   "execution_count": 21,
   "id": "b6a85d1c",
   "metadata": {
    "execution": {
     "iopub.execute_input": "2023-10-09T16:13:30.525313Z",
     "iopub.status.busy": "2023-10-09T16:13:30.524997Z",
     "iopub.status.idle": "2023-10-09T16:13:30.537413Z",
     "shell.execute_reply": "2023-10-09T16:13:30.536436Z"
    },
    "papermill": {
     "duration": 0.062094,
     "end_time": "2023-10-09T16:13:30.539536",
     "exception": false,
     "start_time": "2023-10-09T16:13:30.477442",
     "status": "completed"
    },
    "tags": []
   },
   "outputs": [
    {
     "data": {
      "text/html": [
       "<div>\n",
       "<style scoped>\n",
       "    .dataframe tbody tr th:only-of-type {\n",
       "        vertical-align: middle;\n",
       "    }\n",
       "\n",
       "    .dataframe tbody tr th {\n",
       "        vertical-align: top;\n",
       "    }\n",
       "\n",
       "    .dataframe thead th {\n",
       "        text-align: right;\n",
       "    }\n",
       "</style>\n",
       "<table border=\"1\" class=\"dataframe\">\n",
       "  <thead>\n",
       "    <tr style=\"text-align: right;\">\n",
       "      <th></th>\n",
       "      <th>week</th>\n",
       "      <th>article_id</th>\n",
       "      <th>bestseller_rank</th>\n",
       "      <th>price</th>\n",
       "    </tr>\n",
       "  </thead>\n",
       "  <tbody>\n",
       "    <tr>\n",
       "      <th>0</th>\n",
       "      <td>96</td>\n",
       "      <td>760084003</td>\n",
       "      <td>1</td>\n",
       "      <td>0.025094</td>\n",
       "    </tr>\n",
       "    <tr>\n",
       "      <th>1</th>\n",
       "      <td>96</td>\n",
       "      <td>866731001</td>\n",
       "      <td>2</td>\n",
       "      <td>0.024919</td>\n",
       "    </tr>\n",
       "    <tr>\n",
       "      <th>2</th>\n",
       "      <td>96</td>\n",
       "      <td>600886001</td>\n",
       "      <td>3</td>\n",
       "      <td>0.022980</td>\n",
       "    </tr>\n",
       "    <tr>\n",
       "      <th>3</th>\n",
       "      <td>96</td>\n",
       "      <td>706016001</td>\n",
       "      <td>4</td>\n",
       "      <td>0.033197</td>\n",
       "    </tr>\n",
       "    <tr>\n",
       "      <th>4</th>\n",
       "      <td>96</td>\n",
       "      <td>372860002</td>\n",
       "      <td>5</td>\n",
       "      <td>0.013193</td>\n",
       "    </tr>\n",
       "    <tr>\n",
       "      <th>5</th>\n",
       "      <td>96</td>\n",
       "      <td>610776002</td>\n",
       "      <td>6</td>\n",
       "      <td>0.008318</td>\n",
       "    </tr>\n",
       "    <tr>\n",
       "      <th>6</th>\n",
       "      <td>96</td>\n",
       "      <td>877278002</td>\n",
       "      <td>7</td>\n",
       "      <td>0.025036</td>\n",
       "    </tr>\n",
       "    <tr>\n",
       "      <th>7</th>\n",
       "      <td>96</td>\n",
       "      <td>547780003</td>\n",
       "      <td>8</td>\n",
       "      <td>0.024814</td>\n",
       "    </tr>\n",
       "    <tr>\n",
       "      <th>8</th>\n",
       "      <td>96</td>\n",
       "      <td>817354001</td>\n",
       "      <td>9</td>\n",
       "      <td>0.021913</td>\n",
       "    </tr>\n",
       "    <tr>\n",
       "      <th>9</th>\n",
       "      <td>96</td>\n",
       "      <td>827968001</td>\n",
       "      <td>10</td>\n",
       "      <td>0.016436</td>\n",
       "    </tr>\n",
       "    <tr>\n",
       "      <th>10</th>\n",
       "      <td>96</td>\n",
       "      <td>866731003</td>\n",
       "      <td>11</td>\n",
       "      <td>0.024893</td>\n",
       "    </tr>\n",
       "    <tr>\n",
       "      <th>11</th>\n",
       "      <td>96</td>\n",
       "      <td>866383006</td>\n",
       "      <td>12</td>\n",
       "      <td>0.023195</td>\n",
       "    </tr>\n",
       "  </tbody>\n",
       "</table>\n",
       "</div>"
      ],
      "text/plain": [
       "    week  article_id  bestseller_rank     price\n",
       "0     96   760084003                1  0.025094\n",
       "1     96   866731001                2  0.024919\n",
       "2     96   600886001                3  0.022980\n",
       "3     96   706016001                4  0.033197\n",
       "4     96   372860002                5  0.013193\n",
       "5     96   610776002                6  0.008318\n",
       "6     96   877278002                7  0.025036\n",
       "7     96   547780003                8  0.024814\n",
       "8     96   817354001                9  0.021913\n",
       "9     96   827968001               10  0.016436\n",
       "10    96   866731003               11  0.024893\n",
       "11    96   866383006               12  0.023195"
      ]
     },
     "execution_count": 21,
     "metadata": {},
     "output_type": "execute_result"
    }
   ],
   "source": [
    "bestsellers_previous_week.pipe(lambda df: df[df['week']==96])"
   ]
  },
  {
   "cell_type": "code",
   "execution_count": 22,
   "id": "daac97ad",
   "metadata": {
    "execution": {
     "iopub.execute_input": "2023-10-09T16:13:30.634303Z",
     "iopub.status.busy": "2023-10-09T16:13:30.633976Z",
     "iopub.status.idle": "2023-10-09T16:13:31.256117Z",
     "shell.execute_reply": "2023-10-09T16:13:31.254638Z"
    },
    "papermill": {
     "duration": 0.673077,
     "end_time": "2023-10-09T16:13:31.258389",
     "exception": false,
     "start_time": "2023-10-09T16:13:30.585312",
     "status": "completed"
    },
    "tags": []
   },
   "outputs": [],
   "source": [
    "unique_transactions = transactions \\\n",
    "    .groupby(['week', 'customer_id']) \\\n",
    "    .head(1) \\\n",
    "    .drop(columns=['article_id', 'price']) \\\n",
    "    .copy()"
   ]
  },
  {
   "cell_type": "code",
   "execution_count": 23,
   "id": "ed2349fa",
   "metadata": {
    "execution": {
     "iopub.execute_input": "2023-10-09T16:13:31.350649Z",
     "iopub.status.busy": "2023-10-09T16:13:31.350154Z",
     "iopub.status.idle": "2023-10-09T16:13:31.365294Z",
     "shell.execute_reply": "2023-10-09T16:13:31.364251Z"
    },
    "papermill": {
     "duration": 0.064264,
     "end_time": "2023-10-09T16:13:31.367411",
     "exception": false,
     "start_time": "2023-10-09T16:13:31.303147",
     "status": "completed"
    },
    "tags": []
   },
   "outputs": [
    {
     "data": {
      "text/html": [
       "<div>\n",
       "<style scoped>\n",
       "    .dataframe tbody tr th:only-of-type {\n",
       "        vertical-align: middle;\n",
       "    }\n",
       "\n",
       "    .dataframe tbody tr th {\n",
       "        vertical-align: top;\n",
       "    }\n",
       "\n",
       "    .dataframe thead th {\n",
       "        text-align: right;\n",
       "    }\n",
       "</style>\n",
       "<table border=\"1\" class=\"dataframe\">\n",
       "  <thead>\n",
       "    <tr style=\"text-align: right;\">\n",
       "      <th></th>\n",
       "      <th>t_dat</th>\n",
       "      <th>customer_id</th>\n",
       "      <th>sales_channel_id</th>\n",
       "      <th>week</th>\n",
       "    </tr>\n",
       "  </thead>\n",
       "  <tbody>\n",
       "    <tr>\n",
       "      <th>29030503</th>\n",
       "      <td>2020-07-15</td>\n",
       "      <td>272412481300040</td>\n",
       "      <td>1</td>\n",
       "      <td>95</td>\n",
       "    </tr>\n",
       "    <tr>\n",
       "      <th>29064059</th>\n",
       "      <td>2020-07-15</td>\n",
       "      <td>1456826891333599</td>\n",
       "      <td>1</td>\n",
       "      <td>95</td>\n",
       "    </tr>\n",
       "    <tr>\n",
       "      <th>29067103</th>\n",
       "      <td>2020-07-15</td>\n",
       "      <td>2133687643102426</td>\n",
       "      <td>2</td>\n",
       "      <td>95</td>\n",
       "    </tr>\n",
       "    <tr>\n",
       "      <th>29027487</th>\n",
       "      <td>2020-07-15</td>\n",
       "      <td>6010692573790711</td>\n",
       "      <td>1</td>\n",
       "      <td>95</td>\n",
       "    </tr>\n",
       "    <tr>\n",
       "      <th>29046403</th>\n",
       "      <td>2020-07-15</td>\n",
       "      <td>6171059100114610</td>\n",
       "      <td>2</td>\n",
       "      <td>95</td>\n",
       "    </tr>\n",
       "    <tr>\n",
       "      <th>...</th>\n",
       "      <td>...</td>\n",
       "      <td>...</td>\n",
       "      <td>...</td>\n",
       "      <td>...</td>\n",
       "    </tr>\n",
       "    <tr>\n",
       "      <th>31760188</th>\n",
       "      <td>2020-09-22</td>\n",
       "      <td>18435221511488011015</td>\n",
       "      <td>1</td>\n",
       "      <td>104</td>\n",
       "    </tr>\n",
       "    <tr>\n",
       "      <th>31782234</th>\n",
       "      <td>2020-09-22</td>\n",
       "      <td>18436859303155335645</td>\n",
       "      <td>1</td>\n",
       "      <td>104</td>\n",
       "    </tr>\n",
       "    <tr>\n",
       "      <th>31787251</th>\n",
       "      <td>2020-09-22</td>\n",
       "      <td>18437941771381362708</td>\n",
       "      <td>2</td>\n",
       "      <td>104</td>\n",
       "    </tr>\n",
       "    <tr>\n",
       "      <th>31776022</th>\n",
       "      <td>2020-09-22</td>\n",
       "      <td>18438270306572912089</td>\n",
       "      <td>1</td>\n",
       "      <td>104</td>\n",
       "    </tr>\n",
       "    <tr>\n",
       "      <th>31779097</th>\n",
       "      <td>2020-09-22</td>\n",
       "      <td>18440902715633436014</td>\n",
       "      <td>1</td>\n",
       "      <td>104</td>\n",
       "    </tr>\n",
       "  </tbody>\n",
       "</table>\n",
       "<p>755710 rows × 4 columns</p>\n",
       "</div>"
      ],
      "text/plain": [
       "              t_dat           customer_id  sales_channel_id  week\n",
       "29030503 2020-07-15       272412481300040                 1    95\n",
       "29064059 2020-07-15      1456826891333599                 1    95\n",
       "29067103 2020-07-15      2133687643102426                 2    95\n",
       "29027487 2020-07-15      6010692573790711                 1    95\n",
       "29046403 2020-07-15      6171059100114610                 2    95\n",
       "...             ...                   ...               ...   ...\n",
       "31760188 2020-09-22  18435221511488011015                 1   104\n",
       "31782234 2020-09-22  18436859303155335645                 1   104\n",
       "31787251 2020-09-22  18437941771381362708                 2   104\n",
       "31776022 2020-09-22  18438270306572912089                 1   104\n",
       "31779097 2020-09-22  18440902715633436014                 1   104\n",
       "\n",
       "[755710 rows x 4 columns]"
      ]
     },
     "execution_count": 23,
     "metadata": {},
     "output_type": "execute_result"
    }
   ],
   "source": [
    "unique_transactions"
   ]
  },
  {
   "cell_type": "code",
   "execution_count": 24,
   "id": "f43465d0",
   "metadata": {
    "execution": {
     "iopub.execute_input": "2023-10-09T16:13:31.464695Z",
     "iopub.status.busy": "2023-10-09T16:13:31.464423Z",
     "iopub.status.idle": "2023-10-09T16:13:31.748749Z",
     "shell.execute_reply": "2023-10-09T16:13:31.747936Z"
    },
    "papermill": {
     "duration": 0.337683,
     "end_time": "2023-10-09T16:13:31.751016",
     "exception": false,
     "start_time": "2023-10-09T16:13:31.413333",
     "status": "completed"
    },
    "tags": []
   },
   "outputs": [
    {
     "data": {
      "text/html": [
       "<div>\n",
       "<style scoped>\n",
       "    .dataframe tbody tr th:only-of-type {\n",
       "        vertical-align: middle;\n",
       "    }\n",
       "\n",
       "    .dataframe tbody tr th {\n",
       "        vertical-align: top;\n",
       "    }\n",
       "\n",
       "    .dataframe thead th {\n",
       "        text-align: right;\n",
       "    }\n",
       "</style>\n",
       "<table border=\"1\" class=\"dataframe\">\n",
       "  <thead>\n",
       "    <tr style=\"text-align: right;\">\n",
       "      <th></th>\n",
       "      <th>t_dat</th>\n",
       "      <th>customer_id</th>\n",
       "      <th>article_id</th>\n",
       "      <th>price</th>\n",
       "      <th>sales_channel_id</th>\n",
       "      <th>week</th>\n",
       "    </tr>\n",
       "  </thead>\n",
       "  <tbody>\n",
       "    <tr>\n",
       "      <th>29030503</th>\n",
       "      <td>2020-07-15</td>\n",
       "      <td>272412481300040</td>\n",
       "      <td>778064028</td>\n",
       "      <td>0.008458</td>\n",
       "      <td>1</td>\n",
       "      <td>95</td>\n",
       "    </tr>\n",
       "    <tr>\n",
       "      <th>29064059</th>\n",
       "      <td>2020-07-15</td>\n",
       "      <td>1456826891333599</td>\n",
       "      <td>888294001</td>\n",
       "      <td>0.013542</td>\n",
       "      <td>1</td>\n",
       "      <td>95</td>\n",
       "    </tr>\n",
       "    <tr>\n",
       "      <th>29067103</th>\n",
       "      <td>2020-07-15</td>\n",
       "      <td>2133687643102426</td>\n",
       "      <td>843642001</td>\n",
       "      <td>0.042356</td>\n",
       "      <td>2</td>\n",
       "      <td>95</td>\n",
       "    </tr>\n",
       "    <tr>\n",
       "      <th>29027487</th>\n",
       "      <td>2020-07-15</td>\n",
       "      <td>6010692573790711</td>\n",
       "      <td>857812010</td>\n",
       "      <td>0.039661</td>\n",
       "      <td>1</td>\n",
       "      <td>95</td>\n",
       "    </tr>\n",
       "    <tr>\n",
       "      <th>29046403</th>\n",
       "      <td>2020-07-15</td>\n",
       "      <td>6171059100114610</td>\n",
       "      <td>815447007</td>\n",
       "      <td>0.006763</td>\n",
       "      <td>2</td>\n",
       "      <td>95</td>\n",
       "    </tr>\n",
       "    <tr>\n",
       "      <th>...</th>\n",
       "      <td>...</td>\n",
       "      <td>...</td>\n",
       "      <td>...</td>\n",
       "      <td>...</td>\n",
       "      <td>...</td>\n",
       "      <td>...</td>\n",
       "    </tr>\n",
       "    <tr>\n",
       "      <th>31760188</th>\n",
       "      <td>2020-09-22</td>\n",
       "      <td>18435221511488011015</td>\n",
       "      <td>573085055</td>\n",
       "      <td>0.033881</td>\n",
       "      <td>1</td>\n",
       "      <td>104</td>\n",
       "    </tr>\n",
       "    <tr>\n",
       "      <th>31782234</th>\n",
       "      <td>2020-09-22</td>\n",
       "      <td>18436859303155335645</td>\n",
       "      <td>801447001</td>\n",
       "      <td>0.030492</td>\n",
       "      <td>1</td>\n",
       "      <td>104</td>\n",
       "    </tr>\n",
       "    <tr>\n",
       "      <th>31787251</th>\n",
       "      <td>2020-09-22</td>\n",
       "      <td>18437941771381362708</td>\n",
       "      <td>907188001</td>\n",
       "      <td>0.050831</td>\n",
       "      <td>2</td>\n",
       "      <td>104</td>\n",
       "    </tr>\n",
       "    <tr>\n",
       "      <th>31776022</th>\n",
       "      <td>2020-09-22</td>\n",
       "      <td>18438270306572912089</td>\n",
       "      <td>751471043</td>\n",
       "      <td>0.033881</td>\n",
       "      <td>1</td>\n",
       "      <td>104</td>\n",
       "    </tr>\n",
       "    <tr>\n",
       "      <th>31779097</th>\n",
       "      <td>2020-09-22</td>\n",
       "      <td>18440902715633436014</td>\n",
       "      <td>918894002</td>\n",
       "      <td>0.016932</td>\n",
       "      <td>1</td>\n",
       "      <td>104</td>\n",
       "    </tr>\n",
       "  </tbody>\n",
       "</table>\n",
       "<p>755710 rows × 6 columns</p>\n",
       "</div>"
      ],
      "text/plain": [
       "              t_dat           customer_id  article_id     price  \\\n",
       "29030503 2020-07-15       272412481300040   778064028  0.008458   \n",
       "29064059 2020-07-15      1456826891333599   888294001  0.013542   \n",
       "29067103 2020-07-15      2133687643102426   843642001  0.042356   \n",
       "29027487 2020-07-15      6010692573790711   857812010  0.039661   \n",
       "29046403 2020-07-15      6171059100114610   815447007  0.006763   \n",
       "...             ...                   ...         ...       ...   \n",
       "31760188 2020-09-22  18435221511488011015   573085055  0.033881   \n",
       "31782234 2020-09-22  18436859303155335645   801447001  0.030492   \n",
       "31787251 2020-09-22  18437941771381362708   907188001  0.050831   \n",
       "31776022 2020-09-22  18438270306572912089   751471043  0.033881   \n",
       "31779097 2020-09-22  18440902715633436014   918894002  0.016932   \n",
       "\n",
       "          sales_channel_id  week  \n",
       "29030503                 1    95  \n",
       "29064059                 1    95  \n",
       "29067103                 2    95  \n",
       "29027487                 1    95  \n",
       "29046403                 2    95  \n",
       "...                    ...   ...  \n",
       "31760188                 1   104  \n",
       "31782234                 1   104  \n",
       "31787251                 2   104  \n",
       "31776022                 1   104  \n",
       "31779097                 1   104  \n",
       "\n",
       "[755710 rows x 6 columns]"
      ]
     },
     "execution_count": 24,
     "metadata": {},
     "output_type": "execute_result"
    }
   ],
   "source": [
    "transactions.drop_duplicates(['week', 'customer_id'])"
   ]
  },
  {
   "cell_type": "code",
   "execution_count": 25,
   "id": "a6c3fd02",
   "metadata": {
    "execution": {
     "iopub.execute_input": "2023-10-09T16:13:31.847077Z",
     "iopub.status.busy": "2023-10-09T16:13:31.846720Z",
     "iopub.status.idle": "2023-10-09T16:13:32.603762Z",
     "shell.execute_reply": "2023-10-09T16:13:32.602753Z"
    },
    "papermill": {
     "duration": 0.807748,
     "end_time": "2023-10-09T16:13:32.606349",
     "exception": false,
     "start_time": "2023-10-09T16:13:31.798601",
     "status": "completed"
    },
    "tags": []
   },
   "outputs": [],
   "source": [
    "candidates_bestsellers = pd.merge(\n",
    "    unique_transactions,\n",
    "    bestsellers_previous_week,\n",
    "    on='week',\n",
    ")"
   ]
  },
  {
   "cell_type": "code",
   "execution_count": 26,
   "id": "dc24240c",
   "metadata": {
    "execution": {
     "iopub.execute_input": "2023-10-09T16:13:32.701441Z",
     "iopub.status.busy": "2023-10-09T16:13:32.701082Z",
     "iopub.status.idle": "2023-10-09T16:13:32.826578Z",
     "shell.execute_reply": "2023-10-09T16:13:32.825595Z"
    },
    "papermill": {
     "duration": 0.177035,
     "end_time": "2023-10-09T16:13:32.829150",
     "exception": false,
     "start_time": "2023-10-09T16:13:32.652115",
     "status": "completed"
    },
    "tags": []
   },
   "outputs": [],
   "source": [
    "test_set_transactions = unique_transactions.drop_duplicates('customer_id').reset_index(drop=True)\n",
    "test_set_transactions.week = test_week"
   ]
  },
  {
   "cell_type": "code",
   "execution_count": 27,
   "id": "5411a8ac",
   "metadata": {
    "execution": {
     "iopub.execute_input": "2023-10-09T16:13:32.925618Z",
     "iopub.status.busy": "2023-10-09T16:13:32.925303Z",
     "iopub.status.idle": "2023-10-09T16:13:32.940250Z",
     "shell.execute_reply": "2023-10-09T16:13:32.939155Z"
    },
    "papermill": {
     "duration": 0.066191,
     "end_time": "2023-10-09T16:13:32.942203",
     "exception": false,
     "start_time": "2023-10-09T16:13:32.876012",
     "status": "completed"
    },
    "tags": []
   },
   "outputs": [
    {
     "data": {
      "text/html": [
       "<div>\n",
       "<style scoped>\n",
       "    .dataframe tbody tr th:only-of-type {\n",
       "        vertical-align: middle;\n",
       "    }\n",
       "\n",
       "    .dataframe tbody tr th {\n",
       "        vertical-align: top;\n",
       "    }\n",
       "\n",
       "    .dataframe thead th {\n",
       "        text-align: right;\n",
       "    }\n",
       "</style>\n",
       "<table border=\"1\" class=\"dataframe\">\n",
       "  <thead>\n",
       "    <tr style=\"text-align: right;\">\n",
       "      <th></th>\n",
       "      <th>t_dat</th>\n",
       "      <th>customer_id</th>\n",
       "      <th>sales_channel_id</th>\n",
       "      <th>week</th>\n",
       "    </tr>\n",
       "  </thead>\n",
       "  <tbody>\n",
       "    <tr>\n",
       "      <th>0</th>\n",
       "      <td>2020-07-15</td>\n",
       "      <td>272412481300040</td>\n",
       "      <td>1</td>\n",
       "      <td>105</td>\n",
       "    </tr>\n",
       "    <tr>\n",
       "      <th>1</th>\n",
       "      <td>2020-07-15</td>\n",
       "      <td>1456826891333599</td>\n",
       "      <td>1</td>\n",
       "      <td>105</td>\n",
       "    </tr>\n",
       "    <tr>\n",
       "      <th>2</th>\n",
       "      <td>2020-07-15</td>\n",
       "      <td>2133687643102426</td>\n",
       "      <td>2</td>\n",
       "      <td>105</td>\n",
       "    </tr>\n",
       "    <tr>\n",
       "      <th>3</th>\n",
       "      <td>2020-07-15</td>\n",
       "      <td>6010692573790711</td>\n",
       "      <td>1</td>\n",
       "      <td>105</td>\n",
       "    </tr>\n",
       "    <tr>\n",
       "      <th>4</th>\n",
       "      <td>2020-07-15</td>\n",
       "      <td>6171059100114610</td>\n",
       "      <td>2</td>\n",
       "      <td>105</td>\n",
       "    </tr>\n",
       "    <tr>\n",
       "      <th>...</th>\n",
       "      <td>...</td>\n",
       "      <td>...</td>\n",
       "      <td>...</td>\n",
       "      <td>...</td>\n",
       "    </tr>\n",
       "    <tr>\n",
       "      <th>437360</th>\n",
       "      <td>2020-09-22</td>\n",
       "      <td>18410229429441241008</td>\n",
       "      <td>2</td>\n",
       "      <td>105</td>\n",
       "    </tr>\n",
       "    <tr>\n",
       "      <th>437361</th>\n",
       "      <td>2020-09-22</td>\n",
       "      <td>18417769707947924979</td>\n",
       "      <td>2</td>\n",
       "      <td>105</td>\n",
       "    </tr>\n",
       "    <tr>\n",
       "      <th>437362</th>\n",
       "      <td>2020-09-22</td>\n",
       "      <td>18418054986721795659</td>\n",
       "      <td>2</td>\n",
       "      <td>105</td>\n",
       "    </tr>\n",
       "    <tr>\n",
       "      <th>437363</th>\n",
       "      <td>2020-09-22</td>\n",
       "      <td>18421175435799911749</td>\n",
       "      <td>2</td>\n",
       "      <td>105</td>\n",
       "    </tr>\n",
       "    <tr>\n",
       "      <th>437364</th>\n",
       "      <td>2020-09-22</td>\n",
       "      <td>18438270306572912089</td>\n",
       "      <td>1</td>\n",
       "      <td>105</td>\n",
       "    </tr>\n",
       "  </tbody>\n",
       "</table>\n",
       "<p>437365 rows × 4 columns</p>\n",
       "</div>"
      ],
      "text/plain": [
       "            t_dat           customer_id  sales_channel_id  week\n",
       "0      2020-07-15       272412481300040                 1   105\n",
       "1      2020-07-15      1456826891333599                 1   105\n",
       "2      2020-07-15      2133687643102426                 2   105\n",
       "3      2020-07-15      6010692573790711                 1   105\n",
       "4      2020-07-15      6171059100114610                 2   105\n",
       "...           ...                   ...               ...   ...\n",
       "437360 2020-09-22  18410229429441241008                 2   105\n",
       "437361 2020-09-22  18417769707947924979                 2   105\n",
       "437362 2020-09-22  18418054986721795659                 2   105\n",
       "437363 2020-09-22  18421175435799911749                 2   105\n",
       "437364 2020-09-22  18438270306572912089                 1   105\n",
       "\n",
       "[437365 rows x 4 columns]"
      ]
     },
     "execution_count": 27,
     "metadata": {},
     "output_type": "execute_result"
    }
   ],
   "source": [
    "test_set_transactions"
   ]
  },
  {
   "cell_type": "code",
   "execution_count": 28,
   "id": "613e5306",
   "metadata": {
    "execution": {
     "iopub.execute_input": "2023-10-09T16:13:33.043766Z",
     "iopub.status.busy": "2023-10-09T16:13:33.042709Z",
     "iopub.status.idle": "2023-10-09T16:13:33.574860Z",
     "shell.execute_reply": "2023-10-09T16:13:33.573788Z"
    },
    "papermill": {
     "duration": 0.58806,
     "end_time": "2023-10-09T16:13:33.577515",
     "exception": false,
     "start_time": "2023-10-09T16:13:32.989455",
     "status": "completed"
    },
    "tags": []
   },
   "outputs": [],
   "source": [
    "candidates_bestsellers_test_week = pd.merge(\n",
    "    test_set_transactions,\n",
    "    bestsellers_previous_week,\n",
    "    on='week'\n",
    ")"
   ]
  },
  {
   "cell_type": "code",
   "execution_count": 29,
   "id": "3a0bfcdc",
   "metadata": {
    "execution": {
     "iopub.execute_input": "2023-10-09T16:13:33.676018Z",
     "iopub.status.busy": "2023-10-09T16:13:33.675709Z",
     "iopub.status.idle": "2023-10-09T16:13:35.014225Z",
     "shell.execute_reply": "2023-10-09T16:13:35.012224Z"
    },
    "papermill": {
     "duration": 1.3946,
     "end_time": "2023-10-09T16:13:35.019576",
     "exception": false,
     "start_time": "2023-10-09T16:13:33.624976",
     "status": "completed"
    },
    "tags": []
   },
   "outputs": [],
   "source": [
    "candidates_bestsellers = pd.concat([candidates_bestsellers, candidates_bestsellers_test_week])\n",
    "candidates_bestsellers.drop(columns='bestseller_rank', inplace=True)"
   ]
  },
  {
   "cell_type": "code",
   "execution_count": 30,
   "id": "35a446bd",
   "metadata": {
    "execution": {
     "iopub.execute_input": "2023-10-09T16:13:35.118266Z",
     "iopub.status.busy": "2023-10-09T16:13:35.117958Z",
     "iopub.status.idle": "2023-10-09T16:13:35.135733Z",
     "shell.execute_reply": "2023-10-09T16:13:35.134439Z"
    },
    "papermill": {
     "duration": 0.068789,
     "end_time": "2023-10-09T16:13:35.138260",
     "exception": false,
     "start_time": "2023-10-09T16:13:35.069471",
     "status": "completed"
    },
    "tags": []
   },
   "outputs": [
    {
     "data": {
      "text/html": [
       "<div>\n",
       "<style scoped>\n",
       "    .dataframe tbody tr th:only-of-type {\n",
       "        vertical-align: middle;\n",
       "    }\n",
       "\n",
       "    .dataframe tbody tr th {\n",
       "        vertical-align: top;\n",
       "    }\n",
       "\n",
       "    .dataframe thead th {\n",
       "        text-align: right;\n",
       "    }\n",
       "</style>\n",
       "<table border=\"1\" class=\"dataframe\">\n",
       "  <thead>\n",
       "    <tr style=\"text-align: right;\">\n",
       "      <th></th>\n",
       "      <th>t_dat</th>\n",
       "      <th>customer_id</th>\n",
       "      <th>sales_channel_id</th>\n",
       "      <th>week</th>\n",
       "      <th>article_id</th>\n",
       "      <th>price</th>\n",
       "    </tr>\n",
       "  </thead>\n",
       "  <tbody>\n",
       "    <tr>\n",
       "      <th>0</th>\n",
       "      <td>2020-07-22</td>\n",
       "      <td>200292573348128</td>\n",
       "      <td>2</td>\n",
       "      <td>96</td>\n",
       "      <td>760084003</td>\n",
       "      <td>0.025094</td>\n",
       "    </tr>\n",
       "    <tr>\n",
       "      <th>1</th>\n",
       "      <td>2020-07-22</td>\n",
       "      <td>200292573348128</td>\n",
       "      <td>2</td>\n",
       "      <td>96</td>\n",
       "      <td>866731001</td>\n",
       "      <td>0.024919</td>\n",
       "    </tr>\n",
       "    <tr>\n",
       "      <th>2</th>\n",
       "      <td>2020-07-22</td>\n",
       "      <td>200292573348128</td>\n",
       "      <td>2</td>\n",
       "      <td>96</td>\n",
       "      <td>600886001</td>\n",
       "      <td>0.022980</td>\n",
       "    </tr>\n",
       "    <tr>\n",
       "      <th>3</th>\n",
       "      <td>2020-07-22</td>\n",
       "      <td>200292573348128</td>\n",
       "      <td>2</td>\n",
       "      <td>96</td>\n",
       "      <td>706016001</td>\n",
       "      <td>0.033197</td>\n",
       "    </tr>\n",
       "    <tr>\n",
       "      <th>4</th>\n",
       "      <td>2020-07-22</td>\n",
       "      <td>200292573348128</td>\n",
       "      <td>2</td>\n",
       "      <td>96</td>\n",
       "      <td>372860002</td>\n",
       "      <td>0.013193</td>\n",
       "    </tr>\n",
       "    <tr>\n",
       "      <th>...</th>\n",
       "      <td>...</td>\n",
       "      <td>...</td>\n",
       "      <td>...</td>\n",
       "      <td>...</td>\n",
       "      <td>...</td>\n",
       "      <td>...</td>\n",
       "    </tr>\n",
       "    <tr>\n",
       "      <th>5248375</th>\n",
       "      <td>2020-09-22</td>\n",
       "      <td>18438270306572912089</td>\n",
       "      <td>1</td>\n",
       "      <td>105</td>\n",
       "      <td>915529003</td>\n",
       "      <td>0.033439</td>\n",
       "    </tr>\n",
       "    <tr>\n",
       "      <th>5248376</th>\n",
       "      <td>2020-09-22</td>\n",
       "      <td>18438270306572912089</td>\n",
       "      <td>1</td>\n",
       "      <td>105</td>\n",
       "      <td>915529005</td>\n",
       "      <td>0.033417</td>\n",
       "    </tr>\n",
       "    <tr>\n",
       "      <th>5248377</th>\n",
       "      <td>2020-09-22</td>\n",
       "      <td>18438270306572912089</td>\n",
       "      <td>1</td>\n",
       "      <td>105</td>\n",
       "      <td>448509014</td>\n",
       "      <td>0.041630</td>\n",
       "    </tr>\n",
       "    <tr>\n",
       "      <th>5248378</th>\n",
       "      <td>2020-09-22</td>\n",
       "      <td>18438270306572912089</td>\n",
       "      <td>1</td>\n",
       "      <td>105</td>\n",
       "      <td>762846027</td>\n",
       "      <td>0.025005</td>\n",
       "    </tr>\n",
       "    <tr>\n",
       "      <th>5248379</th>\n",
       "      <td>2020-09-22</td>\n",
       "      <td>18438270306572912089</td>\n",
       "      <td>1</td>\n",
       "      <td>105</td>\n",
       "      <td>714790020</td>\n",
       "      <td>0.049951</td>\n",
       "    </tr>\n",
       "  </tbody>\n",
       "</table>\n",
       "<p>13389576 rows × 6 columns</p>\n",
       "</div>"
      ],
      "text/plain": [
       "             t_dat           customer_id  sales_channel_id  week  article_id  \\\n",
       "0       2020-07-22       200292573348128                 2    96   760084003   \n",
       "1       2020-07-22       200292573348128                 2    96   866731001   \n",
       "2       2020-07-22       200292573348128                 2    96   600886001   \n",
       "3       2020-07-22       200292573348128                 2    96   706016001   \n",
       "4       2020-07-22       200292573348128                 2    96   372860002   \n",
       "...            ...                   ...               ...   ...         ...   \n",
       "5248375 2020-09-22  18438270306572912089                 1   105   915529003   \n",
       "5248376 2020-09-22  18438270306572912089                 1   105   915529005   \n",
       "5248377 2020-09-22  18438270306572912089                 1   105   448509014   \n",
       "5248378 2020-09-22  18438270306572912089                 1   105   762846027   \n",
       "5248379 2020-09-22  18438270306572912089                 1   105   714790020   \n",
       "\n",
       "            price  \n",
       "0        0.025094  \n",
       "1        0.024919  \n",
       "2        0.022980  \n",
       "3        0.033197  \n",
       "4        0.013193  \n",
       "...           ...  \n",
       "5248375  0.033439  \n",
       "5248376  0.033417  \n",
       "5248377  0.041630  \n",
       "5248378  0.025005  \n",
       "5248379  0.049951  \n",
       "\n",
       "[13389576 rows x 6 columns]"
      ]
     },
     "execution_count": 30,
     "metadata": {},
     "output_type": "execute_result"
    }
   ],
   "source": [
    "candidates_bestsellers"
   ]
  },
  {
   "cell_type": "markdown",
   "id": "63414676",
   "metadata": {
    "papermill": {
     "duration": 0.048778,
     "end_time": "2023-10-09T16:13:35.236951",
     "exception": false,
     "start_time": "2023-10-09T16:13:35.188173",
     "status": "completed"
    },
    "tags": []
   },
   "source": [
    "# Combining transactions and candidates / negative examples"
   ]
  },
  {
   "cell_type": "code",
   "execution_count": 31,
   "id": "53ae28f2",
   "metadata": {
    "execution": {
     "iopub.execute_input": "2023-10-09T16:13:35.334055Z",
     "iopub.status.busy": "2023-10-09T16:13:35.333682Z",
     "iopub.status.idle": "2023-10-09T16:13:35.350445Z",
     "shell.execute_reply": "2023-10-09T16:13:35.349457Z"
    },
    "papermill": {
     "duration": 0.067915,
     "end_time": "2023-10-09T16:13:35.352939",
     "exception": false,
     "start_time": "2023-10-09T16:13:35.285024",
     "status": "completed"
    },
    "tags": []
   },
   "outputs": [],
   "source": [
    "transactions['purchased'] = 1"
   ]
  },
  {
   "cell_type": "code",
   "execution_count": 32,
   "id": "63d2ba97",
   "metadata": {
    "execution": {
     "iopub.execute_input": "2023-10-09T16:13:35.449237Z",
     "iopub.status.busy": "2023-10-09T16:13:35.448867Z",
     "iopub.status.idle": "2023-10-09T16:13:36.395352Z",
     "shell.execute_reply": "2023-10-09T16:13:36.394120Z"
    },
    "papermill": {
     "duration": 0.996959,
     "end_time": "2023-10-09T16:13:36.397736",
     "exception": false,
     "start_time": "2023-10-09T16:13:35.400777",
     "status": "completed"
    },
    "tags": []
   },
   "outputs": [],
   "source": [
    "data = pd.concat([transactions, candidates_last_purchase, candidates_bestsellers])\n",
    "data.purchased.fillna(0, inplace=True)"
   ]
  },
  {
   "cell_type": "code",
   "execution_count": 33,
   "id": "0cc6bc7a",
   "metadata": {
    "execution": {
     "iopub.execute_input": "2023-10-09T16:13:36.495934Z",
     "iopub.status.busy": "2023-10-09T16:13:36.495595Z",
     "iopub.status.idle": "2023-10-09T16:13:36.515584Z",
     "shell.execute_reply": "2023-10-09T16:13:36.514570Z"
    },
    "papermill": {
     "duration": 0.071124,
     "end_time": "2023-10-09T16:13:36.517631",
     "exception": false,
     "start_time": "2023-10-09T16:13:36.446507",
     "status": "completed"
    },
    "tags": []
   },
   "outputs": [
    {
     "data": {
      "text/html": [
       "<div>\n",
       "<style scoped>\n",
       "    .dataframe tbody tr th:only-of-type {\n",
       "        vertical-align: middle;\n",
       "    }\n",
       "\n",
       "    .dataframe tbody tr th {\n",
       "        vertical-align: top;\n",
       "    }\n",
       "\n",
       "    .dataframe thead th {\n",
       "        text-align: right;\n",
       "    }\n",
       "</style>\n",
       "<table border=\"1\" class=\"dataframe\">\n",
       "  <thead>\n",
       "    <tr style=\"text-align: right;\">\n",
       "      <th></th>\n",
       "      <th>t_dat</th>\n",
       "      <th>customer_id</th>\n",
       "      <th>article_id</th>\n",
       "      <th>price</th>\n",
       "      <th>sales_channel_id</th>\n",
       "      <th>week</th>\n",
       "      <th>purchased</th>\n",
       "    </tr>\n",
       "  </thead>\n",
       "  <tbody>\n",
       "    <tr>\n",
       "      <th>29030503</th>\n",
       "      <td>2020-07-15</td>\n",
       "      <td>272412481300040</td>\n",
       "      <td>778064028</td>\n",
       "      <td>0.008458</td>\n",
       "      <td>1</td>\n",
       "      <td>95</td>\n",
       "      <td>1.0</td>\n",
       "    </tr>\n",
       "    <tr>\n",
       "      <th>29030504</th>\n",
       "      <td>2020-07-15</td>\n",
       "      <td>272412481300040</td>\n",
       "      <td>816592008</td>\n",
       "      <td>0.016932</td>\n",
       "      <td>1</td>\n",
       "      <td>95</td>\n",
       "      <td>1.0</td>\n",
       "    </tr>\n",
       "    <tr>\n",
       "      <th>29030505</th>\n",
       "      <td>2020-07-15</td>\n",
       "      <td>272412481300040</td>\n",
       "      <td>621381021</td>\n",
       "      <td>0.033881</td>\n",
       "      <td>1</td>\n",
       "      <td>95</td>\n",
       "      <td>1.0</td>\n",
       "    </tr>\n",
       "    <tr>\n",
       "      <th>29030506</th>\n",
       "      <td>2020-07-15</td>\n",
       "      <td>272412481300040</td>\n",
       "      <td>817477003</td>\n",
       "      <td>0.025407</td>\n",
       "      <td>1</td>\n",
       "      <td>95</td>\n",
       "      <td>1.0</td>\n",
       "    </tr>\n",
       "    <tr>\n",
       "      <th>29030507</th>\n",
       "      <td>2020-07-15</td>\n",
       "      <td>272412481300040</td>\n",
       "      <td>899088002</td>\n",
       "      <td>0.025407</td>\n",
       "      <td>1</td>\n",
       "      <td>95</td>\n",
       "      <td>1.0</td>\n",
       "    </tr>\n",
       "    <tr>\n",
       "      <th>...</th>\n",
       "      <td>...</td>\n",
       "      <td>...</td>\n",
       "      <td>...</td>\n",
       "      <td>...</td>\n",
       "      <td>...</td>\n",
       "      <td>...</td>\n",
       "      <td>...</td>\n",
       "    </tr>\n",
       "    <tr>\n",
       "      <th>5248375</th>\n",
       "      <td>2020-09-22</td>\n",
       "      <td>18438270306572912089</td>\n",
       "      <td>915529003</td>\n",
       "      <td>0.033439</td>\n",
       "      <td>1</td>\n",
       "      <td>105</td>\n",
       "      <td>0.0</td>\n",
       "    </tr>\n",
       "    <tr>\n",
       "      <th>5248376</th>\n",
       "      <td>2020-09-22</td>\n",
       "      <td>18438270306572912089</td>\n",
       "      <td>915529005</td>\n",
       "      <td>0.033417</td>\n",
       "      <td>1</td>\n",
       "      <td>105</td>\n",
       "      <td>0.0</td>\n",
       "    </tr>\n",
       "    <tr>\n",
       "      <th>5248377</th>\n",
       "      <td>2020-09-22</td>\n",
       "      <td>18438270306572912089</td>\n",
       "      <td>448509014</td>\n",
       "      <td>0.041630</td>\n",
       "      <td>1</td>\n",
       "      <td>105</td>\n",
       "      <td>0.0</td>\n",
       "    </tr>\n",
       "    <tr>\n",
       "      <th>5248378</th>\n",
       "      <td>2020-09-22</td>\n",
       "      <td>18438270306572912089</td>\n",
       "      <td>762846027</td>\n",
       "      <td>0.025005</td>\n",
       "      <td>1</td>\n",
       "      <td>105</td>\n",
       "      <td>0.0</td>\n",
       "    </tr>\n",
       "    <tr>\n",
       "      <th>5248379</th>\n",
       "      <td>2020-09-22</td>\n",
       "      <td>18438270306572912089</td>\n",
       "      <td>714790020</td>\n",
       "      <td>0.049951</td>\n",
       "      <td>1</td>\n",
       "      <td>105</td>\n",
       "      <td>0.0</td>\n",
       "    </tr>\n",
       "  </tbody>\n",
       "</table>\n",
       "<p>18915320 rows × 7 columns</p>\n",
       "</div>"
      ],
      "text/plain": [
       "              t_dat           customer_id  article_id     price  \\\n",
       "29030503 2020-07-15       272412481300040   778064028  0.008458   \n",
       "29030504 2020-07-15       272412481300040   816592008  0.016932   \n",
       "29030505 2020-07-15       272412481300040   621381021  0.033881   \n",
       "29030506 2020-07-15       272412481300040   817477003  0.025407   \n",
       "29030507 2020-07-15       272412481300040   899088002  0.025407   \n",
       "...             ...                   ...         ...       ...   \n",
       "5248375  2020-09-22  18438270306572912089   915529003  0.033439   \n",
       "5248376  2020-09-22  18438270306572912089   915529005  0.033417   \n",
       "5248377  2020-09-22  18438270306572912089   448509014  0.041630   \n",
       "5248378  2020-09-22  18438270306572912089   762846027  0.025005   \n",
       "5248379  2020-09-22  18438270306572912089   714790020  0.049951   \n",
       "\n",
       "          sales_channel_id  week  purchased  \n",
       "29030503                 1    95        1.0  \n",
       "29030504                 1    95        1.0  \n",
       "29030505                 1    95        1.0  \n",
       "29030506                 1    95        1.0  \n",
       "29030507                 1    95        1.0  \n",
       "...                    ...   ...        ...  \n",
       "5248375                  1   105        0.0  \n",
       "5248376                  1   105        0.0  \n",
       "5248377                  1   105        0.0  \n",
       "5248378                  1   105        0.0  \n",
       "5248379                  1   105        0.0  \n",
       "\n",
       "[18915320 rows x 7 columns]"
      ]
     },
     "execution_count": 33,
     "metadata": {},
     "output_type": "execute_result"
    }
   ],
   "source": [
    "data"
   ]
  },
  {
   "cell_type": "code",
   "execution_count": 34,
   "id": "0940ac22",
   "metadata": {
    "execution": {
     "iopub.execute_input": "2023-10-09T16:13:36.618187Z",
     "iopub.status.busy": "2023-10-09T16:13:36.617838Z",
     "iopub.status.idle": "2023-10-09T16:13:44.570030Z",
     "shell.execute_reply": "2023-10-09T16:13:44.568959Z"
    },
    "papermill": {
     "duration": 8.00656,
     "end_time": "2023-10-09T16:13:44.573261",
     "exception": false,
     "start_time": "2023-10-09T16:13:36.566701",
     "status": "completed"
    },
    "tags": []
   },
   "outputs": [],
   "source": [
    "data.drop_duplicates(['customer_id', 'article_id', 'week'], inplace=True)"
   ]
  },
  {
   "cell_type": "code",
   "execution_count": 35,
   "id": "632ec368",
   "metadata": {
    "execution": {
     "iopub.execute_input": "2023-10-09T16:13:44.671685Z",
     "iopub.status.busy": "2023-10-09T16:13:44.671379Z",
     "iopub.status.idle": "2023-10-09T16:13:44.743139Z",
     "shell.execute_reply": "2023-10-09T16:13:44.742331Z"
    },
    "papermill": {
     "duration": 0.12327,
     "end_time": "2023-10-09T16:13:44.745390",
     "exception": false,
     "start_time": "2023-10-09T16:13:44.622120",
     "status": "completed"
    },
    "tags": []
   },
   "outputs": [
    {
     "data": {
      "text/plain": [
       "0.13607582749165664"
      ]
     },
     "execution_count": 35,
     "metadata": {},
     "output_type": "execute_result"
    }
   ],
   "source": [
    "data.purchased.mean()"
   ]
  },
  {
   "cell_type": "markdown",
   "id": "49855329",
   "metadata": {
    "papermill": {
     "duration": 0.047276,
     "end_time": "2023-10-09T16:13:44.841382",
     "exception": false,
     "start_time": "2023-10-09T16:13:44.794106",
     "status": "completed"
    },
    "tags": []
   },
   "source": [
    "### Add bestseller information"
   ]
  },
  {
   "cell_type": "code",
   "execution_count": 36,
   "id": "64b3365f",
   "metadata": {
    "execution": {
     "iopub.execute_input": "2023-10-09T16:13:44.948629Z",
     "iopub.status.busy": "2023-10-09T16:13:44.947983Z",
     "iopub.status.idle": "2023-10-09T16:13:49.770347Z",
     "shell.execute_reply": "2023-10-09T16:13:49.769280Z"
    },
    "papermill": {
     "duration": 4.883936,
     "end_time": "2023-10-09T16:13:49.772842",
     "exception": false,
     "start_time": "2023-10-09T16:13:44.888906",
     "status": "completed"
    },
    "tags": []
   },
   "outputs": [],
   "source": [
    "data = pd.merge(\n",
    "    data,\n",
    "    bestsellers_previous_week[['week', 'article_id', 'bestseller_rank']],\n",
    "    on=['week', 'article_id'],\n",
    "    how='left'\n",
    ")"
   ]
  },
  {
   "cell_type": "code",
   "execution_count": 37,
   "id": "7bff9a41",
   "metadata": {
    "execution": {
     "iopub.execute_input": "2023-10-09T16:13:49.871979Z",
     "iopub.status.busy": "2023-10-09T16:13:49.870934Z",
     "iopub.status.idle": "2023-10-09T16:13:51.910137Z",
     "shell.execute_reply": "2023-10-09T16:13:51.908994Z"
    },
    "papermill": {
     "duration": 2.090842,
     "end_time": "2023-10-09T16:13:51.912443",
     "exception": false,
     "start_time": "2023-10-09T16:13:49.821601",
     "status": "completed"
    },
    "tags": []
   },
   "outputs": [],
   "source": [
    "data = data[data.week != data.week.min()]\n",
    "data.bestseller_rank.fillna(999, inplace=True)"
   ]
  },
  {
   "cell_type": "code",
   "execution_count": 38,
   "id": "70e956bb",
   "metadata": {
    "execution": {
     "iopub.execute_input": "2023-10-09T16:13:52.017768Z",
     "iopub.status.busy": "2023-10-09T16:13:52.016226Z",
     "iopub.status.idle": "2023-10-09T16:14:17.159796Z",
     "shell.execute_reply": "2023-10-09T16:14:17.158442Z"
    },
    "papermill": {
     "duration": 25.202188,
     "end_time": "2023-10-09T16:14:17.162215",
     "exception": false,
     "start_time": "2023-10-09T16:13:51.960027",
     "status": "completed"
    },
    "tags": []
   },
   "outputs": [],
   "source": [
    "data = pd.merge(data, articles, on='article_id', how='left')\n",
    "data = pd.merge(data, customers, on='customer_id', how='left')"
   ]
  },
  {
   "cell_type": "code",
   "execution_count": 39,
   "id": "f949f0f8",
   "metadata": {
    "execution": {
     "iopub.execute_input": "2023-10-09T16:14:17.261478Z",
     "iopub.status.busy": "2023-10-09T16:14:17.261207Z",
     "iopub.status.idle": "2023-10-09T16:14:24.641300Z",
     "shell.execute_reply": "2023-10-09T16:14:24.640163Z"
    },
    "papermill": {
     "duration": 7.433997,
     "end_time": "2023-10-09T16:14:24.643748",
     "exception": false,
     "start_time": "2023-10-09T16:14:17.209751",
     "status": "completed"
    },
    "tags": []
   },
   "outputs": [],
   "source": [
    "data.sort_values(['week', 'customer_id'], inplace=True)\n",
    "data.reset_index(drop=True, inplace=True)"
   ]
  },
  {
   "cell_type": "code",
   "execution_count": 40,
   "id": "3241f802",
   "metadata": {
    "execution": {
     "iopub.execute_input": "2023-10-09T16:14:24.747452Z",
     "iopub.status.busy": "2023-10-09T16:14:24.746469Z",
     "iopub.status.idle": "2023-10-09T16:14:33.628533Z",
     "shell.execute_reply": "2023-10-09T16:14:33.627626Z"
    },
    "papermill": {
     "duration": 8.938357,
     "end_time": "2023-10-09T16:14:33.631066",
     "exception": false,
     "start_time": "2023-10-09T16:14:24.692709",
     "status": "completed"
    },
    "tags": []
   },
   "outputs": [],
   "source": [
    "train = data[data.week != test_week]\n",
    "test = data[data.week==test_week].drop_duplicates(['customer_id', 'article_id', 'sales_channel_id']).copy()"
   ]
  },
  {
   "cell_type": "code",
   "execution_count": 41,
   "id": "9138d109",
   "metadata": {
    "execution": {
     "iopub.execute_input": "2023-10-09T16:14:33.729982Z",
     "iopub.status.busy": "2023-10-09T16:14:33.729490Z",
     "iopub.status.idle": "2023-10-09T16:14:34.876595Z",
     "shell.execute_reply": "2023-10-09T16:14:34.875396Z"
    },
    "papermill": {
     "duration": 1.199128,
     "end_time": "2023-10-09T16:14:34.878972",
     "exception": false,
     "start_time": "2023-10-09T16:14:33.679844",
     "status": "completed"
    },
    "tags": []
   },
   "outputs": [],
   "source": [
    "train_baskets = train.groupby(['week', 'customer_id'])['article_id'].count().values"
   ]
  },
  {
   "cell_type": "code",
   "execution_count": 42,
   "id": "1ae5e640",
   "metadata": {
    "execution": {
     "iopub.execute_input": "2023-10-09T16:14:35.002467Z",
     "iopub.status.busy": "2023-10-09T16:14:35.001540Z",
     "iopub.status.idle": "2023-10-09T16:14:35.010307Z",
     "shell.execute_reply": "2023-10-09T16:14:35.008372Z"
    },
    "papermill": {
     "duration": 0.07724,
     "end_time": "2023-10-09T16:14:35.014328",
     "exception": false,
     "start_time": "2023-10-09T16:14:34.937088",
     "status": "completed"
    },
    "tags": []
   },
   "outputs": [],
   "source": [
    "columns_to_use = ['article_id', 'product_type_no', 'graphical_appearance_no', 'colour_group_code', 'perceived_colour_value_id',\n",
    "'perceived_colour_master_id', 'department_no', 'index_code',\n",
    "'index_group_no', 'section_no', 'garment_group_no', 'FN', 'Active',\n",
    "'club_member_status', 'fashion_news_frequency', 'age', 'postal_code', 'bestseller_rank']"
   ]
  },
  {
   "cell_type": "code",
   "execution_count": 43,
   "id": "46d70f4c",
   "metadata": {
    "execution": {
     "iopub.execute_input": "2023-10-09T16:14:35.113969Z",
     "iopub.status.busy": "2023-10-09T16:14:35.113683Z",
     "iopub.status.idle": "2023-10-09T16:14:35.636707Z",
     "shell.execute_reply": "2023-10-09T16:14:35.635839Z"
    },
    "papermill": {
     "duration": 0.57404,
     "end_time": "2023-10-09T16:14:35.638736",
     "exception": false,
     "start_time": "2023-10-09T16:14:35.064696",
     "status": "completed"
    },
    "tags": []
   },
   "outputs": [
    {
     "name": "stdout",
     "output_type": "stream",
     "text": [
      "CPU times: user 274 ms, sys: 246 ms, total: 520 ms\n",
      "Wall time: 518 ms\n"
     ]
    }
   ],
   "source": [
    "%%time\n",
    "\n",
    "train_X = train[columns_to_use]\n",
    "train_y = train['purchased']\n",
    "\n",
    "test_X = test[columns_to_use]"
   ]
  },
  {
   "cell_type": "markdown",
   "id": "26c51010",
   "metadata": {
    "papermill": {
     "duration": 0.048924,
     "end_time": "2023-10-09T16:14:35.736274",
     "exception": false,
     "start_time": "2023-10-09T16:14:35.687350",
     "status": "completed"
    },
    "tags": []
   },
   "source": [
    "# Model training"
   ]
  },
  {
   "cell_type": "code",
   "execution_count": 44,
   "id": "5ed25808",
   "metadata": {
    "execution": {
     "iopub.execute_input": "2023-10-09T16:14:35.838341Z",
     "iopub.status.busy": "2023-10-09T16:14:35.838044Z",
     "iopub.status.idle": "2023-10-09T16:14:36.874753Z",
     "shell.execute_reply": "2023-10-09T16:14:36.873813Z"
    },
    "papermill": {
     "duration": 1.091662,
     "end_time": "2023-10-09T16:14:36.877019",
     "exception": false,
     "start_time": "2023-10-09T16:14:35.785357",
     "status": "completed"
    },
    "tags": []
   },
   "outputs": [
    {
     "data": {
      "text/html": [
       "<style type='text/css'>\n",
       ".datatable table.frame { margin-bottom: 0; }\n",
       ".datatable table.frame thead { border-bottom: none; }\n",
       ".datatable table.frame tr.coltypes td {  color: #FFFFFF;  line-height: 6px;  padding: 0 0.5em;}\n",
       ".datatable .bool    { background: #DDDD99; }\n",
       ".datatable .object  { background: #565656; }\n",
       ".datatable .int     { background: #5D9E5D; }\n",
       ".datatable .float   { background: #4040CC; }\n",
       ".datatable .str     { background: #CC4040; }\n",
       ".datatable .time    { background: #40CC40; }\n",
       ".datatable .row_index {  background: var(--jp-border-color3);  border-right: 1px solid var(--jp-border-color0);  color: var(--jp-ui-font-color3);  font-size: 9px;}\n",
       ".datatable .frame tbody td { text-align: left; }\n",
       ".datatable .frame tr.coltypes .row_index {  background: var(--jp-border-color0);}\n",
       ".datatable th:nth-child(2) { padding-left: 12px; }\n",
       ".datatable .hellipsis {  color: var(--jp-cell-editor-border-color);}\n",
       ".datatable .vellipsis {  background: var(--jp-layout-color0);  color: var(--jp-cell-editor-border-color);}\n",
       ".datatable .na {  color: var(--jp-cell-editor-border-color);  font-size: 80%;}\n",
       ".datatable .sp {  opacity: 0.25;}\n",
       ".datatable .footer { font-size: 9px; }\n",
       ".datatable .frame_dimensions {  background: var(--jp-border-color3);  border-top: 1px solid var(--jp-border-color0);  color: var(--jp-ui-font-color3);  display: inline-block;  opacity: 0.6;  padding: 1px 10px 1px 5px;}\n",
       "</style>\n"
      ],
      "text/plain": [
       "<IPython.core.display.HTML object>"
      ]
     },
     "metadata": {},
     "output_type": "display_data"
    }
   ],
   "source": [
    "from lightgbm.sklearn import LGBMRanker"
   ]
  },
  {
   "cell_type": "code",
   "execution_count": 45,
   "id": "4fa12bc3",
   "metadata": {
    "execution": {
     "iopub.execute_input": "2023-10-09T16:14:36.982145Z",
     "iopub.status.busy": "2023-10-09T16:14:36.981764Z",
     "iopub.status.idle": "2023-10-09T16:14:36.987349Z",
     "shell.execute_reply": "2023-10-09T16:14:36.986157Z"
    },
    "papermill": {
     "duration": 0.063803,
     "end_time": "2023-10-09T16:14:36.989407",
     "exception": false,
     "start_time": "2023-10-09T16:14:36.925604",
     "status": "completed"
    },
    "tags": []
   },
   "outputs": [],
   "source": [
    "ranker = LGBMRanker(\n",
    "    objective=\"lambdarank\",\n",
    "    metric=\"ndcg\",\n",
    "    boosting_type=\"dart\",\n",
    "    n_estimators=1,\n",
    "    importance_type='gain',\n",
    "    verbose=10\n",
    ")"
   ]
  },
  {
   "cell_type": "code",
   "execution_count": 46,
   "id": "e5ad6fbc",
   "metadata": {
    "execution": {
     "iopub.execute_input": "2023-10-09T16:14:37.097735Z",
     "iopub.status.busy": "2023-10-09T16:14:37.097419Z",
     "iopub.status.idle": "2023-10-09T16:14:46.542035Z",
     "shell.execute_reply": "2023-10-09T16:14:46.541392Z"
    },
    "papermill": {
     "duration": 9.498538,
     "end_time": "2023-10-09T16:14:46.543986",
     "exception": false,
     "start_time": "2023-10-09T16:14:37.045448",
     "status": "completed"
    },
    "tags": []
   },
   "outputs": [
    {
     "name": "stdout",
     "output_type": "stream",
     "text": [
      "[LightGBM] [Debug] Dataset::GetMultiBinFromSparseFeatures: sparse rate 0.848850\n",
      "[LightGBM] [Debug] Dataset::GetMultiBinFromAllFeatures: sparse rate 0.153099\n",
      "[LightGBM] [Debug] init for col-wise cost 0.238736 seconds, init for row-wise cost 1.036227 seconds\n",
      "[LightGBM] [Warning] Auto-choosing row-wise multi-threading, the overhead of testing was 0.593548 seconds.\n",
      "You can set `force_row_wise=true` to remove the overhead.\n",
      "And if memory is not enough, you can set `force_col_wise=true`.\n",
      "[LightGBM] [Debug] Using Dense Multi-Val Bin\n",
      "[LightGBM] [Info] Total Bins 1079\n",
      "[LightGBM] [Info] Number of data points in the train set: 11381612, number of used features: 18\n",
      "[LightGBM] [Debug] Trained a tree with leaves = 31 and depth = 12\n",
      "CPU times: user 23.2 s, sys: 2.24 s, total: 25.4 s\n",
      "Wall time: 9.44 s\n"
     ]
    }
   ],
   "source": [
    "%%time\n",
    "\n",
    "ranker = ranker.fit(\n",
    "    train_X,\n",
    "    train_y,\n",
    "    group=train_baskets,\n",
    ")"
   ]
  },
  {
   "cell_type": "code",
   "execution_count": 47,
   "id": "76b34063",
   "metadata": {
    "execution": {
     "iopub.execute_input": "2023-10-09T16:14:46.646249Z",
     "iopub.status.busy": "2023-10-09T16:14:46.645672Z",
     "iopub.status.idle": "2023-10-09T16:14:46.656491Z",
     "shell.execute_reply": "2023-10-09T16:14:46.655526Z"
    },
    "papermill": {
     "duration": 0.064151,
     "end_time": "2023-10-09T16:14:46.658258",
     "exception": false,
     "start_time": "2023-10-09T16:14:46.594107",
     "status": "completed"
    },
    "tags": []
   },
   "outputs": [
    {
     "name": "stdout",
     "output_type": "stream",
     "text": [
      "bestseller_rank 0.9989805519216203\n",
      "age 0.00024136038957903926\n",
      "article_id 0.00017160828400263902\n",
      "garment_group_no 0.0001448188543340445\n",
      "department_no 9.637421875769266e-05\n",
      "product_type_no 9.014783292439592e-05\n",
      "section_no 7.067204716548531e-05\n",
      "postal_code 6.792197441369627e-05\n",
      "club_member_status 6.519780240033951e-05\n",
      "colour_group_code 5.358754121027148e-05\n",
      "perceived_colour_value_id 1.775913359216025e-05\n",
      "fashion_news_frequency 0.0\n",
      "Active 0.0\n",
      "FN 0.0\n",
      "index_code 0.0\n",
      "perceived_colour_master_id 0.0\n",
      "graphical_appearance_no 0.0\n",
      "index_group_no 0.0\n"
     ]
    }
   ],
   "source": [
    "for i in ranker.feature_importances_.argsort()[::-1]:\n",
    "    print(columns_to_use[i], ranker.feature_importances_[i]/ranker.feature_importances_.sum())"
   ]
  },
  {
   "cell_type": "markdown",
   "id": "1b3a9df2",
   "metadata": {
    "papermill": {
     "duration": 0.049773,
     "end_time": "2023-10-09T16:14:46.758044",
     "exception": false,
     "start_time": "2023-10-09T16:14:46.708271",
     "status": "completed"
    },
    "tags": []
   },
   "source": [
    "# Calculate predictions"
   ]
  },
  {
   "cell_type": "code",
   "execution_count": 48,
   "id": "f4a33285",
   "metadata": {
    "execution": {
     "iopub.execute_input": "2023-10-09T16:14:46.861035Z",
     "iopub.status.busy": "2023-10-09T16:14:46.860730Z",
     "iopub.status.idle": "2023-10-09T16:15:01.026985Z",
     "shell.execute_reply": "2023-10-09T16:15:01.025901Z"
    },
    "papermill": {
     "duration": 14.221395,
     "end_time": "2023-10-09T16:15:01.029576",
     "exception": false,
     "start_time": "2023-10-09T16:14:46.808181",
     "status": "completed"
    },
    "tags": []
   },
   "outputs": [
    {
     "name": "stdout",
     "output_type": "stream",
     "text": [
      "CPU times: user 4 µs, sys: 0 ns, total: 4 µs\n",
      "Wall time: 9.06 µs\n"
     ]
    }
   ],
   "source": [
    "%time\n",
    "\n",
    "test['preds'] = ranker.predict(test_X)\n",
    "\n",
    "c_id2predicted_article_ids = test \\\n",
    "    .sort_values(['customer_id', 'preds'], ascending=False) \\\n",
    "    .groupby('customer_id')['article_id'].apply(list).to_dict()\n",
    "\n",
    "bestsellers_last_week = \\\n",
    "    bestsellers_previous_week[bestsellers_previous_week.week == bestsellers_previous_week.week.max()]['article_id'].tolist()"
   ]
  },
  {
   "cell_type": "markdown",
   "id": "c32148fe",
   "metadata": {
    "papermill": {
     "duration": 0.051298,
     "end_time": "2023-10-09T16:15:01.134374",
     "exception": false,
     "start_time": "2023-10-09T16:15:01.083076",
     "status": "completed"
    },
    "tags": []
   },
   "source": [
    "# Create submission"
   ]
  },
  {
   "cell_type": "code",
   "execution_count": 49,
   "id": "e5560307",
   "metadata": {
    "execution": {
     "iopub.execute_input": "2023-10-09T16:15:01.241315Z",
     "iopub.status.busy": "2023-10-09T16:15:01.240986Z",
     "iopub.status.idle": "2023-10-09T16:15:07.058516Z",
     "shell.execute_reply": "2023-10-09T16:15:07.057197Z"
    },
    "papermill": {
     "duration": 5.873764,
     "end_time": "2023-10-09T16:15:07.061273",
     "exception": false,
     "start_time": "2023-10-09T16:15:01.187509",
     "status": "completed"
    },
    "tags": []
   },
   "outputs": [],
   "source": [
    "sub = pd.read_csv('/kaggle/input/h-and-m-personalized-fashion-recommendations/sample_submission.csv')"
   ]
  },
  {
   "cell_type": "code",
   "execution_count": 50,
   "id": "77c0c6f9",
   "metadata": {
    "execution": {
     "iopub.execute_input": "2023-10-09T16:15:07.166247Z",
     "iopub.status.busy": "2023-10-09T16:15:07.165927Z",
     "iopub.status.idle": "2023-10-09T16:15:14.919687Z",
     "shell.execute_reply": "2023-10-09T16:15:14.918755Z"
    },
    "papermill": {
     "duration": 7.809789,
     "end_time": "2023-10-09T16:15:14.922332",
     "exception": false,
     "start_time": "2023-10-09T16:15:07.112543",
     "status": "completed"
    },
    "tags": []
   },
   "outputs": [
    {
     "name": "stdout",
     "output_type": "stream",
     "text": [
      "CPU times: user 7.34 s, sys: 387 ms, total: 7.73 s\n",
      "Wall time: 7.75 s\n"
     ]
    }
   ],
   "source": [
    "%%time\n",
    "preds = []\n",
    "for c_id in customer_hex_id_to_int(sub.customer_id):\n",
    "    pred = c_id2predicted_article_ids.get(c_id, [])\n",
    "    pred = pred + bestsellers_last_week\n",
    "    preds.append(pred[:12])"
   ]
  },
  {
   "cell_type": "code",
   "execution_count": 51,
   "id": "620a158b",
   "metadata": {
    "execution": {
     "iopub.execute_input": "2023-10-09T16:15:15.052055Z",
     "iopub.status.busy": "2023-10-09T16:15:15.051696Z",
     "iopub.status.idle": "2023-10-09T16:15:21.082773Z",
     "shell.execute_reply": "2023-10-09T16:15:21.081802Z"
    },
    "papermill": {
     "duration": 6.100645,
     "end_time": "2023-10-09T16:15:21.085572",
     "exception": false,
     "start_time": "2023-10-09T16:15:14.984927",
     "status": "completed"
    },
    "tags": []
   },
   "outputs": [],
   "source": [
    "preds = [' '.join(['0' + str(p) for p in ps]) for ps in preds]\n",
    "sub.prediction = preds"
   ]
  },
  {
   "cell_type": "code",
   "execution_count": 52,
   "id": "4f0704a2",
   "metadata": {
    "execution": {
     "iopub.execute_input": "2023-10-09T16:15:21.189756Z",
     "iopub.status.busy": "2023-10-09T16:15:21.189432Z",
     "iopub.status.idle": "2023-10-09T16:15:29.058936Z",
     "shell.execute_reply": "2023-10-09T16:15:29.057834Z"
    },
    "papermill": {
     "duration": 7.924933,
     "end_time": "2023-10-09T16:15:29.061588",
     "exception": false,
     "start_time": "2023-10-09T16:15:21.136655",
     "status": "completed"
    },
    "tags": []
   },
   "outputs": [],
   "source": [
    "sub_name = 'submission'\n",
    "sub.to_csv(f'{sub_name}.csv', index=False)"
   ]
  }
 ],
 "metadata": {
  "kernelspec": {
   "display_name": "Python 3 (ipykernel)",
   "language": "python",
   "name": "python3"
  },
  "language_info": {
   "codemirror_mode": {
    "name": "ipython",
    "version": 3
   },
   "file_extension": ".py",
   "mimetype": "text/x-python",
   "name": "python",
   "nbconvert_exporter": "python",
   "pygments_lexer": "ipython3",
   "version": "3.11.5"
  },
  "papermill": {
   "default_parameters": {},
   "duration": 173.066594,
   "end_time": "2023-10-09T16:15:31.345493",
   "environment_variables": {},
   "exception": null,
   "input_path": "__notebook__.ipynb",
   "output_path": "__notebook__.ipynb",
   "parameters": {},
   "start_time": "2023-10-09T16:12:38.278899",
   "version": "2.3.4"
  }
 },
 "nbformat": 4,
 "nbformat_minor": 5
}
