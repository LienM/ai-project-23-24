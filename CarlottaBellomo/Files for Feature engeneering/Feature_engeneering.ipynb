{
 "cells": [
  {
   "cell_type": "markdown",
   "metadata": {
    "id": "pCyLjelMPYOt"
   },
   "source": [
    "# Import of libraries\n"
   ]
  },
  {
   "cell_type": "code",
   "execution_count": 118,
   "metadata": {
    "executionInfo": {
     "elapsed": 967,
     "status": "ok",
     "timestamp": 1696792148919,
     "user": {
      "displayName": "Carlotta Bellomo",
      "userId": "12601650055368114883"
     },
     "user_tz": -120
    },
    "id": "WDsFQ4YXPVVs"
   },
   "outputs": [],
   "source": [
    "#libraries\n",
    "import pandas as pd\n",
    "import seaborn as sns\n",
    "import matplotlib as plt\n",
    "import numpy as np\n",
    "from sklearn.preprocessing import LabelEncoder"
   ]
  },
  {
   "cell_type": "markdown",
   "metadata": {
    "id": "MDjmxLHaP8gR"
   },
   "source": [
    "# Dataset \"transactions_train.csv\"\n",
    "\n",
    "\n",
    "I decided to import this dataset only for the analysis of a value in another dataset and not for working on missing data since there are not"
   ]
  },
  {
   "cell_type": "markdown",
   "metadata": {
    "id": "zpW97R1tw_Jg"
   },
   "source": [
    "## Import of dataset"
   ]
  },
  {
   "cell_type": "code",
   "execution_count": 119,
   "metadata": {
    "executionInfo": {
     "elapsed": 94484,
     "status": "ok",
     "timestamp": 1696793840515,
     "user": {
      "displayName": "Carlotta Bellomo",
      "userId": "12601650055368114883"
     },
     "user_tz": -120
    },
    "id": "jJEgn9ONw-gK"
   },
   "outputs": [],
   "source": [
    "#import of the csv file\n",
    "transactions = pd.read_csv('Data/transactions_train.csv')\n",
    "transactions = pd.DataFrame(transactions)"
   ]
  },
  {
   "cell_type": "code",
   "execution_count": 120,
   "metadata": {},
   "outputs": [
    {
     "data": {
      "text/html": [
       "<div>\n",
       "<style scoped>\n",
       "    .dataframe tbody tr th:only-of-type {\n",
       "        vertical-align: middle;\n",
       "    }\n",
       "\n",
       "    .dataframe tbody tr th {\n",
       "        vertical-align: top;\n",
       "    }\n",
       "\n",
       "    .dataframe thead th {\n",
       "        text-align: right;\n",
       "    }\n",
       "</style>\n",
       "<table border=\"1\" class=\"dataframe\">\n",
       "  <thead>\n",
       "    <tr style=\"text-align: right;\">\n",
       "      <th></th>\n",
       "      <th>t_dat</th>\n",
       "      <th>customer_id</th>\n",
       "      <th>article_id</th>\n",
       "      <th>price</th>\n",
       "      <th>sales_channel_id</th>\n",
       "    </tr>\n",
       "  </thead>\n",
       "  <tbody>\n",
       "    <tr>\n",
       "      <th>0</th>\n",
       "      <td>2018-09-20</td>\n",
       "      <td>000058a12d5b43e67d225668fa1f8d618c13dc232df0ca...</td>\n",
       "      <td>663713001</td>\n",
       "      <td>0.050831</td>\n",
       "      <td>2</td>\n",
       "    </tr>\n",
       "    <tr>\n",
       "      <th>1</th>\n",
       "      <td>2018-09-20</td>\n",
       "      <td>000058a12d5b43e67d225668fa1f8d618c13dc232df0ca...</td>\n",
       "      <td>541518023</td>\n",
       "      <td>0.030492</td>\n",
       "      <td>2</td>\n",
       "    </tr>\n",
       "    <tr>\n",
       "      <th>2</th>\n",
       "      <td>2018-09-20</td>\n",
       "      <td>00007d2de826758b65a93dd24ce629ed66842531df6699...</td>\n",
       "      <td>505221004</td>\n",
       "      <td>0.015237</td>\n",
       "      <td>2</td>\n",
       "    </tr>\n",
       "    <tr>\n",
       "      <th>3</th>\n",
       "      <td>2018-09-20</td>\n",
       "      <td>00007d2de826758b65a93dd24ce629ed66842531df6699...</td>\n",
       "      <td>685687003</td>\n",
       "      <td>0.016932</td>\n",
       "      <td>2</td>\n",
       "    </tr>\n",
       "    <tr>\n",
       "      <th>4</th>\n",
       "      <td>2018-09-20</td>\n",
       "      <td>00007d2de826758b65a93dd24ce629ed66842531df6699...</td>\n",
       "      <td>685687004</td>\n",
       "      <td>0.016932</td>\n",
       "      <td>2</td>\n",
       "    </tr>\n",
       "    <tr>\n",
       "      <th>...</th>\n",
       "      <td>...</td>\n",
       "      <td>...</td>\n",
       "      <td>...</td>\n",
       "      <td>...</td>\n",
       "      <td>...</td>\n",
       "    </tr>\n",
       "    <tr>\n",
       "      <th>31788319</th>\n",
       "      <td>2020-09-22</td>\n",
       "      <td>fff2282977442e327b45d8c89afde25617d00124d0f999...</td>\n",
       "      <td>929511001</td>\n",
       "      <td>0.059305</td>\n",
       "      <td>2</td>\n",
       "    </tr>\n",
       "    <tr>\n",
       "      <th>31788320</th>\n",
       "      <td>2020-09-22</td>\n",
       "      <td>fff2282977442e327b45d8c89afde25617d00124d0f999...</td>\n",
       "      <td>891322004</td>\n",
       "      <td>0.042356</td>\n",
       "      <td>2</td>\n",
       "    </tr>\n",
       "    <tr>\n",
       "      <th>31788321</th>\n",
       "      <td>2020-09-22</td>\n",
       "      <td>fff380805474b287b05cb2a7507b9a013482f7dd0bce0e...</td>\n",
       "      <td>918325001</td>\n",
       "      <td>0.043203</td>\n",
       "      <td>1</td>\n",
       "    </tr>\n",
       "    <tr>\n",
       "      <th>31788322</th>\n",
       "      <td>2020-09-22</td>\n",
       "      <td>fff4d3a8b1f3b60af93e78c30a7cb4cf75edaf2590d3e5...</td>\n",
       "      <td>833459002</td>\n",
       "      <td>0.006763</td>\n",
       "      <td>1</td>\n",
       "    </tr>\n",
       "    <tr>\n",
       "      <th>31788323</th>\n",
       "      <td>2020-09-22</td>\n",
       "      <td>fffef3b6b73545df065b521e19f64bf6fe93bfd450ab20...</td>\n",
       "      <td>898573003</td>\n",
       "      <td>0.033881</td>\n",
       "      <td>2</td>\n",
       "    </tr>\n",
       "  </tbody>\n",
       "</table>\n",
       "<p>31788324 rows × 5 columns</p>\n",
       "</div>"
      ],
      "text/plain": [
       "               t_dat                                        customer_id  \\\n",
       "0         2018-09-20  000058a12d5b43e67d225668fa1f8d618c13dc232df0ca...   \n",
       "1         2018-09-20  000058a12d5b43e67d225668fa1f8d618c13dc232df0ca...   \n",
       "2         2018-09-20  00007d2de826758b65a93dd24ce629ed66842531df6699...   \n",
       "3         2018-09-20  00007d2de826758b65a93dd24ce629ed66842531df6699...   \n",
       "4         2018-09-20  00007d2de826758b65a93dd24ce629ed66842531df6699...   \n",
       "...              ...                                                ...   \n",
       "31788319  2020-09-22  fff2282977442e327b45d8c89afde25617d00124d0f999...   \n",
       "31788320  2020-09-22  fff2282977442e327b45d8c89afde25617d00124d0f999...   \n",
       "31788321  2020-09-22  fff380805474b287b05cb2a7507b9a013482f7dd0bce0e...   \n",
       "31788322  2020-09-22  fff4d3a8b1f3b60af93e78c30a7cb4cf75edaf2590d3e5...   \n",
       "31788323  2020-09-22  fffef3b6b73545df065b521e19f64bf6fe93bfd450ab20...   \n",
       "\n",
       "          article_id     price  sales_channel_id  \n",
       "0          663713001  0.050831                 2  \n",
       "1          541518023  0.030492                 2  \n",
       "2          505221004  0.015237                 2  \n",
       "3          685687003  0.016932                 2  \n",
       "4          685687004  0.016932                 2  \n",
       "...              ...       ...               ...  \n",
       "31788319   929511001  0.059305                 2  \n",
       "31788320   891322004  0.042356                 2  \n",
       "31788321   918325001  0.043203                 1  \n",
       "31788322   833459002  0.006763                 1  \n",
       "31788323   898573003  0.033881                 2  \n",
       "\n",
       "[31788324 rows x 5 columns]"
      ]
     },
     "execution_count": 120,
     "metadata": {},
     "output_type": "execute_result"
    }
   ],
   "source": [
    "transactions"
   ]
  },
  {
   "cell_type": "markdown",
   "metadata": {
    "id": "pkdgbRlEPl-I"
   },
   "source": [
    "# Dataset \"articles.csv\""
   ]
  },
  {
   "cell_type": "markdown",
   "metadata": {
    "id": "qcDP-Wr-Przr"
   },
   "source": [
    "## Import of the dataset"
   ]
  },
  {
   "cell_type": "code",
   "execution_count": 121,
   "metadata": {
    "executionInfo": {
     "elapsed": 1476,
     "status": "ok",
     "timestamp": 1696792183808,
     "user": {
      "displayName": "Carlotta Bellomo",
      "userId": "12601650055368114883"
     },
     "user_tz": -120
    },
    "id": "0QxTkW_QPjmX"
   },
   "outputs": [],
   "source": [
    "#import of the csv file\n",
    "articles = pd.read_csv('Data/articles.csv')\n",
    "articles = pd.DataFrame(articles)"
   ]
  },
  {
   "cell_type": "code",
   "execution_count": 122,
   "metadata": {
    "colab": {
     "base_uri": "https://localhost:8080/",
     "height": 981
    },
    "executionInfo": {
     "elapsed": 23,
     "status": "ok",
     "timestamp": 1696792183808,
     "user": {
      "displayName": "Carlotta Bellomo",
      "userId": "12601650055368114883"
     },
     "user_tz": -120
    },
    "id": "8s4w4fWHPk5x",
    "outputId": "e74a7432-ff21-4fcf-b23f-f5d1ffd49e6d"
   },
   "outputs": [
    {
     "data": {
      "text/html": [
       "<div>\n",
       "<style scoped>\n",
       "    .dataframe tbody tr th:only-of-type {\n",
       "        vertical-align: middle;\n",
       "    }\n",
       "\n",
       "    .dataframe tbody tr th {\n",
       "        vertical-align: top;\n",
       "    }\n",
       "\n",
       "    .dataframe thead th {\n",
       "        text-align: right;\n",
       "    }\n",
       "</style>\n",
       "<table border=\"1\" class=\"dataframe\">\n",
       "  <thead>\n",
       "    <tr style=\"text-align: right;\">\n",
       "      <th></th>\n",
       "      <th>article_id</th>\n",
       "      <th>product_code</th>\n",
       "      <th>prod_name</th>\n",
       "      <th>product_type_no</th>\n",
       "      <th>product_type_name</th>\n",
       "      <th>product_group_name</th>\n",
       "      <th>graphical_appearance_no</th>\n",
       "      <th>graphical_appearance_name</th>\n",
       "      <th>colour_group_code</th>\n",
       "      <th>colour_group_name</th>\n",
       "      <th>...</th>\n",
       "      <th>department_name</th>\n",
       "      <th>index_code</th>\n",
       "      <th>index_name</th>\n",
       "      <th>index_group_no</th>\n",
       "      <th>index_group_name</th>\n",
       "      <th>section_no</th>\n",
       "      <th>section_name</th>\n",
       "      <th>garment_group_no</th>\n",
       "      <th>garment_group_name</th>\n",
       "      <th>detail_desc</th>\n",
       "    </tr>\n",
       "  </thead>\n",
       "  <tbody>\n",
       "    <tr>\n",
       "      <th>0</th>\n",
       "      <td>108775015</td>\n",
       "      <td>108775</td>\n",
       "      <td>Strap top</td>\n",
       "      <td>253</td>\n",
       "      <td>Vest top</td>\n",
       "      <td>Garment Upper body</td>\n",
       "      <td>1010016</td>\n",
       "      <td>Solid</td>\n",
       "      <td>9</td>\n",
       "      <td>Black</td>\n",
       "      <td>...</td>\n",
       "      <td>Jersey Basic</td>\n",
       "      <td>A</td>\n",
       "      <td>Ladieswear</td>\n",
       "      <td>1</td>\n",
       "      <td>Ladieswear</td>\n",
       "      <td>16</td>\n",
       "      <td>Womens Everyday Basics</td>\n",
       "      <td>1002</td>\n",
       "      <td>Jersey Basic</td>\n",
       "      <td>Jersey top with narrow shoulder straps.</td>\n",
       "    </tr>\n",
       "    <tr>\n",
       "      <th>1</th>\n",
       "      <td>108775044</td>\n",
       "      <td>108775</td>\n",
       "      <td>Strap top</td>\n",
       "      <td>253</td>\n",
       "      <td>Vest top</td>\n",
       "      <td>Garment Upper body</td>\n",
       "      <td>1010016</td>\n",
       "      <td>Solid</td>\n",
       "      <td>10</td>\n",
       "      <td>White</td>\n",
       "      <td>...</td>\n",
       "      <td>Jersey Basic</td>\n",
       "      <td>A</td>\n",
       "      <td>Ladieswear</td>\n",
       "      <td>1</td>\n",
       "      <td>Ladieswear</td>\n",
       "      <td>16</td>\n",
       "      <td>Womens Everyday Basics</td>\n",
       "      <td>1002</td>\n",
       "      <td>Jersey Basic</td>\n",
       "      <td>Jersey top with narrow shoulder straps.</td>\n",
       "    </tr>\n",
       "    <tr>\n",
       "      <th>2</th>\n",
       "      <td>108775051</td>\n",
       "      <td>108775</td>\n",
       "      <td>Strap top (1)</td>\n",
       "      <td>253</td>\n",
       "      <td>Vest top</td>\n",
       "      <td>Garment Upper body</td>\n",
       "      <td>1010017</td>\n",
       "      <td>Stripe</td>\n",
       "      <td>11</td>\n",
       "      <td>Off White</td>\n",
       "      <td>...</td>\n",
       "      <td>Jersey Basic</td>\n",
       "      <td>A</td>\n",
       "      <td>Ladieswear</td>\n",
       "      <td>1</td>\n",
       "      <td>Ladieswear</td>\n",
       "      <td>16</td>\n",
       "      <td>Womens Everyday Basics</td>\n",
       "      <td>1002</td>\n",
       "      <td>Jersey Basic</td>\n",
       "      <td>Jersey top with narrow shoulder straps.</td>\n",
       "    </tr>\n",
       "    <tr>\n",
       "      <th>3</th>\n",
       "      <td>110065001</td>\n",
       "      <td>110065</td>\n",
       "      <td>OP T-shirt (Idro)</td>\n",
       "      <td>306</td>\n",
       "      <td>Bra</td>\n",
       "      <td>Underwear</td>\n",
       "      <td>1010016</td>\n",
       "      <td>Solid</td>\n",
       "      <td>9</td>\n",
       "      <td>Black</td>\n",
       "      <td>...</td>\n",
       "      <td>Clean Lingerie</td>\n",
       "      <td>B</td>\n",
       "      <td>Lingeries/Tights</td>\n",
       "      <td>1</td>\n",
       "      <td>Ladieswear</td>\n",
       "      <td>61</td>\n",
       "      <td>Womens Lingerie</td>\n",
       "      <td>1017</td>\n",
       "      <td>Under-, Nightwear</td>\n",
       "      <td>Microfibre T-shirt bra with underwired, moulde...</td>\n",
       "    </tr>\n",
       "    <tr>\n",
       "      <th>4</th>\n",
       "      <td>110065002</td>\n",
       "      <td>110065</td>\n",
       "      <td>OP T-shirt (Idro)</td>\n",
       "      <td>306</td>\n",
       "      <td>Bra</td>\n",
       "      <td>Underwear</td>\n",
       "      <td>1010016</td>\n",
       "      <td>Solid</td>\n",
       "      <td>10</td>\n",
       "      <td>White</td>\n",
       "      <td>...</td>\n",
       "      <td>Clean Lingerie</td>\n",
       "      <td>B</td>\n",
       "      <td>Lingeries/Tights</td>\n",
       "      <td>1</td>\n",
       "      <td>Ladieswear</td>\n",
       "      <td>61</td>\n",
       "      <td>Womens Lingerie</td>\n",
       "      <td>1017</td>\n",
       "      <td>Under-, Nightwear</td>\n",
       "      <td>Microfibre T-shirt bra with underwired, moulde...</td>\n",
       "    </tr>\n",
       "    <tr>\n",
       "      <th>...</th>\n",
       "      <td>...</td>\n",
       "      <td>...</td>\n",
       "      <td>...</td>\n",
       "      <td>...</td>\n",
       "      <td>...</td>\n",
       "      <td>...</td>\n",
       "      <td>...</td>\n",
       "      <td>...</td>\n",
       "      <td>...</td>\n",
       "      <td>...</td>\n",
       "      <td>...</td>\n",
       "      <td>...</td>\n",
       "      <td>...</td>\n",
       "      <td>...</td>\n",
       "      <td>...</td>\n",
       "      <td>...</td>\n",
       "      <td>...</td>\n",
       "      <td>...</td>\n",
       "      <td>...</td>\n",
       "      <td>...</td>\n",
       "      <td>...</td>\n",
       "    </tr>\n",
       "    <tr>\n",
       "      <th>105537</th>\n",
       "      <td>953450001</td>\n",
       "      <td>953450</td>\n",
       "      <td>5pk regular Placement1</td>\n",
       "      <td>302</td>\n",
       "      <td>Socks</td>\n",
       "      <td>Socks &amp; Tights</td>\n",
       "      <td>1010014</td>\n",
       "      <td>Placement print</td>\n",
       "      <td>9</td>\n",
       "      <td>Black</td>\n",
       "      <td>...</td>\n",
       "      <td>Socks Bin</td>\n",
       "      <td>F</td>\n",
       "      <td>Menswear</td>\n",
       "      <td>3</td>\n",
       "      <td>Menswear</td>\n",
       "      <td>26</td>\n",
       "      <td>Men Underwear</td>\n",
       "      <td>1021</td>\n",
       "      <td>Socks and Tights</td>\n",
       "      <td>Socks in a fine-knit cotton blend with a small...</td>\n",
       "    </tr>\n",
       "    <tr>\n",
       "      <th>105538</th>\n",
       "      <td>953763001</td>\n",
       "      <td>953763</td>\n",
       "      <td>SPORT Malaga tank</td>\n",
       "      <td>253</td>\n",
       "      <td>Vest top</td>\n",
       "      <td>Garment Upper body</td>\n",
       "      <td>1010016</td>\n",
       "      <td>Solid</td>\n",
       "      <td>9</td>\n",
       "      <td>Black</td>\n",
       "      <td>...</td>\n",
       "      <td>Jersey</td>\n",
       "      <td>A</td>\n",
       "      <td>Ladieswear</td>\n",
       "      <td>1</td>\n",
       "      <td>Ladieswear</td>\n",
       "      <td>2</td>\n",
       "      <td>H&amp;M+</td>\n",
       "      <td>1005</td>\n",
       "      <td>Jersey Fancy</td>\n",
       "      <td>Loose-fitting sports vest top in ribbed fast-d...</td>\n",
       "    </tr>\n",
       "    <tr>\n",
       "      <th>105539</th>\n",
       "      <td>956217002</td>\n",
       "      <td>956217</td>\n",
       "      <td>Cartwheel dress</td>\n",
       "      <td>265</td>\n",
       "      <td>Dress</td>\n",
       "      <td>Garment Full body</td>\n",
       "      <td>1010016</td>\n",
       "      <td>Solid</td>\n",
       "      <td>9</td>\n",
       "      <td>Black</td>\n",
       "      <td>...</td>\n",
       "      <td>Jersey</td>\n",
       "      <td>A</td>\n",
       "      <td>Ladieswear</td>\n",
       "      <td>1</td>\n",
       "      <td>Ladieswear</td>\n",
       "      <td>18</td>\n",
       "      <td>Womens Trend</td>\n",
       "      <td>1005</td>\n",
       "      <td>Jersey Fancy</td>\n",
       "      <td>Short, A-line dress in jersey with a round nec...</td>\n",
       "    </tr>\n",
       "    <tr>\n",
       "      <th>105540</th>\n",
       "      <td>957375001</td>\n",
       "      <td>957375</td>\n",
       "      <td>CLAIRE HAIR CLAW</td>\n",
       "      <td>72</td>\n",
       "      <td>Hair clip</td>\n",
       "      <td>Accessories</td>\n",
       "      <td>1010016</td>\n",
       "      <td>Solid</td>\n",
       "      <td>9</td>\n",
       "      <td>Black</td>\n",
       "      <td>...</td>\n",
       "      <td>Small Accessories</td>\n",
       "      <td>D</td>\n",
       "      <td>Divided</td>\n",
       "      <td>2</td>\n",
       "      <td>Divided</td>\n",
       "      <td>52</td>\n",
       "      <td>Divided Accessories</td>\n",
       "      <td>1019</td>\n",
       "      <td>Accessories</td>\n",
       "      <td>Large plastic hair claw.</td>\n",
       "    </tr>\n",
       "    <tr>\n",
       "      <th>105541</th>\n",
       "      <td>959461001</td>\n",
       "      <td>959461</td>\n",
       "      <td>Lounge dress</td>\n",
       "      <td>265</td>\n",
       "      <td>Dress</td>\n",
       "      <td>Garment Full body</td>\n",
       "      <td>1010016</td>\n",
       "      <td>Solid</td>\n",
       "      <td>11</td>\n",
       "      <td>Off White</td>\n",
       "      <td>...</td>\n",
       "      <td>Jersey</td>\n",
       "      <td>A</td>\n",
       "      <td>Ladieswear</td>\n",
       "      <td>1</td>\n",
       "      <td>Ladieswear</td>\n",
       "      <td>18</td>\n",
       "      <td>Womens Trend</td>\n",
       "      <td>1005</td>\n",
       "      <td>Jersey Fancy</td>\n",
       "      <td>Calf-length dress in ribbed jersey made from a...</td>\n",
       "    </tr>\n",
       "  </tbody>\n",
       "</table>\n",
       "<p>105542 rows × 25 columns</p>\n",
       "</div>"
      ],
      "text/plain": [
       "        article_id  product_code               prod_name  product_type_no  \\\n",
       "0        108775015        108775               Strap top              253   \n",
       "1        108775044        108775               Strap top              253   \n",
       "2        108775051        108775           Strap top (1)              253   \n",
       "3        110065001        110065       OP T-shirt (Idro)              306   \n",
       "4        110065002        110065       OP T-shirt (Idro)              306   \n",
       "...            ...           ...                     ...              ...   \n",
       "105537   953450001        953450  5pk regular Placement1              302   \n",
       "105538   953763001        953763       SPORT Malaga tank              253   \n",
       "105539   956217002        956217         Cartwheel dress              265   \n",
       "105540   957375001        957375        CLAIRE HAIR CLAW               72   \n",
       "105541   959461001        959461            Lounge dress              265   \n",
       "\n",
       "       product_type_name  product_group_name  graphical_appearance_no  \\\n",
       "0               Vest top  Garment Upper body                  1010016   \n",
       "1               Vest top  Garment Upper body                  1010016   \n",
       "2               Vest top  Garment Upper body                  1010017   \n",
       "3                    Bra           Underwear                  1010016   \n",
       "4                    Bra           Underwear                  1010016   \n",
       "...                  ...                 ...                      ...   \n",
       "105537             Socks      Socks & Tights                  1010014   \n",
       "105538          Vest top  Garment Upper body                  1010016   \n",
       "105539             Dress   Garment Full body                  1010016   \n",
       "105540         Hair clip         Accessories                  1010016   \n",
       "105541             Dress   Garment Full body                  1010016   \n",
       "\n",
       "       graphical_appearance_name  colour_group_code colour_group_name  ...  \\\n",
       "0                          Solid                  9             Black  ...   \n",
       "1                          Solid                 10             White  ...   \n",
       "2                         Stripe                 11         Off White  ...   \n",
       "3                          Solid                  9             Black  ...   \n",
       "4                          Solid                 10             White  ...   \n",
       "...                          ...                ...               ...  ...   \n",
       "105537           Placement print                  9             Black  ...   \n",
       "105538                     Solid                  9             Black  ...   \n",
       "105539                     Solid                  9             Black  ...   \n",
       "105540                     Solid                  9             Black  ...   \n",
       "105541                     Solid                 11         Off White  ...   \n",
       "\n",
       "          department_name index_code        index_name index_group_no  \\\n",
       "0            Jersey Basic          A        Ladieswear              1   \n",
       "1            Jersey Basic          A        Ladieswear              1   \n",
       "2            Jersey Basic          A        Ladieswear              1   \n",
       "3          Clean Lingerie          B  Lingeries/Tights              1   \n",
       "4          Clean Lingerie          B  Lingeries/Tights              1   \n",
       "...                   ...        ...               ...            ...   \n",
       "105537          Socks Bin          F          Menswear              3   \n",
       "105538             Jersey          A        Ladieswear              1   \n",
       "105539             Jersey          A        Ladieswear              1   \n",
       "105540  Small Accessories          D           Divided              2   \n",
       "105541             Jersey          A        Ladieswear              1   \n",
       "\n",
       "        index_group_name section_no            section_name garment_group_no  \\\n",
       "0             Ladieswear         16  Womens Everyday Basics             1002   \n",
       "1             Ladieswear         16  Womens Everyday Basics             1002   \n",
       "2             Ladieswear         16  Womens Everyday Basics             1002   \n",
       "3             Ladieswear         61         Womens Lingerie             1017   \n",
       "4             Ladieswear         61         Womens Lingerie             1017   \n",
       "...                  ...        ...                     ...              ...   \n",
       "105537          Menswear         26           Men Underwear             1021   \n",
       "105538        Ladieswear          2                    H&M+             1005   \n",
       "105539        Ladieswear         18            Womens Trend             1005   \n",
       "105540           Divided         52     Divided Accessories             1019   \n",
       "105541        Ladieswear         18            Womens Trend             1005   \n",
       "\n",
       "        garment_group_name                                        detail_desc  \n",
       "0             Jersey Basic            Jersey top with narrow shoulder straps.  \n",
       "1             Jersey Basic            Jersey top with narrow shoulder straps.  \n",
       "2             Jersey Basic            Jersey top with narrow shoulder straps.  \n",
       "3        Under-, Nightwear  Microfibre T-shirt bra with underwired, moulde...  \n",
       "4        Under-, Nightwear  Microfibre T-shirt bra with underwired, moulde...  \n",
       "...                    ...                                                ...  \n",
       "105537    Socks and Tights  Socks in a fine-knit cotton blend with a small...  \n",
       "105538        Jersey Fancy  Loose-fitting sports vest top in ribbed fast-d...  \n",
       "105539        Jersey Fancy  Short, A-line dress in jersey with a round nec...  \n",
       "105540         Accessories                           Large plastic hair claw.  \n",
       "105541        Jersey Fancy  Calf-length dress in ribbed jersey made from a...  \n",
       "\n",
       "[105542 rows x 25 columns]"
      ]
     },
     "execution_count": 122,
     "metadata": {},
     "output_type": "execute_result"
    }
   ],
   "source": [
    "articles"
   ]
  },
  {
   "cell_type": "markdown",
   "metadata": {
    "id": "ftRKyBsgVsw0"
   },
   "source": [
    "## Feature engeneering: preliminary data analysis\n"
   ]
  },
  {
   "cell_type": "code",
   "execution_count": 123,
   "metadata": {
    "colab": {
     "base_uri": "https://localhost:8080/"
    },
    "executionInfo": {
     "elapsed": 19,
     "status": "ok",
     "timestamp": 1696792183808,
     "user": {
      "displayName": "Carlotta Bellomo",
      "userId": "12601650055368114883"
     },
     "user_tz": -120
    },
    "id": "tBf-KaU6WI0G",
    "outputId": "867e0033-853a-4b38-ff44-3f545b30aa9d"
   },
   "outputs": [
    {
     "data": {
      "text/plain": [
       "article_id                        0\n",
       "product_code                      0\n",
       "prod_name                         0\n",
       "product_type_no                   0\n",
       "product_type_name                 0\n",
       "product_group_name                0\n",
       "graphical_appearance_no           0\n",
       "graphical_appearance_name         0\n",
       "colour_group_code                 0\n",
       "colour_group_name                 0\n",
       "perceived_colour_value_id         0\n",
       "perceived_colour_value_name       0\n",
       "perceived_colour_master_id        0\n",
       "perceived_colour_master_name      0\n",
       "department_no                     0\n",
       "department_name                   0\n",
       "index_code                        0\n",
       "index_name                        0\n",
       "index_group_no                    0\n",
       "index_group_name                  0\n",
       "section_no                        0\n",
       "section_name                      0\n",
       "garment_group_no                  0\n",
       "garment_group_name                0\n",
       "detail_desc                     416\n",
       "dtype: int64"
      ]
     },
     "execution_count": 123,
     "metadata": {},
     "output_type": "execute_result"
    }
   ],
   "source": [
    "#check about the correctness of the information found in the past analysis (column and numbers of missing values)\n",
    "articles.isna().sum()"
   ]
  },
  {
   "cell_type": "code",
   "execution_count": 124,
   "metadata": {
    "colab": {
     "base_uri": "https://localhost:8080/"
    },
    "executionInfo": {
     "elapsed": 17,
     "status": "ok",
     "timestamp": 1696792183808,
     "user": {
      "displayName": "Carlotta Bellomo",
      "userId": "12601650055368114883"
     },
     "user_tz": -120
    },
    "id": "2YUe6FubykSW",
    "outputId": "df918dff-e12a-427b-d3bd-42bba6567362"
   },
   "outputs": [
    {
     "data": {
      "text/plain": [
       "dtype('O')"
      ]
     },
     "execution_count": 124,
     "metadata": {},
     "output_type": "execute_result"
    }
   ],
   "source": [
    "#type of the column with missing values\n",
    "articles_data_types = articles.dtypes\n",
    "data_type_detail_desc = articles_data_types['detail_desc']\n",
    "data_type_detail_desc"
   ]
  },
  {
   "cell_type": "markdown",
   "metadata": {
    "id": "ryauoa3LzK04"
   },
   "source": [
    "From this analysis we can undestand that the missing values in the column \"detail_desc\" have the type that is an object and we have 416 missing values.\n",
    "Since is not a numerical feature but a categorical one (is an object that contains strings), it is not possible to substitute the missing values with the replacement based on the other values but is necessary to use another technique."
   ]
  },
  {
   "cell_type": "markdown",
   "metadata": {
    "id": "NFp11zjFDV2W"
   },
   "source": [
    "## Analysis on the missing values"
   ]
  },
  {
   "cell_type": "code",
   "execution_count": 125,
   "metadata": {
    "executionInfo": {
     "elapsed": 17,
     "status": "ok",
     "timestamp": 1696792183809,
     "user": {
      "displayName": "Carlotta Bellomo",
      "userId": "12601650055368114883"
     },
     "user_tz": -120
    },
    "id": "mPYYlZ3KFDUi"
   },
   "outputs": [],
   "source": [
    "from collections import Counter\n",
    "#ids of the products with missing values\n",
    "null_description_id = articles[articles['detail_desc'].isnull()]['article_id']\n",
    "\n",
    "#type of the products with missing values\n",
    "null_type_product = articles[articles['detail_desc'].isnull()]['product_type_name']\n",
    "\n",
    "#count of products by name\n",
    "element_count_name_product = Counter(null_type_product)\n",
    "\n",
    "#count of product with id\n",
    "element_count_id = Counter(null_description_id)"
   ]
  },
  {
   "cell_type": "code",
   "execution_count": 126,
   "metadata": {
    "colab": {
     "base_uri": "https://localhost:8080/"
    },
    "executionInfo": {
     "elapsed": 17,
     "status": "ok",
     "timestamp": 1696792183809,
     "user": {
      "displayName": "Carlotta Bellomo",
      "userId": "12601650055368114883"
     },
     "user_tz": -120
    },
    "id": "fgLYhogwMfzr",
    "outputId": "11402aeb-3867-4430-f8f1-b59b15f1e725"
   },
   "outputs": [
    {
     "data": {
      "text/plain": [
       "Counter({'Sweater': 31,\n",
       "         'Boots': 3,\n",
       "         'Underwear bottom': 29,\n",
       "         'Ballerinas': 31,\n",
       "         'T-shirt': 55,\n",
       "         'Sandals': 12,\n",
       "         'Dress': 44,\n",
       "         'Top': 11,\n",
       "         'Hoodie': 7,\n",
       "         'Trousers': 29,\n",
       "         'Sneakers': 31,\n",
       "         'Bra': 11,\n",
       "         'Vest top': 4,\n",
       "         'Jacket': 6,\n",
       "         'Swimsuit': 11,\n",
       "         'Sunglasses': 3,\n",
       "         'Hat/brim': 1,\n",
       "         'Shorts': 10,\n",
       "         'Swimwear bottom': 11,\n",
       "         'Skirt': 9,\n",
       "         'Shirt': 8,\n",
       "         'Blouse': 15,\n",
       "         'Socks': 3,\n",
       "         'Coat': 5,\n",
       "         'Slippers': 1,\n",
       "         'Hair string': 1,\n",
       "         'Underwear body': 1,\n",
       "         'Bodysuit': 1,\n",
       "         'Earring': 4,\n",
       "         'Sarong': 1,\n",
       "         'Other shoe': 5,\n",
       "         'Dungarees': 1,\n",
       "         'Leggings/Tights': 1,\n",
       "         'Flip flop': 1,\n",
       "         'Bracelet': 2,\n",
       "         'Other accessories': 1,\n",
       "         'Cardigan': 5,\n",
       "         'Bag': 1,\n",
       "         'Scarf': 1,\n",
       "         'Hair/alice band': 1,\n",
       "         'Flat shoe': 3,\n",
       "         'Underwear Tights': 1,\n",
       "         'Garment Set': 2,\n",
       "         'Belt': 1,\n",
       "         'Necklace': 1})"
      ]
     },
     "execution_count": 126,
     "metadata": {},
     "output_type": "execute_result"
    }
   ],
   "source": [
    "element_count_name_product"
   ]
  },
  {
   "cell_type": "code",
   "execution_count": 127,
   "metadata": {
    "colab": {
     "base_uri": "https://localhost:8080/"
    },
    "executionInfo": {
     "elapsed": 193,
     "status": "ok",
     "timestamp": 1696792782811,
     "user": {
      "displayName": "Carlotta Bellomo",
      "userId": "12601650055368114883"
     },
     "user_tz": -120
    },
    "id": "D5GL3bvLux_p",
    "outputId": "a49d46bb-31ea-4427-e4ae-0dfc91d7031b"
   },
   "outputs": [
    {
     "data": {
      "text/plain": [
       "Counter({351332007: 1,\n",
       "         420049002: 1,\n",
       "         420049003: 1,\n",
       "         426199002: 1,\n",
       "         426199010: 1,\n",
       "         426199018: 1,\n",
       "         426199019: 1,\n",
       "         426199021: 1,\n",
       "         426199027: 1,\n",
       "         426199028: 1,\n",
       "         426199029: 1,\n",
       "         469039001: 1,\n",
       "         469039019: 1,\n",
       "         469039021: 1,\n",
       "         469039024: 1,\n",
       "         469039028: 1,\n",
       "         469039032: 1,\n",
       "         469039033: 1,\n",
       "         469039034: 1,\n",
       "         469039035: 1,\n",
       "         469039040: 1,\n",
       "         469039047: 1,\n",
       "         493438001: 1,\n",
       "         493438002: 1,\n",
       "         493438005: 1,\n",
       "         493438012: 1,\n",
       "         493438013: 1,\n",
       "         493438014: 1,\n",
       "         493438015: 1,\n",
       "         493438018: 1,\n",
       "         493438019: 1,\n",
       "         493438020: 1,\n",
       "         493438021: 1,\n",
       "         493438025: 1,\n",
       "         493438027: 1,\n",
       "         507883002: 1,\n",
       "         507883007: 1,\n",
       "         507883008: 1,\n",
       "         507883009: 1,\n",
       "         507883011: 1,\n",
       "         507883014: 1,\n",
       "         507883015: 1,\n",
       "         507883018: 1,\n",
       "         510419001: 1,\n",
       "         510419004: 1,\n",
       "         510419006: 1,\n",
       "         519929006: 1,\n",
       "         519929007: 1,\n",
       "         519929008: 1,\n",
       "         519929009: 1,\n",
       "         519929010: 1,\n",
       "         519929019: 1,\n",
       "         522090001: 1,\n",
       "         522090003: 1,\n",
       "         522090005: 1,\n",
       "         527657001: 1,\n",
       "         538946002: 1,\n",
       "         538946003: 1,\n",
       "         539514001: 1,\n",
       "         539844003: 1,\n",
       "         539844004: 1,\n",
       "         539844007: 1,\n",
       "         551394002: 1,\n",
       "         551394003: 1,\n",
       "         555990001: 1,\n",
       "         555990002: 1,\n",
       "         555990003: 1,\n",
       "         555990005: 1,\n",
       "         556673001: 1,\n",
       "         557216001: 1,\n",
       "         557287001: 1,\n",
       "         557287003: 1,\n",
       "         558651001: 1,\n",
       "         558651002: 1,\n",
       "         558651003: 1,\n",
       "         558651005: 1,\n",
       "         558651006: 1,\n",
       "         558651007: 1,\n",
       "         559551001: 1,\n",
       "         561551010: 1,\n",
       "         561551012: 1,\n",
       "         561551014: 1,\n",
       "         561551015: 1,\n",
       "         561551017: 1,\n",
       "         561551019: 1,\n",
       "         561551020: 1,\n",
       "         562327001: 1,\n",
       "         562327006: 1,\n",
       "         562339001: 1,\n",
       "         562477001: 1,\n",
       "         562477002: 1,\n",
       "         562477003: 1,\n",
       "         562480001: 1,\n",
       "         562480004: 1,\n",
       "         562795001: 1,\n",
       "         564231005: 1,\n",
       "         564231008: 1,\n",
       "         564231010: 1,\n",
       "         566904001: 1,\n",
       "         566904002: 1,\n",
       "         567644002: 1,\n",
       "         567644005: 1,\n",
       "         567644006: 1,\n",
       "         567644007: 1,\n",
       "         567644008: 1,\n",
       "         567644010: 1,\n",
       "         567644015: 1,\n",
       "         567645001: 1,\n",
       "         567645006: 1,\n",
       "         567993004: 1,\n",
       "         567993014: 1,\n",
       "         567993015: 1,\n",
       "         567993016: 1,\n",
       "         567993017: 1,\n",
       "         567993019: 1,\n",
       "         567993020: 1,\n",
       "         567993025: 1,\n",
       "         567993027: 1,\n",
       "         567993035: 1,\n",
       "         567993036: 1,\n",
       "         567993040: 1,\n",
       "         567993041: 1,\n",
       "         567993042: 1,\n",
       "         567993043: 1,\n",
       "         568060001: 1,\n",
       "         568060002: 1,\n",
       "         568060003: 1,\n",
       "         568060004: 1,\n",
       "         568605001: 1,\n",
       "         568683001: 1,\n",
       "         568683003: 1,\n",
       "         568932001: 1,\n",
       "         568932003: 1,\n",
       "         570719001: 1,\n",
       "         573958001: 1,\n",
       "         573958002: 1,\n",
       "         574198002: 1,\n",
       "         574198004: 1,\n",
       "         574198005: 1,\n",
       "         574198007: 1,\n",
       "         574198010: 1,\n",
       "         574500001: 1,\n",
       "         574500002: 1,\n",
       "         574500003: 1,\n",
       "         574500004: 1,\n",
       "         577245002: 1,\n",
       "         577245004: 1,\n",
       "         577529001: 1,\n",
       "         577529002: 1,\n",
       "         577529004: 1,\n",
       "         577775001: 1,\n",
       "         578198001: 1,\n",
       "         578198002: 1,\n",
       "         578296001: 1,\n",
       "         578311001: 1,\n",
       "         578311002: 1,\n",
       "         578311003: 1,\n",
       "         578311004: 1,\n",
       "         578311005: 1,\n",
       "         578311006: 1,\n",
       "         578311009: 1,\n",
       "         578311010: 1,\n",
       "         578311011: 1,\n",
       "         578311015: 1,\n",
       "         578471003: 1,\n",
       "         578471005: 1,\n",
       "         580331001: 1,\n",
       "         580331003: 1,\n",
       "         580331004: 1,\n",
       "         581102001: 1,\n",
       "         583010002: 1,\n",
       "         584591001: 1,\n",
       "         585656001: 1,\n",
       "         586265001: 1,\n",
       "         586265002: 1,\n",
       "         586282001: 1,\n",
       "         587108001: 1,\n",
       "         588665002: 1,\n",
       "         589136001: 1,\n",
       "         589136002: 1,\n",
       "         590207001: 1,\n",
       "         590207002: 1,\n",
       "         590207003: 1,\n",
       "         591548001: 1,\n",
       "         591548002: 1,\n",
       "         592607001: 1,\n",
       "         592607002: 1,\n",
       "         592835001: 1,\n",
       "         592835003: 1,\n",
       "         593552003: 1,\n",
       "         594453001: 1,\n",
       "         594453002: 1,\n",
       "         594453003: 1,\n",
       "         596367001: 1,\n",
       "         596479001: 1,\n",
       "         597653001: 1,\n",
       "         598499001: 1,\n",
       "         598499002: 1,\n",
       "         598628001: 1,\n",
       "         598795001: 1,\n",
       "         598795002: 1,\n",
       "         598795003: 1,\n",
       "         598795007: 1,\n",
       "         598795013: 1,\n",
       "         598795014: 1,\n",
       "         598795015: 1,\n",
       "         598795016: 1,\n",
       "         598795017: 1,\n",
       "         598795018: 1,\n",
       "         598795019: 1,\n",
       "         599380001: 1,\n",
       "         599703001: 1,\n",
       "         599703002: 1,\n",
       "         599703003: 1,\n",
       "         599716001: 1,\n",
       "         599716002: 1,\n",
       "         599716003: 1,\n",
       "         599716004: 1,\n",
       "         599725001: 1,\n",
       "         600231001: 1,\n",
       "         600231003: 1,\n",
       "         600696001: 1,\n",
       "         600876001: 1,\n",
       "         600928001: 1,\n",
       "         601162001: 1,\n",
       "         601350003: 1,\n",
       "         601350004: 1,\n",
       "         603552001: 1,\n",
       "         603774002: 1,\n",
       "         603774007: 1,\n",
       "         605020001: 1,\n",
       "         605020002: 1,\n",
       "         605555001: 1,\n",
       "         607303001: 1,\n",
       "         607303002: 1,\n",
       "         607303005: 1,\n",
       "         607537001: 1,\n",
       "         607537002: 1,\n",
       "         607764001: 1,\n",
       "         607764002: 1,\n",
       "         609174001: 1,\n",
       "         609994001: 1,\n",
       "         610321002: 1,\n",
       "         610321003: 1,\n",
       "         610321005: 1,\n",
       "         610321006: 1,\n",
       "         610321008: 1,\n",
       "         610543001: 1,\n",
       "         610543008: 1,\n",
       "         610543009: 1,\n",
       "         610543011: 1,\n",
       "         610747002: 1,\n",
       "         610747004: 1,\n",
       "         610747006: 1,\n",
       "         611768001: 1,\n",
       "         613728002: 1,\n",
       "         614266001: 1,\n",
       "         614422001: 1,\n",
       "         614422002: 1,\n",
       "         614463002: 1,\n",
       "         614686001: 1,\n",
       "         614889001: 1,\n",
       "         614889002: 1,\n",
       "         615421001: 1,\n",
       "         616132001: 1,\n",
       "         617547001: 1,\n",
       "         617547002: 1,\n",
       "         619878001: 1,\n",
       "         619878003: 1,\n",
       "         620081001: 1,\n",
       "         620081002: 1,\n",
       "         620081003: 1,\n",
       "         620081006: 1,\n",
       "         620081007: 1,\n",
       "         620081008: 1,\n",
       "         620081010: 1,\n",
       "         620188001: 1,\n",
       "         620446001: 1,\n",
       "         620446002: 1,\n",
       "         620755001: 1,\n",
       "         621476001: 1,\n",
       "         621800001: 1,\n",
       "         624556001: 1,\n",
       "         624556002: 1,\n",
       "         624556003: 1,\n",
       "         624556004: 1,\n",
       "         625915001: 1,\n",
       "         626000001: 1,\n",
       "         626000002: 1,\n",
       "         626193003: 1,\n",
       "         632872001: 1,\n",
       "         635635001: 1,\n",
       "         635648001: 1,\n",
       "         635648002: 1,\n",
       "         637268001: 1,\n",
       "         637268002: 1,\n",
       "         637268006: 1,\n",
       "         637268008: 1,\n",
       "         637268009: 1,\n",
       "         640414001: 1,\n",
       "         640870001: 1,\n",
       "         642009001: 1,\n",
       "         649353001: 1,\n",
       "         649353002: 1,\n",
       "         653431001: 1,\n",
       "         653431003: 1,\n",
       "         653618001: 1,\n",
       "         653647001: 1,\n",
       "         658021001: 1,\n",
       "         658021002: 1,\n",
       "         659819001: 1,\n",
       "         659873001: 1,\n",
       "         660688001: 1,\n",
       "         661147003: 1,\n",
       "         661147004: 1,\n",
       "         661147008: 1,\n",
       "         661577001: 1,\n",
       "         661577004: 1,\n",
       "         661577009: 1,\n",
       "         661577010: 1,\n",
       "         661820001: 1,\n",
       "         661822001: 1,\n",
       "         663185001: 1,\n",
       "         663185002: 1,\n",
       "         663351001: 1,\n",
       "         663351002: 1,\n",
       "         663518001: 1,\n",
       "         663518002: 1,\n",
       "         663518004: 1,\n",
       "         669880001: 1,\n",
       "         669880002: 1,\n",
       "         670537002: 1,\n",
       "         670537003: 1,\n",
       "         678590001: 1,\n",
       "         679977002: 1,\n",
       "         679977003: 1,\n",
       "         681156002: 1,\n",
       "         681918001: 1,\n",
       "         681918002: 1,\n",
       "         681918003: 1,\n",
       "         681919001: 1,\n",
       "         681919002: 1,\n",
       "         681919003: 1,\n",
       "         681919004: 1,\n",
       "         681919005: 1,\n",
       "         682765001: 1,\n",
       "         684208001: 1,\n",
       "         684695001: 1,\n",
       "         684755001: 1,\n",
       "         684824001: 1,\n",
       "         684824002: 1,\n",
       "         684824003: 1,\n",
       "         684824005: 1,\n",
       "         684824006: 1,\n",
       "         685150002: 1,\n",
       "         686631001: 1,\n",
       "         686631002: 1,\n",
       "         686631003: 1,\n",
       "         687525001: 1,\n",
       "         687722001: 1,\n",
       "         688037001: 1,\n",
       "         688037004: 1,\n",
       "         688676001: 1,\n",
       "         688676002: 1,\n",
       "         688701002: 1,\n",
       "         689463001: 1,\n",
       "         693500001: 1,\n",
       "         693500002: 1,\n",
       "         693748001: 1,\n",
       "         694772001: 1,\n",
       "         694772003: 1,\n",
       "         694772004: 1,\n",
       "         696932002: 1,\n",
       "         696932003: 1,\n",
       "         696932004: 1,\n",
       "         696932006: 1,\n",
       "         698900001: 1,\n",
       "         698900002: 1,\n",
       "         700984001: 1,\n",
       "         710328001: 1,\n",
       "         710328002: 1,\n",
       "         717162001: 1,\n",
       "         717933001: 1,\n",
       "         719463001: 1,\n",
       "         719463002: 1,\n",
       "         719463003: 1,\n",
       "         721928001: 1,\n",
       "         721928003: 1,\n",
       "         721928004: 1,\n",
       "         721928005: 1,\n",
       "         721928006: 1,\n",
       "         733203001: 1,\n",
       "         733203002: 1,\n",
       "         733203003: 1,\n",
       "         733656001: 1,\n",
       "         733656002: 1,\n",
       "         733656003: 1,\n",
       "         733668001: 1,\n",
       "         733668003: 1,\n",
       "         733668004: 1,\n",
       "         736312001: 1,\n",
       "         742916001: 1,\n",
       "         742916002: 1,\n",
       "         742916003: 1,\n",
       "         743160001: 1,\n",
       "         743641001: 1,\n",
       "         743641002: 1,\n",
       "         745829001: 1,\n",
       "         745829002: 1,\n",
       "         748291001: 1,\n",
       "         752035001: 1,\n",
       "         752458001: 1,\n",
       "         768842001: 1,\n",
       "         768842004: 1,\n",
       "         856985001: 1,\n",
       "         867200001: 1})"
      ]
     },
     "execution_count": 127,
     "metadata": {},
     "output_type": "execute_result"
    }
   ],
   "source": [
    "element_count_id"
   ]
  },
  {
   "cell_type": "code",
   "execution_count": 128,
   "metadata": {
    "id": "wRdJ8_tpysFQ"
   },
   "outputs": [
    {
     "data": {
      "text/plain": [
       "{507883009: 8318,\n",
       " 742916002: 4524,\n",
       " 507883014: 4516,\n",
       " 620081001: 3915,\n",
       " 469039019: 3875,\n",
       " 742916003: 3378,\n",
       " 426199002: 3359,\n",
       " 684824003: 3175,\n",
       " 684824002: 2458,\n",
       " 663518004: 2413,\n",
       " 663518002: 2407,\n",
       " 742916001: 2281,\n",
       " 719463001: 1783,\n",
       " 661147004: 1764,\n",
       " 567993016: 1724,\n",
       " 686631001: 1613,\n",
       " 684824006: 1482,\n",
       " 684824001: 1402,\n",
       " 681156002: 1360,\n",
       " 567993015: 1319,\n",
       " 493438027: 1271,\n",
       " 687722001: 1186,\n",
       " 426199021: 1155,\n",
       " 685150002: 1098,\n",
       " 620081010: 1045,\n",
       " 586282001: 1039,\n",
       " 686631002: 1031,\n",
       " 719463002: 1013,\n",
       " 620188001: 925,\n",
       " 686631003: 923,\n",
       " 493438025: 912,\n",
       " 661147008: 891,\n",
       " 719463003: 879,\n",
       " 567993027: 853,\n",
       " 620081008: 751,\n",
       " 567993017: 747,\n",
       " 620081006: 741,\n",
       " 610543011: 690,\n",
       " 567993042: 659,\n",
       " 507883018: 643,\n",
       " 599716001: 632,\n",
       " 469039034: 630,\n",
       " 688037004: 630,\n",
       " 620081007: 592,\n",
       " 637268009: 591,\n",
       " 637268006: 575,\n",
       " 598795017: 574,\n",
       " 733668001: 573,\n",
       " 693500002: 558,\n",
       " 580331004: 543,\n",
       " 567993043: 524,\n",
       " 743641001: 521,\n",
       " 578311010: 491,\n",
       " 567993040: 485,\n",
       " 507883015: 456,\n",
       " 562480004: 452,\n",
       " 586265002: 437,\n",
       " 752035001: 433,\n",
       " 539844004: 431,\n",
       " 743641002: 423,\n",
       " 693748001: 422,\n",
       " 599716002: 414,\n",
       " 682765001: 412,\n",
       " 507883007: 408,\n",
       " 661147003: 407,\n",
       " 574198010: 405,\n",
       " 598795007: 403,\n",
       " 637268008: 401,\n",
       " 578311009: 397,\n",
       " 693500001: 393,\n",
       " 567993041: 389,\n",
       " 609174001: 388,\n",
       " 688037001: 386,\n",
       " 684824005: 375,\n",
       " 510419006: 367,\n",
       " 663351002: 365,\n",
       " 507883008: 360,\n",
       " 426199019: 343,\n",
       " 578311011: 323,\n",
       " 733656001: 321,\n",
       " 598795014: 321,\n",
       " 592835001: 320,\n",
       " 599716003: 319,\n",
       " 710328002: 312,\n",
       " 598795016: 312,\n",
       " 745829001: 311,\n",
       " 426199027: 306,\n",
       " 733656002: 293,\n",
       " 510419001: 265,\n",
       " 469039028: 259,\n",
       " 733668003: 256,\n",
       " 592835003: 252,\n",
       " 567993035: 252,\n",
       " 599725001: 250,\n",
       " 679977003: 250,\n",
       " 659873001: 241,\n",
       " 610543009: 241,\n",
       " 567993036: 241,\n",
       " 605020002: 235,\n",
       " 745829002: 234,\n",
       " 420049003: 234,\n",
       " 752458001: 230,\n",
       " 624556001: 227,\n",
       " 469039047: 219,\n",
       " 580331003: 216,\n",
       " 679977002: 212,\n",
       " 748291001: 207,\n",
       " 510419004: 205,\n",
       " 577529002: 204,\n",
       " 574198007: 202,\n",
       " 733656003: 200,\n",
       " 743160001: 197,\n",
       " 717162001: 195,\n",
       " 469039001: 193,\n",
       " 469039032: 193,\n",
       " 610747002: 191,\n",
       " 555990001: 191,\n",
       " 605020001: 190,\n",
       " 493438020: 188,\n",
       " 426199028: 187,\n",
       " 594453001: 187,\n",
       " 469039035: 184,\n",
       " 610747004: 181,\n",
       " 653431001: 180,\n",
       " 653431003: 173,\n",
       " 493438019: 171,\n",
       " 539844007: 165,\n",
       " 469039040: 165,\n",
       " 684208001: 162,\n",
       " 637268002: 157,\n",
       " 661822001: 155,\n",
       " 710328001: 154,\n",
       " 658021001: 154,\n",
       " 567993020: 151,\n",
       " 578198002: 150,\n",
       " 586265001: 147,\n",
       " 696932004: 145,\n",
       " 519929006: 145,\n",
       " 598795018: 144,\n",
       " 594453002: 139,\n",
       " 351332007: 138,\n",
       " 610321008: 134,\n",
       " 610747006: 134,\n",
       " 578198001: 128,\n",
       " 562795001: 127,\n",
       " 493438012: 124,\n",
       " 694772004: 122,\n",
       " 637268001: 121,\n",
       " 614422001: 121,\n",
       " 670537002: 119,\n",
       " 599716004: 117,\n",
       " 614422002: 116,\n",
       " 580331001: 112,\n",
       " 578311015: 111,\n",
       " 717933001: 110,\n",
       " 635648001: 108,\n",
       " 589136002: 108,\n",
       " 469039021: 107,\n",
       " 562477003: 107,\n",
       " 681918002: 104,\n",
       " 681919001: 102,\n",
       " 681918001: 101,\n",
       " 632872001: 100,\n",
       " 594453003: 97,\n",
       " 577529001: 94,\n",
       " 694772001: 93,\n",
       " 626000002: 88,\n",
       " 507883011: 87,\n",
       " 684695001: 83,\n",
       " 698900002: 80,\n",
       " 607537001: 80,\n",
       " 507883002: 79,\n",
       " 493438021: 77,\n",
       " 696932002: 76,\n",
       " 591548002: 69,\n",
       " 578311001: 68,\n",
       " 611768001: 67,\n",
       " 562477001: 67,\n",
       " 663518001: 65,\n",
       " 698900001: 65,\n",
       " 642009001: 64,\n",
       " 681918003: 61,\n",
       " 578311006: 60,\n",
       " 558651003: 59,\n",
       " 538946003: 59,\n",
       " 621476001: 59,\n",
       " 426199029: 58,\n",
       " 733668004: 58,\n",
       " 551394003: 58,\n",
       " 696932003: 57,\n",
       " 678590001: 57,\n",
       " 559551001: 56,\n",
       " 574500001: 55,\n",
       " 736312001: 53,\n",
       " 599703003: 52,\n",
       " 661820001: 51,\n",
       " 561551010: 50,\n",
       " 567993025: 50,\n",
       " 592607002: 50,\n",
       " 687525001: 49,\n",
       " 558651005: 49,\n",
       " 610321003: 49,\n",
       " 562327001: 49,\n",
       " 561551015: 47,\n",
       " 598795019: 47,\n",
       " 620755001: 47,\n",
       " 568683001: 46,\n",
       " 653647001: 46,\n",
       " 522090005: 46,\n",
       " 574500002: 45,\n",
       " 493438005: 45,\n",
       " 681919005: 44,\n",
       " 607537002: 44,\n",
       " 617547001: 43,\n",
       " 617547002: 43,\n",
       " 856985001: 43,\n",
       " 658021002: 43,\n",
       " 599703001: 43,\n",
       " 469039033: 41,\n",
       " 768842001: 41,\n",
       " 578311003: 40,\n",
       " 660688001: 40,\n",
       " 669880001: 39,\n",
       " 522090003: 38,\n",
       " 578311002: 37,\n",
       " 555990005: 37,\n",
       " 574198002: 37,\n",
       " 561551020: 36,\n",
       " 562477002: 35,\n",
       " 600928001: 35,\n",
       " 538946002: 35,\n",
       " 733203001: 35,\n",
       " 558651007: 35,\n",
       " 694772003: 35,\n",
       " 626193003: 33,\n",
       " 681919004: 33,\n",
       " 605555001: 33,\n",
       " 558651002: 32,\n",
       " 567644008: 30,\n",
       " 681919003: 29,\n",
       " 597653001: 29,\n",
       " 557287001: 29,\n",
       " 567644010: 29,\n",
       " 610321006: 28,\n",
       " 615421001: 28,\n",
       " 596367001: 27,\n",
       " 598499001: 27,\n",
       " 562339001: 26,\n",
       " 590207001: 26,\n",
       " 566904001: 26,\n",
       " 616132001: 26,\n",
       " 598795015: 26,\n",
       " 596479001: 25,\n",
       " 590207002: 25,\n",
       " 620081002: 24,\n",
       " 663185001: 24,\n",
       " 610321005: 24,\n",
       " 669880002: 24,\n",
       " 613728002: 24,\n",
       " 640870001: 24,\n",
       " 684755001: 23,\n",
       " 600231003: 23,\n",
       " 681919002: 23,\n",
       " 555990003: 23,\n",
       " 640414001: 23,\n",
       " 578311005: 21,\n",
       " 578311004: 21,\n",
       " 558651006: 21,\n",
       " 670537003: 21,\n",
       " 519929008: 20,\n",
       " 721928005: 20,\n",
       " 661577010: 20,\n",
       " 519929010: 20,\n",
       " 649353001: 19,\n",
       " 688676002: 19,\n",
       " 519929007: 19,\n",
       " 733203002: 19,\n",
       " 696932006: 18,\n",
       " 661577001: 18,\n",
       " 561551019: 18,\n",
       " 591548001: 17,\n",
       " 557287003: 17,\n",
       " 614686001: 16,\n",
       " 555990002: 16,\n",
       " 600696001: 16,\n",
       " 561551017: 16,\n",
       " 599703002: 15,\n",
       " 635648002: 15,\n",
       " 601162001: 14,\n",
       " 561551012: 14,\n",
       " 578471003: 14,\n",
       " 688676001: 14,\n",
       " 426199010: 14,\n",
       " 721928003: 14,\n",
       " 567644005: 13,\n",
       " 598795001: 13,\n",
       " 624556004: 13,\n",
       " 624556003: 13,\n",
       " 558651001: 13,\n",
       " 721928001: 13,\n",
       " 493438014: 13,\n",
       " 600876001: 13,\n",
       " 689463001: 12,\n",
       " 610321002: 12,\n",
       " 721928004: 12,\n",
       " 607303001: 12,\n",
       " 567645006: 11,\n",
       " 661577004: 11,\n",
       " 661577009: 11,\n",
       " 624556002: 11,\n",
       " 583010002: 11,\n",
       " 600231001: 11,\n",
       " 733203003: 11,\n",
       " 721928006: 11,\n",
       " 598499002: 10,\n",
       " 567993019: 10,\n",
       " 568060003: 10,\n",
       " 587108001: 10,\n",
       " 564231005: 10,\n",
       " 567993014: 10,\n",
       " 598795003: 9,\n",
       " 592607001: 9,\n",
       " 700984001: 9,\n",
       " 493438015: 9,\n",
       " 609994001: 9,\n",
       " 574500003: 8,\n",
       " 426199018: 8,\n",
       " 564231008: 8,\n",
       " 493438013: 8,\n",
       " 567644015: 8,\n",
       " 663185002: 8,\n",
       " 620081003: 8,\n",
       " 568060001: 7,\n",
       " 649353002: 7,\n",
       " 614266001: 7,\n",
       " 567993004: 7,\n",
       " 614889002: 7,\n",
       " 584591001: 6,\n",
       " 619878003: 6,\n",
       " 568683003: 6,\n",
       " 598795002: 6,\n",
       " 573958002: 6,\n",
       " 577529004: 6,\n",
       " 568060004: 5,\n",
       " 539844003: 5,\n",
       " 610543008: 5,\n",
       " 493438018: 5,\n",
       " 574500004: 5,\n",
       " 539514001: 5,\n",
       " 469039024: 4,\n",
       " 625915001: 4,\n",
       " 768842004: 4,\n",
       " 567645001: 4,\n",
       " 557216001: 4,\n",
       " 585656001: 4,\n",
       " 607764001: 4,\n",
       " 519929019: 4,\n",
       " 568932003: 4,\n",
       " 493438001: 4,\n",
       " 590207003: 4,\n",
       " 614889001: 4,\n",
       " 578471005: 4,\n",
       " 574198005: 4,\n",
       " 593552003: 4,\n",
       " 603774002: 3,\n",
       " 663351001: 3,\n",
       " 573958001: 3,\n",
       " 562327006: 3,\n",
       " 688701002: 3,\n",
       " 607764002: 3,\n",
       " 556673001: 3,\n",
       " 607303002: 3,\n",
       " 568932001: 3,\n",
       " 527657001: 3,\n",
       " 561551014: 3,\n",
       " 599380001: 2,\n",
       " 589136001: 2,\n",
       " 867200001: 2,\n",
       " 522090001: 2,\n",
       " 574198004: 2,\n",
       " 567644007: 2,\n",
       " 566904002: 2,\n",
       " 607303005: 2,\n",
       " 621800001: 2,\n",
       " 603774007: 2,\n",
       " 635635001: 2,\n",
       " 626000001: 2,\n",
       " 620446001: 2,\n",
       " 568605001: 2,\n",
       " 493438002: 1,\n",
       " 568060002: 1,\n",
       " 598628001: 1,\n",
       " 519929009: 1,\n",
       " 619878001: 1,\n",
       " 610543001: 1,\n",
       " 577245002: 1,\n",
       " 570719001: 1,\n",
       " 601350004: 1,\n",
       " 567644006: 1,\n",
       " 567644002: 1,\n",
       " 603552001: 1,\n",
       " 562480001: 1,\n",
       " 659819001: 1,\n",
       " 620446002: 1,\n",
       " 578296001: 1,\n",
       " 581102001: 1,\n",
       " 564231010: 1,\n",
       " 653618001: 1,\n",
       " 598795013: 1,\n",
       " 577245004: 1,\n",
       " 577775001: 1,\n",
       " 601350003: 1,\n",
       " 588665002: 1,\n",
       " 420049002: 1,\n",
       " 551394002: 1,\n",
       " 614463002: 1}"
      ]
     },
     "execution_count": 128,
     "metadata": {},
     "output_type": "execute_result"
    }
   ],
   "source": [
    "#find of number of transactions with articles without description\n",
    "k = transactions['article_id'].isin(null_description_id)\n",
    "number_transactions_per_article = dict(transactions['article_id'][k].value_counts())\n",
    "number_transactions_per_article"
   ]
  },
  {
   "cell_type": "code",
   "execution_count": 129,
   "metadata": {},
   "outputs": [
    {
     "name": "stdout",
     "output_type": "stream",
     "text": [
      "115027\n"
     ]
    }
   ],
   "source": [
    "#sum of all the articles bought that don't have a description\n",
    "things_buy = number_transactions_per_article.values()\n",
    "\n",
    "sum_articles = sum(things_buy)\n",
    "print(sum_articles)"
   ]
  },
  {
   "cell_type": "code",
   "execution_count": 130,
   "metadata": {},
   "outputs": [
    {
     "name": "stdout",
     "output_type": "stream",
     "text": [
      "0.3618529872792287\n"
     ]
    }
   ],
   "source": [
    "#percentage of transactions of an article without the description\n",
    "print((sum_articles/len(transactions))*100)"
   ]
  },
  {
   "cell_type": "markdown",
   "metadata": {
    "id": "V8J2Sq1_PvtB"
   },
   "source": [
    "# Dataset \"customers.csv\""
   ]
  },
  {
   "cell_type": "markdown",
   "metadata": {
    "id": "zcE9X5AWQAJP"
   },
   "source": [
    "## Import of data"
   ]
  },
  {
   "cell_type": "code",
   "execution_count": 131,
   "metadata": {
    "executionInfo": {
     "elapsed": 5879,
     "status": "ok",
     "timestamp": 1696792189674,
     "user": {
      "displayName": "Carlotta Bellomo",
      "userId": "12601650055368114883"
     },
     "user_tz": -120
    },
    "id": "y9XxIiOqQIWy"
   },
   "outputs": [],
   "source": [
    "#import of the csv file\n",
    "customers = pd.read_csv('Data/customers.csv')\n",
    "customers = pd.DataFrame(customers)"
   ]
  },
  {
   "cell_type": "code",
   "execution_count": 132,
   "metadata": {
    "colab": {
     "base_uri": "https://localhost:8080/",
     "height": 423
    },
    "executionInfo": {
     "elapsed": 15,
     "status": "ok",
     "timestamp": 1696792189675,
     "user": {
      "displayName": "Carlotta Bellomo",
      "userId": "12601650055368114883"
     },
     "user_tz": -120
    },
    "id": "Q6_dR07EQLSc",
    "outputId": "be7eca8b-ab62-4a29-eeb0-b475bbd52b54"
   },
   "outputs": [
    {
     "data": {
      "text/html": [
       "<div>\n",
       "<style scoped>\n",
       "    .dataframe tbody tr th:only-of-type {\n",
       "        vertical-align: middle;\n",
       "    }\n",
       "\n",
       "    .dataframe tbody tr th {\n",
       "        vertical-align: top;\n",
       "    }\n",
       "\n",
       "    .dataframe thead th {\n",
       "        text-align: right;\n",
       "    }\n",
       "</style>\n",
       "<table border=\"1\" class=\"dataframe\">\n",
       "  <thead>\n",
       "    <tr style=\"text-align: right;\">\n",
       "      <th></th>\n",
       "      <th>customer_id</th>\n",
       "      <th>FN</th>\n",
       "      <th>Active</th>\n",
       "      <th>club_member_status</th>\n",
       "      <th>fashion_news_frequency</th>\n",
       "      <th>age</th>\n",
       "      <th>postal_code</th>\n",
       "    </tr>\n",
       "  </thead>\n",
       "  <tbody>\n",
       "    <tr>\n",
       "      <th>0</th>\n",
       "      <td>00000dbacae5abe5e23885899a1fa44253a17956c6d1c3...</td>\n",
       "      <td>NaN</td>\n",
       "      <td>NaN</td>\n",
       "      <td>ACTIVE</td>\n",
       "      <td>NONE</td>\n",
       "      <td>49.0</td>\n",
       "      <td>52043ee2162cf5aa7ee79974281641c6f11a68d276429a...</td>\n",
       "    </tr>\n",
       "    <tr>\n",
       "      <th>1</th>\n",
       "      <td>0000423b00ade91418cceaf3b26c6af3dd342b51fd051e...</td>\n",
       "      <td>NaN</td>\n",
       "      <td>NaN</td>\n",
       "      <td>ACTIVE</td>\n",
       "      <td>NONE</td>\n",
       "      <td>25.0</td>\n",
       "      <td>2973abc54daa8a5f8ccfe9362140c63247c5eee03f1d93...</td>\n",
       "    </tr>\n",
       "    <tr>\n",
       "      <th>2</th>\n",
       "      <td>000058a12d5b43e67d225668fa1f8d618c13dc232df0ca...</td>\n",
       "      <td>NaN</td>\n",
       "      <td>NaN</td>\n",
       "      <td>ACTIVE</td>\n",
       "      <td>NONE</td>\n",
       "      <td>24.0</td>\n",
       "      <td>64f17e6a330a85798e4998f62d0930d14db8db1c054af6...</td>\n",
       "    </tr>\n",
       "    <tr>\n",
       "      <th>3</th>\n",
       "      <td>00005ca1c9ed5f5146b52ac8639a40ca9d57aeff4d1bd2...</td>\n",
       "      <td>NaN</td>\n",
       "      <td>NaN</td>\n",
       "      <td>ACTIVE</td>\n",
       "      <td>NONE</td>\n",
       "      <td>54.0</td>\n",
       "      <td>5d36574f52495e81f019b680c843c443bd343d5ca5b1c2...</td>\n",
       "    </tr>\n",
       "    <tr>\n",
       "      <th>4</th>\n",
       "      <td>00006413d8573cd20ed7128e53b7b13819fe5cfc2d801f...</td>\n",
       "      <td>1.0</td>\n",
       "      <td>1.0</td>\n",
       "      <td>ACTIVE</td>\n",
       "      <td>Regularly</td>\n",
       "      <td>52.0</td>\n",
       "      <td>25fa5ddee9aac01b35208d01736e57942317d756b32ddd...</td>\n",
       "    </tr>\n",
       "    <tr>\n",
       "      <th>...</th>\n",
       "      <td>...</td>\n",
       "      <td>...</td>\n",
       "      <td>...</td>\n",
       "      <td>...</td>\n",
       "      <td>...</td>\n",
       "      <td>...</td>\n",
       "      <td>...</td>\n",
       "    </tr>\n",
       "    <tr>\n",
       "      <th>1371975</th>\n",
       "      <td>ffffbbf78b6eaac697a8a5dfbfd2bfa8113ee5b403e474...</td>\n",
       "      <td>NaN</td>\n",
       "      <td>NaN</td>\n",
       "      <td>ACTIVE</td>\n",
       "      <td>NONE</td>\n",
       "      <td>24.0</td>\n",
       "      <td>7aa399f7e669990daba2d92c577b52237380662f36480b...</td>\n",
       "    </tr>\n",
       "    <tr>\n",
       "      <th>1371976</th>\n",
       "      <td>ffffcd5046a6143d29a04fb8c424ce494a76e5cdf4fab5...</td>\n",
       "      <td>NaN</td>\n",
       "      <td>NaN</td>\n",
       "      <td>ACTIVE</td>\n",
       "      <td>NONE</td>\n",
       "      <td>21.0</td>\n",
       "      <td>3f47f1279beb72215f4de557d950e0bfa73789d24acb5e...</td>\n",
       "    </tr>\n",
       "    <tr>\n",
       "      <th>1371977</th>\n",
       "      <td>ffffcf35913a0bee60e8741cb2b4e78b8a98ee5ff2e6a1...</td>\n",
       "      <td>1.0</td>\n",
       "      <td>1.0</td>\n",
       "      <td>ACTIVE</td>\n",
       "      <td>Regularly</td>\n",
       "      <td>21.0</td>\n",
       "      <td>4563fc79215672cd6a863f2b4bf56b8f898f2d96ed590e...</td>\n",
       "    </tr>\n",
       "    <tr>\n",
       "      <th>1371978</th>\n",
       "      <td>ffffd7744cebcf3aca44ae7049d2a94b87074c3d4ffe38...</td>\n",
       "      <td>1.0</td>\n",
       "      <td>1.0</td>\n",
       "      <td>ACTIVE</td>\n",
       "      <td>Regularly</td>\n",
       "      <td>18.0</td>\n",
       "      <td>8892c18e9bc3dca6aa4000cb8094fc4b51ee8db2ed14d7...</td>\n",
       "    </tr>\n",
       "    <tr>\n",
       "      <th>1371979</th>\n",
       "      <td>ffffd9ac14e89946416d80e791d064701994755c3ab686...</td>\n",
       "      <td>NaN</td>\n",
       "      <td>NaN</td>\n",
       "      <td>PRE-CREATE</td>\n",
       "      <td>NONE</td>\n",
       "      <td>65.0</td>\n",
       "      <td>0a1a03306fb2f62164c2a439b38c0caa64b40deaae8687...</td>\n",
       "    </tr>\n",
       "  </tbody>\n",
       "</table>\n",
       "<p>1371980 rows × 7 columns</p>\n",
       "</div>"
      ],
      "text/plain": [
       "                                               customer_id   FN  Active  \\\n",
       "0        00000dbacae5abe5e23885899a1fa44253a17956c6d1c3...  NaN     NaN   \n",
       "1        0000423b00ade91418cceaf3b26c6af3dd342b51fd051e...  NaN     NaN   \n",
       "2        000058a12d5b43e67d225668fa1f8d618c13dc232df0ca...  NaN     NaN   \n",
       "3        00005ca1c9ed5f5146b52ac8639a40ca9d57aeff4d1bd2...  NaN     NaN   \n",
       "4        00006413d8573cd20ed7128e53b7b13819fe5cfc2d801f...  1.0     1.0   \n",
       "...                                                    ...  ...     ...   \n",
       "1371975  ffffbbf78b6eaac697a8a5dfbfd2bfa8113ee5b403e474...  NaN     NaN   \n",
       "1371976  ffffcd5046a6143d29a04fb8c424ce494a76e5cdf4fab5...  NaN     NaN   \n",
       "1371977  ffffcf35913a0bee60e8741cb2b4e78b8a98ee5ff2e6a1...  1.0     1.0   \n",
       "1371978  ffffd7744cebcf3aca44ae7049d2a94b87074c3d4ffe38...  1.0     1.0   \n",
       "1371979  ffffd9ac14e89946416d80e791d064701994755c3ab686...  NaN     NaN   \n",
       "\n",
       "        club_member_status fashion_news_frequency   age  \\\n",
       "0                   ACTIVE                   NONE  49.0   \n",
       "1                   ACTIVE                   NONE  25.0   \n",
       "2                   ACTIVE                   NONE  24.0   \n",
       "3                   ACTIVE                   NONE  54.0   \n",
       "4                   ACTIVE              Regularly  52.0   \n",
       "...                    ...                    ...   ...   \n",
       "1371975             ACTIVE                   NONE  24.0   \n",
       "1371976             ACTIVE                   NONE  21.0   \n",
       "1371977             ACTIVE              Regularly  21.0   \n",
       "1371978             ACTIVE              Regularly  18.0   \n",
       "1371979         PRE-CREATE                   NONE  65.0   \n",
       "\n",
       "                                               postal_code  \n",
       "0        52043ee2162cf5aa7ee79974281641c6f11a68d276429a...  \n",
       "1        2973abc54daa8a5f8ccfe9362140c63247c5eee03f1d93...  \n",
       "2        64f17e6a330a85798e4998f62d0930d14db8db1c054af6...  \n",
       "3        5d36574f52495e81f019b680c843c443bd343d5ca5b1c2...  \n",
       "4        25fa5ddee9aac01b35208d01736e57942317d756b32ddd...  \n",
       "...                                                    ...  \n",
       "1371975  7aa399f7e669990daba2d92c577b52237380662f36480b...  \n",
       "1371976  3f47f1279beb72215f4de557d950e0bfa73789d24acb5e...  \n",
       "1371977  4563fc79215672cd6a863f2b4bf56b8f898f2d96ed590e...  \n",
       "1371978  8892c18e9bc3dca6aa4000cb8094fc4b51ee8db2ed14d7...  \n",
       "1371979  0a1a03306fb2f62164c2a439b38c0caa64b40deaae8687...  \n",
       "\n",
       "[1371980 rows x 7 columns]"
      ]
     },
     "execution_count": 132,
     "metadata": {},
     "output_type": "execute_result"
    }
   ],
   "source": [
    "customers"
   ]
  },
  {
   "cell_type": "markdown",
   "metadata": {
    "id": "tvRwr-6oWNIE"
   },
   "source": [
    "## Feature engeneering: preliminary analysis on data\n",
    "\n"
   ]
  },
  {
   "cell_type": "code",
   "execution_count": 133,
   "metadata": {
    "colab": {
     "base_uri": "https://localhost:8080/"
    },
    "executionInfo": {
     "elapsed": 824,
     "status": "ok",
     "timestamp": 1696792190486,
     "user": {
      "displayName": "Carlotta Bellomo",
      "userId": "12601650055368114883"
     },
     "user_tz": -120
    },
    "id": "bojEd_s9WNIG",
    "outputId": "8aaf8dcd-6d71-4c64-f6b2-9b41766a4172"
   },
   "outputs": [
    {
     "data": {
      "text/plain": [
       "customer_id                    0\n",
       "FN                        895050\n",
       "Active                    907576\n",
       "club_member_status          6062\n",
       "fashion_news_frequency     16009\n",
       "age                        15861\n",
       "postal_code                    0\n",
       "dtype: int64"
      ]
     },
     "execution_count": 133,
     "metadata": {},
     "output_type": "execute_result"
    }
   ],
   "source": [
    "#check about the correctness of the information found in the past analysis (column and numbers of missing values)\n",
    "customers.isna().sum()"
   ]
  },
  {
   "cell_type": "code",
   "execution_count": 134,
   "metadata": {
    "executionInfo": {
     "elapsed": 20,
     "status": "ok",
     "timestamp": 1696792190486,
     "user": {
      "displayName": "Carlotta Bellomo",
      "userId": "12601650055368114883"
     },
     "user_tz": -120
    },
    "id": "MQRelS6a0UhT"
   },
   "outputs": [],
   "source": [
    "#type of the column with missing values\n",
    "customers_data_types = customers.dtypes\n",
    "FN_type = customers_data_types['FN']\n",
    "active_type = customers_data_types['Active']\n",
    "club_member_status_type = customers_data_types['club_member_status']\n",
    "fashion_news_frequency_type = customers_data_types['fashion_news_frequency']\n",
    "age_type = customers_data_types['age']"
   ]
  },
  {
   "cell_type": "code",
   "execution_count": 135,
   "metadata": {
    "colab": {
     "base_uri": "https://localhost:8080/"
    },
    "executionInfo": {
     "elapsed": 19,
     "status": "ok",
     "timestamp": 1696792190486,
     "user": {
      "displayName": "Carlotta Bellomo",
      "userId": "12601650055368114883"
     },
     "user_tz": -120
    },
    "id": "W8eSDDO62pit",
    "outputId": "ad7afaba-8719-43eb-d833-73c29161cf76"
   },
   "outputs": [
    {
     "data": {
      "text/plain": [
       "dtype('float64')"
      ]
     },
     "execution_count": 135,
     "metadata": {},
     "output_type": "execute_result"
    }
   ],
   "source": [
    "FN_type"
   ]
  },
  {
   "cell_type": "code",
   "execution_count": 136,
   "metadata": {
    "colab": {
     "base_uri": "https://localhost:8080/"
    },
    "executionInfo": {
     "elapsed": 17,
     "status": "ok",
     "timestamp": 1696792190486,
     "user": {
      "displayName": "Carlotta Bellomo",
      "userId": "12601650055368114883"
     },
     "user_tz": -120
    },
    "id": "fOC-F-Lk2raz",
    "outputId": "77490334-1190-46bb-dc11-014e63adaf6d"
   },
   "outputs": [
    {
     "data": {
      "text/plain": [
       "dtype('float64')"
      ]
     },
     "execution_count": 136,
     "metadata": {},
     "output_type": "execute_result"
    }
   ],
   "source": [
    "active_type"
   ]
  },
  {
   "cell_type": "code",
   "execution_count": 137,
   "metadata": {
    "colab": {
     "base_uri": "https://localhost:8080/"
    },
    "executionInfo": {
     "elapsed": 16,
     "status": "ok",
     "timestamp": 1696792190486,
     "user": {
      "displayName": "Carlotta Bellomo",
      "userId": "12601650055368114883"
     },
     "user_tz": -120
    },
    "id": "_MRLF-wc3Ohc",
    "outputId": "1ea3d7de-e5b6-4d31-b256-d6f501998f7c"
   },
   "outputs": [
    {
     "data": {
      "text/plain": [
       "dtype('float64')"
      ]
     },
     "execution_count": 137,
     "metadata": {},
     "output_type": "execute_result"
    }
   ],
   "source": [
    "age_type"
   ]
  },
  {
   "cell_type": "markdown",
   "metadata": {
    "id": "ER3ePn0-2sBb"
   },
   "source": [
    "Since these values are a float64, so are a numerical value, is possible to modify the missing data based on statistical parameters of the values that are not missing or using other techniques"
   ]
  },
  {
   "cell_type": "code",
   "execution_count": 138,
   "metadata": {
    "colab": {
     "base_uri": "https://localhost:8080/"
    },
    "executionInfo": {
     "elapsed": 15,
     "status": "ok",
     "timestamp": 1696792190486,
     "user": {
      "displayName": "Carlotta Bellomo",
      "userId": "12601650055368114883"
     },
     "user_tz": -120
    },
    "id": "Q7BCL_kG3CoK",
    "outputId": "7282762e-8a1d-48e9-e8e8-8d7d4c0385b2"
   },
   "outputs": [
    {
     "data": {
      "text/plain": [
       "dtype('O')"
      ]
     },
     "execution_count": 138,
     "metadata": {},
     "output_type": "execute_result"
    }
   ],
   "source": [
    "club_member_status_type"
   ]
  },
  {
   "cell_type": "code",
   "execution_count": 139,
   "metadata": {
    "colab": {
     "base_uri": "https://localhost:8080/"
    },
    "executionInfo": {
     "elapsed": 14,
     "status": "ok",
     "timestamp": 1696792190486,
     "user": {
      "displayName": "Carlotta Bellomo",
      "userId": "12601650055368114883"
     },
     "user_tz": -120
    },
    "id": "La13r6qo3MfG",
    "outputId": "b517c83f-9eee-418d-d2a8-55c71e38ea3b"
   },
   "outputs": [
    {
     "data": {
      "text/plain": [
       "dtype('O')"
      ]
     },
     "execution_count": 139,
     "metadata": {},
     "output_type": "execute_result"
    }
   ],
   "source": [
    "fashion_news_frequency_type"
   ]
  },
  {
   "cell_type": "markdown",
   "metadata": {
    "id": "N163K83n3CxL"
   },
   "source": [
    "Since these values are all objects is necessary to use different techniquest that are not the ones used for the substitution of missing values with the numerical ones"
   ]
  },
  {
   "cell_type": "markdown",
   "metadata": {
    "id": "eua0PXFE3lYR"
   },
   "source": [
    "## Feature enegeneering on a numerical variable: age, FN and Active"
   ]
  },
  {
   "cell_type": "markdown",
   "metadata": {
    "id": "cLtIjYe85oeh"
   },
   "source": [
    "### age"
   ]
  },
  {
   "cell_type": "code",
   "execution_count": 140,
   "metadata": {
    "colab": {
     "base_uri": "https://localhost:8080/"
    },
    "executionInfo": {
     "elapsed": 13,
     "status": "ok",
     "timestamp": 1696792190486,
     "user": {
      "displayName": "Carlotta Bellomo",
      "userId": "12601650055368114883"
     },
     "user_tz": -120
    },
    "id": "aYeceAxe3pip",
    "outputId": "946fab6a-c50f-4d9e-f95b-4b65e5a9c112"
   },
   "outputs": [
    {
     "data": {
      "text/plain": [
       "array([16., 17., 18., 19., 20., 21., 22., 23., 24., 25., 26., 27., 28.,\n",
       "       29., 30., 31., 32., 33., 34., 35., 36., 37., 38., 39., 40., 41.,\n",
       "       42., 43., 44., 45., 46., 47., 48., 49., 50., 51., 52., 53., 54.,\n",
       "       55., 56., 57., 58., 59., 60., 61., 62., 63., 64., 65., 66., 67.,\n",
       "       68., 69., 70., 71., 72., 73., 74., 75., 76., 77., 78., 79., 80.,\n",
       "       81., 82., 83., 84., 85., 86., 87., 88., 89., 90., 91., 92., 93.,\n",
       "       94., 95., 96., 97., 98., 99., nan])"
      ]
     },
     "execution_count": 140,
     "metadata": {},
     "output_type": "execute_result"
    }
   ],
   "source": [
    "#first I want to discover which are the possible values of the variable age\n",
    "age_values = customers['age'].unique()\n",
    "age_values.sort()\n",
    "age_values"
   ]
  },
  {
   "cell_type": "code",
   "execution_count": 141,
   "metadata": {
    "colab": {
     "base_uri": "https://localhost:8080/"
    },
    "executionInfo": {
     "elapsed": 13,
     "status": "ok",
     "timestamp": 1696792190487,
     "user": {
      "displayName": "Carlotta Bellomo",
      "userId": "12601650055368114883"
     },
     "user_tz": -120
    },
    "id": "kt1Mw8_h7Zqu",
    "outputId": "c8b245c9-a4a0-4d54-d129-70f014e234e1"
   },
   "outputs": [
    {
     "data": {
      "text/plain": [
       "32.0"
      ]
     },
     "execution_count": 141,
     "metadata": {},
     "output_type": "execute_result"
    }
   ],
   "source": [
    "#the simplest operation is to replace the values that are missing with the median of the values: that's because the median is less sensible to the outlies\n",
    "median_age = customers['age'].median()\n",
    "median_age"
   ]
  },
  {
   "cell_type": "code",
   "execution_count": 142,
   "metadata": {
    "colab": {
     "base_uri": "https://localhost:8080/"
    },
    "executionInfo": {
     "elapsed": 13,
     "status": "ok",
     "timestamp": 1696792190487,
     "user": {
      "displayName": "Carlotta Bellomo",
      "userId": "12601650055368114883"
     },
     "user_tz": -120
    },
    "id": "PARyCYMXaRDh",
    "outputId": "b6d6847a-b0b1-43af-e6ec-3e76ef4691a7"
   },
   "outputs": [
    {
     "data": {
      "text/plain": [
       "36.386964565794"
      ]
     },
     "execution_count": 142,
     "metadata": {},
     "output_type": "execute_result"
    }
   ],
   "source": [
    "#in order to prove what I have said before, I calculate also the mean of the age column: we can say that the value is higher\n",
    "mean_age = customers['age'].mean()\n",
    "mean_age"
   ]
  },
  {
   "cell_type": "code",
   "execution_count": 143,
   "metadata": {
    "executionInfo": {
     "elapsed": 12,
     "status": "ok",
     "timestamp": 1696792190487,
     "user": {
      "displayName": "Carlotta Bellomo",
      "userId": "12601650055368114883"
     },
     "user_tz": -120
    },
    "id": "vw3wYmiQUTEY"
   },
   "outputs": [],
   "source": [
    "#then I decided to insert the median value of the column where there is the value nan\n",
    "customers['age'].replace(np.nan, median_age, inplace = True)"
   ]
  },
  {
   "cell_type": "code",
   "execution_count": 144,
   "metadata": {
    "colab": {
     "base_uri": "https://localhost:8080/"
    },
    "executionInfo": {
     "elapsed": 12,
     "status": "ok",
     "timestamp": 1696792190487,
     "user": {
      "displayName": "Carlotta Bellomo",
      "userId": "12601650055368114883"
     },
     "user_tz": -120
    },
    "id": "CDSfMOg1WGRe",
    "outputId": "dc5d50cb-6422-4682-ccc6-764827f181d2"
   },
   "outputs": [
    {
     "name": "stdout",
     "output_type": "stream",
     "text": [
      "Unique values of the modified column in the dataset: \n",
      " [16. 17. 18. 19. 20. 21. 22. 23. 24. 25. 26. 27. 28. 29. 30. 31. 32. 33.\n",
      " 34. 35. 36. 37. 38. 39. 40. 41. 42. 43. 44. 45. 46. 47. 48. 49. 50. 51.\n",
      " 52. 53. 54. 55. 56. 57. 58. 59. 60. 61. 62. 63. 64. 65. 66. 67. 68. 69.\n",
      " 70. 71. 72. 73. 74. 75. 76. 77. 78. 79. 80. 81. 82. 83. 84. 85. 86. 87.\n",
      " 88. 89. 90. 91. 92. 93. 94. 95. 96. 97. 98. 99.] \n",
      "\n",
      "Number of nan values in the modified column in the dataset: 0\n"
     ]
    }
   ],
   "source": [
    "#then I decided to check if the substitution went good\n",
    "#first I decided to print the number of missing values and then the uniques values of the variable\n",
    "age_values_modified = customers['age'].unique()\n",
    "age_values_modified.sort()\n",
    "nan_ages_modified = customers['age'].isna().sum()\n",
    "\n",
    "print('Unique values of the modified column in the dataset: \\n', age_values_modified, '\\n')\n",
    "print('Number of nan values in the modified column in the dataset:', nan_ages_modified)"
   ]
  },
  {
   "cell_type": "markdown",
   "metadata": {
    "id": "Mq1EU9w15sz3"
   },
   "source": [
    "### FN"
   ]
  },
  {
   "cell_type": "code",
   "execution_count": 145,
   "metadata": {
    "colab": {
     "base_uri": "https://localhost:8080/"
    },
    "executionInfo": {
     "elapsed": 11,
     "status": "ok",
     "timestamp": 1696792190487,
     "user": {
      "displayName": "Carlotta Bellomo",
      "userId": "12601650055368114883"
     },
     "user_tz": -120
    },
    "id": "8oglFv8a5r6f",
    "outputId": "a7b6d8fe-78fc-4f4d-9d62-748ca7687da7"
   },
   "outputs": [
    {
     "data": {
      "text/plain": [
       "array([nan,  1.])"
      ]
     },
     "execution_count": 145,
     "metadata": {},
     "output_type": "execute_result"
    }
   ],
   "source": [
    "#values of the column\n",
    "values_FN = customers['FN'].unique()\n",
    "values_FN"
   ]
  },
  {
   "cell_type": "markdown",
   "metadata": {
    "id": "XGVqhZpQ6BvF"
   },
   "source": [
    "Since the values -1 is not part of the values of the column, I decided to insert the value -1 instead of the value nan"
   ]
  },
  {
   "cell_type": "code",
   "execution_count": 146,
   "metadata": {
    "executionInfo": {
     "elapsed": 10,
     "status": "ok",
     "timestamp": 1696792190487,
     "user": {
      "displayName": "Carlotta Bellomo",
      "userId": "12601650055368114883"
     },
     "user_tz": -120
    },
    "id": "pJpGdhLT6JFe"
   },
   "outputs": [],
   "source": [
    "#replacemnt of the nan values\n",
    "customers['FN'].replace(np.nan, -1, inplace = True)"
   ]
  },
  {
   "cell_type": "code",
   "execution_count": 147,
   "metadata": {
    "colab": {
     "base_uri": "https://localhost:8080/"
    },
    "executionInfo": {
     "elapsed": 10,
     "status": "ok",
     "timestamp": 1696792190487,
     "user": {
      "displayName": "Carlotta Bellomo",
      "userId": "12601650055368114883"
     },
     "user_tz": -120
    },
    "id": "pxPW0_9g6dqF",
    "outputId": "aab7ad34-afe9-4f7e-85bb-605b02719769"
   },
   "outputs": [
    {
     "data": {
      "text/plain": [
       "array([-1.,  1.])"
      ]
     },
     "execution_count": 147,
     "metadata": {},
     "output_type": "execute_result"
    }
   ],
   "source": [
    "#verification that everything worked correctly\n",
    "customers['FN'].unique()"
   ]
  },
  {
   "cell_type": "markdown",
   "metadata": {
    "id": "9yEsaBwn7cTa"
   },
   "source": [
    "### Active"
   ]
  },
  {
   "cell_type": "code",
   "execution_count": 148,
   "metadata": {
    "colab": {
     "base_uri": "https://localhost:8080/"
    },
    "executionInfo": {
     "elapsed": 9,
     "status": "ok",
     "timestamp": 1696792190487,
     "user": {
      "displayName": "Carlotta Bellomo",
      "userId": "12601650055368114883"
     },
     "user_tz": -120
    },
    "id": "jsGZHjvR7b1E",
    "outputId": "9b4eae9d-b701-48b5-eebe-d9ab333b5bed"
   },
   "outputs": [
    {
     "data": {
      "text/plain": [
       "array([nan,  1.])"
      ]
     },
     "execution_count": 148,
     "metadata": {},
     "output_type": "execute_result"
    }
   ],
   "source": [
    "#values of the column\n",
    "values_active = customers['Active'].unique()\n",
    "values_active"
   ]
  },
  {
   "cell_type": "code",
   "execution_count": 149,
   "metadata": {
    "executionInfo": {
     "elapsed": 8,
     "status": "ok",
     "timestamp": 1696792190487,
     "user": {
      "displayName": "Carlotta Bellomo",
      "userId": "12601650055368114883"
     },
     "user_tz": -120
    },
    "id": "KyLcUg2c7tKy"
   },
   "outputs": [],
   "source": [
    "#replacemnt of the nan values\n",
    "customers['Active'].replace(np.nan, -1, inplace = True)"
   ]
  },
  {
   "cell_type": "code",
   "execution_count": 150,
   "metadata": {
    "colab": {
     "base_uri": "https://localhost:8080/"
    },
    "executionInfo": {
     "elapsed": 8,
     "status": "ok",
     "timestamp": 1696792190487,
     "user": {
      "displayName": "Carlotta Bellomo",
      "userId": "12601650055368114883"
     },
     "user_tz": -120
    },
    "id": "-vGA9YCb7vO5",
    "outputId": "48e30d2d-c9e9-46cd-ae59-61d7b087d6be"
   },
   "outputs": [
    {
     "data": {
      "text/plain": [
       "array([-1.,  1.])"
      ]
     },
     "execution_count": 150,
     "metadata": {},
     "output_type": "execute_result"
    }
   ],
   "source": [
    "#verification that everything worked correctly\n",
    "customers['Active'].unique()"
   ]
  },
  {
   "cell_type": "markdown",
   "metadata": {
    "id": "UKiKSETe3MBv"
   },
   "source": [
    "## Feature enegeneering on a categorical variable: club_member_status"
   ]
  },
  {
   "cell_type": "code",
   "execution_count": 151,
   "metadata": {
    "colab": {
     "base_uri": "https://localhost:8080/"
    },
    "executionInfo": {
     "elapsed": 8,
     "status": "ok",
     "timestamp": 1696792190488,
     "user": {
      "displayName": "Carlotta Bellomo",
      "userId": "12601650055368114883"
     },
     "user_tz": -120
    },
    "id": "z76MdgGu3ZHG",
    "outputId": "60989968-be50-4846-b1a0-81ba4a0c1f41"
   },
   "outputs": [
    {
     "data": {
      "text/plain": [
       "array(['ACTIVE', nan, 'PRE-CREATE', 'LEFT CLUB'], dtype=object)"
      ]
     },
     "execution_count": 151,
     "metadata": {},
     "output_type": "execute_result"
    }
   ],
   "source": [
    "#identification of the values of the variable\n",
    "values_club_member_status = customers['club_member_status'].unique()\n",
    "values_club_member_status"
   ]
  },
  {
   "cell_type": "code",
   "execution_count": 152,
   "metadata": {
    "colab": {
     "base_uri": "https://localhost:8080/"
    },
    "executionInfo": {
     "elapsed": 1009,
     "status": "ok",
     "timestamp": 1696792191490,
     "user": {
      "displayName": "Carlotta Bellomo",
      "userId": "12601650055368114883"
     },
     "user_tz": -120
    },
    "id": "1NddmEfD3LTx",
    "outputId": "97529343-d16f-4710-9af7-ec3cdf71e623"
   },
   "outputs": [
    {
     "data": {
      "text/plain": [
       "array([0, 0, 0, ..., 0, 0, 2])"
      ]
     },
     "execution_count": 152,
     "metadata": {},
     "output_type": "execute_result"
    }
   ],
   "source": [
    "#first: preprocessing on the variable in order to transform the categorical values in ordinal ones\n",
    "label_encoder = LabelEncoder()\n",
    "label_encoder.fit(customers['club_member_status'])\n",
    "results = label_encoder.transform(customers['club_member_status'])\n",
    "results"
   ]
  },
  {
   "cell_type": "code",
   "execution_count": 153,
   "metadata": {
    "executionInfo": {
     "elapsed": 11,
     "status": "ok",
     "timestamp": 1696792191490,
     "user": {
      "displayName": "Carlotta Bellomo",
      "userId": "12601650055368114883"
     },
     "user_tz": -120
    },
    "id": "GjfzfG63cqEf"
   },
   "outputs": [],
   "source": [
    "#creation of a new column with the boolean value True if the customer is active, False in all the other cases\n",
    "boolean_results = []\n",
    "for i in range(len(results)):\n",
    "  if results[i] == 0:\n",
    "    boolean_results.append(True)\n",
    "  else:\n",
    "    boolean_results.append(False)"
   ]
  },
  {
   "cell_type": "code",
   "execution_count": 154,
   "metadata": {
    "colab": {
     "base_uri": "https://localhost:8080/"
    },
    "executionInfo": {
     "elapsed": 11,
     "status": "ok",
     "timestamp": 1696792191490,
     "user": {
      "displayName": "Carlotta Bellomo",
      "userId": "12601650055368114883"
     },
     "user_tz": -120
    },
    "id": "0yCjbeF6dpl7",
    "outputId": "93dd5ff3-df1b-46a5-f81d-b0a2999c5d3a"
   },
   "outputs": [
    {
     "name": "stdout",
     "output_type": "stream",
     "text": [
      "True\n"
     ]
    }
   ],
   "source": [
    "#control that the boolean column have the same number of active users than the original one\n",
    "count_active = (customers['club_member_status'] == 'ACTIVE').sum()\n",
    "\n",
    "count_true = 0\n",
    "value = True\n",
    "for i in range(len(boolean_results)):\n",
    "  if boolean_results[i] == value:\n",
    "    count_true += 1\n",
    "\n",
    "print(count_active == count_true)"
   ]
  },
  {
   "cell_type": "code",
   "execution_count": 155,
   "metadata": {
    "colab": {
     "base_uri": "https://localhost:8080/",
     "height": 423
    },
    "executionInfo": {
     "elapsed": 9,
     "status": "ok",
     "timestamp": 1696792191490,
     "user": {
      "displayName": "Carlotta Bellomo",
      "userId": "12601650055368114883"
     },
     "user_tz": -120
    },
    "id": "E0VfUoeSfL6z",
    "outputId": "e8763540-f865-418e-a190-eecaec261f55"
   },
   "outputs": [
    {
     "data": {
      "text/html": [
       "<div>\n",
       "<style scoped>\n",
       "    .dataframe tbody tr th:only-of-type {\n",
       "        vertical-align: middle;\n",
       "    }\n",
       "\n",
       "    .dataframe tbody tr th {\n",
       "        vertical-align: top;\n",
       "    }\n",
       "\n",
       "    .dataframe thead th {\n",
       "        text-align: right;\n",
       "    }\n",
       "</style>\n",
       "<table border=\"1\" class=\"dataframe\">\n",
       "  <thead>\n",
       "    <tr style=\"text-align: right;\">\n",
       "      <th></th>\n",
       "      <th>Member status active</th>\n",
       "    </tr>\n",
       "  </thead>\n",
       "  <tbody>\n",
       "    <tr>\n",
       "      <th>0</th>\n",
       "      <td>True</td>\n",
       "    </tr>\n",
       "    <tr>\n",
       "      <th>1</th>\n",
       "      <td>True</td>\n",
       "    </tr>\n",
       "    <tr>\n",
       "      <th>2</th>\n",
       "      <td>True</td>\n",
       "    </tr>\n",
       "    <tr>\n",
       "      <th>3</th>\n",
       "      <td>True</td>\n",
       "    </tr>\n",
       "    <tr>\n",
       "      <th>4</th>\n",
       "      <td>True</td>\n",
       "    </tr>\n",
       "    <tr>\n",
       "      <th>...</th>\n",
       "      <td>...</td>\n",
       "    </tr>\n",
       "    <tr>\n",
       "      <th>1371975</th>\n",
       "      <td>True</td>\n",
       "    </tr>\n",
       "    <tr>\n",
       "      <th>1371976</th>\n",
       "      <td>True</td>\n",
       "    </tr>\n",
       "    <tr>\n",
       "      <th>1371977</th>\n",
       "      <td>True</td>\n",
       "    </tr>\n",
       "    <tr>\n",
       "      <th>1371978</th>\n",
       "      <td>True</td>\n",
       "    </tr>\n",
       "    <tr>\n",
       "      <th>1371979</th>\n",
       "      <td>False</td>\n",
       "    </tr>\n",
       "  </tbody>\n",
       "</table>\n",
       "<p>1371980 rows × 1 columns</p>\n",
       "</div>"
      ],
      "text/plain": [
       "         Member status active\n",
       "0                        True\n",
       "1                        True\n",
       "2                        True\n",
       "3                        True\n",
       "4                        True\n",
       "...                       ...\n",
       "1371975                  True\n",
       "1371976                  True\n",
       "1371977                  True\n",
       "1371978                  True\n",
       "1371979                 False\n",
       "\n",
       "[1371980 rows x 1 columns]"
      ]
     },
     "execution_count": 155,
     "metadata": {},
     "output_type": "execute_result"
    }
   ],
   "source": [
    "#creation of the new colum in the pandas dataframe with the boolean values\n",
    "boolean_dataframe = pd.DataFrame(boolean_results)\n",
    "boolean_dataframe.rename(columns = {0: 'Member status active'}, inplace = True)\n",
    "boolean_dataframe"
   ]
  },
  {
   "cell_type": "code",
   "execution_count": 156,
   "metadata": {
    "colab": {
     "base_uri": "https://localhost:8080/",
     "height": 458
    },
    "executionInfo": {
     "elapsed": 8,
     "status": "ok",
     "timestamp": 1696792191490,
     "user": {
      "displayName": "Carlotta Bellomo",
      "userId": "12601650055368114883"
     },
     "user_tz": -120
    },
    "id": "lUA4F_oiiNt2",
    "outputId": "886003d1-ed12-4c62-f2fb-815f1ac23994",
    "scrolled": true
   },
   "outputs": [
    {
     "data": {
      "text/html": [
       "<div>\n",
       "<style scoped>\n",
       "    .dataframe tbody tr th:only-of-type {\n",
       "        vertical-align: middle;\n",
       "    }\n",
       "\n",
       "    .dataframe tbody tr th {\n",
       "        vertical-align: top;\n",
       "    }\n",
       "\n",
       "    .dataframe thead th {\n",
       "        text-align: right;\n",
       "    }\n",
       "</style>\n",
       "<table border=\"1\" class=\"dataframe\">\n",
       "  <thead>\n",
       "    <tr style=\"text-align: right;\">\n",
       "      <th></th>\n",
       "      <th>customer_id</th>\n",
       "      <th>FN</th>\n",
       "      <th>Active</th>\n",
       "      <th>club_member_status</th>\n",
       "      <th>fashion_news_frequency</th>\n",
       "      <th>age</th>\n",
       "      <th>postal_code</th>\n",
       "      <th>Member status active</th>\n",
       "    </tr>\n",
       "  </thead>\n",
       "  <tbody>\n",
       "    <tr>\n",
       "      <th>0</th>\n",
       "      <td>00000dbacae5abe5e23885899a1fa44253a17956c6d1c3...</td>\n",
       "      <td>-1.0</td>\n",
       "      <td>-1.0</td>\n",
       "      <td>ACTIVE</td>\n",
       "      <td>NONE</td>\n",
       "      <td>49.0</td>\n",
       "      <td>52043ee2162cf5aa7ee79974281641c6f11a68d276429a...</td>\n",
       "      <td>True</td>\n",
       "    </tr>\n",
       "    <tr>\n",
       "      <th>1</th>\n",
       "      <td>0000423b00ade91418cceaf3b26c6af3dd342b51fd051e...</td>\n",
       "      <td>-1.0</td>\n",
       "      <td>-1.0</td>\n",
       "      <td>ACTIVE</td>\n",
       "      <td>NONE</td>\n",
       "      <td>25.0</td>\n",
       "      <td>2973abc54daa8a5f8ccfe9362140c63247c5eee03f1d93...</td>\n",
       "      <td>True</td>\n",
       "    </tr>\n",
       "    <tr>\n",
       "      <th>2</th>\n",
       "      <td>000058a12d5b43e67d225668fa1f8d618c13dc232df0ca...</td>\n",
       "      <td>-1.0</td>\n",
       "      <td>-1.0</td>\n",
       "      <td>ACTIVE</td>\n",
       "      <td>NONE</td>\n",
       "      <td>24.0</td>\n",
       "      <td>64f17e6a330a85798e4998f62d0930d14db8db1c054af6...</td>\n",
       "      <td>True</td>\n",
       "    </tr>\n",
       "    <tr>\n",
       "      <th>3</th>\n",
       "      <td>00005ca1c9ed5f5146b52ac8639a40ca9d57aeff4d1bd2...</td>\n",
       "      <td>-1.0</td>\n",
       "      <td>-1.0</td>\n",
       "      <td>ACTIVE</td>\n",
       "      <td>NONE</td>\n",
       "      <td>54.0</td>\n",
       "      <td>5d36574f52495e81f019b680c843c443bd343d5ca5b1c2...</td>\n",
       "      <td>True</td>\n",
       "    </tr>\n",
       "    <tr>\n",
       "      <th>4</th>\n",
       "      <td>00006413d8573cd20ed7128e53b7b13819fe5cfc2d801f...</td>\n",
       "      <td>1.0</td>\n",
       "      <td>1.0</td>\n",
       "      <td>ACTIVE</td>\n",
       "      <td>Regularly</td>\n",
       "      <td>52.0</td>\n",
       "      <td>25fa5ddee9aac01b35208d01736e57942317d756b32ddd...</td>\n",
       "      <td>True</td>\n",
       "    </tr>\n",
       "    <tr>\n",
       "      <th>...</th>\n",
       "      <td>...</td>\n",
       "      <td>...</td>\n",
       "      <td>...</td>\n",
       "      <td>...</td>\n",
       "      <td>...</td>\n",
       "      <td>...</td>\n",
       "      <td>...</td>\n",
       "      <td>...</td>\n",
       "    </tr>\n",
       "    <tr>\n",
       "      <th>1371975</th>\n",
       "      <td>ffffbbf78b6eaac697a8a5dfbfd2bfa8113ee5b403e474...</td>\n",
       "      <td>-1.0</td>\n",
       "      <td>-1.0</td>\n",
       "      <td>ACTIVE</td>\n",
       "      <td>NONE</td>\n",
       "      <td>24.0</td>\n",
       "      <td>7aa399f7e669990daba2d92c577b52237380662f36480b...</td>\n",
       "      <td>True</td>\n",
       "    </tr>\n",
       "    <tr>\n",
       "      <th>1371976</th>\n",
       "      <td>ffffcd5046a6143d29a04fb8c424ce494a76e5cdf4fab5...</td>\n",
       "      <td>-1.0</td>\n",
       "      <td>-1.0</td>\n",
       "      <td>ACTIVE</td>\n",
       "      <td>NONE</td>\n",
       "      <td>21.0</td>\n",
       "      <td>3f47f1279beb72215f4de557d950e0bfa73789d24acb5e...</td>\n",
       "      <td>True</td>\n",
       "    </tr>\n",
       "    <tr>\n",
       "      <th>1371977</th>\n",
       "      <td>ffffcf35913a0bee60e8741cb2b4e78b8a98ee5ff2e6a1...</td>\n",
       "      <td>1.0</td>\n",
       "      <td>1.0</td>\n",
       "      <td>ACTIVE</td>\n",
       "      <td>Regularly</td>\n",
       "      <td>21.0</td>\n",
       "      <td>4563fc79215672cd6a863f2b4bf56b8f898f2d96ed590e...</td>\n",
       "      <td>True</td>\n",
       "    </tr>\n",
       "    <tr>\n",
       "      <th>1371978</th>\n",
       "      <td>ffffd7744cebcf3aca44ae7049d2a94b87074c3d4ffe38...</td>\n",
       "      <td>1.0</td>\n",
       "      <td>1.0</td>\n",
       "      <td>ACTIVE</td>\n",
       "      <td>Regularly</td>\n",
       "      <td>18.0</td>\n",
       "      <td>8892c18e9bc3dca6aa4000cb8094fc4b51ee8db2ed14d7...</td>\n",
       "      <td>True</td>\n",
       "    </tr>\n",
       "    <tr>\n",
       "      <th>1371979</th>\n",
       "      <td>ffffd9ac14e89946416d80e791d064701994755c3ab686...</td>\n",
       "      <td>-1.0</td>\n",
       "      <td>-1.0</td>\n",
       "      <td>PRE-CREATE</td>\n",
       "      <td>NONE</td>\n",
       "      <td>65.0</td>\n",
       "      <td>0a1a03306fb2f62164c2a439b38c0caa64b40deaae8687...</td>\n",
       "      <td>False</td>\n",
       "    </tr>\n",
       "  </tbody>\n",
       "</table>\n",
       "<p>1371980 rows × 8 columns</p>\n",
       "</div>"
      ],
      "text/plain": [
       "                                               customer_id   FN  Active  \\\n",
       "0        00000dbacae5abe5e23885899a1fa44253a17956c6d1c3... -1.0    -1.0   \n",
       "1        0000423b00ade91418cceaf3b26c6af3dd342b51fd051e... -1.0    -1.0   \n",
       "2        000058a12d5b43e67d225668fa1f8d618c13dc232df0ca... -1.0    -1.0   \n",
       "3        00005ca1c9ed5f5146b52ac8639a40ca9d57aeff4d1bd2... -1.0    -1.0   \n",
       "4        00006413d8573cd20ed7128e53b7b13819fe5cfc2d801f...  1.0     1.0   \n",
       "...                                                    ...  ...     ...   \n",
       "1371975  ffffbbf78b6eaac697a8a5dfbfd2bfa8113ee5b403e474... -1.0    -1.0   \n",
       "1371976  ffffcd5046a6143d29a04fb8c424ce494a76e5cdf4fab5... -1.0    -1.0   \n",
       "1371977  ffffcf35913a0bee60e8741cb2b4e78b8a98ee5ff2e6a1...  1.0     1.0   \n",
       "1371978  ffffd7744cebcf3aca44ae7049d2a94b87074c3d4ffe38...  1.0     1.0   \n",
       "1371979  ffffd9ac14e89946416d80e791d064701994755c3ab686... -1.0    -1.0   \n",
       "\n",
       "        club_member_status fashion_news_frequency   age  \\\n",
       "0                   ACTIVE                   NONE  49.0   \n",
       "1                   ACTIVE                   NONE  25.0   \n",
       "2                   ACTIVE                   NONE  24.0   \n",
       "3                   ACTIVE                   NONE  54.0   \n",
       "4                   ACTIVE              Regularly  52.0   \n",
       "...                    ...                    ...   ...   \n",
       "1371975             ACTIVE                   NONE  24.0   \n",
       "1371976             ACTIVE                   NONE  21.0   \n",
       "1371977             ACTIVE              Regularly  21.0   \n",
       "1371978             ACTIVE              Regularly  18.0   \n",
       "1371979         PRE-CREATE                   NONE  65.0   \n",
       "\n",
       "                                               postal_code  \\\n",
       "0        52043ee2162cf5aa7ee79974281641c6f11a68d276429a...   \n",
       "1        2973abc54daa8a5f8ccfe9362140c63247c5eee03f1d93...   \n",
       "2        64f17e6a330a85798e4998f62d0930d14db8db1c054af6...   \n",
       "3        5d36574f52495e81f019b680c843c443bd343d5ca5b1c2...   \n",
       "4        25fa5ddee9aac01b35208d01736e57942317d756b32ddd...   \n",
       "...                                                    ...   \n",
       "1371975  7aa399f7e669990daba2d92c577b52237380662f36480b...   \n",
       "1371976  3f47f1279beb72215f4de557d950e0bfa73789d24acb5e...   \n",
       "1371977  4563fc79215672cd6a863f2b4bf56b8f898f2d96ed590e...   \n",
       "1371978  8892c18e9bc3dca6aa4000cb8094fc4b51ee8db2ed14d7...   \n",
       "1371979  0a1a03306fb2f62164c2a439b38c0caa64b40deaae8687...   \n",
       "\n",
       "         Member status active  \n",
       "0                        True  \n",
       "1                        True  \n",
       "2                        True  \n",
       "3                        True  \n",
       "4                        True  \n",
       "...                       ...  \n",
       "1371975                  True  \n",
       "1371976                  True  \n",
       "1371977                  True  \n",
       "1371978                  True  \n",
       "1371979                 False  \n",
       "\n",
       "[1371980 rows x 8 columns]"
      ]
     },
     "execution_count": 156,
     "metadata": {},
     "output_type": "execute_result"
    }
   ],
   "source": [
    "#merge of the column Customer active with the dataframe customers\n",
    "customers = pd.concat([customers, boolean_dataframe], axis = 1)\n",
    "customers"
   ]
  },
  {
   "cell_type": "markdown",
   "metadata": {
    "id": "MFmyTVPR1lAd"
   },
   "source": [
    "# Export of the new datasets with feature engeneering done in parquet format"
   ]
  },
  {
   "cell_type": "code",
   "execution_count": 157,
   "metadata": {},
   "outputs": [],
   "source": [
    "#pip install pyarrow"
   ]
  },
  {
   "cell_type": "code",
   "execution_count": 158,
   "metadata": {
    "colab": {
     "base_uri": "https://localhost:8080/",
     "height": 210
    },
    "executionInfo": {
     "elapsed": 586,
     "status": "error",
     "timestamp": 1696792192069,
     "user": {
      "displayName": "Carlotta Bellomo",
      "userId": "12601650055368114883"
     },
     "user_tz": -120
    },
    "id": "DFh4D0p01qen",
    "outputId": "81f4f471-0084-4a5c-94d7-a84fbb024531",
    "scrolled": true
   },
   "outputs": [],
   "source": [
    "#new_customers.csv file\n",
    "customers.to_csv('Data/new_customers.csv')"
   ]
  }
 ],
 "metadata": {
  "colab": {
   "authorship_tag": "ABX9TyPrq+SLnWAbUgnO3eD0vjQZ",
   "provenance": []
  },
  "kernelspec": {
   "display_name": "Python 3 (ipykernel)",
   "language": "python",
   "name": "python3"
  },
  "language_info": {
   "codemirror_mode": {
    "name": "ipython",
    "version": 3
   },
   "file_extension": ".py",
   "mimetype": "text/x-python",
   "name": "python",
   "nbconvert_exporter": "python",
   "pygments_lexer": "ipython3",
   "version": "3.11.5"
  }
 },
 "nbformat": 4,
 "nbformat_minor": 1
}
