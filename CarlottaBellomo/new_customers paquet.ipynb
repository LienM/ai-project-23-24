{
 "cells": [
  {
   "cell_type": "markdown",
   "id": "4c982175",
   "metadata": {},
   "source": [
    "# From csv to parquet of the new customer file\n"
   ]
  },
  {
   "cell_type": "code",
   "execution_count": 6,
   "id": "3d312e76",
   "metadata": {},
   "outputs": [],
   "source": [
    "#libraries\n",
    "import pandas as pd"
   ]
  },
  {
   "cell_type": "code",
   "execution_count": 7,
   "id": "3a8341e0",
   "metadata": {},
   "outputs": [],
   "source": [
    "#opening of the file\n",
    "customers = pd.read_csv('Data/new_customers.csv')\n",
    "customers = pd.DataFrame(customers)"
   ]
  },
  {
   "cell_type": "code",
   "execution_count": 8,
   "id": "e94d7d02",
   "metadata": {},
   "outputs": [],
   "source": [
    "#from csv to parquet\n",
    "customers.to_parquet('Parquet_datasets/new_customers.parquet')"
   ]
  }
 ],
 "metadata": {
  "kernelspec": {
   "display_name": "Python 3 (ipykernel)",
   "language": "python",
   "name": "python3"
  },
  "language_info": {
   "codemirror_mode": {
    "name": "ipython",
    "version": 3
   },
   "file_extension": ".py",
   "mimetype": "text/x-python",
   "name": "python",
   "nbconvert_exporter": "python",
   "pygments_lexer": "ipython3",
   "version": "3.9.13"
  }
 },
 "nbformat": 4,
 "nbformat_minor": 5
}
