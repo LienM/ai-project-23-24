{
 "cells": [
  {
   "cell_type": "markdown",
   "id": "5813cb9e",
   "metadata": {
    "papermill": {
     "duration": 0.078847,
     "end_time": "2023-11-07T11:17:04.788596",
     "exception": false,
     "start_time": "2023-11-07T11:17:04.709749",
     "status": "completed"
    },
    "tags": []
   },
   "source": [
    "Radek posted about this [here](https://www.kaggle.com/competitions/h-and-m-personalized-fashion-recommendations/discussion/309220), and linked to a GitHub repo with the code.\n",
    "\n",
    "I just transferred that code here to Kaggle notebooks, that's all."
   ]
  },
  {
   "cell_type": "code",
   "execution_count": 1,
   "id": "731f04c2",
   "metadata": {
    "execution": {
     "iopub.execute_input": "2023-11-07T11:17:04.958978Z",
     "iopub.status.busy": "2023-11-07T11:17:04.958006Z",
     "iopub.status.idle": "2023-11-07T11:17:04.980561Z",
     "shell.execute_reply": "2023-11-07T11:17:04.979327Z"
    },
    "papermill": {
     "duration": 0.113318,
     "end_time": "2023-11-07T11:17:04.984541",
     "exception": false,
     "start_time": "2023-11-07T11:17:04.871223",
     "status": "completed"
    },
    "tags": []
   },
   "outputs": [],
   "source": [
    "import numpy as np\n",
    "\n",
    "def apk(actual, predicted, k=10):\n",
    "    \"\"\"\n",
    "    Computes the average precision at k.\n",
    "\n",
    "    This function computes the average prescision at k between two lists of\n",
    "    items.\n",
    "\n",
    "    Parameters\n",
    "    ----------\n",
    "    actual : list\n",
    "             A list of elements that are to be predicted (order doesn't matter)\n",
    "    predicted : list\n",
    "                A list of predicted elements (order does matter)\n",
    "    k : int, optional\n",
    "        The maximum number of predicted elements\n",
    "\n",
    "    Returns\n",
    "    -------\n",
    "    score : double\n",
    "            The average precision at k over the input lists\n",
    "\n",
    "    \"\"\"\n",
    "    if len(predicted)>k:\n",
    "        predicted = predicted[:k]\n",
    "\n",
    "    score = 0.0\n",
    "    num_hits = 0.0\n",
    "\n",
    "    for i,p in enumerate(predicted):\n",
    "        if p in actual and p not in predicted[:i]:\n",
    "            num_hits += 1.0\n",
    "            score += num_hits / (i+1.0)\n",
    "\n",
    "    if not actual:\n",
    "        return 0.0\n",
    "\n",
    "    return score / min(len(actual), k)\n",
    "\n",
    "def mapk(actual, predicted, k=10):\n",
    "    \"\"\"\n",
    "    Computes the mean average precision at k.\n",
    "\n",
    "    This function computes the mean average prescision at k between two lists\n",
    "    of lists of items.\n",
    "\n",
    "    Parameters\n",
    "    ----------\n",
    "    actual : list\n",
    "             A list of lists of elements that are to be predicted \n",
    "             (order doesn't matter in the lists)\n",
    "    predicted : list\n",
    "                A list of lists of predicted elements\n",
    "                (order matters in the lists)\n",
    "    k : int, optional\n",
    "        The maximum number of predicted elements\n",
    "\n",
    "    Returns\n",
    "    -------\n",
    "    score : double\n",
    "            The mean average precision at k over the input lists\n",
    "\n",
    "    \"\"\"\n",
    "    return np.mean([apk(a,p,k) for a,p in zip(actual, predicted)])"
   ]
  },
  {
   "cell_type": "code",
   "execution_count": 2,
   "id": "01d48e48",
   "metadata": {
    "execution": {
     "iopub.execute_input": "2023-11-07T11:17:05.143732Z",
     "iopub.status.busy": "2023-11-07T11:17:05.143430Z",
     "iopub.status.idle": "2023-11-07T11:17:06.245304Z",
     "shell.execute_reply": "2023-11-07T11:17:06.244044Z"
    },
    "papermill": {
     "duration": 1.182779,
     "end_time": "2023-11-07T11:17:06.248565",
     "exception": false,
     "start_time": "2023-11-07T11:17:05.065786",
     "status": "completed"
    },
    "tags": []
   },
   "outputs": [],
   "source": [
    "from sklearn.base import BaseEstimator, TransformerMixin\n",
    "import numpy as np\n",
    "\n",
    "# https://www.kaggle.com/c/h-and-m-personalized-fashion-recommendations/discussion/308635\n",
    "def customer_hex_id_to_int(series):\n",
    "    return series.str[-16:].apply(hex_id_to_int)\n",
    "\n",
    "def hex_id_to_int(str):\n",
    "    return int(str[-16:], 16)\n",
    "\n",
    "def article_id_str_to_int(series):\n",
    "    return series.astype('int32')\n",
    "\n",
    "def article_id_int_to_str(series):\n",
    "    return '0' + series.astype('str')\n",
    "\n",
    "class Categorize(BaseEstimator, TransformerMixin):\n",
    "    def __init__(self, min_examples=0):\n",
    "        self.min_examples = min_examples\n",
    "        self.categories = []\n",
    "        \n",
    "    def fit(self, X):\n",
    "        for i in range(X.shape[1]):\n",
    "            vc = X.iloc[:, i].value_counts()\n",
    "            self.categories.append(vc[vc > self.min_examples].index.tolist())\n",
    "        return self\n",
    "\n",
    "    def transform(self, X):\n",
    "        data = {X.columns[i]: pd.Categorical(X.iloc[:, i], categories=self.categories[i]).codes for i in range(X.shape[1])}\n",
    "        return pd.DataFrame(data=data)\n",
    "\n",
    "\n",
    "def calculate_apk(list_of_preds, list_of_gts):\n",
    "    # for fast validation this can be changed to operate on dicts of {'cust_id_int': [art_id_int, ...]}\n",
    "    # using 'data/val_week_purchases_by_cust.pkl'\n",
    "    apks = []\n",
    "    for preds, gt in zip(list_of_preds, list_of_gts):\n",
    "        apks.append(apk(gt, preds, k=12))\n",
    "    return np.mean(apks)\n",
    "\n",
    "def eval_sub(sub_csv, skip_cust_with_no_purchases=True):\n",
    "    sub=pd.read_csv(sub_csv)\n",
    "    validation_set=pd.read_parquet('data/validation_ground_truth.parquet')\n",
    "\n",
    "    apks = []\n",
    "\n",
    "    no_purchases_pattern = []\n",
    "    for pred, gt in zip(sub.prediction.str.split(), validation_set.prediction.str.split()):\n",
    "        if skip_cust_with_no_purchases and (gt == no_purchases_pattern): continue\n",
    "        apks.append(apk(gt, pred, k=12))\n",
    "    return np.mean(apks)"
   ]
  },
  {
   "cell_type": "code",
   "execution_count": 3,
   "id": "eaa2000a",
   "metadata": {
    "execution": {
     "iopub.execute_input": "2023-11-07T11:17:06.413350Z",
     "iopub.status.busy": "2023-11-07T11:17:06.412851Z",
     "iopub.status.idle": "2023-11-07T11:17:06.417773Z",
     "shell.execute_reply": "2023-11-07T11:17:06.416820Z"
    },
    "papermill": {
     "duration": 0.08976,
     "end_time": "2023-11-07T11:17:06.420024",
     "exception": false,
     "start_time": "2023-11-07T11:17:06.330264",
     "status": "completed"
    },
    "tags": []
   },
   "outputs": [],
   "source": [
    "import pandas as pd"
   ]
  },
  {
   "cell_type": "code",
   "execution_count": 4,
   "id": "cfe06c76",
   "metadata": {
    "execution": {
     "iopub.execute_input": "2023-11-07T11:17:06.568148Z",
     "iopub.status.busy": "2023-11-07T11:17:06.567864Z",
     "iopub.status.idle": "2023-11-07T11:17:14.878745Z",
     "shell.execute_reply": "2023-11-07T11:17:14.877883Z"
    },
    "papermill": {
     "duration": 8.386412,
     "end_time": "2023-11-07T11:17:14.881462",
     "exception": false,
     "start_time": "2023-11-07T11:17:06.495050",
     "status": "completed"
    },
    "tags": []
   },
   "outputs": [
    {
     "name": "stdout",
     "output_type": "stream",
     "text": [
      "CPU times: user 2.25 s, sys: 2.93 s, total: 5.18 s\n",
      "Wall time: 8.3 s\n"
     ]
    }
   ],
   "source": [
    "%%time\n",
    "\n",
    "transactions = pd.read_parquet('../input/warmup/transactions_train.parquet')\n",
    "customers = pd.read_parquet('../input/warmup/customers.parquet')\n",
    "articles = pd.read_parquet('../input/parquet-new-assignement/new_articles_one.parquet')\n",
    "\n",
    "# sample = 0.05\n",
    "# transactions = pd.read_parquet(f'data/transactions_train_sample_{sample}.parquet')\n",
    "# customers = pd.read_parquet(f'data/customers_sample_{sample}.parquet')\n",
    "# articles = pd.read_parquet(f'data/articles_train_sample_{sample}.parquet')"
   ]
  },
  {
   "cell_type": "code",
   "execution_count": 5,
   "id": "97a91300",
   "metadata": {
    "execution": {
     "iopub.execute_input": "2023-11-07T11:17:15.050872Z",
     "iopub.status.busy": "2023-11-07T11:17:15.050542Z",
     "iopub.status.idle": "2023-11-07T11:17:15.393871Z",
     "shell.execute_reply": "2023-11-07T11:17:15.392508Z"
    },
    "papermill": {
     "duration": 0.43766,
     "end_time": "2023-11-07T11:17:15.397888",
     "exception": false,
     "start_time": "2023-11-07T11:17:14.960228",
     "status": "completed"
    },
    "tags": []
   },
   "outputs": [],
   "source": [
    "test_week = transactions.week.max() + 1\n",
    "transactions = transactions[transactions.week > transactions.week.max() - 10]"
   ]
  },
  {
   "cell_type": "markdown",
   "id": "018bfd61",
   "metadata": {
    "papermill": {
     "duration": 0.084339,
     "end_time": "2023-11-07T11:17:15.561943",
     "exception": false,
     "start_time": "2023-11-07T11:17:15.477604",
     "status": "completed"
    },
    "tags": []
   },
   "source": [
    "# Generating candidates"
   ]
  },
  {
   "cell_type": "markdown",
   "id": "ca6cd260",
   "metadata": {
    "papermill": {
     "duration": 0.08569,
     "end_time": "2023-11-07T11:17:15.728274",
     "exception": false,
     "start_time": "2023-11-07T11:17:15.642584",
     "status": "completed"
    },
    "tags": []
   },
   "source": [
    "### Last purchase candidates"
   ]
  },
  {
   "cell_type": "code",
   "execution_count": 6,
   "id": "6d19b4bf",
   "metadata": {
    "execution": {
     "iopub.execute_input": "2023-11-07T11:17:15.875909Z",
     "iopub.status.busy": "2023-11-07T11:17:15.875618Z",
     "iopub.status.idle": "2023-11-07T11:17:42.497708Z",
     "shell.execute_reply": "2023-11-07T11:17:42.495173Z"
    },
    "papermill": {
     "duration": 26.699063,
     "end_time": "2023-11-07T11:17:42.501081",
     "exception": false,
     "start_time": "2023-11-07T11:17:15.802018",
     "status": "completed"
    },
    "tags": []
   },
   "outputs": [
    {
     "name": "stdout",
     "output_type": "stream",
     "text": [
      "CPU times: user 26.5 s, sys: 193 ms, total: 26.6 s\n",
      "Wall time: 26.6 s\n"
     ]
    }
   ],
   "source": [
    "%%time\n",
    "\n",
    "c2weeks = transactions.groupby('customer_id')['week'].unique()"
   ]
  },
  {
   "cell_type": "code",
   "execution_count": 7,
   "id": "f1e5d2cb",
   "metadata": {
    "execution": {
     "iopub.execute_input": "2023-11-07T11:17:42.651757Z",
     "iopub.status.busy": "2023-11-07T11:17:42.650546Z",
     "iopub.status.idle": "2023-11-07T11:17:42.762756Z",
     "shell.execute_reply": "2023-11-07T11:17:42.761868Z"
    },
    "papermill": {
     "duration": 0.189837,
     "end_time": "2023-11-07T11:17:42.765767",
     "exception": false,
     "start_time": "2023-11-07T11:17:42.575930",
     "status": "completed"
    },
    "tags": []
   },
   "outputs": [
    {
     "data": {
      "text/html": [
       "<div>\n",
       "<style scoped>\n",
       "    .dataframe tbody tr th:only-of-type {\n",
       "        vertical-align: middle;\n",
       "    }\n",
       "\n",
       "    .dataframe tbody tr th {\n",
       "        vertical-align: top;\n",
       "    }\n",
       "\n",
       "    .dataframe thead th {\n",
       "        text-align: right;\n",
       "    }\n",
       "</style>\n",
       "<table border=\"1\" class=\"dataframe\">\n",
       "  <thead>\n",
       "    <tr style=\"text-align: right;\">\n",
       "      <th></th>\n",
       "      <th>min</th>\n",
       "      <th>max</th>\n",
       "    </tr>\n",
       "    <tr>\n",
       "      <th>week</th>\n",
       "      <th></th>\n",
       "      <th></th>\n",
       "    </tr>\n",
       "  </thead>\n",
       "  <tbody>\n",
       "    <tr>\n",
       "      <th>95</th>\n",
       "      <td>2020-07-15</td>\n",
       "      <td>2020-07-21</td>\n",
       "    </tr>\n",
       "    <tr>\n",
       "      <th>96</th>\n",
       "      <td>2020-07-22</td>\n",
       "      <td>2020-07-28</td>\n",
       "    </tr>\n",
       "    <tr>\n",
       "      <th>97</th>\n",
       "      <td>2020-07-29</td>\n",
       "      <td>2020-08-04</td>\n",
       "    </tr>\n",
       "    <tr>\n",
       "      <th>98</th>\n",
       "      <td>2020-08-05</td>\n",
       "      <td>2020-08-11</td>\n",
       "    </tr>\n",
       "    <tr>\n",
       "      <th>99</th>\n",
       "      <td>2020-08-12</td>\n",
       "      <td>2020-08-18</td>\n",
       "    </tr>\n",
       "    <tr>\n",
       "      <th>100</th>\n",
       "      <td>2020-08-19</td>\n",
       "      <td>2020-08-25</td>\n",
       "    </tr>\n",
       "    <tr>\n",
       "      <th>101</th>\n",
       "      <td>2020-08-26</td>\n",
       "      <td>2020-09-01</td>\n",
       "    </tr>\n",
       "    <tr>\n",
       "      <th>102</th>\n",
       "      <td>2020-09-02</td>\n",
       "      <td>2020-09-08</td>\n",
       "    </tr>\n",
       "    <tr>\n",
       "      <th>103</th>\n",
       "      <td>2020-09-09</td>\n",
       "      <td>2020-09-15</td>\n",
       "    </tr>\n",
       "    <tr>\n",
       "      <th>104</th>\n",
       "      <td>2020-09-16</td>\n",
       "      <td>2020-09-22</td>\n",
       "    </tr>\n",
       "  </tbody>\n",
       "</table>\n",
       "</div>"
      ],
      "text/plain": [
       "            min        max\n",
       "week                      \n",
       "95   2020-07-15 2020-07-21\n",
       "96   2020-07-22 2020-07-28\n",
       "97   2020-07-29 2020-08-04\n",
       "98   2020-08-05 2020-08-11\n",
       "99   2020-08-12 2020-08-18\n",
       "100  2020-08-19 2020-08-25\n",
       "101  2020-08-26 2020-09-01\n",
       "102  2020-09-02 2020-09-08\n",
       "103  2020-09-09 2020-09-15\n",
       "104  2020-09-16 2020-09-22"
      ]
     },
     "execution_count": 7,
     "metadata": {},
     "output_type": "execute_result"
    }
   ],
   "source": [
    "transactions.groupby('week')['t_dat'].agg(['min', 'max'])"
   ]
  },
  {
   "cell_type": "code",
   "execution_count": 8,
   "id": "cafb4de9",
   "metadata": {
    "execution": {
     "iopub.execute_input": "2023-11-07T11:17:42.919229Z",
     "iopub.status.busy": "2023-11-07T11:17:42.918777Z",
     "iopub.status.idle": "2023-11-07T11:17:42.930436Z",
     "shell.execute_reply": "2023-11-07T11:17:42.929118Z"
    },
    "papermill": {
     "duration": 0.09102,
     "end_time": "2023-11-07T11:17:42.932903",
     "exception": false,
     "start_time": "2023-11-07T11:17:42.841883",
     "status": "completed"
    },
    "tags": []
   },
   "outputs": [
    {
     "data": {
      "text/plain": [
       "customer_id\n",
       "28847241659200          [95, 96, 101, 102]\n",
       "41318098387474                        [98]\n",
       "116809474287335                 [101, 103]\n",
       "200292573348128          [95, 96, 99, 102]\n",
       "248294615847351                       [96]\n",
       "                               ...        \n",
       "18446624797007271432                  [95]\n",
       "18446630855572834764                 [103]\n",
       "18446662237889060501                 [100]\n",
       "18446705133201055310                 [102]\n",
       "18446737527580148316                 [104]\n",
       "Name: week, Length: 437365, dtype: object"
      ]
     },
     "execution_count": 8,
     "metadata": {},
     "output_type": "execute_result"
    }
   ],
   "source": [
    "c2weeks"
   ]
  },
  {
   "cell_type": "code",
   "execution_count": 9,
   "id": "0d815c85",
   "metadata": {
    "execution": {
     "iopub.execute_input": "2023-11-07T11:17:43.084975Z",
     "iopub.status.busy": "2023-11-07T11:17:43.084357Z",
     "iopub.status.idle": "2023-11-07T11:17:44.373840Z",
     "shell.execute_reply": "2023-11-07T11:17:44.372372Z"
    },
    "papermill": {
     "duration": 1.369703,
     "end_time": "2023-11-07T11:17:44.377510",
     "exception": false,
     "start_time": "2023-11-07T11:17:43.007807",
     "status": "completed"
    },
    "tags": []
   },
   "outputs": [
    {
     "name": "stdout",
     "output_type": "stream",
     "text": [
      "CPU times: user 1.17 s, sys: 107 ms, total: 1.27 s\n",
      "Wall time: 1.28 s\n"
     ]
    }
   ],
   "source": [
    "%%time\n",
    "\n",
    "c2weeks2shifted_weeks = {}\n",
    "\n",
    "for c_id, weeks in c2weeks.items():\n",
    "    c2weeks2shifted_weeks[c_id] = {}\n",
    "    for i in range(weeks.shape[0]-1):\n",
    "        c2weeks2shifted_weeks[c_id][weeks[i]] = weeks[i+1]\n",
    "    c2weeks2shifted_weeks[c_id][weeks[-1]] = test_week"
   ]
  },
  {
   "cell_type": "code",
   "execution_count": 10,
   "id": "50616c07",
   "metadata": {
    "execution": {
     "iopub.execute_input": "2023-11-07T11:17:44.553217Z",
     "iopub.status.busy": "2023-11-07T11:17:44.552899Z",
     "iopub.status.idle": "2023-11-07T11:17:44.560773Z",
     "shell.execute_reply": "2023-11-07T11:17:44.559408Z"
    },
    "papermill": {
     "duration": 0.099324,
     "end_time": "2023-11-07T11:17:44.564142",
     "exception": false,
     "start_time": "2023-11-07T11:17:44.464818",
     "status": "completed"
    },
    "tags": []
   },
   "outputs": [
    {
     "data": {
      "text/plain": [
       "{95: 96, 96: 101, 101: 102, 102: 105}"
      ]
     },
     "execution_count": 10,
     "metadata": {},
     "output_type": "execute_result"
    }
   ],
   "source": [
    "c2weeks2shifted_weeks[28847241659200]"
   ]
  },
  {
   "cell_type": "code",
   "execution_count": 11,
   "id": "b12d72a0",
   "metadata": {
    "execution": {
     "iopub.execute_input": "2023-11-07T11:17:44.740891Z",
     "iopub.status.busy": "2023-11-07T11:17:44.740506Z",
     "iopub.status.idle": "2023-11-07T11:17:44.773935Z",
     "shell.execute_reply": "2023-11-07T11:17:44.772768Z"
    },
    "papermill": {
     "duration": 0.126706,
     "end_time": "2023-11-07T11:17:44.777072",
     "exception": false,
     "start_time": "2023-11-07T11:17:44.650366",
     "status": "completed"
    },
    "tags": []
   },
   "outputs": [],
   "source": [
    "candidates_last_purchase = transactions.copy()"
   ]
  },
  {
   "cell_type": "code",
   "execution_count": 12,
   "id": "ff0c6ae5",
   "metadata": {
    "execution": {
     "iopub.execute_input": "2023-11-07T11:17:44.954718Z",
     "iopub.status.busy": "2023-11-07T11:17:44.954363Z",
     "iopub.status.idle": "2023-11-07T11:17:57.896360Z",
     "shell.execute_reply": "2023-11-07T11:17:57.895003Z"
    },
    "papermill": {
     "duration": 13.036583,
     "end_time": "2023-11-07T11:17:57.899750",
     "exception": false,
     "start_time": "2023-11-07T11:17:44.863167",
     "status": "completed"
    },
    "tags": []
   },
   "outputs": [
    {
     "name": "stdout",
     "output_type": "stream",
     "text": [
      "CPU times: user 12.9 s, sys: 81.1 ms, total: 12.9 s\n",
      "Wall time: 12.9 s\n"
     ]
    }
   ],
   "source": [
    "%%time\n",
    "\n",
    "weeks = []\n",
    "for i, (c_id, week) in enumerate(zip(transactions['customer_id'], transactions['week'])):\n",
    "    weeks.append(c2weeks2shifted_weeks[c_id][week])\n",
    "    \n",
    "candidates_last_purchase.week=weeks"
   ]
  },
  {
   "cell_type": "code",
   "execution_count": 13,
   "id": "89993b73",
   "metadata": {
    "execution": {
     "iopub.execute_input": "2023-11-07T11:17:58.058357Z",
     "iopub.status.busy": "2023-11-07T11:17:58.057992Z",
     "iopub.status.idle": "2023-11-07T11:17:58.079385Z",
     "shell.execute_reply": "2023-11-07T11:17:58.078236Z"
    },
    "papermill": {
     "duration": 0.103212,
     "end_time": "2023-11-07T11:17:58.082121",
     "exception": false,
     "start_time": "2023-11-07T11:17:57.978909",
     "status": "completed"
    },
    "tags": []
   },
   "outputs": [
    {
     "data": {
      "text/html": [
       "<div>\n",
       "<style scoped>\n",
       "    .dataframe tbody tr th:only-of-type {\n",
       "        vertical-align: middle;\n",
       "    }\n",
       "\n",
       "    .dataframe tbody tr th {\n",
       "        vertical-align: top;\n",
       "    }\n",
       "\n",
       "    .dataframe thead th {\n",
       "        text-align: right;\n",
       "    }\n",
       "</style>\n",
       "<table border=\"1\" class=\"dataframe\">\n",
       "  <thead>\n",
       "    <tr style=\"text-align: right;\">\n",
       "      <th></th>\n",
       "      <th>t_dat</th>\n",
       "      <th>customer_id</th>\n",
       "      <th>article_id</th>\n",
       "      <th>price</th>\n",
       "      <th>sales_channel_id</th>\n",
       "      <th>week</th>\n",
       "    </tr>\n",
       "  </thead>\n",
       "  <tbody>\n",
       "    <tr>\n",
       "      <th>29030503</th>\n",
       "      <td>2020-07-15</td>\n",
       "      <td>272412481300040</td>\n",
       "      <td>778064028</td>\n",
       "      <td>0.008458</td>\n",
       "      <td>1</td>\n",
       "      <td>96</td>\n",
       "    </tr>\n",
       "    <tr>\n",
       "      <th>29030504</th>\n",
       "      <td>2020-07-15</td>\n",
       "      <td>272412481300040</td>\n",
       "      <td>816592008</td>\n",
       "      <td>0.016932</td>\n",
       "      <td>1</td>\n",
       "      <td>96</td>\n",
       "    </tr>\n",
       "    <tr>\n",
       "      <th>29030505</th>\n",
       "      <td>2020-07-15</td>\n",
       "      <td>272412481300040</td>\n",
       "      <td>621381021</td>\n",
       "      <td>0.033881</td>\n",
       "      <td>1</td>\n",
       "      <td>96</td>\n",
       "    </tr>\n",
       "    <tr>\n",
       "      <th>29030506</th>\n",
       "      <td>2020-07-15</td>\n",
       "      <td>272412481300040</td>\n",
       "      <td>817477003</td>\n",
       "      <td>0.025407</td>\n",
       "      <td>1</td>\n",
       "      <td>96</td>\n",
       "    </tr>\n",
       "    <tr>\n",
       "      <th>29030507</th>\n",
       "      <td>2020-07-15</td>\n",
       "      <td>272412481300040</td>\n",
       "      <td>899088002</td>\n",
       "      <td>0.025407</td>\n",
       "      <td>1</td>\n",
       "      <td>96</td>\n",
       "    </tr>\n",
       "    <tr>\n",
       "      <th>29319533</th>\n",
       "      <td>2020-07-22</td>\n",
       "      <td>272412481300040</td>\n",
       "      <td>885077001</td>\n",
       "      <td>0.008458</td>\n",
       "      <td>1</td>\n",
       "      <td>103</td>\n",
       "    </tr>\n",
       "    <tr>\n",
       "      <th>29410772</th>\n",
       "      <td>2020-07-24</td>\n",
       "      <td>272412481300040</td>\n",
       "      <td>850176003</td>\n",
       "      <td>0.029034</td>\n",
       "      <td>2</td>\n",
       "      <td>103</td>\n",
       "    </tr>\n",
       "    <tr>\n",
       "      <th>29410773</th>\n",
       "      <td>2020-07-24</td>\n",
       "      <td>272412481300040</td>\n",
       "      <td>875803001</td>\n",
       "      <td>0.064559</td>\n",
       "      <td>2</td>\n",
       "      <td>103</td>\n",
       "    </tr>\n",
       "    <tr>\n",
       "      <th>29410774</th>\n",
       "      <td>2020-07-24</td>\n",
       "      <td>272412481300040</td>\n",
       "      <td>892970003</td>\n",
       "      <td>0.020966</td>\n",
       "      <td>2</td>\n",
       "      <td>103</td>\n",
       "    </tr>\n",
       "    <tr>\n",
       "      <th>29410775</th>\n",
       "      <td>2020-07-24</td>\n",
       "      <td>272412481300040</td>\n",
       "      <td>854619003</td>\n",
       "      <td>0.020966</td>\n",
       "      <td>2</td>\n",
       "      <td>103</td>\n",
       "    </tr>\n",
       "    <tr>\n",
       "      <th>29531614</th>\n",
       "      <td>2020-07-27</td>\n",
       "      <td>272412481300040</td>\n",
       "      <td>900398001</td>\n",
       "      <td>0.030492</td>\n",
       "      <td>2</td>\n",
       "      <td>103</td>\n",
       "    </tr>\n",
       "    <tr>\n",
       "      <th>29531615</th>\n",
       "      <td>2020-07-27</td>\n",
       "      <td>272412481300040</td>\n",
       "      <td>834179002</td>\n",
       "      <td>0.025407</td>\n",
       "      <td>2</td>\n",
       "      <td>103</td>\n",
       "    </tr>\n",
       "    <tr>\n",
       "      <th>29531616</th>\n",
       "      <td>2020-07-27</td>\n",
       "      <td>272412481300040</td>\n",
       "      <td>875803001</td>\n",
       "      <td>0.067780</td>\n",
       "      <td>2</td>\n",
       "      <td>103</td>\n",
       "    </tr>\n",
       "    <tr>\n",
       "      <th>31495014</th>\n",
       "      <td>2020-09-14</td>\n",
       "      <td>272412481300040</td>\n",
       "      <td>923460002</td>\n",
       "      <td>0.039932</td>\n",
       "      <td>2</td>\n",
       "      <td>105</td>\n",
       "    </tr>\n",
       "    <tr>\n",
       "      <th>31495015</th>\n",
       "      <td>2020-09-14</td>\n",
       "      <td>272412481300040</td>\n",
       "      <td>922381001</td>\n",
       "      <td>0.039932</td>\n",
       "      <td>2</td>\n",
       "      <td>105</td>\n",
       "    </tr>\n",
       "    <tr>\n",
       "      <th>31495016</th>\n",
       "      <td>2020-09-14</td>\n",
       "      <td>272412481300040</td>\n",
       "      <td>921906005</td>\n",
       "      <td>0.031949</td>\n",
       "      <td>2</td>\n",
       "      <td>105</td>\n",
       "    </tr>\n",
       "  </tbody>\n",
       "</table>\n",
       "</div>"
      ],
      "text/plain": [
       "              t_dat      customer_id  article_id     price  sales_channel_id  \\\n",
       "29030503 2020-07-15  272412481300040   778064028  0.008458                 1   \n",
       "29030504 2020-07-15  272412481300040   816592008  0.016932                 1   \n",
       "29030505 2020-07-15  272412481300040   621381021  0.033881                 1   \n",
       "29030506 2020-07-15  272412481300040   817477003  0.025407                 1   \n",
       "29030507 2020-07-15  272412481300040   899088002  0.025407                 1   \n",
       "29319533 2020-07-22  272412481300040   885077001  0.008458                 1   \n",
       "29410772 2020-07-24  272412481300040   850176003  0.029034                 2   \n",
       "29410773 2020-07-24  272412481300040   875803001  0.064559                 2   \n",
       "29410774 2020-07-24  272412481300040   892970003  0.020966                 2   \n",
       "29410775 2020-07-24  272412481300040   854619003  0.020966                 2   \n",
       "29531614 2020-07-27  272412481300040   900398001  0.030492                 2   \n",
       "29531615 2020-07-27  272412481300040   834179002  0.025407                 2   \n",
       "29531616 2020-07-27  272412481300040   875803001  0.067780                 2   \n",
       "31495014 2020-09-14  272412481300040   923460002  0.039932                 2   \n",
       "31495015 2020-09-14  272412481300040   922381001  0.039932                 2   \n",
       "31495016 2020-09-14  272412481300040   921906005  0.031949                 2   \n",
       "\n",
       "          week  \n",
       "29030503    96  \n",
       "29030504    96  \n",
       "29030505    96  \n",
       "29030506    96  \n",
       "29030507    96  \n",
       "29319533   103  \n",
       "29410772   103  \n",
       "29410773   103  \n",
       "29410774   103  \n",
       "29410775   103  \n",
       "29531614   103  \n",
       "29531615   103  \n",
       "29531616   103  \n",
       "31495014   105  \n",
       "31495015   105  \n",
       "31495016   105  "
      ]
     },
     "execution_count": 13,
     "metadata": {},
     "output_type": "execute_result"
    }
   ],
   "source": [
    "candidates_last_purchase[candidates_last_purchase['customer_id']==272412481300040]"
   ]
  },
  {
   "cell_type": "code",
   "execution_count": 14,
   "id": "7666cd81",
   "metadata": {
    "execution": {
     "iopub.execute_input": "2023-11-07T11:17:58.243708Z",
     "iopub.status.busy": "2023-11-07T11:17:58.243366Z",
     "iopub.status.idle": "2023-11-07T11:17:58.266206Z",
     "shell.execute_reply": "2023-11-07T11:17:58.265227Z"
    },
    "papermill": {
     "duration": 0.10526,
     "end_time": "2023-11-07T11:17:58.268972",
     "exception": false,
     "start_time": "2023-11-07T11:17:58.163712",
     "status": "completed"
    },
    "tags": []
   },
   "outputs": [
    {
     "data": {
      "text/html": [
       "<div>\n",
       "<style scoped>\n",
       "    .dataframe tbody tr th:only-of-type {\n",
       "        vertical-align: middle;\n",
       "    }\n",
       "\n",
       "    .dataframe tbody tr th {\n",
       "        vertical-align: top;\n",
       "    }\n",
       "\n",
       "    .dataframe thead th {\n",
       "        text-align: right;\n",
       "    }\n",
       "</style>\n",
       "<table border=\"1\" class=\"dataframe\">\n",
       "  <thead>\n",
       "    <tr style=\"text-align: right;\">\n",
       "      <th></th>\n",
       "      <th>t_dat</th>\n",
       "      <th>customer_id</th>\n",
       "      <th>article_id</th>\n",
       "      <th>price</th>\n",
       "      <th>sales_channel_id</th>\n",
       "      <th>week</th>\n",
       "    </tr>\n",
       "  </thead>\n",
       "  <tbody>\n",
       "    <tr>\n",
       "      <th>29030503</th>\n",
       "      <td>2020-07-15</td>\n",
       "      <td>272412481300040</td>\n",
       "      <td>778064028</td>\n",
       "      <td>0.008458</td>\n",
       "      <td>1</td>\n",
       "      <td>95</td>\n",
       "    </tr>\n",
       "    <tr>\n",
       "      <th>29030504</th>\n",
       "      <td>2020-07-15</td>\n",
       "      <td>272412481300040</td>\n",
       "      <td>816592008</td>\n",
       "      <td>0.016932</td>\n",
       "      <td>1</td>\n",
       "      <td>95</td>\n",
       "    </tr>\n",
       "    <tr>\n",
       "      <th>29030505</th>\n",
       "      <td>2020-07-15</td>\n",
       "      <td>272412481300040</td>\n",
       "      <td>621381021</td>\n",
       "      <td>0.033881</td>\n",
       "      <td>1</td>\n",
       "      <td>95</td>\n",
       "    </tr>\n",
       "    <tr>\n",
       "      <th>29030506</th>\n",
       "      <td>2020-07-15</td>\n",
       "      <td>272412481300040</td>\n",
       "      <td>817477003</td>\n",
       "      <td>0.025407</td>\n",
       "      <td>1</td>\n",
       "      <td>95</td>\n",
       "    </tr>\n",
       "    <tr>\n",
       "      <th>29030507</th>\n",
       "      <td>2020-07-15</td>\n",
       "      <td>272412481300040</td>\n",
       "      <td>899088002</td>\n",
       "      <td>0.025407</td>\n",
       "      <td>1</td>\n",
       "      <td>95</td>\n",
       "    </tr>\n",
       "    <tr>\n",
       "      <th>29319533</th>\n",
       "      <td>2020-07-22</td>\n",
       "      <td>272412481300040</td>\n",
       "      <td>885077001</td>\n",
       "      <td>0.008458</td>\n",
       "      <td>1</td>\n",
       "      <td>96</td>\n",
       "    </tr>\n",
       "    <tr>\n",
       "      <th>29410772</th>\n",
       "      <td>2020-07-24</td>\n",
       "      <td>272412481300040</td>\n",
       "      <td>850176003</td>\n",
       "      <td>0.029034</td>\n",
       "      <td>2</td>\n",
       "      <td>96</td>\n",
       "    </tr>\n",
       "    <tr>\n",
       "      <th>29410773</th>\n",
       "      <td>2020-07-24</td>\n",
       "      <td>272412481300040</td>\n",
       "      <td>875803001</td>\n",
       "      <td>0.064559</td>\n",
       "      <td>2</td>\n",
       "      <td>96</td>\n",
       "    </tr>\n",
       "    <tr>\n",
       "      <th>29410774</th>\n",
       "      <td>2020-07-24</td>\n",
       "      <td>272412481300040</td>\n",
       "      <td>892970003</td>\n",
       "      <td>0.020966</td>\n",
       "      <td>2</td>\n",
       "      <td>96</td>\n",
       "    </tr>\n",
       "    <tr>\n",
       "      <th>29410775</th>\n",
       "      <td>2020-07-24</td>\n",
       "      <td>272412481300040</td>\n",
       "      <td>854619003</td>\n",
       "      <td>0.020966</td>\n",
       "      <td>2</td>\n",
       "      <td>96</td>\n",
       "    </tr>\n",
       "    <tr>\n",
       "      <th>29531614</th>\n",
       "      <td>2020-07-27</td>\n",
       "      <td>272412481300040</td>\n",
       "      <td>900398001</td>\n",
       "      <td>0.030492</td>\n",
       "      <td>2</td>\n",
       "      <td>96</td>\n",
       "    </tr>\n",
       "    <tr>\n",
       "      <th>29531615</th>\n",
       "      <td>2020-07-27</td>\n",
       "      <td>272412481300040</td>\n",
       "      <td>834179002</td>\n",
       "      <td>0.025407</td>\n",
       "      <td>2</td>\n",
       "      <td>96</td>\n",
       "    </tr>\n",
       "    <tr>\n",
       "      <th>29531616</th>\n",
       "      <td>2020-07-27</td>\n",
       "      <td>272412481300040</td>\n",
       "      <td>875803001</td>\n",
       "      <td>0.067780</td>\n",
       "      <td>2</td>\n",
       "      <td>96</td>\n",
       "    </tr>\n",
       "    <tr>\n",
       "      <th>31495014</th>\n",
       "      <td>2020-09-14</td>\n",
       "      <td>272412481300040</td>\n",
       "      <td>923460002</td>\n",
       "      <td>0.039932</td>\n",
       "      <td>2</td>\n",
       "      <td>103</td>\n",
       "    </tr>\n",
       "    <tr>\n",
       "      <th>31495015</th>\n",
       "      <td>2020-09-14</td>\n",
       "      <td>272412481300040</td>\n",
       "      <td>922381001</td>\n",
       "      <td>0.039932</td>\n",
       "      <td>2</td>\n",
       "      <td>103</td>\n",
       "    </tr>\n",
       "    <tr>\n",
       "      <th>31495016</th>\n",
       "      <td>2020-09-14</td>\n",
       "      <td>272412481300040</td>\n",
       "      <td>921906005</td>\n",
       "      <td>0.031949</td>\n",
       "      <td>2</td>\n",
       "      <td>103</td>\n",
       "    </tr>\n",
       "  </tbody>\n",
       "</table>\n",
       "</div>"
      ],
      "text/plain": [
       "              t_dat      customer_id  article_id     price  sales_channel_id  \\\n",
       "29030503 2020-07-15  272412481300040   778064028  0.008458                 1   \n",
       "29030504 2020-07-15  272412481300040   816592008  0.016932                 1   \n",
       "29030505 2020-07-15  272412481300040   621381021  0.033881                 1   \n",
       "29030506 2020-07-15  272412481300040   817477003  0.025407                 1   \n",
       "29030507 2020-07-15  272412481300040   899088002  0.025407                 1   \n",
       "29319533 2020-07-22  272412481300040   885077001  0.008458                 1   \n",
       "29410772 2020-07-24  272412481300040   850176003  0.029034                 2   \n",
       "29410773 2020-07-24  272412481300040   875803001  0.064559                 2   \n",
       "29410774 2020-07-24  272412481300040   892970003  0.020966                 2   \n",
       "29410775 2020-07-24  272412481300040   854619003  0.020966                 2   \n",
       "29531614 2020-07-27  272412481300040   900398001  0.030492                 2   \n",
       "29531615 2020-07-27  272412481300040   834179002  0.025407                 2   \n",
       "29531616 2020-07-27  272412481300040   875803001  0.067780                 2   \n",
       "31495014 2020-09-14  272412481300040   923460002  0.039932                 2   \n",
       "31495015 2020-09-14  272412481300040   922381001  0.039932                 2   \n",
       "31495016 2020-09-14  272412481300040   921906005  0.031949                 2   \n",
       "\n",
       "          week  \n",
       "29030503    95  \n",
       "29030504    95  \n",
       "29030505    95  \n",
       "29030506    95  \n",
       "29030507    95  \n",
       "29319533    96  \n",
       "29410772    96  \n",
       "29410773    96  \n",
       "29410774    96  \n",
       "29410775    96  \n",
       "29531614    96  \n",
       "29531615    96  \n",
       "29531616    96  \n",
       "31495014   103  \n",
       "31495015   103  \n",
       "31495016   103  "
      ]
     },
     "execution_count": 14,
     "metadata": {},
     "output_type": "execute_result"
    }
   ],
   "source": [
    "transactions[transactions['customer_id']==272412481300040]"
   ]
  },
  {
   "cell_type": "markdown",
   "id": "75223142",
   "metadata": {
    "papermill": {
     "duration": 0.077174,
     "end_time": "2023-11-07T11:17:58.425908",
     "exception": false,
     "start_time": "2023-11-07T11:17:58.348734",
     "status": "completed"
    },
    "tags": []
   },
   "source": [
    "### Bestsellers candidates"
   ]
  },
  {
   "cell_type": "code",
   "execution_count": 15,
   "id": "528fee6f",
   "metadata": {
    "execution": {
     "iopub.execute_input": "2023-11-07T11:17:58.586195Z",
     "iopub.status.busy": "2023-11-07T11:17:58.585814Z",
     "iopub.status.idle": "2023-11-07T11:17:58.867436Z",
     "shell.execute_reply": "2023-11-07T11:17:58.866323Z"
    },
    "papermill": {
     "duration": 0.363895,
     "end_time": "2023-11-07T11:17:58.870451",
     "exception": false,
     "start_time": "2023-11-07T11:17:58.506556",
     "status": "completed"
    },
    "tags": []
   },
   "outputs": [],
   "source": [
    "mean_price = transactions \\\n",
    "    .groupby(['week', 'article_id'])['price'].mean()"
   ]
  },
  {
   "cell_type": "code",
   "execution_count": 16,
   "id": "e20f018f",
   "metadata": {
    "execution": {
     "iopub.execute_input": "2023-11-07T11:17:59.051276Z",
     "iopub.status.busy": "2023-11-07T11:17:59.050968Z",
     "iopub.status.idle": "2023-11-07T11:17:59.112317Z",
     "shell.execute_reply": "2023-11-07T11:17:59.111428Z"
    },
    "papermill": {
     "duration": 0.156647,
     "end_time": "2023-11-07T11:17:59.115617",
     "exception": false,
     "start_time": "2023-11-07T11:17:58.958970",
     "status": "completed"
    },
    "tags": []
   },
   "outputs": [
    {
     "data": {
      "text/plain": [
       "week  article_id\n",
       "95    108775015     0.004729\n",
       "      108775044     0.008458\n",
       "      110065001     0.006085\n",
       "      110065002     0.006085\n",
       "      111565001     0.004288\n",
       "                      ...   \n",
       "104   952267001     0.013732\n",
       "      952938001     0.048651\n",
       "      953450001     0.016932\n",
       "      953763001     0.021885\n",
       "      956217002     0.059068\n",
       "Name: price, Length: 196880, dtype: float32"
      ]
     },
     "execution_count": 16,
     "metadata": {},
     "output_type": "execute_result"
    }
   ],
   "source": [
    "mean_price"
   ]
  },
  {
   "cell_type": "code",
   "execution_count": 17,
   "id": "a06a7a42",
   "metadata": {
    "execution": {
     "iopub.execute_input": "2023-11-07T11:17:59.293576Z",
     "iopub.status.busy": "2023-11-07T11:17:59.293193Z",
     "iopub.status.idle": "2023-11-07T11:18:00.201676Z",
     "shell.execute_reply": "2023-11-07T11:18:00.200352Z"
    },
    "papermill": {
     "duration": 0.999887,
     "end_time": "2023-11-07T11:18:00.204908",
     "exception": false,
     "start_time": "2023-11-07T11:17:59.205021",
     "status": "completed"
    },
    "tags": []
   },
   "outputs": [],
   "source": [
    "sales = transactions \\\n",
    "    .groupby('week')['article_id'].value_counts() \\\n",
    "    .groupby('week').rank(method='dense', ascending=False) \\\n",
    "    .groupby('week').head(12).rename('bestseller_rank').astype('int8')"
   ]
  },
  {
   "cell_type": "code",
   "execution_count": 18,
   "id": "b0f56b47",
   "metadata": {
    "execution": {
     "iopub.execute_input": "2023-11-07T11:18:00.400783Z",
     "iopub.status.busy": "2023-11-07T11:18:00.400449Z",
     "iopub.status.idle": "2023-11-07T11:18:00.413596Z",
     "shell.execute_reply": "2023-11-07T11:18:00.412378Z"
    },
    "papermill": {
     "duration": 0.110919,
     "end_time": "2023-11-07T11:18:00.416665",
     "exception": false,
     "start_time": "2023-11-07T11:18:00.305746",
     "status": "completed"
    },
    "tags": []
   },
   "outputs": [
    {
     "data": {
      "text/plain": [
       "week  article_id\n",
       "95    760084003      1\n",
       "      866731001      2\n",
       "      600886001      3\n",
       "      706016001      4\n",
       "      372860002      5\n",
       "                    ..\n",
       "104   915529003      8\n",
       "      915529005      9\n",
       "      448509014     10\n",
       "      762846027     11\n",
       "      714790020     12\n",
       "Name: bestseller_rank, Length: 120, dtype: int8"
      ]
     },
     "execution_count": 18,
     "metadata": {},
     "output_type": "execute_result"
    }
   ],
   "source": [
    "sales"
   ]
  },
  {
   "cell_type": "code",
   "execution_count": 19,
   "id": "36b9af3a",
   "metadata": {
    "execution": {
     "iopub.execute_input": "2023-11-07T11:18:00.603408Z",
     "iopub.status.busy": "2023-11-07T11:18:00.603009Z",
     "iopub.status.idle": "2023-11-07T11:18:00.614423Z",
     "shell.execute_reply": "2023-11-07T11:18:00.613384Z"
    },
    "papermill": {
     "duration": 0.107312,
     "end_time": "2023-11-07T11:18:00.617200",
     "exception": false,
     "start_time": "2023-11-07T11:18:00.509888",
     "status": "completed"
    },
    "tags": []
   },
   "outputs": [
    {
     "data": {
      "text/plain": [
       "article_id\n",
       "760084003     1\n",
       "866731001     2\n",
       "600886001     3\n",
       "706016001     4\n",
       "372860002     5\n",
       "610776002     6\n",
       "877278002     7\n",
       "547780003     8\n",
       "817354001     9\n",
       "827968001    10\n",
       "866731003    11\n",
       "866383006    12\n",
       "Name: bestseller_rank, dtype: int8"
      ]
     },
     "execution_count": 19,
     "metadata": {},
     "output_type": "execute_result"
    }
   ],
   "source": [
    "sales.loc[95]"
   ]
  },
  {
   "cell_type": "code",
   "execution_count": 20,
   "id": "c2522803",
   "metadata": {
    "execution": {
     "iopub.execute_input": "2023-11-07T11:18:00.791943Z",
     "iopub.status.busy": "2023-11-07T11:18:00.791551Z",
     "iopub.status.idle": "2023-11-07T11:18:00.852828Z",
     "shell.execute_reply": "2023-11-07T11:18:00.851582Z"
    },
    "papermill": {
     "duration": 0.152223,
     "end_time": "2023-11-07T11:18:00.856077",
     "exception": false,
     "start_time": "2023-11-07T11:18:00.703854",
     "status": "completed"
    },
    "tags": []
   },
   "outputs": [],
   "source": [
    "bestsellers_previous_week = pd.merge(sales, mean_price, on=['week', 'article_id']).reset_index()\n",
    "bestsellers_previous_week.week += 1"
   ]
  },
  {
   "cell_type": "code",
   "execution_count": 21,
   "id": "b0101153",
   "metadata": {
    "execution": {
     "iopub.execute_input": "2023-11-07T11:18:01.016776Z",
     "iopub.status.busy": "2023-11-07T11:18:01.016387Z",
     "iopub.status.idle": "2023-11-07T11:18:01.033264Z",
     "shell.execute_reply": "2023-11-07T11:18:01.032526Z"
    },
    "papermill": {
     "duration": 0.099269,
     "end_time": "2023-11-07T11:18:01.035270",
     "exception": false,
     "start_time": "2023-11-07T11:18:00.936001",
     "status": "completed"
    },
    "tags": []
   },
   "outputs": [
    {
     "data": {
      "text/html": [
       "<div>\n",
       "<style scoped>\n",
       "    .dataframe tbody tr th:only-of-type {\n",
       "        vertical-align: middle;\n",
       "    }\n",
       "\n",
       "    .dataframe tbody tr th {\n",
       "        vertical-align: top;\n",
       "    }\n",
       "\n",
       "    .dataframe thead th {\n",
       "        text-align: right;\n",
       "    }\n",
       "</style>\n",
       "<table border=\"1\" class=\"dataframe\">\n",
       "  <thead>\n",
       "    <tr style=\"text-align: right;\">\n",
       "      <th></th>\n",
       "      <th>week</th>\n",
       "      <th>article_id</th>\n",
       "      <th>bestseller_rank</th>\n",
       "      <th>price</th>\n",
       "    </tr>\n",
       "  </thead>\n",
       "  <tbody>\n",
       "    <tr>\n",
       "      <th>0</th>\n",
       "      <td>96</td>\n",
       "      <td>760084003</td>\n",
       "      <td>1</td>\n",
       "      <td>0.025094</td>\n",
       "    </tr>\n",
       "    <tr>\n",
       "      <th>1</th>\n",
       "      <td>96</td>\n",
       "      <td>866731001</td>\n",
       "      <td>2</td>\n",
       "      <td>0.024919</td>\n",
       "    </tr>\n",
       "    <tr>\n",
       "      <th>2</th>\n",
       "      <td>96</td>\n",
       "      <td>600886001</td>\n",
       "      <td>3</td>\n",
       "      <td>0.022980</td>\n",
       "    </tr>\n",
       "    <tr>\n",
       "      <th>3</th>\n",
       "      <td>96</td>\n",
       "      <td>706016001</td>\n",
       "      <td>4</td>\n",
       "      <td>0.033197</td>\n",
       "    </tr>\n",
       "    <tr>\n",
       "      <th>4</th>\n",
       "      <td>96</td>\n",
       "      <td>372860002</td>\n",
       "      <td>5</td>\n",
       "      <td>0.013193</td>\n",
       "    </tr>\n",
       "    <tr>\n",
       "      <th>5</th>\n",
       "      <td>96</td>\n",
       "      <td>610776002</td>\n",
       "      <td>6</td>\n",
       "      <td>0.008318</td>\n",
       "    </tr>\n",
       "    <tr>\n",
       "      <th>6</th>\n",
       "      <td>96</td>\n",
       "      <td>877278002</td>\n",
       "      <td>7</td>\n",
       "      <td>0.025036</td>\n",
       "    </tr>\n",
       "    <tr>\n",
       "      <th>7</th>\n",
       "      <td>96</td>\n",
       "      <td>547780003</td>\n",
       "      <td>8</td>\n",
       "      <td>0.024814</td>\n",
       "    </tr>\n",
       "    <tr>\n",
       "      <th>8</th>\n",
       "      <td>96</td>\n",
       "      <td>817354001</td>\n",
       "      <td>9</td>\n",
       "      <td>0.021913</td>\n",
       "    </tr>\n",
       "    <tr>\n",
       "      <th>9</th>\n",
       "      <td>96</td>\n",
       "      <td>827968001</td>\n",
       "      <td>10</td>\n",
       "      <td>0.016436</td>\n",
       "    </tr>\n",
       "    <tr>\n",
       "      <th>10</th>\n",
       "      <td>96</td>\n",
       "      <td>866731003</td>\n",
       "      <td>11</td>\n",
       "      <td>0.024893</td>\n",
       "    </tr>\n",
       "    <tr>\n",
       "      <th>11</th>\n",
       "      <td>96</td>\n",
       "      <td>866383006</td>\n",
       "      <td>12</td>\n",
       "      <td>0.023195</td>\n",
       "    </tr>\n",
       "  </tbody>\n",
       "</table>\n",
       "</div>"
      ],
      "text/plain": [
       "    week  article_id  bestseller_rank     price\n",
       "0     96   760084003                1  0.025094\n",
       "1     96   866731001                2  0.024919\n",
       "2     96   600886001                3  0.022980\n",
       "3     96   706016001                4  0.033197\n",
       "4     96   372860002                5  0.013193\n",
       "5     96   610776002                6  0.008318\n",
       "6     96   877278002                7  0.025036\n",
       "7     96   547780003                8  0.024814\n",
       "8     96   817354001                9  0.021913\n",
       "9     96   827968001               10  0.016436\n",
       "10    96   866731003               11  0.024893\n",
       "11    96   866383006               12  0.023195"
      ]
     },
     "execution_count": 21,
     "metadata": {},
     "output_type": "execute_result"
    }
   ],
   "source": [
    "bestsellers_previous_week.pipe(lambda df: df[df['week']==96])"
   ]
  },
  {
   "cell_type": "code",
   "execution_count": 22,
   "id": "ef9ce815",
   "metadata": {
    "execution": {
     "iopub.execute_input": "2023-11-07T11:18:01.194541Z",
     "iopub.status.busy": "2023-11-07T11:18:01.194155Z",
     "iopub.status.idle": "2023-11-07T11:18:01.957170Z",
     "shell.execute_reply": "2023-11-07T11:18:01.955865Z"
    },
    "papermill": {
     "duration": 0.84664,
     "end_time": "2023-11-07T11:18:01.960086",
     "exception": false,
     "start_time": "2023-11-07T11:18:01.113446",
     "status": "completed"
    },
    "tags": []
   },
   "outputs": [],
   "source": [
    "unique_transactions = transactions \\\n",
    "    .groupby(['week', 'customer_id']) \\\n",
    "    .head(1) \\\n",
    "    .drop(columns=['article_id', 'price']) \\\n",
    "    .copy()"
   ]
  },
  {
   "cell_type": "code",
   "execution_count": 23,
   "id": "e302acbf",
   "metadata": {
    "execution": {
     "iopub.execute_input": "2023-11-07T11:18:02.122660Z",
     "iopub.status.busy": "2023-11-07T11:18:02.122045Z",
     "iopub.status.idle": "2023-11-07T11:18:02.139331Z",
     "shell.execute_reply": "2023-11-07T11:18:02.137989Z"
    },
    "papermill": {
     "duration": 0.100155,
     "end_time": "2023-11-07T11:18:02.141999",
     "exception": false,
     "start_time": "2023-11-07T11:18:02.041844",
     "status": "completed"
    },
    "tags": []
   },
   "outputs": [
    {
     "data": {
      "text/html": [
       "<div>\n",
       "<style scoped>\n",
       "    .dataframe tbody tr th:only-of-type {\n",
       "        vertical-align: middle;\n",
       "    }\n",
       "\n",
       "    .dataframe tbody tr th {\n",
       "        vertical-align: top;\n",
       "    }\n",
       "\n",
       "    .dataframe thead th {\n",
       "        text-align: right;\n",
       "    }\n",
       "</style>\n",
       "<table border=\"1\" class=\"dataframe\">\n",
       "  <thead>\n",
       "    <tr style=\"text-align: right;\">\n",
       "      <th></th>\n",
       "      <th>t_dat</th>\n",
       "      <th>customer_id</th>\n",
       "      <th>sales_channel_id</th>\n",
       "      <th>week</th>\n",
       "    </tr>\n",
       "  </thead>\n",
       "  <tbody>\n",
       "    <tr>\n",
       "      <th>29030503</th>\n",
       "      <td>2020-07-15</td>\n",
       "      <td>272412481300040</td>\n",
       "      <td>1</td>\n",
       "      <td>95</td>\n",
       "    </tr>\n",
       "    <tr>\n",
       "      <th>29064059</th>\n",
       "      <td>2020-07-15</td>\n",
       "      <td>1456826891333599</td>\n",
       "      <td>1</td>\n",
       "      <td>95</td>\n",
       "    </tr>\n",
       "    <tr>\n",
       "      <th>29067103</th>\n",
       "      <td>2020-07-15</td>\n",
       "      <td>2133687643102426</td>\n",
       "      <td>2</td>\n",
       "      <td>95</td>\n",
       "    </tr>\n",
       "    <tr>\n",
       "      <th>29027487</th>\n",
       "      <td>2020-07-15</td>\n",
       "      <td>6010692573790711</td>\n",
       "      <td>1</td>\n",
       "      <td>95</td>\n",
       "    </tr>\n",
       "    <tr>\n",
       "      <th>29046403</th>\n",
       "      <td>2020-07-15</td>\n",
       "      <td>6171059100114610</td>\n",
       "      <td>2</td>\n",
       "      <td>95</td>\n",
       "    </tr>\n",
       "    <tr>\n",
       "      <th>...</th>\n",
       "      <td>...</td>\n",
       "      <td>...</td>\n",
       "      <td>...</td>\n",
       "      <td>...</td>\n",
       "    </tr>\n",
       "    <tr>\n",
       "      <th>31760188</th>\n",
       "      <td>2020-09-22</td>\n",
       "      <td>18435221511488011015</td>\n",
       "      <td>1</td>\n",
       "      <td>104</td>\n",
       "    </tr>\n",
       "    <tr>\n",
       "      <th>31782234</th>\n",
       "      <td>2020-09-22</td>\n",
       "      <td>18436859303155335645</td>\n",
       "      <td>1</td>\n",
       "      <td>104</td>\n",
       "    </tr>\n",
       "    <tr>\n",
       "      <th>31787251</th>\n",
       "      <td>2020-09-22</td>\n",
       "      <td>18437941771381362708</td>\n",
       "      <td>2</td>\n",
       "      <td>104</td>\n",
       "    </tr>\n",
       "    <tr>\n",
       "      <th>31776022</th>\n",
       "      <td>2020-09-22</td>\n",
       "      <td>18438270306572912089</td>\n",
       "      <td>1</td>\n",
       "      <td>104</td>\n",
       "    </tr>\n",
       "    <tr>\n",
       "      <th>31779097</th>\n",
       "      <td>2020-09-22</td>\n",
       "      <td>18440902715633436014</td>\n",
       "      <td>1</td>\n",
       "      <td>104</td>\n",
       "    </tr>\n",
       "  </tbody>\n",
       "</table>\n",
       "<p>755710 rows × 4 columns</p>\n",
       "</div>"
      ],
      "text/plain": [
       "              t_dat           customer_id  sales_channel_id  week\n",
       "29030503 2020-07-15       272412481300040                 1    95\n",
       "29064059 2020-07-15      1456826891333599                 1    95\n",
       "29067103 2020-07-15      2133687643102426                 2    95\n",
       "29027487 2020-07-15      6010692573790711                 1    95\n",
       "29046403 2020-07-15      6171059100114610                 2    95\n",
       "...             ...                   ...               ...   ...\n",
       "31760188 2020-09-22  18435221511488011015                 1   104\n",
       "31782234 2020-09-22  18436859303155335645                 1   104\n",
       "31787251 2020-09-22  18437941771381362708                 2   104\n",
       "31776022 2020-09-22  18438270306572912089                 1   104\n",
       "31779097 2020-09-22  18440902715633436014                 1   104\n",
       "\n",
       "[755710 rows x 4 columns]"
      ]
     },
     "execution_count": 23,
     "metadata": {},
     "output_type": "execute_result"
    }
   ],
   "source": [
    "unique_transactions"
   ]
  },
  {
   "cell_type": "code",
   "execution_count": 24,
   "id": "270c3a47",
   "metadata": {
    "execution": {
     "iopub.execute_input": "2023-11-07T11:18:02.303610Z",
     "iopub.status.busy": "2023-11-07T11:18:02.303213Z",
     "iopub.status.idle": "2023-11-07T11:18:02.583084Z",
     "shell.execute_reply": "2023-11-07T11:18:02.582130Z"
    },
    "papermill": {
     "duration": 0.364437,
     "end_time": "2023-11-07T11:18:02.585700",
     "exception": false,
     "start_time": "2023-11-07T11:18:02.221263",
     "status": "completed"
    },
    "tags": []
   },
   "outputs": [
    {
     "data": {
      "text/html": [
       "<div>\n",
       "<style scoped>\n",
       "    .dataframe tbody tr th:only-of-type {\n",
       "        vertical-align: middle;\n",
       "    }\n",
       "\n",
       "    .dataframe tbody tr th {\n",
       "        vertical-align: top;\n",
       "    }\n",
       "\n",
       "    .dataframe thead th {\n",
       "        text-align: right;\n",
       "    }\n",
       "</style>\n",
       "<table border=\"1\" class=\"dataframe\">\n",
       "  <thead>\n",
       "    <tr style=\"text-align: right;\">\n",
       "      <th></th>\n",
       "      <th>t_dat</th>\n",
       "      <th>customer_id</th>\n",
       "      <th>article_id</th>\n",
       "      <th>price</th>\n",
       "      <th>sales_channel_id</th>\n",
       "      <th>week</th>\n",
       "    </tr>\n",
       "  </thead>\n",
       "  <tbody>\n",
       "    <tr>\n",
       "      <th>29030503</th>\n",
       "      <td>2020-07-15</td>\n",
       "      <td>272412481300040</td>\n",
       "      <td>778064028</td>\n",
       "      <td>0.008458</td>\n",
       "      <td>1</td>\n",
       "      <td>95</td>\n",
       "    </tr>\n",
       "    <tr>\n",
       "      <th>29064059</th>\n",
       "      <td>2020-07-15</td>\n",
       "      <td>1456826891333599</td>\n",
       "      <td>888294001</td>\n",
       "      <td>0.013542</td>\n",
       "      <td>1</td>\n",
       "      <td>95</td>\n",
       "    </tr>\n",
       "    <tr>\n",
       "      <th>29067103</th>\n",
       "      <td>2020-07-15</td>\n",
       "      <td>2133687643102426</td>\n",
       "      <td>843642001</td>\n",
       "      <td>0.042356</td>\n",
       "      <td>2</td>\n",
       "      <td>95</td>\n",
       "    </tr>\n",
       "    <tr>\n",
       "      <th>29027487</th>\n",
       "      <td>2020-07-15</td>\n",
       "      <td>6010692573790711</td>\n",
       "      <td>857812010</td>\n",
       "      <td>0.039661</td>\n",
       "      <td>1</td>\n",
       "      <td>95</td>\n",
       "    </tr>\n",
       "    <tr>\n",
       "      <th>29046403</th>\n",
       "      <td>2020-07-15</td>\n",
       "      <td>6171059100114610</td>\n",
       "      <td>815447007</td>\n",
       "      <td>0.006763</td>\n",
       "      <td>2</td>\n",
       "      <td>95</td>\n",
       "    </tr>\n",
       "    <tr>\n",
       "      <th>...</th>\n",
       "      <td>...</td>\n",
       "      <td>...</td>\n",
       "      <td>...</td>\n",
       "      <td>...</td>\n",
       "      <td>...</td>\n",
       "      <td>...</td>\n",
       "    </tr>\n",
       "    <tr>\n",
       "      <th>31760188</th>\n",
       "      <td>2020-09-22</td>\n",
       "      <td>18435221511488011015</td>\n",
       "      <td>573085055</td>\n",
       "      <td>0.033881</td>\n",
       "      <td>1</td>\n",
       "      <td>104</td>\n",
       "    </tr>\n",
       "    <tr>\n",
       "      <th>31782234</th>\n",
       "      <td>2020-09-22</td>\n",
       "      <td>18436859303155335645</td>\n",
       "      <td>801447001</td>\n",
       "      <td>0.030492</td>\n",
       "      <td>1</td>\n",
       "      <td>104</td>\n",
       "    </tr>\n",
       "    <tr>\n",
       "      <th>31787251</th>\n",
       "      <td>2020-09-22</td>\n",
       "      <td>18437941771381362708</td>\n",
       "      <td>907188001</td>\n",
       "      <td>0.050831</td>\n",
       "      <td>2</td>\n",
       "      <td>104</td>\n",
       "    </tr>\n",
       "    <tr>\n",
       "      <th>31776022</th>\n",
       "      <td>2020-09-22</td>\n",
       "      <td>18438270306572912089</td>\n",
       "      <td>751471043</td>\n",
       "      <td>0.033881</td>\n",
       "      <td>1</td>\n",
       "      <td>104</td>\n",
       "    </tr>\n",
       "    <tr>\n",
       "      <th>31779097</th>\n",
       "      <td>2020-09-22</td>\n",
       "      <td>18440902715633436014</td>\n",
       "      <td>918894002</td>\n",
       "      <td>0.016932</td>\n",
       "      <td>1</td>\n",
       "      <td>104</td>\n",
       "    </tr>\n",
       "  </tbody>\n",
       "</table>\n",
       "<p>755710 rows × 6 columns</p>\n",
       "</div>"
      ],
      "text/plain": [
       "              t_dat           customer_id  article_id     price  \\\n",
       "29030503 2020-07-15       272412481300040   778064028  0.008458   \n",
       "29064059 2020-07-15      1456826891333599   888294001  0.013542   \n",
       "29067103 2020-07-15      2133687643102426   843642001  0.042356   \n",
       "29027487 2020-07-15      6010692573790711   857812010  0.039661   \n",
       "29046403 2020-07-15      6171059100114610   815447007  0.006763   \n",
       "...             ...                   ...         ...       ...   \n",
       "31760188 2020-09-22  18435221511488011015   573085055  0.033881   \n",
       "31782234 2020-09-22  18436859303155335645   801447001  0.030492   \n",
       "31787251 2020-09-22  18437941771381362708   907188001  0.050831   \n",
       "31776022 2020-09-22  18438270306572912089   751471043  0.033881   \n",
       "31779097 2020-09-22  18440902715633436014   918894002  0.016932   \n",
       "\n",
       "          sales_channel_id  week  \n",
       "29030503                 1    95  \n",
       "29064059                 1    95  \n",
       "29067103                 2    95  \n",
       "29027487                 1    95  \n",
       "29046403                 2    95  \n",
       "...                    ...   ...  \n",
       "31760188                 1   104  \n",
       "31782234                 1   104  \n",
       "31787251                 2   104  \n",
       "31776022                 1   104  \n",
       "31779097                 1   104  \n",
       "\n",
       "[755710 rows x 6 columns]"
      ]
     },
     "execution_count": 24,
     "metadata": {},
     "output_type": "execute_result"
    }
   ],
   "source": [
    "transactions.drop_duplicates(['week', 'customer_id'])"
   ]
  },
  {
   "cell_type": "code",
   "execution_count": 25,
   "id": "d8169fab",
   "metadata": {
    "execution": {
     "iopub.execute_input": "2023-11-07T11:18:02.755693Z",
     "iopub.status.busy": "2023-11-07T11:18:02.755355Z",
     "iopub.status.idle": "2023-11-07T11:18:03.427955Z",
     "shell.execute_reply": "2023-11-07T11:18:03.426743Z"
    },
    "papermill": {
     "duration": 0.760354,
     "end_time": "2023-11-07T11:18:03.430868",
     "exception": false,
     "start_time": "2023-11-07T11:18:02.670514",
     "status": "completed"
    },
    "tags": []
   },
   "outputs": [],
   "source": [
    "candidates_bestsellers = pd.merge(\n",
    "    unique_transactions,\n",
    "    bestsellers_previous_week,\n",
    "    on='week',\n",
    ")"
   ]
  },
  {
   "cell_type": "code",
   "execution_count": 26,
   "id": "841546a6",
   "metadata": {
    "execution": {
     "iopub.execute_input": "2023-11-07T11:18:03.604730Z",
     "iopub.status.busy": "2023-11-07T11:18:03.604426Z",
     "iopub.status.idle": "2023-11-07T11:18:03.698300Z",
     "shell.execute_reply": "2023-11-07T11:18:03.697212Z"
    },
    "papermill": {
     "duration": 0.183587,
     "end_time": "2023-11-07T11:18:03.701539",
     "exception": false,
     "start_time": "2023-11-07T11:18:03.517952",
     "status": "completed"
    },
    "tags": []
   },
   "outputs": [],
   "source": [
    "test_set_transactions = unique_transactions.drop_duplicates('customer_id').reset_index(drop=True)\n",
    "test_set_transactions.week = test_week"
   ]
  },
  {
   "cell_type": "code",
   "execution_count": 27,
   "id": "7e69ad20",
   "metadata": {
    "execution": {
     "iopub.execute_input": "2023-11-07T11:18:03.874973Z",
     "iopub.status.busy": "2023-11-07T11:18:03.873654Z",
     "iopub.status.idle": "2023-11-07T11:18:03.890659Z",
     "shell.execute_reply": "2023-11-07T11:18:03.889875Z"
    },
    "papermill": {
     "duration": 0.107754,
     "end_time": "2023-11-07T11:18:03.893025",
     "exception": false,
     "start_time": "2023-11-07T11:18:03.785271",
     "status": "completed"
    },
    "tags": []
   },
   "outputs": [
    {
     "data": {
      "text/html": [
       "<div>\n",
       "<style scoped>\n",
       "    .dataframe tbody tr th:only-of-type {\n",
       "        vertical-align: middle;\n",
       "    }\n",
       "\n",
       "    .dataframe tbody tr th {\n",
       "        vertical-align: top;\n",
       "    }\n",
       "\n",
       "    .dataframe thead th {\n",
       "        text-align: right;\n",
       "    }\n",
       "</style>\n",
       "<table border=\"1\" class=\"dataframe\">\n",
       "  <thead>\n",
       "    <tr style=\"text-align: right;\">\n",
       "      <th></th>\n",
       "      <th>t_dat</th>\n",
       "      <th>customer_id</th>\n",
       "      <th>sales_channel_id</th>\n",
       "      <th>week</th>\n",
       "    </tr>\n",
       "  </thead>\n",
       "  <tbody>\n",
       "    <tr>\n",
       "      <th>0</th>\n",
       "      <td>2020-07-15</td>\n",
       "      <td>272412481300040</td>\n",
       "      <td>1</td>\n",
       "      <td>105</td>\n",
       "    </tr>\n",
       "    <tr>\n",
       "      <th>1</th>\n",
       "      <td>2020-07-15</td>\n",
       "      <td>1456826891333599</td>\n",
       "      <td>1</td>\n",
       "      <td>105</td>\n",
       "    </tr>\n",
       "    <tr>\n",
       "      <th>2</th>\n",
       "      <td>2020-07-15</td>\n",
       "      <td>2133687643102426</td>\n",
       "      <td>2</td>\n",
       "      <td>105</td>\n",
       "    </tr>\n",
       "    <tr>\n",
       "      <th>3</th>\n",
       "      <td>2020-07-15</td>\n",
       "      <td>6010692573790711</td>\n",
       "      <td>1</td>\n",
       "      <td>105</td>\n",
       "    </tr>\n",
       "    <tr>\n",
       "      <th>4</th>\n",
       "      <td>2020-07-15</td>\n",
       "      <td>6171059100114610</td>\n",
       "      <td>2</td>\n",
       "      <td>105</td>\n",
       "    </tr>\n",
       "    <tr>\n",
       "      <th>...</th>\n",
       "      <td>...</td>\n",
       "      <td>...</td>\n",
       "      <td>...</td>\n",
       "      <td>...</td>\n",
       "    </tr>\n",
       "    <tr>\n",
       "      <th>437360</th>\n",
       "      <td>2020-09-22</td>\n",
       "      <td>18410229429441241008</td>\n",
       "      <td>2</td>\n",
       "      <td>105</td>\n",
       "    </tr>\n",
       "    <tr>\n",
       "      <th>437361</th>\n",
       "      <td>2020-09-22</td>\n",
       "      <td>18417769707947924979</td>\n",
       "      <td>2</td>\n",
       "      <td>105</td>\n",
       "    </tr>\n",
       "    <tr>\n",
       "      <th>437362</th>\n",
       "      <td>2020-09-22</td>\n",
       "      <td>18418054986721795659</td>\n",
       "      <td>2</td>\n",
       "      <td>105</td>\n",
       "    </tr>\n",
       "    <tr>\n",
       "      <th>437363</th>\n",
       "      <td>2020-09-22</td>\n",
       "      <td>18421175435799911749</td>\n",
       "      <td>2</td>\n",
       "      <td>105</td>\n",
       "    </tr>\n",
       "    <tr>\n",
       "      <th>437364</th>\n",
       "      <td>2020-09-22</td>\n",
       "      <td>18438270306572912089</td>\n",
       "      <td>1</td>\n",
       "      <td>105</td>\n",
       "    </tr>\n",
       "  </tbody>\n",
       "</table>\n",
       "<p>437365 rows × 4 columns</p>\n",
       "</div>"
      ],
      "text/plain": [
       "            t_dat           customer_id  sales_channel_id  week\n",
       "0      2020-07-15       272412481300040                 1   105\n",
       "1      2020-07-15      1456826891333599                 1   105\n",
       "2      2020-07-15      2133687643102426                 2   105\n",
       "3      2020-07-15      6010692573790711                 1   105\n",
       "4      2020-07-15      6171059100114610                 2   105\n",
       "...           ...                   ...               ...   ...\n",
       "437360 2020-09-22  18410229429441241008                 2   105\n",
       "437361 2020-09-22  18417769707947924979                 2   105\n",
       "437362 2020-09-22  18418054986721795659                 2   105\n",
       "437363 2020-09-22  18421175435799911749                 2   105\n",
       "437364 2020-09-22  18438270306572912089                 1   105\n",
       "\n",
       "[437365 rows x 4 columns]"
      ]
     },
     "execution_count": 27,
     "metadata": {},
     "output_type": "execute_result"
    }
   ],
   "source": [
    "test_set_transactions"
   ]
  },
  {
   "cell_type": "code",
   "execution_count": 28,
   "id": "7eb50896",
   "metadata": {
    "execution": {
     "iopub.execute_input": "2023-11-07T11:18:04.061179Z",
     "iopub.status.busy": "2023-11-07T11:18:04.059804Z",
     "iopub.status.idle": "2023-11-07T11:18:04.682819Z",
     "shell.execute_reply": "2023-11-07T11:18:04.681923Z"
    },
    "papermill": {
     "duration": 0.710656,
     "end_time": "2023-11-07T11:18:04.685933",
     "exception": false,
     "start_time": "2023-11-07T11:18:03.975277",
     "status": "completed"
    },
    "tags": []
   },
   "outputs": [],
   "source": [
    "candidates_bestsellers_test_week = pd.merge(\n",
    "    test_set_transactions,\n",
    "    bestsellers_previous_week,\n",
    "    on='week'\n",
    ")"
   ]
  },
  {
   "cell_type": "code",
   "execution_count": 29,
   "id": "11fab890",
   "metadata": {
    "execution": {
     "iopub.execute_input": "2023-11-07T11:18:04.863924Z",
     "iopub.status.busy": "2023-11-07T11:18:04.862949Z",
     "iopub.status.idle": "2023-11-07T11:18:06.116535Z",
     "shell.execute_reply": "2023-11-07T11:18:06.115465Z"
    },
    "papermill": {
     "duration": 1.346343,
     "end_time": "2023-11-07T11:18:06.119595",
     "exception": false,
     "start_time": "2023-11-07T11:18:04.773252",
     "status": "completed"
    },
    "tags": []
   },
   "outputs": [],
   "source": [
    "candidates_bestsellers = pd.concat([candidates_bestsellers, candidates_bestsellers_test_week])\n",
    "candidates_bestsellers.drop(columns='bestseller_rank', inplace=True)"
   ]
  },
  {
   "cell_type": "code",
   "execution_count": 30,
   "id": "671ed316",
   "metadata": {
    "execution": {
     "iopub.execute_input": "2023-11-07T11:18:06.290874Z",
     "iopub.status.busy": "2023-11-07T11:18:06.290537Z",
     "iopub.status.idle": "2023-11-07T11:18:06.308803Z",
     "shell.execute_reply": "2023-11-07T11:18:06.307960Z"
    },
    "papermill": {
     "duration": 0.10613,
     "end_time": "2023-11-07T11:18:06.311652",
     "exception": false,
     "start_time": "2023-11-07T11:18:06.205522",
     "status": "completed"
    },
    "tags": []
   },
   "outputs": [
    {
     "data": {
      "text/html": [
       "<div>\n",
       "<style scoped>\n",
       "    .dataframe tbody tr th:only-of-type {\n",
       "        vertical-align: middle;\n",
       "    }\n",
       "\n",
       "    .dataframe tbody tr th {\n",
       "        vertical-align: top;\n",
       "    }\n",
       "\n",
       "    .dataframe thead th {\n",
       "        text-align: right;\n",
       "    }\n",
       "</style>\n",
       "<table border=\"1\" class=\"dataframe\">\n",
       "  <thead>\n",
       "    <tr style=\"text-align: right;\">\n",
       "      <th></th>\n",
       "      <th>t_dat</th>\n",
       "      <th>customer_id</th>\n",
       "      <th>sales_channel_id</th>\n",
       "      <th>week</th>\n",
       "      <th>article_id</th>\n",
       "      <th>price</th>\n",
       "    </tr>\n",
       "  </thead>\n",
       "  <tbody>\n",
       "    <tr>\n",
       "      <th>0</th>\n",
       "      <td>2020-07-22</td>\n",
       "      <td>200292573348128</td>\n",
       "      <td>2</td>\n",
       "      <td>96</td>\n",
       "      <td>760084003</td>\n",
       "      <td>0.025094</td>\n",
       "    </tr>\n",
       "    <tr>\n",
       "      <th>1</th>\n",
       "      <td>2020-07-22</td>\n",
       "      <td>200292573348128</td>\n",
       "      <td>2</td>\n",
       "      <td>96</td>\n",
       "      <td>866731001</td>\n",
       "      <td>0.024919</td>\n",
       "    </tr>\n",
       "    <tr>\n",
       "      <th>2</th>\n",
       "      <td>2020-07-22</td>\n",
       "      <td>200292573348128</td>\n",
       "      <td>2</td>\n",
       "      <td>96</td>\n",
       "      <td>600886001</td>\n",
       "      <td>0.022980</td>\n",
       "    </tr>\n",
       "    <tr>\n",
       "      <th>3</th>\n",
       "      <td>2020-07-22</td>\n",
       "      <td>200292573348128</td>\n",
       "      <td>2</td>\n",
       "      <td>96</td>\n",
       "      <td>706016001</td>\n",
       "      <td>0.033197</td>\n",
       "    </tr>\n",
       "    <tr>\n",
       "      <th>4</th>\n",
       "      <td>2020-07-22</td>\n",
       "      <td>200292573348128</td>\n",
       "      <td>2</td>\n",
       "      <td>96</td>\n",
       "      <td>372860002</td>\n",
       "      <td>0.013193</td>\n",
       "    </tr>\n",
       "    <tr>\n",
       "      <th>...</th>\n",
       "      <td>...</td>\n",
       "      <td>...</td>\n",
       "      <td>...</td>\n",
       "      <td>...</td>\n",
       "      <td>...</td>\n",
       "      <td>...</td>\n",
       "    </tr>\n",
       "    <tr>\n",
       "      <th>5248375</th>\n",
       "      <td>2020-09-22</td>\n",
       "      <td>18438270306572912089</td>\n",
       "      <td>1</td>\n",
       "      <td>105</td>\n",
       "      <td>915529003</td>\n",
       "      <td>0.033439</td>\n",
       "    </tr>\n",
       "    <tr>\n",
       "      <th>5248376</th>\n",
       "      <td>2020-09-22</td>\n",
       "      <td>18438270306572912089</td>\n",
       "      <td>1</td>\n",
       "      <td>105</td>\n",
       "      <td>915529005</td>\n",
       "      <td>0.033417</td>\n",
       "    </tr>\n",
       "    <tr>\n",
       "      <th>5248377</th>\n",
       "      <td>2020-09-22</td>\n",
       "      <td>18438270306572912089</td>\n",
       "      <td>1</td>\n",
       "      <td>105</td>\n",
       "      <td>448509014</td>\n",
       "      <td>0.041630</td>\n",
       "    </tr>\n",
       "    <tr>\n",
       "      <th>5248378</th>\n",
       "      <td>2020-09-22</td>\n",
       "      <td>18438270306572912089</td>\n",
       "      <td>1</td>\n",
       "      <td>105</td>\n",
       "      <td>762846027</td>\n",
       "      <td>0.025005</td>\n",
       "    </tr>\n",
       "    <tr>\n",
       "      <th>5248379</th>\n",
       "      <td>2020-09-22</td>\n",
       "      <td>18438270306572912089</td>\n",
       "      <td>1</td>\n",
       "      <td>105</td>\n",
       "      <td>714790020</td>\n",
       "      <td>0.049951</td>\n",
       "    </tr>\n",
       "  </tbody>\n",
       "</table>\n",
       "<p>13389576 rows × 6 columns</p>\n",
       "</div>"
      ],
      "text/plain": [
       "             t_dat           customer_id  sales_channel_id  week  article_id  \\\n",
       "0       2020-07-22       200292573348128                 2    96   760084003   \n",
       "1       2020-07-22       200292573348128                 2    96   866731001   \n",
       "2       2020-07-22       200292573348128                 2    96   600886001   \n",
       "3       2020-07-22       200292573348128                 2    96   706016001   \n",
       "4       2020-07-22       200292573348128                 2    96   372860002   \n",
       "...            ...                   ...               ...   ...         ...   \n",
       "5248375 2020-09-22  18438270306572912089                 1   105   915529003   \n",
       "5248376 2020-09-22  18438270306572912089                 1   105   915529005   \n",
       "5248377 2020-09-22  18438270306572912089                 1   105   448509014   \n",
       "5248378 2020-09-22  18438270306572912089                 1   105   762846027   \n",
       "5248379 2020-09-22  18438270306572912089                 1   105   714790020   \n",
       "\n",
       "            price  \n",
       "0        0.025094  \n",
       "1        0.024919  \n",
       "2        0.022980  \n",
       "3        0.033197  \n",
       "4        0.013193  \n",
       "...           ...  \n",
       "5248375  0.033439  \n",
       "5248376  0.033417  \n",
       "5248377  0.041630  \n",
       "5248378  0.025005  \n",
       "5248379  0.049951  \n",
       "\n",
       "[13389576 rows x 6 columns]"
      ]
     },
     "execution_count": 30,
     "metadata": {},
     "output_type": "execute_result"
    }
   ],
   "source": [
    "candidates_bestsellers"
   ]
  },
  {
   "cell_type": "markdown",
   "id": "0d4b1df4",
   "metadata": {
    "papermill": {
     "duration": 0.08657,
     "end_time": "2023-11-07T11:18:06.481814",
     "exception": false,
     "start_time": "2023-11-07T11:18:06.395244",
     "status": "completed"
    },
    "tags": []
   },
   "source": [
    "# Combining transactions and candidates / negative examples"
   ]
  },
  {
   "cell_type": "code",
   "execution_count": 31,
   "id": "4256b23c",
   "metadata": {
    "execution": {
     "iopub.execute_input": "2023-11-07T11:18:06.657951Z",
     "iopub.status.busy": "2023-11-07T11:18:06.657492Z",
     "iopub.status.idle": "2023-11-07T11:18:06.669704Z",
     "shell.execute_reply": "2023-11-07T11:18:06.668654Z"
    },
    "papermill": {
     "duration": 0.103209,
     "end_time": "2023-11-07T11:18:06.672752",
     "exception": false,
     "start_time": "2023-11-07T11:18:06.569543",
     "status": "completed"
    },
    "tags": []
   },
   "outputs": [],
   "source": [
    "transactions['purchased'] = 1"
   ]
  },
  {
   "cell_type": "code",
   "execution_count": 32,
   "id": "1a948aa3",
   "metadata": {
    "execution": {
     "iopub.execute_input": "2023-11-07T11:18:06.848270Z",
     "iopub.status.busy": "2023-11-07T11:18:06.847933Z",
     "iopub.status.idle": "2023-11-07T11:18:07.391118Z",
     "shell.execute_reply": "2023-11-07T11:18:07.390152Z"
    },
    "papermill": {
     "duration": 0.636622,
     "end_time": "2023-11-07T11:18:07.394309",
     "exception": false,
     "start_time": "2023-11-07T11:18:06.757687",
     "status": "completed"
    },
    "tags": []
   },
   "outputs": [],
   "source": [
    "data = pd.concat([transactions, candidates_last_purchase, candidates_bestsellers])\n",
    "data.purchased.fillna(0, inplace=True)"
   ]
  },
  {
   "cell_type": "code",
   "execution_count": 33,
   "id": "a0804113",
   "metadata": {
    "execution": {
     "iopub.execute_input": "2023-11-07T11:18:07.576650Z",
     "iopub.status.busy": "2023-11-07T11:18:07.576082Z",
     "iopub.status.idle": "2023-11-07T11:18:07.597162Z",
     "shell.execute_reply": "2023-11-07T11:18:07.596126Z"
    },
    "papermill": {
     "duration": 0.115716,
     "end_time": "2023-11-07T11:18:07.599848",
     "exception": false,
     "start_time": "2023-11-07T11:18:07.484132",
     "status": "completed"
    },
    "tags": []
   },
   "outputs": [
    {
     "data": {
      "text/html": [
       "<div>\n",
       "<style scoped>\n",
       "    .dataframe tbody tr th:only-of-type {\n",
       "        vertical-align: middle;\n",
       "    }\n",
       "\n",
       "    .dataframe tbody tr th {\n",
       "        vertical-align: top;\n",
       "    }\n",
       "\n",
       "    .dataframe thead th {\n",
       "        text-align: right;\n",
       "    }\n",
       "</style>\n",
       "<table border=\"1\" class=\"dataframe\">\n",
       "  <thead>\n",
       "    <tr style=\"text-align: right;\">\n",
       "      <th></th>\n",
       "      <th>t_dat</th>\n",
       "      <th>customer_id</th>\n",
       "      <th>article_id</th>\n",
       "      <th>price</th>\n",
       "      <th>sales_channel_id</th>\n",
       "      <th>week</th>\n",
       "      <th>purchased</th>\n",
       "    </tr>\n",
       "  </thead>\n",
       "  <tbody>\n",
       "    <tr>\n",
       "      <th>29030503</th>\n",
       "      <td>2020-07-15</td>\n",
       "      <td>272412481300040</td>\n",
       "      <td>778064028</td>\n",
       "      <td>0.008458</td>\n",
       "      <td>1</td>\n",
       "      <td>95</td>\n",
       "      <td>1.0</td>\n",
       "    </tr>\n",
       "    <tr>\n",
       "      <th>29030504</th>\n",
       "      <td>2020-07-15</td>\n",
       "      <td>272412481300040</td>\n",
       "      <td>816592008</td>\n",
       "      <td>0.016932</td>\n",
       "      <td>1</td>\n",
       "      <td>95</td>\n",
       "      <td>1.0</td>\n",
       "    </tr>\n",
       "    <tr>\n",
       "      <th>29030505</th>\n",
       "      <td>2020-07-15</td>\n",
       "      <td>272412481300040</td>\n",
       "      <td>621381021</td>\n",
       "      <td>0.033881</td>\n",
       "      <td>1</td>\n",
       "      <td>95</td>\n",
       "      <td>1.0</td>\n",
       "    </tr>\n",
       "    <tr>\n",
       "      <th>29030506</th>\n",
       "      <td>2020-07-15</td>\n",
       "      <td>272412481300040</td>\n",
       "      <td>817477003</td>\n",
       "      <td>0.025407</td>\n",
       "      <td>1</td>\n",
       "      <td>95</td>\n",
       "      <td>1.0</td>\n",
       "    </tr>\n",
       "    <tr>\n",
       "      <th>29030507</th>\n",
       "      <td>2020-07-15</td>\n",
       "      <td>272412481300040</td>\n",
       "      <td>899088002</td>\n",
       "      <td>0.025407</td>\n",
       "      <td>1</td>\n",
       "      <td>95</td>\n",
       "      <td>1.0</td>\n",
       "    </tr>\n",
       "    <tr>\n",
       "      <th>...</th>\n",
       "      <td>...</td>\n",
       "      <td>...</td>\n",
       "      <td>...</td>\n",
       "      <td>...</td>\n",
       "      <td>...</td>\n",
       "      <td>...</td>\n",
       "      <td>...</td>\n",
       "    </tr>\n",
       "    <tr>\n",
       "      <th>5248375</th>\n",
       "      <td>2020-09-22</td>\n",
       "      <td>18438270306572912089</td>\n",
       "      <td>915529003</td>\n",
       "      <td>0.033439</td>\n",
       "      <td>1</td>\n",
       "      <td>105</td>\n",
       "      <td>0.0</td>\n",
       "    </tr>\n",
       "    <tr>\n",
       "      <th>5248376</th>\n",
       "      <td>2020-09-22</td>\n",
       "      <td>18438270306572912089</td>\n",
       "      <td>915529005</td>\n",
       "      <td>0.033417</td>\n",
       "      <td>1</td>\n",
       "      <td>105</td>\n",
       "      <td>0.0</td>\n",
       "    </tr>\n",
       "    <tr>\n",
       "      <th>5248377</th>\n",
       "      <td>2020-09-22</td>\n",
       "      <td>18438270306572912089</td>\n",
       "      <td>448509014</td>\n",
       "      <td>0.041630</td>\n",
       "      <td>1</td>\n",
       "      <td>105</td>\n",
       "      <td>0.0</td>\n",
       "    </tr>\n",
       "    <tr>\n",
       "      <th>5248378</th>\n",
       "      <td>2020-09-22</td>\n",
       "      <td>18438270306572912089</td>\n",
       "      <td>762846027</td>\n",
       "      <td>0.025005</td>\n",
       "      <td>1</td>\n",
       "      <td>105</td>\n",
       "      <td>0.0</td>\n",
       "    </tr>\n",
       "    <tr>\n",
       "      <th>5248379</th>\n",
       "      <td>2020-09-22</td>\n",
       "      <td>18438270306572912089</td>\n",
       "      <td>714790020</td>\n",
       "      <td>0.049951</td>\n",
       "      <td>1</td>\n",
       "      <td>105</td>\n",
       "      <td>0.0</td>\n",
       "    </tr>\n",
       "  </tbody>\n",
       "</table>\n",
       "<p>18915320 rows × 7 columns</p>\n",
       "</div>"
      ],
      "text/plain": [
       "              t_dat           customer_id  article_id     price  \\\n",
       "29030503 2020-07-15       272412481300040   778064028  0.008458   \n",
       "29030504 2020-07-15       272412481300040   816592008  0.016932   \n",
       "29030505 2020-07-15       272412481300040   621381021  0.033881   \n",
       "29030506 2020-07-15       272412481300040   817477003  0.025407   \n",
       "29030507 2020-07-15       272412481300040   899088002  0.025407   \n",
       "...             ...                   ...         ...       ...   \n",
       "5248375  2020-09-22  18438270306572912089   915529003  0.033439   \n",
       "5248376  2020-09-22  18438270306572912089   915529005  0.033417   \n",
       "5248377  2020-09-22  18438270306572912089   448509014  0.041630   \n",
       "5248378  2020-09-22  18438270306572912089   762846027  0.025005   \n",
       "5248379  2020-09-22  18438270306572912089   714790020  0.049951   \n",
       "\n",
       "          sales_channel_id  week  purchased  \n",
       "29030503                 1    95        1.0  \n",
       "29030504                 1    95        1.0  \n",
       "29030505                 1    95        1.0  \n",
       "29030506                 1    95        1.0  \n",
       "29030507                 1    95        1.0  \n",
       "...                    ...   ...        ...  \n",
       "5248375                  1   105        0.0  \n",
       "5248376                  1   105        0.0  \n",
       "5248377                  1   105        0.0  \n",
       "5248378                  1   105        0.0  \n",
       "5248379                  1   105        0.0  \n",
       "\n",
       "[18915320 rows x 7 columns]"
      ]
     },
     "execution_count": 33,
     "metadata": {},
     "output_type": "execute_result"
    }
   ],
   "source": [
    "data"
   ]
  },
  {
   "cell_type": "code",
   "execution_count": 34,
   "id": "da0b60d3",
   "metadata": {
    "execution": {
     "iopub.execute_input": "2023-11-07T11:18:07.780606Z",
     "iopub.status.busy": "2023-11-07T11:18:07.779971Z",
     "iopub.status.idle": "2023-11-07T11:18:13.892686Z",
     "shell.execute_reply": "2023-11-07T11:18:13.891357Z"
    },
    "papermill": {
     "duration": 6.206164,
     "end_time": "2023-11-07T11:18:13.895680",
     "exception": false,
     "start_time": "2023-11-07T11:18:07.689516",
     "status": "completed"
    },
    "tags": []
   },
   "outputs": [],
   "source": [
    "data.drop_duplicates(['customer_id', 'article_id', 'week'], inplace=True)"
   ]
  },
  {
   "cell_type": "code",
   "execution_count": 35,
   "id": "e35ae7e1",
   "metadata": {
    "execution": {
     "iopub.execute_input": "2023-11-07T11:18:14.067411Z",
     "iopub.status.busy": "2023-11-07T11:18:14.067018Z",
     "iopub.status.idle": "2023-11-07T11:18:14.136836Z",
     "shell.execute_reply": "2023-11-07T11:18:14.135596Z"
    },
    "papermill": {
     "duration": 0.158605,
     "end_time": "2023-11-07T11:18:14.139377",
     "exception": false,
     "start_time": "2023-11-07T11:18:13.980772",
     "status": "completed"
    },
    "tags": []
   },
   "outputs": [
    {
     "data": {
      "text/plain": [
       "0.13607582749165664"
      ]
     },
     "execution_count": 35,
     "metadata": {},
     "output_type": "execute_result"
    }
   ],
   "source": [
    "data.purchased.mean()"
   ]
  },
  {
   "cell_type": "markdown",
   "id": "558db0ce",
   "metadata": {
    "papermill": {
     "duration": 0.082363,
     "end_time": "2023-11-07T11:18:14.304481",
     "exception": false,
     "start_time": "2023-11-07T11:18:14.222118",
     "status": "completed"
    },
    "tags": []
   },
   "source": [
    "### Add bestseller information"
   ]
  },
  {
   "cell_type": "code",
   "execution_count": 36,
   "id": "97bad01c",
   "metadata": {
    "execution": {
     "iopub.execute_input": "2023-11-07T11:18:14.476270Z",
     "iopub.status.busy": "2023-11-07T11:18:14.475880Z",
     "iopub.status.idle": "2023-11-07T11:18:18.633344Z",
     "shell.execute_reply": "2023-11-07T11:18:18.632201Z"
    },
    "papermill": {
     "duration": 4.246975,
     "end_time": "2023-11-07T11:18:18.636145",
     "exception": false,
     "start_time": "2023-11-07T11:18:14.389170",
     "status": "completed"
    },
    "tags": []
   },
   "outputs": [],
   "source": [
    "data = pd.merge(\n",
    "    data,\n",
    "    bestsellers_previous_week[['week', 'article_id', 'bestseller_rank']],\n",
    "    on=['week', 'article_id'],\n",
    "    how='left'\n",
    ")"
   ]
  },
  {
   "cell_type": "code",
   "execution_count": 37,
   "id": "45eb935c",
   "metadata": {
    "execution": {
     "iopub.execute_input": "2023-11-07T11:18:18.803534Z",
     "iopub.status.busy": "2023-11-07T11:18:18.803181Z",
     "iopub.status.idle": "2023-11-07T11:18:20.659898Z",
     "shell.execute_reply": "2023-11-07T11:18:20.658203Z"
    },
    "papermill": {
     "duration": 1.943317,
     "end_time": "2023-11-07T11:18:20.662659",
     "exception": false,
     "start_time": "2023-11-07T11:18:18.719342",
     "status": "completed"
    },
    "tags": []
   },
   "outputs": [],
   "source": [
    "data = data[data.week != data.week.min()]\n",
    "data.bestseller_rank.fillna(999, inplace=True)"
   ]
  },
  {
   "cell_type": "code",
   "execution_count": 38,
   "id": "f9dd4ace",
   "metadata": {
    "execution": {
     "iopub.execute_input": "2023-11-07T11:18:20.830693Z",
     "iopub.status.busy": "2023-11-07T11:18:20.830392Z",
     "iopub.status.idle": "2023-11-07T11:18:47.936932Z",
     "shell.execute_reply": "2023-11-07T11:18:47.935684Z"
    },
    "papermill": {
     "duration": 27.193643,
     "end_time": "2023-11-07T11:18:47.940005",
     "exception": false,
     "start_time": "2023-11-07T11:18:20.746362",
     "status": "completed"
    },
    "tags": []
   },
   "outputs": [],
   "source": [
    "data = pd.merge(data, articles, on='article_id', how='left')\n",
    "data = pd.merge(data, customers, on='customer_id', how='left')"
   ]
  },
  {
   "cell_type": "code",
   "execution_count": 39,
   "id": "f271906c",
   "metadata": {
    "execution": {
     "iopub.execute_input": "2023-11-07T11:18:48.129832Z",
     "iopub.status.busy": "2023-11-07T11:18:48.129355Z",
     "iopub.status.idle": "2023-11-07T11:18:54.553781Z",
     "shell.execute_reply": "2023-11-07T11:18:54.552818Z"
    },
    "papermill": {
     "duration": 6.523692,
     "end_time": "2023-11-07T11:18:54.556823",
     "exception": false,
     "start_time": "2023-11-07T11:18:48.033131",
     "status": "completed"
    },
    "tags": []
   },
   "outputs": [],
   "source": [
    "data.sort_values(['week', 'customer_id'], inplace=True)\n",
    "data.reset_index(drop=True, inplace=True)"
   ]
  },
  {
   "cell_type": "code",
   "execution_count": 40,
   "id": "73924ec7",
   "metadata": {
    "execution": {
     "iopub.execute_input": "2023-11-07T11:18:54.728716Z",
     "iopub.status.busy": "2023-11-07T11:18:54.728384Z",
     "iopub.status.idle": "2023-11-07T11:19:02.581704Z",
     "shell.execute_reply": "2023-11-07T11:19:02.580654Z"
    },
    "papermill": {
     "duration": 7.943015,
     "end_time": "2023-11-07T11:19:02.585064",
     "exception": false,
     "start_time": "2023-11-07T11:18:54.642049",
     "status": "completed"
    },
    "tags": []
   },
   "outputs": [],
   "source": [
    "train = data[data.week != test_week]\n",
    "test = data[data.week==test_week].drop_duplicates(['customer_id', 'article_id', 'sales_channel_id']).copy()"
   ]
  },
  {
   "cell_type": "code",
   "execution_count": 41,
   "id": "a8b11c2b",
   "metadata": {
    "execution": {
     "iopub.execute_input": "2023-11-07T11:19:02.776243Z",
     "iopub.status.busy": "2023-11-07T11:19:02.775911Z",
     "iopub.status.idle": "2023-11-07T11:19:03.710688Z",
     "shell.execute_reply": "2023-11-07T11:19:03.709691Z"
    },
    "papermill": {
     "duration": 1.0347,
     "end_time": "2023-11-07T11:19:03.713769",
     "exception": false,
     "start_time": "2023-11-07T11:19:02.679069",
     "status": "completed"
    },
    "tags": []
   },
   "outputs": [],
   "source": [
    "train_baskets = train.groupby(['week', 'customer_id'])['article_id'].count().values"
   ]
  },
  {
   "cell_type": "code",
   "execution_count": 42,
   "id": "6d3ae8eb",
   "metadata": {
    "execution": {
     "iopub.execute_input": "2023-11-07T11:19:03.908588Z",
     "iopub.status.busy": "2023-11-07T11:19:03.908248Z",
     "iopub.status.idle": "2023-11-07T11:19:03.914369Z",
     "shell.execute_reply": "2023-11-07T11:19:03.913245Z"
    },
    "papermill": {
     "duration": 0.101896,
     "end_time": "2023-11-07T11:19:03.916702",
     "exception": false,
     "start_time": "2023-11-07T11:19:03.814806",
     "status": "completed"
    },
    "tags": []
   },
   "outputs": [],
   "source": [
    "columns_to_use = ['article_id', 'product_type_no', 'graphical_appearance_no', 'colour_group_code', 'perceived_colour_value_id',\n",
    "'perceived_colour_master_id', 'department_no', 'index_code',\n",
    "'index_group_no', 'section_no', 'garment_group_no', 'FN', 'Active',\n",
    "'club_member_status', 'fashion_news_frequency', 'age', 'postal_code', 'bestseller_rank', 'numerical_article_gender']"
   ]
  },
  {
   "cell_type": "code",
   "execution_count": 43,
   "id": "bb69e81b",
   "metadata": {
    "execution": {
     "iopub.execute_input": "2023-11-07T11:19:04.109568Z",
     "iopub.status.busy": "2023-11-07T11:19:04.109234Z",
     "iopub.status.idle": "2023-11-07T11:19:04.671102Z",
     "shell.execute_reply": "2023-11-07T11:19:04.670208Z"
    },
    "papermill": {
     "duration": 0.655546,
     "end_time": "2023-11-07T11:19:04.673401",
     "exception": false,
     "start_time": "2023-11-07T11:19:04.017855",
     "status": "completed"
    },
    "tags": []
   },
   "outputs": [
    {
     "name": "stdout",
     "output_type": "stream",
     "text": [
      "CPU times: user 318 ms, sys: 237 ms, total: 555 ms\n",
      "Wall time: 556 ms\n"
     ]
    }
   ],
   "source": [
    "%%time\n",
    "\n",
    "train_X = train[columns_to_use]\n",
    "train_y = train['purchased']\n",
    "\n",
    "test_X = test[columns_to_use]"
   ]
  },
  {
   "cell_type": "markdown",
   "id": "bc144042",
   "metadata": {
    "papermill": {
     "duration": 0.085521,
     "end_time": "2023-11-07T11:19:04.844121",
     "exception": false,
     "start_time": "2023-11-07T11:19:04.758600",
     "status": "completed"
    },
    "tags": []
   },
   "source": [
    "# Model training"
   ]
  },
  {
   "cell_type": "code",
   "execution_count": 44,
   "id": "cf1310f9",
   "metadata": {
    "execution": {
     "iopub.execute_input": "2023-11-07T11:19:05.017210Z",
     "iopub.status.busy": "2023-11-07T11:19:05.016633Z",
     "iopub.status.idle": "2023-11-07T11:19:06.173946Z",
     "shell.execute_reply": "2023-11-07T11:19:06.172736Z"
    },
    "papermill": {
     "duration": 1.248165,
     "end_time": "2023-11-07T11:19:06.176866",
     "exception": false,
     "start_time": "2023-11-07T11:19:04.928701",
     "status": "completed"
    },
    "tags": []
   },
   "outputs": [
    {
     "data": {
      "text/html": [
       "<style type='text/css'>\n",
       ".datatable table.frame { margin-bottom: 0; }\n",
       ".datatable table.frame thead { border-bottom: none; }\n",
       ".datatable table.frame tr.coltypes td {  color: #FFFFFF;  line-height: 6px;  padding: 0 0.5em;}\n",
       ".datatable .bool    { background: #DDDD99; }\n",
       ".datatable .object  { background: #565656; }\n",
       ".datatable .int     { background: #5D9E5D; }\n",
       ".datatable .float   { background: #4040CC; }\n",
       ".datatable .str     { background: #CC4040; }\n",
       ".datatable .time    { background: #40CC40; }\n",
       ".datatable .row_index {  background: var(--jp-border-color3);  border-right: 1px solid var(--jp-border-color0);  color: var(--jp-ui-font-color3);  font-size: 9px;}\n",
       ".datatable .frame tbody td { text-align: left; }\n",
       ".datatable .frame tr.coltypes .row_index {  background: var(--jp-border-color0);}\n",
       ".datatable th:nth-child(2) { padding-left: 12px; }\n",
       ".datatable .hellipsis {  color: var(--jp-cell-editor-border-color);}\n",
       ".datatable .vellipsis {  background: var(--jp-layout-color0);  color: var(--jp-cell-editor-border-color);}\n",
       ".datatable .na {  color: var(--jp-cell-editor-border-color);  font-size: 80%;}\n",
       ".datatable .sp {  opacity: 0.25;}\n",
       ".datatable .footer { font-size: 9px; }\n",
       ".datatable .frame_dimensions {  background: var(--jp-border-color3);  border-top: 1px solid var(--jp-border-color0);  color: var(--jp-ui-font-color3);  display: inline-block;  opacity: 0.6;  padding: 1px 10px 1px 5px;}\n",
       "</style>\n"
      ],
      "text/plain": [
       "<IPython.core.display.HTML object>"
      ]
     },
     "metadata": {},
     "output_type": "display_data"
    }
   ],
   "source": [
    "from lightgbm.sklearn import LGBMRanker"
   ]
  },
  {
   "cell_type": "code",
   "execution_count": 45,
   "id": "5c3a6b40",
   "metadata": {
    "execution": {
     "iopub.execute_input": "2023-11-07T11:19:06.346859Z",
     "iopub.status.busy": "2023-11-07T11:19:06.346223Z",
     "iopub.status.idle": "2023-11-07T11:19:06.351318Z",
     "shell.execute_reply": "2023-11-07T11:19:06.350718Z"
    },
    "papermill": {
     "duration": 0.092165,
     "end_time": "2023-11-07T11:19:06.353520",
     "exception": false,
     "start_time": "2023-11-07T11:19:06.261355",
     "status": "completed"
    },
    "tags": []
   },
   "outputs": [],
   "source": [
    "ranker = LGBMRanker(\n",
    "    objective=\"lambdarank\",\n",
    "    metric=\"ndcg\",\n",
    "    boosting_type=\"dart\",\n",
    "    n_estimators=1,\n",
    "    importance_type='gain',\n",
    "    verbose=10\n",
    ")"
   ]
  },
  {
   "cell_type": "code",
   "execution_count": 46,
   "id": "f5810f06",
   "metadata": {
    "execution": {
     "iopub.execute_input": "2023-11-07T11:19:06.524204Z",
     "iopub.status.busy": "2023-11-07T11:19:06.523748Z",
     "iopub.status.idle": "2023-11-07T11:19:24.830399Z",
     "shell.execute_reply": "2023-11-07T11:19:24.829044Z"
    },
    "papermill": {
     "duration": 18.395568,
     "end_time": "2023-11-07T11:19:24.833332",
     "exception": false,
     "start_time": "2023-11-07T11:19:06.437764",
     "status": "completed"
    },
    "tags": []
   },
   "outputs": [
    {
     "name": "stdout",
     "output_type": "stream",
     "text": [
      "[LightGBM] [Debug] Dataset::GetMultiBinFromSparseFeatures: sparse rate 0.848850\n",
      "[LightGBM] [Debug] Dataset::GetMultiBinFromAllFeatures: sparse rate 0.171201\n",
      "[LightGBM] [Debug] init for col-wise cost 0.394701 seconds, init for row-wise cost 1.806468 seconds\n",
      "[LightGBM] [Warning] Auto-choosing row-wise multi-threading, the overhead of testing was 1.013039 seconds.\n",
      "You can set `force_row_wise=true` to remove the overhead.\n",
      "And if memory is not enough, you can set `force_col_wise=true`.\n",
      "[LightGBM] [Debug] Using Dense Multi-Val Bin\n",
      "[LightGBM] [Info] Total Bins 1082\n",
      "[LightGBM] [Info] Number of data points in the train set: 11381612, number of used features: 19\n",
      "[LightGBM] [Debug] Trained a tree with leaves = 31 and depth = 12\n",
      "CPU times: user 57.5 s, sys: 1.88 s, total: 59.4 s\n",
      "Wall time: 18.3 s\n"
     ]
    }
   ],
   "source": [
    "%%time\n",
    "\n",
    "ranker = ranker.fit(\n",
    "    train_X,\n",
    "    train_y,\n",
    "    group=train_baskets,\n",
    ")"
   ]
  },
  {
   "cell_type": "code",
   "execution_count": 47,
   "id": "2d6d94d9",
   "metadata": {
    "execution": {
     "iopub.execute_input": "2023-11-07T11:19:25.011694Z",
     "iopub.status.busy": "2023-11-07T11:19:25.011263Z",
     "iopub.status.idle": "2023-11-07T11:19:25.030976Z",
     "shell.execute_reply": "2023-11-07T11:19:25.029242Z"
    },
    "papermill": {
     "duration": 0.11048,
     "end_time": "2023-11-07T11:19:25.033558",
     "exception": false,
     "start_time": "2023-11-07T11:19:24.923078",
     "status": "completed"
    },
    "tags": []
   },
   "outputs": [
    {
     "name": "stdout",
     "output_type": "stream",
     "text": [
      "bestseller_rank 0.9989805519216203\n",
      "age 0.00024136038957903926\n",
      "article_id 0.00017160828400263902\n",
      "garment_group_no 0.0001448188543340445\n",
      "department_no 9.637421875769266e-05\n",
      "product_type_no 9.014783292439592e-05\n",
      "section_no 7.067204716548531e-05\n",
      "postal_code 6.792197441369627e-05\n",
      "club_member_status 6.519780240033951e-05\n",
      "colour_group_code 5.358754121027148e-05\n",
      "perceived_colour_value_id 1.775913359216025e-05\n",
      "FN 0.0\n",
      "Active 0.0\n",
      "index_group_no 0.0\n",
      "index_code 0.0\n",
      "fashion_news_frequency 0.0\n",
      "perceived_colour_master_id 0.0\n",
      "graphical_appearance_no 0.0\n",
      "numerical_article_gender 0.0\n"
     ]
    }
   ],
   "source": [
    "for i in ranker.feature_importances_.argsort()[::-1]:\n",
    "    print(columns_to_use[i], ranker.feature_importances_[i]/ranker.feature_importances_.sum())"
   ]
  },
  {
   "cell_type": "markdown",
   "id": "87cf5ac5",
   "metadata": {
    "papermill": {
     "duration": 0.086387,
     "end_time": "2023-11-07T11:19:25.207951",
     "exception": false,
     "start_time": "2023-11-07T11:19:25.121564",
     "status": "completed"
    },
    "tags": []
   },
   "source": [
    "# Calculate predictions"
   ]
  },
  {
   "cell_type": "code",
   "execution_count": 48,
   "id": "5d884d7f",
   "metadata": {
    "execution": {
     "iopub.execute_input": "2023-11-07T11:19:25.386790Z",
     "iopub.status.busy": "2023-11-07T11:19:25.386225Z",
     "iopub.status.idle": "2023-11-07T11:19:44.125411Z",
     "shell.execute_reply": "2023-11-07T11:19:44.124174Z"
    },
    "papermill": {
     "duration": 18.832757,
     "end_time": "2023-11-07T11:19:44.128494",
     "exception": false,
     "start_time": "2023-11-07T11:19:25.295737",
     "status": "completed"
    },
    "tags": []
   },
   "outputs": [
    {
     "name": "stdout",
     "output_type": "stream",
     "text": [
      "CPU times: user 5 µs, sys: 1 µs, total: 6 µs\n",
      "Wall time: 10.7 µs\n"
     ]
    }
   ],
   "source": [
    "%time\n",
    "\n",
    "test['preds'] = ranker.predict(test_X)\n",
    "\n",
    "c_id2predicted_article_ids = test \\\n",
    "    .sort_values(['customer_id', 'preds'], ascending=False) \\\n",
    "    .groupby('customer_id')['article_id'].apply(list).to_dict()\n",
    "\n",
    "bestsellers_last_week = \\\n",
    "    bestsellers_previous_week[bestsellers_previous_week.week == bestsellers_previous_week.week.max()]['article_id'].tolist()"
   ]
  },
  {
   "cell_type": "markdown",
   "id": "c2eeea19",
   "metadata": {
    "papermill": {
     "duration": 0.086521,
     "end_time": "2023-11-07T11:19:44.308567",
     "exception": false,
     "start_time": "2023-11-07T11:19:44.222046",
     "status": "completed"
    },
    "tags": []
   },
   "source": [
    "# Create submission"
   ]
  },
  {
   "cell_type": "code",
   "execution_count": 49,
   "id": "2de9ccc1",
   "metadata": {
    "execution": {
     "iopub.execute_input": "2023-11-07T11:19:44.484396Z",
     "iopub.status.busy": "2023-11-07T11:19:44.483969Z",
     "iopub.status.idle": "2023-11-07T11:19:51.179906Z",
     "shell.execute_reply": "2023-11-07T11:19:51.178384Z"
    },
    "papermill": {
     "duration": 6.787538,
     "end_time": "2023-11-07T11:19:51.182740",
     "exception": false,
     "start_time": "2023-11-07T11:19:44.395202",
     "status": "completed"
    },
    "tags": []
   },
   "outputs": [],
   "source": [
    "sub = pd.read_csv('/kaggle/input/h-and-m-personalized-fashion-recommendations/sample_submission.csv')"
   ]
  },
  {
   "cell_type": "code",
   "execution_count": 50,
   "id": "54d48e03",
   "metadata": {
    "execution": {
     "iopub.execute_input": "2023-11-07T11:19:51.360893Z",
     "iopub.status.busy": "2023-11-07T11:19:51.360537Z",
     "iopub.status.idle": "2023-11-07T11:19:59.145504Z",
     "shell.execute_reply": "2023-11-07T11:19:59.143832Z"
    },
    "papermill": {
     "duration": 7.877638,
     "end_time": "2023-11-07T11:19:59.148296",
     "exception": false,
     "start_time": "2023-11-07T11:19:51.270658",
     "status": "completed"
    },
    "tags": []
   },
   "outputs": [
    {
     "name": "stdout",
     "output_type": "stream",
     "text": [
      "CPU times: user 7.5 s, sys: 273 ms, total: 7.78 s\n",
      "Wall time: 7.78 s\n"
     ]
    }
   ],
   "source": [
    "%%time\n",
    "preds = []\n",
    "for c_id in customer_hex_id_to_int(sub.customer_id):\n",
    "    pred = c_id2predicted_article_ids.get(c_id, [])\n",
    "    pred = pred + bestsellers_last_week\n",
    "    preds.append(pred[:12])"
   ]
  },
  {
   "cell_type": "code",
   "execution_count": 51,
   "id": "8765dd63",
   "metadata": {
    "execution": {
     "iopub.execute_input": "2023-11-07T11:19:59.329529Z",
     "iopub.status.busy": "2023-11-07T11:19:59.328202Z",
     "iopub.status.idle": "2023-11-07T11:20:07.092456Z",
     "shell.execute_reply": "2023-11-07T11:20:07.091298Z"
    },
    "papermill": {
     "duration": 7.856983,
     "end_time": "2023-11-07T11:20:07.095492",
     "exception": false,
     "start_time": "2023-11-07T11:19:59.238509",
     "status": "completed"
    },
    "tags": []
   },
   "outputs": [],
   "source": [
    "preds = [' '.join(['0' + str(p) for p in ps]) for ps in preds]\n",
    "sub.prediction = preds"
   ]
  },
  {
   "cell_type": "code",
   "execution_count": 52,
   "id": "8796fbe5",
   "metadata": {
    "execution": {
     "iopub.execute_input": "2023-11-07T11:20:07.285094Z",
     "iopub.status.busy": "2023-11-07T11:20:07.284786Z",
     "iopub.status.idle": "2023-11-07T11:20:21.089662Z",
     "shell.execute_reply": "2023-11-07T11:20:21.088392Z"
    },
    "papermill": {
     "duration": 13.904311,
     "end_time": "2023-11-07T11:20:21.092742",
     "exception": false,
     "start_time": "2023-11-07T11:20:07.188431",
     "status": "completed"
    },
    "tags": []
   },
   "outputs": [],
   "source": [
    "sub_name = 'submission'\n",
    "sub.to_csv(f'{sub_name}.csv', index=False)"
   ]
  }
 ],
 "metadata": {
  "kernelspec": {
   "display_name": "Python 3",
   "language": "python",
   "name": "python3"
  },
  "language_info": {
   "codemirror_mode": {
    "name": "ipython",
    "version": 3
   },
   "file_extension": ".py",
   "mimetype": "text/x-python",
   "name": "python",
   "nbconvert_exporter": "python",
   "pygments_lexer": "ipython3",
   "version": "3.7.12"
  },
  "papermill": {
   "default_parameters": {},
   "duration": 210.882311,
   "end_time": "2023-11-07T11:20:23.421313",
   "environment_variables": {},
   "exception": null,
   "input_path": "__notebook__.ipynb",
   "output_path": "__notebook__.ipynb",
   "parameters": {},
   "start_time": "2023-11-07T11:16:52.539002",
   "version": "2.3.4"
  }
 },
 "nbformat": 4,
 "nbformat_minor": 5
}
