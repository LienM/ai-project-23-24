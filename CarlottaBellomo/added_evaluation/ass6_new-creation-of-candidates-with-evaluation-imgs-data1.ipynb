{
 "cells": [
  {
   "cell_type": "markdown",
   "metadata": {},
   "source": [
    "Radek posted about this [here](https://www.kaggle.com/competitions/h-and-m-personalized-fashion-recommendations/discussion/309220), and linked to a GitHub repo with the code.\n",
    "\n",
    "I just transferred that code here to Kaggle notebooks, that's all."
   ]
  },
  {
   "cell_type": "code",
   "execution_count": 1,
   "metadata": {
    "execution": {
     "iopub.execute_input": "2023-12-05T08:34:16.986960Z",
     "iopub.status.busy": "2023-12-05T08:34:16.986672Z",
     "iopub.status.idle": "2023-12-05T08:34:17.013772Z",
     "shell.execute_reply": "2023-12-05T08:34:17.013226Z",
     "shell.execute_reply.started": "2023-12-05T08:34:16.986883Z"
    }
   },
   "outputs": [],
   "source": [
    "import numpy as np\n",
    "\n",
    "def apk(actual, predicted, k=10):\n",
    "    \"\"\"\n",
    "    Computes the average precision at k.\n",
    "\n",
    "    This function computes the average prescision at k between two lists of\n",
    "    items.\n",
    "\n",
    "    Parameters\n",
    "    ----------\n",
    "    actual : list\n",
    "             A list of elements that are to be predicted (order doesn't matter)\n",
    "    predicted : list\n",
    "                A list of predicted elements (order does matter)\n",
    "    k : int, optional\n",
    "        The maximum number of predicted elements\n",
    "\n",
    "    Returns\n",
    "    -------\n",
    "    score : double\n",
    "            The average precision at k over the input lists\n",
    "\n",
    "    \"\"\"\n",
    "    if len(predicted)>k:\n",
    "        predicted = predicted[:k]\n",
    "\n",
    "    score = 0.0\n",
    "    num_hits = 0.0\n",
    "\n",
    "    for i,p in enumerate(predicted):\n",
    "        if p in actual and p not in predicted[:i]:\n",
    "            num_hits += 1.0\n",
    "            score += num_hits / (i+1.0)\n",
    "\n",
    "    if not actual:\n",
    "        return 0.0\n",
    "\n",
    "    return score / min(len(actual), k)\n",
    "\n",
    "def mapk(actual, predicted, k=10):\n",
    "    \"\"\"\n",
    "    Computes the mean average precision at k.\n",
    "\n",
    "    This function computes the mean average prescision at k between two lists\n",
    "    of lists of items.\n",
    "\n",
    "    Parameters\n",
    "    ----------\n",
    "    actual : list\n",
    "             A list of lists of elements that are to be predicted \n",
    "             (order doesn't matter in the lists)\n",
    "    predicted : list\n",
    "                A list of lists of predicted elements\n",
    "                (order matters in the lists)\n",
    "    k : int, optional\n",
    "        The maximum number of predicted elements\n",
    "\n",
    "    Returns\n",
    "    -------\n",
    "    score : double\n",
    "            The mean average precision at k over the input lists\n",
    "\n",
    "    \"\"\"\n",
    "    return np.mean([apk(a,p,k) for a,p in zip(actual, predicted)])"
   ]
  },
  {
   "cell_type": "code",
   "execution_count": 2,
   "metadata": {
    "execution": {
     "iopub.execute_input": "2023-12-05T08:34:17.015402Z",
     "iopub.status.busy": "2023-12-05T08:34:17.015093Z",
     "iopub.status.idle": "2023-12-05T08:34:17.904948Z",
     "shell.execute_reply": "2023-12-05T08:34:17.904332Z",
     "shell.execute_reply.started": "2023-12-05T08:34:17.015376Z"
    }
   },
   "outputs": [],
   "source": [
    "from sklearn.base import BaseEstimator, TransformerMixin\n",
    "import numpy as np\n",
    "\n",
    "# https://www.kaggle.com/c/h-and-m-personalized-fashion-recommendations/discussion/308635\n",
    "def customer_hex_id_to_int(series):\n",
    "    return series.str[-16:].apply(hex_id_to_int)\n",
    "\n",
    "def hex_id_to_int(str):\n",
    "    return int(str[-16:], 16)\n",
    "\n",
    "def article_id_str_to_int(series):\n",
    "    return series.astype('int32')\n",
    "\n",
    "def article_id_int_to_str(series):\n",
    "    return '0' + series.astype('str')\n",
    "\n",
    "class Categorize(BaseEstimator, TransformerMixin):\n",
    "    def __init__(self, min_examples=0):\n",
    "        self.min_examples = min_examples\n",
    "        self.categories = []\n",
    "        \n",
    "    def fit(self, X):\n",
    "        for i in range(X.shape[1]):\n",
    "            vc = X.iloc[:, i].value_counts()\n",
    "            self.categories.append(vc[vc > self.min_examples].index.tolist())\n",
    "        return self\n",
    "\n",
    "    def transform(self, X):\n",
    "        data = {X.columns[i]: pd.Categorical(X.iloc[:, i], categories=self.categories[i]).codes for i in range(X.shape[1])}\n",
    "        return pd.DataFrame(data=data)\n",
    "\n",
    "\n",
    "def calculate_apk(list_of_preds, list_of_gts):\n",
    "    # for fast validation this can be changed to operate on dicts of {'cust_id_int': [art_id_int, ...]}\n",
    "    # using 'data/val_week_purchases_by_cust.pkl'\n",
    "    apks = []\n",
    "    for preds, gt in zip(list_of_preds, list_of_gts):\n",
    "        apks.append(apk(gt, preds, k=12))\n",
    "    return np.mean(apks)\n",
    "\n",
    "def eval_sub(sub_csv, skip_cust_with_no_purchases=True):\n",
    "    sub=pd.read_csv(sub_csv)\n",
    "    validation_set=pd.read_parquet('data/validation_ground_truth.parquet')\n",
    "\n",
    "    apks = []\n",
    "\n",
    "    no_purchases_pattern = []\n",
    "    for pred, gt in zip(sub.prediction.str.split(), validation_set.prediction.str.split()):\n",
    "        if skip_cust_with_no_purchases and (gt == no_purchases_pattern): continue\n",
    "        apks.append(apk(gt, pred, k=12))\n",
    "    return np.mean(apks)"
   ]
  },
  {
   "cell_type": "code",
   "execution_count": 3,
   "metadata": {
    "execution": {
     "iopub.execute_input": "2023-12-05T08:34:17.906421Z",
     "iopub.status.busy": "2023-12-05T08:34:17.906056Z",
     "iopub.status.idle": "2023-12-05T08:34:17.909706Z",
     "shell.execute_reply": "2023-12-05T08:34:17.909228Z",
     "shell.execute_reply.started": "2023-12-05T08:34:17.906390Z"
    }
   },
   "outputs": [],
   "source": [
    "import pandas as pd\n",
    "import matplotlib.pyplot as plt"
   ]
  },
  {
   "cell_type": "code",
   "execution_count": 4,
   "metadata": {
    "execution": {
     "iopub.execute_input": "2023-12-05T08:34:17.911237Z",
     "iopub.status.busy": "2023-12-05T08:34:17.910587Z",
     "iopub.status.idle": "2023-12-05T08:34:23.431040Z",
     "shell.execute_reply": "2023-12-05T08:34:23.430455Z",
     "shell.execute_reply.started": "2023-12-05T08:34:17.911203Z"
    }
   },
   "outputs": [
    {
     "name": "stdout",
     "output_type": "stream",
     "text": [
      "CPU times: user 1.37 s, sys: 1.32 s, total: 2.69 s\n",
      "Wall time: 5.51 s\n"
     ]
    }
   ],
   "source": [
    "%%time\n",
    "\n",
    "transactions = pd.read_parquet('../input/warmup/transactions_train.parquet')\n",
    "customers = pd.read_parquet('../input/parquet-new-assignement/new_customer_one.parquet')\n",
    "articles = pd.read_parquet('../input/parquet-new-assignement/new_articles_one.parquet')\n",
    "\n",
    "# sample = 0.05\n",
    "# transactions = pd.read_parquet(f'data/transactions_train_sample_{sample}.parquet')\n",
    "# customers = pd.read_parquet(f'data/customers_sample_{sample}.parquet')\n",
    "# articles = pd.read_parquet(f'data/articles_train_sample_{sample}.parquet')"
   ]
  },
  {
   "cell_type": "code",
   "execution_count": 5,
   "metadata": {
    "execution": {
     "iopub.execute_input": "2023-12-05T08:34:23.433991Z",
     "iopub.status.busy": "2023-12-05T08:34:23.433795Z",
     "iopub.status.idle": "2023-12-05T08:34:24.646998Z",
     "shell.execute_reply": "2023-12-05T08:34:24.646322Z",
     "shell.execute_reply.started": "2023-12-05T08:34:23.433968Z"
    }
   },
   "outputs": [],
   "source": [
    "#adding of the column week to the dataframe transactions\n",
    "transactions.t_dat = pd.to_datetime(transactions.t_dat, format='%Y-%m-%d')\n",
    "transactions['week'] = 104 - (transactions.t_dat.max() - transactions.t_dat).dt.days // 7"
   ]
  },
  {
   "cell_type": "code",
   "execution_count": 6,
   "metadata": {
    "execution": {
     "iopub.execute_input": "2023-12-05T08:34:24.648195Z",
     "iopub.status.busy": "2023-12-05T08:34:24.647989Z",
     "iopub.status.idle": "2023-12-05T08:34:24.673148Z",
     "shell.execute_reply": "2023-12-05T08:34:24.672521Z",
     "shell.execute_reply.started": "2023-12-05T08:34:24.648155Z"
    }
   },
   "outputs": [],
   "source": [
    "#definition of the week for test\n",
    "test_week = transactions.week.max() + 1 \n",
    "#transactions = transactions[transactions.week > transactions.week.max() - 10]"
   ]
  },
  {
   "cell_type": "markdown",
   "metadata": {},
   "source": [
    "# Generating candidates"
   ]
  },
  {
   "cell_type": "markdown",
   "metadata": {},
   "source": [
    "### Last purchase candidates"
   ]
  },
  {
   "cell_type": "code",
   "execution_count": 7,
   "metadata": {
    "execution": {
     "iopub.execute_input": "2023-12-05T08:34:24.674272Z",
     "iopub.status.busy": "2023-12-05T08:34:24.674061Z",
     "iopub.status.idle": "2023-12-05T08:35:15.592152Z",
     "shell.execute_reply": "2023-12-05T08:35:15.591561Z",
     "shell.execute_reply.started": "2023-12-05T08:34:24.674249Z"
    }
   },
   "outputs": [],
   "source": [
    "'''deciding to work only with data of the months of September since probably articles\n",
    "bought in this period could be the same and then the reccomendation could be more \n",
    "related also to the period in which we need to give them'''\n",
    "\n",
    "#filtering only the weeks of the month of semptember for the years 2018-2020\n",
    "filtered_transactions = transactions[(transactions['t_dat'].dt.year == 2020)]\n",
    "\n",
    "#groupby of candidates based on the customer_id and extraction of weeks\n",
    "c2weeks = filtered_transactions.groupby('customer_id')['week'].unique()\n",
    "\n",
    "#creation of a dictionary for shifted weeks\n",
    "c2weeks2shifted_weeks = {}\n",
    "candidates_last_purchase_2020 = filtered_transactions.copy()\n",
    "\n",
    "for c_id, weeks in c2weeks.items():\n",
    "    c2weeks2shifted_weeks[c_id] = {}\n",
    "    for i in range(weeks.shape[0]-1):\n",
    "        c2weeks2shifted_weeks[c_id][weeks[i]] = weeks[i+1]\n",
    "    c2weeks2shifted_weeks[c_id][weeks[-1]] = test_week\n",
    "\n",
    "#update of the dataframe candidates_last_purchase_2020\n",
    "weeks = []\n",
    "for i, (c_id, week) in enumerate(zip(filtered_transactions['customer_id'], filtered_transactions['week'])):\n",
    "    weeks.append(c2weeks2shifted_weeks[c_id][week])\n",
    "    \n",
    "candidates_last_purchase_2020.week = weeks"
   ]
  },
  {
   "cell_type": "markdown",
   "metadata": {},
   "source": [
    "### candidates"
   ]
  },
  {
   "cell_type": "code",
   "execution_count": 8,
   "metadata": {
    "execution": {
     "iopub.execute_input": "2023-12-05T08:35:15.593274Z",
     "iopub.status.busy": "2023-12-05T08:35:15.593082Z",
     "iopub.status.idle": "2023-12-05T08:35:16.459000Z",
     "shell.execute_reply": "2023-12-05T08:35:16.458213Z",
     "shell.execute_reply.started": "2023-12-05T08:35:15.593251Z"
    }
   },
   "outputs": [
    {
     "data": {
      "text/html": [
       "<div>\n",
       "<style scoped>\n",
       "    .dataframe tbody tr th:only-of-type {\n",
       "        vertical-align: middle;\n",
       "    }\n",
       "\n",
       "    .dataframe tbody tr th {\n",
       "        vertical-align: top;\n",
       "    }\n",
       "\n",
       "    .dataframe thead th {\n",
       "        text-align: right;\n",
       "    }\n",
       "</style>\n",
       "<table border=\"1\" class=\"dataframe\">\n",
       "  <thead>\n",
       "    <tr style=\"text-align: right;\">\n",
       "      <th></th>\n",
       "      <th>customer_id</th>\n",
       "      <th>mean price purchases</th>\n",
       "    </tr>\n",
       "  </thead>\n",
       "  <tbody>\n",
       "    <tr>\n",
       "      <th>0</th>\n",
       "      <td>4245900472157</td>\n",
       "      <td>0.021169</td>\n",
       "    </tr>\n",
       "    <tr>\n",
       "      <th>1</th>\n",
       "      <td>28847241659200</td>\n",
       "      <td>0.031091</td>\n",
       "    </tr>\n",
       "    <tr>\n",
       "      <th>2</th>\n",
       "      <td>41046458195168</td>\n",
       "      <td>0.016932</td>\n",
       "    </tr>\n",
       "    <tr>\n",
       "      <th>3</th>\n",
       "      <td>41318098387474</td>\n",
       "      <td>0.020322</td>\n",
       "    </tr>\n",
       "    <tr>\n",
       "      <th>4</th>\n",
       "      <td>46878247658203</td>\n",
       "      <td>0.016932</td>\n",
       "    </tr>\n",
       "    <tr>\n",
       "      <th>...</th>\n",
       "      <td>...</td>\n",
       "      <td>...</td>\n",
       "    </tr>\n",
       "    <tr>\n",
       "      <th>862719</th>\n",
       "      <td>18446624797007271432</td>\n",
       "      <td>0.013119</td>\n",
       "    </tr>\n",
       "    <tr>\n",
       "      <th>862720</th>\n",
       "      <td>18446630855572834764</td>\n",
       "      <td>0.045181</td>\n",
       "    </tr>\n",
       "    <tr>\n",
       "      <th>862721</th>\n",
       "      <td>18446662237889060501</td>\n",
       "      <td>0.057186</td>\n",
       "    </tr>\n",
       "    <tr>\n",
       "      <th>862722</th>\n",
       "      <td>18446705133201055310</td>\n",
       "      <td>0.050831</td>\n",
       "    </tr>\n",
       "    <tr>\n",
       "      <th>862723</th>\n",
       "      <td>18446737527580148316</td>\n",
       "      <td>0.021203</td>\n",
       "    </tr>\n",
       "  </tbody>\n",
       "</table>\n",
       "<p>862724 rows × 2 columns</p>\n",
       "</div>"
      ],
      "text/plain": [
       "                 customer_id  mean price purchases\n",
       "0              4245900472157              0.021169\n",
       "1             28847241659200              0.031091\n",
       "2             41046458195168              0.016932\n",
       "3             41318098387474              0.020322\n",
       "4             46878247658203              0.016932\n",
       "...                      ...                   ...\n",
       "862719  18446624797007271432              0.013119\n",
       "862720  18446630855572834764              0.045181\n",
       "862721  18446662237889060501              0.057186\n",
       "862722  18446705133201055310              0.050831\n",
       "862723  18446737527580148316              0.021203\n",
       "\n",
       "[862724 rows x 2 columns]"
      ]
     },
     "execution_count": 8,
     "metadata": {},
     "output_type": "execute_result"
    }
   ],
   "source": [
    "#creation of the mean price of purchases for each candidate only in the filtered transactions\n",
    "mean_price_purchases = filtered_transactions.groupby('customer_id')['price'].mean().rename('mean price purchases').reset_index()\n",
    "mean_price_purchases"
   ]
  },
  {
   "cell_type": "code",
   "execution_count": 9,
   "metadata": {
    "execution": {
     "iopub.execute_input": "2023-12-05T08:35:16.461008Z",
     "iopub.status.busy": "2023-12-05T08:35:16.460263Z",
     "iopub.status.idle": "2023-12-05T08:35:17.754708Z",
     "shell.execute_reply": "2023-12-05T08:35:17.754049Z",
     "shell.execute_reply.started": "2023-12-05T08:35:16.460973Z"
    }
   },
   "outputs": [
    {
     "data": {
      "text/html": [
       "<div>\n",
       "<style scoped>\n",
       "    .dataframe tbody tr th:only-of-type {\n",
       "        vertical-align: middle;\n",
       "    }\n",
       "\n",
       "    .dataframe tbody tr th {\n",
       "        vertical-align: top;\n",
       "    }\n",
       "\n",
       "    .dataframe thead th {\n",
       "        text-align: right;\n",
       "    }\n",
       "</style>\n",
       "<table border=\"1\" class=\"dataframe\">\n",
       "  <thead>\n",
       "    <tr style=\"text-align: right;\">\n",
       "      <th></th>\n",
       "      <th>customer_id</th>\n",
       "      <th>most_present_gender_in_area</th>\n",
       "    </tr>\n",
       "  </thead>\n",
       "  <tbody>\n",
       "    <tr>\n",
       "      <th>0</th>\n",
       "      <td>4245900472157</td>\n",
       "      <td>2</td>\n",
       "    </tr>\n",
       "    <tr>\n",
       "      <th>1</th>\n",
       "      <td>23962613628581</td>\n",
       "      <td>0</td>\n",
       "    </tr>\n",
       "    <tr>\n",
       "      <th>2</th>\n",
       "      <td>25398598941468</td>\n",
       "      <td>2</td>\n",
       "    </tr>\n",
       "    <tr>\n",
       "      <th>3</th>\n",
       "      <td>28847241659200</td>\n",
       "      <td>2</td>\n",
       "    </tr>\n",
       "    <tr>\n",
       "      <th>4</th>\n",
       "      <td>41046458195168</td>\n",
       "      <td>2</td>\n",
       "    </tr>\n",
       "    <tr>\n",
       "      <th>...</th>\n",
       "      <td>...</td>\n",
       "      <td>...</td>\n",
       "    </tr>\n",
       "    <tr>\n",
       "      <th>1371975</th>\n",
       "      <td>18446630855572834764</td>\n",
       "      <td>0</td>\n",
       "    </tr>\n",
       "    <tr>\n",
       "      <th>1371976</th>\n",
       "      <td>18446662237889060501</td>\n",
       "      <td>2</td>\n",
       "    </tr>\n",
       "    <tr>\n",
       "      <th>1371977</th>\n",
       "      <td>18446705133201055310</td>\n",
       "      <td>0</td>\n",
       "    </tr>\n",
       "    <tr>\n",
       "      <th>1371978</th>\n",
       "      <td>18446723086055369602</td>\n",
       "      <td>2</td>\n",
       "    </tr>\n",
       "    <tr>\n",
       "      <th>1371979</th>\n",
       "      <td>18446737527580148316</td>\n",
       "      <td>1</td>\n",
       "    </tr>\n",
       "  </tbody>\n",
       "</table>\n",
       "<p>1371980 rows × 2 columns</p>\n",
       "</div>"
      ],
      "text/plain": [
       "                  customer_id  most_present_gender_in_area\n",
       "0               4245900472157                            2\n",
       "1              23962613628581                            0\n",
       "2              25398598941468                            2\n",
       "3              28847241659200                            2\n",
       "4              41046458195168                            2\n",
       "...                       ...                          ...\n",
       "1371975  18446630855572834764                            0\n",
       "1371976  18446662237889060501                            2\n",
       "1371977  18446705133201055310                            0\n",
       "1371978  18446723086055369602                            2\n",
       "1371979  18446737527580148316                            1\n",
       "\n",
       "[1371980 rows x 2 columns]"
      ]
     },
     "execution_count": 9,
     "metadata": {},
     "output_type": "execute_result"
    }
   ],
   "source": [
    "#identification of the gender group that is the most present in a specific geographic area\n",
    "most_present_gender = customers.groupby(['customer_id', 'postal_code', 'numerical_gender']).size().reset_index(name='count')\n",
    "idx = most_present_gender.groupby(['customer_id', 'postal_code'])['count'].transform(max) == most_present_gender['count']\n",
    "most_present_gender = most_present_gender[idx][['customer_id', 'postal_code', 'numerical_gender']]\n",
    "most_present_gender = most_present_gender.rename(columns = {'numerical_gender': 'most_present_gender_in_area'})\n",
    "most_present_gender.drop(columns = 'postal_code', inplace = True)\n",
    "most_present_gender"
   ]
  },
  {
   "cell_type": "code",
   "execution_count": 10,
   "metadata": {
    "execution": {
     "iopub.execute_input": "2023-12-05T08:35:17.755950Z",
     "iopub.status.busy": "2023-12-05T08:35:17.755728Z",
     "iopub.status.idle": "2023-12-05T08:35:18.735468Z",
     "shell.execute_reply": "2023-12-05T08:35:18.734739Z",
     "shell.execute_reply.started": "2023-12-05T08:35:17.755922Z"
    }
   },
   "outputs": [
    {
     "data": {
      "text/html": [
       "<div>\n",
       "<style scoped>\n",
       "    .dataframe tbody tr th:only-of-type {\n",
       "        vertical-align: middle;\n",
       "    }\n",
       "\n",
       "    .dataframe tbody tr th {\n",
       "        vertical-align: top;\n",
       "    }\n",
       "\n",
       "    .dataframe thead th {\n",
       "        text-align: right;\n",
       "    }\n",
       "</style>\n",
       "<table border=\"1\" class=\"dataframe\">\n",
       "  <thead>\n",
       "    <tr style=\"text-align: right;\">\n",
       "      <th></th>\n",
       "      <th>customer_id</th>\n",
       "      <th>median_age_area</th>\n",
       "    </tr>\n",
       "  </thead>\n",
       "  <tbody>\n",
       "    <tr>\n",
       "      <th>0</th>\n",
       "      <td>4245900472157</td>\n",
       "      <td>21.0</td>\n",
       "    </tr>\n",
       "    <tr>\n",
       "      <th>1</th>\n",
       "      <td>23962613628581</td>\n",
       "      <td>34.0</td>\n",
       "    </tr>\n",
       "    <tr>\n",
       "      <th>2</th>\n",
       "      <td>25398598941468</td>\n",
       "      <td>21.0</td>\n",
       "    </tr>\n",
       "    <tr>\n",
       "      <th>3</th>\n",
       "      <td>28847241659200</td>\n",
       "      <td>21.0</td>\n",
       "    </tr>\n",
       "    <tr>\n",
       "      <th>4</th>\n",
       "      <td>41046458195168</td>\n",
       "      <td>18.0</td>\n",
       "    </tr>\n",
       "    <tr>\n",
       "      <th>...</th>\n",
       "      <td>...</td>\n",
       "      <td>...</td>\n",
       "    </tr>\n",
       "    <tr>\n",
       "      <th>1371975</th>\n",
       "      <td>18446630855572834764</td>\n",
       "      <td>33.0</td>\n",
       "    </tr>\n",
       "    <tr>\n",
       "      <th>1371976</th>\n",
       "      <td>18446662237889060501</td>\n",
       "      <td>75.0</td>\n",
       "    </tr>\n",
       "    <tr>\n",
       "      <th>1371977</th>\n",
       "      <td>18446705133201055310</td>\n",
       "      <td>60.0</td>\n",
       "    </tr>\n",
       "    <tr>\n",
       "      <th>1371978</th>\n",
       "      <td>18446723086055369602</td>\n",
       "      <td>33.0</td>\n",
       "    </tr>\n",
       "    <tr>\n",
       "      <th>1371979</th>\n",
       "      <td>18446737527580148316</td>\n",
       "      <td>60.0</td>\n",
       "    </tr>\n",
       "  </tbody>\n",
       "</table>\n",
       "<p>1371980 rows × 2 columns</p>\n",
       "</div>"
      ],
      "text/plain": [
       "                  customer_id  median_age_area\n",
       "0               4245900472157             21.0\n",
       "1              23962613628581             34.0\n",
       "2              25398598941468             21.0\n",
       "3              28847241659200             21.0\n",
       "4              41046458195168             18.0\n",
       "...                       ...              ...\n",
       "1371975  18446630855572834764             33.0\n",
       "1371976  18446662237889060501             75.0\n",
       "1371977  18446705133201055310             60.0\n",
       "1371978  18446723086055369602             33.0\n",
       "1371979  18446737527580148316             60.0\n",
       "\n",
       "[1371980 rows x 2 columns]"
      ]
     },
     "execution_count": 10,
     "metadata": {},
     "output_type": "execute_result"
    }
   ],
   "source": [
    "#identification of the medium age for geographic area\n",
    "median_age = customers.groupby(['customer_id', 'postal_code'])['age'].median().reset_index(name = 'median_age_area')\n",
    "median_age.drop(columns = 'postal_code', inplace = True)\n",
    "median_age"
   ]
  },
  {
   "cell_type": "code",
   "execution_count": 11,
   "metadata": {
    "execution": {
     "iopub.execute_input": "2023-12-05T08:35:18.736488Z",
     "iopub.status.busy": "2023-12-05T08:35:18.736302Z",
     "iopub.status.idle": "2023-12-05T08:35:23.981621Z",
     "shell.execute_reply": "2023-12-05T08:35:23.980978Z",
     "shell.execute_reply.started": "2023-12-05T08:35:18.736463Z"
    }
   },
   "outputs": [
    {
     "data": {
      "text/plain": [
       "Index(['t_dat', 'customer_id', 'article_id', 'price', 'sales_channel_id',\n",
       "       'week', 'mean price purchases', 'most_present_gender_in_area',\n",
       "       'median_age_area'],\n",
       "      dtype='object')"
      ]
     },
     "execution_count": 11,
     "metadata": {},
     "output_type": "execute_result"
    }
   ],
   "source": [
    "candidates_definitive = pd.merge(candidates_last_purchase_2020, mean_price_purchases, on = 'customer_id') #merge of values of mean fo the purchases\n",
    "candidates_definitive = pd.merge(candidates_definitive, most_present_gender, on = 'customer_id') #merge of values of the dominant gender in teh geographic area of the customer\n",
    "candidates_definitive = pd.merge(candidates_definitive, median_age, on = 'customer_id') #merge of values of the dominant gender in teh geographic area of the customer\n",
    "\n",
    "candidates_definitive.columns"
   ]
  },
  {
   "cell_type": "code",
   "execution_count": 12,
   "metadata": {
    "execution": {
     "iopub.execute_input": "2023-12-05T08:35:23.983184Z",
     "iopub.status.busy": "2023-12-05T08:35:23.982566Z",
     "iopub.status.idle": "2023-12-05T08:35:24.426886Z",
     "shell.execute_reply": "2023-12-05T08:35:24.426397Z",
     "shell.execute_reply.started": "2023-12-05T08:35:23.983138Z"
    }
   },
   "outputs": [],
   "source": [
    "candidates_definitive = candidates_definitive.drop_duplicates(subset = 'customer_id')"
   ]
  },
  {
   "cell_type": "code",
   "execution_count": 13,
   "metadata": {
    "execution": {
     "iopub.execute_input": "2023-12-05T08:35:24.428259Z",
     "iopub.status.busy": "2023-12-05T08:35:24.427665Z",
     "iopub.status.idle": "2023-12-05T08:35:24.446335Z",
     "shell.execute_reply": "2023-12-05T08:35:24.445666Z",
     "shell.execute_reply.started": "2023-12-05T08:35:24.428224Z"
    }
   },
   "outputs": [
    {
     "data": {
      "text/html": [
       "<div>\n",
       "<style scoped>\n",
       "    .dataframe tbody tr th:only-of-type {\n",
       "        vertical-align: middle;\n",
       "    }\n",
       "\n",
       "    .dataframe tbody tr th {\n",
       "        vertical-align: top;\n",
       "    }\n",
       "\n",
       "    .dataframe thead th {\n",
       "        text-align: right;\n",
       "    }\n",
       "</style>\n",
       "<table border=\"1\" class=\"dataframe\">\n",
       "  <thead>\n",
       "    <tr style=\"text-align: right;\">\n",
       "      <th></th>\n",
       "      <th>t_dat</th>\n",
       "      <th>customer_id</th>\n",
       "      <th>article_id</th>\n",
       "      <th>price</th>\n",
       "      <th>sales_channel_id</th>\n",
       "      <th>week</th>\n",
       "      <th>mean price purchases</th>\n",
       "      <th>most_present_gender_in_area</th>\n",
       "      <th>median_age_area</th>\n",
       "    </tr>\n",
       "  </thead>\n",
       "  <tbody>\n",
       "    <tr>\n",
       "      <th>0</th>\n",
       "      <td>2020-01-01</td>\n",
       "      <td>4195624216542755</td>\n",
       "      <td>799417004</td>\n",
       "      <td>0.030492</td>\n",
       "      <td>2</td>\n",
       "      <td>68</td>\n",
       "      <td>0.023881</td>\n",
       "      <td>2</td>\n",
       "      <td>56.0</td>\n",
       "    </tr>\n",
       "    <tr>\n",
       "      <th>1</th>\n",
       "      <td>2020-01-01</td>\n",
       "      <td>10296145678877316</td>\n",
       "      <td>682771005</td>\n",
       "      <td>0.015237</td>\n",
       "      <td>2</td>\n",
       "      <td>68</td>\n",
       "      <td>0.019812</td>\n",
       "      <td>2</td>\n",
       "      <td>21.0</td>\n",
       "    </tr>\n",
       "    <tr>\n",
       "      <th>2</th>\n",
       "      <td>2020-01-01</td>\n",
       "      <td>18673653377351162</td>\n",
       "      <td>775077001</td>\n",
       "      <td>0.015237</td>\n",
       "      <td>2</td>\n",
       "      <td>69</td>\n",
       "      <td>0.028413</td>\n",
       "      <td>2</td>\n",
       "      <td>28.0</td>\n",
       "    </tr>\n",
       "    <tr>\n",
       "      <th>3</th>\n",
       "      <td>2020-01-01</td>\n",
       "      <td>25713010999983855</td>\n",
       "      <td>687948001</td>\n",
       "      <td>0.042356</td>\n",
       "      <td>2</td>\n",
       "      <td>71</td>\n",
       "      <td>0.026250</td>\n",
       "      <td>2</td>\n",
       "      <td>22.0</td>\n",
       "    </tr>\n",
       "    <tr>\n",
       "      <th>4</th>\n",
       "      <td>2020-01-01</td>\n",
       "      <td>29659536698466345</td>\n",
       "      <td>777148005</td>\n",
       "      <td>0.050831</td>\n",
       "      <td>2</td>\n",
       "      <td>69</td>\n",
       "      <td>0.052631</td>\n",
       "      <td>0</td>\n",
       "      <td>60.0</td>\n",
       "    </tr>\n",
       "    <tr>\n",
       "      <th>...</th>\n",
       "      <td>...</td>\n",
       "      <td>...</td>\n",
       "      <td>...</td>\n",
       "      <td>...</td>\n",
       "      <td>...</td>\n",
       "      <td>...</td>\n",
       "      <td>...</td>\n",
       "      <td>...</td>\n",
       "      <td>...</td>\n",
       "    </tr>\n",
       "    <tr>\n",
       "      <th>862719</th>\n",
       "      <td>2020-09-22</td>\n",
       "      <td>18409112236320621348</td>\n",
       "      <td>860833002</td>\n",
       "      <td>0.025407</td>\n",
       "      <td>2</td>\n",
       "      <td>105</td>\n",
       "      <td>0.029644</td>\n",
       "      <td>2</td>\n",
       "      <td>21.0</td>\n",
       "    </tr>\n",
       "    <tr>\n",
       "      <th>862720</th>\n",
       "      <td>2020-09-22</td>\n",
       "      <td>18417769707947924979</td>\n",
       "      <td>729860001</td>\n",
       "      <td>0.022017</td>\n",
       "      <td>2</td>\n",
       "      <td>105</td>\n",
       "      <td>0.019475</td>\n",
       "      <td>2</td>\n",
       "      <td>40.0</td>\n",
       "    </tr>\n",
       "    <tr>\n",
       "      <th>862721</th>\n",
       "      <td>2020-09-22</td>\n",
       "      <td>18418054986721795659</td>\n",
       "      <td>873279003</td>\n",
       "      <td>0.042356</td>\n",
       "      <td>2</td>\n",
       "      <td>105</td>\n",
       "      <td>0.042356</td>\n",
       "      <td>0</td>\n",
       "      <td>28.0</td>\n",
       "    </tr>\n",
       "    <tr>\n",
       "      <th>862722</th>\n",
       "      <td>2020-09-22</td>\n",
       "      <td>18421175435799911749</td>\n",
       "      <td>863583001</td>\n",
       "      <td>0.033881</td>\n",
       "      <td>2</td>\n",
       "      <td>105</td>\n",
       "      <td>0.033881</td>\n",
       "      <td>2</td>\n",
       "      <td>28.0</td>\n",
       "    </tr>\n",
       "    <tr>\n",
       "      <th>862723</th>\n",
       "      <td>2020-09-22</td>\n",
       "      <td>18438270306572912089</td>\n",
       "      <td>751471043</td>\n",
       "      <td>0.033881</td>\n",
       "      <td>1</td>\n",
       "      <td>105</td>\n",
       "      <td>0.033881</td>\n",
       "      <td>0</td>\n",
       "      <td>71.0</td>\n",
       "    </tr>\n",
       "  </tbody>\n",
       "</table>\n",
       "<p>862724 rows × 9 columns</p>\n",
       "</div>"
      ],
      "text/plain": [
       "            t_dat           customer_id  article_id     price  \\\n",
       "0      2020-01-01      4195624216542755   799417004  0.030492   \n",
       "1      2020-01-01     10296145678877316   682771005  0.015237   \n",
       "2      2020-01-01     18673653377351162   775077001  0.015237   \n",
       "3      2020-01-01     25713010999983855   687948001  0.042356   \n",
       "4      2020-01-01     29659536698466345   777148005  0.050831   \n",
       "...           ...                   ...         ...       ...   \n",
       "862719 2020-09-22  18409112236320621348   860833002  0.025407   \n",
       "862720 2020-09-22  18417769707947924979   729860001  0.022017   \n",
       "862721 2020-09-22  18418054986721795659   873279003  0.042356   \n",
       "862722 2020-09-22  18421175435799911749   863583001  0.033881   \n",
       "862723 2020-09-22  18438270306572912089   751471043  0.033881   \n",
       "\n",
       "        sales_channel_id  week  mean price purchases  \\\n",
       "0                      2    68              0.023881   \n",
       "1                      2    68              0.019812   \n",
       "2                      2    69              0.028413   \n",
       "3                      2    71              0.026250   \n",
       "4                      2    69              0.052631   \n",
       "...                  ...   ...                   ...   \n",
       "862719                 2   105              0.029644   \n",
       "862720                 2   105              0.019475   \n",
       "862721                 2   105              0.042356   \n",
       "862722                 2   105              0.033881   \n",
       "862723                 1   105              0.033881   \n",
       "\n",
       "        most_present_gender_in_area  median_age_area  \n",
       "0                                 2             56.0  \n",
       "1                                 2             21.0  \n",
       "2                                 2             28.0  \n",
       "3                                 2             22.0  \n",
       "4                                 0             60.0  \n",
       "...                             ...              ...  \n",
       "862719                            2             21.0  \n",
       "862720                            2             40.0  \n",
       "862721                            0             28.0  \n",
       "862722                            2             28.0  \n",
       "862723                            0             71.0  \n",
       "\n",
       "[862724 rows x 9 columns]"
      ]
     },
     "execution_count": 13,
     "metadata": {},
     "output_type": "execute_result"
    }
   ],
   "source": [
    "#dataset about candidates in the analyzed period\n",
    "candidates_definitive.reset_index(drop = True, inplace = True)\n",
    "candidates_definitive"
   ]
  },
  {
   "cell_type": "code",
   "execution_count": 14,
   "metadata": {
    "execution": {
     "iopub.execute_input": "2023-12-05T08:35:24.448770Z",
     "iopub.status.busy": "2023-12-05T08:35:24.448580Z",
     "iopub.status.idle": "2023-12-05T08:35:25.040812Z",
     "shell.execute_reply": "2023-12-05T08:35:25.040026Z",
     "shell.execute_reply.started": "2023-12-05T08:35:24.448747Z"
    }
   },
   "outputs": [
    {
     "data": {
      "text/html": [
       "<div>\n",
       "<style scoped>\n",
       "    .dataframe tbody tr th:only-of-type {\n",
       "        vertical-align: middle;\n",
       "    }\n",
       "\n",
       "    .dataframe tbody tr th {\n",
       "        vertical-align: top;\n",
       "    }\n",
       "\n",
       "    .dataframe thead th {\n",
       "        text-align: right;\n",
       "    }\n",
       "</style>\n",
       "<table border=\"1\" class=\"dataframe\">\n",
       "  <thead>\n",
       "    <tr style=\"text-align: right;\">\n",
       "      <th></th>\n",
       "      <th>t_dat</th>\n",
       "      <th>customer_id</th>\n",
       "      <th>article_id</th>\n",
       "      <th>price</th>\n",
       "      <th>sales_channel_id</th>\n",
       "      <th>week</th>\n",
       "    </tr>\n",
       "  </thead>\n",
       "  <tbody>\n",
       "    <tr>\n",
       "      <th>0</th>\n",
       "      <td>2020-01-01</td>\n",
       "      <td>4195624216542755</td>\n",
       "      <td>799417004</td>\n",
       "      <td>0.030492</td>\n",
       "      <td>2</td>\n",
       "      <td>67</td>\n",
       "    </tr>\n",
       "    <tr>\n",
       "      <th>1</th>\n",
       "      <td>2020-01-01</td>\n",
       "      <td>10296145678877316</td>\n",
       "      <td>682771005</td>\n",
       "      <td>0.015237</td>\n",
       "      <td>2</td>\n",
       "      <td>67</td>\n",
       "    </tr>\n",
       "    <tr>\n",
       "      <th>2</th>\n",
       "      <td>2020-01-01</td>\n",
       "      <td>18673653377351162</td>\n",
       "      <td>775077001</td>\n",
       "      <td>0.015237</td>\n",
       "      <td>2</td>\n",
       "      <td>67</td>\n",
       "    </tr>\n",
       "    <tr>\n",
       "      <th>3</th>\n",
       "      <td>2020-01-01</td>\n",
       "      <td>25713010999983855</td>\n",
       "      <td>687948001</td>\n",
       "      <td>0.042356</td>\n",
       "      <td>2</td>\n",
       "      <td>67</td>\n",
       "    </tr>\n",
       "    <tr>\n",
       "      <th>4</th>\n",
       "      <td>2020-01-01</td>\n",
       "      <td>29659536698466345</td>\n",
       "      <td>777148005</td>\n",
       "      <td>0.050831</td>\n",
       "      <td>2</td>\n",
       "      <td>67</td>\n",
       "    </tr>\n",
       "    <tr>\n",
       "      <th>...</th>\n",
       "      <td>...</td>\n",
       "      <td>...</td>\n",
       "      <td>...</td>\n",
       "      <td>...</td>\n",
       "      <td>...</td>\n",
       "      <td>...</td>\n",
       "    </tr>\n",
       "    <tr>\n",
       "      <th>862719</th>\n",
       "      <td>2020-09-22</td>\n",
       "      <td>18409112236320621348</td>\n",
       "      <td>860833002</td>\n",
       "      <td>0.025407</td>\n",
       "      <td>2</td>\n",
       "      <td>104</td>\n",
       "    </tr>\n",
       "    <tr>\n",
       "      <th>862720</th>\n",
       "      <td>2020-09-22</td>\n",
       "      <td>18417769707947924979</td>\n",
       "      <td>729860001</td>\n",
       "      <td>0.022017</td>\n",
       "      <td>2</td>\n",
       "      <td>104</td>\n",
       "    </tr>\n",
       "    <tr>\n",
       "      <th>862721</th>\n",
       "      <td>2020-09-22</td>\n",
       "      <td>18418054986721795659</td>\n",
       "      <td>873279003</td>\n",
       "      <td>0.042356</td>\n",
       "      <td>2</td>\n",
       "      <td>104</td>\n",
       "    </tr>\n",
       "    <tr>\n",
       "      <th>862722</th>\n",
       "      <td>2020-09-22</td>\n",
       "      <td>18421175435799911749</td>\n",
       "      <td>863583001</td>\n",
       "      <td>0.033881</td>\n",
       "      <td>2</td>\n",
       "      <td>104</td>\n",
       "    </tr>\n",
       "    <tr>\n",
       "      <th>862723</th>\n",
       "      <td>2020-09-22</td>\n",
       "      <td>18438270306572912089</td>\n",
       "      <td>751471043</td>\n",
       "      <td>0.033881</td>\n",
       "      <td>1</td>\n",
       "      <td>104</td>\n",
       "    </tr>\n",
       "  </tbody>\n",
       "</table>\n",
       "<p>862724 rows × 6 columns</p>\n",
       "</div>"
      ],
      "text/plain": [
       "            t_dat           customer_id  article_id     price  \\\n",
       "0      2020-01-01      4195624216542755   799417004  0.030492   \n",
       "1      2020-01-01     10296145678877316   682771005  0.015237   \n",
       "2      2020-01-01     18673653377351162   775077001  0.015237   \n",
       "3      2020-01-01     25713010999983855   687948001  0.042356   \n",
       "4      2020-01-01     29659536698466345   777148005  0.050831   \n",
       "...           ...                   ...         ...       ...   \n",
       "862719 2020-09-22  18409112236320621348   860833002  0.025407   \n",
       "862720 2020-09-22  18417769707947924979   729860001  0.022017   \n",
       "862721 2020-09-22  18418054986721795659   873279003  0.042356   \n",
       "862722 2020-09-22  18421175435799911749   863583001  0.033881   \n",
       "862723 2020-09-22  18438270306572912089   751471043  0.033881   \n",
       "\n",
       "        sales_channel_id  week  \n",
       "0                      2    67  \n",
       "1                      2    67  \n",
       "2                      2    67  \n",
       "3                      2    67  \n",
       "4                      2    67  \n",
       "...                  ...   ...  \n",
       "862719                 2   104  \n",
       "862720                 2   104  \n",
       "862721                 2   104  \n",
       "862722                 2   104  \n",
       "862723                 1   104  \n",
       "\n",
       "[862724 rows x 6 columns]"
      ]
     },
     "execution_count": 14,
     "metadata": {},
     "output_type": "execute_result"
    }
   ],
   "source": [
    "#test set about transactions\n",
    "test_set_transactions = filtered_transactions.drop_duplicates('customer_id')\n",
    "test_set_transactions.reset_index(drop = True, inplace = True)\n",
    "test_set_transactions"
   ]
  },
  {
   "cell_type": "code",
   "execution_count": 15,
   "metadata": {
    "execution": {
     "iopub.execute_input": "2023-12-05T08:35:25.041956Z",
     "iopub.status.busy": "2023-12-05T08:35:25.041773Z",
     "iopub.status.idle": "2023-12-05T08:35:28.194644Z",
     "shell.execute_reply": "2023-12-05T08:35:28.193919Z",
     "shell.execute_reply.started": "2023-12-05T08:35:25.041933Z"
    }
   },
   "outputs": [],
   "source": [
    "#bestsellers for 2020\n",
    "mean_price = filtered_transactions \\\n",
    "    .groupby(['week', 'article_id'])['price'].mean()\n",
    "\n",
    "sales = filtered_transactions \\\n",
    "    .groupby('week')['article_id'].value_counts() \\\n",
    "    .groupby('week').rank(method='dense', ascending=False) \\\n",
    "    .groupby('week').head(50).rename('bestseller_rank').astype('int8')\n",
    "\n",
    "bestsellers_2020 = pd.merge(sales, mean_price, on=['week', 'article_id']).reset_index()"
   ]
  },
  {
   "cell_type": "markdown",
   "metadata": {},
   "source": [
    "# Combining transactions and candidates / negative examples"
   ]
  },
  {
   "cell_type": "markdown",
   "metadata": {},
   "source": [
    "##### Images to create negative candidates"
   ]
  },
  {
   "cell_type": "code",
   "execution_count": 16,
   "metadata": {
    "execution": {
     "iopub.execute_input": "2023-12-05T08:35:28.195910Z",
     "iopub.status.busy": "2023-12-05T08:35:28.195663Z",
     "iopub.status.idle": "2023-12-05T08:35:28.199701Z",
     "shell.execute_reply": "2023-12-05T08:35:28.198987Z",
     "shell.execute_reply.started": "2023-12-05T08:35:28.195878Z"
    }
   },
   "outputs": [],
   "source": [
    "#print(bestsellers_2020[bestsellers_2020['bestseller_rank'] == 1]) #first bestseller for each considered week"
   ]
  },
  {
   "cell_type": "code",
   "execution_count": 17,
   "metadata": {
    "execution": {
     "iopub.execute_input": "2023-12-05T08:35:28.200752Z",
     "iopub.status.busy": "2023-12-05T08:35:28.200572Z",
     "iopub.status.idle": "2023-12-05T08:35:28.213945Z",
     "shell.execute_reply": "2023-12-05T08:35:28.213243Z",
     "shell.execute_reply.started": "2023-12-05T08:35:28.200730Z"
    }
   },
   "outputs": [
    {
     "data": {
      "text/plain": [
       "0      736870005\n",
       "1      746775001\n",
       "2      720125001\n",
       "3      831211001\n",
       "4      706016001\n",
       "         ...    \n",
       "186    924243001\n",
       "187    924243002\n",
       "188    918522001\n",
       "189    923758001\n",
       "190    866731001\n",
       "Name: article_id, Length: 191, dtype: int64"
      ]
     },
     "execution_count": 17,
     "metadata": {},
     "output_type": "execute_result"
    }
   ],
   "source": [
    "top_5_bestsellers_article_ref = bestsellers_2020['article_id'][bestsellers_2020['bestseller_rank'].between(1, 5)]\n",
    "top_5_bestsellers_article_ref = top_5_bestsellers_article_ref.reset_index(drop = True)\n",
    "#top_5_bestsellers_article_ref = pd.DataFrame(top_5_bestsellers_article_ref)\n",
    "top_5_bestsellers_article_ref"
   ]
  },
  {
   "cell_type": "code",
   "execution_count": 18,
   "metadata": {
    "execution": {
     "iopub.execute_input": "2023-12-05T08:35:28.215107Z",
     "iopub.status.busy": "2023-12-05T08:35:28.214919Z",
     "iopub.status.idle": "2023-12-05T08:35:28.227520Z",
     "shell.execute_reply": "2023-12-05T08:35:28.226625Z",
     "shell.execute_reply.started": "2023-12-05T08:35:28.215081Z"
    }
   },
   "outputs": [
    {
     "data": {
      "text/plain": [
       "0      0736870005\n",
       "1      0746775001\n",
       "2      0720125001\n",
       "3      0831211001\n",
       "4      0706016001\n",
       "          ...    \n",
       "186    0924243001\n",
       "187    0924243002\n",
       "188    0918522001\n",
       "189    0923758001\n",
       "190    0866731001\n",
       "Name: article_id, Length: 191, dtype: object"
      ]
     },
     "execution_count": 18,
     "metadata": {},
     "output_type": "execute_result"
    }
   ],
   "source": [
    "top_5_bestsellers_article_ref = article_id_int_to_str(top_5_bestsellers_article_ref)\n",
    "top_5_bestsellers_article_ref"
   ]
  },
  {
   "cell_type": "code",
   "execution_count": 19,
   "metadata": {
    "execution": {
     "iopub.execute_input": "2023-12-05T08:35:28.228690Z",
     "iopub.status.busy": "2023-12-05T08:35:28.228490Z",
     "iopub.status.idle": "2023-12-05T08:37:56.573934Z",
     "shell.execute_reply": "2023-12-05T08:37:56.573192Z",
     "shell.execute_reply.started": "2023-12-05T08:35:28.228668Z"
    }
   },
   "outputs": [],
   "source": [
    "import os \n",
    "\n",
    "directory = '../input/h-and-m-personalized-fashion-recommendations/images'\n",
    "found_images_5bestsellers = []\n",
    "\n",
    "for root, dirs, files in os.walk(directory):\n",
    "    for file in files:\n",
    "        article_id = file.split('.')[0].strip().lower()\n",
    "        if article_id in [x.strip().lower() for x in top_5_bestsellers_article_ref]:\n",
    "            found_images_5bestsellers.append(article_id)"
   ]
  },
  {
   "cell_type": "code",
   "execution_count": 20,
   "metadata": {
    "execution": {
     "iopub.execute_input": "2023-12-05T08:37:56.575217Z",
     "iopub.status.busy": "2023-12-05T08:37:56.575021Z",
     "iopub.status.idle": "2023-12-05T08:37:56.582952Z",
     "shell.execute_reply": "2023-12-05T08:37:56.582209Z",
     "shell.execute_reply.started": "2023-12-05T08:37:56.575194Z"
    }
   },
   "outputs": [
    {
     "data": {
      "text/plain": [
       "0       0736870005\n",
       "1       0746775001\n",
       "2       0720125001\n",
       "3       0831211001\n",
       "4       0706016001\n",
       "           ...    \n",
       "1895    0911699002\n",
       "1896    0923340001\n",
       "1897    0904571001\n",
       "1898    0896169002\n",
       "1899    0881942001\n",
       "Name: article_id, Length: 1900, dtype: object"
      ]
     },
     "execution_count": 20,
     "metadata": {},
     "output_type": "execute_result"
    }
   ],
   "source": [
    "bestsellers_2020_str = article_id_int_to_str(bestsellers_2020['article_id'])\n",
    "bestsellers_2020_str"
   ]
  },
  {
   "cell_type": "code",
   "execution_count": 21,
   "metadata": {
    "execution": {
     "iopub.execute_input": "2023-12-05T08:37:56.584038Z",
     "iopub.status.busy": "2023-12-05T08:37:56.583878Z",
     "iopub.status.idle": "2023-12-05T08:38:59.594916Z",
     "shell.execute_reply": "2023-12-05T08:38:59.594225Z",
     "shell.execute_reply.started": "2023-12-05T08:37:56.584017Z"
    }
   },
   "outputs": [],
   "source": [
    "matching_article_ids_2020 = []\n",
    "\n",
    "for root, dirs, files in os.walk(directory):\n",
    "    for file in files:\n",
    "        article_id = file.split('.')[0].strip().lower()\n",
    "        if article_id in [x.strip().lower() for x in bestsellers_2020_str]:\n",
    "            matching_article_ids_2020.append(article_id)"
   ]
  },
  {
   "cell_type": "code",
   "execution_count": 22,
   "metadata": {
    "execution": {
     "iopub.execute_input": "2023-12-05T08:38:59.596075Z",
     "iopub.status.busy": "2023-12-05T08:38:59.595868Z",
     "iopub.status.idle": "2023-12-05T08:38:59.601164Z",
     "shell.execute_reply": "2023-12-05T08:38:59.600528Z",
     "shell.execute_reply.started": "2023-12-05T08:38:59.596047Z"
    }
   },
   "outputs": [
    {
     "data": {
      "text/plain": [
       "'directory = \\'/kaggle/input/h-and-m-personalized-fashion-recommendations/images\\'\\n\\nimage_count = 0\\n\\nfor root, dirs, files in os.walk(directory):\\n    for file in files:\\n        # Check if the file is an image (you can customize the extension list)\\n        if file.lower().endswith((\\'.jpg\\')):\\n            image_count += 1\\n\\nprint(f\"Total number of images in {directory} and its subdirectories: {image_count}\")'"
      ]
     },
     "execution_count": 22,
     "metadata": {},
     "output_type": "execute_result"
    }
   ],
   "source": [
    "'''directory = '/kaggle/input/h-and-m-personalized-fashion-recommendations/images'\n",
    "\n",
    "image_count = 0\n",
    "\n",
    "for root, dirs, files in os.walk(directory):\n",
    "    for file in files:\n",
    "        # Check if the file is an image (you can customize the extension list)\n",
    "        if file.lower().endswith(('.jpg')):\n",
    "            image_count += 1\n",
    "\n",
    "print(f\"Total number of images in {directory} and its subdirectories: {image_count}\")'''"
   ]
  },
  {
   "cell_type": "code",
   "execution_count": 23,
   "metadata": {
    "execution": {
     "iopub.execute_input": "2023-12-05T08:38:59.602769Z",
     "iopub.status.busy": "2023-12-05T08:38:59.602427Z",
     "iopub.status.idle": "2023-12-05T08:38:59.616865Z",
     "shell.execute_reply": "2023-12-05T08:38:59.616212Z",
     "shell.execute_reply.started": "2023-12-05T08:38:59.602739Z"
    }
   },
   "outputs": [
    {
     "name": "stdout",
     "output_type": "stream",
     "text": [
      "Total number of unique articles in bestsellers_2020_str: 792\n",
      "Total number of unique articles in top_5_bestsellers_article_ref: 111\n"
     ]
    }
   ],
   "source": [
    "#unique elements of bestsellers_2020_str and top_5_bestsellers_article_ref\n",
    "unique_article_count_bestsellers_2020 = len(set(bestsellers_2020_str))\n",
    "unique_article_count_5_bestsellers = len(set(top_5_bestsellers_article_ref))\n",
    "\n",
    "print(f\"Total number of unique articles in bestsellers_2020_str: {unique_article_count_bestsellers_2020}\")\n",
    "print(f\"Total number of unique articles in top_5_bestsellers_article_ref: {unique_article_count_5_bestsellers}\")"
   ]
  },
  {
   "cell_type": "code",
   "execution_count": 24,
   "metadata": {
    "execution": {
     "iopub.execute_input": "2023-12-05T08:38:59.618393Z",
     "iopub.status.busy": "2023-12-05T08:38:59.617846Z",
     "iopub.status.idle": "2023-12-05T08:38:59.626479Z",
     "shell.execute_reply": "2023-12-05T08:38:59.625803Z",
     "shell.execute_reply.started": "2023-12-05T08:38:59.618358Z"
    }
   },
   "outputs": [],
   "source": [
    "#remove of duplicate elements from the arrays\n",
    "found_images_5bestsellers = set(found_images_5bestsellers)\n",
    "matching_article_ids_2020 = set(matching_article_ids_2020)"
   ]
  },
  {
   "cell_type": "code",
   "execution_count": 25,
   "metadata": {
    "execution": {
     "iopub.execute_input": "2023-12-05T08:38:59.627728Z",
     "iopub.status.busy": "2023-12-05T08:38:59.627486Z",
     "iopub.status.idle": "2023-12-05T08:39:05.463238Z",
     "shell.execute_reply": "2023-12-05T08:39:05.462531Z",
     "shell.execute_reply.started": "2023-12-05T08:38:59.627696Z"
    }
   },
   "outputs": [
    {
     "name": "stdout",
     "output_type": "stream",
     "text": [
      "Downloading data from https://storage.googleapis.com/tensorflow/keras-applications/vgg16/vgg16_weights_tf_dim_ordering_tf_kernels_notop.h5\n",
      "58892288/58889256 [==============================] - 0s 0us/step\n",
      "58900480/58889256 [==============================] - 0s 0us/step\n"
     ]
    }
   ],
   "source": [
    "#keeping of only the elements inside my dataset bestsellers_2020 with an image that is similar to the other images of the bestseller articles\n",
    "\n",
    "import numpy as np\n",
    "from tensorflow.keras.applications.vgg16 import VGG16, preprocess_input\n",
    "from tensorflow.keras.preprocessing import image\n",
    "from sklearn.metrics.pairwise import cosine_similarity\n",
    "\n",
    "model = VGG16(weights = 'imagenet', include_top = False)\n",
    "\n",
    "def extract_features(image_path):\n",
    "    img = image.load_img(image_path, target_size = (224, 224))\n",
    "    img_array = image.img_to_array(img)\n",
    "    img_array = np.expand_dims(img_array, axis = 0)\n",
    "    img_array = preprocess_input(img_array)\n",
    "    features = model.predict(img_array)\n",
    "    return features.flatten()"
   ]
  },
  {
   "cell_type": "code",
   "execution_count": 26,
   "metadata": {
    "execution": {
     "iopub.execute_input": "2023-12-05T08:39:05.464331Z",
     "iopub.status.busy": "2023-12-05T08:39:05.464132Z",
     "iopub.status.idle": "2023-12-05T08:39:05.473357Z",
     "shell.execute_reply": "2023-12-05T08:39:05.472623Z",
     "shell.execute_reply.started": "2023-12-05T08:39:05.464309Z"
    }
   },
   "outputs": [
    {
     "data": {
      "text/plain": [
       "'#find the images into the subfolders\\ndef find_images(image_filename, base_folder=\\'/kaggle/input/h-and-m-personalized-fashion-recommendations/images\\'):\\n    for root, dirs, files in os.walk(base_folder):\\n        if image_filename in files:\\n            return os.path.join(root, image_filename)\\n    return None\\n\\n#remove images with low similarity\\ndef remove_similar_images(df, threshold = 0.5):\\n    for image_filename_i in matching_article_ids_2020:\\n        for image_filename_j in matching_article_ids_2020:\\n            if image_filename_i != image_filename_j:\\n                img1_path = find_images(image_filename_i)\\n                img2_path = find_images(image_filename_j)\\n\\n                if img1_path is not None and img2_path is not None:\\n                    features1 = extract_features(img1_path)\\n                    features2 = extract_features(img2_path)\\n\\n                    similarity = cosine_similarity([features1], [features2])[0][0]\\n\\n                    if similarity < threshold:\\n                        print(f\"Removing images: {image_filename_i} and {image_filename_j}\")\\n                        # Assuming \\'Image\\' is the column containing image filenames\\n                        indices_to_remove = df[df[\\'article_id\\'].isin([image_filename_i, image_filename_j])].index\\n                        df.drop(indices_to_remove, inplace=True)\\n    return df\\n\\nbestsellers_2020_def = remove_similar_images(bestsellers_2020[\\'article_id\\'])'"
      ]
     },
     "execution_count": 26,
     "metadata": {},
     "output_type": "execute_result"
    }
   ],
   "source": [
    "#code to delete the images with low similarity \n",
    "'''#find the images into the subfolders\n",
    "def find_images(image_filename, base_folder='/kaggle/input/h-and-m-personalized-fashion-recommendations/images'):\n",
    "    for root, dirs, files in os.walk(base_folder):\n",
    "        if image_filename in files:\n",
    "            return os.path.join(root, image_filename)\n",
    "    return None\n",
    "\n",
    "#remove images with low similarity\n",
    "def remove_similar_images(df, threshold = 0.5):\n",
    "    for image_filename_i in matching_article_ids_2020:\n",
    "        for image_filename_j in matching_article_ids_2020:\n",
    "            if image_filename_i != image_filename_j:\n",
    "                img1_path = find_images(image_filename_i)\n",
    "                img2_path = find_images(image_filename_j)\n",
    "\n",
    "                if img1_path is not None and img2_path is not None:\n",
    "                    features1 = extract_features(img1_path)\n",
    "                    features2 = extract_features(img2_path)\n",
    "\n",
    "                    similarity = cosine_similarity([features1], [features2])[0][0]\n",
    "\n",
    "                    if similarity < threshold:\n",
    "                        print(f\"Removing images: {image_filename_i} and {image_filename_j}\")\n",
    "                        # Assuming 'Image' is the column containing image filenames\n",
    "                        indices_to_remove = df[df['article_id'].isin([image_filename_i, image_filename_j])].index\n",
    "                        df.drop(indices_to_remove, inplace=True)\n",
    "    return df\n",
    "\n",
    "bestsellers_2020_def = remove_similar_images(bestsellers_2020['article_id'])'''"
   ]
  },
  {
   "cell_type": "code",
   "execution_count": 28,
   "metadata": {
    "execution": {
     "iopub.execute_input": "2023-12-05T09:20:07.154894Z",
     "iopub.status.busy": "2023-12-05T09:20:07.154638Z",
     "iopub.status.idle": "2023-12-05T19:04:30.682982Z",
     "shell.execute_reply": "2023-12-05T19:04:30.681663Z",
     "shell.execute_reply.started": "2023-12-05T09:20:07.154865Z"
    }
   },
   "outputs": [
    {
     "ename": "KeyboardInterrupt",
     "evalue": "",
     "output_type": "error",
     "traceback": [
      "\u001b[0;31m---------------------------------------------------------------------------\u001b[0m",
      "\u001b[0;31mKeyboardInterrupt\u001b[0m                         Traceback (most recent call last)",
      "\u001b[0;32m/tmp/ipykernel_17/232256127.py\u001b[0m in \u001b[0;36m<module>\u001b[0;34m\u001b[0m\n\u001b[1;32m     28\u001b[0m     \u001b[0;32mreturn\u001b[0m \u001b[0mdf\u001b[0m\u001b[0;34m\u001b[0m\u001b[0;34m\u001b[0m\u001b[0m\n\u001b[1;32m     29\u001b[0m \u001b[0;34m\u001b[0m\u001b[0m\n\u001b[0;32m---> 30\u001b[0;31m \u001b[0mbestsellers_2020_def\u001b[0m \u001b[0;34m=\u001b[0m \u001b[0mcalculate_similarity\u001b[0m\u001b[0;34m(\u001b[0m\u001b[0mbestsellers_2020\u001b[0m\u001b[0;34m[\u001b[0m\u001b[0;34m:\u001b[0m\u001b[0;36m5\u001b[0m\u001b[0;34m]\u001b[0m\u001b[0;34m)\u001b[0m\u001b[0;34m\u001b[0m\u001b[0;34m\u001b[0m\u001b[0m\n\u001b[0m",
      "\u001b[0;32m/tmp/ipykernel_17/232256127.py\u001b[0m in \u001b[0;36mcalculate_similarity\u001b[0;34m(df)\u001b[0m\n\u001b[1;32m     14\u001b[0m         \u001b[0;32mfor\u001b[0m \u001b[0mimage_filename_j\u001b[0m \u001b[0;32min\u001b[0m \u001b[0mmatching_article_ids_2020\u001b[0m\u001b[0;34m:\u001b[0m\u001b[0;34m\u001b[0m\u001b[0;34m\u001b[0m\u001b[0m\n\u001b[1;32m     15\u001b[0m             \u001b[0;32mif\u001b[0m \u001b[0mimage_filename_i\u001b[0m \u001b[0;34m!=\u001b[0m \u001b[0mimage_filename_j\u001b[0m\u001b[0;34m:\u001b[0m\u001b[0;34m\u001b[0m\u001b[0;34m\u001b[0m\u001b[0m\n\u001b[0;32m---> 16\u001b[0;31m                 \u001b[0mimg1_path\u001b[0m \u001b[0;34m=\u001b[0m \u001b[0mfind_images\u001b[0m\u001b[0;34m(\u001b[0m\u001b[0mimage_filename_i\u001b[0m\u001b[0;34m)\u001b[0m\u001b[0;34m\u001b[0m\u001b[0;34m\u001b[0m\u001b[0m\n\u001b[0m\u001b[1;32m     17\u001b[0m                 \u001b[0mimg2_path\u001b[0m \u001b[0;34m=\u001b[0m \u001b[0mfind_images\u001b[0m\u001b[0;34m(\u001b[0m\u001b[0mimage_filename_j\u001b[0m\u001b[0;34m)\u001b[0m\u001b[0;34m\u001b[0m\u001b[0;34m\u001b[0m\u001b[0m\n\u001b[1;32m     18\u001b[0m \u001b[0;34m\u001b[0m\u001b[0m\n",
      "\u001b[0;32m/tmp/ipykernel_17/232256127.py\u001b[0m in \u001b[0;36mfind_images\u001b[0;34m(image_filename, base_folder)\u001b[0m\n\u001b[1;32m      3\u001b[0m \u001b[0;31m# Find images in subfolders\u001b[0m\u001b[0;34m\u001b[0m\u001b[0;34m\u001b[0m\u001b[0;34m\u001b[0m\u001b[0m\n\u001b[1;32m      4\u001b[0m \u001b[0;32mdef\u001b[0m \u001b[0mfind_images\u001b[0m\u001b[0;34m(\u001b[0m\u001b[0mimage_filename\u001b[0m\u001b[0;34m,\u001b[0m \u001b[0mbase_folder\u001b[0m\u001b[0;34m=\u001b[0m\u001b[0;34m'/kaggle/input/h-and-m-personalized-fashion-recommendations/images'\u001b[0m\u001b[0;34m)\u001b[0m\u001b[0;34m:\u001b[0m\u001b[0;34m\u001b[0m\u001b[0;34m\u001b[0m\u001b[0m\n\u001b[0;32m----> 5\u001b[0;31m     \u001b[0;32mfor\u001b[0m \u001b[0mroot\u001b[0m\u001b[0;34m,\u001b[0m \u001b[0mdirs\u001b[0m\u001b[0;34m,\u001b[0m \u001b[0mfiles\u001b[0m \u001b[0;32min\u001b[0m \u001b[0mos\u001b[0m\u001b[0;34m.\u001b[0m\u001b[0mwalk\u001b[0m\u001b[0;34m(\u001b[0m\u001b[0mbase_folder\u001b[0m\u001b[0;34m)\u001b[0m\u001b[0;34m:\u001b[0m\u001b[0;34m\u001b[0m\u001b[0;34m\u001b[0m\u001b[0m\n\u001b[0m\u001b[1;32m      6\u001b[0m         \u001b[0;32mif\u001b[0m \u001b[0mimage_filename\u001b[0m \u001b[0;32min\u001b[0m \u001b[0mfiles\u001b[0m\u001b[0;34m:\u001b[0m\u001b[0;34m\u001b[0m\u001b[0;34m\u001b[0m\u001b[0m\n\u001b[1;32m      7\u001b[0m             \u001b[0;32mreturn\u001b[0m \u001b[0mos\u001b[0m\u001b[0;34m.\u001b[0m\u001b[0mpath\u001b[0m\u001b[0;34m.\u001b[0m\u001b[0mjoin\u001b[0m\u001b[0;34m(\u001b[0m\u001b[0mroot\u001b[0m\u001b[0;34m,\u001b[0m \u001b[0mimage_filename\u001b[0m\u001b[0;34m)\u001b[0m\u001b[0;34m\u001b[0m\u001b[0;34m\u001b[0m\u001b[0m\n",
      "\u001b[0;32m/opt/conda/lib/python3.7/os.py\u001b[0m in \u001b[0;36mwalk\u001b[0;34m(top, topdown, onerror, followlinks)\u001b[0m\n\u001b[1;32m    411\u001b[0m             \u001b[0;31m# above.\u001b[0m\u001b[0;34m\u001b[0m\u001b[0;34m\u001b[0m\u001b[0;34m\u001b[0m\u001b[0m\n\u001b[1;32m    412\u001b[0m             \u001b[0;32mif\u001b[0m \u001b[0mfollowlinks\u001b[0m \u001b[0;32mor\u001b[0m \u001b[0;32mnot\u001b[0m \u001b[0mislink\u001b[0m\u001b[0;34m(\u001b[0m\u001b[0mnew_path\u001b[0m\u001b[0;34m)\u001b[0m\u001b[0;34m:\u001b[0m\u001b[0;34m\u001b[0m\u001b[0;34m\u001b[0m\u001b[0m\n\u001b[0;32m--> 413\u001b[0;31m                 \u001b[0;32myield\u001b[0m \u001b[0;32mfrom\u001b[0m \u001b[0mwalk\u001b[0m\u001b[0;34m(\u001b[0m\u001b[0mnew_path\u001b[0m\u001b[0;34m,\u001b[0m \u001b[0mtopdown\u001b[0m\u001b[0;34m,\u001b[0m \u001b[0monerror\u001b[0m\u001b[0;34m,\u001b[0m \u001b[0mfollowlinks\u001b[0m\u001b[0;34m)\u001b[0m\u001b[0;34m\u001b[0m\u001b[0;34m\u001b[0m\u001b[0m\n\u001b[0m\u001b[1;32m    414\u001b[0m     \u001b[0;32melse\u001b[0m\u001b[0;34m:\u001b[0m\u001b[0;34m\u001b[0m\u001b[0;34m\u001b[0m\u001b[0m\n\u001b[1;32m    415\u001b[0m         \u001b[0;31m# Recurse into sub-directories\u001b[0m\u001b[0;34m\u001b[0m\u001b[0;34m\u001b[0m\u001b[0;34m\u001b[0m\u001b[0m\n",
      "\u001b[0;32m/opt/conda/lib/python3.7/os.py\u001b[0m in \u001b[0;36mwalk\u001b[0;34m(top, topdown, onerror, followlinks)\u001b[0m\n\u001b[1;32m    369\u001b[0m \u001b[0;34m\u001b[0m\u001b[0m\n\u001b[1;32m    370\u001b[0m             \u001b[0;32mtry\u001b[0m\u001b[0;34m:\u001b[0m\u001b[0;34m\u001b[0m\u001b[0;34m\u001b[0m\u001b[0m\n\u001b[0;32m--> 371\u001b[0;31m                 \u001b[0mis_dir\u001b[0m \u001b[0;34m=\u001b[0m \u001b[0mentry\u001b[0m\u001b[0;34m.\u001b[0m\u001b[0mis_dir\u001b[0m\u001b[0;34m(\u001b[0m\u001b[0;34m)\u001b[0m\u001b[0;34m\u001b[0m\u001b[0;34m\u001b[0m\u001b[0m\n\u001b[0m\u001b[1;32m    372\u001b[0m             \u001b[0;32mexcept\u001b[0m \u001b[0mOSError\u001b[0m\u001b[0;34m:\u001b[0m\u001b[0;34m\u001b[0m\u001b[0;34m\u001b[0m\u001b[0m\n\u001b[1;32m    373\u001b[0m                 \u001b[0;31m# If is_dir() raises an OSError, consider that the entry is not\u001b[0m\u001b[0;34m\u001b[0m\u001b[0;34m\u001b[0m\u001b[0;34m\u001b[0m\u001b[0m\n",
      "\u001b[0;31mKeyboardInterrupt\u001b[0m: "
     ]
    }
   ],
   "source": [
    "#code to add the column similarity_value to my dataframe\n",
    "\n",
    "# Find images in subfolders\n",
    "'''def find_images(image_filename, base_folder='/kaggle/input/h-and-m-personalized-fashion-recommendations/images'):\n",
    "    for root, dirs, files in os.walk(base_folder):\n",
    "        if image_filename in files:\n",
    "            return os.path.join(root, image_filename)\n",
    "    return None\n",
    "\n",
    "def calculate_similarity(df):\n",
    "    similarity_values = [] \n",
    "\n",
    "    for image_filename_i in matching_article_ids_2020:\n",
    "        for image_filename_j in matching_article_ids_2020:\n",
    "            if image_filename_i != image_filename_j:\n",
    "                img1_path = find_images(image_filename_i)\n",
    "                img2_path = find_images(image_filename_j)\n",
    "\n",
    "                if img1_path is not None and img2_path is not None:\n",
    "                    features1 = extract_features(img1_path)\n",
    "                    features2 = extract_features(img2_path)\n",
    "\n",
    "                    similarity = cosine_similarity([features1], [features2])[0][0]\n",
    "\n",
    "                    similarity_values.append(similarity)\n",
    "\n",
    "    df['similarity_value'] = similarity_values\n",
    "    return df\n",
    "\n",
    "bestsellers_2020_def = calculate_similarity(bestsellers_2020)'''"
   ]
  },
  {
   "cell_type": "code",
   "execution_count": null,
   "metadata": {
    "execution": {
     "iopub.status.busy": "2023-12-05T19:04:30.684152Z",
     "iopub.status.idle": "2023-12-05T19:04:30.684992Z",
     "shell.execute_reply": "2023-12-05T19:04:30.684824Z",
     "shell.execute_reply.started": "2023-12-05T19:04:30.684800Z"
    }
   },
   "outputs": [],
   "source": [
    "#bestsellers_2020_def.columns"
   ]
  },
  {
   "cell_type": "markdown",
   "metadata": {},
   "source": [
    "##### Creation of the dataset to use"
   ]
  },
  {
   "cell_type": "code",
   "execution_count": null,
   "metadata": {},
   "outputs": [],
   "source": [
    "filtered_transactions.loc[:, 'purchased'] = 1"
   ]
  },
  {
   "cell_type": "code",
   "execution_count": null,
   "metadata": {},
   "outputs": [],
   "source": [
    "data = pd.concat([filtered_transactions, candidates_last_purchase_2020])\n",
    "data = pd.merge(data, bestsellers_2020[['article_id', 'bestseller_rank']], on = 'article_id', how = 'left')\n",
    "data.fillna(0, inplace = True)"
   ]
  },
  {
   "cell_type": "code",
   "execution_count": null,
   "metadata": {},
   "outputs": [],
   "source": [
    "#adding candidates info\n",
    "data = pd.merge(data, candidates_definitive[['customer_id', 'mean price purchases', 'most_present_gender_in_area', 'median_age_area']], on = 'customer_id', how = 'left')"
   ]
  },
  {
   "cell_type": "code",
   "execution_count": null,
   "metadata": {},
   "outputs": [],
   "source": [
    "#adding initial datasets to my new dataset\n",
    "data = pd.merge(data, articles, on = 'article_id', how = 'left')\n",
    "data = pd.merge(data, customers, on = 'customer_id', how = 'left')"
   ]
  },
  {
   "cell_type": "code",
   "execution_count": null,
   "metadata": {},
   "outputs": [],
   "source": [
    "data.sort_values(['week', 'customer_id'], inplace=True)\n",
    "data.reset_index(drop=True, inplace=True)"
   ]
  },
  {
   "cell_type": "code",
   "execution_count": null,
   "metadata": {},
   "outputs": [],
   "source": [
    "train = data[data.week != test_week]\n",
    "test = data[data.week==test_week].drop_duplicates(['customer_id', 'article_id', 'sales_channel_id']).copy()"
   ]
  },
  {
   "cell_type": "code",
   "execution_count": null,
   "metadata": {},
   "outputs": [],
   "source": [
    "train_baskets = train.groupby(['week', 'customer_id'])['article_id'].count().values"
   ]
  },
  {
   "cell_type": "code",
   "execution_count": null,
   "metadata": {},
   "outputs": [],
   "source": [
    "columns_to_use = ['article_id', 'product_type_no', 'graphical_appearance_no', 'colour_group_code', 'perceived_colour_value_id',\n",
    "'perceived_colour_master_id', 'department_no', 'index_code', 'index_group_no', 'section_no', 'garment_group_no', 'FN', 'Active',\n",
    "'club_member_status', 'fashion_news_frequency', 'bestseller_rank', 'mean price purchases', 'most_present_gender_in_area', 'median_age_area']"
   ]
  },
  {
   "cell_type": "code",
   "execution_count": null,
   "metadata": {},
   "outputs": [],
   "source": [
    "%%time\n",
    "\n",
    "train_X = train[columns_to_use]\n",
    "train_y = train['purchased']\n",
    "\n",
    "test_X = test[columns_to_use]"
   ]
  },
  {
   "cell_type": "markdown",
   "metadata": {},
   "source": [
    "# Model training"
   ]
  },
  {
   "cell_type": "code",
   "execution_count": null,
   "metadata": {},
   "outputs": [],
   "source": [
    "from lightgbm.sklearn import LGBMRanker"
   ]
  },
  {
   "cell_type": "code",
   "execution_count": null,
   "metadata": {},
   "outputs": [],
   "source": [
    "ranker = LGBMRanker(\n",
    "    objective=\"lambdarank\",\n",
    "    metric=\"ndcg\",\n",
    "    boosting_type=\"dart\",\n",
    "    n_estimators=1,\n",
    "    importance_type='gain',\n",
    "    verbose=10\n",
    ")"
   ]
  },
  {
   "cell_type": "code",
   "execution_count": null,
   "metadata": {},
   "outputs": [],
   "source": [
    "%%time\n",
    "\n",
    "ranker = ranker.fit(\n",
    "    train_X,\n",
    "    train_y,\n",
    "    group = train_baskets,\n",
    ")"
   ]
  },
  {
   "cell_type": "code",
   "execution_count": null,
   "metadata": {},
   "outputs": [],
   "source": [
    "for i in ranker.feature_importances_.argsort()[::-1]:\n",
    "    print(columns_to_use[i], ranker.feature_importances_[i]/ranker.feature_importances_.sum())"
   ]
  },
  {
   "cell_type": "markdown",
   "metadata": {},
   "source": [
    "# Calculate predictions"
   ]
  },
  {
   "cell_type": "code",
   "execution_count": null,
   "metadata": {},
   "outputs": [],
   "source": [
    "%time\n",
    "\n",
    "test['preds'] = ranker.predict(test_X)\n",
    "\n",
    "c_id2predicted_article_ids = test \\\n",
    "    .sort_values(['customer_id', 'preds'], ascending=False) \\\n",
    "    .groupby('customer_id')['article_id'].apply(list).to_dict()\n",
    "\n",
    "bestsellers_2020_all = \\\n",
    "    bestsellers_2020[bestsellers_2020.week == bestsellers_2020.week.max()]['article_id'].tolist()"
   ]
  },
  {
   "cell_type": "markdown",
   "metadata": {},
   "source": [
    "# Create submission"
   ]
  },
  {
   "cell_type": "code",
   "execution_count": null,
   "metadata": {},
   "outputs": [],
   "source": [
    "sub = pd.read_csv('/kaggle/input/h-and-m-personalized-fashion-recommendations/sample_submission.csv')"
   ]
  },
  {
   "cell_type": "code",
   "execution_count": null,
   "metadata": {},
   "outputs": [],
   "source": [
    "%%time\n",
    "preds = []\n",
    "for c_id in customer_hex_id_to_int(sub.customer_id):\n",
    "    pred = c_id2predicted_article_ids.get(c_id, [])\n",
    "    pred = pred + bestsellers_2020_all\n",
    "    preds.append(pred[:50])"
   ]
  },
  {
   "cell_type": "code",
   "execution_count": null,
   "metadata": {},
   "outputs": [],
   "source": [
    "preds = [' '.join(['0' + str(p) for p in ps]) for ps in preds]\n",
    "sub.prediction = preds"
   ]
  },
  {
   "cell_type": "code",
   "execution_count": null,
   "metadata": {},
   "outputs": [],
   "source": [
    "sub_name = 'submission'\n",
    "sub.to_csv(f'{sub_name}.csv', index=False)"
   ]
  },
  {
   "cell_type": "markdown",
   "metadata": {},
   "source": [
    "# Evaluation of the model V1"
   ]
  },
  {
   "cell_type": "code",
   "execution_count": null,
   "metadata": {},
   "outputs": [],
   "source": [
    "test.columns"
   ]
  },
  {
   "cell_type": "code",
   "execution_count": null,
   "metadata": {},
   "outputs": [],
   "source": [
    "clothes_purchased = []\n",
    "filtered_transactions = filtered_transactions.reset_index(drop = True)\n",
    "\n",
    "for index, purchase in enumerate(filtered_transactions['purchased']):\n",
    "    if purchase == 1:\n",
    "        clothes_purchased.append(filtered_transactions.at[index, 'article_id'])"
   ]
  },
  {
   "cell_type": "code",
   "execution_count": null,
   "metadata": {},
   "outputs": [],
   "source": [
    "#value of k to calculate precision, recall\n",
    "k_value = [10, 20, 50, 100]"
   ]
  },
  {
   "cell_type": "code",
   "execution_count": null,
   "metadata": {},
   "outputs": [],
   "source": [
    "#precision at K \n",
    "def precision_at_k(clothes_purchased, preds, k):\n",
    "    predicted_at_k = preds[:k]\n",
    "    relevant_at_k = clothes_purchased and predicted_at_k\n",
    "    precision = len(relevant_at_k) / k\n",
    "    return precision\n",
    "\n",
    "\n",
    "#precision = precision_at_k(clothes_purchased, preds, k_value)\n",
    "#print(f'Precision at {k_value}: {precision}')"
   ]
  },
  {
   "cell_type": "code",
   "execution_count": null,
   "metadata": {},
   "outputs": [],
   "source": [
    "#recall at k\n",
    "def recall_at_k(clothes_purchased, preds, k):\n",
    "    predicted_at_k = preds[:k]\n",
    "    relevant_at_k = clothes_purchased and predicted_at_k\n",
    "    recall_at_k = len(relevant_at_k) / len(clothes_purchased)\n",
    "    return recall_at_k\n",
    "\n",
    "#recall = recall_at_k(clothes_purchased, preds, k_value)\n",
    "#print(f'Recall at {k_value}: {recall}')"
   ]
  },
  {
   "cell_type": "code",
   "execution_count": null,
   "metadata": {},
   "outputs": [],
   "source": [
    "precisions = []\n",
    "recalls = []\n",
    "\n",
    "for k in k_value:\n",
    "    precision = precision_at_k(clothes_purchased, preds, k)\n",
    "    recall = recall_at_k(clothes_purchased, preds, k)\n",
    "    precisions.append(precision)\n",
    "    recalls.append(recall)\n",
    "    print(f'Precision at {k}: {precision:.4f}, Recall at {k}: {recall:.10f}')"
   ]
  },
  {
   "cell_type": "code",
   "execution_count": null,
   "metadata": {},
   "outputs": [],
   "source": [
    "#graph about recall\n",
    "\n",
    "plt.plot(k_value, recalls, label = 'Recall')\n",
    "plt.xlabel('K')\n",
    "plt.ylabel('Value')\n",
    "plt.title('Recall at K')\n",
    "plt.legend()\n",
    "plt.show()"
   ]
  },
  {
   "cell_type": "code",
   "execution_count": null,
   "metadata": {},
   "outputs": [],
   "source": [
    "#graph about precision\n",
    "\n",
    "plt.plot(k_value, precisions, label = 'Precision')\n",
    "plt.xlabel('K')\n",
    "plt.ylabel('Value')\n",
    "plt.title('Precision at K')\n",
    "plt.legend()\n",
    "plt.show()"
   ]
  },
  {
   "cell_type": "markdown",
   "metadata": {},
   "source": [
    "# Evaluation of the model V2"
   ]
  },
  {
   "cell_type": "code",
   "execution_count": null,
   "metadata": {},
   "outputs": [],
   "source": [
    "!pip install recmetrics"
   ]
  },
  {
   "cell_type": "code",
   "execution_count": null,
   "metadata": {},
   "outputs": [],
   "source": [
    "#reference: https://github.com/statisticianinstilettos/recmetrics\n",
    "\n",
    "from recmetrics import metrics\n",
    "\n",
    "#precision\n",
    "recommender_precision = metrics.recommender_precision(predicted = preds, actual = test_X)\n",
    "print('Value of precision:', recommender_precision)\n",
    "\n",
    "#recall\n",
    "recommender_recall = metrics.recommender_recall(predicted = preds, actual = test_X)\n",
    "print('Value of recall:', recommender_recall)\n",
    "\n",
    "#MAP --> not working: isn't finding the function\n",
    "#recommender_mapk = metrics.mapk(predicted = preds, actual = test_X, k = 10)\n",
    "#print('Value of MAP@K:', recommender_mapk)\n",
    "\n",
    "#MARK\n",
    "reccomender_mark = metrics.mark(predicted = preds, actual = test_X, k = 100)\n",
    "print('Value of MAR@K:', reccomender_mark)\n",
    "\n",
    "#personalization --> reccomendation similarity across users: high = personalization are different and good; low = personalization are similar and not good\n",
    "personalization_score = metrics.personalization(predicted = preds[:20000])\n",
    "print('Value of personalization:', personalization_score)"
   ]
  }
 ],
 "metadata": {
  "kaggle": {
   "accelerator": "none",
   "dataSources": [
    {
     "databundleVersionId": 3103714,
     "sourceId": 31254,
     "sourceType": "competition"
    },
    {
     "datasetId": 3840849,
     "sourceId": 6655455,
     "sourceType": "datasetVersion"
    },
    {
     "datasetId": 3967857,
     "sourceId": 6908916,
     "sourceType": "datasetVersion"
    },
    {
     "datasetId": 4086917,
     "sourceId": 7091965,
     "sourceType": "datasetVersion"
    },
    {
     "sourceId": 93163345,
     "sourceType": "kernelVersion"
    }
   ],
   "dockerImageVersionId": 30178,
   "isGpuEnabled": false,
   "isInternetEnabled": true,
   "language": "python",
   "sourceType": "notebook"
  },
  "kernelspec": {
   "display_name": "Python 3 (ipykernel)",
   "language": "python",
   "name": "python3"
  },
  "language_info": {
   "codemirror_mode": {
    "name": "ipython",
    "version": 3
   },
   "file_extension": ".py",
   "mimetype": "text/x-python",
   "name": "python",
   "nbconvert_exporter": "python",
   "pygments_lexer": "ipython3",
   "version": "3.11.5"
  }
 },
 "nbformat": 4,
 "nbformat_minor": 4
}
