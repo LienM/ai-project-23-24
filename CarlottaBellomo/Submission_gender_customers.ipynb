{
 "cells": [
  {
   "cell_type": "markdown",
   "id": "2f1841d0",
   "metadata": {
    "papermill": {
     "duration": 0.075096,
     "end_time": "2023-11-07T11:33:36.224546",
     "exception": false,
     "start_time": "2023-11-07T11:33:36.149450",
     "status": "completed"
    },
    "tags": []
   },
   "source": [
    "Radek posted about this [here](https://www.kaggle.com/competitions/h-and-m-personalized-fashion-recommendations/discussion/309220), and linked to a GitHub repo with the code.\n",
    "\n",
    "I just transferred that code here to Kaggle notebooks, that's all."
   ]
  },
  {
   "cell_type": "code",
   "execution_count": 1,
   "id": "c8c3b0ec",
   "metadata": {
    "execution": {
     "iopub.execute_input": "2023-11-07T11:33:36.376670Z",
     "iopub.status.busy": "2023-11-07T11:33:36.375667Z",
     "iopub.status.idle": "2023-11-07T11:33:36.397414Z",
     "shell.execute_reply": "2023-11-07T11:33:36.396061Z"
    },
    "papermill": {
     "duration": 0.102358,
     "end_time": "2023-11-07T11:33:36.400711",
     "exception": false,
     "start_time": "2023-11-07T11:33:36.298353",
     "status": "completed"
    },
    "tags": []
   },
   "outputs": [],
   "source": [
    "import numpy as np\n",
    "\n",
    "def apk(actual, predicted, k=10):\n",
    "    \"\"\"\n",
    "    Computes the average precision at k.\n",
    "\n",
    "    This function computes the average prescision at k between two lists of\n",
    "    items.\n",
    "\n",
    "    Parameters\n",
    "    ----------\n",
    "    actual : list\n",
    "             A list of elements that are to be predicted (order doesn't matter)\n",
    "    predicted : list\n",
    "                A list of predicted elements (order does matter)\n",
    "    k : int, optional\n",
    "        The maximum number of predicted elements\n",
    "\n",
    "    Returns\n",
    "    -------\n",
    "    score : double\n",
    "            The average precision at k over the input lists\n",
    "\n",
    "    \"\"\"\n",
    "    if len(predicted)>k:\n",
    "        predicted = predicted[:k]\n",
    "\n",
    "    score = 0.0\n",
    "    num_hits = 0.0\n",
    "\n",
    "    for i,p in enumerate(predicted):\n",
    "        if p in actual and p not in predicted[:i]:\n",
    "            num_hits += 1.0\n",
    "            score += num_hits / (i+1.0)\n",
    "\n",
    "    if not actual:\n",
    "        return 0.0\n",
    "\n",
    "    return score / min(len(actual), k)\n",
    "\n",
    "def mapk(actual, predicted, k=10):\n",
    "    \"\"\"\n",
    "    Computes the mean average precision at k.\n",
    "\n",
    "    This function computes the mean average prescision at k between two lists\n",
    "    of lists of items.\n",
    "\n",
    "    Parameters\n",
    "    ----------\n",
    "    actual : list\n",
    "             A list of lists of elements that are to be predicted \n",
    "             (order doesn't matter in the lists)\n",
    "    predicted : list\n",
    "                A list of lists of predicted elements\n",
    "                (order matters in the lists)\n",
    "    k : int, optional\n",
    "        The maximum number of predicted elements\n",
    "\n",
    "    Returns\n",
    "    -------\n",
    "    score : double\n",
    "            The mean average precision at k over the input lists\n",
    "\n",
    "    \"\"\"\n",
    "    return np.mean([apk(a,p,k) for a,p in zip(actual, predicted)])"
   ]
  },
  {
   "cell_type": "code",
   "execution_count": 2,
   "id": "87fcc8bf",
   "metadata": {
    "execution": {
     "iopub.execute_input": "2023-11-07T11:33:36.548437Z",
     "iopub.status.busy": "2023-11-07T11:33:36.547790Z",
     "iopub.status.idle": "2023-11-07T11:33:37.775957Z",
     "shell.execute_reply": "2023-11-07T11:33:37.774821Z"
    },
    "papermill": {
     "duration": 1.304963,
     "end_time": "2023-11-07T11:33:37.778921",
     "exception": false,
     "start_time": "2023-11-07T11:33:36.473958",
     "status": "completed"
    },
    "tags": []
   },
   "outputs": [],
   "source": [
    "from sklearn.base import BaseEstimator, TransformerMixin\n",
    "import numpy as np\n",
    "\n",
    "# https://www.kaggle.com/c/h-and-m-personalized-fashion-recommendations/discussion/308635\n",
    "def customer_hex_id_to_int(series):\n",
    "    return series.str[-16:].apply(hex_id_to_int)\n",
    "\n",
    "def hex_id_to_int(str):\n",
    "    return int(str[-16:], 16)\n",
    "\n",
    "def article_id_str_to_int(series):\n",
    "    return series.astype('int32')\n",
    "\n",
    "def article_id_int_to_str(series):\n",
    "    return '0' + series.astype('str')\n",
    "\n",
    "class Categorize(BaseEstimator, TransformerMixin):\n",
    "    def __init__(self, min_examples=0):\n",
    "        self.min_examples = min_examples\n",
    "        self.categories = []\n",
    "        \n",
    "    def fit(self, X):\n",
    "        for i in range(X.shape[1]):\n",
    "            vc = X.iloc[:, i].value_counts()\n",
    "            self.categories.append(vc[vc > self.min_examples].index.tolist())\n",
    "        return self\n",
    "\n",
    "    def transform(self, X):\n",
    "        data = {X.columns[i]: pd.Categorical(X.iloc[:, i], categories=self.categories[i]).codes for i in range(X.shape[1])}\n",
    "        return pd.DataFrame(data=data)\n",
    "\n",
    "\n",
    "def calculate_apk(list_of_preds, list_of_gts):\n",
    "    # for fast validation this can be changed to operate on dicts of {'cust_id_int': [art_id_int, ...]}\n",
    "    # using 'data/val_week_purchases_by_cust.pkl'\n",
    "    apks = []\n",
    "    for preds, gt in zip(list_of_preds, list_of_gts):\n",
    "        apks.append(apk(gt, preds, k=12))\n",
    "    return np.mean(apks)\n",
    "\n",
    "def eval_sub(sub_csv, skip_cust_with_no_purchases=True):\n",
    "    sub=pd.read_csv(sub_csv)\n",
    "    validation_set=pd.read_parquet('data/validation_ground_truth.parquet')\n",
    "\n",
    "    apks = []\n",
    "\n",
    "    no_purchases_pattern = []\n",
    "    for pred, gt in zip(sub.prediction.str.split(), validation_set.prediction.str.split()):\n",
    "        if skip_cust_with_no_purchases and (gt == no_purchases_pattern): continue\n",
    "        apks.append(apk(gt, pred, k=12))\n",
    "    return np.mean(apks)"
   ]
  },
  {
   "cell_type": "code",
   "execution_count": 3,
   "id": "388dd7f4",
   "metadata": {
    "execution": {
     "iopub.execute_input": "2023-11-07T11:33:37.928024Z",
     "iopub.status.busy": "2023-11-07T11:33:37.927674Z",
     "iopub.status.idle": "2023-11-07T11:33:37.934088Z",
     "shell.execute_reply": "2023-11-07T11:33:37.932952Z"
    },
    "papermill": {
     "duration": 0.082648,
     "end_time": "2023-11-07T11:33:37.936783",
     "exception": false,
     "start_time": "2023-11-07T11:33:37.854135",
     "status": "completed"
    },
    "tags": []
   },
   "outputs": [],
   "source": [
    "import pandas as pd"
   ]
  },
  {
   "cell_type": "code",
   "execution_count": 4,
   "id": "2850aaa8",
   "metadata": {
    "execution": {
     "iopub.execute_input": "2023-11-07T11:33:38.086226Z",
     "iopub.status.busy": "2023-11-07T11:33:38.084767Z",
     "iopub.status.idle": "2023-11-07T11:33:45.577779Z",
     "shell.execute_reply": "2023-11-07T11:33:45.576765Z"
    },
    "papermill": {
     "duration": 7.572594,
     "end_time": "2023-11-07T11:33:45.581323",
     "exception": false,
     "start_time": "2023-11-07T11:33:38.008729",
     "status": "completed"
    },
    "tags": []
   },
   "outputs": [
    {
     "name": "stdout",
     "output_type": "stream",
     "text": [
      "CPU times: user 2.36 s, sys: 3.45 s, total: 5.81 s\n",
      "Wall time: 7.48 s\n"
     ]
    }
   ],
   "source": [
    "%%time\n",
    "\n",
    "transactions = pd.read_parquet('../input/warmup/transactions_train.parquet')\n",
    "customers = pd.read_parquet('../input/parquet-new-assignement/new_customer_one.parquet')\n",
    "articles = pd.read_parquet('../input/warmup/articles.parquet')\n",
    "\n",
    "# sample = 0.05\n",
    "# transactions = pd.read_parquet(f'data/transactions_train_sample_{sample}.parquet')\n",
    "# customers = pd.read_parquet(f'data/customers_sample_{sample}.parquet')\n",
    "# articles = pd.read_parquet(f'data/articles_train_sample_{sample}.parquet')"
   ]
  },
  {
   "cell_type": "code",
   "execution_count": 5,
   "id": "afc74337",
   "metadata": {
    "execution": {
     "iopub.execute_input": "2023-11-07T11:33:45.779941Z",
     "iopub.status.busy": "2023-11-07T11:33:45.779013Z",
     "iopub.status.idle": "2023-11-07T11:33:46.118011Z",
     "shell.execute_reply": "2023-11-07T11:33:46.116493Z"
    },
    "papermill": {
     "duration": 0.42187,
     "end_time": "2023-11-07T11:33:46.122700",
     "exception": false,
     "start_time": "2023-11-07T11:33:45.700830",
     "status": "completed"
    },
    "tags": []
   },
   "outputs": [],
   "source": [
    "test_week = transactions.week.max() + 1\n",
    "transactions = transactions[transactions.week > transactions.week.max() - 10]"
   ]
  },
  {
   "cell_type": "markdown",
   "id": "944fafdb",
   "metadata": {
    "papermill": {
     "duration": 0.075493,
     "end_time": "2023-11-07T11:33:46.274154",
     "exception": false,
     "start_time": "2023-11-07T11:33:46.198661",
     "status": "completed"
    },
    "tags": []
   },
   "source": [
    "# Generating candidates"
   ]
  },
  {
   "cell_type": "markdown",
   "id": "bf1c52bc",
   "metadata": {
    "papermill": {
     "duration": 0.082291,
     "end_time": "2023-11-07T11:33:46.436594",
     "exception": false,
     "start_time": "2023-11-07T11:33:46.354303",
     "status": "completed"
    },
    "tags": []
   },
   "source": [
    "### Last purchase candidates"
   ]
  },
  {
   "cell_type": "code",
   "execution_count": 6,
   "id": "2af63945",
   "metadata": {
    "execution": {
     "iopub.execute_input": "2023-11-07T11:33:46.595056Z",
     "iopub.status.busy": "2023-11-07T11:33:46.594723Z",
     "iopub.status.idle": "2023-11-07T11:34:13.072661Z",
     "shell.execute_reply": "2023-11-07T11:34:13.071689Z"
    },
    "papermill": {
     "duration": 26.554034,
     "end_time": "2023-11-07T11:34:13.075089",
     "exception": false,
     "start_time": "2023-11-07T11:33:46.521055",
     "status": "completed"
    },
    "tags": []
   },
   "outputs": [
    {
     "name": "stdout",
     "output_type": "stream",
     "text": [
      "CPU times: user 26.3 s, sys: 244 ms, total: 26.6 s\n",
      "Wall time: 26.5 s\n"
     ]
    }
   ],
   "source": [
    "%%time\n",
    "\n",
    "c2weeks = transactions.groupby('customer_id')['week'].unique()"
   ]
  },
  {
   "cell_type": "code",
   "execution_count": 7,
   "id": "1cf578cf",
   "metadata": {
    "execution": {
     "iopub.execute_input": "2023-11-07T11:34:13.220765Z",
     "iopub.status.busy": "2023-11-07T11:34:13.220406Z",
     "iopub.status.idle": "2023-11-07T11:34:13.333454Z",
     "shell.execute_reply": "2023-11-07T11:34:13.332436Z"
    },
    "papermill": {
     "duration": 0.189956,
     "end_time": "2023-11-07T11:34:13.336887",
     "exception": false,
     "start_time": "2023-11-07T11:34:13.146931",
     "status": "completed"
    },
    "tags": []
   },
   "outputs": [
    {
     "data": {
      "text/html": [
       "<div>\n",
       "<style scoped>\n",
       "    .dataframe tbody tr th:only-of-type {\n",
       "        vertical-align: middle;\n",
       "    }\n",
       "\n",
       "    .dataframe tbody tr th {\n",
       "        vertical-align: top;\n",
       "    }\n",
       "\n",
       "    .dataframe thead th {\n",
       "        text-align: right;\n",
       "    }\n",
       "</style>\n",
       "<table border=\"1\" class=\"dataframe\">\n",
       "  <thead>\n",
       "    <tr style=\"text-align: right;\">\n",
       "      <th></th>\n",
       "      <th>min</th>\n",
       "      <th>max</th>\n",
       "    </tr>\n",
       "    <tr>\n",
       "      <th>week</th>\n",
       "      <th></th>\n",
       "      <th></th>\n",
       "    </tr>\n",
       "  </thead>\n",
       "  <tbody>\n",
       "    <tr>\n",
       "      <th>95</th>\n",
       "      <td>2020-07-15</td>\n",
       "      <td>2020-07-21</td>\n",
       "    </tr>\n",
       "    <tr>\n",
       "      <th>96</th>\n",
       "      <td>2020-07-22</td>\n",
       "      <td>2020-07-28</td>\n",
       "    </tr>\n",
       "    <tr>\n",
       "      <th>97</th>\n",
       "      <td>2020-07-29</td>\n",
       "      <td>2020-08-04</td>\n",
       "    </tr>\n",
       "    <tr>\n",
       "      <th>98</th>\n",
       "      <td>2020-08-05</td>\n",
       "      <td>2020-08-11</td>\n",
       "    </tr>\n",
       "    <tr>\n",
       "      <th>99</th>\n",
       "      <td>2020-08-12</td>\n",
       "      <td>2020-08-18</td>\n",
       "    </tr>\n",
       "    <tr>\n",
       "      <th>100</th>\n",
       "      <td>2020-08-19</td>\n",
       "      <td>2020-08-25</td>\n",
       "    </tr>\n",
       "    <tr>\n",
       "      <th>101</th>\n",
       "      <td>2020-08-26</td>\n",
       "      <td>2020-09-01</td>\n",
       "    </tr>\n",
       "    <tr>\n",
       "      <th>102</th>\n",
       "      <td>2020-09-02</td>\n",
       "      <td>2020-09-08</td>\n",
       "    </tr>\n",
       "    <tr>\n",
       "      <th>103</th>\n",
       "      <td>2020-09-09</td>\n",
       "      <td>2020-09-15</td>\n",
       "    </tr>\n",
       "    <tr>\n",
       "      <th>104</th>\n",
       "      <td>2020-09-16</td>\n",
       "      <td>2020-09-22</td>\n",
       "    </tr>\n",
       "  </tbody>\n",
       "</table>\n",
       "</div>"
      ],
      "text/plain": [
       "            min        max\n",
       "week                      \n",
       "95   2020-07-15 2020-07-21\n",
       "96   2020-07-22 2020-07-28\n",
       "97   2020-07-29 2020-08-04\n",
       "98   2020-08-05 2020-08-11\n",
       "99   2020-08-12 2020-08-18\n",
       "100  2020-08-19 2020-08-25\n",
       "101  2020-08-26 2020-09-01\n",
       "102  2020-09-02 2020-09-08\n",
       "103  2020-09-09 2020-09-15\n",
       "104  2020-09-16 2020-09-22"
      ]
     },
     "execution_count": 7,
     "metadata": {},
     "output_type": "execute_result"
    }
   ],
   "source": [
    "transactions.groupby('week')['t_dat'].agg(['min', 'max'])"
   ]
  },
  {
   "cell_type": "code",
   "execution_count": 8,
   "id": "5be7fa57",
   "metadata": {
    "execution": {
     "iopub.execute_input": "2023-11-07T11:34:13.485592Z",
     "iopub.status.busy": "2023-11-07T11:34:13.485234Z",
     "iopub.status.idle": "2023-11-07T11:34:13.496220Z",
     "shell.execute_reply": "2023-11-07T11:34:13.495547Z"
    },
    "papermill": {
     "duration": 0.088928,
     "end_time": "2023-11-07T11:34:13.498652",
     "exception": false,
     "start_time": "2023-11-07T11:34:13.409724",
     "status": "completed"
    },
    "tags": []
   },
   "outputs": [
    {
     "data": {
      "text/plain": [
       "customer_id\n",
       "28847241659200          [95, 96, 101, 102]\n",
       "41318098387474                        [98]\n",
       "116809474287335                 [101, 103]\n",
       "200292573348128          [95, 96, 99, 102]\n",
       "248294615847351                       [96]\n",
       "                               ...        \n",
       "18446624797007271432                  [95]\n",
       "18446630855572834764                 [103]\n",
       "18446662237889060501                 [100]\n",
       "18446705133201055310                 [102]\n",
       "18446737527580148316                 [104]\n",
       "Name: week, Length: 437365, dtype: object"
      ]
     },
     "execution_count": 8,
     "metadata": {},
     "output_type": "execute_result"
    }
   ],
   "source": [
    "c2weeks"
   ]
  },
  {
   "cell_type": "code",
   "execution_count": 9,
   "id": "7616a78c",
   "metadata": {
    "execution": {
     "iopub.execute_input": "2023-11-07T11:34:13.649509Z",
     "iopub.status.busy": "2023-11-07T11:34:13.648994Z",
     "iopub.status.idle": "2023-11-07T11:34:14.991074Z",
     "shell.execute_reply": "2023-11-07T11:34:14.990052Z"
    },
    "papermill": {
     "duration": 1.42177,
     "end_time": "2023-11-07T11:34:14.993736",
     "exception": false,
     "start_time": "2023-11-07T11:34:13.571966",
     "status": "completed"
    },
    "tags": []
   },
   "outputs": [
    {
     "name": "stdout",
     "output_type": "stream",
     "text": [
      "CPU times: user 1.23 s, sys: 106 ms, total: 1.33 s\n",
      "Wall time: 1.33 s\n"
     ]
    }
   ],
   "source": [
    "%%time\n",
    "\n",
    "c2weeks2shifted_weeks = {}\n",
    "\n",
    "for c_id, weeks in c2weeks.items():\n",
    "    c2weeks2shifted_weeks[c_id] = {}\n",
    "    for i in range(weeks.shape[0]-1):\n",
    "        c2weeks2shifted_weeks[c_id][weeks[i]] = weeks[i+1]\n",
    "    c2weeks2shifted_weeks[c_id][weeks[-1]] = test_week"
   ]
  },
  {
   "cell_type": "code",
   "execution_count": 10,
   "id": "47e74244",
   "metadata": {
    "execution": {
     "iopub.execute_input": "2023-11-07T11:34:15.153493Z",
     "iopub.status.busy": "2023-11-07T11:34:15.152608Z",
     "iopub.status.idle": "2023-11-07T11:34:15.159806Z",
     "shell.execute_reply": "2023-11-07T11:34:15.158851Z"
    },
    "papermill": {
     "duration": 0.091567,
     "end_time": "2023-11-07T11:34:15.161946",
     "exception": false,
     "start_time": "2023-11-07T11:34:15.070379",
     "status": "completed"
    },
    "tags": []
   },
   "outputs": [
    {
     "data": {
      "text/plain": [
       "{95: 96, 96: 101, 101: 102, 102: 105}"
      ]
     },
     "execution_count": 10,
     "metadata": {},
     "output_type": "execute_result"
    }
   ],
   "source": [
    "c2weeks2shifted_weeks[28847241659200]"
   ]
  },
  {
   "cell_type": "code",
   "execution_count": 11,
   "id": "847e3c09",
   "metadata": {
    "execution": {
     "iopub.execute_input": "2023-11-07T11:34:15.321562Z",
     "iopub.status.busy": "2023-11-07T11:34:15.321075Z",
     "iopub.status.idle": "2023-11-07T11:34:15.352391Z",
     "shell.execute_reply": "2023-11-07T11:34:15.351128Z"
    },
    "papermill": {
     "duration": 0.113427,
     "end_time": "2023-11-07T11:34:15.355316",
     "exception": false,
     "start_time": "2023-11-07T11:34:15.241889",
     "status": "completed"
    },
    "tags": []
   },
   "outputs": [],
   "source": [
    "candidates_last_purchase = transactions.copy()"
   ]
  },
  {
   "cell_type": "code",
   "execution_count": 12,
   "id": "f9293735",
   "metadata": {
    "execution": {
     "iopub.execute_input": "2023-11-07T11:34:15.513400Z",
     "iopub.status.busy": "2023-11-07T11:34:15.513018Z",
     "iopub.status.idle": "2023-11-07T11:34:29.098170Z",
     "shell.execute_reply": "2023-11-07T11:34:29.096979Z"
    },
    "papermill": {
     "duration": 13.666642,
     "end_time": "2023-11-07T11:34:29.100990",
     "exception": false,
     "start_time": "2023-11-07T11:34:15.434348",
     "status": "completed"
    },
    "tags": []
   },
   "outputs": [
    {
     "name": "stdout",
     "output_type": "stream",
     "text": [
      "CPU times: user 13.5 s, sys: 81.1 ms, total: 13.6 s\n",
      "Wall time: 13.6 s\n"
     ]
    }
   ],
   "source": [
    "%%time\n",
    "\n",
    "weeks = []\n",
    "for i, (c_id, week) in enumerate(zip(transactions['customer_id'], transactions['week'])):\n",
    "    weeks.append(c2weeks2shifted_weeks[c_id][week])\n",
    "    \n",
    "candidates_last_purchase.week=weeks"
   ]
  },
  {
   "cell_type": "code",
   "execution_count": 13,
   "id": "4418e5bc",
   "metadata": {
    "execution": {
     "iopub.execute_input": "2023-11-07T11:34:29.258268Z",
     "iopub.status.busy": "2023-11-07T11:34:29.257916Z",
     "iopub.status.idle": "2023-11-07T11:34:29.279374Z",
     "shell.execute_reply": "2023-11-07T11:34:29.278372Z"
    },
    "papermill": {
     "duration": 0.101858,
     "end_time": "2023-11-07T11:34:29.281958",
     "exception": false,
     "start_time": "2023-11-07T11:34:29.180100",
     "status": "completed"
    },
    "tags": []
   },
   "outputs": [
    {
     "data": {
      "text/html": [
       "<div>\n",
       "<style scoped>\n",
       "    .dataframe tbody tr th:only-of-type {\n",
       "        vertical-align: middle;\n",
       "    }\n",
       "\n",
       "    .dataframe tbody tr th {\n",
       "        vertical-align: top;\n",
       "    }\n",
       "\n",
       "    .dataframe thead th {\n",
       "        text-align: right;\n",
       "    }\n",
       "</style>\n",
       "<table border=\"1\" class=\"dataframe\">\n",
       "  <thead>\n",
       "    <tr style=\"text-align: right;\">\n",
       "      <th></th>\n",
       "      <th>t_dat</th>\n",
       "      <th>customer_id</th>\n",
       "      <th>article_id</th>\n",
       "      <th>price</th>\n",
       "      <th>sales_channel_id</th>\n",
       "      <th>week</th>\n",
       "    </tr>\n",
       "  </thead>\n",
       "  <tbody>\n",
       "    <tr>\n",
       "      <th>29030503</th>\n",
       "      <td>2020-07-15</td>\n",
       "      <td>272412481300040</td>\n",
       "      <td>778064028</td>\n",
       "      <td>0.008458</td>\n",
       "      <td>1</td>\n",
       "      <td>96</td>\n",
       "    </tr>\n",
       "    <tr>\n",
       "      <th>29030504</th>\n",
       "      <td>2020-07-15</td>\n",
       "      <td>272412481300040</td>\n",
       "      <td>816592008</td>\n",
       "      <td>0.016932</td>\n",
       "      <td>1</td>\n",
       "      <td>96</td>\n",
       "    </tr>\n",
       "    <tr>\n",
       "      <th>29030505</th>\n",
       "      <td>2020-07-15</td>\n",
       "      <td>272412481300040</td>\n",
       "      <td>621381021</td>\n",
       "      <td>0.033881</td>\n",
       "      <td>1</td>\n",
       "      <td>96</td>\n",
       "    </tr>\n",
       "    <tr>\n",
       "      <th>29030506</th>\n",
       "      <td>2020-07-15</td>\n",
       "      <td>272412481300040</td>\n",
       "      <td>817477003</td>\n",
       "      <td>0.025407</td>\n",
       "      <td>1</td>\n",
       "      <td>96</td>\n",
       "    </tr>\n",
       "    <tr>\n",
       "      <th>29030507</th>\n",
       "      <td>2020-07-15</td>\n",
       "      <td>272412481300040</td>\n",
       "      <td>899088002</td>\n",
       "      <td>0.025407</td>\n",
       "      <td>1</td>\n",
       "      <td>96</td>\n",
       "    </tr>\n",
       "    <tr>\n",
       "      <th>29319533</th>\n",
       "      <td>2020-07-22</td>\n",
       "      <td>272412481300040</td>\n",
       "      <td>885077001</td>\n",
       "      <td>0.008458</td>\n",
       "      <td>1</td>\n",
       "      <td>103</td>\n",
       "    </tr>\n",
       "    <tr>\n",
       "      <th>29410772</th>\n",
       "      <td>2020-07-24</td>\n",
       "      <td>272412481300040</td>\n",
       "      <td>850176003</td>\n",
       "      <td>0.029034</td>\n",
       "      <td>2</td>\n",
       "      <td>103</td>\n",
       "    </tr>\n",
       "    <tr>\n",
       "      <th>29410773</th>\n",
       "      <td>2020-07-24</td>\n",
       "      <td>272412481300040</td>\n",
       "      <td>875803001</td>\n",
       "      <td>0.064559</td>\n",
       "      <td>2</td>\n",
       "      <td>103</td>\n",
       "    </tr>\n",
       "    <tr>\n",
       "      <th>29410774</th>\n",
       "      <td>2020-07-24</td>\n",
       "      <td>272412481300040</td>\n",
       "      <td>892970003</td>\n",
       "      <td>0.020966</td>\n",
       "      <td>2</td>\n",
       "      <td>103</td>\n",
       "    </tr>\n",
       "    <tr>\n",
       "      <th>29410775</th>\n",
       "      <td>2020-07-24</td>\n",
       "      <td>272412481300040</td>\n",
       "      <td>854619003</td>\n",
       "      <td>0.020966</td>\n",
       "      <td>2</td>\n",
       "      <td>103</td>\n",
       "    </tr>\n",
       "    <tr>\n",
       "      <th>29531614</th>\n",
       "      <td>2020-07-27</td>\n",
       "      <td>272412481300040</td>\n",
       "      <td>900398001</td>\n",
       "      <td>0.030492</td>\n",
       "      <td>2</td>\n",
       "      <td>103</td>\n",
       "    </tr>\n",
       "    <tr>\n",
       "      <th>29531615</th>\n",
       "      <td>2020-07-27</td>\n",
       "      <td>272412481300040</td>\n",
       "      <td>834179002</td>\n",
       "      <td>0.025407</td>\n",
       "      <td>2</td>\n",
       "      <td>103</td>\n",
       "    </tr>\n",
       "    <tr>\n",
       "      <th>29531616</th>\n",
       "      <td>2020-07-27</td>\n",
       "      <td>272412481300040</td>\n",
       "      <td>875803001</td>\n",
       "      <td>0.067780</td>\n",
       "      <td>2</td>\n",
       "      <td>103</td>\n",
       "    </tr>\n",
       "    <tr>\n",
       "      <th>31495014</th>\n",
       "      <td>2020-09-14</td>\n",
       "      <td>272412481300040</td>\n",
       "      <td>923460002</td>\n",
       "      <td>0.039932</td>\n",
       "      <td>2</td>\n",
       "      <td>105</td>\n",
       "    </tr>\n",
       "    <tr>\n",
       "      <th>31495015</th>\n",
       "      <td>2020-09-14</td>\n",
       "      <td>272412481300040</td>\n",
       "      <td>922381001</td>\n",
       "      <td>0.039932</td>\n",
       "      <td>2</td>\n",
       "      <td>105</td>\n",
       "    </tr>\n",
       "    <tr>\n",
       "      <th>31495016</th>\n",
       "      <td>2020-09-14</td>\n",
       "      <td>272412481300040</td>\n",
       "      <td>921906005</td>\n",
       "      <td>0.031949</td>\n",
       "      <td>2</td>\n",
       "      <td>105</td>\n",
       "    </tr>\n",
       "  </tbody>\n",
       "</table>\n",
       "</div>"
      ],
      "text/plain": [
       "              t_dat      customer_id  article_id     price  sales_channel_id  \\\n",
       "29030503 2020-07-15  272412481300040   778064028  0.008458                 1   \n",
       "29030504 2020-07-15  272412481300040   816592008  0.016932                 1   \n",
       "29030505 2020-07-15  272412481300040   621381021  0.033881                 1   \n",
       "29030506 2020-07-15  272412481300040   817477003  0.025407                 1   \n",
       "29030507 2020-07-15  272412481300040   899088002  0.025407                 1   \n",
       "29319533 2020-07-22  272412481300040   885077001  0.008458                 1   \n",
       "29410772 2020-07-24  272412481300040   850176003  0.029034                 2   \n",
       "29410773 2020-07-24  272412481300040   875803001  0.064559                 2   \n",
       "29410774 2020-07-24  272412481300040   892970003  0.020966                 2   \n",
       "29410775 2020-07-24  272412481300040   854619003  0.020966                 2   \n",
       "29531614 2020-07-27  272412481300040   900398001  0.030492                 2   \n",
       "29531615 2020-07-27  272412481300040   834179002  0.025407                 2   \n",
       "29531616 2020-07-27  272412481300040   875803001  0.067780                 2   \n",
       "31495014 2020-09-14  272412481300040   923460002  0.039932                 2   \n",
       "31495015 2020-09-14  272412481300040   922381001  0.039932                 2   \n",
       "31495016 2020-09-14  272412481300040   921906005  0.031949                 2   \n",
       "\n",
       "          week  \n",
       "29030503    96  \n",
       "29030504    96  \n",
       "29030505    96  \n",
       "29030506    96  \n",
       "29030507    96  \n",
       "29319533   103  \n",
       "29410772   103  \n",
       "29410773   103  \n",
       "29410774   103  \n",
       "29410775   103  \n",
       "29531614   103  \n",
       "29531615   103  \n",
       "29531616   103  \n",
       "31495014   105  \n",
       "31495015   105  \n",
       "31495016   105  "
      ]
     },
     "execution_count": 13,
     "metadata": {},
     "output_type": "execute_result"
    }
   ],
   "source": [
    "candidates_last_purchase[candidates_last_purchase['customer_id']==272412481300040]"
   ]
  },
  {
   "cell_type": "code",
   "execution_count": 14,
   "id": "bb9f5479",
   "metadata": {
    "execution": {
     "iopub.execute_input": "2023-11-07T11:34:29.437345Z",
     "iopub.status.busy": "2023-11-07T11:34:29.436940Z",
     "iopub.status.idle": "2023-11-07T11:34:29.457992Z",
     "shell.execute_reply": "2023-11-07T11:34:29.456947Z"
    },
    "papermill": {
     "duration": 0.101155,
     "end_time": "2023-11-07T11:34:29.460393",
     "exception": false,
     "start_time": "2023-11-07T11:34:29.359238",
     "status": "completed"
    },
    "tags": []
   },
   "outputs": [
    {
     "data": {
      "text/html": [
       "<div>\n",
       "<style scoped>\n",
       "    .dataframe tbody tr th:only-of-type {\n",
       "        vertical-align: middle;\n",
       "    }\n",
       "\n",
       "    .dataframe tbody tr th {\n",
       "        vertical-align: top;\n",
       "    }\n",
       "\n",
       "    .dataframe thead th {\n",
       "        text-align: right;\n",
       "    }\n",
       "</style>\n",
       "<table border=\"1\" class=\"dataframe\">\n",
       "  <thead>\n",
       "    <tr style=\"text-align: right;\">\n",
       "      <th></th>\n",
       "      <th>t_dat</th>\n",
       "      <th>customer_id</th>\n",
       "      <th>article_id</th>\n",
       "      <th>price</th>\n",
       "      <th>sales_channel_id</th>\n",
       "      <th>week</th>\n",
       "    </tr>\n",
       "  </thead>\n",
       "  <tbody>\n",
       "    <tr>\n",
       "      <th>29030503</th>\n",
       "      <td>2020-07-15</td>\n",
       "      <td>272412481300040</td>\n",
       "      <td>778064028</td>\n",
       "      <td>0.008458</td>\n",
       "      <td>1</td>\n",
       "      <td>95</td>\n",
       "    </tr>\n",
       "    <tr>\n",
       "      <th>29030504</th>\n",
       "      <td>2020-07-15</td>\n",
       "      <td>272412481300040</td>\n",
       "      <td>816592008</td>\n",
       "      <td>0.016932</td>\n",
       "      <td>1</td>\n",
       "      <td>95</td>\n",
       "    </tr>\n",
       "    <tr>\n",
       "      <th>29030505</th>\n",
       "      <td>2020-07-15</td>\n",
       "      <td>272412481300040</td>\n",
       "      <td>621381021</td>\n",
       "      <td>0.033881</td>\n",
       "      <td>1</td>\n",
       "      <td>95</td>\n",
       "    </tr>\n",
       "    <tr>\n",
       "      <th>29030506</th>\n",
       "      <td>2020-07-15</td>\n",
       "      <td>272412481300040</td>\n",
       "      <td>817477003</td>\n",
       "      <td>0.025407</td>\n",
       "      <td>1</td>\n",
       "      <td>95</td>\n",
       "    </tr>\n",
       "    <tr>\n",
       "      <th>29030507</th>\n",
       "      <td>2020-07-15</td>\n",
       "      <td>272412481300040</td>\n",
       "      <td>899088002</td>\n",
       "      <td>0.025407</td>\n",
       "      <td>1</td>\n",
       "      <td>95</td>\n",
       "    </tr>\n",
       "    <tr>\n",
       "      <th>29319533</th>\n",
       "      <td>2020-07-22</td>\n",
       "      <td>272412481300040</td>\n",
       "      <td>885077001</td>\n",
       "      <td>0.008458</td>\n",
       "      <td>1</td>\n",
       "      <td>96</td>\n",
       "    </tr>\n",
       "    <tr>\n",
       "      <th>29410772</th>\n",
       "      <td>2020-07-24</td>\n",
       "      <td>272412481300040</td>\n",
       "      <td>850176003</td>\n",
       "      <td>0.029034</td>\n",
       "      <td>2</td>\n",
       "      <td>96</td>\n",
       "    </tr>\n",
       "    <tr>\n",
       "      <th>29410773</th>\n",
       "      <td>2020-07-24</td>\n",
       "      <td>272412481300040</td>\n",
       "      <td>875803001</td>\n",
       "      <td>0.064559</td>\n",
       "      <td>2</td>\n",
       "      <td>96</td>\n",
       "    </tr>\n",
       "    <tr>\n",
       "      <th>29410774</th>\n",
       "      <td>2020-07-24</td>\n",
       "      <td>272412481300040</td>\n",
       "      <td>892970003</td>\n",
       "      <td>0.020966</td>\n",
       "      <td>2</td>\n",
       "      <td>96</td>\n",
       "    </tr>\n",
       "    <tr>\n",
       "      <th>29410775</th>\n",
       "      <td>2020-07-24</td>\n",
       "      <td>272412481300040</td>\n",
       "      <td>854619003</td>\n",
       "      <td>0.020966</td>\n",
       "      <td>2</td>\n",
       "      <td>96</td>\n",
       "    </tr>\n",
       "    <tr>\n",
       "      <th>29531614</th>\n",
       "      <td>2020-07-27</td>\n",
       "      <td>272412481300040</td>\n",
       "      <td>900398001</td>\n",
       "      <td>0.030492</td>\n",
       "      <td>2</td>\n",
       "      <td>96</td>\n",
       "    </tr>\n",
       "    <tr>\n",
       "      <th>29531615</th>\n",
       "      <td>2020-07-27</td>\n",
       "      <td>272412481300040</td>\n",
       "      <td>834179002</td>\n",
       "      <td>0.025407</td>\n",
       "      <td>2</td>\n",
       "      <td>96</td>\n",
       "    </tr>\n",
       "    <tr>\n",
       "      <th>29531616</th>\n",
       "      <td>2020-07-27</td>\n",
       "      <td>272412481300040</td>\n",
       "      <td>875803001</td>\n",
       "      <td>0.067780</td>\n",
       "      <td>2</td>\n",
       "      <td>96</td>\n",
       "    </tr>\n",
       "    <tr>\n",
       "      <th>31495014</th>\n",
       "      <td>2020-09-14</td>\n",
       "      <td>272412481300040</td>\n",
       "      <td>923460002</td>\n",
       "      <td>0.039932</td>\n",
       "      <td>2</td>\n",
       "      <td>103</td>\n",
       "    </tr>\n",
       "    <tr>\n",
       "      <th>31495015</th>\n",
       "      <td>2020-09-14</td>\n",
       "      <td>272412481300040</td>\n",
       "      <td>922381001</td>\n",
       "      <td>0.039932</td>\n",
       "      <td>2</td>\n",
       "      <td>103</td>\n",
       "    </tr>\n",
       "    <tr>\n",
       "      <th>31495016</th>\n",
       "      <td>2020-09-14</td>\n",
       "      <td>272412481300040</td>\n",
       "      <td>921906005</td>\n",
       "      <td>0.031949</td>\n",
       "      <td>2</td>\n",
       "      <td>103</td>\n",
       "    </tr>\n",
       "  </tbody>\n",
       "</table>\n",
       "</div>"
      ],
      "text/plain": [
       "              t_dat      customer_id  article_id     price  sales_channel_id  \\\n",
       "29030503 2020-07-15  272412481300040   778064028  0.008458                 1   \n",
       "29030504 2020-07-15  272412481300040   816592008  0.016932                 1   \n",
       "29030505 2020-07-15  272412481300040   621381021  0.033881                 1   \n",
       "29030506 2020-07-15  272412481300040   817477003  0.025407                 1   \n",
       "29030507 2020-07-15  272412481300040   899088002  0.025407                 1   \n",
       "29319533 2020-07-22  272412481300040   885077001  0.008458                 1   \n",
       "29410772 2020-07-24  272412481300040   850176003  0.029034                 2   \n",
       "29410773 2020-07-24  272412481300040   875803001  0.064559                 2   \n",
       "29410774 2020-07-24  272412481300040   892970003  0.020966                 2   \n",
       "29410775 2020-07-24  272412481300040   854619003  0.020966                 2   \n",
       "29531614 2020-07-27  272412481300040   900398001  0.030492                 2   \n",
       "29531615 2020-07-27  272412481300040   834179002  0.025407                 2   \n",
       "29531616 2020-07-27  272412481300040   875803001  0.067780                 2   \n",
       "31495014 2020-09-14  272412481300040   923460002  0.039932                 2   \n",
       "31495015 2020-09-14  272412481300040   922381001  0.039932                 2   \n",
       "31495016 2020-09-14  272412481300040   921906005  0.031949                 2   \n",
       "\n",
       "          week  \n",
       "29030503    95  \n",
       "29030504    95  \n",
       "29030505    95  \n",
       "29030506    95  \n",
       "29030507    95  \n",
       "29319533    96  \n",
       "29410772    96  \n",
       "29410773    96  \n",
       "29410774    96  \n",
       "29410775    96  \n",
       "29531614    96  \n",
       "29531615    96  \n",
       "29531616    96  \n",
       "31495014   103  \n",
       "31495015   103  \n",
       "31495016   103  "
      ]
     },
     "execution_count": 14,
     "metadata": {},
     "output_type": "execute_result"
    }
   ],
   "source": [
    "transactions[transactions['customer_id']==272412481300040]"
   ]
  },
  {
   "cell_type": "markdown",
   "id": "05fd7a83",
   "metadata": {
    "papermill": {
     "duration": 0.077368,
     "end_time": "2023-11-07T11:34:29.614445",
     "exception": false,
     "start_time": "2023-11-07T11:34:29.537077",
     "status": "completed"
    },
    "tags": []
   },
   "source": [
    "### Bestsellers candidates"
   ]
  },
  {
   "cell_type": "code",
   "execution_count": 15,
   "id": "80e38771",
   "metadata": {
    "execution": {
     "iopub.execute_input": "2023-11-07T11:34:29.773445Z",
     "iopub.status.busy": "2023-11-07T11:34:29.772935Z",
     "iopub.status.idle": "2023-11-07T11:34:30.046038Z",
     "shell.execute_reply": "2023-11-07T11:34:30.045112Z"
    },
    "papermill": {
     "duration": 0.356092,
     "end_time": "2023-11-07T11:34:30.048681",
     "exception": false,
     "start_time": "2023-11-07T11:34:29.692589",
     "status": "completed"
    },
    "tags": []
   },
   "outputs": [],
   "source": [
    "mean_price = transactions \\\n",
    "    .groupby(['week', 'article_id'])['price'].mean()"
   ]
  },
  {
   "cell_type": "code",
   "execution_count": 16,
   "id": "10744703",
   "metadata": {
    "execution": {
     "iopub.execute_input": "2023-11-07T11:34:30.228368Z",
     "iopub.status.busy": "2023-11-07T11:34:30.227875Z",
     "iopub.status.idle": "2023-11-07T11:34:30.298392Z",
     "shell.execute_reply": "2023-11-07T11:34:30.297362Z"
    },
    "papermill": {
     "duration": 0.173672,
     "end_time": "2023-11-07T11:34:30.301345",
     "exception": false,
     "start_time": "2023-11-07T11:34:30.127673",
     "status": "completed"
    },
    "tags": []
   },
   "outputs": [
    {
     "data": {
      "text/plain": [
       "week  article_id\n",
       "95    108775015     0.004729\n",
       "      108775044     0.008458\n",
       "      110065001     0.006085\n",
       "      110065002     0.006085\n",
       "      111565001     0.004288\n",
       "                      ...   \n",
       "104   952267001     0.013732\n",
       "      952938001     0.048651\n",
       "      953450001     0.016932\n",
       "      953763001     0.021885\n",
       "      956217002     0.059068\n",
       "Name: price, Length: 196880, dtype: float32"
      ]
     },
     "execution_count": 16,
     "metadata": {},
     "output_type": "execute_result"
    }
   ],
   "source": [
    "mean_price"
   ]
  },
  {
   "cell_type": "code",
   "execution_count": 17,
   "id": "00e2a352",
   "metadata": {
    "execution": {
     "iopub.execute_input": "2023-11-07T11:34:30.461676Z",
     "iopub.status.busy": "2023-11-07T11:34:30.461284Z",
     "iopub.status.idle": "2023-11-07T11:34:31.547210Z",
     "shell.execute_reply": "2023-11-07T11:34:31.546332Z"
    },
    "papermill": {
     "duration": 1.169412,
     "end_time": "2023-11-07T11:34:31.550117",
     "exception": false,
     "start_time": "2023-11-07T11:34:30.380705",
     "status": "completed"
    },
    "tags": []
   },
   "outputs": [],
   "source": [
    "sales = transactions \\\n",
    "    .groupby('week')['article_id'].value_counts() \\\n",
    "    .groupby('week').rank(method='dense', ascending=False) \\\n",
    "    .groupby('week').head(12).rename('bestseller_rank').astype('int8')"
   ]
  },
  {
   "cell_type": "code",
   "execution_count": 18,
   "id": "d4cb6581",
   "metadata": {
    "execution": {
     "iopub.execute_input": "2023-11-07T11:34:31.715536Z",
     "iopub.status.busy": "2023-11-07T11:34:31.714437Z",
     "iopub.status.idle": "2023-11-07T11:34:31.725611Z",
     "shell.execute_reply": "2023-11-07T11:34:31.724542Z"
    },
    "papermill": {
     "duration": 0.097084,
     "end_time": "2023-11-07T11:34:31.727978",
     "exception": false,
     "start_time": "2023-11-07T11:34:31.630894",
     "status": "completed"
    },
    "tags": []
   },
   "outputs": [
    {
     "data": {
      "text/plain": [
       "week  article_id\n",
       "95    760084003      1\n",
       "      866731001      2\n",
       "      600886001      3\n",
       "      706016001      4\n",
       "      372860002      5\n",
       "                    ..\n",
       "104   915529003      8\n",
       "      915529005      9\n",
       "      448509014     10\n",
       "      762846027     11\n",
       "      714790020     12\n",
       "Name: bestseller_rank, Length: 120, dtype: int8"
      ]
     },
     "execution_count": 18,
     "metadata": {},
     "output_type": "execute_result"
    }
   ],
   "source": [
    "sales"
   ]
  },
  {
   "cell_type": "code",
   "execution_count": 19,
   "id": "b1a5afb4",
   "metadata": {
    "execution": {
     "iopub.execute_input": "2023-11-07T11:34:31.888329Z",
     "iopub.status.busy": "2023-11-07T11:34:31.887948Z",
     "iopub.status.idle": "2023-11-07T11:34:31.898038Z",
     "shell.execute_reply": "2023-11-07T11:34:31.896898Z"
    },
    "papermill": {
     "duration": 0.093725,
     "end_time": "2023-11-07T11:34:31.900286",
     "exception": false,
     "start_time": "2023-11-07T11:34:31.806561",
     "status": "completed"
    },
    "tags": []
   },
   "outputs": [
    {
     "data": {
      "text/plain": [
       "article_id\n",
       "760084003     1\n",
       "866731001     2\n",
       "600886001     3\n",
       "706016001     4\n",
       "372860002     5\n",
       "610776002     6\n",
       "877278002     7\n",
       "547780003     8\n",
       "817354001     9\n",
       "827968001    10\n",
       "866731003    11\n",
       "866383006    12\n",
       "Name: bestseller_rank, dtype: int8"
      ]
     },
     "execution_count": 19,
     "metadata": {},
     "output_type": "execute_result"
    }
   ],
   "source": [
    "sales.loc[95]"
   ]
  },
  {
   "cell_type": "code",
   "execution_count": 20,
   "id": "9d5353e8",
   "metadata": {
    "execution": {
     "iopub.execute_input": "2023-11-07T11:34:32.061922Z",
     "iopub.status.busy": "2023-11-07T11:34:32.061538Z",
     "iopub.status.idle": "2023-11-07T11:34:32.108276Z",
     "shell.execute_reply": "2023-11-07T11:34:32.107374Z"
    },
    "papermill": {
     "duration": 0.131117,
     "end_time": "2023-11-07T11:34:32.110882",
     "exception": false,
     "start_time": "2023-11-07T11:34:31.979765",
     "status": "completed"
    },
    "tags": []
   },
   "outputs": [],
   "source": [
    "bestsellers_previous_week = pd.merge(sales, mean_price, on=['week', 'article_id']).reset_index()\n",
    "bestsellers_previous_week.week += 1"
   ]
  },
  {
   "cell_type": "code",
   "execution_count": 21,
   "id": "57686361",
   "metadata": {
    "execution": {
     "iopub.execute_input": "2023-11-07T11:34:32.273680Z",
     "iopub.status.busy": "2023-11-07T11:34:32.273311Z",
     "iopub.status.idle": "2023-11-07T11:34:32.288454Z",
     "shell.execute_reply": "2023-11-07T11:34:32.287186Z"
    },
    "papermill": {
     "duration": 0.099704,
     "end_time": "2023-11-07T11:34:32.290950",
     "exception": false,
     "start_time": "2023-11-07T11:34:32.191246",
     "status": "completed"
    },
    "tags": []
   },
   "outputs": [
    {
     "data": {
      "text/html": [
       "<div>\n",
       "<style scoped>\n",
       "    .dataframe tbody tr th:only-of-type {\n",
       "        vertical-align: middle;\n",
       "    }\n",
       "\n",
       "    .dataframe tbody tr th {\n",
       "        vertical-align: top;\n",
       "    }\n",
       "\n",
       "    .dataframe thead th {\n",
       "        text-align: right;\n",
       "    }\n",
       "</style>\n",
       "<table border=\"1\" class=\"dataframe\">\n",
       "  <thead>\n",
       "    <tr style=\"text-align: right;\">\n",
       "      <th></th>\n",
       "      <th>week</th>\n",
       "      <th>article_id</th>\n",
       "      <th>bestseller_rank</th>\n",
       "      <th>price</th>\n",
       "    </tr>\n",
       "  </thead>\n",
       "  <tbody>\n",
       "    <tr>\n",
       "      <th>0</th>\n",
       "      <td>96</td>\n",
       "      <td>760084003</td>\n",
       "      <td>1</td>\n",
       "      <td>0.025094</td>\n",
       "    </tr>\n",
       "    <tr>\n",
       "      <th>1</th>\n",
       "      <td>96</td>\n",
       "      <td>866731001</td>\n",
       "      <td>2</td>\n",
       "      <td>0.024919</td>\n",
       "    </tr>\n",
       "    <tr>\n",
       "      <th>2</th>\n",
       "      <td>96</td>\n",
       "      <td>600886001</td>\n",
       "      <td>3</td>\n",
       "      <td>0.022980</td>\n",
       "    </tr>\n",
       "    <tr>\n",
       "      <th>3</th>\n",
       "      <td>96</td>\n",
       "      <td>706016001</td>\n",
       "      <td>4</td>\n",
       "      <td>0.033197</td>\n",
       "    </tr>\n",
       "    <tr>\n",
       "      <th>4</th>\n",
       "      <td>96</td>\n",
       "      <td>372860002</td>\n",
       "      <td>5</td>\n",
       "      <td>0.013193</td>\n",
       "    </tr>\n",
       "    <tr>\n",
       "      <th>5</th>\n",
       "      <td>96</td>\n",
       "      <td>610776002</td>\n",
       "      <td>6</td>\n",
       "      <td>0.008318</td>\n",
       "    </tr>\n",
       "    <tr>\n",
       "      <th>6</th>\n",
       "      <td>96</td>\n",
       "      <td>877278002</td>\n",
       "      <td>7</td>\n",
       "      <td>0.025036</td>\n",
       "    </tr>\n",
       "    <tr>\n",
       "      <th>7</th>\n",
       "      <td>96</td>\n",
       "      <td>547780003</td>\n",
       "      <td>8</td>\n",
       "      <td>0.024814</td>\n",
       "    </tr>\n",
       "    <tr>\n",
       "      <th>8</th>\n",
       "      <td>96</td>\n",
       "      <td>817354001</td>\n",
       "      <td>9</td>\n",
       "      <td>0.021913</td>\n",
       "    </tr>\n",
       "    <tr>\n",
       "      <th>9</th>\n",
       "      <td>96</td>\n",
       "      <td>827968001</td>\n",
       "      <td>10</td>\n",
       "      <td>0.016436</td>\n",
       "    </tr>\n",
       "    <tr>\n",
       "      <th>10</th>\n",
       "      <td>96</td>\n",
       "      <td>866731003</td>\n",
       "      <td>11</td>\n",
       "      <td>0.024893</td>\n",
       "    </tr>\n",
       "    <tr>\n",
       "      <th>11</th>\n",
       "      <td>96</td>\n",
       "      <td>866383006</td>\n",
       "      <td>12</td>\n",
       "      <td>0.023195</td>\n",
       "    </tr>\n",
       "  </tbody>\n",
       "</table>\n",
       "</div>"
      ],
      "text/plain": [
       "    week  article_id  bestseller_rank     price\n",
       "0     96   760084003                1  0.025094\n",
       "1     96   866731001                2  0.024919\n",
       "2     96   600886001                3  0.022980\n",
       "3     96   706016001                4  0.033197\n",
       "4     96   372860002                5  0.013193\n",
       "5     96   610776002                6  0.008318\n",
       "6     96   877278002                7  0.025036\n",
       "7     96   547780003                8  0.024814\n",
       "8     96   817354001                9  0.021913\n",
       "9     96   827968001               10  0.016436\n",
       "10    96   866731003               11  0.024893\n",
       "11    96   866383006               12  0.023195"
      ]
     },
     "execution_count": 21,
     "metadata": {},
     "output_type": "execute_result"
    }
   ],
   "source": [
    "bestsellers_previous_week.pipe(lambda df: df[df['week']==96])"
   ]
  },
  {
   "cell_type": "code",
   "execution_count": 22,
   "id": "2b948443",
   "metadata": {
    "execution": {
     "iopub.execute_input": "2023-11-07T11:34:32.453450Z",
     "iopub.status.busy": "2023-11-07T11:34:32.452437Z",
     "iopub.status.idle": "2023-11-07T11:34:33.186261Z",
     "shell.execute_reply": "2023-11-07T11:34:33.185149Z"
    },
    "papermill": {
     "duration": 0.817707,
     "end_time": "2023-11-07T11:34:33.189195",
     "exception": false,
     "start_time": "2023-11-07T11:34:32.371488",
     "status": "completed"
    },
    "tags": []
   },
   "outputs": [],
   "source": [
    "unique_transactions = transactions \\\n",
    "    .groupby(['week', 'customer_id']) \\\n",
    "    .head(1) \\\n",
    "    .drop(columns=['article_id', 'price']) \\\n",
    "    .copy()"
   ]
  },
  {
   "cell_type": "code",
   "execution_count": 23,
   "id": "8f0d1f83",
   "metadata": {
    "execution": {
     "iopub.execute_input": "2023-11-07T11:34:33.353228Z",
     "iopub.status.busy": "2023-11-07T11:34:33.352880Z",
     "iopub.status.idle": "2023-11-07T11:34:33.369780Z",
     "shell.execute_reply": "2023-11-07T11:34:33.368671Z"
    },
    "papermill": {
     "duration": 0.103613,
     "end_time": "2023-11-07T11:34:33.372577",
     "exception": false,
     "start_time": "2023-11-07T11:34:33.268964",
     "status": "completed"
    },
    "tags": []
   },
   "outputs": [
    {
     "data": {
      "text/html": [
       "<div>\n",
       "<style scoped>\n",
       "    .dataframe tbody tr th:only-of-type {\n",
       "        vertical-align: middle;\n",
       "    }\n",
       "\n",
       "    .dataframe tbody tr th {\n",
       "        vertical-align: top;\n",
       "    }\n",
       "\n",
       "    .dataframe thead th {\n",
       "        text-align: right;\n",
       "    }\n",
       "</style>\n",
       "<table border=\"1\" class=\"dataframe\">\n",
       "  <thead>\n",
       "    <tr style=\"text-align: right;\">\n",
       "      <th></th>\n",
       "      <th>t_dat</th>\n",
       "      <th>customer_id</th>\n",
       "      <th>sales_channel_id</th>\n",
       "      <th>week</th>\n",
       "    </tr>\n",
       "  </thead>\n",
       "  <tbody>\n",
       "    <tr>\n",
       "      <th>29030503</th>\n",
       "      <td>2020-07-15</td>\n",
       "      <td>272412481300040</td>\n",
       "      <td>1</td>\n",
       "      <td>95</td>\n",
       "    </tr>\n",
       "    <tr>\n",
       "      <th>29064059</th>\n",
       "      <td>2020-07-15</td>\n",
       "      <td>1456826891333599</td>\n",
       "      <td>1</td>\n",
       "      <td>95</td>\n",
       "    </tr>\n",
       "    <tr>\n",
       "      <th>29067103</th>\n",
       "      <td>2020-07-15</td>\n",
       "      <td>2133687643102426</td>\n",
       "      <td>2</td>\n",
       "      <td>95</td>\n",
       "    </tr>\n",
       "    <tr>\n",
       "      <th>29027487</th>\n",
       "      <td>2020-07-15</td>\n",
       "      <td>6010692573790711</td>\n",
       "      <td>1</td>\n",
       "      <td>95</td>\n",
       "    </tr>\n",
       "    <tr>\n",
       "      <th>29046403</th>\n",
       "      <td>2020-07-15</td>\n",
       "      <td>6171059100114610</td>\n",
       "      <td>2</td>\n",
       "      <td>95</td>\n",
       "    </tr>\n",
       "    <tr>\n",
       "      <th>...</th>\n",
       "      <td>...</td>\n",
       "      <td>...</td>\n",
       "      <td>...</td>\n",
       "      <td>...</td>\n",
       "    </tr>\n",
       "    <tr>\n",
       "      <th>31760188</th>\n",
       "      <td>2020-09-22</td>\n",
       "      <td>18435221511488011015</td>\n",
       "      <td>1</td>\n",
       "      <td>104</td>\n",
       "    </tr>\n",
       "    <tr>\n",
       "      <th>31782234</th>\n",
       "      <td>2020-09-22</td>\n",
       "      <td>18436859303155335645</td>\n",
       "      <td>1</td>\n",
       "      <td>104</td>\n",
       "    </tr>\n",
       "    <tr>\n",
       "      <th>31787251</th>\n",
       "      <td>2020-09-22</td>\n",
       "      <td>18437941771381362708</td>\n",
       "      <td>2</td>\n",
       "      <td>104</td>\n",
       "    </tr>\n",
       "    <tr>\n",
       "      <th>31776022</th>\n",
       "      <td>2020-09-22</td>\n",
       "      <td>18438270306572912089</td>\n",
       "      <td>1</td>\n",
       "      <td>104</td>\n",
       "    </tr>\n",
       "    <tr>\n",
       "      <th>31779097</th>\n",
       "      <td>2020-09-22</td>\n",
       "      <td>18440902715633436014</td>\n",
       "      <td>1</td>\n",
       "      <td>104</td>\n",
       "    </tr>\n",
       "  </tbody>\n",
       "</table>\n",
       "<p>755710 rows × 4 columns</p>\n",
       "</div>"
      ],
      "text/plain": [
       "              t_dat           customer_id  sales_channel_id  week\n",
       "29030503 2020-07-15       272412481300040                 1    95\n",
       "29064059 2020-07-15      1456826891333599                 1    95\n",
       "29067103 2020-07-15      2133687643102426                 2    95\n",
       "29027487 2020-07-15      6010692573790711                 1    95\n",
       "29046403 2020-07-15      6171059100114610                 2    95\n",
       "...             ...                   ...               ...   ...\n",
       "31760188 2020-09-22  18435221511488011015                 1   104\n",
       "31782234 2020-09-22  18436859303155335645                 1   104\n",
       "31787251 2020-09-22  18437941771381362708                 2   104\n",
       "31776022 2020-09-22  18438270306572912089                 1   104\n",
       "31779097 2020-09-22  18440902715633436014                 1   104\n",
       "\n",
       "[755710 rows x 4 columns]"
      ]
     },
     "execution_count": 23,
     "metadata": {},
     "output_type": "execute_result"
    }
   ],
   "source": [
    "unique_transactions"
   ]
  },
  {
   "cell_type": "code",
   "execution_count": 24,
   "id": "2a732145",
   "metadata": {
    "execution": {
     "iopub.execute_input": "2023-11-07T11:34:33.536590Z",
     "iopub.status.busy": "2023-11-07T11:34:33.536273Z",
     "iopub.status.idle": "2023-11-07T11:34:33.873751Z",
     "shell.execute_reply": "2023-11-07T11:34:33.873048Z"
    },
    "papermill": {
     "duration": 0.42301,
     "end_time": "2023-11-07T11:34:33.876076",
     "exception": false,
     "start_time": "2023-11-07T11:34:33.453066",
     "status": "completed"
    },
    "tags": []
   },
   "outputs": [
    {
     "data": {
      "text/html": [
       "<div>\n",
       "<style scoped>\n",
       "    .dataframe tbody tr th:only-of-type {\n",
       "        vertical-align: middle;\n",
       "    }\n",
       "\n",
       "    .dataframe tbody tr th {\n",
       "        vertical-align: top;\n",
       "    }\n",
       "\n",
       "    .dataframe thead th {\n",
       "        text-align: right;\n",
       "    }\n",
       "</style>\n",
       "<table border=\"1\" class=\"dataframe\">\n",
       "  <thead>\n",
       "    <tr style=\"text-align: right;\">\n",
       "      <th></th>\n",
       "      <th>t_dat</th>\n",
       "      <th>customer_id</th>\n",
       "      <th>article_id</th>\n",
       "      <th>price</th>\n",
       "      <th>sales_channel_id</th>\n",
       "      <th>week</th>\n",
       "    </tr>\n",
       "  </thead>\n",
       "  <tbody>\n",
       "    <tr>\n",
       "      <th>29030503</th>\n",
       "      <td>2020-07-15</td>\n",
       "      <td>272412481300040</td>\n",
       "      <td>778064028</td>\n",
       "      <td>0.008458</td>\n",
       "      <td>1</td>\n",
       "      <td>95</td>\n",
       "    </tr>\n",
       "    <tr>\n",
       "      <th>29064059</th>\n",
       "      <td>2020-07-15</td>\n",
       "      <td>1456826891333599</td>\n",
       "      <td>888294001</td>\n",
       "      <td>0.013542</td>\n",
       "      <td>1</td>\n",
       "      <td>95</td>\n",
       "    </tr>\n",
       "    <tr>\n",
       "      <th>29067103</th>\n",
       "      <td>2020-07-15</td>\n",
       "      <td>2133687643102426</td>\n",
       "      <td>843642001</td>\n",
       "      <td>0.042356</td>\n",
       "      <td>2</td>\n",
       "      <td>95</td>\n",
       "    </tr>\n",
       "    <tr>\n",
       "      <th>29027487</th>\n",
       "      <td>2020-07-15</td>\n",
       "      <td>6010692573790711</td>\n",
       "      <td>857812010</td>\n",
       "      <td>0.039661</td>\n",
       "      <td>1</td>\n",
       "      <td>95</td>\n",
       "    </tr>\n",
       "    <tr>\n",
       "      <th>29046403</th>\n",
       "      <td>2020-07-15</td>\n",
       "      <td>6171059100114610</td>\n",
       "      <td>815447007</td>\n",
       "      <td>0.006763</td>\n",
       "      <td>2</td>\n",
       "      <td>95</td>\n",
       "    </tr>\n",
       "    <tr>\n",
       "      <th>...</th>\n",
       "      <td>...</td>\n",
       "      <td>...</td>\n",
       "      <td>...</td>\n",
       "      <td>...</td>\n",
       "      <td>...</td>\n",
       "      <td>...</td>\n",
       "    </tr>\n",
       "    <tr>\n",
       "      <th>31760188</th>\n",
       "      <td>2020-09-22</td>\n",
       "      <td>18435221511488011015</td>\n",
       "      <td>573085055</td>\n",
       "      <td>0.033881</td>\n",
       "      <td>1</td>\n",
       "      <td>104</td>\n",
       "    </tr>\n",
       "    <tr>\n",
       "      <th>31782234</th>\n",
       "      <td>2020-09-22</td>\n",
       "      <td>18436859303155335645</td>\n",
       "      <td>801447001</td>\n",
       "      <td>0.030492</td>\n",
       "      <td>1</td>\n",
       "      <td>104</td>\n",
       "    </tr>\n",
       "    <tr>\n",
       "      <th>31787251</th>\n",
       "      <td>2020-09-22</td>\n",
       "      <td>18437941771381362708</td>\n",
       "      <td>907188001</td>\n",
       "      <td>0.050831</td>\n",
       "      <td>2</td>\n",
       "      <td>104</td>\n",
       "    </tr>\n",
       "    <tr>\n",
       "      <th>31776022</th>\n",
       "      <td>2020-09-22</td>\n",
       "      <td>18438270306572912089</td>\n",
       "      <td>751471043</td>\n",
       "      <td>0.033881</td>\n",
       "      <td>1</td>\n",
       "      <td>104</td>\n",
       "    </tr>\n",
       "    <tr>\n",
       "      <th>31779097</th>\n",
       "      <td>2020-09-22</td>\n",
       "      <td>18440902715633436014</td>\n",
       "      <td>918894002</td>\n",
       "      <td>0.016932</td>\n",
       "      <td>1</td>\n",
       "      <td>104</td>\n",
       "    </tr>\n",
       "  </tbody>\n",
       "</table>\n",
       "<p>755710 rows × 6 columns</p>\n",
       "</div>"
      ],
      "text/plain": [
       "              t_dat           customer_id  article_id     price  \\\n",
       "29030503 2020-07-15       272412481300040   778064028  0.008458   \n",
       "29064059 2020-07-15      1456826891333599   888294001  0.013542   \n",
       "29067103 2020-07-15      2133687643102426   843642001  0.042356   \n",
       "29027487 2020-07-15      6010692573790711   857812010  0.039661   \n",
       "29046403 2020-07-15      6171059100114610   815447007  0.006763   \n",
       "...             ...                   ...         ...       ...   \n",
       "31760188 2020-09-22  18435221511488011015   573085055  0.033881   \n",
       "31782234 2020-09-22  18436859303155335645   801447001  0.030492   \n",
       "31787251 2020-09-22  18437941771381362708   907188001  0.050831   \n",
       "31776022 2020-09-22  18438270306572912089   751471043  0.033881   \n",
       "31779097 2020-09-22  18440902715633436014   918894002  0.016932   \n",
       "\n",
       "          sales_channel_id  week  \n",
       "29030503                 1    95  \n",
       "29064059                 1    95  \n",
       "29067103                 2    95  \n",
       "29027487                 1    95  \n",
       "29046403                 2    95  \n",
       "...                    ...   ...  \n",
       "31760188                 1   104  \n",
       "31782234                 1   104  \n",
       "31787251                 2   104  \n",
       "31776022                 1   104  \n",
       "31779097                 1   104  \n",
       "\n",
       "[755710 rows x 6 columns]"
      ]
     },
     "execution_count": 24,
     "metadata": {},
     "output_type": "execute_result"
    }
   ],
   "source": [
    "transactions.drop_duplicates(['week', 'customer_id'])"
   ]
  },
  {
   "cell_type": "code",
   "execution_count": 25,
   "id": "4dc9b564",
   "metadata": {
    "execution": {
     "iopub.execute_input": "2023-11-07T11:34:34.042316Z",
     "iopub.status.busy": "2023-11-07T11:34:34.041813Z",
     "iopub.status.idle": "2023-11-07T11:34:34.904080Z",
     "shell.execute_reply": "2023-11-07T11:34:34.903260Z"
    },
    "papermill": {
     "duration": 0.94905,
     "end_time": "2023-11-07T11:34:34.907277",
     "exception": false,
     "start_time": "2023-11-07T11:34:33.958227",
     "status": "completed"
    },
    "tags": []
   },
   "outputs": [],
   "source": [
    "candidates_bestsellers = pd.merge(\n",
    "    unique_transactions,\n",
    "    bestsellers_previous_week,\n",
    "    on='week',\n",
    ")"
   ]
  },
  {
   "cell_type": "code",
   "execution_count": 26,
   "id": "4cc7e83d",
   "metadata": {
    "execution": {
     "iopub.execute_input": "2023-11-07T11:34:35.076357Z",
     "iopub.status.busy": "2023-11-07T11:34:35.075716Z",
     "iopub.status.idle": "2023-11-07T11:34:35.203625Z",
     "shell.execute_reply": "2023-11-07T11:34:35.202563Z"
    },
    "papermill": {
     "duration": 0.213109,
     "end_time": "2023-11-07T11:34:35.206390",
     "exception": false,
     "start_time": "2023-11-07T11:34:34.993281",
     "status": "completed"
    },
    "tags": []
   },
   "outputs": [],
   "source": [
    "test_set_transactions = unique_transactions.drop_duplicates('customer_id').reset_index(drop=True)\n",
    "test_set_transactions.week = test_week"
   ]
  },
  {
   "cell_type": "code",
   "execution_count": 27,
   "id": "1706fe0a",
   "metadata": {
    "execution": {
     "iopub.execute_input": "2023-11-07T11:34:35.371381Z",
     "iopub.status.busy": "2023-11-07T11:34:35.370754Z",
     "iopub.status.idle": "2023-11-07T11:34:35.387112Z",
     "shell.execute_reply": "2023-11-07T11:34:35.386140Z"
    },
    "papermill": {
     "duration": 0.102814,
     "end_time": "2023-11-07T11:34:35.390094",
     "exception": false,
     "start_time": "2023-11-07T11:34:35.287280",
     "status": "completed"
    },
    "tags": []
   },
   "outputs": [
    {
     "data": {
      "text/html": [
       "<div>\n",
       "<style scoped>\n",
       "    .dataframe tbody tr th:only-of-type {\n",
       "        vertical-align: middle;\n",
       "    }\n",
       "\n",
       "    .dataframe tbody tr th {\n",
       "        vertical-align: top;\n",
       "    }\n",
       "\n",
       "    .dataframe thead th {\n",
       "        text-align: right;\n",
       "    }\n",
       "</style>\n",
       "<table border=\"1\" class=\"dataframe\">\n",
       "  <thead>\n",
       "    <tr style=\"text-align: right;\">\n",
       "      <th></th>\n",
       "      <th>t_dat</th>\n",
       "      <th>customer_id</th>\n",
       "      <th>sales_channel_id</th>\n",
       "      <th>week</th>\n",
       "    </tr>\n",
       "  </thead>\n",
       "  <tbody>\n",
       "    <tr>\n",
       "      <th>0</th>\n",
       "      <td>2020-07-15</td>\n",
       "      <td>272412481300040</td>\n",
       "      <td>1</td>\n",
       "      <td>105</td>\n",
       "    </tr>\n",
       "    <tr>\n",
       "      <th>1</th>\n",
       "      <td>2020-07-15</td>\n",
       "      <td>1456826891333599</td>\n",
       "      <td>1</td>\n",
       "      <td>105</td>\n",
       "    </tr>\n",
       "    <tr>\n",
       "      <th>2</th>\n",
       "      <td>2020-07-15</td>\n",
       "      <td>2133687643102426</td>\n",
       "      <td>2</td>\n",
       "      <td>105</td>\n",
       "    </tr>\n",
       "    <tr>\n",
       "      <th>3</th>\n",
       "      <td>2020-07-15</td>\n",
       "      <td>6010692573790711</td>\n",
       "      <td>1</td>\n",
       "      <td>105</td>\n",
       "    </tr>\n",
       "    <tr>\n",
       "      <th>4</th>\n",
       "      <td>2020-07-15</td>\n",
       "      <td>6171059100114610</td>\n",
       "      <td>2</td>\n",
       "      <td>105</td>\n",
       "    </tr>\n",
       "    <tr>\n",
       "      <th>...</th>\n",
       "      <td>...</td>\n",
       "      <td>...</td>\n",
       "      <td>...</td>\n",
       "      <td>...</td>\n",
       "    </tr>\n",
       "    <tr>\n",
       "      <th>437360</th>\n",
       "      <td>2020-09-22</td>\n",
       "      <td>18410229429441241008</td>\n",
       "      <td>2</td>\n",
       "      <td>105</td>\n",
       "    </tr>\n",
       "    <tr>\n",
       "      <th>437361</th>\n",
       "      <td>2020-09-22</td>\n",
       "      <td>18417769707947924979</td>\n",
       "      <td>2</td>\n",
       "      <td>105</td>\n",
       "    </tr>\n",
       "    <tr>\n",
       "      <th>437362</th>\n",
       "      <td>2020-09-22</td>\n",
       "      <td>18418054986721795659</td>\n",
       "      <td>2</td>\n",
       "      <td>105</td>\n",
       "    </tr>\n",
       "    <tr>\n",
       "      <th>437363</th>\n",
       "      <td>2020-09-22</td>\n",
       "      <td>18421175435799911749</td>\n",
       "      <td>2</td>\n",
       "      <td>105</td>\n",
       "    </tr>\n",
       "    <tr>\n",
       "      <th>437364</th>\n",
       "      <td>2020-09-22</td>\n",
       "      <td>18438270306572912089</td>\n",
       "      <td>1</td>\n",
       "      <td>105</td>\n",
       "    </tr>\n",
       "  </tbody>\n",
       "</table>\n",
       "<p>437365 rows × 4 columns</p>\n",
       "</div>"
      ],
      "text/plain": [
       "            t_dat           customer_id  sales_channel_id  week\n",
       "0      2020-07-15       272412481300040                 1   105\n",
       "1      2020-07-15      1456826891333599                 1   105\n",
       "2      2020-07-15      2133687643102426                 2   105\n",
       "3      2020-07-15      6010692573790711                 1   105\n",
       "4      2020-07-15      6171059100114610                 2   105\n",
       "...           ...                   ...               ...   ...\n",
       "437360 2020-09-22  18410229429441241008                 2   105\n",
       "437361 2020-09-22  18417769707947924979                 2   105\n",
       "437362 2020-09-22  18418054986721795659                 2   105\n",
       "437363 2020-09-22  18421175435799911749                 2   105\n",
       "437364 2020-09-22  18438270306572912089                 1   105\n",
       "\n",
       "[437365 rows x 4 columns]"
      ]
     },
     "execution_count": 27,
     "metadata": {},
     "output_type": "execute_result"
    }
   ],
   "source": [
    "test_set_transactions"
   ]
  },
  {
   "cell_type": "code",
   "execution_count": 28,
   "id": "aaf1f95f",
   "metadata": {
    "execution": {
     "iopub.execute_input": "2023-11-07T11:34:35.560295Z",
     "iopub.status.busy": "2023-11-07T11:34:35.559391Z",
     "iopub.status.idle": "2023-11-07T11:34:36.134034Z",
     "shell.execute_reply": "2023-11-07T11:34:36.132944Z"
    },
    "papermill": {
     "duration": 0.662188,
     "end_time": "2023-11-07T11:34:36.137218",
     "exception": false,
     "start_time": "2023-11-07T11:34:35.475030",
     "status": "completed"
    },
    "tags": []
   },
   "outputs": [],
   "source": [
    "candidates_bestsellers_test_week = pd.merge(\n",
    "    test_set_transactions,\n",
    "    bestsellers_previous_week,\n",
    "    on='week'\n",
    ")"
   ]
  },
  {
   "cell_type": "code",
   "execution_count": 29,
   "id": "5284d857",
   "metadata": {
    "execution": {
     "iopub.execute_input": "2023-11-07T11:34:36.302869Z",
     "iopub.status.busy": "2023-11-07T11:34:36.302321Z",
     "iopub.status.idle": "2023-11-07T11:34:37.516419Z",
     "shell.execute_reply": "2023-11-07T11:34:37.515551Z"
    },
    "papermill": {
     "duration": 1.300208,
     "end_time": "2023-11-07T11:34:37.519117",
     "exception": false,
     "start_time": "2023-11-07T11:34:36.218909",
     "status": "completed"
    },
    "tags": []
   },
   "outputs": [],
   "source": [
    "candidates_bestsellers = pd.concat([candidates_bestsellers, candidates_bestsellers_test_week])\n",
    "candidates_bestsellers.drop(columns='bestseller_rank', inplace=True)"
   ]
  },
  {
   "cell_type": "code",
   "execution_count": 30,
   "id": "98e21271",
   "metadata": {
    "execution": {
     "iopub.execute_input": "2023-11-07T11:34:37.683657Z",
     "iopub.status.busy": "2023-11-07T11:34:37.683146Z",
     "iopub.status.idle": "2023-11-07T11:34:37.700965Z",
     "shell.execute_reply": "2023-11-07T11:34:37.699994Z"
    },
    "papermill": {
     "duration": 0.10334,
     "end_time": "2023-11-07T11:34:37.703414",
     "exception": false,
     "start_time": "2023-11-07T11:34:37.600074",
     "status": "completed"
    },
    "tags": []
   },
   "outputs": [
    {
     "data": {
      "text/html": [
       "<div>\n",
       "<style scoped>\n",
       "    .dataframe tbody tr th:only-of-type {\n",
       "        vertical-align: middle;\n",
       "    }\n",
       "\n",
       "    .dataframe tbody tr th {\n",
       "        vertical-align: top;\n",
       "    }\n",
       "\n",
       "    .dataframe thead th {\n",
       "        text-align: right;\n",
       "    }\n",
       "</style>\n",
       "<table border=\"1\" class=\"dataframe\">\n",
       "  <thead>\n",
       "    <tr style=\"text-align: right;\">\n",
       "      <th></th>\n",
       "      <th>t_dat</th>\n",
       "      <th>customer_id</th>\n",
       "      <th>sales_channel_id</th>\n",
       "      <th>week</th>\n",
       "      <th>article_id</th>\n",
       "      <th>price</th>\n",
       "    </tr>\n",
       "  </thead>\n",
       "  <tbody>\n",
       "    <tr>\n",
       "      <th>0</th>\n",
       "      <td>2020-07-22</td>\n",
       "      <td>200292573348128</td>\n",
       "      <td>2</td>\n",
       "      <td>96</td>\n",
       "      <td>760084003</td>\n",
       "      <td>0.025094</td>\n",
       "    </tr>\n",
       "    <tr>\n",
       "      <th>1</th>\n",
       "      <td>2020-07-22</td>\n",
       "      <td>200292573348128</td>\n",
       "      <td>2</td>\n",
       "      <td>96</td>\n",
       "      <td>866731001</td>\n",
       "      <td>0.024919</td>\n",
       "    </tr>\n",
       "    <tr>\n",
       "      <th>2</th>\n",
       "      <td>2020-07-22</td>\n",
       "      <td>200292573348128</td>\n",
       "      <td>2</td>\n",
       "      <td>96</td>\n",
       "      <td>600886001</td>\n",
       "      <td>0.022980</td>\n",
       "    </tr>\n",
       "    <tr>\n",
       "      <th>3</th>\n",
       "      <td>2020-07-22</td>\n",
       "      <td>200292573348128</td>\n",
       "      <td>2</td>\n",
       "      <td>96</td>\n",
       "      <td>706016001</td>\n",
       "      <td>0.033197</td>\n",
       "    </tr>\n",
       "    <tr>\n",
       "      <th>4</th>\n",
       "      <td>2020-07-22</td>\n",
       "      <td>200292573348128</td>\n",
       "      <td>2</td>\n",
       "      <td>96</td>\n",
       "      <td>372860002</td>\n",
       "      <td>0.013193</td>\n",
       "    </tr>\n",
       "    <tr>\n",
       "      <th>...</th>\n",
       "      <td>...</td>\n",
       "      <td>...</td>\n",
       "      <td>...</td>\n",
       "      <td>...</td>\n",
       "      <td>...</td>\n",
       "      <td>...</td>\n",
       "    </tr>\n",
       "    <tr>\n",
       "      <th>5248375</th>\n",
       "      <td>2020-09-22</td>\n",
       "      <td>18438270306572912089</td>\n",
       "      <td>1</td>\n",
       "      <td>105</td>\n",
       "      <td>915529003</td>\n",
       "      <td>0.033439</td>\n",
       "    </tr>\n",
       "    <tr>\n",
       "      <th>5248376</th>\n",
       "      <td>2020-09-22</td>\n",
       "      <td>18438270306572912089</td>\n",
       "      <td>1</td>\n",
       "      <td>105</td>\n",
       "      <td>915529005</td>\n",
       "      <td>0.033417</td>\n",
       "    </tr>\n",
       "    <tr>\n",
       "      <th>5248377</th>\n",
       "      <td>2020-09-22</td>\n",
       "      <td>18438270306572912089</td>\n",
       "      <td>1</td>\n",
       "      <td>105</td>\n",
       "      <td>448509014</td>\n",
       "      <td>0.041630</td>\n",
       "    </tr>\n",
       "    <tr>\n",
       "      <th>5248378</th>\n",
       "      <td>2020-09-22</td>\n",
       "      <td>18438270306572912089</td>\n",
       "      <td>1</td>\n",
       "      <td>105</td>\n",
       "      <td>762846027</td>\n",
       "      <td>0.025005</td>\n",
       "    </tr>\n",
       "    <tr>\n",
       "      <th>5248379</th>\n",
       "      <td>2020-09-22</td>\n",
       "      <td>18438270306572912089</td>\n",
       "      <td>1</td>\n",
       "      <td>105</td>\n",
       "      <td>714790020</td>\n",
       "      <td>0.049951</td>\n",
       "    </tr>\n",
       "  </tbody>\n",
       "</table>\n",
       "<p>13389576 rows × 6 columns</p>\n",
       "</div>"
      ],
      "text/plain": [
       "             t_dat           customer_id  sales_channel_id  week  article_id  \\\n",
       "0       2020-07-22       200292573348128                 2    96   760084003   \n",
       "1       2020-07-22       200292573348128                 2    96   866731001   \n",
       "2       2020-07-22       200292573348128                 2    96   600886001   \n",
       "3       2020-07-22       200292573348128                 2    96   706016001   \n",
       "4       2020-07-22       200292573348128                 2    96   372860002   \n",
       "...            ...                   ...               ...   ...         ...   \n",
       "5248375 2020-09-22  18438270306572912089                 1   105   915529003   \n",
       "5248376 2020-09-22  18438270306572912089                 1   105   915529005   \n",
       "5248377 2020-09-22  18438270306572912089                 1   105   448509014   \n",
       "5248378 2020-09-22  18438270306572912089                 1   105   762846027   \n",
       "5248379 2020-09-22  18438270306572912089                 1   105   714790020   \n",
       "\n",
       "            price  \n",
       "0        0.025094  \n",
       "1        0.024919  \n",
       "2        0.022980  \n",
       "3        0.033197  \n",
       "4        0.013193  \n",
       "...           ...  \n",
       "5248375  0.033439  \n",
       "5248376  0.033417  \n",
       "5248377  0.041630  \n",
       "5248378  0.025005  \n",
       "5248379  0.049951  \n",
       "\n",
       "[13389576 rows x 6 columns]"
      ]
     },
     "execution_count": 30,
     "metadata": {},
     "output_type": "execute_result"
    }
   ],
   "source": [
    "candidates_bestsellers"
   ]
  },
  {
   "cell_type": "markdown",
   "id": "ead56a24",
   "metadata": {
    "papermill": {
     "duration": 0.082836,
     "end_time": "2023-11-07T11:34:37.868425",
     "exception": false,
     "start_time": "2023-11-07T11:34:37.785589",
     "status": "completed"
    },
    "tags": []
   },
   "source": [
    "# Combining transactions and candidates / negative examples"
   ]
  },
  {
   "cell_type": "code",
   "execution_count": 31,
   "id": "93cd2439",
   "metadata": {
    "execution": {
     "iopub.execute_input": "2023-11-07T11:34:38.033771Z",
     "iopub.status.busy": "2023-11-07T11:34:38.033231Z",
     "iopub.status.idle": "2023-11-07T11:34:38.047821Z",
     "shell.execute_reply": "2023-11-07T11:34:38.046866Z"
    },
    "papermill": {
     "duration": 0.100407,
     "end_time": "2023-11-07T11:34:38.050544",
     "exception": false,
     "start_time": "2023-11-07T11:34:37.950137",
     "status": "completed"
    },
    "tags": []
   },
   "outputs": [],
   "source": [
    "transactions['purchased'] = 1"
   ]
  },
  {
   "cell_type": "code",
   "execution_count": 32,
   "id": "9f599047",
   "metadata": {
    "execution": {
     "iopub.execute_input": "2023-11-07T11:34:38.221650Z",
     "iopub.status.busy": "2023-11-07T11:34:38.221129Z",
     "iopub.status.idle": "2023-11-07T11:34:39.027947Z",
     "shell.execute_reply": "2023-11-07T11:34:39.026818Z"
    },
    "papermill": {
     "duration": 0.895389,
     "end_time": "2023-11-07T11:34:39.030933",
     "exception": false,
     "start_time": "2023-11-07T11:34:38.135544",
     "status": "completed"
    },
    "tags": []
   },
   "outputs": [],
   "source": [
    "data = pd.concat([transactions, candidates_last_purchase, candidates_bestsellers])\n",
    "data.purchased.fillna(0, inplace=True)"
   ]
  },
  {
   "cell_type": "code",
   "execution_count": 33,
   "id": "031c713c",
   "metadata": {
    "execution": {
     "iopub.execute_input": "2023-11-07T11:34:39.202027Z",
     "iopub.status.busy": "2023-11-07T11:34:39.201662Z",
     "iopub.status.idle": "2023-11-07T11:34:39.222742Z",
     "shell.execute_reply": "2023-11-07T11:34:39.221767Z"
    },
    "papermill": {
     "duration": 0.110375,
     "end_time": "2023-11-07T11:34:39.225501",
     "exception": false,
     "start_time": "2023-11-07T11:34:39.115126",
     "status": "completed"
    },
    "tags": []
   },
   "outputs": [
    {
     "data": {
      "text/html": [
       "<div>\n",
       "<style scoped>\n",
       "    .dataframe tbody tr th:only-of-type {\n",
       "        vertical-align: middle;\n",
       "    }\n",
       "\n",
       "    .dataframe tbody tr th {\n",
       "        vertical-align: top;\n",
       "    }\n",
       "\n",
       "    .dataframe thead th {\n",
       "        text-align: right;\n",
       "    }\n",
       "</style>\n",
       "<table border=\"1\" class=\"dataframe\">\n",
       "  <thead>\n",
       "    <tr style=\"text-align: right;\">\n",
       "      <th></th>\n",
       "      <th>t_dat</th>\n",
       "      <th>customer_id</th>\n",
       "      <th>article_id</th>\n",
       "      <th>price</th>\n",
       "      <th>sales_channel_id</th>\n",
       "      <th>week</th>\n",
       "      <th>purchased</th>\n",
       "    </tr>\n",
       "  </thead>\n",
       "  <tbody>\n",
       "    <tr>\n",
       "      <th>29030503</th>\n",
       "      <td>2020-07-15</td>\n",
       "      <td>272412481300040</td>\n",
       "      <td>778064028</td>\n",
       "      <td>0.008458</td>\n",
       "      <td>1</td>\n",
       "      <td>95</td>\n",
       "      <td>1.0</td>\n",
       "    </tr>\n",
       "    <tr>\n",
       "      <th>29030504</th>\n",
       "      <td>2020-07-15</td>\n",
       "      <td>272412481300040</td>\n",
       "      <td>816592008</td>\n",
       "      <td>0.016932</td>\n",
       "      <td>1</td>\n",
       "      <td>95</td>\n",
       "      <td>1.0</td>\n",
       "    </tr>\n",
       "    <tr>\n",
       "      <th>29030505</th>\n",
       "      <td>2020-07-15</td>\n",
       "      <td>272412481300040</td>\n",
       "      <td>621381021</td>\n",
       "      <td>0.033881</td>\n",
       "      <td>1</td>\n",
       "      <td>95</td>\n",
       "      <td>1.0</td>\n",
       "    </tr>\n",
       "    <tr>\n",
       "      <th>29030506</th>\n",
       "      <td>2020-07-15</td>\n",
       "      <td>272412481300040</td>\n",
       "      <td>817477003</td>\n",
       "      <td>0.025407</td>\n",
       "      <td>1</td>\n",
       "      <td>95</td>\n",
       "      <td>1.0</td>\n",
       "    </tr>\n",
       "    <tr>\n",
       "      <th>29030507</th>\n",
       "      <td>2020-07-15</td>\n",
       "      <td>272412481300040</td>\n",
       "      <td>899088002</td>\n",
       "      <td>0.025407</td>\n",
       "      <td>1</td>\n",
       "      <td>95</td>\n",
       "      <td>1.0</td>\n",
       "    </tr>\n",
       "    <tr>\n",
       "      <th>...</th>\n",
       "      <td>...</td>\n",
       "      <td>...</td>\n",
       "      <td>...</td>\n",
       "      <td>...</td>\n",
       "      <td>...</td>\n",
       "      <td>...</td>\n",
       "      <td>...</td>\n",
       "    </tr>\n",
       "    <tr>\n",
       "      <th>5248375</th>\n",
       "      <td>2020-09-22</td>\n",
       "      <td>18438270306572912089</td>\n",
       "      <td>915529003</td>\n",
       "      <td>0.033439</td>\n",
       "      <td>1</td>\n",
       "      <td>105</td>\n",
       "      <td>0.0</td>\n",
       "    </tr>\n",
       "    <tr>\n",
       "      <th>5248376</th>\n",
       "      <td>2020-09-22</td>\n",
       "      <td>18438270306572912089</td>\n",
       "      <td>915529005</td>\n",
       "      <td>0.033417</td>\n",
       "      <td>1</td>\n",
       "      <td>105</td>\n",
       "      <td>0.0</td>\n",
       "    </tr>\n",
       "    <tr>\n",
       "      <th>5248377</th>\n",
       "      <td>2020-09-22</td>\n",
       "      <td>18438270306572912089</td>\n",
       "      <td>448509014</td>\n",
       "      <td>0.041630</td>\n",
       "      <td>1</td>\n",
       "      <td>105</td>\n",
       "      <td>0.0</td>\n",
       "    </tr>\n",
       "    <tr>\n",
       "      <th>5248378</th>\n",
       "      <td>2020-09-22</td>\n",
       "      <td>18438270306572912089</td>\n",
       "      <td>762846027</td>\n",
       "      <td>0.025005</td>\n",
       "      <td>1</td>\n",
       "      <td>105</td>\n",
       "      <td>0.0</td>\n",
       "    </tr>\n",
       "    <tr>\n",
       "      <th>5248379</th>\n",
       "      <td>2020-09-22</td>\n",
       "      <td>18438270306572912089</td>\n",
       "      <td>714790020</td>\n",
       "      <td>0.049951</td>\n",
       "      <td>1</td>\n",
       "      <td>105</td>\n",
       "      <td>0.0</td>\n",
       "    </tr>\n",
       "  </tbody>\n",
       "</table>\n",
       "<p>18915320 rows × 7 columns</p>\n",
       "</div>"
      ],
      "text/plain": [
       "              t_dat           customer_id  article_id     price  \\\n",
       "29030503 2020-07-15       272412481300040   778064028  0.008458   \n",
       "29030504 2020-07-15       272412481300040   816592008  0.016932   \n",
       "29030505 2020-07-15       272412481300040   621381021  0.033881   \n",
       "29030506 2020-07-15       272412481300040   817477003  0.025407   \n",
       "29030507 2020-07-15       272412481300040   899088002  0.025407   \n",
       "...             ...                   ...         ...       ...   \n",
       "5248375  2020-09-22  18438270306572912089   915529003  0.033439   \n",
       "5248376  2020-09-22  18438270306572912089   915529005  0.033417   \n",
       "5248377  2020-09-22  18438270306572912089   448509014  0.041630   \n",
       "5248378  2020-09-22  18438270306572912089   762846027  0.025005   \n",
       "5248379  2020-09-22  18438270306572912089   714790020  0.049951   \n",
       "\n",
       "          sales_channel_id  week  purchased  \n",
       "29030503                 1    95        1.0  \n",
       "29030504                 1    95        1.0  \n",
       "29030505                 1    95        1.0  \n",
       "29030506                 1    95        1.0  \n",
       "29030507                 1    95        1.0  \n",
       "...                    ...   ...        ...  \n",
       "5248375                  1   105        0.0  \n",
       "5248376                  1   105        0.0  \n",
       "5248377                  1   105        0.0  \n",
       "5248378                  1   105        0.0  \n",
       "5248379                  1   105        0.0  \n",
       "\n",
       "[18915320 rows x 7 columns]"
      ]
     },
     "execution_count": 33,
     "metadata": {},
     "output_type": "execute_result"
    }
   ],
   "source": [
    "data"
   ]
  },
  {
   "cell_type": "code",
   "execution_count": 34,
   "id": "24eaad36",
   "metadata": {
    "execution": {
     "iopub.execute_input": "2023-11-07T11:34:39.398040Z",
     "iopub.status.busy": "2023-11-07T11:34:39.397378Z",
     "iopub.status.idle": "2023-11-07T11:34:47.036546Z",
     "shell.execute_reply": "2023-11-07T11:34:47.035367Z"
    },
    "papermill": {
     "duration": 7.7289,
     "end_time": "2023-11-07T11:34:47.039389",
     "exception": false,
     "start_time": "2023-11-07T11:34:39.310489",
     "status": "completed"
    },
    "tags": []
   },
   "outputs": [],
   "source": [
    "data.drop_duplicates(['customer_id', 'article_id', 'week'], inplace=True)"
   ]
  },
  {
   "cell_type": "code",
   "execution_count": 35,
   "id": "934cb4c2",
   "metadata": {
    "execution": {
     "iopub.execute_input": "2023-11-07T11:34:47.210141Z",
     "iopub.status.busy": "2023-11-07T11:34:47.209810Z",
     "iopub.status.idle": "2023-11-07T11:34:47.278784Z",
     "shell.execute_reply": "2023-11-07T11:34:47.277558Z"
    },
    "papermill": {
     "duration": 0.157423,
     "end_time": "2023-11-07T11:34:47.281765",
     "exception": false,
     "start_time": "2023-11-07T11:34:47.124342",
     "status": "completed"
    },
    "tags": []
   },
   "outputs": [
    {
     "data": {
      "text/plain": [
       "0.13607582749165664"
      ]
     },
     "execution_count": 35,
     "metadata": {},
     "output_type": "execute_result"
    }
   ],
   "source": [
    "data.purchased.mean()"
   ]
  },
  {
   "cell_type": "markdown",
   "id": "177ac57d",
   "metadata": {
    "papermill": {
     "duration": 0.08447,
     "end_time": "2023-11-07T11:34:47.452017",
     "exception": false,
     "start_time": "2023-11-07T11:34:47.367547",
     "status": "completed"
    },
    "tags": []
   },
   "source": [
    "### Add bestseller information"
   ]
  },
  {
   "cell_type": "code",
   "execution_count": 36,
   "id": "e9a0b8cb",
   "metadata": {
    "execution": {
     "iopub.execute_input": "2023-11-07T11:34:47.625102Z",
     "iopub.status.busy": "2023-11-07T11:34:47.624745Z",
     "iopub.status.idle": "2023-11-07T11:34:52.434541Z",
     "shell.execute_reply": "2023-11-07T11:34:52.433401Z"
    },
    "papermill": {
     "duration": 4.899214,
     "end_time": "2023-11-07T11:34:52.437446",
     "exception": false,
     "start_time": "2023-11-07T11:34:47.538232",
     "status": "completed"
    },
    "tags": []
   },
   "outputs": [],
   "source": [
    "data = pd.merge(\n",
    "    data,\n",
    "    bestsellers_previous_week[['week', 'article_id', 'bestseller_rank']],\n",
    "    on=['week', 'article_id'],\n",
    "    how='left'\n",
    ")"
   ]
  },
  {
   "cell_type": "code",
   "execution_count": 37,
   "id": "793346d3",
   "metadata": {
    "execution": {
     "iopub.execute_input": "2023-11-07T11:34:52.607232Z",
     "iopub.status.busy": "2023-11-07T11:34:52.606907Z",
     "iopub.status.idle": "2023-11-07T11:34:55.056659Z",
     "shell.execute_reply": "2023-11-07T11:34:55.055513Z"
    },
    "papermill": {
     "duration": 2.53803,
     "end_time": "2023-11-07T11:34:55.059547",
     "exception": false,
     "start_time": "2023-11-07T11:34:52.521517",
     "status": "completed"
    },
    "tags": []
   },
   "outputs": [],
   "source": [
    "data = data[data.week != data.week.min()]\n",
    "data.bestseller_rank.fillna(999, inplace=True)"
   ]
  },
  {
   "cell_type": "code",
   "execution_count": 38,
   "id": "2192f1b6",
   "metadata": {
    "execution": {
     "iopub.execute_input": "2023-11-07T11:34:55.228718Z",
     "iopub.status.busy": "2023-11-07T11:34:55.228360Z",
     "iopub.status.idle": "2023-11-07T11:35:27.384132Z",
     "shell.execute_reply": "2023-11-07T11:35:27.383030Z"
    },
    "papermill": {
     "duration": 32.243776,
     "end_time": "2023-11-07T11:35:27.387270",
     "exception": false,
     "start_time": "2023-11-07T11:34:55.143494",
     "status": "completed"
    },
    "tags": []
   },
   "outputs": [],
   "source": [
    "data = pd.merge(data, articles, on='article_id', how='left')\n",
    "data = pd.merge(data, customers, on='customer_id', how='left')"
   ]
  },
  {
   "cell_type": "code",
   "execution_count": 39,
   "id": "00cc3e39",
   "metadata": {
    "execution": {
     "iopub.execute_input": "2023-11-07T11:35:27.562872Z",
     "iopub.status.busy": "2023-11-07T11:35:27.562466Z",
     "iopub.status.idle": "2023-11-07T11:35:35.589663Z",
     "shell.execute_reply": "2023-11-07T11:35:35.588816Z"
    },
    "papermill": {
     "duration": 8.118043,
     "end_time": "2023-11-07T11:35:35.592346",
     "exception": false,
     "start_time": "2023-11-07T11:35:27.474303",
     "status": "completed"
    },
    "tags": []
   },
   "outputs": [],
   "source": [
    "data.sort_values(['week', 'customer_id'], inplace=True)\n",
    "data.reset_index(drop=True, inplace=True)"
   ]
  },
  {
   "cell_type": "code",
   "execution_count": 40,
   "id": "7d828343",
   "metadata": {
    "execution": {
     "iopub.execute_input": "2023-11-07T11:35:35.767199Z",
     "iopub.status.busy": "2023-11-07T11:35:35.766291Z",
     "iopub.status.idle": "2023-11-07T11:35:45.719872Z",
     "shell.execute_reply": "2023-11-07T11:35:45.718722Z"
    },
    "papermill": {
     "duration": 10.04263,
     "end_time": "2023-11-07T11:35:45.723208",
     "exception": false,
     "start_time": "2023-11-07T11:35:35.680578",
     "status": "completed"
    },
    "tags": []
   },
   "outputs": [],
   "source": [
    "train = data[data.week != test_week]\n",
    "test = data[data.week==test_week].drop_duplicates(['customer_id', 'article_id', 'sales_channel_id']).copy()"
   ]
  },
  {
   "cell_type": "code",
   "execution_count": 41,
   "id": "cc8ac913",
   "metadata": {
    "execution": {
     "iopub.execute_input": "2023-11-07T11:35:45.892109Z",
     "iopub.status.busy": "2023-11-07T11:35:45.891483Z",
     "iopub.status.idle": "2023-11-07T11:35:47.044894Z",
     "shell.execute_reply": "2023-11-07T11:35:47.043785Z"
    },
    "papermill": {
     "duration": 1.241266,
     "end_time": "2023-11-07T11:35:47.047929",
     "exception": false,
     "start_time": "2023-11-07T11:35:45.806663",
     "status": "completed"
    },
    "tags": []
   },
   "outputs": [],
   "source": [
    "train_baskets = train.groupby(['week', 'customer_id'])['article_id'].count().values"
   ]
  },
  {
   "cell_type": "code",
   "execution_count": 42,
   "id": "52f43db8",
   "metadata": {
    "execution": {
     "iopub.execute_input": "2023-11-07T11:35:47.220666Z",
     "iopub.status.busy": "2023-11-07T11:35:47.220249Z",
     "iopub.status.idle": "2023-11-07T11:35:47.226233Z",
     "shell.execute_reply": "2023-11-07T11:35:47.225439Z"
    },
    "papermill": {
     "duration": 0.0928,
     "end_time": "2023-11-07T11:35:47.228200",
     "exception": false,
     "start_time": "2023-11-07T11:35:47.135400",
     "status": "completed"
    },
    "tags": []
   },
   "outputs": [],
   "source": [
    "columns_to_use = ['article_id', 'product_type_no', 'graphical_appearance_no', 'colour_group_code', 'perceived_colour_value_id',\n",
    "'perceived_colour_master_id', 'department_no', 'index_code',\n",
    "'index_group_no', 'section_no', 'garment_group_no', 'FN', 'Active',\n",
    "'club_member_status', 'fashion_news_frequency', 'age', 'postal_code', 'bestseller_rank', 'numerical_gender']"
   ]
  },
  {
   "cell_type": "code",
   "execution_count": 43,
   "id": "49058390",
   "metadata": {
    "execution": {
     "iopub.execute_input": "2023-11-07T11:35:47.399577Z",
     "iopub.status.busy": "2023-11-07T11:35:47.398934Z",
     "iopub.status.idle": "2023-11-07T11:35:48.139683Z",
     "shell.execute_reply": "2023-11-07T11:35:48.138422Z"
    },
    "papermill": {
     "duration": 0.828985,
     "end_time": "2023-11-07T11:35:48.142271",
     "exception": false,
     "start_time": "2023-11-07T11:35:47.313286",
     "status": "completed"
    },
    "tags": []
   },
   "outputs": [
    {
     "name": "stdout",
     "output_type": "stream",
     "text": [
      "CPU times: user 343 ms, sys: 378 ms, total: 721 ms\n",
      "Wall time: 734 ms\n"
     ]
    }
   ],
   "source": [
    "%%time\n",
    "\n",
    "train_X = train[columns_to_use]\n",
    "train_y = train['purchased']\n",
    "\n",
    "test_X = test[columns_to_use]"
   ]
  },
  {
   "cell_type": "markdown",
   "id": "b643483f",
   "metadata": {
    "papermill": {
     "duration": 0.08428,
     "end_time": "2023-11-07T11:35:48.310740",
     "exception": false,
     "start_time": "2023-11-07T11:35:48.226460",
     "status": "completed"
    },
    "tags": []
   },
   "source": [
    "# Model training"
   ]
  },
  {
   "cell_type": "code",
   "execution_count": 44,
   "id": "4c8a05cc",
   "metadata": {
    "execution": {
     "iopub.execute_input": "2023-11-07T11:35:48.480093Z",
     "iopub.status.busy": "2023-11-07T11:35:48.479766Z",
     "iopub.status.idle": "2023-11-07T11:35:49.733915Z",
     "shell.execute_reply": "2023-11-07T11:35:49.732671Z"
    },
    "papermill": {
     "duration": 1.342671,
     "end_time": "2023-11-07T11:35:49.736832",
     "exception": false,
     "start_time": "2023-11-07T11:35:48.394161",
     "status": "completed"
    },
    "tags": []
   },
   "outputs": [
    {
     "data": {
      "text/html": [
       "<style type='text/css'>\n",
       ".datatable table.frame { margin-bottom: 0; }\n",
       ".datatable table.frame thead { border-bottom: none; }\n",
       ".datatable table.frame tr.coltypes td {  color: #FFFFFF;  line-height: 6px;  padding: 0 0.5em;}\n",
       ".datatable .bool    { background: #DDDD99; }\n",
       ".datatable .object  { background: #565656; }\n",
       ".datatable .int     { background: #5D9E5D; }\n",
       ".datatable .float   { background: #4040CC; }\n",
       ".datatable .str     { background: #CC4040; }\n",
       ".datatable .time    { background: #40CC40; }\n",
       ".datatable .row_index {  background: var(--jp-border-color3);  border-right: 1px solid var(--jp-border-color0);  color: var(--jp-ui-font-color3);  font-size: 9px;}\n",
       ".datatable .frame tbody td { text-align: left; }\n",
       ".datatable .frame tr.coltypes .row_index {  background: var(--jp-border-color0);}\n",
       ".datatable th:nth-child(2) { padding-left: 12px; }\n",
       ".datatable .hellipsis {  color: var(--jp-cell-editor-border-color);}\n",
       ".datatable .vellipsis {  background: var(--jp-layout-color0);  color: var(--jp-cell-editor-border-color);}\n",
       ".datatable .na {  color: var(--jp-cell-editor-border-color);  font-size: 80%;}\n",
       ".datatable .sp {  opacity: 0.25;}\n",
       ".datatable .footer { font-size: 9px; }\n",
       ".datatable .frame_dimensions {  background: var(--jp-border-color3);  border-top: 1px solid var(--jp-border-color0);  color: var(--jp-ui-font-color3);  display: inline-block;  opacity: 0.6;  padding: 1px 10px 1px 5px;}\n",
       "</style>\n"
      ],
      "text/plain": [
       "<IPython.core.display.HTML object>"
      ]
     },
     "metadata": {},
     "output_type": "display_data"
    }
   ],
   "source": [
    "from lightgbm.sklearn import LGBMRanker"
   ]
  },
  {
   "cell_type": "code",
   "execution_count": 45,
   "id": "d50e0f0d",
   "metadata": {
    "execution": {
     "iopub.execute_input": "2023-11-07T11:35:49.908759Z",
     "iopub.status.busy": "2023-11-07T11:35:49.908390Z",
     "iopub.status.idle": "2023-11-07T11:35:49.914023Z",
     "shell.execute_reply": "2023-11-07T11:35:49.912794Z"
    },
    "papermill": {
     "duration": 0.09417,
     "end_time": "2023-11-07T11:35:49.916299",
     "exception": false,
     "start_time": "2023-11-07T11:35:49.822129",
     "status": "completed"
    },
    "tags": []
   },
   "outputs": [],
   "source": [
    "ranker = LGBMRanker(\n",
    "    objective=\"lambdarank\",\n",
    "    metric=\"ndcg\",\n",
    "    boosting_type=\"dart\",\n",
    "    n_estimators=1,\n",
    "    importance_type='gain',\n",
    "    verbose=10\n",
    ")"
   ]
  },
  {
   "cell_type": "code",
   "execution_count": 46,
   "id": "0e741830",
   "metadata": {
    "execution": {
     "iopub.execute_input": "2023-11-07T11:35:50.091075Z",
     "iopub.status.busy": "2023-11-07T11:35:50.090698Z",
     "iopub.status.idle": "2023-11-07T11:36:02.427323Z",
     "shell.execute_reply": "2023-11-07T11:36:02.426533Z"
    },
    "papermill": {
     "duration": 12.441462,
     "end_time": "2023-11-07T11:36:02.444134",
     "exception": false,
     "start_time": "2023-11-07T11:35:50.002672",
     "status": "completed"
    },
    "tags": []
   },
   "outputs": [
    {
     "name": "stdout",
     "output_type": "stream",
     "text": [
      "[LightGBM] [Debug] Dataset::GetMultiBinFromSparseFeatures: sparse rate 0.848850\n",
      "[LightGBM] [Debug] Dataset::GetMultiBinFromAllFeatures: sparse rate 0.165014\n",
      "[LightGBM] [Debug] init for col-wise cost 0.254247 seconds, init for row-wise cost 1.943409 seconds\n",
      "[LightGBM] [Warning] Auto-choosing row-wise multi-threading, the overhead of testing was 0.867006 seconds.\n",
      "You can set `force_row_wise=true` to remove the overhead.\n",
      "And if memory is not enough, you can set `force_col_wise=true`.\n",
      "[LightGBM] [Debug] Using Dense Multi-Val Bin\n",
      "[LightGBM] [Info] Total Bins 1082\n",
      "[LightGBM] [Info] Number of data points in the train set: 11381612, number of used features: 19\n",
      "[LightGBM] [Debug] Trained a tree with leaves = 31 and depth = 12\n",
      "CPU times: user 32.9 s, sys: 2.69 s, total: 35.6 s\n",
      "Wall time: 12.3 s\n"
     ]
    }
   ],
   "source": [
    "%%time\n",
    "\n",
    "ranker = ranker.fit(\n",
    "    train_X,\n",
    "    train_y,\n",
    "    group=train_baskets,\n",
    ")"
   ]
  },
  {
   "cell_type": "code",
   "execution_count": 47,
   "id": "b969217e",
   "metadata": {
    "execution": {
     "iopub.execute_input": "2023-11-07T11:36:02.620530Z",
     "iopub.status.busy": "2023-11-07T11:36:02.619818Z",
     "iopub.status.idle": "2023-11-07T11:36:02.638241Z",
     "shell.execute_reply": "2023-11-07T11:36:02.636600Z"
    },
    "papermill": {
     "duration": 0.109459,
     "end_time": "2023-11-07T11:36:02.640950",
     "exception": false,
     "start_time": "2023-11-07T11:36:02.531491",
     "status": "completed"
    },
    "tags": []
   },
   "outputs": [
    {
     "name": "stdout",
     "output_type": "stream",
     "text": [
      "bestseller_rank 0.9989308735179462\n",
      "age 0.00023589891741071552\n",
      "article_id 0.00014588225389030774\n",
      "garment_group_no 0.00014481159443973838\n",
      "product_type_no 9.014331373563444e-05\n",
      "numerical_gender 8.920022642289554e-05\n",
      "department_no 8.349660516575861e-05\n",
      "section_no 7.0668504314693e-05\n",
      "postal_code 6.791856942642735e-05\n",
      "club_member_status 6.519453397816759e-05\n",
      "colour_group_code 5.3584854820525475e-05\n",
      "perceived_colour_master_id 2.232710844898454e-05\n",
      "Active 0.0\n",
      "FN 0.0\n",
      "fashion_news_frequency 0.0\n",
      "index_group_no 0.0\n",
      "index_code 0.0\n",
      "perceived_colour_value_id 0.0\n",
      "graphical_appearance_no 0.0\n"
     ]
    }
   ],
   "source": [
    "for i in ranker.feature_importances_.argsort()[::-1]:\n",
    "    print(columns_to_use[i], ranker.feature_importances_[i]/ranker.feature_importances_.sum())"
   ]
  },
  {
   "cell_type": "markdown",
   "id": "cbf42f29",
   "metadata": {
    "papermill": {
     "duration": 0.087153,
     "end_time": "2023-11-07T11:36:02.818209",
     "exception": false,
     "start_time": "2023-11-07T11:36:02.731056",
     "status": "completed"
    },
    "tags": []
   },
   "source": [
    "# Calculate predictions"
   ]
  },
  {
   "cell_type": "code",
   "execution_count": 48,
   "id": "6aed1b6e",
   "metadata": {
    "execution": {
     "iopub.execute_input": "2023-11-07T11:36:02.998984Z",
     "iopub.status.busy": "2023-11-07T11:36:02.998658Z",
     "iopub.status.idle": "2023-11-07T11:36:22.990126Z",
     "shell.execute_reply": "2023-11-07T11:36:22.989319Z"
    },
    "papermill": {
     "duration": 20.086275,
     "end_time": "2023-11-07T11:36:22.993037",
     "exception": false,
     "start_time": "2023-11-07T11:36:02.906762",
     "status": "completed"
    },
    "tags": []
   },
   "outputs": [
    {
     "name": "stdout",
     "output_type": "stream",
     "text": [
      "CPU times: user 4 µs, sys: 0 ns, total: 4 µs\n",
      "Wall time: 8.58 µs\n"
     ]
    }
   ],
   "source": [
    "%time\n",
    "\n",
    "test['preds'] = ranker.predict(test_X)\n",
    "\n",
    "c_id2predicted_article_ids = test \\\n",
    "    .sort_values(['customer_id', 'preds'], ascending=False) \\\n",
    "    .groupby('customer_id')['article_id'].apply(list).to_dict()\n",
    "\n",
    "bestsellers_last_week = \\\n",
    "    bestsellers_previous_week[bestsellers_previous_week.week == bestsellers_previous_week.week.max()]['article_id'].tolist()"
   ]
  },
  {
   "cell_type": "markdown",
   "id": "c647dcf4",
   "metadata": {
    "papermill": {
     "duration": 0.087356,
     "end_time": "2023-11-07T11:36:23.171560",
     "exception": false,
     "start_time": "2023-11-07T11:36:23.084204",
     "status": "completed"
    },
    "tags": []
   },
   "source": [
    "# Create submission"
   ]
  },
  {
   "cell_type": "code",
   "execution_count": 49,
   "id": "9dde394c",
   "metadata": {
    "execution": {
     "iopub.execute_input": "2023-11-07T11:36:23.352182Z",
     "iopub.status.busy": "2023-11-07T11:36:23.351516Z",
     "iopub.status.idle": "2023-11-07T11:36:29.068716Z",
     "shell.execute_reply": "2023-11-07T11:36:29.067767Z"
    },
    "papermill": {
     "duration": 5.812624,
     "end_time": "2023-11-07T11:36:29.071583",
     "exception": false,
     "start_time": "2023-11-07T11:36:23.258959",
     "status": "completed"
    },
    "tags": []
   },
   "outputs": [],
   "source": [
    "sub = pd.read_csv('/kaggle/input/h-and-m-personalized-fashion-recommendations/sample_submission.csv')"
   ]
  },
  {
   "cell_type": "code",
   "execution_count": 50,
   "id": "25f994bf",
   "metadata": {
    "execution": {
     "iopub.execute_input": "2023-11-07T11:36:29.248991Z",
     "iopub.status.busy": "2023-11-07T11:36:29.248647Z",
     "iopub.status.idle": "2023-11-07T11:36:38.302410Z",
     "shell.execute_reply": "2023-11-07T11:36:38.301379Z"
    },
    "papermill": {
     "duration": 9.14515,
     "end_time": "2023-11-07T11:36:38.305078",
     "exception": false,
     "start_time": "2023-11-07T11:36:29.159928",
     "status": "completed"
    },
    "tags": []
   },
   "outputs": [
    {
     "name": "stdout",
     "output_type": "stream",
     "text": [
      "CPU times: user 8.72 s, sys: 336 ms, total: 9.05 s\n",
      "Wall time: 9.05 s\n"
     ]
    }
   ],
   "source": [
    "%%time\n",
    "preds = []\n",
    "for c_id in customer_hex_id_to_int(sub.customer_id):\n",
    "    pred = c_id2predicted_article_ids.get(c_id, [])\n",
    "    pred = pred + bestsellers_last_week\n",
    "    preds.append(pred[:12])"
   ]
  },
  {
   "cell_type": "code",
   "execution_count": 51,
   "id": "8fa25cc7",
   "metadata": {
    "execution": {
     "iopub.execute_input": "2023-11-07T11:36:38.485177Z",
     "iopub.status.busy": "2023-11-07T11:36:38.484163Z",
     "iopub.status.idle": "2023-11-07T11:36:46.446369Z",
     "shell.execute_reply": "2023-11-07T11:36:46.445359Z"
    },
    "papermill": {
     "duration": 8.056154,
     "end_time": "2023-11-07T11:36:46.449227",
     "exception": false,
     "start_time": "2023-11-07T11:36:38.393073",
     "status": "completed"
    },
    "tags": []
   },
   "outputs": [],
   "source": [
    "preds = [' '.join(['0' + str(p) for p in ps]) for ps in preds]\n",
    "sub.prediction = preds"
   ]
  },
  {
   "cell_type": "code",
   "execution_count": 52,
   "id": "32ea1ba2",
   "metadata": {
    "execution": {
     "iopub.execute_input": "2023-11-07T11:36:46.632118Z",
     "iopub.status.busy": "2023-11-07T11:36:46.631142Z",
     "iopub.status.idle": "2023-11-07T11:37:00.764425Z",
     "shell.execute_reply": "2023-11-07T11:37:00.763170Z"
    },
    "papermill": {
     "duration": 14.227505,
     "end_time": "2023-11-07T11:37:00.767500",
     "exception": false,
     "start_time": "2023-11-07T11:36:46.539995",
     "status": "completed"
    },
    "tags": []
   },
   "outputs": [],
   "source": [
    "sub_name = 'submission'\n",
    "sub.to_csv(f'{sub_name}.csv', index=False)"
   ]
  }
 ],
 "metadata": {
  "kernelspec": {
   "display_name": "Python 3",
   "language": "python",
   "name": "python3"
  },
  "language_info": {
   "codemirror_mode": {
    "name": "ipython",
    "version": 3
   },
   "file_extension": ".py",
   "mimetype": "text/x-python",
   "name": "python",
   "nbconvert_exporter": "python",
   "pygments_lexer": "ipython3",
   "version": "3.7.12"
  },
  "papermill": {
   "default_parameters": {},
   "duration": 219.017834,
   "end_time": "2023-11-07T11:37:02.887562",
   "environment_variables": {},
   "exception": null,
   "input_path": "__notebook__.ipynb",
   "output_path": "__notebook__.ipynb",
   "parameters": {},
   "start_time": "2023-11-07T11:33:23.869728",
   "version": "2.3.4"
  }
 },
 "nbformat": 4,
 "nbformat_minor": 5
}
