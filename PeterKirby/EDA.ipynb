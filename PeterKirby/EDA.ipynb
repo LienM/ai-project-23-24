{
 "cells": [
  {
   "cell_type": "code",
   "execution_count": 1,
   "metadata": {},
   "outputs": [],
   "source": [
    "import pandas as pd\n",
    "import seaborn as sns"
   ]
  },
  {
   "cell_type": "code",
   "execution_count": 2,
   "metadata": {},
   "outputs": [],
   "source": [
    "#Loading Datasets\n",
    "data_path = '../../../Data/'\n",
    "articles_df = pd.read_csv(data_path+'articles.csv', dtype={'article_id' : str, 'product_code' : str})\n",
    "customers_df = pd.read_csv(data_path+'customers.csv')\n",
    "transactions_df = pd.read_csv(data_path+'transactions_train.csv', dtype={'article_id' : str})"
   ]
  },
  {
   "cell_type": "markdown",
   "metadata": {},
   "source": [
    "## articles.csv"
   ]
  },
  {
   "cell_type": "code",
   "execution_count": 3,
   "metadata": {},
   "outputs": [
    {
     "data": {
      "text/html": [
       "<div>\n",
       "<style scoped>\n",
       "    .dataframe tbody tr th:only-of-type {\n",
       "        vertical-align: middle;\n",
       "    }\n",
       "\n",
       "    .dataframe tbody tr th {\n",
       "        vertical-align: top;\n",
       "    }\n",
       "\n",
       "    .dataframe thead th {\n",
       "        text-align: right;\n",
       "    }\n",
       "</style>\n",
       "<table border=\"1\" class=\"dataframe\">\n",
       "  <thead>\n",
       "    <tr style=\"text-align: right;\">\n",
       "      <th></th>\n",
       "      <th>article_id</th>\n",
       "      <th>product_code</th>\n",
       "      <th>prod_name</th>\n",
       "      <th>product_type_no</th>\n",
       "      <th>product_type_name</th>\n",
       "      <th>product_group_name</th>\n",
       "      <th>graphical_appearance_no</th>\n",
       "      <th>graphical_appearance_name</th>\n",
       "      <th>colour_group_code</th>\n",
       "      <th>colour_group_name</th>\n",
       "      <th>...</th>\n",
       "      <th>department_name</th>\n",
       "      <th>index_code</th>\n",
       "      <th>index_name</th>\n",
       "      <th>index_group_no</th>\n",
       "      <th>index_group_name</th>\n",
       "      <th>section_no</th>\n",
       "      <th>section_name</th>\n",
       "      <th>garment_group_no</th>\n",
       "      <th>garment_group_name</th>\n",
       "      <th>detail_desc</th>\n",
       "    </tr>\n",
       "  </thead>\n",
       "  <tbody>\n",
       "    <tr>\n",
       "      <th>0</th>\n",
       "      <td>0108775015</td>\n",
       "      <td>0108775</td>\n",
       "      <td>Strap top</td>\n",
       "      <td>253</td>\n",
       "      <td>Vest top</td>\n",
       "      <td>Garment Upper body</td>\n",
       "      <td>1010016</td>\n",
       "      <td>Solid</td>\n",
       "      <td>9</td>\n",
       "      <td>Black</td>\n",
       "      <td>...</td>\n",
       "      <td>Jersey Basic</td>\n",
       "      <td>A</td>\n",
       "      <td>Ladieswear</td>\n",
       "      <td>1</td>\n",
       "      <td>Ladieswear</td>\n",
       "      <td>16</td>\n",
       "      <td>Womens Everyday Basics</td>\n",
       "      <td>1002</td>\n",
       "      <td>Jersey Basic</td>\n",
       "      <td>Jersey top with narrow shoulder straps.</td>\n",
       "    </tr>\n",
       "    <tr>\n",
       "      <th>1</th>\n",
       "      <td>0108775044</td>\n",
       "      <td>0108775</td>\n",
       "      <td>Strap top</td>\n",
       "      <td>253</td>\n",
       "      <td>Vest top</td>\n",
       "      <td>Garment Upper body</td>\n",
       "      <td>1010016</td>\n",
       "      <td>Solid</td>\n",
       "      <td>10</td>\n",
       "      <td>White</td>\n",
       "      <td>...</td>\n",
       "      <td>Jersey Basic</td>\n",
       "      <td>A</td>\n",
       "      <td>Ladieswear</td>\n",
       "      <td>1</td>\n",
       "      <td>Ladieswear</td>\n",
       "      <td>16</td>\n",
       "      <td>Womens Everyday Basics</td>\n",
       "      <td>1002</td>\n",
       "      <td>Jersey Basic</td>\n",
       "      <td>Jersey top with narrow shoulder straps.</td>\n",
       "    </tr>\n",
       "    <tr>\n",
       "      <th>2</th>\n",
       "      <td>0108775051</td>\n",
       "      <td>0108775</td>\n",
       "      <td>Strap top (1)</td>\n",
       "      <td>253</td>\n",
       "      <td>Vest top</td>\n",
       "      <td>Garment Upper body</td>\n",
       "      <td>1010017</td>\n",
       "      <td>Stripe</td>\n",
       "      <td>11</td>\n",
       "      <td>Off White</td>\n",
       "      <td>...</td>\n",
       "      <td>Jersey Basic</td>\n",
       "      <td>A</td>\n",
       "      <td>Ladieswear</td>\n",
       "      <td>1</td>\n",
       "      <td>Ladieswear</td>\n",
       "      <td>16</td>\n",
       "      <td>Womens Everyday Basics</td>\n",
       "      <td>1002</td>\n",
       "      <td>Jersey Basic</td>\n",
       "      <td>Jersey top with narrow shoulder straps.</td>\n",
       "    </tr>\n",
       "    <tr>\n",
       "      <th>3</th>\n",
       "      <td>0110065001</td>\n",
       "      <td>0110065</td>\n",
       "      <td>OP T-shirt (Idro)</td>\n",
       "      <td>306</td>\n",
       "      <td>Bra</td>\n",
       "      <td>Underwear</td>\n",
       "      <td>1010016</td>\n",
       "      <td>Solid</td>\n",
       "      <td>9</td>\n",
       "      <td>Black</td>\n",
       "      <td>...</td>\n",
       "      <td>Clean Lingerie</td>\n",
       "      <td>B</td>\n",
       "      <td>Lingeries/Tights</td>\n",
       "      <td>1</td>\n",
       "      <td>Ladieswear</td>\n",
       "      <td>61</td>\n",
       "      <td>Womens Lingerie</td>\n",
       "      <td>1017</td>\n",
       "      <td>Under-, Nightwear</td>\n",
       "      <td>Microfibre T-shirt bra with underwired, moulde...</td>\n",
       "    </tr>\n",
       "    <tr>\n",
       "      <th>4</th>\n",
       "      <td>0110065002</td>\n",
       "      <td>0110065</td>\n",
       "      <td>OP T-shirt (Idro)</td>\n",
       "      <td>306</td>\n",
       "      <td>Bra</td>\n",
       "      <td>Underwear</td>\n",
       "      <td>1010016</td>\n",
       "      <td>Solid</td>\n",
       "      <td>10</td>\n",
       "      <td>White</td>\n",
       "      <td>...</td>\n",
       "      <td>Clean Lingerie</td>\n",
       "      <td>B</td>\n",
       "      <td>Lingeries/Tights</td>\n",
       "      <td>1</td>\n",
       "      <td>Ladieswear</td>\n",
       "      <td>61</td>\n",
       "      <td>Womens Lingerie</td>\n",
       "      <td>1017</td>\n",
       "      <td>Under-, Nightwear</td>\n",
       "      <td>Microfibre T-shirt bra with underwired, moulde...</td>\n",
       "    </tr>\n",
       "  </tbody>\n",
       "</table>\n",
       "<p>5 rows × 25 columns</p>\n",
       "</div>"
      ],
      "text/plain": [
       "   article_id product_code          prod_name  product_type_no  \\\n",
       "0  0108775015      0108775          Strap top              253   \n",
       "1  0108775044      0108775          Strap top              253   \n",
       "2  0108775051      0108775      Strap top (1)              253   \n",
       "3  0110065001      0110065  OP T-shirt (Idro)              306   \n",
       "4  0110065002      0110065  OP T-shirt (Idro)              306   \n",
       "\n",
       "  product_type_name  product_group_name  graphical_appearance_no  \\\n",
       "0          Vest top  Garment Upper body                  1010016   \n",
       "1          Vest top  Garment Upper body                  1010016   \n",
       "2          Vest top  Garment Upper body                  1010017   \n",
       "3               Bra           Underwear                  1010016   \n",
       "4               Bra           Underwear                  1010016   \n",
       "\n",
       "  graphical_appearance_name  colour_group_code colour_group_name  ...  \\\n",
       "0                     Solid                  9             Black  ...   \n",
       "1                     Solid                 10             White  ...   \n",
       "2                    Stripe                 11         Off White  ...   \n",
       "3                     Solid                  9             Black  ...   \n",
       "4                     Solid                 10             White  ...   \n",
       "\n",
       "   department_name index_code        index_name index_group_no  \\\n",
       "0     Jersey Basic          A        Ladieswear              1   \n",
       "1     Jersey Basic          A        Ladieswear              1   \n",
       "2     Jersey Basic          A        Ladieswear              1   \n",
       "3   Clean Lingerie          B  Lingeries/Tights              1   \n",
       "4   Clean Lingerie          B  Lingeries/Tights              1   \n",
       "\n",
       "   index_group_name section_no            section_name garment_group_no  \\\n",
       "0        Ladieswear         16  Womens Everyday Basics             1002   \n",
       "1        Ladieswear         16  Womens Everyday Basics             1002   \n",
       "2        Ladieswear         16  Womens Everyday Basics             1002   \n",
       "3        Ladieswear         61         Womens Lingerie             1017   \n",
       "4        Ladieswear         61         Womens Lingerie             1017   \n",
       "\n",
       "   garment_group_name                                        detail_desc  \n",
       "0        Jersey Basic            Jersey top with narrow shoulder straps.  \n",
       "1        Jersey Basic            Jersey top with narrow shoulder straps.  \n",
       "2        Jersey Basic            Jersey top with narrow shoulder straps.  \n",
       "3   Under-, Nightwear  Microfibre T-shirt bra with underwired, moulde...  \n",
       "4   Under-, Nightwear  Microfibre T-shirt bra with underwired, moulde...  \n",
       "\n",
       "[5 rows x 25 columns]"
      ]
     },
     "execution_count": 3,
     "metadata": {},
     "output_type": "execute_result"
    }
   ],
   "source": [
    "articles_df.head()"
   ]
  },
  {
   "cell_type": "code",
   "execution_count": 4,
   "metadata": {},
   "outputs": [
    {
     "data": {
      "text/plain": [
       "article_id                      object\n",
       "product_code                    object\n",
       "prod_name                       object\n",
       "product_type_no                  int64\n",
       "product_type_name               object\n",
       "product_group_name              object\n",
       "graphical_appearance_no          int64\n",
       "graphical_appearance_name       object\n",
       "colour_group_code                int64\n",
       "colour_group_name               object\n",
       "perceived_colour_value_id        int64\n",
       "perceived_colour_value_name     object\n",
       "perceived_colour_master_id       int64\n",
       "perceived_colour_master_name    object\n",
       "department_no                    int64\n",
       "department_name                 object\n",
       "index_code                      object\n",
       "index_name                      object\n",
       "index_group_no                   int64\n",
       "index_group_name                object\n",
       "section_no                       int64\n",
       "section_name                    object\n",
       "garment_group_no                 int64\n",
       "garment_group_name              object\n",
       "detail_desc                     object\n",
       "dtype: object"
      ]
     },
     "execution_count": 4,
     "metadata": {},
     "output_type": "execute_result"
    }
   ],
   "source": [
    "articles_df.dtypes"
   ]
  },
  {
   "cell_type": "markdown",
   "metadata": {},
   "source": [
    "#### Verification\n"
   ]
  },
  {
   "cell_type": "code",
   "execution_count": 5,
   "metadata": {},
   "outputs": [
    {
     "data": {
      "text/plain": [
       "article_id                        0\n",
       "product_code                      0\n",
       "prod_name                         0\n",
       "product_type_no                   0\n",
       "product_type_name                 0\n",
       "product_group_name                0\n",
       "graphical_appearance_no           0\n",
       "graphical_appearance_name         0\n",
       "colour_group_code                 0\n",
       "colour_group_name                 0\n",
       "perceived_colour_value_id         0\n",
       "perceived_colour_value_name       0\n",
       "perceived_colour_master_id        0\n",
       "perceived_colour_master_name      0\n",
       "department_no                     0\n",
       "department_name                   0\n",
       "index_code                        0\n",
       "index_name                        0\n",
       "index_group_no                    0\n",
       "index_group_name                  0\n",
       "section_no                        0\n",
       "section_name                      0\n",
       "garment_group_no                  0\n",
       "garment_group_name                0\n",
       "detail_desc                     416\n",
       "dtype: int64"
      ]
     },
     "execution_count": 5,
     "metadata": {},
     "output_type": "execute_result"
    }
   ],
   "source": [
    "#checking missing values for each column\n",
    "articles_df.isna().sum()"
   ]
  },
  {
   "cell_type": "code",
   "execution_count": 6,
   "metadata": {},
   "outputs": [
    {
     "data": {
      "text/plain": [
       "article_id                      105542\n",
       "product_code                     47224\n",
       "prod_name                        45875\n",
       "product_type_no                    132\n",
       "product_type_name                  131\n",
       "product_group_name                  19\n",
       "graphical_appearance_no             30\n",
       "graphical_appearance_name           30\n",
       "colour_group_code                   50\n",
       "colour_group_name                   50\n",
       "perceived_colour_value_id            8\n",
       "perceived_colour_value_name          8\n",
       "perceived_colour_master_id          20\n",
       "perceived_colour_master_name        20\n",
       "department_no                      299\n",
       "department_name                    250\n",
       "index_code                          10\n",
       "index_name                          10\n",
       "index_group_no                       5\n",
       "index_group_name                     5\n",
       "section_no                          57\n",
       "section_name                        56\n",
       "garment_group_no                    21\n",
       "garment_group_name                  21\n",
       "detail_desc                      43404\n",
       "dtype: int64"
      ]
     },
     "execution_count": 6,
     "metadata": {},
     "output_type": "execute_result"
    }
   ],
   "source": [
    "articles_df.nunique()"
   ]
  },
  {
   "cell_type": "code",
   "execution_count": 7,
   "metadata": {},
   "outputs": [
    {
     "name": "stdout",
     "output_type": "stream",
     "text": [
      "Each row has unique ID: True\n"
     ]
    }
   ],
   "source": [
    "#verifying each row has a unique ID\n",
    "print(f\"Each row has unique ID: {articles_df['article_id'].nunique() == len(articles_df.index)}\")"
   ]
  },
  {
   "cell_type": "code",
   "execution_count": 8,
   "metadata": {},
   "outputs": [
    {
     "name": "stdout",
     "output_type": "stream",
     "text": [
      "Number of records: 105542\n",
      "Value Counts (conforming IDs):\n"
     ]
    },
    {
     "data": {
      "text/plain": [
       "True    105542\n",
       "Name: article_id, dtype: int64"
      ]
     },
     "execution_count": 8,
     "metadata": {},
     "output_type": "execute_result"
    }
   ],
   "source": [
    "#verifying article_id are the same format (10-digit numerical)\n",
    "print(f\"Number of records: {len(articles_df.index)}\")\n",
    "print(\"Value Counts (conforming IDs):\")\n",
    "valid_id = articles_df['article_id'].str.fullmatch(\"^[0-9]{10}$\")\n",
    "valid_id.value_counts()"
   ]
  },
  {
   "cell_type": "code",
   "execution_count": 9,
   "metadata": {},
   "outputs": [
    {
     "name": "stdout",
     "output_type": "stream",
     "text": [
      "Number of records: 105542\n",
      "Value Counts (conforming IDs):\n"
     ]
    },
    {
     "data": {
      "text/plain": [
       "True    105542\n",
       "Name: product_code, dtype: int64"
      ]
     },
     "execution_count": 9,
     "metadata": {},
     "output_type": "execute_result"
    }
   ],
   "source": [
    "#verifying product_code are the same format (10-digit numerical)\n",
    "print(f\"Number of records: {len(articles_df.index)}\")\n",
    "print(\"Value Counts (conforming IDs):\")\n",
    "valid_id = articles_df['product_code'].str.fullmatch(\"^[0-9]{7}$\")\n",
    "valid_id.value_counts()"
   ]
  },
  {
   "cell_type": "code",
   "execution_count": 10,
   "metadata": {},
   "outputs": [
    {
     "name": "stdout",
     "output_type": "stream",
     "text": [
      "Umbrella\n"
     ]
    }
   ],
   "source": [
    "#getting product_type_names that have a one-to-many mapping with product_type_no\n",
    "unique_type_names = articles_df['product_type_name'].unique()\n",
    "for n in unique_type_names:\n",
    "    if articles_df.loc[articles_df['product_type_name'] == n]['product_type_no'].nunique() != 1:\n",
    "        print(n)"
   ]
  },
  {
   "cell_type": "code",
   "execution_count": 11,
   "metadata": {},
   "outputs": [
    {
     "data": {
      "text/plain": [
       "array([532,  83])"
      ]
     },
     "execution_count": 11,
     "metadata": {},
     "output_type": "execute_result"
    }
   ],
   "source": [
    "#product type numbers that apply to 'Umbrella'\n",
    "articles_df.loc[articles_df['product_type_name'] == 'Umbrella']['product_type_no'].unique()"
   ]
  },
  {
   "cell_type": "code",
   "execution_count": 12,
   "metadata": {},
   "outputs": [
    {
     "data": {
      "text/html": [
       "<div>\n",
       "<style scoped>\n",
       "    .dataframe tbody tr th:only-of-type {\n",
       "        vertical-align: middle;\n",
       "    }\n",
       "\n",
       "    .dataframe tbody tr th {\n",
       "        vertical-align: top;\n",
       "    }\n",
       "\n",
       "    .dataframe thead th {\n",
       "        text-align: right;\n",
       "    }\n",
       "</style>\n",
       "<table border=\"1\" class=\"dataframe\">\n",
       "  <thead>\n",
       "    <tr style=\"text-align: right;\">\n",
       "      <th></th>\n",
       "      <th>article_id</th>\n",
       "      <th>product_code</th>\n",
       "      <th>prod_name</th>\n",
       "      <th>product_type_no</th>\n",
       "      <th>product_type_name</th>\n",
       "      <th>product_group_name</th>\n",
       "      <th>graphical_appearance_no</th>\n",
       "      <th>graphical_appearance_name</th>\n",
       "      <th>colour_group_code</th>\n",
       "      <th>colour_group_name</th>\n",
       "      <th>...</th>\n",
       "      <th>department_name</th>\n",
       "      <th>index_code</th>\n",
       "      <th>index_name</th>\n",
       "      <th>index_group_no</th>\n",
       "      <th>index_group_name</th>\n",
       "      <th>section_no</th>\n",
       "      <th>section_name</th>\n",
       "      <th>garment_group_no</th>\n",
       "      <th>garment_group_name</th>\n",
       "      <th>detail_desc</th>\n",
       "    </tr>\n",
       "  </thead>\n",
       "  <tbody>\n",
       "    <tr>\n",
       "      <th>36</th>\n",
       "      <td>0130035001</td>\n",
       "      <td>0130035</td>\n",
       "      <td>Black Umbrella</td>\n",
       "      <td>532</td>\n",
       "      <td>Umbrella</td>\n",
       "      <td>Items</td>\n",
       "      <td>1010016</td>\n",
       "      <td>Solid</td>\n",
       "      <td>9</td>\n",
       "      <td>Black</td>\n",
       "      <td>...</td>\n",
       "      <td>Other items</td>\n",
       "      <td>C</td>\n",
       "      <td>Ladies Accessories</td>\n",
       "      <td>1</td>\n",
       "      <td>Ladieswear</td>\n",
       "      <td>66</td>\n",
       "      <td>Womens Small accessories</td>\n",
       "      <td>1019</td>\n",
       "      <td>Accessories</td>\n",
       "      <td>Umbrella with a telescopic handle and matching...</td>\n",
       "    </tr>\n",
       "    <tr>\n",
       "      <th>719</th>\n",
       "      <td>0289597012</td>\n",
       "      <td>0289597</td>\n",
       "      <td>UMBRELLA</td>\n",
       "      <td>83</td>\n",
       "      <td>Umbrella</td>\n",
       "      <td>Accessories</td>\n",
       "      <td>1010016</td>\n",
       "      <td>Solid</td>\n",
       "      <td>50</td>\n",
       "      <td>Other Pink</td>\n",
       "      <td>...</td>\n",
       "      <td>Other Accessories</td>\n",
       "      <td>D</td>\n",
       "      <td>Divided</td>\n",
       "      <td>2</td>\n",
       "      <td>Divided</td>\n",
       "      <td>52</td>\n",
       "      <td>Divided Accessories</td>\n",
       "      <td>1019</td>\n",
       "      <td>Accessories</td>\n",
       "      <td>Umbrella with a telescopic handle and matching...</td>\n",
       "    </tr>\n",
       "    <tr>\n",
       "      <th>720</th>\n",
       "      <td>0289597015</td>\n",
       "      <td>0289597</td>\n",
       "      <td>UMBRELLA</td>\n",
       "      <td>83</td>\n",
       "      <td>Umbrella</td>\n",
       "      <td>Accessories</td>\n",
       "      <td>1010001</td>\n",
       "      <td>All over pattern</td>\n",
       "      <td>9</td>\n",
       "      <td>Black</td>\n",
       "      <td>...</td>\n",
       "      <td>Other Accessories</td>\n",
       "      <td>D</td>\n",
       "      <td>Divided</td>\n",
       "      <td>2</td>\n",
       "      <td>Divided</td>\n",
       "      <td>52</td>\n",
       "      <td>Divided Accessories</td>\n",
       "      <td>1019</td>\n",
       "      <td>Accessories</td>\n",
       "      <td>Umbrella with a telescopic handle and matching...</td>\n",
       "    </tr>\n",
       "    <tr>\n",
       "      <th>721</th>\n",
       "      <td>0289597016</td>\n",
       "      <td>0289597</td>\n",
       "      <td>UMBRELLA</td>\n",
       "      <td>83</td>\n",
       "      <td>Umbrella</td>\n",
       "      <td>Accessories</td>\n",
       "      <td>1010001</td>\n",
       "      <td>All over pattern</td>\n",
       "      <td>51</td>\n",
       "      <td>Light Pink</td>\n",
       "      <td>...</td>\n",
       "      <td>Other Accessories</td>\n",
       "      <td>D</td>\n",
       "      <td>Divided</td>\n",
       "      <td>2</td>\n",
       "      <td>Divided</td>\n",
       "      <td>52</td>\n",
       "      <td>Divided Accessories</td>\n",
       "      <td>1019</td>\n",
       "      <td>Accessories</td>\n",
       "      <td>Umbrella with a telescopic handle and matching...</td>\n",
       "    </tr>\n",
       "    <tr>\n",
       "      <th>722</th>\n",
       "      <td>0289597022</td>\n",
       "      <td>0289597</td>\n",
       "      <td>UMBRELLA</td>\n",
       "      <td>83</td>\n",
       "      <td>Umbrella</td>\n",
       "      <td>Accessories</td>\n",
       "      <td>1010016</td>\n",
       "      <td>Solid</td>\n",
       "      <td>73</td>\n",
       "      <td>Dark Blue</td>\n",
       "      <td>...</td>\n",
       "      <td>Other Accessories</td>\n",
       "      <td>D</td>\n",
       "      <td>Divided</td>\n",
       "      <td>2</td>\n",
       "      <td>Divided</td>\n",
       "      <td>52</td>\n",
       "      <td>Divided Accessories</td>\n",
       "      <td>1019</td>\n",
       "      <td>Accessories</td>\n",
       "      <td>Umbrella with a telescopic handle and matching...</td>\n",
       "    </tr>\n",
       "    <tr>\n",
       "      <th>1104</th>\n",
       "      <td>0318035003</td>\n",
       "      <td>0318035</td>\n",
       "      <td>Classic Clear umbrella</td>\n",
       "      <td>83</td>\n",
       "      <td>Umbrella</td>\n",
       "      <td>Accessories</td>\n",
       "      <td>1010019</td>\n",
       "      <td>Transparent</td>\n",
       "      <td>2</td>\n",
       "      <td>Transparent</td>\n",
       "      <td>...</td>\n",
       "      <td>Other items</td>\n",
       "      <td>C</td>\n",
       "      <td>Ladies Accessories</td>\n",
       "      <td>1</td>\n",
       "      <td>Ladieswear</td>\n",
       "      <td>66</td>\n",
       "      <td>Womens Small accessories</td>\n",
       "      <td>1019</td>\n",
       "      <td>Accessories</td>\n",
       "      <td>Umbrella in transparent, printed plastic with ...</td>\n",
       "    </tr>\n",
       "    <tr>\n",
       "      <th>1105</th>\n",
       "      <td>0318035009</td>\n",
       "      <td>0318035</td>\n",
       "      <td>Classic Clear umbrella</td>\n",
       "      <td>83</td>\n",
       "      <td>Umbrella</td>\n",
       "      <td>Accessories</td>\n",
       "      <td>1010001</td>\n",
       "      <td>All over pattern</td>\n",
       "      <td>73</td>\n",
       "      <td>Dark Blue</td>\n",
       "      <td>...</td>\n",
       "      <td>Other items</td>\n",
       "      <td>C</td>\n",
       "      <td>Ladies Accessories</td>\n",
       "      <td>1</td>\n",
       "      <td>Ladieswear</td>\n",
       "      <td>66</td>\n",
       "      <td>Womens Small accessories</td>\n",
       "      <td>1019</td>\n",
       "      <td>Accessories</td>\n",
       "      <td>Umbrella in transparent, printed plastic with ...</td>\n",
       "    </tr>\n",
       "    <tr>\n",
       "      <th>1106</th>\n",
       "      <td>0318035015</td>\n",
       "      <td>0318035</td>\n",
       "      <td>Classic Clear umbrella</td>\n",
       "      <td>83</td>\n",
       "      <td>Umbrella</td>\n",
       "      <td>Accessories</td>\n",
       "      <td>1010019</td>\n",
       "      <td>Transparent</td>\n",
       "      <td>51</td>\n",
       "      <td>Light Pink</td>\n",
       "      <td>...</td>\n",
       "      <td>Other items</td>\n",
       "      <td>C</td>\n",
       "      <td>Ladies Accessories</td>\n",
       "      <td>1</td>\n",
       "      <td>Ladieswear</td>\n",
       "      <td>66</td>\n",
       "      <td>Womens Small accessories</td>\n",
       "      <td>1019</td>\n",
       "      <td>Accessories</td>\n",
       "      <td>Umbrella in transparent, printed plastic with ...</td>\n",
       "    </tr>\n",
       "    <tr>\n",
       "      <th>1107</th>\n",
       "      <td>0318035017</td>\n",
       "      <td>0318035</td>\n",
       "      <td>Classic Clear umbrella</td>\n",
       "      <td>83</td>\n",
       "      <td>Umbrella</td>\n",
       "      <td>Accessories</td>\n",
       "      <td>1010019</td>\n",
       "      <td>Transparent</td>\n",
       "      <td>9</td>\n",
       "      <td>Black</td>\n",
       "      <td>...</td>\n",
       "      <td>Other items</td>\n",
       "      <td>C</td>\n",
       "      <td>Ladies Accessories</td>\n",
       "      <td>1</td>\n",
       "      <td>Ladieswear</td>\n",
       "      <td>66</td>\n",
       "      <td>Womens Small accessories</td>\n",
       "      <td>1019</td>\n",
       "      <td>Accessories</td>\n",
       "      <td>Umbrella in transparent, printed plastic with ...</td>\n",
       "    </tr>\n",
       "    <tr>\n",
       "      <th>1108</th>\n",
       "      <td>0318035018</td>\n",
       "      <td>0318035</td>\n",
       "      <td>Classic Clear umbrella</td>\n",
       "      <td>83</td>\n",
       "      <td>Umbrella</td>\n",
       "      <td>Accessories</td>\n",
       "      <td>1010006</td>\n",
       "      <td>Dot</td>\n",
       "      <td>10</td>\n",
       "      <td>White</td>\n",
       "      <td>...</td>\n",
       "      <td>Other items</td>\n",
       "      <td>C</td>\n",
       "      <td>Ladies Accessories</td>\n",
       "      <td>1</td>\n",
       "      <td>Ladieswear</td>\n",
       "      <td>66</td>\n",
       "      <td>Womens Small accessories</td>\n",
       "      <td>1019</td>\n",
       "      <td>Accessories</td>\n",
       "      <td>Umbrella in transparent, printed plastic with ...</td>\n",
       "    </tr>\n",
       "    <tr>\n",
       "      <th>1109</th>\n",
       "      <td>0318035022</td>\n",
       "      <td>0318035</td>\n",
       "      <td>Classic Clear umbrella</td>\n",
       "      <td>83</td>\n",
       "      <td>Umbrella</td>\n",
       "      <td>Accessories</td>\n",
       "      <td>1010001</td>\n",
       "      <td>All over pattern</td>\n",
       "      <td>2</td>\n",
       "      <td>Transparent</td>\n",
       "      <td>...</td>\n",
       "      <td>Other items</td>\n",
       "      <td>C</td>\n",
       "      <td>Ladies Accessories</td>\n",
       "      <td>1</td>\n",
       "      <td>Ladieswear</td>\n",
       "      <td>66</td>\n",
       "      <td>Womens Small accessories</td>\n",
       "      <td>1019</td>\n",
       "      <td>Accessories</td>\n",
       "      <td>Umbrella in transparent, printed plastic with ...</td>\n",
       "    </tr>\n",
       "    <tr>\n",
       "      <th>1110</th>\n",
       "      <td>0318035023</td>\n",
       "      <td>0318035</td>\n",
       "      <td>Classic Clear umbrella</td>\n",
       "      <td>83</td>\n",
       "      <td>Umbrella</td>\n",
       "      <td>Accessories</td>\n",
       "      <td>1010001</td>\n",
       "      <td>All over pattern</td>\n",
       "      <td>51</td>\n",
       "      <td>Light Pink</td>\n",
       "      <td>...</td>\n",
       "      <td>Other items</td>\n",
       "      <td>C</td>\n",
       "      <td>Ladies Accessories</td>\n",
       "      <td>1</td>\n",
       "      <td>Ladieswear</td>\n",
       "      <td>66</td>\n",
       "      <td>Womens Small accessories</td>\n",
       "      <td>1019</td>\n",
       "      <td>Accessories</td>\n",
       "      <td>Umbrella in transparent, printed plastic with ...</td>\n",
       "    </tr>\n",
       "    <tr>\n",
       "      <th>1111</th>\n",
       "      <td>0318035025</td>\n",
       "      <td>0318035</td>\n",
       "      <td>Classic Clear umbrella</td>\n",
       "      <td>83</td>\n",
       "      <td>Umbrella</td>\n",
       "      <td>Accessories</td>\n",
       "      <td>1010001</td>\n",
       "      <td>All over pattern</td>\n",
       "      <td>2</td>\n",
       "      <td>Transparent</td>\n",
       "      <td>...</td>\n",
       "      <td>Other items</td>\n",
       "      <td>C</td>\n",
       "      <td>Ladies Accessories</td>\n",
       "      <td>1</td>\n",
       "      <td>Ladieswear</td>\n",
       "      <td>66</td>\n",
       "      <td>Womens Small accessories</td>\n",
       "      <td>1019</td>\n",
       "      <td>Accessories</td>\n",
       "      <td>Umbrella in transparent, printed plastic with ...</td>\n",
       "    </tr>\n",
       "    <tr>\n",
       "      <th>1112</th>\n",
       "      <td>0318035026</td>\n",
       "      <td>0318035</td>\n",
       "      <td>Classic Clear umbrella</td>\n",
       "      <td>83</td>\n",
       "      <td>Umbrella</td>\n",
       "      <td>Accessories</td>\n",
       "      <td>1010001</td>\n",
       "      <td>All over pattern</td>\n",
       "      <td>93</td>\n",
       "      <td>Dark Green</td>\n",
       "      <td>...</td>\n",
       "      <td>Other items</td>\n",
       "      <td>C</td>\n",
       "      <td>Ladies Accessories</td>\n",
       "      <td>1</td>\n",
       "      <td>Ladieswear</td>\n",
       "      <td>66</td>\n",
       "      <td>Womens Small accessories</td>\n",
       "      <td>1019</td>\n",
       "      <td>Accessories</td>\n",
       "      <td>Umbrella in transparent, printed plastic with ...</td>\n",
       "    </tr>\n",
       "    <tr>\n",
       "      <th>1158</th>\n",
       "      <td>0322017003</td>\n",
       "      <td>0322017</td>\n",
       "      <td>Mini Umbrella</td>\n",
       "      <td>532</td>\n",
       "      <td>Umbrella</td>\n",
       "      <td>Items</td>\n",
       "      <td>1010016</td>\n",
       "      <td>Solid</td>\n",
       "      <td>9</td>\n",
       "      <td>Black</td>\n",
       "      <td>...</td>\n",
       "      <td>Other items</td>\n",
       "      <td>C</td>\n",
       "      <td>Ladies Accessories</td>\n",
       "      <td>1</td>\n",
       "      <td>Ladieswear</td>\n",
       "      <td>66</td>\n",
       "      <td>Womens Small accessories</td>\n",
       "      <td>1019</td>\n",
       "      <td>Accessories</td>\n",
       "      <td>Small umbrella with a telescopic handle and a ...</td>\n",
       "    </tr>\n",
       "    <tr>\n",
       "      <th>1159</th>\n",
       "      <td>0322017015</td>\n",
       "      <td>0322017</td>\n",
       "      <td>Mini Umbrella</td>\n",
       "      <td>83</td>\n",
       "      <td>Umbrella</td>\n",
       "      <td>Accessories</td>\n",
       "      <td>1010001</td>\n",
       "      <td>All over pattern</td>\n",
       "      <td>31</td>\n",
       "      <td>Light Orange</td>\n",
       "      <td>...</td>\n",
       "      <td>Other items</td>\n",
       "      <td>C</td>\n",
       "      <td>Ladies Accessories</td>\n",
       "      <td>1</td>\n",
       "      <td>Ladieswear</td>\n",
       "      <td>66</td>\n",
       "      <td>Womens Small accessories</td>\n",
       "      <td>1019</td>\n",
       "      <td>Accessories</td>\n",
       "      <td>Small umbrella with a telescopic handle and a ...</td>\n",
       "    </tr>\n",
       "    <tr>\n",
       "      <th>1160</th>\n",
       "      <td>0322017029</td>\n",
       "      <td>0322017</td>\n",
       "      <td>Mini Umbrella</td>\n",
       "      <td>83</td>\n",
       "      <td>Umbrella</td>\n",
       "      <td>Accessories</td>\n",
       "      <td>1010016</td>\n",
       "      <td>Solid</td>\n",
       "      <td>31</td>\n",
       "      <td>Light Orange</td>\n",
       "      <td>...</td>\n",
       "      <td>Other items</td>\n",
       "      <td>C</td>\n",
       "      <td>Ladies Accessories</td>\n",
       "      <td>1</td>\n",
       "      <td>Ladieswear</td>\n",
       "      <td>66</td>\n",
       "      <td>Womens Small accessories</td>\n",
       "      <td>1019</td>\n",
       "      <td>Accessories</td>\n",
       "      <td>Small umbrella with a telescopic handle and a ...</td>\n",
       "    </tr>\n",
       "    <tr>\n",
       "      <th>1161</th>\n",
       "      <td>0322017030</td>\n",
       "      <td>0322017</td>\n",
       "      <td>Mini Umbrella</td>\n",
       "      <td>83</td>\n",
       "      <td>Umbrella</td>\n",
       "      <td>Accessories</td>\n",
       "      <td>1010001</td>\n",
       "      <td>All over pattern</td>\n",
       "      <td>17</td>\n",
       "      <td>Yellowish Brown</td>\n",
       "      <td>...</td>\n",
       "      <td>Other items</td>\n",
       "      <td>C</td>\n",
       "      <td>Ladies Accessories</td>\n",
       "      <td>1</td>\n",
       "      <td>Ladieswear</td>\n",
       "      <td>66</td>\n",
       "      <td>Womens Small accessories</td>\n",
       "      <td>1019</td>\n",
       "      <td>Accessories</td>\n",
       "      <td>Small umbrella with a telescopic handle and a ...</td>\n",
       "    </tr>\n",
       "    <tr>\n",
       "      <th>1162</th>\n",
       "      <td>0322017038</td>\n",
       "      <td>0322017</td>\n",
       "      <td>Mini Umbrella</td>\n",
       "      <td>83</td>\n",
       "      <td>Umbrella</td>\n",
       "      <td>Accessories</td>\n",
       "      <td>1010001</td>\n",
       "      <td>All over pattern</td>\n",
       "      <td>9</td>\n",
       "      <td>Black</td>\n",
       "      <td>...</td>\n",
       "      <td>Other items</td>\n",
       "      <td>C</td>\n",
       "      <td>Ladies Accessories</td>\n",
       "      <td>1</td>\n",
       "      <td>Ladieswear</td>\n",
       "      <td>66</td>\n",
       "      <td>Womens Small accessories</td>\n",
       "      <td>1019</td>\n",
       "      <td>Accessories</td>\n",
       "      <td>Small umbrella with a telescopic handle and a ...</td>\n",
       "    </tr>\n",
       "    <tr>\n",
       "      <th>1163</th>\n",
       "      <td>0322017039</td>\n",
       "      <td>0322017</td>\n",
       "      <td>Mini Umbrella</td>\n",
       "      <td>83</td>\n",
       "      <td>Umbrella</td>\n",
       "      <td>Accessories</td>\n",
       "      <td>1010001</td>\n",
       "      <td>All over pattern</td>\n",
       "      <td>52</td>\n",
       "      <td>Pink</td>\n",
       "      <td>...</td>\n",
       "      <td>Other items</td>\n",
       "      <td>C</td>\n",
       "      <td>Ladies Accessories</td>\n",
       "      <td>1</td>\n",
       "      <td>Ladieswear</td>\n",
       "      <td>66</td>\n",
       "      <td>Womens Small accessories</td>\n",
       "      <td>1019</td>\n",
       "      <td>Accessories</td>\n",
       "      <td>Small umbrella with a telescopic handle and a ...</td>\n",
       "    </tr>\n",
       "    <tr>\n",
       "      <th>1164</th>\n",
       "      <td>0322017040</td>\n",
       "      <td>0322017</td>\n",
       "      <td>Mini Umbrella</td>\n",
       "      <td>83</td>\n",
       "      <td>Umbrella</td>\n",
       "      <td>Accessories</td>\n",
       "      <td>1010001</td>\n",
       "      <td>All over pattern</td>\n",
       "      <td>40</td>\n",
       "      <td>Other Red</td>\n",
       "      <td>...</td>\n",
       "      <td>Other items</td>\n",
       "      <td>C</td>\n",
       "      <td>Ladies Accessories</td>\n",
       "      <td>1</td>\n",
       "      <td>Ladieswear</td>\n",
       "      <td>66</td>\n",
       "      <td>Womens Small accessories</td>\n",
       "      <td>1019</td>\n",
       "      <td>Accessories</td>\n",
       "      <td>Small umbrella with a telescopic handle and a ...</td>\n",
       "    </tr>\n",
       "    <tr>\n",
       "      <th>1165</th>\n",
       "      <td>0322017043</td>\n",
       "      <td>0322017</td>\n",
       "      <td>Mini Umbrella</td>\n",
       "      <td>83</td>\n",
       "      <td>Umbrella</td>\n",
       "      <td>Accessories</td>\n",
       "      <td>1010001</td>\n",
       "      <td>All over pattern</td>\n",
       "      <td>9</td>\n",
       "      <td>Black</td>\n",
       "      <td>...</td>\n",
       "      <td>Other items</td>\n",
       "      <td>C</td>\n",
       "      <td>Ladies Accessories</td>\n",
       "      <td>1</td>\n",
       "      <td>Ladieswear</td>\n",
       "      <td>66</td>\n",
       "      <td>Womens Small accessories</td>\n",
       "      <td>1019</td>\n",
       "      <td>Accessories</td>\n",
       "      <td>Small umbrella with a telescopic handle and a ...</td>\n",
       "    </tr>\n",
       "    <tr>\n",
       "      <th>7339</th>\n",
       "      <td>0512989012</td>\n",
       "      <td>0512989</td>\n",
       "      <td>Fancy umbrella</td>\n",
       "      <td>83</td>\n",
       "      <td>Umbrella</td>\n",
       "      <td>Accessories</td>\n",
       "      <td>1010001</td>\n",
       "      <td>All over pattern</td>\n",
       "      <td>9</td>\n",
       "      <td>Black</td>\n",
       "      <td>...</td>\n",
       "      <td>Other items</td>\n",
       "      <td>C</td>\n",
       "      <td>Ladies Accessories</td>\n",
       "      <td>1</td>\n",
       "      <td>Ladieswear</td>\n",
       "      <td>66</td>\n",
       "      <td>Womens Small accessories</td>\n",
       "      <td>1019</td>\n",
       "      <td>Accessories</td>\n",
       "      <td>Umbrella with a telescopic handle and matching...</td>\n",
       "    </tr>\n",
       "    <tr>\n",
       "      <th>7340</th>\n",
       "      <td>0512989020</td>\n",
       "      <td>0512989</td>\n",
       "      <td>Fancy umbrella</td>\n",
       "      <td>83</td>\n",
       "      <td>Umbrella</td>\n",
       "      <td>Accessories</td>\n",
       "      <td>1010001</td>\n",
       "      <td>All over pattern</td>\n",
       "      <td>11</td>\n",
       "      <td>Off White</td>\n",
       "      <td>...</td>\n",
       "      <td>Other items</td>\n",
       "      <td>C</td>\n",
       "      <td>Ladies Accessories</td>\n",
       "      <td>1</td>\n",
       "      <td>Ladieswear</td>\n",
       "      <td>66</td>\n",
       "      <td>Womens Small accessories</td>\n",
       "      <td>1019</td>\n",
       "      <td>Accessories</td>\n",
       "      <td>Umbrella with a telescopic handle and matching...</td>\n",
       "    </tr>\n",
       "    <tr>\n",
       "      <th>7341</th>\n",
       "      <td>0512989021</td>\n",
       "      <td>0512989</td>\n",
       "      <td>Fancy umbrella</td>\n",
       "      <td>83</td>\n",
       "      <td>Umbrella</td>\n",
       "      <td>Accessories</td>\n",
       "      <td>1010001</td>\n",
       "      <td>All over pattern</td>\n",
       "      <td>22</td>\n",
       "      <td>Yellow</td>\n",
       "      <td>...</td>\n",
       "      <td>Other items</td>\n",
       "      <td>C</td>\n",
       "      <td>Ladies Accessories</td>\n",
       "      <td>1</td>\n",
       "      <td>Ladieswear</td>\n",
       "      <td>66</td>\n",
       "      <td>Womens Small accessories</td>\n",
       "      <td>1019</td>\n",
       "      <td>Accessories</td>\n",
       "      <td>Umbrella with a telescopic handle and matching...</td>\n",
       "    </tr>\n",
       "    <tr>\n",
       "      <th>7342</th>\n",
       "      <td>0512989022</td>\n",
       "      <td>0512989</td>\n",
       "      <td>Fancy umbrella</td>\n",
       "      <td>83</td>\n",
       "      <td>Umbrella</td>\n",
       "      <td>Accessories</td>\n",
       "      <td>1010001</td>\n",
       "      <td>All over pattern</td>\n",
       "      <td>93</td>\n",
       "      <td>Dark Green</td>\n",
       "      <td>...</td>\n",
       "      <td>Other items</td>\n",
       "      <td>C</td>\n",
       "      <td>Ladies Accessories</td>\n",
       "      <td>1</td>\n",
       "      <td>Ladieswear</td>\n",
       "      <td>66</td>\n",
       "      <td>Womens Small accessories</td>\n",
       "      <td>1019</td>\n",
       "      <td>Accessories</td>\n",
       "      <td>Umbrella with a telescopic handle and matching...</td>\n",
       "    </tr>\n",
       "    <tr>\n",
       "      <th>7343</th>\n",
       "      <td>0512989023</td>\n",
       "      <td>0512989</td>\n",
       "      <td>Fancy umbrella</td>\n",
       "      <td>83</td>\n",
       "      <td>Umbrella</td>\n",
       "      <td>Accessories</td>\n",
       "      <td>1010001</td>\n",
       "      <td>All over pattern</td>\n",
       "      <td>51</td>\n",
       "      <td>Light Pink</td>\n",
       "      <td>...</td>\n",
       "      <td>Other items</td>\n",
       "      <td>C</td>\n",
       "      <td>Ladies Accessories</td>\n",
       "      <td>1</td>\n",
       "      <td>Ladieswear</td>\n",
       "      <td>66</td>\n",
       "      <td>Womens Small accessories</td>\n",
       "      <td>1019</td>\n",
       "      <td>Accessories</td>\n",
       "      <td>Umbrella with a telescopic handle and matching...</td>\n",
       "    </tr>\n",
       "    <tr>\n",
       "      <th>7344</th>\n",
       "      <td>0512989029</td>\n",
       "      <td>0512989</td>\n",
       "      <td>Fancy umbrella</td>\n",
       "      <td>83</td>\n",
       "      <td>Umbrella</td>\n",
       "      <td>Accessories</td>\n",
       "      <td>1010001</td>\n",
       "      <td>All over pattern</td>\n",
       "      <td>9</td>\n",
       "      <td>Black</td>\n",
       "      <td>...</td>\n",
       "      <td>Other items</td>\n",
       "      <td>C</td>\n",
       "      <td>Ladies Accessories</td>\n",
       "      <td>1</td>\n",
       "      <td>Ladieswear</td>\n",
       "      <td>66</td>\n",
       "      <td>Womens Small accessories</td>\n",
       "      <td>1019</td>\n",
       "      <td>Accessories</td>\n",
       "      <td>Umbrella with a telescopic handle and matching...</td>\n",
       "    </tr>\n",
       "    <tr>\n",
       "      <th>105215</th>\n",
       "      <td>0934389001</td>\n",
       "      <td>0934389</td>\n",
       "      <td>Clear Umbrella</td>\n",
       "      <td>532</td>\n",
       "      <td>Umbrella</td>\n",
       "      <td>Items</td>\n",
       "      <td>1010019</td>\n",
       "      <td>Transparent</td>\n",
       "      <td>10</td>\n",
       "      <td>White</td>\n",
       "      <td>...</td>\n",
       "      <td>Other items</td>\n",
       "      <td>C</td>\n",
       "      <td>Ladies Accessories</td>\n",
       "      <td>1</td>\n",
       "      <td>Ladieswear</td>\n",
       "      <td>66</td>\n",
       "      <td>Womens Small accessories</td>\n",
       "      <td>1019</td>\n",
       "      <td>Accessories</td>\n",
       "      <td>Umbrella with a transparent plastic canopy and...</td>\n",
       "    </tr>\n",
       "  </tbody>\n",
       "</table>\n",
       "<p>29 rows × 25 columns</p>\n",
       "</div>"
      ],
      "text/plain": [
       "        article_id product_code               prod_name  product_type_no  \\\n",
       "36      0130035001      0130035          Black Umbrella              532   \n",
       "719     0289597012      0289597                UMBRELLA               83   \n",
       "720     0289597015      0289597                UMBRELLA               83   \n",
       "721     0289597016      0289597                UMBRELLA               83   \n",
       "722     0289597022      0289597                UMBRELLA               83   \n",
       "1104    0318035003      0318035  Classic Clear umbrella               83   \n",
       "1105    0318035009      0318035  Classic Clear umbrella               83   \n",
       "1106    0318035015      0318035  Classic Clear umbrella               83   \n",
       "1107    0318035017      0318035  Classic Clear umbrella               83   \n",
       "1108    0318035018      0318035  Classic Clear umbrella               83   \n",
       "1109    0318035022      0318035  Classic Clear umbrella               83   \n",
       "1110    0318035023      0318035  Classic Clear umbrella               83   \n",
       "1111    0318035025      0318035  Classic Clear umbrella               83   \n",
       "1112    0318035026      0318035  Classic Clear umbrella               83   \n",
       "1158    0322017003      0322017           Mini Umbrella              532   \n",
       "1159    0322017015      0322017           Mini Umbrella               83   \n",
       "1160    0322017029      0322017           Mini Umbrella               83   \n",
       "1161    0322017030      0322017           Mini Umbrella               83   \n",
       "1162    0322017038      0322017           Mini Umbrella               83   \n",
       "1163    0322017039      0322017           Mini Umbrella               83   \n",
       "1164    0322017040      0322017           Mini Umbrella               83   \n",
       "1165    0322017043      0322017           Mini Umbrella               83   \n",
       "7339    0512989012      0512989          Fancy umbrella               83   \n",
       "7340    0512989020      0512989          Fancy umbrella               83   \n",
       "7341    0512989021      0512989          Fancy umbrella               83   \n",
       "7342    0512989022      0512989          Fancy umbrella               83   \n",
       "7343    0512989023      0512989          Fancy umbrella               83   \n",
       "7344    0512989029      0512989          Fancy umbrella               83   \n",
       "105215  0934389001      0934389          Clear Umbrella              532   \n",
       "\n",
       "       product_type_name product_group_name  graphical_appearance_no  \\\n",
       "36              Umbrella              Items                  1010016   \n",
       "719             Umbrella        Accessories                  1010016   \n",
       "720             Umbrella        Accessories                  1010001   \n",
       "721             Umbrella        Accessories                  1010001   \n",
       "722             Umbrella        Accessories                  1010016   \n",
       "1104            Umbrella        Accessories                  1010019   \n",
       "1105            Umbrella        Accessories                  1010001   \n",
       "1106            Umbrella        Accessories                  1010019   \n",
       "1107            Umbrella        Accessories                  1010019   \n",
       "1108            Umbrella        Accessories                  1010006   \n",
       "1109            Umbrella        Accessories                  1010001   \n",
       "1110            Umbrella        Accessories                  1010001   \n",
       "1111            Umbrella        Accessories                  1010001   \n",
       "1112            Umbrella        Accessories                  1010001   \n",
       "1158            Umbrella              Items                  1010016   \n",
       "1159            Umbrella        Accessories                  1010001   \n",
       "1160            Umbrella        Accessories                  1010016   \n",
       "1161            Umbrella        Accessories                  1010001   \n",
       "1162            Umbrella        Accessories                  1010001   \n",
       "1163            Umbrella        Accessories                  1010001   \n",
       "1164            Umbrella        Accessories                  1010001   \n",
       "1165            Umbrella        Accessories                  1010001   \n",
       "7339            Umbrella        Accessories                  1010001   \n",
       "7340            Umbrella        Accessories                  1010001   \n",
       "7341            Umbrella        Accessories                  1010001   \n",
       "7342            Umbrella        Accessories                  1010001   \n",
       "7343            Umbrella        Accessories                  1010001   \n",
       "7344            Umbrella        Accessories                  1010001   \n",
       "105215          Umbrella              Items                  1010019   \n",
       "\n",
       "       graphical_appearance_name  colour_group_code colour_group_name  ...  \\\n",
       "36                         Solid                  9             Black  ...   \n",
       "719                        Solid                 50        Other Pink  ...   \n",
       "720             All over pattern                  9             Black  ...   \n",
       "721             All over pattern                 51        Light Pink  ...   \n",
       "722                        Solid                 73         Dark Blue  ...   \n",
       "1104                 Transparent                  2       Transparent  ...   \n",
       "1105            All over pattern                 73         Dark Blue  ...   \n",
       "1106                 Transparent                 51        Light Pink  ...   \n",
       "1107                 Transparent                  9             Black  ...   \n",
       "1108                         Dot                 10             White  ...   \n",
       "1109            All over pattern                  2       Transparent  ...   \n",
       "1110            All over pattern                 51        Light Pink  ...   \n",
       "1111            All over pattern                  2       Transparent  ...   \n",
       "1112            All over pattern                 93        Dark Green  ...   \n",
       "1158                       Solid                  9             Black  ...   \n",
       "1159            All over pattern                 31      Light Orange  ...   \n",
       "1160                       Solid                 31      Light Orange  ...   \n",
       "1161            All over pattern                 17   Yellowish Brown  ...   \n",
       "1162            All over pattern                  9             Black  ...   \n",
       "1163            All over pattern                 52              Pink  ...   \n",
       "1164            All over pattern                 40         Other Red  ...   \n",
       "1165            All over pattern                  9             Black  ...   \n",
       "7339            All over pattern                  9             Black  ...   \n",
       "7340            All over pattern                 11         Off White  ...   \n",
       "7341            All over pattern                 22            Yellow  ...   \n",
       "7342            All over pattern                 93        Dark Green  ...   \n",
       "7343            All over pattern                 51        Light Pink  ...   \n",
       "7344            All over pattern                  9             Black  ...   \n",
       "105215               Transparent                 10             White  ...   \n",
       "\n",
       "          department_name index_code          index_name index_group_no  \\\n",
       "36            Other items          C  Ladies Accessories              1   \n",
       "719     Other Accessories          D             Divided              2   \n",
       "720     Other Accessories          D             Divided              2   \n",
       "721     Other Accessories          D             Divided              2   \n",
       "722     Other Accessories          D             Divided              2   \n",
       "1104          Other items          C  Ladies Accessories              1   \n",
       "1105          Other items          C  Ladies Accessories              1   \n",
       "1106          Other items          C  Ladies Accessories              1   \n",
       "1107          Other items          C  Ladies Accessories              1   \n",
       "1108          Other items          C  Ladies Accessories              1   \n",
       "1109          Other items          C  Ladies Accessories              1   \n",
       "1110          Other items          C  Ladies Accessories              1   \n",
       "1111          Other items          C  Ladies Accessories              1   \n",
       "1112          Other items          C  Ladies Accessories              1   \n",
       "1158          Other items          C  Ladies Accessories              1   \n",
       "1159          Other items          C  Ladies Accessories              1   \n",
       "1160          Other items          C  Ladies Accessories              1   \n",
       "1161          Other items          C  Ladies Accessories              1   \n",
       "1162          Other items          C  Ladies Accessories              1   \n",
       "1163          Other items          C  Ladies Accessories              1   \n",
       "1164          Other items          C  Ladies Accessories              1   \n",
       "1165          Other items          C  Ladies Accessories              1   \n",
       "7339          Other items          C  Ladies Accessories              1   \n",
       "7340          Other items          C  Ladies Accessories              1   \n",
       "7341          Other items          C  Ladies Accessories              1   \n",
       "7342          Other items          C  Ladies Accessories              1   \n",
       "7343          Other items          C  Ladies Accessories              1   \n",
       "7344          Other items          C  Ladies Accessories              1   \n",
       "105215        Other items          C  Ladies Accessories              1   \n",
       "\n",
       "        index_group_name section_no              section_name  \\\n",
       "36            Ladieswear         66  Womens Small accessories   \n",
       "719              Divided         52       Divided Accessories   \n",
       "720              Divided         52       Divided Accessories   \n",
       "721              Divided         52       Divided Accessories   \n",
       "722              Divided         52       Divided Accessories   \n",
       "1104          Ladieswear         66  Womens Small accessories   \n",
       "1105          Ladieswear         66  Womens Small accessories   \n",
       "1106          Ladieswear         66  Womens Small accessories   \n",
       "1107          Ladieswear         66  Womens Small accessories   \n",
       "1108          Ladieswear         66  Womens Small accessories   \n",
       "1109          Ladieswear         66  Womens Small accessories   \n",
       "1110          Ladieswear         66  Womens Small accessories   \n",
       "1111          Ladieswear         66  Womens Small accessories   \n",
       "1112          Ladieswear         66  Womens Small accessories   \n",
       "1158          Ladieswear         66  Womens Small accessories   \n",
       "1159          Ladieswear         66  Womens Small accessories   \n",
       "1160          Ladieswear         66  Womens Small accessories   \n",
       "1161          Ladieswear         66  Womens Small accessories   \n",
       "1162          Ladieswear         66  Womens Small accessories   \n",
       "1163          Ladieswear         66  Womens Small accessories   \n",
       "1164          Ladieswear         66  Womens Small accessories   \n",
       "1165          Ladieswear         66  Womens Small accessories   \n",
       "7339          Ladieswear         66  Womens Small accessories   \n",
       "7340          Ladieswear         66  Womens Small accessories   \n",
       "7341          Ladieswear         66  Womens Small accessories   \n",
       "7342          Ladieswear         66  Womens Small accessories   \n",
       "7343          Ladieswear         66  Womens Small accessories   \n",
       "7344          Ladieswear         66  Womens Small accessories   \n",
       "105215        Ladieswear         66  Womens Small accessories   \n",
       "\n",
       "       garment_group_no  garment_group_name  \\\n",
       "36                 1019         Accessories   \n",
       "719                1019         Accessories   \n",
       "720                1019         Accessories   \n",
       "721                1019         Accessories   \n",
       "722                1019         Accessories   \n",
       "1104               1019         Accessories   \n",
       "1105               1019         Accessories   \n",
       "1106               1019         Accessories   \n",
       "1107               1019         Accessories   \n",
       "1108               1019         Accessories   \n",
       "1109               1019         Accessories   \n",
       "1110               1019         Accessories   \n",
       "1111               1019         Accessories   \n",
       "1112               1019         Accessories   \n",
       "1158               1019         Accessories   \n",
       "1159               1019         Accessories   \n",
       "1160               1019         Accessories   \n",
       "1161               1019         Accessories   \n",
       "1162               1019         Accessories   \n",
       "1163               1019         Accessories   \n",
       "1164               1019         Accessories   \n",
       "1165               1019         Accessories   \n",
       "7339               1019         Accessories   \n",
       "7340               1019         Accessories   \n",
       "7341               1019         Accessories   \n",
       "7342               1019         Accessories   \n",
       "7343               1019         Accessories   \n",
       "7344               1019         Accessories   \n",
       "105215             1019         Accessories   \n",
       "\n",
       "                                              detail_desc  \n",
       "36      Umbrella with a telescopic handle and matching...  \n",
       "719     Umbrella with a telescopic handle and matching...  \n",
       "720     Umbrella with a telescopic handle and matching...  \n",
       "721     Umbrella with a telescopic handle and matching...  \n",
       "722     Umbrella with a telescopic handle and matching...  \n",
       "1104    Umbrella in transparent, printed plastic with ...  \n",
       "1105    Umbrella in transparent, printed plastic with ...  \n",
       "1106    Umbrella in transparent, printed plastic with ...  \n",
       "1107    Umbrella in transparent, printed plastic with ...  \n",
       "1108    Umbrella in transparent, printed plastic with ...  \n",
       "1109    Umbrella in transparent, printed plastic with ...  \n",
       "1110    Umbrella in transparent, printed plastic with ...  \n",
       "1111    Umbrella in transparent, printed plastic with ...  \n",
       "1112    Umbrella in transparent, printed plastic with ...  \n",
       "1158    Small umbrella with a telescopic handle and a ...  \n",
       "1159    Small umbrella with a telescopic handle and a ...  \n",
       "1160    Small umbrella with a telescopic handle and a ...  \n",
       "1161    Small umbrella with a telescopic handle and a ...  \n",
       "1162    Small umbrella with a telescopic handle and a ...  \n",
       "1163    Small umbrella with a telescopic handle and a ...  \n",
       "1164    Small umbrella with a telescopic handle and a ...  \n",
       "1165    Small umbrella with a telescopic handle and a ...  \n",
       "7339    Umbrella with a telescopic handle and matching...  \n",
       "7340    Umbrella with a telescopic handle and matching...  \n",
       "7341    Umbrella with a telescopic handle and matching...  \n",
       "7342    Umbrella with a telescopic handle and matching...  \n",
       "7343    Umbrella with a telescopic handle and matching...  \n",
       "7344    Umbrella with a telescopic handle and matching...  \n",
       "105215  Umbrella with a transparent plastic canopy and...  \n",
       "\n",
       "[29 rows x 25 columns]"
      ]
     },
     "execution_count": 12,
     "metadata": {},
     "output_type": "execute_result"
    }
   ],
   "source": [
    "articles_df.loc[articles_df['product_type_name'] == 'Umbrella']"
   ]
  },
  {
   "cell_type": "code",
   "execution_count": 13,
   "metadata": {},
   "outputs": [
    {
     "name": "stdout",
     "output_type": "stream",
     "text": [
      "Jersey Basic\n",
      "Jersey\n",
      "EQ & Special Collections\n",
      "Belts\n",
      "Swimwear\n",
      "Shirt\n",
      "Trouser\n",
      "Small Accessories\n",
      "Accessories\n",
      "Bags\n",
      "Knitwear\n",
      "Woven bottoms\n",
      "Shorts\n",
      "Jersey Fancy\n",
      "Outwear\n",
      "Skirt\n",
      "Jersey License\n",
      "Blazer\n",
      "Blouse\n",
      "Dress\n",
      "Loungewear\n",
      "OL Extended Sizes\n"
     ]
    }
   ],
   "source": [
    "#getting department_names that have a one-to-many mapping with department_no\n",
    "unique_department_names = articles_df['department_name'].unique()\n",
    "for n in unique_department_names:\n",
    "    if articles_df.loc[articles_df['department_name'] == n]['department_no'].nunique() != 1:\n",
    "        print(n)"
   ]
  },
  {
   "cell_type": "code",
   "execution_count": 14,
   "metadata": {},
   "outputs": [
    {
     "name": "stdout",
     "output_type": "stream",
     "text": [
      "Ladies Other\n"
     ]
    }
   ],
   "source": [
    "#getting section_names that have a one-to-many mapping with section_no\n",
    "unique_section_names = articles_df['section_name'].unique()\n",
    "for n in unique_section_names:\n",
    "    if articles_df.loc[articles_df['section_name'] == n]['section_no'].nunique() != 1:\n",
    "        print(n)"
   ]
  },
  {
   "cell_type": "code",
   "execution_count": 15,
   "metadata": {},
   "outputs": [
    {
     "data": {
      "text/plain": [
       "array([ 4, 17])"
      ]
     },
     "execution_count": 15,
     "metadata": {},
     "output_type": "execute_result"
    }
   ],
   "source": [
    "#section numbers that apply to 'Ladies Other'\n",
    "articles_df.loc[articles_df['section_name'] == 'Ladies Other']['section_no'].unique()"
   ]
  },
  {
   "cell_type": "markdown",
   "metadata": {},
   "source": [
    "### Understanding"
   ]
  },
  {
   "cell_type": "code",
   "execution_count": 16,
   "metadata": {},
   "outputs": [
    {
     "data": {
      "text/plain": [
       "<AxesSubplot: >"
      ]
     },
     "execution_count": 16,
     "metadata": {},
     "output_type": "execute_result"
    },
    {
     "data": {
      "image/png": "[encoded data removed]",
      "text/plain": [
       "<Figure size 640x480 with 1 Axes>"
      ]
     },
     "metadata": {},
     "output_type": "display_data"
    }
   ],
   "source": [
    "articles_df['product_type_name'].value_counts()[:30].plot.bar()"
   ]
  },
  {
   "cell_type": "code",
   "execution_count": 17,
   "metadata": {},
   "outputs": [
    {
     "data": {
      "text/plain": [
       "<AxesSubplot: >"
      ]
     },
     "execution_count": 17,
     "metadata": {},
     "output_type": "execute_result"
    },
    {
     "data": {
      "image/png": "[encoded data removed]",
      "text/plain": [
       "<Figure size 640x480 with 1 Axes>"
      ]
     },
     "metadata": {},
     "output_type": "display_data"
    }
   ],
   "source": [
    "articles_df['garment_group_name'].value_counts().plot.bar()"
   ]
  },
  {
   "cell_type": "code",
   "execution_count": 18,
   "metadata": {},
   "outputs": [
    {
     "data": {
      "text/plain": [
       "<AxesSubplot: >"
      ]
     },
     "execution_count": 18,
     "metadata": {},
     "output_type": "execute_result"
    },
    {
     "data": {
      "image/png": "[encoded data removed]",
      "text/plain": [
       "<Figure size 640x480 with 1 Axes>"
      ]
     },
     "metadata": {},
     "output_type": "display_data"
    }
   ],
   "source": [
    "articles_df['colour_group_name'].value_counts()[:30].plot.bar()"
   ]
  },
  {
   "cell_type": "code",
   "execution_count": 19,
   "metadata": {},
   "outputs": [
    {
     "data": {
      "text/plain": [
       "<AxesSubplot: >"
      ]
     },
     "execution_count": 19,
     "metadata": {},
     "output_type": "execute_result"
    },
    {
     "data": {
      "image/png": "[encoded data removed]",
      "text/plain": [
       "<Figure size 640x480 with 1 Axes>"
      ]
     },
     "metadata": {},
     "output_type": "display_data"
    }
   ],
   "source": [
    "#frequency of product types where detail_desc is missing\n",
    "articles_df[articles_df['detail_desc'].isna()]['product_type_name'].value_counts().plot.bar()"
   ]
  },
  {
   "cell_type": "code",
   "execution_count": 20,
   "metadata": {},
   "outputs": [
    {
     "data": {
      "text/plain": [
       "<AxesSubplot: >"
      ]
     },
     "execution_count": 20,
     "metadata": {},
     "output_type": "execute_result"
    },
    {
     "data": {
      "image/png": "[encoded data removed]",
      "text/plain": [
       "<Figure size 640x480 with 1 Axes>"
      ]
     },
     "metadata": {},
     "output_type": "display_data"
    }
   ],
   "source": [
    "#frequency of garment groups where detail_desc is missing\n",
    "articles_df[articles_df['detail_desc'].isna()]['garment_group_name'].value_counts().plot.bar()"
   ]
  },
  {
   "cell_type": "markdown",
   "metadata": {},
   "source": [
    "## customers.csv"
   ]
  },
  {
   "cell_type": "code",
   "execution_count": 21,
   "metadata": {},
   "outputs": [
    {
     "data": {
      "text/html": [
       "<div>\n",
       "<style scoped>\n",
       "    .dataframe tbody tr th:only-of-type {\n",
       "        vertical-align: middle;\n",
       "    }\n",
       "\n",
       "    .dataframe tbody tr th {\n",
       "        vertical-align: top;\n",
       "    }\n",
       "\n",
       "    .dataframe thead th {\n",
       "        text-align: right;\n",
       "    }\n",
       "</style>\n",
       "<table border=\"1\" class=\"dataframe\">\n",
       "  <thead>\n",
       "    <tr style=\"text-align: right;\">\n",
       "      <th></th>\n",
       "      <th>customer_id</th>\n",
       "      <th>FN</th>\n",
       "      <th>Active</th>\n",
       "      <th>club_member_status</th>\n",
       "      <th>fashion_news_frequency</th>\n",
       "      <th>age</th>\n",
       "      <th>postal_code</th>\n",
       "    </tr>\n",
       "  </thead>\n",
       "  <tbody>\n",
       "    <tr>\n",
       "      <th>0</th>\n",
       "      <td>00000dbacae5abe5e23885899a1fa44253a17956c6d1c3...</td>\n",
       "      <td>NaN</td>\n",
       "      <td>NaN</td>\n",
       "      <td>ACTIVE</td>\n",
       "      <td>NONE</td>\n",
       "      <td>49.0</td>\n",
       "      <td>52043ee2162cf5aa7ee79974281641c6f11a68d276429a...</td>\n",
       "    </tr>\n",
       "    <tr>\n",
       "      <th>1</th>\n",
       "      <td>0000423b00ade91418cceaf3b26c6af3dd342b51fd051e...</td>\n",
       "      <td>NaN</td>\n",
       "      <td>NaN</td>\n",
       "      <td>ACTIVE</td>\n",
       "      <td>NONE</td>\n",
       "      <td>25.0</td>\n",
       "      <td>2973abc54daa8a5f8ccfe9362140c63247c5eee03f1d93...</td>\n",
       "    </tr>\n",
       "    <tr>\n",
       "      <th>2</th>\n",
       "      <td>000058a12d5b43e67d225668fa1f8d618c13dc232df0ca...</td>\n",
       "      <td>NaN</td>\n",
       "      <td>NaN</td>\n",
       "      <td>ACTIVE</td>\n",
       "      <td>NONE</td>\n",
       "      <td>24.0</td>\n",
       "      <td>64f17e6a330a85798e4998f62d0930d14db8db1c054af6...</td>\n",
       "    </tr>\n",
       "    <tr>\n",
       "      <th>3</th>\n",
       "      <td>00005ca1c9ed5f5146b52ac8639a40ca9d57aeff4d1bd2...</td>\n",
       "      <td>NaN</td>\n",
       "      <td>NaN</td>\n",
       "      <td>ACTIVE</td>\n",
       "      <td>NONE</td>\n",
       "      <td>54.0</td>\n",
       "      <td>5d36574f52495e81f019b680c843c443bd343d5ca5b1c2...</td>\n",
       "    </tr>\n",
       "    <tr>\n",
       "      <th>4</th>\n",
       "      <td>00006413d8573cd20ed7128e53b7b13819fe5cfc2d801f...</td>\n",
       "      <td>1.0</td>\n",
       "      <td>1.0</td>\n",
       "      <td>ACTIVE</td>\n",
       "      <td>Regularly</td>\n",
       "      <td>52.0</td>\n",
       "      <td>25fa5ddee9aac01b35208d01736e57942317d756b32ddd...</td>\n",
       "    </tr>\n",
       "  </tbody>\n",
       "</table>\n",
       "</div>"
      ],
      "text/plain": [
       "                                         customer_id   FN  Active  \\\n",
       "0  00000dbacae5abe5e23885899a1fa44253a17956c6d1c3...  NaN     NaN   \n",
       "1  0000423b00ade91418cceaf3b26c6af3dd342b51fd051e...  NaN     NaN   \n",
       "2  000058a12d5b43e67d225668fa1f8d618c13dc232df0ca...  NaN     NaN   \n",
       "3  00005ca1c9ed5f5146b52ac8639a40ca9d57aeff4d1bd2...  NaN     NaN   \n",
       "4  00006413d8573cd20ed7128e53b7b13819fe5cfc2d801f...  1.0     1.0   \n",
       "\n",
       "  club_member_status fashion_news_frequency   age  \\\n",
       "0             ACTIVE                   NONE  49.0   \n",
       "1             ACTIVE                   NONE  25.0   \n",
       "2             ACTIVE                   NONE  24.0   \n",
       "3             ACTIVE                   NONE  54.0   \n",
       "4             ACTIVE              Regularly  52.0   \n",
       "\n",
       "                                         postal_code  \n",
       "0  52043ee2162cf5aa7ee79974281641c6f11a68d276429a...  \n",
       "1  2973abc54daa8a5f8ccfe9362140c63247c5eee03f1d93...  \n",
       "2  64f17e6a330a85798e4998f62d0930d14db8db1c054af6...  \n",
       "3  5d36574f52495e81f019b680c843c443bd343d5ca5b1c2...  \n",
       "4  25fa5ddee9aac01b35208d01736e57942317d756b32ddd...  "
      ]
     },
     "execution_count": 21,
     "metadata": {},
     "output_type": "execute_result"
    }
   ],
   "source": [
    "customers_df.head()"
   ]
  },
  {
   "cell_type": "markdown",
   "metadata": {},
   "source": [
    "#### Verification"
   ]
  },
  {
   "cell_type": "code",
   "execution_count": 22,
   "metadata": {},
   "outputs": [
    {
     "data": {
      "text/plain": [
       "customer_id                    0\n",
       "FN                        895050\n",
       "Active                    907576\n",
       "club_member_status          6062\n",
       "fashion_news_frequency     16009\n",
       "age                        15861\n",
       "postal_code                    0\n",
       "dtype: int64"
      ]
     },
     "execution_count": 22,
     "metadata": {},
     "output_type": "execute_result"
    }
   ],
   "source": [
    "#checking missing values for each column\n",
    "customers_df.isna().sum()"
   ]
  },
  {
   "cell_type": "code",
   "execution_count": 23,
   "metadata": {},
   "outputs": [
    {
     "name": "stdout",
     "output_type": "stream",
     "text": [
      "Each row has unique ID: True\n"
     ]
    }
   ],
   "source": [
    "#verifying each row has a unique ID\n",
    "print(f\"Each row has unique ID: {customers_df['customer_id'].nunique() == len(customers_df.index)}\")"
   ]
  },
  {
   "cell_type": "code",
   "execution_count": 24,
   "metadata": {},
   "outputs": [
    {
     "name": "stdout",
     "output_type": "stream",
     "text": [
      "Number of records: 1371980\n",
      "Value Counts (conforming IDs):\n"
     ]
    },
    {
     "data": {
      "text/plain": [
       "True    1371980\n",
       "Name: customer_id, dtype: int64"
      ]
     },
     "execution_count": 24,
     "metadata": {},
     "output_type": "execute_result"
    }
   ],
   "source": [
    "#checking that all customer_id conform to standard (64 digit hex value)\n",
    "print(f\"Number of records: {len(customers_df.index)}\")\n",
    "print(\"Value Counts (conforming IDs):\")\n",
    "valid_id = customers_df['customer_id'].str.fullmatch(\"^[a-f0-9]{64}$\")\n",
    "valid_id.value_counts()"
   ]
  },
  {
   "cell_type": "code",
   "execution_count": 25,
   "metadata": {},
   "outputs": [
    {
     "name": "stdout",
     "output_type": "stream",
     "text": [
      "Number of records: 1371980\n",
      "Value Counts (conforming postcodes):\n"
     ]
    },
    {
     "data": {
      "text/plain": [
       "True    1371980\n",
       "Name: postal_code, dtype: int64"
      ]
     },
     "execution_count": 25,
     "metadata": {},
     "output_type": "execute_result"
    }
   ],
   "source": [
    "#checking that all postcode conform to standard (64 digit hex value)\n",
    "print(f\"Number of records: {len(customers_df.index)}\")\n",
    "print(\"Value Counts (conforming postcodes):\")\n",
    "valid_postcode = customers_df['postal_code'].str.fullmatch(\"^[a-f0-9]{64}$\")\n",
    "valid_postcode.value_counts()"
   ]
  },
  {
   "cell_type": "code",
   "execution_count": 26,
   "metadata": {},
   "outputs": [
    {
     "data": {
      "text/plain": [
       "count    1.356119e+06\n",
       "mean     3.638696e+01\n",
       "std      1.431363e+01\n",
       "min      1.600000e+01\n",
       "25%      2.400000e+01\n",
       "50%      3.200000e+01\n",
       "75%      4.900000e+01\n",
       "max      9.900000e+01\n",
       "Name: age, dtype: float64"
      ]
     },
     "execution_count": 26,
     "metadata": {},
     "output_type": "execute_result"
    }
   ],
   "source": [
    "#checking existing ages are reasonable\n",
    "customers_df['age'].describe()"
   ]
  },
  {
   "cell_type": "code",
   "execution_count": 27,
   "metadata": {},
   "outputs": [
    {
     "data": {
      "text/plain": [
       "NaN    895050\n",
       "1.0    476930\n",
       "Name: FN, dtype: int64"
      ]
     },
     "execution_count": 27,
     "metadata": {},
     "output_type": "execute_result"
    }
   ],
   "source": [
    "#checking how FN is displayed\n",
    "customers_df['FN'].value_counts(dropna=False)"
   ]
  },
  {
   "cell_type": "code",
   "execution_count": 28,
   "metadata": {},
   "outputs": [
    {
     "data": {
      "text/plain": [
       "NaN    907576\n",
       "1.0    464404\n",
       "Name: Active, dtype: int64"
      ]
     },
     "execution_count": 28,
     "metadata": {},
     "output_type": "execute_result"
    }
   ],
   "source": [
    "#checking how active/not active status is displayed\n",
    "customers_df['Active'].value_counts(dropna=False)"
   ]
  },
  {
   "cell_type": "code",
   "execution_count": 29,
   "metadata": {},
   "outputs": [
    {
     "data": {
      "text/plain": [
       "ACTIVE        1272491\n",
       "PRE-CREATE      92960\n",
       "NaN              6062\n",
       "LEFT CLUB         467\n",
       "Name: club_member_status, dtype: int64"
      ]
     },
     "execution_count": 29,
     "metadata": {},
     "output_type": "execute_result"
    }
   ],
   "source": [
    "#checking how club member status is displayed\n",
    "customers_df['club_member_status'].value_counts(dropna=False)"
   ]
  },
  {
   "cell_type": "code",
   "execution_count": 30,
   "metadata": {},
   "outputs": [
    {
     "data": {
      "text/plain": [
       "NONE         877711\n",
       "Regularly    477416\n",
       "NaN           16009\n",
       "Monthly         842\n",
       "None              2\n",
       "Name: fashion_news_frequency, dtype: int64"
      ]
     },
     "execution_count": 30,
     "metadata": {},
     "output_type": "execute_result"
    }
   ],
   "source": [
    "#checking how fashion news frequency is displayed\n",
    "customers_df['fashion_news_frequency'].value_counts(dropna=False)"
   ]
  },
  {
   "cell_type": "code",
   "execution_count": 31,
   "metadata": {},
   "outputs": [
    {
     "data": {
      "text/plain": [
       "NONE         877713\n",
       "Regularly    477416\n",
       "NaN           16009\n",
       "Monthly         842\n",
       "Name: fashion_news_frequency, dtype: int64"
      ]
     },
     "execution_count": 31,
     "metadata": {},
     "output_type": "execute_result"
    }
   ],
   "source": [
    "#standardising so None is set to NONE for fashion news frequency\n",
    "customers_df['fashion_news_frequency'].replace(\"None\", value=\"NONE\", inplace=True)\n",
    "\n",
    "#rechecking how fashion news frequency is displayed\n",
    "customers_df['fashion_news_frequency'].value_counts(dropna=False)"
   ]
  },
  {
   "cell_type": "code",
   "execution_count": 32,
   "metadata": {},
   "outputs": [
    {
     "data": {
      "text/plain": [
       "2c29ae653a9282cce4151bd87643c907644e09541abc28ae87dea0d1f6603b1c    120303\n",
       "cc4ed85e30f4977dae47662ddc468cd2eec11472de6fac5ec985080fd92243c8       261\n",
       "714976379549eb90aae4a71bca6c7402cc646ae7c40f6c1cb91d4b5a18623fc1       159\n",
       "7c1fa3b0ec1d37ce2c3f34f63bd792f3b4494f324b6be5d1e4ba6a75456b96a7       157\n",
       "5b7eb31eabebd3277de632b82267286d847fd5d44287ee150bb4206b48439145       156\n",
       "Name: postal_code, dtype: int64"
      ]
     },
     "execution_count": 32,
     "metadata": {},
     "output_type": "execute_result"
    }
   ],
   "source": [
    "#looking for anomolies in postcode\n",
    "customers_df['postal_code'].value_counts().head()"
   ]
  },
  {
   "cell_type": "markdown",
   "metadata": {},
   "source": [
    "\n",
    "#### Understanding"
   ]
  },
  {
   "cell_type": "code",
   "execution_count": 33,
   "metadata": {},
   "outputs": [
    {
     "data": {
      "text/plain": [
       "<AxesSubplot: ylabel='Frequency'>"
      ]
     },
     "execution_count": 33,
     "metadata": {},
     "output_type": "execute_result"
    },
    {
     "data": {
      "image/png": "[encoded data removed]",
      "text/plain": [
       "<Figure size 640x480 with 1 Axes>"
      ]
     },
     "metadata": {},
     "output_type": "display_data"
    }
   ],
   "source": [
    "#looking at age range of users with given age\n",
    "customers_df['age'].plot.hist(bins=20, xticks=range(int(customers_df['age'].min()), 100, 5))"
   ]
  },
  {
   "cell_type": "code",
   "execution_count": 34,
   "metadata": {},
   "outputs": [
    {
     "data": {
      "text/plain": [
       "<AxesSubplot: xlabel='age', ylabel='club_member_status'>"
      ]
     },
     "execution_count": 34,
     "metadata": {},
     "output_type": "execute_result"
    },
    {
     "data": {
      "image/png": "[encoded data removed]",
      "text/plain": [
       "<Figure size 640x480 with 1 Axes>"
      ]
     },
     "metadata": {},
     "output_type": "display_data"
    }
   ],
   "source": [
    "#checking club member status according to age\n",
    "customers_df['club_member_status'] = customers_df['club_member_status'].fillna(\"NaN\")\n",
    "sns.scatterplot(data=customers_df, x=\"age\", y=\"club_member_status\")"
   ]
  },
  {
   "cell_type": "code",
   "execution_count": 35,
   "metadata": {},
   "outputs": [
    {
     "data": {
      "text/plain": [
       "<AxesSubplot: >"
      ]
     },
     "execution_count": 35,
     "metadata": {},
     "output_type": "execute_result"
    },
    {
     "data": {
      "image/png": "[encoded data removed]",
      "text/plain": [
       "<Figure size 640x480 with 1 Axes>"
      ]
     },
     "metadata": {},
     "output_type": "display_data"
    }
   ],
   "source": [
    "#checking whether club members are active\n",
    "customers_df[customers_df['club_member_status'] == 'ACTIVE']['Active'].value_counts(dropna=False).plot.bar()"
   ]
  },
  {
   "cell_type": "code",
   "execution_count": 36,
   "metadata": {},
   "outputs": [
    {
     "data": {
      "text/plain": [
       "<AxesSubplot: xlabel='age', ylabel='Count'>"
      ]
     },
     "execution_count": 36,
     "metadata": {},
     "output_type": "execute_result"
    },
    {
     "data": {
      "image/png": "[encoded data removed]",
      "text/plain": [
       "<Figure size 640x480 with 1 Axes>"
      ]
     },
     "metadata": {},
     "output_type": "display_data"
    }
   ],
   "source": [
    "#checking active status according to age\n",
    "customers_df['Active'] = customers_df['Active'].fillna(0)\n",
    "sns.histplot(data=customers_df, x='age', hue='Active')"
   ]
  },
  {
   "cell_type": "markdown",
   "metadata": {},
   "source": [
    "## transactions_train.csv"
   ]
  },
  {
   "cell_type": "code",
   "execution_count": 37,
   "metadata": {},
   "outputs": [
    {
     "data": {
      "text/html": [
       "<div>\n",
       "<style scoped>\n",
       "    .dataframe tbody tr th:only-of-type {\n",
       "        vertical-align: middle;\n",
       "    }\n",
       "\n",
       "    .dataframe tbody tr th {\n",
       "        vertical-align: top;\n",
       "    }\n",
       "\n",
       "    .dataframe thead th {\n",
       "        text-align: right;\n",
       "    }\n",
       "</style>\n",
       "<table border=\"1\" class=\"dataframe\">\n",
       "  <thead>\n",
       "    <tr style=\"text-align: right;\">\n",
       "      <th></th>\n",
       "      <th>t_dat</th>\n",
       "      <th>customer_id</th>\n",
       "      <th>article_id</th>\n",
       "      <th>price</th>\n",
       "      <th>sales_channel_id</th>\n",
       "    </tr>\n",
       "  </thead>\n",
       "  <tbody>\n",
       "    <tr>\n",
       "      <th>0</th>\n",
       "      <td>2018-09-20</td>\n",
       "      <td>000058a12d5b43e67d225668fa1f8d618c13dc232df0ca...</td>\n",
       "      <td>0663713001</td>\n",
       "      <td>0.050831</td>\n",
       "      <td>2</td>\n",
       "    </tr>\n",
       "    <tr>\n",
       "      <th>1</th>\n",
       "      <td>2018-09-20</td>\n",
       "      <td>000058a12d5b43e67d225668fa1f8d618c13dc232df0ca...</td>\n",
       "      <td>0541518023</td>\n",
       "      <td>0.030492</td>\n",
       "      <td>2</td>\n",
       "    </tr>\n",
       "    <tr>\n",
       "      <th>2</th>\n",
       "      <td>2018-09-20</td>\n",
       "      <td>00007d2de826758b65a93dd24ce629ed66842531df6699...</td>\n",
       "      <td>0505221004</td>\n",
       "      <td>0.015237</td>\n",
       "      <td>2</td>\n",
       "    </tr>\n",
       "    <tr>\n",
       "      <th>3</th>\n",
       "      <td>2018-09-20</td>\n",
       "      <td>00007d2de826758b65a93dd24ce629ed66842531df6699...</td>\n",
       "      <td>0685687003</td>\n",
       "      <td>0.016932</td>\n",
       "      <td>2</td>\n",
       "    </tr>\n",
       "    <tr>\n",
       "      <th>4</th>\n",
       "      <td>2018-09-20</td>\n",
       "      <td>00007d2de826758b65a93dd24ce629ed66842531df6699...</td>\n",
       "      <td>0685687004</td>\n",
       "      <td>0.016932</td>\n",
       "      <td>2</td>\n",
       "    </tr>\n",
       "  </tbody>\n",
       "</table>\n",
       "</div>"
      ],
      "text/plain": [
       "        t_dat                                        customer_id  article_id  \\\n",
       "0  2018-09-20  000058a12d5b43e67d225668fa1f8d618c13dc232df0ca...  0663713001   \n",
       "1  2018-09-20  000058a12d5b43e67d225668fa1f8d618c13dc232df0ca...  0541518023   \n",
       "2  2018-09-20  00007d2de826758b65a93dd24ce629ed66842531df6699...  0505221004   \n",
       "3  2018-09-20  00007d2de826758b65a93dd24ce629ed66842531df6699...  0685687003   \n",
       "4  2018-09-20  00007d2de826758b65a93dd24ce629ed66842531df6699...  0685687004   \n",
       "\n",
       "      price  sales_channel_id  \n",
       "0  0.050831                 2  \n",
       "1  0.030492                 2  \n",
       "2  0.015237                 2  \n",
       "3  0.016932                 2  \n",
       "4  0.016932                 2  "
      ]
     },
     "execution_count": 37,
     "metadata": {},
     "output_type": "execute_result"
    }
   ],
   "source": [
    "transactions_df.head()"
   ]
  },
  {
   "cell_type": "markdown",
   "metadata": {},
   "source": [
    "#### Verification"
   ]
  },
  {
   "cell_type": "code",
   "execution_count": 38,
   "metadata": {},
   "outputs": [
    {
     "data": {
      "text/plain": [
       "t_dat               0\n",
       "customer_id         0\n",
       "article_id          0\n",
       "price               0\n",
       "sales_channel_id    0\n",
       "dtype: int64"
      ]
     },
     "execution_count": 38,
     "metadata": {},
     "output_type": "execute_result"
    }
   ],
   "source": [
    "#checking missing values\n",
    "transactions_df.isna().sum()"
   ]
  },
  {
   "cell_type": "code",
   "execution_count": 39,
   "metadata": {},
   "outputs": [
    {
     "name": "stdout",
     "output_type": "stream",
     "text": [
      "Number of records: 31788324\n",
      "Value Counts (conforming IDs):\n"
     ]
    },
    {
     "data": {
      "text/plain": [
       "True    31788324\n",
       "Name: customer_id, dtype: int64"
      ]
     },
     "execution_count": 39,
     "metadata": {},
     "output_type": "execute_result"
    }
   ],
   "source": [
    "#checking that all customer_id conform to standard (64 digit hex value)\n",
    "print(f\"Number of records: {len(transactions_df.index)}\")\n",
    "print(\"Value Counts (conforming IDs):\")\n",
    "valid_id = transactions_df['customer_id'].str.fullmatch(\"^[a-f0-9]{64}$\")\n",
    "valid_id.value_counts()"
   ]
  },
  {
   "cell_type": "code",
   "execution_count": 40,
   "metadata": {},
   "outputs": [
    {
     "name": "stdout",
     "output_type": "stream",
     "text": [
      "Number of records: 31788324\n",
      "Value Counts (conforming IDs):\n"
     ]
    },
    {
     "data": {
      "text/plain": [
       "True    31788324\n",
       "Name: article_id, dtype: int64"
      ]
     },
     "execution_count": 40,
     "metadata": {},
     "output_type": "execute_result"
    }
   ],
   "source": [
    "#verifying article_id are the same format (10-digit numerical)\n",
    "print(f\"Number of records: {len(transactions_df.index)}\")\n",
    "print(\"Value Counts (conforming IDs):\")\n",
    "valid_id = transactions_df['article_id'].str.fullmatch(\"^[0-9]{10}$\")\n",
    "valid_id.value_counts()"
   ]
  },
  {
   "cell_type": "code",
   "execution_count": 41,
   "metadata": {},
   "outputs": [
    {
     "data": {
      "text/plain": [
       "count    3.178832e+07\n",
       "mean     2.782927e-02\n",
       "std      1.918113e-02\n",
       "min      1.694915e-05\n",
       "25%      1.581356e-02\n",
       "50%      2.540678e-02\n",
       "75%      3.388136e-02\n",
       "max      5.915254e-01\n",
       "Name: price, dtype: float64"
      ]
     },
     "execution_count": 41,
     "metadata": {},
     "output_type": "execute_result"
    }
   ],
   "source": [
    "#checking range of prices\n",
    "transactions_df['price'].describe()"
   ]
  },
  {
   "cell_type": "markdown",
   "metadata": {},
   "source": [
    "#### Understanding"
   ]
  },
  {
   "cell_type": "code",
   "execution_count": 42,
   "metadata": {},
   "outputs": [
    {
     "data": {
      "text/plain": [
       "<AxesSubplot: >"
      ]
     },
     "execution_count": 42,
     "metadata": {},
     "output_type": "execute_result"
    },
    {
     "data": {
      "image/png": "[encoded data removed]",
      "text/plain": [
       "<Figure size 640x480 with 1 Axes>"
      ]
     },
     "metadata": {},
     "output_type": "display_data"
    }
   ],
   "source": [
    "#checking how many times the 20 most popular items were bought\n",
    "transactions_df['article_id'].value_counts().head(20).plot.bar()"
   ]
  },
  {
   "cell_type": "code",
   "execution_count": 43,
   "metadata": {},
   "outputs": [
    {
     "data": {
      "text/html": [
       "<div>\n",
       "<style scoped>\n",
       "    .dataframe tbody tr th:only-of-type {\n",
       "        vertical-align: middle;\n",
       "    }\n",
       "\n",
       "    .dataframe tbody tr th {\n",
       "        vertical-align: top;\n",
       "    }\n",
       "\n",
       "    .dataframe thead th {\n",
       "        text-align: right;\n",
       "    }\n",
       "</style>\n",
       "<table border=\"1\" class=\"dataframe\">\n",
       "  <thead>\n",
       "    <tr style=\"text-align: right;\">\n",
       "      <th></th>\n",
       "      <th>article_id</th>\n",
       "      <th>product_code</th>\n",
       "      <th>prod_name</th>\n",
       "      <th>product_type_no</th>\n",
       "      <th>product_type_name</th>\n",
       "      <th>product_group_name</th>\n",
       "      <th>graphical_appearance_no</th>\n",
       "      <th>graphical_appearance_name</th>\n",
       "      <th>colour_group_code</th>\n",
       "      <th>colour_group_name</th>\n",
       "      <th>...</th>\n",
       "      <th>department_name</th>\n",
       "      <th>index_code</th>\n",
       "      <th>index_name</th>\n",
       "      <th>index_group_no</th>\n",
       "      <th>index_group_name</th>\n",
       "      <th>section_no</th>\n",
       "      <th>section_name</th>\n",
       "      <th>garment_group_no</th>\n",
       "      <th>garment_group_name</th>\n",
       "      <th>detail_desc</th>\n",
       "    </tr>\n",
       "  </thead>\n",
       "  <tbody>\n",
       "    <tr>\n",
       "      <th>53892</th>\n",
       "      <td>0706016001</td>\n",
       "      <td>0706016</td>\n",
       "      <td>Jade HW Skinny Denim TRS</td>\n",
       "      <td>272</td>\n",
       "      <td>Trousers</td>\n",
       "      <td>Garment Lower body</td>\n",
       "      <td>1010016</td>\n",
       "      <td>Solid</td>\n",
       "      <td>9</td>\n",
       "      <td>Black</td>\n",
       "      <td>...</td>\n",
       "      <td>Trousers</td>\n",
       "      <td>D</td>\n",
       "      <td>Divided</td>\n",
       "      <td>2</td>\n",
       "      <td>Divided</td>\n",
       "      <td>53</td>\n",
       "      <td>Divided Collection</td>\n",
       "      <td>1009</td>\n",
       "      <td>Trousers</td>\n",
       "      <td>High-waisted jeans in washed superstretch deni...</td>\n",
       "    </tr>\n",
       "  </tbody>\n",
       "</table>\n",
       "<p>1 rows × 25 columns</p>\n",
       "</div>"
      ],
      "text/plain": [
       "       article_id product_code                 prod_name  product_type_no  \\\n",
       "53892  0706016001      0706016  Jade HW Skinny Denim TRS              272   \n",
       "\n",
       "      product_type_name  product_group_name  graphical_appearance_no  \\\n",
       "53892          Trousers  Garment Lower body                  1010016   \n",
       "\n",
       "      graphical_appearance_name  colour_group_code colour_group_name  ...  \\\n",
       "53892                     Solid                  9             Black  ...   \n",
       "\n",
       "       department_name index_code  index_name index_group_no  \\\n",
       "53892         Trousers          D     Divided              2   \n",
       "\n",
       "       index_group_name section_no        section_name garment_group_no  \\\n",
       "53892           Divided         53  Divided Collection             1009   \n",
       "\n",
       "       garment_group_name                                        detail_desc  \n",
       "53892            Trousers  High-waisted jeans in washed superstretch deni...  \n",
       "\n",
       "[1 rows x 25 columns]"
      ]
     },
     "execution_count": 43,
     "metadata": {},
     "output_type": "execute_result"
    }
   ],
   "source": [
    "articles_df[articles_df['article_id'] == transactions_df['article_id'].mode()[0]]"
   ]
  },
  {
   "cell_type": "code",
   "execution_count": 44,
   "metadata": {},
   "outputs": [
    {
     "data": {
      "text/plain": [
       "<AxesSubplot: >"
      ]
     },
     "execution_count": 44,
     "metadata": {},
     "output_type": "execute_result"
    },
    {
     "data": {
      "image/png": "[encoded data removed]",
      "text/plain": [
       "<Figure size 640x480 with 1 Axes>"
      ]
     },
     "metadata": {},
     "output_type": "display_data"
    }
   ],
   "source": [
    "#checking frequency of each sales channel of transactions\n",
    "transactions_df['sales_channel_id'].value_counts().plot.bar()"
   ]
  }
 ],
 "metadata": {
  "kernelspec": {
   "display_name": "Python 3 (ipykernel)",
   "language": "python",
   "name": "python3"
  },
  "language_info": {
   "codemirror_mode": {
    "name": "ipython",
    "version": 3
   },
   "file_extension": ".py",
   "mimetype": "text/x-python",
   "name": "python",
   "nbconvert_exporter": "python",
   "pygments_lexer": "ipython3",
   "version": "3.10.12"
  },
  "orig_nbformat": 4
 },
 "nbformat": 4,
 "nbformat_minor": 2
}
