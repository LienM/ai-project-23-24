{
 "metadata": {
  "kernelspec": {
   "language": "python",
   "display_name": "Python 3",
   "name": "python3"
  },
  "language_info": {
   "pygments_lexer": "ipython3",
   "nbconvert_exporter": "python",
   "version": "3.6.4",
   "file_extension": ".py",
   "codemirror_mode": {
    "name": "ipython",
    "version": 3
   },
   "name": "python",
   "mimetype": "text/x-python"
  },
  "kaggle": {
   "accelerator": "none",
   "dataSources": [
    {
     "sourceId": 31254,
     "databundleVersionId": 3103714,
     "sourceType": "competition"
    },
    {
     "sourceId": 93163345,
     "sourceType": "kernelVersion"
    }
   ],
   "dockerImageVersionId": 30178,
   "isInternetEnabled": true,
   "language": "python",
   "sourceType": "notebook",
   "isGpuEnabled": false
  }
 },
 "nbformat_minor": 4,
 "nbformat": 4,
 "cells": [
  {
   "cell_type": "markdown",
   "source": [
    "Radek posted about this [here](https://www.kaggle.com/competitions/h-and-m-personalized-fashion-recommendations/discussion/309220), and linked to a GitHub repo with the code.\n",
    "\n",
    "I just transferred that code here to Kaggle notebooks, that's all."
   ],
   "metadata": {}
  },
  {
   "cell_type": "code",
   "source": [
    "import numpy as np\n",
    "\n",
    "def apk(actual, predicted, k=10):\n",
    "    \"\"\"\n",
    "    Computes the average precision at k.\n",
    "\n",
    "    This function computes the average prescision at k between two lists of\n",
    "    items.\n",
    "\n",
    "    Parameters\n",
    "    ----------\n",
    "    actual : list\n",
    "             A list of elements that are to be predicted (order doesn't matter)\n",
    "    predicted : list\n",
    "                A list of predicted elements (order does matter)\n",
    "    k : int, optional\n",
    "        The maximum number of predicted elements\n",
    "\n",
    "    Returns\n",
    "    -------\n",
    "    score : double\n",
    "            The average precision at k over the input lists\n",
    "\n",
    "    \"\"\"\n",
    "    if len(predicted)>k:\n",
    "        predicted = predicted[:k]\n",
    "\n",
    "    score = 0.0\n",
    "    num_hits = 0.0\n",
    "\n",
    "    for i,p in enumerate(predicted):\n",
    "        if p in actual and p not in predicted[:i]:\n",
    "            num_hits += 1.0\n",
    "            score += num_hits / (i+1.0)\n",
    "\n",
    "    if not actual:\n",
    "        return 0.0\n",
    "\n",
    "    return score / min(len(actual), k)\n",
    "\n",
    "def mapk(actual, predicted, k=10):\n",
    "    \"\"\"\n",
    "    Computes the mean average precision at k.\n",
    "\n",
    "    This function computes the mean average prescision at k between two lists\n",
    "    of lists of items.\n",
    "\n",
    "    Parameters\n",
    "    ----------\n",
    "    actual : list\n",
    "             A list of lists of elements that are to be predicted \n",
    "             (order doesn't matter in the lists)\n",
    "    predicted : list\n",
    "                A list of lists of predicted elements\n",
    "                (order matters in the lists)\n",
    "    k : int, optional\n",
    "        The maximum number of predicted elements\n",
    "\n",
    "    Returns\n",
    "    -------\n",
    "    score : double\n",
    "            The mean average precision at k over the input lists\n",
    "\n",
    "    \"\"\"\n",
    "    return np.mean([apk(a,p,k) for a,p in zip(actual, predicted)])"
   ],
   "metadata": {
    "execution": {
     "iopub.status.busy": "2023-10-10T19:02:08.972140Z",
     "iopub.execute_input": "2023-10-10T19:02:08.972468Z",
     "iopub.status.idle": "2023-10-10T19:02:09.001580Z",
     "shell.execute_reply.started": "2023-10-10T19:02:08.972382Z",
     "shell.execute_reply": "2023-10-10T19:02:09.000944Z"
    },
    "trusted": true
   },
   "execution_count": null,
   "outputs": []
  },
  {
   "cell_type": "code",
   "source": [
    "from sklearn.base import BaseEstimator, TransformerMixin\n",
    "import numpy as np\n",
    "\n",
    "# https://www.kaggle.com/c/h-and-m-personalized-fashion-recommendations/discussion/308635\n",
    "def customer_hex_id_to_int(series):\n",
    "    return series.str[-16:].apply(hex_id_to_int)\n",
    "\n",
    "def hex_id_to_int(str):\n",
    "    return int(str[-16:], 16)\n",
    "\n",
    "def article_id_str_to_int(series):\n",
    "    return series.astype('int32')\n",
    "\n",
    "def article_id_int_to_str(series):\n",
    "    return '0' + series.astype('str')\n",
    "\n",
    "class Categorize(BaseEstimator, TransformerMixin):\n",
    "    def __init__(self, min_examples=0):\n",
    "        self.min_examples = min_examples\n",
    "        self.categories = []\n",
    "        \n",
    "    def fit(self, X):\n",
    "        for i in range(X.shape[1]):\n",
    "            vc = X.iloc[:, i].value_counts()\n",
    "            self.categories.append(vc[vc > self.min_examples].index.tolist())\n",
    "        return self\n",
    "\n",
    "    def transform(self, X):\n",
    "        data = {X.columns[i]: pd.Categorical(X.iloc[:, i], categories=self.categories[i]).codes for i in range(X.shape[1])}\n",
    "        return pd.DataFrame(data=data)\n",
    "\n",
    "\n",
    "def calculate_apk(list_of_preds, list_of_gts):\n",
    "    # for fast validation this can be changed to operate on dicts of {'cust_id_int': [art_id_int, ...]}\n",
    "    # using 'data/val_week_purchases_by_cust.pkl'\n",
    "    apks = []\n",
    "    for preds, gt in zip(list_of_preds, list_of_gts):\n",
    "        apks.append(apk(gt, preds, k=12))\n",
    "    return np.mean(apks)\n",
    "\n",
    "def eval_sub(sub_csv, skip_cust_with_no_purchases=True):\n",
    "    sub=pd.read_csv(sub_csv)\n",
    "    validation_set=pd.read_parquet('data/validation_ground_truth.parquet')\n",
    "\n",
    "    apks = []\n",
    "\n",
    "    no_purchases_pattern = []\n",
    "    for pred, gt in zip(sub.prediction.str.split(), validation_set.prediction.str.split()):\n",
    "        if skip_cust_with_no_purchases and (gt == no_purchases_pattern): continue\n",
    "        apks.append(apk(gt, pred, k=12))\n",
    "    return np.mean(apks)"
   ],
   "metadata": {
    "execution": {
     "iopub.status.busy": "2023-10-10T19:02:09.002696Z",
     "iopub.execute_input": "2023-10-10T19:02:09.003488Z",
     "iopub.status.idle": "2023-10-10T19:02:10.082804Z",
     "shell.execute_reply.started": "2023-10-10T19:02:09.003432Z",
     "shell.execute_reply": "2023-10-10T19:02:10.081907Z"
    },
    "trusted": true
   },
   "execution_count": null,
   "outputs": []
  },
  {
   "cell_type": "code",
   "source": [
    "import pandas as pd"
   ],
   "metadata": {
    "execution": {
     "iopub.status.busy": "2023-10-10T19:02:10.084087Z",
     "iopub.execute_input": "2023-10-10T19:02:10.084761Z",
     "iopub.status.idle": "2023-10-10T19:02:10.089801Z",
     "shell.execute_reply.started": "2023-10-10T19:02:10.084718Z",
     "shell.execute_reply": "2023-10-10T19:02:10.088869Z"
    },
    "trusted": true
   },
   "execution_count": null,
   "outputs": []
  },
  {
   "cell_type": "code",
   "source": [
    "%%time\n",
    "\n",
    "transactions = pd.read_parquet('../input/warmup/transactions_train.parquet')\n",
    "customers = pd.read_parquet('../input/warmup/customers.parquet')\n",
    "articles = pd.read_parquet('../input/warmup/articles.parquet')\n",
    "\n",
    "# sample = 0.05\n",
    "# transactions = pd.read_parquet(f'data/transactions_train_sample_{sample}.parquet')\n",
    "# customers = pd.read_parquet(f'data/customers_sample_{sample}.parquet')\n",
    "# articles = pd.read_parquet(f'data/articles_train_sample_{sample}.parquet')"
   ],
   "metadata": {
    "execution": {
     "iopub.status.busy": "2023-10-10T19:02:10.092047Z",
     "iopub.execute_input": "2023-10-10T19:02:10.092948Z",
     "iopub.status.idle": "2023-10-10T19:02:16.671230Z",
     "shell.execute_reply.started": "2023-10-10T19:02:10.092899Z",
     "shell.execute_reply": "2023-10-10T19:02:16.670431Z"
    },
    "trusted": true
   },
   "execution_count": null,
   "outputs": []
  },
  {
   "cell_type": "code",
   "source": [
    "test_week = transactions.week.max() + 1\n",
    "transactions = transactions[transactions.week > transactions.week.max() - 10]"
   ],
   "metadata": {
    "execution": {
     "iopub.status.busy": "2023-10-10T19:02:16.673220Z",
     "iopub.execute_input": "2023-10-10T19:02:16.673487Z",
     "iopub.status.idle": "2023-10-10T19:02:17.041105Z",
     "shell.execute_reply.started": "2023-10-10T19:02:16.673453Z",
     "shell.execute_reply": "2023-10-10T19:02:17.040179Z"
    },
    "trusted": true
   },
   "execution_count": null,
   "outputs": []
  },
  {
   "cell_type": "markdown",
   "source": [
    "# Generating candidates"
   ],
   "metadata": {}
  },
  {
   "cell_type": "markdown",
   "source": [
    "### Last purchase candidates"
   ],
   "metadata": {}
  },
  {
   "cell_type": "code",
   "source": [
    "%%time\n",
    "\n",
    "c2weeks = transactions.groupby('customer_id')['week'].unique()"
   ],
   "metadata": {
    "execution": {
     "iopub.status.busy": "2023-10-10T19:02:17.042178Z",
     "iopub.execute_input": "2023-10-10T19:02:17.042445Z",
     "iopub.status.idle": "2023-10-10T19:02:35.551477Z",
     "shell.execute_reply.started": "2023-10-10T19:02:17.042398Z",
     "shell.execute_reply": "2023-10-10T19:02:35.550432Z"
    },
    "trusted": true
   },
   "execution_count": null,
   "outputs": []
  },
  {
   "cell_type": "code",
   "source": [
    "transactions.groupby('week')['t_dat'].agg(['min', 'max'])"
   ],
   "metadata": {
    "execution": {
     "iopub.status.busy": "2023-10-10T19:02:35.552713Z",
     "iopub.execute_input": "2023-10-10T19:02:35.553195Z",
     "iopub.status.idle": "2023-10-10T19:02:35.635649Z",
     "shell.execute_reply.started": "2023-10-10T19:02:35.553162Z",
     "shell.execute_reply": "2023-10-10T19:02:35.634556Z"
    },
    "trusted": true
   },
   "execution_count": null,
   "outputs": []
  },
  {
   "cell_type": "code",
   "source": [
    "c2weeks"
   ],
   "metadata": {
    "execution": {
     "iopub.status.busy": "2023-10-10T19:02:35.636943Z",
     "iopub.execute_input": "2023-10-10T19:02:35.637272Z",
     "iopub.status.idle": "2023-10-10T19:02:35.647050Z",
     "shell.execute_reply.started": "2023-10-10T19:02:35.637227Z",
     "shell.execute_reply": "2023-10-10T19:02:35.646139Z"
    },
    "trusted": true
   },
   "execution_count": null,
   "outputs": []
  },
  {
   "cell_type": "code",
   "source": [
    "%%time\n",
    "\n",
    "c2weeks2shifted_weeks = {}\n",
    "\n",
    "for c_id, weeks in c2weeks.items():\n",
    "    c2weeks2shifted_weeks[c_id] = {}\n",
    "    for i in range(weeks.shape[0]-1):\n",
    "        c2weeks2shifted_weeks[c_id][weeks[i]] = weeks[i+1]\n",
    "    c2weeks2shifted_weeks[c_id][weeks[-1]] = test_week"
   ],
   "metadata": {
    "execution": {
     "iopub.status.busy": "2023-10-10T19:02:35.648433Z",
     "iopub.execute_input": "2023-10-10T19:02:35.648693Z",
     "iopub.status.idle": "2023-10-10T19:02:36.599353Z",
     "shell.execute_reply.started": "2023-10-10T19:02:35.648664Z",
     "shell.execute_reply": "2023-10-10T19:02:36.598381Z"
    },
    "trusted": true
   },
   "execution_count": null,
   "outputs": []
  },
  {
   "cell_type": "code",
   "source": [
    "c2weeks2shifted_weeks[28847241659200]"
   ],
   "metadata": {
    "execution": {
     "iopub.status.busy": "2023-10-10T19:02:36.602535Z",
     "iopub.execute_input": "2023-10-10T19:02:36.604873Z",
     "iopub.status.idle": "2023-10-10T19:02:36.612296Z",
     "shell.execute_reply.started": "2023-10-10T19:02:36.604811Z",
     "shell.execute_reply": "2023-10-10T19:02:36.611258Z"
    },
    "trusted": true
   },
   "execution_count": null,
   "outputs": []
  },
  {
   "cell_type": "code",
   "source": [
    "candidates_last_purchase = transactions.copy()"
   ],
   "metadata": {
    "execution": {
     "iopub.status.busy": "2023-10-10T19:02:36.613821Z",
     "iopub.execute_input": "2023-10-10T19:02:36.614988Z",
     "iopub.status.idle": "2023-10-10T19:02:36.643937Z",
     "shell.execute_reply.started": "2023-10-10T19:02:36.614928Z",
     "shell.execute_reply": "2023-10-10T19:02:36.642870Z"
    },
    "trusted": true
   },
   "execution_count": null,
   "outputs": []
  },
  {
   "cell_type": "code",
   "source": [
    "%%time\n",
    "\n",
    "weeks = []\n",
    "for i, (c_id, week) in enumerate(zip(transactions['customer_id'], transactions['week'])):\n",
    "    weeks.append(c2weeks2shifted_weeks[c_id][week])\n",
    "    \n",
    "candidates_last_purchase.week=weeks"
   ],
   "metadata": {
    "execution": {
     "iopub.status.busy": "2023-10-10T19:02:36.645832Z",
     "iopub.execute_input": "2023-10-10T19:02:36.646185Z",
     "iopub.status.idle": "2023-10-10T19:02:44.068139Z",
     "shell.execute_reply.started": "2023-10-10T19:02:36.646143Z",
     "shell.execute_reply": "2023-10-10T19:02:44.067187Z"
    },
    "trusted": true
   },
   "execution_count": null,
   "outputs": []
  },
  {
   "cell_type": "code",
   "source": [
    "candidates_last_purchase[candidates_last_purchase['customer_id']==272412481300040]"
   ],
   "metadata": {
    "execution": {
     "iopub.status.busy": "2023-10-10T19:02:44.069559Z",
     "iopub.execute_input": "2023-10-10T19:02:44.070481Z",
     "iopub.status.idle": "2023-10-10T19:02:44.088023Z",
     "shell.execute_reply.started": "2023-10-10T19:02:44.070434Z",
     "shell.execute_reply": "2023-10-10T19:02:44.086963Z"
    },
    "trusted": true
   },
   "execution_count": null,
   "outputs": []
  },
  {
   "cell_type": "code",
   "source": [
    "transactions[transactions['customer_id']==272412481300040]"
   ],
   "metadata": {
    "execution": {
     "iopub.status.busy": "2023-10-10T19:02:44.089099Z",
     "iopub.execute_input": "2023-10-10T19:02:44.089416Z",
     "iopub.status.idle": "2023-10-10T19:02:44.105200Z",
     "shell.execute_reply.started": "2023-10-10T19:02:44.089350Z",
     "shell.execute_reply": "2023-10-10T19:02:44.104570Z"
    },
    "trusted": true
   },
   "execution_count": null,
   "outputs": []
  },
  {
   "cell_type": "markdown",
   "source": [
    "### Bestsellers candidates"
   ],
   "metadata": {}
  },
  {
   "cell_type": "code",
   "source": [
    "mean_price = transactions \\\n",
    "    .groupby(['week', 'article_id'])['price'].mean()"
   ],
   "metadata": {
    "execution": {
     "iopub.status.busy": "2023-10-10T19:02:44.106324Z",
     "iopub.execute_input": "2023-10-10T19:02:44.106557Z",
     "iopub.status.idle": "2023-10-10T19:02:44.330690Z",
     "shell.execute_reply.started": "2023-10-10T19:02:44.106531Z",
     "shell.execute_reply": "2023-10-10T19:02:44.329785Z"
    },
    "trusted": true
   },
   "execution_count": null,
   "outputs": []
  },
  {
   "cell_type": "code",
   "source": [
    "mean_price"
   ],
   "metadata": {
    "execution": {
     "iopub.status.busy": "2023-10-10T19:02:44.332000Z",
     "iopub.execute_input": "2023-10-10T19:02:44.332298Z",
     "iopub.status.idle": "2023-10-10T19:02:44.391878Z",
     "shell.execute_reply.started": "2023-10-10T19:02:44.332250Z",
     "shell.execute_reply": "2023-10-10T19:02:44.391001Z"
    },
    "trusted": true
   },
   "execution_count": null,
   "outputs": []
  },
  {
   "cell_type": "code",
   "source": [
    "sales = transactions \\\n",
    "    .groupby('week')['article_id'].value_counts() \\\n",
    "    .groupby('week').rank(method='dense', ascending=False) \\\n",
    "    .groupby('week').head(12).rename('bestseller_rank').astype('int8')"
   ],
   "metadata": {
    "execution": {
     "iopub.status.busy": "2023-10-10T19:02:44.393958Z",
     "iopub.execute_input": "2023-10-10T19:02:44.394307Z",
     "iopub.status.idle": "2023-10-10T19:02:45.236298Z",
     "shell.execute_reply.started": "2023-10-10T19:02:44.394224Z",
     "shell.execute_reply": "2023-10-10T19:02:45.235684Z"
    },
    "trusted": true
   },
   "execution_count": null,
   "outputs": []
  },
  {
   "cell_type": "code",
   "source": [
    "sales"
   ],
   "metadata": {
    "execution": {
     "iopub.status.busy": "2023-10-10T19:02:45.237148Z",
     "iopub.execute_input": "2023-10-10T19:02:45.238002Z",
     "iopub.status.idle": "2023-10-10T19:02:45.245299Z",
     "shell.execute_reply.started": "2023-10-10T19:02:45.237958Z",
     "shell.execute_reply": "2023-10-10T19:02:45.244815Z"
    },
    "trusted": true
   },
   "execution_count": null,
   "outputs": []
  },
  {
   "cell_type": "code",
   "source": [
    "sales.loc[95]"
   ],
   "metadata": {
    "execution": {
     "iopub.status.busy": "2023-10-10T19:02:45.246126Z",
     "iopub.execute_input": "2023-10-10T19:02:45.246639Z",
     "iopub.status.idle": "2023-10-10T19:02:45.261945Z",
     "shell.execute_reply.started": "2023-10-10T19:02:45.246608Z",
     "shell.execute_reply": "2023-10-10T19:02:45.261427Z"
    },
    "trusted": true
   },
   "execution_count": null,
   "outputs": []
  },
  {
   "cell_type": "code",
   "source": [
    "bestsellers_previous_week = pd.merge(sales, mean_price, on=['week', 'article_id']).reset_index()\n",
    "bestsellers_previous_week.week += 1"
   ],
   "metadata": {
    "execution": {
     "iopub.status.busy": "2023-10-10T19:02:45.262695Z",
     "iopub.execute_input": "2023-10-10T19:02:45.263204Z",
     "iopub.status.idle": "2023-10-10T19:02:45.310750Z",
     "shell.execute_reply.started": "2023-10-10T19:02:45.263175Z",
     "shell.execute_reply": "2023-10-10T19:02:45.310026Z"
    },
    "trusted": true
   },
   "execution_count": null,
   "outputs": []
  },
  {
   "cell_type": "code",
   "source": [
    "bestsellers_previous_week.pipe(lambda df: df[df['week']==96])"
   ],
   "metadata": {
    "execution": {
     "iopub.status.busy": "2023-10-10T19:02:45.311954Z",
     "iopub.execute_input": "2023-10-10T19:02:45.312230Z",
     "iopub.status.idle": "2023-10-10T19:02:45.323592Z",
     "shell.execute_reply.started": "2023-10-10T19:02:45.312193Z",
     "shell.execute_reply": "2023-10-10T19:02:45.322803Z"
    },
    "trusted": true
   },
   "execution_count": null,
   "outputs": []
  },
  {
   "cell_type": "code",
   "source": [
    "unique_transactions = transactions \\\n",
    "    .groupby(['week', 'customer_id']) \\\n",
    "    .head(1) \\\n",
    "    .drop(columns=['article_id', 'price']) \\\n",
    "    .copy()"
   ],
   "metadata": {
    "execution": {
     "iopub.status.busy": "2023-10-10T19:02:45.324794Z",
     "iopub.execute_input": "2023-10-10T19:02:45.325554Z",
     "iopub.status.idle": "2023-10-10T19:02:45.919625Z",
     "shell.execute_reply.started": "2023-10-10T19:02:45.325508Z",
     "shell.execute_reply": "2023-10-10T19:02:45.918847Z"
    },
    "trusted": true
   },
   "execution_count": null,
   "outputs": []
  },
  {
   "cell_type": "code",
   "source": [
    "unique_transactions"
   ],
   "metadata": {
    "execution": {
     "iopub.status.busy": "2023-10-10T19:02:45.920951Z",
     "iopub.execute_input": "2023-10-10T19:02:45.921150Z",
     "iopub.status.idle": "2023-10-10T19:02:45.933512Z",
     "shell.execute_reply.started": "2023-10-10T19:02:45.921126Z",
     "shell.execute_reply": "2023-10-10T19:02:45.932692Z"
    },
    "trusted": true
   },
   "execution_count": null,
   "outputs": []
  },
  {
   "cell_type": "code",
   "source": [
    "transactions.drop_duplicates(['week', 'customer_id'])"
   ],
   "metadata": {
    "execution": {
     "iopub.status.busy": "2023-10-10T19:02:45.934570Z",
     "iopub.execute_input": "2023-10-10T19:02:45.934878Z",
     "iopub.status.idle": "2023-10-10T19:02:46.191788Z",
     "shell.execute_reply.started": "2023-10-10T19:02:45.934836Z",
     "shell.execute_reply": "2023-10-10T19:02:46.190903Z"
    },
    "trusted": true
   },
   "execution_count": null,
   "outputs": []
  },
  {
   "cell_type": "code",
   "source": [
    "candidates_bestsellers = pd.merge(\n",
    "    unique_transactions,\n",
    "    bestsellers_previous_week,\n",
    "    on='week',\n",
    ")"
   ],
   "metadata": {
    "execution": {
     "iopub.status.busy": "2023-10-10T19:02:46.193047Z",
     "iopub.execute_input": "2023-10-10T19:02:46.193404Z",
     "iopub.status.idle": "2023-10-10T19:02:46.826008Z",
     "shell.execute_reply.started": "2023-10-10T19:02:46.193349Z",
     "shell.execute_reply": "2023-10-10T19:02:46.825390Z"
    },
    "trusted": true
   },
   "execution_count": null,
   "outputs": []
  },
  {
   "cell_type": "code",
   "source": [
    "test_set_transactions = unique_transactions.drop_duplicates('customer_id').reset_index(drop=True)\n",
    "test_set_transactions.week = test_week"
   ],
   "metadata": {
    "execution": {
     "iopub.status.busy": "2023-10-10T19:02:46.826902Z",
     "iopub.execute_input": "2023-10-10T19:02:46.827509Z",
     "iopub.status.idle": "2023-10-10T19:02:46.920047Z",
     "shell.execute_reply.started": "2023-10-10T19:02:46.827480Z",
     "shell.execute_reply": "2023-10-10T19:02:46.919436Z"
    },
    "trusted": true
   },
   "execution_count": null,
   "outputs": []
  },
  {
   "cell_type": "code",
   "source": [
    "test_set_transactions"
   ],
   "metadata": {
    "execution": {
     "iopub.status.busy": "2023-10-10T19:02:46.920983Z",
     "iopub.execute_input": "2023-10-10T19:02:46.921694Z",
     "iopub.status.idle": "2023-10-10T19:02:46.933910Z",
     "shell.execute_reply.started": "2023-10-10T19:02:46.921656Z",
     "shell.execute_reply": "2023-10-10T19:02:46.933363Z"
    },
    "trusted": true
   },
   "execution_count": null,
   "outputs": []
  },
  {
   "cell_type": "code",
   "source": [
    "candidates_bestsellers_test_week = pd.merge(\n",
    "    test_set_transactions,\n",
    "    bestsellers_previous_week,\n",
    "    on='week'\n",
    ")"
   ],
   "metadata": {
    "execution": {
     "iopub.status.busy": "2023-10-10T19:02:46.937062Z",
     "iopub.execute_input": "2023-10-10T19:02:46.937837Z",
     "iopub.status.idle": "2023-10-10T19:02:47.384996Z",
     "shell.execute_reply.started": "2023-10-10T19:02:46.937786Z",
     "shell.execute_reply": "2023-10-10T19:02:47.384310Z"
    },
    "trusted": true
   },
   "execution_count": null,
   "outputs": []
  },
  {
   "cell_type": "code",
   "source": [
    "candidates_bestsellers = pd.concat([candidates_bestsellers, candidates_bestsellers_test_week])\n",
    "candidates_bestsellers.drop(columns='bestseller_rank', inplace=True)"
   ],
   "metadata": {
    "execution": {
     "iopub.status.busy": "2023-10-10T19:02:47.386143Z",
     "iopub.execute_input": "2023-10-10T19:02:47.386339Z",
     "iopub.status.idle": "2023-10-10T19:02:48.233034Z",
     "shell.execute_reply.started": "2023-10-10T19:02:47.386315Z",
     "shell.execute_reply": "2023-10-10T19:02:48.232221Z"
    },
    "trusted": true
   },
   "execution_count": null,
   "outputs": []
  },
  {
   "cell_type": "code",
   "source": [
    "candidates_bestsellers"
   ],
   "metadata": {
    "execution": {
     "iopub.status.busy": "2023-10-10T19:02:48.234482Z",
     "iopub.execute_input": "2023-10-10T19:02:48.234780Z",
     "iopub.status.idle": "2023-10-10T19:02:48.250240Z",
     "shell.execute_reply.started": "2023-10-10T19:02:48.234727Z",
     "shell.execute_reply": "2023-10-10T19:02:48.249448Z"
    },
    "trusted": true
   },
   "execution_count": null,
   "outputs": []
  },
  {
   "cell_type": "markdown",
   "source": [
    "# Combining transactions and candidates / negative examples"
   ],
   "metadata": {}
  },
  {
   "cell_type": "code",
   "source": [
    "transactions['purchased'] = 1"
   ],
   "metadata": {
    "execution": {
     "iopub.status.busy": "2023-10-10T19:02:48.251326Z",
     "iopub.execute_input": "2023-10-10T19:02:48.251613Z",
     "iopub.status.idle": "2023-10-10T19:02:48.268209Z",
     "shell.execute_reply.started": "2023-10-10T19:02:48.251586Z",
     "shell.execute_reply": "2023-10-10T19:02:48.267219Z"
    },
    "trusted": true
   },
   "execution_count": null,
   "outputs": []
  },
  {
   "cell_type": "code",
   "source": [
    "data = pd.concat([transactions, candidates_last_purchase, candidates_bestsellers])\n",
    "data.purchased.fillna(0, inplace=True)"
   ],
   "metadata": {
    "execution": {
     "iopub.status.busy": "2023-10-10T19:02:48.269127Z",
     "iopub.execute_input": "2023-10-10T19:02:48.269334Z",
     "iopub.status.idle": "2023-10-10T19:02:48.821569Z",
     "shell.execute_reply.started": "2023-10-10T19:02:48.269310Z",
     "shell.execute_reply": "2023-10-10T19:02:48.820866Z"
    },
    "trusted": true
   },
   "execution_count": null,
   "outputs": []
  },
  {
   "cell_type": "code",
   "source": [
    "data"
   ],
   "metadata": {
    "execution": {
     "iopub.status.busy": "2023-10-10T19:02:48.822782Z",
     "iopub.execute_input": "2023-10-10T19:02:48.822999Z",
     "iopub.status.idle": "2023-10-10T19:02:48.838294Z",
     "shell.execute_reply.started": "2023-10-10T19:02:48.822963Z",
     "shell.execute_reply": "2023-10-10T19:02:48.837811Z"
    },
    "trusted": true
   },
   "execution_count": null,
   "outputs": []
  },
  {
   "cell_type": "code",
   "source": [
    "data.drop_duplicates(['customer_id', 'article_id', 'week'], inplace=True)"
   ],
   "metadata": {
    "execution": {
     "iopub.status.busy": "2023-10-10T19:02:48.839667Z",
     "iopub.execute_input": "2023-10-10T19:02:48.839979Z",
     "iopub.status.idle": "2023-10-10T19:02:54.638050Z",
     "shell.execute_reply.started": "2023-10-10T19:02:48.839940Z",
     "shell.execute_reply": "2023-10-10T19:02:54.637160Z"
    },
    "trusted": true
   },
   "execution_count": null,
   "outputs": []
  },
  {
   "cell_type": "code",
   "source": [
    "data.purchased.mean()"
   ],
   "metadata": {
    "execution": {
     "iopub.status.busy": "2023-10-10T19:02:54.639226Z",
     "iopub.execute_input": "2023-10-10T19:02:54.639480Z",
     "iopub.status.idle": "2023-10-10T19:02:54.696694Z",
     "shell.execute_reply.started": "2023-10-10T19:02:54.639451Z",
     "shell.execute_reply": "2023-10-10T19:02:54.695861Z"
    },
    "trusted": true
   },
   "execution_count": null,
   "outputs": []
  },
  {
   "cell_type": "markdown",
   "source": [
    "### Add bestseller information"
   ],
   "metadata": {}
  },
  {
   "cell_type": "code",
   "source": [
    "data = pd.merge(\n",
    "    data,\n",
    "    bestsellers_previous_week[['week', 'article_id', 'bestseller_rank']],\n",
    "    on=['week', 'article_id'],\n",
    "    how='left'\n",
    ")"
   ],
   "metadata": {
    "execution": {
     "iopub.status.busy": "2023-10-10T19:02:54.697977Z",
     "iopub.execute_input": "2023-10-10T19:02:54.698172Z",
     "iopub.status.idle": "2023-10-10T19:02:58.215459Z",
     "shell.execute_reply.started": "2023-10-10T19:02:54.698149Z",
     "shell.execute_reply": "2023-10-10T19:02:58.214586Z"
    },
    "trusted": true
   },
   "execution_count": null,
   "outputs": []
  },
  {
   "cell_type": "code",
   "source": [
    "data = data[data.week != data.week.min()]\n",
    "data.bestseller_rank.fillna(999, inplace=True)"
   ],
   "metadata": {
    "execution": {
     "iopub.status.busy": "2023-10-10T19:02:58.216754Z",
     "iopub.execute_input": "2023-10-10T19:02:58.217542Z",
     "iopub.status.idle": "2023-10-10T19:02:59.886315Z",
     "shell.execute_reply.started": "2023-10-10T19:02:58.217508Z",
     "shell.execute_reply": "2023-10-10T19:02:59.885441Z"
    },
    "trusted": true
   },
   "execution_count": null,
   "outputs": []
  },
  {
   "cell_type": "code",
   "source": [
    "data = pd.merge(data, articles, on='article_id', how='left')\n",
    "data = pd.merge(data, customers, on='customer_id', how='left')"
   ],
   "metadata": {
    "execution": {
     "iopub.status.busy": "2023-10-10T19:02:59.887515Z",
     "iopub.execute_input": "2023-10-10T19:02:59.888029Z",
     "iopub.status.idle": "2023-10-10T19:03:19.247668Z",
     "shell.execute_reply.started": "2023-10-10T19:02:59.887998Z",
     "shell.execute_reply": "2023-10-10T19:03:19.246902Z"
    },
    "trusted": true
   },
   "execution_count": null,
   "outputs": []
  },
  {
   "cell_type": "code",
   "source": [
    "data.sort_values(['week', 'customer_id'], inplace=True)\n",
    "data.reset_index(drop=True, inplace=True)"
   ],
   "metadata": {
    "execution": {
     "iopub.status.busy": "2023-10-10T19:03:19.248672Z",
     "iopub.execute_input": "2023-10-10T19:03:19.248904Z",
     "iopub.status.idle": "2023-10-10T19:03:24.912577Z",
     "shell.execute_reply.started": "2023-10-10T19:03:19.248878Z",
     "shell.execute_reply": "2023-10-10T19:03:24.911866Z"
    },
    "trusted": true
   },
   "execution_count": null,
   "outputs": []
  },
  {
   "cell_type": "code",
   "source": [
    "train = data[data.week != test_week]\n",
    "test = data[data.week==test_week].drop_duplicates(['customer_id', 'article_id', 'sales_channel_id']).copy()"
   ],
   "metadata": {
    "execution": {
     "iopub.status.busy": "2023-10-10T19:03:24.913572Z",
     "iopub.execute_input": "2023-10-10T19:03:24.913777Z",
     "iopub.status.idle": "2023-10-10T19:03:31.136317Z",
     "shell.execute_reply.started": "2023-10-10T19:03:24.913753Z",
     "shell.execute_reply": "2023-10-10T19:03:31.135557Z"
    },
    "trusted": true
   },
   "execution_count": null,
   "outputs": []
  },
  {
   "cell_type": "code",
   "source": [
    "train_baskets = train.groupby(['week', 'customer_id'])['article_id'].count().values"
   ],
   "metadata": {
    "execution": {
     "iopub.status.busy": "2023-10-10T19:03:31.137280Z",
     "iopub.execute_input": "2023-10-10T19:03:31.137537Z",
     "iopub.status.idle": "2023-10-10T19:03:32.039825Z",
     "shell.execute_reply.started": "2023-10-10T19:03:31.137510Z",
     "shell.execute_reply": "2023-10-10T19:03:32.038879Z"
    },
    "trusted": true
   },
   "execution_count": null,
   "outputs": []
  },
  {
   "cell_type": "code",
   "source": [
    "columns_to_use = ['article_id', 'product_type_no', 'graphical_appearance_no', 'colour_group_code', 'perceived_colour_value_id',\n",
    "'perceived_colour_master_id', 'department_no', 'index_code',\n",
    "'index_group_no', 'section_no', 'garment_group_no', 'FN', 'Active',\n",
    "'club_member_status', 'fashion_news_frequency', 'age', 'postal_code', 'bestseller_rank']"
   ],
   "metadata": {
    "execution": {
     "iopub.status.busy": "2023-10-10T19:03:32.041158Z",
     "iopub.execute_input": "2023-10-10T19:03:32.041853Z",
     "iopub.status.idle": "2023-10-10T19:03:32.046334Z",
     "shell.execute_reply.started": "2023-10-10T19:03:32.041817Z",
     "shell.execute_reply": "2023-10-10T19:03:32.045702Z"
    },
    "trusted": true
   },
   "execution_count": null,
   "outputs": []
  },
  {
   "cell_type": "code",
   "source": [
    "%%time\n",
    "\n",
    "train_X = train[columns_to_use]\n",
    "train_y = train['purchased']\n",
    "\n",
    "test_X = test[columns_to_use]"
   ],
   "metadata": {
    "execution": {
     "iopub.status.busy": "2023-10-10T19:03:32.047291Z",
     "iopub.execute_input": "2023-10-10T19:03:32.047553Z",
     "iopub.status.idle": "2023-10-10T19:03:32.568536Z",
     "shell.execute_reply.started": "2023-10-10T19:03:32.047526Z",
     "shell.execute_reply": "2023-10-10T19:03:32.567476Z"
    },
    "trusted": true
   },
   "execution_count": null,
   "outputs": []
  },
  {
   "cell_type": "markdown",
   "source": [
    "# Model training"
   ],
   "metadata": {}
  },
  {
   "cell_type": "code",
   "source": [
    "from lightgbm.sklearn import LGBMRanker"
   ],
   "metadata": {
    "execution": {
     "iopub.status.busy": "2023-10-10T19:03:32.569597Z",
     "iopub.execute_input": "2023-10-10T19:03:32.569808Z",
     "iopub.status.idle": "2023-10-10T19:03:33.689303Z",
     "shell.execute_reply.started": "2023-10-10T19:03:32.569783Z",
     "shell.execute_reply": "2023-10-10T19:03:33.688353Z"
    },
    "trusted": true
   },
   "execution_count": null,
   "outputs": []
  },
  {
   "cell_type": "code",
   "source": [
    "ranker = LGBMRanker(\n",
    "    objective=\"lambdarank\",\n",
    "    metric=\"ndcg\",\n",
    "    boosting_type=\"dart\",\n",
    "    n_estimators=1,\n",
    "    importance_type='gain',\n",
    "    verbose=10\n",
    ")"
   ],
   "metadata": {
    "execution": {
     "iopub.status.busy": "2023-10-10T19:03:33.690654Z",
     "iopub.execute_input": "2023-10-10T19:03:33.690893Z",
     "iopub.status.idle": "2023-10-10T19:03:33.694783Z",
     "shell.execute_reply.started": "2023-10-10T19:03:33.690863Z",
     "shell.execute_reply": "2023-10-10T19:03:33.693914Z"
    },
    "trusted": true
   },
   "execution_count": null,
   "outputs": []
  },
  {
   "cell_type": "code",
   "source": [
    "%%time\n",
    "\n",
    "ranker = ranker.fit(\n",
    "    train_X,\n",
    "    train_y,\n",
    "    group=train_baskets,\n",
    ")"
   ],
   "metadata": {
    "execution": {
     "iopub.status.busy": "2023-10-10T19:03:33.695749Z",
     "iopub.execute_input": "2023-10-10T19:03:33.696071Z",
     "iopub.status.idle": "2023-10-10T19:03:42.552735Z",
     "shell.execute_reply.started": "2023-10-10T19:03:33.696037Z",
     "shell.execute_reply": "2023-10-10T19:03:42.552099Z"
    },
    "trusted": true
   },
   "execution_count": null,
   "outputs": []
  },
  {
   "cell_type": "code",
   "source": [
    "for i in ranker.feature_importances_.argsort()[::-1]:\n",
    "    print(columns_to_use[i], ranker.feature_importances_[i]/ranker.feature_importances_.sum())"
   ],
   "metadata": {
    "execution": {
     "iopub.status.busy": "2023-10-10T19:03:42.553728Z",
     "iopub.execute_input": "2023-10-10T19:03:42.554458Z",
     "iopub.status.idle": "2023-10-10T19:03:42.567893Z",
     "shell.execute_reply.started": "2023-10-10T19:03:42.554420Z",
     "shell.execute_reply": "2023-10-10T19:03:42.566762Z"
    },
    "trusted": true
   },
   "execution_count": null,
   "outputs": []
  },
  {
   "cell_type": "markdown",
   "source": [
    "# Calculate predictions"
   ],
   "metadata": {}
  },
  {
   "cell_type": "code",
   "source": [
    "%time\n",
    "\n",
    "test['preds'] = ranker.predict(test_X)\n",
    "\n",
    "c_id2predicted_article_ids = test \\\n",
    "    .sort_values(['customer_id', 'preds'], ascending=False) \\\n",
    "    .groupby('customer_id')['article_id'].apply(list).to_dict()\n",
    "\n",
    "bestsellers_last_week = \\\n",
    "    bestsellers_previous_week[bestsellers_previous_week.week == bestsellers_previous_week.week.max()]['article_id'].tolist()"
   ],
   "metadata": {
    "execution": {
     "iopub.status.busy": "2023-10-10T19:03:42.569177Z",
     "iopub.execute_input": "2023-10-10T19:03:42.569515Z",
     "iopub.status.idle": "2023-10-10T19:03:54.758194Z",
     "shell.execute_reply.started": "2023-10-10T19:03:42.569462Z",
     "shell.execute_reply": "2023-10-10T19:03:54.757002Z"
    },
    "trusted": true
   },
   "execution_count": null,
   "outputs": []
  },
  {
   "cell_type": "markdown",
   "source": [
    "# Create submission"
   ],
   "metadata": {}
  },
  {
   "cell_type": "code",
   "source": [
    "sub = pd.read_csv('/kaggle/input/h-and-m-personalized-fashion-recommendations/sample_submission.csv')"
   ],
   "metadata": {
    "execution": {
     "iopub.status.busy": "2023-10-10T19:03:54.759536Z",
     "iopub.execute_input": "2023-10-10T19:03:54.760185Z",
     "iopub.status.idle": "2023-10-10T19:03:59.537602Z",
     "shell.execute_reply.started": "2023-10-10T19:03:54.760150Z",
     "shell.execute_reply": "2023-10-10T19:03:59.536674Z"
    },
    "trusted": true
   },
   "execution_count": null,
   "outputs": []
  },
  {
   "cell_type": "code",
   "source": [
    "%%time\n",
    "preds = []\n",
    "for c_id in customer_hex_id_to_int(sub.customer_id):\n",
    "    pred = c_id2predicted_article_ids.get(c_id, [])\n",
    "    pred = pred + bestsellers_last_week\n",
    "    preds.append(pred[:12])"
   ],
   "metadata": {
    "execution": {
     "iopub.status.busy": "2023-10-10T19:03:59.538757Z",
     "iopub.execute_input": "2023-10-10T19:03:59.539001Z",
     "iopub.status.idle": "2023-10-10T19:04:05.590950Z",
     "shell.execute_reply.started": "2023-10-10T19:03:59.538974Z",
     "shell.execute_reply": "2023-10-10T19:04:05.590058Z"
    },
    "trusted": true
   },
   "execution_count": null,
   "outputs": []
  },
  {
   "cell_type": "code",
   "source": [
    "preds = [' '.join(['0' + str(p) for p in ps]) for ps in preds]\n",
    "sub.prediction = preds"
   ],
   "metadata": {
    "execution": {
     "iopub.status.busy": "2023-10-10T19:04:05.592117Z",
     "iopub.execute_input": "2023-10-10T19:04:05.592327Z",
     "iopub.status.idle": "2023-10-10T19:04:11.089565Z",
     "shell.execute_reply.started": "2023-10-10T19:04:05.592303Z",
     "shell.execute_reply": "2023-10-10T19:04:11.088610Z"
    },
    "trusted": true
   },
   "execution_count": null,
   "outputs": []
  },
  {
   "cell_type": "code",
   "source": [
    "sub_name = 'basic_model_submission'\n",
    "sub.to_csv(f'{sub_name}.csv.gz', index=False)"
   ],
   "metadata": {
    "execution": {
     "iopub.status.busy": "2023-10-10T19:04:11.090880Z",
     "iopub.execute_input": "2023-10-10T19:04:11.091173Z",
     "iopub.status.idle": "2023-10-10T19:04:33.231681Z",
     "shell.execute_reply.started": "2023-10-10T19:04:11.091136Z",
     "shell.execute_reply": "2023-10-10T19:04:33.230969Z"
    },
    "trusted": true
   },
   "execution_count": null,
   "outputs": []
  }
 ]
}
