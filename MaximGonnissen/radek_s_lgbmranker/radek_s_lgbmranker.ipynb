{
 "cells": [
  {
   "cell_type": "markdown",
   "metadata": {},
   "source": [
    "Radek posted about this [here](https://www.kaggle.com/competitions/h-and-m-personalized-fashion-recommendations/discussion/309220), and linked to a GitHub repo with the code.\n",
    "\n",
    "I just transferred that code here to Kaggle notebooks, that's all."
   ]
  },
  {
   "cell_type": "code",
   "execution_count": 1,
   "metadata": {
    "ExecuteTime": {
     "end_time": "2023-12-22T14:58:59.755631Z",
     "start_time": "2023-12-22T14:58:59.749220900Z"
    }
   },
   "outputs": [],
   "source": [
    "import numpy as np\n",
    "\n",
    "def apk(actual, predicted, k=10):\n",
    "    \"\"\"\n",
    "    Computes the average precision at k.\n",
    "\n",
    "    This function computes the average precision at k between two lists of\n",
    "    items.\n",
    "\n",
    "    Parameters\n",
    "    ----------\n",
    "    actual : list\n",
    "             A list of elements that are to be predicted (order doesn't matter)\n",
    "    predicted : list\n",
    "                A list of predicted elements (order does matter)\n",
    "    k : int, optional\n",
    "        The maximum number of predicted elements\n",
    "\n",
    "    Returns\n",
    "    -------\n",
    "    score : double\n",
    "            The average precision at k over the input lists\n",
    "\n",
    "    \"\"\"\n",
    "    if len(predicted)>k:\n",
    "        predicted = predicted[:k]\n",
    "\n",
    "    score = 0.0\n",
    "    num_hits = 0.0\n",
    "\n",
    "    for i,p in enumerate(predicted):\n",
    "        if p in actual and p not in predicted[:i]:\n",
    "            num_hits += 1.0\n",
    "            score += num_hits / (i+1.0)\n",
    "\n",
    "    if not actual:\n",
    "        return 0.0\n",
    "\n",
    "    return score / min(len(actual), k)\n",
    "\n",
    "def mapk(actual, predicted, k=10):\n",
    "    \"\"\"\n",
    "    Computes the mean average precision at k.\n",
    "\n",
    "    This function computes the mean average prescision at k between two lists\n",
    "    of lists of items.\n",
    "\n",
    "    Parameters\n",
    "    ----------\n",
    "    actual : list\n",
    "             A list of lists of elements that are to be predicted \n",
    "             (order doesn't matter in the lists)\n",
    "    predicted : list\n",
    "                A list of lists of predicted elements\n",
    "                (order matters in the lists)\n",
    "    k : int, optional\n",
    "        The maximum number of predicted elements\n",
    "\n",
    "    Returns\n",
    "    -------\n",
    "    score : double\n",
    "            The mean average precision at k over the input lists\n",
    "\n",
    "    \"\"\"\n",
    "    return np.mean([apk(a,p,k) for a,p in zip(actual, predicted)])"
   ]
  },
  {
   "cell_type": "code",
   "execution_count": 2,
   "metadata": {
    "ExecuteTime": {
     "end_time": "2023-12-21T21:01:43.964092200Z",
     "start_time": "2023-12-21T21:01:43.944575900Z"
    }
   },
   "outputs": [],
   "source": [
    "from sklearn.base import BaseEstimator, TransformerMixin\n",
    "import numpy as np\n",
    "\n",
    "# https://www.kaggle.com/c/h-and-m-personalized-fashion-recommendations/discussion/308635\n",
    "def customer_hex_id_to_int(series):\n",
    "    return series.str[-16:].apply(hex_id_to_int)\n",
    "\n",
    "def hex_id_to_int(str):\n",
    "    return int(str[-16:], 16)\n",
    "\n",
    "def article_id_str_to_int(series):\n",
    "    return series.astype('int32')\n",
    "\n",
    "def article_id_int_to_str(series):\n",
    "    return '0' + series.astype('str')\n",
    "\n",
    "class Categorize(BaseEstimator, TransformerMixin):\n",
    "    def __init__(self, min_examples=0):\n",
    "        self.min_examples = min_examples\n",
    "        self.categories = []\n",
    "        \n",
    "    def fit(self, X):\n",
    "        for i in range(X.shape[1]):\n",
    "            vc = X.iloc[:, i].value_counts()\n",
    "            self.categories.append(vc[vc > self.min_examples].index.tolist())\n",
    "        return self\n",
    "\n",
    "    def transform(self, X):\n",
    "        data = {X.columns[i]: pd.Categorical(X.iloc[:, i], categories=self.categories[i]).codes for i in range(X.shape[1])}\n",
    "        return pd.DataFrame(data=data)\n",
    "\n",
    "\n",
    "def calculate_apk(list_of_preds, list_of_gts):\n",
    "    # for fast validation this can be changed to operate on dicts of {'cust_id_int': [art_id_int, ...]}\n",
    "    # using 'data/val_week_purchases_by_cust.pkl'\n",
    "    apks = []\n",
    "    for preds, gt in zip(list_of_preds, list_of_gts):\n",
    "        apks.append(apk(gt, preds, k=12))\n",
    "    return np.mean(apks)\n",
    "\n",
    "def eval_sub(sub_csv, skip_cust_with_no_purchases=True):\n",
    "    sub=pd.read_csv(sub_csv)\n",
    "    validation_set=pd.read_parquet('../../data/validation_ground_truth.parquet')\n",
    "\n",
    "    apks = []\n",
    "\n",
    "    no_purchases_pattern = []\n",
    "    for pred, gt in zip(sub.prediction.str.split(), validation_set.prediction.str.split()):\n",
    "        if skip_cust_with_no_purchases and (gt == no_purchases_pattern): continue\n",
    "        apks.append(apk(gt, pred, k=12))\n",
    "    return np.mean(apks)"
   ]
  },
  {
   "cell_type": "code",
   "execution_count": 3,
   "metadata": {
    "ExecuteTime": {
     "end_time": "2023-12-21T21:01:43.986897800Z",
     "start_time": "2023-12-21T21:01:43.964092200Z"
    }
   },
   "outputs": [],
   "source": [
    "import pandas as pd"
   ]
  },
  {
   "cell_type": "code",
   "execution_count": 4,
   "metadata": {
    "ExecuteTime": {
     "end_time": "2023-12-21T21:01:51.695805700Z",
     "start_time": "2023-12-21T21:01:43.967897400Z"
    }
   },
   "outputs": [
    {
     "name": "stdout",
     "output_type": "stream",
     "text": [
      "CPU times: total: 11.8 s\n",
      "Wall time: 7.95 s\n"
     ]
    }
   ],
   "source": [
    "%%time\n",
    "\n",
    "transactions = pd.read_parquet('../../data/h-and-m-personalized-fashion-recommendations/transactions_train.parquet')\n",
    "customers = pd.read_parquet('../../data/h-and-m-personalized-fashion-recommendations/customers.parquet')\n",
    "articles = pd.read_parquet('../../data/h-and-m-personalized-fashion-recommendations/articles.parquet')\n",
    "\n",
    "# sample = 0.05\n",
    "# transactions = pd.read_parquet(f'data/transactions_train_sample_{sample}.parquet')\n",
    "# customers = pd.read_parquet(f'data/customers_sample_{sample}.parquet')\n",
    "# articles = pd.read_parquet(f'data/articles_train_sample_{sample}.parquet')"
   ]
  },
  {
   "cell_type": "markdown",
   "metadata": {},
   "source": [
    "# Prune"
   ]
  },
  {
   "cell_type": "code",
   "execution_count": 5,
   "metadata": {},
   "outputs": [],
   "source": [
    "from pruning.prune_outdated_items import prune_outdated_items\n",
    "\n",
    "articles, transactions = prune_outdated_items(articles, transactions, cutoff_days=365)"
   ]
  },
  {
   "cell_type": "markdown",
   "metadata": {
    "collapsed": false,
    "jupyter": {
     "outputs_hidden": false
    }
   },
   "source": [
    "# Add my own features"
   ]
  },
  {
   "cell_type": "markdown",
   "metadata": {
    "collapsed": false,
    "jupyter": {
     "outputs_hidden": false
    }
   },
   "source": [
    "## Age group"
   ]
  },
  {
   "cell_type": "code",
   "execution_count": 6,
   "metadata": {
    "collapsed": false,
    "jupyter": {
     "outputs_hidden": false
    }
   },
   "outputs": [
    {
     "name": "stdout",
     "output_type": "stream",
     "text": [
      "CPU times: total: 31.2 ms\n",
      "Wall time: 25 ms\n"
     ]
    }
   ],
   "source": [
    "%%time\n",
    "\n",
    "from features.add_age_group import add_age_group\n",
    "\n",
    "customers['age_group'] = add_age_group(customers)"
   ]
  },
  {
   "cell_type": "markdown",
   "metadata": {
    "collapsed": false,
    "jupyter": {
     "outputs_hidden": false
    }
   },
   "source": [
    "## Gender"
   ]
  },
  {
   "cell_type": "code",
   "execution_count": 7,
   "metadata": {
    "collapsed": false,
    "jupyter": {
     "outputs_hidden": false
    }
   },
   "outputs": [
    {
     "name": "stdout",
     "output_type": "stream",
     "text": [
      "CPU times: total: 20.5 s\n",
      "Wall time: 20.6 s\n"
     ]
    }
   ],
   "source": [
    "%%time\n",
    "\n",
    "from features.add_gender import add_gender\n",
    "\n",
    "customers['gender'] = add_gender(customers, transactions, articles)"
   ]
  },
  {
   "cell_type": "markdown",
   "metadata": {},
   "source": [
    "# Gender score"
   ]
  },
  {
   "cell_type": "code",
   "execution_count": 8,
   "metadata": {},
   "outputs": [
    {
     "name": "stdout",
     "output_type": "stream",
     "text": [
      "CPU times: total: 15.6 ms\n",
      "Wall time: 11.3 ms\n"
     ]
    }
   ],
   "source": [
    "%%time\n",
    "\n",
    "from features.add_gender import add_gender_scores_to_articles\n",
    "\n",
    "articles['gender_score'] = add_gender_scores_to_articles(articles)"
   ]
  },
  {
   "cell_type": "markdown",
   "metadata": {},
   "source": [
    "# Seasonal Score"
   ]
  },
  {
   "cell_type": "code",
   "execution_count": 9,
   "metadata": {},
   "outputs": [
    {
     "name": "stdout",
     "output_type": "stream",
     "text": [
      "CPU times: total: 50.4 s\n",
      "Wall time: 50.8 s\n"
     ]
    }
   ],
   "source": [
    "%%time\n",
    "\n",
    "from features.add_season_score import add_season_scores\n",
    "from utils.season import Seasons\n",
    "\n",
    "for season in Seasons.seasons:\n",
    "    season.set_max_score_day_range(15)\n",
    "\n",
    "transactions = transactions.merge(add_season_scores(transactions), on='article_id', how='left')"
   ]
  },
  {
   "cell_type": "code",
   "execution_count": 10,
   "metadata": {},
   "outputs": [
    {
     "data": {
      "text/html": [
       "<div>\n",
       "<style scoped>\n",
       "    .dataframe tbody tr th:only-of-type {\n",
       "        vertical-align: middle;\n",
       "    }\n",
       "\n",
       "    .dataframe tbody tr th {\n",
       "        vertical-align: top;\n",
       "    }\n",
       "\n",
       "    .dataframe thead th {\n",
       "        text-align: right;\n",
       "    }\n",
       "</style>\n",
       "<table border=\"1\" class=\"dataframe\">\n",
       "  <thead>\n",
       "    <tr style=\"text-align: right;\">\n",
       "      <th></th>\n",
       "      <th>t_dat</th>\n",
       "      <th>customer_id</th>\n",
       "      <th>article_id</th>\n",
       "      <th>price</th>\n",
       "      <th>sales_channel_id</th>\n",
       "      <th>spring</th>\n",
       "      <th>summer</th>\n",
       "      <th>fall</th>\n",
       "      <th>winter</th>\n",
       "    </tr>\n",
       "  </thead>\n",
       "  <tbody>\n",
       "    <tr>\n",
       "      <th>0</th>\n",
       "      <td>2018-09-20</td>\n",
       "      <td>000058a12d5b43e67d225668fa1f8d618c13dc232df0ca...</td>\n",
       "      <td>0541518023</td>\n",
       "      <td>0.030492</td>\n",
       "      <td>2</td>\n",
       "      <td>202</td>\n",
       "      <td>28</td>\n",
       "      <td>326</td>\n",
       "      <td>769</td>\n",
       "    </tr>\n",
       "    <tr>\n",
       "      <th>1</th>\n",
       "      <td>2018-09-20</td>\n",
       "      <td>00007d2de826758b65a93dd24ce629ed66842531df6699...</td>\n",
       "      <td>0685687003</td>\n",
       "      <td>0.016932</td>\n",
       "      <td>2</td>\n",
       "      <td>0</td>\n",
       "      <td>0</td>\n",
       "      <td>314</td>\n",
       "      <td>444</td>\n",
       "    </tr>\n",
       "    <tr>\n",
       "      <th>2</th>\n",
       "      <td>2018-09-20</td>\n",
       "      <td>00007d2de826758b65a93dd24ce629ed66842531df6699...</td>\n",
       "      <td>0685687004</td>\n",
       "      <td>0.016932</td>\n",
       "      <td>2</td>\n",
       "      <td>47</td>\n",
       "      <td>89</td>\n",
       "      <td>322</td>\n",
       "      <td>253</td>\n",
       "    </tr>\n",
       "    <tr>\n",
       "      <th>3</th>\n",
       "      <td>2018-09-20</td>\n",
       "      <td>00007d2de826758b65a93dd24ce629ed66842531df6699...</td>\n",
       "      <td>0685687001</td>\n",
       "      <td>0.016932</td>\n",
       "      <td>2</td>\n",
       "      <td>21</td>\n",
       "      <td>17</td>\n",
       "      <td>293</td>\n",
       "      <td>170</td>\n",
       "    </tr>\n",
       "    <tr>\n",
       "      <th>4</th>\n",
       "      <td>2018-09-20</td>\n",
       "      <td>00083cda041544b2fbb0e0d2905ad17da7cf1007526fb4...</td>\n",
       "      <td>0501323011</td>\n",
       "      <td>0.053373</td>\n",
       "      <td>1</td>\n",
       "      <td>296</td>\n",
       "      <td>193</td>\n",
       "      <td>426</td>\n",
       "      <td>737</td>\n",
       "    </tr>\n",
       "  </tbody>\n",
       "</table>\n",
       "</div>"
      ],
      "text/plain": [
       "       t_dat                                        customer_id  article_id  \\\n",
       "0 2018-09-20  000058a12d5b43e67d225668fa1f8d618c13dc232df0ca...  0541518023   \n",
       "1 2018-09-20  00007d2de826758b65a93dd24ce629ed66842531df6699...  0685687003   \n",
       "2 2018-09-20  00007d2de826758b65a93dd24ce629ed66842531df6699...  0685687004   \n",
       "3 2018-09-20  00007d2de826758b65a93dd24ce629ed66842531df6699...  0685687001   \n",
       "4 2018-09-20  00083cda041544b2fbb0e0d2905ad17da7cf1007526fb4...  0501323011   \n",
       "\n",
       "      price  sales_channel_id  spring  summer  fall  winter  \n",
       "0  0.030492                 2     202      28   326     769  \n",
       "1  0.016932                 2       0       0   314     444  \n",
       "2  0.016932                 2      47      89   322     253  \n",
       "3  0.016932                 2      21      17   293     170  \n",
       "4  0.053373                 1     296     193   426     737  "
      ]
     },
     "execution_count": 10,
     "metadata": {},
     "output_type": "execute_result"
    }
   ],
   "source": [
    "transactions.head()"
   ]
  },
  {
   "cell_type": "markdown",
   "metadata": {},
   "source": [
    "# Unique customer popularity"
   ]
  },
  {
   "cell_type": "code",
   "execution_count": 11,
   "metadata": {},
   "outputs": [
    {
     "name": "stdout",
     "output_type": "stream",
     "text": [
      "CPU times: total: 30.8 s\n",
      "Wall time: 31.1 s\n"
     ]
    }
   ],
   "source": [
    "%%time\n",
    "\n",
    "from features.add_article_unique_customers_popularity import add_article_unique_customers_popularity\n",
    "\n",
    "articles['unique_customer_popularity'] = add_article_unique_customers_popularity(articles, transactions)"
   ]
  },
  {
   "cell_type": "markdown",
   "metadata": {},
   "source": [
    "# Prepare data"
   ]
  },
  {
   "cell_type": "code",
   "execution_count": 12,
   "metadata": {},
   "outputs": [],
   "source": [
    "transactions['customer_id'] = customer_hex_id_to_int(transactions['customer_id'])\n",
    "transactions.t_dat = pd.to_datetime(transactions.t_dat, format='%Y-%m-%d')\n",
    "transactions['week'] = (transactions['t_dat'] - transactions['t_dat'].min()).dt.days // 7\n",
    "transactions.article_id = article_id_str_to_int(transactions.article_id)\n",
    "articles.article_id = article_id_str_to_int(articles.article_id)\n",
    "transactions.week = transactions.week.astype('int8')\n",
    "transactions.sales_channel_id = transactions.sales_channel_id.astype('int8')\n",
    "transactions.price = transactions.price.astype('float32')\n",
    "\n",
    "customers.customer_id = customer_hex_id_to_int(customers.customer_id)\n",
    "for col in ['FN', 'Active', 'age']:\n",
    "    customers[col].fillna(-1, inplace=True)\n",
    "    customers[col] = customers[col].astype('int8')\n",
    "\n",
    "customers.club_member_status = Categorize().fit_transform(customers[['club_member_status']]).club_member_status\n",
    "customers.postal_code = Categorize().fit_transform(customers[['postal_code']]).postal_code\n",
    "customers.fashion_news_frequency = Categorize().fit_transform(customers[['fashion_news_frequency']]).fashion_news_frequency\n",
    "customers.gender = Categorize().fit_transform(customers[['gender']]).gender\n",
    "\n",
    "for col in articles.columns:\n",
    "    if articles[col].dtype == 'object':\n",
    "        articles[col] = Categorize().fit_transform(articles[[col]])[col]\n",
    "\n",
    "for col in articles.columns:\n",
    "    if articles[col].dtype == 'int64':\n",
    "        articles[col] = articles[col].astype('int32')\n",
    "\n",
    "transactions.sort_values(['t_dat', 'customer_id'], inplace=True)"
   ]
  },
  {
   "cell_type": "code",
   "execution_count": 13,
   "metadata": {
    "ExecuteTime": {
     "end_time": "2023-12-21T21:01:53.002008700Z",
     "start_time": "2023-12-21T21:01:52.591805300Z"
    }
   },
   "outputs": [],
   "source": [
    "test_week = transactions.week.max() + 1\n",
    "transactions = transactions[transactions.week > transactions.week.max() - 10]"
   ]
  },
  {
   "cell_type": "markdown",
   "metadata": {},
   "source": [
    "# Generating candidates"
   ]
  },
  {
   "cell_type": "markdown",
   "metadata": {},
   "source": [
    "### Last purchase candidates"
   ]
  },
  {
   "cell_type": "code",
   "execution_count": 14,
   "metadata": {
    "ExecuteTime": {
     "end_time": "2023-12-21T21:02:03.951603Z",
     "start_time": "2023-12-21T21:01:53.002008700Z"
    }
   },
   "outputs": [
    {
     "name": "stdout",
     "output_type": "stream",
     "text": [
      "CPU times: total: 9.92 s\n",
      "Wall time: 9.93 s\n"
     ]
    }
   ],
   "source": [
    "%%time\n",
    "\n",
    "c2weeks = transactions.groupby('customer_id')['week'].unique()"
   ]
  },
  {
   "cell_type": "code",
   "execution_count": 15,
   "metadata": {
    "is_executing": true
   },
   "outputs": [
    {
     "data": {
      "text/html": [
       "<div>\n",
       "<style scoped>\n",
       "    .dataframe tbody tr th:only-of-type {\n",
       "        vertical-align: middle;\n",
       "    }\n",
       "\n",
       "    .dataframe tbody tr th {\n",
       "        vertical-align: top;\n",
       "    }\n",
       "\n",
       "    .dataframe thead th {\n",
       "        text-align: right;\n",
       "    }\n",
       "</style>\n",
       "<table border=\"1\" class=\"dataframe\">\n",
       "  <thead>\n",
       "    <tr style=\"text-align: right;\">\n",
       "      <th></th>\n",
       "      <th>min</th>\n",
       "      <th>max</th>\n",
       "    </tr>\n",
       "    <tr>\n",
       "      <th>week</th>\n",
       "      <th></th>\n",
       "      <th></th>\n",
       "    </tr>\n",
       "  </thead>\n",
       "  <tbody>\n",
       "    <tr>\n",
       "      <th>95</th>\n",
       "      <td>2020-07-16</td>\n",
       "      <td>2020-07-22</td>\n",
       "    </tr>\n",
       "    <tr>\n",
       "      <th>96</th>\n",
       "      <td>2020-07-23</td>\n",
       "      <td>2020-07-29</td>\n",
       "    </tr>\n",
       "    <tr>\n",
       "      <th>97</th>\n",
       "      <td>2020-07-30</td>\n",
       "      <td>2020-08-05</td>\n",
       "    </tr>\n",
       "    <tr>\n",
       "      <th>98</th>\n",
       "      <td>2020-08-06</td>\n",
       "      <td>2020-08-12</td>\n",
       "    </tr>\n",
       "    <tr>\n",
       "      <th>99</th>\n",
       "      <td>2020-08-13</td>\n",
       "      <td>2020-08-19</td>\n",
       "    </tr>\n",
       "    <tr>\n",
       "      <th>100</th>\n",
       "      <td>2020-08-20</td>\n",
       "      <td>2020-08-26</td>\n",
       "    </tr>\n",
       "    <tr>\n",
       "      <th>101</th>\n",
       "      <td>2020-08-27</td>\n",
       "      <td>2020-09-02</td>\n",
       "    </tr>\n",
       "    <tr>\n",
       "      <th>102</th>\n",
       "      <td>2020-09-03</td>\n",
       "      <td>2020-09-09</td>\n",
       "    </tr>\n",
       "    <tr>\n",
       "      <th>103</th>\n",
       "      <td>2020-09-10</td>\n",
       "      <td>2020-09-16</td>\n",
       "    </tr>\n",
       "    <tr>\n",
       "      <th>104</th>\n",
       "      <td>2020-09-17</td>\n",
       "      <td>2020-09-22</td>\n",
       "    </tr>\n",
       "  </tbody>\n",
       "</table>\n",
       "</div>"
      ],
      "text/plain": [
       "            min        max\n",
       "week                      \n",
       "95   2020-07-16 2020-07-22\n",
       "96   2020-07-23 2020-07-29\n",
       "97   2020-07-30 2020-08-05\n",
       "98   2020-08-06 2020-08-12\n",
       "99   2020-08-13 2020-08-19\n",
       "100  2020-08-20 2020-08-26\n",
       "101  2020-08-27 2020-09-02\n",
       "102  2020-09-03 2020-09-09\n",
       "103  2020-09-10 2020-09-16\n",
       "104  2020-09-17 2020-09-22"
      ]
     },
     "execution_count": 15,
     "metadata": {},
     "output_type": "execute_result"
    }
   ],
   "source": [
    "transactions.groupby('week')['t_dat'].agg(['min', 'max'])"
   ]
  },
  {
   "cell_type": "code",
   "execution_count": 16,
   "metadata": {
    "is_executing": true
   },
   "outputs": [
    {
     "data": {
      "text/plain": [
       "customer_id\n",
       "28847241659200          [95, 96, 101, 102]\n",
       "41318098387474                        [98]\n",
       "116809474287335                 [100, 103]\n",
       "200292573348128          [95, 96, 98, 101]\n",
       "248294615847351                       [95]\n",
       "                               ...        \n",
       "18446624797007271432                  [95]\n",
       "18446630855572834764                 [103]\n",
       "18446662237889060501                  [99]\n",
       "18446705133201055310                 [102]\n",
       "18446737527580148316                 [104]\n",
       "Name: week, Length: 432676, dtype: object"
      ]
     },
     "execution_count": 16,
     "metadata": {},
     "output_type": "execute_result"
    }
   ],
   "source": [
    "c2weeks"
   ]
  },
  {
   "cell_type": "code",
   "execution_count": 17,
   "metadata": {
    "ExecuteTime": {
     "end_time": "2023-12-21T21:02:04.446382700Z",
     "start_time": "2023-12-21T21:02:04.034734200Z"
    }
   },
   "outputs": [
    {
     "name": "stdout",
     "output_type": "stream",
     "text": [
      "CPU times: total: 328 ms\n",
      "Wall time: 335 ms\n"
     ]
    }
   ],
   "source": [
    "%%time\n",
    "\n",
    "c2weeks2shifted_weeks = {}\n",
    "\n",
    "for c_id, weeks in c2weeks.items():\n",
    "    c2weeks2shifted_weeks[c_id] = {}\n",
    "    for i in range(weeks.shape[0]-1):\n",
    "        c2weeks2shifted_weeks[c_id][weeks[i]] = weeks[i+1]\n",
    "    c2weeks2shifted_weeks[c_id][weeks[-1]] = test_week"
   ]
  },
  {
   "cell_type": "code",
   "execution_count": 18,
   "metadata": {
    "ExecuteTime": {
     "end_time": "2023-12-21T21:02:04.447382800Z",
     "start_time": "2023-12-21T21:02:04.443583700Z"
    }
   },
   "outputs": [],
   "source": [
    "# c2weeks2shifted_weeks[28847241659200]"
   ]
  },
  {
   "cell_type": "code",
   "execution_count": 19,
   "metadata": {
    "ExecuteTime": {
     "end_time": "2023-12-21T21:02:04.507525300Z",
     "start_time": "2023-12-21T21:02:04.446382700Z"
    }
   },
   "outputs": [],
   "source": [
    "candidates_last_purchase = transactions.copy()"
   ]
  },
  {
   "cell_type": "code",
   "execution_count": 20,
   "metadata": {
    "ExecuteTime": {
     "end_time": "2023-12-21T21:02:12.615911400Z",
     "start_time": "2023-12-21T21:02:04.508523300Z"
    }
   },
   "outputs": [
    {
     "name": "stdout",
     "output_type": "stream",
     "text": [
      "CPU times: total: 12.9 s\n",
      "Wall time: 13 s\n"
     ]
    }
   ],
   "source": [
    "%%time\n",
    "\n",
    "weeks = []\n",
    "for i, (c_id, week) in enumerate(zip(transactions['customer_id'], transactions['week'])):\n",
    "    weeks.append(c2weeks2shifted_weeks[c_id][week])\n",
    "    \n",
    "candidates_last_purchase.week=weeks"
   ]
  },
  {
   "cell_type": "code",
   "execution_count": 21,
   "metadata": {
    "ExecuteTime": {
     "end_time": "2023-12-21T21:02:12.616913Z",
     "start_time": "2023-12-21T21:02:12.604920200Z"
    }
   },
   "outputs": [],
   "source": [
    "# candidates_last_purchase[candidates_last_purchase['customer_id']==272412481300040]"
   ]
  },
  {
   "cell_type": "code",
   "execution_count": 22,
   "metadata": {},
   "outputs": [],
   "source": [
    "# transactions[transactions['customer_id']==272412481300040]"
   ]
  },
  {
   "cell_type": "markdown",
   "metadata": {},
   "source": [
    "### Bestsellers candidates"
   ]
  },
  {
   "cell_type": "code",
   "execution_count": 23,
   "metadata": {
    "is_executing": true
   },
   "outputs": [],
   "source": [
    "mean_price = transactions \\\n",
    "    .groupby(['week', 'article_id'])['price'].mean()"
   ]
  },
  {
   "cell_type": "code",
   "execution_count": 24,
   "metadata": {
    "is_executing": true
   },
   "outputs": [
    {
     "data": {
      "text/plain": [
       "week  article_id\n",
       "95    108775015     0.003842\n",
       "      108775044     0.008246\n",
       "      110065001     0.006085\n",
       "      110065002     0.006085\n",
       "      111565001     0.004194\n",
       "                      ...   \n",
       "104   952267001     0.013732\n",
       "      952938001     0.048288\n",
       "      953450001     0.016932\n",
       "      953763001     0.021847\n",
       "      956217002     0.059034\n",
       "Name: price, Length: 195337, dtype: float32"
      ]
     },
     "execution_count": 24,
     "metadata": {},
     "output_type": "execute_result"
    }
   ],
   "source": [
    "mean_price"
   ]
  },
  {
   "cell_type": "code",
   "execution_count": 25,
   "metadata": {},
   "outputs": [],
   "source": [
    "sales = transactions \\\n",
    "    .groupby('week')['article_id'].value_counts() \\\n",
    "    .groupby('week').rank(method='dense', ascending=False) \\\n",
    "    .groupby('week').head(12).rename('bestseller_rank').astype('int8')"
   ]
  },
  {
   "cell_type": "code",
   "execution_count": 26,
   "metadata": {},
   "outputs": [
    {
     "data": {
      "text/plain": [
       "week  article_id\n",
       "95    866731001      1\n",
       "      760084003      2\n",
       "      600886001      3\n",
       "      706016001      4\n",
       "      610776002      5\n",
       "                    ..\n",
       "104   915529005      8\n",
       "      915529003      9\n",
       "      714790020     10\n",
       "      448509014     10\n",
       "      762846027     11\n",
       "Name: bestseller_rank, Length: 120, dtype: int8"
      ]
     },
     "execution_count": 26,
     "metadata": {},
     "output_type": "execute_result"
    }
   ],
   "source": [
    "sales"
   ]
  },
  {
   "cell_type": "code",
   "execution_count": 27,
   "metadata": {},
   "outputs": [
    {
     "data": {
      "text/plain": [
       "article_id\n",
       "866731001     1\n",
       "760084003     2\n",
       "600886001     3\n",
       "706016001     4\n",
       "610776002     5\n",
       "372860002     6\n",
       "717490064     7\n",
       "827968001     8\n",
       "817354001     9\n",
       "877278002    10\n",
       "547780003    11\n",
       "866731003    12\n",
       "Name: bestseller_rank, dtype: int8"
      ]
     },
     "execution_count": 27,
     "metadata": {},
     "output_type": "execute_result"
    }
   ],
   "source": [
    "sales.loc[95]"
   ]
  },
  {
   "cell_type": "code",
   "execution_count": 28,
   "metadata": {},
   "outputs": [],
   "source": [
    "bestsellers_previous_week = pd.merge(sales, mean_price, on=['week', 'article_id']).reset_index()\n",
    "bestsellers_previous_week.week += 1"
   ]
  },
  {
   "cell_type": "code",
   "execution_count": 29,
   "metadata": {},
   "outputs": [
    {
     "data": {
      "text/html": [
       "<div>\n",
       "<style scoped>\n",
       "    .dataframe tbody tr th:only-of-type {\n",
       "        vertical-align: middle;\n",
       "    }\n",
       "\n",
       "    .dataframe tbody tr th {\n",
       "        vertical-align: top;\n",
       "    }\n",
       "\n",
       "    .dataframe thead th {\n",
       "        text-align: right;\n",
       "    }\n",
       "</style>\n",
       "<table border=\"1\" class=\"dataframe\">\n",
       "  <thead>\n",
       "    <tr style=\"text-align: right;\">\n",
       "      <th></th>\n",
       "      <th>week</th>\n",
       "      <th>article_id</th>\n",
       "      <th>bestseller_rank</th>\n",
       "      <th>price</th>\n",
       "    </tr>\n",
       "  </thead>\n",
       "  <tbody>\n",
       "    <tr>\n",
       "      <th>0</th>\n",
       "      <td>96</td>\n",
       "      <td>866731001</td>\n",
       "      <td>1</td>\n",
       "      <td>0.024921</td>\n",
       "    </tr>\n",
       "    <tr>\n",
       "      <th>1</th>\n",
       "      <td>96</td>\n",
       "      <td>760084003</td>\n",
       "      <td>2</td>\n",
       "      <td>0.025112</td>\n",
       "    </tr>\n",
       "    <tr>\n",
       "      <th>2</th>\n",
       "      <td>96</td>\n",
       "      <td>600886001</td>\n",
       "      <td>3</td>\n",
       "      <td>0.023237</td>\n",
       "    </tr>\n",
       "    <tr>\n",
       "      <th>3</th>\n",
       "      <td>96</td>\n",
       "      <td>706016001</td>\n",
       "      <td>4</td>\n",
       "      <td>0.033220</td>\n",
       "    </tr>\n",
       "    <tr>\n",
       "      <th>4</th>\n",
       "      <td>96</td>\n",
       "      <td>610776002</td>\n",
       "      <td>5</td>\n",
       "      <td>0.008284</td>\n",
       "    </tr>\n",
       "    <tr>\n",
       "      <th>5</th>\n",
       "      <td>96</td>\n",
       "      <td>372860002</td>\n",
       "      <td>6</td>\n",
       "      <td>0.013181</td>\n",
       "    </tr>\n",
       "    <tr>\n",
       "      <th>6</th>\n",
       "      <td>96</td>\n",
       "      <td>717490064</td>\n",
       "      <td>7</td>\n",
       "      <td>0.008278</td>\n",
       "    </tr>\n",
       "    <tr>\n",
       "      <th>7</th>\n",
       "      <td>96</td>\n",
       "      <td>827968001</td>\n",
       "      <td>8</td>\n",
       "      <td>0.016509</td>\n",
       "    </tr>\n",
       "    <tr>\n",
       "      <th>8</th>\n",
       "      <td>96</td>\n",
       "      <td>817354001</td>\n",
       "      <td>9</td>\n",
       "      <td>0.021523</td>\n",
       "    </tr>\n",
       "    <tr>\n",
       "      <th>9</th>\n",
       "      <td>96</td>\n",
       "      <td>877278002</td>\n",
       "      <td>10</td>\n",
       "      <td>0.025014</td>\n",
       "    </tr>\n",
       "    <tr>\n",
       "      <th>10</th>\n",
       "      <td>96</td>\n",
       "      <td>547780003</td>\n",
       "      <td>11</td>\n",
       "      <td>0.024793</td>\n",
       "    </tr>\n",
       "    <tr>\n",
       "      <th>11</th>\n",
       "      <td>96</td>\n",
       "      <td>866731003</td>\n",
       "      <td>12</td>\n",
       "      <td>0.024874</td>\n",
       "    </tr>\n",
       "  </tbody>\n",
       "</table>\n",
       "</div>"
      ],
      "text/plain": [
       "    week  article_id  bestseller_rank     price\n",
       "0     96   866731001                1  0.024921\n",
       "1     96   760084003                2  0.025112\n",
       "2     96   600886001                3  0.023237\n",
       "3     96   706016001                4  0.033220\n",
       "4     96   610776002                5  0.008284\n",
       "5     96   372860002                6  0.013181\n",
       "6     96   717490064                7  0.008278\n",
       "7     96   827968001                8  0.016509\n",
       "8     96   817354001                9  0.021523\n",
       "9     96   877278002               10  0.025014\n",
       "10    96   547780003               11  0.024793\n",
       "11    96   866731003               12  0.024874"
      ]
     },
     "execution_count": 29,
     "metadata": {},
     "output_type": "execute_result"
    }
   ],
   "source": [
    "bestsellers_previous_week.pipe(lambda df: df[df['week']==96])"
   ]
  },
  {
   "cell_type": "code",
   "execution_count": 30,
   "metadata": {},
   "outputs": [],
   "source": [
    "unique_transactions = transactions \\\n",
    "    .groupby(['week', 'customer_id']) \\\n",
    "    .head(1) \\\n",
    "    .drop(columns=['article_id', 'price']) \\\n",
    "    .copy()"
   ]
  },
  {
   "cell_type": "code",
   "execution_count": 31,
   "metadata": {},
   "outputs": [
    {
     "data": {
      "text/html": [
       "<div>\n",
       "<style scoped>\n",
       "    .dataframe tbody tr th:only-of-type {\n",
       "        vertical-align: middle;\n",
       "    }\n",
       "\n",
       "    .dataframe tbody tr th {\n",
       "        vertical-align: top;\n",
       "    }\n",
       "\n",
       "    .dataframe thead th {\n",
       "        text-align: right;\n",
       "    }\n",
       "</style>\n",
       "<table border=\"1\" class=\"dataframe\">\n",
       "  <thead>\n",
       "    <tr style=\"text-align: right;\">\n",
       "      <th></th>\n",
       "      <th>t_dat</th>\n",
       "      <th>customer_id</th>\n",
       "      <th>sales_channel_id</th>\n",
       "      <th>spring</th>\n",
       "      <th>summer</th>\n",
       "      <th>fall</th>\n",
       "      <th>winter</th>\n",
       "      <th>week</th>\n",
       "    </tr>\n",
       "  </thead>\n",
       "  <tbody>\n",
       "    <tr>\n",
       "      <th>26628568</th>\n",
       "      <td>2020-07-16</td>\n",
       "      <td>1520973890714130</td>\n",
       "      <td>2</td>\n",
       "      <td>371</td>\n",
       "      <td>892</td>\n",
       "      <td>111</td>\n",
       "      <td>0</td>\n",
       "      <td>95</td>\n",
       "    </tr>\n",
       "    <tr>\n",
       "      <th>26628122</th>\n",
       "      <td>2020-07-16</td>\n",
       "      <td>1827730561464445</td>\n",
       "      <td>2</td>\n",
       "      <td>778</td>\n",
       "      <td>1735</td>\n",
       "      <td>626</td>\n",
       "      <td>504</td>\n",
       "      <td>95</td>\n",
       "    </tr>\n",
       "    <tr>\n",
       "      <th>26626529</th>\n",
       "      <td>2020-07-16</td>\n",
       "      <td>2269114073915007</td>\n",
       "      <td>1</td>\n",
       "      <td>0</td>\n",
       "      <td>31</td>\n",
       "      <td>122</td>\n",
       "      <td>0</td>\n",
       "      <td>95</td>\n",
       "    </tr>\n",
       "    <tr>\n",
       "      <th>26653971</th>\n",
       "      <td>2020-07-16</td>\n",
       "      <td>5082210391606505</td>\n",
       "      <td>2</td>\n",
       "      <td>0</td>\n",
       "      <td>45</td>\n",
       "      <td>123</td>\n",
       "      <td>0</td>\n",
       "      <td>95</td>\n",
       "    </tr>\n",
       "    <tr>\n",
       "      <th>26628186</th>\n",
       "      <td>2020-07-16</td>\n",
       "      <td>6930054433895293</td>\n",
       "      <td>1</td>\n",
       "      <td>0</td>\n",
       "      <td>15</td>\n",
       "      <td>224</td>\n",
       "      <td>0</td>\n",
       "      <td>95</td>\n",
       "    </tr>\n",
       "    <tr>\n",
       "      <th>...</th>\n",
       "      <td>...</td>\n",
       "      <td>...</td>\n",
       "      <td>...</td>\n",
       "      <td>...</td>\n",
       "      <td>...</td>\n",
       "      <td>...</td>\n",
       "      <td>...</td>\n",
       "      <td>...</td>\n",
       "    </tr>\n",
       "    <tr>\n",
       "      <th>29301924</th>\n",
       "      <td>2020-09-22</td>\n",
       "      <td>18435221511488011015</td>\n",
       "      <td>1</td>\n",
       "      <td>0</td>\n",
       "      <td>0</td>\n",
       "      <td>569</td>\n",
       "      <td>0</td>\n",
       "      <td>104</td>\n",
       "    </tr>\n",
       "    <tr>\n",
       "      <th>29323970</th>\n",
       "      <td>2020-09-22</td>\n",
       "      <td>18436859303155335645</td>\n",
       "      <td>1</td>\n",
       "      <td>19</td>\n",
       "      <td>27</td>\n",
       "      <td>1532</td>\n",
       "      <td>82</td>\n",
       "      <td>104</td>\n",
       "    </tr>\n",
       "    <tr>\n",
       "      <th>29328987</th>\n",
       "      <td>2020-09-22</td>\n",
       "      <td>18437941771381362708</td>\n",
       "      <td>2</td>\n",
       "      <td>0</td>\n",
       "      <td>0</td>\n",
       "      <td>642</td>\n",
       "      <td>0</td>\n",
       "      <td>104</td>\n",
       "    </tr>\n",
       "    <tr>\n",
       "      <th>29317758</th>\n",
       "      <td>2020-09-22</td>\n",
       "      <td>18438270306572912089</td>\n",
       "      <td>1</td>\n",
       "      <td>0</td>\n",
       "      <td>0</td>\n",
       "      <td>647</td>\n",
       "      <td>0</td>\n",
       "      <td>104</td>\n",
       "    </tr>\n",
       "    <tr>\n",
       "      <th>29320833</th>\n",
       "      <td>2020-09-22</td>\n",
       "      <td>18440902715633436014</td>\n",
       "      <td>1</td>\n",
       "      <td>0</td>\n",
       "      <td>0</td>\n",
       "      <td>647</td>\n",
       "      <td>0</td>\n",
       "      <td>104</td>\n",
       "    </tr>\n",
       "  </tbody>\n",
       "</table>\n",
       "<p>742269 rows × 8 columns</p>\n",
       "</div>"
      ],
      "text/plain": [
       "              t_dat           customer_id  sales_channel_id  spring  summer  \\\n",
       "26628568 2020-07-16      1520973890714130                 2     371     892   \n",
       "26628122 2020-07-16      1827730561464445                 2     778    1735   \n",
       "26626529 2020-07-16      2269114073915007                 1       0      31   \n",
       "26653971 2020-07-16      5082210391606505                 2       0      45   \n",
       "26628186 2020-07-16      6930054433895293                 1       0      15   \n",
       "...             ...                   ...               ...     ...     ...   \n",
       "29301924 2020-09-22  18435221511488011015                 1       0       0   \n",
       "29323970 2020-09-22  18436859303155335645                 1      19      27   \n",
       "29328987 2020-09-22  18437941771381362708                 2       0       0   \n",
       "29317758 2020-09-22  18438270306572912089                 1       0       0   \n",
       "29320833 2020-09-22  18440902715633436014                 1       0       0   \n",
       "\n",
       "          fall  winter  week  \n",
       "26628568   111       0    95  \n",
       "26628122   626     504    95  \n",
       "26626529   122       0    95  \n",
       "26653971   123       0    95  \n",
       "26628186   224       0    95  \n",
       "...        ...     ...   ...  \n",
       "29301924   569       0   104  \n",
       "29323970  1532      82   104  \n",
       "29328987   642       0   104  \n",
       "29317758   647       0   104  \n",
       "29320833   647       0   104  \n",
       "\n",
       "[742269 rows x 8 columns]"
      ]
     },
     "execution_count": 31,
     "metadata": {},
     "output_type": "execute_result"
    }
   ],
   "source": [
    "unique_transactions"
   ]
  },
  {
   "cell_type": "code",
   "execution_count": 32,
   "metadata": {},
   "outputs": [
    {
     "data": {
      "text/html": [
       "<div>\n",
       "<style scoped>\n",
       "    .dataframe tbody tr th:only-of-type {\n",
       "        vertical-align: middle;\n",
       "    }\n",
       "\n",
       "    .dataframe tbody tr th {\n",
       "        vertical-align: top;\n",
       "    }\n",
       "\n",
       "    .dataframe thead th {\n",
       "        text-align: right;\n",
       "    }\n",
       "</style>\n",
       "<table border=\"1\" class=\"dataframe\">\n",
       "  <thead>\n",
       "    <tr style=\"text-align: right;\">\n",
       "      <th></th>\n",
       "      <th>t_dat</th>\n",
       "      <th>customer_id</th>\n",
       "      <th>article_id</th>\n",
       "      <th>price</th>\n",
       "      <th>sales_channel_id</th>\n",
       "      <th>spring</th>\n",
       "      <th>summer</th>\n",
       "      <th>fall</th>\n",
       "      <th>winter</th>\n",
       "      <th>week</th>\n",
       "    </tr>\n",
       "  </thead>\n",
       "  <tbody>\n",
       "    <tr>\n",
       "      <th>26628568</th>\n",
       "      <td>2020-07-16</td>\n",
       "      <td>1520973890714130</td>\n",
       "      <td>808691001</td>\n",
       "      <td>0.025407</td>\n",
       "      <td>2</td>\n",
       "      <td>371</td>\n",
       "      <td>892</td>\n",
       "      <td>111</td>\n",
       "      <td>0</td>\n",
       "      <td>95</td>\n",
       "    </tr>\n",
       "    <tr>\n",
       "      <th>26628122</th>\n",
       "      <td>2020-07-16</td>\n",
       "      <td>1827730561464445</td>\n",
       "      <td>764621001</td>\n",
       "      <td>0.011847</td>\n",
       "      <td>2</td>\n",
       "      <td>778</td>\n",
       "      <td>1735</td>\n",
       "      <td>626</td>\n",
       "      <td>504</td>\n",
       "      <td>95</td>\n",
       "    </tr>\n",
       "    <tr>\n",
       "      <th>26626529</th>\n",
       "      <td>2020-07-16</td>\n",
       "      <td>2269114073915007</td>\n",
       "      <td>876416001</td>\n",
       "      <td>0.022017</td>\n",
       "      <td>1</td>\n",
       "      <td>0</td>\n",
       "      <td>31</td>\n",
       "      <td>122</td>\n",
       "      <td>0</td>\n",
       "      <td>95</td>\n",
       "    </tr>\n",
       "    <tr>\n",
       "      <th>26653971</th>\n",
       "      <td>2020-07-16</td>\n",
       "      <td>5082210391606505</td>\n",
       "      <td>892254002</td>\n",
       "      <td>0.050831</td>\n",
       "      <td>2</td>\n",
       "      <td>0</td>\n",
       "      <td>45</td>\n",
       "      <td>123</td>\n",
       "      <td>0</td>\n",
       "      <td>95</td>\n",
       "    </tr>\n",
       "    <tr>\n",
       "      <th>26628186</th>\n",
       "      <td>2020-07-16</td>\n",
       "      <td>6930054433895293</td>\n",
       "      <td>624486091</td>\n",
       "      <td>0.010153</td>\n",
       "      <td>1</td>\n",
       "      <td>0</td>\n",
       "      <td>15</td>\n",
       "      <td>224</td>\n",
       "      <td>0</td>\n",
       "      <td>95</td>\n",
       "    </tr>\n",
       "    <tr>\n",
       "      <th>...</th>\n",
       "      <td>...</td>\n",
       "      <td>...</td>\n",
       "      <td>...</td>\n",
       "      <td>...</td>\n",
       "      <td>...</td>\n",
       "      <td>...</td>\n",
       "      <td>...</td>\n",
       "      <td>...</td>\n",
       "      <td>...</td>\n",
       "      <td>...</td>\n",
       "    </tr>\n",
       "    <tr>\n",
       "      <th>29301924</th>\n",
       "      <td>2020-09-22</td>\n",
       "      <td>18435221511488011015</td>\n",
       "      <td>573085055</td>\n",
       "      <td>0.033881</td>\n",
       "      <td>1</td>\n",
       "      <td>0</td>\n",
       "      <td>0</td>\n",
       "      <td>569</td>\n",
       "      <td>0</td>\n",
       "      <td>104</td>\n",
       "    </tr>\n",
       "    <tr>\n",
       "      <th>29323970</th>\n",
       "      <td>2020-09-22</td>\n",
       "      <td>18436859303155335645</td>\n",
       "      <td>801447001</td>\n",
       "      <td>0.030492</td>\n",
       "      <td>1</td>\n",
       "      <td>19</td>\n",
       "      <td>27</td>\n",
       "      <td>1532</td>\n",
       "      <td>82</td>\n",
       "      <td>104</td>\n",
       "    </tr>\n",
       "    <tr>\n",
       "      <th>29328987</th>\n",
       "      <td>2020-09-22</td>\n",
       "      <td>18437941771381362708</td>\n",
       "      <td>907188001</td>\n",
       "      <td>0.050831</td>\n",
       "      <td>2</td>\n",
       "      <td>0</td>\n",
       "      <td>0</td>\n",
       "      <td>642</td>\n",
       "      <td>0</td>\n",
       "      <td>104</td>\n",
       "    </tr>\n",
       "    <tr>\n",
       "      <th>29317758</th>\n",
       "      <td>2020-09-22</td>\n",
       "      <td>18438270306572912089</td>\n",
       "      <td>751471043</td>\n",
       "      <td>0.033881</td>\n",
       "      <td>1</td>\n",
       "      <td>0</td>\n",
       "      <td>0</td>\n",
       "      <td>647</td>\n",
       "      <td>0</td>\n",
       "      <td>104</td>\n",
       "    </tr>\n",
       "    <tr>\n",
       "      <th>29320833</th>\n",
       "      <td>2020-09-22</td>\n",
       "      <td>18440902715633436014</td>\n",
       "      <td>918894002</td>\n",
       "      <td>0.016932</td>\n",
       "      <td>1</td>\n",
       "      <td>0</td>\n",
       "      <td>0</td>\n",
       "      <td>647</td>\n",
       "      <td>0</td>\n",
       "      <td>104</td>\n",
       "    </tr>\n",
       "  </tbody>\n",
       "</table>\n",
       "<p>742269 rows × 10 columns</p>\n",
       "</div>"
      ],
      "text/plain": [
       "              t_dat           customer_id  article_id     price  \\\n",
       "26628568 2020-07-16      1520973890714130   808691001  0.025407   \n",
       "26628122 2020-07-16      1827730561464445   764621001  0.011847   \n",
       "26626529 2020-07-16      2269114073915007   876416001  0.022017   \n",
       "26653971 2020-07-16      5082210391606505   892254002  0.050831   \n",
       "26628186 2020-07-16      6930054433895293   624486091  0.010153   \n",
       "...             ...                   ...         ...       ...   \n",
       "29301924 2020-09-22  18435221511488011015   573085055  0.033881   \n",
       "29323970 2020-09-22  18436859303155335645   801447001  0.030492   \n",
       "29328987 2020-09-22  18437941771381362708   907188001  0.050831   \n",
       "29317758 2020-09-22  18438270306572912089   751471043  0.033881   \n",
       "29320833 2020-09-22  18440902715633436014   918894002  0.016932   \n",
       "\n",
       "          sales_channel_id  spring  summer  fall  winter  week  \n",
       "26628568                 2     371     892   111       0    95  \n",
       "26628122                 2     778    1735   626     504    95  \n",
       "26626529                 1       0      31   122       0    95  \n",
       "26653971                 2       0      45   123       0    95  \n",
       "26628186                 1       0      15   224       0    95  \n",
       "...                    ...     ...     ...   ...     ...   ...  \n",
       "29301924                 1       0       0   569       0   104  \n",
       "29323970                 1      19      27  1532      82   104  \n",
       "29328987                 2       0       0   642       0   104  \n",
       "29317758                 1       0       0   647       0   104  \n",
       "29320833                 1       0       0   647       0   104  \n",
       "\n",
       "[742269 rows x 10 columns]"
      ]
     },
     "execution_count": 32,
     "metadata": {},
     "output_type": "execute_result"
    }
   ],
   "source": [
    "transactions.drop_duplicates(['week', 'customer_id'])"
   ]
  },
  {
   "cell_type": "code",
   "execution_count": 33,
   "metadata": {},
   "outputs": [],
   "source": [
    "candidates_bestsellers = pd.merge(\n",
    "    unique_transactions,\n",
    "    bestsellers_previous_week,\n",
    "    on='week',\n",
    ")"
   ]
  },
  {
   "cell_type": "code",
   "execution_count": 34,
   "metadata": {},
   "outputs": [],
   "source": [
    "test_set_transactions = unique_transactions.drop_duplicates('customer_id').reset_index(drop=True)\n",
    "test_set_transactions.week = test_week"
   ]
  },
  {
   "cell_type": "code",
   "execution_count": 35,
   "metadata": {},
   "outputs": [
    {
     "data": {
      "text/html": [
       "<div>\n",
       "<style scoped>\n",
       "    .dataframe tbody tr th:only-of-type {\n",
       "        vertical-align: middle;\n",
       "    }\n",
       "\n",
       "    .dataframe tbody tr th {\n",
       "        vertical-align: top;\n",
       "    }\n",
       "\n",
       "    .dataframe thead th {\n",
       "        text-align: right;\n",
       "    }\n",
       "</style>\n",
       "<table border=\"1\" class=\"dataframe\">\n",
       "  <thead>\n",
       "    <tr style=\"text-align: right;\">\n",
       "      <th></th>\n",
       "      <th>t_dat</th>\n",
       "      <th>customer_id</th>\n",
       "      <th>sales_channel_id</th>\n",
       "      <th>spring</th>\n",
       "      <th>summer</th>\n",
       "      <th>fall</th>\n",
       "      <th>winter</th>\n",
       "      <th>week</th>\n",
       "    </tr>\n",
       "  </thead>\n",
       "  <tbody>\n",
       "    <tr>\n",
       "      <th>0</th>\n",
       "      <td>2020-07-16</td>\n",
       "      <td>1520973890714130</td>\n",
       "      <td>2</td>\n",
       "      <td>371</td>\n",
       "      <td>892</td>\n",
       "      <td>111</td>\n",
       "      <td>0</td>\n",
       "      <td>105</td>\n",
       "    </tr>\n",
       "    <tr>\n",
       "      <th>1</th>\n",
       "      <td>2020-07-16</td>\n",
       "      <td>1827730561464445</td>\n",
       "      <td>2</td>\n",
       "      <td>778</td>\n",
       "      <td>1735</td>\n",
       "      <td>626</td>\n",
       "      <td>504</td>\n",
       "      <td>105</td>\n",
       "    </tr>\n",
       "    <tr>\n",
       "      <th>2</th>\n",
       "      <td>2020-07-16</td>\n",
       "      <td>2269114073915007</td>\n",
       "      <td>1</td>\n",
       "      <td>0</td>\n",
       "      <td>31</td>\n",
       "      <td>122</td>\n",
       "      <td>0</td>\n",
       "      <td>105</td>\n",
       "    </tr>\n",
       "    <tr>\n",
       "      <th>3</th>\n",
       "      <td>2020-07-16</td>\n",
       "      <td>5082210391606505</td>\n",
       "      <td>2</td>\n",
       "      <td>0</td>\n",
       "      <td>45</td>\n",
       "      <td>123</td>\n",
       "      <td>0</td>\n",
       "      <td>105</td>\n",
       "    </tr>\n",
       "    <tr>\n",
       "      <th>4</th>\n",
       "      <td>2020-07-16</td>\n",
       "      <td>6930054433895293</td>\n",
       "      <td>1</td>\n",
       "      <td>0</td>\n",
       "      <td>15</td>\n",
       "      <td>224</td>\n",
       "      <td>0</td>\n",
       "      <td>105</td>\n",
       "    </tr>\n",
       "    <tr>\n",
       "      <th>...</th>\n",
       "      <td>...</td>\n",
       "      <td>...</td>\n",
       "      <td>...</td>\n",
       "      <td>...</td>\n",
       "      <td>...</td>\n",
       "      <td>...</td>\n",
       "      <td>...</td>\n",
       "      <td>...</td>\n",
       "    </tr>\n",
       "    <tr>\n",
       "      <th>432671</th>\n",
       "      <td>2020-09-22</td>\n",
       "      <td>18410229429441241008</td>\n",
       "      <td>2</td>\n",
       "      <td>0</td>\n",
       "      <td>0</td>\n",
       "      <td>593</td>\n",
       "      <td>0</td>\n",
       "      <td>105</td>\n",
       "    </tr>\n",
       "    <tr>\n",
       "      <th>432672</th>\n",
       "      <td>2020-09-22</td>\n",
       "      <td>18417769707947924979</td>\n",
       "      <td>2</td>\n",
       "      <td>1629</td>\n",
       "      <td>1763</td>\n",
       "      <td>1008</td>\n",
       "      <td>626</td>\n",
       "      <td>105</td>\n",
       "    </tr>\n",
       "    <tr>\n",
       "      <th>432673</th>\n",
       "      <td>2020-09-22</td>\n",
       "      <td>18418054986721795659</td>\n",
       "      <td>2</td>\n",
       "      <td>0</td>\n",
       "      <td>0</td>\n",
       "      <td>476</td>\n",
       "      <td>0</td>\n",
       "      <td>105</td>\n",
       "    </tr>\n",
       "    <tr>\n",
       "      <th>432674</th>\n",
       "      <td>2020-09-22</td>\n",
       "      <td>18421175435799911749</td>\n",
       "      <td>2</td>\n",
       "      <td>0</td>\n",
       "      <td>0</td>\n",
       "      <td>647</td>\n",
       "      <td>0</td>\n",
       "      <td>105</td>\n",
       "    </tr>\n",
       "    <tr>\n",
       "      <th>432675</th>\n",
       "      <td>2020-09-22</td>\n",
       "      <td>18438270306572912089</td>\n",
       "      <td>1</td>\n",
       "      <td>0</td>\n",
       "      <td>0</td>\n",
       "      <td>647</td>\n",
       "      <td>0</td>\n",
       "      <td>105</td>\n",
       "    </tr>\n",
       "  </tbody>\n",
       "</table>\n",
       "<p>432676 rows × 8 columns</p>\n",
       "</div>"
      ],
      "text/plain": [
       "            t_dat           customer_id  sales_channel_id  spring  summer  \\\n",
       "0      2020-07-16      1520973890714130                 2     371     892   \n",
       "1      2020-07-16      1827730561464445                 2     778    1735   \n",
       "2      2020-07-16      2269114073915007                 1       0      31   \n",
       "3      2020-07-16      5082210391606505                 2       0      45   \n",
       "4      2020-07-16      6930054433895293                 1       0      15   \n",
       "...           ...                   ...               ...     ...     ...   \n",
       "432671 2020-09-22  18410229429441241008                 2       0       0   \n",
       "432672 2020-09-22  18417769707947924979                 2    1629    1763   \n",
       "432673 2020-09-22  18418054986721795659                 2       0       0   \n",
       "432674 2020-09-22  18421175435799911749                 2       0       0   \n",
       "432675 2020-09-22  18438270306572912089                 1       0       0   \n",
       "\n",
       "        fall  winter  week  \n",
       "0        111       0   105  \n",
       "1        626     504   105  \n",
       "2        122       0   105  \n",
       "3        123       0   105  \n",
       "4        224       0   105  \n",
       "...      ...     ...   ...  \n",
       "432671   593       0   105  \n",
       "432672  1008     626   105  \n",
       "432673   476       0   105  \n",
       "432674   647       0   105  \n",
       "432675   647       0   105  \n",
       "\n",
       "[432676 rows x 8 columns]"
      ]
     },
     "execution_count": 35,
     "metadata": {},
     "output_type": "execute_result"
    }
   ],
   "source": [
    "test_set_transactions"
   ]
  },
  {
   "cell_type": "code",
   "execution_count": 36,
   "metadata": {},
   "outputs": [],
   "source": [
    "candidates_bestsellers_test_week = pd.merge(\n",
    "    test_set_transactions,\n",
    "    bestsellers_previous_week,\n",
    "    on='week'\n",
    ")"
   ]
  },
  {
   "cell_type": "code",
   "execution_count": 37,
   "metadata": {},
   "outputs": [],
   "source": [
    "candidates_bestsellers = pd.concat([candidates_bestsellers, candidates_bestsellers_test_week])\n",
    "candidates_bestsellers.drop(columns='bestseller_rank', inplace=True)"
   ]
  },
  {
   "cell_type": "code",
   "execution_count": 38,
   "metadata": {},
   "outputs": [
    {
     "data": {
      "text/html": [
       "<div>\n",
       "<style scoped>\n",
       "    .dataframe tbody tr th:only-of-type {\n",
       "        vertical-align: middle;\n",
       "    }\n",
       "\n",
       "    .dataframe tbody tr th {\n",
       "        vertical-align: top;\n",
       "    }\n",
       "\n",
       "    .dataframe thead th {\n",
       "        text-align: right;\n",
       "    }\n",
       "</style>\n",
       "<table border=\"1\" class=\"dataframe\">\n",
       "  <thead>\n",
       "    <tr style=\"text-align: right;\">\n",
       "      <th></th>\n",
       "      <th>t_dat</th>\n",
       "      <th>customer_id</th>\n",
       "      <th>sales_channel_id</th>\n",
       "      <th>spring</th>\n",
       "      <th>summer</th>\n",
       "      <th>fall</th>\n",
       "      <th>winter</th>\n",
       "      <th>week</th>\n",
       "      <th>article_id</th>\n",
       "      <th>price</th>\n",
       "    </tr>\n",
       "  </thead>\n",
       "  <tbody>\n",
       "    <tr>\n",
       "      <th>0</th>\n",
       "      <td>2020-07-23</td>\n",
       "      <td>375055163245029</td>\n",
       "      <td>2</td>\n",
       "      <td>1800</td>\n",
       "      <td>1688</td>\n",
       "      <td>1547</td>\n",
       "      <td>1421</td>\n",
       "      <td>96</td>\n",
       "      <td>866731001</td>\n",
       "      <td>0.024921</td>\n",
       "    </tr>\n",
       "    <tr>\n",
       "      <th>1</th>\n",
       "      <td>2020-07-23</td>\n",
       "      <td>375055163245029</td>\n",
       "      <td>2</td>\n",
       "      <td>1800</td>\n",
       "      <td>1688</td>\n",
       "      <td>1547</td>\n",
       "      <td>1421</td>\n",
       "      <td>96</td>\n",
       "      <td>760084003</td>\n",
       "      <td>0.025112</td>\n",
       "    </tr>\n",
       "    <tr>\n",
       "      <th>2</th>\n",
       "      <td>2020-07-23</td>\n",
       "      <td>375055163245029</td>\n",
       "      <td>2</td>\n",
       "      <td>1800</td>\n",
       "      <td>1688</td>\n",
       "      <td>1547</td>\n",
       "      <td>1421</td>\n",
       "      <td>96</td>\n",
       "      <td>600886001</td>\n",
       "      <td>0.023237</td>\n",
       "    </tr>\n",
       "    <tr>\n",
       "      <th>3</th>\n",
       "      <td>2020-07-23</td>\n",
       "      <td>375055163245029</td>\n",
       "      <td>2</td>\n",
       "      <td>1800</td>\n",
       "      <td>1688</td>\n",
       "      <td>1547</td>\n",
       "      <td>1421</td>\n",
       "      <td>96</td>\n",
       "      <td>706016001</td>\n",
       "      <td>0.033220</td>\n",
       "    </tr>\n",
       "    <tr>\n",
       "      <th>4</th>\n",
       "      <td>2020-07-23</td>\n",
       "      <td>375055163245029</td>\n",
       "      <td>2</td>\n",
       "      <td>1800</td>\n",
       "      <td>1688</td>\n",
       "      <td>1547</td>\n",
       "      <td>1421</td>\n",
       "      <td>96</td>\n",
       "      <td>610776002</td>\n",
       "      <td>0.008284</td>\n",
       "    </tr>\n",
       "    <tr>\n",
       "      <th>...</th>\n",
       "      <td>...</td>\n",
       "      <td>...</td>\n",
       "      <td>...</td>\n",
       "      <td>...</td>\n",
       "      <td>...</td>\n",
       "      <td>...</td>\n",
       "      <td>...</td>\n",
       "      <td>...</td>\n",
       "      <td>...</td>\n",
       "      <td>...</td>\n",
       "    </tr>\n",
       "    <tr>\n",
       "      <th>5192107</th>\n",
       "      <td>2020-09-22</td>\n",
       "      <td>18438270306572912089</td>\n",
       "      <td>1</td>\n",
       "      <td>0</td>\n",
       "      <td>0</td>\n",
       "      <td>647</td>\n",
       "      <td>0</td>\n",
       "      <td>105</td>\n",
       "      <td>915529005</td>\n",
       "      <td>0.033418</td>\n",
       "    </tr>\n",
       "    <tr>\n",
       "      <th>5192108</th>\n",
       "      <td>2020-09-22</td>\n",
       "      <td>18438270306572912089</td>\n",
       "      <td>1</td>\n",
       "      <td>0</td>\n",
       "      <td>0</td>\n",
       "      <td>647</td>\n",
       "      <td>0</td>\n",
       "      <td>105</td>\n",
       "      <td>915529003</td>\n",
       "      <td>0.033438</td>\n",
       "    </tr>\n",
       "    <tr>\n",
       "      <th>5192109</th>\n",
       "      <td>2020-09-22</td>\n",
       "      <td>18438270306572912089</td>\n",
       "      <td>1</td>\n",
       "      <td>0</td>\n",
       "      <td>0</td>\n",
       "      <td>647</td>\n",
       "      <td>0</td>\n",
       "      <td>105</td>\n",
       "      <td>714790020</td>\n",
       "      <td>0.050074</td>\n",
       "    </tr>\n",
       "    <tr>\n",
       "      <th>5192110</th>\n",
       "      <td>2020-09-22</td>\n",
       "      <td>18438270306572912089</td>\n",
       "      <td>1</td>\n",
       "      <td>0</td>\n",
       "      <td>0</td>\n",
       "      <td>647</td>\n",
       "      <td>0</td>\n",
       "      <td>105</td>\n",
       "      <td>448509014</td>\n",
       "      <td>0.041563</td>\n",
       "    </tr>\n",
       "    <tr>\n",
       "      <th>5192111</th>\n",
       "      <td>2020-09-22</td>\n",
       "      <td>18438270306572912089</td>\n",
       "      <td>1</td>\n",
       "      <td>0</td>\n",
       "      <td>0</td>\n",
       "      <td>647</td>\n",
       "      <td>0</td>\n",
       "      <td>105</td>\n",
       "      <td>762846027</td>\n",
       "      <td>0.025031</td>\n",
       "    </tr>\n",
       "  </tbody>\n",
       "</table>\n",
       "<p>13185516 rows × 10 columns</p>\n",
       "</div>"
      ],
      "text/plain": [
       "             t_dat           customer_id  sales_channel_id  spring  summer  \\\n",
       "0       2020-07-23       375055163245029                 2    1800    1688   \n",
       "1       2020-07-23       375055163245029                 2    1800    1688   \n",
       "2       2020-07-23       375055163245029                 2    1800    1688   \n",
       "3       2020-07-23       375055163245029                 2    1800    1688   \n",
       "4       2020-07-23       375055163245029                 2    1800    1688   \n",
       "...            ...                   ...               ...     ...     ...   \n",
       "5192107 2020-09-22  18438270306572912089                 1       0       0   \n",
       "5192108 2020-09-22  18438270306572912089                 1       0       0   \n",
       "5192109 2020-09-22  18438270306572912089                 1       0       0   \n",
       "5192110 2020-09-22  18438270306572912089                 1       0       0   \n",
       "5192111 2020-09-22  18438270306572912089                 1       0       0   \n",
       "\n",
       "         fall  winter  week  article_id     price  \n",
       "0        1547    1421    96   866731001  0.024921  \n",
       "1        1547    1421    96   760084003  0.025112  \n",
       "2        1547    1421    96   600886001  0.023237  \n",
       "3        1547    1421    96   706016001  0.033220  \n",
       "4        1547    1421    96   610776002  0.008284  \n",
       "...       ...     ...   ...         ...       ...  \n",
       "5192107   647       0   105   915529005  0.033418  \n",
       "5192108   647       0   105   915529003  0.033438  \n",
       "5192109   647       0   105   714790020  0.050074  \n",
       "5192110   647       0   105   448509014  0.041563  \n",
       "5192111   647       0   105   762846027  0.025031  \n",
       "\n",
       "[13185516 rows x 10 columns]"
      ]
     },
     "execution_count": 38,
     "metadata": {},
     "output_type": "execute_result"
    }
   ],
   "source": [
    "candidates_bestsellers"
   ]
  },
  {
   "cell_type": "markdown",
   "metadata": {},
   "source": [
    "# Combining transactions and candidates / negative examples"
   ]
  },
  {
   "cell_type": "code",
   "execution_count": 39,
   "metadata": {},
   "outputs": [],
   "source": [
    "transactions['purchased'] = 1"
   ]
  },
  {
   "cell_type": "code",
   "execution_count": 40,
   "metadata": {},
   "outputs": [],
   "source": [
    "data = pd.concat([transactions, candidates_last_purchase, candidates_bestsellers])\n",
    "data.purchased.fillna(0, inplace=True)"
   ]
  },
  {
   "cell_type": "code",
   "execution_count": 41,
   "metadata": {},
   "outputs": [
    {
     "data": {
      "text/html": [
       "<div>\n",
       "<style scoped>\n",
       "    .dataframe tbody tr th:only-of-type {\n",
       "        vertical-align: middle;\n",
       "    }\n",
       "\n",
       "    .dataframe tbody tr th {\n",
       "        vertical-align: top;\n",
       "    }\n",
       "\n",
       "    .dataframe thead th {\n",
       "        text-align: right;\n",
       "    }\n",
       "</style>\n",
       "<table border=\"1\" class=\"dataframe\">\n",
       "  <thead>\n",
       "    <tr style=\"text-align: right;\">\n",
       "      <th></th>\n",
       "      <th>t_dat</th>\n",
       "      <th>customer_id</th>\n",
       "      <th>article_id</th>\n",
       "      <th>price</th>\n",
       "      <th>sales_channel_id</th>\n",
       "      <th>spring</th>\n",
       "      <th>summer</th>\n",
       "      <th>fall</th>\n",
       "      <th>winter</th>\n",
       "      <th>week</th>\n",
       "      <th>purchased</th>\n",
       "    </tr>\n",
       "  </thead>\n",
       "  <tbody>\n",
       "    <tr>\n",
       "      <th>26628568</th>\n",
       "      <td>2020-07-16</td>\n",
       "      <td>1520973890714130</td>\n",
       "      <td>808691001</td>\n",
       "      <td>0.025407</td>\n",
       "      <td>2</td>\n",
       "      <td>371</td>\n",
       "      <td>892</td>\n",
       "      <td>111</td>\n",
       "      <td>0</td>\n",
       "      <td>95</td>\n",
       "      <td>1.0</td>\n",
       "    </tr>\n",
       "    <tr>\n",
       "      <th>26628122</th>\n",
       "      <td>2020-07-16</td>\n",
       "      <td>1827730561464445</td>\n",
       "      <td>764621001</td>\n",
       "      <td>0.011847</td>\n",
       "      <td>2</td>\n",
       "      <td>778</td>\n",
       "      <td>1735</td>\n",
       "      <td>626</td>\n",
       "      <td>504</td>\n",
       "      <td>95</td>\n",
       "      <td>1.0</td>\n",
       "    </tr>\n",
       "    <tr>\n",
       "      <th>26628123</th>\n",
       "      <td>2020-07-16</td>\n",
       "      <td>1827730561464445</td>\n",
       "      <td>764621001</td>\n",
       "      <td>0.011847</td>\n",
       "      <td>2</td>\n",
       "      <td>778</td>\n",
       "      <td>1735</td>\n",
       "      <td>626</td>\n",
       "      <td>504</td>\n",
       "      <td>95</td>\n",
       "      <td>1.0</td>\n",
       "    </tr>\n",
       "    <tr>\n",
       "      <th>26628124</th>\n",
       "      <td>2020-07-16</td>\n",
       "      <td>1827730561464445</td>\n",
       "      <td>890683001</td>\n",
       "      <td>0.050831</td>\n",
       "      <td>2</td>\n",
       "      <td>0</td>\n",
       "      <td>850</td>\n",
       "      <td>594</td>\n",
       "      <td>0</td>\n",
       "      <td>95</td>\n",
       "      <td>1.0</td>\n",
       "    </tr>\n",
       "    <tr>\n",
       "      <th>26628125</th>\n",
       "      <td>2020-07-16</td>\n",
       "      <td>1827730561464445</td>\n",
       "      <td>890683001</td>\n",
       "      <td>0.050831</td>\n",
       "      <td>2</td>\n",
       "      <td>0</td>\n",
       "      <td>850</td>\n",
       "      <td>594</td>\n",
       "      <td>0</td>\n",
       "      <td>95</td>\n",
       "      <td>1.0</td>\n",
       "    </tr>\n",
       "    <tr>\n",
       "      <th>...</th>\n",
       "      <td>...</td>\n",
       "      <td>...</td>\n",
       "      <td>...</td>\n",
       "      <td>...</td>\n",
       "      <td>...</td>\n",
       "      <td>...</td>\n",
       "      <td>...</td>\n",
       "      <td>...</td>\n",
       "      <td>...</td>\n",
       "      <td>...</td>\n",
       "      <td>...</td>\n",
       "    </tr>\n",
       "    <tr>\n",
       "      <th>5192107</th>\n",
       "      <td>2020-09-22</td>\n",
       "      <td>18438270306572912089</td>\n",
       "      <td>915529005</td>\n",
       "      <td>0.033418</td>\n",
       "      <td>1</td>\n",
       "      <td>0</td>\n",
       "      <td>0</td>\n",
       "      <td>647</td>\n",
       "      <td>0</td>\n",
       "      <td>105</td>\n",
       "      <td>0.0</td>\n",
       "    </tr>\n",
       "    <tr>\n",
       "      <th>5192108</th>\n",
       "      <td>2020-09-22</td>\n",
       "      <td>18438270306572912089</td>\n",
       "      <td>915529003</td>\n",
       "      <td>0.033438</td>\n",
       "      <td>1</td>\n",
       "      <td>0</td>\n",
       "      <td>0</td>\n",
       "      <td>647</td>\n",
       "      <td>0</td>\n",
       "      <td>105</td>\n",
       "      <td>0.0</td>\n",
       "    </tr>\n",
       "    <tr>\n",
       "      <th>5192109</th>\n",
       "      <td>2020-09-22</td>\n",
       "      <td>18438270306572912089</td>\n",
       "      <td>714790020</td>\n",
       "      <td>0.050074</td>\n",
       "      <td>1</td>\n",
       "      <td>0</td>\n",
       "      <td>0</td>\n",
       "      <td>647</td>\n",
       "      <td>0</td>\n",
       "      <td>105</td>\n",
       "      <td>0.0</td>\n",
       "    </tr>\n",
       "    <tr>\n",
       "      <th>5192110</th>\n",
       "      <td>2020-09-22</td>\n",
       "      <td>18438270306572912089</td>\n",
       "      <td>448509014</td>\n",
       "      <td>0.041563</td>\n",
       "      <td>1</td>\n",
       "      <td>0</td>\n",
       "      <td>0</td>\n",
       "      <td>647</td>\n",
       "      <td>0</td>\n",
       "      <td>105</td>\n",
       "      <td>0.0</td>\n",
       "    </tr>\n",
       "    <tr>\n",
       "      <th>5192111</th>\n",
       "      <td>2020-09-22</td>\n",
       "      <td>18438270306572912089</td>\n",
       "      <td>762846027</td>\n",
       "      <td>0.025031</td>\n",
       "      <td>1</td>\n",
       "      <td>0</td>\n",
       "      <td>0</td>\n",
       "      <td>647</td>\n",
       "      <td>0</td>\n",
       "      <td>105</td>\n",
       "      <td>0.0</td>\n",
       "    </tr>\n",
       "  </tbody>\n",
       "</table>\n",
       "<p>18608486 rows × 11 columns</p>\n",
       "</div>"
      ],
      "text/plain": [
       "              t_dat           customer_id  article_id     price  \\\n",
       "26628568 2020-07-16      1520973890714130   808691001  0.025407   \n",
       "26628122 2020-07-16      1827730561464445   764621001  0.011847   \n",
       "26628123 2020-07-16      1827730561464445   764621001  0.011847   \n",
       "26628124 2020-07-16      1827730561464445   890683001  0.050831   \n",
       "26628125 2020-07-16      1827730561464445   890683001  0.050831   \n",
       "...             ...                   ...         ...       ...   \n",
       "5192107  2020-09-22  18438270306572912089   915529005  0.033418   \n",
       "5192108  2020-09-22  18438270306572912089   915529003  0.033438   \n",
       "5192109  2020-09-22  18438270306572912089   714790020  0.050074   \n",
       "5192110  2020-09-22  18438270306572912089   448509014  0.041563   \n",
       "5192111  2020-09-22  18438270306572912089   762846027  0.025031   \n",
       "\n",
       "          sales_channel_id  spring  summer  fall  winter  week  purchased  \n",
       "26628568                 2     371     892   111       0    95        1.0  \n",
       "26628122                 2     778    1735   626     504    95        1.0  \n",
       "26628123                 2     778    1735   626     504    95        1.0  \n",
       "26628124                 2       0     850   594       0    95        1.0  \n",
       "26628125                 2       0     850   594       0    95        1.0  \n",
       "...                    ...     ...     ...   ...     ...   ...        ...  \n",
       "5192107                  1       0       0   647       0   105        0.0  \n",
       "5192108                  1       0       0   647       0   105        0.0  \n",
       "5192109                  1       0       0   647       0   105        0.0  \n",
       "5192110                  1       0       0   647       0   105        0.0  \n",
       "5192111                  1       0       0   647       0   105        0.0  \n",
       "\n",
       "[18608486 rows x 11 columns]"
      ]
     },
     "execution_count": 41,
     "metadata": {},
     "output_type": "execute_result"
    }
   ],
   "source": [
    "data"
   ]
  },
  {
   "cell_type": "code",
   "execution_count": 42,
   "metadata": {},
   "outputs": [],
   "source": [
    "data.drop_duplicates(['customer_id', 'article_id', 'week'], inplace=True)"
   ]
  },
  {
   "cell_type": "code",
   "execution_count": 43,
   "metadata": {},
   "outputs": [
    {
     "data": {
      "text/plain": [
       "0.13569719100413363"
      ]
     },
     "execution_count": 43,
     "metadata": {},
     "output_type": "execute_result"
    }
   ],
   "source": [
    "data.purchased.mean()"
   ]
  },
  {
   "cell_type": "markdown",
   "metadata": {},
   "source": [
    "### Add bestseller information"
   ]
  },
  {
   "cell_type": "code",
   "execution_count": 44,
   "metadata": {},
   "outputs": [],
   "source": [
    "data = pd.merge(\n",
    "    data,\n",
    "    bestsellers_previous_week[['week', 'article_id', 'bestseller_rank']],\n",
    "    on=['week', 'article_id'],\n",
    "    how='left'\n",
    ")"
   ]
  },
  {
   "cell_type": "code",
   "execution_count": 45,
   "metadata": {},
   "outputs": [],
   "source": [
    "data = data[data.week != data.week.min()]\n",
    "data.bestseller_rank.fillna(999, inplace=True)"
   ]
  },
  {
   "cell_type": "code",
   "execution_count": 46,
   "metadata": {},
   "outputs": [],
   "source": [
    "data = pd.merge(data, articles, on='article_id', how='left')\n",
    "data = pd.merge(data, customers, on='customer_id', how='left')"
   ]
  },
  {
   "cell_type": "code",
   "execution_count": 47,
   "metadata": {},
   "outputs": [],
   "source": [
    "data.sort_values(['week', 'customer_id'], inplace=True)\n",
    "data.reset_index(drop=True, inplace=True)"
   ]
  },
  {
   "cell_type": "code",
   "execution_count": 48,
   "metadata": {},
   "outputs": [
    {
     "data": {
      "text/plain": [
       "Index(['t_dat', 'customer_id', 'article_id', 'price', 'sales_channel_id',\n",
       "       'spring', 'summer', 'fall', 'winter', 'week', 'purchased',\n",
       "       'bestseller_rank', 'product_code', 'prod_name', 'product_type_no',\n",
       "       'product_type_name', 'product_group_name', 'graphical_appearance_no',\n",
       "       'graphical_appearance_name', 'colour_group_code', 'colour_group_name',\n",
       "       'perceived_colour_value_id', 'perceived_colour_value_name',\n",
       "       'perceived_colour_master_id', 'perceived_colour_master_name',\n",
       "       'department_no', 'department_name', 'index_code', 'index_name',\n",
       "       'index_group_no', 'index_group_name', 'section_no', 'section_name',\n",
       "       'garment_group_no', 'garment_group_name', 'detail_desc', 'gender_score',\n",
       "       'unique_customer_popularity', 'FN', 'Active', 'club_member_status',\n",
       "       'fashion_news_frequency', 'age', 'postal_code', 'age_group', 'gender'],\n",
       "      dtype='object')"
      ]
     },
     "execution_count": 48,
     "metadata": {},
     "output_type": "execute_result"
    }
   ],
   "source": [
    "data.columns"
   ]
  },
  {
   "cell_type": "code",
   "execution_count": 49,
   "metadata": {},
   "outputs": [],
   "source": [
    "train = data[data.week != test_week]\n",
    "test = data[data.week==test_week].drop_duplicates(['customer_id', 'article_id', 'sales_channel_id']).copy()"
   ]
  },
  {
   "cell_type": "code",
   "execution_count": 50,
   "metadata": {},
   "outputs": [],
   "source": [
    "train_baskets = train.groupby(['week', 'customer_id'])['article_id'].count().values"
   ]
  },
  {
   "cell_type": "code",
   "execution_count": 51,
   "metadata": {},
   "outputs": [],
   "source": [
    "columns_to_use = ['article_id', 'product_type_no', 'graphical_appearance_no', 'colour_group_code', 'perceived_colour_value_id',\n",
    "'perceived_colour_master_id', 'department_no', 'index_code',\n",
    "'index_group_no', 'section_no', 'garment_group_no', 'FN', 'Active',\n",
    "'club_member_status', 'fashion_news_frequency', 'age', 'postal_code', 'bestseller_rank', 'age_group', 'gender', 'gender_score', 'spring', 'summer', 'fall', 'winter', 'unique_customer_popularity']"
   ]
  },
  {
   "cell_type": "code",
   "execution_count": 52,
   "metadata": {},
   "outputs": [
    {
     "name": "stdout",
     "output_type": "stream",
     "text": [
      "CPU times: total: 312 ms\n",
      "Wall time: 316 ms\n"
     ]
    }
   ],
   "source": [
    "%%time\n",
    "\n",
    "train_X = train[columns_to_use]\n",
    "train_y = train['purchased']\n",
    "\n",
    "test_X = test[columns_to_use]"
   ]
  },
  {
   "cell_type": "code",
   "execution_count": 53,
   "metadata": {},
   "outputs": [
    {
     "data": {
      "text/html": [
       "<div>\n",
       "<style scoped>\n",
       "    .dataframe tbody tr th:only-of-type {\n",
       "        vertical-align: middle;\n",
       "    }\n",
       "\n",
       "    .dataframe tbody tr th {\n",
       "        vertical-align: top;\n",
       "    }\n",
       "\n",
       "    .dataframe thead th {\n",
       "        text-align: right;\n",
       "    }\n",
       "</style>\n",
       "<table border=\"1\" class=\"dataframe\">\n",
       "  <thead>\n",
       "    <tr style=\"text-align: right;\">\n",
       "      <th></th>\n",
       "      <th>article_id</th>\n",
       "      <th>product_type_no</th>\n",
       "      <th>graphical_appearance_no</th>\n",
       "      <th>colour_group_code</th>\n",
       "      <th>perceived_colour_value_id</th>\n",
       "      <th>perceived_colour_master_id</th>\n",
       "      <th>department_no</th>\n",
       "      <th>index_code</th>\n",
       "      <th>index_group_no</th>\n",
       "      <th>section_no</th>\n",
       "      <th>...</th>\n",
       "      <th>postal_code</th>\n",
       "      <th>bestseller_rank</th>\n",
       "      <th>age_group</th>\n",
       "      <th>gender</th>\n",
       "      <th>gender_score</th>\n",
       "      <th>spring</th>\n",
       "      <th>summer</th>\n",
       "      <th>fall</th>\n",
       "      <th>winter</th>\n",
       "      <th>unique_customer_popularity</th>\n",
       "    </tr>\n",
       "  </thead>\n",
       "  <tbody>\n",
       "    <tr>\n",
       "      <th>0</th>\n",
       "      <td>887770001</td>\n",
       "      <td>253</td>\n",
       "      <td>1010016</td>\n",
       "      <td>9</td>\n",
       "      <td>4</td>\n",
       "      <td>5</td>\n",
       "      <td>1510</td>\n",
       "      <td>NaN</td>\n",
       "      <td>1</td>\n",
       "      <td>6</td>\n",
       "      <td>...</td>\n",
       "      <td>57896</td>\n",
       "      <td>999.0</td>\n",
       "      <td>20-30</td>\n",
       "      <td>-1</td>\n",
       "      <td>1.0</td>\n",
       "      <td>546</td>\n",
       "      <td>689</td>\n",
       "      <td>388</td>\n",
       "      <td>0</td>\n",
       "      <td>NaN</td>\n",
       "    </tr>\n",
       "    <tr>\n",
       "      <th>1</th>\n",
       "      <td>762846001</td>\n",
       "      <td>259</td>\n",
       "      <td>1010016</td>\n",
       "      <td>10</td>\n",
       "      <td>3</td>\n",
       "      <td>9</td>\n",
       "      <td>1515</td>\n",
       "      <td>NaN</td>\n",
       "      <td>1</td>\n",
       "      <td>11</td>\n",
       "      <td>...</td>\n",
       "      <td>57896</td>\n",
       "      <td>999.0</td>\n",
       "      <td>20-30</td>\n",
       "      <td>-1</td>\n",
       "      <td>1.0</td>\n",
       "      <td>1331</td>\n",
       "      <td>1757</td>\n",
       "      <td>1547</td>\n",
       "      <td>865</td>\n",
       "      <td>NaN</td>\n",
       "    </tr>\n",
       "    <tr>\n",
       "      <th>2</th>\n",
       "      <td>829308001</td>\n",
       "      <td>273</td>\n",
       "      <td>1010016</td>\n",
       "      <td>9</td>\n",
       "      <td>4</td>\n",
       "      <td>5</td>\n",
       "      <td>8310</td>\n",
       "      <td>NaN</td>\n",
       "      <td>26</td>\n",
       "      <td>5</td>\n",
       "      <td>...</td>\n",
       "      <td>57896</td>\n",
       "      <td>999.0</td>\n",
       "      <td>20-30</td>\n",
       "      <td>-1</td>\n",
       "      <td>0.0</td>\n",
       "      <td>0</td>\n",
       "      <td>866</td>\n",
       "      <td>647</td>\n",
       "      <td>0</td>\n",
       "      <td>NaN</td>\n",
       "    </tr>\n",
       "    <tr>\n",
       "      <th>3</th>\n",
       "      <td>866731001</td>\n",
       "      <td>273</td>\n",
       "      <td>1010016</td>\n",
       "      <td>9</td>\n",
       "      <td>4</td>\n",
       "      <td>5</td>\n",
       "      <td>8310</td>\n",
       "      <td>NaN</td>\n",
       "      <td>26</td>\n",
       "      <td>5</td>\n",
       "      <td>...</td>\n",
       "      <td>57896</td>\n",
       "      <td>1.0</td>\n",
       "      <td>20-30</td>\n",
       "      <td>-1</td>\n",
       "      <td>0.0</td>\n",
       "      <td>546</td>\n",
       "      <td>689</td>\n",
       "      <td>388</td>\n",
       "      <td>0</td>\n",
       "      <td>NaN</td>\n",
       "    </tr>\n",
       "    <tr>\n",
       "      <th>4</th>\n",
       "      <td>760084003</td>\n",
       "      <td>272</td>\n",
       "      <td>1010016</td>\n",
       "      <td>9</td>\n",
       "      <td>4</td>\n",
       "      <td>5</td>\n",
       "      <td>1747</td>\n",
       "      <td>0.0</td>\n",
       "      <td>2</td>\n",
       "      <td>53</td>\n",
       "      <td>...</td>\n",
       "      <td>57896</td>\n",
       "      <td>2.0</td>\n",
       "      <td>20-30</td>\n",
       "      <td>-1</td>\n",
       "      <td>0.0</td>\n",
       "      <td>546</td>\n",
       "      <td>689</td>\n",
       "      <td>388</td>\n",
       "      <td>0</td>\n",
       "      <td>3240.0</td>\n",
       "    </tr>\n",
       "  </tbody>\n",
       "</table>\n",
       "<p>5 rows × 26 columns</p>\n",
       "</div>"
      ],
      "text/plain": [
       "   article_id  product_type_no  graphical_appearance_no  colour_group_code  \\\n",
       "0   887770001              253                  1010016                  9   \n",
       "1   762846001              259                  1010016                 10   \n",
       "2   829308001              273                  1010016                  9   \n",
       "3   866731001              273                  1010016                  9   \n",
       "4   760084003              272                  1010016                  9   \n",
       "\n",
       "   perceived_colour_value_id  perceived_colour_master_id  department_no  \\\n",
       "0                          4                           5           1510   \n",
       "1                          3                           9           1515   \n",
       "2                          4                           5           8310   \n",
       "3                          4                           5           8310   \n",
       "4                          4                           5           1747   \n",
       "\n",
       "   index_code  index_group_no  section_no  ...  postal_code  bestseller_rank  \\\n",
       "0         NaN               1           6  ...        57896            999.0   \n",
       "1         NaN               1          11  ...        57896            999.0   \n",
       "2         NaN              26           5  ...        57896            999.0   \n",
       "3         NaN              26           5  ...        57896              1.0   \n",
       "4         0.0               2          53  ...        57896              2.0   \n",
       "\n",
       "   age_group  gender  gender_score  spring  summer  fall winter  \\\n",
       "0      20-30      -1           1.0     546     689   388      0   \n",
       "1      20-30      -1           1.0    1331    1757  1547    865   \n",
       "2      20-30      -1           0.0       0     866   647      0   \n",
       "3      20-30      -1           0.0     546     689   388      0   \n",
       "4      20-30      -1           0.0     546     689   388      0   \n",
       "\n",
       "   unique_customer_popularity  \n",
       "0                         NaN  \n",
       "1                         NaN  \n",
       "2                         NaN  \n",
       "3                         NaN  \n",
       "4                      3240.0  \n",
       "\n",
       "[5 rows x 26 columns]"
      ]
     },
     "execution_count": 53,
     "metadata": {},
     "output_type": "execute_result"
    }
   ],
   "source": [
    "train_X.head()"
   ]
  },
  {
   "cell_type": "markdown",
   "metadata": {},
   "source": [
    "# Model training"
   ]
  },
  {
   "cell_type": "code",
   "execution_count": 54,
   "metadata": {},
   "outputs": [],
   "source": [
    "from lightgbm.sklearn import LGBMRanker"
   ]
  },
  {
   "cell_type": "code",
   "execution_count": 55,
   "metadata": {},
   "outputs": [],
   "source": [
    "ranker = LGBMRanker(\n",
    "    objective=\"lambdarank\",\n",
    "    metric=\"ndcg\",\n",
    "    boosting_type=\"dart\",\n",
    "    n_estimators=1,\n",
    "    importance_type='gain',\n",
    "    verbose=10\n",
    ")"
   ]
  },
  {
   "cell_type": "code",
   "execution_count": 56,
   "metadata": {},
   "outputs": [
    {
     "name": "stdout",
     "output_type": "stream",
     "text": [
      "[LightGBM] [Debug] Dataset::GetMultiBinFromSparseFeatures: sparse rate 0.835338\n",
      "[LightGBM] [Debug] Dataset::GetMultiBinFromAllFeatures: sparse rate 0.172423\n",
      "[LightGBM] [Debug] init for col-wise cost 0.091350 seconds, init for row-wise cost 0.350681 seconds\n",
      "[LightGBM] [Info] Auto-choosing row-wise multi-threading, the overhead of testing was 0.215035 seconds.\n",
      "You can set `force_row_wise=true` to remove the overhead.\n",
      "And if memory is not enough, you can set `force_col_wise=true`.\n",
      "[LightGBM] [Debug] Using Dense Multi-Val Bin\n",
      "[LightGBM] [Info] Total Bins 2369\n",
      "[LightGBM] [Info] Number of data points in the train set: 11162232, number of used features: 26\n",
      "[LightGBM] [Debug] Trained a tree with leaves = 31 and depth = 10\n",
      "CPU times: total: 24.6 s\n",
      "Wall time: 5.04 s\n"
     ]
    }
   ],
   "source": [
    "%%time\n",
    "\n",
    "ranker = ranker.fit(\n",
    "    train_X,\n",
    "    train_y,\n",
    "    group=train_baskets,\n",
    ")"
   ]
  },
  {
   "cell_type": "code",
   "execution_count": 57,
   "metadata": {},
   "outputs": [
    {
     "name": "stdout",
     "output_type": "stream",
     "text": [
      "bestseller_rank 0.9871361085107653\n",
      "winter 0.003121858529387469\n",
      "article_id 0.0029367596494931725\n",
      "fall 0.002351930986418698\n",
      "summer 0.0009292734815739098\n",
      "product_type_no 0.0008133587362265103\n",
      "spring 0.0006743839739739422\n",
      "colour_group_code 0.0006192835772573335\n",
      "department_no 0.000554091697275655\n",
      "index_code 0.0004894704752742737\n",
      "section_no 0.00022387365677871272\n",
      "graphical_appearance_no 0.00014960672557506373\n",
      "perceived_colour_value_id 0.0\n",
      "perceived_colour_master_id 0.0\n",
      "index_group_no 0.0\n",
      "unique_customer_popularity 0.0\n",
      "garment_group_no 0.0\n",
      "FN 0.0\n",
      "club_member_status 0.0\n",
      "fashion_news_frequency 0.0\n",
      "age 0.0\n",
      "postal_code 0.0\n",
      "age_group 0.0\n",
      "gender 0.0\n",
      "gender_score 0.0\n",
      "Active 0.0\n"
     ]
    }
   ],
   "source": [
    "for i in ranker.feature_importances_.argsort()[::-1]:\n",
    "    print(columns_to_use[i], ranker.feature_importances_[i]/ranker.feature_importances_.sum())"
   ]
  },
  {
   "cell_type": "markdown",
   "metadata": {},
   "source": [
    "# Calculate predictions"
   ]
  },
  {
   "cell_type": "code",
   "execution_count": 58,
   "metadata": {},
   "outputs": [
    {
     "name": "stdout",
     "output_type": "stream",
     "text": [
      "CPU times: total: 0 ns\n",
      "Wall time: 0 ns\n"
     ]
    }
   ],
   "source": [
    "%time\n",
    "\n",
    "test['preds'] = ranker.predict(test_X)\n",
    "\n",
    "c_id2predicted_article_ids = test \\\n",
    "    .sort_values(['customer_id', 'preds'], ascending=False) \\\n",
    "    .groupby('customer_id')['article_id'].apply(list).to_dict()\n",
    "\n",
    "bestsellers_last_week = \\\n",
    "    bestsellers_previous_week[bestsellers_previous_week.week == bestsellers_previous_week.week.max()]['article_id'].tolist()"
   ]
  },
  {
   "cell_type": "markdown",
   "metadata": {},
   "source": [
    "# Create submission"
   ]
  },
  {
   "cell_type": "code",
   "execution_count": 59,
   "metadata": {},
   "outputs": [],
   "source": [
    "sub = pd.read_csv('../../data/h-and-m-personalized-fashion-recommendations/sample_submission.csv')"
   ]
  },
  {
   "cell_type": "code",
   "execution_count": 60,
   "metadata": {},
   "outputs": [
    {
     "name": "stdout",
     "output_type": "stream",
     "text": [
      "CPU times: total: 2.5 s\n",
      "Wall time: 2.5 s\n"
     ]
    }
   ],
   "source": [
    "%%time\n",
    "preds = []\n",
    "for c_id in customer_hex_id_to_int(sub.customer_id):\n",
    "    pred = c_id2predicted_article_ids.get(c_id, [])\n",
    "    pred = pred + bestsellers_last_week\n",
    "    preds.append(pred[:12])"
   ]
  },
  {
   "cell_type": "code",
   "execution_count": 61,
   "metadata": {},
   "outputs": [],
   "source": [
    "preds = [' '.join(['0' + str(p) for p in ps]) for ps in preds]\n",
    "sub.prediction = preds"
   ]
  },
  {
   "cell_type": "code",
   "execution_count": 62,
   "metadata": {},
   "outputs": [],
   "source": [
    "sub.to_csv(f'../../data/output/submission.csv.gz', index=False)"
   ]
  },
  {
   "cell_type": "code",
   "execution_count": 63,
   "metadata": {},
   "outputs": [
    {
     "data": {
      "text/plain": [
       "'2023-12-22 23:50:41.888392'"
      ]
     },
     "execution_count": 63,
     "metadata": {},
     "output_type": "execute_result"
    }
   ],
   "source": [
    "import datetime\n",
    "\n",
    "str(datetime.datetime.now())"
   ]
  }
 ],
 "metadata": {
  "kaggle": {
   "accelerator": "none",
   "dataSources": [
    {
     "databundleVersionId": 3103714,
     "sourceId": 31254,
     "sourceType": "competition"
    },
    {
     "sourceId": 93163345,
     "sourceType": "kernelVersion"
    }
   ],
   "dockerImageVersionId": 30178,
   "isGpuEnabled": false,
   "isInternetEnabled": true,
   "language": "python",
   "sourceType": "notebook"
  },
  "kernelspec": {
   "display_name": "Python 3 (ipykernel)",
   "language": "python",
   "name": "python3"
  },
  "language_info": {
   "codemirror_mode": {
    "name": "ipython",
    "version": 3
   },
   "file_extension": ".py",
   "mimetype": "text/x-python",
   "name": "python",
   "nbconvert_exporter": "python",
   "pygments_lexer": "ipython3",
   "version": "3.11.1"
  }
 },
 "nbformat": 4,
 "nbformat_minor": 4
}
