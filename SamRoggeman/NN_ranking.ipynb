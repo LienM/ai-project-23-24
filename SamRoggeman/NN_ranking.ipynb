{
 "metadata": {
  "kernelspec": {
   "language": "python",
   "display_name": "Python 3",
   "name": "python3"
  },
  "language_info": {
   "pygments_lexer": "ipython3",
   "nbconvert_exporter": "python",
   "version": "3.6.4",
   "file_extension": ".py",
   "codemirror_mode": {
    "name": "ipython",
    "version": 3
   },
   "name": "python",
   "mimetype": "text/x-python"
  }
 },
 "nbformat_minor": 4,
 "nbformat": 4,
 "cells": [
  {
   "cell_type": "markdown",
   "source": [
    "Radek posted about this [here](https://www.kaggle.com/competitions/h-and-m-personalized-fashion-recommendations/discussion/309220), and linked to a GitHub repo with the code.\n",
    "\n",
    "I just transferred that code here to Kaggle notebooks, that's all."
   ],
   "metadata": {}
  },
  {
   "cell_type": "code",
   "source": [
    "import numpy as np\n",
    "import tfr\n",
    "\n",
    "\n",
    "def apk(actual, predicted, k=10):\n",
    "    \"\"\"\n",
    "    Computes the average precision at k.\n",
    "\n",
    "    This function computes the average prescision at k between two lists of\n",
    "    items.\n",
    "\n",
    "    Parameters\n",
    "    ----------\n",
    "    actual : list\n",
    "             A list of elements that are to be predicted (order doesn't matter)\n",
    "    predicted : list\n",
    "                A list of predicted elements (order does matter)\n",
    "    k : int, optional\n",
    "        The maximum number of predicted elements\n",
    "\n",
    "    Returns\n",
    "    -------\n",
    "    score : double\n",
    "            The average precision at k over the input lists\n",
    "\n",
    "    \"\"\"\n",
    "    if len(predicted)>k:\n",
    "        predicted = predicted[:k]\n",
    "\n",
    "    score = 0.0\n",
    "    num_hits = 0.0\n",
    "\n",
    "    for i,p in enumerate(predicted):\n",
    "        if p in actual and p not in predicted[:i]:\n",
    "            num_hits += 1.0\n",
    "            score += num_hits / (i+1.0)\n",
    "\n",
    "    if not actual:\n",
    "        return 0.0\n",
    "\n",
    "    return score / min(len(actual), k)\n",
    "\n",
    "def mapk(actual, predicted, k=10):\n",
    "    \"\"\"\n",
    "    Computes the mean average precision at k.\n",
    "\n",
    "    This function computes the mean average prescision at k between two lists\n",
    "    of lists of items.\n",
    "\n",
    "    Parameters\n",
    "    ----------\n",
    "    actual : list\n",
    "             A list of lists of elements that are to be predicted \n",
    "             (order doesn't matter in the lists)\n",
    "    predicted : list\n",
    "                A list of lists of predicted elements\n",
    "                (order matters in the lists)\n",
    "    k : int, optional\n",
    "        The maximum number of predicted elements\n",
    "\n",
    "    Returns\n",
    "    -------\n",
    "    score : double\n",
    "            The mean average precision at k over the input lists\n",
    "\n",
    "    \"\"\"\n",
    "    return np.mean([apk(a,p,k) for a,p in zip(actual, predicted)])"
   ],
   "metadata": {
    "execution": {
     "iopub.status.busy": "2022-04-16T15:40:18.703245Z",
     "iopub.execute_input": "2022-04-16T15:40:18.703622Z",
     "iopub.status.idle": "2022-04-16T15:40:18.730374Z",
     "shell.execute_reply.started": "2022-04-16T15:40:18.703524Z",
     "shell.execute_reply": "2022-04-16T15:40:18.729632Z"
    },
    "trusted": true,
    "ExecuteTime": {
     "end_time": "2023-11-21T20:19:56.786249100Z",
     "start_time": "2023-11-21T20:19:56.699292800Z"
    }
   },
   "execution_count": 95,
   "outputs": []
  },
  {
   "cell_type": "code",
   "source": [
    "from sklearn.base import BaseEstimator, TransformerMixin\n",
    "import numpy as np\n",
    "\n",
    "# https://www.kaggle.com/c/h-and-m-personalized-fashion-recommendations/discussion/308635\n",
    "def customer_hex_id_to_int(series):\n",
    "    return series.str[-16:].apply(hex_id_to_int)\n",
    "\n",
    "def hex_id_to_int(str):\n",
    "    return int(str[-16:], 16)\n",
    "\n",
    "def article_id_str_to_int(series):\n",
    "    return series.astype('int32')\n",
    "\n",
    "def article_id_int_to_str(series):\n",
    "    return '0' + series.astype('str')\n",
    "\n",
    "class Categorize(BaseEstimator, TransformerMixin):\n",
    "    def __init__(self, min_examples=0):\n",
    "        self.min_examples = min_examples\n",
    "        self.categories = []\n",
    "        \n",
    "    def fit(self, X):\n",
    "        for i in range(X.shape[1]):\n",
    "            vc = X.iloc[:, i].value_counts()\n",
    "            self.categories.append(vc[vc > self.min_examples].index.tolist())\n",
    "        return self\n",
    "\n",
    "    def transform(self, X):\n",
    "        data = {X.columns[i]: pd.Categorical(X.iloc[:, i], categories=self.categories[i]).codes for i in range(X.shape[1])}\n",
    "        return pd.DataFrame(data=data)\n",
    "\n",
    "\n",
    "def calculate_apk(list_of_preds, list_of_gts):\n",
    "    # for fast validation this can be changed to operate on dicts of {'cust_id_int': [art_id_int, ...]}\n",
    "    # using 'data/val_week_purchases_by_cust.pkl'\n",
    "    apks = []\n",
    "    for preds, gt in zip(list_of_preds, list_of_gts):\n",
    "        apks.append(apk(gt, preds, k=15))\n",
    "    return np.mean(apks)\n",
    "\n",
    "def eval_sub(sub_csv, skip_cust_with_no_purchases=True):\n",
    "    sub=pd.read_csv(sub_csv)\n",
    "    validation_set=pd.read_parquet('data/validation_ground_truth.parquet')\n",
    "\n",
    "    apks = []\n",
    "\n",
    "    no_purchases_pattern = []\n",
    "    for pred, gt in zip(sub.prediction.str.split(), validation_set.prediction.str.split()):\n",
    "        if skip_cust_with_no_purchases and (gt == no_purchases_pattern): continue\n",
    "        apks.append(apk(gt, pred, k=12))\n",
    "    return np.mean(apks)"
   ],
   "metadata": {
    "execution": {
     "iopub.status.busy": "2022-04-16T15:43:57.626534Z",
     "iopub.execute_input": "2022-04-16T15:43:57.627341Z",
     "iopub.status.idle": "2022-04-16T15:43:57.638968Z",
     "shell.execute_reply.started": "2022-04-16T15:43:57.627285Z",
     "shell.execute_reply": "2022-04-16T15:43:57.638025Z"
    },
    "trusted": true,
    "ExecuteTime": {
     "end_time": "2023-11-21T19:06:48.492367Z",
     "start_time": "2023-11-21T19:06:46.241527400Z"
    }
   },
   "execution_count": 20,
   "outputs": []
  },
  {
   "cell_type": "code",
   "execution_count": 21,
   "outputs": [],
   "source": [
    "import pandas as pd"
   ],
   "metadata": {
    "collapsed": false,
    "ExecuteTime": {
     "end_time": "2023-11-21T19:06:48.492367Z",
     "start_time": "2023-11-21T19:06:46.264574300Z"
    }
   }
  },
  {
   "cell_type": "code",
   "execution_count": 21,
   "outputs": [],
   "source": [],
   "metadata": {
    "collapsed": false,
    "ExecuteTime": {
     "end_time": "2023-11-21T19:06:48.493365600Z",
     "start_time": "2023-11-21T19:06:46.277089400Z"
    }
   }
  },
  {
   "cell_type": "code",
   "execution_count": 22,
   "outputs": [
    {
     "name": "stdout",
     "output_type": "stream",
     "text": [
      "CPU times: total: 3.38 s\n",
      "Wall time: 5.98 s\n"
     ]
    }
   ],
   "source": [
    "%%time\n",
    "\n",
    "transactions = pd.read_parquet('..\\\\..\\\\Input\\\\Dataset\\\\transactions_train.parquet')\n",
    "customers = pd.read_parquet('..\\\\..\\\\Input\\\\Dataset\\\\customers.parquet')\n",
    "articles = pd.read_parquet('..\\\\..\\\\Input\\\\Dataset\\\\articles.parquet')\n",
    "\n",
    "# sample = 0.05\n",
    "# transactions = pd.read_parquet(f'data/transactions_train_sample_{sample}.parquet')\n",
    "# customers = pd.read_parquet(f'data/customers_sample_{sample}.parquet')\n",
    "# articles = pd.read_parquet(f'data/articles_train_sample_{sample}.parquet')"
   ],
   "metadata": {
    "collapsed": false,
    "ExecuteTime": {
     "end_time": "2023-11-21T19:06:52.345340900Z",
     "start_time": "2023-11-21T19:06:46.295472500Z"
    }
   }
  },
  {
   "cell_type": "code",
   "execution_count": 23,
   "outputs": [],
   "source": [
    "test_week = transactions.week.max() + 1\n",
    "transactions = transactions[transactions.week > transactions.week.max() - 10]"
   ],
   "metadata": {
    "collapsed": false,
    "ExecuteTime": {
     "end_time": "2023-11-21T19:06:52.683623800Z",
     "start_time": "2023-11-21T19:06:52.298307200Z"
    }
   }
  },
  {
   "cell_type": "markdown",
   "source": [
    "# Generating candidates"
   ],
   "metadata": {}
  },
  {
   "cell_type": "markdown",
   "source": [
    "### Last purchase candidates"
   ],
   "metadata": {}
  },
  {
   "cell_type": "code",
   "source": [
    "%%time\n",
    "\n",
    "c2weeks = transactions.groupby('customer_id')['week'].unique()"
   ],
   "metadata": {
    "execution": {
     "iopub.status.busy": "2022-04-16T15:44:14.483924Z",
     "iopub.execute_input": "2022-04-16T15:44:14.484297Z",
     "iopub.status.idle": "2022-04-16T15:44:32.713783Z",
     "shell.execute_reply.started": "2022-04-16T15:44:14.484254Z",
     "shell.execute_reply": "2022-04-16T15:44:32.712927Z"
    },
    "trusted": true,
    "ExecuteTime": {
     "end_time": "2023-11-21T19:07:10.951218400Z",
     "start_time": "2023-11-21T19:06:52.685695100Z"
    }
   },
   "execution_count": 24,
   "outputs": [
    {
     "name": "stdout",
     "output_type": "stream",
     "text": [
      "CPU times: total: 9.73 s\n",
      "Wall time: 18.2 s\n"
     ]
    }
   ]
  },
  {
   "cell_type": "code",
   "source": [
    "transactions.groupby('week')['t_dat'].agg(['min', 'max'])"
   ],
   "metadata": {
    "execution": {
     "iopub.status.busy": "2022-04-16T15:52:20.359059Z",
     "iopub.execute_input": "2022-04-16T15:52:20.359362Z",
     "iopub.status.idle": "2022-04-16T15:52:20.430004Z",
     "shell.execute_reply.started": "2022-04-16T15:52:20.359332Z",
     "shell.execute_reply": "2022-04-16T15:52:20.428905Z"
    },
    "trusted": true,
    "ExecuteTime": {
     "end_time": "2023-11-21T19:07:11.062600600Z",
     "start_time": "2023-11-21T19:07:10.921570800Z"
    }
   },
   "execution_count": 25,
   "outputs": [
    {
     "data": {
      "text/plain": "            min        max\nweek                      \n95   2020-07-15 2020-07-21\n96   2020-07-22 2020-07-28\n97   2020-07-29 2020-08-04\n98   2020-08-05 2020-08-11\n99   2020-08-12 2020-08-18\n100  2020-08-19 2020-08-25\n101  2020-08-26 2020-09-01\n102  2020-09-02 2020-09-08\n103  2020-09-09 2020-09-15\n104  2020-09-16 2020-09-22",
      "text/html": "<div>\n<style scoped>\n    .dataframe tbody tr th:only-of-type {\n        vertical-align: middle;\n    }\n\n    .dataframe tbody tr th {\n        vertical-align: top;\n    }\n\n    .dataframe thead th {\n        text-align: right;\n    }\n</style>\n<table border=\"1\" class=\"dataframe\">\n  <thead>\n    <tr style=\"text-align: right;\">\n      <th></th>\n      <th>min</th>\n      <th>max</th>\n    </tr>\n    <tr>\n      <th>week</th>\n      <th></th>\n      <th></th>\n    </tr>\n  </thead>\n  <tbody>\n    <tr>\n      <th>95</th>\n      <td>2020-07-15</td>\n      <td>2020-07-21</td>\n    </tr>\n    <tr>\n      <th>96</th>\n      <td>2020-07-22</td>\n      <td>2020-07-28</td>\n    </tr>\n    <tr>\n      <th>97</th>\n      <td>2020-07-29</td>\n      <td>2020-08-04</td>\n    </tr>\n    <tr>\n      <th>98</th>\n      <td>2020-08-05</td>\n      <td>2020-08-11</td>\n    </tr>\n    <tr>\n      <th>99</th>\n      <td>2020-08-12</td>\n      <td>2020-08-18</td>\n    </tr>\n    <tr>\n      <th>100</th>\n      <td>2020-08-19</td>\n      <td>2020-08-25</td>\n    </tr>\n    <tr>\n      <th>101</th>\n      <td>2020-08-26</td>\n      <td>2020-09-01</td>\n    </tr>\n    <tr>\n      <th>102</th>\n      <td>2020-09-02</td>\n      <td>2020-09-08</td>\n    </tr>\n    <tr>\n      <th>103</th>\n      <td>2020-09-09</td>\n      <td>2020-09-15</td>\n    </tr>\n    <tr>\n      <th>104</th>\n      <td>2020-09-16</td>\n      <td>2020-09-22</td>\n    </tr>\n  </tbody>\n</table>\n</div>"
     },
     "execution_count": 25,
     "metadata": {},
     "output_type": "execute_result"
    }
   ]
  },
  {
   "cell_type": "code",
   "source": [
    "c2weeks"
   ],
   "metadata": {
    "execution": {
     "iopub.status.busy": "2022-04-16T15:51:14.21265Z",
     "iopub.execute_input": "2022-04-16T15:51:14.213638Z",
     "iopub.status.idle": "2022-04-16T15:51:14.231518Z",
     "shell.execute_reply.started": "2022-04-16T15:51:14.213593Z",
     "shell.execute_reply": "2022-04-16T15:51:14.230546Z"
    },
    "trusted": true,
    "ExecuteTime": {
     "end_time": "2023-11-21T19:07:11.064112500Z",
     "start_time": "2023-11-21T19:07:11.045066500Z"
    }
   },
   "execution_count": 26,
   "outputs": [
    {
     "data": {
      "text/plain": "customer_id\n28847241659200          [95, 96, 101, 102]\n41318098387474                        [98]\n116809474287335                 [101, 103]\n200292573348128          [95, 96, 99, 102]\n248294615847351                       [96]\n                               ...        \n18446624797007271432                  [95]\n18446630855572834764                 [103]\n18446662237889060501                 [100]\n18446705133201055310                 [102]\n18446737527580148316                 [104]\nName: week, Length: 437365, dtype: object"
     },
     "execution_count": 26,
     "metadata": {},
     "output_type": "execute_result"
    }
   ]
  },
  {
   "cell_type": "code",
   "source": [
    "%%time\n",
    "\n",
    "c2weeks2shifted_weeks = {}\n",
    "\n",
    "for c_id, weeks in c2weeks.items():\n",
    "    c2weeks2shifted_weeks[c_id] = {}\n",
    "    for i in range(weeks.shape[0]-1):\n",
    "        c2weeks2shifted_weeks[c_id][weeks[i]] = weeks[i+1]\n",
    "    c2weeks2shifted_weeks[c_id][weeks[-1]] = test_week"
   ],
   "metadata": {
    "execution": {
     "iopub.status.busy": "2022-04-16T15:52:37.190968Z",
     "iopub.execute_input": "2022-04-16T15:52:37.191281Z",
     "iopub.status.idle": "2022-04-16T15:52:38.270373Z",
     "shell.execute_reply.started": "2022-04-16T15:52:37.191249Z",
     "shell.execute_reply": "2022-04-16T15:52:38.269366Z"
    },
    "trusted": true,
    "ExecuteTime": {
     "end_time": "2023-11-21T19:07:11.717138100Z",
     "start_time": "2023-11-21T19:07:11.061602Z"
    }
   },
   "execution_count": 27,
   "outputs": [
    {
     "name": "stdout",
     "output_type": "stream",
     "text": [
      "CPU times: total: 266 ms\n",
      "Wall time: 632 ms\n"
     ]
    }
   ]
  },
  {
   "cell_type": "code",
   "source": [
    "c2weeks2shifted_weeks[28847241659200]\n",
    "# todo ??"
   ],
   "metadata": {
    "execution": {
     "iopub.status.busy": "2022-04-16T15:53:57.883004Z",
     "iopub.execute_input": "2022-04-16T15:53:57.883327Z",
     "iopub.status.idle": "2022-04-16T15:53:57.890002Z",
     "shell.execute_reply.started": "2022-04-16T15:53:57.883291Z",
     "shell.execute_reply": "2022-04-16T15:53:57.888855Z"
    },
    "trusted": true,
    "ExecuteTime": {
     "end_time": "2023-11-21T19:07:11.757787200Z",
     "start_time": "2023-11-21T19:07:11.716132400Z"
    }
   },
   "execution_count": 28,
   "outputs": [
    {
     "data": {
      "text/plain": "{95: 96, 96: 101, 101: 102, 102: 105}"
     },
     "execution_count": 28,
     "metadata": {},
     "output_type": "execute_result"
    }
   ]
  },
  {
   "cell_type": "code",
   "source": [
    "candidates_last_purchase = transactions.copy()"
   ],
   "metadata": {
    "execution": {
     "iopub.status.busy": "2022-04-16T15:54:02.986364Z",
     "iopub.execute_input": "2022-04-16T15:54:02.986659Z",
     "iopub.status.idle": "2022-04-16T15:54:03.008647Z",
     "shell.execute_reply.started": "2022-04-16T15:54:02.986626Z",
     "shell.execute_reply": "2022-04-16T15:54:03.007375Z"
    },
    "trusted": true,
    "ExecuteTime": {
     "end_time": "2023-11-21T19:07:11.851900Z",
     "start_time": "2023-11-21T19:07:11.732782100Z"
    }
   },
   "execution_count": 29,
   "outputs": []
  },
  {
   "cell_type": "code",
   "source": [
    "%%time\n",
    "\n",
    "weeks = []\n",
    "for i, (c_id, week) in enumerate(zip(transactions['customer_id'], transactions['week'])):\n",
    "    weeks.append(c2weeks2shifted_weeks[c_id][week])\n",
    "    \n",
    "candidates_last_purchase.week=weeks"
   ],
   "metadata": {
    "execution": {
     "iopub.status.busy": "2022-04-16T15:54:09.502111Z",
     "iopub.execute_input": "2022-04-16T15:54:09.502379Z",
     "iopub.status.idle": "2022-04-16T15:54:17.173729Z",
     "shell.execute_reply.started": "2022-04-16T15:54:09.502353Z",
     "shell.execute_reply": "2022-04-16T15:54:17.172748Z"
    },
    "trusted": true,
    "ExecuteTime": {
     "end_time": "2023-11-21T19:07:33.692175Z",
     "start_time": "2023-11-21T19:07:11.762743800Z"
    }
   },
   "execution_count": 30,
   "outputs": [
    {
     "name": "stdout",
     "output_type": "stream",
     "text": [
      "CPU times: total: 13.8 s\n",
      "Wall time: 21.9 s\n"
     ]
    }
   ]
  },
  {
   "cell_type": "code",
   "source": [
    "candidates_last_purchase[candidates_last_purchase['customer_id']==272412481300040]"
   ],
   "metadata": {
    "execution": {
     "iopub.status.busy": "2022-04-16T15:56:44.758863Z",
     "iopub.execute_input": "2022-04-16T15:56:44.759734Z",
     "iopub.status.idle": "2022-04-16T15:56:44.842348Z",
     "shell.execute_reply.started": "2022-04-16T15:56:44.759688Z",
     "shell.execute_reply": "2022-04-16T15:56:44.841432Z"
    },
    "trusted": true,
    "ExecuteTime": {
     "end_time": "2023-11-21T19:07:33.750032300Z",
     "start_time": "2023-11-21T19:07:33.675778Z"
    }
   },
   "execution_count": 31,
   "outputs": [
    {
     "data": {
      "text/plain": "              t_dat      customer_id  article_id     price  sales_channel_id  \\\n29030503 2020-07-15  272412481300040   778064028  0.008458                 1   \n29030504 2020-07-15  272412481300040   816592008  0.016932                 1   \n29030505 2020-07-15  272412481300040   621381021  0.033881                 1   \n29030506 2020-07-15  272412481300040   817477003  0.025407                 1   \n29030507 2020-07-15  272412481300040   899088002  0.025407                 1   \n29319533 2020-07-22  272412481300040   885077001  0.008458                 1   \n29410772 2020-07-24  272412481300040   850176003  0.029034                 2   \n29410773 2020-07-24  272412481300040   875803001  0.064559                 2   \n29410774 2020-07-24  272412481300040   892970003  0.020966                 2   \n29410775 2020-07-24  272412481300040   854619003  0.020966                 2   \n29531614 2020-07-27  272412481300040   900398001  0.030492                 2   \n29531615 2020-07-27  272412481300040   834179002  0.025407                 2   \n29531616 2020-07-27  272412481300040   875803001  0.067780                 2   \n31495014 2020-09-14  272412481300040   923460002  0.039932                 2   \n31495015 2020-09-14  272412481300040   922381001  0.039932                 2   \n31495016 2020-09-14  272412481300040   921906005  0.031949                 2   \n\n          week  \n29030503    96  \n29030504    96  \n29030505    96  \n29030506    96  \n29030507    96  \n29319533   103  \n29410772   103  \n29410773   103  \n29410774   103  \n29410775   103  \n29531614   103  \n29531615   103  \n29531616   103  \n31495014   105  \n31495015   105  \n31495016   105  ",
      "text/html": "<div>\n<style scoped>\n    .dataframe tbody tr th:only-of-type {\n        vertical-align: middle;\n    }\n\n    .dataframe tbody tr th {\n        vertical-align: top;\n    }\n\n    .dataframe thead th {\n        text-align: right;\n    }\n</style>\n<table border=\"1\" class=\"dataframe\">\n  <thead>\n    <tr style=\"text-align: right;\">\n      <th></th>\n      <th>t_dat</th>\n      <th>customer_id</th>\n      <th>article_id</th>\n      <th>price</th>\n      <th>sales_channel_id</th>\n      <th>week</th>\n    </tr>\n  </thead>\n  <tbody>\n    <tr>\n      <th>29030503</th>\n      <td>2020-07-15</td>\n      <td>272412481300040</td>\n      <td>778064028</td>\n      <td>0.008458</td>\n      <td>1</td>\n      <td>96</td>\n    </tr>\n    <tr>\n      <th>29030504</th>\n      <td>2020-07-15</td>\n      <td>272412481300040</td>\n      <td>816592008</td>\n      <td>0.016932</td>\n      <td>1</td>\n      <td>96</td>\n    </tr>\n    <tr>\n      <th>29030505</th>\n      <td>2020-07-15</td>\n      <td>272412481300040</td>\n      <td>621381021</td>\n      <td>0.033881</td>\n      <td>1</td>\n      <td>96</td>\n    </tr>\n    <tr>\n      <th>29030506</th>\n      <td>2020-07-15</td>\n      <td>272412481300040</td>\n      <td>817477003</td>\n      <td>0.025407</td>\n      <td>1</td>\n      <td>96</td>\n    </tr>\n    <tr>\n      <th>29030507</th>\n      <td>2020-07-15</td>\n      <td>272412481300040</td>\n      <td>899088002</td>\n      <td>0.025407</td>\n      <td>1</td>\n      <td>96</td>\n    </tr>\n    <tr>\n      <th>29319533</th>\n      <td>2020-07-22</td>\n      <td>272412481300040</td>\n      <td>885077001</td>\n      <td>0.008458</td>\n      <td>1</td>\n      <td>103</td>\n    </tr>\n    <tr>\n      <th>29410772</th>\n      <td>2020-07-24</td>\n      <td>272412481300040</td>\n      <td>850176003</td>\n      <td>0.029034</td>\n      <td>2</td>\n      <td>103</td>\n    </tr>\n    <tr>\n      <th>29410773</th>\n      <td>2020-07-24</td>\n      <td>272412481300040</td>\n      <td>875803001</td>\n      <td>0.064559</td>\n      <td>2</td>\n      <td>103</td>\n    </tr>\n    <tr>\n      <th>29410774</th>\n      <td>2020-07-24</td>\n      <td>272412481300040</td>\n      <td>892970003</td>\n      <td>0.020966</td>\n      <td>2</td>\n      <td>103</td>\n    </tr>\n    <tr>\n      <th>29410775</th>\n      <td>2020-07-24</td>\n      <td>272412481300040</td>\n      <td>854619003</td>\n      <td>0.020966</td>\n      <td>2</td>\n      <td>103</td>\n    </tr>\n    <tr>\n      <th>29531614</th>\n      <td>2020-07-27</td>\n      <td>272412481300040</td>\n      <td>900398001</td>\n      <td>0.030492</td>\n      <td>2</td>\n      <td>103</td>\n    </tr>\n    <tr>\n      <th>29531615</th>\n      <td>2020-07-27</td>\n      <td>272412481300040</td>\n      <td>834179002</td>\n      <td>0.025407</td>\n      <td>2</td>\n      <td>103</td>\n    </tr>\n    <tr>\n      <th>29531616</th>\n      <td>2020-07-27</td>\n      <td>272412481300040</td>\n      <td>875803001</td>\n      <td>0.067780</td>\n      <td>2</td>\n      <td>103</td>\n    </tr>\n    <tr>\n      <th>31495014</th>\n      <td>2020-09-14</td>\n      <td>272412481300040</td>\n      <td>923460002</td>\n      <td>0.039932</td>\n      <td>2</td>\n      <td>105</td>\n    </tr>\n    <tr>\n      <th>31495015</th>\n      <td>2020-09-14</td>\n      <td>272412481300040</td>\n      <td>922381001</td>\n      <td>0.039932</td>\n      <td>2</td>\n      <td>105</td>\n    </tr>\n    <tr>\n      <th>31495016</th>\n      <td>2020-09-14</td>\n      <td>272412481300040</td>\n      <td>921906005</td>\n      <td>0.031949</td>\n      <td>2</td>\n      <td>105</td>\n    </tr>\n  </tbody>\n</table>\n</div>"
     },
     "execution_count": 31,
     "metadata": {},
     "output_type": "execute_result"
    }
   ]
  },
  {
   "cell_type": "code",
   "source": [
    "# transactions[transactions['customer_id']==272412481300040]\n",
    "customers[customers['customer_id']==272412481300040]"
   ],
   "metadata": {
    "execution": {
     "iopub.status.busy": "2022-04-16T15:56:28.429248Z",
     "iopub.execute_input": "2022-04-16T15:56:28.430209Z",
     "iopub.status.idle": "2022-04-16T15:56:28.447782Z",
     "shell.execute_reply.started": "2022-04-16T15:56:28.430158Z",
     "shell.execute_reply": "2022-04-16T15:56:28.446947Z"
    },
    "trusted": true,
    "ExecuteTime": {
     "end_time": "2023-11-21T19:07:33.791154700Z",
     "start_time": "2023-11-21T19:07:33.703299900Z"
    }
   },
   "execution_count": 32,
   "outputs": [
    {
     "data": {
      "text/plain": "            customer_id  FN  Active  club_member_status  \\\n137308  272412481300040   1       1                   0   \n\n        fashion_news_frequency  age  postal_code  \n137308                       1   48       333369  ",
      "text/html": "<div>\n<style scoped>\n    .dataframe tbody tr th:only-of-type {\n        vertical-align: middle;\n    }\n\n    .dataframe tbody tr th {\n        vertical-align: top;\n    }\n\n    .dataframe thead th {\n        text-align: right;\n    }\n</style>\n<table border=\"1\" class=\"dataframe\">\n  <thead>\n    <tr style=\"text-align: right;\">\n      <th></th>\n      <th>customer_id</th>\n      <th>FN</th>\n      <th>Active</th>\n      <th>club_member_status</th>\n      <th>fashion_news_frequency</th>\n      <th>age</th>\n      <th>postal_code</th>\n    </tr>\n  </thead>\n  <tbody>\n    <tr>\n      <th>137308</th>\n      <td>272412481300040</td>\n      <td>1</td>\n      <td>1</td>\n      <td>0</td>\n      <td>1</td>\n      <td>48</td>\n      <td>333369</td>\n    </tr>\n  </tbody>\n</table>\n</div>"
     },
     "execution_count": 32,
     "metadata": {},
     "output_type": "execute_result"
    }
   ]
  },
  {
   "cell_type": "markdown",
   "source": [
    "### Bestsellers candidates"
   ],
   "metadata": {}
  },
  {
   "cell_type": "code",
   "source": [
    "mean_price = transactions \\\n",
    "    .groupby(['week', 'article_id'])['price'].mean()"
   ],
   "metadata": {
    "execution": {
     "iopub.status.busy": "2022-04-16T15:57:17.65078Z",
     "iopub.execute_input": "2022-04-16T15:57:17.651075Z",
     "iopub.status.idle": "2022-04-16T15:57:17.917777Z",
     "shell.execute_reply.started": "2022-04-16T15:57:17.651046Z",
     "shell.execute_reply": "2022-04-16T15:57:17.916726Z"
    },
    "trusted": true,
    "ExecuteTime": {
     "end_time": "2023-11-21T19:07:34.323323400Z",
     "start_time": "2023-11-21T19:07:33.750032300Z"
    }
   },
   "execution_count": 33,
   "outputs": []
  },
  {
   "cell_type": "code",
   "source": [
    "mean_price"
   ],
   "metadata": {
    "execution": {
     "iopub.status.busy": "2022-04-16T15:57:22.071051Z",
     "iopub.execute_input": "2022-04-16T15:57:22.071336Z",
     "iopub.status.idle": "2022-04-16T15:57:22.081278Z",
     "shell.execute_reply.started": "2022-04-16T15:57:22.071307Z",
     "shell.execute_reply": "2022-04-16T15:57:22.080255Z"
    },
    "trusted": true,
    "ExecuteTime": {
     "end_time": "2023-11-21T19:07:34.324323100Z",
     "start_time": "2023-11-21T19:07:34.029721800Z"
    }
   },
   "execution_count": 34,
   "outputs": [
    {
     "data": {
      "text/plain": "week  article_id\n95    108775015     0.004729\n      108775044     0.008458\n      110065001     0.006085\n      110065002     0.006085\n      111565001     0.004288\n                      ...   \n104   952267001     0.013732\n      952938001     0.048651\n      953450001     0.016932\n      953763001     0.021885\n      956217002     0.059068\nName: price, Length: 196880, dtype: float32"
     },
     "execution_count": 34,
     "metadata": {},
     "output_type": "execute_result"
    }
   ]
  },
  {
   "cell_type": "code",
   "source": [
    "sales = transactions \\\n",
    "    .groupby('week')['article_id'].value_counts() \\\n",
    "    .groupby('week').rank(method='dense', ascending=False) \\\n",
    "    .groupby('week').head(12).rename('bestseller_rank').astype('int8')"
   ],
   "metadata": {
    "execution": {
     "iopub.status.busy": "2022-04-16T16:02:22.824751Z",
     "iopub.execute_input": "2022-04-16T16:02:22.825182Z",
     "iopub.status.idle": "2022-04-16T16:02:23.799128Z",
     "shell.execute_reply.started": "2022-04-16T16:02:22.825151Z",
     "shell.execute_reply": "2022-04-16T16:02:23.798311Z"
    },
    "trusted": true,
    "ExecuteTime": {
     "end_time": "2023-11-21T19:07:34.546863900Z",
     "start_time": "2023-11-21T19:07:34.044793900Z"
    }
   },
   "execution_count": 35,
   "outputs": []
  },
  {
   "cell_type": "code",
   "execution_count": 36,
   "outputs": [
    {
     "data": {
      "text/plain": "article_id\n746586002     1.0\n703366001     1.0\n889974002     1.0\n889901002     1.0\n889844001     1.0\n             ... \n792517001    10.0\n792515001    10.0\n792507001    10.0\n792490002    10.0\n805370003    10.0\nName: recency_rank, Length: 38331, dtype: float64"
     },
     "execution_count": 36,
     "metadata": {},
     "output_type": "execute_result"
    }
   ],
   "source": [
    "\"\"\" query to get most recent items:\n",
    "    select article_id, min(week) as week, rank() over (partition by article_id order by week desc) as recency_rank\n",
    "    from transactions \n",
    "    group by article_id\n",
    "    order by week desc    \n",
    "\"\"\"\n",
    "# query implemented in code\n",
    "recency = transactions \\\n",
    "    .groupby('article_id')['week'].min()\\\n",
    "    .sort_values(ascending=False).rename('recency_rank').astype('int8')\\\n",
    "    .rank(method='dense', ascending=False) \\\n",
    "    # .groupby('recency_week').head(12).rename('recency_rank').astype('int8')\n",
    "    \n",
    "\n",
    "recency\n",
    "\n"
   ],
   "metadata": {
    "collapsed": false,
    "ExecuteTime": {
     "end_time": "2023-11-21T19:07:34.549873500Z",
     "start_time": "2023-11-21T19:07:34.386920800Z"
    }
   }
  },
  {
   "cell_type": "code",
   "execution_count": 37,
   "outputs": [
    {
     "data": {
      "text/plain": "            mean_price  min_price  max_price  std_price\narticle_id                                             \n108775015     0.003842   0.002068   0.005068   0.001573\n108775044     0.008076   0.003373   0.008458   0.001120\n110065001     0.006424   0.006085   0.006763   0.000479\n110065002     0.005860   0.005186   0.006085   0.000449\n110065011     0.009305   0.006763   0.011847   0.003595\n...                ...        ...        ...        ...\n952267001     0.014982   0.010153   0.016932   0.002385\n952938001     0.048006   0.040661   0.050831   0.004300\n953450001     0.016836   0.015305   0.016932   0.000395\n953763001     0.021908   0.021169   0.022017   0.000251\n956217002     0.059152   0.057407   0.059305   0.000493\n\n[38331 rows x 4 columns]",
      "text/html": "<div>\n<style scoped>\n    .dataframe tbody tr th:only-of-type {\n        vertical-align: middle;\n    }\n\n    .dataframe tbody tr th {\n        vertical-align: top;\n    }\n\n    .dataframe thead th {\n        text-align: right;\n    }\n</style>\n<table border=\"1\" class=\"dataframe\">\n  <thead>\n    <tr style=\"text-align: right;\">\n      <th></th>\n      <th>mean_price</th>\n      <th>min_price</th>\n      <th>max_price</th>\n      <th>std_price</th>\n    </tr>\n    <tr>\n      <th>article_id</th>\n      <th></th>\n      <th></th>\n      <th></th>\n      <th></th>\n    </tr>\n  </thead>\n  <tbody>\n    <tr>\n      <th>108775015</th>\n      <td>0.003842</td>\n      <td>0.002068</td>\n      <td>0.005068</td>\n      <td>0.001573</td>\n    </tr>\n    <tr>\n      <th>108775044</th>\n      <td>0.008076</td>\n      <td>0.003373</td>\n      <td>0.008458</td>\n      <td>0.001120</td>\n    </tr>\n    <tr>\n      <th>110065001</th>\n      <td>0.006424</td>\n      <td>0.006085</td>\n      <td>0.006763</td>\n      <td>0.000479</td>\n    </tr>\n    <tr>\n      <th>110065002</th>\n      <td>0.005860</td>\n      <td>0.005186</td>\n      <td>0.006085</td>\n      <td>0.000449</td>\n    </tr>\n    <tr>\n      <th>110065011</th>\n      <td>0.009305</td>\n      <td>0.006763</td>\n      <td>0.011847</td>\n      <td>0.003595</td>\n    </tr>\n    <tr>\n      <th>...</th>\n      <td>...</td>\n      <td>...</td>\n      <td>...</td>\n      <td>...</td>\n    </tr>\n    <tr>\n      <th>952267001</th>\n      <td>0.014982</td>\n      <td>0.010153</td>\n      <td>0.016932</td>\n      <td>0.002385</td>\n    </tr>\n    <tr>\n      <th>952938001</th>\n      <td>0.048006</td>\n      <td>0.040661</td>\n      <td>0.050831</td>\n      <td>0.004300</td>\n    </tr>\n    <tr>\n      <th>953450001</th>\n      <td>0.016836</td>\n      <td>0.015305</td>\n      <td>0.016932</td>\n      <td>0.000395</td>\n    </tr>\n    <tr>\n      <th>953763001</th>\n      <td>0.021908</td>\n      <td>0.021169</td>\n      <td>0.022017</td>\n      <td>0.000251</td>\n    </tr>\n    <tr>\n      <th>956217002</th>\n      <td>0.059152</td>\n      <td>0.057407</td>\n      <td>0.059305</td>\n      <td>0.000493</td>\n    </tr>\n  </tbody>\n</table>\n<p>38331 rows × 4 columns</p>\n</div>"
     },
     "execution_count": 37,
     "metadata": {},
     "output_type": "execute_result"
    }
   ],
   "source": [
    "# add a column with mean_price, min_price, max_price, std_price for each article_id\n",
    "mean_price_by_article =  transactions \\\n",
    "    .groupby(['article_id'])['price'].mean().rename('mean_price')\n",
    "min_price_by_article =  transactions \\\n",
    "    .groupby(['article_id'])['price'].min().rename('min_price')\n",
    "max_price_by_article =  transactions \\\n",
    "    .groupby(['article_id'])['price'].max().rename('max_price')\n",
    "std_price_by_article =  transactions \\\n",
    "    .groupby(['article_id'])['price'].std().rename('std_price')\n",
    "# merge\n",
    "price_statistics = pd.merge(mean_price_by_article, min_price_by_article, on=['article_id']).merge(max_price_by_article, on=['article_id']).merge(std_price_by_article, on=['article_id'])\n",
    "price_statistics\n",
    "\n"
   ],
   "metadata": {
    "collapsed": false,
    "ExecuteTime": {
     "end_time": "2023-11-21T19:07:35.303377100Z",
     "start_time": "2023-11-21T19:07:34.493550800Z"
    }
   }
  },
  {
   "cell_type": "code",
   "source": [
    "sales"
   ],
   "metadata": {
    "execution": {
     "iopub.status.busy": "2022-04-16T16:46:11.472531Z",
     "iopub.execute_input": "2022-04-16T16:46:11.47305Z",
     "iopub.status.idle": "2022-04-16T16:46:11.48196Z",
     "shell.execute_reply.started": "2022-04-16T16:46:11.473006Z",
     "shell.execute_reply": "2022-04-16T16:46:11.481241Z"
    },
    "trusted": true,
    "ExecuteTime": {
     "end_time": "2023-11-21T19:07:35.366531Z",
     "start_time": "2023-11-21T19:07:35.281330900Z"
    }
   },
   "execution_count": 38,
   "outputs": [
    {
     "data": {
      "text/plain": "week  article_id\n95    760084003      1\n      866731001      2\n      600886001      3\n      706016001      4\n      372860002      5\n                    ..\n104   915529003      8\n      915529005      9\n      448509014     10\n      762846027     11\n      714790020     12\nName: bestseller_rank, Length: 120, dtype: int8"
     },
     "execution_count": 38,
     "metadata": {},
     "output_type": "execute_result"
    }
   ]
  },
  {
   "cell_type": "code",
   "source": [
    "sales.loc[95]"
   ],
   "metadata": {
    "execution": {
     "iopub.status.busy": "2022-04-16T16:46:02.076763Z",
     "iopub.execute_input": "2022-04-16T16:46:02.077101Z",
     "iopub.status.idle": "2022-04-16T16:46:02.086767Z",
     "shell.execute_reply.started": "2022-04-16T16:46:02.077066Z",
     "shell.execute_reply": "2022-04-16T16:46:02.086Z"
    },
    "trusted": true,
    "ExecuteTime": {
     "end_time": "2023-11-21T19:07:35.417075Z",
     "start_time": "2023-11-21T19:07:35.297380500Z"
    }
   },
   "execution_count": 39,
   "outputs": [
    {
     "data": {
      "text/plain": "article_id\n760084003     1\n866731001     2\n600886001     3\n706016001     4\n372860002     5\n610776002     6\n877278002     7\n547780003     8\n817354001     9\n827968001    10\n866731003    11\n866383006    12\nName: bestseller_rank, dtype: int8"
     },
     "execution_count": 39,
     "metadata": {},
     "output_type": "execute_result"
    }
   ]
  },
  {
   "cell_type": "code",
   "source": [
    "bestsellers_previous_week = pd.merge(sales, mean_price, on=['week', 'article_id']).reset_index()\n",
    "bestsellers_previous_week.week += 1"
   ],
   "metadata": {
    "execution": {
     "iopub.status.busy": "2022-04-16T16:46:24.315491Z",
     "iopub.execute_input": "2022-04-16T16:46:24.316099Z",
     "iopub.status.idle": "2022-04-16T16:46:24.370425Z",
     "shell.execute_reply.started": "2022-04-16T16:46:24.31606Z",
     "shell.execute_reply": "2022-04-16T16:46:24.369607Z"
    },
    "trusted": true,
    "ExecuteTime": {
     "end_time": "2023-11-21T19:07:35.601826700Z",
     "start_time": "2023-11-21T19:07:35.309896100Z"
    }
   },
   "execution_count": 40,
   "outputs": []
  },
  {
   "cell_type": "code",
   "source": [
    "bestsellers_previous_week.pipe(lambda df: df[df['week']==96])"
   ],
   "metadata": {
    "execution": {
     "iopub.status.busy": "2022-04-16T16:51:04.064135Z",
     "iopub.execute_input": "2022-04-16T16:51:04.065012Z",
     "iopub.status.idle": "2022-04-16T16:51:04.077812Z",
     "shell.execute_reply.started": "2022-04-16T16:51:04.064965Z",
     "shell.execute_reply": "2022-04-16T16:51:04.077199Z"
    },
    "trusted": true,
    "ExecuteTime": {
     "end_time": "2023-11-21T19:07:35.606352Z",
     "start_time": "2023-11-21T19:07:35.359019600Z"
    }
   },
   "execution_count": 41,
   "outputs": [
    {
     "data": {
      "text/plain": "    week  article_id  bestseller_rank     price\n0     96   760084003                1  0.025094\n1     96   866731001                2  0.024919\n2     96   600886001                3  0.022980\n3     96   706016001                4  0.033197\n4     96   372860002                5  0.013193\n5     96   610776002                6  0.008318\n6     96   877278002                7  0.025036\n7     96   547780003                8  0.024814\n8     96   817354001                9  0.021913\n9     96   827968001               10  0.016436\n10    96   866731003               11  0.024893\n11    96   866383006               12  0.023195",
      "text/html": "<div>\n<style scoped>\n    .dataframe tbody tr th:only-of-type {\n        vertical-align: middle;\n    }\n\n    .dataframe tbody tr th {\n        vertical-align: top;\n    }\n\n    .dataframe thead th {\n        text-align: right;\n    }\n</style>\n<table border=\"1\" class=\"dataframe\">\n  <thead>\n    <tr style=\"text-align: right;\">\n      <th></th>\n      <th>week</th>\n      <th>article_id</th>\n      <th>bestseller_rank</th>\n      <th>price</th>\n    </tr>\n  </thead>\n  <tbody>\n    <tr>\n      <th>0</th>\n      <td>96</td>\n      <td>760084003</td>\n      <td>1</td>\n      <td>0.025094</td>\n    </tr>\n    <tr>\n      <th>1</th>\n      <td>96</td>\n      <td>866731001</td>\n      <td>2</td>\n      <td>0.024919</td>\n    </tr>\n    <tr>\n      <th>2</th>\n      <td>96</td>\n      <td>600886001</td>\n      <td>3</td>\n      <td>0.022980</td>\n    </tr>\n    <tr>\n      <th>3</th>\n      <td>96</td>\n      <td>706016001</td>\n      <td>4</td>\n      <td>0.033197</td>\n    </tr>\n    <tr>\n      <th>4</th>\n      <td>96</td>\n      <td>372860002</td>\n      <td>5</td>\n      <td>0.013193</td>\n    </tr>\n    <tr>\n      <th>5</th>\n      <td>96</td>\n      <td>610776002</td>\n      <td>6</td>\n      <td>0.008318</td>\n    </tr>\n    <tr>\n      <th>6</th>\n      <td>96</td>\n      <td>877278002</td>\n      <td>7</td>\n      <td>0.025036</td>\n    </tr>\n    <tr>\n      <th>7</th>\n      <td>96</td>\n      <td>547780003</td>\n      <td>8</td>\n      <td>0.024814</td>\n    </tr>\n    <tr>\n      <th>8</th>\n      <td>96</td>\n      <td>817354001</td>\n      <td>9</td>\n      <td>0.021913</td>\n    </tr>\n    <tr>\n      <th>9</th>\n      <td>96</td>\n      <td>827968001</td>\n      <td>10</td>\n      <td>0.016436</td>\n    </tr>\n    <tr>\n      <th>10</th>\n      <td>96</td>\n      <td>866731003</td>\n      <td>11</td>\n      <td>0.024893</td>\n    </tr>\n    <tr>\n      <th>11</th>\n      <td>96</td>\n      <td>866383006</td>\n      <td>12</td>\n      <td>0.023195</td>\n    </tr>\n  </tbody>\n</table>\n</div>"
     },
     "execution_count": 41,
     "metadata": {},
     "output_type": "execute_result"
    }
   ]
  },
  {
   "cell_type": "code",
   "source": [
    "unique_transactions = transactions \\\n",
    "    .groupby(['week', 'customer_id']) \\\n",
    "    .head(1) \\\n",
    "    .drop(columns=['article_id', 'price']) \\\n",
    "    .copy()"
   ],
   "metadata": {
    "execution": {
     "iopub.status.busy": "2022-04-16T16:51:34.885365Z",
     "iopub.execute_input": "2022-04-16T16:51:34.88602Z",
     "iopub.status.idle": "2022-04-16T16:51:35.522916Z",
     "shell.execute_reply.started": "2022-04-16T16:51:34.88598Z",
     "shell.execute_reply": "2022-04-16T16:51:35.521903Z"
    },
    "trusted": true,
    "ExecuteTime": {
     "end_time": "2023-11-21T19:07:36.121724700Z",
     "start_time": "2023-11-21T19:07:35.374858Z"
    }
   },
   "execution_count": 42,
   "outputs": []
  },
  {
   "cell_type": "code",
   "source": [
    "unique_transactions"
   ],
   "metadata": {
    "execution": {
     "iopub.status.busy": "2022-04-16T16:51:41.276191Z",
     "iopub.execute_input": "2022-04-16T16:51:41.276486Z",
     "iopub.status.idle": "2022-04-16T16:51:41.290998Z",
     "shell.execute_reply.started": "2022-04-16T16:51:41.276452Z",
     "shell.execute_reply": "2022-04-16T16:51:41.290002Z"
    },
    "trusted": true,
    "ExecuteTime": {
     "end_time": "2023-11-21T19:07:36.123234400Z",
     "start_time": "2023-11-21T19:07:36.073896200Z"
    }
   },
   "execution_count": 43,
   "outputs": [
    {
     "data": {
      "text/plain": "              t_dat           customer_id  sales_channel_id  week\n29030503 2020-07-15       272412481300040                 1    95\n29064059 2020-07-15      1456826891333599                 1    95\n29067103 2020-07-15      2133687643102426                 2    95\n29027487 2020-07-15      6010692573790711                 1    95\n29046403 2020-07-15      6171059100114610                 2    95\n...             ...                   ...               ...   ...\n31760188 2020-09-22  18435221511488011015                 1   104\n31782234 2020-09-22  18436859303155335645                 1   104\n31787251 2020-09-22  18437941771381362708                 2   104\n31776022 2020-09-22  18438270306572912089                 1   104\n31779097 2020-09-22  18440902715633436014                 1   104\n\n[755710 rows x 4 columns]",
      "text/html": "<div>\n<style scoped>\n    .dataframe tbody tr th:only-of-type {\n        vertical-align: middle;\n    }\n\n    .dataframe tbody tr th {\n        vertical-align: top;\n    }\n\n    .dataframe thead th {\n        text-align: right;\n    }\n</style>\n<table border=\"1\" class=\"dataframe\">\n  <thead>\n    <tr style=\"text-align: right;\">\n      <th></th>\n      <th>t_dat</th>\n      <th>customer_id</th>\n      <th>sales_channel_id</th>\n      <th>week</th>\n    </tr>\n  </thead>\n  <tbody>\n    <tr>\n      <th>29030503</th>\n      <td>2020-07-15</td>\n      <td>272412481300040</td>\n      <td>1</td>\n      <td>95</td>\n    </tr>\n    <tr>\n      <th>29064059</th>\n      <td>2020-07-15</td>\n      <td>1456826891333599</td>\n      <td>1</td>\n      <td>95</td>\n    </tr>\n    <tr>\n      <th>29067103</th>\n      <td>2020-07-15</td>\n      <td>2133687643102426</td>\n      <td>2</td>\n      <td>95</td>\n    </tr>\n    <tr>\n      <th>29027487</th>\n      <td>2020-07-15</td>\n      <td>6010692573790711</td>\n      <td>1</td>\n      <td>95</td>\n    </tr>\n    <tr>\n      <th>29046403</th>\n      <td>2020-07-15</td>\n      <td>6171059100114610</td>\n      <td>2</td>\n      <td>95</td>\n    </tr>\n    <tr>\n      <th>...</th>\n      <td>...</td>\n      <td>...</td>\n      <td>...</td>\n      <td>...</td>\n    </tr>\n    <tr>\n      <th>31760188</th>\n      <td>2020-09-22</td>\n      <td>18435221511488011015</td>\n      <td>1</td>\n      <td>104</td>\n    </tr>\n    <tr>\n      <th>31782234</th>\n      <td>2020-09-22</td>\n      <td>18436859303155335645</td>\n      <td>1</td>\n      <td>104</td>\n    </tr>\n    <tr>\n      <th>31787251</th>\n      <td>2020-09-22</td>\n      <td>18437941771381362708</td>\n      <td>2</td>\n      <td>104</td>\n    </tr>\n    <tr>\n      <th>31776022</th>\n      <td>2020-09-22</td>\n      <td>18438270306572912089</td>\n      <td>1</td>\n      <td>104</td>\n    </tr>\n    <tr>\n      <th>31779097</th>\n      <td>2020-09-22</td>\n      <td>18440902715633436014</td>\n      <td>1</td>\n      <td>104</td>\n    </tr>\n  </tbody>\n</table>\n<p>755710 rows × 4 columns</p>\n</div>"
     },
     "execution_count": 43,
     "metadata": {},
     "output_type": "execute_result"
    }
   ]
  },
  {
   "cell_type": "code",
   "source": [
    "transactions.drop_duplicates(['week', 'customer_id'])"
   ],
   "metadata": {
    "execution": {
     "iopub.status.busy": "2022-04-16T16:53:57.806973Z",
     "iopub.execute_input": "2022-04-16T16:53:57.807309Z",
     "iopub.status.idle": "2022-04-16T16:53:58.097008Z",
     "shell.execute_reply.started": "2022-04-16T16:53:57.807278Z",
     "shell.execute_reply": "2022-04-16T16:53:58.095874Z"
    },
    "trusted": true,
    "ExecuteTime": {
     "end_time": "2023-11-21T19:07:36.675666400Z",
     "start_time": "2023-11-21T19:07:36.089856200Z"
    }
   },
   "execution_count": 44,
   "outputs": [
    {
     "data": {
      "text/plain": "              t_dat           customer_id  article_id     price  \\\n29030503 2020-07-15       272412481300040   778064028  0.008458   \n29064059 2020-07-15      1456826891333599   888294001  0.013542   \n29067103 2020-07-15      2133687643102426   843642001  0.042356   \n29027487 2020-07-15      6010692573790711   857812010  0.039661   \n29046403 2020-07-15      6171059100114610   815447007  0.006763   \n...             ...                   ...         ...       ...   \n31760188 2020-09-22  18435221511488011015   573085055  0.033881   \n31782234 2020-09-22  18436859303155335645   801447001  0.030492   \n31787251 2020-09-22  18437941771381362708   907188001  0.050831   \n31776022 2020-09-22  18438270306572912089   751471043  0.033881   \n31779097 2020-09-22  18440902715633436014   918894002  0.016932   \n\n          sales_channel_id  week  \n29030503                 1    95  \n29064059                 1    95  \n29067103                 2    95  \n29027487                 1    95  \n29046403                 2    95  \n...                    ...   ...  \n31760188                 1   104  \n31782234                 1   104  \n31787251                 2   104  \n31776022                 1   104  \n31779097                 1   104  \n\n[755710 rows x 6 columns]",
      "text/html": "<div>\n<style scoped>\n    .dataframe tbody tr th:only-of-type {\n        vertical-align: middle;\n    }\n\n    .dataframe tbody tr th {\n        vertical-align: top;\n    }\n\n    .dataframe thead th {\n        text-align: right;\n    }\n</style>\n<table border=\"1\" class=\"dataframe\">\n  <thead>\n    <tr style=\"text-align: right;\">\n      <th></th>\n      <th>t_dat</th>\n      <th>customer_id</th>\n      <th>article_id</th>\n      <th>price</th>\n      <th>sales_channel_id</th>\n      <th>week</th>\n    </tr>\n  </thead>\n  <tbody>\n    <tr>\n      <th>29030503</th>\n      <td>2020-07-15</td>\n      <td>272412481300040</td>\n      <td>778064028</td>\n      <td>0.008458</td>\n      <td>1</td>\n      <td>95</td>\n    </tr>\n    <tr>\n      <th>29064059</th>\n      <td>2020-07-15</td>\n      <td>1456826891333599</td>\n      <td>888294001</td>\n      <td>0.013542</td>\n      <td>1</td>\n      <td>95</td>\n    </tr>\n    <tr>\n      <th>29067103</th>\n      <td>2020-07-15</td>\n      <td>2133687643102426</td>\n      <td>843642001</td>\n      <td>0.042356</td>\n      <td>2</td>\n      <td>95</td>\n    </tr>\n    <tr>\n      <th>29027487</th>\n      <td>2020-07-15</td>\n      <td>6010692573790711</td>\n      <td>857812010</td>\n      <td>0.039661</td>\n      <td>1</td>\n      <td>95</td>\n    </tr>\n    <tr>\n      <th>29046403</th>\n      <td>2020-07-15</td>\n      <td>6171059100114610</td>\n      <td>815447007</td>\n      <td>0.006763</td>\n      <td>2</td>\n      <td>95</td>\n    </tr>\n    <tr>\n      <th>...</th>\n      <td>...</td>\n      <td>...</td>\n      <td>...</td>\n      <td>...</td>\n      <td>...</td>\n      <td>...</td>\n    </tr>\n    <tr>\n      <th>31760188</th>\n      <td>2020-09-22</td>\n      <td>18435221511488011015</td>\n      <td>573085055</td>\n      <td>0.033881</td>\n      <td>1</td>\n      <td>104</td>\n    </tr>\n    <tr>\n      <th>31782234</th>\n      <td>2020-09-22</td>\n      <td>18436859303155335645</td>\n      <td>801447001</td>\n      <td>0.030492</td>\n      <td>1</td>\n      <td>104</td>\n    </tr>\n    <tr>\n      <th>31787251</th>\n      <td>2020-09-22</td>\n      <td>18437941771381362708</td>\n      <td>907188001</td>\n      <td>0.050831</td>\n      <td>2</td>\n      <td>104</td>\n    </tr>\n    <tr>\n      <th>31776022</th>\n      <td>2020-09-22</td>\n      <td>18438270306572912089</td>\n      <td>751471043</td>\n      <td>0.033881</td>\n      <td>1</td>\n      <td>104</td>\n    </tr>\n    <tr>\n      <th>31779097</th>\n      <td>2020-09-22</td>\n      <td>18440902715633436014</td>\n      <td>918894002</td>\n      <td>0.016932</td>\n      <td>1</td>\n      <td>104</td>\n    </tr>\n  </tbody>\n</table>\n<p>755710 rows × 6 columns</p>\n</div>"
     },
     "execution_count": 44,
     "metadata": {},
     "output_type": "execute_result"
    }
   ]
  },
  {
   "cell_type": "code",
   "source": [
    "candidates_bestsellers = pd.merge(\n",
    "    unique_transactions,\n",
    "    bestsellers_previous_week,\n",
    "    on='week',\n",
    ")"
   ],
   "metadata": {
    "execution": {
     "iopub.status.busy": "2022-04-16T16:54:53.227772Z",
     "iopub.execute_input": "2022-04-16T16:54:53.228505Z",
     "iopub.status.idle": "2022-04-16T16:54:54.190001Z",
     "shell.execute_reply.started": "2022-04-16T16:54:53.228453Z",
     "shell.execute_reply": "2022-04-16T16:54:54.188749Z"
    },
    "trusted": true,
    "ExecuteTime": {
     "end_time": "2023-11-21T19:07:36.926598500Z",
     "start_time": "2023-11-21T19:07:36.431453700Z"
    }
   },
   "execution_count": 45,
   "outputs": []
  },
  {
   "cell_type": "code",
   "source": [
    "test_set_transactions = unique_transactions.drop_duplicates('customer_id').reset_index(drop=True)\n",
    "test_set_transactions.week = test_week"
   ],
   "metadata": {
    "execution": {
     "iopub.status.busy": "2022-04-16T16:55:38.06378Z",
     "iopub.execute_input": "2022-04-16T16:55:38.064413Z",
     "iopub.status.idle": "2022-04-16T16:55:38.168415Z",
     "shell.execute_reply.started": "2022-04-16T16:55:38.064363Z",
     "shell.execute_reply": "2022-04-16T16:55:38.167458Z"
    },
    "trusted": true,
    "ExecuteTime": {
     "end_time": "2023-11-21T19:07:37.183896700Z",
     "start_time": "2023-11-21T19:07:36.864530800Z"
    }
   },
   "execution_count": 46,
   "outputs": []
  },
  {
   "cell_type": "code",
   "source": [
    "test_set_transactions"
   ],
   "metadata": {
    "execution": {
     "iopub.status.busy": "2022-04-16T16:55:45.01963Z",
     "iopub.execute_input": "2022-04-16T16:55:45.020084Z",
     "iopub.status.idle": "2022-04-16T16:55:45.037194Z",
     "shell.execute_reply.started": "2022-04-16T16:55:45.020041Z",
     "shell.execute_reply": "2022-04-16T16:55:45.036123Z"
    },
    "trusted": true,
    "ExecuteTime": {
     "end_time": "2023-11-21T19:07:37.193284300Z",
     "start_time": "2023-11-21T19:07:36.926598500Z"
    }
   },
   "execution_count": 47,
   "outputs": [
    {
     "data": {
      "text/plain": "            t_dat           customer_id  sales_channel_id  week\n0      2020-07-15       272412481300040                 1   105\n1      2020-07-15      1456826891333599                 1   105\n2      2020-07-15      2133687643102426                 2   105\n3      2020-07-15      6010692573790711                 1   105\n4      2020-07-15      6171059100114610                 2   105\n...           ...                   ...               ...   ...\n437360 2020-09-22  18410229429441241008                 2   105\n437361 2020-09-22  18417769707947924979                 2   105\n437362 2020-09-22  18418054986721795659                 2   105\n437363 2020-09-22  18421175435799911749                 2   105\n437364 2020-09-22  18438270306572912089                 1   105\n\n[437365 rows x 4 columns]",
      "text/html": "<div>\n<style scoped>\n    .dataframe tbody tr th:only-of-type {\n        vertical-align: middle;\n    }\n\n    .dataframe tbody tr th {\n        vertical-align: top;\n    }\n\n    .dataframe thead th {\n        text-align: right;\n    }\n</style>\n<table border=\"1\" class=\"dataframe\">\n  <thead>\n    <tr style=\"text-align: right;\">\n      <th></th>\n      <th>t_dat</th>\n      <th>customer_id</th>\n      <th>sales_channel_id</th>\n      <th>week</th>\n    </tr>\n  </thead>\n  <tbody>\n    <tr>\n      <th>0</th>\n      <td>2020-07-15</td>\n      <td>272412481300040</td>\n      <td>1</td>\n      <td>105</td>\n    </tr>\n    <tr>\n      <th>1</th>\n      <td>2020-07-15</td>\n      <td>1456826891333599</td>\n      <td>1</td>\n      <td>105</td>\n    </tr>\n    <tr>\n      <th>2</th>\n      <td>2020-07-15</td>\n      <td>2133687643102426</td>\n      <td>2</td>\n      <td>105</td>\n    </tr>\n    <tr>\n      <th>3</th>\n      <td>2020-07-15</td>\n      <td>6010692573790711</td>\n      <td>1</td>\n      <td>105</td>\n    </tr>\n    <tr>\n      <th>4</th>\n      <td>2020-07-15</td>\n      <td>6171059100114610</td>\n      <td>2</td>\n      <td>105</td>\n    </tr>\n    <tr>\n      <th>...</th>\n      <td>...</td>\n      <td>...</td>\n      <td>...</td>\n      <td>...</td>\n    </tr>\n    <tr>\n      <th>437360</th>\n      <td>2020-09-22</td>\n      <td>18410229429441241008</td>\n      <td>2</td>\n      <td>105</td>\n    </tr>\n    <tr>\n      <th>437361</th>\n      <td>2020-09-22</td>\n      <td>18417769707947924979</td>\n      <td>2</td>\n      <td>105</td>\n    </tr>\n    <tr>\n      <th>437362</th>\n      <td>2020-09-22</td>\n      <td>18418054986721795659</td>\n      <td>2</td>\n      <td>105</td>\n    </tr>\n    <tr>\n      <th>437363</th>\n      <td>2020-09-22</td>\n      <td>18421175435799911749</td>\n      <td>2</td>\n      <td>105</td>\n    </tr>\n    <tr>\n      <th>437364</th>\n      <td>2020-09-22</td>\n      <td>18438270306572912089</td>\n      <td>1</td>\n      <td>105</td>\n    </tr>\n  </tbody>\n</table>\n<p>437365 rows × 4 columns</p>\n</div>"
     },
     "execution_count": 47,
     "metadata": {},
     "output_type": "execute_result"
    }
   ]
  },
  {
   "cell_type": "code",
   "source": [
    "candidates_bestsellers_test_week = pd.merge(\n",
    "    test_set_transactions,\n",
    "    bestsellers_previous_week,\n",
    "    on='week'\n",
    ")"
   ],
   "metadata": {
    "execution": {
     "iopub.status.busy": "2022-04-16T16:55:58.92166Z",
     "iopub.execute_input": "2022-04-16T16:55:58.921976Z",
     "iopub.status.idle": "2022-04-16T16:55:59.465925Z",
     "shell.execute_reply.started": "2022-04-16T16:55:58.921943Z",
     "shell.execute_reply": "2022-04-16T16:55:59.46506Z"
    },
    "trusted": true,
    "ExecuteTime": {
     "end_time": "2023-11-21T19:07:37.467699500Z",
     "start_time": "2023-11-21T19:07:36.942649100Z"
    }
   },
   "execution_count": 48,
   "outputs": []
  },
  {
   "cell_type": "code",
   "source": [
    "candidates_bestsellers = pd.concat([candidates_bestsellers, candidates_bestsellers_test_week])\n",
    "candidates_bestsellers.drop(columns='bestseller_rank', inplace=True)"
   ],
   "metadata": {
    "execution": {
     "iopub.status.busy": "2022-04-16T16:56:10.11826Z",
     "iopub.execute_input": "2022-04-16T16:56:10.119061Z",
     "iopub.status.idle": "2022-04-16T16:56:11.325461Z",
     "shell.execute_reply.started": "2022-04-16T16:56:10.119017Z",
     "shell.execute_reply": "2022-04-16T16:56:11.324762Z"
    },
    "trusted": true,
    "ExecuteTime": {
     "end_time": "2023-11-21T19:07:37.734734700Z",
     "start_time": "2023-11-21T19:07:37.284855200Z"
    }
   },
   "execution_count": 49,
   "outputs": []
  },
  {
   "cell_type": "code",
   "source": [
    "candidates_bestsellers"
   ],
   "metadata": {
    "execution": {
     "iopub.status.busy": "2022-04-16T16:56:19.254726Z",
     "iopub.execute_input": "2022-04-16T16:56:19.255053Z",
     "iopub.status.idle": "2022-04-16T16:56:19.271702Z",
     "shell.execute_reply.started": "2022-04-16T16:56:19.255014Z",
     "shell.execute_reply": "2022-04-16T16:56:19.270702Z"
    },
    "trusted": true,
    "ExecuteTime": {
     "end_time": "2023-11-21T19:07:37.947590200Z",
     "start_time": "2023-11-21T19:07:37.721947Z"
    }
   },
   "execution_count": 50,
   "outputs": [
    {
     "data": {
      "text/plain": "             t_dat           customer_id  sales_channel_id  week  article_id  \\\n0       2020-07-22       200292573348128                 2    96   760084003   \n1       2020-07-22       200292573348128                 2    96   866731001   \n2       2020-07-22       200292573348128                 2    96   600886001   \n3       2020-07-22       200292573348128                 2    96   706016001   \n4       2020-07-22       200292573348128                 2    96   372860002   \n...            ...                   ...               ...   ...         ...   \n5248375 2020-09-22  18438270306572912089                 1   105   915529003   \n5248376 2020-09-22  18438270306572912089                 1   105   915529005   \n5248377 2020-09-22  18438270306572912089                 1   105   448509014   \n5248378 2020-09-22  18438270306572912089                 1   105   762846027   \n5248379 2020-09-22  18438270306572912089                 1   105   714790020   \n\n            price  \n0        0.025094  \n1        0.024919  \n2        0.022980  \n3        0.033197  \n4        0.013193  \n...           ...  \n5248375  0.033439  \n5248376  0.033417  \n5248377  0.041630  \n5248378  0.025005  \n5248379  0.049951  \n\n[13389576 rows x 6 columns]",
      "text/html": "<div>\n<style scoped>\n    .dataframe tbody tr th:only-of-type {\n        vertical-align: middle;\n    }\n\n    .dataframe tbody tr th {\n        vertical-align: top;\n    }\n\n    .dataframe thead th {\n        text-align: right;\n    }\n</style>\n<table border=\"1\" class=\"dataframe\">\n  <thead>\n    <tr style=\"text-align: right;\">\n      <th></th>\n      <th>t_dat</th>\n      <th>customer_id</th>\n      <th>sales_channel_id</th>\n      <th>week</th>\n      <th>article_id</th>\n      <th>price</th>\n    </tr>\n  </thead>\n  <tbody>\n    <tr>\n      <th>0</th>\n      <td>2020-07-22</td>\n      <td>200292573348128</td>\n      <td>2</td>\n      <td>96</td>\n      <td>760084003</td>\n      <td>0.025094</td>\n    </tr>\n    <tr>\n      <th>1</th>\n      <td>2020-07-22</td>\n      <td>200292573348128</td>\n      <td>2</td>\n      <td>96</td>\n      <td>866731001</td>\n      <td>0.024919</td>\n    </tr>\n    <tr>\n      <th>2</th>\n      <td>2020-07-22</td>\n      <td>200292573348128</td>\n      <td>2</td>\n      <td>96</td>\n      <td>600886001</td>\n      <td>0.022980</td>\n    </tr>\n    <tr>\n      <th>3</th>\n      <td>2020-07-22</td>\n      <td>200292573348128</td>\n      <td>2</td>\n      <td>96</td>\n      <td>706016001</td>\n      <td>0.033197</td>\n    </tr>\n    <tr>\n      <th>4</th>\n      <td>2020-07-22</td>\n      <td>200292573348128</td>\n      <td>2</td>\n      <td>96</td>\n      <td>372860002</td>\n      <td>0.013193</td>\n    </tr>\n    <tr>\n      <th>...</th>\n      <td>...</td>\n      <td>...</td>\n      <td>...</td>\n      <td>...</td>\n      <td>...</td>\n      <td>...</td>\n    </tr>\n    <tr>\n      <th>5248375</th>\n      <td>2020-09-22</td>\n      <td>18438270306572912089</td>\n      <td>1</td>\n      <td>105</td>\n      <td>915529003</td>\n      <td>0.033439</td>\n    </tr>\n    <tr>\n      <th>5248376</th>\n      <td>2020-09-22</td>\n      <td>18438270306572912089</td>\n      <td>1</td>\n      <td>105</td>\n      <td>915529005</td>\n      <td>0.033417</td>\n    </tr>\n    <tr>\n      <th>5248377</th>\n      <td>2020-09-22</td>\n      <td>18438270306572912089</td>\n      <td>1</td>\n      <td>105</td>\n      <td>448509014</td>\n      <td>0.041630</td>\n    </tr>\n    <tr>\n      <th>5248378</th>\n      <td>2020-09-22</td>\n      <td>18438270306572912089</td>\n      <td>1</td>\n      <td>105</td>\n      <td>762846027</td>\n      <td>0.025005</td>\n    </tr>\n    <tr>\n      <th>5248379</th>\n      <td>2020-09-22</td>\n      <td>18438270306572912089</td>\n      <td>1</td>\n      <td>105</td>\n      <td>714790020</td>\n      <td>0.049951</td>\n    </tr>\n  </tbody>\n</table>\n<p>13389576 rows × 6 columns</p>\n</div>"
     },
     "execution_count": 50,
     "metadata": {},
     "output_type": "execute_result"
    }
   ]
  },
  {
   "cell_type": "markdown",
   "source": [
    "# Combining transactions and candidates / negative examples"
   ],
   "metadata": {}
  },
  {
   "cell_type": "code",
   "source": [
    "transactions['purchased'] = 1"
   ],
   "metadata": {
    "execution": {
     "iopub.status.busy": "2022-04-16T16:56:25.60895Z",
     "iopub.execute_input": "2022-04-16T16:56:25.609882Z",
     "iopub.status.idle": "2022-04-16T16:56:25.620461Z",
     "shell.execute_reply.started": "2022-04-16T16:56:25.609833Z",
     "shell.execute_reply": "2022-04-16T16:56:25.619506Z"
    },
    "trusted": true,
    "ExecuteTime": {
     "end_time": "2023-11-21T19:07:38.008196700Z",
     "start_time": "2023-11-21T19:07:37.751806100Z"
    }
   },
   "execution_count": 51,
   "outputs": []
  },
  {
   "cell_type": "code",
   "source": [
    "data = pd.concat([transactions, candidates_last_purchase, candidates_bestsellers])\n",
    "data.purchased.fillna(0, inplace=True)"
   ],
   "metadata": {
    "execution": {
     "iopub.status.busy": "2022-04-16T16:56:31.824647Z",
     "iopub.execute_input": "2022-04-16T16:56:31.824982Z",
     "iopub.status.idle": "2022-04-16T16:56:32.437836Z",
     "shell.execute_reply.started": "2022-04-16T16:56:31.824952Z",
     "shell.execute_reply": "2022-04-16T16:56:32.436995Z"
    },
    "trusted": true,
    "ExecuteTime": {
     "end_time": "2023-11-21T19:07:38.459290300Z",
     "start_time": "2023-11-21T19:07:37.767215900Z"
    }
   },
   "execution_count": 52,
   "outputs": []
  },
  {
   "cell_type": "code",
   "source": [
    "data"
   ],
   "metadata": {
    "execution": {
     "iopub.status.busy": "2022-04-16T16:56:39.053412Z",
     "iopub.execute_input": "2022-04-16T16:56:39.053729Z",
     "iopub.status.idle": "2022-04-16T16:56:39.071738Z",
     "shell.execute_reply.started": "2022-04-16T16:56:39.053698Z",
     "shell.execute_reply": "2022-04-16T16:56:39.070857Z"
    },
    "trusted": true,
    "ExecuteTime": {
     "end_time": "2023-11-21T19:09:41.722479600Z",
     "start_time": "2023-11-21T19:09:38.221138600Z"
    }
   },
   "execution_count": 63,
   "outputs": [
    {
     "data": {
      "text/plain": "              t_dat           customer_id  article_id     price  \\\n0        2020-07-26        28847241659200   887770001  0.016932   \n1        2020-07-18        28847241659200   762846001  0.025407   \n2        2020-07-18        28847241659200   829308001  0.033881   \n3        2020-07-26        28847241659200   760084003  0.025094   \n4        2020-07-26        28847241659200   866731001  0.024919   \n...             ...                   ...         ...       ...   \n17991757 2020-09-21  18446737527580148316   915529003  0.033439   \n17991758 2020-09-21  18446737527580148316   915529005  0.033417   \n17991759 2020-09-21  18446737527580148316   448509014  0.041630   \n17991760 2020-09-21  18446737527580148316   762846027  0.025005   \n17991761 2020-09-21  18446737527580148316   714790020  0.049951   \n\n          sales_channel_id  week  purchased  bestseller_rank  recency_rank  \\\n0                        1    96        1.0            999.0          10.0   \n1                        1    96        0.0            999.0          10.0   \n2                        1    96        0.0            999.0          10.0   \n3                        1    96        0.0              1.0          10.0   \n4                        1    96        0.0              2.0          10.0   \n...                    ...   ...        ...              ...           ...   \n17991757                 2   105        0.0              8.0           7.0   \n17991758                 2   105        0.0              9.0           4.0   \n17991759                 2   105        0.0             10.0          10.0   \n17991760                 2   105        0.0             11.0           4.0   \n17991761                 2   105        0.0             12.0          10.0   \n\n          mean_price  ...  garment_group_no  garment_group_name  detail_desc  \\\n0           0.016389  ...              1010                   6         3692   \n1           0.024408  ...              1010                   6          492   \n2           0.033045  ...              1005                   0         9082   \n3           0.024914  ...              1009                   5          847   \n4           0.024726  ...              1005                   0         3130   \n...              ...  ...               ...                 ...          ...   \n17991757    0.033351  ...              1003                   3        10909   \n17991758    0.033352  ...              1003                   3        10909   \n17991759    0.041287  ...              1009                   5          255   \n17991760    0.025018  ...              1010                   6          492   \n17991761    0.049778  ...              1016                  11          856   \n\n          has_color  FN  Active  club_member_status  fashion_news_frequency  \\\n0              True   1       1                   0                       1   \n1              True   1       1                   0                       1   \n2              True   1       1                   0                       1   \n3              True   1       1                   0                       1   \n4              True   1       1                   0                       1   \n...             ...  ..     ...                 ...                     ...   \n17991757       True   1       1                   0                       1   \n17991758       True   1       1                   0                       1   \n17991759       True   1       1                   0                       1   \n17991760       True   1       1                   0                       1   \n17991761       True   1       1                   0                       1   \n\n          age  postal_code  \n0          21        57896  \n1          21        57896  \n2          21        57896  \n3          21        57896  \n4          21        57896  \n...       ...          ...  \n17991757   60        96323  \n17991758   60        96323  \n17991759   60        96323  \n17991760   60        96323  \n17991761   60        96323  \n\n[17991762 rows x 44 columns]",
      "text/html": "<div>\n<style scoped>\n    .dataframe tbody tr th:only-of-type {\n        vertical-align: middle;\n    }\n\n    .dataframe tbody tr th {\n        vertical-align: top;\n    }\n\n    .dataframe thead th {\n        text-align: right;\n    }\n</style>\n<table border=\"1\" class=\"dataframe\">\n  <thead>\n    <tr style=\"text-align: right;\">\n      <th></th>\n      <th>t_dat</th>\n      <th>customer_id</th>\n      <th>article_id</th>\n      <th>price</th>\n      <th>sales_channel_id</th>\n      <th>week</th>\n      <th>purchased</th>\n      <th>bestseller_rank</th>\n      <th>recency_rank</th>\n      <th>mean_price</th>\n      <th>...</th>\n      <th>garment_group_no</th>\n      <th>garment_group_name</th>\n      <th>detail_desc</th>\n      <th>has_color</th>\n      <th>FN</th>\n      <th>Active</th>\n      <th>club_member_status</th>\n      <th>fashion_news_frequency</th>\n      <th>age</th>\n      <th>postal_code</th>\n    </tr>\n  </thead>\n  <tbody>\n    <tr>\n      <th>0</th>\n      <td>2020-07-26</td>\n      <td>28847241659200</td>\n      <td>887770001</td>\n      <td>0.016932</td>\n      <td>1</td>\n      <td>96</td>\n      <td>1.0</td>\n      <td>999.0</td>\n      <td>10.0</td>\n      <td>0.016389</td>\n      <td>...</td>\n      <td>1010</td>\n      <td>6</td>\n      <td>3692</td>\n      <td>True</td>\n      <td>1</td>\n      <td>1</td>\n      <td>0</td>\n      <td>1</td>\n      <td>21</td>\n      <td>57896</td>\n    </tr>\n    <tr>\n      <th>1</th>\n      <td>2020-07-18</td>\n      <td>28847241659200</td>\n      <td>762846001</td>\n      <td>0.025407</td>\n      <td>1</td>\n      <td>96</td>\n      <td>0.0</td>\n      <td>999.0</td>\n      <td>10.0</td>\n      <td>0.024408</td>\n      <td>...</td>\n      <td>1010</td>\n      <td>6</td>\n      <td>492</td>\n      <td>True</td>\n      <td>1</td>\n      <td>1</td>\n      <td>0</td>\n      <td>1</td>\n      <td>21</td>\n      <td>57896</td>\n    </tr>\n    <tr>\n      <th>2</th>\n      <td>2020-07-18</td>\n      <td>28847241659200</td>\n      <td>829308001</td>\n      <td>0.033881</td>\n      <td>1</td>\n      <td>96</td>\n      <td>0.0</td>\n      <td>999.0</td>\n      <td>10.0</td>\n      <td>0.033045</td>\n      <td>...</td>\n      <td>1005</td>\n      <td>0</td>\n      <td>9082</td>\n      <td>True</td>\n      <td>1</td>\n      <td>1</td>\n      <td>0</td>\n      <td>1</td>\n      <td>21</td>\n      <td>57896</td>\n    </tr>\n    <tr>\n      <th>3</th>\n      <td>2020-07-26</td>\n      <td>28847241659200</td>\n      <td>760084003</td>\n      <td>0.025094</td>\n      <td>1</td>\n      <td>96</td>\n      <td>0.0</td>\n      <td>1.0</td>\n      <td>10.0</td>\n      <td>0.024914</td>\n      <td>...</td>\n      <td>1009</td>\n      <td>5</td>\n      <td>847</td>\n      <td>True</td>\n      <td>1</td>\n      <td>1</td>\n      <td>0</td>\n      <td>1</td>\n      <td>21</td>\n      <td>57896</td>\n    </tr>\n    <tr>\n      <th>4</th>\n      <td>2020-07-26</td>\n      <td>28847241659200</td>\n      <td>866731001</td>\n      <td>0.024919</td>\n      <td>1</td>\n      <td>96</td>\n      <td>0.0</td>\n      <td>2.0</td>\n      <td>10.0</td>\n      <td>0.024726</td>\n      <td>...</td>\n      <td>1005</td>\n      <td>0</td>\n      <td>3130</td>\n      <td>True</td>\n      <td>1</td>\n      <td>1</td>\n      <td>0</td>\n      <td>1</td>\n      <td>21</td>\n      <td>57896</td>\n    </tr>\n    <tr>\n      <th>...</th>\n      <td>...</td>\n      <td>...</td>\n      <td>...</td>\n      <td>...</td>\n      <td>...</td>\n      <td>...</td>\n      <td>...</td>\n      <td>...</td>\n      <td>...</td>\n      <td>...</td>\n      <td>...</td>\n      <td>...</td>\n      <td>...</td>\n      <td>...</td>\n      <td>...</td>\n      <td>...</td>\n      <td>...</td>\n      <td>...</td>\n      <td>...</td>\n      <td>...</td>\n      <td>...</td>\n    </tr>\n    <tr>\n      <th>17991757</th>\n      <td>2020-09-21</td>\n      <td>18446737527580148316</td>\n      <td>915529003</td>\n      <td>0.033439</td>\n      <td>2</td>\n      <td>105</td>\n      <td>0.0</td>\n      <td>8.0</td>\n      <td>7.0</td>\n      <td>0.033351</td>\n      <td>...</td>\n      <td>1003</td>\n      <td>3</td>\n      <td>10909</td>\n      <td>True</td>\n      <td>1</td>\n      <td>1</td>\n      <td>0</td>\n      <td>1</td>\n      <td>60</td>\n      <td>96323</td>\n    </tr>\n    <tr>\n      <th>17991758</th>\n      <td>2020-09-21</td>\n      <td>18446737527580148316</td>\n      <td>915529005</td>\n      <td>0.033417</td>\n      <td>2</td>\n      <td>105</td>\n      <td>0.0</td>\n      <td>9.0</td>\n      <td>4.0</td>\n      <td>0.033352</td>\n      <td>...</td>\n      <td>1003</td>\n      <td>3</td>\n      <td>10909</td>\n      <td>True</td>\n      <td>1</td>\n      <td>1</td>\n      <td>0</td>\n      <td>1</td>\n      <td>60</td>\n      <td>96323</td>\n    </tr>\n    <tr>\n      <th>17991759</th>\n      <td>2020-09-21</td>\n      <td>18446737527580148316</td>\n      <td>448509014</td>\n      <td>0.041630</td>\n      <td>2</td>\n      <td>105</td>\n      <td>0.0</td>\n      <td>10.0</td>\n      <td>10.0</td>\n      <td>0.041287</td>\n      <td>...</td>\n      <td>1009</td>\n      <td>5</td>\n      <td>255</td>\n      <td>True</td>\n      <td>1</td>\n      <td>1</td>\n      <td>0</td>\n      <td>1</td>\n      <td>60</td>\n      <td>96323</td>\n    </tr>\n    <tr>\n      <th>17991760</th>\n      <td>2020-09-21</td>\n      <td>18446737527580148316</td>\n      <td>762846027</td>\n      <td>0.025005</td>\n      <td>2</td>\n      <td>105</td>\n      <td>0.0</td>\n      <td>11.0</td>\n      <td>4.0</td>\n      <td>0.025018</td>\n      <td>...</td>\n      <td>1010</td>\n      <td>6</td>\n      <td>492</td>\n      <td>True</td>\n      <td>1</td>\n      <td>1</td>\n      <td>0</td>\n      <td>1</td>\n      <td>60</td>\n      <td>96323</td>\n    </tr>\n    <tr>\n      <th>17991761</th>\n      <td>2020-09-21</td>\n      <td>18446737527580148316</td>\n      <td>714790020</td>\n      <td>0.049951</td>\n      <td>2</td>\n      <td>105</td>\n      <td>0.0</td>\n      <td>12.0</td>\n      <td>10.0</td>\n      <td>0.049778</td>\n      <td>...</td>\n      <td>1016</td>\n      <td>11</td>\n      <td>856</td>\n      <td>True</td>\n      <td>1</td>\n      <td>1</td>\n      <td>0</td>\n      <td>1</td>\n      <td>60</td>\n      <td>96323</td>\n    </tr>\n  </tbody>\n</table>\n<p>17991762 rows × 44 columns</p>\n</div>"
     },
     "execution_count": 63,
     "metadata": {},
     "output_type": "execute_result"
    }
   ]
  },
  {
   "cell_type": "code",
   "source": [
    "data.drop_duplicates(['customer_id', 'article_id', 'week'], inplace=True)"
   ],
   "metadata": {
    "execution": {
     "iopub.status.busy": "2022-04-16T16:56:54.897286Z",
     "iopub.execute_input": "2022-04-16T16:56:54.897571Z",
     "iopub.status.idle": "2022-04-16T16:57:02.803119Z",
     "shell.execute_reply.started": "2022-04-16T16:56:54.897538Z",
     "shell.execute_reply": "2022-04-16T16:57:02.802139Z"
    },
    "trusted": true,
    "ExecuteTime": {
     "end_time": "2023-11-21T19:07:43.920594300Z",
     "start_time": "2023-11-21T19:07:38.136264500Z"
    }
   },
   "execution_count": 54,
   "outputs": []
  },
  {
   "cell_type": "code",
   "source": [
    "data.purchased.mean()"
   ],
   "metadata": {
    "execution": {
     "iopub.status.busy": "2022-04-16T16:57:02.805002Z",
     "iopub.execute_input": "2022-04-16T16:57:02.805659Z",
     "iopub.status.idle": "2022-04-16T16:57:02.868471Z",
     "shell.execute_reply.started": "2022-04-16T16:57:02.805609Z",
     "shell.execute_reply": "2022-04-16T16:57:02.867456Z"
    },
    "trusted": true,
    "ExecuteTime": {
     "end_time": "2023-11-21T19:07:44.010799200Z",
     "start_time": "2023-11-21T19:07:43.921594100Z"
    }
   },
   "execution_count": 55,
   "outputs": [
    {
     "data": {
      "text/plain": "0.13607582749165664"
     },
     "execution_count": 55,
     "metadata": {},
     "output_type": "execute_result"
    }
   ]
  },
  {
   "cell_type": "markdown",
   "source": [
    "### Add bestseller information"
   ],
   "metadata": {}
  },
  {
   "cell_type": "code",
   "source": [
    "data = pd.merge(\n",
    "    data,\n",
    "    bestsellers_previous_week[['week', 'article_id', 'bestseller_rank']],\n",
    "    on=['week', 'article_id'],\n",
    "    how='left'\n",
    ").merge(\n",
    "    recency,\n",
    "    on='article_id',\n",
    "    how='left'\n",
    ").merge(\n",
    "    price_statistics,\n",
    "    on='article_id',\n",
    "    how='left'\n",
    ")\n"
   ],
   "metadata": {
    "execution": {
     "iopub.status.busy": "2022-04-16T16:57:05.130621Z",
     "iopub.execute_input": "2022-04-16T16:57:05.130915Z",
     "iopub.status.idle": "2022-04-16T16:57:08.938612Z",
     "shell.execute_reply.started": "2022-04-16T16:57:05.130885Z",
     "shell.execute_reply": "2022-04-16T16:57:08.93771Z"
    },
    "trusted": true,
    "ExecuteTime": {
     "end_time": "2023-11-21T19:07:49.900025800Z",
     "start_time": "2023-11-21T19:07:43.998215900Z"
    }
   },
   "execution_count": 56,
   "outputs": []
  },
  {
   "cell_type": "code",
   "execution_count": 57,
   "outputs": [
    {
     "data": {
      "text/plain": "       t_dat       customer_id  article_id     price  sales_channel_id  week  \\\n0 2020-07-15   272412481300040   778064028  0.008458                 1    95   \n1 2020-07-15   272412481300040   816592008  0.016932                 1    95   \n2 2020-07-15   272412481300040   621381021  0.033881                 1    95   \n3 2020-07-15   272412481300040   817477003  0.025407                 1    95   \n4 2020-07-15   272412481300040   899088002  0.025407                 1    95   \n5 2020-07-15  1456826891333599   888294001  0.013542                 1    95   \n6 2020-07-15  1456826891333599   895002002  0.015237                 1    95   \n7 2020-07-15  2133687643102426   843642001  0.042356                 2    95   \n8 2020-07-15  6010692573790711   857812010  0.039661                 1    95   \n9 2020-07-15  6010692573790711   372860001  0.012678                 1    95   \n\n   purchased  bestseller_rank  recency_rank  mean_price  min_price  max_price  \\\n0        1.0              NaN          10.0    0.005620   0.001678   0.008458   \n1        1.0              NaN          10.0    0.016344   0.010153   0.016932   \n2        1.0              NaN          10.0    0.033032   0.027102   0.033881   \n3        1.0              NaN          10.0    0.024747   0.018627   0.025407   \n4        1.0              NaN          10.0    0.024468   0.012695   0.025407   \n5        1.0              NaN          10.0    0.022126   0.006763   0.025407   \n6        1.0              NaN          10.0    0.012476   0.003373   0.015237   \n7        1.0              NaN          10.0    0.041549   0.029153   0.042356   \n8        1.0              NaN          10.0    0.034969   0.013542   0.042356   \n9        1.0              NaN          10.0    0.013197   0.003373   0.013542   \n\n   std_price  \n0   0.002007  \n1   0.001248  \n2   0.001641  \n3   0.001481  \n4   0.001917  \n5   0.005261  \n6   0.002595  \n7   0.002169  \n8   0.007702  \n9   0.000962  ",
      "text/html": "<div>\n<style scoped>\n    .dataframe tbody tr th:only-of-type {\n        vertical-align: middle;\n    }\n\n    .dataframe tbody tr th {\n        vertical-align: top;\n    }\n\n    .dataframe thead th {\n        text-align: right;\n    }\n</style>\n<table border=\"1\" class=\"dataframe\">\n  <thead>\n    <tr style=\"text-align: right;\">\n      <th></th>\n      <th>t_dat</th>\n      <th>customer_id</th>\n      <th>article_id</th>\n      <th>price</th>\n      <th>sales_channel_id</th>\n      <th>week</th>\n      <th>purchased</th>\n      <th>bestseller_rank</th>\n      <th>recency_rank</th>\n      <th>mean_price</th>\n      <th>min_price</th>\n      <th>max_price</th>\n      <th>std_price</th>\n    </tr>\n  </thead>\n  <tbody>\n    <tr>\n      <th>0</th>\n      <td>2020-07-15</td>\n      <td>272412481300040</td>\n      <td>778064028</td>\n      <td>0.008458</td>\n      <td>1</td>\n      <td>95</td>\n      <td>1.0</td>\n      <td>NaN</td>\n      <td>10.0</td>\n      <td>0.005620</td>\n      <td>0.001678</td>\n      <td>0.008458</td>\n      <td>0.002007</td>\n    </tr>\n    <tr>\n      <th>1</th>\n      <td>2020-07-15</td>\n      <td>272412481300040</td>\n      <td>816592008</td>\n      <td>0.016932</td>\n      <td>1</td>\n      <td>95</td>\n      <td>1.0</td>\n      <td>NaN</td>\n      <td>10.0</td>\n      <td>0.016344</td>\n      <td>0.010153</td>\n      <td>0.016932</td>\n      <td>0.001248</td>\n    </tr>\n    <tr>\n      <th>2</th>\n      <td>2020-07-15</td>\n      <td>272412481300040</td>\n      <td>621381021</td>\n      <td>0.033881</td>\n      <td>1</td>\n      <td>95</td>\n      <td>1.0</td>\n      <td>NaN</td>\n      <td>10.0</td>\n      <td>0.033032</td>\n      <td>0.027102</td>\n      <td>0.033881</td>\n      <td>0.001641</td>\n    </tr>\n    <tr>\n      <th>3</th>\n      <td>2020-07-15</td>\n      <td>272412481300040</td>\n      <td>817477003</td>\n      <td>0.025407</td>\n      <td>1</td>\n      <td>95</td>\n      <td>1.0</td>\n      <td>NaN</td>\n      <td>10.0</td>\n      <td>0.024747</td>\n      <td>0.018627</td>\n      <td>0.025407</td>\n      <td>0.001481</td>\n    </tr>\n    <tr>\n      <th>4</th>\n      <td>2020-07-15</td>\n      <td>272412481300040</td>\n      <td>899088002</td>\n      <td>0.025407</td>\n      <td>1</td>\n      <td>95</td>\n      <td>1.0</td>\n      <td>NaN</td>\n      <td>10.0</td>\n      <td>0.024468</td>\n      <td>0.012695</td>\n      <td>0.025407</td>\n      <td>0.001917</td>\n    </tr>\n    <tr>\n      <th>5</th>\n      <td>2020-07-15</td>\n      <td>1456826891333599</td>\n      <td>888294001</td>\n      <td>0.013542</td>\n      <td>1</td>\n      <td>95</td>\n      <td>1.0</td>\n      <td>NaN</td>\n      <td>10.0</td>\n      <td>0.022126</td>\n      <td>0.006763</td>\n      <td>0.025407</td>\n      <td>0.005261</td>\n    </tr>\n    <tr>\n      <th>6</th>\n      <td>2020-07-15</td>\n      <td>1456826891333599</td>\n      <td>895002002</td>\n      <td>0.015237</td>\n      <td>1</td>\n      <td>95</td>\n      <td>1.0</td>\n      <td>NaN</td>\n      <td>10.0</td>\n      <td>0.012476</td>\n      <td>0.003373</td>\n      <td>0.015237</td>\n      <td>0.002595</td>\n    </tr>\n    <tr>\n      <th>7</th>\n      <td>2020-07-15</td>\n      <td>2133687643102426</td>\n      <td>843642001</td>\n      <td>0.042356</td>\n      <td>2</td>\n      <td>95</td>\n      <td>1.0</td>\n      <td>NaN</td>\n      <td>10.0</td>\n      <td>0.041549</td>\n      <td>0.029153</td>\n      <td>0.042356</td>\n      <td>0.002169</td>\n    </tr>\n    <tr>\n      <th>8</th>\n      <td>2020-07-15</td>\n      <td>6010692573790711</td>\n      <td>857812010</td>\n      <td>0.039661</td>\n      <td>1</td>\n      <td>95</td>\n      <td>1.0</td>\n      <td>NaN</td>\n      <td>10.0</td>\n      <td>0.034969</td>\n      <td>0.013542</td>\n      <td>0.042356</td>\n      <td>0.007702</td>\n    </tr>\n    <tr>\n      <th>9</th>\n      <td>2020-07-15</td>\n      <td>6010692573790711</td>\n      <td>372860001</td>\n      <td>0.012678</td>\n      <td>1</td>\n      <td>95</td>\n      <td>1.0</td>\n      <td>NaN</td>\n      <td>10.0</td>\n      <td>0.013197</td>\n      <td>0.003373</td>\n      <td>0.013542</td>\n      <td>0.000962</td>\n    </tr>\n  </tbody>\n</table>\n</div>"
     },
     "execution_count": 57,
     "metadata": {},
     "output_type": "execute_result"
    }
   ],
   "source": [
    "\n",
    "data.head(10)"
   ],
   "metadata": {
    "collapsed": false,
    "ExecuteTime": {
     "end_time": "2023-11-21T19:07:50.029317900Z",
     "start_time": "2023-11-21T19:07:49.901027300Z"
    }
   }
  },
  {
   "cell_type": "code",
   "source": [
    "data = data[data.week != data.week.min()]\n",
    "data.bestseller_rank.fillna(999, inplace=True)"
   ],
   "metadata": {
    "execution": {
     "iopub.status.busy": "2022-04-16T16:57:08.940267Z",
     "iopub.execute_input": "2022-04-16T16:57:08.940616Z",
     "iopub.status.idle": "2022-04-16T16:57:11.304612Z",
     "shell.execute_reply.started": "2022-04-16T16:57:08.940582Z",
     "shell.execute_reply": "2022-04-16T16:57:11.303642Z"
    },
    "trusted": true,
    "ExecuteTime": {
     "end_time": "2023-11-21T19:07:51.279881100Z",
     "start_time": "2023-11-21T19:07:49.936083700Z"
    }
   },
   "execution_count": 58,
   "outputs": []
  },
  {
   "cell_type": "code",
   "source": [
    "data = pd.merge(data, articles, on='article_id', how='left')\n",
    "data = pd.merge(data, customers, on='customer_id', how='left')"
   ],
   "metadata": {
    "execution": {
     "iopub.status.busy": "2022-04-16T16:57:11.305896Z",
     "iopub.execute_input": "2022-04-16T16:57:11.306171Z",
     "iopub.status.idle": "2022-04-16T16:57:33.962326Z",
     "shell.execute_reply.started": "2022-04-16T16:57:11.306138Z",
     "shell.execute_reply": "2022-04-16T16:57:33.961223Z"
    },
    "trusted": true,
    "ExecuteTime": {
     "end_time": "2023-11-21T19:08:00.792631600Z",
     "start_time": "2023-11-21T19:07:51.280911Z"
    }
   },
   "execution_count": 59,
   "outputs": []
  },
  {
   "cell_type": "code",
   "source": [
    "data.sort_values(['week', 'customer_id'], inplace=True)\n",
    "data.reset_index(drop=True, inplace=True)"
   ],
   "metadata": {
    "execution": {
     "iopub.status.busy": "2022-04-16T16:57:33.964281Z",
     "iopub.execute_input": "2022-04-16T16:57:33.964533Z",
     "iopub.status.idle": "2022-04-16T16:57:40.05823Z",
     "shell.execute_reply.started": "2022-04-16T16:57:33.964502Z",
     "shell.execute_reply": "2022-04-16T16:57:40.057265Z"
    },
    "trusted": true,
    "ExecuteTime": {
     "end_time": "2023-11-21T19:08:06.200353400Z",
     "start_time": "2023-11-21T19:08:00.800341900Z"
    }
   },
   "execution_count": 60,
   "outputs": []
  },
  {
   "cell_type": "code",
   "source": [
    "train = data[data.week != test_week]\n",
    "test = data[data.week==test_week].drop_duplicates(['customer_id', 'article_id', 'sales_channel_id']).copy()"
   ],
   "metadata": {
    "execution": {
     "iopub.status.busy": "2022-04-16T16:57:40.059395Z",
     "iopub.execute_input": "2022-04-16T16:57:40.059659Z",
     "iopub.status.idle": "2022-04-16T16:57:47.342576Z",
     "shell.execute_reply.started": "2022-04-16T16:57:40.059627Z",
     "shell.execute_reply": "2022-04-16T16:57:47.34179Z"
    },
    "trusted": true,
    "ExecuteTime": {
     "end_time": "2023-11-21T19:09:51.605101200Z",
     "start_time": "2023-11-21T19:09:46.844117100Z"
    }
   },
   "execution_count": 64,
   "outputs": []
  },
  {
   "cell_type": "code",
   "source": [
    "train_baskets = train.groupby(['week', 'customer_id'])['article_id'].count().values"
   ],
   "metadata": {
    "execution": {
     "iopub.status.busy": "2022-04-16T16:57:47.343704Z",
     "iopub.execute_input": "2022-04-16T16:57:47.344074Z",
     "iopub.status.idle": "2022-04-16T16:57:48.278583Z",
     "shell.execute_reply.started": "2022-04-16T16:57:47.344043Z",
     "shell.execute_reply": "2022-04-16T16:57:48.277693Z"
    },
    "trusted": true,
    "ExecuteTime": {
     "end_time": "2023-11-21T17:33:00.543942600Z",
     "start_time": "2023-11-21T17:32:59.756440500Z"
    }
   },
   "execution_count": 48,
   "outputs": []
  },
  {
   "cell_type": "code",
   "source": [
    "columns_to_use = ['article_id', 'product_type_no', 'graphical_appearance_no', 'colour_group_code', 'perceived_colour_value_id',\n",
    "'perceived_colour_master_id', 'department_no', 'index_code',\n",
    "'index_group_no', 'section_no', 'garment_group_no', 'FN', 'Active', 'has_color',\n",
    "'club_member_status', 'fashion_news_frequency', 'age', 'postal_code', 'bestseller_rank', 'recency_rank', 'std_price']\n",
    "\n",
    "# columns_to_use += ['mean_price', 'min_price', 'max_price']\n",
    "# columns_to_use += ['sales_channel_id']"
   ],
   "metadata": {
    "execution": {
     "iopub.status.busy": "2022-04-16T16:57:48.279843Z",
     "iopub.execute_input": "2022-04-16T16:57:48.280088Z",
     "iopub.status.idle": "2022-04-16T16:57:48.285125Z",
     "shell.execute_reply.started": "2022-04-16T16:57:48.280057Z",
     "shell.execute_reply": "2022-04-16T16:57:48.284292Z"
    },
    "trusted": true,
    "ExecuteTime": {
     "end_time": "2023-11-21T17:33:00.577301600Z",
     "start_time": "2023-11-21T17:33:00.550808900Z"
    }
   },
   "execution_count": 49,
   "outputs": []
  },
  {
   "cell_type": "code",
   "source": [
    "%%time\n",
    "train_X = train[columns_to_use]\n",
    "print(train_X.columns)\n",
    "train_y = train['purchased']\n",
    "\n",
    "test_X = test[columns_to_use]\n",
    "data_folder = '..\\\\..\\\\Input\\\\Dataset\\\\'\n",
    "# export the dataframe test and train set for later use\n",
    "train_X.to_parquet(data_folder + 'train_X.parquet')\n",
    "# export series train_y for later use\n",
    "train_y.to_frame().to_parquet(data_folder + 'train_y.parquet')\n",
    "test_X.to_parquet(data_folder + 'test_X.parquet')"
   ],
   "metadata": {
    "execution": {
     "iopub.status.busy": "2022-04-16T16:57:48.286579Z",
     "iopub.execute_input": "2022-04-16T16:57:48.287072Z",
     "iopub.status.idle": "2022-04-16T16:57:49.009188Z",
     "shell.execute_reply.started": "2022-04-16T16:57:48.287025Z",
     "shell.execute_reply": "2022-04-16T16:57:49.008435Z"
    },
    "trusted": true,
    "ExecuteTime": {
     "end_time": "2023-11-21T17:39:25.756051300Z",
     "start_time": "2023-11-21T17:39:15.205980300Z"
    }
   },
   "execution_count": 62,
   "outputs": [
    {
     "name": "stdout",
     "output_type": "stream",
     "text": [
      "Index(['article_id', 'product_type_no', 'graphical_appearance_no',\n",
      "       'colour_group_code', 'perceived_colour_value_id',\n",
      "       'perceived_colour_master_id', 'department_no', 'index_code',\n",
      "       'index_group_no', 'section_no', 'garment_group_no', 'FN', 'Active',\n",
      "       'has_color', 'club_member_status', 'fashion_news_frequency', 'age',\n",
      "       'postal_code', 'bestseller_rank', 'recency_rank', 'std_price'],\n",
      "      dtype='object')\n",
      "CPU times: total: 7.16 s\n",
      "Wall time: 10.5 s\n"
     ]
    }
   ]
  },
  {
   "cell_type": "markdown",
   "source": [
    "# Model training"
   ],
   "metadata": {}
  },
  {
   "cell_type": "code",
   "source": [
    "import tensorflow as tf\n",
    "from tensorflow.keras.layers import Input, Dense\n",
    "from sklearn.preprocessing import MinMaxScaler\n",
    "from keras_tuner.tuners import RandomSearch\n",
    "from sklearn.impute import SimpleImputer\n",
    "import pandas as pd\n",
    "import numpy as np \n",
    "\n",
    "# import train_x, train_y and test_x from parquet files if needed\n",
    "if 'train_X' not in locals() or 'train_y' not in locals() or 'test_X' not in locals():\n",
    "    data_folder = '..\\\\..\\\\Input\\\\Dataset\\\\'\n",
    "    train_X = pd.read_parquet(data_folder + 'train_X.parquet')\n",
    "    train_y = pd.read_parquet(data_folder + 'train_y.parquet').values.ravel()\n",
    "    test_X = pd.read_parquet(data_folder + 'test_X.parquet')\n"
   ],
   "metadata": {
    "execution": {
     "iopub.status.busy": "2022-04-16T16:57:49.01189Z",
     "iopub.execute_input": "2022-04-16T16:57:49.012576Z",
     "iopub.status.idle": "2022-04-16T16:57:50.099966Z",
     "shell.execute_reply.started": "2022-04-16T16:57:49.012515Z",
     "shell.execute_reply": "2022-04-16T16:57:50.09909Z"
    },
    "trusted": true,
    "ExecuteTime": {
     "end_time": "2023-11-21T19:04:52.039442400Z",
     "start_time": "2023-11-21T19:04:51.990346Z"
    }
   },
   "execution_count": 15,
   "outputs": []
  },
  {
   "cell_type": "code",
   "execution_count": 16,
   "outputs": [],
   "source": [
    "# Convert the data to numpy arrays and make sure the data type is 'int32'\n",
    "train_X_tf = np.asarray(train_X).astype('float32')\n",
    "train_Y_tf = np.asarray(train_y).astype('float32')\n"
   ],
   "metadata": {
    "collapsed": false,
    "ExecuteTime": {
     "end_time": "2023-11-21T19:05:18.224501900Z",
     "start_time": "2023-11-21T19:04:56.680910800Z"
    }
   }
  },
  {
   "cell_type": "code",
   "execution_count": 17,
   "outputs": [],
   "source": [
    "\n",
    "# Create an imputer\n",
    "imputer = SimpleImputer(strategy='mean')\n",
    "\n",
    "# Fit and transform the imputer on the training data\n",
    "train_X_imputed = imputer.fit_transform(train_X)\n",
    "\n",
    "# Transform the test data using the same imputer\n",
    "test_X_imputed = imputer.transform(test_X)\n",
    "\n",
    "\n",
    "# Create a scaler\n",
    "scaler = MinMaxScaler()\n",
    "\n",
    "# Fit and transform the training data\n",
    "train_X_scaled = scaler.fit_transform(train_X_imputed)\n",
    "\n",
    "# Transform the test data using the same scaler\n",
    "test_X_scaled = scaler.transform(test_X_imputed)"
   ],
   "metadata": {
    "collapsed": false,
    "ExecuteTime": {
     "end_time": "2023-11-21T19:06:01.421893300Z",
     "start_time": "2023-11-21T19:05:27.120243Z"
    }
   }
  },
  {
   "cell_type": "code",
   "source": [
    "\n",
    "\n",
    "# Define your neural network model for ranking\n",
    "def create_ranking_model(input_dim):\n",
    "    model_input = Input(shape=(input_dim,))\n",
    "    dense_layer = Dense(64, activation='relu')(model_input)\n",
    "    output_layer = Dense(1, activation='linear')(dense_layer)\n",
    "\n",
    "    model = tf.keras.Model(inputs=model_input, outputs=output_layer)\n",
    "    return model\n",
    "\n",
    "# Create and compile the neural network model\n",
    "ranking_model = create_ranking_model(input_dim=len(columns_to_use))\n",
    "ranking_model.compile(loss='mean_squared_error', optimizer='adam')\n",
    "\n",
    "\n",
    "\n",
    "\n",
    "# Train the ranking model\n",
    "ranking_model.fit(train_X_scaled, train_y, batch_size=1024*8, epochs=10, verbose=1)\n",
    "\n",
    "\n"
   ],
   "metadata": {
    "execution": {
     "iopub.status.busy": "2022-04-16T16:57:50.101082Z",
     "iopub.execute_input": "2022-04-16T16:57:50.101312Z",
     "iopub.status.idle": "2022-04-16T16:57:50.105859Z",
     "shell.execute_reply.started": "2022-04-16T16:57:50.101285Z",
     "shell.execute_reply": "2022-04-16T16:57:50.105251Z"
    },
    "trusted": true,
    "ExecuteTime": {
     "start_time": "2023-11-21T17:40:48.800767700Z"
    }
   },
   "execution_count": null,
   "outputs": []
  },
  {
   "cell_type": "code",
   "execution_count": 54,
   "outputs": [
    {
     "name": "stdout",
     "output_type": "stream",
     "text": [
      "Using TensorFlow backend\n",
      "Reloading Tuner from my_tuner_dir\\my_ranking_model\\tuner0.json\n"
     ]
    }
   ],
   "source": [
    "\n",
    "# Hyperparameter tuning\n",
    "\n",
    "# Define a function to create the ranking model using the Functional API\n",
    "def build_model(hp):\n",
    "    input_layer = Input(shape=(len(columns_to_use),))\n",
    "    x = Dense(units=hp.Int('units', min_value=32, max_value=512, step=32))(input_layer)\n",
    "    output_layer = Dense(1)(x)\n",
    "    model = tf.keras.Model(inputs=input_layer, outputs=output_layer)\n",
    "    model.compile(loss='mean_squared_error', optimizer='adam')\n",
    "    return model\n",
    "\n",
    "tuner = RandomSearch(build_model, objective='val_loss', max_trials=10, directory='my_tuner_dir', project_name='my_ranking_model')\n",
    "tuner.search(train_X_scaled, train_y, epochs=10, validation_data=(train_X_scaled, train_y), verbose=1, batch_size=1024*10)\n"
   ],
   "metadata": {
    "collapsed": false,
    "ExecuteTime": {
     "end_time": "2023-11-08T02:22:57.109632400Z",
     "start_time": "2023-11-08T02:22:55.841755700Z"
    }
   }
  },
  {
   "cell_type": "code",
   "source": [
    "best_hyperparameters = tuner.get_best_hyperparameters(num_trials=1)[0]\n",
    "print(best_hyperparameters.values)\n",
    "best_model = build_model(best_hyperparameters)\n",
    "best_model.compile(loss='mean_squared_error', optimizer='adam')\n",
    "best_model.fit(train_X_scaled, train_y, batch_size=1024*10, epochs=10, verbose=1)\n",
    "best_model.save('best_ranking_model.keras')"
   ],
   "metadata": {
    "ExecuteTime": {
     "end_time": "2023-11-08T02:23:38.281009Z",
     "start_time": "2023-11-08T02:22:57.113051300Z"
    }
   },
   "execution_count": 55,
   "outputs": [
    {
     "name": "stdout",
     "output_type": "stream",
     "text": [
      "{'units': 32}\n",
      "Epoch 1/10\n",
      "1112/1112 [==============================] - 4s 3ms/step - loss: 0.0717\n",
      "Epoch 2/10\n",
      "1112/1112 [==============================] - 3s 3ms/step - loss: 0.0651\n",
      "Epoch 3/10\n",
      "1112/1112 [==============================] - 3s 3ms/step - loss: 0.0651\n",
      "Epoch 4/10\n",
      "1112/1112 [==============================] - 3s 3ms/step - loss: 0.0651\n",
      "Epoch 5/10\n",
      "1112/1112 [==============================] - 3s 3ms/step - loss: 0.0651\n",
      "Epoch 6/10\n",
      "1112/1112 [==============================] - 3s 3ms/step - loss: 0.0651\n",
      "Epoch 7/10\n",
      "1112/1112 [==============================] - 3s 3ms/step - loss: 0.0651\n",
      "Epoch 8/10\n",
      "1112/1112 [==============================] - 3s 3ms/step - loss: 0.0651\n",
      "Epoch 9/10\n",
      "1112/1112 [==============================] - 3s 3ms/step - loss: 0.0651\n",
      "Epoch 10/10\n",
      "1112/1112 [==============================] - 3s 3ms/step - loss: 0.0651\n"
     ]
    },
    {
     "name": "stderr",
     "output_type": "stream",
     "text": [
      "C:\\School\\2023-2024\\AI project\\win_venv\\lib\\site-packages\\keras\\src\\engine\\training.py:3079: UserWarning: You are saving your model as an HDF5 file via `model.save()`. This file format is considered legacy. We recommend using instead the native Keras format, e.g. `model.save('my_model.keras')`.\n",
      "  saving_api.save_model(\n"
     ]
    }
   ]
  },
  {
   "cell_type": "code",
   "execution_count": 62,
   "outputs": [
    {
     "name": "stdout",
     "output_type": "stream",
     "text": [
      "Model: \"model_3\"\n",
      "_________________________________________________________________\n",
      " Layer (type)                Output Shape              Param #   \n",
      "=================================================================\n",
      " input_4 (InputLayer)        [(None, 21)]              0         \n",
      "                                                                 \n",
      " dense_6 (Dense)             (None, 32)                704       \n",
      "                                                                 \n",
      " dense_7 (Dense)             (None, 1)                 33        \n",
      "                                                                 \n",
      "=================================================================\n",
      "Total params: 737 (2.88 KB)\n",
      "Trainable params: 737 (2.88 KB)\n",
      "Non-trainable params: 0 (0.00 Byte)\n",
      "_________________________________________________________________\n"
     ]
    }
   ],
   "source": [
    "best_model.summary()"
   ],
   "metadata": {
    "collapsed": false,
    "ExecuteTime": {
     "end_time": "2023-11-08T02:29:08.930045200Z",
     "start_time": "2023-11-08T02:29:08.877617700Z"
    }
   }
  },
  {
   "cell_type": "markdown",
   "source": [
    "# Calculate predictions"
   ],
   "metadata": {
    "is_executing": true
   }
  },
  {
   "cell_type": "code",
   "source": [
    "%time\n",
    "# load the best model\n",
    "best_model = tf.keras.models.load_model('best_ranking_model.h5')\n",
    "\n",
    "# Predict using the trained ranking model\n",
    "test['preds'] = best_model.predict(test_X_scaled, batch_size=1024*10, verbose=1)\n"
   ],
   "metadata": {
    "trusted": true,
    "ExecuteTime": {
     "end_time": "2023-11-21T20:10:49.181328300Z",
     "start_time": "2023-11-21T20:10:45.831596Z"
    }
   },
   "execution_count": 94,
   "outputs": [
    {
     "name": "stdout",
     "output_type": "stream",
     "text": [
      "CPU times: total: 0 ns\n",
      "Wall time: 0 ns\n",
      "646/646 [==============================] - 2s 3ms/step\n"
     ]
    }
   ]
  },
  {
   "cell_type": "code",
   "execution_count": 128,
   "outputs": [],
   "source": [
    "c_id2predicted_article_ids = test \\\n",
    "    .sort_values(['customer_id', 'preds'], ascending=False) \\\n",
    "    .groupby('customer_id')['article_id'].apply(list).to_dict()\n",
    "\n",
    "bestsellers_last_week = \\\n",
    "    bestsellers_previous_week[bestsellers_previous_week.week == bestsellers_previous_week.week.max()]['article_id'].tolist()"
   ],
   "metadata": {
    "collapsed": false,
    "ExecuteTime": {
     "end_time": "2023-11-21T22:47:08.910233300Z",
     "start_time": "2023-11-21T22:46:47.316325500Z"
    }
   }
  },
  {
   "cell_type": "code",
   "execution_count": 76,
   "outputs": [
    {
     "data": {
      "text/plain": "[685816059,\n 919786002,\n 806388012,\n 924243002,\n 762846027,\n 918522001,\n 915529005,\n 924243001,\n 923758001,\n 909370001,\n 915529003,\n 866731001,\n 448509014,\n 751471001,\n 714790020]"
     },
     "execution_count": 76,
     "metadata": {},
     "output_type": "execute_result"
    }
   ],
   "source": [
    "# perform precision at k evaluation on the test set\n",
    "test_week_purchases_by_cust = test.groupby('customer_id')['article_id'].apply(list).to_dict()"
   ],
   "metadata": {
    "collapsed": false,
    "ExecuteTime": {
     "end_time": "2023-11-21T19:21:02.358580400Z",
     "start_time": "2023-11-21T19:20:52.727184Z"
    }
   }
  },
  {
   "cell_type": "code",
   "execution_count": 84,
   "outputs": [
    {
     "data": {
      "text/plain": "[919786002,\n 806388012,\n 685816059,\n 924243001,\n 924243002,\n 918522001,\n 923758001,\n 866731001,\n 909370001,\n 751471001,\n 915529003,\n 915529005,\n 448509014,\n 762846027,\n 714790020]"
     },
     "execution_count": 84,
     "metadata": {},
     "output_type": "execute_result"
    }
   ],
   "source": [
    "\n",
    "# view the first 10 customers and their purchases\n",
    "test_week_purchases_by_cust[42984229297455520]\n",
    "# a = calculate_apk([c_id2predicted_article_ids[c_id] for c_id in test_week_purchases_by_cust.keys()], test_week_purchases_by_cust.values())"
   ],
   "metadata": {
    "collapsed": false,
    "ExecuteTime": {
     "end_time": "2023-11-21T19:26:17.730376700Z",
     "start_time": "2023-11-21T19:26:17.672970200Z"
    }
   }
  },
  {
   "cell_type": "code",
   "execution_count": null,
   "outputs": [],
   "source": [
    "c_id2predicted_article_ids[42984229297455520]"
   ],
   "metadata": {
    "collapsed": false
   }
  },
  {
   "cell_type": "code",
   "execution_count": 91,
   "outputs": [
    {
     "data": {
      "text/plain": "1.0"
     },
     "execution_count": 91,
     "metadata": {},
     "output_type": "execute_result"
    }
   ],
   "source": [
    "# find the number of items in the test set that are also present in the predictions for customer 42984229297455520\n",
    "len(set(c_id2predicted_article_ids[42984229297455520]).intersection(set(test_week_purchases_by_cust[42984229297455520])))\n",
    "apk(c_id2predicted_article_ids[42984229297455520], test_week_purchases_by_cust[42984229297455520], k=15)\n"
   ],
   "metadata": {
    "collapsed": false,
    "ExecuteTime": {
     "end_time": "2023-11-21T19:35:14.726718600Z",
     "start_time": "2023-11-21T19:35:14.664414700Z"
    }
   }
  },
  {
   "cell_type": "code",
   "execution_count": 96,
   "outputs": [
    {
     "data": {
      "text/plain": "1.0"
     },
     "execution_count": 96,
     "metadata": {},
     "output_type": "execute_result"
    }
   ],
   "source": [
    "# calculate the mean average precision at k for the test set\n",
    "calculate_apk([c_id2predicted_article_ids[c_id] for c_id in test_week_purchases_by_cust.keys()], test_week_purchases_by_cust.values())"
   ],
   "metadata": {
    "collapsed": false,
    "ExecuteTime": {
     "end_time": "2023-11-21T20:23:42.628946100Z",
     "start_time": "2023-11-21T20:23:40.178286Z"
    }
   }
  },
  {
   "cell_type": "code",
   "execution_count": 108,
   "outputs": [
    {
     "ename": "AttributeError",
     "evalue": "module 'tensorflow.core.protobuf.error_codes_pb2' has no attribute 'tsl'",
     "output_type": "error",
     "traceback": [
      "\u001B[1;31m---------------------------------------------------------------------------\u001B[0m",
      "\u001B[1;31mAttributeError\u001B[0m                            Traceback (most recent call last)",
      "File \u001B[1;32mC:\\School\\2023-2024\\AI project\\win_venv\\lib\\site-packages\\tensorflow\\core\\protobuf\\tpu\\compilation_result_pb2.py:17\u001B[0m\n\u001B[0;32m     16\u001B[0m \u001B[38;5;28;01mtry\u001B[39;00m:\n\u001B[1;32m---> 17\u001B[0m   tsl_dot_protobuf_dot_error__codes__pb2 \u001B[38;5;241m=\u001B[39m \u001B[43mtensorflow_dot_core_dot_protobuf_dot_error__codes__pb2\u001B[49m\u001B[38;5;241;43m.\u001B[39;49m\u001B[43mtsl_dot_protobuf_dot_error__codes__pb2\u001B[49m\n\u001B[0;32m     18\u001B[0m \u001B[38;5;28;01mexcept\u001B[39;00m \u001B[38;5;167;01mAttributeError\u001B[39;00m:\n",
      "\u001B[1;31mAttributeError\u001B[0m: module 'tensorflow.core.protobuf.error_codes_pb2' has no attribute 'tsl_dot_protobuf_dot_error__codes__pb2'",
      "\nDuring handling of the above exception, another exception occurred:\n",
      "\u001B[1;31mAttributeError\u001B[0m                            Traceback (most recent call last)",
      "Cell \u001B[1;32mIn[108], line 2\u001B[0m\n\u001B[0;32m      1\u001B[0m \u001B[38;5;28;01mimport\u001B[39;00m \u001B[38;5;21;01mtensorflow\u001B[39;00m \u001B[38;5;28;01mas\u001B[39;00m \u001B[38;5;21;01mtf\u001B[39;00m\n\u001B[1;32m----> 2\u001B[0m \u001B[38;5;28;01mfrom\u001B[39;00m \u001B[38;5;21;01mtensorflow_ranking\u001B[39;00m\u001B[38;5;21;01m.\u001B[39;00m\u001B[38;5;21;01mpython\u001B[39;00m\u001B[38;5;21;01m.\u001B[39;00m\u001B[38;5;21;01mkeras\u001B[39;00m \u001B[38;5;28;01mimport\u001B[39;00m metrics\n\u001B[0;32m      3\u001B[0m \u001B[38;5;66;03m# ndcg_metric = tfr.keras.metrics.NDCGMetric(name=\"ndcg_metric\")\u001B[39;00m\n",
      "File \u001B[1;32mC:\\School\\2023-2024\\AI project\\win_venv\\lib\\site-packages\\tensorflow_ranking\\__init__.py:20\u001B[0m\n\u001B[0;32m     15\u001B[0m \u001B[38;5;124;03m\"\"\"TensorFlow Ranking, the project to build ranking models on TensorFlow.\"\"\"\u001B[39;00m\n\u001B[0;32m     17\u001B[0m \u001B[38;5;66;03m# Contributors to the `python/` dir should not alter this file; instead update\u001B[39;00m\n\u001B[0;32m     18\u001B[0m \u001B[38;5;66;03m# `python/__init__.py` as necessary.\u001B[39;00m\n\u001B[1;32m---> 20\u001B[0m \u001B[38;5;28;01mfrom\u001B[39;00m \u001B[38;5;21;01mtensorflow_ranking\u001B[39;00m \u001B[38;5;28;01mimport\u001B[39;00m extension \u001B[38;5;28;01mas\u001B[39;00m ext\n\u001B[0;32m     21\u001B[0m \u001B[38;5;28;01mfrom\u001B[39;00m \u001B[38;5;21;01mtensorflow_ranking\u001B[39;00m\u001B[38;5;21;01m.\u001B[39;00m\u001B[38;5;21;01mpython\u001B[39;00m \u001B[38;5;28;01mimport\u001B[39;00m \u001B[38;5;241m*\u001B[39m  \u001B[38;5;66;03m# pylint: disable=wildcard-import\u001B[39;00m\n\u001B[0;32m     22\u001B[0m \u001B[38;5;28;01mfrom\u001B[39;00m \u001B[38;5;21;01mtensorflow_ranking\u001B[39;00m\u001B[38;5;21;01m.\u001B[39;00m\u001B[38;5;21;01mpython\u001B[39;00m\u001B[38;5;21;01m.\u001B[39;00m\u001B[38;5;21;01mversion\u001B[39;00m \u001B[38;5;28;01mimport\u001B[39;00m __version__\n",
      "File \u001B[1;32mC:\\School\\2023-2024\\AI project\\win_venv\\lib\\site-packages\\tensorflow_ranking\\extension\\__init__.py:21\u001B[0m\n\u001B[0;32m     18\u001B[0m \u001B[38;5;28;01mfrom\u001B[39;00m \u001B[38;5;21;01m__future__\u001B[39;00m \u001B[38;5;28;01mimport\u001B[39;00m division\n\u001B[0;32m     19\u001B[0m \u001B[38;5;28;01mfrom\u001B[39;00m \u001B[38;5;21;01m__future__\u001B[39;00m \u001B[38;5;28;01mimport\u001B[39;00m print_function\n\u001B[1;32m---> 21\u001B[0m \u001B[38;5;28;01mfrom\u001B[39;00m \u001B[38;5;21;01mtensorflow_ranking\u001B[39;00m\u001B[38;5;21;01m.\u001B[39;00m\u001B[38;5;21;01mextension\u001B[39;00m \u001B[38;5;28;01mimport\u001B[39;00m pipeline\n\u001B[0;32m     23\u001B[0m \u001B[38;5;28;01mfrom\u001B[39;00m \u001B[38;5;21;01mtensorflow\u001B[39;00m\u001B[38;5;21;01m.\u001B[39;00m\u001B[38;5;21;01mpython\u001B[39;00m\u001B[38;5;21;01m.\u001B[39;00m\u001B[38;5;21;01mutil\u001B[39;00m\u001B[38;5;21;01m.\u001B[39;00m\u001B[38;5;21;01mall_util\u001B[39;00m \u001B[38;5;28;01mimport\u001B[39;00m remove_undocumented  \u001B[38;5;66;03m# pylint: disable=g-bad-import-order\u001B[39;00m\n\u001B[0;32m     25\u001B[0m _allowed_symbols \u001B[38;5;241m=\u001B[39m [\u001B[38;5;124m'\u001B[39m\u001B[38;5;124mpipeline\u001B[39m\u001B[38;5;124m'\u001B[39m]\n",
      "File \u001B[1;32mC:\\School\\2023-2024\\AI project\\win_venv\\lib\\site-packages\\tensorflow_ranking\\extension\\pipeline.py:27\u001B[0m\n\u001B[0;32m     24\u001B[0m \u001B[38;5;28;01mfrom\u001B[39;00m \u001B[38;5;21;01mtensorflow\u001B[39;00m \u001B[38;5;28;01mimport\u001B[39;00m estimator \u001B[38;5;28;01mas\u001B[39;00m tf_estimator\n\u001B[0;32m     25\u001B[0m \u001B[38;5;28;01mfrom\u001B[39;00m \u001B[38;5;21;01mtensorflow\u001B[39;00m\u001B[38;5;21;01m.\u001B[39;00m\u001B[38;5;21;01mcompat\u001B[39;00m\u001B[38;5;21;01m.\u001B[39;00m\u001B[38;5;21;01mv1\u001B[39;00m \u001B[38;5;28;01mimport\u001B[39;00m estimator \u001B[38;5;28;01mas\u001B[39;00m tf_compat_v1_estimator\n\u001B[1;32m---> 27\u001B[0m \u001B[38;5;28;01mfrom\u001B[39;00m \u001B[38;5;21;01mtensorflow_ranking\u001B[39;00m\u001B[38;5;21;01m.\u001B[39;00m\u001B[38;5;21;01mpython\u001B[39;00m \u001B[38;5;28;01mimport\u001B[39;00m data \u001B[38;5;28;01mas\u001B[39;00m tfr_data\n\u001B[0;32m     29\u001B[0m _PADDING_LABEL \u001B[38;5;241m=\u001B[39m \u001B[38;5;241m-\u001B[39m\u001B[38;5;241m1\u001B[39m\n\u001B[0;32m     32\u001B[0m \u001B[38;5;28;01mclass\u001B[39;00m \u001B[38;5;21;01mRankingPipeline\u001B[39;00m(\u001B[38;5;28mobject\u001B[39m):\n",
      "File \u001B[1;32mC:\\School\\2023-2024\\AI project\\win_venv\\lib\\site-packages\\tensorflow_ranking\\python\\__init__.py:22\u001B[0m\n\u001B[0;32m     19\u001B[0m \u001B[38;5;28;01mfrom\u001B[39;00m \u001B[38;5;21;01m__future__\u001B[39;00m \u001B[38;5;28;01mimport\u001B[39;00m print_function\n\u001B[0;32m     21\u001B[0m \u001B[38;5;28;01mfrom\u001B[39;00m \u001B[38;5;21;01mtensorflow_ranking\u001B[39;00m\u001B[38;5;21;01m.\u001B[39;00m\u001B[38;5;21;01mpython\u001B[39;00m \u001B[38;5;28;01mimport\u001B[39;00m data\n\u001B[1;32m---> 22\u001B[0m \u001B[38;5;28;01mfrom\u001B[39;00m \u001B[38;5;21;01mtensorflow_ranking\u001B[39;00m\u001B[38;5;21;01m.\u001B[39;00m\u001B[38;5;21;01mpython\u001B[39;00m \u001B[38;5;28;01mimport\u001B[39;00m estimator\n\u001B[0;32m     23\u001B[0m \u001B[38;5;28;01mfrom\u001B[39;00m \u001B[38;5;21;01mtensorflow_ranking\u001B[39;00m\u001B[38;5;21;01m.\u001B[39;00m\u001B[38;5;21;01mpython\u001B[39;00m \u001B[38;5;28;01mimport\u001B[39;00m feature\n\u001B[0;32m     24\u001B[0m \u001B[38;5;28;01mfrom\u001B[39;00m \u001B[38;5;21;01mtensorflow_ranking\u001B[39;00m\u001B[38;5;21;01m.\u001B[39;00m\u001B[38;5;21;01mpython\u001B[39;00m \u001B[38;5;28;01mimport\u001B[39;00m head\n",
      "File \u001B[1;32mC:\\School\\2023-2024\\AI project\\win_venv\\lib\\site-packages\\tensorflow_ranking\\python\\estimator.py:27\u001B[0m\n\u001B[0;32m     24\u001B[0m \u001B[38;5;28;01mfrom\u001B[39;00m \u001B[38;5;21;01mtensorflow\u001B[39;00m \u001B[38;5;28;01mimport\u001B[39;00m estimator \u001B[38;5;28;01mas\u001B[39;00m tf_estimator\n\u001B[0;32m     26\u001B[0m \u001B[38;5;28;01mfrom\u001B[39;00m \u001B[38;5;21;01mtensorflow\u001B[39;00m\u001B[38;5;21;01m.\u001B[39;00m\u001B[38;5;21;01mpython\u001B[39;00m\u001B[38;5;21;01m.\u001B[39;00m\u001B[38;5;21;01mutil\u001B[39;00m \u001B[38;5;28;01mimport\u001B[39;00m function_utils\n\u001B[1;32m---> 27\u001B[0m \u001B[38;5;28;01mfrom\u001B[39;00m \u001B[38;5;21;01mtensorflow_ranking\u001B[39;00m\u001B[38;5;21;01m.\u001B[39;00m\u001B[38;5;21;01mpython\u001B[39;00m \u001B[38;5;28;01mimport\u001B[39;00m feature\n\u001B[0;32m     28\u001B[0m \u001B[38;5;28;01mfrom\u001B[39;00m \u001B[38;5;21;01mtensorflow_ranking\u001B[39;00m\u001B[38;5;21;01m.\u001B[39;00m\u001B[38;5;21;01mpython\u001B[39;00m \u001B[38;5;28;01mimport\u001B[39;00m head\n\u001B[0;32m     29\u001B[0m \u001B[38;5;28;01mfrom\u001B[39;00m \u001B[38;5;21;01mtensorflow_ranking\u001B[39;00m\u001B[38;5;21;01m.\u001B[39;00m\u001B[38;5;21;01mpython\u001B[39;00m \u001B[38;5;28;01mimport\u001B[39;00m losses\n",
      "File \u001B[1;32mC:\\School\\2023-2024\\AI project\\win_venv\\lib\\site-packages\\tensorflow_ranking\\python\\feature.py:81\u001B[0m\n\u001B[0;32m     75\u001B[0m     \u001B[38;5;28;01mreturn\u001B[39;00m \u001B[38;5;28;01mTrue\u001B[39;00m\n\u001B[0;32m     76\u001B[0m   \u001B[38;5;28;01mreturn\u001B[39;00m \u001B[38;5;28;01mFalse\u001B[39;00m\n\u001B[0;32m     79\u001B[0m \u001B[38;5;28;01mdef\u001B[39;00m \u001B[38;5;21mencode_features\u001B[39m(features,\n\u001B[0;32m     80\u001B[0m                     feature_columns,\n\u001B[1;32m---> 81\u001B[0m                     mode\u001B[38;5;241m=\u001B[39m\u001B[43mtf_estimator\u001B[49m\u001B[38;5;241;43m.\u001B[39;49m\u001B[43mModeKeys\u001B[49m\u001B[38;5;241m.\u001B[39mTRAIN,\n\u001B[0;32m     82\u001B[0m                     scope\u001B[38;5;241m=\u001B[39m\u001B[38;5;28;01mNone\u001B[39;00m):\n\u001B[0;32m     83\u001B[0m \u001B[38;5;250m  \u001B[39m\u001B[38;5;124;03m\"\"\"Returns dense tensors from features using feature columns.\u001B[39;00m\n\u001B[0;32m     84\u001B[0m \n\u001B[0;32m     85\u001B[0m \u001B[38;5;124;03m  This function encodes the feature column transformation on the 'raw'\u001B[39;00m\n\u001B[1;32m   (...)\u001B[0m\n\u001B[0;32m     98\u001B[0m \u001B[38;5;124;03m    (dict) A mapping from columns to dense tensors.\u001B[39;00m\n\u001B[0;32m     99\u001B[0m \u001B[38;5;124;03m  \"\"\"\u001B[39;00m\n\u001B[0;32m    100\u001B[0m   \u001B[38;5;66;03m# Having scope here for backward compatibility.\u001B[39;00m\n",
      "File \u001B[1;32mC:\\School\\2023-2024\\AI project\\win_venv\\lib\\site-packages\\tensorflow\\python\\util\\lazy_loader.py:66\u001B[0m, in \u001B[0;36m__getattr__\u001B[1;34m(self, item)\u001B[0m\n\u001B[0;32m     62\u001B[0m   \u001B[38;5;28mself\u001B[39m\u001B[38;5;241m.\u001B[39m\u001B[38;5;18m__dict__\u001B[39m\u001B[38;5;241m.\u001B[39mupdate(module\u001B[38;5;241m.\u001B[39m\u001B[38;5;18m__dict__\u001B[39m)\n\u001B[0;32m     64\u001B[0m   \u001B[38;5;28;01mreturn\u001B[39;00m module\n\u001B[1;32m---> 66\u001B[0m \u001B[38;5;28;01mdef\u001B[39;00m \u001B[38;5;21m__getattr__\u001B[39m(\u001B[38;5;28mself\u001B[39m, item):\n\u001B[0;32m     67\u001B[0m   module \u001B[38;5;241m=\u001B[39m \u001B[38;5;28mself\u001B[39m\u001B[38;5;241m.\u001B[39m_load()\n\u001B[0;32m     68\u001B[0m   \u001B[38;5;28;01mreturn\u001B[39;00m \u001B[38;5;28mgetattr\u001B[39m(module, item)\n",
      "File \u001B[1;32mC:\\School\\2023-2024\\AI project\\win_venv\\lib\\site-packages\\tensorflow\\python\\util\\lazy_loader.py:49\u001B[0m, in \u001B[0;36m_load\u001B[1;34m(self)\u001B[0m\n\u001B[0;32m     47\u001B[0m def _load(self):\n\u001B[0;32m     48\u001B[0m   \"\"\"Load the module and insert it into the parent's globals.\"\"\"\n\u001B[1;32m---> 49\u001B[0m   # Import the target module and insert it into the parent's namespace\n\u001B[0;32m     50\u001B[0m   module = importlib.import_module(self.__name__)\n\u001B[0;32m     51\u001B[0m   self._parent_module_globals[self._local_name] = module\n",
      "File \u001B[1;32m~\\AppData\\Local\\Programs\\Python\\Python310\\lib\\importlib\\__init__.py:126\u001B[0m, in \u001B[0;36mimport_module\u001B[1;34m(name, package)\u001B[0m\n\u001B[0;32m    124\u001B[0m             \u001B[38;5;28;01mbreak\u001B[39;00m\n\u001B[0;32m    125\u001B[0m         level \u001B[38;5;241m+\u001B[39m\u001B[38;5;241m=\u001B[39m \u001B[38;5;241m1\u001B[39m\n\u001B[1;32m--> 126\u001B[0m \u001B[38;5;28;01mreturn\u001B[39;00m \u001B[43m_bootstrap\u001B[49m\u001B[38;5;241;43m.\u001B[39;49m\u001B[43m_gcd_import\u001B[49m\u001B[43m(\u001B[49m\u001B[43mname\u001B[49m\u001B[43m[\u001B[49m\u001B[43mlevel\u001B[49m\u001B[43m:\u001B[49m\u001B[43m]\u001B[49m\u001B[43m,\u001B[49m\u001B[43m \u001B[49m\u001B[43mpackage\u001B[49m\u001B[43m,\u001B[49m\u001B[43m \u001B[49m\u001B[43mlevel\u001B[49m\u001B[43m)\u001B[49m\n",
      "File \u001B[1;32mC:\\School\\2023-2024\\AI project\\win_venv\\lib\\site-packages\\tensorflow_estimator\\python\\estimator\\api\\__init__.py:8\u001B[0m\n\u001B[0;32m      3\u001B[0m \u001B[38;5;124;03m\"\"\"Public API for tf_estimator.python.estimator.api._v1 namespace\u001B[39;00m\n\u001B[0;32m      4\u001B[0m \u001B[38;5;124;03m\"\"\"\u001B[39;00m\n\u001B[0;32m      6\u001B[0m \u001B[38;5;28;01mimport\u001B[39;00m \u001B[38;5;21;01msys\u001B[39;00m \u001B[38;5;28;01mas\u001B[39;00m \u001B[38;5;21;01m_sys\u001B[39;00m\n\u001B[1;32m----> 8\u001B[0m \u001B[38;5;28;01mfrom\u001B[39;00m \u001B[38;5;21;01mtensorflow_estimator\u001B[39;00m\u001B[38;5;21;01m.\u001B[39;00m\u001B[38;5;21;01mpython\u001B[39;00m\u001B[38;5;21;01m.\u001B[39;00m\u001B[38;5;21;01mestimator\u001B[39;00m\u001B[38;5;21;01m.\u001B[39;00m\u001B[38;5;21;01mapi\u001B[39;00m\u001B[38;5;21;01m.\u001B[39;00m\u001B[38;5;21;01m_v1\u001B[39;00m \u001B[38;5;28;01mimport\u001B[39;00m estimator\n\u001B[0;32m     10\u001B[0m \u001B[38;5;28;01mfrom\u001B[39;00m \u001B[38;5;21;01mtensorflow\u001B[39;00m\u001B[38;5;21;01m.\u001B[39;00m\u001B[38;5;21;01mpython\u001B[39;00m\u001B[38;5;21;01m.\u001B[39;00m\u001B[38;5;21;01mutil\u001B[39;00m \u001B[38;5;28;01mimport\u001B[39;00m module_wrapper \u001B[38;5;28;01mas\u001B[39;00m _module_wrapper\n\u001B[0;32m     12\u001B[0m \u001B[38;5;28;01mif\u001B[39;00m \u001B[38;5;129;01mnot\u001B[39;00m \u001B[38;5;28misinstance\u001B[39m(_sys\u001B[38;5;241m.\u001B[39mmodules[\u001B[38;5;18m__name__\u001B[39m], _module_wrapper\u001B[38;5;241m.\u001B[39mTFModuleWrapper):\n",
      "File \u001B[1;32mC:\\School\\2023-2024\\AI project\\win_venv\\lib\\site-packages\\tensorflow_estimator\\python\\estimator\\api\\_v1\\estimator\\__init__.py:8\u001B[0m\n\u001B[0;32m      3\u001B[0m \u001B[38;5;124;03m\"\"\"Public API for tf_estimator.python.estimator.api._v1.estimator namespace\u001B[39;00m\n\u001B[0;32m      4\u001B[0m \u001B[38;5;124;03m\"\"\"\u001B[39;00m\n\u001B[0;32m      6\u001B[0m \u001B[38;5;28;01mimport\u001B[39;00m \u001B[38;5;21;01msys\u001B[39;00m \u001B[38;5;28;01mas\u001B[39;00m \u001B[38;5;21;01m_sys\u001B[39;00m\n\u001B[1;32m----> 8\u001B[0m \u001B[38;5;28;01mfrom\u001B[39;00m \u001B[38;5;21;01mtensorflow_estimator\u001B[39;00m\u001B[38;5;21;01m.\u001B[39;00m\u001B[38;5;21;01mpython\u001B[39;00m\u001B[38;5;21;01m.\u001B[39;00m\u001B[38;5;21;01mestimator\u001B[39;00m\u001B[38;5;21;01m.\u001B[39;00m\u001B[38;5;21;01mapi\u001B[39;00m\u001B[38;5;21;01m.\u001B[39;00m\u001B[38;5;21;01m_v1\u001B[39;00m\u001B[38;5;21;01m.\u001B[39;00m\u001B[38;5;21;01mestimator\u001B[39;00m \u001B[38;5;28;01mimport\u001B[39;00m experimental\n\u001B[0;32m      9\u001B[0m \u001B[38;5;28;01mfrom\u001B[39;00m \u001B[38;5;21;01mtensorflow_estimator\u001B[39;00m\u001B[38;5;21;01m.\u001B[39;00m\u001B[38;5;21;01mpython\u001B[39;00m\u001B[38;5;21;01m.\u001B[39;00m\u001B[38;5;21;01mestimator\u001B[39;00m\u001B[38;5;21;01m.\u001B[39;00m\u001B[38;5;21;01mapi\u001B[39;00m\u001B[38;5;21;01m.\u001B[39;00m\u001B[38;5;21;01m_v1\u001B[39;00m\u001B[38;5;21;01m.\u001B[39;00m\u001B[38;5;21;01mestimator\u001B[39;00m \u001B[38;5;28;01mimport\u001B[39;00m export\n\u001B[0;32m     10\u001B[0m \u001B[38;5;28;01mfrom\u001B[39;00m \u001B[38;5;21;01mtensorflow_estimator\u001B[39;00m\u001B[38;5;21;01m.\u001B[39;00m\u001B[38;5;21;01mpython\u001B[39;00m\u001B[38;5;21;01m.\u001B[39;00m\u001B[38;5;21;01mestimator\u001B[39;00m\u001B[38;5;21;01m.\u001B[39;00m\u001B[38;5;21;01mapi\u001B[39;00m\u001B[38;5;21;01m.\u001B[39;00m\u001B[38;5;21;01m_v1\u001B[39;00m\u001B[38;5;21;01m.\u001B[39;00m\u001B[38;5;21;01mestimator\u001B[39;00m \u001B[38;5;28;01mimport\u001B[39;00m inputs\n",
      "File \u001B[1;32mC:\\School\\2023-2024\\AI project\\win_venv\\lib\\site-packages\\tensorflow_estimator\\__init__.py:8\u001B[0m\n\u001B[0;32m      3\u001B[0m \u001B[38;5;124;03m\"\"\"Public API for tf_estimator._api.v1 namespace\u001B[39;00m\n\u001B[0;32m      4\u001B[0m \u001B[38;5;124;03m\"\"\"\u001B[39;00m\n\u001B[0;32m      6\u001B[0m \u001B[38;5;28;01mimport\u001B[39;00m \u001B[38;5;21;01msys\u001B[39;00m \u001B[38;5;28;01mas\u001B[39;00m \u001B[38;5;21;01m_sys\u001B[39;00m\n\u001B[1;32m----> 8\u001B[0m \u001B[38;5;28;01mfrom\u001B[39;00m \u001B[38;5;21;01mtensorflow_estimator\u001B[39;00m\u001B[38;5;21;01m.\u001B[39;00m\u001B[38;5;21;01m_api\u001B[39;00m\u001B[38;5;21;01m.\u001B[39;00m\u001B[38;5;21;01mv1\u001B[39;00m \u001B[38;5;28;01mimport\u001B[39;00m estimator\n\u001B[0;32m     10\u001B[0m \u001B[38;5;28;01mfrom\u001B[39;00m \u001B[38;5;21;01mtensorflow\u001B[39;00m\u001B[38;5;21;01m.\u001B[39;00m\u001B[38;5;21;01mpython\u001B[39;00m\u001B[38;5;21;01m.\u001B[39;00m\u001B[38;5;21;01mutil\u001B[39;00m \u001B[38;5;28;01mimport\u001B[39;00m module_wrapper \u001B[38;5;28;01mas\u001B[39;00m _module_wrapper\n\u001B[0;32m     12\u001B[0m \u001B[38;5;28;01mif\u001B[39;00m \u001B[38;5;129;01mnot\u001B[39;00m \u001B[38;5;28misinstance\u001B[39m(_sys\u001B[38;5;241m.\u001B[39mmodules[\u001B[38;5;18m__name__\u001B[39m], _module_wrapper\u001B[38;5;241m.\u001B[39mTFModuleWrapper):\n",
      "File \u001B[1;32mC:\\School\\2023-2024\\AI project\\win_venv\\lib\\site-packages\\tensorflow_estimator\\_api\\v1\\estimator\\__init__.py:11\u001B[0m\n\u001B[0;32m      9\u001B[0m \u001B[38;5;28;01mfrom\u001B[39;00m \u001B[38;5;21;01mtensorflow_estimator\u001B[39;00m\u001B[38;5;21;01m.\u001B[39;00m\u001B[38;5;21;01m_api\u001B[39;00m\u001B[38;5;21;01m.\u001B[39;00m\u001B[38;5;21;01mv1\u001B[39;00m\u001B[38;5;21;01m.\u001B[39;00m\u001B[38;5;21;01mestimator\u001B[39;00m \u001B[38;5;28;01mimport\u001B[39;00m export\n\u001B[0;32m     10\u001B[0m \u001B[38;5;28;01mfrom\u001B[39;00m \u001B[38;5;21;01mtensorflow_estimator\u001B[39;00m\u001B[38;5;21;01m.\u001B[39;00m\u001B[38;5;21;01m_api\u001B[39;00m\u001B[38;5;21;01m.\u001B[39;00m\u001B[38;5;21;01mv1\u001B[39;00m\u001B[38;5;21;01m.\u001B[39;00m\u001B[38;5;21;01mestimator\u001B[39;00m \u001B[38;5;28;01mimport\u001B[39;00m inputs\n\u001B[1;32m---> 11\u001B[0m \u001B[38;5;28;01mfrom\u001B[39;00m \u001B[38;5;21;01mtensorflow_estimator\u001B[39;00m\u001B[38;5;21;01m.\u001B[39;00m\u001B[38;5;21;01m_api\u001B[39;00m\u001B[38;5;21;01m.\u001B[39;00m\u001B[38;5;21;01mv1\u001B[39;00m\u001B[38;5;21;01m.\u001B[39;00m\u001B[38;5;21;01mestimator\u001B[39;00m \u001B[38;5;28;01mimport\u001B[39;00m tpu\n\u001B[0;32m     12\u001B[0m \u001B[38;5;28;01mfrom\u001B[39;00m \u001B[38;5;21;01mtensorflow_estimator\u001B[39;00m\u001B[38;5;21;01m.\u001B[39;00m\u001B[38;5;21;01mpython\u001B[39;00m\u001B[38;5;21;01m.\u001B[39;00m\u001B[38;5;21;01mestimator\u001B[39;00m\u001B[38;5;21;01m.\u001B[39;00m\u001B[38;5;21;01mcanned\u001B[39;00m\u001B[38;5;21;01m.\u001B[39;00m\u001B[38;5;21;01mbaseline\u001B[39;00m \u001B[38;5;28;01mimport\u001B[39;00m BaselineClassifier \u001B[38;5;66;03m# line: 403\u001B[39;00m\n\u001B[0;32m     13\u001B[0m \u001B[38;5;28;01mfrom\u001B[39;00m \u001B[38;5;21;01mtensorflow_estimator\u001B[39;00m\u001B[38;5;21;01m.\u001B[39;00m\u001B[38;5;21;01mpython\u001B[39;00m\u001B[38;5;21;01m.\u001B[39;00m\u001B[38;5;21;01mestimator\u001B[39;00m\u001B[38;5;21;01m.\u001B[39;00m\u001B[38;5;21;01mcanned\u001B[39;00m\u001B[38;5;21;01m.\u001B[39;00m\u001B[38;5;21;01mbaseline\u001B[39;00m \u001B[38;5;28;01mimport\u001B[39;00m BaselineEstimator \u001B[38;5;66;03m# line: 511\u001B[39;00m\n",
      "File \u001B[1;32mC:\\School\\2023-2024\\AI project\\win_venv\\lib\\site-packages\\tensorflow_estimator\\_api\\v1\\estimator\\tpu\\__init__.py:12\u001B[0m\n\u001B[0;32m     10\u001B[0m \u001B[38;5;28;01mfrom\u001B[39;00m \u001B[38;5;21;01mtensorflow_estimator\u001B[39;00m\u001B[38;5;21;01m.\u001B[39;00m\u001B[38;5;21;01mpython\u001B[39;00m\u001B[38;5;21;01m.\u001B[39;00m\u001B[38;5;21;01mestimator\u001B[39;00m\u001B[38;5;21;01m.\u001B[39;00m\u001B[38;5;21;01mtpu\u001B[39;00m\u001B[38;5;21;01m.\u001B[39;00m\u001B[38;5;21;01mtpu_config\u001B[39;00m \u001B[38;5;28;01mimport\u001B[39;00m RunConfig \u001B[38;5;66;03m# line: 237\u001B[39;00m\n\u001B[0;32m     11\u001B[0m \u001B[38;5;28;01mfrom\u001B[39;00m \u001B[38;5;21;01mtensorflow_estimator\u001B[39;00m\u001B[38;5;21;01m.\u001B[39;00m\u001B[38;5;21;01mpython\u001B[39;00m\u001B[38;5;21;01m.\u001B[39;00m\u001B[38;5;21;01mestimator\u001B[39;00m\u001B[38;5;21;01m.\u001B[39;00m\u001B[38;5;21;01mtpu\u001B[39;00m\u001B[38;5;21;01m.\u001B[39;00m\u001B[38;5;21;01mtpu_config\u001B[39;00m \u001B[38;5;28;01mimport\u001B[39;00m TPUConfig \u001B[38;5;66;03m# line: 54\u001B[39;00m\n\u001B[1;32m---> 12\u001B[0m \u001B[38;5;28;01mfrom\u001B[39;00m \u001B[38;5;21;01mtensorflow_estimator\u001B[39;00m\u001B[38;5;21;01m.\u001B[39;00m\u001B[38;5;21;01mpython\u001B[39;00m\u001B[38;5;21;01m.\u001B[39;00m\u001B[38;5;21;01mestimator\u001B[39;00m\u001B[38;5;21;01m.\u001B[39;00m\u001B[38;5;21;01mtpu\u001B[39;00m\u001B[38;5;21;01m.\u001B[39;00m\u001B[38;5;21;01mtpu_estimator\u001B[39;00m \u001B[38;5;28;01mimport\u001B[39;00m TPUEstimator \u001B[38;5;66;03m# line: 2457\u001B[39;00m\n\u001B[0;32m     13\u001B[0m \u001B[38;5;28;01mfrom\u001B[39;00m \u001B[38;5;21;01mtensorflow_estimator\u001B[39;00m\u001B[38;5;21;01m.\u001B[39;00m\u001B[38;5;21;01mpython\u001B[39;00m\u001B[38;5;21;01m.\u001B[39;00m\u001B[38;5;21;01mestimator\u001B[39;00m\u001B[38;5;21;01m.\u001B[39;00m\u001B[38;5;21;01mtpu\u001B[39;00m\u001B[38;5;21;01m.\u001B[39;00m\u001B[38;5;21;01mtpu_estimator\u001B[39;00m \u001B[38;5;28;01mimport\u001B[39;00m TPUEstimatorSpec \u001B[38;5;66;03m# line: 282\u001B[39;00m\n\u001B[0;32m     15\u001B[0m \u001B[38;5;28;01mfrom\u001B[39;00m \u001B[38;5;21;01mtensorflow\u001B[39;00m\u001B[38;5;21;01m.\u001B[39;00m\u001B[38;5;21;01mpython\u001B[39;00m\u001B[38;5;21;01m.\u001B[39;00m\u001B[38;5;21;01mutil\u001B[39;00m \u001B[38;5;28;01mimport\u001B[39;00m module_wrapper \u001B[38;5;28;01mas\u001B[39;00m _module_wrapper\n",
      "File \u001B[1;32mC:\\School\\2023-2024\\AI project\\win_venv\\lib\\site-packages\\tensorflow_estimator\\python\\estimator\\tpu\\tpu_estimator.py:39\u001B[0m\n\u001B[0;32m     37\u001B[0m \u001B[38;5;28;01mfrom\u001B[39;00m \u001B[38;5;21;01mtensorflow\u001B[39;00m\u001B[38;5;21;01m.\u001B[39;00m\u001B[38;5;21;01mcore\u001B[39;00m\u001B[38;5;21;01m.\u001B[39;00m\u001B[38;5;21;01mframework\u001B[39;00m \u001B[38;5;28;01mimport\u001B[39;00m variable_pb2\n\u001B[0;32m     38\u001B[0m \u001B[38;5;28;01mfrom\u001B[39;00m \u001B[38;5;21;01mtensorflow\u001B[39;00m\u001B[38;5;21;01m.\u001B[39;00m\u001B[38;5;21;01mcore\u001B[39;00m\u001B[38;5;21;01m.\u001B[39;00m\u001B[38;5;21;01mframework\u001B[39;00m\u001B[38;5;21;01m.\u001B[39;00m\u001B[38;5;21;01msummary_pb2\u001B[39;00m \u001B[38;5;28;01mimport\u001B[39;00m Summary\n\u001B[1;32m---> 39\u001B[0m \u001B[38;5;28;01mfrom\u001B[39;00m \u001B[38;5;21;01mtensorflow\u001B[39;00m\u001B[38;5;21;01m.\u001B[39;00m\u001B[38;5;21;01mcore\u001B[39;00m\u001B[38;5;21;01m.\u001B[39;00m\u001B[38;5;21;01mprotobuf\u001B[39;00m\u001B[38;5;21;01m.\u001B[39;00m\u001B[38;5;21;01mtpu\u001B[39;00m \u001B[38;5;28;01mimport\u001B[39;00m compilation_result_pb2 \u001B[38;5;28;01mas\u001B[39;00m tpu_compilation_result\n\u001B[0;32m     40\u001B[0m \u001B[38;5;28;01mfrom\u001B[39;00m \u001B[38;5;21;01mtensorflow\u001B[39;00m\u001B[38;5;21;01m.\u001B[39;00m\u001B[38;5;21;01mpython\u001B[39;00m\u001B[38;5;21;01m.\u001B[39;00m\u001B[38;5;21;01mdata\u001B[39;00m\u001B[38;5;21;01m.\u001B[39;00m\u001B[38;5;21;01mutil\u001B[39;00m \u001B[38;5;28;01mimport\u001B[39;00m nest \u001B[38;5;28;01mas\u001B[39;00m data_nest\n\u001B[0;32m     41\u001B[0m \u001B[38;5;28;01mfrom\u001B[39;00m \u001B[38;5;21;01mtensorflow\u001B[39;00m\u001B[38;5;21;01m.\u001B[39;00m\u001B[38;5;21;01mpython\u001B[39;00m\u001B[38;5;21;01m.\u001B[39;00m\u001B[38;5;21;01mdistribute\u001B[39;00m\u001B[38;5;21;01m.\u001B[39;00m\u001B[38;5;21;01mcluster_resolver\u001B[39;00m \u001B[38;5;28;01mimport\u001B[39;00m tpu_cluster_resolver\n",
      "File \u001B[1;32mC:\\School\\2023-2024\\AI project\\win_venv\\lib\\site-packages\\tensorflow\\core\\protobuf\\tpu\\compilation_result_pb2.py:19\u001B[0m\n\u001B[0;32m     17\u001B[0m   tsl_dot_protobuf_dot_error__codes__pb2 \u001B[38;5;241m=\u001B[39m tensorflow_dot_core_dot_protobuf_dot_error__codes__pb2\u001B[38;5;241m.\u001B[39mtsl_dot_protobuf_dot_error__codes__pb2\n\u001B[0;32m     18\u001B[0m \u001B[38;5;28;01mexcept\u001B[39;00m \u001B[38;5;167;01mAttributeError\u001B[39;00m:\n\u001B[1;32m---> 19\u001B[0m   tsl_dot_protobuf_dot_error__codes__pb2 \u001B[38;5;241m=\u001B[39m \u001B[43mtensorflow_dot_core_dot_protobuf_dot_error__codes__pb2\u001B[49m\u001B[38;5;241;43m.\u001B[39;49m\u001B[43mtsl\u001B[49m\u001B[38;5;241m.\u001B[39mprotobuf\u001B[38;5;241m.\u001B[39merror_codes_pb2\n\u001B[0;32m     22\u001B[0m DESCRIPTOR \u001B[38;5;241m=\u001B[39m _descriptor_pool\u001B[38;5;241m.\u001B[39mDefault()\u001B[38;5;241m.\u001B[39mAddSerializedFile(\u001B[38;5;124mb\u001B[39m\u001B[38;5;124m'\u001B[39m\u001B[38;5;130;01m\\n\u001B[39;00m\u001B[38;5;124m5tensorflow/core/protobuf/tpu/compilation_result.proto\u001B[39m\u001B[38;5;130;01m\\x12\u001B[39;00m\u001B[38;5;130;01m\\x0e\u001B[39;00m\u001B[38;5;124mtensorflow.tpu\u001B[39m\u001B[38;5;130;01m\\x1a\u001B[39;00m\u001B[38;5;130;01m\\x15\u001B[39;00m\u001B[38;5;124mxla/service/hlo.proto\u001B[39m\u001B[38;5;130;01m\\x1a\u001B[39;00m\u001B[38;5;124m*tensorflow/core/protobuf/error_codes.proto\u001B[39m\u001B[38;5;130;01m\\\"\u001B[39;00m\u001B[38;5;130;01m\\xf9\u001B[39;00m\u001B[38;5;130;01m\\x01\u001B[39;00m\u001B[38;5;130;01m\\n\u001B[39;00m\u001B[38;5;130;01m\\x16\u001B[39;00m\u001B[38;5;130;01m\\x43\u001B[39;00m\u001B[38;5;124mompilationResultProto\u001B[39m\u001B[38;5;130;01m\\x12\u001B[39;00m\u001B[38;5;124m+\u001B[39m\u001B[38;5;130;01m\\n\u001B[39;00m\u001B[38;5;130;01m\\x0b\u001B[39;00m\u001B[38;5;124mstatus_code\u001B[39m\u001B[38;5;130;01m\\x18\u001B[39;00m\u001B[38;5;130;01m\\x01\u001B[39;00m\u001B[38;5;124m \u001B[39m\u001B[38;5;130;01m\\x01\u001B[39;00m\u001B[38;5;124m(\u001B[39m\u001B[38;5;130;01m\\x0e\u001B[39;00m\u001B[38;5;130;01m\\x32\u001B[39;00m\u001B[38;5;130;01m\\x16\u001B[39;00m\u001B[38;5;124m.tensorflow.error.Code\u001B[39m\u001B[38;5;130;01m\\x12\u001B[39;00m\u001B[38;5;130;01m\\x1c\u001B[39;00m\u001B[38;5;130;01m\\n\u001B[39;00m\u001B[38;5;130;01m\\x14\u001B[39;00m\u001B[38;5;124mstatus_error_message\u001B[39m\u001B[38;5;130;01m\\x18\u001B[39;00m\u001B[38;5;130;01m\\x02\u001B[39;00m\u001B[38;5;124m \u001B[39m\u001B[38;5;130;01m\\x01\u001B[39;00m\u001B[38;5;124m(\u001B[39m\u001B[38;5;130;01m\\t\u001B[39;00m\u001B[38;5;130;01m\\x12\u001B[39;00m\u001B[38;5;124m!\u001B[39m\u001B[38;5;130;01m\\n\u001B[39;00m\u001B[38;5;130;01m\\n\u001B[39;00m\u001B[38;5;124mhlo_protos\u001B[39m\u001B[38;5;130;01m\\x18\u001B[39;00m\u001B[38;5;130;01m\\x03\u001B[39;00m\u001B[38;5;124m \u001B[39m\u001B[38;5;130;01m\\x03\u001B[39;00m\u001B[38;5;124m(\u001B[39m\u001B[38;5;130;01m\\x0b\u001B[39;00m\u001B[38;5;130;01m\\x32\u001B[39;00m\u001B[38;5;130;01m\\r\u001B[39;00m\u001B[38;5;124m.xla.HloProto\u001B[39m\u001B[38;5;130;01m\\x12\u001B[39;00m\u001B[38;5;130;01m\\x44\u001B[39;00m\u001B[38;5;130;01m\\n\u001B[39;00m\u001B[38;5;130;01m\\n\u001B[39;00m\u001B[38;5;124merror_code\u001B[39m\u001B[38;5;130;01m\\x18\u001B[39;00m\u001B[38;5;130;01m\\x04\u001B[39;00m\u001B[38;5;124m \u001B[39m\u001B[38;5;130;01m\\x01\u001B[39;00m\u001B[38;5;124m(\u001B[39m\u001B[38;5;130;01m\\x0e\u001B[39;00m\u001B[38;5;130;01m\\x32\u001B[39;00m\u001B[38;5;130;01m\\x30\u001B[39;00m\u001B[38;5;124m.tensorflow.tpu.CompilationResultProto.ErrorCode\u001B[39m\u001B[38;5;130;01m\\\"\u001B[39;00m\u001B[38;5;124m+\u001B[39m\u001B[38;5;130;01m\\n\u001B[39;00m\u001B[38;5;130;01m\\t\u001B[39;00m\u001B[38;5;124mErrorCode\u001B[39m\u001B[38;5;130;01m\\x12\u001B[39;00m\u001B[38;5;130;01m\\x0b\u001B[39;00m\u001B[38;5;130;01m\\n\u001B[39;00m\u001B[38;5;130;01m\\x07\u001B[39;00m\u001B[38;5;124mUNKNOWN\u001B[39m\u001B[38;5;130;01m\\x10\u001B[39;00m\u001B[38;5;130;01m\\x00\u001B[39;00m\u001B[38;5;130;01m\\x12\u001B[39;00m\u001B[38;5;130;01m\\x11\u001B[39;00m\u001B[38;5;130;01m\\n\u001B[39;00m\u001B[38;5;130;01m\\r\u001B[39;00m\u001B[38;5;124mOUT_OF_MEMORY\u001B[39m\u001B[38;5;130;01m\\x10\u001B[39;00m\u001B[38;5;130;01m\\x01\u001B[39;00m\u001B[38;5;130;01m\\x42\u001B[39;00m\u001B[38;5;130;01m\\x03\u001B[39;00m\u001B[38;5;130;01m\\xf8\u001B[39;00m\u001B[38;5;130;01m\\x01\u001B[39;00m\u001B[38;5;130;01m\\x01\u001B[39;00m\u001B[38;5;130;01m\\x62\u001B[39;00m\u001B[38;5;130;01m\\x06\u001B[39;00m\u001B[38;5;124mproto3\u001B[39m\u001B[38;5;124m'\u001B[39m)\n\u001B[0;32m     24\u001B[0m _builder\u001B[38;5;241m.\u001B[39mBuildMessageAndEnumDescriptors(DESCRIPTOR, \u001B[38;5;28mglobals\u001B[39m())\n",
      "\u001B[1;31mAttributeError\u001B[0m: module 'tensorflow.core.protobuf.error_codes_pb2' has no attribute 'tsl'"
     ]
    }
   ],
   "source": [],
   "metadata": {
    "collapsed": false,
    "ExecuteTime": {
     "end_time": "2023-11-21T20:35:22.646479400Z",
     "start_time": "2023-11-21T20:35:21.646470100Z"
    }
   }
  },
  {
   "cell_type": "markdown",
   "source": [
    "# Create submission"
   ],
   "metadata": {
    "ExecuteTime": {
     "start_time": "2023-11-08T01:54:01.835042300Z"
    }
   }
  },
  {
   "cell_type": "code",
   "source": [
    "sub = pd.read_csv('..\\\\..\\\\Input\\\\Dataset\\\\sample_submission.csv')"
   ],
   "metadata": {
    "ExecuteTime": {
     "end_time": "2023-11-21T20:35:44.436589900Z",
     "start_time": "2023-11-21T20:35:41.207670800Z"
    }
   },
   "execution_count": 110,
   "outputs": []
  },
  {
   "cell_type": "code",
   "source": [
    "%%time\n",
    "preds = []\n",
    "for c_id in customer_hex_id_to_int(sub.customer_id):\n",
    "    pred = c_id2predicted_article_ids.get(c_id, [])\n",
    "    pred = pred + bestsellers_last_week\n",
    "    preds.append(pred[:12])"
   ],
   "metadata": {
    "ExecuteTime": {
     "end_time": "2023-11-21T20:35:36.457693900Z",
     "start_time": "2023-11-21T20:35:36.367524Z"
    }
   },
   "execution_count": 109,
   "outputs": [
    {
     "ename": "NameError",
     "evalue": "name 'sub' is not defined",
     "output_type": "error",
     "traceback": [
      "\u001B[1;31m---------------------------------------------------------------------------\u001B[0m",
      "\u001B[1;31mNameError\u001B[0m                                 Traceback (most recent call last)",
      "File \u001B[1;32m<timed exec>:2\u001B[0m\n",
      "\u001B[1;31mNameError\u001B[0m: name 'sub' is not defined"
     ]
    }
   ]
  },
  {
   "cell_type": "code",
   "source": [
    "preds = [' '.join(['0' + str(p) for p in ps]) for ps in preds]\n",
    "sub.prediction = preds"
   ],
   "metadata": {
    "ExecuteTime": {
     "end_time": "2023-11-08T02:28:29.710563400Z",
     "start_time": "2023-11-08T02:28:26.730933300Z"
    }
   },
   "execution_count": 60,
   "outputs": []
  },
  {
   "cell_type": "code",
   "source": [
    "sub_name = 'basic_model_submission'\n",
    "sub.to_csv(f'..\\\\..\\\\Output\\\\{sub_name}.csv', index=False)"
   ],
   "metadata": {
    "ExecuteTime": {
     "end_time": "2023-11-08T02:28:34.068796200Z",
     "start_time": "2023-11-08T02:28:29.714221200Z"
    }
   },
   "execution_count": 61,
   "outputs": []
  }
 ]
}
