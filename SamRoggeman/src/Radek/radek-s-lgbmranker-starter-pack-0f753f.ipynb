{
 "metadata": {
  "kernelspec": {
   "language": "python",
   "display_name": "Python 3",
   "name": "python3"
  },
  "language_info": {
   "pygments_lexer": "ipython3",
   "nbconvert_exporter": "python",
   "version": "3.6.4",
   "file_extension": ".py",
   "codemirror_mode": {
    "name": "ipython",
    "version": 3
   },
   "name": "python",
   "mimetype": "text/x-python"
  }
 },
 "nbformat_minor": 4,
 "nbformat": 4,
 "cells": [
  {
   "cell_type": "markdown",
   "source": [
    "Radek posted about this [here](https://www.kaggle.com/competitions/h-and-m-personalized-fashion-recommendations/discussion/309220), and linked to a GitHub repo with the code.\n",
    "\n",
    "I just transferred that code here to Kaggle notebooks, that's all."
   ],
   "metadata": {}
  },
  {
   "cell_type": "code",
   "source": [
    "project_dir = '..\\\\..\\\\..\\\\..\\\\'"
   ],
   "metadata": {
    "execution": {
     "iopub.status.busy": "2022-04-16T15:40:18.703245Z",
     "iopub.execute_input": "2022-04-16T15:40:18.703622Z",
     "iopub.status.idle": "2022-04-16T15:40:18.730374Z",
     "shell.execute_reply.started": "2022-04-16T15:40:18.703524Z",
     "shell.execute_reply": "2022-04-16T15:40:18.729632Z"
    },
    "trusted": true,
    "ExecuteTime": {
     "end_time": "2023-12-04T20:27:40.303922700Z",
     "start_time": "2023-12-04T20:27:39.534581300Z"
    }
   },
   "execution_count": 18,
   "outputs": []
  },
  {
   "cell_type": "code",
   "source": [
    "from sklearn.base import BaseEstimator, TransformerMixin\n",
    "import numpy as np\n",
    "from average_precision import apk\n",
    "# https://www.kaggle.com/c/h-and-m-personalized-fashion-recommendations/discussion/308635\n",
    "def customer_hex_id_to_int(series):\n",
    "    return series.str[-16:].apply(hex_id_to_int)\n",
    "\n",
    "def hex_id_to_int(str):\n",
    "    return int(str[-16:], 16)\n",
    "\n",
    "def article_id_str_to_int(series):\n",
    "    return series.astype('int32')\n",
    "\n",
    "def article_id_int_to_str(series):\n",
    "    return '0' + series.astype('str')\n",
    "\n",
    "class Categorize(BaseEstimator, TransformerMixin):\n",
    "    def __init__(self, min_examples=0):\n",
    "        self.min_examples = min_examples\n",
    "        self.categories = []\n",
    "        \n",
    "    def fit(self, X):\n",
    "        for i in range(X.shape[1]):\n",
    "            vc = X.iloc[:, i].value_counts()\n",
    "            self.categories.append(vc[vc > self.min_examples].index.tolist())\n",
    "        return self\n",
    "\n",
    "    def transform(self, X):\n",
    "        data = {X.columns[i]: pd.Categorical(X.iloc[:, i], categories=self.categories[i]).codes for i in range(X.shape[1])}\n",
    "        return pd.DataFrame(data=data)\n",
    "\n",
    "\n",
    "def calculate_apk(dict_of_preds, dict_of_gts):\n",
    "    # for fast validation this can be changed to operate on dicts of {'cust_id_int': [art_id_int, ...]}\n",
    "    # using 'data/val_week_purchases_by_cust.pkl'\n",
    "    apks = []\n",
    "    # loop over the items of the customers in both sets\n",
    "    for c_id, preds in dict_of_preds.items():\n",
    "        gt = dict_of_gts.get(c_id, [])\n",
    "        apks.append(apk(gt, preds, k=12))\n",
    "    return np.mean(apks)\n",
    "\n",
    "def eval_sub(sub_csv, skip_cust_with_no_purchases=True):\n",
    "    sub=pd.read_csv(sub_csv)\n",
    "    validation_set=pd.read_parquet('data/validation_ground_truth.parquet')\n",
    "\n",
    "    apks = []\n",
    "\n",
    "    no_purchases_pattern = []\n",
    "    for pred, gt in zip(sub.prediction.str.split(), validation_set.prediction.str.split()):\n",
    "        if skip_cust_with_no_purchases and (gt == no_purchases_pattern): continue\n",
    "        apks.append(apk(gt, pred, k=12))\n",
    "    return np.mean(apks)"
   ],
   "metadata": {
    "execution": {
     "iopub.status.busy": "2022-04-16T15:43:57.626534Z",
     "iopub.execute_input": "2022-04-16T15:43:57.627341Z",
     "iopub.status.idle": "2022-04-16T15:43:57.638968Z",
     "shell.execute_reply.started": "2022-04-16T15:43:57.627285Z",
     "shell.execute_reply": "2022-04-16T15:43:57.638025Z"
    },
    "trusted": true,
    "ExecuteTime": {
     "end_time": "2023-12-04T20:56:14.921849400Z",
     "start_time": "2023-12-04T20:56:14.894495600Z"
    }
   },
   "execution_count": 80,
   "outputs": []
  },
  {
   "cell_type": "code",
   "execution_count": 20,
   "outputs": [],
   "source": [
    "import pandas as pd"
   ],
   "metadata": {
    "collapsed": false,
    "ExecuteTime": {
     "end_time": "2023-12-04T20:27:41.853523500Z",
     "start_time": "2023-12-04T20:27:39.562455800Z"
    }
   }
  },
  {
   "cell_type": "code",
   "execution_count": 20,
   "outputs": [],
   "source": [],
   "metadata": {
    "collapsed": false,
    "ExecuteTime": {
     "end_time": "2023-12-04T20:27:42.057858Z",
     "start_time": "2023-12-04T20:27:39.577257800Z"
    }
   }
  },
  {
   "cell_type": "code",
   "execution_count": 21,
   "outputs": [
    {
     "name": "stdout",
     "output_type": "stream",
     "text": [
      "CPU times: total: 1.95 s\n",
      "Wall time: 1.06 s\n"
     ]
    }
   ],
   "source": [
    "%%time\n",
    "\n",
    "transactions = pd.read_parquet(f'{project_dir}Input\\\\Dataset\\\\transactions_train.parquet')\n",
    "customers = pd.read_parquet(f'{project_dir}Input\\\\Dataset\\\\customers.parquet')\n",
    "articles = pd.read_parquet(f'{project_dir}Input\\\\Dataset\\\\articles.parquet')\n",
    "\n",
    "# sample = 0.05\n",
    "# transactions = pd.read_parquet(f'data/transactions_train_sample_{sample}.parquet')\n",
    "# customers = pd.read_parquet(f'data/customers_sample_{sample}.parquet')\n",
    "# articles = pd.read_parquet(f'data/articles_train_sample_{sample}.parquet')"
   ],
   "metadata": {
    "collapsed": false,
    "ExecuteTime": {
     "end_time": "2023-12-04T20:27:42.163210Z",
     "start_time": "2023-12-04T20:27:39.593847800Z"
    }
   }
  },
  {
   "cell_type": "code",
   "execution_count": 21,
   "outputs": [],
   "source": [],
   "metadata": {
    "collapsed": false,
    "ExecuteTime": {
     "end_time": "2023-12-04T20:27:42.163210Z",
     "start_time": "2023-12-04T20:27:40.662378200Z"
    }
   }
  },
  {
   "cell_type": "code",
   "execution_count": 22,
   "outputs": [],
   "source": [
    "test_week = transactions.week.max() + 1\n",
    "transactions = transactions[transactions.week > transactions.week.max() - 10]"
   ],
   "metadata": {
    "collapsed": false,
    "ExecuteTime": {
     "end_time": "2023-12-04T20:27:42.163210Z",
     "start_time": "2023-12-04T20:27:40.680046500Z"
    }
   }
  },
  {
   "cell_type": "markdown",
   "source": [
    "# Generating candidates"
   ],
   "metadata": {}
  },
  {
   "cell_type": "markdown",
   "source": [
    "### Last purchase candidates"
   ],
   "metadata": {}
  },
  {
   "cell_type": "code",
   "source": [
    "%%time\n",
    "\n",
    "c2weeks = transactions.groupby('customer_id')['week'].unique()"
   ],
   "metadata": {
    "execution": {
     "iopub.status.busy": "2022-04-16T15:44:14.483924Z",
     "iopub.execute_input": "2022-04-16T15:44:14.484297Z",
     "iopub.status.idle": "2022-04-16T15:44:32.713783Z",
     "shell.execute_reply.started": "2022-04-16T15:44:14.484254Z",
     "shell.execute_reply": "2022-04-16T15:44:32.712927Z"
    },
    "trusted": true,
    "ExecuteTime": {
     "end_time": "2023-12-04T20:27:59.022910100Z",
     "start_time": "2023-12-04T20:27:40.944166Z"
    }
   },
   "execution_count": 23,
   "outputs": [
    {
     "name": "stdout",
     "output_type": "stream",
     "text": [
      "CPU times: total: 12.1 s\n",
      "Wall time: 18 s\n"
     ]
    }
   ]
  },
  {
   "cell_type": "code",
   "source": [
    "transactions.groupby('week')['t_dat'].agg(['min', 'max'])"
   ],
   "metadata": {
    "execution": {
     "iopub.status.busy": "2022-04-16T15:52:20.359059Z",
     "iopub.execute_input": "2022-04-16T15:52:20.359362Z",
     "iopub.status.idle": "2022-04-16T15:52:20.430004Z",
     "shell.execute_reply.started": "2022-04-16T15:52:20.359332Z",
     "shell.execute_reply": "2022-04-16T15:52:20.428905Z"
    },
    "trusted": true,
    "ExecuteTime": {
     "end_time": "2023-12-04T20:27:59.152773600Z",
     "start_time": "2023-12-04T20:27:59.011376100Z"
    }
   },
   "execution_count": 24,
   "outputs": [
    {
     "data": {
      "text/plain": "            min        max\nweek                      \n95   2020-07-15 2020-07-21\n96   2020-07-22 2020-07-28\n97   2020-07-29 2020-08-04\n98   2020-08-05 2020-08-11\n99   2020-08-12 2020-08-18\n100  2020-08-19 2020-08-25\n101  2020-08-26 2020-09-01\n102  2020-09-02 2020-09-08\n103  2020-09-09 2020-09-15\n104  2020-09-16 2020-09-22",
      "text/html": "<div>\n<style scoped>\n    .dataframe tbody tr th:only-of-type {\n        vertical-align: middle;\n    }\n\n    .dataframe tbody tr th {\n        vertical-align: top;\n    }\n\n    .dataframe thead th {\n        text-align: right;\n    }\n</style>\n<table border=\"1\" class=\"dataframe\">\n  <thead>\n    <tr style=\"text-align: right;\">\n      <th></th>\n      <th>min</th>\n      <th>max</th>\n    </tr>\n    <tr>\n      <th>week</th>\n      <th></th>\n      <th></th>\n    </tr>\n  </thead>\n  <tbody>\n    <tr>\n      <th>95</th>\n      <td>2020-07-15</td>\n      <td>2020-07-21</td>\n    </tr>\n    <tr>\n      <th>96</th>\n      <td>2020-07-22</td>\n      <td>2020-07-28</td>\n    </tr>\n    <tr>\n      <th>97</th>\n      <td>2020-07-29</td>\n      <td>2020-08-04</td>\n    </tr>\n    <tr>\n      <th>98</th>\n      <td>2020-08-05</td>\n      <td>2020-08-11</td>\n    </tr>\n    <tr>\n      <th>99</th>\n      <td>2020-08-12</td>\n      <td>2020-08-18</td>\n    </tr>\n    <tr>\n      <th>100</th>\n      <td>2020-08-19</td>\n      <td>2020-08-25</td>\n    </tr>\n    <tr>\n      <th>101</th>\n      <td>2020-08-26</td>\n      <td>2020-09-01</td>\n    </tr>\n    <tr>\n      <th>102</th>\n      <td>2020-09-02</td>\n      <td>2020-09-08</td>\n    </tr>\n    <tr>\n      <th>103</th>\n      <td>2020-09-09</td>\n      <td>2020-09-15</td>\n    </tr>\n    <tr>\n      <th>104</th>\n      <td>2020-09-16</td>\n      <td>2020-09-22</td>\n    </tr>\n  </tbody>\n</table>\n</div>"
     },
     "execution_count": 24,
     "metadata": {},
     "output_type": "execute_result"
    }
   ]
  },
  {
   "cell_type": "code",
   "source": [
    "c2weeks"
   ],
   "metadata": {
    "execution": {
     "iopub.status.busy": "2022-04-16T15:51:14.21265Z",
     "iopub.execute_input": "2022-04-16T15:51:14.213638Z",
     "iopub.status.idle": "2022-04-16T15:51:14.231518Z",
     "shell.execute_reply.started": "2022-04-16T15:51:14.213593Z",
     "shell.execute_reply": "2022-04-16T15:51:14.230546Z"
    },
    "trusted": true,
    "ExecuteTime": {
     "end_time": "2023-12-04T20:27:59.152773600Z",
     "start_time": "2023-12-04T20:27:59.087164300Z"
    }
   },
   "execution_count": 25,
   "outputs": [
    {
     "data": {
      "text/plain": "customer_id\n28847241659200          [95, 96, 101, 102]\n41318098387474                        [98]\n116809474287335                 [101, 103]\n200292573348128          [95, 96, 99, 102]\n248294615847351                       [96]\n                               ...        \n18446624797007271432                  [95]\n18446630855572834764                 [103]\n18446662237889060501                 [100]\n18446705133201055310                 [102]\n18446737527580148316                 [104]\nName: week, Length: 437365, dtype: object"
     },
     "execution_count": 25,
     "metadata": {},
     "output_type": "execute_result"
    }
   ]
  },
  {
   "cell_type": "code",
   "source": [
    "%%time\n",
    "\n",
    "c2weeks2shifted_weeks = {}\n",
    "\n",
    "for c_id, weeks in c2weeks.items():\n",
    "    c2weeks2shifted_weeks[c_id] = {}\n",
    "    for i in range(weeks.shape[0]-1):\n",
    "        c2weeks2shifted_weeks[c_id][weeks[i]] = weeks[i+1]\n",
    "    c2weeks2shifted_weeks[c_id][weeks[-1]] = test_week"
   ],
   "metadata": {
    "execution": {
     "iopub.status.busy": "2022-04-16T15:52:37.190968Z",
     "iopub.execute_input": "2022-04-16T15:52:37.191281Z",
     "iopub.status.idle": "2022-04-16T15:52:38.270373Z",
     "shell.execute_reply.started": "2022-04-16T15:52:37.191249Z",
     "shell.execute_reply": "2022-04-16T15:52:38.269366Z"
    },
    "trusted": true,
    "ExecuteTime": {
     "end_time": "2023-12-04T20:27:59.770905300Z",
     "start_time": "2023-12-04T20:27:59.103902900Z"
    }
   },
   "execution_count": 26,
   "outputs": [
    {
     "name": "stdout",
     "output_type": "stream",
     "text": [
      "CPU times: total: 234 ms\n",
      "Wall time: 641 ms\n"
     ]
    }
   ]
  },
  {
   "cell_type": "code",
   "source": [
    "c2weeks2shifted_weeks[28847241659200]\n",
    "# todo ??"
   ],
   "metadata": {
    "execution": {
     "iopub.status.busy": "2022-04-16T15:53:57.883004Z",
     "iopub.execute_input": "2022-04-16T15:53:57.883327Z",
     "iopub.status.idle": "2022-04-16T15:53:57.890002Z",
     "shell.execute_reply.started": "2022-04-16T15:53:57.883291Z",
     "shell.execute_reply": "2022-04-16T15:53:57.888855Z"
    },
    "trusted": true,
    "ExecuteTime": {
     "end_time": "2023-12-04T20:27:59.770905300Z",
     "start_time": "2023-12-04T20:27:59.756845200Z"
    }
   },
   "execution_count": 27,
   "outputs": [
    {
     "data": {
      "text/plain": "{95: 96, 96: 101, 101: 102, 102: 105}"
     },
     "execution_count": 27,
     "metadata": {},
     "output_type": "execute_result"
    }
   ]
  },
  {
   "cell_type": "code",
   "source": [
    "candidates_last_purchase = transactions.copy()"
   ],
   "metadata": {
    "execution": {
     "iopub.status.busy": "2022-04-16T15:54:02.986364Z",
     "iopub.execute_input": "2022-04-16T15:54:02.986659Z",
     "iopub.status.idle": "2022-04-16T15:54:03.008647Z",
     "shell.execute_reply.started": "2022-04-16T15:54:02.986626Z",
     "shell.execute_reply": "2022-04-16T15:54:03.007375Z"
    },
    "trusted": true,
    "ExecuteTime": {
     "end_time": "2023-12-04T20:27:59.860710700Z",
     "start_time": "2023-12-04T20:27:59.772915600Z"
    }
   },
   "execution_count": 28,
   "outputs": []
  },
  {
   "cell_type": "code",
   "source": [
    "%%time\n",
    "\n",
    "weeks = []\n",
    "for i, (c_id, week) in enumerate(zip(transactions['customer_id'], transactions['week'])):\n",
    "    weeks.append(c2weeks2shifted_weeks[c_id][week])\n",
    "    \n",
    "candidates_last_purchase.week=weeks"
   ],
   "metadata": {
    "execution": {
     "iopub.status.busy": "2022-04-16T15:54:09.502111Z",
     "iopub.execute_input": "2022-04-16T15:54:09.502379Z",
     "iopub.status.idle": "2022-04-16T15:54:17.173729Z",
     "shell.execute_reply.started": "2022-04-16T15:54:09.502353Z",
     "shell.execute_reply": "2022-04-16T15:54:17.172748Z"
    },
    "trusted": true,
    "ExecuteTime": {
     "end_time": "2023-12-04T20:28:20.409644700Z",
     "start_time": "2023-12-04T20:27:59.806090400Z"
    }
   },
   "execution_count": 29,
   "outputs": [
    {
     "name": "stdout",
     "output_type": "stream",
     "text": [
      "CPU times: total: 12.9 s\n",
      "Wall time: 20.6 s\n"
     ]
    }
   ]
  },
  {
   "cell_type": "code",
   "source": [
    "candidates_last_purchase[candidates_last_purchase['customer_id']==272412481300040]"
   ],
   "metadata": {
    "execution": {
     "iopub.status.busy": "2022-04-16T15:56:44.758863Z",
     "iopub.execute_input": "2022-04-16T15:56:44.759734Z",
     "iopub.status.idle": "2022-04-16T15:56:44.842348Z",
     "shell.execute_reply.started": "2022-04-16T15:56:44.759688Z",
     "shell.execute_reply": "2022-04-16T15:56:44.841432Z"
    },
    "trusted": true,
    "ExecuteTime": {
     "end_time": "2023-12-04T20:28:20.502662700Z",
     "start_time": "2023-12-04T20:28:20.403804400Z"
    }
   },
   "execution_count": 30,
   "outputs": [
    {
     "data": {
      "text/plain": "              t_dat      customer_id  article_id     price  sales_channel_id  \\\n29030503 2020-07-15  272412481300040   778064028  0.008458                 1   \n29030504 2020-07-15  272412481300040   816592008  0.016932                 1   \n29030505 2020-07-15  272412481300040   621381021  0.033881                 1   \n29030506 2020-07-15  272412481300040   817477003  0.025407                 1   \n29030507 2020-07-15  272412481300040   899088002  0.025407                 1   \n29319533 2020-07-22  272412481300040   885077001  0.008458                 1   \n29410772 2020-07-24  272412481300040   850176003  0.029034                 2   \n29410773 2020-07-24  272412481300040   875803001  0.064559                 2   \n29410774 2020-07-24  272412481300040   892970003  0.020966                 2   \n29410775 2020-07-24  272412481300040   854619003  0.020966                 2   \n29531614 2020-07-27  272412481300040   900398001  0.030492                 2   \n29531615 2020-07-27  272412481300040   834179002  0.025407                 2   \n29531616 2020-07-27  272412481300040   875803001  0.067780                 2   \n31495014 2020-09-14  272412481300040   923460002  0.039932                 2   \n31495015 2020-09-14  272412481300040   922381001  0.039932                 2   \n31495016 2020-09-14  272412481300040   921906005  0.031949                 2   \n\n          week  \n29030503    96  \n29030504    96  \n29030505    96  \n29030506    96  \n29030507    96  \n29319533   103  \n29410772   103  \n29410773   103  \n29410774   103  \n29410775   103  \n29531614   103  \n29531615   103  \n29531616   103  \n31495014   105  \n31495015   105  \n31495016   105  ",
      "text/html": "<div>\n<style scoped>\n    .dataframe tbody tr th:only-of-type {\n        vertical-align: middle;\n    }\n\n    .dataframe tbody tr th {\n        vertical-align: top;\n    }\n\n    .dataframe thead th {\n        text-align: right;\n    }\n</style>\n<table border=\"1\" class=\"dataframe\">\n  <thead>\n    <tr style=\"text-align: right;\">\n      <th></th>\n      <th>t_dat</th>\n      <th>customer_id</th>\n      <th>article_id</th>\n      <th>price</th>\n      <th>sales_channel_id</th>\n      <th>week</th>\n    </tr>\n  </thead>\n  <tbody>\n    <tr>\n      <th>29030503</th>\n      <td>2020-07-15</td>\n      <td>272412481300040</td>\n      <td>778064028</td>\n      <td>0.008458</td>\n      <td>1</td>\n      <td>96</td>\n    </tr>\n    <tr>\n      <th>29030504</th>\n      <td>2020-07-15</td>\n      <td>272412481300040</td>\n      <td>816592008</td>\n      <td>0.016932</td>\n      <td>1</td>\n      <td>96</td>\n    </tr>\n    <tr>\n      <th>29030505</th>\n      <td>2020-07-15</td>\n      <td>272412481300040</td>\n      <td>621381021</td>\n      <td>0.033881</td>\n      <td>1</td>\n      <td>96</td>\n    </tr>\n    <tr>\n      <th>29030506</th>\n      <td>2020-07-15</td>\n      <td>272412481300040</td>\n      <td>817477003</td>\n      <td>0.025407</td>\n      <td>1</td>\n      <td>96</td>\n    </tr>\n    <tr>\n      <th>29030507</th>\n      <td>2020-07-15</td>\n      <td>272412481300040</td>\n      <td>899088002</td>\n      <td>0.025407</td>\n      <td>1</td>\n      <td>96</td>\n    </tr>\n    <tr>\n      <th>29319533</th>\n      <td>2020-07-22</td>\n      <td>272412481300040</td>\n      <td>885077001</td>\n      <td>0.008458</td>\n      <td>1</td>\n      <td>103</td>\n    </tr>\n    <tr>\n      <th>29410772</th>\n      <td>2020-07-24</td>\n      <td>272412481300040</td>\n      <td>850176003</td>\n      <td>0.029034</td>\n      <td>2</td>\n      <td>103</td>\n    </tr>\n    <tr>\n      <th>29410773</th>\n      <td>2020-07-24</td>\n      <td>272412481300040</td>\n      <td>875803001</td>\n      <td>0.064559</td>\n      <td>2</td>\n      <td>103</td>\n    </tr>\n    <tr>\n      <th>29410774</th>\n      <td>2020-07-24</td>\n      <td>272412481300040</td>\n      <td>892970003</td>\n      <td>0.020966</td>\n      <td>2</td>\n      <td>103</td>\n    </tr>\n    <tr>\n      <th>29410775</th>\n      <td>2020-07-24</td>\n      <td>272412481300040</td>\n      <td>854619003</td>\n      <td>0.020966</td>\n      <td>2</td>\n      <td>103</td>\n    </tr>\n    <tr>\n      <th>29531614</th>\n      <td>2020-07-27</td>\n      <td>272412481300040</td>\n      <td>900398001</td>\n      <td>0.030492</td>\n      <td>2</td>\n      <td>103</td>\n    </tr>\n    <tr>\n      <th>29531615</th>\n      <td>2020-07-27</td>\n      <td>272412481300040</td>\n      <td>834179002</td>\n      <td>0.025407</td>\n      <td>2</td>\n      <td>103</td>\n    </tr>\n    <tr>\n      <th>29531616</th>\n      <td>2020-07-27</td>\n      <td>272412481300040</td>\n      <td>875803001</td>\n      <td>0.067780</td>\n      <td>2</td>\n      <td>103</td>\n    </tr>\n    <tr>\n      <th>31495014</th>\n      <td>2020-09-14</td>\n      <td>272412481300040</td>\n      <td>923460002</td>\n      <td>0.039932</td>\n      <td>2</td>\n      <td>105</td>\n    </tr>\n    <tr>\n      <th>31495015</th>\n      <td>2020-09-14</td>\n      <td>272412481300040</td>\n      <td>922381001</td>\n      <td>0.039932</td>\n      <td>2</td>\n      <td>105</td>\n    </tr>\n    <tr>\n      <th>31495016</th>\n      <td>2020-09-14</td>\n      <td>272412481300040</td>\n      <td>921906005</td>\n      <td>0.031949</td>\n      <td>2</td>\n      <td>105</td>\n    </tr>\n  </tbody>\n</table>\n</div>"
     },
     "execution_count": 30,
     "metadata": {},
     "output_type": "execute_result"
    }
   ]
  },
  {
   "cell_type": "code",
   "source": [
    "# transactions[transactions['customer_id']==272412481300040]\n",
    "customers[customers['customer_id']==272412481300040]"
   ],
   "metadata": {
    "execution": {
     "iopub.status.busy": "2022-04-16T15:56:28.429248Z",
     "iopub.execute_input": "2022-04-16T15:56:28.430209Z",
     "iopub.status.idle": "2022-04-16T15:56:28.447782Z",
     "shell.execute_reply.started": "2022-04-16T15:56:28.430158Z",
     "shell.execute_reply": "2022-04-16T15:56:28.446947Z"
    },
    "trusted": true,
    "ExecuteTime": {
     "end_time": "2023-12-04T20:28:20.527376100Z",
     "start_time": "2023-12-04T20:28:20.436054900Z"
    }
   },
   "execution_count": 31,
   "outputs": [
    {
     "data": {
      "text/plain": "            customer_id  FN  Active  club_member_status  \\\n137308  272412481300040   1       1                   0   \n\n        fashion_news_frequency  age  postal_code  \n137308                       1   48       333369  ",
      "text/html": "<div>\n<style scoped>\n    .dataframe tbody tr th:only-of-type {\n        vertical-align: middle;\n    }\n\n    .dataframe tbody tr th {\n        vertical-align: top;\n    }\n\n    .dataframe thead th {\n        text-align: right;\n    }\n</style>\n<table border=\"1\" class=\"dataframe\">\n  <thead>\n    <tr style=\"text-align: right;\">\n      <th></th>\n      <th>customer_id</th>\n      <th>FN</th>\n      <th>Active</th>\n      <th>club_member_status</th>\n      <th>fashion_news_frequency</th>\n      <th>age</th>\n      <th>postal_code</th>\n    </tr>\n  </thead>\n  <tbody>\n    <tr>\n      <th>137308</th>\n      <td>272412481300040</td>\n      <td>1</td>\n      <td>1</td>\n      <td>0</td>\n      <td>1</td>\n      <td>48</td>\n      <td>333369</td>\n    </tr>\n  </tbody>\n</table>\n</div>"
     },
     "execution_count": 31,
     "metadata": {},
     "output_type": "execute_result"
    }
   ]
  },
  {
   "cell_type": "markdown",
   "source": [
    "### Bestsellers candidates"
   ],
   "metadata": {}
  },
  {
   "cell_type": "code",
   "source": [
    "mean_price = transactions \\\n",
    "    .groupby(['week', 'article_id'])['price'].mean()"
   ],
   "metadata": {
    "execution": {
     "iopub.status.busy": "2022-04-16T15:57:17.65078Z",
     "iopub.execute_input": "2022-04-16T15:57:17.651075Z",
     "iopub.status.idle": "2022-04-16T15:57:17.917777Z",
     "shell.execute_reply.started": "2022-04-16T15:57:17.651046Z",
     "shell.execute_reply": "2022-04-16T15:57:17.916726Z"
    },
    "trusted": true,
    "ExecuteTime": {
     "end_time": "2023-12-04T20:28:20.914846300Z",
     "start_time": "2023-12-04T20:28:20.498586600Z"
    }
   },
   "execution_count": 32,
   "outputs": []
  },
  {
   "cell_type": "code",
   "source": [
    "mean_price"
   ],
   "metadata": {
    "execution": {
     "iopub.status.busy": "2022-04-16T15:57:22.071051Z",
     "iopub.execute_input": "2022-04-16T15:57:22.071336Z",
     "iopub.status.idle": "2022-04-16T15:57:22.081278Z",
     "shell.execute_reply.started": "2022-04-16T15:57:22.071307Z",
     "shell.execute_reply": "2022-04-16T15:57:22.080255Z"
    },
    "trusted": true,
    "ExecuteTime": {
     "end_time": "2023-12-04T20:28:20.915861800Z",
     "start_time": "2023-12-04T20:28:20.776450600Z"
    }
   },
   "execution_count": 33,
   "outputs": [
    {
     "data": {
      "text/plain": "week  article_id\n95    108775015     0.004729\n      108775044     0.008458\n      110065001     0.006085\n      110065002     0.006085\n      111565001     0.004288\n                      ...   \n104   952267001     0.013732\n      952938001     0.048651\n      953450001     0.016932\n      953763001     0.021885\n      956217002     0.059068\nName: price, Length: 196880, dtype: float32"
     },
     "execution_count": 33,
     "metadata": {},
     "output_type": "execute_result"
    }
   ]
  },
  {
   "cell_type": "code",
   "source": [
    "sales = transactions \\\n",
    "    .groupby('week')['article_id'].value_counts() \\\n",
    "    .groupby('week').rank(method='dense', ascending=False) \\\n",
    "    .groupby('week').head(12).rename('bestseller_rank').astype('int8')"
   ],
   "metadata": {
    "execution": {
     "iopub.status.busy": "2022-04-16T16:02:22.824751Z",
     "iopub.execute_input": "2022-04-16T16:02:22.825182Z",
     "iopub.status.idle": "2022-04-16T16:02:23.799128Z",
     "shell.execute_reply.started": "2022-04-16T16:02:22.825151Z",
     "shell.execute_reply": "2022-04-16T16:02:23.798311Z"
    },
    "trusted": true,
    "ExecuteTime": {
     "end_time": "2023-12-04T20:28:21.219076400Z",
     "start_time": "2023-12-04T20:28:20.792232600Z"
    }
   },
   "execution_count": 34,
   "outputs": []
  },
  {
   "cell_type": "code",
   "execution_count": 35,
   "outputs": [
    {
     "data": {
      "text/plain": "article_id\n746586002     1.0\n703366001     1.0\n889974002     1.0\n889901002     1.0\n889844001     1.0\n             ... \n792517001    10.0\n792515001    10.0\n792507001    10.0\n792490002    10.0\n805370003    10.0\nName: recency_rank, Length: 38331, dtype: float64"
     },
     "execution_count": 35,
     "metadata": {},
     "output_type": "execute_result"
    }
   ],
   "source": [
    "\"\"\" query to get most recent items:\n",
    "    select article_id, min(week) as week, rank() over (partition by article_id order by week desc) as recency_rank\n",
    "    from transactions \n",
    "    group by article_id\n",
    "    order by week desc    \n",
    "\"\"\"\n",
    "# query implemented in code\n",
    "recency = transactions \\\n",
    "    .groupby('article_id')['week'].min()\\\n",
    "    .sort_values(ascending=False).rename('recency_rank').astype('int8')\\\n",
    "    .rank(method='dense', ascending=False) \\\n",
    "    # .groupby('recency_week').head(12).rename('recency_rank').astype('int8')\n",
    "    \n",
    "\n",
    "recency\n",
    "\n"
   ],
   "metadata": {
    "collapsed": false,
    "ExecuteTime": {
     "end_time": "2023-12-04T20:28:21.383878800Z",
     "start_time": "2023-12-04T20:28:21.165592600Z"
    }
   }
  },
  {
   "cell_type": "code",
   "execution_count": 36,
   "outputs": [
    {
     "data": {
      "text/plain": "            mean_price  min_price  max_price  std_price\narticle_id                                             \n108775015     0.003842   0.002068   0.005068   0.001573\n108775044     0.008076   0.003373   0.008458   0.001120\n110065001     0.006424   0.006085   0.006763   0.000479\n110065002     0.005860   0.005186   0.006085   0.000449\n110065011     0.009305   0.006763   0.011847   0.003595\n...                ...        ...        ...        ...\n952267001     0.014982   0.010153   0.016932   0.002385\n952938001     0.048006   0.040661   0.050831   0.004300\n953450001     0.016836   0.015305   0.016932   0.000395\n953763001     0.021908   0.021169   0.022017   0.000251\n956217002     0.059152   0.057407   0.059305   0.000493\n\n[38331 rows x 4 columns]",
      "text/html": "<div>\n<style scoped>\n    .dataframe tbody tr th:only-of-type {\n        vertical-align: middle;\n    }\n\n    .dataframe tbody tr th {\n        vertical-align: top;\n    }\n\n    .dataframe thead th {\n        text-align: right;\n    }\n</style>\n<table border=\"1\" class=\"dataframe\">\n  <thead>\n    <tr style=\"text-align: right;\">\n      <th></th>\n      <th>mean_price</th>\n      <th>min_price</th>\n      <th>max_price</th>\n      <th>std_price</th>\n    </tr>\n    <tr>\n      <th>article_id</th>\n      <th></th>\n      <th></th>\n      <th></th>\n      <th></th>\n    </tr>\n  </thead>\n  <tbody>\n    <tr>\n      <th>108775015</th>\n      <td>0.003842</td>\n      <td>0.002068</td>\n      <td>0.005068</td>\n      <td>0.001573</td>\n    </tr>\n    <tr>\n      <th>108775044</th>\n      <td>0.008076</td>\n      <td>0.003373</td>\n      <td>0.008458</td>\n      <td>0.001120</td>\n    </tr>\n    <tr>\n      <th>110065001</th>\n      <td>0.006424</td>\n      <td>0.006085</td>\n      <td>0.006763</td>\n      <td>0.000479</td>\n    </tr>\n    <tr>\n      <th>110065002</th>\n      <td>0.005860</td>\n      <td>0.005186</td>\n      <td>0.006085</td>\n      <td>0.000449</td>\n    </tr>\n    <tr>\n      <th>110065011</th>\n      <td>0.009305</td>\n      <td>0.006763</td>\n      <td>0.011847</td>\n      <td>0.003595</td>\n    </tr>\n    <tr>\n      <th>...</th>\n      <td>...</td>\n      <td>...</td>\n      <td>...</td>\n      <td>...</td>\n    </tr>\n    <tr>\n      <th>952267001</th>\n      <td>0.014982</td>\n      <td>0.010153</td>\n      <td>0.016932</td>\n      <td>0.002385</td>\n    </tr>\n    <tr>\n      <th>952938001</th>\n      <td>0.048006</td>\n      <td>0.040661</td>\n      <td>0.050831</td>\n      <td>0.004300</td>\n    </tr>\n    <tr>\n      <th>953450001</th>\n      <td>0.016836</td>\n      <td>0.015305</td>\n      <td>0.016932</td>\n      <td>0.000395</td>\n    </tr>\n    <tr>\n      <th>953763001</th>\n      <td>0.021908</td>\n      <td>0.021169</td>\n      <td>0.022017</td>\n      <td>0.000251</td>\n    </tr>\n    <tr>\n      <th>956217002</th>\n      <td>0.059152</td>\n      <td>0.057407</td>\n      <td>0.059305</td>\n      <td>0.000493</td>\n    </tr>\n  </tbody>\n</table>\n<p>38331 rows × 4 columns</p>\n</div>"
     },
     "execution_count": 36,
     "metadata": {},
     "output_type": "execute_result"
    }
   ],
   "source": [
    "# add a column with mean_price, min_price, max_price, std_price for each article_id\n",
    "mean_price_by_article =  transactions \\\n",
    "    .groupby(['article_id'])['price'].mean().rename('mean_price')\n",
    "min_price_by_article =  transactions \\\n",
    "    .groupby(['article_id'])['price'].min().rename('min_price')\n",
    "max_price_by_article =  transactions \\\n",
    "    .groupby(['article_id'])['price'].max().rename('max_price')\n",
    "std_price_by_article =  transactions \\\n",
    "    .groupby(['article_id'])['price'].std().rename('std_price')\n",
    "# merge\n",
    "price_statistics = pd.merge(mean_price_by_article, min_price_by_article, on=['article_id']).merge(max_price_by_article, on=['article_id']).merge(std_price_by_article, on=['article_id'])\n",
    "price_statistics\n",
    "\n"
   ],
   "metadata": {
    "collapsed": false,
    "ExecuteTime": {
     "end_time": "2023-12-04T20:28:21.769447600Z",
     "start_time": "2023-12-04T20:28:21.276213900Z"
    }
   }
  },
  {
   "cell_type": "code",
   "source": [
    "sales"
   ],
   "metadata": {
    "execution": {
     "iopub.status.busy": "2022-04-16T16:46:11.472531Z",
     "iopub.execute_input": "2022-04-16T16:46:11.47305Z",
     "iopub.status.idle": "2022-04-16T16:46:11.48196Z",
     "shell.execute_reply.started": "2022-04-16T16:46:11.473006Z",
     "shell.execute_reply": "2022-04-16T16:46:11.481241Z"
    },
    "trusted": true,
    "ExecuteTime": {
     "end_time": "2023-12-04T20:28:21.818841800Z",
     "start_time": "2023-12-04T20:28:21.756770Z"
    }
   },
   "execution_count": 37,
   "outputs": [
    {
     "data": {
      "text/plain": "week  article_id\n95    760084003      1\n      866731001      2\n      600886001      3\n      706016001      4\n      372860002      5\n                    ..\n104   915529003      8\n      915529005      9\n      448509014     10\n      762846027     11\n      714790020     12\nName: bestseller_rank, Length: 120, dtype: int8"
     },
     "execution_count": 37,
     "metadata": {},
     "output_type": "execute_result"
    }
   ]
  },
  {
   "cell_type": "code",
   "source": [
    "sales.loc[95]"
   ],
   "metadata": {
    "execution": {
     "iopub.status.busy": "2022-04-16T16:46:02.076763Z",
     "iopub.execute_input": "2022-04-16T16:46:02.077101Z",
     "iopub.status.idle": "2022-04-16T16:46:02.086767Z",
     "shell.execute_reply.started": "2022-04-16T16:46:02.077066Z",
     "shell.execute_reply": "2022-04-16T16:46:02.086Z"
    },
    "trusted": true,
    "ExecuteTime": {
     "end_time": "2023-12-04T20:28:21.819851200Z",
     "start_time": "2023-12-04T20:28:21.772471Z"
    }
   },
   "execution_count": 38,
   "outputs": [
    {
     "data": {
      "text/plain": "article_id\n760084003     1\n866731001     2\n600886001     3\n706016001     4\n372860002     5\n610776002     6\n877278002     7\n547780003     8\n817354001     9\n827968001    10\n866731003    11\n866383006    12\nName: bestseller_rank, dtype: int8"
     },
     "execution_count": 38,
     "metadata": {},
     "output_type": "execute_result"
    }
   ]
  },
  {
   "cell_type": "code",
   "source": [
    "bestsellers_previous_week = pd.merge(sales, mean_price, on=['week', 'article_id']).reset_index()\n",
    "bestsellers_previous_week.week += 1"
   ],
   "metadata": {
    "execution": {
     "iopub.status.busy": "2022-04-16T16:46:24.315491Z",
     "iopub.execute_input": "2022-04-16T16:46:24.316099Z",
     "iopub.status.idle": "2022-04-16T16:46:24.370425Z",
     "shell.execute_reply.started": "2022-04-16T16:46:24.31606Z",
     "shell.execute_reply": "2022-04-16T16:46:24.369607Z"
    },
    "trusted": true,
    "ExecuteTime": {
     "end_time": "2023-12-04T20:28:21.947407500Z",
     "start_time": "2023-12-04T20:28:21.788238300Z"
    }
   },
   "execution_count": 39,
   "outputs": []
  },
  {
   "cell_type": "code",
   "source": [
    "bestsellers_previous_week.pipe(lambda df: df[df['week']==96])"
   ],
   "metadata": {
    "execution": {
     "iopub.status.busy": "2022-04-16T16:51:04.064135Z",
     "iopub.execute_input": "2022-04-16T16:51:04.065012Z",
     "iopub.status.idle": "2022-04-16T16:51:04.077812Z",
     "shell.execute_reply.started": "2022-04-16T16:51:04.064965Z",
     "shell.execute_reply": "2022-04-16T16:51:04.077199Z"
    },
    "trusted": true,
    "ExecuteTime": {
     "end_time": "2023-12-04T20:28:21.948661100Z",
     "start_time": "2023-12-04T20:28:21.833462400Z"
    }
   },
   "execution_count": 40,
   "outputs": [
    {
     "data": {
      "text/plain": "    week  article_id  bestseller_rank     price\n0     96   760084003                1  0.025094\n1     96   866731001                2  0.024919\n2     96   600886001                3  0.022980\n3     96   706016001                4  0.033197\n4     96   372860002                5  0.013193\n5     96   610776002                6  0.008318\n6     96   877278002                7  0.025036\n7     96   547780003                8  0.024814\n8     96   817354001                9  0.021913\n9     96   827968001               10  0.016436\n10    96   866731003               11  0.024893\n11    96   866383006               12  0.023195",
      "text/html": "<div>\n<style scoped>\n    .dataframe tbody tr th:only-of-type {\n        vertical-align: middle;\n    }\n\n    .dataframe tbody tr th {\n        vertical-align: top;\n    }\n\n    .dataframe thead th {\n        text-align: right;\n    }\n</style>\n<table border=\"1\" class=\"dataframe\">\n  <thead>\n    <tr style=\"text-align: right;\">\n      <th></th>\n      <th>week</th>\n      <th>article_id</th>\n      <th>bestseller_rank</th>\n      <th>price</th>\n    </tr>\n  </thead>\n  <tbody>\n    <tr>\n      <th>0</th>\n      <td>96</td>\n      <td>760084003</td>\n      <td>1</td>\n      <td>0.025094</td>\n    </tr>\n    <tr>\n      <th>1</th>\n      <td>96</td>\n      <td>866731001</td>\n      <td>2</td>\n      <td>0.024919</td>\n    </tr>\n    <tr>\n      <th>2</th>\n      <td>96</td>\n      <td>600886001</td>\n      <td>3</td>\n      <td>0.022980</td>\n    </tr>\n    <tr>\n      <th>3</th>\n      <td>96</td>\n      <td>706016001</td>\n      <td>4</td>\n      <td>0.033197</td>\n    </tr>\n    <tr>\n      <th>4</th>\n      <td>96</td>\n      <td>372860002</td>\n      <td>5</td>\n      <td>0.013193</td>\n    </tr>\n    <tr>\n      <th>5</th>\n      <td>96</td>\n      <td>610776002</td>\n      <td>6</td>\n      <td>0.008318</td>\n    </tr>\n    <tr>\n      <th>6</th>\n      <td>96</td>\n      <td>877278002</td>\n      <td>7</td>\n      <td>0.025036</td>\n    </tr>\n    <tr>\n      <th>7</th>\n      <td>96</td>\n      <td>547780003</td>\n      <td>8</td>\n      <td>0.024814</td>\n    </tr>\n    <tr>\n      <th>8</th>\n      <td>96</td>\n      <td>817354001</td>\n      <td>9</td>\n      <td>0.021913</td>\n    </tr>\n    <tr>\n      <th>9</th>\n      <td>96</td>\n      <td>827968001</td>\n      <td>10</td>\n      <td>0.016436</td>\n    </tr>\n    <tr>\n      <th>10</th>\n      <td>96</td>\n      <td>866731003</td>\n      <td>11</td>\n      <td>0.024893</td>\n    </tr>\n    <tr>\n      <th>11</th>\n      <td>96</td>\n      <td>866383006</td>\n      <td>12</td>\n      <td>0.023195</td>\n    </tr>\n  </tbody>\n</table>\n</div>"
     },
     "execution_count": 40,
     "metadata": {},
     "output_type": "execute_result"
    }
   ]
  },
  {
   "cell_type": "code",
   "source": [
    "unique_transactions = transactions \\\n",
    "    .groupby(['week', 'customer_id']) \\\n",
    "    .head(1) \\\n",
    "    .drop(columns=['article_id', 'price']) \\\n",
    "    .copy()"
   ],
   "metadata": {
    "execution": {
     "iopub.status.busy": "2022-04-16T16:51:34.885365Z",
     "iopub.execute_input": "2022-04-16T16:51:34.88602Z",
     "iopub.status.idle": "2022-04-16T16:51:35.522916Z",
     "shell.execute_reply.started": "2022-04-16T16:51:34.88598Z",
     "shell.execute_reply": "2022-04-16T16:51:35.521903Z"
    },
    "trusted": true,
    "ExecuteTime": {
     "end_time": "2023-12-04T20:28:22.572274500Z",
     "start_time": "2023-12-04T20:28:21.878331Z"
    }
   },
   "execution_count": 41,
   "outputs": []
  },
  {
   "cell_type": "code",
   "source": [
    "unique_transactions"
   ],
   "metadata": {
    "execution": {
     "iopub.status.busy": "2022-04-16T16:51:41.276191Z",
     "iopub.execute_input": "2022-04-16T16:51:41.276486Z",
     "iopub.status.idle": "2022-04-16T16:51:41.290998Z",
     "shell.execute_reply.started": "2022-04-16T16:51:41.276452Z",
     "shell.execute_reply": "2022-04-16T16:51:41.290002Z"
    },
    "trusted": true,
    "ExecuteTime": {
     "end_time": "2023-12-04T20:28:22.705108100Z",
     "start_time": "2023-12-04T20:28:22.564993600Z"
    }
   },
   "execution_count": 42,
   "outputs": [
    {
     "data": {
      "text/plain": "              t_dat           customer_id  sales_channel_id  week\n29030503 2020-07-15       272412481300040                 1    95\n29064059 2020-07-15      1456826891333599                 1    95\n29067103 2020-07-15      2133687643102426                 2    95\n29027487 2020-07-15      6010692573790711                 1    95\n29046403 2020-07-15      6171059100114610                 2    95\n...             ...                   ...               ...   ...\n31760188 2020-09-22  18435221511488011015                 1   104\n31782234 2020-09-22  18436859303155335645                 1   104\n31787251 2020-09-22  18437941771381362708                 2   104\n31776022 2020-09-22  18438270306572912089                 1   104\n31779097 2020-09-22  18440902715633436014                 1   104\n\n[755710 rows x 4 columns]",
      "text/html": "<div>\n<style scoped>\n    .dataframe tbody tr th:only-of-type {\n        vertical-align: middle;\n    }\n\n    .dataframe tbody tr th {\n        vertical-align: top;\n    }\n\n    .dataframe thead th {\n        text-align: right;\n    }\n</style>\n<table border=\"1\" class=\"dataframe\">\n  <thead>\n    <tr style=\"text-align: right;\">\n      <th></th>\n      <th>t_dat</th>\n      <th>customer_id</th>\n      <th>sales_channel_id</th>\n      <th>week</th>\n    </tr>\n  </thead>\n  <tbody>\n    <tr>\n      <th>29030503</th>\n      <td>2020-07-15</td>\n      <td>272412481300040</td>\n      <td>1</td>\n      <td>95</td>\n    </tr>\n    <tr>\n      <th>29064059</th>\n      <td>2020-07-15</td>\n      <td>1456826891333599</td>\n      <td>1</td>\n      <td>95</td>\n    </tr>\n    <tr>\n      <th>29067103</th>\n      <td>2020-07-15</td>\n      <td>2133687643102426</td>\n      <td>2</td>\n      <td>95</td>\n    </tr>\n    <tr>\n      <th>29027487</th>\n      <td>2020-07-15</td>\n      <td>6010692573790711</td>\n      <td>1</td>\n      <td>95</td>\n    </tr>\n    <tr>\n      <th>29046403</th>\n      <td>2020-07-15</td>\n      <td>6171059100114610</td>\n      <td>2</td>\n      <td>95</td>\n    </tr>\n    <tr>\n      <th>...</th>\n      <td>...</td>\n      <td>...</td>\n      <td>...</td>\n      <td>...</td>\n    </tr>\n    <tr>\n      <th>31760188</th>\n      <td>2020-09-22</td>\n      <td>18435221511488011015</td>\n      <td>1</td>\n      <td>104</td>\n    </tr>\n    <tr>\n      <th>31782234</th>\n      <td>2020-09-22</td>\n      <td>18436859303155335645</td>\n      <td>1</td>\n      <td>104</td>\n    </tr>\n    <tr>\n      <th>31787251</th>\n      <td>2020-09-22</td>\n      <td>18437941771381362708</td>\n      <td>2</td>\n      <td>104</td>\n    </tr>\n    <tr>\n      <th>31776022</th>\n      <td>2020-09-22</td>\n      <td>18438270306572912089</td>\n      <td>1</td>\n      <td>104</td>\n    </tr>\n    <tr>\n      <th>31779097</th>\n      <td>2020-09-22</td>\n      <td>18440902715633436014</td>\n      <td>1</td>\n      <td>104</td>\n    </tr>\n  </tbody>\n</table>\n<p>755710 rows × 4 columns</p>\n</div>"
     },
     "execution_count": 42,
     "metadata": {},
     "output_type": "execute_result"
    }
   ]
  },
  {
   "cell_type": "code",
   "source": [
    "transactions.drop_duplicates(['week', 'customer_id'])"
   ],
   "metadata": {
    "execution": {
     "iopub.status.busy": "2022-04-16T16:53:57.806973Z",
     "iopub.execute_input": "2022-04-16T16:53:57.807309Z",
     "iopub.status.idle": "2022-04-16T16:53:58.097008Z",
     "shell.execute_reply.started": "2022-04-16T16:53:57.807278Z",
     "shell.execute_reply": "2022-04-16T16:53:58.095874Z"
    },
    "trusted": true,
    "ExecuteTime": {
     "end_time": "2023-12-04T20:28:23.047444500Z",
     "start_time": "2023-12-04T20:28:22.580006600Z"
    }
   },
   "execution_count": 43,
   "outputs": [
    {
     "data": {
      "text/plain": "              t_dat           customer_id  article_id     price  \\\n29030503 2020-07-15       272412481300040   778064028  0.008458   \n29064059 2020-07-15      1456826891333599   888294001  0.013542   \n29067103 2020-07-15      2133687643102426   843642001  0.042356   \n29027487 2020-07-15      6010692573790711   857812010  0.039661   \n29046403 2020-07-15      6171059100114610   815447007  0.006763   \n...             ...                   ...         ...       ...   \n31760188 2020-09-22  18435221511488011015   573085055  0.033881   \n31782234 2020-09-22  18436859303155335645   801447001  0.030492   \n31787251 2020-09-22  18437941771381362708   907188001  0.050831   \n31776022 2020-09-22  18438270306572912089   751471043  0.033881   \n31779097 2020-09-22  18440902715633436014   918894002  0.016932   \n\n          sales_channel_id  week  \n29030503                 1    95  \n29064059                 1    95  \n29067103                 2    95  \n29027487                 1    95  \n29046403                 2    95  \n...                    ...   ...  \n31760188                 1   104  \n31782234                 1   104  \n31787251                 2   104  \n31776022                 1   104  \n31779097                 1   104  \n\n[755710 rows x 6 columns]",
      "text/html": "<div>\n<style scoped>\n    .dataframe tbody tr th:only-of-type {\n        vertical-align: middle;\n    }\n\n    .dataframe tbody tr th {\n        vertical-align: top;\n    }\n\n    .dataframe thead th {\n        text-align: right;\n    }\n</style>\n<table border=\"1\" class=\"dataframe\">\n  <thead>\n    <tr style=\"text-align: right;\">\n      <th></th>\n      <th>t_dat</th>\n      <th>customer_id</th>\n      <th>article_id</th>\n      <th>price</th>\n      <th>sales_channel_id</th>\n      <th>week</th>\n    </tr>\n  </thead>\n  <tbody>\n    <tr>\n      <th>29030503</th>\n      <td>2020-07-15</td>\n      <td>272412481300040</td>\n      <td>778064028</td>\n      <td>0.008458</td>\n      <td>1</td>\n      <td>95</td>\n    </tr>\n    <tr>\n      <th>29064059</th>\n      <td>2020-07-15</td>\n      <td>1456826891333599</td>\n      <td>888294001</td>\n      <td>0.013542</td>\n      <td>1</td>\n      <td>95</td>\n    </tr>\n    <tr>\n      <th>29067103</th>\n      <td>2020-07-15</td>\n      <td>2133687643102426</td>\n      <td>843642001</td>\n      <td>0.042356</td>\n      <td>2</td>\n      <td>95</td>\n    </tr>\n    <tr>\n      <th>29027487</th>\n      <td>2020-07-15</td>\n      <td>6010692573790711</td>\n      <td>857812010</td>\n      <td>0.039661</td>\n      <td>1</td>\n      <td>95</td>\n    </tr>\n    <tr>\n      <th>29046403</th>\n      <td>2020-07-15</td>\n      <td>6171059100114610</td>\n      <td>815447007</td>\n      <td>0.006763</td>\n      <td>2</td>\n      <td>95</td>\n    </tr>\n    <tr>\n      <th>...</th>\n      <td>...</td>\n      <td>...</td>\n      <td>...</td>\n      <td>...</td>\n      <td>...</td>\n      <td>...</td>\n    </tr>\n    <tr>\n      <th>31760188</th>\n      <td>2020-09-22</td>\n      <td>18435221511488011015</td>\n      <td>573085055</td>\n      <td>0.033881</td>\n      <td>1</td>\n      <td>104</td>\n    </tr>\n    <tr>\n      <th>31782234</th>\n      <td>2020-09-22</td>\n      <td>18436859303155335645</td>\n      <td>801447001</td>\n      <td>0.030492</td>\n      <td>1</td>\n      <td>104</td>\n    </tr>\n    <tr>\n      <th>31787251</th>\n      <td>2020-09-22</td>\n      <td>18437941771381362708</td>\n      <td>907188001</td>\n      <td>0.050831</td>\n      <td>2</td>\n      <td>104</td>\n    </tr>\n    <tr>\n      <th>31776022</th>\n      <td>2020-09-22</td>\n      <td>18438270306572912089</td>\n      <td>751471043</td>\n      <td>0.033881</td>\n      <td>1</td>\n      <td>104</td>\n    </tr>\n    <tr>\n      <th>31779097</th>\n      <td>2020-09-22</td>\n      <td>18440902715633436014</td>\n      <td>918894002</td>\n      <td>0.016932</td>\n      <td>1</td>\n      <td>104</td>\n    </tr>\n  </tbody>\n</table>\n<p>755710 rows × 6 columns</p>\n</div>"
     },
     "execution_count": 43,
     "metadata": {},
     "output_type": "execute_result"
    }
   ]
  },
  {
   "cell_type": "code",
   "source": [
    "candidates_bestsellers = pd.merge(\n",
    "    unique_transactions,\n",
    "    bestsellers_previous_week,\n",
    "    on='week',\n",
    ")"
   ],
   "metadata": {
    "execution": {
     "iopub.status.busy": "2022-04-16T16:54:53.227772Z",
     "iopub.execute_input": "2022-04-16T16:54:53.228505Z",
     "iopub.status.idle": "2022-04-16T16:54:54.190001Z",
     "shell.execute_reply.started": "2022-04-16T16:54:53.228453Z",
     "shell.execute_reply": "2022-04-16T16:54:54.188749Z"
    },
    "trusted": true,
    "ExecuteTime": {
     "end_time": "2023-12-04T20:28:23.349600Z",
     "start_time": "2023-12-04T20:28:22.920367900Z"
    }
   },
   "execution_count": 44,
   "outputs": []
  },
  {
   "cell_type": "code",
   "source": [
    "test_set_transactions = unique_transactions.drop_duplicates('customer_id').reset_index(drop=True)\n",
    "test_set_transactions.week = test_week"
   ],
   "metadata": {
    "execution": {
     "iopub.status.busy": "2022-04-16T16:55:38.06378Z",
     "iopub.execute_input": "2022-04-16T16:55:38.064413Z",
     "iopub.status.idle": "2022-04-16T16:55:38.168415Z",
     "shell.execute_reply.started": "2022-04-16T16:55:38.064363Z",
     "shell.execute_reply": "2022-04-16T16:55:38.167458Z"
    },
    "trusted": true,
    "ExecuteTime": {
     "end_time": "2023-12-04T20:28:23.600364200Z",
     "start_time": "2023-12-04T20:28:23.307760900Z"
    }
   },
   "execution_count": 45,
   "outputs": []
  },
  {
   "cell_type": "code",
   "source": [
    "test_set_transactions"
   ],
   "metadata": {
    "execution": {
     "iopub.status.busy": "2022-04-16T16:55:45.01963Z",
     "iopub.execute_input": "2022-04-16T16:55:45.020084Z",
     "iopub.status.idle": "2022-04-16T16:55:45.037194Z",
     "shell.execute_reply.started": "2022-04-16T16:55:45.020041Z",
     "shell.execute_reply": "2022-04-16T16:55:45.036123Z"
    },
    "trusted": true,
    "ExecuteTime": {
     "end_time": "2023-12-04T20:28:23.755171500Z",
     "start_time": "2023-12-04T20:28:23.369576500Z"
    }
   },
   "execution_count": 46,
   "outputs": [
    {
     "data": {
      "text/plain": "            t_dat           customer_id  sales_channel_id  week\n0      2020-07-15       272412481300040                 1   105\n1      2020-07-15      1456826891333599                 1   105\n2      2020-07-15      2133687643102426                 2   105\n3      2020-07-15      6010692573790711                 1   105\n4      2020-07-15      6171059100114610                 2   105\n...           ...                   ...               ...   ...\n437360 2020-09-22  18410229429441241008                 2   105\n437361 2020-09-22  18417769707947924979                 2   105\n437362 2020-09-22  18418054986721795659                 2   105\n437363 2020-09-22  18421175435799911749                 2   105\n437364 2020-09-22  18438270306572912089                 1   105\n\n[437365 rows x 4 columns]",
      "text/html": "<div>\n<style scoped>\n    .dataframe tbody tr th:only-of-type {\n        vertical-align: middle;\n    }\n\n    .dataframe tbody tr th {\n        vertical-align: top;\n    }\n\n    .dataframe thead th {\n        text-align: right;\n    }\n</style>\n<table border=\"1\" class=\"dataframe\">\n  <thead>\n    <tr style=\"text-align: right;\">\n      <th></th>\n      <th>t_dat</th>\n      <th>customer_id</th>\n      <th>sales_channel_id</th>\n      <th>week</th>\n    </tr>\n  </thead>\n  <tbody>\n    <tr>\n      <th>0</th>\n      <td>2020-07-15</td>\n      <td>272412481300040</td>\n      <td>1</td>\n      <td>105</td>\n    </tr>\n    <tr>\n      <th>1</th>\n      <td>2020-07-15</td>\n      <td>1456826891333599</td>\n      <td>1</td>\n      <td>105</td>\n    </tr>\n    <tr>\n      <th>2</th>\n      <td>2020-07-15</td>\n      <td>2133687643102426</td>\n      <td>2</td>\n      <td>105</td>\n    </tr>\n    <tr>\n      <th>3</th>\n      <td>2020-07-15</td>\n      <td>6010692573790711</td>\n      <td>1</td>\n      <td>105</td>\n    </tr>\n    <tr>\n      <th>4</th>\n      <td>2020-07-15</td>\n      <td>6171059100114610</td>\n      <td>2</td>\n      <td>105</td>\n    </tr>\n    <tr>\n      <th>...</th>\n      <td>...</td>\n      <td>...</td>\n      <td>...</td>\n      <td>...</td>\n    </tr>\n    <tr>\n      <th>437360</th>\n      <td>2020-09-22</td>\n      <td>18410229429441241008</td>\n      <td>2</td>\n      <td>105</td>\n    </tr>\n    <tr>\n      <th>437361</th>\n      <td>2020-09-22</td>\n      <td>18417769707947924979</td>\n      <td>2</td>\n      <td>105</td>\n    </tr>\n    <tr>\n      <th>437362</th>\n      <td>2020-09-22</td>\n      <td>18418054986721795659</td>\n      <td>2</td>\n      <td>105</td>\n    </tr>\n    <tr>\n      <th>437363</th>\n      <td>2020-09-22</td>\n      <td>18421175435799911749</td>\n      <td>2</td>\n      <td>105</td>\n    </tr>\n    <tr>\n      <th>437364</th>\n      <td>2020-09-22</td>\n      <td>18438270306572912089</td>\n      <td>1</td>\n      <td>105</td>\n    </tr>\n  </tbody>\n</table>\n<p>437365 rows × 4 columns</p>\n</div>"
     },
     "execution_count": 46,
     "metadata": {},
     "output_type": "execute_result"
    }
   ]
  },
  {
   "cell_type": "code",
   "source": [
    "candidates_bestsellers_test_week = pd.merge(\n",
    "    test_set_transactions,\n",
    "    bestsellers_previous_week,\n",
    "    on='week'\n",
    ")"
   ],
   "metadata": {
    "execution": {
     "iopub.status.busy": "2022-04-16T16:55:58.92166Z",
     "iopub.execute_input": "2022-04-16T16:55:58.921976Z",
     "iopub.status.idle": "2022-04-16T16:55:59.465925Z",
     "shell.execute_reply.started": "2022-04-16T16:55:58.921943Z",
     "shell.execute_reply": "2022-04-16T16:55:59.46506Z"
    },
    "trusted": true,
    "ExecuteTime": {
     "end_time": "2023-12-04T20:28:23.846170200Z",
     "start_time": "2023-12-04T20:28:23.383797400Z"
    }
   },
   "execution_count": 47,
   "outputs": []
  },
  {
   "cell_type": "code",
   "source": [
    "candidates_bestsellers = pd.concat([candidates_bestsellers, candidates_bestsellers_test_week])\n",
    "candidates_bestsellers.drop(columns='bestseller_rank', inplace=True)"
   ],
   "metadata": {
    "execution": {
     "iopub.status.busy": "2022-04-16T16:56:10.11826Z",
     "iopub.execute_input": "2022-04-16T16:56:10.119061Z",
     "iopub.status.idle": "2022-04-16T16:56:11.325461Z",
     "shell.execute_reply.started": "2022-04-16T16:56:10.119017Z",
     "shell.execute_reply": "2022-04-16T16:56:11.324762Z"
    },
    "trusted": true,
    "ExecuteTime": {
     "end_time": "2023-12-04T20:28:24.267953500Z",
     "start_time": "2023-12-04T20:28:23.697504500Z"
    }
   },
   "execution_count": 48,
   "outputs": []
  },
  {
   "cell_type": "code",
   "source": [
    "candidates_bestsellers"
   ],
   "metadata": {
    "execution": {
     "iopub.status.busy": "2022-04-16T16:56:19.254726Z",
     "iopub.execute_input": "2022-04-16T16:56:19.255053Z",
     "iopub.status.idle": "2022-04-16T16:56:19.271702Z",
     "shell.execute_reply.started": "2022-04-16T16:56:19.255014Z",
     "shell.execute_reply": "2022-04-16T16:56:19.270702Z"
    },
    "trusted": true,
    "ExecuteTime": {
     "end_time": "2023-12-04T20:28:24.268982500Z",
     "start_time": "2023-12-04T20:28:24.156356300Z"
    }
   },
   "execution_count": 49,
   "outputs": [
    {
     "data": {
      "text/plain": "             t_dat           customer_id  sales_channel_id  week  article_id  \\\n0       2020-07-22       200292573348128                 2    96   760084003   \n1       2020-07-22       200292573348128                 2    96   866731001   \n2       2020-07-22       200292573348128                 2    96   600886001   \n3       2020-07-22       200292573348128                 2    96   706016001   \n4       2020-07-22       200292573348128                 2    96   372860002   \n...            ...                   ...               ...   ...         ...   \n5248375 2020-09-22  18438270306572912089                 1   105   915529003   \n5248376 2020-09-22  18438270306572912089                 1   105   915529005   \n5248377 2020-09-22  18438270306572912089                 1   105   448509014   \n5248378 2020-09-22  18438270306572912089                 1   105   762846027   \n5248379 2020-09-22  18438270306572912089                 1   105   714790020   \n\n            price  \n0        0.025094  \n1        0.024919  \n2        0.022980  \n3        0.033197  \n4        0.013193  \n...           ...  \n5248375  0.033439  \n5248376  0.033417  \n5248377  0.041630  \n5248378  0.025005  \n5248379  0.049951  \n\n[13389576 rows x 6 columns]",
      "text/html": "<div>\n<style scoped>\n    .dataframe tbody tr th:only-of-type {\n        vertical-align: middle;\n    }\n\n    .dataframe tbody tr th {\n        vertical-align: top;\n    }\n\n    .dataframe thead th {\n        text-align: right;\n    }\n</style>\n<table border=\"1\" class=\"dataframe\">\n  <thead>\n    <tr style=\"text-align: right;\">\n      <th></th>\n      <th>t_dat</th>\n      <th>customer_id</th>\n      <th>sales_channel_id</th>\n      <th>week</th>\n      <th>article_id</th>\n      <th>price</th>\n    </tr>\n  </thead>\n  <tbody>\n    <tr>\n      <th>0</th>\n      <td>2020-07-22</td>\n      <td>200292573348128</td>\n      <td>2</td>\n      <td>96</td>\n      <td>760084003</td>\n      <td>0.025094</td>\n    </tr>\n    <tr>\n      <th>1</th>\n      <td>2020-07-22</td>\n      <td>200292573348128</td>\n      <td>2</td>\n      <td>96</td>\n      <td>866731001</td>\n      <td>0.024919</td>\n    </tr>\n    <tr>\n      <th>2</th>\n      <td>2020-07-22</td>\n      <td>200292573348128</td>\n      <td>2</td>\n      <td>96</td>\n      <td>600886001</td>\n      <td>0.022980</td>\n    </tr>\n    <tr>\n      <th>3</th>\n      <td>2020-07-22</td>\n      <td>200292573348128</td>\n      <td>2</td>\n      <td>96</td>\n      <td>706016001</td>\n      <td>0.033197</td>\n    </tr>\n    <tr>\n      <th>4</th>\n      <td>2020-07-22</td>\n      <td>200292573348128</td>\n      <td>2</td>\n      <td>96</td>\n      <td>372860002</td>\n      <td>0.013193</td>\n    </tr>\n    <tr>\n      <th>...</th>\n      <td>...</td>\n      <td>...</td>\n      <td>...</td>\n      <td>...</td>\n      <td>...</td>\n      <td>...</td>\n    </tr>\n    <tr>\n      <th>5248375</th>\n      <td>2020-09-22</td>\n      <td>18438270306572912089</td>\n      <td>1</td>\n      <td>105</td>\n      <td>915529003</td>\n      <td>0.033439</td>\n    </tr>\n    <tr>\n      <th>5248376</th>\n      <td>2020-09-22</td>\n      <td>18438270306572912089</td>\n      <td>1</td>\n      <td>105</td>\n      <td>915529005</td>\n      <td>0.033417</td>\n    </tr>\n    <tr>\n      <th>5248377</th>\n      <td>2020-09-22</td>\n      <td>18438270306572912089</td>\n      <td>1</td>\n      <td>105</td>\n      <td>448509014</td>\n      <td>0.041630</td>\n    </tr>\n    <tr>\n      <th>5248378</th>\n      <td>2020-09-22</td>\n      <td>18438270306572912089</td>\n      <td>1</td>\n      <td>105</td>\n      <td>762846027</td>\n      <td>0.025005</td>\n    </tr>\n    <tr>\n      <th>5248379</th>\n      <td>2020-09-22</td>\n      <td>18438270306572912089</td>\n      <td>1</td>\n      <td>105</td>\n      <td>714790020</td>\n      <td>0.049951</td>\n    </tr>\n  </tbody>\n</table>\n<p>13389576 rows × 6 columns</p>\n</div>"
     },
     "execution_count": 49,
     "metadata": {},
     "output_type": "execute_result"
    }
   ]
  },
  {
   "cell_type": "markdown",
   "source": [
    "# Combining transactions and candidates / negative examples"
   ],
   "metadata": {}
  },
  {
   "cell_type": "code",
   "source": [
    "transactions['purchased'] = 1"
   ],
   "metadata": {
    "execution": {
     "iopub.status.busy": "2022-04-16T16:56:25.60895Z",
     "iopub.execute_input": "2022-04-16T16:56:25.609882Z",
     "iopub.status.idle": "2022-04-16T16:56:25.620461Z",
     "shell.execute_reply.started": "2022-04-16T16:56:25.609833Z",
     "shell.execute_reply": "2022-04-16T16:56:25.619506Z"
    },
    "trusted": true,
    "ExecuteTime": {
     "end_time": "2023-12-04T20:28:24.268982500Z",
     "start_time": "2023-12-04T20:28:24.163821900Z"
    }
   },
   "execution_count": 50,
   "outputs": []
  },
  {
   "cell_type": "code",
   "source": [
    "data = pd.concat([transactions, candidates_last_purchase, candidates_bestsellers])\n",
    "data.purchased.fillna(0, inplace=True)"
   ],
   "metadata": {
    "execution": {
     "iopub.status.busy": "2022-04-16T16:56:31.824647Z",
     "iopub.execute_input": "2022-04-16T16:56:31.824982Z",
     "iopub.status.idle": "2022-04-16T16:56:32.437836Z",
     "shell.execute_reply.started": "2022-04-16T16:56:31.824952Z",
     "shell.execute_reply": "2022-04-16T16:56:32.436995Z"
    },
    "trusted": true,
    "ExecuteTime": {
     "end_time": "2023-12-04T20:28:24.760152700Z",
     "start_time": "2023-12-04T20:28:24.180307500Z"
    }
   },
   "execution_count": 51,
   "outputs": []
  },
  {
   "cell_type": "code",
   "source": [
    "data"
   ],
   "metadata": {
    "execution": {
     "iopub.status.busy": "2022-04-16T16:56:39.053412Z",
     "iopub.execute_input": "2022-04-16T16:56:39.053729Z",
     "iopub.status.idle": "2022-04-16T16:56:39.071738Z",
     "shell.execute_reply.started": "2022-04-16T16:56:39.053698Z",
     "shell.execute_reply": "2022-04-16T16:56:39.070857Z"
    },
    "trusted": true,
    "ExecuteTime": {
     "end_time": "2023-12-04T20:28:24.761151900Z",
     "start_time": "2023-12-04T20:28:24.634114900Z"
    }
   },
   "execution_count": 52,
   "outputs": [
    {
     "data": {
      "text/plain": "              t_dat           customer_id  article_id     price  \\\n29030503 2020-07-15       272412481300040   778064028  0.008458   \n29030504 2020-07-15       272412481300040   816592008  0.016932   \n29030505 2020-07-15       272412481300040   621381021  0.033881   \n29030506 2020-07-15       272412481300040   817477003  0.025407   \n29030507 2020-07-15       272412481300040   899088002  0.025407   \n...             ...                   ...         ...       ...   \n5248375  2020-09-22  18438270306572912089   915529003  0.033439   \n5248376  2020-09-22  18438270306572912089   915529005  0.033417   \n5248377  2020-09-22  18438270306572912089   448509014  0.041630   \n5248378  2020-09-22  18438270306572912089   762846027  0.025005   \n5248379  2020-09-22  18438270306572912089   714790020  0.049951   \n\n          sales_channel_id  week  purchased  \n29030503                 1    95        1.0  \n29030504                 1    95        1.0  \n29030505                 1    95        1.0  \n29030506                 1    95        1.0  \n29030507                 1    95        1.0  \n...                    ...   ...        ...  \n5248375                  1   105        0.0  \n5248376                  1   105        0.0  \n5248377                  1   105        0.0  \n5248378                  1   105        0.0  \n5248379                  1   105        0.0  \n\n[18915320 rows x 7 columns]",
      "text/html": "<div>\n<style scoped>\n    .dataframe tbody tr th:only-of-type {\n        vertical-align: middle;\n    }\n\n    .dataframe tbody tr th {\n        vertical-align: top;\n    }\n\n    .dataframe thead th {\n        text-align: right;\n    }\n</style>\n<table border=\"1\" class=\"dataframe\">\n  <thead>\n    <tr style=\"text-align: right;\">\n      <th></th>\n      <th>t_dat</th>\n      <th>customer_id</th>\n      <th>article_id</th>\n      <th>price</th>\n      <th>sales_channel_id</th>\n      <th>week</th>\n      <th>purchased</th>\n    </tr>\n  </thead>\n  <tbody>\n    <tr>\n      <th>29030503</th>\n      <td>2020-07-15</td>\n      <td>272412481300040</td>\n      <td>778064028</td>\n      <td>0.008458</td>\n      <td>1</td>\n      <td>95</td>\n      <td>1.0</td>\n    </tr>\n    <tr>\n      <th>29030504</th>\n      <td>2020-07-15</td>\n      <td>272412481300040</td>\n      <td>816592008</td>\n      <td>0.016932</td>\n      <td>1</td>\n      <td>95</td>\n      <td>1.0</td>\n    </tr>\n    <tr>\n      <th>29030505</th>\n      <td>2020-07-15</td>\n      <td>272412481300040</td>\n      <td>621381021</td>\n      <td>0.033881</td>\n      <td>1</td>\n      <td>95</td>\n      <td>1.0</td>\n    </tr>\n    <tr>\n      <th>29030506</th>\n      <td>2020-07-15</td>\n      <td>272412481300040</td>\n      <td>817477003</td>\n      <td>0.025407</td>\n      <td>1</td>\n      <td>95</td>\n      <td>1.0</td>\n    </tr>\n    <tr>\n      <th>29030507</th>\n      <td>2020-07-15</td>\n      <td>272412481300040</td>\n      <td>899088002</td>\n      <td>0.025407</td>\n      <td>1</td>\n      <td>95</td>\n      <td>1.0</td>\n    </tr>\n    <tr>\n      <th>...</th>\n      <td>...</td>\n      <td>...</td>\n      <td>...</td>\n      <td>...</td>\n      <td>...</td>\n      <td>...</td>\n      <td>...</td>\n    </tr>\n    <tr>\n      <th>5248375</th>\n      <td>2020-09-22</td>\n      <td>18438270306572912089</td>\n      <td>915529003</td>\n      <td>0.033439</td>\n      <td>1</td>\n      <td>105</td>\n      <td>0.0</td>\n    </tr>\n    <tr>\n      <th>5248376</th>\n      <td>2020-09-22</td>\n      <td>18438270306572912089</td>\n      <td>915529005</td>\n      <td>0.033417</td>\n      <td>1</td>\n      <td>105</td>\n      <td>0.0</td>\n    </tr>\n    <tr>\n      <th>5248377</th>\n      <td>2020-09-22</td>\n      <td>18438270306572912089</td>\n      <td>448509014</td>\n      <td>0.041630</td>\n      <td>1</td>\n      <td>105</td>\n      <td>0.0</td>\n    </tr>\n    <tr>\n      <th>5248378</th>\n      <td>2020-09-22</td>\n      <td>18438270306572912089</td>\n      <td>762846027</td>\n      <td>0.025005</td>\n      <td>1</td>\n      <td>105</td>\n      <td>0.0</td>\n    </tr>\n    <tr>\n      <th>5248379</th>\n      <td>2020-09-22</td>\n      <td>18438270306572912089</td>\n      <td>714790020</td>\n      <td>0.049951</td>\n      <td>1</td>\n      <td>105</td>\n      <td>0.0</td>\n    </tr>\n  </tbody>\n</table>\n<p>18915320 rows × 7 columns</p>\n</div>"
     },
     "execution_count": 52,
     "metadata": {},
     "output_type": "execute_result"
    }
   ]
  },
  {
   "cell_type": "code",
   "source": [
    "data.drop_duplicates(['customer_id', 'article_id', 'week'], inplace=True)"
   ],
   "metadata": {
    "execution": {
     "iopub.status.busy": "2022-04-16T16:56:54.897286Z",
     "iopub.execute_input": "2022-04-16T16:56:54.897571Z",
     "iopub.status.idle": "2022-04-16T16:57:02.803119Z",
     "shell.execute_reply.started": "2022-04-16T16:56:54.897538Z",
     "shell.execute_reply": "2022-04-16T16:57:02.802139Z"
    },
    "trusted": true,
    "ExecuteTime": {
     "end_time": "2023-12-04T20:28:30.985434Z",
     "start_time": "2023-12-04T20:28:24.663281200Z"
    }
   },
   "execution_count": 53,
   "outputs": []
  },
  {
   "cell_type": "code",
   "source": [
    "data.purchased.mean()"
   ],
   "metadata": {
    "execution": {
     "iopub.status.busy": "2022-04-16T16:57:02.805002Z",
     "iopub.execute_input": "2022-04-16T16:57:02.805659Z",
     "iopub.status.idle": "2022-04-16T16:57:02.868471Z",
     "shell.execute_reply.started": "2022-04-16T16:57:02.805609Z",
     "shell.execute_reply": "2022-04-16T16:57:02.867456Z"
    },
    "trusted": true,
    "ExecuteTime": {
     "end_time": "2023-12-04T20:28:31.074421300Z",
     "start_time": "2023-12-04T20:28:30.986437900Z"
    }
   },
   "execution_count": 54,
   "outputs": [
    {
     "data": {
      "text/plain": "0.13607582749165664"
     },
     "execution_count": 54,
     "metadata": {},
     "output_type": "execute_result"
    }
   ]
  },
  {
   "cell_type": "markdown",
   "source": [
    "### Add bestseller information"
   ],
   "metadata": {}
  },
  {
   "cell_type": "code",
   "source": [
    "data = pd.merge(\n",
    "    data,\n",
    "    bestsellers_previous_week[['week', 'article_id', 'bestseller_rank']],\n",
    "    on=['week', 'article_id'],\n",
    "    how='left'\n",
    ").merge(\n",
    "    recency,\n",
    "    on='article_id',\n",
    "    how='left'\n",
    ").merge(\n",
    "    price_statistics,\n",
    "    on='article_id',\n",
    "    how='left'\n",
    ")\n"
   ],
   "metadata": {
    "execution": {
     "iopub.status.busy": "2022-04-16T16:57:05.130621Z",
     "iopub.execute_input": "2022-04-16T16:57:05.130915Z",
     "iopub.status.idle": "2022-04-16T16:57:08.938612Z",
     "shell.execute_reply.started": "2022-04-16T16:57:05.130885Z",
     "shell.execute_reply": "2022-04-16T16:57:08.93771Z"
    },
    "trusted": true,
    "ExecuteTime": {
     "end_time": "2023-12-04T20:28:41.019409Z",
     "start_time": "2023-12-04T20:28:31.065980700Z"
    }
   },
   "execution_count": 55,
   "outputs": []
  },
  {
   "cell_type": "code",
   "execution_count": 56,
   "outputs": [
    {
     "data": {
      "text/plain": "       t_dat       customer_id  article_id     price  sales_channel_id  week  \\\n0 2020-07-15   272412481300040   778064028  0.008458                 1    95   \n1 2020-07-15   272412481300040   816592008  0.016932                 1    95   \n2 2020-07-15   272412481300040   621381021  0.033881                 1    95   \n3 2020-07-15   272412481300040   817477003  0.025407                 1    95   \n4 2020-07-15   272412481300040   899088002  0.025407                 1    95   \n5 2020-07-15  1456826891333599   888294001  0.013542                 1    95   \n6 2020-07-15  1456826891333599   895002002  0.015237                 1    95   \n7 2020-07-15  2133687643102426   843642001  0.042356                 2    95   \n8 2020-07-15  6010692573790711   857812010  0.039661                 1    95   \n9 2020-07-15  6010692573790711   372860001  0.012678                 1    95   \n\n   purchased  bestseller_rank  recency_rank  mean_price  min_price  max_price  \\\n0        1.0              NaN          10.0    0.005620   0.001678   0.008458   \n1        1.0              NaN          10.0    0.016344   0.010153   0.016932   \n2        1.0              NaN          10.0    0.033032   0.027102   0.033881   \n3        1.0              NaN          10.0    0.024747   0.018627   0.025407   \n4        1.0              NaN          10.0    0.024468   0.012695   0.025407   \n5        1.0              NaN          10.0    0.022126   0.006763   0.025407   \n6        1.0              NaN          10.0    0.012476   0.003373   0.015237   \n7        1.0              NaN          10.0    0.041549   0.029153   0.042356   \n8        1.0              NaN          10.0    0.034969   0.013542   0.042356   \n9        1.0              NaN          10.0    0.013197   0.003373   0.013542   \n\n   std_price  \n0   0.002007  \n1   0.001248  \n2   0.001641  \n3   0.001481  \n4   0.001917  \n5   0.005261  \n6   0.002595  \n7   0.002169  \n8   0.007702  \n9   0.000962  ",
      "text/html": "<div>\n<style scoped>\n    .dataframe tbody tr th:only-of-type {\n        vertical-align: middle;\n    }\n\n    .dataframe tbody tr th {\n        vertical-align: top;\n    }\n\n    .dataframe thead th {\n        text-align: right;\n    }\n</style>\n<table border=\"1\" class=\"dataframe\">\n  <thead>\n    <tr style=\"text-align: right;\">\n      <th></th>\n      <th>t_dat</th>\n      <th>customer_id</th>\n      <th>article_id</th>\n      <th>price</th>\n      <th>sales_channel_id</th>\n      <th>week</th>\n      <th>purchased</th>\n      <th>bestseller_rank</th>\n      <th>recency_rank</th>\n      <th>mean_price</th>\n      <th>min_price</th>\n      <th>max_price</th>\n      <th>std_price</th>\n    </tr>\n  </thead>\n  <tbody>\n    <tr>\n      <th>0</th>\n      <td>2020-07-15</td>\n      <td>272412481300040</td>\n      <td>778064028</td>\n      <td>0.008458</td>\n      <td>1</td>\n      <td>95</td>\n      <td>1.0</td>\n      <td>NaN</td>\n      <td>10.0</td>\n      <td>0.005620</td>\n      <td>0.001678</td>\n      <td>0.008458</td>\n      <td>0.002007</td>\n    </tr>\n    <tr>\n      <th>1</th>\n      <td>2020-07-15</td>\n      <td>272412481300040</td>\n      <td>816592008</td>\n      <td>0.016932</td>\n      <td>1</td>\n      <td>95</td>\n      <td>1.0</td>\n      <td>NaN</td>\n      <td>10.0</td>\n      <td>0.016344</td>\n      <td>0.010153</td>\n      <td>0.016932</td>\n      <td>0.001248</td>\n    </tr>\n    <tr>\n      <th>2</th>\n      <td>2020-07-15</td>\n      <td>272412481300040</td>\n      <td>621381021</td>\n      <td>0.033881</td>\n      <td>1</td>\n      <td>95</td>\n      <td>1.0</td>\n      <td>NaN</td>\n      <td>10.0</td>\n      <td>0.033032</td>\n      <td>0.027102</td>\n      <td>0.033881</td>\n      <td>0.001641</td>\n    </tr>\n    <tr>\n      <th>3</th>\n      <td>2020-07-15</td>\n      <td>272412481300040</td>\n      <td>817477003</td>\n      <td>0.025407</td>\n      <td>1</td>\n      <td>95</td>\n      <td>1.0</td>\n      <td>NaN</td>\n      <td>10.0</td>\n      <td>0.024747</td>\n      <td>0.018627</td>\n      <td>0.025407</td>\n      <td>0.001481</td>\n    </tr>\n    <tr>\n      <th>4</th>\n      <td>2020-07-15</td>\n      <td>272412481300040</td>\n      <td>899088002</td>\n      <td>0.025407</td>\n      <td>1</td>\n      <td>95</td>\n      <td>1.0</td>\n      <td>NaN</td>\n      <td>10.0</td>\n      <td>0.024468</td>\n      <td>0.012695</td>\n      <td>0.025407</td>\n      <td>0.001917</td>\n    </tr>\n    <tr>\n      <th>5</th>\n      <td>2020-07-15</td>\n      <td>1456826891333599</td>\n      <td>888294001</td>\n      <td>0.013542</td>\n      <td>1</td>\n      <td>95</td>\n      <td>1.0</td>\n      <td>NaN</td>\n      <td>10.0</td>\n      <td>0.022126</td>\n      <td>0.006763</td>\n      <td>0.025407</td>\n      <td>0.005261</td>\n    </tr>\n    <tr>\n      <th>6</th>\n      <td>2020-07-15</td>\n      <td>1456826891333599</td>\n      <td>895002002</td>\n      <td>0.015237</td>\n      <td>1</td>\n      <td>95</td>\n      <td>1.0</td>\n      <td>NaN</td>\n      <td>10.0</td>\n      <td>0.012476</td>\n      <td>0.003373</td>\n      <td>0.015237</td>\n      <td>0.002595</td>\n    </tr>\n    <tr>\n      <th>7</th>\n      <td>2020-07-15</td>\n      <td>2133687643102426</td>\n      <td>843642001</td>\n      <td>0.042356</td>\n      <td>2</td>\n      <td>95</td>\n      <td>1.0</td>\n      <td>NaN</td>\n      <td>10.0</td>\n      <td>0.041549</td>\n      <td>0.029153</td>\n      <td>0.042356</td>\n      <td>0.002169</td>\n    </tr>\n    <tr>\n      <th>8</th>\n      <td>2020-07-15</td>\n      <td>6010692573790711</td>\n      <td>857812010</td>\n      <td>0.039661</td>\n      <td>1</td>\n      <td>95</td>\n      <td>1.0</td>\n      <td>NaN</td>\n      <td>10.0</td>\n      <td>0.034969</td>\n      <td>0.013542</td>\n      <td>0.042356</td>\n      <td>0.007702</td>\n    </tr>\n    <tr>\n      <th>9</th>\n      <td>2020-07-15</td>\n      <td>6010692573790711</td>\n      <td>372860001</td>\n      <td>0.012678</td>\n      <td>1</td>\n      <td>95</td>\n      <td>1.0</td>\n      <td>NaN</td>\n      <td>10.0</td>\n      <td>0.013197</td>\n      <td>0.003373</td>\n      <td>0.013542</td>\n      <td>0.000962</td>\n    </tr>\n  </tbody>\n</table>\n</div>"
     },
     "execution_count": 56,
     "metadata": {},
     "output_type": "execute_result"
    }
   ],
   "source": [
    "\n",
    "data.head(10)"
   ],
   "metadata": {
    "collapsed": false,
    "ExecuteTime": {
     "end_time": "2023-12-04T20:28:41.107885200Z",
     "start_time": "2023-12-04T20:28:41.035589700Z"
    }
   }
  },
  {
   "cell_type": "code",
   "source": [
    "data = data[data.week != data.week.min()]\n",
    "data.bestseller_rank.fillna(999, inplace=True)"
   ],
   "metadata": {
    "execution": {
     "iopub.status.busy": "2022-04-16T16:57:08.940267Z",
     "iopub.execute_input": "2022-04-16T16:57:08.940616Z",
     "iopub.status.idle": "2022-04-16T16:57:11.304612Z",
     "shell.execute_reply.started": "2022-04-16T16:57:08.940582Z",
     "shell.execute_reply": "2022-04-16T16:57:11.303642Z"
    },
    "trusted": true,
    "ExecuteTime": {
     "end_time": "2023-12-04T20:28:42.584681700Z",
     "start_time": "2023-12-04T20:28:41.081510800Z"
    }
   },
   "execution_count": 57,
   "outputs": []
  },
  {
   "cell_type": "code",
   "source": [
    "data = pd.merge(data, articles, on='article_id', how='left')\n",
    "data = pd.merge(data, customers, on='customer_id', how='left')"
   ],
   "metadata": {
    "execution": {
     "iopub.status.busy": "2022-04-16T16:57:11.305896Z",
     "iopub.execute_input": "2022-04-16T16:57:11.306171Z",
     "iopub.status.idle": "2022-04-16T16:57:33.962326Z",
     "shell.execute_reply.started": "2022-04-16T16:57:11.306138Z",
     "shell.execute_reply": "2022-04-16T16:57:33.961223Z"
    },
    "trusted": true,
    "ExecuteTime": {
     "end_time": "2023-12-04T20:28:55.674522800Z",
     "start_time": "2023-12-04T20:28:42.585686700Z"
    }
   },
   "execution_count": 58,
   "outputs": []
  },
  {
   "cell_type": "code",
   "source": [
    "data.sort_values(['week', 'customer_id'], inplace=True)\n",
    "data.reset_index(drop=True, inplace=True)"
   ],
   "metadata": {
    "execution": {
     "iopub.status.busy": "2022-04-16T16:57:33.964281Z",
     "iopub.execute_input": "2022-04-16T16:57:33.964533Z",
     "iopub.status.idle": "2022-04-16T16:57:40.05823Z",
     "shell.execute_reply.started": "2022-04-16T16:57:33.964502Z",
     "shell.execute_reply": "2022-04-16T16:57:40.057265Z"
    },
    "trusted": true,
    "ExecuteTime": {
     "end_time": "2023-12-04T20:29:01.467625200Z",
     "start_time": "2023-12-04T20:28:55.683242400Z"
    }
   },
   "execution_count": 59,
   "outputs": []
  },
  {
   "cell_type": "code",
   "source": [
    "train = data[data.week != test_week]\n",
    "test = data[data.week==test_week].drop_duplicates(['customer_id', 'article_id', 'sales_channel_id']).copy()"
   ],
   "metadata": {
    "execution": {
     "iopub.status.busy": "2022-04-16T16:57:40.059395Z",
     "iopub.execute_input": "2022-04-16T16:57:40.059659Z",
     "iopub.status.idle": "2022-04-16T16:57:47.342576Z",
     "shell.execute_reply.started": "2022-04-16T16:57:40.059627Z",
     "shell.execute_reply": "2022-04-16T16:57:47.34179Z"
    },
    "trusted": true,
    "ExecuteTime": {
     "end_time": "2023-12-04T20:29:06.472444400Z",
     "start_time": "2023-12-04T20:29:01.488766100Z"
    }
   },
   "execution_count": 60,
   "outputs": []
  },
  {
   "cell_type": "code",
   "source": [
    "train_baskets = train.groupby(['week', 'customer_id'])['article_id'].count().values"
   ],
   "metadata": {
    "execution": {
     "iopub.status.busy": "2022-04-16T16:57:47.343704Z",
     "iopub.execute_input": "2022-04-16T16:57:47.344074Z",
     "iopub.status.idle": "2022-04-16T16:57:48.278583Z",
     "shell.execute_reply.started": "2022-04-16T16:57:47.344043Z",
     "shell.execute_reply": "2022-04-16T16:57:48.277693Z"
    },
    "trusted": true,
    "ExecuteTime": {
     "end_time": "2023-12-04T20:29:07.263836600Z",
     "start_time": "2023-12-04T20:29:06.487201800Z"
    }
   },
   "execution_count": 61,
   "outputs": []
  },
  {
   "cell_type": "code",
   "source": [
    "columns_to_use = ['article_id', 'product_type_no', 'graphical_appearance_no', 'colour_group_code', 'perceived_colour_value_id',\n",
    "'perceived_colour_master_id', 'department_no', 'index_code',\n",
    "'index_group_no', 'section_no', 'garment_group_no', 'FN', 'Active', 'has_color',\n",
    "'club_member_status', 'fashion_news_frequency', 'age', 'postal_code', 'bestseller_rank', 'recency_rank', 'std_price']\n",
    "\n",
    "# columns_to_use += ['mean_price', 'min_price', 'max_price']\n",
    "# columns_to_use += ['sales_channel_id']"
   ],
   "metadata": {
    "execution": {
     "iopub.status.busy": "2022-04-16T16:57:48.279843Z",
     "iopub.execute_input": "2022-04-16T16:57:48.280088Z",
     "iopub.status.idle": "2022-04-16T16:57:48.285125Z",
     "shell.execute_reply.started": "2022-04-16T16:57:48.280057Z",
     "shell.execute_reply": "2022-04-16T16:57:48.284292Z"
    },
    "trusted": true,
    "ExecuteTime": {
     "end_time": "2023-12-04T20:29:07.297690700Z",
     "start_time": "2023-12-04T20:29:07.265845400Z"
    }
   },
   "execution_count": 62,
   "outputs": []
  },
  {
   "cell_type": "code",
   "source": [
    "%%time\n",
    "train_X = train[columns_to_use]\n",
    "print(train_X.columns)\n",
    "train_y = train['purchased']\n",
    "\n",
    "test_X = test[columns_to_use]"
   ],
   "metadata": {
    "execution": {
     "iopub.status.busy": "2022-04-16T16:57:48.286579Z",
     "iopub.execute_input": "2022-04-16T16:57:48.287072Z",
     "iopub.status.idle": "2022-04-16T16:57:49.009188Z",
     "shell.execute_reply.started": "2022-04-16T16:57:48.287025Z",
     "shell.execute_reply": "2022-04-16T16:57:49.008435Z"
    },
    "trusted": true,
    "ExecuteTime": {
     "end_time": "2023-12-04T20:29:07.911865300Z",
     "start_time": "2023-12-04T20:29:07.288646200Z"
    }
   },
   "execution_count": 63,
   "outputs": [
    {
     "name": "stdout",
     "output_type": "stream",
     "text": [
      "Index(['article_id', 'product_type_no', 'graphical_appearance_no',\n",
      "       'colour_group_code', 'perceived_colour_value_id',\n",
      "       'perceived_colour_master_id', 'department_no', 'index_code',\n",
      "       'index_group_no', 'section_no', 'garment_group_no', 'FN', 'Active',\n",
      "       'has_color', 'club_member_status', 'fashion_news_frequency', 'age',\n",
      "       'postal_code', 'bestseller_rank', 'recency_rank', 'std_price'],\n",
      "      dtype='object')\n",
      "CPU times: total: 344 ms\n",
      "Wall time: 525 ms\n"
     ]
    }
   ]
  },
  {
   "cell_type": "markdown",
   "source": [
    "# Model training"
   ],
   "metadata": {}
  },
  {
   "cell_type": "code",
   "source": [
    "from lightgbm.sklearn import LGBMRanker"
   ],
   "metadata": {
    "execution": {
     "iopub.status.busy": "2022-04-16T16:57:49.01189Z",
     "iopub.execute_input": "2022-04-16T16:57:49.012576Z",
     "iopub.status.idle": "2022-04-16T16:57:50.099966Z",
     "shell.execute_reply.started": "2022-04-16T16:57:49.012515Z",
     "shell.execute_reply": "2022-04-16T16:57:50.09909Z"
    },
    "trusted": true,
    "ExecuteTime": {
     "end_time": "2023-12-04T20:29:12.075327100Z",
     "start_time": "2023-12-04T20:29:07.908782100Z"
    }
   },
   "execution_count": 64,
   "outputs": []
  },
  {
   "cell_type": "code",
   "source": [
    "ranker = LGBMRanker(\n",
    "    objective=\"lambdarank\",\n",
    "    metric=\"ndcg\",\n",
    "    boosting_type=\"dart\",\n",
    "    n_estimators=1,\n",
    "    importance_type='gain',\n",
    "    verbose=10\n",
    ")"
   ],
   "metadata": {
    "execution": {
     "iopub.status.busy": "2022-04-16T16:57:50.101082Z",
     "iopub.execute_input": "2022-04-16T16:57:50.101312Z",
     "iopub.status.idle": "2022-04-16T16:57:50.105859Z",
     "shell.execute_reply.started": "2022-04-16T16:57:50.101285Z",
     "shell.execute_reply": "2022-04-16T16:57:50.105251Z"
    },
    "trusted": true,
    "ExecuteTime": {
     "end_time": "2023-12-04T20:29:12.101010600Z",
     "start_time": "2023-12-04T20:29:12.075327100Z"
    }
   },
   "execution_count": 65,
   "outputs": []
  },
  {
   "cell_type": "code",
   "execution_count": 70,
   "outputs": [
    {
     "name": "stdout",
     "output_type": "stream",
     "text": [
      "[LightGBM] [Debug] Dataset::GetMultiBinFromSparseFeatures: sparse rate 0.848850\n",
      "[LightGBM] [Debug] Dataset::GetMultiBinFromAllFeatures: sparse rate 0.178935\n",
      "[LightGBM] [Debug] init for col-wise cost 0.177210 seconds, init for row-wise cost 0.389924 seconds\n",
      "[LightGBM] [Info] Auto-choosing row-wise multi-threading, the overhead of testing was 0.344955 seconds.\n",
      "You can set `force_row_wise=true` to remove the overhead.\n",
      "And if memory is not enough, you can set `force_col_wise=true`.\n",
      "[LightGBM] [Debug] Using Dense Multi-Val Bin\n",
      "[LightGBM] [Info] Total Bins 1346\n",
      "[LightGBM] [Info] Number of data points in the train set: 11381612, number of used features: 21\n",
      "[LightGBM] [Debug] Trained a tree with leaves = 31 and depth = 10\n",
      "CPU times: total: 24 s\n",
      "Wall time: 9.25 s\n"
     ]
    }
   ],
   "source": [
    "%%time\n",
    "\n",
    "ranker = ranker.fit(\n",
    "    train_X,\n",
    "    train_y,\n",
    "    group=train_baskets,\n",
    "    eval_set=[(test_X, test['purchased'])],\n",
    "    eval_group=[test.groupby(['week', 'customer_id'])['article_id'].count().values],\n",
    ")\n"
   ],
   "metadata": {
    "collapsed": false,
    "ExecuteTime": {
     "end_time": "2023-12-04T20:31:36.647580800Z",
     "start_time": "2023-12-04T20:31:27.362610600Z"
    }
   }
  },
  {
   "cell_type": "code",
   "execution_count": 66,
   "outputs": [],
   "source": [
    "\n"
   ],
   "metadata": {
    "collapsed": false,
    "ExecuteTime": {
     "end_time": "2023-12-04T20:29:14.396798900Z",
     "start_time": "2023-12-04T20:29:14.373051300Z"
    }
   }
  },
  {
   "cell_type": "code",
   "execution_count": 72,
   "outputs": [
    {
     "ename": "KeyError",
     "evalue": "'customer_id'",
     "output_type": "error",
     "traceback": [
      "\u001B[1;31m---------------------------------------------------------------------------\u001B[0m",
      "\u001B[1;31mKeyError\u001B[0m                                  Traceback (most recent call last)",
      "\u001B[1;32m~\\AppData\\Local\\Temp\\ipykernel_7512\\2272082816.py\u001B[0m in \u001B[0;36m?\u001B[1;34m()\u001B[0m\n\u001B[0;32m      3\u001B[0m \u001B[1;33m\u001B[0m\u001B[0m\n\u001B[0;32m      4\u001B[0m \u001B[0mval_predictions\u001B[0m \u001B[1;33m=\u001B[0m \u001B[0mranker\u001B[0m\u001B[1;33m.\u001B[0m\u001B[0mpredict\u001B[0m\u001B[1;33m(\u001B[0m\u001B[0mlast_week_validation\u001B[0m\u001B[1;33m)\u001B[0m\u001B[1;33m\u001B[0m\u001B[1;33m\u001B[0m\u001B[0m\n\u001B[0;32m      5\u001B[0m \u001B[1;33m\u001B[0m\u001B[0m\n\u001B[0;32m      6\u001B[0m \u001B[1;31m# Execute mean average precision at k (MAP@k) evaluation between the predictions and the ground truth\u001B[0m\u001B[1;33m\u001B[0m\u001B[1;33m\u001B[0m\u001B[0m\n\u001B[1;32m----> 7\u001B[1;33m \u001B[0mc_id2predicted_article_ids\u001B[0m \u001B[1;33m=\u001B[0m \u001B[0mlast_week_validation\u001B[0m\u001B[0;31m \u001B[0m\u001B[0;31m\\\u001B[0m\u001B[1;33m\u001B[0m\u001B[1;33m\u001B[0m\u001B[0m\n\u001B[0m\u001B[0;32m      8\u001B[0m     \u001B[1;33m.\u001B[0m\u001B[0msort_values\u001B[0m\u001B[1;33m(\u001B[0m\u001B[1;33m[\u001B[0m\u001B[1;34m'customer_id'\u001B[0m\u001B[1;33m,\u001B[0m \u001B[1;34m'preds'\u001B[0m\u001B[1;33m]\u001B[0m\u001B[1;33m,\u001B[0m \u001B[0mascending\u001B[0m\u001B[1;33m=\u001B[0m\u001B[1;32mFalse\u001B[0m\u001B[1;33m)\u001B[0m\u001B[0;31m \u001B[0m\u001B[0;31m\\\u001B[0m\u001B[1;33m\u001B[0m\u001B[1;33m\u001B[0m\u001B[0m\n\u001B[0;32m      9\u001B[0m     \u001B[1;33m.\u001B[0m\u001B[0mgroupby\u001B[0m\u001B[1;33m(\u001B[0m\u001B[1;34m'customer_id'\u001B[0m\u001B[1;33m)\u001B[0m\u001B[1;33m[\u001B[0m\u001B[1;34m'article_id'\u001B[0m\u001B[1;33m]\u001B[0m\u001B[1;33m.\u001B[0m\u001B[0mapply\u001B[0m\u001B[1;33m(\u001B[0m\u001B[0mlist\u001B[0m\u001B[1;33m)\u001B[0m\u001B[1;33m.\u001B[0m\u001B[0mto_dict\u001B[0m\u001B[1;33m(\u001B[0m\u001B[1;33m)\u001B[0m\u001B[1;33m\u001B[0m\u001B[1;33m\u001B[0m\u001B[0m\n\u001B[0;32m     10\u001B[0m \u001B[0mpreds\u001B[0m \u001B[1;33m=\u001B[0m \u001B[1;33m[\u001B[0m\u001B[1;33m]\u001B[0m\u001B[1;33m\u001B[0m\u001B[1;33m\u001B[0m\u001B[0m\n",
      "\u001B[1;32mC:\\School\\2023-2024\\AI project\\win_venv\\lib\\site-packages\\pandas\\core\\frame.py\u001B[0m in \u001B[0;36m?\u001B[1;34m(self, by, axis, ascending, inplace, kind, na_position, ignore_index, key)\u001B[0m\n\u001B[0;32m   6926\u001B[0m                 \u001B[1;34mf\"Length of ascending ({len(ascending)})\"\u001B[0m  \u001B[1;31m# type: ignore[arg-type]\u001B[0m\u001B[1;33m\u001B[0m\u001B[1;33m\u001B[0m\u001B[0m\n\u001B[0;32m   6927\u001B[0m                 \u001B[1;34mf\" != length of by ({len(by)})\"\u001B[0m\u001B[1;33m\u001B[0m\u001B[1;33m\u001B[0m\u001B[0m\n\u001B[0;32m   6928\u001B[0m             )\n\u001B[0;32m   6929\u001B[0m         \u001B[1;32mif\u001B[0m \u001B[0mlen\u001B[0m\u001B[1;33m(\u001B[0m\u001B[0mby\u001B[0m\u001B[1;33m)\u001B[0m \u001B[1;33m>\u001B[0m \u001B[1;36m1\u001B[0m\u001B[1;33m:\u001B[0m\u001B[1;33m\u001B[0m\u001B[1;33m\u001B[0m\u001B[0m\n\u001B[1;32m-> 6930\u001B[1;33m             \u001B[0mkeys\u001B[0m \u001B[1;33m=\u001B[0m \u001B[1;33m[\u001B[0m\u001B[0mself\u001B[0m\u001B[1;33m.\u001B[0m\u001B[0m_get_label_or_level_values\u001B[0m\u001B[1;33m(\u001B[0m\u001B[0mx\u001B[0m\u001B[1;33m,\u001B[0m \u001B[0maxis\u001B[0m\u001B[1;33m=\u001B[0m\u001B[0maxis\u001B[0m\u001B[1;33m)\u001B[0m \u001B[1;32mfor\u001B[0m \u001B[0mx\u001B[0m \u001B[1;32min\u001B[0m \u001B[0mby\u001B[0m\u001B[1;33m]\u001B[0m\u001B[1;33m\u001B[0m\u001B[1;33m\u001B[0m\u001B[0m\n\u001B[0m\u001B[0;32m   6931\u001B[0m \u001B[1;33m\u001B[0m\u001B[0m\n\u001B[0;32m   6932\u001B[0m             \u001B[1;31m# need to rewrap columns in Series to apply key function\u001B[0m\u001B[1;33m\u001B[0m\u001B[1;33m\u001B[0m\u001B[0m\n\u001B[0;32m   6933\u001B[0m             \u001B[1;32mif\u001B[0m \u001B[0mkey\u001B[0m \u001B[1;32mis\u001B[0m \u001B[1;32mnot\u001B[0m \u001B[1;32mNone\u001B[0m\u001B[1;33m:\u001B[0m\u001B[1;33m\u001B[0m\u001B[1;33m\u001B[0m\u001B[0m\n",
      "\u001B[1;32mC:\\School\\2023-2024\\AI project\\win_venv\\lib\\site-packages\\pandas\\core\\frame.py\u001B[0m in \u001B[0;36m?\u001B[1;34m(.0)\u001B[0m\n\u001B[1;32m-> 6930\u001B[1;33m         \u001B[1;33m...\u001B[0m     \u001B[0mkey\u001B[0m\u001B[1;33m=\u001B[0m\u001B[1;32mlambda\u001B[0m \u001B[0mx\u001B[0m\u001B[1;33m:\u001B[0m \u001B[0mnp\u001B[0m\u001B[1;33m.\u001B[0m\u001B[0margsort\u001B[0m\u001B[1;33m(\u001B[0m\u001B[0mindex_natsorted\u001B[0m\u001B[1;33m(\u001B[0m\u001B[0mdf\u001B[0m\u001B[1;33m[\u001B[0m\u001B[1;34m\"time\"\u001B[0m\u001B[1;33m]\u001B[0m\u001B[1;33m)\u001B[0m\u001B[1;33m)\u001B[0m\u001B[1;33m\u001B[0m\u001B[1;33m\u001B[0m\u001B[0m\n\u001B[0m",
      "\u001B[1;32mC:\\School\\2023-2024\\AI project\\win_venv\\lib\\site-packages\\pandas\\core\\generic.py\u001B[0m in \u001B[0;36m?\u001B[1;34m(self, key, axis)\u001B[0m\n\u001B[0;32m   1840\u001B[0m             \u001B[0mvalues\u001B[0m \u001B[1;33m=\u001B[0m \u001B[0mself\u001B[0m\u001B[1;33m.\u001B[0m\u001B[0mxs\u001B[0m\u001B[1;33m(\u001B[0m\u001B[0mkey\u001B[0m\u001B[1;33m,\u001B[0m \u001B[0maxis\u001B[0m\u001B[1;33m=\u001B[0m\u001B[0mother_axes\u001B[0m\u001B[1;33m[\u001B[0m\u001B[1;36m0\u001B[0m\u001B[1;33m]\u001B[0m\u001B[1;33m)\u001B[0m\u001B[1;33m.\u001B[0m\u001B[0m_values\u001B[0m\u001B[1;33m\u001B[0m\u001B[1;33m\u001B[0m\u001B[0m\n\u001B[0;32m   1841\u001B[0m         \u001B[1;32melif\u001B[0m \u001B[0mself\u001B[0m\u001B[1;33m.\u001B[0m\u001B[0m_is_level_reference\u001B[0m\u001B[1;33m(\u001B[0m\u001B[0mkey\u001B[0m\u001B[1;33m,\u001B[0m \u001B[0maxis\u001B[0m\u001B[1;33m=\u001B[0m\u001B[0maxis\u001B[0m\u001B[1;33m)\u001B[0m\u001B[1;33m:\u001B[0m\u001B[1;33m\u001B[0m\u001B[1;33m\u001B[0m\u001B[0m\n\u001B[0;32m   1842\u001B[0m             \u001B[0mvalues\u001B[0m \u001B[1;33m=\u001B[0m \u001B[0mself\u001B[0m\u001B[1;33m.\u001B[0m\u001B[0maxes\u001B[0m\u001B[1;33m[\u001B[0m\u001B[0maxis\u001B[0m\u001B[1;33m]\u001B[0m\u001B[1;33m.\u001B[0m\u001B[0mget_level_values\u001B[0m\u001B[1;33m(\u001B[0m\u001B[0mkey\u001B[0m\u001B[1;33m)\u001B[0m\u001B[1;33m.\u001B[0m\u001B[0m_values\u001B[0m\u001B[1;33m\u001B[0m\u001B[1;33m\u001B[0m\u001B[0m\n\u001B[0;32m   1843\u001B[0m         \u001B[1;32melse\u001B[0m\u001B[1;33m:\u001B[0m\u001B[1;33m\u001B[0m\u001B[1;33m\u001B[0m\u001B[0m\n\u001B[1;32m-> 1844\u001B[1;33m             \u001B[1;32mraise\u001B[0m \u001B[0mKeyError\u001B[0m\u001B[1;33m(\u001B[0m\u001B[0mkey\u001B[0m\u001B[1;33m)\u001B[0m\u001B[1;33m\u001B[0m\u001B[1;33m\u001B[0m\u001B[0m\n\u001B[0m\u001B[0;32m   1845\u001B[0m \u001B[1;33m\u001B[0m\u001B[0m\n\u001B[0;32m   1846\u001B[0m         \u001B[1;31m# Check for duplicates\u001B[0m\u001B[1;33m\u001B[0m\u001B[1;33m\u001B[0m\u001B[0m\n\u001B[0;32m   1847\u001B[0m         \u001B[1;32mif\u001B[0m \u001B[0mvalues\u001B[0m\u001B[1;33m.\u001B[0m\u001B[0mndim\u001B[0m \u001B[1;33m>\u001B[0m \u001B[1;36m1\u001B[0m\u001B[1;33m:\u001B[0m\u001B[1;33m\u001B[0m\u001B[1;33m\u001B[0m\u001B[0m\n",
      "\u001B[1;31mKeyError\u001B[0m: 'customer_id'"
     ]
    }
   ],
   "source": [
    "# Get the predictions for the test week based upon the last week of the training set\n",
    "last_week_validation = train_X[train.week == train.week.max()]\n",
    "\n",
    "val_predictions = ranker.predict(last_week_validation)\n",
    "\n",
    "# Execute mean average precision at k (MAP@k) evaluation between the predictions and the ground truth\n",
    "c_id2predicted_article_ids = last_week_validation \\\n",
    "    .sort_values(['customer_id', 'preds'], ascending=False) \\\n",
    "    .groupby('customer_id')['article_id'].apply(list).to_dict()\n",
    "preds = []\n",
    "bestsellers_last_week = \\\n",
    "    bestsellers_previous_week[bestsellers_previous_week.week == bestsellers_previous_week.week.max()]['article_id'].tolist()\n",
    "sub = pd.read_csv(f'{project_dir}Input\\\\Dataset\\\\sample_submission.csv')\n",
    "for c_id in customer_hex_id_to_int(sub.customer_id):\n",
    "    pred = c_id2predicted_article_ids.get(c_id, [])\n",
    "    pred = pred + bestsellers_last_week\n",
    "    preds.append(pred[:12])\n",
    "\n",
    "test_week_purchases_by_cust = test.groupby('customer_id')['article_id'].apply(list).to_dict()\n",
    "calculate_apk(dict_of_gts=test_week_purchases_by_cust, dict_of_preds=c_id2predicted_article_ids)"
   ],
   "metadata": {
    "collapsed": false,
    "ExecuteTime": {
     "end_time": "2023-12-04T20:31:49.787251300Z",
     "start_time": "2023-12-04T20:31:49.447141600Z"
    }
   }
  },
  {
   "cell_type": "code",
   "source": [
    "for i in ranker.feature_importances_.argsort()[::-1]:\n",
    "    print(columns_to_use[i], ranker.feature_importances_[i]/ranker.feature_importances_.sum())"
   ],
   "metadata": {
    "ExecuteTime": {
     "end_time": "2023-12-04T20:34:54.441088800Z",
     "start_time": "2023-12-04T20:34:54.398270400Z"
    }
   },
   "execution_count": 73,
   "outputs": [
    {
     "name": "stdout",
     "output_type": "stream",
     "text": [
      "bestseller_rank 0.9983298445891587\n",
      "recency_rank 0.000893660433445673\n",
      "age 0.0002761468681148894\n",
      "article_id 0.00011181282516824868\n",
      "section_no 7.071485964406431e-05\n",
      "postal_code 6.204015426479855e-05\n",
      "club_member_status 5.7471018770658855e-05\n",
      "garment_group_no 4.762275783972834e-05\n",
      "std_price 4.407661973929278e-05\n",
      "colour_group_code 3.3416700263611705e-05\n",
      "department_no 2.9359838951292078e-05\n",
      "Active 1.7295701569078493e-05\n",
      "product_type_no 1.5111023305836356e-05\n",
      "fashion_news_frequency 1.1426609764090385e-05\n",
      "FN 0.0\n",
      "has_color 0.0\n",
      "index_group_no 0.0\n",
      "index_code 0.0\n",
      "perceived_colour_master_id 0.0\n",
      "perceived_colour_value_id 0.0\n",
      "graphical_appearance_no 0.0\n"
     ]
    }
   ]
  },
  {
   "cell_type": "markdown",
   "source": [
    "# Calculate predictions"
   ],
   "metadata": {}
  },
  {
   "cell_type": "code",
   "execution_count": 81,
   "outputs": [
    {
     "name": "stdout",
     "output_type": "stream",
     "text": [
      "CPU times: total: 0 ns\n",
      "Wall time: 0 ns\n"
     ]
    },
    {
     "name": "stderr",
     "output_type": "stream",
     "text": [
      "C:\\Users\\samro\\AppData\\Local\\Temp\\ipykernel_7512\\4074737826.py:5: SettingWithCopyWarning: \n",
      "A value is trying to be set on a copy of a slice from a DataFrame.\n",
      "Try using .loc[row_indexer,col_indexer] = value instead\n",
      "\n",
      "See the caveats in the documentation: https://pandas.pydata.org/pandas-docs/stable/user_guide/indexing.html#returning-a-view-versus-a-copy\n",
      "  last_week_purchases['preds'] = ranker.predict(last_week_purchases[columns_to_use])\n"
     ]
    },
    {
     "name": "stdout",
     "output_type": "stream",
     "text": [
      "0.48067903662208145\n"
     ]
    }
   ],
   "source": [
    "%time\n",
    "# get the items purchased in the last week before the test week\n",
    "last_week_purchases = data[data.week == data.week.max() - 1]\n",
    "# predict the items purchased in the test week \n",
    "last_week_purchases['preds'] = ranker.predict(last_week_purchases[columns_to_use])\n",
    "# calculate the average precision at k for the test week\n",
    "c_id2predicted_article_ids_validation = last_week_purchases \\\n",
    "    .sort_values(['customer_id', 'preds'], ascending=False) \\\n",
    "    .groupby('customer_id')['article_id'].apply(list).to_dict()\n",
    "test_week_purchases_by_cust_validation = test.groupby('customer_id')['article_id'].apply(list).to_dict()\n",
    "a = calculate_apk(dict_of_gts=test_week_purchases_by_cust_validation, dict_of_preds=c_id2predicted_article_ids_validation)\n",
    "print(a)"
   ],
   "metadata": {
    "collapsed": false,
    "ExecuteTime": {
     "end_time": "2023-12-04T20:56:48.540745800Z",
     "start_time": "2023-12-04T20:56:35.816477700Z"
    }
   }
  },
  {
   "cell_type": "code",
   "execution_count": null,
   "outputs": [],
   "source": [
    "\n",
    "test['preds'] = ranker.predict(test_X)\n",
    "\n",
    "\n",
    "# c_id2predicted_article_ids = test \\\n",
    "#     .sort_values(['customer_id', 'preds'], ascending=False) \\\n",
    "#     .groupby('customer_id')['article_id'].apply(list).to_dict()\n",
    "# test_week_purchases_by_cust = test.groupby('customer_id')['article_id'].apply(list).to_dict()\n",
    "\n",
    "# a = calculate_apk(dict_of_gts=test_week_purchases_by_cust, dict_of_preds=c_id2predicted_article_ids)\n",
    "# print(a)\n",
    "\n",
    "bestsellers_last_week = \\\n",
    "    bestsellers_previous_week[bestsellers_previous_week.week == bestsellers_previous_week.week.max()]['article_id'].tolist()"
   ],
   "metadata": {
    "collapsed": false
   }
  },
  {
   "cell_type": "markdown",
   "source": [
    "# Create submission"
   ],
   "metadata": {}
  },
  {
   "cell_type": "code",
   "source": [
    "sub = pd.read_csv(f'{project_dir}Input\\\\Dataset\\\\sample_submission.csv')"
   ],
   "metadata": {
    "ExecuteTime": {
     "end_time": "2023-10-10T22:15:13.197837400Z",
     "start_time": "2023-10-10T22:15:10.899859900Z"
    }
   },
   "execution_count": 55,
   "outputs": []
  },
  {
   "cell_type": "code",
   "source": [
    "%%time\n",
    "preds = []\n",
    "for c_id in customer_hex_id_to_int(sub.customer_id):\n",
    "    pred = c_id2predicted_article_ids.get(c_id, [])\n",
    "    pred = pred + bestsellers_last_week\n",
    "    preds.append(pred[:12])"
   ],
   "metadata": {
    "ExecuteTime": {
     "end_time": "2023-10-10T22:15:16.958320600Z",
     "start_time": "2023-10-10T22:15:13.198847700Z"
    }
   },
   "execution_count": 56,
   "outputs": [
    {
     "name": "stdout",
     "output_type": "stream",
     "text": [
      "CPU times: total: 2.77 s\n",
      "Wall time: 3.74 s\n"
     ]
    }
   ]
  },
  {
   "cell_type": "code",
   "source": [
    "preds = [' '.join(['0' + str(p) for p in ps]) for ps in preds]\n",
    "sub.prediction = preds"
   ],
   "metadata": {
    "ExecuteTime": {
     "end_time": "2023-10-10T22:15:19.897105700Z",
     "start_time": "2023-10-10T22:15:16.954527500Z"
    }
   },
   "execution_count": 57,
   "outputs": []
  },
  {
   "cell_type": "code",
   "source": [
    "sub_name = 'basic_model_submission'\n",
    "sub.to_csv(f'{project_dir}Output\\\\{sub_name}.csv', index=False)"
   ],
   "metadata": {
    "ExecuteTime": {
     "end_time": "2023-10-10T22:15:25.114224700Z",
     "start_time": "2023-10-10T22:15:19.899103300Z"
    }
   },
   "execution_count": 58,
   "outputs": []
  }
 ]
}
