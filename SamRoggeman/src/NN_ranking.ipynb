{
 "metadata": {
  "kernelspec": {
   "language": "python",
   "display_name": "Python 3",
   "name": "python3"
  },
  "language_info": {
   "pygments_lexer": "ipython3",
   "nbconvert_exporter": "python",
   "version": "3.6.4",
   "file_extension": ".py",
   "codemirror_mode": {
    "name": "ipython",
    "version": 3
   },
   "name": "python",
   "mimetype": "text/x-python"
  }
 },
 "nbformat_minor": 4,
 "nbformat": 4,
 "cells": [
  {
   "cell_type": "markdown",
   "source": [
    "Radek posted about this [here](https://www.kaggle.com/competitions/h-and-m-personalized-fashion-recommendations/discussion/309220), and linked to a GitHub repo with the code.\n",
    "\n",
    "I just transferred that code here to Kaggle notebooks, that's all."
   ],
   "metadata": {}
  },
  {
   "cell_type": "code",
   "source": [
    "import numpy as np\n",
    "\n",
    "def apk(actual, predicted, k=10):\n",
    "    \"\"\"\n",
    "    Computes the average precision at k.\n",
    "\n",
    "    This function computes the average prescision at k between two lists of\n",
    "    items.\n",
    "\n",
    "    Parameters\n",
    "    ----------\n",
    "    actual : list\n",
    "             A list of elements that are to be predicted (order doesn't matter)\n",
    "    predicted : list\n",
    "                A list of predicted elements (order does matter)\n",
    "    k : int, optional\n",
    "        The maximum number of predicted elements\n",
    "\n",
    "    Returns\n",
    "    -------\n",
    "    score : double\n",
    "            The average precision at k over the input lists\n",
    "\n",
    "    \"\"\"\n",
    "    if len(predicted)>k:\n",
    "        predicted = predicted[:k]\n",
    "\n",
    "    score = 0.0\n",
    "    num_hits = 0.0\n",
    "\n",
    "    for i,p in enumerate(predicted):\n",
    "        if p in actual and p not in predicted[:i]:\n",
    "            num_hits += 1.0\n",
    "            score += num_hits / (i+1.0)\n",
    "\n",
    "    if not actual:\n",
    "        return 0.0\n",
    "\n",
    "    return score / min(len(actual), k)\n",
    "\n",
    "def mapk(actual, predicted, k=10):\n",
    "    \"\"\"\n",
    "    Computes the mean average precision at k.\n",
    "\n",
    "    This function computes the mean average prescision at k between two lists\n",
    "    of lists of items.\n",
    "\n",
    "    Parameters\n",
    "    ----------\n",
    "    actual : list\n",
    "             A list of lists of elements that are to be predicted \n",
    "             (order doesn't matter in the lists)\n",
    "    predicted : list\n",
    "                A list of lists of predicted elements\n",
    "                (order matters in the lists)\n",
    "    k : int, optional\n",
    "        The maximum number of predicted elements\n",
    "\n",
    "    Returns\n",
    "    -------\n",
    "    score : double\n",
    "            The mean average precision at k over the input lists\n",
    "\n",
    "    \"\"\"\n",
    "    return np.mean([apk(a,p,k) for a,p in zip(actual, predicted)])"
   ],
   "metadata": {
    "execution": {
     "iopub.status.busy": "2022-04-16T15:40:18.703245Z",
     "iopub.execute_input": "2022-04-16T15:40:18.703622Z",
     "iopub.status.idle": "2022-04-16T15:40:18.730374Z",
     "shell.execute_reply.started": "2022-04-16T15:40:18.703524Z",
     "shell.execute_reply": "2022-04-16T15:40:18.729632Z"
    },
    "trusted": true,
    "ExecuteTime": {
     "end_time": "2023-12-06T00:17:42.778708400Z",
     "start_time": "2023-12-06T00:17:39.657193500Z"
    }
   },
   "execution_count": 16,
   "outputs": []
  },
  {
   "cell_type": "code",
   "execution_count": 17,
   "outputs": [],
   "source": [
    "import pandas as pd"
   ],
   "metadata": {
    "collapsed": false,
    "ExecuteTime": {
     "end_time": "2023-12-06T00:17:43.368638Z",
     "start_time": "2023-12-06T00:17:39.681595200Z"
    }
   }
  },
  {
   "cell_type": "code",
   "execution_count": 17,
   "outputs": [],
   "source": [],
   "metadata": {
    "collapsed": false,
    "ExecuteTime": {
     "end_time": "2023-12-06T00:17:43.858237100Z",
     "start_time": "2023-12-06T00:17:39.693366200Z"
    }
   }
  },
  {
   "cell_type": "code",
   "execution_count": 18,
   "outputs": [
    {
     "name": "stdout",
     "output_type": "stream",
     "text": [
      "CPU times: total: 2.69 s\n",
      "Wall time: 3.57 s\n"
     ]
    }
   ],
   "source": [
    "%%time\n",
    "\n",
    "data_folder = '..\\\\..\\\\..\\\\Input\\\\Dataset\\\\'\n",
    "transactions = pd.read_parquet(f'{data_folder}transactions_train.parquet')\n",
    "customers = pd.read_parquet(f'{data_folder}customers.parquet')\n",
    "articles = pd.read_parquet(f'{data_folder}articles.parquet')\n",
    "\n",
    "# sample = 0.05\n",
    "# transactions = pd.read_parquet(f'data/transactions_train_sample_{sample}.parquet')\n",
    "# customers = pd.read_parquet(f'data/customers_sample_{sample}.parquet')\n",
    "# articles = pd.read_parquet(f'data/articles_train_sample_{sample}.parquet')"
   ],
   "metadata": {
    "collapsed": false,
    "ExecuteTime": {
     "end_time": "2023-12-06T00:17:44.049918400Z",
     "start_time": "2023-12-06T00:17:39.710580200Z"
    }
   }
  },
  {
   "cell_type": "code",
   "execution_count": 19,
   "outputs": [],
   "source": [
    "from sklearn.base import BaseEstimator, TransformerMixin\n",
    "import numpy as np\n",
    "\n",
    "# https://www.kaggle.com/c/h-and-m-personalized-fashion-recommendations/discussion/308635\n",
    "def customer_hex_id_to_int(series):\n",
    "    return series.str[-16:].apply(hex_id_to_int)\n",
    "\n",
    "def hex_id_to_int(str):\n",
    "    return int(str[-16:], 16)\n",
    "\n",
    "def article_id_str_to_int(series):\n",
    "    return series.astype('int32')\n",
    "\n",
    "def article_id_int_to_str(series):\n",
    "    return '0' + series.astype('str')\n",
    "\n",
    "class Categorize(BaseEstimator, TransformerMixin):\n",
    "    def __init__(self, min_examples=0):\n",
    "        self.min_examples = min_examples\n",
    "        self.categories = []\n",
    "        \n",
    "    def fit(self, X):\n",
    "        for i in range(X.shape[1]):\n",
    "            vc = X.iloc[:, i].value_counts()\n",
    "            self.categories.append(vc[vc > self.min_examples].index.tolist())\n",
    "        return self\n",
    "\n",
    "    def transform(self, X):\n",
    "        data = {X.columns[i]: pd.Categorical(X.iloc[:, i], categories=self.categories[i]).codes for i in range(X.shape[1])}\n",
    "        return pd.DataFrame(data=data)\n",
    "\n",
    "\n",
    "def calculate_apk(list_of_preds, list_of_gts):\n",
    "    # for fast validation this can be changed to operate on dicts of {'cust_id_int': [art_id_int, ...]}\n",
    "    # using 'data/val_week_purchases_by_cust.pkl'\n",
    "    apks = []\n",
    "    for preds, gt in zip(list_of_preds, list_of_gts):\n",
    "        apks.append(apk(gt, preds, k=15))\n",
    "    return np.mean(apks)\n",
    "\n",
    "def calculate_apk_dicts(dict_of_preds, dict_of_gts):\n",
    "    # for fast validation this can be changed to operate on dicts of {'cust_id_int': [art_id_int, ...]}\n",
    "    # using 'data/val_week_purchases_by_cust.pkl'\n",
    "    apks = []\n",
    "    for c_id, preds in dict_of_preds.items():\n",
    "            gt = dict_of_gts[c_id]\n",
    "            apks.append(apk(gt, preds, k=15))    \n",
    "    return np.mean(apks)\n",
    "\n",
    "def eval_sub(sub_csv, skip_cust_with_no_purchases=True):\n",
    "    sub=pd.read_csv(sub_csv)\n",
    "    validation_set=pd.read_parquet('data/validation_ground_truth.parquet')\n",
    "\n",
    "    apks = []\n",
    "\n",
    "    no_purchases_pattern = []\n",
    "    for pred, gt in zip(sub.prediction.str.split(), validation_set.prediction.str.split()):\n",
    "        if skip_cust_with_no_purchases and (gt == no_purchases_pattern): continue\n",
    "        apks.append(apk(gt, pred, k=12))\n",
    "    return np.mean(apks)"
   ],
   "metadata": {
    "collapsed": false,
    "ExecuteTime": {
     "end_time": "2023-12-06T00:17:44.106724Z",
     "start_time": "2023-12-06T00:17:43.423665900Z"
    }
   }
  },
  {
   "cell_type": "code",
   "execution_count": 20,
   "outputs": [],
   "source": [
    "test_week = transactions.week.max() + 1\n",
    "transactions = transactions[transactions.week > transactions.week.max() - 10]"
   ],
   "metadata": {
    "collapsed": false,
    "ExecuteTime": {
     "end_time": "2023-12-06T00:17:44.109725400Z",
     "start_time": "2023-12-06T00:17:43.435779300Z"
    }
   }
  },
  {
   "cell_type": "markdown",
   "source": [
    "# Generating candidates"
   ],
   "metadata": {}
  },
  {
   "cell_type": "markdown",
   "source": [
    "### Last purchase candidates"
   ],
   "metadata": {}
  },
  {
   "cell_type": "code",
   "source": [
    "%%time\n",
    "\n",
    "c2weeks = transactions.groupby('customer_id')['week'].unique()"
   ],
   "metadata": {
    "execution": {
     "iopub.status.busy": "2022-04-16T15:44:14.483924Z",
     "iopub.execute_input": "2022-04-16T15:44:14.484297Z",
     "iopub.status.idle": "2022-04-16T15:44:32.713783Z",
     "shell.execute_reply.started": "2022-04-16T15:44:14.484254Z",
     "shell.execute_reply": "2022-04-16T15:44:32.712927Z"
    },
    "trusted": true,
    "ExecuteTime": {
     "end_time": "2023-12-06T00:18:02.507481700Z",
     "start_time": "2023-12-06T00:17:43.851549100Z"
    }
   },
   "execution_count": 21,
   "outputs": [
    {
     "name": "stdout",
     "output_type": "stream",
     "text": [
      "CPU times: total: 12.8 s\n",
      "Wall time: 18.6 s\n"
     ]
    }
   ]
  },
  {
   "cell_type": "code",
   "source": [
    "transactions.groupby('week')['t_dat'].agg(['min', 'max'])"
   ],
   "metadata": {
    "execution": {
     "iopub.status.busy": "2022-04-16T15:52:20.359059Z",
     "iopub.execute_input": "2022-04-16T15:52:20.359362Z",
     "iopub.status.idle": "2022-04-16T15:52:20.430004Z",
     "shell.execute_reply.started": "2022-04-16T15:52:20.359332Z",
     "shell.execute_reply": "2022-04-16T15:52:20.428905Z"
    },
    "trusted": true,
    "ExecuteTime": {
     "end_time": "2023-12-06T00:18:02.613178Z",
     "start_time": "2023-12-06T00:18:02.481791Z"
    }
   },
   "execution_count": 22,
   "outputs": [
    {
     "data": {
      "text/plain": "            min        max\nweek                      \n95   2020-07-15 2020-07-21\n96   2020-07-22 2020-07-28\n97   2020-07-29 2020-08-04\n98   2020-08-05 2020-08-11\n99   2020-08-12 2020-08-18\n100  2020-08-19 2020-08-25\n101  2020-08-26 2020-09-01\n102  2020-09-02 2020-09-08\n103  2020-09-09 2020-09-15\n104  2020-09-16 2020-09-22",
      "text/html": "<div>\n<style scoped>\n    .dataframe tbody tr th:only-of-type {\n        vertical-align: middle;\n    }\n\n    .dataframe tbody tr th {\n        vertical-align: top;\n    }\n\n    .dataframe thead th {\n        text-align: right;\n    }\n</style>\n<table border=\"1\" class=\"dataframe\">\n  <thead>\n    <tr style=\"text-align: right;\">\n      <th></th>\n      <th>min</th>\n      <th>max</th>\n    </tr>\n    <tr>\n      <th>week</th>\n      <th></th>\n      <th></th>\n    </tr>\n  </thead>\n  <tbody>\n    <tr>\n      <th>95</th>\n      <td>2020-07-15</td>\n      <td>2020-07-21</td>\n    </tr>\n    <tr>\n      <th>96</th>\n      <td>2020-07-22</td>\n      <td>2020-07-28</td>\n    </tr>\n    <tr>\n      <th>97</th>\n      <td>2020-07-29</td>\n      <td>2020-08-04</td>\n    </tr>\n    <tr>\n      <th>98</th>\n      <td>2020-08-05</td>\n      <td>2020-08-11</td>\n    </tr>\n    <tr>\n      <th>99</th>\n      <td>2020-08-12</td>\n      <td>2020-08-18</td>\n    </tr>\n    <tr>\n      <th>100</th>\n      <td>2020-08-19</td>\n      <td>2020-08-25</td>\n    </tr>\n    <tr>\n      <th>101</th>\n      <td>2020-08-26</td>\n      <td>2020-09-01</td>\n    </tr>\n    <tr>\n      <th>102</th>\n      <td>2020-09-02</td>\n      <td>2020-09-08</td>\n    </tr>\n    <tr>\n      <th>103</th>\n      <td>2020-09-09</td>\n      <td>2020-09-15</td>\n    </tr>\n    <tr>\n      <th>104</th>\n      <td>2020-09-16</td>\n      <td>2020-09-22</td>\n    </tr>\n  </tbody>\n</table>\n</div>"
     },
     "execution_count": 22,
     "metadata": {},
     "output_type": "execute_result"
    }
   ]
  },
  {
   "cell_type": "code",
   "source": [
    "c2weeks"
   ],
   "metadata": {
    "execution": {
     "iopub.status.busy": "2022-04-16T15:51:14.21265Z",
     "iopub.execute_input": "2022-04-16T15:51:14.213638Z",
     "iopub.status.idle": "2022-04-16T15:51:14.231518Z",
     "shell.execute_reply.started": "2022-04-16T15:51:14.213593Z",
     "shell.execute_reply": "2022-04-16T15:51:14.230546Z"
    },
    "trusted": true,
    "ExecuteTime": {
     "end_time": "2023-12-06T00:18:02.614633200Z",
     "start_time": "2023-12-06T00:18:02.588890Z"
    }
   },
   "execution_count": 23,
   "outputs": [
    {
     "data": {
      "text/plain": "customer_id\n28847241659200          [95, 96, 101, 102]\n41318098387474                        [98]\n116809474287335                 [101, 103]\n200292573348128          [95, 96, 99, 102]\n248294615847351                       [96]\n                               ...        \n18446624797007271432                  [95]\n18446630855572834764                 [103]\n18446662237889060501                 [100]\n18446705133201055310                 [102]\n18446737527580148316                 [104]\nName: week, Length: 437365, dtype: object"
     },
     "execution_count": 23,
     "metadata": {},
     "output_type": "execute_result"
    }
   ]
  },
  {
   "cell_type": "code",
   "source": [
    "%%time\n",
    "\n",
    "c2weeks2shifted_weeks = {}\n",
    "\n",
    "for c_id, weeks in c2weeks.items():\n",
    "    c2weeks2shifted_weeks[c_id] = {}\n",
    "    for i in range(weeks.shape[0]-1):\n",
    "        c2weeks2shifted_weeks[c_id][weeks[i]] = weeks[i+1]\n",
    "    c2weeks2shifted_weeks[c_id][weeks[-1]] = test_week"
   ],
   "metadata": {
    "execution": {
     "iopub.status.busy": "2022-04-16T15:52:37.190968Z",
     "iopub.execute_input": "2022-04-16T15:52:37.191281Z",
     "iopub.status.idle": "2022-04-16T15:52:38.270373Z",
     "shell.execute_reply.started": "2022-04-16T15:52:37.191249Z",
     "shell.execute_reply": "2022-04-16T15:52:38.269366Z"
    },
    "trusted": true,
    "ExecuteTime": {
     "end_time": "2023-12-06T00:18:03.212167500Z",
     "start_time": "2023-12-06T00:18:02.604032500Z"
    }
   },
   "execution_count": 24,
   "outputs": [
    {
     "name": "stdout",
     "output_type": "stream",
     "text": [
      "CPU times: total: 266 ms\n",
      "Wall time: 595 ms\n"
     ]
    }
   ]
  },
  {
   "cell_type": "code",
   "source": [
    "c2weeks2shifted_weeks[28847241659200]\n",
    "# todo ??"
   ],
   "metadata": {
    "execution": {
     "iopub.status.busy": "2022-04-16T15:53:57.883004Z",
     "iopub.execute_input": "2022-04-16T15:53:57.883327Z",
     "iopub.status.idle": "2022-04-16T15:53:57.890002Z",
     "shell.execute_reply.started": "2022-04-16T15:53:57.883291Z",
     "shell.execute_reply": "2022-04-16T15:53:57.888855Z"
    },
    "trusted": true,
    "ExecuteTime": {
     "end_time": "2023-12-06T00:18:03.270972200Z",
     "start_time": "2023-12-06T00:18:03.212167500Z"
    }
   },
   "execution_count": 25,
   "outputs": [
    {
     "data": {
      "text/plain": "{95: 96, 96: 101, 101: 102, 102: 105}"
     },
     "execution_count": 25,
     "metadata": {},
     "output_type": "execute_result"
    }
   ]
  },
  {
   "cell_type": "code",
   "source": [
    "candidates_last_purchase = transactions.copy()"
   ],
   "metadata": {
    "execution": {
     "iopub.status.busy": "2022-04-16T15:54:02.986364Z",
     "iopub.execute_input": "2022-04-16T15:54:02.986659Z",
     "iopub.status.idle": "2022-04-16T15:54:03.008647Z",
     "shell.execute_reply.started": "2022-04-16T15:54:02.986626Z",
     "shell.execute_reply": "2022-04-16T15:54:03.007375Z"
    },
    "trusted": true,
    "ExecuteTime": {
     "end_time": "2023-12-06T00:18:03.314847600Z",
     "start_time": "2023-12-06T00:18:03.228412900Z"
    }
   },
   "execution_count": 26,
   "outputs": []
  },
  {
   "cell_type": "code",
   "source": [
    "%%time\n",
    "\n",
    "weeks = []\n",
    "for i, (c_id, week) in enumerate(zip(transactions['customer_id'], transactions['week'])):\n",
    "    weeks.append(c2weeks2shifted_weeks[c_id][week])\n",
    "    \n",
    "candidates_last_purchase.week=weeks"
   ],
   "metadata": {
    "execution": {
     "iopub.status.busy": "2022-04-16T15:54:09.502111Z",
     "iopub.execute_input": "2022-04-16T15:54:09.502379Z",
     "iopub.status.idle": "2022-04-16T15:54:17.173729Z",
     "shell.execute_reply.started": "2022-04-16T15:54:09.502353Z",
     "shell.execute_reply": "2022-04-16T15:54:17.172748Z"
    },
    "trusted": true,
    "ExecuteTime": {
     "end_time": "2023-12-06T00:18:24.085098800Z",
     "start_time": "2023-12-06T00:18:03.258238900Z"
    }
   },
   "execution_count": 27,
   "outputs": [
    {
     "name": "stdout",
     "output_type": "stream",
     "text": [
      "CPU times: total: 15.8 s\n",
      "Wall time: 20.8 s\n"
     ]
    }
   ]
  },
  {
   "cell_type": "code",
   "source": [
    "candidates_last_purchase[candidates_last_purchase['customer_id']==272412481300040]"
   ],
   "metadata": {
    "execution": {
     "iopub.status.busy": "2022-04-16T15:56:44.758863Z",
     "iopub.execute_input": "2022-04-16T15:56:44.759734Z",
     "iopub.status.idle": "2022-04-16T15:56:44.842348Z",
     "shell.execute_reply.started": "2022-04-16T15:56:44.759688Z",
     "shell.execute_reply": "2022-04-16T15:56:44.841432Z"
    },
    "trusted": true,
    "ExecuteTime": {
     "end_time": "2023-12-06T00:18:24.207320200Z",
     "start_time": "2023-12-06T00:18:24.089512700Z"
    }
   },
   "execution_count": 28,
   "outputs": [
    {
     "data": {
      "text/plain": "              t_dat      customer_id  article_id     price  sales_channel_id  \\\n29030503 2020-07-15  272412481300040   778064028  0.008458                 1   \n29030504 2020-07-15  272412481300040   816592008  0.016932                 1   \n29030505 2020-07-15  272412481300040   621381021  0.033881                 1   \n29030506 2020-07-15  272412481300040   817477003  0.025407                 1   \n29030507 2020-07-15  272412481300040   899088002  0.025407                 1   \n29319533 2020-07-22  272412481300040   885077001  0.008458                 1   \n29410772 2020-07-24  272412481300040   850176003  0.029034                 2   \n29410773 2020-07-24  272412481300040   875803001  0.064559                 2   \n29410774 2020-07-24  272412481300040   892970003  0.020966                 2   \n29410775 2020-07-24  272412481300040   854619003  0.020966                 2   \n29531614 2020-07-27  272412481300040   900398001  0.030492                 2   \n29531615 2020-07-27  272412481300040   834179002  0.025407                 2   \n29531616 2020-07-27  272412481300040   875803001  0.067780                 2   \n31495014 2020-09-14  272412481300040   923460002  0.039932                 2   \n31495015 2020-09-14  272412481300040   922381001  0.039932                 2   \n31495016 2020-09-14  272412481300040   921906005  0.031949                 2   \n\n          week  \n29030503    96  \n29030504    96  \n29030505    96  \n29030506    96  \n29030507    96  \n29319533   103  \n29410772   103  \n29410773   103  \n29410774   103  \n29410775   103  \n29531614   103  \n29531615   103  \n29531616   103  \n31495014   105  \n31495015   105  \n31495016   105  ",
      "text/html": "<div>\n<style scoped>\n    .dataframe tbody tr th:only-of-type {\n        vertical-align: middle;\n    }\n\n    .dataframe tbody tr th {\n        vertical-align: top;\n    }\n\n    .dataframe thead th {\n        text-align: right;\n    }\n</style>\n<table border=\"1\" class=\"dataframe\">\n  <thead>\n    <tr style=\"text-align: right;\">\n      <th></th>\n      <th>t_dat</th>\n      <th>customer_id</th>\n      <th>article_id</th>\n      <th>price</th>\n      <th>sales_channel_id</th>\n      <th>week</th>\n    </tr>\n  </thead>\n  <tbody>\n    <tr>\n      <th>29030503</th>\n      <td>2020-07-15</td>\n      <td>272412481300040</td>\n      <td>778064028</td>\n      <td>0.008458</td>\n      <td>1</td>\n      <td>96</td>\n    </tr>\n    <tr>\n      <th>29030504</th>\n      <td>2020-07-15</td>\n      <td>272412481300040</td>\n      <td>816592008</td>\n      <td>0.016932</td>\n      <td>1</td>\n      <td>96</td>\n    </tr>\n    <tr>\n      <th>29030505</th>\n      <td>2020-07-15</td>\n      <td>272412481300040</td>\n      <td>621381021</td>\n      <td>0.033881</td>\n      <td>1</td>\n      <td>96</td>\n    </tr>\n    <tr>\n      <th>29030506</th>\n      <td>2020-07-15</td>\n      <td>272412481300040</td>\n      <td>817477003</td>\n      <td>0.025407</td>\n      <td>1</td>\n      <td>96</td>\n    </tr>\n    <tr>\n      <th>29030507</th>\n      <td>2020-07-15</td>\n      <td>272412481300040</td>\n      <td>899088002</td>\n      <td>0.025407</td>\n      <td>1</td>\n      <td>96</td>\n    </tr>\n    <tr>\n      <th>29319533</th>\n      <td>2020-07-22</td>\n      <td>272412481300040</td>\n      <td>885077001</td>\n      <td>0.008458</td>\n      <td>1</td>\n      <td>103</td>\n    </tr>\n    <tr>\n      <th>29410772</th>\n      <td>2020-07-24</td>\n      <td>272412481300040</td>\n      <td>850176003</td>\n      <td>0.029034</td>\n      <td>2</td>\n      <td>103</td>\n    </tr>\n    <tr>\n      <th>29410773</th>\n      <td>2020-07-24</td>\n      <td>272412481300040</td>\n      <td>875803001</td>\n      <td>0.064559</td>\n      <td>2</td>\n      <td>103</td>\n    </tr>\n    <tr>\n      <th>29410774</th>\n      <td>2020-07-24</td>\n      <td>272412481300040</td>\n      <td>892970003</td>\n      <td>0.020966</td>\n      <td>2</td>\n      <td>103</td>\n    </tr>\n    <tr>\n      <th>29410775</th>\n      <td>2020-07-24</td>\n      <td>272412481300040</td>\n      <td>854619003</td>\n      <td>0.020966</td>\n      <td>2</td>\n      <td>103</td>\n    </tr>\n    <tr>\n      <th>29531614</th>\n      <td>2020-07-27</td>\n      <td>272412481300040</td>\n      <td>900398001</td>\n      <td>0.030492</td>\n      <td>2</td>\n      <td>103</td>\n    </tr>\n    <tr>\n      <th>29531615</th>\n      <td>2020-07-27</td>\n      <td>272412481300040</td>\n      <td>834179002</td>\n      <td>0.025407</td>\n      <td>2</td>\n      <td>103</td>\n    </tr>\n    <tr>\n      <th>29531616</th>\n      <td>2020-07-27</td>\n      <td>272412481300040</td>\n      <td>875803001</td>\n      <td>0.067780</td>\n      <td>2</td>\n      <td>103</td>\n    </tr>\n    <tr>\n      <th>31495014</th>\n      <td>2020-09-14</td>\n      <td>272412481300040</td>\n      <td>923460002</td>\n      <td>0.039932</td>\n      <td>2</td>\n      <td>105</td>\n    </tr>\n    <tr>\n      <th>31495015</th>\n      <td>2020-09-14</td>\n      <td>272412481300040</td>\n      <td>922381001</td>\n      <td>0.039932</td>\n      <td>2</td>\n      <td>105</td>\n    </tr>\n    <tr>\n      <th>31495016</th>\n      <td>2020-09-14</td>\n      <td>272412481300040</td>\n      <td>921906005</td>\n      <td>0.031949</td>\n      <td>2</td>\n      <td>105</td>\n    </tr>\n  </tbody>\n</table>\n</div>"
     },
     "execution_count": 28,
     "metadata": {},
     "output_type": "execute_result"
    }
   ]
  },
  {
   "cell_type": "code",
   "source": [
    "# transactions[transactions['customer_id']==272412481300040]\n",
    "customers[customers['customer_id']==272412481300040]"
   ],
   "metadata": {
    "execution": {
     "iopub.status.busy": "2022-04-16T15:56:28.429248Z",
     "iopub.execute_input": "2022-04-16T15:56:28.430209Z",
     "iopub.status.idle": "2022-04-16T15:56:28.447782Z",
     "shell.execute_reply.started": "2022-04-16T15:56:28.430158Z",
     "shell.execute_reply": "2022-04-16T15:56:28.446947Z"
    },
    "trusted": true,
    "ExecuteTime": {
     "end_time": "2023-12-06T00:18:24.258737Z",
     "start_time": "2023-12-06T00:18:24.118595700Z"
    }
   },
   "execution_count": 29,
   "outputs": [
    {
     "data": {
      "text/plain": "            customer_id  FN  Active  club_member_status  \\\n137308  272412481300040   1       1                   0   \n\n        fashion_news_frequency  age  postal_code  \n137308                       1   48       333369  ",
      "text/html": "<div>\n<style scoped>\n    .dataframe tbody tr th:only-of-type {\n        vertical-align: middle;\n    }\n\n    .dataframe tbody tr th {\n        vertical-align: top;\n    }\n\n    .dataframe thead th {\n        text-align: right;\n    }\n</style>\n<table border=\"1\" class=\"dataframe\">\n  <thead>\n    <tr style=\"text-align: right;\">\n      <th></th>\n      <th>customer_id</th>\n      <th>FN</th>\n      <th>Active</th>\n      <th>club_member_status</th>\n      <th>fashion_news_frequency</th>\n      <th>age</th>\n      <th>postal_code</th>\n    </tr>\n  </thead>\n  <tbody>\n    <tr>\n      <th>137308</th>\n      <td>272412481300040</td>\n      <td>1</td>\n      <td>1</td>\n      <td>0</td>\n      <td>1</td>\n      <td>48</td>\n      <td>333369</td>\n    </tr>\n  </tbody>\n</table>\n</div>"
     },
     "execution_count": 29,
     "metadata": {},
     "output_type": "execute_result"
    }
   ]
  },
  {
   "cell_type": "markdown",
   "source": [
    "### Bestsellers candidates"
   ],
   "metadata": {}
  },
  {
   "cell_type": "code",
   "source": [
    "mean_price = transactions \\\n",
    "    .groupby(['week', 'article_id'])['price'].mean()"
   ],
   "metadata": {
    "execution": {
     "iopub.status.busy": "2022-04-16T15:57:17.65078Z",
     "iopub.execute_input": "2022-04-16T15:57:17.651075Z",
     "iopub.status.idle": "2022-04-16T15:57:17.917777Z",
     "shell.execute_reply.started": "2022-04-16T15:57:17.651046Z",
     "shell.execute_reply": "2022-04-16T15:57:17.916726Z"
    },
    "trusted": true,
    "ExecuteTime": {
     "end_time": "2023-12-06T00:18:24.658555800Z",
     "start_time": "2023-12-06T00:18:24.133585600Z"
    }
   },
   "execution_count": 30,
   "outputs": []
  },
  {
   "cell_type": "code",
   "source": [
    "mean_price"
   ],
   "metadata": {
    "execution": {
     "iopub.status.busy": "2022-04-16T15:57:22.071051Z",
     "iopub.execute_input": "2022-04-16T15:57:22.071336Z",
     "iopub.status.idle": "2022-04-16T15:57:22.081278Z",
     "shell.execute_reply.started": "2022-04-16T15:57:22.071307Z",
     "shell.execute_reply": "2022-04-16T15:57:22.080255Z"
    },
    "trusted": true,
    "ExecuteTime": {
     "end_time": "2023-12-06T00:18:24.804224200Z",
     "start_time": "2023-12-06T00:18:24.458316700Z"
    }
   },
   "execution_count": 31,
   "outputs": [
    {
     "data": {
      "text/plain": "week  article_id\n95    108775015     0.004729\n      108775044     0.008458\n      110065001     0.006085\n      110065002     0.006085\n      111565001     0.004288\n                      ...   \n104   952267001     0.013732\n      952938001     0.048651\n      953450001     0.016932\n      953763001     0.021885\n      956217002     0.059068\nName: price, Length: 196880, dtype: float32"
     },
     "execution_count": 31,
     "metadata": {},
     "output_type": "execute_result"
    }
   ]
  },
  {
   "cell_type": "code",
   "source": [
    "sales = transactions \\\n",
    "    .groupby('week')['article_id'].value_counts() \\\n",
    "    .groupby('week').rank(method='dense', ascending=False) \\\n",
    "    .groupby('week').head(12).rename('bestseller_rank').astype('int8')"
   ],
   "metadata": {
    "execution": {
     "iopub.status.busy": "2022-04-16T16:02:22.824751Z",
     "iopub.execute_input": "2022-04-16T16:02:22.825182Z",
     "iopub.status.idle": "2022-04-16T16:02:23.799128Z",
     "shell.execute_reply.started": "2022-04-16T16:02:22.825151Z",
     "shell.execute_reply": "2022-04-16T16:02:23.798311Z"
    },
    "trusted": true,
    "ExecuteTime": {
     "end_time": "2023-12-06T00:18:25.014454Z",
     "start_time": "2023-12-06T00:18:24.476060Z"
    }
   },
   "execution_count": 32,
   "outputs": []
  },
  {
   "cell_type": "code",
   "execution_count": 33,
   "outputs": [
    {
     "data": {
      "text/plain": "article_id\n746586002     1.0\n703366001     1.0\n889974002     1.0\n889901002     1.0\n889844001     1.0\n             ... \n792517001    10.0\n792515001    10.0\n792507001    10.0\n792490002    10.0\n805370003    10.0\nName: recency_rank, Length: 38331, dtype: float64"
     },
     "execution_count": 33,
     "metadata": {},
     "output_type": "execute_result"
    }
   ],
   "source": [
    "\"\"\" query to get most recent items:\n",
    "    select article_id, min(week) as week, rank() over (partition by article_id order by week desc) as recency_rank\n",
    "    from transactions \n",
    "    group by article_id\n",
    "    order by week desc    \n",
    "\"\"\"\n",
    "# query implemented in code\n",
    "recency = transactions \\\n",
    "    .groupby('article_id')['week'].min()\\\n",
    "    .sort_values(ascending=False).rename('recency_rank').astype('int8')\\\n",
    "    .rank(method='dense', ascending=False) \\\n",
    "    # .groupby('recency_week').head(12).rename('recency_rank').astype('int8')\n",
    "    \n",
    "\n",
    "recency\n",
    "\n"
   ],
   "metadata": {
    "collapsed": false,
    "ExecuteTime": {
     "end_time": "2023-12-06T00:18:25.167166200Z",
     "start_time": "2023-12-06T00:18:24.786186200Z"
    }
   }
  },
  {
   "cell_type": "code",
   "execution_count": 34,
   "outputs": [
    {
     "data": {
      "text/plain": "            mean_price  min_price  max_price  std_price\narticle_id                                             \n108775015     0.003842   0.002068   0.005068   0.001573\n108775044     0.008076   0.003373   0.008458   0.001120\n110065001     0.006424   0.006085   0.006763   0.000479\n110065002     0.005860   0.005186   0.006085   0.000449\n110065011     0.009305   0.006763   0.011847   0.003595\n...                ...        ...        ...        ...\n952267001     0.014982   0.010153   0.016932   0.002385\n952938001     0.048006   0.040661   0.050831   0.004300\n953450001     0.016836   0.015305   0.016932   0.000395\n953763001     0.021908   0.021169   0.022017   0.000251\n956217002     0.059152   0.057407   0.059305   0.000493\n\n[38331 rows x 4 columns]",
      "text/html": "<div>\n<style scoped>\n    .dataframe tbody tr th:only-of-type {\n        vertical-align: middle;\n    }\n\n    .dataframe tbody tr th {\n        vertical-align: top;\n    }\n\n    .dataframe thead th {\n        text-align: right;\n    }\n</style>\n<table border=\"1\" class=\"dataframe\">\n  <thead>\n    <tr style=\"text-align: right;\">\n      <th></th>\n      <th>mean_price</th>\n      <th>min_price</th>\n      <th>max_price</th>\n      <th>std_price</th>\n    </tr>\n    <tr>\n      <th>article_id</th>\n      <th></th>\n      <th></th>\n      <th></th>\n      <th></th>\n    </tr>\n  </thead>\n  <tbody>\n    <tr>\n      <th>108775015</th>\n      <td>0.003842</td>\n      <td>0.002068</td>\n      <td>0.005068</td>\n      <td>0.001573</td>\n    </tr>\n    <tr>\n      <th>108775044</th>\n      <td>0.008076</td>\n      <td>0.003373</td>\n      <td>0.008458</td>\n      <td>0.001120</td>\n    </tr>\n    <tr>\n      <th>110065001</th>\n      <td>0.006424</td>\n      <td>0.006085</td>\n      <td>0.006763</td>\n      <td>0.000479</td>\n    </tr>\n    <tr>\n      <th>110065002</th>\n      <td>0.005860</td>\n      <td>0.005186</td>\n      <td>0.006085</td>\n      <td>0.000449</td>\n    </tr>\n    <tr>\n      <th>110065011</th>\n      <td>0.009305</td>\n      <td>0.006763</td>\n      <td>0.011847</td>\n      <td>0.003595</td>\n    </tr>\n    <tr>\n      <th>...</th>\n      <td>...</td>\n      <td>...</td>\n      <td>...</td>\n      <td>...</td>\n    </tr>\n    <tr>\n      <th>952267001</th>\n      <td>0.014982</td>\n      <td>0.010153</td>\n      <td>0.016932</td>\n      <td>0.002385</td>\n    </tr>\n    <tr>\n      <th>952938001</th>\n      <td>0.048006</td>\n      <td>0.040661</td>\n      <td>0.050831</td>\n      <td>0.004300</td>\n    </tr>\n    <tr>\n      <th>953450001</th>\n      <td>0.016836</td>\n      <td>0.015305</td>\n      <td>0.016932</td>\n      <td>0.000395</td>\n    </tr>\n    <tr>\n      <th>953763001</th>\n      <td>0.021908</td>\n      <td>0.021169</td>\n      <td>0.022017</td>\n      <td>0.000251</td>\n    </tr>\n    <tr>\n      <th>956217002</th>\n      <td>0.059152</td>\n      <td>0.057407</td>\n      <td>0.059305</td>\n      <td>0.000493</td>\n    </tr>\n  </tbody>\n</table>\n<p>38331 rows × 4 columns</p>\n</div>"
     },
     "execution_count": 34,
     "metadata": {},
     "output_type": "execute_result"
    }
   ],
   "source": [
    "# add a column with mean_price, min_price, max_price, std_price for each article_id\n",
    "mean_price_by_article =  transactions \\\n",
    "    .groupby(['article_id'])['price'].mean().rename('mean_price')\n",
    "min_price_by_article =  transactions \\\n",
    "    .groupby(['article_id'])['price'].min().rename('min_price')\n",
    "max_price_by_article =  transactions \\\n",
    "    .groupby(['article_id'])['price'].max().rename('max_price')\n",
    "std_price_by_article =  transactions \\\n",
    "    .groupby(['article_id'])['price'].std().rename('std_price')\n",
    "# merge\n",
    "price_statistics = pd.merge(mean_price_by_article, min_price_by_article, on=['article_id']).merge(max_price_by_article, on=['article_id']).merge(std_price_by_article, on=['article_id'])\n",
    "price_statistics\n",
    "\n"
   ],
   "metadata": {
    "collapsed": false,
    "ExecuteTime": {
     "end_time": "2023-12-06T00:18:25.603755900Z",
     "start_time": "2023-12-06T00:18:24.898361300Z"
    }
   }
  },
  {
   "cell_type": "code",
   "source": [
    "sales"
   ],
   "metadata": {
    "execution": {
     "iopub.status.busy": "2022-04-16T16:46:11.472531Z",
     "iopub.execute_input": "2022-04-16T16:46:11.47305Z",
     "iopub.status.idle": "2022-04-16T16:46:11.48196Z",
     "shell.execute_reply.started": "2022-04-16T16:46:11.473006Z",
     "shell.execute_reply": "2022-04-16T16:46:11.481241Z"
    },
    "trusted": true,
    "ExecuteTime": {
     "end_time": "2023-12-06T00:18:25.606141700Z",
     "start_time": "2023-12-06T00:18:25.432466600Z"
    }
   },
   "execution_count": 35,
   "outputs": [
    {
     "data": {
      "text/plain": "week  article_id\n95    760084003      1\n      866731001      2\n      600886001      3\n      706016001      4\n      372860002      5\n                    ..\n104   915529003      8\n      915529005      9\n      448509014     10\n      762846027     11\n      714790020     12\nName: bestseller_rank, Length: 120, dtype: int8"
     },
     "execution_count": 35,
     "metadata": {},
     "output_type": "execute_result"
    }
   ]
  },
  {
   "cell_type": "code",
   "source": [
    "sales.loc[95]"
   ],
   "metadata": {
    "execution": {
     "iopub.status.busy": "2022-04-16T16:46:02.076763Z",
     "iopub.execute_input": "2022-04-16T16:46:02.077101Z",
     "iopub.status.idle": "2022-04-16T16:46:02.086767Z",
     "shell.execute_reply.started": "2022-04-16T16:46:02.077066Z",
     "shell.execute_reply": "2022-04-16T16:46:02.086Z"
    },
    "trusted": true,
    "ExecuteTime": {
     "end_time": "2023-12-06T00:18:25.606141700Z",
     "start_time": "2023-12-06T00:18:25.433668600Z"
    }
   },
   "execution_count": 36,
   "outputs": [
    {
     "data": {
      "text/plain": "article_id\n760084003     1\n866731001     2\n600886001     3\n706016001     4\n372860002     5\n610776002     6\n877278002     7\n547780003     8\n817354001     9\n827968001    10\n866731003    11\n866383006    12\nName: bestseller_rank, dtype: int8"
     },
     "execution_count": 36,
     "metadata": {},
     "output_type": "execute_result"
    }
   ]
  },
  {
   "cell_type": "code",
   "source": [
    "bestsellers_previous_week = pd.merge(sales, mean_price, on=['week', 'article_id']).reset_index()\n",
    "bestsellers_previous_week.week += 1"
   ],
   "metadata": {
    "execution": {
     "iopub.status.busy": "2022-04-16T16:46:24.315491Z",
     "iopub.execute_input": "2022-04-16T16:46:24.316099Z",
     "iopub.status.idle": "2022-04-16T16:46:24.370425Z",
     "shell.execute_reply.started": "2022-04-16T16:46:24.31606Z",
     "shell.execute_reply": "2022-04-16T16:46:24.369607Z"
    },
    "trusted": true,
    "ExecuteTime": {
     "end_time": "2023-12-06T00:18:25.607406600Z",
     "start_time": "2023-12-06T00:18:25.497335600Z"
    }
   },
   "execution_count": 37,
   "outputs": []
  },
  {
   "cell_type": "code",
   "source": [
    "bestsellers_previous_week.pipe(lambda df: df[df['week']==96])"
   ],
   "metadata": {
    "execution": {
     "iopub.status.busy": "2022-04-16T16:51:04.064135Z",
     "iopub.execute_input": "2022-04-16T16:51:04.065012Z",
     "iopub.status.idle": "2022-04-16T16:51:04.077812Z",
     "shell.execute_reply.started": "2022-04-16T16:51:04.064965Z",
     "shell.execute_reply": "2022-04-16T16:51:04.077199Z"
    },
    "trusted": true,
    "ExecuteTime": {
     "end_time": "2023-12-06T00:18:25.607406600Z",
     "start_time": "2023-12-06T00:18:25.515768100Z"
    }
   },
   "execution_count": 38,
   "outputs": [
    {
     "data": {
      "text/plain": "    week  article_id  bestseller_rank     price\n0     96   760084003                1  0.025094\n1     96   866731001                2  0.024919\n2     96   600886001                3  0.022980\n3     96   706016001                4  0.033197\n4     96   372860002                5  0.013193\n5     96   610776002                6  0.008318\n6     96   877278002                7  0.025036\n7     96   547780003                8  0.024814\n8     96   817354001                9  0.021913\n9     96   827968001               10  0.016436\n10    96   866731003               11  0.024893\n11    96   866383006               12  0.023195",
      "text/html": "<div>\n<style scoped>\n    .dataframe tbody tr th:only-of-type {\n        vertical-align: middle;\n    }\n\n    .dataframe tbody tr th {\n        vertical-align: top;\n    }\n\n    .dataframe thead th {\n        text-align: right;\n    }\n</style>\n<table border=\"1\" class=\"dataframe\">\n  <thead>\n    <tr style=\"text-align: right;\">\n      <th></th>\n      <th>week</th>\n      <th>article_id</th>\n      <th>bestseller_rank</th>\n      <th>price</th>\n    </tr>\n  </thead>\n  <tbody>\n    <tr>\n      <th>0</th>\n      <td>96</td>\n      <td>760084003</td>\n      <td>1</td>\n      <td>0.025094</td>\n    </tr>\n    <tr>\n      <th>1</th>\n      <td>96</td>\n      <td>866731001</td>\n      <td>2</td>\n      <td>0.024919</td>\n    </tr>\n    <tr>\n      <th>2</th>\n      <td>96</td>\n      <td>600886001</td>\n      <td>3</td>\n      <td>0.022980</td>\n    </tr>\n    <tr>\n      <th>3</th>\n      <td>96</td>\n      <td>706016001</td>\n      <td>4</td>\n      <td>0.033197</td>\n    </tr>\n    <tr>\n      <th>4</th>\n      <td>96</td>\n      <td>372860002</td>\n      <td>5</td>\n      <td>0.013193</td>\n    </tr>\n    <tr>\n      <th>5</th>\n      <td>96</td>\n      <td>610776002</td>\n      <td>6</td>\n      <td>0.008318</td>\n    </tr>\n    <tr>\n      <th>6</th>\n      <td>96</td>\n      <td>877278002</td>\n      <td>7</td>\n      <td>0.025036</td>\n    </tr>\n    <tr>\n      <th>7</th>\n      <td>96</td>\n      <td>547780003</td>\n      <td>8</td>\n      <td>0.024814</td>\n    </tr>\n    <tr>\n      <th>8</th>\n      <td>96</td>\n      <td>817354001</td>\n      <td>9</td>\n      <td>0.021913</td>\n    </tr>\n    <tr>\n      <th>9</th>\n      <td>96</td>\n      <td>827968001</td>\n      <td>10</td>\n      <td>0.016436</td>\n    </tr>\n    <tr>\n      <th>10</th>\n      <td>96</td>\n      <td>866731003</td>\n      <td>11</td>\n      <td>0.024893</td>\n    </tr>\n    <tr>\n      <th>11</th>\n      <td>96</td>\n      <td>866383006</td>\n      <td>12</td>\n      <td>0.023195</td>\n    </tr>\n  </tbody>\n</table>\n</div>"
     },
     "execution_count": 38,
     "metadata": {},
     "output_type": "execute_result"
    }
   ]
  },
  {
   "cell_type": "code",
   "source": [
    "unique_transactions = transactions \\\n",
    "    .groupby(['week', 'customer_id']) \\\n",
    "    .head(1) \\\n",
    "    .drop(columns=['article_id', 'price']) \\\n",
    "    .copy()"
   ],
   "metadata": {
    "execution": {
     "iopub.status.busy": "2022-04-16T16:51:34.885365Z",
     "iopub.execute_input": "2022-04-16T16:51:34.88602Z",
     "iopub.status.idle": "2022-04-16T16:51:35.522916Z",
     "shell.execute_reply.started": "2022-04-16T16:51:34.88598Z",
     "shell.execute_reply": "2022-04-16T16:51:35.521903Z"
    },
    "trusted": true,
    "ExecuteTime": {
     "end_time": "2023-12-06T00:18:26.309256500Z",
     "start_time": "2023-12-06T00:18:25.531281700Z"
    }
   },
   "execution_count": 39,
   "outputs": []
  },
  {
   "cell_type": "code",
   "source": [
    "unique_transactions"
   ],
   "metadata": {
    "execution": {
     "iopub.status.busy": "2022-04-16T16:51:41.276191Z",
     "iopub.execute_input": "2022-04-16T16:51:41.276486Z",
     "iopub.status.idle": "2022-04-16T16:51:41.290998Z",
     "shell.execute_reply.started": "2022-04-16T16:51:41.276452Z",
     "shell.execute_reply": "2022-04-16T16:51:41.290002Z"
    },
    "trusted": true,
    "ExecuteTime": {
     "end_time": "2023-12-06T00:18:26.310266900Z",
     "start_time": "2023-12-06T00:18:26.231240300Z"
    }
   },
   "execution_count": 40,
   "outputs": [
    {
     "data": {
      "text/plain": "              t_dat           customer_id  sales_channel_id  week\n29030503 2020-07-15       272412481300040                 1    95\n29064059 2020-07-15      1456826891333599                 1    95\n29067103 2020-07-15      2133687643102426                 2    95\n29027487 2020-07-15      6010692573790711                 1    95\n29046403 2020-07-15      6171059100114610                 2    95\n...             ...                   ...               ...   ...\n31760188 2020-09-22  18435221511488011015                 1   104\n31782234 2020-09-22  18436859303155335645                 1   104\n31787251 2020-09-22  18437941771381362708                 2   104\n31776022 2020-09-22  18438270306572912089                 1   104\n31779097 2020-09-22  18440902715633436014                 1   104\n\n[755710 rows x 4 columns]",
      "text/html": "<div>\n<style scoped>\n    .dataframe tbody tr th:only-of-type {\n        vertical-align: middle;\n    }\n\n    .dataframe tbody tr th {\n        vertical-align: top;\n    }\n\n    .dataframe thead th {\n        text-align: right;\n    }\n</style>\n<table border=\"1\" class=\"dataframe\">\n  <thead>\n    <tr style=\"text-align: right;\">\n      <th></th>\n      <th>t_dat</th>\n      <th>customer_id</th>\n      <th>sales_channel_id</th>\n      <th>week</th>\n    </tr>\n  </thead>\n  <tbody>\n    <tr>\n      <th>29030503</th>\n      <td>2020-07-15</td>\n      <td>272412481300040</td>\n      <td>1</td>\n      <td>95</td>\n    </tr>\n    <tr>\n      <th>29064059</th>\n      <td>2020-07-15</td>\n      <td>1456826891333599</td>\n      <td>1</td>\n      <td>95</td>\n    </tr>\n    <tr>\n      <th>29067103</th>\n      <td>2020-07-15</td>\n      <td>2133687643102426</td>\n      <td>2</td>\n      <td>95</td>\n    </tr>\n    <tr>\n      <th>29027487</th>\n      <td>2020-07-15</td>\n      <td>6010692573790711</td>\n      <td>1</td>\n      <td>95</td>\n    </tr>\n    <tr>\n      <th>29046403</th>\n      <td>2020-07-15</td>\n      <td>6171059100114610</td>\n      <td>2</td>\n      <td>95</td>\n    </tr>\n    <tr>\n      <th>...</th>\n      <td>...</td>\n      <td>...</td>\n      <td>...</td>\n      <td>...</td>\n    </tr>\n    <tr>\n      <th>31760188</th>\n      <td>2020-09-22</td>\n      <td>18435221511488011015</td>\n      <td>1</td>\n      <td>104</td>\n    </tr>\n    <tr>\n      <th>31782234</th>\n      <td>2020-09-22</td>\n      <td>18436859303155335645</td>\n      <td>1</td>\n      <td>104</td>\n    </tr>\n    <tr>\n      <th>31787251</th>\n      <td>2020-09-22</td>\n      <td>18437941771381362708</td>\n      <td>2</td>\n      <td>104</td>\n    </tr>\n    <tr>\n      <th>31776022</th>\n      <td>2020-09-22</td>\n      <td>18438270306572912089</td>\n      <td>1</td>\n      <td>104</td>\n    </tr>\n    <tr>\n      <th>31779097</th>\n      <td>2020-09-22</td>\n      <td>18440902715633436014</td>\n      <td>1</td>\n      <td>104</td>\n    </tr>\n  </tbody>\n</table>\n<p>755710 rows × 4 columns</p>\n</div>"
     },
     "execution_count": 40,
     "metadata": {},
     "output_type": "execute_result"
    }
   ]
  },
  {
   "cell_type": "code",
   "source": [
    "transactions.drop_duplicates(['week', 'customer_id'])"
   ],
   "metadata": {
    "execution": {
     "iopub.status.busy": "2022-04-16T16:53:57.806973Z",
     "iopub.execute_input": "2022-04-16T16:53:57.807309Z",
     "iopub.status.idle": "2022-04-16T16:53:58.097008Z",
     "shell.execute_reply.started": "2022-04-16T16:53:57.807278Z",
     "shell.execute_reply": "2022-04-16T16:53:58.095874Z"
    },
    "trusted": true,
    "ExecuteTime": {
     "end_time": "2023-12-06T00:18:26.773516200Z",
     "start_time": "2023-12-06T00:18:26.246432300Z"
    }
   },
   "execution_count": 41,
   "outputs": [
    {
     "data": {
      "text/plain": "              t_dat           customer_id  article_id     price  \\\n29030503 2020-07-15       272412481300040   778064028  0.008458   \n29064059 2020-07-15      1456826891333599   888294001  0.013542   \n29067103 2020-07-15      2133687643102426   843642001  0.042356   \n29027487 2020-07-15      6010692573790711   857812010  0.039661   \n29046403 2020-07-15      6171059100114610   815447007  0.006763   \n...             ...                   ...         ...       ...   \n31760188 2020-09-22  18435221511488011015   573085055  0.033881   \n31782234 2020-09-22  18436859303155335645   801447001  0.030492   \n31787251 2020-09-22  18437941771381362708   907188001  0.050831   \n31776022 2020-09-22  18438270306572912089   751471043  0.033881   \n31779097 2020-09-22  18440902715633436014   918894002  0.016932   \n\n          sales_channel_id  week  \n29030503                 1    95  \n29064059                 1    95  \n29067103                 2    95  \n29027487                 1    95  \n29046403                 2    95  \n...                    ...   ...  \n31760188                 1   104  \n31782234                 1   104  \n31787251                 2   104  \n31776022                 1   104  \n31779097                 1   104  \n\n[755710 rows x 6 columns]",
      "text/html": "<div>\n<style scoped>\n    .dataframe tbody tr th:only-of-type {\n        vertical-align: middle;\n    }\n\n    .dataframe tbody tr th {\n        vertical-align: top;\n    }\n\n    .dataframe thead th {\n        text-align: right;\n    }\n</style>\n<table border=\"1\" class=\"dataframe\">\n  <thead>\n    <tr style=\"text-align: right;\">\n      <th></th>\n      <th>t_dat</th>\n      <th>customer_id</th>\n      <th>article_id</th>\n      <th>price</th>\n      <th>sales_channel_id</th>\n      <th>week</th>\n    </tr>\n  </thead>\n  <tbody>\n    <tr>\n      <th>29030503</th>\n      <td>2020-07-15</td>\n      <td>272412481300040</td>\n      <td>778064028</td>\n      <td>0.008458</td>\n      <td>1</td>\n      <td>95</td>\n    </tr>\n    <tr>\n      <th>29064059</th>\n      <td>2020-07-15</td>\n      <td>1456826891333599</td>\n      <td>888294001</td>\n      <td>0.013542</td>\n      <td>1</td>\n      <td>95</td>\n    </tr>\n    <tr>\n      <th>29067103</th>\n      <td>2020-07-15</td>\n      <td>2133687643102426</td>\n      <td>843642001</td>\n      <td>0.042356</td>\n      <td>2</td>\n      <td>95</td>\n    </tr>\n    <tr>\n      <th>29027487</th>\n      <td>2020-07-15</td>\n      <td>6010692573790711</td>\n      <td>857812010</td>\n      <td>0.039661</td>\n      <td>1</td>\n      <td>95</td>\n    </tr>\n    <tr>\n      <th>29046403</th>\n      <td>2020-07-15</td>\n      <td>6171059100114610</td>\n      <td>815447007</td>\n      <td>0.006763</td>\n      <td>2</td>\n      <td>95</td>\n    </tr>\n    <tr>\n      <th>...</th>\n      <td>...</td>\n      <td>...</td>\n      <td>...</td>\n      <td>...</td>\n      <td>...</td>\n      <td>...</td>\n    </tr>\n    <tr>\n      <th>31760188</th>\n      <td>2020-09-22</td>\n      <td>18435221511488011015</td>\n      <td>573085055</td>\n      <td>0.033881</td>\n      <td>1</td>\n      <td>104</td>\n    </tr>\n    <tr>\n      <th>31782234</th>\n      <td>2020-09-22</td>\n      <td>18436859303155335645</td>\n      <td>801447001</td>\n      <td>0.030492</td>\n      <td>1</td>\n      <td>104</td>\n    </tr>\n    <tr>\n      <th>31787251</th>\n      <td>2020-09-22</td>\n      <td>18437941771381362708</td>\n      <td>907188001</td>\n      <td>0.050831</td>\n      <td>2</td>\n      <td>104</td>\n    </tr>\n    <tr>\n      <th>31776022</th>\n      <td>2020-09-22</td>\n      <td>18438270306572912089</td>\n      <td>751471043</td>\n      <td>0.033881</td>\n      <td>1</td>\n      <td>104</td>\n    </tr>\n    <tr>\n      <th>31779097</th>\n      <td>2020-09-22</td>\n      <td>18440902715633436014</td>\n      <td>918894002</td>\n      <td>0.016932</td>\n      <td>1</td>\n      <td>104</td>\n    </tr>\n  </tbody>\n</table>\n<p>755710 rows × 6 columns</p>\n</div>"
     },
     "execution_count": 41,
     "metadata": {},
     "output_type": "execute_result"
    }
   ]
  },
  {
   "cell_type": "code",
   "source": [
    "candidates_bestsellers = pd.merge(\n",
    "    unique_transactions,\n",
    "    bestsellers_previous_week,\n",
    "    on='week',\n",
    ")"
   ],
   "metadata": {
    "execution": {
     "iopub.status.busy": "2022-04-16T16:54:53.227772Z",
     "iopub.execute_input": "2022-04-16T16:54:53.228505Z",
     "iopub.status.idle": "2022-04-16T16:54:54.190001Z",
     "shell.execute_reply.started": "2022-04-16T16:54:53.228453Z",
     "shell.execute_reply": "2022-04-16T16:54:54.188749Z"
    },
    "trusted": true,
    "ExecuteTime": {
     "end_time": "2023-12-06T00:18:27.278393100Z",
     "start_time": "2023-12-06T00:18:26.578887200Z"
    }
   },
   "execution_count": 42,
   "outputs": []
  },
  {
   "cell_type": "code",
   "source": [
    "test_set_transactions = unique_transactions.drop_duplicates('customer_id').reset_index(drop=True)\n",
    "test_set_transactions.week = test_week"
   ],
   "metadata": {
    "execution": {
     "iopub.status.busy": "2022-04-16T16:55:38.06378Z",
     "iopub.execute_input": "2022-04-16T16:55:38.064413Z",
     "iopub.status.idle": "2022-04-16T16:55:38.168415Z",
     "shell.execute_reply.started": "2022-04-16T16:55:38.064363Z",
     "shell.execute_reply": "2022-04-16T16:55:38.167458Z"
    },
    "trusted": true,
    "ExecuteTime": {
     "end_time": "2023-12-06T00:18:27.281220200Z",
     "start_time": "2023-12-06T00:18:27.021633200Z"
    }
   },
   "execution_count": 43,
   "outputs": []
  },
  {
   "cell_type": "code",
   "source": [
    "test_set_transactions"
   ],
   "metadata": {
    "execution": {
     "iopub.status.busy": "2022-04-16T16:55:45.01963Z",
     "iopub.execute_input": "2022-04-16T16:55:45.020084Z",
     "iopub.status.idle": "2022-04-16T16:55:45.037194Z",
     "shell.execute_reply.started": "2022-04-16T16:55:45.020041Z",
     "shell.execute_reply": "2022-04-16T16:55:45.036123Z"
    },
    "trusted": true,
    "ExecuteTime": {
     "end_time": "2023-12-06T00:18:27.584537400Z",
     "start_time": "2023-12-06T00:18:27.098516200Z"
    }
   },
   "execution_count": 44,
   "outputs": [
    {
     "data": {
      "text/plain": "            t_dat           customer_id  sales_channel_id  week\n0      2020-07-15       272412481300040                 1   105\n1      2020-07-15      1456826891333599                 1   105\n2      2020-07-15      2133687643102426                 2   105\n3      2020-07-15      6010692573790711                 1   105\n4      2020-07-15      6171059100114610                 2   105\n...           ...                   ...               ...   ...\n437360 2020-09-22  18410229429441241008                 2   105\n437361 2020-09-22  18417769707947924979                 2   105\n437362 2020-09-22  18418054986721795659                 2   105\n437363 2020-09-22  18421175435799911749                 2   105\n437364 2020-09-22  18438270306572912089                 1   105\n\n[437365 rows x 4 columns]",
      "text/html": "<div>\n<style scoped>\n    .dataframe tbody tr th:only-of-type {\n        vertical-align: middle;\n    }\n\n    .dataframe tbody tr th {\n        vertical-align: top;\n    }\n\n    .dataframe thead th {\n        text-align: right;\n    }\n</style>\n<table border=\"1\" class=\"dataframe\">\n  <thead>\n    <tr style=\"text-align: right;\">\n      <th></th>\n      <th>t_dat</th>\n      <th>customer_id</th>\n      <th>sales_channel_id</th>\n      <th>week</th>\n    </tr>\n  </thead>\n  <tbody>\n    <tr>\n      <th>0</th>\n      <td>2020-07-15</td>\n      <td>272412481300040</td>\n      <td>1</td>\n      <td>105</td>\n    </tr>\n    <tr>\n      <th>1</th>\n      <td>2020-07-15</td>\n      <td>1456826891333599</td>\n      <td>1</td>\n      <td>105</td>\n    </tr>\n    <tr>\n      <th>2</th>\n      <td>2020-07-15</td>\n      <td>2133687643102426</td>\n      <td>2</td>\n      <td>105</td>\n    </tr>\n    <tr>\n      <th>3</th>\n      <td>2020-07-15</td>\n      <td>6010692573790711</td>\n      <td>1</td>\n      <td>105</td>\n    </tr>\n    <tr>\n      <th>4</th>\n      <td>2020-07-15</td>\n      <td>6171059100114610</td>\n      <td>2</td>\n      <td>105</td>\n    </tr>\n    <tr>\n      <th>...</th>\n      <td>...</td>\n      <td>...</td>\n      <td>...</td>\n      <td>...</td>\n    </tr>\n    <tr>\n      <th>437360</th>\n      <td>2020-09-22</td>\n      <td>18410229429441241008</td>\n      <td>2</td>\n      <td>105</td>\n    </tr>\n    <tr>\n      <th>437361</th>\n      <td>2020-09-22</td>\n      <td>18417769707947924979</td>\n      <td>2</td>\n      <td>105</td>\n    </tr>\n    <tr>\n      <th>437362</th>\n      <td>2020-09-22</td>\n      <td>18418054986721795659</td>\n      <td>2</td>\n      <td>105</td>\n    </tr>\n    <tr>\n      <th>437363</th>\n      <td>2020-09-22</td>\n      <td>18421175435799911749</td>\n      <td>2</td>\n      <td>105</td>\n    </tr>\n    <tr>\n      <th>437364</th>\n      <td>2020-09-22</td>\n      <td>18438270306572912089</td>\n      <td>1</td>\n      <td>105</td>\n    </tr>\n  </tbody>\n</table>\n<p>437365 rows × 4 columns</p>\n</div>"
     },
     "execution_count": 44,
     "metadata": {},
     "output_type": "execute_result"
    }
   ]
  },
  {
   "cell_type": "code",
   "source": [
    "candidates_bestsellers_test_week = pd.merge(\n",
    "    test_set_transactions,\n",
    "    bestsellers_previous_week,\n",
    "    on='week'\n",
    ")"
   ],
   "metadata": {
    "execution": {
     "iopub.status.busy": "2022-04-16T16:55:58.92166Z",
     "iopub.execute_input": "2022-04-16T16:55:58.921976Z",
     "iopub.status.idle": "2022-04-16T16:55:59.465925Z",
     "shell.execute_reply.started": "2022-04-16T16:55:58.921943Z",
     "shell.execute_reply": "2022-04-16T16:55:59.46506Z"
    },
    "trusted": true,
    "ExecuteTime": {
     "end_time": "2023-12-06T00:18:28.010703900Z",
     "start_time": "2023-12-06T00:18:27.112703500Z"
    }
   },
   "execution_count": 45,
   "outputs": []
  },
  {
   "cell_type": "code",
   "source": [
    "candidates_bestsellers = pd.concat([candidates_bestsellers, candidates_bestsellers_test_week])\n",
    "candidates_bestsellers.drop(columns='bestseller_rank', inplace=True)"
   ],
   "metadata": {
    "execution": {
     "iopub.status.busy": "2022-04-16T16:56:10.11826Z",
     "iopub.execute_input": "2022-04-16T16:56:10.119061Z",
     "iopub.status.idle": "2022-04-16T16:56:11.325461Z",
     "shell.execute_reply.started": "2022-04-16T16:56:10.119017Z",
     "shell.execute_reply": "2022-04-16T16:56:11.324762Z"
    },
    "trusted": true,
    "ExecuteTime": {
     "end_time": "2023-12-06T00:18:28.253042700Z",
     "start_time": "2023-12-06T00:18:27.451452200Z"
    }
   },
   "execution_count": 46,
   "outputs": []
  },
  {
   "cell_type": "code",
   "source": [
    "candidates_bestsellers"
   ],
   "metadata": {
    "execution": {
     "iopub.status.busy": "2022-04-16T16:56:19.254726Z",
     "iopub.execute_input": "2022-04-16T16:56:19.255053Z",
     "iopub.status.idle": "2022-04-16T16:56:19.271702Z",
     "shell.execute_reply.started": "2022-04-16T16:56:19.255014Z",
     "shell.execute_reply": "2022-04-16T16:56:19.270702Z"
    },
    "trusted": true,
    "ExecuteTime": {
     "end_time": "2023-12-06T00:18:28.348421700Z",
     "start_time": "2023-12-06T00:18:27.900327300Z"
    }
   },
   "execution_count": 47,
   "outputs": [
    {
     "data": {
      "text/plain": "             t_dat           customer_id  sales_channel_id  week  article_id  \\\n0       2020-07-22       200292573348128                 2    96   760084003   \n1       2020-07-22       200292573348128                 2    96   866731001   \n2       2020-07-22       200292573348128                 2    96   600886001   \n3       2020-07-22       200292573348128                 2    96   706016001   \n4       2020-07-22       200292573348128                 2    96   372860002   \n...            ...                   ...               ...   ...         ...   \n5248375 2020-09-22  18438270306572912089                 1   105   915529003   \n5248376 2020-09-22  18438270306572912089                 1   105   915529005   \n5248377 2020-09-22  18438270306572912089                 1   105   448509014   \n5248378 2020-09-22  18438270306572912089                 1   105   762846027   \n5248379 2020-09-22  18438270306572912089                 1   105   714790020   \n\n            price  \n0        0.025094  \n1        0.024919  \n2        0.022980  \n3        0.033197  \n4        0.013193  \n...           ...  \n5248375  0.033439  \n5248376  0.033417  \n5248377  0.041630  \n5248378  0.025005  \n5248379  0.049951  \n\n[13389576 rows x 6 columns]",
      "text/html": "<div>\n<style scoped>\n    .dataframe tbody tr th:only-of-type {\n        vertical-align: middle;\n    }\n\n    .dataframe tbody tr th {\n        vertical-align: top;\n    }\n\n    .dataframe thead th {\n        text-align: right;\n    }\n</style>\n<table border=\"1\" class=\"dataframe\">\n  <thead>\n    <tr style=\"text-align: right;\">\n      <th></th>\n      <th>t_dat</th>\n      <th>customer_id</th>\n      <th>sales_channel_id</th>\n      <th>week</th>\n      <th>article_id</th>\n      <th>price</th>\n    </tr>\n  </thead>\n  <tbody>\n    <tr>\n      <th>0</th>\n      <td>2020-07-22</td>\n      <td>200292573348128</td>\n      <td>2</td>\n      <td>96</td>\n      <td>760084003</td>\n      <td>0.025094</td>\n    </tr>\n    <tr>\n      <th>1</th>\n      <td>2020-07-22</td>\n      <td>200292573348128</td>\n      <td>2</td>\n      <td>96</td>\n      <td>866731001</td>\n      <td>0.024919</td>\n    </tr>\n    <tr>\n      <th>2</th>\n      <td>2020-07-22</td>\n      <td>200292573348128</td>\n      <td>2</td>\n      <td>96</td>\n      <td>600886001</td>\n      <td>0.022980</td>\n    </tr>\n    <tr>\n      <th>3</th>\n      <td>2020-07-22</td>\n      <td>200292573348128</td>\n      <td>2</td>\n      <td>96</td>\n      <td>706016001</td>\n      <td>0.033197</td>\n    </tr>\n    <tr>\n      <th>4</th>\n      <td>2020-07-22</td>\n      <td>200292573348128</td>\n      <td>2</td>\n      <td>96</td>\n      <td>372860002</td>\n      <td>0.013193</td>\n    </tr>\n    <tr>\n      <th>...</th>\n      <td>...</td>\n      <td>...</td>\n      <td>...</td>\n      <td>...</td>\n      <td>...</td>\n      <td>...</td>\n    </tr>\n    <tr>\n      <th>5248375</th>\n      <td>2020-09-22</td>\n      <td>18438270306572912089</td>\n      <td>1</td>\n      <td>105</td>\n      <td>915529003</td>\n      <td>0.033439</td>\n    </tr>\n    <tr>\n      <th>5248376</th>\n      <td>2020-09-22</td>\n      <td>18438270306572912089</td>\n      <td>1</td>\n      <td>105</td>\n      <td>915529005</td>\n      <td>0.033417</td>\n    </tr>\n    <tr>\n      <th>5248377</th>\n      <td>2020-09-22</td>\n      <td>18438270306572912089</td>\n      <td>1</td>\n      <td>105</td>\n      <td>448509014</td>\n      <td>0.041630</td>\n    </tr>\n    <tr>\n      <th>5248378</th>\n      <td>2020-09-22</td>\n      <td>18438270306572912089</td>\n      <td>1</td>\n      <td>105</td>\n      <td>762846027</td>\n      <td>0.025005</td>\n    </tr>\n    <tr>\n      <th>5248379</th>\n      <td>2020-09-22</td>\n      <td>18438270306572912089</td>\n      <td>1</td>\n      <td>105</td>\n      <td>714790020</td>\n      <td>0.049951</td>\n    </tr>\n  </tbody>\n</table>\n<p>13389576 rows × 6 columns</p>\n</div>"
     },
     "execution_count": 47,
     "metadata": {},
     "output_type": "execute_result"
    }
   ]
  },
  {
   "cell_type": "markdown",
   "source": [
    "# Combining transactions and candidates / negative examples"
   ],
   "metadata": {}
  },
  {
   "cell_type": "code",
   "source": [
    "transactions['purchased'] = 1"
   ],
   "metadata": {
    "execution": {
     "iopub.status.busy": "2022-04-16T16:56:25.60895Z",
     "iopub.execute_input": "2022-04-16T16:56:25.609882Z",
     "iopub.status.idle": "2022-04-16T16:56:25.620461Z",
     "shell.execute_reply.started": "2022-04-16T16:56:25.609833Z",
     "shell.execute_reply": "2022-04-16T16:56:25.619506Z"
    },
    "trusted": true,
    "ExecuteTime": {
     "end_time": "2023-12-06T00:18:28.425709600Z",
     "start_time": "2023-12-06T00:18:27.930478800Z"
    }
   },
   "execution_count": 48,
   "outputs": []
  },
  {
   "cell_type": "code",
   "source": [
    "data = pd.concat([transactions, candidates_last_purchase, candidates_bestsellers])\n",
    "data.purchased.fillna(0, inplace=True)"
   ],
   "metadata": {
    "execution": {
     "iopub.status.busy": "2022-04-16T16:56:31.824647Z",
     "iopub.execute_input": "2022-04-16T16:56:31.824982Z",
     "iopub.status.idle": "2022-04-16T16:56:32.437836Z",
     "shell.execute_reply.started": "2022-04-16T16:56:31.824952Z",
     "shell.execute_reply": "2022-04-16T16:56:32.436995Z"
    },
    "trusted": true,
    "ExecuteTime": {
     "end_time": "2023-12-06T00:18:28.720541800Z",
     "start_time": "2023-12-06T00:18:27.946079700Z"
    }
   },
   "execution_count": 49,
   "outputs": []
  },
  {
   "cell_type": "code",
   "source": [
    "data"
   ],
   "metadata": {
    "execution": {
     "iopub.status.busy": "2022-04-16T16:56:39.053412Z",
     "iopub.execute_input": "2022-04-16T16:56:39.053729Z",
     "iopub.status.idle": "2022-04-16T16:56:39.071738Z",
     "shell.execute_reply.started": "2022-04-16T16:56:39.053698Z",
     "shell.execute_reply": "2022-04-16T16:56:39.070857Z"
    },
    "trusted": true,
    "ExecuteTime": {
     "end_time": "2023-12-06T00:18:28.733144400Z",
     "start_time": "2023-12-06T00:18:28.303952800Z"
    }
   },
   "execution_count": 50,
   "outputs": [
    {
     "data": {
      "text/plain": "              t_dat           customer_id  article_id     price  \\\n29030503 2020-07-15       272412481300040   778064028  0.008458   \n29030504 2020-07-15       272412481300040   816592008  0.016932   \n29030505 2020-07-15       272412481300040   621381021  0.033881   \n29030506 2020-07-15       272412481300040   817477003  0.025407   \n29030507 2020-07-15       272412481300040   899088002  0.025407   \n...             ...                   ...         ...       ...   \n5248375  2020-09-22  18438270306572912089   915529003  0.033439   \n5248376  2020-09-22  18438270306572912089   915529005  0.033417   \n5248377  2020-09-22  18438270306572912089   448509014  0.041630   \n5248378  2020-09-22  18438270306572912089   762846027  0.025005   \n5248379  2020-09-22  18438270306572912089   714790020  0.049951   \n\n          sales_channel_id  week  purchased  \n29030503                 1    95        1.0  \n29030504                 1    95        1.0  \n29030505                 1    95        1.0  \n29030506                 1    95        1.0  \n29030507                 1    95        1.0  \n...                    ...   ...        ...  \n5248375                  1   105        0.0  \n5248376                  1   105        0.0  \n5248377                  1   105        0.0  \n5248378                  1   105        0.0  \n5248379                  1   105        0.0  \n\n[18915320 rows x 7 columns]",
      "text/html": "<div>\n<style scoped>\n    .dataframe tbody tr th:only-of-type {\n        vertical-align: middle;\n    }\n\n    .dataframe tbody tr th {\n        vertical-align: top;\n    }\n\n    .dataframe thead th {\n        text-align: right;\n    }\n</style>\n<table border=\"1\" class=\"dataframe\">\n  <thead>\n    <tr style=\"text-align: right;\">\n      <th></th>\n      <th>t_dat</th>\n      <th>customer_id</th>\n      <th>article_id</th>\n      <th>price</th>\n      <th>sales_channel_id</th>\n      <th>week</th>\n      <th>purchased</th>\n    </tr>\n  </thead>\n  <tbody>\n    <tr>\n      <th>29030503</th>\n      <td>2020-07-15</td>\n      <td>272412481300040</td>\n      <td>778064028</td>\n      <td>0.008458</td>\n      <td>1</td>\n      <td>95</td>\n      <td>1.0</td>\n    </tr>\n    <tr>\n      <th>29030504</th>\n      <td>2020-07-15</td>\n      <td>272412481300040</td>\n      <td>816592008</td>\n      <td>0.016932</td>\n      <td>1</td>\n      <td>95</td>\n      <td>1.0</td>\n    </tr>\n    <tr>\n      <th>29030505</th>\n      <td>2020-07-15</td>\n      <td>272412481300040</td>\n      <td>621381021</td>\n      <td>0.033881</td>\n      <td>1</td>\n      <td>95</td>\n      <td>1.0</td>\n    </tr>\n    <tr>\n      <th>29030506</th>\n      <td>2020-07-15</td>\n      <td>272412481300040</td>\n      <td>817477003</td>\n      <td>0.025407</td>\n      <td>1</td>\n      <td>95</td>\n      <td>1.0</td>\n    </tr>\n    <tr>\n      <th>29030507</th>\n      <td>2020-07-15</td>\n      <td>272412481300040</td>\n      <td>899088002</td>\n      <td>0.025407</td>\n      <td>1</td>\n      <td>95</td>\n      <td>1.0</td>\n    </tr>\n    <tr>\n      <th>...</th>\n      <td>...</td>\n      <td>...</td>\n      <td>...</td>\n      <td>...</td>\n      <td>...</td>\n      <td>...</td>\n      <td>...</td>\n    </tr>\n    <tr>\n      <th>5248375</th>\n      <td>2020-09-22</td>\n      <td>18438270306572912089</td>\n      <td>915529003</td>\n      <td>0.033439</td>\n      <td>1</td>\n      <td>105</td>\n      <td>0.0</td>\n    </tr>\n    <tr>\n      <th>5248376</th>\n      <td>2020-09-22</td>\n      <td>18438270306572912089</td>\n      <td>915529005</td>\n      <td>0.033417</td>\n      <td>1</td>\n      <td>105</td>\n      <td>0.0</td>\n    </tr>\n    <tr>\n      <th>5248377</th>\n      <td>2020-09-22</td>\n      <td>18438270306572912089</td>\n      <td>448509014</td>\n      <td>0.041630</td>\n      <td>1</td>\n      <td>105</td>\n      <td>0.0</td>\n    </tr>\n    <tr>\n      <th>5248378</th>\n      <td>2020-09-22</td>\n      <td>18438270306572912089</td>\n      <td>762846027</td>\n      <td>0.025005</td>\n      <td>1</td>\n      <td>105</td>\n      <td>0.0</td>\n    </tr>\n    <tr>\n      <th>5248379</th>\n      <td>2020-09-22</td>\n      <td>18438270306572912089</td>\n      <td>714790020</td>\n      <td>0.049951</td>\n      <td>1</td>\n      <td>105</td>\n      <td>0.0</td>\n    </tr>\n  </tbody>\n</table>\n<p>18915320 rows × 7 columns</p>\n</div>"
     },
     "execution_count": 50,
     "metadata": {},
     "output_type": "execute_result"
    }
   ]
  },
  {
   "cell_type": "code",
   "source": [
    "data.drop_duplicates(['customer_id', 'article_id', 'week'], inplace=True)"
   ],
   "metadata": {
    "execution": {
     "iopub.status.busy": "2022-04-16T16:56:54.897286Z",
     "iopub.execute_input": "2022-04-16T16:56:54.897571Z",
     "iopub.status.idle": "2022-04-16T16:57:02.803119Z",
     "shell.execute_reply.started": "2022-04-16T16:56:54.897538Z",
     "shell.execute_reply": "2022-04-16T16:57:02.802139Z"
    },
    "trusted": true,
    "ExecuteTime": {
     "end_time": "2023-12-06T00:18:34.413022100Z",
     "start_time": "2023-12-06T00:18:28.319001700Z"
    }
   },
   "execution_count": 51,
   "outputs": []
  },
  {
   "cell_type": "code",
   "source": [
    "data.purchased.mean()"
   ],
   "metadata": {
    "execution": {
     "iopub.status.busy": "2022-04-16T16:57:02.805002Z",
     "iopub.execute_input": "2022-04-16T16:57:02.805659Z",
     "iopub.status.idle": "2022-04-16T16:57:02.868471Z",
     "shell.execute_reply.started": "2022-04-16T16:57:02.805609Z",
     "shell.execute_reply": "2022-04-16T16:57:02.867456Z"
    },
    "trusted": true,
    "ExecuteTime": {
     "end_time": "2023-12-06T00:18:34.517088700Z",
     "start_time": "2023-12-06T00:18:34.414059100Z"
    }
   },
   "execution_count": 52,
   "outputs": [
    {
     "data": {
      "text/plain": "0.13607582749165664"
     },
     "execution_count": 52,
     "metadata": {},
     "output_type": "execute_result"
    }
   ]
  },
  {
   "cell_type": "markdown",
   "source": [
    "### Add bestseller information"
   ],
   "metadata": {}
  },
  {
   "cell_type": "code",
   "source": [
    "data = pd.merge(\n",
    "    data,\n",
    "    bestsellers_previous_week[['week', 'article_id', 'bestseller_rank']],\n",
    "    on=['week', 'article_id'],\n",
    "    how='left'\n",
    ").merge(\n",
    "    recency,\n",
    "    on='article_id',\n",
    "    how='left'\n",
    ").merge(\n",
    "    price_statistics,\n",
    "    on='article_id',\n",
    "    how='left'\n",
    ")\n"
   ],
   "metadata": {
    "execution": {
     "iopub.status.busy": "2022-04-16T16:57:05.130621Z",
     "iopub.execute_input": "2022-04-16T16:57:05.130915Z",
     "iopub.status.idle": "2022-04-16T16:57:08.938612Z",
     "shell.execute_reply.started": "2022-04-16T16:57:05.130885Z",
     "shell.execute_reply": "2022-04-16T16:57:08.93771Z"
    },
    "trusted": true,
    "ExecuteTime": {
     "end_time": "2023-12-06T00:18:41.311439600Z",
     "start_time": "2023-12-06T00:18:34.491336800Z"
    }
   },
   "execution_count": 53,
   "outputs": []
  },
  {
   "cell_type": "code",
   "execution_count": 54,
   "outputs": [
    {
     "data": {
      "text/plain": "       t_dat       customer_id  article_id     price  sales_channel_id  week  \\\n0 2020-07-15   272412481300040   778064028  0.008458                 1    95   \n1 2020-07-15   272412481300040   816592008  0.016932                 1    95   \n2 2020-07-15   272412481300040   621381021  0.033881                 1    95   \n3 2020-07-15   272412481300040   817477003  0.025407                 1    95   \n4 2020-07-15   272412481300040   899088002  0.025407                 1    95   \n5 2020-07-15  1456826891333599   888294001  0.013542                 1    95   \n6 2020-07-15  1456826891333599   895002002  0.015237                 1    95   \n7 2020-07-15  2133687643102426   843642001  0.042356                 2    95   \n8 2020-07-15  6010692573790711   857812010  0.039661                 1    95   \n9 2020-07-15  6010692573790711   372860001  0.012678                 1    95   \n\n   purchased  bestseller_rank  recency_rank  mean_price  min_price  max_price  \\\n0        1.0              NaN          10.0    0.005620   0.001678   0.008458   \n1        1.0              NaN          10.0    0.016344   0.010153   0.016932   \n2        1.0              NaN          10.0    0.033032   0.027102   0.033881   \n3        1.0              NaN          10.0    0.024747   0.018627   0.025407   \n4        1.0              NaN          10.0    0.024468   0.012695   0.025407   \n5        1.0              NaN          10.0    0.022126   0.006763   0.025407   \n6        1.0              NaN          10.0    0.012476   0.003373   0.015237   \n7        1.0              NaN          10.0    0.041549   0.029153   0.042356   \n8        1.0              NaN          10.0    0.034969   0.013542   0.042356   \n9        1.0              NaN          10.0    0.013197   0.003373   0.013542   \n\n   std_price  \n0   0.002007  \n1   0.001248  \n2   0.001641  \n3   0.001481  \n4   0.001917  \n5   0.005261  \n6   0.002595  \n7   0.002169  \n8   0.007702  \n9   0.000962  ",
      "text/html": "<div>\n<style scoped>\n    .dataframe tbody tr th:only-of-type {\n        vertical-align: middle;\n    }\n\n    .dataframe tbody tr th {\n        vertical-align: top;\n    }\n\n    .dataframe thead th {\n        text-align: right;\n    }\n</style>\n<table border=\"1\" class=\"dataframe\">\n  <thead>\n    <tr style=\"text-align: right;\">\n      <th></th>\n      <th>t_dat</th>\n      <th>customer_id</th>\n      <th>article_id</th>\n      <th>price</th>\n      <th>sales_channel_id</th>\n      <th>week</th>\n      <th>purchased</th>\n      <th>bestseller_rank</th>\n      <th>recency_rank</th>\n      <th>mean_price</th>\n      <th>min_price</th>\n      <th>max_price</th>\n      <th>std_price</th>\n    </tr>\n  </thead>\n  <tbody>\n    <tr>\n      <th>0</th>\n      <td>2020-07-15</td>\n      <td>272412481300040</td>\n      <td>778064028</td>\n      <td>0.008458</td>\n      <td>1</td>\n      <td>95</td>\n      <td>1.0</td>\n      <td>NaN</td>\n      <td>10.0</td>\n      <td>0.005620</td>\n      <td>0.001678</td>\n      <td>0.008458</td>\n      <td>0.002007</td>\n    </tr>\n    <tr>\n      <th>1</th>\n      <td>2020-07-15</td>\n      <td>272412481300040</td>\n      <td>816592008</td>\n      <td>0.016932</td>\n      <td>1</td>\n      <td>95</td>\n      <td>1.0</td>\n      <td>NaN</td>\n      <td>10.0</td>\n      <td>0.016344</td>\n      <td>0.010153</td>\n      <td>0.016932</td>\n      <td>0.001248</td>\n    </tr>\n    <tr>\n      <th>2</th>\n      <td>2020-07-15</td>\n      <td>272412481300040</td>\n      <td>621381021</td>\n      <td>0.033881</td>\n      <td>1</td>\n      <td>95</td>\n      <td>1.0</td>\n      <td>NaN</td>\n      <td>10.0</td>\n      <td>0.033032</td>\n      <td>0.027102</td>\n      <td>0.033881</td>\n      <td>0.001641</td>\n    </tr>\n    <tr>\n      <th>3</th>\n      <td>2020-07-15</td>\n      <td>272412481300040</td>\n      <td>817477003</td>\n      <td>0.025407</td>\n      <td>1</td>\n      <td>95</td>\n      <td>1.0</td>\n      <td>NaN</td>\n      <td>10.0</td>\n      <td>0.024747</td>\n      <td>0.018627</td>\n      <td>0.025407</td>\n      <td>0.001481</td>\n    </tr>\n    <tr>\n      <th>4</th>\n      <td>2020-07-15</td>\n      <td>272412481300040</td>\n      <td>899088002</td>\n      <td>0.025407</td>\n      <td>1</td>\n      <td>95</td>\n      <td>1.0</td>\n      <td>NaN</td>\n      <td>10.0</td>\n      <td>0.024468</td>\n      <td>0.012695</td>\n      <td>0.025407</td>\n      <td>0.001917</td>\n    </tr>\n    <tr>\n      <th>5</th>\n      <td>2020-07-15</td>\n      <td>1456826891333599</td>\n      <td>888294001</td>\n      <td>0.013542</td>\n      <td>1</td>\n      <td>95</td>\n      <td>1.0</td>\n      <td>NaN</td>\n      <td>10.0</td>\n      <td>0.022126</td>\n      <td>0.006763</td>\n      <td>0.025407</td>\n      <td>0.005261</td>\n    </tr>\n    <tr>\n      <th>6</th>\n      <td>2020-07-15</td>\n      <td>1456826891333599</td>\n      <td>895002002</td>\n      <td>0.015237</td>\n      <td>1</td>\n      <td>95</td>\n      <td>1.0</td>\n      <td>NaN</td>\n      <td>10.0</td>\n      <td>0.012476</td>\n      <td>0.003373</td>\n      <td>0.015237</td>\n      <td>0.002595</td>\n    </tr>\n    <tr>\n      <th>7</th>\n      <td>2020-07-15</td>\n      <td>2133687643102426</td>\n      <td>843642001</td>\n      <td>0.042356</td>\n      <td>2</td>\n      <td>95</td>\n      <td>1.0</td>\n      <td>NaN</td>\n      <td>10.0</td>\n      <td>0.041549</td>\n      <td>0.029153</td>\n      <td>0.042356</td>\n      <td>0.002169</td>\n    </tr>\n    <tr>\n      <th>8</th>\n      <td>2020-07-15</td>\n      <td>6010692573790711</td>\n      <td>857812010</td>\n      <td>0.039661</td>\n      <td>1</td>\n      <td>95</td>\n      <td>1.0</td>\n      <td>NaN</td>\n      <td>10.0</td>\n      <td>0.034969</td>\n      <td>0.013542</td>\n      <td>0.042356</td>\n      <td>0.007702</td>\n    </tr>\n    <tr>\n      <th>9</th>\n      <td>2020-07-15</td>\n      <td>6010692573790711</td>\n      <td>372860001</td>\n      <td>0.012678</td>\n      <td>1</td>\n      <td>95</td>\n      <td>1.0</td>\n      <td>NaN</td>\n      <td>10.0</td>\n      <td>0.013197</td>\n      <td>0.003373</td>\n      <td>0.013542</td>\n      <td>0.000962</td>\n    </tr>\n  </tbody>\n</table>\n</div>"
     },
     "execution_count": 54,
     "metadata": {},
     "output_type": "execute_result"
    }
   ],
   "source": [
    "\n",
    "data.head(10)"
   ],
   "metadata": {
    "collapsed": false,
    "ExecuteTime": {
     "end_time": "2023-12-06T00:18:41.444622600Z",
     "start_time": "2023-12-06T00:18:41.314951Z"
    }
   }
  },
  {
   "cell_type": "code",
   "source": [
    "data.sort_values(['week', 'customer_id'], inplace=True)\n",
    "data.reset_index(drop=True, inplace=True)"
   ],
   "metadata": {
    "execution": {
     "iopub.status.busy": "2022-04-16T16:57:33.964281Z",
     "iopub.execute_input": "2022-04-16T16:57:33.964533Z",
     "iopub.status.idle": "2022-04-16T16:57:40.05823Z",
     "shell.execute_reply.started": "2022-04-16T16:57:33.964502Z",
     "shell.execute_reply": "2022-04-16T16:57:40.057265Z"
    },
    "trusted": true,
    "ExecuteTime": {
     "end_time": "2023-12-06T00:18:44.913060500Z",
     "start_time": "2023-12-06T00:18:41.355394Z"
    }
   },
   "execution_count": 55,
   "outputs": []
  },
  {
   "cell_type": "code",
   "execution_count": 56,
   "outputs": [],
   "source": [
    "data = data[data.week != data.week.min()]\n",
    "data.bestseller_rank.fillna(999, inplace=True)"
   ],
   "metadata": {
    "collapsed": false,
    "ExecuteTime": {
     "end_time": "2023-12-06T00:18:46.058303500Z",
     "start_time": "2023-12-06T00:18:44.916571400Z"
    }
   }
  },
  {
   "cell_type": "code",
   "execution_count": 57,
   "outputs": [],
   "source": [
    "data = pd.merge(data, articles, on='article_id', how='left')\n",
    "data = pd.merge(data, customers, on='customer_id', how='left')"
   ],
   "metadata": {
    "collapsed": false,
    "ExecuteTime": {
     "end_time": "2023-12-06T00:18:57.811385200Z",
     "start_time": "2023-12-06T00:18:46.060298400Z"
    }
   }
  },
  {
   "cell_type": "code",
   "source": [
    "train = data[data.week != test_week]\n",
    "test = data[data.week==test_week].drop_duplicates(['customer_id', 'article_id', 'sales_channel_id']).copy()\n",
    "validate = data[data.week==test_week-1].drop_duplicates(['customer_id', 'article_id', 'sales_channel_id']).copy()"
   ],
   "metadata": {
    "execution": {
     "iopub.status.busy": "2022-04-16T16:57:40.059395Z",
     "iopub.execute_input": "2022-04-16T16:57:40.059659Z",
     "iopub.status.idle": "2022-04-16T16:57:47.342576Z",
     "shell.execute_reply.started": "2022-04-16T16:57:40.059627Z",
     "shell.execute_reply": "2022-04-16T16:57:47.34179Z"
    },
    "trusted": true,
    "ExecuteTime": {
     "end_time": "2023-12-06T00:19:03.406638300Z",
     "start_time": "2023-12-06T00:18:57.813710700Z"
    }
   },
   "execution_count": 58,
   "outputs": []
  },
  {
   "cell_type": "code",
   "source": [
    "train_baskets = train.groupby(['week', 'customer_id'])['article_id'].count().values"
   ],
   "metadata": {
    "execution": {
     "iopub.status.busy": "2022-04-16T16:57:47.343704Z",
     "iopub.execute_input": "2022-04-16T16:57:47.344074Z",
     "iopub.status.idle": "2022-04-16T16:57:48.278583Z",
     "shell.execute_reply.started": "2022-04-16T16:57:47.344043Z",
     "shell.execute_reply": "2022-04-16T16:57:48.277693Z"
    },
    "trusted": true,
    "ExecuteTime": {
     "end_time": "2023-12-06T00:19:04.243809Z",
     "start_time": "2023-12-06T00:19:03.411176400Z"
    }
   },
   "execution_count": 59,
   "outputs": []
  },
  {
   "cell_type": "code",
   "source": [
    "columns_to_use = ['article_id', 'product_type_no', 'graphical_appearance_no', 'colour_group_code', 'perceived_colour_value_id',\n",
    "'perceived_colour_master_id', 'department_no', 'index_code',\n",
    "'index_group_no', 'section_no', 'garment_group_no', 'FN', 'Active', 'has_color',\n",
    "'club_member_status', 'fashion_news_frequency', 'age', 'postal_code', 'bestseller_rank', 'recency_rank', 'std_price']\n",
    "\n",
    "# columns_to_use += ['mean_price', 'min_price', 'max_price']\n",
    "# columns_to_use += ['sales_channel_id']"
   ],
   "metadata": {
    "execution": {
     "iopub.status.busy": "2022-04-16T16:57:48.279843Z",
     "iopub.execute_input": "2022-04-16T16:57:48.280088Z",
     "iopub.status.idle": "2022-04-16T16:57:48.285125Z",
     "shell.execute_reply.started": "2022-04-16T16:57:48.280057Z",
     "shell.execute_reply": "2022-04-16T16:57:48.284292Z"
    },
    "trusted": true,
    "ExecuteTime": {
     "end_time": "2023-12-06T00:19:04.302744600Z",
     "start_time": "2023-12-06T00:19:04.251446300Z"
    }
   },
   "execution_count": 60,
   "outputs": []
  },
  {
   "cell_type": "code",
   "source": [
    "%%time\n",
    "train_X = train[columns_to_use]\n",
    "print(train_X.columns)\n",
    "train_y = train['purchased']\n",
    "\n",
    "test_X = test[columns_to_use]\n",
    "validate_X = validate[columns_to_use]\n",
    "data_folder = '..\\\\..\\\\..\\\\Input\\\\Dataset\\\\'\n",
    "# export the dataframe test and train set for later use\n",
    "train_X.to_parquet(data_folder + 'train_X.parquet')\n",
    "# export series train_y for later use\n",
    "train_y.to_frame().to_parquet(data_folder + 'train_y.parquet')\n",
    "test_X.to_parquet(data_folder + 'test_X.parquet')\n",
    "validate_X.to_parquet(data_folder + 'validate_X.parquet')"
   ],
   "metadata": {
    "execution": {
     "iopub.status.busy": "2022-04-16T16:57:48.286579Z",
     "iopub.execute_input": "2022-04-16T16:57:48.287072Z",
     "iopub.status.idle": "2022-04-16T16:57:49.009188Z",
     "shell.execute_reply.started": "2022-04-16T16:57:48.287025Z",
     "shell.execute_reply": "2022-04-16T16:57:49.008435Z"
    },
    "trusted": true,
    "ExecuteTime": {
     "end_time": "2023-12-06T00:19:17.414627600Z",
     "start_time": "2023-12-06T00:19:04.264929300Z"
    }
   },
   "execution_count": 61,
   "outputs": [
    {
     "name": "stdout",
     "output_type": "stream",
     "text": [
      "Index(['article_id', 'product_type_no', 'graphical_appearance_no',\n",
      "       'colour_group_code', 'perceived_colour_value_id',\n",
      "       'perceived_colour_master_id', 'department_no', 'index_code',\n",
      "       'index_group_no', 'section_no', 'garment_group_no', 'FN', 'Active',\n",
      "       'has_color', 'club_member_status', 'fashion_news_frequency', 'age',\n",
      "       'postal_code', 'bestseller_rank', 'recency_rank', 'std_price'],\n",
      "      dtype='object')\n",
      "CPU times: total: 7.62 s\n",
      "Wall time: 13.1 s\n"
     ]
    }
   ]
  },
  {
   "cell_type": "markdown",
   "source": [
    "# Model training"
   ],
   "metadata": {}
  },
  {
   "cell_type": "code",
   "execution_count": 83,
   "outputs": [],
   "source": [
    "import tensorflow as tf\n",
    "from tensorflow.keras.layers import Input, Dense\n",
    "from sklearn.preprocessing import MinMaxScaler\n",
    "from keras_tuner.tuners import RandomSearch\n",
    "from sklearn.impute import SimpleImputer\n",
    "import pandas as pd\n",
    "import numpy as np \n",
    "batch_size = 1024*24\n",
    "epochs = 20\n",
    "max_trials = 15"
   ],
   "metadata": {
    "collapsed": false,
    "ExecuteTime": {
     "end_time": "2023-12-06T00:34:16.169547400Z",
     "start_time": "2023-12-06T00:34:14.934124600Z"
    }
   }
  },
  {
   "cell_type": "code",
   "source": [
    "\n",
    "\n",
    "# import train_x, train_y and test_x from parquet files if needed\n",
    "if 'train_X' not in locals() or 'train_y' not in locals() or 'test_X' not in locals() or 'validate_X' not in locals():\n",
    "    data_folder = '..\\\\..\\\\..\\\\Input\\\\Dataset\\\\'\n",
    "    train_X = pd.read_parquet(data_folder + 'train_X.parquet')\n",
    "    train_y = pd.read_parquet(data_folder + 'train_y.parquet').values.ravel()\n",
    "    test_X = pd.read_parquet(data_folder + 'test_X.parquet')\n",
    "    validate_X = pd.read_parquet(data_folder + 'validate_X.parquet')\n"
   ],
   "metadata": {
    "execution": {
     "iopub.status.busy": "2022-04-16T16:57:49.01189Z",
     "iopub.execute_input": "2022-04-16T16:57:49.012576Z",
     "iopub.status.idle": "2022-04-16T16:57:50.099966Z",
     "shell.execute_reply.started": "2022-04-16T16:57:49.012515Z",
     "shell.execute_reply": "2022-04-16T16:57:50.09909Z"
    },
    "trusted": true,
    "ExecuteTime": {
     "end_time": "2023-12-06T00:34:16.198355400Z",
     "start_time": "2023-12-06T00:34:14.949842300Z"
    }
   },
   "execution_count": 84,
   "outputs": []
  },
  {
   "cell_type": "code",
   "execution_count": 85,
   "outputs": [],
   "source": [
    "# Convert the data to numpy arrays and make sure the data type is 'int32'\n",
    "train_X_tf = np.asarray(train_X).astype('float32')\n",
    "train_Y_tf = np.asarray(train_y).astype('float32')\n"
   ],
   "metadata": {
    "collapsed": false,
    "ExecuteTime": {
     "end_time": "2023-12-06T00:34:31.709480300Z",
     "start_time": "2023-12-06T00:34:14.964379100Z"
    }
   }
  },
  {
   "cell_type": "code",
   "execution_count": 86,
   "outputs": [],
   "source": [
    "\n",
    "# Create an imputer\n",
    "imputer = SimpleImputer(strategy='mean')\n",
    "\n",
    "# Fit and transform the imputer on the training data\n",
    "train_X_imputed = imputer.fit_transform(train_X)\n",
    "\n",
    "# Transform the test data using the same imputer\n",
    "test_X_imputed = imputer.transform(test_X)\n",
    "\n",
    "validate_X_imputed = imputer.transform(validate_X)\n",
    "\n",
    "# Create a scaler\n",
    "scaler = MinMaxScaler()\n",
    "\n",
    "# Fit and transform the training data\n",
    "train_X_scaled = scaler.fit_transform(train_X_imputed)\n",
    "\n",
    "# Transform the test data using the same scaler\n",
    "test_X_scaled = scaler.transform(test_X_imputed)\n",
    "\n",
    "validate_X_scaled = scaler.transform(validate_X_imputed)"
   ],
   "metadata": {
    "collapsed": false,
    "ExecuteTime": {
     "end_time": "2023-12-06T00:35:03.334225600Z",
     "start_time": "2023-12-06T00:34:31.778922700Z"
    }
   }
  },
  {
   "cell_type": "code",
   "source": [
    "\n",
    "\n",
    "# Define your neural network model for ranking\n",
    "def create_ranking_model(input_dim):\n",
    "    model_input = Input(shape=(input_dim,))\n",
    "    dense_layer = Dense(64, activation='relu')(model_input)\n",
    "    output_layer = Dense(1, activation='linear')(dense_layer)\n",
    "\n",
    "    model = tf.keras.Model(inputs=model_input, outputs=output_layer)\n",
    "    return model\n",
    "\n",
    "# Create and compile the neural network model\n",
    "ranking_model = create_ranking_model(input_dim=len(columns_to_use))\n",
    "ranking_model.compile(loss='mean_squared_error', optimizer='adam')\n",
    "\n",
    "\n",
    "\n",
    "\n",
    "# Train the ranking model\n",
    "ranking_model.fit(train_X_scaled, train_y, batch_size=batch_size, epochs=epochs, verbose=1)\n",
    "\n",
    "\n"
   ],
   "metadata": {
    "execution": {
     "iopub.status.busy": "2022-04-16T16:57:50.101082Z",
     "iopub.execute_input": "2022-04-16T16:57:50.101312Z",
     "iopub.status.idle": "2022-04-16T16:57:50.105859Z",
     "shell.execute_reply.started": "2022-04-16T16:57:50.101285Z",
     "shell.execute_reply": "2022-04-16T16:57:50.105251Z"
    },
    "trusted": true,
    "ExecuteTime": {
     "end_time": "2023-12-06T00:36:27.077947500Z",
     "start_time": "2023-12-06T00:35:03.349358500Z"
    }
   },
   "execution_count": 87,
   "outputs": [
    {
     "name": "stdout",
     "output_type": "stream",
     "text": [
      "Epoch 1/20\n",
      "464/464 [==============================] - 5s 6ms/step - loss: 0.0707\n",
      "Epoch 2/20\n",
      "464/464 [==============================] - 3s 6ms/step - loss: 0.0648\n",
      "Epoch 3/20\n",
      "464/464 [==============================] - 3s 6ms/step - loss: 0.0644\n",
      "Epoch 4/20\n",
      "464/464 [==============================] - 3s 6ms/step - loss: 0.0643\n",
      "Epoch 5/20\n",
      "464/464 [==============================] - 3s 6ms/step - loss: 0.0643\n",
      "Epoch 6/20\n",
      "464/464 [==============================] - 3s 6ms/step - loss: 0.0643\n",
      "Epoch 7/20\n",
      "464/464 [==============================] - 3s 7ms/step - loss: 0.0642\n",
      "Epoch 8/20\n",
      "464/464 [==============================] - 3s 7ms/step - loss: 0.0642\n",
      "Epoch 9/20\n",
      "464/464 [==============================] - 3s 7ms/step - loss: 0.0642\n",
      "Epoch 10/20\n",
      "464/464 [==============================] - 3s 7ms/step - loss: 0.0642\n",
      "Epoch 11/20\n",
      "464/464 [==============================] - 3s 7ms/step - loss: 0.0642\n",
      "Epoch 12/20\n",
      "464/464 [==============================] - 3s 7ms/step - loss: 0.0642\n",
      "Epoch 13/20\n",
      "464/464 [==============================] - 3s 7ms/step - loss: 0.0642\n",
      "Epoch 14/20\n",
      "464/464 [==============================] - 3s 6ms/step - loss: 0.0642\n",
      "Epoch 15/20\n",
      "464/464 [==============================] - 3s 7ms/step - loss: 0.0642\n",
      "Epoch 16/20\n",
      "464/464 [==============================] - 3s 6ms/step - loss: 0.0642\n",
      "Epoch 17/20\n",
      "464/464 [==============================] - 3s 7ms/step - loss: 0.0642\n",
      "Epoch 18/20\n",
      "464/464 [==============================] - 4s 8ms/step - loss: 0.0642\n",
      "Epoch 19/20\n",
      "464/464 [==============================] - 3s 7ms/step - loss: 0.0642\n",
      "Epoch 20/20\n",
      "464/464 [==============================] - 3s 7ms/step - loss: 0.0642\n"
     ]
    },
    {
     "data": {
      "text/plain": "<keras.src.callbacks.History at 0x26f46b9d5a0>"
     },
     "execution_count": 87,
     "metadata": {},
     "output_type": "execute_result"
    }
   ]
  },
  {
   "cell_type": "code",
   "execution_count": 88,
   "outputs": [
    {
     "name": "stdout",
     "output_type": "stream",
     "text": [
      "Trial 15 Complete [00h 03m 05s]\n",
      "val_loss: 0.06504212319850922\n",
      "\n",
      "Best val_loss So Far: 0.06504000723361969\n",
      "Total elapsed time: 1d 02h 34m 52s\n"
     ]
    }
   ],
   "source": [
    "\n",
    "# Hyperparameter tuning\n",
    "\n",
    "# Define a function to create the ranking model using the Functional API\n",
    "def build_model(hp):\n",
    "    input_layer = Input(shape=(len(columns_to_use),))\n",
    "    x = Dense(units=hp.Int('units', min_value=32, max_value=512, step=32))(input_layer)\n",
    "    output_layer = Dense(1)(x)\n",
    "    model = tf.keras.Model(inputs=input_layer, outputs=output_layer)\n",
    "    model.compile(loss='mean_squared_error', optimizer='adam')\n",
    "    return model\n",
    "\n",
    "tuner = RandomSearch(build_model, objective='val_loss', max_trials=max_trials, directory='my_tuner_dir', project_name='my_ranking_model')\n",
    "tuner.search(train_X_scaled, train_y, epochs=epochs, validation_data=(train_X_scaled, train_y), verbose=1, batch_size=batch_size)\n"
   ],
   "metadata": {
    "collapsed": false
   }
  },
  {
   "cell_type": "code",
   "source": [
    "best_hyperparameters = tuner.get_best_hyperparameters(num_trials=1)[0]\n",
    "print(best_hyperparameters.values)\n",
    "best_model = build_model(best_hyperparameters)\n",
    "best_model.compile(loss='mean_squared_error', optimizer='adam')\n",
    "best_model.fit(train_X_scaled, train_y, batch_size=batch_size, epochs=epochs, verbose=1)\n",
    "best_model.save('best_ranking_model.keras')\n",
    "\n"
   ],
   "metadata": {
    "ExecuteTime": {
     "end_time": "2023-12-06T01:07:01.825833800Z",
     "start_time": "2023-12-06T01:03:25.232212800Z"
    }
   },
   "execution_count": 89,
   "outputs": [
    {
     "name": "stdout",
     "output_type": "stream",
     "text": [
      "{'units': 256}\n",
      "Epoch 1/20\n",
      "464/464 [==============================] - 10s 20ms/step - loss: 0.0671\n",
      "Epoch 2/20\n",
      "464/464 [==============================] - 9s 20ms/step - loss: 0.0651\n",
      "Epoch 3/20\n",
      "464/464 [==============================] - 10s 21ms/step - loss: 0.0651\n",
      "Epoch 4/20\n",
      "464/464 [==============================] - 10s 21ms/step - loss: 0.0651\n",
      "Epoch 5/20\n",
      "464/464 [==============================] - 10s 22ms/step - loss: 0.0651\n",
      "Epoch 6/20\n",
      "464/464 [==============================] - 11s 25ms/step - loss: 0.0651\n",
      "Epoch 7/20\n",
      "464/464 [==============================] - 11s 25ms/step - loss: 0.0651\n",
      "Epoch 8/20\n",
      "464/464 [==============================] - 11s 23ms/step - loss: 0.0651\n",
      "Epoch 9/20\n",
      "464/464 [==============================] - 11s 24ms/step - loss: 0.0651\n",
      "Epoch 10/20\n",
      "464/464 [==============================] - 11s 23ms/step - loss: 0.0651\n",
      "Epoch 11/20\n",
      "464/464 [==============================] - 11s 24ms/step - loss: 0.0651\n",
      "Epoch 12/20\n",
      "464/464 [==============================] - 11s 24ms/step - loss: 0.0651\n",
      "Epoch 13/20\n",
      "464/464 [==============================] - 11s 24ms/step - loss: 0.0651\n",
      "Epoch 14/20\n",
      "464/464 [==============================] - 11s 24ms/step - loss: 0.0651\n",
      "Epoch 15/20\n",
      "464/464 [==============================] - 11s 23ms/step - loss: 0.0651\n",
      "Epoch 16/20\n",
      "464/464 [==============================] - 10s 22ms/step - loss: 0.0651\n",
      "Epoch 17/20\n",
      "464/464 [==============================] - 10s 21ms/step - loss: 0.0651\n",
      "Epoch 18/20\n",
      "464/464 [==============================] - 9s 20ms/step - loss: 0.0651\n",
      "Epoch 19/20\n",
      "464/464 [==============================] - 9s 19ms/step - loss: 0.0651\n",
      "Epoch 20/20\n",
      "464/464 [==============================] - 8s 18ms/step - loss: 0.0651\n"
     ]
    }
   ]
  },
  {
   "cell_type": "code",
   "execution_count": 90,
   "outputs": [],
   "source": [
    "# load the best model\n",
    "best_model = tf.keras.models.load_model('best_ranking_model.keras')\n",
    "# print the value of the loss function for the best model\n",
    "# print(best_model.evaluate(train_X_scaled, train_y ))\n"
   ],
   "metadata": {
    "collapsed": false,
    "ExecuteTime": {
     "end_time": "2023-12-06T01:07:01.862375400Z",
     "start_time": "2023-12-06T01:06:54.746518100Z"
    }
   }
  },
  {
   "cell_type": "code",
   "execution_count": 91,
   "outputs": [
    {
     "name": "stdout",
     "output_type": "stream",
     "text": [
      "Model: \"model_1\"\n",
      "_________________________________________________________________\n",
      " Layer (type)                Output Shape              Param #   \n",
      "=================================================================\n",
      " input_2 (InputLayer)        [(None, 21)]              0         \n",
      "                                                                 \n",
      " dense_2 (Dense)             (None, 256)               5632      \n",
      "                                                                 \n",
      " dense_3 (Dense)             (None, 1)                 257       \n",
      "                                                                 \n",
      "=================================================================\n",
      "Total params: 5889 (23.00 KB)\n",
      "Trainable params: 5889 (23.00 KB)\n",
      "Non-trainable params: 0 (0.00 Byte)\n",
      "_________________________________________________________________\n"
     ]
    }
   ],
   "source": [
    "best_model.summary()\n",
    "\n"
   ],
   "metadata": {
    "collapsed": false,
    "ExecuteTime": {
     "end_time": "2023-12-06T01:07:01.863376500Z",
     "start_time": "2023-12-06T01:06:54.904708200Z"
    }
   }
  },
  {
   "cell_type": "code",
   "execution_count": 92,
   "outputs": [
    {
     "name": "stdout",
     "output_type": "stream",
     "text": [
      "36768/36768 [==============================] - 25s 665us/step\n"
     ]
    },
    {
     "name": "stderr",
     "output_type": "stream",
     "text": [
      "C:\\Users\\samro\\AppData\\Local\\Temp\\ipykernel_11384\\234781970.py:4: SettingWithCopyWarning: \n",
      "A value is trying to be set on a copy of a slice from a DataFrame.\n",
      "Try using .loc[row_indexer,col_indexer] = value instead\n",
      "\n",
      "See the caveats in the documentation: https://pandas.pydata.org/pandas-docs/stable/user_guide/indexing.html#returning-a-view-versus-a-copy\n",
      "  last_week_purchases['preds'] = best_model.predict(validate_X_scaled)\n"
     ]
    }
   ],
   "source": [
    "# get the items purchased in the last week before the test week\n",
    "last_week_purchases = data[data.week == data.week.max() - 1]\n",
    "# predict the items purchased in the test week \n",
    "last_week_purchases['preds'] = best_model.predict(validate_X_scaled)"
   ],
   "metadata": {
    "collapsed": false,
    "ExecuteTime": {
     "end_time": "2023-12-06T01:07:33.593929300Z",
     "start_time": "2023-12-06T01:06:54.981193300Z"
    }
   }
  },
  {
   "cell_type": "code",
   "execution_count": 93,
   "outputs": [
    {
     "name": "stdout",
     "output_type": "stream",
     "text": [
      "0.45097821001589755\n"
     ]
    }
   ],
   "source": [
    "\n",
    "# calculate the average precision at k for the test week\n",
    "c_id2predicted_article_ids_validation = last_week_purchases \\\n",
    "    .sort_values(['customer_id', 'preds'], ascending=False) \\\n",
    "    .groupby('customer_id')['article_id'].apply(list).to_dict()\n",
    "test_week_purchases_by_cust_validation = test.groupby('customer_id')['article_id'].apply(list).to_dict()\n",
    "a = calculate_apk_dicts(dict_of_gts=test_week_purchases_by_cust_validation, dict_of_preds=c_id2predicted_article_ids_validation)\n",
    "print(a)"
   ],
   "metadata": {
    "collapsed": false,
    "ExecuteTime": {
     "end_time": "2023-12-06T01:07:45.039009600Z",
     "start_time": "2023-12-06T01:07:33.571494100Z"
    }
   }
  },
  {
   "cell_type": "markdown",
   "source": [
    "# Calculate predictions"
   ],
   "metadata": {}
  },
  {
   "cell_type": "code",
   "source": [
    "%time\n",
    "\n",
    "\n",
    "# Predict using the trained ranking model\n",
    "test['preds'] = best_model.predict(test_X_scaled, batch_size=batch_size, verbose=1)\n",
    "\n"
   ],
   "metadata": {
    "trusted": true,
    "ExecuteTime": {
     "end_time": "2023-12-06T01:07:51.811753100Z",
     "start_time": "2023-12-06T01:07:45.008901400Z"
    }
   },
   "execution_count": 94,
   "outputs": [
    {
     "name": "stdout",
     "output_type": "stream",
     "text": [
      "CPU times: total: 0 ns\n",
      "Wall time: 0 ns\n",
      "269/269 [==============================] - 3s 11ms/step\n"
     ]
    }
   ]
  },
  {
   "cell_type": "code",
   "execution_count": 95,
   "outputs": [],
   "source": [
    "c_id2predicted_article_ids = test \\\n",
    "    .sort_values(['customer_id', 'preds'], ascending=False) \\\n",
    "    .groupby('customer_id')['article_id'].apply(list).to_dict()\n",
    "\n",
    "bestsellers_last_week = \\\n",
    "    bestsellers_previous_week[bestsellers_previous_week.week == bestsellers_previous_week.week.max()]['article_id'].tolist()"
   ],
   "metadata": {
    "collapsed": false,
    "ExecuteTime": {
     "end_time": "2023-12-06T01:08:06.645319400Z",
     "start_time": "2023-12-06T01:07:51.616832400Z"
    }
   }
  },
  {
   "cell_type": "code",
   "execution_count": 96,
   "outputs": [],
   "source": [
    "# perform precision at k evaluation on the test set\n",
    "test_week_purchases_by_cust = test.groupby('customer_id')['article_id'].apply(list).to_dict()"
   ],
   "metadata": {
    "collapsed": false,
    "ExecuteTime": {
     "end_time": "2023-12-06T01:08:14.059456800Z",
     "start_time": "2023-12-06T01:08:06.651837500Z"
    }
   }
  },
  {
   "cell_type": "code",
   "execution_count": 96,
   "outputs": [],
   "source": [
    "\n"
   ],
   "metadata": {
    "collapsed": false,
    "ExecuteTime": {
     "end_time": "2023-12-06T01:08:14.089569800Z",
     "start_time": "2023-12-06T01:08:14.060455600Z"
    }
   }
  },
  {
   "cell_type": "code",
   "execution_count": 97,
   "outputs": [
    {
     "data": {
      "text/plain": "[685816059,\n 919786002,\n 806388012,\n 924243002,\n 762846027,\n 918522001,\n 915529005,\n 924243001,\n 923758001,\n 909370001,\n 915529003,\n 448509014,\n 866731001,\n 714790020,\n 751471001]"
     },
     "execution_count": 97,
     "metadata": {},
     "output_type": "execute_result"
    }
   ],
   "source": [
    "c_id2predicted_article_ids[42984229297455520]"
   ],
   "metadata": {
    "collapsed": false,
    "ExecuteTime": {
     "end_time": "2023-12-06T01:08:14.151403900Z",
     "start_time": "2023-12-06T01:08:14.079082200Z"
    }
   }
  },
  {
   "cell_type": "code",
   "execution_count": 97,
   "outputs": [],
   "source": [
    "\n"
   ],
   "metadata": {
    "collapsed": false,
    "ExecuteTime": {
     "end_time": "2023-12-06T01:08:14.189336300Z",
     "start_time": "2023-12-06T01:08:14.092089800Z"
    }
   }
  },
  {
   "cell_type": "code",
   "execution_count": 98,
   "outputs": [
    {
     "data": {
      "text/plain": "1.0"
     },
     "execution_count": 98,
     "metadata": {},
     "output_type": "execute_result"
    }
   ],
   "source": [
    "# calculate the mean average precision at k for the test set\n",
    "calculate_apk([c_id2predicted_article_ids[c_id] for c_id in test_week_purchases_by_cust.keys()], test_week_purchases_by_cust.values())"
   ],
   "metadata": {
    "collapsed": false,
    "ExecuteTime": {
     "end_time": "2023-12-06T01:08:16.081500900Z",
     "start_time": "2023-12-06T01:08:14.213845600Z"
    }
   }
  },
  {
   "cell_type": "code",
   "execution_count": 98,
   "outputs": [],
   "source": [],
   "metadata": {
    "collapsed": false,
    "ExecuteTime": {
     "end_time": "2023-12-06T01:08:16.118177800Z",
     "start_time": "2023-12-06T01:08:16.081500900Z"
    }
   }
  },
  {
   "cell_type": "markdown",
   "source": [
    "# Create submission"
   ],
   "metadata": {
    "ExecuteTime": {
     "start_time": "2023-11-08T01:54:01.835042300Z"
    }
   }
  },
  {
   "cell_type": "code",
   "source": [
    "sub = pd.read_csv('..\\\\..\\\\Input\\\\Dataset\\\\sample_submission.csv')"
   ],
   "metadata": {
    "ExecuteTime": {
     "end_time": "2023-12-06T01:08:16.240317800Z",
     "start_time": "2023-12-06T01:08:16.100198100Z"
    }
   },
   "execution_count": 99,
   "outputs": [
    {
     "ename": "FileNotFoundError",
     "evalue": "[Errno 2] No such file or directory: '..\\\\..\\\\Input\\\\Dataset\\\\sample_submission.csv'",
     "output_type": "error",
     "traceback": [
      "\u001B[1;31m---------------------------------------------------------------------------\u001B[0m",
      "\u001B[1;31mFileNotFoundError\u001B[0m                         Traceback (most recent call last)",
      "Cell \u001B[1;32mIn[99], line 1\u001B[0m\n\u001B[1;32m----> 1\u001B[0m sub \u001B[38;5;241m=\u001B[39m \u001B[43mpd\u001B[49m\u001B[38;5;241;43m.\u001B[39;49m\u001B[43mread_csv\u001B[49m\u001B[43m(\u001B[49m\u001B[38;5;124;43m'\u001B[39;49m\u001B[38;5;124;43m..\u001B[39;49m\u001B[38;5;130;43;01m\\\\\u001B[39;49;00m\u001B[38;5;124;43m..\u001B[39;49m\u001B[38;5;130;43;01m\\\\\u001B[39;49;00m\u001B[38;5;124;43mInput\u001B[39;49m\u001B[38;5;130;43;01m\\\\\u001B[39;49;00m\u001B[38;5;124;43mDataset\u001B[39;49m\u001B[38;5;130;43;01m\\\\\u001B[39;49;00m\u001B[38;5;124;43msample_submission.csv\u001B[39;49m\u001B[38;5;124;43m'\u001B[39;49m\u001B[43m)\u001B[49m\n",
      "File \u001B[1;32mC:\\School\\2023-2024\\AI project\\win_venv\\lib\\site-packages\\pandas\\io\\parsers\\readers.py:948\u001B[0m, in \u001B[0;36mread_csv\u001B[1;34m(filepath_or_buffer, sep, delimiter, header, names, index_col, usecols, dtype, engine, converters, true_values, false_values, skipinitialspace, skiprows, skipfooter, nrows, na_values, keep_default_na, na_filter, verbose, skip_blank_lines, parse_dates, infer_datetime_format, keep_date_col, date_parser, date_format, dayfirst, cache_dates, iterator, chunksize, compression, thousands, decimal, lineterminator, quotechar, quoting, doublequote, escapechar, comment, encoding, encoding_errors, dialect, on_bad_lines, delim_whitespace, low_memory, memory_map, float_precision, storage_options, dtype_backend)\u001B[0m\n\u001B[0;32m    935\u001B[0m kwds_defaults \u001B[38;5;241m=\u001B[39m _refine_defaults_read(\n\u001B[0;32m    936\u001B[0m     dialect,\n\u001B[0;32m    937\u001B[0m     delimiter,\n\u001B[1;32m   (...)\u001B[0m\n\u001B[0;32m    944\u001B[0m     dtype_backend\u001B[38;5;241m=\u001B[39mdtype_backend,\n\u001B[0;32m    945\u001B[0m )\n\u001B[0;32m    946\u001B[0m kwds\u001B[38;5;241m.\u001B[39mupdate(kwds_defaults)\n\u001B[1;32m--> 948\u001B[0m \u001B[38;5;28;01mreturn\u001B[39;00m \u001B[43m_read\u001B[49m\u001B[43m(\u001B[49m\u001B[43mfilepath_or_buffer\u001B[49m\u001B[43m,\u001B[49m\u001B[43m \u001B[49m\u001B[43mkwds\u001B[49m\u001B[43m)\u001B[49m\n",
      "File \u001B[1;32mC:\\School\\2023-2024\\AI project\\win_venv\\lib\\site-packages\\pandas\\io\\parsers\\readers.py:611\u001B[0m, in \u001B[0;36m_read\u001B[1;34m(filepath_or_buffer, kwds)\u001B[0m\n\u001B[0;32m    608\u001B[0m _validate_names(kwds\u001B[38;5;241m.\u001B[39mget(\u001B[38;5;124m\"\u001B[39m\u001B[38;5;124mnames\u001B[39m\u001B[38;5;124m\"\u001B[39m, \u001B[38;5;28;01mNone\u001B[39;00m))\n\u001B[0;32m    610\u001B[0m \u001B[38;5;66;03m# Create the parser.\u001B[39;00m\n\u001B[1;32m--> 611\u001B[0m parser \u001B[38;5;241m=\u001B[39m TextFileReader(filepath_or_buffer, \u001B[38;5;241m*\u001B[39m\u001B[38;5;241m*\u001B[39mkwds)\n\u001B[0;32m    613\u001B[0m \u001B[38;5;28;01mif\u001B[39;00m chunksize \u001B[38;5;129;01mor\u001B[39;00m iterator:\n\u001B[0;32m    614\u001B[0m     \u001B[38;5;28;01mreturn\u001B[39;00m parser\n",
      "File \u001B[1;32mC:\\School\\2023-2024\\AI project\\win_venv\\lib\\site-packages\\pandas\\io\\parsers\\readers.py:1448\u001B[0m, in \u001B[0;36mTextFileReader.__init__\u001B[1;34m(self, f, engine, **kwds)\u001B[0m\n\u001B[0;32m   1445\u001B[0m     \u001B[38;5;28mself\u001B[39m\u001B[38;5;241m.\u001B[39moptions[\u001B[38;5;124m\"\u001B[39m\u001B[38;5;124mhas_index_names\u001B[39m\u001B[38;5;124m\"\u001B[39m] \u001B[38;5;241m=\u001B[39m kwds[\u001B[38;5;124m\"\u001B[39m\u001B[38;5;124mhas_index_names\u001B[39m\u001B[38;5;124m\"\u001B[39m]\n\u001B[0;32m   1447\u001B[0m \u001B[38;5;28mself\u001B[39m\u001B[38;5;241m.\u001B[39mhandles: IOHandles \u001B[38;5;241m|\u001B[39m \u001B[38;5;28;01mNone\u001B[39;00m \u001B[38;5;241m=\u001B[39m \u001B[38;5;28;01mNone\u001B[39;00m\n\u001B[1;32m-> 1448\u001B[0m \u001B[38;5;28mself\u001B[39m\u001B[38;5;241m.\u001B[39m_engine \u001B[38;5;241m=\u001B[39m \u001B[38;5;28;43mself\u001B[39;49m\u001B[38;5;241;43m.\u001B[39;49m\u001B[43m_make_engine\u001B[49m\u001B[43m(\u001B[49m\u001B[43mf\u001B[49m\u001B[43m,\u001B[49m\u001B[43m \u001B[49m\u001B[38;5;28;43mself\u001B[39;49m\u001B[38;5;241;43m.\u001B[39;49m\u001B[43mengine\u001B[49m\u001B[43m)\u001B[49m\n",
      "File \u001B[1;32mC:\\School\\2023-2024\\AI project\\win_venv\\lib\\site-packages\\pandas\\io\\parsers\\readers.py:1705\u001B[0m, in \u001B[0;36mTextFileReader._make_engine\u001B[1;34m(self, f, engine)\u001B[0m\n\u001B[0;32m   1703\u001B[0m     \u001B[38;5;28;01mif\u001B[39;00m \u001B[38;5;124m\"\u001B[39m\u001B[38;5;124mb\u001B[39m\u001B[38;5;124m\"\u001B[39m \u001B[38;5;129;01mnot\u001B[39;00m \u001B[38;5;129;01min\u001B[39;00m mode:\n\u001B[0;32m   1704\u001B[0m         mode \u001B[38;5;241m+\u001B[39m\u001B[38;5;241m=\u001B[39m \u001B[38;5;124m\"\u001B[39m\u001B[38;5;124mb\u001B[39m\u001B[38;5;124m\"\u001B[39m\n\u001B[1;32m-> 1705\u001B[0m \u001B[38;5;28mself\u001B[39m\u001B[38;5;241m.\u001B[39mhandles \u001B[38;5;241m=\u001B[39m \u001B[43mget_handle\u001B[49m\u001B[43m(\u001B[49m\n\u001B[0;32m   1706\u001B[0m \u001B[43m    \u001B[49m\u001B[43mf\u001B[49m\u001B[43m,\u001B[49m\n\u001B[0;32m   1707\u001B[0m \u001B[43m    \u001B[49m\u001B[43mmode\u001B[49m\u001B[43m,\u001B[49m\n\u001B[0;32m   1708\u001B[0m \u001B[43m    \u001B[49m\u001B[43mencoding\u001B[49m\u001B[38;5;241;43m=\u001B[39;49m\u001B[38;5;28;43mself\u001B[39;49m\u001B[38;5;241;43m.\u001B[39;49m\u001B[43moptions\u001B[49m\u001B[38;5;241;43m.\u001B[39;49m\u001B[43mget\u001B[49m\u001B[43m(\u001B[49m\u001B[38;5;124;43m\"\u001B[39;49m\u001B[38;5;124;43mencoding\u001B[39;49m\u001B[38;5;124;43m\"\u001B[39;49m\u001B[43m,\u001B[49m\u001B[43m \u001B[49m\u001B[38;5;28;43;01mNone\u001B[39;49;00m\u001B[43m)\u001B[49m\u001B[43m,\u001B[49m\n\u001B[0;32m   1709\u001B[0m \u001B[43m    \u001B[49m\u001B[43mcompression\u001B[49m\u001B[38;5;241;43m=\u001B[39;49m\u001B[38;5;28;43mself\u001B[39;49m\u001B[38;5;241;43m.\u001B[39;49m\u001B[43moptions\u001B[49m\u001B[38;5;241;43m.\u001B[39;49m\u001B[43mget\u001B[49m\u001B[43m(\u001B[49m\u001B[38;5;124;43m\"\u001B[39;49m\u001B[38;5;124;43mcompression\u001B[39;49m\u001B[38;5;124;43m\"\u001B[39;49m\u001B[43m,\u001B[49m\u001B[43m \u001B[49m\u001B[38;5;28;43;01mNone\u001B[39;49;00m\u001B[43m)\u001B[49m\u001B[43m,\u001B[49m\n\u001B[0;32m   1710\u001B[0m \u001B[43m    \u001B[49m\u001B[43mmemory_map\u001B[49m\u001B[38;5;241;43m=\u001B[39;49m\u001B[38;5;28;43mself\u001B[39;49m\u001B[38;5;241;43m.\u001B[39;49m\u001B[43moptions\u001B[49m\u001B[38;5;241;43m.\u001B[39;49m\u001B[43mget\u001B[49m\u001B[43m(\u001B[49m\u001B[38;5;124;43m\"\u001B[39;49m\u001B[38;5;124;43mmemory_map\u001B[39;49m\u001B[38;5;124;43m\"\u001B[39;49m\u001B[43m,\u001B[49m\u001B[43m \u001B[49m\u001B[38;5;28;43;01mFalse\u001B[39;49;00m\u001B[43m)\u001B[49m\u001B[43m,\u001B[49m\n\u001B[0;32m   1711\u001B[0m \u001B[43m    \u001B[49m\u001B[43mis_text\u001B[49m\u001B[38;5;241;43m=\u001B[39;49m\u001B[43mis_text\u001B[49m\u001B[43m,\u001B[49m\n\u001B[0;32m   1712\u001B[0m \u001B[43m    \u001B[49m\u001B[43merrors\u001B[49m\u001B[38;5;241;43m=\u001B[39;49m\u001B[38;5;28;43mself\u001B[39;49m\u001B[38;5;241;43m.\u001B[39;49m\u001B[43moptions\u001B[49m\u001B[38;5;241;43m.\u001B[39;49m\u001B[43mget\u001B[49m\u001B[43m(\u001B[49m\u001B[38;5;124;43m\"\u001B[39;49m\u001B[38;5;124;43mencoding_errors\u001B[39;49m\u001B[38;5;124;43m\"\u001B[39;49m\u001B[43m,\u001B[49m\u001B[43m \u001B[49m\u001B[38;5;124;43m\"\u001B[39;49m\u001B[38;5;124;43mstrict\u001B[39;49m\u001B[38;5;124;43m\"\u001B[39;49m\u001B[43m)\u001B[49m\u001B[43m,\u001B[49m\n\u001B[0;32m   1713\u001B[0m \u001B[43m    \u001B[49m\u001B[43mstorage_options\u001B[49m\u001B[38;5;241;43m=\u001B[39;49m\u001B[38;5;28;43mself\u001B[39;49m\u001B[38;5;241;43m.\u001B[39;49m\u001B[43moptions\u001B[49m\u001B[38;5;241;43m.\u001B[39;49m\u001B[43mget\u001B[49m\u001B[43m(\u001B[49m\u001B[38;5;124;43m\"\u001B[39;49m\u001B[38;5;124;43mstorage_options\u001B[39;49m\u001B[38;5;124;43m\"\u001B[39;49m\u001B[43m,\u001B[49m\u001B[43m \u001B[49m\u001B[38;5;28;43;01mNone\u001B[39;49;00m\u001B[43m)\u001B[49m\u001B[43m,\u001B[49m\n\u001B[0;32m   1714\u001B[0m \u001B[43m\u001B[49m\u001B[43m)\u001B[49m\n\u001B[0;32m   1715\u001B[0m \u001B[38;5;28;01massert\u001B[39;00m \u001B[38;5;28mself\u001B[39m\u001B[38;5;241m.\u001B[39mhandles \u001B[38;5;129;01mis\u001B[39;00m \u001B[38;5;129;01mnot\u001B[39;00m \u001B[38;5;28;01mNone\u001B[39;00m\n\u001B[0;32m   1716\u001B[0m f \u001B[38;5;241m=\u001B[39m \u001B[38;5;28mself\u001B[39m\u001B[38;5;241m.\u001B[39mhandles\u001B[38;5;241m.\u001B[39mhandle\n",
      "File \u001B[1;32mC:\\School\\2023-2024\\AI project\\win_venv\\lib\\site-packages\\pandas\\io\\common.py:863\u001B[0m, in \u001B[0;36mget_handle\u001B[1;34m(path_or_buf, mode, encoding, compression, memory_map, is_text, errors, storage_options)\u001B[0m\n\u001B[0;32m    858\u001B[0m \u001B[38;5;28;01melif\u001B[39;00m \u001B[38;5;28misinstance\u001B[39m(handle, \u001B[38;5;28mstr\u001B[39m):\n\u001B[0;32m    859\u001B[0m     \u001B[38;5;66;03m# Check whether the filename is to be opened in binary mode.\u001B[39;00m\n\u001B[0;32m    860\u001B[0m     \u001B[38;5;66;03m# Binary mode does not support 'encoding' and 'newline'.\u001B[39;00m\n\u001B[0;32m    861\u001B[0m     \u001B[38;5;28;01mif\u001B[39;00m ioargs\u001B[38;5;241m.\u001B[39mencoding \u001B[38;5;129;01mand\u001B[39;00m \u001B[38;5;124m\"\u001B[39m\u001B[38;5;124mb\u001B[39m\u001B[38;5;124m\"\u001B[39m \u001B[38;5;129;01mnot\u001B[39;00m \u001B[38;5;129;01min\u001B[39;00m ioargs\u001B[38;5;241m.\u001B[39mmode:\n\u001B[0;32m    862\u001B[0m         \u001B[38;5;66;03m# Encoding\u001B[39;00m\n\u001B[1;32m--> 863\u001B[0m         handle \u001B[38;5;241m=\u001B[39m \u001B[38;5;28;43mopen\u001B[39;49m\u001B[43m(\u001B[49m\n\u001B[0;32m    864\u001B[0m \u001B[43m            \u001B[49m\u001B[43mhandle\u001B[49m\u001B[43m,\u001B[49m\n\u001B[0;32m    865\u001B[0m \u001B[43m            \u001B[49m\u001B[43mioargs\u001B[49m\u001B[38;5;241;43m.\u001B[39;49m\u001B[43mmode\u001B[49m\u001B[43m,\u001B[49m\n\u001B[0;32m    866\u001B[0m \u001B[43m            \u001B[49m\u001B[43mencoding\u001B[49m\u001B[38;5;241;43m=\u001B[39;49m\u001B[43mioargs\u001B[49m\u001B[38;5;241;43m.\u001B[39;49m\u001B[43mencoding\u001B[49m\u001B[43m,\u001B[49m\n\u001B[0;32m    867\u001B[0m \u001B[43m            \u001B[49m\u001B[43merrors\u001B[49m\u001B[38;5;241;43m=\u001B[39;49m\u001B[43merrors\u001B[49m\u001B[43m,\u001B[49m\n\u001B[0;32m    868\u001B[0m \u001B[43m            \u001B[49m\u001B[43mnewline\u001B[49m\u001B[38;5;241;43m=\u001B[39;49m\u001B[38;5;124;43m\"\u001B[39;49m\u001B[38;5;124;43m\"\u001B[39;49m\u001B[43m,\u001B[49m\n\u001B[0;32m    869\u001B[0m \u001B[43m        \u001B[49m\u001B[43m)\u001B[49m\n\u001B[0;32m    870\u001B[0m     \u001B[38;5;28;01melse\u001B[39;00m:\n\u001B[0;32m    871\u001B[0m         \u001B[38;5;66;03m# Binary mode\u001B[39;00m\n\u001B[0;32m    872\u001B[0m         handle \u001B[38;5;241m=\u001B[39m \u001B[38;5;28mopen\u001B[39m(handle, ioargs\u001B[38;5;241m.\u001B[39mmode)\n",
      "\u001B[1;31mFileNotFoundError\u001B[0m: [Errno 2] No such file or directory: '..\\\\..\\\\Input\\\\Dataset\\\\sample_submission.csv'"
     ]
    }
   ]
  },
  {
   "cell_type": "code",
   "source": [
    "%%time\n",
    "preds = []\n",
    "for c_id in customer_hex_id_to_int(sub.customer_id):\n",
    "    pred = c_id2predicted_article_ids.get(c_id, [])\n",
    "    pred = pred + bestsellers_last_week\n",
    "    preds.append(pred[:12])"
   ],
   "metadata": {
    "ExecuteTime": {
     "start_time": "2023-12-06T01:08:16.240317800Z"
    }
   },
   "execution_count": null,
   "outputs": []
  },
  {
   "cell_type": "code",
   "source": [
    "preds = [' '.join(['0' + str(p) for p in ps]) for ps in preds]\n",
    "sub.prediction = preds"
   ],
   "metadata": {
    "ExecuteTime": {
     "end_time": "2023-12-06T01:08:16.277044600Z",
     "start_time": "2023-12-06T01:08:16.241823500Z"
    }
   },
   "execution_count": null,
   "outputs": []
  },
  {
   "cell_type": "code",
   "source": [
    "sub_name = 'basic_model_submission'\n",
    "sub.to_csv(f'..\\\\..\\\\..\\\\Output\\\\{sub_name}.csv', index=False)"
   ],
   "metadata": {
    "ExecuteTime": {
     "start_time": "2023-12-06T01:08:16.243837800Z"
    }
   },
   "execution_count": null,
   "outputs": []
  }
 ]
}
