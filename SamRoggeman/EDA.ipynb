{
 "cells": [
  {
   "cell_type": "markdown",
   "source": [
    "# Exploratory Data Analysis (EDA) of the H&M dataset\n",
    "## Setup\n",
    "Setup the environment, import the necessary libraries and datasets."
   ],
   "metadata": {
    "collapsed": false
   }
  },
  {
   "cell_type": "code",
   "execution_count": null,
   "metadata": {
    "collapsed": false,
    "jupyter": {
     "outputs_hidden": false
    },
    "is_executing": true,
    "ExecuteTime": {
     "start_time": "2023-10-02T20:56:50.562770900Z"
    }
   },
   "outputs": [
    {
     "name": "stdout",
     "output_type": "stream",
     "text": [
      "Importing articles dataset...\n",
      "\tDone\n",
      "Importing customers dataset...\n",
      "\tDone\n",
      "Importing transactions_train dataset...\n"
     ]
    }
   ],
   "source": [
    "#imports\n",
    "import pandas as pd\n",
    "import matplotlib\n",
    "# directory of the dataset\n",
    "data_dir = '..\\\\..\\\\Dataset\\\\'\n",
    "\n",
    "# import articles.csv into a pandas dataframe\n",
    "print(\"Importing articles dataset...\")\n",
    "articles = pd.read_csv(data_dir + 'articles.csv')\n",
    "print(\"\\tDone\")\n",
    "# import customers.csv into a pandas dataframe\n",
    "print(\"Importing customers dataset...\")\n",
    "customers = pd.read_csv(data_dir + 'customers.csv')\n",
    "print(\"\\tDone\")\n",
    "# import transactions_train.csv into a pandas dataframe\n",
    "print(\"Importing transactions_train dataset...\")\n",
    "transactions_train = pd.read_csv(data_dir + 'transactions_train.csv')\n",
    "print(\"\\tDone\")"
   ]
  },
  {
   "cell_type": "markdown",
   "source": [
    "## Articles\n",
    "We will start by exploring the articles dataset"
   ],
   "metadata": {
    "collapsed": false
   }
  },
  {
   "cell_type": "code",
   "execution_count": null,
   "metadata": {
    "collapsed": false,
    "jupyter": {
     "outputs_hidden": false
    },
    "is_executing": true
   },
   "outputs": [],
   "source": [
    "# number of unique article ids\n",
    "num_unq_article_ids = len(articles['article_id'].unique())\n",
    "# number of articles\n",
    "num_articles = len(articles)\n",
    "# print results\n",
    "print(f'Number of unique article ids: {num_unq_article_ids} \\nNumber of articles: {num_articles}')"
   ]
  },
  {
   "cell_type": "markdown",
   "source": [
    "As we can see, the number of unique article ids is equal to the number of articles. This means that there are no duplicates in the article_id column."
   ],
   "metadata": {
    "collapsed": false
   }
  },
  {
   "cell_type": "code",
   "execution_count": null,
   "metadata": {
    "collapsed": false,
    "jupyter": {
     "outputs_hidden": false
    },
    "is_executing": true
   },
   "outputs": [],
   "source": [
    "# Number of articles without a colour_group_name, where the colour_group_name is 'Unknown' without considering capitalization or where the colour_group_name is 'Undefined' without considering capitalization\n",
    "num_articles_no_colour_group_name = len(articles[articles['colour_group_name'].isnull()])\n",
    "num_articles_colour_group_name_unknown = len(articles[articles['colour_group_name'].str.lower() == 'unknown'])\n",
    "num_articles_colour_group_name_undefined = len(articles[articles['colour_group_name'].str.lower() == 'undefined'])\n",
    "# print results\n",
    "print(f'Number of articles without a colour_group_name: {num_articles_no_colour_group_name}')\n",
    "print(f'Number of articles where the colour_group_name is \\'Unknown\\': {num_articles_colour_group_name_unknown}')\n",
    "print(f'Number of articles where the colour_group_name is \\'Undefined\\': {num_articles_colour_group_name_undefined}')\n",
    "# Plot the distribution of the colour_group_name column in percentages, a title, a grid, a rotation of the labels and a bigger font size, increased spacing between the bars and labels\n",
    "articles['colour_group_name'].value_counts().plot(kind='bar', figsize=(15,15), title='Distribution of the colour_group_name column', fontsize = 8, rot = 70, grid = True, width = 0.7)"
   ]
  },
  {
   "cell_type": "markdown",
   "metadata": {
    "collapsed": false,
    "jupyter": {
     "outputs_hidden": false
    }
   },
   "source": [
    "In this snippet, we see that each article has a colour_group_name. However, there are some articles where the colour_group_name is 'Unknown' or 'Undefined'.\n",
    "In the plot we see that the most common colour_group_name is 'Black' followed by 'Blue' and 'Grey'.\n",
    "We will now explore the colour_master_name column."
   ]
  },
  {
   "cell_type": "code",
   "execution_count": null,
   "metadata": {
    "collapsed": false,
    "jupyter": {
     "outputs_hidden": false
    },
    "is_executing": true
   },
   "outputs": [],
   "source": [
    "# Number of articles without a colour_master_name\n",
    "# Number of articles where the perceived_colour_master_name is 'Unknown' without considering capitalization\n",
    "# Number of articles where the perceived_colour_master_name is 'Undefined' without considering capitalization\n",
    "num_articles_no_perceived_colour_master_name = len(articles[articles['perceived_colour_master_name'].isnull()])\n",
    "num_articles_perceived_colour_master_name_unknown = len(articles[articles['perceived_colour_master_name'].str.lower() == 'unknown'])\n",
    "num_articles_perceived_colour_master_name_undefined = len(articles[articles['perceived_colour_master_name'].str.lower() == 'undefined'])\n",
    "\n",
    "# print results\n",
    "print(f'Number of articles without a perceived_colour_master_name: {num_articles_no_colour_group_name}')\n",
    "print(f'Number of articles where the perceived_colour_master_name is \\'Unknown\\': {num_articles_perceived_colour_master_name_unknown}')\n",
    "print(f'Number of articles where the perceived_colour_master_name is \\'Undefined\\': {num_articles_perceived_colour_master_name_undefined}')\n",
    "\n",
    "\n",
    "# Plot the distribution of the perceived_colour_master_name column in a pie chart in percentages, a legend and no labels\n",
    "articles['perceived_colour_master_name'].value_counts(normalize=True).plot(kind='pie', legend=True, labels=None, autopct='%1.1f%%', figsize=(20,20), title='Distribution of the perceived_colour_master_name column', )\n",
    "\n",
    "\n"
   ]
  },
  {
   "cell_type": "markdown",
   "metadata": {
    "collapsed": false,
    "jupyter": {
     "outputs_hidden": false
    }
   },
   "source": [
    "In this snippet, we see that each article has a perceived_colour_master_name. However, there are some (=~790) articles where the perceived_colour_master_name is 'Unknown' or 'Undefined'.\n",
    "In the plot we see that the most common perceived_colour_master_name is 'Black' followed by 'Blue' and 'Grey'."
   ]
  },
  {
   "cell_type": "code",
   "execution_count": null,
   "metadata": {
    "collapsed": false,
    "jupyter": {
     "outputs_hidden": false
    },
    "is_executing": true
   },
   "outputs": [],
   "source": [
    "# Number of articles without a department_name and department_no\n",
    "num_articles_no_departement_name = len(articles[articles['department_name'].isnull()])\n",
    "num_articles_no_departement_no = len(articles[articles['department_no'].isnull()])\n",
    "minimum_departement_no = min(articles['department_no'])\n",
    "# number of unique department_no and department_name\n",
    "num_unq_departement_no = len(articles['department_no'].unique())\n",
    "num_unq_departement_name = len(articles['department_name'].unique())\n",
    "\n",
    "# print results\n",
    "print(f'Number of articles without a department_name: {num_articles_no_departement_name}')\n",
    "print(f'Number of articles without a department_no: {num_articles_no_departement_no}')\n",
    "print(f'Minimum department_no: {minimum_departement_no}')\n",
    "print(f'Number of unique department_no: {num_unq_departement_no}')\n",
    "print(f'Number of unique department_name: {num_unq_departement_name}')"
   ]
  },
  {
   "cell_type": "markdown",
   "metadata": {
    "collapsed": false,
    "jupyter": {
     "outputs_hidden": false
    }
   },
   "source": [
    "As we can see, there are no articles without a department_name or department_no. The minimum department_no is 1201.\n",
    "There are 299 unique department_no and 250 unique department_name, so there is no 1 to 1 relation. As such it is probably better to use department_no as the colunmn of interest (for location)."
   ]
  },
  {
   "cell_type": "code",
   "execution_count": null,
   "metadata": {
    "collapsed": false,
    "jupyter": {
     "outputs_hidden": false
    },
    "scrolled": true,
    "is_executing": true
   },
   "outputs": [],
   "source": [
    "# Number of articles without an index_code and index_name\n",
    "num_articles_no_index_code = len(articles[articles['index_code'].isnull()])\n",
    "num_articles_no_index_name = len(articles[articles['index_name'].isnull()])\n",
    "# print results\n",
    "print(f'Number of articles without an index_code: {num_articles_no_index_code}')\n",
    "print(f'Number of articles without an index_name: {num_articles_no_index_name}')\n",
    "# Plot the distribution of the index_name column in percentages\n",
    "articles['index_name'].value_counts(normalize=True).plot(kind='bar', figsize=(15,15), title='Distribution of the index_name column', rot = 70, grid = True, width = 0.7, fontsize=12)"
   ]
  },
  {
   "cell_type": "markdown",
   "metadata": {
    "collapsed": false,
    "jupyter": {
     "outputs_hidden": false
    }
   },
   "source": [
    "In this snippet, we see that each article has an index_name. Nothiing unexpected here."
   ]
  },
  {
   "cell_type": "code",
   "execution_count": null,
   "metadata": {
    "collapsed": false,
    "jupyter": {
     "outputs_hidden": false
    },
    "is_executing": true
   },
   "outputs": [],
   "source": [
    "# Nunber of articles without a detail_desc\n",
    "num_articles_no_detail_desc = len(articles[articles['detail_desc'].isnull()])\n",
    "# print results\n",
    "print(f'Number of articles without a detail_desc: {num_articles_no_detail_desc}')\n",
    "# Print articles that do not have a description\n",
    "print(articles[articles['detail_desc'].isnull()])"
   ]
  },
  {
   "cell_type": "markdown",
   "metadata": {
    "collapsed": false,
    "jupyter": {
     "outputs_hidden": false
    }
   },
   "source": [
    "We can see that some (~416) articles do not have a description.\n",
    "## Customers\n",
    "We will now explore the customers dataset. We will start by exploring the customer_id column."
   ]
  },
  {
   "cell_type": "code",
   "execution_count": null,
   "outputs": [],
   "source": [
    "# number of unique customer ids vs number of customers\n",
    "num_unq_customer_ids = len(customers['customer_id'].unique())\n",
    "num_customers = len(customers)\n",
    "# print results\n",
    "print(f'Number of unique customer ids: {num_unq_customer_ids} \\nNumber of customers: {num_customers}')\n",
    "\n"
   ],
   "metadata": {
    "collapsed": false,
    "is_executing": true
   }
  },
  {
   "cell_type": "markdown",
   "source": [
    "As we can see, the number of unique customer ids is equal to the number of customers. This means that there are no duplicates in the customer_id column and each row has a unique id.\n"
   ],
   "metadata": {
    "collapsed": false
   }
  },
  {
   "cell_type": "code",
   "execution_count": null,
   "outputs": [],
   "source": [
    "# find the max and min of the FN column, not counting Nan values\n",
    "max_FN = customers['FN'].max()\n",
    "min_FN = customers['FN'].min()\n",
    "# number of Fn values that are Nan\n",
    "num_FN_Nan = customers['FN'].isnull().sum()\n",
    "# number of fn values that are not nan\n",
    "num_FN_not_Nan = len(customers) - num_FN_Nan\n",
    "\n",
    "# print results\n",
    "print(f'Maximum FM: {max_FN} \\nMinimum FM: {min_FN}')\n",
    "print(f'Number of FN values that are Nan: {num_FN_Nan}')\n",
    "print(f'Number of FN values that are not Nan: {num_FN_not_Nan}')\n"
   ],
   "metadata": {
    "collapsed": false,
    "is_executing": true
   }
  },
  {
   "cell_type": "markdown",
   "source": [
    "We can see that about a third of the FN values are Nan. While the other rows have a FN value 1. Other than that it is not clear what the FN column represents."
   ],
   "metadata": {
    "collapsed": false
   }
  },
  {
   "cell_type": "code",
   "execution_count": null,
   "outputs": [],
   "source": [
    "# Find the max and min of the active column, not counting Nan values\n",
    "max_active = customers['Active'].max()\n",
    "min_active = customers['Active'].min()\n",
    "# number of active values that are Nan\n",
    "num_active_Nan = customers['Active'].isnull().sum()\n",
    "# number of active values that are not nan\n",
    "num_active_not_Nan = len(customers) - num_active_Nan\n",
    "\n",
    "# print results\n",
    "print(f'Maximum active: {max_active} \\nMinimum active: {min_active}')\n",
    "print(f'Number of active values that are Nan: {num_active_Nan}')\n",
    "print(f'Number of active values that are not Nan: {num_active_not_Nan}')\n"
   ],
   "metadata": {
    "collapsed": false,
    "is_executing": true
   }
  },
  {
   "cell_type": "markdown",
   "source": [
    "We can see that about a third of the active values are Nan. While the other rows have an active value 1. Other than that it is not clear what the active column represents. We will now look how those two relate to each other."
   ],
   "metadata": {
    "collapsed": false
   }
  },
  {
   "cell_type": "code",
   "execution_count": null,
   "outputs": [],
   "source": [
    "# select the rows where FN is Nan\n",
    "no_fn = customers[customers['FN'].isnull()]\n",
    "# select the rows where FN is not Nan\n",
    "no_fn_1 = customers[customers['FN'] == 1]\n",
    "\n",
    "# print results\n",
    "print(f'Number of rows where FN is Nan: {len(no_fn)}')\n",
    "print(f'Number of rows where FN is 1: {len(no_fn_1)}')\n",
    "# make a pie chart of the Active column where the number of occurences is counted, also count the Nan values\n",
    "fig, axes = matplotlib.pyplot.subplots(nrows=1, ncols=3)\n",
    "\n",
    "customers['Active'].value_counts(normalize=True, dropna=False).plot(kind='pie', legend=True, labels=None, autopct='%1.1f%%', figsize=(10,10), title='Distribution of the Active column', ax=axes[0])\n",
    "no_fn['Active'].value_counts(normalize=True, dropna=False).plot(kind='pie', legend=True, labels=None, autopct='%1.1f%%', figsize=(10,10), title='FN is Nan', ax=axes[1])\n",
    "no_fn_1['Active'].value_counts(normalize=True, dropna=False).plot(kind='pie', legend=True, labels=None, autopct='%1.1f%%', figsize=(10,10), title='FN = 1',ax=axes[2])"
   ],
   "metadata": {
    "collapsed": false,
    "is_executing": true
   }
  },
  {
   "cell_type": "markdown",
   "source": [
    "We can see that every row where FN is Nan, Active is also Nan. On the other side, about 97% of the rows where FN is 1, Active is also 1. They are probably linked in some way. But their use for our project remains to be seen.\n",
    "\n"
   ],
   "metadata": {
    "collapsed": false
   }
  },
  {
   "cell_type": "code",
   "execution_count": null,
   "outputs": [],
   "source": [
    "# Number of rows where the club_member_status is null\n",
    "num_club_member_status_null = len(customers[customers['club_member_status'].isnull()])\n",
    "# Number of rows where the club_member_status is not null\n",
    "num_club_member_status_not_null = len(customers) - num_club_member_status_null\n",
    "# print results\n",
    "print(f'Number of rows where the club_member_status is null: {num_club_member_status_null}')\n",
    "print(f'Number of rows where the club_member_status is not null: {num_club_member_status_not_null}')\n",
    "# Plot the distribution of the club_member_status column, logaritmic scale, including Nan values\n",
    "customers['club_member_status'].value_counts(dropna=False).plot(kind='bar', figsize=(10,10), title='Distribution of the club_member_status column', rot = 70, grid = True, width = 0.7, fontsize=12, logy=True)"
   ],
   "metadata": {
    "collapsed": false,
    "is_executing": true
   }
  },
  {
   "cell_type": "markdown",
   "source": [
    "It seems that 6062 rows have a null value for the club_member_status column. But the majority of the customers have either an active member status or are yet to create one. Some customers have left the club."
   ],
   "metadata": {
    "collapsed": false
   }
  },
  {
   "cell_type": "code",
   "execution_count": null,
   "outputs": [],
   "source": [
    "# Number of rows where the age is null\n",
    "num_age_null = len(customers[customers['age'].isnull()])\n",
    "# min and max age\n",
    "min_age = int(customers['age'].min())\n",
    "max_age = int(customers['age'].max())\n",
    "# round min_age to the floor 5\n",
    "min_age_rounded = min_age - (min_age % 5)\n",
    "# round max_age to the ceiling 5\n",
    "max_age_rounded = max_age + (5 - max_age % 5)\n",
    "\n",
    "# print results\n",
    "print(f'Number of rows where the age is null: {num_age_null}')\n",
    "print(f'Minimum age: {min_age}')\n",
    "print(f'Maximum age: {max_age}')\n",
    "# Plot the distribution of the age column, grouping the ages in bins of 5 years, label every 5 years, logaritmic scale\n",
    "customers['age'].plot(kind='hist', figsize=(10,10), title='Distribution of the age column', rot = 70, grid = True, width = 3, fontsize=12, bins=range(min_age_rounded, max_age_rounded, 5), logy=True, xticks=range(min_age_rounded, max_age_rounded, 5))"
   ],
   "metadata": {
    "collapsed": false,
    "is_executing": true
   }
  },
  {
   "cell_type": "markdown",
   "source": [
    "It is noticable that the about 16000 customers have a null value for the age column. Other than that there are no outliers in the age column."
   ],
   "metadata": {
    "collapsed": false
   }
  },
  {
   "cell_type": "code",
   "execution_count": null,
   "outputs": [],
   "source": [
    "# number of customers where the fashion_news_frequency is null\n",
    "num_fashion_news_frequency_null = len(customers[customers['fashion_news_frequency'].isnull()])\n",
    "\n",
    "# print results\n",
    "print(f'Number of customers where the fashion_news_frequency is null: {num_fashion_news_frequency_null}')\n",
    "# Plot the distribution of the fashion_news_frequency column, including Nan values\n",
    "customers['fashion_news_frequency'].value_counts(dropna=False, normalize=True).plot(kind='bar', figsize=(10,10), title='Distribution of the fashion_news_frequency column', rot = 0, grid = True, width = 0.7, fontsize=12)"
   ],
   "metadata": {
    "collapsed": false,
    "is_executing": true
   }
  },
  {
   "cell_type": "code",
   "execution_count": null,
   "outputs": [],
   "source": [
    "# Look at the relation between fashion_news_frequency and club_member_status\n",
    "# select the rows where the fashion_news_frequency is 'NONE'\n",
    "fashion_news_frequency_null = customers[customers['fashion_news_frequency'] == str('NONE')]\n",
    "# select the rows where the fashion_news_frequency is either Regularly or Monthly\n",
    "the_rest = customers[(customers['fashion_news_frequency'] == str('Regularly')) | (customers['fashion_news_frequency'] == str('Monthly'))]\n",
    "# print the customers who active 1 but have a fashion_news_frequency of 'NONE'\n",
    "# print results\n",
    "print(f'Number of customers where the fashion_news_frequency is \\'NONE\\': {len(fashion_news_frequency_null)}')\n",
    "print(f'Number of customers where the fashion_news_frequency is \\'Regularly\\' or \\'Monthly\\': {len(the_rest)}')\n",
    "# Plot a bar chart of the membership_status column for both the customers who have a fashion_news_frequency of 'NONE' and the customers who have a fashion_news_frequency of 'Regularly' or 'Monthly'\n",
    "fig, axes = matplotlib.pyplot.subplots(nrows=2, ncols=2)\n",
    "fig.tight_layout(pad=4.0)\n",
    "fashion_news_frequency_null['club_member_status'].value_counts(normalize=True).plot(kind='bar', legend=True, figsize=(10,10), title='fashion_news_frequency is \\'NONE\\'', ax=axes[0,0])\n",
    "the_rest['club_member_status'].value_counts(normalize=True).plot(kind='bar', legend=True, figsize=(10,10), title='fashion_news_frequency is \\'Regularly\\' or \\'Monthly\\'', ax=axes[0,1])\n",
    "fashion_news_frequency_null['Active'].value_counts(normalize=True, dropna=False).plot(kind='bar', legend=True, figsize=(10,10), title='\\'NONE\\' news', ax=axes[1,0])\n",
    "the_rest['Active'].value_counts(normalize=True, dropna=False).plot(kind='bar', legend=True, figsize=(10,10), title='\\'Regularly\\' or \\'Monthly\\' news', ax=axes[1,1])\n",
    "\n"
   ],
   "metadata": {
    "collapsed": false,
    "is_executing": true
   }
  },
  {
   "cell_type": "markdown",
   "source": [
    "The first two graphs do not really give us any information. However, the last two graphs show that the customers who have a fashion_news_frequency of 'NONE' are more likely to be inactive than the customers who have a fashion_news_frequency of 'Regularly' or 'Monthly'."
   ],
   "metadata": {
    "collapsed": false
   }
  }
 ],
 "metadata": {
  "kernelspec": {
   "display_name": "Python 3 (ipykernel)",
   "language": "python",
   "name": "python3"
  },
  "language_info": {
   "codemirror_mode": {
    "name": "ipython",
    "version": 3
   },
   "file_extension": ".py",
   "mimetype": "text/x-python",
   "name": "python",
   "nbconvert_exporter": "python",
   "pygments_lexer": "ipython3",
   "version": "3.10.11"
  }
 },
 "nbformat": 4,
 "nbformat_minor": 4
}
