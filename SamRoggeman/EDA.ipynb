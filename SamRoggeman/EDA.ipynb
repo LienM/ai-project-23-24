{
 "cells": [
  {
   "cell_type": "raw",
   "source": [
    "Setup"
   ],
   "metadata": {
    "collapsed": false
   }
  },
  {
   "cell_type": "code",
   "execution_count": 26,
   "outputs": [
    {
     "name": "stdout",
     "output_type": "stream",
     "text": [
      "Importing articles dataset...\n",
      "\tDone\n",
      "Importing customers dataset...\n",
      "\tDone\n",
      "Importing transactions_train dataset...\n",
      "\tDone\n"
     ]
    }
   ],
   "source": [
    "#imports\n",
    "import pandas as pd\n",
    "# directory of the dataset\n",
    "data_dir = '..\\\\..\\\\Dataset\\\\'\n",
    "# import articles.csv into a pandas dataframe\n",
    "print(\"Importing articles dataset...\")\n",
    "articles = pd.read_csv(data_dir + 'articles.csv')\n",
    "print(\"\\tDone\")\n",
    "# import customers.csv into a pandas dataframe\n",
    "print(\"Importing customers dataset...\")\n",
    "customers = pd.read_csv(data_dir + 'customers.csv')\n",
    "print(\"\\tDone\")\n",
    "# import transactions_train.csv into a pandas dataframe\n",
    "print(\"Importing transactions_train dataset...\")\n",
    "transactions_train = pd.read_csv(data_dir + 'transactions_train.csv')\n",
    "print(\"\\tDone\")"
   ],
   "metadata": {
    "collapsed": false,
    "ExecuteTime": {
     "end_time": "2023-09-27T20:45:42.366206100Z",
     "start_time": "2023-09-27T20:45:06.049810400Z"
    }
   }
  },
  {
   "cell_type": "raw",
   "source": [
    "Articles"
   ],
   "metadata": {
    "collapsed": false
   }
  },
  {
   "cell_type": "code",
   "execution_count": 24,
   "outputs": [
    {
     "name": "stdout",
     "output_type": "stream",
     "text": [
      "Number of unique article ids: 105542 \n",
      "Number of articles: 105542\n"
     ]
    }
   ],
   "source": [
    "# number of unique article ids\n",
    "num_unq_article_ids = len(articles['article_id'].unique())\n",
    "# number of articles\n",
    "num_articles = len(articles)\n",
    "# print results\n",
    "print(f'Number of unique article ids: {num_unq_article_ids} \\nNumber of articles: {num_articles}')"
   ],
   "metadata": {
    "collapsed": false,
    "ExecuteTime": {
     "end_time": "2023-09-27T20:36:29.369329700Z",
     "start_time": "2023-09-27T20:36:29.339551700Z"
    }
   }
  },
  {
   "cell_type": "code",
   "execution_count": 25,
   "outputs": [
    {
     "name": "stdout",
     "output_type": "stream",
     "text": [
      "Number of articles without a colour_group_name: 0\n"
     ]
    }
   ],
   "source": [
    "# Number of articles without a colour_group_name\n",
    "num_articles_no_colour_group_name = len(articles[articles['colour_group_name'].isnull()])\n",
    "# print results\n",
    "print(f'Number of articles without a colour_group_name: {num_articles_no_colour_group_name}')"
   ],
   "metadata": {
    "collapsed": false,
    "ExecuteTime": {
     "end_time": "2023-09-27T20:42:44.996972Z",
     "start_time": "2023-09-27T20:42:44.978077900Z"
    }
   }
  }
 ],
 "metadata": {
  "kernelspec": {
   "display_name": "Python 3",
   "language": "python",
   "name": "python3"
  },
  "language_info": {
   "codemirror_mode": {
    "name": "ipython",
    "version": 2
   },
   "file_extension": ".py",
   "mimetype": "text/x-python",
   "name": "python",
   "nbconvert_exporter": "python",
   "pygments_lexer": "ipython2",
   "version": "2.7.6"
  }
 },
 "nbformat": 4,
 "nbformat_minor": 0
}
