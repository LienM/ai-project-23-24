{
 "cells": [
  {
   "cell_type": "markdown",
   "source": [
    "# Feature engineering\n",
    "Week 2"
   ],
   "metadata": {
    "collapsed": false
   },
   "id": "ae14b07f572afb47"
  },
  {
   "cell_type": "code",
   "execution_count": 56,
   "id": "initial_id",
   "metadata": {
    "collapsed": true,
    "ExecuteTime": {
     "end_time": "2023-10-10T23:13:59.628056Z",
     "start_time": "2023-10-10T23:13:59.582046200Z"
    }
   },
   "outputs": [],
   "source": [
    "import pandas as pd\n",
    "import seaborn as sns\n",
    "from sklearn.preprocessing import LabelEncoder"
   ]
  },
  {
   "cell_type": "code",
   "execution_count": 57,
   "outputs": [],
   "source": [
    "path = \"Data/\"\n",
    "transactions_train = pd.read_parquet(path + 'transactions_train.parquet')\n",
    "customers = pd.read_parquet(path + 'customers.parquet')\n",
    "articles = pd.read_parquet(path + 'articles.parquet')"
   ],
   "metadata": {
    "collapsed": false,
    "ExecuteTime": {
     "end_time": "2023-10-10T23:14:00.439247900Z",
     "start_time": "2023-10-10T23:13:59.598048600Z"
    }
   },
   "id": "6ab3264dab7c0455"
  },
  {
   "cell_type": "markdown",
   "source": [
    "# Preferred perceived colour group feature\n",
    "Customers often tend to have a preference for a specific perceived colour group (some people always wear dark etc). \n"
   ],
   "metadata": {
    "collapsed": false
   },
   "id": "f17173ef2b5ddda5"
  },
  {
   "cell_type": "code",
   "execution_count": 58,
   "outputs": [],
   "source": [
    "merged = pd.merge(transactions_train, articles[['article_id','perceived_colour_value_id']], on='article_id')\n",
    "color = {}\n",
    "\n",
    "# Go through each customer and find their favorites\n",
    "for customer, customer_data in merged.groupby(\"customer_id\"):\n",
    "    color[customer] = customer_data[\"perceived_colour_value_id\"].value_counts().idxmax()\n",
    "    \n",
    "\n",
    "# Create a new composite feature\n",
    "customers[\"favourite_colour\"] = customers[\"customer_id\"].map(color)"
   ],
   "metadata": {
    "collapsed": false,
    "ExecuteTime": {
     "end_time": "2023-10-10T23:16:25.620728600Z",
     "start_time": "2023-10-10T23:14:00.440248500Z"
    }
   },
   "id": "bd8c848bef1ef0e8"
  },
  {
   "cell_type": "markdown",
   "source": [
    "# Customer price deviation\n",
    "We can calculate the standard deviation of the prices of articles purchased for each customer. Detecting this low deviation might be very useful information because it indicates that the customer has a very specific price range."
   ],
   "metadata": {
    "collapsed": false
   },
   "id": "2f56be380e59b960"
  },
  {
   "cell_type": "code",
   "execution_count": 59,
   "outputs": [],
   "source": [
    "# For each customer calculate the standard deviation of the prices of the transactions\n",
    "price_sensitivity = transactions_train.groupby('customer_id')['price'].std().reset_index()\n",
    "price_sensitivity.rename(columns={'price': 'price_sensitivity'}, inplace=True)\n",
    "\n",
    "# When a customer has only one transaction, there is no standard deviation, so fill with 0\n",
    "price_sensitivity['price_sensitivity'].fillna(0, inplace=True)\n",
    "\n",
    "customers = pd.merge(customers, price_sensitivity, on='customer_id', how='left')\n",
    "\n",
    "# Customers with no transactions should get value 0\n",
    "customers['price_sensitivity'].fillna(0, inplace=True)"
   ],
   "metadata": {
    "collapsed": false,
    "ExecuteTime": {
     "end_time": "2023-10-10T23:16:27.057064700Z",
     "start_time": "2023-10-10T23:16:25.620728600Z"
    }
   },
   "id": "b9e2d1cec85270dd"
  },
  {
   "cell_type": "markdown",
   "source": [
    "# Online channel ratio\n",
    "We can calculate the ratio of online transactions for each customer. This feature might be useful because it indicates how much a customer prefers to shop online and online shopping behaviour might be totally different from shopping behavior in physical stores.\n"
   ],
   "metadata": {
    "collapsed": false
   },
   "id": "422da4c01c377499"
  },
  {
   "cell_type": "code",
   "execution_count": 60,
   "outputs": [],
   "source": [
    "# creating a dataframe with total amount of transactions and amount of online transactions for each customer\n",
    "total_transactions = transactions_train.groupby('customer_id').size()\n",
    "online_transactions = transactions_train[transactions_train['sales_channel_id'] == 2].groupby('customer_id').size()\n",
    "feature = pd.DataFrame({'total_transactions': total_transactions, 'online_transactions': online_transactions}).reset_index()\n",
    "\n",
    "# Customers who never made an online purchase should get value 0\n",
    "feature['online_transactions'].fillna(0, inplace=True)\n",
    "\n",
    "# Calculating the ratio\n",
    "feature['online_ratio'] = feature['online_transactions'] / feature['total_transactions']\n",
    "\n",
    "# Merge channel_affinity feature into the customers DataFrame\n",
    "customers = pd.merge(customers, feature[['customer_id', 'online_ratio']], on='customer_id')\n",
    "\n",
    "# Customers who never made an online purchase should get value 0\n",
    "customers['online_ratio'].fillna(0, inplace=True)"
   ],
   "metadata": {
    "collapsed": false,
    "ExecuteTime": {
     "end_time": "2023-10-10T23:16:29.694689500Z",
     "start_time": "2023-10-10T23:16:27.058065400Z"
    }
   },
   "id": "f44d70d626c4ca0e"
  },
  {
   "cell_type": "code",
   "execution_count": 61,
   "outputs": [],
   "source": [
    "customers.to_parquet(path + 'customers_edited.parquet')"
   ],
   "metadata": {
    "collapsed": false,
    "ExecuteTime": {
     "end_time": "2023-10-10T23:16:29.964750500Z",
     "start_time": "2023-10-10T23:16:29.694689500Z"
    }
   },
   "id": "79d5a71641594d57"
  }
 ],
 "metadata": {
  "kernelspec": {
   "display_name": "Python 3",
   "language": "python",
   "name": "python3"
  },
  "language_info": {
   "codemirror_mode": {
    "name": "ipython",
    "version": 2
   },
   "file_extension": ".py",
   "mimetype": "text/x-python",
   "name": "python",
   "nbconvert_exporter": "python",
   "pygments_lexer": "ipython2",
   "version": "2.7.6"
  }
 },
 "nbformat": 4,
 "nbformat_minor": 5
}
