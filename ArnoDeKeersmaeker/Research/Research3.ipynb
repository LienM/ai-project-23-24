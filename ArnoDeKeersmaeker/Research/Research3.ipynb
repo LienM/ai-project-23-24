{
 "cells": [
  {
   "cell_type": "markdown",
   "source": [
    "# Autumn scores with segments #"
   ],
   "metadata": {
    "collapsed": false
   },
   "id": "3931865d991ee1d3"
  },
  {
   "cell_type": "code",
   "execution_count": 134,
   "outputs": [],
   "source": [
    "import pandas as pd\n",
    "import seaborn as sns\n",
    "import matplotlib.pyplot as plt\n",
    "import numpy as np\n",
    "from sklearn.preprocessing import MinMaxScaler\n",
    "from lightgbm.sklearn import LGBMRanker\n",
    "from experiment_template import *\n",
    "import os as os"
   ],
   "metadata": {
    "collapsed": false,
    "ExecuteTime": {
     "end_time": "2023-12-05T22:16:05.634356Z",
     "start_time": "2023-12-05T22:16:05.515131800Z"
    }
   },
   "id": "initial_id"
  },
  {
   "cell_type": "code",
   "execution_count": 135,
   "outputs": [
    {
     "name": "stdout",
     "output_type": "stream",
     "text": [
      "C:\\Users\\Arno\\Documents\\GitHub\\ai-project-23-24\\ArnoDeKeersmaeker\\Research\n"
     ]
    }
   ],
   "source": [
    "path = \"../Data/\"\n",
    "testing = False\n",
    "print(os.getcwd())\n",
    "transactions_train = pd.read_parquet(path + 'transactions_train.parquet')\n",
    "customers = pd.read_parquet(path + 'customers.parquet')\n",
    "articles = pd.read_parquet(path + 'articles.parquet')\n",
    "sample_submission = pd.read_csv(path + 'sample_submission.csv')"
   ],
   "metadata": {
    "collapsed": false,
    "ExecuteTime": {
     "end_time": "2023-12-05T22:16:08.134379900Z",
     "start_time": "2023-12-05T22:16:05.525148200Z"
    }
   },
   "id": "7cdfc3d97fe55e09"
  },
  {
   "cell_type": "code",
   "execution_count": 136,
   "outputs": [
    {
     "data": {
      "text/plain": "           t_dat       customer_id  article_id     price  sales_channel_id  \\\n25784 2018-09-20  1728846800780188   519773001  0.028458                 2   \n25785 2018-09-20  1728846800780188   578472001  0.032525                 2   \n5389  2018-09-20  2076973761519164   661795002  0.167797                 2   \n5390  2018-09-20  2076973761519164   684080003  0.101678                 2   \n47429 2018-09-20  2918879973994241   662980001  0.033881                 1   \n\n       week  \n25784     0  \n25785     0  \n5389      0  \n5390      0  \n47429     0  ",
      "text/html": "<div>\n<style scoped>\n    .dataframe tbody tr th:only-of-type {\n        vertical-align: middle;\n    }\n\n    .dataframe tbody tr th {\n        vertical-align: top;\n    }\n\n    .dataframe thead th {\n        text-align: right;\n    }\n</style>\n<table border=\"1\" class=\"dataframe\">\n  <thead>\n    <tr style=\"text-align: right;\">\n      <th></th>\n      <th>t_dat</th>\n      <th>customer_id</th>\n      <th>article_id</th>\n      <th>price</th>\n      <th>sales_channel_id</th>\n      <th>week</th>\n    </tr>\n  </thead>\n  <tbody>\n    <tr>\n      <th>25784</th>\n      <td>2018-09-20</td>\n      <td>1728846800780188</td>\n      <td>519773001</td>\n      <td>0.028458</td>\n      <td>2</td>\n      <td>0</td>\n    </tr>\n    <tr>\n      <th>25785</th>\n      <td>2018-09-20</td>\n      <td>1728846800780188</td>\n      <td>578472001</td>\n      <td>0.032525</td>\n      <td>2</td>\n      <td>0</td>\n    </tr>\n    <tr>\n      <th>5389</th>\n      <td>2018-09-20</td>\n      <td>2076973761519164</td>\n      <td>661795002</td>\n      <td>0.167797</td>\n      <td>2</td>\n      <td>0</td>\n    </tr>\n    <tr>\n      <th>5390</th>\n      <td>2018-09-20</td>\n      <td>2076973761519164</td>\n      <td>684080003</td>\n      <td>0.101678</td>\n      <td>2</td>\n      <td>0</td>\n    </tr>\n    <tr>\n      <th>47429</th>\n      <td>2018-09-20</td>\n      <td>2918879973994241</td>\n      <td>662980001</td>\n      <td>0.033881</td>\n      <td>1</td>\n      <td>0</td>\n    </tr>\n  </tbody>\n</table>\n</div>"
     },
     "execution_count": 136,
     "metadata": {},
     "output_type": "execute_result"
    }
   ],
   "source": [
    "transactions_train.head()"
   ],
   "metadata": {
    "collapsed": false,
    "ExecuteTime": {
     "end_time": "2023-12-05T22:16:08.151068700Z",
     "start_time": "2023-12-05T22:16:08.135390Z"
    }
   },
   "id": "5ec05ab31f8b36b3"
  },
  {
   "cell_type": "markdown",
   "source": [
    "## Grouping transactions into seasons ##\n",
    "Seasons can be defined below. The current season is the season that is used for comparing trends with the other seasons."
   ],
   "metadata": {
    "collapsed": false
   },
   "id": "8208c979a103d989"
  },
  {
   "cell_type": "code",
   "execution_count": 137,
   "outputs": [],
   "source": [
    "# Define periods here\n",
    "seasons = {\n",
    "    \"Summer\": [6,7,8],\n",
    "    \"Autumn\": [9,10,11],\n",
    "    \"Winter\": [12,1,2],\n",
    "    \"Spring\": [3,4,5]\n",
    "}\n",
    "# Define the name of the current period (end of September)\n",
    "current_season = \"Autumn\"\n",
    "\n",
    "##### SANITY CHECKS #####\n",
    "assert current_season in seasons.keys() # Current period exists\n",
    "assert set(month_nr for month_nrs in seasons.values() for month_nr in month_nrs) == set(range(1,13)) # Valid month numbers\n",
    "assert len([month_nr for month_nrs in seasons.values() for month_nr in month_nrs]) == 12 # Exactly 12 months\n",
    "#########################\n",
    "\n",
    "inverted = {month_nr: period for period, month_nrs in seasons.items() for month_nr in month_nrs} # For more efficient lookup\n",
    "\n",
    "def get_season(month_nr):\n",
    "    assert month_nr in range(1,13) # dataset check\n",
    "    return inverted[month_nr]\n",
    "\n",
    "transactions_train[\"t_dat\"] = pd.to_datetime(transactions_train[\"t_dat\"])\n",
    "transactions_train[\"season\"] = transactions_train[\"t_dat\"].dt.month.apply(get_season) # month number to season name"
   ],
   "metadata": {
    "collapsed": false,
    "ExecuteTime": {
     "end_time": "2023-12-05T22:16:13.611815200Z",
     "start_time": "2023-12-05T22:16:08.150067900Z"
    }
   },
   "id": "61c8333e12d7c0"
  },
  {
   "cell_type": "code",
   "execution_count": 138,
   "outputs": [
    {
     "data": {
      "text/plain": "           t_dat       customer_id  article_id     price  sales_channel_id  \\\n25784 2018-09-20  1728846800780188   519773001  0.028458                 2   \n25785 2018-09-20  1728846800780188   578472001  0.032525                 2   \n5389  2018-09-20  2076973761519164   661795002  0.167797                 2   \n5390  2018-09-20  2076973761519164   684080003  0.101678                 2   \n47429 2018-09-20  2918879973994241   662980001  0.033881                 1   \n\n       week  season  \n25784     0  Autumn  \n25785     0  Autumn  \n5389      0  Autumn  \n5390      0  Autumn  \n47429     0  Autumn  ",
      "text/html": "<div>\n<style scoped>\n    .dataframe tbody tr th:only-of-type {\n        vertical-align: middle;\n    }\n\n    .dataframe tbody tr th {\n        vertical-align: top;\n    }\n\n    .dataframe thead th {\n        text-align: right;\n    }\n</style>\n<table border=\"1\" class=\"dataframe\">\n  <thead>\n    <tr style=\"text-align: right;\">\n      <th></th>\n      <th>t_dat</th>\n      <th>customer_id</th>\n      <th>article_id</th>\n      <th>price</th>\n      <th>sales_channel_id</th>\n      <th>week</th>\n      <th>season</th>\n    </tr>\n  </thead>\n  <tbody>\n    <tr>\n      <th>25784</th>\n      <td>2018-09-20</td>\n      <td>1728846800780188</td>\n      <td>519773001</td>\n      <td>0.028458</td>\n      <td>2</td>\n      <td>0</td>\n      <td>Autumn</td>\n    </tr>\n    <tr>\n      <th>25785</th>\n      <td>2018-09-20</td>\n      <td>1728846800780188</td>\n      <td>578472001</td>\n      <td>0.032525</td>\n      <td>2</td>\n      <td>0</td>\n      <td>Autumn</td>\n    </tr>\n    <tr>\n      <th>5389</th>\n      <td>2018-09-20</td>\n      <td>2076973761519164</td>\n      <td>661795002</td>\n      <td>0.167797</td>\n      <td>2</td>\n      <td>0</td>\n      <td>Autumn</td>\n    </tr>\n    <tr>\n      <th>5390</th>\n      <td>2018-09-20</td>\n      <td>2076973761519164</td>\n      <td>684080003</td>\n      <td>0.101678</td>\n      <td>2</td>\n      <td>0</td>\n      <td>Autumn</td>\n    </tr>\n    <tr>\n      <th>47429</th>\n      <td>2018-09-20</td>\n      <td>2918879973994241</td>\n      <td>662980001</td>\n      <td>0.033881</td>\n      <td>1</td>\n      <td>0</td>\n      <td>Autumn</td>\n    </tr>\n  </tbody>\n</table>\n</div>"
     },
     "execution_count": 138,
     "metadata": {},
     "output_type": "execute_result"
    }
   ],
   "source": [
    "transactions_train.head()"
   ],
   "metadata": {
    "collapsed": false,
    "ExecuteTime": {
     "end_time": "2023-12-05T22:16:13.629500Z",
     "start_time": "2023-12-05T22:16:13.611815200Z"
    }
   },
   "id": "70704c92f8580d8f"
  },
  {
   "cell_type": "markdown",
   "source": [
    "## Grouping customers into segments ##\n",
    "Trends are different for people in different segments (age group etc). Therefore, we need group customers into segments.\n",
    "Segments will have entirely separated score calculations."
   ],
   "metadata": {
    "collapsed": false
   },
   "id": "74a6f6adf0e94811"
  },
  {
   "cell_type": "code",
   "execution_count": 139,
   "outputs": [
    {
     "data": {
      "text/plain": "                  customer_id  FN  Active  club_member_status  \\\n0         6883939031699146327  -1      -1                   0   \n1        11246327431398957306  -1      -1                   0   \n2        18439897732908966680  -1      -1                   0   \n3        18352672461570950206  -1      -1                   0   \n4        18162778555210377306   1       1                   0   \n...                       ...  ..     ...                 ...   \n1371975   7551062398649767985  -1      -1                   0   \n1371976   9305341941720086711  -1      -1                   0   \n1371977  10160427316885688932   1       1                   0   \n1371978   2551401172826382186   1       1                   0   \n1371979  16929951892735599169  -1      -1                   1   \n\n         fashion_news_frequency  age  postal_code  \n0                             0   49         6305  \n1                             0   25        33726  \n2                             0   24         3247  \n3                             0   54       168643  \n4                             1   52       168645  \n...                         ...  ...          ...  \n1371975                       0   24        50351  \n1371976                       0   21        80169  \n1371977                       1   21       106737  \n1371978                       1   18       111894  \n1371979                       0   65       352898  \n\n[1371980 rows x 7 columns]",
      "text/html": "<div>\n<style scoped>\n    .dataframe tbody tr th:only-of-type {\n        vertical-align: middle;\n    }\n\n    .dataframe tbody tr th {\n        vertical-align: top;\n    }\n\n    .dataframe thead th {\n        text-align: right;\n    }\n</style>\n<table border=\"1\" class=\"dataframe\">\n  <thead>\n    <tr style=\"text-align: right;\">\n      <th></th>\n      <th>customer_id</th>\n      <th>FN</th>\n      <th>Active</th>\n      <th>club_member_status</th>\n      <th>fashion_news_frequency</th>\n      <th>age</th>\n      <th>postal_code</th>\n    </tr>\n  </thead>\n  <tbody>\n    <tr>\n      <th>0</th>\n      <td>6883939031699146327</td>\n      <td>-1</td>\n      <td>-1</td>\n      <td>0</td>\n      <td>0</td>\n      <td>49</td>\n      <td>6305</td>\n    </tr>\n    <tr>\n      <th>1</th>\n      <td>11246327431398957306</td>\n      <td>-1</td>\n      <td>-1</td>\n      <td>0</td>\n      <td>0</td>\n      <td>25</td>\n      <td>33726</td>\n    </tr>\n    <tr>\n      <th>2</th>\n      <td>18439897732908966680</td>\n      <td>-1</td>\n      <td>-1</td>\n      <td>0</td>\n      <td>0</td>\n      <td>24</td>\n      <td>3247</td>\n    </tr>\n    <tr>\n      <th>3</th>\n      <td>18352672461570950206</td>\n      <td>-1</td>\n      <td>-1</td>\n      <td>0</td>\n      <td>0</td>\n      <td>54</td>\n      <td>168643</td>\n    </tr>\n    <tr>\n      <th>4</th>\n      <td>18162778555210377306</td>\n      <td>1</td>\n      <td>1</td>\n      <td>0</td>\n      <td>1</td>\n      <td>52</td>\n      <td>168645</td>\n    </tr>\n    <tr>\n      <th>...</th>\n      <td>...</td>\n      <td>...</td>\n      <td>...</td>\n      <td>...</td>\n      <td>...</td>\n      <td>...</td>\n      <td>...</td>\n    </tr>\n    <tr>\n      <th>1371975</th>\n      <td>7551062398649767985</td>\n      <td>-1</td>\n      <td>-1</td>\n      <td>0</td>\n      <td>0</td>\n      <td>24</td>\n      <td>50351</td>\n    </tr>\n    <tr>\n      <th>1371976</th>\n      <td>9305341941720086711</td>\n      <td>-1</td>\n      <td>-1</td>\n      <td>0</td>\n      <td>0</td>\n      <td>21</td>\n      <td>80169</td>\n    </tr>\n    <tr>\n      <th>1371977</th>\n      <td>10160427316885688932</td>\n      <td>1</td>\n      <td>1</td>\n      <td>0</td>\n      <td>1</td>\n      <td>21</td>\n      <td>106737</td>\n    </tr>\n    <tr>\n      <th>1371978</th>\n      <td>2551401172826382186</td>\n      <td>1</td>\n      <td>1</td>\n      <td>0</td>\n      <td>1</td>\n      <td>18</td>\n      <td>111894</td>\n    </tr>\n    <tr>\n      <th>1371979</th>\n      <td>16929951892735599169</td>\n      <td>-1</td>\n      <td>-1</td>\n      <td>1</td>\n      <td>0</td>\n      <td>65</td>\n      <td>352898</td>\n    </tr>\n  </tbody>\n</table>\n<p>1371980 rows × 7 columns</p>\n</div>"
     },
     "execution_count": 139,
     "metadata": {},
     "output_type": "execute_result"
    }
   ],
   "source": [
    "# Prepare the customers dataframe for segmentation\n",
    "\n",
    "average_age = int(customers[customers['age'] != -1]['age'].mean()) # do not include -1 for average age\n",
    "customers['age'] = customers['age'].replace(-1, int(average_age))\n",
    "\n",
    "\n",
    "##### SANITY CHECKS #####\n",
    "assert all(customers['age'] != -1) # no more -1 values\n",
    "assert not customers[\"age\"].hasnans\n",
    "#########################\n",
    "\n",
    "customers"
   ],
   "metadata": {
    "collapsed": false,
    "ExecuteTime": {
     "end_time": "2023-12-05T22:16:13.722633100Z",
     "start_time": "2023-12-05T22:16:13.628146700Z"
    }
   },
   "id": "8624fac23ec975c1"
  },
  {
   "cell_type": "code",
   "execution_count": 140,
   "outputs": [
    {
     "name": "stdout",
     "output_type": "stream",
     "text": [
      "Customer segments: ['age_young']\n"
     ]
    },
    {
     "data": {
      "text/plain": "                  customer_id  FN  Active  club_member_status  \\\n0         6883939031699146327  -1      -1                   0   \n1        11246327431398957306  -1      -1                   0   \n2        18439897732908966680  -1      -1                   0   \n3        18352672461570950206  -1      -1                   0   \n4        18162778555210377306   1       1                   0   \n...                       ...  ..     ...                 ...   \n1371975   7551062398649767985  -1      -1                   0   \n1371976   9305341941720086711  -1      -1                   0   \n1371977  10160427316885688932   1       1                   0   \n1371978   2551401172826382186   1       1                   0   \n1371979  16929951892735599169  -1      -1                   1   \n\n         fashion_news_frequency  age  postal_code    segment  \n0                             0   49         6305  age_young  \n1                             0   25        33726  age_young  \n2                             0   24         3247  age_young  \n3                             0   54       168643  age_young  \n4                             1   52       168645  age_young  \n...                         ...  ...          ...        ...  \n1371975                       0   24        50351  age_young  \n1371976                       0   21        80169  age_young  \n1371977                       1   21       106737  age_young  \n1371978                       1   18       111894  age_young  \n1371979                       0   65       352898  age_young  \n\n[1371980 rows x 8 columns]",
      "text/html": "<div>\n<style scoped>\n    .dataframe tbody tr th:only-of-type {\n        vertical-align: middle;\n    }\n\n    .dataframe tbody tr th {\n        vertical-align: top;\n    }\n\n    .dataframe thead th {\n        text-align: right;\n    }\n</style>\n<table border=\"1\" class=\"dataframe\">\n  <thead>\n    <tr style=\"text-align: right;\">\n      <th></th>\n      <th>customer_id</th>\n      <th>FN</th>\n      <th>Active</th>\n      <th>club_member_status</th>\n      <th>fashion_news_frequency</th>\n      <th>age</th>\n      <th>postal_code</th>\n      <th>segment</th>\n    </tr>\n  </thead>\n  <tbody>\n    <tr>\n      <th>0</th>\n      <td>6883939031699146327</td>\n      <td>-1</td>\n      <td>-1</td>\n      <td>0</td>\n      <td>0</td>\n      <td>49</td>\n      <td>6305</td>\n      <td>age_young</td>\n    </tr>\n    <tr>\n      <th>1</th>\n      <td>11246327431398957306</td>\n      <td>-1</td>\n      <td>-1</td>\n      <td>0</td>\n      <td>0</td>\n      <td>25</td>\n      <td>33726</td>\n      <td>age_young</td>\n    </tr>\n    <tr>\n      <th>2</th>\n      <td>18439897732908966680</td>\n      <td>-1</td>\n      <td>-1</td>\n      <td>0</td>\n      <td>0</td>\n      <td>24</td>\n      <td>3247</td>\n      <td>age_young</td>\n    </tr>\n    <tr>\n      <th>3</th>\n      <td>18352672461570950206</td>\n      <td>-1</td>\n      <td>-1</td>\n      <td>0</td>\n      <td>0</td>\n      <td>54</td>\n      <td>168643</td>\n      <td>age_young</td>\n    </tr>\n    <tr>\n      <th>4</th>\n      <td>18162778555210377306</td>\n      <td>1</td>\n      <td>1</td>\n      <td>0</td>\n      <td>1</td>\n      <td>52</td>\n      <td>168645</td>\n      <td>age_young</td>\n    </tr>\n    <tr>\n      <th>...</th>\n      <td>...</td>\n      <td>...</td>\n      <td>...</td>\n      <td>...</td>\n      <td>...</td>\n      <td>...</td>\n      <td>...</td>\n      <td>...</td>\n    </tr>\n    <tr>\n      <th>1371975</th>\n      <td>7551062398649767985</td>\n      <td>-1</td>\n      <td>-1</td>\n      <td>0</td>\n      <td>0</td>\n      <td>24</td>\n      <td>50351</td>\n      <td>age_young</td>\n    </tr>\n    <tr>\n      <th>1371976</th>\n      <td>9305341941720086711</td>\n      <td>-1</td>\n      <td>-1</td>\n      <td>0</td>\n      <td>0</td>\n      <td>21</td>\n      <td>80169</td>\n      <td>age_young</td>\n    </tr>\n    <tr>\n      <th>1371977</th>\n      <td>10160427316885688932</td>\n      <td>1</td>\n      <td>1</td>\n      <td>0</td>\n      <td>1</td>\n      <td>21</td>\n      <td>106737</td>\n      <td>age_young</td>\n    </tr>\n    <tr>\n      <th>1371978</th>\n      <td>2551401172826382186</td>\n      <td>1</td>\n      <td>1</td>\n      <td>0</td>\n      <td>1</td>\n      <td>18</td>\n      <td>111894</td>\n      <td>age_young</td>\n    </tr>\n    <tr>\n      <th>1371979</th>\n      <td>16929951892735599169</td>\n      <td>-1</td>\n      <td>-1</td>\n      <td>1</td>\n      <td>0</td>\n      <td>65</td>\n      <td>352898</td>\n      <td>age_young</td>\n    </tr>\n  </tbody>\n</table>\n<p>1371980 rows × 8 columns</p>\n</div>"
     },
     "execution_count": 140,
     "metadata": {},
     "output_type": "execute_result"
    }
   ],
   "source": [
    "# segment definition   column_name -> dict {column_value -> segment_name}\n",
    "segments = {\n",
    "    # \"age\" : {float(age): \"young\" if age < 35 else \"middle\" for age in range(0,120)},\n",
    "    # \"FN\" : {1.0 : \"yes_FN\", -1.0: \"no_FN\"},\n",
    "    \"age\" : {float(age): \"age_young\" for age in range(0,120)}\n",
    "}\n",
    "\n",
    "segmented_customers = customers.copy()\n",
    "segment_names = set()\n",
    "\n",
    "def assign_segment(row):\n",
    "    # Decide the segment for a single customer\n",
    "    segment_name = [segments[column][row[column]] for column in segments] # find label for each column\n",
    "    segment_name = \"/\".join(segment_name) # composite segment name eg \"age_young/yes_FN\"\n",
    "    segment_names.add(segment_name)\n",
    "    return segment_name\n",
    "\n",
    "# Apply to every customer\n",
    "segmented_customers['segment'] = segmented_customers.apply(assign_segment, axis=1)\n",
    "\n",
    "segment_names = list(segment_names)\n",
    "print(f\"Customer segments: {segment_names}\")\n",
    "\n",
    "##### SANITY CHECKS #####\n",
    "for column in segments.keys(): assert column in customers.columns # columns that determine segments need to exist\n",
    "assert len(segmented_customers) == len(customers) # divides all customers into segments\n",
    "assert all(segment_name not in customers.columns for segment_name in segment_names) # segment names will be added as columns so need to be new\n",
    "assert all(segment_name not in articles.columns for segment_name in segment_names)\n",
    "assert all(segment_name not in transactions_train.columns for segment_name in segment_names)\n",
    "#########################\n",
    "\n",
    "segmented_customers"
   ],
   "metadata": {
    "collapsed": false,
    "ExecuteTime": {
     "end_time": "2023-12-05T22:16:17.538681Z",
     "start_time": "2023-12-05T22:16:13.706952400Z"
    }
   },
   "id": "be2b9c02522df743"
  },
  {
   "cell_type": "code",
   "execution_count": 141,
   "outputs": [],
   "source": [
    "# Other attributes become irrelevant after determining the segment\n",
    "segmented_customers = segmented_customers[['customer_id', 'segment']]\n",
    "\n",
    "# Add segment to transactions, so we can split them up later\n",
    "transactions = pd.merge(transactions_train, segmented_customers, on=\"customer_id\") # add segment to customers\n",
    "assert len(transactions) == len(transactions_train)"
   ],
   "metadata": {
    "collapsed": false,
    "ExecuteTime": {
     "end_time": "2023-12-05T22:16:22.760350500Z",
     "start_time": "2023-12-05T22:16:17.537683900Z"
    }
   },
   "id": "c46dfff4a5c44688"
  },
  {
   "cell_type": "code",
   "execution_count": 142,
   "outputs": [],
   "source": [
    "# split the transactions: segment_name -> transactions\n",
    "transactions_per_segment = {}\n",
    "\n",
    "\n",
    "for segment_name in segment_names:\n",
    "    transactions_per_segment[segment_name] = transactions[transactions['segment'] == segment_name]"
   ],
   "metadata": {
    "collapsed": false,
    "ExecuteTime": {
     "end_time": "2023-12-05T22:16:24.380219100Z",
     "start_time": "2023-12-05T22:16:22.761366800Z"
    }
   },
   "id": "b05356a8460703a"
  },
  {
   "cell_type": "markdown",
   "source": [
    "## Initial visualizations ##\n",
    "To check whether the segments and seasons make sense"
   ],
   "metadata": {
    "collapsed": false
   },
   "id": "d8fb304d23c5ba81"
  },
  {
   "cell_type": "code",
   "execution_count": 143,
   "outputs": [],
   "source": [
    "def pie_plot(data_column, title):\n",
    "    counts = data_column.value_counts()\n",
    "    assert counts.sum() == len(data_column)\n",
    "    \n",
    "    plt.pie(counts, labels=counts.index, autopct='%1.1f%%')\n",
    "    plt.axis('equal')\n",
    "    plt.title(title)\n",
    "    plt.show()"
   ],
   "metadata": {
    "collapsed": false,
    "ExecuteTime": {
     "end_time": "2023-12-05T22:16:24.396607400Z",
     "start_time": "2023-12-05T22:16:24.382580600Z"
    }
   },
   "id": "59400f40c86e5919"
  },
  {
   "cell_type": "code",
   "execution_count": 144,
   "outputs": [
    {
     "data": {
      "text/plain": "<Figure size 640x480 with 1 Axes>",
      "image/png": "[encoded data removed]"
     },
     "metadata": {},
     "output_type": "display_data"
    },
    {
     "data": {
      "text/plain": "<Figure size 640x480 with 1 Axes>",
      "image/png": "[encoded data removed]"
     },
     "metadata": {},
     "output_type": "display_data"
    },
    {
     "data": {
      "text/plain": "<Figure size 640x480 with 1 Axes>",
      "image/png": "[encoded data removed]"
     },
     "metadata": {},
     "output_type": "display_data"
    },
    {
     "data": {
      "text/plain": "<Figure size 640x480 with 1 Axes>",
      "image/png": "[encoded data removed]"
     },
     "metadata": {},
     "output_type": "display_data"
    }
   ],
   "source": [
    "#Visualize segment sizes\n",
    "pie_plot(segmented_customers['segment'], \"Segment size (amount of customers)\")\n",
    "pie_plot(transactions['segment'], \"Segment size (amount of transactions)\")\n",
    "pie_plot(transactions['season'], \"Season size across all segments (amount of transactions)\")\n",
    "for segment_name in segment_names:\n",
    "    pie_plot(transactions_per_segment[segment_name]['season'], f\"Season size for segment {segment_name} (amount of transactions)\")"
   ],
   "metadata": {
    "collapsed": false,
    "ExecuteTime": {
     "end_time": "2023-12-05T22:16:26.276253100Z",
     "start_time": "2023-12-05T22:16:24.397980600Z"
    }
   },
   "id": "e37c92b1fddb6f7e"
  },
  {
   "cell_type": "markdown",
   "source": [
    "## Calculating feature scores ##\n",
    "Use increases or decreases in sales of articles with a specific feature (eg. color=blue) of a season compared to all seasons to calculate a score for that feature."
   ],
   "metadata": {
    "collapsed": false
   },
   "id": "47a326de406963b0"
  },
  {
   "cell_type": "code",
   "execution_count": 145,
   "outputs": [
    {
     "data": {
      "text/plain": "              t_dat           customer_id  article_id     price  \\\n0        2018-09-20      1728846800780188   519773001  0.028458   \n1        2018-09-20      1728846800780188   578472001  0.032525   \n2        2018-10-05      1728846800780188   533518001  0.047441   \n3        2018-10-05      1728846800780188   569981006  0.020322   \n4        2018-10-05      1728846800780188   669393001  0.067797   \n...             ...                   ...         ...       ...   \n31788319 2020-09-22  18409112236320621348   621381014  0.033881   \n31788320 2020-09-22  18417769707947924979   729860001  0.022017   \n31788321 2020-09-22  18417769707947924979   889747001  0.022017   \n31788322 2020-09-22  18417769707947924979   778517001  0.022017   \n31788323 2020-09-22  18417769707947924979   872002001  0.011847   \n\n          sales_channel_id  week  season    segment  \n0                        2     0  Autumn  age_young  \n1                        2     0  Autumn  age_young  \n2                        2     2  Autumn  age_young  \n3                        2     2  Autumn  age_young  \n4                        2     2  Autumn  age_young  \n...                    ...   ...     ...        ...  \n31788319                 2   104  Autumn  age_young  \n31788320                 2   104  Autumn  age_young  \n31788321                 2   104  Autumn  age_young  \n31788322                 2   104  Autumn  age_young  \n31788323                 2   104  Autumn  age_young  \n\n[31788324 rows x 8 columns]",
      "text/html": "<div>\n<style scoped>\n    .dataframe tbody tr th:only-of-type {\n        vertical-align: middle;\n    }\n\n    .dataframe tbody tr th {\n        vertical-align: top;\n    }\n\n    .dataframe thead th {\n        text-align: right;\n    }\n</style>\n<table border=\"1\" class=\"dataframe\">\n  <thead>\n    <tr style=\"text-align: right;\">\n      <th></th>\n      <th>t_dat</th>\n      <th>customer_id</th>\n      <th>article_id</th>\n      <th>price</th>\n      <th>sales_channel_id</th>\n      <th>week</th>\n      <th>season</th>\n      <th>segment</th>\n    </tr>\n  </thead>\n  <tbody>\n    <tr>\n      <th>0</th>\n      <td>2018-09-20</td>\n      <td>1728846800780188</td>\n      <td>519773001</td>\n      <td>0.028458</td>\n      <td>2</td>\n      <td>0</td>\n      <td>Autumn</td>\n      <td>age_young</td>\n    </tr>\n    <tr>\n      <th>1</th>\n      <td>2018-09-20</td>\n      <td>1728846800780188</td>\n      <td>578472001</td>\n      <td>0.032525</td>\n      <td>2</td>\n      <td>0</td>\n      <td>Autumn</td>\n      <td>age_young</td>\n    </tr>\n    <tr>\n      <th>2</th>\n      <td>2018-10-05</td>\n      <td>1728846800780188</td>\n      <td>533518001</td>\n      <td>0.047441</td>\n      <td>2</td>\n      <td>2</td>\n      <td>Autumn</td>\n      <td>age_young</td>\n    </tr>\n    <tr>\n      <th>3</th>\n      <td>2018-10-05</td>\n      <td>1728846800780188</td>\n      <td>569981006</td>\n      <td>0.020322</td>\n      <td>2</td>\n      <td>2</td>\n      <td>Autumn</td>\n      <td>age_young</td>\n    </tr>\n    <tr>\n      <th>4</th>\n      <td>2018-10-05</td>\n      <td>1728846800780188</td>\n      <td>669393001</td>\n      <td>0.067797</td>\n      <td>2</td>\n      <td>2</td>\n      <td>Autumn</td>\n      <td>age_young</td>\n    </tr>\n    <tr>\n      <th>...</th>\n      <td>...</td>\n      <td>...</td>\n      <td>...</td>\n      <td>...</td>\n      <td>...</td>\n      <td>...</td>\n      <td>...</td>\n      <td>...</td>\n    </tr>\n    <tr>\n      <th>31788319</th>\n      <td>2020-09-22</td>\n      <td>18409112236320621348</td>\n      <td>621381014</td>\n      <td>0.033881</td>\n      <td>2</td>\n      <td>104</td>\n      <td>Autumn</td>\n      <td>age_young</td>\n    </tr>\n    <tr>\n      <th>31788320</th>\n      <td>2020-09-22</td>\n      <td>18417769707947924979</td>\n      <td>729860001</td>\n      <td>0.022017</td>\n      <td>2</td>\n      <td>104</td>\n      <td>Autumn</td>\n      <td>age_young</td>\n    </tr>\n    <tr>\n      <th>31788321</th>\n      <td>2020-09-22</td>\n      <td>18417769707947924979</td>\n      <td>889747001</td>\n      <td>0.022017</td>\n      <td>2</td>\n      <td>104</td>\n      <td>Autumn</td>\n      <td>age_young</td>\n    </tr>\n    <tr>\n      <th>31788322</th>\n      <td>2020-09-22</td>\n      <td>18417769707947924979</td>\n      <td>778517001</td>\n      <td>0.022017</td>\n      <td>2</td>\n      <td>104</td>\n      <td>Autumn</td>\n      <td>age_young</td>\n    </tr>\n    <tr>\n      <th>31788323</th>\n      <td>2020-09-22</td>\n      <td>18417769707947924979</td>\n      <td>872002001</td>\n      <td>0.011847</td>\n      <td>2</td>\n      <td>104</td>\n      <td>Autumn</td>\n      <td>age_young</td>\n    </tr>\n  </tbody>\n</table>\n<p>31788324 rows × 8 columns</p>\n</div>"
     },
     "execution_count": 145,
     "metadata": {},
     "output_type": "execute_result"
    }
   ],
   "source": [
    "# Each segment has an entry in the transactions_per_segment dictionary\n",
    "next(iter(transactions_per_segment.values()))"
   ],
   "metadata": {
    "collapsed": false,
    "ExecuteTime": {
     "end_time": "2023-12-05T22:16:26.298770200Z",
     "start_time": "2023-12-05T22:16:26.268628800Z"
    }
   },
   "id": "52fc7748f17adeff"
  },
  {
   "cell_type": "code",
   "execution_count": 146,
   "outputs": [],
   "source": [
    "# (segment_name, feature_name) -> {feature_value -> score}\n",
    "# eg: for people under 35, the score of a blue article is 1.2\n",
    "all_scores = {} \n",
    "\n",
    "# features to use for calculating seasonal score\n",
    "features = [\"product_type_name\", \"product_group_name\", \"graphical_appearance_name\", \"colour_group_name\", \"perceived_colour_value_name\", \"perceived_colour_master_name\", \"department_name\", \"index_name\", \"index_group_name\", \"section_name\", \"garment_group_name\"]"
   ],
   "metadata": {
    "collapsed": false,
    "ExecuteTime": {
     "end_time": "2023-12-05T22:16:26.298770200Z",
     "start_time": "2023-12-05T22:16:26.284401900Z"
    }
   },
   "id": "1198c29ee4ed88b9"
  },
  {
   "cell_type": "code",
   "execution_count": 147,
   "outputs": [],
   "source": [
    "# # As seen in the visualizations above, the amount of transactions differs per season\n",
    "# # Therefore, we can't just absolutely count the amount of transactions per feature\n",
    "# \n",
    "# \n",
    "# # for each segment, find the relative size of the current season compared to all seasons\n",
    "# relative_size_per_segment = {}\n",
    "# \n",
    "# # calculated fully separated based on segment\n",
    "# for segment_name, segment in transactions_per_segment.items():\n",
    "#     current_period_size = len(segment[segment['season'] == current_season]) # amount of transactions in current season\n",
    "#     all_periods_size = len(segment) # amount of transactions in all seasons\n",
    "#     relative_size_per_segment[segment_name] = current_period_size / all_periods_size\n",
    "# \n",
    "# relative_size_per_segment\n",
    "\n",
    "\n",
    "# # for each segment, calculate all scores separately\n",
    "# for segment_name, segment_transactions in transactions_per_segment.items():\n",
    "#     print(f\"Current segment: {segment_name}\")\n",
    "#     segment_transactions = pd.merge(segment_transactions, articles, on=\"article_id\")\n",
    "# \n",
    "#     # find the ratio for each feature\n",
    "#     for feature in features:\n",
    "#         seasonal_sales_by_type = segment_transactions.groupby([\"season\", feature])[\"article_id\"].size().reset_index(name=\"count\")\n",
    "#         assert seasonal_sales_by_type[\"count\"].sum() == len(segment_transactions)\n",
    "#         relative_season_size = 1 / relative_size_per_segment[segment_name] # relative size of the current season compared to all seasons\n",
    "# \n",
    "#         # Calculate the average sales over all seasons for each feature type (eg average sales of an article that's blue)\n",
    "#         type_average_sales = seasonal_sales_by_type.groupby([feature])[\"count\"].sum().div(relative_season_size).reset_index(name = \"avg_all_seasons\")\n",
    "# \n",
    "#         # Only current season is relevant from now on\n",
    "#         seasonal_sales_by_type = seasonal_sales_by_type[seasonal_sales_by_type[\"season\"] == current_season]\n",
    "#         seasonal_sales_by_type = seasonal_sales_by_type.merge(type_average_sales, on=feature)\n",
    "#         seasonal_sales_by_type[\"season_ratio\"] = seasonal_sales_by_type[\"count\"] / seasonal_sales_by_type[\"avg_all_seasons\"]\n",
    "# \n",
    "#         # # Only keeping the 75% most sold combinations\n",
    "#         # threshold = seasonal_sales_by_type[\"count\"].quantile(0.25)\n",
    "#         # seasonal_sales_by_type = seasonal_sales_by_type[seasonal_sales_by_type[\"count\"] > threshold]\n",
    "# \n",
    "#         # Creating a ratio look up table\n",
    "#         seasonal_sales_by_type = seasonal_sales_by_type[[feature, \"season_ratio\"]]\n",
    "#         seasonal_sales_by_type = seasonal_sales_by_type.rename(columns = {feature: \"feature\"})\n",
    "# \n",
    "#         # Save together with the other segments\n",
    "#         all_scores[(segment_name, feature)] = seasonal_sales_by_type.set_index(\"feature\").to_dict()[\"season_ratio\"]\n",
    "# print(\"Done\")"
   ],
   "metadata": {
    "collapsed": false,
    "ExecuteTime": {
     "end_time": "2023-12-05T22:16:26.360736400Z",
     "start_time": "2023-12-05T22:16:26.303017Z"
    }
   },
   "id": "2aea2017e345fdc6"
  },
  {
   "cell_type": "code",
   "execution_count": 148,
   "outputs": [
    {
     "name": "stdout",
     "output_type": "stream",
     "text": [
      "Current segment: age_young\n"
     ]
    }
   ],
   "source": [
    "# Less confusing implementation with the same result\n",
    "# For each feature and each segment\n",
    "# STEP 1. Calculating the ratio of purchases of a feature (eg. color blue) in the current season\n",
    "# STEP 2. Calculating the ratio of purchases of a feature (eg. color blue) in all seasons\n",
    "# STEP 3. Taking the ratio of the two ratios -> how much more popular is the feature in the current season compared to all seasons\n",
    "\n",
    "# for each segment, calculate all scores separately\n",
    "for segment_name, segment_transactions in transactions_per_segment.items():\n",
    "    print(f\"Current segment: {segment_name}\")\n",
    "    segment_transactions = pd.merge(segment_transactions, articles, on=\"article_id\")\n",
    "    current_season_transactions = segment_transactions[segment_transactions[\"season\"] == current_season] # only relevant season\n",
    "\n",
    "    # find the ratio for each feature\n",
    "    for feature in features:\n",
    "        # STEP 1\n",
    "        # For each possible value of the feature, check how many times it was sold in the current season\n",
    "        current_season_ratio = current_season_transactions.groupby([feature])[\"article_id\"].size().reset_index(name=\"count\")\n",
    "        \n",
    "        # Then calculate the ratio of that feature value compared to all purchases in the current season\n",
    "        current_season_ratio[\"current_season_ratio\"] = current_season_ratio[\"count\"] / current_season_ratio[\"count\"].sum()\n",
    "        current_season_ratio = current_season_ratio[[feature, \"current_season_ratio\"]] # keep relevant columns\n",
    "        \n",
    "        \n",
    "        # STEP 2\n",
    "        # Same as step 1, but for all seasons\n",
    "        all_seasons_ratio = segment_transactions\n",
    "        all_seasons_ratio = all_seasons_ratio.groupby([feature])[\"article_id\"].size().reset_index(name=\"count\")\n",
    "        all_seasons_ratio[\"all_seasons_ratio\"] = all_seasons_ratio[\"count\"] / all_seasons_ratio[\"count\"].sum()\n",
    "        all_seasons_ratio = all_seasons_ratio[[feature, \"all_seasons_ratio\"]]\n",
    "        \n",
    "        # STEP 3\n",
    "        # Merge the two tables and calculate the ratio of the two ratios\n",
    "        score = pd.merge(current_season_ratio, all_seasons_ratio, on=feature) \n",
    "        score[\"season_ratio\"] = score[\"current_season_ratio\"] / score[\"all_seasons_ratio\"]\n",
    "        score = score[[feature, \"season_ratio\"]]\n",
    "        score = score.rename(columns = {feature: \"feature\"})\n",
    "\n",
    "\n",
    "        ##### SANITY CHECKS #####\n",
    "        assert len(score) == len(current_season_transactions[feature].unique()) # every feature value that occurs in the current season gets a score\n",
    "        assert score[\"season_ratio\"].min() >= 0\n",
    "        #########################\n",
    "        \n",
    "\n",
    "        # Save together with the other segments\n",
    "        all_scores[(segment_name, feature)] = score.set_index(\"feature\").to_dict()[\"season_ratio\"]\n",
    "# print(\"Done\")"
   ],
   "metadata": {
    "collapsed": false,
    "ExecuteTime": {
     "end_time": "2023-12-05T22:16:38.001095500Z",
     "start_time": "2023-12-05T22:16:26.317388200Z"
    }
   },
   "id": "256e4d1da391afab"
  },
  {
   "cell_type": "code",
   "execution_count": 149,
   "outputs": [],
   "source": [
    "# all_scores[(\"age_young\", \"product_type_name\")]"
   ],
   "metadata": {
    "collapsed": false,
    "ExecuteTime": {
     "end_time": "2023-12-05T22:16:38.018324400Z",
     "start_time": "2023-12-05T22:16:38.002158100Z"
    }
   },
   "id": "5949a772c05a241b"
  },
  {
   "cell_type": "markdown",
   "source": [
    "## Calculating article scores ##\n",
    "Use the feature scores to calculate a score for each article."
   ],
   "metadata": {
    "collapsed": false
   },
   "id": "a59f3388a48b9843"
  },
  {
   "cell_type": "code",
   "execution_count": 150,
   "outputs": [],
   "source": [
    "# Calculate the season compatibility scores for each article\n",
    "# The score of an article is the sum of the scores of its features\n",
    "\n",
    "def create_article_scores(article):\n",
    "    result = [0 for _ in range(len(segment_names))] # all counters start at 0\n",
    "    \n",
    "    # feature by feature, segment by segment\n",
    "    for feature in features:\n",
    "        feature_value = article[feature] # the feature value of the article (e.g. color blue)\n",
    "        for i, segment_name in enumerate(segment_names):\n",
    "            score_table = all_scores[(segment_name, feature)] # table that gives the feature score of a segment\n",
    "            if not feature_value in score_table:\n",
    "                continue\n",
    "            result[i] += score_table[feature_value] # sum (better than multiplication)\n",
    "            \n",
    "    ##### SANITY CHECKS #####\n",
    "    assert len(result) == len(segment_names) # one score for each segment\n",
    "    assert all(res >= 0 for res in result)\n",
    "    #########################\n",
    "    \n",
    "    return pd.Series(result)"
   ],
   "metadata": {
    "collapsed": false,
    "ExecuteTime": {
     "end_time": "2023-12-05T22:16:38.036293100Z",
     "start_time": "2023-12-05T22:16:38.020325400Z"
    }
   },
   "id": "133c10d382478bbf"
  },
  {
   "cell_type": "code",
   "execution_count": 151,
   "outputs": [
    {
     "data": {
      "text/plain": "   article_id  age_young\n0   108775015   0.423286\n1   108775044   0.330456\n2   108775051   0.338925\n3   110065001   0.364676\n4   110065002   0.271845",
      "text/html": "<div>\n<style scoped>\n    .dataframe tbody tr th:only-of-type {\n        vertical-align: middle;\n    }\n\n    .dataframe tbody tr th {\n        vertical-align: top;\n    }\n\n    .dataframe thead th {\n        text-align: right;\n    }\n</style>\n<table border=\"1\" class=\"dataframe\">\n  <thead>\n    <tr style=\"text-align: right;\">\n      <th></th>\n      <th>article_id</th>\n      <th>age_young</th>\n    </tr>\n  </thead>\n  <tbody>\n    <tr>\n      <th>0</th>\n      <td>108775015</td>\n      <td>0.423286</td>\n    </tr>\n    <tr>\n      <th>1</th>\n      <td>108775044</td>\n      <td>0.330456</td>\n    </tr>\n    <tr>\n      <th>2</th>\n      <td>108775051</td>\n      <td>0.338925</td>\n    </tr>\n    <tr>\n      <th>3</th>\n      <td>110065001</td>\n      <td>0.364676</td>\n    </tr>\n    <tr>\n      <th>4</th>\n      <td>110065002</td>\n      <td>0.271845</td>\n    </tr>\n  </tbody>\n</table>\n</div>"
     },
     "execution_count": 151,
     "metadata": {},
     "output_type": "execute_result"
    }
   ],
   "source": [
    "articles_scores = pd.DataFrame(articles[\"article_id\"]) # create a dataframe with only the article id\n",
    "\n",
    "# Create a column for each segment, containing the score of the article for that segment\n",
    "articles_scores[segment_names] = articles.apply(create_article_scores, axis=1, result_type=\"expand\")\n",
    "\n",
    "# Normalize the scores for each segment\n",
    "for segment_name in segment_names:\n",
    "    articles_scores[segment_name] = MinMaxScaler().fit_transform(articles_scores[[segment_name]])\n",
    "\n",
    "##### SANITY CHECKS #####\n",
    "assert len(articles_scores) == len(articles)\n",
    "assert all(0 <= score <= 1 for score in articles_scores[segment_names].values.flatten()) # scores are normalized\n",
    "#########################\n",
    "\n",
    "articles_scores.head()"
   ],
   "metadata": {
    "collapsed": false,
    "ExecuteTime": {
     "end_time": "2023-12-05T22:16:45.711734800Z",
     "start_time": "2023-12-05T22:16:38.034787500Z"
    }
   },
   "id": "311d6cc55379b292"
  },
  {
   "cell_type": "code",
   "execution_count": 152,
   "outputs": [],
   "source": [
    "articles_scores.to_parquet(path + 'articles_edited2.parquet')"
   ],
   "metadata": {
    "collapsed": false,
    "ExecuteTime": {
     "end_time": "2023-12-05T22:16:45.846722700Z",
     "start_time": "2023-12-05T22:16:45.707348200Z"
    }
   },
   "id": "f55c7ea112a5dc2d"
  },
  {
   "cell_type": "markdown",
   "source": [
    "## Customer sensitivity ##\n",
    "Use historical transactions of customers to calculate how sensitive they are to the trends of the current season."
   ],
   "metadata": {
    "collapsed": false
   },
   "id": "daa5a074441bd864"
  },
  {
   "cell_type": "code",
   "execution_count": 153,
   "outputs": [
    {
     "data": {
      "text/plain": "        customer_id  article_id  age_young    segment\n0  1728846800780188   519773001   0.742832  age_young\n1  1728846800780188   578472001   0.640314  age_young\n2  2076973761519164   661795002   0.647760  age_young\n3  2076973761519164   684080003   0.669953  age_young\n4  2918879973994241   662980001   0.770488  age_young",
      "text/html": "<div>\n<style scoped>\n    .dataframe tbody tr th:only-of-type {\n        vertical-align: middle;\n    }\n\n    .dataframe tbody tr th {\n        vertical-align: top;\n    }\n\n    .dataframe thead th {\n        text-align: right;\n    }\n</style>\n<table border=\"1\" class=\"dataframe\">\n  <thead>\n    <tr style=\"text-align: right;\">\n      <th></th>\n      <th>customer_id</th>\n      <th>article_id</th>\n      <th>age_young</th>\n      <th>segment</th>\n    </tr>\n  </thead>\n  <tbody>\n    <tr>\n      <th>0</th>\n      <td>1728846800780188</td>\n      <td>519773001</td>\n      <td>0.742832</td>\n      <td>age_young</td>\n    </tr>\n    <tr>\n      <th>1</th>\n      <td>1728846800780188</td>\n      <td>578472001</td>\n      <td>0.640314</td>\n      <td>age_young</td>\n    </tr>\n    <tr>\n      <th>2</th>\n      <td>2076973761519164</td>\n      <td>661795002</td>\n      <td>0.647760</td>\n      <td>age_young</td>\n    </tr>\n    <tr>\n      <th>3</th>\n      <td>2076973761519164</td>\n      <td>684080003</td>\n      <td>0.669953</td>\n      <td>age_young</td>\n    </tr>\n    <tr>\n      <th>4</th>\n      <td>2918879973994241</td>\n      <td>662980001</td>\n      <td>0.770488</td>\n      <td>age_young</td>\n    </tr>\n  </tbody>\n</table>\n</div>"
     },
     "execution_count": 153,
     "metadata": {},
     "output_type": "execute_result"
    }
   ],
   "source": [
    "# Get customers + articles pairs for the current season\n",
    "transactions_current_season = transactions_train[transactions_train[\"season\"] == current_season]\n",
    "transactions_current_season = transactions_current_season[[\"customer_id\", \"article_id\"]]\n",
    "\n",
    "# Also add article scores and customer segments\n",
    "transactions_scores_segments = pd.merge(transactions_current_season, articles_scores, on=\"article_id\", how=\"left\")\n",
    "transactions_scores_segments = pd.merge(transactions_scores_segments, segmented_customers, on=\"customer_id\", how=\"left\")\n",
    "\n",
    "##### SANITY CHECKS #####\n",
    "assert len(transactions_scores_segments) == len(transactions_current_season) # people who bought something in the current season get a score\n",
    "assert all(segment_name in transactions_scores_segments.columns for segment_name in segment_names) # segment columns are needed\n",
    "#########################\n",
    "\n",
    "\n",
    "transactions_scores_segments.head()"
   ],
   "metadata": {
    "collapsed": false,
    "ExecuteTime": {
     "end_time": "2023-12-05T22:16:48.170710200Z",
     "start_time": "2023-12-05T22:16:45.846722700Z"
    }
   },
   "id": "e7764a62cb5c0125"
  },
  {
   "cell_type": "code",
   "execution_count": 154,
   "outputs": [
    {
     "data": {
      "text/plain": "        customer_id  article_id  age_young    segment  article_score\n0  1728846800780188   519773001   0.742832  age_young       0.742832\n1  1728846800780188   578472001   0.640314  age_young       0.640314\n2  2076973761519164   661795002   0.647760  age_young       0.647760\n3  2076973761519164   684080003   0.669953  age_young       0.669953\n4  2918879973994241   662980001   0.770488  age_young       0.770488",
      "text/html": "<div>\n<style scoped>\n    .dataframe tbody tr th:only-of-type {\n        vertical-align: middle;\n    }\n\n    .dataframe tbody tr th {\n        vertical-align: top;\n    }\n\n    .dataframe thead th {\n        text-align: right;\n    }\n</style>\n<table border=\"1\" class=\"dataframe\">\n  <thead>\n    <tr style=\"text-align: right;\">\n      <th></th>\n      <th>customer_id</th>\n      <th>article_id</th>\n      <th>age_young</th>\n      <th>segment</th>\n      <th>article_score</th>\n    </tr>\n  </thead>\n  <tbody>\n    <tr>\n      <th>0</th>\n      <td>1728846800780188</td>\n      <td>519773001</td>\n      <td>0.742832</td>\n      <td>age_young</td>\n      <td>0.742832</td>\n    </tr>\n    <tr>\n      <th>1</th>\n      <td>1728846800780188</td>\n      <td>578472001</td>\n      <td>0.640314</td>\n      <td>age_young</td>\n      <td>0.640314</td>\n    </tr>\n    <tr>\n      <th>2</th>\n      <td>2076973761519164</td>\n      <td>661795002</td>\n      <td>0.647760</td>\n      <td>age_young</td>\n      <td>0.647760</td>\n    </tr>\n    <tr>\n      <th>3</th>\n      <td>2076973761519164</td>\n      <td>684080003</td>\n      <td>0.669953</td>\n      <td>age_young</td>\n      <td>0.669953</td>\n    </tr>\n    <tr>\n      <th>4</th>\n      <td>2918879973994241</td>\n      <td>662980001</td>\n      <td>0.770488</td>\n      <td>age_young</td>\n      <td>0.770488</td>\n    </tr>\n  </tbody>\n</table>\n</div>"
     },
     "execution_count": 154,
     "metadata": {},
     "output_type": "execute_result"
    }
   ],
   "source": [
    "# Article scores differ per segment, so we need to select the applicable score for each transaction depending on the segment of the customer\n",
    "# Code following the principle here: https://pandas.pydata.org/pandas-docs/version/1.3/user_guide/indexing.html#indexing-lookup\n",
    "\n",
    "idx, cols = pd.factorize(transactions_scores_segments['segment'])\n",
    "result = transactions_scores_segments.reindex(cols, axis=1).to_numpy()[np.arange(len(transactions_scores_segments)), idx]\n",
    "\n",
    "\n",
    "##### SANITY CHECKS #####\n",
    "assert len(result) == len(transactions_scores_segments)\n",
    "if testing: # takes more time so only enable for testing\n",
    "    \n",
    "    # For testing purposes: less efficient but more clear implementation should have the same result\n",
    "    def get_applicable_score(row):\n",
    "        return row[row[\"segment\"]] # Take the value of the corresponding segment column\n",
    "\n",
    "    test_result = transactions_scores_segments.apply(get_applicable_score, axis=1).values\n",
    "    assert np.array_equal(result, test_result)\n",
    "#########################\n",
    "\n",
    "# Add the applicable score as a new column\n",
    "transactions_scores_segments[\"article_score\"] = result\n",
    "\n",
    "transactions_scores_segments.head() # Now the right score should always be in the score column"
   ],
   "metadata": {
    "collapsed": false,
    "ExecuteTime": {
     "end_time": "2023-12-05T22:16:48.455652300Z",
     "start_time": "2023-12-05T22:16:48.160684700Z"
    }
   },
   "id": "9cbda54a0d9856a8"
  },
  {
   "cell_type": "code",
   "execution_count": 155,
   "outputs": [
    {
     "data": {
      "text/plain": "        customer_id  article_id  article_score\n0  1728846800780188   519773001       0.742832\n1  1728846800780188   578472001       0.640314\n2  2076973761519164   661795002       0.647760\n3  2076973761519164   684080003       0.669953\n4  2918879973994241   662980001       0.770488",
      "text/html": "<div>\n<style scoped>\n    .dataframe tbody tr th:only-of-type {\n        vertical-align: middle;\n    }\n\n    .dataframe tbody tr th {\n        vertical-align: top;\n    }\n\n    .dataframe thead th {\n        text-align: right;\n    }\n</style>\n<table border=\"1\" class=\"dataframe\">\n  <thead>\n    <tr style=\"text-align: right;\">\n      <th></th>\n      <th>customer_id</th>\n      <th>article_id</th>\n      <th>article_score</th>\n    </tr>\n  </thead>\n  <tbody>\n    <tr>\n      <th>0</th>\n      <td>1728846800780188</td>\n      <td>519773001</td>\n      <td>0.742832</td>\n    </tr>\n    <tr>\n      <th>1</th>\n      <td>1728846800780188</td>\n      <td>578472001</td>\n      <td>0.640314</td>\n    </tr>\n    <tr>\n      <th>2</th>\n      <td>2076973761519164</td>\n      <td>661795002</td>\n      <td>0.647760</td>\n    </tr>\n    <tr>\n      <th>3</th>\n      <td>2076973761519164</td>\n      <td>684080003</td>\n      <td>0.669953</td>\n    </tr>\n    <tr>\n      <th>4</th>\n      <td>2918879973994241</td>\n      <td>662980001</td>\n      <td>0.770488</td>\n    </tr>\n  </tbody>\n</table>\n</div>"
     },
     "execution_count": 155,
     "metadata": {},
     "output_type": "execute_result"
    }
   ],
   "source": [
    "# drop all non-applicable columns and segment\n",
    "transactions_scores_segments.drop(columns=segment_names + [\"segment\"], inplace=True)\n",
    "transactions_scores_segments.head()"
   ],
   "metadata": {
    "collapsed": false,
    "ExecuteTime": {
     "end_time": "2023-12-05T22:16:48.557465400Z",
     "start_time": "2023-12-05T22:16:48.456651600Z"
    }
   },
   "id": "4bc547e8f8930691"
  },
  {
   "cell_type": "code",
   "execution_count": 156,
   "outputs": [
    {
     "data": {
      "text/plain": "                 customer_id  sensitivity\n0             25398598941468     0.533632\n1             28847241659200     0.521105\n2             41318098387474     0.570600\n3             43757848922470     0.435964\n4             77117344919861     0.555510\n...                      ...          ...\n803361  18446590778427270109     0.488886\n803362  18446630855572834764     0.517238\n803363  18446705133201055310     0.699461\n803364  18446723086055369602     0.682576\n803365  18446737527580148316     0.539058\n\n[803366 rows x 2 columns]",
      "text/html": "<div>\n<style scoped>\n    .dataframe tbody tr th:only-of-type {\n        vertical-align: middle;\n    }\n\n    .dataframe tbody tr th {\n        vertical-align: top;\n    }\n\n    .dataframe thead th {\n        text-align: right;\n    }\n</style>\n<table border=\"1\" class=\"dataframe\">\n  <thead>\n    <tr style=\"text-align: right;\">\n      <th></th>\n      <th>customer_id</th>\n      <th>sensitivity</th>\n    </tr>\n  </thead>\n  <tbody>\n    <tr>\n      <th>0</th>\n      <td>25398598941468</td>\n      <td>0.533632</td>\n    </tr>\n    <tr>\n      <th>1</th>\n      <td>28847241659200</td>\n      <td>0.521105</td>\n    </tr>\n    <tr>\n      <th>2</th>\n      <td>41318098387474</td>\n      <td>0.570600</td>\n    </tr>\n    <tr>\n      <th>3</th>\n      <td>43757848922470</td>\n      <td>0.435964</td>\n    </tr>\n    <tr>\n      <th>4</th>\n      <td>77117344919861</td>\n      <td>0.555510</td>\n    </tr>\n    <tr>\n      <th>...</th>\n      <td>...</td>\n      <td>...</td>\n    </tr>\n    <tr>\n      <th>803361</th>\n      <td>18446590778427270109</td>\n      <td>0.488886</td>\n    </tr>\n    <tr>\n      <th>803362</th>\n      <td>18446630855572834764</td>\n      <td>0.517238</td>\n    </tr>\n    <tr>\n      <th>803363</th>\n      <td>18446705133201055310</td>\n      <td>0.699461</td>\n    </tr>\n    <tr>\n      <th>803364</th>\n      <td>18446723086055369602</td>\n      <td>0.682576</td>\n    </tr>\n    <tr>\n      <th>803365</th>\n      <td>18446737527580148316</td>\n      <td>0.539058</td>\n    </tr>\n  </tbody>\n</table>\n<p>803366 rows × 2 columns</p>\n</div>"
     },
     "execution_count": 156,
     "metadata": {},
     "output_type": "execute_result"
    }
   ],
   "source": [
    "# Per customer, calculate the average score of the articles they bought\n",
    "customer_sensitivity = transactions_scores_segments.groupby([\"customer_id\"])[\"article_score\"].mean().reset_index()\n",
    "customer_sensitivity = customer_sensitivity.rename(columns={\"article_score\": \"sensitivity\"})\n",
    "\n",
    "##### SANITY CHECKS #####\n",
    "assert len(customer_sensitivity) == len(transactions_scores_segments[\"customer_id\"].unique())\n",
    "assert all(0 <= score <= 1 for score in customer_sensitivity[\"sensitivity\"])\n",
    "#########################\n",
    "\n",
    "customer_sensitivity"
   ],
   "metadata": {
    "collapsed": false,
    "ExecuteTime": {
     "end_time": "2023-12-05T22:16:49.229928600Z",
     "start_time": "2023-12-05T22:16:48.532562600Z"
    }
   },
   "id": "6ee6fd0c3d14ab8"
  },
  {
   "cell_type": "code",
   "execution_count": 157,
   "outputs": [
    {
     "data": {
      "text/plain": "                  customer_id  FN  Active  club_member_status  \\\n0         6883939031699146327  -1      -1                   0   \n1        11246327431398957306  -1      -1                   0   \n2        18439897732908966680  -1      -1                   0   \n3        18352672461570950206  -1      -1                   0   \n4        18162778555210377306   1       1                   0   \n...                       ...  ..     ...                 ...   \n1371975   7551062398649767985  -1      -1                   0   \n1371976   9305341941720086711  -1      -1                   0   \n1371977  10160427316885688932   1       1                   0   \n1371978   2551401172826382186   1       1                   0   \n1371979  16929951892735599169  -1      -1                   1   \n\n         fashion_news_frequency  age  postal_code  sensitivity  \n0                             0   49         6305     0.561674  \n1                             0   25        33726     0.532233  \n2                             0   24         3247     0.424149  \n3                             0   54       168643          NaN  \n4                             1   52       168645     0.610074  \n...                         ...  ...          ...          ...  \n1371975                       0   24        50351     0.440379  \n1371976                       0   21        80169     0.447840  \n1371977                       1   21       106737     0.509370  \n1371978                       1   18       111894          NaN  \n1371979                       0   65       352898          NaN  \n\n[1371980 rows x 8 columns]",
      "text/html": "<div>\n<style scoped>\n    .dataframe tbody tr th:only-of-type {\n        vertical-align: middle;\n    }\n\n    .dataframe tbody tr th {\n        vertical-align: top;\n    }\n\n    .dataframe thead th {\n        text-align: right;\n    }\n</style>\n<table border=\"1\" class=\"dataframe\">\n  <thead>\n    <tr style=\"text-align: right;\">\n      <th></th>\n      <th>customer_id</th>\n      <th>FN</th>\n      <th>Active</th>\n      <th>club_member_status</th>\n      <th>fashion_news_frequency</th>\n      <th>age</th>\n      <th>postal_code</th>\n      <th>sensitivity</th>\n    </tr>\n  </thead>\n  <tbody>\n    <tr>\n      <th>0</th>\n      <td>6883939031699146327</td>\n      <td>-1</td>\n      <td>-1</td>\n      <td>0</td>\n      <td>0</td>\n      <td>49</td>\n      <td>6305</td>\n      <td>0.561674</td>\n    </tr>\n    <tr>\n      <th>1</th>\n      <td>11246327431398957306</td>\n      <td>-1</td>\n      <td>-1</td>\n      <td>0</td>\n      <td>0</td>\n      <td>25</td>\n      <td>33726</td>\n      <td>0.532233</td>\n    </tr>\n    <tr>\n      <th>2</th>\n      <td>18439897732908966680</td>\n      <td>-1</td>\n      <td>-1</td>\n      <td>0</td>\n      <td>0</td>\n      <td>24</td>\n      <td>3247</td>\n      <td>0.424149</td>\n    </tr>\n    <tr>\n      <th>3</th>\n      <td>18352672461570950206</td>\n      <td>-1</td>\n      <td>-1</td>\n      <td>0</td>\n      <td>0</td>\n      <td>54</td>\n      <td>168643</td>\n      <td>NaN</td>\n    </tr>\n    <tr>\n      <th>4</th>\n      <td>18162778555210377306</td>\n      <td>1</td>\n      <td>1</td>\n      <td>0</td>\n      <td>1</td>\n      <td>52</td>\n      <td>168645</td>\n      <td>0.610074</td>\n    </tr>\n    <tr>\n      <th>...</th>\n      <td>...</td>\n      <td>...</td>\n      <td>...</td>\n      <td>...</td>\n      <td>...</td>\n      <td>...</td>\n      <td>...</td>\n      <td>...</td>\n    </tr>\n    <tr>\n      <th>1371975</th>\n      <td>7551062398649767985</td>\n      <td>-1</td>\n      <td>-1</td>\n      <td>0</td>\n      <td>0</td>\n      <td>24</td>\n      <td>50351</td>\n      <td>0.440379</td>\n    </tr>\n    <tr>\n      <th>1371976</th>\n      <td>9305341941720086711</td>\n      <td>-1</td>\n      <td>-1</td>\n      <td>0</td>\n      <td>0</td>\n      <td>21</td>\n      <td>80169</td>\n      <td>0.447840</td>\n    </tr>\n    <tr>\n      <th>1371977</th>\n      <td>10160427316885688932</td>\n      <td>1</td>\n      <td>1</td>\n      <td>0</td>\n      <td>1</td>\n      <td>21</td>\n      <td>106737</td>\n      <td>0.509370</td>\n    </tr>\n    <tr>\n      <th>1371978</th>\n      <td>2551401172826382186</td>\n      <td>1</td>\n      <td>1</td>\n      <td>0</td>\n      <td>1</td>\n      <td>18</td>\n      <td>111894</td>\n      <td>NaN</td>\n    </tr>\n    <tr>\n      <th>1371979</th>\n      <td>16929951892735599169</td>\n      <td>-1</td>\n      <td>-1</td>\n      <td>1</td>\n      <td>0</td>\n      <td>65</td>\n      <td>352898</td>\n      <td>NaN</td>\n    </tr>\n  </tbody>\n</table>\n<p>1371980 rows × 8 columns</p>\n</div>"
     },
     "execution_count": 157,
     "metadata": {},
     "output_type": "execute_result"
    }
   ],
   "source": [
    "# Add new feature to customers table\n",
    "customers = pd.merge(customers, customer_sensitivity, on=\"customer_id\", how=\"left\")\n",
    "customers"
   ],
   "metadata": {
    "collapsed": false,
    "ExecuteTime": {
     "end_time": "2023-12-05T22:16:49.514707600Z",
     "start_time": "2023-12-05T22:16:49.228856100Z"
    }
   },
   "id": "29c6c396ed7d428"
  },
  {
   "cell_type": "code",
   "execution_count": 158,
   "outputs": [
    {
     "data": {
      "text/plain": "                  customer_id  FN  Active  club_member_status  \\\n0         6883939031699146327  -1      -1                   0   \n1        11246327431398957306  -1      -1                   0   \n2        18439897732908966680  -1      -1                   0   \n3        18352672461570950206  -1      -1                   0   \n4        18162778555210377306   1       1                   0   \n...                       ...  ..     ...                 ...   \n1371975   7551062398649767985  -1      -1                   0   \n1371976   9305341941720086711  -1      -1                   0   \n1371977  10160427316885688932   1       1                   0   \n1371978   2551401172826382186   1       1                   0   \n1371979  16929951892735599169  -1      -1                   1   \n\n         fashion_news_frequency  age  postal_code  sensitivity  \n0                             0   49         6305     0.561674  \n1                             0   25        33726     0.532233  \n2                             0   24         3247     0.424149  \n3                             0   54       168643     0.505463  \n4                             1   52       168645     0.610074  \n...                         ...  ...          ...          ...  \n1371975                       0   24        50351     0.440379  \n1371976                       0   21        80169     0.447840  \n1371977                       1   21       106737     0.509370  \n1371978                       1   18       111894     0.505463  \n1371979                       0   65       352898     0.505463  \n\n[1371980 rows x 8 columns]",
      "text/html": "<div>\n<style scoped>\n    .dataframe tbody tr th:only-of-type {\n        vertical-align: middle;\n    }\n\n    .dataframe tbody tr th {\n        vertical-align: top;\n    }\n\n    .dataframe thead th {\n        text-align: right;\n    }\n</style>\n<table border=\"1\" class=\"dataframe\">\n  <thead>\n    <tr style=\"text-align: right;\">\n      <th></th>\n      <th>customer_id</th>\n      <th>FN</th>\n      <th>Active</th>\n      <th>club_member_status</th>\n      <th>fashion_news_frequency</th>\n      <th>age</th>\n      <th>postal_code</th>\n      <th>sensitivity</th>\n    </tr>\n  </thead>\n  <tbody>\n    <tr>\n      <th>0</th>\n      <td>6883939031699146327</td>\n      <td>-1</td>\n      <td>-1</td>\n      <td>0</td>\n      <td>0</td>\n      <td>49</td>\n      <td>6305</td>\n      <td>0.561674</td>\n    </tr>\n    <tr>\n      <th>1</th>\n      <td>11246327431398957306</td>\n      <td>-1</td>\n      <td>-1</td>\n      <td>0</td>\n      <td>0</td>\n      <td>25</td>\n      <td>33726</td>\n      <td>0.532233</td>\n    </tr>\n    <tr>\n      <th>2</th>\n      <td>18439897732908966680</td>\n      <td>-1</td>\n      <td>-1</td>\n      <td>0</td>\n      <td>0</td>\n      <td>24</td>\n      <td>3247</td>\n      <td>0.424149</td>\n    </tr>\n    <tr>\n      <th>3</th>\n      <td>18352672461570950206</td>\n      <td>-1</td>\n      <td>-1</td>\n      <td>0</td>\n      <td>0</td>\n      <td>54</td>\n      <td>168643</td>\n      <td>0.505463</td>\n    </tr>\n    <tr>\n      <th>4</th>\n      <td>18162778555210377306</td>\n      <td>1</td>\n      <td>1</td>\n      <td>0</td>\n      <td>1</td>\n      <td>52</td>\n      <td>168645</td>\n      <td>0.610074</td>\n    </tr>\n    <tr>\n      <th>...</th>\n      <td>...</td>\n      <td>...</td>\n      <td>...</td>\n      <td>...</td>\n      <td>...</td>\n      <td>...</td>\n      <td>...</td>\n      <td>...</td>\n    </tr>\n    <tr>\n      <th>1371975</th>\n      <td>7551062398649767985</td>\n      <td>-1</td>\n      <td>-1</td>\n      <td>0</td>\n      <td>0</td>\n      <td>24</td>\n      <td>50351</td>\n      <td>0.440379</td>\n    </tr>\n    <tr>\n      <th>1371976</th>\n      <td>9305341941720086711</td>\n      <td>-1</td>\n      <td>-1</td>\n      <td>0</td>\n      <td>0</td>\n      <td>21</td>\n      <td>80169</td>\n      <td>0.447840</td>\n    </tr>\n    <tr>\n      <th>1371977</th>\n      <td>10160427316885688932</td>\n      <td>1</td>\n      <td>1</td>\n      <td>0</td>\n      <td>1</td>\n      <td>21</td>\n      <td>106737</td>\n      <td>0.509370</td>\n    </tr>\n    <tr>\n      <th>1371978</th>\n      <td>2551401172826382186</td>\n      <td>1</td>\n      <td>1</td>\n      <td>0</td>\n      <td>1</td>\n      <td>18</td>\n      <td>111894</td>\n      <td>0.505463</td>\n    </tr>\n    <tr>\n      <th>1371979</th>\n      <td>16929951892735599169</td>\n      <td>-1</td>\n      <td>-1</td>\n      <td>1</td>\n      <td>0</td>\n      <td>65</td>\n      <td>352898</td>\n      <td>0.505463</td>\n    </tr>\n  </tbody>\n</table>\n<p>1371980 rows × 8 columns</p>\n</div>"
     },
     "execution_count": 158,
     "metadata": {},
     "output_type": "execute_result"
    }
   ],
   "source": [
    "# Customers who didn't buy anything in the current season have no data\n",
    "# Fill their sensitivity with the average sensitivity\n",
    "\n",
    "average = customers[\"sensitivity\"].mean()\n",
    "customers[\"sensitivity\"].fillna(average, inplace=True)\n",
    "customers"
   ],
   "metadata": {
    "collapsed": false,
    "ExecuteTime": {
     "end_time": "2023-12-05T22:16:49.589452900Z",
     "start_time": "2023-12-05T22:16:49.514707600Z"
    }
   },
   "id": "cec0b68859ead07"
  },
  {
   "cell_type": "markdown",
   "source": [
    "## Prepare for training ##\n",
    "Below is an adapted version of Noah's template version of Radek's code."
   ],
   "metadata": {
    "collapsed": false
   },
   "id": "d73103bc5746cf40"
  },
  {
   "cell_type": "code",
   "execution_count": 159,
   "outputs": [],
   "source": [
    "columns_to_use = [\n",
    "    'article_id',\n",
    "    'product_type_no',\n",
    "    'graphical_appearance_no',\n",
    "    'colour_group_code',\n",
    "    'perceived_colour_value_id',\n",
    "    'perceived_colour_master_id',\n",
    "    'department_no',\n",
    "    'index_code',\n",
    "    'index_group_no',\n",
    "    'section_no',\n",
    "    'garment_group_no',\n",
    "    'FN',\n",
    "    'Active',\n",
    "    'club_member_status',\n",
    "    'fashion_news_frequency',\n",
    "    'age',\n",
    "    'postal_code',\n",
    "    'ranked_weighted_sales',\n",
    "]\n",
    "def add_features(data):\n",
    "    result = data\n",
    "    result = pd.merge(result, customers, how='left', on='customer_id')\n",
    "    result = pd.merge(result, articles, how='left', on='article_id')\n",
    "\n",
    "    # features from assignment 2 could go here\n",
    "    # customer_avg_price = transactions_train.groupby('customer_id')['price'].mean().to_frame('preferred_price')\n",
    "    # result = pd.merge(result, customer_avg_price, how=\"left\", on=\"customer_id\")\n",
    "\n",
    "    return result[columns_to_use]"
   ],
   "metadata": {
    "collapsed": false,
    "ExecuteTime": {
     "end_time": "2023-12-05T22:16:49.602988800Z",
     "start_time": "2023-12-05T22:16:49.546178300Z"
    }
   },
   "id": "1ed9dd37b8aac6bb"
  },
  {
   "cell_type": "code",
   "execution_count": 160,
   "outputs": [],
   "source": [
    "def recall(predictions, purchases, k=12):\n",
    "    # number of correct predictions for the customer / items bought by the customer\n",
    "    # total recall is the average recall over all customers\n",
    "\n",
    "    def row_recall(row):\n",
    "        assert 0 < len(row.purchases)\n",
    "        correct = 0\n",
    "        for predicted_item in row.prediction[:k]:\n",
    "            if predicted_item in row.purchases:\n",
    "                correct += 1\n",
    "        return correct / min(len(row.purchases), 12)\n",
    "\n",
    "    result = pd.merge(purchases, predictions, on=\"customer_id\", how=\"inner\")\n",
    "    result[\"recall\"] = result.apply(row_recall, axis=1)\n",
    "\n",
    "    return result.recall.sum() / len(purchases)"
   ],
   "metadata": {
    "collapsed": false,
    "ExecuteTime": {
     "end_time": "2023-12-05T22:16:49.604013100Z",
     "start_time": "2023-12-05T22:16:49.560821400Z"
    }
   },
   "id": "5bcceb93ae416366"
  },
  {
   "cell_type": "code",
   "execution_count": 161,
   "outputs": [
    {
     "data": {
      "text/plain": "                  customer_id    segment\n0         6883939031699146327  age_young\n1        11246327431398957306  age_young\n2        18439897732908966680  age_young\n3        18352672461570950206  age_young\n4        18162778555210377306  age_young\n...                       ...        ...\n1371975   7551062398649767985  age_young\n1371976   9305341941720086711  age_young\n1371977  10160427316885688932  age_young\n1371978   2551401172826382186  age_young\n1371979  16929951892735599169  age_young\n\n[1371980 rows x 2 columns]",
      "text/html": "<div>\n<style scoped>\n    .dataframe tbody tr th:only-of-type {\n        vertical-align: middle;\n    }\n\n    .dataframe tbody tr th {\n        vertical-align: top;\n    }\n\n    .dataframe thead th {\n        text-align: right;\n    }\n</style>\n<table border=\"1\" class=\"dataframe\">\n  <thead>\n    <tr style=\"text-align: right;\">\n      <th></th>\n      <th>customer_id</th>\n      <th>segment</th>\n    </tr>\n  </thead>\n  <tbody>\n    <tr>\n      <th>0</th>\n      <td>6883939031699146327</td>\n      <td>age_young</td>\n    </tr>\n    <tr>\n      <th>1</th>\n      <td>11246327431398957306</td>\n      <td>age_young</td>\n    </tr>\n    <tr>\n      <th>2</th>\n      <td>18439897732908966680</td>\n      <td>age_young</td>\n    </tr>\n    <tr>\n      <th>3</th>\n      <td>18352672461570950206</td>\n      <td>age_young</td>\n    </tr>\n    <tr>\n      <th>4</th>\n      <td>18162778555210377306</td>\n      <td>age_young</td>\n    </tr>\n    <tr>\n      <th>...</th>\n      <td>...</td>\n      <td>...</td>\n    </tr>\n    <tr>\n      <th>1371975</th>\n      <td>7551062398649767985</td>\n      <td>age_young</td>\n    </tr>\n    <tr>\n      <th>1371976</th>\n      <td>9305341941720086711</td>\n      <td>age_young</td>\n    </tr>\n    <tr>\n      <th>1371977</th>\n      <td>10160427316885688932</td>\n      <td>age_young</td>\n    </tr>\n    <tr>\n      <th>1371978</th>\n      <td>2551401172826382186</td>\n      <td>age_young</td>\n    </tr>\n    <tr>\n      <th>1371979</th>\n      <td>16929951892735599169</td>\n      <td>age_young</td>\n    </tr>\n  </tbody>\n</table>\n<p>1371980 rows × 2 columns</p>\n</div>"
     },
     "execution_count": 161,
     "metadata": {},
     "output_type": "execute_result"
    }
   ],
   "source": [
    "segmented_customers"
   ],
   "metadata": {
    "collapsed": false,
    "ExecuteTime": {
     "end_time": "2023-12-05T22:16:49.605032900Z",
     "start_time": "2023-12-05T22:16:49.576485200Z"
    }
   },
   "id": "e9fb34d6cdaf7ddb"
  },
  {
   "cell_type": "code",
   "execution_count": 162,
   "outputs": [
    {
     "data": {
      "text/plain": "       t_dat      customer_id  article_id     price  sales_channel_id  week  \\\n0 2020-07-15  272412481300040   778064028  0.008458                 1    95   \n1 2020-07-15  272412481300040   816592008  0.016932                 1    95   \n2 2020-07-15  272412481300040   621381021  0.033881                 1    95   \n3 2020-07-15  272412481300040   817477003  0.025407                 1    95   \n4 2020-07-15  272412481300040   899088002  0.025407                 1    95   \n\n   season    segment  \n0  Summer  age_young  \n1  Summer  age_young  \n2  Summer  age_young  \n3  Summer  age_young  \n4  Summer  age_young  ",
      "text/html": "<div>\n<style scoped>\n    .dataframe tbody tr th:only-of-type {\n        vertical-align: middle;\n    }\n\n    .dataframe tbody tr th {\n        vertical-align: top;\n    }\n\n    .dataframe thead th {\n        text-align: right;\n    }\n</style>\n<table border=\"1\" class=\"dataframe\">\n  <thead>\n    <tr style=\"text-align: right;\">\n      <th></th>\n      <th>t_dat</th>\n      <th>customer_id</th>\n      <th>article_id</th>\n      <th>price</th>\n      <th>sales_channel_id</th>\n      <th>week</th>\n      <th>season</th>\n      <th>segment</th>\n    </tr>\n  </thead>\n  <tbody>\n    <tr>\n      <th>0</th>\n      <td>2020-07-15</td>\n      <td>272412481300040</td>\n      <td>778064028</td>\n      <td>0.008458</td>\n      <td>1</td>\n      <td>95</td>\n      <td>Summer</td>\n      <td>age_young</td>\n    </tr>\n    <tr>\n      <th>1</th>\n      <td>2020-07-15</td>\n      <td>272412481300040</td>\n      <td>816592008</td>\n      <td>0.016932</td>\n      <td>1</td>\n      <td>95</td>\n      <td>Summer</td>\n      <td>age_young</td>\n    </tr>\n    <tr>\n      <th>2</th>\n      <td>2020-07-15</td>\n      <td>272412481300040</td>\n      <td>621381021</td>\n      <td>0.033881</td>\n      <td>1</td>\n      <td>95</td>\n      <td>Summer</td>\n      <td>age_young</td>\n    </tr>\n    <tr>\n      <th>3</th>\n      <td>2020-07-15</td>\n      <td>272412481300040</td>\n      <td>817477003</td>\n      <td>0.025407</td>\n      <td>1</td>\n      <td>95</td>\n      <td>Summer</td>\n      <td>age_young</td>\n    </tr>\n    <tr>\n      <th>4</th>\n      <td>2020-07-15</td>\n      <td>272412481300040</td>\n      <td>899088002</td>\n      <td>0.025407</td>\n      <td>1</td>\n      <td>95</td>\n      <td>Summer</td>\n      <td>age_young</td>\n    </tr>\n  </tbody>\n</table>\n</div>"
     },
     "execution_count": 162,
     "metadata": {},
     "output_type": "execute_result"
    }
   ],
   "source": [
    "### split into training and testing\n",
    "# one week is used for testing\n",
    "# a number of weeks leading up to the test week are used to train the ranker\n",
    "test_week = 105\n",
    "num_training_weeks = 10\n",
    "training_weeks = np.arange(test_week-num_training_weeks, test_week)\n",
    "train_data = transactions_train[transactions_train.week.isin(training_weeks)].reset_index(drop=True)\n",
    "\n",
    "# add segment of the customer to each transaction\n",
    "train_data = train_data.merge(segmented_customers, on=\"customer_id\")\n",
    "train_data.head()"
   ],
   "metadata": {
    "collapsed": false,
    "ExecuteTime": {
     "end_time": "2023-12-05T22:16:50.311504200Z",
     "start_time": "2023-12-05T22:16:49.592568Z"
    }
   },
   "id": "56aae6045e3dc1b7"
  },
  {
   "cell_type": "code",
   "execution_count": 163,
   "outputs": [
    {
     "data": {
      "text/plain": "   article_id  age_young\n0   108775015   0.423286\n1   108775044   0.330456\n2   108775051   0.338925\n3   110065001   0.364676\n4   110065002   0.271845",
      "text/html": "<div>\n<style scoped>\n    .dataframe tbody tr th:only-of-type {\n        vertical-align: middle;\n    }\n\n    .dataframe tbody tr th {\n        vertical-align: top;\n    }\n\n    .dataframe thead th {\n        text-align: right;\n    }\n</style>\n<table border=\"1\" class=\"dataframe\">\n  <thead>\n    <tr style=\"text-align: right;\">\n      <th></th>\n      <th>article_id</th>\n      <th>age_young</th>\n    </tr>\n  </thead>\n  <tbody>\n    <tr>\n      <th>0</th>\n      <td>108775015</td>\n      <td>0.423286</td>\n    </tr>\n    <tr>\n      <th>1</th>\n      <td>108775044</td>\n      <td>0.330456</td>\n    </tr>\n    <tr>\n      <th>2</th>\n      <td>108775051</td>\n      <td>0.338925</td>\n    </tr>\n    <tr>\n      <th>3</th>\n      <td>110065001</td>\n      <td>0.364676</td>\n    </tr>\n    <tr>\n      <th>4</th>\n      <td>110065002</td>\n      <td>0.271845</td>\n    </tr>\n  </tbody>\n</table>\n</div>"
     },
     "execution_count": 163,
     "metadata": {},
     "output_type": "execute_result"
    }
   ],
   "source": [
    "articles_scores.head()"
   ],
   "metadata": {
    "collapsed": false,
    "ExecuteTime": {
     "end_time": "2023-12-05T22:16:50.315505100Z",
     "start_time": "2023-12-05T22:16:50.297994500Z"
    }
   },
   "id": "457a960d4369315e"
  },
  {
   "cell_type": "code",
   "execution_count": 164,
   "outputs": [
    {
     "data": {
      "text/plain": "        week  article_id    segment  count  age_young\n0         95   108775015  age_young      2   0.423286\n1         96   108775015  age_young      1   0.423286\n2         95   108775044  age_young      3   0.330456\n3         96   108775044  age_young      8   0.330456\n4         97   108775044  age_young      6   0.330456\n...      ...         ...        ...    ...        ...\n196875   104   944241001  age_young     35   0.492149\n196876   104   945600001  age_young     12   0.610716\n196877   104   946475001  age_young      1   0.471501\n196878   104   946527001  age_young      4   0.391841\n196879   104   949594001  age_young      5   0.425599\n\n[196880 rows x 5 columns]",
      "text/html": "<div>\n<style scoped>\n    .dataframe tbody tr th:only-of-type {\n        vertical-align: middle;\n    }\n\n    .dataframe tbody tr th {\n        vertical-align: top;\n    }\n\n    .dataframe thead th {\n        text-align: right;\n    }\n</style>\n<table border=\"1\" class=\"dataframe\">\n  <thead>\n    <tr style=\"text-align: right;\">\n      <th></th>\n      <th>week</th>\n      <th>article_id</th>\n      <th>segment</th>\n      <th>count</th>\n      <th>age_young</th>\n    </tr>\n  </thead>\n  <tbody>\n    <tr>\n      <th>0</th>\n      <td>95</td>\n      <td>108775015</td>\n      <td>age_young</td>\n      <td>2</td>\n      <td>0.423286</td>\n    </tr>\n    <tr>\n      <th>1</th>\n      <td>96</td>\n      <td>108775015</td>\n      <td>age_young</td>\n      <td>1</td>\n      <td>0.423286</td>\n    </tr>\n    <tr>\n      <th>2</th>\n      <td>95</td>\n      <td>108775044</td>\n      <td>age_young</td>\n      <td>3</td>\n      <td>0.330456</td>\n    </tr>\n    <tr>\n      <th>3</th>\n      <td>96</td>\n      <td>108775044</td>\n      <td>age_young</td>\n      <td>8</td>\n      <td>0.330456</td>\n    </tr>\n    <tr>\n      <th>4</th>\n      <td>97</td>\n      <td>108775044</td>\n      <td>age_young</td>\n      <td>6</td>\n      <td>0.330456</td>\n    </tr>\n    <tr>\n      <th>...</th>\n      <td>...</td>\n      <td>...</td>\n      <td>...</td>\n      <td>...</td>\n      <td>...</td>\n    </tr>\n    <tr>\n      <th>196875</th>\n      <td>104</td>\n      <td>944241001</td>\n      <td>age_young</td>\n      <td>35</td>\n      <td>0.492149</td>\n    </tr>\n    <tr>\n      <th>196876</th>\n      <td>104</td>\n      <td>945600001</td>\n      <td>age_young</td>\n      <td>12</td>\n      <td>0.610716</td>\n    </tr>\n    <tr>\n      <th>196877</th>\n      <td>104</td>\n      <td>946475001</td>\n      <td>age_young</td>\n      <td>1</td>\n      <td>0.471501</td>\n    </tr>\n    <tr>\n      <th>196878</th>\n      <td>104</td>\n      <td>946527001</td>\n      <td>age_young</td>\n      <td>4</td>\n      <td>0.391841</td>\n    </tr>\n    <tr>\n      <th>196879</th>\n      <td>104</td>\n      <td>949594001</td>\n      <td>age_young</td>\n      <td>5</td>\n      <td>0.425599</td>\n    </tr>\n  </tbody>\n</table>\n<p>196880 rows × 5 columns</p>\n</div>"
     },
     "execution_count": 164,
     "metadata": {},
     "output_type": "execute_result"
    }
   ],
   "source": [
    "### repurchase\n",
    "# each week is seen as a basket\n",
    "# the items bought in one basket, will be example for the next basket\n",
    "# the items bought in the last basket, will be candidates for the test basket\n",
    "c2weeks = train_data.groupby('customer_id')['week'].unique()\n",
    "c2weeks2shifted_weeks = {}\n",
    "for c_id, weeks in c2weeks.items():\n",
    "    c2weeks2shifted_weeks[c_id] = {}\n",
    "    for i in range(weeks.shape[0]-1):\n",
    "        c2weeks2shifted_weeks[c_id][weeks[i]] = weeks[i+1]\n",
    "    c2weeks2shifted_weeks[c_id][weeks[-1]] = test_week\n",
    "candidates_last_purchase = train_data.copy()\n",
    "weeks = []\n",
    "for i, (c_id, week) in enumerate(zip(train_data['customer_id'], train_data['week'])):\n",
    "    weeks.append(c2weeks2shifted_weeks[c_id][week])\n",
    "candidates_last_purchase.week=weeks\n",
    "\n",
    "sales_counts = train_data.groupby([\"week\", \"article_id\", \"segment\"]).size().reset_index(name=\"count\")\n",
    "sales_counts = sales_counts.merge(articles_scores, on=\"article_id\")\n",
    "sales_counts"
   ],
   "metadata": {
    "collapsed": false,
    "ExecuteTime": {
     "end_time": "2023-12-05T22:17:04.261134Z",
     "start_time": "2023-12-05T22:16:50.313504700Z"
    }
   },
   "id": "9148f9fec805092"
  },
  {
   "cell_type": "code",
   "execution_count": 165,
   "outputs": [
    {
     "data": {
      "text/plain": "        week  article_id    segment  count  age_young  season_score\n0         95   108775015  age_young      2   0.423286      0.423286\n1         96   108775015  age_young      1   0.423286      0.423286\n2         95   108775044  age_young      3   0.330456      0.330456\n3         96   108775044  age_young      8   0.330456      0.330456\n4         97   108775044  age_young      6   0.330456      0.330456\n...      ...         ...        ...    ...        ...           ...\n196875   104   944241001  age_young     35   0.492149      0.492149\n196876   104   945600001  age_young     12   0.610716      0.610716\n196877   104   946475001  age_young      1   0.471501      0.471501\n196878   104   946527001  age_young      4   0.391841      0.391841\n196879   104   949594001  age_young      5   0.425599      0.425599\n\n[196880 rows x 6 columns]",
      "text/html": "<div>\n<style scoped>\n    .dataframe tbody tr th:only-of-type {\n        vertical-align: middle;\n    }\n\n    .dataframe tbody tr th {\n        vertical-align: top;\n    }\n\n    .dataframe thead th {\n        text-align: right;\n    }\n</style>\n<table border=\"1\" class=\"dataframe\">\n  <thead>\n    <tr style=\"text-align: right;\">\n      <th></th>\n      <th>week</th>\n      <th>article_id</th>\n      <th>segment</th>\n      <th>count</th>\n      <th>age_young</th>\n      <th>season_score</th>\n    </tr>\n  </thead>\n  <tbody>\n    <tr>\n      <th>0</th>\n      <td>95</td>\n      <td>108775015</td>\n      <td>age_young</td>\n      <td>2</td>\n      <td>0.423286</td>\n      <td>0.423286</td>\n    </tr>\n    <tr>\n      <th>1</th>\n      <td>96</td>\n      <td>108775015</td>\n      <td>age_young</td>\n      <td>1</td>\n      <td>0.423286</td>\n      <td>0.423286</td>\n    </tr>\n    <tr>\n      <th>2</th>\n      <td>95</td>\n      <td>108775044</td>\n      <td>age_young</td>\n      <td>3</td>\n      <td>0.330456</td>\n      <td>0.330456</td>\n    </tr>\n    <tr>\n      <th>3</th>\n      <td>96</td>\n      <td>108775044</td>\n      <td>age_young</td>\n      <td>8</td>\n      <td>0.330456</td>\n      <td>0.330456</td>\n    </tr>\n    <tr>\n      <th>4</th>\n      <td>97</td>\n      <td>108775044</td>\n      <td>age_young</td>\n      <td>6</td>\n      <td>0.330456</td>\n      <td>0.330456</td>\n    </tr>\n    <tr>\n      <th>...</th>\n      <td>...</td>\n      <td>...</td>\n      <td>...</td>\n      <td>...</td>\n      <td>...</td>\n      <td>...</td>\n    </tr>\n    <tr>\n      <th>196875</th>\n      <td>104</td>\n      <td>944241001</td>\n      <td>age_young</td>\n      <td>35</td>\n      <td>0.492149</td>\n      <td>0.492149</td>\n    </tr>\n    <tr>\n      <th>196876</th>\n      <td>104</td>\n      <td>945600001</td>\n      <td>age_young</td>\n      <td>12</td>\n      <td>0.610716</td>\n      <td>0.610716</td>\n    </tr>\n    <tr>\n      <th>196877</th>\n      <td>104</td>\n      <td>946475001</td>\n      <td>age_young</td>\n      <td>1</td>\n      <td>0.471501</td>\n      <td>0.471501</td>\n    </tr>\n    <tr>\n      <th>196878</th>\n      <td>104</td>\n      <td>946527001</td>\n      <td>age_young</td>\n      <td>4</td>\n      <td>0.391841</td>\n      <td>0.391841</td>\n    </tr>\n    <tr>\n      <th>196879</th>\n      <td>104</td>\n      <td>949594001</td>\n      <td>age_young</td>\n      <td>5</td>\n      <td>0.425599</td>\n      <td>0.425599</td>\n    </tr>\n  </tbody>\n</table>\n<p>196880 rows × 6 columns</p>\n</div>"
     },
     "execution_count": 165,
     "metadata": {},
     "output_type": "execute_result"
    }
   ],
   "source": [
    "def get_applicable_score(row):\n",
    "    return row[row[\"segment\"]]\n",
    "sales_counts = sales_counts.copy()\n",
    "sales_counts[\"season_score\"] = sales_counts.apply(get_applicable_score, axis=1)\n",
    "sales_counts"
   ],
   "metadata": {
    "collapsed": false,
    "ExecuteTime": {
     "end_time": "2023-12-05T22:17:05.028629700Z",
     "start_time": "2023-12-05T22:17:04.246795100Z"
    }
   },
   "id": "7192d1eede251271"
  },
  {
   "cell_type": "code",
   "execution_count": 166,
   "outputs": [
    {
     "data": {
      "text/plain": "        week  article_id    segment  count  season_score\n0         95   108775015  age_young      2      0.423286\n1         96   108775015  age_young      1      0.423286\n2         95   108775044  age_young      3      0.330456\n3         96   108775044  age_young      8      0.330456\n4         97   108775044  age_young      6      0.330456\n...      ...         ...        ...    ...           ...\n196875   104   944241001  age_young     35      0.492149\n196876   104   945600001  age_young     12      0.610716\n196877   104   946475001  age_young      1      0.471501\n196878   104   946527001  age_young      4      0.391841\n196879   104   949594001  age_young      5      0.425599\n\n[196880 rows x 5 columns]",
      "text/html": "<div>\n<style scoped>\n    .dataframe tbody tr th:only-of-type {\n        vertical-align: middle;\n    }\n\n    .dataframe tbody tr th {\n        vertical-align: top;\n    }\n\n    .dataframe thead th {\n        text-align: right;\n    }\n</style>\n<table border=\"1\" class=\"dataframe\">\n  <thead>\n    <tr style=\"text-align: right;\">\n      <th></th>\n      <th>week</th>\n      <th>article_id</th>\n      <th>segment</th>\n      <th>count</th>\n      <th>season_score</th>\n    </tr>\n  </thead>\n  <tbody>\n    <tr>\n      <th>0</th>\n      <td>95</td>\n      <td>108775015</td>\n      <td>age_young</td>\n      <td>2</td>\n      <td>0.423286</td>\n    </tr>\n    <tr>\n      <th>1</th>\n      <td>96</td>\n      <td>108775015</td>\n      <td>age_young</td>\n      <td>1</td>\n      <td>0.423286</td>\n    </tr>\n    <tr>\n      <th>2</th>\n      <td>95</td>\n      <td>108775044</td>\n      <td>age_young</td>\n      <td>3</td>\n      <td>0.330456</td>\n    </tr>\n    <tr>\n      <th>3</th>\n      <td>96</td>\n      <td>108775044</td>\n      <td>age_young</td>\n      <td>8</td>\n      <td>0.330456</td>\n    </tr>\n    <tr>\n      <th>4</th>\n      <td>97</td>\n      <td>108775044</td>\n      <td>age_young</td>\n      <td>6</td>\n      <td>0.330456</td>\n    </tr>\n    <tr>\n      <th>...</th>\n      <td>...</td>\n      <td>...</td>\n      <td>...</td>\n      <td>...</td>\n      <td>...</td>\n    </tr>\n    <tr>\n      <th>196875</th>\n      <td>104</td>\n      <td>944241001</td>\n      <td>age_young</td>\n      <td>35</td>\n      <td>0.492149</td>\n    </tr>\n    <tr>\n      <th>196876</th>\n      <td>104</td>\n      <td>945600001</td>\n      <td>age_young</td>\n      <td>12</td>\n      <td>0.610716</td>\n    </tr>\n    <tr>\n      <th>196877</th>\n      <td>104</td>\n      <td>946475001</td>\n      <td>age_young</td>\n      <td>1</td>\n      <td>0.471501</td>\n    </tr>\n    <tr>\n      <th>196878</th>\n      <td>104</td>\n      <td>946527001</td>\n      <td>age_young</td>\n      <td>4</td>\n      <td>0.391841</td>\n    </tr>\n    <tr>\n      <th>196879</th>\n      <td>104</td>\n      <td>949594001</td>\n      <td>age_young</td>\n      <td>5</td>\n      <td>0.425599</td>\n    </tr>\n  </tbody>\n</table>\n<p>196880 rows × 5 columns</p>\n</div>"
     },
     "execution_count": 166,
     "metadata": {},
     "output_type": "execute_result"
    }
   ],
   "source": [
    "sales_counts = sales_counts.drop(columns=segment_names)\n",
    "sales_counts"
   ],
   "metadata": {
    "collapsed": false,
    "ExecuteTime": {
     "end_time": "2023-12-05T22:17:05.029669400Z",
     "start_time": "2023-12-05T22:17:05.012072300Z"
    }
   },
   "id": "9c62977534a6da9"
  },
  {
   "cell_type": "code",
   "execution_count": 167,
   "outputs": [
    {
     "data": {
      "text/plain": "        week  article_id    segment  count  season_score  weighted_sales\n0         95   108775015  age_young      2      0.423286        1.340978\n1         96   108775015  age_young      1      0.423286        1.000000\n2         95   108775044  age_young      3      0.330456        1.437697\n3         96   108775044  age_young      8      0.330456        1.988068\n4         97   108775044  age_young      6      0.330456        1.807775\n...      ...         ...        ...    ...           ...             ...\n196875   104   944241001  age_young     35      0.492149        5.753229\n196876   104   945600001  age_young     12      0.610716        4.561136\n196877   104   946475001  age_young      1      0.471501        1.000000\n196878   104   946527001  age_young      4      0.391841        1.721520\n196879   104   949594001  age_young      5      0.425599        1.983723\n\n[196880 rows x 6 columns]",
      "text/html": "<div>\n<style scoped>\n    .dataframe tbody tr th:only-of-type {\n        vertical-align: middle;\n    }\n\n    .dataframe tbody tr th {\n        vertical-align: top;\n    }\n\n    .dataframe thead th {\n        text-align: right;\n    }\n</style>\n<table border=\"1\" class=\"dataframe\">\n  <thead>\n    <tr style=\"text-align: right;\">\n      <th></th>\n      <th>week</th>\n      <th>article_id</th>\n      <th>segment</th>\n      <th>count</th>\n      <th>season_score</th>\n      <th>weighted_sales</th>\n    </tr>\n  </thead>\n  <tbody>\n    <tr>\n      <th>0</th>\n      <td>95</td>\n      <td>108775015</td>\n      <td>age_young</td>\n      <td>2</td>\n      <td>0.423286</td>\n      <td>1.340978</td>\n    </tr>\n    <tr>\n      <th>1</th>\n      <td>96</td>\n      <td>108775015</td>\n      <td>age_young</td>\n      <td>1</td>\n      <td>0.423286</td>\n      <td>1.000000</td>\n    </tr>\n    <tr>\n      <th>2</th>\n      <td>95</td>\n      <td>108775044</td>\n      <td>age_young</td>\n      <td>3</td>\n      <td>0.330456</td>\n      <td>1.437697</td>\n    </tr>\n    <tr>\n      <th>3</th>\n      <td>96</td>\n      <td>108775044</td>\n      <td>age_young</td>\n      <td>8</td>\n      <td>0.330456</td>\n      <td>1.988068</td>\n    </tr>\n    <tr>\n      <th>4</th>\n      <td>97</td>\n      <td>108775044</td>\n      <td>age_young</td>\n      <td>6</td>\n      <td>0.330456</td>\n      <td>1.807775</td>\n    </tr>\n    <tr>\n      <th>...</th>\n      <td>...</td>\n      <td>...</td>\n      <td>...</td>\n      <td>...</td>\n      <td>...</td>\n      <td>...</td>\n    </tr>\n    <tr>\n      <th>196875</th>\n      <td>104</td>\n      <td>944241001</td>\n      <td>age_young</td>\n      <td>35</td>\n      <td>0.492149</td>\n      <td>5.753229</td>\n    </tr>\n    <tr>\n      <th>196876</th>\n      <td>104</td>\n      <td>945600001</td>\n      <td>age_young</td>\n      <td>12</td>\n      <td>0.610716</td>\n      <td>4.561136</td>\n    </tr>\n    <tr>\n      <th>196877</th>\n      <td>104</td>\n      <td>946475001</td>\n      <td>age_young</td>\n      <td>1</td>\n      <td>0.471501</td>\n      <td>1.000000</td>\n    </tr>\n    <tr>\n      <th>196878</th>\n      <td>104</td>\n      <td>946527001</td>\n      <td>age_young</td>\n      <td>4</td>\n      <td>0.391841</td>\n      <td>1.721520</td>\n    </tr>\n    <tr>\n      <th>196879</th>\n      <td>104</td>\n      <td>949594001</td>\n      <td>age_young</td>\n      <td>5</td>\n      <td>0.425599</td>\n      <td>1.983723</td>\n    </tr>\n  </tbody>\n</table>\n<p>196880 rows × 6 columns</p>\n</div>"
     },
     "execution_count": 167,
     "metadata": {},
     "output_type": "execute_result"
    }
   ],
   "source": [
    "sales_counts[\"weighted_sales\"] = sales_counts[\"count\"] ** sales_counts[\"season_score\"]\n",
    "sales_counts"
   ],
   "metadata": {
    "collapsed": false,
    "ExecuteTime": {
     "end_time": "2023-12-05T22:17:05.074875400Z",
     "start_time": "2023-12-05T22:17:05.026575400Z"
    }
   },
   "id": "710289649028ab1f"
  },
  {
   "cell_type": "code",
   "execution_count": 168,
   "outputs": [
    {
     "data": {
      "text/plain": "        week  article_id    segment  count  season_score  weighted_sales  \\\n0         95   108775015  age_young      2      0.423286        1.340978   \n1         96   108775015  age_young      1      0.423286        1.000000   \n2         95   108775044  age_young      3      0.330456        1.437697   \n3         96   108775044  age_young      8      0.330456        1.988068   \n4         97   108775044  age_young      6      0.330456        1.807775   \n...      ...         ...        ...    ...           ...             ...   \n196875   104   944241001  age_young     35      0.492149        5.753229   \n196876   104   945600001  age_young     12      0.610716        4.561136   \n196877   104   946475001  age_young      1      0.471501        1.000000   \n196878   104   946527001  age_young      4      0.391841        1.721520   \n196879   104   949594001  age_young      5      0.425599        1.983723   \n\n        ranked_weighted_sales  \n0                       12431  \n1                       14203  \n2                       11561  \n3                        8286  \n4                        9194  \n...                       ...  \n196875                   1450  \n196876                   2098  \n196877                  11249  \n196878                   7743  \n196879                   6640  \n\n[196880 rows x 7 columns]",
      "text/html": "<div>\n<style scoped>\n    .dataframe tbody tr th:only-of-type {\n        vertical-align: middle;\n    }\n\n    .dataframe tbody tr th {\n        vertical-align: top;\n    }\n\n    .dataframe thead th {\n        text-align: right;\n    }\n</style>\n<table border=\"1\" class=\"dataframe\">\n  <thead>\n    <tr style=\"text-align: right;\">\n      <th></th>\n      <th>week</th>\n      <th>article_id</th>\n      <th>segment</th>\n      <th>count</th>\n      <th>season_score</th>\n      <th>weighted_sales</th>\n      <th>ranked_weighted_sales</th>\n    </tr>\n  </thead>\n  <tbody>\n    <tr>\n      <th>0</th>\n      <td>95</td>\n      <td>108775015</td>\n      <td>age_young</td>\n      <td>2</td>\n      <td>0.423286</td>\n      <td>1.340978</td>\n      <td>12431</td>\n    </tr>\n    <tr>\n      <th>1</th>\n      <td>96</td>\n      <td>108775015</td>\n      <td>age_young</td>\n      <td>1</td>\n      <td>0.423286</td>\n      <td>1.000000</td>\n      <td>14203</td>\n    </tr>\n    <tr>\n      <th>2</th>\n      <td>95</td>\n      <td>108775044</td>\n      <td>age_young</td>\n      <td>3</td>\n      <td>0.330456</td>\n      <td>1.437697</td>\n      <td>11561</td>\n    </tr>\n    <tr>\n      <th>3</th>\n      <td>96</td>\n      <td>108775044</td>\n      <td>age_young</td>\n      <td>8</td>\n      <td>0.330456</td>\n      <td>1.988068</td>\n      <td>8286</td>\n    </tr>\n    <tr>\n      <th>4</th>\n      <td>97</td>\n      <td>108775044</td>\n      <td>age_young</td>\n      <td>6</td>\n      <td>0.330456</td>\n      <td>1.807775</td>\n      <td>9194</td>\n    </tr>\n    <tr>\n      <th>...</th>\n      <td>...</td>\n      <td>...</td>\n      <td>...</td>\n      <td>...</td>\n      <td>...</td>\n      <td>...</td>\n      <td>...</td>\n    </tr>\n    <tr>\n      <th>196875</th>\n      <td>104</td>\n      <td>944241001</td>\n      <td>age_young</td>\n      <td>35</td>\n      <td>0.492149</td>\n      <td>5.753229</td>\n      <td>1450</td>\n    </tr>\n    <tr>\n      <th>196876</th>\n      <td>104</td>\n      <td>945600001</td>\n      <td>age_young</td>\n      <td>12</td>\n      <td>0.610716</td>\n      <td>4.561136</td>\n      <td>2098</td>\n    </tr>\n    <tr>\n      <th>196877</th>\n      <td>104</td>\n      <td>946475001</td>\n      <td>age_young</td>\n      <td>1</td>\n      <td>0.471501</td>\n      <td>1.000000</td>\n      <td>11249</td>\n    </tr>\n    <tr>\n      <th>196878</th>\n      <td>104</td>\n      <td>946527001</td>\n      <td>age_young</td>\n      <td>4</td>\n      <td>0.391841</td>\n      <td>1.721520</td>\n      <td>7743</td>\n    </tr>\n    <tr>\n      <th>196879</th>\n      <td>104</td>\n      <td>949594001</td>\n      <td>age_young</td>\n      <td>5</td>\n      <td>0.425599</td>\n      <td>1.983723</td>\n      <td>6640</td>\n    </tr>\n  </tbody>\n</table>\n<p>196880 rows × 7 columns</p>\n</div>"
     },
     "execution_count": 168,
     "metadata": {},
     "output_type": "execute_result"
    }
   ],
   "source": [
    "sales_counts[\"ranked_weighted_sales\"] = (sales_counts.groupby(\"week\")[\"weighted_sales\"].rank(method=\"dense\", ascending=False).astype(\"int64\"))\n",
    "sales_counts"
   ],
   "metadata": {
    "collapsed": false,
    "ExecuteTime": {
     "end_time": "2023-12-05T22:17:05.195257300Z",
     "start_time": "2023-12-05T22:17:05.041170900Z"
    }
   },
   "id": "678460033c5de6a3"
  },
  {
   "cell_type": "code",
   "execution_count": 169,
   "outputs": [
    {
     "name": "stderr",
     "output_type": "stream",
     "text": [
      "C:\\Users\\Arno\\AppData\\Local\\Temp\\ipykernel_4524\\1642060979.py:2: SettingWithCopyWarning: \n",
      "A value is trying to be set on a copy of a slice from a DataFrame.\n",
      "Try using .loc[row_indexer,col_indexer] = value instead\n",
      "\n",
      "See the caveats in the documentation: https://pandas.pydata.org/pandas-docs/stable/user_guide/indexing.html#returning-a-view-versus-a-copy\n",
      "  sales_counts.week += 1\n"
     ]
    }
   ],
   "source": [
    "sales_counts = sales_counts[sales_counts[\"ranked_weighted_sales\"] <= 12]\n",
    "sales_counts.week += 1\n",
    "sales_counts = sales_counts.sort_values(by=[\"week\", \"article_id\", \"segment\"])\n",
    "\n",
    "# A list of all customers that bought something during each week\n",
    "customers_per_week = (train_data.groupby(['week', 'customer_id', 'segment']).head(1).\n",
    "                      drop(columns=['article_id', 'price', \"t_dat\", \"season\", \"sales_channel_id\"]).drop_duplicates([\"week\",\"customer_id\"]).copy())\n",
    "candidates_bestsellers = pd.merge(customers_per_week,sales_counts,on=['week', 'segment'])\n",
    "candidates_bestsellers_test_week = customers_per_week.drop_duplicates('customer_id').reset_index(drop=True) # all customers who ever bought something\n",
    "candidates_bestsellers_test_week.week = test_week # join on test week\n",
    "candidates_bestsellers_test_week = pd.merge(candidates_bestsellers_test_week,sales_counts,on=['week', 'segment'])\n",
    "candidates_bestsellers = pd.concat([candidates_bestsellers, candidates_bestsellers_test_week])\n",
    "candidates_bestsellers.drop(columns='ranked_weighted_sales', inplace=True)\n",
    "\n",
    "### combine\n",
    "d = train_data.copy()\n",
    "d['purchased'] = True\n",
    "\n",
    "candidates = pd.concat([\n",
    "    d, candidates_last_purchase, candidates_bestsellers\n",
    "])"
   ],
   "metadata": {
    "collapsed": false,
    "ExecuteTime": {
     "end_time": "2023-12-05T22:17:07.318188400Z",
     "start_time": "2023-12-05T22:17:05.089887Z"
    }
   },
   "id": "6c26a563f55de344"
  },
  {
   "cell_type": "code",
   "execution_count": 170,
   "outputs": [
    {
     "data": {
      "text/plain": "             t_dat           customer_id  article_id     price  \\\n0       2020-07-15       272412481300040   778064028  0.008458   \n1       2020-07-15       272412481300040   816592008  0.016932   \n2       2020-07-15       272412481300040   621381021  0.033881   \n3       2020-07-15       272412481300040   817477003  0.025407   \n4       2020-07-15       272412481300040   899088002  0.025407   \n...            ...                   ...         ...       ...   \n5248375        NaT  18438270306572912089   915529003       NaN   \n5248376        NaT  18438270306572912089   915529005       NaN   \n5248377        NaT  18438270306572912089   918525001       NaN   \n5248378        NaT  18438270306572912089   924243001       NaN   \n5248379        NaT  18438270306572912089   924243002       NaN   \n\n         sales_channel_id  week  season    segment purchased  count  \\\n0                     1.0    95  Summer  age_young      True    NaN   \n1                     1.0    95  Summer  age_young      True    NaN   \n2                     1.0    95  Summer  age_young      True    NaN   \n3                     1.0    95  Summer  age_young      True    NaN   \n4                     1.0    95  Summer  age_young      True    NaN   \n...                   ...   ...     ...        ...       ...    ...   \n5248375               NaN   105     NaN  age_young       NaN  495.0   \n5248376               NaN   105     NaN  age_young       NaN  491.0   \n5248377               NaN   105     NaN  age_young       NaN  342.0   \n5248378               NaN   105     NaN  age_young       NaN  852.0   \n5248379               NaN   105     NaN  age_young       NaN  635.0   \n\n         season_score  weighted_sales  \n0                 NaN             NaN  \n1                 NaN             NaN  \n2                 NaN             NaN  \n3                 NaN             NaN  \n4                 NaN             NaN  \n...               ...             ...  \n5248375      0.683502       69.465452  \n5248376      0.676226       66.035734  \n5248377      0.676226       51.709947  \n5248378      0.676226       95.860383  \n5248379      0.683502       82.357338  \n\n[18915320 rows x 12 columns]",
      "text/html": "<div>\n<style scoped>\n    .dataframe tbody tr th:only-of-type {\n        vertical-align: middle;\n    }\n\n    .dataframe tbody tr th {\n        vertical-align: top;\n    }\n\n    .dataframe thead th {\n        text-align: right;\n    }\n</style>\n<table border=\"1\" class=\"dataframe\">\n  <thead>\n    <tr style=\"text-align: right;\">\n      <th></th>\n      <th>t_dat</th>\n      <th>customer_id</th>\n      <th>article_id</th>\n      <th>price</th>\n      <th>sales_channel_id</th>\n      <th>week</th>\n      <th>season</th>\n      <th>segment</th>\n      <th>purchased</th>\n      <th>count</th>\n      <th>season_score</th>\n      <th>weighted_sales</th>\n    </tr>\n  </thead>\n  <tbody>\n    <tr>\n      <th>0</th>\n      <td>2020-07-15</td>\n      <td>272412481300040</td>\n      <td>778064028</td>\n      <td>0.008458</td>\n      <td>1.0</td>\n      <td>95</td>\n      <td>Summer</td>\n      <td>age_young</td>\n      <td>True</td>\n      <td>NaN</td>\n      <td>NaN</td>\n      <td>NaN</td>\n    </tr>\n    <tr>\n      <th>1</th>\n      <td>2020-07-15</td>\n      <td>272412481300040</td>\n      <td>816592008</td>\n      <td>0.016932</td>\n      <td>1.0</td>\n      <td>95</td>\n      <td>Summer</td>\n      <td>age_young</td>\n      <td>True</td>\n      <td>NaN</td>\n      <td>NaN</td>\n      <td>NaN</td>\n    </tr>\n    <tr>\n      <th>2</th>\n      <td>2020-07-15</td>\n      <td>272412481300040</td>\n      <td>621381021</td>\n      <td>0.033881</td>\n      <td>1.0</td>\n      <td>95</td>\n      <td>Summer</td>\n      <td>age_young</td>\n      <td>True</td>\n      <td>NaN</td>\n      <td>NaN</td>\n      <td>NaN</td>\n    </tr>\n    <tr>\n      <th>3</th>\n      <td>2020-07-15</td>\n      <td>272412481300040</td>\n      <td>817477003</td>\n      <td>0.025407</td>\n      <td>1.0</td>\n      <td>95</td>\n      <td>Summer</td>\n      <td>age_young</td>\n      <td>True</td>\n      <td>NaN</td>\n      <td>NaN</td>\n      <td>NaN</td>\n    </tr>\n    <tr>\n      <th>4</th>\n      <td>2020-07-15</td>\n      <td>272412481300040</td>\n      <td>899088002</td>\n      <td>0.025407</td>\n      <td>1.0</td>\n      <td>95</td>\n      <td>Summer</td>\n      <td>age_young</td>\n      <td>True</td>\n      <td>NaN</td>\n      <td>NaN</td>\n      <td>NaN</td>\n    </tr>\n    <tr>\n      <th>...</th>\n      <td>...</td>\n      <td>...</td>\n      <td>...</td>\n      <td>...</td>\n      <td>...</td>\n      <td>...</td>\n      <td>...</td>\n      <td>...</td>\n      <td>...</td>\n      <td>...</td>\n      <td>...</td>\n      <td>...</td>\n    </tr>\n    <tr>\n      <th>5248375</th>\n      <td>NaT</td>\n      <td>18438270306572912089</td>\n      <td>915529003</td>\n      <td>NaN</td>\n      <td>NaN</td>\n      <td>105</td>\n      <td>NaN</td>\n      <td>age_young</td>\n      <td>NaN</td>\n      <td>495.0</td>\n      <td>0.683502</td>\n      <td>69.465452</td>\n    </tr>\n    <tr>\n      <th>5248376</th>\n      <td>NaT</td>\n      <td>18438270306572912089</td>\n      <td>915529005</td>\n      <td>NaN</td>\n      <td>NaN</td>\n      <td>105</td>\n      <td>NaN</td>\n      <td>age_young</td>\n      <td>NaN</td>\n      <td>491.0</td>\n      <td>0.676226</td>\n      <td>66.035734</td>\n    </tr>\n    <tr>\n      <th>5248377</th>\n      <td>NaT</td>\n      <td>18438270306572912089</td>\n      <td>918525001</td>\n      <td>NaN</td>\n      <td>NaN</td>\n      <td>105</td>\n      <td>NaN</td>\n      <td>age_young</td>\n      <td>NaN</td>\n      <td>342.0</td>\n      <td>0.676226</td>\n      <td>51.709947</td>\n    </tr>\n    <tr>\n      <th>5248378</th>\n      <td>NaT</td>\n      <td>18438270306572912089</td>\n      <td>924243001</td>\n      <td>NaN</td>\n      <td>NaN</td>\n      <td>105</td>\n      <td>NaN</td>\n      <td>age_young</td>\n      <td>NaN</td>\n      <td>852.0</td>\n      <td>0.676226</td>\n      <td>95.860383</td>\n    </tr>\n    <tr>\n      <th>5248379</th>\n      <td>NaT</td>\n      <td>18438270306572912089</td>\n      <td>924243002</td>\n      <td>NaN</td>\n      <td>NaN</td>\n      <td>105</td>\n      <td>NaN</td>\n      <td>age_young</td>\n      <td>NaN</td>\n      <td>635.0</td>\n      <td>0.683502</td>\n      <td>82.357338</td>\n    </tr>\n  </tbody>\n</table>\n<p>18915320 rows × 12 columns</p>\n</div>"
     },
     "execution_count": 170,
     "metadata": {},
     "output_type": "execute_result"
    }
   ],
   "source": [
    "candidates"
   ],
   "metadata": {
    "collapsed": false,
    "ExecuteTime": {
     "end_time": "2023-12-05T22:17:07.332944700Z",
     "start_time": "2023-12-05T22:17:07.319198500Z"
    }
   },
   "id": "5f45541acc130ac9"
  },
  {
   "cell_type": "code",
   "execution_count": 171,
   "outputs": [],
   "source": [
    "candidates.purchased.fillna(False, inplace=True)\n",
    "candidates.drop_duplicates(['customer_id', 'article_id', 'week'], inplace=True)\n",
    "\n",
    "candidates = pd.merge(\n",
    "    candidates,\n",
    "    sales_counts[['week', 'article_id', 'ranked_weighted_sales']],\n",
    "    on=['week', 'article_id'],\n",
    "    how='left'\n",
    ")\n",
    "candidates = candidates[candidates.week != candidates.week.min()]\n",
    "candidates[\"ranked_weighted_sales\"].fillna(999, inplace=True)\n",
    "\n",
    "candidates.sort_values(['week', 'customer_id'], inplace=True)\n",
    "candidates.reset_index(drop=True, inplace=True)\n",
    "\n",
    "train_examples = candidates[candidates.week != test_week]\n",
    "X_train = add_features(train_examples)\n",
    "Y_train = train_examples['purchased']\n",
    "\n",
    "ranker = LGBMRanker(\n",
    "    force_row_wise=True,\n",
    "    objective=\"lambdarank\",\n",
    "    metric=\"ndcg\",\n",
    "    boosting_type=\"dart\",\n",
    "    n_estimators=1,\n",
    "    importance_type='gain',\n",
    "    verbose=10\n",
    ")\n",
    "train_groups = train_examples.groupby(['week', 'customer_id'])['article_id'].count().values"
   ],
   "metadata": {
    "collapsed": false,
    "ExecuteTime": {
     "end_time": "2023-12-05T22:17:20.567082900Z",
     "start_time": "2023-12-05T22:17:07.332944700Z"
    }
   },
   "id": "bde7db6924f615bf"
  },
  {
   "cell_type": "code",
   "execution_count": 172,
   "outputs": [
    {
     "data": {
      "text/plain": "          article_id  product_type_no  graphical_appearance_no  \\\n0          887770001              253                  1010016   \n1          762846001              259                  1010016   \n2          829308001              273                  1010016   \n3          372860001              302                  1010016   \n4          547780003              272                  1010010   \n...              ...              ...                      ...   \n11395448   896169002              245                  1010010   \n11395449   911870003              252                  1010010   \n11395450   915529003              252                  1010016   \n11395451   918525001              252                  1010016   \n11395452   924243001              252                  1010016   \n\n          colour_group_code  perceived_colour_value_id  \\\n0                         9                          4   \n1                        10                          3   \n2                         9                          4   \n3                         9                          4   \n4                         7                          1   \n...                     ...                        ...   \n11395448                  7                          2   \n11395449                 15                          2   \n11395450                  9                          4   \n11395451                 13                          1   \n11395452                 13                          1   \n\n          perceived_colour_master_id  department_no  index_code  \\\n0                                  5           1510           0   \n1                                  9           1515           0   \n2                                  5           8310           9   \n3                                  5           3611           7   \n4                                 12           1643           1   \n...                              ...            ...         ...   \n11395448                          12           1626           0   \n11395449                           1           1626           0   \n11395450                           5           1626           0   \n11395451                           1           1626           0   \n11395452                           1           1626           0   \n\n          index_group_no  section_no  garment_group_no  FN  Active  \\\n0                      1           6              1010   1       1   \n1                      1          11              1010   1       1   \n2                     26           5              1005   1       1   \n3                      1          62              1021   1       1   \n4                      2          51              1002   1       1   \n...                  ...         ...               ...  ..     ...   \n11395448               1          15              1003   1       1   \n11395449               1          15              1003   1       1   \n11395450               1          15              1003   1       1   \n11395451               1          15              1003   1       1   \n11395452               1          15              1003   1       1   \n\n          club_member_status  fashion_news_frequency  age  postal_code  \\\n0                          0                       1   21        57896   \n1                          0                       1   21        57896   \n2                          0                       1   21        57896   \n3                          0                       1   21        57896   \n4                          0                       1   21        57896   \n...                      ...                     ...  ...          ...   \n11395448                   0                       1   60        96323   \n11395449                   0                       1   60        96323   \n11395450                   0                       1   60        96323   \n11395451                   0                       1   60        96323   \n11395452                   0                       1   60        96323   \n\n          ranked_weighted_sales  \n0                         999.0  \n1                         999.0  \n2                         999.0  \n3                           7.0  \n4                           1.0  \n...                         ...  \n11395448                   10.0  \n11395449                    5.0  \n11395450                    6.0  \n11395451                   12.0  \n11395452                    2.0  \n\n[11395453 rows x 18 columns]",
      "text/html": "<div>\n<style scoped>\n    .dataframe tbody tr th:only-of-type {\n        vertical-align: middle;\n    }\n\n    .dataframe tbody tr th {\n        vertical-align: top;\n    }\n\n    .dataframe thead th {\n        text-align: right;\n    }\n</style>\n<table border=\"1\" class=\"dataframe\">\n  <thead>\n    <tr style=\"text-align: right;\">\n      <th></th>\n      <th>article_id</th>\n      <th>product_type_no</th>\n      <th>graphical_appearance_no</th>\n      <th>colour_group_code</th>\n      <th>perceived_colour_value_id</th>\n      <th>perceived_colour_master_id</th>\n      <th>department_no</th>\n      <th>index_code</th>\n      <th>index_group_no</th>\n      <th>section_no</th>\n      <th>garment_group_no</th>\n      <th>FN</th>\n      <th>Active</th>\n      <th>club_member_status</th>\n      <th>fashion_news_frequency</th>\n      <th>age</th>\n      <th>postal_code</th>\n      <th>ranked_weighted_sales</th>\n    </tr>\n  </thead>\n  <tbody>\n    <tr>\n      <th>0</th>\n      <td>887770001</td>\n      <td>253</td>\n      <td>1010016</td>\n      <td>9</td>\n      <td>4</td>\n      <td>5</td>\n      <td>1510</td>\n      <td>0</td>\n      <td>1</td>\n      <td>6</td>\n      <td>1010</td>\n      <td>1</td>\n      <td>1</td>\n      <td>0</td>\n      <td>1</td>\n      <td>21</td>\n      <td>57896</td>\n      <td>999.0</td>\n    </tr>\n    <tr>\n      <th>1</th>\n      <td>762846001</td>\n      <td>259</td>\n      <td>1010016</td>\n      <td>10</td>\n      <td>3</td>\n      <td>9</td>\n      <td>1515</td>\n      <td>0</td>\n      <td>1</td>\n      <td>11</td>\n      <td>1010</td>\n      <td>1</td>\n      <td>1</td>\n      <td>0</td>\n      <td>1</td>\n      <td>21</td>\n      <td>57896</td>\n      <td>999.0</td>\n    </tr>\n    <tr>\n      <th>2</th>\n      <td>829308001</td>\n      <td>273</td>\n      <td>1010016</td>\n      <td>9</td>\n      <td>4</td>\n      <td>5</td>\n      <td>8310</td>\n      <td>9</td>\n      <td>26</td>\n      <td>5</td>\n      <td>1005</td>\n      <td>1</td>\n      <td>1</td>\n      <td>0</td>\n      <td>1</td>\n      <td>21</td>\n      <td>57896</td>\n      <td>999.0</td>\n    </tr>\n    <tr>\n      <th>3</th>\n      <td>372860001</td>\n      <td>302</td>\n      <td>1010016</td>\n      <td>9</td>\n      <td>4</td>\n      <td>5</td>\n      <td>3611</td>\n      <td>7</td>\n      <td>1</td>\n      <td>62</td>\n      <td>1021</td>\n      <td>1</td>\n      <td>1</td>\n      <td>0</td>\n      <td>1</td>\n      <td>21</td>\n      <td>57896</td>\n      <td>7.0</td>\n    </tr>\n    <tr>\n      <th>4</th>\n      <td>547780003</td>\n      <td>272</td>\n      <td>1010010</td>\n      <td>7</td>\n      <td>1</td>\n      <td>12</td>\n      <td>1643</td>\n      <td>1</td>\n      <td>2</td>\n      <td>51</td>\n      <td>1002</td>\n      <td>1</td>\n      <td>1</td>\n      <td>0</td>\n      <td>1</td>\n      <td>21</td>\n      <td>57896</td>\n      <td>1.0</td>\n    </tr>\n    <tr>\n      <th>...</th>\n      <td>...</td>\n      <td>...</td>\n      <td>...</td>\n      <td>...</td>\n      <td>...</td>\n      <td>...</td>\n      <td>...</td>\n      <td>...</td>\n      <td>...</td>\n      <td>...</td>\n      <td>...</td>\n      <td>...</td>\n      <td>...</td>\n      <td>...</td>\n      <td>...</td>\n      <td>...</td>\n      <td>...</td>\n      <td>...</td>\n    </tr>\n    <tr>\n      <th>11395448</th>\n      <td>896169002</td>\n      <td>245</td>\n      <td>1010010</td>\n      <td>7</td>\n      <td>2</td>\n      <td>12</td>\n      <td>1626</td>\n      <td>0</td>\n      <td>1</td>\n      <td>15</td>\n      <td>1003</td>\n      <td>1</td>\n      <td>1</td>\n      <td>0</td>\n      <td>1</td>\n      <td>60</td>\n      <td>96323</td>\n      <td>10.0</td>\n    </tr>\n    <tr>\n      <th>11395449</th>\n      <td>911870003</td>\n      <td>252</td>\n      <td>1010010</td>\n      <td>15</td>\n      <td>2</td>\n      <td>1</td>\n      <td>1626</td>\n      <td>0</td>\n      <td>1</td>\n      <td>15</td>\n      <td>1003</td>\n      <td>1</td>\n      <td>1</td>\n      <td>0</td>\n      <td>1</td>\n      <td>60</td>\n      <td>96323</td>\n      <td>5.0</td>\n    </tr>\n    <tr>\n      <th>11395450</th>\n      <td>915529003</td>\n      <td>252</td>\n      <td>1010016</td>\n      <td>9</td>\n      <td>4</td>\n      <td>5</td>\n      <td>1626</td>\n      <td>0</td>\n      <td>1</td>\n      <td>15</td>\n      <td>1003</td>\n      <td>1</td>\n      <td>1</td>\n      <td>0</td>\n      <td>1</td>\n      <td>60</td>\n      <td>96323</td>\n      <td>6.0</td>\n    </tr>\n    <tr>\n      <th>11395451</th>\n      <td>918525001</td>\n      <td>252</td>\n      <td>1010016</td>\n      <td>13</td>\n      <td>1</td>\n      <td>1</td>\n      <td>1626</td>\n      <td>0</td>\n      <td>1</td>\n      <td>15</td>\n      <td>1003</td>\n      <td>1</td>\n      <td>1</td>\n      <td>0</td>\n      <td>1</td>\n      <td>60</td>\n      <td>96323</td>\n      <td>12.0</td>\n    </tr>\n    <tr>\n      <th>11395452</th>\n      <td>924243001</td>\n      <td>252</td>\n      <td>1010016</td>\n      <td>13</td>\n      <td>1</td>\n      <td>1</td>\n      <td>1626</td>\n      <td>0</td>\n      <td>1</td>\n      <td>15</td>\n      <td>1003</td>\n      <td>1</td>\n      <td>1</td>\n      <td>0</td>\n      <td>1</td>\n      <td>60</td>\n      <td>96323</td>\n      <td>2.0</td>\n    </tr>\n  </tbody>\n</table>\n<p>11395453 rows × 18 columns</p>\n</div>"
     },
     "execution_count": 172,
     "metadata": {},
     "output_type": "execute_result"
    }
   ],
   "source": [
    "X_train"
   ],
   "metadata": {
    "collapsed": false,
    "ExecuteTime": {
     "end_time": "2023-12-05T22:17:20.583205700Z",
     "start_time": "2023-12-05T22:17:20.568079700Z"
    }
   },
   "id": "2c8deec04da7b95e"
  },
  {
   "cell_type": "code",
   "execution_count": 173,
   "outputs": [
    {
     "name": "stdout",
     "output_type": "stream",
     "text": [
      "[LightGBM] [Debug] Dataset::GetMultiBinFromAllFeatures: sparse rate 0.164178\n",
      "[LightGBM] [Info] Total Bins 1079\n",
      "[LightGBM] [Info] Number of data points in the train set: 11395453, number of used features: 18\n",
      "[LightGBM] [Debug] Trained a tree with leaves = 31 and depth = 12\n",
      "         ranked_weighted_sales 0.99899\n",
      "                    article_id 0.00021\n",
      "                           age 0.00021\n",
      "               product_type_no 0.00011\n",
      "              garment_group_no 0.00010\n",
      "             colour_group_code 0.00008\n",
      "            club_member_status 0.00007\n",
      "                   postal_code 0.00007\n",
      "                 department_no 0.00006\n",
      "    perceived_colour_master_id 0.00006\n",
      "                        Active 0.00002\n",
      "       graphical_appearance_no 0.00001\n",
      "        fashion_news_frequency 0.00000\n",
      "                            FN 0.00000\n",
      "                    section_no 0.00000\n",
      "                    index_code 0.00000\n",
      "     perceived_colour_value_id 0.00000\n",
      "                index_group_no 0.00000\n"
     ]
    }
   ],
   "source": [
    "ranker.fit(X_train, Y_train, group=train_groups)\n",
    "print_importance(ranker, X_train.columns)\n",
    "\n",
    "### test\n",
    "# candidates are generated similarly to the examples, only we don't know whether they are purchased\n",
    "# the same features are extracted and added\n",
    "# each candidate is scored by the ranker and predictions are generated using the highest scoring candidates\n",
    "test_candidates = candidates[candidates.week == test_week]\n",
    "\n",
    "X_test = add_features(test_candidates)\n",
    "predictions = get_predictions(test_candidates, X_test, ranker, 12)"
   ],
   "metadata": {
    "collapsed": false,
    "ExecuteTime": {
     "end_time": "2023-12-05T22:17:32.317771Z",
     "start_time": "2023-12-05T22:17:20.583205700Z"
    }
   },
   "id": "50c5da24ba3d7d3c"
  },
  {
   "cell_type": "code",
   "execution_count": 174,
   "outputs": [
    {
     "data": {
      "text/plain": "437365"
     },
     "execution_count": 174,
     "metadata": {},
     "output_type": "execute_result"
    }
   ],
   "source": [
    "len(predictions)"
   ],
   "metadata": {
    "collapsed": false,
    "ExecuteTime": {
     "end_time": "2023-12-05T22:17:32.334086900Z",
     "start_time": "2023-12-05T22:17:32.321155900Z"
    }
   },
   "id": "e7572f34a3d20a6b"
  },
  {
   "cell_type": "code",
   "execution_count": 175,
   "outputs": [],
   "source": [
    "### evaluate\n",
    "if test_week < transactions_train.week.max() + 1:\n",
    "    # get ground truth data for test week\n",
    "    purchases = get_purchases(transactions_train[transactions_train.week == test_week])\n",
    "\n",
    "    # fill missing prediction for customers in test set with popular items in last week\n",
    "    # only for customers in test set because only those are evaluated\n",
    "    popular = transactions_train[transactions_train.week == test_week-1].article_id.value_counts().head(12).index.values\n",
    "    predictions = fill_missing_predictions(predictions, purchases.customer_id, popular)\n",
    "\n",
    "    # calculate score\n",
    "    score = mean_average_precision(predictions, purchases, 12)\n",
    "    print(score)\n",
    "    score2 = recall(predictions, purchases, 12)\n",
    "    print(score2)\n",
    "\n",
    "### submit\n",
    "else:\n",
    "    # fill missing predictions for all customers with popular items in last week\n",
    "    # all customers because we don't know which ones will be evaluated\n",
    "    popular = transactions_train[transactions_train.week == test_week-1].article_id.value_counts().head(12).index.values\n",
    "    predictions = fill_missing_predictions(predictions, customers.customer_id, popular)\n",
    "\n",
    "    # write submission\n",
    "    sub = create_submission(predictions, sample_submission)\n",
    "    sub.to_csv(path + 'sub1.csv.gz', index=False)"
   ],
   "metadata": {
    "collapsed": false,
    "ExecuteTime": {
     "end_time": "2023-12-05T22:17:48.059347600Z",
     "start_time": "2023-12-05T22:17:32.336087900Z"
    }
   },
   "id": "a016c6adacab3ea1"
  },
  {
   "cell_type": "code",
   "execution_count": 176,
   "outputs": [
    {
     "data": {
      "text/plain": "        week  article_id    segment  count  season_score  weighted_sales  \\\n2316      96   372860001  age_young    344      0.524160       21.358092   \n7835      96   547780003  age_young    423      0.554545       28.603742   \n11989     96   579541001  age_young    115      0.670383       24.068885   \n22733     96   678942001  age_young    172      0.623273       24.736854   \n22811     96   678942057  age_young    118      0.663542       23.701807   \n...      ...         ...        ...    ...           ...             ...   \n175511   105   915529003  age_young    495      0.683502       69.465452   \n190128   105   915529005  age_young    491      0.676226       66.035734   \n193407   105   918525001  age_young    342      0.676226       51.709947   \n190339   105   924243001  age_young    852      0.676226       95.860383   \n193505   105   924243002  age_young    635      0.683502       82.357338   \n\n        ranked_weighted_sales  \n2316                        7  \n7835                        1  \n11989                       3  \n22733                       2  \n22811                       4  \n...                       ...  \n175511                      4  \n190128                      5  \n193407                     11  \n190339                      1  \n193505                      2  \n\n[120 rows x 7 columns]",
      "text/html": "<div>\n<style scoped>\n    .dataframe tbody tr th:only-of-type {\n        vertical-align: middle;\n    }\n\n    .dataframe tbody tr th {\n        vertical-align: top;\n    }\n\n    .dataframe thead th {\n        text-align: right;\n    }\n</style>\n<table border=\"1\" class=\"dataframe\">\n  <thead>\n    <tr style=\"text-align: right;\">\n      <th></th>\n      <th>week</th>\n      <th>article_id</th>\n      <th>segment</th>\n      <th>count</th>\n      <th>season_score</th>\n      <th>weighted_sales</th>\n      <th>ranked_weighted_sales</th>\n    </tr>\n  </thead>\n  <tbody>\n    <tr>\n      <th>2316</th>\n      <td>96</td>\n      <td>372860001</td>\n      <td>age_young</td>\n      <td>344</td>\n      <td>0.524160</td>\n      <td>21.358092</td>\n      <td>7</td>\n    </tr>\n    <tr>\n      <th>7835</th>\n      <td>96</td>\n      <td>547780003</td>\n      <td>age_young</td>\n      <td>423</td>\n      <td>0.554545</td>\n      <td>28.603742</td>\n      <td>1</td>\n    </tr>\n    <tr>\n      <th>11989</th>\n      <td>96</td>\n      <td>579541001</td>\n      <td>age_young</td>\n      <td>115</td>\n      <td>0.670383</td>\n      <td>24.068885</td>\n      <td>3</td>\n    </tr>\n    <tr>\n      <th>22733</th>\n      <td>96</td>\n      <td>678942001</td>\n      <td>age_young</td>\n      <td>172</td>\n      <td>0.623273</td>\n      <td>24.736854</td>\n      <td>2</td>\n    </tr>\n    <tr>\n      <th>22811</th>\n      <td>96</td>\n      <td>678942057</td>\n      <td>age_young</td>\n      <td>118</td>\n      <td>0.663542</td>\n      <td>23.701807</td>\n      <td>4</td>\n    </tr>\n    <tr>\n      <th>...</th>\n      <td>...</td>\n      <td>...</td>\n      <td>...</td>\n      <td>...</td>\n      <td>...</td>\n      <td>...</td>\n      <td>...</td>\n    </tr>\n    <tr>\n      <th>175511</th>\n      <td>105</td>\n      <td>915529003</td>\n      <td>age_young</td>\n      <td>495</td>\n      <td>0.683502</td>\n      <td>69.465452</td>\n      <td>4</td>\n    </tr>\n    <tr>\n      <th>190128</th>\n      <td>105</td>\n      <td>915529005</td>\n      <td>age_young</td>\n      <td>491</td>\n      <td>0.676226</td>\n      <td>66.035734</td>\n      <td>5</td>\n    </tr>\n    <tr>\n      <th>193407</th>\n      <td>105</td>\n      <td>918525001</td>\n      <td>age_young</td>\n      <td>342</td>\n      <td>0.676226</td>\n      <td>51.709947</td>\n      <td>11</td>\n    </tr>\n    <tr>\n      <th>190339</th>\n      <td>105</td>\n      <td>924243001</td>\n      <td>age_young</td>\n      <td>852</td>\n      <td>0.676226</td>\n      <td>95.860383</td>\n      <td>1</td>\n    </tr>\n    <tr>\n      <th>193505</th>\n      <td>105</td>\n      <td>924243002</td>\n      <td>age_young</td>\n      <td>635</td>\n      <td>0.683502</td>\n      <td>82.357338</td>\n      <td>2</td>\n    </tr>\n  </tbody>\n</table>\n<p>120 rows × 7 columns</p>\n</div>"
     },
     "execution_count": 176,
     "metadata": {},
     "output_type": "execute_result"
    }
   ],
   "source": [
    "sales_counts"
   ],
   "metadata": {
    "collapsed": false,
    "ExecuteTime": {
     "end_time": "2023-12-05T22:17:48.079361500Z",
     "start_time": "2023-12-05T22:17:48.059347600Z"
    }
   },
   "id": "47cd3097cf1a3f8b"
  }
 ],
 "metadata": {
  "kernelspec": {
   "display_name": "Python 3",
   "language": "python",
   "name": "python3"
  },
  "language_info": {
   "codemirror_mode": {
    "name": "ipython",
    "version": 2
   },
   "file_extension": ".py",
   "mimetype": "text/x-python",
   "name": "python",
   "nbconvert_exporter": "python",
   "pygments_lexer": "ipython2",
   "version": "2.7.6"
  }
 },
 "nbformat": 4,
 "nbformat_minor": 5
}
