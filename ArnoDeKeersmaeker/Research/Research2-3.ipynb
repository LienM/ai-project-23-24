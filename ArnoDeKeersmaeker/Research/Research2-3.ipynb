{
 "cells": [
  {
   "cell_type": "markdown",
   "source": [
    "# Seasonal preferences - Research 2 and 3\n",
    "Understanding seasonal trends and using this information to generate better recommendations"
   ],
   "metadata": {
    "collapsed": false
   },
   "id": "3931865d991ee1d3"
  },
  {
   "cell_type": "code",
   "execution_count": 1,
   "outputs": [],
   "source": [
    "import pandas as pd\n",
    "import seaborn as sns\n",
    "import matplotlib.pyplot as plt\n",
    "import numpy as np\n",
    "from sklearn.preprocessing import MinMaxScaler\n",
    "from lightgbm.sklearn import LGBMRanker\n",
    "from experiment_template import *\n",
    "from datetime import datetime\n",
    "import os as os"
   ],
   "metadata": {
    "collapsed": false,
    "ExecuteTime": {
     "end_time": "2023-12-22T00:46:33.063301600Z",
     "start_time": "2023-12-22T00:46:32.916521600Z"
    }
   },
   "id": "initial_id"
  },
  {
   "cell_type": "code",
   "execution_count": 2,
   "outputs": [
    {
     "name": "stdout",
     "output_type": "stream",
     "text": [
      "C:\\Users\\Arno\\Documents\\GitHub\\ai-project-23-24\\ArnoDeKeersmaeker\\Research\n"
     ]
    }
   ],
   "source": [
    "path = \"../Data/\"\n",
    "testing = False\n",
    "print(os.getcwd())\n",
    "transactions_train = pd.read_parquet(path + 'transactions_train.parquet')\n",
    "customers = pd.read_parquet(path + 'customers.parquet')\n",
    "articles = pd.read_parquet(path + 'articles.parquet')\n",
    "sample_submission = pd.read_csv(path + 'sample_submission.csv')"
   ],
   "metadata": {
    "collapsed": false,
    "ExecuteTime": {
     "end_time": "2023-12-22T00:46:35.253463500Z",
     "start_time": "2023-12-22T00:46:33.054293100Z"
    }
   },
   "id": "7cdfc3d97fe55e09"
  },
  {
   "cell_type": "code",
   "execution_count": 3,
   "outputs": [
    {
     "data": {
      "text/plain": "           t_dat       customer_id  article_id     price  sales_channel_id  \\\n25784 2018-09-20  1728846800780188   519773001  0.028458                 2   \n25785 2018-09-20  1728846800780188   578472001  0.032525                 2   \n5389  2018-09-20  2076973761519164   661795002  0.167797                 2   \n5390  2018-09-20  2076973761519164   684080003  0.101678                 2   \n47429 2018-09-20  2918879973994241   662980001  0.033881                 1   \n\n       week  \n25784     0  \n25785     0  \n5389      0  \n5390      0  \n47429     0  ",
      "text/html": "<div>\n<style scoped>\n    .dataframe tbody tr th:only-of-type {\n        vertical-align: middle;\n    }\n\n    .dataframe tbody tr th {\n        vertical-align: top;\n    }\n\n    .dataframe thead th {\n        text-align: right;\n    }\n</style>\n<table border=\"1\" class=\"dataframe\">\n  <thead>\n    <tr style=\"text-align: right;\">\n      <th></th>\n      <th>t_dat</th>\n      <th>customer_id</th>\n      <th>article_id</th>\n      <th>price</th>\n      <th>sales_channel_id</th>\n      <th>week</th>\n    </tr>\n  </thead>\n  <tbody>\n    <tr>\n      <th>25784</th>\n      <td>2018-09-20</td>\n      <td>1728846800780188</td>\n      <td>519773001</td>\n      <td>0.028458</td>\n      <td>2</td>\n      <td>0</td>\n    </tr>\n    <tr>\n      <th>25785</th>\n      <td>2018-09-20</td>\n      <td>1728846800780188</td>\n      <td>578472001</td>\n      <td>0.032525</td>\n      <td>2</td>\n      <td>0</td>\n    </tr>\n    <tr>\n      <th>5389</th>\n      <td>2018-09-20</td>\n      <td>2076973761519164</td>\n      <td>661795002</td>\n      <td>0.167797</td>\n      <td>2</td>\n      <td>0</td>\n    </tr>\n    <tr>\n      <th>5390</th>\n      <td>2018-09-20</td>\n      <td>2076973761519164</td>\n      <td>684080003</td>\n      <td>0.101678</td>\n      <td>2</td>\n      <td>0</td>\n    </tr>\n    <tr>\n      <th>47429</th>\n      <td>2018-09-20</td>\n      <td>2918879973994241</td>\n      <td>662980001</td>\n      <td>0.033881</td>\n      <td>1</td>\n      <td>0</td>\n    </tr>\n  </tbody>\n</table>\n</div>"
     },
     "execution_count": 3,
     "metadata": {},
     "output_type": "execute_result"
    }
   ],
   "source": [
    "transactions_train.head()"
   ],
   "metadata": {
    "collapsed": false,
    "ExecuteTime": {
     "end_time": "2023-12-22T00:46:35.267618400Z",
     "start_time": "2023-12-22T00:46:35.248463400Z"
    }
   },
   "id": "5ec05ab31f8b36b3"
  },
  {
   "cell_type": "markdown",
   "source": [
    "## Grouping transactions into seasons ##\n",
    "Seasons can be defined below. The current season is the season that is used for comparing trends with the other seasons."
   ],
   "metadata": {
    "collapsed": false
   },
   "id": "8208c979a103d989"
  },
  {
   "cell_type": "code",
   "execution_count": 4,
   "outputs": [],
   "source": [
    "# # Define periods here\n",
    "# seasons = {\n",
    "#     \"Summer\": [6,7,8],\n",
    "#     \"Autumn\": [9,10,11],\n",
    "#     \"Winter\": [12,1,2],\n",
    "#     \"Spring\": [3,4,5]\n",
    "# }\n",
    "# # Define the name of the current period (end of September)\n",
    "# current_season = \"Autumn\"\n",
    "# \n",
    "# ##### SANITY CHECKS #####\n",
    "# assert current_season in seasons.keys() # Current period exists\n",
    "# assert set(month_nr for month_nrs in seasons.values() for month_nr in month_nrs) == set(range(1,13)) # Valid month numbers\n",
    "# assert len([month_nr for month_nrs in seasons.values() for month_nr in month_nrs]) == 12 # Exactly 12 months\n",
    "# #########################\n",
    "# \n",
    "# inverted = {month_nr: period for period, month_nrs in seasons.items() for month_nr in month_nrs} # For more efficient lookup\n",
    "# \n",
    "# def get_season(month_nr):\n",
    "#     assert month_nr in range(1,13) # dataset check\n",
    "#     return inverted[month_nr]\n",
    "# \n",
    "# transactions_train[\"t_dat\"] = pd.to_datetime(transactions_train[\"t_dat\"])\n",
    "# transactions_train[\"season\"] = transactions_train[\"t_dat\"].dt.month.apply(get_season) # month number to season name"
   ],
   "metadata": {
    "collapsed": false,
    "ExecuteTime": {
     "end_time": "2023-12-22T00:46:35.292804800Z",
     "start_time": "2023-12-22T00:46:35.265592600Z"
    }
   },
   "id": "61c8333e12d7c0"
  },
  {
   "cell_type": "code",
   "execution_count": 5,
   "outputs": [],
   "source": [
    "seasons = { # define using week numbers\n",
    "    \"Summer\": list(range(22, 35)),\n",
    "    \"Autumn\": list(range(35, 45)),\n",
    "    \"Winter\": list(range(45, 54)) + list(range(1, 9)),\n",
    "    \"Spring\": list(range(9, 22))\n",
    "}\n",
    "# Define the name of the current period (end of September)\n",
    "current_season = \"Autumn\"\n",
    "\n",
    "##### SANITY CHECKS #####\n",
    "assert current_season in seasons.keys() # Current period exists\n",
    "assert set(week_nr for week_nrs in seasons.values() for week_nr in week_nrs) == set(range(1,54)) # Valid month numbers\n",
    "assert len([week_nr for week_nrs in seasons.values() for week_nr in week_nrs]) == 53 # Exactly 52 weeks\n",
    "#########################\n",
    "\n",
    "inverted = {week_nr: period for period, week_nrs in seasons.items() for week_nr in week_nrs} # For more efficient lookup\n",
    "lookup = {}\n",
    "\n",
    "days_in_month = [31,28,31,30,31,30,31,31,30,31,30,31]\n",
    "def get_season(t_dat):\n",
    "    if (t_dat.month, t_dat.day) in lookup: # cache\n",
    "        return lookup[(t_dat.month, t_dat.day)]\n",
    "    \n",
    "    day_nr = sum(days_in_month[:t_dat.month-1]) + t_dat.day \n",
    "    week_nr = ((day_nr-1) // 7) + 1 \n",
    "    season = inverted[week_nr] # week number to season name\n",
    "    lookup[(t_dat.month, t_dat.day)] = season # save to cache\n",
    "    return season\n",
    "\n",
    "transactions_train[\"t_dat\"] = pd.to_datetime(transactions_train[\"t_dat\"]) \n",
    "transactions_train[\"season\"] = transactions_train[\"t_dat\"].apply(get_season) # month number to season name"
   ],
   "metadata": {
    "collapsed": false,
    "ExecuteTime": {
     "end_time": "2023-12-22T00:46:51.923156300Z",
     "start_time": "2023-12-22T00:46:35.281960700Z"
    }
   },
   "id": "a2fa930661157def"
  },
  {
   "cell_type": "code",
   "execution_count": 6,
   "outputs": [
    {
     "data": {
      "text/plain": "        index      t_dat  season\n0       25784 2018-09-20  Autumn\n1       66713 2018-09-21  Autumn\n2       98452 2018-09-22  Autumn\n3      155449 2018-09-23  Autumn\n4      186101 2018-09-24  Autumn\n..        ...        ...     ...\n729  31645833 2020-09-18  Autumn\n730  31678015 2020-09-19  Autumn\n731  31700441 2020-09-20  Autumn\n732  31738026 2020-09-21  Autumn\n733  31776825 2020-09-22  Autumn\n\n[734 rows x 3 columns]",
      "text/html": "<div>\n<style scoped>\n    .dataframe tbody tr th:only-of-type {\n        vertical-align: middle;\n    }\n\n    .dataframe tbody tr th {\n        vertical-align: top;\n    }\n\n    .dataframe thead th {\n        text-align: right;\n    }\n</style>\n<table border=\"1\" class=\"dataframe\">\n  <thead>\n    <tr style=\"text-align: right;\">\n      <th></th>\n      <th>index</th>\n      <th>t_dat</th>\n      <th>season</th>\n    </tr>\n  </thead>\n  <tbody>\n    <tr>\n      <th>0</th>\n      <td>25784</td>\n      <td>2018-09-20</td>\n      <td>Autumn</td>\n    </tr>\n    <tr>\n      <th>1</th>\n      <td>66713</td>\n      <td>2018-09-21</td>\n      <td>Autumn</td>\n    </tr>\n    <tr>\n      <th>2</th>\n      <td>98452</td>\n      <td>2018-09-22</td>\n      <td>Autumn</td>\n    </tr>\n    <tr>\n      <th>3</th>\n      <td>155449</td>\n      <td>2018-09-23</td>\n      <td>Autumn</td>\n    </tr>\n    <tr>\n      <th>4</th>\n      <td>186101</td>\n      <td>2018-09-24</td>\n      <td>Autumn</td>\n    </tr>\n    <tr>\n      <th>...</th>\n      <td>...</td>\n      <td>...</td>\n      <td>...</td>\n    </tr>\n    <tr>\n      <th>729</th>\n      <td>31645833</td>\n      <td>2020-09-18</td>\n      <td>Autumn</td>\n    </tr>\n    <tr>\n      <th>730</th>\n      <td>31678015</td>\n      <td>2020-09-19</td>\n      <td>Autumn</td>\n    </tr>\n    <tr>\n      <th>731</th>\n      <td>31700441</td>\n      <td>2020-09-20</td>\n      <td>Autumn</td>\n    </tr>\n    <tr>\n      <th>732</th>\n      <td>31738026</td>\n      <td>2020-09-21</td>\n      <td>Autumn</td>\n    </tr>\n    <tr>\n      <th>733</th>\n      <td>31776825</td>\n      <td>2020-09-22</td>\n      <td>Autumn</td>\n    </tr>\n  </tbody>\n</table>\n<p>734 rows × 3 columns</p>\n</div>"
     },
     "execution_count": 6,
     "metadata": {},
     "output_type": "execute_result"
    }
   ],
   "source": [
    "# Quickly check the season assignment here\n",
    "transactions_train[['t_dat', 'season']].sort_values(by='t_dat', ascending=True).drop_duplicates().reset_index()"
   ],
   "metadata": {
    "collapsed": false,
    "ExecuteTime": {
     "end_time": "2023-12-22T00:46:54.557956800Z",
     "start_time": "2023-12-22T00:46:51.924154200Z"
    }
   },
   "id": "a5b70d06e376de94"
  },
  {
   "cell_type": "code",
   "execution_count": 7,
   "outputs": [
    {
     "name": "stdout",
     "output_type": "stream",
     "text": [
      "31788324\n"
     ]
    }
   ],
   "source": [
    "print(len(transactions_train))"
   ],
   "metadata": {
    "collapsed": false,
    "ExecuteTime": {
     "end_time": "2023-12-22T00:46:54.592288100Z",
     "start_time": "2023-12-22T00:46:54.557956800Z"
    }
   },
   "id": "70704c92f8580d8f"
  },
  {
   "cell_type": "markdown",
   "source": [
    "## Grouping customers into segments ##\n",
    "Trends are different for people in different segments (age group etc). Therefore, we need group customers into segments.\n",
    "Segments will have entirely separated score calculations."
   ],
   "metadata": {
    "collapsed": false
   },
   "id": "74a6f6adf0e94811"
  },
  {
   "cell_type": "code",
   "execution_count": 8,
   "outputs": [
    {
     "data": {
      "text/plain": "                  customer_id  FN  Active  club_member_status  \\\n0         6883939031699146327  -1      -1                   0   \n1        11246327431398957306  -1      -1                   0   \n2        18439897732908966680  -1      -1                   0   \n3        18352672461570950206  -1      -1                   0   \n4        18162778555210377306   1       1                   0   \n...                       ...  ..     ...                 ...   \n1371975   7551062398649767985  -1      -1                   0   \n1371976   9305341941720086711  -1      -1                   0   \n1371977  10160427316885688932   1       1                   0   \n1371978   2551401172826382186   1       1                   0   \n1371979  16929951892735599169  -1      -1                   1   \n\n         fashion_news_frequency  age  postal_code  \n0                             0   49         6305  \n1                             0   25        33726  \n2                             0   24         3247  \n3                             0   54       168643  \n4                             1   52       168645  \n...                         ...  ...          ...  \n1371975                       0   24        50351  \n1371976                       0   21        80169  \n1371977                       1   21       106737  \n1371978                       1   18       111894  \n1371979                       0   65       352898  \n\n[1371980 rows x 7 columns]",
      "text/html": "<div>\n<style scoped>\n    .dataframe tbody tr th:only-of-type {\n        vertical-align: middle;\n    }\n\n    .dataframe tbody tr th {\n        vertical-align: top;\n    }\n\n    .dataframe thead th {\n        text-align: right;\n    }\n</style>\n<table border=\"1\" class=\"dataframe\">\n  <thead>\n    <tr style=\"text-align: right;\">\n      <th></th>\n      <th>customer_id</th>\n      <th>FN</th>\n      <th>Active</th>\n      <th>club_member_status</th>\n      <th>fashion_news_frequency</th>\n      <th>age</th>\n      <th>postal_code</th>\n    </tr>\n  </thead>\n  <tbody>\n    <tr>\n      <th>0</th>\n      <td>6883939031699146327</td>\n      <td>-1</td>\n      <td>-1</td>\n      <td>0</td>\n      <td>0</td>\n      <td>49</td>\n      <td>6305</td>\n    </tr>\n    <tr>\n      <th>1</th>\n      <td>11246327431398957306</td>\n      <td>-1</td>\n      <td>-1</td>\n      <td>0</td>\n      <td>0</td>\n      <td>25</td>\n      <td>33726</td>\n    </tr>\n    <tr>\n      <th>2</th>\n      <td>18439897732908966680</td>\n      <td>-1</td>\n      <td>-1</td>\n      <td>0</td>\n      <td>0</td>\n      <td>24</td>\n      <td>3247</td>\n    </tr>\n    <tr>\n      <th>3</th>\n      <td>18352672461570950206</td>\n      <td>-1</td>\n      <td>-1</td>\n      <td>0</td>\n      <td>0</td>\n      <td>54</td>\n      <td>168643</td>\n    </tr>\n    <tr>\n      <th>4</th>\n      <td>18162778555210377306</td>\n      <td>1</td>\n      <td>1</td>\n      <td>0</td>\n      <td>1</td>\n      <td>52</td>\n      <td>168645</td>\n    </tr>\n    <tr>\n      <th>...</th>\n      <td>...</td>\n      <td>...</td>\n      <td>...</td>\n      <td>...</td>\n      <td>...</td>\n      <td>...</td>\n      <td>...</td>\n    </tr>\n    <tr>\n      <th>1371975</th>\n      <td>7551062398649767985</td>\n      <td>-1</td>\n      <td>-1</td>\n      <td>0</td>\n      <td>0</td>\n      <td>24</td>\n      <td>50351</td>\n    </tr>\n    <tr>\n      <th>1371976</th>\n      <td>9305341941720086711</td>\n      <td>-1</td>\n      <td>-1</td>\n      <td>0</td>\n      <td>0</td>\n      <td>21</td>\n      <td>80169</td>\n    </tr>\n    <tr>\n      <th>1371977</th>\n      <td>10160427316885688932</td>\n      <td>1</td>\n      <td>1</td>\n      <td>0</td>\n      <td>1</td>\n      <td>21</td>\n      <td>106737</td>\n    </tr>\n    <tr>\n      <th>1371978</th>\n      <td>2551401172826382186</td>\n      <td>1</td>\n      <td>1</td>\n      <td>0</td>\n      <td>1</td>\n      <td>18</td>\n      <td>111894</td>\n    </tr>\n    <tr>\n      <th>1371979</th>\n      <td>16929951892735599169</td>\n      <td>-1</td>\n      <td>-1</td>\n      <td>1</td>\n      <td>0</td>\n      <td>65</td>\n      <td>352898</td>\n    </tr>\n  </tbody>\n</table>\n<p>1371980 rows × 7 columns</p>\n</div>"
     },
     "execution_count": 8,
     "metadata": {},
     "output_type": "execute_result"
    }
   ],
   "source": [
    "# Prepare the customers dataframe for segmentation\n",
    "\n",
    "average_age = int(customers[customers['age'] != -1]['age'].mean()) # do not include -1 for average age\n",
    "customers['age'] = customers['age'].replace(-1, int(average_age))\n",
    "\n",
    "\n",
    "##### SANITY CHECKS #####\n",
    "assert all(customers['age'] != -1) # no more -1 values\n",
    "assert not customers[\"age\"].hasnans\n",
    "#########################\n",
    "\n",
    "customers"
   ],
   "metadata": {
    "collapsed": false,
    "ExecuteTime": {
     "end_time": "2023-12-22T00:46:54.668078300Z",
     "start_time": "2023-12-22T00:46:54.574854200Z"
    }
   },
   "id": "8624fac23ec975c1"
  },
  {
   "cell_type": "code",
   "execution_count": 9,
   "outputs": [
    {
     "name": "stdout",
     "output_type": "stream",
     "text": [
      "Customer segments: ['age_young']\n"
     ]
    },
    {
     "data": {
      "text/plain": "                  customer_id  FN  Active  club_member_status  \\\n0         6883939031699146327  -1      -1                   0   \n1        11246327431398957306  -1      -1                   0   \n2        18439897732908966680  -1      -1                   0   \n3        18352672461570950206  -1      -1                   0   \n4        18162778555210377306   1       1                   0   \n...                       ...  ..     ...                 ...   \n1371975   7551062398649767985  -1      -1                   0   \n1371976   9305341941720086711  -1      -1                   0   \n1371977  10160427316885688932   1       1                   0   \n1371978   2551401172826382186   1       1                   0   \n1371979  16929951892735599169  -1      -1                   1   \n\n         fashion_news_frequency  age  postal_code    segment  \n0                             0   49         6305  age_young  \n1                             0   25        33726  age_young  \n2                             0   24         3247  age_young  \n3                             0   54       168643  age_young  \n4                             1   52       168645  age_young  \n...                         ...  ...          ...        ...  \n1371975                       0   24        50351  age_young  \n1371976                       0   21        80169  age_young  \n1371977                       1   21       106737  age_young  \n1371978                       1   18       111894  age_young  \n1371979                       0   65       352898  age_young  \n\n[1371980 rows x 8 columns]",
      "text/html": "<div>\n<style scoped>\n    .dataframe tbody tr th:only-of-type {\n        vertical-align: middle;\n    }\n\n    .dataframe tbody tr th {\n        vertical-align: top;\n    }\n\n    .dataframe thead th {\n        text-align: right;\n    }\n</style>\n<table border=\"1\" class=\"dataframe\">\n  <thead>\n    <tr style=\"text-align: right;\">\n      <th></th>\n      <th>customer_id</th>\n      <th>FN</th>\n      <th>Active</th>\n      <th>club_member_status</th>\n      <th>fashion_news_frequency</th>\n      <th>age</th>\n      <th>postal_code</th>\n      <th>segment</th>\n    </tr>\n  </thead>\n  <tbody>\n    <tr>\n      <th>0</th>\n      <td>6883939031699146327</td>\n      <td>-1</td>\n      <td>-1</td>\n      <td>0</td>\n      <td>0</td>\n      <td>49</td>\n      <td>6305</td>\n      <td>age_young</td>\n    </tr>\n    <tr>\n      <th>1</th>\n      <td>11246327431398957306</td>\n      <td>-1</td>\n      <td>-1</td>\n      <td>0</td>\n      <td>0</td>\n      <td>25</td>\n      <td>33726</td>\n      <td>age_young</td>\n    </tr>\n    <tr>\n      <th>2</th>\n      <td>18439897732908966680</td>\n      <td>-1</td>\n      <td>-1</td>\n      <td>0</td>\n      <td>0</td>\n      <td>24</td>\n      <td>3247</td>\n      <td>age_young</td>\n    </tr>\n    <tr>\n      <th>3</th>\n      <td>18352672461570950206</td>\n      <td>-1</td>\n      <td>-1</td>\n      <td>0</td>\n      <td>0</td>\n      <td>54</td>\n      <td>168643</td>\n      <td>age_young</td>\n    </tr>\n    <tr>\n      <th>4</th>\n      <td>18162778555210377306</td>\n      <td>1</td>\n      <td>1</td>\n      <td>0</td>\n      <td>1</td>\n      <td>52</td>\n      <td>168645</td>\n      <td>age_young</td>\n    </tr>\n    <tr>\n      <th>...</th>\n      <td>...</td>\n      <td>...</td>\n      <td>...</td>\n      <td>...</td>\n      <td>...</td>\n      <td>...</td>\n      <td>...</td>\n      <td>...</td>\n    </tr>\n    <tr>\n      <th>1371975</th>\n      <td>7551062398649767985</td>\n      <td>-1</td>\n      <td>-1</td>\n      <td>0</td>\n      <td>0</td>\n      <td>24</td>\n      <td>50351</td>\n      <td>age_young</td>\n    </tr>\n    <tr>\n      <th>1371976</th>\n      <td>9305341941720086711</td>\n      <td>-1</td>\n      <td>-1</td>\n      <td>0</td>\n      <td>0</td>\n      <td>21</td>\n      <td>80169</td>\n      <td>age_young</td>\n    </tr>\n    <tr>\n      <th>1371977</th>\n      <td>10160427316885688932</td>\n      <td>1</td>\n      <td>1</td>\n      <td>0</td>\n      <td>1</td>\n      <td>21</td>\n      <td>106737</td>\n      <td>age_young</td>\n    </tr>\n    <tr>\n      <th>1371978</th>\n      <td>2551401172826382186</td>\n      <td>1</td>\n      <td>1</td>\n      <td>0</td>\n      <td>1</td>\n      <td>18</td>\n      <td>111894</td>\n      <td>age_young</td>\n    </tr>\n    <tr>\n      <th>1371979</th>\n      <td>16929951892735599169</td>\n      <td>-1</td>\n      <td>-1</td>\n      <td>1</td>\n      <td>0</td>\n      <td>65</td>\n      <td>352898</td>\n      <td>age_young</td>\n    </tr>\n  </tbody>\n</table>\n<p>1371980 rows × 8 columns</p>\n</div>"
     },
     "execution_count": 9,
     "metadata": {},
     "output_type": "execute_result"
    }
   ],
   "source": [
    "# segment definition   column_name -> dict {column_value -> segment_name}\n",
    "segments = {\n",
    "    # \"age\" : {float(age): \"young\" if age < 35 else \"middle-old\" for age in range(0,120)},\n",
    "    # \"FN\" : {1.0 : \"yes_FN\", -1.0: \"no_FN\"},\n",
    "    \"age\" : {float(age): \"age_young\" for age in range(0,120)}\n",
    "}\n",
    "\n",
    "segmented_customers = customers.copy()\n",
    "segment_names = set()\n",
    "\n",
    "def assign_segment(row):\n",
    "    # Decide the segment for a single customer\n",
    "    segment_name = [segments[column][row[column]] for column in segments] # find label for each column\n",
    "    segment_name = \"/\".join(segment_name) # composite segment name eg \"age_young/yes_FN\"\n",
    "    segment_names.add(segment_name)\n",
    "    return segment_name\n",
    "\n",
    "# Apply to every customer\n",
    "segmented_customers['segment'] = segmented_customers.apply(assign_segment, axis=1)\n",
    "\n",
    "segment_names = list(segment_names)\n",
    "print(f\"Customer segments: {segment_names}\")\n",
    "\n",
    "##### SANITY CHECKS #####\n",
    "for column in segments.keys(): assert column in customers.columns # columns that determine segments need to exist\n",
    "assert len(segmented_customers) == len(customers) # divides all customers into segments\n",
    "assert all(segment_name not in customers.columns for segment_name in segment_names) # segment names will be added as columns so need to be new\n",
    "assert all(segment_name not in articles.columns for segment_name in segment_names)\n",
    "assert all(segment_name not in transactions_train.columns for segment_name in segment_names)\n",
    "#########################\n",
    "\n",
    "segmented_customers"
   ],
   "metadata": {
    "collapsed": false,
    "ExecuteTime": {
     "end_time": "2023-12-22T00:46:57.874767700Z",
     "start_time": "2023-12-22T00:46:54.669078300Z"
    }
   },
   "id": "be2b9c02522df743"
  },
  {
   "cell_type": "code",
   "execution_count": 10,
   "outputs": [],
   "source": [
    "# Other attributes become irrelevant after determining the segment\n",
    "segmented_customers = segmented_customers[['customer_id', 'segment']]\n",
    "\n",
    "# Add segment to transactions, so we can split them up later\n",
    "transactions = pd.merge(transactions_train, segmented_customers, on=\"customer_id\") # add segment to customers\n",
    "assert len(transactions) == len(transactions_train)"
   ],
   "metadata": {
    "collapsed": false,
    "ExecuteTime": {
     "end_time": "2023-12-22T00:47:01.899466300Z",
     "start_time": "2023-12-22T00:46:57.877771100Z"
    }
   },
   "id": "c46dfff4a5c44688"
  },
  {
   "cell_type": "code",
   "execution_count": 11,
   "outputs": [],
   "source": [
    "# split the transactions: segment_name -> transactions\n",
    "transactions_per_segment = {}\n",
    "\n",
    "\n",
    "for segment_name in segment_names:\n",
    "    transactions_per_segment[segment_name] = transactions[transactions['segment'] == segment_name]"
   ],
   "metadata": {
    "collapsed": false,
    "ExecuteTime": {
     "end_time": "2023-12-22T00:47:03.029793600Z",
     "start_time": "2023-12-22T00:47:01.899466300Z"
    }
   },
   "id": "b05356a8460703a"
  },
  {
   "cell_type": "markdown",
   "source": [
    "## Initial visualizations ##\n",
    "To check whether the segments and seasons make sense"
   ],
   "metadata": {
    "collapsed": false
   },
   "id": "d8fb304d23c5ba81"
  },
  {
   "cell_type": "code",
   "execution_count": 12,
   "outputs": [],
   "source": [
    "def pie_plot(data_column, title):\n",
    "    counts = data_column.value_counts()\n",
    "    assert counts.sum() == len(data_column)\n",
    "    \n",
    "    plt.pie(counts, labels=counts.index, autopct='%1.1f%%')\n",
    "    plt.axis('equal')\n",
    "    plt.title(title)\n",
    "    plt.show()"
   ],
   "metadata": {
    "collapsed": false,
    "ExecuteTime": {
     "end_time": "2023-12-22T00:47:03.045438900Z",
     "start_time": "2023-12-22T00:47:03.029793600Z"
    }
   },
   "id": "59400f40c86e5919"
  },
  {
   "cell_type": "code",
   "execution_count": 13,
   "outputs": [
    {
     "data": {
      "text/plain": "<Figure size 640x480 with 1 Axes>",
      "image/png": "[encoded data removed]"
     },
     "metadata": {},
     "output_type": "display_data"
    },
    {
     "data": {
      "text/plain": "<Figure size 640x480 with 1 Axes>",
      "image/png": "[encoded data removed]"
     },
     "metadata": {},
     "output_type": "display_data"
    },
    {
     "data": {
      "text/plain": "<Figure size 640x480 with 1 Axes>",
      "image/png": "[encoded data removed]"
     },
     "metadata": {},
     "output_type": "display_data"
    },
    {
     "data": {
      "text/plain": "<Figure size 640x480 with 1 Axes>",
      "image/png": "[encoded data removed]"
     },
     "metadata": {},
     "output_type": "display_data"
    }
   ],
   "source": [
    "#Visualize segment sizes\n",
    "pie_plot(segmented_customers['segment'], \"Segment size (amount of customers)\")\n",
    "pie_plot(transactions['segment'], \"Segment size (amount of transactions)\")\n",
    "pie_plot(transactions['season'], \"Season size across all segments (amount of transactions)\")\n",
    "for segment_name in segment_names:\n",
    "    pie_plot(transactions_per_segment[segment_name]['season'], f\"Season size for segment {segment_name} (amount of transactions)\")"
   ],
   "metadata": {
    "collapsed": false,
    "ExecuteTime": {
     "end_time": "2023-12-22T00:47:04.848639Z",
     "start_time": "2023-12-22T00:47:03.070774900Z"
    }
   },
   "id": "e37c92b1fddb6f7e"
  },
  {
   "cell_type": "markdown",
   "source": [
    "## Calculating feature scores ##\n",
    "Use increases or decreases in sales of articles with a specific feature (eg. color=blue) of a season compared to all seasons to calculate a score for that feature."
   ],
   "metadata": {
    "collapsed": false
   },
   "id": "47a326de406963b0"
  },
  {
   "cell_type": "code",
   "execution_count": 14,
   "outputs": [
    {
     "data": {
      "text/plain": "              t_dat           customer_id  article_id     price  \\\n0        2018-09-20      1728846800780188   519773001  0.028458   \n1        2018-09-20      1728846800780188   578472001  0.032525   \n2        2018-10-05      1728846800780188   533518001  0.047441   \n3        2018-10-05      1728846800780188   569981006  0.020322   \n4        2018-10-05      1728846800780188   669393001  0.067797   \n...             ...                   ...         ...       ...   \n31788319 2020-09-22  18409112236320621348   621381014  0.033881   \n31788320 2020-09-22  18417769707947924979   729860001  0.022017   \n31788321 2020-09-22  18417769707947924979   889747001  0.022017   \n31788322 2020-09-22  18417769707947924979   778517001  0.022017   \n31788323 2020-09-22  18417769707947924979   872002001  0.011847   \n\n          sales_channel_id  week  season    segment  \n0                        2     0  Autumn  age_young  \n1                        2     0  Autumn  age_young  \n2                        2     2  Autumn  age_young  \n3                        2     2  Autumn  age_young  \n4                        2     2  Autumn  age_young  \n...                    ...   ...     ...        ...  \n31788319                 2   104  Autumn  age_young  \n31788320                 2   104  Autumn  age_young  \n31788321                 2   104  Autumn  age_young  \n31788322                 2   104  Autumn  age_young  \n31788323                 2   104  Autumn  age_young  \n\n[31788324 rows x 8 columns]",
      "text/html": "<div>\n<style scoped>\n    .dataframe tbody tr th:only-of-type {\n        vertical-align: middle;\n    }\n\n    .dataframe tbody tr th {\n        vertical-align: top;\n    }\n\n    .dataframe thead th {\n        text-align: right;\n    }\n</style>\n<table border=\"1\" class=\"dataframe\">\n  <thead>\n    <tr style=\"text-align: right;\">\n      <th></th>\n      <th>t_dat</th>\n      <th>customer_id</th>\n      <th>article_id</th>\n      <th>price</th>\n      <th>sales_channel_id</th>\n      <th>week</th>\n      <th>season</th>\n      <th>segment</th>\n    </tr>\n  </thead>\n  <tbody>\n    <tr>\n      <th>0</th>\n      <td>2018-09-20</td>\n      <td>1728846800780188</td>\n      <td>519773001</td>\n      <td>0.028458</td>\n      <td>2</td>\n      <td>0</td>\n      <td>Autumn</td>\n      <td>age_young</td>\n    </tr>\n    <tr>\n      <th>1</th>\n      <td>2018-09-20</td>\n      <td>1728846800780188</td>\n      <td>578472001</td>\n      <td>0.032525</td>\n      <td>2</td>\n      <td>0</td>\n      <td>Autumn</td>\n      <td>age_young</td>\n    </tr>\n    <tr>\n      <th>2</th>\n      <td>2018-10-05</td>\n      <td>1728846800780188</td>\n      <td>533518001</td>\n      <td>0.047441</td>\n      <td>2</td>\n      <td>2</td>\n      <td>Autumn</td>\n      <td>age_young</td>\n    </tr>\n    <tr>\n      <th>3</th>\n      <td>2018-10-05</td>\n      <td>1728846800780188</td>\n      <td>569981006</td>\n      <td>0.020322</td>\n      <td>2</td>\n      <td>2</td>\n      <td>Autumn</td>\n      <td>age_young</td>\n    </tr>\n    <tr>\n      <th>4</th>\n      <td>2018-10-05</td>\n      <td>1728846800780188</td>\n      <td>669393001</td>\n      <td>0.067797</td>\n      <td>2</td>\n      <td>2</td>\n      <td>Autumn</td>\n      <td>age_young</td>\n    </tr>\n    <tr>\n      <th>...</th>\n      <td>...</td>\n      <td>...</td>\n      <td>...</td>\n      <td>...</td>\n      <td>...</td>\n      <td>...</td>\n      <td>...</td>\n      <td>...</td>\n    </tr>\n    <tr>\n      <th>31788319</th>\n      <td>2020-09-22</td>\n      <td>18409112236320621348</td>\n      <td>621381014</td>\n      <td>0.033881</td>\n      <td>2</td>\n      <td>104</td>\n      <td>Autumn</td>\n      <td>age_young</td>\n    </tr>\n    <tr>\n      <th>31788320</th>\n      <td>2020-09-22</td>\n      <td>18417769707947924979</td>\n      <td>729860001</td>\n      <td>0.022017</td>\n      <td>2</td>\n      <td>104</td>\n      <td>Autumn</td>\n      <td>age_young</td>\n    </tr>\n    <tr>\n      <th>31788321</th>\n      <td>2020-09-22</td>\n      <td>18417769707947924979</td>\n      <td>889747001</td>\n      <td>0.022017</td>\n      <td>2</td>\n      <td>104</td>\n      <td>Autumn</td>\n      <td>age_young</td>\n    </tr>\n    <tr>\n      <th>31788322</th>\n      <td>2020-09-22</td>\n      <td>18417769707947924979</td>\n      <td>778517001</td>\n      <td>0.022017</td>\n      <td>2</td>\n      <td>104</td>\n      <td>Autumn</td>\n      <td>age_young</td>\n    </tr>\n    <tr>\n      <th>31788323</th>\n      <td>2020-09-22</td>\n      <td>18417769707947924979</td>\n      <td>872002001</td>\n      <td>0.011847</td>\n      <td>2</td>\n      <td>104</td>\n      <td>Autumn</td>\n      <td>age_young</td>\n    </tr>\n  </tbody>\n</table>\n<p>31788324 rows × 8 columns</p>\n</div>"
     },
     "execution_count": 14,
     "metadata": {},
     "output_type": "execute_result"
    }
   ],
   "source": [
    "# Each segment has an entry in the transactions_per_segment dictionary\n",
    "next(iter(transactions_per_segment.values()))"
   ],
   "metadata": {
    "collapsed": false,
    "ExecuteTime": {
     "end_time": "2023-12-22T00:47:04.856795100Z",
     "start_time": "2023-12-22T00:47:04.838334300Z"
    }
   },
   "id": "52fc7748f17adeff"
  },
  {
   "cell_type": "code",
   "execution_count": 15,
   "outputs": [],
   "source": [
    "# (segment_name, feature_name) -> {feature_value -> score}\n",
    "# eg: for people under 35, the score of a blue article is 1.2\n",
    "all_scores = {} \n",
    "\n",
    "# features to use for calculating seasonal score\n",
    "features = [\"product_type_name\", \"product_group_name\", \"graphical_appearance_name\", \"colour_group_name\", \"perceived_colour_value_name\", \"perceived_colour_master_name\", \"department_name\", \"index_name\", \"index_group_name\", \"section_name\", \"garment_group_name\"]"
   ],
   "metadata": {
    "collapsed": false,
    "ExecuteTime": {
     "end_time": "2023-12-22T00:47:04.901806200Z",
     "start_time": "2023-12-22T00:47:04.853717Z"
    }
   },
   "id": "1198c29ee4ed88b9"
  },
  {
   "cell_type": "code",
   "execution_count": 16,
   "outputs": [],
   "source": [
    "# # As seen in the visualizations above, the amount of transactions differs per season\n",
    "# # Therefore, we can't just absolutely count the amount of transactions per feature\n",
    "# \n",
    "# \n",
    "# # for each segment, find the relative size of the current season compared to all seasons\n",
    "# relative_size_per_segment = {}\n",
    "# \n",
    "# # calculated fully separated based on segment\n",
    "# for segment_name, segment in transactions_per_segment.items():\n",
    "#     current_period_size = len(segment[segment['season'] == current_season]) # amount of transactions in current season\n",
    "#     all_periods_size = len(segment) # amount of transactions in all seasons\n",
    "#     relative_size_per_segment[segment_name] = current_period_size / all_periods_size\n",
    "# \n",
    "# relative_size_per_segment\n",
    "\n",
    "\n",
    "# # for each segment, calculate all scores separately\n",
    "# for segment_name, segment_transactions in transactions_per_segment.items():\n",
    "#     print(f\"Current segment: {segment_name}\")\n",
    "#     segment_transactions = pd.merge(segment_transactions, articles, on=\"article_id\")\n",
    "# \n",
    "#     # find the ratio for each feature\n",
    "#     for feature in features:\n",
    "#         seasonal_sales_by_type = segment_transactions.groupby([\"season\", feature])[\"article_id\"].size().reset_index(name=\"count\")\n",
    "#         assert seasonal_sales_by_type[\"count\"].sum() == len(segment_transactions)\n",
    "#         relative_season_size = 1 / relative_size_per_segment[segment_name] # relative size of the current season compared to all seasons\n",
    "# \n",
    "#         # Calculate the average sales over all seasons for each feature type (eg average sales of an article that's blue)\n",
    "#         type_average_sales = seasonal_sales_by_type.groupby([feature])[\"count\"].sum().div(relative_season_size).reset_index(name = \"avg_all_seasons\")\n",
    "# \n",
    "#         # Only current season is relevant from now on\n",
    "#         seasonal_sales_by_type = seasonal_sales_by_type[seasonal_sales_by_type[\"season\"] == current_season]\n",
    "#         seasonal_sales_by_type = seasonal_sales_by_type.merge(type_average_sales, on=feature)\n",
    "#         seasonal_sales_by_type[\"season_ratio\"] = seasonal_sales_by_type[\"count\"] / seasonal_sales_by_type[\"avg_all_seasons\"]\n",
    "# \n",
    "#         # # Only keeping the 75% most sold combinations\n",
    "#         # threshold = seasonal_sales_by_type[\"count\"].quantile(0.25)\n",
    "#         # seasonal_sales_by_type = seasonal_sales_by_type[seasonal_sales_by_type[\"count\"] > threshold]\n",
    "# \n",
    "#         # Creating a ratio look up table\n",
    "#         seasonal_sales_by_type = seasonal_sales_by_type[[feature, \"season_ratio\"]]\n",
    "#         seasonal_sales_by_type = seasonal_sales_by_type.rename(columns = {feature: \"feature\"})\n",
    "# \n",
    "#         # Save together with the other segments\n",
    "#         all_scores[(segment_name, feature)] = seasonal_sales_by_type.set_index(\"feature\").to_dict()[\"season_ratio\"]\n",
    "# print(\"Done\")"
   ],
   "metadata": {
    "collapsed": false,
    "ExecuteTime": {
     "end_time": "2023-12-22T00:47:04.902808500Z",
     "start_time": "2023-12-22T00:47:04.868833500Z"
    }
   },
   "id": "2aea2017e345fdc6"
  },
  {
   "cell_type": "code",
   "execution_count": 17,
   "outputs": [
    {
     "name": "stdout",
     "output_type": "stream",
     "text": [
      "Current segment: age_young\n"
     ]
    }
   ],
   "source": [
    "# Less confusing implementation with the same result\n",
    "# For each feature and each segment\n",
    "# STEP 1. Calculating the ratio of purchases of a feature (eg. color blue) in the current season\n",
    "# STEP 2. Calculating the ratio of purchases of a feature (eg. color blue) in all seasons\n",
    "# STEP 3. Taking the ratio of the two ratios -> how much more popular is the feature in the current season compared to all seasons\n",
    "\n",
    "# for each segment, calculate all scores separately\n",
    "for segment_name, segment_transactions in transactions_per_segment.items():\n",
    "    print(f\"Current segment: {segment_name}\")\n",
    "    segment_transactions = pd.merge(segment_transactions, articles, on=\"article_id\")\n",
    "    current_season_transactions = segment_transactions[segment_transactions[\"season\"] == current_season] # only relevant season\n",
    "\n",
    "    # find the ratio for each feature\n",
    "    for feature in features:\n",
    "        # STEP 1\n",
    "        # For each possible value of the feature, check how many times it was sold in the current season\n",
    "        current_season_ratio = current_season_transactions.groupby([feature])[\"article_id\"].size().reset_index(name=\"count\")\n",
    "        \n",
    "        # Then calculate the ratio of that feature value compared to all purchases in the current season\n",
    "        current_season_ratio[\"current_season_ratio\"] = current_season_ratio[\"count\"] / current_season_ratio[\"count\"].sum()\n",
    "        current_season_ratio = current_season_ratio[[feature, \"current_season_ratio\"]] # keep relevant columns\n",
    "        \n",
    "        \n",
    "        # STEP 2\n",
    "        # Same as step 1, but for all seasons\n",
    "        all_seasons_ratio = segment_transactions\n",
    "        all_seasons_ratio = all_seasons_ratio.groupby([feature])[\"article_id\"].size().reset_index(name=\"count\")\n",
    "        all_seasons_ratio[\"all_seasons_ratio\"] = all_seasons_ratio[\"count\"] / all_seasons_ratio[\"count\"].sum()\n",
    "        all_seasons_ratio = all_seasons_ratio[[feature, \"all_seasons_ratio\"]]\n",
    "        \n",
    "        # STEP 3\n",
    "        # Merge the two tables and calculate the ratio of the two ratios\n",
    "        score = pd.merge(current_season_ratio, all_seasons_ratio, on=feature) \n",
    "        score[\"season_ratio\"] = score[\"current_season_ratio\"] / score[\"all_seasons_ratio\"]\n",
    "        score = score[[feature, \"season_ratio\"]]\n",
    "        score = score.rename(columns = {feature: \"feature\"})\n",
    "\n",
    "\n",
    "        ##### SANITY CHECKS #####\n",
    "        assert len(score) == len(current_season_transactions[feature].unique()) # every feature value that occurs in the current season gets a score\n",
    "        assert score[\"season_ratio\"].min() >= 0\n",
    "        #########################\n",
    "        \n",
    "\n",
    "        # Save together with the other segments\n",
    "        all_scores[(segment_name, feature)] = score.set_index(\"feature\").to_dict()[\"season_ratio\"]\n",
    "# print(\"Done\")"
   ],
   "metadata": {
    "collapsed": false,
    "ExecuteTime": {
     "end_time": "2023-12-22T00:47:15.131332200Z",
     "start_time": "2023-12-22T00:47:04.886644600Z"
    }
   },
   "id": "256e4d1da391afab"
  },
  {
   "cell_type": "code",
   "execution_count": 18,
   "outputs": [],
   "source": [
    "# all_scores[(\"age_young\", \"colour_group_name\")]"
   ],
   "metadata": {
    "collapsed": false,
    "ExecuteTime": {
     "end_time": "2023-12-22T00:47:15.145944700Z",
     "start_time": "2023-12-22T00:47:15.131332200Z"
    }
   },
   "id": "5949a772c05a241b"
  },
  {
   "cell_type": "markdown",
   "source": [
    "## Calculating article scores ##\n",
    "Use the feature scores to calculate a score for each article."
   ],
   "metadata": {
    "collapsed": false
   },
   "id": "a59f3388a48b9843"
  },
  {
   "cell_type": "code",
   "execution_count": 19,
   "outputs": [],
   "source": [
    "# Calculate the season compatibility scores for each article\n",
    "# The score of an article is the sum of the scores of its features\n",
    "\n",
    "def create_article_scores(article):\n",
    "    result = [0 for _ in range(len(segment_names))] # all counters start at 0\n",
    "    \n",
    "    # feature by feature, segment by segment\n",
    "    for feature in features:\n",
    "        feature_value = article[feature] # the feature value of the article (e.g. color blue)\n",
    "        for i, segment_name in enumerate(segment_names):\n",
    "            score_table = all_scores[(segment_name, feature)] # table that gives the feature score of a segment\n",
    "            if not feature_value in score_table:\n",
    "                continue\n",
    "            result[i] += score_table[feature_value] # sum (better than multiplication)\n",
    "            \n",
    "    ##### SANITY CHECKS #####\n",
    "    assert len(result) == len(segment_names) # one score for each segment\n",
    "    assert all(res >= 0 for res in result)\n",
    "    #########################\n",
    "    \n",
    "    return pd.Series(result)"
   ],
   "metadata": {
    "collapsed": false,
    "ExecuteTime": {
     "end_time": "2023-12-22T00:47:15.173344200Z",
     "start_time": "2023-12-22T00:47:15.145944700Z"
    }
   },
   "id": "133c10d382478bbf"
  },
  {
   "cell_type": "code",
   "execution_count": 20,
   "outputs": [
    {
     "data": {
      "text/plain": "   article_id  age_young\n0   108775015   0.356218\n1   108775044   0.289761\n2   108775051   0.297623\n3   110065001   0.294080\n4   110065002   0.227623",
      "text/html": "<div>\n<style scoped>\n    .dataframe tbody tr th:only-of-type {\n        vertical-align: middle;\n    }\n\n    .dataframe tbody tr th {\n        vertical-align: top;\n    }\n\n    .dataframe thead th {\n        text-align: right;\n    }\n</style>\n<table border=\"1\" class=\"dataframe\">\n  <thead>\n    <tr style=\"text-align: right;\">\n      <th></th>\n      <th>article_id</th>\n      <th>age_young</th>\n    </tr>\n  </thead>\n  <tbody>\n    <tr>\n      <th>0</th>\n      <td>108775015</td>\n      <td>0.356218</td>\n    </tr>\n    <tr>\n      <th>1</th>\n      <td>108775044</td>\n      <td>0.289761</td>\n    </tr>\n    <tr>\n      <th>2</th>\n      <td>108775051</td>\n      <td>0.297623</td>\n    </tr>\n    <tr>\n      <th>3</th>\n      <td>110065001</td>\n      <td>0.294080</td>\n    </tr>\n    <tr>\n      <th>4</th>\n      <td>110065002</td>\n      <td>0.227623</td>\n    </tr>\n  </tbody>\n</table>\n</div>"
     },
     "execution_count": 20,
     "metadata": {},
     "output_type": "execute_result"
    }
   ],
   "source": [
    "articles_scores = pd.DataFrame(articles[\"article_id\"]) # create a dataframe with only the article id\n",
    "\n",
    "# Create a column for each segment, containing the score of the article for that segment\n",
    "articles_scores[segment_names] = articles.apply(create_article_scores, axis=1, result_type=\"expand\")\n",
    "\n",
    "# Normalize the scores for each segment\n",
    "for segment_name in segment_names:\n",
    "    articles_scores[segment_name] = MinMaxScaler().fit_transform(articles_scores[[segment_name]])\n",
    "\n",
    "##### SANITY CHECKS #####\n",
    "assert len(articles_scores) == len(articles)\n",
    "assert all(0 <= score <= 1 for score in articles_scores[segment_names].values.flatten()) # scores are normalized\n",
    "#########################\n",
    "\n",
    "articles_scores.head()"
   ],
   "metadata": {
    "collapsed": false,
    "ExecuteTime": {
     "end_time": "2023-12-22T00:47:21.295683800Z",
     "start_time": "2023-12-22T00:47:15.163044500Z"
    }
   },
   "id": "311d6cc55379b292"
  },
  {
   "cell_type": "code",
   "execution_count": 21,
   "outputs": [],
   "source": [
    "articles_scores.to_parquet(path + 'articles_edited2.parquet')"
   ],
   "metadata": {
    "collapsed": false,
    "ExecuteTime": {
     "end_time": "2023-12-22T00:47:21.335865100Z",
     "start_time": "2023-12-22T00:47:21.294632800Z"
    }
   },
   "id": "f55c7ea112a5dc2d"
  },
  {
   "cell_type": "markdown",
   "source": [
    "## Calculating applicable scores ##\n",
    "Find the right score for each transaction, depending on the segment of the customer."
   ],
   "metadata": {
    "collapsed": false
   },
   "id": "454f219fbf2ce27b"
  },
  {
   "cell_type": "code",
   "execution_count": 22,
   "outputs": [
    {
     "data": {
      "text/plain": "        customer_id  article_id  season  age_young    segment  \\\n0  1728846800780188   519773001  Autumn   0.613575  age_young   \n1  1728846800780188   578472001  Autumn   0.531785  age_young   \n2  2076973761519164   661795002  Autumn   0.541438  age_young   \n3  2076973761519164   684080003  Autumn   0.555221  age_young   \n4  2918879973994241   662980001  Autumn   0.617765  age_young   \n\n   transaction_score  \n0           0.613575  \n1           0.531785  \n2           0.541438  \n3           0.555221  \n4           0.617765  ",
      "text/html": "<div>\n<style scoped>\n    .dataframe tbody tr th:only-of-type {\n        vertical-align: middle;\n    }\n\n    .dataframe tbody tr th {\n        vertical-align: top;\n    }\n\n    .dataframe thead th {\n        text-align: right;\n    }\n</style>\n<table border=\"1\" class=\"dataframe\">\n  <thead>\n    <tr style=\"text-align: right;\">\n      <th></th>\n      <th>customer_id</th>\n      <th>article_id</th>\n      <th>season</th>\n      <th>age_young</th>\n      <th>segment</th>\n      <th>transaction_score</th>\n    </tr>\n  </thead>\n  <tbody>\n    <tr>\n      <th>0</th>\n      <td>1728846800780188</td>\n      <td>519773001</td>\n      <td>Autumn</td>\n      <td>0.613575</td>\n      <td>age_young</td>\n      <td>0.613575</td>\n    </tr>\n    <tr>\n      <th>1</th>\n      <td>1728846800780188</td>\n      <td>578472001</td>\n      <td>Autumn</td>\n      <td>0.531785</td>\n      <td>age_young</td>\n      <td>0.531785</td>\n    </tr>\n    <tr>\n      <th>2</th>\n      <td>2076973761519164</td>\n      <td>661795002</td>\n      <td>Autumn</td>\n      <td>0.541438</td>\n      <td>age_young</td>\n      <td>0.541438</td>\n    </tr>\n    <tr>\n      <th>3</th>\n      <td>2076973761519164</td>\n      <td>684080003</td>\n      <td>Autumn</td>\n      <td>0.555221</td>\n      <td>age_young</td>\n      <td>0.555221</td>\n    </tr>\n    <tr>\n      <th>4</th>\n      <td>2918879973994241</td>\n      <td>662980001</td>\n      <td>Autumn</td>\n      <td>0.617765</td>\n      <td>age_young</td>\n      <td>0.617765</td>\n    </tr>\n  </tbody>\n</table>\n</div>"
     },
     "execution_count": 22,
     "metadata": {},
     "output_type": "execute_result"
    }
   ],
   "source": [
    "applicable_scores = transactions_train[[\"customer_id\", \"article_id\", \"season\"]]\n",
    "length = len(applicable_scores)\n",
    "applicable_scores = pd.merge(applicable_scores, articles_scores, on=\"article_id\", how=\"left\")\n",
    "applicable_scores = pd.merge(applicable_scores, segmented_customers, on=\"customer_id\", how=\"left\")\n",
    "\n",
    "assert len(applicable_scores) == length\n",
    "assert all(segment_name in applicable_scores.columns for segment_name in segment_names) # segment columns are needed\n",
    "\n",
    "idx, cols = pd.factorize(applicable_scores['segment'])\n",
    "result = applicable_scores.reindex(cols, axis=1).to_numpy()[np.arange(len(applicable_scores)), idx]\n",
    "\n",
    "##### SANITY CHECKS #####\n",
    "assert len(result) == len(applicable_scores)\n",
    "if testing: # takes more time so only enable for testing\n",
    "\n",
    "    # For testing purposes: less efficient but more clear implementation should have the same result\n",
    "    def get_applicable_score(row):\n",
    "        return row[row[\"segment\"]] # Take the value of the corresponding segment column\n",
    "\n",
    "    test_result = applicable_scores.apply(get_applicable_score, axis=1).values\n",
    "    assert np.array_equal(result, test_result)\n",
    "#########################\n",
    "\n",
    "applicable_scores[\"transaction_score\"] = result\n",
    "applicable_scores.head()"
   ],
   "metadata": {
    "collapsed": false,
    "ExecuteTime": {
     "end_time": "2023-12-22T00:47:27.577899900Z",
     "start_time": "2023-12-22T00:47:21.325415500Z"
    }
   },
   "id": "7a4766cbd8a0d164"
  },
  {
   "cell_type": "code",
   "execution_count": 23,
   "outputs": [
    {
     "data": {
      "text/plain": "        customer_id  article_id  season  transaction_score\n0  1728846800780188   519773001  Autumn           0.613575\n1  1728846800780188   578472001  Autumn           0.531785\n2  2076973761519164   661795002  Autumn           0.541438\n3  2076973761519164   684080003  Autumn           0.555221\n4  2918879973994241   662980001  Autumn           0.617765",
      "text/html": "<div>\n<style scoped>\n    .dataframe tbody tr th:only-of-type {\n        vertical-align: middle;\n    }\n\n    .dataframe tbody tr th {\n        vertical-align: top;\n    }\n\n    .dataframe thead th {\n        text-align: right;\n    }\n</style>\n<table border=\"1\" class=\"dataframe\">\n  <thead>\n    <tr style=\"text-align: right;\">\n      <th></th>\n      <th>customer_id</th>\n      <th>article_id</th>\n      <th>season</th>\n      <th>transaction_score</th>\n    </tr>\n  </thead>\n  <tbody>\n    <tr>\n      <th>0</th>\n      <td>1728846800780188</td>\n      <td>519773001</td>\n      <td>Autumn</td>\n      <td>0.613575</td>\n    </tr>\n    <tr>\n      <th>1</th>\n      <td>1728846800780188</td>\n      <td>578472001</td>\n      <td>Autumn</td>\n      <td>0.531785</td>\n    </tr>\n    <tr>\n      <th>2</th>\n      <td>2076973761519164</td>\n      <td>661795002</td>\n      <td>Autumn</td>\n      <td>0.541438</td>\n    </tr>\n    <tr>\n      <th>3</th>\n      <td>2076973761519164</td>\n      <td>684080003</td>\n      <td>Autumn</td>\n      <td>0.555221</td>\n    </tr>\n    <tr>\n      <th>4</th>\n      <td>2918879973994241</td>\n      <td>662980001</td>\n      <td>Autumn</td>\n      <td>0.617765</td>\n    </tr>\n  </tbody>\n</table>\n</div>"
     },
     "execution_count": 23,
     "metadata": {},
     "output_type": "execute_result"
    }
   ],
   "source": [
    "applicable_scores.drop(columns=segment_names + [\"segment\"], inplace=True)\n",
    "applicable_scores.head()"
   ],
   "metadata": {
    "collapsed": false,
    "ExecuteTime": {
     "end_time": "2023-12-22T00:47:27.938746Z",
     "start_time": "2023-12-22T00:47:27.578911500Z"
    }
   },
   "id": "cd3847f5a90979ae"
  },
  {
   "cell_type": "markdown",
   "source": [
    "## Customer sensitivity ##\n",
    "Use historical transactions of customers to calculate how sensitive they are to the trends of the current season."
   ],
   "metadata": {
    "collapsed": false
   },
   "id": "daa5a074441bd864"
  },
  {
   "cell_type": "code",
   "execution_count": 24,
   "outputs": [
    {
     "data": {
      "text/plain": "                 customer_id  sensitivity\n0             28847241659200     0.413612\n1             41318098387474     0.477254\n2             43757848922470     0.360714\n3             77117344919861     0.461077\n4            116809474287335     0.460490\n...                      ...          ...\n698853  18446590778427270109     0.415508\n698854  18446624797007271432     0.462242\n698855  18446630855572834764     0.446667\n698856  18446705133201055310     0.562922\n698857  18446737527580148316     0.435453\n\n[698858 rows x 2 columns]",
      "text/html": "<div>\n<style scoped>\n    .dataframe tbody tr th:only-of-type {\n        vertical-align: middle;\n    }\n\n    .dataframe tbody tr th {\n        vertical-align: top;\n    }\n\n    .dataframe thead th {\n        text-align: right;\n    }\n</style>\n<table border=\"1\" class=\"dataframe\">\n  <thead>\n    <tr style=\"text-align: right;\">\n      <th></th>\n      <th>customer_id</th>\n      <th>sensitivity</th>\n    </tr>\n  </thead>\n  <tbody>\n    <tr>\n      <th>0</th>\n      <td>28847241659200</td>\n      <td>0.413612</td>\n    </tr>\n    <tr>\n      <th>1</th>\n      <td>41318098387474</td>\n      <td>0.477254</td>\n    </tr>\n    <tr>\n      <th>2</th>\n      <td>43757848922470</td>\n      <td>0.360714</td>\n    </tr>\n    <tr>\n      <th>3</th>\n      <td>77117344919861</td>\n      <td>0.461077</td>\n    </tr>\n    <tr>\n      <th>4</th>\n      <td>116809474287335</td>\n      <td>0.460490</td>\n    </tr>\n    <tr>\n      <th>...</th>\n      <td>...</td>\n      <td>...</td>\n    </tr>\n    <tr>\n      <th>698853</th>\n      <td>18446590778427270109</td>\n      <td>0.415508</td>\n    </tr>\n    <tr>\n      <th>698854</th>\n      <td>18446624797007271432</td>\n      <td>0.462242</td>\n    </tr>\n    <tr>\n      <th>698855</th>\n      <td>18446630855572834764</td>\n      <td>0.446667</td>\n    </tr>\n    <tr>\n      <th>698856</th>\n      <td>18446705133201055310</td>\n      <td>0.562922</td>\n    </tr>\n    <tr>\n      <th>698857</th>\n      <td>18446737527580148316</td>\n      <td>0.435453</td>\n    </tr>\n  </tbody>\n</table>\n<p>698858 rows × 2 columns</p>\n</div>"
     },
     "execution_count": 24,
     "metadata": {},
     "output_type": "execute_result"
    }
   ],
   "source": [
    "# Per customer, calculate the average score of the articles they bought\n",
    "customer_sensitivity = applicable_scores[applicable_scores[\"season\"] == current_season]\n",
    "customer_sensitivity = customer_sensitivity.groupby([\"customer_id\"])[\"transaction_score\"].mean().reset_index()\n",
    "customer_sensitivity = customer_sensitivity.rename(columns={\"transaction_score\": \"sensitivity\"})\n",
    "\n",
    "##### SANITY CHECKS #####\n",
    "assert all(0 <= score <= 1 for score in customer_sensitivity[\"sensitivity\"])\n",
    "#########################\n",
    "\n",
    "customer_sensitivity"
   ],
   "metadata": {
    "collapsed": false,
    "ExecuteTime": {
     "end_time": "2023-12-22T00:47:29.216511100Z",
     "start_time": "2023-12-22T00:47:27.939746400Z"
    }
   },
   "id": "6ee6fd0c3d14ab8"
  },
  {
   "cell_type": "code",
   "execution_count": 25,
   "outputs": [
    {
     "data": {
      "text/plain": "                  customer_id  FN  Active  club_member_status  \\\n0         6883939031699146327  -1      -1                   0   \n1        11246327431398957306  -1      -1                   0   \n2        18439897732908966680  -1      -1                   0   \n3        18352672461570950206  -1      -1                   0   \n4        18162778555210377306   1       1                   0   \n...                       ...  ..     ...                 ...   \n1371975   7551062398649767985  -1      -1                   0   \n1371976   9305341941720086711  -1      -1                   0   \n1371977  10160427316885688932   1       1                   0   \n1371978   2551401172826382186   1       1                   0   \n1371979  16929951892735599169  -1      -1                   1   \n\n         fashion_news_frequency  age  postal_code  sensitivity  \n0                             0   49         6305     0.433895  \n1                             0   25        33726     0.436180  \n2                             0   24         3247     0.344426  \n3                             0   54       168643          NaN  \n4                             1   52       168645     0.503895  \n...                         ...  ...          ...          ...  \n1371975                       0   24        50351     0.358548  \n1371976                       0   21        80169     0.371118  \n1371977                       1   21       106737     0.429525  \n1371978                       1   18       111894          NaN  \n1371979                       0   65       352898          NaN  \n\n[1371980 rows x 8 columns]",
      "text/html": "<div>\n<style scoped>\n    .dataframe tbody tr th:only-of-type {\n        vertical-align: middle;\n    }\n\n    .dataframe tbody tr th {\n        vertical-align: top;\n    }\n\n    .dataframe thead th {\n        text-align: right;\n    }\n</style>\n<table border=\"1\" class=\"dataframe\">\n  <thead>\n    <tr style=\"text-align: right;\">\n      <th></th>\n      <th>customer_id</th>\n      <th>FN</th>\n      <th>Active</th>\n      <th>club_member_status</th>\n      <th>fashion_news_frequency</th>\n      <th>age</th>\n      <th>postal_code</th>\n      <th>sensitivity</th>\n    </tr>\n  </thead>\n  <tbody>\n    <tr>\n      <th>0</th>\n      <td>6883939031699146327</td>\n      <td>-1</td>\n      <td>-1</td>\n      <td>0</td>\n      <td>0</td>\n      <td>49</td>\n      <td>6305</td>\n      <td>0.433895</td>\n    </tr>\n    <tr>\n      <th>1</th>\n      <td>11246327431398957306</td>\n      <td>-1</td>\n      <td>-1</td>\n      <td>0</td>\n      <td>0</td>\n      <td>25</td>\n      <td>33726</td>\n      <td>0.436180</td>\n    </tr>\n    <tr>\n      <th>2</th>\n      <td>18439897732908966680</td>\n      <td>-1</td>\n      <td>-1</td>\n      <td>0</td>\n      <td>0</td>\n      <td>24</td>\n      <td>3247</td>\n      <td>0.344426</td>\n    </tr>\n    <tr>\n      <th>3</th>\n      <td>18352672461570950206</td>\n      <td>-1</td>\n      <td>-1</td>\n      <td>0</td>\n      <td>0</td>\n      <td>54</td>\n      <td>168643</td>\n      <td>NaN</td>\n    </tr>\n    <tr>\n      <th>4</th>\n      <td>18162778555210377306</td>\n      <td>1</td>\n      <td>1</td>\n      <td>0</td>\n      <td>1</td>\n      <td>52</td>\n      <td>168645</td>\n      <td>0.503895</td>\n    </tr>\n    <tr>\n      <th>...</th>\n      <td>...</td>\n      <td>...</td>\n      <td>...</td>\n      <td>...</td>\n      <td>...</td>\n      <td>...</td>\n      <td>...</td>\n      <td>...</td>\n    </tr>\n    <tr>\n      <th>1371975</th>\n      <td>7551062398649767985</td>\n      <td>-1</td>\n      <td>-1</td>\n      <td>0</td>\n      <td>0</td>\n      <td>24</td>\n      <td>50351</td>\n      <td>0.358548</td>\n    </tr>\n    <tr>\n      <th>1371976</th>\n      <td>9305341941720086711</td>\n      <td>-1</td>\n      <td>-1</td>\n      <td>0</td>\n      <td>0</td>\n      <td>21</td>\n      <td>80169</td>\n      <td>0.371118</td>\n    </tr>\n    <tr>\n      <th>1371977</th>\n      <td>10160427316885688932</td>\n      <td>1</td>\n      <td>1</td>\n      <td>0</td>\n      <td>1</td>\n      <td>21</td>\n      <td>106737</td>\n      <td>0.429525</td>\n    </tr>\n    <tr>\n      <th>1371978</th>\n      <td>2551401172826382186</td>\n      <td>1</td>\n      <td>1</td>\n      <td>0</td>\n      <td>1</td>\n      <td>18</td>\n      <td>111894</td>\n      <td>NaN</td>\n    </tr>\n    <tr>\n      <th>1371979</th>\n      <td>16929951892735599169</td>\n      <td>-1</td>\n      <td>-1</td>\n      <td>1</td>\n      <td>0</td>\n      <td>65</td>\n      <td>352898</td>\n      <td>NaN</td>\n    </tr>\n  </tbody>\n</table>\n<p>1371980 rows × 8 columns</p>\n</div>"
     },
     "execution_count": 25,
     "metadata": {},
     "output_type": "execute_result"
    }
   ],
   "source": [
    "# Add new feature to customers table\n",
    "customers = pd.merge(customers, customer_sensitivity, on=\"customer_id\", how=\"left\")\n",
    "customers"
   ],
   "metadata": {
    "collapsed": false,
    "ExecuteTime": {
     "end_time": "2023-12-22T00:47:29.482636100Z",
     "start_time": "2023-12-22T00:47:29.216511100Z"
    }
   },
   "id": "29c6c396ed7d428"
  },
  {
   "cell_type": "code",
   "execution_count": 26,
   "outputs": [
    {
     "data": {
      "text/plain": "                  customer_id  FN  Active  club_member_status  \\\n0         6883939031699146327  -1      -1                   0   \n1        11246327431398957306  -1      -1                   0   \n2        18439897732908966680  -1      -1                   0   \n3        18352672461570950206  -1      -1                   0   \n4        18162778555210377306   1       1                   0   \n...                       ...  ..     ...                 ...   \n1371975   7551062398649767985  -1      -1                   0   \n1371976   9305341941720086711  -1      -1                   0   \n1371977  10160427316885688932   1       1                   0   \n1371978   2551401172826382186   1       1                   0   \n1371979  16929951892735599169  -1      -1                   1   \n\n         fashion_news_frequency  age  postal_code  sensitivity  \n0                             0   49         6305     0.576074  \n1                             0   25        33726     0.579112  \n2                             0   24         3247     0.457142  \n3                             0   54       168643     0.547179  \n4                             1   52       168645     0.669126  \n...                         ...  ...          ...          ...  \n1371975                       0   24        50351     0.475915  \n1371976                       0   21        80169     0.492624  \n1371977                       1   21       106737     0.570265  \n1371978                       1   18       111894     0.547179  \n1371979                       0   65       352898     0.547179  \n\n[1371980 rows x 8 columns]",
      "text/html": "<div>\n<style scoped>\n    .dataframe tbody tr th:only-of-type {\n        vertical-align: middle;\n    }\n\n    .dataframe tbody tr th {\n        vertical-align: top;\n    }\n\n    .dataframe thead th {\n        text-align: right;\n    }\n</style>\n<table border=\"1\" class=\"dataframe\">\n  <thead>\n    <tr style=\"text-align: right;\">\n      <th></th>\n      <th>customer_id</th>\n      <th>FN</th>\n      <th>Active</th>\n      <th>club_member_status</th>\n      <th>fashion_news_frequency</th>\n      <th>age</th>\n      <th>postal_code</th>\n      <th>sensitivity</th>\n    </tr>\n  </thead>\n  <tbody>\n    <tr>\n      <th>0</th>\n      <td>6883939031699146327</td>\n      <td>-1</td>\n      <td>-1</td>\n      <td>0</td>\n      <td>0</td>\n      <td>49</td>\n      <td>6305</td>\n      <td>0.576074</td>\n    </tr>\n    <tr>\n      <th>1</th>\n      <td>11246327431398957306</td>\n      <td>-1</td>\n      <td>-1</td>\n      <td>0</td>\n      <td>0</td>\n      <td>25</td>\n      <td>33726</td>\n      <td>0.579112</td>\n    </tr>\n    <tr>\n      <th>2</th>\n      <td>18439897732908966680</td>\n      <td>-1</td>\n      <td>-1</td>\n      <td>0</td>\n      <td>0</td>\n      <td>24</td>\n      <td>3247</td>\n      <td>0.457142</td>\n    </tr>\n    <tr>\n      <th>3</th>\n      <td>18352672461570950206</td>\n      <td>-1</td>\n      <td>-1</td>\n      <td>0</td>\n      <td>0</td>\n      <td>54</td>\n      <td>168643</td>\n      <td>0.547179</td>\n    </tr>\n    <tr>\n      <th>4</th>\n      <td>18162778555210377306</td>\n      <td>1</td>\n      <td>1</td>\n      <td>0</td>\n      <td>1</td>\n      <td>52</td>\n      <td>168645</td>\n      <td>0.669126</td>\n    </tr>\n    <tr>\n      <th>...</th>\n      <td>...</td>\n      <td>...</td>\n      <td>...</td>\n      <td>...</td>\n      <td>...</td>\n      <td>...</td>\n      <td>...</td>\n      <td>...</td>\n    </tr>\n    <tr>\n      <th>1371975</th>\n      <td>7551062398649767985</td>\n      <td>-1</td>\n      <td>-1</td>\n      <td>0</td>\n      <td>0</td>\n      <td>24</td>\n      <td>50351</td>\n      <td>0.475915</td>\n    </tr>\n    <tr>\n      <th>1371976</th>\n      <td>9305341941720086711</td>\n      <td>-1</td>\n      <td>-1</td>\n      <td>0</td>\n      <td>0</td>\n      <td>21</td>\n      <td>80169</td>\n      <td>0.492624</td>\n    </tr>\n    <tr>\n      <th>1371977</th>\n      <td>10160427316885688932</td>\n      <td>1</td>\n      <td>1</td>\n      <td>0</td>\n      <td>1</td>\n      <td>21</td>\n      <td>106737</td>\n      <td>0.570265</td>\n    </tr>\n    <tr>\n      <th>1371978</th>\n      <td>2551401172826382186</td>\n      <td>1</td>\n      <td>1</td>\n      <td>0</td>\n      <td>1</td>\n      <td>18</td>\n      <td>111894</td>\n      <td>0.547179</td>\n    </tr>\n    <tr>\n      <th>1371979</th>\n      <td>16929951892735599169</td>\n      <td>-1</td>\n      <td>-1</td>\n      <td>1</td>\n      <td>0</td>\n      <td>65</td>\n      <td>352898</td>\n      <td>0.547179</td>\n    </tr>\n  </tbody>\n</table>\n<p>1371980 rows × 8 columns</p>\n</div>"
     },
     "execution_count": 26,
     "metadata": {},
     "output_type": "execute_result"
    }
   ],
   "source": [
    "# Customers who didn't buy anything in the current season have no data\n",
    "# Fill their sensitivity with the average sensitivity\n",
    "\n",
    "average = customers[\"sensitivity\"].mean()\n",
    "customers[\"sensitivity\"].fillna(average, inplace=True)\n",
    "\n",
    "# normalize\n",
    "customers[\"sensitivity\"] = MinMaxScaler().fit_transform(customers[[\"sensitivity\"]])\n",
    "customers"
   ],
   "metadata": {
    "collapsed": false,
    "ExecuteTime": {
     "end_time": "2023-12-22T00:47:29.539455600Z",
     "start_time": "2023-12-22T00:47:29.479352200Z"
    }
   },
   "id": "117000d82d611e8b"
  },
  {
   "cell_type": "code",
   "execution_count": 27,
   "outputs": [],
   "source": [
    "# For each customer calculate the standard deviation of the prices of the transactions\n",
    "price_sensitivity = transactions_train.groupby('customer_id')['price'].std().reset_index()\n",
    "price_sensitivity.rename(columns={'price': 'price_sensitivity'}, inplace=True)\n",
    "\n",
    "# When a customer has only one transaction, there is no standard deviation, so fill with 0\n",
    "price_sensitivity['price_sensitivity'].fillna(0, inplace=True)\n",
    "\n",
    "customers = pd.merge(customers, price_sensitivity, on='customer_id', how='left')\n",
    "\n",
    "# Customers with no transactions should get value 0\n",
    "customers['price_sensitivity'].fillna(0, inplace=True)"
   ],
   "metadata": {
    "collapsed": false,
    "ExecuteTime": {
     "end_time": "2023-12-22T00:47:31.319214900Z",
     "start_time": "2023-12-22T00:47:29.527613400Z"
    }
   },
   "id": "cec0b68859ead07"
  },
  {
   "cell_type": "markdown",
   "source": [
    "## Prepare for training ##\n",
    "Below is an adapted version of Noah's template version of Radek's code."
   ],
   "metadata": {
    "collapsed": false
   },
   "id": "d73103bc5746cf40"
  },
  {
   "cell_type": "code",
   "execution_count": 28,
   "outputs": [],
   "source": [
    "columns_to_use = [\n",
    "    'article_id',\n",
    "    'product_type_no',\n",
    "    'graphical_appearance_no',\n",
    "    'colour_group_code',\n",
    "    'perceived_colour_value_id',\n",
    "    'perceived_colour_master_id',\n",
    "    'department_no',\n",
    "    'index_code',\n",
    "    'index_group_no',\n",
    "    'section_no',\n",
    "    'garment_group_no',\n",
    "    'FN',\n",
    "    'Active',\n",
    "    'club_member_status',\n",
    "    'fashion_news_frequency',\n",
    "    'age',\n",
    "    'postal_code',\n",
    "    'ranked_weighted_sales',\n",
    "    \"price_sensitivity\",\n",
    "]\n",
    "def add_features(data):\n",
    "    result = data\n",
    "    result = pd.merge(result, customers, how='left', on='customer_id')\n",
    "    result = pd.merge(result, articles, how='left', on='article_id')\n",
    "\n",
    "    # features from assignment 2 could go here\n",
    "    # customer_avg_price = transactions_train.groupby('customer_id')['price'].mean().to_frame('preferred_price')\n",
    "    # result = pd.merge(result, customer_avg_price, how=\"left\", on=\"customer_id\")\n",
    "\n",
    "    return result[columns_to_use]"
   ],
   "metadata": {
    "collapsed": false,
    "ExecuteTime": {
     "end_time": "2023-12-22T00:47:31.334296Z",
     "start_time": "2023-12-22T00:47:31.319214900Z"
    }
   },
   "id": "1ed9dd37b8aac6bb"
  },
  {
   "cell_type": "code",
   "execution_count": 29,
   "outputs": [],
   "source": [
    "def recall(predictions, purchases, k=12):\n",
    "    # number of correct predictions for the customer / items bought by the customer\n",
    "    # total recall is the average recall over all customers\n",
    "\n",
    "    def row_recall(row):\n",
    "        assert 0 < len(row.purchases)\n",
    "        correct = 0\n",
    "        for predicted_item in row.prediction[:k]:\n",
    "            if predicted_item in row.purchases:\n",
    "                correct += 1\n",
    "        return correct / min(len(row.purchases), 12)\n",
    "\n",
    "    result = pd.merge(purchases, predictions, on=\"customer_id\", how=\"inner\")\n",
    "    result[\"recall\"] = result.apply(row_recall, axis=1)\n",
    "\n",
    "    return result.recall.sum() / len(purchases)"
   ],
   "metadata": {
    "collapsed": false,
    "ExecuteTime": {
     "end_time": "2023-12-22T00:47:31.363205500Z",
     "start_time": "2023-12-22T00:47:31.334296Z"
    }
   },
   "id": "5bcceb93ae416366"
  },
  {
   "cell_type": "code",
   "execution_count": 30,
   "outputs": [
    {
     "data": {
      "text/plain": "                  customer_id    segment\n0         6883939031699146327  age_young\n1        11246327431398957306  age_young\n2        18439897732908966680  age_young\n3        18352672461570950206  age_young\n4        18162778555210377306  age_young\n...                       ...        ...\n1371975   7551062398649767985  age_young\n1371976   9305341941720086711  age_young\n1371977  10160427316885688932  age_young\n1371978   2551401172826382186  age_young\n1371979  16929951892735599169  age_young\n\n[1371980 rows x 2 columns]",
      "text/html": "<div>\n<style scoped>\n    .dataframe tbody tr th:only-of-type {\n        vertical-align: middle;\n    }\n\n    .dataframe tbody tr th {\n        vertical-align: top;\n    }\n\n    .dataframe thead th {\n        text-align: right;\n    }\n</style>\n<table border=\"1\" class=\"dataframe\">\n  <thead>\n    <tr style=\"text-align: right;\">\n      <th></th>\n      <th>customer_id</th>\n      <th>segment</th>\n    </tr>\n  </thead>\n  <tbody>\n    <tr>\n      <th>0</th>\n      <td>6883939031699146327</td>\n      <td>age_young</td>\n    </tr>\n    <tr>\n      <th>1</th>\n      <td>11246327431398957306</td>\n      <td>age_young</td>\n    </tr>\n    <tr>\n      <th>2</th>\n      <td>18439897732908966680</td>\n      <td>age_young</td>\n    </tr>\n    <tr>\n      <th>3</th>\n      <td>18352672461570950206</td>\n      <td>age_young</td>\n    </tr>\n    <tr>\n      <th>4</th>\n      <td>18162778555210377306</td>\n      <td>age_young</td>\n    </tr>\n    <tr>\n      <th>...</th>\n      <td>...</td>\n      <td>...</td>\n    </tr>\n    <tr>\n      <th>1371975</th>\n      <td>7551062398649767985</td>\n      <td>age_young</td>\n    </tr>\n    <tr>\n      <th>1371976</th>\n      <td>9305341941720086711</td>\n      <td>age_young</td>\n    </tr>\n    <tr>\n      <th>1371977</th>\n      <td>10160427316885688932</td>\n      <td>age_young</td>\n    </tr>\n    <tr>\n      <th>1371978</th>\n      <td>2551401172826382186</td>\n      <td>age_young</td>\n    </tr>\n    <tr>\n      <th>1371979</th>\n      <td>16929951892735599169</td>\n      <td>age_young</td>\n    </tr>\n  </tbody>\n</table>\n<p>1371980 rows × 2 columns</p>\n</div>"
     },
     "execution_count": 30,
     "metadata": {},
     "output_type": "execute_result"
    }
   ],
   "source": [
    "segmented_customers"
   ],
   "metadata": {
    "collapsed": false,
    "ExecuteTime": {
     "end_time": "2023-12-22T00:47:31.365524500Z",
     "start_time": "2023-12-22T00:47:31.351017100Z"
    }
   },
   "id": "e9fb34d6cdaf7ddb"
  },
  {
   "cell_type": "code",
   "execution_count": 49,
   "outputs": [
    {
     "data": {
      "text/plain": "       t_dat       customer_id  article_id     price  sales_channel_id  week  \\\n0 2020-07-29  1152192358796555   720125042  0.018627                 1    97   \n1 2020-07-29  1152192358796555   160442010  0.013542                 1    97   \n2 2020-08-11  1152192358796555   786304001  0.025407                 1    98   \n3 2020-07-29  2059722054851309   862821001  0.016932                 2    97   \n4 2020-07-29  2059722054851309   932365006  0.033881                 2    97   \n\n   season    segment  \n0  Summer  age_young  \n1  Summer  age_young  \n2  Summer  age_young  \n3  Summer  age_young  \n4  Summer  age_young  ",
      "text/html": "<div>\n<style scoped>\n    .dataframe tbody tr th:only-of-type {\n        vertical-align: middle;\n    }\n\n    .dataframe tbody tr th {\n        vertical-align: top;\n    }\n\n    .dataframe thead th {\n        text-align: right;\n    }\n</style>\n<table border=\"1\" class=\"dataframe\">\n  <thead>\n    <tr style=\"text-align: right;\">\n      <th></th>\n      <th>t_dat</th>\n      <th>customer_id</th>\n      <th>article_id</th>\n      <th>price</th>\n      <th>sales_channel_id</th>\n      <th>week</th>\n      <th>season</th>\n      <th>segment</th>\n    </tr>\n  </thead>\n  <tbody>\n    <tr>\n      <th>0</th>\n      <td>2020-07-29</td>\n      <td>1152192358796555</td>\n      <td>720125042</td>\n      <td>0.018627</td>\n      <td>1</td>\n      <td>97</td>\n      <td>Summer</td>\n      <td>age_young</td>\n    </tr>\n    <tr>\n      <th>1</th>\n      <td>2020-07-29</td>\n      <td>1152192358796555</td>\n      <td>160442010</td>\n      <td>0.013542</td>\n      <td>1</td>\n      <td>97</td>\n      <td>Summer</td>\n      <td>age_young</td>\n    </tr>\n    <tr>\n      <th>2</th>\n      <td>2020-08-11</td>\n      <td>1152192358796555</td>\n      <td>786304001</td>\n      <td>0.025407</td>\n      <td>1</td>\n      <td>98</td>\n      <td>Summer</td>\n      <td>age_young</td>\n    </tr>\n    <tr>\n      <th>3</th>\n      <td>2020-07-29</td>\n      <td>2059722054851309</td>\n      <td>862821001</td>\n      <td>0.016932</td>\n      <td>2</td>\n      <td>97</td>\n      <td>Summer</td>\n      <td>age_young</td>\n    </tr>\n    <tr>\n      <th>4</th>\n      <td>2020-07-29</td>\n      <td>2059722054851309</td>\n      <td>932365006</td>\n      <td>0.033881</td>\n      <td>2</td>\n      <td>97</td>\n      <td>Summer</td>\n      <td>age_young</td>\n    </tr>\n  </tbody>\n</table>\n</div>"
     },
     "execution_count": 49,
     "metadata": {},
     "output_type": "execute_result"
    }
   ],
   "source": [
    "### split into training and testing\n",
    "# one week is used for testing\n",
    "# a number of weeks leading up to the test week are used to train the ranker\n",
    "test_week = 105\n",
    "num_training_weeks = 8\n",
    "training_weeks = np.arange(test_week-num_training_weeks, test_week)\n",
    "train_data = transactions_train[transactions_train.week.isin(training_weeks)].reset_index(drop=True)\n",
    "\n",
    "# add segment of the customer to each transaction\n",
    "train_data = train_data.merge(segmented_customers, on=\"customer_id\")\n",
    "train_data.head()"
   ],
   "metadata": {
    "collapsed": false,
    "ExecuteTime": {
     "end_time": "2023-12-22T00:49:01.719646700Z",
     "start_time": "2023-12-22T00:49:01.096863700Z"
    }
   },
   "id": "56aae6045e3dc1b7"
  },
  {
   "cell_type": "code",
   "execution_count": 50,
   "outputs": [
    {
     "data": {
      "text/plain": "   article_id  age_young\n0   108775015   0.356218\n1   108775044   0.289761\n2   108775051   0.297623\n3   110065001   0.294080\n4   110065002   0.227623",
      "text/html": "<div>\n<style scoped>\n    .dataframe tbody tr th:only-of-type {\n        vertical-align: middle;\n    }\n\n    .dataframe tbody tr th {\n        vertical-align: top;\n    }\n\n    .dataframe thead th {\n        text-align: right;\n    }\n</style>\n<table border=\"1\" class=\"dataframe\">\n  <thead>\n    <tr style=\"text-align: right;\">\n      <th></th>\n      <th>article_id</th>\n      <th>age_young</th>\n    </tr>\n  </thead>\n  <tbody>\n    <tr>\n      <th>0</th>\n      <td>108775015</td>\n      <td>0.356218</td>\n    </tr>\n    <tr>\n      <th>1</th>\n      <td>108775044</td>\n      <td>0.289761</td>\n    </tr>\n    <tr>\n      <th>2</th>\n      <td>108775051</td>\n      <td>0.297623</td>\n    </tr>\n    <tr>\n      <th>3</th>\n      <td>110065001</td>\n      <td>0.294080</td>\n    </tr>\n    <tr>\n      <th>4</th>\n      <td>110065002</td>\n      <td>0.227623</td>\n    </tr>\n  </tbody>\n</table>\n</div>"
     },
     "execution_count": 50,
     "metadata": {},
     "output_type": "execute_result"
    }
   ],
   "source": [
    "articles_scores.head()"
   ],
   "metadata": {
    "collapsed": false,
    "ExecuteTime": {
     "end_time": "2023-12-22T00:49:01.744816800Z",
     "start_time": "2023-12-22T00:49:01.718570700Z"
    }
   },
   "id": "457a960d4369315e"
  },
  {
   "cell_type": "code",
   "execution_count": 51,
   "outputs": [
    {
     "data": {
      "text/plain": "        week  article_id    segment  count  age_young\n0         97   108775044  age_young      6   0.289761\n1         98   108775044  age_young      5   0.289761\n2         99   108775044  age_young      5   0.289761\n3        100   108775044  age_young      1   0.289761\n4        101   108775044  age_young      8   0.289761\n...      ...         ...        ...    ...        ...\n155118   104   944241001  age_young     35   0.406491\n155119   104   945600001  age_young     12   0.499554\n155120   104   946475001  age_young      1   0.367061\n155121   104   946527001  age_young      4   0.316251\n155122   104   949594001  age_young      5   0.354052\n\n[155123 rows x 5 columns]",
      "text/html": "<div>\n<style scoped>\n    .dataframe tbody tr th:only-of-type {\n        vertical-align: middle;\n    }\n\n    .dataframe tbody tr th {\n        vertical-align: top;\n    }\n\n    .dataframe thead th {\n        text-align: right;\n    }\n</style>\n<table border=\"1\" class=\"dataframe\">\n  <thead>\n    <tr style=\"text-align: right;\">\n      <th></th>\n      <th>week</th>\n      <th>article_id</th>\n      <th>segment</th>\n      <th>count</th>\n      <th>age_young</th>\n    </tr>\n  </thead>\n  <tbody>\n    <tr>\n      <th>0</th>\n      <td>97</td>\n      <td>108775044</td>\n      <td>age_young</td>\n      <td>6</td>\n      <td>0.289761</td>\n    </tr>\n    <tr>\n      <th>1</th>\n      <td>98</td>\n      <td>108775044</td>\n      <td>age_young</td>\n      <td>5</td>\n      <td>0.289761</td>\n    </tr>\n    <tr>\n      <th>2</th>\n      <td>99</td>\n      <td>108775044</td>\n      <td>age_young</td>\n      <td>5</td>\n      <td>0.289761</td>\n    </tr>\n    <tr>\n      <th>3</th>\n      <td>100</td>\n      <td>108775044</td>\n      <td>age_young</td>\n      <td>1</td>\n      <td>0.289761</td>\n    </tr>\n    <tr>\n      <th>4</th>\n      <td>101</td>\n      <td>108775044</td>\n      <td>age_young</td>\n      <td>8</td>\n      <td>0.289761</td>\n    </tr>\n    <tr>\n      <th>...</th>\n      <td>...</td>\n      <td>...</td>\n      <td>...</td>\n      <td>...</td>\n      <td>...</td>\n    </tr>\n    <tr>\n      <th>155118</th>\n      <td>104</td>\n      <td>944241001</td>\n      <td>age_young</td>\n      <td>35</td>\n      <td>0.406491</td>\n    </tr>\n    <tr>\n      <th>155119</th>\n      <td>104</td>\n      <td>945600001</td>\n      <td>age_young</td>\n      <td>12</td>\n      <td>0.499554</td>\n    </tr>\n    <tr>\n      <th>155120</th>\n      <td>104</td>\n      <td>946475001</td>\n      <td>age_young</td>\n      <td>1</td>\n      <td>0.367061</td>\n    </tr>\n    <tr>\n      <th>155121</th>\n      <td>104</td>\n      <td>946527001</td>\n      <td>age_young</td>\n      <td>4</td>\n      <td>0.316251</td>\n    </tr>\n    <tr>\n      <th>155122</th>\n      <td>104</td>\n      <td>949594001</td>\n      <td>age_young</td>\n      <td>5</td>\n      <td>0.354052</td>\n    </tr>\n  </tbody>\n</table>\n<p>155123 rows × 5 columns</p>\n</div>"
     },
     "execution_count": 51,
     "metadata": {},
     "output_type": "execute_result"
    }
   ],
   "source": [
    "### repurchase\n",
    "# each week is seen as a basket\n",
    "# the items bought in one basket, will be example for the next basket\n",
    "# the items bought in the last basket, will be candidates for the test basket\n",
    "c2weeks = train_data.groupby('customer_id')['week'].unique()\n",
    "c2weeks2shifted_weeks = {}\n",
    "for c_id, weeks in c2weeks.items():\n",
    "    c2weeks2shifted_weeks[c_id] = {}\n",
    "    for i in range(weeks.shape[0]-1):\n",
    "        c2weeks2shifted_weeks[c_id][weeks[i]] = weeks[i+1]\n",
    "    c2weeks2shifted_weeks[c_id][weeks[-1]] = test_week\n",
    "candidates_last_purchase = train_data.copy()\n",
    "weeks = []\n",
    "for i, (c_id, week) in enumerate(zip(train_data['customer_id'], train_data['week'])):\n",
    "    weeks.append(c2weeks2shifted_weeks[c_id][week])\n",
    "candidates_last_purchase.week=weeks\n",
    "\n",
    "sales_counts = train_data.groupby([\"week\", \"article_id\", \"segment\"]).size().reset_index(name=\"count\")\n",
    "sales_counts = sales_counts.merge(articles_scores, on=\"article_id\")\n",
    "sales_counts"
   ],
   "metadata": {
    "collapsed": false,
    "ExecuteTime": {
     "end_time": "2023-12-22T00:49:13.071083600Z",
     "start_time": "2023-12-22T00:49:01.736560600Z"
    }
   },
   "id": "9148f9fec805092"
  },
  {
   "cell_type": "code",
   "execution_count": 52,
   "outputs": [
    {
     "data": {
      "text/plain": "        week  article_id    segment  count  age_young  season_score\n0         97   108775044  age_young      6   0.289761      0.289761\n1         98   108775044  age_young      5   0.289761      0.289761\n2         99   108775044  age_young      5   0.289761      0.289761\n3        100   108775044  age_young      1   0.289761      0.289761\n4        101   108775044  age_young      8   0.289761      0.289761\n...      ...         ...        ...    ...        ...           ...\n155118   104   944241001  age_young     35   0.406491      0.406491\n155119   104   945600001  age_young     12   0.499554      0.499554\n155120   104   946475001  age_young      1   0.367061      0.367061\n155121   104   946527001  age_young      4   0.316251      0.316251\n155122   104   949594001  age_young      5   0.354052      0.354052\n\n[155123 rows x 6 columns]",
      "text/html": "<div>\n<style scoped>\n    .dataframe tbody tr th:only-of-type {\n        vertical-align: middle;\n    }\n\n    .dataframe tbody tr th {\n        vertical-align: top;\n    }\n\n    .dataframe thead th {\n        text-align: right;\n    }\n</style>\n<table border=\"1\" class=\"dataframe\">\n  <thead>\n    <tr style=\"text-align: right;\">\n      <th></th>\n      <th>week</th>\n      <th>article_id</th>\n      <th>segment</th>\n      <th>count</th>\n      <th>age_young</th>\n      <th>season_score</th>\n    </tr>\n  </thead>\n  <tbody>\n    <tr>\n      <th>0</th>\n      <td>97</td>\n      <td>108775044</td>\n      <td>age_young</td>\n      <td>6</td>\n      <td>0.289761</td>\n      <td>0.289761</td>\n    </tr>\n    <tr>\n      <th>1</th>\n      <td>98</td>\n      <td>108775044</td>\n      <td>age_young</td>\n      <td>5</td>\n      <td>0.289761</td>\n      <td>0.289761</td>\n    </tr>\n    <tr>\n      <th>2</th>\n      <td>99</td>\n      <td>108775044</td>\n      <td>age_young</td>\n      <td>5</td>\n      <td>0.289761</td>\n      <td>0.289761</td>\n    </tr>\n    <tr>\n      <th>3</th>\n      <td>100</td>\n      <td>108775044</td>\n      <td>age_young</td>\n      <td>1</td>\n      <td>0.289761</td>\n      <td>0.289761</td>\n    </tr>\n    <tr>\n      <th>4</th>\n      <td>101</td>\n      <td>108775044</td>\n      <td>age_young</td>\n      <td>8</td>\n      <td>0.289761</td>\n      <td>0.289761</td>\n    </tr>\n    <tr>\n      <th>...</th>\n      <td>...</td>\n      <td>...</td>\n      <td>...</td>\n      <td>...</td>\n      <td>...</td>\n      <td>...</td>\n    </tr>\n    <tr>\n      <th>155118</th>\n      <td>104</td>\n      <td>944241001</td>\n      <td>age_young</td>\n      <td>35</td>\n      <td>0.406491</td>\n      <td>0.406491</td>\n    </tr>\n    <tr>\n      <th>155119</th>\n      <td>104</td>\n      <td>945600001</td>\n      <td>age_young</td>\n      <td>12</td>\n      <td>0.499554</td>\n      <td>0.499554</td>\n    </tr>\n    <tr>\n      <th>155120</th>\n      <td>104</td>\n      <td>946475001</td>\n      <td>age_young</td>\n      <td>1</td>\n      <td>0.367061</td>\n      <td>0.367061</td>\n    </tr>\n    <tr>\n      <th>155121</th>\n      <td>104</td>\n      <td>946527001</td>\n      <td>age_young</td>\n      <td>4</td>\n      <td>0.316251</td>\n      <td>0.316251</td>\n    </tr>\n    <tr>\n      <th>155122</th>\n      <td>104</td>\n      <td>949594001</td>\n      <td>age_young</td>\n      <td>5</td>\n      <td>0.354052</td>\n      <td>0.354052</td>\n    </tr>\n  </tbody>\n</table>\n<p>155123 rows × 6 columns</p>\n</div>"
     },
     "execution_count": 52,
     "metadata": {},
     "output_type": "execute_result"
    }
   ],
   "source": [
    "def get_applicable_score(row):\n",
    "    return row[row[\"segment\"]]\n",
    "sales_counts = sales_counts.copy()\n",
    "sales_counts[\"season_score\"] = sales_counts.apply(get_applicable_score, axis=1)\n",
    "sales_counts"
   ],
   "metadata": {
    "collapsed": false,
    "ExecuteTime": {
     "end_time": "2023-12-22T00:49:13.623168400Z",
     "start_time": "2023-12-22T00:49:13.072086300Z"
    }
   },
   "id": "7192d1eede251271"
  },
  {
   "cell_type": "code",
   "execution_count": 53,
   "outputs": [
    {
     "data": {
      "text/plain": "        week  article_id    segment  count  season_score\n0         97   108775044  age_young      6      0.289761\n1         98   108775044  age_young      5      0.289761\n2         99   108775044  age_young      5      0.289761\n3        100   108775044  age_young      1      0.289761\n4        101   108775044  age_young      8      0.289761\n...      ...         ...        ...    ...           ...\n155118   104   944241001  age_young     35      0.406491\n155119   104   945600001  age_young     12      0.499554\n155120   104   946475001  age_young      1      0.367061\n155121   104   946527001  age_young      4      0.316251\n155122   104   949594001  age_young      5      0.354052\n\n[155123 rows x 5 columns]",
      "text/html": "<div>\n<style scoped>\n    .dataframe tbody tr th:only-of-type {\n        vertical-align: middle;\n    }\n\n    .dataframe tbody tr th {\n        vertical-align: top;\n    }\n\n    .dataframe thead th {\n        text-align: right;\n    }\n</style>\n<table border=\"1\" class=\"dataframe\">\n  <thead>\n    <tr style=\"text-align: right;\">\n      <th></th>\n      <th>week</th>\n      <th>article_id</th>\n      <th>segment</th>\n      <th>count</th>\n      <th>season_score</th>\n    </tr>\n  </thead>\n  <tbody>\n    <tr>\n      <th>0</th>\n      <td>97</td>\n      <td>108775044</td>\n      <td>age_young</td>\n      <td>6</td>\n      <td>0.289761</td>\n    </tr>\n    <tr>\n      <th>1</th>\n      <td>98</td>\n      <td>108775044</td>\n      <td>age_young</td>\n      <td>5</td>\n      <td>0.289761</td>\n    </tr>\n    <tr>\n      <th>2</th>\n      <td>99</td>\n      <td>108775044</td>\n      <td>age_young</td>\n      <td>5</td>\n      <td>0.289761</td>\n    </tr>\n    <tr>\n      <th>3</th>\n      <td>100</td>\n      <td>108775044</td>\n      <td>age_young</td>\n      <td>1</td>\n      <td>0.289761</td>\n    </tr>\n    <tr>\n      <th>4</th>\n      <td>101</td>\n      <td>108775044</td>\n      <td>age_young</td>\n      <td>8</td>\n      <td>0.289761</td>\n    </tr>\n    <tr>\n      <th>...</th>\n      <td>...</td>\n      <td>...</td>\n      <td>...</td>\n      <td>...</td>\n      <td>...</td>\n    </tr>\n    <tr>\n      <th>155118</th>\n      <td>104</td>\n      <td>944241001</td>\n      <td>age_young</td>\n      <td>35</td>\n      <td>0.406491</td>\n    </tr>\n    <tr>\n      <th>155119</th>\n      <td>104</td>\n      <td>945600001</td>\n      <td>age_young</td>\n      <td>12</td>\n      <td>0.499554</td>\n    </tr>\n    <tr>\n      <th>155120</th>\n      <td>104</td>\n      <td>946475001</td>\n      <td>age_young</td>\n      <td>1</td>\n      <td>0.367061</td>\n    </tr>\n    <tr>\n      <th>155121</th>\n      <td>104</td>\n      <td>946527001</td>\n      <td>age_young</td>\n      <td>4</td>\n      <td>0.316251</td>\n    </tr>\n    <tr>\n      <th>155122</th>\n      <td>104</td>\n      <td>949594001</td>\n      <td>age_young</td>\n      <td>5</td>\n      <td>0.354052</td>\n    </tr>\n  </tbody>\n</table>\n<p>155123 rows × 5 columns</p>\n</div>"
     },
     "execution_count": 53,
     "metadata": {},
     "output_type": "execute_result"
    }
   ],
   "source": [
    "sales_counts = sales_counts.drop(columns=segment_names)\n",
    "sales_counts"
   ],
   "metadata": {
    "collapsed": false,
    "ExecuteTime": {
     "end_time": "2023-12-22T00:49:13.636266200Z",
     "start_time": "2023-12-22T00:49:13.621167500Z"
    }
   },
   "id": "9c62977534a6da9"
  },
  {
   "cell_type": "code",
   "execution_count": 54,
   "outputs": [
    {
     "data": {
      "text/plain": "        week  article_id    segment  count  season_score  weighted_sales\n0         97   108775044  age_young      6      0.289761        1.680652\n1         98   108775044  age_young      5      0.289761        1.594168\n2         99   108775044  age_young      5      0.289761        1.594168\n3        100   108775044  age_young      1      0.289761        1.000000\n4        101   108775044  age_young      8      0.289761        1.826754\n...      ...         ...        ...    ...           ...             ...\n155118   104   944241001  age_young     35      0.406491        4.242773\n155119   104   945600001  age_young     12      0.499554        3.460265\n155120   104   946475001  age_young      1      0.367061        1.000000\n155121   104   946527001  age_young      4      0.316251        1.550250\n155122   104   949594001  age_young      5      0.354052        1.767958\n\n[155123 rows x 6 columns]",
      "text/html": "<div>\n<style scoped>\n    .dataframe tbody tr th:only-of-type {\n        vertical-align: middle;\n    }\n\n    .dataframe tbody tr th {\n        vertical-align: top;\n    }\n\n    .dataframe thead th {\n        text-align: right;\n    }\n</style>\n<table border=\"1\" class=\"dataframe\">\n  <thead>\n    <tr style=\"text-align: right;\">\n      <th></th>\n      <th>week</th>\n      <th>article_id</th>\n      <th>segment</th>\n      <th>count</th>\n      <th>season_score</th>\n      <th>weighted_sales</th>\n    </tr>\n  </thead>\n  <tbody>\n    <tr>\n      <th>0</th>\n      <td>97</td>\n      <td>108775044</td>\n      <td>age_young</td>\n      <td>6</td>\n      <td>0.289761</td>\n      <td>1.680652</td>\n    </tr>\n    <tr>\n      <th>1</th>\n      <td>98</td>\n      <td>108775044</td>\n      <td>age_young</td>\n      <td>5</td>\n      <td>0.289761</td>\n      <td>1.594168</td>\n    </tr>\n    <tr>\n      <th>2</th>\n      <td>99</td>\n      <td>108775044</td>\n      <td>age_young</td>\n      <td>5</td>\n      <td>0.289761</td>\n      <td>1.594168</td>\n    </tr>\n    <tr>\n      <th>3</th>\n      <td>100</td>\n      <td>108775044</td>\n      <td>age_young</td>\n      <td>1</td>\n      <td>0.289761</td>\n      <td>1.000000</td>\n    </tr>\n    <tr>\n      <th>4</th>\n      <td>101</td>\n      <td>108775044</td>\n      <td>age_young</td>\n      <td>8</td>\n      <td>0.289761</td>\n      <td>1.826754</td>\n    </tr>\n    <tr>\n      <th>...</th>\n      <td>...</td>\n      <td>...</td>\n      <td>...</td>\n      <td>...</td>\n      <td>...</td>\n      <td>...</td>\n    </tr>\n    <tr>\n      <th>155118</th>\n      <td>104</td>\n      <td>944241001</td>\n      <td>age_young</td>\n      <td>35</td>\n      <td>0.406491</td>\n      <td>4.242773</td>\n    </tr>\n    <tr>\n      <th>155119</th>\n      <td>104</td>\n      <td>945600001</td>\n      <td>age_young</td>\n      <td>12</td>\n      <td>0.499554</td>\n      <td>3.460265</td>\n    </tr>\n    <tr>\n      <th>155120</th>\n      <td>104</td>\n      <td>946475001</td>\n      <td>age_young</td>\n      <td>1</td>\n      <td>0.367061</td>\n      <td>1.000000</td>\n    </tr>\n    <tr>\n      <th>155121</th>\n      <td>104</td>\n      <td>946527001</td>\n      <td>age_young</td>\n      <td>4</td>\n      <td>0.316251</td>\n      <td>1.550250</td>\n    </tr>\n    <tr>\n      <th>155122</th>\n      <td>104</td>\n      <td>949594001</td>\n      <td>age_young</td>\n      <td>5</td>\n      <td>0.354052</td>\n      <td>1.767958</td>\n    </tr>\n  </tbody>\n</table>\n<p>155123 rows × 6 columns</p>\n</div>"
     },
     "execution_count": 54,
     "metadata": {},
     "output_type": "execute_result"
    }
   ],
   "source": [
    "sales_counts[\"weighted_sales\"] = sales_counts[\"count\"] ** sales_counts[\"season_score\"]\n",
    "sales_counts"
   ],
   "metadata": {
    "collapsed": false,
    "ExecuteTime": {
     "end_time": "2023-12-22T00:49:13.659900300Z",
     "start_time": "2023-12-22T00:49:13.636266200Z"
    }
   },
   "id": "710289649028ab1f"
  },
  {
   "cell_type": "code",
   "execution_count": 55,
   "outputs": [
    {
     "data": {
      "text/plain": "        week  article_id    segment  count  season_score  weighted_sales  \\\n0         97   108775044  age_young      6      0.289761        1.680652   \n1         98   108775044  age_young      5      0.289761        1.594168   \n2         99   108775044  age_young      5      0.289761        1.594168   \n3        100   108775044  age_young      1      0.289761        1.000000   \n4        101   108775044  age_young      8      0.289761        1.826754   \n...      ...         ...        ...    ...           ...             ...   \n155118   104   944241001  age_young     35      0.406491        4.242773   \n155119   104   945600001  age_young     12      0.499554        3.460265   \n155120   104   946475001  age_young      1      0.367061        1.000000   \n155121   104   946527001  age_young      4      0.316251        1.550250   \n155122   104   949594001  age_young      5      0.354052        1.767958   \n\n        ranked_weighted_sales  \n0                        8785  \n1                        8455  \n2                        8546  \n3                       12948  \n4                        7124  \n...                       ...  \n155118                   1506  \n155119                   2213  \n155120                  11249  \n155121                   7851  \n155122                   6632  \n\n[155123 rows x 7 columns]",
      "text/html": "<div>\n<style scoped>\n    .dataframe tbody tr th:only-of-type {\n        vertical-align: middle;\n    }\n\n    .dataframe tbody tr th {\n        vertical-align: top;\n    }\n\n    .dataframe thead th {\n        text-align: right;\n    }\n</style>\n<table border=\"1\" class=\"dataframe\">\n  <thead>\n    <tr style=\"text-align: right;\">\n      <th></th>\n      <th>week</th>\n      <th>article_id</th>\n      <th>segment</th>\n      <th>count</th>\n      <th>season_score</th>\n      <th>weighted_sales</th>\n      <th>ranked_weighted_sales</th>\n    </tr>\n  </thead>\n  <tbody>\n    <tr>\n      <th>0</th>\n      <td>97</td>\n      <td>108775044</td>\n      <td>age_young</td>\n      <td>6</td>\n      <td>0.289761</td>\n      <td>1.680652</td>\n      <td>8785</td>\n    </tr>\n    <tr>\n      <th>1</th>\n      <td>98</td>\n      <td>108775044</td>\n      <td>age_young</td>\n      <td>5</td>\n      <td>0.289761</td>\n      <td>1.594168</td>\n      <td>8455</td>\n    </tr>\n    <tr>\n      <th>2</th>\n      <td>99</td>\n      <td>108775044</td>\n      <td>age_young</td>\n      <td>5</td>\n      <td>0.289761</td>\n      <td>1.594168</td>\n      <td>8546</td>\n    </tr>\n    <tr>\n      <th>3</th>\n      <td>100</td>\n      <td>108775044</td>\n      <td>age_young</td>\n      <td>1</td>\n      <td>0.289761</td>\n      <td>1.000000</td>\n      <td>12948</td>\n    </tr>\n    <tr>\n      <th>4</th>\n      <td>101</td>\n      <td>108775044</td>\n      <td>age_young</td>\n      <td>8</td>\n      <td>0.289761</td>\n      <td>1.826754</td>\n      <td>7124</td>\n    </tr>\n    <tr>\n      <th>...</th>\n      <td>...</td>\n      <td>...</td>\n      <td>...</td>\n      <td>...</td>\n      <td>...</td>\n      <td>...</td>\n      <td>...</td>\n    </tr>\n    <tr>\n      <th>155118</th>\n      <td>104</td>\n      <td>944241001</td>\n      <td>age_young</td>\n      <td>35</td>\n      <td>0.406491</td>\n      <td>4.242773</td>\n      <td>1506</td>\n    </tr>\n    <tr>\n      <th>155119</th>\n      <td>104</td>\n      <td>945600001</td>\n      <td>age_young</td>\n      <td>12</td>\n      <td>0.499554</td>\n      <td>3.460265</td>\n      <td>2213</td>\n    </tr>\n    <tr>\n      <th>155120</th>\n      <td>104</td>\n      <td>946475001</td>\n      <td>age_young</td>\n      <td>1</td>\n      <td>0.367061</td>\n      <td>1.000000</td>\n      <td>11249</td>\n    </tr>\n    <tr>\n      <th>155121</th>\n      <td>104</td>\n      <td>946527001</td>\n      <td>age_young</td>\n      <td>4</td>\n      <td>0.316251</td>\n      <td>1.550250</td>\n      <td>7851</td>\n    </tr>\n    <tr>\n      <th>155122</th>\n      <td>104</td>\n      <td>949594001</td>\n      <td>age_young</td>\n      <td>5</td>\n      <td>0.354052</td>\n      <td>1.767958</td>\n      <td>6632</td>\n    </tr>\n  </tbody>\n</table>\n<p>155123 rows × 7 columns</p>\n</div>"
     },
     "execution_count": 55,
     "metadata": {},
     "output_type": "execute_result"
    }
   ],
   "source": [
    "sales_counts[\"ranked_weighted_sales\"] = (sales_counts.groupby(\"week\")[\"weighted_sales\"].rank(method=\"dense\", ascending=False).astype(\"int64\"))\n",
    "sales_counts"
   ],
   "metadata": {
    "collapsed": false,
    "ExecuteTime": {
     "end_time": "2023-12-22T00:49:13.753837400Z",
     "start_time": "2023-12-22T00:49:13.651477400Z"
    }
   },
   "id": "678460033c5de6a3"
  },
  {
   "cell_type": "code",
   "execution_count": 56,
   "outputs": [
    {
     "name": "stderr",
     "output_type": "stream",
     "text": [
      "C:\\Users\\Arno\\AppData\\Local\\Temp\\ipykernel_24404\\1642060979.py:2: SettingWithCopyWarning: \n",
      "A value is trying to be set on a copy of a slice from a DataFrame.\n",
      "Try using .loc[row_indexer,col_indexer] = value instead\n",
      "\n",
      "See the caveats in the documentation: https://pandas.pydata.org/pandas-docs/stable/user_guide/indexing.html#returning-a-view-versus-a-copy\n",
      "  sales_counts.week += 1\n"
     ]
    }
   ],
   "source": [
    "sales_counts = sales_counts[sales_counts[\"ranked_weighted_sales\"] <= 12]\n",
    "sales_counts.week += 1\n",
    "sales_counts = sales_counts.sort_values(by=[\"week\", \"article_id\", \"segment\"])\n",
    "\n",
    "# A list of all customers that bought something during each week\n",
    "customers_per_week = (train_data.groupby(['week', 'customer_id', 'segment']).head(1).\n",
    "                      drop(columns=['article_id', 'price', \"t_dat\", \"season\", \"sales_channel_id\"]).drop_duplicates([\"week\",\"customer_id\"]).copy())\n",
    "candidates_bestsellers = pd.merge(customers_per_week,sales_counts,on=['week', 'segment'])\n",
    "candidates_bestsellers_test_week = customers_per_week.drop_duplicates('customer_id').reset_index(drop=True) # all customers who ever bought something\n",
    "candidates_bestsellers_test_week.week = test_week # join on test week\n",
    "candidates_bestsellers_test_week = pd.merge(candidates_bestsellers_test_week,sales_counts,on=['week', 'segment'])\n",
    "candidates_bestsellers = pd.concat([candidates_bestsellers, candidates_bestsellers_test_week])\n",
    "candidates_bestsellers.drop(columns='ranked_weighted_sales', inplace=True)\n",
    "\n",
    "### combine\n",
    "d = train_data.copy()\n",
    "d['purchased'] = True\n",
    "\n",
    "candidates = pd.concat([\n",
    "    d, candidates_last_purchase, candidates_bestsellers\n",
    "])"
   ],
   "metadata": {
    "collapsed": false,
    "ExecuteTime": {
     "end_time": "2023-12-22T00:49:15.630707900Z",
     "start_time": "2023-12-22T00:49:13.700865400Z"
    }
   },
   "id": "6c26a563f55de344"
  },
  {
   "cell_type": "code",
   "execution_count": 57,
   "outputs": [
    {
     "data": {
      "text/plain": "             t_dat           customer_id  article_id     price  \\\n0       2020-07-29      1152192358796555   720125042  0.018627   \n1       2020-07-29      1152192358796555   160442010  0.013542   \n2       2020-08-11      1152192358796555   786304001  0.025407   \n3       2020-07-29      2059722054851309   862821001  0.016932   \n4       2020-07-29      2059722054851309   932365006  0.033881   \n...            ...                   ...         ...       ...   \n4544251        NaT  18438270306572912089   915529003       NaN   \n4544252        NaT  18438270306572912089   915529005       NaN   \n4544253        NaT  18438270306572912089   918525001       NaN   \n4544254        NaT  18438270306572912089   924243001       NaN   \n4544255        NaT  18438270306572912089   924243002       NaN   \n\n         sales_channel_id  week  season    segment purchased  count  \\\n0                     1.0    97  Summer  age_young      True    NaN   \n1                     1.0    97  Summer  age_young      True    NaN   \n2                     1.0    98  Summer  age_young      True    NaN   \n3                     2.0    97  Summer  age_young      True    NaN   \n4                     2.0    97  Summer  age_young      True    NaN   \n...                   ...   ...     ...        ...       ...    ...   \n4544251               NaN   105     NaN  age_young       NaN  495.0   \n4544252               NaN   105     NaN  age_young       NaN  491.0   \n4544253               NaN   105     NaN  age_young       NaN  342.0   \n4544254               NaN   105     NaN  age_young       NaN  852.0   \n4544255               NaN   105     NaN  age_young       NaN  635.0   \n\n         season_score  weighted_sales  \n0                 NaN             NaN  \n1                 NaN             NaN  \n2                 NaN             NaN  \n3                 NaN             NaN  \n4                 NaN             NaN  \n...               ...             ...  \n4544251      0.550021       30.345148  \n4544252      0.561946       32.526820  \n4544253      0.561946       26.545140  \n4544254      0.561946       44.335117  \n4544255      0.550021       34.800398  \n\n[15072486 rows x 12 columns]",
      "text/html": "<div>\n<style scoped>\n    .dataframe tbody tr th:only-of-type {\n        vertical-align: middle;\n    }\n\n    .dataframe tbody tr th {\n        vertical-align: top;\n    }\n\n    .dataframe thead th {\n        text-align: right;\n    }\n</style>\n<table border=\"1\" class=\"dataframe\">\n  <thead>\n    <tr style=\"text-align: right;\">\n      <th></th>\n      <th>t_dat</th>\n      <th>customer_id</th>\n      <th>article_id</th>\n      <th>price</th>\n      <th>sales_channel_id</th>\n      <th>week</th>\n      <th>season</th>\n      <th>segment</th>\n      <th>purchased</th>\n      <th>count</th>\n      <th>season_score</th>\n      <th>weighted_sales</th>\n    </tr>\n  </thead>\n  <tbody>\n    <tr>\n      <th>0</th>\n      <td>2020-07-29</td>\n      <td>1152192358796555</td>\n      <td>720125042</td>\n      <td>0.018627</td>\n      <td>1.0</td>\n      <td>97</td>\n      <td>Summer</td>\n      <td>age_young</td>\n      <td>True</td>\n      <td>NaN</td>\n      <td>NaN</td>\n      <td>NaN</td>\n    </tr>\n    <tr>\n      <th>1</th>\n      <td>2020-07-29</td>\n      <td>1152192358796555</td>\n      <td>160442010</td>\n      <td>0.013542</td>\n      <td>1.0</td>\n      <td>97</td>\n      <td>Summer</td>\n      <td>age_young</td>\n      <td>True</td>\n      <td>NaN</td>\n      <td>NaN</td>\n      <td>NaN</td>\n    </tr>\n    <tr>\n      <th>2</th>\n      <td>2020-08-11</td>\n      <td>1152192358796555</td>\n      <td>786304001</td>\n      <td>0.025407</td>\n      <td>1.0</td>\n      <td>98</td>\n      <td>Summer</td>\n      <td>age_young</td>\n      <td>True</td>\n      <td>NaN</td>\n      <td>NaN</td>\n      <td>NaN</td>\n    </tr>\n    <tr>\n      <th>3</th>\n      <td>2020-07-29</td>\n      <td>2059722054851309</td>\n      <td>862821001</td>\n      <td>0.016932</td>\n      <td>2.0</td>\n      <td>97</td>\n      <td>Summer</td>\n      <td>age_young</td>\n      <td>True</td>\n      <td>NaN</td>\n      <td>NaN</td>\n      <td>NaN</td>\n    </tr>\n    <tr>\n      <th>4</th>\n      <td>2020-07-29</td>\n      <td>2059722054851309</td>\n      <td>932365006</td>\n      <td>0.033881</td>\n      <td>2.0</td>\n      <td>97</td>\n      <td>Summer</td>\n      <td>age_young</td>\n      <td>True</td>\n      <td>NaN</td>\n      <td>NaN</td>\n      <td>NaN</td>\n    </tr>\n    <tr>\n      <th>...</th>\n      <td>...</td>\n      <td>...</td>\n      <td>...</td>\n      <td>...</td>\n      <td>...</td>\n      <td>...</td>\n      <td>...</td>\n      <td>...</td>\n      <td>...</td>\n      <td>...</td>\n      <td>...</td>\n      <td>...</td>\n    </tr>\n    <tr>\n      <th>4544251</th>\n      <td>NaT</td>\n      <td>18438270306572912089</td>\n      <td>915529003</td>\n      <td>NaN</td>\n      <td>NaN</td>\n      <td>105</td>\n      <td>NaN</td>\n      <td>age_young</td>\n      <td>NaN</td>\n      <td>495.0</td>\n      <td>0.550021</td>\n      <td>30.345148</td>\n    </tr>\n    <tr>\n      <th>4544252</th>\n      <td>NaT</td>\n      <td>18438270306572912089</td>\n      <td>915529005</td>\n      <td>NaN</td>\n      <td>NaN</td>\n      <td>105</td>\n      <td>NaN</td>\n      <td>age_young</td>\n      <td>NaN</td>\n      <td>491.0</td>\n      <td>0.561946</td>\n      <td>32.526820</td>\n    </tr>\n    <tr>\n      <th>4544253</th>\n      <td>NaT</td>\n      <td>18438270306572912089</td>\n      <td>918525001</td>\n      <td>NaN</td>\n      <td>NaN</td>\n      <td>105</td>\n      <td>NaN</td>\n      <td>age_young</td>\n      <td>NaN</td>\n      <td>342.0</td>\n      <td>0.561946</td>\n      <td>26.545140</td>\n    </tr>\n    <tr>\n      <th>4544254</th>\n      <td>NaT</td>\n      <td>18438270306572912089</td>\n      <td>924243001</td>\n      <td>NaN</td>\n      <td>NaN</td>\n      <td>105</td>\n      <td>NaN</td>\n      <td>age_young</td>\n      <td>NaN</td>\n      <td>852.0</td>\n      <td>0.561946</td>\n      <td>44.335117</td>\n    </tr>\n    <tr>\n      <th>4544255</th>\n      <td>NaT</td>\n      <td>18438270306572912089</td>\n      <td>924243002</td>\n      <td>NaN</td>\n      <td>NaN</td>\n      <td>105</td>\n      <td>NaN</td>\n      <td>age_young</td>\n      <td>NaN</td>\n      <td>635.0</td>\n      <td>0.550021</td>\n      <td>34.800398</td>\n    </tr>\n  </tbody>\n</table>\n<p>15072486 rows × 12 columns</p>\n</div>"
     },
     "execution_count": 57,
     "metadata": {},
     "output_type": "execute_result"
    }
   ],
   "source": [
    "candidates"
   ],
   "metadata": {
    "collapsed": false,
    "ExecuteTime": {
     "end_time": "2023-12-22T00:49:15.645871700Z",
     "start_time": "2023-12-22T00:49:15.631952500Z"
    }
   },
   "id": "5f45541acc130ac9"
  },
  {
   "cell_type": "code",
   "execution_count": 58,
   "outputs": [],
   "source": [
    "candidates.purchased.fillna(False, inplace=True)\n",
    "candidates.drop_duplicates(['customer_id', 'article_id', 'week'], inplace=True)\n",
    "\n",
    "candidates = pd.merge(\n",
    "    candidates,\n",
    "    sales_counts[['week', 'article_id', 'ranked_weighted_sales']],\n",
    "    on=['week', 'article_id'],\n",
    "    how='left'\n",
    ")\n",
    "candidates = candidates[candidates.week != candidates.week.min()]\n",
    "candidates[\"ranked_weighted_sales\"].fillna(999, inplace=True)\n",
    "\n",
    "candidates.sort_values(['week', 'customer_id'], inplace=True)\n",
    "candidates.reset_index(drop=True, inplace=True)\n",
    "\n",
    "train_examples = candidates[candidates.week != test_week]\n",
    "X_train = add_features(train_examples)\n",
    "Y_train = train_examples['purchased']\n",
    "\n",
    "ranker = LGBMRanker(\n",
    "    force_row_wise=True,\n",
    "    objective=\"lambdarank\",\n",
    "    metric=\"ndcg\",\n",
    "    boosting_type=\"dart\",\n",
    "    n_estimators=1,\n",
    "    importance_type='gain',\n",
    "    verbose=10\n",
    ")\n",
    "train_groups = train_examples.groupby(['week', 'customer_id'])['article_id'].count().values"
   ],
   "metadata": {
    "collapsed": false,
    "ExecuteTime": {
     "end_time": "2023-12-22T00:49:25.440235Z",
     "start_time": "2023-12-22T00:49:15.645871700Z"
    }
   },
   "id": "bde7db6924f615bf"
  },
  {
   "cell_type": "code",
   "execution_count": 59,
   "outputs": [
    {
     "data": {
      "text/plain": "         article_id  product_type_no  graphical_appearance_no  \\\n0         868879003              265                  1010001   \n1         547780003              272                  1010010   \n2         579541001              245                  1010016   \n3         579541075              245                  1010010   \n4         678942001              254                  1010016   \n...             ...              ...                      ...   \n8545737   911870003              252                  1010010   \n8545738   915529003              252                  1010016   \n8545739   918525001              252                  1010016   \n8545740   924243001              252                  1010016   \n8545741   929165002              245                  1010016   \n\n         colour_group_code  perceived_colour_value_id  \\\n0                       73                          2   \n1                        7                          1   \n2                        9                          4   \n3                        6                          1   \n4                        9                          4   \n...                    ...                        ...   \n8545737                 15                          2   \n8545738                  9                          4   \n8545739                 13                          1   \n8545740                 13                          1   \n8545741                 13                          1   \n\n         perceived_colour_master_id  department_no  index_code  \\\n0                                 2           1310           0   \n1                                12           1643           1   \n2                                 5           1616           0   \n3                                12           1616           0   \n4                                 5           1616           0   \n...                             ...            ...         ...   \n8545737                           1           1626           0   \n8545738                           5           1626           0   \n8545739                           1           1626           0   \n8545740                           1           1626           0   \n8545741                           1           1626           0   \n\n         index_group_no  section_no  garment_group_no  FN  Active  \\\n0                     1           6              1013  -1      -1   \n1                     2          51              1002  -1      -1   \n2                     1          11              1003  -1      -1   \n3                     1          11              1003  -1      -1   \n4                     1          11              1003  -1      -1   \n...                 ...         ...               ...  ..     ...   \n8545737               1          15              1003   1       1   \n8545738               1          15              1003   1       1   \n8545739               1          15              1003   1       1   \n8545740               1          15              1003   1       1   \n8545741               1          15              1003   1       1   \n\n         club_member_status  fashion_news_frequency  age  postal_code  \\\n0                         0                       0   75       198314   \n1                         0                       0   75       198314   \n2                         0                       0   75       198314   \n3                         0                       0   75       198314   \n4                         0                       0   75       198314   \n...                     ...                     ...  ...          ...   \n8545737                   0                       1   60        96323   \n8545738                   0                       1   60        96323   \n8545739                   0                       1   60        96323   \n8545740                   0                       1   60        96323   \n8545741                   0                       1   60        96323   \n\n         ranked_weighted_sales  price_sensitivity  \n0                        999.0           0.007418  \n1                          5.0           0.007418  \n2                          2.0           0.007418  \n3                          8.0           0.007418  \n4                         10.0           0.007418  \n...                        ...                ...  \n8545737                    5.0           0.011623  \n8545738                   11.0           0.011623  \n8545739                   10.0           0.011623  \n8545740                    2.0           0.011623  \n8545741                    8.0           0.011623  \n\n[8545742 rows x 19 columns]",
      "text/html": "<div>\n<style scoped>\n    .dataframe tbody tr th:only-of-type {\n        vertical-align: middle;\n    }\n\n    .dataframe tbody tr th {\n        vertical-align: top;\n    }\n\n    .dataframe thead th {\n        text-align: right;\n    }\n</style>\n<table border=\"1\" class=\"dataframe\">\n  <thead>\n    <tr style=\"text-align: right;\">\n      <th></th>\n      <th>article_id</th>\n      <th>product_type_no</th>\n      <th>graphical_appearance_no</th>\n      <th>colour_group_code</th>\n      <th>perceived_colour_value_id</th>\n      <th>perceived_colour_master_id</th>\n      <th>department_no</th>\n      <th>index_code</th>\n      <th>index_group_no</th>\n      <th>section_no</th>\n      <th>garment_group_no</th>\n      <th>FN</th>\n      <th>Active</th>\n      <th>club_member_status</th>\n      <th>fashion_news_frequency</th>\n      <th>age</th>\n      <th>postal_code</th>\n      <th>ranked_weighted_sales</th>\n      <th>price_sensitivity</th>\n    </tr>\n  </thead>\n  <tbody>\n    <tr>\n      <th>0</th>\n      <td>868879003</td>\n      <td>265</td>\n      <td>1010001</td>\n      <td>73</td>\n      <td>2</td>\n      <td>2</td>\n      <td>1310</td>\n      <td>0</td>\n      <td>1</td>\n      <td>6</td>\n      <td>1013</td>\n      <td>-1</td>\n      <td>-1</td>\n      <td>0</td>\n      <td>0</td>\n      <td>75</td>\n      <td>198314</td>\n      <td>999.0</td>\n      <td>0.007418</td>\n    </tr>\n    <tr>\n      <th>1</th>\n      <td>547780003</td>\n      <td>272</td>\n      <td>1010010</td>\n      <td>7</td>\n      <td>1</td>\n      <td>12</td>\n      <td>1643</td>\n      <td>1</td>\n      <td>2</td>\n      <td>51</td>\n      <td>1002</td>\n      <td>-1</td>\n      <td>-1</td>\n      <td>0</td>\n      <td>0</td>\n      <td>75</td>\n      <td>198314</td>\n      <td>5.0</td>\n      <td>0.007418</td>\n    </tr>\n    <tr>\n      <th>2</th>\n      <td>579541001</td>\n      <td>245</td>\n      <td>1010016</td>\n      <td>9</td>\n      <td>4</td>\n      <td>5</td>\n      <td>1616</td>\n      <td>0</td>\n      <td>1</td>\n      <td>11</td>\n      <td>1003</td>\n      <td>-1</td>\n      <td>-1</td>\n      <td>0</td>\n      <td>0</td>\n      <td>75</td>\n      <td>198314</td>\n      <td>2.0</td>\n      <td>0.007418</td>\n    </tr>\n    <tr>\n      <th>3</th>\n      <td>579541075</td>\n      <td>245</td>\n      <td>1010010</td>\n      <td>6</td>\n      <td>1</td>\n      <td>12</td>\n      <td>1616</td>\n      <td>0</td>\n      <td>1</td>\n      <td>11</td>\n      <td>1003</td>\n      <td>-1</td>\n      <td>-1</td>\n      <td>0</td>\n      <td>0</td>\n      <td>75</td>\n      <td>198314</td>\n      <td>8.0</td>\n      <td>0.007418</td>\n    </tr>\n    <tr>\n      <th>4</th>\n      <td>678942001</td>\n      <td>254</td>\n      <td>1010016</td>\n      <td>9</td>\n      <td>4</td>\n      <td>5</td>\n      <td>1616</td>\n      <td>0</td>\n      <td>1</td>\n      <td>11</td>\n      <td>1003</td>\n      <td>-1</td>\n      <td>-1</td>\n      <td>0</td>\n      <td>0</td>\n      <td>75</td>\n      <td>198314</td>\n      <td>10.0</td>\n      <td>0.007418</td>\n    </tr>\n    <tr>\n      <th>...</th>\n      <td>...</td>\n      <td>...</td>\n      <td>...</td>\n      <td>...</td>\n      <td>...</td>\n      <td>...</td>\n      <td>...</td>\n      <td>...</td>\n      <td>...</td>\n      <td>...</td>\n      <td>...</td>\n      <td>...</td>\n      <td>...</td>\n      <td>...</td>\n      <td>...</td>\n      <td>...</td>\n      <td>...</td>\n      <td>...</td>\n      <td>...</td>\n    </tr>\n    <tr>\n      <th>8545737</th>\n      <td>911870003</td>\n      <td>252</td>\n      <td>1010010</td>\n      <td>15</td>\n      <td>2</td>\n      <td>1</td>\n      <td>1626</td>\n      <td>0</td>\n      <td>1</td>\n      <td>15</td>\n      <td>1003</td>\n      <td>1</td>\n      <td>1</td>\n      <td>0</td>\n      <td>1</td>\n      <td>60</td>\n      <td>96323</td>\n      <td>5.0</td>\n      <td>0.011623</td>\n    </tr>\n    <tr>\n      <th>8545738</th>\n      <td>915529003</td>\n      <td>252</td>\n      <td>1010016</td>\n      <td>9</td>\n      <td>4</td>\n      <td>5</td>\n      <td>1626</td>\n      <td>0</td>\n      <td>1</td>\n      <td>15</td>\n      <td>1003</td>\n      <td>1</td>\n      <td>1</td>\n      <td>0</td>\n      <td>1</td>\n      <td>60</td>\n      <td>96323</td>\n      <td>11.0</td>\n      <td>0.011623</td>\n    </tr>\n    <tr>\n      <th>8545739</th>\n      <td>918525001</td>\n      <td>252</td>\n      <td>1010016</td>\n      <td>13</td>\n      <td>1</td>\n      <td>1</td>\n      <td>1626</td>\n      <td>0</td>\n      <td>1</td>\n      <td>15</td>\n      <td>1003</td>\n      <td>1</td>\n      <td>1</td>\n      <td>0</td>\n      <td>1</td>\n      <td>60</td>\n      <td>96323</td>\n      <td>10.0</td>\n      <td>0.011623</td>\n    </tr>\n    <tr>\n      <th>8545740</th>\n      <td>924243001</td>\n      <td>252</td>\n      <td>1010016</td>\n      <td>13</td>\n      <td>1</td>\n      <td>1</td>\n      <td>1626</td>\n      <td>0</td>\n      <td>1</td>\n      <td>15</td>\n      <td>1003</td>\n      <td>1</td>\n      <td>1</td>\n      <td>0</td>\n      <td>1</td>\n      <td>60</td>\n      <td>96323</td>\n      <td>2.0</td>\n      <td>0.011623</td>\n    </tr>\n    <tr>\n      <th>8545741</th>\n      <td>929165002</td>\n      <td>245</td>\n      <td>1010016</td>\n      <td>13</td>\n      <td>1</td>\n      <td>1</td>\n      <td>1626</td>\n      <td>0</td>\n      <td>1</td>\n      <td>15</td>\n      <td>1003</td>\n      <td>1</td>\n      <td>1</td>\n      <td>0</td>\n      <td>1</td>\n      <td>60</td>\n      <td>96323</td>\n      <td>8.0</td>\n      <td>0.011623</td>\n    </tr>\n  </tbody>\n</table>\n<p>8545742 rows × 19 columns</p>\n</div>"
     },
     "execution_count": 59,
     "metadata": {},
     "output_type": "execute_result"
    }
   ],
   "source": [
    "X_train"
   ],
   "metadata": {
    "collapsed": false,
    "ExecuteTime": {
     "end_time": "2023-12-22T00:49:25.455536500Z",
     "start_time": "2023-12-22T00:49:25.440235Z"
    }
   },
   "id": "2c8deec04da7b95e"
  },
  {
   "cell_type": "code",
   "execution_count": 60,
   "outputs": [
    {
     "name": "stdout",
     "output_type": "stream",
     "text": [
      "[LightGBM] [Debug] Dataset::GetMultiBinFromAllFeatures: sparse rate 0.163784\n",
      "[LightGBM] [Info] Total Bins 1401\n",
      "[LightGBM] [Info] Number of data points in the train set: 8545742, number of used features: 19\n",
      "[LightGBM] [Debug] Trained a tree with leaves = 31 and depth = 12\n",
      "         ranked_weighted_sales 0.99845\n",
      "             price_sensitivity 0.00073\n",
      "                    article_id 0.00016\n",
      "               product_type_no 0.00015\n",
      "                 department_no 0.00015\n",
      "                           age 0.00011\n",
      "       graphical_appearance_no 0.00006\n",
      "              garment_group_no 0.00005\n",
      "                    section_no 0.00004\n",
      "     perceived_colour_value_id 0.00004\n",
      "             colour_group_code 0.00003\n",
      "                    index_code 0.00002\n",
      "        fashion_news_frequency 0.00000\n",
      "            club_member_status 0.00000\n",
      "                        Active 0.00000\n",
      "                            FN 0.00000\n",
      "                   postal_code 0.00000\n",
      "                index_group_no 0.00000\n",
      "    perceived_colour_master_id 0.00000\n"
     ]
    }
   ],
   "source": [
    "ranker.fit(X_train, Y_train, group=train_groups)\n",
    "print_importance(ranker, X_train.columns)\n",
    "\n",
    "### test\n",
    "# candidates are generated similarly to the examples, only we don't know whether they are purchased\n",
    "# the same features are extracted and added\n",
    "# each candidate is scored by the ranker and predictions are generated using the highest scoring candidates\n",
    "test_candidates = candidates[candidates.week == test_week]\n",
    "\n",
    "X_test = add_features(test_candidates)\n",
    "predictions = get_predictions(test_candidates, X_test, ranker, 12)"
   ],
   "metadata": {
    "collapsed": false,
    "ExecuteTime": {
     "end_time": "2023-12-22T00:49:34.802284600Z",
     "start_time": "2023-12-22T00:49:25.455536500Z"
    }
   },
   "id": "50c5da24ba3d7d3c"
  },
  {
   "cell_type": "code",
   "execution_count": 61,
   "outputs": [
    {
     "data": {
      "text/plain": "378688"
     },
     "execution_count": 61,
     "metadata": {},
     "output_type": "execute_result"
    }
   ],
   "source": [
    "len(predictions)"
   ],
   "metadata": {
    "collapsed": false,
    "ExecuteTime": {
     "end_time": "2023-12-22T00:49:34.817413600Z",
     "start_time": "2023-12-22T00:49:34.803285Z"
    }
   },
   "id": "e7572f34a3d20a6b"
  },
  {
   "cell_type": "code",
   "execution_count": 62,
   "outputs": [],
   "source": [
    "### evaluate\n",
    "if test_week < transactions_train.week.max() + 1:\n",
    "    # get ground truth data for test week\n",
    "    purchases = get_purchases(transactions_train[transactions_train.week == test_week])\n",
    "\n",
    "    # fill missing prediction for customers in test set with popular items in last week\n",
    "    # only for customers in test set because only those are evaluated\n",
    "    popular = transactions_train[transactions_train.week == test_week-1].article_id.value_counts().head(12).index.values\n",
    "    predictions = fill_missing_predictions(predictions, purchases.customer_id, popular)\n",
    "\n",
    "    # calculate score\n",
    "    score = mean_average_precision(predictions, purchases, 12)\n",
    "    print(score)\n",
    "    score2 = recall(predictions, purchases, 12)\n",
    "    print(score2)\n",
    "\n",
    "### submit\n",
    "else:\n",
    "    # fill missing predictions for all customers with popular items in last week\n",
    "    # all customers because we don't know which ones will be evaluated\n",
    "    popular = transactions_train[transactions_train.week == test_week-1].article_id.value_counts().head(12).index.values\n",
    "    predictions = fill_missing_predictions(predictions, customers.customer_id, popular)\n",
    "\n",
    "    # write submission\n",
    "    sub = create_submission(predictions, sample_submission)\n",
    "    sub.to_csv(path + 'sub1.csv.gz', index=False)"
   ],
   "metadata": {
    "collapsed": false,
    "ExecuteTime": {
     "end_time": "2023-12-22T00:49:50.009878300Z",
     "start_time": "2023-12-22T00:49:34.817413600Z"
    }
   },
   "id": "a016c6adacab3ea1"
  },
  {
   "cell_type": "code",
   "execution_count": 63,
   "outputs": [
    {
     "data": {
      "text/plain": "        week  article_id    segment  count  season_score  weighted_sales  \\\n6223      98   547780003  age_young    282      0.470601       14.226248   \n9607      98   579541001  age_young    160      0.557260       16.914838   \n9633      98   579541075  age_young     71      0.608558       13.384399   \n17955     98   678942001  age_young    140      0.511805       12.542941   \n18017     98   678942057  age_young     94      0.549270       12.127715   \n...      ...         ...        ...    ...           ...             ...   \n128355   105   915529003  age_young    495      0.550021       30.345148   \n147747   105   915529005  age_young    491      0.561946       32.526820   \n151384   105   918525001  age_young    342      0.561946       26.545140   \n147958   105   924243001  age_young    852      0.561946       44.335117   \n151482   105   924243002  age_young    635      0.550021       34.800398   \n\n        ranked_weighted_sales  \n6223                        5  \n9607                        2  \n9633                        8  \n17955                      10  \n18017                      11  \n...                       ...  \n128355                      6  \n147747                      5  \n151384                     10  \n147958                      1  \n151482                      2  \n\n[96 rows x 7 columns]",
      "text/html": "<div>\n<style scoped>\n    .dataframe tbody tr th:only-of-type {\n        vertical-align: middle;\n    }\n\n    .dataframe tbody tr th {\n        vertical-align: top;\n    }\n\n    .dataframe thead th {\n        text-align: right;\n    }\n</style>\n<table border=\"1\" class=\"dataframe\">\n  <thead>\n    <tr style=\"text-align: right;\">\n      <th></th>\n      <th>week</th>\n      <th>article_id</th>\n      <th>segment</th>\n      <th>count</th>\n      <th>season_score</th>\n      <th>weighted_sales</th>\n      <th>ranked_weighted_sales</th>\n    </tr>\n  </thead>\n  <tbody>\n    <tr>\n      <th>6223</th>\n      <td>98</td>\n      <td>547780003</td>\n      <td>age_young</td>\n      <td>282</td>\n      <td>0.470601</td>\n      <td>14.226248</td>\n      <td>5</td>\n    </tr>\n    <tr>\n      <th>9607</th>\n      <td>98</td>\n      <td>579541001</td>\n      <td>age_young</td>\n      <td>160</td>\n      <td>0.557260</td>\n      <td>16.914838</td>\n      <td>2</td>\n    </tr>\n    <tr>\n      <th>9633</th>\n      <td>98</td>\n      <td>579541075</td>\n      <td>age_young</td>\n      <td>71</td>\n      <td>0.608558</td>\n      <td>13.384399</td>\n      <td>8</td>\n    </tr>\n    <tr>\n      <th>17955</th>\n      <td>98</td>\n      <td>678942001</td>\n      <td>age_young</td>\n      <td>140</td>\n      <td>0.511805</td>\n      <td>12.542941</td>\n      <td>10</td>\n    </tr>\n    <tr>\n      <th>18017</th>\n      <td>98</td>\n      <td>678942057</td>\n      <td>age_young</td>\n      <td>94</td>\n      <td>0.549270</td>\n      <td>12.127715</td>\n      <td>11</td>\n    </tr>\n    <tr>\n      <th>...</th>\n      <td>...</td>\n      <td>...</td>\n      <td>...</td>\n      <td>...</td>\n      <td>...</td>\n      <td>...</td>\n      <td>...</td>\n    </tr>\n    <tr>\n      <th>128355</th>\n      <td>105</td>\n      <td>915529003</td>\n      <td>age_young</td>\n      <td>495</td>\n      <td>0.550021</td>\n      <td>30.345148</td>\n      <td>6</td>\n    </tr>\n    <tr>\n      <th>147747</th>\n      <td>105</td>\n      <td>915529005</td>\n      <td>age_young</td>\n      <td>491</td>\n      <td>0.561946</td>\n      <td>32.526820</td>\n      <td>5</td>\n    </tr>\n    <tr>\n      <th>151384</th>\n      <td>105</td>\n      <td>918525001</td>\n      <td>age_young</td>\n      <td>342</td>\n      <td>0.561946</td>\n      <td>26.545140</td>\n      <td>10</td>\n    </tr>\n    <tr>\n      <th>147958</th>\n      <td>105</td>\n      <td>924243001</td>\n      <td>age_young</td>\n      <td>852</td>\n      <td>0.561946</td>\n      <td>44.335117</td>\n      <td>1</td>\n    </tr>\n    <tr>\n      <th>151482</th>\n      <td>105</td>\n      <td>924243002</td>\n      <td>age_young</td>\n      <td>635</td>\n      <td>0.550021</td>\n      <td>34.800398</td>\n      <td>2</td>\n    </tr>\n  </tbody>\n</table>\n<p>96 rows × 7 columns</p>\n</div>"
     },
     "execution_count": 63,
     "metadata": {},
     "output_type": "execute_result"
    }
   ],
   "source": [
    "sales_counts"
   ],
   "metadata": {
    "collapsed": false,
    "ExecuteTime": {
     "end_time": "2023-12-22T00:49:50.025065100Z",
     "start_time": "2023-12-22T00:49:50.009878300Z"
    }
   },
   "id": "47cd3097cf1a3f8b"
  },
  {
   "cell_type": "code",
   "execution_count": 64,
   "outputs": [
    {
     "data": {
      "text/plain": "       customer_id                                         prediction\n0   28847241659200  [925246001, 915529005, 924243001, 915529003, 9...\n1   41318098387474  [868879003, 915529005, 924243001, 915529003, 9...\n2  116809474287335  [906305002, 915529005, 924243001, 915529003, 9...\n3  200292573348128  [903861001, 915529005, 924243001, 915529003, 9...\n4  272412481300040  [923460002, 922381001, 921906005, 915529005, 9...",
      "text/html": "<div>\n<style scoped>\n    .dataframe tbody tr th:only-of-type {\n        vertical-align: middle;\n    }\n\n    .dataframe tbody tr th {\n        vertical-align: top;\n    }\n\n    .dataframe thead th {\n        text-align: right;\n    }\n</style>\n<table border=\"1\" class=\"dataframe\">\n  <thead>\n    <tr style=\"text-align: right;\">\n      <th></th>\n      <th>customer_id</th>\n      <th>prediction</th>\n    </tr>\n  </thead>\n  <tbody>\n    <tr>\n      <th>0</th>\n      <td>28847241659200</td>\n      <td>[925246001, 915529005, 924243001, 915529003, 9...</td>\n    </tr>\n    <tr>\n      <th>1</th>\n      <td>41318098387474</td>\n      <td>[868879003, 915529005, 924243001, 915529003, 9...</td>\n    </tr>\n    <tr>\n      <th>2</th>\n      <td>116809474287335</td>\n      <td>[906305002, 915529005, 924243001, 915529003, 9...</td>\n    </tr>\n    <tr>\n      <th>3</th>\n      <td>200292573348128</td>\n      <td>[903861001, 915529005, 924243001, 915529003, 9...</td>\n    </tr>\n    <tr>\n      <th>4</th>\n      <td>272412481300040</td>\n      <td>[923460002, 922381001, 921906005, 915529005, 9...</td>\n    </tr>\n  </tbody>\n</table>\n</div>"
     },
     "execution_count": 64,
     "metadata": {},
     "output_type": "execute_result"
    }
   ],
   "source": [
    "predictions.head()"
   ],
   "metadata": {
    "collapsed": false,
    "ExecuteTime": {
     "end_time": "2023-12-22T00:49:50.047624500Z",
     "start_time": "2023-12-22T00:49:50.025065100Z"
    }
   },
   "id": "765f75a7d03e1b6"
  },
  {
   "cell_type": "code",
   "execution_count": 65,
   "outputs": [
    {
     "data": {
      "text/plain": "0.2994352959011578"
     },
     "execution_count": 65,
     "metadata": {},
     "output_type": "execute_result"
    }
   ],
   "source": [
    "def catalog_coverage(predictions):\n",
    "    all_articles = set(articles[\"article_id\"].unique())\n",
    "    all_recommended = set()\n",
    "    for index, row in predictions.iterrows():\n",
    "        all_recommended.update(row[\"prediction\"])\n",
    "    return len(all_recommended) / len(all_articles)\n",
    "\n",
    "catalog_coverage(predictions)"
   ],
   "metadata": {
    "collapsed": false,
    "ExecuteTime": {
     "end_time": "2023-12-22T00:50:09.127997500Z",
     "start_time": "2023-12-22T00:49:50.041067200Z"
    }
   },
   "id": "bafeb99df7430f29"
  },
  {
   "cell_type": "code",
   "execution_count": 66,
   "outputs": [
    {
     "name": "stdout",
     "output_type": "stream",
     "text": [
      "0.7596227553660658\n"
     ]
    }
   ],
   "source": [
    "def jaccard_similarity(pred1, pred2):\n",
    "    intersection = len(pred1.intersection(pred2))\n",
    "    union = len(pred1.union(pred2))\n",
    "    return intersection / union if union > 0 else 0\n",
    "\n",
    "sample_predictions = predictions.sample(n=1000)\n",
    "\n",
    "\n",
    "def diversity(predictions):\n",
    "    # Calculate Diversity@K\n",
    "    diversities = []\n",
    "    for i, row1 in predictions.iterrows():\n",
    "        set1 = set(row1['prediction'])\n",
    "        diversity_sum = 0\n",
    "        num_customers = 0\n",
    "        for j, row2 in predictions.iterrows():\n",
    "            if i < j:  # Avoid comparing a customer with themselves\n",
    "                set2 = set(row2['prediction'])\n",
    "                diversity_sum += jaccard_similarity(set1, set2)\n",
    "                num_customers += 1\n",
    "        average_diversity = diversity_sum / num_customers if num_customers > 0 else 0\n",
    "        diversities.append(average_diversity)\n",
    "    return sum(diversities) / len(predictions)\n",
    "\n",
    "\n",
    "print(diversity(sample_predictions))"
   ],
   "metadata": {
    "collapsed": false,
    "ExecuteTime": {
     "end_time": "2023-12-22T00:50:22.484827300Z",
     "start_time": "2023-12-22T00:50:09.127997500Z"
    }
   },
   "id": "a24931428ccb2cfe"
  }
 ],
 "metadata": {
  "kernelspec": {
   "display_name": "Python 3",
   "language": "python",
   "name": "python3"
  },
  "language_info": {
   "codemirror_mode": {
    "name": "ipython",
    "version": 2
   },
   "file_extension": ".py",
   "mimetype": "text/x-python",
   "name": "python",
   "nbconvert_exporter": "python",
   "pygments_lexer": "ipython2",
   "version": "2.7.6"
  }
 },
 "nbformat": 4,
 "nbformat_minor": 5
}
