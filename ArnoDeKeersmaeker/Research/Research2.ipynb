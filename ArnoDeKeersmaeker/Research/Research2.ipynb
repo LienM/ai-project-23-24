{
 "cells": [
  {
   "cell_type": "code",
   "execution_count": 110,
   "id": "initial_id",
   "metadata": {
    "collapsed": true,
    "ExecuteTime": {
     "end_time": "2023-11-29T23:13:35.249956800Z",
     "start_time": "2023-11-29T23:13:34.927692700Z"
    }
   },
   "outputs": [],
   "source": [
    "import pandas as pd\n",
    "import seaborn as sns\n",
    "import matplotlib.pyplot as plt\n",
    "import numpy as np\n",
    "from sklearn.preprocessing import MinMaxScaler\n",
    "from lightgbm.sklearn import LGBMRanker\n",
    "from experiment_template import *\n",
    "import os as os"
   ]
  },
  {
   "cell_type": "code",
   "execution_count": 111,
   "outputs": [
    {
     "name": "stdout",
     "output_type": "stream",
     "text": [
      "C:\\Users\\Arno\\Documents\\GitHub\\ai-project-23-24\\ArnoDeKeersmaeker\\Research\n"
     ]
    }
   ],
   "source": [
    "path = \"../Data/\"\n",
    "print(os.getcwd())\n",
    "transactions_train = pd.read_parquet(path + 'transactions_train.parquet')\n",
    "customers = pd.read_parquet(path + 'customers.parquet')\n",
    "articles = pd.read_parquet(path + 'articles.parquet')\n",
    "sample_submission = pd.read_csv(path + 'sample_submission.csv')"
   ],
   "metadata": {
    "collapsed": false,
    "ExecuteTime": {
     "end_time": "2023-11-29T23:13:37.272287100Z",
     "start_time": "2023-11-29T23:13:34.940117200Z"
    }
   },
   "id": "7cdfc3d97fe55e09"
  },
  {
   "cell_type": "code",
   "execution_count": 112,
   "outputs": [
    {
     "data": {
      "text/plain": "           t_dat       customer_id  article_id     price  sales_channel_id  \\\n25784 2018-09-20  1728846800780188   519773001  0.028458                 2   \n25785 2018-09-20  1728846800780188   578472001  0.032525                 2   \n5389  2018-09-20  2076973761519164   661795002  0.167797                 2   \n5390  2018-09-20  2076973761519164   684080003  0.101678                 2   \n47429 2018-09-20  2918879973994241   662980001  0.033881                 1   \n\n       week  \n25784     0  \n25785     0  \n5389      0  \n5390      0  \n47429     0  ",
      "text/html": "<div>\n<style scoped>\n    .dataframe tbody tr th:only-of-type {\n        vertical-align: middle;\n    }\n\n    .dataframe tbody tr th {\n        vertical-align: top;\n    }\n\n    .dataframe thead th {\n        text-align: right;\n    }\n</style>\n<table border=\"1\" class=\"dataframe\">\n  <thead>\n    <tr style=\"text-align: right;\">\n      <th></th>\n      <th>t_dat</th>\n      <th>customer_id</th>\n      <th>article_id</th>\n      <th>price</th>\n      <th>sales_channel_id</th>\n      <th>week</th>\n    </tr>\n  </thead>\n  <tbody>\n    <tr>\n      <th>25784</th>\n      <td>2018-09-20</td>\n      <td>1728846800780188</td>\n      <td>519773001</td>\n      <td>0.028458</td>\n      <td>2</td>\n      <td>0</td>\n    </tr>\n    <tr>\n      <th>25785</th>\n      <td>2018-09-20</td>\n      <td>1728846800780188</td>\n      <td>578472001</td>\n      <td>0.032525</td>\n      <td>2</td>\n      <td>0</td>\n    </tr>\n    <tr>\n      <th>5389</th>\n      <td>2018-09-20</td>\n      <td>2076973761519164</td>\n      <td>661795002</td>\n      <td>0.167797</td>\n      <td>2</td>\n      <td>0</td>\n    </tr>\n    <tr>\n      <th>5390</th>\n      <td>2018-09-20</td>\n      <td>2076973761519164</td>\n      <td>684080003</td>\n      <td>0.101678</td>\n      <td>2</td>\n      <td>0</td>\n    </tr>\n    <tr>\n      <th>47429</th>\n      <td>2018-09-20</td>\n      <td>2918879973994241</td>\n      <td>662980001</td>\n      <td>0.033881</td>\n      <td>1</td>\n      <td>0</td>\n    </tr>\n  </tbody>\n</table>\n</div>"
     },
     "execution_count": 112,
     "metadata": {},
     "output_type": "execute_result"
    }
   ],
   "source": [
    "transactions_train.head()"
   ],
   "metadata": {
    "collapsed": false,
    "ExecuteTime": {
     "end_time": "2023-11-29T23:13:37.297402900Z",
     "start_time": "2023-11-29T23:13:37.272287100Z"
    }
   },
   "id": "5ec05ab31f8b36b3"
  },
  {
   "cell_type": "code",
   "execution_count": 113,
   "outputs": [],
   "source": [
    "# Define periods here\n",
    "seasons = {\n",
    "    \"Summer\": [6,7,8],\n",
    "    \"Autumn\": [9,10,11],\n",
    "    \"Winter\": [12,1,2],\n",
    "    \"Spring\": [3,4,5]\n",
    "}\n",
    "# Define the name of the current period (end of September)\n",
    "current_season = \"Autumn\"\n",
    "\n",
    "assert current_season in seasons.keys() # Current period exists\n",
    "assert set(month_nr for month_nrs in seasons.values() for month_nr in month_nrs) == set(range(1,13)) # All months are in a period\n",
    "inverted = {month_nr: period for period, month_nrs in seasons.items() for month_nr in month_nrs} # For more efficient lookup\n",
    "\n",
    "def get_season(month_nr):\n",
    "    assert month_nr in range(1,13)\n",
    "    return inverted[month_nr]\n",
    "\n",
    "transactions_train[\"t_dat\"] = pd.to_datetime(transactions_train[\"t_dat\"])\n",
    "transactions_train[\"season\"] = transactions_train[\"t_dat\"].dt.month.apply(get_season)"
   ],
   "metadata": {
    "collapsed": false,
    "ExecuteTime": {
     "end_time": "2023-11-29T23:13:42.745539200Z",
     "start_time": "2023-11-29T23:13:37.288510800Z"
    }
   },
   "id": "61c8333e12d7c0"
  },
  {
   "cell_type": "code",
   "execution_count": 114,
   "outputs": [
    {
     "data": {
      "text/plain": "           t_dat       customer_id  article_id     price  sales_channel_id  \\\n25784 2018-09-20  1728846800780188   519773001  0.028458                 2   \n25785 2018-09-20  1728846800780188   578472001  0.032525                 2   \n5389  2018-09-20  2076973761519164   661795002  0.167797                 2   \n5390  2018-09-20  2076973761519164   684080003  0.101678                 2   \n47429 2018-09-20  2918879973994241   662980001  0.033881                 1   \n\n       week  season  \n25784     0  Autumn  \n25785     0  Autumn  \n5389      0  Autumn  \n5390      0  Autumn  \n47429     0  Autumn  ",
      "text/html": "<div>\n<style scoped>\n    .dataframe tbody tr th:only-of-type {\n        vertical-align: middle;\n    }\n\n    .dataframe tbody tr th {\n        vertical-align: top;\n    }\n\n    .dataframe thead th {\n        text-align: right;\n    }\n</style>\n<table border=\"1\" class=\"dataframe\">\n  <thead>\n    <tr style=\"text-align: right;\">\n      <th></th>\n      <th>t_dat</th>\n      <th>customer_id</th>\n      <th>article_id</th>\n      <th>price</th>\n      <th>sales_channel_id</th>\n      <th>week</th>\n      <th>season</th>\n    </tr>\n  </thead>\n  <tbody>\n    <tr>\n      <th>25784</th>\n      <td>2018-09-20</td>\n      <td>1728846800780188</td>\n      <td>519773001</td>\n      <td>0.028458</td>\n      <td>2</td>\n      <td>0</td>\n      <td>Autumn</td>\n    </tr>\n    <tr>\n      <th>25785</th>\n      <td>2018-09-20</td>\n      <td>1728846800780188</td>\n      <td>578472001</td>\n      <td>0.032525</td>\n      <td>2</td>\n      <td>0</td>\n      <td>Autumn</td>\n    </tr>\n    <tr>\n      <th>5389</th>\n      <td>2018-09-20</td>\n      <td>2076973761519164</td>\n      <td>661795002</td>\n      <td>0.167797</td>\n      <td>2</td>\n      <td>0</td>\n      <td>Autumn</td>\n    </tr>\n    <tr>\n      <th>5390</th>\n      <td>2018-09-20</td>\n      <td>2076973761519164</td>\n      <td>684080003</td>\n      <td>0.101678</td>\n      <td>2</td>\n      <td>0</td>\n      <td>Autumn</td>\n    </tr>\n    <tr>\n      <th>47429</th>\n      <td>2018-09-20</td>\n      <td>2918879973994241</td>\n      <td>662980001</td>\n      <td>0.033881</td>\n      <td>1</td>\n      <td>0</td>\n      <td>Autumn</td>\n    </tr>\n  </tbody>\n</table>\n</div>"
     },
     "execution_count": 114,
     "metadata": {},
     "output_type": "execute_result"
    }
   ],
   "source": [
    "transactions_train.head()"
   ],
   "metadata": {
    "collapsed": false,
    "ExecuteTime": {
     "end_time": "2023-11-29T23:13:42.771066100Z",
     "start_time": "2023-11-29T23:13:42.746574900Z"
    }
   },
   "id": "70704c92f8580d8f"
  },
  {
   "cell_type": "code",
   "execution_count": 115,
   "outputs": [
    {
     "data": {
      "text/plain": "         season           customer_id  count\n0        Autumn        25398598941468      1\n1        Autumn        28847241659200     26\n2        Autumn        41318098387474      6\n3        Autumn        43757848922470     10\n4        Autumn        77117344919861     71\n...         ...                   ...    ...\n3078769  Winter  18446624797007271432      8\n3078770  Winter  18446627193867800506      5\n3078771  Winter  18446630855572834764      4\n3078772  Winter  18446662237889060501      2\n3078773  Winter  18446737527580148316     18\n\n[3078774 rows x 3 columns]",
      "text/html": "<div>\n<style scoped>\n    .dataframe tbody tr th:only-of-type {\n        vertical-align: middle;\n    }\n\n    .dataframe tbody tr th {\n        vertical-align: top;\n    }\n\n    .dataframe thead th {\n        text-align: right;\n    }\n</style>\n<table border=\"1\" class=\"dataframe\">\n  <thead>\n    <tr style=\"text-align: right;\">\n      <th></th>\n      <th>season</th>\n      <th>customer_id</th>\n      <th>count</th>\n    </tr>\n  </thead>\n  <tbody>\n    <tr>\n      <th>0</th>\n      <td>Autumn</td>\n      <td>25398598941468</td>\n      <td>1</td>\n    </tr>\n    <tr>\n      <th>1</th>\n      <td>Autumn</td>\n      <td>28847241659200</td>\n      <td>26</td>\n    </tr>\n    <tr>\n      <th>2</th>\n      <td>Autumn</td>\n      <td>41318098387474</td>\n      <td>6</td>\n    </tr>\n    <tr>\n      <th>3</th>\n      <td>Autumn</td>\n      <td>43757848922470</td>\n      <td>10</td>\n    </tr>\n    <tr>\n      <th>4</th>\n      <td>Autumn</td>\n      <td>77117344919861</td>\n      <td>71</td>\n    </tr>\n    <tr>\n      <th>...</th>\n      <td>...</td>\n      <td>...</td>\n      <td>...</td>\n    </tr>\n    <tr>\n      <th>3078769</th>\n      <td>Winter</td>\n      <td>18446624797007271432</td>\n      <td>8</td>\n    </tr>\n    <tr>\n      <th>3078770</th>\n      <td>Winter</td>\n      <td>18446627193867800506</td>\n      <td>5</td>\n    </tr>\n    <tr>\n      <th>3078771</th>\n      <td>Winter</td>\n      <td>18446630855572834764</td>\n      <td>4</td>\n    </tr>\n    <tr>\n      <th>3078772</th>\n      <td>Winter</td>\n      <td>18446662237889060501</td>\n      <td>2</td>\n    </tr>\n    <tr>\n      <th>3078773</th>\n      <td>Winter</td>\n      <td>18446737527580148316</td>\n      <td>18</td>\n    </tr>\n  </tbody>\n</table>\n<p>3078774 rows × 3 columns</p>\n</div>"
     },
     "execution_count": 115,
     "metadata": {},
     "output_type": "execute_result"
    }
   ],
   "source": [
    "temp1 = transactions_train.groupby([\"season\", \"customer_id\"]).size().reset_index(name=\"count\")\n",
    "temp1"
   ],
   "metadata": {
    "collapsed": false,
    "ExecuteTime": {
     "end_time": "2023-11-29T23:13:45.648012100Z",
     "start_time": "2023-11-29T23:13:42.762105700Z"
    }
   },
   "id": "58bb28fe02c7add6"
  },
  {
   "cell_type": "code",
   "execution_count": 116,
   "outputs": [
    {
     "data": {
      "text/plain": "                  customer_id  FN  Active  club_member_status  \\\n0         6883939031699146327  -1      -1                   0   \n1        11246327431398957306  -1      -1                   0   \n2        18439897732908966680  -1      -1                   0   \n3        18352672461570950206  -1      -1                   0   \n4        18162778555210377306   1       1                   0   \n...                       ...  ..     ...                 ...   \n1371975   7551062398649767985  -1      -1                   0   \n1371976   9305341941720086711  -1      -1                   0   \n1371977  10160427316885688932   1       1                   0   \n1371978   2551401172826382186   1       1                   0   \n1371979  16929951892735599169  -1      -1                   1   \n\n         fashion_news_frequency  age  postal_code  \n0                             0   49         6305  \n1                             0   25        33726  \n2                             0   24         3247  \n3                             0   54       168643  \n4                             1   52       168645  \n...                         ...  ...          ...  \n1371975                       0   24        50351  \n1371976                       0   21        80169  \n1371977                       1   21       106737  \n1371978                       1   18       111894  \n1371979                       0   65       352898  \n\n[1371980 rows x 7 columns]",
      "text/html": "<div>\n<style scoped>\n    .dataframe tbody tr th:only-of-type {\n        vertical-align: middle;\n    }\n\n    .dataframe tbody tr th {\n        vertical-align: top;\n    }\n\n    .dataframe thead th {\n        text-align: right;\n    }\n</style>\n<table border=\"1\" class=\"dataframe\">\n  <thead>\n    <tr style=\"text-align: right;\">\n      <th></th>\n      <th>customer_id</th>\n      <th>FN</th>\n      <th>Active</th>\n      <th>club_member_status</th>\n      <th>fashion_news_frequency</th>\n      <th>age</th>\n      <th>postal_code</th>\n    </tr>\n  </thead>\n  <tbody>\n    <tr>\n      <th>0</th>\n      <td>6883939031699146327</td>\n      <td>-1</td>\n      <td>-1</td>\n      <td>0</td>\n      <td>0</td>\n      <td>49</td>\n      <td>6305</td>\n    </tr>\n    <tr>\n      <th>1</th>\n      <td>11246327431398957306</td>\n      <td>-1</td>\n      <td>-1</td>\n      <td>0</td>\n      <td>0</td>\n      <td>25</td>\n      <td>33726</td>\n    </tr>\n    <tr>\n      <th>2</th>\n      <td>18439897732908966680</td>\n      <td>-1</td>\n      <td>-1</td>\n      <td>0</td>\n      <td>0</td>\n      <td>24</td>\n      <td>3247</td>\n    </tr>\n    <tr>\n      <th>3</th>\n      <td>18352672461570950206</td>\n      <td>-1</td>\n      <td>-1</td>\n      <td>0</td>\n      <td>0</td>\n      <td>54</td>\n      <td>168643</td>\n    </tr>\n    <tr>\n      <th>4</th>\n      <td>18162778555210377306</td>\n      <td>1</td>\n      <td>1</td>\n      <td>0</td>\n      <td>1</td>\n      <td>52</td>\n      <td>168645</td>\n    </tr>\n    <tr>\n      <th>...</th>\n      <td>...</td>\n      <td>...</td>\n      <td>...</td>\n      <td>...</td>\n      <td>...</td>\n      <td>...</td>\n      <td>...</td>\n    </tr>\n    <tr>\n      <th>1371975</th>\n      <td>7551062398649767985</td>\n      <td>-1</td>\n      <td>-1</td>\n      <td>0</td>\n      <td>0</td>\n      <td>24</td>\n      <td>50351</td>\n    </tr>\n    <tr>\n      <th>1371976</th>\n      <td>9305341941720086711</td>\n      <td>-1</td>\n      <td>-1</td>\n      <td>0</td>\n      <td>0</td>\n      <td>21</td>\n      <td>80169</td>\n    </tr>\n    <tr>\n      <th>1371977</th>\n      <td>10160427316885688932</td>\n      <td>1</td>\n      <td>1</td>\n      <td>0</td>\n      <td>1</td>\n      <td>21</td>\n      <td>106737</td>\n    </tr>\n    <tr>\n      <th>1371978</th>\n      <td>2551401172826382186</td>\n      <td>1</td>\n      <td>1</td>\n      <td>0</td>\n      <td>1</td>\n      <td>18</td>\n      <td>111894</td>\n    </tr>\n    <tr>\n      <th>1371979</th>\n      <td>16929951892735599169</td>\n      <td>-1</td>\n      <td>-1</td>\n      <td>1</td>\n      <td>0</td>\n      <td>65</td>\n      <td>352898</td>\n    </tr>\n  </tbody>\n</table>\n<p>1371980 rows × 7 columns</p>\n</div>"
     },
     "execution_count": 116,
     "metadata": {},
     "output_type": "execute_result"
    }
   ],
   "source": [
    "# replace age -1 by average age\n",
    "average_age = int(customers[customers['age'] != -1]['age'].mean())\n",
    "customers['age'] = customers['age'].replace(-1, int(average_age))\n",
    "customers"
   ],
   "metadata": {
    "collapsed": false,
    "ExecuteTime": {
     "end_time": "2023-11-29T23:13:45.709965100Z",
     "start_time": "2023-11-29T23:13:45.648012100Z"
    }
   },
   "id": "8624fac23ec975c1"
  },
  {
   "cell_type": "code",
   "execution_count": 117,
   "outputs": [
    {
     "data": {
      "text/plain": "   FN   count\n0  -1  895050\n1   1  476930",
      "text/html": "<div>\n<style scoped>\n    .dataframe tbody tr th:only-of-type {\n        vertical-align: middle;\n    }\n\n    .dataframe tbody tr th {\n        vertical-align: top;\n    }\n\n    .dataframe thead th {\n        text-align: right;\n    }\n</style>\n<table border=\"1\" class=\"dataframe\">\n  <thead>\n    <tr style=\"text-align: right;\">\n      <th></th>\n      <th>FN</th>\n      <th>count</th>\n    </tr>\n  </thead>\n  <tbody>\n    <tr>\n      <th>0</th>\n      <td>-1</td>\n      <td>895050</td>\n    </tr>\n    <tr>\n      <th>1</th>\n      <td>1</td>\n      <td>476930</td>\n    </tr>\n  </tbody>\n</table>\n</div>"
     },
     "execution_count": 117,
     "metadata": {},
     "output_type": "execute_result"
    }
   ],
   "source": [
    "customers.groupby([\"FN\"]).size().reset_index(name=\"count\")"
   ],
   "metadata": {
    "collapsed": false,
    "ExecuteTime": {
     "end_time": "2023-11-29T23:13:45.734428Z",
     "start_time": "2023-11-29T23:13:45.692707Z"
    }
   },
   "id": "d38b1863f61f91c8"
  },
  {
   "cell_type": "code",
   "execution_count": 118,
   "outputs": [
    {
     "name": "stdout",
     "output_type": "stream",
     "text": [
      "['age_young']\n"
     ]
    },
    {
     "data": {
      "text/plain": "                  customer_id  FN  Active  club_member_status  \\\n0         6883939031699146327  -1      -1                   0   \n1        11246327431398957306  -1      -1                   0   \n2        18439897732908966680  -1      -1                   0   \n3        18352672461570950206  -1      -1                   0   \n4        18162778555210377306   1       1                   0   \n...                       ...  ..     ...                 ...   \n1371975   7551062398649767985  -1      -1                   0   \n1371976   9305341941720086711  -1      -1                   0   \n1371977  10160427316885688932   1       1                   0   \n1371978   2551401172826382186   1       1                   0   \n1371979  16929951892735599169  -1      -1                   1   \n\n         fashion_news_frequency  age  postal_code    segment  \n0                             0   49         6305  age_young  \n1                             0   25        33726  age_young  \n2                             0   24         3247  age_young  \n3                             0   54       168643  age_young  \n4                             1   52       168645  age_young  \n...                         ...  ...          ...        ...  \n1371975                       0   24        50351  age_young  \n1371976                       0   21        80169  age_young  \n1371977                       1   21       106737  age_young  \n1371978                       1   18       111894  age_young  \n1371979                       0   65       352898  age_young  \n\n[1371980 rows x 8 columns]",
      "text/html": "<div>\n<style scoped>\n    .dataframe tbody tr th:only-of-type {\n        vertical-align: middle;\n    }\n\n    .dataframe tbody tr th {\n        vertical-align: top;\n    }\n\n    .dataframe thead th {\n        text-align: right;\n    }\n</style>\n<table border=\"1\" class=\"dataframe\">\n  <thead>\n    <tr style=\"text-align: right;\">\n      <th></th>\n      <th>customer_id</th>\n      <th>FN</th>\n      <th>Active</th>\n      <th>club_member_status</th>\n      <th>fashion_news_frequency</th>\n      <th>age</th>\n      <th>postal_code</th>\n      <th>segment</th>\n    </tr>\n  </thead>\n  <tbody>\n    <tr>\n      <th>0</th>\n      <td>6883939031699146327</td>\n      <td>-1</td>\n      <td>-1</td>\n      <td>0</td>\n      <td>0</td>\n      <td>49</td>\n      <td>6305</td>\n      <td>age_young</td>\n    </tr>\n    <tr>\n      <th>1</th>\n      <td>11246327431398957306</td>\n      <td>-1</td>\n      <td>-1</td>\n      <td>0</td>\n      <td>0</td>\n      <td>25</td>\n      <td>33726</td>\n      <td>age_young</td>\n    </tr>\n    <tr>\n      <th>2</th>\n      <td>18439897732908966680</td>\n      <td>-1</td>\n      <td>-1</td>\n      <td>0</td>\n      <td>0</td>\n      <td>24</td>\n      <td>3247</td>\n      <td>age_young</td>\n    </tr>\n    <tr>\n      <th>3</th>\n      <td>18352672461570950206</td>\n      <td>-1</td>\n      <td>-1</td>\n      <td>0</td>\n      <td>0</td>\n      <td>54</td>\n      <td>168643</td>\n      <td>age_young</td>\n    </tr>\n    <tr>\n      <th>4</th>\n      <td>18162778555210377306</td>\n      <td>1</td>\n      <td>1</td>\n      <td>0</td>\n      <td>1</td>\n      <td>52</td>\n      <td>168645</td>\n      <td>age_young</td>\n    </tr>\n    <tr>\n      <th>...</th>\n      <td>...</td>\n      <td>...</td>\n      <td>...</td>\n      <td>...</td>\n      <td>...</td>\n      <td>...</td>\n      <td>...</td>\n      <td>...</td>\n    </tr>\n    <tr>\n      <th>1371975</th>\n      <td>7551062398649767985</td>\n      <td>-1</td>\n      <td>-1</td>\n      <td>0</td>\n      <td>0</td>\n      <td>24</td>\n      <td>50351</td>\n      <td>age_young</td>\n    </tr>\n    <tr>\n      <th>1371976</th>\n      <td>9305341941720086711</td>\n      <td>-1</td>\n      <td>-1</td>\n      <td>0</td>\n      <td>0</td>\n      <td>21</td>\n      <td>80169</td>\n      <td>age_young</td>\n    </tr>\n    <tr>\n      <th>1371977</th>\n      <td>10160427316885688932</td>\n      <td>1</td>\n      <td>1</td>\n      <td>0</td>\n      <td>1</td>\n      <td>21</td>\n      <td>106737</td>\n      <td>age_young</td>\n    </tr>\n    <tr>\n      <th>1371978</th>\n      <td>2551401172826382186</td>\n      <td>1</td>\n      <td>1</td>\n      <td>0</td>\n      <td>1</td>\n      <td>18</td>\n      <td>111894</td>\n      <td>age_young</td>\n    </tr>\n    <tr>\n      <th>1371979</th>\n      <td>16929951892735599169</td>\n      <td>-1</td>\n      <td>-1</td>\n      <td>1</td>\n      <td>0</td>\n      <td>65</td>\n      <td>352898</td>\n      <td>age_young</td>\n    </tr>\n  </tbody>\n</table>\n<p>1371980 rows × 8 columns</p>\n</div>"
     },
     "execution_count": 118,
     "metadata": {},
     "output_type": "execute_result"
    }
   ],
   "source": [
    "# Define customer segments. Defined columns need to exist for customer\n",
    "segments = {\n",
    "    # \"age\" : {float(age): \"young\" if age < 35 else \"middle\" for age in range(0,120)},\n",
    "    # \"FN\" : {1.0 : \"yes_FN\", -1.0: \"no_FN\"},\n",
    "    \"age\" : {float(age): \"age_young\" for age in range(0,120)}\n",
    "}\n",
    "\n",
    "for column in segments.keys():\n",
    "    assert column in customers.columns\n",
    "\n",
    "segmented_customers = customers.copy()\n",
    "segment_names = set()\n",
    "\n",
    "def assign_segment(row):\n",
    "    # Decide the segment for a single customer\n",
    "    segment_name = [segments[column][row[column]] for column in segments]\n",
    "    segment_name = \"/\".join(segment_name)\n",
    "    segment_names.add(segment_name)\n",
    "    return segment_name\n",
    "\n",
    "# Apply to every customer\n",
    "segmented_customers['segment'] = customers.apply(assign_segment, axis=1)\n",
    "segment_names = list(segment_names)\n",
    "\n",
    "print(segment_names)\n",
    "segmented_customers"
   ],
   "metadata": {
    "collapsed": false,
    "ExecuteTime": {
     "end_time": "2023-11-29T23:13:48.988440400Z",
     "start_time": "2023-11-29T23:13:45.724080600Z"
    }
   },
   "id": "be2b9c02522df743"
  },
  {
   "cell_type": "code",
   "execution_count": 119,
   "outputs": [],
   "source": [
    "# We only need id and segment in order to join with transactions\n",
    "segmented_customers = segmented_customers[['customer_id', 'segment']]"
   ],
   "metadata": {
    "collapsed": false,
    "ExecuteTime": {
     "end_time": "2023-11-29T23:13:49.018881Z",
     "start_time": "2023-11-29T23:13:48.988440400Z"
    }
   },
   "id": "c46dfff4a5c44688"
  },
  {
   "cell_type": "code",
   "execution_count": 120,
   "outputs": [
    {
     "data": {
      "text/plain": "<Axes: xlabel='segment'>"
     },
     "execution_count": 120,
     "metadata": {},
     "output_type": "execute_result"
    },
    {
     "data": {
      "text/plain": "<Figure size 640x480 with 1 Axes>",
      "image/png": "[encoded data removed]"
     },
     "metadata": {},
     "output_type": "display_data"
    }
   ],
   "source": [
    "# visualize segment sizes\n",
    "segmented_customers['segment'].value_counts().plot(kind='bar')"
   ],
   "metadata": {
    "collapsed": false,
    "ExecuteTime": {
     "end_time": "2023-11-29T23:13:49.118084500Z",
     "start_time": "2023-11-29T23:13:49.003287400Z"
    }
   },
   "id": "e37c92b1fddb6f7e"
  },
  {
   "cell_type": "code",
   "execution_count": 121,
   "outputs": [
    {
     "name": "stdout",
     "output_type": "stream",
     "text": [
      "dict_keys(['age_young'])\n"
     ]
    }
   ],
   "source": [
    "# split the transactions into a dictionary of transactions per segment\n",
    "transactions_per_segment = {}\n",
    "transactions = pd.merge(transactions_train, segmented_customers, on=\"customer_id\") # add segment to customers\n",
    "\n",
    "# split transactions into segments\n",
    "for segment_name in segment_names: \n",
    "    transactions_per_segment[segment_name] = transactions[transactions['segment'] == segment_name]\n",
    "print(transactions_per_segment.keys())"
   ],
   "metadata": {
    "collapsed": false,
    "ExecuteTime": {
     "end_time": "2023-11-29T23:13:55.126043100Z",
     "start_time": "2023-11-29T23:13:49.112384300Z"
    }
   },
   "id": "6e52565b297ecdbd"
  },
  {
   "cell_type": "code",
   "execution_count": 122,
   "outputs": [
    {
     "data": {
      "text/plain": "              t_dat           customer_id  article_id     price  \\\n0        2018-09-20      1728846800780188   519773001  0.028458   \n1        2018-09-20      1728846800780188   578472001  0.032525   \n2        2018-10-05      1728846800780188   533518001  0.047441   \n3        2018-10-05      1728846800780188   569981006  0.020322   \n4        2018-10-05      1728846800780188   669393001  0.067797   \n...             ...                   ...         ...       ...   \n31788319 2020-09-22  18409112236320621348   621381014  0.033881   \n31788320 2020-09-22  18417769707947924979   729860001  0.022017   \n31788321 2020-09-22  18417769707947924979   889747001  0.022017   \n31788322 2020-09-22  18417769707947924979   778517001  0.022017   \n31788323 2020-09-22  18417769707947924979   872002001  0.011847   \n\n          sales_channel_id  week  season    segment  \n0                        2     0  Autumn  age_young  \n1                        2     0  Autumn  age_young  \n2                        2     2  Autumn  age_young  \n3                        2     2  Autumn  age_young  \n4                        2     2  Autumn  age_young  \n...                    ...   ...     ...        ...  \n31788319                 2   104  Autumn  age_young  \n31788320                 2   104  Autumn  age_young  \n31788321                 2   104  Autumn  age_young  \n31788322                 2   104  Autumn  age_young  \n31788323                 2   104  Autumn  age_young  \n\n[31788324 rows x 8 columns]",
      "text/html": "<div>\n<style scoped>\n    .dataframe tbody tr th:only-of-type {\n        vertical-align: middle;\n    }\n\n    .dataframe tbody tr th {\n        vertical-align: top;\n    }\n\n    .dataframe thead th {\n        text-align: right;\n    }\n</style>\n<table border=\"1\" class=\"dataframe\">\n  <thead>\n    <tr style=\"text-align: right;\">\n      <th></th>\n      <th>t_dat</th>\n      <th>customer_id</th>\n      <th>article_id</th>\n      <th>price</th>\n      <th>sales_channel_id</th>\n      <th>week</th>\n      <th>season</th>\n      <th>segment</th>\n    </tr>\n  </thead>\n  <tbody>\n    <tr>\n      <th>0</th>\n      <td>2018-09-20</td>\n      <td>1728846800780188</td>\n      <td>519773001</td>\n      <td>0.028458</td>\n      <td>2</td>\n      <td>0</td>\n      <td>Autumn</td>\n      <td>age_young</td>\n    </tr>\n    <tr>\n      <th>1</th>\n      <td>2018-09-20</td>\n      <td>1728846800780188</td>\n      <td>578472001</td>\n      <td>0.032525</td>\n      <td>2</td>\n      <td>0</td>\n      <td>Autumn</td>\n      <td>age_young</td>\n    </tr>\n    <tr>\n      <th>2</th>\n      <td>2018-10-05</td>\n      <td>1728846800780188</td>\n      <td>533518001</td>\n      <td>0.047441</td>\n      <td>2</td>\n      <td>2</td>\n      <td>Autumn</td>\n      <td>age_young</td>\n    </tr>\n    <tr>\n      <th>3</th>\n      <td>2018-10-05</td>\n      <td>1728846800780188</td>\n      <td>569981006</td>\n      <td>0.020322</td>\n      <td>2</td>\n      <td>2</td>\n      <td>Autumn</td>\n      <td>age_young</td>\n    </tr>\n    <tr>\n      <th>4</th>\n      <td>2018-10-05</td>\n      <td>1728846800780188</td>\n      <td>669393001</td>\n      <td>0.067797</td>\n      <td>2</td>\n      <td>2</td>\n      <td>Autumn</td>\n      <td>age_young</td>\n    </tr>\n    <tr>\n      <th>...</th>\n      <td>...</td>\n      <td>...</td>\n      <td>...</td>\n      <td>...</td>\n      <td>...</td>\n      <td>...</td>\n      <td>...</td>\n      <td>...</td>\n    </tr>\n    <tr>\n      <th>31788319</th>\n      <td>2020-09-22</td>\n      <td>18409112236320621348</td>\n      <td>621381014</td>\n      <td>0.033881</td>\n      <td>2</td>\n      <td>104</td>\n      <td>Autumn</td>\n      <td>age_young</td>\n    </tr>\n    <tr>\n      <th>31788320</th>\n      <td>2020-09-22</td>\n      <td>18417769707947924979</td>\n      <td>729860001</td>\n      <td>0.022017</td>\n      <td>2</td>\n      <td>104</td>\n      <td>Autumn</td>\n      <td>age_young</td>\n    </tr>\n    <tr>\n      <th>31788321</th>\n      <td>2020-09-22</td>\n      <td>18417769707947924979</td>\n      <td>889747001</td>\n      <td>0.022017</td>\n      <td>2</td>\n      <td>104</td>\n      <td>Autumn</td>\n      <td>age_young</td>\n    </tr>\n    <tr>\n      <th>31788322</th>\n      <td>2020-09-22</td>\n      <td>18417769707947924979</td>\n      <td>778517001</td>\n      <td>0.022017</td>\n      <td>2</td>\n      <td>104</td>\n      <td>Autumn</td>\n      <td>age_young</td>\n    </tr>\n    <tr>\n      <th>31788323</th>\n      <td>2020-09-22</td>\n      <td>18417769707947924979</td>\n      <td>872002001</td>\n      <td>0.011847</td>\n      <td>2</td>\n      <td>104</td>\n      <td>Autumn</td>\n      <td>age_young</td>\n    </tr>\n  </tbody>\n</table>\n<p>31788324 rows × 8 columns</p>\n</div>"
     },
     "execution_count": 122,
     "metadata": {},
     "output_type": "execute_result"
    }
   ],
   "source": [
    "next(iter(transactions_per_segment.values()))"
   ],
   "metadata": {
    "collapsed": false,
    "ExecuteTime": {
     "end_time": "2023-11-29T23:13:55.170239300Z",
     "start_time": "2023-11-29T23:13:55.126043100Z"
    }
   },
   "id": "52fc7748f17adeff"
  },
  {
   "cell_type": "code",
   "execution_count": 123,
   "outputs": [
    {
     "data": {
      "text/plain": "{'age_young': 0.24010976483063404}"
     },
     "execution_count": 123,
     "metadata": {},
     "output_type": "execute_result"
    }
   ],
   "source": [
    "# for each segment, find the relative size of the current season compared to all seasons\n",
    "\n",
    "relative_size_per_segment = {}\n",
    "\n",
    "# calculated fully separated based on segment\n",
    "for segment_name, segment in transactions_per_segment.items():\n",
    "    current_period_size = len(segment[segment['season'] == current_season]) # amount of transactions in current season\n",
    "    all_periods_size = len(segment) # amount of transactions in all seasons\n",
    "    relative_size_per_segment[segment_name] = current_period_size / all_periods_size\n",
    "\n",
    "relative_size_per_segment"
   ],
   "metadata": {
    "collapsed": false,
    "ExecuteTime": {
     "end_time": "2023-11-29T23:13:56.340362100Z",
     "start_time": "2023-11-29T23:13:55.142599Z"
    }
   },
   "id": "67ccee6d36423491"
  },
  {
   "cell_type": "code",
   "execution_count": 124,
   "outputs": [],
   "source": [
    "all_scores = {}\n",
    "all_scores2 = {}\n",
    "\n",
    "# features to use for calculating seasonal score\n",
    "features = [\"prod_name\", \"product_type_name\", \"product_group_name\", \"graphical_appearance_name\", \"colour_group_name\", \"perceived_colour_value_name\", \"perceived_colour_master_name\", \"department_name\", \"index_name\", \"index_group_name\", \"section_name\", \"garment_group_name\"]"
   ],
   "metadata": {
    "collapsed": false,
    "ExecuteTime": {
     "end_time": "2023-11-29T23:13:56.370241100Z",
     "start_time": "2023-11-29T23:13:56.341396100Z"
    }
   },
   "id": "1198c29ee4ed88b9"
  },
  {
   "cell_type": "code",
   "execution_count": 125,
   "outputs": [
    {
     "name": "stdout",
     "output_type": "stream",
     "text": [
      "Current segment: age_young\n",
      "Done\n"
     ]
    }
   ],
   "source": [
    "# for each segment, calculate all scores separately\n",
    "for segment_name, segment_transactions in transactions_per_segment.items():\n",
    "    print(f\"Current segment: {segment_name}\")\n",
    "    segment_transactions = pd.merge(segment_transactions, articles, on=\"article_id\")\n",
    "    \n",
    "    # find the ratio for each feature\n",
    "    for feature in features:\n",
    "        seasonal_sales_by_type = segment_transactions.groupby([\"season\", feature])[\"article_id\"].size().reset_index(name=\"count\")\n",
    "        assert seasonal_sales_by_type[\"count\"].sum() == len(segment_transactions)\n",
    "        relative_season_size = 1 / relative_size_per_segment[segment_name] # relative size of the current season compared to all seasons\n",
    "        \n",
    "        # Calculate the average sales over all seasons for each feature type (eg average sales of an article that's blue)\n",
    "        type_average_sales = seasonal_sales_by_type.groupby([feature])[\"count\"].sum().div(relative_season_size).reset_index(name = \"avg_all_seasons\")\n",
    "        \n",
    "        # Only current season is relevant from now on\n",
    "        seasonal_sales_by_type = seasonal_sales_by_type[seasonal_sales_by_type[\"season\"] == current_season]\n",
    "        seasonal_sales_by_type = seasonal_sales_by_type.merge(type_average_sales, on=feature)\n",
    "        seasonal_sales_by_type[\"season_ratio\"] = seasonal_sales_by_type[\"count\"] / seasonal_sales_by_type[\"avg_all_seasons\"]\n",
    "        \n",
    "        # # Only keeping the 75% most sold combinations\n",
    "        # threshold = seasonal_sales_by_type[\"count\"].quantile(0.25)\n",
    "        # seasonal_sales_by_type = seasonal_sales_by_type[seasonal_sales_by_type[\"count\"] > threshold]\n",
    "        \n",
    "        # Creating a ratio look up table\n",
    "        seasonal_sales_by_type = seasonal_sales_by_type[[feature, \"season_ratio\"]]\n",
    "        seasonal_sales_by_type = seasonal_sales_by_type.rename(columns = {feature: \"feature\"})\n",
    "        \n",
    "        # Save together with the other segments\n",
    "        all_scores[(segment_name, feature)] = seasonal_sales_by_type.set_index(\"feature\").to_dict()[\"season_ratio\"]\n",
    "print(\"Done\")"
   ],
   "metadata": {
    "collapsed": false,
    "ExecuteTime": {
     "end_time": "2023-11-29T23:14:19.248845500Z",
     "start_time": "2023-11-29T23:13:56.358811700Z"
    }
   },
   "id": "2aea2017e345fdc6"
  },
  {
   "cell_type": "code",
   "execution_count": 126,
   "outputs": [],
   "source": [
    "# Calculate the season compatibility scores for each article\n",
    "def create_article_scores(article):\n",
    "    result = [0 for _ in range(len(segment_names))] # all counters start at 0\n",
    "    \n",
    "    # feature by feature, use the segment tables to update the counter of the corresponding segments\n",
    "    for feature in features:\n",
    "        feature_value = article[feature] # the actual value of the article for the current feature\n",
    "        for i, segment_name in enumerate(segment_names):\n",
    "            score_table = all_scores[(segment_name, feature)] # table that gives the feature score of a segment\n",
    "            if not feature_value in score_table:\n",
    "                continue\n",
    "            result[i] += score_table[feature_value]\n",
    "    return pd.Series(result)"
   ],
   "metadata": {
    "collapsed": false,
    "ExecuteTime": {
     "end_time": "2023-11-29T23:14:19.264625400Z",
     "start_time": "2023-11-29T23:14:19.250351300Z"
    }
   },
   "id": "133c10d382478bbf"
  },
  {
   "cell_type": "code",
   "execution_count": 127,
   "outputs": [
    {
     "data": {
      "text/plain": "        article_id  age_young\n0        108775015   0.395000\n1        108775044   0.323106\n2        108775051   0.479618\n3        110065001   0.362652\n4        110065002   0.290758\n...            ...        ...\n105537   953450001   0.660903\n105538   953763001   0.545185\n105539   956217002   0.522801\n105540   957375001   0.374840\n105541   959461001   0.249001\n\n[105542 rows x 2 columns]",
      "text/html": "<div>\n<style scoped>\n    .dataframe tbody tr th:only-of-type {\n        vertical-align: middle;\n    }\n\n    .dataframe tbody tr th {\n        vertical-align: top;\n    }\n\n    .dataframe thead th {\n        text-align: right;\n    }\n</style>\n<table border=\"1\" class=\"dataframe\">\n  <thead>\n    <tr style=\"text-align: right;\">\n      <th></th>\n      <th>article_id</th>\n      <th>age_young</th>\n    </tr>\n  </thead>\n  <tbody>\n    <tr>\n      <th>0</th>\n      <td>108775015</td>\n      <td>0.395000</td>\n    </tr>\n    <tr>\n      <th>1</th>\n      <td>108775044</td>\n      <td>0.323106</td>\n    </tr>\n    <tr>\n      <th>2</th>\n      <td>108775051</td>\n      <td>0.479618</td>\n    </tr>\n    <tr>\n      <th>3</th>\n      <td>110065001</td>\n      <td>0.362652</td>\n    </tr>\n    <tr>\n      <th>4</th>\n      <td>110065002</td>\n      <td>0.290758</td>\n    </tr>\n    <tr>\n      <th>...</th>\n      <td>...</td>\n      <td>...</td>\n    </tr>\n    <tr>\n      <th>105537</th>\n      <td>953450001</td>\n      <td>0.660903</td>\n    </tr>\n    <tr>\n      <th>105538</th>\n      <td>953763001</td>\n      <td>0.545185</td>\n    </tr>\n    <tr>\n      <th>105539</th>\n      <td>956217002</td>\n      <td>0.522801</td>\n    </tr>\n    <tr>\n      <th>105540</th>\n      <td>957375001</td>\n      <td>0.374840</td>\n    </tr>\n    <tr>\n      <th>105541</th>\n      <td>959461001</td>\n      <td>0.249001</td>\n    </tr>\n  </tbody>\n</table>\n<p>105542 rows × 2 columns</p>\n</div>"
     },
     "execution_count": 127,
     "metadata": {},
     "output_type": "execute_result"
    }
   ],
   "source": [
    "articles_scores = pd.DataFrame(articles[\"article_id\"]) # create a dataframe with only the article id\n",
    "\n",
    "# article gets extra columns: for each segment, the score of the article for that segment\n",
    "articles_scores[segment_names] = articles.apply(create_article_scores, axis=1, result_type=\"expand\")\n",
    "\n",
    "# normalize the scores\n",
    "for segment_name in segment_names:\n",
    "    articles_scores[segment_name] = MinMaxScaler().fit_transform(articles_scores[[segment_name]])\n",
    "\n",
    "articles_scores"
   ],
   "metadata": {
    "collapsed": false,
    "ExecuteTime": {
     "end_time": "2023-11-29T23:14:26.752397200Z",
     "start_time": "2023-11-29T23:14:19.264625400Z"
    }
   },
   "id": "311d6cc55379b292"
  },
  {
   "cell_type": "code",
   "execution_count": 128,
   "outputs": [],
   "source": [
    "articles_scores.to_parquet(path + 'articles_edited2.parquet')"
   ],
   "metadata": {
    "collapsed": false,
    "ExecuteTime": {
     "end_time": "2023-11-29T23:14:26.831980900Z",
     "start_time": "2023-11-29T23:14:26.752397200Z"
    }
   },
   "id": "f55c7ea112a5dc2d"
  },
  {
   "cell_type": "code",
   "execution_count": 129,
   "outputs": [],
   "source": [
    "def add_features(data):\n",
    "    columns_to_use = [\n",
    "        'article_id',\n",
    "        'product_type_no',\n",
    "        'graphical_appearance_no',\n",
    "        'colour_group_code',\n",
    "        'perceived_colour_value_id',\n",
    "        'perceived_colour_master_id',\n",
    "        'department_no',\n",
    "        'index_code',\n",
    "        'index_group_no',\n",
    "        'section_no',\n",
    "        'garment_group_no',\n",
    "        'FN',\n",
    "        'Active',\n",
    "        'club_member_status',\n",
    "        'fashion_news_frequency',\n",
    "        'age',\n",
    "        'postal_code',\n",
    "        'ranked_weighted_sales'\n",
    "    ]\n",
    "\n",
    "    result = data\n",
    "    result = pd.merge(result, customers, how='left', on='customer_id')\n",
    "    result = pd.merge(result, articles, how='left', on='article_id')\n",
    "\n",
    "    # features from assignment 2 could go here\n",
    "    # customer_avg_price = transactions_train.groupby('customer_id')['price'].mean().to_frame('preferred_price')\n",
    "    # result = pd.merge(result, customer_avg_price, how=\"left\", on=\"customer_id\")\n",
    "\n",
    "    return result[columns_to_use]"
   ],
   "metadata": {
    "collapsed": false,
    "ExecuteTime": {
     "end_time": "2023-11-29T23:14:26.843945800Z",
     "start_time": "2023-11-29T23:14:26.830564800Z"
    }
   },
   "id": "1ed9dd37b8aac6bb"
  },
  {
   "cell_type": "code",
   "execution_count": 130,
   "outputs": [],
   "source": [
    "def recall(predictions, purchases, k=12):\n",
    "    # number of correct predictions for the customer / items bought by the customer\n",
    "    # total recall is the average recall over all customers\n",
    "\n",
    "    def row_recall(row):\n",
    "        assert 0 < len(row.purchases)\n",
    "        correct = 0\n",
    "        for predicted_item in row.prediction[:k]:\n",
    "            if predicted_item in row.purchases:\n",
    "                correct += 1\n",
    "        return correct / min(len(row.purchases), 12)\n",
    "\n",
    "    result = pd.merge(purchases, predictions, on=\"customer_id\", how=\"inner\")\n",
    "    result[\"recall\"] = result.apply(row_recall, axis=1)\n",
    "\n",
    "    return result.recall.sum() / len(purchases)"
   ],
   "metadata": {
    "collapsed": false,
    "ExecuteTime": {
     "end_time": "2023-11-29T23:14:26.862686700Z",
     "start_time": "2023-11-29T23:14:26.845108100Z"
    }
   },
   "id": "5bcceb93ae416366"
  },
  {
   "cell_type": "code",
   "execution_count": 131,
   "outputs": [
    {
     "data": {
      "text/plain": "                  customer_id    segment\n0         6883939031699146327  age_young\n1        11246327431398957306  age_young\n2        18439897732908966680  age_young\n3        18352672461570950206  age_young\n4        18162778555210377306  age_young\n...                       ...        ...\n1371975   7551062398649767985  age_young\n1371976   9305341941720086711  age_young\n1371977  10160427316885688932  age_young\n1371978   2551401172826382186  age_young\n1371979  16929951892735599169  age_young\n\n[1371980 rows x 2 columns]",
      "text/html": "<div>\n<style scoped>\n    .dataframe tbody tr th:only-of-type {\n        vertical-align: middle;\n    }\n\n    .dataframe tbody tr th {\n        vertical-align: top;\n    }\n\n    .dataframe thead th {\n        text-align: right;\n    }\n</style>\n<table border=\"1\" class=\"dataframe\">\n  <thead>\n    <tr style=\"text-align: right;\">\n      <th></th>\n      <th>customer_id</th>\n      <th>segment</th>\n    </tr>\n  </thead>\n  <tbody>\n    <tr>\n      <th>0</th>\n      <td>6883939031699146327</td>\n      <td>age_young</td>\n    </tr>\n    <tr>\n      <th>1</th>\n      <td>11246327431398957306</td>\n      <td>age_young</td>\n    </tr>\n    <tr>\n      <th>2</th>\n      <td>18439897732908966680</td>\n      <td>age_young</td>\n    </tr>\n    <tr>\n      <th>3</th>\n      <td>18352672461570950206</td>\n      <td>age_young</td>\n    </tr>\n    <tr>\n      <th>4</th>\n      <td>18162778555210377306</td>\n      <td>age_young</td>\n    </tr>\n    <tr>\n      <th>...</th>\n      <td>...</td>\n      <td>...</td>\n    </tr>\n    <tr>\n      <th>1371975</th>\n      <td>7551062398649767985</td>\n      <td>age_young</td>\n    </tr>\n    <tr>\n      <th>1371976</th>\n      <td>9305341941720086711</td>\n      <td>age_young</td>\n    </tr>\n    <tr>\n      <th>1371977</th>\n      <td>10160427316885688932</td>\n      <td>age_young</td>\n    </tr>\n    <tr>\n      <th>1371978</th>\n      <td>2551401172826382186</td>\n      <td>age_young</td>\n    </tr>\n    <tr>\n      <th>1371979</th>\n      <td>16929951892735599169</td>\n      <td>age_young</td>\n    </tr>\n  </tbody>\n</table>\n<p>1371980 rows × 2 columns</p>\n</div>"
     },
     "execution_count": 131,
     "metadata": {},
     "output_type": "execute_result"
    }
   ],
   "source": [
    "segmented_customers"
   ],
   "metadata": {
    "collapsed": false,
    "ExecuteTime": {
     "end_time": "2023-11-29T23:14:26.882244400Z",
     "start_time": "2023-11-29T23:14:26.859136Z"
    }
   },
   "id": "e9fb34d6cdaf7ddb"
  },
  {
   "cell_type": "code",
   "execution_count": 132,
   "outputs": [
    {
     "data": {
      "text/plain": "       t_dat      customer_id  article_id     price  sales_channel_id  week  \\\n0 2020-07-15  272412481300040   778064028  0.008458                 1    95   \n1 2020-07-15  272412481300040   816592008  0.016932                 1    95   \n2 2020-07-15  272412481300040   621381021  0.033881                 1    95   \n3 2020-07-15  272412481300040   817477003  0.025407                 1    95   \n4 2020-07-15  272412481300040   899088002  0.025407                 1    95   \n\n   season    segment  \n0  Summer  age_young  \n1  Summer  age_young  \n2  Summer  age_young  \n3  Summer  age_young  \n4  Summer  age_young  ",
      "text/html": "<div>\n<style scoped>\n    .dataframe tbody tr th:only-of-type {\n        vertical-align: middle;\n    }\n\n    .dataframe tbody tr th {\n        vertical-align: top;\n    }\n\n    .dataframe thead th {\n        text-align: right;\n    }\n</style>\n<table border=\"1\" class=\"dataframe\">\n  <thead>\n    <tr style=\"text-align: right;\">\n      <th></th>\n      <th>t_dat</th>\n      <th>customer_id</th>\n      <th>article_id</th>\n      <th>price</th>\n      <th>sales_channel_id</th>\n      <th>week</th>\n      <th>season</th>\n      <th>segment</th>\n    </tr>\n  </thead>\n  <tbody>\n    <tr>\n      <th>0</th>\n      <td>2020-07-15</td>\n      <td>272412481300040</td>\n      <td>778064028</td>\n      <td>0.008458</td>\n      <td>1</td>\n      <td>95</td>\n      <td>Summer</td>\n      <td>age_young</td>\n    </tr>\n    <tr>\n      <th>1</th>\n      <td>2020-07-15</td>\n      <td>272412481300040</td>\n      <td>816592008</td>\n      <td>0.016932</td>\n      <td>1</td>\n      <td>95</td>\n      <td>Summer</td>\n      <td>age_young</td>\n    </tr>\n    <tr>\n      <th>2</th>\n      <td>2020-07-15</td>\n      <td>272412481300040</td>\n      <td>621381021</td>\n      <td>0.033881</td>\n      <td>1</td>\n      <td>95</td>\n      <td>Summer</td>\n      <td>age_young</td>\n    </tr>\n    <tr>\n      <th>3</th>\n      <td>2020-07-15</td>\n      <td>272412481300040</td>\n      <td>817477003</td>\n      <td>0.025407</td>\n      <td>1</td>\n      <td>95</td>\n      <td>Summer</td>\n      <td>age_young</td>\n    </tr>\n    <tr>\n      <th>4</th>\n      <td>2020-07-15</td>\n      <td>272412481300040</td>\n      <td>899088002</td>\n      <td>0.025407</td>\n      <td>1</td>\n      <td>95</td>\n      <td>Summer</td>\n      <td>age_young</td>\n    </tr>\n  </tbody>\n</table>\n</div>"
     },
     "execution_count": 132,
     "metadata": {},
     "output_type": "execute_result"
    }
   ],
   "source": [
    "### split into training and testing\n",
    "# one week is used for testing\n",
    "# a number of weeks leading up to the test week are used to train the ranker\n",
    "test_week = 105\n",
    "num_training_weeks = 10\n",
    "training_weeks = np.arange(test_week-num_training_weeks, test_week)\n",
    "train_data = transactions_train[transactions_train.week.isin(training_weeks)].reset_index(drop=True)\n",
    "\n",
    "# add segment of the customer to each transaction\n",
    "train_data = train_data.merge(segmented_customers, on=\"customer_id\")\n",
    "train_data.head()"
   ],
   "metadata": {
    "collapsed": false,
    "ExecuteTime": {
     "end_time": "2023-11-29T23:14:27.405539100Z",
     "start_time": "2023-11-29T23:14:26.874617Z"
    }
   },
   "id": "56aae6045e3dc1b7"
  },
  {
   "cell_type": "code",
   "execution_count": 133,
   "outputs": [
    {
     "data": {
      "text/plain": "   article_id  age_young\n0   108775015   0.395000\n1   108775044   0.323106\n2   108775051   0.479618\n3   110065001   0.362652\n4   110065002   0.290758",
      "text/html": "<div>\n<style scoped>\n    .dataframe tbody tr th:only-of-type {\n        vertical-align: middle;\n    }\n\n    .dataframe tbody tr th {\n        vertical-align: top;\n    }\n\n    .dataframe thead th {\n        text-align: right;\n    }\n</style>\n<table border=\"1\" class=\"dataframe\">\n  <thead>\n    <tr style=\"text-align: right;\">\n      <th></th>\n      <th>article_id</th>\n      <th>age_young</th>\n    </tr>\n  </thead>\n  <tbody>\n    <tr>\n      <th>0</th>\n      <td>108775015</td>\n      <td>0.395000</td>\n    </tr>\n    <tr>\n      <th>1</th>\n      <td>108775044</td>\n      <td>0.323106</td>\n    </tr>\n    <tr>\n      <th>2</th>\n      <td>108775051</td>\n      <td>0.479618</td>\n    </tr>\n    <tr>\n      <th>3</th>\n      <td>110065001</td>\n      <td>0.362652</td>\n    </tr>\n    <tr>\n      <th>4</th>\n      <td>110065002</td>\n      <td>0.290758</td>\n    </tr>\n  </tbody>\n</table>\n</div>"
     },
     "execution_count": 133,
     "metadata": {},
     "output_type": "execute_result"
    }
   ],
   "source": [
    "articles_scores.head()"
   ],
   "metadata": {
    "collapsed": false,
    "ExecuteTime": {
     "end_time": "2023-11-29T23:14:27.425493100Z",
     "start_time": "2023-11-29T23:14:27.402525400Z"
    }
   },
   "id": "457a960d4369315e"
  },
  {
   "cell_type": "code",
   "execution_count": 134,
   "outputs": [
    {
     "data": {
      "text/plain": "        week  article_id    segment  count  age_young\n0         95   108775015  age_young      2   0.395000\n1         96   108775015  age_young      1   0.395000\n2         95   108775044  age_young      3   0.323106\n3         96   108775044  age_young      8   0.323106\n4         97   108775044  age_young      6   0.323106\n...      ...         ...        ...    ...        ...\n196875   104   944241001  age_young     35   0.606688\n196876   104   945600001  age_young     12   0.698513\n196877   104   946475001  age_young      1   0.590696\n196878   104   946527001  age_young      4   0.529003\n196879   104   949594001  age_young      5   0.555147\n\n[196880 rows x 5 columns]",
      "text/html": "<div>\n<style scoped>\n    .dataframe tbody tr th:only-of-type {\n        vertical-align: middle;\n    }\n\n    .dataframe tbody tr th {\n        vertical-align: top;\n    }\n\n    .dataframe thead th {\n        text-align: right;\n    }\n</style>\n<table border=\"1\" class=\"dataframe\">\n  <thead>\n    <tr style=\"text-align: right;\">\n      <th></th>\n      <th>week</th>\n      <th>article_id</th>\n      <th>segment</th>\n      <th>count</th>\n      <th>age_young</th>\n    </tr>\n  </thead>\n  <tbody>\n    <tr>\n      <th>0</th>\n      <td>95</td>\n      <td>108775015</td>\n      <td>age_young</td>\n      <td>2</td>\n      <td>0.395000</td>\n    </tr>\n    <tr>\n      <th>1</th>\n      <td>96</td>\n      <td>108775015</td>\n      <td>age_young</td>\n      <td>1</td>\n      <td>0.395000</td>\n    </tr>\n    <tr>\n      <th>2</th>\n      <td>95</td>\n      <td>108775044</td>\n      <td>age_young</td>\n      <td>3</td>\n      <td>0.323106</td>\n    </tr>\n    <tr>\n      <th>3</th>\n      <td>96</td>\n      <td>108775044</td>\n      <td>age_young</td>\n      <td>8</td>\n      <td>0.323106</td>\n    </tr>\n    <tr>\n      <th>4</th>\n      <td>97</td>\n      <td>108775044</td>\n      <td>age_young</td>\n      <td>6</td>\n      <td>0.323106</td>\n    </tr>\n    <tr>\n      <th>...</th>\n      <td>...</td>\n      <td>...</td>\n      <td>...</td>\n      <td>...</td>\n      <td>...</td>\n    </tr>\n    <tr>\n      <th>196875</th>\n      <td>104</td>\n      <td>944241001</td>\n      <td>age_young</td>\n      <td>35</td>\n      <td>0.606688</td>\n    </tr>\n    <tr>\n      <th>196876</th>\n      <td>104</td>\n      <td>945600001</td>\n      <td>age_young</td>\n      <td>12</td>\n      <td>0.698513</td>\n    </tr>\n    <tr>\n      <th>196877</th>\n      <td>104</td>\n      <td>946475001</td>\n      <td>age_young</td>\n      <td>1</td>\n      <td>0.590696</td>\n    </tr>\n    <tr>\n      <th>196878</th>\n      <td>104</td>\n      <td>946527001</td>\n      <td>age_young</td>\n      <td>4</td>\n      <td>0.529003</td>\n    </tr>\n    <tr>\n      <th>196879</th>\n      <td>104</td>\n      <td>949594001</td>\n      <td>age_young</td>\n      <td>5</td>\n      <td>0.555147</td>\n    </tr>\n  </tbody>\n</table>\n<p>196880 rows × 5 columns</p>\n</div>"
     },
     "execution_count": 134,
     "metadata": {},
     "output_type": "execute_result"
    }
   ],
   "source": [
    "### repurchase\n",
    "# each week is seen as a basket\n",
    "# the items bought in one basket, will be example for the next basket\n",
    "# the items bought in the last basket, will be candidates for the test basket\n",
    "c2weeks = train_data.groupby('customer_id')['week'].unique()\n",
    "c2weeks2shifted_weeks = {}\n",
    "for c_id, weeks in c2weeks.items():\n",
    "    c2weeks2shifted_weeks[c_id] = {}\n",
    "    for i in range(weeks.shape[0]-1):\n",
    "        c2weeks2shifted_weeks[c_id][weeks[i]] = weeks[i+1]\n",
    "    c2weeks2shifted_weeks[c_id][weeks[-1]] = test_week\n",
    "candidates_last_purchase = train_data.copy()\n",
    "weeks = []\n",
    "for i, (c_id, week) in enumerate(zip(train_data['customer_id'], train_data['week'])):\n",
    "    weeks.append(c2weeks2shifted_weeks[c_id][week])\n",
    "candidates_last_purchase.week=weeks\n",
    "\n",
    "sales_counts = train_data.groupby([\"week\", \"article_id\", \"segment\"]).size().reset_index(name=\"count\")\n",
    "sales_counts = sales_counts.merge(articles_scores, on=\"article_id\")\n",
    "sales_counts"
   ],
   "metadata": {
    "collapsed": false,
    "ExecuteTime": {
     "end_time": "2023-11-29T23:14:40.345715700Z",
     "start_time": "2023-11-29T23:14:27.418297600Z"
    }
   },
   "id": "9148f9fec805092"
  },
  {
   "cell_type": "code",
   "execution_count": 135,
   "outputs": [
    {
     "data": {
      "text/plain": "        week  article_id    segment  count  age_young  season_score\n0         95   108775015  age_young      2   0.395000      0.395000\n1         96   108775015  age_young      1   0.395000      0.395000\n2         95   108775044  age_young      3   0.323106      0.323106\n3         96   108775044  age_young      8   0.323106      0.323106\n4         97   108775044  age_young      6   0.323106      0.323106\n...      ...         ...        ...    ...        ...           ...\n196875   104   944241001  age_young     35   0.606688      0.606688\n196876   104   945600001  age_young     12   0.698513      0.698513\n196877   104   946475001  age_young      1   0.590696      0.590696\n196878   104   946527001  age_young      4   0.529003      0.529003\n196879   104   949594001  age_young      5   0.555147      0.555147\n\n[196880 rows x 6 columns]",
      "text/html": "<div>\n<style scoped>\n    .dataframe tbody tr th:only-of-type {\n        vertical-align: middle;\n    }\n\n    .dataframe tbody tr th {\n        vertical-align: top;\n    }\n\n    .dataframe thead th {\n        text-align: right;\n    }\n</style>\n<table border=\"1\" class=\"dataframe\">\n  <thead>\n    <tr style=\"text-align: right;\">\n      <th></th>\n      <th>week</th>\n      <th>article_id</th>\n      <th>segment</th>\n      <th>count</th>\n      <th>age_young</th>\n      <th>season_score</th>\n    </tr>\n  </thead>\n  <tbody>\n    <tr>\n      <th>0</th>\n      <td>95</td>\n      <td>108775015</td>\n      <td>age_young</td>\n      <td>2</td>\n      <td>0.395000</td>\n      <td>0.395000</td>\n    </tr>\n    <tr>\n      <th>1</th>\n      <td>96</td>\n      <td>108775015</td>\n      <td>age_young</td>\n      <td>1</td>\n      <td>0.395000</td>\n      <td>0.395000</td>\n    </tr>\n    <tr>\n      <th>2</th>\n      <td>95</td>\n      <td>108775044</td>\n      <td>age_young</td>\n      <td>3</td>\n      <td>0.323106</td>\n      <td>0.323106</td>\n    </tr>\n    <tr>\n      <th>3</th>\n      <td>96</td>\n      <td>108775044</td>\n      <td>age_young</td>\n      <td>8</td>\n      <td>0.323106</td>\n      <td>0.323106</td>\n    </tr>\n    <tr>\n      <th>4</th>\n      <td>97</td>\n      <td>108775044</td>\n      <td>age_young</td>\n      <td>6</td>\n      <td>0.323106</td>\n      <td>0.323106</td>\n    </tr>\n    <tr>\n      <th>...</th>\n      <td>...</td>\n      <td>...</td>\n      <td>...</td>\n      <td>...</td>\n      <td>...</td>\n      <td>...</td>\n    </tr>\n    <tr>\n      <th>196875</th>\n      <td>104</td>\n      <td>944241001</td>\n      <td>age_young</td>\n      <td>35</td>\n      <td>0.606688</td>\n      <td>0.606688</td>\n    </tr>\n    <tr>\n      <th>196876</th>\n      <td>104</td>\n      <td>945600001</td>\n      <td>age_young</td>\n      <td>12</td>\n      <td>0.698513</td>\n      <td>0.698513</td>\n    </tr>\n    <tr>\n      <th>196877</th>\n      <td>104</td>\n      <td>946475001</td>\n      <td>age_young</td>\n      <td>1</td>\n      <td>0.590696</td>\n      <td>0.590696</td>\n    </tr>\n    <tr>\n      <th>196878</th>\n      <td>104</td>\n      <td>946527001</td>\n      <td>age_young</td>\n      <td>4</td>\n      <td>0.529003</td>\n      <td>0.529003</td>\n    </tr>\n    <tr>\n      <th>196879</th>\n      <td>104</td>\n      <td>949594001</td>\n      <td>age_young</td>\n      <td>5</td>\n      <td>0.555147</td>\n      <td>0.555147</td>\n    </tr>\n  </tbody>\n</table>\n<p>196880 rows × 6 columns</p>\n</div>"
     },
     "execution_count": 135,
     "metadata": {},
     "output_type": "execute_result"
    }
   ],
   "source": [
    "def get_applicable_score(row):\n",
    "    return row[row[\"segment\"]]\n",
    "sales_counts = sales_counts.copy()\n",
    "sales_counts[\"season_score\"] = sales_counts.apply(get_applicable_score, axis=1)\n",
    "sales_counts"
   ],
   "metadata": {
    "collapsed": false,
    "ExecuteTime": {
     "end_time": "2023-11-29T23:14:41.102774100Z",
     "start_time": "2023-11-29T23:14:40.337821600Z"
    }
   },
   "id": "7192d1eede251271"
  },
  {
   "cell_type": "code",
   "execution_count": 136,
   "outputs": [
    {
     "data": {
      "text/plain": "        week  article_id    segment  count  season_score\n0         95   108775015  age_young      2      0.395000\n1         96   108775015  age_young      1      0.395000\n2         95   108775044  age_young      3      0.323106\n3         96   108775044  age_young      8      0.323106\n4         97   108775044  age_young      6      0.323106\n...      ...         ...        ...    ...           ...\n196875   104   944241001  age_young     35      0.606688\n196876   104   945600001  age_young     12      0.698513\n196877   104   946475001  age_young      1      0.590696\n196878   104   946527001  age_young      4      0.529003\n196879   104   949594001  age_young      5      0.555147\n\n[196880 rows x 5 columns]",
      "text/html": "<div>\n<style scoped>\n    .dataframe tbody tr th:only-of-type {\n        vertical-align: middle;\n    }\n\n    .dataframe tbody tr th {\n        vertical-align: top;\n    }\n\n    .dataframe thead th {\n        text-align: right;\n    }\n</style>\n<table border=\"1\" class=\"dataframe\">\n  <thead>\n    <tr style=\"text-align: right;\">\n      <th></th>\n      <th>week</th>\n      <th>article_id</th>\n      <th>segment</th>\n      <th>count</th>\n      <th>season_score</th>\n    </tr>\n  </thead>\n  <tbody>\n    <tr>\n      <th>0</th>\n      <td>95</td>\n      <td>108775015</td>\n      <td>age_young</td>\n      <td>2</td>\n      <td>0.395000</td>\n    </tr>\n    <tr>\n      <th>1</th>\n      <td>96</td>\n      <td>108775015</td>\n      <td>age_young</td>\n      <td>1</td>\n      <td>0.395000</td>\n    </tr>\n    <tr>\n      <th>2</th>\n      <td>95</td>\n      <td>108775044</td>\n      <td>age_young</td>\n      <td>3</td>\n      <td>0.323106</td>\n    </tr>\n    <tr>\n      <th>3</th>\n      <td>96</td>\n      <td>108775044</td>\n      <td>age_young</td>\n      <td>8</td>\n      <td>0.323106</td>\n    </tr>\n    <tr>\n      <th>4</th>\n      <td>97</td>\n      <td>108775044</td>\n      <td>age_young</td>\n      <td>6</td>\n      <td>0.323106</td>\n    </tr>\n    <tr>\n      <th>...</th>\n      <td>...</td>\n      <td>...</td>\n      <td>...</td>\n      <td>...</td>\n      <td>...</td>\n    </tr>\n    <tr>\n      <th>196875</th>\n      <td>104</td>\n      <td>944241001</td>\n      <td>age_young</td>\n      <td>35</td>\n      <td>0.606688</td>\n    </tr>\n    <tr>\n      <th>196876</th>\n      <td>104</td>\n      <td>945600001</td>\n      <td>age_young</td>\n      <td>12</td>\n      <td>0.698513</td>\n    </tr>\n    <tr>\n      <th>196877</th>\n      <td>104</td>\n      <td>946475001</td>\n      <td>age_young</td>\n      <td>1</td>\n      <td>0.590696</td>\n    </tr>\n    <tr>\n      <th>196878</th>\n      <td>104</td>\n      <td>946527001</td>\n      <td>age_young</td>\n      <td>4</td>\n      <td>0.529003</td>\n    </tr>\n    <tr>\n      <th>196879</th>\n      <td>104</td>\n      <td>949594001</td>\n      <td>age_young</td>\n      <td>5</td>\n      <td>0.555147</td>\n    </tr>\n  </tbody>\n</table>\n<p>196880 rows × 5 columns</p>\n</div>"
     },
     "execution_count": 136,
     "metadata": {},
     "output_type": "execute_result"
    }
   ],
   "source": [
    "sales_counts = sales_counts.drop(columns=segment_names)\n",
    "sales_counts"
   ],
   "metadata": {
    "collapsed": false,
    "ExecuteTime": {
     "end_time": "2023-11-29T23:14:41.125264100Z",
     "start_time": "2023-11-29T23:14:41.101733400Z"
    }
   },
   "id": "9c62977534a6da9"
  },
  {
   "cell_type": "code",
   "execution_count": 137,
   "outputs": [
    {
     "data": {
      "text/plain": "        week  article_id    segment  count  season_score  weighted_sales\n0         95   108775015  age_young      2      0.395000        1.314943\n1         96   108775015  age_young      1      0.395000        1.000000\n2         95   108775044  age_young      3      0.323106        1.426136\n3         96   108775044  age_young      8      0.323106        1.957916\n4         97   108775044  age_young      6      0.323106        1.784126\n...      ...         ...        ...    ...           ...             ...\n196875   104   944241001  age_young     35      0.606688        8.645037\n196876   104   945600001  age_young     12      0.698513        5.673126\n196877   104   946475001  age_young      1      0.590696        1.000000\n196878   104   946527001  age_young      4      0.529003        2.082051\n196879   104   949594001  age_young      5      0.555147        2.443606\n\n[196880 rows x 6 columns]",
      "text/html": "<div>\n<style scoped>\n    .dataframe tbody tr th:only-of-type {\n        vertical-align: middle;\n    }\n\n    .dataframe tbody tr th {\n        vertical-align: top;\n    }\n\n    .dataframe thead th {\n        text-align: right;\n    }\n</style>\n<table border=\"1\" class=\"dataframe\">\n  <thead>\n    <tr style=\"text-align: right;\">\n      <th></th>\n      <th>week</th>\n      <th>article_id</th>\n      <th>segment</th>\n      <th>count</th>\n      <th>season_score</th>\n      <th>weighted_sales</th>\n    </tr>\n  </thead>\n  <tbody>\n    <tr>\n      <th>0</th>\n      <td>95</td>\n      <td>108775015</td>\n      <td>age_young</td>\n      <td>2</td>\n      <td>0.395000</td>\n      <td>1.314943</td>\n    </tr>\n    <tr>\n      <th>1</th>\n      <td>96</td>\n      <td>108775015</td>\n      <td>age_young</td>\n      <td>1</td>\n      <td>0.395000</td>\n      <td>1.000000</td>\n    </tr>\n    <tr>\n      <th>2</th>\n      <td>95</td>\n      <td>108775044</td>\n      <td>age_young</td>\n      <td>3</td>\n      <td>0.323106</td>\n      <td>1.426136</td>\n    </tr>\n    <tr>\n      <th>3</th>\n      <td>96</td>\n      <td>108775044</td>\n      <td>age_young</td>\n      <td>8</td>\n      <td>0.323106</td>\n      <td>1.957916</td>\n    </tr>\n    <tr>\n      <th>4</th>\n      <td>97</td>\n      <td>108775044</td>\n      <td>age_young</td>\n      <td>6</td>\n      <td>0.323106</td>\n      <td>1.784126</td>\n    </tr>\n    <tr>\n      <th>...</th>\n      <td>...</td>\n      <td>...</td>\n      <td>...</td>\n      <td>...</td>\n      <td>...</td>\n      <td>...</td>\n    </tr>\n    <tr>\n      <th>196875</th>\n      <td>104</td>\n      <td>944241001</td>\n      <td>age_young</td>\n      <td>35</td>\n      <td>0.606688</td>\n      <td>8.645037</td>\n    </tr>\n    <tr>\n      <th>196876</th>\n      <td>104</td>\n      <td>945600001</td>\n      <td>age_young</td>\n      <td>12</td>\n      <td>0.698513</td>\n      <td>5.673126</td>\n    </tr>\n    <tr>\n      <th>196877</th>\n      <td>104</td>\n      <td>946475001</td>\n      <td>age_young</td>\n      <td>1</td>\n      <td>0.590696</td>\n      <td>1.000000</td>\n    </tr>\n    <tr>\n      <th>196878</th>\n      <td>104</td>\n      <td>946527001</td>\n      <td>age_young</td>\n      <td>4</td>\n      <td>0.529003</td>\n      <td>2.082051</td>\n    </tr>\n    <tr>\n      <th>196879</th>\n      <td>104</td>\n      <td>949594001</td>\n      <td>age_young</td>\n      <td>5</td>\n      <td>0.555147</td>\n      <td>2.443606</td>\n    </tr>\n  </tbody>\n</table>\n<p>196880 rows × 6 columns</p>\n</div>"
     },
     "execution_count": 137,
     "metadata": {},
     "output_type": "execute_result"
    }
   ],
   "source": [
    "sales_counts[\"weighted_sales\"] = sales_counts[\"count\"] ** sales_counts[\"season_score\"]\n",
    "sales_counts"
   ],
   "metadata": {
    "collapsed": false,
    "ExecuteTime": {
     "end_time": "2023-11-29T23:14:41.207097500Z",
     "start_time": "2023-11-29T23:14:41.117603400Z"
    }
   },
   "id": "710289649028ab1f"
  },
  {
   "cell_type": "code",
   "execution_count": 138,
   "outputs": [
    {
     "data": {
      "text/plain": "        week  article_id    segment  count  season_score  weighted_sales  \\\n0         95   108775015  age_young      2      0.395000        1.314943   \n1         96   108775015  age_young      1      0.395000        1.000000   \n2         95   108775044  age_young      3      0.323106        1.426136   \n3         96   108775044  age_young      8      0.323106        1.957916   \n4         97   108775044  age_young      6      0.323106        1.784126   \n...      ...         ...        ...    ...           ...             ...   \n196875   104   944241001  age_young     35      0.606688        8.645037   \n196876   104   945600001  age_young     12      0.698513        5.673126   \n196877   104   946475001  age_young      1      0.590696        1.000000   \n196878   104   946527001  age_young      4      0.529003        2.082051   \n196879   104   949594001  age_young      5      0.555147        2.443606   \n\n        ranked_weighted_sales  \n0                       13067  \n1                       15591  \n2                       11655  \n3                        7366  \n4                        8554  \n...                       ...  \n196875                    749  \n196876                   1510  \n196877                  12552  \n196878                   6006  \n196879                   4868  \n\n[196880 rows x 7 columns]",
      "text/html": "<div>\n<style scoped>\n    .dataframe tbody tr th:only-of-type {\n        vertical-align: middle;\n    }\n\n    .dataframe tbody tr th {\n        vertical-align: top;\n    }\n\n    .dataframe thead th {\n        text-align: right;\n    }\n</style>\n<table border=\"1\" class=\"dataframe\">\n  <thead>\n    <tr style=\"text-align: right;\">\n      <th></th>\n      <th>week</th>\n      <th>article_id</th>\n      <th>segment</th>\n      <th>count</th>\n      <th>season_score</th>\n      <th>weighted_sales</th>\n      <th>ranked_weighted_sales</th>\n    </tr>\n  </thead>\n  <tbody>\n    <tr>\n      <th>0</th>\n      <td>95</td>\n      <td>108775015</td>\n      <td>age_young</td>\n      <td>2</td>\n      <td>0.395000</td>\n      <td>1.314943</td>\n      <td>13067</td>\n    </tr>\n    <tr>\n      <th>1</th>\n      <td>96</td>\n      <td>108775015</td>\n      <td>age_young</td>\n      <td>1</td>\n      <td>0.395000</td>\n      <td>1.000000</td>\n      <td>15591</td>\n    </tr>\n    <tr>\n      <th>2</th>\n      <td>95</td>\n      <td>108775044</td>\n      <td>age_young</td>\n      <td>3</td>\n      <td>0.323106</td>\n      <td>1.426136</td>\n      <td>11655</td>\n    </tr>\n    <tr>\n      <th>3</th>\n      <td>96</td>\n      <td>108775044</td>\n      <td>age_young</td>\n      <td>8</td>\n      <td>0.323106</td>\n      <td>1.957916</td>\n      <td>7366</td>\n    </tr>\n    <tr>\n      <th>4</th>\n      <td>97</td>\n      <td>108775044</td>\n      <td>age_young</td>\n      <td>6</td>\n      <td>0.323106</td>\n      <td>1.784126</td>\n      <td>8554</td>\n    </tr>\n    <tr>\n      <th>...</th>\n      <td>...</td>\n      <td>...</td>\n      <td>...</td>\n      <td>...</td>\n      <td>...</td>\n      <td>...</td>\n      <td>...</td>\n    </tr>\n    <tr>\n      <th>196875</th>\n      <td>104</td>\n      <td>944241001</td>\n      <td>age_young</td>\n      <td>35</td>\n      <td>0.606688</td>\n      <td>8.645037</td>\n      <td>749</td>\n    </tr>\n    <tr>\n      <th>196876</th>\n      <td>104</td>\n      <td>945600001</td>\n      <td>age_young</td>\n      <td>12</td>\n      <td>0.698513</td>\n      <td>5.673126</td>\n      <td>1510</td>\n    </tr>\n    <tr>\n      <th>196877</th>\n      <td>104</td>\n      <td>946475001</td>\n      <td>age_young</td>\n      <td>1</td>\n      <td>0.590696</td>\n      <td>1.000000</td>\n      <td>12552</td>\n    </tr>\n    <tr>\n      <th>196878</th>\n      <td>104</td>\n      <td>946527001</td>\n      <td>age_young</td>\n      <td>4</td>\n      <td>0.529003</td>\n      <td>2.082051</td>\n      <td>6006</td>\n    </tr>\n    <tr>\n      <th>196879</th>\n      <td>104</td>\n      <td>949594001</td>\n      <td>age_young</td>\n      <td>5</td>\n      <td>0.555147</td>\n      <td>2.443606</td>\n      <td>4868</td>\n    </tr>\n  </tbody>\n</table>\n<p>196880 rows × 7 columns</p>\n</div>"
     },
     "execution_count": 138,
     "metadata": {},
     "output_type": "execute_result"
    }
   ],
   "source": [
    "sales_counts[\"ranked_weighted_sales\"] = (sales_counts.groupby(\"week\")[\"weighted_sales\"].rank(method=\"dense\", ascending=False).astype(\"int64\"))\n",
    "sales_counts"
   ],
   "metadata": {
    "collapsed": false,
    "ExecuteTime": {
     "end_time": "2023-11-29T23:14:41.243410200Z",
     "start_time": "2023-11-29T23:14:41.133691400Z"
    }
   },
   "id": "678460033c5de6a3"
  },
  {
   "cell_type": "code",
   "execution_count": 139,
   "outputs": [
    {
     "name": "stderr",
     "output_type": "stream",
     "text": [
      "C:\\Users\\Arno\\AppData\\Local\\Temp\\ipykernel_4212\\2106188069.py:2: SettingWithCopyWarning: \n",
      "A value is trying to be set on a copy of a slice from a DataFrame.\n",
      "Try using .loc[row_indexer,col_indexer] = value instead\n",
      "\n",
      "See the caveats in the documentation: https://pandas.pydata.org/pandas-docs/stable/user_guide/indexing.html#returning-a-view-versus-a-copy\n",
      "  sales_counts.week += 1\n"
     ]
    },
    {
     "name": "stdout",
     "output_type": "stream",
     "text": [
      "[LightGBM] [Debug] Dataset::GetMultiBinFromAllFeatures: sparse rate 0.162359\n",
      "[LightGBM] [Info] Total Bins 1147\n",
      "[LightGBM] [Info] Number of data points in the train set: 11395121, number of used features: 18\n",
      "[LightGBM] [Debug] Trained a tree with leaves = 31 and depth = 12\n",
      "         ranked_weighted_sales 0.99893\n",
      "                    article_id 0.00026\n",
      "                           age 0.00024\n",
      "               product_type_no 0.00010\n",
      "              garment_group_no 0.00009\n",
      "            club_member_status 0.00007\n",
      "                   postal_code 0.00007\n",
      "                 department_no 0.00006\n",
      "       graphical_appearance_no 0.00006\n",
      "             colour_group_code 0.00005\n",
      "     perceived_colour_value_id 0.00004\n",
      "                        Active 0.00002\n",
      "                index_group_no 0.00002\n",
      "        fashion_news_frequency 0.00000\n",
      "                            FN 0.00000\n",
      "                    section_no 0.00000\n",
      "                    index_code 0.00000\n",
      "    perceived_colour_master_id 0.00000\n"
     ]
    }
   ],
   "source": [
    "sales_counts = sales_counts[sales_counts[\"ranked_weighted_sales\"] <= 12]\n",
    "sales_counts.week += 1\n",
    "sales_counts = sales_counts.sort_values(by=[\"week\", \"article_id\", \"segment\"])\n",
    "\n",
    "# A list of all customers that bought something during each week\n",
    "customers_per_week = (train_data.groupby(['week', 'customer_id', 'segment']).head(1).\n",
    "                      drop(columns=['article_id', 'price', \"t_dat\", \"season\", \"sales_channel_id\"]).drop_duplicates([\"week\",\"customer_id\"]).copy())\n",
    "candidates_bestsellers = pd.merge(customers_per_week,sales_counts,on=['week', 'segment'])\n",
    "candidates_bestsellers_test_week = customers_per_week.drop_duplicates('customer_id').reset_index(drop=True) # all customers who ever bought something\n",
    "candidates_bestsellers_test_week.week = test_week # join on test week\n",
    "candidates_bestsellers_test_week = pd.merge(candidates_bestsellers_test_week,sales_counts,on=['week', 'segment'])\n",
    "candidates_bestsellers = pd.concat([candidates_bestsellers, candidates_bestsellers_test_week])\n",
    "candidates_bestsellers.drop(columns='ranked_weighted_sales', inplace=True)\n",
    "\n",
    "### combine\n",
    "d = train_data.copy()\n",
    "d['purchased'] = True\n",
    "\n",
    "candidates = pd.concat([\n",
    "    d, candidates_last_purchase, candidates_bestsellers\n",
    "])\n",
    "candidates.purchased.fillna(False, inplace=True)\n",
    "candidates.drop_duplicates(['customer_id', 'article_id', 'week'], inplace=True)\n",
    "\n",
    "candidates = pd.merge(\n",
    "    candidates,\n",
    "    sales_counts[['week', 'article_id', 'ranked_weighted_sales']],\n",
    "    on=['week', 'article_id'],\n",
    "    how='left'\n",
    ")\n",
    "candidates = candidates[candidates.week != candidates.week.min()]\n",
    "candidates[\"ranked_weighted_sales\"].fillna(999, inplace=True)\n",
    "\n",
    "candidates.sort_values(['week', 'customer_id'], inplace=True)\n",
    "candidates.reset_index(drop=True, inplace=True)\n",
    "\n",
    "train_examples = candidates[candidates.week != test_week]\n",
    "X_train = add_features(train_examples)\n",
    "Y_train = train_examples['purchased']\n",
    "\n",
    "ranker = LGBMRanker(\n",
    "    force_row_wise=True,\n",
    "    objective=\"lambdarank\",\n",
    "    metric=\"ndcg\",\n",
    "    boosting_type=\"dart\",\n",
    "    n_estimators=1,\n",
    "    importance_type='gain',\n",
    "    verbose=10\n",
    ")\n",
    "train_groups = train_examples.groupby(['week', 'customer_id'])['article_id'].count().values\n",
    "ranker.fit(X_train, Y_train, group=train_groups)\n",
    "print_importance(ranker, X_train.columns)\n",
    "\n",
    "### test\n",
    "# candidates are generated similarly to the examples, only we don't know whether they are purchased\n",
    "# the same features are extracted and added\n",
    "# each candidate is scored by the ranker and predictions are generated using the highest scoring candidates\n",
    "test_candidates = candidates[candidates.week == test_week]\n",
    "\n",
    "X_test = add_features(test_candidates)\n",
    "predictions = get_predictions(test_candidates, X_test, ranker, 12)"
   ],
   "metadata": {
    "collapsed": false,
    "ExecuteTime": {
     "end_time": "2023-11-29T23:15:04.434083Z",
     "start_time": "2023-11-29T23:14:41.167438800Z"
    }
   },
   "id": "50c5da24ba3d7d3c"
  },
  {
   "cell_type": "code",
   "execution_count": 140,
   "outputs": [
    {
     "data": {
      "text/plain": "437365"
     },
     "execution_count": 140,
     "metadata": {},
     "output_type": "execute_result"
    }
   ],
   "source": [
    "len(predictions)"
   ],
   "metadata": {
    "collapsed": false,
    "ExecuteTime": {
     "end_time": "2023-11-29T23:15:04.452342Z",
     "start_time": "2023-11-29T23:15:04.435102200Z"
    }
   },
   "id": "e7572f34a3d20a6b"
  },
  {
   "cell_type": "code",
   "execution_count": 141,
   "outputs": [],
   "source": [
    "### evaluate\n",
    "if test_week < transactions_train.week.max() + 1:\n",
    "    # get ground truth data for test week\n",
    "    purchases = get_purchases(transactions_train[transactions_train.week == test_week])\n",
    "\n",
    "    # fill missing prediction for customers in test set with popular items in last week\n",
    "    # only for customers in test set because only those are evaluated\n",
    "    popular = transactions_train[transactions_train.week == test_week-1].article_id.value_counts().head(12).index.values\n",
    "    predictions = fill_missing_predictions(predictions, purchases.customer_id, popular)\n",
    "\n",
    "    # calculate score\n",
    "    score = mean_average_precision(predictions, purchases, 12)\n",
    "    print(score)\n",
    "    score2 = recall(predictions, purchases, 12)\n",
    "    print(score2)\n",
    "\n",
    "### submit\n",
    "else:\n",
    "    # fill missing predictions for all customers with popular items in last week\n",
    "    # all customers because we don't know which ones will be evaluated\n",
    "    popular = transactions_train[transactions_train.week == test_week-1].article_id.value_counts().head(12).index.values\n",
    "    predictions = fill_missing_predictions(predictions, customers.customer_id, popular)\n",
    "\n",
    "    # write submission\n",
    "    sub = create_submission(predictions, sample_submission)\n",
    "    sub.to_csv(path + 'sub1.csv.gz', index=False)"
   ],
   "metadata": {
    "collapsed": false,
    "ExecuteTime": {
     "end_time": "2023-11-29T23:15:20.231186300Z",
     "start_time": "2023-11-29T23:15:04.450034900Z"
    }
   },
   "id": "a016c6adacab3ea1"
  },
  {
   "cell_type": "code",
   "execution_count": 142,
   "outputs": [
    {
     "data": {
      "text/plain": "        week  article_id    segment  count  season_score  weighted_sales  \\\n2316      96   372860001  age_young    344      0.452728       14.072488   \n7835      96   547780003  age_young    423      0.494033       19.838077   \n11989     96   579541001  age_young    115      0.593275       16.693984   \n22733     96   678942001  age_young    172      0.521305       14.634976   \n22811     96   678942057  age_young    118      0.558565       14.364182   \n...      ...         ...        ...    ...           ...             ...   \n193404   105   918522001  age_young    609      0.693426       85.295233   \n193407   105   918525001  age_young    342      0.749248       79.179948   \n190339   105   924243001  age_young    852      0.747413      154.969851   \n193505   105   924243002  age_young    635      0.753048      129.009788   \n186804   105   929165002  age_young    309      0.699267       55.099133   \n\n        ranked_weighted_sales  \n2316                        7  \n7835                        1  \n11989                       2  \n22733                       4  \n22811                       6  \n...                       ...  \n193404                      4  \n193407                      5  \n190339                      1  \n193505                      2  \n186804                     12  \n\n[120 rows x 7 columns]",
      "text/html": "<div>\n<style scoped>\n    .dataframe tbody tr th:only-of-type {\n        vertical-align: middle;\n    }\n\n    .dataframe tbody tr th {\n        vertical-align: top;\n    }\n\n    .dataframe thead th {\n        text-align: right;\n    }\n</style>\n<table border=\"1\" class=\"dataframe\">\n  <thead>\n    <tr style=\"text-align: right;\">\n      <th></th>\n      <th>week</th>\n      <th>article_id</th>\n      <th>segment</th>\n      <th>count</th>\n      <th>season_score</th>\n      <th>weighted_sales</th>\n      <th>ranked_weighted_sales</th>\n    </tr>\n  </thead>\n  <tbody>\n    <tr>\n      <th>2316</th>\n      <td>96</td>\n      <td>372860001</td>\n      <td>age_young</td>\n      <td>344</td>\n      <td>0.452728</td>\n      <td>14.072488</td>\n      <td>7</td>\n    </tr>\n    <tr>\n      <th>7835</th>\n      <td>96</td>\n      <td>547780003</td>\n      <td>age_young</td>\n      <td>423</td>\n      <td>0.494033</td>\n      <td>19.838077</td>\n      <td>1</td>\n    </tr>\n    <tr>\n      <th>11989</th>\n      <td>96</td>\n      <td>579541001</td>\n      <td>age_young</td>\n      <td>115</td>\n      <td>0.593275</td>\n      <td>16.693984</td>\n      <td>2</td>\n    </tr>\n    <tr>\n      <th>22733</th>\n      <td>96</td>\n      <td>678942001</td>\n      <td>age_young</td>\n      <td>172</td>\n      <td>0.521305</td>\n      <td>14.634976</td>\n      <td>4</td>\n    </tr>\n    <tr>\n      <th>22811</th>\n      <td>96</td>\n      <td>678942057</td>\n      <td>age_young</td>\n      <td>118</td>\n      <td>0.558565</td>\n      <td>14.364182</td>\n      <td>6</td>\n    </tr>\n    <tr>\n      <th>...</th>\n      <td>...</td>\n      <td>...</td>\n      <td>...</td>\n      <td>...</td>\n      <td>...</td>\n      <td>...</td>\n      <td>...</td>\n    </tr>\n    <tr>\n      <th>193404</th>\n      <td>105</td>\n      <td>918522001</td>\n      <td>age_young</td>\n      <td>609</td>\n      <td>0.693426</td>\n      <td>85.295233</td>\n      <td>4</td>\n    </tr>\n    <tr>\n      <th>193407</th>\n      <td>105</td>\n      <td>918525001</td>\n      <td>age_young</td>\n      <td>342</td>\n      <td>0.749248</td>\n      <td>79.179948</td>\n      <td>5</td>\n    </tr>\n    <tr>\n      <th>190339</th>\n      <td>105</td>\n      <td>924243001</td>\n      <td>age_young</td>\n      <td>852</td>\n      <td>0.747413</td>\n      <td>154.969851</td>\n      <td>1</td>\n    </tr>\n    <tr>\n      <th>193505</th>\n      <td>105</td>\n      <td>924243002</td>\n      <td>age_young</td>\n      <td>635</td>\n      <td>0.753048</td>\n      <td>129.009788</td>\n      <td>2</td>\n    </tr>\n    <tr>\n      <th>186804</th>\n      <td>105</td>\n      <td>929165002</td>\n      <td>age_young</td>\n      <td>309</td>\n      <td>0.699267</td>\n      <td>55.099133</td>\n      <td>12</td>\n    </tr>\n  </tbody>\n</table>\n<p>120 rows × 7 columns</p>\n</div>"
     },
     "execution_count": 142,
     "metadata": {},
     "output_type": "execute_result"
    }
   ],
   "source": [
    "sales_counts"
   ],
   "metadata": {
    "collapsed": false,
    "ExecuteTime": {
     "end_time": "2023-11-29T23:15:20.272556700Z",
     "start_time": "2023-11-29T23:15:20.231186300Z"
    }
   },
   "id": "47cd3097cf1a3f8b"
  }
 ],
 "metadata": {
  "kernelspec": {
   "display_name": "Python 3",
   "language": "python",
   "name": "python3"
  },
  "language_info": {
   "codemirror_mode": {
    "name": "ipython",
    "version": 2
   },
   "file_extension": ".py",
   "mimetype": "text/x-python",
   "name": "python",
   "nbconvert_exporter": "python",
   "pygments_lexer": "ipython2",
   "version": "2.7.6"
  }
 },
 "nbformat": 4,
 "nbformat_minor": 5
}
