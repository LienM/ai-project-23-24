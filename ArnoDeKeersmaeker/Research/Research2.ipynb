{
 "cells": [
  {
   "cell_type": "code",
   "execution_count": 100,
   "id": "initial_id",
   "metadata": {
    "collapsed": true,
    "ExecuteTime": {
     "end_time": "2023-11-21T23:53:05.587731200Z",
     "start_time": "2023-11-21T23:53:05.352675400Z"
    }
   },
   "outputs": [],
   "source": [
    "import pandas as pd\n",
    "import seaborn as sns\n",
    "import matplotlib.pyplot as plt\n",
    "import numpy as np\n",
    "from sklearn.preprocessing import MinMaxScaler\n",
    "from lightgbm.sklearn import LGBMRanker\n",
    "from experiment_template import *\n",
    "import os as os"
   ]
  },
  {
   "cell_type": "code",
   "execution_count": 101,
   "outputs": [
    {
     "name": "stdout",
     "output_type": "stream",
     "text": [
      "C:\\Users\\Arno\\Documents\\GitHub\\ai-project-23-24\\ArnoDeKeersmaeker\\Research\n"
     ]
    }
   ],
   "source": [
    "path = \"../Data/\"\n",
    "print(os.getcwd())\n",
    "transactions_train = pd.read_parquet(path + 'transactions_train.parquet')\n",
    "customers = pd.read_parquet(path + 'customers.parquet')\n",
    "articles = pd.read_parquet(path + 'articles.parquet')\n",
    "sample_submission = pd.read_csv(path + 'sample_submission.csv')"
   ],
   "metadata": {
    "collapsed": false,
    "ExecuteTime": {
     "end_time": "2023-11-21T23:53:08.239352200Z",
     "start_time": "2023-11-21T23:53:05.368679100Z"
    }
   },
   "id": "7cdfc3d97fe55e09"
  },
  {
   "cell_type": "code",
   "execution_count": 102,
   "outputs": [
    {
     "data": {
      "text/plain": "           t_dat       customer_id  article_id     price  sales_channel_id  \\\n25784 2018-09-20  1728846800780188   519773001  0.028458                 2   \n25785 2018-09-20  1728846800780188   578472001  0.032525                 2   \n5389  2018-09-20  2076973761519164   661795002  0.167797                 2   \n5390  2018-09-20  2076973761519164   684080003  0.101678                 2   \n47429 2018-09-20  2918879973994241   662980001  0.033881                 1   \n\n       week  \n25784     0  \n25785     0  \n5389      0  \n5390      0  \n47429     0  ",
      "text/html": "<div>\n<style scoped>\n    .dataframe tbody tr th:only-of-type {\n        vertical-align: middle;\n    }\n\n    .dataframe tbody tr th {\n        vertical-align: top;\n    }\n\n    .dataframe thead th {\n        text-align: right;\n    }\n</style>\n<table border=\"1\" class=\"dataframe\">\n  <thead>\n    <tr style=\"text-align: right;\">\n      <th></th>\n      <th>t_dat</th>\n      <th>customer_id</th>\n      <th>article_id</th>\n      <th>price</th>\n      <th>sales_channel_id</th>\n      <th>week</th>\n    </tr>\n  </thead>\n  <tbody>\n    <tr>\n      <th>25784</th>\n      <td>2018-09-20</td>\n      <td>1728846800780188</td>\n      <td>519773001</td>\n      <td>0.028458</td>\n      <td>2</td>\n      <td>0</td>\n    </tr>\n    <tr>\n      <th>25785</th>\n      <td>2018-09-20</td>\n      <td>1728846800780188</td>\n      <td>578472001</td>\n      <td>0.032525</td>\n      <td>2</td>\n      <td>0</td>\n    </tr>\n    <tr>\n      <th>5389</th>\n      <td>2018-09-20</td>\n      <td>2076973761519164</td>\n      <td>661795002</td>\n      <td>0.167797</td>\n      <td>2</td>\n      <td>0</td>\n    </tr>\n    <tr>\n      <th>5390</th>\n      <td>2018-09-20</td>\n      <td>2076973761519164</td>\n      <td>684080003</td>\n      <td>0.101678</td>\n      <td>2</td>\n      <td>0</td>\n    </tr>\n    <tr>\n      <th>47429</th>\n      <td>2018-09-20</td>\n      <td>2918879973994241</td>\n      <td>662980001</td>\n      <td>0.033881</td>\n      <td>1</td>\n      <td>0</td>\n    </tr>\n  </tbody>\n</table>\n</div>"
     },
     "execution_count": 102,
     "metadata": {},
     "output_type": "execute_result"
    }
   ],
   "source": [
    "transactions_train.head()"
   ],
   "metadata": {
    "collapsed": false,
    "ExecuteTime": {
     "end_time": "2023-11-21T23:53:08.251355100Z",
     "start_time": "2023-11-21T23:53:08.229350500Z"
    }
   },
   "id": "5ec05ab31f8b36b3"
  },
  {
   "cell_type": "code",
   "execution_count": 103,
   "outputs": [],
   "source": [
    "# Define periods here\n",
    "seasons = {\n",
    "    \"Summer\": [6,7,8],\n",
    "    \"Autumn\": [9,10,11],\n",
    "    \"Winter\": [12,1,2],\n",
    "    \"Spring\": [3,4,5]\n",
    "}\n",
    "# Define the name of the current period (end of September)\n",
    "current_season = \"Autumn\"\n",
    "\n",
    "assert current_season in seasons.keys() # Current period exists\n",
    "assert set(month_nr for month_nrs in seasons.values() for month_nr in month_nrs) == set(range(1,13)) # All months are in a period\n",
    "inverted = {month_nr: period for period, month_nrs in seasons.items() for month_nr in month_nrs} # For more efficient lookup\n",
    "\n",
    "def get_season(month_nr):\n",
    "    assert month_nr in range(1,13)\n",
    "    return inverted[month_nr]\n",
    "\n",
    "transactions_train[\"t_dat\"] = pd.to_datetime(transactions_train[\"t_dat\"])\n",
    "transactions_train[\"season\"] = transactions_train[\"t_dat\"].dt.month.apply(get_season)"
   ],
   "metadata": {
    "collapsed": false,
    "ExecuteTime": {
     "end_time": "2023-11-21T23:53:13.531593Z",
     "start_time": "2023-11-21T23:53:08.245353900Z"
    }
   },
   "id": "61c8333e12d7c0"
  },
  {
   "cell_type": "code",
   "execution_count": 104,
   "outputs": [
    {
     "data": {
      "text/plain": "           t_dat       customer_id  article_id     price  sales_channel_id  \\\n25784 2018-09-20  1728846800780188   519773001  0.028458                 2   \n25785 2018-09-20  1728846800780188   578472001  0.032525                 2   \n5389  2018-09-20  2076973761519164   661795002  0.167797                 2   \n5390  2018-09-20  2076973761519164   684080003  0.101678                 2   \n47429 2018-09-20  2918879973994241   662980001  0.033881                 1   \n\n       week  season  \n25784     0  Autumn  \n25785     0  Autumn  \n5389      0  Autumn  \n5390      0  Autumn  \n47429     0  Autumn  ",
      "text/html": "<div>\n<style scoped>\n    .dataframe tbody tr th:only-of-type {\n        vertical-align: middle;\n    }\n\n    .dataframe tbody tr th {\n        vertical-align: top;\n    }\n\n    .dataframe thead th {\n        text-align: right;\n    }\n</style>\n<table border=\"1\" class=\"dataframe\">\n  <thead>\n    <tr style=\"text-align: right;\">\n      <th></th>\n      <th>t_dat</th>\n      <th>customer_id</th>\n      <th>article_id</th>\n      <th>price</th>\n      <th>sales_channel_id</th>\n      <th>week</th>\n      <th>season</th>\n    </tr>\n  </thead>\n  <tbody>\n    <tr>\n      <th>25784</th>\n      <td>2018-09-20</td>\n      <td>1728846800780188</td>\n      <td>519773001</td>\n      <td>0.028458</td>\n      <td>2</td>\n      <td>0</td>\n      <td>Autumn</td>\n    </tr>\n    <tr>\n      <th>25785</th>\n      <td>2018-09-20</td>\n      <td>1728846800780188</td>\n      <td>578472001</td>\n      <td>0.032525</td>\n      <td>2</td>\n      <td>0</td>\n      <td>Autumn</td>\n    </tr>\n    <tr>\n      <th>5389</th>\n      <td>2018-09-20</td>\n      <td>2076973761519164</td>\n      <td>661795002</td>\n      <td>0.167797</td>\n      <td>2</td>\n      <td>0</td>\n      <td>Autumn</td>\n    </tr>\n    <tr>\n      <th>5390</th>\n      <td>2018-09-20</td>\n      <td>2076973761519164</td>\n      <td>684080003</td>\n      <td>0.101678</td>\n      <td>2</td>\n      <td>0</td>\n      <td>Autumn</td>\n    </tr>\n    <tr>\n      <th>47429</th>\n      <td>2018-09-20</td>\n      <td>2918879973994241</td>\n      <td>662980001</td>\n      <td>0.033881</td>\n      <td>1</td>\n      <td>0</td>\n      <td>Autumn</td>\n    </tr>\n  </tbody>\n</table>\n</div>"
     },
     "execution_count": 104,
     "metadata": {},
     "output_type": "execute_result"
    }
   ],
   "source": [
    "transactions_train.head()"
   ],
   "metadata": {
    "collapsed": false,
    "ExecuteTime": {
     "end_time": "2023-11-21T23:53:13.547596600Z",
     "start_time": "2023-11-21T23:53:13.531593Z"
    }
   },
   "id": "70704c92f8580d8f"
  },
  {
   "cell_type": "code",
   "execution_count": 105,
   "outputs": [
    {
     "data": {
      "text/plain": "         season           customer_id  count\n0        Autumn        25398598941468      1\n1        Autumn        28847241659200     26\n2        Autumn        41318098387474      6\n3        Autumn        43757848922470     10\n4        Autumn        77117344919861     71\n...         ...                   ...    ...\n3078769  Winter  18446624797007271432      8\n3078770  Winter  18446627193867800506      5\n3078771  Winter  18446630855572834764      4\n3078772  Winter  18446662237889060501      2\n3078773  Winter  18446737527580148316     18\n\n[3078774 rows x 3 columns]",
      "text/html": "<div>\n<style scoped>\n    .dataframe tbody tr th:only-of-type {\n        vertical-align: middle;\n    }\n\n    .dataframe tbody tr th {\n        vertical-align: top;\n    }\n\n    .dataframe thead th {\n        text-align: right;\n    }\n</style>\n<table border=\"1\" class=\"dataframe\">\n  <thead>\n    <tr style=\"text-align: right;\">\n      <th></th>\n      <th>season</th>\n      <th>customer_id</th>\n      <th>count</th>\n    </tr>\n  </thead>\n  <tbody>\n    <tr>\n      <th>0</th>\n      <td>Autumn</td>\n      <td>25398598941468</td>\n      <td>1</td>\n    </tr>\n    <tr>\n      <th>1</th>\n      <td>Autumn</td>\n      <td>28847241659200</td>\n      <td>26</td>\n    </tr>\n    <tr>\n      <th>2</th>\n      <td>Autumn</td>\n      <td>41318098387474</td>\n      <td>6</td>\n    </tr>\n    <tr>\n      <th>3</th>\n      <td>Autumn</td>\n      <td>43757848922470</td>\n      <td>10</td>\n    </tr>\n    <tr>\n      <th>4</th>\n      <td>Autumn</td>\n      <td>77117344919861</td>\n      <td>71</td>\n    </tr>\n    <tr>\n      <th>...</th>\n      <td>...</td>\n      <td>...</td>\n      <td>...</td>\n    </tr>\n    <tr>\n      <th>3078769</th>\n      <td>Winter</td>\n      <td>18446624797007271432</td>\n      <td>8</td>\n    </tr>\n    <tr>\n      <th>3078770</th>\n      <td>Winter</td>\n      <td>18446627193867800506</td>\n      <td>5</td>\n    </tr>\n    <tr>\n      <th>3078771</th>\n      <td>Winter</td>\n      <td>18446630855572834764</td>\n      <td>4</td>\n    </tr>\n    <tr>\n      <th>3078772</th>\n      <td>Winter</td>\n      <td>18446662237889060501</td>\n      <td>2</td>\n    </tr>\n    <tr>\n      <th>3078773</th>\n      <td>Winter</td>\n      <td>18446737527580148316</td>\n      <td>18</td>\n    </tr>\n  </tbody>\n</table>\n<p>3078774 rows × 3 columns</p>\n</div>"
     },
     "execution_count": 105,
     "metadata": {},
     "output_type": "execute_result"
    }
   ],
   "source": [
    "temp1 = transactions_train.groupby([\"season\", \"customer_id\"]).size().reset_index(name=\"count\")\n",
    "temp1"
   ],
   "metadata": {
    "collapsed": false,
    "ExecuteTime": {
     "end_time": "2023-11-21T23:53:16.665328600Z",
     "start_time": "2023-11-21T23:53:13.547596600Z"
    }
   },
   "id": "58bb28fe02c7add6"
  },
  {
   "cell_type": "code",
   "execution_count": 106,
   "outputs": [
    {
     "data": {
      "text/plain": "                  customer_id  FN  Active  club_member_status  \\\n0         6883939031699146327  -1      -1                   0   \n1        11246327431398957306  -1      -1                   0   \n2        18439897732908966680  -1      -1                   0   \n3        18352672461570950206  -1      -1                   0   \n4        18162778555210377306   1       1                   0   \n...                       ...  ..     ...                 ...   \n1371975   7551062398649767985  -1      -1                   0   \n1371976   9305341941720086711  -1      -1                   0   \n1371977  10160427316885688932   1       1                   0   \n1371978   2551401172826382186   1       1                   0   \n1371979  16929951892735599169  -1      -1                   1   \n\n         fashion_news_frequency  age  postal_code  \n0                             0   49         6305  \n1                             0   25        33726  \n2                             0   24         3247  \n3                             0   54       168643  \n4                             1   52       168645  \n...                         ...  ...          ...  \n1371975                       0   24        50351  \n1371976                       0   21        80169  \n1371977                       1   21       106737  \n1371978                       1   18       111894  \n1371979                       0   65       352898  \n\n[1371980 rows x 7 columns]",
      "text/html": "<div>\n<style scoped>\n    .dataframe tbody tr th:only-of-type {\n        vertical-align: middle;\n    }\n\n    .dataframe tbody tr th {\n        vertical-align: top;\n    }\n\n    .dataframe thead th {\n        text-align: right;\n    }\n</style>\n<table border=\"1\" class=\"dataframe\">\n  <thead>\n    <tr style=\"text-align: right;\">\n      <th></th>\n      <th>customer_id</th>\n      <th>FN</th>\n      <th>Active</th>\n      <th>club_member_status</th>\n      <th>fashion_news_frequency</th>\n      <th>age</th>\n      <th>postal_code</th>\n    </tr>\n  </thead>\n  <tbody>\n    <tr>\n      <th>0</th>\n      <td>6883939031699146327</td>\n      <td>-1</td>\n      <td>-1</td>\n      <td>0</td>\n      <td>0</td>\n      <td>49</td>\n      <td>6305</td>\n    </tr>\n    <tr>\n      <th>1</th>\n      <td>11246327431398957306</td>\n      <td>-1</td>\n      <td>-1</td>\n      <td>0</td>\n      <td>0</td>\n      <td>25</td>\n      <td>33726</td>\n    </tr>\n    <tr>\n      <th>2</th>\n      <td>18439897732908966680</td>\n      <td>-1</td>\n      <td>-1</td>\n      <td>0</td>\n      <td>0</td>\n      <td>24</td>\n      <td>3247</td>\n    </tr>\n    <tr>\n      <th>3</th>\n      <td>18352672461570950206</td>\n      <td>-1</td>\n      <td>-1</td>\n      <td>0</td>\n      <td>0</td>\n      <td>54</td>\n      <td>168643</td>\n    </tr>\n    <tr>\n      <th>4</th>\n      <td>18162778555210377306</td>\n      <td>1</td>\n      <td>1</td>\n      <td>0</td>\n      <td>1</td>\n      <td>52</td>\n      <td>168645</td>\n    </tr>\n    <tr>\n      <th>...</th>\n      <td>...</td>\n      <td>...</td>\n      <td>...</td>\n      <td>...</td>\n      <td>...</td>\n      <td>...</td>\n      <td>...</td>\n    </tr>\n    <tr>\n      <th>1371975</th>\n      <td>7551062398649767985</td>\n      <td>-1</td>\n      <td>-1</td>\n      <td>0</td>\n      <td>0</td>\n      <td>24</td>\n      <td>50351</td>\n    </tr>\n    <tr>\n      <th>1371976</th>\n      <td>9305341941720086711</td>\n      <td>-1</td>\n      <td>-1</td>\n      <td>0</td>\n      <td>0</td>\n      <td>21</td>\n      <td>80169</td>\n    </tr>\n    <tr>\n      <th>1371977</th>\n      <td>10160427316885688932</td>\n      <td>1</td>\n      <td>1</td>\n      <td>0</td>\n      <td>1</td>\n      <td>21</td>\n      <td>106737</td>\n    </tr>\n    <tr>\n      <th>1371978</th>\n      <td>2551401172826382186</td>\n      <td>1</td>\n      <td>1</td>\n      <td>0</td>\n      <td>1</td>\n      <td>18</td>\n      <td>111894</td>\n    </tr>\n    <tr>\n      <th>1371979</th>\n      <td>16929951892735599169</td>\n      <td>-1</td>\n      <td>-1</td>\n      <td>1</td>\n      <td>0</td>\n      <td>65</td>\n      <td>352898</td>\n    </tr>\n  </tbody>\n</table>\n<p>1371980 rows × 7 columns</p>\n</div>"
     },
     "execution_count": 106,
     "metadata": {},
     "output_type": "execute_result"
    }
   ],
   "source": [
    "# replace age -1 by average age\n",
    "average_age = int(customers[customers['age'] != -1]['age'].mean())\n",
    "customers['age'] = customers['age'].replace(-1, int(average_age))\n",
    "customers"
   ],
   "metadata": {
    "collapsed": false,
    "ExecuteTime": {
     "end_time": "2023-11-21T23:53:16.730343800Z",
     "start_time": "2023-11-21T23:53:16.665328600Z"
    }
   },
   "id": "8624fac23ec975c1"
  },
  {
   "cell_type": "code",
   "execution_count": 107,
   "outputs": [
    {
     "data": {
      "text/plain": "   FN   count\n0  -1  895050\n1   1  476930",
      "text/html": "<div>\n<style scoped>\n    .dataframe tbody tr th:only-of-type {\n        vertical-align: middle;\n    }\n\n    .dataframe tbody tr th {\n        vertical-align: top;\n    }\n\n    .dataframe thead th {\n        text-align: right;\n    }\n</style>\n<table border=\"1\" class=\"dataframe\">\n  <thead>\n    <tr style=\"text-align: right;\">\n      <th></th>\n      <th>FN</th>\n      <th>count</th>\n    </tr>\n  </thead>\n  <tbody>\n    <tr>\n      <th>0</th>\n      <td>-1</td>\n      <td>895050</td>\n    </tr>\n    <tr>\n      <th>1</th>\n      <td>1</td>\n      <td>476930</td>\n    </tr>\n  </tbody>\n</table>\n</div>"
     },
     "execution_count": 107,
     "metadata": {},
     "output_type": "execute_result"
    }
   ],
   "source": [
    "customers.groupby([\"FN\"]).size().reset_index(name=\"count\")"
   ],
   "metadata": {
    "collapsed": false,
    "ExecuteTime": {
     "end_time": "2023-11-21T23:53:16.750347400Z",
     "start_time": "2023-11-21T23:53:16.713338900Z"
    }
   },
   "id": "d38b1863f61f91c8"
  },
  {
   "cell_type": "code",
   "execution_count": 108,
   "outputs": [
    {
     "name": "stdout",
     "output_type": "stream",
     "text": [
      "['middle/no_FN', 'middle/yes_FN', 'young/yes_FN', 'young/no_FN']\n"
     ]
    },
    {
     "data": {
      "text/plain": "                  customer_id  FN  Active  club_member_status  \\\n0         6883939031699146327  -1      -1                   0   \n1        11246327431398957306  -1      -1                   0   \n2        18439897732908966680  -1      -1                   0   \n3        18352672461570950206  -1      -1                   0   \n4        18162778555210377306   1       1                   0   \n...                       ...  ..     ...                 ...   \n1371975   7551062398649767985  -1      -1                   0   \n1371976   9305341941720086711  -1      -1                   0   \n1371977  10160427316885688932   1       1                   0   \n1371978   2551401172826382186   1       1                   0   \n1371979  16929951892735599169  -1      -1                   1   \n\n         fashion_news_frequency  age  postal_code        segment  \n0                             0   49         6305   middle/no_FN  \n1                             0   25        33726    young/no_FN  \n2                             0   24         3247    young/no_FN  \n3                             0   54       168643   middle/no_FN  \n4                             1   52       168645  middle/yes_FN  \n...                         ...  ...          ...            ...  \n1371975                       0   24        50351    young/no_FN  \n1371976                       0   21        80169    young/no_FN  \n1371977                       1   21       106737   young/yes_FN  \n1371978                       1   18       111894   young/yes_FN  \n1371979                       0   65       352898   middle/no_FN  \n\n[1371980 rows x 8 columns]",
      "text/html": "<div>\n<style scoped>\n    .dataframe tbody tr th:only-of-type {\n        vertical-align: middle;\n    }\n\n    .dataframe tbody tr th {\n        vertical-align: top;\n    }\n\n    .dataframe thead th {\n        text-align: right;\n    }\n</style>\n<table border=\"1\" class=\"dataframe\">\n  <thead>\n    <tr style=\"text-align: right;\">\n      <th></th>\n      <th>customer_id</th>\n      <th>FN</th>\n      <th>Active</th>\n      <th>club_member_status</th>\n      <th>fashion_news_frequency</th>\n      <th>age</th>\n      <th>postal_code</th>\n      <th>segment</th>\n    </tr>\n  </thead>\n  <tbody>\n    <tr>\n      <th>0</th>\n      <td>6883939031699146327</td>\n      <td>-1</td>\n      <td>-1</td>\n      <td>0</td>\n      <td>0</td>\n      <td>49</td>\n      <td>6305</td>\n      <td>middle/no_FN</td>\n    </tr>\n    <tr>\n      <th>1</th>\n      <td>11246327431398957306</td>\n      <td>-1</td>\n      <td>-1</td>\n      <td>0</td>\n      <td>0</td>\n      <td>25</td>\n      <td>33726</td>\n      <td>young/no_FN</td>\n    </tr>\n    <tr>\n      <th>2</th>\n      <td>18439897732908966680</td>\n      <td>-1</td>\n      <td>-1</td>\n      <td>0</td>\n      <td>0</td>\n      <td>24</td>\n      <td>3247</td>\n      <td>young/no_FN</td>\n    </tr>\n    <tr>\n      <th>3</th>\n      <td>18352672461570950206</td>\n      <td>-1</td>\n      <td>-1</td>\n      <td>0</td>\n      <td>0</td>\n      <td>54</td>\n      <td>168643</td>\n      <td>middle/no_FN</td>\n    </tr>\n    <tr>\n      <th>4</th>\n      <td>18162778555210377306</td>\n      <td>1</td>\n      <td>1</td>\n      <td>0</td>\n      <td>1</td>\n      <td>52</td>\n      <td>168645</td>\n      <td>middle/yes_FN</td>\n    </tr>\n    <tr>\n      <th>...</th>\n      <td>...</td>\n      <td>...</td>\n      <td>...</td>\n      <td>...</td>\n      <td>...</td>\n      <td>...</td>\n      <td>...</td>\n      <td>...</td>\n    </tr>\n    <tr>\n      <th>1371975</th>\n      <td>7551062398649767985</td>\n      <td>-1</td>\n      <td>-1</td>\n      <td>0</td>\n      <td>0</td>\n      <td>24</td>\n      <td>50351</td>\n      <td>young/no_FN</td>\n    </tr>\n    <tr>\n      <th>1371976</th>\n      <td>9305341941720086711</td>\n      <td>-1</td>\n      <td>-1</td>\n      <td>0</td>\n      <td>0</td>\n      <td>21</td>\n      <td>80169</td>\n      <td>young/no_FN</td>\n    </tr>\n    <tr>\n      <th>1371977</th>\n      <td>10160427316885688932</td>\n      <td>1</td>\n      <td>1</td>\n      <td>0</td>\n      <td>1</td>\n      <td>21</td>\n      <td>106737</td>\n      <td>young/yes_FN</td>\n    </tr>\n    <tr>\n      <th>1371978</th>\n      <td>2551401172826382186</td>\n      <td>1</td>\n      <td>1</td>\n      <td>0</td>\n      <td>1</td>\n      <td>18</td>\n      <td>111894</td>\n      <td>young/yes_FN</td>\n    </tr>\n    <tr>\n      <th>1371979</th>\n      <td>16929951892735599169</td>\n      <td>-1</td>\n      <td>-1</td>\n      <td>1</td>\n      <td>0</td>\n      <td>65</td>\n      <td>352898</td>\n      <td>middle/no_FN</td>\n    </tr>\n  </tbody>\n</table>\n<p>1371980 rows × 8 columns</p>\n</div>"
     },
     "execution_count": 108,
     "metadata": {},
     "output_type": "execute_result"
    }
   ],
   "source": [
    "# Define customer segments. Defined columns need to exist for customer\n",
    "segments = {\n",
    "    \"age\" : {float(age): \"young\" if age < 35 else \"middle\" for age in range(0,120)},\n",
    "    \"FN\" : {1.0 : \"yes_FN\", -1.0: \"no_FN\"},\n",
    "    # \"age\" : {float(age): \"age_young\" for age in range(0,120)}\n",
    "}\n",
    "\n",
    "for column in segments.keys():\n",
    "    assert column in customers.columns\n",
    "\n",
    "segmented_customers = customers.copy()\n",
    "segment_names = set()\n",
    "\n",
    "def assign_segment(row):\n",
    "    # Decide the segment for a single customer\n",
    "    segment_name = [segments[column][row[column]] for column in segments]\n",
    "    segment_name = \"/\".join(segment_name)\n",
    "    segment_names.add(segment_name)\n",
    "    return segment_name\n",
    "\n",
    "# Apply to every customer\n",
    "segmented_customers['segment'] = customers.apply(assign_segment, axis=1)\n",
    "segment_names = list(segment_names)\n",
    "\n",
    "print(segment_names)\n",
    "segmented_customers"
   ],
   "metadata": {
    "collapsed": false,
    "ExecuteTime": {
     "end_time": "2023-11-21T23:53:21.846542600Z",
     "start_time": "2023-11-21T23:53:16.744347Z"
    }
   },
   "id": "be2b9c02522df743"
  },
  {
   "cell_type": "code",
   "execution_count": 109,
   "outputs": [],
   "source": [
    "# We only need id and segment in order to join with transactions\n",
    "segmented_customers = segmented_customers[['customer_id', 'segment']]"
   ],
   "metadata": {
    "collapsed": false,
    "ExecuteTime": {
     "end_time": "2023-11-21T23:53:21.903556400Z",
     "start_time": "2023-11-21T23:53:21.841542200Z"
    }
   },
   "id": "c46dfff4a5c44688"
  },
  {
   "cell_type": "code",
   "execution_count": 110,
   "outputs": [
    {
     "data": {
      "text/plain": "<Axes: xlabel='segment'>"
     },
     "execution_count": 110,
     "metadata": {},
     "output_type": "execute_result"
    },
    {
     "data": {
      "text/plain": "<Figure size 640x480 with 1 Axes>",
      "image/png": "[encoded data removed]"
     },
     "metadata": {},
     "output_type": "display_data"
    }
   ],
   "source": [
    "# visualize segment sizes\n",
    "segmented_customers['segment'].value_counts().plot(kind='bar')"
   ],
   "metadata": {
    "collapsed": false,
    "ExecuteTime": {
     "end_time": "2023-11-21T23:53:22.022584500Z",
     "start_time": "2023-11-21T23:53:21.873549400Z"
    }
   },
   "id": "e37c92b1fddb6f7e"
  },
  {
   "cell_type": "code",
   "execution_count": 111,
   "outputs": [
    {
     "name": "stdout",
     "output_type": "stream",
     "text": [
      "dict_keys(['middle/no_FN', 'middle/yes_FN', 'young/yes_FN', 'young/no_FN'])\n"
     ]
    }
   ],
   "source": [
    "# split the transactions into a dictionary of transactions per segment\n",
    "transactions_per_segment = {}\n",
    "transactions = pd.merge(transactions_train, segmented_customers, on=\"customer_id\") # add segment to customers\n",
    "\n",
    "# split transactions into segments\n",
    "for segment_name in segment_names: \n",
    "    transactions_per_segment[segment_name] = transactions[transactions['segment'] == segment_name]\n",
    "print(transactions_per_segment.keys())"
   ],
   "metadata": {
    "collapsed": false,
    "ExecuteTime": {
     "end_time": "2023-11-21T23:53:32.015798100Z",
     "start_time": "2023-11-21T23:53:22.016582500Z"
    }
   },
   "id": "6e52565b297ecdbd"
  },
  {
   "cell_type": "code",
   "execution_count": 112,
   "outputs": [
    {
     "data": {
      "text/plain": "              t_dat           customer_id  article_id     price  \\\n0        2018-09-20      1728846800780188   519773001  0.028458   \n1        2018-09-20      1728846800780188   578472001  0.032525   \n2        2018-10-05      1728846800780188   533518001  0.047441   \n3        2018-10-05      1728846800780188   569981006  0.020322   \n4        2018-10-05      1728846800780188   669393001  0.067797   \n...             ...                   ...         ...       ...   \n31788288 2020-09-22  18136705109168211928   922625004  0.022864   \n31788320 2020-09-22  18417769707947924979   729860001  0.022017   \n31788321 2020-09-22  18417769707947924979   889747001  0.022017   \n31788322 2020-09-22  18417769707947924979   778517001  0.022017   \n31788323 2020-09-22  18417769707947924979   872002001  0.011847   \n\n          sales_channel_id  week  season       segment  \n0                        2     0  Autumn  middle/no_FN  \n1                        2     0  Autumn  middle/no_FN  \n2                        2     2  Autumn  middle/no_FN  \n3                        2     2  Autumn  middle/no_FN  \n4                        2     2  Autumn  middle/no_FN  \n...                    ...   ...     ...           ...  \n31788288                 1   104  Autumn  middle/no_FN  \n31788320                 2   104  Autumn  middle/no_FN  \n31788321                 2   104  Autumn  middle/no_FN  \n31788322                 2   104  Autumn  middle/no_FN  \n31788323                 2   104  Autumn  middle/no_FN  \n\n[7455772 rows x 8 columns]",
      "text/html": "<div>\n<style scoped>\n    .dataframe tbody tr th:only-of-type {\n        vertical-align: middle;\n    }\n\n    .dataframe tbody tr th {\n        vertical-align: top;\n    }\n\n    .dataframe thead th {\n        text-align: right;\n    }\n</style>\n<table border=\"1\" class=\"dataframe\">\n  <thead>\n    <tr style=\"text-align: right;\">\n      <th></th>\n      <th>t_dat</th>\n      <th>customer_id</th>\n      <th>article_id</th>\n      <th>price</th>\n      <th>sales_channel_id</th>\n      <th>week</th>\n      <th>season</th>\n      <th>segment</th>\n    </tr>\n  </thead>\n  <tbody>\n    <tr>\n      <th>0</th>\n      <td>2018-09-20</td>\n      <td>1728846800780188</td>\n      <td>519773001</td>\n      <td>0.028458</td>\n      <td>2</td>\n      <td>0</td>\n      <td>Autumn</td>\n      <td>middle/no_FN</td>\n    </tr>\n    <tr>\n      <th>1</th>\n      <td>2018-09-20</td>\n      <td>1728846800780188</td>\n      <td>578472001</td>\n      <td>0.032525</td>\n      <td>2</td>\n      <td>0</td>\n      <td>Autumn</td>\n      <td>middle/no_FN</td>\n    </tr>\n    <tr>\n      <th>2</th>\n      <td>2018-10-05</td>\n      <td>1728846800780188</td>\n      <td>533518001</td>\n      <td>0.047441</td>\n      <td>2</td>\n      <td>2</td>\n      <td>Autumn</td>\n      <td>middle/no_FN</td>\n    </tr>\n    <tr>\n      <th>3</th>\n      <td>2018-10-05</td>\n      <td>1728846800780188</td>\n      <td>569981006</td>\n      <td>0.020322</td>\n      <td>2</td>\n      <td>2</td>\n      <td>Autumn</td>\n      <td>middle/no_FN</td>\n    </tr>\n    <tr>\n      <th>4</th>\n      <td>2018-10-05</td>\n      <td>1728846800780188</td>\n      <td>669393001</td>\n      <td>0.067797</td>\n      <td>2</td>\n      <td>2</td>\n      <td>Autumn</td>\n      <td>middle/no_FN</td>\n    </tr>\n    <tr>\n      <th>...</th>\n      <td>...</td>\n      <td>...</td>\n      <td>...</td>\n      <td>...</td>\n      <td>...</td>\n      <td>...</td>\n      <td>...</td>\n      <td>...</td>\n    </tr>\n    <tr>\n      <th>31788288</th>\n      <td>2020-09-22</td>\n      <td>18136705109168211928</td>\n      <td>922625004</td>\n      <td>0.022864</td>\n      <td>1</td>\n      <td>104</td>\n      <td>Autumn</td>\n      <td>middle/no_FN</td>\n    </tr>\n    <tr>\n      <th>31788320</th>\n      <td>2020-09-22</td>\n      <td>18417769707947924979</td>\n      <td>729860001</td>\n      <td>0.022017</td>\n      <td>2</td>\n      <td>104</td>\n      <td>Autumn</td>\n      <td>middle/no_FN</td>\n    </tr>\n    <tr>\n      <th>31788321</th>\n      <td>2020-09-22</td>\n      <td>18417769707947924979</td>\n      <td>889747001</td>\n      <td>0.022017</td>\n      <td>2</td>\n      <td>104</td>\n      <td>Autumn</td>\n      <td>middle/no_FN</td>\n    </tr>\n    <tr>\n      <th>31788322</th>\n      <td>2020-09-22</td>\n      <td>18417769707947924979</td>\n      <td>778517001</td>\n      <td>0.022017</td>\n      <td>2</td>\n      <td>104</td>\n      <td>Autumn</td>\n      <td>middle/no_FN</td>\n    </tr>\n    <tr>\n      <th>31788323</th>\n      <td>2020-09-22</td>\n      <td>18417769707947924979</td>\n      <td>872002001</td>\n      <td>0.011847</td>\n      <td>2</td>\n      <td>104</td>\n      <td>Autumn</td>\n      <td>middle/no_FN</td>\n    </tr>\n  </tbody>\n</table>\n<p>7455772 rows × 8 columns</p>\n</div>"
     },
     "execution_count": 112,
     "metadata": {},
     "output_type": "execute_result"
    }
   ],
   "source": [
    "next(iter(transactions_per_segment.values()))"
   ],
   "metadata": {
    "collapsed": false,
    "ExecuteTime": {
     "end_time": "2023-11-21T23:53:32.046805200Z",
     "start_time": "2023-11-21T23:53:32.016798300Z"
    }
   },
   "id": "52fc7748f17adeff"
  },
  {
   "cell_type": "code",
   "execution_count": 113,
   "outputs": [
    {
     "data": {
      "text/plain": "{'middle/no_FN': 0.25116500343626386,\n 'middle/yes_FN': 0.2461921497595569,\n 'young/yes_FN': 0.23170358342509476,\n 'young/no_FN': 0.23464894437591738}"
     },
     "execution_count": 113,
     "metadata": {},
     "output_type": "execute_result"
    }
   ],
   "source": [
    "# for each segment, find the relative size of the current season compared to all seasons\n",
    "\n",
    "relative_size_per_segment = {}\n",
    "\n",
    "# calculated fully separated based on segment\n",
    "for segment_name, segment in transactions_per_segment.items():\n",
    "    current_period_size = len(segment[segment['season'] == current_season]) # amount of transactions in current season\n",
    "    all_periods_size = len(segment) # amount of transactions in all seasons\n",
    "    relative_size_per_segment[segment_name] = current_period_size / all_periods_size\n",
    "\n",
    "relative_size_per_segment"
   ],
   "metadata": {
    "collapsed": false,
    "ExecuteTime": {
     "end_time": "2023-11-21T23:53:33.456135400Z",
     "start_time": "2023-11-21T23:53:32.032802300Z"
    }
   },
   "id": "67ccee6d36423491"
  },
  {
   "cell_type": "code",
   "execution_count": 114,
   "outputs": [],
   "source": [
    "all_scores = {}\n",
    "all_scores2 = {}\n",
    "\n",
    "# features to use for calculating seasonal score\n",
    "features = [\"prod_name\", \"product_type_name\", \"product_group_name\", \"graphical_appearance_name\", \"colour_group_name\", \"perceived_colour_value_name\", \"perceived_colour_master_name\", \"department_name\", \"index_name\", \"index_group_name\", \"section_name\", \"garment_group_name\"]"
   ],
   "metadata": {
    "collapsed": false,
    "ExecuteTime": {
     "end_time": "2023-11-21T23:53:33.469139300Z",
     "start_time": "2023-11-21T23:53:33.453135800Z"
    }
   },
   "id": "1198c29ee4ed88b9"
  },
  {
   "cell_type": "code",
   "execution_count": 115,
   "outputs": [
    {
     "name": "stdout",
     "output_type": "stream",
     "text": [
      "Current segment: middle/no_FN\n",
      "Current segment: middle/yes_FN\n",
      "Current segment: young/yes_FN\n",
      "Current segment: young/no_FN\n",
      "Done\n"
     ]
    }
   ],
   "source": [
    "# for each segment, calculate all scores separately\n",
    "for segment_name, segment_transactions in transactions_per_segment.items():\n",
    "    print(f\"Current segment: {segment_name}\")\n",
    "    segment_transactions = pd.merge(segment_transactions, articles, on=\"article_id\")\n",
    "    \n",
    "    # find the ratio for each feature\n",
    "    for feature in features:\n",
    "        seasonal_sales_by_type = segment_transactions.groupby([\"season\", feature])[\"article_id\"].size().reset_index(name=\"count\")\n",
    "        assert seasonal_sales_by_type[\"count\"].sum() == len(segment_transactions)\n",
    "        relative_season_size = 1 / relative_size_per_segment[segment_name] # relative size of the current season compared to all seasons\n",
    "        \n",
    "        # Calculate the average sales over all seasons for each feature type (eg average sales of an article that's blue)\n",
    "        type_average_sales = seasonal_sales_by_type.groupby([feature])[\"count\"].sum().div(relative_season_size).reset_index(name = \"avg_all_seasons\")\n",
    "        \n",
    "        # Only current season is relevant from now on\n",
    "        seasonal_sales_by_type = seasonal_sales_by_type[seasonal_sales_by_type[\"season\"] == current_season]\n",
    "        seasonal_sales_by_type = seasonal_sales_by_type.merge(type_average_sales, on=feature)\n",
    "        seasonal_sales_by_type[\"season_ratio\"] = seasonal_sales_by_type[\"count\"] / seasonal_sales_by_type[\"avg_all_seasons\"]\n",
    "        \n",
    "        # # Only keeping the 75% most sold combinations\n",
    "        # threshold = seasonal_sales_by_type[\"count\"].quantile(0.25)\n",
    "        # seasonal_sales_by_type = seasonal_sales_by_type[seasonal_sales_by_type[\"count\"] > threshold]\n",
    "        \n",
    "        # Creating a ratio look up table\n",
    "        seasonal_sales_by_type = seasonal_sales_by_type[[feature, \"season_ratio\"]]\n",
    "        seasonal_sales_by_type = seasonal_sales_by_type.rename(columns = {feature: \"feature\"})\n",
    "        \n",
    "        # Save together with the other segments\n",
    "        all_scores[(segment_name, feature)] = seasonal_sales_by_type.set_index(\"feature\").to_dict()[\"season_ratio\"]\n",
    "print(\"Done\")"
   ],
   "metadata": {
    "collapsed": false,
    "ExecuteTime": {
     "end_time": "2023-11-21T23:53:56.830626800Z",
     "start_time": "2023-11-21T23:53:33.468138700Z"
    }
   },
   "id": "2aea2017e345fdc6"
  },
  {
   "cell_type": "code",
   "execution_count": 116,
   "outputs": [],
   "source": [
    "# Calculate the season compatibility scores for each article\n",
    "def create_article_scores(article):\n",
    "    result = [0 for _ in range(len(segment_names))] # all counters start at 0\n",
    "    \n",
    "    # feature by feature, use the segment tables to update the counter of the corresponding segments\n",
    "    for feature in features:\n",
    "        feature_value = article[feature] # the actual value of the article for the current feature\n",
    "        for i, segment_name in enumerate(segment_names):\n",
    "            score_table = all_scores[(segment_name, feature)] # table that gives the feature score of a segment\n",
    "            if not feature_value in score_table:\n",
    "                continue\n",
    "            result[i] += score_table[feature_value]\n",
    "    return pd.Series(result)"
   ],
   "metadata": {
    "collapsed": false,
    "ExecuteTime": {
     "end_time": "2023-11-21T23:53:56.846630500Z",
     "start_time": "2023-11-21T23:53:56.828626500Z"
    }
   },
   "id": "133c10d382478bbf"
  },
  {
   "cell_type": "code",
   "execution_count": 117,
   "outputs": [
    {
     "data": {
      "text/plain": "        article_id  product_code  prod_name  product_type_no  \\\n0        108775015        108775      12855              253   \n1        108775044        108775      12855              253   \n2        108775051        108775      44846              253   \n3        110065001        110065       8159              306   \n4        110065002        110065       8159              306   \n...            ...           ...        ...              ...   \n105537   953450001        953450      24043              302   \n105538   953763001        953763      24027              253   \n105539   956217002        956217      24040              265   \n105540   957375001        957375      24041               72   \n105541   959461001        959461      45874              265   \n\n        product_type_name  product_group_name  graphical_appearance_no  \\\n0                       9                   0                  1010016   \n1                       9                   0                  1010016   \n2                       9                   0                  1010017   \n3                      13                   4                  1010016   \n4                      13                   4                  1010016   \n...                   ...                 ...                      ...   \n105537                 14                   7                  1010014   \n105538                  9                   0                  1010016   \n105539                  1                   2                  1010016   \n105540                 48                   3                  1010016   \n105541                  1                   2                  1010016   \n\n        graphical_appearance_name  colour_group_code  colour_group_name  ...  \\\n0                               0                  9                  0  ...   \n1                               0                 10                  2  ...   \n2                               3                 11                 11  ...   \n3                               0                  9                  0  ...   \n4                               0                 10                  2  ...   \n...                           ...                ...                ...  ...   \n105537                          6                  9                  0  ...   \n105538                          0                  9                  0  ...   \n105539                          0                  9                  0  ...   \n105540                          0                  9                  0  ...   \n105541                          0                 11                 11  ...   \n\n        garment_group_name  detail_desc  middle/no_FN  middle/yes_FN  \\\n0                        2         8834     11.881159      12.060924   \n1                        2         8834     10.535403      10.603598   \n2                        2         8834     13.284692      13.444426   \n3                        4         8243     11.479756      11.308950   \n4                        4         8243     10.133999       9.851624   \n...                    ...          ...           ...            ...   \n105537                  13        28026     16.964647      17.015358   \n105538                   0        28025     14.566666      14.736568   \n105539                   0        28024     14.184953      14.317749   \n105540                   1        28023     11.817903      11.763812   \n105541                   0        43403      9.245082       9.217237   \n\n        young/yes_FN  young/no_FN  middle/no_FNx  middle/yes_FNx  \\\n0          12.444937    12.433579       0.384583        0.398580   \n1          11.155808    11.172176       0.311419        0.317355   \n2          14.413833    13.994898       0.460888        0.475691   \n3          11.615674    11.915392       0.362760        0.356668   \n4          10.326544    10.653989       0.289596        0.275443   \n...              ...          ...            ...             ...   \n105537     17.032497    17.305020       0.660955        0.674721   \n105538     15.296574    15.268564       0.530585        0.547710   \n105539     14.860708    14.861330       0.509832        0.524367   \n105540     11.839760    12.000497       0.381144        0.382021   \n105541      9.760967     9.788244       0.241269        0.240085   \n\n        young/yes_FNx  young/no_FNx  \n0            0.414421      0.408396  \n1            0.343240      0.338828  \n2            0.523138      0.494505  \n3            0.368632      0.379817  \n4            0.297451      0.310249  \n...               ...           ...  \n105537       0.667732      0.677062  \n105538       0.571880      0.564749  \n105539       0.547813      0.542290  \n105540       0.381005      0.384511  \n105541       0.266221      0.262502  \n\n[105542 rows x 33 columns]",
      "text/html": "<div>\n<style scoped>\n    .dataframe tbody tr th:only-of-type {\n        vertical-align: middle;\n    }\n\n    .dataframe tbody tr th {\n        vertical-align: top;\n    }\n\n    .dataframe thead th {\n        text-align: right;\n    }\n</style>\n<table border=\"1\" class=\"dataframe\">\n  <thead>\n    <tr style=\"text-align: right;\">\n      <th></th>\n      <th>article_id</th>\n      <th>product_code</th>\n      <th>prod_name</th>\n      <th>product_type_no</th>\n      <th>product_type_name</th>\n      <th>product_group_name</th>\n      <th>graphical_appearance_no</th>\n      <th>graphical_appearance_name</th>\n      <th>colour_group_code</th>\n      <th>colour_group_name</th>\n      <th>...</th>\n      <th>garment_group_name</th>\n      <th>detail_desc</th>\n      <th>middle/no_FN</th>\n      <th>middle/yes_FN</th>\n      <th>young/yes_FN</th>\n      <th>young/no_FN</th>\n      <th>middle/no_FNx</th>\n      <th>middle/yes_FNx</th>\n      <th>young/yes_FNx</th>\n      <th>young/no_FNx</th>\n    </tr>\n  </thead>\n  <tbody>\n    <tr>\n      <th>0</th>\n      <td>108775015</td>\n      <td>108775</td>\n      <td>12855</td>\n      <td>253</td>\n      <td>9</td>\n      <td>0</td>\n      <td>1010016</td>\n      <td>0</td>\n      <td>9</td>\n      <td>0</td>\n      <td>...</td>\n      <td>2</td>\n      <td>8834</td>\n      <td>11.881159</td>\n      <td>12.060924</td>\n      <td>12.444937</td>\n      <td>12.433579</td>\n      <td>0.384583</td>\n      <td>0.398580</td>\n      <td>0.414421</td>\n      <td>0.408396</td>\n    </tr>\n    <tr>\n      <th>1</th>\n      <td>108775044</td>\n      <td>108775</td>\n      <td>12855</td>\n      <td>253</td>\n      <td>9</td>\n      <td>0</td>\n      <td>1010016</td>\n      <td>0</td>\n      <td>10</td>\n      <td>2</td>\n      <td>...</td>\n      <td>2</td>\n      <td>8834</td>\n      <td>10.535403</td>\n      <td>10.603598</td>\n      <td>11.155808</td>\n      <td>11.172176</td>\n      <td>0.311419</td>\n      <td>0.317355</td>\n      <td>0.343240</td>\n      <td>0.338828</td>\n    </tr>\n    <tr>\n      <th>2</th>\n      <td>108775051</td>\n      <td>108775</td>\n      <td>44846</td>\n      <td>253</td>\n      <td>9</td>\n      <td>0</td>\n      <td>1010017</td>\n      <td>3</td>\n      <td>11</td>\n      <td>11</td>\n      <td>...</td>\n      <td>2</td>\n      <td>8834</td>\n      <td>13.284692</td>\n      <td>13.444426</td>\n      <td>14.413833</td>\n      <td>13.994898</td>\n      <td>0.460888</td>\n      <td>0.475691</td>\n      <td>0.523138</td>\n      <td>0.494505</td>\n    </tr>\n    <tr>\n      <th>3</th>\n      <td>110065001</td>\n      <td>110065</td>\n      <td>8159</td>\n      <td>306</td>\n      <td>13</td>\n      <td>4</td>\n      <td>1010016</td>\n      <td>0</td>\n      <td>9</td>\n      <td>0</td>\n      <td>...</td>\n      <td>4</td>\n      <td>8243</td>\n      <td>11.479756</td>\n      <td>11.308950</td>\n      <td>11.615674</td>\n      <td>11.915392</td>\n      <td>0.362760</td>\n      <td>0.356668</td>\n      <td>0.368632</td>\n      <td>0.379817</td>\n    </tr>\n    <tr>\n      <th>4</th>\n      <td>110065002</td>\n      <td>110065</td>\n      <td>8159</td>\n      <td>306</td>\n      <td>13</td>\n      <td>4</td>\n      <td>1010016</td>\n      <td>0</td>\n      <td>10</td>\n      <td>2</td>\n      <td>...</td>\n      <td>4</td>\n      <td>8243</td>\n      <td>10.133999</td>\n      <td>9.851624</td>\n      <td>10.326544</td>\n      <td>10.653989</td>\n      <td>0.289596</td>\n      <td>0.275443</td>\n      <td>0.297451</td>\n      <td>0.310249</td>\n    </tr>\n    <tr>\n      <th>...</th>\n      <td>...</td>\n      <td>...</td>\n      <td>...</td>\n      <td>...</td>\n      <td>...</td>\n      <td>...</td>\n      <td>...</td>\n      <td>...</td>\n      <td>...</td>\n      <td>...</td>\n      <td>...</td>\n      <td>...</td>\n      <td>...</td>\n      <td>...</td>\n      <td>...</td>\n      <td>...</td>\n      <td>...</td>\n      <td>...</td>\n      <td>...</td>\n      <td>...</td>\n      <td>...</td>\n    </tr>\n    <tr>\n      <th>105537</th>\n      <td>953450001</td>\n      <td>953450</td>\n      <td>24043</td>\n      <td>302</td>\n      <td>14</td>\n      <td>7</td>\n      <td>1010014</td>\n      <td>6</td>\n      <td>9</td>\n      <td>0</td>\n      <td>...</td>\n      <td>13</td>\n      <td>28026</td>\n      <td>16.964647</td>\n      <td>17.015358</td>\n      <td>17.032497</td>\n      <td>17.305020</td>\n      <td>0.660955</td>\n      <td>0.674721</td>\n      <td>0.667732</td>\n      <td>0.677062</td>\n    </tr>\n    <tr>\n      <th>105538</th>\n      <td>953763001</td>\n      <td>953763</td>\n      <td>24027</td>\n      <td>253</td>\n      <td>9</td>\n      <td>0</td>\n      <td>1010016</td>\n      <td>0</td>\n      <td>9</td>\n      <td>0</td>\n      <td>...</td>\n      <td>0</td>\n      <td>28025</td>\n      <td>14.566666</td>\n      <td>14.736568</td>\n      <td>15.296574</td>\n      <td>15.268564</td>\n      <td>0.530585</td>\n      <td>0.547710</td>\n      <td>0.571880</td>\n      <td>0.564749</td>\n    </tr>\n    <tr>\n      <th>105539</th>\n      <td>956217002</td>\n      <td>956217</td>\n      <td>24040</td>\n      <td>265</td>\n      <td>1</td>\n      <td>2</td>\n      <td>1010016</td>\n      <td>0</td>\n      <td>9</td>\n      <td>0</td>\n      <td>...</td>\n      <td>0</td>\n      <td>28024</td>\n      <td>14.184953</td>\n      <td>14.317749</td>\n      <td>14.860708</td>\n      <td>14.861330</td>\n      <td>0.509832</td>\n      <td>0.524367</td>\n      <td>0.547813</td>\n      <td>0.542290</td>\n    </tr>\n    <tr>\n      <th>105540</th>\n      <td>957375001</td>\n      <td>957375</td>\n      <td>24041</td>\n      <td>72</td>\n      <td>48</td>\n      <td>3</td>\n      <td>1010016</td>\n      <td>0</td>\n      <td>9</td>\n      <td>0</td>\n      <td>...</td>\n      <td>1</td>\n      <td>28023</td>\n      <td>11.817903</td>\n      <td>11.763812</td>\n      <td>11.839760</td>\n      <td>12.000497</td>\n      <td>0.381144</td>\n      <td>0.382021</td>\n      <td>0.381005</td>\n      <td>0.384511</td>\n    </tr>\n    <tr>\n      <th>105541</th>\n      <td>959461001</td>\n      <td>959461</td>\n      <td>45874</td>\n      <td>265</td>\n      <td>1</td>\n      <td>2</td>\n      <td>1010016</td>\n      <td>0</td>\n      <td>11</td>\n      <td>11</td>\n      <td>...</td>\n      <td>0</td>\n      <td>43403</td>\n      <td>9.245082</td>\n      <td>9.217237</td>\n      <td>9.760967</td>\n      <td>9.788244</td>\n      <td>0.241269</td>\n      <td>0.240085</td>\n      <td>0.266221</td>\n      <td>0.262502</td>\n    </tr>\n  </tbody>\n</table>\n<p>105542 rows × 33 columns</p>\n</div>"
     },
     "execution_count": 117,
     "metadata": {},
     "output_type": "execute_result"
    }
   ],
   "source": [
    "articles_scores = articles.copy()\n",
    "\n",
    "# article gets extra columns: for each segment, the score of the article for that segment\n",
    "articles_scores[segment_names] = articles_scores.apply(create_article_scores, axis=1, result_type=\"expand\")\n",
    "\n",
    "# normalize the scores\n",
    "for segment_name in segment_names:\n",
    "    articles_scores[segment_name + \"x\"] = MinMaxScaler().fit_transform(articles_scores[[segment_name]])\n",
    "\n",
    "articles_scores"
   ],
   "metadata": {
    "collapsed": false,
    "ExecuteTime": {
     "end_time": "2023-11-21T23:54:04.779322100Z",
     "start_time": "2023-11-21T23:53:56.844630500Z"
    }
   },
   "id": "311d6cc55379b292"
  },
  {
   "cell_type": "code",
   "execution_count": 118,
   "outputs": [],
   "source": [
    "articles_scores.to_parquet(path + 'articles_edited2.parquet')"
   ],
   "metadata": {
    "collapsed": false,
    "ExecuteTime": {
     "end_time": "2023-11-21T23:54:04.986371200Z",
     "start_time": "2023-11-21T23:54:04.779322100Z"
    }
   },
   "id": "f55c7ea112a5dc2d"
  },
  {
   "cell_type": "code",
   "execution_count": 119,
   "outputs": [],
   "source": [
    "def add_features(data):\n",
    "    columns_to_use = [\n",
    "        'article_id',\n",
    "        'product_type_no',\n",
    "        'graphical_appearance_no',\n",
    "        'colour_group_code',\n",
    "        'perceived_colour_value_id',\n",
    "        'perceived_colour_master_id',\n",
    "        'department_no',\n",
    "        'index_code',\n",
    "        'index_group_no',\n",
    "        'section_no',\n",
    "        'garment_group_no',\n",
    "        'FN',\n",
    "        'Active',\n",
    "        'club_member_status',\n",
    "        'fashion_news_frequency',\n",
    "        'age',\n",
    "        'postal_code',\n",
    "        'ranked_weighted_sales'\n",
    "    ]\n",
    "\n",
    "    result = data\n",
    "    result = pd.merge(result, customers, how='left', on='customer_id')\n",
    "    result = pd.merge(result, articles, how='left', on='article_id')\n",
    "\n",
    "    # features from assignment 2 could go here\n",
    "    # customer_avg_price = transactions_train.groupby('customer_id')['price'].mean().to_frame('preferred_price')\n",
    "    # result = pd.merge(result, customer_avg_price, how=\"left\", on=\"customer_id\")\n",
    "\n",
    "    return result[columns_to_use]"
   ],
   "metadata": {
    "collapsed": false,
    "ExecuteTime": {
     "end_time": "2023-11-21T23:54:05.002373800Z",
     "start_time": "2023-11-21T23:54:04.987371100Z"
    }
   },
   "id": "1ed9dd37b8aac6bb"
  },
  {
   "cell_type": "code",
   "execution_count": 120,
   "outputs": [],
   "source": [
    "def recall(predictions, purchases, k=12):\n",
    "    # number of correct predictions for the customer / items bought by the customer\n",
    "    # total recall is the average recall over all customers\n",
    "\n",
    "    def row_recall(row):\n",
    "        assert 0 < len(row.purchases)\n",
    "        correct = 0\n",
    "        for predicted_item in row.prediction[:k]:\n",
    "            if predicted_item in row.purchases:\n",
    "                correct += 1\n",
    "        return correct / min(len(row.purchases), 12)\n",
    "\n",
    "    result = pd.merge(purchases, predictions, on=\"customer_id\", how=\"inner\")\n",
    "    result[\"recall\"] = result.apply(row_recall, axis=1)\n",
    "\n",
    "    return result.recall.sum() / len(purchases)"
   ],
   "metadata": {
    "collapsed": false,
    "ExecuteTime": {
     "end_time": "2023-11-21T23:54:05.018377900Z",
     "start_time": "2023-11-21T23:54:05.002373800Z"
    }
   },
   "id": "5bcceb93ae416366"
  },
  {
   "cell_type": "code",
   "execution_count": 121,
   "outputs": [
    {
     "data": {
      "text/plain": "                  customer_id        segment\n0         6883939031699146327   middle/no_FN\n1        11246327431398957306    young/no_FN\n2        18439897732908966680    young/no_FN\n3        18352672461570950206   middle/no_FN\n4        18162778555210377306  middle/yes_FN\n...                       ...            ...\n1371975   7551062398649767985    young/no_FN\n1371976   9305341941720086711    young/no_FN\n1371977  10160427316885688932   young/yes_FN\n1371978   2551401172826382186   young/yes_FN\n1371979  16929951892735599169   middle/no_FN\n\n[1371980 rows x 2 columns]",
      "text/html": "<div>\n<style scoped>\n    .dataframe tbody tr th:only-of-type {\n        vertical-align: middle;\n    }\n\n    .dataframe tbody tr th {\n        vertical-align: top;\n    }\n\n    .dataframe thead th {\n        text-align: right;\n    }\n</style>\n<table border=\"1\" class=\"dataframe\">\n  <thead>\n    <tr style=\"text-align: right;\">\n      <th></th>\n      <th>customer_id</th>\n      <th>segment</th>\n    </tr>\n  </thead>\n  <tbody>\n    <tr>\n      <th>0</th>\n      <td>6883939031699146327</td>\n      <td>middle/no_FN</td>\n    </tr>\n    <tr>\n      <th>1</th>\n      <td>11246327431398957306</td>\n      <td>young/no_FN</td>\n    </tr>\n    <tr>\n      <th>2</th>\n      <td>18439897732908966680</td>\n      <td>young/no_FN</td>\n    </tr>\n    <tr>\n      <th>3</th>\n      <td>18352672461570950206</td>\n      <td>middle/no_FN</td>\n    </tr>\n    <tr>\n      <th>4</th>\n      <td>18162778555210377306</td>\n      <td>middle/yes_FN</td>\n    </tr>\n    <tr>\n      <th>...</th>\n      <td>...</td>\n      <td>...</td>\n    </tr>\n    <tr>\n      <th>1371975</th>\n      <td>7551062398649767985</td>\n      <td>young/no_FN</td>\n    </tr>\n    <tr>\n      <th>1371976</th>\n      <td>9305341941720086711</td>\n      <td>young/no_FN</td>\n    </tr>\n    <tr>\n      <th>1371977</th>\n      <td>10160427316885688932</td>\n      <td>young/yes_FN</td>\n    </tr>\n    <tr>\n      <th>1371978</th>\n      <td>2551401172826382186</td>\n      <td>young/yes_FN</td>\n    </tr>\n    <tr>\n      <th>1371979</th>\n      <td>16929951892735599169</td>\n      <td>middle/no_FN</td>\n    </tr>\n  </tbody>\n</table>\n<p>1371980 rows × 2 columns</p>\n</div>"
     },
     "execution_count": 121,
     "metadata": {},
     "output_type": "execute_result"
    }
   ],
   "source": [
    "segmented_customers"
   ],
   "metadata": {
    "collapsed": false,
    "ExecuteTime": {
     "end_time": "2023-11-21T23:54:05.045384900Z",
     "start_time": "2023-11-21T23:54:05.018377900Z"
    }
   },
   "id": "e9fb34d6cdaf7ddb"
  },
  {
   "cell_type": "code",
   "execution_count": 130,
   "outputs": [
    {
     "data": {
      "text/plain": "         t_dat        customer_id  article_id     price  sales_channel_id  \\\n0   2020-07-08    857913002275398   599580068  0.008458                 1   \n1   2020-07-08    857913002275398   776237011  0.025407                 1   \n2   2020-07-08    857913002275398   844294001  0.011847                 1   \n3   2020-07-17    857913002275398   599580038  0.016932                 1   \n4   2020-07-17    857913002275398   776237011  0.025407                 1   \n..         ...                ...         ...       ...               ...   \n995 2020-07-08  92345079347838609   812658002  0.016932                 2   \n996 2020-07-08  92345079347838609   776237011  0.025407                 2   \n997 2020-07-08  92345079347838609   599580086  0.011847                 2   \n998 2020-07-08  92345079347838609   699082004  0.013542                 2   \n999 2020-07-08  92345079347838609   811907004  0.025407                 2   \n\n     week  season       segment  \n0      94  Summer  young/yes_FN  \n1      94  Summer  young/yes_FN  \n2      94  Summer  young/yes_FN  \n3      95  Summer  young/yes_FN  \n4      95  Summer  young/yes_FN  \n..    ...     ...           ...  \n995    94  Summer  young/yes_FN  \n996    94  Summer  young/yes_FN  \n997    94  Summer  young/yes_FN  \n998    94  Summer  young/yes_FN  \n999    94  Summer  young/yes_FN  \n\n[1000 rows x 8 columns]",
      "text/html": "<div>\n<style scoped>\n    .dataframe tbody tr th:only-of-type {\n        vertical-align: middle;\n    }\n\n    .dataframe tbody tr th {\n        vertical-align: top;\n    }\n\n    .dataframe thead th {\n        text-align: right;\n    }\n</style>\n<table border=\"1\" class=\"dataframe\">\n  <thead>\n    <tr style=\"text-align: right;\">\n      <th></th>\n      <th>t_dat</th>\n      <th>customer_id</th>\n      <th>article_id</th>\n      <th>price</th>\n      <th>sales_channel_id</th>\n      <th>week</th>\n      <th>season</th>\n      <th>segment</th>\n    </tr>\n  </thead>\n  <tbody>\n    <tr>\n      <th>0</th>\n      <td>2020-07-08</td>\n      <td>857913002275398</td>\n      <td>599580068</td>\n      <td>0.008458</td>\n      <td>1</td>\n      <td>94</td>\n      <td>Summer</td>\n      <td>young/yes_FN</td>\n    </tr>\n    <tr>\n      <th>1</th>\n      <td>2020-07-08</td>\n      <td>857913002275398</td>\n      <td>776237011</td>\n      <td>0.025407</td>\n      <td>1</td>\n      <td>94</td>\n      <td>Summer</td>\n      <td>young/yes_FN</td>\n    </tr>\n    <tr>\n      <th>2</th>\n      <td>2020-07-08</td>\n      <td>857913002275398</td>\n      <td>844294001</td>\n      <td>0.011847</td>\n      <td>1</td>\n      <td>94</td>\n      <td>Summer</td>\n      <td>young/yes_FN</td>\n    </tr>\n    <tr>\n      <th>3</th>\n      <td>2020-07-17</td>\n      <td>857913002275398</td>\n      <td>599580038</td>\n      <td>0.016932</td>\n      <td>1</td>\n      <td>95</td>\n      <td>Summer</td>\n      <td>young/yes_FN</td>\n    </tr>\n    <tr>\n      <th>4</th>\n      <td>2020-07-17</td>\n      <td>857913002275398</td>\n      <td>776237011</td>\n      <td>0.025407</td>\n      <td>1</td>\n      <td>95</td>\n      <td>Summer</td>\n      <td>young/yes_FN</td>\n    </tr>\n    <tr>\n      <th>...</th>\n      <td>...</td>\n      <td>...</td>\n      <td>...</td>\n      <td>...</td>\n      <td>...</td>\n      <td>...</td>\n      <td>...</td>\n      <td>...</td>\n    </tr>\n    <tr>\n      <th>995</th>\n      <td>2020-07-08</td>\n      <td>92345079347838609</td>\n      <td>812658002</td>\n      <td>0.016932</td>\n      <td>2</td>\n      <td>94</td>\n      <td>Summer</td>\n      <td>young/yes_FN</td>\n    </tr>\n    <tr>\n      <th>996</th>\n      <td>2020-07-08</td>\n      <td>92345079347838609</td>\n      <td>776237011</td>\n      <td>0.025407</td>\n      <td>2</td>\n      <td>94</td>\n      <td>Summer</td>\n      <td>young/yes_FN</td>\n    </tr>\n    <tr>\n      <th>997</th>\n      <td>2020-07-08</td>\n      <td>92345079347838609</td>\n      <td>599580086</td>\n      <td>0.011847</td>\n      <td>2</td>\n      <td>94</td>\n      <td>Summer</td>\n      <td>young/yes_FN</td>\n    </tr>\n    <tr>\n      <th>998</th>\n      <td>2020-07-08</td>\n      <td>92345079347838609</td>\n      <td>699082004</td>\n      <td>0.013542</td>\n      <td>2</td>\n      <td>94</td>\n      <td>Summer</td>\n      <td>young/yes_FN</td>\n    </tr>\n    <tr>\n      <th>999</th>\n      <td>2020-07-08</td>\n      <td>92345079347838609</td>\n      <td>811907004</td>\n      <td>0.025407</td>\n      <td>2</td>\n      <td>94</td>\n      <td>Summer</td>\n      <td>young/yes_FN</td>\n    </tr>\n  </tbody>\n</table>\n<p>1000 rows × 8 columns</p>\n</div>"
     },
     "execution_count": 130,
     "metadata": {},
     "output_type": "execute_result"
    }
   ],
   "source": [
    "### split into training and testing\n",
    "# one week is used for testing\n",
    "# a number of weeks leading up to the test week are used to train the ranker\n",
    "test_week = 104\n",
    "num_training_weeks = 10\n",
    "training_weeks = np.arange(test_week-num_training_weeks, test_week)\n",
    "train_data = transactions_train[transactions_train.week.isin(training_weeks)].reset_index(drop=True)\n",
    "\n",
    "# add segment of the customer to each transaction\n",
    "train_data = train_data.merge(segmented_customers, on=\"customer_id\")\n",
    "train_data.head(1000)"
   ],
   "metadata": {
    "collapsed": false,
    "ExecuteTime": {
     "end_time": "2023-11-21T23:57:03.213810700Z",
     "start_time": "2023-11-21T23:57:02.330604100Z"
    }
   },
   "id": "56aae6045e3dc1b7"
  },
  {
   "cell_type": "code",
   "execution_count": 131,
   "outputs": [],
   "source": [
    "# Split the training data into segments\n",
    "train_data_per_segment = {}\n",
    "for segment_name in segment_names:\n",
    "    train_data_per_segment[segment_name] = train_data[train_data['segment'] == segment_name]\n",
    "train_data = None"
   ],
   "metadata": {
    "collapsed": false,
    "ExecuteTime": {
     "end_time": "2023-11-21T23:57:03.870466800Z",
     "start_time": "2023-11-21T23:57:03.213810700Z"
    }
   },
   "id": "8e600b56ea2f133"
  },
  {
   "cell_type": "code",
   "execution_count": 132,
   "outputs": [
    {
     "name": "stdout",
     "output_type": "stream",
     "text": [
      "middle/no_FN\n",
      "[LightGBM] [Debug] Dataset::GetMultiBinFromAllFeatures: sparse rate 0.212564\n",
      "[LightGBM] [Info] Total Bins 1058\n",
      "[LightGBM] [Info] Number of data points in the train set: 2373125, number of used features: 16\n",
      "[LightGBM] [Debug] Trained a tree with leaves = 31 and depth = 11\n",
      "         ranked_weighted_sales 0.99916\n",
      "                    article_id 0.00024\n",
      "            club_member_status 0.00016\n",
      "                           age 0.00011\n",
      "                   postal_code 0.00007\n",
      "             colour_group_code 0.00005\n",
      "                 department_no 0.00005\n",
      "               product_type_no 0.00004\n",
      "       graphical_appearance_no 0.00004\n",
      "                    index_code 0.00003\n",
      "              garment_group_no 0.00002\n",
      "     perceived_colour_value_id 0.00002\n",
      "    perceived_colour_master_id 0.00001\n",
      "                    section_no 0.00001\n",
      "        fashion_news_frequency 0.00000\n",
      "                        Active 0.00000\n",
      "                            FN 0.00000\n",
      "                index_group_no 0.00000\n",
      "Predictions for middle/no_FN: 96332\n",
      "Total predictions: 96332\n",
      "middle/yes_FN\n",
      "[LightGBM] [Debug] Dataset::GetMultiBinFromAllFeatures: sparse rate 0.268309\n",
      "[LightGBM] [Info] Total Bins 1061\n",
      "[LightGBM] [Info] Number of data points in the train set: 2297216, number of used features: 17\n",
      "[LightGBM] [Debug] Trained a tree with leaves = 31 and depth = 12\n",
      "         ranked_weighted_sales 0.99890\n",
      "                    article_id 0.00044\n",
      "                           age 0.00018\n",
      "               product_type_no 0.00015\n",
      "                   postal_code 0.00010\n",
      "                 department_no 0.00009\n",
      "             colour_group_code 0.00008\n",
      "              garment_group_no 0.00005\n",
      "    perceived_colour_master_id 0.00001\n",
      "        fashion_news_frequency 0.00000\n",
      "            club_member_status 0.00000\n",
      "                        Active 0.00000\n",
      "                            FN 0.00000\n",
      "                    section_no 0.00000\n",
      "                    index_code 0.00000\n",
      "     perceived_colour_value_id 0.00000\n",
      "       graphical_appearance_no 0.00000\n",
      "                index_group_no 0.00000\n",
      "Predictions for middle/yes_FN: 79820\n",
      "Total predictions: 176152\n",
      "young/yes_FN\n",
      "[LightGBM] [Debug] Dataset::GetMultiBinFromAllFeatures: sparse rate 0.101220\n",
      "[LightGBM] [Info] Total Bins 1014\n",
      "[LightGBM] [Info] Number of data points in the train set: 2996430, number of used features: 17\n",
      "[LightGBM] [Debug] Trained a tree with leaves = 31 and depth = 9\n",
      "         ranked_weighted_sales 0.99890\n",
      "                           age 0.00039\n",
      "                    article_id 0.00031\n",
      "                 department_no 0.00010\n",
      "               product_type_no 0.00008\n",
      "                   postal_code 0.00008\n",
      "             colour_group_code 0.00006\n",
      "     perceived_colour_value_id 0.00004\n",
      "              garment_group_no 0.00003\n",
      "        fashion_news_frequency 0.00000\n",
      "            club_member_status 0.00000\n",
      "                        Active 0.00000\n",
      "                            FN 0.00000\n",
      "                    section_no 0.00000\n",
      "                    index_code 0.00000\n",
      "    perceived_colour_master_id 0.00000\n",
      "       graphical_appearance_no 0.00000\n",
      "                index_group_no 0.00000\n",
      "Predictions for young/yes_FN: 107109\n",
      "Total predictions: 283261\n",
      "young/no_FN\n",
      "[LightGBM] [Debug] Dataset::GetMultiBinFromAllFeatures: sparse rate 0.155004\n",
      "[LightGBM] [Info] Total Bins 1075\n",
      "[LightGBM] [Info] Number of data points in the train set: 3893849, number of used features: 16\n",
      "[LightGBM] [Debug] Trained a tree with leaves = 31 and depth = 12\n",
      "         ranked_weighted_sales 0.99895\n",
      "                           age 0.00037\n",
      "                    article_id 0.00018\n",
      "             colour_group_code 0.00010\n",
      "                 department_no 0.00009\n",
      "               product_type_no 0.00007\n",
      "            club_member_status 0.00007\n",
      "    perceived_colour_master_id 0.00007\n",
      "                   postal_code 0.00003\n",
      "              garment_group_no 0.00002\n",
      "                    index_code 0.00002\n",
      "     perceived_colour_value_id 0.00002\n",
      "        fashion_news_frequency 0.00000\n",
      "                        Active 0.00000\n",
      "                            FN 0.00000\n",
      "                    section_no 0.00000\n",
      "       graphical_appearance_no 0.00000\n",
      "                index_group_no 0.00000\n",
      "Predictions for young/no_FN: 156107\n",
      "Total predictions: 439368\n"
     ]
    }
   ],
   "source": [
    "all_predictions = pd.DataFrame()\n",
    "for segment_name in segment_names:\n",
    "    print(segment_name)\n",
    "    train_data = train_data_per_segment[segment_name]\n",
    "    ### repurchase\n",
    "    # each week is seen as a basket\n",
    "    # the items bought in one basket, will be example for the next basket\n",
    "    # the items bought in the last basket, will be candidates for the test basket\n",
    "    c2weeks = train_data.groupby('customer_id')['week'].unique()\n",
    "    c2weeks2shifted_weeks = {}\n",
    "    for c_id, weeks in c2weeks.items():\n",
    "        c2weeks2shifted_weeks[c_id] = {}\n",
    "        for i in range(weeks.shape[0]-1):\n",
    "            c2weeks2shifted_weeks[c_id][weeks[i]] = weeks[i+1]\n",
    "        c2weeks2shifted_weeks[c_id][weeks[-1]] = test_week\n",
    "    candidates_last_purchase = train_data.copy()\n",
    "    weeks = []\n",
    "    for i, (c_id, week) in enumerate(zip(train_data['customer_id'], train_data['week'])):\n",
    "        weeks.append(c2weeks2shifted_weeks[c_id][week])\n",
    "    candidates_last_purchase.week=weeks\n",
    " \n",
    "    sales_counts = train_data.groupby([\"week\", \"article_id\"]).size().reset_index(name=\"count\")\n",
    "    relevant_scores = articles_scores[[\"article_id\", segment_name]]\n",
    "    sales_counts = sales_counts.merge(relevant_scores, on=\"article_id\").reset_index()\n",
    "    \n",
    "    sales_counts[\"weighted_sales\"] = sales_counts[\"count\"] ** sales_counts[segment_name]\n",
    "    \n",
    "    sales_counts[\"ranked_weighted_sales\"] = (sales_counts.groupby(\"week\")[\"weighted_sales\"].rank(method=\"dense\", ascending=False).astype(\"int64\"))\n",
    "\n",
    "    sales_counts = sales_counts[sales_counts[\"ranked_weighted_sales\"] <= 12]\n",
    "    sales_counts.week += 1\n",
    "    sales_counts = sales_counts.sort_values(by=[\"week\", \"article_id\"])\n",
    "    \n",
    "    # A list of all customers that bought something during each week\n",
    "    customers_per_week = (train_data.groupby(['week', 'customer_id']).head(1).\n",
    "                          drop(columns=['article_id', 'price', \"t_dat\", \"season\", \"sales_channel_id\"]).drop_duplicates([\"week\",\"customer_id\"]).copy())\n",
    "    candidates_bestsellers = pd.merge(customers_per_week,sales_counts,on='week')\n",
    "    candidates_bestsellers_test_week = customers_per_week.drop_duplicates('customer_id').reset_index(drop=True) # all customers who ever bought something\n",
    "    candidates_bestsellers_test_week.week = test_week # join on test week\n",
    "    candidates_bestsellers_test_week = pd.merge(candidates_bestsellers_test_week,sales_counts,on='week')\n",
    "    candidates_bestsellers = pd.concat([candidates_bestsellers, candidates_bestsellers_test_week])\n",
    "    candidates_bestsellers.drop(columns='ranked_weighted_sales', inplace=True)\n",
    "\n",
    "    ### combine\n",
    "    d = train_data.copy()\n",
    "    d['purchased'] = True\n",
    "    \n",
    "    candidates = pd.concat([\n",
    "        d, candidates_last_purchase, candidates_bestsellers\n",
    "    ])\n",
    "    candidates.purchased.fillna(False, inplace=True)\n",
    "    candidates.drop_duplicates(['customer_id', 'article_id', 'week'], inplace=True)\n",
    "    \n",
    "    candidates = pd.merge(\n",
    "        candidates,\n",
    "        sales_counts[['week', 'article_id', 'ranked_weighted_sales']],\n",
    "        on=['week', 'article_id'],\n",
    "        how='left'\n",
    "    )\n",
    "    candidates = candidates[candidates.week != candidates.week.min()]\n",
    "    candidates[\"ranked_weighted_sales\"].fillna(999, inplace=True)\n",
    "    \n",
    "    candidates.sort_values(['week', 'customer_id'], inplace=True)\n",
    "    candidates.reset_index(drop=True, inplace=True)\n",
    "    \n",
    "    train_examples = candidates[candidates.week != test_week]\n",
    "    X_train = add_features(train_examples)\n",
    "    Y_train = train_examples['purchased']\n",
    "\n",
    "    ranker = LGBMRanker(\n",
    "        force_row_wise=True,\n",
    "        objective=\"lambdarank\",\n",
    "        metric=\"ndcg\",\n",
    "        boosting_type=\"dart\",\n",
    "        n_estimators=1,\n",
    "        importance_type='gain',\n",
    "        verbose=10\n",
    "    )\n",
    "    train_groups = train_examples.groupby(['week', 'customer_id'])['article_id'].count().values\n",
    "    ranker.fit(X_train, Y_train, group=train_groups)\n",
    "    print_importance(ranker, X_train.columns)\n",
    "    \n",
    "    ### test\n",
    "    # candidates are generated similarly to the examples, only we don't know whether they are purchased\n",
    "    # the same features are extracted and added\n",
    "    # each candidate is scored by the ranker and predictions are generated using the highest scoring candidates\n",
    "    test_candidates = candidates[candidates.week == test_week]\n",
    "    \n",
    "    X_test = add_features(test_candidates)\n",
    "    predictions = get_predictions(test_candidates, X_test, ranker, 12)\n",
    "    print(f\"Predictions for {segment_name}: {len(predictions)}\")\n",
    "    all_predictions = pd.concat([all_predictions, predictions])\n",
    "    print(f\"Total predictions: {len(all_predictions)}\")\n",
    "\n",
    "all_predictions.reset_index(drop=True, inplace=True)"
   ],
   "metadata": {
    "collapsed": false,
    "ExecuteTime": {
     "end_time": "2023-11-21T23:57:46.590698100Z",
     "start_time": "2023-11-21T23:57:03.868466Z"
    }
   },
   "id": "9148f9fec805092"
  },
  {
   "cell_type": "code",
   "execution_count": 133,
   "outputs": [
    {
     "data": {
      "text/plain": "156107"
     },
     "execution_count": 133,
     "metadata": {},
     "output_type": "execute_result"
    }
   ],
   "source": [
    "len(predictions)"
   ],
   "metadata": {
    "collapsed": false,
    "ExecuteTime": {
     "end_time": "2023-11-21T23:57:46.636708500Z",
     "start_time": "2023-11-21T23:57:46.590698100Z"
    }
   },
   "id": "e7572f34a3d20a6b"
  },
  {
   "cell_type": "code",
   "execution_count": 134,
   "outputs": [
    {
     "data": {
      "text/plain": "439368"
     },
     "execution_count": 134,
     "metadata": {},
     "output_type": "execute_result"
    }
   ],
   "source": [
    "len(all_predictions)"
   ],
   "metadata": {
    "collapsed": false,
    "ExecuteTime": {
     "end_time": "2023-11-21T23:57:46.641710Z",
     "start_time": "2023-11-21T23:57:46.606702600Z"
    }
   },
   "id": "c9e550ec0221b7e4"
  },
  {
   "cell_type": "code",
   "execution_count": 135,
   "outputs": [
    {
     "data": {
      "text/plain": "            customer_id                                         prediction\n0        41318098387474  [868879003, 893059005, 915529003, 918522001, 9...\n1       208119717816961  [572797049, 540334001, 572797002, 859105007, 6...\n2       248294615847351  [720504008, 337991001, 878987003, 471714002, 6...\n3       690285180337957  [915529005, 915529001, 893059005, 915529003, 9...\n4       745180086074610  [929603002, 841668001, 867948001, 817416001, 3...\n..                  ...                                                ...\n995  193053257266953883  [923466001, 757671007, 501914002, 888113001, 8...\n996  193851827566792894  [905811003, 464297007, 885951001, 819520001, 6...\n997  194194095234789665  [920732001, 893059005, 915529003, 918522001, 9...\n998  194214189272504823  [846356002, 893059005, 915529003, 918522001, 9...\n999  194337936548547741  [879248001, 893059005, 915529003, 918522001, 9...\n\n[1000 rows x 2 columns]",
      "text/html": "<div>\n<style scoped>\n    .dataframe tbody tr th:only-of-type {\n        vertical-align: middle;\n    }\n\n    .dataframe tbody tr th {\n        vertical-align: top;\n    }\n\n    .dataframe thead th {\n        text-align: right;\n    }\n</style>\n<table border=\"1\" class=\"dataframe\">\n  <thead>\n    <tr style=\"text-align: right;\">\n      <th></th>\n      <th>customer_id</th>\n      <th>prediction</th>\n    </tr>\n  </thead>\n  <tbody>\n    <tr>\n      <th>0</th>\n      <td>41318098387474</td>\n      <td>[868879003, 893059005, 915529003, 918522001, 9...</td>\n    </tr>\n    <tr>\n      <th>1</th>\n      <td>208119717816961</td>\n      <td>[572797049, 540334001, 572797002, 859105007, 6...</td>\n    </tr>\n    <tr>\n      <th>2</th>\n      <td>248294615847351</td>\n      <td>[720504008, 337991001, 878987003, 471714002, 6...</td>\n    </tr>\n    <tr>\n      <th>3</th>\n      <td>690285180337957</td>\n      <td>[915529005, 915529001, 893059005, 915529003, 9...</td>\n    </tr>\n    <tr>\n      <th>4</th>\n      <td>745180086074610</td>\n      <td>[929603002, 841668001, 867948001, 817416001, 3...</td>\n    </tr>\n    <tr>\n      <th>...</th>\n      <td>...</td>\n      <td>...</td>\n    </tr>\n    <tr>\n      <th>995</th>\n      <td>193053257266953883</td>\n      <td>[923466001, 757671007, 501914002, 888113001, 8...</td>\n    </tr>\n    <tr>\n      <th>996</th>\n      <td>193851827566792894</td>\n      <td>[905811003, 464297007, 885951001, 819520001, 6...</td>\n    </tr>\n    <tr>\n      <th>997</th>\n      <td>194194095234789665</td>\n      <td>[920732001, 893059005, 915529003, 918522001, 9...</td>\n    </tr>\n    <tr>\n      <th>998</th>\n      <td>194214189272504823</td>\n      <td>[846356002, 893059005, 915529003, 918522001, 9...</td>\n    </tr>\n    <tr>\n      <th>999</th>\n      <td>194337936548547741</td>\n      <td>[879248001, 893059005, 915529003, 918522001, 9...</td>\n    </tr>\n  </tbody>\n</table>\n<p>1000 rows × 2 columns</p>\n</div>"
     },
     "execution_count": 135,
     "metadata": {},
     "output_type": "execute_result"
    }
   ],
   "source": [
    "all_predictions.head(1000)"
   ],
   "metadata": {
    "collapsed": false,
    "ExecuteTime": {
     "end_time": "2023-11-21T23:57:46.643710900Z",
     "start_time": "2023-11-21T23:57:46.621704700Z"
    }
   },
   "id": "a78add321a44f837"
  },
  {
   "cell_type": "code",
   "execution_count": 136,
   "outputs": [
    {
     "name": "stdout",
     "output_type": "stream",
     "text": [
      "0.01368247750370932\n",
      "0.0330111660666572\n"
     ]
    }
   ],
   "source": [
    "### evaluate\n",
    "if test_week < transactions_train.week.max() + 1:\n",
    "    # get ground truth data for test week\n",
    "    purchases = get_purchases(transactions_train[transactions_train.week == test_week])\n",
    "\n",
    "    # fill missing prediction for customers in test set with popular items in last week\n",
    "    # only for customers in test set because only those are evaluated\n",
    "    popular = transactions_train[transactions_train.week == test_week-1].article_id.value_counts().head(12).index.values\n",
    "    predictions = fill_missing_predictions(predictions, purchases.customer_id, popular)\n",
    "\n",
    "    # calculate score\n",
    "    score = mean_average_precision(predictions, purchases, 12)\n",
    "    print(score)\n",
    "    score2 = recall(predictions, purchases, 12)\n",
    "    print(score2)\n",
    "\n",
    "### submit\n",
    "else:\n",
    "    # fill missing predictions for all customers with popular items in last week\n",
    "    # all customers because we don't know which ones will be evaluated\n",
    "    popular = transactions_train[transactions_train.week == test_week-1].article_id.value_counts().head(12).index.values\n",
    "    predictions = fill_missing_predictions(predictions, customers.customer_id, popular)\n",
    "\n",
    "    # write submission\n",
    "    sub = create_submission(predictions, sample_submission)\n",
    "    sub.to_csv(path + 'sub1.csv.gz', index=False)"
   ],
   "metadata": {
    "collapsed": false,
    "ExecuteTime": {
     "end_time": "2023-11-21T23:57:51.855412200Z",
     "start_time": "2023-11-21T23:57:46.639709400Z"
    }
   },
   "id": "a016c6adacab3ea1"
  },
  {
   "cell_type": "code",
   "execution_count": 137,
   "outputs": [
    {
     "data": {
      "text/plain": "         index  week  article_id  count  young/no_FN  weighted_sales  \\\n176        176    95   156231001     60    15.219248    1.153786e+27   \n609        609    95   228257001     56    15.091909    2.418209e+26   \n1659      1659    95   372860001    180    13.343603    1.240113e+30   \n1669      1669    95   372860002    148    12.082200    1.665466e+26   \n9701      9701    95   610776002    167    12.068222    6.671693e+26   \n...        ...   ...         ...    ...          ...             ...   \n133801  133801   104   918522001    221    18.176623    4.103318e+42   \n133803  133803   104   918525001    124    19.163821    1.312074e+40   \n131971  131971   104   924243001    217    19.100840    4.249565e+44   \n134985  134985   104   924243002    100    19.172871    2.216876e+38   \n129636  129636   104   929165002    135    18.214038    6.338406e+38   \n\n        ranked_weighted_sales  \n176                         6  \n609                        11  \n1659                        1  \n1669                       12  \n9701                        8  \n...                       ...  \n133801                      4  \n133803                      7  \n131971                      1  \n134985                     11  \n129636                      9  \n\n[120 rows x 7 columns]",
      "text/html": "<div>\n<style scoped>\n    .dataframe tbody tr th:only-of-type {\n        vertical-align: middle;\n    }\n\n    .dataframe tbody tr th {\n        vertical-align: top;\n    }\n\n    .dataframe thead th {\n        text-align: right;\n    }\n</style>\n<table border=\"1\" class=\"dataframe\">\n  <thead>\n    <tr style=\"text-align: right;\">\n      <th></th>\n      <th>index</th>\n      <th>week</th>\n      <th>article_id</th>\n      <th>count</th>\n      <th>young/no_FN</th>\n      <th>weighted_sales</th>\n      <th>ranked_weighted_sales</th>\n    </tr>\n  </thead>\n  <tbody>\n    <tr>\n      <th>176</th>\n      <td>176</td>\n      <td>95</td>\n      <td>156231001</td>\n      <td>60</td>\n      <td>15.219248</td>\n      <td>1.153786e+27</td>\n      <td>6</td>\n    </tr>\n    <tr>\n      <th>609</th>\n      <td>609</td>\n      <td>95</td>\n      <td>228257001</td>\n      <td>56</td>\n      <td>15.091909</td>\n      <td>2.418209e+26</td>\n      <td>11</td>\n    </tr>\n    <tr>\n      <th>1659</th>\n      <td>1659</td>\n      <td>95</td>\n      <td>372860001</td>\n      <td>180</td>\n      <td>13.343603</td>\n      <td>1.240113e+30</td>\n      <td>1</td>\n    </tr>\n    <tr>\n      <th>1669</th>\n      <td>1669</td>\n      <td>95</td>\n      <td>372860002</td>\n      <td>148</td>\n      <td>12.082200</td>\n      <td>1.665466e+26</td>\n      <td>12</td>\n    </tr>\n    <tr>\n      <th>9701</th>\n      <td>9701</td>\n      <td>95</td>\n      <td>610776002</td>\n      <td>167</td>\n      <td>12.068222</td>\n      <td>6.671693e+26</td>\n      <td>8</td>\n    </tr>\n    <tr>\n      <th>...</th>\n      <td>...</td>\n      <td>...</td>\n      <td>...</td>\n      <td>...</td>\n      <td>...</td>\n      <td>...</td>\n      <td>...</td>\n    </tr>\n    <tr>\n      <th>133801</th>\n      <td>133801</td>\n      <td>104</td>\n      <td>918522001</td>\n      <td>221</td>\n      <td>18.176623</td>\n      <td>4.103318e+42</td>\n      <td>4</td>\n    </tr>\n    <tr>\n      <th>133803</th>\n      <td>133803</td>\n      <td>104</td>\n      <td>918525001</td>\n      <td>124</td>\n      <td>19.163821</td>\n      <td>1.312074e+40</td>\n      <td>7</td>\n    </tr>\n    <tr>\n      <th>131971</th>\n      <td>131971</td>\n      <td>104</td>\n      <td>924243001</td>\n      <td>217</td>\n      <td>19.100840</td>\n      <td>4.249565e+44</td>\n      <td>1</td>\n    </tr>\n    <tr>\n      <th>134985</th>\n      <td>134985</td>\n      <td>104</td>\n      <td>924243002</td>\n      <td>100</td>\n      <td>19.172871</td>\n      <td>2.216876e+38</td>\n      <td>11</td>\n    </tr>\n    <tr>\n      <th>129636</th>\n      <td>129636</td>\n      <td>104</td>\n      <td>929165002</td>\n      <td>135</td>\n      <td>18.214038</td>\n      <td>6.338406e+38</td>\n      <td>9</td>\n    </tr>\n  </tbody>\n</table>\n<p>120 rows × 7 columns</p>\n</div>"
     },
     "execution_count": 137,
     "metadata": {},
     "output_type": "execute_result"
    }
   ],
   "source": [
    "sales_counts"
   ],
   "metadata": {
    "collapsed": false,
    "ExecuteTime": {
     "end_time": "2023-11-21T23:57:51.882418600Z",
     "start_time": "2023-11-21T23:57:51.854412Z"
    }
   },
   "id": "47cd3097cf1a3f8b"
  }
 ],
 "metadata": {
  "kernelspec": {
   "display_name": "Python 3",
   "language": "python",
   "name": "python3"
  },
  "language_info": {
   "codemirror_mode": {
    "name": "ipython",
    "version": 2
   },
   "file_extension": ".py",
   "mimetype": "text/x-python",
   "name": "python",
   "nbconvert_exporter": "python",
   "pygments_lexer": "ipython2",
   "version": "2.7.6"
  }
 },
 "nbformat": 4,
 "nbformat_minor": 5
}
