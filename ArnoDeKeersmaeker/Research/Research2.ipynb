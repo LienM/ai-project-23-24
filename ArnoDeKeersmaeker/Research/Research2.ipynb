{
 "cells": [
  {
   "cell_type": "code",
   "execution_count": 180,
   "id": "initial_id",
   "metadata": {
    "collapsed": true,
    "ExecuteTime": {
     "end_time": "2023-11-20T22:25:39.126392Z",
     "start_time": "2023-11-20T22:25:38.724296600Z"
    }
   },
   "outputs": [],
   "source": [
    "import pandas as pd\n",
    "import seaborn as sns\n",
    "import matplotlib.pyplot as plt\n",
    "import numpy as np\n",
    "from sklearn.preprocessing import MinMaxScaler\n",
    "from lightgbm.sklearn import LGBMRanker\n",
    "from experiment_template import *\n",
    "import os as os"
   ]
  },
  {
   "cell_type": "code",
   "execution_count": 181,
   "outputs": [
    {
     "name": "stdout",
     "output_type": "stream",
     "text": [
      "C:\\Users\\Arno\\Documents\\GitHub\\ai-project-23-24\\ArnoDeKeersmaeker\\Research\n"
     ]
    }
   ],
   "source": [
    "path = \"../Data/\"\n",
    "print(os.getcwd())\n",
    "transactions_train = pd.read_parquet(path + 'transactions_train.parquet')\n",
    "customers = pd.read_parquet(path + 'customers.parquet')\n",
    "articles = pd.read_parquet(path + 'articles.parquet')\n",
    "sample_submission = pd.read_csv(path + 'sample_submission.csv')"
   ],
   "metadata": {
    "collapsed": false,
    "ExecuteTime": {
     "end_time": "2023-11-20T22:25:41.340271300Z",
     "start_time": "2023-11-20T22:25:38.736299200Z"
    }
   },
   "id": "7cdfc3d97fe55e09"
  },
  {
   "cell_type": "code",
   "execution_count": 182,
   "outputs": [
    {
     "data": {
      "text/plain": "           t_dat       customer_id  article_id     price  sales_channel_id  \\\n25784 2018-09-20  1728846800780188   519773001  0.028458                 2   \n25785 2018-09-20  1728846800780188   578472001  0.032525                 2   \n5389  2018-09-20  2076973761519164   661795002  0.167797                 2   \n5390  2018-09-20  2076973761519164   684080003  0.101678                 2   \n47429 2018-09-20  2918879973994241   662980001  0.033881                 1   \n\n       week  \n25784     0  \n25785     0  \n5389      0  \n5390      0  \n47429     0  ",
      "text/html": "<div>\n<style scoped>\n    .dataframe tbody tr th:only-of-type {\n        vertical-align: middle;\n    }\n\n    .dataframe tbody tr th {\n        vertical-align: top;\n    }\n\n    .dataframe thead th {\n        text-align: right;\n    }\n</style>\n<table border=\"1\" class=\"dataframe\">\n  <thead>\n    <tr style=\"text-align: right;\">\n      <th></th>\n      <th>t_dat</th>\n      <th>customer_id</th>\n      <th>article_id</th>\n      <th>price</th>\n      <th>sales_channel_id</th>\n      <th>week</th>\n    </tr>\n  </thead>\n  <tbody>\n    <tr>\n      <th>25784</th>\n      <td>2018-09-20</td>\n      <td>1728846800780188</td>\n      <td>519773001</td>\n      <td>0.028458</td>\n      <td>2</td>\n      <td>0</td>\n    </tr>\n    <tr>\n      <th>25785</th>\n      <td>2018-09-20</td>\n      <td>1728846800780188</td>\n      <td>578472001</td>\n      <td>0.032525</td>\n      <td>2</td>\n      <td>0</td>\n    </tr>\n    <tr>\n      <th>5389</th>\n      <td>2018-09-20</td>\n      <td>2076973761519164</td>\n      <td>661795002</td>\n      <td>0.167797</td>\n      <td>2</td>\n      <td>0</td>\n    </tr>\n    <tr>\n      <th>5390</th>\n      <td>2018-09-20</td>\n      <td>2076973761519164</td>\n      <td>684080003</td>\n      <td>0.101678</td>\n      <td>2</td>\n      <td>0</td>\n    </tr>\n    <tr>\n      <th>47429</th>\n      <td>2018-09-20</td>\n      <td>2918879973994241</td>\n      <td>662980001</td>\n      <td>0.033881</td>\n      <td>1</td>\n      <td>0</td>\n    </tr>\n  </tbody>\n</table>\n</div>"
     },
     "execution_count": 182,
     "metadata": {},
     "output_type": "execute_result"
    }
   ],
   "source": [
    "transactions_train.head()"
   ],
   "metadata": {
    "collapsed": false,
    "ExecuteTime": {
     "end_time": "2023-11-20T22:25:41.358275600Z",
     "start_time": "2023-11-20T22:25:41.340271300Z"
    }
   },
   "id": "5ec05ab31f8b36b3"
  },
  {
   "cell_type": "code",
   "execution_count": 183,
   "outputs": [],
   "source": [
    "# Define periods here\n",
    "seasons = {\n",
    "    \"Summer\": [6,7,8],\n",
    "    \"Autumn\": [9,10,11],\n",
    "    \"Winter\": [12,1,2],\n",
    "    \"Spring\": [3,4,5]\n",
    "}\n",
    "# Define the name of the current period (end of September)\n",
    "current_season = \"Autumn\"\n",
    "\n",
    "assert current_season in seasons.keys() # Current period exists\n",
    "assert set(month_nr for month_nrs in seasons.values() for month_nr in month_nrs) == set(range(1,13)) # All months are in a period\n",
    "inverted = {month_nr: period for period, month_nrs in seasons.items() for month_nr in month_nrs} # For more efficient lookup\n",
    "\n",
    "def get_season(month_nr):\n",
    "    assert month_nr in range(1,13)\n",
    "    return inverted[month_nr]\n",
    "\n",
    "transactions_train[\"t_dat\"] = pd.to_datetime(transactions_train[\"t_dat\"])\n",
    "transactions_train[\"season\"] = transactions_train[\"t_dat\"].dt.month.apply(get_season)"
   ],
   "metadata": {
    "collapsed": false,
    "ExecuteTime": {
     "end_time": "2023-11-20T22:25:46.847718600Z",
     "start_time": "2023-11-20T22:25:41.356275300Z"
    }
   },
   "id": "61c8333e12d7c0"
  },
  {
   "cell_type": "code",
   "execution_count": 184,
   "outputs": [
    {
     "data": {
      "text/plain": "           t_dat       customer_id  article_id     price  sales_channel_id  \\\n25784 2018-09-20  1728846800780188   519773001  0.028458                 2   \n25785 2018-09-20  1728846800780188   578472001  0.032525                 2   \n5389  2018-09-20  2076973761519164   661795002  0.167797                 2   \n5390  2018-09-20  2076973761519164   684080003  0.101678                 2   \n47429 2018-09-20  2918879973994241   662980001  0.033881                 1   \n\n       week  season  \n25784     0  Autumn  \n25785     0  Autumn  \n5389      0  Autumn  \n5390      0  Autumn  \n47429     0  Autumn  ",
      "text/html": "<div>\n<style scoped>\n    .dataframe tbody tr th:only-of-type {\n        vertical-align: middle;\n    }\n\n    .dataframe tbody tr th {\n        vertical-align: top;\n    }\n\n    .dataframe thead th {\n        text-align: right;\n    }\n</style>\n<table border=\"1\" class=\"dataframe\">\n  <thead>\n    <tr style=\"text-align: right;\">\n      <th></th>\n      <th>t_dat</th>\n      <th>customer_id</th>\n      <th>article_id</th>\n      <th>price</th>\n      <th>sales_channel_id</th>\n      <th>week</th>\n      <th>season</th>\n    </tr>\n  </thead>\n  <tbody>\n    <tr>\n      <th>25784</th>\n      <td>2018-09-20</td>\n      <td>1728846800780188</td>\n      <td>519773001</td>\n      <td>0.028458</td>\n      <td>2</td>\n      <td>0</td>\n      <td>Autumn</td>\n    </tr>\n    <tr>\n      <th>25785</th>\n      <td>2018-09-20</td>\n      <td>1728846800780188</td>\n      <td>578472001</td>\n      <td>0.032525</td>\n      <td>2</td>\n      <td>0</td>\n      <td>Autumn</td>\n    </tr>\n    <tr>\n      <th>5389</th>\n      <td>2018-09-20</td>\n      <td>2076973761519164</td>\n      <td>661795002</td>\n      <td>0.167797</td>\n      <td>2</td>\n      <td>0</td>\n      <td>Autumn</td>\n    </tr>\n    <tr>\n      <th>5390</th>\n      <td>2018-09-20</td>\n      <td>2076973761519164</td>\n      <td>684080003</td>\n      <td>0.101678</td>\n      <td>2</td>\n      <td>0</td>\n      <td>Autumn</td>\n    </tr>\n    <tr>\n      <th>47429</th>\n      <td>2018-09-20</td>\n      <td>2918879973994241</td>\n      <td>662980001</td>\n      <td>0.033881</td>\n      <td>1</td>\n      <td>0</td>\n      <td>Autumn</td>\n    </tr>\n  </tbody>\n</table>\n</div>"
     },
     "execution_count": 184,
     "metadata": {},
     "output_type": "execute_result"
    }
   ],
   "source": [
    "transactions_train.head()"
   ],
   "metadata": {
    "collapsed": false,
    "ExecuteTime": {
     "end_time": "2023-11-20T22:25:46.869723800Z",
     "start_time": "2023-11-20T22:25:46.845717900Z"
    }
   },
   "id": "70704c92f8580d8f"
  },
  {
   "cell_type": "code",
   "execution_count": 185,
   "outputs": [
    {
     "data": {
      "text/plain": "         season           customer_id  count\n0        Autumn        25398598941468      1\n1        Autumn        28847241659200     26\n2        Autumn        41318098387474      6\n3        Autumn        43757848922470     10\n4        Autumn        77117344919861     71\n...         ...                   ...    ...\n3078769  Winter  18446624797007271432      8\n3078770  Winter  18446627193867800506      5\n3078771  Winter  18446630855572834764      4\n3078772  Winter  18446662237889060501      2\n3078773  Winter  18446737527580148316     18\n\n[3078774 rows x 3 columns]",
      "text/html": "<div>\n<style scoped>\n    .dataframe tbody tr th:only-of-type {\n        vertical-align: middle;\n    }\n\n    .dataframe tbody tr th {\n        vertical-align: top;\n    }\n\n    .dataframe thead th {\n        text-align: right;\n    }\n</style>\n<table border=\"1\" class=\"dataframe\">\n  <thead>\n    <tr style=\"text-align: right;\">\n      <th></th>\n      <th>season</th>\n      <th>customer_id</th>\n      <th>count</th>\n    </tr>\n  </thead>\n  <tbody>\n    <tr>\n      <th>0</th>\n      <td>Autumn</td>\n      <td>25398598941468</td>\n      <td>1</td>\n    </tr>\n    <tr>\n      <th>1</th>\n      <td>Autumn</td>\n      <td>28847241659200</td>\n      <td>26</td>\n    </tr>\n    <tr>\n      <th>2</th>\n      <td>Autumn</td>\n      <td>41318098387474</td>\n      <td>6</td>\n    </tr>\n    <tr>\n      <th>3</th>\n      <td>Autumn</td>\n      <td>43757848922470</td>\n      <td>10</td>\n    </tr>\n    <tr>\n      <th>4</th>\n      <td>Autumn</td>\n      <td>77117344919861</td>\n      <td>71</td>\n    </tr>\n    <tr>\n      <th>...</th>\n      <td>...</td>\n      <td>...</td>\n      <td>...</td>\n    </tr>\n    <tr>\n      <th>3078769</th>\n      <td>Winter</td>\n      <td>18446624797007271432</td>\n      <td>8</td>\n    </tr>\n    <tr>\n      <th>3078770</th>\n      <td>Winter</td>\n      <td>18446627193867800506</td>\n      <td>5</td>\n    </tr>\n    <tr>\n      <th>3078771</th>\n      <td>Winter</td>\n      <td>18446630855572834764</td>\n      <td>4</td>\n    </tr>\n    <tr>\n      <th>3078772</th>\n      <td>Winter</td>\n      <td>18446662237889060501</td>\n      <td>2</td>\n    </tr>\n    <tr>\n      <th>3078773</th>\n      <td>Winter</td>\n      <td>18446737527580148316</td>\n      <td>18</td>\n    </tr>\n  </tbody>\n</table>\n<p>3078774 rows × 3 columns</p>\n</div>"
     },
     "execution_count": 185,
     "metadata": {},
     "output_type": "execute_result"
    }
   ],
   "source": [
    "temp1 = transactions_train.groupby([\"season\", \"customer_id\"]).size().reset_index(name=\"count\")\n",
    "temp1"
   ],
   "metadata": {
    "collapsed": false,
    "ExecuteTime": {
     "end_time": "2023-11-20T22:25:50.410558400Z",
     "start_time": "2023-11-20T22:25:46.860722100Z"
    }
   },
   "id": "58bb28fe02c7add6"
  },
  {
   "cell_type": "code",
   "execution_count": 186,
   "outputs": [
    {
     "data": {
      "text/plain": "                  customer_id  FN  Active  club_member_status  \\\n0         6883939031699146327  -1      -1                   0   \n1        11246327431398957306  -1      -1                   0   \n2        18439897732908966680  -1      -1                   0   \n3        18352672461570950206  -1      -1                   0   \n4        18162778555210377306   1       1                   0   \n...                       ...  ..     ...                 ...   \n1371975   7551062398649767985  -1      -1                   0   \n1371976   9305341941720086711  -1      -1                   0   \n1371977  10160427316885688932   1       1                   0   \n1371978   2551401172826382186   1       1                   0   \n1371979  16929951892735599169  -1      -1                   1   \n\n         fashion_news_frequency  age  postal_code  \n0                             0   49         6305  \n1                             0   25        33726  \n2                             0   24         3247  \n3                             0   54       168643  \n4                             1   52       168645  \n...                         ...  ...          ...  \n1371975                       0   24        50351  \n1371976                       0   21        80169  \n1371977                       1   21       106737  \n1371978                       1   18       111894  \n1371979                       0   65       352898  \n\n[1371980 rows x 7 columns]",
      "text/html": "<div>\n<style scoped>\n    .dataframe tbody tr th:only-of-type {\n        vertical-align: middle;\n    }\n\n    .dataframe tbody tr th {\n        vertical-align: top;\n    }\n\n    .dataframe thead th {\n        text-align: right;\n    }\n</style>\n<table border=\"1\" class=\"dataframe\">\n  <thead>\n    <tr style=\"text-align: right;\">\n      <th></th>\n      <th>customer_id</th>\n      <th>FN</th>\n      <th>Active</th>\n      <th>club_member_status</th>\n      <th>fashion_news_frequency</th>\n      <th>age</th>\n      <th>postal_code</th>\n    </tr>\n  </thead>\n  <tbody>\n    <tr>\n      <th>0</th>\n      <td>6883939031699146327</td>\n      <td>-1</td>\n      <td>-1</td>\n      <td>0</td>\n      <td>0</td>\n      <td>49</td>\n      <td>6305</td>\n    </tr>\n    <tr>\n      <th>1</th>\n      <td>11246327431398957306</td>\n      <td>-1</td>\n      <td>-1</td>\n      <td>0</td>\n      <td>0</td>\n      <td>25</td>\n      <td>33726</td>\n    </tr>\n    <tr>\n      <th>2</th>\n      <td>18439897732908966680</td>\n      <td>-1</td>\n      <td>-1</td>\n      <td>0</td>\n      <td>0</td>\n      <td>24</td>\n      <td>3247</td>\n    </tr>\n    <tr>\n      <th>3</th>\n      <td>18352672461570950206</td>\n      <td>-1</td>\n      <td>-1</td>\n      <td>0</td>\n      <td>0</td>\n      <td>54</td>\n      <td>168643</td>\n    </tr>\n    <tr>\n      <th>4</th>\n      <td>18162778555210377306</td>\n      <td>1</td>\n      <td>1</td>\n      <td>0</td>\n      <td>1</td>\n      <td>52</td>\n      <td>168645</td>\n    </tr>\n    <tr>\n      <th>...</th>\n      <td>...</td>\n      <td>...</td>\n      <td>...</td>\n      <td>...</td>\n      <td>...</td>\n      <td>...</td>\n      <td>...</td>\n    </tr>\n    <tr>\n      <th>1371975</th>\n      <td>7551062398649767985</td>\n      <td>-1</td>\n      <td>-1</td>\n      <td>0</td>\n      <td>0</td>\n      <td>24</td>\n      <td>50351</td>\n    </tr>\n    <tr>\n      <th>1371976</th>\n      <td>9305341941720086711</td>\n      <td>-1</td>\n      <td>-1</td>\n      <td>0</td>\n      <td>0</td>\n      <td>21</td>\n      <td>80169</td>\n    </tr>\n    <tr>\n      <th>1371977</th>\n      <td>10160427316885688932</td>\n      <td>1</td>\n      <td>1</td>\n      <td>0</td>\n      <td>1</td>\n      <td>21</td>\n      <td>106737</td>\n    </tr>\n    <tr>\n      <th>1371978</th>\n      <td>2551401172826382186</td>\n      <td>1</td>\n      <td>1</td>\n      <td>0</td>\n      <td>1</td>\n      <td>18</td>\n      <td>111894</td>\n    </tr>\n    <tr>\n      <th>1371979</th>\n      <td>16929951892735599169</td>\n      <td>-1</td>\n      <td>-1</td>\n      <td>1</td>\n      <td>0</td>\n      <td>65</td>\n      <td>352898</td>\n    </tr>\n  </tbody>\n</table>\n<p>1371980 rows × 7 columns</p>\n</div>"
     },
     "execution_count": 186,
     "metadata": {},
     "output_type": "execute_result"
    }
   ],
   "source": [
    "# replace age -1 by average age\n",
    "average_age = int(customers[customers['age'] != -1]['age'].mean())\n",
    "customers['age'] = customers['age'].replace(-1, int(average_age))\n",
    "customers"
   ],
   "metadata": {
    "collapsed": false,
    "ExecuteTime": {
     "end_time": "2023-11-20T22:25:50.489576900Z",
     "start_time": "2023-11-20T22:25:50.408557900Z"
    }
   },
   "id": "8624fac23ec975c1"
  },
  {
   "cell_type": "code",
   "execution_count": 187,
   "outputs": [
    {
     "data": {
      "text/plain": "   FN   count\n0  -1  895050\n1   1  476930",
      "text/html": "<div>\n<style scoped>\n    .dataframe tbody tr th:only-of-type {\n        vertical-align: middle;\n    }\n\n    .dataframe tbody tr th {\n        vertical-align: top;\n    }\n\n    .dataframe thead th {\n        text-align: right;\n    }\n</style>\n<table border=\"1\" class=\"dataframe\">\n  <thead>\n    <tr style=\"text-align: right;\">\n      <th></th>\n      <th>FN</th>\n      <th>count</th>\n    </tr>\n  </thead>\n  <tbody>\n    <tr>\n      <th>0</th>\n      <td>-1</td>\n      <td>895050</td>\n    </tr>\n    <tr>\n      <th>1</th>\n      <td>1</td>\n      <td>476930</td>\n    </tr>\n  </tbody>\n</table>\n</div>"
     },
     "execution_count": 187,
     "metadata": {},
     "output_type": "execute_result"
    }
   ],
   "source": [
    "customers.groupby([\"FN\"]).size().reset_index(name=\"count\")"
   ],
   "metadata": {
    "collapsed": false,
    "ExecuteTime": {
     "end_time": "2023-11-20T22:25:50.504580500Z",
     "start_time": "2023-11-20T22:25:50.456569200Z"
    }
   },
   "id": "d38b1863f61f91c8"
  },
  {
   "cell_type": "code",
   "execution_count": 188,
   "outputs": [
    {
     "name": "stdout",
     "output_type": "stream",
     "text": [
      "['no_FN', 'yes_FN']\n"
     ]
    },
    {
     "data": {
      "text/plain": "                  customer_id  FN  Active  club_member_status  \\\n0         6883939031699146327  -1      -1                   0   \n1        11246327431398957306  -1      -1                   0   \n2        18439897732908966680  -1      -1                   0   \n3        18352672461570950206  -1      -1                   0   \n4        18162778555210377306   1       1                   0   \n...                       ...  ..     ...                 ...   \n1371975   7551062398649767985  -1      -1                   0   \n1371976   9305341941720086711  -1      -1                   0   \n1371977  10160427316885688932   1       1                   0   \n1371978   2551401172826382186   1       1                   0   \n1371979  16929951892735599169  -1      -1                   1   \n\n         fashion_news_frequency  age  postal_code segment  \n0                             0   49         6305   no_FN  \n1                             0   25        33726   no_FN  \n2                             0   24         3247   no_FN  \n3                             0   54       168643   no_FN  \n4                             1   52       168645  yes_FN  \n...                         ...  ...          ...     ...  \n1371975                       0   24        50351   no_FN  \n1371976                       0   21        80169   no_FN  \n1371977                       1   21       106737  yes_FN  \n1371978                       1   18       111894  yes_FN  \n1371979                       0   65       352898   no_FN  \n\n[1371980 rows x 8 columns]",
      "text/html": "<div>\n<style scoped>\n    .dataframe tbody tr th:only-of-type {\n        vertical-align: middle;\n    }\n\n    .dataframe tbody tr th {\n        vertical-align: top;\n    }\n\n    .dataframe thead th {\n        text-align: right;\n    }\n</style>\n<table border=\"1\" class=\"dataframe\">\n  <thead>\n    <tr style=\"text-align: right;\">\n      <th></th>\n      <th>customer_id</th>\n      <th>FN</th>\n      <th>Active</th>\n      <th>club_member_status</th>\n      <th>fashion_news_frequency</th>\n      <th>age</th>\n      <th>postal_code</th>\n      <th>segment</th>\n    </tr>\n  </thead>\n  <tbody>\n    <tr>\n      <th>0</th>\n      <td>6883939031699146327</td>\n      <td>-1</td>\n      <td>-1</td>\n      <td>0</td>\n      <td>0</td>\n      <td>49</td>\n      <td>6305</td>\n      <td>no_FN</td>\n    </tr>\n    <tr>\n      <th>1</th>\n      <td>11246327431398957306</td>\n      <td>-1</td>\n      <td>-1</td>\n      <td>0</td>\n      <td>0</td>\n      <td>25</td>\n      <td>33726</td>\n      <td>no_FN</td>\n    </tr>\n    <tr>\n      <th>2</th>\n      <td>18439897732908966680</td>\n      <td>-1</td>\n      <td>-1</td>\n      <td>0</td>\n      <td>0</td>\n      <td>24</td>\n      <td>3247</td>\n      <td>no_FN</td>\n    </tr>\n    <tr>\n      <th>3</th>\n      <td>18352672461570950206</td>\n      <td>-1</td>\n      <td>-1</td>\n      <td>0</td>\n      <td>0</td>\n      <td>54</td>\n      <td>168643</td>\n      <td>no_FN</td>\n    </tr>\n    <tr>\n      <th>4</th>\n      <td>18162778555210377306</td>\n      <td>1</td>\n      <td>1</td>\n      <td>0</td>\n      <td>1</td>\n      <td>52</td>\n      <td>168645</td>\n      <td>yes_FN</td>\n    </tr>\n    <tr>\n      <th>...</th>\n      <td>...</td>\n      <td>...</td>\n      <td>...</td>\n      <td>...</td>\n      <td>...</td>\n      <td>...</td>\n      <td>...</td>\n      <td>...</td>\n    </tr>\n    <tr>\n      <th>1371975</th>\n      <td>7551062398649767985</td>\n      <td>-1</td>\n      <td>-1</td>\n      <td>0</td>\n      <td>0</td>\n      <td>24</td>\n      <td>50351</td>\n      <td>no_FN</td>\n    </tr>\n    <tr>\n      <th>1371976</th>\n      <td>9305341941720086711</td>\n      <td>-1</td>\n      <td>-1</td>\n      <td>0</td>\n      <td>0</td>\n      <td>21</td>\n      <td>80169</td>\n      <td>no_FN</td>\n    </tr>\n    <tr>\n      <th>1371977</th>\n      <td>10160427316885688932</td>\n      <td>1</td>\n      <td>1</td>\n      <td>0</td>\n      <td>1</td>\n      <td>21</td>\n      <td>106737</td>\n      <td>yes_FN</td>\n    </tr>\n    <tr>\n      <th>1371978</th>\n      <td>2551401172826382186</td>\n      <td>1</td>\n      <td>1</td>\n      <td>0</td>\n      <td>1</td>\n      <td>18</td>\n      <td>111894</td>\n      <td>yes_FN</td>\n    </tr>\n    <tr>\n      <th>1371979</th>\n      <td>16929951892735599169</td>\n      <td>-1</td>\n      <td>-1</td>\n      <td>1</td>\n      <td>0</td>\n      <td>65</td>\n      <td>352898</td>\n      <td>no_FN</td>\n    </tr>\n  </tbody>\n</table>\n<p>1371980 rows × 8 columns</p>\n</div>"
     },
     "execution_count": 188,
     "metadata": {},
     "output_type": "execute_result"
    }
   ],
   "source": [
    "# Define customer segments. Defined columns need to exist for customer\n",
    "segments = {\n",
    "    # \"age\" : {float(age): \"young\" if age < 30 else \"middle\" if age < 60 else \"old\" for age in range(0,120)},\n",
    "    \"FN\" : {1.0 : \"yes_FN\", -1.0: \"no_FN\"},\n",
    "}\n",
    "\n",
    "for column in segments.keys():\n",
    "    assert column in customers.columns\n",
    "\n",
    "segmented_customers = customers.copy()\n",
    "segment_names = set()\n",
    "\n",
    "def assign_segment(row):\n",
    "    # Decide the segment for a single customer\n",
    "    segment_name = [segments[column][row[column]] for column in segments]\n",
    "    segment_name = \"/\".join(segment_name)\n",
    "    segment_names.add(segment_name)\n",
    "    return segment_name\n",
    "\n",
    "# Apply to every customer\n",
    "segmented_customers['segment'] = customers.apply(assign_segment, axis=1)\n",
    "segment_names = list(segment_names)\n",
    "\n",
    "print(segment_names)\n",
    "segmented_customers"
   ],
   "metadata": {
    "collapsed": false,
    "ExecuteTime": {
     "end_time": "2023-11-20T22:25:54.054417Z",
     "start_time": "2023-11-20T22:25:50.489576900Z"
    }
   },
   "id": "be2b9c02522df743"
  },
  {
   "cell_type": "code",
   "execution_count": 189,
   "outputs": [],
   "source": [
    "# We only need id and segment in order to join with transactions\n",
    "segmented_customers = segmented_customers[['customer_id', 'segment']]"
   ],
   "metadata": {
    "collapsed": false,
    "ExecuteTime": {
     "end_time": "2023-11-20T22:25:54.095426700Z",
     "start_time": "2023-11-20T22:25:54.049415800Z"
    }
   },
   "id": "c46dfff4a5c44688"
  },
  {
   "cell_type": "code",
   "execution_count": 190,
   "outputs": [
    {
     "data": {
      "text/plain": "<Axes: xlabel='segment'>"
     },
     "execution_count": 190,
     "metadata": {},
     "output_type": "execute_result"
    },
    {
     "data": {
      "text/plain": "<Figure size 640x480 with 1 Axes>",
      "image/png": "[encoded data removed]"
     },
     "metadata": {},
     "output_type": "display_data"
    }
   ],
   "source": [
    "# visualize segment sizes\n",
    "segmented_customers['segment'].value_counts().plot(kind='bar')"
   ],
   "metadata": {
    "collapsed": false,
    "ExecuteTime": {
     "end_time": "2023-11-20T22:25:54.196450400Z",
     "start_time": "2023-11-20T22:25:54.065419700Z"
    }
   },
   "id": "e37c92b1fddb6f7e"
  },
  {
   "cell_type": "code",
   "execution_count": 191,
   "outputs": [
    {
     "name": "stdout",
     "output_type": "stream",
     "text": [
      "dict_keys(['no_FN', 'yes_FN'])\n"
     ]
    }
   ],
   "source": [
    "# split the transactions into a dictionary of transactions per segment\n",
    "transactions_per_segment = {}\n",
    "transactions = pd.merge(transactions_train, segmented_customers, on=\"customer_id\") # add segment to customers\n",
    "\n",
    "# split transactions into segments\n",
    "for segment_name in segment_names: \n",
    "    transactions_per_segment[segment_name] = transactions[transactions['segment'] == segment_name]\n",
    "print(transactions_per_segment.keys())"
   ],
   "metadata": {
    "collapsed": false,
    "ExecuteTime": {
     "end_time": "2023-11-20T22:26:01.449159500Z",
     "start_time": "2023-11-20T22:25:54.178446300Z"
    }
   },
   "id": "6e52565b297ecdbd"
  },
  {
   "cell_type": "code",
   "execution_count": 192,
   "outputs": [
    {
     "data": {
      "text/plain": "              t_dat           customer_id  article_id     price  \\\n0        2018-09-20      1728846800780188   519773001  0.028458   \n1        2018-09-20      1728846800780188   578472001  0.032525   \n2        2018-10-05      1728846800780188   533518001  0.047441   \n3        2018-10-05      1728846800780188   569981006  0.020322   \n4        2018-10-05      1728846800780188   669393001  0.067797   \n...             ...                   ...         ...       ...   \n31788317 2020-09-22  18403657855694067653   836142004  0.016932   \n31788320 2020-09-22  18417769707947924979   729860001  0.022017   \n31788321 2020-09-22  18417769707947924979   889747001  0.022017   \n31788322 2020-09-22  18417769707947924979   778517001  0.022017   \n31788323 2020-09-22  18417769707947924979   872002001  0.011847   \n\n          sales_channel_id  week  season segment  \n0                        2     0  Autumn   no_FN  \n1                        2     0  Autumn   no_FN  \n2                        2     2  Autumn   no_FN  \n3                        2     2  Autumn   no_FN  \n4                        2     2  Autumn   no_FN  \n...                    ...   ...     ...     ...  \n31788317                 2   104  Autumn   no_FN  \n31788320                 2   104  Autumn   no_FN  \n31788321                 2   104  Autumn   no_FN  \n31788322                 2   104  Autumn   no_FN  \n31788323                 2   104  Autumn   no_FN  \n\n[18209837 rows x 8 columns]",
      "text/html": "<div>\n<style scoped>\n    .dataframe tbody tr th:only-of-type {\n        vertical-align: middle;\n    }\n\n    .dataframe tbody tr th {\n        vertical-align: top;\n    }\n\n    .dataframe thead th {\n        text-align: right;\n    }\n</style>\n<table border=\"1\" class=\"dataframe\">\n  <thead>\n    <tr style=\"text-align: right;\">\n      <th></th>\n      <th>t_dat</th>\n      <th>customer_id</th>\n      <th>article_id</th>\n      <th>price</th>\n      <th>sales_channel_id</th>\n      <th>week</th>\n      <th>season</th>\n      <th>segment</th>\n    </tr>\n  </thead>\n  <tbody>\n    <tr>\n      <th>0</th>\n      <td>2018-09-20</td>\n      <td>1728846800780188</td>\n      <td>519773001</td>\n      <td>0.028458</td>\n      <td>2</td>\n      <td>0</td>\n      <td>Autumn</td>\n      <td>no_FN</td>\n    </tr>\n    <tr>\n      <th>1</th>\n      <td>2018-09-20</td>\n      <td>1728846800780188</td>\n      <td>578472001</td>\n      <td>0.032525</td>\n      <td>2</td>\n      <td>0</td>\n      <td>Autumn</td>\n      <td>no_FN</td>\n    </tr>\n    <tr>\n      <th>2</th>\n      <td>2018-10-05</td>\n      <td>1728846800780188</td>\n      <td>533518001</td>\n      <td>0.047441</td>\n      <td>2</td>\n      <td>2</td>\n      <td>Autumn</td>\n      <td>no_FN</td>\n    </tr>\n    <tr>\n      <th>3</th>\n      <td>2018-10-05</td>\n      <td>1728846800780188</td>\n      <td>569981006</td>\n      <td>0.020322</td>\n      <td>2</td>\n      <td>2</td>\n      <td>Autumn</td>\n      <td>no_FN</td>\n    </tr>\n    <tr>\n      <th>4</th>\n      <td>2018-10-05</td>\n      <td>1728846800780188</td>\n      <td>669393001</td>\n      <td>0.067797</td>\n      <td>2</td>\n      <td>2</td>\n      <td>Autumn</td>\n      <td>no_FN</td>\n    </tr>\n    <tr>\n      <th>...</th>\n      <td>...</td>\n      <td>...</td>\n      <td>...</td>\n      <td>...</td>\n      <td>...</td>\n      <td>...</td>\n      <td>...</td>\n      <td>...</td>\n    </tr>\n    <tr>\n      <th>31788317</th>\n      <td>2020-09-22</td>\n      <td>18403657855694067653</td>\n      <td>836142004</td>\n      <td>0.016932</td>\n      <td>2</td>\n      <td>104</td>\n      <td>Autumn</td>\n      <td>no_FN</td>\n    </tr>\n    <tr>\n      <th>31788320</th>\n      <td>2020-09-22</td>\n      <td>18417769707947924979</td>\n      <td>729860001</td>\n      <td>0.022017</td>\n      <td>2</td>\n      <td>104</td>\n      <td>Autumn</td>\n      <td>no_FN</td>\n    </tr>\n    <tr>\n      <th>31788321</th>\n      <td>2020-09-22</td>\n      <td>18417769707947924979</td>\n      <td>889747001</td>\n      <td>0.022017</td>\n      <td>2</td>\n      <td>104</td>\n      <td>Autumn</td>\n      <td>no_FN</td>\n    </tr>\n    <tr>\n      <th>31788322</th>\n      <td>2020-09-22</td>\n      <td>18417769707947924979</td>\n      <td>778517001</td>\n      <td>0.022017</td>\n      <td>2</td>\n      <td>104</td>\n      <td>Autumn</td>\n      <td>no_FN</td>\n    </tr>\n    <tr>\n      <th>31788323</th>\n      <td>2020-09-22</td>\n      <td>18417769707947924979</td>\n      <td>872002001</td>\n      <td>0.011847</td>\n      <td>2</td>\n      <td>104</td>\n      <td>Autumn</td>\n      <td>no_FN</td>\n    </tr>\n  </tbody>\n</table>\n<p>18209837 rows × 8 columns</p>\n</div>"
     },
     "execution_count": 192,
     "metadata": {},
     "output_type": "execute_result"
    }
   ],
   "source": [
    "next(iter(transactions_per_segment.values()))"
   ],
   "metadata": {
    "collapsed": false,
    "ExecuteTime": {
     "end_time": "2023-11-20T22:26:01.496170700Z",
     "start_time": "2023-11-20T22:26:01.450159700Z"
    }
   },
   "id": "52fc7748f17adeff"
  },
  {
   "cell_type": "code",
   "execution_count": 193,
   "outputs": [
    {
     "data": {
      "text/plain": "{'no_FN': 0.24141122185772448, 'yes_FN': 0.2383644068739028}"
     },
     "execution_count": 193,
     "metadata": {},
     "output_type": "execute_result"
    }
   ],
   "source": [
    "# for each segment, find the relative size of the current season compared to all seasons\n",
    "\n",
    "relative_size_per_segment = {}\n",
    "\n",
    "# calculated fully separated based on segment\n",
    "for segment_name, segment in transactions_per_segment.items():\n",
    "    current_period_size = len(segment[segment['season'] == current_season]) # amount of transactions in current season\n",
    "    all_periods_size = len(segment) # amount of transactions in all seasons\n",
    "    relative_size_per_segment[segment_name] = current_period_size / all_periods_size\n",
    "\n",
    "relative_size_per_segment"
   ],
   "metadata": {
    "collapsed": false,
    "ExecuteTime": {
     "end_time": "2023-11-20T22:26:02.844488300Z",
     "start_time": "2023-11-20T22:26:01.468164Z"
    }
   },
   "id": "67ccee6d36423491"
  },
  {
   "cell_type": "code",
   "execution_count": 198,
   "outputs": [],
   "source": [
    "all_scores = {}\n",
    "\n",
    "# features to use for calculating seasonal score\n",
    "features = [\"prod_name\", \"product_type_name\", \"product_group_name\", \"graphical_appearance_name\", \"colour_group_name\", \"perceived_colour_value_name\", \"perceived_colour_master_name\", \"department_name\", \"index_name\", \"index_group_name\", \"section_name\", \"garment_group_name\"]"
   ],
   "metadata": {
    "collapsed": false,
    "ExecuteTime": {
     "end_time": "2023-11-20T22:26:11.036945300Z",
     "start_time": "2023-11-20T22:26:11.008938500Z"
    }
   },
   "id": "1198c29ee4ed88b9"
  },
  {
   "cell_type": "code",
   "execution_count": 199,
   "outputs": [
    {
     "name": "stdout",
     "output_type": "stream",
     "text": [
      "no_FN\n",
      "yes_FN\n"
     ]
    }
   ],
   "source": [
    "# for each segment, calculate all scores separately\n",
    "for segment_name, segment_transactions in transactions_per_segment.items():\n",
    "    print(f\"Current segment: {segment_name}\")\n",
    "    segment_transactions = pd.merge(segment_transactions, articles, on=\"article_id\")\n",
    "    \n",
    "    # find the ratio for each feature\n",
    "    for feature in features:\n",
    "        seasonal_sales_by_type = segment_transactions.groupby([\"season\", feature])[\"article_id\"].size().reset_index(name=\"count\")\n",
    "        assert seasonal_sales_by_type[\"count\"].sum() == len(segment_transactions)\n",
    "        relative_season_size = 1 / relative_size_per_segment[segment_name] # relative size of the current season compared to all seasons\n",
    "        \n",
    "        # Calculate the average sales over all seasons for each feature type (eg average sales of an article that's blue)\n",
    "        type_average_sales = seasonal_sales_by_type.groupby([feature])[\"count\"].sum().div(relative_season_size).reset_index(name = \"avg_all_seasons\")\n",
    "        \n",
    "        # Only current season is relevant from now on\n",
    "        seasonal_sales_by_type = seasonal_sales_by_type[seasonal_sales_by_type[\"season\"] == current_season]\n",
    "        seasonal_sales_by_type = seasonal_sales_by_type.merge(type_average_sales, on=feature)\n",
    "        seasonal_sales_by_type[\"season_ratio\"] = seasonal_sales_by_type[\"count\"] / seasonal_sales_by_type[\"avg_all_seasons\"]\n",
    "        \n",
    "        # Only keeping the 75% most sold combinations\n",
    "        threshold = seasonal_sales_by_type[\"count\"].quantile(0.25)\n",
    "        seasonal_sales_by_type = seasonal_sales_by_type[seasonal_sales_by_type[\"count\"] >= threshold]\n",
    "        \n",
    "        # Creating a ratio look up table\n",
    "        seasonal_sales_by_type = seasonal_sales_by_type[[feature, \"season_ratio\"]]\n",
    "        seasonal_sales_by_type = seasonal_sales_by_type.rename(columns = {feature: \"feature\"})\n",
    "        \n",
    "        # Save together with the other segments\n",
    "        all_scores[(segment_name, feature)] = seasonal_sales_by_type.set_index(\"feature\").to_dict()[\"season_ratio\"]"
   ],
   "metadata": {
    "collapsed": false,
    "ExecuteTime": {
     "end_time": "2023-11-20T22:26:35.937829500Z",
     "start_time": "2023-11-20T22:26:11.024942400Z"
    }
   },
   "id": "2aea2017e345fdc6"
  },
  {
   "cell_type": "code",
   "execution_count": 200,
   "outputs": [],
   "source": [
    "# Calculate the season compatibility scores for each article\n",
    "def create_article_scores(article):\n",
    "    result = [0 for _ in range(len(segment_names))] # all counters start at 0\n",
    "    \n",
    "    # feature by feature, use the segment tables to update the counter of the corresponding segments\n",
    "    for feature in features:\n",
    "        feature_value = article[feature] # the actual value of the article for the current feature\n",
    "        for i, segment_name in enumerate(segment_names):\n",
    "            score_table = all_scores[(segment_name, feature)] # table that gives the feature score of a segment\n",
    "            if not feature_value in score_table:\n",
    "                continue\n",
    "            result[i] += score_table[feature_value]\n",
    "    return pd.Series(result)"
   ],
   "metadata": {
    "collapsed": false,
    "ExecuteTime": {
     "end_time": "2023-11-20T22:26:35.962835400Z",
     "start_time": "2023-11-20T22:26:35.937829500Z"
    }
   },
   "id": "133c10d382478bbf"
  },
  {
   "cell_type": "code",
   "execution_count": 201,
   "outputs": [
    {
     "data": {
      "text/plain": "        article_id  product_code  prod_name  product_type_no  \\\n0        108775015        108775      12855              253   \n1        108775044        108775      12855              253   \n2        108775051        108775      44846              253   \n3        110065001        110065       8159              306   \n4        110065002        110065       8159              306   \n...            ...           ...        ...              ...   \n105537   953450001        953450      24043              302   \n105538   953763001        953763      24027              253   \n105539   956217002        956217      24040              265   \n105540   957375001        957375      24041               72   \n105541   959461001        959461      45874              265   \n\n        product_type_name  product_group_name  graphical_appearance_no  \\\n0                       9                   0                  1010016   \n1                       9                   0                  1010016   \n2                       9                   0                  1010017   \n3                      13                   4                  1010016   \n4                      13                   4                  1010016   \n...                   ...                 ...                      ...   \n105537                 14                   7                  1010014   \n105538                  9                   0                  1010016   \n105539                  1                   2                  1010016   \n105540                 48                   3                  1010016   \n105541                  1                   2                  1010016   \n\n        graphical_appearance_name  colour_group_code  colour_group_name  ...  \\\n0                               0                  9                  0  ...   \n1                               0                 10                  2  ...   \n2                               3                 11                 11  ...   \n3                               0                  9                  0  ...   \n4                               0                 10                  2  ...   \n...                           ...                ...                ...  ...   \n105537                          6                  9                  0  ...   \n105538                          0                  9                  0  ...   \n105539                          0                  9                  0  ...   \n105540                          0                  9                  0  ...   \n105541                          0                 11                 11  ...   \n\n        index_name  index_group_no  index_group_name  section_no  \\\n0                0               1                 0          16   \n1                0               1                 0          16   \n2                0               1                 0          16   \n3                7               1                 0          61   \n4                7               1                 0          61   \n...            ...             ...               ...         ...   \n105537           2               3                 3          26   \n105538           0               1                 0           2   \n105539           0               1                 0          18   \n105540           1               2                 2          52   \n105541           0               1                 0          18   \n\n        section_name  garment_group_no  garment_group_name  detail_desc  \\\n0                 30              1002                   2         8834   \n1                 30              1002                   2         8834   \n2                 30              1002                   2         8834   \n3                  5              1017                   4         8243   \n4                  5              1017                   4         8243   \n...              ...               ...                 ...          ...   \n105537            16              1021                  13        28026   \n105538            15              1005                   0        28025   \n105539            12              1005                   0        28024   \n105540            25              1019                   1        28023   \n105541            12              1005                   0        43403   \n\n           no_FN    yes_FN  \n0       0.471445  0.494865  \n1       0.402164  0.420153  \n2       0.550327  0.587711  \n3       0.446467  0.452130  \n4       0.377186  0.377418  \n...          ...       ...  \n105537  0.737982  0.756597  \n105538  0.619390  0.646479  \n105539  0.598163  0.622936  \n105540  0.455716  0.469032  \n105541  0.330054  0.344196  \n\n[105542 rows x 27 columns]",
      "text/html": "<div>\n<style scoped>\n    .dataframe tbody tr th:only-of-type {\n        vertical-align: middle;\n    }\n\n    .dataframe tbody tr th {\n        vertical-align: top;\n    }\n\n    .dataframe thead th {\n        text-align: right;\n    }\n</style>\n<table border=\"1\" class=\"dataframe\">\n  <thead>\n    <tr style=\"text-align: right;\">\n      <th></th>\n      <th>article_id</th>\n      <th>product_code</th>\n      <th>prod_name</th>\n      <th>product_type_no</th>\n      <th>product_type_name</th>\n      <th>product_group_name</th>\n      <th>graphical_appearance_no</th>\n      <th>graphical_appearance_name</th>\n      <th>colour_group_code</th>\n      <th>colour_group_name</th>\n      <th>...</th>\n      <th>index_name</th>\n      <th>index_group_no</th>\n      <th>index_group_name</th>\n      <th>section_no</th>\n      <th>section_name</th>\n      <th>garment_group_no</th>\n      <th>garment_group_name</th>\n      <th>detail_desc</th>\n      <th>no_FN</th>\n      <th>yes_FN</th>\n    </tr>\n  </thead>\n  <tbody>\n    <tr>\n      <th>0</th>\n      <td>108775015</td>\n      <td>108775</td>\n      <td>12855</td>\n      <td>253</td>\n      <td>9</td>\n      <td>0</td>\n      <td>1010016</td>\n      <td>0</td>\n      <td>9</td>\n      <td>0</td>\n      <td>...</td>\n      <td>0</td>\n      <td>1</td>\n      <td>0</td>\n      <td>16</td>\n      <td>30</td>\n      <td>1002</td>\n      <td>2</td>\n      <td>8834</td>\n      <td>0.471445</td>\n      <td>0.494865</td>\n    </tr>\n    <tr>\n      <th>1</th>\n      <td>108775044</td>\n      <td>108775</td>\n      <td>12855</td>\n      <td>253</td>\n      <td>9</td>\n      <td>0</td>\n      <td>1010016</td>\n      <td>0</td>\n      <td>10</td>\n      <td>2</td>\n      <td>...</td>\n      <td>0</td>\n      <td>1</td>\n      <td>0</td>\n      <td>16</td>\n      <td>30</td>\n      <td>1002</td>\n      <td>2</td>\n      <td>8834</td>\n      <td>0.402164</td>\n      <td>0.420153</td>\n    </tr>\n    <tr>\n      <th>2</th>\n      <td>108775051</td>\n      <td>108775</td>\n      <td>44846</td>\n      <td>253</td>\n      <td>9</td>\n      <td>0</td>\n      <td>1010017</td>\n      <td>3</td>\n      <td>11</td>\n      <td>11</td>\n      <td>...</td>\n      <td>0</td>\n      <td>1</td>\n      <td>0</td>\n      <td>16</td>\n      <td>30</td>\n      <td>1002</td>\n      <td>2</td>\n      <td>8834</td>\n      <td>0.550327</td>\n      <td>0.587711</td>\n    </tr>\n    <tr>\n      <th>3</th>\n      <td>110065001</td>\n      <td>110065</td>\n      <td>8159</td>\n      <td>306</td>\n      <td>13</td>\n      <td>4</td>\n      <td>1010016</td>\n      <td>0</td>\n      <td>9</td>\n      <td>0</td>\n      <td>...</td>\n      <td>7</td>\n      <td>1</td>\n      <td>0</td>\n      <td>61</td>\n      <td>5</td>\n      <td>1017</td>\n      <td>4</td>\n      <td>8243</td>\n      <td>0.446467</td>\n      <td>0.452130</td>\n    </tr>\n    <tr>\n      <th>4</th>\n      <td>110065002</td>\n      <td>110065</td>\n      <td>8159</td>\n      <td>306</td>\n      <td>13</td>\n      <td>4</td>\n      <td>1010016</td>\n      <td>0</td>\n      <td>10</td>\n      <td>2</td>\n      <td>...</td>\n      <td>7</td>\n      <td>1</td>\n      <td>0</td>\n      <td>61</td>\n      <td>5</td>\n      <td>1017</td>\n      <td>4</td>\n      <td>8243</td>\n      <td>0.377186</td>\n      <td>0.377418</td>\n    </tr>\n    <tr>\n      <th>...</th>\n      <td>...</td>\n      <td>...</td>\n      <td>...</td>\n      <td>...</td>\n      <td>...</td>\n      <td>...</td>\n      <td>...</td>\n      <td>...</td>\n      <td>...</td>\n      <td>...</td>\n      <td>...</td>\n      <td>...</td>\n      <td>...</td>\n      <td>...</td>\n      <td>...</td>\n      <td>...</td>\n      <td>...</td>\n      <td>...</td>\n      <td>...</td>\n      <td>...</td>\n      <td>...</td>\n    </tr>\n    <tr>\n      <th>105537</th>\n      <td>953450001</td>\n      <td>953450</td>\n      <td>24043</td>\n      <td>302</td>\n      <td>14</td>\n      <td>7</td>\n      <td>1010014</td>\n      <td>6</td>\n      <td>9</td>\n      <td>0</td>\n      <td>...</td>\n      <td>2</td>\n      <td>3</td>\n      <td>3</td>\n      <td>26</td>\n      <td>16</td>\n      <td>1021</td>\n      <td>13</td>\n      <td>28026</td>\n      <td>0.737982</td>\n      <td>0.756597</td>\n    </tr>\n    <tr>\n      <th>105538</th>\n      <td>953763001</td>\n      <td>953763</td>\n      <td>24027</td>\n      <td>253</td>\n      <td>9</td>\n      <td>0</td>\n      <td>1010016</td>\n      <td>0</td>\n      <td>9</td>\n      <td>0</td>\n      <td>...</td>\n      <td>0</td>\n      <td>1</td>\n      <td>0</td>\n      <td>2</td>\n      <td>15</td>\n      <td>1005</td>\n      <td>0</td>\n      <td>28025</td>\n      <td>0.619390</td>\n      <td>0.646479</td>\n    </tr>\n    <tr>\n      <th>105539</th>\n      <td>956217002</td>\n      <td>956217</td>\n      <td>24040</td>\n      <td>265</td>\n      <td>1</td>\n      <td>2</td>\n      <td>1010016</td>\n      <td>0</td>\n      <td>9</td>\n      <td>0</td>\n      <td>...</td>\n      <td>0</td>\n      <td>1</td>\n      <td>0</td>\n      <td>18</td>\n      <td>12</td>\n      <td>1005</td>\n      <td>0</td>\n      <td>28024</td>\n      <td>0.598163</td>\n      <td>0.622936</td>\n    </tr>\n    <tr>\n      <th>105540</th>\n      <td>957375001</td>\n      <td>957375</td>\n      <td>24041</td>\n      <td>72</td>\n      <td>48</td>\n      <td>3</td>\n      <td>1010016</td>\n      <td>0</td>\n      <td>9</td>\n      <td>0</td>\n      <td>...</td>\n      <td>1</td>\n      <td>2</td>\n      <td>2</td>\n      <td>52</td>\n      <td>25</td>\n      <td>1019</td>\n      <td>1</td>\n      <td>28023</td>\n      <td>0.455716</td>\n      <td>0.469032</td>\n    </tr>\n    <tr>\n      <th>105541</th>\n      <td>959461001</td>\n      <td>959461</td>\n      <td>45874</td>\n      <td>265</td>\n      <td>1</td>\n      <td>2</td>\n      <td>1010016</td>\n      <td>0</td>\n      <td>11</td>\n      <td>11</td>\n      <td>...</td>\n      <td>0</td>\n      <td>1</td>\n      <td>0</td>\n      <td>18</td>\n      <td>12</td>\n      <td>1005</td>\n      <td>0</td>\n      <td>43403</td>\n      <td>0.330054</td>\n      <td>0.344196</td>\n    </tr>\n  </tbody>\n</table>\n<p>105542 rows × 27 columns</p>\n</div>"
     },
     "execution_count": 201,
     "metadata": {},
     "output_type": "execute_result"
    }
   ],
   "source": [
    "articles_scores = articles.copy()\n",
    "\n",
    "# article gets extra columns: for each segment, the score of the article for that segment\n",
    "articles_scores[segment_names] = articles_scores.apply(create_article_scores, axis=1, result_type=\"expand\")\n",
    "\n",
    "# normalize the scores\n",
    "articles_scores[segment_names] = MinMaxScaler().fit_transform(articles_scores[segment_names])\n",
    "articles_scores"
   ],
   "metadata": {
    "collapsed": false,
    "ExecuteTime": {
     "end_time": "2023-11-20T22:26:44.955878400Z",
     "start_time": "2023-11-20T22:26:35.954833600Z"
    }
   },
   "id": "311d6cc55379b292"
  },
  {
   "cell_type": "code",
   "execution_count": 202,
   "outputs": [],
   "source": [
    "articles_scores.to_parquet(path + 'articles_edited2.parquet')"
   ],
   "metadata": {
    "collapsed": false,
    "ExecuteTime": {
     "end_time": "2023-11-20T22:26:45.135921400Z",
     "start_time": "2023-11-20T22:26:44.945875600Z"
    }
   },
   "id": "f55c7ea112a5dc2d"
  },
  {
   "cell_type": "code",
   "execution_count": 203,
   "outputs": [],
   "source": [
    "def add_features(data):\n",
    "    columns_to_use = [\n",
    "        'article_id',\n",
    "        'product_type_no',\n",
    "        'graphical_appearance_no',\n",
    "        'colour_group_code',\n",
    "        'perceived_colour_value_id',\n",
    "        'perceived_colour_master_id',\n",
    "        'department_no',\n",
    "        'index_code',\n",
    "        'index_group_no',\n",
    "        'section_no',\n",
    "        'garment_group_no',\n",
    "        'FN',\n",
    "        'Active',\n",
    "        'club_member_status',\n",
    "        'fashion_news_frequency',\n",
    "        'age',\n",
    "        'postal_code',\n",
    "        'ranked_weighted_sales'\n",
    "    ]\n",
    "\n",
    "    result = data\n",
    "    result = pd.merge(result, customers, how='left', on='customer_id')\n",
    "    result = pd.merge(result, articles, how='left', on='article_id')\n",
    "\n",
    "    # features from assignment 2 could go here\n",
    "    # customer_avg_price = transactions_train.groupby('customer_id')['price'].mean().to_frame('preferred_price')\n",
    "    # result = pd.merge(result, customer_avg_price, how=\"left\", on=\"customer_id\")\n",
    "\n",
    "    return result[columns_to_use]"
   ],
   "metadata": {
    "collapsed": false,
    "ExecuteTime": {
     "end_time": "2023-11-20T22:26:45.151924500Z",
     "start_time": "2023-11-20T22:26:45.135921400Z"
    }
   },
   "id": "1ed9dd37b8aac6bb"
  },
  {
   "cell_type": "code",
   "execution_count": 204,
   "outputs": [],
   "source": [
    "def recall(predictions, purchases, k=12):\n",
    "    # number of correct predictions for the customer / items bought by the customer\n",
    "    # total recall is the average recall over all customers\n",
    "\n",
    "    def row_recall(row):\n",
    "        assert 0 < len(row.purchases)\n",
    "        correct = 0\n",
    "        for predicted_item in row.prediction[:k]:\n",
    "            if predicted_item in row.purchases:\n",
    "                correct += 1\n",
    "        return correct / min(len(row.purchases), 12)\n",
    "\n",
    "    result = pd.merge(purchases, predictions, on=\"customer_id\", how=\"inner\")\n",
    "    result[\"recall\"] = result.apply(row_recall, axis=1)\n",
    "\n",
    "    return result.recall.sum() / len(purchases)"
   ],
   "metadata": {
    "collapsed": false,
    "ExecuteTime": {
     "end_time": "2023-11-20T22:26:45.172929400Z",
     "start_time": "2023-11-20T22:26:45.151924500Z"
    }
   },
   "id": "5bcceb93ae416366"
  },
  {
   "cell_type": "code",
   "execution_count": 205,
   "outputs": [
    {
     "data": {
      "text/plain": "                  customer_id segment\n0         6883939031699146327   no_FN\n1        11246327431398957306   no_FN\n2        18439897732908966680   no_FN\n3        18352672461570950206   no_FN\n4        18162778555210377306  yes_FN\n...                       ...     ...\n1371975   7551062398649767985   no_FN\n1371976   9305341941720086711   no_FN\n1371977  10160427316885688932  yes_FN\n1371978   2551401172826382186  yes_FN\n1371979  16929951892735599169   no_FN\n\n[1371980 rows x 2 columns]",
      "text/html": "<div>\n<style scoped>\n    .dataframe tbody tr th:only-of-type {\n        vertical-align: middle;\n    }\n\n    .dataframe tbody tr th {\n        vertical-align: top;\n    }\n\n    .dataframe thead th {\n        text-align: right;\n    }\n</style>\n<table border=\"1\" class=\"dataframe\">\n  <thead>\n    <tr style=\"text-align: right;\">\n      <th></th>\n      <th>customer_id</th>\n      <th>segment</th>\n    </tr>\n  </thead>\n  <tbody>\n    <tr>\n      <th>0</th>\n      <td>6883939031699146327</td>\n      <td>no_FN</td>\n    </tr>\n    <tr>\n      <th>1</th>\n      <td>11246327431398957306</td>\n      <td>no_FN</td>\n    </tr>\n    <tr>\n      <th>2</th>\n      <td>18439897732908966680</td>\n      <td>no_FN</td>\n    </tr>\n    <tr>\n      <th>3</th>\n      <td>18352672461570950206</td>\n      <td>no_FN</td>\n    </tr>\n    <tr>\n      <th>4</th>\n      <td>18162778555210377306</td>\n      <td>yes_FN</td>\n    </tr>\n    <tr>\n      <th>...</th>\n      <td>...</td>\n      <td>...</td>\n    </tr>\n    <tr>\n      <th>1371975</th>\n      <td>7551062398649767985</td>\n      <td>no_FN</td>\n    </tr>\n    <tr>\n      <th>1371976</th>\n      <td>9305341941720086711</td>\n      <td>no_FN</td>\n    </tr>\n    <tr>\n      <th>1371977</th>\n      <td>10160427316885688932</td>\n      <td>yes_FN</td>\n    </tr>\n    <tr>\n      <th>1371978</th>\n      <td>2551401172826382186</td>\n      <td>yes_FN</td>\n    </tr>\n    <tr>\n      <th>1371979</th>\n      <td>16929951892735599169</td>\n      <td>no_FN</td>\n    </tr>\n  </tbody>\n</table>\n<p>1371980 rows × 2 columns</p>\n</div>"
     },
     "execution_count": 205,
     "metadata": {},
     "output_type": "execute_result"
    }
   ],
   "source": [
    "segmented_customers"
   ],
   "metadata": {
    "collapsed": false,
    "ExecuteTime": {
     "end_time": "2023-11-20T22:26:45.186932700Z",
     "start_time": "2023-11-20T22:26:45.167928400Z"
    }
   },
   "id": "e9fb34d6cdaf7ddb"
  },
  {
   "cell_type": "code",
   "execution_count": 206,
   "outputs": [
    {
     "data": {
      "text/plain": "       t_dat      customer_id  article_id     price  sales_channel_id  week  \\\n0 2020-07-15  272412481300040   778064028  0.008458                 1    95   \n1 2020-07-15  272412481300040   816592008  0.016932                 1    95   \n2 2020-07-15  272412481300040   621381021  0.033881                 1    95   \n3 2020-07-15  272412481300040   817477003  0.025407                 1    95   \n4 2020-07-15  272412481300040   899088002  0.025407                 1    95   \n\n   season segment  \n0  Summer  yes_FN  \n1  Summer  yes_FN  \n2  Summer  yes_FN  \n3  Summer  yes_FN  \n4  Summer  yes_FN  ",
      "text/html": "<div>\n<style scoped>\n    .dataframe tbody tr th:only-of-type {\n        vertical-align: middle;\n    }\n\n    .dataframe tbody tr th {\n        vertical-align: top;\n    }\n\n    .dataframe thead th {\n        text-align: right;\n    }\n</style>\n<table border=\"1\" class=\"dataframe\">\n  <thead>\n    <tr style=\"text-align: right;\">\n      <th></th>\n      <th>t_dat</th>\n      <th>customer_id</th>\n      <th>article_id</th>\n      <th>price</th>\n      <th>sales_channel_id</th>\n      <th>week</th>\n      <th>season</th>\n      <th>segment</th>\n    </tr>\n  </thead>\n  <tbody>\n    <tr>\n      <th>0</th>\n      <td>2020-07-15</td>\n      <td>272412481300040</td>\n      <td>778064028</td>\n      <td>0.008458</td>\n      <td>1</td>\n      <td>95</td>\n      <td>Summer</td>\n      <td>yes_FN</td>\n    </tr>\n    <tr>\n      <th>1</th>\n      <td>2020-07-15</td>\n      <td>272412481300040</td>\n      <td>816592008</td>\n      <td>0.016932</td>\n      <td>1</td>\n      <td>95</td>\n      <td>Summer</td>\n      <td>yes_FN</td>\n    </tr>\n    <tr>\n      <th>2</th>\n      <td>2020-07-15</td>\n      <td>272412481300040</td>\n      <td>621381021</td>\n      <td>0.033881</td>\n      <td>1</td>\n      <td>95</td>\n      <td>Summer</td>\n      <td>yes_FN</td>\n    </tr>\n    <tr>\n      <th>3</th>\n      <td>2020-07-15</td>\n      <td>272412481300040</td>\n      <td>817477003</td>\n      <td>0.025407</td>\n      <td>1</td>\n      <td>95</td>\n      <td>Summer</td>\n      <td>yes_FN</td>\n    </tr>\n    <tr>\n      <th>4</th>\n      <td>2020-07-15</td>\n      <td>272412481300040</td>\n      <td>899088002</td>\n      <td>0.025407</td>\n      <td>1</td>\n      <td>95</td>\n      <td>Summer</td>\n      <td>yes_FN</td>\n    </tr>\n  </tbody>\n</table>\n</div>"
     },
     "execution_count": 206,
     "metadata": {},
     "output_type": "execute_result"
    }
   ],
   "source": [
    "### split into training and testing\n",
    "# one week is used for testing\n",
    "# a number of weeks leading up to the test week are used to train the ranker\n",
    "test_week = 105\n",
    "num_training_weeks = 10\n",
    "training_weeks = np.arange(test_week-num_training_weeks, test_week)\n",
    "train_data = transactions_train[transactions_train.week.isin(training_weeks)].reset_index(drop=True)\n",
    "train_data = train_data.merge(segmented_customers, on=\"customer_id\")\n",
    "train_data.head()"
   ],
   "metadata": {
    "collapsed": false,
    "ExecuteTime": {
     "end_time": "2023-11-20T22:26:46.016128200Z",
     "start_time": "2023-11-20T22:26:45.185932800Z"
    }
   },
   "id": "56aae6045e3dc1b7"
  },
  {
   "cell_type": "code",
   "execution_count": 207,
   "outputs": [],
   "source": [
    "train_data_per_segment = {}\n",
    "for segment_name in segment_names:\n",
    "    train_data_per_segment[segment_name] = train_data[train_data['segment'] == segment_name]\n",
    "train_data = None"
   ],
   "metadata": {
    "collapsed": false,
    "ExecuteTime": {
     "end_time": "2023-11-20T22:26:46.268187500Z",
     "start_time": "2023-11-20T22:26:46.012127200Z"
    }
   },
   "id": "8e600b56ea2f133"
  },
  {
   "cell_type": "code",
   "execution_count": 208,
   "outputs": [
    {
     "name": "stdout",
     "output_type": "stream",
     "text": [
      "no_FN\n",
      "[LightGBM] [Debug] Dataset::GetMultiBinFromAllFeatures: sparse rate 0.298652\n",
      "[LightGBM] [Info] Total Bins 1076\n",
      "[LightGBM] [Info] Number of data points in the train set: 6182129, number of used features: 18\n",
      "[LightGBM] [Debug] Trained a tree with leaves = 31 and depth = 12\n",
      "         ranked_weighted_sales 0.99901\n",
      "                           age 0.00025\n",
      "                    article_id 0.00022\n",
      "            club_member_status 0.00011\n",
      "                 department_no 0.00010\n",
      "               product_type_no 0.00009\n",
      "       graphical_appearance_no 0.00006\n",
      "                   postal_code 0.00006\n",
      "     perceived_colour_value_id 0.00003\n",
      "              garment_group_no 0.00003\n",
      "                index_group_no 0.00001\n",
      "                    section_no 0.00001\n",
      "                    index_code 0.00001\n",
      "        fashion_news_frequency 0.00000\n",
      "                        Active 0.00000\n",
      "                            FN 0.00000\n",
      "    perceived_colour_master_id 0.00000\n",
      "             colour_group_code 0.00000\n",
      "yes_FN\n",
      "[LightGBM] [Debug] Dataset::GetMultiBinFromAllFeatures: sparse rate 0.301388\n",
      "[LightGBM] [Info] Total Bins 1140\n",
      "[LightGBM] [Info] Number of data points in the train set: 5210165, number of used features: 18\n",
      "[LightGBM] [Debug] Trained a tree with leaves = 31 and depth = 12\n",
      "         ranked_weighted_sales 0.99882\n",
      "                    article_id 0.00032\n",
      "                           age 0.00024\n",
      "              garment_group_no 0.00014\n",
      "               product_type_no 0.00012\n",
      "             colour_group_code 0.00011\n",
      "                   postal_code 0.00009\n",
      "                 department_no 0.00008\n",
      "    perceived_colour_master_id 0.00007\n",
      "        fashion_news_frequency 0.00000\n",
      "            club_member_status 0.00000\n",
      "                        Active 0.00000\n",
      "                            FN 0.00000\n",
      "                    section_no 0.00000\n",
      "                    index_code 0.00000\n",
      "     perceived_colour_value_id 0.00000\n",
      "       graphical_appearance_no 0.00000\n",
      "                index_group_no 0.00000\n"
     ]
    }
   ],
   "source": [
    "all_predictions = pd.DataFrame()\n",
    "for segment_name in segment_names:\n",
    "    print(segment_name)\n",
    "    train_data = train_data_per_segment[segment_name]\n",
    "    ### repurchase\n",
    "    # each week is seen as a basket\n",
    "    # the items bought in one basket, will be example for the next basket\n",
    "    # the items bought in the last basket, will be candidates for the test basket\n",
    "    c2weeks = train_data.groupby('customer_id')['week'].unique()\n",
    "    c2weeks2shifted_weeks = {}\n",
    "    for c_id, weeks in c2weeks.items():\n",
    "        c2weeks2shifted_weeks[c_id] = {}\n",
    "        for i in range(weeks.shape[0]-1):\n",
    "            c2weeks2shifted_weeks[c_id][weeks[i]] = weeks[i+1]\n",
    "        c2weeks2shifted_weeks[c_id][weeks[-1]] = test_week\n",
    "    candidates_last_purchase = train_data.copy()\n",
    "    weeks = []\n",
    "    for i, (c_id, week) in enumerate(zip(train_data['customer_id'], train_data['week'])):\n",
    "        weeks.append(c2weeks2shifted_weeks[c_id][week])\n",
    "    candidates_last_purchase.week=weeks\n",
    " \n",
    "    sales_counts = transactions_per_segment[segment_name].groupby([\"week\", \"article_id\"]).size().reset_index(name=\"count\")\n",
    "    relevant_scores = articles_scores[[\"article_id\", segment_name]]\n",
    "    sales_counts = pd.merge(sales_counts, relevant_scores, on=\"article_id\").reset_index()\n",
    "    \n",
    "    sales_counts[\"weighted_sales\"] = sales_counts[\"count\"] ** sales_counts[segment_name]\n",
    "    sales_counts[\"ranked_weighted_sales\"] = (sales_counts.groupby(\"week\")[\"weighted_sales\"].rank(method=\"dense\", ascending=False).astype(\"int64\"))\n",
    "\n",
    "    sales_counts = sales_counts[sales_counts[\"ranked_weighted_sales\"] <= 12]\n",
    "    sales_counts.week += 1\n",
    "    sales_counts = sales_counts.sort_values(by=[\"week\", \"article_id\"])\n",
    "    \n",
    "    # A list of all customers that bought something during each week\n",
    "    customers_per_week = (train_data.groupby(['week', 'customer_id']).head(1).\n",
    "                          drop(columns=['article_id', 'price', \"t_dat\", \"season\", \"sales_channel_id\"]).drop_duplicates([\"week\",\"customer_id\"]).copy())\n",
    "    candidates_bestsellers = pd.merge(customers_per_week,sales_counts,on='week')\n",
    "    candidates_bestsellers_test_week = customers_per_week.drop_duplicates('customer_id').reset_index(drop=True) # all customers who ever bought something\n",
    "    candidates_bestsellers_test_week.week = test_week # join on test week\n",
    "    candidates_bestsellers_test_week = pd.merge(candidates_bestsellers_test_week,sales_counts,on='week')\n",
    "    candidates_bestsellers = pd.concat([candidates_bestsellers, candidates_bestsellers_test_week])\n",
    "    candidates_bestsellers.drop(columns='ranked_weighted_sales', inplace=True)\n",
    "\n",
    "    ### combine\n",
    "    d = train_data.copy()\n",
    "    d['purchased'] = True\n",
    "    \n",
    "    candidates = pd.concat([\n",
    "        d, candidates_last_purchase, candidates_bestsellers\n",
    "    ])\n",
    "    candidates.purchased.fillna(False, inplace=True)\n",
    "    candidates.drop_duplicates(['customer_id', 'article_id', 'week'], inplace=True)\n",
    "    \n",
    "    candidates = pd.merge(\n",
    "        candidates,\n",
    "        sales_counts[['week', 'article_id', 'ranked_weighted_sales']],\n",
    "        on=['week', 'article_id'],\n",
    "        how='left'\n",
    "    )\n",
    "    candidates = candidates[candidates.week != candidates.week.min()]\n",
    "    candidates[\"ranked_weighted_sales\"].fillna(999, inplace=True)\n",
    "    \n",
    "    candidates.sort_values(['week', 'customer_id'], inplace=True)\n",
    "    candidates.reset_index(drop=True, inplace=True)\n",
    "    \n",
    "    train_examples = candidates[candidates.week != test_week]\n",
    "    X_train = add_features(train_examples)\n",
    "    Y_train = train_examples['purchased']\n",
    "\n",
    "    ranker = LGBMRanker(\n",
    "        force_row_wise=True,\n",
    "        objective=\"lambdarank\",\n",
    "        metric=\"ndcg\",\n",
    "        boosting_type=\"dart\",\n",
    "        n_estimators=1,\n",
    "        importance_type='gain',\n",
    "        verbose=10\n",
    "    )\n",
    "    train_groups = train_examples.groupby(['week', 'customer_id'])['article_id'].count().values\n",
    "    ranker.fit(X_train, Y_train, group=train_groups)\n",
    "    print_importance(ranker, X_train.columns)\n",
    "    \n",
    "    ### test\n",
    "    # candidates are generated similarly to the examples, only we don't know whether they are purchased\n",
    "    # the same features are extracted and added\n",
    "    # each candidate is scored by the ranker and predictions are generated using the highest scoring candidates\n",
    "    test_candidates = candidates[candidates.week == test_week]\n",
    "    \n",
    "    X_test = add_features(test_candidates)\n",
    "    predictions = get_predictions(test_candidates, X_test, ranker, 12)\n",
    "    all_predictions = pd.concat([all_predictions, predictions])\n",
    "\n",
    "all_predictions.reset_index(drop=True, inplace=True)"
   ],
   "metadata": {
    "collapsed": false,
    "ExecuteTime": {
     "end_time": "2023-11-20T22:27:30.921220200Z",
     "start_time": "2023-11-20T22:26:46.268187500Z"
    }
   },
   "id": "9148f9fec805092"
  },
  {
   "cell_type": "code",
   "execution_count": 209,
   "outputs": [
    {
     "data": {
      "text/plain": "           customer_id                                         prediction\n0       28847241659200  [925246001, 915529005, 918522001, 924243001, 9...\n1      200292573348128  [903861001, 915529005, 918522001, 924243001, 9...\n2      272412481300040  [923460002, 922381001, 921906005, 915529003, 9...\n3      329094189075899  [821338004, 915529003, 915529005, 918522001, 9...\n4      375055163245029  [716672014, 859105003, 915529003, 915529005, 9...\n..                 ...                                                ...\n995  97516392130812943  [882146003, 915529003, 915529005, 918522001, 9...\n996  97526950267773540  [849103001, 784415002, 915529003, 915529005, 9...\n997  97761071869234835  [928020002, 915529005, 918522001, 924243001, 9...\n998  97765387247535950  [852584001, 909721003, 894780001, 875329002, 8...\n999  97836301298729074  [898596007, 898596004, 685604061, 399256001, 9...\n\n[1000 rows x 2 columns]",
      "text/html": "<div>\n<style scoped>\n    .dataframe tbody tr th:only-of-type {\n        vertical-align: middle;\n    }\n\n    .dataframe tbody tr th {\n        vertical-align: top;\n    }\n\n    .dataframe thead th {\n        text-align: right;\n    }\n</style>\n<table border=\"1\" class=\"dataframe\">\n  <thead>\n    <tr style=\"text-align: right;\">\n      <th></th>\n      <th>customer_id</th>\n      <th>prediction</th>\n    </tr>\n  </thead>\n  <tbody>\n    <tr>\n      <th>0</th>\n      <td>28847241659200</td>\n      <td>[925246001, 915529005, 918522001, 924243001, 9...</td>\n    </tr>\n    <tr>\n      <th>1</th>\n      <td>200292573348128</td>\n      <td>[903861001, 915529005, 918522001, 924243001, 9...</td>\n    </tr>\n    <tr>\n      <th>2</th>\n      <td>272412481300040</td>\n      <td>[923460002, 922381001, 921906005, 915529003, 9...</td>\n    </tr>\n    <tr>\n      <th>3</th>\n      <td>329094189075899</td>\n      <td>[821338004, 915529003, 915529005, 918522001, 9...</td>\n    </tr>\n    <tr>\n      <th>4</th>\n      <td>375055163245029</td>\n      <td>[716672014, 859105003, 915529003, 915529005, 9...</td>\n    </tr>\n    <tr>\n      <th>...</th>\n      <td>...</td>\n      <td>...</td>\n    </tr>\n    <tr>\n      <th>995</th>\n      <td>97516392130812943</td>\n      <td>[882146003, 915529003, 915529005, 918522001, 9...</td>\n    </tr>\n    <tr>\n      <th>996</th>\n      <td>97526950267773540</td>\n      <td>[849103001, 784415002, 915529003, 915529005, 9...</td>\n    </tr>\n    <tr>\n      <th>997</th>\n      <td>97761071869234835</td>\n      <td>[928020002, 915529005, 918522001, 924243001, 9...</td>\n    </tr>\n    <tr>\n      <th>998</th>\n      <td>97765387247535950</td>\n      <td>[852584001, 909721003, 894780001, 875329002, 8...</td>\n    </tr>\n    <tr>\n      <th>999</th>\n      <td>97836301298729074</td>\n      <td>[898596007, 898596004, 685604061, 399256001, 9...</td>\n    </tr>\n  </tbody>\n</table>\n<p>1000 rows × 2 columns</p>\n</div>"
     },
     "execution_count": 209,
     "metadata": {},
     "output_type": "execute_result"
    }
   ],
   "source": [
    "predictions.head(1000)"
   ],
   "metadata": {
    "collapsed": false,
    "ExecuteTime": {
     "end_time": "2023-11-20T22:27:30.939224300Z",
     "start_time": "2023-11-20T22:27:30.921220200Z"
    }
   },
   "id": "e7572f34a3d20a6b"
  },
  {
   "cell_type": "code",
   "execution_count": 210,
   "outputs": [
    {
     "data": {
      "text/plain": "437365"
     },
     "execution_count": 210,
     "metadata": {},
     "output_type": "execute_result"
    }
   ],
   "source": [
    "len(all_predictions)"
   ],
   "metadata": {
    "collapsed": false,
    "ExecuteTime": {
     "end_time": "2023-11-20T22:27:30.982234600Z",
     "start_time": "2023-11-20T22:27:30.937224Z"
    }
   },
   "id": "c9e550ec0221b7e4"
  },
  {
   "cell_type": "code",
   "execution_count": 211,
   "outputs": [],
   "source": [
    "### evaluate\n",
    "if test_week < transactions_train.week.max() + 1:\n",
    "    # get ground truth data for test week\n",
    "    purchases = get_purchases(transactions_train[transactions_train.week == test_week])\n",
    "\n",
    "    # fill missing prediction for customers in test set with popular items in last week\n",
    "    # only for customers in test set because only those are evaluated\n",
    "    popular = transactions_train[transactions_train.week == test_week-1].article_id.value_counts().head(12).index.values\n",
    "    predictions = fill_missing_predictions(predictions, purchases.customer_id, popular)\n",
    "\n",
    "    # calculate score\n",
    "    score = mean_average_precision(predictions, purchases, 12)\n",
    "    print(score)\n",
    "    score2 = recall(predictions, purchases, 12)\n",
    "    print(score2)\n",
    "\n",
    "### submit\n",
    "else:\n",
    "    # fill missing predictions for all customers with popular items in last week\n",
    "    # all customers because we don't know which ones will be evaluated\n",
    "    popular = transactions_train[transactions_train.week == test_week-1].article_id.value_counts().head(12).index.values\n",
    "    predictions = fill_missing_predictions(predictions, customers.customer_id, popular)\n",
    "\n",
    "    # write submission\n",
    "    sub = create_submission(predictions, sample_submission)\n",
    "    sub.to_csv(path + 'sub1.csv.gz', index=False)"
   ],
   "metadata": {
    "collapsed": false,
    "ExecuteTime": {
     "end_time": "2023-11-20T22:27:46.442158100Z",
     "start_time": "2023-11-20T22:27:30.953227900Z"
    }
   },
   "id": "a016c6adacab3ea1"
  }
 ],
 "metadata": {
  "kernelspec": {
   "display_name": "Python 3",
   "language": "python",
   "name": "python3"
  },
  "language_info": {
   "codemirror_mode": {
    "name": "ipython",
    "version": 2
   },
   "file_extension": ".py",
   "mimetype": "text/x-python",
   "name": "python",
   "nbconvert_exporter": "python",
   "pygments_lexer": "ipython2",
   "version": "2.7.6"
  }
 },
 "nbformat": 4,
 "nbformat_minor": 5
}
