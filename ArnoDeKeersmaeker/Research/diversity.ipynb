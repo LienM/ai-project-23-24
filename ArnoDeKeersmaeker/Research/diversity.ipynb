{
 "cells": [
  {
   "cell_type": "markdown",
   "source": [
    "# Diversity metric #\n",
    "To compare the diversity within one solution or between two solutions"
   ],
   "metadata": {
    "collapsed": false
   },
   "id": "1f419dc872548df6"
  },
  {
   "cell_type": "code",
   "execution_count": 19,
   "outputs": [],
   "source": [
    "import pandas as pd\n",
    "baseline = pd.read_csv(\"predictions_baseline\")\n",
    "R1 = pd.read_csv(\"../Data/sub1.csv.gz\")\n",
    "\n",
    "def overlap(pred1, pred2):\n",
    "    # the overlap between two predictions (aka jaccard)\n",
    "    intersection = len(pred1.intersection(pred2))\n",
    "    union = len(pred1.union(pred2))\n",
    "    return intersection / union"
   ],
   "metadata": {
    "collapsed": true,
    "ExecuteTime": {
     "end_time": "2023-12-22T01:45:48.851614100Z",
     "start_time": "2023-12-22T01:45:44.603449100Z"
    }
   },
   "id": "initial_id"
  },
  {
   "cell_type": "code",
   "execution_count": 20,
   "outputs": [],
   "source": [
    "sample_base = baseline.sample(n=1000).reset_index()\n",
    "sample_R1 = R1.sample(n=1000).reset_index()"
   ],
   "metadata": {
    "collapsed": false,
    "ExecuteTime": {
     "end_time": "2023-12-22T01:45:49.570194800Z",
     "start_time": "2023-12-22T01:45:49.514508600Z"
    }
   },
   "id": "c4d0cd8feada5d60"
  },
  {
   "cell_type": "code",
   "execution_count": 21,
   "outputs": [
    {
     "name": "stdout",
     "output_type": "stream",
     "text": [
      "Within base 0.20636648257926843\n",
      "Within R3 0.3890300100815666\n"
     ]
    }
   ],
   "source": [
    "def diversity_cross(predictions1, predictions2):\n",
    "    # The average of 1-overlap ratio between all rows in the sample\n",
    "    diversity = 0\n",
    "    comparisons = 0\n",
    "    for i, row1 in predictions1.iterrows():\n",
    "        pred1 = set([int(article) for article in row1[\"prediction\"].split()])\n",
    "        for j, row2 in predictions2.iterrows():\n",
    "            if j!=i:  # Avoid comparing to itself\n",
    "                pred2 = set([int(article) for article in row2[\"prediction\"].split()])\n",
    "                diversity += 1 - overlap(pred1, pred2) # overlap indicates similarity, so complement it\n",
    "                comparisons += 1\n",
    "    assert comparisons > 0\n",
    "    return diversity / comparisons\n",
    "\n",
    "\n",
    "print(f\"Within base {diversity_cross(sample_base,sample_base)}\")\n",
    "print(f\"Within R3 {diversity_cross(sample_R1,sample_R1)}\")\n",
    "# print(f\"Across {diversity_cross(sample_base,sample_R1)}\")\n",
    "# print(f\"Across {diversity_cross(sample_R1, sample_base)}\")"
   ],
   "metadata": {
    "collapsed": false,
    "ExecuteTime": {
     "end_time": "2023-12-22T01:46:21.924910500Z",
     "start_time": "2023-12-22T01:45:51.384883800Z"
    }
   },
   "id": "d7a90a4dd811acca"
  },
  {
   "cell_type": "code",
   "execution_count": 31,
   "outputs": [
    {
     "name": "stdout",
     "output_type": "stream",
     "text": [
      "300000\n"
     ]
    }
   ],
   "source": [
    "sample_base_match = baseline.sample(n=300000).reset_index() # no cross so number can be larger\n",
    "combined = sample_base_match.merge(R1, on=\"customer_id\", suffixes=(\"_base\", \"_R1\"))\n",
    "print(len(combined))\n",
    "assert len(combined) == 300000"
   ],
   "metadata": {
    "collapsed": false,
    "ExecuteTime": {
     "end_time": "2023-12-22T01:49:30.133906500Z",
     "start_time": "2023-12-22T01:49:29.525797400Z"
    }
   },
   "id": "bae3f6f620795ab3"
  },
  {
   "cell_type": "code",
   "execution_count": 32,
   "outputs": [
    {
     "data": {
      "text/plain": "     index                                        customer_id  \\\n0  1276835  ee4b1d5147c5aa33157c80207cde43875c2cd07386ae28...   \n1   471097  57fe4fe2181fc1ea2506595fc4ead6a025cdd898f51887...   \n2  1075347  c8ad587fe30a1cca6f6ea07dee541c2e5526172157ff25...   \n3   181544  21cf0d41af3a46280c7b1e42fbb52490758cd9b9e2e3d7...   \n4   312421  3a5fd26e6063efaf3725b9824bf97c4abb94171048e327...   \n\n                                     prediction_base  \\\n0  0738567003 0798773001 0924243001 0924243002 09...   \n1  0842004003 0924243001 0924243002 0918522001 09...   \n2  0924243001 0924243002 0918522001 0923758001 08...   \n3  0924243001 0924243002 0918522001 0923758001 08...   \n4  0893691001 0887714003 0896409001 0859101009 09...   \n\n                                       prediction_R1  \n0  0738567003 0798773001 0918522001 0915529003 09...  \n1  0842004003 0918522001 0915529003 0915529005 09...  \n2  0924243001 0924243002 0918522001 0923758001 08...  \n3  0924243001 0924243002 0918522001 0923758001 08...  \n4  0893691001 0887714003 0896409001 0859101009 09...  ",
      "text/html": "<div>\n<style scoped>\n    .dataframe tbody tr th:only-of-type {\n        vertical-align: middle;\n    }\n\n    .dataframe tbody tr th {\n        vertical-align: top;\n    }\n\n    .dataframe thead th {\n        text-align: right;\n    }\n</style>\n<table border=\"1\" class=\"dataframe\">\n  <thead>\n    <tr style=\"text-align: right;\">\n      <th></th>\n      <th>index</th>\n      <th>customer_id</th>\n      <th>prediction_base</th>\n      <th>prediction_R1</th>\n    </tr>\n  </thead>\n  <tbody>\n    <tr>\n      <th>0</th>\n      <td>1276835</td>\n      <td>ee4b1d5147c5aa33157c80207cde43875c2cd07386ae28...</td>\n      <td>0738567003 0798773001 0924243001 0924243002 09...</td>\n      <td>0738567003 0798773001 0918522001 0915529003 09...</td>\n    </tr>\n    <tr>\n      <th>1</th>\n      <td>471097</td>\n      <td>57fe4fe2181fc1ea2506595fc4ead6a025cdd898f51887...</td>\n      <td>0842004003 0924243001 0924243002 0918522001 09...</td>\n      <td>0842004003 0918522001 0915529003 0915529005 09...</td>\n    </tr>\n    <tr>\n      <th>2</th>\n      <td>1075347</td>\n      <td>c8ad587fe30a1cca6f6ea07dee541c2e5526172157ff25...</td>\n      <td>0924243001 0924243002 0918522001 0923758001 08...</td>\n      <td>0924243001 0924243002 0918522001 0923758001 08...</td>\n    </tr>\n    <tr>\n      <th>3</th>\n      <td>181544</td>\n      <td>21cf0d41af3a46280c7b1e42fbb52490758cd9b9e2e3d7...</td>\n      <td>0924243001 0924243002 0918522001 0923758001 08...</td>\n      <td>0924243001 0924243002 0918522001 0923758001 08...</td>\n    </tr>\n    <tr>\n      <th>4</th>\n      <td>312421</td>\n      <td>3a5fd26e6063efaf3725b9824bf97c4abb94171048e327...</td>\n      <td>0893691001 0887714003 0896409001 0859101009 09...</td>\n      <td>0893691001 0887714003 0896409001 0859101009 09...</td>\n    </tr>\n  </tbody>\n</table>\n</div>"
     },
     "execution_count": 32,
     "metadata": {},
     "output_type": "execute_result"
    }
   ],
   "source": [
    "combined.head()"
   ],
   "metadata": {
    "collapsed": false,
    "ExecuteTime": {
     "end_time": "2023-12-22T01:49:31.751750500Z",
     "start_time": "2023-12-22T01:49:31.734552200Z"
    }
   },
   "id": "ee04275423ec06ec"
  },
  {
   "cell_type": "code",
   "execution_count": 33,
   "outputs": [
    {
     "name": "stdout",
     "output_type": "stream",
     "text": [
      "Across 0.1616508812605254\n"
     ]
    }
   ],
   "source": [
    "def diversity_match(combined):\n",
    "    # The average of 1-overlap ratio between all rows in the sample\n",
    "    diversity = 0\n",
    "    comparisons = 0\n",
    "    \n",
    "    for i, row in combined.iterrows():\n",
    "        pred1 = set([int(article) for article in row[\"prediction_base\"].split()])\n",
    "        pred2 = set([int(article) for article in row[\"prediction_R1\"].split()])\n",
    "        diversity += 1 - overlap(pred1, pred2) # overlap indicates similarity, so complement it\n",
    "        comparisons += 1\n",
    "    \n",
    "    assert comparisons > 0\n",
    "    return diversity / comparisons\n",
    "\n",
    "print(f\"Across {diversity_match(combined)}\")"
   ],
   "metadata": {
    "collapsed": false,
    "ExecuteTime": {
     "end_time": "2023-12-22T01:49:38.773742900Z",
     "start_time": "2023-12-22T01:49:33.455285200Z"
    }
   },
   "id": "c72f625d8360d071"
  }
 ],
 "metadata": {
  "kernelspec": {
   "display_name": "Python 3",
   "language": "python",
   "name": "python3"
  },
  "language_info": {
   "codemirror_mode": {
    "name": "ipython",
    "version": 2
   },
   "file_extension": ".py",
   "mimetype": "text/x-python",
   "name": "python",
   "nbconvert_exporter": "python",
   "pygments_lexer": "ipython2",
   "version": "2.7.6"
  }
 },
 "nbformat": 4,
 "nbformat_minor": 5
}
