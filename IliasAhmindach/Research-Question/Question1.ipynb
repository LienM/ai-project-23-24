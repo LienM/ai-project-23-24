{
 "cells": [
  {
   "cell_type": "code",
   "execution_count": 1,
   "outputs": [],
   "source": [
    "import numpy as np\n",
    "import pandas as pd\n",
    "from sklearn.base import BaseEstimator, TransformerMixin\n",
    "from lightgbm.sklearn import LGBMRanker\n",
    "from Question1 import *\n",
    "import pickle"
   ],
   "metadata": {
    "collapsed": false,
    "ExecuteTime": {
     "end_time": "2023-11-22T02:21:41.140623700Z",
     "start_time": "2023-11-22T02:21:37.783869300Z"
    }
   },
   "id": "440f08aa2dd5b0ac"
  },
  {
   "cell_type": "code",
   "execution_count": 2,
   "id": "af847e1a",
   "metadata": {
    "execution": {
     "iopub.execute_input": "2022-04-16T16:58:44.085405Z",
     "iopub.status.busy": "2022-04-16T16:58:44.084601Z",
     "iopub.status.idle": "2022-04-16T16:58:53.285552Z",
     "shell.execute_reply": "2022-04-16T16:58:53.284023Z"
    },
    "papermill": {
     "duration": 9.279307,
     "end_time": "2022-04-16T16:58:53.289550",
     "exception": false,
     "start_time": "2022-04-16T16:58:44.010243",
     "status": "completed"
    },
    "tags": [],
    "ExecuteTime": {
     "end_time": "2023-11-22T02:21:42.048687700Z",
     "start_time": "2023-11-22T02:21:41.133112800Z"
    }
   },
   "outputs": [
    {
     "name": "stdout",
     "output_type": "stream",
     "text": [
      "CPU times: total: 672 ms\n",
      "Wall time: 911 ms\n"
     ]
    }
   ],
   "source": [
    "%%time\n",
    "\n",
    "transactions = pd.read_parquet('../data/transactions_train.parquet')\n",
    "customers = pd.read_parquet('../data/customers.parquet')\n",
    "articles = pd.read_parquet('../data/articles.parquet')\n",
    "\n",
    "test_week = transactions.week.max() + 1\n",
    "transactions = transactions[transactions.week > transactions.week.max() - 10]"
   ]
  },
  {
   "cell_type": "markdown",
   "id": "5133081f",
   "metadata": {
    "papermill": {
     "duration": 0.04664,
     "end_time": "2022-04-16T16:58:53.778482",
     "exception": false,
     "start_time": "2022-04-16T16:58:53.731842",
     "status": "completed"
    },
    "tags": []
   },
   "source": [
    "# Generating candidates"
   ]
  },
  {
   "cell_type": "markdown",
   "id": "55672930",
   "metadata": {
    "papermill": {
     "duration": 0.047255,
     "end_time": "2022-04-16T16:58:53.872805",
     "exception": false,
     "start_time": "2022-04-16T16:58:53.825550",
     "status": "completed"
    },
    "tags": []
   },
   "source": [
    "### Last purchase candidates"
   ]
  },
  {
   "cell_type": "code",
   "execution_count": 3,
   "id": "953a0f07",
   "metadata": {
    "execution": {
     "iopub.execute_input": "2022-04-16T16:58:53.967689Z",
     "iopub.status.busy": "2022-04-16T16:58:53.967401Z",
     "iopub.status.idle": "2022-04-16T16:59:15.044739Z",
     "shell.execute_reply": "2022-04-16T16:59:15.043325Z"
    },
    "papermill": {
     "duration": 21.129005,
     "end_time": "2022-04-16T16:59:15.047833",
     "exception": false,
     "start_time": "2022-04-16T16:58:53.918828",
     "status": "completed"
    },
    "tags": [],
    "ExecuteTime": {
     "end_time": "2023-11-22T02:21:47.604733400Z",
     "start_time": "2023-11-22T02:21:42.048687700Z"
    }
   },
   "outputs": [
    {
     "name": "stdout",
     "output_type": "stream",
     "text": [
      "CPU times: total: 2.59 s\n",
      "Wall time: 5.55 s\n"
     ]
    }
   ],
   "source": [
    "%%time\n",
    "\n",
    "c2weeks = transactions.groupby('customer_id')['week'].unique()"
   ]
  },
  {
   "cell_type": "code",
   "execution_count": 4,
   "id": "a36be6fc",
   "metadata": {
    "execution": {
     "iopub.execute_input": "2022-04-16T16:59:15.192906Z",
     "iopub.status.busy": "2022-04-16T16:59:15.192675Z",
     "iopub.status.idle": "2022-04-16T16:59:15.281870Z",
     "shell.execute_reply": "2022-04-16T16:59:15.281106Z"
    },
    "papermill": {
     "duration": 0.164411,
     "end_time": "2022-04-16T16:59:15.283877",
     "exception": false,
     "start_time": "2022-04-16T16:59:15.119466",
     "status": "completed"
    },
    "tags": [],
    "ExecuteTime": {
     "end_time": "2023-11-22T02:21:47.638574200Z",
     "start_time": "2023-11-22T02:21:47.604733400Z"
    }
   },
   "outputs": [
    {
     "data": {
      "text/plain": "            min        max\nweek                      \n95   2020-07-15 2020-07-21\n96   2020-07-22 2020-07-28\n97   2020-07-29 2020-08-04\n98   2020-08-05 2020-08-11\n99   2020-08-12 2020-08-18\n100  2020-08-19 2020-08-25\n101  2020-08-26 2020-09-01\n102  2020-09-02 2020-09-08\n103  2020-09-09 2020-09-15\n104  2020-09-16 2020-09-22",
      "text/html": "<div>\n<style scoped>\n    .dataframe tbody tr th:only-of-type {\n        vertical-align: middle;\n    }\n\n    .dataframe tbody tr th {\n        vertical-align: top;\n    }\n\n    .dataframe thead th {\n        text-align: right;\n    }\n</style>\n<table border=\"1\" class=\"dataframe\">\n  <thead>\n    <tr style=\"text-align: right;\">\n      <th></th>\n      <th>min</th>\n      <th>max</th>\n    </tr>\n    <tr>\n      <th>week</th>\n      <th></th>\n      <th></th>\n    </tr>\n  </thead>\n  <tbody>\n    <tr>\n      <th>95</th>\n      <td>2020-07-15</td>\n      <td>2020-07-21</td>\n    </tr>\n    <tr>\n      <th>96</th>\n      <td>2020-07-22</td>\n      <td>2020-07-28</td>\n    </tr>\n    <tr>\n      <th>97</th>\n      <td>2020-07-29</td>\n      <td>2020-08-04</td>\n    </tr>\n    <tr>\n      <th>98</th>\n      <td>2020-08-05</td>\n      <td>2020-08-11</td>\n    </tr>\n    <tr>\n      <th>99</th>\n      <td>2020-08-12</td>\n      <td>2020-08-18</td>\n    </tr>\n    <tr>\n      <th>100</th>\n      <td>2020-08-19</td>\n      <td>2020-08-25</td>\n    </tr>\n    <tr>\n      <th>101</th>\n      <td>2020-08-26</td>\n      <td>2020-09-01</td>\n    </tr>\n    <tr>\n      <th>102</th>\n      <td>2020-09-02</td>\n      <td>2020-09-08</td>\n    </tr>\n    <tr>\n      <th>103</th>\n      <td>2020-09-09</td>\n      <td>2020-09-15</td>\n    </tr>\n    <tr>\n      <th>104</th>\n      <td>2020-09-16</td>\n      <td>2020-09-22</td>\n    </tr>\n  </tbody>\n</table>\n</div>"
     },
     "execution_count": 4,
     "metadata": {},
     "output_type": "execute_result"
    }
   ],
   "source": [
    "transactions.groupby('week')['t_dat'].agg(['min', 'max'])"
   ]
  },
  {
   "cell_type": "code",
   "execution_count": 5,
   "id": "f4723bec",
   "metadata": {
    "execution": {
     "iopub.execute_input": "2022-04-16T16:59:15.588334Z",
     "iopub.status.busy": "2022-04-16T16:59:15.588052Z",
     "iopub.status.idle": "2022-04-16T16:59:16.661897Z",
     "shell.execute_reply": "2022-04-16T16:59:16.661248Z"
    },
    "papermill": {
     "duration": 1.152087,
     "end_time": "2022-04-16T16:59:16.664416",
     "exception": false,
     "start_time": "2022-04-16T16:59:15.512329",
     "status": "completed"
    },
    "tags": [],
    "ExecuteTime": {
     "end_time": "2023-11-22T02:21:47.973981200Z",
     "start_time": "2023-11-22T02:21:47.638574200Z"
    }
   },
   "outputs": [
    {
     "name": "stdout",
     "output_type": "stream",
     "text": [
      "CPU times: total: 141 ms\n",
      "Wall time: 331 ms\n"
     ]
    }
   ],
   "source": [
    "%%time\n",
    "\n",
    "c2weeks2shifted_weeks = {}\n",
    "\n",
    "for c_id, weeks in c2weeks.items():\n",
    "    c2weeks2shifted_weeks[c_id] = {}\n",
    "    for i in range(weeks.shape[0]-1):\n",
    "        c2weeks2shifted_weeks[c_id][weeks[i]] = weeks[i+1]\n",
    "    c2weeks2shifted_weeks[c_id][weeks[-1]] = test_week"
   ]
  },
  {
   "cell_type": "code",
   "execution_count": 6,
   "id": "5a87c920",
   "metadata": {
    "execution": {
     "iopub.execute_input": "2022-04-16T16:59:16.974137Z",
     "iopub.status.busy": "2022-04-16T16:59:16.973909Z",
     "iopub.status.idle": "2022-04-16T16:59:16.988973Z",
     "shell.execute_reply": "2022-04-16T16:59:16.988167Z"
    },
    "papermill": {
     "duration": 0.095127,
     "end_time": "2022-04-16T16:59:16.991288",
     "exception": false,
     "start_time": "2022-04-16T16:59:16.896161",
     "status": "completed"
    },
    "tags": [],
    "ExecuteTime": {
     "end_time": "2023-11-22T02:21:47.984336200Z",
     "start_time": "2023-11-22T02:21:47.975982200Z"
    }
   },
   "outputs": [],
   "source": [
    "candidates_last_purchase = transactions.copy()"
   ]
  },
  {
   "cell_type": "code",
   "execution_count": 7,
   "id": "4f4d4a18",
   "metadata": {
    "execution": {
     "iopub.execute_input": "2022-04-16T16:59:17.146118Z",
     "iopub.status.busy": "2022-04-16T16:59:17.145905Z",
     "iopub.status.idle": "2022-04-16T16:59:25.781407Z",
     "shell.execute_reply": "2022-04-16T16:59:25.779777Z"
    },
    "papermill": {
     "duration": 8.716794,
     "end_time": "2022-04-16T16:59:25.784593",
     "exception": false,
     "start_time": "2022-04-16T16:59:17.067799",
     "status": "completed"
    },
    "tags": [],
    "ExecuteTime": {
     "end_time": "2023-11-22T02:21:57.674503100Z",
     "start_time": "2023-11-22T02:21:47.984336200Z"
    }
   },
   "outputs": [
    {
     "name": "stdout",
     "output_type": "stream",
     "text": [
      "CPU times: total: 4.39 s\n",
      "Wall time: 9.69 s\n"
     ]
    }
   ],
   "source": [
    "%%time\n",
    "\n",
    "weeks = []\n",
    "for i, (c_id, week) in enumerate(zip(transactions['customer_id'], transactions['week'])):\n",
    "    weeks.append(c2weeks2shifted_weeks[c_id][week])\n",
    "    \n",
    "candidates_last_purchase.week=weeks"
   ]
  },
  {
   "cell_type": "markdown",
   "id": "38ae3458",
   "metadata": {
    "papermill": {
     "duration": 0.076715,
     "end_time": "2022-04-16T16:59:26.293010",
     "exception": false,
     "start_time": "2022-04-16T16:59:26.216295",
     "status": "completed"
    },
    "tags": []
   },
   "source": [
    "### Bestsellers candidates"
   ]
  },
  {
   "cell_type": "code",
   "execution_count": 8,
   "id": "022a7879",
   "metadata": {
    "execution": {
     "iopub.execute_input": "2022-04-16T16:59:26.450077Z",
     "iopub.status.busy": "2022-04-16T16:59:26.449041Z",
     "iopub.status.idle": "2022-04-16T16:59:26.698222Z",
     "shell.execute_reply": "2022-04-16T16:59:26.697460Z"
    },
    "papermill": {
     "duration": 0.331688,
     "end_time": "2022-04-16T16:59:26.700507",
     "exception": false,
     "start_time": "2022-04-16T16:59:26.368819",
     "status": "completed"
    },
    "tags": [],
    "ExecuteTime": {
     "end_time": "2023-11-22T02:21:57.795208600Z",
     "start_time": "2023-11-22T02:21:57.674503100Z"
    }
   },
   "outputs": [],
   "source": [
    "mean_price = transactions \\\n",
    "    .groupby(['week', 'article_id'])['price'].mean()"
   ]
  },
  {
   "cell_type": "code",
   "execution_count": 9,
   "id": "9a104ef9",
   "metadata": {
    "execution": {
     "iopub.execute_input": "2022-04-16T16:59:26.973271Z",
     "iopub.status.busy": "2022-04-16T16:59:26.972993Z",
     "iopub.status.idle": "2022-04-16T16:59:27.759574Z",
     "shell.execute_reply": "2022-04-16T16:59:27.758540Z"
    },
    "papermill": {
     "duration": 0.840436,
     "end_time": "2022-04-16T16:59:27.761667",
     "exception": false,
     "start_time": "2022-04-16T16:59:26.921231",
     "status": "completed"
    },
    "tags": [],
    "ExecuteTime": {
     "end_time": "2023-11-22T02:21:57.964203800Z",
     "start_time": "2023-11-22T02:21:57.796205100Z"
    }
   },
   "outputs": [
    {
     "data": {
      "text/plain": "week  article_id\n95    760084003      1\n      866731001      2\n      600886001      3\n      706016001      4\n      372860002      5\n                    ..\n104   915529003      8\n      915529005      9\n      448509014     10\n      762846027     11\n      714790020     12\nName: bestseller_rank, Length: 120, dtype: int8"
     },
     "execution_count": 9,
     "metadata": {},
     "output_type": "execute_result"
    }
   ],
   "source": [
    "sales = transactions \\\n",
    "    .groupby('week')['article_id'].value_counts() \\\n",
    "    .groupby('week').rank(method='dense', ascending=False) \\\n",
    "    .groupby('week').head(12).rename('bestseller_rank').astype('int8')\n",
    "sales"
   ]
  },
  {
   "cell_type": "code",
   "execution_count": 10,
   "id": "20324cc0",
   "metadata": {
    "execution": {
     "iopub.execute_input": "2022-04-16T16:59:28.190524Z",
     "iopub.status.busy": "2022-04-16T16:59:28.190250Z",
     "iopub.status.idle": "2022-04-16T16:59:28.228967Z",
     "shell.execute_reply": "2022-04-16T16:59:28.228233Z"
    },
    "papermill": {
     "duration": 0.11991,
     "end_time": "2022-04-16T16:59:28.231470",
     "exception": false,
     "start_time": "2022-04-16T16:59:28.111560",
     "status": "completed"
    },
    "tags": [],
    "ExecuteTime": {
     "end_time": "2023-11-22T02:21:57.987204300Z",
     "start_time": "2023-11-22T02:21:57.965202100Z"
    }
   },
   "outputs": [
    {
     "data": {
      "text/plain": "     week  article_id  bestseller_rank     price\n0      96   760084003                1  0.025094\n1      96   866731001                2  0.024919\n2      96   600886001                3  0.022980\n3      96   706016001                4  0.033197\n4      96   372860002                5  0.013193\n..    ...         ...              ...       ...\n115   105   915529003                8  0.033439\n116   105   915529005                9  0.033417\n117   105   448509014               10  0.041630\n118   105   762846027               11  0.025005\n119   105   714790020               12  0.049951\n\n[120 rows x 4 columns]",
      "text/html": "<div>\n<style scoped>\n    .dataframe tbody tr th:only-of-type {\n        vertical-align: middle;\n    }\n\n    .dataframe tbody tr th {\n        vertical-align: top;\n    }\n\n    .dataframe thead th {\n        text-align: right;\n    }\n</style>\n<table border=\"1\" class=\"dataframe\">\n  <thead>\n    <tr style=\"text-align: right;\">\n      <th></th>\n      <th>week</th>\n      <th>article_id</th>\n      <th>bestseller_rank</th>\n      <th>price</th>\n    </tr>\n  </thead>\n  <tbody>\n    <tr>\n      <th>0</th>\n      <td>96</td>\n      <td>760084003</td>\n      <td>1</td>\n      <td>0.025094</td>\n    </tr>\n    <tr>\n      <th>1</th>\n      <td>96</td>\n      <td>866731001</td>\n      <td>2</td>\n      <td>0.024919</td>\n    </tr>\n    <tr>\n      <th>2</th>\n      <td>96</td>\n      <td>600886001</td>\n      <td>3</td>\n      <td>0.022980</td>\n    </tr>\n    <tr>\n      <th>3</th>\n      <td>96</td>\n      <td>706016001</td>\n      <td>4</td>\n      <td>0.033197</td>\n    </tr>\n    <tr>\n      <th>4</th>\n      <td>96</td>\n      <td>372860002</td>\n      <td>5</td>\n      <td>0.013193</td>\n    </tr>\n    <tr>\n      <th>...</th>\n      <td>...</td>\n      <td>...</td>\n      <td>...</td>\n      <td>...</td>\n    </tr>\n    <tr>\n      <th>115</th>\n      <td>105</td>\n      <td>915529003</td>\n      <td>8</td>\n      <td>0.033439</td>\n    </tr>\n    <tr>\n      <th>116</th>\n      <td>105</td>\n      <td>915529005</td>\n      <td>9</td>\n      <td>0.033417</td>\n    </tr>\n    <tr>\n      <th>117</th>\n      <td>105</td>\n      <td>448509014</td>\n      <td>10</td>\n      <td>0.041630</td>\n    </tr>\n    <tr>\n      <th>118</th>\n      <td>105</td>\n      <td>762846027</td>\n      <td>11</td>\n      <td>0.025005</td>\n    </tr>\n    <tr>\n      <th>119</th>\n      <td>105</td>\n      <td>714790020</td>\n      <td>12</td>\n      <td>0.049951</td>\n    </tr>\n  </tbody>\n</table>\n<p>120 rows × 4 columns</p>\n</div>"
     },
     "execution_count": 10,
     "metadata": {},
     "output_type": "execute_result"
    }
   ],
   "source": [
    "bestsellers_previous_week = pd.merge(sales, mean_price, on=['week', 'article_id']).reset_index()\n",
    "bestsellers_previous_week.week += 1\n",
    "\n",
    "bestsellers_previous_week"
   ]
  },
  {
   "cell_type": "code",
   "execution_count": 11,
   "id": "1ad756de",
   "metadata": {
    "execution": {
     "iopub.execute_input": "2022-04-16T16:59:28.555106Z",
     "iopub.status.busy": "2022-04-16T16:59:28.554346Z",
     "iopub.status.idle": "2022-04-16T16:59:29.140400Z",
     "shell.execute_reply": "2022-04-16T16:59:29.138684Z"
    },
    "papermill": {
     "duration": 0.667005,
     "end_time": "2022-04-16T16:59:29.144061",
     "exception": false,
     "start_time": "2022-04-16T16:59:28.477056",
     "status": "completed"
    },
    "tags": [],
    "ExecuteTime": {
     "end_time": "2023-11-22T02:21:58.298393600Z",
     "start_time": "2023-11-22T02:21:57.986203200Z"
    }
   },
   "outputs": [],
   "source": [
    "unique_transactions = transactions \\\n",
    "    .groupby(['week', 'customer_id']) \\\n",
    "    .head(1) \\\n",
    "    .drop(columns=['article_id', 'price']) \\\n",
    "    .copy()"
   ]
  },
  {
   "cell_type": "code",
   "execution_count": 12,
   "id": "4a23981e",
   "metadata": {
    "execution": {
     "iopub.execute_input": "2022-04-16T16:59:29.966619Z",
     "iopub.status.busy": "2022-04-16T16:59:29.965698Z",
     "iopub.status.idle": "2022-04-16T16:59:30.451040Z",
     "shell.execute_reply": "2022-04-16T16:59:30.449784Z"
    },
    "papermill": {
     "duration": 0.575247,
     "end_time": "2022-04-16T16:59:30.453425",
     "exception": false,
     "start_time": "2022-04-16T16:59:29.878178",
     "status": "completed"
    },
    "tags": [],
    "ExecuteTime": {
     "end_time": "2023-11-22T02:21:58.490575500Z",
     "start_time": "2023-11-22T02:21:58.298393600Z"
    }
   },
   "outputs": [
    {
     "data": {
      "text/plain": "             t_dat           customer_id  sales_channel_id  week  article_id  \\\n0       2020-07-22       200292573348128                 2    96   760084003   \n1       2020-07-22       200292573348128                 2    96   866731001   \n2       2020-07-22       200292573348128                 2    96   600886001   \n3       2020-07-22       200292573348128                 2    96   706016001   \n4       2020-07-22       200292573348128                 2    96   372860002   \n...            ...                   ...               ...   ...         ...   \n8141191 2020-09-22  18440902715633436014                 1   104   918292001   \n8141192 2020-09-22  18440902715633436014                 1   104   762846027   \n8141193 2020-09-22  18440902715633436014                 1   104   809238005   \n8141194 2020-09-22  18440902715633436014                 1   104   673677002   \n8141195 2020-09-22  18440902715633436014                 1   104   923758001   \n\n         bestseller_rank     price  \n0                      1  0.025094  \n1                      2  0.024919  \n2                      3  0.022980  \n3                      4  0.033197  \n4                      5  0.013193  \n...                  ...       ...  \n8141191                8  0.041424  \n8141192                9  0.025104  \n8141193               10  0.041656  \n8141194               11  0.024925  \n8141195               12  0.033478  \n\n[8141196 rows x 7 columns]",
      "text/html": "<div>\n<style scoped>\n    .dataframe tbody tr th:only-of-type {\n        vertical-align: middle;\n    }\n\n    .dataframe tbody tr th {\n        vertical-align: top;\n    }\n\n    .dataframe thead th {\n        text-align: right;\n    }\n</style>\n<table border=\"1\" class=\"dataframe\">\n  <thead>\n    <tr style=\"text-align: right;\">\n      <th></th>\n      <th>t_dat</th>\n      <th>customer_id</th>\n      <th>sales_channel_id</th>\n      <th>week</th>\n      <th>article_id</th>\n      <th>bestseller_rank</th>\n      <th>price</th>\n    </tr>\n  </thead>\n  <tbody>\n    <tr>\n      <th>0</th>\n      <td>2020-07-22</td>\n      <td>200292573348128</td>\n      <td>2</td>\n      <td>96</td>\n      <td>760084003</td>\n      <td>1</td>\n      <td>0.025094</td>\n    </tr>\n    <tr>\n      <th>1</th>\n      <td>2020-07-22</td>\n      <td>200292573348128</td>\n      <td>2</td>\n      <td>96</td>\n      <td>866731001</td>\n      <td>2</td>\n      <td>0.024919</td>\n    </tr>\n    <tr>\n      <th>2</th>\n      <td>2020-07-22</td>\n      <td>200292573348128</td>\n      <td>2</td>\n      <td>96</td>\n      <td>600886001</td>\n      <td>3</td>\n      <td>0.022980</td>\n    </tr>\n    <tr>\n      <th>3</th>\n      <td>2020-07-22</td>\n      <td>200292573348128</td>\n      <td>2</td>\n      <td>96</td>\n      <td>706016001</td>\n      <td>4</td>\n      <td>0.033197</td>\n    </tr>\n    <tr>\n      <th>4</th>\n      <td>2020-07-22</td>\n      <td>200292573348128</td>\n      <td>2</td>\n      <td>96</td>\n      <td>372860002</td>\n      <td>5</td>\n      <td>0.013193</td>\n    </tr>\n    <tr>\n      <th>...</th>\n      <td>...</td>\n      <td>...</td>\n      <td>...</td>\n      <td>...</td>\n      <td>...</td>\n      <td>...</td>\n      <td>...</td>\n    </tr>\n    <tr>\n      <th>8141191</th>\n      <td>2020-09-22</td>\n      <td>18440902715633436014</td>\n      <td>1</td>\n      <td>104</td>\n      <td>918292001</td>\n      <td>8</td>\n      <td>0.041424</td>\n    </tr>\n    <tr>\n      <th>8141192</th>\n      <td>2020-09-22</td>\n      <td>18440902715633436014</td>\n      <td>1</td>\n      <td>104</td>\n      <td>762846027</td>\n      <td>9</td>\n      <td>0.025104</td>\n    </tr>\n    <tr>\n      <th>8141193</th>\n      <td>2020-09-22</td>\n      <td>18440902715633436014</td>\n      <td>1</td>\n      <td>104</td>\n      <td>809238005</td>\n      <td>10</td>\n      <td>0.041656</td>\n    </tr>\n    <tr>\n      <th>8141194</th>\n      <td>2020-09-22</td>\n      <td>18440902715633436014</td>\n      <td>1</td>\n      <td>104</td>\n      <td>673677002</td>\n      <td>11</td>\n      <td>0.024925</td>\n    </tr>\n    <tr>\n      <th>8141195</th>\n      <td>2020-09-22</td>\n      <td>18440902715633436014</td>\n      <td>1</td>\n      <td>104</td>\n      <td>923758001</td>\n      <td>12</td>\n      <td>0.033478</td>\n    </tr>\n  </tbody>\n</table>\n<p>8141196 rows × 7 columns</p>\n</div>"
     },
     "execution_count": 12,
     "metadata": {},
     "output_type": "execute_result"
    }
   ],
   "source": [
    "candidates_bestsellers = pd.merge(\n",
    "    unique_transactions,\n",
    "    bestsellers_previous_week,\n",
    "    on='week',\n",
    ")\n",
    "\n",
    "candidates_bestsellers"
   ]
  },
  {
   "cell_type": "code",
   "execution_count": 13,
   "id": "ad3a9710",
   "metadata": {
    "execution": {
     "iopub.execute_input": "2022-04-16T16:59:30.557949Z",
     "iopub.status.busy": "2022-04-16T16:59:30.557290Z",
     "iopub.status.idle": "2022-04-16T16:59:30.666388Z",
     "shell.execute_reply": "2022-04-16T16:59:30.665542Z"
    },
    "papermill": {
     "duration": 0.163691,
     "end_time": "2022-04-16T16:59:30.668845",
     "exception": false,
     "start_time": "2022-04-16T16:59:30.505154",
     "status": "completed"
    },
    "tags": [],
    "ExecuteTime": {
     "end_time": "2023-11-22T02:21:58.514309100Z",
     "start_time": "2023-11-22T02:21:58.491574500Z"
    }
   },
   "outputs": [],
   "source": [
    "test_set_transactions = unique_transactions.drop_duplicates('customer_id').reset_index(drop=True)\n",
    "test_set_transactions.week = test_week"
   ]
  },
  {
   "cell_type": "code",
   "execution_count": 14,
   "id": "9f64b005",
   "metadata": {
    "execution": {
     "iopub.execute_input": "2022-04-16T16:59:31.022450Z",
     "iopub.status.busy": "2022-04-16T16:59:31.021916Z",
     "iopub.status.idle": "2022-04-16T16:59:31.402955Z",
     "shell.execute_reply": "2022-04-16T16:59:31.402449Z"
    },
    "papermill": {
     "duration": 0.473042,
     "end_time": "2022-04-16T16:59:31.405328",
     "exception": false,
     "start_time": "2022-04-16T16:59:30.932286",
     "status": "completed"
    },
    "tags": [],
    "ExecuteTime": {
     "end_time": "2023-11-22T02:21:58.694533900Z",
     "start_time": "2023-11-22T02:21:58.514309100Z"
    }
   },
   "outputs": [],
   "source": [
    "candidates_bestsellers_test_week = pd.merge(\n",
    "    test_set_transactions,\n",
    "    bestsellers_previous_week,\n",
    "    on='week'\n",
    ")"
   ]
  },
  {
   "cell_type": "code",
   "execution_count": 15,
   "id": "212b7926",
   "metadata": {
    "execution": {
     "iopub.execute_input": "2022-04-16T16:59:31.572192Z",
     "iopub.status.busy": "2022-04-16T16:59:31.571731Z",
     "iopub.status.idle": "2022-04-16T16:59:32.056182Z",
     "shell.execute_reply": "2022-04-16T16:59:32.054646Z"
    },
    "papermill": {
     "duration": 0.570441,
     "end_time": "2022-04-16T16:59:32.058855",
     "exception": false,
     "start_time": "2022-04-16T16:59:31.488414",
     "status": "completed"
    },
    "tags": [],
    "ExecuteTime": {
     "end_time": "2023-11-22T02:21:58.888072500Z",
     "start_time": "2023-11-22T02:21:58.694533900Z"
    }
   },
   "outputs": [
    {
     "data": {
      "text/plain": "             t_dat           customer_id  sales_channel_id  week  article_id  \\\n0       2020-07-22       200292573348128                 2    96   760084003   \n1       2020-07-22       200292573348128                 2    96   866731001   \n2       2020-07-22       200292573348128                 2    96   600886001   \n3       2020-07-22       200292573348128                 2    96   706016001   \n4       2020-07-22       200292573348128                 2    96   372860002   \n...            ...                   ...               ...   ...         ...   \n5248375 2020-09-22  18438270306572912089                 1   105   915529003   \n5248376 2020-09-22  18438270306572912089                 1   105   915529005   \n5248377 2020-09-22  18438270306572912089                 1   105   448509014   \n5248378 2020-09-22  18438270306572912089                 1   105   762846027   \n5248379 2020-09-22  18438270306572912089                 1   105   714790020   \n\n            price  \n0        0.025094  \n1        0.024919  \n2        0.022980  \n3        0.033197  \n4        0.013193  \n...           ...  \n5248375  0.033439  \n5248376  0.033417  \n5248377  0.041630  \n5248378  0.025005  \n5248379  0.049951  \n\n[13389576 rows x 6 columns]",
      "text/html": "<div>\n<style scoped>\n    .dataframe tbody tr th:only-of-type {\n        vertical-align: middle;\n    }\n\n    .dataframe tbody tr th {\n        vertical-align: top;\n    }\n\n    .dataframe thead th {\n        text-align: right;\n    }\n</style>\n<table border=\"1\" class=\"dataframe\">\n  <thead>\n    <tr style=\"text-align: right;\">\n      <th></th>\n      <th>t_dat</th>\n      <th>customer_id</th>\n      <th>sales_channel_id</th>\n      <th>week</th>\n      <th>article_id</th>\n      <th>price</th>\n    </tr>\n  </thead>\n  <tbody>\n    <tr>\n      <th>0</th>\n      <td>2020-07-22</td>\n      <td>200292573348128</td>\n      <td>2</td>\n      <td>96</td>\n      <td>760084003</td>\n      <td>0.025094</td>\n    </tr>\n    <tr>\n      <th>1</th>\n      <td>2020-07-22</td>\n      <td>200292573348128</td>\n      <td>2</td>\n      <td>96</td>\n      <td>866731001</td>\n      <td>0.024919</td>\n    </tr>\n    <tr>\n      <th>2</th>\n      <td>2020-07-22</td>\n      <td>200292573348128</td>\n      <td>2</td>\n      <td>96</td>\n      <td>600886001</td>\n      <td>0.022980</td>\n    </tr>\n    <tr>\n      <th>3</th>\n      <td>2020-07-22</td>\n      <td>200292573348128</td>\n      <td>2</td>\n      <td>96</td>\n      <td>706016001</td>\n      <td>0.033197</td>\n    </tr>\n    <tr>\n      <th>4</th>\n      <td>2020-07-22</td>\n      <td>200292573348128</td>\n      <td>2</td>\n      <td>96</td>\n      <td>372860002</td>\n      <td>0.013193</td>\n    </tr>\n    <tr>\n      <th>...</th>\n      <td>...</td>\n      <td>...</td>\n      <td>...</td>\n      <td>...</td>\n      <td>...</td>\n      <td>...</td>\n    </tr>\n    <tr>\n      <th>5248375</th>\n      <td>2020-09-22</td>\n      <td>18438270306572912089</td>\n      <td>1</td>\n      <td>105</td>\n      <td>915529003</td>\n      <td>0.033439</td>\n    </tr>\n    <tr>\n      <th>5248376</th>\n      <td>2020-09-22</td>\n      <td>18438270306572912089</td>\n      <td>1</td>\n      <td>105</td>\n      <td>915529005</td>\n      <td>0.033417</td>\n    </tr>\n    <tr>\n      <th>5248377</th>\n      <td>2020-09-22</td>\n      <td>18438270306572912089</td>\n      <td>1</td>\n      <td>105</td>\n      <td>448509014</td>\n      <td>0.041630</td>\n    </tr>\n    <tr>\n      <th>5248378</th>\n      <td>2020-09-22</td>\n      <td>18438270306572912089</td>\n      <td>1</td>\n      <td>105</td>\n      <td>762846027</td>\n      <td>0.025005</td>\n    </tr>\n    <tr>\n      <th>5248379</th>\n      <td>2020-09-22</td>\n      <td>18438270306572912089</td>\n      <td>1</td>\n      <td>105</td>\n      <td>714790020</td>\n      <td>0.049951</td>\n    </tr>\n  </tbody>\n</table>\n<p>13389576 rows × 6 columns</p>\n</div>"
     },
     "execution_count": 15,
     "metadata": {},
     "output_type": "execute_result"
    }
   ],
   "source": [
    "candidates_bestsellers = pd.concat([candidates_bestsellers, candidates_bestsellers_test_week])\n",
    "candidates_bestsellers.drop(columns='bestseller_rank', inplace=True)\n",
    "candidates_bestsellers"
   ]
  },
  {
   "cell_type": "markdown",
   "id": "d5b03292",
   "metadata": {
    "papermill": {
     "duration": 0.08208,
     "end_time": "2022-04-16T16:59:32.397198",
     "exception": false,
     "start_time": "2022-04-16T16:59:32.315118",
     "status": "completed"
    },
    "tags": []
   },
   "source": [
    "# Combining transactions and candidates / negative examples"
   ]
  },
  {
   "cell_type": "code",
   "execution_count": 16,
   "id": "529196a4",
   "metadata": {
    "execution": {
     "iopub.execute_input": "2022-04-16T16:59:32.559999Z",
     "iopub.status.busy": "2022-04-16T16:59:32.559691Z",
     "iopub.status.idle": "2022-04-16T16:59:32.568020Z",
     "shell.execute_reply": "2022-04-16T16:59:32.567210Z"
    },
    "papermill": {
     "duration": 0.090433,
     "end_time": "2022-04-16T16:59:32.570268",
     "exception": false,
     "start_time": "2022-04-16T16:59:32.479835",
     "status": "completed"
    },
    "tags": [],
    "ExecuteTime": {
     "end_time": "2023-11-22T02:21:58.892771700Z",
     "start_time": "2023-11-22T02:21:58.888072500Z"
    }
   },
   "outputs": [],
   "source": [
    "transactions['purchased'] = 1"
   ]
  },
  {
   "cell_type": "code",
   "execution_count": 17,
   "id": "421a601e",
   "metadata": {
    "execution": {
     "iopub.execute_input": "2022-04-16T16:59:32.732883Z",
     "iopub.status.busy": "2022-04-16T16:59:32.732442Z",
     "iopub.status.idle": "2022-04-16T16:59:33.215270Z",
     "shell.execute_reply": "2022-04-16T16:59:33.214358Z"
    },
    "papermill": {
     "duration": 0.56807,
     "end_time": "2022-04-16T16:59:33.217736",
     "exception": false,
     "start_time": "2022-04-16T16:59:32.649666",
     "status": "completed"
    },
    "tags": [],
    "ExecuteTime": {
     "end_time": "2023-11-22T02:21:59.029917900Z",
     "start_time": "2023-11-22T02:21:58.893768600Z"
    }
   },
   "outputs": [],
   "source": [
    "data = pd.concat([transactions, candidates_last_purchase, candidates_bestsellers])\n",
    "data.purchased.fillna(0, inplace=True)"
   ]
  },
  {
   "cell_type": "code",
   "execution_count": 18,
   "id": "9f4e8cdb",
   "metadata": {
    "execution": {
     "iopub.execute_input": "2022-04-16T16:59:33.565093Z",
     "iopub.status.busy": "2022-04-16T16:59:33.564667Z",
     "iopub.status.idle": "2022-04-16T16:59:40.550065Z",
     "shell.execute_reply": "2022-04-16T16:59:40.549283Z"
    },
    "papermill": {
     "duration": 7.070271,
     "end_time": "2022-04-16T16:59:40.552624",
     "exception": false,
     "start_time": "2022-04-16T16:59:33.482353",
     "status": "completed"
    },
    "tags": [],
    "ExecuteTime": {
     "end_time": "2023-11-22T02:22:01.645120700Z",
     "start_time": "2023-11-22T02:21:59.031920600Z"
    }
   },
   "outputs": [],
   "source": [
    "data.drop_duplicates(['customer_id', 'article_id', 'week'], inplace=True)"
   ]
  },
  {
   "cell_type": "code",
   "execution_count": 19,
   "id": "95414c83",
   "metadata": {
    "execution": {
     "iopub.execute_input": "2022-04-16T16:59:40.724050Z",
     "iopub.status.busy": "2022-04-16T16:59:40.723803Z",
     "iopub.status.idle": "2022-04-16T16:59:40.766530Z",
     "shell.execute_reply": "2022-04-16T16:59:40.765805Z"
    },
    "papermill": {
     "duration": 0.131175,
     "end_time": "2022-04-16T16:59:40.768430",
     "exception": false,
     "start_time": "2022-04-16T16:59:40.637255",
     "status": "completed"
    },
    "tags": [],
    "ExecuteTime": {
     "end_time": "2023-11-22T02:22:01.678928800Z",
     "start_time": "2023-11-22T02:22:01.645120700Z"
    }
   },
   "outputs": [
    {
     "data": {
      "text/plain": "0.13607582749165664"
     },
     "execution_count": 19,
     "metadata": {},
     "output_type": "execute_result"
    }
   ],
   "source": [
    "data.purchased.mean()"
   ]
  },
  {
   "cell_type": "markdown",
   "id": "4d35aac7",
   "metadata": {
    "papermill": {
     "duration": 0.085919,
     "end_time": "2022-04-16T16:59:40.938934",
     "exception": false,
     "start_time": "2022-04-16T16:59:40.853015",
     "status": "completed"
    },
    "tags": []
   },
   "source": [
    "### Add bestseller information"
   ]
  },
  {
   "cell_type": "code",
   "execution_count": 20,
   "id": "ab6d0095",
   "metadata": {
    "execution": {
     "iopub.execute_input": "2022-04-16T16:59:41.111287Z",
     "iopub.status.busy": "2022-04-16T16:59:41.110981Z",
     "iopub.status.idle": "2022-04-16T16:59:44.046180Z",
     "shell.execute_reply": "2022-04-16T16:59:44.045173Z"
    },
    "papermill": {
     "duration": 3.024555,
     "end_time": "2022-04-16T16:59:44.048610",
     "exception": false,
     "start_time": "2022-04-16T16:59:41.024055",
     "status": "completed"
    },
    "tags": [],
    "ExecuteTime": {
     "end_time": "2023-11-22T02:22:02.569604300Z",
     "start_time": "2023-11-22T02:22:01.678928800Z"
    }
   },
   "outputs": [],
   "source": [
    "data = pd.merge(\n",
    "    data,\n",
    "    bestsellers_previous_week[['week', 'article_id', 'bestseller_rank']],\n",
    "    on=['week', 'article_id'],\n",
    "    how='left'\n",
    ")"
   ]
  },
  {
   "cell_type": "code",
   "execution_count": 21,
   "id": "7b18597e",
   "metadata": {
    "execution": {
     "iopub.execute_input": "2022-04-16T16:59:44.188869Z",
     "iopub.status.busy": "2022-04-16T16:59:44.188578Z",
     "iopub.status.idle": "2022-04-16T16:59:45.778521Z",
     "shell.execute_reply": "2022-04-16T16:59:45.777015Z"
    },
    "papermill": {
     "duration": 1.650973,
     "end_time": "2022-04-16T16:59:45.781085",
     "exception": false,
     "start_time": "2022-04-16T16:59:44.130112",
     "status": "completed"
    },
    "tags": [],
    "ExecuteTime": {
     "end_time": "2023-11-22T02:22:03.011265400Z",
     "start_time": "2023-11-22T02:22:02.569604300Z"
    }
   },
   "outputs": [],
   "source": [
    "data = data[data.week != data.week.min()]\n",
    "data.bestseller_rank.fillna(999, inplace=True)"
   ]
  },
  {
   "cell_type": "code",
   "execution_count": 22,
   "id": "7d9bb629",
   "metadata": {
    "execution": {
     "iopub.execute_input": "2022-04-16T16:59:45.949058Z",
     "iopub.status.busy": "2022-04-16T16:59:45.948608Z",
     "iopub.status.idle": "2022-04-16T17:00:11.114839Z",
     "shell.execute_reply": "2022-04-16T17:00:11.114301Z"
    },
    "papermill": {
     "duration": 25.250701,
     "end_time": "2022-04-16T17:00:11.116901",
     "exception": false,
     "start_time": "2022-04-16T16:59:45.866200",
     "status": "completed"
    },
    "tags": [],
    "ExecuteTime": {
     "end_time": "2023-11-22T02:22:05.891738900Z",
     "start_time": "2023-11-22T02:22:03.011265400Z"
    }
   },
   "outputs": [],
   "source": [
    "data = pd.merge(data, articles, on='article_id', how='left')\n",
    "data = pd.merge(data, customers, on='customer_id', how='left')"
   ]
  },
  {
   "cell_type": "markdown",
   "source": [],
   "metadata": {
    "collapsed": false
   },
   "id": "567611e1f0dfbf31"
  },
  {
   "cell_type": "markdown",
   "source": [
    "# Collaborative Filtering"
   ],
   "metadata": {
    "collapsed": false
   },
   "id": "c43041d9f7c31b92"
  },
  {
   "cell_type": "code",
   "execution_count": 23,
   "outputs": [],
   "source": [
    "itemcf_transactions = transactions.copy()\n",
    "itemcf_transactions.drop(['sales_channel_id', 'price','week'], inplace=True, axis=1)\n",
    "article_bought_count = itemcf_transactions[['article_id', 't_dat']].groupby('article_id').count().reset_index().rename(columns={'t_dat': 'count'})\n",
    "most_bought_articles = article_bought_count[article_bought_count['count']>10]['article_id'].values\n",
    "itemcf_transactions = itemcf_transactions[itemcf_transactions['article_id'].isin(most_bought_articles)]"
   ],
   "metadata": {
    "collapsed": false,
    "ExecuteTime": {
     "end_time": "2023-11-22T02:22:06.045523300Z",
     "start_time": "2023-11-22T02:22:05.893176800Z"
    }
   },
   "id": "1667cfa931b510a1"
  },
  {
   "cell_type": "code",
   "execution_count": 24,
   "outputs": [],
   "source": [
    "itemcf_transactions['article_id'] = itemcf_transactions['article_id'].astype(str)"
   ],
   "metadata": {
    "collapsed": false,
    "ExecuteTime": {
     "end_time": "2023-11-22T02:22:06.451780600Z",
     "start_time": "2023-11-22T02:22:06.045523300Z"
    }
   },
   "id": "541368dee74c563b"
  },
  {
   "cell_type": "code",
   "execution_count": 25,
   "outputs": [],
   "source": [
    "np.random.seed(0)\n",
    "\n",
    "negative_samples = pd.DataFrame({\n",
    "    'article_id': np.random.choice(itemcf_transactions.article_id.unique(), itemcf_transactions.shape[0]),\n",
    "    'customer_id': np.random.choice(itemcf_transactions.customer_id.unique(), itemcf_transactions.shape[0]),\n",
    "    'purchased': np.zeros(itemcf_transactions.shape[0])\n",
    "})"
   ],
   "metadata": {
    "collapsed": false,
    "ExecuteTime": {
     "end_time": "2023-11-22T02:22:06.682561400Z",
     "start_time": "2023-11-22T02:22:06.451780600Z"
    }
   },
   "id": "cca2d6aabe6628b"
  },
  {
   "cell_type": "code",
   "execution_count": 26,
   "outputs": [],
   "source": [
    "rec = ItemCF(itemcf_transactions, negative_samples, num_components=500)\n",
    "rec.fit(n_epochs=60)"
   ],
   "metadata": {
    "collapsed": false,
    "ExecuteTime": {
     "end_time": "2023-11-22T02:22:06.685112700Z",
     "start_time": "2023-11-22T02:22:06.682561400Z"
    }
   },
   "id": "83da7aa2749972af"
  },
  {
   "cell_type": "code",
   "execution_count": 27,
   "outputs": [],
   "source": [
    "# import pickle\n",
    "# with open('output/rq60_1000-notebook.pickle', 'rb') as file:\n",
    "#     rec:ItemCF = pickle.load(file)"
   ],
   "metadata": {
    "collapsed": false,
    "ExecuteTime": {
     "end_time": "2023-11-22T02:22:07.840670400Z",
     "start_time": "2023-11-22T02:22:06.685112700Z"
    }
   },
   "id": "40f65f2f5eb1de99"
  },
  {
   "cell_type": "code",
   "execution_count": 44,
   "outputs": [],
   "source": [
    "from sklearn.metrics.pairwise import cosine_similarity\n",
    "\n",
    "s2 = pd.DataFrame(cosine_similarity(rec.articles_latent_matrix, rec.articles_latent_matrix, dense_output=False), index=most_bought_articles.tolist(),columns=most_bought_articles.tolist())\n",
    "ss = s2.columns.to_numpy()[np.argsort(s2.values, axis=1)]\n",
    "ss = pd.DataFrame(ss[:, -4:])\n",
    "ss['article_id'] = most_bought_articles.tolist()"
   ],
   "metadata": {
    "collapsed": false,
    "ExecuteTime": {
     "end_time": "2023-11-22T02:32:52.219260300Z",
     "start_time": "2023-11-22T02:32:31.236696800Z"
    }
   },
   "id": "dcb1eae7209d70d5"
  },
  {
   "cell_type": "code",
   "execution_count": 47,
   "outputs": [
    {
     "data": {
      "text/plain": "       article_id          0          1          2\n0       108775044  900659001  823180003  761018017\n1       111565001  749699002  854789001  669091046\n2       111586001  760084009  880008001  857417005\n3       111593001  851996001  695632113  832309007\n4       111609001  793185033  763284001  886538001\n...           ...        ...        ...        ...\n19444   949551002  866596001  740927007  369796007\n19445   952267001  882810001  754267058  776781001\n19446   953450001  884345001  932383001  874704002\n19447   953763001  885950003  907432002  909921001\n19448   956217002  926500001  855793005  790448001\n\n[19449 rows x 4 columns]",
      "text/html": "<div>\n<style scoped>\n    .dataframe tbody tr th:only-of-type {\n        vertical-align: middle;\n    }\n\n    .dataframe tbody tr th {\n        vertical-align: top;\n    }\n\n    .dataframe thead th {\n        text-align: right;\n    }\n</style>\n<table border=\"1\" class=\"dataframe\">\n  <thead>\n    <tr style=\"text-align: right;\">\n      <th></th>\n      <th>article_id</th>\n      <th>0</th>\n      <th>1</th>\n      <th>2</th>\n    </tr>\n  </thead>\n  <tbody>\n    <tr>\n      <th>0</th>\n      <td>108775044</td>\n      <td>900659001</td>\n      <td>823180003</td>\n      <td>761018017</td>\n    </tr>\n    <tr>\n      <th>1</th>\n      <td>111565001</td>\n      <td>749699002</td>\n      <td>854789001</td>\n      <td>669091046</td>\n    </tr>\n    <tr>\n      <th>2</th>\n      <td>111586001</td>\n      <td>760084009</td>\n      <td>880008001</td>\n      <td>857417005</td>\n    </tr>\n    <tr>\n      <th>3</th>\n      <td>111593001</td>\n      <td>851996001</td>\n      <td>695632113</td>\n      <td>832309007</td>\n    </tr>\n    <tr>\n      <th>4</th>\n      <td>111609001</td>\n      <td>793185033</td>\n      <td>763284001</td>\n      <td>886538001</td>\n    </tr>\n    <tr>\n      <th>...</th>\n      <td>...</td>\n      <td>...</td>\n      <td>...</td>\n      <td>...</td>\n    </tr>\n    <tr>\n      <th>19444</th>\n      <td>949551002</td>\n      <td>866596001</td>\n      <td>740927007</td>\n      <td>369796007</td>\n    </tr>\n    <tr>\n      <th>19445</th>\n      <td>952267001</td>\n      <td>882810001</td>\n      <td>754267058</td>\n      <td>776781001</td>\n    </tr>\n    <tr>\n      <th>19446</th>\n      <td>953450001</td>\n      <td>884345001</td>\n      <td>932383001</td>\n      <td>874704002</td>\n    </tr>\n    <tr>\n      <th>19447</th>\n      <td>953763001</td>\n      <td>885950003</td>\n      <td>907432002</td>\n      <td>909921001</td>\n    </tr>\n    <tr>\n      <th>19448</th>\n      <td>956217002</td>\n      <td>926500001</td>\n      <td>855793005</td>\n      <td>790448001</td>\n    </tr>\n  </tbody>\n</table>\n<p>19449 rows × 4 columns</p>\n</div>"
     },
     "execution_count": 47,
     "metadata": {},
     "output_type": "execute_result"
    }
   ],
   "source": [
    "ss['article_id'] = ss['article_id'].astype(int)\n",
    "ss[['article_id',0,1,2]]"
   ],
   "metadata": {
    "collapsed": false,
    "ExecuteTime": {
     "end_time": "2023-11-22T02:33:13.457839800Z",
     "start_time": "2023-11-22T02:33:13.425505100Z"
    }
   },
   "id": "f0fd9facf059719b"
  },
  {
   "cell_type": "markdown",
   "source": [
    "# Training"
   ],
   "metadata": {
    "collapsed": false
   },
   "id": "59d37fbbe7738d7a"
  },
  {
   "cell_type": "code",
   "execution_count": 30,
   "outputs": [],
   "source": [
    "data = pd.merge(data,ss, on='article_id', how='left')"
   ],
   "metadata": {
    "collapsed": false,
    "ExecuteTime": {
     "end_time": "2023-11-22T02:22:30.254848800Z",
     "start_time": "2023-11-22T02:22:28.468311700Z"
    }
   },
   "id": "3fb60310af5bde27"
  },
  {
   "cell_type": "code",
   "execution_count": 31,
   "outputs": [],
   "source": [
    "data.sort_values(['week', 'customer_id'], inplace=True)\n",
    "data.reset_index(drop=True, inplace=True)"
   ],
   "metadata": {
    "collapsed": false,
    "ExecuteTime": {
     "end_time": "2023-11-22T02:22:33.379622600Z",
     "start_time": "2023-11-22T02:22:30.254848800Z"
    }
   },
   "id": "1560db63"
  },
  {
   "cell_type": "code",
   "execution_count": 32,
   "outputs": [],
   "source": [
    "train = data[data.week != test_week]\n",
    "test = data[data.week==test_week].drop_duplicates(['customer_id', 'article_id', 'sales_channel_id']).copy()"
   ],
   "metadata": {
    "collapsed": false,
    "ExecuteTime": {
     "end_time": "2023-11-22T02:22:35.637130Z",
     "start_time": "2023-11-22T02:22:33.379622600Z"
    }
   },
   "id": "05114189"
  },
  {
   "cell_type": "code",
   "execution_count": 33,
   "outputs": [],
   "source": [
    "train_baskets = train.groupby(['week', 'customer_id'])['article_id'].count().values"
   ],
   "metadata": {
    "collapsed": false,
    "ExecuteTime": {
     "end_time": "2023-11-22T02:22:35.989181100Z",
     "start_time": "2023-11-22T02:22:35.637130Z"
    }
   },
   "id": "d32dfd01"
  },
  {
   "cell_type": "code",
   "execution_count": 34,
   "outputs": [],
   "source": [
    "columns_to_use = ['article_id', 'product_type_no', 'graphical_appearance_no', 'colour_group_code', 'perceived_colour_value_id',\n",
    "'perceived_colour_master_id', 'department_no', 'index_code',\n",
    "'index_group_no', 'section_no', 'garment_group_no',  'age']\n",
    "# columns_to_use.append(0)\n",
    "# columns_to_use.append(1)\n",
    "# columns_to_use.append(2)\n",
    "# columns_to_use.append(3)\n",
    "# columns_to_use.append(4)\n",
    "# columns_to_use.append(5)\n",
    "# columns_to_use.append(6)\n",
    "# columns_to_use.append(7)\n",
    "columns_to_use.append(8)\n",
    "columns_to_use.append(9)\n",
    "columns_to_use.append(10)\n",
    "# columns_to_use.append(11)"
   ],
   "metadata": {
    "collapsed": false,
    "ExecuteTime": {
     "end_time": "2023-11-22T02:22:35.991431200Z",
     "start_time": "2023-11-22T02:22:35.989181100Z"
    }
   },
   "id": "2b027da8"
  },
  {
   "cell_type": "code",
   "execution_count": 35,
   "outputs": [
    {
     "name": "stdout",
     "output_type": "stream",
     "text": [
      "CPU times: total: 156 ms\n",
      "Wall time: 395 ms\n"
     ]
    },
    {
     "data": {
      "text/plain": "          article_id  product_type_no  graphical_appearance_no  \\\n0          887770001              253                  1010016   \n1          762846001              259                  1010016   \n2          829308001              273                  1010016   \n3          760084003              272                  1010016   \n4          866731001              273                  1010016   \n...              ...              ...                      ...   \n11381607   918292001              273                  1010010   \n11381608   762846027              259                  1010016   \n11381609   809238005              252                  1010010   \n11381610   673677002              252                  1010016   \n11381611   923758001               -1                  1010016   \n\n          colour_group_code  perceived_colour_value_id  \\\n0                         9                          4   \n1                        10                          3   \n2                         9                          4   \n3                         9                          4   \n4                         9                          4   \n...                     ...                        ...   \n11381607                  9                          4   \n11381608                 13                          1   \n11381609                  8                          4   \n11381610                  9                          4   \n11381611                 10                          3   \n\n          perceived_colour_master_id  department_no  index_code  \\\n0                                  5           1510           0   \n1                                  9           1515           0   \n2                                  5           8310           9   \n3                                  5           1747           1   \n4                                  5           8310           9   \n...                              ...            ...         ...   \n11381607                           5           8310           9   \n11381608                           1           1515           0   \n11381609                          12           1647           1   \n11381610                           5           1616           0   \n11381611                           9           1522           0   \n\n          index_group_no  section_no  garment_group_no  age          8  \\\n0                      1           6              1010   21  728473002   \n1                      1          11              1010   21  920012002   \n2                     26           5              1005   21  738417001   \n3                      2          53              1009   21  737221011   \n4                     26           5              1005   21  866731002   \n...                  ...         ...               ...  ...        ...   \n11381607              26           5              1005   60  602673015   \n11381608               1          11              1010   60  941005005   \n11381609               2          53              1003   60  854305001   \n11381610               1          11              1003   60  704760008   \n11381611               1          15              1010   60  897952001   \n\n                  9         10  \n0         782901006  825744001  \n1         866482006  909179001  \n2         333323030  857176007  \n3         797451001  760084006  \n4         866731003  915292001  \n...             ...        ...  \n11381607  868823008  856270002  \n11381608  762846031  809883003  \n11381609  736681001  870611003  \n11381610  902806001  875072003  \n11381611  924243002  924243001  \n\n[11381612 rows x 15 columns]",
      "text/html": "<div>\n<style scoped>\n    .dataframe tbody tr th:only-of-type {\n        vertical-align: middle;\n    }\n\n    .dataframe tbody tr th {\n        vertical-align: top;\n    }\n\n    .dataframe thead th {\n        text-align: right;\n    }\n</style>\n<table border=\"1\" class=\"dataframe\">\n  <thead>\n    <tr style=\"text-align: right;\">\n      <th></th>\n      <th>article_id</th>\n      <th>product_type_no</th>\n      <th>graphical_appearance_no</th>\n      <th>colour_group_code</th>\n      <th>perceived_colour_value_id</th>\n      <th>perceived_colour_master_id</th>\n      <th>department_no</th>\n      <th>index_code</th>\n      <th>index_group_no</th>\n      <th>section_no</th>\n      <th>garment_group_no</th>\n      <th>age</th>\n      <th>8</th>\n      <th>9</th>\n      <th>10</th>\n    </tr>\n  </thead>\n  <tbody>\n    <tr>\n      <th>0</th>\n      <td>887770001</td>\n      <td>253</td>\n      <td>1010016</td>\n      <td>9</td>\n      <td>4</td>\n      <td>5</td>\n      <td>1510</td>\n      <td>0</td>\n      <td>1</td>\n      <td>6</td>\n      <td>1010</td>\n      <td>21</td>\n      <td>728473002</td>\n      <td>782901006</td>\n      <td>825744001</td>\n    </tr>\n    <tr>\n      <th>1</th>\n      <td>762846001</td>\n      <td>259</td>\n      <td>1010016</td>\n      <td>10</td>\n      <td>3</td>\n      <td>9</td>\n      <td>1515</td>\n      <td>0</td>\n      <td>1</td>\n      <td>11</td>\n      <td>1010</td>\n      <td>21</td>\n      <td>920012002</td>\n      <td>866482006</td>\n      <td>909179001</td>\n    </tr>\n    <tr>\n      <th>2</th>\n      <td>829308001</td>\n      <td>273</td>\n      <td>1010016</td>\n      <td>9</td>\n      <td>4</td>\n      <td>5</td>\n      <td>8310</td>\n      <td>9</td>\n      <td>26</td>\n      <td>5</td>\n      <td>1005</td>\n      <td>21</td>\n      <td>738417001</td>\n      <td>333323030</td>\n      <td>857176007</td>\n    </tr>\n    <tr>\n      <th>3</th>\n      <td>760084003</td>\n      <td>272</td>\n      <td>1010016</td>\n      <td>9</td>\n      <td>4</td>\n      <td>5</td>\n      <td>1747</td>\n      <td>1</td>\n      <td>2</td>\n      <td>53</td>\n      <td>1009</td>\n      <td>21</td>\n      <td>737221011</td>\n      <td>797451001</td>\n      <td>760084006</td>\n    </tr>\n    <tr>\n      <th>4</th>\n      <td>866731001</td>\n      <td>273</td>\n      <td>1010016</td>\n      <td>9</td>\n      <td>4</td>\n      <td>5</td>\n      <td>8310</td>\n      <td>9</td>\n      <td>26</td>\n      <td>5</td>\n      <td>1005</td>\n      <td>21</td>\n      <td>866731002</td>\n      <td>866731003</td>\n      <td>915292001</td>\n    </tr>\n    <tr>\n      <th>...</th>\n      <td>...</td>\n      <td>...</td>\n      <td>...</td>\n      <td>...</td>\n      <td>...</td>\n      <td>...</td>\n      <td>...</td>\n      <td>...</td>\n      <td>...</td>\n      <td>...</td>\n      <td>...</td>\n      <td>...</td>\n      <td>...</td>\n      <td>...</td>\n      <td>...</td>\n    </tr>\n    <tr>\n      <th>11381607</th>\n      <td>918292001</td>\n      <td>273</td>\n      <td>1010010</td>\n      <td>9</td>\n      <td>4</td>\n      <td>5</td>\n      <td>8310</td>\n      <td>9</td>\n      <td>26</td>\n      <td>5</td>\n      <td>1005</td>\n      <td>60</td>\n      <td>602673015</td>\n      <td>868823008</td>\n      <td>856270002</td>\n    </tr>\n    <tr>\n      <th>11381608</th>\n      <td>762846027</td>\n      <td>259</td>\n      <td>1010016</td>\n      <td>13</td>\n      <td>1</td>\n      <td>1</td>\n      <td>1515</td>\n      <td>0</td>\n      <td>1</td>\n      <td>11</td>\n      <td>1010</td>\n      <td>60</td>\n      <td>941005005</td>\n      <td>762846031</td>\n      <td>809883003</td>\n    </tr>\n    <tr>\n      <th>11381609</th>\n      <td>809238005</td>\n      <td>252</td>\n      <td>1010010</td>\n      <td>8</td>\n      <td>4</td>\n      <td>12</td>\n      <td>1647</td>\n      <td>1</td>\n      <td>2</td>\n      <td>53</td>\n      <td>1003</td>\n      <td>60</td>\n      <td>854305001</td>\n      <td>736681001</td>\n      <td>870611003</td>\n    </tr>\n    <tr>\n      <th>11381610</th>\n      <td>673677002</td>\n      <td>252</td>\n      <td>1010016</td>\n      <td>9</td>\n      <td>4</td>\n      <td>5</td>\n      <td>1616</td>\n      <td>0</td>\n      <td>1</td>\n      <td>11</td>\n      <td>1003</td>\n      <td>60</td>\n      <td>704760008</td>\n      <td>902806001</td>\n      <td>875072003</td>\n    </tr>\n    <tr>\n      <th>11381611</th>\n      <td>923758001</td>\n      <td>-1</td>\n      <td>1010016</td>\n      <td>10</td>\n      <td>3</td>\n      <td>9</td>\n      <td>1522</td>\n      <td>0</td>\n      <td>1</td>\n      <td>15</td>\n      <td>1010</td>\n      <td>60</td>\n      <td>897952001</td>\n      <td>924243002</td>\n      <td>924243001</td>\n    </tr>\n  </tbody>\n</table>\n<p>11381612 rows × 15 columns</p>\n</div>"
     },
     "execution_count": 35,
     "metadata": {},
     "output_type": "execute_result"
    }
   ],
   "source": [
    "%%time\n",
    "train_X = train[columns_to_use]\n",
    "train_y = train['purchased']\n",
    "\n",
    "test_X = test[columns_to_use]\n",
    "\n",
    "train_X = train_X.fillna(0)\n",
    "\n",
    "# train_X[0] = train_X[0].astype(int)\n",
    "# train_X[1] = train_X[1].astype(int)\n",
    "# train_X[2] = train_X[2].astype(int)\n",
    "# train_X[3] = train_X[3].astype(int)\n",
    "# train_X[4] = train_X[4].astype(int)\n",
    "# train_X[5] = train_X[5].astype(int)\n",
    "# train_X[6] = train_X[6].astype(int)\n",
    "# train_X[7] = train_X[7].astype(int)\n",
    "train_X[8] = train_X[8].astype(int)\n",
    "train_X[9] = train_X[9].astype(int)\n",
    "train_X[10] = train_X[10].astype(int)\n",
    "# train_X[11] = train_X[11].astype(int)\n",
    "train_X "
   ],
   "metadata": {
    "collapsed": false,
    "ExecuteTime": {
     "end_time": "2023-11-22T02:22:36.395659500Z",
     "start_time": "2023-11-22T02:22:35.992435900Z"
    }
   },
   "id": "120aecab"
  },
  {
   "cell_type": "markdown",
   "source": [],
   "metadata": {
    "collapsed": false
   },
   "id": "411796f3fc79fe20"
  },
  {
   "cell_type": "markdown",
   "id": "82745ed2",
   "metadata": {
    "papermill": {
     "duration": 0.09573,
     "end_time": "2022-04-16T17:00:26.563647",
     "exception": false,
     "start_time": "2022-04-16T17:00:26.467917",
     "status": "completed"
    },
    "tags": []
   },
   "source": [
    "# Model training"
   ]
  },
  {
   "cell_type": "code",
   "execution_count": 36,
   "id": "cd60dded",
   "metadata": {
    "execution": {
     "iopub.execute_input": "2022-04-16T17:00:28.141811Z",
     "iopub.status.busy": "2022-04-16T17:00:28.141316Z",
     "iopub.status.idle": "2022-04-16T17:00:28.145183Z",
     "shell.execute_reply": "2022-04-16T17:00:28.144409Z"
    },
    "papermill": {
     "duration": 0.101059,
     "end_time": "2022-04-16T17:00:28.147805",
     "exception": false,
     "start_time": "2022-04-16T17:00:28.046746",
     "status": "completed"
    },
    "tags": [],
    "ExecuteTime": {
     "end_time": "2023-11-22T02:22:36.397319300Z",
     "start_time": "2023-11-22T02:22:36.395659500Z"
    }
   },
   "outputs": [],
   "source": [
    "ranker = LGBMRanker(\n",
    "    objective=\"lambdarank\",\n",
    "    metric=\"ndcg\",\n",
    "    boosting_type=\"dart\",\n",
    "    n_estimators=1,\n",
    "    importance_type='gain',\n",
    "    verbose=10\n",
    ")"
   ]
  },
  {
   "cell_type": "code",
   "execution_count": 37,
   "id": "25f040a4",
   "metadata": {
    "execution": {
     "iopub.execute_input": "2022-04-16T17:00:28.325996Z",
     "iopub.status.busy": "2022-04-16T17:00:28.325629Z",
     "iopub.status.idle": "2022-04-16T17:00:39.300037Z",
     "shell.execute_reply": "2022-04-16T17:00:39.299296Z"
    },
    "papermill": {
     "duration": 11.066279,
     "end_time": "2022-04-16T17:00:39.301931",
     "exception": false,
     "start_time": "2022-04-16T17:00:28.235652",
     "status": "completed"
    },
    "tags": [],
    "ExecuteTime": {
     "end_time": "2023-11-22T02:22:38.281408600Z",
     "start_time": "2023-11-22T02:22:36.398323300Z"
    }
   },
   "outputs": [
    {
     "name": "stdout",
     "output_type": "stream",
     "text": [
      "[LightGBM] [Debug] Dataset::GetMultiBinFromAllFeatures: sparse rate 0.081943\n",
      "[LightGBM] [Debug] init for col-wise cost 0.000008 seconds, init for row-wise cost 0.140769 seconds\n",
      "[LightGBM] [Info] Auto-choosing row-wise multi-threading, the overhead of testing was 0.057067 seconds.\n",
      "You can set `force_row_wise=true` to remove the overhead.\n",
      "And if memory is not enough, you can set `force_col_wise=true`.\n",
      "[LightGBM] [Debug] Using Dense Multi-Val Bin\n",
      "[LightGBM] [Info] Total Bins 1561\n",
      "[LightGBM] [Info] Number of data points in the train set: 11381612, number of used features: 15\n",
      "[LightGBM] [Debug] Trained a tree with leaves = 31 and depth = 10\n",
      "CPU times: total: 4.88 s\n",
      "Wall time: 1.88 s\n"
     ]
    }
   ],
   "source": [
    "%%time\n",
    "\n",
    "ranker = ranker.fit(\n",
    "    train_X,\n",
    "    train_y,\n",
    "    group=train_baskets,\n",
    ")"
   ]
  },
  {
   "cell_type": "code",
   "execution_count": 38,
   "id": "4b6b5a94",
   "metadata": {
    "execution": {
     "iopub.execute_input": "2022-04-16T17:00:39.450894Z",
     "iopub.status.busy": "2022-04-16T17:00:39.450610Z",
     "iopub.status.idle": "2022-04-16T17:00:39.464086Z",
     "shell.execute_reply": "2022-04-16T17:00:39.462437Z"
    },
    "papermill": {
     "duration": 0.107527,
     "end_time": "2022-04-16T17:00:39.466759",
     "exception": false,
     "start_time": "2022-04-16T17:00:39.359232",
     "status": "completed"
    },
    "tags": [],
    "ExecuteTime": {
     "end_time": "2023-11-22T02:22:38.284868800Z",
     "start_time": "2023-11-22T02:22:38.282408800Z"
    }
   },
   "outputs": [
    {
     "name": "stdout",
     "output_type": "stream",
     "text": [
      "article_id 0.29416790486237293\n",
      "8 0.18004267422572867\n",
      "10 0.13324521533735556\n",
      "department_no 0.13122791338926112\n",
      "product_type_no 0.09812354671428973\n",
      "section_no 0.05097555297515842\n",
      "9 0.03773201599629019\n",
      "perceived_colour_master_id 0.02625207161275154\n",
      "colour_group_code 0.024686818917617353\n",
      "garment_group_no 0.023546285969174505\n",
      "age 0.0\n",
      "index_group_no 0.0\n",
      "index_code 0.0\n",
      "perceived_colour_value_id 0.0\n",
      "graphical_appearance_no 0.0\n"
     ]
    }
   ],
   "source": [
    "for i in ranker.feature_importances_.argsort()[::-1]:\n",
    "    print(columns_to_use[i], ranker.feature_importances_[i]/ranker.feature_importances_.sum())"
   ]
  },
  {
   "cell_type": "markdown",
   "id": "00faf029",
   "metadata": {
    "papermill": {
     "duration": 0.056904,
     "end_time": "2022-04-16T17:00:39.580889",
     "exception": false,
     "start_time": "2022-04-16T17:00:39.523985",
     "status": "completed"
    },
    "tags": []
   },
   "source": [
    "# Calculate predictions"
   ]
  },
  {
   "cell_type": "code",
   "execution_count": 39,
   "id": "7e862846",
   "metadata": {
    "execution": {
     "iopub.execute_input": "2022-04-16T17:00:39.695315Z",
     "iopub.status.busy": "2022-04-16T17:00:39.694825Z",
     "iopub.status.idle": "2022-04-16T17:00:52.775003Z",
     "shell.execute_reply": "2022-04-16T17:00:52.773289Z"
    },
    "papermill": {
     "duration": 13.140874,
     "end_time": "2022-04-16T17:00:52.777866",
     "exception": false,
     "start_time": "2022-04-16T17:00:39.636992",
     "status": "completed"
    },
    "tags": [],
    "ExecuteTime": {
     "end_time": "2023-11-22T02:22:43.658797600Z",
     "start_time": "2023-11-22T02:22:38.284868800Z"
    }
   },
   "outputs": [
    {
     "name": "stdout",
     "output_type": "stream",
     "text": [
      "CPU times: total: 0 ns\n",
      "Wall time: 0 ns\n"
     ]
    }
   ],
   "source": [
    "%time\n",
    "\n",
    "test['preds'] = ranker.predict(test_X)\n",
    "\n",
    "c_id2predicted_article_ids = test \\\n",
    "    .sort_values(['customer_id', 'preds'], ascending=False) \\\n",
    "    .groupby('customer_id')['article_id'].apply(list).to_dict()\n",
    "\n",
    "bestsellers_last_week = \\\n",
    "    bestsellers_previous_week[bestsellers_previous_week.week == bestsellers_previous_week.week.max()]['article_id'].tolist()"
   ]
  },
  {
   "cell_type": "markdown",
   "id": "de045e98",
   "metadata": {
    "papermill": {
     "duration": 0.07093,
     "end_time": "2022-04-16T17:00:52.913143",
     "exception": false,
     "start_time": "2022-04-16T17:00:52.842213",
     "status": "completed"
    },
    "tags": []
   },
   "source": [
    "# Create submission"
   ]
  },
  {
   "cell_type": "code",
   "execution_count": 40,
   "id": "43e4fda7",
   "metadata": {
    "execution": {
     "iopub.execute_input": "2022-04-16T17:00:53.060085Z",
     "iopub.status.busy": "2022-04-16T17:00:53.058916Z",
     "iopub.status.idle": "2022-04-16T17:00:59.494984Z",
     "shell.execute_reply": "2022-04-16T17:00:59.493579Z"
    },
    "papermill": {
     "duration": 6.515044,
     "end_time": "2022-04-16T17:00:59.497708",
     "exception": false,
     "start_time": "2022-04-16T17:00:52.982664",
     "status": "completed"
    },
    "tags": [],
    "ExecuteTime": {
     "end_time": "2023-11-22T02:22:44.970468200Z",
     "start_time": "2023-11-22T02:22:43.660309100Z"
    }
   },
   "outputs": [],
   "source": [
    "sub = pd.read_csv('../data/sample_submission.csv')"
   ]
  },
  {
   "cell_type": "code",
   "execution_count": 41,
   "id": "a35ac969",
   "metadata": {
    "execution": {
     "iopub.execute_input": "2022-04-16T17:00:59.683014Z",
     "iopub.status.busy": "2022-04-16T17:00:59.682737Z",
     "iopub.status.idle": "2022-04-16T17:01:06.006472Z",
     "shell.execute_reply": "2022-04-16T17:01:06.005532Z"
    },
    "papermill": {
     "duration": 6.421346,
     "end_time": "2022-04-16T17:01:06.009173",
     "exception": false,
     "start_time": "2022-04-16T17:00:59.587827",
     "status": "completed"
    },
    "tags": [],
    "ExecuteTime": {
     "end_time": "2023-11-22T02:22:58.464353500Z",
     "start_time": "2023-11-22T02:22:44.970468200Z"
    }
   },
   "outputs": [
    {
     "name": "stdout",
     "output_type": "stream",
     "text": [
      "CPU times: total: 7.19 s\n",
      "Wall time: 13.5 s\n"
     ]
    }
   ],
   "source": [
    "%%time\n",
    "preds = []\n",
    "for c_id in customer_hex_id_to_int(sub.customer_id):\n",
    "    pred = c_id2predicted_article_ids.get(c_id, [])\n",
    "    pred = pred + bestsellers_last_week\n",
    "    preds.append(pred[:12])\n",
    "preds = [' '.join(['0' + str(p) for p in ps]) for ps in preds]\n",
    "sub.prediction = preds\n",
    "sub_name = 'rq10_1000-notebook2'\n",
    "sub.to_csv(f'./output/{sub_name}.csv.gz', index=False)"
   ]
  }
 ],
 "metadata": {
  "kernelspec": {
   "display_name": "Python 3",
   "language": "python",
   "name": "python3"
  },
  "language_info": {
   "codemirror_mode": {
    "name": "ipython",
    "version": 3
   },
   "file_extension": ".py",
   "mimetype": "text/x-python",
   "name": "python",
   "nbconvert_exporter": "python",
   "pygments_lexer": "ipython3",
   "version": "3.7.12"
  },
  "papermill": {
   "default_parameters": {},
   "duration": 185.112876,
   "end_time": "2022-04-16T17:01:37.553573",
   "environment_variables": {},
   "exception": null,
   "input_path": "__notebook__.ipynb",
   "output_path": "__notebook__.ipynb",
   "parameters": {},
   "start_time": "2022-04-16T16:58:32.440697",
   "version": "2.3.4"
  }
 },
 "nbformat": 4,
 "nbformat_minor": 5
}
