{
 "cells": [
  {
   "cell_type": "code",
   "execution_count": 1,
   "id": "initial_id",
   "metadata": {
    "collapsed": true,
    "ExecuteTime": {
     "end_time": "2023-12-27T19:13:35.484769400Z",
     "start_time": "2023-12-27T19:13:34.590697200Z"
    }
   },
   "outputs": [],
   "source": [
    "from Question1 import *\n",
    "import numpy as np\n",
    "import pandas as pd\n",
    "from sklearn.metrics.pairwise import cosine_similarity\n",
    "from lightgbm.sklearn import LGBMRanker\n",
    "from scipy.sparse import csr_matrix"
   ]
  },
  {
   "cell_type": "code",
   "execution_count": 2,
   "outputs": [],
   "source": [
    "BASE_PATH = '../Data/'\n",
    "transactions = pd.read_parquet(BASE_PATH + 'transactions_train.parquet')\n",
    "customers = pd.read_parquet(BASE_PATH + 'customers.parquet')\n",
    "articles = pd.read_parquet(BASE_PATH + 'articles.parquet')\n",
    "sample_submission = pd.read_csv(BASE_PATH + 'sample_submission.csv')"
   ],
   "metadata": {
    "collapsed": false,
    "ExecuteTime": {
     "end_time": "2023-12-27T19:13:37.375864100Z",
     "start_time": "2023-12-27T19:13:35.485769400Z"
    }
   },
   "id": "cf343fc889ff26a5"
  },
  {
   "cell_type": "code",
   "execution_count": 3,
   "outputs": [],
   "source": [
    "# Candidate generation of Radek notebook\n",
    "def get_data(data, test_week):\n",
    "    ### repurchase\n",
    "    # each week is seen as a basket\n",
    "    # the items bought in one basket, will be example for the next basket\n",
    "    # the items bought in the last basket, will be candidates for the test basket\n",
    "    candidates_last_purchase = data.copy()\n",
    "    c2weeks = data.groupby('customer_id')['week'].unique()\n",
    "    \n",
    "    c2weeks2shifted_weeks = {}\n",
    "    for c_id, weeks in c2weeks.items():\n",
    "        shifted_weeks = weeks[1:].tolist() + [test_week]\n",
    "        c2weeks2shifted_weeks[c_id] = dict(zip(weeks, shifted_weeks))\n",
    "\n",
    "    candidates_last_purchase['week'] = [\n",
    "        c2weeks2shifted_weeks[c_id][week]\n",
    "        for c_id, week in zip(data['customer_id'], data['week'])\n",
    "    ]\n",
    "\n",
    "    ### bestseller\n",
    "    # if a user bought an item in a given week, the 12 most popular items in the previous week are example for that week\n",
    "    # the best selling items in the last week are candidates for all users\n",
    "    mean_price = data \\\n",
    "        .groupby(['week', 'article_id'])['price'].mean()\n",
    "    sales = data \\\n",
    "        .groupby('week')['article_id'].value_counts() \\\n",
    "        .groupby('week').rank(method='dense', ascending=False) \\\n",
    "        .groupby('week').head(12).rename('bestseller_rank').astype('int8')\n",
    "    bestsellers_previous_week = pd.merge(sales, mean_price, on=['week', 'article_id']).reset_index()\n",
    "    bestsellers_previous_week.week += 1\n",
    "    unique_transactions = data \\\n",
    "        .groupby(['week', 'customer_id']) \\\n",
    "        .head(1) \\\n",
    "        .drop(columns=['article_id', 'price']) \\\n",
    "        .copy()\n",
    "    candidates_bestsellers = pd.merge(\n",
    "        unique_transactions,\n",
    "        bestsellers_previous_week,\n",
    "        on='week',\n",
    "    )\n",
    "    test_set_transactions = unique_transactions.drop_duplicates('customer_id').reset_index(drop=True)\n",
    "    test_set_transactions.week = test_week\n",
    "    candidates_bestsellers_test_week = pd.merge(\n",
    "        test_set_transactions,\n",
    "        bestsellers_previous_week,\n",
    "        on='week'\n",
    "    )\n",
    "    candidates_bestsellers = pd.concat([candidates_bestsellers, candidates_bestsellers_test_week])\n",
    "    candidates_bestsellers.drop(columns='bestseller_rank', inplace=True)\n",
    "\n",
    "    ### combine\n",
    "    d = data.copy()\n",
    "    d['purchased'] = True\n",
    "    \n",
    "    result = pd.concat([\n",
    "        d, candidates_last_purchase, candidates_bestsellers\n",
    "    ])\n",
    "    result.purchased.fillna(False, inplace=True)\n",
    "    result.drop_duplicates(['customer_id', 'article_id', 'week'], inplace=True)\n",
    "\n",
    "    result = pd.merge(\n",
    "        result,\n",
    "        bestsellers_previous_week[['week', 'article_id', 'bestseller_rank']],\n",
    "        on=['week', 'article_id'],\n",
    "        how='left'\n",
    "    )\n",
    "    result = result[result.week != result.week.min()]\n",
    "    result.bestseller_rank.fillna(999, inplace=True)\n",
    "\n",
    "    result.sort_values(['week', 'customer_id'], inplace=True)\n",
    "    result.reset_index(drop=True, inplace=True)\n",
    "    return result\n",
    "\n",
    "def get_examples(data, test_week):\n",
    "    data = get_data(data, test_week)\n",
    "    return data[data.week != test_week]\n",
    "\n",
    "def get_candidates(data, test_week):\n",
    "    data = get_data(data, test_week)\n",
    "    return data[data.week == test_week]\n",
    "\n",
    "def add_features(data, columns_to_use = None):\n",
    "    if not columns_to_use:\n",
    "        columns_to_use = ['article_id', 'product_type_no', 'graphical_appearance_no', 'colour_group_code', 'perceived_colour_value_id','perceived_colour_master_id', 'department_no', 'index_code','index_group_no', 'section_no', 'garment_group_no','score','price'\n",
    "        ]\n",
    "\n",
    "    result = data\n",
    "    result = pd.merge(result, customers, how='left', on='customer_id')\n",
    "    result = pd.merge(result, articles, how='left', on='article_id')\n",
    "\n",
    "    result['score'] = result.apply(get_score,axis=1).fillna(0)\n",
    "    \n",
    "    return result[columns_to_use]\n",
    "\n",
    "def get_score(entry):\n",
    "    \"\"\"Method that returns the user-item score given a dataframe row containing columns [customer_id,article_id]\"\"\"\n",
    "    try:\n",
    "        return ui_score.loc[entry['customer_id'], entry['article_id']]\n",
    "    except KeyError:\n",
    "        return None\n",
    "\n",
    "def recall(predictions, purchases, k=12):\n",
    "    def calculate_recall(row):\n",
    "        intersect_count = len(set(row['prediction'][:k]).intersection(row['purchases']))\n",
    "        return intersect_count / min(len(row['purchases']), k) if len(row['purchases']) > 0 else 0\n",
    "\n",
    "    result = pd.merge(purchases, predictions, on=\"customer_id\", how=\"inner\")\n",
    "    result['recall'] = result.apply(calculate_recall, axis=1)\n",
    "\n",
    "    return result['recall'].mean()"
   ],
   "metadata": {
    "collapsed": false,
    "ExecuteTime": {
     "end_time": "2023-12-27T19:13:37.385763400Z",
     "start_time": "2023-12-27T19:13:37.383382400Z"
    }
   },
   "id": "67c3982febc4212a"
  },
  {
   "cell_type": "code",
   "execution_count": 4,
   "outputs": [],
   "source": [
    "def get_sim(recmodel,purchase_sparse):\n",
    "    \"\"\"Method to get the dot product of an item similarity matrix with the articles frequency of every user\"\"\"\n",
    "    s2 = cosine_similarity(recmodel.articles_latent_matrix, recmodel.articles_latent_matrix)\n",
    "    return purchase_sparse.dot(s2)\n",
    "\n",
    "def apply_filter(scores, filter_matrix):\n",
    "    \"\"\"Method to apply the filter that prunes already purchased articles for every user. It's done in chunks to be less RAM heavy\"\"\"\n",
    "    chunk_size = 10000\n",
    "    num_rows, num_cols = scores.shape\n",
    "    result = np.zeros((num_rows, num_cols))\n",
    "    \n",
    "    for i in range(0, num_rows, chunk_size):\n",
    "        chunk_end = min(i + chunk_size, num_rows)\n",
    "        ui_chunk = scores.iloc[i:chunk_end].values\n",
    "        filter_chunk = filter_matrix[i:chunk_end]\n",
    "        result[i:chunk_end] = np.multiply(ui_chunk, filter_chunk)\n",
    "    \n",
    "    return pd.DataFrame(result, index=scores.index, columns=scores.columns)\n",
    "\n",
    "\n",
    "def get_useritem_data(recmodel):\n",
    "    \"\"\"Method that returns the user-item interaction matrix with scores\"\"\"\n",
    "    itemcf_transactions['article_id'] = itemcf_transactions['article_id'].astype(int)\n",
    "    purchase_counts = itemcf_transactions.groupby(['customer_id', 'article_id']).size().rename('count').reset_index().sort_values('article_id') # article frequency matrix \n",
    "    \n",
    "    user_to_index = {user_id: index for index, user_id in enumerate(purchase_counts['customer_id'].unique())}\n",
    "    article_to_index = {article_id: index for index, article_id in enumerate(purchase_counts['article_id'].unique())}\n",
    "    \n",
    "    row_indices = purchase_counts['customer_id'].map(user_to_index).values\n",
    "    col_indices = purchase_counts['article_id'].map(article_to_index).values\n",
    "    spdata = purchase_counts['count'].values\n",
    "    \n",
    "    # sparse matrix to preserve RAM\n",
    "    purchase_counts_sparse = csr_matrix((spdata, (row_indices, col_indices)), shape=(len(user_to_index), len(article_to_index)), dtype=int)\n",
    "    \n",
    "    # dataframe of the user-item matrix\n",
    "    result = pd.DataFrame(get_sim(recmodel,purchase_counts_sparse), index=user_to_index.keys(), columns=article_to_index.keys())\n",
    "    \n",
    "    # create a matrix containing 1's for items not bought by the user and 0 for item's that were already purchased\n",
    "    purchase_counts_sparse = csr_matrix((np.ones_like(spdata), (row_indices, col_indices)), shape=(len(user_to_index), len(article_to_index)), dtype=int).toarray()\n",
    "    filter_matrix = 1 - purchase_counts_sparse\n",
    "    del purchase_counts\n",
    "    \n",
    "    return apply_filter(result,filter_matrix)"
   ],
   "metadata": {
    "collapsed": false,
    "ExecuteTime": {
     "end_time": "2023-12-27T19:13:37.394758Z",
     "start_time": "2023-12-27T19:13:37.387762800Z"
    }
   },
   "id": "3513f7ed26cd5023"
  },
  {
   "cell_type": "code",
   "execution_count": 5,
   "outputs": [],
   "source": [
    "### split into training and testing\n",
    "# one week is used for testing\n",
    "# a number of weeks leading up to the test week are used to train the ranker\n",
    "test_week = 104\n",
    "num_training_weeks = 10\n",
    "testing_weeks = np.arange(test_week-num_training_weeks, test_week)\n",
    "train_data = transactions[transactions.week.isin(testing_weeks)].reset_index(drop=True)"
   ],
   "metadata": {
    "collapsed": false,
    "ExecuteTime": {
     "end_time": "2023-12-27T19:13:37.489514500Z",
     "start_time": "2023-12-27T19:13:37.391758500Z"
    }
   },
   "id": "736503860d62eb20"
  },
  {
   "cell_type": "markdown",
   "source": [
    "## CF preprocessing\n",
    "We take only the articles bought more than 10 times in the training weeks"
   ],
   "metadata": {
    "collapsed": false
   },
   "id": "1fee8963ffe642c9"
  },
  {
   "cell_type": "code",
   "execution_count": 6,
   "outputs": [
    {
     "data": {
      "text/plain": "             t_dat           customer_id  article_id  purchased\n0       2020-07-08       857913002275398   599580068          1\n1       2020-07-08       857913002275398   776237011          1\n2       2020-07-08       857913002275398   844294001          1\n3       2020-07-08      1658289241058394   877773001          1\n4       2020-07-08      3828854365940846   507883009          1\n...            ...                   ...         ...        ...\n2809228 2020-09-15  18446630855572834764   568601045          1\n2809229 2020-09-15  18446630855572834764   568601045          1\n2809230 2020-09-15  18446630855572834764   898713001          1\n2809231 2020-09-15  18446630855572834764   898713001          1\n2809232 2020-09-15  18446630855572834764   886966002          1\n\n[2745309 rows x 4 columns]",
      "text/html": "<div>\n<style scoped>\n    .dataframe tbody tr th:only-of-type {\n        vertical-align: middle;\n    }\n\n    .dataframe tbody tr th {\n        vertical-align: top;\n    }\n\n    .dataframe thead th {\n        text-align: right;\n    }\n</style>\n<table border=\"1\" class=\"dataframe\">\n  <thead>\n    <tr style=\"text-align: right;\">\n      <th></th>\n      <th>t_dat</th>\n      <th>customer_id</th>\n      <th>article_id</th>\n      <th>purchased</th>\n    </tr>\n  </thead>\n  <tbody>\n    <tr>\n      <th>0</th>\n      <td>2020-07-08</td>\n      <td>857913002275398</td>\n      <td>599580068</td>\n      <td>1</td>\n    </tr>\n    <tr>\n      <th>1</th>\n      <td>2020-07-08</td>\n      <td>857913002275398</td>\n      <td>776237011</td>\n      <td>1</td>\n    </tr>\n    <tr>\n      <th>2</th>\n      <td>2020-07-08</td>\n      <td>857913002275398</td>\n      <td>844294001</td>\n      <td>1</td>\n    </tr>\n    <tr>\n      <th>3</th>\n      <td>2020-07-08</td>\n      <td>1658289241058394</td>\n      <td>877773001</td>\n      <td>1</td>\n    </tr>\n    <tr>\n      <th>4</th>\n      <td>2020-07-08</td>\n      <td>3828854365940846</td>\n      <td>507883009</td>\n      <td>1</td>\n    </tr>\n    <tr>\n      <th>...</th>\n      <td>...</td>\n      <td>...</td>\n      <td>...</td>\n      <td>...</td>\n    </tr>\n    <tr>\n      <th>2809228</th>\n      <td>2020-09-15</td>\n      <td>18446630855572834764</td>\n      <td>568601045</td>\n      <td>1</td>\n    </tr>\n    <tr>\n      <th>2809229</th>\n      <td>2020-09-15</td>\n      <td>18446630855572834764</td>\n      <td>568601045</td>\n      <td>1</td>\n    </tr>\n    <tr>\n      <th>2809230</th>\n      <td>2020-09-15</td>\n      <td>18446630855572834764</td>\n      <td>898713001</td>\n      <td>1</td>\n    </tr>\n    <tr>\n      <th>2809231</th>\n      <td>2020-09-15</td>\n      <td>18446630855572834764</td>\n      <td>898713001</td>\n      <td>1</td>\n    </tr>\n    <tr>\n      <th>2809232</th>\n      <td>2020-09-15</td>\n      <td>18446630855572834764</td>\n      <td>886966002</td>\n      <td>1</td>\n    </tr>\n  </tbody>\n</table>\n<p>2745309 rows × 4 columns</p>\n</div>"
     },
     "execution_count": 6,
     "metadata": {},
     "output_type": "execute_result"
    }
   ],
   "source": [
    "itemcf_transactions = train_data.copy().drop(['sales_channel_id', 'price', 'week'], axis=1)\n",
    "most_bought_articles = itemcf_transactions['article_id'].value_counts()[lambda x: x > 10].index\n",
    "itemcf_transactions = itemcf_transactions[itemcf_transactions['article_id'].isin(most_bought_articles)]\n",
    "itemcf_transactions['purchased'] = 1\n",
    "itemcf_transactions"
   ],
   "metadata": {
    "collapsed": false,
    "ExecuteTime": {
     "end_time": "2023-12-27T19:13:37.604969Z",
     "start_time": "2023-12-27T19:13:37.490514800Z"
    }
   },
   "id": "263b3eb4529214dd"
  },
  {
   "cell_type": "markdown",
   "source": [
    "### Generate negative candidates"
   ],
   "metadata": {
    "collapsed": false
   },
   "id": "49a9387d5cc61c44"
  },
  {
   "cell_type": "code",
   "execution_count": 7,
   "outputs": [
    {
     "data": {
      "text/plain": "         article_id           customer_id  purchased\n0         736114004  18086686802776796719        0.0\n1         740927007   4461276169114434759        0.0\n2         887374002  10835517453566354608        0.0\n3         890855004  15020323395942642257        0.0\n4         756320023  14717588240017532030        0.0\n...             ...                   ...        ...\n2745304   916823001   6885894605806142682        0.0\n2745305   846334002  13792438975120382134        0.0\n2745306   407354004   6721478277661818867        0.0\n2745307   750422023  10836663088955469328        0.0\n2745308   684021082   6749519005981727308        0.0\n\n[2745309 rows x 3 columns]",
      "text/html": "<div>\n<style scoped>\n    .dataframe tbody tr th:only-of-type {\n        vertical-align: middle;\n    }\n\n    .dataframe tbody tr th {\n        vertical-align: top;\n    }\n\n    .dataframe thead th {\n        text-align: right;\n    }\n</style>\n<table border=\"1\" class=\"dataframe\">\n  <thead>\n    <tr style=\"text-align: right;\">\n      <th></th>\n      <th>article_id</th>\n      <th>customer_id</th>\n      <th>purchased</th>\n    </tr>\n  </thead>\n  <tbody>\n    <tr>\n      <th>0</th>\n      <td>736114004</td>\n      <td>18086686802776796719</td>\n      <td>0.0</td>\n    </tr>\n    <tr>\n      <th>1</th>\n      <td>740927007</td>\n      <td>4461276169114434759</td>\n      <td>0.0</td>\n    </tr>\n    <tr>\n      <th>2</th>\n      <td>887374002</td>\n      <td>10835517453566354608</td>\n      <td>0.0</td>\n    </tr>\n    <tr>\n      <th>3</th>\n      <td>890855004</td>\n      <td>15020323395942642257</td>\n      <td>0.0</td>\n    </tr>\n    <tr>\n      <th>4</th>\n      <td>756320023</td>\n      <td>14717588240017532030</td>\n      <td>0.0</td>\n    </tr>\n    <tr>\n      <th>...</th>\n      <td>...</td>\n      <td>...</td>\n      <td>...</td>\n    </tr>\n    <tr>\n      <th>2745304</th>\n      <td>916823001</td>\n      <td>6885894605806142682</td>\n      <td>0.0</td>\n    </tr>\n    <tr>\n      <th>2745305</th>\n      <td>846334002</td>\n      <td>13792438975120382134</td>\n      <td>0.0</td>\n    </tr>\n    <tr>\n      <th>2745306</th>\n      <td>407354004</td>\n      <td>6721478277661818867</td>\n      <td>0.0</td>\n    </tr>\n    <tr>\n      <th>2745307</th>\n      <td>750422023</td>\n      <td>10836663088955469328</td>\n      <td>0.0</td>\n    </tr>\n    <tr>\n      <th>2745308</th>\n      <td>684021082</td>\n      <td>6749519005981727308</td>\n      <td>0.0</td>\n    </tr>\n  </tbody>\n</table>\n<p>2745309 rows × 3 columns</p>\n</div>"
     },
     "execution_count": 7,
     "metadata": {},
     "output_type": "execute_result"
    }
   ],
   "source": [
    "np.random.seed(42)\n",
    "negative_samples = pd.DataFrame({\n",
    "    'article_id': np.random.choice(itemcf_transactions.article_id.unique(), itemcf_transactions.shape[0]),\n",
    "    'customer_id': np.random.choice(itemcf_transactions.customer_id.unique(), itemcf_transactions.shape[0]),\n",
    "    'purchased': np.zeros(itemcf_transactions.shape[0])\n",
    "})\n",
    "negative_samples"
   ],
   "metadata": {
    "collapsed": false,
    "ExecuteTime": {
     "end_time": "2023-12-27T19:13:37.722174200Z",
     "start_time": "2023-12-27T19:13:37.604969Z"
    }
   },
   "id": "455bf7d29343b5c"
  },
  {
   "cell_type": "markdown",
   "source": [
    "### Train CF model using SGD algorithm"
   ],
   "metadata": {
    "collapsed": false
   },
   "id": "42004c65bb7d80ff"
  },
  {
   "cell_type": "code",
   "execution_count": 8,
   "outputs": [
    {
     "name": "stdout",
     "output_type": "stream",
     "text": [
      "Epoch: 0\n"
     ]
    },
    {
     "name": "stderr",
     "output_type": "stream",
     "text": [
      "100%|██████████| 5490618/5490618 [01:09<00:00, 79241.12it/s]\n"
     ]
    },
    {
     "name": "stdout",
     "output_type": "stream",
     "text": [
      "Epoch: 1\n"
     ]
    },
    {
     "name": "stderr",
     "output_type": "stream",
     "text": [
      "100%|██████████| 5490618/5490618 [01:10<00:00, 78101.27it/s]\n"
     ]
    },
    {
     "name": "stdout",
     "output_type": "stream",
     "text": [
      "Epoch: 2\n"
     ]
    },
    {
     "name": "stderr",
     "output_type": "stream",
     "text": [
      "100%|██████████| 5490618/5490618 [01:10<00:00, 78412.97it/s]\n"
     ]
    },
    {
     "name": "stdout",
     "output_type": "stream",
     "text": [
      "Epoch: 3\n"
     ]
    },
    {
     "name": "stderr",
     "output_type": "stream",
     "text": [
      "100%|██████████| 5490618/5490618 [01:10<00:00, 77918.81it/s]\n"
     ]
    },
    {
     "name": "stdout",
     "output_type": "stream",
     "text": [
      "Epoch: 4\n"
     ]
    },
    {
     "name": "stderr",
     "output_type": "stream",
     "text": [
      "100%|██████████| 5490618/5490618 [01:10<00:00, 78202.19it/s]\n"
     ]
    },
    {
     "name": "stdout",
     "output_type": "stream",
     "text": [
      "Epoch: 5\n"
     ]
    },
    {
     "name": "stderr",
     "output_type": "stream",
     "text": [
      "100%|██████████| 5490618/5490618 [01:10<00:00, 77951.69it/s]\n"
     ]
    },
    {
     "name": "stdout",
     "output_type": "stream",
     "text": [
      "Epoch: 6\n"
     ]
    },
    {
     "name": "stderr",
     "output_type": "stream",
     "text": [
      "100%|██████████| 5490618/5490618 [01:10<00:00, 78105.71it/s]\n"
     ]
    },
    {
     "name": "stdout",
     "output_type": "stream",
     "text": [
      "Epoch: 7\n"
     ]
    },
    {
     "name": "stderr",
     "output_type": "stream",
     "text": [
      "100%|██████████| 5490618/5490618 [01:10<00:00, 77955.39it/s]\n"
     ]
    },
    {
     "name": "stdout",
     "output_type": "stream",
     "text": [
      "Epoch: 8\n"
     ]
    },
    {
     "name": "stderr",
     "output_type": "stream",
     "text": [
      "100%|██████████| 5490618/5490618 [01:10<00:00, 77762.51it/s]\n"
     ]
    },
    {
     "name": "stdout",
     "output_type": "stream",
     "text": [
      "Epoch: 9\n"
     ]
    },
    {
     "name": "stderr",
     "output_type": "stream",
     "text": [
      "100%|██████████| 5490618/5490618 [01:10<00:00, 77818.25it/s]\n"
     ]
    },
    {
     "name": "stdout",
     "output_type": "stream",
     "text": [
      "Epoch: 10\n"
     ]
    },
    {
     "name": "stderr",
     "output_type": "stream",
     "text": [
      "100%|██████████| 5490618/5490618 [01:10<00:00, 77657.82it/s]\n"
     ]
    },
    {
     "name": "stdout",
     "output_type": "stream",
     "text": [
      "Epoch: 11\n"
     ]
    },
    {
     "name": "stderr",
     "output_type": "stream",
     "text": [
      "100%|██████████| 5490618/5490618 [01:10<00:00, 77887.99it/s]\n"
     ]
    },
    {
     "name": "stdout",
     "output_type": "stream",
     "text": [
      "Epoch: 12\n"
     ]
    },
    {
     "name": "stderr",
     "output_type": "stream",
     "text": [
      "100%|██████████| 5490618/5490618 [01:10<00:00, 77592.63it/s]\n"
     ]
    },
    {
     "name": "stdout",
     "output_type": "stream",
     "text": [
      "Epoch: 13\n"
     ]
    },
    {
     "name": "stderr",
     "output_type": "stream",
     "text": [
      "100%|██████████| 5490618/5490618 [01:10<00:00, 77786.33it/s]\n"
     ]
    },
    {
     "name": "stdout",
     "output_type": "stream",
     "text": [
      "Epoch: 14\n"
     ]
    },
    {
     "name": "stderr",
     "output_type": "stream",
     "text": [
      "100%|██████████| 5490618/5490618 [01:10<00:00, 77632.74it/s]\n"
     ]
    },
    {
     "name": "stdout",
     "output_type": "stream",
     "text": [
      "Epoch: 15\n"
     ]
    },
    {
     "name": "stderr",
     "output_type": "stream",
     "text": [
      "100%|██████████| 5490618/5490618 [01:10<00:00, 77775.97it/s]\n"
     ]
    },
    {
     "name": "stdout",
     "output_type": "stream",
     "text": [
      "Epoch: 16\n"
     ]
    },
    {
     "name": "stderr",
     "output_type": "stream",
     "text": [
      "100%|██████████| 5490618/5490618 [01:10<00:00, 77629.11it/s]\n"
     ]
    },
    {
     "name": "stdout",
     "output_type": "stream",
     "text": [
      "Epoch: 17\n"
     ]
    },
    {
     "name": "stderr",
     "output_type": "stream",
     "text": [
      "100%|██████████| 5490618/5490618 [01:10<00:00, 77754.02it/s]\n"
     ]
    },
    {
     "name": "stdout",
     "output_type": "stream",
     "text": [
      "Epoch: 18\n"
     ]
    },
    {
     "name": "stderr",
     "output_type": "stream",
     "text": [
      "100%|██████████| 5490618/5490618 [01:11<00:00, 77312.08it/s]\n"
     ]
    },
    {
     "name": "stdout",
     "output_type": "stream",
     "text": [
      "Epoch: 19\n"
     ]
    },
    {
     "name": "stderr",
     "output_type": "stream",
     "text": [
      "100%|██████████| 5490618/5490618 [01:11<00:00, 76456.78it/s]\n"
     ]
    },
    {
     "name": "stdout",
     "output_type": "stream",
     "text": [
      "Epoch: 20\n"
     ]
    },
    {
     "name": "stderr",
     "output_type": "stream",
     "text": [
      "100%|██████████| 5490618/5490618 [01:10<00:00, 77501.35it/s]\n"
     ]
    },
    {
     "name": "stdout",
     "output_type": "stream",
     "text": [
      "Epoch: 21\n"
     ]
    },
    {
     "name": "stderr",
     "output_type": "stream",
     "text": [
      "100%|██████████| 5490618/5490618 [01:11<00:00, 76533.16it/s]\n"
     ]
    },
    {
     "name": "stdout",
     "output_type": "stream",
     "text": [
      "Epoch: 22\n"
     ]
    },
    {
     "name": "stderr",
     "output_type": "stream",
     "text": [
      "100%|██████████| 5490618/5490618 [01:11<00:00, 76514.98it/s]\n"
     ]
    },
    {
     "name": "stdout",
     "output_type": "stream",
     "text": [
      "Epoch: 23\n"
     ]
    },
    {
     "name": "stderr",
     "output_type": "stream",
     "text": [
      "100%|██████████| 5490618/5490618 [01:12<00:00, 76130.30it/s]\n"
     ]
    },
    {
     "name": "stdout",
     "output_type": "stream",
     "text": [
      "Epoch: 24\n"
     ]
    },
    {
     "name": "stderr",
     "output_type": "stream",
     "text": [
      "100%|██████████| 5490618/5490618 [01:12<00:00, 76230.87it/s]\n"
     ]
    },
    {
     "name": "stdout",
     "output_type": "stream",
     "text": [
      "Epoch: 25\n"
     ]
    },
    {
     "name": "stderr",
     "output_type": "stream",
     "text": [
      "100%|██████████| 5490618/5490618 [01:11<00:00, 76397.60it/s]\n"
     ]
    },
    {
     "name": "stdout",
     "output_type": "stream",
     "text": [
      "Epoch: 26\n"
     ]
    },
    {
     "name": "stderr",
     "output_type": "stream",
     "text": [
      "100%|██████████| 5490618/5490618 [01:12<00:00, 75987.64it/s]\n"
     ]
    },
    {
     "name": "stdout",
     "output_type": "stream",
     "text": [
      "Epoch: 27\n"
     ]
    },
    {
     "name": "stderr",
     "output_type": "stream",
     "text": [
      "100%|██████████| 5490618/5490618 [01:12<00:00, 76058.42it/s]\n"
     ]
    },
    {
     "name": "stdout",
     "output_type": "stream",
     "text": [
      "Epoch: 28\n"
     ]
    },
    {
     "name": "stderr",
     "output_type": "stream",
     "text": [
      "100%|██████████| 5490618/5490618 [01:11<00:00, 76313.99it/s]\n"
     ]
    },
    {
     "name": "stdout",
     "output_type": "stream",
     "text": [
      "Epoch: 29\n"
     ]
    },
    {
     "name": "stderr",
     "output_type": "stream",
     "text": [
      "100%|██████████| 5490618/5490618 [01:12<00:00, 75897.35it/s]\n"
     ]
    },
    {
     "name": "stdout",
     "output_type": "stream",
     "text": [
      "Epoch: 30\n"
     ]
    },
    {
     "name": "stderr",
     "output_type": "stream",
     "text": [
      "100%|██████████| 5490618/5490618 [01:12<00:00, 75908.46it/s]\n"
     ]
    },
    {
     "name": "stdout",
     "output_type": "stream",
     "text": [
      "Epoch: 31\n"
     ]
    },
    {
     "name": "stderr",
     "output_type": "stream",
     "text": [
      "100%|██████████| 5490618/5490618 [01:11<00:00, 76423.05it/s]\n"
     ]
    },
    {
     "name": "stdout",
     "output_type": "stream",
     "text": [
      "Epoch: 32\n"
     ]
    },
    {
     "name": "stderr",
     "output_type": "stream",
     "text": [
      "100%|██████████| 5490618/5490618 [01:11<00:00, 76375.32it/s]\n"
     ]
    },
    {
     "name": "stdout",
     "output_type": "stream",
     "text": [
      "Epoch: 33\n"
     ]
    },
    {
     "name": "stderr",
     "output_type": "stream",
     "text": [
      "100%|██████████| 5490618/5490618 [01:12<00:00, 75960.12it/s]\n"
     ]
    },
    {
     "name": "stdout",
     "output_type": "stream",
     "text": [
      "Epoch: 34\n"
     ]
    },
    {
     "name": "stderr",
     "output_type": "stream",
     "text": [
      "100%|██████████| 5490618/5490618 [01:12<00:00, 75419.44it/s]\n"
     ]
    },
    {
     "name": "stdout",
     "output_type": "stream",
     "text": [
      "Epoch: 35\n"
     ]
    },
    {
     "name": "stderr",
     "output_type": "stream",
     "text": [
      "100%|██████████| 5490618/5490618 [01:12<00:00, 76013.02it/s]\n"
     ]
    },
    {
     "name": "stdout",
     "output_type": "stream",
     "text": [
      "Epoch: 36\n"
     ]
    },
    {
     "name": "stderr",
     "output_type": "stream",
     "text": [
      "100%|██████████| 5490618/5490618 [01:12<00:00, 75900.26it/s]\n"
     ]
    },
    {
     "name": "stdout",
     "output_type": "stream",
     "text": [
      "Epoch: 37\n"
     ]
    },
    {
     "name": "stderr",
     "output_type": "stream",
     "text": [
      "100%|██████████| 5490618/5490618 [01:12<00:00, 75904.24it/s]\n"
     ]
    },
    {
     "name": "stdout",
     "output_type": "stream",
     "text": [
      "Epoch: 38\n"
     ]
    },
    {
     "name": "stderr",
     "output_type": "stream",
     "text": [
      "100%|██████████| 5490618/5490618 [01:12<00:00, 76018.02it/s]\n"
     ]
    },
    {
     "name": "stdout",
     "output_type": "stream",
     "text": [
      "Epoch: 39\n"
     ]
    },
    {
     "name": "stderr",
     "output_type": "stream",
     "text": [
      "100%|██████████| 5490618/5490618 [01:12<00:00, 75564.72it/s]\n"
     ]
    },
    {
     "name": "stdout",
     "output_type": "stream",
     "text": [
      "Epoch: 40\n"
     ]
    },
    {
     "name": "stderr",
     "output_type": "stream",
     "text": [
      "100%|██████████| 5490618/5490618 [01:11<00:00, 76341.49it/s]\n"
     ]
    },
    {
     "name": "stdout",
     "output_type": "stream",
     "text": [
      "Epoch: 41\n"
     ]
    },
    {
     "name": "stderr",
     "output_type": "stream",
     "text": [
      "100%|██████████| 5490618/5490618 [01:11<00:00, 76543.77it/s]\n"
     ]
    },
    {
     "name": "stdout",
     "output_type": "stream",
     "text": [
      "Epoch: 42\n"
     ]
    },
    {
     "name": "stderr",
     "output_type": "stream",
     "text": [
      "100%|██████████| 5490618/5490618 [01:11<00:00, 77021.51it/s]\n"
     ]
    },
    {
     "name": "stdout",
     "output_type": "stream",
     "text": [
      "Epoch: 43\n"
     ]
    },
    {
     "name": "stderr",
     "output_type": "stream",
     "text": [
      "100%|██████████| 5490618/5490618 [01:11<00:00, 76960.41it/s]\n"
     ]
    },
    {
     "name": "stdout",
     "output_type": "stream",
     "text": [
      "Epoch: 44\n"
     ]
    },
    {
     "name": "stderr",
     "output_type": "stream",
     "text": [
      "100%|██████████| 5490618/5490618 [01:10<00:00, 77387.22it/s]\n"
     ]
    },
    {
     "name": "stdout",
     "output_type": "stream",
     "text": [
      "Epoch: 45\n"
     ]
    },
    {
     "name": "stderr",
     "output_type": "stream",
     "text": [
      "100%|██████████| 5490618/5490618 [01:09<00:00, 78727.70it/s]\n"
     ]
    },
    {
     "name": "stdout",
     "output_type": "stream",
     "text": [
      "Epoch: 46\n"
     ]
    },
    {
     "name": "stderr",
     "output_type": "stream",
     "text": [
      "100%|██████████| 5490618/5490618 [01:08<00:00, 79856.78it/s]\n"
     ]
    },
    {
     "name": "stdout",
     "output_type": "stream",
     "text": [
      "Epoch: 47\n"
     ]
    },
    {
     "name": "stderr",
     "output_type": "stream",
     "text": [
      "100%|██████████| 5490618/5490618 [01:09<00:00, 79026.59it/s]\n"
     ]
    },
    {
     "name": "stdout",
     "output_type": "stream",
     "text": [
      "Epoch: 48\n"
     ]
    },
    {
     "name": "stderr",
     "output_type": "stream",
     "text": [
      "100%|██████████| 5490618/5490618 [01:10<00:00, 77664.39it/s]\n"
     ]
    },
    {
     "name": "stdout",
     "output_type": "stream",
     "text": [
      "Epoch: 49\n"
     ]
    },
    {
     "name": "stderr",
     "output_type": "stream",
     "text": [
      "100%|██████████| 5490618/5490618 [01:11<00:00, 77127.48it/s]\n"
     ]
    },
    {
     "name": "stdout",
     "output_type": "stream",
     "text": [
      "Epoch: 50\n"
     ]
    },
    {
     "name": "stderr",
     "output_type": "stream",
     "text": [
      "100%|██████████| 5490618/5490618 [01:10<00:00, 77350.17it/s]\n"
     ]
    },
    {
     "name": "stdout",
     "output_type": "stream",
     "text": [
      "Epoch: 51\n"
     ]
    },
    {
     "name": "stderr",
     "output_type": "stream",
     "text": [
      "100%|██████████| 5490618/5490618 [01:10<00:00, 78250.45it/s]\n"
     ]
    },
    {
     "name": "stdout",
     "output_type": "stream",
     "text": [
      "Epoch: 52\n"
     ]
    },
    {
     "name": "stderr",
     "output_type": "stream",
     "text": [
      "100%|██████████| 5490618/5490618 [01:10<00:00, 77974.93it/s]\n"
     ]
    },
    {
     "name": "stdout",
     "output_type": "stream",
     "text": [
      "Epoch: 53\n"
     ]
    },
    {
     "name": "stderr",
     "output_type": "stream",
     "text": [
      "100%|██████████| 5490618/5490618 [01:12<00:00, 75658.32it/s]\n"
     ]
    },
    {
     "name": "stdout",
     "output_type": "stream",
     "text": [
      "Epoch: 54\n"
     ]
    },
    {
     "name": "stderr",
     "output_type": "stream",
     "text": [
      "100%|██████████| 5490618/5490618 [01:09<00:00, 79234.35it/s]\n"
     ]
    },
    {
     "name": "stdout",
     "output_type": "stream",
     "text": [
      "Epoch: 55\n"
     ]
    },
    {
     "name": "stderr",
     "output_type": "stream",
     "text": [
      "100%|██████████| 5490618/5490618 [01:08<00:00, 79965.54it/s]\n"
     ]
    },
    {
     "name": "stdout",
     "output_type": "stream",
     "text": [
      "Epoch: 56\n"
     ]
    },
    {
     "name": "stderr",
     "output_type": "stream",
     "text": [
      "100%|██████████| 5490618/5490618 [01:08<00:00, 79832.40it/s]\n"
     ]
    },
    {
     "name": "stdout",
     "output_type": "stream",
     "text": [
      "Epoch: 57\n"
     ]
    },
    {
     "name": "stderr",
     "output_type": "stream",
     "text": [
      "100%|██████████| 5490618/5490618 [01:08<00:00, 80032.67it/s]\n"
     ]
    },
    {
     "name": "stdout",
     "output_type": "stream",
     "text": [
      "Epoch: 58\n"
     ]
    },
    {
     "name": "stderr",
     "output_type": "stream",
     "text": [
      "100%|██████████| 5490618/5490618 [01:08<00:00, 79989.15it/s]\n"
     ]
    },
    {
     "name": "stdout",
     "output_type": "stream",
     "text": [
      "Epoch: 59\n"
     ]
    },
    {
     "name": "stderr",
     "output_type": "stream",
     "text": [
      "100%|██████████| 5490618/5490618 [01:08<00:00, 80129.05it/s]\n"
     ]
    },
    {
     "data": {
      "text/plain": "<Figure size 1000x600 with 1 Axes>",
      "image/png": "[encoded data removed]"
     },
     "metadata": {},
     "output_type": "display_data"
    }
   ],
   "source": [
    "rec = ItemCF(itemcf_transactions, negative_samples, num_components=1000)\n",
    "rec.fit(n_epochs=60)"
   ],
   "metadata": {
    "collapsed": false,
    "ExecuteTime": {
     "end_time": "2023-12-27T20:24:47.715570400Z",
     "start_time": "2023-12-27T19:13:37.722174200Z"
    }
   },
   "id": "fed5a7ad5eabaaf7"
  },
  {
   "cell_type": "markdown",
   "source": [
    "Calculate the user-item interaction matrix by using the data from the CF model"
   ],
   "metadata": {
    "collapsed": false
   },
   "id": "3d22ef793f6b8c49"
  },
  {
   "cell_type": "code",
   "execution_count": 9,
   "outputs": [
    {
     "name": "stdout",
     "output_type": "stream",
     "text": [
      "CPU times: total: 1min 19s\n",
      "Wall time: 8min 38s\n"
     ]
    }
   ],
   "source": [
    "%%time\n",
    "ui_score = get_useritem_data(rec)"
   ],
   "metadata": {
    "collapsed": false,
    "ExecuteTime": {
     "end_time": "2023-12-27T20:33:26.077977600Z",
     "start_time": "2023-12-27T20:24:47.714571300Z"
    }
   },
   "id": "58bf63bc3642b37b"
  },
  {
   "cell_type": "code",
   "execution_count": 10,
   "outputs": [
    {
     "data": {
      "text/plain": "                      108775044  111565001  111586001  111593001  111609001  \\\n6326351327209594402    0.000000   0.104321  -0.065291  -0.138951  -0.219930   \n15078695326066239144   0.000000   0.017451  -0.006084  -0.017072  -0.118663   \n18304370977760179130   0.000000   0.361349  -0.402717   0.347223  -0.222933   \n2189559865845641103    0.000000   0.199633   0.226457  -0.080535   0.105419   \n10926728289202456124   0.000000  -0.071517  -0.136886  -0.068440   0.017413   \n...                         ...        ...        ...        ...        ...   \n3958904871616586093    0.004041   0.129440  -0.150692   0.093338  -0.048813   \n4640197955788019288    0.018085  -0.003829   0.020696  -0.071786   0.006059   \n10710816612315450049   0.018085  -0.003829   0.020696  -0.071786   0.006059   \n9735950175229244303    0.018085  -0.003829   0.020696  -0.071786   0.006059   \n15744464343857705030  -0.029223  -0.024239   0.007731  -0.026017   0.051412   \n\n                      120129001  120129014  123173001  126589010  129085001  \\\n6326351327209594402    0.190701   0.233349  -0.172824  -0.395152  -0.133642   \n15078695326066239144  -0.028954   0.159464  -0.119626  -0.272191  -0.162605   \n18304370977760179130  -0.016408  -0.387563   0.039925  -0.342284  -0.174316   \n2189559865845641103    0.357149   0.090964   0.151722  -0.098358  -0.350014   \n10926728289202456124  -0.046164  -0.134872   0.087310  -0.023954  -0.124198   \n...                         ...        ...        ...        ...        ...   \n3958904871616586093    0.058598  -0.061329   0.097079   0.048488   0.184477   \n4640197955788019288   -0.047331  -0.001440   0.047474  -0.030284   0.062596   \n10710816612315450049  -0.047331  -0.001440   0.047474  -0.030284   0.062596   \n9735950175229244303   -0.047331  -0.001440   0.047474  -0.030284   0.062596   \n15744464343857705030  -0.026778   0.034762  -0.051360   0.031199  -0.032777   \n\n                      ...  947168001  947509001  947934001  949198001  \\\n6326351327209594402   ...   0.038388  -0.077964  -0.075219   0.106869   \n15078695326066239144  ...  -0.041264   0.222074  -0.114668   0.285866   \n18304370977760179130  ...  -0.141820   0.021623   0.176766   0.106066   \n2189559865845641103   ...   0.159161  -0.245506   0.042885   0.228832   \n10926728289202456124  ...  -0.056648   0.060876  -0.032793   0.027334   \n...                   ...        ...        ...        ...        ...   \n3958904871616586093   ...   0.163103   0.040855   0.000000  -0.034594   \n4640197955788019288   ...  -0.005777   0.052651   0.021652   0.032845   \n10710816612315450049  ...  -0.005777   0.052651   0.021652   0.032845   \n9735950175229244303   ...  -0.005777   0.052651   0.021652   0.032845   \n15744464343857705030  ...   0.019884   0.043404  -0.014851  -0.017284   \n\n                      949551001  949551002  952267001  953450001  953763001  \\\n6326351327209594402   -0.268562   0.096398  -0.223786  -0.449740  -0.236870   \n15078695326066239144   0.032892  -0.209678  -0.140812   0.114078  -0.089296   \n18304370977760179130   0.145338   0.015991   0.075193  -0.060601  -0.008286   \n2189559865845641103   -0.048489  -0.055453   0.127514   0.002435   0.097392   \n10926728289202456124  -0.008436  -0.188249  -0.062609  -0.073615   0.165899   \n...                         ...        ...        ...        ...        ...   \n3958904871616586093    0.064956  -0.059883  -0.044554  -0.079825   0.043473   \n4640197955788019288    0.000000   0.032927   0.038399   0.031856   0.008147   \n10710816612315450049   0.000000   0.032927   0.038399   0.031856   0.008147   \n9735950175229244303    0.000000   0.032927   0.038399   0.031856   0.008147   \n15744464343857705030   0.038399   0.027931   0.000000  -0.020460   0.033981   \n\n                      956217002  \n6326351327209594402    0.429169  \n15078695326066239144  -0.079415  \n18304370977760179130   0.069321  \n2189559865845641103    0.204046  \n10926728289202456124   0.014485  \n...                         ...  \n3958904871616586093    0.196912  \n4640197955788019288    0.005194  \n10710816612315450049   0.005194  \n9735950175229244303    0.005194  \n15744464343857705030  -0.028752  \n\n[437279 rows x 19600 columns]",
      "text/html": "<div>\n<style scoped>\n    .dataframe tbody tr th:only-of-type {\n        vertical-align: middle;\n    }\n\n    .dataframe tbody tr th {\n        vertical-align: top;\n    }\n\n    .dataframe thead th {\n        text-align: right;\n    }\n</style>\n<table border=\"1\" class=\"dataframe\">\n  <thead>\n    <tr style=\"text-align: right;\">\n      <th></th>\n      <th>108775044</th>\n      <th>111565001</th>\n      <th>111586001</th>\n      <th>111593001</th>\n      <th>111609001</th>\n      <th>120129001</th>\n      <th>120129014</th>\n      <th>123173001</th>\n      <th>126589010</th>\n      <th>129085001</th>\n      <th>...</th>\n      <th>947168001</th>\n      <th>947509001</th>\n      <th>947934001</th>\n      <th>949198001</th>\n      <th>949551001</th>\n      <th>949551002</th>\n      <th>952267001</th>\n      <th>953450001</th>\n      <th>953763001</th>\n      <th>956217002</th>\n    </tr>\n  </thead>\n  <tbody>\n    <tr>\n      <th>6326351327209594402</th>\n      <td>0.000000</td>\n      <td>0.104321</td>\n      <td>-0.065291</td>\n      <td>-0.138951</td>\n      <td>-0.219930</td>\n      <td>0.190701</td>\n      <td>0.233349</td>\n      <td>-0.172824</td>\n      <td>-0.395152</td>\n      <td>-0.133642</td>\n      <td>...</td>\n      <td>0.038388</td>\n      <td>-0.077964</td>\n      <td>-0.075219</td>\n      <td>0.106869</td>\n      <td>-0.268562</td>\n      <td>0.096398</td>\n      <td>-0.223786</td>\n      <td>-0.449740</td>\n      <td>-0.236870</td>\n      <td>0.429169</td>\n    </tr>\n    <tr>\n      <th>15078695326066239144</th>\n      <td>0.000000</td>\n      <td>0.017451</td>\n      <td>-0.006084</td>\n      <td>-0.017072</td>\n      <td>-0.118663</td>\n      <td>-0.028954</td>\n      <td>0.159464</td>\n      <td>-0.119626</td>\n      <td>-0.272191</td>\n      <td>-0.162605</td>\n      <td>...</td>\n      <td>-0.041264</td>\n      <td>0.222074</td>\n      <td>-0.114668</td>\n      <td>0.285866</td>\n      <td>0.032892</td>\n      <td>-0.209678</td>\n      <td>-0.140812</td>\n      <td>0.114078</td>\n      <td>-0.089296</td>\n      <td>-0.079415</td>\n    </tr>\n    <tr>\n      <th>18304370977760179130</th>\n      <td>0.000000</td>\n      <td>0.361349</td>\n      <td>-0.402717</td>\n      <td>0.347223</td>\n      <td>-0.222933</td>\n      <td>-0.016408</td>\n      <td>-0.387563</td>\n      <td>0.039925</td>\n      <td>-0.342284</td>\n      <td>-0.174316</td>\n      <td>...</td>\n      <td>-0.141820</td>\n      <td>0.021623</td>\n      <td>0.176766</td>\n      <td>0.106066</td>\n      <td>0.145338</td>\n      <td>0.015991</td>\n      <td>0.075193</td>\n      <td>-0.060601</td>\n      <td>-0.008286</td>\n      <td>0.069321</td>\n    </tr>\n    <tr>\n      <th>2189559865845641103</th>\n      <td>0.000000</td>\n      <td>0.199633</td>\n      <td>0.226457</td>\n      <td>-0.080535</td>\n      <td>0.105419</td>\n      <td>0.357149</td>\n      <td>0.090964</td>\n      <td>0.151722</td>\n      <td>-0.098358</td>\n      <td>-0.350014</td>\n      <td>...</td>\n      <td>0.159161</td>\n      <td>-0.245506</td>\n      <td>0.042885</td>\n      <td>0.228832</td>\n      <td>-0.048489</td>\n      <td>-0.055453</td>\n      <td>0.127514</td>\n      <td>0.002435</td>\n      <td>0.097392</td>\n      <td>0.204046</td>\n    </tr>\n    <tr>\n      <th>10926728289202456124</th>\n      <td>0.000000</td>\n      <td>-0.071517</td>\n      <td>-0.136886</td>\n      <td>-0.068440</td>\n      <td>0.017413</td>\n      <td>-0.046164</td>\n      <td>-0.134872</td>\n      <td>0.087310</td>\n      <td>-0.023954</td>\n      <td>-0.124198</td>\n      <td>...</td>\n      <td>-0.056648</td>\n      <td>0.060876</td>\n      <td>-0.032793</td>\n      <td>0.027334</td>\n      <td>-0.008436</td>\n      <td>-0.188249</td>\n      <td>-0.062609</td>\n      <td>-0.073615</td>\n      <td>0.165899</td>\n      <td>0.014485</td>\n    </tr>\n    <tr>\n      <th>...</th>\n      <td>...</td>\n      <td>...</td>\n      <td>...</td>\n      <td>...</td>\n      <td>...</td>\n      <td>...</td>\n      <td>...</td>\n      <td>...</td>\n      <td>...</td>\n      <td>...</td>\n      <td>...</td>\n      <td>...</td>\n      <td>...</td>\n      <td>...</td>\n      <td>...</td>\n      <td>...</td>\n      <td>...</td>\n      <td>...</td>\n      <td>...</td>\n      <td>...</td>\n      <td>...</td>\n    </tr>\n    <tr>\n      <th>3958904871616586093</th>\n      <td>0.004041</td>\n      <td>0.129440</td>\n      <td>-0.150692</td>\n      <td>0.093338</td>\n      <td>-0.048813</td>\n      <td>0.058598</td>\n      <td>-0.061329</td>\n      <td>0.097079</td>\n      <td>0.048488</td>\n      <td>0.184477</td>\n      <td>...</td>\n      <td>0.163103</td>\n      <td>0.040855</td>\n      <td>0.000000</td>\n      <td>-0.034594</td>\n      <td>0.064956</td>\n      <td>-0.059883</td>\n      <td>-0.044554</td>\n      <td>-0.079825</td>\n      <td>0.043473</td>\n      <td>0.196912</td>\n    </tr>\n    <tr>\n      <th>4640197955788019288</th>\n      <td>0.018085</td>\n      <td>-0.003829</td>\n      <td>0.020696</td>\n      <td>-0.071786</td>\n      <td>0.006059</td>\n      <td>-0.047331</td>\n      <td>-0.001440</td>\n      <td>0.047474</td>\n      <td>-0.030284</td>\n      <td>0.062596</td>\n      <td>...</td>\n      <td>-0.005777</td>\n      <td>0.052651</td>\n      <td>0.021652</td>\n      <td>0.032845</td>\n      <td>0.000000</td>\n      <td>0.032927</td>\n      <td>0.038399</td>\n      <td>0.031856</td>\n      <td>0.008147</td>\n      <td>0.005194</td>\n    </tr>\n    <tr>\n      <th>10710816612315450049</th>\n      <td>0.018085</td>\n      <td>-0.003829</td>\n      <td>0.020696</td>\n      <td>-0.071786</td>\n      <td>0.006059</td>\n      <td>-0.047331</td>\n      <td>-0.001440</td>\n      <td>0.047474</td>\n      <td>-0.030284</td>\n      <td>0.062596</td>\n      <td>...</td>\n      <td>-0.005777</td>\n      <td>0.052651</td>\n      <td>0.021652</td>\n      <td>0.032845</td>\n      <td>0.000000</td>\n      <td>0.032927</td>\n      <td>0.038399</td>\n      <td>0.031856</td>\n      <td>0.008147</td>\n      <td>0.005194</td>\n    </tr>\n    <tr>\n      <th>9735950175229244303</th>\n      <td>0.018085</td>\n      <td>-0.003829</td>\n      <td>0.020696</td>\n      <td>-0.071786</td>\n      <td>0.006059</td>\n      <td>-0.047331</td>\n      <td>-0.001440</td>\n      <td>0.047474</td>\n      <td>-0.030284</td>\n      <td>0.062596</td>\n      <td>...</td>\n      <td>-0.005777</td>\n      <td>0.052651</td>\n      <td>0.021652</td>\n      <td>0.032845</td>\n      <td>0.000000</td>\n      <td>0.032927</td>\n      <td>0.038399</td>\n      <td>0.031856</td>\n      <td>0.008147</td>\n      <td>0.005194</td>\n    </tr>\n    <tr>\n      <th>15744464343857705030</th>\n      <td>-0.029223</td>\n      <td>-0.024239</td>\n      <td>0.007731</td>\n      <td>-0.026017</td>\n      <td>0.051412</td>\n      <td>-0.026778</td>\n      <td>0.034762</td>\n      <td>-0.051360</td>\n      <td>0.031199</td>\n      <td>-0.032777</td>\n      <td>...</td>\n      <td>0.019884</td>\n      <td>0.043404</td>\n      <td>-0.014851</td>\n      <td>-0.017284</td>\n      <td>0.038399</td>\n      <td>0.027931</td>\n      <td>0.000000</td>\n      <td>-0.020460</td>\n      <td>0.033981</td>\n      <td>-0.028752</td>\n    </tr>\n  </tbody>\n</table>\n<p>437279 rows × 19600 columns</p>\n</div>"
     },
     "execution_count": 10,
     "metadata": {},
     "output_type": "execute_result"
    }
   ],
   "source": [
    "ui_score"
   ],
   "metadata": {
    "collapsed": false,
    "ExecuteTime": {
     "end_time": "2023-12-27T20:34:28.773037900Z",
     "start_time": "2023-12-27T20:33:26.095977800Z"
    }
   },
   "id": "3bba41938aa93855"
  },
  {
   "cell_type": "code",
   "execution_count": 11,
   "outputs": [
    {
     "name": "stdout",
     "output_type": "stream",
     "text": [
      "[LightGBM] [Debug] Dataset::GetMultiBinFromAllFeatures: sparse rate 0.112795\n",
      "[LightGBM] [Info] Total Bins 1297\n",
      "[LightGBM] [Info] Number of data points in the train set: 11557594, number of used features: 13\n",
      "[LightGBM] [Debug] Trained a tree with leaves = 31 and depth = 12\n",
      "                         score 0.99563\n",
      "                         price 0.00319\n",
      "                    article_id 0.00049\n",
      "              garment_group_no 0.00028\n",
      "                 department_no 0.00016\n",
      "               product_type_no 0.00015\n",
      "                    section_no 0.00006\n",
      "             colour_group_code 0.00004\n",
      "                index_group_no 0.00000\n",
      "                    index_code 0.00000\n",
      "    perceived_colour_master_id 0.00000\n",
      "     perceived_colour_value_id 0.00000\n",
      "       graphical_appearance_no 0.00000\n"
     ]
    }
   ],
   "source": [
    "### assemble training data (positive + negative examples)\n",
    "# each example has at least a customer_id, article_id and whether it was purchased or not (positive/negative)\n",
    "# add_features extracts and adds features to the examples\n",
    "train_examples = get_examples(train_data, test_week)\n",
    "X_train = add_features(train_examples)\n",
    "Y_train = train_examples['purchased']\n",
    "\n",
    "### fit ranker\n",
    "# training_groups tells LGBM that each (week, customer_id) combination is a seperate basket\n",
    "# !!! it is important that the training_examples are sorted according to week, customer_id for this to work\n",
    "ranker = LGBMRanker(\n",
    "    force_row_wise=True,\n",
    "    objective=\"lambdarank\",\n",
    "    metric=\"ndcg\",\n",
    "    boosting_type=\"dart\",\n",
    "    n_estimators=1,\n",
    "    importance_type='gain',\n",
    "    verbose=10\n",
    ")\n",
    "train_groups = train_examples.groupby(['week', 'customer_id'])['article_id'].count().values\n",
    "ranker.fit(X_train, Y_train, group=train_groups)\n",
    "print_importance(ranker, X_train.columns)\n",
    "\n"
   ],
   "metadata": {
    "collapsed": false,
    "ExecuteTime": {
     "end_time": "2023-12-27T20:40:19.099893400Z",
     "start_time": "2023-12-27T20:34:28.775038Z"
    }
   },
   "id": "d7cef38fcd72844c"
  },
  {
   "cell_type": "code",
   "execution_count": 12,
   "outputs": [
    {
     "name": "stdout",
     "output_type": "stream",
     "text": [
      "0.025965239693955543\n",
      "CPU times: total: 17.2 s\n",
      "Wall time: 3min 27s\n"
     ]
    }
   ],
   "source": [
    "%%time\n",
    "### test\n",
    "# candidates are generated similarly to the examples, only we don't know whether they are purchased\n",
    "# the same features are extracted and added\n",
    "# each candidate is scored by the ranker and predictions are generated using the highest scoring candidates\n",
    "test_candidates = get_candidates(train_data, test_week)\n",
    "X_test = add_features(test_candidates)\n",
    "predictions = get_predictions(test_candidates, X_test, ranker, 12)\n",
    "\n",
    "### evaluate\n",
    "if test_week < transactions.week.max() + 1:\n",
    "    # get ground truth data for test week\n",
    "    purchases = get_purchases(transactions[transactions.week == test_week])\n",
    "    \n",
    "    # fill missing prediction for customers in test set with popular items in last week\n",
    "    # only for customers in test set because only those are evaluated\n",
    "    popular = transactions[transactions.week == test_week-1].article_id.value_counts().head(12).index.values\n",
    "    predictions = fill_missing_predictions(predictions, purchases.customer_id, popular)\n",
    "    \n",
    "    # calculate score\n",
    "    score = mean_average_precision(predictions, purchases, 12)\n",
    "    print(score)\n",
    "\n",
    "### submit\n",
    "else:\n",
    "    # fill missing predictions for all customers with popular items in last week\n",
    "    # all customers because we don't know which ones will be evaluated\n",
    "    popular = transactions[transactions.week == test_week-1].article_id.value_counts().head(12).index.values\n",
    "    predictions = fill_missing_predictions(predictions, customers.customer_id, popular)\n",
    "\n",
    "    # write submission\n",
    "    sub = create_submission(predictions,sample_submission)\n",
    "    sub.to_csv('output/' + 'sub1.csv.gz', index=False)"
   ],
   "metadata": {
    "collapsed": false,
    "ExecuteTime": {
     "end_time": "2023-12-27T20:43:46.558156400Z",
     "start_time": "2023-12-27T20:40:19.097385600Z"
    }
   },
   "id": "adb56daea9ce7515"
  },
  {
   "cell_type": "code",
   "execution_count": 13,
   "outputs": [
    {
     "data": {
      "text/plain": "0.05234812642001266"
     },
     "execution_count": 13,
     "metadata": {},
     "output_type": "execute_result"
    }
   ],
   "source": [
    "recall(predictions,purchases,12)"
   ],
   "metadata": {
    "collapsed": false,
    "ExecuteTime": {
     "end_time": "2023-12-27T20:43:47.008940800Z",
     "start_time": "2023-12-27T20:43:46.557156400Z"
    }
   },
   "id": "5e3d347040028189"
  },
  {
   "cell_type": "markdown",
   "source": [
    "#### Evaluation:\n",
    " **MAP@12:** 0.02596\n",
    " **Recall@12:** 0.05234"
   ],
   "metadata": {
    "collapsed": false
   },
   "id": "2c81167617552579"
  },
  {
   "cell_type": "code",
   "execution_count": null,
   "outputs": [],
   "source": [],
   "metadata": {
    "collapsed": false
   },
   "id": "3314332ee3f9aef5"
  }
 ],
 "metadata": {
  "kernelspec": {
   "display_name": "Python 3",
   "language": "python",
   "name": "python3"
  },
  "language_info": {
   "codemirror_mode": {
    "name": "ipython",
    "version": 2
   },
   "file_extension": ".py",
   "mimetype": "text/x-python",
   "name": "python",
   "nbconvert_exporter": "python",
   "pygments_lexer": "ipython2",
   "version": "2.7.6"
  }
 },
 "nbformat": 4,
 "nbformat_minor": 5
}
