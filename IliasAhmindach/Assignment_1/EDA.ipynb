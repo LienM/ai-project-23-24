{
 "cells": [
  {
   "cell_type": "code",
   "execution_count": 1,
   "metadata": {
    "collapsed": true,
    "ExecuteTime": {
     "end_time": "2023-10-09T14:37:49.976839Z",
     "start_time": "2023-10-09T14:37:49.969180Z"
    }
   },
   "outputs": [],
   "source": [
    "import pandas as pd\n",
    "import numpy as np\n",
    "import seaborn as sns\n",
    "import string"
   ]
  },
  {
   "cell_type": "code",
   "execution_count": 3,
   "outputs": [],
   "source": [
    "articles = pd.read_csv('./../data/articles.csv', dtype={'article_id': 'str', 'product_code': 'str'})\n",
    "customers = pd.read_csv('./../data/customers.csv')\n",
    "sample_submission = pd.read_csv('./../data/sample_submission.csv')\n",
    "transactions_train = pd.read_csv('./../data/transactions_train.csv', dtype={'article_id': 'str'})"
   ],
   "metadata": {
    "collapsed": false,
    "ExecuteTime": {
     "end_time": "2023-10-09T14:38:44.303549Z",
     "start_time": "2023-10-09T14:38:21.123140Z"
    }
   }
  },
  {
   "cell_type": "markdown",
   "source": [
    "## Utilities"
   ],
   "metadata": {
    "collapsed": false
   }
  },
  {
   "cell_type": "code",
   "execution_count": 4,
   "outputs": [],
   "source": [
    "def print_inconsistencies(dataset, pairs):\n",
    "    for left, right in pairs:\n",
    "        inconsistencies = get_inconsistencies(dataset, left, right)\n",
    "        if not inconsistencies.empty:\n",
    "            print(f\"{left} - {right} pair has {len(inconsistencies)} inconsistencies.\")\n",
    "            print(inconsistencies)\n",
    "\n",
    "def get_inconsistencies(dataset, left, right):\n",
    "    # Drop duplicate pairs and select rows that contain duplicates in right column\n",
    "    cols = dataset[[left, right]].drop_duplicates()\n",
    "    inconsistencies = cols[cols.duplicated(right, keep=False)]\n",
    "    return inconsistencies\n",
    "\n",
    "# Example usage:\n",
    "# print_inconsistencies(your_dataset, [(\"Column1\", \"Column2\"), (\"Column3\", \"Column4\")])\n",
    "\n"
   ],
   "metadata": {
    "collapsed": false,
    "ExecuteTime": {
     "end_time": "2023-10-09T14:38:50.786976Z",
     "start_time": "2023-10-09T14:38:50.783357Z"
    }
   }
  },
  {
   "cell_type": "markdown",
   "source": [
    "# Articles"
   ],
   "metadata": {
    "collapsed": false
   }
  },
  {
   "cell_type": "code",
   "execution_count": 5,
   "outputs": [
    {
     "data": {
      "text/plain": "   article_id product_code          prod_name  product_type_no  \\\n0  0108775015      0108775          Strap top              253   \n1  0108775044      0108775          Strap top              253   \n2  0108775051      0108775      Strap top (1)              253   \n3  0110065001      0110065  OP T-shirt (Idro)              306   \n4  0110065002      0110065  OP T-shirt (Idro)              306   \n\n  product_type_name  product_group_name  graphical_appearance_no  \\\n0          Vest top  Garment Upper body                  1010016   \n1          Vest top  Garment Upper body                  1010016   \n2          Vest top  Garment Upper body                  1010017   \n3               Bra           Underwear                  1010016   \n4               Bra           Underwear                  1010016   \n\n  graphical_appearance_name  colour_group_code colour_group_name  ...  \\\n0                     Solid                  9             Black  ...   \n1                     Solid                 10             White  ...   \n2                    Stripe                 11         Off White  ...   \n3                     Solid                  9             Black  ...   \n4                     Solid                 10             White  ...   \n\n   department_name index_code        index_name index_group_no  \\\n0     Jersey Basic          A        Ladieswear              1   \n1     Jersey Basic          A        Ladieswear              1   \n2     Jersey Basic          A        Ladieswear              1   \n3   Clean Lingerie          B  Lingeries/Tights              1   \n4   Clean Lingerie          B  Lingeries/Tights              1   \n\n   index_group_name section_no            section_name garment_group_no  \\\n0        Ladieswear         16  Womens Everyday Basics             1002   \n1        Ladieswear         16  Womens Everyday Basics             1002   \n2        Ladieswear         16  Womens Everyday Basics             1002   \n3        Ladieswear         61         Womens Lingerie             1017   \n4        Ladieswear         61         Womens Lingerie             1017   \n\n   garment_group_name                                        detail_desc  \n0        Jersey Basic            Jersey top with narrow shoulder straps.  \n1        Jersey Basic            Jersey top with narrow shoulder straps.  \n2        Jersey Basic            Jersey top with narrow shoulder straps.  \n3   Under-, Nightwear  Microfibre T-shirt bra with underwired, moulde...  \n4   Under-, Nightwear  Microfibre T-shirt bra with underwired, moulde...  \n\n[5 rows x 25 columns]",
      "text/html": "<div>\n<style scoped>\n    .dataframe tbody tr th:only-of-type {\n        vertical-align: middle;\n    }\n\n    .dataframe tbody tr th {\n        vertical-align: top;\n    }\n\n    .dataframe thead th {\n        text-align: right;\n    }\n</style>\n<table border=\"1\" class=\"dataframe\">\n  <thead>\n    <tr style=\"text-align: right;\">\n      <th></th>\n      <th>article_id</th>\n      <th>product_code</th>\n      <th>prod_name</th>\n      <th>product_type_no</th>\n      <th>product_type_name</th>\n      <th>product_group_name</th>\n      <th>graphical_appearance_no</th>\n      <th>graphical_appearance_name</th>\n      <th>colour_group_code</th>\n      <th>colour_group_name</th>\n      <th>...</th>\n      <th>department_name</th>\n      <th>index_code</th>\n      <th>index_name</th>\n      <th>index_group_no</th>\n      <th>index_group_name</th>\n      <th>section_no</th>\n      <th>section_name</th>\n      <th>garment_group_no</th>\n      <th>garment_group_name</th>\n      <th>detail_desc</th>\n    </tr>\n  </thead>\n  <tbody>\n    <tr>\n      <th>0</th>\n      <td>0108775015</td>\n      <td>0108775</td>\n      <td>Strap top</td>\n      <td>253</td>\n      <td>Vest top</td>\n      <td>Garment Upper body</td>\n      <td>1010016</td>\n      <td>Solid</td>\n      <td>9</td>\n      <td>Black</td>\n      <td>...</td>\n      <td>Jersey Basic</td>\n      <td>A</td>\n      <td>Ladieswear</td>\n      <td>1</td>\n      <td>Ladieswear</td>\n      <td>16</td>\n      <td>Womens Everyday Basics</td>\n      <td>1002</td>\n      <td>Jersey Basic</td>\n      <td>Jersey top with narrow shoulder straps.</td>\n    </tr>\n    <tr>\n      <th>1</th>\n      <td>0108775044</td>\n      <td>0108775</td>\n      <td>Strap top</td>\n      <td>253</td>\n      <td>Vest top</td>\n      <td>Garment Upper body</td>\n      <td>1010016</td>\n      <td>Solid</td>\n      <td>10</td>\n      <td>White</td>\n      <td>...</td>\n      <td>Jersey Basic</td>\n      <td>A</td>\n      <td>Ladieswear</td>\n      <td>1</td>\n      <td>Ladieswear</td>\n      <td>16</td>\n      <td>Womens Everyday Basics</td>\n      <td>1002</td>\n      <td>Jersey Basic</td>\n      <td>Jersey top with narrow shoulder straps.</td>\n    </tr>\n    <tr>\n      <th>2</th>\n      <td>0108775051</td>\n      <td>0108775</td>\n      <td>Strap top (1)</td>\n      <td>253</td>\n      <td>Vest top</td>\n      <td>Garment Upper body</td>\n      <td>1010017</td>\n      <td>Stripe</td>\n      <td>11</td>\n      <td>Off White</td>\n      <td>...</td>\n      <td>Jersey Basic</td>\n      <td>A</td>\n      <td>Ladieswear</td>\n      <td>1</td>\n      <td>Ladieswear</td>\n      <td>16</td>\n      <td>Womens Everyday Basics</td>\n      <td>1002</td>\n      <td>Jersey Basic</td>\n      <td>Jersey top with narrow shoulder straps.</td>\n    </tr>\n    <tr>\n      <th>3</th>\n      <td>0110065001</td>\n      <td>0110065</td>\n      <td>OP T-shirt (Idro)</td>\n      <td>306</td>\n      <td>Bra</td>\n      <td>Underwear</td>\n      <td>1010016</td>\n      <td>Solid</td>\n      <td>9</td>\n      <td>Black</td>\n      <td>...</td>\n      <td>Clean Lingerie</td>\n      <td>B</td>\n      <td>Lingeries/Tights</td>\n      <td>1</td>\n      <td>Ladieswear</td>\n      <td>61</td>\n      <td>Womens Lingerie</td>\n      <td>1017</td>\n      <td>Under-, Nightwear</td>\n      <td>Microfibre T-shirt bra with underwired, moulde...</td>\n    </tr>\n    <tr>\n      <th>4</th>\n      <td>0110065002</td>\n      <td>0110065</td>\n      <td>OP T-shirt (Idro)</td>\n      <td>306</td>\n      <td>Bra</td>\n      <td>Underwear</td>\n      <td>1010016</td>\n      <td>Solid</td>\n      <td>10</td>\n      <td>White</td>\n      <td>...</td>\n      <td>Clean Lingerie</td>\n      <td>B</td>\n      <td>Lingeries/Tights</td>\n      <td>1</td>\n      <td>Ladieswear</td>\n      <td>61</td>\n      <td>Womens Lingerie</td>\n      <td>1017</td>\n      <td>Under-, Nightwear</td>\n      <td>Microfibre T-shirt bra with underwired, moulde...</td>\n    </tr>\n  </tbody>\n</table>\n<p>5 rows × 25 columns</p>\n</div>"
     },
     "execution_count": 5,
     "metadata": {},
     "output_type": "execute_result"
    }
   ],
   "source": [
    "articles.head()"
   ],
   "metadata": {
    "collapsed": false,
    "ExecuteTime": {
     "end_time": "2023-10-09T14:38:52.676362Z",
     "start_time": "2023-10-09T14:38:52.658219Z"
    }
   }
  },
  {
   "cell_type": "code",
   "execution_count": 6,
   "outputs": [
    {
     "data": {
      "text/plain": "        article_id product_code               prod_name  product_type_no  \\\n105537  0953450001      0953450  5pk regular Placement1              302   \n105538  0953763001      0953763       SPORT Malaga tank              253   \n105539  0956217002      0956217         Cartwheel dress              265   \n105540  0957375001      0957375        CLAIRE HAIR CLAW               72   \n105541  0959461001      0959461            Lounge dress              265   \n\n       product_type_name  product_group_name  graphical_appearance_no  \\\n105537             Socks      Socks & Tights                  1010014   \n105538          Vest top  Garment Upper body                  1010016   \n105539             Dress   Garment Full body                  1010016   \n105540         Hair clip         Accessories                  1010016   \n105541             Dress   Garment Full body                  1010016   \n\n       graphical_appearance_name  colour_group_code colour_group_name  ...  \\\n105537           Placement print                  9             Black  ...   \n105538                     Solid                  9             Black  ...   \n105539                     Solid                  9             Black  ...   \n105540                     Solid                  9             Black  ...   \n105541                     Solid                 11         Off White  ...   \n\n          department_name index_code  index_name index_group_no  \\\n105537          Socks Bin          F    Menswear              3   \n105538             Jersey          A  Ladieswear              1   \n105539             Jersey          A  Ladieswear              1   \n105540  Small Accessories          D     Divided              2   \n105541             Jersey          A  Ladieswear              1   \n\n        index_group_name section_no         section_name garment_group_no  \\\n105537          Menswear         26        Men Underwear             1021   \n105538        Ladieswear          2                 H&M+             1005   \n105539        Ladieswear         18         Womens Trend             1005   \n105540           Divided         52  Divided Accessories             1019   \n105541        Ladieswear         18         Womens Trend             1005   \n\n        garment_group_name                                        detail_desc  \n105537    Socks and Tights  Socks in a fine-knit cotton blend with a small...  \n105538        Jersey Fancy  Loose-fitting sports vest top in ribbed fast-d...  \n105539        Jersey Fancy  Short, A-line dress in jersey with a round nec...  \n105540         Accessories                           Large plastic hair claw.  \n105541        Jersey Fancy  Calf-length dress in ribbed jersey made from a...  \n\n[5 rows x 25 columns]",
      "text/html": "<div>\n<style scoped>\n    .dataframe tbody tr th:only-of-type {\n        vertical-align: middle;\n    }\n\n    .dataframe tbody tr th {\n        vertical-align: top;\n    }\n\n    .dataframe thead th {\n        text-align: right;\n    }\n</style>\n<table border=\"1\" class=\"dataframe\">\n  <thead>\n    <tr style=\"text-align: right;\">\n      <th></th>\n      <th>article_id</th>\n      <th>product_code</th>\n      <th>prod_name</th>\n      <th>product_type_no</th>\n      <th>product_type_name</th>\n      <th>product_group_name</th>\n      <th>graphical_appearance_no</th>\n      <th>graphical_appearance_name</th>\n      <th>colour_group_code</th>\n      <th>colour_group_name</th>\n      <th>...</th>\n      <th>department_name</th>\n      <th>index_code</th>\n      <th>index_name</th>\n      <th>index_group_no</th>\n      <th>index_group_name</th>\n      <th>section_no</th>\n      <th>section_name</th>\n      <th>garment_group_no</th>\n      <th>garment_group_name</th>\n      <th>detail_desc</th>\n    </tr>\n  </thead>\n  <tbody>\n    <tr>\n      <th>105537</th>\n      <td>0953450001</td>\n      <td>0953450</td>\n      <td>5pk regular Placement1</td>\n      <td>302</td>\n      <td>Socks</td>\n      <td>Socks &amp; Tights</td>\n      <td>1010014</td>\n      <td>Placement print</td>\n      <td>9</td>\n      <td>Black</td>\n      <td>...</td>\n      <td>Socks Bin</td>\n      <td>F</td>\n      <td>Menswear</td>\n      <td>3</td>\n      <td>Menswear</td>\n      <td>26</td>\n      <td>Men Underwear</td>\n      <td>1021</td>\n      <td>Socks and Tights</td>\n      <td>Socks in a fine-knit cotton blend with a small...</td>\n    </tr>\n    <tr>\n      <th>105538</th>\n      <td>0953763001</td>\n      <td>0953763</td>\n      <td>SPORT Malaga tank</td>\n      <td>253</td>\n      <td>Vest top</td>\n      <td>Garment Upper body</td>\n      <td>1010016</td>\n      <td>Solid</td>\n      <td>9</td>\n      <td>Black</td>\n      <td>...</td>\n      <td>Jersey</td>\n      <td>A</td>\n      <td>Ladieswear</td>\n      <td>1</td>\n      <td>Ladieswear</td>\n      <td>2</td>\n      <td>H&amp;M+</td>\n      <td>1005</td>\n      <td>Jersey Fancy</td>\n      <td>Loose-fitting sports vest top in ribbed fast-d...</td>\n    </tr>\n    <tr>\n      <th>105539</th>\n      <td>0956217002</td>\n      <td>0956217</td>\n      <td>Cartwheel dress</td>\n      <td>265</td>\n      <td>Dress</td>\n      <td>Garment Full body</td>\n      <td>1010016</td>\n      <td>Solid</td>\n      <td>9</td>\n      <td>Black</td>\n      <td>...</td>\n      <td>Jersey</td>\n      <td>A</td>\n      <td>Ladieswear</td>\n      <td>1</td>\n      <td>Ladieswear</td>\n      <td>18</td>\n      <td>Womens Trend</td>\n      <td>1005</td>\n      <td>Jersey Fancy</td>\n      <td>Short, A-line dress in jersey with a round nec...</td>\n    </tr>\n    <tr>\n      <th>105540</th>\n      <td>0957375001</td>\n      <td>0957375</td>\n      <td>CLAIRE HAIR CLAW</td>\n      <td>72</td>\n      <td>Hair clip</td>\n      <td>Accessories</td>\n      <td>1010016</td>\n      <td>Solid</td>\n      <td>9</td>\n      <td>Black</td>\n      <td>...</td>\n      <td>Small Accessories</td>\n      <td>D</td>\n      <td>Divided</td>\n      <td>2</td>\n      <td>Divided</td>\n      <td>52</td>\n      <td>Divided Accessories</td>\n      <td>1019</td>\n      <td>Accessories</td>\n      <td>Large plastic hair claw.</td>\n    </tr>\n    <tr>\n      <th>105541</th>\n      <td>0959461001</td>\n      <td>0959461</td>\n      <td>Lounge dress</td>\n      <td>265</td>\n      <td>Dress</td>\n      <td>Garment Full body</td>\n      <td>1010016</td>\n      <td>Solid</td>\n      <td>11</td>\n      <td>Off White</td>\n      <td>...</td>\n      <td>Jersey</td>\n      <td>A</td>\n      <td>Ladieswear</td>\n      <td>1</td>\n      <td>Ladieswear</td>\n      <td>18</td>\n      <td>Womens Trend</td>\n      <td>1005</td>\n      <td>Jersey Fancy</td>\n      <td>Calf-length dress in ribbed jersey made from a...</td>\n    </tr>\n  </tbody>\n</table>\n<p>5 rows × 25 columns</p>\n</div>"
     },
     "execution_count": 6,
     "metadata": {},
     "output_type": "execute_result"
    }
   ],
   "source": [
    "articles.tail()"
   ],
   "metadata": {
    "collapsed": false,
    "ExecuteTime": {
     "end_time": "2023-10-09T14:38:57.540555Z",
     "start_time": "2023-10-09T14:38:57.535513Z"
    }
   }
  },
  {
   "cell_type": "markdown",
   "source": [],
   "metadata": {
    "collapsed": false
   }
  },
  {
   "cell_type": "code",
   "execution_count": 7,
   "outputs": [
    {
     "data": {
      "text/plain": "       product_type_no  graphical_appearance_no  colour_group_code  \\\ncount    105542.000000             1.055420e+05      105542.000000   \nmean        234.861875             1.009515e+06          32.233822   \nstd          75.049308             2.241359e+04          28.086154   \nmin          -1.000000            -1.000000e+00          -1.000000   \n25%         252.000000             1.010008e+06           9.000000   \n50%         259.000000             1.010016e+06          14.000000   \n75%         272.000000             1.010016e+06          52.000000   \nmax         762.000000             1.010029e+06          93.000000   \n\n       perceived_colour_value_id  perceived_colour_master_id  department_no  \\\ncount              105542.000000               105542.000000  105542.000000   \nmean                    3.206183                    7.807972    4532.777833   \nstd                     1.563839                    5.376727    2712.692011   \nmin                    -1.000000                   -1.000000    1201.000000   \n25%                     2.000000                    4.000000    1676.000000   \n50%                     4.000000                    5.000000    4222.000000   \n75%                     4.000000                   11.000000    7389.000000   \nmax                     7.000000                   20.000000    9989.000000   \n\n       index_group_no     section_no  garment_group_no  \ncount   105542.000000  105542.000000     105542.000000  \nmean         3.171534      42.664219       1010.438290  \nstd          4.353234      23.260105          6.731023  \nmin          1.000000       2.000000       1001.000000  \n25%          1.000000      20.000000       1005.000000  \n50%          2.000000      46.000000       1009.000000  \n75%          4.000000      61.000000       1017.000000  \nmax         26.000000      97.000000       1025.000000  ",
      "text/html": "<div>\n<style scoped>\n    .dataframe tbody tr th:only-of-type {\n        vertical-align: middle;\n    }\n\n    .dataframe tbody tr th {\n        vertical-align: top;\n    }\n\n    .dataframe thead th {\n        text-align: right;\n    }\n</style>\n<table border=\"1\" class=\"dataframe\">\n  <thead>\n    <tr style=\"text-align: right;\">\n      <th></th>\n      <th>product_type_no</th>\n      <th>graphical_appearance_no</th>\n      <th>colour_group_code</th>\n      <th>perceived_colour_value_id</th>\n      <th>perceived_colour_master_id</th>\n      <th>department_no</th>\n      <th>index_group_no</th>\n      <th>section_no</th>\n      <th>garment_group_no</th>\n    </tr>\n  </thead>\n  <tbody>\n    <tr>\n      <th>count</th>\n      <td>105542.000000</td>\n      <td>1.055420e+05</td>\n      <td>105542.000000</td>\n      <td>105542.000000</td>\n      <td>105542.000000</td>\n      <td>105542.000000</td>\n      <td>105542.000000</td>\n      <td>105542.000000</td>\n      <td>105542.000000</td>\n    </tr>\n    <tr>\n      <th>mean</th>\n      <td>234.861875</td>\n      <td>1.009515e+06</td>\n      <td>32.233822</td>\n      <td>3.206183</td>\n      <td>7.807972</td>\n      <td>4532.777833</td>\n      <td>3.171534</td>\n      <td>42.664219</td>\n      <td>1010.438290</td>\n    </tr>\n    <tr>\n      <th>std</th>\n      <td>75.049308</td>\n      <td>2.241359e+04</td>\n      <td>28.086154</td>\n      <td>1.563839</td>\n      <td>5.376727</td>\n      <td>2712.692011</td>\n      <td>4.353234</td>\n      <td>23.260105</td>\n      <td>6.731023</td>\n    </tr>\n    <tr>\n      <th>min</th>\n      <td>-1.000000</td>\n      <td>-1.000000e+00</td>\n      <td>-1.000000</td>\n      <td>-1.000000</td>\n      <td>-1.000000</td>\n      <td>1201.000000</td>\n      <td>1.000000</td>\n      <td>2.000000</td>\n      <td>1001.000000</td>\n    </tr>\n    <tr>\n      <th>25%</th>\n      <td>252.000000</td>\n      <td>1.010008e+06</td>\n      <td>9.000000</td>\n      <td>2.000000</td>\n      <td>4.000000</td>\n      <td>1676.000000</td>\n      <td>1.000000</td>\n      <td>20.000000</td>\n      <td>1005.000000</td>\n    </tr>\n    <tr>\n      <th>50%</th>\n      <td>259.000000</td>\n      <td>1.010016e+06</td>\n      <td>14.000000</td>\n      <td>4.000000</td>\n      <td>5.000000</td>\n      <td>4222.000000</td>\n      <td>2.000000</td>\n      <td>46.000000</td>\n      <td>1009.000000</td>\n    </tr>\n    <tr>\n      <th>75%</th>\n      <td>272.000000</td>\n      <td>1.010016e+06</td>\n      <td>52.000000</td>\n      <td>4.000000</td>\n      <td>11.000000</td>\n      <td>7389.000000</td>\n      <td>4.000000</td>\n      <td>61.000000</td>\n      <td>1017.000000</td>\n    </tr>\n    <tr>\n      <th>max</th>\n      <td>762.000000</td>\n      <td>1.010029e+06</td>\n      <td>93.000000</td>\n      <td>7.000000</td>\n      <td>20.000000</td>\n      <td>9989.000000</td>\n      <td>26.000000</td>\n      <td>97.000000</td>\n      <td>1025.000000</td>\n    </tr>\n  </tbody>\n</table>\n</div>"
     },
     "execution_count": 7,
     "metadata": {},
     "output_type": "execute_result"
    }
   ],
   "source": [
    "articles.describe()"
   ],
   "metadata": {
    "collapsed": false,
    "ExecuteTime": {
     "end_time": "2023-10-09T14:38:59.743297Z",
     "start_time": "2023-10-09T14:38:59.701938Z"
    }
   }
  },
  {
   "cell_type": "markdown",
   "source": [
    "When describing the dataset, we look at the min value and notice that some columns have -1 as their min value. This maybe refers to uninitialized values."
   ],
   "metadata": {
    "collapsed": false
   }
  },
  {
   "cell_type": "markdown",
   "source": [],
   "metadata": {
    "collapsed": false
   }
  },
  {
   "cell_type": "code",
   "execution_count": 8,
   "outputs": [
    {
     "name": "stdout",
     "output_type": "stream",
     "text": [
      "article_id                      105542\n",
      "product_code                    105542\n",
      "prod_name                       105542\n",
      "product_type_no                 105542\n",
      "product_type_name               105542\n",
      "product_group_name              105542\n",
      "graphical_appearance_no         105542\n",
      "graphical_appearance_name       105542\n",
      "colour_group_code               105542\n",
      "colour_group_name               105542\n",
      "perceived_colour_value_id       105542\n",
      "perceived_colour_value_name     105542\n",
      "perceived_colour_master_id      105542\n",
      "perceived_colour_master_name    105542\n",
      "department_no                   105542\n",
      "department_name                 105542\n",
      "index_code                      105542\n",
      "index_name                      105542\n",
      "index_group_no                  105542\n",
      "index_group_name                105542\n",
      "section_no                      105542\n",
      "section_name                    105542\n",
      "garment_group_no                105542\n",
      "garment_group_name              105542\n",
      "detail_desc                     105126\n",
      "dtype: int64\n"
     ]
    }
   ],
   "source": [
    "print(articles.count())"
   ],
   "metadata": {
    "collapsed": false,
    "ExecuteTime": {
     "end_time": "2023-10-09T14:39:03.998704Z",
     "start_time": "2023-10-09T14:39:03.943173Z"
    }
   }
  },
  {
   "cell_type": "markdown",
   "source": [
    "There's 105542 articles but when looking at the detail_desc field, we can see there's an inconsistency there."
   ],
   "metadata": {
    "collapsed": false
   }
  },
  {
   "cell_type": "code",
   "execution_count": 9,
   "outputs": [
    {
     "name": "stdout",
     "output_type": "stream",
     "text": [
      "article_id                        0\n",
      "product_code                      0\n",
      "prod_name                         0\n",
      "product_type_no                   0\n",
      "product_type_name                 0\n",
      "product_group_name                0\n",
      "graphical_appearance_no           0\n",
      "graphical_appearance_name         0\n",
      "colour_group_code                 0\n",
      "colour_group_name                 0\n",
      "perceived_colour_value_id         0\n",
      "perceived_colour_value_name       0\n",
      "perceived_colour_master_id        0\n",
      "perceived_colour_master_name      0\n",
      "department_no                     0\n",
      "department_name                   0\n",
      "index_code                        0\n",
      "index_name                        0\n",
      "index_group_no                    0\n",
      "index_group_name                  0\n",
      "section_no                        0\n",
      "section_name                      0\n",
      "garment_group_no                  0\n",
      "garment_group_name                0\n",
      "detail_desc                     416\n",
      "dtype: int64\n"
     ]
    }
   ],
   "source": [
    "print(articles.isna().sum())"
   ],
   "metadata": {
    "collapsed": false,
    "ExecuteTime": {
     "end_time": "2023-10-09T14:39:05.319246Z",
     "start_time": "2023-10-09T14:39:05.313415Z"
    }
   }
  },
  {
   "cell_type": "markdown",
   "source": [
    "When investigating the missing values, we see that there's 416 values."
   ],
   "metadata": {
    "collapsed": false
   }
  },
  {
   "cell_type": "code",
   "execution_count": 10,
   "outputs": [
    {
     "name": "stdout",
     "output_type": "stream",
     "text": [
      "<class 'pandas.core.frame.DataFrame'>\n",
      "RangeIndex: 105542 entries, 0 to 105541\n",
      "Data columns (total 25 columns):\n",
      " #   Column                        Non-Null Count   Dtype \n",
      "---  ------                        --------------   ----- \n",
      " 0   article_id                    105542 non-null  object\n",
      " 1   product_code                  105542 non-null  object\n",
      " 2   prod_name                     105542 non-null  object\n",
      " 3   product_type_no               105542 non-null  int64 \n",
      " 4   product_type_name             105542 non-null  object\n",
      " 5   product_group_name            105542 non-null  object\n",
      " 6   graphical_appearance_no       105542 non-null  int64 \n",
      " 7   graphical_appearance_name     105542 non-null  object\n",
      " 8   colour_group_code             105542 non-null  int64 \n",
      " 9   colour_group_name             105542 non-null  object\n",
      " 10  perceived_colour_value_id     105542 non-null  int64 \n",
      " 11  perceived_colour_value_name   105542 non-null  object\n",
      " 12  perceived_colour_master_id    105542 non-null  int64 \n",
      " 13  perceived_colour_master_name  105542 non-null  object\n",
      " 14  department_no                 105542 non-null  int64 \n",
      " 15  department_name               105542 non-null  object\n",
      " 16  index_code                    105542 non-null  object\n",
      " 17  index_name                    105542 non-null  object\n",
      " 18  index_group_no                105542 non-null  int64 \n",
      " 19  index_group_name              105542 non-null  object\n",
      " 20  section_no                    105542 non-null  int64 \n",
      " 21  section_name                  105542 non-null  object\n",
      " 22  garment_group_no              105542 non-null  int64 \n",
      " 23  garment_group_name            105542 non-null  object\n",
      " 24  detail_desc                   105126 non-null  object\n",
      "dtypes: int64(9), object(16)\n",
      "memory usage: 20.1+ MB\n",
      "None\n"
     ]
    }
   ],
   "source": [
    "print(articles.info())"
   ],
   "metadata": {
    "collapsed": false,
    "ExecuteTime": {
     "end_time": "2023-10-09T14:39:06.913517Z",
     "start_time": "2023-10-09T14:39:06.894496Z"
    }
   }
  },
  {
   "cell_type": "code",
   "execution_count": 11,
   "outputs": [
    {
     "name": "stdout",
     "output_type": "stream",
     "text": [
      "article_id                      105542\n",
      "product_code                     47224\n",
      "prod_name                        45875\n",
      "product_type_no                    132\n",
      "product_type_name                  131\n",
      "product_group_name                  19\n",
      "graphical_appearance_no             30\n",
      "graphical_appearance_name           30\n",
      "colour_group_code                   50\n",
      "colour_group_name                   50\n",
      "perceived_colour_value_id            8\n",
      "perceived_colour_value_name          8\n",
      "perceived_colour_master_id          20\n",
      "perceived_colour_master_name        20\n",
      "department_no                      299\n",
      "department_name                    250\n",
      "index_code                          10\n",
      "index_name                          10\n",
      "index_group_no                       5\n",
      "index_group_name                     5\n",
      "section_no                          57\n",
      "section_name                        56\n",
      "garment_group_no                    21\n",
      "garment_group_name                  21\n",
      "detail_desc                      43404\n",
      "dtype: int64\n"
     ]
    }
   ],
   "source": [
    "print(articles.nunique())"
   ],
   "metadata": {
    "collapsed": false,
    "ExecuteTime": {
     "end_time": "2023-10-09T14:39:08.016629Z",
     "start_time": "2023-10-09T14:39:07.945652Z"
    }
   }
  },
  {
   "cell_type": "markdown",
   "source": [
    "When looking at the unique values, we can see that all the article id's are unique. Which should be the case as this is used as the identifier. The product_type_no and product_type_name should have the same unique values since they are linked with a one-to-one relationship. But as we saw with the describe function, product_type_no has atleast one -1 value, so maybe this is the reason for it.\n",
    "\n",
    "department_no and department_name also do not have the same amount of unique values, and it is the same for section_no and section_name. These two do not contain negative values so there must be something else that went wrong."
   ],
   "metadata": {
    "collapsed": false
   }
  },
  {
   "cell_type": "markdown",
   "source": [
    "Now we'll check these inconsistencies and see what went wrong."
   ],
   "metadata": {
    "collapsed": false
   }
  },
  {
   "cell_type": "code",
   "execution_count": 12,
   "outputs": [
    {
     "name": "stdout",
     "output_type": "stream",
     "text": [
      "section_no - section_name pair has 2 inconsistencies.\n",
      "       section_no  section_name\n",
      "38956           4  Ladies Other\n",
      "43598          17  Ladies Other\n",
      "product_type_no - product_type_name pair has 2 inconsistencies.\n",
      "     product_type_no product_type_name\n",
      "36               532          Umbrella\n",
      "719               83          Umbrella\n",
      "department_no - department_name pair has 71 inconsistencies.\n",
      "       department_no           department_name\n",
      "0               1676              Jersey Basic\n",
      "16              5883              Jersey Basic\n",
      "23              2032                    Jersey\n",
      "28              4342  EQ & Special Collections\n",
      "121             3509                     Belts\n",
      "...              ...                       ...\n",
      "11932           7520                  Knitwear\n",
      "20908           3708                Loungewear\n",
      "26661           1778         OL Extended Sizes\n",
      "26948           3941               Accessories\n",
      "34641           7952            Jersey License\n",
      "\n",
      "[71 rows x 2 columns]\n"
     ]
    }
   ],
   "source": [
    "pairs = {\n",
    "    (\"product_type_no\", \"product_type_name\"),\n",
    "    (\"department_no\", \"department_name\"),\n",
    "    (\"section_no\", \"section_name\")\n",
    "\n",
    "}\n",
    "print_inconsistencies(articles,pairs)"
   ],
   "metadata": {
    "collapsed": false,
    "ExecuteTime": {
     "end_time": "2023-10-09T14:39:10.532499Z",
     "start_time": "2023-10-09T14:39:10.496550Z"
    }
   }
  },
  {
   "cell_type": "markdown",
   "source": [
    "# Customers"
   ],
   "metadata": {
    "collapsed": false
   }
  },
  {
   "cell_type": "code",
   "execution_count": 13,
   "outputs": [
    {
     "data": {
      "text/plain": "                                         customer_id   FN  Active  \\\n0  00000dbacae5abe5e23885899a1fa44253a17956c6d1c3...  NaN     NaN   \n1  0000423b00ade91418cceaf3b26c6af3dd342b51fd051e...  NaN     NaN   \n2  000058a12d5b43e67d225668fa1f8d618c13dc232df0ca...  NaN     NaN   \n3  00005ca1c9ed5f5146b52ac8639a40ca9d57aeff4d1bd2...  NaN     NaN   \n4  00006413d8573cd20ed7128e53b7b13819fe5cfc2d801f...  1.0     1.0   \n\n  club_member_status fashion_news_frequency   age  \\\n0             ACTIVE                   NONE  49.0   \n1             ACTIVE                   NONE  25.0   \n2             ACTIVE                   NONE  24.0   \n3             ACTIVE                   NONE  54.0   \n4             ACTIVE              Regularly  52.0   \n\n                                         postal_code  \n0  52043ee2162cf5aa7ee79974281641c6f11a68d276429a...  \n1  2973abc54daa8a5f8ccfe9362140c63247c5eee03f1d93...  \n2  64f17e6a330a85798e4998f62d0930d14db8db1c054af6...  \n3  5d36574f52495e81f019b680c843c443bd343d5ca5b1c2...  \n4  25fa5ddee9aac01b35208d01736e57942317d756b32ddd...  ",
      "text/html": "<div>\n<style scoped>\n    .dataframe tbody tr th:only-of-type {\n        vertical-align: middle;\n    }\n\n    .dataframe tbody tr th {\n        vertical-align: top;\n    }\n\n    .dataframe thead th {\n        text-align: right;\n    }\n</style>\n<table border=\"1\" class=\"dataframe\">\n  <thead>\n    <tr style=\"text-align: right;\">\n      <th></th>\n      <th>customer_id</th>\n      <th>FN</th>\n      <th>Active</th>\n      <th>club_member_status</th>\n      <th>fashion_news_frequency</th>\n      <th>age</th>\n      <th>postal_code</th>\n    </tr>\n  </thead>\n  <tbody>\n    <tr>\n      <th>0</th>\n      <td>00000dbacae5abe5e23885899a1fa44253a17956c6d1c3...</td>\n      <td>NaN</td>\n      <td>NaN</td>\n      <td>ACTIVE</td>\n      <td>NONE</td>\n      <td>49.0</td>\n      <td>52043ee2162cf5aa7ee79974281641c6f11a68d276429a...</td>\n    </tr>\n    <tr>\n      <th>1</th>\n      <td>0000423b00ade91418cceaf3b26c6af3dd342b51fd051e...</td>\n      <td>NaN</td>\n      <td>NaN</td>\n      <td>ACTIVE</td>\n      <td>NONE</td>\n      <td>25.0</td>\n      <td>2973abc54daa8a5f8ccfe9362140c63247c5eee03f1d93...</td>\n    </tr>\n    <tr>\n      <th>2</th>\n      <td>000058a12d5b43e67d225668fa1f8d618c13dc232df0ca...</td>\n      <td>NaN</td>\n      <td>NaN</td>\n      <td>ACTIVE</td>\n      <td>NONE</td>\n      <td>24.0</td>\n      <td>64f17e6a330a85798e4998f62d0930d14db8db1c054af6...</td>\n    </tr>\n    <tr>\n      <th>3</th>\n      <td>00005ca1c9ed5f5146b52ac8639a40ca9d57aeff4d1bd2...</td>\n      <td>NaN</td>\n      <td>NaN</td>\n      <td>ACTIVE</td>\n      <td>NONE</td>\n      <td>54.0</td>\n      <td>5d36574f52495e81f019b680c843c443bd343d5ca5b1c2...</td>\n    </tr>\n    <tr>\n      <th>4</th>\n      <td>00006413d8573cd20ed7128e53b7b13819fe5cfc2d801f...</td>\n      <td>1.0</td>\n      <td>1.0</td>\n      <td>ACTIVE</td>\n      <td>Regularly</td>\n      <td>52.0</td>\n      <td>25fa5ddee9aac01b35208d01736e57942317d756b32ddd...</td>\n    </tr>\n  </tbody>\n</table>\n</div>"
     },
     "execution_count": 13,
     "metadata": {},
     "output_type": "execute_result"
    }
   ],
   "source": [
    "customers.head()"
   ],
   "metadata": {
    "collapsed": false,
    "ExecuteTime": {
     "end_time": "2023-10-09T14:39:13.329097Z",
     "start_time": "2023-10-09T14:39:13.323947Z"
    }
   }
  },
  {
   "cell_type": "code",
   "execution_count": 14,
   "outputs": [
    {
     "data": {
      "text/plain": "                                               customer_id   FN  Active  \\\n1371975  ffffbbf78b6eaac697a8a5dfbfd2bfa8113ee5b403e474...  NaN     NaN   \n1371976  ffffcd5046a6143d29a04fb8c424ce494a76e5cdf4fab5...  NaN     NaN   \n1371977  ffffcf35913a0bee60e8741cb2b4e78b8a98ee5ff2e6a1...  1.0     1.0   \n1371978  ffffd7744cebcf3aca44ae7049d2a94b87074c3d4ffe38...  1.0     1.0   \n1371979  ffffd9ac14e89946416d80e791d064701994755c3ab686...  NaN     NaN   \n\n        club_member_status fashion_news_frequency   age  \\\n1371975             ACTIVE                   NONE  24.0   \n1371976             ACTIVE                   NONE  21.0   \n1371977             ACTIVE              Regularly  21.0   \n1371978             ACTIVE              Regularly  18.0   \n1371979         PRE-CREATE                   NONE  65.0   \n\n                                               postal_code  \n1371975  7aa399f7e669990daba2d92c577b52237380662f36480b...  \n1371976  3f47f1279beb72215f4de557d950e0bfa73789d24acb5e...  \n1371977  4563fc79215672cd6a863f2b4bf56b8f898f2d96ed590e...  \n1371978  8892c18e9bc3dca6aa4000cb8094fc4b51ee8db2ed14d7...  \n1371979  0a1a03306fb2f62164c2a439b38c0caa64b40deaae8687...  ",
      "text/html": "<div>\n<style scoped>\n    .dataframe tbody tr th:only-of-type {\n        vertical-align: middle;\n    }\n\n    .dataframe tbody tr th {\n        vertical-align: top;\n    }\n\n    .dataframe thead th {\n        text-align: right;\n    }\n</style>\n<table border=\"1\" class=\"dataframe\">\n  <thead>\n    <tr style=\"text-align: right;\">\n      <th></th>\n      <th>customer_id</th>\n      <th>FN</th>\n      <th>Active</th>\n      <th>club_member_status</th>\n      <th>fashion_news_frequency</th>\n      <th>age</th>\n      <th>postal_code</th>\n    </tr>\n  </thead>\n  <tbody>\n    <tr>\n      <th>1371975</th>\n      <td>ffffbbf78b6eaac697a8a5dfbfd2bfa8113ee5b403e474...</td>\n      <td>NaN</td>\n      <td>NaN</td>\n      <td>ACTIVE</td>\n      <td>NONE</td>\n      <td>24.0</td>\n      <td>7aa399f7e669990daba2d92c577b52237380662f36480b...</td>\n    </tr>\n    <tr>\n      <th>1371976</th>\n      <td>ffffcd5046a6143d29a04fb8c424ce494a76e5cdf4fab5...</td>\n      <td>NaN</td>\n      <td>NaN</td>\n      <td>ACTIVE</td>\n      <td>NONE</td>\n      <td>21.0</td>\n      <td>3f47f1279beb72215f4de557d950e0bfa73789d24acb5e...</td>\n    </tr>\n    <tr>\n      <th>1371977</th>\n      <td>ffffcf35913a0bee60e8741cb2b4e78b8a98ee5ff2e6a1...</td>\n      <td>1.0</td>\n      <td>1.0</td>\n      <td>ACTIVE</td>\n      <td>Regularly</td>\n      <td>21.0</td>\n      <td>4563fc79215672cd6a863f2b4bf56b8f898f2d96ed590e...</td>\n    </tr>\n    <tr>\n      <th>1371978</th>\n      <td>ffffd7744cebcf3aca44ae7049d2a94b87074c3d4ffe38...</td>\n      <td>1.0</td>\n      <td>1.0</td>\n      <td>ACTIVE</td>\n      <td>Regularly</td>\n      <td>18.0</td>\n      <td>8892c18e9bc3dca6aa4000cb8094fc4b51ee8db2ed14d7...</td>\n    </tr>\n    <tr>\n      <th>1371979</th>\n      <td>ffffd9ac14e89946416d80e791d064701994755c3ab686...</td>\n      <td>NaN</td>\n      <td>NaN</td>\n      <td>PRE-CREATE</td>\n      <td>NONE</td>\n      <td>65.0</td>\n      <td>0a1a03306fb2f62164c2a439b38c0caa64b40deaae8687...</td>\n    </tr>\n  </tbody>\n</table>\n</div>"
     },
     "execution_count": 14,
     "metadata": {},
     "output_type": "execute_result"
    }
   ],
   "source": [
    "customers.tail()"
   ],
   "metadata": {
    "collapsed": false,
    "ExecuteTime": {
     "end_time": "2023-10-09T14:39:14.245994Z",
     "start_time": "2023-10-09T14:39:14.234650Z"
    }
   }
  },
  {
   "cell_type": "markdown",
   "source": [
    "When viewing the columns, we can see a weird pattern where there's alnot of NaN values."
   ],
   "metadata": {
    "collapsed": false
   }
  },
  {
   "cell_type": "markdown",
   "source": [],
   "metadata": {
    "collapsed": false
   }
  },
  {
   "cell_type": "code",
   "execution_count": 15,
   "outputs": [
    {
     "data": {
      "text/plain": "             FN    Active           age\ncount  476930.0  464404.0  1.356119e+06\nmean        1.0       1.0  3.638696e+01\nstd         0.0       0.0  1.431363e+01\nmin         1.0       1.0  1.600000e+01\n25%         1.0       1.0  2.400000e+01\n50%         1.0       1.0  3.200000e+01\n75%         1.0       1.0  4.900000e+01\nmax         1.0       1.0  9.900000e+01",
      "text/html": "<div>\n<style scoped>\n    .dataframe tbody tr th:only-of-type {\n        vertical-align: middle;\n    }\n\n    .dataframe tbody tr th {\n        vertical-align: top;\n    }\n\n    .dataframe thead th {\n        text-align: right;\n    }\n</style>\n<table border=\"1\" class=\"dataframe\">\n  <thead>\n    <tr style=\"text-align: right;\">\n      <th></th>\n      <th>FN</th>\n      <th>Active</th>\n      <th>age</th>\n    </tr>\n  </thead>\n  <tbody>\n    <tr>\n      <th>count</th>\n      <td>476930.0</td>\n      <td>464404.0</td>\n      <td>1.356119e+06</td>\n    </tr>\n    <tr>\n      <th>mean</th>\n      <td>1.0</td>\n      <td>1.0</td>\n      <td>3.638696e+01</td>\n    </tr>\n    <tr>\n      <th>std</th>\n      <td>0.0</td>\n      <td>0.0</td>\n      <td>1.431363e+01</td>\n    </tr>\n    <tr>\n      <th>min</th>\n      <td>1.0</td>\n      <td>1.0</td>\n      <td>1.600000e+01</td>\n    </tr>\n    <tr>\n      <th>25%</th>\n      <td>1.0</td>\n      <td>1.0</td>\n      <td>2.400000e+01</td>\n    </tr>\n    <tr>\n      <th>50%</th>\n      <td>1.0</td>\n      <td>1.0</td>\n      <td>3.200000e+01</td>\n    </tr>\n    <tr>\n      <th>75%</th>\n      <td>1.0</td>\n      <td>1.0</td>\n      <td>4.900000e+01</td>\n    </tr>\n    <tr>\n      <th>max</th>\n      <td>1.0</td>\n      <td>1.0</td>\n      <td>9.900000e+01</td>\n    </tr>\n  </tbody>\n</table>\n</div>"
     },
     "execution_count": 15,
     "metadata": {},
     "output_type": "execute_result"
    }
   ],
   "source": [
    "customers.describe()"
   ],
   "metadata": {
    "collapsed": false,
    "ExecuteTime": {
     "end_time": "2023-10-09T14:39:16.799310Z",
     "start_time": "2023-10-09T14:39:16.638944Z"
    }
   }
  },
  {
   "cell_type": "markdown",
   "source": [
    "FN and Active are boolean values, and all of the ages seem normal and range from 16 to  99."
   ],
   "metadata": {
    "collapsed": false
   }
  },
  {
   "cell_type": "markdown",
   "source": [],
   "metadata": {
    "collapsed": false
   }
  },
  {
   "cell_type": "code",
   "execution_count": 16,
   "outputs": [
    {
     "name": "stdout",
     "output_type": "stream",
     "text": [
      "customer_id               1371980\n",
      "FN                         476930\n",
      "Active                     464404\n",
      "club_member_status        1365918\n",
      "fashion_news_frequency    1355969\n",
      "age                       1356119\n",
      "postal_code               1371980\n",
      "dtype: int64\n"
     ]
    }
   ],
   "source": [
    "print(customers.count())"
   ],
   "metadata": {
    "collapsed": false,
    "ExecuteTime": {
     "end_time": "2023-10-09T14:39:20.487600Z",
     "start_time": "2023-10-09T14:39:20.269235Z"
    }
   }
  },
  {
   "cell_type": "markdown",
   "source": [
    "There's alot of missing values with 1371980 unique customers. Lets investigate."
   ],
   "metadata": {
    "collapsed": false
   }
  },
  {
   "cell_type": "code",
   "execution_count": 17,
   "outputs": [
    {
     "name": "stdout",
     "output_type": "stream",
     "text": [
      "customer_id                    0\n",
      "FN                        895050\n",
      "Active                    907576\n",
      "club_member_status          6062\n",
      "fashion_news_frequency     16011\n",
      "age                        15861\n",
      "postal_code                    0\n",
      "dtype: int64\n"
     ]
    }
   ],
   "source": [
    "print(customers.isna().sum())"
   ],
   "metadata": {
    "collapsed": false,
    "ExecuteTime": {
     "end_time": "2023-10-09T14:39:22.564673Z",
     "start_time": "2023-10-09T14:39:22.455130Z"
    }
   }
  },
  {
   "cell_type": "markdown",
   "source": [
    "Upon investigating, we see that alot of the missing values come from boolean the columns FN and Active. The age column has a large amount of missing values aswell, which is weird. Thhe club_member_status and fashion_news_frequency has a large amount of missing values aswell, maybe these columns were added later on."
   ],
   "metadata": {
    "collapsed": false
   }
  },
  {
   "cell_type": "code",
   "execution_count": 18,
   "outputs": [
    {
     "name": "stdout",
     "output_type": "stream",
     "text": [
      "customer_id               1371980\n",
      "FN                              1\n",
      "Active                          1\n",
      "club_member_status              3\n",
      "fashion_news_frequency          3\n",
      "age                            84\n",
      "postal_code                352899\n",
      "dtype: int64\n"
     ]
    }
   ],
   "source": [
    "print(customers.nunique())"
   ],
   "metadata": {
    "collapsed": false,
    "ExecuteTime": {
     "end_time": "2023-10-09T14:39:26.159108Z",
     "start_time": "2023-10-09T14:39:25.488631Z"
    }
   }
  },
  {
   "cell_type": "markdown",
   "source": [
    "Everything seems ok here. Confirming what was already said with the club_member_status and fashion_news_frequency having 3 unique values and NaN values."
   ],
   "metadata": {
    "collapsed": false
   }
  },
  {
   "cell_type": "code",
   "execution_count": 19,
   "outputs": [
    {
     "name": "stdout",
     "output_type": "stream",
     "text": [
      "FN\n",
      "NaN    0.652378\n",
      "1.0    0.347622\n",
      "Name: proportion, dtype: float64\n",
      "\n",
      "Active\n",
      "NaN    0.661508\n",
      "1.0    0.338492\n",
      "Name: proportion, dtype: float64\n",
      "\n",
      "club_member_status\n",
      "ACTIVE        0.927485\n",
      "PRE-CREATE    0.067756\n",
      "NaN           0.004418\n",
      "LEFT CLUB     0.000340\n",
      "Name: proportion, dtype: float64\n",
      "\n",
      "fashion_news_frequency\n",
      "NONE         0.639740\n",
      "Regularly    0.347976\n",
      "NaN          0.011670\n",
      "Monthly      0.000614\n",
      "Name: proportion, dtype: float64\n"
     ]
    }
   ],
   "source": [
    "print(customers['FN'].value_counts(dropna=False, normalize=True))\n",
    "print()\n",
    "print(customers['Active'].value_counts(dropna=False, normalize=True))\n",
    "print()\n",
    "print(customers['club_member_status'].value_counts(dropna=False, normalize=True))\n",
    "print()\n",
    "print(customers['fashion_news_frequency'].value_counts(dropna=False, normalize=True))"
   ],
   "metadata": {
    "collapsed": false,
    "ExecuteTime": {
     "end_time": "2023-10-09T14:39:29.577439Z",
     "start_time": "2023-10-09T14:39:29.547636Z"
    }
   }
  },
  {
   "cell_type": "markdown",
   "source": [
    "The NaN in fashion_news_frequency can be filled with NONE, and the NaN in club_member_status is a bit trickier, since it could be any of the 3 unique values.\n",
    "\n",
    "With Active and FN we can replace the NaN's with 0 to complete the boolean attribute."
   ],
   "metadata": {
    "collapsed": false
   }
  },
  {
   "cell_type": "code",
   "execution_count": 20,
   "outputs": [
    {
     "name": "stdout",
     "output_type": "stream",
     "text": [
      "age\n",
      "21.0    67530\n",
      "24.0    56124\n",
      "20.0    55196\n",
      "25.0    54989\n",
      "23.0    54867\n",
      "        ...  \n",
      "98.0        7\n",
      "97.0        4\n",
      "93.0        4\n",
      "96.0        3\n",
      "94.0        3\n",
      "Name: count, Length: 85, dtype: int64\n"
     ]
    }
   ],
   "source": [
    "print(customers['age'].value_counts(dropna=False))"
   ],
   "metadata": {
    "collapsed": false,
    "ExecuteTime": {
     "end_time": "2023-10-09T14:39:32.736114Z",
     "start_time": "2023-10-09T14:39:32.720665Z"
    }
   }
  },
  {
   "cell_type": "markdown",
   "source": [
    "There aren't many elderly people on H&M, most of the customers are between 20-30 years."
   ],
   "metadata": {
    "collapsed": false
   }
  },
  {
   "cell_type": "code",
   "execution_count": 21,
   "outputs": [
    {
     "data": {
      "text/plain": "<seaborn.axisgrid.FacetGrid at 0x11eaffb80>"
     },
     "execution_count": 21,
     "metadata": {},
     "output_type": "execute_result"
    },
    {
     "data": {
      "text/plain": "<Figure size 1000x500 with 1 Axes>",
      "image/png": "[encoded data removed]"
     },
     "metadata": {},
     "output_type": "display_data"
    }
   ],
   "source": [
    "sns.set_style(\"whitegrid\")\n",
    "sns.displot(customers, x=\"age\", kde=True, height=5, aspect=2, stat=\"density\", bins=int(customers.age.max()-customers.age.min())).set(title=\"Age distribution of customers\")"
   ],
   "metadata": {
    "collapsed": false,
    "ExecuteTime": {
     "end_time": "2023-10-09T14:39:41.718087Z",
     "start_time": "2023-10-09T14:39:38.932742Z"
    }
   }
  },
  {
   "cell_type": "code",
   "execution_count": 22,
   "outputs": [
    {
     "data": {
      "text/plain": "<Axes: xlabel='age'>"
     },
     "execution_count": 22,
     "metadata": {},
     "output_type": "execute_result"
    },
    {
     "data": {
      "text/plain": "<Figure size 640x480 with 1 Axes>",
      "image/png": "[encoded data removed]"
     },
     "metadata": {},
     "output_type": "display_data"
    }
   ],
   "source": [
    "sns.boxplot(x=customers.age)\n"
   ],
   "metadata": {
    "collapsed": false,
    "ExecuteTime": {
     "end_time": "2023-10-09T14:39:45.824720Z",
     "start_time": "2023-10-09T14:39:44.636974Z"
    }
   }
  },
  {
   "cell_type": "code",
   "execution_count": 23,
   "outputs": [
    {
     "name": "stdout",
     "output_type": "stream",
     "text": [
      "postal_code\n",
      "2c29ae653a9282cce4151bd87643c907644e09541abc28ae87dea0d1f6603b1c    120303\n",
      "cc4ed85e30f4977dae47662ddc468cd2eec11472de6fac5ec985080fd92243c8       261\n",
      "714976379549eb90aae4a71bca6c7402cc646ae7c40f6c1cb91d4b5a18623fc1       159\n",
      "7c1fa3b0ec1d37ce2c3f34f63bd792f3b4494f324b6be5d1e4ba6a75456b96a7       157\n",
      "5b7eb31eabebd3277de632b82267286d847fd5d44287ee150bb4206b48439145       156\n",
      "                                                                     ...  \n",
      "16dd7e391f305b54c01ffed87c189e33de83158d0a808d1b346222703742f638         1\n",
      "5ce1c699380b3c13655347c9636043f5e64ec2538a1ee7d42dd253a584577630         1\n",
      "afdedc642d01efeefec6fc8d3394724a71888ebd0ff0311eff6f34946589479d         1\n",
      "4c8838d278d23029c920b9684fa4cf30a532428a445afb300eeb288685cf00e1         1\n",
      "0a1a03306fb2f62164c2a439b38c0caa64b40deaae868799ccb93ac69444b79d         1\n",
      "Name: count, Length: 352899, dtype: int64\n"
     ]
    }
   ],
   "source": [
    "print(customers.postal_code.value_counts(dropna=False))"
   ],
   "metadata": {
    "collapsed": false,
    "ExecuteTime": {
     "end_time": "2023-10-09T14:39:47.241Z",
     "start_time": "2023-10-09T14:39:47.137912Z"
    }
   }
  },
  {
   "cell_type": "markdown",
   "source": [
    "There is something weird going on with the postal_codes, where 120303 customers have the same postal code. Can this this be viewed as a default value maybe?"
   ],
   "metadata": {
    "collapsed": false
   }
  },
  {
   "cell_type": "markdown",
   "source": [
    "# Transactions"
   ],
   "metadata": {
    "collapsed": false
   }
  },
  {
   "cell_type": "code",
   "execution_count": 24,
   "outputs": [
    {
     "data": {
      "text/plain": "        t_dat                                        customer_id  article_id  \\\n0  2018-09-20  000058a12d5b43e67d225668fa1f8d618c13dc232df0ca...  0663713001   \n1  2018-09-20  000058a12d5b43e67d225668fa1f8d618c13dc232df0ca...  0541518023   \n2  2018-09-20  00007d2de826758b65a93dd24ce629ed66842531df6699...  0505221004   \n3  2018-09-20  00007d2de826758b65a93dd24ce629ed66842531df6699...  0685687003   \n4  2018-09-20  00007d2de826758b65a93dd24ce629ed66842531df6699...  0685687004   \n\n      price  sales_channel_id  \n0  0.050831                 2  \n1  0.030492                 2  \n2  0.015237                 2  \n3  0.016932                 2  \n4  0.016932                 2  ",
      "text/html": "<div>\n<style scoped>\n    .dataframe tbody tr th:only-of-type {\n        vertical-align: middle;\n    }\n\n    .dataframe tbody tr th {\n        vertical-align: top;\n    }\n\n    .dataframe thead th {\n        text-align: right;\n    }\n</style>\n<table border=\"1\" class=\"dataframe\">\n  <thead>\n    <tr style=\"text-align: right;\">\n      <th></th>\n      <th>t_dat</th>\n      <th>customer_id</th>\n      <th>article_id</th>\n      <th>price</th>\n      <th>sales_channel_id</th>\n    </tr>\n  </thead>\n  <tbody>\n    <tr>\n      <th>0</th>\n      <td>2018-09-20</td>\n      <td>000058a12d5b43e67d225668fa1f8d618c13dc232df0ca...</td>\n      <td>0663713001</td>\n      <td>0.050831</td>\n      <td>2</td>\n    </tr>\n    <tr>\n      <th>1</th>\n      <td>2018-09-20</td>\n      <td>000058a12d5b43e67d225668fa1f8d618c13dc232df0ca...</td>\n      <td>0541518023</td>\n      <td>0.030492</td>\n      <td>2</td>\n    </tr>\n    <tr>\n      <th>2</th>\n      <td>2018-09-20</td>\n      <td>00007d2de826758b65a93dd24ce629ed66842531df6699...</td>\n      <td>0505221004</td>\n      <td>0.015237</td>\n      <td>2</td>\n    </tr>\n    <tr>\n      <th>3</th>\n      <td>2018-09-20</td>\n      <td>00007d2de826758b65a93dd24ce629ed66842531df6699...</td>\n      <td>0685687003</td>\n      <td>0.016932</td>\n      <td>2</td>\n    </tr>\n    <tr>\n      <th>4</th>\n      <td>2018-09-20</td>\n      <td>00007d2de826758b65a93dd24ce629ed66842531df6699...</td>\n      <td>0685687004</td>\n      <td>0.016932</td>\n      <td>2</td>\n    </tr>\n  </tbody>\n</table>\n</div>"
     },
     "execution_count": 24,
     "metadata": {},
     "output_type": "execute_result"
    }
   ],
   "source": [
    "transactions_train.head()"
   ],
   "metadata": {
    "collapsed": false,
    "ExecuteTime": {
     "end_time": "2023-10-09T14:39:51.154473Z",
     "start_time": "2023-10-09T14:39:51.148160Z"
    }
   }
  },
  {
   "cell_type": "code",
   "execution_count": 25,
   "outputs": [
    {
     "data": {
      "text/plain": "               t_dat                                        customer_id  \\\n31788319  2020-09-22  fff2282977442e327b45d8c89afde25617d00124d0f999...   \n31788320  2020-09-22  fff2282977442e327b45d8c89afde25617d00124d0f999...   \n31788321  2020-09-22  fff380805474b287b05cb2a7507b9a013482f7dd0bce0e...   \n31788322  2020-09-22  fff4d3a8b1f3b60af93e78c30a7cb4cf75edaf2590d3e5...   \n31788323  2020-09-22  fffef3b6b73545df065b521e19f64bf6fe93bfd450ab20...   \n\n          article_id     price  sales_channel_id  \n31788319  0929511001  0.059305                 2  \n31788320  0891322004  0.042356                 2  \n31788321  0918325001  0.043203                 1  \n31788322  0833459002  0.006763                 1  \n31788323  0898573003  0.033881                 2  ",
      "text/html": "<div>\n<style scoped>\n    .dataframe tbody tr th:only-of-type {\n        vertical-align: middle;\n    }\n\n    .dataframe tbody tr th {\n        vertical-align: top;\n    }\n\n    .dataframe thead th {\n        text-align: right;\n    }\n</style>\n<table border=\"1\" class=\"dataframe\">\n  <thead>\n    <tr style=\"text-align: right;\">\n      <th></th>\n      <th>t_dat</th>\n      <th>customer_id</th>\n      <th>article_id</th>\n      <th>price</th>\n      <th>sales_channel_id</th>\n    </tr>\n  </thead>\n  <tbody>\n    <tr>\n      <th>31788319</th>\n      <td>2020-09-22</td>\n      <td>fff2282977442e327b45d8c89afde25617d00124d0f999...</td>\n      <td>0929511001</td>\n      <td>0.059305</td>\n      <td>2</td>\n    </tr>\n    <tr>\n      <th>31788320</th>\n      <td>2020-09-22</td>\n      <td>fff2282977442e327b45d8c89afde25617d00124d0f999...</td>\n      <td>0891322004</td>\n      <td>0.042356</td>\n      <td>2</td>\n    </tr>\n    <tr>\n      <th>31788321</th>\n      <td>2020-09-22</td>\n      <td>fff380805474b287b05cb2a7507b9a013482f7dd0bce0e...</td>\n      <td>0918325001</td>\n      <td>0.043203</td>\n      <td>1</td>\n    </tr>\n    <tr>\n      <th>31788322</th>\n      <td>2020-09-22</td>\n      <td>fff4d3a8b1f3b60af93e78c30a7cb4cf75edaf2590d3e5...</td>\n      <td>0833459002</td>\n      <td>0.006763</td>\n      <td>1</td>\n    </tr>\n    <tr>\n      <th>31788323</th>\n      <td>2020-09-22</td>\n      <td>fffef3b6b73545df065b521e19f64bf6fe93bfd450ab20...</td>\n      <td>0898573003</td>\n      <td>0.033881</td>\n      <td>2</td>\n    </tr>\n  </tbody>\n</table>\n</div>"
     },
     "execution_count": 25,
     "metadata": {},
     "output_type": "execute_result"
    }
   ],
   "source": [
    "transactions_train.tail()"
   ],
   "metadata": {
    "collapsed": false,
    "ExecuteTime": {
     "end_time": "2023-10-09T14:39:53.742915Z",
     "start_time": "2023-10-09T14:39:53.727406Z"
    }
   }
  },
  {
   "cell_type": "markdown",
   "source": [
    "Only 5 columns and each transaction is linked to 1 article"
   ],
   "metadata": {
    "collapsed": false
   }
  },
  {
   "cell_type": "code",
   "execution_count": 26,
   "outputs": [
    {
     "data": {
      "text/plain": "                price sales_channel_id\ncount  31788324.00000   31788324.00000\nmean          0.02783          1.70403\nstd           0.01918          0.45648\nmin           0.00002          1.00000\n25%           0.01581          1.00000\n50%           0.02541          2.00000\n75%           0.03388          2.00000\nmax           0.59153          2.00000",
      "text/html": "<div>\n<style scoped>\n    .dataframe tbody tr th:only-of-type {\n        vertical-align: middle;\n    }\n\n    .dataframe tbody tr th {\n        vertical-align: top;\n    }\n\n    .dataframe thead th {\n        text-align: right;\n    }\n</style>\n<table border=\"1\" class=\"dataframe\">\n  <thead>\n    <tr style=\"text-align: right;\">\n      <th></th>\n      <th>price</th>\n      <th>sales_channel_id</th>\n    </tr>\n  </thead>\n  <tbody>\n    <tr>\n      <th>count</th>\n      <td>31788324.00000</td>\n      <td>31788324.00000</td>\n    </tr>\n    <tr>\n      <th>mean</th>\n      <td>0.02783</td>\n      <td>1.70403</td>\n    </tr>\n    <tr>\n      <th>std</th>\n      <td>0.01918</td>\n      <td>0.45648</td>\n    </tr>\n    <tr>\n      <th>min</th>\n      <td>0.00002</td>\n      <td>1.00000</td>\n    </tr>\n    <tr>\n      <th>25%</th>\n      <td>0.01581</td>\n      <td>1.00000</td>\n    </tr>\n    <tr>\n      <th>50%</th>\n      <td>0.02541</td>\n      <td>2.00000</td>\n    </tr>\n    <tr>\n      <th>75%</th>\n      <td>0.03388</td>\n      <td>2.00000</td>\n    </tr>\n    <tr>\n      <th>max</th>\n      <td>0.59153</td>\n      <td>2.00000</td>\n    </tr>\n  </tbody>\n</table>\n</div>"
     },
     "execution_count": 26,
     "metadata": {},
     "output_type": "execute_result"
    }
   ],
   "source": [
    "transactions_train.describe().apply(lambda s: s.apply('{0:.5f}'.format))"
   ],
   "metadata": {
    "collapsed": false,
    "ExecuteTime": {
     "end_time": "2023-10-09T14:39:57.941625Z",
     "start_time": "2023-10-09T14:39:56.342581Z"
    }
   }
  },
  {
   "cell_type": "markdown",
   "source": [
    "The price format seems a bit weird, let's pull up a graph to get a better look."
   ],
   "metadata": {
    "collapsed": false
   }
  },
  {
   "cell_type": "code",
   "execution_count": 27,
   "outputs": [
    {
     "data": {
      "text/plain": "[Text(0.5, 1.0, 'Price distribution of transactions')]"
     },
     "execution_count": 27,
     "metadata": {},
     "output_type": "execute_result"
    },
    {
     "data": {
      "text/plain": "<Figure size 640x480 with 1 Axes>",
      "image/png": "[encoded data removed]"
     },
     "metadata": {},
     "output_type": "display_data"
    }
   ],
   "source": [
    "sns.set_style(\"whitegrid\")\n",
    "sns.histplot(transactions_train.price, bins=100, kde=True).set(title=\"Price distribution of transactions\")"
   ],
   "metadata": {
    "collapsed": false,
    "ExecuteTime": {
     "end_time": "2023-10-09T14:41:23.461197Z",
     "start_time": "2023-10-09T14:40:03.726090Z"
    }
   }
  },
  {
   "cell_type": "markdown",
   "source": [
    "The distribution is still very weird, but we can see that most of the articles have a price between 0 and 0.05"
   ],
   "metadata": {
    "collapsed": false
   }
  },
  {
   "cell_type": "code",
   "execution_count": 28,
   "outputs": [
    {
     "name": "stdout",
     "output_type": "stream",
     "text": [
      "t_dat               0\n",
      "customer_id         0\n",
      "article_id          0\n",
      "price               0\n",
      "sales_channel_id    0\n",
      "dtype: int64\n"
     ]
    }
   ],
   "source": [
    "print(transactions_train.isna().sum())"
   ],
   "metadata": {
    "collapsed": false,
    "ExecuteTime": {
     "end_time": "2023-10-09T14:41:32.640010Z",
     "start_time": "2023-10-09T14:41:32.477738Z"
    }
   }
  },
  {
   "cell_type": "code",
   "execution_count": 29,
   "outputs": [
    {
     "name": "stdout",
     "output_type": "stream",
     "text": [
      "t_dat                   734\n",
      "customer_id         1362281\n",
      "article_id           104547\n",
      "price                  9857\n",
      "sales_channel_id          2\n",
      "dtype: int64\n"
     ]
    }
   ],
   "source": [
    "print(transactions_train.nunique())"
   ],
   "metadata": {
    "collapsed": false,
    "ExecuteTime": {
     "end_time": "2023-10-09T14:41:44.143033Z",
     "start_time": "2023-10-09T14:41:37.056903Z"
    }
   }
  },
  {
   "cell_type": "markdown",
   "source": [
    "1,362,281 customers over a span of 2 years with no missing values. Everything seems correct here. The only weird thing is the price format."
   ],
   "metadata": {
    "collapsed": false
   }
  },
  {
   "cell_type": "markdown",
   "source": [],
   "metadata": {
    "collapsed": false
   }
  },
  {
   "cell_type": "markdown",
   "source": [
    "# Sample submission"
   ],
   "metadata": {
    "collapsed": false
   }
  },
  {
   "cell_type": "code",
   "execution_count": 30,
   "outputs": [
    {
     "data": {
      "text/plain": "                                         customer_id  \\\n0  00000dbacae5abe5e23885899a1fa44253a17956c6d1c3...   \n1  0000423b00ade91418cceaf3b26c6af3dd342b51fd051e...   \n2  000058a12d5b43e67d225668fa1f8d618c13dc232df0ca...   \n3  00005ca1c9ed5f5146b52ac8639a40ca9d57aeff4d1bd2...   \n4  00006413d8573cd20ed7128e53b7b13819fe5cfc2d801f...   \n\n                                          prediction  \n0  0706016001 0706016002 0372860001 0610776002 07...  \n1  0706016001 0706016002 0372860001 0610776002 07...  \n2  0706016001 0706016002 0372860001 0610776002 07...  \n3  0706016001 0706016002 0372860001 0610776002 07...  \n4  0706016001 0706016002 0372860001 0610776002 07...  ",
      "text/html": "<div>\n<style scoped>\n    .dataframe tbody tr th:only-of-type {\n        vertical-align: middle;\n    }\n\n    .dataframe tbody tr th {\n        vertical-align: top;\n    }\n\n    .dataframe thead th {\n        text-align: right;\n    }\n</style>\n<table border=\"1\" class=\"dataframe\">\n  <thead>\n    <tr style=\"text-align: right;\">\n      <th></th>\n      <th>customer_id</th>\n      <th>prediction</th>\n    </tr>\n  </thead>\n  <tbody>\n    <tr>\n      <th>0</th>\n      <td>00000dbacae5abe5e23885899a1fa44253a17956c6d1c3...</td>\n      <td>0706016001 0706016002 0372860001 0610776002 07...</td>\n    </tr>\n    <tr>\n      <th>1</th>\n      <td>0000423b00ade91418cceaf3b26c6af3dd342b51fd051e...</td>\n      <td>0706016001 0706016002 0372860001 0610776002 07...</td>\n    </tr>\n    <tr>\n      <th>2</th>\n      <td>000058a12d5b43e67d225668fa1f8d618c13dc232df0ca...</td>\n      <td>0706016001 0706016002 0372860001 0610776002 07...</td>\n    </tr>\n    <tr>\n      <th>3</th>\n      <td>00005ca1c9ed5f5146b52ac8639a40ca9d57aeff4d1bd2...</td>\n      <td>0706016001 0706016002 0372860001 0610776002 07...</td>\n    </tr>\n    <tr>\n      <th>4</th>\n      <td>00006413d8573cd20ed7128e53b7b13819fe5cfc2d801f...</td>\n      <td>0706016001 0706016002 0372860001 0610776002 07...</td>\n    </tr>\n  </tbody>\n</table>\n</div>"
     },
     "execution_count": 30,
     "metadata": {},
     "output_type": "execute_result"
    }
   ],
   "source": [
    "sample_submission.head()"
   ],
   "metadata": {
    "collapsed": false,
    "ExecuteTime": {
     "end_time": "2023-10-09T14:41:47.891838Z",
     "start_time": "2023-10-09T14:41:47.882635Z"
    }
   }
  },
  {
   "cell_type": "code",
   "execution_count": 31,
   "outputs": [
    {
     "data": {
      "text/plain": "                                               customer_id  \\\n1371975  ffffbbf78b6eaac697a8a5dfbfd2bfa8113ee5b403e474...   \n1371976  ffffcd5046a6143d29a04fb8c424ce494a76e5cdf4fab5...   \n1371977  ffffcf35913a0bee60e8741cb2b4e78b8a98ee5ff2e6a1...   \n1371978  ffffd7744cebcf3aca44ae7049d2a94b87074c3d4ffe38...   \n1371979  ffffd9ac14e89946416d80e791d064701994755c3ab686...   \n\n                                                prediction  \n1371975  0706016001 0706016002 0372860001 0610776002 07...  \n1371976  0706016001 0706016002 0372860001 0610776002 07...  \n1371977  0706016001 0706016002 0372860001 0610776002 07...  \n1371978  0706016001 0706016002 0372860001 0610776002 07...  \n1371979  0706016001 0706016002 0372860001 0610776002 07...  ",
      "text/html": "<div>\n<style scoped>\n    .dataframe tbody tr th:only-of-type {\n        vertical-align: middle;\n    }\n\n    .dataframe tbody tr th {\n        vertical-align: top;\n    }\n\n    .dataframe thead th {\n        text-align: right;\n    }\n</style>\n<table border=\"1\" class=\"dataframe\">\n  <thead>\n    <tr style=\"text-align: right;\">\n      <th></th>\n      <th>customer_id</th>\n      <th>prediction</th>\n    </tr>\n  </thead>\n  <tbody>\n    <tr>\n      <th>1371975</th>\n      <td>ffffbbf78b6eaac697a8a5dfbfd2bfa8113ee5b403e474...</td>\n      <td>0706016001 0706016002 0372860001 0610776002 07...</td>\n    </tr>\n    <tr>\n      <th>1371976</th>\n      <td>ffffcd5046a6143d29a04fb8c424ce494a76e5cdf4fab5...</td>\n      <td>0706016001 0706016002 0372860001 0610776002 07...</td>\n    </tr>\n    <tr>\n      <th>1371977</th>\n      <td>ffffcf35913a0bee60e8741cb2b4e78b8a98ee5ff2e6a1...</td>\n      <td>0706016001 0706016002 0372860001 0610776002 07...</td>\n    </tr>\n    <tr>\n      <th>1371978</th>\n      <td>ffffd7744cebcf3aca44ae7049d2a94b87074c3d4ffe38...</td>\n      <td>0706016001 0706016002 0372860001 0610776002 07...</td>\n    </tr>\n    <tr>\n      <th>1371979</th>\n      <td>ffffd9ac14e89946416d80e791d064701994755c3ab686...</td>\n      <td>0706016001 0706016002 0372860001 0610776002 07...</td>\n    </tr>\n  </tbody>\n</table>\n</div>"
     },
     "execution_count": 31,
     "metadata": {},
     "output_type": "execute_result"
    }
   ],
   "source": [
    "sample_submission.tail()"
   ],
   "metadata": {
    "collapsed": false,
    "ExecuteTime": {
     "end_time": "2023-10-09T14:41:48.912384Z",
     "start_time": "2023-10-09T14:41:48.904918Z"
    }
   }
  },
  {
   "cell_type": "markdown",
   "source": [],
   "metadata": {
    "collapsed": false
   }
  },
  {
   "cell_type": "code",
   "execution_count": 32,
   "outputs": [
    {
     "name": "stdout",
     "output_type": "stream",
     "text": [
      "customer_id    1371980\n",
      "prediction     1371980\n",
      "dtype: int64\n"
     ]
    }
   ],
   "source": [
    "print(sample_submission.count())"
   ],
   "metadata": {
    "collapsed": false,
    "ExecuteTime": {
     "end_time": "2023-10-09T14:41:51.248967Z",
     "start_time": "2023-10-09T14:41:51.245739Z"
    }
   }
  },
  {
   "cell_type": "code",
   "execution_count": 33,
   "outputs": [
    {
     "name": "stdout",
     "output_type": "stream",
     "text": [
      "customer_id    0\n",
      "prediction     0\n",
      "dtype: int64\n"
     ]
    }
   ],
   "source": [
    "print(sample_submission.isna().sum())"
   ],
   "metadata": {
    "collapsed": false,
    "ExecuteTime": {
     "end_time": "2023-10-09T14:41:51.946359Z",
     "start_time": "2023-10-09T14:41:51.943804Z"
    }
   }
  },
  {
   "cell_type": "markdown",
   "source": [
    "No missing values, that's good."
   ],
   "metadata": {
    "collapsed": false
   }
  },
  {
   "cell_type": "code",
   "execution_count": 34,
   "outputs": [
    {
     "name": "stdout",
     "output_type": "stream",
     "text": [
      "customer_id    1371980\n",
      "prediction           1\n",
      "dtype: int64\n"
     ]
    }
   ],
   "source": [
    "print(sample_submission.nunique())"
   ],
   "metadata": {
    "collapsed": false,
    "ExecuteTime": {
     "end_time": "2023-10-09T14:41:54.286123Z",
     "start_time": "2023-10-09T14:41:53.758854Z"
    }
   }
  },
  {
   "cell_type": "markdown",
   "source": [
    "Only one prediction for all of the customers"
   ],
   "metadata": {
    "collapsed": false
   }
  },
  {
   "cell_type": "code",
   "execution_count": 35,
   "outputs": [
    {
     "name": "stdout",
     "output_type": "stream",
     "text": [
      "prediction\n",
      "0706016001 0706016002 0372860001 0610776002 0759871002 0464297007 0372860002 0610776001 0399223001 0706016003 0720125001 0156231001    1371980\n",
      "Name: count, dtype: int64\n"
     ]
    }
   ],
   "source": [
    "print(sample_submission.prediction.value_counts())"
   ],
   "metadata": {
    "collapsed": false,
    "ExecuteTime": {
     "end_time": "2023-10-09T14:41:55.778502Z",
     "start_time": "2023-10-09T14:41:55.756931Z"
    }
   }
  }
 ],
 "metadata": {
  "kernelspec": {
   "display_name": "Python 3",
   "language": "python",
   "name": "python3"
  },
  "language_info": {
   "codemirror_mode": {
    "name": "ipython",
    "version": 2
   },
   "file_extension": ".py",
   "mimetype": "text/x-python",
   "name": "python",
   "nbconvert_exporter": "python",
   "pygments_lexer": "ipython2",
   "version": "2.7.6"
  }
 },
 "nbformat": 4,
 "nbformat_minor": 0
}
