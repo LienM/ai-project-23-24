{
 "cells": [
  {
   "cell_type": "code",
   "execution_count": 1,
   "metadata": {},
   "outputs": [
    {
     "name": "stderr",
     "output_type": "stream",
     "text": [
      "/Users/casperdesmet/.pyenv/versions/3.11.5/lib/python3.11/site-packages/tqdm/auto.py:21: TqdmWarning: IProgress not found. Please update jupyter and ipywidgets. See https://ipywidgets.readthedocs.io/en/stable/user_install.html\n",
      "  from .autonotebook import tqdm as notebook_tqdm\n"
     ]
    }
   ],
   "source": [
    "from ranker import EmbeddingRanker\n",
    "from embeddings import create_image_embeddings, create_text_embeddings, concatenate_embeddings\n",
    "from evaluation import evaluate, recall, average_bestseller_rank, example_similarity, example_customer"
   ]
  },
  {
   "cell_type": "code",
   "execution_count": 2,
   "metadata": {},
   "outputs": [],
   "source": [
    "BASE_PATH = \"..\""
   ]
  },
  {
   "cell_type": "code",
   "execution_count": 4,
   "metadata": {},
   "outputs": [],
   "source": [
    "def rank(embedding_type, test_week=104, reduction_size=10, rank_method=\"plain\"):\n",
    "    embeddings = f\"{BASE_PATH}/data/embeddings/{embedding_type}_embeddings.parquet\"\n",
    "    index = f\"{BASE_PATH}/data/indices/{embedding_type}_index_{reduction_size}.ann\"\n",
    "    ranker = EmbeddingRanker(test_week, BASE_PATH, embeddings, index, reduction_size)\n",
    "    predictions = ranker.rank(rank_method)\n",
    "    predictions.to_csv(f\"{BASE_PATH}/submissions/{embedding_type}.csv.gz\", index=False)"
   ]
  },
  {
   "cell_type": "markdown",
   "metadata": {},
   "source": [
    "# Creating embeddings\n",
    "\n",
    "The following cells generate embeddings using various input datasets and embedding strategies.\n",
    "Respectively:\n",
    "- image\n",
    "- text, plain template, class token pooling\n",
    "- text, descriptive template, class token pooling\n",
    "- text, elaborative template, class token pooling\n",
    "- text, plain template, average pooling\n",
    "- text, descriptive template, average pooling\n",
    "- text, elaborative template, average pooling\n",
    "- concatenated embeddings, from image and text plain average embeddings"
   ]
  },
  {
   "cell_type": "code",
   "execution_count": null,
   "metadata": {},
   "outputs": [],
   "source": [
    "create_image_embeddings(BASE_PATH, \"data/images\", \"data/embeddings/image_embeddings.parquet\")"
   ]
  },
  {
   "cell_type": "code",
   "execution_count": null,
   "metadata": {},
   "outputs": [],
   "source": [
    "create_text_embeddings(BASE_PATH, \"data/articles.csv\", \"data/embeddings/text_plain_embeddings.parquet\", template=\"plain\", average=False)"
   ]
  },
  {
   "cell_type": "code",
   "execution_count": null,
   "metadata": {},
   "outputs": [],
   "source": [
    "create_text_embeddings(BASE_PATH, \"data/articles.csv\", \"data/embeddings/text_descriptive_embeddings.parquet\", template=\"descriptive\", average=False)"
   ]
  },
  {
   "cell_type": "code",
   "execution_count": null,
   "metadata": {},
   "outputs": [],
   "source": [
    "create_text_embeddings(BASE_PATH, \"data/articles.csv\", \"data/embeddings/text_elaborative_embeddings.parquet\", template=\"elaborative\", average=False)"
   ]
  },
  {
   "cell_type": "code",
   "execution_count": null,
   "metadata": {},
   "outputs": [],
   "source": [
    "create_text_embeddings(BASE_PATH, \"data/articles.csv\", \"data/embeddings/text_plain_average_embeddings.parquet\", template=\"plain\", average=True)"
   ]
  },
  {
   "cell_type": "code",
   "execution_count": null,
   "metadata": {},
   "outputs": [],
   "source": [
    "create_text_embeddings(BASE_PATH, \"data/articles.csv\", \"data/embeddings/text_descriptive_average_embeddings.parquet\", template=\"descriptive\", average=True)"
   ]
  },
  {
   "cell_type": "code",
   "execution_count": null,
   "metadata": {},
   "outputs": [],
   "source": [
    "create_text_embeddings(BASE_PATH, \"data/articles.csv\", \"data/embeddings/text_elaborative_average_embeddings.parquet\", template=\"elaborative\", average=True)"
   ]
  },
  {
   "cell_type": "code",
   "execution_count": null,
   "metadata": {},
   "outputs": [],
   "source": [
    "concatenate_embeddings(BASE_PATH, \"data/embeddings/text_plain_average_embeddings.parquet\", \"data/embeddings/image_embeddings.parquet\", \"data/embeddings/concatenated_embeddings.parquet\")"
   ]
  },
  {
   "cell_type": "markdown",
   "metadata": {},
   "source": [
    "# Ranking embeddings\n",
    "\n",
    "The next cells provide method calls recommending items to users using the embeddings created in the previous cells.\n",
    "Listed are the parameters of the ranking:\n",
    "- test week: week of recommendations\n",
    "- reduction size: size of the embeddings used after applying PCA dimensionality reduction\n",
    "- rank method: whether to add a set of popular items to each user profile before ranking"
   ]
  },
  {
   "cell_type": "code",
   "execution_count": null,
   "metadata": {},
   "outputs": [],
   "source": [
    "rank(\"text_plain\")"
   ]
  },
  {
   "cell_type": "code",
   "execution_count": null,
   "metadata": {},
   "outputs": [],
   "source": [
    "rank(\"text_descriptive\")"
   ]
  },
  {
   "cell_type": "code",
   "execution_count": null,
   "metadata": {},
   "outputs": [],
   "source": [
    "rank(\"text_elaborative\")"
   ]
  },
  {
   "cell_type": "code",
   "execution_count": null,
   "metadata": {},
   "outputs": [],
   "source": [
    "rank(\"text_plain_average\")"
   ]
  },
  {
   "cell_type": "code",
   "execution_count": null,
   "metadata": {},
   "outputs": [],
   "source": [
    "rank(\"text_descriptive_average\")"
   ]
  },
  {
   "cell_type": "code",
   "execution_count": null,
   "metadata": {},
   "outputs": [],
   "source": [
    "rank(\"text_elaborative_average\")"
   ]
  },
  {
   "cell_type": "code",
   "execution_count": null,
   "metadata": {},
   "outputs": [],
   "source": [
    "rank(\"image\")"
   ]
  },
  {
   "cell_type": "code",
   "execution_count": null,
   "metadata": {},
   "outputs": [],
   "source": [
    "rank(\"concatenated\")"
   ]
  },
  {
   "cell_type": "markdown",
   "metadata": {},
   "source": [
    "# Evaluation\n",
    "\n",
    "Use the MAP@12 metric to evaluate submissions. Only possible for weeks before week 105."
   ]
  },
  {
   "cell_type": "code",
   "execution_count": 7,
   "metadata": {},
   "outputs": [
    {
     "data": {
      "text/plain": [
       "0.025080605661718477"
      ]
     },
     "execution_count": 7,
     "metadata": {},
     "output_type": "execute_result"
    }
   ],
   "source": [
    "evaluate(BASE_PATH, \"submissions/baseline.csv.gz\")"
   ]
  },
  {
   "cell_type": "code",
   "execution_count": 8,
   "metadata": {},
   "outputs": [
    {
     "data": {
      "text/plain": [
       "0.002661550323226012"
      ]
     },
     "execution_count": 8,
     "metadata": {},
     "output_type": "execute_result"
    }
   ],
   "source": [
    "evaluate(BASE_PATH, \"submissions/text_plain.csv.gz\")"
   ]
  },
  {
   "cell_type": "code",
   "execution_count": 9,
   "metadata": {},
   "outputs": [
    {
     "data": {
      "text/plain": [
       "0.0026303034621545916"
      ]
     },
     "execution_count": 9,
     "metadata": {},
     "output_type": "execute_result"
    }
   ],
   "source": [
    "evaluate(BASE_PATH, \"submissions/text_descriptive.csv.gz\")"
   ]
  },
  {
   "cell_type": "code",
   "execution_count": 10,
   "metadata": {},
   "outputs": [
    {
     "data": {
      "text/plain": [
       "0.0026880948298163266"
      ]
     },
     "execution_count": 10,
     "metadata": {},
     "output_type": "execute_result"
    }
   ],
   "source": [
    "evaluate(BASE_PATH, \"submissions/text_elaborative.csv.gz\")"
   ]
  },
  {
   "cell_type": "code",
   "execution_count": 11,
   "metadata": {},
   "outputs": [
    {
     "data": {
      "text/plain": [
       "0.0029882516573240753"
      ]
     },
     "execution_count": 11,
     "metadata": {},
     "output_type": "execute_result"
    }
   ],
   "source": [
    "evaluate(BASE_PATH, \"submissions/text_plain_average.csv.gz\")"
   ]
  },
  {
   "cell_type": "code",
   "execution_count": 12,
   "metadata": {},
   "outputs": [
    {
     "data": {
      "text/plain": [
       "0.002810966063604121"
      ]
     },
     "execution_count": 12,
     "metadata": {},
     "output_type": "execute_result"
    }
   ],
   "source": [
    "evaluate(BASE_PATH, \"submissions/text_descriptive_average.csv.gz\")"
   ]
  },
  {
   "cell_type": "code",
   "execution_count": 13,
   "metadata": {},
   "outputs": [
    {
     "data": {
      "text/plain": [
       "0.002837631340666684"
      ]
     },
     "execution_count": 13,
     "metadata": {},
     "output_type": "execute_result"
    }
   ],
   "source": [
    "evaluate(BASE_PATH, \"submissions/text_elaborative_average.csv.gz\")"
   ]
  },
  {
   "cell_type": "code",
   "execution_count": 14,
   "metadata": {},
   "outputs": [
    {
     "data": {
      "text/plain": [
       "0.002358322486182535"
      ]
     },
     "execution_count": 14,
     "metadata": {},
     "output_type": "execute_result"
    }
   ],
   "source": [
    "evaluate(BASE_PATH, \"submissions/image.csv.gz\")"
   ]
  },
  {
   "cell_type": "code",
   "execution_count": 15,
   "metadata": {},
   "outputs": [
    {
     "data": {
      "text/plain": [
       "0.0019908935129062085"
      ]
     },
     "execution_count": 15,
     "metadata": {},
     "output_type": "execute_result"
    }
   ],
   "source": [
    "evaluate(BASE_PATH, \"submissions/concatenated.csv.gz\")"
   ]
  },
  {
   "cell_type": "markdown",
   "metadata": {},
   "source": [
    "# Recall\n",
    "\n",
    "Use recall to evaluate submissions. Only possible for weeks before week 105."
   ]
  },
  {
   "cell_type": "code",
   "execution_count": 16,
   "metadata": {},
   "outputs": [
    {
     "data": {
      "text/plain": [
       "0.050023692224558845"
      ]
     },
     "execution_count": 16,
     "metadata": {},
     "output_type": "execute_result"
    }
   ],
   "source": [
    "recall(BASE_PATH, \"submissions/baseline.csv.gz\")"
   ]
  },
  {
   "cell_type": "code",
   "execution_count": 17,
   "metadata": {},
   "outputs": [
    {
     "data": {
      "text/plain": [
       "0.004792798682462355"
      ]
     },
     "execution_count": 17,
     "metadata": {},
     "output_type": "execute_result"
    }
   ],
   "source": [
    "recall(BASE_PATH, \"submissions/text_plain.csv.gz\")"
   ]
  },
  {
   "cell_type": "code",
   "execution_count": 18,
   "metadata": {},
   "outputs": [
    {
     "data": {
      "text/plain": [
       "0.005156421484626903"
      ]
     },
     "execution_count": 18,
     "metadata": {},
     "output_type": "execute_result"
    }
   ],
   "source": [
    "recall(BASE_PATH, \"submissions/text_descriptive.csv.gz\")"
   ]
  },
  {
   "cell_type": "code",
   "execution_count": 19,
   "metadata": {},
   "outputs": [
    {
     "data": {
      "text/plain": [
       "0.004974840250357991"
      ]
     },
     "execution_count": 19,
     "metadata": {},
     "output_type": "execute_result"
    }
   ],
   "source": [
    "recall(BASE_PATH, \"submissions/text_elaborative.csv.gz\")"
   ]
  },
  {
   "cell_type": "code",
   "execution_count": 20,
   "metadata": {},
   "outputs": [
    {
     "data": {
      "text/plain": [
       "0.005501204882207673"
      ]
     },
     "execution_count": 20,
     "metadata": {},
     "output_type": "execute_result"
    }
   ],
   "source": [
    "recall(BASE_PATH, \"submissions/text_plain_average.csv.gz\")"
   ]
  },
  {
   "cell_type": "code",
   "execution_count": 21,
   "metadata": {},
   "outputs": [
    {
     "data": {
      "text/plain": [
       "0.00539605569123474"
      ]
     },
     "execution_count": 21,
     "metadata": {},
     "output_type": "execute_result"
    }
   ],
   "source": [
    "recall(BASE_PATH, \"submissions/text_descriptive_average.csv.gz\")"
   ]
  },
  {
   "cell_type": "code",
   "execution_count": 22,
   "metadata": {},
   "outputs": [
    {
     "data": {
      "text/plain": [
       "0.005469688229976411"
      ]
     },
     "execution_count": 22,
     "metadata": {},
     "output_type": "execute_result"
    }
   ],
   "source": [
    "recall(BASE_PATH, \"submissions/text_elaborative_average.csv.gz\")"
   ]
  },
  {
   "cell_type": "code",
   "execution_count": 23,
   "metadata": {},
   "outputs": [
    {
     "data": {
      "text/plain": [
       "0.0034448756405003923"
      ]
     },
     "execution_count": 23,
     "metadata": {},
     "output_type": "execute_result"
    }
   ],
   "source": [
    "recall(BASE_PATH, \"submissions/image.csv.gz\")"
   ]
  },
  {
   "cell_type": "code",
   "execution_count": 24,
   "metadata": {},
   "outputs": [
    {
     "data": {
      "text/plain": [
       "0.0031103364728088624"
      ]
     },
     "execution_count": 24,
     "metadata": {},
     "output_type": "execute_result"
    }
   ],
   "source": [
    "recall(BASE_PATH, \"submissions/concatenated.csv.gz\")"
   ]
  },
  {
   "cell_type": "markdown",
   "metadata": {},
   "source": [
    "# Evaluation\n",
    "\n",
    "Use the average bestseller rank to guage how much popularity was used to generate recomendations."
   ]
  },
  {
   "cell_type": "code",
   "execution_count": 25,
   "metadata": {},
   "outputs": [
    {
     "data": {
      "text/plain": [
       "24.739998560159766"
      ]
     },
     "execution_count": 25,
     "metadata": {},
     "output_type": "execute_result"
    }
   ],
   "source": [
    "average_bestseller_rank(BASE_PATH, \"submissions/baseline.csv.gz\")"
   ]
  },
  {
   "cell_type": "code",
   "execution_count": 26,
   "metadata": {},
   "outputs": [
    {
     "data": {
      "text/plain": [
       "274.1715304786346"
      ]
     },
     "execution_count": 26,
     "metadata": {},
     "output_type": "execute_result"
    }
   ],
   "source": [
    "average_bestseller_rank(BASE_PATH, \"submissions/text_plain.csv.gz\")"
   ]
  },
  {
   "cell_type": "code",
   "execution_count": 27,
   "metadata": {},
   "outputs": [
    {
     "data": {
      "text/plain": [
       "274.2201845885987"
      ]
     },
     "execution_count": 27,
     "metadata": {},
     "output_type": "execute_result"
    }
   ],
   "source": [
    "average_bestseller_rank(BASE_PATH, \"submissions/text_descriptive.csv.gz\")"
   ]
  },
  {
   "cell_type": "code",
   "execution_count": 28,
   "metadata": {},
   "outputs": [
    {
     "data": {
      "text/plain": [
       "274.8891417400807"
      ]
     },
     "execution_count": 28,
     "metadata": {},
     "output_type": "execute_result"
    }
   ],
   "source": [
    "average_bestseller_rank(BASE_PATH, \"submissions/text_elaborative.csv.gz\")"
   ]
  },
  {
   "cell_type": "code",
   "execution_count": 29,
   "metadata": {},
   "outputs": [
    {
     "data": {
      "text/plain": [
       "272.7340280062186"
      ]
     },
     "execution_count": 29,
     "metadata": {},
     "output_type": "execute_result"
    }
   ],
   "source": [
    "average_bestseller_rank(BASE_PATH, \"submissions/text_plain_average.csv.gz\")"
   ]
  },
  {
   "cell_type": "code",
   "execution_count": 30,
   "metadata": {},
   "outputs": [
    {
     "data": {
      "text/plain": [
       "273.3873839826865"
      ]
     },
     "execution_count": 30,
     "metadata": {},
     "output_type": "execute_result"
    }
   ],
   "source": [
    "average_bestseller_rank(BASE_PATH, \"submissions/text_descriptive_average.csv.gz\")"
   ]
  },
  {
   "cell_type": "code",
   "execution_count": 31,
   "metadata": {},
   "outputs": [
    {
     "data": {
      "text/plain": [
       "273.0164470719274"
      ]
     },
     "execution_count": 31,
     "metadata": {},
     "output_type": "execute_result"
    }
   ],
   "source": [
    "average_bestseller_rank(BASE_PATH, \"submissions/text_elaborative_average.csv.gz\")"
   ]
  },
  {
   "cell_type": "code",
   "execution_count": 32,
   "metadata": {},
   "outputs": [
    {
     "data": {
      "text/plain": [
       "273.9967587981713"
      ]
     },
     "execution_count": 32,
     "metadata": {},
     "output_type": "execute_result"
    }
   ],
   "source": [
    "average_bestseller_rank(BASE_PATH, \"submissions/image.csv.gz\")"
   ]
  },
  {
   "cell_type": "code",
   "execution_count": 33,
   "metadata": {},
   "outputs": [
    {
     "data": {
      "text/plain": [
       "273.5875300571965"
      ]
     },
     "execution_count": 33,
     "metadata": {},
     "output_type": "execute_result"
    }
   ],
   "source": [
    "average_bestseller_rank(BASE_PATH, \"submissions/concatenated.csv.gz\")"
   ]
  },
  {
   "cell_type": "markdown",
   "metadata": {},
   "source": [
    "# Examples\n",
    "\n",
    "Methods to generate examples of similarity between items and user profiles."
   ]
  },
  {
   "cell_type": "code",
   "execution_count": 34,
   "metadata": {},
   "outputs": [
    {
     "name": "stdout",
     "output_type": "stream",
     "text": [
      "article text: Basic co/fl cardigan, Cardigan, Garment Upper body, Solid, Turquoise, Medium Dusty, Turquoise, Baby basics, Baby Sizes 50-98, Baby/Children, Baby Essentials & Complements, Jersey Basic, Cardigan in soft organic cotton sweatshirt fabric with a stand-up collar, press-studs down the front, and ribbing around the neckline, cuffs and hem. Soft brushed inside.\n",
      "most similar article on text embeddings: 290519017\n",
      "most similar article text: Basic co/fl cardigan, Cardigan, Garment Upper body, Solid, Pink, Medium Dusty, Pink, Baby basics, Baby Sizes 50-98, Baby/Children, Baby Essentials & Complements, Jersey Basic, Cardigan in soft organic cotton sweatshirt fabric with a stand-up collar, press-studs down the front, and ribbing around the neckline, cuffs and hem. Soft brushed inside.\n",
      "most similar article on image embeddings: 318951002\n"
     ]
    }
   ],
   "source": [
    "article_id = 290519011\n",
    "example_similarity(BASE_PATH, article_id)"
   ]
  },
  {
   "cell_type": "code",
   "execution_count": 3,
   "metadata": {},
   "outputs": [
    {
     "name": "stdout",
     "output_type": "stream",
     "text": [
      "user_profile=array([627769007, 703296001, 705827001], dtype=int32)\n",
      "recommendations=['762618002', '762618001', '872126001', '667444003', '791896001', '800141001', '872126007', '684326001', '895289001', '894330001', '762618004', '759970001']\n",
      "user profile article texts: ['ELAINE parka, Outdoor Waistcoat, Garment Upper body, Solid, Dark Blue, Dark, Blue, Young Girl Outdoor, Children Sizes 134-170, Baby/Children, Kids Outerwear, Outdoor, Padded parka in woven fabric with a velvety finish. Detachable, pile-lined hood with a faux fur trim, zip down the front with a chin guard, and a concealed drawstring at the waist. Handwarmer pockets at the top, flap front pockets with a press-stud, and a single back vent. Quilted lining.', 'Nick Puffer, Jacket, Garment Upper body, Colour blocking, Red, Medium, Red, Jacket Casual, Menswear, Menswear, Mens Outerwear, Outdoor, Padded jacket in woven fabric with a fleece-lined stand-up collar and zip down the front. Zipped side pockets, one inner pocket with a hook and loop fastener and elastication on the inside of the cuffs and hem. Polyester filling. Lined.', 'Blake Boot BG, Boots, Shoes, Solid, Black, Dark, Black, Young Girl Shoes, Children Accessories, Swimwear, Baby/Children, Kids & Baby Shoes, Shoes, Warm-lined boots in shiny imitation leather with a zip in one side, lacing at the front and a loop at the back. Fabric linings and insoles and chunky thermoplastic rubber (TPR) soles. Heel 2 cm.']\n",
      "recommendations article texts: ['Snow Jacket, Jacket, Garment Upper body, Solid, Black, Dark, Black, Young Girl Outdoor, Children Sizes 134-170, Baby/Children, Kids Outerwear, Outdoor, Padded jacket in a quilted weave with a slight sheen. Stand-up collar, a padded, detachable hood with a faux fur trim and a zip down the front with a chin guard. Front pockets with a press-stud, a sleeve pocket with a flap and press-stud, and inner ribbing at the cuffs. Lined.', 'Snow Jacket, Jacket, Garment Upper body, Solid, White, Light, White, Young Girl Outdoor, Children Sizes 134-170, Baby/Children, Kids Outerwear, Outdoor, Padded jacket in a quilted weave with a slight sheen. Stand-up collar, a padded, detachable hood with a faux fur trim and a zip down the front with a chin guard. Front pockets with a press-stud, a sleeve pocket with a flap and press-stud, and inner ribbing at the cuffs. Lined.', 'SAMMY parka, Jacket, Garment Upper body, Solid, Black, Dark, Black, Young Girl Outdoor, Children Sizes 134-170, Baby/Children, Kids Outerwear, Outdoor, Padded parka in woven fabric with a stand-up collar, detachable, lined hood with a faux fur trim, and zip down the front with a chin guard. Handwarmer pockets at the top, fake front pockets with a decorative flap, a drawstring at the waist, and a single back vent. Faux shearling lining at the top and a quilted lining made from recycled polyester below. The padding is made from recycled polyester.']\n"
     ]
    }
   ],
   "source": [
    "customer_id = 1288838156741401\n",
    "example_customer(BASE_PATH, customer_id, \"text_plain_average\")"
   ]
  },
  {
   "cell_type": "code",
   "execution_count": 4,
   "metadata": {},
   "outputs": [
    {
     "name": "stdout",
     "output_type": "stream",
     "text": [
      "user_profile=array([627769007, 703296001, 705827001], dtype=int32)\n",
      "recommendations=['703296001', '653597001', '873419002', '801205001', '845918006', '678078001', '625196001', '625532005', '671564001', '819231002', '799973001', '842067002']\n",
      "user profile article texts: ['ELAINE parka, Outdoor Waistcoat, Garment Upper body, Solid, Dark Blue, Dark, Blue, Young Girl Outdoor, Children Sizes 134-170, Baby/Children, Kids Outerwear, Outdoor, Padded parka in woven fabric with a velvety finish. Detachable, pile-lined hood with a faux fur trim, zip down the front with a chin guard, and a concealed drawstring at the waist. Handwarmer pockets at the top, flap front pockets with a press-stud, and a single back vent. Quilted lining.', 'Nick Puffer, Jacket, Garment Upper body, Colour blocking, Red, Medium, Red, Jacket Casual, Menswear, Menswear, Mens Outerwear, Outdoor, Padded jacket in woven fabric with a fleece-lined stand-up collar and zip down the front. Zipped side pockets, one inner pocket with a hook and loop fastener and elastication on the inside of the cuffs and hem. Polyester filling. Lined.', 'Blake Boot BG, Boots, Shoes, Solid, Black, Dark, Black, Young Girl Shoes, Children Accessories, Swimwear, Baby/Children, Kids & Baby Shoes, Shoes, Warm-lined boots in shiny imitation leather with a zip in one side, lacing at the front and a loop at the back. Fabric linings and insoles and chunky thermoplastic rubber (TPR) soles. Heel 2 cm.']\n",
      "recommendations article texts: ['Nick Puffer, Jacket, Garment Upper body, Colour blocking, Red, Medium, Red, Jacket Casual, Menswear, Menswear, Mens Outerwear, Outdoor, Padded jacket in woven fabric with a fleece-lined stand-up collar and zip down the front. Zipped side pockets, one inner pocket with a hook and loop fastener and elastication on the inside of the cuffs and hem. Polyester filling. Lined.', 'DIV Kalas puffer, Jacket, Garment Upper body, Colour blocking, Dark Blue, Dark, Blue, Divided+, Divided, Divided, Divided Projects, Unknown, Short, padded jacket in woven fabric with a slight sheen. Stand-up collar, zip down the front, side pockets, elasticated cuffs and an elastic drawstring at the sides of the hem. Lined.', 'Cheapy jkt, Jacket, Garment Upper body, Solid, Dark Blue, Dark, Blue, Kids Girl Outdoor, Children Sizes 92-140, Baby/Children, Kids Outerwear, Outdoor, Lightly padded puffer jacket in a quilted weave. Detachable hood with concealed press-studs and a zip down the front with a chin guard. Discreet pockets in the side seams and narrow elastication around the hood and cuffs. Lined.']\n"
     ]
    }
   ],
   "source": [
    "customer_id = 1288838156741401\n",
    "example_customer(BASE_PATH, customer_id, \"image\")"
   ]
  }
 ],
 "metadata": {
  "kernelspec": {
   "display_name": "Python 3",
   "language": "python",
   "name": "python3"
  },
  "language_info": {
   "codemirror_mode": {
    "name": "ipython",
    "version": 3
   },
   "file_extension": ".py",
   "mimetype": "text/x-python",
   "name": "python",
   "nbconvert_exporter": "python",
   "pygments_lexer": "ipython3",
   "version": "3.11.5"
  }
 },
 "nbformat": 4,
 "nbformat_minor": 2
}
