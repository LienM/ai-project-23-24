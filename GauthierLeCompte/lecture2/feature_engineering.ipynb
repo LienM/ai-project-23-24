{
 "cells": [
  {
   "cell_type": "code",
   "execution_count": 1,
   "metadata": {
    "collapsed": true
   },
   "outputs": [],
   "source": [
    "import pandas as pd\n",
    "import math\n",
    "import seaborn as sns\n",
    "import matplotlib.pyplot as plt"
   ]
  },
  {
   "cell_type": "code",
   "execution_count": 2,
   "outputs": [],
   "source": [
    "# Load Articles\n",
    "data_dir = \"../data\"\n",
    "articles = pd.read_csv(data_dir + '/articles.csv')"
   ],
   "metadata": {
    "collapsed": false,
    "pycharm": {
     "name": "#%%\n"
    }
   }
  },
  {
   "cell_type": "code",
   "execution_count": 3,
   "outputs": [],
   "source": [
    "# Load Customers\n",
    "data_dir = \"../data\"\n",
    "customers = pd.read_csv(data_dir + '/customers.csv')"
   ],
   "metadata": {
    "collapsed": false,
    "pycharm": {
     "name": "#%%\n"
    }
   }
  },
  {
   "cell_type": "code",
   "execution_count": 4,
   "outputs": [],
   "source": [
    "# Load Transactions\n",
    "data_dir = \"../data\"\n",
    "transactions = pd.read_csv(data_dir + '/transactions_train.csv')"
   ],
   "metadata": {
    "collapsed": false,
    "pycharm": {
     "name": "#%%\n"
    }
   }
  },
  {
   "cell_type": "code",
   "execution_count": 5,
   "outputs": [
    {
     "name": "stdout",
     "output_type": "stream",
     "text": [
      "15861 Missing Values Count in 'age' replaced with mean of 36\n"
     ]
    }
   ],
   "source": [
    "###AGE###\n",
    "\n",
    "# Replacing NaN values with the mean\n",
    "missing_values = customers['age'].isna().sum()\n",
    "mean_age = math.floor(customers['age'].mean())\n",
    "customers['age'].fillna(mean_age, inplace=True)\n",
    "\n",
    "# Check for missing values after\n",
    "print(f\"{missing_values} Missing Values Count in 'age' replaced with mean of {mean_age}\")"
   ],
   "metadata": {
    "collapsed": false,
    "pycharm": {
     "name": "#%%\n"
    }
   }
  },
  {
   "cell_type": "code",
   "execution_count": 6,
   "outputs": [
    {
     "data": {
      "text/plain": "       t_dat                                        customer_id  article_id  \\\n0 2018-09-20  000058a12d5b43e67d225668fa1f8d618c13dc232df0ca...   663713001   \n1 2018-09-20  000058a12d5b43e67d225668fa1f8d618c13dc232df0ca...   541518023   \n2 2018-09-20  00007d2de826758b65a93dd24ce629ed66842531df6699...   505221004   \n3 2018-09-20  00007d2de826758b65a93dd24ce629ed66842531df6699...   685687003   \n4 2018-09-20  00007d2de826758b65a93dd24ce629ed66842531df6699...   685687004   \n\n      price  sales_channel_id  Day  Month  Year  \n0  0.050831                 2   20      9  2018  \n1  0.030492                 2   20      9  2018  \n2  0.015237                 2   20      9  2018  \n3  0.016932                 2   20      9  2018  \n4  0.016932                 2   20      9  2018  ",
      "text/html": "<div>\n<style scoped>\n    .dataframe tbody tr th:only-of-type {\n        vertical-align: middle;\n    }\n\n    .dataframe tbody tr th {\n        vertical-align: top;\n    }\n\n    .dataframe thead th {\n        text-align: right;\n    }\n</style>\n<table border=\"1\" class=\"dataframe\">\n  <thead>\n    <tr style=\"text-align: right;\">\n      <th></th>\n      <th>t_dat</th>\n      <th>customer_id</th>\n      <th>article_id</th>\n      <th>price</th>\n      <th>sales_channel_id</th>\n      <th>Day</th>\n      <th>Month</th>\n      <th>Year</th>\n    </tr>\n  </thead>\n  <tbody>\n    <tr>\n      <th>0</th>\n      <td>2018-09-20</td>\n      <td>000058a12d5b43e67d225668fa1f8d618c13dc232df0ca...</td>\n      <td>663713001</td>\n      <td>0.050831</td>\n      <td>2</td>\n      <td>20</td>\n      <td>9</td>\n      <td>2018</td>\n    </tr>\n    <tr>\n      <th>1</th>\n      <td>2018-09-20</td>\n      <td>000058a12d5b43e67d225668fa1f8d618c13dc232df0ca...</td>\n      <td>541518023</td>\n      <td>0.030492</td>\n      <td>2</td>\n      <td>20</td>\n      <td>9</td>\n      <td>2018</td>\n    </tr>\n    <tr>\n      <th>2</th>\n      <td>2018-09-20</td>\n      <td>00007d2de826758b65a93dd24ce629ed66842531df6699...</td>\n      <td>505221004</td>\n      <td>0.015237</td>\n      <td>2</td>\n      <td>20</td>\n      <td>9</td>\n      <td>2018</td>\n    </tr>\n    <tr>\n      <th>3</th>\n      <td>2018-09-20</td>\n      <td>00007d2de826758b65a93dd24ce629ed66842531df6699...</td>\n      <td>685687003</td>\n      <td>0.016932</td>\n      <td>2</td>\n      <td>20</td>\n      <td>9</td>\n      <td>2018</td>\n    </tr>\n    <tr>\n      <th>4</th>\n      <td>2018-09-20</td>\n      <td>00007d2de826758b65a93dd24ce629ed66842531df6699...</td>\n      <td>685687004</td>\n      <td>0.016932</td>\n      <td>2</td>\n      <td>20</td>\n      <td>9</td>\n      <td>2018</td>\n    </tr>\n  </tbody>\n</table>\n</div>"
     },
     "execution_count": 6,
     "metadata": {},
     "output_type": "execute_result"
    }
   ],
   "source": [
    "###Splitting t_dat into Year, Month, Day\n",
    "\n",
    "# Convert to datetime\n",
    "transactions['t_dat'] = pd.to_datetime(transactions['t_dat'])\n",
    "\n",
    "# Extracting day, month, and year\n",
    "transactions['Day'] = transactions['t_dat'].dt.day\n",
    "transactions['Month'] = transactions['t_dat'].dt.month\n",
    "transactions['Year'] = transactions['t_dat'].dt.year\n",
    "\n",
    "transactions.head()"
   ],
   "metadata": {
    "collapsed": false,
    "pycharm": {
     "name": "#%%\n"
    }
   }
  },
  {
   "cell_type": "code",
   "execution_count": 7,
   "outputs": [
    {
     "name": "stdout",
     "output_type": "stream",
     "text": [
      "       t_dat                                        customer_id  article_id  \\\n",
      "0 2018-09-20  000058a12d5b43e67d225668fa1f8d618c13dc232df0ca...   663713001   \n",
      "1 2018-09-20  000058a12d5b43e67d225668fa1f8d618c13dc232df0ca...   541518023   \n",
      "2 2018-09-20  00007d2de826758b65a93dd24ce629ed66842531df6699...   505221004   \n",
      "3 2018-09-20  00007d2de826758b65a93dd24ce629ed66842531df6699...   685687003   \n",
      "4 2018-09-20  00007d2de826758b65a93dd24ce629ed66842531df6699...   685687004   \n",
      "\n",
      "      price  sales_channel_id  Day  Month  Year  total_purchases  \n",
      "0  0.050831                 2   20      9  2018               18  \n",
      "1  0.030492                 2   20      9  2018               18  \n",
      "2  0.015237                 2   20      9  2018              120  \n",
      "3  0.016932                 2   20      9  2018              120  \n",
      "4  0.016932                 2   20      9  2018              120  \n"
     ]
    }
   ],
   "source": [
    "# Ensure 't_dat' is in datetime format\n",
    "transactions['t_dat'] = pd.to_datetime(transactions['t_dat'])\n",
    "\n",
    "# Total number of purchases per customer\n",
    "total_purchases_per_customer = transactions.groupby('customer_id').size().reset_index(name='total_purchases')\n",
    "\n",
    "# Merging the total_purchases column back to the original transactions dataframe\n",
    "transactions = pd.merge(transactions, total_purchases_per_customer, on='customer_id', how='left')\n",
    "\n",
    "# Display the DataFrame\n",
    "print(transactions.head())\n"
   ],
   "metadata": {
    "collapsed": false,
    "pycharm": {
     "name": "#%%\n"
    }
   }
  },
  {
   "cell_type": "code",
   "execution_count": 8,
   "outputs": [
    {
     "name": "stdout",
     "output_type": "stream",
     "text": [
      "       t_dat                                        customer_id  article_id  \\\n",
      "0 2018-09-20  000058a12d5b43e67d225668fa1f8d618c13dc232df0ca...   663713001   \n",
      "1 2018-09-20  000058a12d5b43e67d225668fa1f8d618c13dc232df0ca...   541518023   \n",
      "2 2018-09-20  00007d2de826758b65a93dd24ce629ed66842531df6699...   505221004   \n",
      "3 2018-09-20  00007d2de826758b65a93dd24ce629ed66842531df6699...   685687003   \n",
      "4 2018-09-20  00007d2de826758b65a93dd24ce629ed66842531df6699...   685687004   \n",
      "\n",
      "      price  sales_channel_id  Day  Month  Year  total_purchases  \\\n",
      "0  0.050831                 2   20      9  2018               18   \n",
      "1  0.030492                 2   20      9  2018               18   \n",
      "2  0.015237                 2   20      9  2018              120   \n",
      "3  0.016932                 2   20      9  2018              120   \n",
      "4  0.016932                 2   20      9  2018              120   \n",
      "\n",
      "  most_recent_purchase  recency  \n",
      "0           2020-09-15        8  \n",
      "1           2020-09-15        8  \n",
      "2           2020-05-13      133  \n",
      "3           2020-05-13      133  \n",
      "4           2020-05-13      133  \n"
     ]
    }
   ],
   "source": [
    "# Get the latest date as \"interval\"\n",
    "now = transactions['t_dat'].max() + pd.Timedelta(days=1)\n",
    "\n",
    "# Calculate the most recent purchase date for each customer\n",
    "most_recent_purchase_per_customer = transactions.groupby('customer_id')['t_dat'].max().reset_index(name='most_recent_purchase')\n",
    "\n",
    "# Calculate recency\n",
    "most_recent_purchase_per_customer['recency'] = (now - most_recent_purchase_per_customer['most_recent_purchase']).dt.days\n",
    "\n",
    "# Merging\n",
    "transactions = pd.merge(transactions, most_recent_purchase_per_customer, on='customer_id', how='left')\n",
    "\n",
    "print(transactions.head())"
   ],
   "metadata": {
    "collapsed": false,
    "pycharm": {
     "name": "#%%\n"
    }
   }
  },
  {
   "cell_type": "code",
   "execution_count": 11,
   "outputs": [],
   "source": [
    "transactions2 = pd.DataFrame(transactions)\n",
    "\n",
    "# Convert 't_dat' to datetime type if it's not\n",
    "transactions2['t_dat'] = pd.to_datetime(transactions2['t_dat'])\n",
    "\n",
    "# Get the unique weeks and sort them\n",
    "unique_weeks = sorted(transactions2['t_dat'].dt.strftime('%Y-%U').unique())\n",
    "\n",
    "# Create a mapping of week to an incrementing integer starting from 0\n",
    "week_mapping = {week: i for i, week in enumerate(unique_weeks)}\n",
    "\n",
    "# Add the custom week number to the DataFrame\n",
    "transactions2['week'] = transactions2['t_dat'].dt.strftime('%Y-%U').map(week_mapping)"
   ],
   "metadata": {
    "collapsed": false,
    "pycharm": {
     "name": "#%%\n"
    }
   }
  },
  {
   "cell_type": "code",
   "execution_count": 12,
   "outputs": [
    {
     "data": {
      "text/plain": "       t_dat                                        customer_id  article_id  \\\n0 2018-09-20  000058a12d5b43e67d225668fa1f8d618c13dc232df0ca...   663713001   \n1 2018-09-20  000058a12d5b43e67d225668fa1f8d618c13dc232df0ca...   541518023   \n2 2018-09-20  00007d2de826758b65a93dd24ce629ed66842531df6699...   505221004   \n3 2018-09-20  00007d2de826758b65a93dd24ce629ed66842531df6699...   685687003   \n4 2018-09-20  00007d2de826758b65a93dd24ce629ed66842531df6699...   685687004   \n\n      price  sales_channel_id  Day  Month  Year  total_purchases  \\\n0  0.050831                 2   20      9  2018               18   \n1  0.030492                 2   20      9  2018               18   \n2  0.015237                 2   20      9  2018              120   \n3  0.016932                 2   20      9  2018              120   \n4  0.016932                 2   20      9  2018              120   \n\n  most_recent_purchase  recency  week  \n0           2020-09-15        8     0  \n1           2020-09-15        8     0  \n2           2020-05-13      133     0  \n3           2020-05-13      133     0  \n4           2020-05-13      133     0  ",
      "text/html": "<div>\n<style scoped>\n    .dataframe tbody tr th:only-of-type {\n        vertical-align: middle;\n    }\n\n    .dataframe tbody tr th {\n        vertical-align: top;\n    }\n\n    .dataframe thead th {\n        text-align: right;\n    }\n</style>\n<table border=\"1\" class=\"dataframe\">\n  <thead>\n    <tr style=\"text-align: right;\">\n      <th></th>\n      <th>t_dat</th>\n      <th>customer_id</th>\n      <th>article_id</th>\n      <th>price</th>\n      <th>sales_channel_id</th>\n      <th>Day</th>\n      <th>Month</th>\n      <th>Year</th>\n      <th>total_purchases</th>\n      <th>most_recent_purchase</th>\n      <th>recency</th>\n      <th>week</th>\n    </tr>\n  </thead>\n  <tbody>\n    <tr>\n      <th>0</th>\n      <td>2018-09-20</td>\n      <td>000058a12d5b43e67d225668fa1f8d618c13dc232df0ca...</td>\n      <td>663713001</td>\n      <td>0.050831</td>\n      <td>2</td>\n      <td>20</td>\n      <td>9</td>\n      <td>2018</td>\n      <td>18</td>\n      <td>2020-09-15</td>\n      <td>8</td>\n      <td>0</td>\n    </tr>\n    <tr>\n      <th>1</th>\n      <td>2018-09-20</td>\n      <td>000058a12d5b43e67d225668fa1f8d618c13dc232df0ca...</td>\n      <td>541518023</td>\n      <td>0.030492</td>\n      <td>2</td>\n      <td>20</td>\n      <td>9</td>\n      <td>2018</td>\n      <td>18</td>\n      <td>2020-09-15</td>\n      <td>8</td>\n      <td>0</td>\n    </tr>\n    <tr>\n      <th>2</th>\n      <td>2018-09-20</td>\n      <td>00007d2de826758b65a93dd24ce629ed66842531df6699...</td>\n      <td>505221004</td>\n      <td>0.015237</td>\n      <td>2</td>\n      <td>20</td>\n      <td>9</td>\n      <td>2018</td>\n      <td>120</td>\n      <td>2020-05-13</td>\n      <td>133</td>\n      <td>0</td>\n    </tr>\n    <tr>\n      <th>3</th>\n      <td>2018-09-20</td>\n      <td>00007d2de826758b65a93dd24ce629ed66842531df6699...</td>\n      <td>685687003</td>\n      <td>0.016932</td>\n      <td>2</td>\n      <td>20</td>\n      <td>9</td>\n      <td>2018</td>\n      <td>120</td>\n      <td>2020-05-13</td>\n      <td>133</td>\n      <td>0</td>\n    </tr>\n    <tr>\n      <th>4</th>\n      <td>2018-09-20</td>\n      <td>00007d2de826758b65a93dd24ce629ed66842531df6699...</td>\n      <td>685687004</td>\n      <td>0.016932</td>\n      <td>2</td>\n      <td>20</td>\n      <td>9</td>\n      <td>2018</td>\n      <td>120</td>\n      <td>2020-05-13</td>\n      <td>133</td>\n      <td>0</td>\n    </tr>\n  </tbody>\n</table>\n</div>"
     },
     "execution_count": 12,
     "metadata": {},
     "output_type": "execute_result"
    }
   ],
   "source": [
    "transactions2.head()"
   ],
   "metadata": {
    "collapsed": false,
    "pycharm": {
     "name": "#%%\n"
    }
   }
  },
  {
   "cell_type": "code",
   "execution_count": 10,
   "outputs": [],
   "source": [
    "customers.to_csv(\"customer_e.csv\", index=False)\n",
    "transactions2.to_csv(\"transactions_train_e.csv\", index=False)"
   ],
   "metadata": {
    "collapsed": false,
    "pycharm": {
     "name": "#%%\n"
    }
   }
  },
  {
   "cell_type": "code",
   "execution_count": 15,
   "outputs": [],
   "source": [
    "# Read the CSV file\n",
    "trans = pd.read_csv('transactions_train_e.csv')\n",
    "cust = pd.read_csv('customer_e.csv')\n",
    "\n",
    "# Save DataFrame to a Parquet file\n",
    "trans.to_parquet('transactions_train.parquet', engine='pyarrow')\n",
    "cust.to_parquet('customers.parquet', engine='pyarrow')"
   ],
   "metadata": {
    "collapsed": false,
    "pycharm": {
     "name": "#%%\n"
    }
   }
  },
  {
   "cell_type": "code",
   "execution_count": 16,
   "outputs": [],
   "source": [
    "articles.to_parquet('articles.parquet', engine='pyarrow')"
   ],
   "metadata": {
    "collapsed": false,
    "pycharm": {
     "name": "#%%\n"
    }
   }
  },
  {
   "cell_type": "code",
   "execution_count": null,
   "outputs": [],
   "source": [],
   "metadata": {
    "collapsed": false,
    "pycharm": {
     "name": "#%%\n"
    }
   }
  }
 ],
 "metadata": {
  "kernelspec": {
   "display_name": "Python 3",
   "language": "python",
   "name": "python3"
  },
  "language_info": {
   "codemirror_mode": {
    "name": "ipython",
    "version": 2
   },
   "file_extension": ".py",
   "mimetype": "text/x-python",
   "name": "python",
   "nbconvert_exporter": "python",
   "pygments_lexer": "ipython2",
   "version": "2.7.6"
  }
 },
 "nbformat": 4,
 "nbformat_minor": 0
}