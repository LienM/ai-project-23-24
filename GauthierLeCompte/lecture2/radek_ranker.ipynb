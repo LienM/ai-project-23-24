{
 "cells": [
  {
   "cell_type": "code",
   "execution_count": 1,
   "id": "4a7e7212",
   "metadata": {
    "execution": {
     "iopub.execute_input": "2022-04-16T16:58:42.399719Z",
     "iopub.status.busy": "2022-04-16T16:58:42.398628Z",
     "iopub.status.idle": "2022-04-16T16:58:42.426150Z",
     "shell.execute_reply": "2022-04-16T16:58:42.424648Z"
    },
    "papermill": {
     "duration": 0.085968,
     "end_time": "2022-04-16T16:58:42.429535",
     "exception": false,
     "start_time": "2022-04-16T16:58:42.343567",
     "status": "completed"
    },
    "tags": [],
    "is_executing": true
   },
   "outputs": [],
   "source": [
    "import numpy as np\n",
    "\n",
    "def apk(actual, predicted, k=10):\n",
    "    \"\"\"\n",
    "    Computes the average precision at k.\n",
    "\n",
    "    This function computes the average prescision at k between two lists of\n",
    "    items.\n",
    "\n",
    "    Parameters\n",
    "    ----------\n",
    "    actual : list\n",
    "             A list of elements that are to be predicted (order doesn't matter)\n",
    "    predicted : list\n",
    "                A list of predicted elements (order does matter)\n",
    "    k : int, optional\n",
    "        The maximum number of predicted elements\n",
    "\n",
    "    Returns\n",
    "    -------\n",
    "    score : double\n",
    "            The average precision at k over the input lists\n",
    "\n",
    "    \"\"\"\n",
    "    if len(predicted)>k:\n",
    "        predicted = predicted[:k]\n",
    "\n",
    "    score = 0.0\n",
    "    num_hits = 0.0\n",
    "\n",
    "    for i,p in enumerate(predicted):\n",
    "        if p in actual and p not in predicted[:i]:\n",
    "            num_hits += 1.0\n",
    "            score += num_hits / (i+1.0)\n",
    "\n",
    "    if not actual:\n",
    "        return 0.0\n",
    "\n",
    "    return score / min(len(actual), k)\n",
    "\n",
    "def mapk(actual, predicted, k=10):\n",
    "    \"\"\"\n",
    "    Computes the mean average precision at k.\n",
    "\n",
    "    This function computes the mean average prescision at k between two lists\n",
    "    of lists of items.\n",
    "\n",
    "    Parameters\n",
    "    ----------\n",
    "    actual : list\n",
    "             A list of lists of elements that are to be predicted \n",
    "             (order doesn't matter in the lists)\n",
    "    predicted : list\n",
    "                A list of lists of predicted elements\n",
    "                (order matters in the lists)\n",
    "    k : int, optional\n",
    "        The maximum number of predicted elements\n",
    "\n",
    "    Returns\n",
    "    -------\n",
    "    score : double\n",
    "            The mean average precision at k over the input lists\n",
    "\n",
    "    \"\"\"\n",
    "    return np.mean([apk(a,p,k) for a,p in zip(actual, predicted)])"
   ]
  },
  {
   "cell_type": "code",
   "execution_count": 2,
   "id": "85ef6566",
   "metadata": {
    "execution": {
     "iopub.execute_input": "2022-04-16T16:58:42.530042Z",
     "iopub.status.busy": "2022-04-16T16:58:42.529039Z",
     "iopub.status.idle": "2022-04-16T16:58:43.826306Z",
     "shell.execute_reply": "2022-04-16T16:58:43.824669Z"
    },
    "papermill": {
     "duration": 1.348449,
     "end_time": "2022-04-16T16:58:43.828990",
     "exception": false,
     "start_time": "2022-04-16T16:58:42.480541",
     "status": "completed"
    },
    "tags": [],
    "ExecuteTime": {
     "end_time": "2023-10-07T21:08:52.536132700Z",
     "start_time": "2023-10-07T21:08:51.395506200Z"
    }
   },
   "outputs": [],
   "source": [
    "from sklearn.base import BaseEstimator, TransformerMixin\n",
    "import numpy as np\n",
    "\n",
    "# https://www.kaggle.com/c/h-and-m-personalized-fashion-recommendations/discussion/308635\n",
    "def customer_hex_id_to_int(series):\n",
    "    return series.str[-16:].apply(hex_id_to_int)\n",
    "\n",
    "def hex_id_to_int(str):\n",
    "    return int(str[-16:], 16)\n",
    "\n",
    "def article_id_str_to_int(series):\n",
    "    return series.astype('int32')\n",
    "\n",
    "def article_id_int_to_str(series):\n",
    "    return '0' + series.astype('str')\n",
    "\n",
    "class Categorize(BaseEstimator, TransformerMixin):\n",
    "    def __init__(self, min_examples=0):\n",
    "        self.min_examples = min_examples\n",
    "        self.categories = []\n",
    "        \n",
    "    def fit(self, X):\n",
    "        for i in range(X.shape[1]):\n",
    "            vc = X.iloc[:, i].value_counts()\n",
    "            self.categories.append(vc[vc > self.min_examples].index.tolist())\n",
    "        return self\n",
    "\n",
    "    def transform(self, X):\n",
    "        data = {X.columns[i]: pd.Categorical(X.iloc[:, i], categories=self.categories[i]).codes for i in range(X.shape[1])}\n",
    "        return pd.DataFrame(data=data)\n",
    "\n",
    "\n",
    "def calculate_apk(list_of_preds, list_of_gts):\n",
    "    # for fast validation this can be changed to operate on dicts of {'cust_id_int': [art_id_int, ...]}\n",
    "    # using 'data/val_week_purchases_by_cust.pkl'\n",
    "    apks = []\n",
    "    for preds, gt in zip(list_of_preds, list_of_gts):\n",
    "        apks.append(apk(gt, preds, k=12))\n",
    "    return np.mean(apks)\n",
    "\n",
    "def eval_sub(sub_csv, skip_cust_with_no_purchases=True):\n",
    "    sub=pd.read_csv(sub_csv)\n",
    "    validation_set=pd.read_parquet('data/validation_ground_truth.parquet')\n",
    "\n",
    "    apks = []\n",
    "\n",
    "    no_purchases_pattern = []\n",
    "    for pred, gt in zip(sub.prediction.str.split(), validation_set.prediction.str.split()):\n",
    "        if skip_cust_with_no_purchases and (gt == no_purchases_pattern): continue\n",
    "        apks.append(apk(gt, pred, k=12))\n",
    "    return np.mean(apks)"
   ]
  },
  {
   "cell_type": "code",
   "execution_count": 3,
   "id": "78c7a34c",
   "metadata": {
    "execution": {
     "iopub.execute_input": "2022-04-16T16:58:43.930529Z",
     "iopub.status.busy": "2022-04-16T16:58:43.930253Z",
     "iopub.status.idle": "2022-04-16T16:58:43.934588Z",
     "shell.execute_reply": "2022-04-16T16:58:43.933741Z"
    },
    "papermill": {
     "duration": 0.056085,
     "end_time": "2022-04-16T16:58:43.936514",
     "exception": false,
     "start_time": "2022-04-16T16:58:43.880429",
     "status": "completed"
    },
    "tags": [],
    "ExecuteTime": {
     "end_time": "2023-10-07T21:08:52.598631600Z",
     "start_time": "2023-10-07T21:08:51.411123200Z"
    }
   },
   "outputs": [],
   "source": [
    "import pandas as pd"
   ]
  },
  {
   "cell_type": "code",
   "execution_count": 4,
   "id": "af847e1a",
   "metadata": {
    "execution": {
     "iopub.execute_input": "2022-04-16T16:58:44.085405Z",
     "iopub.status.busy": "2022-04-16T16:58:44.084601Z",
     "iopub.status.idle": "2022-04-16T16:58:53.285552Z",
     "shell.execute_reply": "2022-04-16T16:58:53.284023Z"
    },
    "papermill": {
     "duration": 9.279307,
     "end_time": "2022-04-16T16:58:53.289550",
     "exception": false,
     "start_time": "2022-04-16T16:58:44.010243",
     "status": "completed"
    },
    "tags": [],
    "ExecuteTime": {
     "end_time": "2023-10-07T21:08:55.108432100Z",
     "start_time": "2023-10-07T21:08:51.426748900Z"
    }
   },
   "outputs": [
    {
     "name": "stdout",
     "output_type": "stream",
     "text": [
      "CPU times: user 5.42 s, sys: 2.3 s, total: 7.72 s\n",
      "Wall time: 4.56 s\n"
     ]
    }
   ],
   "source": [
    "%%time\n",
    "\n",
    "transactions = pd.read_parquet('transactions_train.parquet')\n",
    "customers = pd.read_parquet('customers.parquet')\n",
    "articles = pd.read_parquet('articles.parquet')"
   ]
  },
  {
   "cell_type": "markdown",
   "id": "5133081f",
   "metadata": {
    "papermill": {
     "duration": 0.04664,
     "end_time": "2022-04-16T16:58:53.778482",
     "exception": false,
     "start_time": "2022-04-16T16:58:53.731842",
     "status": "completed"
    },
    "tags": []
   },
   "source": [
    "# Generating candidates"
   ]
  },
  {
   "cell_type": "markdown",
   "id": "55672930",
   "metadata": {
    "papermill": {
     "duration": 0.047255,
     "end_time": "2022-04-16T16:58:53.872805",
     "exception": false,
     "start_time": "2022-04-16T16:58:53.825550",
     "status": "completed"
    },
    "tags": []
   },
   "source": [
    "### Last purchase candidates"
   ]
  },
  {
   "cell_type": "code",
   "execution_count": 8,
   "outputs": [],
   "source": [
    "test_week = transactions.week.max() + 1\n",
    "transactions = transactions[transactions.week > transactions.week.max() - 10]"
   ],
   "metadata": {
    "collapsed": false,
    "pycharm": {
     "name": "#%%\n"
    }
   }
  },
  {
   "cell_type": "code",
   "execution_count": 9,
   "outputs": [
    {
     "name": "stdout",
     "output_type": "stream",
     "text": [
      "CPU times: user 7.4 s, sys: 105 ms, total: 7.51 s\n",
      "Wall time: 7.5 s\n"
     ]
    }
   ],
   "source": [
    "%%time\n",
    "\n",
    "c2weeks = transactions.groupby('customer_id')['week'].unique()"
   ],
   "metadata": {
    "collapsed": false,
    "pycharm": {
     "name": "#%%\n"
    }
   }
  },
  {
   "cell_type": "code",
   "execution_count": 10,
   "id": "a36be6fc",
   "metadata": {
    "execution": {
     "iopub.execute_input": "2022-04-16T16:59:15.192906Z",
     "iopub.status.busy": "2022-04-16T16:59:15.192675Z",
     "iopub.status.idle": "2022-04-16T16:59:15.281870Z",
     "shell.execute_reply": "2022-04-16T16:59:15.281106Z"
    },
    "papermill": {
     "duration": 0.164411,
     "end_time": "2022-04-16T16:59:15.283877",
     "exception": false,
     "start_time": "2022-04-16T16:59:15.119466",
     "status": "completed"
    },
    "tags": [],
    "ExecuteTime": {
     "start_time": "2023-10-07T21:08:55.692144300Z"
    }
   },
   "outputs": [
    {
     "data": {
      "text/plain": "             min         max\nweek                        \n98    2020-07-19  2020-07-25\n99    2020-07-26  2020-08-01\n100   2020-08-02  2020-08-08\n101   2020-08-09  2020-08-15\n102   2020-08-16  2020-08-22\n103   2020-08-23  2020-08-29\n104   2020-08-30  2020-09-05\n105   2020-09-06  2020-09-12\n106   2020-09-13  2020-09-19\n107   2020-09-20  2020-09-22",
      "text/html": "<div>\n<style scoped>\n    .dataframe tbody tr th:only-of-type {\n        vertical-align: middle;\n    }\n\n    .dataframe tbody tr th {\n        vertical-align: top;\n    }\n\n    .dataframe thead th {\n        text-align: right;\n    }\n</style>\n<table border=\"1\" class=\"dataframe\">\n  <thead>\n    <tr style=\"text-align: right;\">\n      <th></th>\n      <th>min</th>\n      <th>max</th>\n    </tr>\n    <tr>\n      <th>week</th>\n      <th></th>\n      <th></th>\n    </tr>\n  </thead>\n  <tbody>\n    <tr>\n      <th>98</th>\n      <td>2020-07-19</td>\n      <td>2020-07-25</td>\n    </tr>\n    <tr>\n      <th>99</th>\n      <td>2020-07-26</td>\n      <td>2020-08-01</td>\n    </tr>\n    <tr>\n      <th>100</th>\n      <td>2020-08-02</td>\n      <td>2020-08-08</td>\n    </tr>\n    <tr>\n      <th>101</th>\n      <td>2020-08-09</td>\n      <td>2020-08-15</td>\n    </tr>\n    <tr>\n      <th>102</th>\n      <td>2020-08-16</td>\n      <td>2020-08-22</td>\n    </tr>\n    <tr>\n      <th>103</th>\n      <td>2020-08-23</td>\n      <td>2020-08-29</td>\n    </tr>\n    <tr>\n      <th>104</th>\n      <td>2020-08-30</td>\n      <td>2020-09-05</td>\n    </tr>\n    <tr>\n      <th>105</th>\n      <td>2020-09-06</td>\n      <td>2020-09-12</td>\n    </tr>\n    <tr>\n      <th>106</th>\n      <td>2020-09-13</td>\n      <td>2020-09-19</td>\n    </tr>\n    <tr>\n      <th>107</th>\n      <td>2020-09-20</td>\n      <td>2020-09-22</td>\n    </tr>\n  </tbody>\n</table>\n</div>"
     },
     "execution_count": 10,
     "metadata": {},
     "output_type": "execute_result"
    }
   ],
   "source": [
    "transactions.groupby('week')['t_dat'].agg(['min', 'max'])"
   ]
  },
  {
   "cell_type": "code",
   "execution_count": 11,
   "id": "f50d294c",
   "metadata": {
    "execution": {
     "iopub.execute_input": "2022-04-16T16:59:15.428215Z",
     "iopub.status.busy": "2022-04-16T16:59:15.427787Z",
     "iopub.status.idle": "2022-04-16T16:59:15.437998Z",
     "shell.execute_reply": "2022-04-16T16:59:15.437145Z"
    },
    "papermill": {
     "duration": 0.085836,
     "end_time": "2022-04-16T16:59:15.439989",
     "exception": false,
     "start_time": "2022-04-16T16:59:15.354153",
     "status": "completed"
    },
    "tags": [],
    "ExecuteTime": {
     "end_time": "2023-10-07T21:08:55.785893800Z",
     "start_time": "2023-10-07T21:08:55.692144300Z"
    }
   },
   "outputs": [
    {
     "data": {
      "text/plain": "customer_id\n00000dbacae5abe5e23885899a1fa44253a17956c6d1c3d25f88aa139fdfc657         [104]\n000058a12d5b43e67d225668fa1f8d618c13dc232df0cad8ffe7ad4a1091e318         [106]\n00006413d8573cd20ed7128e53b7b13819fe5cfc2d801fe7fc0f26dd8d65a85a         [101]\n0000757967448a6cb83efb3ea7a3fb9d418ac7adf2379d8cd0c725276a467a2a         [106]\n0000945f66de1a11d9447609b8b41b1bc987ba185a5496ae8831e8493afa24ff          [98]\n                                                                       ...    \nffff12aa623c69eae8959d673f1f12ad0194ad760d77fd489cd7c5a4aa9ae240    [100, 103]\nffff61677073258d461e043cc9ed4ed97be5617a920640ff61024f4619bf41c4     [98, 102]\nffffbbf78b6eaac697a8a5dfbfd2bfa8113ee5b403e4747568cac33e8c541831    [101, 105]\nffffcd5046a6143d29a04fb8c424ce494a76e5cdf4fab53481233731b5c4f8b7    [100, 102]\nffffcf35913a0bee60e8741cb2b4e78b8a98ee5ff2e6a1778d0116cffd259264         [105]\nName: week, Length: 420641, dtype: object"
     },
     "execution_count": 11,
     "metadata": {},
     "output_type": "execute_result"
    }
   ],
   "source": [
    "c2weeks"
   ]
  },
  {
   "cell_type": "code",
   "execution_count": 12,
   "id": "f4723bec",
   "metadata": {
    "execution": {
     "iopub.execute_input": "2022-04-16T16:59:15.588334Z",
     "iopub.status.busy": "2022-04-16T16:59:15.588052Z",
     "iopub.status.idle": "2022-04-16T16:59:16.661897Z",
     "shell.execute_reply": "2022-04-16T16:59:16.661248Z"
    },
    "papermill": {
     "duration": 1.152087,
     "end_time": "2022-04-16T16:59:16.664416",
     "exception": false,
     "start_time": "2022-04-16T16:59:15.512329",
     "status": "completed"
    },
    "tags": [],
    "ExecuteTime": {
     "start_time": "2023-10-07T21:08:55.692144300Z"
    }
   },
   "outputs": [
    {
     "name": "stdout",
     "output_type": "stream",
     "text": [
      "CPU times: user 309 ms, sys: 18.2 ms, total: 327 ms\n",
      "Wall time: 327 ms\n"
     ]
    }
   ],
   "source": [
    "%%time\n",
    "\n",
    "c2weeks2shifted_weeks = {}\n",
    "\n",
    "for c_id, weeks in c2weeks.items():\n",
    "    c2weeks2shifted_weeks[c_id] = {}\n",
    "    for i in range(weeks.shape[0]-1):\n",
    "        c2weeks2shifted_weeks[c_id][weeks[i]] = weeks[i+1]\n",
    "    c2weeks2shifted_weeks[c_id][weeks[-1]] = test_week"
   ]
  },
  {
   "cell_type": "code",
   "execution_count": 13,
   "id": "73302f1f",
   "metadata": {
    "execution": {
     "iopub.execute_input": "2022-04-16T16:59:16.814283Z",
     "iopub.status.busy": "2022-04-16T16:59:16.813874Z",
     "iopub.status.idle": "2022-04-16T16:59:16.819790Z",
     "shell.execute_reply": "2022-04-16T16:59:16.818116Z"
    },
    "papermill": {
     "duration": 0.083354,
     "end_time": "2022-04-16T16:59:16.821693",
     "exception": false,
     "start_time": "2022-04-16T16:59:16.738339",
     "status": "completed"
    },
    "tags": [],
    "ExecuteTime": {
     "start_time": "2023-10-07T21:08:55.707775500Z"
    }
   },
   "outputs": [],
   "source": [
    "# c2weeks2shifted_weeks[28847241659200]"
   ]
  },
  {
   "cell_type": "code",
   "execution_count": 14,
   "id": "5a87c920",
   "metadata": {
    "execution": {
     "iopub.execute_input": "2022-04-16T16:59:16.974137Z",
     "iopub.status.busy": "2022-04-16T16:59:16.973909Z",
     "iopub.status.idle": "2022-04-16T16:59:16.988973Z",
     "shell.execute_reply": "2022-04-16T16:59:16.988167Z"
    },
    "papermill": {
     "duration": 0.095127,
     "end_time": "2022-04-16T16:59:16.991288",
     "exception": false,
     "start_time": "2022-04-16T16:59:16.896161",
     "status": "completed"
    },
    "tags": [],
    "ExecuteTime": {
     "start_time": "2023-10-07T21:08:55.707775500Z"
    }
   },
   "outputs": [],
   "source": [
    "candidates_last_purchase = transactions.copy()"
   ]
  },
  {
   "cell_type": "code",
   "execution_count": 15,
   "id": "4f4d4a18",
   "metadata": {
    "execution": {
     "iopub.execute_input": "2022-04-16T16:59:17.146118Z",
     "iopub.status.busy": "2022-04-16T16:59:17.145905Z",
     "iopub.status.idle": "2022-04-16T16:59:25.781407Z",
     "shell.execute_reply": "2022-04-16T16:59:25.779777Z"
    },
    "papermill": {
     "duration": 8.716794,
     "end_time": "2022-04-16T16:59:25.784593",
     "exception": false,
     "start_time": "2022-04-16T16:59:17.067799",
     "status": "completed"
    },
    "tags": [],
    "ExecuteTime": {
     "start_time": "2023-10-07T21:08:55.707775500Z"
    }
   },
   "outputs": [
    {
     "name": "stdout",
     "output_type": "stream",
     "text": [
      "CPU times: user 1.58 s, sys: 38.5 ms, total: 1.62 s\n",
      "Wall time: 1.65 s\n"
     ]
    }
   ],
   "source": [
    "%%time\n",
    "\n",
    "weeks = []\n",
    "for i, (c_id, week) in enumerate(zip(transactions['customer_id'], transactions['week'])):\n",
    "    weeks.append(c2weeks2shifted_weeks[c_id][week])\n",
    "    \n",
    "candidates_last_purchase.week=weeks"
   ]
  },
  {
   "cell_type": "code",
   "execution_count": 16,
   "id": "b016bbe5",
   "metadata": {
    "execution": {
     "iopub.execute_input": "2022-04-16T16:59:25.949128Z",
     "iopub.status.busy": "2022-04-16T16:59:25.948645Z",
     "iopub.status.idle": "2022-04-16T16:59:25.965195Z",
     "shell.execute_reply": "2022-04-16T16:59:25.963663Z"
    },
    "papermill": {
     "duration": 0.098217,
     "end_time": "2022-04-16T16:59:25.967641",
     "exception": false,
     "start_time": "2022-04-16T16:59:25.869424",
     "status": "completed"
    },
    "tags": [],
    "ExecuteTime": {
     "start_time": "2023-10-07T21:08:55.723393100Z"
    }
   },
   "outputs": [
    {
     "data": {
      "text/plain": "Empty DataFrame\nColumns: [t_dat, customer_id, article_id, price, sales_channel_id, Day, Month, Year, total_purchases, most_recent_purchase, recency, week]\nIndex: []",
      "text/html": "<div>\n<style scoped>\n    .dataframe tbody tr th:only-of-type {\n        vertical-align: middle;\n    }\n\n    .dataframe tbody tr th {\n        vertical-align: top;\n    }\n\n    .dataframe thead th {\n        text-align: right;\n    }\n</style>\n<table border=\"1\" class=\"dataframe\">\n  <thead>\n    <tr style=\"text-align: right;\">\n      <th></th>\n      <th>t_dat</th>\n      <th>customer_id</th>\n      <th>article_id</th>\n      <th>price</th>\n      <th>sales_channel_id</th>\n      <th>Day</th>\n      <th>Month</th>\n      <th>Year</th>\n      <th>total_purchases</th>\n      <th>most_recent_purchase</th>\n      <th>recency</th>\n      <th>week</th>\n    </tr>\n  </thead>\n  <tbody>\n  </tbody>\n</table>\n</div>"
     },
     "execution_count": 16,
     "metadata": {},
     "output_type": "execute_result"
    }
   ],
   "source": [
    "candidates_last_purchase[candidates_last_purchase['customer_id']==272412481300040]"
   ]
  },
  {
   "cell_type": "code",
   "execution_count": 17,
   "id": "b446519c",
   "metadata": {
    "execution": {
     "iopub.execute_input": "2022-04-16T16:59:26.122354Z",
     "iopub.status.busy": "2022-04-16T16:59:26.121200Z",
     "iopub.status.idle": "2022-04-16T16:59:26.138607Z",
     "shell.execute_reply": "2022-04-16T16:59:26.137667Z"
    },
    "papermill": {
     "duration": 0.095969,
     "end_time": "2022-04-16T16:59:26.140736",
     "exception": false,
     "start_time": "2022-04-16T16:59:26.044767",
     "status": "completed"
    },
    "tags": [],
    "ExecuteTime": {
     "start_time": "2023-10-07T21:08:55.723393100Z"
    }
   },
   "outputs": [
    {
     "data": {
      "text/plain": "Empty DataFrame\nColumns: [t_dat, customer_id, article_id, price, sales_channel_id, Day, Month, Year, total_purchases, most_recent_purchase, recency, week]\nIndex: []",
      "text/html": "<div>\n<style scoped>\n    .dataframe tbody tr th:only-of-type {\n        vertical-align: middle;\n    }\n\n    .dataframe tbody tr th {\n        vertical-align: top;\n    }\n\n    .dataframe thead th {\n        text-align: right;\n    }\n</style>\n<table border=\"1\" class=\"dataframe\">\n  <thead>\n    <tr style=\"text-align: right;\">\n      <th></th>\n      <th>t_dat</th>\n      <th>customer_id</th>\n      <th>article_id</th>\n      <th>price</th>\n      <th>sales_channel_id</th>\n      <th>Day</th>\n      <th>Month</th>\n      <th>Year</th>\n      <th>total_purchases</th>\n      <th>most_recent_purchase</th>\n      <th>recency</th>\n      <th>week</th>\n    </tr>\n  </thead>\n  <tbody>\n  </tbody>\n</table>\n</div>"
     },
     "execution_count": 17,
     "metadata": {},
     "output_type": "execute_result"
    }
   ],
   "source": [
    "transactions[transactions['customer_id']==272412481300040]"
   ]
  },
  {
   "cell_type": "markdown",
   "id": "38ae3458",
   "metadata": {
    "papermill": {
     "duration": 0.076715,
     "end_time": "2022-04-16T16:59:26.293010",
     "exception": false,
     "start_time": "2022-04-16T16:59:26.216295",
     "status": "completed"
    },
    "tags": []
   },
   "source": [
    "### Bestsellers candidates"
   ]
  },
  {
   "cell_type": "code",
   "execution_count": 18,
   "id": "022a7879",
   "metadata": {
    "execution": {
     "iopub.execute_input": "2022-04-16T16:59:26.450077Z",
     "iopub.status.busy": "2022-04-16T16:59:26.449041Z",
     "iopub.status.idle": "2022-04-16T16:59:26.698222Z",
     "shell.execute_reply": "2022-04-16T16:59:26.697460Z"
    },
    "papermill": {
     "duration": 0.331688,
     "end_time": "2022-04-16T16:59:26.700507",
     "exception": false,
     "start_time": "2022-04-16T16:59:26.368819",
     "status": "completed"
    },
    "tags": [],
    "ExecuteTime": {
     "start_time": "2023-10-07T21:08:55.723393100Z"
    }
   },
   "outputs": [],
   "source": [
    "mean_price = transactions \\\n",
    "    .groupby(['week', 'article_id'])['price'].mean()"
   ]
  },
  {
   "cell_type": "code",
   "execution_count": 19,
   "id": "e74d8d23",
   "metadata": {
    "execution": {
     "iopub.execute_input": "2022-04-16T16:59:26.799929Z",
     "iopub.status.busy": "2022-04-16T16:59:26.799665Z",
     "iopub.status.idle": "2022-04-16T16:59:26.867466Z",
     "shell.execute_reply": "2022-04-16T16:59:26.866712Z"
    },
    "papermill": {
     "duration": 0.120303,
     "end_time": "2022-04-16T16:59:26.869795",
     "exception": false,
     "start_time": "2022-04-16T16:59:26.749492",
     "status": "completed"
    },
    "tags": [],
    "ExecuteTime": {
     "start_time": "2023-10-07T21:08:55.739023400Z"
    }
   },
   "outputs": [
    {
     "data": {
      "text/plain": "week  article_id\n98    108775015     0.003842\n      108775044     0.008320\n      110065002     0.006085\n      111565001     0.003868\n      111586001     0.011713\n                      ...   \n107   952267001     0.014992\n      952938001     0.050831\n      953450001     0.016932\n      953763001     0.021701\n      956217002     0.058831\nName: price, Length: 189610, dtype: float64"
     },
     "execution_count": 19,
     "metadata": {},
     "output_type": "execute_result"
    }
   ],
   "source": [
    "mean_price"
   ]
  },
  {
   "cell_type": "code",
   "execution_count": 20,
   "id": "9a104ef9",
   "metadata": {
    "execution": {
     "iopub.execute_input": "2022-04-16T16:59:26.973271Z",
     "iopub.status.busy": "2022-04-16T16:59:26.972993Z",
     "iopub.status.idle": "2022-04-16T16:59:27.759574Z",
     "shell.execute_reply": "2022-04-16T16:59:27.758540Z"
    },
    "papermill": {
     "duration": 0.840436,
     "end_time": "2022-04-16T16:59:27.761667",
     "exception": false,
     "start_time": "2022-04-16T16:59:26.921231",
     "status": "completed"
    },
    "tags": [],
    "ExecuteTime": {
     "start_time": "2023-10-07T21:08:55.739023400Z"
    }
   },
   "outputs": [],
   "source": [
    "sales = transactions \\\n",
    "    .groupby('week')['article_id'].value_counts() \\\n",
    "    .groupby('week').rank(method='dense', ascending=False) \\\n",
    "    .groupby('week').head(12).rename('bestseller_rank').astype('int8')"
   ]
  },
  {
   "cell_type": "code",
   "execution_count": 21,
   "id": "59c00bd8",
   "metadata": {
    "execution": {
     "iopub.execute_input": "2022-04-16T16:59:27.860853Z",
     "iopub.status.busy": "2022-04-16T16:59:27.860287Z",
     "iopub.status.idle": "2022-04-16T16:59:27.869133Z",
     "shell.execute_reply": "2022-04-16T16:59:27.867950Z"
    },
    "papermill": {
     "duration": 0.061677,
     "end_time": "2022-04-16T16:59:27.871620",
     "exception": false,
     "start_time": "2022-04-16T16:59:27.809943",
     "status": "completed"
    },
    "tags": [],
    "ExecuteTime": {
     "start_time": "2023-10-07T21:08:55.754647900Z"
    }
   },
   "outputs": [
    {
     "data": {
      "text/plain": "week  article_id\n98    760084003      1\n      827968001      2\n      610776002      3\n      706016001      4\n      372860002      5\n                    ..\n107   930380001      8\n      915529003      9\n      923758001     10\n      928206001     11\n      915529005     12\nName: bestseller_rank, Length: 120, dtype: int8"
     },
     "execution_count": 21,
     "metadata": {},
     "output_type": "execute_result"
    }
   ],
   "source": [
    "sales"
   ]
  },
  {
   "cell_type": "code",
   "execution_count": 25,
   "id": "0b8a877e",
   "metadata": {
    "execution": {
     "iopub.execute_input": "2022-04-16T16:59:28.022610Z",
     "iopub.status.busy": "2022-04-16T16:59:28.021997Z",
     "iopub.status.idle": "2022-04-16T16:59:28.032026Z",
     "shell.execute_reply": "2022-04-16T16:59:28.030925Z"
    },
    "papermill": {
     "duration": 0.088243,
     "end_time": "2022-04-16T16:59:28.034495",
     "exception": false,
     "start_time": "2022-04-16T16:59:27.946252",
     "status": "completed"
    },
    "tags": [],
    "ExecuteTime": {
     "start_time": "2023-10-07T21:08:55.754647900Z"
    }
   },
   "outputs": [],
   "source": [
    "#sales.loc[95]"
   ]
  },
  {
   "cell_type": "code",
   "execution_count": 26,
   "id": "20324cc0",
   "metadata": {
    "execution": {
     "iopub.execute_input": "2022-04-16T16:59:28.190524Z",
     "iopub.status.busy": "2022-04-16T16:59:28.190250Z",
     "iopub.status.idle": "2022-04-16T16:59:28.228967Z",
     "shell.execute_reply": "2022-04-16T16:59:28.228233Z"
    },
    "papermill": {
     "duration": 0.11991,
     "end_time": "2022-04-16T16:59:28.231470",
     "exception": false,
     "start_time": "2022-04-16T16:59:28.111560",
     "status": "completed"
    },
    "tags": [],
    "ExecuteTime": {
     "start_time": "2023-10-07T21:08:55.754647900Z"
    }
   },
   "outputs": [],
   "source": [
    "bestsellers_previous_week = pd.merge(sales, mean_price, on=['week', 'article_id']).reset_index()\n",
    "bestsellers_previous_week.week += 1"
   ]
  },
  {
   "cell_type": "code",
   "execution_count": 27,
   "id": "b8447b19",
   "metadata": {
    "execution": {
     "iopub.execute_input": "2022-04-16T16:59:28.387785Z",
     "iopub.status.busy": "2022-04-16T16:59:28.387358Z",
     "iopub.status.idle": "2022-04-16T16:59:28.397082Z",
     "shell.execute_reply": "2022-04-16T16:59:28.396419Z"
    },
    "papermill": {
     "duration": 0.089116,
     "end_time": "2022-04-16T16:59:28.399153",
     "exception": false,
     "start_time": "2022-04-16T16:59:28.310037",
     "status": "completed"
    },
    "tags": [],
    "ExecuteTime": {
     "start_time": "2023-10-07T21:08:55.770270700Z"
    }
   },
   "outputs": [
    {
     "data": {
      "text/plain": "Empty DataFrame\nColumns: [week, article_id, bestseller_rank, price]\nIndex: []",
      "text/html": "<div>\n<style scoped>\n    .dataframe tbody tr th:only-of-type {\n        vertical-align: middle;\n    }\n\n    .dataframe tbody tr th {\n        vertical-align: top;\n    }\n\n    .dataframe thead th {\n        text-align: right;\n    }\n</style>\n<table border=\"1\" class=\"dataframe\">\n  <thead>\n    <tr style=\"text-align: right;\">\n      <th></th>\n      <th>week</th>\n      <th>article_id</th>\n      <th>bestseller_rank</th>\n      <th>price</th>\n    </tr>\n  </thead>\n  <tbody>\n  </tbody>\n</table>\n</div>"
     },
     "execution_count": 27,
     "metadata": {},
     "output_type": "execute_result"
    }
   ],
   "source": [
    "bestsellers_previous_week.pipe(lambda df: df[df['week']==96])"
   ]
  },
  {
   "cell_type": "code",
   "execution_count": 28,
   "id": "1ad756de",
   "metadata": {
    "execution": {
     "iopub.execute_input": "2022-04-16T16:59:28.555106Z",
     "iopub.status.busy": "2022-04-16T16:59:28.554346Z",
     "iopub.status.idle": "2022-04-16T16:59:29.140400Z",
     "shell.execute_reply": "2022-04-16T16:59:29.138684Z"
    },
    "papermill": {
     "duration": 0.667005,
     "end_time": "2022-04-16T16:59:29.144061",
     "exception": false,
     "start_time": "2022-04-16T16:59:28.477056",
     "status": "completed"
    },
    "tags": [],
    "ExecuteTime": {
     "start_time": "2023-10-07T21:08:55.770270700Z"
    }
   },
   "outputs": [],
   "source": [
    "unique_transactions = transactions \\\n",
    "    .groupby(['week', 'customer_id']) \\\n",
    "    .head(1) \\\n",
    "    .drop(columns=['article_id', 'price']) \\\n",
    "    .copy()"
   ]
  },
  {
   "cell_type": "code",
   "execution_count": 29,
   "id": "f2dcb4b5",
   "metadata": {
    "execution": {
     "iopub.execute_input": "2022-04-16T16:59:29.302908Z",
     "iopub.status.busy": "2022-04-16T16:59:29.302634Z",
     "iopub.status.idle": "2022-04-16T16:59:29.314268Z",
     "shell.execute_reply": "2022-04-16T16:59:29.313513Z"
    },
    "papermill": {
     "duration": 0.093091,
     "end_time": "2022-04-16T16:59:29.316226",
     "exception": false,
     "start_time": "2022-04-16T16:59:29.223135",
     "status": "completed"
    },
    "tags": [],
    "ExecuteTime": {
     "start_time": "2023-10-07T21:08:55.770270700Z"
    }
   },
   "outputs": [
    {
     "data": {
      "text/plain": "               t_dat                                        customer_id  \\\n29202636  2020-07-19  0000f1c71aafe5963c3d195cf273f7bfd50bbf17761c91...   \n29202644  2020-07-19  0015e1028e70b159e9bee92455c4782e72fb4ceb3fccb6...   \n29202648  2020-07-19  00190ae87b184c5a8886a6024c043275e883636c238fad...   \n29202650  2020-07-19  002b985c40b9ab3cd56bccc18e3c1d0a1242a172eb7a69...   \n29202655  2020-07-19  002ef9a63f8c49c145b59dbccc5dc540891869cc1c1f03...   \n...              ...                                                ...   \n31788303  2020-09-22  ffcba92c45455b22f54dd02303b057c0a4b9b1f4fcfdf2...   \n31788310  2020-09-22  ffd4cf2217de4a0a3f9f610cdec334c803692a18af08ac...   \n31788321  2020-09-22  fff380805474b287b05cb2a7507b9a013482f7dd0bce0e...   \n31788322  2020-09-22  fff4d3a8b1f3b60af93e78c30a7cb4cf75edaf2590d3e5...   \n31788323  2020-09-22  fffef3b6b73545df065b521e19f64bf6fe93bfd450ab20...   \n\n          sales_channel_id  Day  Month  Year  total_purchases  \\\n29202636                 2   19      7  2020              136   \n29202644                 1   19      7  2020               63   \n29202648                 1   19      7  2020               23   \n29202650                 1   19      7  2020               77   \n29202655                 2   19      7  2020               24   \n...                    ...  ...    ...   ...              ...   \n31788303                 2   22      9  2020              192   \n31788310                 2   22      9  2020              421   \n31788321                 1   22      9  2020               15   \n31788322                 1   22      9  2020               79   \n31788323                 2   22      9  2020               64   \n\n         most_recent_purchase  recency  week  \n29202636           2020-07-30       55    98  \n29202644           2020-07-19       66    98  \n29202648           2020-08-25       29    98  \n29202650           2020-09-11       12    98  \n29202655           2020-07-19       66    98  \n...                       ...      ...   ...  \n31788303           2020-09-22        1   107  \n31788310           2020-09-22        1   107  \n31788321           2020-09-22        1   107  \n31788322           2020-09-22        1   107  \n31788323           2020-09-22        1   107  \n\n[707618 rows x 10 columns]",
      "text/html": "<div>\n<style scoped>\n    .dataframe tbody tr th:only-of-type {\n        vertical-align: middle;\n    }\n\n    .dataframe tbody tr th {\n        vertical-align: top;\n    }\n\n    .dataframe thead th {\n        text-align: right;\n    }\n</style>\n<table border=\"1\" class=\"dataframe\">\n  <thead>\n    <tr style=\"text-align: right;\">\n      <th></th>\n      <th>t_dat</th>\n      <th>customer_id</th>\n      <th>sales_channel_id</th>\n      <th>Day</th>\n      <th>Month</th>\n      <th>Year</th>\n      <th>total_purchases</th>\n      <th>most_recent_purchase</th>\n      <th>recency</th>\n      <th>week</th>\n    </tr>\n  </thead>\n  <tbody>\n    <tr>\n      <th>29202636</th>\n      <td>2020-07-19</td>\n      <td>0000f1c71aafe5963c3d195cf273f7bfd50bbf17761c91...</td>\n      <td>2</td>\n      <td>19</td>\n      <td>7</td>\n      <td>2020</td>\n      <td>136</td>\n      <td>2020-07-30</td>\n      <td>55</td>\n      <td>98</td>\n    </tr>\n    <tr>\n      <th>29202644</th>\n      <td>2020-07-19</td>\n      <td>0015e1028e70b159e9bee92455c4782e72fb4ceb3fccb6...</td>\n      <td>1</td>\n      <td>19</td>\n      <td>7</td>\n      <td>2020</td>\n      <td>63</td>\n      <td>2020-07-19</td>\n      <td>66</td>\n      <td>98</td>\n    </tr>\n    <tr>\n      <th>29202648</th>\n      <td>2020-07-19</td>\n      <td>00190ae87b184c5a8886a6024c043275e883636c238fad...</td>\n      <td>1</td>\n      <td>19</td>\n      <td>7</td>\n      <td>2020</td>\n      <td>23</td>\n      <td>2020-08-25</td>\n      <td>29</td>\n      <td>98</td>\n    </tr>\n    <tr>\n      <th>29202650</th>\n      <td>2020-07-19</td>\n      <td>002b985c40b9ab3cd56bccc18e3c1d0a1242a172eb7a69...</td>\n      <td>1</td>\n      <td>19</td>\n      <td>7</td>\n      <td>2020</td>\n      <td>77</td>\n      <td>2020-09-11</td>\n      <td>12</td>\n      <td>98</td>\n    </tr>\n    <tr>\n      <th>29202655</th>\n      <td>2020-07-19</td>\n      <td>002ef9a63f8c49c145b59dbccc5dc540891869cc1c1f03...</td>\n      <td>2</td>\n      <td>19</td>\n      <td>7</td>\n      <td>2020</td>\n      <td>24</td>\n      <td>2020-07-19</td>\n      <td>66</td>\n      <td>98</td>\n    </tr>\n    <tr>\n      <th>...</th>\n      <td>...</td>\n      <td>...</td>\n      <td>...</td>\n      <td>...</td>\n      <td>...</td>\n      <td>...</td>\n      <td>...</td>\n      <td>...</td>\n      <td>...</td>\n      <td>...</td>\n    </tr>\n    <tr>\n      <th>31788303</th>\n      <td>2020-09-22</td>\n      <td>ffcba92c45455b22f54dd02303b057c0a4b9b1f4fcfdf2...</td>\n      <td>2</td>\n      <td>22</td>\n      <td>9</td>\n      <td>2020</td>\n      <td>192</td>\n      <td>2020-09-22</td>\n      <td>1</td>\n      <td>107</td>\n    </tr>\n    <tr>\n      <th>31788310</th>\n      <td>2020-09-22</td>\n      <td>ffd4cf2217de4a0a3f9f610cdec334c803692a18af08ac...</td>\n      <td>2</td>\n      <td>22</td>\n      <td>9</td>\n      <td>2020</td>\n      <td>421</td>\n      <td>2020-09-22</td>\n      <td>1</td>\n      <td>107</td>\n    </tr>\n    <tr>\n      <th>31788321</th>\n      <td>2020-09-22</td>\n      <td>fff380805474b287b05cb2a7507b9a013482f7dd0bce0e...</td>\n      <td>1</td>\n      <td>22</td>\n      <td>9</td>\n      <td>2020</td>\n      <td>15</td>\n      <td>2020-09-22</td>\n      <td>1</td>\n      <td>107</td>\n    </tr>\n    <tr>\n      <th>31788322</th>\n      <td>2020-09-22</td>\n      <td>fff4d3a8b1f3b60af93e78c30a7cb4cf75edaf2590d3e5...</td>\n      <td>1</td>\n      <td>22</td>\n      <td>9</td>\n      <td>2020</td>\n      <td>79</td>\n      <td>2020-09-22</td>\n      <td>1</td>\n      <td>107</td>\n    </tr>\n    <tr>\n      <th>31788323</th>\n      <td>2020-09-22</td>\n      <td>fffef3b6b73545df065b521e19f64bf6fe93bfd450ab20...</td>\n      <td>2</td>\n      <td>22</td>\n      <td>9</td>\n      <td>2020</td>\n      <td>64</td>\n      <td>2020-09-22</td>\n      <td>1</td>\n      <td>107</td>\n    </tr>\n  </tbody>\n</table>\n<p>707618 rows × 10 columns</p>\n</div>"
     },
     "execution_count": 29,
     "metadata": {},
     "output_type": "execute_result"
    }
   ],
   "source": [
    "unique_transactions"
   ]
  },
  {
   "cell_type": "code",
   "execution_count": 30,
   "id": "5721ca6d",
   "metadata": {
    "execution": {
     "iopub.execute_input": "2022-04-16T16:59:29.492465Z",
     "iopub.status.busy": "2022-04-16T16:59:29.491796Z",
     "iopub.status.idle": "2022-04-16T16:59:29.789430Z",
     "shell.execute_reply": "2022-04-16T16:59:29.788532Z"
    },
    "papermill": {
     "duration": 0.383891,
     "end_time": "2022-04-16T16:59:29.791258",
     "exception": false,
     "start_time": "2022-04-16T16:59:29.407367",
     "status": "completed"
    },
    "tags": [],
    "ExecuteTime": {
     "end_time": "2023-10-07T21:08:55.829318300Z",
     "start_time": "2023-10-07T21:08:55.785893800Z"
    }
   },
   "outputs": [
    {
     "data": {
      "text/plain": "               t_dat                                        customer_id  \\\n29202636  2020-07-19  0000f1c71aafe5963c3d195cf273f7bfd50bbf17761c91...   \n29202644  2020-07-19  0015e1028e70b159e9bee92455c4782e72fb4ceb3fccb6...   \n29202648  2020-07-19  00190ae87b184c5a8886a6024c043275e883636c238fad...   \n29202650  2020-07-19  002b985c40b9ab3cd56bccc18e3c1d0a1242a172eb7a69...   \n29202655  2020-07-19  002ef9a63f8c49c145b59dbccc5dc540891869cc1c1f03...   \n...              ...                                                ...   \n31788303  2020-09-22  ffcba92c45455b22f54dd02303b057c0a4b9b1f4fcfdf2...   \n31788310  2020-09-22  ffd4cf2217de4a0a3f9f610cdec334c803692a18af08ac...   \n31788321  2020-09-22  fff380805474b287b05cb2a7507b9a013482f7dd0bce0e...   \n31788322  2020-09-22  fff4d3a8b1f3b60af93e78c30a7cb4cf75edaf2590d3e5...   \n31788323  2020-09-22  fffef3b6b73545df065b521e19f64bf6fe93bfd450ab20...   \n\n          article_id     price  sales_channel_id  Day  Month  Year  \\\n29202636   917434002  0.011847                 2   19      7  2020   \n29202644   879248008  0.014390                 1   19      7  2020   \n29202648   823168008  0.009051                 1   19      7  2020   \n29202650   867044004  0.033881                 1   19      7  2020   \n29202655   560208003  0.012186                 2   19      7  2020   \n...              ...       ...               ...  ...    ...   ...   \n31788303   919273002  0.042356                 2   22      9  2020   \n31788310   896169005  0.050831                 2   22      9  2020   \n31788321   918325001  0.043203                 1   22      9  2020   \n31788322   833459002  0.006763                 1   22      9  2020   \n31788323   898573003  0.033881                 2   22      9  2020   \n\n          total_purchases most_recent_purchase  recency  week  \n29202636              136           2020-07-30       55    98  \n29202644               63           2020-07-19       66    98  \n29202648               23           2020-08-25       29    98  \n29202650               77           2020-09-11       12    98  \n29202655               24           2020-07-19       66    98  \n...                   ...                  ...      ...   ...  \n31788303              192           2020-09-22        1   107  \n31788310              421           2020-09-22        1   107  \n31788321               15           2020-09-22        1   107  \n31788322               79           2020-09-22        1   107  \n31788323               64           2020-09-22        1   107  \n\n[707618 rows x 12 columns]",
      "text/html": "<div>\n<style scoped>\n    .dataframe tbody tr th:only-of-type {\n        vertical-align: middle;\n    }\n\n    .dataframe tbody tr th {\n        vertical-align: top;\n    }\n\n    .dataframe thead th {\n        text-align: right;\n    }\n</style>\n<table border=\"1\" class=\"dataframe\">\n  <thead>\n    <tr style=\"text-align: right;\">\n      <th></th>\n      <th>t_dat</th>\n      <th>customer_id</th>\n      <th>article_id</th>\n      <th>price</th>\n      <th>sales_channel_id</th>\n      <th>Day</th>\n      <th>Month</th>\n      <th>Year</th>\n      <th>total_purchases</th>\n      <th>most_recent_purchase</th>\n      <th>recency</th>\n      <th>week</th>\n    </tr>\n  </thead>\n  <tbody>\n    <tr>\n      <th>29202636</th>\n      <td>2020-07-19</td>\n      <td>0000f1c71aafe5963c3d195cf273f7bfd50bbf17761c91...</td>\n      <td>917434002</td>\n      <td>0.011847</td>\n      <td>2</td>\n      <td>19</td>\n      <td>7</td>\n      <td>2020</td>\n      <td>136</td>\n      <td>2020-07-30</td>\n      <td>55</td>\n      <td>98</td>\n    </tr>\n    <tr>\n      <th>29202644</th>\n      <td>2020-07-19</td>\n      <td>0015e1028e70b159e9bee92455c4782e72fb4ceb3fccb6...</td>\n      <td>879248008</td>\n      <td>0.014390</td>\n      <td>1</td>\n      <td>19</td>\n      <td>7</td>\n      <td>2020</td>\n      <td>63</td>\n      <td>2020-07-19</td>\n      <td>66</td>\n      <td>98</td>\n    </tr>\n    <tr>\n      <th>29202648</th>\n      <td>2020-07-19</td>\n      <td>00190ae87b184c5a8886a6024c043275e883636c238fad...</td>\n      <td>823168008</td>\n      <td>0.009051</td>\n      <td>1</td>\n      <td>19</td>\n      <td>7</td>\n      <td>2020</td>\n      <td>23</td>\n      <td>2020-08-25</td>\n      <td>29</td>\n      <td>98</td>\n    </tr>\n    <tr>\n      <th>29202650</th>\n      <td>2020-07-19</td>\n      <td>002b985c40b9ab3cd56bccc18e3c1d0a1242a172eb7a69...</td>\n      <td>867044004</td>\n      <td>0.033881</td>\n      <td>1</td>\n      <td>19</td>\n      <td>7</td>\n      <td>2020</td>\n      <td>77</td>\n      <td>2020-09-11</td>\n      <td>12</td>\n      <td>98</td>\n    </tr>\n    <tr>\n      <th>29202655</th>\n      <td>2020-07-19</td>\n      <td>002ef9a63f8c49c145b59dbccc5dc540891869cc1c1f03...</td>\n      <td>560208003</td>\n      <td>0.012186</td>\n      <td>2</td>\n      <td>19</td>\n      <td>7</td>\n      <td>2020</td>\n      <td>24</td>\n      <td>2020-07-19</td>\n      <td>66</td>\n      <td>98</td>\n    </tr>\n    <tr>\n      <th>...</th>\n      <td>...</td>\n      <td>...</td>\n      <td>...</td>\n      <td>...</td>\n      <td>...</td>\n      <td>...</td>\n      <td>...</td>\n      <td>...</td>\n      <td>...</td>\n      <td>...</td>\n      <td>...</td>\n      <td>...</td>\n    </tr>\n    <tr>\n      <th>31788303</th>\n      <td>2020-09-22</td>\n      <td>ffcba92c45455b22f54dd02303b057c0a4b9b1f4fcfdf2...</td>\n      <td>919273002</td>\n      <td>0.042356</td>\n      <td>2</td>\n      <td>22</td>\n      <td>9</td>\n      <td>2020</td>\n      <td>192</td>\n      <td>2020-09-22</td>\n      <td>1</td>\n      <td>107</td>\n    </tr>\n    <tr>\n      <th>31788310</th>\n      <td>2020-09-22</td>\n      <td>ffd4cf2217de4a0a3f9f610cdec334c803692a18af08ac...</td>\n      <td>896169005</td>\n      <td>0.050831</td>\n      <td>2</td>\n      <td>22</td>\n      <td>9</td>\n      <td>2020</td>\n      <td>421</td>\n      <td>2020-09-22</td>\n      <td>1</td>\n      <td>107</td>\n    </tr>\n    <tr>\n      <th>31788321</th>\n      <td>2020-09-22</td>\n      <td>fff380805474b287b05cb2a7507b9a013482f7dd0bce0e...</td>\n      <td>918325001</td>\n      <td>0.043203</td>\n      <td>1</td>\n      <td>22</td>\n      <td>9</td>\n      <td>2020</td>\n      <td>15</td>\n      <td>2020-09-22</td>\n      <td>1</td>\n      <td>107</td>\n    </tr>\n    <tr>\n      <th>31788322</th>\n      <td>2020-09-22</td>\n      <td>fff4d3a8b1f3b60af93e78c30a7cb4cf75edaf2590d3e5...</td>\n      <td>833459002</td>\n      <td>0.006763</td>\n      <td>1</td>\n      <td>22</td>\n      <td>9</td>\n      <td>2020</td>\n      <td>79</td>\n      <td>2020-09-22</td>\n      <td>1</td>\n      <td>107</td>\n    </tr>\n    <tr>\n      <th>31788323</th>\n      <td>2020-09-22</td>\n      <td>fffef3b6b73545df065b521e19f64bf6fe93bfd450ab20...</td>\n      <td>898573003</td>\n      <td>0.033881</td>\n      <td>2</td>\n      <td>22</td>\n      <td>9</td>\n      <td>2020</td>\n      <td>64</td>\n      <td>2020-09-22</td>\n      <td>1</td>\n      <td>107</td>\n    </tr>\n  </tbody>\n</table>\n<p>707618 rows × 12 columns</p>\n</div>"
     },
     "execution_count": 30,
     "metadata": {},
     "output_type": "execute_result"
    }
   ],
   "source": [
    "transactions.drop_duplicates(['week', 'customer_id'])"
   ]
  },
  {
   "cell_type": "code",
   "execution_count": 31,
   "id": "4a23981e",
   "metadata": {
    "execution": {
     "iopub.execute_input": "2022-04-16T16:59:29.966619Z",
     "iopub.status.busy": "2022-04-16T16:59:29.965698Z",
     "iopub.status.idle": "2022-04-16T16:59:30.451040Z",
     "shell.execute_reply": "2022-04-16T16:59:30.449784Z"
    },
    "papermill": {
     "duration": 0.575247,
     "end_time": "2022-04-16T16:59:30.453425",
     "exception": false,
     "start_time": "2022-04-16T16:59:29.878178",
     "status": "completed"
    },
    "tags": [],
    "ExecuteTime": {
     "start_time": "2023-10-07T21:08:55.785893800Z"
    }
   },
   "outputs": [],
   "source": [
    "candidates_bestsellers = pd.merge(\n",
    "    unique_transactions,\n",
    "    bestsellers_previous_week,\n",
    "    on='week',\n",
    ")"
   ]
  },
  {
   "cell_type": "code",
   "execution_count": 32,
   "id": "ad3a9710",
   "metadata": {
    "execution": {
     "iopub.execute_input": "2022-04-16T16:59:30.557949Z",
     "iopub.status.busy": "2022-04-16T16:59:30.557290Z",
     "iopub.status.idle": "2022-04-16T16:59:30.666388Z",
     "shell.execute_reply": "2022-04-16T16:59:30.665542Z"
    },
    "papermill": {
     "duration": 0.163691,
     "end_time": "2022-04-16T16:59:30.668845",
     "exception": false,
     "start_time": "2022-04-16T16:59:30.505154",
     "status": "completed"
    },
    "tags": [],
    "ExecuteTime": {
     "start_time": "2023-10-07T21:08:55.785893800Z"
    }
   },
   "outputs": [],
   "source": [
    "test_set_transactions = unique_transactions.drop_duplicates('customer_id').reset_index(drop=True)\n",
    "test_set_transactions.week = test_week"
   ]
  },
  {
   "cell_type": "code",
   "execution_count": 33,
   "id": "0234c391",
   "metadata": {
    "execution": {
     "iopub.execute_input": "2022-04-16T16:59:30.834473Z",
     "iopub.status.busy": "2022-04-16T16:59:30.833997Z",
     "iopub.status.idle": "2022-04-16T16:59:30.844349Z",
     "shell.execute_reply": "2022-04-16T16:59:30.843895Z"
    },
    "papermill": {
     "duration": 0.098295,
     "end_time": "2022-04-16T16:59:30.846626",
     "exception": false,
     "start_time": "2022-04-16T16:59:30.748331",
     "status": "completed"
    },
    "tags": [],
    "ExecuteTime": {
     "start_time": "2023-10-07T21:08:55.801523800Z"
    }
   },
   "outputs": [
    {
     "data": {
      "text/plain": "             t_dat                                        customer_id  \\\n0       2020-07-19  0000f1c71aafe5963c3d195cf273f7bfd50bbf17761c91...   \n1       2020-07-19  0015e1028e70b159e9bee92455c4782e72fb4ceb3fccb6...   \n2       2020-07-19  00190ae87b184c5a8886a6024c043275e883636c238fad...   \n3       2020-07-19  002b985c40b9ab3cd56bccc18e3c1d0a1242a172eb7a69...   \n4       2020-07-19  002ef9a63f8c49c145b59dbccc5dc540891869cc1c1f03...   \n...            ...                                                ...   \n420636  2020-09-22  ff5b8a8b26bf93a66290e9bd1b73393ac6a58968a78519...   \n420637  2020-09-22  ff6f55a51af284b71dcd264396b299e548f968c1769e71...   \n420638  2020-09-22  ff732b98019465f078144bae647d7d9765d76e3431ef92...   \n420639  2020-09-22  ffb72741f3bc3d98855703b55d34e05bc7893a5d6a99a3...   \n420640  2020-09-22  ffc92c3f7b0b302f393c2968b290f6e5c5b5510d1cf1df...   \n\n        sales_channel_id  Day  Month  Year  total_purchases  \\\n0                      2   19      7  2020              136   \n1                      1   19      7  2020               63   \n2                      1   19      7  2020               23   \n3                      1   19      7  2020               77   \n4                      2   19      7  2020               24   \n...                  ...  ...    ...   ...              ...   \n420636                 2   22      9  2020                3   \n420637                 2   22      9  2020               10   \n420638                 2   22      9  2020               10   \n420639                 2   22      9  2020               23   \n420640                 2   22      9  2020                9   \n\n       most_recent_purchase  recency  week  \n0                2020-07-30       55   108  \n1                2020-07-19       66   108  \n2                2020-08-25       29   108  \n3                2020-09-11       12   108  \n4                2020-07-19       66   108  \n...                     ...      ...   ...  \n420636           2020-09-22        1   108  \n420637           2020-09-22        1   108  \n420638           2020-09-22        1   108  \n420639           2020-09-22        1   108  \n420640           2020-09-22        1   108  \n\n[420641 rows x 10 columns]",
      "text/html": "<div>\n<style scoped>\n    .dataframe tbody tr th:only-of-type {\n        vertical-align: middle;\n    }\n\n    .dataframe tbody tr th {\n        vertical-align: top;\n    }\n\n    .dataframe thead th {\n        text-align: right;\n    }\n</style>\n<table border=\"1\" class=\"dataframe\">\n  <thead>\n    <tr style=\"text-align: right;\">\n      <th></th>\n      <th>t_dat</th>\n      <th>customer_id</th>\n      <th>sales_channel_id</th>\n      <th>Day</th>\n      <th>Month</th>\n      <th>Year</th>\n      <th>total_purchases</th>\n      <th>most_recent_purchase</th>\n      <th>recency</th>\n      <th>week</th>\n    </tr>\n  </thead>\n  <tbody>\n    <tr>\n      <th>0</th>\n      <td>2020-07-19</td>\n      <td>0000f1c71aafe5963c3d195cf273f7bfd50bbf17761c91...</td>\n      <td>2</td>\n      <td>19</td>\n      <td>7</td>\n      <td>2020</td>\n      <td>136</td>\n      <td>2020-07-30</td>\n      <td>55</td>\n      <td>108</td>\n    </tr>\n    <tr>\n      <th>1</th>\n      <td>2020-07-19</td>\n      <td>0015e1028e70b159e9bee92455c4782e72fb4ceb3fccb6...</td>\n      <td>1</td>\n      <td>19</td>\n      <td>7</td>\n      <td>2020</td>\n      <td>63</td>\n      <td>2020-07-19</td>\n      <td>66</td>\n      <td>108</td>\n    </tr>\n    <tr>\n      <th>2</th>\n      <td>2020-07-19</td>\n      <td>00190ae87b184c5a8886a6024c043275e883636c238fad...</td>\n      <td>1</td>\n      <td>19</td>\n      <td>7</td>\n      <td>2020</td>\n      <td>23</td>\n      <td>2020-08-25</td>\n      <td>29</td>\n      <td>108</td>\n    </tr>\n    <tr>\n      <th>3</th>\n      <td>2020-07-19</td>\n      <td>002b985c40b9ab3cd56bccc18e3c1d0a1242a172eb7a69...</td>\n      <td>1</td>\n      <td>19</td>\n      <td>7</td>\n      <td>2020</td>\n      <td>77</td>\n      <td>2020-09-11</td>\n      <td>12</td>\n      <td>108</td>\n    </tr>\n    <tr>\n      <th>4</th>\n      <td>2020-07-19</td>\n      <td>002ef9a63f8c49c145b59dbccc5dc540891869cc1c1f03...</td>\n      <td>2</td>\n      <td>19</td>\n      <td>7</td>\n      <td>2020</td>\n      <td>24</td>\n      <td>2020-07-19</td>\n      <td>66</td>\n      <td>108</td>\n    </tr>\n    <tr>\n      <th>...</th>\n      <td>...</td>\n      <td>...</td>\n      <td>...</td>\n      <td>...</td>\n      <td>...</td>\n      <td>...</td>\n      <td>...</td>\n      <td>...</td>\n      <td>...</td>\n      <td>...</td>\n    </tr>\n    <tr>\n      <th>420636</th>\n      <td>2020-09-22</td>\n      <td>ff5b8a8b26bf93a66290e9bd1b73393ac6a58968a78519...</td>\n      <td>2</td>\n      <td>22</td>\n      <td>9</td>\n      <td>2020</td>\n      <td>3</td>\n      <td>2020-09-22</td>\n      <td>1</td>\n      <td>108</td>\n    </tr>\n    <tr>\n      <th>420637</th>\n      <td>2020-09-22</td>\n      <td>ff6f55a51af284b71dcd264396b299e548f968c1769e71...</td>\n      <td>2</td>\n      <td>22</td>\n      <td>9</td>\n      <td>2020</td>\n      <td>10</td>\n      <td>2020-09-22</td>\n      <td>1</td>\n      <td>108</td>\n    </tr>\n    <tr>\n      <th>420638</th>\n      <td>2020-09-22</td>\n      <td>ff732b98019465f078144bae647d7d9765d76e3431ef92...</td>\n      <td>2</td>\n      <td>22</td>\n      <td>9</td>\n      <td>2020</td>\n      <td>10</td>\n      <td>2020-09-22</td>\n      <td>1</td>\n      <td>108</td>\n    </tr>\n    <tr>\n      <th>420639</th>\n      <td>2020-09-22</td>\n      <td>ffb72741f3bc3d98855703b55d34e05bc7893a5d6a99a3...</td>\n      <td>2</td>\n      <td>22</td>\n      <td>9</td>\n      <td>2020</td>\n      <td>23</td>\n      <td>2020-09-22</td>\n      <td>1</td>\n      <td>108</td>\n    </tr>\n    <tr>\n      <th>420640</th>\n      <td>2020-09-22</td>\n      <td>ffc92c3f7b0b302f393c2968b290f6e5c5b5510d1cf1df...</td>\n      <td>2</td>\n      <td>22</td>\n      <td>9</td>\n      <td>2020</td>\n      <td>9</td>\n      <td>2020-09-22</td>\n      <td>1</td>\n      <td>108</td>\n    </tr>\n  </tbody>\n</table>\n<p>420641 rows × 10 columns</p>\n</div>"
     },
     "execution_count": 33,
     "metadata": {},
     "output_type": "execute_result"
    }
   ],
   "source": [
    "test_set_transactions"
   ]
  },
  {
   "cell_type": "code",
   "execution_count": 34,
   "id": "9f64b005",
   "metadata": {
    "execution": {
     "iopub.execute_input": "2022-04-16T16:59:31.022450Z",
     "iopub.status.busy": "2022-04-16T16:59:31.021916Z",
     "iopub.status.idle": "2022-04-16T16:59:31.402955Z",
     "shell.execute_reply": "2022-04-16T16:59:31.402449Z"
    },
    "papermill": {
     "duration": 0.473042,
     "end_time": "2022-04-16T16:59:31.405328",
     "exception": false,
     "start_time": "2022-04-16T16:59:30.932286",
     "status": "completed"
    },
    "tags": [],
    "ExecuteTime": {
     "start_time": "2023-10-07T21:08:55.801523800Z"
    }
   },
   "outputs": [],
   "source": [
    "candidates_bestsellers_test_week = pd.merge(\n",
    "    test_set_transactions,\n",
    "    bestsellers_previous_week,\n",
    "    on='week'\n",
    ")"
   ]
  },
  {
   "cell_type": "code",
   "execution_count": 35,
   "id": "212b7926",
   "metadata": {
    "execution": {
     "iopub.execute_input": "2022-04-16T16:59:31.572192Z",
     "iopub.status.busy": "2022-04-16T16:59:31.571731Z",
     "iopub.status.idle": "2022-04-16T16:59:32.056182Z",
     "shell.execute_reply": "2022-04-16T16:59:32.054646Z"
    },
    "papermill": {
     "duration": 0.570441,
     "end_time": "2022-04-16T16:59:32.058855",
     "exception": false,
     "start_time": "2022-04-16T16:59:31.488414",
     "status": "completed"
    },
    "tags": [],
    "ExecuteTime": {
     "start_time": "2023-10-07T21:08:55.817145400Z"
    }
   },
   "outputs": [],
   "source": [
    "candidates_bestsellers = pd.concat([candidates_bestsellers, candidates_bestsellers_test_week])\n",
    "candidates_bestsellers.drop(columns='bestseller_rank', inplace=True)"
   ]
  },
  {
   "cell_type": "code",
   "execution_count": 36,
   "id": "ffee52dd",
   "metadata": {
    "execution": {
     "iopub.execute_input": "2022-04-16T16:59:32.220857Z",
     "iopub.status.busy": "2022-04-16T16:59:32.220489Z",
     "iopub.status.idle": "2022-04-16T16:59:32.231938Z",
     "shell.execute_reply": "2022-04-16T16:59:32.231436Z"
    },
    "papermill": {
     "duration": 0.095192,
     "end_time": "2022-04-16T16:59:32.233727",
     "exception": false,
     "start_time": "2022-04-16T16:59:32.138535",
     "status": "completed"
    },
    "tags": [],
    "ExecuteTime": {
     "start_time": "2023-10-07T21:08:55.817145400Z"
    }
   },
   "outputs": [
    {
     "data": {
      "text/plain": "              t_dat                                        customer_id  \\\n0        2020-07-26  001968eb5b52125225a9bbca15d0d4e8bd8fd1d6874b76...   \n1        2020-07-26  001968eb5b52125225a9bbca15d0d4e8bd8fd1d6874b76...   \n2        2020-07-26  001968eb5b52125225a9bbca15d0d4e8bd8fd1d6874b76...   \n3        2020-07-26  001968eb5b52125225a9bbca15d0d4e8bd8fd1d6874b76...   \n4        2020-07-26  001968eb5b52125225a9bbca15d0d4e8bd8fd1d6874b76...   \n...             ...                                                ...   \n5047687  2020-09-22  ffc92c3f7b0b302f393c2968b290f6e5c5b5510d1cf1df...   \n5047688  2020-09-22  ffc92c3f7b0b302f393c2968b290f6e5c5b5510d1cf1df...   \n5047689  2020-09-22  ffc92c3f7b0b302f393c2968b290f6e5c5b5510d1cf1df...   \n5047690  2020-09-22  ffc92c3f7b0b302f393c2968b290f6e5c5b5510d1cf1df...   \n5047691  2020-09-22  ffc92c3f7b0b302f393c2968b290f6e5c5b5510d1cf1df...   \n\n         sales_channel_id  Day  Month  Year  total_purchases  \\\n0                       1   26      7  2020               31   \n1                       1   26      7  2020               31   \n2                       1   26      7  2020               31   \n3                       1   26      7  2020               31   \n4                       1   26      7  2020               31   \n...                   ...  ...    ...   ...              ...   \n5047687                 2   22      9  2020                9   \n5047688                 2   22      9  2020                9   \n5047689                 2   22      9  2020                9   \n5047690                 2   22      9  2020                9   \n5047691                 2   22      9  2020                9   \n\n        most_recent_purchase  recency  week  article_id     price  \n0                 2020-07-26       59    99   760084003  0.025092  \n1                 2020-07-26       59    99   827968001  0.016565  \n2                 2020-07-26       59    99   610776002  0.008302  \n3                 2020-07-26       59    99   706016001  0.033168  \n4                 2020-07-26       59    99   372860002  0.013235  \n...                      ...      ...   ...         ...       ...  \n5047687           2020-09-22        1   108   930380001  0.033645  \n5047688           2020-09-22        1   108   915529003  0.033479  \n5047689           2020-09-22        1   108   923758001  0.033418  \n5047690           2020-09-22        1   108   928206001  0.033473  \n5047691           2020-09-22        1   108   915529005  0.033518  \n\n[12603516 rows x 12 columns]",
      "text/html": "<div>\n<style scoped>\n    .dataframe tbody tr th:only-of-type {\n        vertical-align: middle;\n    }\n\n    .dataframe tbody tr th {\n        vertical-align: top;\n    }\n\n    .dataframe thead th {\n        text-align: right;\n    }\n</style>\n<table border=\"1\" class=\"dataframe\">\n  <thead>\n    <tr style=\"text-align: right;\">\n      <th></th>\n      <th>t_dat</th>\n      <th>customer_id</th>\n      <th>sales_channel_id</th>\n      <th>Day</th>\n      <th>Month</th>\n      <th>Year</th>\n      <th>total_purchases</th>\n      <th>most_recent_purchase</th>\n      <th>recency</th>\n      <th>week</th>\n      <th>article_id</th>\n      <th>price</th>\n    </tr>\n  </thead>\n  <tbody>\n    <tr>\n      <th>0</th>\n      <td>2020-07-26</td>\n      <td>001968eb5b52125225a9bbca15d0d4e8bd8fd1d6874b76...</td>\n      <td>1</td>\n      <td>26</td>\n      <td>7</td>\n      <td>2020</td>\n      <td>31</td>\n      <td>2020-07-26</td>\n      <td>59</td>\n      <td>99</td>\n      <td>760084003</td>\n      <td>0.025092</td>\n    </tr>\n    <tr>\n      <th>1</th>\n      <td>2020-07-26</td>\n      <td>001968eb5b52125225a9bbca15d0d4e8bd8fd1d6874b76...</td>\n      <td>1</td>\n      <td>26</td>\n      <td>7</td>\n      <td>2020</td>\n      <td>31</td>\n      <td>2020-07-26</td>\n      <td>59</td>\n      <td>99</td>\n      <td>827968001</td>\n      <td>0.016565</td>\n    </tr>\n    <tr>\n      <th>2</th>\n      <td>2020-07-26</td>\n      <td>001968eb5b52125225a9bbca15d0d4e8bd8fd1d6874b76...</td>\n      <td>1</td>\n      <td>26</td>\n      <td>7</td>\n      <td>2020</td>\n      <td>31</td>\n      <td>2020-07-26</td>\n      <td>59</td>\n      <td>99</td>\n      <td>610776002</td>\n      <td>0.008302</td>\n    </tr>\n    <tr>\n      <th>3</th>\n      <td>2020-07-26</td>\n      <td>001968eb5b52125225a9bbca15d0d4e8bd8fd1d6874b76...</td>\n      <td>1</td>\n      <td>26</td>\n      <td>7</td>\n      <td>2020</td>\n      <td>31</td>\n      <td>2020-07-26</td>\n      <td>59</td>\n      <td>99</td>\n      <td>706016001</td>\n      <td>0.033168</td>\n    </tr>\n    <tr>\n      <th>4</th>\n      <td>2020-07-26</td>\n      <td>001968eb5b52125225a9bbca15d0d4e8bd8fd1d6874b76...</td>\n      <td>1</td>\n      <td>26</td>\n      <td>7</td>\n      <td>2020</td>\n      <td>31</td>\n      <td>2020-07-26</td>\n      <td>59</td>\n      <td>99</td>\n      <td>372860002</td>\n      <td>0.013235</td>\n    </tr>\n    <tr>\n      <th>...</th>\n      <td>...</td>\n      <td>...</td>\n      <td>...</td>\n      <td>...</td>\n      <td>...</td>\n      <td>...</td>\n      <td>...</td>\n      <td>...</td>\n      <td>...</td>\n      <td>...</td>\n      <td>...</td>\n      <td>...</td>\n    </tr>\n    <tr>\n      <th>5047687</th>\n      <td>2020-09-22</td>\n      <td>ffc92c3f7b0b302f393c2968b290f6e5c5b5510d1cf1df...</td>\n      <td>2</td>\n      <td>22</td>\n      <td>9</td>\n      <td>2020</td>\n      <td>9</td>\n      <td>2020-09-22</td>\n      <td>1</td>\n      <td>108</td>\n      <td>930380001</td>\n      <td>0.033645</td>\n    </tr>\n    <tr>\n      <th>5047688</th>\n      <td>2020-09-22</td>\n      <td>ffc92c3f7b0b302f393c2968b290f6e5c5b5510d1cf1df...</td>\n      <td>2</td>\n      <td>22</td>\n      <td>9</td>\n      <td>2020</td>\n      <td>9</td>\n      <td>2020-09-22</td>\n      <td>1</td>\n      <td>108</td>\n      <td>915529003</td>\n      <td>0.033479</td>\n    </tr>\n    <tr>\n      <th>5047689</th>\n      <td>2020-09-22</td>\n      <td>ffc92c3f7b0b302f393c2968b290f6e5c5b5510d1cf1df...</td>\n      <td>2</td>\n      <td>22</td>\n      <td>9</td>\n      <td>2020</td>\n      <td>9</td>\n      <td>2020-09-22</td>\n      <td>1</td>\n      <td>108</td>\n      <td>923758001</td>\n      <td>0.033418</td>\n    </tr>\n    <tr>\n      <th>5047690</th>\n      <td>2020-09-22</td>\n      <td>ffc92c3f7b0b302f393c2968b290f6e5c5b5510d1cf1df...</td>\n      <td>2</td>\n      <td>22</td>\n      <td>9</td>\n      <td>2020</td>\n      <td>9</td>\n      <td>2020-09-22</td>\n      <td>1</td>\n      <td>108</td>\n      <td>928206001</td>\n      <td>0.033473</td>\n    </tr>\n    <tr>\n      <th>5047691</th>\n      <td>2020-09-22</td>\n      <td>ffc92c3f7b0b302f393c2968b290f6e5c5b5510d1cf1df...</td>\n      <td>2</td>\n      <td>22</td>\n      <td>9</td>\n      <td>2020</td>\n      <td>9</td>\n      <td>2020-09-22</td>\n      <td>1</td>\n      <td>108</td>\n      <td>915529005</td>\n      <td>0.033518</td>\n    </tr>\n  </tbody>\n</table>\n<p>12603516 rows × 12 columns</p>\n</div>"
     },
     "execution_count": 36,
     "metadata": {},
     "output_type": "execute_result"
    }
   ],
   "source": [
    "candidates_bestsellers"
   ]
  },
  {
   "cell_type": "markdown",
   "id": "d5b03292",
   "metadata": {
    "papermill": {
     "duration": 0.08208,
     "end_time": "2022-04-16T16:59:32.397198",
     "exception": false,
     "start_time": "2022-04-16T16:59:32.315118",
     "status": "completed"
    },
    "tags": []
   },
   "source": [
    "# Combining transactions and candidates / negative examples"
   ]
  },
  {
   "cell_type": "code",
   "execution_count": 37,
   "id": "529196a4",
   "metadata": {
    "execution": {
     "iopub.execute_input": "2022-04-16T16:59:32.559999Z",
     "iopub.status.busy": "2022-04-16T16:59:32.559691Z",
     "iopub.status.idle": "2022-04-16T16:59:32.568020Z",
     "shell.execute_reply": "2022-04-16T16:59:32.567210Z"
    },
    "papermill": {
     "duration": 0.090433,
     "end_time": "2022-04-16T16:59:32.570268",
     "exception": false,
     "start_time": "2022-04-16T16:59:32.479835",
     "status": "completed"
    },
    "tags": [],
    "ExecuteTime": {
     "start_time": "2023-10-07T21:08:55.817145400Z"
    }
   },
   "outputs": [],
   "source": [
    "transactions['purchased'] = 1"
   ]
  },
  {
   "cell_type": "code",
   "execution_count": 38,
   "id": "421a601e",
   "metadata": {
    "execution": {
     "iopub.execute_input": "2022-04-16T16:59:32.732883Z",
     "iopub.status.busy": "2022-04-16T16:59:32.732442Z",
     "iopub.status.idle": "2022-04-16T16:59:33.215270Z",
     "shell.execute_reply": "2022-04-16T16:59:33.214358Z"
    },
    "papermill": {
     "duration": 0.56807,
     "end_time": "2022-04-16T16:59:33.217736",
     "exception": false,
     "start_time": "2022-04-16T16:59:32.649666",
     "status": "completed"
    },
    "tags": [],
    "ExecuteTime": {
     "start_time": "2023-10-07T21:08:55.817145400Z"
    }
   },
   "outputs": [],
   "source": [
    "data = pd.concat([transactions, candidates_last_purchase, candidates_bestsellers])\n",
    "data.purchased.fillna(0, inplace=True)"
   ]
  },
  {
   "cell_type": "code",
   "execution_count": 39,
   "id": "8c8a19c1",
   "metadata": {
    "execution": {
     "iopub.execute_input": "2022-04-16T16:59:33.379432Z",
     "iopub.status.busy": "2022-04-16T16:59:33.378979Z",
     "iopub.status.idle": "2022-04-16T16:59:33.396587Z",
     "shell.execute_reply": "2022-04-16T16:59:33.396050Z"
    },
    "papermill": {
     "duration": 0.102346,
     "end_time": "2022-04-16T16:59:33.398626",
     "exception": false,
     "start_time": "2022-04-16T16:59:33.296280",
     "status": "completed"
    },
    "tags": [],
    "ExecuteTime": {
     "end_time": "2023-10-07T21:08:55.844956200Z",
     "start_time": "2023-10-07T21:08:55.829318300Z"
    }
   },
   "outputs": [
    {
     "data": {
      "text/plain": "               t_dat                                        customer_id  \\\n29202636  2020-07-19  0000f1c71aafe5963c3d195cf273f7bfd50bbf17761c91...   \n29202637  2020-07-19  0000f1c71aafe5963c3d195cf273f7bfd50bbf17761c91...   \n29202638  2020-07-19  0000f1c71aafe5963c3d195cf273f7bfd50bbf17761c91...   \n29202639  2020-07-19  0000f1c71aafe5963c3d195cf273f7bfd50bbf17761c91...   \n29202640  2020-07-19  0000f1c71aafe5963c3d195cf273f7bfd50bbf17761c91...   \n...              ...                                                ...   \n5047687   2020-09-22  ffc92c3f7b0b302f393c2968b290f6e5c5b5510d1cf1df...   \n5047688   2020-09-22  ffc92c3f7b0b302f393c2968b290f6e5c5b5510d1cf1df...   \n5047689   2020-09-22  ffc92c3f7b0b302f393c2968b290f6e5c5b5510d1cf1df...   \n5047690   2020-09-22  ffc92c3f7b0b302f393c2968b290f6e5c5b5510d1cf1df...   \n5047691   2020-09-22  ffc92c3f7b0b302f393c2968b290f6e5c5b5510d1cf1df...   \n\n          article_id     price  sales_channel_id  Day  Month  Year  \\\n29202636   917434002  0.011847                 2   19      7  2020   \n29202637   685814048  0.033881                 2   19      7  2020   \n29202638   895418003  0.033881                 2   19      7  2020   \n29202639   875469002  0.016932                 2   19      7  2020   \n29202640   835851001  0.042356                 2   19      7  2020   \n...              ...       ...               ...  ...    ...   ...   \n5047687    930380001  0.033645                 2   22      9  2020   \n5047688    915529003  0.033479                 2   22      9  2020   \n5047689    923758001  0.033418                 2   22      9  2020   \n5047690    928206001  0.033473                 2   22      9  2020   \n5047691    915529005  0.033518                 2   22      9  2020   \n\n          total_purchases most_recent_purchase  recency  week  purchased  \n29202636              136           2020-07-30       55    98        1.0  \n29202637              136           2020-07-30       55    98        1.0  \n29202638              136           2020-07-30       55    98        1.0  \n29202639              136           2020-07-30       55    98        1.0  \n29202640              136           2020-07-30       55    98        1.0  \n...                   ...                  ...      ...   ...        ...  \n5047687                 9           2020-09-22        1   108        0.0  \n5047688                 9           2020-09-22        1   108        0.0  \n5047689                 9           2020-09-22        1   108        0.0  \n5047690                 9           2020-09-22        1   108        0.0  \n5047691                 9           2020-09-22        1   108        0.0  \n\n[17774892 rows x 13 columns]",
      "text/html": "<div>\n<style scoped>\n    .dataframe tbody tr th:only-of-type {\n        vertical-align: middle;\n    }\n\n    .dataframe tbody tr th {\n        vertical-align: top;\n    }\n\n    .dataframe thead th {\n        text-align: right;\n    }\n</style>\n<table border=\"1\" class=\"dataframe\">\n  <thead>\n    <tr style=\"text-align: right;\">\n      <th></th>\n      <th>t_dat</th>\n      <th>customer_id</th>\n      <th>article_id</th>\n      <th>price</th>\n      <th>sales_channel_id</th>\n      <th>Day</th>\n      <th>Month</th>\n      <th>Year</th>\n      <th>total_purchases</th>\n      <th>most_recent_purchase</th>\n      <th>recency</th>\n      <th>week</th>\n      <th>purchased</th>\n    </tr>\n  </thead>\n  <tbody>\n    <tr>\n      <th>29202636</th>\n      <td>2020-07-19</td>\n      <td>0000f1c71aafe5963c3d195cf273f7bfd50bbf17761c91...</td>\n      <td>917434002</td>\n      <td>0.011847</td>\n      <td>2</td>\n      <td>19</td>\n      <td>7</td>\n      <td>2020</td>\n      <td>136</td>\n      <td>2020-07-30</td>\n      <td>55</td>\n      <td>98</td>\n      <td>1.0</td>\n    </tr>\n    <tr>\n      <th>29202637</th>\n      <td>2020-07-19</td>\n      <td>0000f1c71aafe5963c3d195cf273f7bfd50bbf17761c91...</td>\n      <td>685814048</td>\n      <td>0.033881</td>\n      <td>2</td>\n      <td>19</td>\n      <td>7</td>\n      <td>2020</td>\n      <td>136</td>\n      <td>2020-07-30</td>\n      <td>55</td>\n      <td>98</td>\n      <td>1.0</td>\n    </tr>\n    <tr>\n      <th>29202638</th>\n      <td>2020-07-19</td>\n      <td>0000f1c71aafe5963c3d195cf273f7bfd50bbf17761c91...</td>\n      <td>895418003</td>\n      <td>0.033881</td>\n      <td>2</td>\n      <td>19</td>\n      <td>7</td>\n      <td>2020</td>\n      <td>136</td>\n      <td>2020-07-30</td>\n      <td>55</td>\n      <td>98</td>\n      <td>1.0</td>\n    </tr>\n    <tr>\n      <th>29202639</th>\n      <td>2020-07-19</td>\n      <td>0000f1c71aafe5963c3d195cf273f7bfd50bbf17761c91...</td>\n      <td>875469002</td>\n      <td>0.016932</td>\n      <td>2</td>\n      <td>19</td>\n      <td>7</td>\n      <td>2020</td>\n      <td>136</td>\n      <td>2020-07-30</td>\n      <td>55</td>\n      <td>98</td>\n      <td>1.0</td>\n    </tr>\n    <tr>\n      <th>29202640</th>\n      <td>2020-07-19</td>\n      <td>0000f1c71aafe5963c3d195cf273f7bfd50bbf17761c91...</td>\n      <td>835851001</td>\n      <td>0.042356</td>\n      <td>2</td>\n      <td>19</td>\n      <td>7</td>\n      <td>2020</td>\n      <td>136</td>\n      <td>2020-07-30</td>\n      <td>55</td>\n      <td>98</td>\n      <td>1.0</td>\n    </tr>\n    <tr>\n      <th>...</th>\n      <td>...</td>\n      <td>...</td>\n      <td>...</td>\n      <td>...</td>\n      <td>...</td>\n      <td>...</td>\n      <td>...</td>\n      <td>...</td>\n      <td>...</td>\n      <td>...</td>\n      <td>...</td>\n      <td>...</td>\n      <td>...</td>\n    </tr>\n    <tr>\n      <th>5047687</th>\n      <td>2020-09-22</td>\n      <td>ffc92c3f7b0b302f393c2968b290f6e5c5b5510d1cf1df...</td>\n      <td>930380001</td>\n      <td>0.033645</td>\n      <td>2</td>\n      <td>22</td>\n      <td>9</td>\n      <td>2020</td>\n      <td>9</td>\n      <td>2020-09-22</td>\n      <td>1</td>\n      <td>108</td>\n      <td>0.0</td>\n    </tr>\n    <tr>\n      <th>5047688</th>\n      <td>2020-09-22</td>\n      <td>ffc92c3f7b0b302f393c2968b290f6e5c5b5510d1cf1df...</td>\n      <td>915529003</td>\n      <td>0.033479</td>\n      <td>2</td>\n      <td>22</td>\n      <td>9</td>\n      <td>2020</td>\n      <td>9</td>\n      <td>2020-09-22</td>\n      <td>1</td>\n      <td>108</td>\n      <td>0.0</td>\n    </tr>\n    <tr>\n      <th>5047689</th>\n      <td>2020-09-22</td>\n      <td>ffc92c3f7b0b302f393c2968b290f6e5c5b5510d1cf1df...</td>\n      <td>923758001</td>\n      <td>0.033418</td>\n      <td>2</td>\n      <td>22</td>\n      <td>9</td>\n      <td>2020</td>\n      <td>9</td>\n      <td>2020-09-22</td>\n      <td>1</td>\n      <td>108</td>\n      <td>0.0</td>\n    </tr>\n    <tr>\n      <th>5047690</th>\n      <td>2020-09-22</td>\n      <td>ffc92c3f7b0b302f393c2968b290f6e5c5b5510d1cf1df...</td>\n      <td>928206001</td>\n      <td>0.033473</td>\n      <td>2</td>\n      <td>22</td>\n      <td>9</td>\n      <td>2020</td>\n      <td>9</td>\n      <td>2020-09-22</td>\n      <td>1</td>\n      <td>108</td>\n      <td>0.0</td>\n    </tr>\n    <tr>\n      <th>5047691</th>\n      <td>2020-09-22</td>\n      <td>ffc92c3f7b0b302f393c2968b290f6e5c5b5510d1cf1df...</td>\n      <td>915529005</td>\n      <td>0.033518</td>\n      <td>2</td>\n      <td>22</td>\n      <td>9</td>\n      <td>2020</td>\n      <td>9</td>\n      <td>2020-09-22</td>\n      <td>1</td>\n      <td>108</td>\n      <td>0.0</td>\n    </tr>\n  </tbody>\n</table>\n<p>17774892 rows × 13 columns</p>\n</div>"
     },
     "execution_count": 39,
     "metadata": {},
     "output_type": "execute_result"
    }
   ],
   "source": [
    "data"
   ]
  },
  {
   "cell_type": "code",
   "execution_count": 40,
   "id": "9f4e8cdb",
   "metadata": {
    "execution": {
     "iopub.execute_input": "2022-04-16T16:59:33.565093Z",
     "iopub.status.busy": "2022-04-16T16:59:33.564667Z",
     "iopub.status.idle": "2022-04-16T16:59:40.550065Z",
     "shell.execute_reply": "2022-04-16T16:59:40.549283Z"
    },
    "papermill": {
     "duration": 7.070271,
     "end_time": "2022-04-16T16:59:40.552624",
     "exception": false,
     "start_time": "2022-04-16T16:59:33.482353",
     "status": "completed"
    },
    "tags": [],
    "ExecuteTime": {
     "start_time": "2023-10-07T21:08:55.829318300Z"
    }
   },
   "outputs": [],
   "source": [
    "data.drop_duplicates(['customer_id', 'article_id', 'week'], inplace=True)"
   ]
  },
  {
   "cell_type": "code",
   "execution_count": 41,
   "id": "95414c83",
   "metadata": {
    "execution": {
     "iopub.execute_input": "2022-04-16T16:59:40.724050Z",
     "iopub.status.busy": "2022-04-16T16:59:40.723803Z",
     "iopub.status.idle": "2022-04-16T16:59:40.766530Z",
     "shell.execute_reply": "2022-04-16T16:59:40.765805Z"
    },
    "papermill": {
     "duration": 0.131175,
     "end_time": "2022-04-16T16:59:40.768430",
     "exception": false,
     "start_time": "2022-04-16T16:59:40.637255",
     "status": "completed"
    },
    "tags": [],
    "ExecuteTime": {
     "start_time": "2023-10-07T21:08:55.829318300Z"
    }
   },
   "outputs": [
    {
     "data": {
      "text/plain": "0.13536595818870187"
     },
     "execution_count": 41,
     "metadata": {},
     "output_type": "execute_result"
    }
   ],
   "source": [
    "data.purchased.mean()"
   ]
  },
  {
   "cell_type": "markdown",
   "id": "4d35aac7",
   "metadata": {
    "papermill": {
     "duration": 0.085919,
     "end_time": "2022-04-16T16:59:40.938934",
     "exception": false,
     "start_time": "2022-04-16T16:59:40.853015",
     "status": "completed"
    },
    "tags": []
   },
   "source": [
    "### Add bestseller information"
   ]
  },
  {
   "cell_type": "code",
   "execution_count": 42,
   "id": "ab6d0095",
   "metadata": {
    "execution": {
     "iopub.execute_input": "2022-04-16T16:59:41.111287Z",
     "iopub.status.busy": "2022-04-16T16:59:41.110981Z",
     "iopub.status.idle": "2022-04-16T16:59:44.046180Z",
     "shell.execute_reply": "2022-04-16T16:59:44.045173Z"
    },
    "papermill": {
     "duration": 3.024555,
     "end_time": "2022-04-16T16:59:44.048610",
     "exception": false,
     "start_time": "2022-04-16T16:59:41.024055",
     "status": "completed"
    },
    "tags": [],
    "ExecuteTime": {
     "start_time": "2023-10-07T21:08:55.829318300Z"
    }
   },
   "outputs": [],
   "source": [
    "data = pd.merge(\n",
    "    data,\n",
    "    bestsellers_previous_week[['week', 'article_id', 'bestseller_rank']],\n",
    "    on=['week', 'article_id'],\n",
    "    how='left'\n",
    ")"
   ]
  },
  {
   "cell_type": "code",
   "execution_count": 43,
   "id": "7b18597e",
   "metadata": {
    "execution": {
     "iopub.execute_input": "2022-04-16T16:59:44.188869Z",
     "iopub.status.busy": "2022-04-16T16:59:44.188578Z",
     "iopub.status.idle": "2022-04-16T16:59:45.778521Z",
     "shell.execute_reply": "2022-04-16T16:59:45.777015Z"
    },
    "papermill": {
     "duration": 1.650973,
     "end_time": "2022-04-16T16:59:45.781085",
     "exception": false,
     "start_time": "2022-04-16T16:59:44.130112",
     "status": "completed"
    },
    "tags": [],
    "ExecuteTime": {
     "start_time": "2023-10-07T21:08:55.844956200Z"
    }
   },
   "outputs": [],
   "source": [
    "data = data[data.week != data.week.min()]\n",
    "data.bestseller_rank.fillna(999, inplace=True)"
   ]
  },
  {
   "cell_type": "code",
   "execution_count": 44,
   "id": "7d9bb629",
   "metadata": {
    "execution": {
     "iopub.execute_input": "2022-04-16T16:59:45.949058Z",
     "iopub.status.busy": "2022-04-16T16:59:45.948608Z",
     "iopub.status.idle": "2022-04-16T17:00:11.114839Z",
     "shell.execute_reply": "2022-04-16T17:00:11.114301Z"
    },
    "papermill": {
     "duration": 25.250701,
     "end_time": "2022-04-16T17:00:11.116901",
     "exception": false,
     "start_time": "2022-04-16T16:59:45.866200",
     "status": "completed"
    },
    "tags": [],
    "ExecuteTime": {
     "start_time": "2023-10-07T21:08:55.844956200Z"
    }
   },
   "outputs": [],
   "source": [
    "data = pd.merge(data, articles, on='article_id', how='left')\n",
    "data = pd.merge(data, customers, on='customer_id', how='left')"
   ]
  },
  {
   "cell_type": "code",
   "execution_count": 45,
   "id": "1560db63",
   "metadata": {
    "execution": {
     "iopub.execute_input": "2022-04-16T17:00:11.232846Z",
     "iopub.status.busy": "2022-04-16T17:00:11.232435Z",
     "iopub.status.idle": "2022-04-16T17:00:17.697954Z",
     "shell.execute_reply": "2022-04-16T17:00:17.696556Z"
    },
    "papermill": {
     "duration": 6.526551,
     "end_time": "2022-04-16T17:00:17.700139",
     "exception": false,
     "start_time": "2022-04-16T17:00:11.173588",
     "status": "completed"
    },
    "tags": [],
    "ExecuteTime": {
     "start_time": "2023-10-07T21:08:55.844956200Z"
    }
   },
   "outputs": [],
   "source": [
    "data.sort_values(['week', 'customer_id'], inplace=True)\n",
    "data.reset_index(drop=True, inplace=True)"
   ]
  },
  {
   "cell_type": "code",
   "execution_count": 46,
   "id": "05114189",
   "metadata": {
    "execution": {
     "iopub.execute_input": "2022-04-16T17:00:17.808905Z",
     "iopub.status.busy": "2022-04-16T17:00:17.808208Z",
     "iopub.status.idle": "2022-04-16T17:00:24.463094Z",
     "shell.execute_reply": "2022-04-16T17:00:24.461914Z"
    },
    "papermill": {
     "duration": 6.711593,
     "end_time": "2022-04-16T17:00:24.465301",
     "exception": false,
     "start_time": "2022-04-16T17:00:17.753708",
     "status": "completed"
    },
    "tags": [],
    "ExecuteTime": {
     "start_time": "2023-10-07T21:08:55.844956200Z"
    }
   },
   "outputs": [],
   "source": [
    "train = data[data.week != test_week]\n",
    "test = data[data.week==test_week].drop_duplicates(['customer_id', 'article_id', 'sales_channel_id']).copy()"
   ]
  },
  {
   "cell_type": "code",
   "execution_count": 47,
   "id": "d32dfd01",
   "metadata": {
    "execution": {
     "iopub.execute_input": "2022-04-16T17:00:24.578537Z",
     "iopub.status.busy": "2022-04-16T17:00:24.578242Z",
     "iopub.status.idle": "2022-04-16T17:00:25.553839Z",
     "shell.execute_reply": "2022-04-16T17:00:25.552462Z"
    },
    "papermill": {
     "duration": 1.036818,
     "end_time": "2022-04-16T17:00:25.556300",
     "exception": false,
     "start_time": "2022-04-16T17:00:24.519482",
     "status": "completed"
    },
    "tags": [],
    "ExecuteTime": {
     "start_time": "2023-10-07T21:08:55.854833Z"
    }
   },
   "outputs": [],
   "source": [
    "train_baskets = train.groupby(['week', 'customer_id'])['article_id'].count().values"
   ]
  },
  {
   "cell_type": "code",
   "execution_count": 53,
   "id": "2b027da8",
   "metadata": {
    "execution": {
     "iopub.execute_input": "2022-04-16T17:00:25.679286Z",
     "iopub.status.busy": "2022-04-16T17:00:25.679019Z",
     "iopub.status.idle": "2022-04-16T17:00:25.684672Z",
     "shell.execute_reply": "2022-04-16T17:00:25.682706Z"
    },
    "papermill": {
     "duration": 0.070485,
     "end_time": "2022-04-16T17:00:25.687322",
     "exception": false,
     "start_time": "2022-04-16T17:00:25.616837",
     "status": "completed"
    },
    "tags": [],
    "ExecuteTime": {
     "start_time": "2023-10-07T21:08:55.854833Z"
    }
   },
   "outputs": [],
   "source": [
    "columns_to_use = ['article_id', 'product_type_no', 'graphical_appearance_no', 'colour_group_code', 'perceived_colour_value_id',\n",
    "'perceived_colour_master_id', 'department_no', 'index_code',\n",
    "'index_group_no', 'section_no', 'garment_group_no', 'FN', 'Active',\n",
    "'club_member_status', 'fashion_news_frequency', 'age', 'postal_code', 'bestseller_rank']"
   ]
  },
  {
   "cell_type": "code",
   "execution_count": 54,
   "id": "120aecab",
   "metadata": {
    "execution": {
     "iopub.execute_input": "2022-04-16T17:00:25.807133Z",
     "iopub.status.busy": "2022-04-16T17:00:25.806809Z",
     "iopub.status.idle": "2022-04-16T17:00:26.375884Z",
     "shell.execute_reply": "2022-04-16T17:00:26.374148Z"
    },
    "papermill": {
     "duration": 0.633318,
     "end_time": "2022-04-16T17:00:26.379109",
     "exception": false,
     "start_time": "2022-04-16T17:00:25.745791",
     "status": "completed"
    },
    "tags": [],
    "ExecuteTime": {
     "start_time": "2023-10-07T21:08:55.854833Z"
    }
   },
   "outputs": [
    {
     "name": "stdout",
     "output_type": "stream",
     "text": [
      "CPU times: user 278 ms, sys: 323 ms, total: 601 ms\n",
      "Wall time: 606 ms\n"
     ]
    }
   ],
   "source": [
    "%%time\n",
    "\n",
    "train_X = train[columns_to_use]\n",
    "train_y = train['purchased']\n",
    "\n",
    "test_X = test[columns_to_use]"
   ]
  },
  {
   "cell_type": "markdown",
   "id": "82745ed2",
   "metadata": {
    "papermill": {
     "duration": 0.09573,
     "end_time": "2022-04-16T17:00:26.563647",
     "exception": false,
     "start_time": "2022-04-16T17:00:26.467917",
     "status": "completed"
    },
    "tags": []
   },
   "source": [
    "# Model training"
   ]
  },
  {
   "cell_type": "code",
   "execution_count": 55,
   "id": "1e949a9d",
   "metadata": {
    "execution": {
     "iopub.execute_input": "2022-04-16T17:00:26.745269Z",
     "iopub.status.busy": "2022-04-16T17:00:26.744826Z",
     "iopub.status.idle": "2022-04-16T17:00:27.951655Z",
     "shell.execute_reply": "2022-04-16T17:00:27.950478Z"
    },
    "papermill": {
     "duration": 1.297829,
     "end_time": "2022-04-16T17:00:27.954191",
     "exception": false,
     "start_time": "2022-04-16T17:00:26.656362",
     "status": "completed"
    },
    "tags": [],
    "ExecuteTime": {
     "start_time": "2023-10-07T21:08:55.854833Z"
    }
   },
   "outputs": [],
   "source": [
    "from lightgbm.sklearn import LGBMRanker"
   ]
  },
  {
   "cell_type": "code",
   "execution_count": 56,
   "id": "cd60dded",
   "metadata": {
    "execution": {
     "iopub.execute_input": "2022-04-16T17:00:28.141811Z",
     "iopub.status.busy": "2022-04-16T17:00:28.141316Z",
     "iopub.status.idle": "2022-04-16T17:00:28.145183Z",
     "shell.execute_reply": "2022-04-16T17:00:28.144409Z"
    },
    "papermill": {
     "duration": 0.101059,
     "end_time": "2022-04-16T17:00:28.147805",
     "exception": false,
     "start_time": "2022-04-16T17:00:28.046746",
     "status": "completed"
    },
    "tags": [],
    "ExecuteTime": {
     "start_time": "2023-10-07T21:08:55.870464900Z"
    }
   },
   "outputs": [],
   "source": [
    "ranker = LGBMRanker(\n",
    "    objective=\"lambdarank\",\n",
    "    metric=\"ndcg\",\n",
    "    boosting_type=\"dart\",\n",
    "    n_estimators=1,\n",
    "    importance_type='gain',\n",
    "    verbose=10\n",
    ")"
   ]
  },
  {
   "cell_type": "code",
   "execution_count": 57,
   "id": "25f040a4",
   "metadata": {
    "execution": {
     "iopub.execute_input": "2022-04-16T17:00:28.325996Z",
     "iopub.status.busy": "2022-04-16T17:00:28.325629Z",
     "iopub.status.idle": "2022-04-16T17:00:39.300037Z",
     "shell.execute_reply": "2022-04-16T17:00:39.299296Z"
    },
    "papermill": {
     "duration": 11.066279,
     "end_time": "2022-04-16T17:00:39.301931",
     "exception": false,
     "start_time": "2022-04-16T17:00:28.235652",
     "status": "completed"
    },
    "tags": [],
    "ExecuteTime": {
     "start_time": "2023-10-07T21:08:55.870464900Z"
    }
   },
   "outputs": [
    {
     "ename": "ValueError",
     "evalue": "pandas dtypes must be int, float or bool.\nFields with bad pandas dtypes: index_code: object",
     "output_type": "error",
     "traceback": [
      "\u001B[0;31m---------------------------------------------------------------------------\u001B[0m",
      "\u001B[0;31mValueError\u001B[0m                                Traceback (most recent call last)",
      "File \u001B[0;32m<timed exec>:1\u001B[0m, in \u001B[0;36m<module>\u001B[0;34m\u001B[0m\n",
      "File \u001B[0;32m/Library/Frameworks/Python.framework/Versions/3.8/lib/python3.8/site-packages/lightgbm/sklearn.py:1299\u001B[0m, in \u001B[0;36mLGBMRanker.fit\u001B[0;34m(self, X, y, sample_weight, init_score, group, eval_set, eval_names, eval_sample_weight, eval_init_score, eval_group, eval_metric, eval_at, feature_name, categorical_feature, callbacks, init_model)\u001B[0m\n\u001B[1;32m   1295\u001B[0m         \u001B[38;5;28;01mraise\u001B[39;00m \u001B[38;5;167;01mValueError\u001B[39;00m(\u001B[38;5;124m\"\u001B[39m\u001B[38;5;124mShould set group for all eval datasets for ranking task; \u001B[39m\u001B[38;5;124m\"\u001B[39m\n\u001B[1;32m   1296\u001B[0m                          \u001B[38;5;124m\"\u001B[39m\u001B[38;5;124mif you use dict, the index should start from 0\u001B[39m\u001B[38;5;124m\"\u001B[39m)\n\u001B[1;32m   1298\u001B[0m \u001B[38;5;28mself\u001B[39m\u001B[38;5;241m.\u001B[39m_eval_at \u001B[38;5;241m=\u001B[39m eval_at\n\u001B[0;32m-> 1299\u001B[0m \u001B[38;5;28;43msuper\u001B[39;49m\u001B[43m(\u001B[49m\u001B[43m)\u001B[49m\u001B[38;5;241;43m.\u001B[39;49m\u001B[43mfit\u001B[49m\u001B[43m(\u001B[49m\n\u001B[1;32m   1300\u001B[0m \u001B[43m    \u001B[49m\u001B[43mX\u001B[49m\u001B[43m,\u001B[49m\n\u001B[1;32m   1301\u001B[0m \u001B[43m    \u001B[49m\u001B[43my\u001B[49m\u001B[43m,\u001B[49m\n\u001B[1;32m   1302\u001B[0m \u001B[43m    \u001B[49m\u001B[43msample_weight\u001B[49m\u001B[38;5;241;43m=\u001B[39;49m\u001B[43msample_weight\u001B[49m\u001B[43m,\u001B[49m\n\u001B[1;32m   1303\u001B[0m \u001B[43m    \u001B[49m\u001B[43minit_score\u001B[49m\u001B[38;5;241;43m=\u001B[39;49m\u001B[43minit_score\u001B[49m\u001B[43m,\u001B[49m\n\u001B[1;32m   1304\u001B[0m \u001B[43m    \u001B[49m\u001B[43mgroup\u001B[49m\u001B[38;5;241;43m=\u001B[39;49m\u001B[43mgroup\u001B[49m\u001B[43m,\u001B[49m\n\u001B[1;32m   1305\u001B[0m \u001B[43m    \u001B[49m\u001B[43meval_set\u001B[49m\u001B[38;5;241;43m=\u001B[39;49m\u001B[43meval_set\u001B[49m\u001B[43m,\u001B[49m\n\u001B[1;32m   1306\u001B[0m \u001B[43m    \u001B[49m\u001B[43meval_names\u001B[49m\u001B[38;5;241;43m=\u001B[39;49m\u001B[43meval_names\u001B[49m\u001B[43m,\u001B[49m\n\u001B[1;32m   1307\u001B[0m \u001B[43m    \u001B[49m\u001B[43meval_sample_weight\u001B[49m\u001B[38;5;241;43m=\u001B[39;49m\u001B[43meval_sample_weight\u001B[49m\u001B[43m,\u001B[49m\n\u001B[1;32m   1308\u001B[0m \u001B[43m    \u001B[49m\u001B[43meval_init_score\u001B[49m\u001B[38;5;241;43m=\u001B[39;49m\u001B[43meval_init_score\u001B[49m\u001B[43m,\u001B[49m\n\u001B[1;32m   1309\u001B[0m \u001B[43m    \u001B[49m\u001B[43meval_group\u001B[49m\u001B[38;5;241;43m=\u001B[39;49m\u001B[43meval_group\u001B[49m\u001B[43m,\u001B[49m\n\u001B[1;32m   1310\u001B[0m \u001B[43m    \u001B[49m\u001B[43meval_metric\u001B[49m\u001B[38;5;241;43m=\u001B[39;49m\u001B[43meval_metric\u001B[49m\u001B[43m,\u001B[49m\n\u001B[1;32m   1311\u001B[0m \u001B[43m    \u001B[49m\u001B[43mfeature_name\u001B[49m\u001B[38;5;241;43m=\u001B[39;49m\u001B[43mfeature_name\u001B[49m\u001B[43m,\u001B[49m\n\u001B[1;32m   1312\u001B[0m \u001B[43m    \u001B[49m\u001B[43mcategorical_feature\u001B[49m\u001B[38;5;241;43m=\u001B[39;49m\u001B[43mcategorical_feature\u001B[49m\u001B[43m,\u001B[49m\n\u001B[1;32m   1313\u001B[0m \u001B[43m    \u001B[49m\u001B[43mcallbacks\u001B[49m\u001B[38;5;241;43m=\u001B[39;49m\u001B[43mcallbacks\u001B[49m\u001B[43m,\u001B[49m\n\u001B[1;32m   1314\u001B[0m \u001B[43m    \u001B[49m\u001B[43minit_model\u001B[49m\u001B[38;5;241;43m=\u001B[39;49m\u001B[43minit_model\u001B[49m\n\u001B[1;32m   1315\u001B[0m \u001B[43m\u001B[49m\u001B[43m)\u001B[49m\n\u001B[1;32m   1316\u001B[0m \u001B[38;5;28;01mreturn\u001B[39;00m \u001B[38;5;28mself\u001B[39m\n",
      "File \u001B[0;32m/Library/Frameworks/Python.framework/Versions/3.8/lib/python3.8/site-packages/lightgbm/sklearn.py:842\u001B[0m, in \u001B[0;36mLGBMModel.fit\u001B[0;34m(self, X, y, sample_weight, init_score, group, eval_set, eval_names, eval_sample_weight, eval_class_weight, eval_init_score, eval_group, eval_metric, feature_name, categorical_feature, callbacks, init_model)\u001B[0m\n\u001B[1;32m    839\u001B[0m evals_result: _EvalResultDict \u001B[38;5;241m=\u001B[39m {}\n\u001B[1;32m    840\u001B[0m callbacks\u001B[38;5;241m.\u001B[39mappend(record_evaluation(evals_result))\n\u001B[0;32m--> 842\u001B[0m \u001B[38;5;28mself\u001B[39m\u001B[38;5;241m.\u001B[39m_Booster \u001B[38;5;241m=\u001B[39m \u001B[43mtrain\u001B[49m\u001B[43m(\u001B[49m\n\u001B[1;32m    843\u001B[0m \u001B[43m    \u001B[49m\u001B[43mparams\u001B[49m\u001B[38;5;241;43m=\u001B[39;49m\u001B[43mparams\u001B[49m\u001B[43m,\u001B[49m\n\u001B[1;32m    844\u001B[0m \u001B[43m    \u001B[49m\u001B[43mtrain_set\u001B[49m\u001B[38;5;241;43m=\u001B[39;49m\u001B[43mtrain_set\u001B[49m\u001B[43m,\u001B[49m\n\u001B[1;32m    845\u001B[0m \u001B[43m    \u001B[49m\u001B[43mnum_boost_round\u001B[49m\u001B[38;5;241;43m=\u001B[39;49m\u001B[38;5;28;43mself\u001B[39;49m\u001B[38;5;241;43m.\u001B[39;49m\u001B[43mn_estimators\u001B[49m\u001B[43m,\u001B[49m\n\u001B[1;32m    846\u001B[0m \u001B[43m    \u001B[49m\u001B[43mvalid_sets\u001B[49m\u001B[38;5;241;43m=\u001B[39;49m\u001B[43mvalid_sets\u001B[49m\u001B[43m,\u001B[49m\n\u001B[1;32m    847\u001B[0m \u001B[43m    \u001B[49m\u001B[43mvalid_names\u001B[49m\u001B[38;5;241;43m=\u001B[39;49m\u001B[43meval_names\u001B[49m\u001B[43m,\u001B[49m\n\u001B[1;32m    848\u001B[0m \u001B[43m    \u001B[49m\u001B[43mfeval\u001B[49m\u001B[38;5;241;43m=\u001B[39;49m\u001B[43meval_metrics_callable\u001B[49m\u001B[43m,\u001B[49m\u001B[43m  \u001B[49m\u001B[38;5;66;43;03m# type: ignore[arg-type]\u001B[39;49;00m\n\u001B[1;32m    849\u001B[0m \u001B[43m    \u001B[49m\u001B[43minit_model\u001B[49m\u001B[38;5;241;43m=\u001B[39;49m\u001B[43minit_model\u001B[49m\u001B[43m,\u001B[49m\n\u001B[1;32m    850\u001B[0m \u001B[43m    \u001B[49m\u001B[43mfeature_name\u001B[49m\u001B[38;5;241;43m=\u001B[39;49m\u001B[43mfeature_name\u001B[49m\u001B[43m,\u001B[49m\n\u001B[1;32m    851\u001B[0m \u001B[43m    \u001B[49m\u001B[43mcallbacks\u001B[49m\u001B[38;5;241;43m=\u001B[39;49m\u001B[43mcallbacks\u001B[49m\n\u001B[1;32m    852\u001B[0m \u001B[43m\u001B[49m\u001B[43m)\u001B[49m\n\u001B[1;32m    854\u001B[0m \u001B[38;5;28mself\u001B[39m\u001B[38;5;241m.\u001B[39m_evals_result \u001B[38;5;241m=\u001B[39m evals_result\n\u001B[1;32m    855\u001B[0m \u001B[38;5;28mself\u001B[39m\u001B[38;5;241m.\u001B[39m_best_iteration \u001B[38;5;241m=\u001B[39m \u001B[38;5;28mself\u001B[39m\u001B[38;5;241m.\u001B[39m_Booster\u001B[38;5;241m.\u001B[39mbest_iteration\n",
      "File \u001B[0;32m/Library/Frameworks/Python.framework/Versions/3.8/lib/python3.8/site-packages/lightgbm/engine.py:255\u001B[0m, in \u001B[0;36mtrain\u001B[0;34m(params, train_set, num_boost_round, valid_sets, valid_names, feval, init_model, feature_name, categorical_feature, keep_training_booster, callbacks)\u001B[0m\n\u001B[1;32m    253\u001B[0m \u001B[38;5;66;03m# construct booster\u001B[39;00m\n\u001B[1;32m    254\u001B[0m \u001B[38;5;28;01mtry\u001B[39;00m:\n\u001B[0;32m--> 255\u001B[0m     booster \u001B[38;5;241m=\u001B[39m \u001B[43mBooster\u001B[49m\u001B[43m(\u001B[49m\u001B[43mparams\u001B[49m\u001B[38;5;241;43m=\u001B[39;49m\u001B[43mparams\u001B[49m\u001B[43m,\u001B[49m\u001B[43m \u001B[49m\u001B[43mtrain_set\u001B[49m\u001B[38;5;241;43m=\u001B[39;49m\u001B[43mtrain_set\u001B[49m\u001B[43m)\u001B[49m\n\u001B[1;32m    256\u001B[0m     \u001B[38;5;28;01mif\u001B[39;00m is_valid_contain_train:\n\u001B[1;32m    257\u001B[0m         booster\u001B[38;5;241m.\u001B[39mset_train_data_name(train_data_name)\n",
      "File \u001B[0;32m/Library/Frameworks/Python.framework/Versions/3.8/lib/python3.8/site-packages/lightgbm/basic.py:3200\u001B[0m, in \u001B[0;36mBooster.__init__\u001B[0;34m(self, params, train_set, model_file, model_str)\u001B[0m\n\u001B[1;32m   3193\u001B[0m     \u001B[38;5;28mself\u001B[39m\u001B[38;5;241m.\u001B[39mset_network(\n\u001B[1;32m   3194\u001B[0m         machines\u001B[38;5;241m=\u001B[39mmachines,\n\u001B[1;32m   3195\u001B[0m         local_listen_port\u001B[38;5;241m=\u001B[39mparams[\u001B[38;5;124m\"\u001B[39m\u001B[38;5;124mlocal_listen_port\u001B[39m\u001B[38;5;124m\"\u001B[39m],\n\u001B[1;32m   3196\u001B[0m         listen_time_out\u001B[38;5;241m=\u001B[39mparams\u001B[38;5;241m.\u001B[39mget(\u001B[38;5;124m\"\u001B[39m\u001B[38;5;124mtime_out\u001B[39m\u001B[38;5;124m\"\u001B[39m, \u001B[38;5;241m120\u001B[39m),\n\u001B[1;32m   3197\u001B[0m         num_machines\u001B[38;5;241m=\u001B[39mparams[\u001B[38;5;124m\"\u001B[39m\u001B[38;5;124mnum_machines\u001B[39m\u001B[38;5;124m\"\u001B[39m]\n\u001B[1;32m   3198\u001B[0m     )\n\u001B[1;32m   3199\u001B[0m \u001B[38;5;66;03m# construct booster object\u001B[39;00m\n\u001B[0;32m-> 3200\u001B[0m \u001B[43mtrain_set\u001B[49m\u001B[38;5;241;43m.\u001B[39;49m\u001B[43mconstruct\u001B[49m\u001B[43m(\u001B[49m\u001B[43m)\u001B[49m\n\u001B[1;32m   3201\u001B[0m \u001B[38;5;66;03m# copy the parameters from train_set\u001B[39;00m\n\u001B[1;32m   3202\u001B[0m params\u001B[38;5;241m.\u001B[39mupdate(train_set\u001B[38;5;241m.\u001B[39mget_params())\n",
      "File \u001B[0;32m/Library/Frameworks/Python.framework/Versions/3.8/lib/python3.8/site-packages/lightgbm/basic.py:2276\u001B[0m, in \u001B[0;36mDataset.construct\u001B[0;34m(self)\u001B[0m\n\u001B[1;32m   2269\u001B[0m             \u001B[38;5;28mself\u001B[39m\u001B[38;5;241m.\u001B[39m_set_init_score_by_predictor(\n\u001B[1;32m   2270\u001B[0m                 predictor\u001B[38;5;241m=\u001B[39m\u001B[38;5;28mself\u001B[39m\u001B[38;5;241m.\u001B[39m_predictor,\n\u001B[1;32m   2271\u001B[0m                 data\u001B[38;5;241m=\u001B[39m\u001B[38;5;28mself\u001B[39m\u001B[38;5;241m.\u001B[39mdata,\n\u001B[1;32m   2272\u001B[0m                 used_indices\u001B[38;5;241m=\u001B[39mused_indices\n\u001B[1;32m   2273\u001B[0m             )\n\u001B[1;32m   2274\u001B[0m \u001B[38;5;28;01melse\u001B[39;00m:\n\u001B[1;32m   2275\u001B[0m     \u001B[38;5;66;03m# create train\u001B[39;00m\n\u001B[0;32m-> 2276\u001B[0m     \u001B[38;5;28;43mself\u001B[39;49m\u001B[38;5;241;43m.\u001B[39;49m\u001B[43m_lazy_init\u001B[49m\u001B[43m(\u001B[49m\u001B[43mdata\u001B[49m\u001B[38;5;241;43m=\u001B[39;49m\u001B[38;5;28;43mself\u001B[39;49m\u001B[38;5;241;43m.\u001B[39;49m\u001B[43mdata\u001B[49m\u001B[43m,\u001B[49m\u001B[43m \u001B[49m\u001B[43mlabel\u001B[49m\u001B[38;5;241;43m=\u001B[39;49m\u001B[38;5;28;43mself\u001B[39;49m\u001B[38;5;241;43m.\u001B[39;49m\u001B[43mlabel\u001B[49m\u001B[43m,\u001B[49m\u001B[43m \u001B[49m\u001B[43mreference\u001B[49m\u001B[38;5;241;43m=\u001B[39;49m\u001B[38;5;28;43;01mNone\u001B[39;49;00m\u001B[43m,\u001B[49m\n\u001B[1;32m   2277\u001B[0m \u001B[43m                    \u001B[49m\u001B[43mweight\u001B[49m\u001B[38;5;241;43m=\u001B[39;49m\u001B[38;5;28;43mself\u001B[39;49m\u001B[38;5;241;43m.\u001B[39;49m\u001B[43mweight\u001B[49m\u001B[43m,\u001B[49m\u001B[43m \u001B[49m\u001B[43mgroup\u001B[49m\u001B[38;5;241;43m=\u001B[39;49m\u001B[38;5;28;43mself\u001B[39;49m\u001B[38;5;241;43m.\u001B[39;49m\u001B[43mgroup\u001B[49m\u001B[43m,\u001B[49m\n\u001B[1;32m   2278\u001B[0m \u001B[43m                    \u001B[49m\u001B[43minit_score\u001B[49m\u001B[38;5;241;43m=\u001B[39;49m\u001B[38;5;28;43mself\u001B[39;49m\u001B[38;5;241;43m.\u001B[39;49m\u001B[43minit_score\u001B[49m\u001B[43m,\u001B[49m\u001B[43m \u001B[49m\u001B[43mpredictor\u001B[49m\u001B[38;5;241;43m=\u001B[39;49m\u001B[38;5;28;43mself\u001B[39;49m\u001B[38;5;241;43m.\u001B[39;49m\u001B[43m_predictor\u001B[49m\u001B[43m,\u001B[49m\n\u001B[1;32m   2279\u001B[0m \u001B[43m                    \u001B[49m\u001B[43mfeature_name\u001B[49m\u001B[38;5;241;43m=\u001B[39;49m\u001B[38;5;28;43mself\u001B[39;49m\u001B[38;5;241;43m.\u001B[39;49m\u001B[43mfeature_name\u001B[49m\u001B[43m,\u001B[49m\u001B[43m \u001B[49m\u001B[43mcategorical_feature\u001B[49m\u001B[38;5;241;43m=\u001B[39;49m\u001B[38;5;28;43mself\u001B[39;49m\u001B[38;5;241;43m.\u001B[39;49m\u001B[43mcategorical_feature\u001B[49m\u001B[43m,\u001B[49m\n\u001B[1;32m   2280\u001B[0m \u001B[43m                    \u001B[49m\u001B[43mparams\u001B[49m\u001B[38;5;241;43m=\u001B[39;49m\u001B[38;5;28;43mself\u001B[39;49m\u001B[38;5;241;43m.\u001B[39;49m\u001B[43mparams\u001B[49m\u001B[43m,\u001B[49m\u001B[43m \u001B[49m\u001B[43mposition\u001B[49m\u001B[38;5;241;43m=\u001B[39;49m\u001B[38;5;28;43mself\u001B[39;49m\u001B[38;5;241;43m.\u001B[39;49m\u001B[43mposition\u001B[49m\u001B[43m)\u001B[49m\n\u001B[1;32m   2281\u001B[0m \u001B[38;5;28;01mif\u001B[39;00m \u001B[38;5;28mself\u001B[39m\u001B[38;5;241m.\u001B[39mfree_raw_data:\n\u001B[1;32m   2282\u001B[0m     \u001B[38;5;28mself\u001B[39m\u001B[38;5;241m.\u001B[39mdata \u001B[38;5;241m=\u001B[39m \u001B[38;5;28;01mNone\u001B[39;00m\n",
      "File \u001B[0;32m/Library/Frameworks/Python.framework/Versions/3.8/lib/python3.8/site-packages/lightgbm/basic.py:1861\u001B[0m, in \u001B[0;36mDataset._lazy_init\u001B[0;34m(self, data, label, reference, weight, group, init_score, predictor, feature_name, categorical_feature, params, position)\u001B[0m\n\u001B[1;32m   1859\u001B[0m     categorical_feature \u001B[38;5;241m=\u001B[39m reference\u001B[38;5;241m.\u001B[39mcategorical_feature\n\u001B[1;32m   1860\u001B[0m \u001B[38;5;28;01mif\u001B[39;00m \u001B[38;5;28misinstance\u001B[39m(data, pd_DataFrame):\n\u001B[0;32m-> 1861\u001B[0m     data, feature_name, categorical_feature, \u001B[38;5;28mself\u001B[39m\u001B[38;5;241m.\u001B[39mpandas_categorical \u001B[38;5;241m=\u001B[39m \u001B[43m_data_from_pandas\u001B[49m\u001B[43m(\u001B[49m\n\u001B[1;32m   1862\u001B[0m \u001B[43m        \u001B[49m\u001B[43mdata\u001B[49m\u001B[38;5;241;43m=\u001B[39;49m\u001B[43mdata\u001B[49m\u001B[43m,\u001B[49m\n\u001B[1;32m   1863\u001B[0m \u001B[43m        \u001B[49m\u001B[43mfeature_name\u001B[49m\u001B[38;5;241;43m=\u001B[39;49m\u001B[43mfeature_name\u001B[49m\u001B[43m,\u001B[49m\n\u001B[1;32m   1864\u001B[0m \u001B[43m        \u001B[49m\u001B[43mcategorical_feature\u001B[49m\u001B[38;5;241;43m=\u001B[39;49m\u001B[43mcategorical_feature\u001B[49m\u001B[43m,\u001B[49m\n\u001B[1;32m   1865\u001B[0m \u001B[43m        \u001B[49m\u001B[43mpandas_categorical\u001B[49m\u001B[38;5;241;43m=\u001B[39;49m\u001B[38;5;28;43mself\u001B[39;49m\u001B[38;5;241;43m.\u001B[39;49m\u001B[43mpandas_categorical\u001B[49m\n\u001B[1;32m   1866\u001B[0m \u001B[43m    \u001B[49m\u001B[43m)\u001B[49m\n\u001B[1;32m   1868\u001B[0m \u001B[38;5;66;03m# process for args\u001B[39;00m\n\u001B[1;32m   1869\u001B[0m params \u001B[38;5;241m=\u001B[39m {} \u001B[38;5;28;01mif\u001B[39;00m params \u001B[38;5;129;01mis\u001B[39;00m \u001B[38;5;28;01mNone\u001B[39;00m \u001B[38;5;28;01melse\u001B[39;00m params\n",
      "File \u001B[0;32m/Library/Frameworks/Python.framework/Versions/3.8/lib/python3.8/site-packages/lightgbm/basic.py:703\u001B[0m, in \u001B[0;36m_data_from_pandas\u001B[0;34m(data, feature_name, categorical_feature, pandas_categorical)\u001B[0m\n\u001B[1;32m    700\u001B[0m     categorical_feature \u001B[38;5;241m=\u001B[39m \u001B[38;5;28mlist\u001B[39m(categorical_feature)  \u001B[38;5;66;03m# type: ignore[assignment]\u001B[39;00m\n\u001B[1;32m    702\u001B[0m \u001B[38;5;66;03m# get numpy representation of the data\u001B[39;00m\n\u001B[0;32m--> 703\u001B[0m \u001B[43m_check_for_bad_pandas_dtypes\u001B[49m\u001B[43m(\u001B[49m\u001B[43mdata\u001B[49m\u001B[38;5;241;43m.\u001B[39;49m\u001B[43mdtypes\u001B[49m\u001B[43m)\u001B[49m\n\u001B[1;32m    704\u001B[0m df_dtypes \u001B[38;5;241m=\u001B[39m [dtype\u001B[38;5;241m.\u001B[39mtype \u001B[38;5;28;01mfor\u001B[39;00m dtype \u001B[38;5;129;01min\u001B[39;00m data\u001B[38;5;241m.\u001B[39mdtypes]\n\u001B[1;32m    705\u001B[0m df_dtypes\u001B[38;5;241m.\u001B[39mappend(np\u001B[38;5;241m.\u001B[39mfloat32)  \u001B[38;5;66;03m# so that the target dtype considers floats\u001B[39;00m\n",
      "File \u001B[0;32m/Library/Frameworks/Python.framework/Versions/3.8/lib/python3.8/site-packages/lightgbm/basic.py:666\u001B[0m, in \u001B[0;36m_check_for_bad_pandas_dtypes\u001B[0;34m(pandas_dtypes_series)\u001B[0m\n\u001B[1;32m    660\u001B[0m bad_pandas_dtypes \u001B[38;5;241m=\u001B[39m [\n\u001B[1;32m    661\u001B[0m     \u001B[38;5;124mf\u001B[39m\u001B[38;5;124m'\u001B[39m\u001B[38;5;132;01m{\u001B[39;00mcolumn_name\u001B[38;5;132;01m}\u001B[39;00m\u001B[38;5;124m: \u001B[39m\u001B[38;5;132;01m{\u001B[39;00mpandas_dtype\u001B[38;5;132;01m}\u001B[39;00m\u001B[38;5;124m'\u001B[39m\n\u001B[1;32m    662\u001B[0m     \u001B[38;5;28;01mfor\u001B[39;00m column_name, pandas_dtype \u001B[38;5;129;01min\u001B[39;00m pandas_dtypes_series\u001B[38;5;241m.\u001B[39mitems()\n\u001B[1;32m    663\u001B[0m     \u001B[38;5;28;01mif\u001B[39;00m \u001B[38;5;129;01mnot\u001B[39;00m _is_allowed_numpy_dtype(pandas_dtype\u001B[38;5;241m.\u001B[39mtype)\n\u001B[1;32m    664\u001B[0m ]\n\u001B[1;32m    665\u001B[0m \u001B[38;5;28;01mif\u001B[39;00m bad_pandas_dtypes:\n\u001B[0;32m--> 666\u001B[0m     \u001B[38;5;28;01mraise\u001B[39;00m \u001B[38;5;167;01mValueError\u001B[39;00m(\u001B[38;5;124m'\u001B[39m\u001B[38;5;124mpandas dtypes must be int, float or bool.\u001B[39m\u001B[38;5;130;01m\\n\u001B[39;00m\u001B[38;5;124m'\u001B[39m\n\u001B[1;32m    667\u001B[0m                      \u001B[38;5;124mf\u001B[39m\u001B[38;5;124m'\u001B[39m\u001B[38;5;124mFields with bad pandas dtypes: \u001B[39m\u001B[38;5;132;01m{\u001B[39;00m\u001B[38;5;124m\"\u001B[39m\u001B[38;5;124m, \u001B[39m\u001B[38;5;124m\"\u001B[39m\u001B[38;5;241m.\u001B[39mjoin(bad_pandas_dtypes)\u001B[38;5;132;01m}\u001B[39;00m\u001B[38;5;124m'\u001B[39m)\n",
      "\u001B[0;31mValueError\u001B[0m: pandas dtypes must be int, float or bool.\nFields with bad pandas dtypes: index_code: object"
     ]
    }
   ],
   "source": [
    "%%time\n",
    "\n",
    "ranker = ranker.fit(\n",
    "    train_X,\n",
    "    train_y,\n",
    "    group=train_baskets,\n",
    ")"
   ]
  },
  {
   "cell_type": "code",
   "execution_count": null,
   "id": "4b6b5a94",
   "metadata": {
    "execution": {
     "iopub.execute_input": "2022-04-16T17:00:39.450894Z",
     "iopub.status.busy": "2022-04-16T17:00:39.450610Z",
     "iopub.status.idle": "2022-04-16T17:00:39.464086Z",
     "shell.execute_reply": "2022-04-16T17:00:39.462437Z"
    },
    "papermill": {
     "duration": 0.107527,
     "end_time": "2022-04-16T17:00:39.466759",
     "exception": false,
     "start_time": "2022-04-16T17:00:39.359232",
     "status": "completed"
    },
    "tags": [],
    "ExecuteTime": {
     "start_time": "2023-10-07T21:08:55.870464900Z"
    }
   },
   "outputs": [],
   "source": [
    "for i in ranker.feature_importances_.argsort()[::-1]:\n",
    "    print(columns_to_use[i], ranker.feature_importances_[i]/ranker.feature_importances_.sum())"
   ]
  },
  {
   "cell_type": "markdown",
   "id": "00faf029",
   "metadata": {
    "papermill": {
     "duration": 0.056904,
     "end_time": "2022-04-16T17:00:39.580889",
     "exception": false,
     "start_time": "2022-04-16T17:00:39.523985",
     "status": "completed"
    },
    "tags": []
   },
   "source": [
    "# Calculate predictions"
   ]
  },
  {
   "cell_type": "code",
   "execution_count": null,
   "id": "7e862846",
   "metadata": {
    "execution": {
     "iopub.execute_input": "2022-04-16T17:00:39.695315Z",
     "iopub.status.busy": "2022-04-16T17:00:39.694825Z",
     "iopub.status.idle": "2022-04-16T17:00:52.775003Z",
     "shell.execute_reply": "2022-04-16T17:00:52.773289Z"
    },
    "papermill": {
     "duration": 13.140874,
     "end_time": "2022-04-16T17:00:52.777866",
     "exception": false,
     "start_time": "2022-04-16T17:00:39.636992",
     "status": "completed"
    },
    "tags": [],
    "ExecuteTime": {
     "start_time": "2023-10-07T21:08:55.870464900Z"
    }
   },
   "outputs": [],
   "source": [
    "%time\n",
    "\n",
    "test['preds'] = ranker.predict(test_X)\n",
    "\n",
    "c_id2predicted_article_ids = test \\\n",
    "    .sort_values(['customer_id', 'preds'], ascending=False) \\\n",
    "    .groupby('customer_id')['article_id'].apply(list).to_dict()\n",
    "\n",
    "bestsellers_last_week = \\\n",
    "    bestsellers_previous_week[bestsellers_previous_week.week == bestsellers_previous_week.week.max()]['article_id'].tolist()"
   ]
  },
  {
   "cell_type": "markdown",
   "id": "de045e98",
   "metadata": {
    "papermill": {
     "duration": 0.07093,
     "end_time": "2022-04-16T17:00:52.913143",
     "exception": false,
     "start_time": "2022-04-16T17:00:52.842213",
     "status": "completed"
    },
    "tags": []
   },
   "source": [
    "# Create submission"
   ]
  },
  {
   "cell_type": "code",
   "execution_count": null,
   "id": "43e4fda7",
   "metadata": {
    "execution": {
     "iopub.execute_input": "2022-04-16T17:00:53.060085Z",
     "iopub.status.busy": "2022-04-16T17:00:53.058916Z",
     "iopub.status.idle": "2022-04-16T17:00:59.494984Z",
     "shell.execute_reply": "2022-04-16T17:00:59.493579Z"
    },
    "papermill": {
     "duration": 6.515044,
     "end_time": "2022-04-16T17:00:59.497708",
     "exception": false,
     "start_time": "2022-04-16T17:00:52.982664",
     "status": "completed"
    },
    "tags": [],
    "ExecuteTime": {
     "start_time": "2023-10-07T21:08:55.870464900Z"
    }
   },
   "outputs": [],
   "source": [
    "sub = pd.read_csv('../datasets/sample_submission.csv')"
   ]
  },
  {
   "cell_type": "code",
   "execution_count": null,
   "id": "a35ac969",
   "metadata": {
    "execution": {
     "iopub.execute_input": "2022-04-16T17:00:59.683014Z",
     "iopub.status.busy": "2022-04-16T17:00:59.682737Z",
     "iopub.status.idle": "2022-04-16T17:01:06.006472Z",
     "shell.execute_reply": "2022-04-16T17:01:06.005532Z"
    },
    "papermill": {
     "duration": 6.421346,
     "end_time": "2022-04-16T17:01:06.009173",
     "exception": false,
     "start_time": "2022-04-16T17:00:59.587827",
     "status": "completed"
    },
    "tags": [],
    "ExecuteTime": {
     "start_time": "2023-10-07T21:08:55.870464900Z"
    }
   },
   "outputs": [],
   "source": [
    "%%time\n",
    "preds = []\n",
    "for c_id in customer_hex_id_to_int(sub.customer_id):\n",
    "    pred = c_id2predicted_article_ids.get(c_id, [])\n",
    "    pred = pred + bestsellers_last_week\n",
    "    preds.append(pred[:12])"
   ]
  },
  {
   "cell_type": "code",
   "execution_count": null,
   "id": "3f8f9304",
   "metadata": {
    "execution": {
     "iopub.execute_input": "2022-04-16T17:01:06.132150Z",
     "iopub.status.busy": "2022-04-16T17:01:06.131106Z",
     "iopub.status.idle": "2022-04-16T17:01:12.969816Z",
     "shell.execute_reply": "2022-04-16T17:01:12.969035Z"
    },
    "papermill": {
     "duration": 6.90116,
     "end_time": "2022-04-16T17:01:12.972216",
     "exception": false,
     "start_time": "2022-04-16T17:01:06.071056",
     "status": "completed"
    },
    "tags": [],
    "ExecuteTime": {
     "end_time": "2023-10-07T21:08:56.011093200Z",
     "start_time": "2023-10-07T21:08:55.886099100Z"
    }
   },
   "outputs": [],
   "source": [
    "preds = [' '.join(['0' + str(p) for p in ps]) for ps in preds]\n",
    "sub.prediction = preds"
   ]
  },
  {
   "cell_type": "code",
   "execution_count": null,
   "id": "62d8338d",
   "metadata": {
    "execution": {
     "iopub.execute_input": "2022-04-16T17:01:13.146516Z",
     "iopub.status.busy": "2022-04-16T17:01:13.145811Z",
     "iopub.status.idle": "2022-04-16T17:01:34.943291Z",
     "shell.execute_reply": "2022-04-16T17:01:34.942187Z"
    },
    "papermill": {
     "duration": 21.887955,
     "end_time": "2022-04-16T17:01:34.946089",
     "exception": false,
     "start_time": "2022-04-16T17:01:13.058134",
     "status": "completed"
    },
    "tags": [],
    "ExecuteTime": {
     "start_time": "2023-10-07T21:08:55.886099100Z"
    }
   },
   "outputs": [],
   "source": [
    "sub_name = 'basic_model_submission3'\n",
    "sub.to_csv(f'{sub_name}.csv.gz', index=False)"
   ]
  }
 ],
 "metadata": {
  "kernelspec": {
   "display_name": "Python 3",
   "language": "python",
   "name": "python3"
  },
  "language_info": {
   "codemirror_mode": {
    "name": "ipython",
    "version": 3
   },
   "file_extension": ".py",
   "mimetype": "text/x-python",
   "name": "python",
   "nbconvert_exporter": "python",
   "pygments_lexer": "ipython3",
   "version": "3.7.12"
  },
  "papermill": {
   "default_parameters": {},
   "duration": 185.112876,
   "end_time": "2022-04-16T17:01:37.553573",
   "environment_variables": {},
   "exception": null,
   "input_path": "__notebook__.ipynb",
   "output_path": "__notebook__.ipynb",
   "parameters": {},
   "start_time": "2022-04-16T16:58:32.440697",
   "version": "2.3.4"
  }
 },
 "nbformat": 4,
 "nbformat_minor": 5
}