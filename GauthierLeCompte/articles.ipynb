{
 "cells": [
  {
   "cell_type": "code",
   "execution_count": 13,
   "outputs": [],
   "source": [
    "import pandas as pd\n",
    "import seaborn as sns\n",
    "import matplotlib.pyplot as plt\n"
   ],
   "metadata": {
    "collapsed": false,
    "pycharm": {
     "name": "#%%\n"
    }
   }
  },
  {
   "cell_type": "code",
   "execution_count": 47,
   "outputs": [],
   "source": [
    "data_dir = \"data\"\n",
    "\n",
    "articles = pd.read_csv(data_dir + '/articles.csv')"
   ],
   "metadata": {
    "collapsed": false,
    "pycharm": {
     "name": "#%%\n"
    }
   }
  },
  {
   "cell_type": "code",
   "execution_count": null,
   "outputs": [],
   "source": [
    "print(articles.describe())"
   ],
   "metadata": {
    "collapsed": false,
    "pycharm": {
     "name": "#%%\n",
     "is_executing": true
    }
   }
  },
  {
   "cell_type": "code",
   "execution_count": null,
   "outputs": [],
   "source": [
    "print(articles.head())"
   ],
   "metadata": {
    "collapsed": false,
    "pycharm": {
     "name": "#%%\n",
     "is_executing": true
    }
   }
  },
  {
   "cell_type": "code",
   "execution_count": 17,
   "outputs": [
    {
     "name": "stdout",
     "output_type": "stream",
     "text": [
      "article_id                        0\n",
      "product_code                      0\n",
      "prod_name                         0\n",
      "product_type_no                   0\n",
      "product_type_name                 0\n",
      "product_group_name                0\n",
      "graphical_appearance_no           0\n",
      "graphical_appearance_name         0\n",
      "colour_group_code                 0\n",
      "colour_group_name                 0\n",
      "perceived_colour_value_id         0\n",
      "perceived_colour_value_name       0\n",
      "perceived_colour_master_id        0\n",
      "perceived_colour_master_name      0\n",
      "department_no                     0\n",
      "department_name                   0\n",
      "index_code                        0\n",
      "index_name                        0\n",
      "index_group_no                    0\n",
      "index_group_name                  0\n",
      "section_no                        0\n",
      "section_name                      0\n",
      "garment_group_no                  0\n",
      "garment_group_name                0\n",
      "detail_desc                     416\n",
      "dtype: int64\n"
     ]
    }
   ],
   "source": [
    "print(articles.isnull().sum())"
   ],
   "metadata": {
    "collapsed": false,
    "pycharm": {
     "name": "#%%\n"
    }
   }
  },
  {
   "cell_type": "code",
   "execution_count": 18,
   "outputs": [],
   "source": [
    "articles['detail_desc'].fillna('Unknown', inplace=True)"
   ],
   "metadata": {
    "collapsed": false,
    "pycharm": {
     "name": "#%%\n"
    }
   }
  },
  {
   "cell_type": "code",
   "execution_count": 19,
   "outputs": [
    {
     "name": "stdout",
     "output_type": "stream",
     "text": [
      "article_id                      0\n",
      "product_code                    0\n",
      "prod_name                       0\n",
      "product_type_no                 0\n",
      "product_type_name               0\n",
      "product_group_name              0\n",
      "graphical_appearance_no         0\n",
      "graphical_appearance_name       0\n",
      "colour_group_code               0\n",
      "colour_group_name               0\n",
      "perceived_colour_value_id       0\n",
      "perceived_colour_value_name     0\n",
      "perceived_colour_master_id      0\n",
      "perceived_colour_master_name    0\n",
      "department_no                   0\n",
      "department_name                 0\n",
      "index_code                      0\n",
      "index_name                      0\n",
      "index_group_no                  0\n",
      "index_group_name                0\n",
      "section_no                      0\n",
      "section_name                    0\n",
      "garment_group_no                0\n",
      "garment_group_name              0\n",
      "detail_desc                     0\n",
      "dtype: int64\n"
     ]
    }
   ],
   "source": [
    "print(articles.isnull().sum())"
   ],
   "metadata": {
    "collapsed": false,
    "pycharm": {
     "name": "#%%\n"
    }
   }
  },
  {
   "cell_type": "code",
   "execution_count": 22,
   "outputs": [
    {
     "name": "stdout",
     "output_type": "stream",
     "text": [
      "article_id                    959461001\n",
      "product_code                     959461\n",
      "product_type_no                     762\n",
      "graphical_appearance_no         1010029\n",
      "colour_group_code                    93\n",
      "perceived_colour_value_id             7\n",
      "perceived_colour_master_id           20\n",
      "department_no                      9989\n",
      "index_group_no                       26\n",
      "section_no                           97\n",
      "garment_group_no                   1025\n",
      "dtype: int64\n"
     ]
    }
   ],
   "source": [
    "max_values = articles.max(numeric_only=True)\n",
    "print(max_values)"
   ],
   "metadata": {
    "collapsed": false,
    "pycharm": {
     "name": "#%%\n"
    }
   }
  },
  {
   "cell_type": "code",
   "execution_count": 35,
   "outputs": [
    {
     "name": "stdout",
     "output_type": "stream",
     "text": [
      "article_id                    108775015\n",
      "product_code                     108775\n",
      "product_type_no                      -1\n",
      "graphical_appearance_no              -1\n",
      "colour_group_code                    -1\n",
      "perceived_colour_value_id            -1\n",
      "perceived_colour_master_id           -1\n",
      "department_no                      1201\n",
      "index_group_no                        1\n",
      "section_no                            2\n",
      "garment_group_no                   1001\n",
      "dtype: int64\n"
     ]
    }
   ],
   "source": [
    "min_values = articles.min(numeric_only=True)\n",
    "print(min_values)"
   ],
   "metadata": {
    "collapsed": false,
    "pycharm": {
     "name": "#%%\n"
    }
   }
  },
  {
   "cell_type": "code",
   "execution_count": 40,
   "outputs": [
    {
     "name": "stdout",
     "output_type": "stream",
     "text": [
      "article_id                      0.000000\n",
      "product_code                    0.000000\n",
      "prod_name                       0.000000\n",
      "product_type_no                 0.114646\n",
      "product_type_name               0.000000\n",
      "product_group_name              0.000000\n",
      "graphical_appearance_no         0.049269\n",
      "graphical_appearance_name       0.000000\n",
      "colour_group_code               0.026530\n",
      "colour_group_name               0.000000\n",
      "perceived_colour_value_id       0.026530\n",
      "perceived_colour_value_name     0.000000\n",
      "perceived_colour_master_id      0.649031\n",
      "perceived_colour_master_name    0.000000\n",
      "department_no                   0.000000\n",
      "department_name                 0.000000\n",
      "index_code                      0.000000\n",
      "index_name                      0.000000\n",
      "index_group_no                  0.000000\n",
      "index_group_name                0.000000\n",
      "section_no                      0.000000\n",
      "section_name                    0.000000\n",
      "garment_group_no                0.000000\n",
      "garment_group_name              0.000000\n",
      "detail_desc                     0.000000\n",
      "dtype: float64\n"
     ]
    }
   ],
   "source": [
    "percentage_neg_one = (articles == -1).sum() / len(articles) * 100\n",
    "print(percentage_neg_one)"
   ],
   "metadata": {
    "collapsed": false,
    "pycharm": {
     "name": "#%%\n"
    }
   }
  },
  {
   "cell_type": "code",
   "execution_count": 41,
   "outputs": [],
   "source": [
    "articles_cleaned1 = articles[articles['product_type_no'] != -1]\n",
    "articles_cleaned2 = articles_cleaned1[articles_cleaned1['graphical_appearance_no'] != -1]\n",
    "articles_cleaned3 = articles_cleaned2[articles_cleaned2['colour_group_code'] != -1]\n",
    "articles_cleaned4 = articles_cleaned3[articles_cleaned3['perceived_colour_value_id'] != -1]\n",
    "articles_cleaned = articles_cleaned4[articles_cleaned4['perceived_colour_master_id'] != -1]\n"
   ],
   "metadata": {
    "collapsed": false,
    "pycharm": {
     "name": "#%%\n"
    }
   }
  },
  {
   "cell_type": "code",
   "execution_count": 42,
   "outputs": [
    {
     "name": "stdout",
     "output_type": "stream",
     "text": [
      "article_id                      0.0\n",
      "product_code                    0.0\n",
      "prod_name                       0.0\n",
      "product_type_no                 0.0\n",
      "product_type_name               0.0\n",
      "product_group_name              0.0\n",
      "graphical_appearance_no         0.0\n",
      "graphical_appearance_name       0.0\n",
      "colour_group_code               0.0\n",
      "colour_group_name               0.0\n",
      "perceived_colour_value_id       0.0\n",
      "perceived_colour_value_name     0.0\n",
      "perceived_colour_master_id      0.0\n",
      "perceived_colour_master_name    0.0\n",
      "department_no                   0.0\n",
      "department_name                 0.0\n",
      "index_code                      0.0\n",
      "index_name                      0.0\n",
      "index_group_no                  0.0\n",
      "index_group_name                0.0\n",
      "section_no                      0.0\n",
      "section_name                    0.0\n",
      "garment_group_no                0.0\n",
      "garment_group_name              0.0\n",
      "detail_desc                     0.0\n",
      "dtype: float64\n"
     ]
    }
   ],
   "source": [
    "percentage_neg_one = (articles_cleaned == -1).sum() / len(articles_cleaned) * 100\n",
    "print(percentage_neg_one)"
   ],
   "metadata": {
    "collapsed": false,
    "pycharm": {
     "name": "#%%\n"
    }
   }
  },
  {
   "cell_type": "code",
   "execution_count": 45,
   "outputs": [
    {
     "data": {
      "text/plain": "<Figure size 432x288 with 1 Axes>",
      "image/png": "[encoded data removed]"
     },
     "metadata": {
      "needs_background": "light"
     },
     "output_type": "display_data"
    }
   ],
   "source": [
    "plt.hist(articles['product_type_no'], bins=30)\n",
    "plt.title('Histogram of Column Name')\n",
    "plt.xlabel('Column Name')\n",
    "plt.ylabel('Frequency')\n",
    "plt.show()"
   ],
   "metadata": {
    "collapsed": false,
    "pycharm": {
     "name": "#%%\n"
    }
   }
  },
  {
   "cell_type": "code",
   "execution_count": 46,
   "outputs": [
    {
     "data": {
      "text/plain": "<Figure size 432x288 with 1 Axes>",
      "image/png": "[encoded data removed]"
     },
     "metadata": {
      "needs_background": "light"
     },
     "output_type": "display_data"
    }
   ],
   "source": [
    "import seaborn as sns\n",
    "sns.countplot(x='product_type_no', data=articles)\n",
    "plt.title('Bar Chart of Categorical Column')\n",
    "plt.xlabel('Categorical Column Name')\n",
    "plt.ylabel('Count')\n",
    "plt.xticks(rotation=45)\n",
    "plt.show()"
   ],
   "metadata": {
    "collapsed": false,
    "pycharm": {
     "name": "#%%\n"
    }
   }
  }
 ],
 "metadata": {
  "kernelspec": {
   "display_name": "Python 3",
   "language": "python",
   "name": "python3"
  },
  "language_info": {
   "codemirror_mode": {
    "name": "ipython",
    "version": 2
   },
   "file_extension": ".py",
   "mimetype": "text/x-python",
   "name": "python",
   "nbconvert_exporter": "python",
   "pygments_lexer": "ipython2",
   "version": "2.7.6"
  }
 },
 "nbformat": 4,
 "nbformat_minor": 0
}