{
 "cells": [
  {
   "cell_type": "markdown",
   "id": "6f21ab04",
   "metadata": {
    "papermill": {
     "duration": 0.052947,
     "end_time": "2022-04-16T16:58:42.297492",
     "exception": false,
     "start_time": "2022-04-16T16:58:42.244545",
     "status": "completed"
    },
    "tags": []
   },
   "source": [
    "Radek posted about this [here](https://www.kaggle.com/competitions/h-and-m-personalized-fashion-recommendations/discussion/309220), and linked to a GitHub repo with the code.\n",
    "\n",
    "I just transferred that code here to Kaggle notebooks, that's all."
   ]
  },
  {
   "cell_type": "code",
   "execution_count": 1,
   "outputs": [],
   "source": [
    "from sklearn.base import BaseEstimator, TransformerMixin\n",
    "import numpy as np\n",
    "from tqdm import tqdm\n",
    "import warnings\n",
    "import matplotlib.pyplot as plt\n",
    "import pandas as pd\n",
    "from sklearn.metrics.pairwise import cosine_similarity\n",
    "from sklearn.preprocessing import StandardScaler\n",
    "\n",
    "warnings.filterwarnings('ignore') # Ignore annoying warnings :-)"
   ],
   "metadata": {
    "collapsed": false,
    "pycharm": {
     "name": "#%%\n"
    }
   }
  },
  {
   "cell_type": "code",
   "execution_count": 2,
   "outputs": [],
   "source": [
    "def apk(actual, predicted, k=12):\n",
    "    \"\"\"\n",
    "    Computes the average precision at k.\n",
    "\n",
    "    This function computes the average prescision at k between two lists of\n",
    "    items.\n",
    "\n",
    "    Parameters\n",
    "    ----------\n",
    "    actual : list\n",
    "             A list of elements that are to be predicted (order doesn't matter)\n",
    "    predicted : list\n",
    "                A list of predicted elements (order does matter)\n",
    "    k : int, optional\n",
    "        The maximum number of predicted elements\n",
    "\n",
    "    Returns\n",
    "    -------\n",
    "    score : double\n",
    "            The average precision at k over the input lists\n",
    "\n",
    "    \"\"\"\n",
    "    if len(predicted)>k:\n",
    "        predicted = predicted[:k]\n",
    "\n",
    "    score = 0.0\n",
    "    num_hits = 0.0\n",
    "\n",
    "    for i,p in enumerate(predicted):\n",
    "        if p in actual and p not in predicted[:i]:\n",
    "            num_hits += 1.0\n",
    "            score += num_hits / (i+1.0)\n",
    "\n",
    "    if not actual:\n",
    "        return 0.0\n",
    "\n",
    "    return score / min(len(actual), k)\n",
    "\n",
    "def mapk(actual, predicted, k=12):\n",
    "    \"\"\"\n",
    "    Computes the mean average precision at k.\n",
    "\n",
    "    This function computes the mean average prescision at k between two lists\n",
    "    of lists of items.\n",
    "\n",
    "    Parameters\n",
    "    ----------\n",
    "    actual : list\n",
    "             A list of lists of elements that are to be predicted\n",
    "             (order doesn't matter in the lists)\n",
    "    predicted : list\n",
    "                A list of lists of predicted elements\n",
    "                (order matters in the lists)\n",
    "    k : int, optional\n",
    "        The maximum number of predicted elements\n",
    "\n",
    "    Returns\n",
    "    -------\n",
    "    score : double\n",
    "            The mean average precision at k over the input lists\n",
    "\n",
    "    \"\"\"\n",
    "    return np.mean([apk(a,p,k) for a,p in zip(actual, predicted)])"
   ],
   "metadata": {
    "collapsed": false,
    "pycharm": {
     "name": "#%%\n"
    }
   }
  },
  {
   "cell_type": "code",
   "execution_count": 3,
   "id": "85ef6566",
   "metadata": {
    "execution": {
     "iopub.execute_input": "2022-04-16T16:58:42.530042Z",
     "iopub.status.busy": "2022-04-16T16:58:42.529039Z",
     "iopub.status.idle": "2022-04-16T16:58:43.826306Z",
     "shell.execute_reply": "2022-04-16T16:58:43.824669Z"
    },
    "papermill": {
     "duration": 1.348449,
     "end_time": "2022-04-16T16:58:43.828990",
     "exception": false,
     "start_time": "2022-04-16T16:58:42.480541",
     "status": "completed"
    },
    "tags": []
   },
   "outputs": [],
   "source": [
    "# https://www.kaggle.com/c/h-and-m-personalized-fashion-recommendations/discussion/308635\n",
    "def customer_hex_id_to_int(series):\n",
    "    return series.str[-16:].apply(hex_id_to_int)\n",
    "\n",
    "def hex_id_to_int(str):\n",
    "    return int(str[-16:], 16)\n",
    "\n",
    "def article_id_str_to_int(series):\n",
    "    return series.astype('int32')\n",
    "\n",
    "def article_id_int_to_str(series):\n",
    "    return '0' + series.astype('str')\n",
    "\n",
    "class Categorize(BaseEstimator, TransformerMixin):\n",
    "    def __init__(self, min_examples=0):\n",
    "        self.min_examples = min_examples\n",
    "        self.categories = []\n",
    "        \n",
    "    def fit(self, X):\n",
    "        for i in range(X.shape[1]):\n",
    "            vc = X.iloc[:, i].value_counts()\n",
    "            self.categories.append(vc[vc > self.min_examples].index.tolist())\n",
    "        return self\n",
    "\n",
    "    def transform(self, X):\n",
    "        data = {X.columns[i]: pd.Categorical(X.iloc[:, i], categories=self.categories[i]).codes for i in range(X.shape[1])}\n",
    "        return pd.DataFrame(data=data)\n",
    "\n",
    "def calculate_apk(list_of_preds, list_of_gts):\n",
    "    # for fast validation this can be changed to operate on dicts of {'cust_id_int': [art_id_int, ...]}\n",
    "    # using 'data/val_week_purchases_by_cust.pkl'\n",
    "    apks = []\n",
    "    for preds, gt in zip(list_of_preds, list_of_gts):\n",
    "        apks.append(apk(gt, preds, k=12))\n",
    "    return np.mean(apks)\n",
    "\n",
    "def eval_sub(sub_csv, skip_cust_with_no_purchases=True):\n",
    "    sub=pd.read_csv(sub_csv)\n",
    "    validation_set=pd.read_parquet('data/validation_ground_truth.parquet')\n",
    "\n",
    "    apks = []\n",
    "\n",
    "    no_purchases_pattern = []\n",
    "    for pred, gt in zip(sub.prediction.str.split(), validation_set.prediction.str.split()):\n",
    "        if skip_cust_with_no_purchases and (gt == no_purchases_pattern): continue\n",
    "        apks.append(apk(gt, pred, k=12))\n",
    "    return np.mean(apks)"
   ]
  },
  {
   "cell_type": "markdown",
   "source": [
    "### Parameters"
   ],
   "metadata": {
    "collapsed": false,
    "pycharm": {
     "name": "#%% md\n"
    }
   }
  },
  {
   "cell_type": "code",
   "execution_count": 4,
   "outputs": [],
   "source": [
    "KAGGLE = False               # Changes test week, validation, transaction max week, ...\n",
    "DATA_DIR = \"../data\"        # Where the csv and parquet files are stored\n",
    "SUB_DIR = \"../submissions\"  # Where the submission csv file will be stored\n",
    "\n",
    "FB_QUANTILE = 0.90          # Changes the FB Treshold.\n",
    "K_PRICE_SIMILARITIES = 50   # How many similarly prices articles are generated\n",
    "K_ARTICLE_SIMILARITIES = 10 # How many similarly articles are generated\n",
    "\n",
    "N_ESTIMATORS = 50           # Amount of estimator for frequent buyer model"
   ],
   "metadata": {
    "collapsed": false,
    "pycharm": {
     "name": "#%%\n"
    }
   }
  },
  {
   "cell_type": "markdown",
   "source": [
    "### Read Data"
   ],
   "metadata": {
    "collapsed": false
   }
  },
  {
   "cell_type": "code",
   "execution_count": 5,
   "id": "af847e1a",
   "metadata": {
    "execution": {
     "iopub.execute_input": "2022-04-16T16:58:44.085405Z",
     "iopub.status.busy": "2022-04-16T16:58:44.084601Z",
     "iopub.status.idle": "2022-04-16T16:58:53.285552Z",
     "shell.execute_reply": "2022-04-16T16:58:53.284023Z"
    },
    "papermill": {
     "duration": 9.279307,
     "end_time": "2022-04-16T16:58:53.289550",
     "exception": false,
     "start_time": "2022-04-16T16:58:44.010243",
     "status": "completed"
    },
    "tags": []
   },
   "outputs": [],
   "source": [
    "transactions = pd.read_parquet(DATA_DIR + '/transactions_train.parquet', engine='pyarrow')\n",
    "customers = pd.read_parquet(DATA_DIR + '/customers.parquet', engine='pyarrow')\n",
    "articles = pd.read_parquet(DATA_DIR + '/articles.parquet', engine='pyarrow')"
   ]
  },
  {
   "cell_type": "markdown",
   "source": [
    "### Set validation and test week. Trim Transactions"
   ],
   "metadata": {
    "collapsed": false
   }
  },
  {
   "cell_type": "code",
   "execution_count": 6,
   "outputs": [],
   "source": [
    "# Create a validation set for the test week\n",
    "if KAGGLE:\n",
    "    val = transactions[transactions.week == transactions.week.max() + 1]\n",
    "else:\n",
    "    val = transactions[transactions.week == transactions.week.max()]"
   ],
   "metadata": {
    "collapsed": false,
    "pycharm": {
     "name": "#%%\n"
    }
   }
  },
  {
   "cell_type": "code",
   "execution_count": 7,
   "id": "76f70d9a",
   "metadata": {
    "execution": {
     "iopub.execute_input": "2022-04-16T16:58:53.419209Z",
     "iopub.status.busy": "2022-04-16T16:58:53.418809Z",
     "iopub.status.idle": "2022-04-16T16:58:53.683144Z",
     "shell.execute_reply": "2022-04-16T16:58:53.681606Z"
    },
    "papermill": {
     "duration": 0.321424,
     "end_time": "2022-04-16T16:58:53.685420",
     "exception": false,
     "start_time": "2022-04-16T16:58:53.363996",
     "status": "completed"
    },
    "tags": []
   },
   "outputs": [
    {
     "name": "stdout",
     "output_type": "stream",
     "text": [
      "Test week:  104\n",
      "Transactions weeks: [ 95 - 103 ] =  8 weeks of data\n"
     ]
    }
   ],
   "source": [
    "if KAGGLE:\n",
    "    # Calculate the next week number after the current maximum week in the data\n",
    "    test_week = transactions.week.max() + 1\n",
    "\n",
    "    # Filter the transactions to include only those from the last 10 weeks\n",
    "    transactions = transactions[transactions.week > transactions.week.max() - 10]\n",
    "else:\n",
    "    # Set test week to the last available week\n",
    "    test_week = transactions.week.max()\n",
    "\n",
    "    # Filter the transactions to include only those from the last 10 weeks and make sure the test week is not in it!\n",
    "    transactions = transactions[transactions.week > transactions.week.max() - 10]\n",
    "    transactions = transactions[transactions.week < transactions.week.max()]\n",
    "\n",
    "print(\"Test week: \", test_week)\n",
    "print(\"Transactions weeks: [\", transactions.week.min(), \"-\", transactions.week.max(), \"]\", \"= \", transactions.week.max() - transactions.week.min() ,\"weeks of data\")"
   ]
  },
  {
   "cell_type": "markdown",
   "id": "5133081f",
   "metadata": {
    "papermill": {
     "duration": 0.04664,
     "end_time": "2022-04-16T16:58:53.778482",
     "exception": false,
     "start_time": "2022-04-16T16:58:53.731842",
     "status": "completed"
    },
    "tags": []
   },
   "source": [
    "# Generating candidates"
   ]
  },
  {
   "cell_type": "markdown",
   "id": "55672930",
   "metadata": {
    "papermill": {
     "duration": 0.047255,
     "end_time": "2022-04-16T16:58:53.872805",
     "exception": false,
     "start_time": "2022-04-16T16:58:53.825550",
     "status": "completed"
    },
    "tags": []
   },
   "source": [
    "### Last purchase candidates"
   ]
  },
  {
   "cell_type": "code",
   "execution_count": 8,
   "id": "953a0f07",
   "metadata": {
    "execution": {
     "iopub.execute_input": "2022-04-16T16:58:53.967689Z",
     "iopub.status.busy": "2022-04-16T16:58:53.967401Z",
     "iopub.status.idle": "2022-04-16T16:59:15.044739Z",
     "shell.execute_reply": "2022-04-16T16:59:15.043325Z"
    },
    "papermill": {
     "duration": 21.129005,
     "end_time": "2022-04-16T16:59:15.047833",
     "exception": false,
     "start_time": "2022-04-16T16:58:53.918828",
     "status": "completed"
    },
    "tags": []
   },
   "outputs": [
    {
     "name": "stdout",
     "output_type": "stream",
     "text": [
      "CPU times: user 6.46 s, sys: 51.9 ms, total: 6.51 s\n",
      "Wall time: 6.49 s\n"
     ]
    }
   ],
   "source": [
    "%%time\n",
    "\n",
    "# Create a mapping of each customer --> weeks in which they have made transactions\n",
    "c2weeks = transactions.groupby('customer_id')['week'].unique()"
   ]
  },
  {
   "cell_type": "code",
   "execution_count": 9,
   "id": "a36be6fc",
   "metadata": {
    "execution": {
     "iopub.execute_input": "2022-04-16T16:59:15.192906Z",
     "iopub.status.busy": "2022-04-16T16:59:15.192675Z",
     "iopub.status.idle": "2022-04-16T16:59:15.281870Z",
     "shell.execute_reply": "2022-04-16T16:59:15.281106Z"
    },
    "papermill": {
     "duration": 0.164411,
     "end_time": "2022-04-16T16:59:15.283877",
     "exception": false,
     "start_time": "2022-04-16T16:59:15.119466",
     "status": "completed"
    },
    "tags": []
   },
   "outputs": [
    {
     "data": {
      "text/plain": "            min        max\nweek                      \n95   2020-07-15 2020-07-21\n96   2020-07-22 2020-07-28\n97   2020-07-29 2020-08-04\n98   2020-08-05 2020-08-11\n99   2020-08-12 2020-08-18\n100  2020-08-19 2020-08-25\n101  2020-08-26 2020-09-01\n102  2020-09-02 2020-09-08\n103  2020-09-09 2020-09-15",
      "text/html": "<div>\n<style scoped>\n    .dataframe tbody tr th:only-of-type {\n        vertical-align: middle;\n    }\n\n    .dataframe tbody tr th {\n        vertical-align: top;\n    }\n\n    .dataframe thead th {\n        text-align: right;\n    }\n</style>\n<table border=\"1\" class=\"dataframe\">\n  <thead>\n    <tr style=\"text-align: right;\">\n      <th></th>\n      <th>min</th>\n      <th>max</th>\n    </tr>\n    <tr>\n      <th>week</th>\n      <th></th>\n      <th></th>\n    </tr>\n  </thead>\n  <tbody>\n    <tr>\n      <th>95</th>\n      <td>2020-07-15</td>\n      <td>2020-07-21</td>\n    </tr>\n    <tr>\n      <th>96</th>\n      <td>2020-07-22</td>\n      <td>2020-07-28</td>\n    </tr>\n    <tr>\n      <th>97</th>\n      <td>2020-07-29</td>\n      <td>2020-08-04</td>\n    </tr>\n    <tr>\n      <th>98</th>\n      <td>2020-08-05</td>\n      <td>2020-08-11</td>\n    </tr>\n    <tr>\n      <th>99</th>\n      <td>2020-08-12</td>\n      <td>2020-08-18</td>\n    </tr>\n    <tr>\n      <th>100</th>\n      <td>2020-08-19</td>\n      <td>2020-08-25</td>\n    </tr>\n    <tr>\n      <th>101</th>\n      <td>2020-08-26</td>\n      <td>2020-09-01</td>\n    </tr>\n    <tr>\n      <th>102</th>\n      <td>2020-09-02</td>\n      <td>2020-09-08</td>\n    </tr>\n    <tr>\n      <th>103</th>\n      <td>2020-09-09</td>\n      <td>2020-09-15</td>\n    </tr>\n  </tbody>\n</table>\n</div>"
     },
     "execution_count": 9,
     "metadata": {},
     "output_type": "execute_result"
    }
   ],
   "source": [
    "# Calculating the Date Range for Each Week\n",
    "transactions.groupby('week')['t_dat'].agg(['min', 'max'])"
   ]
  },
  {
   "cell_type": "code",
   "execution_count": 10,
   "id": "f4723bec",
   "metadata": {
    "execution": {
     "iopub.execute_input": "2022-04-16T16:59:15.588334Z",
     "iopub.status.busy": "2022-04-16T16:59:15.588052Z",
     "iopub.status.idle": "2022-04-16T16:59:16.661897Z",
     "shell.execute_reply": "2022-04-16T16:59:16.661248Z"
    },
    "papermill": {
     "duration": 1.152087,
     "end_time": "2022-04-16T16:59:16.664416",
     "exception": false,
     "start_time": "2022-04-16T16:59:15.512329",
     "status": "completed"
    },
    "tags": []
   },
   "outputs": [
    {
     "name": "stdout",
     "output_type": "stream",
     "text": [
      "CPU times: user 266 ms, sys: 18.2 ms, total: 284 ms\n",
      "Wall time: 283 ms\n"
     ]
    }
   ],
   "source": [
    "%%time\n",
    "\n",
    "# Initialize an empty dictionary to store the mapping of current to next weeks for each customer\n",
    "c2weeks2shifted_weeks = {}\n",
    "\n",
    "# Iterate through each customer and their associated weeks\n",
    "for c_id, weeks in c2weeks.items():\n",
    "    # Initialize a sub-dictionary for each customer\n",
    "    c2weeks2shifted_weeks[c_id] = {}\n",
    "\n",
    "    # Iterate through the weeks, but stop one week early to avoid index error\n",
    "    for i in range(weeks.shape[0] - 1):\n",
    "        # Map the current week to the next week\n",
    "        c2weeks2shifted_weeks[c_id][weeks[i]] = weeks[i + 1]\n",
    "\n",
    "    # For the last week in the list, map it to the 'test_week' (a future week)\n",
    "    c2weeks2shifted_weeks[c_id][weeks[-1]] = test_week"
   ]
  },
  {
   "cell_type": "code",
   "execution_count": 11,
   "id": "73302f1f",
   "metadata": {
    "execution": {
     "iopub.execute_input": "2022-04-16T16:59:16.814283Z",
     "iopub.status.busy": "2022-04-16T16:59:16.813874Z",
     "iopub.status.idle": "2022-04-16T16:59:16.819790Z",
     "shell.execute_reply": "2022-04-16T16:59:16.818116Z"
    },
    "papermill": {
     "duration": 0.083354,
     "end_time": "2022-04-16T16:59:16.821693",
     "exception": false,
     "start_time": "2022-04-16T16:59:16.738339",
     "status": "completed"
    },
    "tags": []
   },
   "outputs": [
    {
     "data": {
      "text/plain": "{95: 96, 96: 101, 101: 102, 102: 104}"
     },
     "execution_count": 11,
     "metadata": {},
     "output_type": "execute_result"
    }
   ],
   "source": [
    "c2weeks2shifted_weeks[28847241659200]"
   ]
  },
  {
   "cell_type": "code",
   "execution_count": 12,
   "id": "5a87c920",
   "metadata": {
    "execution": {
     "iopub.execute_input": "2022-04-16T16:59:16.974137Z",
     "iopub.status.busy": "2022-04-16T16:59:16.973909Z",
     "iopub.status.idle": "2022-04-16T16:59:16.988973Z",
     "shell.execute_reply": "2022-04-16T16:59:16.988167Z"
    },
    "papermill": {
     "duration": 0.095127,
     "end_time": "2022-04-16T16:59:16.991288",
     "exception": false,
     "start_time": "2022-04-16T16:59:16.896161",
     "status": "completed"
    },
    "tags": []
   },
   "outputs": [],
   "source": [
    "candidates_last_purchase = transactions.copy()"
   ]
  },
  {
   "cell_type": "code",
   "execution_count": 13,
   "id": "4f4d4a18",
   "metadata": {
    "execution": {
     "iopub.execute_input": "2022-04-16T16:59:17.146118Z",
     "iopub.status.busy": "2022-04-16T16:59:17.145905Z",
     "iopub.status.idle": "2022-04-16T16:59:25.781407Z",
     "shell.execute_reply": "2022-04-16T16:59:25.779777Z"
    },
    "papermill": {
     "duration": 8.716794,
     "end_time": "2022-04-16T16:59:25.784593",
     "exception": false,
     "start_time": "2022-04-16T16:59:17.067799",
     "status": "completed"
    },
    "tags": []
   },
   "outputs": [
    {
     "name": "stdout",
     "output_type": "stream",
     "text": [
      "CPU times: user 3.07 s, sys: 39.6 ms, total: 3.11 s\n",
      "Wall time: 3.11 s\n"
     ]
    }
   ],
   "source": [
    "%%time\n",
    "\n",
    "# Initialize an empty list to store the 'next' week for each transaction\n",
    "weeks = []\n",
    "\n",
    "# Iterate over each transaction, getting the customer ID and the week of the transaction\n",
    "for i, (c_id, week) in enumerate(zip(transactions['customer_id'], transactions['week'])):\n",
    "    # For each transaction, append the 'next' week from the c2weeks2shifted_weeks dictionary\n",
    "    # This 'next' week is the week following the current transaction week for the customer\n",
    "    weeks.append(c2weeks2shifted_weeks[c_id][week])\n",
    "\n",
    "candidates_last_purchase.week = weeks"
   ]
  },
  {
   "cell_type": "markdown",
   "id": "38ae3458",
   "metadata": {
    "papermill": {
     "duration": 0.076715,
     "end_time": "2022-04-16T16:59:26.293010",
     "exception": false,
     "start_time": "2022-04-16T16:59:26.216295",
     "status": "completed"
    },
    "tags": []
   },
   "source": [
    "### Bestsellers candidates"
   ]
  },
  {
   "cell_type": "code",
   "execution_count": 14,
   "id": "022a7879",
   "metadata": {
    "execution": {
     "iopub.execute_input": "2022-04-16T16:59:26.450077Z",
     "iopub.status.busy": "2022-04-16T16:59:26.449041Z",
     "iopub.status.idle": "2022-04-16T16:59:26.698222Z",
     "shell.execute_reply": "2022-04-16T16:59:26.697460Z"
    },
    "papermill": {
     "duration": 0.331688,
     "end_time": "2022-04-16T16:59:26.700507",
     "exception": false,
     "start_time": "2022-04-16T16:59:26.368819",
     "status": "completed"
    },
    "tags": []
   },
   "outputs": [],
   "source": [
    "# Compute the average selling price of each article for each week.\n",
    "mean_price = transactions.groupby(['week', 'article_id'])['price'].mean()"
   ]
  },
  {
   "cell_type": "code",
   "execution_count": 15,
   "id": "9a104ef9",
   "metadata": {
    "execution": {
     "iopub.execute_input": "2022-04-16T16:59:26.973271Z",
     "iopub.status.busy": "2022-04-16T16:59:26.972993Z",
     "iopub.status.idle": "2022-04-16T16:59:27.759574Z",
     "shell.execute_reply": "2022-04-16T16:59:27.758540Z"
    },
    "papermill": {
     "duration": 0.840436,
     "end_time": "2022-04-16T16:59:27.761667",
     "exception": false,
     "start_time": "2022-04-16T16:59:26.921231",
     "status": "completed"
    },
    "tags": []
   },
   "outputs": [],
   "source": [
    "# Calculate the bestseller ranks for articles each week\n",
    "sales = transactions \\\n",
    "    .groupby('week')['article_id'].value_counts() \\\n",
    "    .groupby('week').rank(method='dense', ascending=False) \\\n",
    "    .groupby('week').head(12) \\\n",
    "    .rename('bestseller_rank').astype('int8')"
   ]
  },
  {
   "cell_type": "code",
   "execution_count": 16,
   "id": "20324cc0",
   "metadata": {
    "execution": {
     "iopub.execute_input": "2022-04-16T16:59:28.190524Z",
     "iopub.status.busy": "2022-04-16T16:59:28.190250Z",
     "iopub.status.idle": "2022-04-16T16:59:28.228967Z",
     "shell.execute_reply": "2022-04-16T16:59:28.228233Z"
    },
    "papermill": {
     "duration": 0.11991,
     "end_time": "2022-04-16T16:59:28.231470",
     "exception": false,
     "start_time": "2022-04-16T16:59:28.111560",
     "status": "completed"
    },
    "tags": []
   },
   "outputs": [],
   "source": [
    "# Merge the 'sales' data (which contains bestseller ranks) with the 'mean_price' data\n",
    "bestsellers_previous_week = pd.merge(sales, mean_price, on=['week', 'article_id']).reset_index()\n",
    "\n",
    "# Increment the 'week' column by 1 in the merged dataframe\n",
    "bestsellers_previous_week.week += 1"
   ]
  },
  {
   "cell_type": "code",
   "execution_count": 17,
   "id": "b8447b19",
   "metadata": {
    "execution": {
     "iopub.execute_input": "2022-04-16T16:59:28.387785Z",
     "iopub.status.busy": "2022-04-16T16:59:28.387358Z",
     "iopub.status.idle": "2022-04-16T16:59:28.397082Z",
     "shell.execute_reply": "2022-04-16T16:59:28.396419Z"
    },
    "papermill": {
     "duration": 0.089116,
     "end_time": "2022-04-16T16:59:28.399153",
     "exception": false,
     "start_time": "2022-04-16T16:59:28.310037",
     "status": "completed"
    },
    "tags": []
   },
   "outputs": [
    {
     "data": {
      "text/plain": "    week  article_id  bestseller_rank     price\n0     96   760084003                1  0.025094\n1     96   866731001                2  0.024919\n2     96   600886001                3  0.022980\n3     96   706016001                4  0.033197\n4     96   372860002                5  0.013193\n5     96   610776002                6  0.008318\n6     96   877278002                7  0.025036\n7     96   547780003                8  0.024814\n8     96   817354001                9  0.021913\n9     96   827968001               10  0.016436\n10    96   866731003               11  0.024893\n11    96   866383006               12  0.023195",
      "text/html": "<div>\n<style scoped>\n    .dataframe tbody tr th:only-of-type {\n        vertical-align: middle;\n    }\n\n    .dataframe tbody tr th {\n        vertical-align: top;\n    }\n\n    .dataframe thead th {\n        text-align: right;\n    }\n</style>\n<table border=\"1\" class=\"dataframe\">\n  <thead>\n    <tr style=\"text-align: right;\">\n      <th></th>\n      <th>week</th>\n      <th>article_id</th>\n      <th>bestseller_rank</th>\n      <th>price</th>\n    </tr>\n  </thead>\n  <tbody>\n    <tr>\n      <th>0</th>\n      <td>96</td>\n      <td>760084003</td>\n      <td>1</td>\n      <td>0.025094</td>\n    </tr>\n    <tr>\n      <th>1</th>\n      <td>96</td>\n      <td>866731001</td>\n      <td>2</td>\n      <td>0.024919</td>\n    </tr>\n    <tr>\n      <th>2</th>\n      <td>96</td>\n      <td>600886001</td>\n      <td>3</td>\n      <td>0.022980</td>\n    </tr>\n    <tr>\n      <th>3</th>\n      <td>96</td>\n      <td>706016001</td>\n      <td>4</td>\n      <td>0.033197</td>\n    </tr>\n    <tr>\n      <th>4</th>\n      <td>96</td>\n      <td>372860002</td>\n      <td>5</td>\n      <td>0.013193</td>\n    </tr>\n    <tr>\n      <th>5</th>\n      <td>96</td>\n      <td>610776002</td>\n      <td>6</td>\n      <td>0.008318</td>\n    </tr>\n    <tr>\n      <th>6</th>\n      <td>96</td>\n      <td>877278002</td>\n      <td>7</td>\n      <td>0.025036</td>\n    </tr>\n    <tr>\n      <th>7</th>\n      <td>96</td>\n      <td>547780003</td>\n      <td>8</td>\n      <td>0.024814</td>\n    </tr>\n    <tr>\n      <th>8</th>\n      <td>96</td>\n      <td>817354001</td>\n      <td>9</td>\n      <td>0.021913</td>\n    </tr>\n    <tr>\n      <th>9</th>\n      <td>96</td>\n      <td>827968001</td>\n      <td>10</td>\n      <td>0.016436</td>\n    </tr>\n    <tr>\n      <th>10</th>\n      <td>96</td>\n      <td>866731003</td>\n      <td>11</td>\n      <td>0.024893</td>\n    </tr>\n    <tr>\n      <th>11</th>\n      <td>96</td>\n      <td>866383006</td>\n      <td>12</td>\n      <td>0.023195</td>\n    </tr>\n  </tbody>\n</table>\n</div>"
     },
     "execution_count": 17,
     "metadata": {},
     "output_type": "execute_result"
    }
   ],
   "source": [
    "# Filter the 'bestsellers_previous_week' df for records where week = 96\n",
    "bestsellers_previous_week.pipe(lambda df: df[df['week']==96])"
   ]
  },
  {
   "cell_type": "code",
   "execution_count": 18,
   "id": "1ad756de",
   "metadata": {
    "execution": {
     "iopub.execute_input": "2022-04-16T16:59:28.555106Z",
     "iopub.status.busy": "2022-04-16T16:59:28.554346Z",
     "iopub.status.idle": "2022-04-16T16:59:29.140400Z",
     "shell.execute_reply": "2022-04-16T16:59:29.138684Z"
    },
    "papermill": {
     "duration": 0.667005,
     "end_time": "2022-04-16T16:59:29.144061",
     "exception": false,
     "start_time": "2022-04-16T16:59:28.477056",
     "status": "completed"
    },
    "tags": []
   },
   "outputs": [],
   "source": [
    "# Extract the first transaction of each customer for each week\n",
    "unique_transactions = transactions \\\n",
    "    .groupby(['week', 'customer_id']) \\\n",
    "    .head(1) \\\n",
    "    .drop(columns=['article_id', 'price']) \\\n",
    "    .copy()\n"
   ]
  },
  {
   "cell_type": "code",
   "execution_count": 19,
   "outputs": [
    {
     "data": {
      "text/plain": "              t_dat           customer_id  article_id     price  \\\n29030503 2020-07-15       272412481300040   778064028  0.008458   \n29064059 2020-07-15      1456826891333599   888294001  0.013542   \n29067103 2020-07-15      2133687643102426   843642001  0.042356   \n29027487 2020-07-15      6010692573790711   857812010  0.039661   \n29046403 2020-07-15      6171059100114610   815447007  0.006763   \n...             ...                   ...         ...       ...   \n31521960 2020-09-15  18439897732908966680   794321007  0.061000   \n31531712 2020-09-15  18444276791873187543   867969008  0.033881   \n31539937 2020-09-15  18444799607866739422   909721003  0.042356   \n31543799 2020-09-15  18446250046654386343   869872006  0.033881   \n31536744 2020-09-15  18446630855572834764   568601045  0.050831   \n\n          sales_channel_id  week  \n29030503                 1    95  \n29064059                 1    95  \n29067103                 2    95  \n29027487                 1    95  \n29046403                 2    95  \n...                    ...   ...  \n31521960                 2   103  \n31531712                 2   103  \n31539937                 2   103  \n31543799                 1   103  \n31536744                 2   103  \n\n[686726 rows x 6 columns]",
      "text/html": "<div>\n<style scoped>\n    .dataframe tbody tr th:only-of-type {\n        vertical-align: middle;\n    }\n\n    .dataframe tbody tr th {\n        vertical-align: top;\n    }\n\n    .dataframe thead th {\n        text-align: right;\n    }\n</style>\n<table border=\"1\" class=\"dataframe\">\n  <thead>\n    <tr style=\"text-align: right;\">\n      <th></th>\n      <th>t_dat</th>\n      <th>customer_id</th>\n      <th>article_id</th>\n      <th>price</th>\n      <th>sales_channel_id</th>\n      <th>week</th>\n    </tr>\n  </thead>\n  <tbody>\n    <tr>\n      <th>29030503</th>\n      <td>2020-07-15</td>\n      <td>272412481300040</td>\n      <td>778064028</td>\n      <td>0.008458</td>\n      <td>1</td>\n      <td>95</td>\n    </tr>\n    <tr>\n      <th>29064059</th>\n      <td>2020-07-15</td>\n      <td>1456826891333599</td>\n      <td>888294001</td>\n      <td>0.013542</td>\n      <td>1</td>\n      <td>95</td>\n    </tr>\n    <tr>\n      <th>29067103</th>\n      <td>2020-07-15</td>\n      <td>2133687643102426</td>\n      <td>843642001</td>\n      <td>0.042356</td>\n      <td>2</td>\n      <td>95</td>\n    </tr>\n    <tr>\n      <th>29027487</th>\n      <td>2020-07-15</td>\n      <td>6010692573790711</td>\n      <td>857812010</td>\n      <td>0.039661</td>\n      <td>1</td>\n      <td>95</td>\n    </tr>\n    <tr>\n      <th>29046403</th>\n      <td>2020-07-15</td>\n      <td>6171059100114610</td>\n      <td>815447007</td>\n      <td>0.006763</td>\n      <td>2</td>\n      <td>95</td>\n    </tr>\n    <tr>\n      <th>...</th>\n      <td>...</td>\n      <td>...</td>\n      <td>...</td>\n      <td>...</td>\n      <td>...</td>\n      <td>...</td>\n    </tr>\n    <tr>\n      <th>31521960</th>\n      <td>2020-09-15</td>\n      <td>18439897732908966680</td>\n      <td>794321007</td>\n      <td>0.061000</td>\n      <td>2</td>\n      <td>103</td>\n    </tr>\n    <tr>\n      <th>31531712</th>\n      <td>2020-09-15</td>\n      <td>18444276791873187543</td>\n      <td>867969008</td>\n      <td>0.033881</td>\n      <td>2</td>\n      <td>103</td>\n    </tr>\n    <tr>\n      <th>31539937</th>\n      <td>2020-09-15</td>\n      <td>18444799607866739422</td>\n      <td>909721003</td>\n      <td>0.042356</td>\n      <td>2</td>\n      <td>103</td>\n    </tr>\n    <tr>\n      <th>31543799</th>\n      <td>2020-09-15</td>\n      <td>18446250046654386343</td>\n      <td>869872006</td>\n      <td>0.033881</td>\n      <td>1</td>\n      <td>103</td>\n    </tr>\n    <tr>\n      <th>31536744</th>\n      <td>2020-09-15</td>\n      <td>18446630855572834764</td>\n      <td>568601045</td>\n      <td>0.050831</td>\n      <td>2</td>\n      <td>103</td>\n    </tr>\n  </tbody>\n</table>\n<p>686726 rows × 6 columns</p>\n</div>"
     },
     "execution_count": 19,
     "metadata": {},
     "output_type": "execute_result"
    }
   ],
   "source": [
    "# Remove duplicate records from the 'transactions' dataframe,\n",
    "transactions.drop_duplicates(['week', 'customer_id'])"
   ],
   "metadata": {
    "collapsed": false,
    "pycharm": {
     "name": "#%%\n"
    }
   }
  },
  {
   "cell_type": "code",
   "execution_count": 20,
   "id": "4a23981e",
   "metadata": {
    "execution": {
     "iopub.execute_input": "2022-04-16T16:59:29.966619Z",
     "iopub.status.busy": "2022-04-16T16:59:29.965698Z",
     "iopub.status.idle": "2022-04-16T16:59:30.451040Z",
     "shell.execute_reply": "2022-04-16T16:59:30.449784Z"
    },
    "papermill": {
     "duration": 0.575247,
     "end_time": "2022-04-16T16:59:30.453425",
     "exception": false,
     "start_time": "2022-04-16T16:59:29.878178",
     "status": "completed"
    },
    "tags": []
   },
   "outputs": [],
   "source": [
    "# Merge 'unique_transactions' dataframe with 'bestsellers_previous_week' dataframe\n",
    "candidates_bestsellers = pd.merge(\n",
    "    unique_transactions,\n",
    "    bestsellers_previous_week,\n",
    "    on='week',\n",
    ")"
   ]
  },
  {
   "cell_type": "code",
   "execution_count": 21,
   "id": "ad3a9710",
   "metadata": {
    "execution": {
     "iopub.execute_input": "2022-04-16T16:59:30.557949Z",
     "iopub.status.busy": "2022-04-16T16:59:30.557290Z",
     "iopub.status.idle": "2022-04-16T16:59:30.666388Z",
     "shell.execute_reply": "2022-04-16T16:59:30.665542Z"
    },
    "papermill": {
     "duration": 0.163691,
     "end_time": "2022-04-16T16:59:30.668845",
     "exception": false,
     "start_time": "2022-04-16T16:59:30.505154",
     "status": "completed"
    },
    "tags": []
   },
   "outputs": [],
   "source": [
    "# Prepare a test dataset from the 'unique_transactions' dataframe\n",
    "\n",
    "# First, remove duplicate entries for each customer\n",
    "test_set_transactions = unique_transactions.drop_duplicates('customer_id').reset_index(drop=True)\n",
    "\n",
    "# Set the 'week' column of the test dataset to 'test_week'\n",
    "test_set_transactions.week = test_week"
   ]
  },
  {
   "cell_type": "code",
   "execution_count": 22,
   "id": "9f64b005",
   "metadata": {
    "execution": {
     "iopub.execute_input": "2022-04-16T16:59:31.022450Z",
     "iopub.status.busy": "2022-04-16T16:59:31.021916Z",
     "iopub.status.idle": "2022-04-16T16:59:31.402955Z",
     "shell.execute_reply": "2022-04-16T16:59:31.402449Z"
    },
    "papermill": {
     "duration": 0.473042,
     "end_time": "2022-04-16T16:59:31.405328",
     "exception": false,
     "start_time": "2022-04-16T16:59:30.932286",
     "status": "completed"
    },
    "tags": []
   },
   "outputs": [],
   "source": [
    "# Merge the 'test_set_transactions' dataframe with the 'bestsellers_previous_week' dataframe\n",
    "candidates_bestsellers_test_week = pd.merge(\n",
    "    test_set_transactions,\n",
    "    bestsellers_previous_week,\n",
    "    on='week'\n",
    ")"
   ]
  },
  {
   "cell_type": "code",
   "execution_count": 23,
   "id": "212b7926",
   "metadata": {
    "execution": {
     "iopub.execute_input": "2022-04-16T16:59:31.572192Z",
     "iopub.status.busy": "2022-04-16T16:59:31.571731Z",
     "iopub.status.idle": "2022-04-16T16:59:32.056182Z",
     "shell.execute_reply": "2022-04-16T16:59:32.054646Z"
    },
    "papermill": {
     "duration": 0.570441,
     "end_time": "2022-04-16T16:59:32.058855",
     "exception": false,
     "start_time": "2022-04-16T16:59:31.488414",
     "status": "completed"
    },
    "tags": []
   },
   "outputs": [],
   "source": [
    "# Concatenate 'candidates_bestsellers' with 'candidates_bestsellers_test_week'\n",
    "candidates_bestsellers = pd.concat([candidates_bestsellers, candidates_bestsellers_test_week])\n",
    "\n",
    "# Remove the 'bestseller_rank' column from the combined dataframe\n",
    "candidates_bestsellers.drop(columns='bestseller_rank', inplace=True)"
   ]
  },
  {
   "cell_type": "markdown",
   "source": [
    "# Similar Article Candidates"
   ],
   "metadata": {
    "collapsed": false,
    "pycharm": {
     "name": "#%% md\n"
    }
   }
  },
  {
   "cell_type": "markdown",
   "source": [
    "### Remove bulk buys"
   ],
   "metadata": {
    "collapsed": false,
    "pycharm": {
     "name": "#%% md\n"
    }
   }
  },
  {
   "cell_type": "code",
   "execution_count": 24,
   "outputs": [
    {
     "name": "stdout",
     "output_type": "stream",
     "text": [
      "DataFrame size original: (2522561, 6)\n",
      "DataFrame size after dropping duplicates: (2270166, 6)\n"
     ]
    }
   ],
   "source": [
    "transactions_2 = transactions.copy()\n",
    "\n",
    "print(f\"DataFrame size original: {transactions.shape}\")\n",
    "\n",
    "# Drop duplicate rows, removes bulk buyes\n",
    "transactions_2.drop_duplicates(subset=['customer_id', 'article_id', 'week'], keep='last', inplace=True)\n",
    "\n",
    "print(f\"DataFrame size after dropping duplicates: {transactions_2.shape}\")"
   ],
   "metadata": {
    "collapsed": false,
    "pycharm": {
     "name": "#%%\n"
    }
   }
  },
  {
   "cell_type": "markdown",
   "source": [
    "### Calculate Frequent Buyers"
   ],
   "metadata": {
    "collapsed": false
   }
  },
  {
   "cell_type": "code",
   "execution_count": 25,
   "outputs": [
    {
     "name": "stdout",
     "output_type": "stream",
     "text": [
      "frequent buyer threshold:  12.0\n",
      "Number of frequent buyers: 36999\n"
     ]
    }
   ],
   "source": [
    "# Counting transactions for each customer_id\n",
    "transaction_counts = transactions_2['customer_id'].value_counts()\n",
    "\n",
    "# Calculating the 00th quantile as the threshold\n",
    "threshold = transaction_counts.quantile(FB_QUANTILE)\n",
    "print(\"frequent buyer threshold: \", threshold)\n",
    "\n",
    "# Labeling frequent buyers in the transactions DataFrame\n",
    "transactions_2['frequent_buyer'] = transactions_2['customer_id'].map(lambda x: transaction_counts[x] > threshold)\n",
    "\n",
    "# Counting unique frequent buyers\n",
    "num_frequent_buyers = transactions_2[transactions_2['frequent_buyer']]['customer_id'].nunique()\n",
    "print(f\"Number of frequent buyers: {num_frequent_buyers}\")\n",
    "\n",
    "# Filtering transactions for frequent buyers\n",
    "frequent_buyer_transactions = transactions_2[transactions_2['frequent_buyer']]\n",
    "\n",
    "# Merging with articles data\n",
    "frequent_transactions = frequent_buyer_transactions.merge(articles[['article_id', 'product_group_name', 'product_type_name', 'colour_group_name']], on='article_id', how='left')\n",
    "\n",
    "# Extract unique frequent buyer IDs\n",
    "unique_frequent_buyers = list(frequent_buyer_transactions['customer_id'].unique())"
   ],
   "metadata": {
    "collapsed": false,
    "pycharm": {
     "name": "#%%\n"
    }
   }
  },
  {
   "cell_type": "code",
   "execution_count": 26,
   "outputs": [
    {
     "data": {
      "text/plain": "<Figure size 432x288 with 1 Axes>",
      "image/png": "[encoded data removed]"
     },
     "metadata": {
      "needs_background": "light"
     },
     "output_type": "display_data"
    }
   ],
   "source": [
    "transaction_counts.hist(bins=50)\n",
    "plt.xlabel('Number of Transactions')\n",
    "plt.ylabel('Number of Customers')\n",
    "plt.title('Distribution of Transaction Counts per Customer')\n",
    "plt.show()"
   ],
   "metadata": {
    "collapsed": false,
    "pycharm": {
     "name": "#%%\n"
    }
   }
  },
  {
   "cell_type": "code",
   "execution_count": 27,
   "outputs": [
    {
     "data": {
      "text/plain": "<Figure size 432x288 with 1 Axes>",
      "image/png": "[encoded data removed]"
     },
     "metadata": {
      "needs_background": "light"
     },
     "output_type": "display_data"
    }
   ],
   "source": [
    "num_infrequent_buyers = transactions['customer_id'].nunique() - num_frequent_buyers\n",
    "plt.bar(['Frequent Buyers', 'Non-Frequent Buyers'], [num_frequent_buyers, num_infrequent_buyers])\n",
    "plt.ylabel('Number of Customers')\n",
    "plt.title('Frequent vs Non-Frequent Buyers')\n",
    "plt.show()"
   ],
   "metadata": {
    "collapsed": false,
    "pycharm": {
     "name": "#%%\n"
    }
   }
  },
  {
   "cell_type": "code",
   "execution_count": 28,
   "outputs": [
    {
     "data": {
      "text/plain": "<Figure size 432x288 with 1 Axes>",
      "image/png": "[encoded data removed]"
     },
     "metadata": {
      "needs_background": "light"
     },
     "output_type": "display_data"
    }
   ],
   "source": [
    "frequent_buyer_transaction_counts = frequent_buyer_transactions['customer_id'].value_counts()\n",
    "frequent_buyer_transaction_counts.hist(bins=50)\n",
    "plt.xlabel('Number of Transactions')\n",
    "plt.ylabel('Number of Frequent Buyers')\n",
    "plt.title('Transaction Counts for Frequent Buyers')\n",
    "plt.show()"
   ],
   "metadata": {
    "collapsed": false,
    "pycharm": {
     "name": "#%%\n"
    }
   }
  },
  {
   "cell_type": "markdown",
   "source": [
    "### Prune Frequent Transactions & Articles"
   ],
   "metadata": {
    "collapsed": false
   }
  },
  {
   "cell_type": "code",
   "execution_count": 29,
   "outputs": [],
   "source": [
    "# List of Columns to remove\n",
    "columns_to_remove = ['sales_channel_id', 'price', 'week', 'frequent_buyer']\n",
    "\n",
    "# Drop certain columns, as we only need to use it to calculate similarities\n",
    "pruned_frequent_transactions = frequent_transactions.copy()\n",
    "\n",
    "# Drop the columns\n",
    "pruned_frequent_transactions.drop(columns_to_remove, axis=1, inplace=True)"
   ],
   "metadata": {
    "collapsed": false,
    "pycharm": {
     "name": "#%%\n"
    }
   }
  },
  {
   "cell_type": "code",
   "execution_count": 30,
   "outputs": [],
   "source": [
    "# List of columns to keep\n",
    "columns_to_keep = [\"product_type_name\", \"product_group_name\", \"article_id\", \"colour_group_name\"]\n",
    "\n",
    "# Getting the list of columns to drop\n",
    "columns_to_drop = articles.columns.difference(columns_to_keep)\n",
    "\n",
    "# Dropping the columns\n",
    "pruned_articles = articles.drop(columns_to_drop, axis=1)"
   ],
   "metadata": {
    "collapsed": false,
    "pycharm": {
     "name": "#%%\n"
    }
   }
  },
  {
   "cell_type": "markdown",
   "source": [
    "### Calculate Least bought categories"
   ],
   "metadata": {
    "collapsed": false
   }
  },
  {
   "cell_type": "code",
   "execution_count": 31,
   "outputs": [],
   "source": [
    "# Calculate the least common product group for each customer\n",
    "least_common_categories = pruned_frequent_transactions.groupby('customer_id')['product_group_name'].apply(lambda x: x.value_counts().nsmallest(1).index.tolist())\n",
    "\n",
    "# Calculate the least common product type for each customer\n",
    "least_common_product_types = pruned_frequent_transactions.groupby('customer_id')['product_type_name'].apply(lambda x: x.value_counts().nsmallest(1).index.tolist())\n",
    "\n",
    "# Calculate the least common colors for each customer\n",
    "least_common_colors = pruned_frequent_transactions.groupby('customer_id')['colour_group_name'].apply(lambda x: x.value_counts().nsmallest(1).index.tolist())"
   ],
   "metadata": {
    "collapsed": false,
    "pycharm": {
     "name": "#%%\n"
    }
   }
  },
  {
   "cell_type": "code",
   "execution_count": 32,
   "outputs": [
    {
     "data": {
      "text/plain": "<Figure size 432x288 with 1 Axes>",
      "image/png": "[encoded data removed]"
     },
     "metadata": {
      "needs_background": "light"
     },
     "output_type": "display_data"
    }
   ],
   "source": [
    "# Extract the first customer's ID\n",
    "first_customer_id = unique_frequent_buyers[6]\n",
    "\n",
    "# Filter the transactions of the first customer\n",
    "first_customer_transactions = pruned_frequent_transactions[pruned_frequent_transactions['customer_id'] == first_customer_id]\n",
    "\n",
    "# Count the occurrences of each product group for this customer\n",
    "product_group_counts = first_customer_transactions['product_group_name'].value_counts()\n",
    "\n",
    "# Plotting\n",
    "product_group_counts.plot(kind='bar')\n",
    "\n",
    "plt.xlabel('Product Group')\n",
    "plt.ylabel('Frequency')\n",
    "plt.title(f'Product Group Purchase Frequency for Customer {first_customer_id}')\n",
    "plt.show()"
   ],
   "metadata": {
    "collapsed": false,
    "pycharm": {
     "name": "#%%\n"
    }
   }
  },
  {
   "cell_type": "markdown",
   "source": [
    "### Get all outlier articles for each customer"
   ],
   "metadata": {
    "collapsed": false
   }
  },
  {
   "cell_type": "code",
   "execution_count": 33,
   "outputs": [],
   "source": [
    "# First, calculate the popularity of each article in frequent_buyer_transactions\n",
    "article_popularity = frequent_buyer_transactions['article_id'].value_counts()\n",
    "article_candidate_ids = {}\n",
    "pruned_articles = articles.copy() # Test of dees moet?\n",
    "\n",
    "for customer in unique_frequent_buyers:\n",
    "    # Initialize an empty set for the customer\n",
    "    article_candidate_ids[customer] = set()\n",
    "\n",
    "    # Filter and keep only the most popular article for group_name-color combination\n",
    "    matching_category_color = pruned_articles[\n",
    "        (pruned_articles['product_group_name'] == least_common_categories[customer][0]) &\n",
    "        (pruned_articles['colour_group_name'] == least_common_colors[customer][0])\n",
    "    ]\n",
    "    matching_category_color = matching_category_color[matching_category_color['article_id'].isin(article_popularity.index)]\n",
    "    matching_category_color['popularity'] = matching_category_color['article_id'].map(article_popularity)\n",
    "    matching_category_color = matching_category_color.sort_values(by='popularity', ascending=False).head(1)\n",
    "\n",
    "    # Filter and keep only the most popular article for product type-color combination\n",
    "    matching_product_type_color = pruned_articles[\n",
    "        (pruned_articles['product_type_name'] == least_common_product_types[customer][0]) &\n",
    "        (pruned_articles['colour_group_name'] == least_common_colors[customer][0])\n",
    "    ]\n",
    "    matching_product_type_color = matching_product_type_color[matching_product_type_color['article_id'].isin(article_popularity.index)]\n",
    "    matching_product_type_color['popularity'] = matching_product_type_color['article_id'].map(article_popularity)\n",
    "    matching_product_type_color = matching_product_type_color.sort_values(by='popularity', ascending=False).head(1)\n",
    "\n",
    "    # Combine the results and add the found article IDs to the set for this customer\n",
    "    combined_articles = pd.concat([\n",
    "        matching_category_color,\n",
    "        matching_product_type_color\n",
    "    ]).drop_duplicates('article_id')\n",
    "\n",
    "    article_candidate_ids[customer].update(combined_articles['article_id'].unique())"
   ],
   "metadata": {
    "collapsed": false,
    "pycharm": {
     "name": "#%%\n"
    }
   }
  },
  {
   "cell_type": "markdown",
   "source": [
    "### Similarity Matrix w Cosine Similarity"
   ],
   "metadata": {
    "collapsed": false
   }
  },
  {
   "cell_type": "code",
   "execution_count": 34,
   "outputs": [],
   "source": [
    "def generate_item_similarities(articles, outlier_article_ids, k=10):\n",
    "    # Features list to consider\n",
    "    features = ['product_type_name', 'colour_group_name', 'product_group_name', 'garment_group_name' ]\n",
    "\n",
    "    # Convert the integer categorical features to 'category' data type first\n",
    "    for feature in features:\n",
    "        articles[feature] = articles[feature].astype('category')\n",
    "\n",
    "    # One-hot encoding\n",
    "    articles_encoded = pd.get_dummies(articles, columns=features)\n",
    "\n",
    "    # Filter articles to include only those in outlier_article_ids\n",
    "    filtered_articles = articles_encoded[articles_encoded['article_id'].isin(outlier_article_ids)]\n",
    "\n",
    "    # Normalize the one-hot encoded features\n",
    "    scaler = StandardScaler()\n",
    "    encoded_feature_names = list(set(articles_encoded.columns) - set(['article_id']))\n",
    "    normalized_features = scaler.fit_transform(filtered_articles[encoded_feature_names])\n",
    "\n",
    "    # Calculate cosine similarity matrix\n",
    "    similarity_matrix = cosine_similarity(normalized_features)\n",
    "\n",
    "    # Store the k most similar articles for each outlier article\n",
    "    similar_articles_dict = {}\n",
    "    for idx, article_id in enumerate(filtered_articles['article_id']):\n",
    "        similar_indices = similarity_matrix[idx].argsort()[-k-1:-1][::-1]\n",
    "        similar_article_ids = [filtered_articles.iloc[i]['article_id'] for i in similar_indices]\n",
    "        similar_articles_dict[article_id] = similar_article_ids\n",
    "\n",
    "    return similar_articles_dict, similarity_matrix"
   ],
   "metadata": {
    "collapsed": false,
    "pycharm": {
     "name": "#%%\n"
    }
   }
  },
  {
   "cell_type": "markdown",
   "source": [
    "### Generate similar items for each customer"
   ],
   "metadata": {
    "collapsed": false
   }
  },
  {
   "cell_type": "code",
   "execution_count": 35,
   "outputs": [],
   "source": [
    "# Collect all unique outlier article IDs\n",
    "all_outlier_articles = set()\n",
    "for articles_set in article_candidate_ids.values():\n",
    "    all_outlier_articles.update(articles_set)\n",
    "\n",
    "# Get the similarity Matrix\n",
    "outlier_article_ids = list(all_outlier_articles)\n",
    "similar_articles_dict, matrix = generate_item_similarities(articles, outlier_article_ids, K_ARTICLE_SIMILARITIES)\n",
    "\n",
    "# Initialize a new dictionary to store the mapping from customer to similar articles\n",
    "customer_to_similar_articles = {}\n",
    "\n",
    "# Loop over each article candidate ids\n",
    "for customer, outlier_articles in article_candidate_ids.items():\n",
    "    # Initialize an empty set for the similar articles\n",
    "    similar_articles_for_customer = set()\n",
    "\n",
    "    # Iterate over each outlier article for this customer\n",
    "    for outlier_article in outlier_articles:\n",
    "        # Get the similar articles for this outlier\n",
    "        similar_articles = similar_articles_dict.get(outlier_article, [])\n",
    "\n",
    "        # Add these similar articles to the set\n",
    "        similar_articles_for_customer.update(similar_articles)\n",
    "\n",
    "    # Add the set of similar articles to the customer mapping\n",
    "    customer_to_similar_articles[customer] = similar_articles_for_customer"
   ],
   "metadata": {
    "collapsed": false,
    "pycharm": {
     "name": "#%%\n"
    }
   }
  },
  {
   "cell_type": "markdown",
   "source": [
    "### Generate 'Fake' Transactions"
   ],
   "metadata": {
    "collapsed": false
   }
  },
  {
   "cell_type": "code",
   "execution_count": 36,
   "outputs": [],
   "source": [
    "# Sort transactions by 't_dat' in descending order and then group by 'article_id'\n",
    "sorted_transactions = transactions.sort_values(by='t_dat', ascending=False)\n",
    "grouped_transactions = sorted_transactions.groupby('article_id')\n",
    "\n",
    "synthetic_transactions_list = []\n",
    "\n",
    "# Loop over customer_to_similar_articles\n",
    "for customer, articlesss in customer_to_similar_articles.items():\n",
    "    customer_transactions = []  # Temporary list for each customer's transactions\n",
    "    for article in articlesss:\n",
    "        # Get the latest transaction for each article\n",
    "        if article in grouped_transactions.groups:\n",
    "            latest_transaction = grouped_transactions.get_group(article).head(1).copy()\n",
    "            # Update the customer_id\n",
    "            latest_transaction['customer_id'] = customer\n",
    "            customer_transactions.append(latest_transaction)\n",
    "\n",
    "    synthetic_transactions_list.extend(customer_transactions)\n",
    "\n",
    "# Concatenate all the transactions at once\n",
    "synthetic_transactions = pd.concat(synthetic_transactions_list, ignore_index=True)"
   ],
   "metadata": {
    "collapsed": false,
    "pycharm": {
     "name": "#%%\n"
    }
   }
  },
  {
   "cell_type": "markdown",
   "source": [
    "### Sanity Checks"
   ],
   "metadata": {
    "collapsed": false
   }
  },
  {
   "cell_type": "code",
   "execution_count": 37,
   "outputs": [
    {
     "name": "stdout",
     "output_type": "stream",
     "text": [
      "Original Article ID: 126589010\n",
      "\tColor: Light Orange\n",
      "\tProduct Type: Hair clip\n",
      "\tProduct Group: Accessories\n",
      "\tDescription: Plastic hair claws. Width 3.5 cm.\n",
      "Similar Articles:\n",
      "\tArticle ID: 214844001\n",
      "\tColor: Black\n",
      "\tProduct Type: Hair clip\n",
      "\tProduct Group: Accessories\n",
      "\tDescription: Metal hair grips. Length 5 cm.\n",
      "\n",
      "\tArticle ID: 214844002\n",
      "\tColor: Greyish Beige\n",
      "\tProduct Type: Hair clip\n",
      "\tProduct Group: Accessories\n",
      "\tDescription: Metal hair grips. Length 5 cm.\n",
      "\n",
      "\tArticle ID: 630675002\n",
      "\tColor: Light Beige\n",
      "\tProduct Type: Hair clip\n",
      "\tProduct Group: Accessories\n",
      "\tDescription: Hair clips in coloured plastic.\n",
      "\n",
      "\tArticle ID: 926520001\n",
      "\tColor: White\n",
      "\tProduct Type: Hair clip\n",
      "\tProduct Group: Accessories\n",
      "\tDescription: Large hair claw in transparent plastic.\n",
      "\n",
      "\tArticle ID: 214844003\n",
      "\tColor: Gold\n",
      "\tProduct Type: Hair clip\n",
      "\tProduct Group: Accessories\n",
      "\tDescription: Metal hair grips. Length 5 cm.\n",
      "\n",
      "\tArticle ID: 864822002\n",
      "\tColor: Silver\n",
      "\tProduct Type: Hair clip\n",
      "\tProduct Group: Accessories\n",
      "\tDescription: Hammered metal hair clips. Length 6.5 cm.\n",
      "\n",
      "\tArticle ID: 828718002\n",
      "\tColor: Yellow\n",
      "\tProduct Type: Hair clip\n",
      "\tProduct Group: Accessories\n",
      "\tDescription: Metal hair clips with acetate on top. Length 6.5 cm.\n",
      "\n",
      "\tArticle ID: 853016003\n",
      "\tColor: Light Pink\n",
      "\tProduct Type: Hair clip\n",
      "\tProduct Group: Accessories\n",
      "\tDescription: Large plastic hair claw. Width 9 cm.\n",
      "\n",
      "\tArticle ID: 812730001\n",
      "\tColor: Yellowish Brown\n",
      "\tProduct Type: Hair clip\n",
      "\tProduct Group: Accessories\n",
      "\tDescription: Hair clips in plastic and metal with a sparkly stone text motif. Length 9 cm.\n",
      "\n",
      "\tArticle ID: 806467001\n",
      "\tColor: Off White\n",
      "\tProduct Type: Hair clip\n",
      "\tProduct Group: Accessories\n",
      "\tDescription: Metal hair clips decorated with pearly plastic beads. Length 9 cm.\n",
      "\n",
      "Original Article ID: 130035001\n",
      "\tColor: Black\n",
      "\tProduct Type: Umbrella\n",
      "\tProduct Group: Items\n",
      "\tDescription: Umbrella with a telescopic handle and matching cover. Length 23 cm folded.\n",
      "Similar Articles:\n",
      "\tArticle ID: 934389001\n",
      "\tColor: White\n",
      "\tProduct Type: Umbrella\n",
      "\tProduct Group: Items\n",
      "\tDescription: Umbrella with a transparent plastic canopy and a plastic handle.\n",
      "\n",
      "\tArticle ID: 322017039\n",
      "\tColor: Pink\n",
      "\tProduct Type: Umbrella\n",
      "\tProduct Group: Accessories\n",
      "\tDescription: Small umbrella with a telescopic handle and a fabric wrist strap. Size 7x15.5 cm folded.\n",
      "\n",
      "\tArticle ID: 512989022\n",
      "\tColor: Dark Green\n",
      "\tProduct Type: Umbrella\n",
      "\tProduct Group: Accessories\n",
      "\tDescription: Umbrella with a telescopic handle and matching cover. Length 23 cm folded.\n",
      "\n",
      "\tArticle ID: 322017040\n",
      "\tColor: Other Red\n",
      "\tProduct Type: Umbrella\n",
      "\tProduct Group: Accessories\n",
      "\tDescription: Small umbrella with a telescopic handle and a fabric wrist strap. Size 7x15.5 cm folded.\n",
      "\n",
      "\tArticle ID: 855507001\n",
      "\tColor: Pink\n",
      "\tProduct Type: Mobile case\n",
      "\tProduct Group: Items\n",
      "\tDescription: Plastic smartphone case with a transparent back and coloured trims.\n",
      "\n",
      "\tArticle ID: 915101002\n",
      "\tColor: Light Pink\n",
      "\tProduct Type: Mobile case\n",
      "\tProduct Group: Items\n",
      "\tDescription: Soft plastic smartphone case.\n",
      "\n",
      "\tArticle ID: 855507002\n",
      "\tColor: Light Orange\n",
      "\tProduct Type: Mobile case\n",
      "\tProduct Group: Items\n",
      "\tDescription: Plastic smartphone case with a transparent back and coloured trims.\n",
      "\n",
      "\tArticle ID: 906382001\n",
      "\tColor: Light Beige\n",
      "\tProduct Type: Dog wear\n",
      "\tProduct Group: Items\n",
      "\tDescription: Dog jumper in a soft knit with contrasting colour pompoms on the back, a ribbed collar and ribbing around the front legs and back. The polyester content of the jumper is recycled.\n",
      "\n",
      "\tArticle ID: 934312001\n",
      "\tColor: Beige\n",
      "\tProduct Type: Dog wear\n",
      "\tProduct Group: Items\n",
      "\tDescription: Soft, patterned fleece top for a dog. Polo neck with a small opening at the top for a lead and openings underneath for the front legs.\n",
      "\n",
      "\tArticle ID: 906372001\n",
      "\tColor: Dark Green\n",
      "\tProduct Type: Dog wear\n",
      "\tProduct Group: Items\n",
      "\tDescription: Waxed coat for a dog in woven fabric with a corduroy collar and felted fabric lining. Opening for a leash at the top. Underneath section that opens with holes for the front legs and an adjustable hook and loop tab that fastens across the back. Elastic straps for the back legs to keep the coat in place.\n",
      "\n",
      "Original Article ID: 176754003\n",
      "\tColor: Yellowish Brown\n",
      "\tProduct Type: Hair/alice band\n",
      "\tProduct Group: Accessories\n",
      "\tDescription: Two-strand hairband with braids in imitation suede and elastic at the back.\n",
      "Similar Articles:\n",
      "\tArticle ID: 620425015\n",
      "\tColor: Greenish Khaki\n",
      "\tProduct Type: Hair/alice band\n",
      "\tProduct Group: Accessories\n",
      "\tDescription: Wide hairband in cotton jersey with a twisted detail.\n",
      "\n",
      "\tArticle ID: 517729102\n",
      "\tColor: Light Yellow\n",
      "\tProduct Type: Hair/alice band\n",
      "\tProduct Group: Accessories\n",
      "\tDescription: Hairband with a knot detail at the front and covered elastic at the back.\n",
      "\n",
      "\tArticle ID: 620425013\n",
      "\tColor: Dark Blue\n",
      "\tProduct Type: Hair/alice band\n",
      "\tProduct Group: Accessories\n",
      "\tDescription: Wide hairband in cotton jersey with a twisted detail.\n",
      "\n",
      "\tArticle ID: 695166001\n",
      "\tColor: Yellow\n",
      "\tProduct Type: Hair/alice band\n",
      "\tProduct Group: Accessories\n",
      "\tDescription: Hairbands in an airy weave. Can be worn around the head or a ponytail.\n",
      "\n",
      "\tArticle ID: 717773004\n",
      "\tColor: Light Pink\n",
      "\tProduct Type: Hair/alice band\n",
      "\tProduct Group: Accessories\n",
      "\tDescription: Wide, fabric-covered Alice band with a knot detail on the top.\n",
      "\n",
      "\tArticle ID: 754652007\n",
      "\tColor: Light Orange\n",
      "\tProduct Type: Hair/alice band\n",
      "\tProduct Group: Accessories\n",
      "\tDescription: Scarf in patterned silk that can also be worn as a hairband. Size 55x55 cm.\n",
      "\n",
      "\tArticle ID: 500435076\n",
      "\tColor: Dark Green\n",
      "\tProduct Type: Hair/alice band\n",
      "\tProduct Group: Accessories\n",
      "\tDescription: Scarf in a patterned weave that can also be tied as a hairband. Size 50x50 cm.\n",
      "\n",
      "\tArticle ID: 793185029\n",
      "\tColor: Beige\n",
      "\tProduct Type: Hair/alice band\n",
      "\tProduct Group: Accessories\n",
      "\tDescription: Scarves in patterned satin that can also be tied as a hairband. Size 30x80 cm.\n",
      "\n",
      "\tArticle ID: 750681002\n",
      "\tColor: Dark Red\n",
      "\tProduct Type: Hair/alice band\n",
      "\tProduct Group: Accessories\n",
      "\tDescription: Cotton hairbands with a bow at the front and covered elastic at the back.\n",
      "\n",
      "\tArticle ID: 778519002\n",
      "\tColor: Dark Grey\n",
      "\tProduct Type: Hair/alice band\n",
      "\tProduct Group: Accessories\n",
      "\tDescription: Headband in a soft double knit with a wrapover detail at the front.\n",
      "\n",
      "Original Article ID: 188183010\n",
      "\tColor: Dark Red\n",
      "\tProduct Type: Swimsuit\n",
      "\tProduct Group: Swimwear\n",
      "\tDescription: Fully lined shaping swimsuit that has a sculpting effect on the tummy, back and bum. Wrapover top, lightly padded cups, support panels, decorative gathers in the sides, and adjustable shoulder straps.\n",
      "Similar Articles:\n",
      "\tArticle ID: 559633020\n",
      "\tColor: Yellow\n",
      "\tProduct Type: Swimsuit\n",
      "\tProduct Group: Swimwear\n",
      "\tDescription: Fully lined, textured swimsuit with padded cups that shape the bust and provide good support. Concealed elastication under the bust and a low-cut back.\n",
      "\n",
      "\tArticle ID: 811783002\n",
      "\tColor: White\n",
      "\tProduct Type: Swimsuit\n",
      "\tProduct Group: Swimwear\n",
      "\tDescription: Fully lined, V-neck swimsuit with a low-cut back, narrow, adjustable shoulder straps and cups with removable inserts that shape the bust and provide good support.\n",
      "\n",
      "\tArticle ID: 698276009\n",
      "\tColor: Beige\n",
      "\tProduct Type: Swimsuit\n",
      "\tProduct Group: Swimwear\n",
      "\tDescription: Fully lined swimsuit with a deep V-neck with ties at the front, and a square neckline at the back. Padded cups with removable inserts that shape the bust and provide good support. Flounces around the neckline front and back, and a seam at the waist.\n",
      "\n",
      "\tArticle ID: 811899001\n",
      "\tColor: Yellowish Brown\n",
      "\tProduct Type: Swimsuit\n",
      "\tProduct Group: Swimwear\n",
      "\tDescription: Fully lined swimsuit with a low-cut back and high-cut legs. Cups with removable inserts that shape the bust and provide good support.\n",
      "\n",
      "\tArticle ID: 715343007\n",
      "\tColor: Dark Green\n",
      "\tProduct Type: Swimsuit\n",
      "\tProduct Group: Swimwear\n",
      "\tDescription: Fully lined swimsuit with narrow, adjustable shoulder straps, lightly padded cups, a seam at the waist and laser-cut, scalloped edges.\n",
      "\n",
      "\tArticle ID: 559633019\n",
      "\tColor: Dark Orange\n",
      "\tProduct Type: Swimsuit\n",
      "\tProduct Group: Swimwear\n",
      "\tDescription: Fully lined, textured swimsuit with padded cups that shape the bust and provide good support. Concealed elastication under the bust and a low-cut back.\n",
      "\n",
      "\tArticle ID: 811899003\n",
      "\tColor: Black\n",
      "\tProduct Type: Swimsuit\n",
      "\tProduct Group: Swimwear\n",
      "\tDescription: Fully lined swimsuit with a low-cut back and high-cut legs. Cups with removable inserts that shape the bust and provide good support.\n",
      "\n",
      "\tArticle ID: 832309007\n",
      "\tColor: Off White\n",
      "\tProduct Type: Swimsuit\n",
      "\tProduct Group: Swimwear\n",
      "\tDescription: Fully lined swimsuit with a deep, flounce-trimmed, elasticated V-neck front and back. Cups with removable inserts that shape the bust and provide good support and decorative crossover lacing at the front.\n",
      "\n",
      "\tArticle ID: 844409003\n",
      "\tColor: Light Pink\n",
      "\tProduct Type: Swimsuit\n",
      "\tProduct Group: Swimwear\n",
      "\tDescription: Fully lined swimsuit with narrow, adjustable shoulder straps, high-cut legs and medium coverage at the back.\n",
      "\n",
      "\tArticle ID: 832309005\n",
      "\tColor: Red\n",
      "\tProduct Type: Swimsuit\n",
      "\tProduct Group: Swimwear\n",
      "\tDescription: Fully lined swimsuit with a deep, flounce-trimmed, elasticated V-neck front and back. Cups with removable inserts that shape the bust and provide good support and decorative crossover lacing at the front.\n",
      "\n",
      "Original Article ID: 201219003\n",
      "\tColor: Grey\n",
      "\tProduct Type: Underwear Tights\n",
      "\tProduct Group: Socks & Tights\n",
      "\tDescription: Fine-knit tights with an elasticated waist.\n",
      "Similar Articles:\n",
      "\tArticle ID: 228257003\n",
      "\tColor: Beige\n",
      "\tProduct Type: Underwear Tights\n",
      "\tProduct Group: Socks & Tights\n",
      "\tDescription: Tights with an elasticated waist. 20 denier.\n",
      "\n",
      "\tArticle ID: 228257008\n",
      "\tColor: Yellowish Brown\n",
      "\tProduct Type: Underwear Tights\n",
      "\tProduct Group: Socks & Tights\n",
      "\tDescription: Tights with an elasticated waist. 20 denier.\n",
      "\n",
      "\tArticle ID: 201219016\n",
      "\tColor: Dark Orange\n",
      "\tProduct Type: Underwear Tights\n",
      "\tProduct Group: Socks & Tights\n",
      "\tDescription: Fine-knit tights with an elasticated waist.\n",
      "\n",
      "\tArticle ID: 201219017\n",
      "\tColor: Dark Blue\n",
      "\tProduct Type: Underwear Tights\n",
      "\tProduct Group: Socks & Tights\n",
      "\tDescription: Fine-knit tights with an elasticated waist.\n",
      "\n",
      "\tArticle ID: 493103018\n",
      "\tColor: White\n",
      "\tProduct Type: Underwear Tights\n",
      "\tProduct Group: Socks & Tights\n",
      "\tDescription: Tights in a soft, fine-knit cotton blend with an elasticated waist.\n",
      "\n",
      "\tArticle ID: 578752002\n",
      "\tColor: Dark Red\n",
      "\tProduct Type: Underwear Tights\n",
      "\tProduct Group: Socks & Tights\n",
      "\tDescription: Sturdy, soft fine-knit tights with an elasticated waist.\n",
      "\n",
      "\tArticle ID: 293433054\n",
      "\tColor: Yellow\n",
      "\tProduct Type: Underwear Tights\n",
      "\tProduct Group: Socks & Tights\n",
      "\tDescription: Tights in a soft, fine knit with an elasticated waist.\n",
      "\n",
      "\tArticle ID: 493103045\n",
      "\tColor: Light Pink\n",
      "\tProduct Type: Underwear Tights\n",
      "\tProduct Group: Socks & Tights\n",
      "\tDescription: Tights in a soft, fine-knit cotton blend with an elasticated waist.\n",
      "\n",
      "\tArticle ID: 293433061\n",
      "\tColor: Light Grey\n",
      "\tProduct Type: Underwear Tights\n",
      "\tProduct Group: Socks & Tights\n",
      "\tDescription: Tights in a soft, fine knit with an elasticated waist.\n",
      "\n",
      "\tArticle ID: 825011001\n",
      "\tColor: Dark Grey\n",
      "\tProduct Type: Underwear Tights\n",
      "\tProduct Group: Socks & Tights\n",
      "\tDescription: Tights in a soft, fine-knit cotton blend with an elasticated waist.\n",
      "\n",
      "Original Article ID: 201219016\n",
      "\tColor: Dark Orange\n",
      "\tProduct Type: Underwear Tights\n",
      "\tProduct Group: Socks & Tights\n",
      "\tDescription: Fine-knit tights with an elasticated waist.\n",
      "Similar Articles:\n",
      "\tArticle ID: 228257003\n",
      "\tColor: Beige\n",
      "\tProduct Type: Underwear Tights\n",
      "\tProduct Group: Socks & Tights\n",
      "\tDescription: Tights with an elasticated waist. 20 denier.\n",
      "\n",
      "\tArticle ID: 228257008\n",
      "\tColor: Yellowish Brown\n",
      "\tProduct Type: Underwear Tights\n",
      "\tProduct Group: Socks & Tights\n",
      "\tDescription: Tights with an elasticated waist. 20 denier.\n",
      "\n",
      "\tArticle ID: 201219003\n",
      "\tColor: Grey\n",
      "\tProduct Type: Underwear Tights\n",
      "\tProduct Group: Socks & Tights\n",
      "\tDescription: Fine-knit tights with an elasticated waist.\n",
      "\n",
      "\tArticle ID: 201219017\n",
      "\tColor: Dark Blue\n",
      "\tProduct Type: Underwear Tights\n",
      "\tProduct Group: Socks & Tights\n",
      "\tDescription: Fine-knit tights with an elasticated waist.\n",
      "\n",
      "\tArticle ID: 493103018\n",
      "\tColor: White\n",
      "\tProduct Type: Underwear Tights\n",
      "\tProduct Group: Socks & Tights\n",
      "\tDescription: Tights in a soft, fine-knit cotton blend with an elasticated waist.\n",
      "\n",
      "\tArticle ID: 293433054\n",
      "\tColor: Yellow\n",
      "\tProduct Type: Underwear Tights\n",
      "\tProduct Group: Socks & Tights\n",
      "\tDescription: Tights in a soft, fine knit with an elasticated waist.\n",
      "\n",
      "\tArticle ID: 578752002\n",
      "\tColor: Dark Red\n",
      "\tProduct Type: Underwear Tights\n",
      "\tProduct Group: Socks & Tights\n",
      "\tDescription: Sturdy, soft fine-knit tights with an elasticated waist.\n",
      "\n",
      "\tArticle ID: 493103045\n",
      "\tColor: Light Pink\n",
      "\tProduct Type: Underwear Tights\n",
      "\tProduct Group: Socks & Tights\n",
      "\tDescription: Tights in a soft, fine-knit cotton blend with an elasticated waist.\n",
      "\n",
      "\tArticle ID: 293433061\n",
      "\tColor: Light Grey\n",
      "\tProduct Type: Underwear Tights\n",
      "\tProduct Group: Socks & Tights\n",
      "\tDescription: Tights in a soft, fine knit with an elasticated waist.\n",
      "\n",
      "\tArticle ID: 825011001\n",
      "\tColor: Dark Grey\n",
      "\tProduct Type: Underwear Tights\n",
      "\tProduct Group: Socks & Tights\n",
      "\tDescription: Tights in a soft, fine-knit cotton blend with an elasticated waist.\n",
      "\n",
      "Original Article ID: 201219017\n",
      "\tColor: Dark Blue\n",
      "\tProduct Type: Underwear Tights\n",
      "\tProduct Group: Socks & Tights\n",
      "\tDescription: Fine-knit tights with an elasticated waist.\n",
      "Similar Articles:\n",
      "\tArticle ID: 228257003\n",
      "\tColor: Beige\n",
      "\tProduct Type: Underwear Tights\n",
      "\tProduct Group: Socks & Tights\n",
      "\tDescription: Tights with an elasticated waist. 20 denier.\n",
      "\n",
      "\tArticle ID: 228257008\n",
      "\tColor: Yellowish Brown\n",
      "\tProduct Type: Underwear Tights\n",
      "\tProduct Group: Socks & Tights\n",
      "\tDescription: Tights with an elasticated waist. 20 denier.\n",
      "\n",
      "\tArticle ID: 201219003\n",
      "\tColor: Grey\n",
      "\tProduct Type: Underwear Tights\n",
      "\tProduct Group: Socks & Tights\n",
      "\tDescription: Fine-knit tights with an elasticated waist.\n",
      "\n",
      "\tArticle ID: 201219016\n",
      "\tColor: Dark Orange\n",
      "\tProduct Type: Underwear Tights\n",
      "\tProduct Group: Socks & Tights\n",
      "\tDescription: Fine-knit tights with an elasticated waist.\n",
      "\n",
      "\tArticle ID: 493103045\n",
      "\tColor: Light Pink\n",
      "\tProduct Type: Underwear Tights\n",
      "\tProduct Group: Socks & Tights\n",
      "\tDescription: Tights in a soft, fine-knit cotton blend with an elasticated waist.\n",
      "\n",
      "\tArticle ID: 493103018\n",
      "\tColor: White\n",
      "\tProduct Type: Underwear Tights\n",
      "\tProduct Group: Socks & Tights\n",
      "\tDescription: Tights in a soft, fine-knit cotton blend with an elasticated waist.\n",
      "\n",
      "\tArticle ID: 578752002\n",
      "\tColor: Dark Red\n",
      "\tProduct Type: Underwear Tights\n",
      "\tProduct Group: Socks & Tights\n",
      "\tDescription: Sturdy, soft fine-knit tights with an elasticated waist.\n",
      "\n",
      "\tArticle ID: 293433054\n",
      "\tColor: Yellow\n",
      "\tProduct Type: Underwear Tights\n",
      "\tProduct Group: Socks & Tights\n",
      "\tDescription: Tights in a soft, fine knit with an elasticated waist.\n",
      "\n",
      "\tArticle ID: 293433061\n",
      "\tColor: Light Grey\n",
      "\tProduct Type: Underwear Tights\n",
      "\tProduct Group: Socks & Tights\n",
      "\tDescription: Tights in a soft, fine knit with an elasticated waist.\n",
      "\n",
      "\tArticle ID: 825011001\n",
      "\tColor: Dark Grey\n",
      "\tProduct Type: Underwear Tights\n",
      "\tProduct Group: Socks & Tights\n",
      "\tDescription: Tights in a soft, fine-knit cotton blend with an elasticated waist.\n",
      "\n",
      "Original Article ID: 214844001\n",
      "\tColor: Black\n",
      "\tProduct Type: Hair clip\n",
      "\tProduct Group: Accessories\n",
      "\tDescription: Metal hair grips. Length 5 cm.\n",
      "Similar Articles:\n",
      "\tArticle ID: 630675002\n",
      "\tColor: Light Beige\n",
      "\tProduct Type: Hair clip\n",
      "\tProduct Group: Accessories\n",
      "\tDescription: Hair clips in coloured plastic.\n",
      "\n",
      "\tArticle ID: 126589010\n",
      "\tColor: Light Orange\n",
      "\tProduct Type: Hair clip\n",
      "\tProduct Group: Accessories\n",
      "\tDescription: Plastic hair claws. Width 3.5 cm.\n",
      "\n",
      "\tArticle ID: 214844002\n",
      "\tColor: Greyish Beige\n",
      "\tProduct Type: Hair clip\n",
      "\tProduct Group: Accessories\n",
      "\tDescription: Metal hair grips. Length 5 cm.\n",
      "\n",
      "\tArticle ID: 828718002\n",
      "\tColor: Yellow\n",
      "\tProduct Type: Hair clip\n",
      "\tProduct Group: Accessories\n",
      "\tDescription: Metal hair clips with acetate on top. Length 6.5 cm.\n",
      "\n",
      "\tArticle ID: 806467001\n",
      "\tColor: Off White\n",
      "\tProduct Type: Hair clip\n",
      "\tProduct Group: Accessories\n",
      "\tDescription: Metal hair clips decorated with pearly plastic beads. Length 9 cm.\n",
      "\n",
      "\tArticle ID: 853016003\n",
      "\tColor: Light Pink\n",
      "\tProduct Type: Hair clip\n",
      "\tProduct Group: Accessories\n",
      "\tDescription: Large plastic hair claw. Width 9 cm.\n",
      "\n",
      "\tArticle ID: 214844003\n",
      "\tColor: Gold\n",
      "\tProduct Type: Hair clip\n",
      "\tProduct Group: Accessories\n",
      "\tDescription: Metal hair grips. Length 5 cm.\n",
      "\n",
      "\tArticle ID: 926875001\n",
      "\tColor: Beige\n",
      "\tProduct Type: Hair clip\n",
      "\tProduct Group: Accessories\n",
      "\tDescription: Metal hair grips in different colours.\n",
      "\n",
      "\tArticle ID: 873482003\n",
      "\tColor: Dark Red\n",
      "\tProduct Type: Hair clip\n",
      "\tProduct Group: Accessories\n",
      "\tDescription: Small metal hair clips in various glittery and shimmering designs. Length of hair clips 4 cm.\n",
      "\n",
      "\tArticle ID: 812730001\n",
      "\tColor: Yellowish Brown\n",
      "\tProduct Type: Hair clip\n",
      "\tProduct Group: Accessories\n",
      "\tDescription: Hair clips in plastic and metal with a sparkly stone text motif. Length 9 cm.\n",
      "\n",
      "Original Article ID: 214844002\n",
      "\tColor: Greyish Beige\n",
      "\tProduct Type: Hair clip\n",
      "\tProduct Group: Accessories\n",
      "\tDescription: Metal hair grips. Length 5 cm.\n",
      "Similar Articles:\n",
      "\tArticle ID: 214844001\n",
      "\tColor: Black\n",
      "\tProduct Type: Hair clip\n",
      "\tProduct Group: Accessories\n",
      "\tDescription: Metal hair grips. Length 5 cm.\n",
      "\n",
      "\tArticle ID: 126589010\n",
      "\tColor: Light Orange\n",
      "\tProduct Type: Hair clip\n",
      "\tProduct Group: Accessories\n",
      "\tDescription: Plastic hair claws. Width 3.5 cm.\n",
      "\n",
      "\tArticle ID: 630675002\n",
      "\tColor: Light Beige\n",
      "\tProduct Type: Hair clip\n",
      "\tProduct Group: Accessories\n",
      "\tDescription: Hair clips in coloured plastic.\n",
      "\n",
      "\tArticle ID: 828718002\n",
      "\tColor: Yellow\n",
      "\tProduct Type: Hair clip\n",
      "\tProduct Group: Accessories\n",
      "\tDescription: Metal hair clips with acetate on top. Length 6.5 cm.\n",
      "\n",
      "\tArticle ID: 214844003\n",
      "\tColor: Gold\n",
      "\tProduct Type: Hair clip\n",
      "\tProduct Group: Accessories\n",
      "\tDescription: Metal hair grips. Length 5 cm.\n",
      "\n",
      "\tArticle ID: 853016003\n",
      "\tColor: Light Pink\n",
      "\tProduct Type: Hair clip\n",
      "\tProduct Group: Accessories\n",
      "\tDescription: Large plastic hair claw. Width 9 cm.\n",
      "\n",
      "\tArticle ID: 812730001\n",
      "\tColor: Yellowish Brown\n",
      "\tProduct Type: Hair clip\n",
      "\tProduct Group: Accessories\n",
      "\tDescription: Hair clips in plastic and metal with a sparkly stone text motif. Length 9 cm.\n",
      "\n",
      "\tArticle ID: 806467001\n",
      "\tColor: Off White\n",
      "\tProduct Type: Hair clip\n",
      "\tProduct Group: Accessories\n",
      "\tDescription: Metal hair clips decorated with pearly plastic beads. Length 9 cm.\n",
      "\n",
      "\tArticle ID: 809067003\n",
      "\tColor: Light Yellow\n",
      "\tProduct Type: Hair clip\n",
      "\tProduct Group: Accessories\n",
      "\tDescription: Metal hair clips in various designs. Length 5 cm.\n",
      "\n",
      "\tArticle ID: 926875001\n",
      "\tColor: Beige\n",
      "\tProduct Type: Hair clip\n",
      "\tProduct Group: Accessories\n",
      "\tDescription: Metal hair grips in different colours.\n",
      "\n",
      "Original Article ID: 214844003\n",
      "\tColor: Gold\n",
      "\tProduct Type: Hair clip\n",
      "\tProduct Group: Accessories\n",
      "\tDescription: Metal hair grips. Length 5 cm.\n",
      "Similar Articles:\n",
      "\tArticle ID: 214844001\n",
      "\tColor: Black\n",
      "\tProduct Type: Hair clip\n",
      "\tProduct Group: Accessories\n",
      "\tDescription: Metal hair grips. Length 5 cm.\n",
      "\n",
      "\tArticle ID: 126589010\n",
      "\tColor: Light Orange\n",
      "\tProduct Type: Hair clip\n",
      "\tProduct Group: Accessories\n",
      "\tDescription: Plastic hair claws. Width 3.5 cm.\n",
      "\n",
      "\tArticle ID: 828718005\n",
      "\tColor: Dark Green\n",
      "\tProduct Type: Hair clip\n",
      "\tProduct Group: Accessories\n",
      "\tDescription: Metal hair clips with acetate on top. Length 6.5 cm.\n",
      "\n",
      "\tArticle ID: 630675002\n",
      "\tColor: Light Beige\n",
      "\tProduct Type: Hair clip\n",
      "\tProduct Group: Accessories\n",
      "\tDescription: Hair clips in coloured plastic.\n",
      "\n",
      "\tArticle ID: 214844002\n",
      "\tColor: Greyish Beige\n",
      "\tProduct Type: Hair clip\n",
      "\tProduct Group: Accessories\n",
      "\tDescription: Metal hair grips. Length 5 cm.\n",
      "\n",
      "\tArticle ID: 809067003\n",
      "\tColor: Light Yellow\n",
      "\tProduct Type: Hair clip\n",
      "\tProduct Group: Accessories\n",
      "\tDescription: Metal hair clips in various designs. Length 5 cm.\n",
      "\n",
      "\tArticle ID: 883684003\n",
      "\tColor: Gold\n",
      "\tProduct Type: Bag\n",
      "\tProduct Group: Accessories\n",
      "\tDescription: Small shoulder bag in imitation leather with a small inner compartment and a flap with a concealed magnetic fastener. Narrow metal chain and imitation leather shoulder strap. Lined. Depth 4 cm. Height 10 cm. Width 17 cm.\n",
      "\n",
      "\tArticle ID: 812730001\n",
      "\tColor: Yellowish Brown\n",
      "\tProduct Type: Hair clip\n",
      "\tProduct Group: Accessories\n",
      "\tDescription: Hair clips in plastic and metal with a sparkly stone text motif. Length 9 cm.\n",
      "\n",
      "\tArticle ID: 831582001\n",
      "\tColor: Red\n",
      "\tProduct Type: Hair clip\n",
      "\tProduct Group: Accessories\n",
      "\tDescription: One hair clip and four hair grips in metal decorated with plastic beads and sparkly stones. Length from 6.5 cm to 9.5 cm.\n",
      "\n",
      "\tArticle ID: 828718002\n",
      "\tColor: Yellow\n",
      "\tProduct Type: Hair clip\n",
      "\tProduct Group: Accessories\n",
      "\tDescription: Metal hair clips with acetate on top. Length 6.5 cm.\n",
      "\n"
     ]
    }
   ],
   "source": [
    "backup_articles = pd.read_csv('../data/articles.csv') # Parquet files only has number values\n",
    "\n",
    "# Iterating through the first 5 entries in similar_articles_dict\n",
    "for original, similars in list(similar_articles_dict.items())[:10]:\n",
    "    # Fetch and print details of the original article\n",
    "    original_article = backup_articles[backup_articles['article_id'] == original]\n",
    "    original_description = original_article['detail_desc'].values[0]\n",
    "    original_color = original_article['colour_group_name'].values[0]\n",
    "    original_product_type = original_article['product_type_name'].values[0]\n",
    "    original_product_group = original_article['product_group_name'].values[0]\n",
    "\n",
    "    print(f\"Original Article ID: {original}\")\n",
    "    print(f\"\\tColor: {original_color}\")\n",
    "    print(f\"\\tProduct Type: {original_product_type}\")\n",
    "    print(f\"\\tProduct Group: {original_product_group}\")\n",
    "    print(f\"\\tDescription: {original_description}\")\n",
    "\n",
    "    # Optionally, print details of similar articles\n",
    "    print(\"Similar Articles:\")\n",
    "    for similar in similars:\n",
    "        similar_article = backup_articles[backup_articles['article_id'] == similar]\n",
    "        similar_description = similar_article['detail_desc'].values[0]\n",
    "        similar_color = similar_article['colour_group_name'].values[0]\n",
    "        similar_product_type = similar_article['product_type_name'].values[0]\n",
    "        similar_product_group = similar_article['product_group_name'].values[0]\n",
    "\n",
    "        print(f\"\\tArticle ID: {similar}\")\n",
    "        print(f\"\\tColor: {similar_color}\")\n",
    "        print(f\"\\tProduct Type: {similar_product_type}\")\n",
    "        print(f\"\\tProduct Group: {similar_product_group}\")\n",
    "        print(f\"\\tDescription: {similar_description}\\n\")"
   ],
   "metadata": {
    "collapsed": false,
    "pycharm": {
     "name": "#%%\n"
    }
   }
  },
  {
   "cell_type": "code",
   "execution_count": 38,
   "outputs": [
    {
     "data": {
      "text/plain": "<Figure size 864x432 with 1 Axes>",
      "image/png": "[encoded data removed]"
     },
     "metadata": {
      "needs_background": "light"
     },
     "output_type": "display_data"
    }
   ],
   "source": [
    "# Specific article ID\n",
    "article_id = 201219017\n",
    "\n",
    "# Check if the specific article is in the dictionary\n",
    "if article_id in similar_articles_dict:\n",
    "    # Get its most similar articles from the dictionary\n",
    "    similar_articles = similar_articles_dict[article_id]\n",
    "\n",
    "    # Retrieve their similarity scores from 'article_popularity', assuming it's a measure of similarity\n",
    "    similarities = [article_popularity.get(a_id, 0) for a_id in similar_articles]\n",
    "\n",
    "    # Create a bar chart\n",
    "    plt.figure(figsize=(12, 6))\n",
    "    plt.bar(range(len(similar_articles)), similarities, color='skyblue')\n",
    "    plt.xlabel('Article ID')\n",
    "    plt.ylabel('Similarity Score')\n",
    "    plt.title(f'Similarity Scores for Article {article_id}')\n",
    "    plt.xticks(range(len(similar_articles)), similar_articles, rotation=45)\n",
    "    plt.tight_layout()  # Adjust layout to fit the x-axis labels\n",
    "    plt.show()\n",
    "else:\n",
    "    print(f\"No similar articles found for article ID {article_id}\")"
   ],
   "metadata": {
    "collapsed": false,
    "pycharm": {
     "name": "#%%\n"
    }
   }
  },
  {
   "cell_type": "code",
   "execution_count": 39,
   "outputs": [
    {
     "name": "stdout",
     "output_type": "stream",
     "text": [
      "Every customer was processed!\n"
     ]
    }
   ],
   "source": [
    "if len(customer_to_similar_articles) == num_frequent_buyers:\n",
    "    print(\"Every customer was processed!\")\n",
    "else:\n",
    "    print(\"Oeps, not every customer was processed\")"
   ],
   "metadata": {
    "collapsed": false,
    "pycharm": {
     "name": "#%%\n"
    }
   }
  },
  {
   "cell_type": "markdown",
   "source": [
    "# Combining transactions and candidates / negative examples"
   ],
   "metadata": {
    "collapsed": false
   }
  },
  {
   "cell_type": "code",
   "execution_count": 40,
   "id": "529196a4",
   "metadata": {
    "execution": {
     "iopub.execute_input": "2022-04-16T16:59:32.559999Z",
     "iopub.status.busy": "2022-04-16T16:59:32.559691Z",
     "iopub.status.idle": "2022-04-16T16:59:32.568020Z",
     "shell.execute_reply": "2022-04-16T16:59:32.567210Z"
    },
    "papermill": {
     "duration": 0.090433,
     "end_time": "2022-04-16T16:59:32.570268",
     "exception": false,
     "start_time": "2022-04-16T16:59:32.479835",
     "status": "completed"
    },
    "tags": []
   },
   "outputs": [],
   "source": [
    "# Add a new column 'purchased' to the 'transactions' dataframe and set its value to 1\n",
    "# This indicates that all rows in 'transactions' represent a purchase\n",
    "transactions['purchased'] = 1\n",
    "frequent_buyer_transactions['purchased'] = 1"
   ]
  },
  {
   "cell_type": "code",
   "execution_count": 42,
   "id": "421a601e",
   "metadata": {
    "execution": {
     "iopub.execute_input": "2022-04-16T16:59:32.732883Z",
     "iopub.status.busy": "2022-04-16T16:59:32.732442Z",
     "iopub.status.idle": "2022-04-16T16:59:33.215270Z",
     "shell.execute_reply": "2022-04-16T16:59:33.214358Z"
    },
    "papermill": {
     "duration": 0.56807,
     "end_time": "2022-04-16T16:59:33.217736",
     "exception": false,
     "start_time": "2022-04-16T16:59:32.649666",
     "status": "completed"
    },
    "tags": []
   },
   "outputs": [],
   "source": [
    "# Data for non-frequent buyers\n",
    "data = pd.concat(\n",
    "    [transactions,\n",
    "     candidates_last_purchase,\n",
    "     candidates_bestsellers]\n",
    ")\n",
    "\n",
    "# Data for frequent buyers\n",
    "data_frequent_buyers = pd.concat(\n",
    "    [frequent_buyer_transactions,\n",
    "     candidates_last_purchase,\n",
    "     candidates_bestsellers,\n",
    "     synthetic_transactions]\n",
    ")\n",
    "\n",
    "# Fill missing values in the 'purchased' column with 0\n",
    "data.purchased.fillna(0, inplace=True)\n",
    "data_frequent_buyers.purchased.fillna(0, inplace=True)"
   ]
  },
  {
   "cell_type": "code",
   "execution_count": 43,
   "id": "9f4e8cdb",
   "metadata": {
    "execution": {
     "iopub.execute_input": "2022-04-16T16:59:33.565093Z",
     "iopub.status.busy": "2022-04-16T16:59:33.564667Z",
     "iopub.status.idle": "2022-04-16T16:59:40.550065Z",
     "shell.execute_reply": "2022-04-16T16:59:40.549283Z"
    },
    "papermill": {
     "duration": 7.070271,
     "end_time": "2022-04-16T16:59:40.552624",
     "exception": false,
     "start_time": "2022-04-16T16:59:33.482353",
     "status": "completed"
    },
    "tags": []
   },
   "outputs": [],
   "source": [
    "# Remove duplicate rows based on the combination of 'customer_id', 'article_id', and 'week'\n",
    "data.drop_duplicates(['customer_id', 'article_id', 'week'], inplace=True)\n",
    "data_frequent_buyers.drop_duplicates(['customer_id', 'article_id', 'week'], inplace=True)"
   ]
  },
  {
   "cell_type": "markdown",
   "id": "4d35aac7",
   "metadata": {
    "papermill": {
     "duration": 0.085919,
     "end_time": "2022-04-16T16:59:40.938934",
     "exception": false,
     "start_time": "2022-04-16T16:59:40.853015",
     "status": "completed"
    },
    "tags": []
   },
   "source": [
    "### Add bestseller information"
   ]
  },
  {
   "cell_type": "code",
   "execution_count": 44,
   "id": "ab6d0095",
   "metadata": {
    "execution": {
     "iopub.execute_input": "2022-04-16T16:59:41.111287Z",
     "iopub.status.busy": "2022-04-16T16:59:41.110981Z",
     "iopub.status.idle": "2022-04-16T16:59:44.046180Z",
     "shell.execute_reply": "2022-04-16T16:59:44.045173Z"
    },
    "papermill": {
     "duration": 3.024555,
     "end_time": "2022-04-16T16:59:44.048610",
     "exception": false,
     "start_time": "2022-04-16T16:59:41.024055",
     "status": "completed"
    },
    "tags": []
   },
   "outputs": [],
   "source": [
    "# Merge 'data' with 'bestsellers_previous_week' to add 'bestseller_rank' information\n",
    "data = pd.merge(\n",
    "    data,\n",
    "    bestsellers_previous_week[['week', 'article_id', 'bestseller_rank']],\n",
    "    on=['week', 'article_id'],\n",
    "    how='left'\n",
    ")\n",
    "\n",
    "# Merge 'data_frequent_buyers' with 'bestsellers_previous_week' to add 'bestseller_rank' information\n",
    "data_frequent_buyers = pd.merge(\n",
    "    data_frequent_buyers,\n",
    "    bestsellers_previous_week[['week', 'article_id', 'bestseller_rank']],\n",
    "    on=['week', 'article_id'],\n",
    "    how='left'\n",
    ")"
   ]
  },
  {
   "cell_type": "code",
   "execution_count": 45,
   "id": "7b18597e",
   "metadata": {
    "execution": {
     "iopub.execute_input": "2022-04-16T16:59:44.188869Z",
     "iopub.status.busy": "2022-04-16T16:59:44.188578Z",
     "iopub.status.idle": "2022-04-16T16:59:45.778521Z",
     "shell.execute_reply": "2022-04-16T16:59:45.777015Z"
    },
    "papermill": {
     "duration": 1.650973,
     "end_time": "2022-04-16T16:59:45.781085",
     "exception": false,
     "start_time": "2022-04-16T16:59:44.130112",
     "status": "completed"
    },
    "tags": []
   },
   "outputs": [],
   "source": [
    "# Remove rows from the earliest week in the dataset\n",
    "data = data[data.week != data.week.min()]\n",
    "data_frequent_buyers = data_frequent_buyers[data_frequent_buyers.week != data_frequent_buyers.week.min()]\n",
    "\n",
    "# Fill missing values in 'bestseller_rank' with 999\n",
    "data.bestseller_rank.fillna(999, inplace=True)\n",
    "data_frequent_buyers.bestseller_rank.fillna(999, inplace=True)"
   ]
  },
  {
   "cell_type": "code",
   "execution_count": 46,
   "id": "7d9bb629",
   "metadata": {
    "execution": {
     "iopub.execute_input": "2022-04-16T16:59:45.949058Z",
     "iopub.status.busy": "2022-04-16T16:59:45.948608Z",
     "iopub.status.idle": "2022-04-16T17:00:11.114839Z",
     "shell.execute_reply": "2022-04-16T17:00:11.114301Z"
    },
    "papermill": {
     "duration": 25.250701,
     "end_time": "2022-04-16T17:00:11.116901",
     "exception": false,
     "start_time": "2022-04-16T16:59:45.866200",
     "status": "completed"
    },
    "tags": []
   },
   "outputs": [],
   "source": [
    "# Merge 'data' with additional information from the 'articles' and 'customers' datasets\n",
    "data = pd.merge(data, articles, on='article_id', how='left')\n",
    "data = pd.merge(data, customers, on='customer_id', how='left')\n",
    "\n",
    "# Merge 'data_frequent_buyers' with additional information from the 'articles' and 'customers' datasets\n",
    "data_frequent_buyers = pd.merge(data_frequent_buyers, articles, on='article_id', how='left')\n",
    "data_frequent_buyers = pd.merge(data_frequent_buyers, customers, on='customer_id', how='left')"
   ]
  },
  {
   "cell_type": "code",
   "execution_count": 47,
   "id": "1560db63",
   "metadata": {
    "execution": {
     "iopub.execute_input": "2022-04-16T17:00:11.232846Z",
     "iopub.status.busy": "2022-04-16T17:00:11.232435Z",
     "iopub.status.idle": "2022-04-16T17:00:17.697954Z",
     "shell.execute_reply": "2022-04-16T17:00:17.696556Z"
    },
    "papermill": {
     "duration": 6.526551,
     "end_time": "2022-04-16T17:00:17.700139",
     "exception": false,
     "start_time": "2022-04-16T17:00:11.173588",
     "status": "completed"
    },
    "tags": []
   },
   "outputs": [],
   "source": [
    "# Sort the data by 'week' and 'customer_id'\n",
    "data.sort_values(['week', 'customer_id'], inplace=True)\n",
    "data.reset_index(drop=True, inplace=True)\n",
    "\n",
    "# Sort the data for the frequent buyers by 'week' and 'customer_id'\n",
    "data_frequent_buyers.sort_values(['week', 'customer_id'], inplace=True)\n",
    "data_frequent_buyers.reset_index(drop=True, inplace=True)"
   ]
  },
  {
   "cell_type": "code",
   "execution_count": 48,
   "id": "05114189",
   "metadata": {
    "execution": {
     "iopub.execute_input": "2022-04-16T17:00:17.808905Z",
     "iopub.status.busy": "2022-04-16T17:00:17.808208Z",
     "iopub.status.idle": "2022-04-16T17:00:24.463094Z",
     "shell.execute_reply": "2022-04-16T17:00:24.461914Z"
    },
    "papermill": {
     "duration": 6.711593,
     "end_time": "2022-04-16T17:00:24.465301",
     "exception": false,
     "start_time": "2022-04-16T17:00:17.753708",
     "status": "completed"
    },
    "tags": []
   },
   "outputs": [],
   "source": [
    "# Split the data into 'train' and 'test' sets based on the week\n",
    "train = data[data.week != test_week]\n",
    "test = data[data.week==test_week].drop_duplicates(['customer_id', 'article_id', 'sales_channel_id']).copy()\n",
    "\n",
    "# Split the frequent buyer data into 'train' and 'test' sets based on the week\n",
    "train_frequent = data_frequent_buyers[data_frequent_buyers.week != test_week]\n",
    "test_frequent = data_frequent_buyers[data_frequent_buyers.week==test_week].drop_duplicates(['customer_id', 'article_id', 'sales_channel_id']).copy()"
   ]
  },
  {
   "cell_type": "code",
   "execution_count": 49,
   "id": "d32dfd01",
   "metadata": {
    "execution": {
     "iopub.execute_input": "2022-04-16T17:00:24.578537Z",
     "iopub.status.busy": "2022-04-16T17:00:24.578242Z",
     "iopub.status.idle": "2022-04-16T17:00:25.553839Z",
     "shell.execute_reply": "2022-04-16T17:00:25.552462Z"
    },
    "papermill": {
     "duration": 1.036818,
     "end_time": "2022-04-16T17:00:25.556300",
     "exception": false,
     "start_time": "2022-04-16T17:00:24.519482",
     "status": "completed"
    },
    "tags": []
   },
   "outputs": [],
   "source": [
    "# Count the number of articles per customer per week in the training set\n",
    "train_baskets = train.groupby(['week', 'customer_id'])['article_id'].count().values\n",
    "train_baskets_frequent = train_frequent.groupby(['week', 'customer_id'])['article_id'].count().values"
   ]
  },
  {
   "cell_type": "code",
   "execution_count": 50,
   "id": "2b027da8",
   "metadata": {
    "execution": {
     "iopub.execute_input": "2022-04-16T17:00:25.679286Z",
     "iopub.status.busy": "2022-04-16T17:00:25.679019Z",
     "iopub.status.idle": "2022-04-16T17:00:25.684672Z",
     "shell.execute_reply": "2022-04-16T17:00:25.682706Z"
    },
    "papermill": {
     "duration": 0.070485,
     "end_time": "2022-04-16T17:00:25.687322",
     "exception": false,
     "start_time": "2022-04-16T17:00:25.616837",
     "status": "completed"
    },
    "tags": []
   },
   "outputs": [],
   "source": [
    "# Select the columns to be used for training and testing the model\n",
    "columns_to_use = ['article_id', 'product_type_no', 'graphical_appearance_no', 'colour_group_code', 'perceived_colour_value_id',\n",
    "'perceived_colour_master_id', 'department_no', 'index_code',\n",
    "'index_group_no', 'section_no', 'garment_group_no', 'FN', 'Active',\n",
    "'club_member_status', 'fashion_news_frequency', 'age', 'postal_code', 'bestseller_rank']"
   ]
  },
  {
   "cell_type": "code",
   "execution_count": 51,
   "id": "120aecab",
   "metadata": {
    "execution": {
     "iopub.execute_input": "2022-04-16T17:00:25.807133Z",
     "iopub.status.busy": "2022-04-16T17:00:25.806809Z",
     "iopub.status.idle": "2022-04-16T17:00:26.375884Z",
     "shell.execute_reply": "2022-04-16T17:00:26.374148Z"
    },
    "papermill": {
     "duration": 0.633318,
     "end_time": "2022-04-16T17:00:26.379109",
     "exception": false,
     "start_time": "2022-04-16T17:00:25.745791",
     "status": "completed"
    },
    "tags": []
   },
   "outputs": [
    {
     "name": "stdout",
     "output_type": "stream",
     "text": [
      "CPU times: user 193 ms, sys: 522 ms, total: 715 ms\n",
      "Wall time: 931 ms\n"
     ]
    }
   ],
   "source": [
    "%%time\n",
    "\n",
    "# Select features (X) and target variable (y) for the training set\n",
    "train_X = train[columns_to_use]\n",
    "train_y = train['purchased']\n",
    "test_X = test[columns_to_use]\n",
    "\n",
    "# Select features (X) and target variable (y) for the training set for frequent buyers\n",
    "train_X_frequent = train_frequent[columns_to_use]\n",
    "train_y_frequent = train_frequent['purchased']\n",
    "test_X_frequent = test_frequent[columns_to_use]"
   ]
  },
  {
   "cell_type": "markdown",
   "id": "82745ed2",
   "metadata": {
    "papermill": {
     "duration": 0.09573,
     "end_time": "2022-04-16T17:00:26.563647",
     "exception": false,
     "start_time": "2022-04-16T17:00:26.467917",
     "status": "completed"
    },
    "tags": []
   },
   "source": [
    "# Model training"
   ]
  },
  {
   "cell_type": "code",
   "execution_count": 52,
   "id": "1e949a9d",
   "metadata": {
    "execution": {
     "iopub.execute_input": "2022-04-16T17:00:26.745269Z",
     "iopub.status.busy": "2022-04-16T17:00:26.744826Z",
     "iopub.status.idle": "2022-04-16T17:00:27.951655Z",
     "shell.execute_reply": "2022-04-16T17:00:27.950478Z"
    },
    "papermill": {
     "duration": 1.297829,
     "end_time": "2022-04-16T17:00:27.954191",
     "exception": false,
     "start_time": "2022-04-16T17:00:26.656362",
     "status": "completed"
    },
    "tags": []
   },
   "outputs": [],
   "source": [
    "from lightgbm.sklearn import LGBMRanker"
   ]
  },
  {
   "cell_type": "code",
   "execution_count": 53,
   "id": "cd60dded",
   "metadata": {
    "execution": {
     "iopub.execute_input": "2022-04-16T17:00:28.141811Z",
     "iopub.status.busy": "2022-04-16T17:00:28.141316Z",
     "iopub.status.idle": "2022-04-16T17:00:28.145183Z",
     "shell.execute_reply": "2022-04-16T17:00:28.144409Z"
    },
    "papermill": {
     "duration": 0.101059,
     "end_time": "2022-04-16T17:00:28.147805",
     "exception": false,
     "start_time": "2022-04-16T17:00:28.046746",
     "status": "completed"
    },
    "tags": []
   },
   "outputs": [],
   "source": [
    "# Initialize an LGBMRanker model with specific parameters\n",
    "ranker = LGBMRanker(\n",
    "    objective=\"lambdarank\",\n",
    "    metric=\"ndcg\",\n",
    "    boosting_type=\"dart\",\n",
    "    n_estimators=1,\n",
    "    importance_type='gain',\n",
    "    verbose=10\n",
    ")\n",
    "\n",
    "ranker_frequent = LGBMRanker(\n",
    "    objective=\"lambdarank\",\n",
    "    metric=\"ndcg\",\n",
    "    boosting_type=\"dart\",\n",
    "    n_estimators=N_ESTIMATORS,\n",
    "    importance_type='gain',\n",
    "    verbose=10\n",
    ")"
   ]
  },
  {
   "cell_type": "code",
   "execution_count": 54,
   "id": "25f040a4",
   "metadata": {
    "execution": {
     "iopub.execute_input": "2022-04-16T17:00:28.325996Z",
     "iopub.status.busy": "2022-04-16T17:00:28.325629Z",
     "iopub.status.idle": "2022-04-16T17:00:39.300037Z",
     "shell.execute_reply": "2022-04-16T17:00:39.299296Z"
    },
    "papermill": {
     "duration": 11.066279,
     "end_time": "2022-04-16T17:00:39.301931",
     "exception": false,
     "start_time": "2022-04-16T17:00:28.235652",
     "status": "completed"
    },
    "tags": []
   },
   "outputs": [
    {
     "name": "stdout",
     "output_type": "stream",
     "text": [
      "[LightGBM] [Debug] Dataset::GetMultiBinFromSparseFeatures: sparse rate 0.849315\n",
      "[LightGBM] [Debug] Dataset::GetMultiBinFromAllFeatures: sparse rate 0.152318\n",
      "[LightGBM] [Debug] init for col-wise cost 0.104404 seconds, init for row-wise cost 0.130807 seconds\n",
      "[LightGBM] [Info] Auto-choosing row-wise multi-threading, the overhead of testing was 0.205761 seconds.\n",
      "You can set `force_row_wise=true` to remove the overhead.\n",
      "And if memory is not enough, you can set `force_col_wise=true`.\n",
      "[LightGBM] [Debug] Using Dense Multi-Val Bin\n",
      "[LightGBM] [Info] Total Bins 1079\n",
      "[LightGBM] [Info] Number of data points in the train set: 10205052, number of used features: 18\n",
      "[LightGBM] [Debug] Trained a tree with leaves = 31 and depth = 10\n",
      "[LightGBM] [Debug] Dataset::GetMultiBinFromSparseFeatures: sparse rate 0.853398\n",
      "[LightGBM] [Debug] Dataset::GetMultiBinFromAllFeatures: sparse rate 0.152604\n",
      "[LightGBM] [Debug] init for col-wise cost 0.054155 seconds, init for row-wise cost 0.120446 seconds\n",
      "[LightGBM] [Info] Auto-choosing row-wise multi-threading, the overhead of testing was 0.142543 seconds.\n",
      "You can set `force_row_wise=true` to remove the overhead.\n",
      "And if memory is not enough, you can set `force_col_wise=true`.\n",
      "[LightGBM] [Debug] Using Dense Multi-Val Bin\n",
      "[LightGBM] [Info] Total Bins 1143\n",
      "[LightGBM] [Info] Number of data points in the train set: 9514294, number of used features: 18\n",
      "[LightGBM] [Debug] Trained a tree with leaves = 31 and depth = 10\n",
      "[LightGBM] [Debug] Trained a tree with leaves = 31 and depth = 8\n",
      "[LightGBM] [Debug] Trained a tree with leaves = 31 and depth = 8\n",
      "[LightGBM] [Debug] Trained a tree with leaves = 31 and depth = 9\n",
      "[LightGBM] [Debug] Trained a tree with leaves = 31 and depth = 9\n",
      "[LightGBM] [Debug] Trained a tree with leaves = 31 and depth = 10\n",
      "[LightGBM] [Debug] Trained a tree with leaves = 31 and depth = 9\n",
      "[LightGBM] [Debug] Trained a tree with leaves = 31 and depth = 10\n",
      "[LightGBM] [Debug] Trained a tree with leaves = 31 and depth = 11\n",
      "[LightGBM] [Debug] Trained a tree with leaves = 31 and depth = 10\n",
      "[LightGBM] [Debug] Trained a tree with leaves = 31 and depth = 11\n",
      "[LightGBM] [Debug] Trained a tree with leaves = 31 and depth = 10\n",
      "[LightGBM] [Debug] Trained a tree with leaves = 31 and depth = 10\n",
      "[LightGBM] [Debug] Trained a tree with leaves = 31 and depth = 10\n",
      "[LightGBM] [Debug] Trained a tree with leaves = 31 and depth = 10\n",
      "[LightGBM] [Debug] Trained a tree with leaves = 31 and depth = 10\n",
      "[LightGBM] [Debug] Trained a tree with leaves = 31 and depth = 11\n",
      "[LightGBM] [Debug] Trained a tree with leaves = 31 and depth = 9\n",
      "[LightGBM] [Debug] Trained a tree with leaves = 31 and depth = 11\n",
      "[LightGBM] [Debug] Trained a tree with leaves = 31 and depth = 12\n",
      "[LightGBM] [Debug] Trained a tree with leaves = 31 and depth = 11\n",
      "[LightGBM] [Debug] Trained a tree with leaves = 31 and depth = 12\n",
      "[LightGBM] [Debug] Trained a tree with leaves = 31 and depth = 11\n",
      "[LightGBM] [Debug] Trained a tree with leaves = 31 and depth = 9\n",
      "[LightGBM] [Debug] Trained a tree with leaves = 31 and depth = 10\n",
      "[LightGBM] [Debug] Trained a tree with leaves = 31 and depth = 10\n",
      "[LightGBM] [Debug] Trained a tree with leaves = 31 and depth = 9\n",
      "[LightGBM] [Debug] Trained a tree with leaves = 31 and depth = 9\n",
      "[LightGBM] [Debug] Trained a tree with leaves = 31 and depth = 10\n",
      "[LightGBM] [Debug] Trained a tree with leaves = 31 and depth = 11\n",
      "[LightGBM] [Debug] Trained a tree with leaves = 31 and depth = 11\n",
      "[LightGBM] [Debug] Trained a tree with leaves = 31 and depth = 10\n",
      "[LightGBM] [Debug] Trained a tree with leaves = 31 and depth = 12\n",
      "[LightGBM] [Debug] Trained a tree with leaves = 31 and depth = 9\n",
      "[LightGBM] [Debug] Trained a tree with leaves = 31 and depth = 10\n",
      "[LightGBM] [Debug] Trained a tree with leaves = 31 and depth = 10\n",
      "[LightGBM] [Debug] Trained a tree with leaves = 31 and depth = 11\n",
      "[LightGBM] [Debug] Trained a tree with leaves = 31 and depth = 11\n",
      "[LightGBM] [Debug] Trained a tree with leaves = 31 and depth = 12\n",
      "[LightGBM] [Debug] Trained a tree with leaves = 31 and depth = 11\n",
      "[LightGBM] [Debug] Trained a tree with leaves = 31 and depth = 10\n",
      "[LightGBM] [Debug] Trained a tree with leaves = 31 and depth = 12\n",
      "[LightGBM] [Debug] Trained a tree with leaves = 31 and depth = 12\n",
      "[LightGBM] [Debug] Trained a tree with leaves = 31 and depth = 9\n",
      "[LightGBM] [Debug] Trained a tree with leaves = 31 and depth = 10\n",
      "[LightGBM] [Debug] Trained a tree with leaves = 31 and depth = 11\n",
      "[LightGBM] [Debug] Trained a tree with leaves = 31 and depth = 10\n",
      "[LightGBM] [Debug] Trained a tree with leaves = 31 and depth = 10\n",
      "[LightGBM] [Debug] Trained a tree with leaves = 31 and depth = 8\n",
      "[LightGBM] [Debug] Trained a tree with leaves = 31 and depth = 9\n",
      "CPU times: user 1min 2s, sys: 2.36 s, total: 1min 4s\n",
      "Wall time: 12.9 s\n"
     ]
    }
   ],
   "source": [
    "%%time\n",
    "\n",
    "# Fit the ranker model on the training data\n",
    "ranker = ranker.fit(\n",
    "    train_X,\n",
    "    train_y,\n",
    "    group=train_baskets,\n",
    ")\n",
    "\n",
    "\n",
    "# Fit the ranker model on the training data\n",
    "ranker_frequent = ranker_frequent.fit(\n",
    "    train_X_frequent,\n",
    "    train_y_frequent,\n",
    "    group=train_baskets_frequent,\n",
    ")"
   ]
  },
  {
   "cell_type": "code",
   "execution_count": 55,
   "id": "4b6b5a94",
   "metadata": {
    "execution": {
     "iopub.execute_input": "2022-04-16T17:00:39.450894Z",
     "iopub.status.busy": "2022-04-16T17:00:39.450610Z",
     "iopub.status.idle": "2022-04-16T17:00:39.464086Z",
     "shell.execute_reply": "2022-04-16T17:00:39.462437Z"
    },
    "papermill": {
     "duration": 0.107527,
     "end_time": "2022-04-16T17:00:39.466759",
     "exception": false,
     "start_time": "2022-04-16T17:00:39.359232",
     "status": "completed"
    },
    "tags": []
   },
   "outputs": [
    {
     "name": "stdout",
     "output_type": "stream",
     "text": [
      "bestseller_rank 0.864037070202934\n",
      "article_id 0.03384581234160472\n",
      "product_type_no 0.02633696105438038\n",
      "garment_group_no 0.02126352125843914\n",
      "colour_group_code 0.019571305509263403\n",
      "department_no 0.01277807019500004\n",
      "graphical_appearance_no 0.008316186073911706\n",
      "perceived_colour_master_id 0.005539732929453138\n",
      "perceived_colour_value_id 0.0033242713316451243\n",
      "section_no 0.0032525492399258183\n",
      "index_code 0.0011773700085763214\n",
      "index_group_no 0.0005571498548662116\n",
      "age 0.0\n",
      "fashion_news_frequency 0.0\n",
      "club_member_status 0.0\n",
      "Active 0.0\n",
      "FN 0.0\n",
      "postal_code 0.0\n"
     ]
    }
   ],
   "source": [
    "# Print feature importances\n",
    "for i in ranker_frequent.feature_importances_.argsort()[::-1]:print(columns_to_use[i], ranker_frequent.feature_importances_[i]/ranker_frequent.feature_importances_.sum())"
   ]
  },
  {
   "cell_type": "markdown",
   "id": "00faf029",
   "metadata": {
    "papermill": {
     "duration": 0.056904,
     "end_time": "2022-04-16T17:00:39.580889",
     "exception": false,
     "start_time": "2022-04-16T17:00:39.523985",
     "status": "completed"
    },
    "tags": []
   },
   "source": [
    "# Calculate predictions"
   ]
  },
  {
   "cell_type": "code",
   "execution_count": 56,
   "id": "7e862846",
   "metadata": {
    "execution": {
     "iopub.execute_input": "2022-04-16T17:00:39.695315Z",
     "iopub.status.busy": "2022-04-16T17:00:39.694825Z",
     "iopub.status.idle": "2022-04-16T17:00:52.775003Z",
     "shell.execute_reply": "2022-04-16T17:00:52.773289Z"
    },
    "papermill": {
     "duration": 13.140874,
     "end_time": "2022-04-16T17:00:52.777866",
     "exception": false,
     "start_time": "2022-04-16T17:00:39.636992",
     "status": "completed"
    },
    "tags": []
   },
   "outputs": [
    {
     "name": "stdout",
     "output_type": "stream",
     "text": [
      "CPU times: user 2 µs, sys: 0 ns, total: 2 µs\n",
      "Wall time: 4.05 µs\n"
     ]
    }
   ],
   "source": [
    "%time\n",
    "\n",
    "# Predict using the standard model\n",
    "test['preds'] = ranker.predict(test_X)\n",
    "c_id2predicted_article_ids = test.sort_values(['customer_id', 'preds'], ascending=False).groupby('customer_id')['article_id'].apply(list).to_dict()\n",
    "\n",
    "# Predict using the frequent buyer model\n",
    "test_frequent['preds_frequent'] = ranker_frequent.predict(test_X_frequent)\n",
    "c_id2predicted_article_ids_frequent = test_frequent.sort_values(['customer_id', 'preds_frequent'], ascending=False).groupby('customer_id')['article_id'].apply(list).to_dict()\n",
    "\n",
    "# Retrieve the list of bestsellers from the last week in the 'bestsellers_previous_week' dataframe\n",
    "bestsellers_last_week = bestsellers_previous_week[bestsellers_previous_week.week == bestsellers_previous_week.week.max()]['article_id'].tolist()"
   ]
  },
  {
   "cell_type": "markdown",
   "id": "de045e98",
   "metadata": {
    "papermill": {
     "duration": 0.07093,
     "end_time": "2022-04-16T17:00:52.913143",
     "exception": false,
     "start_time": "2022-04-16T17:00:52.842213",
     "status": "completed"
    },
    "tags": []
   },
   "source": [
    "# Create submission"
   ]
  },
  {
   "cell_type": "markdown",
   "source": [
    "### Evaluation functions"
   ],
   "metadata": {
    "collapsed": false,
    "pycharm": {
     "name": "#%% md\n"
    }
   }
  },
  {
   "cell_type": "code",
   "execution_count": 57,
   "outputs": [],
   "source": [
    "def precision(actual, predicted, k=12):\n",
    "    if len(predicted) > k:\n",
    "        predicted = predicted[:k]\n",
    "\n",
    "    correct_predictions = []\n",
    "    for p in predicted:\n",
    "        if p in actual:\n",
    "            correct_predictions.append(p)\n",
    "\n",
    "    return len(correct_predictions) / len(predicted)\n",
    "\n",
    "def recall(actual, predicted, k=12):\n",
    "    if len(predicted) > k:\n",
    "        predicted = predicted[:k]\n",
    "\n",
    "    correct_predictions = []\n",
    "    for p in predicted:\n",
    "        if p in actual:\n",
    "            correct_predictions.append(p)\n",
    "\n",
    "    return len(correct_predictions) / len(actual)\n",
    "\n",
    "def precision12(actual, predicted, k=12):\n",
    "    # Initialize a variable to store the sum of precision scores\n",
    "    total_precision = 0\n",
    "\n",
    "    # Iterate over each pair of actual and predicted lists\n",
    "    for a, p in zip(actual, predicted):\n",
    "        # Calculate precision for this pair\n",
    "        prec = precision(a, p, k)\n",
    "\n",
    "        # Add the precision to the total sum\n",
    "        total_precision += prec\n",
    "\n",
    "    # Calculate the mean precision score\n",
    "    mean_precision = total_precision / len(actual)\n",
    "\n",
    "    return mean_precision\n",
    "\n",
    "\n",
    "def recall12(actual, predicted, k=12):\n",
    "    # Initialize a variable to store the sum of recall scores\n",
    "    total_recall = 0\n",
    "\n",
    "    # Iterate over each pair of actual and predicted lists\n",
    "    for a, p in zip(actual, predicted):\n",
    "        # Calculate recall for this pair\n",
    "        rec = recall(a, p, k)\n",
    "\n",
    "        # Add the recall to the total sum\n",
    "        total_recall += rec\n",
    "\n",
    "    # Calculate the mean recall score\n",
    "    mean_recall = total_recall / len(actual)\n",
    "\n",
    "    return mean_recall\n"
   ],
   "metadata": {
    "collapsed": false,
    "pycharm": {
     "name": "#%%\n"
    }
   }
  },
  {
   "cell_type": "markdown",
   "source": [
    "### Generate predictions for frequent AND non-frequent buyers. Combine the results"
   ],
   "metadata": {
    "collapsed": false,
    "pycharm": {
     "name": "#%% md\n"
    }
   }
  },
  {
   "cell_type": "code",
   "execution_count": 58,
   "outputs": [],
   "source": [
    "sub = pd.read_csv(DATA_DIR + '/sample_submission.csv')"
   ],
   "metadata": {
    "collapsed": false,
    "pycharm": {
     "name": "#%%\n"
    }
   }
  },
  {
   "cell_type": "code",
   "execution_count": 59,
   "outputs": [],
   "source": [
    "# Split the submission DataFrame using temp_set\n",
    "sub_frequent = sub[customer_hex_id_to_int(sub['customer_id']).isin(unique_frequent_buyers)]\n",
    "sub_nonfrequent = sub[~customer_hex_id_to_int(sub['customer_id']).isin(unique_frequent_buyers)]\n",
    "\n",
    "# Initialize prediction lists\n",
    "preds_nonfrequent = []\n",
    "preds_frequent = []\n",
    "\n",
    "# Generate predictions for non-frequent buyers\n",
    "for c_id in customer_hex_id_to_int(sub_nonfrequent.customer_id):\n",
    "    pred = c_id2predicted_article_ids.get(c_id, [])\n",
    "    pred = pred + bestsellers_last_week\n",
    "    preds_nonfrequent.append(pred[:12])\n",
    "\n",
    "# Generate predictions for frequent buyers\n",
    "for c_id in customer_hex_id_to_int(sub_frequent.customer_id):\n",
    "    pred_frequent = c_id2predicted_article_ids_frequent.get(c_id, [])\n",
    "    pred_frequent = pred_frequent + bestsellers_last_week\n",
    "    preds_frequent.append(pred_frequent[:12])\n",
    "\n",
    "# Format predictions for submission\n",
    "formatted_preds_nonfrequent = [' '.join(['0' + str(p) for p in ps]) for ps in preds_nonfrequent]\n",
    "formatted_preds_frequent = [' '.join(['0' + str(p) for p in ps]) for ps in preds_frequent]\n",
    "\n",
    "# Assign predictions back to the respective DataFrames\n",
    "sub_nonfrequent['prediction'] = formatted_preds_nonfrequent\n",
    "sub_frequent['prediction'] = formatted_preds_frequent\n",
    "\n",
    "# Combine the predictions into a single DataFrame for submission\n",
    "sub_combined = pd.concat([sub_frequent, sub_nonfrequent])\n",
    "\n",
    "if KAGGLE:\n",
    "    sub_name = 'all_outliers'\n",
    "    sub_combined.to_csv(f'{SUB_DIR}/{sub_name}.csv.gz', index=False)"
   ],
   "metadata": {
    "collapsed": false,
    "pycharm": {
     "name": "#%%\n"
    }
   }
  },
  {
   "cell_type": "markdown",
   "source": [
    "# Evaluate the results"
   ],
   "metadata": {
    "collapsed": false,
    "pycharm": {
     "name": "#%% md\n"
    }
   }
  },
  {
   "cell_type": "markdown",
   "source": [
    "### Translate customer hex id to int and make list of articles"
   ],
   "metadata": {
    "collapsed": false
   }
  },
  {
   "cell_type": "code",
   "execution_count": 60,
   "outputs": [],
   "source": [
    "if not KAGGLE:\n",
    "    # Convert hexadecimal string IDs to integers in predictions\n",
    "    sub_combined['customer_id_int'] = customer_hex_id_to_int(sub_combined['customer_id'])\n",
    "    # Ensure predictions are in the correct format\n",
    "    sub_combined['prediction_list'] = sub_combined['prediction'].apply(lambda x: x.split())"
   ],
   "metadata": {
    "collapsed": false,
    "pycharm": {
     "name": "#%%\n"
    }
   }
  },
  {
   "cell_type": "markdown",
   "source": [
    "### Evaluation ONLY for frequent buyers"
   ],
   "metadata": {
    "collapsed": false,
    "pycharm": {
     "name": "#%% md\n"
    }
   }
  },
  {
   "cell_type": "code",
   "execution_count": 61,
   "outputs": [
    {
     "name": "stdout",
     "output_type": "stream",
     "text": [
      "Evaluating Frequent buyers only:\n",
      "\tMAP@12 Score:  0.0350073501742895 %\n",
      "\tPrecision@12 Score:  0.01875871687587175 %\n",
      "\tRecall@12 Score:  0.06784326428726536 %\n"
     ]
    }
   ],
   "source": [
    "if not KAGGLE:\n",
    "    positive_items_val = val.groupby(['customer_id'])['article_id'].apply(list)\n",
    "    val_users = positive_items_val.keys()\n",
    "    val_items = []\n",
    "    pred_items = []\n",
    "\n",
    "    # Assuming unique_frequent_buyers is a list or similar, convert it to a set for efficiency\n",
    "    unique_frequent_buyers_set = set(unique_frequent_buyers)\n",
    "\n",
    "    # Assuming val_users is a list or similar, convert it to a set\n",
    "    val_users_set = set(val_users)\n",
    "\n",
    "    only_frequent_buyers = val_users_set.intersection(unique_frequent_buyers_set)\n",
    "\n",
    "    for user in only_frequent_buyers:\n",
    "        val_items.append(positive_items_val[user])\n",
    "\n",
    "        predicted = sub_combined[sub_combined['customer_id_int'] == user]['prediction_list'].iloc[0]\n",
    "        pred_items.append(predicted)\n",
    "\n",
    "    pred_items = [[int(article_id) for article_id in user_pred] for user_pred in pred_items]\n",
    "\n",
    "    print(\"Evaluating Frequent buyers only:\")\n",
    "    print(\"\\tMAP@12 Score: \", mapk(val_items, pred_items), \"%\")\n",
    "    print(\"\\tPrecision@12 Score: \", precision12(val_items, pred_items), \"%\")\n",
    "    print(\"\\tRecall@12 Score: \", recall12(val_items, pred_items), \"%\")"
   ],
   "metadata": {
    "collapsed": false,
    "pycharm": {
     "name": "#%%\n"
    }
   }
  },
  {
   "cell_type": "markdown",
   "source": [
    "### Evaluation for all buyers"
   ],
   "metadata": {
    "collapsed": false,
    "pycharm": {
     "name": "#%% md\n"
    }
   }
  },
  {
   "cell_type": "code",
   "execution_count": 62,
   "outputs": [
    {
     "name": "stderr",
     "output_type": "stream",
     "text": [
      "68984it [00:36, 1902.50it/s]\n"
     ]
    },
    {
     "name": "stdout",
     "output_type": "stream",
     "text": [
      "Evaluating all buyers:\n",
      "\tMAP@12 Score:  0.023340402880729777 %\n",
      "\tPrecision@12 Score:  0.009841654103367228 %\n",
      "\tRecall@12 Score:  0.04597593966966094 %\n"
     ]
    }
   ],
   "source": [
    "if not KAGGLE:\n",
    "    pred_items = []\n",
    "\n",
    "    positive_items_val = val.groupby(['customer_id'])['article_id'].apply(list)\n",
    "    val_users = positive_items_val.keys()\n",
    "    val_items = []\n",
    "\n",
    "    for i,user in tqdm(enumerate(val_users)):\n",
    "        val_items.append(positive_items_val[user])\n",
    "\n",
    "        predicted = sub_combined[sub_combined['customer_id_int'] == user]['prediction_list'].iloc[0]\n",
    "        pred_items.append(predicted)\n",
    "\n",
    "    pred_items = [[int(article_id) for article_id in user_pred] for user_pred in pred_items]\n",
    "\n",
    "    print(\"Evaluating all buyers:\")\n",
    "    print(\"\\tMAP@12 Score: \", mapk(val_items, pred_items), \"%\")\n",
    "    print(\"\\tPrecision@12 Score: \", precision12(val_items, pred_items), \"%\")\n",
    "    print(\"\\tRecall@12 Score: \", recall12(val_items, pred_items), \"%\")"
   ],
   "metadata": {
    "collapsed": false,
    "pycharm": {
     "name": "#%%\n"
    }
   }
  },
  {
   "cell_type": "markdown",
   "source": [
    "### Novelty Evaluation"
   ],
   "metadata": {
    "collapsed": false
   }
  },
  {
   "cell_type": "code",
   "execution_count": 63,
   "outputs": [],
   "source": [
    "# Count the occurrences of each article\n",
    "article_counts = frequent_transactions['article_id'].value_counts()\n",
    "\n",
    "# Normalize by the total number of transactions\n",
    "total_transactions = len(frequent_transactions)\n",
    "global_article_frequencies = (article_counts / total_transactions).to_dict()"
   ],
   "metadata": {
    "collapsed": false,
    "pycharm": {
     "name": "#%%\n"
    }
   }
  },
  {
   "cell_type": "code",
   "execution_count": 64,
   "outputs": [],
   "source": [
    "def novelty_score(predicted_lists, global_item_frequencies):\n",
    "    \"\"\" Calculate the novelty score for the recommended items.\n",
    "    global_item_frequencies is a dictionary mapping item_ids to their overall frequency in the dataset.\n",
    "    \"\"\"\n",
    "    novelty_scores = []\n",
    "    for items in predicted_lists:\n",
    "        list_novelty = np.mean([1 - global_item_frequencies.get(item, 0) for item in items])\n",
    "        novelty_scores.append(list_novelty)\n",
    "    return np.mean(novelty_scores)"
   ],
   "metadata": {
    "collapsed": false,
    "pycharm": {
     "name": "#%%\n"
    }
   }
  },
  {
   "cell_type": "code",
   "execution_count": 65,
   "outputs": [
    {
     "name": "stdout",
     "output_type": "stream",
     "text": [
      "Average Novelty Score: 0.999509074215768\n"
     ]
    }
   ],
   "source": [
    "# Calculate novelty scores using the global_article_frequencies\n",
    "novelty = novelty_score(pred_items, global_article_frequencies)\n",
    "print(\"Average Novelty Score:\", novelty)"
   ],
   "metadata": {
    "collapsed": false,
    "pycharm": {
     "name": "#%%\n"
    }
   }
  }
 ],
 "metadata": {
  "kernelspec": {
   "display_name": "Python 3",
   "language": "python",
   "name": "python3"
  },
  "language_info": {
   "codemirror_mode": {
    "name": "ipython",
    "version": 3
   },
   "file_extension": ".py",
   "mimetype": "text/x-python",
   "name": "python",
   "nbconvert_exporter": "python",
   "pygments_lexer": "ipython3",
   "version": "3.7.12"
  },
  "papermill": {
   "default_parameters": {},
   "duration": 185.112876,
   "end_time": "2022-04-16T17:01:37.553573",
   "environment_variables": {},
   "exception": null,
   "input_path": "__notebook__.ipynb",
   "output_path": "__notebook__.ipynb",
   "parameters": {},
   "start_time": "2022-04-16T16:58:32.440697",
   "version": "2.3.4"
  }
 },
 "nbformat": 4,
 "nbformat_minor": 5
}