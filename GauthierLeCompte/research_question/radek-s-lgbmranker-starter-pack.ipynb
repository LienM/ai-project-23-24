{
 "cells": [
  {
   "cell_type": "markdown",
   "id": "6f21ab04",
   "metadata": {
    "papermill": {
     "duration": 0.052947,
     "end_time": "2022-04-16T16:58:42.297492",
     "exception": false,
     "start_time": "2022-04-16T16:58:42.244545",
     "status": "completed"
    },
    "tags": []
   },
   "source": [
    "Radek posted about this [here](https://www.kaggle.com/competitions/h-and-m-personalized-fashion-recommendations/discussion/309220), and linked to a GitHub repo with the code.\n",
    "\n",
    "I just transferred that code here to Kaggle notebooks, that's all."
   ]
  },
  {
   "cell_type": "code",
   "execution_count": 6,
   "id": "4a7e7212",
   "metadata": {
    "execution": {
     "iopub.execute_input": "2022-04-16T16:58:42.399719Z",
     "iopub.status.busy": "2022-04-16T16:58:42.398628Z",
     "iopub.status.idle": "2022-04-16T16:58:42.426150Z",
     "shell.execute_reply": "2022-04-16T16:58:42.424648Z"
    },
    "papermill": {
     "duration": 0.085968,
     "end_time": "2022-04-16T16:58:42.429535",
     "exception": false,
     "start_time": "2022-04-16T16:58:42.343567",
     "status": "completed"
    },
    "tags": []
   },
   "outputs": [],
   "source": [
    "import numpy as np\n",
    "\n",
    "def apk(actual, predicted, k=10):\n",
    "    \"\"\"\n",
    "    Computes the average precision at k.\n",
    "\n",
    "    This function computes the average prescision at k between two lists of\n",
    "    items.\n",
    "\n",
    "    Parameters\n",
    "    ----------\n",
    "    actual : list\n",
    "             A list of elements that are to be predicted (order doesn't matter)\n",
    "    predicted : list\n",
    "                A list of predicted elements (order does matter)\n",
    "    k : int, optional\n",
    "        The maximum number of predicted elements\n",
    "\n",
    "    Returns\n",
    "    -------\n",
    "    score : double\n",
    "            The average precision at k over the input lists\n",
    "\n",
    "    \"\"\"\n",
    "    if len(predicted)>k:\n",
    "        predicted = predicted[:k]\n",
    "\n",
    "    score = 0.0\n",
    "    num_hits = 0.0\n",
    "\n",
    "    for i,p in enumerate(predicted):\n",
    "        if p in actual and p not in predicted[:i]:\n",
    "            num_hits += 1.0\n",
    "            score += num_hits / (i+1.0)\n",
    "\n",
    "    if not actual:\n",
    "        return 0.0\n",
    "\n",
    "    return score / min(len(actual), k)\n",
    "\n",
    "def mapk(actual, predicted, k=10):\n",
    "    \"\"\"\n",
    "    Computes the mean average precision at k.\n",
    "\n",
    "    This function computes the mean average prescision at k between two lists\n",
    "    of lists of items.\n",
    "\n",
    "    Parameters\n",
    "    ----------\n",
    "    actual : list\n",
    "             A list of lists of elements that are to be predicted \n",
    "             (order doesn't matter in the lists)\n",
    "    predicted : list\n",
    "                A list of lists of predicted elements\n",
    "                (order matters in the lists)\n",
    "    k : int, optional\n",
    "        The maximum number of predicted elements\n",
    "\n",
    "    Returns\n",
    "    -------\n",
    "    score : double\n",
    "            The mean average precision at k over the input lists\n",
    "\n",
    "    \"\"\"\n",
    "    return np.mean([apk(a,p,k) for a,p in zip(actual, predicted)])"
   ]
  },
  {
   "cell_type": "code",
   "execution_count": 7,
   "id": "85ef6566",
   "metadata": {
    "execution": {
     "iopub.execute_input": "2022-04-16T16:58:42.530042Z",
     "iopub.status.busy": "2022-04-16T16:58:42.529039Z",
     "iopub.status.idle": "2022-04-16T16:58:43.826306Z",
     "shell.execute_reply": "2022-04-16T16:58:43.824669Z"
    },
    "papermill": {
     "duration": 1.348449,
     "end_time": "2022-04-16T16:58:43.828990",
     "exception": false,
     "start_time": "2022-04-16T16:58:42.480541",
     "status": "completed"
    },
    "tags": []
   },
   "outputs": [],
   "source": [
    "from sklearn.base import BaseEstimator, TransformerMixin\n",
    "import numpy as np\n",
    "\n",
    "# https://www.kaggle.com/c/h-and-m-personalized-fashion-recommendations/discussion/308635\n",
    "def customer_hex_id_to_int(series):\n",
    "    return series.str[-16:].apply(hex_id_to_int)\n",
    "\n",
    "def hex_id_to_int(str):\n",
    "    return int(str[-16:], 16)\n",
    "\n",
    "def article_id_str_to_int(series):\n",
    "    return series.astype('int32')\n",
    "\n",
    "def article_id_int_to_str(series):\n",
    "    return '0' + series.astype('str')\n",
    "\n",
    "class Categorize(BaseEstimator, TransformerMixin):\n",
    "    def __init__(self, min_examples=0):\n",
    "        self.min_examples = min_examples\n",
    "        self.categories = []\n",
    "        \n",
    "    def fit(self, X):\n",
    "        for i in range(X.shape[1]):\n",
    "            vc = X.iloc[:, i].value_counts()\n",
    "            self.categories.append(vc[vc > self.min_examples].index.tolist())\n",
    "        return self\n",
    "\n",
    "    def transform(self, X):\n",
    "        data = {X.columns[i]: pd.Categorical(X.iloc[:, i], categories=self.categories[i]).codes for i in range(X.shape[1])}\n",
    "        return pd.DataFrame(data=data)\n",
    "\n",
    "\n",
    "def calculate_apk(list_of_preds, list_of_gts):\n",
    "    # for fast validation this can be changed to operate on dicts of {'cust_id_int': [art_id_int, ...]}\n",
    "    # using 'data/val_week_purchases_by_cust.pkl'\n",
    "    apks = []\n",
    "    for preds, gt in zip(list_of_preds, list_of_gts):\n",
    "        apks.append(apk(gt, preds, k=12))\n",
    "    return np.mean(apks)\n",
    "\n",
    "def eval_sub(sub_csv, skip_cust_with_no_purchases=True):\n",
    "    sub=pd.read_csv(sub_csv)\n",
    "    validation_set=pd.read_parquet('data/validation_ground_truth.parquet')\n",
    "\n",
    "    apks = []\n",
    "\n",
    "    no_purchases_pattern = []\n",
    "    for pred, gt in zip(sub.prediction.str.split(), validation_set.prediction.str.split()):\n",
    "        if skip_cust_with_no_purchases and (gt == no_purchases_pattern): continue\n",
    "        apks.append(apk(gt, pred, k=12))\n",
    "    return np.mean(apks)"
   ]
  },
  {
   "cell_type": "code",
   "execution_count": 8,
   "id": "78c7a34c",
   "metadata": {
    "execution": {
     "iopub.execute_input": "2022-04-16T16:58:43.930529Z",
     "iopub.status.busy": "2022-04-16T16:58:43.930253Z",
     "iopub.status.idle": "2022-04-16T16:58:43.934588Z",
     "shell.execute_reply": "2022-04-16T16:58:43.933741Z"
    },
    "papermill": {
     "duration": 0.056085,
     "end_time": "2022-04-16T16:58:43.936514",
     "exception": false,
     "start_time": "2022-04-16T16:58:43.880429",
     "status": "completed"
    },
    "tags": []
   },
   "outputs": [],
   "source": [
    "import pandas as pd"
   ]
  },
  {
   "cell_type": "code",
   "execution_count": 9,
   "id": "af847e1a",
   "metadata": {
    "execution": {
     "iopub.execute_input": "2022-04-16T16:58:44.085405Z",
     "iopub.status.busy": "2022-04-16T16:58:44.084601Z",
     "iopub.status.idle": "2022-04-16T16:58:53.285552Z",
     "shell.execute_reply": "2022-04-16T16:58:53.284023Z"
    },
    "papermill": {
     "duration": 9.279307,
     "end_time": "2022-04-16T16:58:53.289550",
     "exception": false,
     "start_time": "2022-04-16T16:58:44.010243",
     "status": "completed"
    },
    "tags": []
   },
   "outputs": [
    {
     "name": "stdout",
     "output_type": "stream",
     "text": [
      "CPU times: user 819 ms, sys: 552 ms, total: 1.37 s\n",
      "Wall time: 635 ms\n"
     ]
    }
   ],
   "source": [
    "%%time\n",
    "\n",
    "transactions = pd.read_parquet('transactions_train.parquet')\n",
    "customers = pd.read_parquet('customers.parquet')\n",
    "articles = pd.read_parquet('articles.parquet')\n",
    "\n",
    "# sample = 0.05\n",
    "# transactions = pd.read_parquet(f'data/transactions_train_sample_{sample}.parquet')\n",
    "# customers = pd.read_parquet(f'data/customers_sample_{sample}.parquet')\n",
    "# articles = pd.read_parquet(f'data/articles_train_sample_{sample}.parquet')"
   ]
  },
  {
   "cell_type": "code",
   "execution_count": 10,
   "id": "76f70d9a",
   "metadata": {
    "execution": {
     "iopub.execute_input": "2022-04-16T16:58:53.419209Z",
     "iopub.status.busy": "2022-04-16T16:58:53.418809Z",
     "iopub.status.idle": "2022-04-16T16:58:53.683144Z",
     "shell.execute_reply": "2022-04-16T16:58:53.681606Z"
    },
    "papermill": {
     "duration": 0.321424,
     "end_time": "2022-04-16T16:58:53.685420",
     "exception": false,
     "start_time": "2022-04-16T16:58:53.363996",
     "status": "completed"
    },
    "tags": []
   },
   "outputs": [],
   "source": [
    "test_week = transactions.week.max() + 1\n",
    "transactions = transactions[transactions.week > transactions.week.max() - 10]"
   ]
  },
  {
   "cell_type": "markdown",
   "id": "5133081f",
   "metadata": {
    "papermill": {
     "duration": 0.04664,
     "end_time": "2022-04-16T16:58:53.778482",
     "exception": false,
     "start_time": "2022-04-16T16:58:53.731842",
     "status": "completed"
    },
    "tags": []
   },
   "source": [
    "# Generating candidates"
   ]
  },
  {
   "cell_type": "markdown",
   "id": "55672930",
   "metadata": {
    "papermill": {
     "duration": 0.047255,
     "end_time": "2022-04-16T16:58:53.872805",
     "exception": false,
     "start_time": "2022-04-16T16:58:53.825550",
     "status": "completed"
    },
    "tags": []
   },
   "source": [
    "### Last purchase candidates"
   ]
  },
  {
   "cell_type": "code",
   "execution_count": 11,
   "id": "953a0f07",
   "metadata": {
    "execution": {
     "iopub.execute_input": "2022-04-16T16:58:53.967689Z",
     "iopub.status.busy": "2022-04-16T16:58:53.967401Z",
     "iopub.status.idle": "2022-04-16T16:59:15.044739Z",
     "shell.execute_reply": "2022-04-16T16:59:15.043325Z"
    },
    "papermill": {
     "duration": 21.129005,
     "end_time": "2022-04-16T16:59:15.047833",
     "exception": false,
     "start_time": "2022-04-16T16:58:53.918828",
     "status": "completed"
    },
    "tags": []
   },
   "outputs": [
    {
     "name": "stdout",
     "output_type": "stream",
     "text": [
      "CPU times: user 7 s, sys: 173 ms, total: 7.17 s\n",
      "Wall time: 7.17 s\n"
     ]
    }
   ],
   "source": [
    "%%time\n",
    "\n",
    "c2weeks = transactions.groupby('customer_id')['week'].unique()"
   ]
  },
  {
   "cell_type": "code",
   "execution_count": 12,
   "id": "a36be6fc",
   "metadata": {
    "execution": {
     "iopub.execute_input": "2022-04-16T16:59:15.192906Z",
     "iopub.status.busy": "2022-04-16T16:59:15.192675Z",
     "iopub.status.idle": "2022-04-16T16:59:15.281870Z",
     "shell.execute_reply": "2022-04-16T16:59:15.281106Z"
    },
    "papermill": {
     "duration": 0.164411,
     "end_time": "2022-04-16T16:59:15.283877",
     "exception": false,
     "start_time": "2022-04-16T16:59:15.119466",
     "status": "completed"
    },
    "tags": []
   },
   "outputs": [
    {
     "data": {
      "text/plain": "            min        max\nweek                      \n95   2020-07-15 2020-07-21\n96   2020-07-22 2020-07-28\n97   2020-07-29 2020-08-04\n98   2020-08-05 2020-08-11\n99   2020-08-12 2020-08-18\n100  2020-08-19 2020-08-25\n101  2020-08-26 2020-09-01\n102  2020-09-02 2020-09-08\n103  2020-09-09 2020-09-15\n104  2020-09-16 2020-09-22",
      "text/html": "<div>\n<style scoped>\n    .dataframe tbody tr th:only-of-type {\n        vertical-align: middle;\n    }\n\n    .dataframe tbody tr th {\n        vertical-align: top;\n    }\n\n    .dataframe thead th {\n        text-align: right;\n    }\n</style>\n<table border=\"1\" class=\"dataframe\">\n  <thead>\n    <tr style=\"text-align: right;\">\n      <th></th>\n      <th>min</th>\n      <th>max</th>\n    </tr>\n    <tr>\n      <th>week</th>\n      <th></th>\n      <th></th>\n    </tr>\n  </thead>\n  <tbody>\n    <tr>\n      <th>95</th>\n      <td>2020-07-15</td>\n      <td>2020-07-21</td>\n    </tr>\n    <tr>\n      <th>96</th>\n      <td>2020-07-22</td>\n      <td>2020-07-28</td>\n    </tr>\n    <tr>\n      <th>97</th>\n      <td>2020-07-29</td>\n      <td>2020-08-04</td>\n    </tr>\n    <tr>\n      <th>98</th>\n      <td>2020-08-05</td>\n      <td>2020-08-11</td>\n    </tr>\n    <tr>\n      <th>99</th>\n      <td>2020-08-12</td>\n      <td>2020-08-18</td>\n    </tr>\n    <tr>\n      <th>100</th>\n      <td>2020-08-19</td>\n      <td>2020-08-25</td>\n    </tr>\n    <tr>\n      <th>101</th>\n      <td>2020-08-26</td>\n      <td>2020-09-01</td>\n    </tr>\n    <tr>\n      <th>102</th>\n      <td>2020-09-02</td>\n      <td>2020-09-08</td>\n    </tr>\n    <tr>\n      <th>103</th>\n      <td>2020-09-09</td>\n      <td>2020-09-15</td>\n    </tr>\n    <tr>\n      <th>104</th>\n      <td>2020-09-16</td>\n      <td>2020-09-22</td>\n    </tr>\n  </tbody>\n</table>\n</div>"
     },
     "execution_count": 12,
     "metadata": {},
     "output_type": "execute_result"
    }
   ],
   "source": [
    "transactions.groupby('week')['t_dat'].agg(['min', 'max'])"
   ]
  },
  {
   "cell_type": "code",
   "execution_count": 13,
   "id": "f50d294c",
   "metadata": {
    "execution": {
     "iopub.execute_input": "2022-04-16T16:59:15.428215Z",
     "iopub.status.busy": "2022-04-16T16:59:15.427787Z",
     "iopub.status.idle": "2022-04-16T16:59:15.437998Z",
     "shell.execute_reply": "2022-04-16T16:59:15.437145Z"
    },
    "papermill": {
     "duration": 0.085836,
     "end_time": "2022-04-16T16:59:15.439989",
     "exception": false,
     "start_time": "2022-04-16T16:59:15.354153",
     "status": "completed"
    },
    "tags": []
   },
   "outputs": [
    {
     "data": {
      "text/plain": "customer_id\n28847241659200          [95, 96, 101, 102]\n41318098387474                        [98]\n116809474287335                 [101, 103]\n200292573348128          [95, 96, 99, 102]\n248294615847351                       [96]\n                               ...        \n18446624797007271432                  [95]\n18446630855572834764                 [103]\n18446662237889060501                 [100]\n18446705133201055310                 [102]\n18446737527580148316                 [104]\nName: week, Length: 437365, dtype: object"
     },
     "execution_count": 13,
     "metadata": {},
     "output_type": "execute_result"
    }
   ],
   "source": [
    "c2weeks"
   ]
  },
  {
   "cell_type": "code",
   "execution_count": 14,
   "id": "f4723bec",
   "metadata": {
    "execution": {
     "iopub.execute_input": "2022-04-16T16:59:15.588334Z",
     "iopub.status.busy": "2022-04-16T16:59:15.588052Z",
     "iopub.status.idle": "2022-04-16T16:59:16.661897Z",
     "shell.execute_reply": "2022-04-16T16:59:16.661248Z"
    },
    "papermill": {
     "duration": 1.152087,
     "end_time": "2022-04-16T16:59:16.664416",
     "exception": false,
     "start_time": "2022-04-16T16:59:15.512329",
     "status": "completed"
    },
    "tags": []
   },
   "outputs": [
    {
     "name": "stdout",
     "output_type": "stream",
     "text": [
      "CPU times: user 319 ms, sys: 27.7 ms, total: 347 ms\n",
      "Wall time: 347 ms\n"
     ]
    }
   ],
   "source": [
    "%%time\n",
    "\n",
    "c2weeks2shifted_weeks = {}\n",
    "\n",
    "for c_id, weeks in c2weeks.items():\n",
    "    c2weeks2shifted_weeks[c_id] = {}\n",
    "    for i in range(weeks.shape[0]-1):\n",
    "        c2weeks2shifted_weeks[c_id][weeks[i]] = weeks[i+1]\n",
    "    c2weeks2shifted_weeks[c_id][weeks[-1]] = test_week"
   ]
  },
  {
   "cell_type": "code",
   "execution_count": 15,
   "id": "73302f1f",
   "metadata": {
    "execution": {
     "iopub.execute_input": "2022-04-16T16:59:16.814283Z",
     "iopub.status.busy": "2022-04-16T16:59:16.813874Z",
     "iopub.status.idle": "2022-04-16T16:59:16.819790Z",
     "shell.execute_reply": "2022-04-16T16:59:16.818116Z"
    },
    "papermill": {
     "duration": 0.083354,
     "end_time": "2022-04-16T16:59:16.821693",
     "exception": false,
     "start_time": "2022-04-16T16:59:16.738339",
     "status": "completed"
    },
    "tags": []
   },
   "outputs": [
    {
     "data": {
      "text/plain": "{95: 96, 96: 101, 101: 102, 102: 105}"
     },
     "execution_count": 15,
     "metadata": {},
     "output_type": "execute_result"
    }
   ],
   "source": [
    "c2weeks2shifted_weeks[28847241659200]"
   ]
  },
  {
   "cell_type": "code",
   "execution_count": 16,
   "id": "5a87c920",
   "metadata": {
    "execution": {
     "iopub.execute_input": "2022-04-16T16:59:16.974137Z",
     "iopub.status.busy": "2022-04-16T16:59:16.973909Z",
     "iopub.status.idle": "2022-04-16T16:59:16.988973Z",
     "shell.execute_reply": "2022-04-16T16:59:16.988167Z"
    },
    "papermill": {
     "duration": 0.095127,
     "end_time": "2022-04-16T16:59:16.991288",
     "exception": false,
     "start_time": "2022-04-16T16:59:16.896161",
     "status": "completed"
    },
    "tags": []
   },
   "outputs": [],
   "source": [
    "candidates_last_purchase = transactions.copy()"
   ]
  },
  {
   "cell_type": "code",
   "execution_count": 17,
   "id": "4f4d4a18",
   "metadata": {
    "execution": {
     "iopub.execute_input": "2022-04-16T16:59:17.146118Z",
     "iopub.status.busy": "2022-04-16T16:59:17.145905Z",
     "iopub.status.idle": "2022-04-16T16:59:25.781407Z",
     "shell.execute_reply": "2022-04-16T16:59:25.779777Z"
    },
    "papermill": {
     "duration": 8.716794,
     "end_time": "2022-04-16T16:59:25.784593",
     "exception": false,
     "start_time": "2022-04-16T16:59:17.067799",
     "status": "completed"
    },
    "tags": []
   },
   "outputs": [
    {
     "name": "stdout",
     "output_type": "stream",
     "text": [
      "CPU times: user 3.54 s, sys: 84.5 ms, total: 3.62 s\n",
      "Wall time: 3.63 s\n"
     ]
    }
   ],
   "source": [
    "%%time\n",
    "\n",
    "weeks = []\n",
    "for i, (c_id, week) in enumerate(zip(transactions['customer_id'], transactions['week'])):\n",
    "    weeks.append(c2weeks2shifted_weeks[c_id][week])\n",
    "    \n",
    "candidates_last_purchase.week=weeks"
   ]
  },
  {
   "cell_type": "code",
   "execution_count": 18,
   "id": "b016bbe5",
   "metadata": {
    "execution": {
     "iopub.execute_input": "2022-04-16T16:59:25.949128Z",
     "iopub.status.busy": "2022-04-16T16:59:25.948645Z",
     "iopub.status.idle": "2022-04-16T16:59:25.965195Z",
     "shell.execute_reply": "2022-04-16T16:59:25.963663Z"
    },
    "papermill": {
     "duration": 0.098217,
     "end_time": "2022-04-16T16:59:25.967641",
     "exception": false,
     "start_time": "2022-04-16T16:59:25.869424",
     "status": "completed"
    },
    "tags": []
   },
   "outputs": [
    {
     "data": {
      "text/plain": "              t_dat      customer_id  article_id     price  sales_channel_id  \\\n29030503 2020-07-15  272412481300040   778064028  0.008458                 1   \n29030504 2020-07-15  272412481300040   816592008  0.016932                 1   \n29030505 2020-07-15  272412481300040   621381021  0.033881                 1   \n29030506 2020-07-15  272412481300040   817477003  0.025407                 1   \n29030507 2020-07-15  272412481300040   899088002  0.025407                 1   \n29319533 2020-07-22  272412481300040   885077001  0.008458                 1   \n29410772 2020-07-24  272412481300040   850176003  0.029034                 2   \n29410773 2020-07-24  272412481300040   875803001  0.064559                 2   \n29410774 2020-07-24  272412481300040   892970003  0.020966                 2   \n29410775 2020-07-24  272412481300040   854619003  0.020966                 2   \n29531614 2020-07-27  272412481300040   900398001  0.030492                 2   \n29531615 2020-07-27  272412481300040   834179002  0.025407                 2   \n29531616 2020-07-27  272412481300040   875803001  0.067780                 2   \n31495014 2020-09-14  272412481300040   923460002  0.039932                 2   \n31495015 2020-09-14  272412481300040   922381001  0.039932                 2   \n31495016 2020-09-14  272412481300040   921906005  0.031949                 2   \n\n          week  \n29030503    96  \n29030504    96  \n29030505    96  \n29030506    96  \n29030507    96  \n29319533   103  \n29410772   103  \n29410773   103  \n29410774   103  \n29410775   103  \n29531614   103  \n29531615   103  \n29531616   103  \n31495014   105  \n31495015   105  \n31495016   105  ",
      "text/html": "<div>\n<style scoped>\n    .dataframe tbody tr th:only-of-type {\n        vertical-align: middle;\n    }\n\n    .dataframe tbody tr th {\n        vertical-align: top;\n    }\n\n    .dataframe thead th {\n        text-align: right;\n    }\n</style>\n<table border=\"1\" class=\"dataframe\">\n  <thead>\n    <tr style=\"text-align: right;\">\n      <th></th>\n      <th>t_dat</th>\n      <th>customer_id</th>\n      <th>article_id</th>\n      <th>price</th>\n      <th>sales_channel_id</th>\n      <th>week</th>\n    </tr>\n  </thead>\n  <tbody>\n    <tr>\n      <th>29030503</th>\n      <td>2020-07-15</td>\n      <td>272412481300040</td>\n      <td>778064028</td>\n      <td>0.008458</td>\n      <td>1</td>\n      <td>96</td>\n    </tr>\n    <tr>\n      <th>29030504</th>\n      <td>2020-07-15</td>\n      <td>272412481300040</td>\n      <td>816592008</td>\n      <td>0.016932</td>\n      <td>1</td>\n      <td>96</td>\n    </tr>\n    <tr>\n      <th>29030505</th>\n      <td>2020-07-15</td>\n      <td>272412481300040</td>\n      <td>621381021</td>\n      <td>0.033881</td>\n      <td>1</td>\n      <td>96</td>\n    </tr>\n    <tr>\n      <th>29030506</th>\n      <td>2020-07-15</td>\n      <td>272412481300040</td>\n      <td>817477003</td>\n      <td>0.025407</td>\n      <td>1</td>\n      <td>96</td>\n    </tr>\n    <tr>\n      <th>29030507</th>\n      <td>2020-07-15</td>\n      <td>272412481300040</td>\n      <td>899088002</td>\n      <td>0.025407</td>\n      <td>1</td>\n      <td>96</td>\n    </tr>\n    <tr>\n      <th>29319533</th>\n      <td>2020-07-22</td>\n      <td>272412481300040</td>\n      <td>885077001</td>\n      <td>0.008458</td>\n      <td>1</td>\n      <td>103</td>\n    </tr>\n    <tr>\n      <th>29410772</th>\n      <td>2020-07-24</td>\n      <td>272412481300040</td>\n      <td>850176003</td>\n      <td>0.029034</td>\n      <td>2</td>\n      <td>103</td>\n    </tr>\n    <tr>\n      <th>29410773</th>\n      <td>2020-07-24</td>\n      <td>272412481300040</td>\n      <td>875803001</td>\n      <td>0.064559</td>\n      <td>2</td>\n      <td>103</td>\n    </tr>\n    <tr>\n      <th>29410774</th>\n      <td>2020-07-24</td>\n      <td>272412481300040</td>\n      <td>892970003</td>\n      <td>0.020966</td>\n      <td>2</td>\n      <td>103</td>\n    </tr>\n    <tr>\n      <th>29410775</th>\n      <td>2020-07-24</td>\n      <td>272412481300040</td>\n      <td>854619003</td>\n      <td>0.020966</td>\n      <td>2</td>\n      <td>103</td>\n    </tr>\n    <tr>\n      <th>29531614</th>\n      <td>2020-07-27</td>\n      <td>272412481300040</td>\n      <td>900398001</td>\n      <td>0.030492</td>\n      <td>2</td>\n      <td>103</td>\n    </tr>\n    <tr>\n      <th>29531615</th>\n      <td>2020-07-27</td>\n      <td>272412481300040</td>\n      <td>834179002</td>\n      <td>0.025407</td>\n      <td>2</td>\n      <td>103</td>\n    </tr>\n    <tr>\n      <th>29531616</th>\n      <td>2020-07-27</td>\n      <td>272412481300040</td>\n      <td>875803001</td>\n      <td>0.067780</td>\n      <td>2</td>\n      <td>103</td>\n    </tr>\n    <tr>\n      <th>31495014</th>\n      <td>2020-09-14</td>\n      <td>272412481300040</td>\n      <td>923460002</td>\n      <td>0.039932</td>\n      <td>2</td>\n      <td>105</td>\n    </tr>\n    <tr>\n      <th>31495015</th>\n      <td>2020-09-14</td>\n      <td>272412481300040</td>\n      <td>922381001</td>\n      <td>0.039932</td>\n      <td>2</td>\n      <td>105</td>\n    </tr>\n    <tr>\n      <th>31495016</th>\n      <td>2020-09-14</td>\n      <td>272412481300040</td>\n      <td>921906005</td>\n      <td>0.031949</td>\n      <td>2</td>\n      <td>105</td>\n    </tr>\n  </tbody>\n</table>\n</div>"
     },
     "execution_count": 18,
     "metadata": {},
     "output_type": "execute_result"
    }
   ],
   "source": [
    "candidates_last_purchase[candidates_last_purchase['customer_id']==272412481300040]"
   ]
  },
  {
   "cell_type": "code",
   "execution_count": 19,
   "id": "b446519c",
   "metadata": {
    "execution": {
     "iopub.execute_input": "2022-04-16T16:59:26.122354Z",
     "iopub.status.busy": "2022-04-16T16:59:26.121200Z",
     "iopub.status.idle": "2022-04-16T16:59:26.138607Z",
     "shell.execute_reply": "2022-04-16T16:59:26.137667Z"
    },
    "papermill": {
     "duration": 0.095969,
     "end_time": "2022-04-16T16:59:26.140736",
     "exception": false,
     "start_time": "2022-04-16T16:59:26.044767",
     "status": "completed"
    },
    "tags": []
   },
   "outputs": [
    {
     "data": {
      "text/plain": "              t_dat      customer_id  article_id     price  sales_channel_id  \\\n29030503 2020-07-15  272412481300040   778064028  0.008458                 1   \n29030504 2020-07-15  272412481300040   816592008  0.016932                 1   \n29030505 2020-07-15  272412481300040   621381021  0.033881                 1   \n29030506 2020-07-15  272412481300040   817477003  0.025407                 1   \n29030507 2020-07-15  272412481300040   899088002  0.025407                 1   \n29319533 2020-07-22  272412481300040   885077001  0.008458                 1   \n29410772 2020-07-24  272412481300040   850176003  0.029034                 2   \n29410773 2020-07-24  272412481300040   875803001  0.064559                 2   \n29410774 2020-07-24  272412481300040   892970003  0.020966                 2   \n29410775 2020-07-24  272412481300040   854619003  0.020966                 2   \n29531614 2020-07-27  272412481300040   900398001  0.030492                 2   \n29531615 2020-07-27  272412481300040   834179002  0.025407                 2   \n29531616 2020-07-27  272412481300040   875803001  0.067780                 2   \n31495014 2020-09-14  272412481300040   923460002  0.039932                 2   \n31495015 2020-09-14  272412481300040   922381001  0.039932                 2   \n31495016 2020-09-14  272412481300040   921906005  0.031949                 2   \n\n          week  \n29030503    95  \n29030504    95  \n29030505    95  \n29030506    95  \n29030507    95  \n29319533    96  \n29410772    96  \n29410773    96  \n29410774    96  \n29410775    96  \n29531614    96  \n29531615    96  \n29531616    96  \n31495014   103  \n31495015   103  \n31495016   103  ",
      "text/html": "<div>\n<style scoped>\n    .dataframe tbody tr th:only-of-type {\n        vertical-align: middle;\n    }\n\n    .dataframe tbody tr th {\n        vertical-align: top;\n    }\n\n    .dataframe thead th {\n        text-align: right;\n    }\n</style>\n<table border=\"1\" class=\"dataframe\">\n  <thead>\n    <tr style=\"text-align: right;\">\n      <th></th>\n      <th>t_dat</th>\n      <th>customer_id</th>\n      <th>article_id</th>\n      <th>price</th>\n      <th>sales_channel_id</th>\n      <th>week</th>\n    </tr>\n  </thead>\n  <tbody>\n    <tr>\n      <th>29030503</th>\n      <td>2020-07-15</td>\n      <td>272412481300040</td>\n      <td>778064028</td>\n      <td>0.008458</td>\n      <td>1</td>\n      <td>95</td>\n    </tr>\n    <tr>\n      <th>29030504</th>\n      <td>2020-07-15</td>\n      <td>272412481300040</td>\n      <td>816592008</td>\n      <td>0.016932</td>\n      <td>1</td>\n      <td>95</td>\n    </tr>\n    <tr>\n      <th>29030505</th>\n      <td>2020-07-15</td>\n      <td>272412481300040</td>\n      <td>621381021</td>\n      <td>0.033881</td>\n      <td>1</td>\n      <td>95</td>\n    </tr>\n    <tr>\n      <th>29030506</th>\n      <td>2020-07-15</td>\n      <td>272412481300040</td>\n      <td>817477003</td>\n      <td>0.025407</td>\n      <td>1</td>\n      <td>95</td>\n    </tr>\n    <tr>\n      <th>29030507</th>\n      <td>2020-07-15</td>\n      <td>272412481300040</td>\n      <td>899088002</td>\n      <td>0.025407</td>\n      <td>1</td>\n      <td>95</td>\n    </tr>\n    <tr>\n      <th>29319533</th>\n      <td>2020-07-22</td>\n      <td>272412481300040</td>\n      <td>885077001</td>\n      <td>0.008458</td>\n      <td>1</td>\n      <td>96</td>\n    </tr>\n    <tr>\n      <th>29410772</th>\n      <td>2020-07-24</td>\n      <td>272412481300040</td>\n      <td>850176003</td>\n      <td>0.029034</td>\n      <td>2</td>\n      <td>96</td>\n    </tr>\n    <tr>\n      <th>29410773</th>\n      <td>2020-07-24</td>\n      <td>272412481300040</td>\n      <td>875803001</td>\n      <td>0.064559</td>\n      <td>2</td>\n      <td>96</td>\n    </tr>\n    <tr>\n      <th>29410774</th>\n      <td>2020-07-24</td>\n      <td>272412481300040</td>\n      <td>892970003</td>\n      <td>0.020966</td>\n      <td>2</td>\n      <td>96</td>\n    </tr>\n    <tr>\n      <th>29410775</th>\n      <td>2020-07-24</td>\n      <td>272412481300040</td>\n      <td>854619003</td>\n      <td>0.020966</td>\n      <td>2</td>\n      <td>96</td>\n    </tr>\n    <tr>\n      <th>29531614</th>\n      <td>2020-07-27</td>\n      <td>272412481300040</td>\n      <td>900398001</td>\n      <td>0.030492</td>\n      <td>2</td>\n      <td>96</td>\n    </tr>\n    <tr>\n      <th>29531615</th>\n      <td>2020-07-27</td>\n      <td>272412481300040</td>\n      <td>834179002</td>\n      <td>0.025407</td>\n      <td>2</td>\n      <td>96</td>\n    </tr>\n    <tr>\n      <th>29531616</th>\n      <td>2020-07-27</td>\n      <td>272412481300040</td>\n      <td>875803001</td>\n      <td>0.067780</td>\n      <td>2</td>\n      <td>96</td>\n    </tr>\n    <tr>\n      <th>31495014</th>\n      <td>2020-09-14</td>\n      <td>272412481300040</td>\n      <td>923460002</td>\n      <td>0.039932</td>\n      <td>2</td>\n      <td>103</td>\n    </tr>\n    <tr>\n      <th>31495015</th>\n      <td>2020-09-14</td>\n      <td>272412481300040</td>\n      <td>922381001</td>\n      <td>0.039932</td>\n      <td>2</td>\n      <td>103</td>\n    </tr>\n    <tr>\n      <th>31495016</th>\n      <td>2020-09-14</td>\n      <td>272412481300040</td>\n      <td>921906005</td>\n      <td>0.031949</td>\n      <td>2</td>\n      <td>103</td>\n    </tr>\n  </tbody>\n</table>\n</div>"
     },
     "execution_count": 19,
     "metadata": {},
     "output_type": "execute_result"
    }
   ],
   "source": [
    "transactions[transactions['customer_id']==272412481300040]"
   ]
  },
  {
   "cell_type": "markdown",
   "id": "38ae3458",
   "metadata": {
    "papermill": {
     "duration": 0.076715,
     "end_time": "2022-04-16T16:59:26.293010",
     "exception": false,
     "start_time": "2022-04-16T16:59:26.216295",
     "status": "completed"
    },
    "tags": []
   },
   "source": [
    "### Bestsellers candidates"
   ]
  },
  {
   "cell_type": "code",
   "execution_count": 20,
   "id": "022a7879",
   "metadata": {
    "execution": {
     "iopub.execute_input": "2022-04-16T16:59:26.450077Z",
     "iopub.status.busy": "2022-04-16T16:59:26.449041Z",
     "iopub.status.idle": "2022-04-16T16:59:26.698222Z",
     "shell.execute_reply": "2022-04-16T16:59:26.697460Z"
    },
    "papermill": {
     "duration": 0.331688,
     "end_time": "2022-04-16T16:59:26.700507",
     "exception": false,
     "start_time": "2022-04-16T16:59:26.368819",
     "status": "completed"
    },
    "tags": []
   },
   "outputs": [],
   "source": [
    "mean_price = transactions \\\n",
    "    .groupby(['week', 'article_id'])['price'].mean()"
   ]
  },
  {
   "cell_type": "code",
   "execution_count": 21,
   "id": "e74d8d23",
   "metadata": {
    "execution": {
     "iopub.execute_input": "2022-04-16T16:59:26.799929Z",
     "iopub.status.busy": "2022-04-16T16:59:26.799665Z",
     "iopub.status.idle": "2022-04-16T16:59:26.867466Z",
     "shell.execute_reply": "2022-04-16T16:59:26.866712Z"
    },
    "papermill": {
     "duration": 0.120303,
     "end_time": "2022-04-16T16:59:26.869795",
     "exception": false,
     "start_time": "2022-04-16T16:59:26.749492",
     "status": "completed"
    },
    "tags": []
   },
   "outputs": [
    {
     "data": {
      "text/plain": "week  article_id\n95    108775015     0.004729\n      108775044     0.008458\n      110065001     0.006085\n      110065002     0.006085\n      111565001     0.004288\n                      ...   \n104   952267001     0.013732\n      952938001     0.048651\n      953450001     0.016932\n      953763001     0.021885\n      956217002     0.059068\nName: price, Length: 196880, dtype: float32"
     },
     "execution_count": 21,
     "metadata": {},
     "output_type": "execute_result"
    }
   ],
   "source": [
    "mean_price"
   ]
  },
  {
   "cell_type": "code",
   "execution_count": 22,
   "id": "9a104ef9",
   "metadata": {
    "execution": {
     "iopub.execute_input": "2022-04-16T16:59:26.973271Z",
     "iopub.status.busy": "2022-04-16T16:59:26.972993Z",
     "iopub.status.idle": "2022-04-16T16:59:27.759574Z",
     "shell.execute_reply": "2022-04-16T16:59:27.758540Z"
    },
    "papermill": {
     "duration": 0.840436,
     "end_time": "2022-04-16T16:59:27.761667",
     "exception": false,
     "start_time": "2022-04-16T16:59:26.921231",
     "status": "completed"
    },
    "tags": []
   },
   "outputs": [],
   "source": [
    "sales = transactions \\\n",
    "    .groupby('week')['article_id'].value_counts() \\\n",
    "    .groupby('week').rank(method='dense', ascending=False) \\\n",
    "    .groupby('week').head(12).rename('bestseller_rank').astype('int8')"
   ]
  },
  {
   "cell_type": "code",
   "execution_count": 23,
   "id": "59c00bd8",
   "metadata": {
    "execution": {
     "iopub.execute_input": "2022-04-16T16:59:27.860853Z",
     "iopub.status.busy": "2022-04-16T16:59:27.860287Z",
     "iopub.status.idle": "2022-04-16T16:59:27.869133Z",
     "shell.execute_reply": "2022-04-16T16:59:27.867950Z"
    },
    "papermill": {
     "duration": 0.061677,
     "end_time": "2022-04-16T16:59:27.871620",
     "exception": false,
     "start_time": "2022-04-16T16:59:27.809943",
     "status": "completed"
    },
    "tags": []
   },
   "outputs": [
    {
     "data": {
      "text/plain": "week  article_id\n95    760084003      1\n      866731001      2\n      600886001      3\n      706016001      4\n      372860002      5\n                    ..\n104   915529003      8\n      915529005      9\n      448509014     10\n      762846027     11\n      714790020     12\nName: bestseller_rank, Length: 120, dtype: int8"
     },
     "execution_count": 23,
     "metadata": {},
     "output_type": "execute_result"
    }
   ],
   "source": [
    "sales"
   ]
  },
  {
   "cell_type": "code",
   "execution_count": 24,
   "id": "0b8a877e",
   "metadata": {
    "execution": {
     "iopub.execute_input": "2022-04-16T16:59:28.022610Z",
     "iopub.status.busy": "2022-04-16T16:59:28.021997Z",
     "iopub.status.idle": "2022-04-16T16:59:28.032026Z",
     "shell.execute_reply": "2022-04-16T16:59:28.030925Z"
    },
    "papermill": {
     "duration": 0.088243,
     "end_time": "2022-04-16T16:59:28.034495",
     "exception": false,
     "start_time": "2022-04-16T16:59:27.946252",
     "status": "completed"
    },
    "tags": []
   },
   "outputs": [
    {
     "data": {
      "text/plain": "article_id\n760084003     1\n866731001     2\n600886001     3\n706016001     4\n372860002     5\n610776002     6\n877278002     7\n547780003     8\n817354001     9\n827968001    10\n866731003    11\n866383006    12\nName: bestseller_rank, dtype: int8"
     },
     "execution_count": 24,
     "metadata": {},
     "output_type": "execute_result"
    }
   ],
   "source": [
    "sales.loc[95]"
   ]
  },
  {
   "cell_type": "code",
   "execution_count": 25,
   "id": "20324cc0",
   "metadata": {
    "execution": {
     "iopub.execute_input": "2022-04-16T16:59:28.190524Z",
     "iopub.status.busy": "2022-04-16T16:59:28.190250Z",
     "iopub.status.idle": "2022-04-16T16:59:28.228967Z",
     "shell.execute_reply": "2022-04-16T16:59:28.228233Z"
    },
    "papermill": {
     "duration": 0.11991,
     "end_time": "2022-04-16T16:59:28.231470",
     "exception": false,
     "start_time": "2022-04-16T16:59:28.111560",
     "status": "completed"
    },
    "tags": []
   },
   "outputs": [],
   "source": [
    "bestsellers_previous_week = pd.merge(sales, mean_price, on=['week', 'article_id']).reset_index()\n",
    "bestsellers_previous_week.week += 1"
   ]
  },
  {
   "cell_type": "code",
   "execution_count": 26,
   "id": "b8447b19",
   "metadata": {
    "execution": {
     "iopub.execute_input": "2022-04-16T16:59:28.387785Z",
     "iopub.status.busy": "2022-04-16T16:59:28.387358Z",
     "iopub.status.idle": "2022-04-16T16:59:28.397082Z",
     "shell.execute_reply": "2022-04-16T16:59:28.396419Z"
    },
    "papermill": {
     "duration": 0.089116,
     "end_time": "2022-04-16T16:59:28.399153",
     "exception": false,
     "start_time": "2022-04-16T16:59:28.310037",
     "status": "completed"
    },
    "tags": []
   },
   "outputs": [
    {
     "data": {
      "text/plain": "    week  article_id  bestseller_rank     price\n0     96   760084003                1  0.025094\n1     96   866731001                2  0.024919\n2     96   600886001                3  0.022980\n3     96   706016001                4  0.033197\n4     96   372860002                5  0.013193\n5     96   610776002                6  0.008318\n6     96   877278002                7  0.025036\n7     96   547780003                8  0.024814\n8     96   817354001                9  0.021913\n9     96   827968001               10  0.016436\n10    96   866731003               11  0.024893\n11    96   866383006               12  0.023195",
      "text/html": "<div>\n<style scoped>\n    .dataframe tbody tr th:only-of-type {\n        vertical-align: middle;\n    }\n\n    .dataframe tbody tr th {\n        vertical-align: top;\n    }\n\n    .dataframe thead th {\n        text-align: right;\n    }\n</style>\n<table border=\"1\" class=\"dataframe\">\n  <thead>\n    <tr style=\"text-align: right;\">\n      <th></th>\n      <th>week</th>\n      <th>article_id</th>\n      <th>bestseller_rank</th>\n      <th>price</th>\n    </tr>\n  </thead>\n  <tbody>\n    <tr>\n      <th>0</th>\n      <td>96</td>\n      <td>760084003</td>\n      <td>1</td>\n      <td>0.025094</td>\n    </tr>\n    <tr>\n      <th>1</th>\n      <td>96</td>\n      <td>866731001</td>\n      <td>2</td>\n      <td>0.024919</td>\n    </tr>\n    <tr>\n      <th>2</th>\n      <td>96</td>\n      <td>600886001</td>\n      <td>3</td>\n      <td>0.022980</td>\n    </tr>\n    <tr>\n      <th>3</th>\n      <td>96</td>\n      <td>706016001</td>\n      <td>4</td>\n      <td>0.033197</td>\n    </tr>\n    <tr>\n      <th>4</th>\n      <td>96</td>\n      <td>372860002</td>\n      <td>5</td>\n      <td>0.013193</td>\n    </tr>\n    <tr>\n      <th>5</th>\n      <td>96</td>\n      <td>610776002</td>\n      <td>6</td>\n      <td>0.008318</td>\n    </tr>\n    <tr>\n      <th>6</th>\n      <td>96</td>\n      <td>877278002</td>\n      <td>7</td>\n      <td>0.025036</td>\n    </tr>\n    <tr>\n      <th>7</th>\n      <td>96</td>\n      <td>547780003</td>\n      <td>8</td>\n      <td>0.024814</td>\n    </tr>\n    <tr>\n      <th>8</th>\n      <td>96</td>\n      <td>817354001</td>\n      <td>9</td>\n      <td>0.021913</td>\n    </tr>\n    <tr>\n      <th>9</th>\n      <td>96</td>\n      <td>827968001</td>\n      <td>10</td>\n      <td>0.016436</td>\n    </tr>\n    <tr>\n      <th>10</th>\n      <td>96</td>\n      <td>866731003</td>\n      <td>11</td>\n      <td>0.024893</td>\n    </tr>\n    <tr>\n      <th>11</th>\n      <td>96</td>\n      <td>866383006</td>\n      <td>12</td>\n      <td>0.023195</td>\n    </tr>\n  </tbody>\n</table>\n</div>"
     },
     "execution_count": 26,
     "metadata": {},
     "output_type": "execute_result"
    }
   ],
   "source": [
    "bestsellers_previous_week.pipe(lambda df: df[df['week']==96])"
   ]
  },
  {
   "cell_type": "code",
   "execution_count": 27,
   "id": "1ad756de",
   "metadata": {
    "execution": {
     "iopub.execute_input": "2022-04-16T16:59:28.555106Z",
     "iopub.status.busy": "2022-04-16T16:59:28.554346Z",
     "iopub.status.idle": "2022-04-16T16:59:29.140400Z",
     "shell.execute_reply": "2022-04-16T16:59:29.138684Z"
    },
    "papermill": {
     "duration": 0.667005,
     "end_time": "2022-04-16T16:59:29.144061",
     "exception": false,
     "start_time": "2022-04-16T16:59:28.477056",
     "status": "completed"
    },
    "tags": []
   },
   "outputs": [],
   "source": [
    "unique_transactions = transactions \\\n",
    "    .groupby(['week', 'customer_id']) \\\n",
    "    .head(1) \\\n",
    "    .drop(columns=['article_id', 'price']) \\\n",
    "    .copy()"
   ]
  },
  {
   "cell_type": "code",
   "execution_count": 28,
   "id": "f2dcb4b5",
   "metadata": {
    "execution": {
     "iopub.execute_input": "2022-04-16T16:59:29.302908Z",
     "iopub.status.busy": "2022-04-16T16:59:29.302634Z",
     "iopub.status.idle": "2022-04-16T16:59:29.314268Z",
     "shell.execute_reply": "2022-04-16T16:59:29.313513Z"
    },
    "papermill": {
     "duration": 0.093091,
     "end_time": "2022-04-16T16:59:29.316226",
     "exception": false,
     "start_time": "2022-04-16T16:59:29.223135",
     "status": "completed"
    },
    "tags": []
   },
   "outputs": [
    {
     "data": {
      "text/plain": "              t_dat           customer_id  sales_channel_id  week\n29030503 2020-07-15       272412481300040                 1    95\n29064059 2020-07-15      1456826891333599                 1    95\n29067103 2020-07-15      2133687643102426                 2    95\n29027487 2020-07-15      6010692573790711                 1    95\n29046403 2020-07-15      6171059100114610                 2    95\n...             ...                   ...               ...   ...\n31760188 2020-09-22  18435221511488011015                 1   104\n31782234 2020-09-22  18436859303155335645                 1   104\n31787251 2020-09-22  18437941771381362708                 2   104\n31776022 2020-09-22  18438270306572912089                 1   104\n31779097 2020-09-22  18440902715633436014                 1   104\n\n[755710 rows x 4 columns]",
      "text/html": "<div>\n<style scoped>\n    .dataframe tbody tr th:only-of-type {\n        vertical-align: middle;\n    }\n\n    .dataframe tbody tr th {\n        vertical-align: top;\n    }\n\n    .dataframe thead th {\n        text-align: right;\n    }\n</style>\n<table border=\"1\" class=\"dataframe\">\n  <thead>\n    <tr style=\"text-align: right;\">\n      <th></th>\n      <th>t_dat</th>\n      <th>customer_id</th>\n      <th>sales_channel_id</th>\n      <th>week</th>\n    </tr>\n  </thead>\n  <tbody>\n    <tr>\n      <th>29030503</th>\n      <td>2020-07-15</td>\n      <td>272412481300040</td>\n      <td>1</td>\n      <td>95</td>\n    </tr>\n    <tr>\n      <th>29064059</th>\n      <td>2020-07-15</td>\n      <td>1456826891333599</td>\n      <td>1</td>\n      <td>95</td>\n    </tr>\n    <tr>\n      <th>29067103</th>\n      <td>2020-07-15</td>\n      <td>2133687643102426</td>\n      <td>2</td>\n      <td>95</td>\n    </tr>\n    <tr>\n      <th>29027487</th>\n      <td>2020-07-15</td>\n      <td>6010692573790711</td>\n      <td>1</td>\n      <td>95</td>\n    </tr>\n    <tr>\n      <th>29046403</th>\n      <td>2020-07-15</td>\n      <td>6171059100114610</td>\n      <td>2</td>\n      <td>95</td>\n    </tr>\n    <tr>\n      <th>...</th>\n      <td>...</td>\n      <td>...</td>\n      <td>...</td>\n      <td>...</td>\n    </tr>\n    <tr>\n      <th>31760188</th>\n      <td>2020-09-22</td>\n      <td>18435221511488011015</td>\n      <td>1</td>\n      <td>104</td>\n    </tr>\n    <tr>\n      <th>31782234</th>\n      <td>2020-09-22</td>\n      <td>18436859303155335645</td>\n      <td>1</td>\n      <td>104</td>\n    </tr>\n    <tr>\n      <th>31787251</th>\n      <td>2020-09-22</td>\n      <td>18437941771381362708</td>\n      <td>2</td>\n      <td>104</td>\n    </tr>\n    <tr>\n      <th>31776022</th>\n      <td>2020-09-22</td>\n      <td>18438270306572912089</td>\n      <td>1</td>\n      <td>104</td>\n    </tr>\n    <tr>\n      <th>31779097</th>\n      <td>2020-09-22</td>\n      <td>18440902715633436014</td>\n      <td>1</td>\n      <td>104</td>\n    </tr>\n  </tbody>\n</table>\n<p>755710 rows × 4 columns</p>\n</div>"
     },
     "execution_count": 28,
     "metadata": {},
     "output_type": "execute_result"
    }
   ],
   "source": [
    "unique_transactions"
   ]
  },
  {
   "cell_type": "code",
   "execution_count": 29,
   "id": "5721ca6d",
   "metadata": {
    "execution": {
     "iopub.execute_input": "2022-04-16T16:59:29.492465Z",
     "iopub.status.busy": "2022-04-16T16:59:29.491796Z",
     "iopub.status.idle": "2022-04-16T16:59:29.789430Z",
     "shell.execute_reply": "2022-04-16T16:59:29.788532Z"
    },
    "papermill": {
     "duration": 0.383891,
     "end_time": "2022-04-16T16:59:29.791258",
     "exception": false,
     "start_time": "2022-04-16T16:59:29.407367",
     "status": "completed"
    },
    "tags": []
   },
   "outputs": [
    {
     "data": {
      "text/plain": "              t_dat           customer_id  article_id     price  \\\n29030503 2020-07-15       272412481300040   778064028  0.008458   \n29064059 2020-07-15      1456826891333599   888294001  0.013542   \n29067103 2020-07-15      2133687643102426   843642001  0.042356   \n29027487 2020-07-15      6010692573790711   857812010  0.039661   \n29046403 2020-07-15      6171059100114610   815447007  0.006763   \n...             ...                   ...         ...       ...   \n31760188 2020-09-22  18435221511488011015   573085055  0.033881   \n31782234 2020-09-22  18436859303155335645   801447001  0.030492   \n31787251 2020-09-22  18437941771381362708   907188001  0.050831   \n31776022 2020-09-22  18438270306572912089   751471043  0.033881   \n31779097 2020-09-22  18440902715633436014   918894002  0.016932   \n\n          sales_channel_id  week  \n29030503                 1    95  \n29064059                 1    95  \n29067103                 2    95  \n29027487                 1    95  \n29046403                 2    95  \n...                    ...   ...  \n31760188                 1   104  \n31782234                 1   104  \n31787251                 2   104  \n31776022                 1   104  \n31779097                 1   104  \n\n[755710 rows x 6 columns]",
      "text/html": "<div>\n<style scoped>\n    .dataframe tbody tr th:only-of-type {\n        vertical-align: middle;\n    }\n\n    .dataframe tbody tr th {\n        vertical-align: top;\n    }\n\n    .dataframe thead th {\n        text-align: right;\n    }\n</style>\n<table border=\"1\" class=\"dataframe\">\n  <thead>\n    <tr style=\"text-align: right;\">\n      <th></th>\n      <th>t_dat</th>\n      <th>customer_id</th>\n      <th>article_id</th>\n      <th>price</th>\n      <th>sales_channel_id</th>\n      <th>week</th>\n    </tr>\n  </thead>\n  <tbody>\n    <tr>\n      <th>29030503</th>\n      <td>2020-07-15</td>\n      <td>272412481300040</td>\n      <td>778064028</td>\n      <td>0.008458</td>\n      <td>1</td>\n      <td>95</td>\n    </tr>\n    <tr>\n      <th>29064059</th>\n      <td>2020-07-15</td>\n      <td>1456826891333599</td>\n      <td>888294001</td>\n      <td>0.013542</td>\n      <td>1</td>\n      <td>95</td>\n    </tr>\n    <tr>\n      <th>29067103</th>\n      <td>2020-07-15</td>\n      <td>2133687643102426</td>\n      <td>843642001</td>\n      <td>0.042356</td>\n      <td>2</td>\n      <td>95</td>\n    </tr>\n    <tr>\n      <th>29027487</th>\n      <td>2020-07-15</td>\n      <td>6010692573790711</td>\n      <td>857812010</td>\n      <td>0.039661</td>\n      <td>1</td>\n      <td>95</td>\n    </tr>\n    <tr>\n      <th>29046403</th>\n      <td>2020-07-15</td>\n      <td>6171059100114610</td>\n      <td>815447007</td>\n      <td>0.006763</td>\n      <td>2</td>\n      <td>95</td>\n    </tr>\n    <tr>\n      <th>...</th>\n      <td>...</td>\n      <td>...</td>\n      <td>...</td>\n      <td>...</td>\n      <td>...</td>\n      <td>...</td>\n    </tr>\n    <tr>\n      <th>31760188</th>\n      <td>2020-09-22</td>\n      <td>18435221511488011015</td>\n      <td>573085055</td>\n      <td>0.033881</td>\n      <td>1</td>\n      <td>104</td>\n    </tr>\n    <tr>\n      <th>31782234</th>\n      <td>2020-09-22</td>\n      <td>18436859303155335645</td>\n      <td>801447001</td>\n      <td>0.030492</td>\n      <td>1</td>\n      <td>104</td>\n    </tr>\n    <tr>\n      <th>31787251</th>\n      <td>2020-09-22</td>\n      <td>18437941771381362708</td>\n      <td>907188001</td>\n      <td>0.050831</td>\n      <td>2</td>\n      <td>104</td>\n    </tr>\n    <tr>\n      <th>31776022</th>\n      <td>2020-09-22</td>\n      <td>18438270306572912089</td>\n      <td>751471043</td>\n      <td>0.033881</td>\n      <td>1</td>\n      <td>104</td>\n    </tr>\n    <tr>\n      <th>31779097</th>\n      <td>2020-09-22</td>\n      <td>18440902715633436014</td>\n      <td>918894002</td>\n      <td>0.016932</td>\n      <td>1</td>\n      <td>104</td>\n    </tr>\n  </tbody>\n</table>\n<p>755710 rows × 6 columns</p>\n</div>"
     },
     "execution_count": 29,
     "metadata": {},
     "output_type": "execute_result"
    }
   ],
   "source": [
    "transactions.drop_duplicates(['week', 'customer_id'])"
   ]
  },
  {
   "cell_type": "code",
   "execution_count": 30,
   "id": "4a23981e",
   "metadata": {
    "execution": {
     "iopub.execute_input": "2022-04-16T16:59:29.966619Z",
     "iopub.status.busy": "2022-04-16T16:59:29.965698Z",
     "iopub.status.idle": "2022-04-16T16:59:30.451040Z",
     "shell.execute_reply": "2022-04-16T16:59:30.449784Z"
    },
    "papermill": {
     "duration": 0.575247,
     "end_time": "2022-04-16T16:59:30.453425",
     "exception": false,
     "start_time": "2022-04-16T16:59:29.878178",
     "status": "completed"
    },
    "tags": []
   },
   "outputs": [],
   "source": [
    "candidates_bestsellers = pd.merge(\n",
    "    unique_transactions,\n",
    "    bestsellers_previous_week,\n",
    "    on='week',\n",
    ")"
   ]
  },
  {
   "cell_type": "code",
   "execution_count": 31,
   "id": "ad3a9710",
   "metadata": {
    "execution": {
     "iopub.execute_input": "2022-04-16T16:59:30.557949Z",
     "iopub.status.busy": "2022-04-16T16:59:30.557290Z",
     "iopub.status.idle": "2022-04-16T16:59:30.666388Z",
     "shell.execute_reply": "2022-04-16T16:59:30.665542Z"
    },
    "papermill": {
     "duration": 0.163691,
     "end_time": "2022-04-16T16:59:30.668845",
     "exception": false,
     "start_time": "2022-04-16T16:59:30.505154",
     "status": "completed"
    },
    "tags": []
   },
   "outputs": [],
   "source": [
    "test_set_transactions = unique_transactions.drop_duplicates('customer_id').reset_index(drop=True)\n",
    "test_set_transactions.week = test_week"
   ]
  },
  {
   "cell_type": "code",
   "execution_count": 32,
   "id": "0234c391",
   "metadata": {
    "execution": {
     "iopub.execute_input": "2022-04-16T16:59:30.834473Z",
     "iopub.status.busy": "2022-04-16T16:59:30.833997Z",
     "iopub.status.idle": "2022-04-16T16:59:30.844349Z",
     "shell.execute_reply": "2022-04-16T16:59:30.843895Z"
    },
    "papermill": {
     "duration": 0.098295,
     "end_time": "2022-04-16T16:59:30.846626",
     "exception": false,
     "start_time": "2022-04-16T16:59:30.748331",
     "status": "completed"
    },
    "tags": []
   },
   "outputs": [
    {
     "data": {
      "text/plain": "            t_dat           customer_id  sales_channel_id  week\n0      2020-07-15       272412481300040                 1   105\n1      2020-07-15      1456826891333599                 1   105\n2      2020-07-15      2133687643102426                 2   105\n3      2020-07-15      6010692573790711                 1   105\n4      2020-07-15      6171059100114610                 2   105\n...           ...                   ...               ...   ...\n437360 2020-09-22  18410229429441241008                 2   105\n437361 2020-09-22  18417769707947924979                 2   105\n437362 2020-09-22  18418054986721795659                 2   105\n437363 2020-09-22  18421175435799911749                 2   105\n437364 2020-09-22  18438270306572912089                 1   105\n\n[437365 rows x 4 columns]",
      "text/html": "<div>\n<style scoped>\n    .dataframe tbody tr th:only-of-type {\n        vertical-align: middle;\n    }\n\n    .dataframe tbody tr th {\n        vertical-align: top;\n    }\n\n    .dataframe thead th {\n        text-align: right;\n    }\n</style>\n<table border=\"1\" class=\"dataframe\">\n  <thead>\n    <tr style=\"text-align: right;\">\n      <th></th>\n      <th>t_dat</th>\n      <th>customer_id</th>\n      <th>sales_channel_id</th>\n      <th>week</th>\n    </tr>\n  </thead>\n  <tbody>\n    <tr>\n      <th>0</th>\n      <td>2020-07-15</td>\n      <td>272412481300040</td>\n      <td>1</td>\n      <td>105</td>\n    </tr>\n    <tr>\n      <th>1</th>\n      <td>2020-07-15</td>\n      <td>1456826891333599</td>\n      <td>1</td>\n      <td>105</td>\n    </tr>\n    <tr>\n      <th>2</th>\n      <td>2020-07-15</td>\n      <td>2133687643102426</td>\n      <td>2</td>\n      <td>105</td>\n    </tr>\n    <tr>\n      <th>3</th>\n      <td>2020-07-15</td>\n      <td>6010692573790711</td>\n      <td>1</td>\n      <td>105</td>\n    </tr>\n    <tr>\n      <th>4</th>\n      <td>2020-07-15</td>\n      <td>6171059100114610</td>\n      <td>2</td>\n      <td>105</td>\n    </tr>\n    <tr>\n      <th>...</th>\n      <td>...</td>\n      <td>...</td>\n      <td>...</td>\n      <td>...</td>\n    </tr>\n    <tr>\n      <th>437360</th>\n      <td>2020-09-22</td>\n      <td>18410229429441241008</td>\n      <td>2</td>\n      <td>105</td>\n    </tr>\n    <tr>\n      <th>437361</th>\n      <td>2020-09-22</td>\n      <td>18417769707947924979</td>\n      <td>2</td>\n      <td>105</td>\n    </tr>\n    <tr>\n      <th>437362</th>\n      <td>2020-09-22</td>\n      <td>18418054986721795659</td>\n      <td>2</td>\n      <td>105</td>\n    </tr>\n    <tr>\n      <th>437363</th>\n      <td>2020-09-22</td>\n      <td>18421175435799911749</td>\n      <td>2</td>\n      <td>105</td>\n    </tr>\n    <tr>\n      <th>437364</th>\n      <td>2020-09-22</td>\n      <td>18438270306572912089</td>\n      <td>1</td>\n      <td>105</td>\n    </tr>\n  </tbody>\n</table>\n<p>437365 rows × 4 columns</p>\n</div>"
     },
     "execution_count": 32,
     "metadata": {},
     "output_type": "execute_result"
    }
   ],
   "source": [
    "test_set_transactions"
   ]
  },
  {
   "cell_type": "code",
   "execution_count": 33,
   "id": "9f64b005",
   "metadata": {
    "execution": {
     "iopub.execute_input": "2022-04-16T16:59:31.022450Z",
     "iopub.status.busy": "2022-04-16T16:59:31.021916Z",
     "iopub.status.idle": "2022-04-16T16:59:31.402955Z",
     "shell.execute_reply": "2022-04-16T16:59:31.402449Z"
    },
    "papermill": {
     "duration": 0.473042,
     "end_time": "2022-04-16T16:59:31.405328",
     "exception": false,
     "start_time": "2022-04-16T16:59:30.932286",
     "status": "completed"
    },
    "tags": []
   },
   "outputs": [],
   "source": [
    "candidates_bestsellers_test_week = pd.merge(\n",
    "    test_set_transactions,\n",
    "    bestsellers_previous_week,\n",
    "    on='week'\n",
    ")"
   ]
  },
  {
   "cell_type": "code",
   "execution_count": 34,
   "id": "212b7926",
   "metadata": {
    "execution": {
     "iopub.execute_input": "2022-04-16T16:59:31.572192Z",
     "iopub.status.busy": "2022-04-16T16:59:31.571731Z",
     "iopub.status.idle": "2022-04-16T16:59:32.056182Z",
     "shell.execute_reply": "2022-04-16T16:59:32.054646Z"
    },
    "papermill": {
     "duration": 0.570441,
     "end_time": "2022-04-16T16:59:32.058855",
     "exception": false,
     "start_time": "2022-04-16T16:59:31.488414",
     "status": "completed"
    },
    "tags": []
   },
   "outputs": [],
   "source": [
    "candidates_bestsellers = pd.concat([candidates_bestsellers, candidates_bestsellers_test_week])\n",
    "candidates_bestsellers.drop(columns='bestseller_rank', inplace=True)"
   ]
  },
  {
   "cell_type": "code",
   "execution_count": 35,
   "id": "ffee52dd",
   "metadata": {
    "execution": {
     "iopub.execute_input": "2022-04-16T16:59:32.220857Z",
     "iopub.status.busy": "2022-04-16T16:59:32.220489Z",
     "iopub.status.idle": "2022-04-16T16:59:32.231938Z",
     "shell.execute_reply": "2022-04-16T16:59:32.231436Z"
    },
    "papermill": {
     "duration": 0.095192,
     "end_time": "2022-04-16T16:59:32.233727",
     "exception": false,
     "start_time": "2022-04-16T16:59:32.138535",
     "status": "completed"
    },
    "tags": []
   },
   "outputs": [
    {
     "data": {
      "text/plain": "             t_dat           customer_id  sales_channel_id  week  article_id  \\\n0       2020-07-22       200292573348128                 2    96   760084003   \n1       2020-07-22       200292573348128                 2    96   866731001   \n2       2020-07-22       200292573348128                 2    96   600886001   \n3       2020-07-22       200292573348128                 2    96   706016001   \n4       2020-07-22       200292573348128                 2    96   372860002   \n...            ...                   ...               ...   ...         ...   \n5248375 2020-09-22  18438270306572912089                 1   105   915529003   \n5248376 2020-09-22  18438270306572912089                 1   105   915529005   \n5248377 2020-09-22  18438270306572912089                 1   105   448509014   \n5248378 2020-09-22  18438270306572912089                 1   105   762846027   \n5248379 2020-09-22  18438270306572912089                 1   105   714790020   \n\n            price  \n0        0.025094  \n1        0.024919  \n2        0.022980  \n3        0.033197  \n4        0.013193  \n...           ...  \n5248375  0.033439  \n5248376  0.033417  \n5248377  0.041630  \n5248378  0.025005  \n5248379  0.049951  \n\n[13389576 rows x 6 columns]",
      "text/html": "<div>\n<style scoped>\n    .dataframe tbody tr th:only-of-type {\n        vertical-align: middle;\n    }\n\n    .dataframe tbody tr th {\n        vertical-align: top;\n    }\n\n    .dataframe thead th {\n        text-align: right;\n    }\n</style>\n<table border=\"1\" class=\"dataframe\">\n  <thead>\n    <tr style=\"text-align: right;\">\n      <th></th>\n      <th>t_dat</th>\n      <th>customer_id</th>\n      <th>sales_channel_id</th>\n      <th>week</th>\n      <th>article_id</th>\n      <th>price</th>\n    </tr>\n  </thead>\n  <tbody>\n    <tr>\n      <th>0</th>\n      <td>2020-07-22</td>\n      <td>200292573348128</td>\n      <td>2</td>\n      <td>96</td>\n      <td>760084003</td>\n      <td>0.025094</td>\n    </tr>\n    <tr>\n      <th>1</th>\n      <td>2020-07-22</td>\n      <td>200292573348128</td>\n      <td>2</td>\n      <td>96</td>\n      <td>866731001</td>\n      <td>0.024919</td>\n    </tr>\n    <tr>\n      <th>2</th>\n      <td>2020-07-22</td>\n      <td>200292573348128</td>\n      <td>2</td>\n      <td>96</td>\n      <td>600886001</td>\n      <td>0.022980</td>\n    </tr>\n    <tr>\n      <th>3</th>\n      <td>2020-07-22</td>\n      <td>200292573348128</td>\n      <td>2</td>\n      <td>96</td>\n      <td>706016001</td>\n      <td>0.033197</td>\n    </tr>\n    <tr>\n      <th>4</th>\n      <td>2020-07-22</td>\n      <td>200292573348128</td>\n      <td>2</td>\n      <td>96</td>\n      <td>372860002</td>\n      <td>0.013193</td>\n    </tr>\n    <tr>\n      <th>...</th>\n      <td>...</td>\n      <td>...</td>\n      <td>...</td>\n      <td>...</td>\n      <td>...</td>\n      <td>...</td>\n    </tr>\n    <tr>\n      <th>5248375</th>\n      <td>2020-09-22</td>\n      <td>18438270306572912089</td>\n      <td>1</td>\n      <td>105</td>\n      <td>915529003</td>\n      <td>0.033439</td>\n    </tr>\n    <tr>\n      <th>5248376</th>\n      <td>2020-09-22</td>\n      <td>18438270306572912089</td>\n      <td>1</td>\n      <td>105</td>\n      <td>915529005</td>\n      <td>0.033417</td>\n    </tr>\n    <tr>\n      <th>5248377</th>\n      <td>2020-09-22</td>\n      <td>18438270306572912089</td>\n      <td>1</td>\n      <td>105</td>\n      <td>448509014</td>\n      <td>0.041630</td>\n    </tr>\n    <tr>\n      <th>5248378</th>\n      <td>2020-09-22</td>\n      <td>18438270306572912089</td>\n      <td>1</td>\n      <td>105</td>\n      <td>762846027</td>\n      <td>0.025005</td>\n    </tr>\n    <tr>\n      <th>5248379</th>\n      <td>2020-09-22</td>\n      <td>18438270306572912089</td>\n      <td>1</td>\n      <td>105</td>\n      <td>714790020</td>\n      <td>0.049951</td>\n    </tr>\n  </tbody>\n</table>\n<p>13389576 rows × 6 columns</p>\n</div>"
     },
     "execution_count": 35,
     "metadata": {},
     "output_type": "execute_result"
    }
   ],
   "source": [
    "candidates_bestsellers"
   ]
  },
  {
   "cell_type": "markdown",
   "id": "d5b03292",
   "metadata": {
    "papermill": {
     "duration": 0.08208,
     "end_time": "2022-04-16T16:59:32.397198",
     "exception": false,
     "start_time": "2022-04-16T16:59:32.315118",
     "status": "completed"
    },
    "tags": []
   },
   "source": [
    "# Combining transactions and candidates / negative examples"
   ]
  },
  {
   "cell_type": "code",
   "execution_count": 36,
   "id": "529196a4",
   "metadata": {
    "execution": {
     "iopub.execute_input": "2022-04-16T16:59:32.559999Z",
     "iopub.status.busy": "2022-04-16T16:59:32.559691Z",
     "iopub.status.idle": "2022-04-16T16:59:32.568020Z",
     "shell.execute_reply": "2022-04-16T16:59:32.567210Z"
    },
    "papermill": {
     "duration": 0.090433,
     "end_time": "2022-04-16T16:59:32.570268",
     "exception": false,
     "start_time": "2022-04-16T16:59:32.479835",
     "status": "completed"
    },
    "tags": []
   },
   "outputs": [],
   "source": [
    "transactions['purchased'] = 1"
   ]
  },
  {
   "cell_type": "code",
   "execution_count": 37,
   "id": "421a601e",
   "metadata": {
    "execution": {
     "iopub.execute_input": "2022-04-16T16:59:32.732883Z",
     "iopub.status.busy": "2022-04-16T16:59:32.732442Z",
     "iopub.status.idle": "2022-04-16T16:59:33.215270Z",
     "shell.execute_reply": "2022-04-16T16:59:33.214358Z"
    },
    "papermill": {
     "duration": 0.56807,
     "end_time": "2022-04-16T16:59:33.217736",
     "exception": false,
     "start_time": "2022-04-16T16:59:32.649666",
     "status": "completed"
    },
    "tags": []
   },
   "outputs": [],
   "source": [
    "data = pd.concat([transactions, candidates_last_purchase, candidates_bestsellers])\n",
    "data.purchased.fillna(0, inplace=True)"
   ]
  },
  {
   "cell_type": "code",
   "execution_count": 38,
   "id": "8c8a19c1",
   "metadata": {
    "execution": {
     "iopub.execute_input": "2022-04-16T16:59:33.379432Z",
     "iopub.status.busy": "2022-04-16T16:59:33.378979Z",
     "iopub.status.idle": "2022-04-16T16:59:33.396587Z",
     "shell.execute_reply": "2022-04-16T16:59:33.396050Z"
    },
    "papermill": {
     "duration": 0.102346,
     "end_time": "2022-04-16T16:59:33.398626",
     "exception": false,
     "start_time": "2022-04-16T16:59:33.296280",
     "status": "completed"
    },
    "tags": []
   },
   "outputs": [
    {
     "data": {
      "text/plain": "              t_dat           customer_id  article_id     price  \\\n29030503 2020-07-15       272412481300040   778064028  0.008458   \n29030504 2020-07-15       272412481300040   816592008  0.016932   \n29030505 2020-07-15       272412481300040   621381021  0.033881   \n29030506 2020-07-15       272412481300040   817477003  0.025407   \n29030507 2020-07-15       272412481300040   899088002  0.025407   \n...             ...                   ...         ...       ...   \n5248375  2020-09-22  18438270306572912089   915529003  0.033439   \n5248376  2020-09-22  18438270306572912089   915529005  0.033417   \n5248377  2020-09-22  18438270306572912089   448509014  0.041630   \n5248378  2020-09-22  18438270306572912089   762846027  0.025005   \n5248379  2020-09-22  18438270306572912089   714790020  0.049951   \n\n          sales_channel_id  week  purchased  \n29030503                 1    95        1.0  \n29030504                 1    95        1.0  \n29030505                 1    95        1.0  \n29030506                 1    95        1.0  \n29030507                 1    95        1.0  \n...                    ...   ...        ...  \n5248375                  1   105        0.0  \n5248376                  1   105        0.0  \n5248377                  1   105        0.0  \n5248378                  1   105        0.0  \n5248379                  1   105        0.0  \n\n[18915320 rows x 7 columns]",
      "text/html": "<div>\n<style scoped>\n    .dataframe tbody tr th:only-of-type {\n        vertical-align: middle;\n    }\n\n    .dataframe tbody tr th {\n        vertical-align: top;\n    }\n\n    .dataframe thead th {\n        text-align: right;\n    }\n</style>\n<table border=\"1\" class=\"dataframe\">\n  <thead>\n    <tr style=\"text-align: right;\">\n      <th></th>\n      <th>t_dat</th>\n      <th>customer_id</th>\n      <th>article_id</th>\n      <th>price</th>\n      <th>sales_channel_id</th>\n      <th>week</th>\n      <th>purchased</th>\n    </tr>\n  </thead>\n  <tbody>\n    <tr>\n      <th>29030503</th>\n      <td>2020-07-15</td>\n      <td>272412481300040</td>\n      <td>778064028</td>\n      <td>0.008458</td>\n      <td>1</td>\n      <td>95</td>\n      <td>1.0</td>\n    </tr>\n    <tr>\n      <th>29030504</th>\n      <td>2020-07-15</td>\n      <td>272412481300040</td>\n      <td>816592008</td>\n      <td>0.016932</td>\n      <td>1</td>\n      <td>95</td>\n      <td>1.0</td>\n    </tr>\n    <tr>\n      <th>29030505</th>\n      <td>2020-07-15</td>\n      <td>272412481300040</td>\n      <td>621381021</td>\n      <td>0.033881</td>\n      <td>1</td>\n      <td>95</td>\n      <td>1.0</td>\n    </tr>\n    <tr>\n      <th>29030506</th>\n      <td>2020-07-15</td>\n      <td>272412481300040</td>\n      <td>817477003</td>\n      <td>0.025407</td>\n      <td>1</td>\n      <td>95</td>\n      <td>1.0</td>\n    </tr>\n    <tr>\n      <th>29030507</th>\n      <td>2020-07-15</td>\n      <td>272412481300040</td>\n      <td>899088002</td>\n      <td>0.025407</td>\n      <td>1</td>\n      <td>95</td>\n      <td>1.0</td>\n    </tr>\n    <tr>\n      <th>...</th>\n      <td>...</td>\n      <td>...</td>\n      <td>...</td>\n      <td>...</td>\n      <td>...</td>\n      <td>...</td>\n      <td>...</td>\n    </tr>\n    <tr>\n      <th>5248375</th>\n      <td>2020-09-22</td>\n      <td>18438270306572912089</td>\n      <td>915529003</td>\n      <td>0.033439</td>\n      <td>1</td>\n      <td>105</td>\n      <td>0.0</td>\n    </tr>\n    <tr>\n      <th>5248376</th>\n      <td>2020-09-22</td>\n      <td>18438270306572912089</td>\n      <td>915529005</td>\n      <td>0.033417</td>\n      <td>1</td>\n      <td>105</td>\n      <td>0.0</td>\n    </tr>\n    <tr>\n      <th>5248377</th>\n      <td>2020-09-22</td>\n      <td>18438270306572912089</td>\n      <td>448509014</td>\n      <td>0.041630</td>\n      <td>1</td>\n      <td>105</td>\n      <td>0.0</td>\n    </tr>\n    <tr>\n      <th>5248378</th>\n      <td>2020-09-22</td>\n      <td>18438270306572912089</td>\n      <td>762846027</td>\n      <td>0.025005</td>\n      <td>1</td>\n      <td>105</td>\n      <td>0.0</td>\n    </tr>\n    <tr>\n      <th>5248379</th>\n      <td>2020-09-22</td>\n      <td>18438270306572912089</td>\n      <td>714790020</td>\n      <td>0.049951</td>\n      <td>1</td>\n      <td>105</td>\n      <td>0.0</td>\n    </tr>\n  </tbody>\n</table>\n<p>18915320 rows × 7 columns</p>\n</div>"
     },
     "execution_count": 38,
     "metadata": {},
     "output_type": "execute_result"
    }
   ],
   "source": [
    "data"
   ]
  },
  {
   "cell_type": "code",
   "execution_count": 39,
   "id": "9f4e8cdb",
   "metadata": {
    "execution": {
     "iopub.execute_input": "2022-04-16T16:59:33.565093Z",
     "iopub.status.busy": "2022-04-16T16:59:33.564667Z",
     "iopub.status.idle": "2022-04-16T16:59:40.550065Z",
     "shell.execute_reply": "2022-04-16T16:59:40.549283Z"
    },
    "papermill": {
     "duration": 7.070271,
     "end_time": "2022-04-16T16:59:40.552624",
     "exception": false,
     "start_time": "2022-04-16T16:59:33.482353",
     "status": "completed"
    },
    "tags": []
   },
   "outputs": [],
   "source": [
    "data.drop_duplicates(['customer_id', 'article_id', 'week'], inplace=True)"
   ]
  },
  {
   "cell_type": "code",
   "execution_count": 40,
   "id": "95414c83",
   "metadata": {
    "execution": {
     "iopub.execute_input": "2022-04-16T16:59:40.724050Z",
     "iopub.status.busy": "2022-04-16T16:59:40.723803Z",
     "iopub.status.idle": "2022-04-16T16:59:40.766530Z",
     "shell.execute_reply": "2022-04-16T16:59:40.765805Z"
    },
    "papermill": {
     "duration": 0.131175,
     "end_time": "2022-04-16T16:59:40.768430",
     "exception": false,
     "start_time": "2022-04-16T16:59:40.637255",
     "status": "completed"
    },
    "tags": []
   },
   "outputs": [
    {
     "data": {
      "text/plain": "0.13607582749165664"
     },
     "execution_count": 40,
     "metadata": {},
     "output_type": "execute_result"
    }
   ],
   "source": [
    "data.purchased.mean()"
   ]
  },
  {
   "cell_type": "markdown",
   "id": "4d35aac7",
   "metadata": {
    "papermill": {
     "duration": 0.085919,
     "end_time": "2022-04-16T16:59:40.938934",
     "exception": false,
     "start_time": "2022-04-16T16:59:40.853015",
     "status": "completed"
    },
    "tags": []
   },
   "source": [
    "### Add bestseller information"
   ]
  },
  {
   "cell_type": "code",
   "execution_count": 41,
   "id": "ab6d0095",
   "metadata": {
    "execution": {
     "iopub.execute_input": "2022-04-16T16:59:41.111287Z",
     "iopub.status.busy": "2022-04-16T16:59:41.110981Z",
     "iopub.status.idle": "2022-04-16T16:59:44.046180Z",
     "shell.execute_reply": "2022-04-16T16:59:44.045173Z"
    },
    "papermill": {
     "duration": 3.024555,
     "end_time": "2022-04-16T16:59:44.048610",
     "exception": false,
     "start_time": "2022-04-16T16:59:41.024055",
     "status": "completed"
    },
    "tags": []
   },
   "outputs": [],
   "source": [
    "data = pd.merge(\n",
    "    data,\n",
    "    bestsellers_previous_week[['week', 'article_id', 'bestseller_rank']],\n",
    "    on=['week', 'article_id'],\n",
    "    how='left'\n",
    ")"
   ]
  },
  {
   "cell_type": "code",
   "execution_count": 42,
   "id": "7b18597e",
   "metadata": {
    "execution": {
     "iopub.execute_input": "2022-04-16T16:59:44.188869Z",
     "iopub.status.busy": "2022-04-16T16:59:44.188578Z",
     "iopub.status.idle": "2022-04-16T16:59:45.778521Z",
     "shell.execute_reply": "2022-04-16T16:59:45.777015Z"
    },
    "papermill": {
     "duration": 1.650973,
     "end_time": "2022-04-16T16:59:45.781085",
     "exception": false,
     "start_time": "2022-04-16T16:59:44.130112",
     "status": "completed"
    },
    "tags": []
   },
   "outputs": [],
   "source": [
    "data = data[data.week != data.week.min()]\n",
    "data.bestseller_rank.fillna(999, inplace=True)"
   ]
  },
  {
   "cell_type": "code",
   "execution_count": 43,
   "id": "7d9bb629",
   "metadata": {
    "execution": {
     "iopub.execute_input": "2022-04-16T16:59:45.949058Z",
     "iopub.status.busy": "2022-04-16T16:59:45.948608Z",
     "iopub.status.idle": "2022-04-16T17:00:11.114839Z",
     "shell.execute_reply": "2022-04-16T17:00:11.114301Z"
    },
    "papermill": {
     "duration": 25.250701,
     "end_time": "2022-04-16T17:00:11.116901",
     "exception": false,
     "start_time": "2022-04-16T16:59:45.866200",
     "status": "completed"
    },
    "tags": []
   },
   "outputs": [],
   "source": [
    "data = pd.merge(data, articles, on='article_id', how='left')\n",
    "data = pd.merge(data, customers, on='customer_id', how='left')"
   ]
  },
  {
   "cell_type": "code",
   "execution_count": 44,
   "id": "1560db63",
   "metadata": {
    "execution": {
     "iopub.execute_input": "2022-04-16T17:00:11.232846Z",
     "iopub.status.busy": "2022-04-16T17:00:11.232435Z",
     "iopub.status.idle": "2022-04-16T17:00:17.697954Z",
     "shell.execute_reply": "2022-04-16T17:00:17.696556Z"
    },
    "papermill": {
     "duration": 6.526551,
     "end_time": "2022-04-16T17:00:17.700139",
     "exception": false,
     "start_time": "2022-04-16T17:00:11.173588",
     "status": "completed"
    },
    "tags": []
   },
   "outputs": [],
   "source": [
    "data.sort_values(['week', 'customer_id'], inplace=True)\n",
    "data.reset_index(drop=True, inplace=True)"
   ]
  },
  {
   "cell_type": "code",
   "execution_count": 45,
   "id": "05114189",
   "metadata": {
    "execution": {
     "iopub.execute_input": "2022-04-16T17:00:17.808905Z",
     "iopub.status.busy": "2022-04-16T17:00:17.808208Z",
     "iopub.status.idle": "2022-04-16T17:00:24.463094Z",
     "shell.execute_reply": "2022-04-16T17:00:24.461914Z"
    },
    "papermill": {
     "duration": 6.711593,
     "end_time": "2022-04-16T17:00:24.465301",
     "exception": false,
     "start_time": "2022-04-16T17:00:17.753708",
     "status": "completed"
    },
    "tags": []
   },
   "outputs": [],
   "source": [
    "train = data[data.week != test_week]\n",
    "test = data[data.week==test_week].drop_duplicates(['customer_id', 'article_id', 'sales_channel_id']).copy()"
   ]
  },
  {
   "cell_type": "code",
   "execution_count": 46,
   "id": "d32dfd01",
   "metadata": {
    "execution": {
     "iopub.execute_input": "2022-04-16T17:00:24.578537Z",
     "iopub.status.busy": "2022-04-16T17:00:24.578242Z",
     "iopub.status.idle": "2022-04-16T17:00:25.553839Z",
     "shell.execute_reply": "2022-04-16T17:00:25.552462Z"
    },
    "papermill": {
     "duration": 1.036818,
     "end_time": "2022-04-16T17:00:25.556300",
     "exception": false,
     "start_time": "2022-04-16T17:00:24.519482",
     "status": "completed"
    },
    "tags": []
   },
   "outputs": [],
   "source": [
    "train_baskets = train.groupby(['week', 'customer_id'])['article_id'].count().values"
   ]
  },
  {
   "cell_type": "code",
   "execution_count": 47,
   "id": "2b027da8",
   "metadata": {
    "execution": {
     "iopub.execute_input": "2022-04-16T17:00:25.679286Z",
     "iopub.status.busy": "2022-04-16T17:00:25.679019Z",
     "iopub.status.idle": "2022-04-16T17:00:25.684672Z",
     "shell.execute_reply": "2022-04-16T17:00:25.682706Z"
    },
    "papermill": {
     "duration": 0.070485,
     "end_time": "2022-04-16T17:00:25.687322",
     "exception": false,
     "start_time": "2022-04-16T17:00:25.616837",
     "status": "completed"
    },
    "tags": []
   },
   "outputs": [],
   "source": [
    "columns_to_use = ['article_id', 'product_type_no', 'graphical_appearance_no', 'colour_group_code', 'perceived_colour_value_id',\n",
    "'perceived_colour_master_id', 'department_no', 'index_code',\n",
    "'index_group_no', 'section_no', 'garment_group_no', 'FN', 'Active',\n",
    "'club_member_status', 'fashion_news_frequency', 'age', 'postal_code', 'bestseller_rank']"
   ]
  },
  {
   "cell_type": "code",
   "execution_count": 48,
   "id": "120aecab",
   "metadata": {
    "execution": {
     "iopub.execute_input": "2022-04-16T17:00:25.807133Z",
     "iopub.status.busy": "2022-04-16T17:00:25.806809Z",
     "iopub.status.idle": "2022-04-16T17:00:26.375884Z",
     "shell.execute_reply": "2022-04-16T17:00:26.374148Z"
    },
    "papermill": {
     "duration": 0.633318,
     "end_time": "2022-04-16T17:00:26.379109",
     "exception": false,
     "start_time": "2022-04-16T17:00:25.745791",
     "status": "completed"
    },
    "tags": []
   },
   "outputs": [
    {
     "name": "stdout",
     "output_type": "stream",
     "text": [
      "CPU times: user 102 ms, sys: 93.3 ms, total: 196 ms\n",
      "Wall time: 212 ms\n"
     ]
    }
   ],
   "source": [
    "%%time\n",
    "\n",
    "train_X = train[columns_to_use]\n",
    "train_y = train['purchased']\n",
    "\n",
    "test_X = test[columns_to_use]"
   ]
  },
  {
   "cell_type": "markdown",
   "id": "82745ed2",
   "metadata": {
    "papermill": {
     "duration": 0.09573,
     "end_time": "2022-04-16T17:00:26.563647",
     "exception": false,
     "start_time": "2022-04-16T17:00:26.467917",
     "status": "completed"
    },
    "tags": []
   },
   "source": [
    "# Model training"
   ]
  },
  {
   "cell_type": "code",
   "execution_count": 49,
   "id": "1e949a9d",
   "metadata": {
    "execution": {
     "iopub.execute_input": "2022-04-16T17:00:26.745269Z",
     "iopub.status.busy": "2022-04-16T17:00:26.744826Z",
     "iopub.status.idle": "2022-04-16T17:00:27.951655Z",
     "shell.execute_reply": "2022-04-16T17:00:27.950478Z"
    },
    "papermill": {
     "duration": 1.297829,
     "end_time": "2022-04-16T17:00:27.954191",
     "exception": false,
     "start_time": "2022-04-16T17:00:26.656362",
     "status": "completed"
    },
    "tags": []
   },
   "outputs": [],
   "source": [
    "from lightgbm.sklearn import LGBMRanker"
   ]
  },
  {
   "cell_type": "code",
   "execution_count": 50,
   "id": "cd60dded",
   "metadata": {
    "execution": {
     "iopub.execute_input": "2022-04-16T17:00:28.141811Z",
     "iopub.status.busy": "2022-04-16T17:00:28.141316Z",
     "iopub.status.idle": "2022-04-16T17:00:28.145183Z",
     "shell.execute_reply": "2022-04-16T17:00:28.144409Z"
    },
    "papermill": {
     "duration": 0.101059,
     "end_time": "2022-04-16T17:00:28.147805",
     "exception": false,
     "start_time": "2022-04-16T17:00:28.046746",
     "status": "completed"
    },
    "tags": []
   },
   "outputs": [],
   "source": [
    "ranker = LGBMRanker(\n",
    "    objective=\"lambdarank\",\n",
    "    metric=\"ndcg\",\n",
    "    boosting_type=\"dart\",\n",
    "    n_estimators=1,\n",
    "    importance_type='gain',\n",
    "    verbose=10\n",
    ")"
   ]
  },
  {
   "cell_type": "code",
   "execution_count": 51,
   "id": "25f040a4",
   "metadata": {
    "execution": {
     "iopub.execute_input": "2022-04-16T17:00:28.325996Z",
     "iopub.status.busy": "2022-04-16T17:00:28.325629Z",
     "iopub.status.idle": "2022-04-16T17:00:39.300037Z",
     "shell.execute_reply": "2022-04-16T17:00:39.299296Z"
    },
    "papermill": {
     "duration": 11.066279,
     "end_time": "2022-04-16T17:00:39.301931",
     "exception": false,
     "start_time": "2022-04-16T17:00:28.235652",
     "status": "completed"
    },
    "tags": []
   },
   "outputs": [
    {
     "name": "stdout",
     "output_type": "stream",
     "text": [
      "[LightGBM] [Debug] Dataset::GetMultiBinFromSparseFeatures: sparse rate 0.848850\n",
      "[LightGBM] [Debug] Dataset::GetMultiBinFromAllFeatures: sparse rate 0.153099\n",
      "[LightGBM] [Debug] init for col-wise cost 0.063172 seconds, init for row-wise cost 0.146394 seconds\n",
      "[LightGBM] [Info] Auto-choosing row-wise multi-threading, the overhead of testing was 0.165762 seconds.\n",
      "You can set `force_row_wise=true` to remove the overhead.\n",
      "And if memory is not enough, you can set `force_col_wise=true`.\n",
      "[LightGBM] [Debug] Using Dense Multi-Val Bin\n",
      "[LightGBM] [Info] Total Bins 1079\n",
      "[LightGBM] [Info] Number of data points in the train set: 11381612, number of used features: 18\n",
      "[LightGBM] [Debug] Trained a tree with leaves = 31 and depth = 12\n",
      "CPU times: user 8.14 s, sys: 918 ms, total: 9.06 s\n",
      "Wall time: 2.54 s\n"
     ]
    }
   ],
   "source": [
    "%%time\n",
    "\n",
    "ranker = ranker.fit(\n",
    "    train_X,\n",
    "    train_y,\n",
    "    group=train_baskets,\n",
    ")"
   ]
  },
  {
   "cell_type": "code",
   "execution_count": 52,
   "id": "4b6b5a94",
   "metadata": {
    "execution": {
     "iopub.execute_input": "2022-04-16T17:00:39.450894Z",
     "iopub.status.busy": "2022-04-16T17:00:39.450610Z",
     "iopub.status.idle": "2022-04-16T17:00:39.464086Z",
     "shell.execute_reply": "2022-04-16T17:00:39.462437Z"
    },
    "papermill": {
     "duration": 0.107527,
     "end_time": "2022-04-16T17:00:39.466759",
     "exception": false,
     "start_time": "2022-04-16T17:00:39.359232",
     "status": "completed"
    },
    "tags": []
   },
   "outputs": [
    {
     "name": "stdout",
     "output_type": "stream",
     "text": [
      "bestseller_rank 0.9989805519216203\n",
      "age 0.00024136038957903926\n",
      "article_id 0.00017160828400263902\n",
      "garment_group_no 0.0001448188543340445\n",
      "department_no 9.637421875769266e-05\n",
      "product_type_no 9.014783292439592e-05\n",
      "section_no 7.067204716548531e-05\n",
      "postal_code 6.792197441369627e-05\n",
      "club_member_status 6.519780240033951e-05\n",
      "colour_group_code 5.358754121027148e-05\n",
      "perceived_colour_value_id 1.775913359216025e-05\n",
      "fashion_news_frequency 0.0\n",
      "Active 0.0\n",
      "FN 0.0\n",
      "index_code 0.0\n",
      "perceived_colour_master_id 0.0\n",
      "graphical_appearance_no 0.0\n",
      "index_group_no 0.0\n"
     ]
    }
   ],
   "source": [
    "for i in ranker.feature_importances_.argsort()[::-1]:\n",
    "    print(columns_to_use[i], ranker.feature_importances_[i]/ranker.feature_importances_.sum())"
   ]
  },
  {
   "cell_type": "markdown",
   "id": "00faf029",
   "metadata": {
    "papermill": {
     "duration": 0.056904,
     "end_time": "2022-04-16T17:00:39.580889",
     "exception": false,
     "start_time": "2022-04-16T17:00:39.523985",
     "status": "completed"
    },
    "tags": []
   },
   "source": [
    "# Calculate predictions"
   ]
  },
  {
   "cell_type": "code",
   "execution_count": 53,
   "id": "7e862846",
   "metadata": {
    "execution": {
     "iopub.execute_input": "2022-04-16T17:00:39.695315Z",
     "iopub.status.busy": "2022-04-16T17:00:39.694825Z",
     "iopub.status.idle": "2022-04-16T17:00:52.775003Z",
     "shell.execute_reply": "2022-04-16T17:00:52.773289Z"
    },
    "papermill": {
     "duration": 13.140874,
     "end_time": "2022-04-16T17:00:52.777866",
     "exception": false,
     "start_time": "2022-04-16T17:00:39.636992",
     "status": "completed"
    },
    "tags": []
   },
   "outputs": [
    {
     "name": "stdout",
     "output_type": "stream",
     "text": [
      "CPU times: user 1e+03 ns, sys: 0 ns, total: 1e+03 ns\n",
      "Wall time: 2.86 µs\n"
     ]
    }
   ],
   "source": [
    "%time\n",
    "\n",
    "test['preds'] = ranker.predict(test_X)\n",
    "\n",
    "c_id2predicted_article_ids = test \\\n",
    "    .sort_values(['customer_id', 'preds'], ascending=False) \\\n",
    "    .groupby('customer_id')['article_id'].apply(list).to_dict()\n",
    "\n",
    "bestsellers_last_week = \\\n",
    "    bestsellers_previous_week[bestsellers_previous_week.week == bestsellers_previous_week.week.max()]['article_id'].tolist()"
   ]
  },
  {
   "cell_type": "markdown",
   "id": "de045e98",
   "metadata": {
    "papermill": {
     "duration": 0.07093,
     "end_time": "2022-04-16T17:00:52.913143",
     "exception": false,
     "start_time": "2022-04-16T17:00:52.842213",
     "status": "completed"
    },
    "tags": []
   },
   "source": [
    "# Create submission"
   ]
  },
  {
   "cell_type": "code",
   "execution_count": 55,
   "id": "43e4fda7",
   "metadata": {
    "execution": {
     "iopub.execute_input": "2022-04-16T17:00:53.060085Z",
     "iopub.status.busy": "2022-04-16T17:00:53.058916Z",
     "iopub.status.idle": "2022-04-16T17:00:59.494984Z",
     "shell.execute_reply": "2022-04-16T17:00:59.493579Z"
    },
    "papermill": {
     "duration": 6.515044,
     "end_time": "2022-04-16T17:00:59.497708",
     "exception": false,
     "start_time": "2022-04-16T17:00:52.982664",
     "status": "completed"
    },
    "tags": []
   },
   "outputs": [],
   "source": [
    "sub = pd.read_csv('sample_submission.csv')"
   ]
  },
  {
   "cell_type": "code",
   "execution_count": 107,
   "id": "a35ac969",
   "metadata": {
    "execution": {
     "iopub.execute_input": "2022-04-16T17:00:59.683014Z",
     "iopub.status.busy": "2022-04-16T17:00:59.682737Z",
     "iopub.status.idle": "2022-04-16T17:01:06.006472Z",
     "shell.execute_reply": "2022-04-16T17:01:06.005532Z"
    },
    "papermill": {
     "duration": 6.421346,
     "end_time": "2022-04-16T17:01:06.009173",
     "exception": false,
     "start_time": "2022-04-16T17:00:59.587827",
     "status": "completed"
    },
    "tags": []
   },
   "outputs": [],
   "source": [
    "import ast\n",
    "\n",
    "\n",
    "preds = []\n",
    "\n",
    "# Load opposite the articles we want to replace\n",
    "replacement_articles = pd.read_csv('frequent_customer_articles.csv')\n",
    "unique_customer_ids = replacement_articles['customer_id'].unique().tolist()  # This will get you all unique customer_ids in a list.\n",
    "\n",
    "# Initialize a new column 'frequent_buyer' with False for all rows\n",
    "sub['frequent_buyer'] = False\n",
    "\n",
    "for index, row in sub.iterrows():\n",
    "    c_id = hex_id_to_int(row['customer_id'][-16:])\n",
    "\n",
    "    if row['customer_id'] in unique_customer_ids:\n",
    "        sub.at[index, 'frequent_buyer'] = True\n",
    "        customer_articles = replacement_articles[replacement_articles['customer_id'] == row['customer_id']]\n",
    "        articles_string = customer_articles['article_ids'].iloc[0]\n",
    "        articles_list = ast.literal_eval(articles_string)\n",
    "        num_predictions_to_keep = 12 - len(articles_list)\n",
    "\n",
    "        # Get the current predictions for the customer\n",
    "        pred = c_id2predicted_article_ids.get(c_id, [])\n",
    "        pred = pred + bestsellers_last_week\n",
    "\n",
    "        # Keep only the first 'num_predictions_to_keep' predictions\n",
    "        pred = pred[:num_predictions_to_keep]\n",
    "        # Extend the predictions with the articles from 'articles_list'\n",
    "        pred.extend(articles_list)\n",
    "        preds.append(pred[:12])\n",
    "\n",
    "    else:\n",
    "        pred = c_id2predicted_article_ids.get(c_id, [])\n",
    "        pred = pred + bestsellers_last_week\n",
    "        preds.append(pred[:12])\n"
   ]
  },
  {
   "cell_type": "code",
   "execution_count": 108,
   "outputs": [
    {
     "name": "stdout",
     "output_type": "stream",
     "text": [
      "1371980\n",
      "1371980\n"
     ]
    }
   ],
   "source": [
    "# Check the length of `preds` and the number of rows in `sub`\n",
    "print(len(preds))  # Should match the number of rows in `sub`\n",
    "print(len(sub))    # Should match the length of `preds`"
   ],
   "metadata": {
    "collapsed": false,
    "pycharm": {
     "name": "#%%\n"
    }
   }
  },
  {
   "cell_type": "code",
   "execution_count": 109,
   "id": "3f8f9304",
   "metadata": {
    "execution": {
     "iopub.execute_input": "2022-04-16T17:01:06.132150Z",
     "iopub.status.busy": "2022-04-16T17:01:06.131106Z",
     "iopub.status.idle": "2022-04-16T17:01:12.969816Z",
     "shell.execute_reply": "2022-04-16T17:01:12.969035Z"
    },
    "papermill": {
     "duration": 6.90116,
     "end_time": "2022-04-16T17:01:12.972216",
     "exception": false,
     "start_time": "2022-04-16T17:01:06.071056",
     "status": "completed"
    },
    "tags": []
   },
   "outputs": [],
   "source": [
    "preds = [' '.join(['0' + str(p) for p in ps]) for ps in preds]\n",
    "sub.prediction = preds"
   ]
  },
  {
   "cell_type": "code",
   "execution_count": 110,
   "id": "62d8338d",
   "metadata": {
    "execution": {
     "iopub.execute_input": "2022-04-16T17:01:13.146516Z",
     "iopub.status.busy": "2022-04-16T17:01:13.145811Z",
     "iopub.status.idle": "2022-04-16T17:01:34.943291Z",
     "shell.execute_reply": "2022-04-16T17:01:34.942187Z"
    },
    "papermill": {
     "duration": 21.887955,
     "end_time": "2022-04-16T17:01:34.946089",
     "exception": false,
     "start_time": "2022-04-16T17:01:13.058134",
     "status": "completed"
    },
    "tags": []
   },
   "outputs": [],
   "source": [
    "sub_name = 'advanced_model_submission'\n",
    "sub.to_csv(f'{sub_name}.csv.gz', index=False)"
   ]
  },
  {
   "cell_type": "code",
   "execution_count": null,
   "outputs": [],
   "source": [],
   "metadata": {
    "collapsed": false,
    "pycharm": {
     "name": "#%%\n"
    }
   }
  }
 ],
 "metadata": {
  "kernelspec": {
   "display_name": "Python 3",
   "language": "python",
   "name": "python3"
  },
  "language_info": {
   "codemirror_mode": {
    "name": "ipython",
    "version": 3
   },
   "file_extension": ".py",
   "mimetype": "text/x-python",
   "name": "python",
   "nbconvert_exporter": "python",
   "pygments_lexer": "ipython3",
   "version": "3.7.12"
  },
  "papermill": {
   "default_parameters": {},
   "duration": 185.112876,
   "end_time": "2022-04-16T17:01:37.553573",
   "environment_variables": {},
   "exception": null,
   "input_path": "__notebook__.ipynb",
   "output_path": "__notebook__.ipynb",
   "parameters": {},
   "start_time": "2022-04-16T16:58:32.440697",
   "version": "2.3.4"
  }
 },
 "nbformat": 4,
 "nbformat_minor": 5
}