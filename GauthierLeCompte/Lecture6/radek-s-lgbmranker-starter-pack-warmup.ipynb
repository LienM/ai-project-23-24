{
 "cells": [
  {
   "cell_type": "markdown",
   "id": "247666fb",
   "metadata": {
    "papermill": {
     "duration": 0.027843,
     "end_time": "2022-04-16T12:21:43.798292",
     "exception": false,
     "start_time": "2022-04-16T12:21:43.770449",
     "status": "completed"
    },
    "tags": []
   },
   "source": [
    "[NB 03](https://github.com/radekosmulski/personalized_fashion_recs/blob/messing_around/03_Basic_lgbm_with_idxs_restart.ipynb) didn't quite work.\n",
    "\n",
    "The two likely reasons for that are:\n",
    " - issues with how I am generating train data\n",
    " - false assumption that you can toss whatever at a ranking model and it will do the rest\n",
    "\n",
    "In this notebook, I want to put the groundwork needed for growing a good solution. First of all, that will require a robust and fast local validation scheme. We know that using the last week of train data for validation work and tracks the leaderboard nicely.\n",
    "\n",
    "Secondly, we want to start from a kernel of a solution that we can extend. This [notebook](https://www.kaggle.com/hengzheng/time-is-our-best-friend-v2) on kaggle seems to me like a great starting point.\n",
    "\n",
    "The plan is to develop the functionality needed for a nice setup of a solution that we will reuse in NB 05. Along the way I hope to learn a bit more about the data, about some of the trends that I might want to model through the features I will engineer.\n",
    "\n",
    "The plan is:\n",
    "* implement a quick training pipeline leading to good validation\n",
    "* train a ranking model on candidates we know to be good\n",
    "* only generate new training data / candidates while validating whether we are moving in the right direction using local CV\n",
    "* start with building sensible features and see whether they move the needle on the score\n",
    "\n",
    "The truth is I do not know what will work. These RecSys models are a completely new breed of models to me. But I can set the problem up in a way as to help me learn. And that is what I am going to do :).\n",
    "\n",
    "Once I get this working I will breathe a sigh of relief and will jump into reading papers and drawing inspiration from there.\n",
    "\n",
    "Let's get started.\n",
    "\n",
    "NOTE: You are welcome to check out the earlier code that I wrote which can be found on [this branch](https://github.com/radekosmulski/personalized_fashion_recs/tree/messing_around). I learned a lot about RecSys models and this particular problem through it. But it has quite a few bugs and a couple of issues I now know off with regards to the approach. **You should not need any of the earlier code to run the notebooks in the main branch of this repo.**"
   ]
  },
  {
   "cell_type": "code",
   "execution_count": 16,
   "id": "2cd6646a",
   "metadata": {
    "execution": {
     "iopub.execute_input": "2022-04-16T12:21:43.853365Z",
     "iopub.status.busy": "2022-04-16T12:21:43.852838Z",
     "iopub.status.idle": "2022-04-16T12:21:45.022940Z",
     "shell.execute_reply": "2022-04-16T12:21:45.021936Z"
    },
    "papermill": {
     "duration": 1.201134,
     "end_time": "2022-04-16T12:21:45.025814",
     "exception": false,
     "start_time": "2022-04-16T12:21:43.824680",
     "status": "completed"
    },
    "tags": []
   },
   "outputs": [
    {
     "name": "stdout",
     "output_type": "stream",
     "text": [
      "dyld[12938]: Library not loaded: /opt/homebrew/opt/libunistring/lib/libunistring.2.dylib\r\n",
      "  Referenced from: <DC03D607-E12F-36EF-B99B-F9FAE69BDA4E> /opt/homebrew/Cellar/libidn2/2.3.4/lib/libidn2.0.dylib\r\n",
      "  Reason: tried: '/opt/homebrew/opt/libunistring/lib/libunistring.2.dylib' (no such file), '/System/Volumes/Preboot/Cryptexes/OS/opt/homebrew/opt/libunistring/lib/libunistring.2.dylib' (no such file), '/opt/homebrew/opt/libunistring/lib/libunistring.2.dylib' (no such file), '/usr/local/lib/libunistring.2.dylib' (no such file), '/usr/lib/libunistring.2.dylib' (no such file, not in dyld cache), '/opt/homebrew/Cellar/libunistring/1.1/lib/libunistring.2.dylib' (no such file), '/System/Volumes/Preboot/Cryptexes/OS/opt/homebrew/Cellar/libunistring/1.1/lib/libunistring.2.dylib' (no such file), '/opt/homebrew/Cellar/libunistring/1.1/lib/libunistring.2.dylib' (no such file), '/usr/local/lib/libunistring.2.dylib' (no such file), '/usr/lib/libunistring.2.dylib' (no such file, not in dyld cache)\r\n"
     ]
    }
   ],
   "source": [
    "!wget https://raw.githubusercontent.com/benhamner/Metrics/master/Python/ml_metrics/average_precision.py"
   ]
  },
  {
   "cell_type": "code",
   "execution_count": 17,
   "id": "5d3ac989",
   "metadata": {
    "execution": {
     "iopub.execute_input": "2022-04-16T12:21:45.085871Z",
     "iopub.status.busy": "2022-04-16T12:21:45.085543Z",
     "iopub.status.idle": "2022-04-16T12:21:46.348125Z",
     "shell.execute_reply": "2022-04-16T12:21:46.346972Z"
    },
    "papermill": {
     "duration": 1.295417,
     "end_time": "2022-04-16T12:21:46.350790",
     "exception": false,
     "start_time": "2022-04-16T12:21:45.055373",
     "status": "completed"
    },
    "tags": []
   },
   "outputs": [],
   "source": [
    "# helper functions\n",
    "from sklearn.base import BaseEstimator, TransformerMixin\n",
    "import numpy as np\n",
    "from average_precision import apk\n",
    "\n",
    "# https://www.kaggle.com/c/h-and-m-personalized-fashion-recommendations/discussion/308635\n",
    "def customer_hex_id_to_int(series):\n",
    "    return series.str[-16:].apply(hex_id_to_int)\n",
    "\n",
    "def hex_id_to_int(str):\n",
    "    return int(str[-16:], 16)\n",
    "\n",
    "def article_id_str_to_int(series):\n",
    "    return series.astype('int32')\n",
    "\n",
    "def article_id_int_to_str(series):\n",
    "    return '0' + series.astype('str')\n",
    "\n",
    "class Categorize(BaseEstimator, TransformerMixin):\n",
    "    def __init__(self, min_examples=0):\n",
    "        self.min_examples = min_examples\n",
    "        self.categories = []\n",
    "        \n",
    "    def fit(self, X):\n",
    "        for i in range(X.shape[1]):\n",
    "            vc = X.iloc[:, i].value_counts()\n",
    "            self.categories.append(vc[vc > self.min_examples].index.tolist())\n",
    "        return self\n",
    "\n",
    "    def transform(self, X):\n",
    "        data = {X.columns[i]: pd.Categorical(X.iloc[:, i], categories=self.categories[i]).codes for i in range(X.shape[1])}\n",
    "        return pd.DataFrame(data=data)"
   ]
  },
  {
   "cell_type": "markdown",
   "id": "14db50ed",
   "metadata": {
    "papermill": {
     "duration": 0.027523,
     "end_time": "2022-04-16T12:21:46.406766",
     "exception": false,
     "start_time": "2022-04-16T12:21:46.379243",
     "status": "completed"
    },
    "tags": []
   },
   "source": [
    "We want this to be fast. I can get as much RAM as I will ever need through VMs on GCP, but that is not the point. I want to see how far I can push my local hardware, but this goes even beyond that.\n",
    "\n",
    "I need the speed to make a good use of my time as I continue to build my understanding of what RecSys models are about. And the path to this leads through making the data I will work on smaller."
   ]
  },
  {
   "cell_type": "code",
   "execution_count": 18,
   "id": "94cd3410",
   "metadata": {
    "execution": {
     "iopub.execute_input": "2022-04-16T12:21:46.465160Z",
     "iopub.status.busy": "2022-04-16T12:21:46.464430Z",
     "iopub.status.idle": "2022-04-16T12:23:12.354179Z",
     "shell.execute_reply": "2022-04-16T12:23:12.353108Z"
    },
    "papermill": {
     "duration": 85.951549,
     "end_time": "2022-04-16T12:23:12.386361",
     "exception": false,
     "start_time": "2022-04-16T12:21:46.434812",
     "status": "completed"
    },
    "tags": []
   },
   "outputs": [
    {
     "name": "stdout",
     "output_type": "stream",
     "text": [
      "CPU times: user 19.1 s, sys: 1.66 s, total: 20.7 s\n",
      "Wall time: 20.8 s\n"
     ]
    }
   ],
   "source": [
    "%%time\n",
    "import pandas as pd\n",
    "\n",
    "transactions = pd.read_csv('transactions_train.csv', dtype={\"article_id\": \"str\"})\n",
    "customers = pd.read_csv('customers.csv')\n",
    "articles = pd.read_csv('articles.csv', dtype={\"article_id\": \"str\"})"
   ]
  },
  {
   "cell_type": "code",
   "execution_count": 19,
   "id": "aa75de3a",
   "metadata": {
    "execution": {
     "iopub.execute_input": "2022-04-16T12:23:12.446370Z",
     "iopub.status.busy": "2022-04-16T12:23:12.446032Z",
     "iopub.status.idle": "2022-04-16T12:23:31.861511Z",
     "shell.execute_reply": "2022-04-16T12:23:31.860613Z"
    },
    "papermill": {
     "duration": 19.449107,
     "end_time": "2022-04-16T12:23:31.864280",
     "exception": false,
     "start_time": "2022-04-16T12:23:12.415173",
     "status": "completed"
    },
    "tags": []
   },
   "outputs": [
    {
     "data": {
      "text/plain": "Index                      128\nt_dat               2129817708\ncustomer_id         3846387204\narticle_id          2129817708\nprice                254306592\nsales_channel_id     254306592\ndtype: int64"
     },
     "execution_count": 19,
     "metadata": {},
     "output_type": "execute_result"
    }
   ],
   "source": [
    "transactions.memory_usage(deep=True)"
   ]
  },
  {
   "cell_type": "code",
   "execution_count": 20,
   "id": "bf0b35ed",
   "metadata": {
    "execution": {
     "iopub.execute_input": "2022-04-16T12:23:31.929123Z",
     "iopub.status.busy": "2022-04-16T12:23:31.928828Z",
     "iopub.status.idle": "2022-04-16T12:23:51.384406Z",
     "shell.execute_reply": "2022-04-16T12:23:51.383683Z"
    },
    "papermill": {
     "duration": 19.492518,
     "end_time": "2022-04-16T12:23:51.386834",
     "exception": false,
     "start_time": "2022-04-16T12:23:31.894316",
     "status": "completed"
    },
    "tags": []
   },
   "outputs": [
    {
     "name": "stdout",
     "output_type": "stream",
     "text": [
      "<class 'pandas.core.frame.DataFrame'>\n",
      "RangeIndex: 31788324 entries, 0 to 31788323\n",
      "Data columns (total 5 columns):\n",
      " #   Column            Dtype  \n",
      "---  ------            -----  \n",
      " 0   t_dat             object \n",
      " 1   customer_id       object \n",
      " 2   article_id        object \n",
      " 3   price             float64\n",
      " 4   sales_channel_id  int64  \n",
      "dtypes: float64(1), int64(1), object(3)\n",
      "memory usage: 8.0 GB\n"
     ]
    }
   ],
   "source": [
    "transactions.info(memory_usage='deep')"
   ]
  },
  {
   "cell_type": "code",
   "execution_count": 21,
   "id": "4d85685a",
   "metadata": {
    "execution": {
     "iopub.execute_input": "2022-04-16T12:23:51.450425Z",
     "iopub.status.busy": "2022-04-16T12:23:51.449848Z",
     "iopub.status.idle": "2022-04-16T12:24:00.769638Z",
     "shell.execute_reply": "2022-04-16T12:24:00.768460Z"
    },
    "papermill": {
     "duration": 9.354909,
     "end_time": "2022-04-16T12:24:00.772070",
     "exception": false,
     "start_time": "2022-04-16T12:23:51.417161",
     "status": "completed"
    },
    "tags": []
   },
   "outputs": [
    {
     "name": "stdout",
     "output_type": "stream",
     "text": [
      "CPU times: user 4.5 s, sys: 143 ms, total: 4.64 s\n",
      "Wall time: 4.64 s\n"
     ]
    },
    {
     "data": {
      "text/plain": "1362281"
     },
     "execution_count": 21,
     "metadata": {},
     "output_type": "execute_result"
    }
   ],
   "source": [
    "%%time\n",
    "transactions['customer_id'].nunique()"
   ]
  },
  {
   "cell_type": "code",
   "execution_count": 22,
   "id": "b0ef4c75",
   "metadata": {
    "execution": {
     "iopub.execute_input": "2022-04-16T12:24:00.841510Z",
     "iopub.status.busy": "2022-04-16T12:24:00.840756Z",
     "iopub.status.idle": "2022-04-16T12:24:54.474494Z",
     "shell.execute_reply": "2022-04-16T12:24:54.473372Z"
    },
    "papermill": {
     "duration": 53.703531,
     "end_time": "2022-04-16T12:24:54.509683",
     "exception": false,
     "start_time": "2022-04-16T12:24:00.806152",
     "status": "completed"
    },
    "tags": []
   },
   "outputs": [
    {
     "name": "stdout",
     "output_type": "stream",
     "text": [
      "CPU times: user 13.5 s, sys: 1.51 s, total: 15 s\n",
      "Wall time: 15.4 s\n"
     ]
    },
    {
     "data": {
      "text/plain": "1362281"
     },
     "execution_count": 22,
     "metadata": {},
     "output_type": "execute_result"
    }
   ],
   "source": [
    "%%time\n",
    "transactions['customer_id'] = customer_hex_id_to_int(transactions['customer_id'])\n",
    "transactions['customer_id'].nunique()"
   ]
  },
  {
   "cell_type": "code",
   "execution_count": 23,
   "id": "3733aeb2",
   "metadata": {
    "execution": {
     "iopub.execute_input": "2022-04-16T12:24:54.576338Z",
     "iopub.status.busy": "2022-04-16T12:24:54.575637Z",
     "iopub.status.idle": "2022-04-16T12:25:07.210187Z",
     "shell.execute_reply": "2022-04-16T12:25:07.209077Z"
    },
    "papermill": {
     "duration": 12.670617,
     "end_time": "2022-04-16T12:25:07.212741",
     "exception": false,
     "start_time": "2022-04-16T12:24:54.542124",
     "status": "completed"
    },
    "tags": []
   },
   "outputs": [
    {
     "data": {
      "text/plain": "Index                      128\nt_dat               2129817708\ncustomer_id          254306592\narticle_id          2129817708\nprice                254306592\nsales_channel_id     254306592\ndtype: int64"
     },
     "execution_count": 23,
     "metadata": {},
     "output_type": "execute_result"
    }
   ],
   "source": [
    "transactions.memory_usage(deep=True)"
   ]
  },
  {
   "cell_type": "code",
   "execution_count": 24,
   "id": "fe293c79",
   "metadata": {
    "execution": {
     "iopub.execute_input": "2022-04-16T12:25:07.279369Z",
     "iopub.status.busy": "2022-04-16T12:25:07.278514Z",
     "iopub.status.idle": "2022-04-16T12:25:20.029851Z",
     "shell.execute_reply": "2022-04-16T12:25:20.028904Z"
    },
    "papermill": {
     "duration": 12.788923,
     "end_time": "2022-04-16T12:25:20.033879",
     "exception": false,
     "start_time": "2022-04-16T12:25:07.244956",
     "status": "completed"
    },
    "tags": []
   },
   "outputs": [
    {
     "name": "stdout",
     "output_type": "stream",
     "text": [
      "<class 'pandas.core.frame.DataFrame'>\n",
      "RangeIndex: 31788324 entries, 0 to 31788323\n",
      "Data columns (total 5 columns):\n",
      " #   Column            Dtype  \n",
      "---  ------            -----  \n",
      " 0   t_dat             object \n",
      " 1   customer_id       uint64 \n",
      " 2   article_id        object \n",
      " 3   price             float64\n",
      " 4   sales_channel_id  int64  \n",
      "dtypes: float64(1), int64(1), object(2), uint64(1)\n",
      "memory usage: 4.7 GB\n"
     ]
    }
   ],
   "source": [
    "transactions.info(memory_usage='deep')"
   ]
  },
  {
   "cell_type": "markdown",
   "id": "de972b0b",
   "metadata": {
    "papermill": {
     "duration": 0.033859,
     "end_time": "2022-04-16T12:25:20.102893",
     "exception": false,
     "start_time": "2022-04-16T12:25:20.069034",
     "status": "completed"
    },
    "tags": []
   },
   "source": [
    "Nice!\n",
    "\n",
    "Initially, I wanted to get rid of the `t_dat` column but on second thought I am not a fan.\n",
    "\n",
    "I am all for speed and reducing weight, but the main purpose of this activity is to increase developer productivity.\n",
    "\n",
    "If I fall back down to ints representing year, week, day I will be certainly trading developer productivity for fewer CPU cycles that are needed (and I want to go in the exact opposite direction! developer productivity > (nearly) anything else)"
   ]
  },
  {
   "cell_type": "code",
   "execution_count": 25,
   "id": "0d9a0cca",
   "metadata": {
    "execution": {
     "iopub.execute_input": "2022-04-16T12:25:20.171735Z",
     "iopub.status.busy": "2022-04-16T12:25:20.171153Z",
     "iopub.status.idle": "2022-04-16T12:25:26.524751Z",
     "shell.execute_reply": "2022-04-16T12:25:26.524062Z"
    },
    "papermill": {
     "duration": 6.39158,
     "end_time": "2022-04-16T12:25:26.527804",
     "exception": false,
     "start_time": "2022-04-16T12:25:20.136224",
     "status": "completed"
    },
    "tags": []
   },
   "outputs": [
    {
     "name": "stdout",
     "output_type": "stream",
     "text": [
      "CPU times: user 1.67 s, sys: 129 ms, total: 1.8 s\n",
      "Wall time: 1.8 s\n"
     ]
    }
   ],
   "source": [
    "%%time\n",
    "\n",
    "transactions.t_dat = pd.to_datetime(transactions.t_dat, format='%Y-%m-%d')"
   ]
  },
  {
   "cell_type": "code",
   "execution_count": 26,
   "id": "2bfae010",
   "metadata": {
    "execution": {
     "iopub.execute_input": "2022-04-16T12:25:26.605974Z",
     "iopub.status.busy": "2022-04-16T12:25:26.605381Z",
     "iopub.status.idle": "2022-04-16T12:25:28.066515Z",
     "shell.execute_reply": "2022-04-16T12:25:28.065553Z"
    },
    "papermill": {
     "duration": 1.503904,
     "end_time": "2022-04-16T12:25:28.069411",
     "exception": false,
     "start_time": "2022-04-16T12:25:26.565507",
     "status": "completed"
    },
    "tags": []
   },
   "outputs": [],
   "source": [
    "transactions['week'] = 104 - (transactions.t_dat.max() - transactions.t_dat).dt.days // 7"
   ]
  },
  {
   "cell_type": "code",
   "execution_count": 27,
   "id": "90457b8f",
   "metadata": {
    "execution": {
     "iopub.execute_input": "2022-04-16T12:25:28.139678Z",
     "iopub.status.busy": "2022-04-16T12:25:28.139315Z",
     "iopub.status.idle": "2022-04-16T12:25:34.557066Z",
     "shell.execute_reply": "2022-04-16T12:25:34.555802Z"
    },
    "papermill": {
     "duration": 6.45566,
     "end_time": "2022-04-16T12:25:34.559455",
     "exception": false,
     "start_time": "2022-04-16T12:25:28.103795",
     "status": "completed"
    },
    "tags": []
   },
   "outputs": [
    {
     "name": "stdout",
     "output_type": "stream",
     "text": [
      "<class 'pandas.core.frame.DataFrame'>\n",
      "RangeIndex: 31788324 entries, 0 to 31788323\n",
      "Data columns (total 6 columns):\n",
      " #   Column            Dtype         \n",
      "---  ------            -----         \n",
      " 0   t_dat             datetime64[ns]\n",
      " 1   customer_id       uint64        \n",
      " 2   article_id        object        \n",
      " 3   price             float64       \n",
      " 4   sales_channel_id  int64         \n",
      " 5   week              int64         \n",
      "dtypes: datetime64[ns](1), float64(1), int64(2), object(1), uint64(1)\n",
      "memory usage: 3.2 GB\n"
     ]
    }
   ],
   "source": [
    "transactions.info(memory_usage='deep')"
   ]
  },
  {
   "cell_type": "markdown",
   "id": "b094879d",
   "metadata": {
    "papermill": {
     "duration": 0.033748,
     "end_time": "2022-04-16T12:25:34.627205",
     "exception": false,
     "start_time": "2022-04-16T12:25:34.593457",
     "status": "completed"
    },
    "tags": []
   },
   "source": [
    "Let's do something about the `article_id` (both here and on `articles`) and let's take a closer look at `price`, `sales_channel_id` and `week`."
   ]
  },
  {
   "cell_type": "code",
   "execution_count": 28,
   "id": "7390ff52",
   "metadata": {
    "execution": {
     "iopub.execute_input": "2022-04-16T12:25:34.696599Z",
     "iopub.status.busy": "2022-04-16T12:25:34.696066Z",
     "iopub.status.idle": "2022-04-16T12:25:40.759997Z",
     "shell.execute_reply": "2022-04-16T12:25:40.758946Z"
    },
    "papermill": {
     "duration": 6.102098,
     "end_time": "2022-04-16T12:25:40.762835",
     "exception": false,
     "start_time": "2022-04-16T12:25:34.660737",
     "status": "completed"
    },
    "tags": []
   },
   "outputs": [],
   "source": [
    "transactions.article_id = article_id_str_to_int(transactions.article_id)\n",
    "articles.article_id = article_id_str_to_int(articles.article_id)\n",
    "\n",
    "transactions.week = transactions.week.astype('int8')\n",
    "transactions.sales_channel_id = transactions.sales_channel_id.astype('int8')\n",
    "transactions.price = transactions.price.astype('float32')"
   ]
  },
  {
   "cell_type": "code",
   "execution_count": 29,
   "id": "4c28d40b",
   "metadata": {
    "execution": {
     "iopub.execute_input": "2022-04-16T12:25:40.833261Z",
     "iopub.status.busy": "2022-04-16T12:25:40.832979Z",
     "iopub.status.idle": "2022-04-16T12:25:40.841369Z",
     "shell.execute_reply": "2022-04-16T12:25:40.840531Z"
    },
    "papermill": {
     "duration": 0.047449,
     "end_time": "2022-04-16T12:25:40.844707",
     "exception": false,
     "start_time": "2022-04-16T12:25:40.797258",
     "status": "completed"
    },
    "tags": []
   },
   "outputs": [
    {
     "name": "stdout",
     "output_type": "stream",
     "text": [
      "<class 'pandas.core.frame.DataFrame'>\n",
      "RangeIndex: 31788324 entries, 0 to 31788323\n",
      "Data columns (total 6 columns):\n",
      " #   Column            Dtype         \n",
      "---  ------            -----         \n",
      " 0   t_dat             datetime64[ns]\n",
      " 1   customer_id       uint64        \n",
      " 2   article_id        int32         \n",
      " 3   price             float32       \n",
      " 4   sales_channel_id  int8          \n",
      " 5   week              int8          \n",
      "dtypes: datetime64[ns](1), float32(1), int32(1), int8(2), uint64(1)\n",
      "memory usage: 788.2 MB\n"
     ]
    }
   ],
   "source": [
    "transactions.info(memory_usage='deep')"
   ]
  },
  {
   "cell_type": "code",
   "execution_count": 30,
   "id": "10623914",
   "metadata": {
    "execution": {
     "iopub.execute_input": "2022-04-16T12:25:40.916545Z",
     "iopub.status.busy": "2022-04-16T12:25:40.916262Z",
     "iopub.status.idle": "2022-04-16T12:25:41.569206Z",
     "shell.execute_reply": "2022-04-16T12:25:41.568334Z"
    },
    "papermill": {
     "duration": 0.692114,
     "end_time": "2022-04-16T12:25:41.571685",
     "exception": false,
     "start_time": "2022-04-16T12:25:40.879571",
     "status": "completed"
    },
    "tags": []
   },
   "outputs": [
    {
     "name": "stdout",
     "output_type": "stream",
     "text": [
      "<class 'pandas.core.frame.DataFrame'>\n",
      "RangeIndex: 31788324 entries, 0 to 31788323\n",
      "Data columns (total 5 columns):\n",
      " #   Column            Dtype  \n",
      "---  ------            -----  \n",
      " 0   customer_id       uint64 \n",
      " 1   article_id        int32  \n",
      " 2   price             float32\n",
      " 3   sales_channel_id  int8   \n",
      " 4   week              int8   \n",
      "dtypes: float32(1), int32(1), int8(2), uint64(1)\n",
      "memory usage: 545.7 MB\n"
     ]
    }
   ],
   "source": [
    "transactions.drop(columns='t_dat').info(memory_usage='deep')"
   ]
  },
  {
   "cell_type": "markdown",
   "id": "f874dac4",
   "metadata": {
    "papermill": {
     "duration": 0.035947,
     "end_time": "2022-04-16T12:25:41.643961",
     "exception": false,
     "start_time": "2022-04-16T12:25:41.608014",
     "status": "completed"
    },
    "tags": []
   },
   "source": [
    "Well, this is interesting. There are very few unique `t_dat` values hence despite it being a scary `datetime64` it takes up very little memory!\n",
    "\n",
    "Keeping it for convenience is definitely the way to go.\n",
    "\n",
    "Let's take a brief look at the `customers` and `articles` dfs."
   ]
  },
  {
   "cell_type": "code",
   "execution_count": 31,
   "id": "bb06d877",
   "metadata": {
    "execution": {
     "iopub.execute_input": "2022-04-16T12:25:41.719302Z",
     "iopub.status.busy": "2022-04-16T12:25:41.718739Z",
     "iopub.status.idle": "2022-04-16T12:25:43.402566Z",
     "shell.execute_reply": "2022-04-16T12:25:43.401914Z"
    },
    "papermill": {
     "duration": 1.725,
     "end_time": "2022-04-16T12:25:43.405407",
     "exception": false,
     "start_time": "2022-04-16T12:25:41.680407",
     "status": "completed"
    },
    "tags": []
   },
   "outputs": [
    {
     "name": "stdout",
     "output_type": "stream",
     "text": [
      "<class 'pandas.core.frame.DataFrame'>\n",
      "RangeIndex: 1371980 entries, 0 to 1371979\n",
      "Data columns (total 7 columns):\n",
      " #   Column                  Non-Null Count    Dtype  \n",
      "---  ------                  --------------    -----  \n",
      " 0   customer_id             1371980 non-null  object \n",
      " 1   FN                      476930 non-null   float64\n",
      " 2   Active                  464404 non-null   float64\n",
      " 3   club_member_status      1365918 non-null  object \n",
      " 4   fashion_news_frequency  1355971 non-null  object \n",
      " 5   age                     1356119 non-null  float64\n",
      " 6   postal_code             1371980 non-null  object \n",
      "dtypes: float64(3), object(4)\n",
      "memory usage: 512.3 MB\n"
     ]
    }
   ],
   "source": [
    "customers.info(memory_usage='deep')"
   ]
  },
  {
   "cell_type": "code",
   "execution_count": 32,
   "id": "55f885f6",
   "metadata": {
    "execution": {
     "iopub.execute_input": "2022-04-16T12:25:43.483202Z",
     "iopub.status.busy": "2022-04-16T12:25:43.482653Z",
     "iopub.status.idle": "2022-04-16T12:25:43.964605Z",
     "shell.execute_reply": "2022-04-16T12:25:43.963706Z"
    },
    "papermill": {
     "duration": 0.522606,
     "end_time": "2022-04-16T12:25:43.966941",
     "exception": false,
     "start_time": "2022-04-16T12:25:43.444335",
     "status": "completed"
    },
    "tags": []
   },
   "outputs": [
    {
     "name": "stdout",
     "output_type": "stream",
     "text": [
      "<class 'pandas.core.frame.DataFrame'>\n",
      "RangeIndex: 105542 entries, 0 to 105541\n",
      "Data columns (total 25 columns):\n",
      " #   Column                        Non-Null Count   Dtype \n",
      "---  ------                        --------------   ----- \n",
      " 0   article_id                    105542 non-null  int32 \n",
      " 1   product_code                  105542 non-null  int64 \n",
      " 2   prod_name                     105542 non-null  object\n",
      " 3   product_type_no               105542 non-null  int64 \n",
      " 4   product_type_name             105542 non-null  object\n",
      " 5   product_group_name            105542 non-null  object\n",
      " 6   graphical_appearance_no       105542 non-null  int64 \n",
      " 7   graphical_appearance_name     105542 non-null  object\n",
      " 8   colour_group_code             105542 non-null  int64 \n",
      " 9   colour_group_name             105542 non-null  object\n",
      " 10  perceived_colour_value_id     105542 non-null  int64 \n",
      " 11  perceived_colour_value_name   105542 non-null  object\n",
      " 12  perceived_colour_master_id    105542 non-null  int64 \n",
      " 13  perceived_colour_master_name  105542 non-null  object\n",
      " 14  department_no                 105542 non-null  int64 \n",
      " 15  department_name               105542 non-null  object\n",
      " 16  index_code                    105542 non-null  object\n",
      " 17  index_name                    105542 non-null  object\n",
      " 18  index_group_no                105542 non-null  int64 \n",
      " 19  index_group_name              105542 non-null  object\n",
      " 20  section_no                    105542 non-null  int64 \n",
      " 21  section_name                  105542 non-null  object\n",
      " 22  garment_group_no              105542 non-null  int64 \n",
      " 23  garment_group_name            105542 non-null  object\n",
      " 24  detail_desc                   105126 non-null  object\n",
      "dtypes: int32(1), int64(10), object(14)\n",
      "memory usage: 117.2 MB\n"
     ]
    }
   ],
   "source": [
    "articles.info(memory_usage='deep')"
   ]
  },
  {
   "cell_type": "markdown",
   "id": "1caf9c76",
   "metadata": {
    "papermill": {
     "duration": 0.036642,
     "end_time": "2022-04-16T12:25:44.039792",
     "exception": false,
     "start_time": "2022-04-16T12:25:44.003150",
     "status": "completed"
    },
    "tags": []
   },
   "source": [
    "Well, this stuff will be getting merged with our transactions df at some point, so I guess we can also make this smaller and easier to work with down the road."
   ]
  },
  {
   "cell_type": "code",
   "execution_count": 33,
   "id": "efd82f6e",
   "metadata": {
    "execution": {
     "iopub.execute_input": "2022-04-16T12:25:44.114219Z",
     "iopub.status.busy": "2022-04-16T12:25:44.113669Z",
     "iopub.status.idle": "2022-04-16T12:25:44.264122Z",
     "shell.execute_reply": "2022-04-16T12:25:44.263314Z"
    },
    "papermill": {
     "duration": 0.190062,
     "end_time": "2022-04-16T12:25:44.266160",
     "exception": false,
     "start_time": "2022-04-16T12:25:44.076098",
     "status": "completed"
    },
    "tags": []
   },
   "outputs": [
    {
     "data": {
      "text/plain": "array(['ACTIVE', nan, 'PRE-CREATE', 'LEFT CLUB'], dtype=object)"
     },
     "execution_count": 33,
     "metadata": {},
     "output_type": "execute_result"
    }
   ],
   "source": [
    "customers['club_member_status'].unique()"
   ]
  },
  {
   "cell_type": "code",
   "execution_count": 34,
   "id": "61bf9df5",
   "metadata": {
    "execution": {
     "iopub.execute_input": "2022-04-16T12:25:44.340621Z",
     "iopub.status.busy": "2022-04-16T12:25:44.340332Z",
     "iopub.status.idle": "2022-04-16T12:25:46.589926Z",
     "shell.execute_reply": "2022-04-16T12:25:46.588812Z"
    },
    "papermill": {
     "duration": 2.290022,
     "end_time": "2022-04-16T12:25:46.592454",
     "exception": false,
     "start_time": "2022-04-16T12:25:44.302432",
     "status": "completed"
    },
    "tags": []
   },
   "outputs": [],
   "source": [
    "customers.customer_id = customer_hex_id_to_int(customers.customer_id)\n",
    "for col in ['FN', 'Active', 'age']:\n",
    "    customers[col].fillna(-1, inplace=True)\n",
    "    customers[col] = customers[col].astype('int8')"
   ]
  },
  {
   "cell_type": "code",
   "execution_count": 35,
   "id": "758411dd",
   "metadata": {
    "execution": {
     "iopub.execute_input": "2022-04-16T12:25:46.667897Z",
     "iopub.status.busy": "2022-04-16T12:25:46.667528Z",
     "iopub.status.idle": "2022-04-16T12:25:49.385374Z",
     "shell.execute_reply": "2022-04-16T12:25:49.384339Z"
    },
    "papermill": {
     "duration": 2.758955,
     "end_time": "2022-04-16T12:25:49.388205",
     "exception": false,
     "start_time": "2022-04-16T12:25:46.629250",
     "status": "completed"
    },
    "tags": []
   },
   "outputs": [],
   "source": [
    "customers.club_member_status = Categorize().fit_transform(customers[['club_member_status']]).club_member_status\n",
    "customers.postal_code = Categorize().fit_transform(customers[['postal_code']]).postal_code\n",
    "customers.fashion_news_frequency = Categorize().fit_transform(customers[['fashion_news_frequency']]).fashion_news_frequency"
   ]
  },
  {
   "cell_type": "code",
   "execution_count": 36,
   "id": "7761a45d",
   "metadata": {
    "execution": {
     "iopub.execute_input": "2022-04-16T12:25:49.466147Z",
     "iopub.status.busy": "2022-04-16T12:25:49.465860Z",
     "iopub.status.idle": "2022-04-16T12:25:49.491089Z",
     "shell.execute_reply": "2022-04-16T12:25:49.490020Z"
    },
    "papermill": {
     "duration": 0.066816,
     "end_time": "2022-04-16T12:25:49.493705",
     "exception": false,
     "start_time": "2022-04-16T12:25:49.426889",
     "status": "completed"
    },
    "tags": []
   },
   "outputs": [
    {
     "name": "stdout",
     "output_type": "stream",
     "text": [
      "<class 'pandas.core.frame.DataFrame'>\n",
      "RangeIndex: 1371980 entries, 0 to 1371979\n",
      "Data columns (total 7 columns):\n",
      " #   Column                  Non-Null Count    Dtype \n",
      "---  ------                  --------------    ----- \n",
      " 0   customer_id             1371980 non-null  uint64\n",
      " 1   FN                      1371980 non-null  int8  \n",
      " 2   Active                  1371980 non-null  int8  \n",
      " 3   club_member_status      1371980 non-null  int8  \n",
      " 4   fashion_news_frequency  1371980 non-null  int8  \n",
      " 5   age                     1371980 non-null  int8  \n",
      " 6   postal_code             1371980 non-null  int32 \n",
      "dtypes: int32(1), int8(5), uint64(1)\n",
      "memory usage: 22.2 MB\n"
     ]
    }
   ],
   "source": [
    "customers.info(memory_usage='deep')"
   ]
  },
  {
   "cell_type": "code",
   "execution_count": 37,
   "id": "6cb4fc65",
   "metadata": {
    "execution": {
     "iopub.execute_input": "2022-04-16T12:25:49.572701Z",
     "iopub.status.busy": "2022-04-16T12:25:49.571660Z",
     "iopub.status.idle": "2022-04-16T12:25:50.148323Z",
     "shell.execute_reply": "2022-04-16T12:25:50.147487Z"
    },
    "papermill": {
     "duration": 0.619047,
     "end_time": "2022-04-16T12:25:50.150960",
     "exception": false,
     "start_time": "2022-04-16T12:25:49.531913",
     "status": "completed"
    },
    "tags": []
   },
   "outputs": [],
   "source": [
    "for col in articles.columns:\n",
    "    if articles[col].dtype == 'object':\n",
    "        articles[col] = Categorize().fit_transform(articles[[col]])[col]"
   ]
  },
  {
   "cell_type": "code",
   "execution_count": 38,
   "id": "4a8e33bd",
   "metadata": {
    "execution": {
     "iopub.execute_input": "2022-04-16T12:25:50.228448Z",
     "iopub.status.busy": "2022-04-16T12:25:50.228179Z",
     "iopub.status.idle": "2022-04-16T12:25:50.247605Z",
     "shell.execute_reply": "2022-04-16T12:25:50.246874Z"
    },
    "papermill": {
     "duration": 0.060666,
     "end_time": "2022-04-16T12:25:50.249984",
     "exception": false,
     "start_time": "2022-04-16T12:25:50.189318",
     "status": "completed"
    },
    "tags": []
   },
   "outputs": [
    {
     "name": "stdout",
     "output_type": "stream",
     "text": [
      "<class 'pandas.core.frame.DataFrame'>\n",
      "RangeIndex: 105542 entries, 0 to 105541\n",
      "Data columns (total 25 columns):\n",
      " #   Column                        Non-Null Count   Dtype\n",
      "---  ------                        --------------   -----\n",
      " 0   article_id                    105542 non-null  int32\n",
      " 1   product_code                  105542 non-null  int64\n",
      " 2   prod_name                     105542 non-null  int32\n",
      " 3   product_type_no               105542 non-null  int64\n",
      " 4   product_type_name             105542 non-null  int16\n",
      " 5   product_group_name            105542 non-null  int8 \n",
      " 6   graphical_appearance_no       105542 non-null  int64\n",
      " 7   graphical_appearance_name     105542 non-null  int8 \n",
      " 8   colour_group_code             105542 non-null  int64\n",
      " 9   colour_group_name             105542 non-null  int8 \n",
      " 10  perceived_colour_value_id     105542 non-null  int64\n",
      " 11  perceived_colour_value_name   105542 non-null  int8 \n",
      " 12  perceived_colour_master_id    105542 non-null  int64\n",
      " 13  perceived_colour_master_name  105542 non-null  int8 \n",
      " 14  department_no                 105542 non-null  int64\n",
      " 15  department_name               105542 non-null  int16\n",
      " 16  index_code                    105542 non-null  int8 \n",
      " 17  index_name                    105542 non-null  int8 \n",
      " 18  index_group_no                105542 non-null  int64\n",
      " 19  index_group_name              105542 non-null  int8 \n",
      " 20  section_no                    105542 non-null  int64\n",
      " 21  section_name                  105542 non-null  int8 \n",
      " 22  garment_group_no              105542 non-null  int64\n",
      " 23  garment_group_name            105542 non-null  int8 \n",
      " 24  detail_desc                   105542 non-null  int32\n",
      "dtypes: int16(2), int32(3), int64(10), int8(10)\n",
      "memory usage: 10.7 MB\n"
     ]
    }
   ],
   "source": [
    "articles.info(memory_usage='deep')"
   ]
  },
  {
   "cell_type": "code",
   "execution_count": 39,
   "id": "b3596527",
   "metadata": {
    "execution": {
     "iopub.execute_input": "2022-04-16T12:25:50.328600Z",
     "iopub.status.busy": "2022-04-16T12:25:50.328259Z",
     "iopub.status.idle": "2022-04-16T12:25:50.357834Z",
     "shell.execute_reply": "2022-04-16T12:25:50.356746Z"
    },
    "papermill": {
     "duration": 0.072102,
     "end_time": "2022-04-16T12:25:50.360311",
     "exception": false,
     "start_time": "2022-04-16T12:25:50.288209",
     "status": "completed"
    },
    "tags": []
   },
   "outputs": [],
   "source": [
    "for col in articles.columns:\n",
    "    if articles[col].dtype == 'int64':\n",
    "        articles[col] = articles[col].astype('int32')"
   ]
  },
  {
   "cell_type": "markdown",
   "id": "dc411fb5",
   "metadata": {
    "papermill": {
     "duration": 0.038116,
     "end_time": "2022-04-16T12:25:50.437728",
     "exception": false,
     "start_time": "2022-04-16T12:25:50.399612",
     "status": "completed"
    },
    "tags": []
   },
   "source": [
    "And this concludes our raw data preparation step! Let's now write everything back to disk."
   ]
  },
  {
   "cell_type": "code",
   "execution_count": 40,
   "id": "86f4e1b3",
   "metadata": {
    "execution": {
     "iopub.execute_input": "2022-04-16T12:25:50.516915Z",
     "iopub.status.busy": "2022-04-16T12:25:50.516593Z",
     "iopub.status.idle": "2022-04-16T12:26:00.227174Z",
     "shell.execute_reply": "2022-04-16T12:26:00.226199Z"
    },
    "papermill": {
     "duration": 9.753709,
     "end_time": "2022-04-16T12:26:00.230038",
     "exception": false,
     "start_time": "2022-04-16T12:25:50.476329",
     "status": "completed"
    },
    "tags": []
   },
   "outputs": [],
   "source": [
    "transactions.sort_values(['t_dat', 'customer_id'], inplace=True)"
   ]
  },
  {
   "cell_type": "code",
   "execution_count": 41,
   "id": "682b1125",
   "metadata": {
    "execution": {
     "iopub.execute_input": "2022-04-16T12:26:00.311246Z",
     "iopub.status.busy": "2022-04-16T12:26:00.310938Z",
     "iopub.status.idle": "2022-04-16T12:26:06.297670Z",
     "shell.execute_reply": "2022-04-16T12:26:06.296384Z"
    },
    "papermill": {
     "duration": 6.030944,
     "end_time": "2022-04-16T12:26:06.300684",
     "exception": false,
     "start_time": "2022-04-16T12:26:00.269740",
     "status": "completed"
    },
    "tags": []
   },
   "outputs": [
    {
     "name": "stdout",
     "output_type": "stream",
     "text": [
      "CPU times: user 3.28 s, sys: 182 ms, total: 3.46 s\n",
      "Wall time: 3.59 s\n"
     ]
    }
   ],
   "source": [
    "%%time\n",
    "\n",
    "transactions.to_parquet('transactions_train.parquet')\n",
    "customers.to_parquet('customers.parquet')\n",
    "articles.to_parquet('articles.parquet')"
   ]
  },
  {
   "cell_type": "code",
   "execution_count": 41,
   "outputs": [],
   "source": [],
   "metadata": {
    "collapsed": false,
    "pycharm": {
     "name": "#%%\n"
    }
   }
  }
 ],
 "metadata": {
  "kernelspec": {
   "display_name": "Python 3 (ipykernel)",
   "language": "python",
   "name": "python3"
  },
  "language_info": {
   "codemirror_mode": {
    "name": "ipython",
    "version": 3
   },
   "file_extension": ".py",
   "mimetype": "text/x-python",
   "name": "python",
   "nbconvert_exporter": "python",
   "pygments_lexer": "ipython3",
   "version": "3.7.12"
  },
  "papermill": {
   "default_parameters": {},
   "duration": 275.588452,
   "end_time": "2022-04-16T12:26:08.370916",
   "environment_variables": {},
   "exception": null,
   "input_path": "__notebook__.ipynb",
   "output_path": "__notebook__.ipynb",
   "parameters": {},
   "start_time": "2022-04-16T12:21:32.782464",
   "version": "2.3.4"
  }
 },
 "nbformat": 4,
 "nbformat_minor": 5
}