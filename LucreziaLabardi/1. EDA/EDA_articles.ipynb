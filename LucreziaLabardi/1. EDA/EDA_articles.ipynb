{
 "cells": [
  {
   "cell_type": "markdown",
   "metadata": {
    "id": "VwlgLFW4fJj9"
   },
   "source": [
    "# Exploration of Articles dataset\n",
    "This notebook contains the first data understanding performed on the articles dataset, as required for the first assignment"
   ]
  },
  {
   "cell_type": "markdown",
   "metadata": {
    "id": "stjSxlBufM4u"
   },
   "source": [
    "## Import libraries and dataset"
   ]
  },
  {
   "cell_type": "code",
   "execution_count": 1,
   "metadata": {
    "executionInfo": {
     "elapsed": 225,
     "status": "ok",
     "timestamp": 1696174678449,
     "user": {
      "displayName": "Lucrezia Labardi",
      "userId": "04987227959803536314"
     },
     "user_tz": -120
    },
    "id": "Ey9eKwm8Lw-P"
   },
   "outputs": [],
   "source": [
    "# import libraries\n",
    "import numpy as np\n",
    "import pandas as pd\n",
    "import matplotlib.pyplot as plt\n",
    "import seaborn as sns"
   ]
  },
  {
   "cell_type": "code",
   "execution_count": 2,
   "metadata": {
    "executionInfo": {
     "elapsed": 402,
     "status": "ok",
     "timestamp": 1696174680734,
     "user": {
      "displayName": "Lucrezia Labardi",
      "userId": "04987227959803536314"
     },
     "user_tz": -120
    },
    "id": "wNYOX4WHL5RP"
   },
   "outputs": [],
   "source": [
    "# import dataset and create a copy to work with\n",
    "df_art = pd.read_csv(\"../data/articles.csv\")"
   ]
  },
  {
   "cell_type": "code",
   "execution_count": 3,
   "metadata": {
    "colab": {
     "base_uri": "https://localhost:8080/",
     "height": 516
    },
    "executionInfo": {
     "elapsed": 12,
     "status": "ok",
     "timestamp": 1696174680735,
     "user": {
      "displayName": "Lucrezia Labardi",
      "userId": "04987227959803536314"
     },
     "user_tz": -120
    },
    "id": "ODBoeLsX04We",
    "outputId": "4d89f039-ce3b-4806-cf55-0edd461dc813"
   },
   "outputs": [
    {
     "data": {
      "text/html": [
       "<div>\n",
       "<style scoped>\n",
       "    .dataframe tbody tr th:only-of-type {\n",
       "        vertical-align: middle;\n",
       "    }\n",
       "\n",
       "    .dataframe tbody tr th {\n",
       "        vertical-align: top;\n",
       "    }\n",
       "\n",
       "    .dataframe thead th {\n",
       "        text-align: right;\n",
       "    }\n",
       "</style>\n",
       "<table border=\"1\" class=\"dataframe\">\n",
       "  <thead>\n",
       "    <tr style=\"text-align: right;\">\n",
       "      <th></th>\n",
       "      <th>article_id</th>\n",
       "      <th>product_code</th>\n",
       "      <th>prod_name</th>\n",
       "      <th>product_type_no</th>\n",
       "      <th>product_type_name</th>\n",
       "      <th>product_group_name</th>\n",
       "      <th>graphical_appearance_no</th>\n",
       "      <th>graphical_appearance_name</th>\n",
       "      <th>colour_group_code</th>\n",
       "      <th>colour_group_name</th>\n",
       "      <th>...</th>\n",
       "      <th>department_name</th>\n",
       "      <th>index_code</th>\n",
       "      <th>index_name</th>\n",
       "      <th>index_group_no</th>\n",
       "      <th>index_group_name</th>\n",
       "      <th>section_no</th>\n",
       "      <th>section_name</th>\n",
       "      <th>garment_group_no</th>\n",
       "      <th>garment_group_name</th>\n",
       "      <th>detail_desc</th>\n",
       "    </tr>\n",
       "  </thead>\n",
       "  <tbody>\n",
       "    <tr>\n",
       "      <th>0</th>\n",
       "      <td>108775015</td>\n",
       "      <td>108775</td>\n",
       "      <td>Strap top</td>\n",
       "      <td>253</td>\n",
       "      <td>Vest top</td>\n",
       "      <td>Garment Upper body</td>\n",
       "      <td>1010016</td>\n",
       "      <td>Solid</td>\n",
       "      <td>9</td>\n",
       "      <td>Black</td>\n",
       "      <td>...</td>\n",
       "      <td>Jersey Basic</td>\n",
       "      <td>A</td>\n",
       "      <td>Ladieswear</td>\n",
       "      <td>1</td>\n",
       "      <td>Ladieswear</td>\n",
       "      <td>16</td>\n",
       "      <td>Womens Everyday Basics</td>\n",
       "      <td>1002</td>\n",
       "      <td>Jersey Basic</td>\n",
       "      <td>Jersey top with narrow shoulder straps.</td>\n",
       "    </tr>\n",
       "    <tr>\n",
       "      <th>1</th>\n",
       "      <td>108775044</td>\n",
       "      <td>108775</td>\n",
       "      <td>Strap top</td>\n",
       "      <td>253</td>\n",
       "      <td>Vest top</td>\n",
       "      <td>Garment Upper body</td>\n",
       "      <td>1010016</td>\n",
       "      <td>Solid</td>\n",
       "      <td>10</td>\n",
       "      <td>White</td>\n",
       "      <td>...</td>\n",
       "      <td>Jersey Basic</td>\n",
       "      <td>A</td>\n",
       "      <td>Ladieswear</td>\n",
       "      <td>1</td>\n",
       "      <td>Ladieswear</td>\n",
       "      <td>16</td>\n",
       "      <td>Womens Everyday Basics</td>\n",
       "      <td>1002</td>\n",
       "      <td>Jersey Basic</td>\n",
       "      <td>Jersey top with narrow shoulder straps.</td>\n",
       "    </tr>\n",
       "    <tr>\n",
       "      <th>2</th>\n",
       "      <td>108775051</td>\n",
       "      <td>108775</td>\n",
       "      <td>Strap top (1)</td>\n",
       "      <td>253</td>\n",
       "      <td>Vest top</td>\n",
       "      <td>Garment Upper body</td>\n",
       "      <td>1010017</td>\n",
       "      <td>Stripe</td>\n",
       "      <td>11</td>\n",
       "      <td>Off White</td>\n",
       "      <td>...</td>\n",
       "      <td>Jersey Basic</td>\n",
       "      <td>A</td>\n",
       "      <td>Ladieswear</td>\n",
       "      <td>1</td>\n",
       "      <td>Ladieswear</td>\n",
       "      <td>16</td>\n",
       "      <td>Womens Everyday Basics</td>\n",
       "      <td>1002</td>\n",
       "      <td>Jersey Basic</td>\n",
       "      <td>Jersey top with narrow shoulder straps.</td>\n",
       "    </tr>\n",
       "    <tr>\n",
       "      <th>3</th>\n",
       "      <td>110065001</td>\n",
       "      <td>110065</td>\n",
       "      <td>OP T-shirt (Idro)</td>\n",
       "      <td>306</td>\n",
       "      <td>Bra</td>\n",
       "      <td>Underwear</td>\n",
       "      <td>1010016</td>\n",
       "      <td>Solid</td>\n",
       "      <td>9</td>\n",
       "      <td>Black</td>\n",
       "      <td>...</td>\n",
       "      <td>Clean Lingerie</td>\n",
       "      <td>B</td>\n",
       "      <td>Lingeries/Tights</td>\n",
       "      <td>1</td>\n",
       "      <td>Ladieswear</td>\n",
       "      <td>61</td>\n",
       "      <td>Womens Lingerie</td>\n",
       "      <td>1017</td>\n",
       "      <td>Under-, Nightwear</td>\n",
       "      <td>Microfibre T-shirt bra with underwired, moulde...</td>\n",
       "    </tr>\n",
       "    <tr>\n",
       "      <th>4</th>\n",
       "      <td>110065002</td>\n",
       "      <td>110065</td>\n",
       "      <td>OP T-shirt (Idro)</td>\n",
       "      <td>306</td>\n",
       "      <td>Bra</td>\n",
       "      <td>Underwear</td>\n",
       "      <td>1010016</td>\n",
       "      <td>Solid</td>\n",
       "      <td>10</td>\n",
       "      <td>White</td>\n",
       "      <td>...</td>\n",
       "      <td>Clean Lingerie</td>\n",
       "      <td>B</td>\n",
       "      <td>Lingeries/Tights</td>\n",
       "      <td>1</td>\n",
       "      <td>Ladieswear</td>\n",
       "      <td>61</td>\n",
       "      <td>Womens Lingerie</td>\n",
       "      <td>1017</td>\n",
       "      <td>Under-, Nightwear</td>\n",
       "      <td>Microfibre T-shirt bra with underwired, moulde...</td>\n",
       "    </tr>\n",
       "  </tbody>\n",
       "</table>\n",
       "<p>5 rows × 25 columns</p>\n",
       "</div>"
      ],
      "text/plain": [
       "   article_id  product_code          prod_name  product_type_no  \\\n",
       "0   108775015        108775          Strap top              253   \n",
       "1   108775044        108775          Strap top              253   \n",
       "2   108775051        108775      Strap top (1)              253   \n",
       "3   110065001        110065  OP T-shirt (Idro)              306   \n",
       "4   110065002        110065  OP T-shirt (Idro)              306   \n",
       "\n",
       "  product_type_name  product_group_name  graphical_appearance_no  \\\n",
       "0          Vest top  Garment Upper body                  1010016   \n",
       "1          Vest top  Garment Upper body                  1010016   \n",
       "2          Vest top  Garment Upper body                  1010017   \n",
       "3               Bra           Underwear                  1010016   \n",
       "4               Bra           Underwear                  1010016   \n",
       "\n",
       "  graphical_appearance_name  colour_group_code colour_group_name  ...  \\\n",
       "0                     Solid                  9             Black  ...   \n",
       "1                     Solid                 10             White  ...   \n",
       "2                    Stripe                 11         Off White  ...   \n",
       "3                     Solid                  9             Black  ...   \n",
       "4                     Solid                 10             White  ...   \n",
       "\n",
       "   department_name index_code        index_name index_group_no  \\\n",
       "0     Jersey Basic          A        Ladieswear              1   \n",
       "1     Jersey Basic          A        Ladieswear              1   \n",
       "2     Jersey Basic          A        Ladieswear              1   \n",
       "3   Clean Lingerie          B  Lingeries/Tights              1   \n",
       "4   Clean Lingerie          B  Lingeries/Tights              1   \n",
       "\n",
       "   index_group_name section_no            section_name garment_group_no  \\\n",
       "0        Ladieswear         16  Womens Everyday Basics             1002   \n",
       "1        Ladieswear         16  Womens Everyday Basics             1002   \n",
       "2        Ladieswear         16  Womens Everyday Basics             1002   \n",
       "3        Ladieswear         61         Womens Lingerie             1017   \n",
       "4        Ladieswear         61         Womens Lingerie             1017   \n",
       "\n",
       "   garment_group_name                                        detail_desc  \n",
       "0        Jersey Basic            Jersey top with narrow shoulder straps.  \n",
       "1        Jersey Basic            Jersey top with narrow shoulder straps.  \n",
       "2        Jersey Basic            Jersey top with narrow shoulder straps.  \n",
       "3   Under-, Nightwear  Microfibre T-shirt bra with underwired, moulde...  \n",
       "4   Under-, Nightwear  Microfibre T-shirt bra with underwired, moulde...  \n",
       "\n",
       "[5 rows x 25 columns]"
      ]
     },
     "execution_count": 3,
     "metadata": {},
     "output_type": "execute_result"
    }
   ],
   "source": [
    "df_art.head()"
   ]
  },
  {
   "cell_type": "markdown",
   "metadata": {
    "id": "LjQjyZ2mfWAT"
   },
   "source": [
    "## General analysis"
   ]
  },
  {
   "cell_type": "code",
   "execution_count": 4,
   "metadata": {
    "colab": {
     "base_uri": "https://localhost:8080/"
    },
    "executionInfo": {
     "elapsed": 8,
     "status": "ok",
     "timestamp": 1696174680735,
     "user": {
      "displayName": "Lucrezia Labardi",
      "userId": "04987227959803536314"
     },
     "user_tz": -120
    },
    "id": "2pH4A4e2g8C1",
    "outputId": "ac0af825-0ca1-4773-a64f-42f8bc0c47dd"
   },
   "outputs": [
    {
     "data": {
      "text/plain": [
       "(105542, 25)"
      ]
     },
     "execution_count": 4,
     "metadata": {},
     "output_type": "execute_result"
    }
   ],
   "source": [
    "df_art.shape"
   ]
  },
  {
   "cell_type": "code",
   "execution_count": 5,
   "metadata": {
    "colab": {
     "base_uri": "https://localhost:8080/"
    },
    "executionInfo": {
     "elapsed": 218,
     "status": "ok",
     "timestamp": 1696174680947,
     "user": {
      "displayName": "Lucrezia Labardi",
      "userId": "04987227959803536314"
     },
     "user_tz": -120
    },
    "id": "F2t6gUMk6lDj",
    "outputId": "c8fe945e-00a9-48fb-e62b-68de0277f558"
   },
   "outputs": [
    {
     "name": "stdout",
     "output_type": "stream",
     "text": [
      "In the dataframe there are 0 colums with a unique value values\n"
     ]
    }
   ],
   "source": [
    "# find colums with a unique value\n",
    "nunique = df_art.nunique()\n",
    "cols_uniquevalue = nunique[nunique == 1].sum()\n",
    "\n",
    "print(\"In the dataframe there are\", cols_uniquevalue, \"colums with a unique value values\")"
   ]
  },
  {
   "cell_type": "code",
   "execution_count": 6,
   "metadata": {
    "colab": {
     "base_uri": "https://localhost:8080/"
    },
    "executionInfo": {
     "elapsed": 4,
     "status": "ok",
     "timestamp": 1696174680947,
     "user": {
      "displayName": "Lucrezia Labardi",
      "userId": "04987227959803536314"
     },
     "user_tz": -120
    },
    "id": "6U2esh1thQNv",
    "outputId": "8c6adf5c-c02b-4cef-8cbd-41ae9c9ddd8b"
   },
   "outputs": [
    {
     "name": "stdout",
     "output_type": "stream",
     "text": [
      "In the dataframe there are 0 duplicated values\n"
     ]
    }
   ],
   "source": [
    "# finding duplicates from the dataset\n",
    "duplicated_values = df_art.duplicated().sum()\n",
    "\n",
    "print(\"In the dataframe there are\", duplicated_values, \"duplicated values\")"
   ]
  },
  {
   "cell_type": "code",
   "execution_count": 7,
   "metadata": {
    "colab": {
     "base_uri": "https://localhost:8080/"
    },
    "executionInfo": {
     "elapsed": 473,
     "status": "ok",
     "timestamp": 1696174681417,
     "user": {
      "displayName": "Lucrezia Labardi",
      "userId": "04987227959803536314"
     },
     "user_tz": -120
    },
    "id": "RS9gZ-NKzlLz",
    "outputId": "1703960e-9012-4368-b7bd-91ed47beb171"
   },
   "outputs": [
    {
     "data": {
      "text/plain": [
       "article_id                      False\n",
       "product_code                    False\n",
       "prod_name                       False\n",
       "product_type_no                 False\n",
       "product_type_name               False\n",
       "product_group_name              False\n",
       "graphical_appearance_no         False\n",
       "graphical_appearance_name       False\n",
       "colour_group_code               False\n",
       "colour_group_name               False\n",
       "perceived_colour_value_id       False\n",
       "perceived_colour_value_name     False\n",
       "perceived_colour_master_id      False\n",
       "perceived_colour_master_name    False\n",
       "department_no                   False\n",
       "department_name                 False\n",
       "index_code                      False\n",
       "index_name                      False\n",
       "index_group_no                  False\n",
       "index_group_name                False\n",
       "section_no                      False\n",
       "section_name                    False\n",
       "garment_group_no                False\n",
       "garment_group_name              False\n",
       "detail_desc                      True\n",
       "dtype: bool"
      ]
     },
     "execution_count": 7,
     "metadata": {},
     "output_type": "execute_result"
    }
   ],
   "source": [
    "#findin missing values\n",
    "df_art.isna().any()"
   ]
  },
  {
   "cell_type": "code",
   "execution_count": 8,
   "metadata": {
    "colab": {
     "base_uri": "https://localhost:8080/"
    },
    "executionInfo": {
     "elapsed": 13,
     "status": "ok",
     "timestamp": 1696174681417,
     "user": {
      "displayName": "Lucrezia Labardi",
      "userId": "04987227959803536314"
     },
     "user_tz": -120
    },
    "id": "sU7Xd8JHzM6-",
    "outputId": "97ac5f96-0521-45c7-e8ad-2cec9157cab6"
   },
   "outputs": [
    {
     "name": "stdout",
     "output_type": "stream",
     "text": [
      "The number of missing values in detail_desc is 416\n"
     ]
    }
   ],
   "source": [
    "num_missing = df_art.detail_desc.isna().sum()\n",
    "print(\"The number of missing values in detail_desc is\", num_missing)"
   ]
  },
  {
   "cell_type": "markdown",
   "metadata": {
    "id": "x5QRqLu2FR06"
   },
   "source": [
    "## Checking numeric variables"
   ]
  },
  {
   "cell_type": "code",
   "execution_count": 9,
   "metadata": {
    "colab": {
     "base_uri": "https://localhost:8080/"
    },
    "executionInfo": {
     "elapsed": 11,
     "status": "ok",
     "timestamp": 1696174681417,
     "user": {
      "displayName": "Lucrezia Labardi",
      "userId": "04987227959803536314"
     },
     "user_tz": -120
    },
    "id": "O6HxCmHF0QlT",
    "outputId": "e79d0d84-a699-445f-9b3c-a033ad8c8c06"
   },
   "outputs": [
    {
     "data": {
      "text/plain": [
       "article_id                    959461001\n",
       "product_code                     959461\n",
       "product_type_no                     762\n",
       "graphical_appearance_no         1010029\n",
       "colour_group_code                    93\n",
       "perceived_colour_value_id             7\n",
       "perceived_colour_master_id           20\n",
       "department_no                      9989\n",
       "index_group_no                       26\n",
       "section_no                           97\n",
       "garment_group_no                   1025\n",
       "dtype: int64"
      ]
     },
     "execution_count": 9,
     "metadata": {},
     "output_type": "execute_result"
    }
   ],
   "source": [
    "#check max values of numeric variables only\n",
    "df_art.max(numeric_only=True)"
   ]
  },
  {
   "cell_type": "code",
   "execution_count": 10,
   "metadata": {
    "colab": {
     "base_uri": "https://localhost:8080/"
    },
    "executionInfo": {
     "elapsed": 10,
     "status": "ok",
     "timestamp": 1696174681417,
     "user": {
      "displayName": "Lucrezia Labardi",
      "userId": "04987227959803536314"
     },
     "user_tz": -120
    },
    "id": "-JmwD634zTGE",
    "outputId": "3ce929bd-8d00-4491-f42e-69a3cb6574b6"
   },
   "outputs": [
    {
     "data": {
      "text/plain": [
       "article_id                    108775015\n",
       "product_code                     108775\n",
       "product_type_no                      -1\n",
       "graphical_appearance_no              -1\n",
       "colour_group_code                    -1\n",
       "perceived_colour_value_id            -1\n",
       "perceived_colour_master_id           -1\n",
       "department_no                      1201\n",
       "index_group_no                        1\n",
       "section_no                            2\n",
       "garment_group_no                   1001\n",
       "dtype: int64"
      ]
     },
     "execution_count": 10,
     "metadata": {},
     "output_type": "execute_result"
    }
   ],
   "source": [
    "#check min values of numeric variables only\n",
    "df_art.min(numeric_only=True)"
   ]
  },
  {
   "cell_type": "code",
   "execution_count": 11,
   "metadata": {
    "executionInfo": {
     "elapsed": 9,
     "status": "ok",
     "timestamp": 1696174681417,
     "user": {
      "displayName": "Lucrezia Labardi",
      "userId": "04987227959803536314"
     },
     "user_tz": -120
    },
    "id": "dU_jJS0-FnXg"
   },
   "outputs": [],
   "source": [
    "#it is possible that -1 values are actually nan, i'll check how many they are"
   ]
  },
  {
   "cell_type": "code",
   "execution_count": 12,
   "metadata": {
    "colab": {
     "base_uri": "https://localhost:8080/"
    },
    "executionInfo": {
     "elapsed": 9,
     "status": "ok",
     "timestamp": 1696174681417,
     "user": {
      "displayName": "Lucrezia Labardi",
      "userId": "04987227959803536314"
     },
     "user_tz": -120
    },
    "id": "2K02SiKoGVws",
    "outputId": "76bde7ee-9a6c-4fd8-811b-94ae75facb90"
   },
   "outputs": [
    {
     "name": "stdout",
     "output_type": "stream",
     "text": [
      "The number of -1 in column product_type_no is: 121\n",
      "\n",
      "The number of -1 in column graphical_appearance_no is: 52\n",
      "\n",
      "The number of -1 in column colour_group_code is: 28\n",
      "\n",
      "The number of -1 in column perceived_colour_value_id is: 28\n",
      "\n",
      "The number of -1 in column perceived_colour_master_id is: 685\n",
      "\n"
     ]
    }
   ],
   "source": [
    "cols_suspectNan = [\"product_type_no\", \"graphical_appearance_no\", \"colour_group_code\", \"perceived_colour_value_id\",\"perceived_colour_master_id\"]\n",
    "\n",
    "for col in cols_suspectNan:\n",
    "  num_min1 = df_art[df_art[col] == -1][col].abs().sum()\n",
    "  print(\"The number of -1 in column\", col, \"is:\", num_min1)\n",
    "  print()\n",
    "\n",
    "\n",
    "#we can see that for each column there is a different number of -1 values, let's check if there is a correlation"
   ]
  },
  {
   "cell_type": "code",
   "execution_count": 13,
   "metadata": {
    "colab": {
     "base_uri": "https://localhost:8080/"
    },
    "executionInfo": {
     "elapsed": 7,
     "status": "ok",
     "timestamp": 1696174681417,
     "user": {
      "displayName": "Lucrezia Labardi",
      "userId": "04987227959803536314"
     },
     "user_tz": -120
    },
    "id": "-s1SkJi2gyIK",
    "outputId": "d9fb8384-9fe4-43ec-8740-f7a12d25246a"
   },
   "outputs": [
    {
     "data": {
      "text/plain": [
       "article_id                      False\n",
       "product_code                    False\n",
       "prod_name                       False\n",
       "product_type_no                  True\n",
       "product_type_name               False\n",
       "product_group_name              False\n",
       "graphical_appearance_no          True\n",
       "graphical_appearance_name       False\n",
       "colour_group_code                True\n",
       "colour_group_name               False\n",
       "perceived_colour_value_id        True\n",
       "perceived_colour_value_name     False\n",
       "perceived_colour_master_id       True\n",
       "perceived_colour_master_name    False\n",
       "department_no                   False\n",
       "department_name                 False\n",
       "index_code                      False\n",
       "index_name                      False\n",
       "index_group_no                  False\n",
       "index_group_name                False\n",
       "section_no                      False\n",
       "section_name                    False\n",
       "garment_group_no                False\n",
       "garment_group_name              False\n",
       "detail_desc                      True\n",
       "dtype: bool"
      ]
     },
     "execution_count": 13,
     "metadata": {},
     "output_type": "execute_result"
    }
   ],
   "source": [
    "#changing -1 values with nan\n",
    "for col in cols_suspectNan:\n",
    "  df_art[col] = np.where(df_art[col] == -1, np.nan, df_art[col])\n",
    "\n",
    "df_art.isna().any()"
   ]
  },
  {
   "cell_type": "code",
   "execution_count": 14,
   "metadata": {
    "executionInfo": {
     "elapsed": 6,
     "status": "ok",
     "timestamp": 1696174681417,
     "user": {
      "displayName": "Lucrezia Labardi",
      "userId": "04987227959803536314"
     },
     "user_tz": -120
    },
    "id": "3ijK6j0zhpwd"
   },
   "outputs": [],
   "source": [
    "df_art.dropna(subset=[\"product_type_no\", \"graphical_appearance_no\", \"colour_group_code\", \"perceived_colour_value_id\", \"perceived_colour_master_id\" ], axis=0, inplace=True)"
   ]
  },
  {
   "cell_type": "code",
   "execution_count": 15,
   "metadata": {
    "colab": {
     "base_uri": "https://localhost:8080/"
    },
    "executionInfo": {
     "elapsed": 6,
     "status": "ok",
     "timestamp": 1696174681417,
     "user": {
      "displayName": "Lucrezia Labardi",
      "userId": "04987227959803536314"
     },
     "user_tz": -120
    },
    "id": "KU0gK4idh8XE",
    "outputId": "cd3247c3-cba3-49b3-c52c-e27550cd0a3d"
   },
   "outputs": [
    {
     "data": {
      "text/plain": [
       "article_id                      False\n",
       "product_code                    False\n",
       "prod_name                       False\n",
       "product_type_no                 False\n",
       "product_type_name               False\n",
       "product_group_name              False\n",
       "graphical_appearance_no         False\n",
       "graphical_appearance_name       False\n",
       "colour_group_code               False\n",
       "colour_group_name               False\n",
       "perceived_colour_value_id       False\n",
       "perceived_colour_value_name     False\n",
       "perceived_colour_master_id      False\n",
       "perceived_colour_master_name    False\n",
       "department_no                   False\n",
       "department_name                 False\n",
       "index_code                      False\n",
       "index_name                      False\n",
       "index_group_no                  False\n",
       "index_group_name                False\n",
       "section_no                      False\n",
       "section_name                    False\n",
       "garment_group_no                False\n",
       "garment_group_name              False\n",
       "detail_desc                      True\n",
       "dtype: bool"
      ]
     },
     "execution_count": 15,
     "metadata": {},
     "output_type": "execute_result"
    }
   ],
   "source": [
    "df_art.isna().any()"
   ]
  },
  {
   "cell_type": "code",
   "execution_count": 16,
   "metadata": {
    "colab": {
     "base_uri": "https://localhost:8080/"
    },
    "executionInfo": {
     "elapsed": 5,
     "status": "ok",
     "timestamp": 1696174681417,
     "user": {
      "displayName": "Lucrezia Labardi",
      "userId": "04987227959803536314"
     },
     "user_tz": -120
    },
    "id": "QaL6DIvaMnMp",
    "outputId": "050d9c3b-7dbe-4e9a-c8ba-e9fb58417235"
   },
   "outputs": [
    {
     "data": {
      "text/plain": [
       "(104712, 25)"
      ]
     },
     "execution_count": 16,
     "metadata": {},
     "output_type": "execute_result"
    }
   ],
   "source": [
    "df_art.shape"
   ]
  },
  {
   "cell_type": "markdown",
   "metadata": {
    "id": "QVLYqOkQ__zw"
   },
   "source": [
    "## Categorical features analysis"
   ]
  },
  {
   "cell_type": "markdown",
   "metadata": {
    "id": "ffBxNL9UxxYO"
   },
   "source": [
    "### Garment group name"
   ]
  },
  {
   "cell_type": "code",
   "execution_count": 17,
   "metadata": {
    "colab": {
     "base_uri": "https://localhost:8080/"
    },
    "executionInfo": {
     "elapsed": 4,
     "status": "ok",
     "timestamp": 1696174681417,
     "user": {
      "displayName": "Lucrezia Labardi",
      "userId": "04987227959803536314"
     },
     "user_tz": -120
    },
    "id": "L5CRKSWji_sT",
    "outputId": "a94e1e4f-5604-4489-f165-5863d06c2292"
   },
   "outputs": [
    {
     "data": {
      "text/plain": [
       "array(['Jersey Basic', 'Under-, Nightwear', 'Socks and Tights',\n",
       "       'Jersey Fancy', 'Accessories', 'Trousers Denim', 'Outdoor',\n",
       "       'Shoes', 'Swimwear', 'Knitwear', 'Shirts', 'Trousers', 'Dressed',\n",
       "       'Shorts', 'Dresses Ladies', 'Skirts', 'Special Offers', 'Blouses',\n",
       "       'Unknown', 'Woven/Jersey/Knitted mix Baby', 'Dresses/Skirts girls'],\n",
       "      dtype=object)"
      ]
     },
     "execution_count": 17,
     "metadata": {},
     "output_type": "execute_result"
    }
   ],
   "source": [
    "#which are the values\n",
    "df_art[\"garment_group_name\"].unique()\n",
    "\n",
    "#we can see there is an unknown, so missing values\n",
    "# there is also a \"dressed\" which can be dresses mispelled"
   ]
  },
  {
   "cell_type": "code",
   "execution_count": 18,
   "metadata": {
    "colab": {
     "base_uri": "https://localhost:8080/"
    },
    "executionInfo": {
     "elapsed": 5,
     "status": "ok",
     "timestamp": 1696174681418,
     "user": {
      "displayName": "Lucrezia Labardi",
      "userId": "04987227959803536314"
     },
     "user_tz": -120
    },
    "id": "2rwijxFlwKCf",
    "outputId": "e822b7b6-14dc-4da3-af10-c512e6d1e3fd"
   },
   "outputs": [
    {
     "data": {
      "text/plain": [
       "Jersey Fancy                     21219\n",
       "Accessories                      11456\n",
       "Jersey Basic                      8093\n",
       "Knitwear                          7421\n",
       "Under-, Nightwear                 7379\n",
       "Trousers                          6669\n",
       "Blouses                           5793\n",
       "Shoes                             5139\n",
       "Dresses Ladies                    4819\n",
       "Outdoor                           4476\n",
       "Unknown                           3812\n",
       "Trousers Denim                    3071\n",
       "Swimwear                          2771\n",
       "Socks and Tights                  2263\n",
       "Shirts                            2097\n",
       "Woven/Jersey/Knitted mix Baby     1960\n",
       "Shorts                            1542\n",
       "Dresses/Skirts girls              1537\n",
       "Skirts                            1249\n",
       "Special Offers                    1051\n",
       "Dressed                            895\n",
       "Name: garment_group_name, dtype: int64"
      ]
     },
     "execution_count": 18,
     "metadata": {},
     "output_type": "execute_result"
    }
   ],
   "source": [
    "#how many are they\n",
    "df_art[\"garment_group_name\"].value_counts()"
   ]
  },
  {
   "cell_type": "code",
   "execution_count": 27,
   "metadata": {
    "executionInfo": {
     "elapsed": 2,
     "status": "ok",
     "timestamp": 1696174664844,
     "user": {
      "displayName": "Lucrezia Labardi",
      "userId": "04987227959803536314"
     },
     "user_tz": -120
    },
    "id": "j83dhciLw_UI"
   },
   "outputs": [],
   "source": [
    "#substitute \"Unknown\" in the column with nan\n",
    "# df_art[\"garment_group_name\"] = np.where(df_art[\"garment_group_name\"] == 'Unknown', np.nan, df_art[\"garment_group_name\"])"
   ]
  },
  {
   "cell_type": "code",
   "execution_count": null,
   "metadata": {
    "colab": {
     "base_uri": "https://localhost:8080/"
    },
    "executionInfo": {
     "elapsed": 4,
     "status": "ok",
     "timestamp": 1696163733267,
     "user": {
      "displayName": "Lucrezia Labardi",
      "userId": "04987227959803536314"
     },
     "user_tz": -120
    },
    "id": "XoXu9iGhyr4j",
    "outputId": "675dbd44-5c31-456d-d295-ad480da8ecd6"
   },
   "outputs": [
    {
     "data": {
      "text/plain": [
       "3812"
      ]
     },
     "execution_count": 26,
     "metadata": {},
     "output_type": "execute_result"
    }
   ],
   "source": [
    "#check the number of nan, i'll see if I can replace them somehow\n",
    "# df_art[\"garment_group_name\"].isna().sum()"
   ]
  },
  {
   "cell_type": "code",
   "execution_count": 19,
   "metadata": {
    "colab": {
     "base_uri": "https://localhost:8080/"
    },
    "executionInfo": {
     "elapsed": 294,
     "status": "ok",
     "timestamp": 1696175685958,
     "user": {
      "displayName": "Lucrezia Labardi",
      "userId": "04987227959803536314"
     },
     "user_tz": -120
    },
    "id": "2Bb33fM051Ob",
    "outputId": "7512f4b6-6204-492f-de99-d7f0ad0e7049"
   },
   "outputs": [
    {
     "name": "stdout",
     "output_type": "stream",
     "text": [
      "The values with Unknown names are: 1001\n"
     ]
    }
   ],
   "source": [
    "# check if I can fill nan values in garment_no with garment_name\n",
    "#create a dictionary with unique couples garment_no : garment_name\n",
    "garment_couples = df_art[[\"garment_group_no\", \"garment_group_name\"]].drop_duplicates().set_index(\"garment_group_no\")[\"garment_group_name\"].to_dict()\n",
    "\n",
    "for chiave, valore in garment_couples.items():\n",
    "  if valore == \"Unknown\":\n",
    "    print(f\"The values with Unknown names are: {chiave}\")\n",
    "\n",
    "#it seems that code 1001 is always with nan so i can't fill missing values this way"
   ]
  },
  {
   "cell_type": "markdown",
   "metadata": {
    "id": "hUDeUEGy97eL"
   },
   "source": [
    "### Section Name"
   ]
  },
  {
   "cell_type": "code",
   "execution_count": 20,
   "metadata": {
    "colab": {
     "base_uri": "https://localhost:8080/"
    },
    "executionInfo": {
     "elapsed": 317,
     "status": "ok",
     "timestamp": 1696175690358,
     "user": {
      "displayName": "Lucrezia Labardi",
      "userId": "04987227959803536314"
     },
     "user_tz": -120
    },
    "id": "P9Tu5T9m980E",
    "outputId": "1565e8ac-180b-46d9-a956-ab56d6a33589"
   },
   "outputs": [
    {
     "data": {
      "text/plain": [
       "Womens Everyday Collection        7157\n",
       "Divided Collection                7112\n",
       "Baby Essentials & Complements     4927\n",
       "Kids Girl                         4456\n",
       "Young Girl                        3883\n",
       "Womens Lingerie                   3540\n",
       "Girls Underwear & Basics          3480\n",
       "Womens Tailoring                  3362\n",
       "Kids Boy                          3300\n",
       "Womens Small accessories          3259\n",
       "Kids Outerwear                    2662\n",
       "Womens Casual                     2652\n",
       "Womens Trend                      2609\n",
       "Divided Projects                  2358\n",
       "Young Boy                         2347\n",
       "H&M+                              2310\n",
       "Men Underwear                     2309\n",
       "Mama                              2248\n",
       "Kids & Baby Shoes                 2140\n",
       "Boys Underwear & Basics           2030\n",
       "Womens Shoes                      2024\n",
       "Ladies H&M Sport                  1849\n",
       "Womens Swimwear, beachwear        1825\n",
       "Contemporary Smart                1766\n",
       "Baby Girl                         1755\n",
       "Divided Accessories               1730\n",
       "Kids Accessories, Swimwear & D    1727\n",
       "Divided Basics                    1720\n",
       "Baby Boy                          1708\n",
       "Womens Big accessories            1642\n",
       "Womens Everyday Basics            1566\n",
       "Womens Nightwear, Socks & Tigh    1563\n",
       "Contemporary Casual               1533\n",
       "Contemporary Street               1478\n",
       "Men Suits & Tailoring             1404\n",
       "Men Accessories                   1319\n",
       "Womens Premium                    1246\n",
       "Ladies Denim                      1084\n",
       "Divided Selected                   970\n",
       "Men H&M Sport                      850\n",
       "Womens Jackets                     824\n",
       "Special Collections                680\n",
       "Men Shoes                          643\n",
       "Kids Sports                        626\n",
       "Mens Outerwear                     621\n",
       "Collaborations                     548\n",
       "Denim Men                          502\n",
       "Men Edition                        324\n",
       "Men Project                        297\n",
       "Divided Asia keys                  280\n",
       "Kids Local Relevance               189\n",
       "Men Other 2                        188\n",
       "Divided Complements Other           35\n",
       "EQ Divided                          26\n",
       "Men Other                           25\n",
       "Ladies Other                         4\n",
       "Name: section_name, dtype: int64"
      ]
     },
     "execution_count": 20,
     "metadata": {},
     "output_type": "execute_result"
    }
   ],
   "source": [
    "df_art[\"section_name\"].value_counts()"
   ]
  },
  {
   "cell_type": "code",
   "execution_count": 21,
   "metadata": {
    "colab": {
     "base_uri": "https://localhost:8080/"
    },
    "executionInfo": {
     "elapsed": 172,
     "status": "ok",
     "timestamp": 1696175865014,
     "user": {
      "displayName": "Lucrezia Labardi",
      "userId": "04987227959803536314"
     },
     "user_tz": -120
    },
    "id": "fTBwduec9Z3A",
    "outputId": "48208cab-3b3f-4232-9656-e25f62c3adaa"
   },
   "outputs": [
    {
     "data": {
      "text/plain": [
       "56"
      ]
     },
     "execution_count": 21,
     "metadata": {},
     "output_type": "execute_result"
    }
   ],
   "source": [
    "df_art[\"section_name\"].nunique()"
   ]
  },
  {
   "cell_type": "markdown",
   "metadata": {
    "id": "rS9MSpih-M5Q"
   },
   "source": [
    "### Index group name"
   ]
  },
  {
   "cell_type": "code",
   "execution_count": 22,
   "metadata": {
    "colab": {
     "base_uri": "https://localhost:8080/"
    },
    "executionInfo": {
     "elapsed": 186,
     "status": "ok",
     "timestamp": 1696175704822,
     "user": {
      "displayName": "Lucrezia Labardi",
      "userId": "04987227959803536314"
     },
     "user_tz": -120
    },
    "id": "Sor2R2HG-A1f",
    "outputId": "92c97697-7ea1-421d-dce8-4ad26fcd9e06"
   },
   "outputs": [
    {
     "data": {
      "text/plain": [
       "Ladieswear       39284\n",
       "Baby/Children    34604\n",
       "Divided          15090\n",
       "Menswear         12409\n",
       "Sport             3325\n",
       "Name: index_group_name, dtype: int64"
      ]
     },
     "execution_count": 22,
     "metadata": {},
     "output_type": "execute_result"
    }
   ],
   "source": [
    "df_art[\"index_group_name\"].value_counts()"
   ]
  },
  {
   "cell_type": "code",
   "execution_count": 23,
   "metadata": {
    "colab": {
     "base_uri": "https://localhost:8080/",
     "height": 447
    },
    "executionInfo": {
     "elapsed": 669,
     "status": "ok",
     "timestamp": 1696175748259,
     "user": {
      "displayName": "Lucrezia Labardi",
      "userId": "04987227959803536314"
     },
     "user_tz": -120
    },
    "id": "gl_tXG0r8-H4",
    "outputId": "f370feb0-771c-4fcd-f568-07d67e724d94"
   },
   "outputs": [
    {
     "data": {
      "text/plain": [
       "<Axes: >"
      ]
     },
     "execution_count": 23,
     "metadata": {},
     "output_type": "execute_result"
    },
    {
     "data": {
      "image/png": "[encoded data removed]",
      "text/plain": [
       "<Figure size 640x480 with 1 Axes>"
      ]
     },
     "metadata": {},
     "output_type": "display_data"
    }
   ],
   "source": [
    "df_art[\"index_group_name\"].hist()"
   ]
  },
  {
   "cell_type": "code",
   "execution_count": 63,
   "metadata": {
    "executionInfo": {
     "elapsed": 175,
     "status": "ok",
     "timestamp": 1696176084723,
     "user": {
      "displayName": "Lucrezia Labardi",
      "userId": "04987227959803536314"
     },
     "user_tz": -120
    },
    "id": "9T4AjFhh9PTZ"
   },
   "outputs": [],
   "source": [
    "# Divided is a fashion for young, teenagers who daring to try new style"
   ]
  },
  {
   "cell_type": "markdown",
   "metadata": {
    "id": "6A8TsIz2EDIA"
   },
   "source": [
    "### Prod name"
   ]
  },
  {
   "cell_type": "code",
   "execution_count": 24,
   "metadata": {
    "colab": {
     "base_uri": "https://localhost:8080/"
    },
    "executionInfo": {
     "elapsed": 5,
     "status": "ok",
     "timestamp": 1696176085355,
     "user": {
      "displayName": "Lucrezia Labardi",
      "userId": "04987227959803536314"
     },
     "user_tz": -120
    },
    "id": "0L8mQzXI-Vvo",
    "outputId": "fe27ab31-dde7-4ff1-bba0-701c180933a1"
   },
   "outputs": [
    {
     "data": {
      "text/plain": [
       "array(['Strap top', 'Strap top (1)', 'OP T-shirt (Idro)', ...,\n",
       "       'Cartwheel dress', 'CLAIRE HAIR CLAW', 'Lounge dress'],\n",
       "      dtype=object)"
      ]
     },
     "execution_count": 24,
     "metadata": {},
     "output_type": "execute_result"
    }
   ],
   "source": [
    "df_art[\"prod_name\"].unique()"
   ]
  },
  {
   "cell_type": "code",
   "execution_count": 25,
   "metadata": {
    "colab": {
     "base_uri": "https://localhost:8080/"
    },
    "executionInfo": {
     "elapsed": 4,
     "status": "ok",
     "timestamp": 1696176085936,
     "user": {
      "displayName": "Lucrezia Labardi",
      "userId": "04987227959803536314"
     },
     "user_tz": -120
    },
    "id": "MWneQlhZR-Fs",
    "outputId": "bab4e68b-1d5d-4dd6-b7ca-e276737972eb"
   },
   "outputs": [
    {
     "data": {
      "text/plain": [
       "Dragonfly dress          98\n",
       "Mike tee                 71\n",
       "Wow printed tee 6.99     68\n",
       "1pk Fun                  55\n",
       "TP Paddington Sweater    54\n",
       "                         ..\n",
       "Neo Relaxed Shorts        1\n",
       "DIV Ren Lace body         1\n",
       "Björn Slim Shorts         1\n",
       "Texas straw hat           1\n",
       "Lounge dress              1\n",
       "Name: prod_name, Length: 45685, dtype: int64"
      ]
     },
     "execution_count": 25,
     "metadata": {},
     "output_type": "execute_result"
    }
   ],
   "source": [
    "df_art[\"prod_name\"].value_counts()"
   ]
  },
  {
   "cell_type": "code",
   "execution_count": 26,
   "metadata": {
    "colab": {
     "base_uri": "https://localhost:8080/"
    },
    "executionInfo": {
     "elapsed": 258,
     "status": "ok",
     "timestamp": 1696176094052,
     "user": {
      "displayName": "Lucrezia Labardi",
      "userId": "04987227959803536314"
     },
     "user_tz": -120
    },
    "id": "M7iYoAulRFPc",
    "outputId": "ae9334f0-8de7-440c-e924-db8a302ad4e1"
   },
   "outputs": [
    {
     "data": {
      "text/plain": [
       "45685"
      ]
     },
     "execution_count": 26,
     "metadata": {},
     "output_type": "execute_result"
    }
   ],
   "source": [
    "df_art[\"prod_name\"].nunique()\n",
    "#maybe this can be a problem, cause a lot of values occur just once"
   ]
  },
  {
   "cell_type": "code",
   "execution_count": 27,
   "metadata": {
    "colab": {
     "base_uri": "https://localhost:8080/"
    },
    "executionInfo": {
     "elapsed": 280,
     "status": "ok",
     "timestamp": 1696176216737,
     "user": {
      "displayName": "Lucrezia Labardi",
      "userId": "04987227959803536314"
     },
     "user_tz": -120
    },
    "id": "ufdPN4TN-iTK",
    "outputId": "6adaad32-d7bf-45df-a8bd-d4afccb23fe6"
   },
   "outputs": [
    {
     "name": "stdout",
     "output_type": "stream",
     "text": [
      "22922\n"
     ]
    }
   ],
   "source": [
    "prod_names = df_art[\"prod_name\"].value_counts()\n",
    "prod_names_unique = prod_names[prod_names == 1]\n",
    "print(len(prod_names_unique))"
   ]
  },
  {
   "cell_type": "code",
   "execution_count": 28,
   "metadata": {
    "colab": {
     "base_uri": "https://localhost:8080/"
    },
    "executionInfo": {
     "elapsed": 229,
     "status": "ok",
     "timestamp": 1696176380626,
     "user": {
      "displayName": "Lucrezia Labardi",
      "userId": "04987227959803536314"
     },
     "user_tz": -120
    },
    "id": "tKcBSeYOQu8K",
    "outputId": "0946dd12-35ad-4966-d0f2-3e9ee4eac422"
   },
   "outputs": [
    {
     "name": "stdout",
     "output_type": "stream",
     "text": [
      "There's not an Unknown value in the column\n"
     ]
    }
   ],
   "source": [
    "# Check if \"Unknown\" value is in the column\n",
    "if \"Unknown\" in df_art[\"prod_name\"].unique():\n",
    "    print(\"There's an Unknown value in the column\")\n",
    "else:\n",
    "    print(\"There's not an Unknown value in the column\")"
   ]
  },
  {
   "cell_type": "markdown",
   "metadata": {
    "id": "2JIuamg7EIlM"
   },
   "source": [
    "### Prod type name"
   ]
  },
  {
   "cell_type": "code",
   "execution_count": 29,
   "metadata": {
    "colab": {
     "base_uri": "https://localhost:8080/"
    },
    "executionInfo": {
     "elapsed": 175,
     "status": "ok",
     "timestamp": 1696176437946,
     "user": {
      "displayName": "Lucrezia Labardi",
      "userId": "04987227959803536314"
     },
     "user_tz": -120
    },
    "id": "cAEVz1_0-m4H",
    "outputId": "b0b4297b-7301-4fce-cfdf-3e126bbc6c6b"
   },
   "outputs": [
    {
     "data": {
      "text/plain": [
       "array(['Vest top', 'Bra', 'Underwear Tights', 'Socks', 'Leggings/Tights',\n",
       "       'Sweater', 'Top', 'Trousers', 'Hair clip', 'Umbrella',\n",
       "       'Pyjama jumpsuit/playsuit', 'Bodysuit', 'Hair string', 'Hoodie',\n",
       "       'Sleep Bag', 'Hair/alice band', 'Belt', 'Boots', 'Bikini top',\n",
       "       'Swimwear bottom', 'Underwear bottom', 'Swimsuit', 'Skirt',\n",
       "       'T-shirt', 'Dress', 'Hat/beanie', 'Kids Underwear top', 'Shorts',\n",
       "       'Shirt', 'Cap/peaked', 'Pyjama set', 'Sneakers', 'Sunglasses',\n",
       "       'Cardigan', 'Gloves', 'Earring', 'Bag', 'Blazer', 'Other shoe',\n",
       "       'Jumpsuit/Playsuit', 'Sandals', 'Jacket', 'Costumes', 'Robe',\n",
       "       'Scarf', 'Coat', 'Other accessories', 'Polo shirt', 'Slippers',\n",
       "       'Night gown', 'Alice band', 'Straw hat', 'Hat/brim',\n",
       "       'Tailored Waistcoat', 'Necklace', 'Ballerinas', 'Tie',\n",
       "       'Pyjama bottom', 'Felt hat', 'Bracelet', 'Blouse',\n",
       "       'Outdoor overall', 'Watch', 'Underwear body', 'Beanie', 'Giftbox',\n",
       "       'Sleeping sack', 'Dungarees', 'Outdoor trousers', 'Wallet',\n",
       "       'Swimwear set', 'Swimwear top', 'Flat shoe', 'Garment Set', 'Ring',\n",
       "       'Waterbottle', 'Wedge', 'Long John', 'Outdoor Waistcoat', 'Pumps',\n",
       "       'Flip flop', 'Braces', 'Bootie', 'Fine cosmetics',\n",
       "       'Heeled sandals', 'Nipple covers', 'Chem. cosmetics', 'Soft Toys',\n",
       "       'Hair ties', 'Underwear corset', 'Bra extender', 'Underdress',\n",
       "       'Underwear set', 'Leg warmers', 'Sarong', 'Blanket', 'Hairband',\n",
       "       'Tote bag', 'Weekend/Gym bag', 'Cushion', 'Backpack', 'Earrings',\n",
       "       'Bucket hat', 'Flat shoes', 'Heels', 'Cap', 'Shoulder bag',\n",
       "       'Side table', 'Accessories set', 'Headband', 'Baby Bib',\n",
       "       'Keychain', 'Dog Wear', 'Washing bag', 'Sewing kit',\n",
       "       'Cross-body bag', 'Moccasins', 'Towel', 'Wood balls',\n",
       "       'Zipper head', 'Mobile case', 'Pre-walkers', 'Toy', 'Marker pen',\n",
       "       'Bumbag', 'Dog wear', 'Eyeglasses', 'Wireless earphone case',\n",
       "       'Stain remover spray', 'Clothing mist'], dtype=object)"
      ]
     },
     "execution_count": 29,
     "metadata": {},
     "output_type": "execute_result"
    }
   ],
   "source": [
    "df_art[\"product_type_name\"].unique()"
   ]
  },
  {
   "cell_type": "code",
   "execution_count": 30,
   "metadata": {
    "colab": {
     "base_uri": "https://localhost:8080/"
    },
    "executionInfo": {
     "elapsed": 173,
     "status": "ok",
     "timestamp": 1696176443371,
     "user": {
      "displayName": "Lucrezia Labardi",
      "userId": "04987227959803536314"
     },
     "user_tz": -120
    },
    "id": "tb6bKUYUSF98",
    "outputId": "6574b348-15a6-4232-b988-a44258776903"
   },
   "outputs": [
    {
     "data": {
      "text/plain": [
       "Trousers         11056\n",
       "Dress            10272\n",
       "Sweater           9221\n",
       "T-shirt           7847\n",
       "Top               4108\n",
       "                 ...  \n",
       "Keychain             1\n",
       "Cushion              1\n",
       "Blanket              1\n",
       "Bra extender         1\n",
       "Clothing mist        1\n",
       "Name: product_type_name, Length: 130, dtype: int64"
      ]
     },
     "execution_count": 30,
     "metadata": {},
     "output_type": "execute_result"
    }
   ],
   "source": [
    "df_art[\"product_type_name\"].value_counts()"
   ]
  },
  {
   "cell_type": "code",
   "execution_count": 31,
   "metadata": {
    "colab": {
     "base_uri": "https://localhost:8080/"
    },
    "executionInfo": {
     "elapsed": 171,
     "status": "ok",
     "timestamp": 1696176475507,
     "user": {
      "displayName": "Lucrezia Labardi",
      "userId": "04987227959803536314"
     },
     "user_tz": -120
    },
    "id": "ITTpsXH1SF99",
    "outputId": "6c74443e-843f-4e6f-91d2-9874a692e8d0"
   },
   "outputs": [
    {
     "data": {
      "text/plain": [
       "130"
      ]
     },
     "execution_count": 31,
     "metadata": {},
     "output_type": "execute_result"
    }
   ],
   "source": [
    "df_art[\"product_type_name\"].nunique()"
   ]
  },
  {
   "cell_type": "code",
   "execution_count": 32,
   "metadata": {
    "colab": {
     "base_uri": "https://localhost:8080/"
    },
    "executionInfo": {
     "elapsed": 290,
     "status": "ok",
     "timestamp": 1696176519184,
     "user": {
      "displayName": "Lucrezia Labardi",
      "userId": "04987227959803536314"
     },
     "user_tz": -120
    },
    "id": "1C066EVr_u7X",
    "outputId": "6744c81c-6450-4f31-e561-2b4a1e6fdc15"
   },
   "outputs": [
    {
     "name": "stdout",
     "output_type": "stream",
     "text": [
      "12\n"
     ]
    }
   ],
   "source": [
    "prod_types = df_art[\"product_type_name\"].value_counts()\n",
    "prod_types_unique = prod_types[prod_types == 1]\n",
    "print(len(prod_types_unique))"
   ]
  },
  {
   "cell_type": "code",
   "execution_count": 33,
   "metadata": {
    "colab": {
     "base_uri": "https://localhost:8080/"
    },
    "executionInfo": {
     "elapsed": 301,
     "status": "ok",
     "timestamp": 1696176452824,
     "user": {
      "displayName": "Lucrezia Labardi",
      "userId": "04987227959803536314"
     },
     "user_tz": -120
    },
    "id": "xW8v563bSF9-",
    "outputId": "657532d6-653d-4c1f-ab72-6316d5003da6"
   },
   "outputs": [
    {
     "name": "stdout",
     "output_type": "stream",
     "text": [
      "There's not an unknown value in this column\n"
     ]
    }
   ],
   "source": [
    "# check if there is an unknown value\n",
    "if \"Unknown\" in df_art[\"product_type_name\"].unique():\n",
    "    print(\"There's an unknown value in this column\")\n",
    "else:\n",
    "    print(\"There's not an unknown value in this column\")"
   ]
  },
  {
   "cell_type": "markdown",
   "metadata": {
    "id": "uMHhbLL5EK9l"
   },
   "source": [
    "### Prod group name"
   ]
  },
  {
   "cell_type": "code",
   "execution_count": 34,
   "metadata": {
    "colab": {
     "base_uri": "https://localhost:8080/"
    },
    "executionInfo": {
     "elapsed": 204,
     "status": "ok",
     "timestamp": 1696176548569,
     "user": {
      "displayName": "Lucrezia Labardi",
      "userId": "04987227959803536314"
     },
     "user_tz": -120
    },
    "id": "v3yMJZdP-36E",
    "outputId": "b1facf47-c95c-4ff5-930b-7c4e6baab0b0"
   },
   "outputs": [
    {
     "data": {
      "text/plain": [
       "array(['Garment Upper body', 'Underwear', 'Socks & Tights',\n",
       "       'Garment Lower body', 'Accessories', 'Items', 'Nightwear',\n",
       "       'Underwear/nightwear', 'Shoes', 'Swimwear', 'Garment Full body',\n",
       "       'Cosmetic', 'Interior textile', 'Bags', 'Furniture',\n",
       "       'Garment and Shoe care', 'Fun', 'Stationery'], dtype=object)"
      ]
     },
     "execution_count": 34,
     "metadata": {},
     "output_type": "execute_result"
    }
   ],
   "source": [
    "df_art[\"product_group_name\"].unique()"
   ]
  },
  {
   "cell_type": "code",
   "execution_count": 35,
   "metadata": {
    "colab": {
     "base_uri": "https://localhost:8080/"
    },
    "executionInfo": {
     "elapsed": 4,
     "status": "ok",
     "timestamp": 1696176549112,
     "user": {
      "displayName": "Lucrezia Labardi",
      "userId": "04987227959803536314"
     },
     "user_tz": -120
    },
    "id": "nbEgXIeTSheO",
    "outputId": "fd169154-685a-48e5-d9a3-593804f04119"
   },
   "outputs": [
    {
     "data": {
      "text/plain": [
       "Garment Upper body       42425\n",
       "Garment Lower body       19622\n",
       "Garment Full body        13192\n",
       "Accessories              11110\n",
       "Underwear                 5465\n",
       "Shoes                     5277\n",
       "Swimwear                  3111\n",
       "Socks & Tights            2437\n",
       "Nightwear                 1896\n",
       "Underwear/nightwear         54\n",
       "Cosmetic                    49\n",
       "Bags                        25\n",
       "Items                       17\n",
       "Furniture                   13\n",
       "Garment and Shoe care        9\n",
       "Stationery                   5\n",
       "Interior textile             3\n",
       "Fun                          2\n",
       "Name: product_group_name, dtype: int64"
      ]
     },
     "execution_count": 35,
     "metadata": {},
     "output_type": "execute_result"
    }
   ],
   "source": [
    "df_art[\"product_group_name\"].value_counts()"
   ]
  },
  {
   "cell_type": "code",
   "execution_count": 36,
   "metadata": {
    "colab": {
     "base_uri": "https://localhost:8080/"
    },
    "executionInfo": {
     "elapsed": 194,
     "status": "ok",
     "timestamp": 1696176554814,
     "user": {
      "displayName": "Lucrezia Labardi",
      "userId": "04987227959803536314"
     },
     "user_tz": -120
    },
    "id": "2KltYkRJ_uWs",
    "outputId": "88661434-5320-467b-cd11-aa0e37a8aa94"
   },
   "outputs": [
    {
     "name": "stdout",
     "output_type": "stream",
     "text": [
      "The values with Unknown names are: Furniture\n",
      "The values with Unknown names are: Garment and Shoe care\n",
      "The values with Unknown names are: Stationery\n"
     ]
    }
   ],
   "source": [
    "# check if I can fill nan values in garment_group_name with product_group_name\n",
    "garment_product_couples = df_art[[\"product_group_name\", \"garment_group_name\"]].drop_duplicates().set_index(\"product_group_name\")[\"garment_group_name\"].to_dict()\n",
    "\n",
    "for chiave, valore in garment_product_couples.items():\n",
    "  if valore == \"Unknown\":\n",
    "    print(f\"The values with Unknown names are: {chiave}\")\n",
    "\n",
    "#nan values have a match with Forniture, garment and shoe care, stationery: they're not clothes so maybe this is the reason the garment name was unknown"
   ]
  },
  {
   "cell_type": "markdown",
   "metadata": {
    "id": "FeAf8aq5ERn3"
   },
   "source": [
    "### Graphical appearance name"
   ]
  },
  {
   "cell_type": "code",
   "execution_count": 37,
   "metadata": {
    "colab": {
     "base_uri": "https://localhost:8080/"
    },
    "executionInfo": {
     "elapsed": 188,
     "status": "ok",
     "timestamp": 1696176558524,
     "user": {
      "displayName": "Lucrezia Labardi",
      "userId": "04987227959803536314"
     },
     "user_tz": -120
    },
    "id": "HNo0Kcds_-AW",
    "outputId": "76f599ec-6902-432d-8e48-0640b306d55e"
   },
   "outputs": [
    {
     "data": {
      "text/plain": [
       "Solid                  49413\n",
       "All over pattern       17037\n",
       "Melange                 5867\n",
       "Stripe                  4951\n",
       "Denim                   4796\n",
       "Front print             3191\n",
       "Placement print         3081\n",
       "Check                   2149\n",
       "Colour blocking         1813\n",
       "Lace                    1503\n",
       "Other structure         1484\n",
       "Application/3D          1337\n",
       "Embroidery              1156\n",
       "Mixed solid/pattern     1129\n",
       "Glittering/Metallic      955\n",
       "Jacquard                 822\n",
       "Sequin                   805\n",
       "Dot                      680\n",
       "Treatment                575\n",
       "Other pattern            513\n",
       "Contrast                 376\n",
       "Metallic                 345\n",
       "Chambray                 322\n",
       "Slub                     153\n",
       "Transparent               86\n",
       "Mesh                      84\n",
       "Neps                      66\n",
       "Argyle                    15\n",
       "Hologram                   8\n",
       "Name: graphical_appearance_name, dtype: int64"
      ]
     },
     "execution_count": 37,
     "metadata": {},
     "output_type": "execute_result"
    }
   ],
   "source": [
    "df_art[\"graphical_appearance_name\"].value_counts()"
   ]
  },
  {
   "cell_type": "markdown",
   "metadata": {
    "id": "gBbqAx2KEWFW"
   },
   "source": [
    "### Colour group name"
   ]
  },
  {
   "cell_type": "code",
   "execution_count": 38,
   "metadata": {
    "colab": {
     "base_uri": "https://localhost:8080/"
    },
    "executionInfo": {
     "elapsed": 175,
     "status": "ok",
     "timestamp": 1696176565333,
     "user": {
      "displayName": "Lucrezia Labardi",
      "userId": "04987227959803536314"
     },
     "user_tz": -120
    },
    "id": "-QrJch87Ajtz",
    "outputId": "19d16fdb-33ea-44db-edbc-94493d0f2dc0"
   },
   "outputs": [
    {
     "data": {
      "text/plain": [
       "Black              22549\n",
       "Dark Blue          12158\n",
       "White               9359\n",
       "Light Pink          5808\n",
       "Grey                4432\n",
       "Light Beige         3351\n",
       "Blue                3300\n",
       "Red                 3052\n",
       "Light Blue          3010\n",
       "Greenish Khaki      2766\n",
       "Beige               2706\n",
       "Off White           2642\n",
       "Dark Grey           2530\n",
       "Dark Red            2340\n",
       "Dark Green          2105\n",
       "Pink                2062\n",
       "Light Grey          2011\n",
       "Yellow              1645\n",
       "Light Orange        1518\n",
       "Yellowish Brown     1464\n",
       "Gold                1376\n",
       "Dark Beige          1081\n",
       "Light Turquoise     1027\n",
       "Light Yellow         984\n",
       "Dark Orange          885\n",
       "Dark Pink            817\n",
       "Green                815\n",
       "Orange               779\n",
       "Other Pink           750\n",
       "Silver               707\n",
       "Light Green          681\n",
       "Dark Yellow          574\n",
       "Light Purple         551\n",
       "Dark Turquoise       473\n",
       "Turquoise            435\n",
       "Dark Purple          314\n",
       "Light Red            285\n",
       "Greyish Beige        226\n",
       "Other Yellow         225\n",
       "Purple               182\n",
       "Other Orange         153\n",
       "Other Green          129\n",
       "Other Red            114\n",
       "Other                105\n",
       "Bronze/Copper         94\n",
       "Other Blue            51\n",
       "Other Purple          46\n",
       "Transparent           31\n",
       "Other Turquoise       14\n",
       "Name: colour_group_name, dtype: int64"
      ]
     },
     "execution_count": 38,
     "metadata": {},
     "output_type": "execute_result"
    }
   ],
   "source": [
    "df_art[\"colour_group_name\"].value_counts()\n",
    "#maybe we should replace alle the \"light/other colour\" whith the name of the colour to make earier analysis"
   ]
  },
  {
   "cell_type": "markdown",
   "metadata": {
    "id": "VMffI5uZEYjz"
   },
   "source": [
    "### Perceived colour value name"
   ]
  },
  {
   "cell_type": "code",
   "execution_count": 39,
   "metadata": {
    "colab": {
     "base_uri": "https://localhost:8080/"
    },
    "executionInfo": {
     "elapsed": 208,
     "status": "ok",
     "timestamp": 1696176569765,
     "user": {
      "displayName": "Lucrezia Labardi",
      "userId": "04987227959803536314"
     },
     "user_tz": -120
    },
    "id": "HdV_QqL6Ajv8",
    "outputId": "89a83385-9b79-4db6-9604-f887b1b1414e"
   },
   "outputs": [
    {
     "data": {
      "text/plain": [
       "Dark            42362\n",
       "Dusty Light     21985\n",
       "Light           15550\n",
       "Medium Dusty    12561\n",
       "Bright           6441\n",
       "Medium           5708\n",
       "Undefined         105\n",
       "Name: perceived_colour_value_name, dtype: int64"
      ]
     },
     "execution_count": 39,
     "metadata": {},
     "output_type": "execute_result"
    }
   ],
   "source": [
    "df_art[\"perceived_colour_value_name\"].value_counts()\n",
    "#Undefined can be considered as nan, maybe it should be joined with medium"
   ]
  },
  {
   "cell_type": "code",
   "execution_count": 40,
   "metadata": {
    "colab": {
     "base_uri": "https://localhost:8080/"
    },
    "executionInfo": {
     "elapsed": 213,
     "status": "ok",
     "timestamp": 1696176711129,
     "user": {
      "displayName": "Lucrezia Labardi",
      "userId": "04987227959803536314"
     },
     "user_tz": -120
    },
    "id": "K9JJxuTgAjzd",
    "outputId": "7aa5b5d0-af3f-4989-bfd7-0328c3876eb6"
   },
   "outputs": [
    {
     "name": "stdout",
     "output_type": "stream",
     "text": [
      "The values with Unknown names are: 6.0\n"
     ]
    }
   ],
   "source": [
    "#check if I can fill undefined values with the code but not\n",
    "perceived_colour_id_names_couples = df_art[[\"perceived_colour_value_name\", \"perceived_colour_value_id\"]].drop_duplicates().set_index(\"perceived_colour_value_id\")[\"perceived_colour_value_name\"].to_dict()\n",
    "\n",
    "for chiave, valore in perceived_colour_id_names_couples.items():\n",
    "  if valore == \"Undefined\":\n",
    "    print(f\"The values with Unknown names are: {chiave}\")\n",
    "\n",
    "#id = 6 always matches with undefindes, so we can't fill nan values this way"
   ]
  },
  {
   "cell_type": "code",
   "execution_count": 41,
   "metadata": {
    "colab": {
     "base_uri": "https://localhost:8080/"
    },
    "executionInfo": {
     "elapsed": 188,
     "status": "ok",
     "timestamp": 1696176827010,
     "user": {
      "displayName": "Lucrezia Labardi",
      "userId": "04987227959803536314"
     },
     "user_tz": -120
    },
    "id": "9pt5a6vdTKGV",
    "outputId": "540ac569-8c48-4ab3-a0b2-be1ee56f3825"
   },
   "outputs": [
    {
     "name": "stdout",
     "output_type": "stream",
     "text": [
      "The values with Unknown names are: Other\n"
     ]
    }
   ],
   "source": [
    "#check if I can fill undefined values with colour names but not\n",
    "perceived_colour_names_couples = df_art[[\"perceived_colour_value_name\", \"colour_group_name\"]].drop_duplicates().set_index(\"perceived_colour_value_name\")[\"colour_group_name\"].to_dict()\n",
    "\n",
    "for chiave, valore in perceived_colour_names_couples.items():\n",
    "  if chiave == \"Undefined\":\n",
    "    print(f\"The values with Unknown names are: {valore}\")\n",
    "\n"
   ]
  },
  {
   "cell_type": "markdown",
   "metadata": {
    "id": "CvhQIL-7EhE1"
   },
   "source": [
    "### Department name"
   ]
  },
  {
   "cell_type": "code",
   "execution_count": 42,
   "metadata": {
    "colab": {
     "base_uri": "https://localhost:8080/"
    },
    "executionInfo": {
     "elapsed": 404,
     "status": "ok",
     "timestamp": 1696177097877,
     "user": {
      "displayName": "Lucrezia Labardi",
      "userId": "04987227959803536314"
     },
     "user_tz": -120
    },
    "id": "kfnoep4LCSv8",
    "outputId": "21624ffb-3592-4434-d320-c1ceed0e808c"
   },
   "outputs": [
    {
     "data": {
      "text/plain": [
       "Jersey                             4543\n",
       "Knitwear                           3460\n",
       "Trouser                            2624\n",
       "Blouse                             2339\n",
       "Swimwear                           2060\n",
       "                                   ... \n",
       "Jersey inactive from S.6              1\n",
       "Woven bottoms inactive from S.7       1\n",
       "Shirt Extended inactive from s1       1\n",
       "EQ Divided Blue                       1\n",
       "Accessories Other                     1\n",
       "Name: department_name, Length: 249, dtype: int64"
      ]
     },
     "execution_count": 42,
     "metadata": {},
     "output_type": "execute_result"
    }
   ],
   "source": [
    "df_art[\"department_name\"].value_counts()"
   ]
  },
  {
   "cell_type": "code",
   "execution_count": 43,
   "metadata": {
    "colab": {
     "base_uri": "https://localhost:8080/"
    },
    "executionInfo": {
     "elapsed": 6,
     "status": "ok",
     "timestamp": 1696177097878,
     "user": {
      "displayName": "Lucrezia Labardi",
      "userId": "04987227959803536314"
     },
     "user_tz": -120
    },
    "id": "r5XW0Ny7TxjQ",
    "outputId": "bbce35e4-d052-4f01-959b-5306f7c4fa15"
   },
   "outputs": [
    {
     "data": {
      "text/plain": [
       "array(['Jersey Basic', 'Clean Lingerie', 'Tights basic', 'Baby basics',\n",
       "       'Casual Lingerie', 'Jersey', 'EQ & Special Collections',\n",
       "       'Hair Accessories', 'Other items', 'Baby Nightwear',\n",
       "       'Men Sport Woven', 'Men Sport Bottoms', 'Kids Boy Denim',\n",
       "       'Shopbasket Socks', 'Socks', 'UW', 'Young Girl Jersey Basic',\n",
       "       'Jacket Street', 'Belts', 'Divided Shoes', 'Swimwear',\n",
       "       'Underwear Jersey', 'Basic 1', 'Tops Knitwear DS', 'Men Sport Acc',\n",
       "       'Kids Boy Jersey Basic', 'Young Girl UW/NW', 'Shirt', 'Nightwear',\n",
       "       'Trouser', 'Small Accessories', 'Sunglasses', 'Gloves/Hats',\n",
       "       'Knit & Woven', 'Basics', 'Accessories', 'Jewellery',\n",
       "       'Jersey Fancy DS', 'Trousers DS', 'Bags', 'Blazer S&T', 'Knitwear',\n",
       "       'Woven bottoms', 'Shorts', 'Dresses DS', 'Expressive Lingerie',\n",
       "       'Kids Girl UW/NW', 'Young Boy Jersey Basic', 'Kids Girl S&T',\n",
       "       'Young Girl S&T', 'Shoes / Boots inactive from s5', 'Nursing',\n",
       "       'Jersey Fancy', 'Shoes', 'Functional Lingerie', 'Men Sport Tops',\n",
       "       'Other Accessories', 'Young Boy Trouser', 'Outdoor/Blazers DS',\n",
       "       'Mama Lingerie', 'Socks Bin', 'Denim Other Garments',\n",
       "       'Everyday Waredrobe Denim', 'Trousers', 'Denim Trousers',\n",
       "       'Outdoor/Blazers', 'Young Boy Denim', 'Scarves', 'Dresses',\n",
       "       'Skirts', 'Kids Girl Jersey Basic', 'Baby Socks',\n",
       "       'Trousers & Skirt', 'Young Boy Shirt', 'Kids Girl Big Acc',\n",
       "       'Young Girl Denim', 'Flats', 'Baby Toys/Acc', 'Projects Dresses',\n",
       "       'Denim shorts', 'Jersey inactive from s1', 'Promotion/Other/Offer',\n",
       "       'Bags & Items', 'Small Bags', 'Trouser S&T', 'Shirt S&T',\n",
       "       'Woven Tops', 'Denim trousers', 'Young Girl Knitwear', 'Outwear',\n",
       "       'Knitwear inactive from s1', 'Projects Woven Tops',\n",
       "       'Projects Jersey & Knitwear',\n",
       "       'Denim wardrobe H&M man inactive from S.6', 'Baby Boy Outdoor',\n",
       "       'Premium Quality', 'Woven inactive from s1', 'Tops woven DS',\n",
       "       'Newborn', 'Skirt', 'Jersey License', 'Jewellery Extended',\n",
       "       'Light Basic Jersey', 'Suit Extended inactive from s1',\n",
       "       'Young Boy UW/NW', 'Tops Knitwear', 'Kids Boy Socks',\n",
       "       'Young Boy Socks', 'Outdoor inactive from s1',\n",
       "       'Kids Girl Swimwear', 'Young Girl Swimwear', 'Ladies Sport Bras',\n",
       "       'Ladies Sport Bottoms', 'Jersey fancy', 'Blazer', 'Baby Boy Woven',\n",
       "       'Kids Boy Swimwear', 'Young boy Swimwear',\n",
       "       'Kids Dress-up/Football', 'Sneakers small girl inactive from s2',\n",
       "       'Tops Woven', 'Blouse', 'Shorts DS', 'Boots', 'Kids Boy Big Acc',\n",
       "       'Boys Small Acc & Bags', 'Woven top', 'Young Girl Dresses',\n",
       "       'Knitwear Basic', 'Sneakers', 'Dress', 'Baby Girl Woven',\n",
       "       'Baby Girl Jersey Fancy', 'Jacket Casual', 'Kids Boy UW/NW',\n",
       "       'Ladies Sport Acc', 'Kids Girl Jersey Fancy', 'Baby Exclusive',\n",
       "       'Young Boy Shorts', 'EQ Divided Basics', 'Shorts & Skirts',\n",
       "       'Promotion/ Other /Offer', 'Kids Boy Trouser', 'Tops Fancy Jersey',\n",
       "       'Kids Girl Knitwear', 'Kids Boy Jersey Fancy', 'Heels',\n",
       "       'Woven Premium', 'Blouse & Dress', 'Kids Girl Trouser',\n",
       "       'Kids Girl Dresses', 'Projects Woven Bottoms',\n",
       "       'Conscious Exclusive', 'Shoes Other', 'Kids Girl Outdoor',\n",
       "       'Skirts DS', 'Young Girl Jersey Fancy', 'Young Boy Outdoor',\n",
       "       'Young Girl Outdoor', 'Woven Occasion', 'Kids Boy Outdoor',\n",
       "       'Young Boy Jersey Fancy', 'Kids Boy Shoes', 'Ladies Sport Woven',\n",
       "       'Bottoms Girls', 'Tops Girls', 'Young Girl Big Acc',\n",
       "       'Young Boy Shoes', 'Young Boy Knitwear', 'Suit', 'Kids Girl Shoes',\n",
       "       'Jacket Smart', 'Projects', 'Kids Boy Knitwear',\n",
       "       'Woven bottoms inactive from S.7', 'Jersey/Knitwear Premium',\n",
       "       'Sneakers big girl inactive from s2', 'Suit jacket',\n",
       "       'Kids Boy Shirt', 'Jacket', 'Kids Girl Denim',\n",
       "       'Young Girl Trouser', 'Girls Small Acc/Bags',\n",
       "       'Shirt Extended inactive from s1', 'Tops Boys',\n",
       "       'Baby Girl Knitwear', 'Baby Shoes', 'Jackets', 'Jersey Occasion',\n",
       "       'Young Boy Big Acc', 'Kids Girl License', 'Baby Boy Jersey Fancy',\n",
       "       'Bottoms Boys', 'Local relevance', 'Dress-up Boys',\n",
       "       'Small Acc. Jewellery & Other', 'Baby Boy Knitwear',\n",
       "       'Equatorial Assortment', 'Loungewear', 'Studio Collection',\n",
       "       'Woven', 'Outwear & Blazers',\n",
       "       'Underwear Jersey Fancy inactive from s1', 'Special Collection',\n",
       "       'Take Care External', 'Equatorial', 'Divided+',\n",
       "       'OL Extended Sizes', 'Campaigns', 'Underwear Woven',\n",
       "       'Heavy Basic Jersey', 'EQ H&M Man', 'Young Girl Shoes', 'AK Other',\n",
       "       'Kids Boy Shorts', 'Bottoms', 'Shopbasket Lingerie',\n",
       "       'Baby Girl Outdoor', 'Promotion / Other / Offer',\n",
       "       'Divided+ inactive from s.1', 'Tops & Bottoms Other', 'Take care',\n",
       "       'Girls Local Relevance', 'AK Dresses & Outdoor', 'Limited Edition',\n",
       "       'AK Tops Jersey & Woven', 'AK Tops Knitwear', 'Divided Swimwear',\n",
       "       'AK Bottoms', 'Girls Projects', 'On Demand', 'Test Ladies',\n",
       "       'Socks Wall', 'Jersey inactive from S.6', 'Boys Local Relevance',\n",
       "       'License', 'Price Items', 'Asia Assortment', 'Accessories Boys',\n",
       "       'Read & React', 'EQ Ladies Denim', 'Small Accessories Extended',\n",
       "       'Baby Boy Local Relevance', 'Kids Girl Exclusive',\n",
       "       'Baby Girl Local Relevance', 'EQ Divided Blue',\n",
       "       'Kids Boy Exclusive', 'Accessories Other', 'Blanks'], dtype=object)"
      ]
     },
     "execution_count": 43,
     "metadata": {},
     "output_type": "execute_result"
    }
   ],
   "source": [
    "df_art[\"department_name\"].unique()"
   ]
  },
  {
   "cell_type": "code",
   "execution_count": 44,
   "metadata": {
    "colab": {
     "base_uri": "https://localhost:8080/"
    },
    "executionInfo": {
     "elapsed": 244,
     "status": "ok",
     "timestamp": 1696177134812,
     "user": {
      "displayName": "Lucrezia Labardi",
      "userId": "04987227959803536314"
     },
     "user_tz": -120
    },
    "id": "wcSYw2LNCOPc",
    "outputId": "20d4449c-59da-4094-c45c-7939d0d4b3ca"
   },
   "outputs": [
    {
     "data": {
      "text/plain": [
       "249"
      ]
     },
     "execution_count": 44,
     "metadata": {},
     "output_type": "execute_result"
    }
   ],
   "source": [
    "df_art[\"department_name\"].nunique()"
   ]
  },
  {
   "cell_type": "code",
   "execution_count": 45,
   "metadata": {
    "colab": {
     "base_uri": "https://localhost:8080/"
    },
    "executionInfo": {
     "elapsed": 184,
     "status": "ok",
     "timestamp": 1696177170086,
     "user": {
      "displayName": "Lucrezia Labardi",
      "userId": "04987227959803536314"
     },
     "user_tz": -120
    },
    "id": "I7XCfzjECOPi",
    "outputId": "096cc8bc-c775-4482-af2b-397589bfefc7"
   },
   "outputs": [
    {
     "name": "stdout",
     "output_type": "stream",
     "text": [
      "5\n"
     ]
    }
   ],
   "source": [
    "dep = df_art[\"department_name\"].value_counts()\n",
    "dep_unique = dep[dep == 1]\n",
    "print(len(dep_unique))"
   ]
  },
  {
   "cell_type": "code",
   "execution_count": null,
   "metadata": {
    "id": "3hQef55VCaTg"
   },
   "outputs": [],
   "source": []
  }
 ],
 "metadata": {
  "colab": {
   "authorship_tag": "ABX9TyP3AVYGbXii/jIMWc7fX12e",
   "provenance": [],
   "toc_visible": true
  },
  "kernelspec": {
   "display_name": "Python 3 (ipykernel)",
   "language": "python",
   "name": "python3"
  },
  "language_info": {
   "codemirror_mode": {
    "name": "ipython",
    "version": 3
   },
   "file_extension": ".py",
   "mimetype": "text/x-python",
   "name": "python",
   "nbconvert_exporter": "python",
   "pygments_lexer": "ipython3",
   "version": "3.11.5"
  }
 },
 "nbformat": 4,
 "nbformat_minor": 1
}
