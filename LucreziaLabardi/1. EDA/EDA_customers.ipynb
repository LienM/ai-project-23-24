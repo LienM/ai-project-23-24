{
 "cells": [
  {
   "cell_type": "markdown",
   "metadata": {
    "id": "hSxpxlRpAUXD"
   },
   "source": [
    "# Data Understanding Customers"
   ]
  },
  {
   "cell_type": "markdown",
   "metadata": {
    "id": "1DQ9jluhAfVL"
   },
   "source": [
    "## Import of libraries and dataset"
   ]
  },
  {
   "cell_type": "code",
   "execution_count": 58,
   "metadata": {
    "executionInfo": {
     "elapsed": 494,
     "status": "ok",
     "timestamp": 1696171183251,
     "user": {
      "displayName": "Lucrezia Labardi",
      "userId": "04987227959803536314"
     },
     "user_tz": -120
    },
    "id": "Ey9eKwm8Lw-P"
   },
   "outputs": [],
   "source": [
    "# import libraries\n",
    "import numpy as np\n",
    "import pandas as pd\n",
    "import matplotlib.pyplot as plt\n",
    "import seaborn as sns"
   ]
  },
  {
   "cell_type": "code",
   "execution_count": 59,
   "metadata": {
    "executionInfo": {
     "elapsed": 5419,
     "status": "ok",
     "timestamp": 1696171190417,
     "user": {
      "displayName": "Lucrezia Labardi",
      "userId": "04987227959803536314"
     },
     "user_tz": -120
    },
    "id": "wNYOX4WHL5RP"
   },
   "outputs": [],
   "source": [
    "# import dataset \n",
    "df_cust = pd.read_csv(\"../data/customers.csv\")"
   ]
  },
  {
   "cell_type": "code",
   "execution_count": 60,
   "metadata": {
    "colab": {
     "base_uri": "https://localhost:8080/",
     "height": 226
    },
    "executionInfo": {
     "elapsed": 331,
     "status": "ok",
     "timestamp": 1696171190746,
     "user": {
      "displayName": "Lucrezia Labardi",
      "userId": "04987227959803536314"
     },
     "user_tz": -120
    },
    "id": "T4HiUpe-QHpR",
    "outputId": "22f2e33d-a02e-48a2-b1c0-cfc3e354b0c5"
   },
   "outputs": [
    {
     "data": {
      "text/html": [
       "<div>\n",
       "<style scoped>\n",
       "    .dataframe tbody tr th:only-of-type {\n",
       "        vertical-align: middle;\n",
       "    }\n",
       "\n",
       "    .dataframe tbody tr th {\n",
       "        vertical-align: top;\n",
       "    }\n",
       "\n",
       "    .dataframe thead th {\n",
       "        text-align: right;\n",
       "    }\n",
       "</style>\n",
       "<table border=\"1\" class=\"dataframe\">\n",
       "  <thead>\n",
       "    <tr style=\"text-align: right;\">\n",
       "      <th></th>\n",
       "      <th>customer_id</th>\n",
       "      <th>FN</th>\n",
       "      <th>Active</th>\n",
       "      <th>club_member_status</th>\n",
       "      <th>fashion_news_frequency</th>\n",
       "      <th>age</th>\n",
       "      <th>postal_code</th>\n",
       "    </tr>\n",
       "  </thead>\n",
       "  <tbody>\n",
       "    <tr>\n",
       "      <th>0</th>\n",
       "      <td>00000dbacae5abe5e23885899a1fa44253a17956c6d1c3...</td>\n",
       "      <td>NaN</td>\n",
       "      <td>NaN</td>\n",
       "      <td>ACTIVE</td>\n",
       "      <td>NONE</td>\n",
       "      <td>49.0</td>\n",
       "      <td>52043ee2162cf5aa7ee79974281641c6f11a68d276429a...</td>\n",
       "    </tr>\n",
       "    <tr>\n",
       "      <th>1</th>\n",
       "      <td>0000423b00ade91418cceaf3b26c6af3dd342b51fd051e...</td>\n",
       "      <td>NaN</td>\n",
       "      <td>NaN</td>\n",
       "      <td>ACTIVE</td>\n",
       "      <td>NONE</td>\n",
       "      <td>25.0</td>\n",
       "      <td>2973abc54daa8a5f8ccfe9362140c63247c5eee03f1d93...</td>\n",
       "    </tr>\n",
       "    <tr>\n",
       "      <th>2</th>\n",
       "      <td>000058a12d5b43e67d225668fa1f8d618c13dc232df0ca...</td>\n",
       "      <td>NaN</td>\n",
       "      <td>NaN</td>\n",
       "      <td>ACTIVE</td>\n",
       "      <td>NONE</td>\n",
       "      <td>24.0</td>\n",
       "      <td>64f17e6a330a85798e4998f62d0930d14db8db1c054af6...</td>\n",
       "    </tr>\n",
       "    <tr>\n",
       "      <th>3</th>\n",
       "      <td>00005ca1c9ed5f5146b52ac8639a40ca9d57aeff4d1bd2...</td>\n",
       "      <td>NaN</td>\n",
       "      <td>NaN</td>\n",
       "      <td>ACTIVE</td>\n",
       "      <td>NONE</td>\n",
       "      <td>54.0</td>\n",
       "      <td>5d36574f52495e81f019b680c843c443bd343d5ca5b1c2...</td>\n",
       "    </tr>\n",
       "    <tr>\n",
       "      <th>4</th>\n",
       "      <td>00006413d8573cd20ed7128e53b7b13819fe5cfc2d801f...</td>\n",
       "      <td>1.0</td>\n",
       "      <td>1.0</td>\n",
       "      <td>ACTIVE</td>\n",
       "      <td>Regularly</td>\n",
       "      <td>52.0</td>\n",
       "      <td>25fa5ddee9aac01b35208d01736e57942317d756b32ddd...</td>\n",
       "    </tr>\n",
       "  </tbody>\n",
       "</table>\n",
       "</div>"
      ],
      "text/plain": [
       "                                         customer_id   FN  Active  \\\n",
       "0  00000dbacae5abe5e23885899a1fa44253a17956c6d1c3...  NaN     NaN   \n",
       "1  0000423b00ade91418cceaf3b26c6af3dd342b51fd051e...  NaN     NaN   \n",
       "2  000058a12d5b43e67d225668fa1f8d618c13dc232df0ca...  NaN     NaN   \n",
       "3  00005ca1c9ed5f5146b52ac8639a40ca9d57aeff4d1bd2...  NaN     NaN   \n",
       "4  00006413d8573cd20ed7128e53b7b13819fe5cfc2d801f...  1.0     1.0   \n",
       "\n",
       "  club_member_status fashion_news_frequency   age  \\\n",
       "0             ACTIVE                   NONE  49.0   \n",
       "1             ACTIVE                   NONE  25.0   \n",
       "2             ACTIVE                   NONE  24.0   \n",
       "3             ACTIVE                   NONE  54.0   \n",
       "4             ACTIVE              Regularly  52.0   \n",
       "\n",
       "                                         postal_code  \n",
       "0  52043ee2162cf5aa7ee79974281641c6f11a68d276429a...  \n",
       "1  2973abc54daa8a5f8ccfe9362140c63247c5eee03f1d93...  \n",
       "2  64f17e6a330a85798e4998f62d0930d14db8db1c054af6...  \n",
       "3  5d36574f52495e81f019b680c843c443bd343d5ca5b1c2...  \n",
       "4  25fa5ddee9aac01b35208d01736e57942317d756b32ddd...  "
      ]
     },
     "execution_count": 60,
     "metadata": {},
     "output_type": "execute_result"
    }
   ],
   "source": [
    "#visualization of the first rows\n",
    "df_cust.head()"
   ]
  },
  {
   "cell_type": "markdown",
   "metadata": {
    "id": "X9BjoyihAqKf"
   },
   "source": [
    "## General analysis of the dataset"
   ]
  },
  {
   "cell_type": "code",
   "execution_count": 61,
   "metadata": {
    "colab": {
     "base_uri": "https://localhost:8080/"
    },
    "executionInfo": {
     "elapsed": 10,
     "status": "ok",
     "timestamp": 1696171190746,
     "user": {
      "displayName": "Lucrezia Labardi",
      "userId": "04987227959803536314"
     },
     "user_tz": -120
    },
    "id": "uIozv-QuQLp9",
    "outputId": "6119be1b-2f64-4606-abad-5c9442b0c6f8"
   },
   "outputs": [
    {
     "data": {
      "text/plain": [
       "(1371980, 7)"
      ]
     },
     "execution_count": 61,
     "metadata": {},
     "output_type": "execute_result"
    }
   ],
   "source": [
    "#dimensions\n",
    "df_cust.shape"
   ]
  },
  {
   "cell_type": "code",
   "execution_count": 62,
   "metadata": {
    "colab": {
     "base_uri": "https://localhost:8080/",
     "height": 300
    },
    "executionInfo": {
     "elapsed": 299,
     "status": "ok",
     "timestamp": 1696171191038,
     "user": {
      "displayName": "Lucrezia Labardi",
      "userId": "04987227959803536314"
     },
     "user_tz": -120
    },
    "id": "XBn4ZIjhQcv0",
    "outputId": "d2f7771d-97de-416f-e7c4-0a130e17534d"
   },
   "outputs": [
    {
     "data": {
      "text/html": [
       "<div>\n",
       "<style scoped>\n",
       "    .dataframe tbody tr th:only-of-type {\n",
       "        vertical-align: middle;\n",
       "    }\n",
       "\n",
       "    .dataframe tbody tr th {\n",
       "        vertical-align: top;\n",
       "    }\n",
       "\n",
       "    .dataframe thead th {\n",
       "        text-align: right;\n",
       "    }\n",
       "</style>\n",
       "<table border=\"1\" class=\"dataframe\">\n",
       "  <thead>\n",
       "    <tr style=\"text-align: right;\">\n",
       "      <th></th>\n",
       "      <th>FN</th>\n",
       "      <th>Active</th>\n",
       "      <th>age</th>\n",
       "    </tr>\n",
       "  </thead>\n",
       "  <tbody>\n",
       "    <tr>\n",
       "      <th>count</th>\n",
       "      <td>476930.0</td>\n",
       "      <td>464404.0</td>\n",
       "      <td>1356119.0</td>\n",
       "    </tr>\n",
       "    <tr>\n",
       "      <th>mean</th>\n",
       "      <td>1.0</td>\n",
       "      <td>1.0</td>\n",
       "      <td>36.0</td>\n",
       "    </tr>\n",
       "    <tr>\n",
       "      <th>std</th>\n",
       "      <td>0.0</td>\n",
       "      <td>0.0</td>\n",
       "      <td>14.0</td>\n",
       "    </tr>\n",
       "    <tr>\n",
       "      <th>min</th>\n",
       "      <td>1.0</td>\n",
       "      <td>1.0</td>\n",
       "      <td>16.0</td>\n",
       "    </tr>\n",
       "    <tr>\n",
       "      <th>25%</th>\n",
       "      <td>1.0</td>\n",
       "      <td>1.0</td>\n",
       "      <td>24.0</td>\n",
       "    </tr>\n",
       "    <tr>\n",
       "      <th>50%</th>\n",
       "      <td>1.0</td>\n",
       "      <td>1.0</td>\n",
       "      <td>32.0</td>\n",
       "    </tr>\n",
       "    <tr>\n",
       "      <th>75%</th>\n",
       "      <td>1.0</td>\n",
       "      <td>1.0</td>\n",
       "      <td>49.0</td>\n",
       "    </tr>\n",
       "    <tr>\n",
       "      <th>max</th>\n",
       "      <td>1.0</td>\n",
       "      <td>1.0</td>\n",
       "      <td>99.0</td>\n",
       "    </tr>\n",
       "  </tbody>\n",
       "</table>\n",
       "</div>"
      ],
      "text/plain": [
       "             FN    Active        age\n",
       "count  476930.0  464404.0  1356119.0\n",
       "mean        1.0       1.0       36.0\n",
       "std         0.0       0.0       14.0\n",
       "min         1.0       1.0       16.0\n",
       "25%         1.0       1.0       24.0\n",
       "50%         1.0       1.0       32.0\n",
       "75%         1.0       1.0       49.0\n",
       "max         1.0       1.0       99.0"
      ]
     },
     "execution_count": 62,
     "metadata": {},
     "output_type": "execute_result"
    }
   ],
   "source": [
    "#general description of numeric columns\n",
    "df_cust.describe().round()"
   ]
  },
  {
   "cell_type": "code",
   "execution_count": 63,
   "metadata": {
    "colab": {
     "base_uri": "https://localhost:8080/"
    },
    "executionInfo": {
     "elapsed": 1838,
     "status": "ok",
     "timestamp": 1696171197360,
     "user": {
      "displayName": "Lucrezia Labardi",
      "userId": "04987227959803536314"
     },
     "user_tz": -120
    },
    "id": "6U2esh1thQNv",
    "outputId": "531b2c59-d022-40c0-da7d-555291e77418"
   },
   "outputs": [
    {
     "name": "stdout",
     "output_type": "stream",
     "text": [
      "In the dataframe there are 0 duplicated values\n"
     ]
    }
   ],
   "source": [
    "# finding duplicates from the dataset\n",
    "duplicated_values = df_cust.duplicated().sum()\n",
    "print(\"In the dataframe there are\", duplicated_values, \"duplicated values\")"
   ]
  },
  {
   "cell_type": "code",
   "execution_count": 64,
   "metadata": {
    "colab": {
     "base_uri": "https://localhost:8080/"
    },
    "executionInfo": {
     "elapsed": 640,
     "status": "ok",
     "timestamp": 1696171197997,
     "user": {
      "displayName": "Lucrezia Labardi",
      "userId": "04987227959803536314"
     },
     "user_tz": -120
    },
    "id": "O7IbOdPnQkn9",
    "outputId": "4961faa8-c01c-4c97-b12e-2eaea5999b4d"
   },
   "outputs": [
    {
     "data": {
      "text/plain": [
       "customer_id               False\n",
       "FN                         True\n",
       "Active                     True\n",
       "club_member_status         True\n",
       "fashion_news_frequency     True\n",
       "age                        True\n",
       "postal_code               False\n",
       "dtype: bool"
      ]
     },
     "execution_count": 64,
     "metadata": {},
     "output_type": "execute_result"
    }
   ],
   "source": [
    "#finding missing values\n",
    "df_cust.isna().any()"
   ]
  },
  {
   "cell_type": "code",
   "execution_count": 65,
   "metadata": {
    "colab": {
     "base_uri": "https://localhost:8080/"
    },
    "executionInfo": {
     "elapsed": 1438,
     "status": "ok",
     "timestamp": 1696171202093,
     "user": {
      "displayName": "Lucrezia Labardi",
      "userId": "04987227959803536314"
     },
     "user_tz": -120
    },
    "id": "0M7qDMaSRDuZ",
    "outputId": "c242fed9-f6c3-4c56-ab52-723ecc19f21f"
   },
   "outputs": [
    {
     "data": {
      "text/plain": [
       "customer_id                    0\n",
       "FN                        895050\n",
       "Active                    907576\n",
       "club_member_status          6062\n",
       "fashion_news_frequency     16009\n",
       "age                        15861\n",
       "postal_code                    0\n",
       "dtype: int64"
      ]
     },
     "execution_count": 65,
     "metadata": {},
     "output_type": "execute_result"
    }
   ],
   "source": [
    "#finding the number of missing values in every column\n",
    "df_cust.isna().sum()"
   ]
  },
  {
   "cell_type": "markdown",
   "metadata": {
    "id": "DIHbZu4NBIh0"
   },
   "source": [
    "## Dealing with specific columns"
   ]
  },
  {
   "cell_type": "markdown",
   "metadata": {
    "id": "-ZGiyO7jBNur"
   },
   "source": [
    "### Age\n",
    "Age of the customer"
   ]
  },
  {
   "cell_type": "code",
   "execution_count": 66,
   "metadata": {
    "colab": {
     "base_uri": "https://localhost:8080/",
     "height": 447
    },
    "executionInfo": {
     "elapsed": 313,
     "status": "ok",
     "timestamp": 1696171287189,
     "user": {
      "displayName": "Lucrezia Labardi",
      "userId": "04987227959803536314"
     },
     "user_tz": -120
    },
    "id": "ROWd5rdJ4pj9",
    "outputId": "d9487f6d-270a-436b-c605-1ac12838d694"
   },
   "outputs": [
    {
     "data": {
      "text/plain": [
       "<Axes: >"
      ]
     },
     "execution_count": 66,
     "metadata": {},
     "output_type": "execute_result"
    },
    {
     "data": {
      "image/png": "[encoded data removed]",
      "text/plain": [
       "<Figure size 640x480 with 1 Axes>"
      ]
     },
     "metadata": {},
     "output_type": "display_data"
    }
   ],
   "source": [
    "# boxplot to see the distribution of the data\n",
    "df_cust[\"age\"].plot.box()"
   ]
  },
  {
   "cell_type": "code",
   "execution_count": 67,
   "metadata": {
    "colab": {
     "base_uri": "https://localhost:8080/"
    },
    "executionInfo": {
     "elapsed": 229,
     "status": "ok",
     "timestamp": 1696171287620,
     "user": {
      "displayName": "Lucrezia Labardi",
      "userId": "04987227959803536314"
     },
     "user_tz": -120
    },
    "id": "dBMXfyDlBife",
    "outputId": "c62e866d-87b3-487c-bdb9-0a43a65af85b"
   },
   "outputs": [
    {
     "data": {
      "text/plain": [
       "count    1356119.0\n",
       "mean          36.0\n",
       "std           14.0\n",
       "min           16.0\n",
       "25%           24.0\n",
       "50%           32.0\n",
       "75%           49.0\n",
       "max           99.0\n",
       "Name: age, dtype: float64"
      ]
     },
     "execution_count": 67,
     "metadata": {},
     "output_type": "execute_result"
    }
   ],
   "source": [
    "df_cust[\"age\"].describe().round()\n",
    "#since maximum and minimum values are likely, I only have to deal with missing values"
   ]
  },
  {
   "cell_type": "code",
   "execution_count": 68,
   "metadata": {
    "colab": {
     "base_uri": "https://localhost:8080/"
    },
    "executionInfo": {
     "elapsed": 253,
     "status": "ok",
     "timestamp": 1696171314537,
     "user": {
      "displayName": "Lucrezia Labardi",
      "userId": "04987227959803536314"
     },
     "user_tz": -120
    },
    "id": "mnrfLmb7B3MV",
    "outputId": "4b381dcb-caaf-4f7f-e678-3579f6d6b41b"
   },
   "outputs": [
    {
     "name": "stdout",
     "output_type": "stream",
     "text": [
      "The number of missing values in AGE column is 15861\n",
      "The percentage of missing values in AGE column is 1.1560664149623172 %\n"
     ]
    }
   ],
   "source": [
    "#number and percentage of missing values\n",
    "miss_age = df_cust[\"age\"].isna().sum()\n",
    "print(f\"The number of missing values in AGE column is {miss_age}\")\n",
    "perc_miss_age = (miss_age/df_cust.shape[0] )*100\n",
    "print(f\"The percentage of missing values in AGE column is {perc_miss_age} %\")"
   ]
  },
  {
   "cell_type": "code",
   "execution_count": 12,
   "metadata": {
    "executionInfo": {
     "elapsed": 7,
     "status": "ok",
     "timestamp": 1696169719878,
     "user": {
      "displayName": "Lucrezia Labardi",
      "userId": "04987227959803536314"
     },
     "user_tz": -120
    },
    "id": "aBzFxmdoCmcF"
   },
   "outputs": [],
   "source": [
    "# we could drop these rows, since they're the 1% of the dataset,\n",
    "# but I would suggest to replace them with the median value"
   ]
  },
  {
   "cell_type": "code",
   "execution_count": 69,
   "metadata": {
    "colab": {
     "base_uri": "https://localhost:8080/"
    },
    "executionInfo": {
     "elapsed": 193,
     "status": "ok",
     "timestamp": 1696171458133,
     "user": {
      "displayName": "Lucrezia Labardi",
      "userId": "04987227959803536314"
     },
     "user_tz": -120
    },
    "id": "afa0-cGt5EXL",
    "outputId": "741e0ac6-b48d-41e2-9873-0041b05eafa1"
   },
   "outputs": [
    {
     "name": "stdout",
     "output_type": "stream",
     "text": [
      "The median value of age column is 32.0\n"
     ]
    }
   ],
   "source": [
    "# find the median value of the column\n",
    "mediana = df_cust[\"age\"].median(skipna=True)\n",
    "print(f\"The median value of age column is {mediana}\")"
   ]
  },
  {
   "cell_type": "code",
   "execution_count": 70,
   "metadata": {
    "executionInfo": {
     "elapsed": 1,
     "status": "ok",
     "timestamp": 1696171458396,
     "user": {
      "displayName": "Lucrezia Labardi",
      "userId": "04987227959803536314"
     },
     "user_tz": -120
    },
    "id": "xZf2N1J1C-Ix"
   },
   "outputs": [],
   "source": [
    "# Replace missing values with median value\n",
    "df_cust[\"age\"].fillna(mediana, inplace=True)"
   ]
  },
  {
   "cell_type": "code",
   "execution_count": 71,
   "metadata": {
    "colab": {
     "base_uri": "https://localhost:8080/"
    },
    "executionInfo": {
     "elapsed": 205,
     "status": "ok",
     "timestamp": 1696171460548,
     "user": {
      "displayName": "Lucrezia Labardi",
      "userId": "04987227959803536314"
     },
     "user_tz": -120
    },
    "id": "IEfCtv8w6AnC",
    "outputId": "c56d89f2-c4b7-43bf-cc74-27cb92b103c3"
   },
   "outputs": [
    {
     "data": {
      "text/plain": [
       "False"
      ]
     },
     "execution_count": 71,
     "metadata": {},
     "output_type": "execute_result"
    }
   ],
   "source": [
    "df_cust[\"age\"].isna().any() #no more missing values here"
   ]
  },
  {
   "cell_type": "code",
   "execution_count": 72,
   "metadata": {
    "colab": {
     "base_uri": "https://localhost:8080/",
     "height": 447
    },
    "executionInfo": {
     "elapsed": 10,
     "status": "ok",
     "timestamp": 1696171463455,
     "user": {
      "displayName": "Lucrezia Labardi",
      "userId": "04987227959803536314"
     },
     "user_tz": -120
    },
    "id": "Abw4z3o-5V2a",
    "outputId": "0727ec7b-5be5-4536-c8f1-2cca2ba224ee"
   },
   "outputs": [
    {
     "data": {
      "text/plain": [
       "<Axes: >"
      ]
     },
     "execution_count": 72,
     "metadata": {},
     "output_type": "execute_result"
    },
    {
     "data": {
      "image/png": "[encoded data removed]",
      "text/plain": [
       "<Figure size 640x480 with 1 Axes>"
      ]
     },
     "metadata": {},
     "output_type": "display_data"
    }
   ],
   "source": [
    "#boxplot to see if the distribution changed too much, but it seems okay\n",
    "df_cust[\"age\"].plot.box()"
   ]
  },
  {
   "cell_type": "code",
   "execution_count": 73,
   "metadata": {
    "colab": {
     "base_uri": "https://localhost:8080/"
    },
    "executionInfo": {
     "elapsed": 183,
     "status": "ok",
     "timestamp": 1696171466308,
     "user": {
      "displayName": "Lucrezia Labardi",
      "userId": "04987227959803536314"
     },
     "user_tz": -120
    },
    "id": "xVYHarx1ib3l",
    "outputId": "9ab9ed79-5d20-4bbc-af56-5617827c7346"
   },
   "outputs": [
    {
     "data": {
      "text/plain": [
       "1112"
      ]
     },
     "execution_count": 73,
     "metadata": {},
     "output_type": "execute_result"
    }
   ],
   "source": [
    "#num of elements over 75% percentile\n",
    "df_cust[\"age\"][df_cust[\"age\"] > 80].count()"
   ]
  },
  {
   "cell_type": "code",
   "execution_count": 70,
   "metadata": {
    "executionInfo": {
     "elapsed": 210,
     "status": "ok",
     "timestamp": 1696171467576,
     "user": {
      "displayName": "Lucrezia Labardi",
      "userId": "04987227959803536314"
     },
     "user_tz": -120
    },
    "id": "-NmQPaSLgwLR"
   },
   "outputs": [],
   "source": [
    "# I'd also suggest to consider age>80 as outliers and remove/replace them"
   ]
  },
  {
   "cell_type": "markdown",
   "metadata": {
    "id": "2G_1vNXlDPoU"
   },
   "source": [
    "### Fashion News Frequency\n",
    "If the costumer has a subscription to the newsletter, how frequently they receive one.\n",
    "I considered \"nan\" as missing value and \"none\"/\"NONE\" as they don't have a subscription so they don't receive any news"
   ]
  },
  {
   "cell_type": "code",
   "execution_count": 74,
   "metadata": {
    "colab": {
     "base_uri": "https://localhost:8080/"
    },
    "executionInfo": {
     "elapsed": 251,
     "status": "ok",
     "timestamp": 1696171475804,
     "user": {
      "displayName": "Lucrezia Labardi",
      "userId": "04987227959803536314"
     },
     "user_tz": -120
    },
    "id": "AKdgdWHu92IS",
    "outputId": "05d5a129-eb4d-4f3f-d437-17026086c240"
   },
   "outputs": [
    {
     "data": {
      "text/plain": [
       "array(['NONE', 'Regularly', nan, 'Monthly', 'None'], dtype=object)"
      ]
     },
     "execution_count": 74,
     "metadata": {},
     "output_type": "execute_result"
    }
   ],
   "source": [
    "# verify which are the values of this column\n",
    "df_cust[\"fashion_news_frequency\"].unique()"
   ]
  },
  {
   "cell_type": "code",
   "execution_count": 75,
   "metadata": {
    "executionInfo": {
     "elapsed": 311,
     "status": "ok",
     "timestamp": 1696171490437,
     "user": {
      "displayName": "Lucrezia Labardi",
      "userId": "04987227959803536314"
     },
     "user_tz": -120
    },
    "id": "x_DJSrSM_LOY"
   },
   "outputs": [],
   "source": [
    "#I replace \"NONE\" and \"None\" values with \"Never\"\n",
    "df_cust[\"fashion_news_frequency\"] = df_cust[\"fashion_news_frequency\"].replace('None', 'Never')\n",
    "df_cust[\"fashion_news_frequency\"] = df_cust[\"fashion_news_frequency\"].replace('NONE', 'Never')"
   ]
  },
  {
   "cell_type": "code",
   "execution_count": 76,
   "metadata": {
    "colab": {
     "base_uri": "https://localhost:8080/"
    },
    "executionInfo": {
     "elapsed": 461,
     "status": "ok",
     "timestamp": 1696171569172,
     "user": {
      "displayName": "Lucrezia Labardi",
      "userId": "04987227959803536314"
     },
     "user_tz": -120
    },
    "id": "_MPpdzP3D9_5",
    "outputId": "d6dde7c2-0192-4b17-f63e-eb79832f82d4"
   },
   "outputs": [
    {
     "name": "stdout",
     "output_type": "stream",
     "text": [
      "The number of missing values in FASHION NEWS FREQUENCY column is 16009\n",
      "The percentage of missing values in FASHION NEWS FREQUENCY column is 1.1668537442236768%\n"
     ]
    }
   ],
   "source": [
    "#total of missing values and percentage\n",
    "miss_news = df_cust[\"fashion_news_frequency\"].isna().sum()\n",
    "perc_miss_news = (miss_news/df_cust.shape[0])*100\n",
    "print(f\"The number of missing values in FASHION NEWS FREQUENCY column is {miss_news}\")\n",
    "print(f\"The percentage of missing values in FASHION NEWS FREQUENCY column is {perc_miss_news}%\")"
   ]
  },
  {
   "cell_type": "code",
   "execution_count": 21,
   "metadata": {
    "executionInfo": {
     "elapsed": 3,
     "status": "ok",
     "timestamp": 1696171569965,
     "user": {
      "displayName": "Lucrezia Labardi",
      "userId": "04987227959803536314"
     },
     "user_tz": -120
    },
    "id": "VKNBx-C7AE5h"
   },
   "outputs": [],
   "source": [
    "#I could drop these data since it is only 1% of the rows,\n",
    "# but I suggest to replace missing values with \"Never\""
   ]
  },
  {
   "cell_type": "code",
   "execution_count": 77,
   "metadata": {
    "executionInfo": {
     "elapsed": 2,
     "status": "ok",
     "timestamp": 1696171570556,
     "user": {
      "displayName": "Lucrezia Labardi",
      "userId": "04987227959803536314"
     },
     "user_tz": -120
    },
    "id": "ByQY3aVnEsOX"
   },
   "outputs": [],
   "source": [
    "# Replace missing values with \"Never\"\n",
    "df_cust[\"fashion_news_frequency\"].fillna(\"Never\", inplace=True)"
   ]
  },
  {
   "cell_type": "code",
   "execution_count": 78,
   "metadata": {
    "colab": {
     "base_uri": "https://localhost:8080/",
     "height": 447
    },
    "executionInfo": {
     "elapsed": 1327,
     "status": "ok",
     "timestamp": 1696171579029,
     "user": {
      "displayName": "Lucrezia Labardi",
      "userId": "04987227959803536314"
     },
     "user_tz": -120
    },
    "id": "dUNf52UVleC_",
    "outputId": "95160977-fde7-4fc8-f153-b8986930e9ef"
   },
   "outputs": [
    {
     "data": {
      "text/plain": [
       "<Axes: >"
      ]
     },
     "execution_count": 78,
     "metadata": {},
     "output_type": "execute_result"
    },
    {
     "data": {
      "image/png": "[encoded data removed]",
      "text/plain": [
       "<Figure size 640x480 with 1 Axes>"
      ]
     },
     "metadata": {},
     "output_type": "display_data"
    }
   ],
   "source": [
    "# plot the histogram to see the distribution\n",
    "df_cust[\"fashion_news_frequency\"].hist()"
   ]
  },
  {
   "cell_type": "code",
   "execution_count": 79,
   "metadata": {
    "colab": {
     "base_uri": "https://localhost:8080/"
    },
    "executionInfo": {
     "elapsed": 5,
     "status": "ok",
     "timestamp": 1696169721808,
     "user": {
      "displayName": "Lucrezia Labardi",
      "userId": "04987227959803536314"
     },
     "user_tz": -120
    },
    "id": "56OlAvUpl1y_",
    "outputId": "f7b1e09e-4e92-4632-8cd5-91b8e04bda8f"
   },
   "outputs": [
    {
     "data": {
      "text/plain": [
       "842"
      ]
     },
     "execution_count": 79,
     "metadata": {},
     "output_type": "execute_result"
    }
   ],
   "source": [
    "# how many records we have with \"Monthly value\"\n",
    "df_cust[\"fashion_news_frequency\"][df_cust[\"fashion_news_frequency\"] == \"Monthly\"].count()"
   ]
  },
  {
   "cell_type": "code",
   "execution_count": 80,
   "metadata": {
    "executionInfo": {
     "elapsed": 3,
     "status": "ok",
     "timestamp": 1696169721808,
     "user": {
      "displayName": "Lucrezia Labardi",
      "userId": "04987227959803536314"
     },
     "user_tz": -120
    },
    "id": "hrgJO5knmMRA"
   },
   "outputs": [],
   "source": [
    "# We can consider them as outliers, and replace them with \"regularly\"\n",
    "df_cust[\"fashion_news_frequency\"] = df_cust[\"fashion_news_frequency\"].replace('Monthly', 'Regularly')"
   ]
  },
  {
   "cell_type": "code",
   "execution_count": 81,
   "metadata": {
    "colab": {
     "base_uri": "https://localhost:8080/",
     "height": 447
    },
    "executionInfo": {
     "elapsed": 569,
     "status": "ok",
     "timestamp": 1696169722570,
     "user": {
      "displayName": "Lucrezia Labardi",
      "userId": "04987227959803536314"
     },
     "user_tz": -120
    },
    "id": "Isw8ft81mgzY",
    "outputId": "83e38b00-fcb1-4ca9-c9ff-5692b1353412"
   },
   "outputs": [
    {
     "data": {
      "text/plain": [
       "<Axes: >"
      ]
     },
     "execution_count": 81,
     "metadata": {},
     "output_type": "execute_result"
    },
    {
     "data": {
      "image/png": "[encoded data removed]",
      "text/plain": [
       "<Figure size 640x480 with 1 Axes>"
      ]
     },
     "metadata": {},
     "output_type": "display_data"
    }
   ],
   "source": [
    "df_cust[\"fashion_news_frequency\"].hist() # a little more balanced"
   ]
  },
  {
   "cell_type": "markdown",
   "metadata": {
    "id": "bvnozWldKSlx"
   },
   "source": [
    "### FN\n",
    "if a customer get Fashion News newsletter"
   ]
  },
  {
   "cell_type": "code",
   "execution_count": 82,
   "metadata": {
    "colab": {
     "base_uri": "https://localhost:8080/"
    },
    "executionInfo": {
     "elapsed": 185,
     "status": "ok",
     "timestamp": 1696171858859,
     "user": {
      "displayName": "Lucrezia Labardi",
      "userId": "04987227959803536314"
     },
     "user_tz": -120
    },
    "id": "qGp9aWrmKU8n",
    "outputId": "f99b79e9-66de-461c-fe22-afdd8e78a65b"
   },
   "outputs": [
    {
     "data": {
      "text/plain": [
       "array([nan,  1.])"
      ]
     },
     "execution_count": 82,
     "metadata": {},
     "output_type": "execute_result"
    }
   ],
   "source": [
    "#check values of the column\n",
    "df_cust[\"FN\"].unique()"
   ]
  },
  {
   "cell_type": "code",
   "execution_count": 83,
   "metadata": {
    "colab": {
     "base_uri": "https://localhost:8080/"
    },
    "executionInfo": {
     "elapsed": 206,
     "status": "ok",
     "timestamp": 1696171862446,
     "user": {
      "displayName": "Lucrezia Labardi",
      "userId": "04987227959803536314"
     },
     "user_tz": -120
    },
    "id": "II3NMXSvnGzo",
    "outputId": "eceece8d-8b75-47a4-b52b-083db701ea84"
   },
   "outputs": [
    {
     "name": "stdout",
     "output_type": "stream",
     "text": [
      "The number of missing values in FN column is 895050\n",
      "The percentage of missing values in FN column is 65.23783145526903%\n"
     ]
    }
   ],
   "source": [
    "# percentage of missing values\n",
    "miss_fn = df_cust[\"FN\"].isna().sum()\n",
    "perc_miss_fn = (miss_fn/df_cust.shape[0])*100\n",
    "\n",
    "print(f\"The number of missing values in FN column is {miss_fn}\")\n",
    "print(f\"The percentage of missing values in FN column is {perc_miss_fn}%\")\n",
    "\n",
    "#most of the record is missing values"
   ]
  },
  {
   "cell_type": "code",
   "execution_count": 84,
   "metadata": {
    "colab": {
     "base_uri": "https://localhost:8080/"
    },
    "executionInfo": {
     "elapsed": 302,
     "status": "ok",
     "timestamp": 1696169722867,
     "user": {
      "displayName": "Lucrezia Labardi",
      "userId": "04987227959803536314"
     },
     "user_tz": -120
    },
    "id": "C-YBkRDnnoPb",
    "outputId": "aecea780-1f9f-4e8a-8ddb-8a782519f169"
   },
   "outputs": [
    {
     "name": "stdout",
     "output_type": "stream",
     "text": [
      "The number of records with fn == 1 is 476930\n",
      "\n",
      "Among those values, this is the distribution of fashion_news_frequency values:\n",
      "Regularly    476139\n",
      "Never           791\n",
      "Name: fashion_news_frequency, dtype: int64\n"
     ]
    }
   ],
   "source": [
    "#check the overlapping between fn and fashion_news_frequency\n",
    "conta = 0\n",
    "just_one_fn = df_cust[\"FN\"][df_cust[\"FN\"] == 1.]\n",
    "just_one_news =  df_cust[\"fashion_news_frequency\"][df_cust[\"FN\"] == 1.]\n",
    "\n",
    "print(f\"The number of records with fn == 1 is {len(just_one_fn)}\")\n",
    "print()\n",
    "print(\"Among those values, this is the distribution of fashion_news_frequency values:\")\n",
    "print(just_one_news.value_counts())"
   ]
  },
  {
   "cell_type": "code",
   "execution_count": 85,
   "metadata": {
    "colab": {
     "base_uri": "https://localhost:8080/"
    },
    "executionInfo": {
     "elapsed": 376,
     "status": "ok",
     "timestamp": 1696169723241,
     "user": {
      "displayName": "Lucrezia Labardi",
      "userId": "04987227959803536314"
     },
     "user_tz": -120
    },
    "id": "eHDwl78C10DK",
    "outputId": "1714e7bc-ebd6-4872-84a4-19972bfdaf69"
   },
   "outputs": [
    {
     "name": "stdout",
     "output_type": "stream",
     "text": [
      "476139\n",
      "the 99.55693370523859% of records with fashion_news_frequency regularly has FN = 1\n",
      "the 0.16539190144231775% of records with fashion_news_frequency never has FN = 1\n"
     ]
    }
   ],
   "source": [
    "news_reg = df_cust.query('fashion_news_frequency == \"Regularly\" & FN == 1.0')\n",
    "freq_reg = df_cust.query('fashion_news_frequency == \"Regularly\"')\n",
    "news_nev = df_cust.query('fashion_news_frequency == \"Never\" & FN == 1.0')\n",
    "print(len(news_reg))\n",
    "\n",
    "print(f\"the {(len(news_reg)/len(freq_reg))*100}% of records with fashion_news_frequency regularly has FN = 1\")\n",
    "print(f\"the {(len(news_nev)/len(freq_reg))*100}% of records with fashion_news_frequency never has FN = 1\")"
   ]
  },
  {
   "cell_type": "code",
   "execution_count": 31,
   "metadata": {
    "executionInfo": {
     "elapsed": 3,
     "status": "ok",
     "timestamp": 1696169723241,
     "user": {
      "displayName": "Lucrezia Labardi",
      "userId": "04987227959803536314"
     },
     "user_tz": -120
    },
    "id": "A4CtuBR9v0t4"
   },
   "outputs": [],
   "source": [
    "# I'd suggest to replace FN and Fashion news frequency with a new column since they overlap a lot"
   ]
  },
  {
   "cell_type": "markdown",
   "metadata": {
    "id": "1Xq0p75JxjBy"
   },
   "source": [
    "### NEW: receive_news\n",
    "If the customer gets or not the newsletter"
   ]
  },
  {
   "cell_type": "code",
   "execution_count": 86,
   "metadata": {
    "executionInfo": {
     "elapsed": 448,
     "status": "ok",
     "timestamp": 1696172306719,
     "user": {
      "displayName": "Lucrezia Labardi",
      "userId": "04987227959803536314"
     },
     "user_tz": -120
    },
    "id": "ZuQLdF7Tv2gc"
   },
   "outputs": [],
   "source": [
    "#create a new column based on fashion_news_frequency and FN\n",
    "df_cust[\"receive_news\"] = df_cust[\"fashion_news_frequency\"].apply(lambda x: \"Yes\" if x == \"Regularly\" else \"No\")"
   ]
  },
  {
   "cell_type": "code",
   "execution_count": 87,
   "metadata": {
    "colab": {
     "base_uri": "https://localhost:8080/",
     "height": 226
    },
    "executionInfo": {
     "elapsed": 10,
     "status": "ok",
     "timestamp": 1696172309151,
     "user": {
      "displayName": "Lucrezia Labardi",
      "userId": "04987227959803536314"
     },
     "user_tz": -120
    },
    "id": "CFpFNxapwyMS",
    "outputId": "8288d482-b2c2-462d-ac88-d781afa9e4d1"
   },
   "outputs": [
    {
     "data": {
      "text/html": [
       "<div>\n",
       "<style scoped>\n",
       "    .dataframe tbody tr th:only-of-type {\n",
       "        vertical-align: middle;\n",
       "    }\n",
       "\n",
       "    .dataframe tbody tr th {\n",
       "        vertical-align: top;\n",
       "    }\n",
       "\n",
       "    .dataframe thead th {\n",
       "        text-align: right;\n",
       "    }\n",
       "</style>\n",
       "<table border=\"1\" class=\"dataframe\">\n",
       "  <thead>\n",
       "    <tr style=\"text-align: right;\">\n",
       "      <th></th>\n",
       "      <th>customer_id</th>\n",
       "      <th>FN</th>\n",
       "      <th>Active</th>\n",
       "      <th>club_member_status</th>\n",
       "      <th>fashion_news_frequency</th>\n",
       "      <th>age</th>\n",
       "      <th>postal_code</th>\n",
       "      <th>receive_news</th>\n",
       "    </tr>\n",
       "  </thead>\n",
       "  <tbody>\n",
       "    <tr>\n",
       "      <th>0</th>\n",
       "      <td>00000dbacae5abe5e23885899a1fa44253a17956c6d1c3...</td>\n",
       "      <td>NaN</td>\n",
       "      <td>NaN</td>\n",
       "      <td>ACTIVE</td>\n",
       "      <td>Never</td>\n",
       "      <td>49.0</td>\n",
       "      <td>52043ee2162cf5aa7ee79974281641c6f11a68d276429a...</td>\n",
       "      <td>No</td>\n",
       "    </tr>\n",
       "    <tr>\n",
       "      <th>1</th>\n",
       "      <td>0000423b00ade91418cceaf3b26c6af3dd342b51fd051e...</td>\n",
       "      <td>NaN</td>\n",
       "      <td>NaN</td>\n",
       "      <td>ACTIVE</td>\n",
       "      <td>Never</td>\n",
       "      <td>25.0</td>\n",
       "      <td>2973abc54daa8a5f8ccfe9362140c63247c5eee03f1d93...</td>\n",
       "      <td>No</td>\n",
       "    </tr>\n",
       "    <tr>\n",
       "      <th>2</th>\n",
       "      <td>000058a12d5b43e67d225668fa1f8d618c13dc232df0ca...</td>\n",
       "      <td>NaN</td>\n",
       "      <td>NaN</td>\n",
       "      <td>ACTIVE</td>\n",
       "      <td>Never</td>\n",
       "      <td>24.0</td>\n",
       "      <td>64f17e6a330a85798e4998f62d0930d14db8db1c054af6...</td>\n",
       "      <td>No</td>\n",
       "    </tr>\n",
       "    <tr>\n",
       "      <th>3</th>\n",
       "      <td>00005ca1c9ed5f5146b52ac8639a40ca9d57aeff4d1bd2...</td>\n",
       "      <td>NaN</td>\n",
       "      <td>NaN</td>\n",
       "      <td>ACTIVE</td>\n",
       "      <td>Never</td>\n",
       "      <td>54.0</td>\n",
       "      <td>5d36574f52495e81f019b680c843c443bd343d5ca5b1c2...</td>\n",
       "      <td>No</td>\n",
       "    </tr>\n",
       "    <tr>\n",
       "      <th>4</th>\n",
       "      <td>00006413d8573cd20ed7128e53b7b13819fe5cfc2d801f...</td>\n",
       "      <td>1.0</td>\n",
       "      <td>1.0</td>\n",
       "      <td>ACTIVE</td>\n",
       "      <td>Regularly</td>\n",
       "      <td>52.0</td>\n",
       "      <td>25fa5ddee9aac01b35208d01736e57942317d756b32ddd...</td>\n",
       "      <td>Yes</td>\n",
       "    </tr>\n",
       "  </tbody>\n",
       "</table>\n",
       "</div>"
      ],
      "text/plain": [
       "                                         customer_id   FN  Active  \\\n",
       "0  00000dbacae5abe5e23885899a1fa44253a17956c6d1c3...  NaN     NaN   \n",
       "1  0000423b00ade91418cceaf3b26c6af3dd342b51fd051e...  NaN     NaN   \n",
       "2  000058a12d5b43e67d225668fa1f8d618c13dc232df0ca...  NaN     NaN   \n",
       "3  00005ca1c9ed5f5146b52ac8639a40ca9d57aeff4d1bd2...  NaN     NaN   \n",
       "4  00006413d8573cd20ed7128e53b7b13819fe5cfc2d801f...  1.0     1.0   \n",
       "\n",
       "  club_member_status fashion_news_frequency   age  \\\n",
       "0             ACTIVE                  Never  49.0   \n",
       "1             ACTIVE                  Never  25.0   \n",
       "2             ACTIVE                  Never  24.0   \n",
       "3             ACTIVE                  Never  54.0   \n",
       "4             ACTIVE              Regularly  52.0   \n",
       "\n",
       "                                         postal_code receive_news  \n",
       "0  52043ee2162cf5aa7ee79974281641c6f11a68d276429a...           No  \n",
       "1  2973abc54daa8a5f8ccfe9362140c63247c5eee03f1d93...           No  \n",
       "2  64f17e6a330a85798e4998f62d0930d14db8db1c054af6...           No  \n",
       "3  5d36574f52495e81f019b680c843c443bd343d5ca5b1c2...           No  \n",
       "4  25fa5ddee9aac01b35208d01736e57942317d756b32ddd...          Yes  "
      ]
     },
     "execution_count": 87,
     "metadata": {},
     "output_type": "execute_result"
    }
   ],
   "source": [
    "df_cust.head()"
   ]
  },
  {
   "cell_type": "markdown",
   "metadata": {
    "id": "qZRRXWt_S7rD"
   },
   "source": [
    "### Active\n",
    "if the customer is active for communication"
   ]
  },
  {
   "cell_type": "code",
   "execution_count": 88,
   "metadata": {
    "colab": {
     "base_uri": "https://localhost:8080/"
    },
    "executionInfo": {
     "elapsed": 178,
     "status": "ok",
     "timestamp": 1696172671497,
     "user": {
      "displayName": "Lucrezia Labardi",
      "userId": "04987227959803536314"
     },
     "user_tz": -120
    },
    "id": "c7iDzH8JG0dE",
    "outputId": "8e5fd0f4-4eab-43b8-b80f-376a9e0535ac"
   },
   "outputs": [
    {
     "data": {
      "text/plain": [
       "array([nan,  1.])"
      ]
     },
     "execution_count": 88,
     "metadata": {},
     "output_type": "execute_result"
    }
   ],
   "source": [
    "# check possible value of the column\n",
    "df_cust[\"Active\"].unique()"
   ]
  },
  {
   "cell_type": "code",
   "execution_count": 89,
   "metadata": {
    "colab": {
     "base_uri": "https://localhost:8080/"
    },
    "executionInfo": {
     "elapsed": 3,
     "status": "ok",
     "timestamp": 1696172671667,
     "user": {
      "displayName": "Lucrezia Labardi",
      "userId": "04987227959803536314"
     },
     "user_tz": -120
    },
    "id": "UUrdwgmvHfwp",
    "outputId": "5248d293-2c31-424a-ea5a-b2ed9923bb09"
   },
   "outputs": [
    {
     "name": "stdout",
     "output_type": "stream",
     "text": [
      "The number of missing values in ACTIVE column is 907576\n",
      "The percentage of missing values in ACTIVE column is 66.15081852505138%\n"
     ]
    }
   ],
   "source": [
    "# percentage of missing values\n",
    "miss_active = df_cust[\"Active\"].isna().sum()\n",
    "perc_miss_active = (miss_active/df_cust.shape[0])*100\n",
    "\n",
    "print(f\"The number of missing values in ACTIVE column is {miss_active}\")\n",
    "print(f\"The percentage of missing values in ACTIVE column is {perc_miss_active}%\")\n",
    "\n",
    "#most of the record is missing values"
   ]
  },
  {
   "cell_type": "code",
   "execution_count": 90,
   "metadata": {
    "colab": {
     "base_uri": "https://localhost:8080/"
    },
    "executionInfo": {
     "elapsed": 288,
     "status": "ok",
     "timestamp": 1696172672833,
     "user": {
      "displayName": "Lucrezia Labardi",
      "userId": "04987227959803536314"
     },
     "user_tz": -120
    },
    "id": "cb6gi7KDzNOI",
    "outputId": "d15a1209-b2e8-477e-acb1-095c251f37d6"
   },
   "outputs": [
    {
     "name": "stdout",
     "output_type": "stream",
     "text": [
      "463904\n",
      "the 96.99869108305559% of records with fashion_news_frequency regularly has Active = 1\n",
      "the 0.10454608182194548% of records with fashion_news_frequency never has Active = 1\n"
     ]
    }
   ],
   "source": [
    "# check overlapping between receive news and Active\n",
    "news_reg = df_cust.query('fashion_news_frequency == \"Regularly\" & Active == 1.0')\n",
    "freq_reg = df_cust.query('fashion_news_frequency == \"Regularly\"')\n",
    "news_nev = df_cust.query('fashion_news_frequency == \"Never\" & Active == 1.0')\n",
    "print(len(news_reg))\n",
    "\n",
    "print(f\"the {(len(news_reg)/len(freq_reg))*100}% of records with fashion_news_frequency regularly has Active = 1\")\n",
    "print(f\"the {(len(news_nev)/len(freq_reg))*100}% of records with fashion_news_frequency never has Active = 1\")"
   ]
  },
  {
   "cell_type": "code",
   "execution_count": 91,
   "metadata": {
    "executionInfo": {
     "elapsed": 4,
     "status": "ok",
     "timestamp": 1696169724714,
     "user": {
      "displayName": "Lucrezia Labardi",
      "userId": "04987227959803536314"
     },
     "user_tz": -120
    },
    "id": "hDV1rSux47D8"
   },
   "outputs": [],
   "source": [
    "# active overlaps with receive_news, and I would suggest to merge the column\n",
    "# also because active has a lot of missing values"
   ]
  },
  {
   "cell_type": "code",
   "execution_count": 92,
   "metadata": {
    "executionInfo": {
     "elapsed": 3,
     "status": "ok",
     "timestamp": 1696169724714,
     "user": {
      "displayName": "Lucrezia Labardi",
      "userId": "04987227959803536314"
     },
     "user_tz": -120
    },
    "id": "irQF-7oh5Jqc"
   },
   "outputs": [],
   "source": [
    "#remove active column\n",
    "df_cust = df_cust.drop('Active', axis=1)"
   ]
  },
  {
   "cell_type": "markdown",
   "metadata": {
    "id": "3NOZnbriGwMv"
   },
   "source": [
    "### Club Member Status\n",
    "H&M pre-create status member means that you are a new member of the H&M loyalty program, but you have not yet activated your membership.\n"
   ]
  },
  {
   "cell_type": "code",
   "execution_count": 93,
   "metadata": {
    "colab": {
     "base_uri": "https://localhost:8080/"
    },
    "executionInfo": {
     "elapsed": 230,
     "status": "ok",
     "timestamp": 1696169724941,
     "user": {
      "displayName": "Lucrezia Labardi",
      "userId": "04987227959803536314"
     },
     "user_tz": -120
    },
    "id": "nq6l-HcRFRcR",
    "outputId": "c4f10cec-4ae0-4704-b2ef-bdca758603e2"
   },
   "outputs": [
    {
     "data": {
      "text/plain": [
       "array(['ACTIVE', nan, 'PRE-CREATE', 'LEFT CLUB'], dtype=object)"
      ]
     },
     "execution_count": 93,
     "metadata": {},
     "output_type": "execute_result"
    }
   ],
   "source": [
    "#check possible values\n",
    "df_cust[\"club_member_status\"].unique()"
   ]
  },
  {
   "cell_type": "code",
   "execution_count": 94,
   "metadata": {
    "colab": {
     "base_uri": "https://localhost:8080/"
    },
    "executionInfo": {
     "elapsed": 349,
     "status": "ok",
     "timestamp": 1696169725286,
     "user": {
      "displayName": "Lucrezia Labardi",
      "userId": "04987227959803536314"
     },
     "user_tz": -120
    },
    "id": "Uk7V1v1D5USg",
    "outputId": "931b777f-1bd7-4e63-a161-b4609bdf5685"
   },
   "outputs": [
    {
     "name": "stdout",
     "output_type": "stream",
     "text": [
      "The number of missing values in column is 6062\n",
      "The percentage of missing values in column is 0.44184317555649494%\n"
     ]
    }
   ],
   "source": [
    "#number of missing values\n",
    "miss_status = df_cust[\"club_member_status\"].isna().sum()\n",
    "perc_miss_status = (miss_status/df_cust.shape[0])*100\n",
    "\n",
    "print(f\"The number of missing values in column is {miss_status}\")\n",
    "print(f\"The percentage of missing values in column is {perc_miss_status}%\")"
   ]
  },
  {
   "cell_type": "code",
   "execution_count": 95,
   "metadata": {
    "colab": {
     "base_uri": "https://localhost:8080/"
    },
    "executionInfo": {
     "elapsed": 3,
     "status": "ok",
     "timestamp": 1696169725286,
     "user": {
      "displayName": "Lucrezia Labardi",
      "userId": "04987227959803536314"
     },
     "user_tz": -120
    },
    "id": "ju8PKQy7G9N2",
    "outputId": "b6c03d6c-983a-4855-8ad7-10eafc488f8d"
   },
   "outputs": [
    {
     "name": "stdout",
     "output_type": "stream",
     "text": [
      "ACTIVE        1272491\n",
      "PRE-CREATE      92960\n",
      "LEFT CLUB         467\n",
      "Name: club_member_status, dtype: int64\n"
     ]
    }
   ],
   "source": [
    "counts = df_cust[\"club_member_status\"].value_counts()\n",
    "print(counts)"
   ]
  },
  {
   "cell_type": "code",
   "execution_count": 96,
   "metadata": {
    "executionInfo": {
     "elapsed": 2,
     "status": "ok",
     "timestamp": 1696169725286,
     "user": {
      "displayName": "Lucrezia Labardi",
      "userId": "04987227959803536314"
     },
     "user_tz": -120
    },
    "id": "KL53duKv6eGl"
   },
   "outputs": [],
   "source": [
    "# I think we can drop the records with missing values,\n",
    "# OR consider left club + missing as club_member_status = not active\n",
    "#because left club records are almost outliers"
   ]
  },
  {
   "cell_type": "code",
   "execution_count": 97,
   "metadata": {
    "colab": {
     "base_uri": "https://localhost:8080/",
     "height": 462
    },
    "executionInfo": {
     "elapsed": 1156,
     "status": "ok",
     "timestamp": 1696169726440,
     "user": {
      "displayName": "Lucrezia Labardi",
      "userId": "04987227959803536314"
     },
     "user_tz": -120
    },
    "id": "kGjWNjsr4wyM",
    "outputId": "9a67fb6b-42a1-41ac-e52e-0d6ba41acb50"
   },
   "outputs": [
    {
     "data": {
      "text/plain": [
       "<Axes: >"
      ]
     },
     "execution_count": 97,
     "metadata": {},
     "output_type": "execute_result"
    },
    {
     "data": {
      "image/png": "[encoded data removed]",
      "text/plain": [
       "<Figure size 640x480 with 1 Axes>"
      ]
     },
     "metadata": {},
     "output_type": "display_data"
    }
   ],
   "source": [
    "#distribution of data before transformation\n",
    "df_cust[\"club_member_status\"].hist()"
   ]
  },
  {
   "cell_type": "code",
   "execution_count": 98,
   "metadata": {
    "executionInfo": {
     "elapsed": 605,
     "status": "ok",
     "timestamp": 1696169727040,
     "user": {
      "displayName": "Lucrezia Labardi",
      "userId": "04987227959803536314"
     },
     "user_tz": -120
    },
    "id": "p1ICI4iW7DwB"
   },
   "outputs": [],
   "source": [
    "#change values in binary\n",
    "df_cust[\"club_member_status\"] = df_cust[\"club_member_status\"].replace('LEFT CLUB', 'Not active')\n",
    "df_cust[\"club_member_status\"] = df_cust[\"club_member_status\"].replace('ACTIVE', 'Active')\n",
    "df_cust[\"club_member_status\"] = df_cust[\"club_member_status\"].replace('PRE-CREATE', 'Pre-create')\n",
    "df_cust[\"club_member_status\"].fillna(\"Not active\", inplace=True)"
   ]
  },
  {
   "cell_type": "code",
   "execution_count": 99,
   "metadata": {
    "colab": {
     "base_uri": "https://localhost:8080/",
     "height": 462
    },
    "executionInfo": {
     "elapsed": 770,
     "status": "ok",
     "timestamp": 1696169727807,
     "user": {
      "displayName": "Lucrezia Labardi",
      "userId": "04987227959803536314"
     },
     "user_tz": -120
    },
    "id": "hyu-cuKn6-g3",
    "outputId": "04eb0f1b-55bc-44c9-bc17-245bb30880cd"
   },
   "outputs": [
    {
     "data": {
      "text/plain": [
       "<Axes: >"
      ]
     },
     "execution_count": 99,
     "metadata": {},
     "output_type": "execute_result"
    },
    {
     "data": {
      "image/png": "[encoded data removed]",
      "text/plain": [
       "<Figure size 640x480 with 1 Axes>"
      ]
     },
     "metadata": {},
     "output_type": "display_data"
    }
   ],
   "source": [
    "#distribution of data after transformation\n",
    "df_cust[\"club_member_status\"].hist()"
   ]
  },
  {
   "cell_type": "code",
   "execution_count": 100,
   "metadata": {
    "colab": {
     "base_uri": "https://localhost:8080/"
    },
    "executionInfo": {
     "elapsed": 9,
     "status": "ok",
     "timestamp": 1696169728104,
     "user": {
      "displayName": "Lucrezia Labardi",
      "userId": "04987227959803536314"
     },
     "user_tz": -120
    },
    "id": "a0zfzumk7qu5",
    "outputId": "f673314f-c603-4fc4-9313-0b6543918c8a"
   },
   "outputs": [
    {
     "name": "stdout",
     "output_type": "stream",
     "text": [
      "Active        1272491\n",
      "Pre-create      92960\n",
      "Not active       6529\n",
      "Name: club_member_status, dtype: int64\n"
     ]
    }
   ],
   "source": [
    "counts = df_cust[\"club_member_status\"].value_counts()\n",
    "print(counts)"
   ]
  },
  {
   "cell_type": "markdown",
   "metadata": {
    "id": "vKmRUGlTPp2f"
   },
   "source": [
    "### Customer ID"
   ]
  },
  {
   "cell_type": "code",
   "execution_count": 101,
   "metadata": {
    "colab": {
     "base_uri": "https://localhost:8080/"
    },
    "executionInfo": {
     "elapsed": 6,
     "status": "ok",
     "timestamp": 1696169728104,
     "user": {
      "displayName": "Lucrezia Labardi",
      "userId": "04987227959803536314"
     },
     "user_tz": -120
    },
    "id": "wl5uRB7jPr5S",
    "outputId": "f17cfd9b-f521-4185-eed7-467676c63c9b"
   },
   "outputs": [
    {
     "data": {
      "text/plain": [
       "False"
      ]
     },
     "execution_count": 101,
     "metadata": {},
     "output_type": "execute_result"
    }
   ],
   "source": [
    "df_cust[\"customer_id\"].isna().any() #no missing values"
   ]
  },
  {
   "cell_type": "code",
   "execution_count": 102,
   "metadata": {
    "colab": {
     "base_uri": "https://localhost:8080/"
    },
    "executionInfo": {
     "elapsed": 4,
     "status": "ok",
     "timestamp": 1696169728104,
     "user": {
      "displayName": "Lucrezia Labardi",
      "userId": "04987227959803536314"
     },
     "user_tz": -120
    },
    "id": "BsrsNTBPQVeX",
    "outputId": "d009e66c-8360-41a7-99a7-420142dfdd2c"
   },
   "outputs": [
    {
     "data": {
      "text/plain": [
       "64"
      ]
     },
     "execution_count": 102,
     "metadata": {},
     "output_type": "execute_result"
    }
   ],
   "source": [
    "len(df_cust[\"customer_id\"][0])"
   ]
  },
  {
   "cell_type": "code",
   "execution_count": 103,
   "metadata": {
    "colab": {
     "base_uri": "https://localhost:8080/"
    },
    "executionInfo": {
     "elapsed": 8257,
     "status": "ok",
     "timestamp": 1696169736358,
     "user": {
      "displayName": "Lucrezia Labardi",
      "userId": "04987227959803536314"
     },
     "user_tz": -120
    },
    "id": "VQzFT1RXP6xT",
    "outputId": "1c1ca85e-03ba-4e39-9986-754d266c5888"
   },
   "outputs": [
    {
     "name": "stdout",
     "output_type": "stream",
     "text": [
      "Every id has the same length, equal to 64\n"
     ]
    }
   ],
   "source": [
    "# i'll check if they have a common structure\n",
    "same_length = True\n",
    "\n",
    "for id in df_cust[\"customer_id\"]:\n",
    "  if len(id) != len(df_cust[\"customer_id\"][0]):\n",
    "    same_length = False\n",
    "\n",
    "if same_length == True:\n",
    "  print(f\"Every id has the same length, equal to {len(id)}\")\n",
    "else:\n",
    "  print(f\"Some ids have a different length\")\n",
    "\n",
    "#they all have the same length\n",
    "#I dont' think there's a pattern"
   ]
  },
  {
   "cell_type": "code",
   "execution_count": 104,
   "metadata": {
    "colab": {
     "base_uri": "https://localhost:8080/"
    },
    "executionInfo": {
     "elapsed": 806,
     "status": "ok",
     "timestamp": 1696058979357,
     "user": {
      "displayName": "Lucrezia Labardi",
      "userId": "04987227959803536314"
     },
     "user_tz": -120
    },
    "id": "S1serLAc9BVy",
    "outputId": "7c91fddb-245a-4a62-e7d1-ab93e83e2c70"
   },
   "outputs": [
    {
     "data": {
      "text/plain": [
       "True"
      ]
     },
     "execution_count": 104,
     "metadata": {},
     "output_type": "execute_result"
    }
   ],
   "source": [
    "#check if they're all unique\n",
    "df_cust['customer_id'].nunique() == len(df_cust)"
   ]
  },
  {
   "cell_type": "markdown",
   "metadata": {
    "id": "bLR9uKElPspq"
   },
   "source": [
    "### Postal Code"
   ]
  },
  {
   "cell_type": "code",
   "execution_count": 105,
   "metadata": {
    "colab": {
     "base_uri": "https://localhost:8080/"
    },
    "executionInfo": {
     "elapsed": 626,
     "status": "ok",
     "timestamp": 1696059001297,
     "user": {
      "displayName": "Lucrezia Labardi",
      "userId": "04987227959803536314"
     },
     "user_tz": -120
    },
    "id": "7h6mpiGOP0C3",
    "outputId": "98a9ceea-ab7a-48b5-efa2-c27eace5076d"
   },
   "outputs": [
    {
     "data": {
      "text/plain": [
       "False"
      ]
     },
     "execution_count": 105,
     "metadata": {},
     "output_type": "execute_result"
    }
   ],
   "source": [
    "df_cust[\"postal_code\"].isna().any() #no missing values"
   ]
  },
  {
   "cell_type": "code",
   "execution_count": 106,
   "metadata": {
    "colab": {
     "base_uri": "https://localhost:8080/"
    },
    "executionInfo": {
     "elapsed": 14363,
     "status": "ok",
     "timestamp": 1696059015996,
     "user": {
      "displayName": "Lucrezia Labardi",
      "userId": "04987227959803536314"
     },
     "user_tz": -120
    },
    "id": "IskaVHjvP144",
    "outputId": "6e9a7ff2-8eea-4524-d47f-6d5bea4acae5"
   },
   "outputs": [
    {
     "name": "stdout",
     "output_type": "stream",
     "text": [
      "64\n"
     ]
    }
   ],
   "source": [
    "# i'll check if they have a common structure\n",
    "for pc in df_cust[\"postal_code\"]:\n",
    "  if len(pc) != len(df_cust[\"postal_code\"][0]):\n",
    "    print(pc)\n",
    "\n",
    "print(len(pc))\n",
    "#they all have the same length\n",
    "#I dont' think there's a pattern"
   ]
  },
  {
   "cell_type": "code",
   "execution_count": 107,
   "metadata": {
    "colab": {
     "base_uri": "https://localhost:8080/"
    },
    "executionInfo": {
     "elapsed": 13,
     "status": "ok",
     "timestamp": 1696059015997,
     "user": {
      "displayName": "Lucrezia Labardi",
      "userId": "04987227959803536314"
     },
     "user_tz": -120
    },
    "id": "olako5SUR1lH",
    "outputId": "877fa7a0-719e-4207-a1b1-812a02d0e071"
   },
   "outputs": [
    {
     "name": "stdout",
     "output_type": "stream",
     "text": [
      "52043ee2162cf5aa7ee79974281641c6f11a68d276429a91f8ca0d4b6efa8100\n",
      "2973abc54daa8a5f8ccfe9362140c63247c5eee03f1d93f4c830291c32bc3057\n"
     ]
    }
   ],
   "source": [
    "print(df_cust[\"postal_code\"][0])\n",
    "print(df_cust[\"postal_code\"][1])"
   ]
  },
  {
   "cell_type": "code",
   "execution_count": 108,
   "metadata": {
    "colab": {
     "base_uri": "https://localhost:8080/"
    },
    "executionInfo": {
     "elapsed": 1312,
     "status": "ok",
     "timestamp": 1696059040699,
     "user": {
      "displayName": "Lucrezia Labardi",
      "userId": "04987227959803536314"
     },
     "user_tz": -120
    },
    "id": "BHv3fB4XR9-I",
    "outputId": "8e7e6d67-b8f2-4432-ff8d-e2d0c39d5a80"
   },
   "outputs": [
    {
     "data": {
      "text/plain": [
       "352899"
      ]
     },
     "execution_count": 108,
     "metadata": {},
     "output_type": "execute_result"
    }
   ],
   "source": [
    "df_cust['postal_code'].nunique()"
   ]
  },
  {
   "cell_type": "code",
   "execution_count": 109,
   "metadata": {
    "colab": {
     "base_uri": "https://localhost:8080/"
    },
    "executionInfo": {
     "elapsed": 5,
     "status": "ok",
     "timestamp": 1696059084392,
     "user": {
      "displayName": "Lucrezia Labardi",
      "userId": "04987227959803536314"
     },
     "user_tz": -120
    },
    "id": "6bZ7IFUN_wT_",
    "outputId": "55a92c3c-cede-45a4-cf26-e988ea807b47"
   },
   "outputs": [
    {
     "data": {
      "text/plain": [
       "2c29ae653a9282cce4151bd87643c907644e09541abc28ae87dea0d1f6603b1c    120303\n",
       "cc4ed85e30f4977dae47662ddc468cd2eec11472de6fac5ec985080fd92243c8       261\n",
       "714976379549eb90aae4a71bca6c7402cc646ae7c40f6c1cb91d4b5a18623fc1       159\n",
       "7c1fa3b0ec1d37ce2c3f34f63bd792f3b4494f324b6be5d1e4ba6a75456b96a7       157\n",
       "5b7eb31eabebd3277de632b82267286d847fd5d44287ee150bb4206b48439145       156\n",
       "                                                                     ...  \n",
       "16dd7e391f305b54c01ffed87c189e33de83158d0a808d1b346222703742f638         1\n",
       "5ce1c699380b3c13655347c9636043f5e64ec2538a1ee7d42dd253a584577630         1\n",
       "afdedc642d01efeefec6fc8d3394724a71888ebd0ff0311eff6f34946589479d         1\n",
       "4c8838d278d23029c920b9684fa4cf30a532428a445afb300eeb288685cf00e1         1\n",
       "0a1a03306fb2f62164c2a439b38c0caa64b40deaae868799ccb93ac69444b79d         1\n",
       "Name: postal_code, Length: 352899, dtype: int64"
      ]
     },
     "execution_count": 109,
     "metadata": {},
     "output_type": "execute_result"
    }
   ],
   "source": [
    "df_cust['postal_code'].value_counts()"
   ]
  },
  {
   "cell_type": "markdown",
   "metadata": {
    "id": "C8e9KSzuAMD6"
   },
   "source": [
    "## Final dataset"
   ]
  },
  {
   "cell_type": "code",
   "execution_count": 110,
   "metadata": {
    "colab": {
     "base_uri": "https://localhost:8080/",
     "height": 226
    },
    "executionInfo": {
     "elapsed": 7,
     "status": "ok",
     "timestamp": 1696059177077,
     "user": {
      "displayName": "Lucrezia Labardi",
      "userId": "04987227959803536314"
     },
     "user_tz": -120
    },
    "id": "aNPoQ9Vx_7dk",
    "outputId": "a8714dba-f947-4d44-e966-5dd10eb2c01d"
   },
   "outputs": [
    {
     "data": {
      "text/html": [
       "<div>\n",
       "<style scoped>\n",
       "    .dataframe tbody tr th:only-of-type {\n",
       "        vertical-align: middle;\n",
       "    }\n",
       "\n",
       "    .dataframe tbody tr th {\n",
       "        vertical-align: top;\n",
       "    }\n",
       "\n",
       "    .dataframe thead th {\n",
       "        text-align: right;\n",
       "    }\n",
       "</style>\n",
       "<table border=\"1\" class=\"dataframe\">\n",
       "  <thead>\n",
       "    <tr style=\"text-align: right;\">\n",
       "      <th></th>\n",
       "      <th>customer_id</th>\n",
       "      <th>FN</th>\n",
       "      <th>club_member_status</th>\n",
       "      <th>fashion_news_frequency</th>\n",
       "      <th>age</th>\n",
       "      <th>postal_code</th>\n",
       "      <th>receive_news</th>\n",
       "    </tr>\n",
       "  </thead>\n",
       "  <tbody>\n",
       "    <tr>\n",
       "      <th>0</th>\n",
       "      <td>00000dbacae5abe5e23885899a1fa44253a17956c6d1c3...</td>\n",
       "      <td>NaN</td>\n",
       "      <td>Active</td>\n",
       "      <td>Never</td>\n",
       "      <td>49.0</td>\n",
       "      <td>52043ee2162cf5aa7ee79974281641c6f11a68d276429a...</td>\n",
       "      <td>No</td>\n",
       "    </tr>\n",
       "    <tr>\n",
       "      <th>1</th>\n",
       "      <td>0000423b00ade91418cceaf3b26c6af3dd342b51fd051e...</td>\n",
       "      <td>NaN</td>\n",
       "      <td>Active</td>\n",
       "      <td>Never</td>\n",
       "      <td>25.0</td>\n",
       "      <td>2973abc54daa8a5f8ccfe9362140c63247c5eee03f1d93...</td>\n",
       "      <td>No</td>\n",
       "    </tr>\n",
       "    <tr>\n",
       "      <th>2</th>\n",
       "      <td>000058a12d5b43e67d225668fa1f8d618c13dc232df0ca...</td>\n",
       "      <td>NaN</td>\n",
       "      <td>Active</td>\n",
       "      <td>Never</td>\n",
       "      <td>24.0</td>\n",
       "      <td>64f17e6a330a85798e4998f62d0930d14db8db1c054af6...</td>\n",
       "      <td>No</td>\n",
       "    </tr>\n",
       "    <tr>\n",
       "      <th>3</th>\n",
       "      <td>00005ca1c9ed5f5146b52ac8639a40ca9d57aeff4d1bd2...</td>\n",
       "      <td>NaN</td>\n",
       "      <td>Active</td>\n",
       "      <td>Never</td>\n",
       "      <td>54.0</td>\n",
       "      <td>5d36574f52495e81f019b680c843c443bd343d5ca5b1c2...</td>\n",
       "      <td>No</td>\n",
       "    </tr>\n",
       "    <tr>\n",
       "      <th>4</th>\n",
       "      <td>00006413d8573cd20ed7128e53b7b13819fe5cfc2d801f...</td>\n",
       "      <td>1.0</td>\n",
       "      <td>Active</td>\n",
       "      <td>Regularly</td>\n",
       "      <td>52.0</td>\n",
       "      <td>25fa5ddee9aac01b35208d01736e57942317d756b32ddd...</td>\n",
       "      <td>Yes</td>\n",
       "    </tr>\n",
       "  </tbody>\n",
       "</table>\n",
       "</div>"
      ],
      "text/plain": [
       "                                         customer_id   FN club_member_status  \\\n",
       "0  00000dbacae5abe5e23885899a1fa44253a17956c6d1c3...  NaN             Active   \n",
       "1  0000423b00ade91418cceaf3b26c6af3dd342b51fd051e...  NaN             Active   \n",
       "2  000058a12d5b43e67d225668fa1f8d618c13dc232df0ca...  NaN             Active   \n",
       "3  00005ca1c9ed5f5146b52ac8639a40ca9d57aeff4d1bd2...  NaN             Active   \n",
       "4  00006413d8573cd20ed7128e53b7b13819fe5cfc2d801f...  1.0             Active   \n",
       "\n",
       "  fashion_news_frequency   age  \\\n",
       "0                  Never  49.0   \n",
       "1                  Never  25.0   \n",
       "2                  Never  24.0   \n",
       "3                  Never  54.0   \n",
       "4              Regularly  52.0   \n",
       "\n",
       "                                         postal_code receive_news  \n",
       "0  52043ee2162cf5aa7ee79974281641c6f11a68d276429a...           No  \n",
       "1  2973abc54daa8a5f8ccfe9362140c63247c5eee03f1d93...           No  \n",
       "2  64f17e6a330a85798e4998f62d0930d14db8db1c054af6...           No  \n",
       "3  5d36574f52495e81f019b680c843c443bd343d5ca5b1c2...           No  \n",
       "4  25fa5ddee9aac01b35208d01736e57942317d756b32ddd...          Yes  "
      ]
     },
     "execution_count": 110,
     "metadata": {},
     "output_type": "execute_result"
    }
   ],
   "source": [
    "df_cust.head()"
   ]
  },
  {
   "cell_type": "code",
   "execution_count": 111,
   "metadata": {
    "colab": {
     "base_uri": "https://localhost:8080/"
    },
    "executionInfo": {
     "elapsed": 4,
     "status": "ok",
     "timestamp": 1696059193750,
     "user": {
      "displayName": "Lucrezia Labardi",
      "userId": "04987227959803536314"
     },
     "user_tz": -120
    },
    "id": "XPrfOrOLATOG",
    "outputId": "2c993dd6-c47f-4a11-8d81-afcf3615b77a"
   },
   "outputs": [
    {
     "data": {
      "text/plain": [
       "(1371980, 7)"
      ]
     },
     "execution_count": 111,
     "metadata": {},
     "output_type": "execute_result"
    }
   ],
   "source": [
    "df_cust.shape"
   ]
  },
  {
   "cell_type": "code",
   "execution_count": null,
   "metadata": {
    "id": "DvaDGtaRAV-L"
   },
   "outputs": [],
   "source": []
  }
 ],
 "metadata": {
  "colab": {
   "authorship_tag": "ABX9TyMSImcNCvZxRWDYUvQGdLTI",
   "provenance": [],
   "toc_visible": true
  },
  "kernelspec": {
   "display_name": "Python 3 (ipykernel)",
   "language": "python",
   "name": "python3"
  },
  "language_info": {
   "codemirror_mode": {
    "name": "ipython",
    "version": 3
   },
   "file_extension": ".py",
   "mimetype": "text/x-python",
   "name": "python",
   "nbconvert_exporter": "python",
   "pygments_lexer": "ipython3",
   "version": "3.11.5"
  }
 },
 "nbformat": 4,
 "nbformat_minor": 1
}
