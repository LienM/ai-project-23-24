{
 "cells": [
  {
   "cell_type": "code",
   "execution_count": 5,
   "id": "e0711d26",
   "metadata": {},
   "outputs": [
    {
     "name": "stderr",
     "output_type": "stream",
     "text": [
      "100%|██████████| 260M/260M [10:54<00:00, 417kB/s]    \n"
     ]
    }
   ],
   "source": [
    "import kaggle\n",
    "import pathlib\n",
    "import os\n",
    "\n",
    "def initialise_kaggle(kaggle_json_path):\n",
    "    \"\"\"Initialises the Kaggle API.\"\"\"\n",
    "\n",
    "    os.environ['KAGGLE_CONFIG_DIR'] = kaggle_json_path\n",
    "    kaggle.api.authenticate()\n",
    "\n",
    "\n",
    "def upload_to_kaggle(filepath, message):\n",
    "    \"\"\"Uploads a submission to Kaggle.\"\"\"\n",
    "\n",
    "    kaggle.api.competition_submit(filepath, message, 'h-and-m-personalized-fashion-recommendations')\n",
    "\n",
    "# Get path to .kaggle/kaggle.json via OS profile\n",
    "PROFILE_ROOT = os.environ.get(\"HOME\", os.environ.get(\"USERPROFILE\", \"\"))\n",
    "KAGGLE_PATH = pathlib.Path(PROFILE_ROOT, \".kaggle/kaggle.json\").as_posix()\n",
    "\n",
    "initialise_kaggle(KAGGLE_PATH)\n",
    "\n",
    "# Kaggle setup is now complete, you can easily submit your output csv(.gz) with the upload_to_kaggle command\n",
    "DESCRIPTION = \"submission_last3weeks\"\n",
    "OUTPUT_FILE = \"generated_data/try_sub_4.csv\"\n",
    "\n",
    "#OUTPUT_DATASET.to_csv(OUTPUT_FILE, index=False)\n",
    "upload_to_kaggle(OUTPUT_FILE, DESCRIPTION)"
   ]
  },
  {
   "cell_type": "code",
   "execution_count": 3,
   "id": "2b91c1c3",
   "metadata": {},
   "outputs": [],
   "source": [
    "import pandas as pd\n",
    "file = pd.read_csv(\"generated_data/try_sub_4.csv\")"
   ]
  },
  {
   "cell_type": "code",
   "execution_count": 4,
   "id": "276a3e3f",
   "metadata": {},
   "outputs": [
    {
     "data": {
      "text/html": [
       "<div>\n",
       "<style scoped>\n",
       "    .dataframe tbody tr th:only-of-type {\n",
       "        vertical-align: middle;\n",
       "    }\n",
       "\n",
       "    .dataframe tbody tr th {\n",
       "        vertical-align: top;\n",
       "    }\n",
       "\n",
       "    .dataframe thead th {\n",
       "        text-align: right;\n",
       "    }\n",
       "</style>\n",
       "<table border=\"1\" class=\"dataframe\">\n",
       "  <thead>\n",
       "    <tr style=\"text-align: right;\">\n",
       "      <th></th>\n",
       "      <th>customer_id</th>\n",
       "      <th>prediction</th>\n",
       "    </tr>\n",
       "  </thead>\n",
       "  <tbody>\n",
       "    <tr>\n",
       "      <th>0</th>\n",
       "      <td>f7d78f9ef5c5ab466351f2353752682888a086709e8af0...</td>\n",
       "      <td>0153115021 0543548001 0676052001 0224606031 08...</td>\n",
       "    </tr>\n",
       "    <tr>\n",
       "      <th>1</th>\n",
       "      <td>67f467c031b61f5a1c41b47344939f4851a069f0b8d7aa...</td>\n",
       "      <td>0594543024 0743840010 0815563003 0892051002 08...</td>\n",
       "    </tr>\n",
       "    <tr>\n",
       "      <th>2</th>\n",
       "      <td>02cb5e9a3901891989994ec559da0290a36e137cec5c1e...</td>\n",
       "      <td>0512630004 0598515016 0815338003 0796555005 08...</td>\n",
       "    </tr>\n",
       "    <tr>\n",
       "      <th>3</th>\n",
       "      <td>def9c3fd04cb946ee5aee18cdc1974a859d48e06a5b410...</td>\n",
       "      <td>0695411001 0807704001 0834036001 0851774006 09...</td>\n",
       "    </tr>\n",
       "    <tr>\n",
       "      <th>4</th>\n",
       "      <td>1a7da60f5c082f8ff5edbd55473a562e231b5c01d16c67...</td>\n",
       "      <td>0783707123 0859401001 0887718001 0886908001 09...</td>\n",
       "    </tr>\n",
       "    <tr>\n",
       "      <th>...</th>\n",
       "      <td>...</td>\n",
       "      <td>...</td>\n",
       "    </tr>\n",
       "    <tr>\n",
       "      <th>1371975</th>\n",
       "      <td>ffffa28cd7ab5d1cbbbfe7b582b1c419270cc0539f3dae...</td>\n",
       "      <td>0000000000, 0000000000, 0000000000, 0000000000...</td>\n",
       "    </tr>\n",
       "    <tr>\n",
       "      <th>1371976</th>\n",
       "      <td>ffffaff3905b803d1c7e153a1378a5151e1f34f236ba54...</td>\n",
       "      <td>0000000000, 0000000000, 0000000000, 0000000000...</td>\n",
       "    </tr>\n",
       "    <tr>\n",
       "      <th>1371977</th>\n",
       "      <td>ffffcd5046a6143d29a04fb8c424ce494a76e5cdf4fab5...</td>\n",
       "      <td>0000000000, 0000000000, 0000000000, 0000000000...</td>\n",
       "    </tr>\n",
       "    <tr>\n",
       "      <th>1371978</th>\n",
       "      <td>ffffd7744cebcf3aca44ae7049d2a94b87074c3d4ffe38...</td>\n",
       "      <td>0000000000, 0000000000, 0000000000, 0000000000...</td>\n",
       "    </tr>\n",
       "    <tr>\n",
       "      <th>1371979</th>\n",
       "      <td>ffffd9ac14e89946416d80e791d064701994755c3ab686...</td>\n",
       "      <td>0000000000, 0000000000, 0000000000, 0000000000...</td>\n",
       "    </tr>\n",
       "  </tbody>\n",
       "</table>\n",
       "<p>1371980 rows × 2 columns</p>\n",
       "</div>"
      ],
      "text/plain": [
       "                                               customer_id  \\\n",
       "0        f7d78f9ef5c5ab466351f2353752682888a086709e8af0...   \n",
       "1        67f467c031b61f5a1c41b47344939f4851a069f0b8d7aa...   \n",
       "2        02cb5e9a3901891989994ec559da0290a36e137cec5c1e...   \n",
       "3        def9c3fd04cb946ee5aee18cdc1974a859d48e06a5b410...   \n",
       "4        1a7da60f5c082f8ff5edbd55473a562e231b5c01d16c67...   \n",
       "...                                                    ...   \n",
       "1371975  ffffa28cd7ab5d1cbbbfe7b582b1c419270cc0539f3dae...   \n",
       "1371976  ffffaff3905b803d1c7e153a1378a5151e1f34f236ba54...   \n",
       "1371977  ffffcd5046a6143d29a04fb8c424ce494a76e5cdf4fab5...   \n",
       "1371978  ffffd7744cebcf3aca44ae7049d2a94b87074c3d4ffe38...   \n",
       "1371979  ffffd9ac14e89946416d80e791d064701994755c3ab686...   \n",
       "\n",
       "                                                prediction  \n",
       "0        0153115021 0543548001 0676052001 0224606031 08...  \n",
       "1        0594543024 0743840010 0815563003 0892051002 08...  \n",
       "2        0512630004 0598515016 0815338003 0796555005 08...  \n",
       "3        0695411001 0807704001 0834036001 0851774006 09...  \n",
       "4        0783707123 0859401001 0887718001 0886908001 09...  \n",
       "...                                                    ...  \n",
       "1371975  0000000000, 0000000000, 0000000000, 0000000000...  \n",
       "1371976  0000000000, 0000000000, 0000000000, 0000000000...  \n",
       "1371977  0000000000, 0000000000, 0000000000, 0000000000...  \n",
       "1371978  0000000000, 0000000000, 0000000000, 0000000000...  \n",
       "1371979  0000000000, 0000000000, 0000000000, 0000000000...  \n",
       "\n",
       "[1371980 rows x 2 columns]"
      ]
     },
     "execution_count": 4,
     "metadata": {},
     "output_type": "execute_result"
    }
   ],
   "source": [
    "file "
   ]
  },
  {
   "cell_type": "code",
   "execution_count": 2,
   "id": "d7a6ef5f",
   "metadata": {},
   "outputs": [
    {
     "name": "stdout",
     "output_type": "stream",
     "text": [
      "Collecting kaggle\n",
      "  Downloading kaggle-1.5.16.tar.gz (83 kB)\n",
      "     ---------------------------------------- 0.0/83.6 kB ? eta -:--:--\n",
      "     ------------------ ------------------- 41.0/83.6 kB 991.0 kB/s eta 0:00:01\n",
      "     ---------------------------------------- 83.6/83.6 kB 1.6 MB/s eta 0:00:00\n",
      "  Preparing metadata (setup.py): started\n",
      "  Preparing metadata (setup.py): finished with status 'done'\n",
      "Requirement already satisfied: six>=1.10 in c:\\users\\lucre\\anaconda3\\lib\\site-packages (from kaggle) (1.16.0)\n",
      "Requirement already satisfied: certifi in c:\\users\\lucre\\anaconda3\\lib\\site-packages (from kaggle) (2023.7.22)\n",
      "Requirement already satisfied: python-dateutil in c:\\users\\lucre\\anaconda3\\lib\\site-packages (from kaggle) (2.8.2)\n",
      "Requirement already satisfied: requests in c:\\users\\lucre\\anaconda3\\lib\\site-packages (from kaggle) (2.31.0)\n",
      "Requirement already satisfied: tqdm in c:\\users\\lucre\\anaconda3\\lib\\site-packages (from kaggle) (4.65.0)\n",
      "Requirement already satisfied: python-slugify in c:\\users\\lucre\\anaconda3\\lib\\site-packages (from kaggle) (5.0.2)\n",
      "Requirement already satisfied: urllib3 in c:\\users\\lucre\\anaconda3\\lib\\site-packages (from kaggle) (1.26.16)\n",
      "Requirement already satisfied: bleach in c:\\users\\lucre\\anaconda3\\lib\\site-packages (from kaggle) (4.1.0)\n",
      "Requirement already satisfied: packaging in c:\\users\\lucre\\anaconda3\\lib\\site-packages (from bleach->kaggle) (23.1)\n",
      "Requirement already satisfied: webencodings in c:\\users\\lucre\\anaconda3\\lib\\site-packages (from bleach->kaggle) (0.5.1)\n",
      "Requirement already satisfied: text-unidecode>=1.3 in c:\\users\\lucre\\anaconda3\\lib\\site-packages (from python-slugify->kaggle) (1.3)\n",
      "Requirement already satisfied: charset-normalizer<4,>=2 in c:\\users\\lucre\\anaconda3\\lib\\site-packages (from requests->kaggle) (2.0.4)\n",
      "Requirement already satisfied: idna<4,>=2.5 in c:\\users\\lucre\\anaconda3\\lib\\site-packages (from requests->kaggle) (3.4)\n",
      "Requirement already satisfied: colorama in c:\\users\\lucre\\anaconda3\\lib\\site-packages (from tqdm->kaggle) (0.4.6)\n",
      "Building wheels for collected packages: kaggle\n",
      "  Building wheel for kaggle (setup.py): started\n",
      "  Building wheel for kaggle (setup.py): finished with status 'done'\n",
      "  Created wheel for kaggle: filename=kaggle-1.5.16-py3-none-any.whl size=110693 sha256=79c9aa3c941162ab681ce3577bdd8ecd90506561ccfd11bf30ea95f0efac051e\n",
      "  Stored in directory: c:\\users\\lucre\\appdata\\local\\pip\\cache\\wheels\\6a\\2b\\d0\\457dd27de499e9423caf738e743c4a3f82886ee6b19f89d5b7\n",
      "Successfully built kaggle\n",
      "Installing collected packages: kaggle\n",
      "Successfully installed kaggle-1.5.16\n",
      "Note: you may need to restart the kernel to use updated packages.\n"
     ]
    }
   ],
   "source": [
    "pip install kaggle"
   ]
  },
  {
   "cell_type": "code",
   "execution_count": null,
   "id": "159e692c",
   "metadata": {},
   "outputs": [],
   "source": []
  }
 ],
 "metadata": {
  "kernelspec": {
   "display_name": "Python 3 (ipykernel)",
   "language": "python",
   "name": "python3"
  },
  "language_info": {
   "codemirror_mode": {
    "name": "ipython",
    "version": 3
   },
   "file_extension": ".py",
   "mimetype": "text/x-python",
   "name": "python",
   "nbconvert_exporter": "python",
   "pygments_lexer": "ipython3",
   "version": "3.11.5"
  }
 },
 "nbformat": 4,
 "nbformat_minor": 5
}
