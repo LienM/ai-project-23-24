{
 "cells": [
  {
   "cell_type": "markdown",
   "metadata": {},
   "source": [
    "# Text mining on articles descriptions\n",
    "This notebook contains some text mining performed on earticles description, including most common words, nouns and adjectives, and exploration of bigrams and trigrams. \n",
    "This was the first step preceding the looking for fabric and material names. "
   ]
  },
  {
   "cell_type": "markdown",
   "metadata": {
    "id": "1DQ9jluhAfVL"
   },
   "source": [
    "## Import of libraries and dataset"
   ]
  },
  {
   "cell_type": "code",
   "execution_count": 1,
   "metadata": {
    "id": "Ey9eKwm8Lw-P"
   },
   "outputs": [],
   "source": [
    "# import libraries\n",
    "import pandas as pd"
   ]
  },
  {
   "cell_type": "code",
   "execution_count": 2,
   "metadata": {
    "id": "wNYOX4WHL5RP"
   },
   "outputs": [],
   "source": [
    "# import dataset\n",
    "articoli = pd.read_csv(\"../data/articles.csv\")"
   ]
  },
  {
   "cell_type": "code",
   "execution_count": 3,
   "metadata": {
    "id": "a91eOjsNt_1H"
   },
   "outputs": [],
   "source": [
    "#remove nan values from descriptions\n",
    "articoli.dropna(subset=['detail_desc'], inplace=True)"
   ]
  },
  {
   "cell_type": "code",
   "execution_count": 4,
   "metadata": {
    "colab": {
     "base_uri": "https://localhost:8080/",
     "height": 516
    },
    "executionInfo": {
     "elapsed": 7,
     "status": "ok",
     "timestamp": 1698661538822,
     "user": {
      "displayName": "Lucrezia Labardi",
      "userId": "04987227959803536314"
     },
     "user_tz": -60
    },
    "id": "i40sfQt8t8gH",
    "outputId": "eb4c7bb3-a786-43b6-f521-d21fe12e6e11"
   },
   "outputs": [
    {
     "data": {
      "text/html": [
       "<div>\n",
       "<style scoped>\n",
       "    .dataframe tbody tr th:only-of-type {\n",
       "        vertical-align: middle;\n",
       "    }\n",
       "\n",
       "    .dataframe tbody tr th {\n",
       "        vertical-align: top;\n",
       "    }\n",
       "\n",
       "    .dataframe thead th {\n",
       "        text-align: right;\n",
       "    }\n",
       "</style>\n",
       "<table border=\"1\" class=\"dataframe\">\n",
       "  <thead>\n",
       "    <tr style=\"text-align: right;\">\n",
       "      <th></th>\n",
       "      <th>article_id</th>\n",
       "      <th>product_code</th>\n",
       "      <th>prod_name</th>\n",
       "      <th>product_type_no</th>\n",
       "      <th>product_type_name</th>\n",
       "      <th>product_group_name</th>\n",
       "      <th>graphical_appearance_no</th>\n",
       "      <th>graphical_appearance_name</th>\n",
       "      <th>colour_group_code</th>\n",
       "      <th>colour_group_name</th>\n",
       "      <th>...</th>\n",
       "      <th>department_name</th>\n",
       "      <th>index_code</th>\n",
       "      <th>index_name</th>\n",
       "      <th>index_group_no</th>\n",
       "      <th>index_group_name</th>\n",
       "      <th>section_no</th>\n",
       "      <th>section_name</th>\n",
       "      <th>garment_group_no</th>\n",
       "      <th>garment_group_name</th>\n",
       "      <th>detail_desc</th>\n",
       "    </tr>\n",
       "  </thead>\n",
       "  <tbody>\n",
       "    <tr>\n",
       "      <th>0</th>\n",
       "      <td>108775015</td>\n",
       "      <td>108775</td>\n",
       "      <td>Strap top</td>\n",
       "      <td>253</td>\n",
       "      <td>Vest top</td>\n",
       "      <td>Garment Upper body</td>\n",
       "      <td>1010016</td>\n",
       "      <td>Solid</td>\n",
       "      <td>9</td>\n",
       "      <td>Black</td>\n",
       "      <td>...</td>\n",
       "      <td>Jersey Basic</td>\n",
       "      <td>A</td>\n",
       "      <td>Ladieswear</td>\n",
       "      <td>1</td>\n",
       "      <td>Ladieswear</td>\n",
       "      <td>16</td>\n",
       "      <td>Womens Everyday Basics</td>\n",
       "      <td>1002</td>\n",
       "      <td>Jersey Basic</td>\n",
       "      <td>Jersey top with narrow shoulder straps.</td>\n",
       "    </tr>\n",
       "    <tr>\n",
       "      <th>1</th>\n",
       "      <td>108775044</td>\n",
       "      <td>108775</td>\n",
       "      <td>Strap top</td>\n",
       "      <td>253</td>\n",
       "      <td>Vest top</td>\n",
       "      <td>Garment Upper body</td>\n",
       "      <td>1010016</td>\n",
       "      <td>Solid</td>\n",
       "      <td>10</td>\n",
       "      <td>White</td>\n",
       "      <td>...</td>\n",
       "      <td>Jersey Basic</td>\n",
       "      <td>A</td>\n",
       "      <td>Ladieswear</td>\n",
       "      <td>1</td>\n",
       "      <td>Ladieswear</td>\n",
       "      <td>16</td>\n",
       "      <td>Womens Everyday Basics</td>\n",
       "      <td>1002</td>\n",
       "      <td>Jersey Basic</td>\n",
       "      <td>Jersey top with narrow shoulder straps.</td>\n",
       "    </tr>\n",
       "    <tr>\n",
       "      <th>2</th>\n",
       "      <td>108775051</td>\n",
       "      <td>108775</td>\n",
       "      <td>Strap top (1)</td>\n",
       "      <td>253</td>\n",
       "      <td>Vest top</td>\n",
       "      <td>Garment Upper body</td>\n",
       "      <td>1010017</td>\n",
       "      <td>Stripe</td>\n",
       "      <td>11</td>\n",
       "      <td>Off White</td>\n",
       "      <td>...</td>\n",
       "      <td>Jersey Basic</td>\n",
       "      <td>A</td>\n",
       "      <td>Ladieswear</td>\n",
       "      <td>1</td>\n",
       "      <td>Ladieswear</td>\n",
       "      <td>16</td>\n",
       "      <td>Womens Everyday Basics</td>\n",
       "      <td>1002</td>\n",
       "      <td>Jersey Basic</td>\n",
       "      <td>Jersey top with narrow shoulder straps.</td>\n",
       "    </tr>\n",
       "    <tr>\n",
       "      <th>3</th>\n",
       "      <td>110065001</td>\n",
       "      <td>110065</td>\n",
       "      <td>OP T-shirt (Idro)</td>\n",
       "      <td>306</td>\n",
       "      <td>Bra</td>\n",
       "      <td>Underwear</td>\n",
       "      <td>1010016</td>\n",
       "      <td>Solid</td>\n",
       "      <td>9</td>\n",
       "      <td>Black</td>\n",
       "      <td>...</td>\n",
       "      <td>Clean Lingerie</td>\n",
       "      <td>B</td>\n",
       "      <td>Lingeries/Tights</td>\n",
       "      <td>1</td>\n",
       "      <td>Ladieswear</td>\n",
       "      <td>61</td>\n",
       "      <td>Womens Lingerie</td>\n",
       "      <td>1017</td>\n",
       "      <td>Under-, Nightwear</td>\n",
       "      <td>Microfibre T-shirt bra with underwired, moulde...</td>\n",
       "    </tr>\n",
       "    <tr>\n",
       "      <th>4</th>\n",
       "      <td>110065002</td>\n",
       "      <td>110065</td>\n",
       "      <td>OP T-shirt (Idro)</td>\n",
       "      <td>306</td>\n",
       "      <td>Bra</td>\n",
       "      <td>Underwear</td>\n",
       "      <td>1010016</td>\n",
       "      <td>Solid</td>\n",
       "      <td>10</td>\n",
       "      <td>White</td>\n",
       "      <td>...</td>\n",
       "      <td>Clean Lingerie</td>\n",
       "      <td>B</td>\n",
       "      <td>Lingeries/Tights</td>\n",
       "      <td>1</td>\n",
       "      <td>Ladieswear</td>\n",
       "      <td>61</td>\n",
       "      <td>Womens Lingerie</td>\n",
       "      <td>1017</td>\n",
       "      <td>Under-, Nightwear</td>\n",
       "      <td>Microfibre T-shirt bra with underwired, moulde...</td>\n",
       "    </tr>\n",
       "  </tbody>\n",
       "</table>\n",
       "<p>5 rows × 25 columns</p>\n",
       "</div>"
      ],
      "text/plain": [
       "   article_id  product_code          prod_name  product_type_no  \\\n",
       "0   108775015        108775          Strap top              253   \n",
       "1   108775044        108775          Strap top              253   \n",
       "2   108775051        108775      Strap top (1)              253   \n",
       "3   110065001        110065  OP T-shirt (Idro)              306   \n",
       "4   110065002        110065  OP T-shirt (Idro)              306   \n",
       "\n",
       "  product_type_name  product_group_name  graphical_appearance_no  \\\n",
       "0          Vest top  Garment Upper body                  1010016   \n",
       "1          Vest top  Garment Upper body                  1010016   \n",
       "2          Vest top  Garment Upper body                  1010017   \n",
       "3               Bra           Underwear                  1010016   \n",
       "4               Bra           Underwear                  1010016   \n",
       "\n",
       "  graphical_appearance_name  colour_group_code colour_group_name  ...  \\\n",
       "0                     Solid                  9             Black  ...   \n",
       "1                     Solid                 10             White  ...   \n",
       "2                    Stripe                 11         Off White  ...   \n",
       "3                     Solid                  9             Black  ...   \n",
       "4                     Solid                 10             White  ...   \n",
       "\n",
       "   department_name index_code        index_name index_group_no  \\\n",
       "0     Jersey Basic          A        Ladieswear              1   \n",
       "1     Jersey Basic          A        Ladieswear              1   \n",
       "2     Jersey Basic          A        Ladieswear              1   \n",
       "3   Clean Lingerie          B  Lingeries/Tights              1   \n",
       "4   Clean Lingerie          B  Lingeries/Tights              1   \n",
       "\n",
       "   index_group_name section_no            section_name garment_group_no  \\\n",
       "0        Ladieswear         16  Womens Everyday Basics             1002   \n",
       "1        Ladieswear         16  Womens Everyday Basics             1002   \n",
       "2        Ladieswear         16  Womens Everyday Basics             1002   \n",
       "3        Ladieswear         61         Womens Lingerie             1017   \n",
       "4        Ladieswear         61         Womens Lingerie             1017   \n",
       "\n",
       "   garment_group_name                                        detail_desc  \n",
       "0        Jersey Basic            Jersey top with narrow shoulder straps.  \n",
       "1        Jersey Basic            Jersey top with narrow shoulder straps.  \n",
       "2        Jersey Basic            Jersey top with narrow shoulder straps.  \n",
       "3   Under-, Nightwear  Microfibre T-shirt bra with underwired, moulde...  \n",
       "4   Under-, Nightwear  Microfibre T-shirt bra with underwired, moulde...  \n",
       "\n",
       "[5 rows x 25 columns]"
      ]
     },
     "execution_count": 4,
     "metadata": {},
     "output_type": "execute_result"
    }
   ],
   "source": [
    "articoli.head()"
   ]
  },
  {
   "cell_type": "markdown",
   "metadata": {
    "id": "64YYeRhNXYDL"
   },
   "source": [
    "## Frequent words"
   ]
  },
  {
   "cell_type": "code",
   "execution_count": 5,
   "metadata": {
    "colab": {
     "base_uri": "https://localhost:8080/"
    },
    "executionInfo": {
     "elapsed": 5,
     "status": "ok",
     "timestamp": 1698661540380,
     "user": {
      "displayName": "Lucrezia Labardi",
      "userId": "04987227959803536314"
     },
     "user_tz": -60
    },
    "id": "DU3YTFNzpNkG",
    "outputId": "9632a282-a62a-4367-81ca-920624aa7a66"
   },
   "outputs": [
    {
     "data": {
      "text/plain": [
       "105126"
      ]
     },
     "execution_count": 5,
     "metadata": {},
     "output_type": "execute_result"
    }
   ],
   "source": [
    "#create a list with all the sentences\n",
    "frasi = articoli[\"detail_desc\"].tolist()\n",
    "len(frasi)"
   ]
  },
  {
   "cell_type": "code",
   "execution_count": 6,
   "metadata": {
    "id": "RguVK7zgLHb_"
   },
   "outputs": [],
   "source": [
    "#!pip install nltk"
   ]
  },
  {
   "cell_type": "code",
   "execution_count": 7,
   "metadata": {
    "colab": {
     "base_uri": "https://localhost:8080/"
    },
    "executionInfo": {
     "elapsed": 1879,
     "status": "ok",
     "timestamp": 1698661544232,
     "user": {
      "displayName": "Lucrezia Labardi",
      "userId": "04987227959803536314"
     },
     "user_tz": -60
    },
    "id": "WL9qFhJ5LhMh",
    "outputId": "f6e99ddd-2903-4b3c-df01-9412ac7e4a18"
   },
   "outputs": [
    {
     "name": "stderr",
     "output_type": "stream",
     "text": [
      "[nltk_data] Downloading package stopwords to\n",
      "[nltk_data]     C:\\Users\\lucre\\AppData\\Roaming\\nltk_data...\n",
      "[nltk_data]   Package stopwords is already up-to-date!\n"
     ]
    }
   ],
   "source": [
    "#import nltk and english stopwords\n",
    "import nltk\n",
    "nltk.download('stopwords')\n",
    "from nltk.corpus import stopwords\n",
    "stop_words = set(stopwords.words('english'))"
   ]
  },
  {
   "cell_type": "code",
   "execution_count": 8,
   "metadata": {
    "id": "xHeltBmkPZpx"
   },
   "outputs": [],
   "source": [
    "#transform all sentences to lower case\n",
    "articoli[\"detail_desc\"] = articoli[\"detail_desc\"].str.lower()"
   ]
  },
  {
   "cell_type": "code",
   "execution_count": 9,
   "metadata": {
    "colab": {
     "base_uri": "https://localhost:8080/",
     "height": 981
    },
    "executionInfo": {
     "elapsed": 9,
     "status": "ok",
     "timestamp": 1698661548056,
     "user": {
      "displayName": "Lucrezia Labardi",
      "userId": "04987227959803536314"
     },
     "user_tz": -60
    },
    "id": "EB1Szssf8NeH",
    "outputId": "c928bcf8-8dda-4466-a089-b5c1c2d3443c"
   },
   "outputs": [
    {
     "data": {
      "text/html": [
       "<div>\n",
       "<style scoped>\n",
       "    .dataframe tbody tr th:only-of-type {\n",
       "        vertical-align: middle;\n",
       "    }\n",
       "\n",
       "    .dataframe tbody tr th {\n",
       "        vertical-align: top;\n",
       "    }\n",
       "\n",
       "    .dataframe thead th {\n",
       "        text-align: right;\n",
       "    }\n",
       "</style>\n",
       "<table border=\"1\" class=\"dataframe\">\n",
       "  <thead>\n",
       "    <tr style=\"text-align: right;\">\n",
       "      <th></th>\n",
       "      <th>article_id</th>\n",
       "      <th>product_code</th>\n",
       "      <th>prod_name</th>\n",
       "      <th>product_type_no</th>\n",
       "      <th>product_type_name</th>\n",
       "      <th>product_group_name</th>\n",
       "      <th>graphical_appearance_no</th>\n",
       "      <th>graphical_appearance_name</th>\n",
       "      <th>colour_group_code</th>\n",
       "      <th>colour_group_name</th>\n",
       "      <th>...</th>\n",
       "      <th>department_name</th>\n",
       "      <th>index_code</th>\n",
       "      <th>index_name</th>\n",
       "      <th>index_group_no</th>\n",
       "      <th>index_group_name</th>\n",
       "      <th>section_no</th>\n",
       "      <th>section_name</th>\n",
       "      <th>garment_group_no</th>\n",
       "      <th>garment_group_name</th>\n",
       "      <th>detail_desc</th>\n",
       "    </tr>\n",
       "  </thead>\n",
       "  <tbody>\n",
       "    <tr>\n",
       "      <th>0</th>\n",
       "      <td>108775015</td>\n",
       "      <td>108775</td>\n",
       "      <td>Strap top</td>\n",
       "      <td>253</td>\n",
       "      <td>Vest top</td>\n",
       "      <td>Garment Upper body</td>\n",
       "      <td>1010016</td>\n",
       "      <td>Solid</td>\n",
       "      <td>9</td>\n",
       "      <td>Black</td>\n",
       "      <td>...</td>\n",
       "      <td>Jersey Basic</td>\n",
       "      <td>A</td>\n",
       "      <td>Ladieswear</td>\n",
       "      <td>1</td>\n",
       "      <td>Ladieswear</td>\n",
       "      <td>16</td>\n",
       "      <td>Womens Everyday Basics</td>\n",
       "      <td>1002</td>\n",
       "      <td>Jersey Basic</td>\n",
       "      <td>jersey top with narrow shoulder straps.</td>\n",
       "    </tr>\n",
       "    <tr>\n",
       "      <th>1</th>\n",
       "      <td>108775044</td>\n",
       "      <td>108775</td>\n",
       "      <td>Strap top</td>\n",
       "      <td>253</td>\n",
       "      <td>Vest top</td>\n",
       "      <td>Garment Upper body</td>\n",
       "      <td>1010016</td>\n",
       "      <td>Solid</td>\n",
       "      <td>10</td>\n",
       "      <td>White</td>\n",
       "      <td>...</td>\n",
       "      <td>Jersey Basic</td>\n",
       "      <td>A</td>\n",
       "      <td>Ladieswear</td>\n",
       "      <td>1</td>\n",
       "      <td>Ladieswear</td>\n",
       "      <td>16</td>\n",
       "      <td>Womens Everyday Basics</td>\n",
       "      <td>1002</td>\n",
       "      <td>Jersey Basic</td>\n",
       "      <td>jersey top with narrow shoulder straps.</td>\n",
       "    </tr>\n",
       "    <tr>\n",
       "      <th>2</th>\n",
       "      <td>108775051</td>\n",
       "      <td>108775</td>\n",
       "      <td>Strap top (1)</td>\n",
       "      <td>253</td>\n",
       "      <td>Vest top</td>\n",
       "      <td>Garment Upper body</td>\n",
       "      <td>1010017</td>\n",
       "      <td>Stripe</td>\n",
       "      <td>11</td>\n",
       "      <td>Off White</td>\n",
       "      <td>...</td>\n",
       "      <td>Jersey Basic</td>\n",
       "      <td>A</td>\n",
       "      <td>Ladieswear</td>\n",
       "      <td>1</td>\n",
       "      <td>Ladieswear</td>\n",
       "      <td>16</td>\n",
       "      <td>Womens Everyday Basics</td>\n",
       "      <td>1002</td>\n",
       "      <td>Jersey Basic</td>\n",
       "      <td>jersey top with narrow shoulder straps.</td>\n",
       "    </tr>\n",
       "    <tr>\n",
       "      <th>3</th>\n",
       "      <td>110065001</td>\n",
       "      <td>110065</td>\n",
       "      <td>OP T-shirt (Idro)</td>\n",
       "      <td>306</td>\n",
       "      <td>Bra</td>\n",
       "      <td>Underwear</td>\n",
       "      <td>1010016</td>\n",
       "      <td>Solid</td>\n",
       "      <td>9</td>\n",
       "      <td>Black</td>\n",
       "      <td>...</td>\n",
       "      <td>Clean Lingerie</td>\n",
       "      <td>B</td>\n",
       "      <td>Lingeries/Tights</td>\n",
       "      <td>1</td>\n",
       "      <td>Ladieswear</td>\n",
       "      <td>61</td>\n",
       "      <td>Womens Lingerie</td>\n",
       "      <td>1017</td>\n",
       "      <td>Under-, Nightwear</td>\n",
       "      <td>microfibre t-shirt bra with underwired, moulde...</td>\n",
       "    </tr>\n",
       "    <tr>\n",
       "      <th>4</th>\n",
       "      <td>110065002</td>\n",
       "      <td>110065</td>\n",
       "      <td>OP T-shirt (Idro)</td>\n",
       "      <td>306</td>\n",
       "      <td>Bra</td>\n",
       "      <td>Underwear</td>\n",
       "      <td>1010016</td>\n",
       "      <td>Solid</td>\n",
       "      <td>10</td>\n",
       "      <td>White</td>\n",
       "      <td>...</td>\n",
       "      <td>Clean Lingerie</td>\n",
       "      <td>B</td>\n",
       "      <td>Lingeries/Tights</td>\n",
       "      <td>1</td>\n",
       "      <td>Ladieswear</td>\n",
       "      <td>61</td>\n",
       "      <td>Womens Lingerie</td>\n",
       "      <td>1017</td>\n",
       "      <td>Under-, Nightwear</td>\n",
       "      <td>microfibre t-shirt bra with underwired, moulde...</td>\n",
       "    </tr>\n",
       "    <tr>\n",
       "      <th>...</th>\n",
       "      <td>...</td>\n",
       "      <td>...</td>\n",
       "      <td>...</td>\n",
       "      <td>...</td>\n",
       "      <td>...</td>\n",
       "      <td>...</td>\n",
       "      <td>...</td>\n",
       "      <td>...</td>\n",
       "      <td>...</td>\n",
       "      <td>...</td>\n",
       "      <td>...</td>\n",
       "      <td>...</td>\n",
       "      <td>...</td>\n",
       "      <td>...</td>\n",
       "      <td>...</td>\n",
       "      <td>...</td>\n",
       "      <td>...</td>\n",
       "      <td>...</td>\n",
       "      <td>...</td>\n",
       "      <td>...</td>\n",
       "      <td>...</td>\n",
       "    </tr>\n",
       "    <tr>\n",
       "      <th>105537</th>\n",
       "      <td>953450001</td>\n",
       "      <td>953450</td>\n",
       "      <td>5pk regular Placement1</td>\n",
       "      <td>302</td>\n",
       "      <td>Socks</td>\n",
       "      <td>Socks &amp; Tights</td>\n",
       "      <td>1010014</td>\n",
       "      <td>Placement print</td>\n",
       "      <td>9</td>\n",
       "      <td>Black</td>\n",
       "      <td>...</td>\n",
       "      <td>Socks Bin</td>\n",
       "      <td>F</td>\n",
       "      <td>Menswear</td>\n",
       "      <td>3</td>\n",
       "      <td>Menswear</td>\n",
       "      <td>26</td>\n",
       "      <td>Men Underwear</td>\n",
       "      <td>1021</td>\n",
       "      <td>Socks and Tights</td>\n",
       "      <td>socks in a fine-knit cotton blend with a small...</td>\n",
       "    </tr>\n",
       "    <tr>\n",
       "      <th>105538</th>\n",
       "      <td>953763001</td>\n",
       "      <td>953763</td>\n",
       "      <td>SPORT Malaga tank</td>\n",
       "      <td>253</td>\n",
       "      <td>Vest top</td>\n",
       "      <td>Garment Upper body</td>\n",
       "      <td>1010016</td>\n",
       "      <td>Solid</td>\n",
       "      <td>9</td>\n",
       "      <td>Black</td>\n",
       "      <td>...</td>\n",
       "      <td>Jersey</td>\n",
       "      <td>A</td>\n",
       "      <td>Ladieswear</td>\n",
       "      <td>1</td>\n",
       "      <td>Ladieswear</td>\n",
       "      <td>2</td>\n",
       "      <td>H&amp;M+</td>\n",
       "      <td>1005</td>\n",
       "      <td>Jersey Fancy</td>\n",
       "      <td>loose-fitting sports vest top in ribbed fast-d...</td>\n",
       "    </tr>\n",
       "    <tr>\n",
       "      <th>105539</th>\n",
       "      <td>956217002</td>\n",
       "      <td>956217</td>\n",
       "      <td>Cartwheel dress</td>\n",
       "      <td>265</td>\n",
       "      <td>Dress</td>\n",
       "      <td>Garment Full body</td>\n",
       "      <td>1010016</td>\n",
       "      <td>Solid</td>\n",
       "      <td>9</td>\n",
       "      <td>Black</td>\n",
       "      <td>...</td>\n",
       "      <td>Jersey</td>\n",
       "      <td>A</td>\n",
       "      <td>Ladieswear</td>\n",
       "      <td>1</td>\n",
       "      <td>Ladieswear</td>\n",
       "      <td>18</td>\n",
       "      <td>Womens Trend</td>\n",
       "      <td>1005</td>\n",
       "      <td>Jersey Fancy</td>\n",
       "      <td>short, a-line dress in jersey with a round nec...</td>\n",
       "    </tr>\n",
       "    <tr>\n",
       "      <th>105540</th>\n",
       "      <td>957375001</td>\n",
       "      <td>957375</td>\n",
       "      <td>CLAIRE HAIR CLAW</td>\n",
       "      <td>72</td>\n",
       "      <td>Hair clip</td>\n",
       "      <td>Accessories</td>\n",
       "      <td>1010016</td>\n",
       "      <td>Solid</td>\n",
       "      <td>9</td>\n",
       "      <td>Black</td>\n",
       "      <td>...</td>\n",
       "      <td>Small Accessories</td>\n",
       "      <td>D</td>\n",
       "      <td>Divided</td>\n",
       "      <td>2</td>\n",
       "      <td>Divided</td>\n",
       "      <td>52</td>\n",
       "      <td>Divided Accessories</td>\n",
       "      <td>1019</td>\n",
       "      <td>Accessories</td>\n",
       "      <td>large plastic hair claw.</td>\n",
       "    </tr>\n",
       "    <tr>\n",
       "      <th>105541</th>\n",
       "      <td>959461001</td>\n",
       "      <td>959461</td>\n",
       "      <td>Lounge dress</td>\n",
       "      <td>265</td>\n",
       "      <td>Dress</td>\n",
       "      <td>Garment Full body</td>\n",
       "      <td>1010016</td>\n",
       "      <td>Solid</td>\n",
       "      <td>11</td>\n",
       "      <td>Off White</td>\n",
       "      <td>...</td>\n",
       "      <td>Jersey</td>\n",
       "      <td>A</td>\n",
       "      <td>Ladieswear</td>\n",
       "      <td>1</td>\n",
       "      <td>Ladieswear</td>\n",
       "      <td>18</td>\n",
       "      <td>Womens Trend</td>\n",
       "      <td>1005</td>\n",
       "      <td>Jersey Fancy</td>\n",
       "      <td>calf-length dress in ribbed jersey made from a...</td>\n",
       "    </tr>\n",
       "  </tbody>\n",
       "</table>\n",
       "<p>105126 rows × 25 columns</p>\n",
       "</div>"
      ],
      "text/plain": [
       "        article_id  product_code               prod_name  product_type_no  \\\n",
       "0        108775015        108775               Strap top              253   \n",
       "1        108775044        108775               Strap top              253   \n",
       "2        108775051        108775           Strap top (1)              253   \n",
       "3        110065001        110065       OP T-shirt (Idro)              306   \n",
       "4        110065002        110065       OP T-shirt (Idro)              306   \n",
       "...            ...           ...                     ...              ...   \n",
       "105537   953450001        953450  5pk regular Placement1              302   \n",
       "105538   953763001        953763       SPORT Malaga tank              253   \n",
       "105539   956217002        956217         Cartwheel dress              265   \n",
       "105540   957375001        957375        CLAIRE HAIR CLAW               72   \n",
       "105541   959461001        959461            Lounge dress              265   \n",
       "\n",
       "       product_type_name  product_group_name  graphical_appearance_no  \\\n",
       "0               Vest top  Garment Upper body                  1010016   \n",
       "1               Vest top  Garment Upper body                  1010016   \n",
       "2               Vest top  Garment Upper body                  1010017   \n",
       "3                    Bra           Underwear                  1010016   \n",
       "4                    Bra           Underwear                  1010016   \n",
       "...                  ...                 ...                      ...   \n",
       "105537             Socks      Socks & Tights                  1010014   \n",
       "105538          Vest top  Garment Upper body                  1010016   \n",
       "105539             Dress   Garment Full body                  1010016   \n",
       "105540         Hair clip         Accessories                  1010016   \n",
       "105541             Dress   Garment Full body                  1010016   \n",
       "\n",
       "       graphical_appearance_name  colour_group_code colour_group_name  ...  \\\n",
       "0                          Solid                  9             Black  ...   \n",
       "1                          Solid                 10             White  ...   \n",
       "2                         Stripe                 11         Off White  ...   \n",
       "3                          Solid                  9             Black  ...   \n",
       "4                          Solid                 10             White  ...   \n",
       "...                          ...                ...               ...  ...   \n",
       "105537           Placement print                  9             Black  ...   \n",
       "105538                     Solid                  9             Black  ...   \n",
       "105539                     Solid                  9             Black  ...   \n",
       "105540                     Solid                  9             Black  ...   \n",
       "105541                     Solid                 11         Off White  ...   \n",
       "\n",
       "          department_name index_code        index_name index_group_no  \\\n",
       "0            Jersey Basic          A        Ladieswear              1   \n",
       "1            Jersey Basic          A        Ladieswear              1   \n",
       "2            Jersey Basic          A        Ladieswear              1   \n",
       "3          Clean Lingerie          B  Lingeries/Tights              1   \n",
       "4          Clean Lingerie          B  Lingeries/Tights              1   \n",
       "...                   ...        ...               ...            ...   \n",
       "105537          Socks Bin          F          Menswear              3   \n",
       "105538             Jersey          A        Ladieswear              1   \n",
       "105539             Jersey          A        Ladieswear              1   \n",
       "105540  Small Accessories          D           Divided              2   \n",
       "105541             Jersey          A        Ladieswear              1   \n",
       "\n",
       "        index_group_name section_no            section_name garment_group_no  \\\n",
       "0             Ladieswear         16  Womens Everyday Basics             1002   \n",
       "1             Ladieswear         16  Womens Everyday Basics             1002   \n",
       "2             Ladieswear         16  Womens Everyday Basics             1002   \n",
       "3             Ladieswear         61         Womens Lingerie             1017   \n",
       "4             Ladieswear         61         Womens Lingerie             1017   \n",
       "...                  ...        ...                     ...              ...   \n",
       "105537          Menswear         26           Men Underwear             1021   \n",
       "105538        Ladieswear          2                    H&M+             1005   \n",
       "105539        Ladieswear         18            Womens Trend             1005   \n",
       "105540           Divided         52     Divided Accessories             1019   \n",
       "105541        Ladieswear         18            Womens Trend             1005   \n",
       "\n",
       "        garment_group_name                                        detail_desc  \n",
       "0             Jersey Basic            jersey top with narrow shoulder straps.  \n",
       "1             Jersey Basic            jersey top with narrow shoulder straps.  \n",
       "2             Jersey Basic            jersey top with narrow shoulder straps.  \n",
       "3        Under-, Nightwear  microfibre t-shirt bra with underwired, moulde...  \n",
       "4        Under-, Nightwear  microfibre t-shirt bra with underwired, moulde...  \n",
       "...                    ...                                                ...  \n",
       "105537    Socks and Tights  socks in a fine-knit cotton blend with a small...  \n",
       "105538        Jersey Fancy  loose-fitting sports vest top in ribbed fast-d...  \n",
       "105539        Jersey Fancy  short, a-line dress in jersey with a round nec...  \n",
       "105540         Accessories                           large plastic hair claw.  \n",
       "105541        Jersey Fancy  calf-length dress in ribbed jersey made from a...  \n",
       "\n",
       "[105126 rows x 25 columns]"
      ]
     },
     "execution_count": 9,
     "metadata": {},
     "output_type": "execute_result"
    }
   ],
   "source": [
    "articoli"
   ]
  },
  {
   "cell_type": "code",
   "execution_count": 12,
   "metadata": {
    "colab": {
     "base_uri": "https://localhost:8080/"
    },
    "executionInfo": {
     "elapsed": 614,
     "status": "ok",
     "timestamp": 1698661572554,
     "user": {
      "displayName": "Lucrezia Labardi",
      "userId": "04987227959803536314"
     },
     "user_tz": -60
    },
    "id": "45I8Gw8pLGtE",
    "outputId": "35d0c51d-be53-4188-dbff-08510950fe63"
   },
   "outputs": [
    {
     "name": "stdout",
     "output_type": "stream",
     "text": [
      "and: 160061\n",
      "a: 151693\n",
      "with: 150693\n",
      "the: 135045\n",
      "in: 105010\n",
      "at: 80687\n",
      "cotton: 33706\n",
      "an: 24557\n",
      "top: 24128\n",
      "soft: 24063\n",
      "jersey: 23023\n",
      "hem.: 22381\n",
      "front: 21169\n",
      "sleeves: 19997\n",
      "elasticated: 18343\n",
      "back: 17938\n",
      "fabric: 17532\n",
      "long: 17181\n",
      "zip: 15958\n",
      "back.: 15909\n",
      "waist: 15870\n",
      "pockets: 14882\n",
      "cuffs: 13819\n",
      "side: 13543\n",
      "weave: 13164\n",
      "ribbing: 13063\n",
      "short: 12828\n",
      "of: 12678\n",
      "down: 12580\n",
      "waist,: 12241\n"
     ]
    }
   ],
   "source": [
    "#finding the most common words\n",
    "\n",
    "from collections import Counter\n",
    "\n",
    "# join all sentences together\n",
    "all_desc = ' '.join(articoli[\"detail_desc\"])\n",
    "\n",
    "# tokenize\n",
    "desc_words = all_desc.split()\n",
    "\n",
    "# count freq of every token\n",
    "word_count = Counter(desc_words)\n",
    "\n",
    "# 20 most common token\n",
    "top_words = word_count.most_common(30)\n",
    "\n",
    "for word, count in top_words:\n",
    "    print(f\"{word}: {count}\")"
   ]
  },
  {
   "cell_type": "code",
   "execution_count": 13,
   "metadata": {
    "colab": {
     "base_uri": "https://localhost:8080/"
    },
    "executionInfo": {
     "elapsed": 970,
     "status": "ok",
     "timestamp": 1698661583054,
     "user": {
      "displayName": "Lucrezia Labardi",
      "userId": "04987227959803536314"
     },
     "user_tz": -60
    },
    "id": "7XE_yaG_tg15",
    "outputId": "871c8fcd-b79e-470d-aa18-f1ec5dc2ada2"
   },
   "outputs": [
    {
     "name": "stderr",
     "output_type": "stream",
     "text": [
      "[nltk_data] Downloading package averaged_perceptron_tagger to\n",
      "[nltk_data]     C:\\Users\\lucre\\AppData\\Roaming\\nltk_data...\n",
      "[nltk_data]   Package averaged_perceptron_tagger is already up-to-\n",
      "[nltk_data]       date!\n",
      "[nltk_data] Downloading package punkt to\n",
      "[nltk_data]     C:\\Users\\lucre\\AppData\\Roaming\\nltk_data...\n",
      "[nltk_data]   Package punkt is already up-to-date!\n"
     ]
    },
    {
     "data": {
      "text/plain": [
       "True"
      ]
     },
     "execution_count": 13,
     "metadata": {},
     "output_type": "execute_result"
    }
   ],
   "source": [
    "#download pos tagger and punkt\n",
    "nltk.download('averaged_perceptron_tagger')\n",
    "nltk.download('punkt')"
   ]
  },
  {
   "cell_type": "code",
   "execution_count": 14,
   "metadata": {
    "id": "D_DIkU4ItLwX"
   },
   "outputs": [],
   "source": [
    "#import tokenizer and pos tagger\n",
    "from nltk.tokenize import sent_tokenize, word_tokenize\n",
    "from nltk import pos_tag"
   ]
  },
  {
   "cell_type": "markdown",
   "metadata": {},
   "source": [
    "## Frequent pos"
   ]
  },
  {
   "cell_type": "code",
   "execution_count": 15,
   "metadata": {
    "colab": {
     "base_uri": "https://localhost:8080/"
    },
    "executionInfo": {
     "elapsed": 5,
     "status": "ok",
     "timestamp": 1698661586315,
     "user": {
      "displayName": "Lucrezia Labardi",
      "userId": "04987227959803536314"
     },
     "user_tz": -60
    },
    "id": "D3FaghBc74Fj",
    "outputId": "502c664d-3487-482b-97be-7b282c58df22"
   },
   "outputs": [
    {
     "name": "stderr",
     "output_type": "stream",
     "text": [
      "[nltk_data] Downloading package universal_tagset to\n",
      "[nltk_data]     C:\\Users\\lucre\\AppData\\Roaming\\nltk_data...\n",
      "[nltk_data]   Package universal_tagset is already up-to-date!\n"
     ]
    },
    {
     "data": {
      "text/plain": [
       "True"
      ]
     },
     "execution_count": 15,
     "metadata": {},
     "output_type": "execute_result"
    }
   ],
   "source": [
    "nltk.download('universal_tagset')"
   ]
  },
  {
   "cell_type": "code",
   "execution_count": 16,
   "metadata": {
    "colab": {
     "base_uri": "https://localhost:8080/"
    },
    "executionInfo": {
     "elapsed": 180584,
     "status": "ok",
     "timestamp": 1698661774118,
     "user": {
      "displayName": "Lucrezia Labardi",
      "userId": "04987227959803536314"
     },
     "user_tz": -60
    },
    "id": "PYodl_kF20uv",
    "outputId": "b24669a8-8def-49f5-fde2-194aefb6f463"
   },
   "outputs": [
    {
     "name": "stdout",
     "output_type": "stream",
     "text": [
      " 30 Most frequent nouns\n",
      "cotton: 34229 volte\n",
      "waist: 34074 volte\n",
      "front: 30375 volte\n",
      "sleeves: 27571 volte\n",
      "jersey: 27128 volte\n",
      "back: 25213 volte\n",
      "hem: 25032 volte\n",
      "pockets: 25014 volte\n",
      "cuffs: 23650 volte\n",
      "top: 18598 volte\n",
      "fabric: 17668 volte\n",
      "zip: 14058 volte\n",
      "neckline: 12569 volte\n",
      "button: 11790 volte\n",
      "collar: 11283 volte\n",
      "dress: 11124 volte\n",
      "shoulder: 10755 volte\n",
      "buttons: 10465 volte\n",
      "legs: 10403 volte\n",
      "fly: 9257 volte\n",
      "straps: 9255 volte\n",
      "weave: 9092 volte\n",
      "seam: 8722 volte\n",
      "blend: 8703 volte\n",
      "elastication: 8515 volte\n",
      "shoulders: 8492 volte\n",
      "cm: 8415 volte\n",
      "hems: 8226 volte\n",
      "pocket: 7784 volte\n",
      "sides: 7464 volte\n",
      "\n",
      " 30 Most frequent Adjectives\n",
      "soft: 35585 volte\n",
      "short: 17455 volte\n",
      "long: 16044 volte\n",
      "elasticated: 15034 volte\n",
      "wide: 12905 volte\n",
      "top: 12020 volte\n",
      "narrow: 11910 volte\n",
      "adjustable: 11676 volte\n",
      "side: 8806 volte\n",
      "long-sleeved: 6645 volte\n",
      "organic: 6619 volte\n",
      "ribbed: 6556 volte\n",
      "unlined: 6458 volte\n",
      "decorative: 6319 volte\n",
      "concealed: 6047 volte\n",
      "woven: 5696 volte\n",
      "front: 5679 volte\n",
      "high: 5346 volte\n",
      "small: 5050 volte\n",
      "washed: 4952 volte\n",
      "rounded: 4811 volte\n",
      "detachable: 4359 volte\n",
      "fine-knit: 3881 volte\n",
      "sewn-in: 3701 volte\n",
      "viscose: 3576 volte\n",
      "stand-up: 3538 volte\n",
      "functional: 3497 volte\n",
      "patterned: 3352 volte\n",
      "5-pocket: 3336 volte\n",
      "regular: 3286 volte\n"
     ]
    }
   ],
   "source": [
    "#30 most frequent nouns and adjectives with universal tagger\n",
    "\n",
    "words_with_noun = []\n",
    "words_with_adj = []\n",
    "for frase in articoli[\"detail_desc\"]:\n",
    "    tokens = word_tokenize(frase)\n",
    "    pos_tags = pos_tag(tokens, tagset='universal')\n",
    "\n",
    "    proper_nouns = [word for word, pos in pos_tags if pos == 'NOUN']\n",
    "    adjectives = [ad for ad, pos in pos_tags if pos == 'ADJ']\n",
    "\n",
    "    words_with_noun.extend(proper_nouns)\n",
    "    words_with_adj.extend(adjectives)\n",
    "\n",
    "# Find most frequent words\n",
    "word_counts = Counter(words_with_noun)\n",
    "most_common_nouns = word_counts.most_common(30)\n",
    "\n",
    "adj_counts = Counter(words_with_adj)\n",
    "most_common_adj = adj_counts.most_common(30)\n",
    "\n",
    "# Print most frwquent words\n",
    "print(\" 30 Most frequent nouns\")\n",
    "for word, count in most_common_nouns:\n",
    "    print(f\"{word}: {count} volte\")\n",
    "\n",
    "print()\n",
    "print(\" 30 Most frequent Adjectives\")\n",
    "for ad, count in most_common_adj:\n",
    "    print(f\"{ad}: {count} volte\")\n"
   ]
  },
  {
   "cell_type": "code",
   "execution_count": 17,
   "metadata": {
    "colab": {
     "base_uri": "https://localhost:8080/"
    },
    "executionInfo": {
     "elapsed": 174220,
     "status": "ok",
     "timestamp": 1698661948336,
     "user": {
      "displayName": "Lucrezia Labardi",
      "userId": "04987227959803536314"
     },
     "user_tz": -60
    },
    "id": "NJg0bNnC3ODb",
    "outputId": "caeb4434-3f34-4481-d657-7ab56175cac4"
   },
   "outputs": [
    {
     "name": "stdout",
     "output_type": "stream",
     "text": [
      " 30 Most frequent nouns\n",
      "cotton: 34229 volte\n",
      "waist: 34074 volte\n",
      "front: 30375 volte\n",
      "jersey: 26425 volte\n",
      "back: 25213 volte\n",
      "hem: 25004 volte\n",
      "top: 18598 volte\n",
      "fabric: 17668 volte\n",
      "zip: 14058 volte\n",
      "neckline: 12569 volte\n",
      "button: 11790 volte\n",
      "collar: 11283 volte\n",
      "dress: 11124 volte\n",
      "shoulder: 10755 volte\n",
      "fly: 9237 volte\n",
      "weave: 9090 volte\n",
      "seam: 8722 volte\n",
      "blend: 8703 volte\n",
      "elastication: 8515 volte\n",
      "cm: 8410 volte\n",
      "pocket: 7784 volte\n",
      "sweatshirt: 7411 volte\n",
      "v-neck: 6838 volte\n",
      "skirt: 6751 volte\n",
      "drawstring: 6689 volte\n",
      "side: 6616 volte\n",
      "imitation: 6208 volte\n",
      "neck: 5984 volte\n",
      "jacket: 5715 volte\n",
      "jumper: 5658 volte\n",
      "\n",
      " 30 Most frequent Adjectives\n",
      "soft: 35585 volte\n",
      "short: 17455 volte\n",
      "long: 16044 volte\n",
      "elasticated: 15034 volte\n",
      "wide: 12905 volte\n",
      "top: 12020 volte\n",
      "narrow: 11910 volte\n",
      "adjustable: 11676 volte\n",
      "side: 8802 volte\n",
      "long-sleeved: 6645 volte\n",
      "organic: 6619 volte\n",
      "ribbed: 6556 volte\n",
      "unlined: 6458 volte\n",
      "decorative: 6319 volte\n",
      "concealed: 6047 volte\n",
      "woven: 5696 volte\n",
      "front: 5679 volte\n",
      "high: 5346 volte\n",
      "small: 5050 volte\n",
      "washed: 4952 volte\n",
      "rounded: 4811 volte\n",
      "detachable: 4359 volte\n",
      "fine-knit: 3881 volte\n",
      "sewn-in: 3701 volte\n",
      "viscose: 3576 volte\n",
      "stand-up: 3538 volte\n",
      "functional: 3497 volte\n",
      "patterned: 3352 volte\n",
      "5-pocket: 3336 volte\n",
      "regular: 3286 volte\n"
     ]
    }
   ],
   "source": [
    "#30 most frequent nouns and adj without universal tagger\n",
    "\n",
    "words_with_noun = []\n",
    "words_with_adj = []\n",
    "for frase in articoli[\"detail_desc\"]:\n",
    "    tokens = word_tokenize(frase)\n",
    "    pos_tags = pos_tag(tokens)\n",
    "\n",
    "    proper_nouns = [word for word, pos in pos_tags if pos == 'NN']\n",
    "    adjectives = [ad for ad, pos in pos_tags if pos == 'JJ']\n",
    "\n",
    "    words_with_noun.extend(proper_nouns)\n",
    "    words_with_adj.extend(adjectives)\n",
    "\n",
    "# Find most frequent words\n",
    "word_counts = Counter(words_with_noun)\n",
    "most_common_nouns = word_counts.most_common(30)\n",
    "\n",
    "adj_counts = Counter(words_with_adj)\n",
    "most_common_adj = adj_counts.most_common(30)\n",
    "\n",
    "# Print most frequent words\n",
    "print(\" 30 Most frequent nouns\")\n",
    "for word, count in most_common_nouns:\n",
    "    print(f\"{word}: {count} volte\")\n",
    "\n",
    "print()\n",
    "print(\" 30 Most frequent Adjectives\")\n",
    "for ad, count in most_common_adj:\n",
    "    print(f\"{ad}: {count} volte\")"
   ]
  },
  {
   "cell_type": "code",
   "execution_count": 18,
   "metadata": {
    "id": "uDXgLK_lbEEE"
   },
   "outputs": [],
   "source": [
    "#remove stopwords from sentences\n",
    "articoli[\"detail_desc\"] = articoli[\"detail_desc\"].apply(lambda x: ' '.join([word for word in x.split() if word not in stop_words]))"
   ]
  },
  {
   "cell_type": "code",
   "execution_count": 19,
   "metadata": {
    "id": "ggTjoD07Nqu4"
   },
   "outputs": [],
   "source": [
    "import re\n",
    "# Remove non ascii characters\n",
    "articoli[\"detail_desc\"] = articoli[\"detail_desc\"].apply(lambda x: re.sub(r'[^\\x00-\\x7F]+', '', x))"
   ]
  },
  {
   "cell_type": "code",
   "execution_count": 20,
   "metadata": {
    "id": "UrxGdI9LN-PR"
   },
   "outputs": [],
   "source": [
    "import string\n",
    "\n",
    "def remove_punctuation(text):\n",
    "    # Use a regular expression to remove all punctuation characters\n",
    "    return re.sub(r'[^\\w\\s]', '', text)\n",
    "\n",
    "articoli[\"detail_desc\"] = articoli[\"detail_desc\"].apply(remove_punctuation)\n"
   ]
  },
  {
   "cell_type": "code",
   "execution_count": 21,
   "metadata": {
    "colab": {
     "base_uri": "https://localhost:8080/"
    },
    "executionInfo": {
     "elapsed": 254,
     "status": "ok",
     "timestamp": 1698661980296,
     "user": {
      "displayName": "Lucrezia Labardi",
      "userId": "04987227959803536314"
     },
     "user_tz": -60
    },
    "id": "9V-KiSprM6nY",
    "outputId": "b1913bc0-69f2-4bb5-ea5f-5ad84fde0796"
   },
   "outputs": [
    {
     "name": "stderr",
     "output_type": "stream",
     "text": [
      "[nltk_data] Downloading package wordnet to\n",
      "[nltk_data]     C:\\Users\\lucre\\AppData\\Roaming\\nltk_data...\n",
      "[nltk_data]   Package wordnet is already up-to-date!\n"
     ]
    }
   ],
   "source": [
    "#import lemmatizer\n",
    "nltk.download('wordnet')\n",
    "from nltk.stem import WordNetLemmatizer\n",
    "lemmatizer = WordNetLemmatizer()"
   ]
  },
  {
   "cell_type": "code",
   "execution_count": 22,
   "metadata": {
    "id": "_AUp2bPDbLVm"
   },
   "outputs": [],
   "source": [
    "#lemmatization\n",
    "articoli[\"detail_desc\"] = articoli[\"detail_desc\"].apply(lambda x: ' '.join([lemmatizer.lemmatize(word) for word in x.split()]))"
   ]
  },
  {
   "cell_type": "markdown",
   "metadata": {},
   "source": [
    "## Bigrams and Trigrams"
   ]
  },
  {
   "cell_type": "code",
   "execution_count": 23,
   "metadata": {
    "id": "tLeQPzc_LJIj"
   },
   "outputs": [],
   "source": [
    "from nltk.collocations import *\n",
    "#most frequent bigrams\n",
    "bigram_measures = nltk.collocations.BigramAssocMeasures()\n",
    "trigram_measures = nltk.collocations.TrigramAssocMeasures()"
   ]
  },
  {
   "cell_type": "code",
   "execution_count": 24,
   "metadata": {
    "id": "nEQqUZYIMZSw"
   },
   "outputs": [],
   "source": [
    "joined_sent = ' '.join(articoli[\"detail_desc\"])\n",
    "joined_tok = word_tokenize(joined_sent)"
   ]
  },
  {
   "cell_type": "code",
   "execution_count": 25,
   "metadata": {
    "colab": {
     "base_uri": "https://localhost:8080/"
    },
    "executionInfo": {
     "elapsed": 6,
     "status": "ok",
     "timestamp": 1698662004268,
     "user": {
      "displayName": "Lucrezia Labardi",
      "userId": "04987227959803536314"
     },
     "user_tz": -60
    },
    "id": "uKhD2QQAN7z1",
    "outputId": "2267e72d-d1ec-4170-ca9d-448f4c678a93"
   },
   "outputs": [
    {
     "data": {
      "text/plain": [
       "['jersey',\n",
       " 'top',\n",
       " 'narrow',\n",
       " 'shoulder',\n",
       " 'strap',\n",
       " 'jersey',\n",
       " 'top',\n",
       " 'narrow',\n",
       " 'shoulder',\n",
       " 'strap',\n",
       " 'jersey',\n",
       " 'top',\n",
       " 'narrow',\n",
       " 'shoulder',\n",
       " 'strap',\n",
       " 'microfibre',\n",
       " 'tshirt',\n",
       " 'bra',\n",
       " 'underwired',\n",
       " 'moulded']"
      ]
     },
     "execution_count": 25,
     "metadata": {},
     "output_type": "execute_result"
    }
   ],
   "source": [
    "joined_tok[:20]"
   ]
  },
  {
   "cell_type": "code",
   "execution_count": 26,
   "metadata": {
    "id": "iX3WFou-LM6e"
   },
   "outputs": [],
   "source": [
    "#find bigrams\n",
    "finder_bi = BigramCollocationFinder.from_words(joined_tok)\n",
    "common_big = finder_bi.nbest(bigram_measures.raw_freq, 1000)"
   ]
  },
  {
   "cell_type": "code",
   "execution_count": 27,
   "metadata": {
    "colab": {
     "base_uri": "https://localhost:8080/"
    },
    "executionInfo": {
     "elapsed": 198,
     "status": "ok",
     "timestamp": 1698662053306,
     "user": {
      "displayName": "Lucrezia Labardi",
      "userId": "04987227959803536314"
     },
     "user_tz": -60
    },
    "id": "hCvF0pN1dowX",
    "outputId": "e44c7b0e-4847-4772-c99c-4f3ad38fb4a2"
   },
   "outputs": [
    {
     "name": "stdout",
     "output_type": "stream",
     "text": [
      "('top', 'soft')\n",
      "('longsleeved', 'top')\n",
      "('vest', 'top')\n",
      "('top', 'sweatshirt')\n",
      "('top', 'short')\n",
      "('trim', 'top')\n",
      "('zip', 'top')\n",
      "('hem', 'top')\n",
      "('top', 'fastdrying')\n",
      "('top', 'long')\n",
      "('jersey', 'top')\n",
      "('top', 'narrow')\n",
      "('elasticated', 'top')\n",
      "('bikini', 'top')\n",
      "('fitted', 'top')\n",
      "('button', 'top')\n",
      "('top', 'ribbed')\n",
      "('shortsleeved', 'top')\n",
      "('sport', 'top')\n",
      "('top', 'lightweight')\n",
      "('top', 'cotton')\n",
      "('inside', 'top')\n",
      "('top', 'organic')\n",
      "('sleeveless', 'top')\n",
      "('flounce', 'top')\n",
      "('top', 'printed')\n",
      "('top', 'jersey')\n",
      "('top', 'airy')\n",
      "('elastication', 'top')\n",
      "('content', 'top')\n",
      "('pleat', 'top')\n",
      "('cut', 'top')\n",
      "('short', 'top')\n",
      "('top', 'pair')\n",
      "('vneck', 'top')\n",
      "('lined', 'top')\n",
      "('cropped', 'top')\n",
      "('top', 'concealed')\n",
      "('wrapover', 'top')\n",
      "('offtheshoulder', 'top')\n",
      "('top', 'wide')\n",
      "('top', 'sock')\n",
      "('top', 'fineknit')\n",
      "('top', 'elasticated')\n",
      "('top', 'sturdy')\n",
      "('top', 'lined')\n",
      "('opening', 'top')\n",
      "('tie', 'top')\n",
      "('pompom', 'top')\n"
     ]
    }
   ],
   "source": [
    "#filter the bigrams\n",
    "\n",
    "for bigram in common_big:\n",
    "  if bigram[0] == \"top\":\n",
    "    print(bigram)\n",
    "  if bigram[1] == \"top\":\n",
    "    print(bigram)"
   ]
  },
  {
   "cell_type": "code",
   "execution_count": 28,
   "metadata": {
    "id": "uV82w63IZwGT"
   },
   "outputs": [],
   "source": [
    "#find trigrams\n",
    "finder_tri = TrigramCollocationFinder.from_words(joined_tok)\n",
    "common_tri = finder_tri.nbest(trigram_measures.raw_freq, 1000)"
   ]
  },
  {
   "cell_type": "code",
   "execution_count": 29,
   "metadata": {
    "colab": {
     "base_uri": "https://localhost:8080/"
    },
    "executionInfo": {
     "elapsed": 6,
     "status": "ok",
     "timestamp": 1698662083316,
     "user": {
      "displayName": "Lucrezia Labardi",
      "userId": "04987227959803536314"
     },
     "user_tz": -60
    },
    "id": "tvY6LMvNenzD",
    "outputId": "c2ff2ece-daeb-492e-dea3-8103d26f050a"
   },
   "outputs": [
    {
     "name": "stdout",
     "output_type": "stream",
     "text": [
      "('longsleeved', 'top', 'soft')\n",
      "('top', 'sweatshirt', 'fabric')\n",
      "('top', 'soft', 'cotton')\n",
      "('top', 'soft', 'jersey')\n",
      "('top', 'soft', 'sweatshirt')\n",
      "('top', 'fastdrying', 'functional')\n",
      "('top', 'soft', 'organic')\n",
      "('top', 'long', 'sleeve')\n",
      "('sport', 'top', 'fastdrying')\n",
      "('vest', 'top', 'soft')\n",
      "('top', 'cotton', 'jersey')\n",
      "('top', 'soft', 'printed')\n",
      "('top', 'lightweight', 'sweatshirt')\n",
      "('longsleeved', 'top', 'sweatshirt')\n",
      "('top', 'organic', 'cotton')\n",
      "('top', 'narrow', 'shoulder')\n",
      "('top', 'ribbed', 'jersey')\n",
      "('top', 'narrow', 'adjustable')\n",
      "('top', 'printed', 'sweatshirt')\n",
      "('hem', 'top', 'soft')\n",
      "('elasticated', 'top', 'sock')\n",
      "('top', 'soft', 'viscose')\n",
      "('top', 'sock', 'soft')\n",
      "('fitted', 'top', 'soft')\n",
      "('inside', 'top', 'sweatshirt')\n",
      "('shortsleeved', 'top', 'soft')\n",
      "('vest', 'top', 'fastdrying')\n",
      "('top', 'soft', 'ribbed')\n",
      "('top', 'short', 'sleeve')\n",
      "('elasticated', 'top', 'fineknit')\n",
      "('content', 'top', 'organic')\n",
      "('top', 'dropped', 'shoulder')\n",
      "('hem', 'top', 'lightweight')\n",
      "('padded', 'top', 'edge')\n",
      "('top', 'print', 'motif')\n"
     ]
    }
   ],
   "source": [
    "#filter trigrams\n",
    "\n",
    "for trigram in common_tri:\n",
    "  if trigram[0] == \"top\":\n",
    "    print(trigram)\n",
    "  if trigram[1] == \"top\":\n",
    "    print(trigram)"
   ]
  },
  {
   "cell_type": "code",
   "execution_count": 30,
   "metadata": {
    "colab": {
     "base_uri": "https://localhost:8080/"
    },
    "executionInfo": {
     "elapsed": 484,
     "status": "ok",
     "timestamp": 1698662090033,
     "user": {
      "displayName": "Lucrezia Labardi",
      "userId": "04987227959803536314"
     },
     "user_tz": -60
    },
    "id": "33kM6TAzazbi",
    "outputId": "47fada2b-8b05-4798-adf5-0a5b746bbcc5"
   },
   "outputs": [
    {
     "data": {
      "text/plain": [
       "[]"
      ]
     },
     "execution_count": 30,
     "metadata": {},
     "output_type": "execute_result"
    }
   ],
   "source": [
    "finder_tri.apply_word_filter(lambda w: w not in ('top'))\n",
    "sorted(finder_tri.score_ngrams(trigram_measures.raw_freq))"
   ]
  },
  {
   "cell_type": "code",
   "execution_count": null,
   "metadata": {},
   "outputs": [],
   "source": []
  }
 ],
 "metadata": {
  "accelerator": "GPU",
  "colab": {
   "authorship_tag": "ABX9TyMkOkTkI7yV+txvyNIYnG/5",
   "gpuType": "T4",
   "provenance": [],
   "toc_visible": true
  },
  "kernelspec": {
   "display_name": "Python 3 (ipykernel)",
   "language": "python",
   "name": "python3"
  },
  "language_info": {
   "codemirror_mode": {
    "name": "ipython",
    "version": 3
   },
   "file_extension": ".py",
   "mimetype": "text/x-python",
   "name": "python",
   "nbconvert_exporter": "python",
   "pygments_lexer": "ipython3",
   "version": "3.11.5"
  }
 },
 "nbformat": 4,
 "nbformat_minor": 1
}
