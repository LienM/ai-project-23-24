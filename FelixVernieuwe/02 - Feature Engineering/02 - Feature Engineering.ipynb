{
 "cells": [
  {
   "cell_type": "markdown",
   "source": [
    "# Assignments by Felix Vernieuwe"
   ],
   "metadata": {
    "collapsed": false
   },
   "id": "bca392fac64a66fb"
  },
  {
   "cell_type": "markdown",
   "source": [
    "---\n",
    "---\n",
    "\n",
    "## Assignment 2: Feature Engineering\n",
    "---\n",
    "---"
   ],
   "metadata": {
    "collapsed": false
   },
   "id": "4235fa55271646ca"
  },
  {
   "cell_type": "code",
   "execution_count": 28,
   "outputs": [],
   "source": [
    "import pandas as pd\n",
    "import dask.dataframe as dd\n",
    "import numpy as np\n",
    "import seaborn as sns\n",
    "from tqdm.notebook import tqdm\n",
    "from lightgbm.sklearn import LGBMRanker\n",
    "\n",
    "from FelixVernieuwe.util import setup_seaborn\n",
    "\n",
    "setup_seaborn()"
   ],
   "metadata": {
    "collapsed": false,
    "ExecuteTime": {
     "end_time": "2023-10-10T00:10:26.897478300Z",
     "start_time": "2023-10-10T00:10:26.872930100Z"
    }
   },
   "id": "ec71117a84f81cf6"
  },
  {
   "cell_type": "code",
   "execution_count": 3,
   "outputs": [],
   "source": [
    "# Load in the datasets\n",
    "articles = pd.read_parquet(\"../../data/alt/articles.parquet\")\n",
    "customers = pd.read_parquet(\"../../data/alt/customers.parquet\")\n",
    "transactions = pd.read_parquet(\"../../data/alt/transactions_train.parquet\")"
   ],
   "metadata": {
    "collapsed": false,
    "ExecuteTime": {
     "end_time": "2023-10-10T00:04:02.140922100Z",
     "start_time": "2023-10-10T00:04:00.782420700Z"
    }
   },
   "id": "e84247bcbcfea69d"
  },
  {
   "cell_type": "code",
   "execution_count": 17,
   "outputs": [],
   "source": [
    "reference_week = transactions[\"week\"].max()\n",
    "\n",
    "used_features = [\n",
    "    'article_id', 'product_type_no', 'graphical_appearance_no', 'colour_group_code', 'perceived_colour_value_id',\n",
    "    'perceived_colour_master_id', 'department_no', 'index_code',\n",
    "    'index_group_no', 'section_no', 'garment_group_no', 'FN', 'Active',\n",
    "    'club_member_status', 'fashion_news_frequency', 'age', 'postal_code', 'bestseller_rank'\n",
    "]"
   ],
   "metadata": {
    "collapsed": false,
    "ExecuteTime": {
     "end_time": "2023-10-10T00:07:49.735716100Z",
     "start_time": "2023-10-10T00:07:49.689143100Z"
    }
   },
   "id": "1e1d79b1c44c14bc"
  },
  {
   "cell_type": "markdown",
   "source": [
    "---\n",
    "## Feature Engineering\n",
    "---"
   ],
   "metadata": {
    "collapsed": false
   },
   "id": "cd48ba491b539d96"
  },
  {
   "cell_type": "markdown",
   "source": [
    "### Product features"
   ],
   "metadata": {
    "collapsed": false
   },
   "id": "656b93b0e622de42"
  },
  {
   "cell_type": "markdown",
   "source": [
    "#### Bestseller Ranking"
   ],
   "metadata": {
    "collapsed": false
   },
   "id": "e5cc5cd4216c1683"
  },
  {
   "cell_type": "code",
   "execution_count": 5,
   "outputs": [
    {
     "name": "stderr",
     "output_type": "stream",
     "text": [
      "C:\\Users\\Felix\\PycharmProjects\\ai-project-23-24\\FelixVernieuwe\\02 - Feature Engineering\\bestseller_rank.py:55: SettingWithCopyWarning: \n",
      "A value is trying to be set on a copy of a slice from a DataFrame.\n",
      "Try using .loc[row_indexer,col_indexer] = value instead\n",
      "\n",
      "See the caveats in the documentation: https://pandas.pydata.org/pandas-docs/stable/user_guide/indexing.html#returning-a-view-versus-a-copy\n",
      "  transactions['bought'] = 1\n"
     ]
    }
   ],
   "source": [
    "# Add 'Bestseller' feature to the dataset\n",
    "from bestseller_rank import bestseller_ranking\n",
    "\n",
    "transactions, customers, articles = bestseller_ranking(transactions, customers, articles, reference_week)"
   ],
   "metadata": {
    "collapsed": false,
    "ExecuteTime": {
     "end_time": "2023-10-10T00:05:21.377618800Z",
     "start_time": "2023-10-10T00:04:02.157491400Z"
    }
   },
   "id": "2b8b223b7f065fb5"
  },
  {
   "cell_type": "code",
   "execution_count": 6,
   "outputs": [
    {
     "data": {
      "text/plain": "              t_dat           customer_id  article_id     price  \\\n259636   2020-07-15       272412481300040   778064028  0.008458   \n259637   2020-07-15       272412481300040   816592008  0.016932   \n259638   2020-07-15       272412481300040   621381021  0.033881   \n259639   2020-07-15       272412481300040   817477003  0.025407   \n259640   2020-07-15       272412481300040   899088002  0.025407   \n...             ...                   ...         ...       ...   \n18972161 2020-09-15  18446630855572834764   918292001  0.041424   \n18972162 2020-09-15  18446630855572834764   762846027  0.025104   \n18972163 2020-09-15  18446630855572834764   809238005  0.041656   \n18972164 2020-09-15  18446630855572834764   673677002  0.024925   \n18972165 2020-09-15  18446630855572834764   923758001  0.033478   \n\n          sales_channel_id  week  bought  bestseller_rank  \n259636                   1    95     1.0             12.0  \n259637                   1    95     1.0            999.0  \n259638                   1    95     1.0            999.0  \n259639                   1    95     1.0            999.0  \n259640                   1    95     1.0            999.0  \n...                    ...   ...     ...              ...  \n18972161                 2   104     0.0              8.0  \n18972162                 2   104     0.0              9.0  \n18972163                 2   104     0.0             10.0  \n18972164                 2   104     0.0             11.0  \n18972165                 2   104     0.0             12.0  \n\n[18712530 rows x 8 columns]",
      "text/html": "<div>\n<style scoped>\n    .dataframe tbody tr th:only-of-type {\n        vertical-align: middle;\n    }\n\n    .dataframe tbody tr th {\n        vertical-align: top;\n    }\n\n    .dataframe thead th {\n        text-align: right;\n    }\n</style>\n<table border=\"1\" class=\"dataframe\">\n  <thead>\n    <tr style=\"text-align: right;\">\n      <th></th>\n      <th>t_dat</th>\n      <th>customer_id</th>\n      <th>article_id</th>\n      <th>price</th>\n      <th>sales_channel_id</th>\n      <th>week</th>\n      <th>bought</th>\n      <th>bestseller_rank</th>\n    </tr>\n  </thead>\n  <tbody>\n    <tr>\n      <th>259636</th>\n      <td>2020-07-15</td>\n      <td>272412481300040</td>\n      <td>778064028</td>\n      <td>0.008458</td>\n      <td>1</td>\n      <td>95</td>\n      <td>1.0</td>\n      <td>12.0</td>\n    </tr>\n    <tr>\n      <th>259637</th>\n      <td>2020-07-15</td>\n      <td>272412481300040</td>\n      <td>816592008</td>\n      <td>0.016932</td>\n      <td>1</td>\n      <td>95</td>\n      <td>1.0</td>\n      <td>999.0</td>\n    </tr>\n    <tr>\n      <th>259638</th>\n      <td>2020-07-15</td>\n      <td>272412481300040</td>\n      <td>621381021</td>\n      <td>0.033881</td>\n      <td>1</td>\n      <td>95</td>\n      <td>1.0</td>\n      <td>999.0</td>\n    </tr>\n    <tr>\n      <th>259639</th>\n      <td>2020-07-15</td>\n      <td>272412481300040</td>\n      <td>817477003</td>\n      <td>0.025407</td>\n      <td>1</td>\n      <td>95</td>\n      <td>1.0</td>\n      <td>999.0</td>\n    </tr>\n    <tr>\n      <th>259640</th>\n      <td>2020-07-15</td>\n      <td>272412481300040</td>\n      <td>899088002</td>\n      <td>0.025407</td>\n      <td>1</td>\n      <td>95</td>\n      <td>1.0</td>\n      <td>999.0</td>\n    </tr>\n    <tr>\n      <th>...</th>\n      <td>...</td>\n      <td>...</td>\n      <td>...</td>\n      <td>...</td>\n      <td>...</td>\n      <td>...</td>\n      <td>...</td>\n      <td>...</td>\n    </tr>\n    <tr>\n      <th>18972161</th>\n      <td>2020-09-15</td>\n      <td>18446630855572834764</td>\n      <td>918292001</td>\n      <td>0.041424</td>\n      <td>2</td>\n      <td>104</td>\n      <td>0.0</td>\n      <td>8.0</td>\n    </tr>\n    <tr>\n      <th>18972162</th>\n      <td>2020-09-15</td>\n      <td>18446630855572834764</td>\n      <td>762846027</td>\n      <td>0.025104</td>\n      <td>2</td>\n      <td>104</td>\n      <td>0.0</td>\n      <td>9.0</td>\n    </tr>\n    <tr>\n      <th>18972163</th>\n      <td>2020-09-15</td>\n      <td>18446630855572834764</td>\n      <td>809238005</td>\n      <td>0.041656</td>\n      <td>2</td>\n      <td>104</td>\n      <td>0.0</td>\n      <td>10.0</td>\n    </tr>\n    <tr>\n      <th>18972164</th>\n      <td>2020-09-15</td>\n      <td>18446630855572834764</td>\n      <td>673677002</td>\n      <td>0.024925</td>\n      <td>2</td>\n      <td>104</td>\n      <td>0.0</td>\n      <td>11.0</td>\n    </tr>\n    <tr>\n      <th>18972165</th>\n      <td>2020-09-15</td>\n      <td>18446630855572834764</td>\n      <td>923758001</td>\n      <td>0.033478</td>\n      <td>2</td>\n      <td>104</td>\n      <td>0.0</td>\n      <td>12.0</td>\n    </tr>\n  </tbody>\n</table>\n<p>18712530 rows × 8 columns</p>\n</div>"
     },
     "execution_count": 6,
     "metadata": {},
     "output_type": "execute_result"
    }
   ],
   "source": [
    "transactions"
   ],
   "metadata": {
    "collapsed": false,
    "ExecuteTime": {
     "end_time": "2023-10-10T00:05:26.066746600Z",
     "start_time": "2023-10-10T00:05:25.987026Z"
    }
   },
   "id": "d454541c380c4e53"
  },
  {
   "cell_type": "markdown",
   "source": [
    "---\n",
    "## Training preparation\n",
    "---"
   ],
   "metadata": {
    "collapsed": false
   },
   "id": "35187d049789ff53"
  },
  {
   "cell_type": "code",
   "execution_count": 8,
   "outputs": [],
   "source": [
    "# Merge transactions data with article and customer information\n",
    "data = transactions.copy()\n",
    "data = data.merge(articles, on=\"article_id\", how=\"left\")\n",
    "data = data.merge(customers, on=\"customer_id\", how=\"left\")\n",
    "\n",
    "# Clean up incoming data\n",
    "data.drop_duplicates(['customer_id', 'article_id', 'week'], inplace=True)\n",
    "data.sort_values(['week', 'customer_id'], inplace=True)\n",
    "data.reset_index(drop=True, inplace=True)"
   ],
   "metadata": {
    "collapsed": false,
    "ExecuteTime": {
     "end_time": "2023-10-10T00:06:18.435777100Z",
     "start_time": "2023-10-10T00:06:01.536038Z"
    }
   },
   "id": "79785634d93093b"
  },
  {
   "cell_type": "code",
   "execution_count": 9,
   "outputs": [],
   "source": [
    "# Split up training and test datasets\n",
    "is_reference = data[\"week\"] == reference_week\n",
    "train = data[~is_reference]\n",
    "test = data[is_reference]\n",
    "\n",
    "# Ensure that each article appears only once per customer\n",
    "test = test.drop_duplicates([\"customer_id\", \"article_id\", \"sales_channel_id\"]).copy()\n",
    "\n",
    "# Gives amount of items purchased per customer per week (used for training the ranking)\n",
    "train_bins = train.groupby([\"week\", \"customer_id\"])[\"article_id\"].count().values"
   ],
   "metadata": {
    "collapsed": false,
    "ExecuteTime": {
     "end_time": "2023-10-10T00:06:24.776652600Z",
     "start_time": "2023-10-10T00:06:20.349955800Z"
    }
   },
   "id": "4f925020e7ea9ae6"
  },
  {
   "cell_type": "code",
   "execution_count": 18,
   "outputs": [],
   "source": [
    "# Train only on specified features \n",
    "\n",
    "train_X = train[used_features]\n",
    "train_y = train[\"bought\"]\n",
    "\n",
    "test_X = test[used_features]"
   ],
   "metadata": {
    "collapsed": false,
    "ExecuteTime": {
     "end_time": "2023-10-10T00:07:55.603481Z",
     "start_time": "2023-10-10T00:07:55.024100600Z"
    }
   },
   "id": "6137261f3e4611a1"
  },
  {
   "cell_type": "markdown",
   "source": [
    "---\n",
    "## Model Training\n",
    "---"
   ],
   "metadata": {
    "collapsed": false
   },
   "id": "d8e6d8dd92c1be34"
  },
  {
   "cell_type": "code",
   "execution_count": 19,
   "outputs": [
    {
     "name": "stdout",
     "output_type": "stream",
     "text": [
      "[LightGBM] [Debug] Dataset::GetMultiBinFromSparseFeatures: sparse rate 0.845633\n",
      "[LightGBM] [Debug] Dataset::GetMultiBinFromAllFeatures: sparse rate 0.151086\n",
      "[LightGBM] [Debug] init for col-wise cost 0.139103 seconds, init for row-wise cost 0.253365 seconds\n",
      "[LightGBM] [Warning] Auto-choosing row-wise multi-threading, the overhead of testing was 0.242211 seconds.\n",
      "You can set `force_row_wise=true` to remove the overhead.\n",
      "And if memory is not enough, you can set `force_col_wise=true`.\n",
      "[LightGBM] [Debug] Using Dense Multi-Val Bin\n",
      "[LightGBM] [Info] Total Bins 1079\n",
      "[LightGBM] [Info] Number of data points in the train set: 11678480, number of used features: 18\n",
      "[LightGBM] [Debug] Trained a tree with leaves = 31 and depth = 9\n"
     ]
    }
   ],
   "source": [
    "ranker = LGBMRanker(\n",
    "    objective=\"lambdarank\",\n",
    "    metric=\"ndcg\",\n",
    "    boosting_type=\"dart\",\n",
    "    n_estimators=1,\n",
    "    importance_type='gain',\n",
    "    verbose=10\n",
    ")\n",
    "\n",
    "ranker = ranker.fit(\n",
    "    train_X,\n",
    "    train_y,\n",
    "    group=train_bins,\n",
    ")"
   ],
   "metadata": {
    "collapsed": false,
    "ExecuteTime": {
     "end_time": "2023-10-10T00:08:01.109960100Z",
     "start_time": "2023-10-10T00:07:58.054626900Z"
    }
   },
   "id": "c30c3bf272db3e30"
  },
  {
   "cell_type": "code",
   "execution_count": 29,
   "outputs": [
    {
     "data": {
      "text/plain": "<AxesSubplot: xlabel='importance', ylabel='feature'>"
     },
     "execution_count": 29,
     "metadata": {},
     "output_type": "execute_result"
    },
    {
     "data": {
      "text/plain": "<Figure size 640x480 with 1 Axes>",
      "image/png": "[encoded data removed]"
     },
     "metadata": {},
     "output_type": "display_data"
    }
   ],
   "source": [
    "# Percentual importance of each feature\n",
    "feature_importance = pd.DataFrame(\n",
    "    {\n",
    "        \"feature\": used_features,\n",
    "        \"importance\": ranker.feature_importances_,\n",
    "    }\n",
    ").sort_values(\"importance\", ascending=False)\n",
    "\n",
    "feature_importance[\"importance\"] = feature_importance[\"importance\"] / feature_importance[\"importance\"].sum()\n",
    "\n",
    "sns.barplot(x=\"importance\", y=\"feature\", data=feature_importance)"
   ],
   "metadata": {
    "collapsed": false,
    "ExecuteTime": {
     "end_time": "2023-10-10T00:10:33.050399300Z",
     "start_time": "2023-10-10T00:10:32.815817500Z"
    }
   },
   "id": "759d4fcb39e58281"
  },
  {
   "cell_type": "markdown",
   "source": [
    "---\n",
    "## Predictions\n",
    "---"
   ],
   "metadata": {
    "collapsed": false
   },
   "id": "59fe7b39da1aa0e5"
  },
  {
   "cell_type": "code",
   "execution_count": null,
   "outputs": [],
   "source": [
    "# Predict on test set\n",
    "test_X[\"pred\"] = ranker.predict(test_X)\n",
    "\n",
    "# Per user, predict up to 12 articles\n",
    "predicted_articles = test_X.groupby(\"customer_id\").apply(\n",
    "    lambda x: x.sort_values(\"pred\", ascending=False).head(12)\n",
    ")[[\"article_id\"]].reset_index()"
   ],
   "metadata": {
    "collapsed": false
   },
   "id": "a3954f2d438317de"
  },
  {
   "cell_type": "markdown",
   "source": [
    "---\n",
    "## Submission\n",
    "---"
   ],
   "metadata": {
    "collapsed": false
   },
   "id": "4c75d38d2ec0abb4"
  },
  {
   "cell_type": "code",
   "execution_count": null,
   "outputs": [],
   "source": [
    "# Read in sample submission (customer_id, prediction)\n",
    "submission = pd.read_csv(\"../../submissions/sample_submission.csv\")\n",
    "\n",
    "# Replace predictions with predictions from model\n",
    "submission[\"prediction\"] = predicted_articles[\"article_id\"].apply(\n",
    "    lambda x: \" \".join([\"0\" + str(i) for i in x])\n",
    ")\n",
    "\n",
    "# Write submission to csv\n",
    "submission.to_csv(\"../../submissions/engineered_0_submission.csv\", index=False)"
   ],
   "metadata": {
    "collapsed": false
   },
   "id": "2607874da2835d02"
  }
 ],
 "metadata": {
  "kernelspec": {
   "display_name": "Python 3",
   "language": "python",
   "name": "python3"
  },
  "language_info": {
   "codemirror_mode": {
    "name": "ipython",
    "version": 2
   },
   "file_extension": ".py",
   "mimetype": "text/x-python",
   "name": "python",
   "nbconvert_exporter": "python",
   "pygments_lexer": "ipython2",
   "version": "2.7.6"
  }
 },
 "nbformat": 4,
 "nbformat_minor": 5
}
