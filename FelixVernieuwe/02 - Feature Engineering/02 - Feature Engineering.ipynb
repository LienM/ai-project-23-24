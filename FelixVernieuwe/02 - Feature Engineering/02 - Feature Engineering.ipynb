{
 "cells": [
  {
   "cell_type": "markdown",
   "id": "bca392fac64a66fb",
   "metadata": {},
   "source": [
    "# Assignments by Felix Vernieuwe"
   ]
  },
  {
   "cell_type": "markdown",
   "id": "4235fa55271646ca",
   "metadata": {},
   "source": [
    "---\n",
    "---\n",
    "\n",
    "## Assignment 2: Feature Engineering\n",
    "---\n",
    "---"
   ]
  },
  {
   "cell_type": "code",
   "execution_count": 10,
   "id": "ec71117a84f81cf6",
   "metadata": {
    "ExecuteTime": {
     "end_time": "2023-10-11T00:51:11.589574700Z",
     "start_time": "2023-10-11T00:51:11.374222800Z"
    }
   },
   "outputs": [],
   "source": [
    "import pandas as pd\n",
    "import dask.dataframe as dd\n",
    "import numpy as np\n",
    "import seaborn as sns\n",
    "from tqdm.notebook import tqdm\n",
    "from lightgbm.sklearn import LGBMRanker\n",
    "\n",
    "from FelixVernieuwe.util import setup_seaborn, hex_id_to_int\n",
    "\n",
    "setup_seaborn()"
   ]
  },
  {
   "cell_type": "code",
   "execution_count": 11,
   "id": "e84247bcbcfea69d",
   "metadata": {
    "ExecuteTime": {
     "end_time": "2023-10-11T00:51:12.750066900Z",
     "start_time": "2023-10-11T00:51:11.394264600Z"
    }
   },
   "outputs": [],
   "source": [
    "# Load in the datasets\n",
    "articles = pd.read_parquet(\"../../data/alt/articles.parquet\")\n",
    "customers = pd.read_parquet(\"../../data/alt/customers.parquet\")\n",
    "transactions = pd.read_parquet(\"../../data/alt/transactions_train.parquet\")"
   ]
  },
  {
   "cell_type": "code",
   "execution_count": 12,
   "id": "1e1d79b1c44c14bc",
   "metadata": {
    "ExecuteTime": {
     "end_time": "2023-10-11T00:51:12.766086300Z",
     "start_time": "2023-10-11T00:51:12.755066200Z"
    }
   },
   "outputs": [],
   "source": [
    "reference_week = transactions[\"week\"].max() + 1\n",
    "\n",
    "used_features = [\n",
    "    'article_id', 'product_type_no', 'graphical_appearance_no', 'colour_group_code', 'perceived_colour_value_id',\n",
    "    'perceived_colour_master_id', 'department_no', 'index_code',\n",
    "    'index_group_no', 'section_no', 'garment_group_no', 'FN', 'Active',\n",
    "    'club_member_status', 'fashion_news_frequency', 'age', 'postal_code', \n",
    "    \n",
    "    'has_promotion', 'bestseller_rank', 'all_time_rank', 'price_sensitivity'\n",
    "]"
   ]
  },
  {
   "cell_type": "markdown",
   "id": "cd48ba491b539d96",
   "metadata": {},
   "source": [
    "---\n",
    "## Feature Engineering\n",
    "---"
   ]
  },
  {
   "cell_type": "markdown",
   "id": "656b93b0e622de42",
   "metadata": {},
   "source": [
    "### Product features"
   ]
  },
  {
   "cell_type": "markdown",
   "id": "dd3b75713e61cd19",
   "metadata": {},
   "source": [
    "#### Bestsellers of last week"
   ]
  },
  {
   "cell_type": "code",
   "execution_count": 13,
   "id": "a7533f1122233b33",
   "metadata": {
    "ExecuteTime": {
     "end_time": "2023-10-11T00:51:12.829195200Z",
     "start_time": "2023-10-11T00:51:12.768093200Z"
    }
   },
   "outputs": [],
   "source": [
    "# Get the highest selling articles of the last week\n",
    "bestsellers = transactions[transactions[\"week\"] == reference_week - 1][\"article_id\"].value_counts().head(200).index.tolist()"
   ]
  },
  {
   "cell_type": "markdown",
   "id": "bf8cb9689508b272",
   "metadata": {},
   "source": [
    "#### Discounted products"
   ]
  },
  {
   "cell_type": "code",
   "execution_count": 14,
   "id": "4d8ffacef7cf6ed",
   "metadata": {
    "ExecuteTime": {
     "end_time": "2023-10-11T00:51:22.023665900Z",
     "start_time": "2023-10-11T00:51:12.836707500Z"
    }
   },
   "outputs": [],
   "source": [
    "# Adds 'has_promotion' feature to the dataset and gets all the promoted articles\n",
    "from features import *\n",
    "\n",
    "transactions, customers, articles, promoted_articles = discount_feature(transactions, customers, articles)"
   ]
  },
  {
   "cell_type": "code",
   "execution_count": 15,
   "id": "6070c9b9396b3ee",
   "metadata": {
    "ExecuteTime": {
     "end_time": "2023-10-11T00:51:23.389376Z",
     "start_time": "2023-10-11T00:51:22.024662300Z"
    }
   },
   "outputs": [
    {
     "data": {
      "image/png": "[encoded data removed]",
      "text/plain": [
       "<Figure size 640x480 with 1 Axes>"
      ]
     },
     "metadata": {},
     "output_type": "display_data"
    }
   ],
   "source": [
    "plot_random_product_sales(transactions, promoted_articles)"
   ]
  },
  {
   "cell_type": "markdown",
   "id": "e5cc5cd4216c1683",
   "metadata": {},
   "source": [
    "#### All time rank"
   ]
  },
  {
   "cell_type": "code",
   "execution_count": 16,
   "id": "2b8b223b7f065fb5",
   "metadata": {
    "ExecuteTime": {
     "end_time": "2023-10-11T00:51:24.418962200Z",
     "start_time": "2023-10-11T00:51:23.392376600Z"
    }
   },
   "outputs": [],
   "source": [
    "transactions, customers, articles = all_time_rank_feature(transactions, customers, articles)"
   ]
  },
  {
   "cell_type": "markdown",
   "id": "c14c68a6f8748b22",
   "metadata": {},
   "source": [
    "### Customer features"
   ]
  },
  {
   "cell_type": "markdown",
   "id": "1c2ca409868b10db",
   "metadata": {},
   "source": [
    "#### Price sensitivity"
   ]
  },
  {
   "cell_type": "code",
   "execution_count": 17,
   "id": "c8ad6ab3ea712c74",
   "metadata": {
    "ExecuteTime": {
     "end_time": "2023-10-11T00:51:30.056342200Z",
     "start_time": "2023-10-11T00:51:24.392412300Z"
    }
   },
   "outputs": [],
   "source": [
    "transactions, customers, articles = price_sensitivity_feature(transactions, customers, articles)"
   ]
  },
  {
   "cell_type": "markdown",
   "id": "6eec2063844b4353",
   "metadata": {},
   "source": [
    "### General features"
   ]
  },
  {
   "cell_type": "markdown",
   "id": "1e63cf978b188023",
   "metadata": {},
   "source": [
    "#### Bestseller Ranking"
   ]
  },
  {
   "cell_type": "code",
   "execution_count": 18,
   "id": "cc97c41d085ce4a9",
   "metadata": {
    "ExecuteTime": {
     "end_time": "2023-10-11T00:52:46.821399200Z",
     "start_time": "2023-10-11T00:51:30.059358100Z"
    }
   },
   "outputs": [
    {
     "name": "stderr",
     "output_type": "stream",
     "text": [
      "C:\\Users\\Felix\\PycharmProjects\\ai-project-23-24\\FelixVernieuwe\\02 - Feature Engineering\\bestseller_rank_feature.py:56: SettingWithCopyWarning: \n",
      "A value is trying to be set on a copy of a slice from a DataFrame.\n",
      "Try using .loc[row_indexer,col_indexer] = value instead\n",
      "\n",
      "See the caveats in the documentation: https://pandas.pydata.org/pandas-docs/stable/user_guide/indexing.html#returning-a-view-versus-a-copy\n",
      "  transactions['bought'] = 1\n"
     ]
    }
   ],
   "source": [
    "# Adds 'bestseller_rank' feature to the dataset\n",
    "transactions, customers, articles = bestseller_rank_feature(transactions, customers, articles, reference_week)"
   ]
  },
  {
   "cell_type": "markdown",
   "id": "35187d049789ff53",
   "metadata": {},
   "source": [
    "---\n",
    "## Training preparation\n",
    "---"
   ]
  },
  {
   "cell_type": "code",
   "execution_count": 19,
   "outputs": [],
   "source": [
    "# Merge transactions data with article and customer information\n",
    "data = transactions.copy()\n",
    "data = data.merge(articles, on=\"article_id\", how=\"left\")\n",
    "data = data.merge(customers, on=\"customer_id\", how=\"left\")\n",
    "\n",
    "# Clean up incoming data\n",
    "data.drop_duplicates(['customer_id', 'article_id', 'week'], inplace=True)\n",
    "data.sort_values(['week', 'customer_id'], inplace=True)\n",
    "data.reset_index(drop=True, inplace=True)\n",
    "\n",
    "if \"bought\" not in data:\n",
    "    data[\"bought\"] = 1"
   ],
   "metadata": {
    "collapsed": false
   },
   "id": "79785634d93093b"
  },
  {
   "cell_type": "code",
   "execution_count": 20,
   "id": "4f925020e7ea9ae6",
   "metadata": {
    "ExecuteTime": {
     "end_time": "2023-10-11T00:53:12.150023100Z",
     "start_time": "2023-10-11T00:53:07.652246800Z"
    }
   },
   "outputs": [],
   "source": [
    "# Split up training and test datasets\n",
    "is_reference = data[\"week\"] == reference_week\n",
    "train = data[~is_reference]\n",
    "test = data[is_reference]\n",
    "\n",
    "# Ensure that each article appears only once per customer\n",
    "test = test.drop_duplicates([\"customer_id\", \"article_id\", \"sales_channel_id\"]).copy()\n",
    "\n",
    "# Gives amount of items purchased per customer per week (used for training the ranking)\n",
    "train_bins = train.groupby([\"week\", \"customer_id\"])[\"article_id\"].count().values"
   ]
  },
  {
   "cell_type": "code",
   "execution_count": 21,
   "id": "6137261f3e4611a1",
   "metadata": {
    "ExecuteTime": {
     "end_time": "2023-10-11T00:53:12.729179Z",
     "start_time": "2023-10-11T00:53:12.151025600Z"
    }
   },
   "outputs": [],
   "source": [
    "# Train only on specified features \n",
    "available_features = [feature for feature in used_features if feature in train.columns]\n",
    "\n",
    "train_X = train[available_features]\n",
    "train_y = train[\"bought\"]\n",
    "\n",
    "test_X = test[available_features]"
   ]
  },
  {
   "cell_type": "markdown",
   "id": "d8e6d8dd92c1be34",
   "metadata": {},
   "source": [
    "---\n",
    "## Model Training\n",
    "---"
   ]
  },
  {
   "cell_type": "code",
   "execution_count": 22,
   "id": "c30c3bf272db3e30",
   "metadata": {
    "ExecuteTime": {
     "end_time": "2023-10-11T00:53:27.971173400Z",
     "start_time": "2023-10-11T00:53:12.730685Z"
    }
   },
   "outputs": [
    {
     "name": "stdout",
     "output_type": "stream",
     "text": [
      "[LightGBM] [Debug] Dataset::GetMultiBinFromSparseFeatures: sparse rate 0.804135\n",
      "[LightGBM] [Debug] Dataset::GetMultiBinFromAllFeatures: sparse rate 0.171531\n",
      "[LightGBM] [Debug] init for col-wise cost 0.183345 seconds, init for row-wise cost 0.274822 seconds\n",
      "[LightGBM] [Warning] Auto-choosing row-wise multi-threading, the overhead of testing was 0.277386 seconds.\n",
      "You can set `force_row_wise=true` to remove the overhead.\n",
      "And if memory is not enough, you can set `force_col_wise=true`.\n",
      "[LightGBM] [Debug] Using Dense Multi-Val Bin\n",
      "[LightGBM] [Info] Total Bins 1343\n",
      "[LightGBM] [Info] Number of data points in the train set: 11381612, number of used features: 21\n",
      "[LightGBM] [Debug] Trained a tree with leaves = 31 and depth = 12\n"
     ]
    }
   ],
   "source": [
    "ranker = LGBMRanker(\n",
    "    objective=\"lambdarank\",\n",
    "    metric=\"ndcg\",\n",
    "    boosting_type=\"dart\",\n",
    "    n_estimators=1,\n",
    "    importance_type='gain',\n",
    "    verbose=10\n",
    ")\n",
    "\n",
    "ranker = ranker.fit(\n",
    "    train_X,\n",
    "    train_y,\n",
    "    group=train_bins,\n",
    ")"
   ]
  },
  {
   "cell_type": "code",
   "execution_count": 42,
   "id": "759d4fcb39e58281",
   "metadata": {
    "ExecuteTime": {
     "end_time": "2023-10-11T00:58:31.649417600Z",
     "start_time": "2023-10-11T00:58:31.281667200Z"
    }
   },
   "outputs": [
    {
     "name": "stderr",
     "output_type": "stream",
     "text": [
      "C:\\Users\\Felix\\AppData\\Local\\Temp\\ipykernel_8704\\282366598.py:19: UserWarning: FixedFormatter should only be used together with FixedLocator\n",
      "  plot.set_xticklabels([\"{:.1f}%\".format(x) for x in plot.get_xticks()])\n"
     ]
    },
    {
     "data": {
      "text/plain": [
       "[Text(0.001, 0, '0.0%'),\n",
       " Text(0.01, 0, '0.0%'),\n",
       " Text(0.1, 0, '0.1%'),\n",
       " Text(1.0, 0, '1.0%'),\n",
       " Text(10.0, 0, '10.0%'),\n",
       " Text(100.0, 0, '100.0%'),\n",
       " Text(1000.0, 0, '1000.0%'),\n",
       " Text(10000.0, 0, '10000.0%')]"
      ]
     },
     "execution_count": 42,
     "metadata": {},
     "output_type": "execute_result"
    },
    {
     "data": {
      "image/png": "[encoded data removed]",
      "text/plain": [
       "<Figure size 640x480 with 1 Axes>"
      ]
     },
     "metadata": {},
     "output_type": "display_data"
    }
   ],
   "source": [
    "# Percentual importance of each feature\n",
    "feature_importance = pd.DataFrame(\n",
    "    {\n",
    "        \"feature\": available_features,\n",
    "        \"importance\": ranker.feature_importances_,\n",
    "    }\n",
    ").sort_values(\"importance\", ascending=False)\n",
    "\n",
    "feature_importance[\"importance\"] = feature_importance[\"importance\"] / feature_importance[\"importance\"].sum() * 100\n",
    "feature_importance[\"feature\"] = feature_importance[\"feature\"].map(lambda x: x.replace(\"_\", \" \").title())\n",
    "\n",
    "feature_importance = feature_importance[feature_importance[\"importance\"] > 0]\n",
    "\n",
    "plot = sns.barplot(x=\"importance\", y=\"feature\", data=feature_importance)\n",
    "plot.set_xlabel(\"Importance\")\n",
    "plot.set_ylabel(\"Feature\")\n",
    "\n",
    "plot.set_xscale(\"log\")\n",
    "plot.set_xticklabels([\"{:.1f}%\".format(x) for x in plot.get_xticks()])"
   ]
  },
  {
   "cell_type": "code",
   "execution_count": 40,
   "id": "a7db50ba8bace654",
   "metadata": {
    "ExecuteTime": {
     "end_time": "2023-10-11T00:58:03.485584200Z",
     "start_time": "2023-10-11T00:58:03.466806Z"
    }
   },
   "outputs": [
    {
     "data": {
      "text/html": [
       "<div>\n",
       "<style scoped>\n",
       "    .dataframe tbody tr th:only-of-type {\n",
       "        vertical-align: middle;\n",
       "    }\n",
       "\n",
       "    .dataframe tbody tr th {\n",
       "        vertical-align: top;\n",
       "    }\n",
       "\n",
       "    .dataframe thead th {\n",
       "        text-align: right;\n",
       "    }\n",
       "</style>\n",
       "<table border=\"1\" class=\"dataframe\">\n",
       "  <thead>\n",
       "    <tr style=\"text-align: right;\">\n",
       "      <th></th>\n",
       "      <th>feature</th>\n",
       "      <th>importance</th>\n",
       "    </tr>\n",
       "  </thead>\n",
       "  <tbody>\n",
       "    <tr>\n",
       "      <th>18</th>\n",
       "      <td>Bestseller Rank</td>\n",
       "      <td>97.875903</td>\n",
       "    </tr>\n",
       "    <tr>\n",
       "      <th>19</th>\n",
       "      <td>All Time Rank</td>\n",
       "      <td>0.867665</td>\n",
       "    </tr>\n",
       "    <tr>\n",
       "      <th>0</th>\n",
       "      <td>Article Id</td>\n",
       "      <td>0.522510</td>\n",
       "    </tr>\n",
       "    <tr>\n",
       "      <th>20</th>\n",
       "      <td>Price Sensitivity</td>\n",
       "      <td>0.220383</td>\n",
       "    </tr>\n",
       "    <tr>\n",
       "      <th>6</th>\n",
       "      <td>Department No</td>\n",
       "      <td>0.174640</td>\n",
       "    </tr>\n",
       "    <tr>\n",
       "      <th>9</th>\n",
       "      <td>Section No</td>\n",
       "      <td>0.114107</td>\n",
       "    </tr>\n",
       "    <tr>\n",
       "      <th>2</th>\n",
       "      <td>Graphical Appearance No</td>\n",
       "      <td>0.113247</td>\n",
       "    </tr>\n",
       "    <tr>\n",
       "      <th>5</th>\n",
       "      <td>Perceived Colour Master Id</td>\n",
       "      <td>0.087463</td>\n",
       "    </tr>\n",
       "    <tr>\n",
       "      <th>1</th>\n",
       "      <td>Product Type No</td>\n",
       "      <td>0.024081</td>\n",
       "    </tr>\n",
       "    <tr>\n",
       "      <th>4</th>\n",
       "      <td>Perceived Colour Value Id</td>\n",
       "      <td>0.000000</td>\n",
       "    </tr>\n",
       "    <tr>\n",
       "      <th>15</th>\n",
       "      <td>Age</td>\n",
       "      <td>0.000000</td>\n",
       "    </tr>\n",
       "    <tr>\n",
       "      <th>3</th>\n",
       "      <td>Colour Group Code</td>\n",
       "      <td>0.000000</td>\n",
       "    </tr>\n",
       "    <tr>\n",
       "      <th>17</th>\n",
       "      <td>Has Promotion</td>\n",
       "      <td>0.000000</td>\n",
       "    </tr>\n",
       "    <tr>\n",
       "      <th>16</th>\n",
       "      <td>Postal Code</td>\n",
       "      <td>0.000000</td>\n",
       "    </tr>\n",
       "    <tr>\n",
       "      <th>12</th>\n",
       "      <td>Active</td>\n",
       "      <td>0.000000</td>\n",
       "    </tr>\n",
       "    <tr>\n",
       "      <th>14</th>\n",
       "      <td>Fashion News Frequency</td>\n",
       "      <td>0.000000</td>\n",
       "    </tr>\n",
       "    <tr>\n",
       "      <th>13</th>\n",
       "      <td>Club Member Status</td>\n",
       "      <td>0.000000</td>\n",
       "    </tr>\n",
       "    <tr>\n",
       "      <th>11</th>\n",
       "      <td>Fn</td>\n",
       "      <td>0.000000</td>\n",
       "    </tr>\n",
       "    <tr>\n",
       "      <th>8</th>\n",
       "      <td>Index Group No</td>\n",
       "      <td>0.000000</td>\n",
       "    </tr>\n",
       "    <tr>\n",
       "      <th>7</th>\n",
       "      <td>Index Code</td>\n",
       "      <td>0.000000</td>\n",
       "    </tr>\n",
       "    <tr>\n",
       "      <th>10</th>\n",
       "      <td>Garment Group No</td>\n",
       "      <td>0.000000</td>\n",
       "    </tr>\n",
       "  </tbody>\n",
       "</table>\n",
       "</div>"
      ],
      "text/plain": [
       "                       feature  importance\n",
       "18             Bestseller Rank   97.875903\n",
       "19               All Time Rank    0.867665\n",
       "0                   Article Id    0.522510\n",
       "20           Price Sensitivity    0.220383\n",
       "6                Department No    0.174640\n",
       "9                   Section No    0.114107\n",
       "2      Graphical Appearance No    0.113247\n",
       "5   Perceived Colour Master Id    0.087463\n",
       "1              Product Type No    0.024081\n",
       "4    Perceived Colour Value Id    0.000000\n",
       "15                         Age    0.000000\n",
       "3            Colour Group Code    0.000000\n",
       "17               Has Promotion    0.000000\n",
       "16                 Postal Code    0.000000\n",
       "12                      Active    0.000000\n",
       "14      Fashion News Frequency    0.000000\n",
       "13          Club Member Status    0.000000\n",
       "11                          Fn    0.000000\n",
       "8               Index Group No    0.000000\n",
       "7                   Index Code    0.000000\n",
       "10            Garment Group No    0.000000"
      ]
     },
     "execution_count": 40,
     "metadata": {},
     "output_type": "execute_result"
    }
   ],
   "source": [
    "feature_importance"
   ]
  },
  {
   "cell_type": "markdown",
   "id": "59fe7b39da1aa0e5",
   "metadata": {},
   "source": [
    "---\n",
    "## Predictions\n",
    "---"
   ]
  },
  {
   "cell_type": "code",
   "execution_count": 24,
   "id": "a3954f2d438317de",
   "metadata": {
    "ExecuteTime": {
     "end_time": "2023-10-11T00:53:44.420985200Z",
     "start_time": "2023-10-11T00:53:28.282118100Z"
    }
   },
   "outputs": [],
   "source": [
    "# Predict on test set\n",
    "test[\"pred\"] = ranker.predict(test_X)\n",
    "\n",
    "# Per user, predict up to 12 articles\n",
    "predicted_articles = test \\\n",
    "    .sort_values([\"customer_id\", \"pred\"], ascending=False) \\\n",
    "    .groupby(\"customer_id\")[\"article_id\"].apply(list).to_dict()"
   ]
  },
  {
   "cell_type": "code",
   "execution_count": 25,
   "id": "db5693af3de90f3e",
   "metadata": {
    "ExecuteTime": {
     "end_time": "2023-10-11T00:53:44.452374900Z",
     "start_time": "2023-10-11T00:53:44.422986100Z"
    }
   },
   "outputs": [],
   "source": [
    "interesting_products = []\n",
    "if promoted_articles is not None:\n",
    "    current_promos = promoted_articles[promoted_articles[\"week\"] == reference_week - 1]\n",
    "    bestsellers_df = pd.DataFrame({\"article_id\": bestsellers})\n",
    "    interesting_products = bestsellers_df.merge(current_promos, on=\"article_id\", how=\"inner\")\n",
    "    interesting_products = interesting_products[interesting_products[\"has_promotion\"] == True][\"article_id\"].tolist()\n",
    "bestsellers = bestsellers[:20]"
   ]
  },
  {
   "cell_type": "code",
   "execution_count": 26,
   "id": "7843837dfde8472d",
   "metadata": {
    "ExecuteTime": {
     "end_time": "2023-10-11T00:53:44.468919500Z",
     "start_time": "2023-10-11T00:53:44.454374700Z"
    }
   },
   "outputs": [],
   "source": [
    "# Fill up the list of customers with the top sellers randomly\n",
    "# TODO: figure out a separate classifier for determining best seller?\n",
    "\n",
    "def determine_predictions(customer_id):\n",
    "    articles = predicted_articles.get(customer_id, [])\n",
    "    if len(articles) < 12:\n",
    "        articles = articles + interesting_products\n",
    "        if len(articles) < 12:\n",
    "            # articles = articles + np.random.choice(bestsellers, 12 - len(articles), replace=False).tolist()\n",
    "            articles = articles + bestsellers\n",
    "    articles = articles[:12]\n",
    "    return \" \".join([\"0\" + str(article) for article in articles])"
   ]
  },
  {
   "cell_type": "markdown",
   "id": "4c75d38d2ec0abb4",
   "metadata": {},
   "source": [
    "---\n",
    "## Submission\n",
    "---"
   ]
  },
  {
   "cell_type": "code",
   "execution_count": 27,
   "id": "2607874da2835d02",
   "metadata": {
    "ExecuteTime": {
     "end_time": "2023-10-11T00:53:51.401670400Z",
     "start_time": "2023-10-11T00:53:44.469920900Z"
    }
   },
   "outputs": [],
   "source": [
    "# Read in sample submission (customer_id, prediction)\n",
    "submission = pd.read_csv(\"../../data/submissions/sample_submission.csv\")\n",
    "\n",
    "# Replace predictions with predictions from model (get via dict\n",
    "submission[\"prediction\"] = submission[\"customer_id\"].map(lambda x: determine_predictions(hex_id_to_int(x)))"
   ]
  },
  {
   "cell_type": "code",
   "execution_count": 28,
   "id": "7bff9652723f8704",
   "metadata": {
    "ExecuteTime": {
     "end_time": "2023-10-11T00:54:04.715012800Z",
     "start_time": "2023-10-11T00:53:51.403673900Z"
    }
   },
   "outputs": [],
   "source": [
    "# Write submission to zipped csv\n",
    "filename = \"engineered_0_submission\"\n",
    "\n",
    "submission.to_csv(f\"../../data/submissions/{filename}.csv.gz\", index=False)"
   ]
  }
 ],
 "metadata": {
  "kernelspec": {
   "display_name": "Python 3 (ipykernel)",
   "language": "python",
   "name": "python3"
  },
  "language_info": {
   "codemirror_mode": {
    "name": "ipython",
    "version": 3
   },
   "file_extension": ".py",
   "mimetype": "text/x-python",
   "name": "python",
   "nbconvert_exporter": "python",
   "pygments_lexer": "ipython3",
   "version": "3.9.12"
  }
 },
 "nbformat": 4,
 "nbformat_minor": 5
}
