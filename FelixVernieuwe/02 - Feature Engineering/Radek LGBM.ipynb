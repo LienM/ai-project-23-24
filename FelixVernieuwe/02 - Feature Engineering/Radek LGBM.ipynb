{
 "cells": [
  {
   "cell_type": "code",
   "execution_count": 172,
   "id": "4a7e7212",
   "metadata": {
    "execution": {
     "iopub.execute_input": "2022-04-16T16:58:42.399719Z",
     "iopub.status.busy": "2022-04-16T16:58:42.398628Z",
     "iopub.status.idle": "2022-04-16T16:58:42.426150Z",
     "shell.execute_reply": "2022-04-16T16:58:42.424648Z"
    },
    "papermill": {
     "duration": 0.085968,
     "end_time": "2022-04-16T16:58:42.429535",
     "exception": false,
     "start_time": "2022-04-16T16:58:42.343567",
     "status": "completed"
    },
    "tags": [],
    "ExecuteTime": {
     "end_time": "2023-10-10T21:52:18.018452300Z",
     "start_time": "2023-10-10T21:52:17.754895Z"
    }
   },
   "outputs": [],
   "source": [
    "import numpy as np\n",
    "\n",
    "def apk(actual, predicted, k=10):\n",
    "    \"\"\"\n",
    "    Computes the average precision at k.\n",
    "\n",
    "    This function computes the average prescision at k between two lists of\n",
    "    items.\n",
    "\n",
    "    Parameters\n",
    "    ----------\n",
    "    actual : list\n",
    "             A list of elements that are to be predicted (order doesn't matter)\n",
    "    predicted : list\n",
    "                A list of predicted elements (order does matter)\n",
    "    k : int, optional\n",
    "        The maximum number of predicted elements\n",
    "\n",
    "    Returns\n",
    "    -------\n",
    "    score : double\n",
    "            The average precision at k over the input lists\n",
    "\n",
    "    \"\"\"\n",
    "    if len(predicted)>k:\n",
    "        predicted = predicted[:k]\n",
    "\n",
    "    score = 0.0\n",
    "    num_hits = 0.0\n",
    "\n",
    "    for i,p in enumerate(predicted):\n",
    "        if p in actual and p not in predicted[:i]:\n",
    "            num_hits += 1.0\n",
    "            score += num_hits / (i+1.0)\n",
    "\n",
    "    if not actual:\n",
    "        return 0.0\n",
    "\n",
    "    return score / min(len(actual), k)\n",
    "\n",
    "def mapk(actual, predicted, k=10):\n",
    "    \"\"\"\n",
    "    Computes the mean average precision at k.\n",
    "\n",
    "    This function computes the mean average prescision at k between two lists\n",
    "    of lists of items.\n",
    "\n",
    "    Parameters\n",
    "    ----------\n",
    "    actual : list\n",
    "             A list of lists of elements that are to be predicted \n",
    "             (order doesn't matter in the lists)\n",
    "    predicted : list\n",
    "                A list of lists of predicted elements\n",
    "                (order matters in the lists)\n",
    "    k : int, optional\n",
    "        The maximum number of predicted elements\n",
    "\n",
    "    Returns\n",
    "    -------\n",
    "    score : double\n",
    "            The mean average precision at k over the input lists\n",
    "\n",
    "    \"\"\"\n",
    "    return np.mean([apk(a,p,k) for a,p in zip(actual, predicted)])"
   ]
  },
  {
   "cell_type": "code",
   "execution_count": 173,
   "id": "85ef6566",
   "metadata": {
    "execution": {
     "iopub.execute_input": "2022-04-16T16:58:42.530042Z",
     "iopub.status.busy": "2022-04-16T16:58:42.529039Z",
     "iopub.status.idle": "2022-04-16T16:58:43.826306Z",
     "shell.execute_reply": "2022-04-16T16:58:43.824669Z"
    },
    "papermill": {
     "duration": 1.348449,
     "end_time": "2022-04-16T16:58:43.828990",
     "exception": false,
     "start_time": "2022-04-16T16:58:42.480541",
     "status": "completed"
    },
    "tags": [],
    "ExecuteTime": {
     "end_time": "2023-10-10T21:52:18.752122500Z",
     "start_time": "2023-10-10T21:52:17.770899400Z"
    }
   },
   "outputs": [],
   "source": [
    "from sklearn.base import BaseEstimator, TransformerMixin\n",
    "import numpy as np\n",
    "\n",
    "# https://www.kaggle.com/c/h-and-m-personalized-fashion-recommendations/discussion/308635\n",
    "def customer_hex_id_to_int(series):\n",
    "    return series.str[-16:].apply(hex_id_to_int)\n",
    "\n",
    "def hex_id_to_int(str):\n",
    "    return int(str[-16:], 16)\n",
    "\n",
    "def article_id_str_to_int(series):\n",
    "    return series.astype('int32')\n",
    "\n",
    "def article_id_int_to_str(series):\n",
    "    return '0' + series.astype('str')\n",
    "\n",
    "class Categorize(BaseEstimator, TransformerMixin):\n",
    "    def __init__(self, min_examples=0):\n",
    "        self.min_examples = min_examples\n",
    "        self.categories = []\n",
    "        \n",
    "    def fit(self, X):\n",
    "        for i in range(X.shape[1]):\n",
    "            vc = X.iloc[:, i].value_counts()\n",
    "            self.categories.append(vc[vc > self.min_examples].index.tolist())\n",
    "        return self\n",
    "\n",
    "    def transform(self, X):\n",
    "        data = {X.columns[i]: pd.Categorical(X.iloc[:, i], categories=self.categories[i]).codes for i in range(X.shape[1])}\n",
    "        return pd.DataFrame(data=data)\n",
    "\n",
    "\n",
    "def calculate_apk(list_of_preds, list_of_gts):\n",
    "    # for fast validation this can be changed to operate on dicts of {'cust_id_int': [art_id_int, ...]}\n",
    "    # using 'data/val_week_purchases_by_cust.pkl'\n",
    "    apks = []\n",
    "    for preds, gt in zip(list_of_preds, list_of_gts):\n",
    "        apks.append(apk(gt, preds, k=12))\n",
    "    return np.mean(apks)\n",
    "\n",
    "def eval_sub(sub_csv, skip_cust_with_no_purchases=True):\n",
    "    sub=pd.read_csv(sub_csv)\n",
    "    validation_set=pd.read_parquet('data/validation_ground_truth.parquet')\n",
    "\n",
    "    apks = []\n",
    "\n",
    "    no_purchases_pattern = []\n",
    "    for pred, gt in zip(sub.prediction.str.split(), validation_set.prediction.str.split()):\n",
    "        if skip_cust_with_no_purchases and (gt == no_purchases_pattern): continue\n",
    "        apks.append(apk(gt, pred, k=12))\n",
    "    return np.mean(apks)"
   ]
  },
  {
   "cell_type": "code",
   "execution_count": 174,
   "id": "78c7a34c",
   "metadata": {
    "execution": {
     "iopub.execute_input": "2022-04-16T16:58:43.930529Z",
     "iopub.status.busy": "2022-04-16T16:58:43.930253Z",
     "iopub.status.idle": "2022-04-16T16:58:43.934588Z",
     "shell.execute_reply": "2022-04-16T16:58:43.933741Z"
    },
    "papermill": {
     "duration": 0.056085,
     "end_time": "2022-04-16T16:58:43.936514",
     "exception": false,
     "start_time": "2022-04-16T16:58:43.880429",
     "status": "completed"
    },
    "tags": [],
    "ExecuteTime": {
     "end_time": "2023-10-10T21:52:19.175591100Z",
     "start_time": "2023-10-10T21:52:17.780415200Z"
    }
   },
   "outputs": [],
   "source": [
    "import pandas as pd"
   ]
  },
  {
   "cell_type": "code",
   "execution_count": 233,
   "id": "af847e1a",
   "metadata": {
    "execution": {
     "iopub.execute_input": "2022-04-16T16:58:44.085405Z",
     "iopub.status.busy": "2022-04-16T16:58:44.084601Z",
     "iopub.status.idle": "2022-04-16T16:58:53.285552Z",
     "shell.execute_reply": "2022-04-16T16:58:53.284023Z"
    },
    "papermill": {
     "duration": 9.279307,
     "end_time": "2022-04-16T16:58:53.289550",
     "exception": false,
     "start_time": "2022-04-16T16:58:44.010243",
     "status": "completed"
    },
    "tags": [],
    "ExecuteTime": {
     "end_time": "2023-10-10T22:16:41.246033100Z",
     "start_time": "2023-10-10T22:16:40.158898100Z"
    }
   },
   "outputs": [
    {
     "name": "stdout",
     "output_type": "stream",
     "text": [
      "CPU times: total: 1.67 s\n",
      "Wall time: 1.08 s\n"
     ]
    }
   ],
   "source": [
    "%%time\n",
    "\n",
    "transactions = pd.read_parquet('../../data/alt/transactions_train.parquet')\n",
    "customers = pd.read_parquet('../../data/alt/customers.parquet')\n",
    "articles = pd.read_parquet('../../data/alt/articles.parquet')\n",
    "\n",
    "# sample = 0.05\n",
    "# transactions = pd.read_parquet(f'data/transactions_train_sample_{sample}.parquet')\n",
    "# customers = pd.read_parquet(f'data/customers_sample_{sample}.parquet')\n",
    "# articles = pd.read_parquet(f'data/articles_train_sample_{sample}.parquet')"
   ]
  },
  {
   "cell_type": "code",
   "execution_count": 234,
   "id": "76f70d9a",
   "metadata": {
    "execution": {
     "iopub.execute_input": "2022-04-16T16:58:53.419209Z",
     "iopub.status.busy": "2022-04-16T16:58:53.418809Z",
     "iopub.status.idle": "2022-04-16T16:58:53.683144Z",
     "shell.execute_reply": "2022-04-16T16:58:53.681606Z"
    },
    "papermill": {
     "duration": 0.321424,
     "end_time": "2022-04-16T16:58:53.685420",
     "exception": false,
     "start_time": "2022-04-16T16:58:53.363996",
     "status": "completed"
    },
    "tags": [],
    "ExecuteTime": {
     "end_time": "2023-10-10T22:16:44.157773900Z",
     "start_time": "2023-10-10T22:16:43.961729300Z"
    }
   },
   "outputs": [],
   "source": [
    "test_week = transactions.week.max() + 1\n",
    "transactions = transactions[transactions.week > transactions.week.max() - 10]"
   ]
  },
  {
   "cell_type": "markdown",
   "id": "5133081f",
   "metadata": {
    "papermill": {
     "duration": 0.04664,
     "end_time": "2022-04-16T16:58:53.778482",
     "exception": false,
     "start_time": "2022-04-16T16:58:53.731842",
     "status": "completed"
    },
    "tags": []
   },
   "source": [
    "# Generating candidates"
   ]
  },
  {
   "cell_type": "markdown",
   "id": "55672930",
   "metadata": {
    "papermill": {
     "duration": 0.047255,
     "end_time": "2022-04-16T16:58:53.872805",
     "exception": false,
     "start_time": "2022-04-16T16:58:53.825550",
     "status": "completed"
    },
    "tags": []
   },
   "source": [
    "### Last purchase candidates"
   ]
  },
  {
   "cell_type": "code",
   "execution_count": 236,
   "id": "953a0f07",
   "metadata": {
    "execution": {
     "iopub.execute_input": "2022-04-16T16:58:53.967689Z",
     "iopub.status.busy": "2022-04-16T16:58:53.967401Z",
     "iopub.status.idle": "2022-04-16T16:59:15.044739Z",
     "shell.execute_reply": "2022-04-16T16:59:15.043325Z"
    },
    "papermill": {
     "duration": 21.129005,
     "end_time": "2022-04-16T16:59:15.047833",
     "exception": false,
     "start_time": "2022-04-16T16:58:53.918828",
     "status": "completed"
    },
    "tags": [],
    "ExecuteTime": {
     "end_time": "2023-10-10T22:17:18.603705800Z",
     "start_time": "2023-10-10T22:16:58.834944200Z"
    }
   },
   "outputs": [
    {
     "name": "stdout",
     "output_type": "stream",
     "text": [
      "CPU times: total: 14.7 s\n",
      "Wall time: 19.7 s\n"
     ]
    }
   ],
   "source": [
    "%%time\n",
    "\n",
    "c2weeks = transactions.groupby('customer_id')['week'].unique()"
   ]
  },
  {
   "cell_type": "code",
   "execution_count": 237,
   "outputs": [
    {
     "data": {
      "text/plain": "customer_id\n28847241659200          [95, 96, 101, 102]\n41318098387474                        [98]\n116809474287335                 [101, 103]\n200292573348128          [95, 96, 99, 102]\n248294615847351                       [96]\n                               ...        \n18446624797007271432                  [95]\n18446630855572834764                 [103]\n18446662237889060501                 [100]\n18446705133201055310                 [102]\n18446737527580148316                 [104]\nName: week, Length: 437365, dtype: object"
     },
     "execution_count": 237,
     "metadata": {},
     "output_type": "execute_result"
    }
   ],
   "source": [
    "c2weeks"
   ],
   "metadata": {
    "collapsed": false,
    "ExecuteTime": {
     "end_time": "2023-10-10T22:17:18.661516200Z",
     "start_time": "2023-10-10T22:17:18.602705600Z"
    }
   },
   "id": "41b331f5ff8c61ce"
  },
  {
   "cell_type": "code",
   "execution_count": 238,
   "id": "a36be6fc",
   "metadata": {
    "execution": {
     "iopub.execute_input": "2022-04-16T16:59:15.192906Z",
     "iopub.status.busy": "2022-04-16T16:59:15.192675Z",
     "iopub.status.idle": "2022-04-16T16:59:15.281870Z",
     "shell.execute_reply": "2022-04-16T16:59:15.281106Z"
    },
    "papermill": {
     "duration": 0.164411,
     "end_time": "2022-04-16T16:59:15.283877",
     "exception": false,
     "start_time": "2022-04-16T16:59:15.119466",
     "status": "completed"
    },
    "tags": [],
    "ExecuteTime": {
     "end_time": "2023-10-10T22:17:18.686530300Z",
     "start_time": "2023-10-10T22:17:18.619214400Z"
    }
   },
   "outputs": [
    {
     "data": {
      "text/plain": "            min        max\nweek                      \n95   2020-07-15 2020-07-21\n96   2020-07-22 2020-07-28\n97   2020-07-29 2020-08-04\n98   2020-08-05 2020-08-11\n99   2020-08-12 2020-08-18\n100  2020-08-19 2020-08-25\n101  2020-08-26 2020-09-01\n102  2020-09-02 2020-09-08\n103  2020-09-09 2020-09-15\n104  2020-09-16 2020-09-22",
      "text/html": "<div>\n<style scoped>\n    .dataframe tbody tr th:only-of-type {\n        vertical-align: middle;\n    }\n\n    .dataframe tbody tr th {\n        vertical-align: top;\n    }\n\n    .dataframe thead th {\n        text-align: right;\n    }\n</style>\n<table border=\"1\" class=\"dataframe\">\n  <thead>\n    <tr style=\"text-align: right;\">\n      <th></th>\n      <th>min</th>\n      <th>max</th>\n    </tr>\n    <tr>\n      <th>week</th>\n      <th></th>\n      <th></th>\n    </tr>\n  </thead>\n  <tbody>\n    <tr>\n      <th>95</th>\n      <td>2020-07-15</td>\n      <td>2020-07-21</td>\n    </tr>\n    <tr>\n      <th>96</th>\n      <td>2020-07-22</td>\n      <td>2020-07-28</td>\n    </tr>\n    <tr>\n      <th>97</th>\n      <td>2020-07-29</td>\n      <td>2020-08-04</td>\n    </tr>\n    <tr>\n      <th>98</th>\n      <td>2020-08-05</td>\n      <td>2020-08-11</td>\n    </tr>\n    <tr>\n      <th>99</th>\n      <td>2020-08-12</td>\n      <td>2020-08-18</td>\n    </tr>\n    <tr>\n      <th>100</th>\n      <td>2020-08-19</td>\n      <td>2020-08-25</td>\n    </tr>\n    <tr>\n      <th>101</th>\n      <td>2020-08-26</td>\n      <td>2020-09-01</td>\n    </tr>\n    <tr>\n      <th>102</th>\n      <td>2020-09-02</td>\n      <td>2020-09-08</td>\n    </tr>\n    <tr>\n      <th>103</th>\n      <td>2020-09-09</td>\n      <td>2020-09-15</td>\n    </tr>\n    <tr>\n      <th>104</th>\n      <td>2020-09-16</td>\n      <td>2020-09-22</td>\n    </tr>\n  </tbody>\n</table>\n</div>"
     },
     "execution_count": 238,
     "metadata": {},
     "output_type": "execute_result"
    }
   ],
   "source": [
    "# Verification that weeks are actually properly grouped\n",
    "transactions.groupby('week')['t_dat'].agg(['min', 'max'])"
   ]
  },
  {
   "cell_type": "code",
   "execution_count": 239,
   "id": "f4723bec",
   "metadata": {
    "execution": {
     "iopub.execute_input": "2022-04-16T16:59:15.588334Z",
     "iopub.status.busy": "2022-04-16T16:59:15.588052Z",
     "iopub.status.idle": "2022-04-16T16:59:16.661897Z",
     "shell.execute_reply": "2022-04-16T16:59:16.661248Z"
    },
    "papermill": {
     "duration": 1.152087,
     "end_time": "2022-04-16T16:59:16.664416",
     "exception": false,
     "start_time": "2022-04-16T16:59:15.512329",
     "status": "completed"
    },
    "tags": [],
    "ExecuteTime": {
     "end_time": "2023-10-10T22:17:19.442683500Z",
     "start_time": "2023-10-10T22:17:18.785051400Z"
    }
   },
   "outputs": [
    {
     "name": "stdout",
     "output_type": "stream",
     "text": [
      "CPU times: total: 438 ms\n",
      "Wall time: 727 ms\n"
     ]
    }
   ],
   "source": [
    "%%time\n",
    "\n",
    "c2weeks2shifted_weeks = {}\n",
    "\n",
    "# Shift all weeks by one, and add the test week as the last week\n",
    "for c_id, weeks in c2weeks.items():\n",
    "    c2weeks2shifted_weeks[c_id] = {}\n",
    "    for i in range(weeks.shape[0]-1):\n",
    "        c2weeks2shifted_weeks[c_id][weeks[i]] = weeks[i+1]\n",
    "    c2weeks2shifted_weeks[c_id][weeks[-1]] = test_week"
   ]
  },
  {
   "cell_type": "code",
   "execution_count": 241,
   "id": "73302f1f",
   "metadata": {
    "execution": {
     "iopub.execute_input": "2022-04-16T16:59:16.814283Z",
     "iopub.status.busy": "2022-04-16T16:59:16.813874Z",
     "iopub.status.idle": "2022-04-16T16:59:16.819790Z",
     "shell.execute_reply": "2022-04-16T16:59:16.818116Z"
    },
    "papermill": {
     "duration": 0.083354,
     "end_time": "2022-04-16T16:59:16.821693",
     "exception": false,
     "start_time": "2022-04-16T16:59:16.738339",
     "status": "completed"
    },
    "tags": [],
    "ExecuteTime": {
     "end_time": "2023-10-10T22:18:00.937741200Z",
     "start_time": "2023-10-10T22:18:00.892228900Z"
    }
   },
   "outputs": [
    {
     "data": {
      "text/plain": "{95: 96, 96: 101, 101: 102, 102: 105}"
     },
     "execution_count": 241,
     "metadata": {},
     "output_type": "execute_result"
    }
   ],
   "source": [
    "c2weeks2shifted_weeks[28847241659200]"
   ]
  },
  {
   "cell_type": "code",
   "execution_count": 242,
   "id": "5a87c920",
   "metadata": {
    "execution": {
     "iopub.execute_input": "2022-04-16T16:59:16.974137Z",
     "iopub.status.busy": "2022-04-16T16:59:16.973909Z",
     "iopub.status.idle": "2022-04-16T16:59:16.988973Z",
     "shell.execute_reply": "2022-04-16T16:59:16.988167Z"
    },
    "papermill": {
     "duration": 0.095127,
     "end_time": "2022-04-16T16:59:16.991288",
     "exception": false,
     "start_time": "2022-04-16T16:59:16.896161",
     "status": "completed"
    },
    "tags": [],
    "ExecuteTime": {
     "end_time": "2023-10-10T22:18:03.343603800Z",
     "start_time": "2023-10-10T22:18:03.313460400Z"
    }
   },
   "outputs": [],
   "source": [
    "candidates_last_purchase = transactions.copy()"
   ]
  },
  {
   "cell_type": "code",
   "execution_count": 243,
   "id": "4f4d4a18",
   "metadata": {
    "execution": {
     "iopub.execute_input": "2022-04-16T16:59:17.146118Z",
     "iopub.status.busy": "2022-04-16T16:59:17.145905Z",
     "iopub.status.idle": "2022-04-16T16:59:25.781407Z",
     "shell.execute_reply": "2022-04-16T16:59:25.779777Z"
    },
    "papermill": {
     "duration": 8.716794,
     "end_time": "2022-04-16T16:59:25.784593",
     "exception": false,
     "start_time": "2022-04-16T16:59:17.067799",
     "status": "completed"
    },
    "tags": [],
    "ExecuteTime": {
     "end_time": "2023-10-10T22:18:52.972974700Z",
     "start_time": "2023-10-10T22:18:33.349165600Z"
    }
   },
   "outputs": [
    {
     "name": "stdout",
     "output_type": "stream",
     "text": [
      "CPU times: total: 15.9 s\n",
      "Wall time: 19.6 s\n"
     ]
    }
   ],
   "source": [
    "%%time\n",
    "\n",
    "# Applies the shifted weeks to the transactions\n",
    "weeks = []\n",
    "for i, (c_id, week) in enumerate(zip(transactions['customer_id'], transactions['week'])):\n",
    "    weeks.append(c2weeks2shifted_weeks[c_id][week])\n",
    "candidates_last_purchase.week=weeks"
   ]
  },
  {
   "cell_type": "markdown",
   "id": "38ae3458",
   "metadata": {
    "papermill": {
     "duration": 0.076715,
     "end_time": "2022-04-16T16:59:26.293010",
     "exception": false,
     "start_time": "2022-04-16T16:59:26.216295",
     "status": "completed"
    },
    "tags": []
   },
   "source": [
    "### Bestsellers candidates"
   ]
  },
  {
   "cell_type": "code",
   "execution_count": 245,
   "id": "022a7879",
   "metadata": {
    "execution": {
     "iopub.execute_input": "2022-04-16T16:59:26.450077Z",
     "iopub.status.busy": "2022-04-16T16:59:26.449041Z",
     "iopub.status.idle": "2022-04-16T16:59:26.698222Z",
     "shell.execute_reply": "2022-04-16T16:59:26.697460Z"
    },
    "papermill": {
     "duration": 0.331688,
     "end_time": "2022-04-16T16:59:26.700507",
     "exception": false,
     "start_time": "2022-04-16T16:59:26.368819",
     "status": "completed"
    },
    "tags": [],
    "ExecuteTime": {
     "end_time": "2023-10-10T22:19:19.541917100Z",
     "start_time": "2023-10-10T22:19:19.341173400Z"
    }
   },
   "outputs": [],
   "source": [
    "# Gets the mean price of each article in each week\n",
    "mean_price = transactions.groupby(['week', 'article_id'])['price'].mean()"
   ]
  },
  {
   "cell_type": "code",
   "execution_count": 246,
   "id": "e74d8d23",
   "metadata": {
    "execution": {
     "iopub.execute_input": "2022-04-16T16:59:26.799929Z",
     "iopub.status.busy": "2022-04-16T16:59:26.799665Z",
     "iopub.status.idle": "2022-04-16T16:59:26.867466Z",
     "shell.execute_reply": "2022-04-16T16:59:26.866712Z"
    },
    "papermill": {
     "duration": 0.120303,
     "end_time": "2022-04-16T16:59:26.869795",
     "exception": false,
     "start_time": "2022-04-16T16:59:26.749492",
     "status": "completed"
    },
    "tags": [],
    "ExecuteTime": {
     "end_time": "2023-10-10T22:19:22.057720600Z",
     "start_time": "2023-10-10T22:19:22.025198800Z"
    }
   },
   "outputs": [
    {
     "data": {
      "text/plain": "week  article_id\n95    108775015     0.004729\n      108775044     0.008458\n      110065001     0.006085\n      110065002     0.006085\n      111565001     0.004288\n                      ...   \n104   952267001     0.013732\n      952938001     0.048651\n      953450001     0.016932\n      953763001     0.021885\n      956217002     0.059068\nName: price, Length: 196880, dtype: float32"
     },
     "execution_count": 246,
     "metadata": {},
     "output_type": "execute_result"
    }
   ],
   "source": [
    "mean_price"
   ]
  },
  {
   "cell_type": "code",
   "execution_count": 248,
   "id": "9a104ef9",
   "metadata": {
    "execution": {
     "iopub.execute_input": "2022-04-16T16:59:26.973271Z",
     "iopub.status.busy": "2022-04-16T16:59:26.972993Z",
     "iopub.status.idle": "2022-04-16T16:59:27.759574Z",
     "shell.execute_reply": "2022-04-16T16:59:27.758540Z"
    },
    "papermill": {
     "duration": 0.840436,
     "end_time": "2022-04-16T16:59:27.761667",
     "exception": false,
     "start_time": "2022-04-16T16:59:26.921231",
     "status": "completed"
    },
    "tags": [],
    "ExecuteTime": {
     "end_time": "2023-10-10T22:20:29.280655100Z",
     "start_time": "2023-10-10T22:20:27.970081700Z"
    }
   },
   "outputs": [],
   "source": [
    "# Gets the bestsellers of each week\n",
    "sales = transactions \\\n",
    "    .groupby('week')['article_id'].value_counts() \\\n",
    "    .groupby('week').rank(method='dense', ascending=False) \\\n",
    "    .groupby('week').head(12).rename('bestseller_rank').astype('int8')"
   ]
  },
  {
   "cell_type": "code",
   "execution_count": 249,
   "id": "0b8a877e",
   "metadata": {
    "execution": {
     "iopub.execute_input": "2022-04-16T16:59:28.022610Z",
     "iopub.status.busy": "2022-04-16T16:59:28.021997Z",
     "iopub.status.idle": "2022-04-16T16:59:28.032026Z",
     "shell.execute_reply": "2022-04-16T16:59:28.030925Z"
    },
    "papermill": {
     "duration": 0.088243,
     "end_time": "2022-04-16T16:59:28.034495",
     "exception": false,
     "start_time": "2022-04-16T16:59:27.946252",
     "status": "completed"
    },
    "tags": [],
    "ExecuteTime": {
     "end_time": "2023-10-10T22:20:58.666896700Z",
     "start_time": "2023-10-10T22:20:58.634891900Z"
    }
   },
   "outputs": [
    {
     "data": {
      "text/plain": "article_id\n760084003     1\n866731001     2\n600886001     3\n706016001     4\n372860002     5\n610776002     6\n877278002     7\n547780003     8\n817354001     9\n827968001    10\n866731003    11\n866383006    12\nName: bestseller_rank, dtype: int8"
     },
     "execution_count": 249,
     "metadata": {},
     "output_type": "execute_result"
    }
   ],
   "source": [
    "# Bestsellers of week 95\n",
    "sales.loc[95]"
   ]
  },
  {
   "cell_type": "code",
   "execution_count": 250,
   "id": "20324cc0",
   "metadata": {
    "execution": {
     "iopub.execute_input": "2022-04-16T16:59:28.190524Z",
     "iopub.status.busy": "2022-04-16T16:59:28.190250Z",
     "iopub.status.idle": "2022-04-16T16:59:28.228967Z",
     "shell.execute_reply": "2022-04-16T16:59:28.228233Z"
    },
    "papermill": {
     "duration": 0.11991,
     "end_time": "2022-04-16T16:59:28.231470",
     "exception": false,
     "start_time": "2022-04-16T16:59:28.111560",
     "status": "completed"
    },
    "tags": [],
    "ExecuteTime": {
     "end_time": "2023-10-10T22:21:01.211883500Z",
     "start_time": "2023-10-10T22:21:01.182358400Z"
    }
   },
   "outputs": [],
   "source": [
    "# Merge bestsellers and mean_price of products\n",
    "bestsellers_previous_week = pd.merge(sales, mean_price, on=['week', 'article_id']).reset_index()\n",
    "bestsellers_previous_week.week += 1"
   ]
  },
  {
   "cell_type": "code",
   "execution_count": 251,
   "id": "1ad756de",
   "metadata": {
    "execution": {
     "iopub.execute_input": "2022-04-16T16:59:28.555106Z",
     "iopub.status.busy": "2022-04-16T16:59:28.554346Z",
     "iopub.status.idle": "2022-04-16T16:59:29.140400Z",
     "shell.execute_reply": "2022-04-16T16:59:29.138684Z"
    },
    "papermill": {
     "duration": 0.667005,
     "end_time": "2022-04-16T16:59:29.144061",
     "exception": false,
     "start_time": "2022-04-16T16:59:28.477056",
     "status": "completed"
    },
    "tags": [],
    "ExecuteTime": {
     "end_time": "2023-10-10T22:21:04.730841200Z",
     "start_time": "2023-10-10T22:21:03.540871400Z"
    }
   },
   "outputs": [
    {
     "name": "stdout",
     "output_type": "stream",
     "text": [
      "f6697294304f661350e744c6c0822da2ee24edd670d728ee1c3f14aa78929146\n"
     ]
    }
   ],
   "source": [
    "# Get the transactions in week 95\n",
    "unique_transactions = transactions \\\n",
    "    .groupby(['week', 'customer_id']) \\\n",
    "    .head(1) \\\n",
    "    .drop(columns=['article_id', 'price']) \\\n",
    "    .copy()\n",
    "print(hash_dataframe(unique_transactions))\n"
   ]
  },
  {
   "cell_type": "code",
   "execution_count": 252,
   "id": "5721ca6d",
   "metadata": {
    "execution": {
     "iopub.execute_input": "2022-04-16T16:59:29.492465Z",
     "iopub.status.busy": "2022-04-16T16:59:29.491796Z",
     "iopub.status.idle": "2022-04-16T16:59:29.789430Z",
     "shell.execute_reply": "2022-04-16T16:59:29.788532Z"
    },
    "papermill": {
     "duration": 0.383891,
     "end_time": "2022-04-16T16:59:29.791258",
     "exception": false,
     "start_time": "2022-04-16T16:59:29.407367",
     "status": "completed"
    },
    "tags": [],
    "ExecuteTime": {
     "end_time": "2023-10-10T22:21:08.832160900Z",
     "start_time": "2023-10-10T22:21:07.164670500Z"
    }
   },
   "outputs": [
    {
     "name": "stdout",
     "output_type": "stream",
     "text": [
      "4ef150200c2c4cced13205b6b09b3e050d3384c7b19d58e75ae0d0e2b96fd9d5\n"
     ]
    }
   ],
   "source": [
    "# Remove duplicates where the customer has purchased more than one item in the same week\n",
    "transactions.drop_duplicates(['week', 'customer_id'])\n",
    "print(hash_dataframe(transactions))"
   ]
  },
  {
   "cell_type": "code",
   "execution_count": 196,
   "id": "4a23981e",
   "metadata": {
    "execution": {
     "iopub.execute_input": "2022-04-16T16:59:29.966619Z",
     "iopub.status.busy": "2022-04-16T16:59:29.965698Z",
     "iopub.status.idle": "2022-04-16T16:59:30.451040Z",
     "shell.execute_reply": "2022-04-16T16:59:30.449784Z"
    },
    "papermill": {
     "duration": 0.575247,
     "end_time": "2022-04-16T16:59:30.453425",
     "exception": false,
     "start_time": "2022-04-16T16:59:29.878178",
     "status": "completed"
    },
    "tags": [],
    "ExecuteTime": {
     "end_time": "2023-10-10T21:53:06.897977900Z",
     "start_time": "2023-10-10T21:53:04.885396200Z"
    }
   },
   "outputs": [
    {
     "name": "stdout",
     "output_type": "stream",
     "text": [
      "debdba81ee6e49784321699817202694d49705d01c553a06a21e6daf21ad6370\n"
     ]
    }
   ],
   "source": [
    "# Merge bestsellers of week 96 with transactions of week 95\n",
    "candidates_bestsellers = pd.merge(\n",
    "    unique_transactions,\n",
    "    bestsellers_previous_week,\n",
    "    on='week',\n",
    ")\n",
    "print(hash_dataframe(candidates_bestsellers))\n"
   ]
  },
  {
   "cell_type": "code",
   "execution_count": 197,
   "id": "ad3a9710",
   "metadata": {
    "execution": {
     "iopub.execute_input": "2022-04-16T16:59:30.557949Z",
     "iopub.status.busy": "2022-04-16T16:59:30.557290Z",
     "iopub.status.idle": "2022-04-16T16:59:30.666388Z",
     "shell.execute_reply": "2022-04-16T16:59:30.665542Z"
    },
    "papermill": {
     "duration": 0.163691,
     "end_time": "2022-04-16T16:59:30.668845",
     "exception": false,
     "start_time": "2022-04-16T16:59:30.505154",
     "status": "completed"
    },
    "tags": [],
    "ExecuteTime": {
     "end_time": "2023-10-10T21:53:07.631396800Z",
     "start_time": "2023-10-10T21:53:06.882466300Z"
    }
   },
   "outputs": [
    {
     "name": "stdout",
     "output_type": "stream",
     "text": [
      "a1b3911927771e69692a52d0fdcd52cd31575b4621c7265fc9023e318871d852\n"
     ]
    }
   ],
   "source": [
    "# Keep only one transaction per customer\n",
    "test_set_transactions = unique_transactions.drop_duplicates('customer_id').reset_index(drop=True)\n",
    "test_set_transactions.week = test_week\n",
    "print(hash_dataframe(test_set_transactions))\n"
   ]
  },
  {
   "cell_type": "code",
   "execution_count": 198,
   "id": "0234c391",
   "metadata": {
    "execution": {
     "iopub.execute_input": "2022-04-16T16:59:30.834473Z",
     "iopub.status.busy": "2022-04-16T16:59:30.833997Z",
     "iopub.status.idle": "2022-04-16T16:59:30.844349Z",
     "shell.execute_reply": "2022-04-16T16:59:30.843895Z"
    },
    "papermill": {
     "duration": 0.098295,
     "end_time": "2022-04-16T16:59:30.846626",
     "exception": false,
     "start_time": "2022-04-16T16:59:30.748331",
     "status": "completed"
    },
    "tags": [],
    "ExecuteTime": {
     "end_time": "2023-10-10T21:53:07.671967300Z",
     "start_time": "2023-10-10T21:53:07.628398800Z"
    }
   },
   "outputs": [
    {
     "data": {
      "text/plain": "            t_dat           customer_id  sales_channel_id  week\n0      2020-07-15       272412481300040                 1   105\n1      2020-07-15      1456826891333599                 1   105\n2      2020-07-15      2133687643102426                 2   105\n3      2020-07-15      6010692573790711                 1   105\n4      2020-07-15      6171059100114610                 2   105\n...           ...                   ...               ...   ...\n437360 2020-09-22  18410229429441241008                 2   105\n437361 2020-09-22  18417769707947924979                 2   105\n437362 2020-09-22  18418054986721795659                 2   105\n437363 2020-09-22  18421175435799911749                 2   105\n437364 2020-09-22  18438270306572912089                 1   105\n\n[437365 rows x 4 columns]",
      "text/html": "<div>\n<style scoped>\n    .dataframe tbody tr th:only-of-type {\n        vertical-align: middle;\n    }\n\n    .dataframe tbody tr th {\n        vertical-align: top;\n    }\n\n    .dataframe thead th {\n        text-align: right;\n    }\n</style>\n<table border=\"1\" class=\"dataframe\">\n  <thead>\n    <tr style=\"text-align: right;\">\n      <th></th>\n      <th>t_dat</th>\n      <th>customer_id</th>\n      <th>sales_channel_id</th>\n      <th>week</th>\n    </tr>\n  </thead>\n  <tbody>\n    <tr>\n      <th>0</th>\n      <td>2020-07-15</td>\n      <td>272412481300040</td>\n      <td>1</td>\n      <td>105</td>\n    </tr>\n    <tr>\n      <th>1</th>\n      <td>2020-07-15</td>\n      <td>1456826891333599</td>\n      <td>1</td>\n      <td>105</td>\n    </tr>\n    <tr>\n      <th>2</th>\n      <td>2020-07-15</td>\n      <td>2133687643102426</td>\n      <td>2</td>\n      <td>105</td>\n    </tr>\n    <tr>\n      <th>3</th>\n      <td>2020-07-15</td>\n      <td>6010692573790711</td>\n      <td>1</td>\n      <td>105</td>\n    </tr>\n    <tr>\n      <th>4</th>\n      <td>2020-07-15</td>\n      <td>6171059100114610</td>\n      <td>2</td>\n      <td>105</td>\n    </tr>\n    <tr>\n      <th>...</th>\n      <td>...</td>\n      <td>...</td>\n      <td>...</td>\n      <td>...</td>\n    </tr>\n    <tr>\n      <th>437360</th>\n      <td>2020-09-22</td>\n      <td>18410229429441241008</td>\n      <td>2</td>\n      <td>105</td>\n    </tr>\n    <tr>\n      <th>437361</th>\n      <td>2020-09-22</td>\n      <td>18417769707947924979</td>\n      <td>2</td>\n      <td>105</td>\n    </tr>\n    <tr>\n      <th>437362</th>\n      <td>2020-09-22</td>\n      <td>18418054986721795659</td>\n      <td>2</td>\n      <td>105</td>\n    </tr>\n    <tr>\n      <th>437363</th>\n      <td>2020-09-22</td>\n      <td>18421175435799911749</td>\n      <td>2</td>\n      <td>105</td>\n    </tr>\n    <tr>\n      <th>437364</th>\n      <td>2020-09-22</td>\n      <td>18438270306572912089</td>\n      <td>1</td>\n      <td>105</td>\n    </tr>\n  </tbody>\n</table>\n<p>437365 rows × 4 columns</p>\n</div>"
     },
     "execution_count": 198,
     "metadata": {},
     "output_type": "execute_result"
    }
   ],
   "source": [
    "test_set_transactions"
   ]
  },
  {
   "cell_type": "code",
   "execution_count": 199,
   "id": "9f64b005",
   "metadata": {
    "execution": {
     "iopub.execute_input": "2022-04-16T16:59:31.022450Z",
     "iopub.status.busy": "2022-04-16T16:59:31.021916Z",
     "iopub.status.idle": "2022-04-16T16:59:31.402955Z",
     "shell.execute_reply": "2022-04-16T16:59:31.402449Z"
    },
    "papermill": {
     "duration": 0.473042,
     "end_time": "2022-04-16T16:59:31.405328",
     "exception": false,
     "start_time": "2022-04-16T16:59:30.932286",
     "status": "completed"
    },
    "tags": [],
    "ExecuteTime": {
     "end_time": "2023-10-10T21:53:09.653707300Z",
     "start_time": "2023-10-10T21:53:07.647255800Z"
    }
   },
   "outputs": [
    {
     "name": "stdout",
     "output_type": "stream",
     "text": [
      "80b74a00ca6cdab8ed511bcf179164d8410b1f365b63255f25daf501e042689a\n"
     ]
    }
   ],
   "source": [
    "# Join the rankings of all top products for the test week for each customer\n",
    "candidates_bestsellers_test_week = pd.merge(\n",
    "    test_set_transactions,\n",
    "    bestsellers_previous_week,\n",
    "    on='week'\n",
    ")\n",
    "print(hash_dataframe(candidates_bestsellers_test_week))\n"
   ]
  },
  {
   "cell_type": "code",
   "execution_count": 200,
   "id": "212b7926",
   "metadata": {
    "execution": {
     "iopub.execute_input": "2022-04-16T16:59:31.572192Z",
     "iopub.status.busy": "2022-04-16T16:59:31.571731Z",
     "iopub.status.idle": "2022-04-16T16:59:32.056182Z",
     "shell.execute_reply": "2022-04-16T16:59:32.054646Z"
    },
    "papermill": {
     "duration": 0.570441,
     "end_time": "2022-04-16T16:59:32.058855",
     "exception": false,
     "start_time": "2022-04-16T16:59:31.488414",
     "status": "completed"
    },
    "tags": [],
    "ExecuteTime": {
     "end_time": "2023-10-10T21:53:11.452261500Z",
     "start_time": "2023-10-10T21:53:09.650192800Z"
    }
   },
   "outputs": [
    {
     "name": "stdout",
     "output_type": "stream",
     "text": [
      "f776275a94b1605aaf13b8ebb67cc98133e6539d84b638a59c09dc003a8ea9e5\n"
     ]
    }
   ],
   "source": [
    "# Join the bestsellers with the bestsellers of the test week generating the complete candidate set\n",
    "candidates_bestsellers = pd.concat([candidates_bestsellers, candidates_bestsellers_test_week])\n",
    "candidates_bestsellers.drop(columns='bestseller_rank', inplace=True)\n",
    "print(hash_dataframe(candidates_bestsellers))\n"
   ]
  },
  {
   "cell_type": "markdown",
   "id": "d5b03292",
   "metadata": {
    "papermill": {
     "duration": 0.08208,
     "end_time": "2022-04-16T16:59:32.397198",
     "exception": false,
     "start_time": "2022-04-16T16:59:32.315118",
     "status": "completed"
    },
    "tags": []
   },
   "source": [
    "# Combining transactions and candidates / negative examples"
   ]
  },
  {
   "cell_type": "code",
   "execution_count": 201,
   "id": "529196a4",
   "metadata": {
    "execution": {
     "iopub.execute_input": "2022-04-16T16:59:32.559999Z",
     "iopub.status.busy": "2022-04-16T16:59:32.559691Z",
     "iopub.status.idle": "2022-04-16T16:59:32.568020Z",
     "shell.execute_reply": "2022-04-16T16:59:32.567210Z"
    },
    "papermill": {
     "duration": 0.090433,
     "end_time": "2022-04-16T16:59:32.570268",
     "exception": false,
     "start_time": "2022-04-16T16:59:32.479835",
     "status": "completed"
    },
    "tags": [],
    "ExecuteTime": {
     "end_time": "2023-10-10T21:53:11.503635Z",
     "start_time": "2023-10-10T21:53:11.444748700Z"
    }
   },
   "outputs": [],
   "source": [
    "transactions['purchased'] = 1"
   ]
  },
  {
   "cell_type": "code",
   "execution_count": 202,
   "id": "421a601e",
   "metadata": {
    "execution": {
     "iopub.execute_input": "2022-04-16T16:59:32.732883Z",
     "iopub.status.busy": "2022-04-16T16:59:32.732442Z",
     "iopub.status.idle": "2022-04-16T16:59:33.215270Z",
     "shell.execute_reply": "2022-04-16T16:59:33.214358Z"
    },
    "papermill": {
     "duration": 0.56807,
     "end_time": "2022-04-16T16:59:33.217736",
     "exception": false,
     "start_time": "2022-04-16T16:59:32.649666",
     "status": "completed"
    },
    "tags": [],
    "ExecuteTime": {
     "end_time": "2023-10-10T21:53:15.108850800Z",
     "start_time": "2023-10-10T21:53:11.459536400Z"
    }
   },
   "outputs": [
    {
     "name": "stdout",
     "output_type": "stream",
     "text": [
      "9f00f26bc2c67bae702c4a6102293fe00e8db3ce51a315037f8727fb05008a07\n"
     ]
    }
   ],
   "source": [
    "# Full candidate set consists of all transactions (bought items), the last bought item of each customer and the bestsellers of each week\n",
    "data = pd.concat([transactions, candidates_last_purchase, candidates_bestsellers])\n",
    "data.purchased.fillna(0, inplace=True)\n",
    "print(hash_dataframe(data))\n"
   ]
  },
  {
   "cell_type": "code",
   "execution_count": 203,
   "id": "9f4e8cdb",
   "metadata": {
    "execution": {
     "iopub.execute_input": "2022-04-16T16:59:33.565093Z",
     "iopub.status.busy": "2022-04-16T16:59:33.564667Z",
     "iopub.status.idle": "2022-04-16T16:59:40.550065Z",
     "shell.execute_reply": "2022-04-16T16:59:40.549283Z"
    },
    "papermill": {
     "duration": 7.070271,
     "end_time": "2022-04-16T16:59:40.552624",
     "exception": false,
     "start_time": "2022-04-16T16:59:33.482353",
     "status": "completed"
    },
    "tags": [],
    "ExecuteTime": {
     "end_time": "2023-10-10T21:53:22.711368600Z",
     "start_time": "2023-10-10T21:53:15.092631200Z"
    }
   },
   "outputs": [
    {
     "name": "stdout",
     "output_type": "stream",
     "text": [
      "4f66379dabb63dd6fb2b3f976942bc9429eadca9edc512d3d22fc8ec00ad5752\n"
     ]
    }
   ],
   "source": [
    "data.drop_duplicates(['customer_id', 'article_id', 'week'], inplace=True)\n",
    "print(hash_dataframe(data))\n"
   ]
  },
  {
   "cell_type": "code",
   "execution_count": 204,
   "id": "95414c83",
   "metadata": {
    "execution": {
     "iopub.execute_input": "2022-04-16T16:59:40.724050Z",
     "iopub.status.busy": "2022-04-16T16:59:40.723803Z",
     "iopub.status.idle": "2022-04-16T16:59:40.766530Z",
     "shell.execute_reply": "2022-04-16T16:59:40.765805Z"
    },
    "papermill": {
     "duration": 0.131175,
     "end_time": "2022-04-16T16:59:40.768430",
     "exception": false,
     "start_time": "2022-04-16T16:59:40.637255",
     "status": "completed"
    },
    "tags": [],
    "ExecuteTime": {
     "end_time": "2023-10-10T21:53:22.771732600Z",
     "start_time": "2023-10-10T21:53:22.700309600Z"
    }
   },
   "outputs": [
    {
     "data": {
      "text/plain": "0.13607582749165664"
     },
     "execution_count": 204,
     "metadata": {},
     "output_type": "execute_result"
    }
   ],
   "source": [
    "# 13.6% of the data consists of positive examples\n",
    "data.purchased.mean()"
   ]
  },
  {
   "cell_type": "markdown",
   "id": "4d35aac7",
   "metadata": {
    "papermill": {
     "duration": 0.085919,
     "end_time": "2022-04-16T16:59:40.938934",
     "exception": false,
     "start_time": "2022-04-16T16:59:40.853015",
     "status": "completed"
    },
    "tags": []
   },
   "source": [
    "### Add bestseller information"
   ]
  },
  {
   "cell_type": "code",
   "execution_count": 205,
   "id": "ab6d0095",
   "metadata": {
    "execution": {
     "iopub.execute_input": "2022-04-16T16:59:41.111287Z",
     "iopub.status.busy": "2022-04-16T16:59:41.110981Z",
     "iopub.status.idle": "2022-04-16T16:59:44.046180Z",
     "shell.execute_reply": "2022-04-16T16:59:44.045173Z"
    },
    "papermill": {
     "duration": 3.024555,
     "end_time": "2022-04-16T16:59:44.048610",
     "exception": false,
     "start_time": "2022-04-16T16:59:41.024055",
     "status": "completed"
    },
    "tags": [],
    "ExecuteTime": {
     "end_time": "2023-10-10T21:53:28.685753Z",
     "start_time": "2023-10-10T21:53:22.765227200Z"
    }
   },
   "outputs": [
    {
     "name": "stdout",
     "output_type": "stream",
     "text": [
      "f3fea7fef5b6f1c871aabdf6a6ab8973f697f971ac06d1498a3ab90d2ded2ff0\n"
     ]
    }
   ],
   "source": [
    "data = pd.merge(\n",
    "    data,\n",
    "    bestsellers_previous_week[['week', 'article_id', 'bestseller_rank']],\n",
    "    on=['week', 'article_id'],\n",
    "    how='left'\n",
    ")\n",
    "print(hash_dataframe(data))\n"
   ]
  },
  {
   "cell_type": "code",
   "execution_count": 206,
   "id": "7b18597e",
   "metadata": {
    "execution": {
     "iopub.execute_input": "2022-04-16T16:59:44.188869Z",
     "iopub.status.busy": "2022-04-16T16:59:44.188578Z",
     "iopub.status.idle": "2022-04-16T16:59:45.778521Z",
     "shell.execute_reply": "2022-04-16T16:59:45.777015Z"
    },
    "papermill": {
     "duration": 1.650973,
     "end_time": "2022-04-16T16:59:45.781085",
     "exception": false,
     "start_time": "2022-04-16T16:59:44.130112",
     "status": "completed"
    },
    "tags": [],
    "ExecuteTime": {
     "end_time": "2023-10-10T21:53:29.569633100Z",
     "start_time": "2023-10-10T21:53:28.680238Z"
    }
   },
   "outputs": [],
   "source": [
    "data = data[data.week != data.week.min()]\n",
    "data.bestseller_rank.fillna(999, inplace=True)"
   ]
  },
  {
   "cell_type": "code",
   "execution_count": 207,
   "id": "7d9bb629",
   "metadata": {
    "execution": {
     "iopub.execute_input": "2022-04-16T16:59:45.949058Z",
     "iopub.status.busy": "2022-04-16T16:59:45.948608Z",
     "iopub.status.idle": "2022-04-16T17:00:11.114839Z",
     "shell.execute_reply": "2022-04-16T17:00:11.114301Z"
    },
    "papermill": {
     "duration": 25.250701,
     "end_time": "2022-04-16T17:00:11.116901",
     "exception": false,
     "start_time": "2022-04-16T16:59:45.866200",
     "status": "completed"
    },
    "tags": [],
    "ExecuteTime": {
     "end_time": "2023-10-10T21:53:37.954573900Z",
     "start_time": "2023-10-10T21:53:29.570639600Z"
    }
   },
   "outputs": [],
   "source": [
    "data = pd.merge(data, articles, on='article_id', how='left')\n",
    "data = pd.merge(data, customers, on='customer_id', how='left')"
   ]
  },
  {
   "cell_type": "code",
   "execution_count": 208,
   "id": "1560db63",
   "metadata": {
    "execution": {
     "iopub.execute_input": "2022-04-16T17:00:11.232846Z",
     "iopub.status.busy": "2022-04-16T17:00:11.232435Z",
     "iopub.status.idle": "2022-04-16T17:00:17.697954Z",
     "shell.execute_reply": "2022-04-16T17:00:17.696556Z"
    },
    "papermill": {
     "duration": 6.526551,
     "end_time": "2022-04-16T17:00:17.700139",
     "exception": false,
     "start_time": "2022-04-16T17:00:11.173588",
     "status": "completed"
    },
    "tags": [],
    "ExecuteTime": {
     "end_time": "2023-10-10T21:53:42.439961800Z",
     "start_time": "2023-10-10T21:53:37.955574100Z"
    }
   },
   "outputs": [],
   "source": [
    "data.sort_values(['week', 'customer_id'], inplace=True)\n",
    "data.reset_index(drop=True, inplace=True)"
   ]
  },
  {
   "cell_type": "code",
   "execution_count": 209,
   "outputs": [
    {
     "data": {
      "text/plain": "              t_dat           customer_id  article_id     price  \\\n0        2020-07-26        28847241659200   887770001  0.016932   \n1        2020-07-18        28847241659200   762846001  0.025407   \n2        2020-07-18        28847241659200   829308001  0.033881   \n3        2020-07-26        28847241659200   760084003  0.025094   \n4        2020-07-26        28847241659200   866731001  0.024919   \n...             ...                   ...         ...       ...   \n17991757 2020-09-21  18446737527580148316   915529003  0.033439   \n17991758 2020-09-21  18446737527580148316   915529005  0.033417   \n17991759 2020-09-21  18446737527580148316   448509014  0.041630   \n17991760 2020-09-21  18446737527580148316   762846027  0.025005   \n17991761 2020-09-21  18446737527580148316   714790020  0.049951   \n\n          sales_channel_id  week  purchased  bestseller_rank  product_code  \\\n0                        1    96        1.0            999.0        887770   \n1                        1    96        0.0            999.0        762846   \n2                        1    96        0.0            999.0        829308   \n3                        1    96        0.0              1.0        760084   \n4                        1    96        0.0              2.0        866731   \n...                    ...   ...        ...              ...           ...   \n17991757                 2   105        0.0              8.0        915529   \n17991758                 2   105        0.0              9.0        915529   \n17991759                 2   105        0.0             10.0        448509   \n17991760                 2   105        0.0             11.0        762846   \n17991761                 2   105        0.0             12.0        714790   \n\n          prod_name  ...  section_name  garment_group_no  garment_group_name  \\\n0               727  ...            10              1010                   6   \n1               472  ...             7              1010                   6   \n2             11402  ...            21              1005                   0   \n3              1134  ...             1              1009                   5   \n4              3609  ...            21              1005                   0   \n...             ...  ...           ...               ...                 ...   \n17991757       7046  ...             0              1003                   3   \n17991758       7046  ...             0              1003                   3   \n17991759        259  ...             1              1009                   5   \n17991760        472  ...             7              1010                   6   \n17991761       4354  ...            37              1016                  11   \n\n          detail_desc  FN  Active  club_member_status  fashion_news_frequency  \\\n0                3692   1       1                   0                       1   \n1                 492   1       1                   0                       1   \n2                9082   1       1                   0                       1   \n3                 847   1       1                   0                       1   \n4                3130   1       1                   0                       1   \n...               ...  ..     ...                 ...                     ...   \n17991757        10909   1       1                   0                       1   \n17991758        10909   1       1                   0                       1   \n17991759          255   1       1                   0                       1   \n17991760          492   1       1                   0                       1   \n17991761          856   1       1                   0                       1   \n\n          age  postal_code  \n0          21        57896  \n1          21        57896  \n2          21        57896  \n3          21        57896  \n4          21        57896  \n...       ...          ...  \n17991757   60        96323  \n17991758   60        96323  \n17991759   60        96323  \n17991760   60        96323  \n17991761   60        96323  \n\n[17991762 rows x 38 columns]",
      "text/html": "<div>\n<style scoped>\n    .dataframe tbody tr th:only-of-type {\n        vertical-align: middle;\n    }\n\n    .dataframe tbody tr th {\n        vertical-align: top;\n    }\n\n    .dataframe thead th {\n        text-align: right;\n    }\n</style>\n<table border=\"1\" class=\"dataframe\">\n  <thead>\n    <tr style=\"text-align: right;\">\n      <th></th>\n      <th>t_dat</th>\n      <th>customer_id</th>\n      <th>article_id</th>\n      <th>price</th>\n      <th>sales_channel_id</th>\n      <th>week</th>\n      <th>purchased</th>\n      <th>bestseller_rank</th>\n      <th>product_code</th>\n      <th>prod_name</th>\n      <th>...</th>\n      <th>section_name</th>\n      <th>garment_group_no</th>\n      <th>garment_group_name</th>\n      <th>detail_desc</th>\n      <th>FN</th>\n      <th>Active</th>\n      <th>club_member_status</th>\n      <th>fashion_news_frequency</th>\n      <th>age</th>\n      <th>postal_code</th>\n    </tr>\n  </thead>\n  <tbody>\n    <tr>\n      <th>0</th>\n      <td>2020-07-26</td>\n      <td>28847241659200</td>\n      <td>887770001</td>\n      <td>0.016932</td>\n      <td>1</td>\n      <td>96</td>\n      <td>1.0</td>\n      <td>999.0</td>\n      <td>887770</td>\n      <td>727</td>\n      <td>...</td>\n      <td>10</td>\n      <td>1010</td>\n      <td>6</td>\n      <td>3692</td>\n      <td>1</td>\n      <td>1</td>\n      <td>0</td>\n      <td>1</td>\n      <td>21</td>\n      <td>57896</td>\n    </tr>\n    <tr>\n      <th>1</th>\n      <td>2020-07-18</td>\n      <td>28847241659200</td>\n      <td>762846001</td>\n      <td>0.025407</td>\n      <td>1</td>\n      <td>96</td>\n      <td>0.0</td>\n      <td>999.0</td>\n      <td>762846</td>\n      <td>472</td>\n      <td>...</td>\n      <td>7</td>\n      <td>1010</td>\n      <td>6</td>\n      <td>492</td>\n      <td>1</td>\n      <td>1</td>\n      <td>0</td>\n      <td>1</td>\n      <td>21</td>\n      <td>57896</td>\n    </tr>\n    <tr>\n      <th>2</th>\n      <td>2020-07-18</td>\n      <td>28847241659200</td>\n      <td>829308001</td>\n      <td>0.033881</td>\n      <td>1</td>\n      <td>96</td>\n      <td>0.0</td>\n      <td>999.0</td>\n      <td>829308</td>\n      <td>11402</td>\n      <td>...</td>\n      <td>21</td>\n      <td>1005</td>\n      <td>0</td>\n      <td>9082</td>\n      <td>1</td>\n      <td>1</td>\n      <td>0</td>\n      <td>1</td>\n      <td>21</td>\n      <td>57896</td>\n    </tr>\n    <tr>\n      <th>3</th>\n      <td>2020-07-26</td>\n      <td>28847241659200</td>\n      <td>760084003</td>\n      <td>0.025094</td>\n      <td>1</td>\n      <td>96</td>\n      <td>0.0</td>\n      <td>1.0</td>\n      <td>760084</td>\n      <td>1134</td>\n      <td>...</td>\n      <td>1</td>\n      <td>1009</td>\n      <td>5</td>\n      <td>847</td>\n      <td>1</td>\n      <td>1</td>\n      <td>0</td>\n      <td>1</td>\n      <td>21</td>\n      <td>57896</td>\n    </tr>\n    <tr>\n      <th>4</th>\n      <td>2020-07-26</td>\n      <td>28847241659200</td>\n      <td>866731001</td>\n      <td>0.024919</td>\n      <td>1</td>\n      <td>96</td>\n      <td>0.0</td>\n      <td>2.0</td>\n      <td>866731</td>\n      <td>3609</td>\n      <td>...</td>\n      <td>21</td>\n      <td>1005</td>\n      <td>0</td>\n      <td>3130</td>\n      <td>1</td>\n      <td>1</td>\n      <td>0</td>\n      <td>1</td>\n      <td>21</td>\n      <td>57896</td>\n    </tr>\n    <tr>\n      <th>...</th>\n      <td>...</td>\n      <td>...</td>\n      <td>...</td>\n      <td>...</td>\n      <td>...</td>\n      <td>...</td>\n      <td>...</td>\n      <td>...</td>\n      <td>...</td>\n      <td>...</td>\n      <td>...</td>\n      <td>...</td>\n      <td>...</td>\n      <td>...</td>\n      <td>...</td>\n      <td>...</td>\n      <td>...</td>\n      <td>...</td>\n      <td>...</td>\n      <td>...</td>\n      <td>...</td>\n    </tr>\n    <tr>\n      <th>17991757</th>\n      <td>2020-09-21</td>\n      <td>18446737527580148316</td>\n      <td>915529003</td>\n      <td>0.033439</td>\n      <td>2</td>\n      <td>105</td>\n      <td>0.0</td>\n      <td>8.0</td>\n      <td>915529</td>\n      <td>7046</td>\n      <td>...</td>\n      <td>0</td>\n      <td>1003</td>\n      <td>3</td>\n      <td>10909</td>\n      <td>1</td>\n      <td>1</td>\n      <td>0</td>\n      <td>1</td>\n      <td>60</td>\n      <td>96323</td>\n    </tr>\n    <tr>\n      <th>17991758</th>\n      <td>2020-09-21</td>\n      <td>18446737527580148316</td>\n      <td>915529005</td>\n      <td>0.033417</td>\n      <td>2</td>\n      <td>105</td>\n      <td>0.0</td>\n      <td>9.0</td>\n      <td>915529</td>\n      <td>7046</td>\n      <td>...</td>\n      <td>0</td>\n      <td>1003</td>\n      <td>3</td>\n      <td>10909</td>\n      <td>1</td>\n      <td>1</td>\n      <td>0</td>\n      <td>1</td>\n      <td>60</td>\n      <td>96323</td>\n    </tr>\n    <tr>\n      <th>17991759</th>\n      <td>2020-09-21</td>\n      <td>18446737527580148316</td>\n      <td>448509014</td>\n      <td>0.041630</td>\n      <td>2</td>\n      <td>105</td>\n      <td>0.0</td>\n      <td>10.0</td>\n      <td>448509</td>\n      <td>259</td>\n      <td>...</td>\n      <td>1</td>\n      <td>1009</td>\n      <td>5</td>\n      <td>255</td>\n      <td>1</td>\n      <td>1</td>\n      <td>0</td>\n      <td>1</td>\n      <td>60</td>\n      <td>96323</td>\n    </tr>\n    <tr>\n      <th>17991760</th>\n      <td>2020-09-21</td>\n      <td>18446737527580148316</td>\n      <td>762846027</td>\n      <td>0.025005</td>\n      <td>2</td>\n      <td>105</td>\n      <td>0.0</td>\n      <td>11.0</td>\n      <td>762846</td>\n      <td>472</td>\n      <td>...</td>\n      <td>7</td>\n      <td>1010</td>\n      <td>6</td>\n      <td>492</td>\n      <td>1</td>\n      <td>1</td>\n      <td>0</td>\n      <td>1</td>\n      <td>60</td>\n      <td>96323</td>\n    </tr>\n    <tr>\n      <th>17991761</th>\n      <td>2020-09-21</td>\n      <td>18446737527580148316</td>\n      <td>714790020</td>\n      <td>0.049951</td>\n      <td>2</td>\n      <td>105</td>\n      <td>0.0</td>\n      <td>12.0</td>\n      <td>714790</td>\n      <td>4354</td>\n      <td>...</td>\n      <td>37</td>\n      <td>1016</td>\n      <td>11</td>\n      <td>856</td>\n      <td>1</td>\n      <td>1</td>\n      <td>0</td>\n      <td>1</td>\n      <td>60</td>\n      <td>96323</td>\n    </tr>\n  </tbody>\n</table>\n<p>17991762 rows × 38 columns</p>\n</div>"
     },
     "execution_count": 209,
     "metadata": {},
     "output_type": "execute_result"
    }
   ],
   "source": [
    "data"
   ],
   "metadata": {
    "collapsed": false,
    "ExecuteTime": {
     "end_time": "2023-10-10T21:53:44.413548100Z",
     "start_time": "2023-10-10T21:53:42.439961800Z"
    }
   },
   "id": "7b97d33c5f411ea9"
  },
  {
   "cell_type": "code",
   "execution_count": 210,
   "outputs": [
    {
     "data": {
      "text/plain": "              t_dat           customer_id  article_id     price  \\\n29030503 2020-07-15       272412481300040   778064028  0.008458   \n29030504 2020-07-15       272412481300040   816592008  0.016932   \n29030505 2020-07-15       272412481300040   621381021  0.033881   \n29030506 2020-07-15       272412481300040   817477003  0.025407   \n29030507 2020-07-15       272412481300040   899088002  0.025407   \n...             ...                   ...         ...       ...   \n31774722 2020-09-22  18439937050817258297   891591003  0.084729   \n31774723 2020-09-22  18439937050817258297   869706005  0.084729   \n31779097 2020-09-22  18440902715633436014   918894002  0.016932   \n31779098 2020-09-22  18440902715633436014   761269001  0.016932   \n31780475 2020-09-22  18443633011701112574   914868002  0.033881   \n\n          sales_channel_id  week  purchased  \n29030503                 1    95          1  \n29030504                 1    95          1  \n29030505                 1    95          1  \n29030506                 1    95          1  \n29030507                 1    95          1  \n...                    ...   ...        ...  \n31774722                 2   104          1  \n31774723                 2   104          1  \n31779097                 1   104          1  \n31779098                 1   104          1  \n31780475                 1   104          1  \n\n[2762872 rows x 7 columns]",
      "text/html": "<div>\n<style scoped>\n    .dataframe tbody tr th:only-of-type {\n        vertical-align: middle;\n    }\n\n    .dataframe tbody tr th {\n        vertical-align: top;\n    }\n\n    .dataframe thead th {\n        text-align: right;\n    }\n</style>\n<table border=\"1\" class=\"dataframe\">\n  <thead>\n    <tr style=\"text-align: right;\">\n      <th></th>\n      <th>t_dat</th>\n      <th>customer_id</th>\n      <th>article_id</th>\n      <th>price</th>\n      <th>sales_channel_id</th>\n      <th>week</th>\n      <th>purchased</th>\n    </tr>\n  </thead>\n  <tbody>\n    <tr>\n      <th>29030503</th>\n      <td>2020-07-15</td>\n      <td>272412481300040</td>\n      <td>778064028</td>\n      <td>0.008458</td>\n      <td>1</td>\n      <td>95</td>\n      <td>1</td>\n    </tr>\n    <tr>\n      <th>29030504</th>\n      <td>2020-07-15</td>\n      <td>272412481300040</td>\n      <td>816592008</td>\n      <td>0.016932</td>\n      <td>1</td>\n      <td>95</td>\n      <td>1</td>\n    </tr>\n    <tr>\n      <th>29030505</th>\n      <td>2020-07-15</td>\n      <td>272412481300040</td>\n      <td>621381021</td>\n      <td>0.033881</td>\n      <td>1</td>\n      <td>95</td>\n      <td>1</td>\n    </tr>\n    <tr>\n      <th>29030506</th>\n      <td>2020-07-15</td>\n      <td>272412481300040</td>\n      <td>817477003</td>\n      <td>0.025407</td>\n      <td>1</td>\n      <td>95</td>\n      <td>1</td>\n    </tr>\n    <tr>\n      <th>29030507</th>\n      <td>2020-07-15</td>\n      <td>272412481300040</td>\n      <td>899088002</td>\n      <td>0.025407</td>\n      <td>1</td>\n      <td>95</td>\n      <td>1</td>\n    </tr>\n    <tr>\n      <th>...</th>\n      <td>...</td>\n      <td>...</td>\n      <td>...</td>\n      <td>...</td>\n      <td>...</td>\n      <td>...</td>\n      <td>...</td>\n    </tr>\n    <tr>\n      <th>31774722</th>\n      <td>2020-09-22</td>\n      <td>18439937050817258297</td>\n      <td>891591003</td>\n      <td>0.084729</td>\n      <td>2</td>\n      <td>104</td>\n      <td>1</td>\n    </tr>\n    <tr>\n      <th>31774723</th>\n      <td>2020-09-22</td>\n      <td>18439937050817258297</td>\n      <td>869706005</td>\n      <td>0.084729</td>\n      <td>2</td>\n      <td>104</td>\n      <td>1</td>\n    </tr>\n    <tr>\n      <th>31779097</th>\n      <td>2020-09-22</td>\n      <td>18440902715633436014</td>\n      <td>918894002</td>\n      <td>0.016932</td>\n      <td>1</td>\n      <td>104</td>\n      <td>1</td>\n    </tr>\n    <tr>\n      <th>31779098</th>\n      <td>2020-09-22</td>\n      <td>18440902715633436014</td>\n      <td>761269001</td>\n      <td>0.016932</td>\n      <td>1</td>\n      <td>104</td>\n      <td>1</td>\n    </tr>\n    <tr>\n      <th>31780475</th>\n      <td>2020-09-22</td>\n      <td>18443633011701112574</td>\n      <td>914868002</td>\n      <td>0.033881</td>\n      <td>1</td>\n      <td>104</td>\n      <td>1</td>\n    </tr>\n  </tbody>\n</table>\n<p>2762872 rows × 7 columns</p>\n</div>"
     },
     "execution_count": 210,
     "metadata": {},
     "output_type": "execute_result"
    }
   ],
   "source": [
    "transactions"
   ],
   "metadata": {
    "collapsed": false,
    "ExecuteTime": {
     "end_time": "2023-10-10T21:53:44.462575800Z",
     "start_time": "2023-10-10T21:53:44.386991200Z"
    }
   },
   "id": "f11dda33a0c8a88e"
  },
  {
   "cell_type": "code",
   "execution_count": 211,
   "id": "05114189",
   "metadata": {
    "execution": {
     "iopub.execute_input": "2022-04-16T17:00:17.808905Z",
     "iopub.status.busy": "2022-04-16T17:00:17.808208Z",
     "iopub.status.idle": "2022-04-16T17:00:24.463094Z",
     "shell.execute_reply": "2022-04-16T17:00:24.461914Z"
    },
    "papermill": {
     "duration": 6.711593,
     "end_time": "2022-04-16T17:00:24.465301",
     "exception": false,
     "start_time": "2022-04-16T17:00:17.753708",
     "status": "completed"
    },
    "tags": [],
    "ExecuteTime": {
     "end_time": "2023-10-10T21:53:48.609931300Z",
     "start_time": "2023-10-10T21:53:44.421549700Z"
    }
   },
   "outputs": [],
   "source": [
    "train = data[data.week != test_week]\n",
    "test = data[data.week==test_week].drop_duplicates(['customer_id', 'article_id', 'sales_channel_id']).copy()"
   ]
  },
  {
   "cell_type": "code",
   "execution_count": 212,
   "id": "d32dfd01",
   "metadata": {
    "execution": {
     "iopub.execute_input": "2022-04-16T17:00:24.578537Z",
     "iopub.status.busy": "2022-04-16T17:00:24.578242Z",
     "iopub.status.idle": "2022-04-16T17:00:25.553839Z",
     "shell.execute_reply": "2022-04-16T17:00:25.552462Z"
    },
    "papermill": {
     "duration": 1.036818,
     "end_time": "2022-04-16T17:00:25.556300",
     "exception": false,
     "start_time": "2022-04-16T17:00:24.519482",
     "status": "completed"
    },
    "tags": [],
    "ExecuteTime": {
     "end_time": "2023-10-10T21:53:49.270229700Z",
     "start_time": "2023-10-10T21:53:48.611437Z"
    }
   },
   "outputs": [],
   "source": [
    "# Train baskets\n",
    "train_baskets = train.groupby(['week', 'customer_id'])['article_id'].count().values"
   ]
  },
  {
   "cell_type": "code",
   "execution_count": 213,
   "id": "2b027da8",
   "metadata": {
    "execution": {
     "iopub.execute_input": "2022-04-16T17:00:25.679286Z",
     "iopub.status.busy": "2022-04-16T17:00:25.679019Z",
     "iopub.status.idle": "2022-04-16T17:00:25.684672Z",
     "shell.execute_reply": "2022-04-16T17:00:25.682706Z"
    },
    "papermill": {
     "duration": 0.070485,
     "end_time": "2022-04-16T17:00:25.687322",
     "exception": false,
     "start_time": "2022-04-16T17:00:25.616837",
     "status": "completed"
    },
    "tags": [],
    "ExecuteTime": {
     "end_time": "2023-10-10T21:53:49.299297700Z",
     "start_time": "2023-10-10T21:53:49.273749500Z"
    }
   },
   "outputs": [],
   "source": [
    "columns_to_use = ['article_id', 'product_type_no', 'graphical_appearance_no', 'colour_group_code', 'perceived_colour_value_id',\n",
    "'perceived_colour_master_id', 'department_no', 'index_code',\n",
    "'index_group_no', 'section_no', 'garment_group_no', 'FN', 'Active',\n",
    "'club_member_status', 'fashion_news_frequency', 'age', 'postal_code', 'bestseller_rank']"
   ]
  },
  {
   "cell_type": "code",
   "execution_count": 214,
   "id": "120aecab",
   "metadata": {
    "execution": {
     "iopub.execute_input": "2022-04-16T17:00:25.807133Z",
     "iopub.status.busy": "2022-04-16T17:00:25.806809Z",
     "iopub.status.idle": "2022-04-16T17:00:26.375884Z",
     "shell.execute_reply": "2022-04-16T17:00:26.374148Z"
    },
    "papermill": {
     "duration": 0.633318,
     "end_time": "2022-04-16T17:00:26.379109",
     "exception": false,
     "start_time": "2022-04-16T17:00:25.745791",
     "status": "completed"
    },
    "tags": [],
    "ExecuteTime": {
     "end_time": "2023-10-10T21:53:49.836085100Z",
     "start_time": "2023-10-10T21:53:49.607234Z"
    }
   },
   "outputs": [
    {
     "name": "stdout",
     "output_type": "stream",
     "text": [
      "CPU times: total: 344 ms\n",
      "Wall time: 523 ms\n"
     ]
    }
   ],
   "source": [
    "%%time\n",
    "\n",
    "train_X = train[columns_to_use]\n",
    "train_y = train['purchased']\n",
    "\n",
    "test_X = test[columns_to_use]"
   ]
  },
  {
   "cell_type": "markdown",
   "id": "82745ed2",
   "metadata": {
    "papermill": {
     "duration": 0.09573,
     "end_time": "2022-04-16T17:00:26.563647",
     "exception": false,
     "start_time": "2022-04-16T17:00:26.467917",
     "status": "completed"
    },
    "tags": []
   },
   "source": [
    "# Model training"
   ]
  },
  {
   "cell_type": "code",
   "execution_count": 215,
   "id": "1e949a9d",
   "metadata": {
    "execution": {
     "iopub.execute_input": "2022-04-16T17:00:26.745269Z",
     "iopub.status.busy": "2022-04-16T17:00:26.744826Z",
     "iopub.status.idle": "2022-04-16T17:00:27.951655Z",
     "shell.execute_reply": "2022-04-16T17:00:27.950478Z"
    },
    "papermill": {
     "duration": 1.297829,
     "end_time": "2022-04-16T17:00:27.954191",
     "exception": false,
     "start_time": "2022-04-16T17:00:26.656362",
     "status": "completed"
    },
    "tags": [],
    "ExecuteTime": {
     "end_time": "2023-10-10T21:53:49.875705800Z",
     "start_time": "2023-10-10T21:53:49.834087Z"
    }
   },
   "outputs": [],
   "source": [
    "from lightgbm.sklearn import LGBMRanker"
   ]
  },
  {
   "cell_type": "code",
   "execution_count": 216,
   "id": "cd60dded",
   "metadata": {
    "execution": {
     "iopub.execute_input": "2022-04-16T17:00:28.141811Z",
     "iopub.status.busy": "2022-04-16T17:00:28.141316Z",
     "iopub.status.idle": "2022-04-16T17:00:28.145183Z",
     "shell.execute_reply": "2022-04-16T17:00:28.144409Z"
    },
    "papermill": {
     "duration": 0.101059,
     "end_time": "2022-04-16T17:00:28.147805",
     "exception": false,
     "start_time": "2022-04-16T17:00:28.046746",
     "status": "completed"
    },
    "tags": [],
    "ExecuteTime": {
     "end_time": "2023-10-10T21:53:49.891331Z",
     "start_time": "2023-10-10T21:53:49.858114300Z"
    }
   },
   "outputs": [],
   "source": [
    "ranker = LGBMRanker(\n",
    "    objective=\"lambdarank\",\n",
    "    metric=\"ndcg\",\n",
    "    boosting_type=\"dart\",\n",
    "    n_estimators=1,\n",
    "    importance_type='gain',\n",
    "    verbose=10\n",
    ")"
   ]
  },
  {
   "cell_type": "code",
   "execution_count": 217,
   "id": "25f040a4",
   "metadata": {
    "execution": {
     "iopub.execute_input": "2022-04-16T17:00:28.325996Z",
     "iopub.status.busy": "2022-04-16T17:00:28.325629Z",
     "iopub.status.idle": "2022-04-16T17:00:39.300037Z",
     "shell.execute_reply": "2022-04-16T17:00:39.299296Z"
    },
    "papermill": {
     "duration": 11.066279,
     "end_time": "2022-04-16T17:00:39.301931",
     "exception": false,
     "start_time": "2022-04-16T17:00:28.235652",
     "status": "completed"
    },
    "tags": [],
    "ExecuteTime": {
     "end_time": "2023-10-10T21:53:53.821440600Z",
     "start_time": "2023-10-10T21:53:49.879703600Z"
    }
   },
   "outputs": [
    {
     "name": "stdout",
     "output_type": "stream",
     "text": [
      "[LightGBM] [Debug] Dataset::GetMultiBinFromSparseFeatures: sparse rate 0.848850\n",
      "[LightGBM] [Debug] Dataset::GetMultiBinFromAllFeatures: sparse rate 0.153099\n",
      "[LightGBM] [Debug] init for col-wise cost 0.150212 seconds, init for row-wise cost 0.229178 seconds\n",
      "[LightGBM] [Warning] Auto-choosing row-wise multi-threading, the overhead of testing was 0.231056 seconds.\n",
      "You can set `force_row_wise=true` to remove the overhead.\n",
      "And if memory is not enough, you can set `force_col_wise=true`.\n",
      "[LightGBM] [Debug] Using Dense Multi-Val Bin\n",
      "[LightGBM] [Info] Total Bins 1079\n",
      "[LightGBM] [Info] Number of data points in the train set: 11381612, number of used features: 18\n",
      "[LightGBM] [Debug] Trained a tree with leaves = 31 and depth = 12\n",
      "CPU times: total: 37.1 s\n",
      "Wall time: 3.66 s\n"
     ]
    }
   ],
   "source": [
    "%%time\n",
    "\n",
    "ranker = ranker.fit(\n",
    "    train_X,\n",
    "    train_y,\n",
    "    group=train_baskets,\n",
    ")"
   ]
  },
  {
   "cell_type": "code",
   "execution_count": 218,
   "id": "4b6b5a94",
   "metadata": {
    "execution": {
     "iopub.execute_input": "2022-04-16T17:00:39.450894Z",
     "iopub.status.busy": "2022-04-16T17:00:39.450610Z",
     "iopub.status.idle": "2022-04-16T17:00:39.464086Z",
     "shell.execute_reply": "2022-04-16T17:00:39.462437Z"
    },
    "papermill": {
     "duration": 0.107527,
     "end_time": "2022-04-16T17:00:39.466759",
     "exception": false,
     "start_time": "2022-04-16T17:00:39.359232",
     "status": "completed"
    },
    "tags": [],
    "ExecuteTime": {
     "end_time": "2023-10-10T21:53:53.822334800Z",
     "start_time": "2023-10-10T21:53:53.551747200Z"
    }
   },
   "outputs": [
    {
     "name": "stdout",
     "output_type": "stream",
     "text": [
      "bestseller_rank 0.9989805519216203\n",
      "age 0.00024136038957903926\n",
      "article_id 0.00017160828400263902\n",
      "garment_group_no 0.0001448188543340445\n",
      "department_no 9.637421875769266e-05\n",
      "product_type_no 9.014783292439592e-05\n",
      "section_no 7.067204716548531e-05\n",
      "postal_code 6.792197441369627e-05\n",
      "club_member_status 6.519780240033951e-05\n",
      "colour_group_code 5.358754121027148e-05\n",
      "perceived_colour_value_id 1.775913359216025e-05\n",
      "fashion_news_frequency 0.0\n",
      "Active 0.0\n",
      "FN 0.0\n",
      "index_code 0.0\n",
      "perceived_colour_master_id 0.0\n",
      "graphical_appearance_no 0.0\n",
      "index_group_no 0.0\n"
     ]
    }
   ],
   "source": [
    "for i in ranker.feature_importances_.argsort()[::-1]:\n",
    "    print(columns_to_use[i], ranker.feature_importances_[i]/ranker.feature_importances_.sum())"
   ]
  },
  {
   "cell_type": "markdown",
   "id": "00faf029",
   "metadata": {
    "papermill": {
     "duration": 0.056904,
     "end_time": "2022-04-16T17:00:39.580889",
     "exception": false,
     "start_time": "2022-04-16T17:00:39.523985",
     "status": "completed"
    },
    "tags": []
   },
   "source": [
    "# Calculate predictions"
   ]
  },
  {
   "cell_type": "code",
   "execution_count": 219,
   "id": "7e862846",
   "metadata": {
    "execution": {
     "iopub.execute_input": "2022-04-16T17:00:39.695315Z",
     "iopub.status.busy": "2022-04-16T17:00:39.694825Z",
     "iopub.status.idle": "2022-04-16T17:00:52.775003Z",
     "shell.execute_reply": "2022-04-16T17:00:52.773289Z"
    },
    "papermill": {
     "duration": 13.140874,
     "end_time": "2022-04-16T17:00:52.777866",
     "exception": false,
     "start_time": "2022-04-16T17:00:39.636992",
     "status": "completed"
    },
    "tags": [],
    "ExecuteTime": {
     "end_time": "2023-10-10T21:54:14.182874900Z",
     "start_time": "2023-10-10T21:53:53.576798900Z"
    }
   },
   "outputs": [
    {
     "name": "stdout",
     "output_type": "stream",
     "text": [
      "CPU times: total: 0 ns\n",
      "Wall time: 0 ns\n"
     ]
    }
   ],
   "source": [
    "%time\n",
    "\n",
    "test['preds'] = ranker.predict(test_X)\n",
    "\n",
    "c_id2predicted_article_ids = test \\\n",
    "    .sort_values(['customer_id', 'preds'], ascending=False) \\\n",
    "    .groupby('customer_id')['article_id'].apply(list).to_dict()\n",
    "\n",
    "bestsellers_last_week = \\\n",
    "    bestsellers_previous_week[bestsellers_previous_week.week == bestsellers_previous_week.week.max()]['article_id'].tolist()"
   ]
  },
  {
   "cell_type": "code",
   "execution_count": 220,
   "outputs": [
    {
     "data": {
      "text/plain": "[924243001,\n 924243002,\n 918522001,\n 923758001,\n 866731001,\n 909370001,\n 751471001,\n 915529003,\n 915529005,\n 448509014,\n 762846027,\n 714790020]"
     },
     "execution_count": 220,
     "metadata": {},
     "output_type": "execute_result"
    }
   ],
   "source": [
    "bestsellers_last_week"
   ],
   "metadata": {
    "collapsed": false,
    "ExecuteTime": {
     "end_time": "2023-10-10T21:54:14.201387800Z",
     "start_time": "2023-10-10T21:54:14.184875100Z"
    }
   },
   "id": "a988a9e6267040bc"
  },
  {
   "cell_type": "markdown",
   "id": "de045e98",
   "metadata": {
    "papermill": {
     "duration": 0.07093,
     "end_time": "2022-04-16T17:00:52.913143",
     "exception": false,
     "start_time": "2022-04-16T17:00:52.842213",
     "status": "completed"
    },
    "tags": []
   },
   "source": [
    "# Create submission"
   ]
  },
  {
   "cell_type": "code",
   "execution_count": 221,
   "id": "43e4fda7",
   "metadata": {
    "execution": {
     "iopub.execute_input": "2022-04-16T17:00:53.060085Z",
     "iopub.status.busy": "2022-04-16T17:00:53.058916Z",
     "iopub.status.idle": "2022-04-16T17:00:59.494984Z",
     "shell.execute_reply": "2022-04-16T17:00:59.493579Z"
    },
    "papermill": {
     "duration": 6.515044,
     "end_time": "2022-04-16T17:00:59.497708",
     "exception": false,
     "start_time": "2022-04-16T17:00:52.982664",
     "status": "completed"
    },
    "tags": [],
    "ExecuteTime": {
     "end_time": "2023-10-10T21:54:16.153316Z",
     "start_time": "2023-10-10T21:54:14.199384Z"
    }
   },
   "outputs": [],
   "source": [
    "sub = pd.read_csv('../../data/submissions/sample_submission.csv')"
   ]
  },
  {
   "cell_type": "code",
   "execution_count": 222,
   "outputs": [
    {
     "data": {
      "text/plain": "{28847241659200: [925246001,\n  924243001,\n  924243002,\n  918522001,\n  915529003,\n  915529005,\n  866731001,\n  909370001,\n  751471001,\n  448509014,\n  714790020,\n  923758001,\n  762846027],\n 41318098387474: [868879003,\n  924243002,\n  918522001,\n  924243001,\n  915529003,\n  915529005,\n  866731001,\n  909370001,\n  751471001,\n  448509014,\n  714790020,\n  923758001,\n  762846027],\n 116809474287335: [906305002,\n  924243001,\n  924243002,\n  918522001,\n  915529003,\n  915529005,\n  866731001,\n  909370001,\n  751471001,\n  448509014,\n  714790020,\n  923758001,\n  762846027],\n 200292573348128: [903861001,\n  924243001,\n  924243002,\n  918522001,\n  915529003,\n  915529005,\n  866731001,\n  909370001,\n  751471001,\n  448509014,\n  714790020,\n  923758001,\n  762846027],\n 248294615847351: [720504008,\n  337991001,\n  878987003,\n  471714002,\n  924243001,\n  924243002,\n  918522001,\n  915529003,\n  915529005,\n  866731001,\n  909370001,\n  751471001,\n  448509014,\n  714790020,\n  923758001,\n  762846027],\n 272412481300040: [923460002,\n  922381001,\n  921906005,\n  924243001,\n  924243002,\n  918522001,\n  915529003,\n  915529005,\n  866731001,\n  909370001,\n  751471001,\n  448509014,\n  714790020,\n  923758001,\n  762846027],\n 329094189075899: [821338004,\n  924243001,\n  924243002,\n  918522001,\n  915529003,\n  915529005,\n  866731001,\n  909370001,\n  751471001,\n  448509014,\n  714790020,\n  923758001,\n  762846027],\n 330092272649261: [800691016,\n  863937010,\n  863937003,\n  924243001,\n  924243002,\n  918522001,\n  915529003,\n  915529005,\n  866731001,\n  909370001,\n  751471001,\n  448509014,\n  714790020,\n  923758001,\n  762846027],\n 366493139417506: [859737004,\n  924243001,\n  924243002,\n  918522001,\n  915529003,\n  915529005,\n  866731001,\n  909370001,\n  751471001,\n  448509014,\n  714790020,\n  923758001,\n  762846027],\n 375055163245029: [859105003,\n  716672014,\n  924243001,\n  924243002,\n  918522001,\n  915529003,\n  915529005,\n  866731001,\n  909370001,\n  751471001,\n  448509014,\n  714790020,\n  923758001,\n  762846027],\n 519262836338427: [804992016,\n  852584006,\n  924243001,\n  924243002,\n  918522001,\n  915529003,\n  915529005,\n  866731001,\n  909370001,\n  751471001,\n  448509014,\n  714790020,\n  923758001,\n  762846027],\n 649760207043851: [696587001,\n  869198003,\n  878502001,\n  554450036,\n  924243001,\n  924243002,\n  918522001,\n  915529003,\n  915529005,\n  866731001,\n  909370001,\n  751471001,\n  448509014,\n  714790020,\n  923758001,\n  762846027],\n 690285180337957: [915529001,\n  924243002,\n  918522001,\n  924243001,\n  915529005,\n  915529003,\n  866731001,\n  909370001,\n  751471001,\n  448509014,\n  714790020,\n  923758001,\n  762846027],\n 736218475114453: [824341001,\n  854021001,\n  783978008,\n  924243001,\n  924243002,\n  918522001,\n  915529003,\n  915529005,\n  866731001,\n  909370001,\n  751471001,\n  448509014,\n  714790020,\n  923758001,\n  762846027],\n 745180086074610: [867948001,\n  929603002,\n  841668001,\n  817416001,\n  372860002,\n  924243001,\n  924243002,\n  918522001,\n  915529003,\n  915529005,\n  866731001,\n  909370001,\n  751471001,\n  448509014,\n  714790020,\n  923758001,\n  762846027],\n 762483386043116: [826209001,\n  529589001,\n  878479001,\n  924243001,\n  924243002,\n  918522001,\n  915529003,\n  915529005,\n  866731001,\n  909370001,\n  751471001,\n  448509014,\n  714790020,\n  923758001,\n  762846027],\n 805095543045062: [859737002,\n  924243001,\n  924243002,\n  918522001,\n  915529003,\n  915529005,\n  866731001,\n  909370001,\n  751471001,\n  448509014,\n  714790020,\n  923758001,\n  762846027],\n 857913002275398: [636207006,\n  863456003,\n  924243001,\n  924243002,\n  918522001,\n  915529003,\n  915529005,\n  866731001,\n  909370001,\n  751471001,\n  448509014,\n  714790020,\n  923758001,\n  762846027],\n 879819981624203: [562245062,\n  794468001,\n  695632001,\n  690933005,\n  810908001,\n  924243001,\n  924243002,\n  918522001,\n  915529003,\n  915529005,\n  866731001,\n  909370001,\n  751471001,\n  448509014,\n  714790020,\n  923758001,\n  762846027],\n 964326548579219: [898596001,\n  768912001,\n  759814010,\n  818768001,\n  821395005,\n  523490007,\n  855507001,\n  924243001,\n  924243002,\n  918522001,\n  915529003,\n  915529005,\n  866731001,\n  909370001,\n  751471001,\n  448509014,\n  714790020,\n  923758001,\n  762846027],\n 1037449031262554: [857621001,\n  924243001,\n  924243002,\n  918522001,\n  915529003,\n  915529005,\n  866731001,\n  909370001,\n  751471001,\n  448509014,\n  714790020,\n  923758001,\n  762846027],\n 1083424902212452: [918591002,\n  850259001,\n  787481002,\n  924243001,\n  924243002,\n  918522001,\n  915529003,\n  915529005,\n  866731001,\n  909370001,\n  751471001,\n  448509014,\n  714790020,\n  923758001,\n  762846027],\n 1112426114951896: [904734001,\n  893730001,\n  762846029,\n  754238023,\n  924243001,\n  924243002,\n  918522001,\n  915529003,\n  915529005,\n  866731001,\n  909370001,\n  751471001,\n  448509014,\n  714790020,\n  923758001,\n  762846027],\n 1134266496627188: [878725003,\n  924243001,\n  924243002,\n  918522001,\n  915529003,\n  915529005,\n  866731001,\n  909370001,\n  751471001,\n  448509014,\n  714790020,\n  923758001,\n  762846027],\n 1152192358796555: [786304001,\n  924243001,\n  924243002,\n  918522001,\n  915529003,\n  915529005,\n  866731001,\n  909370001,\n  751471001,\n  448509014,\n  714790020,\n  923758001,\n  762846027],\n 1195818762005827: [656048001,\n  924243001,\n  924243002,\n  918522001,\n  915529003,\n  915529005,\n  866731001,\n  909370001,\n  751471001,\n  448509014,\n  714790020,\n  923758001,\n  762846027],\n 1200402310946735: [909912001,\n  909911001,\n  924243001,\n  924243002,\n  918522001,\n  915529003,\n  915529005,\n  866731001,\n  909370001,\n  751471001,\n  448509014,\n  714790020,\n  923758001,\n  762846027],\n 1219588721247131: [915412002,\n  655784001,\n  924243002,\n  918522001,\n  924243001,\n  915529003,\n  915529005,\n  866731001,\n  909370001,\n  751471001,\n  448509014,\n  714790020,\n  923758001,\n  762846027],\n 1289455304111298: [898694001,\n  891591003,\n  875105003,\n  825437001,\n  924243001,\n  924243002,\n  918522001,\n  915529003,\n  915529005,\n  866731001,\n  909370001,\n  751471001,\n  448509014,\n  714790020,\n  923758001,\n  762846027],\n 1292700965481018: [874116005,\n  924243001,\n  924243002,\n  918522001,\n  915529003,\n  915529005,\n  866731001,\n  909370001,\n  751471001,\n  448509014,\n  714790020,\n  923758001,\n  762846027],\n 1296218836199721: [855080002,\n  903306004,\n  786187005,\n  843793004,\n  924243001,\n  924243002,\n  918522001,\n  915529003,\n  915529005,\n  866731001,\n  909370001,\n  751471001,\n  448509014,\n  714790020,\n  923758001,\n  762846027],\n 1314347101144697: [740922001,\n  828067001,\n  924243001,\n  924243002,\n  918522001,\n  915529003,\n  915529005,\n  866731001,\n  909370001,\n  751471001,\n  448509014,\n  714790020,\n  923758001,\n  762846027],\n 1394073833551710: [916468001,\n  924243001,\n  924243002,\n  918522001,\n  915529003,\n  915529005,\n  866731001,\n  909370001,\n  751471001,\n  448509014,\n  714790020,\n  923758001,\n  762846027],\n 1402273113592184: [885951001,\n  611415001,\n  924243001,\n  924243002,\n  918522001,\n  915529003,\n  915529005,\n  866731001,\n  909370001,\n  751471001,\n  448509014,\n  714790020,\n  923758001,\n  762846027],\n 1428037123270201: [688537010,\n  924243001,\n  924243002,\n  918522001,\n  915529003,\n  915529005,\n  866731001,\n  909370001,\n  751471001,\n  448509014,\n  714790020,\n  923758001,\n  762846027],\n 1456826891333599: [766346008,\n  924243001,\n  924243002,\n  918522001,\n  915529003,\n  915529005,\n  866731001,\n  909370001,\n  751471001,\n  448509014,\n  714790020,\n  923758001,\n  762846027],\n 1520973890714130: [685813005,\n  790686001,\n  584298037,\n  884754001,\n  699923115,\n  924243001,\n  924243002,\n  918522001,\n  915529003,\n  915529005,\n  866731001,\n  909370001,\n  751471001,\n  448509014,\n  714790020,\n  923758001,\n  762846027],\n 1563099511359960: [743633001,\n  924243001,\n  924243002,\n  918522001,\n  915529003,\n  915529005,\n  866731001,\n  909370001,\n  751471001,\n  448509014,\n  714790020,\n  923758001,\n  762846027],\n 1568442144675645: [621073001,\n  924243001,\n  924243002,\n  918522001,\n  915529003,\n  915529005,\n  866731001,\n  909370001,\n  751471001,\n  448509014,\n  714790020,\n  923758001,\n  762846027],\n 1667805948360801: [928995001,\n  924243001,\n  924243002,\n  918522001,\n  915529003,\n  915529005,\n  866731001,\n  909370001,\n  751471001,\n  448509014,\n  714790020,\n  923758001,\n  762846027],\n 1728846800780188: [860985001,\n  301656013,\n  767799016,\n  878510004,\n  768759007,\n  820483001,\n  870304002,\n  924243002,\n  918522001,\n  924243001,\n  915529003,\n  915529005,\n  866731001,\n  909370001,\n  751471001,\n  448509014,\n  714790020,\n  923758001,\n  762846027],\n 1773900972412728: [599580072,\n  924243001,\n  924243002,\n  918522001,\n  915529003,\n  915529005,\n  866731001,\n  909370001,\n  751471001,\n  448509014,\n  714790020,\n  923758001,\n  762846027],\n 1827730561464445: [921380001,\n  918603001,\n  924243001,\n  924243002,\n  918522001,\n  915529003,\n  915529005,\n  866731001,\n  909370001,\n  751471001,\n  448509014,\n  714790020,\n  923758001,\n  762846027],\n 1830503753738904: [861803014,\n  924243001,\n  924243002,\n  918522001,\n  915529003,\n  915529005,\n  866731001,\n  909370001,\n  751471001,\n  448509014,\n  714790020,\n  923758001,\n  762846027],\n 1905990147027598: [918292004,\n  918292001,\n  905957007,\n  861803009,\n  825318008,\n  924243001,\n  924243002,\n  918522001,\n  915529003,\n  915529005,\n  866731001,\n  909370001,\n  751471001,\n  448509014,\n  714790020,\n  923758001,\n  762846027],\n 1920259137295167: [931437001,\n  716672018,\n  924243001,\n  924243002,\n  918522001,\n  915529003,\n  915529005,\n  866731001,\n  909370001,\n  751471001,\n  448509014,\n  714790020,\n  923758001,\n  762846027],\n 1951136007097426: [778745010,\n  924243001,\n  924243002,\n  918522001,\n  915529003,\n  915529005,\n  866731001,\n  909370001,\n  751471001,\n  448509014,\n  714790020,\n  923758001,\n  762846027],\n 2059722054851309: [557994014,\n  924243001,\n  924243002,\n  918522001,\n  915529003,\n  915529005,\n  866731001,\n  909370001,\n  751471001,\n  448509014,\n  714790020,\n  923758001,\n  762846027],\n 2133687643102426: [843642001,\n  924243001,\n  924243002,\n  918522001,\n  915529003,\n  915529005,\n  866731001,\n  909370001,\n  751471001,\n  448509014,\n  714790020,\n  923758001,\n  762846027],\n 2231838139078336: [864415002,\n  924243002,\n  918522001,\n  924243001,\n  915529003,\n  915529005,\n  866731001,\n  909370001,\n  751471001,\n  448509014,\n  714790020,\n  923758001,\n  762846027],\n 2233272389852145: [936862001,\n  707269007,\n  858147005,\n  858147006,\n  857280001,\n  924243001,\n  924243002,\n  918522001,\n  915529003,\n  915529005,\n  866731001,\n  909370001,\n  751471001,\n  448509014,\n  714790020,\n  923758001,\n  762846027],\n 2269114073915007: [810777003,\n  810777001,\n  876416001,\n  806192002,\n  810777004,\n  924243001,\n  924243002,\n  918522001,\n  915529003,\n  915529005,\n  866731001,\n  909370001,\n  751471001,\n  448509014,\n  714790020,\n  923758001,\n  762846027],\n 2269719878901327: [814224002,\n  892624003,\n  924243001,\n  924243002,\n  918522001,\n  915529003,\n  915529005,\n  866731001,\n  909370001,\n  751471001,\n  448509014,\n  714790020,\n  923758001,\n  762846027],\n 2319521627154817: [874819001,\n  863595006,\n  863595005,\n  924243001,\n  924243002,\n  918522001,\n  915529003,\n  915529005,\n  866731001,\n  909370001,\n  751471001,\n  448509014,\n  714790020,\n  923758001,\n  762846027],\n 2386832054660145: [777099001,\n  706016038,\n  697564010,\n  852219001,\n  706016003,\n  924243001,\n  924243002,\n  918522001,\n  915529003,\n  915529005,\n  866731001,\n  909370001,\n  751471001,\n  448509014,\n  714790020,\n  923758001,\n  762846027],\n 2401369175358825: [924243001,\n  924243002,\n  918522001,\n  915529003,\n  915529005,\n  866731001,\n  909370001,\n  751471001,\n  448509014,\n  714790020,\n  923758001,\n  762846027],\n 2416804118419582: [634541003,\n  864116002,\n  863665004,\n  924243001,\n  924243002,\n  918522001,\n  915529003,\n  915529005,\n  866731001,\n  909370001,\n  751471001,\n  448509014,\n  714790020,\n  923758001,\n  762846027],\n 2438179403411693: [470789019,\n  631536027,\n  924243001,\n  924243002,\n  918522001,\n  915529003,\n  915529005,\n  866731001,\n  909370001,\n  751471001,\n  448509014,\n  714790020,\n  923758001,\n  762846027],\n 2446398977556096: [802980001,\n  776237021,\n  924243001,\n  924243002,\n  918522001,\n  915529003,\n  915529005,\n  866731001,\n  909370001,\n  751471001,\n  448509014,\n  714790020,\n  923758001,\n  762846027],\n 2449251199165773: [910701001,\n  924243002,\n  918522001,\n  924243001,\n  915529003,\n  915529005,\n  866731001,\n  909370001,\n  751471001,\n  448509014,\n  714790020,\n  923758001,\n  762846027],\n 2450580176925318: [862482001,\n  924243002,\n  918522001,\n  924243001,\n  915529003,\n  915529005,\n  866731001,\n  909370001,\n  751471001,\n  448509014,\n  714790020,\n  923758001,\n  762846027],\n 2468546290291055: [941005005,\n  916468003,\n  931437001,\n  830016003,\n  892254001,\n  924243001,\n  924243002,\n  918522001,\n  915529003,\n  915529005,\n  866731001,\n  909370001,\n  751471001,\n  448509014,\n  714790020,\n  923758001,\n  762846027],\n 2622543914066014: [868680001,\n  875469007,\n  924243001,\n  924243002,\n  918522001,\n  915529003,\n  915529005,\n  866731001,\n  909370001,\n  751471001,\n  448509014,\n  714790020,\n  923758001,\n  762846027],\n 2624916051502546: [875239006,\n  844294002,\n  924243002,\n  918522001,\n  924243001,\n  915529003,\n  915529005,\n  866731001,\n  909370001,\n  751471001,\n  448509014,\n  714790020,\n  923758001,\n  762846027],\n 2639747769247776: [819547001,\n  924243001,\n  924243002,\n  918522001,\n  915529003,\n  915529005,\n  866731001,\n  909370001,\n  751471001,\n  448509014,\n  714790020,\n  923758001,\n  762846027],\n 2682073615320827: [879796001,\n  879298003,\n  767605016,\n  924243001,\n  924243002,\n  918522001,\n  915529003,\n  915529005,\n  866731001,\n  909370001,\n  751471001,\n  448509014,\n  714790020,\n  923758001,\n  762846027],\n 2772715383573235: [608943015,\n  564310038,\n  864953001,\n  881698003,\n  878987006,\n  881698004,\n  836997001,\n  570033020,\n  608943027,\n  924243001,\n  924243002,\n  918522001,\n  915529003,\n  915529005,\n  866731001,\n  909370001,\n  751471001,\n  448509014,\n  714790020,\n  923758001,\n  762846027],\n 2779856800550577: [864513006,\n  832458002,\n  831269001,\n  189626001,\n  759482003,\n  924243001,\n  924243002,\n  918522001,\n  915529003,\n  915529005,\n  866731001,\n  909370001,\n  751471001,\n  448509014,\n  714790020,\n  923758001,\n  762846027],\n 2916865100647462: [497640002,\n  924243002,\n  918522001,\n  924243001,\n  915529003,\n  915529005,\n  866731001,\n  909370001,\n  751471001,\n  448509014,\n  714790020,\n  923758001,\n  762846027],\n 3006707513994309: [739590032,\n  924243001,\n  924243002,\n  918522001,\n  915529003,\n  915529005,\n  866731001,\n  909370001,\n  751471001,\n  448509014,\n  714790020,\n  923758001,\n  762846027],\n 3012637963222661: [436083001,\n  924243001,\n  924243002,\n  918522001,\n  915529003,\n  915529005,\n  866731001,\n  909370001,\n  751471001,\n  448509014,\n  714790020,\n  923758001,\n  762846027],\n 3030245210403714: [896506001,\n  924243001,\n  924243002,\n  918522001,\n  915529003,\n  915529005,\n  866731001,\n  909370001,\n  751471001,\n  448509014,\n  714790020,\n  923758001,\n  762846027],\n 3043965109297255: [870525008,\n  850877001,\n  924243001,\n  924243002,\n  918522001,\n  915529003,\n  915529005,\n  866731001,\n  909370001,\n  751471001,\n  448509014,\n  714790020,\n  923758001,\n  762846027],\n 3050367810001883: [816832001,\n  901330002,\n  924243002,\n  918522001,\n  924243001,\n  915529003,\n  915529005,\n  866731001,\n  909370001,\n  751471001,\n  448509014,\n  714790020,\n  923758001,\n  762846027],\n 3105954019533919: [882900008,\n  924243001,\n  924243002,\n  918522001,\n  915529003,\n  915529005,\n  866731001,\n  909370001,\n  751471001,\n  448509014,\n  714790020,\n  923758001,\n  762846027],\n 3145515554973885: [731520005,\n  924243001,\n  924243002,\n  918522001,\n  915529003,\n  915529005,\n  866731001,\n  909370001,\n  751471001,\n  448509014,\n  714790020,\n  923758001,\n  762846027],\n 3177658828628418: [869331006,\n  924243001,\n  924243002,\n  918522001,\n  915529003,\n  915529005,\n  866731001,\n  909370001,\n  751471001,\n  448509014,\n  714790020,\n  923758001,\n  762846027],\n 3204013276717965: [781613006,\n  893432005,\n  908728002,\n  929001001,\n  898889001,\n  921906005,\n  906633001,\n  908728003,\n  896169005,\n  805947006,\n  871519008,\n  924243001,\n  924243002,\n  918522001,\n  915529003,\n  915529005,\n  866731001,\n  909370001,\n  751471001,\n  714790020,\n  448509014,\n  923758001,\n  762846027],\n 3242652325459841: [278811011,\n  924243001,\n  924243002,\n  918522001,\n  915529003,\n  915529005,\n  866731001,\n  909370001,\n  751471001,\n  448509014,\n  714790020,\n  923758001,\n  762846027],\n 3294889982371161: [706271030,\n  733067001,\n  924243001,\n  924243002,\n  918522001,\n  915529003,\n  915529005,\n  866731001,\n  909370001,\n  751471001,\n  448509014,\n  714790020,\n  923758001,\n  762846027],\n 3479232611267527: [307239004,\n  924243002,\n  918522001,\n  924243001,\n  915529003,\n  915529005,\n  866731001,\n  909370001,\n  751471001,\n  448509014,\n  714790020,\n  923758001,\n  762846027],\n 3493514744159381: [863583002,\n  924243001,\n  924243002,\n  918522001,\n  915529003,\n  915529005,\n  866731001,\n  909370001,\n  751471001,\n  448509014,\n  714790020,\n  923758001,\n  762846027],\n 3559630883717575: [701046002,\n  845699001,\n  599580046,\n  832298002,\n  811835002,\n  924243001,\n  924243002,\n  918522001,\n  915529003,\n  915529005,\n  866731001,\n  909370001,\n  751471001,\n  448509014,\n  714790020,\n  923758001,\n  762846027],\n 3605879901368591: [899247005,\n  818031002,\n  924243001,\n  924243002,\n  918522001,\n  915529003,\n  915529005,\n  866731001,\n  909370001,\n  751471001,\n  448509014,\n  714790020,\n  923758001,\n  762846027],\n 3614186638088096: [822311001,\n  807174001,\n  924243001,\n  924243002,\n  918522001,\n  915529003,\n  915529005,\n  866731001,\n  909370001,\n  751471001,\n  448509014,\n  714790020,\n  923758001,\n  762846027],\n 3647447754659344: [896229002,\n  805947003,\n  717464002,\n  812668001,\n  924243001,\n  924243002,\n  918522001,\n  915529003,\n  915529005,\n  866731001,\n  909370001,\n  751471001,\n  448509014,\n  714790020,\n  923758001,\n  762846027],\n 3654605268440048: [851110003,\n  816588005,\n  881577001,\n  867205002,\n  924243001,\n  924243002,\n  918522001,\n  915529003,\n  915529005,\n  866731001,\n  909370001,\n  751471001,\n  448509014,\n  714790020,\n  923758001,\n  762846027],\n 3725161734497764: [876009005,\n  835542003,\n  924243001,\n  924243002,\n  918522001,\n  915529003,\n  915529005,\n  866731001,\n  909370001,\n  751471001,\n  448509014,\n  714790020,\n  923758001,\n  762846027],\n 3746429252252424: [927936001,\n  933032002,\n  788575004,\n  788328005,\n  797988005,\n  889550002,\n  888570001,\n  812167002,\n  924243001,\n  924243002,\n  918522001,\n  915529003,\n  915529005,\n  866731001,\n  909370001,\n  751471001,\n  448509014,\n  714790020,\n  923758001,\n  762846027],\n 3763185763273638: [506098006,\n  711649004,\n  892643002,\n  810557001,\n  924243001,\n  924243002,\n  918522001,\n  915529003,\n  915529005,\n  866731001,\n  909370001,\n  751471001,\n  448509014,\n  714790020,\n  923758001,\n  762846027],\n 3809969648942700: [907409001,\n  924243001,\n  924243002,\n  918522001,\n  915529003,\n  915529005,\n  866731001,\n  909370001,\n  751471001,\n  448509014,\n  714790020,\n  923758001,\n  762846027],\n 3828854365940846: [910132001,\n  736870017,\n  768912001,\n  924243001,\n  924243002,\n  918522001,\n  915529003,\n  915529005,\n  866731001,\n  909370001,\n  751471001,\n  448509014,\n  714790020,\n  923758001,\n  762846027],\n 3840758466333684: [908230001,\n  610776002,\n  711053005,\n  301656026,\n  924243001,\n  924243002,\n  918522001,\n  915529003,\n  915529005,\n  866731001,\n  909370001,\n  751471001,\n  448509014,\n  714790020,\n  923758001,\n  762846027],\n 3992044661449679: [678942054,\n  795836005,\n  770315007,\n  924243001,\n  924243002,\n  918522001,\n  915529003,\n  915529005,\n  866731001,\n  909370001,\n  751471001,\n  448509014,\n  714790020,\n  923758001,\n  762846027],\n 4084512429949764: [717490070,\n  888945002,\n  875329001,\n  864040001,\n  875329002,\n  717490057,\n  924243001,\n  924243002,\n  918522001,\n  915529003,\n  915529005,\n  866731001,\n  909370001,\n  751471001,\n  448509014,\n  714790020,\n  923758001,\n  762846027],\n 4125270926874550: [685814033,\n  924243001,\n  924243002,\n  918522001,\n  915529003,\n  915529005,\n  866731001,\n  909370001,\n  751471001,\n  448509014,\n  714790020,\n  923758001,\n  762846027],\n 4169584561824431: [783346020,\n  884174003,\n  826508003,\n  924243001,\n  924243002,\n  918522001,\n  915529003,\n  915529005,\n  866731001,\n  909370001,\n  751471001,\n  448509014,\n  714790020,\n  923758001,\n  762846027],\n 4181258700444159: [911870009,\n  924243001,\n  924243002,\n  918522001,\n  915529003,\n  915529005,\n  866731001,\n  909370001,\n  751471001,\n  448509014,\n  714790020,\n  923758001,\n  762846027],\n 4195624216542755: [832036003,\n  809961002,\n  924243002,\n  918522001,\n  924243001,\n  915529003,\n  915529005,\n  866731001,\n  909370001,\n  751471001,\n  448509014,\n  714790020,\n  923758001,\n  762846027],\n 4225103720156199: [699080001,\n  776237031,\n  806225002,\n  811835009,\n  776237020,\n  688537011,\n  924243001,\n  924243002,\n  918522001,\n  915529003,\n  915529005,\n  866731001,\n  909370001,\n  751471001,\n  448509014,\n  714790020,\n  923758001,\n  762846027],\n 4233235614030232: [921096004,\n  861848004,\n  924243002,\n  918522001,\n  924243001,\n  915529003,\n  915529005,\n  866731001,\n  909370001,\n  751471001,\n  448509014,\n  714790020,\n  923758001,\n  762846027],\n 4304339643165867: [924243001,\n  924243002,\n  918522001,\n  915529003,\n  915529005,\n  866731001,\n  909370001,\n  751471001,\n  448509014,\n  714790020,\n  923758001,\n  762846027],\n 4351920453124839: [678942059,\n  869811005,\n  924243001,\n  924243002,\n  918522001,\n  915529003,\n  915529005,\n  866731001,\n  909370001,\n  751471001,\n  448509014,\n  714790020,\n  923758001,\n  762846027],\n 4380278954532948: [833530003,\n  833499003,\n  924243001,\n  924243002,\n  918522001,\n  915529003,\n  915529005,\n  866731001,\n  909370001,\n  751471001,\n  448509014,\n  714790020,\n  923758001,\n  762846027],\n 4563203946496378: [921266001,\n  921298001,\n  912579002,\n  921298003,\n  711053003,\n  776179006,\n  776179001,\n  751664001,\n  924243001,\n  924243002,\n  918522001,\n  915529003,\n  915529005,\n  866731001,\n  909370001,\n  751471001,\n  448509014,\n  714790020,\n  923758001,\n  762846027],\n 4575678652945019: [793506017,\n  924243001,\n  924243002,\n  918522001,\n  915529003,\n  915529005,\n  866731001,\n  909370001,\n  751471001,\n  448509014,\n  714790020,\n  923758001,\n  762846027],\n 4632262494350126: [775382001,\n  810169002,\n  924243001,\n  924243002,\n  918522001,\n  915529003,\n  915529005,\n  866731001,\n  909370001,\n  751471001,\n  448509014,\n  714790020,\n  923758001,\n  762846027],\n 4660285420023309: [928088001,\n  921646001,\n  803757014,\n  829643005,\n  924243001,\n  924243002,\n  918522001,\n  915529003,\n  915529005,\n  866731001,\n  909370001,\n  751471001,\n  448509014,\n  714790020,\n  923758001,\n  762846027],\n 4778587479394219: [784053001,\n  818754004,\n  873657001,\n  924243001,\n  924243002,\n  918522001,\n  915529003,\n  915529005,\n  866731001,\n  909370001,\n  751471001,\n  448509014,\n  714790020,\n  923758001,\n  762846027],\n 4794838890467572: [851780002,\n  857574002,\n  730013006,\n  924243001,\n  924243002,\n  918522001,\n  915529003,\n  915529005,\n  866731001,\n  909370001,\n  751471001,\n  448509014,\n  714790020,\n  923758001,\n  762846027],\n 4796430432527999: [762846008,\n  890453001,\n  579541087,\n  706016029,\n  793137007,\n  862482007,\n  770315005,\n  732017001,\n  927922001,\n  924243001,\n  924243002,\n  918522001,\n  915529003,\n  915529005,\n  866731001,\n  909370001,\n  751471001,\n  448509014,\n  714790020,\n  923758001,\n  762846027],\n 4860072350195228: [879248008,\n  924243001,\n  918522001,\n  924243002,\n  915529003,\n  915529005,\n  866731001,\n  909370001,\n  751471001,\n  448509014,\n  714790020,\n  923758001,\n  762846027],\n 4904486850789192: [237347059,\n  889828001,\n  889828005,\n  717816001,\n  768912001,\n  768931002,\n  540701003,\n  787946002,\n  596877005,\n  785060003,\n  924243001,\n  924243002,\n  918522001,\n  915529003,\n  915529005,\n  866731001,\n  909370001,\n  751471001,\n  448509014,\n  714790020,\n  923758001,\n  762846027],\n 4920151714340210: [568601044,\n  564358058,\n  779781013,\n  715828013,\n  673677026,\n  884319003,\n  843465004,\n  810591002,\n  924243001,\n  924243002,\n  918522001,\n  915529003,\n  915529005,\n  866731001,\n  909370001,\n  751471001,\n  448509014,\n  714790020,\n  923758001,\n  762846027],\n 4944654935373381: [911552001,\n  802153002,\n  872645001,\n  763858001,\n  924243001,\n  924243002,\n  918522001,\n  915529003,\n  915529005,\n  866731001,\n  909370001,\n  751471001,\n  448509014,\n  714790020,\n  923758001,\n  762846027],\n 4971219767586993: [912100003,\n  706016003,\n  884319005,\n  842724003,\n  884319001,\n  924243002,\n  918522001,\n  924243001,\n  915529003,\n  915529005,\n  866731001,\n  909370001,\n  751471001,\n  448509014,\n  714790020,\n  923758001,\n  762846027],\n 5027918474929583: [871997001,\n  924243002,\n  918522001,\n  924243001,\n  915529003,\n  915529005,\n  866731001,\n  909370001,\n  751471001,\n  448509014,\n  714790020,\n  923758001,\n  762846027],\n 5042773001244162: [851110002,\n  683413003,\n  825720002,\n  825585007,\n  821746001,\n  360950016,\n  924243001,\n  924243002,\n  918522001,\n  915529003,\n  915529005,\n  866731001,\n  909370001,\n  751471001,\n  448509014,\n  714790020,\n  923758001,\n  762846027],\n 5082210391606505: [594987024,\n  610776103,\n  924243002,\n  918522001,\n  924243001,\n  915529003,\n  915529005,\n  866731001,\n  909370001,\n  751471001,\n  448509014,\n  714790020,\n  923758001,\n  762846027],\n 5128251106358033: [860249001,\n  554598003,\n  816686004,\n  826033004,\n  573085044,\n  924243001,\n  924243002,\n  918522001,\n  915529003,\n  915529005,\n  866731001,\n  909370001,\n  751471001,\n  448509014,\n  714790020,\n  923758001,\n  762846027],\n 5140543703930900: [739590032,\n  823505001,\n  924243001,\n  924243002,\n  918522001,\n  915529003,\n  915529005,\n  866731001,\n  909370001,\n  751471001,\n  448509014,\n  714790020,\n  923758001,\n  762846027],\n 5198527692046577: [737221010,\n  924243001,\n  924243002,\n  918522001,\n  915529003,\n  915529005,\n  866731001,\n  909370001,\n  751471001,\n  448509014,\n  714790020,\n  923758001,\n  762846027],\n 5244835037570819: [858856005,\n  924243001,\n  924243002,\n  918522001,\n  915529003,\n  915529005,\n  866731001,\n  909370001,\n  751471001,\n  448509014,\n  714790020,\n  923758001,\n  762846027],\n 5290345363409456: [887681003,\n  860797001,\n  924243001,\n  924243002,\n  918522001,\n  915529003,\n  915529005,\n  866731001,\n  909370001,\n  751471001,\n  448509014,\n  714790020,\n  923758001,\n  762846027],\n 5328749145010037: [900659003,\n  803969009,\n  832036002,\n  850259004,\n  871655001,\n  694848003,\n  824409002,\n  841298001,\n  924243002,\n  918522001,\n  924243001,\n  915529003,\n  915529005,\n  866731001,\n  909370001,\n  751471001,\n  448509014,\n  714790020,\n  923758001,\n  762846027],\n 5346889309562689: [678942054,\n  664074059,\n  711053007,\n  924243002,\n  918522001,\n  924243001,\n  915529003,\n  915529005,\n  866731001,\n  909370001,\n  751471001,\n  448509014,\n  714790020,\n  923758001,\n  762846027],\n 5393534187094196: [160442007,\n  160442010,\n  892079001,\n  924243001,\n  924243002,\n  918522001,\n  915529003,\n  915529005,\n  866731001,\n  909370001,\n  751471001,\n  448509014,\n  714790020,\n  923758001,\n  762846027],\n 5395020276513349: [808748003,\n  856995001,\n  924243001,\n  924243002,\n  918522001,\n  915529003,\n  915529005,\n  866731001,\n  909370001,\n  751471001,\n  448509014,\n  714790020,\n  923758001,\n  762846027],\n 5451332733549966: [925124001,\n  783517006,\n  852442002,\n  924243001,\n  924243002,\n  918522001,\n  915529003,\n  915529005,\n  866731001,\n  909370001,\n  751471001,\n  448509014,\n  714790020,\n  923758001,\n  762846027],\n 5474139543167571: [850917001,\n  924243002,\n  918522001,\n  924243001,\n  915529003,\n  915529005,\n  866731001,\n  909370001,\n  751471001,\n  448509014,\n  714790020,\n  923758001,\n  762846027],\n 5516875079897479: [783707067,\n  751994016,\n  783707082,\n  720577025,\n  924243001,\n  924243002,\n  918522001,\n  915529003,\n  915529005,\n  866731001,\n  909370001,\n  751471001,\n  448509014,\n  714790020,\n  923758001,\n  762846027],\n 5600963949751081: [918576001,\n  863123002,\n  873276004,\n  751471043,\n  924243001,\n  924243002,\n  918522001,\n  915529003,\n  915529005,\n  866731001,\n  909370001,\n  751471001,\n  448509014,\n  714790020,\n  923758001,\n  762846027],\n 5745483929307677: [868038001,\n  924243001,\n  924243002,\n  918522001,\n  915529003,\n  915529005,\n  866731001,\n  909370001,\n  751471001,\n  448509014,\n  714790020,\n  923758001,\n  762846027],\n 5793511269919677: [253448001,\n  924243001,\n  924243002,\n  918522001,\n  915529003,\n  915529005,\n  866731001,\n  909370001,\n  751471001,\n  448509014,\n  714790020,\n  923758001,\n  762846027],\n 5830435173051530: [758034001,\n  896343002,\n  924243001,\n  924243002,\n  918522001,\n  915529003,\n  915529005,\n  866731001,\n  909370001,\n  751471001,\n  448509014,\n  714790020,\n  923758001,\n  762846027],\n 5934456905977816: [570319001,\n  834217004,\n  924243001,\n  924243002,\n  918522001,\n  915529003,\n  915529005,\n  866731001,\n  909370001,\n  751471001,\n  448509014,\n  714790020,\n  923758001,\n  762846027],\n 6010692573790711: [857812010,\n  372860001,\n  856808001,\n  372860002,\n  868018001,\n  811835006,\n  924243001,\n  924243002,\n  918522001,\n  915529003,\n  915529005,\n  866731001,\n  909370001,\n  751471001,\n  448509014,\n  714790020,\n  923758001,\n  762846027],\n 6032321849261312: [946748004,\n  924243001,\n  924243002,\n  918522001,\n  915529003,\n  915529005,\n  866731001,\n  909370001,\n  751471001,\n  448509014,\n  714790020,\n  923758001,\n  762846027],\n 6074994597759351: [904414003,\n  906382002,\n  882810001,\n  851010007,\n  509669011,\n  924243001,\n  924243002,\n  918522001,\n  915529003,\n  915529005,\n  866731001,\n  909370001,\n  751471001,\n  448509014,\n  714790020,\n  923758001,\n  762846027],\n 6112010387616019: [910722001,\n  924243001,\n  924243002,\n  918522001,\n  915529003,\n  915529005,\n  866731001,\n  909370001,\n  751471001,\n  448509014,\n  714790020,\n  923758001,\n  762846027],\n 6171059100114610: [840260001,\n  781758001,\n  924243001,\n  924243002,\n  918522001,\n  915529003,\n  915529005,\n  866731001,\n  909370001,\n  751471001,\n  448509014,\n  714790020,\n  923758001,\n  762846027],\n 6215571649480291: [682236001,\n  611415035,\n  589017003,\n  871243001,\n  924243001,\n  924243002,\n  918522001,\n  915529003,\n  915529005,\n  866731001,\n  909370001,\n  751471001,\n  448509014,\n  714790020,\n  923758001,\n  762846027],\n 6219998949057481: [831809001,\n  880195001,\n  924243001,\n  924243002,\n  918522001,\n  915529003,\n  915529005,\n  866731001,\n  909370001,\n  751471001,\n  448509014,\n  714790020,\n  923758001,\n  762846027],\n 6323183284275358: [867969007,\n  837438002,\n  918525001,\n  898889002,\n  927172004,\n  920869003,\n  905889002,\n  904414004,\n  732842004,\n  803315003,\n  924243001,\n  924243002,\n  918522001,\n  915529003,\n  915529005,\n  866731001,\n  909370001,\n  751471001,\n  448509014,\n  714790020,\n  923758001,\n  762846027],\n 6425392668902854: [806131002,\n  924243001,\n  924243002,\n  918522001,\n  915529003,\n  915529005,\n  866731001,\n  909370001,\n  751471001,\n  448509014,\n  714790020,\n  923758001,\n  762846027],\n 6425848477846523: [891591007,\n  924243001,\n  924243002,\n  918522001,\n  915529003,\n  915529005,\n  866731001,\n  909370001,\n  751471001,\n  448509014,\n  714790020,\n  923758001,\n  762846027],\n 6425998243829547: [834906017,\n  924243001,\n  924243002,\n  918522001,\n  915529003,\n  915529005,\n  866731001,\n  909370001,\n  751471001,\n  448509014,\n  714790020,\n  923758001,\n  762846027],\n 6434044519214559: [899499001,\n  373506008,\n  924243001,\n  924243002,\n  918522001,\n  915529003,\n  915529005,\n  866731001,\n  909370001,\n  751471001,\n  448509014,\n  714790020,\n  923758001,\n  762846027],\n 6435666514878045: [708138002,\n  708138009,\n  903211001,\n  915412002,\n  902362001,\n  816423005,\n  599718043,\n  599718045,\n  599718009,\n  816423004,\n  806528004,\n  779781006,\n  924243001,\n  924243002,\n  918522001,\n  915529003,\n  915529005,\n  866731001,\n  909370001,\n  751471001,\n  448509014,\n  714790020,\n  923758001,\n  762846027],\n 6502148612391673: [909916001,\n  906714001,\n  882481001,\n  852442003,\n  924243001,\n  924243002,\n  918522001,\n  915529003,\n  915529005,\n  866731001,\n  909370001,\n  751471001,\n  448509014,\n  714790020,\n  923758001,\n  762846027],\n 6514467256184302: [748355003,\n  894293002,\n  924243001,\n  924243002,\n  918522001,\n  915529003,\n  915529005,\n  866731001,\n  909370001,\n  751471001,\n  448509014,\n  714790020,\n  923758001,\n  762846027],\n 6533896350022044: [870989001,\n  896152002,\n  924243001,\n  924243002,\n  918522001,\n  915529003,\n  915529005,\n  866731001,\n  909370001,\n  751471001,\n  448509014,\n  714790020,\n  923758001,\n  762846027],\n 6553270874922497: [878013001,\n  880186001,\n  924243001,\n  924243002,\n  918522001,\n  915529003,\n  915529005,\n  866731001,\n  909370001,\n  751471001,\n  448509014,\n  714790020,\n  923758001,\n  762846027],\n 6611639188934298: [685813001,\n  685813003,\n  685813037,\n  924243001,\n  924243002,\n  918522001,\n  915529003,\n  915529005,\n  866731001,\n  909370001,\n  751471001,\n  448509014,\n  714790020,\n  923758001,\n  762846027],\n 6735480362133853: [780955001,\n  915526001,\n  871527003,\n  924243001,\n  924243002,\n  918522001,\n  915529003,\n  915529005,\n  866731001,\n  909370001,\n  751471001,\n  448509014,\n  714790020,\n  923758001,\n  762846027],\n 6791705277457680: [878190004,\n  448509035,\n  924243002,\n  918522001,\n  924243001,\n  915529003,\n  915529005,\n  866731001,\n  909370001,\n  751471001,\n  448509014,\n  714790020,\n  923758001,\n  762846027],\n 6851699110500037: [685814005,\n  898886001,\n  898886002,\n  894780001,\n  924243001,\n  924243002,\n  918522001,\n  915529003,\n  915529005,\n  866731001,\n  909370001,\n  751471001,\n  448509014,\n  714790020,\n  923758001,\n  762846027],\n 6874639593680634: [874891001,\n  874891006,\n  924243001,\n  924243002,\n  918522001,\n  915529003,\n  915529005,\n  866731001,\n  909370001,\n  751471001,\n  448509014,\n  714790020,\n  923758001,\n  762846027],\n 6891744905770348: [934793001,\n  911034001,\n  924243001,\n  924243002,\n  918522001,\n  915529003,\n  915529005,\n  866731001,\n  909370001,\n  751471001,\n  448509014,\n  714790020,\n  923758001,\n  762846027],\n 6930054433895293: [871517008,\n  868054001,\n  880312004,\n  924243001,\n  924243002,\n  918522001,\n  915529003,\n  915529005,\n  866731001,\n  909370001,\n  751471001,\n  448509014,\n  714790020,\n  923758001,\n  762846027],\n 6941183668934492: [917899001,\n  909915002,\n  924243001,\n  924243002,\n  918522001,\n  915529003,\n  915529005,\n  866731001,\n  909370001,\n  751471001,\n  448509014,\n  714790020,\n  923758001,\n  762846027],\n 6982094921995973: [741985001,\n  598755001,\n  883693001,\n  924243001,\n  924243002,\n  918522001,\n  915529003,\n  915529005,\n  866731001,\n  909370001,\n  751471001,\n  448509014,\n  714790020,\n  923758001,\n  762846027],\n 7002608101212285: [866636001,\n  866636007,\n  924243002,\n  918522001,\n  924243001,\n  915529003,\n  915529005,\n  866731001,\n  909370001,\n  751471001,\n  448509014,\n  714790020,\n  923758001,\n  762846027],\n 7008375794491843: [685814061,\n  924243001,\n  924243002,\n  918522001,\n  915529003,\n  915529005,\n  866731001,\n  909370001,\n  751471001,\n  448509014,\n  714790020,\n  923758001,\n  762846027],\n 7009916629804102: [933032002,\n  893059005,\n  903926001,\n  913220002,\n  903926002,\n  925124001,\n  790368010,\n  764488006,\n  201219017,\n  226959008,\n  924243001,\n  924243002,\n  918522001,\n  915529003,\n  915529005,\n  866731001,\n  909370001,\n  751471001,\n  448509014,\n  714790020,\n  923758001,\n  762846027],\n 7032284035147640: [730683019,\n  896559001,\n  879287001,\n  924243001,\n  924243002,\n  918522001,\n  915529003,\n  915529005,\n  866731001,\n  909370001,\n  751471001,\n  448509014,\n  714790020,\n  923758001,\n  762846027],\n 7102263087651288: [815851001,\n  882146002,\n  918292004,\n  153115040,\n  892309005,\n  879287002,\n  924243001,\n  924243002,\n  918522001,\n  915529003,\n  915529005,\n  866731001,\n  909370001,\n  751471001,\n  448509014,\n  714790020,\n  923758001,\n  762846027],\n 7142414813837405: [937252001,\n  865926002,\n  924243001,\n  924243002,\n  918522001,\n  915529003,\n  915529005,\n  866731001,\n  909370001,\n  751471001,\n  448509014,\n  714790020,\n  923758001,\n  762846027],\n 7165600694056062: [797988002,\n  788575002,\n  788575004,\n  924243001,\n  924243002,\n  918522001,\n  915529003,\n  915529005,\n  866731001,\n  909370001,\n  751471001,\n  448509014,\n  714790020,\n  923758001,\n  762846027],\n 7165979654983104: [837743002,\n  916468001,\n  915526001,\n  685814022,\n  863587001,\n  863587002,\n  924243001,\n  924243002,\n  918522001,\n  915529003,\n  915529005,\n  866731001,\n  909370001,\n  751471001,\n  448509014,\n  714790020,\n  923758001,\n  762846027],\n 7192893037848710: [867969007,\n  867969002,\n  908081004,\n  912095007,\n  897167001,\n  874754001,\n  767862001,\n  814641001,\n  924243001,\n  924243002,\n  918522001,\n  915529003,\n  915529005,\n  866731001,\n  909370001,\n  751471001,\n  448509014,\n  714790020,\n  923758001,\n  762846027],\n 7217612933871936: [903308003,\n  854247001,\n  924243001,\n  924243002,\n  918522001,\n  915529003,\n  915529005,\n  866731001,\n  909370001,\n  751471001,\n  448509014,\n  714790020,\n  923758001,\n  762846027],\n 7233205324018049: [920610001,\n  902388001,\n  924243001,\n  924243002,\n  918522001,\n  915529003,\n  915529005,\n  866731001,\n  909370001,\n  751471001,\n  448509014,\n  714790020,\n  923758001,\n  762846027],\n 7252995555838753: [865917002,\n  711582010,\n  924243001,\n  924243002,\n  918522001,\n  915529003,\n  915529005,\n  866731001,\n  909370001,\n  751471001,\n  448509014,\n  714790020,\n  923758001,\n  762846027],\n 7256976798788587: [900382001,\n  914959001,\n  804551001,\n  776163006,\n  849005002,\n  924243001,\n  924243002,\n  918522001,\n  915529003,\n  915529005,\n  866731001,\n  909370001,\n  751471001,\n  448509014,\n  714790020,\n  923758001,\n  762846027],\n 7388597939148745: [875316001,\n  924243002,\n  918522001,\n  924243001,\n  915529003,\n  915529005,\n  866731001,\n  909370001,\n  751471001,\n  448509014,\n  714790020,\n  923758001,\n  762846027],\n 7388737097465681: [918292001,\n  856270002,\n  924243001,\n  924243002,\n  918522001,\n  915529003,\n  915529005,\n  866731001,\n  909370001,\n  751471001,\n  448509014,\n  714790020,\n  923758001,\n  762846027],\n 7421255996385036: [730683050,\n  924243001,\n  924243002,\n  918522001,\n  915529003,\n  915529005,\n  866731001,\n  909370001,\n  751471001,\n  448509014,\n  714790020,\n  923758001,\n  762846027],\n 7678388473497046: [863595001,\n  924243001,\n  924243002,\n  918522001,\n  915529003,\n  915529005,\n  866731001,\n  909370001,\n  751471001,\n  448509014,\n  714790020,\n  923758001,\n  762846027],\n 7692254851442623: [915526002,\n  924243001,\n  924243002,\n  918522001,\n  915529003,\n  915529005,\n  866731001,\n  909370001,\n  751471001,\n  448509014,\n  714790020,\n  923758001,\n  762846027],\n 7694319197314000: [928845001,\n  872527002,\n  924243001,\n  924243002,\n  918522001,\n  915529003,\n  915529005,\n  866731001,\n  909370001,\n  751471001,\n  448509014,\n  714790020,\n  923758001,\n  762846027],\n 7717847466058998: [862482003,\n  827687002,\n  821911002,\n  895582014,\n  924243001,\n  924243002,\n  918522001,\n  915529003,\n  915529005,\n  866731001,\n  909370001,\n  751471001,\n  448509014,\n  714790020,\n  923758001,\n  762846027],\n 7894785243725736: [759814022,\n  924243001,\n  924243002,\n  918522001,\n  915529003,\n  915529005,\n  866731001,\n  909370001,\n  751471001,\n  448509014,\n  714790020,\n  923758001,\n  762846027],\n 7960544439277532: [866178002,\n  856290002,\n  924243001,\n  924243002,\n  918522001,\n  915529003,\n  915529005,\n  866731001,\n  909370001,\n  751471001,\n  448509014,\n  714790020,\n  923758001,\n  762846027],\n 7999979658174419: [910132002,\n  875239002,\n  842112005,\n  685942001,\n  881933001,\n  924243002,\n  918522001,\n  924243001,\n  915529003,\n  915529005,\n  866731001,\n  909370001,\n  751471001,\n  448509014,\n  714790020,\n  923758001,\n  762846027],\n 8017149410212211: [720125040,\n  865926002,\n  842605006,\n  791587018,\n  882747001,\n  858052001,\n  924243001,\n  924243002,\n  918522001,\n  915529003,\n  915529005,\n  866731001,\n  909370001,\n  751471001,\n  448509014,\n  714790020,\n  923758001,\n  762846027],\n 8027258172408895: [865929003,\n  924243001,\n  924243002,\n  918522001,\n  915529003,\n  915529005,\n  866731001,\n  909370001,\n  751471001,\n  448509014,\n  714790020,\n  923758001,\n  762846027],\n 8047895007815398: [594542027,\n  924243001,\n  924243002,\n  918522001,\n  915529003,\n  915529005,\n  866731001,\n  909370001,\n  751471001,\n  448509014,\n  714790020,\n  923758001,\n  762846027],\n 8228087661553290: [911950001,\n  751794006,\n  673396002,\n  877014007,\n  924243001,\n  924243002,\n  918522001,\n  915529003,\n  915529005,\n  866731001,\n  909370001,\n  751471001,\n  448509014,\n  714790020,\n  923758001,\n  762846027],\n 8232164752495318: [780297001,\n  845790001,\n  894481002,\n  890511003,\n  889000001,\n  924243001,\n  924243002,\n  918522001,\n  915529003,\n  915529005,\n  866731001,\n  909370001,\n  751471001,\n  448509014,\n  714790020,\n  923758001,\n  762846027],\n 8245923130635254: [916425001,\n  806388001,\n  869331006,\n  875350001,\n  875350003,\n  806388018,\n  924243001,\n  924243002,\n  918522001,\n  915529003,\n  915529005,\n  866731001,\n  909370001,\n  751471001,\n  448509014,\n  714790020,\n  923758001,\n  762846027],\n 8372268316730425: [857272001,\n  853552001,\n  924243001,\n  924243002,\n  918522001,\n  915529003,\n  915529005,\n  866731001,\n  909370001,\n  751471001,\n  448509014,\n  714790020,\n  923758001,\n  762846027],\n 8383252499052781: [865929007,\n  884319001,\n  884319003,\n  924243001,\n  924243002,\n  918522001,\n  915529003,\n  915529005,\n  866731001,\n  909370001,\n  751471001,\n  448509014,\n  714790020,\n  923758001,\n  762846027],\n 8421185370332018: [554598087,\n  827907002,\n  891199001,\n  879248008,\n  294008005,\n  879248004,\n  924243001,\n  924243002,\n  918522001,\n  915529003,\n  915529005,\n  866731001,\n  909370001,\n  751471001,\n  448509014,\n  714790020,\n  923758001,\n  762846027],\n 8425866143992467: [492897001,\n  924243001,\n  924243002,\n  918522001,\n  915529003,\n  915529005,\n  866731001,\n  909370001,\n  751471001,\n  448509014,\n  714790020,\n  923758001,\n  762846027],\n 8432626224671117: [801673001,\n  700765001,\n  837278001,\n  868680001,\n  894956001,\n  924243001,\n  924243002,\n  918522001,\n  915529003,\n  915529005,\n  866731001,\n  909370001,\n  751471001,\n  448509014,\n  714790020,\n  923758001,\n  762846027],\n 8434216959060824: [878604002,\n  870345002,\n  924243001,\n  924243002,\n  918522001,\n  915529003,\n  915529005,\n  866731001,\n  909370001,\n  751471001,\n  448509014,\n  714790020,\n  923758001,\n  762846027],\n 8450499529642596: [717370001,\n  717251001,\n  599580055,\n  833499002,\n  843873004,\n  811835002,\n  860819001,\n  860820001,\n  833530002,\n  776237020,\n  924243001,\n  924243002,\n  918522001,\n  915529003,\n  915529005,\n  866731001,\n  909370001,\n  751471001,\n  448509014,\n  714790020,\n  923758001,\n  762846027],\n 8519625734931010: [568601023,\n  816598008,\n  872378006,\n  872378001,\n  924243001,\n  924243002,\n  918522001,\n  915529003,\n  915529005,\n  866731001,\n  909370001,\n  751471001,\n  448509014,\n  714790020,\n  923758001,\n  762846027],\n 8526151633341961: [893059005,\n  901330001,\n  924243001,\n  924243002,\n  918522001,\n  915529003,\n  915529005,\n  866731001,\n  909370001,\n  751471001,\n  448509014,\n  714790020,\n  923758001,\n  762846027],\n 8534644960588628: [901924001,\n  889675001,\n  924243001,\n  924243002,\n  918522001,\n  915529003,\n  915529005,\n  866731001,\n  909370001,\n  751471001,\n  448509014,\n  714790020,\n  923758001,\n  762846027],\n 8566549790898038: [923134007,\n  685813037,\n  685813001,\n  866455002,\n  759871025,\n  759871011,\n  924243001,\n  924243002,\n  918522001,\n  915529003,\n  915529005,\n  866731001,\n  909370001,\n  751471001,\n  448509014,\n  714790020,\n  923758001,\n  762846027],\n 8574434349191162: [781613013,\n  924243001,\n  924243002,\n  918522001,\n  915529003,\n  915529005,\n  866731001,\n  909370001,\n  751471001,\n  448509014,\n  714790020,\n  923758001,\n  762846027],\n 8626751746589052: [530953025,\n  924243001,\n  924243002,\n  918522001,\n  915529003,\n  915529005,\n  866731001,\n  909370001,\n  751471001,\n  448509014,\n  714790020,\n  923758001,\n  762846027],\n 8853302310499171: [915526001,\n  924243001,\n  924243002,\n  918522001,\n  915529003,\n  915529005,\n  866731001,\n  909370001,\n  751471001,\n  448509014,\n  714790020,\n  923758001,\n  762846027],\n 8905125085410841: [903735002,\n  794321011,\n  805000001,\n  831302006,\n  924243002,\n  918522001,\n  924243001,\n  915529003,\n  915529005,\n  866731001,\n  909370001,\n  751471001,\n  448509014,\n  714790020,\n  923758001,\n  762846027],\n 8909453831608525: [819113001,\n  803468002,\n  854193003,\n  855706004,\n  924243001,\n  924243002,\n  918522001,\n  915529003,\n  915529005,\n  866731001,\n  909370001,\n  751471001,\n  448509014,\n  714790020,\n  923758001,\n  762846027],\n 8920867066139950: [924626001,\n  930829001,\n  917121001,\n  767605015,\n  924243001,\n  924243002,\n  918522001,\n  915529003,\n  915529005,\n  866731001,\n  909370001,\n  751471001,\n  448509014,\n  714790020,\n  923758001,\n  762846027],\n 8940930558501207: [821336001,\n  860651002,\n  831547010,\n  859105004,\n  924243001,\n  924243002,\n  918522001,\n  915529003,\n  915529005,\n  866731001,\n  909370001,\n  751471001,\n  448509014,\n  714790020,\n  923758001,\n  762846027],\n 8968446267793743: [891322004,\n  867292001,\n  924243001,\n  924243002,\n  918522001,\n  915529003,\n  915529005,\n  866731001,\n  909370001,\n  751471001,\n  448509014,\n  714790020,\n  923758001,\n  762846027],\n 8979857957419452: [711053005,\n  924243001,\n  924243002,\n  918522001,\n  915529003,\n  915529005,\n  866731001,\n  909370001,\n  751471001,\n  448509014,\n  714790020,\n  923758001,\n  762846027],\n 9023092983231546: [766402026,\n  924243001,\n  924243002,\n  918522001,\n  915529003,\n  915529005,\n  866731001,\n  909370001,\n  751471001,\n  448509014,\n  714790020,\n  923758001,\n  762846027],\n 9033460998303010: [902161004,\n  895002004,\n  842000003,\n  865076002,\n  924243001,\n  924243002,\n  918522001,\n  915529003,\n  915529005,\n  866731001,\n  909370001,\n  751471001,\n  448509014,\n  714790020,\n  923758001,\n  762846027],\n 9035991507564920: [757915002,\n  745686008,\n  852584006,\n  816563003,\n  854043007,\n  837283001,\n  832453005,\n  924243001,\n  924243002,\n  918522001,\n  915529003,\n  915529005,\n  866731001,\n  909370001,\n  751471001,\n  448509014,\n  714790020,\n  923758001,\n  762846027],\n 9057218560097811: [863595006,\n  863595004,\n  924243001,\n  924243002,\n  918522001,\n  915529003,\n  915529005,\n  866731001,\n  909370001,\n  751471001,\n  448509014,\n  714790020,\n  923758001,\n  762846027],\n 9133885560441747: [898692003,\n  898889001,\n  908729002,\n  924243001,\n  924243002,\n  918522001,\n  915529003,\n  915529005,\n  866731001,\n  909370001,\n  751471001,\n  448509014,\n  714790020,\n  923758001,\n  762846027],\n 9154051672884034: [573085043,\n  924243001,\n  924243002,\n  918522001,\n  915529003,\n  915529005,\n  866731001,\n  909370001,\n  751471001,\n  448509014,\n  714790020,\n  923758001,\n  762846027],\n 9160816143433467: [736923003,\n  854193003,\n  832359001,\n  924243001,\n  924243002,\n  918522001,\n  915529003,\n  915529005,\n  866731001,\n  909370001,\n  751471001,\n  448509014,\n  714790020,\n  923758001,\n  762846027],\n 9201188587947384: [905277001,\n  832946004,\n  886366001,\n  924243001,\n  924243002,\n  918522001,\n  915529003,\n  915529005,\n  866731001,\n  909370001,\n  751471001,\n  448509014,\n  714790020,\n  923758001,\n  762846027],\n 9234803391572227: [795991002,\n  872177002,\n  885710002,\n  924243001,\n  924243002,\n  918522001,\n  915529003,\n  915529005,\n  866731001,\n  909370001,\n  751471001,\n  448509014,\n  714790020,\n  923758001,\n  762846027],\n 9354955572150294: [786991001,\n  830366001,\n  924243001,\n  924243002,\n  918522001,\n  915529003,\n  915529005,\n  866731001,\n  909370001,\n  751471001,\n  448509014,\n  714790020,\n  923758001,\n  762846027],\n 9423813441034434: [935541001,\n  924243001,\n  924243002,\n  918522001,\n  915529003,\n  915529005,\n  866731001,\n  909370001,\n  751471001,\n  448509014,\n  714790020,\n  923758001,\n  762846027],\n 9521347140039091: [903647001,\n  935840001,\n  904381001,\n  875784003,\n  790365001,\n  865430006,\n  826252003,\n  924243001,\n  924243002,\n  918522001,\n  915529003,\n  915529005,\n  866731001,\n  909370001,\n  751471001,\n  448509014,\n  714790020,\n  923758001,\n  762846027],\n 9522604046696081: [921266001,\n  924243001,\n  924243002,\n  918522001,\n  915529003,\n  915529005,\n  866731001,\n  909370001,\n  751471001,\n  448509014,\n  714790020,\n  923758001,\n  762846027],\n 9538456321296733: [806131012,\n  924243001,\n  924243002,\n  918522001,\n  915529003,\n  915529005,\n  866731001,\n  909370001,\n  751471001,\n  448509014,\n  714790020,\n  923758001,\n  762846027],\n 9606234548431134: [921682002,\n  935840002,\n  904414004,\n  870328002,\n  869331006,\n  924243002,\n  918522001,\n  924243001,\n  915529003,\n  915529005,\n  866731001,\n  909370001,\n  751471001,\n  448509014,\n  714790020,\n  923758001,\n  762846027],\n 9625498212406448: [748595003,\n  924243001,\n  924243002,\n  918522001,\n  915529003,\n  915529005,\n  866731001,\n  909370001,\n  751471001,\n  448509014,\n  714790020,\n  923758001,\n  762846027],\n 9627499417024584: [853556001,\n  924243001,\n  924243002,\n  918522001,\n  915529003,\n  915529005,\n  866731001,\n  909370001,\n  751471001,\n  448509014,\n  714790020,\n  923758001,\n  762846027],\n 9645559069853860: [711053026,\n  711053003,\n  711053027,\n  924243001,\n  924243002,\n  918522001,\n  915529003,\n  915529005,\n  866731001,\n  909370001,\n  751471001,\n  448509014,\n  714790020,\n  923758001,\n  762846027],\n 9646753977881910: [889753001,\n  716947009,\n  924243001,\n  924243002,\n  918522001,\n  915529003,\n  915529005,\n  866731001,\n  909370001,\n  751471001,\n  448509014,\n  714790020,\n  923758001,\n  762846027],\n 9664049760059555: [913954003,\n  759814011,\n  739144004,\n  924243001,\n  924243002,\n  918522001,\n  915529003,\n  915529005,\n  866731001,\n  909370001,\n  751471001,\n  448509014,\n  714790020,\n  923758001,\n  762846027],\n 9691788572642640: [684209032,\n  688537029,\n  924243001,\n  924243002,\n  918522001,\n  915529003,\n  915529005,\n  866731001,\n  909370001,\n  751471001,\n  448509014,\n  714790020,\n  923758001,\n  762846027],\n 9802572176960585: [915526001,\n  896152002,\n  924243002,\n  918522001,\n  924243001,\n  915529003,\n  915529005,\n  866731001,\n  909370001,\n  751471001,\n  448509014,\n  714790020,\n  923758001,\n  762846027],\n 9821556545556402: [736783004,\n  684340001,\n  736783001,\n  866097004,\n  811887001,\n  840360001,\n  711053026,\n  850176003,\n  924243001,\n  924243002,\n  918522001,\n  915529003,\n  915529005,\n  866731001,\n  909370001,\n  751471001,\n  448509014,\n  714790020,\n  923758001,\n  762846027],\n 9853153815325591: [719655001,\n  719655014,\n  865076002,\n  924243001,\n  924243002,\n  918522001,\n  915529003,\n  915529005,\n  866731001,\n  909370001,\n  751471001,\n  448509014,\n  714790020,\n  923758001,\n  762846027],\n 10003109726068217: [706837006,\n  924243001,\n  924243002,\n  918522001,\n  915529003,\n  915529005,\n  866731001,\n  909370001,\n  751471001,\n  448509014,\n  714790020,\n  923758001,\n  762846027],\n 10003213633640328: [886697001,\n  736923010,\n  737221010,\n  924243001,\n  924243002,\n  918522001,\n  915529003,\n  915529005,\n  866731001,\n  909370001,\n  751471001,\n  448509014,\n  714790020,\n  923758001,\n  762846027],\n 10019067371664522: [856840004,\n  924243001,\n  924243002,\n  918522001,\n  915529003,\n  915529005,\n  866731001,\n  909370001,\n  751471001,\n  448509014,\n  714790020,\n  923758001,\n  762846027],\n 10022672756380855: [802459001,\n  863587002,\n  924243001,\n  924243002,\n  918522001,\n  915529003,\n  915529005,\n  866731001,\n  909370001,\n  751471001,\n  448509014,\n  714790020,\n  923758001,\n  762846027],\n 10057739152254921: [941658001,\n  796454005,\n  596877005,\n  772513014,\n  717683009,\n  924243001,\n  924243002,\n  918522001,\n  915529003,\n  915529005,\n  866731001,\n  909370001,\n  751471001,\n  448509014,\n  714790020,\n  923758001,\n  762846027],\n 10117286070721283: [918640001,\n  909552001,\n  903876001,\n  658030020,\n  807244002,\n  877961021,\n  877961019,\n  924243001,\n  924243002,\n  918522001,\n  915529003,\n  915529005,\n  866731001,\n  909370001,\n  751471001,\n  448509014,\n  714790020,\n  923758001,\n  762846027],\n 10178278581755647: [903851001,\n  797988005,\n  794575001,\n  886557004,\n  886557002,\n  924243001,\n  924243002,\n  918522001,\n  915529003,\n  915529005,\n  866731001,\n  909370001,\n  751471001,\n  448509014,\n  714790020,\n  923758001,\n  762846027],\n 10221866105720877: [579541001,\n  864562005,\n  924243002,\n  918522001,\n  924243001,\n  915529003,\n  915529005,\n  866731001,\n  909370001,\n  751471001,\n  448509014,\n  714790020,\n  923758001,\n  762846027],\n 10296145678877316: [915292001,\n  882203002,\n  924243001,\n  924243002,\n  918522001,\n  915529003,\n  915529005,\n  866731001,\n  909370001,\n  751471001,\n  448509014,\n  714790020,\n  923758001,\n  762846027],\n 10297604818341029: [799067003,\n  924243001,\n  924243002,\n  918522001,\n  915529003,\n  915529005,\n  866731001,\n  909370001,\n  751471001,\n  448509014,\n  714790020,\n  923758001,\n  762846027],\n 10321935701705603: [919365008,\n  924243001,\n  924243002,\n  918522001,\n  915529003,\n  915529005,\n  866731001,\n  909370001,\n  751471001,\n  714790020,\n  448509014,\n  923758001,\n  762846027],\n 10322203977488662: [751471035,\n  610776071,\n  924243001,\n  924243002,\n  918522001,\n  915529003,\n  915529005,\n  866731001,\n  909370001,\n  751471001,\n  448509014,\n  714790020,\n  923758001,\n  762846027],\n 10444188316297638: [372860001,\n  924243001,\n  924243002,\n  918522001,\n  915529003,\n  915529005,\n  866731001,\n  909370001,\n  751471001,\n  448509014,\n  714790020,\n  923758001,\n  762846027],\n 10552169646409495: [569984001,\n  596400021,\n  924243001,\n  924243002,\n  918522001,\n  915529003,\n  915529005,\n  866731001,\n  909370001,\n  751471001,\n  448509014,\n  714790020,\n  923758001,\n  762846027],\n 10633990943045358: [850281001,\n  799853002,\n  924243001,\n  924243002,\n  918522001,\n  915529003,\n  915529005,\n  866731001,\n  909370001,\n  751471001,\n  448509014,\n  714790020,\n  923758001,\n  762846027],\n 10638887050133295: [928088001,\n  685813002,\n  817820002,\n  924243001,\n  924243002,\n  918522001,\n  915529003,\n  915529005,\n  866731001,\n  909370001,\n  751471001,\n  448509014,\n  714790020,\n  923758001,\n  762846027],\n 10682489173693097: [860833001,\n  924243001,\n  924243002,\n  918522001,\n  915529003,\n  915529005,\n  866731001,\n  909370001,\n  751471001,\n  448509014,\n  714790020,\n  923758001,\n  762846027],\n 10698768556209946: [819137001,\n  808445003,\n  924243001,\n  924243002,\n  918522001,\n  915529003,\n  915529005,\n  866731001,\n  909370001,\n  751471001,\n  448509014,\n  714790020,\n  923758001,\n  762846027],\n 10707208459335028: [912574003,\n  918525001,\n  915526002,\n  924243001,\n  924243002,\n  918522001,\n  915529003,\n  915529005,\n  866731001,\n  909370001,\n  751471001,\n  448509014,\n  714790020,\n  923758001,\n  762846027],\n 10733759044223883: [902265002,\n  902265003,\n  568593016,\n  924243002,\n  918522001,\n  924243001,\n  915529003,\n  915529005,\n  866731001,\n  909370001,\n  751471001,\n  448509014,\n  714790020,\n  923758001,\n  762846027],\n 10815953703051191: [841383002,\n  841383003,\n  924243001,\n  924243002,\n  918522001,\n  915529003,\n  915529005,\n  866731001,\n  909370001,\n  751471001,\n  448509014,\n  714790020,\n  923758001,\n  762846027],\n 10880204019356103: [715624053,\n  579541001,\n  924243002,\n  918522001,\n  924243001,\n  915529003,\n  915529005,\n  866731001,\n  909370001,\n  751471001,\n  448509014,\n  714790020,\n  923758001,\n  762846027],\n 10887596741407172: [844411001,\n  820960003,\n  924243001,\n  924243002,\n  918522001,\n  915529003,\n  915529005,\n  866731001,\n  909370001,\n  751471001,\n  448509014,\n  714790020,\n  923758001,\n  762846027],\n 10977151910854650: [872537004,\n  896169002,\n  918516001,\n  918836001,\n  871527003,\n  895610003,\n  871527002,\n  924243002,\n  918522001,\n  924243001,\n  915529003,\n  915529005,\n  866731001,\n  909370001,\n  751471001,\n  448509014,\n  714790020,\n  923758001,\n  762846027],\n 10985083168192329: [751592001,\n  784926002,\n  924243002,\n  918522001,\n  924243001,\n  915529003,\n  915529005,\n  866731001,\n  909370001,\n  751471001,\n  448509014,\n  714790020,\n  923758001,\n  762846027],\n 11159840694657521: [707135012,\n  719655014,\n  924243001,\n  924243002,\n  918522001,\n  915529003,\n  915529005,\n  866731001,\n  909370001,\n  751471001,\n  448509014,\n  714790020,\n  923758001,\n  762846027],\n 11328092632894580: [834217009,\n  865595002,\n  153115020,\n  865594002,\n  811907011,\n  924243001,\n  924243002,\n  918522001,\n  915529003,\n  915529005,\n  866731001,\n  909370001,\n  751471001,\n  448509014,\n  714790020,\n  923758001,\n  762846027],\n 11349415964342467: [909915001,\n  921298001,\n  904416001,\n  909916001,\n  933990001,\n  933989001,\n  763469002,\n  829054005,\n  870289003,\n  890074001,\n  924243001,\n  924243002,\n  918522001,\n  915529003,\n  915529005,\n  866731001,\n  909370001,\n  751471001,\n  448509014,\n  714790020,\n  923758001,\n  762846027],\n 11406692068062485: [865943003,\n  832481001,\n  818032008,\n  924243001,\n  924243002,\n  918522001,\n  915529003,\n  915529005,\n  866731001,\n  909370001,\n  751471001,\n  448509014,\n  714790020,\n  923758001,\n  762846027],\n 11484807043854349: [878085001,\n  924243001,\n  924243002,\n  918522001,\n  915529003,\n  915529005,\n  866731001,\n  909370001,\n  751471001,\n  448509014,\n  714790020,\n  923758001,\n  762846027],\n 11526226531488303: [865458001,\n  849257001,\n  924243002,\n  918522001,\n  924243001,\n  915529003,\n  915529005,\n  866731001,\n  909370001,\n  751471001,\n  448509014,\n  714790020,\n  923758001,\n  762846027],\n 11610348443343922: [842727001,\n  924243001,\n  924243002,\n  918522001,\n  915529003,\n  915529005,\n  866731001,\n  909370001,\n  751471001,\n  448509014,\n  714790020,\n  923758001,\n  762846027],\n 11652745219062780: [690644001,\n  896837001,\n  760975006,\n  924243002,\n  918522001,\n  924243001,\n  915529003,\n  915529005,\n  866731001,\n  909370001,\n  751471001,\n  448509014,\n  714790020,\n  923758001,\n  762846027],\n 11679876944856869: [822568001,\n  761713013,\n  924243001,\n  924243002,\n  918522001,\n  915529003,\n  915529005,\n  866731001,\n  909370001,\n  751471001,\n  448509014,\n  714790020,\n  923758001,\n  762846027],\n 11706793704192963: [898107003,\n  804801002,\n  783346016,\n  804741001,\n  875350001,\n  924243001,\n  924243002,\n  918522001,\n  915529003,\n  915529005,\n  866731001,\n  909370001,\n  751471001,\n  448509014,\n  714790020,\n  923758001,\n  762846027],\n 11779812935994259: [918149002,\n  678942001,\n  827968004,\n  832359001,\n  924243001,\n  924243002,\n  918522001,\n  915529003,\n  915529005,\n  866731001,\n  909370001,\n  751471001,\n  448509014,\n  714790020,\n  923758001,\n  762846027],\n 11802190299861252: [867994008,\n  924243001,\n  924243002,\n  918522001,\n  915529003,\n  915529005,\n  866731001,\n  909370001,\n  751471001,\n  448509014,\n  714790020,\n  923758001,\n  762846027],\n 11834542039671352: [536139071,\n  859737004,\n  859743003,\n  924243001,\n  924243002,\n  918522001,\n  915529003,\n  915529005,\n  866731001,\n  909370001,\n  751471001,\n  448509014,\n  714790020,\n  923758001,\n  762846027],\n 11898333903284106: [920610001,\n  924243001,\n  924243002,\n  918522001,\n  915529003,\n  915529005,\n  866731001,\n  909370001,\n  751471001,\n  448509014,\n  714790020,\n  923758001,\n  762846027],\n 11904619468634999: [685814003,\n  924243001,\n  924243002,\n  918522001,\n  915529003,\n  915529005,\n  866731001,\n  909370001,\n  751471001,\n  448509014,\n  714790020,\n  923758001,\n  762846027],\n 11919909372114690: [917300004,\n  917297004,\n  917297002,\n  852174003,\n  875350003,\n  924243001,\n  924243002,\n  918522001,\n  915529003,\n  915529005,\n  866731001,\n  909370001,\n  751471001,\n  448509014,\n  714790020,\n  923758001,\n  762846027],\n 11935632334462402: [864596001,\n  856949001,\n  924243001,\n  924243002,\n  918522001,\n  915529003,\n  915529005,\n  866731001,\n  909370001,\n  751471001,\n  448509014,\n  714790020,\n  923758001,\n  762846027],\n 11942017059998426: [918894001,\n  892572001,\n  924243001,\n  924243002,\n  918522001,\n  915529003,\n  915529005,\n  866731001,\n  909370001,\n  751471001,\n  448509014,\n  714790020,\n  923758001,\n  762846027],\n 12134615333001306: [764147001,\n  519930001,\n  861850006,\n  924243001,\n  924243002,\n  918522001,\n  915529003,\n  915529005,\n  866731001,\n  909370001,\n  751471001,\n  448509014,\n  714790020,\n  923758001,\n  762846027],\n 12184429131611887: [898596007,\n  640021012,\n  399256001,\n  724906007,\n  865072005,\n  879248001,\n  719128004,\n  640021019,\n  924243001,\n  924243002,\n  918522001,\n  915529003,\n  915529005,\n  866731001,\n  909370001,\n  751471001,\n  448509014,\n  714790020,\n  923758001,\n  762846027],\n 12281621100368004: [903096004,\n  902388001,\n  927529001,\n  767423010,\n  610776002,\n  778064001,\n  610776074,\n  554598065,\n  316441039,\n  826646012,\n  924243001,\n  924243002,\n  918522001,\n  915529003,\n  915529005,\n  866731001,\n  909370001,\n  751471001,\n  448509014,\n  714790020,\n  923758001,\n  762846027],\n 12296956385418913: [579541001,\n  579541075,\n  579541072,\n  924243001,\n  924243002,\n  918522001,\n  915529003,\n  915529005,\n  866731001,\n  909370001,\n  751471001,\n  448509014,\n  714790020,\n  923758001,\n  762846027],\n 12340598533864060: [725929001,\n  752381006,\n  701472004,\n  781833008,\n  212629048,\n  924243001,\n  924243002,\n  918522001,\n  915529003,\n  915529005,\n  866731001,\n  909370001,\n  751471001,\n  448509014,\n  714790020,\n  923758001,\n  762846027],\n 12388745657622346: [909912001,\n  909911001,\n  871519007,\n  751592001,\n  924243001,\n  924243002,\n  918522001,\n  915529003,\n  915529005,\n  866731001,\n  909370001,\n  751471001,\n  448509014,\n  714790020,\n  923758001,\n  762846027],\n 12391957723947919: [926502001,\n  910446001,\n  924243001,\n  924243002,\n  918522001,\n  915529003,\n  915529005,\n  866731001,\n  909370001,\n  751471001,\n  448509014,\n  714790020,\n  923758001,\n  762846027],\n 12421354445425145: [649439001,\n  924243001,\n  924243002,\n  918522001,\n  915529003,\n  915529005,\n  866731001,\n  909370001,\n  751471001,\n  448509014,\n  714790020,\n  923758001,\n  762846027],\n 12434792852115145: [863595006,\n  879132001,\n  779659002,\n  878629001,\n  924243001,\n  924243002,\n  918522001,\n  915529003,\n  915529005,\n  866731001,\n  909370001,\n  751471001,\n  448509014,\n  714790020,\n  923758001,\n  762846027],\n 12448666071544699: [837306006,\n  924243001,\n  924243002,\n  918522001,\n  915529003,\n  915529005,\n  866731001,\n  909370001,\n  751471001,\n  448509014,\n  714790020,\n  923758001,\n  762846027],\n 12474935200566489: [852584001,\n  912204001,\n  905507003,\n  910949002,\n  754238024,\n  791587001,\n  720125007,\n  894362001,\n  924243001,\n  924243002,\n  918522001,\n  915529003,\n  915529005,\n  866731001,\n  909370001,\n  751471001,\n  448509014,\n  714790020,\n  923758001,\n  762846027],\n 12485207671530100: [881947001,\n  924243001,\n  924243002,\n  918522001,\n  915529003,\n  915529005,\n  866731001,\n  909370001,\n  751471001,\n  448509014,\n  714790020,\n  923758001,\n  762846027],\n 12507009091873970: [904584009,\n  855239003,\n  568601006,\n  850917001,\n  924243001,\n  924243002,\n  918522001,\n  915529003,\n  915529005,\n  866731001,\n  909370001,\n  751471001,\n  448509014,\n  714790020,\n  923758001,\n  762846027],\n 12554419226309955: [783346001,\n  924243001,\n  924243002,\n  918522001,\n  915529003,\n  915529005,\n  866731001,\n  909370001,\n  751471001,\n  448509014,\n  714790020,\n  923758001,\n  762846027],\n 12584931330163351: [903062001,\n  861850006,\n  924243002,\n  918522001,\n  924243001,\n  915529003,\n  915529005,\n  866731001,\n  909370001,\n  751471001,\n  448509014,\n  714790020,\n  923758001,\n  762846027],\n 12597009477788275: [862167001,\n  924243002,\n  918522001,\n  924243001,\n  915529003,\n  915529005,\n  866731001,\n  909370001,\n  751471001,\n  448509014,\n  714790020,\n  923758001,\n  762846027],\n 12612420408824071: [817484005,\n  924243001,\n  924243002,\n  918522001,\n  915529003,\n  915529005,\n  866731001,\n  909370001,\n  751471001,\n  448509014,\n  714790020,\n  923758001,\n  762846027],\n 12631180782384685: [892621001,\n  924243001,\n  924243002,\n  918522001,\n  915529003,\n  915529005,\n  866731001,\n  909370001,\n  751471001,\n  448509014,\n  714790020,\n  923758001,\n  762846027],\n 12659269130323520: [926482001,\n  470789001,\n  924243001,\n  918522001,\n  924243002,\n  915529003,\n  915529005,\n  866731001,\n  909370001,\n  751471001,\n  448509014,\n  714790020,\n  923758001,\n  762846027],\n 12725555360873510: [677930023,\n  766435010,\n  924243001,\n  924243002,\n  918522001,\n  915529003,\n  915529005,\n  866731001,\n  909370001,\n  751471001,\n  448509014,\n  714790020,\n  923758001,\n  762846027],\n 12769537075198382: [793012001,\n  924243001,\n  924243002,\n  918522001,\n  915529003,\n  915529005,\n  866731001,\n  909370001,\n  751471001,\n  448509014,\n  714790020,\n  923758001,\n  762846027],\n 12795409106842963: [922636001,\n  685816002,\n  924243001,\n  924243002,\n  918522001,\n  915529003,\n  915529005,\n  866731001,\n  909370001,\n  751471001,\n  448509014,\n  714790020,\n  923758001,\n  762846027],\n 12844134735197993: [851546002,\n  919037004,\n  924243002,\n  918522001,\n  924243001,\n  915529003,\n  915529005,\n  866731001,\n  909370001,\n  751471001,\n  448509014,\n  714790020,\n  923758001,\n  762846027],\n 12881854106531921: [903256001,\n  903951001,\n  915526002,\n  916468003,\n  814230002,\n  787946002,\n  803757005,\n  879958002,\n  845790006,\n  845790001,\n  924243001,\n  924243002,\n  918522001,\n  915529003,\n  915529005,\n  866731001,\n  909370001,\n  751471001,\n  448509014,\n  714790020,\n  923758001,\n  762846027],\n 12903581097056252: [736489003,\n  783346032,\n  924243001,\n  924243002,\n  918522001,\n  915529003,\n  915529005,\n  866731001,\n  909370001,\n  751471001,\n  448509014,\n  714790020,\n  923758001,\n  762846027],\n 12938739384090444: [918516001,\n  929042001,\n  667301001,\n  830941001,\n  869015003,\n  869015002,\n  842928001,\n  845746001,\n  562245102,\n  924243001,\n  924243002,\n  918522001,\n  915529003,\n  915529005,\n  866731001,\n  909370001,\n  751471001,\n  448509014,\n  714790020,\n  923758001,\n  762846027],\n 12958217191194143: [559616017,\n  739590022,\n  924243001,\n  924243002,\n  918522001,\n  915529003,\n  915529005,\n  866731001,\n  909370001,\n  751471001,\n  448509014,\n  714790020,\n  923758001,\n  762846027],\n 12980011974630579: [812207002,\n  890554003,\n  924243001,\n  924243002,\n  918522001,\n  915529003,\n  915529005,\n  866731001,\n  909370001,\n  751471001,\n  448509014,\n  714790020,\n  923758001,\n  762846027],\n 12992023230628580: [486639003,\n  894674007,\n  924243001,\n  924243002,\n  918522001,\n  915529003,\n  915529005,\n  866731001,\n  909370001,\n  751471001,\n  448509014,\n  714790020,\n  923758001,\n  762846027],\n 12998684015235552: [877845002,\n  924243001,\n  924243002,\n  918522001,\n  915529003,\n  915529005,\n  866731001,\n  909370001,\n  751471001,\n  448509014,\n  714790020,\n  923758001,\n  762846027],\n 13103797387817668: [906635003,\n  697564042,\n  817353008,\n  924243001,\n  924243002,\n  918522001,\n  915529003,\n  915529005,\n  866731001,\n  909370001,\n  751471001,\n  448509014,\n  714790020,\n  923758001,\n  762846027],\n 13104946915081562: [866307001,\n  924243001,\n  924243002,\n  918522001,\n  915529003,\n  915529005,\n  866731001,\n  909370001,\n  751471001,\n  448509014,\n  714790020,\n  923758001,\n  762846027],\n 13145940273779925: [683001029,\n  890500002,\n  924243001,\n  924243002,\n  918522001,\n  915529003,\n  915529005,\n  866731001,\n  909370001,\n  751471001,\n  448509014,\n  714790020,\n  923758001,\n  762846027],\n 13172908274596043: [817354001,\n  573085033,\n  924243001,\n  924243002,\n  918522001,\n  915529003,\n  915529005,\n  866731001,\n  909370001,\n  751471001,\n  448509014,\n  714790020,\n  923758001,\n  762846027],\n 13238763363016949: [898775006,\n  924243001,\n  924243002,\n  918522001,\n  915529003,\n  915529005,\n  866731001,\n  909370001,\n  751471001,\n  448509014,\n  714790020,\n  923758001,\n  762846027],\n 13305786509490851: [685814003,\n  763988006,\n  685816038,\n  924243001,\n  924243002,\n  918522001,\n  915529003,\n  915529005,\n  866731001,\n  909370001,\n  751471001,\n  448509014,\n  714790020,\n  923758001,\n  762846027],\n 13390155092415715: [861121001,\n  859808002,\n  837351002,\n  924243001,\n  924243002,\n  918522001,\n  915529003,\n  915529005,\n  866731001,\n  909370001,\n  751471001,\n  448509014,\n  714790020,\n  923758001,\n  762846027],\n 13394852673914706: [875239002,\n  856840001,\n  924243002,\n  918522001,\n  924243001,\n  915529003,\n  915529005,\n  866731001,\n  909370001,\n  751471001,\n  448509014,\n  714790020,\n  923758001,\n  762846027],\n 13402947130473695: [936610001,\n  897098001,\n  924243001,\n  924243002,\n  918522001,\n  915529003,\n  915529005,\n  866731001,\n  909370001,\n  751471001,\n  448509014,\n  714790020,\n  923758001,\n  762846027],\n 13504895065993510: [237347063,\n  924243002,\n  918522001,\n  924243001,\n  915529003,\n  915529005,\n  866731001,\n  909370001,\n  751471001,\n  448509014,\n  714790020,\n  923758001,\n  762846027],\n 13513635674306467: [904801001,\n  673281021,\n  441386004,\n  578630031,\n  864216001,\n  827792002,\n  816111003,\n  795243008,\n  828912004,\n  924243001,\n  924243002,\n  918522001,\n  915529003,\n  915529005,\n  866731001,\n  909370001,\n  751471001,\n  448509014,\n  714790020,\n  923758001,\n  762846027],\n 13543385807185248: [692709002,\n  689040001,\n  924243001,\n  924243002,\n  918522001,\n  915529003,\n  915529005,\n  866731001,\n  909370001,\n  751471001,\n  448509014,\n  714790020,\n  923758001,\n  762846027],\n 13652057219628339: [852940004,\n  924243001,\n  924243002,\n  918522001,\n  915529003,\n  915529005,\n  866731001,\n  909370001,\n  751471001,\n  448509014,\n  714790020,\n  923758001,\n  762846027],\n 13677633067056072: [855080009,\n  707269011,\n  924243001,\n  924243002,\n  918522001,\n  915529003,\n  915529005,\n  866731001,\n  909370001,\n  751471001,\n  448509014,\n  714790020,\n  923758001,\n  762846027],\n 13718556659542304: [816355003,\n  868495004,\n  803160006,\n  860172002,\n  924243001,\n  924243002,\n  918522001,\n  915529003,\n  915529005,\n  866731001,\n  909370001,\n  751471001,\n  448509014,\n  714790020,\n  923758001,\n  762846027],\n 13744105027329188: [891591001,\n  902407003,\n  776179001,\n  924243001,\n  924243002,\n  918522001,\n  915529003,\n  915529005,\n  866731001,\n  909370001,\n  751471001,\n  448509014,\n  714790020,\n  923758001,\n  762846027],\n 13798619015754746: [715624001,\n  677930086,\n  924243001,\n  924243002,\n  918522001,\n  915529003,\n  915529005,\n  866731001,\n  909370001,\n  751471001,\n  448509014,\n  714790020,\n  923758001,\n  762846027],\n 13816484732521112: [930578001,\n  924243001,\n  924243002,\n  918522001,\n  915529003,\n  915529005,\n  866731001,\n  909370001,\n  751471001,\n  448509014,\n  714790020,\n  923758001,\n  762846027],\n 14220564134211754: [809961002,\n  924243001,\n  924243002,\n  918522001,\n  915529003,\n  915529005,\n  866731001,\n  909370001,\n  751471001,\n  448509014,\n  714790020,\n  923758001,\n  762846027],\n 14238288147274595: [614426002,\n  886538002,\n  626894001,\n  792018001,\n  924243001,\n  924243002,\n  918522001,\n  915529003,\n  915529005,\n  866731001,\n  909370001,\n  751471001,\n  448509014,\n  714790020,\n  923758001,\n  762846027],\n 14320276753196447: [846753002,\n  866488001,\n  719655001,\n  924243001,\n  924243002,\n  918522001,\n  915529003,\n  915529005,\n  866731001,\n  909370001,\n  751471001,\n  448509014,\n  714790020,\n  923758001,\n  762846027],\n 14351588321343060: [816563001,\n  846296006,\n  816563003,\n  875469004,\n  924243001,\n  924243002,\n  918522001,\n  915529003,\n  915529005,\n  866731001,\n  909370001,\n  751471001,\n  448509014,\n  714790020,\n  923758001,\n  762846027],\n 14401014487501724: [730570029,\n  706016001,\n  924243001,\n  924243002,\n  918522001,\n  915529003,\n  915529005,\n  866731001,\n  909370001,\n  751471001,\n  448509014,\n  714790020,\n  923758001,\n  762846027],\n 14409773066512426: [789674005,\n  885710002,\n  770315005,\n  924243002,\n  918522001,\n  924243001,\n  915529003,\n  915529005,\n  866731001,\n  909370001,\n  751471001,\n  448509014,\n  714790020,\n  923758001,\n  762846027],\n 14431964477991447: [794575002,\n  541308038,\n  904584009,\n  949551002,\n  904584007,\n  949551001,\n  919037002,\n  541308035,\n  736870001,\n  594542027,\n  852785002,\n  871621003,\n  924243001,\n  924243002,\n  918522001,\n  915529003,\n  915529005,\n  866731001,\n  909370001,\n  751471001,\n  448509014,\n  714790020,\n  923758001,\n  762846027],\n 14489087008348748: [863595006,\n  884174001,\n  924243001,\n  924243002,\n  918522001,\n  915529003,\n  915529005,\n  866731001,\n  909370001,\n  751471001,\n  448509014,\n  714790020,\n  923758001,\n  762846027],\n 14499740548218055: [867969003,\n  825927003,\n  706016002,\n  554450036,\n  924243001,\n  924243002,\n  918522001,\n  915529003,\n  915529005,\n  866731001,\n  909370001,\n  751471001,\n  448509014,\n  714790020,\n  923758001,\n  762846027],\n 14530095987536234: [906382002,\n  924243001,\n  924243002,\n  918522001,\n  915529003,\n  915529005,\n  866731001,\n  909370001,\n  751471001,\n  448509014,\n  714790020,\n  923758001,\n  762846027],\n 14548515405367279: [523490003,\n  852442003,\n  924243002,\n  918522001,\n  924243001,\n  915529003,\n  915529005,\n  866731001,\n  909370001,\n  751471001,\n  448509014,\n  714790020,\n  923758001,\n  762846027],\n 14631482851776060: [851400017,\n  850277002,\n  924243001,\n  924243002,\n  918522001,\n  915529003,\n  915529005,\n  866731001,\n  909370001,\n  751471001,\n  448509014,\n  714790020,\n  923758001,\n  762846027],\n 14641413240947028: [881478013,\n  924243001,\n  924243002,\n  918522001,\n  915529003,\n  915529005,\n  866731001,\n  909370001,\n  751471001,\n  448509014,\n  714790020,\n  923758001,\n  762846027],\n 14673661520386742: [920753001,\n  903773001,\n  865935001,\n  924243001,\n  924243002,\n  918522001,\n  915529003,\n  915529005,\n  866731001,\n  909370001,\n  751471001,\n  448509014,\n  714790020,\n  923758001,\n  762846027],\n 14691435744718704: [806388001,\n  806388002,\n  924243001,\n  924243002,\n  918522001,\n  915529003,\n  915529005,\n  866731001,\n  909370001,\n  751471001,\n  448509014,\n  714790020,\n  923758001,\n  762846027],\n 14704003845057173: [892280002,\n  816423005,\n  924243001,\n  924243002,\n  918522001,\n  915529003,\n  915529005,\n  866731001,\n  909370001,\n  751471001,\n  448509014,\n  714790020,\n  923758001,\n  762846027],\n 14867997302385095: [677930060,\n  924243002,\n  918522001,\n  924243001,\n  915529003,\n  915529005,\n  866731001,\n  909370001,\n  751471001,\n  448509014,\n  714790020,\n  923758001,\n  762846027],\n 14874854922928548: [856992001,\n  816563001,\n  817213002,\n  816563003,\n  924243001,\n  924243002,\n  918522001,\n  915529003,\n  915529005,\n  866731001,\n  909370001,\n  751471001,\n  448509014,\n  714790020,\n  923758001,\n  762846027],\n 14949049163132763: [740519002,\n  749699001,\n  835851004,\n  924243001,\n  924243002,\n  918522001,\n  915529003,\n  915529005,\n  866731001,\n  909370001,\n  751471001,\n  448509014,\n  714790020,\n  923758001,\n  762846027],\n 15049568275474360: [901966001,\n  855673001,\n  924243001,\n  924243002,\n  918522001,\n  915529003,\n  915529005,\n  866731001,\n  909370001,\n  751471001,\n  448509014,\n  714790020,\n  923758001,\n  762846027],\n 15127370327980692: [899155001,\n  663463001,\n  783418002,\n  774627005,\n  608943004,\n  924243001,\n  924243002,\n  918522001,\n  915529003,\n  915529005,\n  866731001,\n  909370001,\n  751471001,\n  448509014,\n  714790020,\n  923758001,\n  762846027],\n 15128711491454908: [817354001,\n  896096003,\n  924243001,\n  924243002,\n  918522001,\n  915529003,\n  915529005,\n  866731001,\n  909370001,\n  751471001,\n  448509014,\n  714790020,\n  923758001,\n  762846027],\n 15276772882192266: [915526001,\n  811644004,\n  924243001,\n  924243002,\n  918522001,\n  915529003,\n  915529005,\n  866731001,\n  909370001,\n  751471001,\n  448509014,\n  714790020,\n  923758001,\n  762846027],\n 15336850162369379: [897682004,\n  860285002,\n  924243001,\n  924243002,\n  918522001,\n  915529003,\n  915529005,\n  866731001,\n  909370001,\n  751471001,\n  448509014,\n  714790020,\n  923758001,\n  762846027],\n 15338421839437002: [893141001,\n  874754002,\n  924243001,\n  924243002,\n  918522001,\n  915529003,\n  915529005,\n  866731001,\n  909370001,\n  751471001,\n  448509014,\n  714790020,\n  923758001,\n  762846027],\n 15465382925056286: [909721002,\n  909588006,\n  918516001,\n  891898001,\n  887904003,\n  924243001,\n  924243002,\n  918522001,\n  915529003,\n  915529005,\n  866731001,\n  909370001,\n  751471001,\n  448509014,\n  714790020,\n  923758001,\n  762846027],\n 15481333642931468: [863646001,\n  673677022,\n  805011002,\n  924243001,\n  924243002,\n  918522001,\n  915529003,\n  915529005,\n  866731001,\n  909370001,\n  751471001,\n  448509014,\n  714790020,\n  923758001,\n  762846027],\n 15508882296103692: [307239005,\n  307239010,\n  924243002,\n  918522001,\n  924243001,\n  915529003,\n  915529005,\n  866731001,\n  909370001,\n  751471001,\n  448509014,\n  714790020,\n  923758001,\n  762846027],\n 15546227719470196: [835348011,\n  835348006,\n  924243001,\n  924243002,\n  918522001,\n  915529003,\n  915529005,\n  866731001,\n  909370001,\n  751471001,\n  448509014,\n  714790020,\n  923758001,\n  762846027],\n 15570838883348120: [909185001,\n  831416001,\n  924243002,\n  918522001,\n  924243001,\n  915529003,\n  915529005,\n  866731001,\n  909370001,\n  751471001,\n  448509014,\n  714790020,\n  923758001,\n  762846027],\n 15598719262006538: [758034001,\n  557599022,\n  851010008,\n  883026001,\n  924243001,\n  924243002,\n  918522001,\n  915529003,\n  915529005,\n  866731001,\n  909370001,\n  751471001,\n  448509014,\n  714790020,\n  923758001,\n  762846027],\n 15739392812219206: [875350001,\n  659132021,\n  924243001,\n  924243002,\n  918522001,\n  915529003,\n  915529005,\n  866731001,\n  909370001,\n  751471001,\n  448509014,\n  714790020,\n  923758001,\n  762846027],\n 15802575927082305: [843671001,\n  836699001,\n  885624001,\n  849327001,\n  924243001,\n  924243002,\n  918522001,\n  915529003,\n  915529005,\n  866731001,\n  909370001,\n  751471001,\n  448509014,\n  714790020,\n  923758001,\n  762846027],\n 15820554573873772: [902265001,\n  907951001,\n  905776003,\n  902161006,\n  928907001,\n  923353001,\n  909721003,\n  902388001,\n  793012001,\n  884319008,\n  924243001,\n  924243002,\n  918522001,\n  915529003,\n  915529005,\n  866731001,\n  909370001,\n  751471001,\n  448509014,\n  714790020,\n  923758001,\n  762846027],\n 15884053534511833: [905776003,\n  924243001,\n  924243002,\n  918522001,\n  915529003,\n  915529005,\n  866731001,\n  909370001,\n  751471001,\n  448509014,\n  714790020,\n  923758001,\n  762846027],\n 15909174747442502: [899002003,\n  874116015,\n  859208005,\n  924243001,\n  924243002,\n  918522001,\n  915529003,\n  915529005,\n  866731001,\n  909370001,\n  751471001,\n  448509014,\n  714790020,\n  923758001,\n  762846027],\n 15952594811452436: [732188004,\n  924243001,\n  924243002,\n  918522001,\n  915529003,\n  915529005,\n  866731001,\n  909370001,\n  751471001,\n  448509014,\n  714790020,\n  923758001,\n  762846027],\n 16002866821391024: [742423004,\n  832482001,\n  733097010,\n  832482004,\n  924243001,\n  924243002,\n  918522001,\n  915529003,\n  915529005,\n  866731001,\n  909370001,\n  751471001,\n  448509014,\n  714790020,\n  923758001,\n  762846027],\n 16022843127116105: [856848001,\n  713993019,\n  875049001,\n  770336001,\n  890215001,\n  924243001,\n  924243002,\n  918522001,\n  915529003,\n  915529005,\n  866731001,\n  909370001,\n  751471001,\n  448509014,\n  714790020,\n  923758001,\n  762846027],\n 16034184207681049: [801447001,\n  924243001,\n  924243002,\n  918522001,\n  915529003,\n  915529005,\n  866731001,\n  909370001,\n  751471001,\n  448509014,\n  714790020,\n  923758001,\n  762846027],\n 16093911388951745: [728156018,\n  924243001,\n  924243002,\n  918522001,\n  915529003,\n  915529005,\n  866731001,\n  909370001,\n  751471001,\n  448509014,\n  714790020,\n  923758001,\n  762846027],\n 16109611129591607: [904357002,\n  877773003,\n  924243001,\n  924243002,\n  918522001,\n  915529003,\n  915529005,\n  866731001,\n  909370001,\n  751471001,\n  448509014,\n  714790020,\n  923758001,\n  762846027],\n 16171113462012840: [640021023,\n  924243001,\n  924243002,\n  918522001,\n  915529003,\n  915529005,\n  866731001,\n  909370001,\n  751471001,\n  448509014,\n  714790020,\n  923758001,\n  762846027],\n 16173329160378283: [744786001,\n  758266001,\n  689038001,\n  924243001,\n  924243002,\n  918522001,\n  915529003,\n  915529005,\n  866731001,\n  909370001,\n  751471001,\n  448509014,\n  714790020,\n  923758001,\n  762846027],\n 16337235569277062: [794321011,\n  804992001,\n  924243001,\n  924243002,\n  918522001,\n  915529003,\n  915529005,\n  866731001,\n  909370001,\n  751471001,\n  448509014,\n  714790020,\n  923758001,\n  762846027],\n 16379701409566518: [915526001,\n  924243001,\n  924243002,\n  918522001,\n  915529003,\n  915529005,\n  866731001,\n  909370001,\n  751471001,\n  448509014,\n  714790020,\n  923758001,\n  762846027],\n 16446358282963957: [762846006,\n  762846008,\n  868060001,\n  924243001,\n  924243002,\n  918522001,\n  915529003,\n  915529005,\n  866731001,\n  909370001,\n  751471001,\n  448509014,\n  714790020,\n  923758001,\n  762846027],\n 16723336668231865: [857417001,\n  646490017,\n  667096006,\n  778534006,\n  820505003,\n  889713001,\n  924243001,\n  924243002,\n  918522001,\n  915529003,\n  915529005,\n  866731001,\n  909370001,\n  751471001,\n  448509014,\n  714790020,\n  923758001,\n  762846027],\n 16777481876147952: [867969002,\n  874113026,\n  677930086,\n  562245018,\n  750424021,\n  924243001,\n  924243002,\n  918522001,\n  915529003,\n  915529005,\n  866731001,\n  909370001,\n  751471001,\n  448509014,\n  714790020,\n  923758001,\n  762846027],\n 16798077056434349: [817472005,\n  871581002,\n  868059001,\n  871581001,\n  924243001,\n  924243002,\n  918522001,\n  915529003,\n  915529005,\n  866731001,\n  909370001,\n  751471001,\n  448509014,\n  714790020,\n  923758001,\n  762846027],\n 16811277355455388: [919273002,\n  924243002,\n  918522001,\n  924243001,\n  915529003,\n  915529005,\n  866731001,\n  909370001,\n  751471001,\n  448509014,\n  714790020,\n  923758001,\n  762846027],\n 16865274162250366: [762600009,\n  785018008,\n  825720004,\n  924243001,\n  924243002,\n  918522001,\n  915529003,\n  915529005,\n  866731001,\n  909370001,\n  751471001,\n  448509014,\n  714790020,\n  923758001,\n  762846027],\n 16890836001263351: [928157002,\n  910444001,\n  578476001,\n  896851001,\n  861477001,\n  570189002,\n  711053027,\n  806388005,\n  924243001,\n  924243002,\n  918522001,\n  915529003,\n  915529005,\n  866731001,\n  909370001,\n  751471001,\n  448509014,\n  714790020,\n  923758001,\n  762846027],\n 16894806993647814: [794191003,\n  865799006,\n  743098002,\n  863515001,\n  865490001,\n  759814022,\n  870193007,\n  556539014,\n  924243001,\n  924243002,\n  918522001,\n  915529003,\n  915529005,\n  866731001,\n  909370001,\n  751471001,\n  448509014,\n  714790020,\n  923758001,\n  762846027],\n 16895900300043605: [729928026,\n  767423001,\n  818754004,\n  893432005,\n  909059002,\n  925290003,\n  929226002,\n  924243001,\n  924243002,\n  918522001,\n  915529003,\n  915529005,\n  866731001,\n  909370001,\n  751471001,\n  448509014,\n  714790020,\n  923758001,\n  762846027],\n 16929061921944013: [917434002,\n  714790021,\n  821163009,\n  924243001,\n  924243002,\n  918522001,\n  915529003,\n  915529005,\n  866731001,\n  909370001,\n  751471001,\n  448509014,\n  714790020,\n  923758001,\n  762846027],\n 17002094758850192: [742258027,\n  884904001,\n  714026016,\n  584298032,\n  687734014,\n  924243001,\n  924243002,\n  918522001,\n  915529003,\n  915529005,\n  866731001,\n  909370001,\n  751471001,\n  448509014,\n  714790020,\n  923758001,\n  762846027],\n 17093069883664324: [916468003,\n  915526002,\n  924243001,\n  924243002,\n  918522001,\n  915529003,\n  915529005,\n  866731001,\n  909370001,\n  751471001,\n  448509014,\n  714790020,\n  923758001,\n  762846027],\n 17144424878990553: [865691001,\n  755575003,\n  865699001,\n  894756002,\n  610776106,\n  894756003,\n  579541075,\n  730683054,\n  803757014,\n  750422039,\n  826646009,\n  924243001,\n  924243002,\n  918522001,\n  915529003,\n  915529005,\n  866731001,\n  909370001,\n  751471001,\n  448509014,\n  714790020,\n  923758001,\n  762846027],\n 17151054572424104: [877845001,\n  926164001,\n  926166001,\n  855686002,\n  924243001,\n  924243002,\n  918522001,\n  915529003,\n  915529005,\n  866731001,\n  909370001,\n  751471001,\n  448509014,\n  714790020,\n  923758001,\n  762846027],\n 17248216008422213: [855793003,\n  855793002,\n  902869001,\n  924243001,\n  924243002,\n  918522001,\n  915529003,\n  915529005,\n  866731001,\n  909370001,\n  751471001,\n  448509014,\n  714790020,\n  923758001,\n  762846027],\n 17262967510090527: [456163085,\n  456163063,\n  906714001,\n  815471004,\n  924243001,\n  924243002,\n  918522001,\n  915529003,\n  915529005,\n  866731001,\n  909370001,\n  751471001,\n  448509014,\n  714790020,\n  923758001,\n  762846027],\n 17268465156944800: [759482001,\n  924243001,\n  924243002,\n  918522001,\n  915529003,\n  915529005,\n  866731001,\n  909370001,\n  751471001,\n  448509014,\n  714790020,\n  923758001,\n  762846027],\n 17295583095117093: [927530004,\n  811925009,\n  924243002,\n  918522001,\n  924243001,\n  915529003,\n  915529005,\n  866731001,\n  909370001,\n  751471001,\n  448509014,\n  714790020,\n  923758001,\n  762846027],\n 17506329690470402: [886706007,\n  924243001,\n  924243002,\n  918522001,\n  915529003,\n  915529005,\n  866731001,\n  909370001,\n  751471001,\n  448509014,\n  714790020,\n  923758001,\n  762846027],\n 17518206936900271: [832311002,\n  924243001,\n  924243002,\n  918522001,\n  915529003,\n  915529005,\n  866731001,\n  909370001,\n  751471001,\n  448509014,\n  714790020,\n  923758001,\n  762846027],\n 17546997716849681: [750423019,\n  783346030,\n  924243001,\n  924243002,\n  918522001,\n  915529003,\n  915529005,\n  866731001,\n  909370001,\n  751471001,\n  448509014,\n  714790020,\n  923758001,\n  762846027],\n 17585919395903737: [631536030,\n  924243001,\n  924243002,\n  918522001,\n  915529003,\n  915529005,\n  866731001,\n  909370001,\n  751471001,\n  448509014,\n  714790020,\n  923758001,\n  762846027],\n 17593074439242760: [910199002,\n  795675004,\n  795675005,\n  924243001,\n  924243002,\n  918522001,\n  915529003,\n  915529005,\n  866731001,\n  909370001,\n  751471001,\n  448509014,\n  714790020,\n  923758001,\n  762846027],\n 17646780986975311: [925372001,\n  912309001,\n  875856004,\n  893059003,\n  569246008,\n  887653002,\n  924243001,\n  924243002,\n  918522001,\n  915529003,\n  915529005,\n  866731001,\n  909370001,\n  751471001,\n  448509014,\n  714790020,\n  923758001,\n  762846027],\n 17728022366406085: [700765001,\n  924243001,\n  924243002,\n  918522001,\n  915529003,\n  915529005,\n  866731001,\n  909370001,\n  751471001,\n  448509014,\n  714790020,\n  923758001,\n  762846027],\n 17744952773083479: [762656001,\n  762656002,\n  886697001,\n  924243001,\n  924243002,\n  918522001,\n  915529003,\n  915529005,\n  866731001,\n  909370001,\n  751471001,\n  448509014,\n  714790020,\n  923758001,\n  762846027],\n 17824016819858238: [927957001,\n  456163086,\n  924243001,\n  924243002,\n  918522001,\n  915529003,\n  915529005,\n  866731001,\n  909370001,\n  751471001,\n  448509014,\n  714790020,\n  923758001,\n  762846027],\n 17825938953061742: [843903001,\n  857621001,\n  924243001,\n  924243002,\n  918522001,\n  915529003,\n  915529005,\n  866731001,\n  909370001,\n  751471001,\n  448509014,\n  714790020,\n  923758001,\n  762846027],\n 17832041683804188: [717773001,\n  713993081,\n  717773046,\n  924243001,\n  924243002,\n  918522001,\n  915529003,\n  915529005,\n  866731001,\n  909370001,\n  751471001,\n  448509014,\n  714790020,\n  923758001,\n  762846027],\n 17841044175559752: [743840001,\n  924243001,\n  924243002,\n  918522001,\n  915529003,\n  915529005,\n  866731001,\n  909370001,\n  751471001,\n  448509014,\n  714790020,\n  923758001,\n  762846027],\n 17863659825853016: [708311026,\n  924243002,\n  918522001,\n  924243001,\n  915529003,\n  915529005,\n  866731001,\n  909370001,\n  751471001,\n  448509014,\n  714790020,\n  923758001,\n  762846027],\n 17889888969568401: [806131001,\n  470789001,\n  554477020,\n  859139002,\n  924243001,\n  924243002,\n  918522001,\n  915529003,\n  915529005,\n  866731001,\n  909370001,\n  751471001,\n  448509014,\n  714790020,\n  923758001,\n  762846027],\n 17908444573107414: [835851001,\n  924243001,\n  924243002,\n  918522001,\n  915529003,\n  915529005,\n  866731001,\n  909370001,\n  751471001,\n  448509014,\n  714790020,\n  923758001,\n  762846027],\n 17948564163813484: [856270002,\n  924243001,\n  924243002,\n  918522001,\n  915529003,\n  915529005,\n  866731001,\n  909370001,\n  751471001,\n  448509014,\n  714790020,\n  923758001,\n  762846027],\n 17990786310772780: [834063001,\n  924243001,\n  924243002,\n  918522001,\n  915529003,\n  915529005,\n  866731001,\n  909370001,\n  751471001,\n  448509014,\n  714790020,\n  923758001,\n  762846027],\n 17997779026841426: [913030001,\n  866383006,\n  812668001,\n  868018001,\n  776237026,\n  924243001,\n  924243002,\n  918522001,\n  915529003,\n  915529005,\n  866731001,\n  909370001,\n  751471001,\n  448509014,\n  714790020,\n  923758001,\n  762846027],\n 18007210471082836: [562245018,\n  924243001,\n  924243002,\n  918522001,\n  915529003,\n  915529005,\n  866731001,\n  909370001,\n  751471001,\n  448509014,\n  714790020,\n  923758001,\n  762846027],\n 18133556995242623: [918894002,\n  910477001,\n  898568001,\n  562245084,\n  821395005,\n  873771002,\n  866714017,\n  801447001,\n  693242018,\n  834906017,\n  536139071,\n  832482001,\n  872378003,\n  562245102,\n  866657001,\n  864224005,\n  924243001,\n  924243002,\n  918522001,\n  915529003,\n  915529005,\n  866731001,\n  909370001,\n  751471001,\n  448509014,\n  714790020,\n  923758001,\n  762846027],\n 18179827776580974: [817058001,\n  737040007,\n  924243001,\n  924243002,\n  918522001,\n  915529003,\n  915529005,\n  866731001,\n  909370001,\n  751471001,\n  448509014,\n  714790020,\n  923758001,\n  762846027],\n 18314489979306866: [443860020,\n  924243001,\n  924243002,\n  918522001,\n  915529003,\n  915529005,\n  866731001,\n  909370001,\n  751471001,\n  448509014,\n  714790020,\n  923758001,\n  762846027],\n 18377972455613450: [916468002,\n  924243001,\n  924243002,\n  918522001,\n  915529003,\n  915529005,\n  866731001,\n  909370001,\n  751471001,\n  448509014,\n  714790020,\n  923758001,\n  762846027],\n 18452712673647310: [867969007,\n  806131012,\n  924243001,\n  924243002,\n  918522001,\n  915529003,\n  915529005,\n  866731001,\n  909370001,\n  751471001,\n  448509014,\n  714790020,\n  923758001,\n  762846027],\n 18473744934857907: [823791013,\n  924243001,\n  924243002,\n  918522001,\n  915529003,\n  915529005,\n  866731001,\n  909370001,\n  751471001,\n  448509014,\n  714790020,\n  923758001,\n  762846027],\n 18475894803207231: [770315005,\n  578478001,\n  573085042,\n  751471037,\n  758034030,\n  884174003,\n  884174001,\n  762846008,\n  770315009,\n  884174002,\n  770315017,\n  924243001,\n  924243002,\n  918522001,\n  915529003,\n  915529005,\n  866731001,\n  909370001,\n  751471001,\n  448509014,\n  714790020,\n  923758001,\n  762846027],\n 18494119694862579: [715624013,\n  924243001,\n  924243002,\n  918522001,\n  915529003,\n  915529005,\n  866731001,\n  909370001,\n  751471001,\n  448509014,\n  714790020,\n  923758001,\n  762846027],\n 18541559997104859: [854261001,\n  824337001,\n  832330003,\n  924243001,\n  924243002,\n  918522001,\n  915529003,\n  915529005,\n  866731001,\n  909370001,\n  751471001,\n  448509014,\n  714790020,\n  923758001,\n  762846027],\n 18589031155053522: [724906019,\n  732842002,\n  868405002,\n  842607002,\n  877273001,\n  924243001,\n  924243002,\n  918522001,\n  915529003,\n  915529005,\n  866731001,\n  909370001,\n  751471001,\n  448509014,\n  714790020,\n  923758001,\n  762846027],\n 18651639691511512: [824340002,\n  924243001,\n  924243002,\n  918522001,\n  915529003,\n  915529005,\n  866731001,\n  909370001,\n  751471001,\n  448509014,\n  714790020,\n  923758001,\n  762846027],\n 18673653377351162: [720125001,\n  866117002,\n  924243001,\n  924243002,\n  918522001,\n  915529003,\n  915529005,\n  866731001,\n  909370001,\n  751471001,\n  448509014,\n  714790020,\n  923758001,\n  762846027],\n 18687869504347721: [874819003,\n  924243001,\n  924243002,\n  918522001,\n  915529003,\n  915529005,\n  866731001,\n  909370001,\n  751471001,\n  448509014,\n  714790020,\n  923758001,\n  762846027],\n 18714882552132917: [947060001,\n  924243001,\n  924243002,\n  918522001,\n  915529003,\n  915529005,\n  866731001,\n  909370001,\n  751471001,\n  448509014,\n  714790020,\n  923758001,\n  762846027],\n 18753176760387945: [862738006,\n  820021002,\n  924243001,\n  924243002,\n  918522001,\n  915529003,\n  915529005,\n  866731001,\n  909370001,\n  751471001,\n  448509014,\n  714790020,\n  923758001,\n  762846027],\n 18812708428628829: [875672001,\n  924243001,\n  924243002,\n  918522001,\n  915529003,\n  915529005,\n  866731001,\n  909370001,\n  751471001,\n  448509014,\n  714790020,\n  923758001,\n  762846027],\n 18874385201476472: [865929007,\n  924243002,\n  918522001,\n  924243001,\n  915529003,\n  915529005,\n  866731001,\n  909370001,\n  751471001,\n  448509014,\n  714790020,\n  923758001,\n  762846027],\n 19011360759083695: [809961002,\n  924243001,\n  924243002,\n  918522001,\n  915529003,\n  915529005,\n  866731001,\n  909370001,\n  751471001,\n  448509014,\n  714790020,\n  923758001,\n  762846027],\n 19017898291457109: [859400007,\n  895610004,\n  924243001,\n  924243002,\n  918522001,\n  915529003,\n  915529005,\n  866731001,\n  909370001,\n  751471001,\n  448509014,\n  714790020,\n  923758001,\n  762846027],\n 19065413029944101: [785515002,\n  932798001,\n  924243001,\n  924243002,\n  918522001,\n  915529003,\n  915529005,\n  866731001,\n  909370001,\n  751471001,\n  448509014,\n  714790020,\n  923758001,\n  762846027],\n 19065664824420208: [677930066,\n  372860002,\n  924243001,\n  924243002,\n  918522001,\n  915529003,\n  915529005,\n  866731001,\n  909370001,\n  751471001,\n  448509014,\n  714790020,\n  923758001,\n  762846027],\n 19076524716716646: [796033003,\n  874891001,\n  723368001,\n  717727014,\n  924243001,\n  924243002,\n  918522001,\n  915529003,\n  915529005,\n  866731001,\n  909370001,\n  751471001,\n  448509014,\n  714790020,\n  923758001,\n  762846027],\n 19081054505024353: [878499002,\n  860336004,\n  878479002,\n  870600002,\n  821163010,\n  817353003,\n  832453005,\n  880238002,\n  924243001,\n  924243002,\n  918522001,\n  915529003,\n  915529005,\n  866731001,\n  909370001,\n  751471001,\n  448509014,\n  714790020,\n  923758001,\n  762846027],\n 19083840669057539: [832330003,\n  832331003,\n  844409001,\n  719655001,\n  924243001,\n  924243002,\n  918522001,\n  915529003,\n  915529005,\n  866731001,\n  909370001,\n  751471001,\n  448509014,\n  714790020,\n  923758001,\n  762846027],\n 19208424788084990: [874114002,\n  730863018,\n  874110001,\n  372860002,\n  868376001,\n  924243001,\n  924243002,\n  918522001,\n  915529003,\n  915529005,\n  866731001,\n  909370001,\n  751471001,\n  448509014,\n  714790020,\n  923758001,\n  762846027],\n 19245788600797650: [881432001,\n  924243001,\n  924243002,\n  918522001,\n  915529003,\n  915529005,\n  866731001,\n  909370001,\n  751471001,\n  448509014,\n  714790020,\n  923758001,\n  762846027],\n 19288997044816682: [568601043,\n  610776071,\n  924243001,\n  924243002,\n  918522001,\n  915529003,\n  915529005,\n  866731001,\n  909370001,\n  751471001,\n  448509014,\n  714790020,\n  923758001,\n  762846027],\n 19322124157691378: [910439002,\n  871517014,\n  574109011,\n  802023006,\n  868638001,\n  876009004,\n  924243001,\n  924243002,\n  918522001,\n  915529003,\n  915529005,\n  866731001,\n  909370001,\n  751471001,\n  448509014,\n  714790020,\n  923758001,\n  762846027],\n 19336538950424044: [907409001,\n  682238003,\n  774503001,\n  806241009,\n  894172001,\n  870958002,\n  924243001,\n  924243002,\n  918522001,\n  915529003,\n  915529005,\n  866731001,\n  909370001,\n  751471001,\n  448509014,\n  714790020,\n  923758001,\n  762846027],\n 19351975306170733: [835348011,\n  864297003,\n  924243001,\n  924243002,\n  918522001,\n  915529003,\n  915529005,\n  866731001,\n  909370001,\n  751471001,\n  448509014,\n  714790020,\n  923758001,\n  762846027],\n 19364829343267633: [673677022,\n  678942057,\n  924243001,\n  924243002,\n  918522001,\n  915529003,\n  915529005,\n  866731001,\n  909370001,\n  751471001,\n  448509014,\n  714790020,\n  923758001,\n  762846027],\n 19365939967132354: [852523003,\n  863595004,\n  751471039,\n  749699001,\n  751471037,\n  179950001,\n  751471043,\n  835390001,\n  762846029,\n  751471041,\n  924243001,\n  924243002,\n  918522001,\n  915529003,\n  915529005,\n  866731001,\n  909370001,\n  751471001,\n  448509014,\n  714790020,\n  923758001,\n  762846027],\n 19424580336179646: [807241051,\n  807241001,\n  807244025,\n  818754004,\n  924243001,\n  924243002,\n  918522001,\n  915529003,\n  915529005,\n  866731001,\n  909370001,\n  751471001,\n  448509014,\n  714790020,\n  923758001,\n  762846027],\n 19459216330274597: [918200003,\n  928351001,\n  918200001,\n  736870001,\n  924243001,\n  924243002,\n  918522001,\n  915529003,\n  915529005,\n  866731001,\n  909370001,\n  751471001,\n  448509014,\n  714790020,\n  923758001,\n  762846027],\n 19462895814573081: [751295003,\n  884771003,\n  764621001,\n  854338009,\n  698283001,\n  744394001,\n  924243001,\n  924243002,\n  918522001,\n  915529003,\n  915529005,\n  866731001,\n  909370001,\n  751471001,\n  448509014,\n  714790020,\n  923758001,\n  762846027],\n 19518735144905620: [906258001,\n  895487001,\n  924243001,\n  924243002,\n  918522001,\n  915529003,\n  915529005,\n  866731001,\n  909370001,\n  751471001,\n  448509014,\n  714790020,\n  923758001,\n  762846027],\n 19633875172653525: [903992004,\n  872387002,\n  823359005,\n  924243001,\n  924243002,\n  918522001,\n  915529003,\n  915529005,\n  866731001,\n  909370001,\n  751471001,\n  448509014,\n  714790020,\n  923758001,\n  762846027],\n 19664057494513714: [700758001,\n  806241001,\n  924243001,\n  924243002,\n  918522001,\n  915529003,\n  915529005,\n  866731001,\n  909370001,\n  751471001,\n  448509014,\n  714790020,\n  923758001,\n  762846027],\n 19686887402724863: [715624010,\n  715624001,\n  924243001,\n  924243002,\n  918522001,\n  915529003,\n  915529005,\n  866731001,\n  909370001,\n  751471001,\n  448509014,\n  714790020,\n  923758001,\n  762846027],\n 19697691357515111: [841383002,\n  841383003,\n  924243001,\n  924243002,\n  918522001,\n  915529003,\n  915529005,\n  866731001,\n  909370001,\n  751471001,\n  448509014,\n  714790020,\n  923758001,\n  762846027],\n 19759985285070551: [749974009,\n  924243001,\n  924243002,\n  918522001,\n  915529003,\n  915529005,\n  866731001,\n  909370001,\n  751471001,\n  448509014,\n  714790020,\n  923758001,\n  762846027],\n 19774691613864064: [160442007,\n  854811001,\n  811907009,\n  811907011,\n  924243001,\n  924243002,\n  918522001,\n  915529003,\n  915529005,\n  866731001,\n  909370001,\n  751471001,\n  448509014,\n  714790020,\n  923758001,\n  762846027],\n 19820995774994692: [752814003,\n  783346001,\n  924243001,\n  924243002,\n  918522001,\n  915529003,\n  915529005,\n  866731001,\n  909370001,\n  751471001,\n  448509014,\n  714790020,\n  923758001,\n  762846027],\n 19847958910219902: [919786001,\n  924243001,\n  924243002,\n  918522001,\n  915529003,\n  915529005,\n  866731001,\n  909370001,\n  751471001,\n  448509014,\n  714790020,\n  923758001,\n  762846027],\n 19874323888872023: [920869003,\n  901318002,\n  913785001,\n  924243001,\n  924243002,\n  918522001,\n  915529003,\n  915529005,\n  866731001,\n  909370001,\n  751471001,\n  448509014,\n  714790020,\n  923758001,\n  762846027],\n 19890139178256158: [751994016,\n  924243001,\n  924243002,\n  918522001,\n  915529003,\n  915529005,\n  866731001,\n  909370001,\n  751471001,\n  448509014,\n  714790020,\n  923758001,\n  762846027],\n 19954108015369645: [907527001,\n  803468002,\n  804996003,\n  859737003,\n  557994015,\n  859737001,\n  868213012,\n  868213002,\n  748566023,\n  924243001,\n  924243002,\n  918522001,\n  915529003,\n  915529005,\n  866731001,\n  909370001,\n  751471001,\n  448509014,\n  714790020,\n  923758001,\n  762846027],\n 20009527245401993: [916335001,\n  156231001,\n  924243001,\n  924243002,\n  918522001,\n  915529003,\n  915529005,\n  866731001,\n  909370001,\n  751471001,\n  448509014,\n  714790020,\n  923758001,\n  762846027],\n 20017655845010353: [889753001,\n  916058002,\n  926921003,\n  901330002,\n  898439003,\n  760084003,\n  801673001,\n  765308002,\n  748355002,\n  765308014,\n  827968001,\n  801673014,\n  878499013,\n  762143009,\n  924243001,\n  924243002,\n  918522001,\n  915529003,\n  915529005,\n  866731001,\n  909370001,\n  751471001,\n  448509014,\n  714790020,\n  923758001,\n  762846027],\n 20018265840259182: [946748003,\n  859136002,\n  674606051,\n  372860002,\n  924243001,\n  924243002,\n  918522001,\n  915529003,\n  915529005,\n  866731001,\n  909370001,\n  751471001,\n  448509014,\n  714790020,\n  923758001,\n  762846027],\n 20112437830161572: [829991003,\n  800245003,\n  855706004,\n  924243002,\n  918522001,\n  924243001,\n  915529003,\n  915529005,\n  866731001,\n  909370001,\n  751471001,\n  448509014,\n  714790020,\n  923758001,\n  762846027],\n 20209643627658316: [919599001,\n  610776068,\n  859186001,\n  876053002,\n  807241032,\n  610776071,\n  924243001,\n  924243002,\n  918522001,\n  915529003,\n  915529005,\n  866731001,\n  909370001,\n  751471001,\n  448509014,\n  714790020,\n  923758001,\n  762846027],\n 20272533257771816: [878190005,\n  807239005,\n  823168008,\n  811907007,\n  924243001,\n  924243002,\n  918522001,\n  915529003,\n  915529005,\n  866731001,\n  909370001,\n  751471001,\n  448509014,\n  714790020,\n  923758001,\n  762846027],\n 20345575389718912: [715828013,\n  924243001,\n  924243002,\n  918522001,\n  915529003,\n  915529005,\n  866731001,\n  909370001,\n  751471001,\n  448509014,\n  714790020,\n  923758001,\n  762846027],\n 20367676639392361: [834378005,\n  924243001,\n  924243002,\n  918522001,\n  915529003,\n  915529005,\n  866731001,\n  909370001,\n  751471001,\n  448509014,\n  714790020,\n  923758001,\n  762846027],\n 20431212571856928: [699755081,\n  902731001,\n  784247002,\n  699755064,\n  924243001,\n  924243002,\n  918522001,\n  915529003,\n  915529005,\n  866731001,\n  909370001,\n  751471001,\n  448509014,\n  714790020,\n  923758001,\n  762846027],\n 20468336498576732: [935541001,\n  924243001,\n  924243002,\n  918522001,\n  915529003,\n  915529005,\n  866731001,\n  909370001,\n  751471001,\n  448509014,\n  714790020,\n  923758001,\n  762846027],\n 20555726426451087: [906635002,\n  524529004,\n  886569003,\n  875239006,\n  924243001,\n  924243002,\n  918522001,\n  915529003,\n  915529005,\n  866731001,\n  909370001,\n  751471001,\n  448509014,\n  714790020,\n  923758001,\n  762846027],\n 20813878885859537: [679854009,\n  579541001,\n  399223068,\n  869379001,\n  869159001,\n  814594006,\n  924243001,\n  924243002,\n  918522001,\n  915529003,\n  915529005,\n  866731001,\n  909370001,\n  751471001,\n  448509014,\n  714790020,\n  923758001,\n  762846027],\n 20850917274953675: [652356082,\n  924243001,\n  924243002,\n  918522001,\n  915529003,\n  915529005,\n  866731001,\n  909370001,\n  751471001,\n  448509014,\n  714790020,\n  923758001,\n  762846027],\n 20876714058509745: [610776002,\n  523489001,\n  781570014,\n  924243001,\n  924243002,\n  918522001,\n  915529003,\n  915529005,\n  866731001,\n  909370001,\n  751471001,\n  448509014,\n  714790020,\n  923758001,\n  762846027],\n 20957981635939142: [869811001,\n  869811003,\n  895506002,\n  924243001,\n  924243002,\n  918522001,\n  915529003,\n  915529005,\n  866731001,\n  909370001,\n  751471001,\n  448509014,\n  714790020,\n  923758001,\n  762846027],\n 21076017700097616: [917606001,\n  933373001,\n  716947004,\n  694220007,\n  924243001,\n  924243002,\n  918522001,\n  915529003,\n  915529005,\n  866731001,\n  909370001,\n  751471001,\n  448509014,\n  714790020,\n  923758001,\n  762846027],\n 21097508096578594: [885710001,\n  924243002,\n  918522001,\n  924243001,\n  915529003,\n  915529005,\n  866731001,\n  909370001,\n  751471001,\n  448509014,\n  714790020,\n  923758001,\n  762846027],\n 21146031167037118: [706016015,\n  519583008,\n  706016019,\n  706016003,\n  824764005,\n  924243001,\n  924243002,\n  918522001,\n  915529003,\n  915529005,\n  866731001,\n  909370001,\n  751471001,\n  448509014,\n  714790020,\n  923758001,\n  762846027],\n 21180633771390851: [639448011,\n  924243001,\n  924243002,\n  918522001,\n  915529003,\n  915529005,\n  866731001,\n  909370001,\n  751471001,\n  448509014,\n  714790020,\n  923758001,\n  762846027],\n 21187638304622172: [881942002,\n  924243001,\n  924243002,\n  918522001,\n  915529003,\n  915529005,\n  866731001,\n  909370001,\n  751471001,\n  448509014,\n  714790020,\n  923758001,\n  762846027],\n 21210839563442902: [829302003,\n  752514003,\n  656048001,\n  924243001,\n  924243002,\n  918522001,\n  915529003,\n  915529005,\n  866731001,\n  909370001,\n  751471001,\n  448509014,\n  714790020,\n  923758001,\n  762846027],\n 21239123352392992: [854826001,\n  854830001,\n  924243001,\n  924243002,\n  918522001,\n  915529003,\n  915529005,\n  866731001,\n  909370001,\n  751471001,\n  448509014,\n  714790020,\n  923758001,\n  762846027],\n 21357102604707457: [874754002,\n  797988002,\n  924243001,\n  924243002,\n  918522001,\n  915529003,\n  915529005,\n  866731001,\n  909370001,\n  751471001,\n  448509014,\n  714790020,\n  923758001,\n  762846027],\n 21372908980655412: [734922001,\n  812898002,\n  924243001,\n  924243002,\n  918522001,\n  915529003,\n  915529005,\n  866731001,\n  909370001,\n  751471001,\n  448509014,\n  714790020,\n  923758001,\n  762846027],\n 21385151747452686: [827658002,\n  924243001,\n  924243002,\n  918522001,\n  915529003,\n  915529005,\n  866731001,\n  909370001,\n  751471001,\n  448509014,\n  714790020,\n  923758001,\n  762846027],\n 21398432322996838: [821338001,\n  859105002,\n  720346001,\n  685816048,\n  697564046,\n  924243001,\n  924243002,\n  918522001,\n  915529003,\n  915529005,\n  866731001,\n  909370001,\n  751471001,\n  448509014,\n  714790020,\n  923758001,\n  762846027],\n 21693645529233065: [841473001,\n  857621002,\n  841473002,\n  869442001,\n  924243002,\n  918522001,\n  924243001,\n  915529003,\n  915529005,\n  866731001,\n  909370001,\n  751471001,\n  448509014,\n  714790020,\n  923758001,\n  762846027],\n 21755566840225572: [716590001,\n  372860001,\n  886667001,\n  372860002,\n  924243001,\n  924243002,\n  918522001,\n  915529003,\n  915529005,\n  866731001,\n  909370001,\n  751471001,\n  448509014,\n  714790020,\n  923758001,\n  762846027],\n 21756353010050543: [464297007,\n  924243001,\n  924243002,\n  918522001,\n  915529003,\n  915529005,\n  866731001,\n  909370001,\n  751471001,\n  448509014,\n  714790020,\n  923758001,\n  762846027],\n 21826633081214766: [781613013,\n  781613016,\n  924243001,\n  924243002,\n  918522001,\n  915529003,\n  915529005,\n  866731001,\n  909370001,\n  751471001,\n  448509014,\n  714790020,\n  923758001,\n  762846027],\n 21847692280118550: [631878001,\n  881882002,\n  924243001,\n  924243002,\n  918522001,\n  915529003,\n  915529005,\n  866731001,\n  909370001,\n  751471001,\n  448509014,\n  714790020,\n  923758001,\n  762846027],\n 21878224969707394: [918705001,\n  240561001,\n  762656002,\n  924243001,\n  924243002,\n  918522001,\n  915529003,\n  915529005,\n  866731001,\n  909370001,\n  751471001,\n  448509014,\n  714790020,\n  923758001,\n  762846027],\n 21944293912701271: [878756001,\n  825719004,\n  854619002,\n  850176002,\n  924243001,\n  924243002,\n  918522001,\n  915529003,\n  915529005,\n  866731001,\n  909370001,\n  751471001,\n  448509014,\n  714790020,\n  923758001,\n  762846027],\n 21947573475027912: [891591007,\n  891591002,\n  924243001,\n  924243002,\n  918522001,\n  915529003,\n  915529005,\n  866731001,\n  909370001,\n  751471001,\n  448509014,\n  714790020,\n  923758001,\n  762846027],\n 21994480952722392: [873072001,\n  827411006,\n  839457002,\n  812364012,\n  924243001,\n  924243002,\n  918522001,\n  915529003,\n  915529005,\n  866731001,\n  909370001,\n  751471001,\n  448509014,\n  714790020,\n  923758001,\n  762846027],\n 21999739132032544: [861583002,\n  781135006,\n  924243001,\n  924243002,\n  918522001,\n  915529003,\n  915529005,\n  866731001,\n  909370001,\n  751471001,\n  448509014,\n  714790020,\n  923758001,\n  762846027],\n 22050511849977464: [842007002,\n  842007001,\n  811719002,\n  924243001,\n  924243002,\n  918522001,\n  915529003,\n  915529005,\n  866731001,\n  909370001,\n  751471001,\n  448509014,\n  714790020,\n  923758001,\n  762846027],\n 22057271958558120: [883693001,\n  902982001,\n  924243001,\n  924243002,\n  918522001,\n  915529003,\n  915529005,\n  866731001,\n  909370001,\n  751471001,\n  448509014,\n  714790020,\n  923758001,\n  762846027],\n 22112523701963422: [889886001,\n  865917002,\n  837351001,\n  776440001,\n  924243001,\n  924243002,\n  918522001,\n  915529003,\n  915529005,\n  866731001,\n  909370001,\n  751471001,\n  448509014,\n  714790020,\n  923758001,\n  762846027],\n 22135535927379659: [893432002,\n  578476001,\n  924243001,\n  924243002,\n  918522001,\n  915529003,\n  915529005,\n  866731001,\n  909370001,\n  751471001,\n  448509014,\n  714790020,\n  923758001,\n  762846027],\n 22275750316289303: [905776001,\n  919741001,\n  910132001,\n  910132002,\n  871519007,\n  871519008,\n  871519005,\n  924243001,\n  924243002,\n  918522001,\n  915529003,\n  915529005,\n  866731001,\n  909370001,\n  751471001,\n  448509014,\n  714790020,\n  923758001,\n  762846027],\n 22346357465050071: [757915002,\n  559616013,\n  834217004,\n  924243001,\n  924243002,\n  918522001,\n  915529003,\n  915529005,\n  866731001,\n  909370001,\n  751471001,\n  448509014,\n  714790020,\n  923758001,\n  762846027],\n 22358749101264834: [875451002,\n  716590022,\n  880792001,\n  924243001,\n  924243002,\n  918522001,\n  915529003,\n  915529005,\n  866731001,\n  909370001,\n  751471001,\n  448509014,\n  714790020,\n  923758001,\n  762846027],\n 22385454325508085: [562657006,\n  832475001,\n  855893002,\n  924243001,\n  924243002,\n  918522001,\n  915529003,\n  915529005,\n  866731001,\n  909370001,\n  751471001,\n  448509014,\n  714790020,\n  923758001,\n  762846027],\n 22414158197799850: [562245046,\n  924243001,\n  924243002,\n  918522001,\n  915529003,\n  915529005,\n  866731001,\n  909370001,\n  751471001,\n  448509014,\n  714790020,\n  923758001,\n  762846027],\n 22446262278903147: [891886001,\n  805947006,\n  924243001,\n  924243002,\n  918522001,\n  915529003,\n  915529005,\n  866731001,\n  909370001,\n  751471001,\n  448509014,\n  714790020,\n  923758001,\n  762846027],\n 22447903237022535: [922619002,\n  759469001,\n  556255001,\n  879958001,\n  924243001,\n  924243002,\n  918522001,\n  915529003,\n  915529005,\n  866731001,\n  909370001,\n  751471001,\n  448509014,\n  714790020,\n  923758001,\n  762846027],\n 22549926027642338: [905889002,\n  924243001,\n  924243002,\n  918522001,\n  915529003,\n  915529005,\n  866731001,\n  909370001,\n  751471001,\n  448509014,\n  714790020,\n  923758001,\n  762846027],\n 22583375755337258: [898733001,\n  894668005,\n  881244001,\n  882165001,\n  924243001,\n  924243002,\n  918522001,\n  915529003,\n  915529005,\n  866731001,\n  909370001,\n  751471001,\n  448509014,\n  714790020,\n  923758001,\n  762846027],\n 22585079059599069: [860819001,\n  860820001,\n  924243001,\n  924243002,\n  918522001,\n  915529003,\n  915529005,\n  866731001,\n  909370001,\n  751471001,\n  448509014,\n  714790020,\n  923758001,\n  762846027],\n 22587524821775353: [880821001,\n  859400007,\n  924243001,\n  924243002,\n  918522001,\n  915529003,\n  915529005,\n  866731001,\n  909370001,\n  751471001,\n  448509014,\n  714790020,\n  923758001,\n  762846027],\n 22605765490787750: [865595003,\n  924243001,\n  924243002,\n  918522001,\n  915529003,\n  915529005,\n  866731001,\n  909370001,\n  751471001,\n  448509014,\n  714790020,\n  923758001,\n  762846027],\n 22612361647978875: [621381012,\n  924243001,\n  924243002,\n  918522001,\n  915529003,\n  915529005,\n  866731001,\n  909370001,\n  751471001,\n  448509014,\n  714790020,\n  923758001,\n  762846027],\n 22746058695793990: [858161001,\n  924243001,\n  924243002,\n  918522001,\n  915529003,\n  915529005,\n  866731001,\n  909370001,\n  751471001,\n  448509014,\n  714790020,\n  923758001,\n  762846027],\n 22787002055305115: [781135006,\n  924243001,\n  924243002,\n  918522001,\n  915529003,\n  915529005,\n  866731001,\n  909370001,\n  751471001,\n  448509014,\n  714790020,\n  923758001,\n  762846027],\n 22790477510135474: [803757001,\n  752814022,\n  803757005,\n  924243002,\n  918522001,\n  924243001,\n  915529003,\n  915529005,\n  866731001,\n  909370001,\n  751471001,\n  448509014,\n  714790020,\n  923758001,\n  762846027],\n 22811546624783559: [884319001,\n  893798001,\n  924243001,\n  924243002,\n  918522001,\n  915529003,\n  915529005,\n  866731001,\n  909370001,\n  751471001,\n  448509014,\n  714790020,\n  923758001,\n  762846027],\n 22858296997525116: [874754002,\n  924243002,\n  918522001,\n  924243001,\n  915529003,\n  915529005,\n  866731001,\n  909370001,\n  751471001,\n  448509014,\n  714790020,\n  923758001,\n  762846027],\n 22901740259146320: [911699002,\n  719655001,\n  924243001,\n  924243002,\n  918522001,\n  915529003,\n  915529005,\n  866731001,\n  909370001,\n  751471001,\n  448509014,\n  714790020,\n  923758001,\n  762846027],\n 22916380916187628: [926105003,\n  870999004,\n  874110002,\n  924243001,\n  924243002,\n  918522001,\n  915529003,\n  915529005,\n  866731001,\n  909370001,\n  751471001,\n  448509014,\n  714790020,\n  923758001,\n  762846027],\n 22921302779297774: [148033001,\n  837014001,\n  858147001,\n  924243001,\n  924243002,\n  918522001,\n  915529003,\n  915529005,\n  866731001,\n  909370001,\n  751471001,\n  448509014,\n  714790020,\n  923758001,\n  762846027],\n 22938593259428180: [808669004,\n  839402001,\n  865172002,\n  924243001,\n  924243002,\n  918522001,\n  915529003,\n  915529005,\n  866731001,\n  909370001,\n  751471001,\n  448509014,\n  714790020,\n  923758001,\n  762846027],\n 22944334193002667: [918292011,\n  720125039,\n  852585002,\n  818391002,\n  720125043,\n  924243001,\n  924243002,\n  918522001,\n  915529003,\n  915529005,\n  866731001,\n  909370001,\n  751471001,\n  448509014,\n  714790020,\n  923758001,\n  762846027],\n 22987186674872225: [562245088,\n  924243001,\n  924243002,\n  918522001,\n  915529003,\n  915529005,\n  866731001,\n  909370001,\n  751471001,\n  448509014,\n  714790020,\n  923758001,\n  762846027],\n 23148415381887496: [867205001,\n  882203002,\n  881817003,\n  806388018,\n  887937001,\n  924243001,\n  924243002,\n  918522001,\n  915529003,\n  915529005,\n  866731001,\n  909370001,\n  751471001,\n  448509014,\n  714790020,\n  923758001,\n  762846027],\n 23187505455274525: [871992001,\n  924243001,\n  924243002,\n  918522001,\n  915529003,\n  915529005,\n  866731001,\n  909370001,\n  751471001,\n  448509014,\n  714790020,\n  923758001,\n  762846027],\n 23194433449918148: [918894001,\n  924243002,\n  918522001,\n  924243001,\n  915529003,\n  915529005,\n  866731001,\n  909370001,\n  751471001,\n  448509014,\n  714790020,\n  923758001,\n  762846027],\n 23240182396142206: [612800009,\n  697564006,\n  855769002,\n  924243001,\n  924243002,\n  918522001,\n  915529003,\n  915529005,\n  866731001,\n  909370001,\n  751471001,\n  448509014,\n  714790020,\n  923758001,\n  762846027],\n 23367595930880532: [393993002,\n  924243001,\n  924243002,\n  918522001,\n  915529003,\n  915529005,\n  866731001,\n  909370001,\n  751471001,\n  448509014,\n  714790020,\n  923758001,\n  762846027],\n 23400922083387975: [834258001,\n  811835002,\n  924243001,\n  924243002,\n  918522001,\n  915529003,\n  915529005,\n  866731001,\n  909370001,\n  751471001,\n  448509014,\n  714790020,\n  923758001,\n  762846027],\n 23422682781653140: [921918001,\n  831431001,\n  924243001,\n  924243002,\n  918522001,\n  915529003,\n  915529005,\n  866731001,\n  909370001,\n  751471001,\n  448509014,\n  714790020,\n  923758001,\n  762846027],\n 23480395088720009: [749699026,\n  768759006,\n  887770003,\n  910132001,\n  924243002,\n  918522001,\n  924243001,\n  915529003,\n  915529005,\n  866731001,\n  909370001,\n  751471001,\n  448509014,\n  714790020,\n  923758001,\n  762846027],\n 23536034888450112: [910132002,\n  910132001,\n  851363001,\n  859136005,\n  822171001,\n  924243001,\n  924243002,\n  918522001,\n  915529003,\n  915529005,\n  866731001,\n  909370001,\n  751471001,\n  448509014,\n  714790020,\n  923758001,\n  762846027],\n 23542525829477277: [889379003,\n  924243001,\n  924243002,\n  918522001,\n  915529003,\n  915529005,\n  866731001,\n  909370001,\n  751471001,\n  448509014,\n  714790020,\n  923758001,\n  762846027],\n 23555363929952788: [912418001,\n  836361002,\n  822946002,\n  799409003,\n  924243001,\n  924243002,\n  918522001,\n  915529003,\n  915529005,\n  866731001,\n  909370001,\n  751471001,\n  448509014,\n  714790020,\n  923758001,\n  762846027],\n 23604299721198850: [909371001,\n  924243001,\n  924243002,\n  918522001,\n  915529003,\n  915529005,\n  866731001,\n  909370001,\n  751471001,\n  448509014,\n  714790020,\n  923758001,\n  762846027],\n 23647343421560072: [898886001,\n  186262001,\n  828067001,\n  865929003,\n  854075001,\n  924243001,\n  924243002,\n  918522001,\n  915529003,\n  915529005,\n  866731001,\n  909370001,\n  751471001,\n  448509014,\n  714790020,\n  923758001,\n  762846027],\n 23665252411144443: [899499007,\n  912204001,\n  720125040,\n  881577002,\n  797835009,\n  804992013,\n  804992017,\n  852584001,\n  924243001,\n  924243002,\n  918522001,\n  915529003,\n  915529005,\n  866731001,\n  909370001,\n  751471001,\n  448509014,\n  714790020,\n  923758001,\n  762846027],\n 23759282146272196: [942194002,\n  924243001,\n  924243002,\n  918522001,\n  915529003,\n  915529005,\n  866731001,\n  909370001,\n  751471001,\n  448509014,\n  714790020,\n  923758001,\n  762846027],\n 23769123889960069: [874704002,\n  924243001,\n  924243002,\n  918522001,\n  915529003,\n  915529005,\n  866731001,\n  909370001,\n  751471001,\n  448509014,\n  714790020,\n  923758001,\n  762846027],\n 23784617433268083: [701046001,\n  897423002,\n  679284001,\n  924243001,\n  924243002,\n  918522001,\n  915529003,\n  915529005,\n  866731001,\n  909370001,\n  751471001,\n  448509014,\n  714790020,\n  923758001,\n  762846027],\n 23800708752909545: [885410001,\n  824752001,\n  830953001,\n  736489020,\n  924243001,\n  924243002,\n  918522001,\n  915529003,\n  915529005,\n  866731001,\n  909370001,\n  751471001,\n  448509014,\n  714790020,\n  923758001,\n  762846027],\n 23806019657317781: [817110005,\n  924243001,\n  924243002,\n  918522001,\n  915529003,\n  915529005,\n  866731001,\n  909370001,\n  751471001,\n  448509014,\n  714790020,\n  923758001,\n  762846027],\n 23970909320912418: [884497006,\n  473954014,\n  557994014,\n  881350001,\n  706016006,\n  817352003,\n  924243001,\n  924243002,\n  918522001,\n  915529003,\n  915529005,\n  866731001,\n  909370001,\n  751471001,\n  448509014,\n  714790020,\n  923758001,\n  762846027],\n 23979884249306596: [855239004,\n  826505005,\n  690936003,\n  768912001,\n  690936002,\n  924243001,\n  924243002,\n  918522001,\n  915529003,\n  915529005,\n  866731001,\n  909370001,\n  751471001,\n  448509014,\n  714790020,\n  923758001,\n  762846027],\n 23980577026587542: [678942054,\n  873679005,\n  924243002,\n  918522001,\n  924243001,\n  915529003,\n  915529005,\n  866731001,\n  909370001,\n  751471001,\n  448509014,\n  714790020,\n  923758001,\n  762846027],\n 23996316082600106: [817477001,\n  924243001,\n  924243002,\n  918522001,\n  915529003,\n  915529005,\n  866731001,\n  909370001,\n  751471001,\n  448509014,\n  714790020,\n  923758001,\n  762846027],\n 24172167746221964: [918894002,\n  928461002,\n  814224002,\n  892558001,\n  803757014,\n  924243001,\n  924243002,\n  918522001,\n  915529003,\n  915529005,\n  866731001,\n  909370001,\n  751471001,\n  448509014,\n  714790020,\n  923758001,\n  762846027],\n 24177431804042323: [902388003,\n  914868002,\n  924243001,\n  924243002,\n  918522001,\n  915529003,\n  915529005,\n  866731001,\n  909370001,\n  751471001,\n  448509014,\n  714790020,\n  923758001,\n  762846027],\n 24254344436380862: [859617001,\n  806388009,\n  866772001,\n  837306006,\n  717490071,\n  924243001,\n  924243002,\n  918522001,\n  915529003,\n  915529005,\n  866731001,\n  909370001,\n  751471001,\n  448509014,\n  714790020,\n  923758001,\n  762846027],\n 24397061513152189: [918292011,\n  918292003,\n  869331006,\n  924243001,\n  924243002,\n  918522001,\n  915529003,\n  915529005,\n  866731001,\n  909370001,\n  751471001,\n  448509014,\n  714790020,\n  923758001,\n  762846027],\n 24475812073499537: [835348001,\n  922447001,\n  924243001,\n  924243002,\n  918522001,\n  915529003,\n  915529005,\n  866731001,\n  909370001,\n  751471001,\n  448509014,\n  714790020,\n  923758001,\n  762846027],\n 24479445728931424: [856667004,\n  895993001,\n  817477001,\n  554598063,\n  832114002,\n  776237015,\n  924243001,\n  924243002,\n  918522001,\n  915529003,\n  915529005,\n  866731001,\n  909370001,\n  751471001,\n  448509014,\n  714790020,\n  923758001,\n  762846027],\n 24483807119418420: [640021019,\n  924243001,\n  924243002,\n  918522001,\n  915529003,\n  915529005,\n  866731001,\n  909370001,\n  751471001,\n  448509014,\n  714790020,\n  923758001,\n  762846027],\n 24488950759026648: [861608003,\n  924243001,\n  924243002,\n  918522001,\n  915529003,\n  915529005,\n  866731001,\n  909370001,\n  751471001,\n  448509014,\n  714790020,\n  923758001,\n  762846027],\n 24606993620813787: [862693006,\n  924243001,\n  924243002,\n  918522001,\n  915529003,\n  915529005,\n  866731001,\n  909370001,\n  751471001,\n  448509014,\n  714790020,\n  923758001,\n  762846027],\n 24644434476964845: [832993001,\n  775382001,\n  473954015,\n  910933001,\n  924243001,\n  924243002,\n  918522001,\n  915529003,\n  915529005,\n  866731001,\n  909370001,\n  751471001,\n  448509014,\n  714790020,\n  923758001,\n  762846027],\n 24665263804390887: [806241009,\n  806241007,\n  924243001,\n  924243002,\n  918522001,\n  915529003,\n  915529005,\n  866731001,\n  909370001,\n  751471001,\n  448509014,\n  714790020,\n  923758001,\n  762846027],\n 24690832892522450: [685813039,\n  525500001,\n  685816001,\n  876009002,\n  924243001,\n  924243002,\n  918522001,\n  915529003,\n  915529005,\n  866731001,\n  909370001,\n  751471001,\n  448509014,\n  714790020,\n  923758001,\n  762846027],\n 24697671675596018: [865939001,\n  894668002,\n  924243001,\n  924243002,\n  918522001,\n  915529003,\n  915529005,\n  866731001,\n  909370001,\n  751471001,\n  448509014,\n  714790020,\n  923758001,\n  762846027],\n 24720823128844828: [872085001,\n  860657003,\n  850176003,\n  924243001,\n  924243002,\n  918522001,\n  915529003,\n  915529005,\n  866731001,\n  909370001,\n  751471001,\n  448509014,\n  714790020,\n  923758001,\n  762846027],\n 24769987896745459: [832036001,\n  829991001,\n  924243001,\n  924243002,\n  918522001,\n  915529003,\n  915529005,\n  866731001,\n  909370001,\n  751471001,\n  448509014,\n  714790020,\n  923758001,\n  762846027],\n 24794506140300685: [845032002,\n  869473003,\n  924243001,\n  924243002,\n  918522001,\n  915529003,\n  915529005,\n  866731001,\n  909370001,\n  751471001,\n  448509014,\n  714790020,\n  923758001,\n  762846027],\n 24802201943507966: [717490075,\n  677930078,\n  924243002,\n  918522001,\n  924243001,\n  915529003,\n  915529005,\n  866731001,\n  909370001,\n  751471001,\n  448509014,\n  714790020,\n  923758001,\n  762846027],\n 24807276390747309: [687704022,\n  924243001,\n  924243002,\n  918522001,\n  915529003,\n  915529005,\n  866731001,\n  909370001,\n  751471001,\n  448509014,\n  714790020,\n  923758001,\n  762846027],\n 24887770720641845: [700765001,\n  810557011,\n  479167001,\n  737221010,\n  736923010,\n  585480002,\n  924243001,\n  924243002,\n  918522001,\n  915529003,\n  915529005,\n  866731001,\n  909370001,\n  751471001,\n  448509014,\n  714790020,\n  923758001,\n  762846027],\n 24897980555878428: [658298007,\n  924243001,\n  924243002,\n  918522001,\n  915529003,\n  915529005,\n  866731001,\n  909370001,\n  751471001,\n  448509014,\n  714790020,\n  923758001,\n  762846027],\n 24898986125928881: [875951002,\n  877710001,\n  924243001,\n  924243002,\n  918522001,\n  915529003,\n  915529005,\n  866731001,\n  909370001,\n  751471001,\n  448509014,\n  714790020,\n  923758001,\n  762846027],\n 24910488242502835: [852584022,\n  924243001,\n  924243002,\n  918522001,\n  915529003,\n  915529005,\n  866731001,\n  909370001,\n  751471001,\n  448509014,\n  714790020,\n  923758001,\n  762846027],\n 24952945214999787: [891763003,\n  924243001,\n  924243002,\n  918522001,\n  915529003,\n  915529005,\n  866731001,\n  909370001,\n  751471001,\n  448509014,\n  714790020,\n  923758001,\n  762846027],\n 25088406765518393: [924137001,\n  924243002,\n  918522001,\n  924243001,\n  915529003,\n  915529005,\n  866731001,\n  909370001,\n  751471001,\n  448509014,\n  714790020,\n  923758001,\n  762846027],\n 25135118671870114: [903861001,\n  933990001,\n  909357001,\n  873279005,\n  889456002,\n  924243001,\n  924243002,\n  918522001,\n  915529003,\n  915529005,\n  866731001,\n  909370001,\n  751471001,\n  448509014,\n  714790020,\n  923758001,\n  762846027],\n 25170056162199772: [904820004,\n  717490071,\n  778064028,\n  924243001,\n  924243002,\n  918522001,\n  915529003,\n  915529005,\n  866731001,\n  909370001,\n  751471001,\n  448509014,\n  714790020,\n  923758001,\n  762846027],\n 25205728466478669: [713993069,\n  924243001,\n  924243002,\n  918522001,\n  915529003,\n  915529005,\n  866731001,\n  909370001,\n  751471001,\n  448509014,\n  714790020,\n  923758001,\n  762846027],\n 25218124399013244: [899247005,\n  859081001,\n  850244003,\n  856848002,\n  924243001,\n  924243002,\n  918522001,\n  915529003,\n  915529005,\n  866731001,\n  909370001,\n  751471001,\n  448509014,\n  714790020,\n  923758001,\n  762846027],\n 25256046780513390: [889460001,\n  924243001,\n  924243002,\n  918522001,\n  915529003,\n  915529005,\n  866731001,\n  909370001,\n  751471001,\n  448509014,\n  714790020,\n  923758001,\n  762846027],\n 25318967865024954: [916031003,\n  900659001,\n  777020001,\n  866251001,\n  811899003,\n  873924002,\n  870355001,\n  698276009,\n  924243001,\n  924243002,\n  918522001,\n  915529003,\n  915529005,\n  866731001,\n  909370001,\n  751471001,\n  448509014,\n  714790020,\n  923758001,\n  762846027],\n 25373096306062321: [873678010,\n  924243001,\n  924243002,\n  918522001,\n  915529003,\n  915529005,\n  866731001,\n  909370001,\n  751471001,\n  448509014,\n  714790020,\n  923758001,\n  762846027],\n 25384721822912058: [507883009,\n  557599001,\n  687704012,\n  780237003,\n  875082001,\n  924243001,\n  924243002,\n  918522001,\n  915529003,\n  915529005,\n  866731001,\n  909370001,\n  751471001,\n  448509014,\n  714790020,\n  923758001,\n  762846027],\n 25427390350470221: [865799005,\n  924243002,\n  918522001,\n  924243001,\n  915529003,\n  915529005,\n  866731001,\n  909370001,\n  751471001,\n  448509014,\n  714790020,\n  923758001,\n  762846027],\n 25436545970319700: [877839001,\n  835348001,\n  790368006,\n  924243001,\n  924243002,\n  918522001,\n  915529003,\n  915529005,\n  866731001,\n  909370001,\n  751471001,\n  448509014,\n  714790020,\n  923758001,\n  762846027],\n 25494299482238070: [868134001,\n  924243001,\n  924243002,\n  918522001,\n  915529003,\n  915529005,\n  866731001,\n  909370001,\n  751471001,\n  448509014,\n  714790020,\n  923758001,\n  762846027],\n 25535877905594917: [898555001,\n  933409001,\n  671607001,\n  924243001,\n  924243002,\n  918522001,\n  915529003,\n  915529005,\n  866731001,\n  909370001,\n  751471001,\n  448509014,\n  714790020,\n  923758001,\n  762846027],\n 25576382700055221: [829643003,\n  700758017,\n  859737004,\n  843777001,\n  897687001,\n  611415035,\n  924243001,\n  924243002,\n  918522001,\n  915529003,\n  915529005,\n  866731001,\n  909370001,\n  751471001,\n  448509014,\n  714790020,\n  923758001,\n  762846027],\n 25661384602859433: [878293001,\n  924243001,\n  924243002,\n  918522001,\n  915529003,\n  915529005,\n  866731001,\n  909370001,\n  751471001,\n  448509014,\n  714790020,\n  923758001,\n  762846027],\n 25795878486999798: [926500001,\n  799365004,\n  924243002,\n  918522001,\n  924243001,\n  915529003,\n  915529005,\n  866731001,\n  909370001,\n  751471001,\n  448509014,\n  714790020,\n  923758001,\n  762846027],\n 25953536217640269: [919273002,\n  736870001,\n  924243001,\n  924243002,\n  918522001,\n  915529003,\n  915529005,\n  866731001,\n  909370001,\n  751471001,\n  448509014,\n  714790020,\n  923758001,\n  762846027],\n 25984658274604854: [874891002,\n  874891006,\n  874891003,\n  924243001,\n  924243002,\n  918522001,\n  915529003,\n  915529005,\n  866731001,\n  909370001,\n  751471001,\n  448509014,\n  714790020,\n  923758001,\n  762846027],\n 25986697397031572: [719203008,\n  711823002,\n  859105002,\n  859105005,\n  697834002,\n  924243001,\n  924243002,\n  918522001,\n  915529003,\n  915529005,\n  866731001,\n  909370001,\n  751471001,\n  448509014,\n  714790020,\n  923758001,\n  762846027],\n 26003475376561270: [731525009,\n  685811015,\n  824341002,\n  924243001,\n  924243002,\n  918522001,\n  915529003,\n  915529005,\n  866731001,\n  909370001,\n  751471001,\n  448509014,\n  714790020,\n  923758001,\n  762846027],\n 26018557594316073: [892093002,\n  924243001,\n  924243002,\n  918522001,\n  915529003,\n  915529005,\n  866731001,\n  909370001,\n  751471001,\n  448509014,\n  714790020,\n  923758001,\n  762846027],\n 26025167110524945: [869976001,\n  589514001,\n  924243001,\n  924243002,\n  918522001,\n  915529003,\n  915529005,\n  866731001,\n  909370001,\n  751471001,\n  448509014,\n  714790020,\n  923758001,\n  762846027],\n 26048444662101745: [610776002,\n  886557004,\n  924243001,\n  924243002,\n  918522001,\n  915529003,\n  915529005,\n  866731001,\n  909370001,\n  751471001,\n  448509014,\n  714790020,\n  923758001,\n  762846027],\n 26068599843105222: [835348006,\n  767862001,\n  819520001,\n  706016003,\n  706016006,\n  924243001,\n  924243002,\n  918522001,\n  915529003,\n  915529005,\n  866731001,\n  909370001,\n  751471001,\n  448509014,\n  714790020,\n  923758001,\n  762846027],\n 26078860704332477: [891322006,\n  871957004,\n  799409003,\n  820866001,\n  924243002,\n  918522001,\n  924243001,\n  915529003,\n  915529005,\n  866731001,\n  909370001,\n  751471001,\n  448509014,\n  714790020,\n  923758001,\n  762846027],\n 26118152765115527: [931769001,\n  931769003,\n  924243001,\n  924243002,\n  918522001,\n  915529003,\n  915529005,\n  866731001,\n  909370001,\n  751471001,\n  448509014,\n  714790020,\n  923758001,\n  762846027],\n 26152837567301572: [909081004,\n  924243001,\n  924243002,\n  918522001,\n  915529003,\n  915529005,\n  866731001,\n  909370001,\n  751471001,\n  448509014,\n  714790020,\n  923758001,\n  762846027],\n 26184972232817900: [900659005,\n  900659003,\n  787946002,\n  781180003,\n  858401001,\n  824764001,\n  566320006,\n  895582014,\n  891194001,\n  879413001,\n  924243001,\n  924243002,\n  918522001,\n  915529003,\n  915529005,\n  866731001,\n  909370001,\n  751471001,\n  448509014,\n  714790020,\n  923758001,\n  762846027],\n 26207972538892365: [706016015,\n  924243001,\n  924243002,\n  918522001,\n  915529003,\n  915529005,\n  866731001,\n  909370001,\n  751471001,\n  448509014,\n  714790020,\n  923758001,\n  762846027],\n 26282284191972141: [635789001,\n  880008001,\n  865076001,\n  554598003,\n  880008002,\n  924243001,\n  924243002,\n  918522001,\n  915529003,\n  915529005,\n  866731001,\n  909370001,\n  751471001,\n  448509014,\n  714790020,\n  923758001,\n  762846027],\n 26286488934880947: [924243001,\n  924243002,\n  918522001,\n  915529003,\n  915529005,\n  866731001,\n  909370001,\n  751471001,\n  448509014,\n  714790020,\n  923758001,\n  762846027],\n 26373619075881766: [724906019,\n  872013001,\n  924243001,\n  924243002,\n  918522001,\n  915529003,\n  915529005,\n  866731001,\n  909370001,\n  751471001,\n  448509014,\n  714790020,\n  923758001,\n  762846027],\n 26429832092202972: [843614015,\n  828991003,\n  843614011,\n  924243001,\n  924243002,\n  918522001,\n  915529003,\n  915529005,\n  866731001,\n  909370001,\n  751471001,\n  448509014,\n  714790020,\n  923758001,\n  762846027],\n 26450698467991276: [707269007,\n  707269003,\n  748355003,\n  748355012,\n  748355002,\n  924243001,\n  924243002,\n  918522001,\n  915529003,\n  915529005,\n  866731001,\n  909370001,\n  751471001,\n  448509014,\n  714790020,\n  923758001,\n  762846027],\n 26536583683111777: [253448001,\n  780297015,\n  877075001,\n  253448003,\n  924243001,\n  924243002,\n  918522001,\n  915529003,\n  915529005,\n  866731001,\n  909370001,\n  751471001,\n  448509014,\n  714790020,\n  923758001,\n  762846027],\n 26590130620492894: [600886001,\n  866383006,\n  715343007,\n  924243001,\n  924243002,\n  918522001,\n  915529003,\n  915529005,\n  866731001,\n  909370001,\n  751471001,\n  448509014,\n  714790020,\n  923758001,\n  762846027],\n 26596918803813629: [926482001,\n  859148002,\n  924243001,\n  924243002,\n  918522001,\n  915529003,\n  915529005,\n  866731001,\n  909370001,\n  751471001,\n  448509014,\n  714790020,\n  923758001,\n  762846027],\n 26636368988619286: [351484002,\n  684824006,\n  464297007,\n  713199006,\n  885951002,\n  810557006,\n  859736003,\n  827500004,\n  811835004,\n  698276009,\n  924243001,\n  924243002,\n  918522001,\n  915529003,\n  915529005,\n  866731001,\n  909370001,\n  751471001,\n  448509014,\n  714790020,\n  923758001,\n  762846027],\n 26711183176887714: [863583002,\n  896343001,\n  924243001,\n  924243002,\n  918522001,\n  915529003,\n  915529005,\n  866731001,\n  909370001,\n  751471001,\n  448509014,\n  714790020,\n  923758001,\n  762846027],\n 26749757364052324: [636207006,\n  924243001,\n  924243002,\n  918522001,\n  915529003,\n  915529005,\n  866731001,\n  909370001,\n  751471001,\n  448509014,\n  714790020,\n  923758001,\n  762846027],\n 26753372650531199: [858834003,\n  579541089,\n  924243002,\n  918522001,\n  924243001,\n  915529003,\n  915529005,\n  866731001,\n  909370001,\n  751471001,\n  448509014,\n  714790020,\n  923758001,\n  762846027],\n 26757713650746316: [863583002,\n  906352001,\n  863583001,\n  893141002,\n  574109039,\n  762143009,\n  924243001,\n  924243002,\n  918522001,\n  915529003,\n  915529005,\n  866731001,\n  909370001,\n  751471001,\n  448509014,\n  714790020,\n  923758001,\n  762846027],\n 26758120122427205: [861803009,\n  720125040,\n  924243001,\n  924243002,\n  918522001,\n  915529003,\n  915529005,\n  866731001,\n  909370001,\n  751471001,\n  448509014,\n  714790020,\n  923758001,\n  762846027],\n 26792400562666667: [916866002,\n  924243001,\n  924243002,\n  918522001,\n  915529003,\n  915529005,\n  866731001,\n  909370001,\n  751471001,\n  448509014,\n  714790020,\n  923758001,\n  762846027],\n 26796993193598048: [914737001,\n  924243002,\n  918522001,\n  924243001,\n  915529003,\n  915529005,\n  866731001,\n  909370001,\n  751471001,\n  448509014,\n  714790020,\n  923758001,\n  762846027],\n 26826155181417147: [930380001,\n  873362002,\n  803757014,\n  924243002,\n  918522001,\n  924243001,\n  915529003,\n  915529005,\n  866731001,\n  909370001,\n  751471001,\n  448509014,\n  714790020,\n  923758001,\n  762846027],\n 26829815509408598: [923134004,\n  924243001,\n  924243002,\n  918522001,\n  915529003,\n  915529005,\n  866731001,\n  909370001,\n  751471001,\n  448509014,\n  714790020,\n  923758001,\n  762846027],\n 26834798132718949: [719655001,\n  894293002,\n  924243001,\n  924243002,\n  918522001,\n  915529003,\n  915529005,\n  866731001,\n  909370001,\n  751471001,\n  448509014,\n  714790020,\n  923758001,\n  762846027],\n 26885621267332013: [892892002,\n  924243001,\n  924243002,\n  918522001,\n  915529003,\n  915529005,\n  866731001,\n  909370001,\n  751471001,\n  448509014,\n  714790020,\n  923758001,\n  762846027],\n 26981019648827522: [714790028,\n  714790017,\n  924243001,\n  924243002,\n  918522001,\n  915529003,\n  915529005,\n  866731001,\n  909370001,\n  751471001,\n  714790020,\n  448509014,\n  923758001,\n  762846027],\n 27147230895474171: [924605001,\n  754238001,\n  741040001,\n  882902001,\n  924243001,\n  924243002,\n  918522001,\n  915529003,\n  915529005,\n  866731001,\n  909370001,\n  751471001,\n  448509014,\n  714790020,\n  923758001,\n  762846027],\n 27158125696960859: [832458001,\n  562245104,\n  924243001,\n  924243002,\n  918522001,\n  915529003,\n  915529005,\n  866731001,\n  909370001,\n  751471001,\n  448509014,\n  714790020,\n  923758001,\n  762846027],\n 27159898019529795: [918292004,\n  924243001,\n  924243002,\n  918522001,\n  915529003,\n  915529005,\n  866731001,\n  909370001,\n  751471001,\n  448509014,\n  714790020,\n  923758001,\n  762846027],\n 27223190892764614: [876147004,\n  924243002,\n  918522001,\n  924243001,\n  915529003,\n  915529005,\n  866731001,\n  909370001,\n  751471001,\n  448509014,\n  714790020,\n  923758001,\n  762846027],\n 27400129137690801: [845790002,\n  920829005,\n  924243002,\n  918522001,\n  924243001,\n  915529003,\n  915529005,\n  866731001,\n  909370001,\n  751471001,\n  448509014,\n  714790020,\n  923758001,\n  762846027],\n 27414979645648422: [759871002,\n  812364012,\n  924243001,\n  924243002,\n  918522001,\n  915529003,\n  915529005,\n  866731001,\n  909370001,\n  751471001,\n  448509014,\n  714790020,\n  923758001,\n  762846027],\n 27450429904565067: [924243001,\n  924243002,\n  918522001,\n  915529003,\n  915529005,\n  866731001,\n  909370001,\n  751471001,\n  714790020,\n  448509014,\n  923758001,\n  762846027],\n 27461489601285082: [903308001,\n  863646004,\n  751471041,\n  924243002,\n  918522001,\n  924243001,\n  915529003,\n  915529005,\n  866731001,\n  909370001,\n  751471001,\n  448509014,\n  714790020,\n  923758001,\n  762846027],\n 27523763215971119: [914449001,\n  924243002,\n  918522001,\n  924243001,\n  915529003,\n  915529005,\n  866731001,\n  909370001,\n  751471001,\n  448509014,\n  714790020,\n  923758001,\n  762846027],\n 27528147768497085: [915526001,\n  924243001,\n  924243002,\n  918522001,\n  915529003,\n  915529005,\n  866731001,\n  909370001,\n  751471001,\n  448509014,\n  714790020,\n  923758001,\n  762846027],\n 27534532127714173: [904201001,\n  882900004,\n  896837001,\n  924243001,\n  924243002,\n  918522001,\n  915529003,\n  915529005,\n  866731001,\n  909370001,\n  751471001,\n  448509014,\n  714790020,\n  923758001,\n  762846027],\n 27601924391795210: [879088001,\n  924243001,\n  924243002,\n  918522001,\n  915529003,\n  915529005,\n  866731001,\n  909370001,\n  751471001,\n  448509014,\n  714790020,\n  923758001,\n  762846027],\n 27635085653870169: [910132001,\n  924243001,\n  924243002,\n  918522001,\n  915529003,\n  915529005,\n  866731001,\n  909370001,\n  751471001,\n  448509014,\n  714790020,\n  923758001,\n  762846027],\n 27794388648961517: [573085042,\n  573085043,\n  924243001,\n  924243002,\n  918522001,\n  915529003,\n  915529005,\n  866731001,\n  909370001,\n  751471001,\n  448509014,\n  714790020,\n  923758001,\n  762846027],\n 27803290833327028: [552716001,\n  924243001,\n  924243002,\n  918522001,\n  915529003,\n  915529005,\n  866731001,\n  909370001,\n  751471001,\n  448509014,\n  714790020,\n  923758001,\n  762846027],\n 27832194459440837: [944506001,\n  909924002,\n  924243001,\n  924243002,\n  918522001,\n  915529003,\n  915529005,\n  866731001,\n  909370001,\n  751471001,\n  448509014,\n  714790020,\n  923758001,\n  762846027],\n 27896632995692688: [921571001,\n  786197004,\n  924243001,\n  924243002,\n  918522001,\n  915529003,\n  915529005,\n  866731001,\n  909370001,\n  751471001,\n  448509014,\n  714790020,\n  923758001,\n  762846027],\n 27911310829646420: [599719001,\n  924243001,\n  924243002,\n  918522001,\n  915529003,\n  915529005,\n  866731001,\n  909370001,\n  751471001,\n  448509014,\n  714790020,\n  923758001,\n  762846027],\n 27927790004845047: [811525001,\n  890024002,\n  924243001,\n  924243002,\n  918522001,\n  915529003,\n  915529005,\n  866731001,\n  909370001,\n  751471001,\n  448509014,\n  714790020,\n  923758001,\n  762846027],\n 27939811729256878: [806388011,\n  806388001,\n  825585001,\n  759871013,\n  871517008,\n  924243001,\n  924243002,\n  918522001,\n  915529003,\n  915529005,\n  866731001,\n  909370001,\n  751471001,\n  448509014,\n  714790020,\n  923758001,\n  762846027],\n 27948519394400754: [824764009,\n  924243001,\n  924243002,\n  918522001,\n  915529003,\n  915529005,\n  866731001,\n  909370001,\n  751471001,\n  448509014,\n  714790020,\n  923758001,\n  762846027],\n 28008209795353776: [568601006,\n  537116001,\n  763490002,\n  892463002,\n  664074072,\n  924243001,\n  924243002,\n  918522001,\n  915529003,\n  915529005,\n  866731001,\n  909370001,\n  751471001,\n  448509014,\n  714790020,\n  923758001,\n  762846027],\n 28066718239557480: [909924002,\n  944506001,\n  915523001,\n  905757002,\n  448509001,\n  924243001,\n  924243002,\n  918522001,\n  915529003,\n  915529005,\n  866731001,\n  909370001,\n  751471001,\n  448509014,\n  714790020,\n  923758001,\n  762846027],\n 28175502388751111: [881947001,\n  924243001,\n  924243002,\n  918522001,\n  915529003,\n  915529005,\n  866731001,\n  909370001,\n  751471001,\n  448509014,\n  714790020,\n  923758001,\n  762846027],\n 28179142982987115: [827635001,\n  910905001,\n  863565001,\n  816166002,\n  816166004,\n  924243001,\n  924243002,\n  918522001,\n  915529003,\n  915529005,\n  866731001,\n  909370001,\n  751471001,\n  448509014,\n  714790020,\n  923758001,\n  762846027],\n 28200737784505814: [695324013,\n  924243001,\n  924243002,\n  918522001,\n  915529003,\n  915529005,\n  866731001,\n  909370001,\n  751471001,\n  448509014,\n  714790020,\n  923758001,\n  762846027],\n 28272867151759947: [763270005,\n  924243001,\n  924243002,\n  918522001,\n  915529003,\n  915529005,\n  866731001,\n  909370001,\n  751471001,\n  448509014,\n  714790020,\n  923758001,\n  762846027],\n 28305400608028235: [719128008,\n  924243001,\n  924243002,\n  918522001,\n  915529003,\n  915529005,\n  866731001,\n  909370001,\n  751471001,\n  448509014,\n  714790020,\n  923758001,\n  762846027],\n 28317664698115646: [903861003,\n  932798001,\n  879605003,\n  809500002,\n  924243001,\n  924243002,\n  918522001,\n  915529003,\n  915529005,\n  866731001,\n  909370001,\n  751471001,\n  448509014,\n  714790020,\n  923758001,\n  762846027],\n 28332417013102882: [698276009,\n  924243001,\n  924243002,\n  918522001,\n  915529003,\n  915529005,\n  866731001,\n  909370001,\n  751471001,\n  448509014,\n  714790020,\n  923758001,\n  762846027],\n 28335150019931729: [673396002,\n  924243001,\n  924243002,\n  918522001,\n  915529003,\n  915529005,\n  866731001,\n  909370001,\n  751471001,\n  448509014,\n  714790020,\n  923758001,\n  762846027],\n 28380569737758312: [920972002,\n  920972001,\n  922381001,\n  922381002,\n  448509001,\n  864216017,\n  572998013,\n  864216001,\n  924243001,\n  924243002,\n  918522001,\n  915529003,\n  915529005,\n  866731001,\n  909370001,\n  751471001,\n  448509014,\n  714790020,\n  923758001,\n  762846027],\n 28425369033077070: [562245046,\n  924243001,\n  924243002,\n  918522001,\n  915529003,\n  915529005,\n  866731001,\n  909370001,\n  751471001,\n  448509014,\n  714790020,\n  923758001,\n  762846027],\n 28432244594589772: [898692003,\n  915526002,\n  915611003,\n  889828004,\n  865939001,\n  889870001,\n  757903024,\n  896152001,\n  852092002,\n  924243001,\n  924243002,\n  918522001,\n  915529003,\n  915529005,\n  866731001,\n  909370001,\n  751471001,\n  448509014,\n  714790020,\n  923758001,\n  762846027],\n 28516591585814015: [826508007,\n  826508011,\n  924243001,\n  924243002,\n  918522001,\n  915529003,\n  915529005,\n  866731001,\n  909370001,\n  751471001,\n  448509014,\n  714790020,\n  923758001,\n  762846027],\n 28527179112098701: [568601030,\n  783707143,\n  816845001,\n  779781006,\n  924243001,\n  924243002,\n  918522001,\n  915529003,\n  915529005,\n  866731001,\n  909370001,\n  751471001,\n  448509014,\n  714790020,\n  923758001,\n  762846027],\n 28593192531974348: [843380004,\n  924243001,\n  924243002,\n  918522001,\n  915529003,\n  915529005,\n  866731001,\n  909370001,\n  751471001,\n  448509014,\n  714790020,\n  923758001,\n  762846027],\n 28652337807862808: [833530003,\n  833499003,\n  924243001,\n  924243002,\n  918522001,\n  915529003,\n  915529005,\n  866731001,\n  909370001,\n  751471001,\n  448509014,\n  714790020,\n  923758001,\n  762846027],\n 28736321529819057: [894085001,\n  885951001,\n  866455003,\n  924243001,\n  924243002,\n  918522001,\n  915529003,\n  915529005,\n  866731001,\n  909370001,\n  751471001,\n  448509014,\n  714790020,\n  923758001,\n  762846027],\n 28785852783024496: [841699008,\n  924243001,\n  924243002,\n  918522001,\n  915529003,\n  915529005,\n  866731001,\n  909370001,\n  751471001,\n  448509014,\n  714790020,\n  923758001,\n  762846027],\n 28796492495879653: [816591010,\n  533925001,\n  851780001,\n  575347011,\n  924243001,\n  924243002,\n  918522001,\n  915529003,\n  915529005,\n  866731001,\n  909370001,\n  751471001,\n  448509014,\n  714790020,\n  923758001,\n  762846027],\n 28906969257289286: [832359001,\n  924243001,\n  924243002,\n  918522001,\n  915529003,\n  915529005,\n  866731001,\n  909370001,\n  751471001,\n  448509014,\n  714790020,\n  923758001,\n  762846027],\n 28924606045010200: [749699001,\n  879248001,\n  881608001,\n  749699002,\n  924243001,\n  924243002,\n  918522001,\n  915529003,\n  915529005,\n  866731001,\n  909370001,\n  751471001,\n  448509014,\n  714790020,\n  923758001,\n  762846027],\n 29021186501104080: [874113024,\n  687704001,\n  795675004,\n  800245002,\n  739144004,\n  856927001,\n  853881001,\n  841960002,\n  860322004,\n  853589001,\n  880008001,\n  885710003,\n  847673005,\n  871568003,\n  784001006,\n  924243001,\n  924243002,\n  918522001,\n  915529003,\n  915529005,\n  866731001,\n  909370001,\n  751471001,\n  448509014,\n  714790020,\n  923758001,\n  762846027],\n 29047619512634803: [859617001,\n  924243001,\n  924243002,\n  918522001,\n  915529003,\n  915529005,\n  866731001,\n  909370001,\n  751471001,\n  448509014,\n  714790020,\n  923758001,\n  762846027],\n 29049485808755647: [851010007,\n  871311003,\n  881203003,\n  894756001,\n  924243001,\n  924243002,\n  918522001,\n  915529003,\n  915529005,\n  866731001,\n  909370001,\n  751471001,\n  448509014,\n  714790020,\n  923758001,\n  762846027],\n 29108307052577855: [800691008,\n  924243001,\n  924243002,\n  918522001,\n  915529003,\n  915529005,\n  866731001,\n  909370001,\n  751471001,\n  448509014,\n  714790020,\n  923758001,\n  762846027],\n 29243526950884932: [763673002,\n  744394002,\n  798407002,\n  698283001,\n  924243002,\n  918522001,\n  924243001,\n  915529003,\n  915529005,\n  866731001,\n  909370001,\n  751471001,\n  448509014,\n  714790020,\n  923758001,\n  762846027],\n 29257329623771343: [584298010,\n  584298028,\n  584298035,\n  584298037,\n  924243001,\n  924243002,\n  918522001,\n  915529003,\n  915529005,\n  866731001,\n  909370001,\n  751471001,\n  448509014,\n  714790020,\n  923758001,\n  762846027],\n 29267909681654527: [554477037,\n  816241006,\n  924243002,\n  918522001,\n  924243001,\n  915529003,\n  915529005,\n  866731001,\n  909370001,\n  751471001,\n  448509014,\n  714790020,\n  923758001,\n  762846027],\n 29269445824039864: [929165002,\n  874754001,\n  866714016,\n  861685001,\n  877961004,\n  866714014,\n  877961016,\n  807244017,\n  877961011,\n  556539030,\n  877961003,\n  924243001,\n  924243002,\n  918522001,\n  915529003,\n  915529005,\n  866731001,\n  909370001,\n  751471001,\n  448509014,\n  714790020,\n  923758001,\n  762846027],\n 29286089384620917: [772576001,\n  894756003,\n  851608002,\n  894756001,\n  864415003,\n  611415038,\n  822311011,\n  894756004,\n  818779002,\n  880312004,\n  825719001,\n  746308016,\n  860322003,\n  688558002,\n  791489004,\n  872962005,\n  791488027,\n  819910008,\n  791488006,\n  924243001,\n  924243002,\n  918522001,\n  915529003,\n  915529005,\n  866731001,\n  909370001,\n  751471001,\n  448509014,\n  714790020,\n  923758001,\n  762846027],\n 29316568156100208: [810557006,\n  825585001,\n  762286001,\n  924243001,\n  924243002,\n  918522001,\n  915529003,\n  915529005,\n  866731001,\n  909370001,\n  751471001,\n  448509014,\n  714790020,\n  923758001,\n  762846027],\n 29321861136744048: [887432005,\n  924243001,\n  924243002,\n  918522001,\n  915529003,\n  915529005,\n  866731001,\n  909370001,\n  751471001,\n  448509014,\n  714790020,\n  923758001,\n  762846027],\n 29407293970638144: [769748013,\n  924243001,\n  924243002,\n  918522001,\n  915529003,\n  915529005,\n  866731001,\n  909370001,\n  751471001,\n  448509014,\n  714790020,\n  923758001,\n  762846027],\n 29460339367733242: [863595006,\n  785018003,\n  924243002,\n  918522001,\n  924243001,\n  915529003,\n  915529005,\n  866731001,\n  909370001,\n  751471001,\n  448509014,\n  714790020,\n  923758001,\n  762846027],\n 29474218193228099: [599719001,\n  716672014,\n  872233002,\n  599719021,\n  924243002,\n  918522001,\n  924243001,\n  915529003,\n  915529005,\n  866731001,\n  909370001,\n  751471001,\n  448509014,\n  714790020,\n  923758001,\n  762846027],\n 29494017346957055: [918149001,\n  924243001,\n  924243002,\n  918522001,\n  915529003,\n  915529005,\n  866731001,\n  909370001,\n  751471001,\n  448509014,\n  714790020,\n  923758001,\n  762846027],\n 29508181461664742: [574109039,\n  865926002,\n  710708004,\n  845790002,\n  924243001,\n  924243002,\n  918522001,\n  915529003,\n  915529005,\n  866731001,\n  909370001,\n  751471001,\n  448509014,\n  714790020,\n  923758001,\n  762846027],\n 29524575297594330: [889713001,\n  924243001,\n  924243002,\n  918522001,\n  915529003,\n  915529005,\n  866731001,\n  909370001,\n  751471001,\n  448509014,\n  714790020,\n  923758001,\n  762846027],\n 29548613956814677: [707269011,\n  751471043,\n  707269003,\n  924243001,\n  924243002,\n  918522001,\n  915529003,\n  915529005,\n  866731001,\n  909370001,\n  751471001,\n  448509014,\n  714790020,\n  923758001,\n  762846027],\n 29658305094288618: [886706002,\n  924243001,\n  924243002,\n  918522001,\n  915529003,\n  915529005,\n  866731001,\n  909370001,\n  751471001,\n  448509014,\n  714790020,\n  923758001,\n  762846027],\n 29659536698466345: [896169002,\n  909820001,\n  924243002,\n  918522001,\n  924243001,\n  915529003,\n  915529005,\n  866731001,\n  909370001,\n  751471001,\n  448509014,\n  714790020,\n  923758001,\n  762846027],\n 29662436981327999: [924243001,\n  924243002,\n  918522001,\n  915529003,\n  915529005,\n  866731001,\n  909370001,\n  751471001,\n  448509014,\n  714790020,\n  923758001,\n  762846027],\n 29785537061595281: [720504008,\n  751471038,\n  730863005,\n  730863039,\n  783346032,\n  924243001,\n  924243002,\n  918522001,\n  915529003,\n  915529005,\n  866731001,\n  909370001,\n  751471001,\n  448509014,\n  714790020,\n  923758001,\n  762846027],\n 29827359570429540: [905889002,\n  923643001,\n  904963001,\n  900279001,\n  909291001,\n  802871001,\n  780392001,\n  815456003,\n  807005008,\n  815456007,\n  815456001,\n  924243001,\n  924243002,\n  918522001,\n  915529003,\n  915529005,\n  866731001,\n  909370001,\n  751471001,\n  448509014,\n  714790020,\n  923758001,\n  762846027],\n 29848332654878111: [707135017,\n  324963007,\n  924243001,\n  924243002,\n  918522001,\n  915529003,\n  915529005,\n  866731001,\n  909370001,\n  751471001,\n  448509014,\n  714790020,\n  923758001,\n  762846027],\n 29881824604597299: [718278004,\n  762846008,\n  892970001,\n  924243001,\n  924243002,\n  918522001,\n  915529003,\n  915529005,\n  866731001,\n  909370001,\n  751471001,\n  448509014,\n  714790020,\n  923758001,\n  762846027],\n 29907181191983485: [771964002,\n  924243002,\n  918522001,\n  924243001,\n  915529003,\n  915529005,\n  866731001,\n  909370001,\n  751471001,\n  448509014,\n  714790020,\n  923758001,\n  762846027],\n 30114169536148593: [810591002,\n  924243002,\n  918522001,\n  924243001,\n  915529003,\n  915529005,\n  866731001,\n  909370001,\n  751471001,\n  448509014,\n  714790020,\n  923758001,\n  762846027],\n 30239484727503518: [911870001,\n  914441002,\n  863583001,\n  836142004,\n  883307004,\n  924243001,\n  924243002,\n  918522001,\n  915529003,\n  915529005,\n  866731001,\n  909370001,\n  751471001,\n  448509014,\n  714790020,\n  923758001,\n  762846027],\n 30249225749021522: [584483003,\n  805323002,\n  924243001,\n  924243002,\n  918522001,\n  915529003,\n  915529005,\n  866731001,\n  909370001,\n  751471001,\n  448509014,\n  714790020,\n  923758001,\n  762846027],\n 30282307336388048: [821398002,\n  924243001,\n  924243002,\n  918522001,\n  915529003,\n  915529005,\n  866731001,\n  909370001,\n  751471001,\n  448509014,\n  714790020,\n  923758001,\n  762846027],\n 30341717758460117: [866244003,\n  934286001,\n  897891001,\n  903235001,\n  873274002,\n  867948003,\n  889844002,\n  887898007,\n  924243001,\n  924243002,\n  918522001,\n  915529003,\n  915529005,\n  866731001,\n  909370001,\n  751471001,\n  448509014,\n  714790020,\n  923758001,\n  762846027],\n 30396485390058445: [509091057,\n  562613007,\n  924243001,\n  924243002,\n  918522001,\n  915529003,\n  915529005,\n  866731001,\n  909370001,\n  751471001,\n  448509014,\n  714790020,\n  923758001,\n  762846027],\n 30415167153176273: [935689001,\n  924243001,\n  924243002,\n  918522001,\n  915529003,\n  915529005,\n  866731001,\n  909370001,\n  751471001,\n  448509014,\n  714790020,\n  923758001,\n  762846027],\n 30417553827837458: [895610004,\n  924243001,\n  924243002,\n  918522001,\n  915529003,\n  915529005,\n  866731001,\n  909370001,\n  751471001,\n  448509014,\n  714790020,\n  923758001,\n  762846027],\n 30418339047853739: [794321007,\n  924243001,\n  924243002,\n  918522001,\n  915529003,\n  915529005,\n  866731001,\n  909370001,\n  751471001,\n  448509014,\n  714790020,\n  923758001,\n  762846027],\n 30437077249407793: [706016003,\n  706016002,\n  924243001,\n  924243002,\n  918522001,\n  915529003,\n  915529005,\n  866731001,\n  909370001,\n  751471001,\n  448509014,\n  714790020,\n  923758001,\n  762846027],\n 30445704671640269: [718982002,\n  924243001,\n  924243002,\n  918522001,\n  915529003,\n  915529005,\n  866731001,\n  909370001,\n  751471001,\n  448509014,\n  714790020,\n  923758001,\n  762846027],\n 30453266244561247: [846442001,\n  828938001,\n  884319004,\n  785018013,\n  884319001,\n  884319003,\n  924243001,\n  924243002,\n  918522001,\n  915529003,\n  915529005,\n  866731001,\n  909370001,\n  751471001,\n  448509014,\n  714790020,\n  923758001,\n  762846027],\n 30470243116168071: [523489001,\n  791587018,\n  924243001,\n  924243002,\n  918522001,\n  915529003,\n  915529005,\n  866731001,\n  909370001,\n  751471001,\n  448509014,\n  714790020,\n  923758001,\n  762846027],\n 30523292767608489: [910601003,\n  924243001,\n  924243002,\n  918522001,\n  915529003,\n  915529005,\n  866731001,\n  909370001,\n  751471001,\n  448509014,\n  714790020,\n  923758001,\n  762846027],\n 30540578037650728: [598755031,\n  598755019,\n  924243001,\n  924243002,\n  918522001,\n  915529003,\n  915529005,\n  866731001,\n  909370001,\n  751471001,\n  448509014,\n  714790020,\n  923758001,\n  762846027],\n 30776441491426653: [700701002,\n  924243001,\n  924243002,\n  918522001,\n  915529003,\n  915529005,\n  866731001,\n  909370001,\n  751471001,\n  448509014,\n  714790020,\n  923758001,\n  762846027],\n 30796305516133179: [874961005,\n  874961004,\n  874961003,\n  874961002,\n  918835001,\n  888700006,\n  924243001,\n  924243002,\n  918522001,\n  915529003,\n  915529005,\n  866731001,\n  909370001,\n  751471001,\n  448509014,\n  714790020,\n  923758001,\n  762846027],\n 30821099952783689: [664074072,\n  716672018,\n  924243001,\n  924243002,\n  918522001,\n  915529003,\n  915529005,\n  866731001,\n  909370001,\n  751471001,\n  448509014,\n  714790020,\n  923758001,\n  762846027],\n 30858223879930856: [665481011,\n  865929001,\n  924243001,\n  924243002,\n  918522001,\n  915529003,\n  915529005,\n  866731001,\n  909370001,\n  751471001,\n  448509014,\n  714790020,\n  923758001,\n  762846027],\n 30867564174494878: [915611001,\n  695632001,\n  707269003,\n  924243001,\n  924243002,\n  918522001,\n  915529003,\n  915529005,\n  866731001,\n  909370001,\n  751471001,\n  448509014,\n  714790020,\n  923758001,\n  762846027],\n 30919842334224832: [855080009,\n  816933001,\n  706016007,\n  572998009,\n  850917001,\n  924243001,\n  924243002,\n  918522001,\n  915529003,\n  915529005,\n  866731001,\n  909370001,\n  751471001,\n  448509014,\n  714790020,\n  923758001,\n  762846027],\n 30938250032158174: [730683050,\n  924243001,\n  924243002,\n  918522001,\n  915529003,\n  915529005,\n  866731001,\n  909370001,\n  751471001,\n  448509014,\n  714790020,\n  923758001,\n  762846027],\n 30992863702938923: [916866002,\n  924243002,\n  918522001,\n  924243001,\n  915529003,\n  915529005,\n  866731001,\n  909370001,\n  751471001,\n  448509014,\n  714790020,\n  923758001,\n  762846027],\n 31038913885956697: [923340002,\n  923340001,\n  687704001,\n  687704002,\n  924243001,\n  924243002,\n  918522001,\n  915529003,\n  915529005,\n  866731001,\n  909370001,\n  751471001,\n  448509014,\n  714790020,\n  923758001,\n  762846027],\n 31042974653625221: [919365003,\n  448509026,\n  924243002,\n  918522001,\n  924243001,\n  915529003,\n  915529005,\n  866731001,\n  909370001,\n  751471001,\n  448509014,\n  714790020,\n  923758001,\n  762846027],\n 31059335398740456: [685814005,\n  690449022,\n  720504010,\n  924243001,\n  924243002,\n  918522001,\n  915529003,\n  915529005,\n  866731001,\n  909370001,\n  751471001,\n  448509014,\n  714790020,\n  923758001,\n  762846027],\n 31112621445233022: [822203005,\n  924243001,\n  924243002,\n  918522001,\n  915529003,\n  915529005,\n  866731001,\n  909370001,\n  751471001,\n  448509014,\n  714790020,\n  923758001,\n  762846027],\n 31128435080431025: [852584001,\n  924243001,\n  924243002,\n  918522001,\n  915529003,\n  915529005,\n  866731001,\n  909370001,\n  751471001,\n  448509014,\n  714790020,\n  923758001,\n  762846027],\n 31150789638417730: [821140001,\n  885865001,\n  845790006,\n  758034001,\n  864040004,\n  810557001,\n  924243001,\n  924243002,\n  918522001,\n  915529003,\n  915529005,\n  866731001,\n  909370001,\n  751471001,\n  448509014,\n  714790020,\n  923758001,\n  762846027],\n 31153144539895794: [863595006,\n  874587001,\n  924243001,\n  924243002,\n  918522001,\n  915529003,\n  915529005,\n  866731001,\n  909370001,\n  751471001,\n  448509014,\n  714790020,\n  923758001,\n  762846027],\n 31263419041437276: [856919006,\n  872618001,\n  856919003,\n  924243001,\n  924243002,\n  918522001,\n  915529003,\n  915529005,\n  866731001,\n  909370001,\n  751471001,\n  448509014,\n  714790020,\n  923758001,\n  762846027],\n 31264666358961734: [673677022,\n  754357005,\n  824499006,\n  924243001,\n  924243002,\n  918522001,\n  915529003,\n  915529005,\n  866731001,\n  909370001,\n  751471001,\n  448509014,\n  714790020,\n  923758001,\n  762846027],\n 31328250948846508: [857855003,\n  770315017,\n  770315008,\n  826508007,\n  924243002,\n  918522001,\n  924243001,\n  915529003,\n  915529005,\n  866731001,\n  909370001,\n  751471001,\n  448509014,\n  714790020,\n  923758001,\n  762846027],\n 31334416705523512: [870776002,\n  924243001,\n  924243002,\n  918522001,\n  915529003,\n  915529005,\n  909370001,\n  866731001,\n  751471001,\n  448509014,\n  714790020,\n  923758001,\n  762846027],\n 31400369038609785: [921906003,\n  924243001,\n  924243002,\n  918522001,\n  915529003,\n  915529005,\n  866731001,\n  909370001,\n  751471001,\n  448509014,\n  714790020,\n  923758001,\n  762846027],\n 31401448763788804: [629746002,\n  829008002,\n  613459003,\n  782859004,\n  629758005,\n  860949002,\n  721057001,\n  924243001,\n  924243002,\n  918522001,\n  915529003,\n  915529005,\n  866731001,\n  909370001,\n  751471001,\n  448509014,\n  714790020,\n  923758001,\n  762846027],\n 31409911836408027: [882899012,\n  807241066,\n  807241062,\n  877961021,\n  924243001,\n  924243002,\n  918522001,\n  915529003,\n  915529005,\n  866731001,\n  909370001,\n  751471001,\n  448509014,\n  714790020,\n  923758001,\n  762846027],\n 31413658718871391: [913540001,\n  883719001,\n  879021001,\n  924243001,\n  924243002,\n  918522001,\n  915529003,\n  915529005,\n  866731001,\n  909370001,\n  751471001,\n  448509014,\n  714790020,\n  923758001,\n  762846027],\n 31511262164027793: [706837006,\n  924243001,\n  924243002,\n  918522001,\n  915529003,\n  915529005,\n  866731001,\n  909370001,\n  751471001,\n  448509014,\n  714790020,\n  923758001,\n  762846027],\n 31539310096017764: [942058002,\n  832051004,\n  924243001,\n  924243002,\n  918522001,\n  915529003,\n  915529005,\n  866731001,\n  909370001,\n  751471001,\n  448509014,\n  714790020,\n  923758001,\n  762846027],\n 31582159086773959: [372860001,\n  811925009,\n  811925004,\n  924243001,\n  924243002,\n  918522001,\n  915529003,\n  915529005,\n  866731001,\n  909370001,\n  751471001,\n  448509014,\n  714790020,\n  923758001,\n  762846027],\n 31585195778922258: [923020001,\n  909371001,\n  832505003,\n  924243001,\n  924243002,\n  918522001,\n  915529003,\n  915529005,\n  866731001,\n  909370001,\n  751471001,\n  448509014,\n  714790020,\n  923758001,\n  762846027],\n 31691153192999945: [818947001,\n  924243001,\n  924243002,\n  918522001,\n  915529003,\n  915529005,\n  866731001,\n  909370001,\n  751471001,\n  448509014,\n  714790020,\n  923758001,\n  762846027],\n 31710970203519843: [811471005,\n  924243001,\n  924243002,\n  918522001,\n  915529003,\n  915529005,\n  866731001,\n  909370001,\n  751471001,\n  448509014,\n  714790020,\n  923758001,\n  762846027],\n 31757487020640791: [914805006,\n  916058001,\n  924243001,\n  924243002,\n  918522001,\n  915529003,\n  915529005,\n  866731001,\n  909370001,\n  751471001,\n  448509014,\n  714790020,\n  923758001,\n  762846027],\n 31788010910091251: [620425001,\n  186262001,\n  924243001,\n  924243002,\n  918522001,\n  915529003,\n  915529005,\n  866731001,\n  909370001,\n  751471001,\n  448509014,\n  714790020,\n  923758001,\n  762846027],\n 31819116261207366: [905811002,\n  923361002,\n  879436002,\n  879965002,\n  860411009,\n  741356002,\n  892280003,\n  741356009,\n  865458003,\n  848355001,\n  892850002,\n  885710003,\n  882454001,\n  892850001,\n  879965003,\n  924243001,\n  924243002,\n  918522001,\n  915529003,\n  915529005,\n  866731001,\n  909370001,\n  751471001,\n  448509014,\n  714790020,\n  923758001,\n  762846027],\n 31821288288303508: [912095003,\n  865932001,\n  399256001,\n  857227002,\n  872233002,\n  664074059,\n  770315017,\n  665481013,\n  924243001,\n  924243002,\n  918522001,\n  915529003,\n  915529005,\n  866731001,\n  909370001,\n  751471001,\n  448509014,\n  714790020,\n  923758001,\n  762846027],\n 31851010338058671: [903773001,\n  897817004,\n  924243002,\n  918522001,\n  924243001,\n  915529003,\n  915529005,\n  866731001,\n  909370001,\n  751471001,\n  448509014,\n  714790020,\n  923758001,\n  762846027],\n 31853668967816740: [875316001,\n  896152002,\n  924243002,\n  918522001,\n  924243001,\n  915529003,\n  915529005,\n  866731001,\n  909370001,\n  751471001,\n  448509014,\n  714790020,\n  923758001,\n  762846027],\n 31860555767793903: [862496002,\n  874113002,\n  816423003,\n  816423002,\n  924243001,\n  924243002,\n  918522001,\n  915529003,\n  915529005,\n  866731001,\n  909370001,\n  751471001,\n  448509014,\n  714790020,\n  923758001,\n  762846027],\n 31872818656951112: [885827002,\n  889148001,\n  924243001,\n  924243002,\n  918522001,\n  915529003,\n  915529005,\n  866731001,\n  909370001,\n  751471001,\n  448509014,\n  714790020,\n  923758001,\n  762846027],\n 31873171751331068: [765773003,\n  765773007,\n  924243001,\n  924243002,\n  918522001,\n  915529003,\n  915529005,\n  866731001,\n  909370001,\n  751471001,\n  448509014,\n  714790020,\n  923758001,\n  762846027],\n 31902316622849941: [858147001,\n  924243001,\n  924243002,\n  918522001,\n  915529003,\n  915529005,\n  866731001,\n  909370001,\n  751471001,\n  448509014,\n  714790020,\n  923758001,\n  762846027],\n 31932111107659101: [857797003,\n  800691013,\n  924243001,\n  924243002,\n  918522001,\n  915529003,\n  915529005,\n  866731001,\n  909370001,\n  751471001,\n  448509014,\n  714790020,\n  923758001,\n  762846027],\n 31970212271838284: [699755072,\n  924243002,\n  918522001,\n  924243001,\n  915529003,\n  915529005,\n  866731001,\n  909370001,\n  751471001,\n  448509014,\n  714790020,\n  923758001,\n  762846027],\n 32004869510053717: [842004003,\n  891898001,\n  891886001,\n  877769001,\n  924243001,\n  924243002,\n  918522001,\n  915529003,\n  915529005,\n  866731001,\n  909370001,\n  751471001,\n  448509014,\n  714790020,\n  923758001,\n  762846027],\n 32019597271723847: [879248003,\n  869846002,\n  836997001,\n  610776085,\n  869846001,\n  924243001,\n  924243002,\n  918522001,\n  915529003,\n  915529005,\n  866731001,\n  909370001,\n  751471001,\n  448509014,\n  714790020,\n  923758001,\n  762846027],\n 32109751339685869: [916031003,\n  843284002,\n  782742003,\n  924243001,\n  924243002,\n  918522001,\n  915529003,\n  915529005,\n  866731001,\n  909370001,\n  751471001,\n  448509014,\n  714790020,\n  923758001,\n  762846027],\n 32112374692506370: [942083001,\n  736923009,\n  924243001,\n  924243002,\n  918522001,\n  915529003,\n  915529005,\n  866731001,\n  909370001,\n  751471001,\n  448509014,\n  714790020,\n  923758001,\n  762846027],\n 32169202868484539: [796033003,\n  894668004,\n  924243002,\n  918522001,\n  924243001,\n  915529003,\n  915529005,\n  866731001,\n  909370001,\n  751471001,\n  448509014,\n  714790020,\n  923758001,\n  762846027],\n 32198542548777679: [893059004,\n  570319001,\n  851010009,\n  885951001,\n  871311002,\n  924243001,\n  924243002,\n  918522001,\n  915529003,\n  915529005,\n  866731001,\n  909370001,\n  751471001,\n  448509014,\n  714790020,\n  923758001,\n  762846027],\n 32201402651358522: [857896001,\n  924243002,\n  918522001,\n  924243001,\n  915529003,\n  915529005,\n  866731001,\n  909370001,\n  751471001,\n  448509014,\n  714790020,\n  923758001,\n  762846027],\n 32212000964743596: [827349002,\n  560564001,\n  924243001,\n  924243002,\n  918522001,\n  915529003,\n  915529005,\n  866731001,\n  909370001,\n  751471001,\n  448509014,\n  714790020,\n  923758001,\n  762846027],\n 32220693758391040: [911870001,\n  826498003,\n  573390001,\n  841228003,\n  924243001,\n  924243002,\n  918522001,\n  915529003,\n  915529005,\n  866731001,\n  909370001,\n  751471001,\n  448509014,\n  714790020,\n  923758001,\n  762846027],\n 32248129544479856: [516859008,\n  924243001,\n  924243002,\n  918522001,\n  915529003,\n  915529005,\n  866731001,\n  909370001,\n  751471001,\n  448509014,\n  714790020,\n  923758001,\n  762846027],\n 32319425185563588: [873679005,\n  877273002,\n  924243002,\n  918522001,\n  924243001,\n  915529003,\n  915529005,\n  866731001,\n  909370001,\n  751471001,\n  448509014,\n  714790020,\n  923758001,\n  762846027],\n 32322572705088000: [563519008,\n  924243001,\n  924243002,\n  918522001,\n  915529003,\n  915529005,\n  866731001,\n  909370001,\n  751471001,\n  448509014,\n  714790020,\n  923758001,\n  762846027],\n 32348065904856589: [902023001,\n  924243001,\n  924243002,\n  918522001,\n  915529003,\n  915529005,\n  866731001,\n  909370001,\n  751471001,\n  448509014,\n  714790020,\n  923758001,\n  762846027],\n 32355018145793474: [898692006,\n  938804001,\n  871889001,\n  868054004,\n  924243001,\n  924243002,\n  918522001,\n  915529003,\n  915529005,\n  866731001,\n  909370001,\n  751471001,\n  448509014,\n  714790020,\n  923758001,\n  762846027],\n 32472761202507008: [817354001,\n  700765001,\n  611415035,\n  611415034,\n  611415001,\n  924243001,\n  924243002,\n  918522001,\n  915529003,\n  915529005,\n  866731001,\n  909370001,\n  751471001,\n  448509014,\n  714790020,\n  923758001,\n  762846027],\n 32501413214633794: [657304002,\n  868270002,\n  858847002,\n  791488009,\n  791488007,\n  816794002,\n  924243001,\n  924243002,\n  918522001,\n  915529003,\n  915529005,\n  866731001,\n  909370001,\n  751471001,\n  448509014,\n  714790020,\n  923758001,\n  762846027],\n 32504259234794996: [819547001,\n  910601002,\n  786304002,\n  879781001,\n  806528005,\n  924243001,\n  924243002,\n  918522001,\n  915529003,\n  915529005,\n  866731001,\n  909370001,\n  751471001,\n  448509014,\n  714790020,\n  923758001,\n  762846027],\n 32530615510705925: [728156024,\n  612800009,\n  888573003,\n  837249002,\n  854753001,\n  924243001,\n  924243002,\n  918522001,\n  915529003,\n  915529005,\n  866731001,\n  909370001,\n  751471001,\n  448509014,\n  714790020,\n  923758001,\n  762846027],\n 32543582271411636: [814116001,\n  924243001,\n  924243002,\n  918522001,\n  915529003,\n  915529005,\n  866731001,\n  909370001,\n  751471001,\n  448509014,\n  714790020,\n  923758001,\n  762846027],\n 32590687993082698: [908799002,\n  870328002,\n  924243001,\n  924243002,\n  918522001,\n  915529003,\n  915529005,\n  866731001,\n  909370001,\n  751471001,\n  448509014,\n  714790020,\n  923758001,\n  762846027],\n 32628407106207392: [881887001,\n  717490010,\n  924243001,\n  924243002,\n  918522001,\n  915529003,\n  915529005,\n  866731001,\n  909370001,\n  751471001,\n  448509014,\n  714790020,\n  923758001,\n  762846027],\n 32661281843249433: [656491006,\n  587026041,\n  924243001,\n  924243002,\n  918522001,\n  915529003,\n  915529005,\n  866731001,\n  909370001,\n  751471001,\n  448509014,\n  714790020,\n  923758001,\n  762846027],\n 32710200722720013: [739144004,\n  865943002,\n  832465008,\n  864953001,\n  871098001,\n  924243002,\n  918522001,\n  924243001,\n  915529003,\n  915529005,\n  866731001,\n  909370001,\n  751471001,\n  448509014,\n  714790020,\n  923758001,\n  762846027],\n 32712601170338781: [910206001,\n  920732001,\n  928995001,\n  855080008,\n  519930001,\n  866178001,\n  846296002,\n  892547001,\n  850244003,\n  827411006,\n  833500002,\n  924243001,\n  924243002,\n  918522001,\n  915529003,\n  915529005,\n  866731001,\n  909370001,\n  751471001,\n  448509014,\n  714790020,\n  923758001,\n  762846027],\n 32752997762537846: [916468001,\n  924243001,\n  924243002,\n  918522001,\n  915529003,\n  915529005,\n  866731001,\n  909370001,\n  751471001,\n  448509014,\n  714790020,\n  923758001,\n  762846027],\n 32842387829642535: [903773005,\n  922381001,\n  917293005,\n  920972001,\n  924243001,\n  924243002,\n  918522001,\n  915529003,\n  915529005,\n  866731001,\n  909370001,\n  751471001,\n  448509014,\n  714790020,\n  923758001,\n  762846027],\n 32848026819177418: [892850002,\n  859105006,\n  859105010,\n  817416001,\n  877274003,\n  698276004,\n  924243001,\n  924243002,\n  918522001,\n  915529003,\n  915529005,\n  866731001,\n  909370001,\n  751471001,\n  448509014,\n  714790020,\n  923758001,\n  762846027],\n 32859400699764118: [215589002,\n  834063001,\n  845112002,\n  924243001,\n  924243002,\n  918522001,\n  915529003,\n  915529005,\n  866731001,\n  909370001,\n  751471001,\n  448509014,\n  714790020,\n  923758001,\n  762846027],\n 32861293448948274: [717727015,\n  895582009,\n  681181001,\n  924243001,\n  924243002,\n  918522001,\n  915529003,\n  915529005,\n  866731001,\n  909370001,\n  751471001,\n  448509014,\n  714790020,\n  923758001,\n  762846027],\n 32880618724527087: [677930031,\n  700765009,\n  924243001,\n  924243002,\n  918522001,\n  915529003,\n  915529005,\n  866731001,\n  909370001,\n  751471001,\n  448509014,\n  714790020,\n  923758001,\n  762846027],\n 32949086336952425: [914745001,\n  924243001,\n  924243002,\n  918522001,\n  915529003,\n  915529005,\n  866731001,\n  909370001,\n  751471001,\n  448509014,\n  714790020,\n  923758001,\n  762846027],\n 32975285387409795: [905781001,\n  677930023,\n  715624001,\n  752689002,\n  803757015,\n  610776105,\n  610776074,\n  924243001,\n  924243002,\n  918522001,\n  915529003,\n  915529005,\n  866731001,\n  909370001,\n  751471001,\n  448509014,\n  714790020,\n  923758001,\n  762846027],\n 33015626307837009: [749615006,\n  924243001,\n  924243002,\n  918522001,\n  915529003,\n  915529005,\n  866731001,\n  909370001,\n  751471001,\n  448509014,\n  714790020,\n  923758001,\n  762846027],\n 33117937340673087: [901811001,\n  924243001,\n  924243002,\n  918522001,\n  915529003,\n  915529005,\n  866731001,\n  909370001,\n  751471001,\n  448509014,\n  714790020,\n  923758001,\n  762846027],\n 33153645383612968: [854021001,\n  924243002,\n  918522001,\n  924243001,\n  915529003,\n  915529005,\n  866731001,\n  909370001,\n  751471001,\n  448509014,\n  714790020,\n  923758001,\n  762846027],\n 33226934618400736: [889661001,\n  896064002,\n  924243001,\n  924243002,\n  918522001,\n  915529003,\n  915529005,\n  866731001,\n  909370001,\n  751471001,\n  448509014,\n  714790020,\n  923758001,\n  762846027],\n 33249807154323713: [572957023,\n  894457002,\n  869131001,\n  856525001,\n  924243002,\n  918522001,\n  924243001,\n  915529003,\n  915529005,\n  866731001,\n  909370001,\n  751471001,\n  448509014,\n  714790020,\n  923758001,\n  762846027],\n 33404278973297098: [509091054,\n  924243001,\n  924243002,\n  918522001,\n  915529003,\n  915529005,\n  866731001,\n  909370001,\n  751471001,\n  448509014,\n  714790020,\n  923758001,\n  762846027],\n 33494237920092395: [715624010,\n  889753001,\n  889753008,\n  715624001,\n  677930066,\n  924243001,\n  924243002,\n  918522001,\n  915529003,\n  915529005,\n  866731001,\n  909370001,\n  751471001,\n  448509014,\n  714790020,\n  923758001,\n  762846027],\n 33503559185795473: [914441001,\n  736870001,\n  924243001,\n  924243002,\n  918522001,\n  915529003,\n  915529005,\n  866731001,\n  909370001,\n  751471001,\n  448509014,\n  714790020,\n  923758001,\n  762846027],\n 33535864750453281: [915027001,\n  931070001,\n  926306001,\n  928905001,\n  926335001,\n  902325001,\n  902325002,\n  786579001,\n  307239005,\n  749699002,\n  877278002,\n  895418003,\n  752689008,\n  786579002,\n  859736002,\n  717773004,\n  924243002,\n  918522001,\n  924243001,\n  915529003,\n  915529005,\n  866731001,\n  909370001,\n  751471001,\n  448509014,\n  714790020,\n  923758001,\n  762846027],\n 33553061211915092: [859743003,\n  707269003,\n  810557010,\n  834906017,\n  818032001,\n  924243001,\n  924243002,\n  918522001,\n  915529003,\n  915529005,\n  866731001,\n  909370001,\n  751471001,\n  448509014,\n  714790020,\n  923758001,\n  762846027],\n 33562451863007725: [678942054,\n  924243001,\n  924243002,\n  918522001,\n  915529003,\n  915529005,\n  866731001,\n  909370001,\n  751471001,\n  448509014,\n  714790020,\n  923758001,\n  762846027],\n 33623909819185367: [732311010,\n  864224005,\n  886706007,\n  924243001,\n  924243002,\n  918522001,\n  915529003,\n  915529005,\n  866731001,\n  909370001,\n  751471001,\n  448509014,\n  714790020,\n  923758001,\n  762846027],\n 33665198597617663: [912095003,\n  927336002,\n  924243001,\n  924243002,\n  918522001,\n  915529003,\n  915529005,\n  866731001,\n  909370001,\n  751471001,\n  448509014,\n  714790020,\n  923758001,\n  762846027],\n 33675756845670774: [934835001,\n  928917003,\n  906729003,\n  898573003,\n  918292001,\n  905957001,\n  935694002,\n  904414005,\n  754238024,\n  869331006,\n  879291001,\n  869331002,\n  791587018,\n  924243001,\n  924243002,\n  918522001,\n  915529003,\n  915529005,\n  866731001,\n  909370001,\n  751471001,\n  448509014,\n  714790020,\n  923758001,\n  762846027],\n 33687852953623852: [826835001,\n  924243001,\n  924243002,\n  918522001,\n  915529003,\n  915529005,\n  866731001,\n  909370001,\n  751471001,\n  448509014,\n  714790020,\n  923758001,\n  762846027],\n 33714159573598336: [804992017,\n  373506008,\n  924243001,\n  924243002,\n  918522001,\n  915529003,\n  915529005,\n  866731001,\n  909370001,\n  751471001,\n  448509014,\n  714790020,\n  923758001,\n  762846027],\n 33739341461110808: [855769001,\n  851400020,\n  872378001,\n  924243001,\n  924243002,\n  918522001,\n  915529003,\n  915529005,\n  866731001,\n  909370001,\n  751471001,\n  448509014,\n  714790020,\n  923758001,\n  762846027],\n 33778132099249426: [823791006,\n  926750001,\n  852775004,\n  924243001,\n  924243002,\n  918522001,\n  915529003,\n  915529005,\n  866731001,\n  909370001,\n  751471001,\n  448509014,\n  714790020,\n  923758001,\n  762846027],\n 33794245489765109: [609931001,\n  808029001,\n  883724001,\n  877223004,\n  814650001,\n  832312002,\n  817354001,\n  896152001,\n  835008011,\n  896152003,\n  812668001,\n  924243001,\n  924243002,\n  918522001,\n  915529003,\n  915529005,\n  866731001,\n  909370001,\n  751471001,\n  448509014,\n  714790020,\n  923758001,\n  762846027],\n 33871186042788771: [920529001,\n  924243001,\n  924243002,\n  918522001,\n  915529003,\n  915529005,\n  866731001,\n  909370001,\n  751471001,\n  448509014,\n  714790020,\n  923758001,\n  762846027],\n 33928789953100696: [878190004,\n  687347002,\n  924243001,\n  924243002,\n  918522001,\n  915529003,\n  915529005,\n  866731001,\n  909370001,\n  751471001,\n  448509014,\n  714790020,\n  923758001,\n  762846027],\n 33967349343856108: [852174003,\n  700701001,\n  700765001,\n  924243001,\n  924243002,\n  918522001,\n  915529003,\n  915529005,\n  866731001,\n  909370001,\n  751471001,\n  448509014,\n  714790020,\n  923758001,\n  762846027],\n 33973193923283238: [791587018,\n  924243001,\n  924243002,\n  918522001,\n  915529003,\n  915529005,\n  866731001,\n  909370001,\n  751471001,\n  448509014,\n  714790020,\n  923758001,\n  762846027],\n 34026567821919955: [886241003,\n  924243002,\n  918522001,\n  924243001,\n  915529003,\n  915529005,\n  866731001,\n  909370001,\n  751471001,\n  448509014,\n  714790020,\n  923758001,\n  762846027],\n 34037360999144074: [907409001,\n  904545002,\n  818397001,\n  800691008,\n  893059004,\n  160442007,\n  800691007,\n  835008003,\n  863646004,\n  924243001,\n  924243002,\n  918522001,\n  915529003,\n  915529005,\n  866731001,\n  909370001,\n  751471001,\n  448509014,\n  714790020,\n  923758001,\n  762846027],\n 34164583991033357: [797835009,\n  924243001,\n  924243002,\n  918522001,\n  915529003,\n  915529005,\n  866731001,\n  909370001,\n  751471001,\n  448509014,\n  714790020,\n  923758001,\n  762846027],\n 34224054991411883: [806766001,\n  924243001,\n  924243002,\n  918522001,\n  915529003,\n  915529005,\n  866731001,\n  909370001,\n  751471001,\n  448509014,\n  714790020,\n  923758001,\n  762846027],\n 34227409159927971: [855080001,\n  855080002,\n  372860024,\n  855080003,\n  599718043,\n  880793002,\n  599718045,\n  924243001,\n  924243002,\n  918522001,\n  915529003,\n  915529005,\n  866731001,\n  909370001,\n  751471001,\n  448509014,\n  714790020,\n  923758001,\n  762846027],\n 34290335805143874: [803070001,\n  700701005,\n  557994014,\n  871311002,\n  473954015,\n  737221008,\n  894758001,\n  831282007,\n  924243001,\n  924243002,\n  918522001,\n  915529003,\n  915529005,\n  866731001,\n  909370001,\n  751471001,\n  448509014,\n  714790020,\n  923758001,\n  762846027],\n 34352916433811235: [816841006,\n  872233003,\n  753061003,\n  924243001,\n  924243002,\n  918522001,\n  915529003,\n  915529005,\n  866731001,\n  909370001,\n  751471001,\n  448509014,\n  714790020,\n  923758001,\n  762846027],\n 34371892431494456: [399061026,\n  897423002,\n  924243002,\n  918522001,\n  924243001,\n  915529003,\n  915529005,\n  866731001,\n  909370001,\n  751471001,\n  448509014,\n  714790020,\n  923758001,\n  762846027],\n 34387694947244891: [817058001,\n  749615010,\n  924243001,\n  924243002,\n  918522001,\n  915529003,\n  915529005,\n  866731001,\n  909370001,\n  751471001,\n  448509014,\n  714790020,\n  923758001,\n  762846027],\n 34403641780465851: [875899001,\n  924243001,\n  924243002,\n  918522001,\n  915529003,\n  915529005,\n  866731001,\n  909370001,\n  751471001,\n  448509014,\n  714790020,\n  923758001,\n  762846027],\n 34442666259224969: [719629019,\n  630777015,\n  656677022,\n  924243001,\n  924243002,\n  918522001,\n  915529003,\n  915529005,\n  866731001,\n  909370001,\n  751471001,\n  448509014,\n  714790020,\n  923758001,\n  762846027],\n 34474206775608844: [573085043,\n  924243002,\n  918522001,\n  924243001,\n  915529003,\n  915529005,\n  866731001,\n  909370001,\n  751471001,\n  448509014,\n  714790020,\n  923758001,\n  762846027],\n 34506529911921355: [916917001,\n  924243001,\n  924243002,\n  918522001,\n  915529003,\n  915529005,\n  866731001,\n  909370001,\n  751471001,\n  448509014,\n  714790020,\n  923758001,\n  762846027],\n 34513933971149607: [723349001,\n  721990004,\n  924243001,\n  924243002,\n  918522001,\n  915529003,\n  915529005,\n  866731001,\n  909370001,\n  751471001,\n  448509014,\n  714790020,\n  923758001,\n  762846027],\n 34673454299444172: [759814010,\n  924243001,\n  924243002,\n  918522001,\n  915529003,\n  915529005,\n  866731001,\n  909370001,\n  751471001,\n  448509014,\n  714790020,\n  923758001,\n  762846027],\n 34736734910267384: [794191003,\n  892309005,\n  470789031,\n  924243001,\n  924243002,\n  918522001,\n  915529003,\n  915529005,\n  866731001,\n  909370001,\n  751471001,\n  448509014,\n  714790020,\n  923758001,\n  762846027],\n 34756821957736385: [919365008,\n  924243001,\n  924243002,\n  918522001,\n  915529003,\n  915529005,\n  866731001,\n  909370001,\n  751471001,\n  714790020,\n  448509014,\n  923758001,\n  762846027],\n 34881062198388706: [717490070,\n  800691008,\n  677930066,\n  694848008,\n  816563001,\n  924243001,\n  924243002,\n  918522001,\n  915529003,\n  915529005,\n  866731001,\n  909370001,\n  751471001,\n  448509014,\n  714790020,\n  923758001,\n  762846027],\n 34912847895406276: [751471037,\n  573716012,\n  866307001,\n  896851001,\n  856440002,\n  924243001,\n  924243002,\n  918522001,\n  915529003,\n  915529005,\n  866731001,\n  909370001,\n  751471001,\n  448509014,\n  714790020,\n  923758001,\n  762846027],\n 34921540425984040: [806248002,\n  909592002,\n  574109028,\n  730683050,\n  759465014,\n  470789019,\n  894956006,\n  924243001,\n  924243002,\n  918522001,\n  915529003,\n  915529005,\n  866731001,\n  909370001,\n  751471001,\n  448509014,\n  714790020,\n  923758001,\n  762846027],\n 34929870235823187: [947060001,\n  917294004,\n  924243001,\n  924243002,\n  918522001,\n  915529003,\n  915529005,\n  866731001,\n  909370001,\n  751471001,\n  448509014,\n  714790020,\n  923758001,\n  762846027],\n 34948107619789367: [802485001,\n  865880001,\n  924243001,\n  924243002,\n  918522001,\n  915529003,\n  915529005,\n  866731001,\n  909370001,\n  751471001,\n  448509014,\n  714790020,\n  923758001,\n  762846027],\n 35021609361427535: [891591003,\n  815808001,\n  889460003,\n  896096003,\n  889460001,\n  924243001,\n  924243002,\n  918522001,\n  915529003,\n  915529005,\n  866731001,\n  909370001,\n  751471001,\n  448509014,\n  714790020,\n  923758001,\n  762846027],\n 35058365463078453: [784001002,\n  770315005,\n  816563004,\n  372860002,\n  850241005,\n  924243001,\n  924243002,\n  918522001,\n  915529003,\n  915529005,\n  866731001,\n  909370001,\n  751471001,\n  448509014,\n  714790020,\n  923758001,\n  762846027],\n 35099535400672093: [500435120,\n  924243001,\n  924243002,\n  918522001,\n  915529003,\n  915529005,\n  866731001,\n  909370001,\n  751471001,\n  448509014,\n  714790020,\n  923758001,\n  762846027],\n 35132395069578145: [863583001,\n  869473003,\n  924243001,\n  924243002,\n  918522001,\n  915529003,\n  915529005,\n  866731001,\n  909370001,\n  751471001,\n  448509014,\n  714790020,\n  923758001,\n  762846027],\n 35162125441017774: [762846006,\n  850732004,\n  762846029,\n  924243001,\n  924243002,\n  918522001,\n  915529003,\n  915529005,\n  866731001,\n  909370001,\n  751471001,\n  448509014,\n  714790020,\n  923758001,\n  762846027],\n 35199320161848364: [915921001,\n  902802005,\n  809961007,\n  851370004,\n  791587015,\n  866792001,\n  868213004,\n  805011019,\n  868213012,\n  896559002,\n  849886012,\n  924243001,\n  924243002,\n  918522001,\n  915529003,\n  915529005,\n  866731001,\n  909370001,\n  751471001,\n  448509014,\n  714790020,\n  923758001,\n  762846027],\n 35205974585551224: [929508002,\n  768912001,\n  803757015,\n  579541001,\n  742947001,\n  610776068,\n  517729102,\n  754362025,\n  859808002,\n  876053003,\n  924243001,\n  924243002,\n  918522001,\n  915529003,\n  915529005,\n  866731001,\n  909370001,\n  751471001,\n  448509014,\n  714790020,\n  923758001,\n  762846027],\n 35206153324454790: [921380001,\n  832307003,\n  915611004,\n  918443004,\n  909588006,\n  797079001,\n  762846006,\n  766955001,\n  828991001,\n  818792001,\n  815571001,\n  884319006,\n  924243001,\n  924243002,\n  918522001,\n  915529003,\n  915529005,\n  866731001,\n  909370001,\n  751471001,\n  448509014,\n  714790020,\n  923758001,\n  762846027],\n 35261060878184691: [714807003,\n  924243001,\n  924243002,\n  918522001,\n  915529003,\n  915529005,\n  866731001,\n  909370001,\n  751471001,\n  448509014,\n  714790020,\n  923758001,\n  762846027],\n 35285230385609815: [874704002,\n  924243001,\n  924243002,\n  918522001,\n  915529003,\n  915529005,\n  866731001,\n  909370001,\n  751471001,\n  448509014,\n  714790020,\n  923758001,\n  762846027],\n 35333462695351790: [776179001,\n  827968004,\n  572998001,\n  924243001,\n  924243002,\n  918522001,\n  915529003,\n  915529005,\n  866731001,\n  909370001,\n  751471001,\n  448509014,\n  714790020,\n  923758001,\n  762846027],\n 35335654790712518: [897693003,\n  924243001,\n  924243002,\n  918522001,\n  915529003,\n  915529005,\n  866731001,\n  909370001,\n  751471001,\n  448509014,\n  714790020,\n  923758001,\n  762846027],\n 35423934854782275: [851010007,\n  851010006,\n  924243001,\n  924243002,\n  918522001,\n  915529003,\n  915529005,\n  866731001,\n  909370001,\n  751471001,\n  448509014,\n  714790020,\n  923758001,\n  762846027],\n 35560125243543949: [921090004,\n  621381012,\n  924243001,\n  924243002,\n  918522001,\n  915529003,\n  915529005,\n  866731001,\n  909370001,\n  751471001,\n  448509014,\n  714790020,\n  923758001,\n  762846027],\n 35610949793442717: [881577005,\n  924243001,\n  924243002,\n  918522001,\n  915529003,\n  915529005,\n  866731001,\n  909370001,\n  751471001,\n  448509014,\n  714790020,\n  923758001,\n  762846027],\n 35672934783849837: [930058002,\n  909081004,\n  930058001,\n  767423013,\n  761406005,\n  924243001,\n  924243002,\n  918522001,\n  915529003,\n  915529005,\n  866731001,\n  909370001,\n  751471001,\n  448509014,\n  714790020,\n  923758001,\n  762846027],\n 35735245817954868: [902802005,\n  894293002,\n  924243001,\n  924243002,\n  918522001,\n  915529003,\n  915529005,\n  866731001,\n  909370001,\n  751471001,\n  448509014,\n  714790020,\n  923758001,\n  762846027],\n 35827349304186886: [895555001,\n  905518001,\n  905932001,\n  921226001,\n  926306001,\n  573716012,\n  778064001,\n  723349003,\n  721990006,\n  783346001,\n  160442007,\n  685602005,\n  578630003,\n  842605001,\n  863587001,\n  857427004,\n  875329001,\n  889387002,\n  924243001,\n  924243002,\n  918522001,\n  915529003,\n  915529005,\n  751471001,\n  866731001,\n  909370001,\n  448509014,\n  714790020,\n  923758001,\n  762846027],\n 35827705479118156: [554598001,\n  924243001,\n  924243002,\n  918522001,\n  915529003,\n  915529005,\n  866731001,\n  909370001,\n  751471001,\n  448509014,\n  714790020,\n  923758001,\n  762846027],\n 35845905900657430: [850917001,\n  924243001,\n  918522001,\n  924243002,\n  915529003,\n  915529005,\n  866731001,\n  909370001,\n  751471001,\n  448509014,\n  714790020,\n  923758001,\n  762846027],\n 35894524716012580: [900659001,\n  924243001,\n  924243002,\n  918522001,\n  915529003,\n  915529005,\n  866731001,\n  909370001,\n  751471001,\n  448509014,\n  714790020,\n  923758001,\n  762846027],\n 35937585014805681: [914441001,\n  448509035,\n  924243002,\n  918522001,\n  924243001,\n  915529003,\n  915529005,\n  866731001,\n  909370001,\n  751471001,\n  448509014,\n  714790020,\n  923758001,\n  762846027],\n 35975008422026434: [911570001,\n  924243001,\n  924243002,\n  918522001,\n  915529003,\n  915529005,\n  866731001,\n  909370001,\n  751471001,\n  448509014,\n  714790020,\n  923758001,\n  762846027],\n 36104633526744517: [933889001,\n  791587015,\n  791587018,\n  895418002,\n  874116015,\n  924243001,\n  924243002,\n  918522001,\n  915529003,\n  915529005,\n  866731001,\n  909370001,\n  751471001,\n  448509014,\n  714790020,\n  923758001,\n  762846027],\n 36188330788172143: [885410001,\n  776163006,\n  924243001,\n  924243002,\n  918522001,\n  915529003,\n  915529005,\n  866731001,\n  909370001,\n  751471001,\n  448509014,\n  714790020,\n  923758001,\n  762846027],\n 36248760632996017: [868792004,\n  924243002,\n  918522001,\n  924243001,\n  915529003,\n  915529005,\n  866731001,\n  909370001,\n  751471001,\n  448509014,\n  714790020,\n  923758001,\n  762846027],\n 36256083603118431: [916785001,\n  927791005,\n  924243001,\n  924243002,\n  918522001,\n  915529003,\n  915529005,\n  866731001,\n  909370001,\n  751471001,\n  448509014,\n  714790020,\n  923758001,\n  762846027],\n 36257058119026816: [909059001,\n  903926001,\n  906977001,\n  925124001,\n  867969003,\n  803468002,\n  756318001,\n  886566001,\n  894780001,\n  924243001,\n  924243002,\n  918522001,\n  915529003,\n  915529005,\n  866731001,\n  909370001,\n  751471001,\n  448509014,\n  714790020,\n  923758001,\n  762846027],\n 36261634728025948: [904422001,\n  767862001,\n  827968004,\n  924243001,\n  924243002,\n  918522001,\n  915529003,\n  915529005,\n  866731001,\n  909370001,\n  751471001,\n  448509014,\n  714790020,\n  923758001,\n  762846027],\n 36293938481508122: [903309001,\n  662888007,\n  842004005,\n  761406002,\n  872000005,\n  562245018,\n  895418003,\n  831777004,\n  750422023,\n  924243001,\n  924243002,\n  918522001,\n  915529003,\n  915529005,\n  866731001,\n  909370001,\n  751471001,\n  448509014,\n  714790020,\n  923758001,\n  762846027],\n 36294812571924126: [889460001,\n  924243001,\n  924243002,\n  918522001,\n  915529003,\n  915529005,\n  866731001,\n  909370001,\n  751471001,\n  448509014,\n  714790020,\n  923758001,\n  762846027],\n 36325811453451603: [892256001,\n  853925001,\n  894687001,\n  893752001,\n  890862001,\n  924243001,\n  924243002,\n  918522001,\n  915529003,\n  915529005,\n  866731001,\n  909370001,\n  751471001,\n  448509014,\n  714790020,\n  923758001,\n  762846027],\n 36331988973852190: [905914002,\n  574109011,\n  924243001,\n  924243002,\n  918522001,\n  915529003,\n  915529005,\n  866731001,\n  909370001,\n  751471001,\n  448509014,\n  714790020,\n  923758001,\n  762846027],\n 36352555968652257: [829045009,\n  924243001,\n  924243002,\n  918522001,\n  915529003,\n  915529005,\n  866731001,\n  909370001,\n  751471001,\n  448509014,\n  714790020,\n  923758001,\n  762846027],\n 36416245862479391: [846139003,\n  924243001,\n  924243002,\n  918522001,\n  915529003,\n  915529005,\n  866731001,\n  909370001,\n  751471001,\n  448509014,\n  714790020,\n  923758001,\n  762846027],\n 36416500508681389: [833499010,\n  833530009,\n  924243001,\n  924243002,\n  918522001,\n  915529003,\n  915529005,\n  866731001,\n  909370001,\n  751471001,\n  448509014,\n  714790020,\n  923758001,\n  762846027],\n 36527361784796051: [554598081,\n  868751001,\n  924243001,\n  924243002,\n  918522001,\n  915529003,\n  915529005,\n  866731001,\n  909370001,\n  751471001,\n  448509014,\n  714790020,\n  923758001,\n  762846027],\n 36531269485131677: [909884001,\n  904416002,\n  907702002,\n  408875001,\n  924243001,\n  924243002,\n  918522001,\n  915529003,\n  915529005,\n  866731001,\n  909370001,\n  751471001,\n  448509014,\n  714790020,\n  923758001,\n  762846027],\n 36588529973973445: [611151001,\n  832473004,\n  924243002,\n  918522001,\n  924243001,\n  915529003,\n  915529005,\n  866731001,\n  909370001,\n  751471001,\n  448509014,\n  714790020,\n  923758001,\n  762846027],\n 36662739075315079: [578476001,\n  924243001,\n  924243002,\n  918522001,\n  915529003,\n  915529005,\n  866731001,\n  909370001,\n  751471001,\n  448509014,\n  714790020,\n  923758001,\n  762846027],\n 36742888858696877: [806388002,\n  924243001,\n  924243002,\n  918522001,\n  915529003,\n  915529005,\n  866731001,\n  909370001,\n  751471001,\n  448509014,\n  714790020,\n  923758001,\n  762846027],\n 36794054262243640: [827968001,\n  924243001,\n  924243002,\n  918522001,\n  915529003,\n  915529005,\n  866731001,\n  909370001,\n  751471001,\n  448509014,\n  714790020,\n  923758001,\n  762846027],\n 36870317010813757: [918292004,\n  924243001,\n  924243002,\n  918522001,\n  915529003,\n  915529005,\n  866731001,\n  909370001,\n  751471001,\n  448509014,\n  714790020,\n  923758001,\n  762846027],\n 36940439614951079: [874114002,\n  918292001,\n  902161004,\n  836142003,\n  865663004,\n  679853020,\n  729860002,\n  924243001,\n  924243002,\n  918522001,\n  915529003,\n  915529005,\n  866731001,\n  909370001,\n  751471001,\n  448509014,\n  714790020,\n  923758001,\n  762846027],\n 37103459876290547: [853881001,\n  791587009,\n  924243001,\n  924243002,\n  918522001,\n  915529003,\n  915529005,\n  866731001,\n  909370001,\n  751471001,\n  448509014,\n  714790020,\n  923758001,\n  762846027],\n 37133985744416934: [886754001,\n  924243001,\n  924243002,\n  918522001,\n  915529003,\n  915529005,\n  866731001,\n  909370001,\n  751471001,\n  448509014,\n  714790020,\n  923758001,\n  762846027],\n 37167449356470252: [716672001,\n  924243001,\n  924243002,\n  918522001,\n  915529003,\n  915529005,\n  866731001,\n  909370001,\n  751471001,\n  448509014,\n  714790020,\n  923758001,\n  762846027],\n 37205626439047066: [861514004,\n  924243001,\n  924243002,\n  918522001,\n  915529003,\n  915529005,\n  866731001,\n  909370001,\n  751471001,\n  448509014,\n  714790020,\n  923758001,\n  762846027],\n 37299978638302153: [778285001,\n  867966009,\n  778285003,\n  867966002,\n  881570005,\n  882900013,\n  762846008,\n  837939002,\n  924243001,\n  924243002,\n  918522001,\n  915529003,\n  915529005,\n  866731001,\n  909370001,\n  751471001,\n  448509014,\n  714790020,\n  923758001,\n  762846027],\n 37395043376523134: [573085042,\n  924243001,\n  924243002,\n  918522001,\n  915529003,\n  915529005,\n  866731001,\n  909370001,\n  751471001,\n  448509014,\n  714790020,\n  923758001,\n  762846027],\n 37407537894153080: [746300013,\n  840210003,\n  878016001,\n  924243001,\n  924243002,\n  918522001,\n  915529003,\n  915529005,\n  866731001,\n  909370001,\n  751471001,\n  448509014,\n  714790020,\n  923758001,\n  762846027],\n 37413866556978118: [904999002,\n  924243001,\n  924243002,\n  918522001,\n  915529003,\n  915529005,\n  866731001,\n  909370001,\n  751471001,\n  448509014,\n  714790020,\n  923758001,\n  762846027],\n 37415140406349847: [865799006,\n  924243001,\n  924243002,\n  918522001,\n  915529003,\n  915529005,\n  866731001,\n  909370001,\n  751471001,\n  448509014,\n  714790020,\n  923758001,\n  762846027],\n 37435441716347888: [816521005,\n  924243001,\n  924243002,\n  918522001,\n  915529003,\n  915529005,\n  866731001,\n  909370001,\n  751471001,\n  448509014,\n  714790020,\n  923758001,\n  762846027],\n 37447099261162809: [909734001,\n  816686002,\n  714790028,\n  714790008,\n  807241001,\n  924243001,\n  924243002,\n  918522001,\n  915529003,\n  915529005,\n  866731001,\n  909370001,\n  751471001,\n  448509014,\n  714790020,\n  923758001,\n  762846027],\n 37454926058413187: [832723003,\n  762173009,\n  782880014,\n  784247002,\n  924243001,\n  924243002,\n  918522001,\n  915529003,\n  915529005,\n  866731001,\n  909370001,\n  751471001,\n  448509014,\n  714790020,\n  923758001,\n  762846027],\n 37605715839143949: [919365008,\n  934835001,\n  865799005,\n  924243001,\n  924243002,\n  918522001,\n  915529003,\n  915529005,\n  866731001,\n  909370001,\n  751471001,\n  448509014,\n  714790020,\n  923758001,\n  762846027],\n 37658942241251230: [905365001,\n  915529001,\n  914441001,\n  879956002,\n  924243001,\n  924243002,\n  918522001,\n  915529003,\n  915529005,\n  866731001,\n  909370001,\n  751471001,\n  448509014,\n  714790020,\n  923758001,\n  762846027],\n 37659186321930325: [766346004,\n  832253002,\n  924243001,\n  924243002,\n  918522001,\n  915529003,\n  915529005,\n  866731001,\n  909370001,\n  751471001,\n  448509014,\n  714790020,\n  923758001,\n  762846027],\n 37665843099830029: [746994002,\n  863163002,\n  924243001,\n  924243002,\n  918522001,\n  915529003,\n  915529005,\n  866731001,\n  909370001,\n  751471001,\n  448509014,\n  714790020,\n  923758001,\n  762846027],\n 37743070634767537: [869811003,\n  817472009,\n  924243002,\n  918522001,\n  924243001,\n  915529003,\n  915529005,\n  866731001,\n  909370001,\n  751471001,\n  448509014,\n  714790020,\n  923758001,\n  762846027],\n 37820865802151666: [621381001,\n  787481009,\n  924243001,\n  924243002,\n  918522001,\n  915529003,\n  915529005,\n  866731001,\n  909370001,\n  751471001,\n  448509014,\n  714790020,\n  923758001,\n  762846027],\n 37827334907692637: [908489004,\n  843594001,\n  880805004,\n  924243001,\n  924243002,\n  918522001,\n  915529003,\n  915529005,\n  866731001,\n  909370001,\n  751471001,\n  448509014,\n  714790020,\n  923758001,\n  762846027],\n 37870742262656636: [706016001,\n  861621001,\n  924243001,\n  924243002,\n  918522001,\n  915529003,\n  915529005,\n  866731001,\n  909370001,\n  751471001,\n  448509014,\n  714790020,\n  923758001,\n  762846027],\n 37906365847687176: [750055001,\n  924243002,\n  918522001,\n  924243001,\n  915529003,\n  915529005,\n  866731001,\n  909370001,\n  751471001,\n  448509014,\n  714790020,\n  923758001,\n  762846027],\n 37989682724002170: [706016001,\n  881111008,\n  706016036,\n  924243001,\n  924243002,\n  918522001,\n  915529003,\n  915529005,\n  866731001,\n  909370001,\n  751471001,\n  448509014,\n  714790020,\n  923758001,\n  762846027],\n 37996961258138205: [888294001,\n  924243001,\n  924243002,\n  918522001,\n  915529003,\n  915529005,\n  866731001,\n  909370001,\n  751471001,\n  448509014,\n  714790020,\n  923758001,\n  762846027],\n 38021265331676849: [675662004,\n  924243001,\n  924243002,\n  918522001,\n  915529003,\n  915529005,\n  866731001,\n  909370001,\n  751471001,\n  448509014,\n  714790020,\n  923758001,\n  762846027],\n 38058245170512584: [902714001,\n  924243001,\n  924243002,\n  918522001,\n  915529003,\n  915529005,\n  866731001,\n  909370001,\n  751471001,\n  448509014,\n  714790020,\n  923758001,\n  762846027],\n 38059462827882302: [816832002,\n  924243002,\n  918522001,\n  924243001,\n  915529003,\n  915529005,\n  866731001,\n  909370001,\n  751471001,\n  448509014,\n  714790020,\n  923758001,\n  762846027],\n 38160690521878159: [759871002,\n  621381014,\n  924243001,\n  924243002,\n  918522001,\n  915529003,\n  915529005,\n  866731001,\n  909370001,\n  751471001,\n  448509014,\n  714790020,\n  923758001,\n  762846027],\n 38231910501852628: [877172003,\n  924243001,\n  924243002,\n  918522001,\n  915529003,\n  915529005,\n  866731001,\n  909370001,\n  751471001,\n  448509014,\n  714790020,\n  923758001,\n  762846027],\n 38250445449387182: [914966002,\n  924625001,\n  906114001,\n  570004108,\n  793704001,\n  598755003,\n  721683010,\n  700765009,\n  827397003,\n  832479003,\n  591466033,\n  888346001,\n  767579006,\n  892318001,\n  591466047,\n  868994001,\n  924243001,\n  924243002,\n  918522001,\n  915529003,\n  915529005,\n  866731001,\n  909370001,\n  751471001,\n  448509014,\n  714790020,\n  923758001,\n  762846027],\n 38279862303275202: [876225001,\n  868410001,\n  924243001,\n  924243002,\n  918522001,\n  915529003,\n  915529005,\n  866731001,\n  909370001,\n  751471001,\n  448509014,\n  714790020,\n  923758001,\n  762846027],\n 38289782045217938: [852584001,\n  916256001,\n  902026002,\n  905914002,\n  751471043,\n  714790028,\n  888229007,\n  924243001,\n  924243002,\n  918522001,\n  915529003,\n  915529005,\n  866731001,\n  909370001,\n  751471001,\n  448509014,\n  714790020,\n  923758001,\n  762846027],\n 38328100520035779: [859066001,\n  863937010,\n  664074078,\n  803772002,\n  924243001,\n  924243002,\n  918522001,\n  915529003,\n  915529005,\n  866731001,\n  909370001,\n  751471001,\n  448509014,\n  714790020,\n  923758001,\n  762846027],\n 38330851658819191: [904995001,\n  802153002,\n  924243001,\n  924243002,\n  918522001,\n  915529003,\n  915529005,\n  866731001,\n  909370001,\n  751471001,\n  448509014,\n  714790020,\n  923758001,\n  762846027],\n 38348329863419837: [913688001,\n  924243001,\n  924243002,\n  918522001,\n  915529003,\n  915529005,\n  866731001,\n  909370001,\n  751471001,\n  448509014,\n  714790020,\n  923758001,\n  762846027],\n 38464983789808823: [927491001,\n  924243001,\n  924243002,\n  918522001,\n  915529003,\n  915529005,\n  866731001,\n  909370001,\n  751471001,\n  448509014,\n  714790020,\n  923758001,\n  762846027],\n 38513529121093383: [846356002,\n  924243001,\n  924243002,\n  918522001,\n  915529003,\n  915529005,\n  866731001,\n  909370001,\n  751471001,\n  448509014,\n  714790020,\n  923758001,\n  762846027],\n 38524948174041438: [768931019,\n  924243001,\n  924243002,\n  918522001,\n  915529003,\n  915529005,\n  866731001,\n  909370001,\n  751471001,\n  448509014,\n  714790020,\n  923758001,\n  762846027],\n 38588820363674778: [933989001,\n  935689001,\n  892910001,\n  865977002,\n  894994001,\n  744117017,\n  924243001,\n  924243002,\n  918522001,\n  915529003,\n  915529005,\n  866731001,\n  909370001,\n  751471001,\n  448509014,\n  714790020,\n  923758001,\n  762846027],\n 38606513421783313: [875856001,\n  667096006,\n  924243002,\n  918522001,\n  924243001,\n  915529003,\n  915529005,\n  866731001,\n  909370001,\n  751471001,\n  448509014,\n  714790020,\n  923758001,\n  762846027],\n 38700952482392720: [868320001,\n  865131001,\n  840909001,\n  924243001,\n  924243002,\n  918522001,\n  915529003,\n  915529005,\n  866731001,\n  909370001,\n  751471001,\n  448509014,\n  714790020,\n  923758001,\n  762846027],\n 38704665730218679: [927751001,\n  892624001,\n  798418001,\n  885951002,\n  883026002,\n  756320026,\n  862821001,\n  826646001,\n  879287001,\n  835605004,\n  883026001,\n  870611002,\n  870611003,\n  924243001,\n  924243002,\n  918522001,\n  915529003,\n  915529005,\n  866731001,\n  909370001,\n  751471001,\n  448509014,\n  714790020,\n  923758001,\n  762846027],\n 38715329833574592: [913030001,\n  866383006,\n  924243001,\n  924243002,\n  918522001,\n  915529003,\n  915529005,\n  866731001,\n  909370001,\n  751471001,\n  448509014,\n  714790020,\n  923758001,\n  762846027],\n 38747564299253200: [871376002,\n  719530003,\n  845746001,\n  924243001,\n  924243002,\n  918522001,\n  915529003,\n  915529005,\n  866731001,\n  909370001,\n  751471001,\n  448509014,\n  714790020,\n  923758001,\n  762846027],\n 38773803108946098: [861121001,\n  924243001,\n  924243002,\n  918522001,\n  915529003,\n  915529005,\n  866731001,\n  909370001,\n  751471001,\n  448509014,\n  714790020,\n  923758001,\n  762846027],\n 38801524050090554: [882882002,\n  804992014,\n  787946003,\n  924243001,\n  924243002,\n  918522001,\n  915529003,\n  915529005,\n  866731001,\n  909370001,\n  751471001,\n  448509014,\n  714790020,\n  923758001,\n  762846027],\n 38818822299031549: [820613001,\n  924243001,\n  924243002,\n  918522001,\n  915529003,\n  915529005,\n  866731001,\n  909370001,\n  751471001,\n  448509014,\n  714790020,\n  923758001,\n  762846027],\n 38828685677033805: [513699009,\n  924243001,\n  924243002,\n  918522001,\n  915529003,\n  915529005,\n  866731001,\n  909370001,\n  751471001,\n  448509014,\n  714790020,\n  923758001,\n  762846027],\n 38895516600709293: [926015001,\n  201219001,\n  889870001,\n  924243001,\n  924243002,\n  918522001,\n  915529003,\n  915529005,\n  866731001,\n  909370001,\n  751471001,\n  448509014,\n  714790020,\n  923758001,\n  762846027],\n 38971457321606244: [918525001,\n  924243001,\n  924243002,\n  918522001,\n  915529003,\n  915529005,\n  866731001,\n  909370001,\n  751471001,\n  448509014,\n  714790020,\n  923758001,\n  762846027],\n 39061958466962760: [759871002,\n  408875001,\n  408875021,\n  377277002,\n  924243001,\n  924243002,\n  918522001,\n  915529003,\n  915529005,\n  866731001,\n  909370001,\n  751471001,\n  448509014,\n  714790020,\n  923758001,\n  762846027],\n 39065158976603544: [616920001,\n  868005003,\n  832884002,\n  890684002,\n  868680006,\n  924243001,\n  924243002,\n  918522001,\n  915529003,\n  915529005,\n  866731001,\n  909370001,\n  751471001,\n  448509014,\n  714790020,\n  923758001,\n  762846027],\n 39098179315203660: [807241026,\n  807241018,\n  924243001,\n  924243002,\n  918522001,\n  915529003,\n  915529005,\n  866731001,\n  909370001,\n  751471001,\n  448509014,\n  714790020,\n  923758001,\n  762846027],\n 39158129291475179: [679854042,\n  679854001,\n  860525007,\n  860525006,\n  924243002,\n  918522001,\n  924243001,\n  915529003,\n  915529005,\n  866731001,\n  909370001,\n  751471001,\n  448509014,\n  714790020,\n  923758001,\n  762846027],\n 39172497731037957: [903889001,\n  732311029,\n  897077001,\n  924243001,\n  924243002,\n  918522001,\n  915529003,\n  915529005,\n  866731001,\n  909370001,\n  751471001,\n  448509014,\n  714790020,\n  923758001,\n  762846027],\n 39189320973733298: [599580074,\n  924243001,\n  924243002,\n  918522001,\n  915529003,\n  915529005,\n  866731001,\n  909370001,\n  751471001,\n  448509014,\n  714790020,\n  923758001,\n  762846027],\n 39207629199500587: [830919001,\n  924243001,\n  924243002,\n  918522001,\n  915529003,\n  915529005,\n  866731001,\n  909370001,\n  751471001,\n  448509014,\n  714790020,\n  923758001,\n  762846027],\n 39222204655745502: [937915003,\n  868053001,\n  880312003,\n  924243001,\n  924243002,\n  918522001,\n  915529003,\n  915529005,\n  866731001,\n  909370001,\n  751471001,\n  448509014,\n  714790020,\n  923758001,\n  762846027],\n 39254109767932830: [794191004,\n  792469012,\n  924243001,\n  924243002,\n  918522001,\n  915529003,\n  915529005,\n  866731001,\n  909370001,\n  751471001,\n  448509014,\n  714790020,\n  923758001,\n  762846027],\n 39273369041055054: [715624053,\n  860833002,\n  931282001,\n  904571001,\n  906296003,\n  916058002,\n  919499007,\n  914449001,\n  759814036,\n  924243001,\n  918522001,\n  924243002,\n  915529003,\n  915529005,\n  866731001,\n  909370001,\n  751471001,\n  448509014,\n  714790020,\n  923758001,\n  762846027],\n 39320543122417343: [717490071,\n  924243001,\n  924243002,\n  918522001,\n  915529003,\n  915529005,\n  866731001,\n  909370001,\n  751471001,\n  448509014,\n  714790020,\n  923758001,\n  762846027],\n 39327489825982715: [757971003,\n  278811011,\n  924243001,\n  924243002,\n  918522001,\n  915529003,\n  915529005,\n  866731001,\n  909370001,\n  751471001,\n  448509014,\n  714790020,\n  923758001,\n  762846027],\n 39329242348042967: [808699001,\n  924243002,\n  918522001,\n  924243001,\n  915529003,\n  915529005,\n  866731001,\n  909370001,\n  751471001,\n  448509014,\n  714790020,\n  923758001,\n  762846027],\n 39442496714476491: [781758001,\n  871517007,\n  924243001,\n  924243002,\n  918522001,\n  915529003,\n  915529005,\n  866731001,\n  909370001,\n  751471001,\n  448509014,\n  714790020,\n  923758001,\n  762846027],\n 39449877039124558: [839899002,\n  870958005,\n  765773004,\n  684209013,\n  833499009,\n  924243001,\n  924243002,\n  918522001,\n  915529003,\n  915529005,\n  866731001,\n  909370001,\n  751471001,\n  448509014,\n  714790020,\n  923758001,\n  762846027],\n 39539654494437348: [536139006,\n  841383003,\n  924243001,\n  924243002,\n  918522001,\n  915529003,\n  915529005,\n  866731001,\n  909370001,\n  751471001,\n  448509014,\n  714790020,\n  923758001,\n  762846027],\n 39650635870408770: [852833001,\n  924243001,\n  924243002,\n  918522001,\n  915529003,\n  915529005,\n  866731001,\n  909370001,\n  751471001,\n  448509014,\n  714790020,\n  923758001,\n  762846027],\n 39665556234843818: [878190003,\n  918292001,\n  868823008,\n  924243001,\n  924243002,\n  918522001,\n  915529003,\n  915529005,\n  866731001,\n  909370001,\n  751471001,\n  448509014,\n  714790020,\n  923758001,\n  762846027],\n 39681122214518847: [854602008,\n  891591003,\n  891591001,\n  891591007,\n  896343001,\n  896343002,\n  924243001,\n  924243002,\n  918522001,\n  915529003,\n  915529005,\n  866731001,\n  909370001,\n  751471001,\n  448509014,\n  714790020,\n  923758001,\n  762846027],\n 39687838329405255: [803969003,\n  887535001,\n  813803001,\n  924243001,\n  924243002,\n  918522001,\n  915529003,\n  915529005,\n  866731001,\n  909370001,\n  751471001,\n  448509014,\n  714790020,\n  923758001,\n  762846027],\n 39699864719730618: [516859008,\n  924243001,\n  924243002,\n  918522001,\n  915529003,\n  915529005,\n  866731001,\n  909370001,\n  751471001,\n  448509014,\n  714790020,\n  923758001,\n  762846027],\n 39703554858650166: [253448062,\n  649440055,\n  649440048,\n  585480001,\n  924243001,\n  924243002,\n  918522001,\n  915529003,\n  915529005,\n  866731001,\n  909370001,\n  751471001,\n  448509014,\n  714790020,\n  923758001,\n  762846027],\n 39736132079325105: [893352001,\n  906090004,\n  924243002,\n  918522001,\n  924243001,\n  915529003,\n  915529005,\n  866731001,\n  909370001,\n  751471001,\n  448509014,\n  714790020,\n  923758001,\n  762846027],\n 39752902924408848: [911950001,\n  924243001,\n  924243002,\n  918522001,\n  915529003,\n  915529005,\n  866731001,\n  909370001,\n  751471001,\n  448509014,\n  714790020,\n  923758001,\n  762846027],\n 39848833869417226: [841260015,\n  924243001,\n  924243002,\n  918522001,\n  915529003,\n  915529005,\n  866731001,\n  909370001,\n  751471001,\n  448509014,\n  714790020,\n  923758001,\n  762846027],\n 39872943306834208: [904584009,\n  714032018,\n  924243001,\n  924243002,\n  918522001,\n  915529003,\n  915529005,\n  866731001,\n  909370001,\n  751471001,\n  448509014,\n  714790020,\n  923758001,\n  762846027],\n 39883365705371487: [885951002,\n  834906018,\n  850259001,\n  924243001,\n  924243002,\n  918522001,\n  915529003,\n  915529005,\n  866731001,\n  909370001,\n  751471001,\n  448509014,\n  714790020,\n  923758001,\n  762846027],\n 39956292768890742: [904571001,\n  934793001,\n  911034001,\n  924243001,\n  924243002,\n  918522001,\n  915529003,\n  915529005,\n  866731001,\n  909370001,\n  751471001,\n  448509014,\n  714790020,\n  923758001,\n  762846027],\n 40128362074131450: [878013001,\n  814120001,\n  836364002,\n  772234001,\n  928915001,\n  924243001,\n  924243002,\n  918522001,\n  915529003,\n  915529005,\n  866731001,\n  909370001,\n  751471001,\n  448509014,\n  714790020,\n  923758001,\n  762846027],\n 40199627445842058: [863595006,\n  920752001,\n  924243001,\n  924243002,\n  918522001,\n  915529003,\n  915529005,\n  866731001,\n  909370001,\n  751471001,\n  448509014,\n  714790020,\n  923758001,\n  762846027],\n 40216890635208361: [664074039,\n  924243001,\n  924243002,\n  918522001,\n  915529003,\n  915529005,\n  866731001,\n  909370001,\n  751471001,\n  448509014,\n  714790020,\n  923758001,\n  762846027],\n 40404455166528987: [707269011,\n  856137001,\n  892309005,\n  879944004,\n  866660002,\n  924243001,\n  924243002,\n  918522001,\n  915529003,\n  915529005,\n  866731001,\n  909370001,\n  751471001,\n  448509014,\n  714790020,\n  923758001,\n  762846027],\n 40421981892249666: [893059005,\n  914805002,\n  573085043,\n  832307007,\n  746070007,\n  895610004,\n  924243001,\n  924243002,\n  918522001,\n  915529003,\n  915529005,\n  866731001,\n  909370001,\n  751471001,\n  448509014,\n  714790020,\n  923758001,\n  762846027],\n 40474571438843916: [685816066,\n  924243001,\n  924243002,\n  918522001,\n  915529003,\n  915529005,\n  866731001,\n  909370001,\n  751471001,\n  448509014,\n  714790020,\n  923758001,\n  762846027],\n 40565984276836893: [903473003,\n  914805002,\n  799365001,\n  924243001,\n  924243002,\n  918522001,\n  915529003,\n  915529005,\n  866731001,\n  909370001,\n  751471001,\n  448509014,\n  714790020,\n  923758001,\n  762846027],\n 40581741223560024: [872920001,\n  924243002,\n  918522001,\n  924243001,\n  915529003,\n  915529005,\n  866731001,\n  909370001,\n  751471001,\n  448509014,\n  714790020,\n  923758001,\n  762846027],\n 40697909613190395: [546406001,\n  888606001,\n  858460002,\n  924243001,\n  924243002,\n  918522001,\n  915529003,\n  915529005,\n  866731001,\n  909370001,\n  751471001,\n  448509014,\n  714790020,\n  923758001,\n  762846027],\n 40711647206407711: [856992001,\n  832482001,\n  865072005,\n  850251001,\n  816563003,\n  850259004,\n  887716001,\n  924243001,\n  924243002,\n  918522001,\n  915529003,\n  915529005,\n  866731001,\n  909370001,\n  751471001,\n  448509014,\n  714790020,\n  923758001,\n  762846027],\n 40750601803285690: [656763001,\n  556539010,\n  806529001,\n  726759002,\n  924243001,\n  924243002,\n  918522001,\n  915529003,\n  915529005,\n  866731001,\n  909370001,\n  751471001,\n  448509014,\n  714790020,\n  923758001,\n  762846027],\n 40758205222018144: [924243001,\n  924243002,\n  918522001,\n  915529003,\n  915529005,\n  866731001,\n  909370001,\n  751471001,\n  448509014,\n  714790020,\n  923758001,\n  762846027],\n 40795128197044572: [785034008,\n  924243001,\n  924243002,\n  918522001,\n  915529003,\n  915529005,\n  866731001,\n  909370001,\n  751471001,\n  448509014,\n  714790020,\n  923758001,\n  762846027],\n 40912854992831395: [810170013,\n  924243001,\n  924243002,\n  918522001,\n  915529003,\n  915529005,\n  866731001,\n  909370001,\n  751471001,\n  448509014,\n  714790020,\n  923758001,\n  762846027],\n 40933240657363805: [809798005,\n  924243001,\n  924243002,\n  918522001,\n  915529003,\n  915529005,\n  866731001,\n  909370001,\n  751471001,\n  448509014,\n  714790020,\n  923758001,\n  762846027],\n 40937419019362709: [868641002,\n  924243001,\n  924243002,\n  918522001,\n  915529003,\n  915529005,\n  866731001,\n  909370001,\n  751471001,\n  448509014,\n  714790020,\n  923758001,\n  762846027],\n 40947592920601659: [652956002,\n  856840004,\n  894788001,\n  924243001,\n  924243002,\n  918522001,\n  915529003,\n  915529005,\n  866731001,\n  909370001,\n  751471001,\n  448509014,\n  714790020,\n  923758001,\n  762846027],\n 40948391477961345: [844917003,\n  924926003,\n  907198001,\n  556560001,\n  730454060,\n  878016001,\n  873132004,\n  871669003,\n  924243001,\n  924243002,\n  918522001,\n  915529003,\n  915529005,\n  866731001,\n  909370001,\n  751471001,\n  448509014,\n  714790020,\n  923758001,\n  762846027],\n 40974998943828221: [762846028,\n  924243001,\n  924243002,\n  918522001,\n  915529003,\n  915529005,\n  866731001,\n  909370001,\n  751471001,\n  448509014,\n  714790020,\n  923758001,\n  762846027],\n 41033615362113703: [810419009,\n  559630027,\n  924243001,\n  924243002,\n  918522001,\n  915529003,\n  915529005,\n  866731001,\n  909370001,\n  751471001,\n  448509014,\n  714790020,\n  923758001,\n  762846027],\n 41042073789833539: [719530003,\n  924243001,\n  924243002,\n  918522001,\n  915529003,\n  915529005,\n  866731001,\n  909370001,\n  751471001,\n  448509014,\n  714790020,\n  923758001,\n  762846027],\n 41096312101690348: [852584001,\n  740519002,\n  852174001,\n  829882004,\n  924243001,\n  924243002,\n  918522001,\n  915529003,\n  915529005,\n  866731001,\n  909370001,\n  751471001,\n  448509014,\n  714790020,\n  923758001,\n  762846027],\n 41097706783637420: [554598081,\n  924243001,\n  924243002,\n  918522001,\n  915529003,\n  915529005,\n  866731001,\n  909370001,\n  751471001,\n  448509014,\n  714790020,\n  923758001,\n  762846027],\n 41127158081579316: [906449003,\n  554598001,\n  878293001,\n  871520001,\n  610776071,\n  924243001,\n  924243002,\n  918522001,\n  915529003,\n  915529005,\n  866731001,\n  909370001,\n  751471001,\n  448509014,\n  714790020,\n  923758001,\n  762846027],\n 41179159575584694: [795549001,\n  877773001,\n  821336002,\n  924243001,\n  924243002,\n  918522001,\n  915529003,\n  915529005,\n  866731001,\n  909370001,\n  751471001,\n  448509014,\n  714790020,\n  923758001,\n  762846027],\n 41347658963801007: [559616002,\n  924243001,\n  924243002,\n  918522001,\n  915529003,\n  915529005,\n  866731001,\n  909370001,\n  751471001,\n  448509014,\n  714790020,\n  923758001,\n  762846027],\n 41374370995894424: [882336002,\n  882337002,\n  924243001,\n  924243002,\n  918522001,\n  915529003,\n  915529005,\n  866731001,\n  909370001,\n  751471001,\n  448509014,\n  714790020,\n  923758001,\n  762846027],\n 41404598135801854: [488561021,\n  885951001,\n  685601024,\n  924243001,\n  924243002,\n  918522001,\n  915529003,\n  915529005,\n  866731001,\n  909370001,\n  751471001,\n  448509014,\n  714790020,\n  923758001,\n  762846027],\n 41466614851842836: [610776068,\n  554598003,\n  850241005,\n  610776093,\n  554598066,\n  554598083,\n  924243002,\n  918522001,\n  924243001,\n  915529003,\n  915529005,\n  866731001,\n  909370001,\n  751471001,\n  448509014,\n  714790020,\n  923758001,\n  762846027],\n 41503338783952393: [853384001,\n  924243001,\n  924243002,\n  918522001,\n  915529003,\n  915529005,\n  866731001,\n  909370001,\n  751471001,\n  448509014,\n  714790020,\n  923758001,\n  762846027],\n 41565697778336400: [598755002,\n  570002002,\n  924243001,\n  924243002,\n  918522001,\n  915529003,\n  915529005,\n  866731001,\n  909370001,\n  751471001,\n  448509014,\n  714790020,\n  923758001,\n  762846027],\n 41725631287061591: [924250001,\n  918516001,\n  896161002,\n  890511003,\n  924243002,\n  918522001,\n  924243001,\n  915529003,\n  915529005,\n  866731001,\n  909370001,\n  751471001,\n  448509014,\n  714790020,\n  923758001,\n  762846027],\n 41816024948958967: [864297004,\n  805947006,\n  818754004,\n  924243001,\n  924243002,\n  918522001,\n  915529003,\n  915529005,\n  866731001,\n  909370001,\n  751471001,\n  448509014,\n  714790020,\n  923758001,\n  762846027],\n 41864707983752759: [911410001,\n  452618001,\n  748355002,\n  734435005,\n  763842008,\n  816597009,\n  610776087,\n  924243001,\n  924243002,\n  918522001,\n  915529003,\n  915529005,\n  866731001,\n  909370001,\n  751471001,\n  448509014,\n  714790020,\n  923758001,\n  762846027],\n 41898938961861162: [351484002,\n  631744004,\n  823436002,\n  924243001,\n  924243002,\n  918522001,\n  915529003,\n  915529005,\n  866731001,\n  909370001,\n  751471001,\n  448509014,\n  714790020,\n  923758001,\n  762846027],\n 41899472490171840: [898918002,\n  842605006,\n  842606003,\n  924243001,\n  924243002,\n  918522001,\n  915529003,\n  915529005,\n  866731001,\n  909370001,\n  751471001,\n  448509014,\n  714790020,\n  923758001,\n  762846027],\n 41992671974286785: [901983001,\n  685813043,\n  886569005,\n  876125001,\n  889621001,\n  924243001,\n  924243002,\n  918522001,\n  915529003,\n  915529005,\n  866731001,\n  909370001,\n  751471001,\n  448509014,\n  714790020,\n  923758001,\n  762846027],\n 42101702833688686: [803468002,\n  729928001,\n  924243001,\n  924243002,\n  918522001,\n  915529003,\n  915529005,\n  866731001,\n  909370001,\n  751471001,\n  448509014,\n  714790020,\n  923758001,\n  762846027],\n 42198839471271439: [608069011,\n  561307036,\n  679709040,\n  628425001,\n  924243001,\n  924243002,\n  918522001,\n  915529003,\n  915529005,\n  866731001,\n  909370001,\n  751471001,\n  448509014,\n  714790020,\n  923758001,\n  762846027],\n 42207956724216205: [801068003,\n  924243001,\n  924243002,\n  918522001,\n  915529003,\n  915529005,\n  866731001,\n  909370001,\n  751471001,\n  448509014,\n  714790020,\n  923758001,\n  762846027],\n 42210338104082605: [860819001,\n  860820001,\n  924243001,\n  924243002,\n  918522001,\n  915529003,\n  915529005,\n  866731001,\n  909370001,\n  751471001,\n  448509014,\n  714790020,\n  923758001,\n  762846027],\n 42301021134856102: [868641002,\n  857778011,\n  751664001,\n  796210012,\n  874816003,\n  796210001,\n  909081002,\n  912309001,\n  909081003,\n  924243001,\n  924243002,\n  918522001,\n  915529003,\n  915529005,\n  866731001,\n  909370001,\n  751471001,\n  448509014,\n  714790020,\n  923758001,\n  762846027],\n 42393158343041002: [720125041,\n  841298001,\n  562245018,\n  888028001,\n  818391002,\n  924243001,\n  924243002,\n  918522001,\n  915529003,\n  915529005,\n  751471001,\n  866731001,\n  909370001,\n  448509014,\n  714790020,\n  923758001,\n  762846027],\n 42442319221652587: [791587001,\n  829308001,\n  852174001,\n  854043001,\n  854043005,\n  854043006,\n  924243001,\n  924243002,\n  918522001,\n  915529003,\n  915529005,\n  866731001,\n  909370001,\n  751471001,\n  448509014,\n  714790020,\n  923758001,\n  762846027],\n 42510627325207196: [901924004,\n  924243001,\n  924243002,\n  918522001,\n  915529003,\n  915529005,\n  866731001,\n  909370001,\n  751471001,\n  448509014,\n  714790020,\n  923758001,\n  762846027],\n 42518724531228943: [896169002,\n  918835001,\n  923340002,\n  929275001,\n  918836001,\n  928723001,\n  924243002,\n  918522001,\n  924243001,\n  915529003,\n  915529005,\n  909370001,\n  866731001,\n  751471001,\n  448509014,\n  714790020,\n  923758001,\n  762846027],\n 42572346582279538: [910568002,\n  250099001,\n  525979001,\n  764919001,\n  754792003,\n  843940001,\n  807747002,\n  924243001,\n  924243002,\n  918522001,\n  915529003,\n  915529005,\n  866731001,\n  909370001,\n  751471001,\n  448509014,\n  714790020,\n  923758001,\n  762846027],\n 42590836772269170: [900388001,\n  829618005,\n  924243001,\n  924243002,\n  918522001,\n  915529003,\n  915529005,\n  866731001,\n  909370001,\n  751471001,\n  448509014,\n  714790020,\n  923758001,\n  762846027],\n 42603376057564527: [862483001,\n  885624002,\n  883033002,\n  874035010,\n  599580055,\n  844160002,\n  924243001,\n  924243002,\n  918522001,\n  915529003,\n  915529005,\n  866731001,\n  909370001,\n  751471001,\n  448509014,\n  714790020,\n  923758001,\n  762846027],\n 42607389388893103: [899247005,\n  921090003,\n  875350002,\n  855816004,\n  924243001,\n  924243002,\n  918522001,\n  915529003,\n  915529005,\n  866731001,\n  909370001,\n  751471001,\n  448509014,\n  714790020,\n  923758001,\n  762846027],\n 42610653102618094: [873884006,\n  924243001,\n  924243002,\n  918522001,\n  915529003,\n  915529005,\n  866731001,\n  909370001,\n  751471001,\n  448509014,\n  714790020,\n  923758001,\n  762846027],\n 42749232500759790: [892558001,\n  723469018,\n  871638002,\n  924243001,\n  924243002,\n  918522001,\n  915529003,\n  915529005,\n  866731001,\n  909370001,\n  751471001,\n  448509014,\n  714790020,\n  923758001,\n  762846027],\n 42764354766133714: [674606049,\n  674606057,\n  924243001,\n  924243002,\n  918522001,\n  915529003,\n  915529005,\n  866731001,\n  909370001,\n  751471001,\n  448509014,\n  714790020,\n  923758001,\n  762846027],\n 42778788916767961: [855080010,\n  557994003,\n  599719001,\n  736923003,\n  755467003,\n  253448003,\n  557994015,\n  873564003,\n  832284001,\n  824337001,\n  697564045,\n  697564042,\n  924243001,\n  924243002,\n  918522001,\n  915529003,\n  915529005,\n  866731001,\n  909370001,\n  751471001,\n  448509014,\n  714790020,\n  923758001,\n  762846027],\n 42810622802254729: [832520001,\n  781135008,\n  470789030,\n  832465008,\n  924243001,\n  924243002,\n  918522001,\n  915529003,\n  915529005,\n  866731001,\n  909370001,\n  751471001,\n  448509014,\n  714790020,\n  923758001,\n  762846027],\n 42868487424836263: [905945001,\n  865929003,\n  924243001,\n  924243002,\n  918522001,\n  915529003,\n  915529005,\n  866731001,\n  909370001,\n  751471001,\n  448509014,\n  714790020,\n  923758001,\n  762846027],\n 42872089953753496: [547780003,\n  884405006,\n  816423004,\n  924243001,\n  924243002,\n  918522001,\n  915529003,\n  915529005,\n  866731001,\n  909370001,\n  751471001,\n  448509014,\n  714790020,\n  923758001,\n  762846027],\n 42878316430623896: [875073002,\n  882810003,\n  866657002,\n  924243002,\n  918522001,\n  924243001,\n  915529003,\n  915529005,\n  866731001,\n  909370001,\n  751471001,\n  448509014,\n  714790020,\n  923758001,\n  762846027],\n 42910407533866495: [771693001,\n  912100001,\n  786336005,\n  924243001,\n  924243002,\n  918522001,\n  915529003,\n  915529005,\n  866731001,\n  909370001,\n  751471001,\n  448509014,\n  714790020,\n  923758001,\n  762846027],\n 42942643248675808: [827968001,\n  880575001,\n  924243001,\n  924243002,\n  918522001,\n  915529003,\n  915529005,\n  866731001,\n  909370001,\n  751471001,\n  448509014,\n  714790020,\n  923758001,\n  762846027],\n 42984229297455520: [919786002,\n  806388012,\n  685816059,\n  924243001,\n  924243002,\n  918522001,\n  915529003,\n  915529005,\n  866731001,\n  909370001,\n  751471001,\n  448509014,\n  714790020,\n  923758001,\n  762846027],\n ...}"
     },
     "execution_count": 222,
     "metadata": {},
     "output_type": "execute_result"
    }
   ],
   "source": [
    "c_id2predicted_article_ids"
   ],
   "metadata": {
    "collapsed": false,
    "ExecuteTime": {
     "end_time": "2023-10-10T21:54:16.322821Z",
     "start_time": "2023-10-10T21:54:16.232214Z"
    }
   },
   "id": "8d28bc88e110ab1"
  },
  {
   "cell_type": "code",
   "execution_count": 223,
   "id": "a35ac969",
   "metadata": {
    "execution": {
     "iopub.execute_input": "2022-04-16T17:00:59.683014Z",
     "iopub.status.busy": "2022-04-16T17:00:59.682737Z",
     "iopub.status.idle": "2022-04-16T17:01:06.006472Z",
     "shell.execute_reply": "2022-04-16T17:01:06.005532Z"
    },
    "papermill": {
     "duration": 6.421346,
     "end_time": "2022-04-16T17:01:06.009173",
     "exception": false,
     "start_time": "2022-04-16T17:00:59.587827",
     "status": "completed"
    },
    "tags": [],
    "ExecuteTime": {
     "end_time": "2023-10-10T21:54:20.012530900Z",
     "start_time": "2023-10-10T21:54:16.313308700Z"
    }
   },
   "outputs": [
    {
     "name": "stdout",
     "output_type": "stream",
     "text": [
      "CPU times: total: 3.59 s\n",
      "Wall time: 3.68 s\n"
     ]
    }
   ],
   "source": [
    "%%time\n",
    "preds = []\n",
    "for c_id in customer_hex_id_to_int(sub.customer_id):\n",
    "    pred = c_id2predicted_article_ids.get(c_id, [])\n",
    "    pred = pred + bestsellers_last_week\n",
    "    preds.append(pred[:12])"
   ]
  },
  {
   "cell_type": "code",
   "execution_count": 224,
   "id": "3f8f9304",
   "metadata": {
    "execution": {
     "iopub.execute_input": "2022-04-16T17:01:06.132150Z",
     "iopub.status.busy": "2022-04-16T17:01:06.131106Z",
     "iopub.status.idle": "2022-04-16T17:01:12.969816Z",
     "shell.execute_reply": "2022-04-16T17:01:12.969035Z"
    },
    "papermill": {
     "duration": 6.90116,
     "end_time": "2022-04-16T17:01:12.972216",
     "exception": false,
     "start_time": "2022-04-16T17:01:06.071056",
     "status": "completed"
    },
    "tags": [],
    "ExecuteTime": {
     "end_time": "2023-10-10T21:54:23.936117800Z",
     "start_time": "2023-10-10T21:54:20.017045400Z"
    }
   },
   "outputs": [],
   "source": [
    "preds = [' '.join(['0' + str(p) for p in ps]) for ps in preds]\n",
    "sub.prediction = preds"
   ]
  },
  {
   "cell_type": "code",
   "execution_count": 225,
   "outputs": [
    {
     "data": {
      "text/plain": "                                               customer_id  \\\n0        00000dbacae5abe5e23885899a1fa44253a17956c6d1c3...   \n1        0000423b00ade91418cceaf3b26c6af3dd342b51fd051e...   \n2        000058a12d5b43e67d225668fa1f8d618c13dc232df0ca...   \n3        00005ca1c9ed5f5146b52ac8639a40ca9d57aeff4d1bd2...   \n4        00006413d8573cd20ed7128e53b7b13819fe5cfc2d801f...   \n...                                                    ...   \n1371975  ffffbbf78b6eaac697a8a5dfbfd2bfa8113ee5b403e474...   \n1371976  ffffcd5046a6143d29a04fb8c424ce494a76e5cdf4fab5...   \n1371977  ffffcf35913a0bee60e8741cb2b4e78b8a98ee5ff2e6a1...   \n1371978  ffffd7744cebcf3aca44ae7049d2a94b87074c3d4ffe38...   \n1371979  ffffd9ac14e89946416d80e791d064701994755c3ab686...   \n\n                                                prediction  \n0        0568601043 0924243001 0924243002 0918522001 09...  \n1        0924243001 0924243002 0918522001 0923758001 08...  \n2        0794321007 0924243001 0924243002 0918522001 09...  \n3        0924243001 0924243002 0918522001 0923758001 08...  \n4        0927530004 0730683050 0791587015 0896152002 09...  \n...                                                    ...  \n1371975  0713997002 0720125039 0557599022 0740922009 07...  \n1371976  0762846031 0924243001 0924243002 0918522001 09...  \n1371977  0924243001 0924243002 0918522001 0915529003 09...  \n1371978  0924243001 0924243002 0918522001 0923758001 08...  \n1371979  0924243001 0924243002 0918522001 0923758001 08...  \n\n[1371980 rows x 2 columns]",
      "text/html": "<div>\n<style scoped>\n    .dataframe tbody tr th:only-of-type {\n        vertical-align: middle;\n    }\n\n    .dataframe tbody tr th {\n        vertical-align: top;\n    }\n\n    .dataframe thead th {\n        text-align: right;\n    }\n</style>\n<table border=\"1\" class=\"dataframe\">\n  <thead>\n    <tr style=\"text-align: right;\">\n      <th></th>\n      <th>customer_id</th>\n      <th>prediction</th>\n    </tr>\n  </thead>\n  <tbody>\n    <tr>\n      <th>0</th>\n      <td>00000dbacae5abe5e23885899a1fa44253a17956c6d1c3...</td>\n      <td>0568601043 0924243001 0924243002 0918522001 09...</td>\n    </tr>\n    <tr>\n      <th>1</th>\n      <td>0000423b00ade91418cceaf3b26c6af3dd342b51fd051e...</td>\n      <td>0924243001 0924243002 0918522001 0923758001 08...</td>\n    </tr>\n    <tr>\n      <th>2</th>\n      <td>000058a12d5b43e67d225668fa1f8d618c13dc232df0ca...</td>\n      <td>0794321007 0924243001 0924243002 0918522001 09...</td>\n    </tr>\n    <tr>\n      <th>3</th>\n      <td>00005ca1c9ed5f5146b52ac8639a40ca9d57aeff4d1bd2...</td>\n      <td>0924243001 0924243002 0918522001 0923758001 08...</td>\n    </tr>\n    <tr>\n      <th>4</th>\n      <td>00006413d8573cd20ed7128e53b7b13819fe5cfc2d801f...</td>\n      <td>0927530004 0730683050 0791587015 0896152002 09...</td>\n    </tr>\n    <tr>\n      <th>...</th>\n      <td>...</td>\n      <td>...</td>\n    </tr>\n    <tr>\n      <th>1371975</th>\n      <td>ffffbbf78b6eaac697a8a5dfbfd2bfa8113ee5b403e474...</td>\n      <td>0713997002 0720125039 0557599022 0740922009 07...</td>\n    </tr>\n    <tr>\n      <th>1371976</th>\n      <td>ffffcd5046a6143d29a04fb8c424ce494a76e5cdf4fab5...</td>\n      <td>0762846031 0924243001 0924243002 0918522001 09...</td>\n    </tr>\n    <tr>\n      <th>1371977</th>\n      <td>ffffcf35913a0bee60e8741cb2b4e78b8a98ee5ff2e6a1...</td>\n      <td>0924243001 0924243002 0918522001 0915529003 09...</td>\n    </tr>\n    <tr>\n      <th>1371978</th>\n      <td>ffffd7744cebcf3aca44ae7049d2a94b87074c3d4ffe38...</td>\n      <td>0924243001 0924243002 0918522001 0923758001 08...</td>\n    </tr>\n    <tr>\n      <th>1371979</th>\n      <td>ffffd9ac14e89946416d80e791d064701994755c3ab686...</td>\n      <td>0924243001 0924243002 0918522001 0923758001 08...</td>\n    </tr>\n  </tbody>\n</table>\n<p>1371980 rows × 2 columns</p>\n</div>"
     },
     "execution_count": 225,
     "metadata": {},
     "output_type": "execute_result"
    }
   ],
   "source": [
    "sub"
   ],
   "metadata": {
    "collapsed": false,
    "ExecuteTime": {
     "end_time": "2023-10-10T21:54:23.954260700Z",
     "start_time": "2023-10-10T21:54:23.937116500Z"
    }
   },
   "id": "c388cd790b188320"
  },
  {
   "cell_type": "code",
   "execution_count": 226,
   "id": "62d8338d",
   "metadata": {
    "execution": {
     "iopub.execute_input": "2022-04-16T17:01:13.146516Z",
     "iopub.status.busy": "2022-04-16T17:01:13.145811Z",
     "iopub.status.idle": "2022-04-16T17:01:34.943291Z",
     "shell.execute_reply": "2022-04-16T17:01:34.942187Z"
    },
    "papermill": {
     "duration": 21.887955,
     "end_time": "2022-04-16T17:01:34.946089",
     "exception": false,
     "start_time": "2022-04-16T17:01:13.058134",
     "status": "completed"
    },
    "tags": [],
    "ExecuteTime": {
     "end_time": "2023-10-10T21:54:37.808801100Z",
     "start_time": "2023-10-10T21:54:23.955260500Z"
    }
   },
   "outputs": [],
   "source": [
    "sub_name = 'basic_model_submission'\n",
    "sub.to_csv(f'{sub_name}.csv.gz', index=False)"
   ]
  }
 ],
 "metadata": {
  "kernelspec": {
   "display_name": "Python 3",
   "language": "python",
   "name": "python3"
  },
  "language_info": {
   "codemirror_mode": {
    "name": "ipython",
    "version": 3
   },
   "file_extension": ".py",
   "mimetype": "text/x-python",
   "name": "python",
   "nbconvert_exporter": "python",
   "pygments_lexer": "ipython3",
   "version": "3.7.12"
  },
  "papermill": {
   "default_parameters": {},
   "duration": 185.112876,
   "end_time": "2022-04-16T17:01:37.553573",
   "environment_variables": {},
   "exception": null,
   "input_path": "__notebook__.ipynb",
   "output_path": "__notebook__.ipynb",
   "parameters": {},
   "start_time": "2022-04-16T16:58:32.440697",
   "version": "2.3.4"
  }
 },
 "nbformat": 4,
 "nbformat_minor": 5
}
