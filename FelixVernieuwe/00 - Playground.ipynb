{
 "cells": [
  {
   "cell_type": "markdown",
   "id": "2ceba5aed859aa4a",
   "metadata": {},
   "source": [
    "# Convert csv to parquet"
   ]
  },
  {
   "cell_type": "code",
   "execution_count": 223,
   "id": "d276fa39a705a0f",
   "metadata": {
    "ExecuteTime": {
     "end_time": "2023-10-11T01:22:57.798255200Z",
     "start_time": "2023-10-11T01:22:57.760254200Z"
    }
   },
   "outputs": [],
   "source": [
    "from util import *"
   ]
  },
  {
   "cell_type": "code",
   "execution_count": 224,
   "id": "6384547f1797c1bb",
   "metadata": {
    "ExecuteTime": {
     "end_time": "2023-10-11T01:22:57.821255700Z",
     "start_time": "2023-10-11T01:22:57.775253700Z"
    }
   },
   "outputs": [],
   "source": [
    "# Convert all csv files to parquet or vice versa\n",
    "# files = os.listdir('../data')\n",
    "# for file in files:\n",
    "#     if not 'trans' in file: continue\n",
    "#     \n",
    "#     if file.endswith('.csv'):\n",
    "#         convert_csv_to_parquet('../data/' + file)\n",
    "#     elif file.endswith('.parquet'):\n",
    "#         convert_parquet_to_csv('../data/' + file)"
   ]
  },
  {
   "cell_type": "markdown",
   "id": "82bb30c2551c0c5b",
   "metadata": {},
   "source": []
  }
 ],
 "metadata": {
  "kernelspec": {
   "display_name": "Python 3 (ipykernel)",
   "language": "python",
   "name": "python3"
  },
  "language_info": {
   "codemirror_mode": {
    "name": "ipython",
    "version": 3
   },
   "file_extension": ".py",
   "mimetype": "text/x-python",
   "name": "python",
   "nbconvert_exporter": "python",
   "pygments_lexer": "ipython3",
   "version": "3.9.12"
  }
 },
 "nbformat": 4,
 "nbformat_minor": 5
}
