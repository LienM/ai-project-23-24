{
 "cells": [
  {
   "cell_type": "markdown",
   "source": [
    "# Assignments by Felix Vernieuwe"
   ],
   "metadata": {
    "collapsed": false
   },
   "id": "df4e549c1bebb94d"
  },
  {
   "cell_type": "markdown",
   "source": [
    "---\n",
    "---\n",
    "\n",
    "## Assignment 3: Research Question 1\n",
    "#### **QUESTION:** *Quantify the importance of global, contextual and personalised candidates in evaluation and output score*\n",
    "\n",
    "---\n",
    "---"
   ],
   "metadata": {
    "collapsed": false
   },
   "id": "e51aea5d4059b432"
  },
  {
   "cell_type": "markdown",
   "source": [
    "**Pratical note:** this notebook reworks the Radek LGBM baseline to better compartmentalize candidate and feature generation, building upon the work of 02 - FE, and further inspired by Noah's template "
   ],
   "metadata": {
    "collapsed": false
   },
   "id": "e20da666a0ef1117"
  },
  {
   "cell_type": "code",
   "execution_count": 30,
   "outputs": [
    {
     "name": "stdout",
     "output_type": "stream",
     "text": [
      "The autoreload extension is already loaded. To reload it, use:\n",
      "  %reload_ext autoreload\n"
     ]
    }
   ],
   "source": [
    "import pandas as pd\n",
    "import numpy as np\n",
    "import seaborn as sns\n",
    "from tqdm.notebook import tqdm\n",
    "from lightgbm.sklearn import LGBMRanker\n",
    "\n",
    "import os\n",
    "import pathlib\n",
    "import json\n",
    "\n",
    "from FelixVernieuwe.util import *\n",
    "from scorers import mean_average_precision\n",
    "\n",
    "%load_ext autoreload\n",
    "%autoreload 2\n",
    "\n",
    "setup_seaborn()"
   ],
   "metadata": {
    "collapsed": false,
    "ExecuteTime": {
     "end_time": "2023-12-22T14:16:09.339222800Z",
     "start_time": "2023-12-22T14:16:08.906206300Z"
    }
   },
   "id": "45b18b37211c1233"
  },
  {
   "cell_type": "markdown",
   "source": [
    "<br><br><br><br><br><br>\n",
    "\n",
    "\n",
    "---\n",
    "## Run Configuration (SET YOUR VARIABLES HERE)\n",
    "---"
   ],
   "metadata": {
    "collapsed": false
   },
   "id": "66dde355376aa996"
  },
  {
   "cell_type": "code",
   "execution_count": 31,
   "outputs": [],
   "source": [
    "# Reference week (i.e. the last week of our training data, any week after this can be considered part of the test set)\n",
    "# In the current training set, the last week is 104, if we take this as reference, we will try to make predictions for week 105\n",
    "\n",
    "\n",
    "# Iff AMOUNT_OF_TEST_WEEKS > 0, then the model will be tested on itself (and evaluated with MAP), instead of the Kaggle score\n",
    "AMOUNT_OF_TEST_WEEKS = 0\n",
    "\n",
    "# How many weeks to train on\n",
    "TRAINING_INTERVAL = 3\n",
    "\n",
    "#Output additional graphs and information\n",
    "VERBOSE = True"
   ],
   "metadata": {
    "collapsed": false,
    "ExecuteTime": {
     "end_time": "2023-12-22T14:16:09.397738900Z",
     "start_time": "2023-12-22T14:16:09.328219Z"
    }
   },
   "id": "de07944033842a1d"
  },
  {
   "cell_type": "code",
   "execution_count": 32,
   "outputs": [],
   "source": [
    "# Features to ignore (exclude from training and evaluation)\n",
    "FILTER_BASE_FEATURES = [\n",
    "    \n",
    "]\n",
    "\n",
    "ADDED_FEATURES = [\n",
    "    'bestseller_rank',\n",
    "    # 'has_promotion',\n",
    "    # 'all_time_rank', \n",
    "    # 'price_sensitivity'\n",
    "]\n",
    "\n",
    "# Candidates to add\n",
    "TRAIN_INTERVAL_CANDIDATES = [\n",
    "    \"weekly_bestsellers\",\n",
    "    \"previous_purchases\",\n",
    "    # \"new_arrivals\",\n",
    "    # \"all_time_bestsellers\",\n",
    "]\n",
    "\n",
    "REFERENCE_WEEK_CANDIDATES = [\n",
    "    \"weekly_bestsellers\",\n",
    "    \"previous_purchases\",\n",
    "    # \"new_arrivals\",\n",
    "    # \"all_time_bestsellers\",\n",
    "]\n",
    "\n",
    "\n",
    "SUBMISSION_PREFIX = \"score_experiments\"\n",
    "CUSTOM_DESC = \"Feature baseline\""
   ],
   "metadata": {
    "collapsed": false,
    "ExecuteTime": {
     "end_time": "2023-12-22T14:16:09.453898800Z",
     "start_time": "2023-12-22T14:16:09.372742700Z"
    }
   },
   "id": "256b4d1134b19656"
  },
  {
   "cell_type": "code",
   "execution_count": 33,
   "outputs": [
    {
     "name": "stdout",
     "output_type": "stream",
     "text": [
      "None\n"
     ]
    }
   ],
   "source": [
    "# Environment variables\n",
    "DATA_PATH = \"../../data/\"\n",
    "OUTPUT_PATH = \"../../data/submissions/\"\n",
    "\n",
    "# Get OS profile root to get path to /.kaggle/kaggle.json\n",
    "PROFILE_ROOT = os.environ.get(\"HOME\", os.environ.get(\"USERPROFILE\", \"\"))\n",
    "KAGGLE_PATH = pathlib.Path(PROFILE_ROOT, \".kaggle/kaggle.json\").as_posix()\n",
    "print(initialise_kaggle(KAGGLE_PATH))"
   ],
   "metadata": {
    "collapsed": false,
    "ExecuteTime": {
     "end_time": "2023-12-22T14:16:09.537623600Z",
     "start_time": "2023-12-22T14:16:09.415900200Z"
    }
   },
   "id": "c01f1d2c60e46b7f"
  },
  {
   "cell_type": "markdown",
   "source": [
    "<br><br><br><br><br><br>\n",
    "\n",
    "\n",
    "---\n",
    "## Environment Setup\n",
    "---"
   ],
   "metadata": {
    "collapsed": false
   },
   "id": "913c28cf791b0a15"
  },
  {
   "cell_type": "code",
   "execution_count": 34,
   "outputs": [],
   "source": [
    "# Load in the datasets\n",
    "articles = pd.read_parquet(DATA_PATH + \"articles.parquet\")\n",
    "all_transactions = pd.read_parquet(DATA_PATH + \"transactions_train.parquet\")\n",
    "customers = pd.read_parquet(DATA_PATH + \"customers.parquet\")\n",
    "\n",
    "\n",
    "# Calculate the reference week\n",
    "REFERENCE_WEEK = all_transactions[\"week\"].max() - AMOUNT_OF_TEST_WEEKS + 1"
   ],
   "metadata": {
    "collapsed": false,
    "ExecuteTime": {
     "end_time": "2023-12-22T14:16:10.886090600Z",
     "start_time": "2023-12-22T14:16:09.470623900Z"
    }
   },
   "id": "78cac5a9667e39b5"
  },
  {
   "cell_type": "code",
   "execution_count": 35,
   "outputs": [],
   "source": [
    "# Features to train on\n",
    "all_base_features = [\n",
    "    'article_id', 'product_type_no', 'graphical_appearance_no', 'colour_group_code', 'perceived_colour_value_id',\n",
    "    'perceived_colour_master_id', 'department_no', 'index_code',\n",
    "    'index_group_no', 'section_no', 'garment_group_no', 'FN', 'Active',\n",
    "    'club_member_status', 'fashion_news_frequency', 'age', 'postal_code',    \n",
    "]\n",
    "\n",
    "# Custom features that were engineered\n",
    "all_added_features = [\n",
    "    'has_promotion', 'bestseller_rank', 'all_time_rank', 'price_sensitivity'\n",
    "]\n",
    "\n",
    "\n",
    "all_features = [feature for feature in all_base_features + ADDED_FEATURES if feature not in FILTER_BASE_FEATURES]\n",
    "\n",
    "\n",
    "def join_all_features(transactions, articles, customers):\n",
    "    # Join all features together\n",
    "    transactions = transactions.merge(articles, on=\"article_id\", how=\"left\")\n",
    "    transactions = transactions.merge(customers, on=\"customer_id\", how=\"left\")\n",
    "    \n",
    "    return transactions\n",
    "\n",
    "\n",
    "def filter_feature_data(data):\n",
    "    # Train only on available features in the data, and specified features above \n",
    "    available_features = [feature for feature in all_features if feature in data.columns]\n",
    "    \n",
    "    return data[available_features], available_features\n",
    "\n",
    "\n",
    "def clean_up_transaction_data(data):\n",
    "    # Clean up incoming data\n",
    "    data.drop_duplicates(['customer_id', 'article_id', 'week'], inplace=True)\n",
    "    data.sort_values(['week', 'customer_id'], inplace=True)\n",
    "    data.reset_index(drop=True, inplace=True)\n",
    "    \n",
    "    if \"bought\" not in data:\n",
    "        data[\"bought\"] = 1\n",
    "        \n",
    "    return data"
   ],
   "metadata": {
    "collapsed": false,
    "ExecuteTime": {
     "end_time": "2023-12-22T14:16:10.953650300Z",
     "start_time": "2023-12-22T14:16:10.887089300Z"
    }
   },
   "id": "863f556c93f6fd66"
  },
  {
   "cell_type": "code",
   "execution_count": 36,
   "outputs": [],
   "source": [
    "# Short feature/candidates description\n",
    "feature_notation = {\n",
    "    # Base features\n",
    "    \"article_id\": \"aid\",\n",
    "    \"product_type_no\": \"ptn\",\n",
    "    \"graphical_appearance_no\": \"gan\",\n",
    "    \"colour_group_code\": \"cgc\",\n",
    "    \"perceived_colour_value_id\": \"pcv\",\n",
    "    \"perceived_colour_master_id\": \"pcm\",\n",
    "    \"department_no\": \"dn\",\n",
    "    \"index_code\": \"ic\",\n",
    "    \"index_group_no\": \"ign\",\n",
    "    \"section_no\": \"sn\",\n",
    "    \"garment_group_no\": \"ggn\",\n",
    "    \"FN\": \"fn\",\n",
    "    \"Active\": \"a\",\n",
    "    \"club_member_status\": \"cms\",\n",
    "    \"fashion_news_frequency\": \"fnf\",\n",
    "    \"age\": \"a\",\n",
    "    \"postal_code\": \"pc\",\n",
    "    \n",
    "    # Custom features\n",
    "    \"has_promotion\": \"hp\",\n",
    "    \"bestseller_rank\": \"br\",\n",
    "    \"all_time_rank\": \"atr\",\n",
    "    \"price_sensitivity\": \"ps\",\n",
    "    \"bought\": \"b\",\n",
    "}\n",
    "\n",
    "candidate_notation = {\n",
    "    \"weekly_bestsellers\": \"wb\",\n",
    "    \"previous_purchases\": \"pp\",\n",
    "    \"new_arrivals\": \"na\",\n",
    "    \"all_time_bestsellers\": \"atb\",\n",
    "}\n",
    "\n",
    "\n",
    "# Output generation\n",
    "SUBMISSION_NUMBER = max([int(file[len(SUBMISSION_PREFIX) + 1:file.find(\"_\", len(SUBMISSION_PREFIX) + 1)]) for file in os.listdir(OUTPUT_PATH) if file.startswith(SUBMISSION_PREFIX)], default=0) + 1\n",
    "\n",
    "REMOVED_BASE_FEATURES = \",\".join([\"-\" + feature_notation[feature] for feature in FILTER_BASE_FEATURES])\n",
    "LIST_ADDED_FEATURES = \",\".join([feature_notation[feature] for feature in ADDED_FEATURES])\n",
    "LIST_TRAIN_CANDIDATES = \",\".join([candidate_notation[candidate] for candidate in TRAIN_INTERVAL_CANDIDATES])\n",
    "LIST_REF_WEEK_CANDIDATES = \",\".join([candidate_notation[candidate] for candidate in REFERENCE_WEEK_CANDIDATES])\n",
    "\n",
    "if REMOVED_BASE_FEATURES != \"\":\n",
    "    REMOVED_BASE_FEATURES = f\"[r_{REMOVED_BASE_FEATURES}]_\"\n",
    "if LIST_ADDED_FEATURES != \"\":\n",
    "    LIST_ADDED_FEATURES = f\"[a_{LIST_ADDED_FEATURES}]_\"\n",
    "if LIST_TRAIN_CANDIDATES != \"\":\n",
    "    LIST_TRAIN_CANDIDATES = f\"[tc_{LIST_TRAIN_CANDIDATES}]\"\n",
    "if LIST_REF_WEEK_CANDIDATES != \"\":\n",
    "    LIST_REF_WEEK_CANDIDATES = f\"[rwc_{LIST_REF_WEEK_CANDIDATES}]\"\n",
    "\n",
    "SUBMISSION_METADATA = f\"[t_{TRAINING_INTERVAL},w_{REFERENCE_WEEK}]_{REMOVED_BASE_FEATURES}{LIST_ADDED_FEATURES}{LIST_TRAIN_CANDIDATES}{LIST_REF_WEEK_CANDIDATES}\"\n",
    "\n",
    "\n",
    "SUBMISSION_NAME = f\"{SUBMISSION_PREFIX}_{SUBMISSION_NUMBER}_submission_{SUBMISSION_METADATA}\"\n",
    "DESCRIPTION = f\"Experiment {SUBMISSION_NUMBER}: {CUSTOM_DESC} {SUBMISSION_METADATA}\".replace(\"_\", \" \")\n",
    "\n",
    "\n",
    "\n",
    "UPLOAD_TO_KAGGLE = True\n",
    "INCLUDE_MISSING_CUSTOMERS = False"
   ],
   "metadata": {
    "collapsed": false,
    "ExecuteTime": {
     "end_time": "2023-12-22T14:16:11.032276200Z",
     "start_time": "2023-12-22T14:16:10.938650500Z"
    }
   },
   "id": "342f936d39ec0602"
  },
  {
   "cell_type": "markdown",
   "source": [
    "<br><br><br><br><br><br>\n",
    "\n",
    "---\n",
    "## Feature Engineering\n",
    "---"
   ],
   "metadata": {
    "collapsed": false
   },
   "id": "6c7552cca43892cd"
  },
  {
   "cell_type": "code",
   "execution_count": 37,
   "outputs": [],
   "source": [
    "from features import *\n",
    "from candidates import *\n",
    "from data import *"
   ],
   "metadata": {
    "collapsed": false,
    "ExecuteTime": {
     "end_time": "2023-12-22T14:16:11.036277500Z",
     "start_time": "2023-12-22T14:16:10.986414300Z"
    }
   },
   "id": "134a8eb66466499b"
  },
  {
   "cell_type": "code",
   "execution_count": 38,
   "outputs": [],
   "source": [
    "# Filter out all transactions that are outside of the training interval\n",
    "transactions = all_transactions[all_transactions[\"week\"] >= REFERENCE_WEEK - TRAINING_INTERVAL]"
   ],
   "metadata": {
    "collapsed": false,
    "ExecuteTime": {
     "end_time": "2023-12-22T14:16:11.126220200Z",
     "start_time": "2023-12-22T14:16:11.032276200Z"
    }
   },
   "id": "d87c3ccb606786e1"
  },
  {
   "cell_type": "code",
   "execution_count": 39,
   "outputs": [],
   "source": [
    "# Split into train and test set\n",
    "# DISCLAIMER: this concept was copied from Noah's ExperimentTemplate notebook (test_data is used for offline evaluation)\n",
    "train_data, test_data = split_dataframe(transactions, transactions[\"week\"] <= REFERENCE_WEEK)"
   ],
   "metadata": {
    "collapsed": false,
    "ExecuteTime": {
     "end_time": "2023-12-22T14:16:11.182350700Z",
     "start_time": "2023-12-22T14:16:11.124220400Z"
    }
   },
   "id": "52bf4931de9a69dc"
  },
  {
   "cell_type": "markdown",
   "source": [
    "#### General feature data\n",
    "(does not get added to the training data, but is used to generate candidates)"
   ],
   "metadata": {
    "collapsed": false
   },
   "id": "fffeae90d45292cf"
  },
  {
   "cell_type": "code",
   "execution_count": 40,
   "outputs": [
    {
     "name": "stdout",
     "output_type": "stream",
     "text": [
      "CPU times: total: 62.5 ms\n",
      "Wall time: 59 ms\n"
     ]
    }
   ],
   "source": [
    "%%time\n",
    "bestsellers_per_week = get_most_sold_weekly_products(train_data)"
   ],
   "metadata": {
    "collapsed": false,
    "ExecuteTime": {
     "end_time": "2023-12-22T14:16:11.286149900Z",
     "start_time": "2023-12-22T14:16:11.184348100Z"
    }
   },
   "id": "f218c535e89faad7"
  },
  {
   "cell_type": "code",
   "execution_count": 41,
   "outputs": [
    {
     "name": "stdout",
     "output_type": "stream",
     "text": [
      "CPU times: total: 15.6 ms\n",
      "Wall time: 21 ms\n"
     ]
    }
   ],
   "source": [
    "%%time\n",
    "most_sold_all_time = get_most_sold_products(train_data)"
   ],
   "metadata": {
    "collapsed": false,
    "ExecuteTime": {
     "end_time": "2023-12-22T14:16:11.350962500Z",
     "start_time": "2023-12-22T14:16:11.287148800Z"
    }
   },
   "id": "b370cc4a9390feac"
  },
  {
   "cell_type": "code",
   "execution_count": 42,
   "outputs": [
    {
     "name": "stdout",
     "output_type": "stream",
     "text": [
      "CPU times: total: 46.9 ms\n",
      "Wall time: 55 ms\n"
     ]
    }
   ],
   "source": [
    "%%time\n",
    "purchase_price_per_week = get_weekly_purchase_price(train_data)"
   ],
   "metadata": {
    "collapsed": false,
    "ExecuteTime": {
     "end_time": "2023-12-22T14:16:11.449945400Z",
     "start_time": "2023-12-22T14:16:11.351961300Z"
    }
   },
   "id": "8bcf4c2ed83cdffb"
  },
  {
   "cell_type": "code",
   "execution_count": 43,
   "outputs": [
    {
     "name": "stdout",
     "output_type": "stream",
     "text": [
      "CPU times: total: 20.3 s\n",
      "Wall time: 20.5 s\n"
     ]
    }
   ],
   "source": [
    "%%time\n",
    "customer_sales_channel_per_week = get_most_common_sales_channel(train_data)"
   ],
   "metadata": {
    "collapsed": false,
    "ExecuteTime": {
     "end_time": "2023-12-22T14:16:32.028330900Z",
     "start_time": "2023-12-22T14:16:11.450945200Z"
    }
   },
   "id": "babc3139294e66f4"
  },
  {
   "cell_type": "markdown",
   "source": [
    "#### General customer candidate data\n",
    "(determines which customers are applicable for candidate generation)"
   ],
   "metadata": {
    "collapsed": false
   },
   "id": "f56666bdf7592d00"
  },
  {
   "cell_type": "code",
   "execution_count": 44,
   "outputs": [
    {
     "name": "stdout",
     "output_type": "stream",
     "text": [
      "CPU times: total: 125 ms\n",
      "Wall time: 137 ms\n"
     ]
    }
   ],
   "source": [
    "%%time\n",
    "candidate_customers, ref_week_candidate_customers = get_buying_customers_candidates(train_data, REFERENCE_WEEK)\n",
    "train_candidates = []\n",
    "ref_week_candidates = []"
   ],
   "metadata": {
    "collapsed": false,
    "ExecuteTime": {
     "end_time": "2023-12-22T14:16:32.210684400Z",
     "start_time": "2023-12-22T14:16:32.028330900Z"
    }
   },
   "id": "cb94dd7795a79054"
  },
  {
   "cell_type": "markdown",
   "source": [
    "#### Global Candidates (apply to every person)"
   ],
   "metadata": {
    "collapsed": false
   },
   "id": "b8b55d07aaa24a64"
  },
  {
   "cell_type": "code",
   "execution_count": 45,
   "outputs": [
    {
     "name": "stdout",
     "output_type": "stream",
     "text": [
      "CPU times: total: 219 ms\n",
      "Wall time: 222 ms\n"
     ]
    }
   ],
   "source": [
    "%%time\n",
    "# Add weekly bestsellers to each candidate customer as transaction candidates\n",
    "if \"weekly_bestsellers\" in TRAIN_INTERVAL_CANDIDATES:\n",
    "    train_candidates.append(candidate_bestsellers_weekly(candidate_customers, bestsellers_per_week))\n",
    "if \"weekly_bestsellers\" in REFERENCE_WEEK_CANDIDATES:\n",
    "    ref_week_candidates.append(candidate_bestsellers_weekly(ref_week_candidate_customers, bestsellers_per_week))"
   ],
   "metadata": {
    "collapsed": false,
    "ExecuteTime": {
     "end_time": "2023-12-22T14:16:32.479331900Z",
     "start_time": "2023-12-22T14:16:32.211684200Z"
    }
   },
   "id": "8d9930568904415c"
  },
  {
   "cell_type": "code",
   "execution_count": 46,
   "outputs": [
    {
     "name": "stdout",
     "output_type": "stream",
     "text": [
      "CPU times: total: 0 ns\n",
      "Wall time: 0 ns\n"
     ]
    }
   ],
   "source": [
    "%%time\n",
    "# Add all time bestsellers to each candidate customer as transaction candidates\n",
    "if \"all_time_bestsellers\" in TRAIN_INTERVAL_CANDIDATES:\n",
    "    train_all_time_bestsellers = candidate_bestsellers_all_time(candidate_customers, most_sold_all_time)\n",
    "    train_candidates.append(train_all_time_bestsellers)\n",
    "if \"all_time_bestsellers\" in REFERENCE_WEEK_CANDIDATES:\n",
    "    ref_week_all_time_bestsellers = candidate_bestsellers_all_time(ref_week_candidate_customers, most_sold_all_time)\n",
    "    ref_week_candidates.append(ref_week_all_time_bestsellers)"
   ],
   "metadata": {
    "collapsed": false,
    "ExecuteTime": {
     "end_time": "2023-12-22T14:16:32.526386400Z",
     "start_time": "2023-12-22T14:16:32.480331200Z"
    }
   },
   "id": "5387ef5c72f74a94"
  },
  {
   "cell_type": "code",
   "execution_count": 47,
   "outputs": [
    {
     "name": "stdout",
     "output_type": "stream",
     "text": [
      "CPU times: total: 0 ns\n",
      "Wall time: 998 µs\n"
     ]
    }
   ],
   "source": [
    "%%time\n",
    "# Add new arrivals to each candidate customer as transaction candidates\n",
    "if \"new_arrivals\" in TRAIN_INTERVAL_CANDIDATES:\n",
    "    train_candidates.append(candidate_new_arrivals(candidate_customers, all_transactions, purchase_price_per_week, REFERENCE_WEEK))\n",
    "if \"new_arrivals\" in REFERENCE_WEEK_CANDIDATES:\n",
    "    ref_week_candidates.append(candidate_new_arrivals(ref_week_candidate_customers, all_transactions, purchase_price_per_week, REFERENCE_WEEK))"
   ],
   "metadata": {
    "collapsed": false,
    "ExecuteTime": {
     "end_time": "2023-12-22T14:16:32.573297700Z",
     "start_time": "2023-12-22T14:16:32.523386800Z"
    }
   },
   "id": "46de7e520a101205"
  },
  {
   "cell_type": "markdown",
   "source": [
    "#### Contextual Candidates (apply to groups of people)"
   ],
   "metadata": {
    "collapsed": false
   },
   "id": "efa9a3583cc9d9ad"
  },
  {
   "cell_type": "code",
   "execution_count": 48,
   "outputs": [],
   "source": [
    "# "
   ],
   "metadata": {
    "collapsed": false,
    "ExecuteTime": {
     "end_time": "2023-12-22T14:16:32.624669200Z",
     "start_time": "2023-12-22T14:16:32.566295900Z"
    }
   },
   "id": "6c086a44dc86089c"
  },
  {
   "cell_type": "markdown",
   "source": [
    "#### Personalised Candidates (apply to individuals)"
   ],
   "metadata": {
    "collapsed": false
   },
   "id": "e624bde9c1062c35"
  },
  {
   "cell_type": "markdown",
   "source": [],
   "metadata": {
    "collapsed": false
   },
   "id": "fba1a77035918121"
  },
  {
   "cell_type": "code",
   "execution_count": 49,
   "outputs": [
    {
     "name": "stdout",
     "output_type": "stream",
     "text": [
      "CPU times: total: 15.5 s\n",
      "Wall time: 16.3 s\n"
     ]
    }
   ],
   "source": [
    "%%time\n",
    "\n",
    "# if \"previous_purchases\" in TRAIN_INTERVAL_CANDIDATES or \"previous_purchases\" in REFERENCE_WEEK_CANDIDATES:\n",
    "#     previous_purchase_candidates = candidate_previous_purchases(train_data, REFERENCE_WEEK)\n",
    "# \n",
    "#     # Split dataframe into reference week and training week\\n\",\n",
    "#     train_repurchase_candidates, ref_week_repurchase_candidates = split_dataframe(previous_purchase_candidates, previous_purchase_candidates[\"week\"] < REFERENCE_WEEK)\n",
    "#     if \"previous_purchases\" in TRAIN_INTERVAL_CANDIDATES:\n",
    "#         train_candidates.append(train_repurchase_candidates)\n",
    "#     if \"previous_purchases\" in REFERENCE_WEEK_CANDIDATES:\n",
    "#         ref_week_candidates.append(ref_week_repurchase_candidates)\n",
    "\n",
    "# Recall previous purchases of customers (i.e. repeat article in the next week)  \n",
    "if \"previous_purchases\" in TRAIN_INTERVAL_CANDIDATES:\n",
    "    train_candidates.append(candidate_previous_purchases(train_data, None))\n",
    "if \"previous_purchases\" in REFERENCE_WEEK_CANDIDATES:\n",
    "    ref_week_candidates.append(candidate_previous_purchases(train_data, REFERENCE_WEEK))"
   ],
   "metadata": {
    "collapsed": false,
    "ExecuteTime": {
     "end_time": "2023-12-22T14:16:48.965470400Z",
     "start_time": "2023-12-22T14:16:32.609666800Z"
    }
   },
   "id": "4643dae944866b57"
  },
  {
   "cell_type": "markdown",
   "source": [
    "### Combine Candidates"
   ],
   "metadata": {
    "collapsed": false
   },
   "id": "1d2b250f99136a6c"
  },
  {
   "cell_type": "code",
   "execution_count": 50,
   "outputs": [
    {
     "name": "stdout",
     "output_type": "stream",
     "text": [
      "CPU times: total: 1.08 s\n",
      "Wall time: 1.2 s\n"
     ]
    }
   ],
   "source": [
    "%%time\n",
    "train_data[\"bought\"] = 1\n",
    "\n",
    "# Add all candidates together with the training data\n",
    "train_data = pd.concat([train_data] + train_candidates + ref_week_candidates, ignore_index=True)\n",
    "train_data.fillna(0, inplace=True)\n",
    "\n",
    "# Drop duplicate candidates and transactions\n",
    "train_data.drop_duplicates([\"customer_id\", \"article_id\", \"week\"], inplace=True)"
   ],
   "metadata": {
    "collapsed": false,
    "ExecuteTime": {
     "end_time": "2023-12-22T14:16:50.213599Z",
     "start_time": "2023-12-22T14:16:48.965470400Z"
    }
   },
   "id": "cbf6b0d8ea97ac11"
  },
  {
   "cell_type": "markdown",
   "source": [
    "#### Features"
   ],
   "metadata": {
    "collapsed": false
   },
   "id": "ec04bd0881a2cc7a"
  },
  {
   "cell_type": "code",
   "execution_count": 51,
   "outputs": [
    {
     "name": "stdout",
     "output_type": "stream",
     "text": [
      "CPU times: total: 469 ms\n",
      "Wall time: 485 ms\n"
     ]
    }
   ],
   "source": [
    "%%time\n",
    "# Weekly Bestseller feature\n",
    "if \"bestseller_rank\" in all_features:\n",
    "    train_data = weekly_bestseller_feature(train_data, bestsellers_per_week)"
   ],
   "metadata": {
    "collapsed": false,
    "ExecuteTime": {
     "end_time": "2023-12-22T14:16:50.748326Z",
     "start_time": "2023-12-22T14:16:50.214594900Z"
    }
   },
   "id": "4e4717b322b793f9"
  },
  {
   "cell_type": "code",
   "execution_count": 52,
   "outputs": [
    {
     "name": "stdout",
     "output_type": "stream",
     "text": [
      "CPU times: total: 0 ns\n",
      "Wall time: 0 ns\n"
     ]
    }
   ],
   "source": [
    "%%time\n",
    "# All time Bestseller feature\n",
    "if \"all_time_rank\" in all_features:\n",
    "    train_data = all_time_bestseller_feature(train_data, most_sold_all_time)"
   ],
   "metadata": {
    "collapsed": false,
    "ExecuteTime": {
     "end_time": "2023-12-22T14:16:50.799209900Z",
     "start_time": "2023-12-22T14:16:50.748326Z"
    }
   },
   "id": "7f3ea25b1edee6d8"
  },
  {
   "cell_type": "code",
   "execution_count": 53,
   "outputs": [
    {
     "name": "stdout",
     "output_type": "stream",
     "text": [
      "CPU times: total: 0 ns\n",
      "Wall time: 0 ns\n"
     ]
    }
   ],
   "source": [
    "%%time\n",
    "# Price sensitivity feature\n",
    "if \"price_sensitivity\" in all_features:\n",
    "    train_data = price_sensitivity_feature(train_data, customers)"
   ],
   "metadata": {
    "collapsed": false,
    "ExecuteTime": {
     "end_time": "2023-12-22T14:16:50.850455600Z",
     "start_time": "2023-12-22T14:16:50.795209Z"
    }
   },
   "id": "aefbdc3a16ea5010"
  },
  {
   "cell_type": "code",
   "execution_count": 54,
   "outputs": [
    {
     "name": "stdout",
     "output_type": "stream",
     "text": [
      "CPU times: total: 0 ns\n",
      "Wall time: 0 ns\n"
     ]
    }
   ],
   "source": [
    "%%time\n",
    "# New arrivals feature\n",
    "if \"new_arrival\" in all_features:\n",
    "    train_data = product_age_feature(all_transactions, train_data)"
   ],
   "metadata": {
    "collapsed": false,
    "ExecuteTime": {
     "end_time": "2023-12-22T14:16:50.905678300Z",
     "start_time": "2023-12-22T14:16:50.840454100Z"
    }
   },
   "id": "eca37c56d71c96ab"
  },
  {
   "cell_type": "code",
   "execution_count": 55,
   "outputs": [
    {
     "name": "stdout",
     "output_type": "stream",
     "text": [
      "CPU times: total: 0 ns\n",
      "Wall time: 0 ns\n"
     ]
    }
   ],
   "source": [
    "%%time\n",
    "# Promotion feature\n",
    "if \"has_promotion\" in all_features:\n",
    "    train_data = discount_feature(train_data)"
   ],
   "metadata": {
    "collapsed": false,
    "ExecuteTime": {
     "end_time": "2023-12-22T14:16:50.954818900Z",
     "start_time": "2023-12-22T14:16:50.887678700Z"
    }
   },
   "id": "803b7c8737fd6f04"
  },
  {
   "cell_type": "markdown",
   "source": [
    "#### Final clean-up"
   ],
   "metadata": {
    "collapsed": false
   },
   "id": "674bb07fc0817b4f"
  },
  {
   "cell_type": "code",
   "execution_count": 56,
   "outputs": [],
   "source": [
    "# Removes the first week of the training data (since it does not have any data it can base itself on for some features)\n",
    "train_data = train_data[train_data['week'] != train_data['week'].min()]"
   ],
   "metadata": {
    "collapsed": false,
    "ExecuteTime": {
     "end_time": "2023-12-22T14:16:51.347853700Z",
     "start_time": "2023-12-22T14:16:50.933816300Z"
    }
   },
   "id": "398840c716069c9e"
  },
  {
   "cell_type": "code",
   "execution_count": 57,
   "outputs": [
    {
     "data": {
      "text/plain": "             t_dat           customer_id  article_id     price  \\\n238074  2020-09-09      4920151714340210   564358058  0.033881   \n238075  2020-09-09      4920151714340210   568601044  0.050831   \n238076  2020-09-09      4920151714340210   779781013  0.042356   \n238077  2020-09-09      4920151714340210   843465004  0.050831   \n238078  2020-09-09      4920151714340210   715828013  0.033881   \n...            ...                   ...         ...       ...   \n5230672 2020-09-22  18439937050817258297   891591003  0.084729   \n5230673 2020-09-22  18439937050817258297   869706005  0.084729   \n5230674 2020-09-22  18440902715633436014   918894002  0.016932   \n5230675 2020-09-22  18440902715633436014   761269001  0.016932   \n5230676 2020-09-22  18443633011701112574   914868002  0.033881   \n\n         sales_channel_id   week  bought  count   rank  \n238074                  1  103.0     1.0    0.0  272.0  \n238075                  1  103.0     1.0    0.0  171.0  \n238076                  1  103.0     1.0    0.0  230.0  \n238077                  1  103.0     1.0    0.0  270.0  \n238078                  1  103.0     1.0    0.0  200.0  \n...                   ...    ...     ...    ...    ...  \n5230672                 2  105.0     0.0    0.0  999.0  \n5230673                 2  105.0     0.0    0.0  999.0  \n5230674                 1  105.0     0.0    0.0  999.0  \n5230675                 1  105.0     0.0    0.0  999.0  \n5230676                 1  105.0     0.0    0.0  999.0  \n\n[4992603 rows x 9 columns]",
      "text/html": "<div>\n<style scoped>\n    .dataframe tbody tr th:only-of-type {\n        vertical-align: middle;\n    }\n\n    .dataframe tbody tr th {\n        vertical-align: top;\n    }\n\n    .dataframe thead th {\n        text-align: right;\n    }\n</style>\n<table border=\"1\" class=\"dataframe\">\n  <thead>\n    <tr style=\"text-align: right;\">\n      <th></th>\n      <th>t_dat</th>\n      <th>customer_id</th>\n      <th>article_id</th>\n      <th>price</th>\n      <th>sales_channel_id</th>\n      <th>week</th>\n      <th>bought</th>\n      <th>count</th>\n      <th>rank</th>\n    </tr>\n  </thead>\n  <tbody>\n    <tr>\n      <th>238074</th>\n      <td>2020-09-09</td>\n      <td>4920151714340210</td>\n      <td>564358058</td>\n      <td>0.033881</td>\n      <td>1</td>\n      <td>103.0</td>\n      <td>1.0</td>\n      <td>0.0</td>\n      <td>272.0</td>\n    </tr>\n    <tr>\n      <th>238075</th>\n      <td>2020-09-09</td>\n      <td>4920151714340210</td>\n      <td>568601044</td>\n      <td>0.050831</td>\n      <td>1</td>\n      <td>103.0</td>\n      <td>1.0</td>\n      <td>0.0</td>\n      <td>171.0</td>\n    </tr>\n    <tr>\n      <th>238076</th>\n      <td>2020-09-09</td>\n      <td>4920151714340210</td>\n      <td>779781013</td>\n      <td>0.042356</td>\n      <td>1</td>\n      <td>103.0</td>\n      <td>1.0</td>\n      <td>0.0</td>\n      <td>230.0</td>\n    </tr>\n    <tr>\n      <th>238077</th>\n      <td>2020-09-09</td>\n      <td>4920151714340210</td>\n      <td>843465004</td>\n      <td>0.050831</td>\n      <td>1</td>\n      <td>103.0</td>\n      <td>1.0</td>\n      <td>0.0</td>\n      <td>270.0</td>\n    </tr>\n    <tr>\n      <th>238078</th>\n      <td>2020-09-09</td>\n      <td>4920151714340210</td>\n      <td>715828013</td>\n      <td>0.033881</td>\n      <td>1</td>\n      <td>103.0</td>\n      <td>1.0</td>\n      <td>0.0</td>\n      <td>200.0</td>\n    </tr>\n    <tr>\n      <th>...</th>\n      <td>...</td>\n      <td>...</td>\n      <td>...</td>\n      <td>...</td>\n      <td>...</td>\n      <td>...</td>\n      <td>...</td>\n      <td>...</td>\n      <td>...</td>\n    </tr>\n    <tr>\n      <th>5230672</th>\n      <td>2020-09-22</td>\n      <td>18439937050817258297</td>\n      <td>891591003</td>\n      <td>0.084729</td>\n      <td>2</td>\n      <td>105.0</td>\n      <td>0.0</td>\n      <td>0.0</td>\n      <td>999.0</td>\n    </tr>\n    <tr>\n      <th>5230673</th>\n      <td>2020-09-22</td>\n      <td>18439937050817258297</td>\n      <td>869706005</td>\n      <td>0.084729</td>\n      <td>2</td>\n      <td>105.0</td>\n      <td>0.0</td>\n      <td>0.0</td>\n      <td>999.0</td>\n    </tr>\n    <tr>\n      <th>5230674</th>\n      <td>2020-09-22</td>\n      <td>18440902715633436014</td>\n      <td>918894002</td>\n      <td>0.016932</td>\n      <td>1</td>\n      <td>105.0</td>\n      <td>0.0</td>\n      <td>0.0</td>\n      <td>999.0</td>\n    </tr>\n    <tr>\n      <th>5230675</th>\n      <td>2020-09-22</td>\n      <td>18440902715633436014</td>\n      <td>761269001</td>\n      <td>0.016932</td>\n      <td>1</td>\n      <td>105.0</td>\n      <td>0.0</td>\n      <td>0.0</td>\n      <td>999.0</td>\n    </tr>\n    <tr>\n      <th>5230676</th>\n      <td>2020-09-22</td>\n      <td>18443633011701112574</td>\n      <td>914868002</td>\n      <td>0.033881</td>\n      <td>1</td>\n      <td>105.0</td>\n      <td>0.0</td>\n      <td>0.0</td>\n      <td>999.0</td>\n    </tr>\n  </tbody>\n</table>\n<p>4992603 rows × 9 columns</p>\n</div>"
     },
     "execution_count": 57,
     "metadata": {},
     "output_type": "execute_result"
    }
   ],
   "source": [
    "train_data"
   ],
   "metadata": {
    "collapsed": false,
    "ExecuteTime": {
     "end_time": "2023-12-22T14:17:26.689492100Z",
     "start_time": "2023-12-22T14:17:26.628200Z"
    }
   },
   "id": "4bd908e5d4eee21d"
  },
  {
   "cell_type": "code",
   "execution_count": 58,
   "outputs": [
    {
     "data": {
      "text/plain": "       week  article_id  count   rank\n0       102   108775044      4  295.0\n1       102   111565001     32  267.0\n2       102   111586001    112  187.0\n3       102   111593001    133  166.0\n4       102   111609001     27  272.0\n...     ...         ...    ...    ...\n55954   104   952267001     10  273.0\n55955   104   952938001      7  276.0\n55956   104   953450001      5  278.0\n55957   104   953763001     18  265.0\n55958   104   956217002      8  275.0\n\n[55959 rows x 4 columns]",
      "text/html": "<div>\n<style scoped>\n    .dataframe tbody tr th:only-of-type {\n        vertical-align: middle;\n    }\n\n    .dataframe tbody tr th {\n        vertical-align: top;\n    }\n\n    .dataframe thead th {\n        text-align: right;\n    }\n</style>\n<table border=\"1\" class=\"dataframe\">\n  <thead>\n    <tr style=\"text-align: right;\">\n      <th></th>\n      <th>week</th>\n      <th>article_id</th>\n      <th>count</th>\n      <th>rank</th>\n    </tr>\n  </thead>\n  <tbody>\n    <tr>\n      <th>0</th>\n      <td>102</td>\n      <td>108775044</td>\n      <td>4</td>\n      <td>295.0</td>\n    </tr>\n    <tr>\n      <th>1</th>\n      <td>102</td>\n      <td>111565001</td>\n      <td>32</td>\n      <td>267.0</td>\n    </tr>\n    <tr>\n      <th>2</th>\n      <td>102</td>\n      <td>111586001</td>\n      <td>112</td>\n      <td>187.0</td>\n    </tr>\n    <tr>\n      <th>3</th>\n      <td>102</td>\n      <td>111593001</td>\n      <td>133</td>\n      <td>166.0</td>\n    </tr>\n    <tr>\n      <th>4</th>\n      <td>102</td>\n      <td>111609001</td>\n      <td>27</td>\n      <td>272.0</td>\n    </tr>\n    <tr>\n      <th>...</th>\n      <td>...</td>\n      <td>...</td>\n      <td>...</td>\n      <td>...</td>\n    </tr>\n    <tr>\n      <th>55954</th>\n      <td>104</td>\n      <td>952267001</td>\n      <td>10</td>\n      <td>273.0</td>\n    </tr>\n    <tr>\n      <th>55955</th>\n      <td>104</td>\n      <td>952938001</td>\n      <td>7</td>\n      <td>276.0</td>\n    </tr>\n    <tr>\n      <th>55956</th>\n      <td>104</td>\n      <td>953450001</td>\n      <td>5</td>\n      <td>278.0</td>\n    </tr>\n    <tr>\n      <th>55957</th>\n      <td>104</td>\n      <td>953763001</td>\n      <td>18</td>\n      <td>265.0</td>\n    </tr>\n    <tr>\n      <th>55958</th>\n      <td>104</td>\n      <td>956217002</td>\n      <td>8</td>\n      <td>275.0</td>\n    </tr>\n  </tbody>\n</table>\n<p>55959 rows × 4 columns</p>\n</div>"
     },
     "execution_count": 58,
     "metadata": {},
     "output_type": "execute_result"
    }
   ],
   "source": [
    "bestsellers_per_week"
   ],
   "metadata": {
    "collapsed": false,
    "ExecuteTime": {
     "end_time": "2023-12-22T14:19:12.738141900Z",
     "start_time": "2023-12-22T14:19:12.649015900Z"
    }
   },
   "id": "7e6c5b4f9ed51d8d"
  },
  {
   "cell_type": "markdown",
   "source": [
    "<br><br><br><br><br><br>\n",
    "\n",
    "---\n",
    "## Similarity generation\n",
    "---"
   ],
   "metadata": {
    "collapsed": false
   },
   "id": "326aa933b6c3d611"
  },
  {
   "cell_type": "markdown",
   "source": [
    "<br><br><br><br><br><br>\n",
    "\n",
    "---\n",
    "## Model Training\n",
    "---"
   ],
   "metadata": {
    "collapsed": false
   },
   "id": "fce01ac06aa7334d"
  },
  {
   "cell_type": "code",
   "execution_count": 28,
   "outputs": [],
   "source": [
    "# Data clean-up\n",
    "train_data = clean_up_transaction_data(train_data)\n",
    "\n",
    "# Split training data into two sets\n",
    "train_data, test_candidates = split_dataframe(train_data, train_data[\"week\"] < REFERENCE_WEEK)"
   ],
   "metadata": {
    "collapsed": false,
    "ExecuteTime": {
     "end_time": "2023-12-22T14:15:52.285847900Z",
     "start_time": "2023-12-22T14:15:50.697865300Z"
    }
   },
   "id": "21c9072a56bf255"
  },
  {
   "cell_type": "code",
   "execution_count": 29,
   "outputs": [],
   "source": [
    "# Join all features together\n",
    "train_data = join_all_features(train_data, articles, customers)\n",
    "\n",
    "# Gives amount of items purchased per customer per week (used for training the ranking)\n",
    "train_bins = train_data.groupby([\"week\", \"customer_id\"])[\"article_id\"].count().values\n",
    "\n",
    "# Train only on specified features\n",
    "train_X, available_features = filter_feature_data(train_data)\n",
    "train_y = train_data[\"bought\"]"
   ],
   "metadata": {
    "collapsed": false,
    "ExecuteTime": {
     "end_time": "2023-12-22T14:15:53.186925600Z",
     "start_time": "2023-12-22T14:15:52.286847400Z"
    }
   },
   "id": "fdde95a01fd543fe"
  },
  {
   "cell_type": "code",
   "execution_count": 233,
   "outputs": [
    {
     "name": "stdout",
     "output_type": "stream",
     "text": [
      "[LightGBM] [Debug] Dataset::GetMultiBinFromAllFeatures: sparse rate 0.252445\n",
      "[LightGBM] [Info] Total Bins 1114\n",
      "[LightGBM] [Info] Number of data points in the train set: 2244157, number of used features: 17\n",
      "[LightGBM] [Debug] Trained a tree with leaves = 31 and depth = 13\n",
      "[LightGBM] [Debug] Trained a tree with leaves = 31 and depth = 12\n",
      "[LightGBM] [Debug] Trained a tree with leaves = 31 and depth = 10\n",
      "[LightGBM] [Debug] Trained a tree with leaves = 31 and depth = 11\n",
      "[LightGBM] [Debug] Trained a tree with leaves = 31 and depth = 12\n",
      "[LightGBM] [Debug] Trained a tree with leaves = 31 and depth = 11\n",
      "[LightGBM] [Debug] Trained a tree with leaves = 31 and depth = 12\n",
      "[LightGBM] [Debug] Trained a tree with leaves = 31 and depth = 9\n",
      "CPU times: total: 8.48 s\n",
      "Wall time: 912 ms\n"
     ]
    }
   ],
   "source": [
    "%%time\n",
    "ranker = LGBMRanker(\n",
    "    force_row_wise=True,\n",
    "    objective=\"lambdarank\",\n",
    "    metric=\"ndcg\",\n",
    "    boosting_type=\"dart\",\n",
    "    n_estimators=8,\n",
    "    importance_type='gain',\n",
    "    verbose=10 if VERBOSE else 0,\n",
    ")\n",
    "\n",
    "ranker = ranker.fit(train_X, train_y, group=train_bins)\n",
    "\n",
    "# Get the relative importance of the feature according to the ranker\n",
    "feature_importance = feature_importance_df(ranker, available_features)"
   ],
   "metadata": {
    "collapsed": false,
    "ExecuteTime": {
     "end_time": "2023-12-22T00:10:57.675685300Z",
     "start_time": "2023-12-22T00:10:56.720292100Z"
    }
   },
   "id": "fc9e9b16eef76378"
  },
  {
   "cell_type": "code",
   "execution_count": 234,
   "outputs": [
    {
     "name": "stderr",
     "output_type": "stream",
     "text": [
      "A:\\Programs\\miniconda3\\Lib\\site-packages\\seaborn\\_oldcore.py:1498: FutureWarning: is_categorical_dtype is deprecated and will be removed in a future version. Use isinstance(dtype, CategoricalDtype) instead\n",
      "  if pd.api.types.is_categorical_dtype(vector):\n",
      "A:\\Programs\\miniconda3\\Lib\\site-packages\\seaborn\\_oldcore.py:1498: FutureWarning: is_categorical_dtype is deprecated and will be removed in a future version. Use isinstance(dtype, CategoricalDtype) instead\n",
      "  if pd.api.types.is_categorical_dtype(vector):\n",
      "A:\\Programs\\miniconda3\\Lib\\site-packages\\seaborn\\_oldcore.py:1498: FutureWarning: is_categorical_dtype is deprecated and will be removed in a future version. Use isinstance(dtype, CategoricalDtype) instead\n",
      "  if pd.api.types.is_categorical_dtype(vector):\n",
      "A:\\Python\\ai-project-23-24\\FelixVernieuwe\\util.py:192: UserWarning: set_ticklabels() should only be used with a fixed number of ticks, i.e. after set_ticks() or using a FixedLocator.\n",
      "  plot.set_xticklabels([\"{:.1f}%\".format(x) for x in plot.get_xticks()])\n"
     ]
    },
    {
     "data": {
      "text/plain": "<Figure size 1500x1000 with 1 Axes>",
      "image/png": "[encoded data removed]"
     },
     "metadata": {},
     "output_type": "display_data"
    }
   ],
   "source": [
    "# Graph importances on bar chart\n",
    "if VERBOSE:\n",
    "    graph_feature_importance(feature_importance)"
   ],
   "metadata": {
    "collapsed": false,
    "ExecuteTime": {
     "end_time": "2023-12-22T00:10:58.405501100Z",
     "start_time": "2023-12-22T00:10:57.677684400Z"
    }
   },
   "id": "16c656a79d660e85"
  },
  {
   "cell_type": "raw",
   "source": [],
   "metadata": {
    "collapsed": false
   },
   "id": "a27279504ea99c9"
  },
  {
   "cell_type": "markdown",
   "source": [
    "<br><br><br><br><br><br>\n",
    "\n",
    "---\n",
    "## Prediction generation\n",
    "---"
   ],
   "metadata": {
    "collapsed": false
   },
   "id": "c8fc354c95884c4e"
  },
  {
   "cell_type": "code",
   "execution_count": 235,
   "outputs": [],
   "source": [
    "test_candidates = test_candidates.drop_duplicates([\"customer_id\", \"article_id\", \"sales_channel_id\"]).copy()\n",
    "test_candidates = join_all_features(test_candidates, articles, customers)\n",
    "test_X, available_features = filter_feature_data(test_candidates)"
   ],
   "metadata": {
    "collapsed": false,
    "ExecuteTime": {
     "end_time": "2023-12-22T00:10:59.671938300Z",
     "start_time": "2023-12-22T00:10:58.407498700Z"
    }
   },
   "id": "5095b6fc7dc283e1"
  },
  {
   "cell_type": "code",
   "execution_count": 236,
   "outputs": [],
   "source": [
    "def calculate_predictions(candidates, features, ranker, k=12):\n",
    "    \"\"\"\n",
    "    Retrieves dataframe for top 12 candidate articles given candidates per customer\n",
    "    NOTE: Partially adapted from Noah's ExperimentTemplate notebook\n",
    "    \n",
    "    :param candidates: Filtered dataframe combining only selected features\n",
    "    :param features: Filtered dataframe combining the features of transactions, articles and customers\n",
    "    :param ranker: Trained ranker model\n",
    "    :param k: Number of articles to predict per customer\n",
    "    :return: Dataframe containing the top k articles per customer\n",
    "    \"\"\"\n",
    "\n",
    "    # Predict on test set\n",
    "    features = features.copy()\n",
    "    features[\"score\"] = ranker.predict(candidates)\n",
    "    features.sort_values([\"customer_id\", \"score\"], ascending=False, inplace=True)\n",
    "    \n",
    "    features = features.groupby(\"customer_id\").head(k).reset_index(drop=True)\n",
    "    \n",
    "    return features[[\"article_id\", \"customer_id\", \"score\"]]"
   ],
   "metadata": {
    "collapsed": false,
    "ExecuteTime": {
     "end_time": "2023-12-22T00:10:59.720262600Z",
     "start_time": "2023-12-22T00:10:59.673446400Z"
    }
   },
   "id": "6031a242446cf710"
  },
  {
   "cell_type": "code",
   "execution_count": 237,
   "outputs": [],
   "source": [
    "predicted_candidates = calculate_predictions(test_X, test_candidates, ranker)"
   ],
   "metadata": {
    "collapsed": false,
    "ExecuteTime": {
     "end_time": "2023-12-22T00:11:01.063277Z",
     "start_time": "2023-12-22T00:10:59.719262Z"
    }
   },
   "id": "41b515cbf29db3f0"
  },
  {
   "cell_type": "markdown",
   "source": [
    "<br><br><br><br><br><br>\n",
    "\n",
    "---\n",
    "## Model Evaluation / Submission\n",
    "---"
   ],
   "metadata": {
    "collapsed": false
   },
   "id": "a445360f6e3d25cd"
  },
  {
   "cell_type": "code",
   "execution_count": 238,
   "outputs": [],
   "source": [
    "# Products that also may prove to be generally interesting (excluding bestsellers)\n",
    "# interesting_products = []\n",
    "# if promoted_articles is not None:\n",
    "#     current_promos = promoted_articles[promoted_articles[\"week\"] == REFERENCE_WEEK - 1]\n",
    "#     bestsellers_df = pd.DataFrame({\"article_id\": bestsellers})\n",
    "#     interesting_products = bestsellers_df.merge(current_promos, on=\"article_id\", how=\"inner\")\n",
    "#     interesting_products = interesting_products[interesting_products[\"has_promotion\"] == True][\"article_id\"].tolist()\n",
    "\n",
    "# Bestselling products in the previous week\n",
    "bestsellers = transactions[transactions[\"week\"] == REFERENCE_WEEK - 1][\"article_id\"].value_counts().head(12).index.tolist()\n",
    "# interesting_products = set(interesting_products)"
   ],
   "metadata": {
    "collapsed": false,
    "ExecuteTime": {
     "end_time": "2023-12-22T00:11:01.119799100Z",
     "start_time": "2023-12-22T00:11:01.065740900Z"
    }
   },
   "id": "53718059c6cd0ecc"
  },
  {
   "cell_type": "code",
   "execution_count": 239,
   "outputs": [],
   "source": [
    "predicted_candidates = predicted_candidates[[\"article_id\", \"customer_id\"]]"
   ],
   "metadata": {
    "collapsed": false,
    "ExecuteTime": {
     "end_time": "2023-12-22T00:11:01.184462200Z",
     "start_time": "2023-12-22T00:11:01.120800200Z"
    }
   },
   "id": "a50e78e40d9573d0"
  },
  {
   "cell_type": "code",
   "execution_count": 240,
   "outputs": [],
   "source": [
    "# Add extra articles to customers that do not have any predictions\n",
    "missing_customers = pd.DataFrame({\"customer_id\": customers[\"customer_id\"].unique()})\n",
    "missing_customers = missing_customers[~missing_customers[\"customer_id\"].isin(test_candidates[\"customer_id\"].unique())]\n",
    "missing_customers = missing_customers.merge(pd.DataFrame({\"article_id\": bestsellers}), how=\"cross\")\n",
    "\n",
    "# Join the two dataframes together (predicted candidates and missing customers)\n",
    "predicted_candidates = pd.concat([predicted_candidates, missing_customers], ignore_index=True)"
   ],
   "metadata": {
    "collapsed": false,
    "ExecuteTime": {
     "end_time": "2023-12-22T00:11:01.753467200Z",
     "start_time": "2023-12-22T00:11:01.186458800Z"
    }
   },
   "id": "63a9abe4eaa6b7c4"
  },
  {
   "cell_type": "code",
   "execution_count": 241,
   "outputs": [
    {
     "name": "stdout",
     "output_type": "stream",
     "text": [
      "CPU times: total: 0 ns\n",
      "Wall time: 0 ns\n"
     ]
    }
   ],
   "source": [
    "%%time\n",
    "# DISCLAIMER: Evaluate test set/leaderboard concept copied from Noah's ExperimentTemplate notebook\n",
    "\n",
    "# Evaluate on the test set (known data)\n",
    "if test_data.empty is False:\n",
    "    # Filter test_data to only the reference week\n",
    "    ground_truth_purchases = test_data[test_data[\"week\"] > REFERENCE_WEEK]\n",
    "    \n",
    "    # Get dataframe of customers and their bought articles, grouped by customer and as set, for convenient comparison operations\n",
    "    ground_truth_purchases = ground_truth_purchases.groupby(\"customer_id\")[\"article_id\"].apply(set).reset_index()\n",
    "    predicted_purchases = predicted_candidates.groupby(\"customer_id\")[\"article_id\"].apply(list).reset_index()\n",
    "\n",
    "    # Rename column to match the predicted candidates\n",
    "    ground_truth_purchases.rename(columns={\"article_id\": \"purchases\"}, inplace=True)\n",
    "    predicted_purchases.rename(columns={\"article_id\": \"predictions\"}, inplace=True)\n",
    "    \n",
    "    truth_prediction = mean_average_precision(predicted_purchases, ground_truth_purchases)\n",
    "    print(SUBMISSION_NAME)\n",
    "    print(f\"MAP: {truth_prediction}\")"
   ],
   "metadata": {
    "collapsed": false,
    "ExecuteTime": {
     "end_time": "2023-12-22T00:11:01.802244300Z",
     "start_time": "2023-12-22T00:11:01.755611500Z"
    }
   },
   "id": "f18d963e43199c74"
  },
  {
   "cell_type": "code",
   "execution_count": 242,
   "outputs": [
    {
     "name": "stdout",
     "output_type": "stream",
     "text": [
      "{'token': 'CfDJ8ENrhKESblZNhgmNEWn_nwU1otLpbyCBxl2TNvzaVWr7ljnDYLyjRITWlsd0aaDUt6YyfkZXw_FWP5ysoixYBZE2m0QmfqeTsr1LJoPBn7XywH0--pgC3xcuHI0jM1f-ATXR-C-mWfKALbtnISLei0hvKxmSQI48SsFrBdPqqaEGS_PtKPr6gzCSYwyP1g9tA8UpdsRXcP1Wltli9WOES7STnRu2Wf21F8k2OrLUekk3x7YpdC9cJ8wqcwPUAle-4UKNFZTH4GekHamLfLbTqVpPKI6JtysOUeBH3AnT', 'createUrl': 'https://www.googleapis.com/upload/storage/v1/b/kaggle-competitions-submissions/o?uploadType=resumable&upload_id=ABPtcPouPFoP0A4bIlrPu-pbhrAXYJ4P7FwyuV5HRKo7SIPjf31VHpZVHA31MEe7vK_d2FVmtVQA_Nw27_3V_UlzY0jg060fYmNAbguYSpeMAXzp'}\n"
     ]
    },
    {
     "name": "stderr",
     "output_type": "stream",
     "text": [
      "100%|██████████| 53.5M/53.5M [00:30<00:00, 1.86MB/s]\n"
     ]
    },
    {
     "name": "stdout",
     "output_type": "stream",
     "text": [
      "{\n",
      "    \"message\": \"Successfully submitted to H&M Personalized Fashion Recommendations\"\n",
      "}\n",
      "CPU times: total: 50 s\n",
      "Wall time: 1min 21s\n"
     ]
    }
   ],
   "source": [
    "%%time\n",
    "# Evaluate on leaderboard set (unknown data)\n",
    "if test_data.empty is True:  \n",
    "    # Read in sample submission (customer_id, prediction)\n",
    "    submission = pd.read_csv(DATA_PATH + \"sample_submission.csv\")\n",
    "    \n",
    "    # Convert to a dictionary and replaces the sample submission predictions with our own\n",
    "    predictions = generate_submission_df(submission, predicted_candidates)\n",
    "       \n",
    "    # Write submission to zipped csv\n",
    "    predictions.to_csv(OUTPUT_PATH + f\"{SUBMISSION_NAME}.csv.gz\", index=False)\n",
    "    \n",
    "    # Upload to kaggle\n",
    "    if UPLOAD_TO_KAGGLE:\n",
    "        result = upload_to_kaggle(OUTPUT_PATH + f\"{SUBMISSION_NAME}.csv.gz\", DESCRIPTION)\n",
    "        # Pretty print result\n",
    "        print(json.dumps(result.__dict__, indent=4))"
   ],
   "metadata": {
    "collapsed": false,
    "ExecuteTime": {
     "end_time": "2023-12-22T00:12:23.619764Z",
     "start_time": "2023-12-22T00:11:01.801245100Z"
    }
   },
   "id": "65f6556427b5faa9"
  },
  {
   "cell_type": "markdown",
   "source": [],
   "metadata": {
    "collapsed": false
   },
   "id": "d3b55ce74f95df8a"
  },
  {
   "cell_type": "code",
   "execution_count": 246,
   "outputs": [
    {
     "data": {
      "text/plain": "          article_id           customer_id\n0          763988001  18446737527580148316\n1          763988003  18446737527580148316\n2          547780001  18446737527580148316\n3          547780040  18446737527580148316\n4          108775044  18446737527580148316\n...              ...                   ...\n16463755   915529003  16929951892735599169\n16463756   915529005  16929951892735599169\n16463757   448509014  16929951892735599169\n16463758   762846027  16929951892735599169\n16463759   714790020  16929951892735599169\n\n[16463760 rows x 2 columns]",
      "text/html": "<div>\n<style scoped>\n    .dataframe tbody tr th:only-of-type {\n        vertical-align: middle;\n    }\n\n    .dataframe tbody tr th {\n        vertical-align: top;\n    }\n\n    .dataframe thead th {\n        text-align: right;\n    }\n</style>\n<table border=\"1\" class=\"dataframe\">\n  <thead>\n    <tr style=\"text-align: right;\">\n      <th></th>\n      <th>article_id</th>\n      <th>customer_id</th>\n    </tr>\n  </thead>\n  <tbody>\n    <tr>\n      <th>0</th>\n      <td>763988001</td>\n      <td>18446737527580148316</td>\n    </tr>\n    <tr>\n      <th>1</th>\n      <td>763988003</td>\n      <td>18446737527580148316</td>\n    </tr>\n    <tr>\n      <th>2</th>\n      <td>547780001</td>\n      <td>18446737527580148316</td>\n    </tr>\n    <tr>\n      <th>3</th>\n      <td>547780040</td>\n      <td>18446737527580148316</td>\n    </tr>\n    <tr>\n      <th>4</th>\n      <td>108775044</td>\n      <td>18446737527580148316</td>\n    </tr>\n    <tr>\n      <th>...</th>\n      <td>...</td>\n      <td>...</td>\n    </tr>\n    <tr>\n      <th>16463755</th>\n      <td>915529003</td>\n      <td>16929951892735599169</td>\n    </tr>\n    <tr>\n      <th>16463756</th>\n      <td>915529005</td>\n      <td>16929951892735599169</td>\n    </tr>\n    <tr>\n      <th>16463757</th>\n      <td>448509014</td>\n      <td>16929951892735599169</td>\n    </tr>\n    <tr>\n      <th>16463758</th>\n      <td>762846027</td>\n      <td>16929951892735599169</td>\n    </tr>\n    <tr>\n      <th>16463759</th>\n      <td>714790020</td>\n      <td>16929951892735599169</td>\n    </tr>\n  </tbody>\n</table>\n<p>16463760 rows × 2 columns</p>\n</div>"
     },
     "execution_count": 246,
     "metadata": {},
     "output_type": "execute_result"
    }
   ],
   "source": [
    "predicted_candidates"
   ],
   "metadata": {
    "collapsed": false,
    "ExecuteTime": {
     "end_time": "2023-12-22T00:17:47.797366100Z",
     "start_time": "2023-12-22T00:17:47.746418Z"
    }
   },
   "id": "6c1c2f468942cf3c"
  }
 ],
 "metadata": {
  "kernelspec": {
   "display_name": "Python 3",
   "language": "python",
   "name": "python3"
  },
  "language_info": {
   "codemirror_mode": {
    "name": "ipython",
    "version": 2
   },
   "file_extension": ".py",
   "mimetype": "text/x-python",
   "name": "python",
   "nbconvert_exporter": "python",
   "pygments_lexer": "ipython2",
   "version": "2.7.6"
  }
 },
 "nbformat": 4,
 "nbformat_minor": 5
}
