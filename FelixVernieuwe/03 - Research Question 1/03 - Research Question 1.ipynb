{
 "cells": [
  {
   "cell_type": "markdown",
   "source": [
    "# Assignments by Felix Vernieuwe"
   ],
   "metadata": {
    "collapsed": false
   },
   "id": "df4e549c1bebb94d"
  },
  {
   "cell_type": "markdown",
   "source": [
    "---\n",
    "---\n",
    "\n",
    "## Assignment 3: Research Question 1\n",
    "#### **QUESTION:** *Quantify the importance of global, contextual and personalised candidates in evaluation and output score*\n",
    "\n",
    "---\n",
    "---"
   ],
   "metadata": {
    "collapsed": false
   },
   "id": "e51aea5d4059b432"
  },
  {
   "cell_type": "markdown",
   "source": [
    "**Pratical note:** this notebook reworks the Radek LGBM baseline to better compartmentalize candidate and feature generation, building upon the work of 02 - FE, and further inspired by Noah's template "
   ],
   "metadata": {
    "collapsed": false
   },
   "id": "e20da666a0ef1117"
  },
  {
   "cell_type": "code",
   "execution_count": 139,
   "outputs": [
    {
     "name": "stdout",
     "output_type": "stream",
     "text": [
      "The autoreload extension is already loaded. To reload it, use:\n",
      "  %reload_ext autoreload\n"
     ]
    }
   ],
   "source": [
    "import pandas as pd\n",
    "import numpy as np\n",
    "import seaborn as sns\n",
    "from tqdm.notebook import tqdm\n",
    "from lightgbm.sklearn import LGBMRanker\n",
    "\n",
    "import os\n",
    "import pathlib\n",
    "import json\n",
    "\n",
    "from FelixVernieuwe.util import *\n",
    "from scorers import mean_average_precision\n",
    "\n",
    "%load_ext autoreload\n",
    "%autoreload 2\n",
    "\n",
    "setup_seaborn()"
   ],
   "metadata": {
    "collapsed": false,
    "ExecuteTime": {
     "end_time": "2023-12-06T01:08:55.988889900Z",
     "start_time": "2023-12-06T01:08:55.915315700Z"
    }
   },
   "id": "45b18b37211c1233"
  },
  {
   "cell_type": "markdown",
   "source": [
    "<br><br><br><br><br><br>\n",
    "\n",
    "\n",
    "---\n",
    "## Run Configuration (SET YOUR VARIABLES HERE)\n",
    "---"
   ],
   "metadata": {
    "collapsed": false
   },
   "id": "66dde355376aa996"
  },
  {
   "cell_type": "code",
   "execution_count": 79,
   "outputs": [],
   "source": [
    "# Reference week (i.e. the last week of our training data, any week after this can be considered part of the test set)\n",
    "# In the current training set, the last week is 104, if we take this as reference, we will try to make predictions for week 105\n",
    "\n",
    "\n",
    "# Iff AMOUNT_OF_TEST_WEEKS > 0, then the model will be tested on itself (and evaluated with MAP), instead of the Kaggle score\n",
    "AMOUNT_OF_TEST_WEEKS = 2\n",
    "\n",
    "# How many weeks to train on\n",
    "TRAINING_INTERVAL = 3\n",
    "\n",
    "#Output additional graphs and information\n",
    "VERBOSE = True"
   ],
   "metadata": {
    "collapsed": false,
    "ExecuteTime": {
     "end_time": "2023-12-05T22:11:11.244035600Z",
     "start_time": "2023-12-05T22:11:10.567426400Z"
    }
   },
   "id": "de07944033842a1d"
  },
  {
   "cell_type": "code",
   "execution_count": 80,
   "outputs": [],
   "source": [
    "# Features to ignore (exclude from training and evaluation)\n",
    "FILTER_BASE_FEATURES = [\n",
    "    \n",
    "]\n",
    "\n",
    "ADDED_FEATURES = [\n",
    "    'bestseller_rank',\n",
    "    # 'has_promotion',\n",
    "    'all_time_rank', \n",
    "    # 'price_sensitivity'\n",
    "]\n",
    "\n",
    "# Candidates to add\n",
    "TRAIN_INTERVAL_CANDIDATES = [\n",
    "    \"weekly_bestsellers\",\n",
    "    \"previous_purchases\",\n",
    "    # \"new_arrivals\",\n",
    "    \"all_time_bestsellers\",\n",
    "]\n",
    "\n",
    "REFERENCE_WEEK_CANDIDATES = [\n",
    "    \"weekly_bestsellers\",\n",
    "    \"previous_purchases\",\n",
    "    # \"new_arrivals\",\n",
    "    # \"all_time_bestsellers\",\n",
    "]\n",
    "\n",
    "\n",
    "SUBMISSION_PREFIX = \"score_experiments\"\n",
    "CUSTOM_DESC = \"Feature baseline\""
   ],
   "metadata": {
    "collapsed": false,
    "ExecuteTime": {
     "end_time": "2023-12-05T22:11:11.244035600Z",
     "start_time": "2023-12-05T22:11:10.631774900Z"
    }
   },
   "id": "256b4d1134b19656"
  },
  {
   "cell_type": "code",
   "execution_count": 81,
   "outputs": [
    {
     "name": "stdout",
     "output_type": "stream",
     "text": [
      "None\n"
     ]
    }
   ],
   "source": [
    "# Environment variables\n",
    "DATA_PATH = \"../../data/\"\n",
    "OUTPUT_PATH = \"../../data/submissions/\"\n",
    "\n",
    "# Get OS profile root to get path to /.kaggle/kaggle.json\n",
    "PROFILE_ROOT = os.environ.get(\"HOME\", os.environ.get(\"USERPROFILE\", \"\"))\n",
    "KAGGLE_PATH = pathlib.Path(PROFILE_ROOT, \".kaggle/kaggle.json\").as_posix()\n",
    "print(initialise_kaggle(KAGGLE_PATH))"
   ],
   "metadata": {
    "collapsed": false,
    "ExecuteTime": {
     "end_time": "2023-12-05T22:11:11.244035600Z",
     "start_time": "2023-12-05T22:11:10.696344900Z"
    }
   },
   "id": "c01f1d2c60e46b7f"
  },
  {
   "cell_type": "markdown",
   "source": [
    "<br><br><br><br><br><br>\n",
    "\n",
    "\n",
    "---\n",
    "## Environment Setup\n",
    "---"
   ],
   "metadata": {
    "collapsed": false
   },
   "id": "913c28cf791b0a15"
  },
  {
   "cell_type": "code",
   "execution_count": 82,
   "outputs": [],
   "source": [
    "# Load in the datasets\n",
    "articles = pd.read_parquet(DATA_PATH + \"articles.parquet\")\n",
    "all_transactions = pd.read_parquet(DATA_PATH + \"transactions_train.parquet\")\n",
    "customers = pd.read_parquet(DATA_PATH + \"customers.parquet\")\n",
    "\n",
    "\n",
    "# Calculate the reference week\n",
    "REFERENCE_WEEK = all_transactions[\"week\"].max() - AMOUNT_OF_TEST_WEEKS + 1"
   ],
   "metadata": {
    "collapsed": false,
    "ExecuteTime": {
     "end_time": "2023-12-05T22:11:12.175806300Z",
     "start_time": "2023-12-05T22:11:10.767168300Z"
    }
   },
   "id": "78cac5a9667e39b5"
  },
  {
   "cell_type": "code",
   "execution_count": 83,
   "outputs": [],
   "source": [
    "# Features to train on\n",
    "all_base_features = [\n",
    "    'article_id', 'product_type_no', 'graphical_appearance_no', 'colour_group_code', 'perceived_colour_value_id',\n",
    "    'perceived_colour_master_id', 'department_no', 'index_code',\n",
    "    'index_group_no', 'section_no', 'garment_group_no', 'FN', 'Active',\n",
    "    'club_member_status', 'fashion_news_frequency', 'age', 'postal_code',    \n",
    "]\n",
    "\n",
    "# Custom features that were engineered\n",
    "all_added_features = [\n",
    "    'has_promotion', 'bestseller_rank', 'all_time_rank', 'price_sensitivity'\n",
    "]\n",
    "\n",
    "\n",
    "all_features = [feature for feature in all_base_features + ADDED_FEATURES if feature not in FILTER_BASE_FEATURES]\n",
    "\n",
    "\n",
    "def join_all_features(transactions, articles, customers):\n",
    "    # Join all features together\n",
    "    transactions = transactions.merge(articles, on=\"article_id\", how=\"left\")\n",
    "    transactions = transactions.merge(customers, on=\"customer_id\", how=\"left\")\n",
    "    \n",
    "    return transactions\n",
    "\n",
    "\n",
    "def filter_feature_data(data):\n",
    "    # Train only on available features in the data, and specified features above \n",
    "    available_features = [feature for feature in all_features if feature in data.columns]\n",
    "    \n",
    "    return data[available_features], available_features\n",
    "\n",
    "\n",
    "def clean_up_transaction_data(data):\n",
    "    # Clean up incoming data\n",
    "    data.drop_duplicates(['customer_id', 'article_id', 'week'], inplace=True)\n",
    "    data.sort_values(['week', 'customer_id'], inplace=True)\n",
    "    data.reset_index(drop=True, inplace=True)\n",
    "    \n",
    "    if \"bought\" not in data:\n",
    "        data[\"bought\"] = 1\n",
    "        \n",
    "    return data"
   ],
   "metadata": {
    "collapsed": false,
    "ExecuteTime": {
     "end_time": "2023-12-05T22:11:12.260461300Z",
     "start_time": "2023-12-05T22:11:12.179808400Z"
    }
   },
   "id": "863f556c93f6fd66"
  },
  {
   "cell_type": "code",
   "execution_count": 84,
   "outputs": [],
   "source": [
    "# Short feature/candidates description\n",
    "feature_notation = {\n",
    "    # Base features\n",
    "    \"article_id\": \"aid\",\n",
    "    \"product_type_no\": \"ptn\",\n",
    "    \"graphical_appearance_no\": \"gan\",\n",
    "    \"colour_group_code\": \"cgc\",\n",
    "    \"perceived_colour_value_id\": \"pcv\",\n",
    "    \"perceived_colour_master_id\": \"pcm\",\n",
    "    \"department_no\": \"dn\",\n",
    "    \"index_code\": \"ic\",\n",
    "    \"index_group_no\": \"ign\",\n",
    "    \"section_no\": \"sn\",\n",
    "    \"garment_group_no\": \"ggn\",\n",
    "    \"FN\": \"fn\",\n",
    "    \"Active\": \"a\",\n",
    "    \"club_member_status\": \"cms\",\n",
    "    \"fashion_news_frequency\": \"fnf\",\n",
    "    \"age\": \"a\",\n",
    "    \"postal_code\": \"pc\",\n",
    "    \n",
    "    # Custom features\n",
    "    \"has_promotion\": \"hp\",\n",
    "    \"bestseller_rank\": \"br\",\n",
    "    \"all_time_rank\": \"atr\",\n",
    "    \"price_sensitivity\": \"ps\",\n",
    "    \"bought\": \"b\",\n",
    "}\n",
    "\n",
    "candidate_notation = {\n",
    "    \"weekly_bestsellers\": \"wb\",\n",
    "    \"previous_purchases\": \"pp\",\n",
    "    \"new_arrivals\": \"na\",\n",
    "    \"all_time_bestsellers\": \"atb\",\n",
    "}\n",
    "\n",
    "\n",
    "# Output generation\n",
    "SUBMISSION_NUMBER = max([int(file[len(SUBMISSION_PREFIX) + 1:file.find(\"_\", len(SUBMISSION_PREFIX) + 1)]) for file in os.listdir(OUTPUT_PATH) if file.startswith(SUBMISSION_PREFIX)], default=0) + 1\n",
    "\n",
    "REMOVED_BASE_FEATURES = \",\".join([\"-\" + feature_notation[feature] for feature in FILTER_BASE_FEATURES])\n",
    "LIST_ADDED_FEATURES = \",\".join([feature_notation[feature] for feature in ADDED_FEATURES])\n",
    "LIST_TRAIN_CANDIDATES = \",\".join([candidate_notation[candidate] for candidate in TRAIN_INTERVAL_CANDIDATES])\n",
    "LIST_REF_WEEK_CANDIDATES = \",\".join([candidate_notation[candidate] for candidate in REFERENCE_WEEK_CANDIDATES])\n",
    "\n",
    "if REMOVED_BASE_FEATURES != \"\":\n",
    "    REMOVED_BASE_FEATURES = f\"[r_{REMOVED_BASE_FEATURES}]_\"\n",
    "if LIST_ADDED_FEATURES != \"\":\n",
    "    LIST_ADDED_FEATURES = f\"[a_{LIST_ADDED_FEATURES}]_\"\n",
    "if LIST_TRAIN_CANDIDATES != \"\":\n",
    "    LIST_TRAIN_CANDIDATES = f\"[tc_{LIST_TRAIN_CANDIDATES}]\"\n",
    "if LIST_REF_WEEK_CANDIDATES != \"\":\n",
    "    LIST_REF_WEEK_CANDIDATES = f\"[rwc_{LIST_REF_WEEK_CANDIDATES}]\"\n",
    "\n",
    "SUBMISSION_METADATA = f\"[t_{TRAINING_INTERVAL},w_{REFERENCE_WEEK}]_{REMOVED_BASE_FEATURES}{LIST_ADDED_FEATURES}{LIST_TRAIN_CANDIDATES}{LIST_REF_WEEK_CANDIDATES}\"\n",
    "\n",
    "\n",
    "SUBMISSION_NAME = f\"{SUBMISSION_PREFIX}_{SUBMISSION_NUMBER}_submission_{SUBMISSION_METADATA}\"\n",
    "DESCRIPTION = f\"Experiment {SUBMISSION_NUMBER}: {CUSTOM_DESC} {SUBMISSION_METADATA}\".replace(\"_\", \" \")\n",
    "\n",
    "\n",
    "\n",
    "UPLOAD_TO_KAGGLE = True\n",
    "INCLUDE_MISSING_CUSTOMERS = False"
   ],
   "metadata": {
    "collapsed": false,
    "ExecuteTime": {
     "end_time": "2023-12-05T22:11:12.353144600Z",
     "start_time": "2023-12-05T22:11:12.265459300Z"
    }
   },
   "id": "342f936d39ec0602"
  },
  {
   "cell_type": "markdown",
   "source": [
    "<br><br><br><br><br><br>\n",
    "\n",
    "---\n",
    "## Feature Engineering\n",
    "---"
   ],
   "metadata": {
    "collapsed": false
   },
   "id": "6c7552cca43892cd"
  },
  {
   "cell_type": "code",
   "execution_count": 85,
   "outputs": [],
   "source": [
    "from features import *\n",
    "from candidates import *\n",
    "from data import *"
   ],
   "metadata": {
    "collapsed": false,
    "ExecuteTime": {
     "end_time": "2023-12-05T22:11:12.442537900Z",
     "start_time": "2023-12-05T22:11:12.354143Z"
    }
   },
   "id": "134a8eb66466499b"
  },
  {
   "cell_type": "code",
   "execution_count": 86,
   "outputs": [],
   "source": [
    "# Filter out all transactions that are outside of the training interval\n",
    "transactions = all_transactions[all_transactions[\"week\"] >= REFERENCE_WEEK - TRAINING_INTERVAL]"
   ],
   "metadata": {
    "collapsed": false,
    "ExecuteTime": {
     "end_time": "2023-12-05T22:11:12.578532200Z",
     "start_time": "2023-12-05T22:11:12.443537400Z"
    }
   },
   "id": "d87c3ccb606786e1"
  },
  {
   "cell_type": "code",
   "execution_count": 87,
   "outputs": [],
   "source": [
    "# Split into train and test set\n",
    "# DISCLAIMER: this concept was copied from Noah's ExperimentTemplate notebook (test_data is used for offline evaluation)\n",
    "train_data, test_data = split_dataframe(transactions, transactions[\"week\"] <= REFERENCE_WEEK)"
   ],
   "metadata": {
    "collapsed": false,
    "ExecuteTime": {
     "end_time": "2023-12-05T22:11:12.695586700Z",
     "start_time": "2023-12-05T22:11:12.581532800Z"
    }
   },
   "id": "52bf4931de9a69dc"
  },
  {
   "cell_type": "markdown",
   "source": [
    "#### General feature data\n",
    "(does not get added to the training data, but is used to generate candidates)"
   ],
   "metadata": {
    "collapsed": false
   },
   "id": "fffeae90d45292cf"
  },
  {
   "cell_type": "code",
   "execution_count": 88,
   "outputs": [
    {
     "name": "stdout",
     "output_type": "stream",
     "text": [
      "CPU times: total: 172 ms\n",
      "Wall time: 172 ms\n"
     ]
    }
   ],
   "source": [
    "%%time\n",
    "bestsellers_per_week = most_sold_per_week(train_data)"
   ],
   "metadata": {
    "collapsed": false,
    "ExecuteTime": {
     "end_time": "2023-12-05T22:11:12.941555600Z",
     "start_time": "2023-12-05T22:11:12.696588300Z"
    }
   },
   "id": "f218c535e89faad7"
  },
  {
   "cell_type": "code",
   "execution_count": 89,
   "outputs": [
    {
     "name": "stdout",
     "output_type": "stream",
     "text": [
      "CPU times: total: 46.9 ms\n",
      "Wall time: 31.5 ms\n"
     ]
    }
   ],
   "source": [
    "%%time\n",
    "most_sold_all_time = most_sold_all_time(train_data)"
   ],
   "metadata": {
    "collapsed": false,
    "ExecuteTime": {
     "end_time": "2023-12-05T22:11:13.037786500Z",
     "start_time": "2023-12-05T22:11:12.934551800Z"
    }
   },
   "id": "b370cc4a9390feac"
  },
  {
   "cell_type": "code",
   "execution_count": 90,
   "outputs": [
    {
     "name": "stdout",
     "output_type": "stream",
     "text": [
      "CPU times: total: 62.5 ms\n",
      "Wall time: 79.5 ms\n"
     ]
    }
   ],
   "source": [
    "%%time\n",
    "purchase_price_per_week = get_weekly_purchase_price(train_data)"
   ],
   "metadata": {
    "collapsed": false,
    "ExecuteTime": {
     "end_time": "2023-12-05T22:11:13.175684100Z",
     "start_time": "2023-12-05T22:11:13.030251100Z"
    }
   },
   "id": "8bcf4c2ed83cdffb"
  },
  {
   "cell_type": "code",
   "execution_count": 91,
   "outputs": [
    {
     "name": "stdout",
     "output_type": "stream",
     "text": [
      "CPU times: total: 28 s\n",
      "Wall time: 28.5 s\n"
     ]
    }
   ],
   "source": [
    "%%time\n",
    "customer_sales_channel_per_week = get_most_common_sales_channel(train_data)"
   ],
   "metadata": {
    "collapsed": false,
    "ExecuteTime": {
     "end_time": "2023-12-05T22:11:41.792798900Z",
     "start_time": "2023-12-05T22:11:13.176682Z"
    }
   },
   "id": "babc3139294e66f4"
  },
  {
   "cell_type": "markdown",
   "source": [
    "#### General customer candidate data\n",
    "(determines which customers are applicable for candidate generation)"
   ],
   "metadata": {
    "collapsed": false
   },
   "id": "f56666bdf7592d00"
  },
  {
   "cell_type": "code",
   "execution_count": 92,
   "outputs": [
    {
     "name": "stdout",
     "output_type": "stream",
     "text": [
      "CPU times: total: 203 ms\n",
      "Wall time: 191 ms\n"
     ]
    }
   ],
   "source": [
    "%%time\n",
    "candidate_customers, ref_week_candidate_customers = get_buying_customers_candidates(train_data, REFERENCE_WEEK)\n",
    "train_candidates = []\n",
    "ref_week_candidates = []"
   ],
   "metadata": {
    "collapsed": false,
    "ExecuteTime": {
     "end_time": "2023-12-05T22:11:42.093736500Z",
     "start_time": "2023-12-05T22:11:41.785801400Z"
    }
   },
   "id": "cb94dd7795a79054"
  },
  {
   "cell_type": "markdown",
   "source": [
    "#### Global Candidates (apply to every person)"
   ],
   "metadata": {
    "collapsed": false
   },
   "id": "b8b55d07aaa24a64"
  },
  {
   "cell_type": "code",
   "execution_count": 93,
   "outputs": [
    {
     "name": "stdout",
     "output_type": "stream",
     "text": [
      "CPU times: total: 266 ms\n",
      "Wall time: 283 ms\n"
     ]
    }
   ],
   "source": [
    "%%time\n",
    "# Add weekly bestsellers to each candidate customer as transaction candidates\n",
    "if \"weekly_bestsellers\" in TRAIN_INTERVAL_CANDIDATES:\n",
    "    train_candidates.append(candidate_bestsellers_weekly(candidate_customers, bestsellers_per_week))\n",
    "if \"weekly_bestsellers\" in REFERENCE_WEEK_CANDIDATES:\n",
    "    ref_week_candidates.append(candidate_bestsellers_weekly(ref_week_candidate_customers, bestsellers_per_week))"
   ],
   "metadata": {
    "collapsed": false,
    "ExecuteTime": {
     "end_time": "2023-12-05T22:11:42.433275Z",
     "start_time": "2023-12-05T22:11:42.086483500Z"
    }
   },
   "id": "8d9930568904415c"
  },
  {
   "cell_type": "code",
   "execution_count": 94,
   "outputs": [
    {
     "name": "stdout",
     "output_type": "stream",
     "text": [
      "CPU times: total: 125 ms\n",
      "Wall time: 142 ms\n"
     ]
    }
   ],
   "source": [
    "%%time\n",
    "# Add all time bestsellers to each candidate customer as transaction candidates\n",
    "if \"all_time_bestsellers\" in TRAIN_INTERVAL_CANDIDATES:\n",
    "    train_all_time_bestsellers = candidate_bestsellers_all_time(candidate_customers, most_sold_all_time)\n",
    "    train_candidates.append(train_all_time_bestsellers)\n",
    "if \"all_time_bestsellers\" in REFERENCE_WEEK_CANDIDATES:\n",
    "    ref_week_all_time_bestsellers = candidate_bestsellers_all_time(ref_week_candidate_customers, most_sold_all_time)\n",
    "    ref_week_candidates.append(ref_week_all_time_bestsellers)"
   ],
   "metadata": {
    "collapsed": false,
    "ExecuteTime": {
     "end_time": "2023-12-05T22:11:42.648414300Z",
     "start_time": "2023-12-05T22:11:42.434278Z"
    }
   },
   "id": "5387ef5c72f74a94"
  },
  {
   "cell_type": "code",
   "execution_count": 95,
   "outputs": [
    {
     "name": "stdout",
     "output_type": "stream",
     "text": [
      "CPU times: total: 0 ns\n",
      "Wall time: 0 ns\n"
     ]
    }
   ],
   "source": [
    "%%time\n",
    "# Add new arrivals to each candidate customer as transaction candidates\n",
    "if \"new_arrivals\" in TRAIN_INTERVAL_CANDIDATES:\n",
    "    train_candidates.append(candidate_new_arrivals(candidate_customers, all_transactions, purchase_price_per_week, REFERENCE_WEEK))\n",
    "if \"new_arrivals\" in REFERENCE_WEEK_CANDIDATES:\n",
    "    ref_week_candidates.append(candidate_new_arrivals(ref_week_candidate_customers, all_transactions, purchase_price_per_week, REFERENCE_WEEK))"
   ],
   "metadata": {
    "collapsed": false,
    "ExecuteTime": {
     "end_time": "2023-12-05T22:11:42.713449800Z",
     "start_time": "2023-12-05T22:11:42.641413900Z"
    }
   },
   "id": "46de7e520a101205"
  },
  {
   "cell_type": "markdown",
   "source": [
    "#### Contextual Candidates (apply to groups of people)"
   ],
   "metadata": {
    "collapsed": false
   },
   "id": "efa9a3583cc9d9ad"
  },
  {
   "cell_type": "code",
   "execution_count": 96,
   "outputs": [],
   "source": [
    "# "
   ],
   "metadata": {
    "collapsed": false,
    "ExecuteTime": {
     "end_time": "2023-12-05T22:11:42.776323300Z",
     "start_time": "2023-12-05T22:11:42.707449800Z"
    }
   },
   "id": "6c086a44dc86089c"
  },
  {
   "cell_type": "markdown",
   "source": [
    "#### Personalised Candidates (apply to individuals)"
   ],
   "metadata": {
    "collapsed": false
   },
   "id": "e624bde9c1062c35"
  },
  {
   "cell_type": "markdown",
   "source": [],
   "metadata": {
    "collapsed": false
   },
   "id": "fba1a77035918121"
  },
  {
   "cell_type": "code",
   "execution_count": 97,
   "outputs": [
    {
     "name": "stdout",
     "output_type": "stream",
     "text": [
      "CPU times: total: 25.5 s\n",
      "Wall time: 26.1 s\n"
     ]
    }
   ],
   "source": [
    "%%time\n",
    "# Recall previous purchases of customers (i.e. repeat article in the next week)\n",
    "if \"previous_purchases\" in TRAIN_INTERVAL_CANDIDATES or \"previous_purchases\" in REFERENCE_WEEK_CANDIDATES:\n",
    "    previous_purchase_candidates = candidate_previous_purchases(train_data, REFERENCE_WEEK)\n",
    "    \n",
    "    # Split dataframe into reference week and training week\n",
    "    train_repurchase_candidates, ref_week_repurchase_candidates = split_dataframe(previous_purchase_candidates, previous_purchase_candidates[\"week\"] < REFERENCE_WEEK)\n",
    "    \n",
    "    if \"previous_purchases\" in TRAIN_INTERVAL_CANDIDATES:\n",
    "        train_candidates.append(train_repurchase_candidates)\n",
    "    if \"previous_purchases\" in REFERENCE_WEEK_CANDIDATES:\n",
    "        ref_week_candidates.append(ref_week_repurchase_candidates)"
   ],
   "metadata": {
    "collapsed": false,
    "ExecuteTime": {
     "end_time": "2023-12-05T22:12:08.949695Z",
     "start_time": "2023-12-05T22:11:42.776323300Z"
    }
   },
   "id": "4643dae944866b57"
  },
  {
   "cell_type": "markdown",
   "source": [
    "### Combine Candidates"
   ],
   "metadata": {
    "collapsed": false
   },
   "id": "1d2b250f99136a6c"
  },
  {
   "cell_type": "code",
   "execution_count": 98,
   "outputs": [
    {
     "name": "stderr",
     "output_type": "stream",
     "text": [
      "<timed exec>:1: SettingWithCopyWarning: \n",
      "A value is trying to be set on a copy of a slice from a DataFrame.\n",
      "Try using .loc[row_indexer,col_indexer] = value instead\n",
      "\n",
      "See the caveats in the documentation: https://pandas.pydata.org/pandas-docs/stable/user_guide/indexing.html#returning-a-view-versus-a-copy\n"
     ]
    },
    {
     "name": "stdout",
     "output_type": "stream",
     "text": [
      "CPU times: total: 2.11 s\n",
      "Wall time: 2.18 s\n"
     ]
    }
   ],
   "source": [
    "%%time\n",
    "train_data[\"bought\"] = 1\n",
    "\n",
    "# Add all candidates together with the training data\n",
    "train_data = pd.concat([train_data] + train_candidates + ref_week_candidates, ignore_index=True)\n",
    "train_data.fillna(0, inplace=True)\n",
    "\n",
    "# Drop duplicate candidates and transactions\n",
    "train_data.drop_duplicates([\"customer_id\", \"article_id\", \"week\"], inplace=True)"
   ],
   "metadata": {
    "collapsed": false,
    "ExecuteTime": {
     "end_time": "2023-12-05T22:12:11.214493500Z",
     "start_time": "2023-12-05T22:12:08.942692800Z"
    }
   },
   "id": "cbf6b0d8ea97ac11"
  },
  {
   "cell_type": "markdown",
   "source": [
    "#### Features"
   ],
   "metadata": {
    "collapsed": false
   },
   "id": "ec04bd0881a2cc7a"
  },
  {
   "cell_type": "code",
   "execution_count": 99,
   "outputs": [
    {
     "name": "stdout",
     "output_type": "stream",
     "text": [
      "CPU times: total: 578 ms\n",
      "Wall time: 605 ms\n"
     ]
    }
   ],
   "source": [
    "%%time\n",
    "# Weekly Bestseller feature\n",
    "if \"bestseller_rank\" in all_features:\n",
    "    train_data = weekly_bestseller_feature(train_data, bestsellers_per_week)"
   ],
   "metadata": {
    "collapsed": false,
    "ExecuteTime": {
     "end_time": "2023-12-05T22:12:11.883052700Z",
     "start_time": "2023-12-05T22:12:11.215490400Z"
    }
   },
   "id": "4e4717b322b793f9"
  },
  {
   "cell_type": "code",
   "execution_count": 100,
   "outputs": [
    {
     "name": "stdout",
     "output_type": "stream",
     "text": [
      "CPU times: total: 531 ms\n",
      "Wall time: 532 ms\n"
     ]
    }
   ],
   "source": [
    "%%time\n",
    "# All time Bestseller feature\n",
    "if \"all_time_rank\" in all_features:\n",
    "    train_data = overal_bestseller_feature(train_data, most_sold_all_time)"
   ],
   "metadata": {
    "collapsed": false,
    "ExecuteTime": {
     "end_time": "2023-12-05T22:12:12.489275400Z",
     "start_time": "2023-12-05T22:12:11.884057Z"
    }
   },
   "id": "7f3ea25b1edee6d8"
  },
  {
   "cell_type": "code",
   "execution_count": 101,
   "outputs": [
    {
     "name": "stdout",
     "output_type": "stream",
     "text": [
      "CPU times: total: 0 ns\n",
      "Wall time: 0 ns\n"
     ]
    }
   ],
   "source": [
    "%%time\n",
    "# Price sensitivity feature\n",
    "if \"price_sensitivity\" in all_features:\n",
    "    train_data = price_sensitivity_feature(train_data, customers)"
   ],
   "metadata": {
    "collapsed": false,
    "ExecuteTime": {
     "end_time": "2023-12-05T22:12:12.552202700Z",
     "start_time": "2023-12-05T22:12:12.480277500Z"
    }
   },
   "id": "aefbdc3a16ea5010"
  },
  {
   "cell_type": "code",
   "execution_count": 102,
   "outputs": [
    {
     "name": "stdout",
     "output_type": "stream",
     "text": [
      "CPU times: total: 0 ns\n",
      "Wall time: 0 ns\n"
     ]
    }
   ],
   "source": [
    "%%time\n",
    "# New arrivals feature\n",
    "if \"new_arrival\" in all_features:\n",
    "    train_data = product_age_feature(all_transactions, train_data)"
   ],
   "metadata": {
    "collapsed": false,
    "ExecuteTime": {
     "end_time": "2023-12-05T22:12:12.610336300Z",
     "start_time": "2023-12-05T22:12:12.545202800Z"
    }
   },
   "id": "eca37c56d71c96ab"
  },
  {
   "cell_type": "code",
   "execution_count": 103,
   "outputs": [
    {
     "name": "stdout",
     "output_type": "stream",
     "text": [
      "CPU times: total: 0 ns\n",
      "Wall time: 0 ns\n"
     ]
    }
   ],
   "source": [
    "%%time\n",
    "# Promotion feature\n",
    "if \"has_promotion\" in all_features:\n",
    "    train_data = discount_feature(train_data)"
   ],
   "metadata": {
    "collapsed": false,
    "ExecuteTime": {
     "end_time": "2023-12-05T22:12:12.673336500Z",
     "start_time": "2023-12-05T22:12:12.611339200Z"
    }
   },
   "id": "803b7c8737fd6f04"
  },
  {
   "cell_type": "markdown",
   "source": [
    "#### Final clean-up"
   ],
   "metadata": {
    "collapsed": false
   },
   "id": "674bb07fc0817b4f"
  },
  {
   "cell_type": "code",
   "execution_count": 104,
   "outputs": [],
   "source": [
    "# Removes the first week of the training data (since it does not have any data it can base itself on for some features)\n",
    "train_data = train_data[train_data['week'] != train_data['week'].min()]"
   ],
   "metadata": {
    "collapsed": false,
    "ExecuteTime": {
     "end_time": "2023-12-05T22:12:13.007826Z",
     "start_time": "2023-12-05T22:12:12.674338100Z"
    }
   },
   "id": "398840c716069c9e"
  },
  {
   "cell_type": "markdown",
   "source": [
    "<br><br><br><br><br><br>\n",
    "\n",
    "---\n",
    "## Similarity generation\n",
    "---"
   ],
   "metadata": {
    "collapsed": false
   },
   "id": "326aa933b6c3d611"
  },
  {
   "cell_type": "markdown",
   "source": [
    "<br><br><br><br><br><br>\n",
    "\n",
    "---\n",
    "## Model Training\n",
    "---"
   ],
   "metadata": {
    "collapsed": false
   },
   "id": "fce01ac06aa7334d"
  },
  {
   "cell_type": "code",
   "execution_count": 105,
   "outputs": [],
   "source": [
    "# Data clean-up\n",
    "train_data = clean_up_transaction_data(train_data)\n",
    "\n",
    "# Split training data into two sets\n",
    "train_data, test_candidates = split_dataframe(train_data, train_data[\"week\"] < REFERENCE_WEEK)"
   ],
   "metadata": {
    "collapsed": false,
    "ExecuteTime": {
     "end_time": "2023-12-05T22:12:15.427254100Z",
     "start_time": "2023-12-05T22:12:13.011114900Z"
    }
   },
   "id": "21c9072a56bf255"
  },
  {
   "cell_type": "code",
   "execution_count": 106,
   "outputs": [],
   "source": [
    "# Join all features together\n",
    "train_data = join_all_features(train_data, articles, customers)\n",
    "\n",
    "# Gives amount of items purchased per customer per week (used for training the ranking)\n",
    "train_bins = train_data.groupby([\"week\", \"customer_id\"])[\"article_id\"].count().values\n",
    "\n",
    "# Train only on specified features\n",
    "train_X, available_features = filter_feature_data(train_data)\n",
    "train_y = train_data[\"bought\"]"
   ],
   "metadata": {
    "collapsed": false,
    "ExecuteTime": {
     "end_time": "2023-12-05T22:12:16.587577800Z",
     "start_time": "2023-12-05T22:12:15.428255400Z"
    }
   },
   "id": "fdde95a01fd543fe"
  },
  {
   "cell_type": "code",
   "execution_count": 107,
   "outputs": [
    {
     "name": "stdout",
     "output_type": "stream",
     "text": [
      "[LightGBM] [Debug] Dataset::GetMultiBinFromAllFeatures: sparse rate 0.123371\n",
      "[LightGBM] [Info] Total Bins 1129\n",
      "[LightGBM] [Info] Number of data points in the train set: 3096891, number of used features: 18\n",
      "[LightGBM] [Debug] Trained a tree with leaves = 31 and depth = 16\n",
      "[LightGBM] [Debug] Trained a tree with leaves = 31 and depth = 13\n",
      "[LightGBM] [Debug] Trained a tree with leaves = 31 and depth = 13\n",
      "[LightGBM] [Debug] Trained a tree with leaves = 31 and depth = 12\n",
      "[LightGBM] [Debug] Trained a tree with leaves = 31 and depth = 12\n",
      "[LightGBM] [Debug] Trained a tree with leaves = 31 and depth = 13\n",
      "[LightGBM] [Debug] Trained a tree with leaves = 31 and depth = 15\n",
      "[LightGBM] [Debug] Trained a tree with leaves = 31 and depth = 14\n",
      "CPU times: total: 9.05 s\n",
      "Wall time: 1.37 s\n"
     ]
    }
   ],
   "source": [
    "%%time\n",
    "ranker = LGBMRanker(\n",
    "    force_row_wise=True,\n",
    "    objective=\"lambdarank\",\n",
    "    metric=\"ndcg\",\n",
    "    boosting_type=\"dart\",\n",
    "    n_estimators=8,\n",
    "    importance_type='gain',\n",
    "    verbose=10 if VERBOSE else 0,\n",
    ")\n",
    "\n",
    "ranker = ranker.fit(train_X, train_y, group=train_bins)\n",
    "\n",
    "# Get the relative importance of the feature according to the ranker\n",
    "feature_importance = feature_importance_df(ranker, available_features)"
   ],
   "metadata": {
    "collapsed": false,
    "ExecuteTime": {
     "end_time": "2023-12-05T22:12:18.693674200Z",
     "start_time": "2023-12-05T22:12:16.588577800Z"
    }
   },
   "id": "fc9e9b16eef76378"
  },
  {
   "cell_type": "code",
   "execution_count": 108,
   "outputs": [
    {
     "name": "stderr",
     "output_type": "stream",
     "text": [
      "A:\\Programs\\miniconda3\\Lib\\site-packages\\seaborn\\_oldcore.py:1498: FutureWarning: is_categorical_dtype is deprecated and will be removed in a future version. Use isinstance(dtype, CategoricalDtype) instead\n",
      "  if pd.api.types.is_categorical_dtype(vector):\n",
      "A:\\Programs\\miniconda3\\Lib\\site-packages\\seaborn\\_oldcore.py:1498: FutureWarning: is_categorical_dtype is deprecated and will be removed in a future version. Use isinstance(dtype, CategoricalDtype) instead\n",
      "  if pd.api.types.is_categorical_dtype(vector):\n",
      "A:\\Programs\\miniconda3\\Lib\\site-packages\\seaborn\\_oldcore.py:1498: FutureWarning: is_categorical_dtype is deprecated and will be removed in a future version. Use isinstance(dtype, CategoricalDtype) instead\n",
      "  if pd.api.types.is_categorical_dtype(vector):\n",
      "A:\\Python\\ai-project-23-24\\FelixVernieuwe\\util.py:186: UserWarning: set_ticklabels() should only be used with a fixed number of ticks, i.e. after set_ticks() or using a FixedLocator.\n",
      "  plot.set_xticklabels([\"{:.1f}%\".format(x) for x in plot.get_xticks()])\n"
     ]
    },
    {
     "data": {
      "text/plain": "<Figure size 1500x1000 with 1 Axes>",
      "image/png": "[encoded data removed]"
     },
     "metadata": {},
     "output_type": "display_data"
    }
   ],
   "source": [
    "# Graph importances on bar chart\n",
    "if VERBOSE:\n",
    "    graph_feature_importance(feature_importance)"
   ],
   "metadata": {
    "collapsed": false,
    "ExecuteTime": {
     "end_time": "2023-12-05T22:12:18.693674200Z",
     "start_time": "2023-12-05T22:12:18.023721100Z"
    }
   },
   "id": "16c656a79d660e85"
  },
  {
   "cell_type": "raw",
   "source": [],
   "metadata": {
    "collapsed": false
   },
   "id": "a27279504ea99c9"
  },
  {
   "cell_type": "markdown",
   "source": [
    "<br><br><br><br><br><br>\n",
    "\n",
    "---\n",
    "## Prediction generation\n",
    "---"
   ],
   "metadata": {
    "collapsed": false
   },
   "id": "c8fc354c95884c4e"
  },
  {
   "cell_type": "code",
   "execution_count": 109,
   "outputs": [],
   "source": [
    "test_candidates = test_candidates.drop_duplicates([\"customer_id\", \"article_id\", \"sales_channel_id\"]).copy()\n",
    "test_candidates = join_all_features(test_candidates, articles, customers)\n",
    "test_X, available_features = filter_feature_data(test_candidates)"
   ],
   "metadata": {
    "collapsed": false,
    "ExecuteTime": {
     "end_time": "2023-12-05T22:12:20.494991Z",
     "start_time": "2023-12-05T22:12:18.610136200Z"
    }
   },
   "id": "5095b6fc7dc283e1"
  },
  {
   "cell_type": "code",
   "execution_count": 110,
   "outputs": [],
   "source": [
    "def calculate_predictions(candidates, features, ranker, k=12):\n",
    "    \"\"\"\n",
    "    Retrieves dataframe for top 12 candidate articles per customer\n",
    "    NOTE: Partially adapted from Noah's ExperimentTemplate notebook\n",
    "    \n",
    "    :param candidates: Filtered dataframe combining only selected features\n",
    "    :param features: Filtered dataframe combining the features of transactions, articles and customers\n",
    "    :param ranker: Trained ranker model\n",
    "    :param k: Number of articles to predict per customer\n",
    "    :return: Dataframe containing the top k articles per customer\n",
    "    \"\"\"\n",
    "\n",
    "    # Predict on test set\n",
    "    features = features.copy()\n",
    "    features[\"score\"] = ranker.predict(candidates)\n",
    "    features.sort_values([\"customer_id\", \"score\"], ascending=False, inplace=True)\n",
    "    features = features.groupby(\"customer_id\").head(k).reset_index(drop=True)\n",
    "    \n",
    "    return features[[\"article_id\", \"customer_id\", \"score\"]]"
   ],
   "metadata": {
    "collapsed": false,
    "ExecuteTime": {
     "end_time": "2023-12-05T22:12:20.561838500Z",
     "start_time": "2023-12-05T22:12:20.495987900Z"
    }
   },
   "id": "6031a242446cf710"
  },
  {
   "cell_type": "code",
   "execution_count": 111,
   "outputs": [],
   "source": [
    "predicted_candidates = calculate_predictions(test_X, test_candidates, ranker)"
   ],
   "metadata": {
    "collapsed": false,
    "ExecuteTime": {
     "end_time": "2023-12-05T22:12:23.029130500Z",
     "start_time": "2023-12-05T22:12:20.562839Z"
    }
   },
   "id": "41b515cbf29db3f0"
  },
  {
   "cell_type": "markdown",
   "source": [
    "<br><br><br><br><br><br>\n",
    "\n",
    "---\n",
    "## Model Evaluation / Submission\n",
    "---"
   ],
   "metadata": {
    "collapsed": false
   },
   "id": "a445360f6e3d25cd"
  },
  {
   "cell_type": "code",
   "execution_count": 112,
   "outputs": [],
   "source": [
    "# Products that also may prove to be generally interesting (excluding bestsellers)\n",
    "# interesting_products = []\n",
    "# if promoted_articles is not None:\n",
    "#     current_promos = promoted_articles[promoted_articles[\"week\"] == REFERENCE_WEEK - 1]\n",
    "#     bestsellers_df = pd.DataFrame({\"article_id\": bestsellers})\n",
    "#     interesting_products = bestsellers_df.merge(current_promos, on=\"article_id\", how=\"inner\")\n",
    "#     interesting_products = interesting_products[interesting_products[\"has_promotion\"] == True][\"article_id\"].tolist()\n",
    "\n",
    "# Bestselling products in the previous week\n",
    "bestsellers = transactions[transactions[\"week\"] == REFERENCE_WEEK - 1][\"article_id\"].value_counts().head(12).index.tolist()\n",
    "# interesting_products = set(interesting_products)"
   ],
   "metadata": {
    "collapsed": false,
    "ExecuteTime": {
     "end_time": "2023-12-05T22:12:23.106141600Z",
     "start_time": "2023-12-05T22:12:23.030130500Z"
    }
   },
   "id": "53718059c6cd0ecc"
  },
  {
   "cell_type": "code",
   "execution_count": 113,
   "outputs": [],
   "source": [
    "predicted_candidates = predicted_candidates[[\"article_id\", \"customer_id\"]]"
   ],
   "metadata": {
    "collapsed": false,
    "ExecuteTime": {
     "end_time": "2023-12-05T22:12:23.191864900Z",
     "start_time": "2023-12-05T22:12:23.107139400Z"
    }
   },
   "id": "a50e78e40d9573d0"
  },
  {
   "cell_type": "code",
   "execution_count": 114,
   "outputs": [],
   "source": [
    "# Add extra articles to customers that do not have any predictions\n",
    "missing_customers = pd.DataFrame({\"customer_id\": customers[\"customer_id\"].unique()})\n",
    "missing_customers = missing_customers[~missing_customers[\"customer_id\"].isin(test_candidates[\"customer_id\"].unique())]\n",
    "missing_customers = missing_customers.merge(pd.DataFrame({\"article_id\": bestsellers}), how=\"cross\")\n",
    "\n",
    "# Join the two dataframes together (predicted candidates and missing customers)\n",
    "predicted_candidates = pd.concat([predicted_candidates, missing_customers], ignore_index=True)"
   ],
   "metadata": {
    "collapsed": false,
    "ExecuteTime": {
     "end_time": "2023-12-05T22:12:23.775575800Z",
     "start_time": "2023-12-05T22:12:23.192864100Z"
    }
   },
   "id": "63a9abe4eaa6b7c4"
  },
  {
   "cell_type": "code",
   "execution_count": 115,
   "outputs": [
    {
     "name": "stdout",
     "output_type": "stream",
     "text": [
      "score_experiments_18_submission_[t_3,w_103]_[a_br,atr]_[tc_wb,pp,atb][rwc_wb,pp]\n",
      "MAP: 0.02227345012785735\n",
      "CPU times: total: 30.7 s\n",
      "Wall time: 31.9 s\n"
     ]
    }
   ],
   "source": [
    "%%time\n",
    "# DISCLAIMER: Evaluate test set/leaderboard concept copied from Noah's ExperimentTemplate notebook\n",
    "\n",
    "# Evaluate on the test set (known data)\n",
    "if test_data.empty is False:\n",
    "    # Filter test_data to only the reference week\n",
    "    ground_truth_purchases = test_data[test_data[\"week\"] > REFERENCE_WEEK]\n",
    "    \n",
    "    # Get dataframe of customers and their bought articles, grouped by customer and as set, for convenient comparison operations\n",
    "    ground_truth_purchases = ground_truth_purchases.groupby(\"customer_id\")[\"article_id\"].apply(set).reset_index()\n",
    "    predicted_purchases = predicted_candidates.groupby(\"customer_id\")[\"article_id\"].apply(list).reset_index()\n",
    "\n",
    "    # Rename column to match the predicted candidates\n",
    "    ground_truth_purchases.rename(columns={\"article_id\": \"purchases\"}, inplace=True)\n",
    "    predicted_purchases.rename(columns={\"article_id\": \"predictions\"}, inplace=True)\n",
    "    \n",
    "    truth_prediction = mean_average_precision(predicted_purchases, ground_truth_purchases)\n",
    "    print(SUBMISSION_NAME)\n",
    "    print(f\"MAP: {truth_prediction}\")"
   ],
   "metadata": {
    "collapsed": false,
    "ExecuteTime": {
     "end_time": "2023-12-05T22:12:55.711318600Z",
     "start_time": "2023-12-05T22:12:23.776580800Z"
    }
   },
   "id": "f18d963e43199c74"
  },
  {
   "cell_type": "code",
   "execution_count": 116,
   "outputs": [
    {
     "name": "stdout",
     "output_type": "stream",
     "text": [
      "CPU times: total: 0 ns\n",
      "Wall time: 997 µs\n"
     ]
    }
   ],
   "source": [
    "%%time\n",
    "# Evaluate on leaderboard set (unknown data)\n",
    "if test_data.empty is True:  \n",
    "    # Read in sample submission (customer_id, prediction)\n",
    "    submission = pd.read_csv(DATA_PATH + \"sample_submission.csv\")\n",
    "    \n",
    "    # Convert to a dictionary and replaces the sample submission predictions with our own\n",
    "    predictions = generate_submission_df(submission, predicted_candidates)\n",
    "       \n",
    "    # Write submission to zipped csv\n",
    "    predictions.to_csv(OUTPUT_PATH + f\"{SUBMISSION_NAME}.csv.gz\", index=False)\n",
    "    \n",
    "    # Upload to kaggle\n",
    "    if UPLOAD_TO_KAGGLE:\n",
    "        result = upload_to_kaggle(OUTPUT_PATH + f\"{SUBMISSION_NAME}.csv.gz\", DESCRIPTION)\n",
    "        # Pretty print result\n",
    "        print(json.dumps(result.__dict__, indent=4))"
   ],
   "metadata": {
    "collapsed": false,
    "ExecuteTime": {
     "end_time": "2023-12-05T22:12:55.821780300Z",
     "start_time": "2023-12-05T22:12:55.712318300Z"
    }
   },
   "id": "65f6556427b5faa9"
  },
  {
   "cell_type": "markdown",
   "source": [],
   "metadata": {
    "collapsed": false
   },
   "id": "d3b55ce74f95df8a"
  }
 ],
 "metadata": {
  "kernelspec": {
   "display_name": "Python 3",
   "language": "python",
   "name": "python3"
  },
  "language_info": {
   "codemirror_mode": {
    "name": "ipython",
    "version": 2
   },
   "file_extension": ".py",
   "mimetype": "text/x-python",
   "name": "python",
   "nbconvert_exporter": "python",
   "pygments_lexer": "ipython2",
   "version": "2.7.6"
  }
 },
 "nbformat": 4,
 "nbformat_minor": 5
}
