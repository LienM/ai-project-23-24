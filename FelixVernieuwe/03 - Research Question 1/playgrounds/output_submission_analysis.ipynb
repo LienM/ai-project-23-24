{
 "cells": [
  {
   "cell_type": "markdown",
   "source": [
    "This notebook was mainly to see whether it is possible to recover the hex customer_id (required for the submission) from the reduced id's introduced by Radek"
   ],
   "metadata": {
    "collapsed": false
   },
   "id": "5ace7742fc31174b"
  },
  {
   "cell_type": "code",
   "execution_count": 1,
   "id": "initial_id",
   "metadata": {
    "collapsed": true,
    "ExecuteTime": {
     "end_time": "2023-12-19T13:07:15.762526500Z",
     "start_time": "2023-12-19T13:07:15.701437600Z"
    }
   },
   "outputs": [],
   "source": [
    "%load_ext autoreload\n",
    "%autoreload 2"
   ]
  },
  {
   "cell_type": "code",
   "execution_count": 2,
   "outputs": [],
   "source": [
    "import pandas as pd"
   ],
   "metadata": {
    "collapsed": false,
    "ExecuteTime": {
     "end_time": "2023-12-19T13:07:15.817455100Z",
     "start_time": "2023-12-19T13:07:15.763522500Z"
    }
   },
   "id": "4dd334430627ce6f"
  },
  {
   "cell_type": "code",
   "execution_count": 3,
   "outputs": [],
   "source": [
    "all_transactions = pd.read_parquet('../../../data/transactions_train.parquet')\n",
    "articles = pd.read_parquet('../../../data/articles.parquet')\n",
    "customers = pd.read_parquet('../../../data/customers.parquet')"
   ],
   "metadata": {
    "collapsed": false,
    "ExecuteTime": {
     "end_time": "2023-12-19T13:07:33.428515600Z",
     "start_time": "2023-12-19T13:07:31.807699300Z"
    }
   },
   "id": "4523511b056240dd"
  },
  {
   "cell_type": "code",
   "execution_count": 16,
   "outputs": [
    {
     "data": {
      "text/plain": "                                          customer_id  \\\n0   00000dbacae5abe5e23885899a1fa44253a17956c6d1c3...   \n1   0000423b00ade91418cceaf3b26c6af3dd342b51fd051e...   \n2   000058a12d5b43e67d225668fa1f8d618c13dc232df0ca...   \n3   00005ca1c9ed5f5146b52ac8639a40ca9d57aeff4d1bd2...   \n4   00006413d8573cd20ed7128e53b7b13819fe5cfc2d801f...   \n5   000064249685c11552da43ef22a5030f35a147f723d5b0...   \n6   0000757967448a6cb83efb3ea7a3fb9d418ac7adf2379d...   \n7   00007d2de826758b65a93dd24ce629ed66842531df6699...   \n8   00007e8d4e54114b5b2a9b51586325a8d0fa74ea23ef77...   \n9   00008469a21b50b3d147c97135e25b4201a8c58997f787...   \n10  0000945f66de1a11d9447609b8b41b1bc987ba185a5496...   \n11  000097d91384a0c14893c09ed047a963c4fc6a5c021044...   \n12  00009c2aeae8761f738e4f937d9be6b49861a66339c2b1...   \n13  00009d946eec3ea54add5ba56d5210ea898def4b46c685...   \n14  0000ae1bbb25e04bdc7e35f718e852adfb3fbb72ef38b3...   \n15  0000b2f1829e23b24feec422ef13df3ccedaedc85368e6...   \n16  0000b7a134c3ec0d8842fad1fd4ca28517424c14fc4848...   \n17  0000b95f630aaa9313028ce9c41154bb95ac7afa34f55b...   \n18  0000c97821eb48d0e590fd309133f0a6c08f7750f64ccc...   \n19  0000d6c053fc8f9389d4565051f12402d5774aa4a9d2e5...   \n\n                                           prediction  \n0   0706016001 0706016002 0372860001 0610776002 07...  \n1   0706016001 0706016002 0372860001 0610776002 07...  \n2   0706016001 0706016002 0372860001 0610776002 07...  \n3   0706016001 0706016002 0372860001 0610776002 07...  \n4   0706016001 0706016002 0372860001 0610776002 07...  \n5   0706016001 0706016002 0372860001 0610776002 07...  \n6   0706016001 0706016002 0372860001 0610776002 07...  \n7   0706016001 0706016002 0372860001 0610776002 07...  \n8   0706016001 0706016002 0372860001 0610776002 07...  \n9   0706016001 0706016002 0372860001 0610776002 07...  \n10  0706016001 0706016002 0372860001 0610776002 07...  \n11  0706016001 0706016002 0372860001 0610776002 07...  \n12  0706016001 0706016002 0372860001 0610776002 07...  \n13  0706016001 0706016002 0372860001 0610776002 07...  \n14  0706016001 0706016002 0372860001 0610776002 07...  \n15  0706016001 0706016002 0372860001 0610776002 07...  \n16  0706016001 0706016002 0372860001 0610776002 07...  \n17  0706016001 0706016002 0372860001 0610776002 07...  \n18  0706016001 0706016002 0372860001 0610776002 07...  \n19  0706016001 0706016002 0372860001 0610776002 07...  ",
      "text/html": "<div>\n<style scoped>\n    .dataframe tbody tr th:only-of-type {\n        vertical-align: middle;\n    }\n\n    .dataframe tbody tr th {\n        vertical-align: top;\n    }\n\n    .dataframe thead th {\n        text-align: right;\n    }\n</style>\n<table border=\"1\" class=\"dataframe\">\n  <thead>\n    <tr style=\"text-align: right;\">\n      <th></th>\n      <th>customer_id</th>\n      <th>prediction</th>\n    </tr>\n  </thead>\n  <tbody>\n    <tr>\n      <th>0</th>\n      <td>00000dbacae5abe5e23885899a1fa44253a17956c6d1c3...</td>\n      <td>0706016001 0706016002 0372860001 0610776002 07...</td>\n    </tr>\n    <tr>\n      <th>1</th>\n      <td>0000423b00ade91418cceaf3b26c6af3dd342b51fd051e...</td>\n      <td>0706016001 0706016002 0372860001 0610776002 07...</td>\n    </tr>\n    <tr>\n      <th>2</th>\n      <td>000058a12d5b43e67d225668fa1f8d618c13dc232df0ca...</td>\n      <td>0706016001 0706016002 0372860001 0610776002 07...</td>\n    </tr>\n    <tr>\n      <th>3</th>\n      <td>00005ca1c9ed5f5146b52ac8639a40ca9d57aeff4d1bd2...</td>\n      <td>0706016001 0706016002 0372860001 0610776002 07...</td>\n    </tr>\n    <tr>\n      <th>4</th>\n      <td>00006413d8573cd20ed7128e53b7b13819fe5cfc2d801f...</td>\n      <td>0706016001 0706016002 0372860001 0610776002 07...</td>\n    </tr>\n    <tr>\n      <th>5</th>\n      <td>000064249685c11552da43ef22a5030f35a147f723d5b0...</td>\n      <td>0706016001 0706016002 0372860001 0610776002 07...</td>\n    </tr>\n    <tr>\n      <th>6</th>\n      <td>0000757967448a6cb83efb3ea7a3fb9d418ac7adf2379d...</td>\n      <td>0706016001 0706016002 0372860001 0610776002 07...</td>\n    </tr>\n    <tr>\n      <th>7</th>\n      <td>00007d2de826758b65a93dd24ce629ed66842531df6699...</td>\n      <td>0706016001 0706016002 0372860001 0610776002 07...</td>\n    </tr>\n    <tr>\n      <th>8</th>\n      <td>00007e8d4e54114b5b2a9b51586325a8d0fa74ea23ef77...</td>\n      <td>0706016001 0706016002 0372860001 0610776002 07...</td>\n    </tr>\n    <tr>\n      <th>9</th>\n      <td>00008469a21b50b3d147c97135e25b4201a8c58997f787...</td>\n      <td>0706016001 0706016002 0372860001 0610776002 07...</td>\n    </tr>\n    <tr>\n      <th>10</th>\n      <td>0000945f66de1a11d9447609b8b41b1bc987ba185a5496...</td>\n      <td>0706016001 0706016002 0372860001 0610776002 07...</td>\n    </tr>\n    <tr>\n      <th>11</th>\n      <td>000097d91384a0c14893c09ed047a963c4fc6a5c021044...</td>\n      <td>0706016001 0706016002 0372860001 0610776002 07...</td>\n    </tr>\n    <tr>\n      <th>12</th>\n      <td>00009c2aeae8761f738e4f937d9be6b49861a66339c2b1...</td>\n      <td>0706016001 0706016002 0372860001 0610776002 07...</td>\n    </tr>\n    <tr>\n      <th>13</th>\n      <td>00009d946eec3ea54add5ba56d5210ea898def4b46c685...</td>\n      <td>0706016001 0706016002 0372860001 0610776002 07...</td>\n    </tr>\n    <tr>\n      <th>14</th>\n      <td>0000ae1bbb25e04bdc7e35f718e852adfb3fbb72ef38b3...</td>\n      <td>0706016001 0706016002 0372860001 0610776002 07...</td>\n    </tr>\n    <tr>\n      <th>15</th>\n      <td>0000b2f1829e23b24feec422ef13df3ccedaedc85368e6...</td>\n      <td>0706016001 0706016002 0372860001 0610776002 07...</td>\n    </tr>\n    <tr>\n      <th>16</th>\n      <td>0000b7a134c3ec0d8842fad1fd4ca28517424c14fc4848...</td>\n      <td>0706016001 0706016002 0372860001 0610776002 07...</td>\n    </tr>\n    <tr>\n      <th>17</th>\n      <td>0000b95f630aaa9313028ce9c41154bb95ac7afa34f55b...</td>\n      <td>0706016001 0706016002 0372860001 0610776002 07...</td>\n    </tr>\n    <tr>\n      <th>18</th>\n      <td>0000c97821eb48d0e590fd309133f0a6c08f7750f64ccc...</td>\n      <td>0706016001 0706016002 0372860001 0610776002 07...</td>\n    </tr>\n    <tr>\n      <th>19</th>\n      <td>0000d6c053fc8f9389d4565051f12402d5774aa4a9d2e5...</td>\n      <td>0706016001 0706016002 0372860001 0610776002 07...</td>\n    </tr>\n  </tbody>\n</table>\n</div>"
     },
     "execution_count": 16,
     "metadata": {},
     "output_type": "execute_result"
    }
   ],
   "source": [
    "submissions = pd.read_csv('../../../data/sample_submission.csv')\n",
    "submissions.head(20)"
   ],
   "metadata": {
    "collapsed": false,
    "ExecuteTime": {
     "end_time": "2023-12-19T13:17:49.246771600Z",
     "start_time": "2023-12-19T13:17:47.064407300Z"
    }
   },
   "id": "1b44012ae79dbf79"
  },
  {
   "cell_type": "code",
   "execution_count": 7,
   "outputs": [
    {
     "data": {
      "text/plain": "(1371980, 7)"
     },
     "execution_count": 7,
     "metadata": {},
     "output_type": "execute_result"
    }
   ],
   "source": [
    "customers.shape"
   ],
   "metadata": {
    "collapsed": false,
    "ExecuteTime": {
     "end_time": "2023-12-19T13:08:27.507483200Z",
     "start_time": "2023-12-19T13:08:27.442995300Z"
    }
   },
   "id": "dd04c9adc7d52a07"
  },
  {
   "cell_type": "markdown",
   "source": [
    "Sanity check: all customers are actually submitted to the competition"
   ],
   "metadata": {
    "collapsed": false
   },
   "id": "e4047e2b4459d0b"
  },
  {
   "cell_type": "code",
   "execution_count": 10,
   "outputs": [
    {
     "data": {
      "text/plain": "          article_id   customer_id\n0          875784002  1.844671e+19\n1          751471043  1.844671e+19\n2          751471001  1.844671e+19\n3          706016001  1.844671e+19\n4          919365008  1.844671e+19\n...              ...           ...\n16463755   863595006  1.692995e+19\n16463756   896152002  1.692995e+19\n16463757   448509014  1.692995e+19\n16463758   909916001  1.692995e+19\n16463759   762846031  1.692995e+19\n\n[16463760 rows x 2 columns]",
      "text/html": "<div>\n<style scoped>\n    .dataframe tbody tr th:only-of-type {\n        vertical-align: middle;\n    }\n\n    .dataframe tbody tr th {\n        vertical-align: top;\n    }\n\n    .dataframe thead th {\n        text-align: right;\n    }\n</style>\n<table border=\"1\" class=\"dataframe\">\n  <thead>\n    <tr style=\"text-align: right;\">\n      <th></th>\n      <th>article_id</th>\n      <th>customer_id</th>\n    </tr>\n  </thead>\n  <tbody>\n    <tr>\n      <th>0</th>\n      <td>875784002</td>\n      <td>1.844671e+19</td>\n    </tr>\n    <tr>\n      <th>1</th>\n      <td>751471043</td>\n      <td>1.844671e+19</td>\n    </tr>\n    <tr>\n      <th>2</th>\n      <td>751471001</td>\n      <td>1.844671e+19</td>\n    </tr>\n    <tr>\n      <th>3</th>\n      <td>706016001</td>\n      <td>1.844671e+19</td>\n    </tr>\n    <tr>\n      <th>4</th>\n      <td>919365008</td>\n      <td>1.844671e+19</td>\n    </tr>\n    <tr>\n      <th>...</th>\n      <td>...</td>\n      <td>...</td>\n    </tr>\n    <tr>\n      <th>16463755</th>\n      <td>863595006</td>\n      <td>1.692995e+19</td>\n    </tr>\n    <tr>\n      <th>16463756</th>\n      <td>896152002</td>\n      <td>1.692995e+19</td>\n    </tr>\n    <tr>\n      <th>16463757</th>\n      <td>448509014</td>\n      <td>1.692995e+19</td>\n    </tr>\n    <tr>\n      <th>16463758</th>\n      <td>909916001</td>\n      <td>1.692995e+19</td>\n    </tr>\n    <tr>\n      <th>16463759</th>\n      <td>762846031</td>\n      <td>1.692995e+19</td>\n    </tr>\n  </tbody>\n</table>\n<p>16463760 rows × 2 columns</p>\n</div>"
     },
     "execution_count": 10,
     "metadata": {},
     "output_type": "execute_result"
    }
   ],
   "source": [
    "prediction_candidates = pd.read_csv('../../../data/candidates_test.csv.gz')\n",
    "prediction_candidates"
   ],
   "metadata": {
    "collapsed": false,
    "ExecuteTime": {
     "end_time": "2023-12-19T13:13:17.928016400Z",
     "start_time": "2023-12-19T13:13:13.440152Z"
    }
   },
   "id": "50f640f0a85b4e32"
  },
  {
   "cell_type": "code",
   "execution_count": 12,
   "outputs": [
    {
     "data": {
      "text/plain": "          article_id           customer_id\n0          875784002  18446705133201055744\n1          751471043  18446705133201055744\n2          751471001  18446705133201055744\n3          706016001  18446705133201055744\n4          919365008  18446705133201055744\n...              ...                   ...\n16463755   863595006  16929951892735598592\n16463756   896152002  16929951892735598592\n16463757   448509014  16929951892735598592\n16463758   909916001  16929951892735598592\n16463759   762846031  16929951892735598592\n\n[16463760 rows x 2 columns]",
      "text/html": "<div>\n<style scoped>\n    .dataframe tbody tr th:only-of-type {\n        vertical-align: middle;\n    }\n\n    .dataframe tbody tr th {\n        vertical-align: top;\n    }\n\n    .dataframe thead th {\n        text-align: right;\n    }\n</style>\n<table border=\"1\" class=\"dataframe\">\n  <thead>\n    <tr style=\"text-align: right;\">\n      <th></th>\n      <th>article_id</th>\n      <th>customer_id</th>\n    </tr>\n  </thead>\n  <tbody>\n    <tr>\n      <th>0</th>\n      <td>875784002</td>\n      <td>18446705133201055744</td>\n    </tr>\n    <tr>\n      <th>1</th>\n      <td>751471043</td>\n      <td>18446705133201055744</td>\n    </tr>\n    <tr>\n      <th>2</th>\n      <td>751471001</td>\n      <td>18446705133201055744</td>\n    </tr>\n    <tr>\n      <th>3</th>\n      <td>706016001</td>\n      <td>18446705133201055744</td>\n    </tr>\n    <tr>\n      <th>4</th>\n      <td>919365008</td>\n      <td>18446705133201055744</td>\n    </tr>\n    <tr>\n      <th>...</th>\n      <td>...</td>\n      <td>...</td>\n    </tr>\n    <tr>\n      <th>16463755</th>\n      <td>863595006</td>\n      <td>16929951892735598592</td>\n    </tr>\n    <tr>\n      <th>16463756</th>\n      <td>896152002</td>\n      <td>16929951892735598592</td>\n    </tr>\n    <tr>\n      <th>16463757</th>\n      <td>448509014</td>\n      <td>16929951892735598592</td>\n    </tr>\n    <tr>\n      <th>16463758</th>\n      <td>909916001</td>\n      <td>16929951892735598592</td>\n    </tr>\n    <tr>\n      <th>16463759</th>\n      <td>762846031</td>\n      <td>16929951892735598592</td>\n    </tr>\n  </tbody>\n</table>\n<p>16463760 rows × 2 columns</p>\n</div>"
     },
     "execution_count": 12,
     "metadata": {},
     "output_type": "execute_result"
    }
   ],
   "source": [
    "# Set prediction candidates customer id as uint64\n",
    "prediction_candidates[\"customer_id\"] = prediction_candidates[\"customer_id\"].astype(\"uint64\")\n",
    "prediction_candidates"
   ],
   "metadata": {
    "collapsed": false,
    "ExecuteTime": {
     "end_time": "2023-12-19T13:15:02.095651200Z",
     "start_time": "2023-12-19T13:15:01.930411900Z"
    }
   },
   "id": "5f8ebfd38e584fa4"
  },
  {
   "cell_type": "code",
   "execution_count": 15,
   "outputs": [
    {
     "ename": "AttributeError",
     "evalue": "'int' object has no attribute 'str'",
     "output_type": "error",
     "traceback": [
      "\u001B[1;31m---------------------------------------------------------------------------\u001B[0m",
      "\u001B[1;31mAttributeError\u001B[0m                            Traceback (most recent call last)",
      "Cell \u001B[1;32mIn[15], line 7\u001B[0m\n\u001B[0;32m      4\u001B[0m sys\u001B[38;5;241m.\u001B[39mpath\u001B[38;5;241m.\u001B[39mappend(\u001B[38;5;124m\"\u001B[39m\u001B[38;5;124m../../\u001B[39m\u001B[38;5;124m\"\u001B[39m)\n\u001B[0;32m      5\u001B[0m \u001B[38;5;28;01mfrom\u001B[39;00m \u001B[38;5;21;01mutil\u001B[39;00m \u001B[38;5;28;01mimport\u001B[39;00m customer_hex_id_to_int\n\u001B[1;32m----> 7\u001B[0m prediction_candidates[\u001B[38;5;124m\"\u001B[39m\u001B[38;5;124mcustomer_id\u001B[39m\u001B[38;5;124m\"\u001B[39m] \u001B[38;5;241m=\u001B[39m prediction_candidates[\u001B[38;5;124m\"\u001B[39m\u001B[38;5;124mcustomer_id\u001B[39m\u001B[38;5;124m\"\u001B[39m]\u001B[38;5;241m.\u001B[39mapply(customer_hex_id_to_int)\n\u001B[0;32m      8\u001B[0m prediction_candidates\n",
      "File \u001B[1;32mA:\\Programs\\miniconda3\\Lib\\site-packages\\pandas\\core\\series.py:4760\u001B[0m, in \u001B[0;36mSeries.apply\u001B[1;34m(self, func, convert_dtype, args, by_row, **kwargs)\u001B[0m\n\u001B[0;32m   4625\u001B[0m \u001B[38;5;28;01mdef\u001B[39;00m \u001B[38;5;21mapply\u001B[39m(\n\u001B[0;32m   4626\u001B[0m     \u001B[38;5;28mself\u001B[39m,\n\u001B[0;32m   4627\u001B[0m     func: AggFuncType,\n\u001B[1;32m   (...)\u001B[0m\n\u001B[0;32m   4632\u001B[0m     \u001B[38;5;241m*\u001B[39m\u001B[38;5;241m*\u001B[39mkwargs,\n\u001B[0;32m   4633\u001B[0m ) \u001B[38;5;241m-\u001B[39m\u001B[38;5;241m>\u001B[39m DataFrame \u001B[38;5;241m|\u001B[39m Series:\n\u001B[0;32m   4634\u001B[0m \u001B[38;5;250m    \u001B[39m\u001B[38;5;124;03m\"\"\"\u001B[39;00m\n\u001B[0;32m   4635\u001B[0m \u001B[38;5;124;03m    Invoke function on values of Series.\u001B[39;00m\n\u001B[0;32m   4636\u001B[0m \n\u001B[1;32m   (...)\u001B[0m\n\u001B[0;32m   4751\u001B[0m \u001B[38;5;124;03m    dtype: float64\u001B[39;00m\n\u001B[0;32m   4752\u001B[0m \u001B[38;5;124;03m    \"\"\"\u001B[39;00m\n\u001B[0;32m   4753\u001B[0m     \u001B[38;5;28;01mreturn\u001B[39;00m SeriesApply(\n\u001B[0;32m   4754\u001B[0m         \u001B[38;5;28mself\u001B[39m,\n\u001B[0;32m   4755\u001B[0m         func,\n\u001B[0;32m   4756\u001B[0m         convert_dtype\u001B[38;5;241m=\u001B[39mconvert_dtype,\n\u001B[0;32m   4757\u001B[0m         by_row\u001B[38;5;241m=\u001B[39mby_row,\n\u001B[0;32m   4758\u001B[0m         args\u001B[38;5;241m=\u001B[39margs,\n\u001B[0;32m   4759\u001B[0m         kwargs\u001B[38;5;241m=\u001B[39mkwargs,\n\u001B[1;32m-> 4760\u001B[0m     )\u001B[38;5;241m.\u001B[39mapply()\n",
      "File \u001B[1;32mA:\\Programs\\miniconda3\\Lib\\site-packages\\pandas\\core\\apply.py:1207\u001B[0m, in \u001B[0;36mSeriesApply.apply\u001B[1;34m(self)\u001B[0m\n\u001B[0;32m   1204\u001B[0m     \u001B[38;5;28;01mreturn\u001B[39;00m \u001B[38;5;28mself\u001B[39m\u001B[38;5;241m.\u001B[39mapply_compat()\n\u001B[0;32m   1206\u001B[0m \u001B[38;5;66;03m# self.func is Callable\u001B[39;00m\n\u001B[1;32m-> 1207\u001B[0m \u001B[38;5;28;01mreturn\u001B[39;00m \u001B[38;5;28mself\u001B[39m\u001B[38;5;241m.\u001B[39mapply_standard()\n",
      "File \u001B[1;32mA:\\Programs\\miniconda3\\Lib\\site-packages\\pandas\\core\\apply.py:1287\u001B[0m, in \u001B[0;36mSeriesApply.apply_standard\u001B[1;34m(self)\u001B[0m\n\u001B[0;32m   1281\u001B[0m \u001B[38;5;66;03m# row-wise access\u001B[39;00m\n\u001B[0;32m   1282\u001B[0m \u001B[38;5;66;03m# apply doesn't have a `na_action` keyword and for backward compat reasons\u001B[39;00m\n\u001B[0;32m   1283\u001B[0m \u001B[38;5;66;03m# we need to give `na_action=\"ignore\"` for categorical data.\u001B[39;00m\n\u001B[0;32m   1284\u001B[0m \u001B[38;5;66;03m# TODO: remove the `na_action=\"ignore\"` when that default has been changed in\u001B[39;00m\n\u001B[0;32m   1285\u001B[0m \u001B[38;5;66;03m#  Categorical (GH51645).\u001B[39;00m\n\u001B[0;32m   1286\u001B[0m action \u001B[38;5;241m=\u001B[39m \u001B[38;5;124m\"\u001B[39m\u001B[38;5;124mignore\u001B[39m\u001B[38;5;124m\"\u001B[39m \u001B[38;5;28;01mif\u001B[39;00m \u001B[38;5;28misinstance\u001B[39m(obj\u001B[38;5;241m.\u001B[39mdtype, CategoricalDtype) \u001B[38;5;28;01melse\u001B[39;00m \u001B[38;5;28;01mNone\u001B[39;00m\n\u001B[1;32m-> 1287\u001B[0m mapped \u001B[38;5;241m=\u001B[39m obj\u001B[38;5;241m.\u001B[39m_map_values(\n\u001B[0;32m   1288\u001B[0m     mapper\u001B[38;5;241m=\u001B[39mcurried, na_action\u001B[38;5;241m=\u001B[39maction, convert\u001B[38;5;241m=\u001B[39m\u001B[38;5;28mself\u001B[39m\u001B[38;5;241m.\u001B[39mconvert_dtype\n\u001B[0;32m   1289\u001B[0m )\n\u001B[0;32m   1291\u001B[0m \u001B[38;5;28;01mif\u001B[39;00m \u001B[38;5;28mlen\u001B[39m(mapped) \u001B[38;5;129;01mand\u001B[39;00m \u001B[38;5;28misinstance\u001B[39m(mapped[\u001B[38;5;241m0\u001B[39m], ABCSeries):\n\u001B[0;32m   1292\u001B[0m     \u001B[38;5;66;03m# GH#43986 Need to do list(mapped) in order to get treated as nested\u001B[39;00m\n\u001B[0;32m   1293\u001B[0m     \u001B[38;5;66;03m#  See also GH#25959 regarding EA support\u001B[39;00m\n\u001B[0;32m   1294\u001B[0m     \u001B[38;5;28;01mreturn\u001B[39;00m obj\u001B[38;5;241m.\u001B[39m_constructor_expanddim(\u001B[38;5;28mlist\u001B[39m(mapped), index\u001B[38;5;241m=\u001B[39mobj\u001B[38;5;241m.\u001B[39mindex)\n",
      "File \u001B[1;32mA:\\Programs\\miniconda3\\Lib\\site-packages\\pandas\\core\\base.py:921\u001B[0m, in \u001B[0;36mIndexOpsMixin._map_values\u001B[1;34m(self, mapper, na_action, convert)\u001B[0m\n\u001B[0;32m    918\u001B[0m \u001B[38;5;28;01mif\u001B[39;00m \u001B[38;5;28misinstance\u001B[39m(arr, ExtensionArray):\n\u001B[0;32m    919\u001B[0m     \u001B[38;5;28;01mreturn\u001B[39;00m arr\u001B[38;5;241m.\u001B[39mmap(mapper, na_action\u001B[38;5;241m=\u001B[39mna_action)\n\u001B[1;32m--> 921\u001B[0m \u001B[38;5;28;01mreturn\u001B[39;00m algorithms\u001B[38;5;241m.\u001B[39mmap_array(arr, mapper, na_action\u001B[38;5;241m=\u001B[39mna_action, convert\u001B[38;5;241m=\u001B[39mconvert)\n",
      "File \u001B[1;32mA:\\Programs\\miniconda3\\Lib\\site-packages\\pandas\\core\\algorithms.py:1814\u001B[0m, in \u001B[0;36mmap_array\u001B[1;34m(arr, mapper, na_action, convert)\u001B[0m\n\u001B[0;32m   1812\u001B[0m values \u001B[38;5;241m=\u001B[39m arr\u001B[38;5;241m.\u001B[39mastype(\u001B[38;5;28mobject\u001B[39m, copy\u001B[38;5;241m=\u001B[39m\u001B[38;5;28;01mFalse\u001B[39;00m)\n\u001B[0;32m   1813\u001B[0m \u001B[38;5;28;01mif\u001B[39;00m na_action \u001B[38;5;129;01mis\u001B[39;00m \u001B[38;5;28;01mNone\u001B[39;00m:\n\u001B[1;32m-> 1814\u001B[0m     \u001B[38;5;28;01mreturn\u001B[39;00m lib\u001B[38;5;241m.\u001B[39mmap_infer(values, mapper, convert\u001B[38;5;241m=\u001B[39mconvert)\n\u001B[0;32m   1815\u001B[0m \u001B[38;5;28;01melse\u001B[39;00m:\n\u001B[0;32m   1816\u001B[0m     \u001B[38;5;28;01mreturn\u001B[39;00m lib\u001B[38;5;241m.\u001B[39mmap_infer_mask(\n\u001B[0;32m   1817\u001B[0m         values, mapper, mask\u001B[38;5;241m=\u001B[39misna(values)\u001B[38;5;241m.\u001B[39mview(np\u001B[38;5;241m.\u001B[39muint8), convert\u001B[38;5;241m=\u001B[39mconvert\n\u001B[0;32m   1818\u001B[0m     )\n",
      "File \u001B[1;32mlib.pyx:2917\u001B[0m, in \u001B[0;36mpandas._libs.lib.map_infer\u001B[1;34m()\u001B[0m\n",
      "File \u001B[1;32mA:\\Python\\ai-project-23-24\\FelixVernieuwe\\03 - Research Question 1\\playgrounds\\../..\\util.py:114\u001B[0m, in \u001B[0;36mcustomer_hex_id_to_int\u001B[1;34m(series)\u001B[0m\n\u001B[0;32m    113\u001B[0m \u001B[38;5;28;01mdef\u001B[39;00m \u001B[38;5;21mcustomer_hex_id_to_int\u001B[39m(series):\n\u001B[1;32m--> 114\u001B[0m     \u001B[38;5;28;01mreturn\u001B[39;00m series\u001B[38;5;241m.\u001B[39mstr[\u001B[38;5;241m-\u001B[39m\u001B[38;5;241m16\u001B[39m:]\u001B[38;5;241m.\u001B[39mapply(hex_id_to_int)\n",
      "\u001B[1;31mAttributeError\u001B[0m: 'int' object has no attribute 'str'"
     ]
    }
   ],
   "source": [
    "# Map customer id to hex using customer_hex_id_to_int\n",
    "import sys\n",
    "sys.path.append(\"../../\")\n",
    "from util import customer_hex_id_to_int\n",
    "\n",
    "prediction_candidates[\"customer_id\"] = prediction_candidates[\"customer_id\"].apply(customer_hex_id_to_int)\n",
    "prediction_candidates"
   ],
   "metadata": {
    "collapsed": false,
    "ExecuteTime": {
     "end_time": "2023-12-19T13:17:23.337864Z",
     "start_time": "2023-12-19T13:17:21.692758700Z"
    }
   },
   "id": "4b98a65d40fb6c3c"
  },
  {
   "cell_type": "code",
   "execution_count": null,
   "outputs": [],
   "source": [
    "prediction_dict = predictions.groupby(\"customer_id\")[\"article_id\"].apply(list).to_dict()"
   ],
   "metadata": {
    "collapsed": false
   },
   "id": "97391f4bd91e8ac4"
  },
  {
   "cell_type": "code",
   "execution_count": null,
   "outputs": [],
   "source": [
    "output_df = submission_df.copy()"
   ],
   "metadata": {
    "collapsed": false
   },
   "id": "3724a24bca94d6c1"
  },
  {
   "cell_type": "code",
   "execution_count": null,
   "outputs": [],
   "source": [
    "output_df.prediction = [\" \".join(f\"0{x}\" for x in prediction_dict[customer_id]) for customer_id in customer_hex_id_to_int(submission_df[\"customer_id\"]) if customer_id in prediction_dict]"
   ],
   "metadata": {
    "collapsed": false
   },
   "id": "53b2740ba7b767bc"
  }
 ],
 "metadata": {
  "kernelspec": {
   "display_name": "Python 3",
   "language": "python",
   "name": "python3"
  },
  "language_info": {
   "codemirror_mode": {
    "name": "ipython",
    "version": 2
   },
   "file_extension": ".py",
   "mimetype": "text/x-python",
   "name": "python",
   "nbconvert_exporter": "python",
   "pygments_lexer": "ipython2",
   "version": "2.7.6"
  }
 },
 "nbformat": 4,
 "nbformat_minor": 5
}
