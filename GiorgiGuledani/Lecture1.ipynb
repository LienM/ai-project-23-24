{
 "cells": [
  {
   "cell_type": "markdown",
   "metadata": {
    "collapsed": false,
    "pycharm": {
     "name": "#%% md\n"
    }
   },
   "source": [
    "**Student name: Giorgi Guledani**\n",
    "\n",
    "**Student ID: 20193667**\n",
    "\n",
    "# Lecture 1: Exploratory Data Analysis"
   ]
  },
  {
   "cell_type": "code",
   "execution_count": 2,
   "metadata": {
    "collapsed": false,
    "pycharm": {
     "name": "#%%\n"
    },
    "ExecuteTime": {
     "end_time": "2023-10-04T07:33:32.704517200Z",
     "start_time": "2023-10-04T07:33:06.039517600Z"
    }
   },
   "outputs": [],
   "source": [
    "import pandas as pd\n",
    "import seaborn as sns\n",
    "import matplotlib.pyplot as plt\n",
    "\n",
    "articles = pd.read_csv(\"datasets/articles.csv\")\n",
    "customers = pd.read_csv(\"datasets/customers.csv\")\n",
    "sample_submission = pd.read_csv(\"datasets/sample_submission.csv\")\n",
    "transactions_train = pd.read_csv(\"datasets/transactions_train.csv\")\n"
   ]
  },
  {
   "cell_type": "markdown",
   "source": [
    "# General functions"
   ],
   "metadata": {
    "collapsed": false
   }
  },
  {
   "cell_type": "code",
   "execution_count": 3,
   "outputs": [],
   "source": [
    "def print_num_value_count(dataset, col, value):\n",
    "    print(f\"Amount of value {value} in {col}: {(dataset[col] == value).sum()}\")\n",
    "    \n",
    "\n",
    "def missing_values(dataset):\n",
    "    for column in dataset.columns:\n",
    "    # Calculate the percentage of missing values in the column\n",
    "        missing_values = dataset[column].isna().sum()\n",
    "        missing_percentage = (missing_values / len(dataset)) * 100\n",
    "        if missing_percentage > 0:\n",
    "            print(f\"Column '{column}' has { missing_values} missing values ({missing_percentage:.2f}%).\")\n",
    "            \n",
    "def print_inconsistencies(dataset, col_pairs):\n",
    "    for left_col, right_col in col_pairs:\n",
    "            cols = get_inconsistencies(dataset, left_col, right_col)\n",
    "            if len(cols) > 0:\n",
    "                print(f\"{left_col} -> {right_col} contains {len(cols)} inconsistencies.\")\n",
    "                print(cols)\n",
    "            \n",
    "def get_inconsistencies(dataset, left_col, right_col):\n",
    "            # Drop duplicate pairs and select rows that contain duplicates in right column\n",
    "            cols = dataset[[left_col, right_col]].drop_duplicates()\n",
    "            cols = cols[cols.duplicated(right_col,  keep=False)] \n",
    "            return cols"
   ],
   "metadata": {
    "collapsed": false,
    "ExecuteTime": {
     "end_time": "2023-10-04T07:33:32.719519900Z",
     "start_time": "2023-10-04T07:33:32.707017300Z"
    }
   }
  },
  {
   "cell_type": "markdown",
   "source": [
    "# Articles"
   ],
   "metadata": {
    "collapsed": false
   }
  },
  {
   "cell_type": "code",
   "execution_count": 4,
   "metadata": {
    "ExecuteTime": {
     "end_time": "2023-10-04T07:33:32.758016900Z",
     "start_time": "2023-10-04T07:33:32.720517100Z"
    }
   },
   "outputs": [
    {
     "data": {
      "text/plain": "   article_id  product_code          prod_name  product_type_no   \n0   108775015        108775          Strap top              253  \\\n1   108775044        108775          Strap top              253   \n2   108775051        108775      Strap top (1)              253   \n3   110065001        110065  OP T-shirt (Idro)              306   \n4   110065002        110065  OP T-shirt (Idro)              306   \n\n  product_type_name  product_group_name  graphical_appearance_no   \n0          Vest top  Garment Upper body                  1010016  \\\n1          Vest top  Garment Upper body                  1010016   \n2          Vest top  Garment Upper body                  1010017   \n3               Bra           Underwear                  1010016   \n4               Bra           Underwear                  1010016   \n\n  graphical_appearance_name  colour_group_code colour_group_name  ...   \n0                     Solid                  9             Black  ...  \\\n1                     Solid                 10             White  ...   \n2                    Stripe                 11         Off White  ...   \n3                     Solid                  9             Black  ...   \n4                     Solid                 10             White  ...   \n\n   department_name index_code        index_name index_group_no   \n0     Jersey Basic          A        Ladieswear              1  \\\n1     Jersey Basic          A        Ladieswear              1   \n2     Jersey Basic          A        Ladieswear              1   \n3   Clean Lingerie          B  Lingeries/Tights              1   \n4   Clean Lingerie          B  Lingeries/Tights              1   \n\n   index_group_name section_no            section_name garment_group_no   \n0        Ladieswear         16  Womens Everyday Basics             1002  \\\n1        Ladieswear         16  Womens Everyday Basics             1002   \n2        Ladieswear         16  Womens Everyday Basics             1002   \n3        Ladieswear         61         Womens Lingerie             1017   \n4        Ladieswear         61         Womens Lingerie             1017   \n\n   garment_group_name                                        detail_desc  \n0        Jersey Basic            Jersey top with narrow shoulder straps.  \n1        Jersey Basic            Jersey top with narrow shoulder straps.  \n2        Jersey Basic            Jersey top with narrow shoulder straps.  \n3   Under-, Nightwear  Microfibre T-shirt bra with underwired, moulde...  \n4   Under-, Nightwear  Microfibre T-shirt bra with underwired, moulde...  \n\n[5 rows x 25 columns]",
      "text/html": "<div>\n<style scoped>\n    .dataframe tbody tr th:only-of-type {\n        vertical-align: middle;\n    }\n\n    .dataframe tbody tr th {\n        vertical-align: top;\n    }\n\n    .dataframe thead th {\n        text-align: right;\n    }\n</style>\n<table border=\"1\" class=\"dataframe\">\n  <thead>\n    <tr style=\"text-align: right;\">\n      <th></th>\n      <th>article_id</th>\n      <th>product_code</th>\n      <th>prod_name</th>\n      <th>product_type_no</th>\n      <th>product_type_name</th>\n      <th>product_group_name</th>\n      <th>graphical_appearance_no</th>\n      <th>graphical_appearance_name</th>\n      <th>colour_group_code</th>\n      <th>colour_group_name</th>\n      <th>...</th>\n      <th>department_name</th>\n      <th>index_code</th>\n      <th>index_name</th>\n      <th>index_group_no</th>\n      <th>index_group_name</th>\n      <th>section_no</th>\n      <th>section_name</th>\n      <th>garment_group_no</th>\n      <th>garment_group_name</th>\n      <th>detail_desc</th>\n    </tr>\n  </thead>\n  <tbody>\n    <tr>\n      <th>0</th>\n      <td>108775015</td>\n      <td>108775</td>\n      <td>Strap top</td>\n      <td>253</td>\n      <td>Vest top</td>\n      <td>Garment Upper body</td>\n      <td>1010016</td>\n      <td>Solid</td>\n      <td>9</td>\n      <td>Black</td>\n      <td>...</td>\n      <td>Jersey Basic</td>\n      <td>A</td>\n      <td>Ladieswear</td>\n      <td>1</td>\n      <td>Ladieswear</td>\n      <td>16</td>\n      <td>Womens Everyday Basics</td>\n      <td>1002</td>\n      <td>Jersey Basic</td>\n      <td>Jersey top with narrow shoulder straps.</td>\n    </tr>\n    <tr>\n      <th>1</th>\n      <td>108775044</td>\n      <td>108775</td>\n      <td>Strap top</td>\n      <td>253</td>\n      <td>Vest top</td>\n      <td>Garment Upper body</td>\n      <td>1010016</td>\n      <td>Solid</td>\n      <td>10</td>\n      <td>White</td>\n      <td>...</td>\n      <td>Jersey Basic</td>\n      <td>A</td>\n      <td>Ladieswear</td>\n      <td>1</td>\n      <td>Ladieswear</td>\n      <td>16</td>\n      <td>Womens Everyday Basics</td>\n      <td>1002</td>\n      <td>Jersey Basic</td>\n      <td>Jersey top with narrow shoulder straps.</td>\n    </tr>\n    <tr>\n      <th>2</th>\n      <td>108775051</td>\n      <td>108775</td>\n      <td>Strap top (1)</td>\n      <td>253</td>\n      <td>Vest top</td>\n      <td>Garment Upper body</td>\n      <td>1010017</td>\n      <td>Stripe</td>\n      <td>11</td>\n      <td>Off White</td>\n      <td>...</td>\n      <td>Jersey Basic</td>\n      <td>A</td>\n      <td>Ladieswear</td>\n      <td>1</td>\n      <td>Ladieswear</td>\n      <td>16</td>\n      <td>Womens Everyday Basics</td>\n      <td>1002</td>\n      <td>Jersey Basic</td>\n      <td>Jersey top with narrow shoulder straps.</td>\n    </tr>\n    <tr>\n      <th>3</th>\n      <td>110065001</td>\n      <td>110065</td>\n      <td>OP T-shirt (Idro)</td>\n      <td>306</td>\n      <td>Bra</td>\n      <td>Underwear</td>\n      <td>1010016</td>\n      <td>Solid</td>\n      <td>9</td>\n      <td>Black</td>\n      <td>...</td>\n      <td>Clean Lingerie</td>\n      <td>B</td>\n      <td>Lingeries/Tights</td>\n      <td>1</td>\n      <td>Ladieswear</td>\n      <td>61</td>\n      <td>Womens Lingerie</td>\n      <td>1017</td>\n      <td>Under-, Nightwear</td>\n      <td>Microfibre T-shirt bra with underwired, moulde...</td>\n    </tr>\n    <tr>\n      <th>4</th>\n      <td>110065002</td>\n      <td>110065</td>\n      <td>OP T-shirt (Idro)</td>\n      <td>306</td>\n      <td>Bra</td>\n      <td>Underwear</td>\n      <td>1010016</td>\n      <td>Solid</td>\n      <td>10</td>\n      <td>White</td>\n      <td>...</td>\n      <td>Clean Lingerie</td>\n      <td>B</td>\n      <td>Lingeries/Tights</td>\n      <td>1</td>\n      <td>Ladieswear</td>\n      <td>61</td>\n      <td>Womens Lingerie</td>\n      <td>1017</td>\n      <td>Under-, Nightwear</td>\n      <td>Microfibre T-shirt bra with underwired, moulde...</td>\n    </tr>\n  </tbody>\n</table>\n<p>5 rows × 25 columns</p>\n</div>"
     },
     "execution_count": 4,
     "metadata": {},
     "output_type": "execute_result"
    }
   ],
   "source": [
    "articles.head()"
   ]
  },
  {
   "cell_type": "code",
   "execution_count": 5,
   "outputs": [
    {
     "data": {
      "text/plain": "         article_id   product_code  product_type_no  graphical_appearance_no   \ncount  1.055420e+05  105542.000000    105542.000000             1.055420e+05  \\\nmean   6.984246e+08  698424.563378       234.861875             1.009515e+06   \nstd    1.284624e+08  128462.384432        75.049308             2.241359e+04   \nmin    1.087750e+08  108775.000000        -1.000000            -1.000000e+00   \n25%    6.169925e+08  616992.500000       252.000000             1.010008e+06   \n50%    7.022130e+08  702213.000000       259.000000             1.010016e+06   \n75%    7.967030e+08  796703.000000       272.000000             1.010016e+06   \nmax    9.594610e+08  959461.000000       762.000000             1.010029e+06   \n\n       colour_group_code  perceived_colour_value_id   \ncount      105542.000000              105542.000000  \\\nmean           32.233822                   3.206183   \nstd            28.086154                   1.563839   \nmin            -1.000000                  -1.000000   \n25%             9.000000                   2.000000   \n50%            14.000000                   4.000000   \n75%            52.000000                   4.000000   \nmax            93.000000                   7.000000   \n\n       perceived_colour_master_id  department_no  index_group_no   \ncount               105542.000000  105542.000000   105542.000000  \\\nmean                     7.807972    4532.777833        3.171534   \nstd                      5.376727    2712.692011        4.353234   \nmin                     -1.000000    1201.000000        1.000000   \n25%                      4.000000    1676.000000        1.000000   \n50%                      5.000000    4222.000000        2.000000   \n75%                     11.000000    7389.000000        4.000000   \nmax                     20.000000    9989.000000       26.000000   \n\n          section_no  garment_group_no  \ncount  105542.000000     105542.000000  \nmean       42.664219       1010.438290  \nstd        23.260105          6.731023  \nmin         2.000000       1001.000000  \n25%        20.000000       1005.000000  \n50%        46.000000       1009.000000  \n75%        61.000000       1017.000000  \nmax        97.000000       1025.000000  ",
      "text/html": "<div>\n<style scoped>\n    .dataframe tbody tr th:only-of-type {\n        vertical-align: middle;\n    }\n\n    .dataframe tbody tr th {\n        vertical-align: top;\n    }\n\n    .dataframe thead th {\n        text-align: right;\n    }\n</style>\n<table border=\"1\" class=\"dataframe\">\n  <thead>\n    <tr style=\"text-align: right;\">\n      <th></th>\n      <th>article_id</th>\n      <th>product_code</th>\n      <th>product_type_no</th>\n      <th>graphical_appearance_no</th>\n      <th>colour_group_code</th>\n      <th>perceived_colour_value_id</th>\n      <th>perceived_colour_master_id</th>\n      <th>department_no</th>\n      <th>index_group_no</th>\n      <th>section_no</th>\n      <th>garment_group_no</th>\n    </tr>\n  </thead>\n  <tbody>\n    <tr>\n      <th>count</th>\n      <td>1.055420e+05</td>\n      <td>105542.000000</td>\n      <td>105542.000000</td>\n      <td>1.055420e+05</td>\n      <td>105542.000000</td>\n      <td>105542.000000</td>\n      <td>105542.000000</td>\n      <td>105542.000000</td>\n      <td>105542.000000</td>\n      <td>105542.000000</td>\n      <td>105542.000000</td>\n    </tr>\n    <tr>\n      <th>mean</th>\n      <td>6.984246e+08</td>\n      <td>698424.563378</td>\n      <td>234.861875</td>\n      <td>1.009515e+06</td>\n      <td>32.233822</td>\n      <td>3.206183</td>\n      <td>7.807972</td>\n      <td>4532.777833</td>\n      <td>3.171534</td>\n      <td>42.664219</td>\n      <td>1010.438290</td>\n    </tr>\n    <tr>\n      <th>std</th>\n      <td>1.284624e+08</td>\n      <td>128462.384432</td>\n      <td>75.049308</td>\n      <td>2.241359e+04</td>\n      <td>28.086154</td>\n      <td>1.563839</td>\n      <td>5.376727</td>\n      <td>2712.692011</td>\n      <td>4.353234</td>\n      <td>23.260105</td>\n      <td>6.731023</td>\n    </tr>\n    <tr>\n      <th>min</th>\n      <td>1.087750e+08</td>\n      <td>108775.000000</td>\n      <td>-1.000000</td>\n      <td>-1.000000e+00</td>\n      <td>-1.000000</td>\n      <td>-1.000000</td>\n      <td>-1.000000</td>\n      <td>1201.000000</td>\n      <td>1.000000</td>\n      <td>2.000000</td>\n      <td>1001.000000</td>\n    </tr>\n    <tr>\n      <th>25%</th>\n      <td>6.169925e+08</td>\n      <td>616992.500000</td>\n      <td>252.000000</td>\n      <td>1.010008e+06</td>\n      <td>9.000000</td>\n      <td>2.000000</td>\n      <td>4.000000</td>\n      <td>1676.000000</td>\n      <td>1.000000</td>\n      <td>20.000000</td>\n      <td>1005.000000</td>\n    </tr>\n    <tr>\n      <th>50%</th>\n      <td>7.022130e+08</td>\n      <td>702213.000000</td>\n      <td>259.000000</td>\n      <td>1.010016e+06</td>\n      <td>14.000000</td>\n      <td>4.000000</td>\n      <td>5.000000</td>\n      <td>4222.000000</td>\n      <td>2.000000</td>\n      <td>46.000000</td>\n      <td>1009.000000</td>\n    </tr>\n    <tr>\n      <th>75%</th>\n      <td>7.967030e+08</td>\n      <td>796703.000000</td>\n      <td>272.000000</td>\n      <td>1.010016e+06</td>\n      <td>52.000000</td>\n      <td>4.000000</td>\n      <td>11.000000</td>\n      <td>7389.000000</td>\n      <td>4.000000</td>\n      <td>61.000000</td>\n      <td>1017.000000</td>\n    </tr>\n    <tr>\n      <th>max</th>\n      <td>9.594610e+08</td>\n      <td>959461.000000</td>\n      <td>762.000000</td>\n      <td>1.010029e+06</td>\n      <td>93.000000</td>\n      <td>7.000000</td>\n      <td>20.000000</td>\n      <td>9989.000000</td>\n      <td>26.000000</td>\n      <td>97.000000</td>\n      <td>1025.000000</td>\n    </tr>\n  </tbody>\n</table>\n</div>"
     },
     "execution_count": 5,
     "metadata": {},
     "output_type": "execute_result"
    }
   ],
   "source": [
    "articles.describe()"
   ],
   "metadata": {
    "collapsed": false,
    "ExecuteTime": {
     "end_time": "2023-10-04T07:33:32.838019300Z",
     "start_time": "2023-10-04T07:33:32.751017400Z"
    }
   }
  },
  {
   "cell_type": "markdown",
   "source": [
    "We can see that some columns values contain -1 values where it shouldn't be the case, but the columns containing them do not seem all too important:"
   ],
   "metadata": {
    "collapsed": false
   }
  },
  {
   "cell_type": "code",
   "execution_count": 6,
   "outputs": [
    {
     "data": {
      "text/plain": "article_id                    108775015\nproduct_code                     108775\nproduct_type_no                      -1\ngraphical_appearance_no              -1\ncolour_group_code                    -1\nperceived_colour_value_id            -1\nperceived_colour_master_id           -1\ndepartment_no                      1201\nindex_group_no                        1\nsection_no                            2\ngarment_group_no                   1001\ndtype: int64"
     },
     "execution_count": 6,
     "metadata": {},
     "output_type": "execute_result"
    }
   ],
   "source": [
    "articles.min(numeric_only=True)"
   ],
   "metadata": {
    "collapsed": false,
    "ExecuteTime": {
     "end_time": "2023-10-04T07:33:32.858517Z",
     "start_time": "2023-10-04T07:33:32.798017600Z"
    }
   }
  },
  {
   "cell_type": "markdown",
   "source": [
    "Let's observe how severe this is:"
   ],
   "metadata": {
    "collapsed": false
   }
  },
  {
   "cell_type": "code",
   "execution_count": 7,
   "outputs": [
    {
     "name": "stdout",
     "output_type": "stream",
     "text": [
      "Amount of value -1 in product_type_no: 121\n",
      "Amount of value -1 in graphical_appearance_no: 52\n",
      "Amount of value -1 in colour_group_code: 28\n",
      "Amount of value -1 in perceived_colour_value_id: 28\n",
      "Amount of value -1 in perceived_colour_master_id: 685\n"
     ]
    }
   ],
   "source": [
    "print_num_value_count(articles, \"product_type_no\", -1)\n",
    "print_num_value_count(articles, \"graphical_appearance_no\", -1)\n",
    "print_num_value_count(articles, \"colour_group_code\", -1)\n",
    "print_num_value_count(articles, \"perceived_colour_value_id\", -1)\n",
    "print_num_value_count(articles, \"perceived_colour_master_id\", -1)\n"
   ],
   "metadata": {
    "collapsed": false,
    "ExecuteTime": {
     "end_time": "2023-10-04T07:33:32.859516800Z",
     "start_time": "2023-10-04T07:33:32.814017100Z"
    }
   }
  },
  {
   "cell_type": "markdown",
   "source": [
    "There also aren't many, this isn't a problem."
   ],
   "metadata": {
    "collapsed": false
   }
  },
  {
   "cell_type": "code",
   "execution_count": 8,
   "outputs": [
    {
     "data": {
      "text/plain": "article_id                    959461001\nproduct_code                     959461\nproduct_type_no                     762\ngraphical_appearance_no         1010029\ncolour_group_code                    93\nperceived_colour_value_id             7\nperceived_colour_master_id           20\ndepartment_no                      9989\nindex_group_no                       26\nsection_no                           97\ngarment_group_no                   1025\ndtype: int64"
     },
     "execution_count": 8,
     "metadata": {},
     "output_type": "execute_result"
    }
   ],
   "source": [
    "articles.max(numeric_only=True)"
   ],
   "metadata": {
    "collapsed": false,
    "ExecuteTime": {
     "end_time": "2023-10-04T07:33:32.861516700Z",
     "start_time": "2023-10-04T07:33:32.829518200Z"
    }
   }
  },
  {
   "cell_type": "code",
   "execution_count": 9,
   "outputs": [
    {
     "name": "stdout",
     "output_type": "stream",
     "text": [
      "Column 'detail_desc' has 416 missing values (0.39%).\n"
     ]
    }
   ],
   "source": [
    "missing_values(articles)"
   ],
   "metadata": {
    "collapsed": false,
    "ExecuteTime": {
     "end_time": "2023-10-04T07:33:32.949017Z",
     "start_time": "2023-10-04T07:33:32.845018400Z"
    }
   }
  },
  {
   "cell_type": "code",
   "execution_count": 10,
   "outputs": [
    {
     "name": "stdout",
     "output_type": "stream",
     "text": [
      "Number of article_id (first 6 digits) not matching product_code: 0.\n"
     ]
    }
   ],
   "source": [
    "non_matches = (articles['article_id'].astype(str).str[:6] != articles['product_code'].astype(str)).sum()\n",
    "print(f\"Number of article_id (first 6 digits) not matching product_code: {non_matches}.\")\n"
   ],
   "metadata": {
    "collapsed": false,
    "ExecuteTime": {
     "end_time": "2023-10-04T07:33:33.012017200Z",
     "start_time": "2023-10-04T07:33:32.890516300Z"
    }
   }
  },
  {
   "cell_type": "code",
   "execution_count": 11,
   "outputs": [
    {
     "name": "stdout",
     "output_type": "stream",
     "text": [
      "section_no -> section_name contains 2 inconsistencies.\n",
      "       section_no  section_name\n",
      "38956           4  Ladies Other\n",
      "43598          17  Ladies Other\n",
      "department_no -> department_name contains 71 inconsistencies.\n",
      "       department_no           department_name\n",
      "0               1676              Jersey Basic\n",
      "16              5883              Jersey Basic\n",
      "23              2032                    Jersey\n",
      "28              4342  EQ & Special Collections\n",
      "121             3509                     Belts\n",
      "...              ...                       ...\n",
      "11932           7520                  Knitwear\n",
      "20908           3708                Loungewear\n",
      "26661           1778         OL Extended Sizes\n",
      "26948           3941               Accessories\n",
      "34641           7952            Jersey License\n",
      "\n",
      "[71 rows x 2 columns]\n",
      "product_type_no -> product_type_name contains 2 inconsistencies.\n",
      "     product_type_no product_type_name\n",
      "36               532          Umbrella\n",
      "719               83          Umbrella\n"
     ]
    }
   ],
   "source": [
    "col_pairs = {\n",
    "        (\"colour_group_code\", \"colour_group_name\"),\n",
    "        (\"department_no\",\"department_name\"),\n",
    "        (\"garment_group_no\", \"garment_group_name\"),\n",
    "        (\"graphical_appearance_no\",\"graphical_appearance_name\"),\n",
    "        (\"index_code\",\"index_name\"),\n",
    "        (\"index_group_no\",\"index_group_name\"),\n",
    "        (\"perceived_colour_master_id\",\"perceived_colour_master_name\"),\n",
    "        (\"perceived_colour_value_id\",\"perceived_colour_value_name\"),\n",
    "        (\"product_type_no\",\"product_type_name\"),\n",
    "        (\"section_no\",\"section_name\"),\n",
    "\n",
    "}\n",
    "print_inconsistencies(articles, col_pairs)\n"
   ],
   "metadata": {
    "collapsed": false,
    "ExecuteTime": {
     "end_time": "2023-10-04T07:33:33.076016500Z",
     "start_time": "2023-10-04T07:33:32.971519600Z"
    }
   }
  },
  {
   "cell_type": "markdown",
   "source": [
    "# Customers"
   ],
   "metadata": {
    "collapsed": false
   }
  },
  {
   "cell_type": "code",
   "execution_count": 12,
   "outputs": [
    {
     "data": {
      "text/plain": "             FN    Active           age\ncount  476930.0  464404.0  1.356119e+06\nmean        1.0       1.0  3.638696e+01\nstd         0.0       0.0  1.431363e+01\nmin         1.0       1.0  1.600000e+01\n25%         1.0       1.0  2.400000e+01\n50%         1.0       1.0  3.200000e+01\n75%         1.0       1.0  4.900000e+01\nmax         1.0       1.0  9.900000e+01",
      "text/html": "<div>\n<style scoped>\n    .dataframe tbody tr th:only-of-type {\n        vertical-align: middle;\n    }\n\n    .dataframe tbody tr th {\n        vertical-align: top;\n    }\n\n    .dataframe thead th {\n        text-align: right;\n    }\n</style>\n<table border=\"1\" class=\"dataframe\">\n  <thead>\n    <tr style=\"text-align: right;\">\n      <th></th>\n      <th>FN</th>\n      <th>Active</th>\n      <th>age</th>\n    </tr>\n  </thead>\n  <tbody>\n    <tr>\n      <th>count</th>\n      <td>476930.0</td>\n      <td>464404.0</td>\n      <td>1.356119e+06</td>\n    </tr>\n    <tr>\n      <th>mean</th>\n      <td>1.0</td>\n      <td>1.0</td>\n      <td>3.638696e+01</td>\n    </tr>\n    <tr>\n      <th>std</th>\n      <td>0.0</td>\n      <td>0.0</td>\n      <td>1.431363e+01</td>\n    </tr>\n    <tr>\n      <th>min</th>\n      <td>1.0</td>\n      <td>1.0</td>\n      <td>1.600000e+01</td>\n    </tr>\n    <tr>\n      <th>25%</th>\n      <td>1.0</td>\n      <td>1.0</td>\n      <td>2.400000e+01</td>\n    </tr>\n    <tr>\n      <th>50%</th>\n      <td>1.0</td>\n      <td>1.0</td>\n      <td>3.200000e+01</td>\n    </tr>\n    <tr>\n      <th>75%</th>\n      <td>1.0</td>\n      <td>1.0</td>\n      <td>4.900000e+01</td>\n    </tr>\n    <tr>\n      <th>max</th>\n      <td>1.0</td>\n      <td>1.0</td>\n      <td>9.900000e+01</td>\n    </tr>\n  </tbody>\n</table>\n</div>"
     },
     "execution_count": 12,
     "metadata": {},
     "output_type": "execute_result"
    }
   ],
   "source": [
    "customers.describe()"
   ],
   "metadata": {
    "collapsed": false,
    "ExecuteTime": {
     "end_time": "2023-10-04T07:33:33.296017700Z",
     "start_time": "2023-10-04T07:33:33.077016700Z"
    }
   }
  },
  {
   "cell_type": "code",
   "execution_count": 13,
   "outputs": [
    {
     "data": {
      "text/plain": "                                         customer_id   FN  Active   \n0  00000dbacae5abe5e23885899a1fa44253a17956c6d1c3...  NaN     NaN  \\\n1  0000423b00ade91418cceaf3b26c6af3dd342b51fd051e...  NaN     NaN   \n2  000058a12d5b43e67d225668fa1f8d618c13dc232df0ca...  NaN     NaN   \n3  00005ca1c9ed5f5146b52ac8639a40ca9d57aeff4d1bd2...  NaN     NaN   \n4  00006413d8573cd20ed7128e53b7b13819fe5cfc2d801f...  1.0     1.0   \n\n  club_member_status fashion_news_frequency   age   \n0             ACTIVE                   NONE  49.0  \\\n1             ACTIVE                   NONE  25.0   \n2             ACTIVE                   NONE  24.0   \n3             ACTIVE                   NONE  54.0   \n4             ACTIVE              Regularly  52.0   \n\n                                         postal_code  \n0  52043ee2162cf5aa7ee79974281641c6f11a68d276429a...  \n1  2973abc54daa8a5f8ccfe9362140c63247c5eee03f1d93...  \n2  64f17e6a330a85798e4998f62d0930d14db8db1c054af6...  \n3  5d36574f52495e81f019b680c843c443bd343d5ca5b1c2...  \n4  25fa5ddee9aac01b35208d01736e57942317d756b32ddd...  ",
      "text/html": "<div>\n<style scoped>\n    .dataframe tbody tr th:only-of-type {\n        vertical-align: middle;\n    }\n\n    .dataframe tbody tr th {\n        vertical-align: top;\n    }\n\n    .dataframe thead th {\n        text-align: right;\n    }\n</style>\n<table border=\"1\" class=\"dataframe\">\n  <thead>\n    <tr style=\"text-align: right;\">\n      <th></th>\n      <th>customer_id</th>\n      <th>FN</th>\n      <th>Active</th>\n      <th>club_member_status</th>\n      <th>fashion_news_frequency</th>\n      <th>age</th>\n      <th>postal_code</th>\n    </tr>\n  </thead>\n  <tbody>\n    <tr>\n      <th>0</th>\n      <td>00000dbacae5abe5e23885899a1fa44253a17956c6d1c3...</td>\n      <td>NaN</td>\n      <td>NaN</td>\n      <td>ACTIVE</td>\n      <td>NONE</td>\n      <td>49.0</td>\n      <td>52043ee2162cf5aa7ee79974281641c6f11a68d276429a...</td>\n    </tr>\n    <tr>\n      <th>1</th>\n      <td>0000423b00ade91418cceaf3b26c6af3dd342b51fd051e...</td>\n      <td>NaN</td>\n      <td>NaN</td>\n      <td>ACTIVE</td>\n      <td>NONE</td>\n      <td>25.0</td>\n      <td>2973abc54daa8a5f8ccfe9362140c63247c5eee03f1d93...</td>\n    </tr>\n    <tr>\n      <th>2</th>\n      <td>000058a12d5b43e67d225668fa1f8d618c13dc232df0ca...</td>\n      <td>NaN</td>\n      <td>NaN</td>\n      <td>ACTIVE</td>\n      <td>NONE</td>\n      <td>24.0</td>\n      <td>64f17e6a330a85798e4998f62d0930d14db8db1c054af6...</td>\n    </tr>\n    <tr>\n      <th>3</th>\n      <td>00005ca1c9ed5f5146b52ac8639a40ca9d57aeff4d1bd2...</td>\n      <td>NaN</td>\n      <td>NaN</td>\n      <td>ACTIVE</td>\n      <td>NONE</td>\n      <td>54.0</td>\n      <td>5d36574f52495e81f019b680c843c443bd343d5ca5b1c2...</td>\n    </tr>\n    <tr>\n      <th>4</th>\n      <td>00006413d8573cd20ed7128e53b7b13819fe5cfc2d801f...</td>\n      <td>1.0</td>\n      <td>1.0</td>\n      <td>ACTIVE</td>\n      <td>Regularly</td>\n      <td>52.0</td>\n      <td>25fa5ddee9aac01b35208d01736e57942317d756b32ddd...</td>\n    </tr>\n  </tbody>\n</table>\n</div>"
     },
     "execution_count": 13,
     "metadata": {},
     "output_type": "execute_result"
    }
   ],
   "source": [
    "customers.head()"
   ],
   "metadata": {
    "collapsed": false,
    "ExecuteTime": {
     "end_time": "2023-10-04T07:33:33.308516400Z",
     "start_time": "2023-10-04T07:33:33.294020400Z"
    }
   }
  },
  {
   "cell_type": "code",
   "execution_count": 14,
   "outputs": [
    {
     "name": "stdout",
     "output_type": "stream",
     "text": [
      "Column 'FN' has 895050 missing values (65.24%).\n",
      "Column 'Active' has 907576 missing values (66.15%).\n",
      "Column 'club_member_status' has 6062 missing values (0.44%).\n",
      "Column 'fashion_news_frequency' has 16011 missing values (1.17%).\n",
      "Column 'age' has 15861 missing values (1.16%).\n"
     ]
    }
   ],
   "source": [
    "missing_values(customers)"
   ],
   "metadata": {
    "collapsed": false,
    "ExecuteTime": {
     "end_time": "2023-10-04T07:33:33.480517900Z",
     "start_time": "2023-10-04T07:33:33.309517800Z"
    }
   }
  },
  {
   "cell_type": "code",
   "execution_count": 15,
   "outputs": [
    {
     "data": {
      "text/plain": "FN\nNaN    895050\n1.0    476930\nName: count, dtype: int64"
     },
     "execution_count": 15,
     "metadata": {},
     "output_type": "execute_result"
    }
   ],
   "source": [
    "customers[\"FN\"].value_counts(dropna=False)"
   ],
   "metadata": {
    "collapsed": false,
    "ExecuteTime": {
     "end_time": "2023-10-04T07:33:33.539519900Z",
     "start_time": "2023-10-04T07:33:33.480517900Z"
    }
   }
  },
  {
   "cell_type": "code",
   "execution_count": 16,
   "outputs": [
    {
     "data": {
      "text/plain": "Active\nNaN    907576\n1.0    464404\nName: count, dtype: int64"
     },
     "execution_count": 16,
     "metadata": {},
     "output_type": "execute_result"
    }
   ],
   "source": [
    "customers[\"Active\"].value_counts(dropna=False)"
   ],
   "metadata": {
    "collapsed": false,
    "ExecuteTime": {
     "end_time": "2023-10-04T07:33:33.548516800Z",
     "start_time": "2023-10-04T07:33:33.512016500Z"
    }
   }
  },
  {
   "cell_type": "markdown",
   "source": [
    "Both \"FN\" and \"Active\" contain boolean values that only consists of either 1 or NaN. We can just replace the NaN values with 0's."
   ],
   "metadata": {
    "collapsed": false
   }
  },
  {
   "cell_type": "code",
   "execution_count": 17,
   "outputs": [
    {
     "data": {
      "text/plain": "fashion_news_frequency\nNONE         877711\nRegularly    477416\nNaN           16011\nMonthly         842\nName: count, dtype: int64"
     },
     "execution_count": 17,
     "metadata": {},
     "output_type": "execute_result"
    }
   ],
   "source": [
    "customers[\"fashion_news_frequency\"].value_counts(dropna=False)\n"
   ],
   "metadata": {
    "collapsed": false,
    "ExecuteTime": {
     "end_time": "2023-10-04T07:33:33.591516500Z",
     "start_time": "2023-10-04T07:33:33.568516900Z"
    }
   }
  },
  {
   "cell_type": "code",
   "execution_count": 18,
   "outputs": [
    {
     "data": {
      "text/plain": "age\n21.0    67530\n24.0    56124\n20.0    55196\n25.0    54989\n23.0    54867\n        ...  \n98.0        7\n97.0        4\n93.0        4\n96.0        3\n94.0        3\nName: count, Length: 85, dtype: int64"
     },
     "execution_count": 18,
     "metadata": {},
     "output_type": "execute_result"
    }
   ],
   "source": [
    "customers[\"age\"].value_counts(dropna=False)\n"
   ],
   "metadata": {
    "collapsed": false,
    "ExecuteTime": {
     "end_time": "2023-10-04T07:33:33.625017100Z",
     "start_time": "2023-10-04T07:33:33.588516700Z"
    }
   }
  },
  {
   "cell_type": "markdown",
   "source": [
    "The age distribution does make sense and peak ages for online E-commerce (20 - 34) is supported by statistics (https://ec.europa.eu/eurostat/statistics-explained/index.php?title=E-commerce_statistics_for_individuals):"
   ],
   "metadata": {
    "collapsed": false
   }
  },
  {
   "cell_type": "code",
   "execution_count": 19,
   "outputs": [
    {
     "data": {
      "text/plain": "<Figure size 640x480 with 1 Axes>",
      "image/png": "[encoded data removed]"
     },
     "metadata": {},
     "output_type": "display_data"
    }
   ],
   "source": [
    "sns.histplot(customers[\"age\"], kde=True)\n",
    "plt.show()\n"
   ],
   "metadata": {
    "collapsed": false,
    "ExecuteTime": {
     "end_time": "2023-10-04T07:33:40.639779100Z",
     "start_time": "2023-10-04T07:33:33.620017400Z"
    }
   }
  },
  {
   "cell_type": "markdown",
   "source": [
    "It is weird how over 120k customers all share the same postal code, out of 350k registered ones. These could be botted accounts.\n"
   ],
   "metadata": {
    "collapsed": false
   }
  },
  {
   "cell_type": "code",
   "execution_count": 20,
   "outputs": [
    {
     "data": {
      "text/plain": "postal_code\n2c29ae653a9282cce4151bd87643c907644e09541abc28ae87dea0d1f6603b1c    120303\ncc4ed85e30f4977dae47662ddc468cd2eec11472de6fac5ec985080fd92243c8       261\n714976379549eb90aae4a71bca6c7402cc646ae7c40f6c1cb91d4b5a18623fc1       159\n7c1fa3b0ec1d37ce2c3f34f63bd792f3b4494f324b6be5d1e4ba6a75456b96a7       157\n5b7eb31eabebd3277de632b82267286d847fd5d44287ee150bb4206b48439145       156\n                                                                     ...  \n16dd7e391f305b54c01ffed87c189e33de83158d0a808d1b346222703742f638         1\n5ce1c699380b3c13655347c9636043f5e64ec2538a1ee7d42dd253a584577630         1\nafdedc642d01efeefec6fc8d3394724a71888ebd0ff0311eff6f34946589479d         1\n4c8838d278d23029c920b9684fa4cf30a532428a445afb300eeb288685cf00e1         1\n0a1a03306fb2f62164c2a439b38c0caa64b40deaae868799ccb93ac69444b79d         1\nName: count, Length: 352899, dtype: int64"
     },
     "execution_count": 20,
     "metadata": {},
     "output_type": "execute_result"
    }
   ],
   "source": [
    "customers[\"postal_code\"].value_counts(dropna=False)\n"
   ],
   "metadata": {
    "collapsed": false,
    "ExecuteTime": {
     "end_time": "2023-10-04T07:33:41.075278300Z",
     "start_time": "2023-10-04T07:33:40.640778700Z"
    }
   }
  },
  {
   "cell_type": "markdown",
   "source": [
    "Let's see if these possibly botted accounts purchased anything:"
   ],
   "metadata": {
    "collapsed": false
   }
  },
  {
   "cell_type": "code",
   "execution_count": 30,
   "outputs": [
    {
     "data": {
      "text/plain": "customer_id\nTrue     0.992931\nFalse    0.007069\nName: proportion, dtype: float64"
     },
     "execution_count": 30,
     "metadata": {},
     "output_type": "execute_result"
    }
   ],
   "source": [
    "customers[\"customer_id\"].isin(transactions_train[\"customer_id\"]).value_counts(normalize=True)\n",
    "\n"
   ],
   "metadata": {
    "collapsed": false,
    "ExecuteTime": {
     "end_time": "2023-10-04T07:40:17.026109400Z",
     "start_time": "2023-10-04T07:40:14.033113200Z"
    }
   }
  },
  {
   "cell_type": "markdown",
   "source": [
    "Over 99% of all customers purchased atleast once, so it's possible that these botted accounts abuse promotions and discounts."
   ],
   "metadata": {
    "collapsed": false
   }
  },
  {
   "cell_type": "markdown",
   "source": [
    "Let's look at whether the rate they bought online:"
   ],
   "metadata": {
    "collapsed": false
   }
  },
  {
   "cell_type": "code",
   "execution_count": 47,
   "outputs": [
    {
     "name": "stdout",
     "output_type": "stream",
     "text": [
      "Amount of unique 'botted'customers: 120303\n"
     ]
    },
    {
     "data": {
      "text/plain": "sales_channel_id\n1    0.785396\n2    0.214604\nName: proportion, dtype: float64"
     },
     "execution_count": 47,
     "metadata": {},
     "output_type": "execute_result"
    }
   ],
   "source": [
    "botted_customers = customers[[\"customer_id\", \"postal_code\"]][customers[\"postal_code\"] == \"2c29ae653a9282cce4151bd87643c907644e09541abc28ae87dea0d1f6603b1c\"]\n",
    "unique_customers = botted_customers[\"customer_id\"].nunique()\n",
    "print(f\"Amount of unique 'botted'customers: {unique_customers}\")\n",
    "botted_transactions = transactions_train[transactions_train[\"customer_id\"].isin(botted_customers[\"customer_id\"])]\n",
    "botted_transactions[\"sales_channel_id\"].value_counts(normalize=True)"
   ],
   "metadata": {
    "collapsed": false,
    "ExecuteTime": {
     "end_time": "2023-10-04T08:01:00.066489100Z",
     "start_time": "2023-10-04T08:00:58.492489Z"
    }
   }
  },
  {
   "cell_type": "markdown",
   "source": [
    "We compare this with the general rate (transactions without the bots):"
   ],
   "metadata": {
    "collapsed": false
   }
  },
  {
   "cell_type": "code",
   "execution_count": 36,
   "outputs": [
    {
     "data": {
      "text/plain": "sales_channel_id\n2    0.713858\n1    0.286142\nName: proportion, dtype: float64"
     },
     "execution_count": 36,
     "metadata": {},
     "output_type": "execute_result"
    }
   ],
   "source": [
    "other_customers = customers[[\"customer_id\", \"postal_code\"]][customers[\"postal_code\"] != \"2c29ae653a9282cce4151bd87643c907644e09541abc28ae87dea0d1f6603b1c\"]\n",
    "other_transactions = transactions_train[transactions_train[\"customer_id\"].isin(other_customers[\"customer_id\"])]\n",
    "other_transactions[\"sales_channel_id\"].value_counts(normalize=True)"
   ],
   "metadata": {
    "collapsed": false,
    "ExecuteTime": {
     "end_time": "2023-10-04T07:46:31.450032500Z",
     "start_time": "2023-10-04T07:46:26.330032100Z"
    }
   }
  },
  {
   "cell_type": "markdown",
   "source": [
    "The assumed bots only contain 7% more online purchases, so they (or most) might not be botted after all."
   ],
   "metadata": {
    "collapsed": false
   }
  },
  {
   "cell_type": "markdown",
   "source": [
    "# Transactions_train"
   ],
   "metadata": {
    "collapsed": false
   }
  },
  {
   "cell_type": "code",
   "execution_count": 37,
   "outputs": [
    {
     "data": {
      "text/plain": "        t_dat                                        customer_id  article_id   \n0  2018-09-20  000058a12d5b43e67d225668fa1f8d618c13dc232df0ca...   663713001  \\\n1  2018-09-20  000058a12d5b43e67d225668fa1f8d618c13dc232df0ca...   541518023   \n2  2018-09-20  00007d2de826758b65a93dd24ce629ed66842531df6699...   505221004   \n3  2018-09-20  00007d2de826758b65a93dd24ce629ed66842531df6699...   685687003   \n4  2018-09-20  00007d2de826758b65a93dd24ce629ed66842531df6699...   685687004   \n\n      price  sales_channel_id  \n0  0.050831                 2  \n1  0.030492                 2  \n2  0.015237                 2  \n3  0.016932                 2  \n4  0.016932                 2  ",
      "text/html": "<div>\n<style scoped>\n    .dataframe tbody tr th:only-of-type {\n        vertical-align: middle;\n    }\n\n    .dataframe tbody tr th {\n        vertical-align: top;\n    }\n\n    .dataframe thead th {\n        text-align: right;\n    }\n</style>\n<table border=\"1\" class=\"dataframe\">\n  <thead>\n    <tr style=\"text-align: right;\">\n      <th></th>\n      <th>t_dat</th>\n      <th>customer_id</th>\n      <th>article_id</th>\n      <th>price</th>\n      <th>sales_channel_id</th>\n    </tr>\n  </thead>\n  <tbody>\n    <tr>\n      <th>0</th>\n      <td>2018-09-20</td>\n      <td>000058a12d5b43e67d225668fa1f8d618c13dc232df0ca...</td>\n      <td>663713001</td>\n      <td>0.050831</td>\n      <td>2</td>\n    </tr>\n    <tr>\n      <th>1</th>\n      <td>2018-09-20</td>\n      <td>000058a12d5b43e67d225668fa1f8d618c13dc232df0ca...</td>\n      <td>541518023</td>\n      <td>0.030492</td>\n      <td>2</td>\n    </tr>\n    <tr>\n      <th>2</th>\n      <td>2018-09-20</td>\n      <td>00007d2de826758b65a93dd24ce629ed66842531df6699...</td>\n      <td>505221004</td>\n      <td>0.015237</td>\n      <td>2</td>\n    </tr>\n    <tr>\n      <th>3</th>\n      <td>2018-09-20</td>\n      <td>00007d2de826758b65a93dd24ce629ed66842531df6699...</td>\n      <td>685687003</td>\n      <td>0.016932</td>\n      <td>2</td>\n    </tr>\n    <tr>\n      <th>4</th>\n      <td>2018-09-20</td>\n      <td>00007d2de826758b65a93dd24ce629ed66842531df6699...</td>\n      <td>685687004</td>\n      <td>0.016932</td>\n      <td>2</td>\n    </tr>\n  </tbody>\n</table>\n</div>"
     },
     "execution_count": 37,
     "metadata": {},
     "output_type": "execute_result"
    }
   ],
   "source": [
    "transactions_train.head()"
   ],
   "metadata": {
    "collapsed": false,
    "ExecuteTime": {
     "end_time": "2023-10-04T07:54:17.558957400Z",
     "start_time": "2023-10-04T07:54:17.548460500Z"
    }
   }
  },
  {
   "cell_type": "markdown",
   "source": [
    "As there is no output, there are no missing values in this dataset:"
   ],
   "metadata": {
    "collapsed": false
   }
  },
  {
   "cell_type": "code",
   "execution_count": 38,
   "outputs": [],
   "source": [
    "missing_values(transactions_train)"
   ],
   "metadata": {
    "collapsed": false,
    "ExecuteTime": {
     "end_time": "2023-10-04T07:54:21.318326600Z",
     "start_time": "2023-10-04T07:54:20.034827500Z"
    }
   }
  },
  {
   "cell_type": "markdown",
   "source": [
    "We check whether all customer_ids exist in table Customers"
   ],
   "metadata": {
    "collapsed": false
   }
  },
  {
   "cell_type": "code",
   "execution_count": 39,
   "outputs": [
    {
     "data": {
      "text/plain": "customer_id\nTrue    1.0\nName: proportion, dtype: float64"
     },
     "execution_count": 39,
     "metadata": {},
     "output_type": "execute_result"
    }
   ],
   "source": [
    "transactions_train[\"customer_id\"].isin(customers[\"customer_id\"]).value_counts(normalize=True)\n"
   ],
   "metadata": {
    "collapsed": false,
    "ExecuteTime": {
     "end_time": "2023-10-04T07:54:26.339830800Z",
     "start_time": "2023-10-04T07:54:21.781333100Z"
    }
   }
  },
  {
   "cell_type": "markdown",
   "source": [
    "This is the case, now we do the same for all article_ids in table Articles"
   ],
   "metadata": {
    "collapsed": false
   }
  },
  {
   "cell_type": "code",
   "execution_count": 40,
   "outputs": [
    {
     "data": {
      "text/plain": "article_id\nTrue    1.0\nName: proportion, dtype: float64"
     },
     "execution_count": 40,
     "metadata": {},
     "output_type": "execute_result"
    }
   ],
   "source": [
    "transactions_train[\"article_id\"].isin(articles[\"article_id\"]).value_counts(normalize=True)\n"
   ],
   "metadata": {
    "collapsed": false,
    "ExecuteTime": {
     "end_time": "2023-10-04T07:54:26.742830600Z",
     "start_time": "2023-10-04T07:54:26.341331400Z"
    }
   }
  },
  {
   "cell_type": "markdown",
   "source": [
    "This is also the case."
   ],
   "metadata": {
    "collapsed": false
   }
  },
  {
   "cell_type": "markdown",
   "source": [
    "I've already discussed the sale types (online or physical) in the Customers section, we saw that the majority of transactions are done online, and that there was not much difference in the choice when considering potentially botted customers (ref. Customers):\n"
   ],
   "metadata": {
    "collapsed": false
   }
  },
  {
   "cell_type": "code",
   "execution_count": 41,
   "outputs": [
    {
     "data": {
      "text/plain": "sales_channel_id\n2    0.704028\n1    0.295972\nName: proportion, dtype: float64"
     },
     "execution_count": 41,
     "metadata": {},
     "output_type": "execute_result"
    }
   ],
   "source": [
    "transactions_train[\"sales_channel_id\"].value_counts(normalize=True)"
   ],
   "metadata": {
    "collapsed": false,
    "ExecuteTime": {
     "end_time": "2023-10-04T07:54:26.913331400Z",
     "start_time": "2023-10-04T07:54:26.744330800Z"
    }
   }
  },
  {
   "cell_type": "markdown",
   "source": [
    "Now let's plot whether the prices of these transactions are reasonable:"
   ],
   "metadata": {
    "collapsed": false
   }
  },
  {
   "cell_type": "code",
   "execution_count": 42,
   "outputs": [
    {
     "data": {
      "text/plain": "<Axes: xlabel='price', ylabel='Count'>"
     },
     "execution_count": 42,
     "metadata": {},
     "output_type": "execute_result"
    },
    {
     "data": {
      "text/plain": "<Figure size 640x480 with 1 Axes>",
      "image/png": "[encoded data removed]"
     },
     "metadata": {},
     "output_type": "display_data"
    }
   ],
   "source": [
    "sns.histplot(transactions_train[\"price\"], kde=True)\n"
   ],
   "metadata": {
    "collapsed": false,
    "ExecuteTime": {
     "end_time": "2023-10-04T07:55:20.351246500Z",
     "start_time": "2023-10-04T07:54:26.915330400Z"
    }
   }
  },
  {
   "cell_type": "markdown",
   "source": [
    "Assuming the prices were normalized, it does make sense.\n"
   ],
   "metadata": {
    "collapsed": false
   }
  },
  {
   "cell_type": "markdown",
   "source": [
    "Finally, we check the dates of these transactions:"
   ],
   "metadata": {
    "collapsed": false
   }
  },
  {
   "cell_type": "code",
   "execution_count": 43,
   "outputs": [
    {
     "data": {
      "text/plain": "<Figure size 1200x800 with 1 Axes>",
      "image/png": "[encoded data removed]"
     },
     "metadata": {},
     "output_type": "display_data"
    }
   ],
   "source": [
    "dates = pd.to_datetime(transactions_train[\"t_dat\"]) # too many dates on the x-axis, this reduces it\n",
    "plt.figure(figsize=(12, 8))\n",
    "\n",
    "sns.histplot(dates, kde=True)\n",
    "plt.xticks(rotation=45)\n",
    "plt.show()\n"
   ],
   "metadata": {
    "collapsed": false,
    "ExecuteTime": {
     "end_time": "2023-10-04T07:58:30.752699800Z",
     "start_time": "2023-10-04T07:55:20.354741800Z"
    }
   }
  },
  {
   "cell_type": "markdown",
   "source": [
    "The dates also make sense, they range from 2018 - 2020 and there are no abnormalities."
   ],
   "metadata": {
    "collapsed": false
   }
  },
  {
   "cell_type": "markdown",
   "source": [
    "# Sample submission"
   ],
   "metadata": {
    "collapsed": false
   }
  },
  {
   "cell_type": "code",
   "execution_count": 48,
   "outputs": [
    {
     "data": {
      "text/plain": "                                         customer_id   \n0  00000dbacae5abe5e23885899a1fa44253a17956c6d1c3...  \\\n1  0000423b00ade91418cceaf3b26c6af3dd342b51fd051e...   \n2  000058a12d5b43e67d225668fa1f8d618c13dc232df0ca...   \n3  00005ca1c9ed5f5146b52ac8639a40ca9d57aeff4d1bd2...   \n4  00006413d8573cd20ed7128e53b7b13819fe5cfc2d801f...   \n\n                                          prediction  \n0  0706016001 0706016002 0372860001 0610776002 07...  \n1  0706016001 0706016002 0372860001 0610776002 07...  \n2  0706016001 0706016002 0372860001 0610776002 07...  \n3  0706016001 0706016002 0372860001 0610776002 07...  \n4  0706016001 0706016002 0372860001 0610776002 07...  ",
      "text/html": "<div>\n<style scoped>\n    .dataframe tbody tr th:only-of-type {\n        vertical-align: middle;\n    }\n\n    .dataframe tbody tr th {\n        vertical-align: top;\n    }\n\n    .dataframe thead th {\n        text-align: right;\n    }\n</style>\n<table border=\"1\" class=\"dataframe\">\n  <thead>\n    <tr style=\"text-align: right;\">\n      <th></th>\n      <th>customer_id</th>\n      <th>prediction</th>\n    </tr>\n  </thead>\n  <tbody>\n    <tr>\n      <th>0</th>\n      <td>00000dbacae5abe5e23885899a1fa44253a17956c6d1c3...</td>\n      <td>0706016001 0706016002 0372860001 0610776002 07...</td>\n    </tr>\n    <tr>\n      <th>1</th>\n      <td>0000423b00ade91418cceaf3b26c6af3dd342b51fd051e...</td>\n      <td>0706016001 0706016002 0372860001 0610776002 07...</td>\n    </tr>\n    <tr>\n      <th>2</th>\n      <td>000058a12d5b43e67d225668fa1f8d618c13dc232df0ca...</td>\n      <td>0706016001 0706016002 0372860001 0610776002 07...</td>\n    </tr>\n    <tr>\n      <th>3</th>\n      <td>00005ca1c9ed5f5146b52ac8639a40ca9d57aeff4d1bd2...</td>\n      <td>0706016001 0706016002 0372860001 0610776002 07...</td>\n    </tr>\n    <tr>\n      <th>4</th>\n      <td>00006413d8573cd20ed7128e53b7b13819fe5cfc2d801f...</td>\n      <td>0706016001 0706016002 0372860001 0610776002 07...</td>\n    </tr>\n  </tbody>\n</table>\n</div>"
     },
     "execution_count": 48,
     "metadata": {},
     "output_type": "execute_result"
    }
   ],
   "source": [
    "sample_submission.head()"
   ],
   "metadata": {
    "collapsed": false,
    "ExecuteTime": {
     "end_time": "2023-10-04T08:08:15.853487200Z",
     "start_time": "2023-10-04T08:08:15.814118500Z"
    }
   }
  },
  {
   "cell_type": "code",
   "execution_count": 49,
   "outputs": [],
   "source": [
    "missing_values(sample_submission)\n"
   ],
   "metadata": {
    "collapsed": false,
    "ExecuteTime": {
     "end_time": "2023-10-04T08:08:44.477748100Z",
     "start_time": "2023-10-04T08:08:43.795153Z"
    }
   }
  },
  {
   "cell_type": "markdown",
   "source": [
    "We check whether all these customers exist in Customers"
   ],
   "metadata": {
    "collapsed": false
   }
  },
  {
   "cell_type": "code",
   "execution_count": 50,
   "outputs": [
    {
     "data": {
      "text/plain": "customer_id\nTrue    1.0\nName: proportion, dtype: float64"
     },
     "execution_count": 50,
     "metadata": {},
     "output_type": "execute_result"
    }
   ],
   "source": [
    "sample_submission[\"customer_id\"].isin(customers[\"customer_id\"]).value_counts(normalize=True)\n"
   ],
   "metadata": {
    "collapsed": false,
    "ExecuteTime": {
     "end_time": "2023-10-04T08:09:39.559070200Z",
     "start_time": "2023-10-04T08:09:39.545071900Z"
    }
   }
  },
  {
   "cell_type": "markdown",
   "source": [
    "They do."
   ],
   "metadata": {
    "collapsed": false
   }
  },
  {
   "cell_type": "code",
   "execution_count": 51,
   "outputs": [
    {
     "data": {
      "text/plain": "prediction\n0706016001 0706016002 0372860001 0610776002 0759871002 0464297007 0372860002 0610776001 0399223001 0706016003 0720125001 0156231001    1371980\nName: count, dtype: int64"
     },
     "execution_count": 51,
     "metadata": {},
     "output_type": "execute_result"
    }
   ],
   "source": [
    "sample_submission[\"prediction\"].value_counts()\n"
   ],
   "metadata": {
    "collapsed": false,
    "ExecuteTime": {
     "end_time": "2023-10-04T08:10:02.691356600Z",
     "start_time": "2023-10-04T08:10:02.681353200Z"
    }
   }
  },
  {
   "cell_type": "markdown",
   "source": [
    "We can see that there is only 1 prediction. The article IDs also seem correct, as they are all 10 digits long."
   ],
   "metadata": {
    "collapsed": false
   }
  },
  {
   "cell_type": "code",
   "execution_count": null,
   "outputs": [],
   "source": [],
   "metadata": {
    "collapsed": false
   }
  }
 ],
 "metadata": {
  "kernelspec": {
   "display_name": "Python 3 (ipykernel)",
   "language": "python",
   "name": "python3"
  },
  "language_info": {
   "codemirror_mode": {
    "name": "ipython",
    "version": 3
   },
   "file_extension": ".py",
   "mimetype": "text/x-python",
   "name": "python",
   "nbconvert_exporter": "python",
   "pygments_lexer": "ipython3",
   "version": "3.9.5"
  }
 },
 "nbformat": 4,
 "nbformat_minor": 4
}
