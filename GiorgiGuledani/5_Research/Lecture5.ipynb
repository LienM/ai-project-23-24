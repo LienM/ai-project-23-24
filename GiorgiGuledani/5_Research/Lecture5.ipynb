{
 "cells": [
  {
   "cell_type": "markdown",
   "source": [
    "**Student name: Giorgi Guledani**\n",
    "\n",
    "**Student ID: 20193667**\n",
    "\n",
    "# Lecture 5: Research 2: Will personalized Long Tail items further improve the recommender system?"
   ],
   "metadata": {
    "collapsed": false
   }
  },
  {
   "cell_type": "markdown",
   "source": [
    "This notebook builds upon the previous research question: \"How to address the Long Tail Problem?\"."
   ],
   "metadata": {
    "collapsed": false
   }
  },
  {
   "cell_type": "code",
   "execution_count": 171,
   "outputs": [],
   "source": [
    "import pandas as pd\n",
    "import utils\n",
    "import seaborn as sns\n",
    "import matplotlib.pyplot as plt\n",
    "from sklearn.mixture import GaussianMixture\n",
    "\n",
    "articles = pd.read_parquet(f'{utils.path}/articles.parquet')\n",
    "customers = pd.read_parquet(f'{utils.path}/customers.parquet')\n",
    "transactions = pd.read_parquet(f'{utils.path}/transactions_train.parquet')"
   ],
   "metadata": {
    "collapsed": false,
    "ExecuteTime": {
     "end_time": "2023-11-22T08:49:06.310808100Z",
     "start_time": "2023-11-22T08:49:03.953898700Z"
    }
   }
  },
  {
   "cell_type": "markdown",
   "source": [
    "# Parameters"
   ],
   "metadata": {
    "collapsed": false
   }
  },
  {
   "cell_type": "code",
   "execution_count": 172,
   "outputs": [],
   "source": [
    "# amount of items to replace Short Head items with personalized Long Tail items, if customer made atleast 1 Long Tail item purchase\n",
    "# else, replace max top K popular items with top K long tail items (same as previous research)\n",
    "K = 1\n",
    "\n",
    "# threshold for identifying long tail items. Total item sale counts below or equal to this threshold are marked as Long Tail\n",
    "# if None, the mean of all item sale counts is taken as the threshold (= threshold in the middle)\n",
    "alpha = 5000"
   ],
   "metadata": {
    "collapsed": false,
    "ExecuteTime": {
     "end_time": "2023-11-22T08:49:06.316807900Z",
     "start_time": "2023-11-22T08:49:05.973010900Z"
    }
   }
  },
  {
   "cell_type": "markdown",
   "source": [
    "# Identifying short head and long tail items"
   ],
   "metadata": {
    "collapsed": false
   }
  },
  {
   "cell_type": "markdown",
   "source": [
    "Like previously, we have to first identify the Long Tail items"
   ],
   "metadata": {
    "collapsed": false
   }
  },
  {
   "cell_type": "code",
   "execution_count": 173,
   "outputs": [
    {
     "name": "stdout",
     "output_type": "stream",
     "text": [
      "Threshold (alpha): 5000\n"
     ]
    },
    {
     "data": {
      "text/plain": "              t_dat           customer_id  article_id     price  \\\n22279468 2020-02-12   7993556869309464686   351484039  0.022017   \n22307079 2020-02-13  11693170829426928559   351484039  0.022017   \n22326267 2020-02-13  14251597971675452778   351484039  0.022017   \n22333826 2020-02-14  11322089096702754811   351484039  0.022017   \n22333814 2020-02-14  17298776028320583102   351484039  0.019814   \n...             ...                   ...         ...       ...   \n31773893 2020-09-22  13118523669876511337   351484039  0.022017   \n31780827 2020-09-22  15473878317449867690   351484039  0.022017   \n31757413 2020-09-22  16551754216385484410   351484039  0.022017   \n31757898 2020-09-22  17214430568995933187   351484039  0.011000   \n31766926 2020-09-22  17247708601818852435   351484039  0.022017   \n\n          sales_channel_id  week  \n22279468                 2    73  \n22307079                 2    73  \n22326267                 2    73  \n22333826                 2    73  \n22333814                 2    73  \n...                    ...   ...  \n31773893                 2   104  \n31780827                 2   104  \n31757413                 2   104  \n31757898                 1   104  \n31766926                 2   104  \n\n[3832 rows x 6 columns]",
      "text/html": "<div>\n<style scoped>\n    .dataframe tbody tr th:only-of-type {\n        vertical-align: middle;\n    }\n\n    .dataframe tbody tr th {\n        vertical-align: top;\n    }\n\n    .dataframe thead th {\n        text-align: right;\n    }\n</style>\n<table border=\"1\" class=\"dataframe\">\n  <thead>\n    <tr style=\"text-align: right;\">\n      <th></th>\n      <th>t_dat</th>\n      <th>customer_id</th>\n      <th>article_id</th>\n      <th>price</th>\n      <th>sales_channel_id</th>\n      <th>week</th>\n    </tr>\n  </thead>\n  <tbody>\n    <tr>\n      <th>22279468</th>\n      <td>2020-02-12</td>\n      <td>7993556869309464686</td>\n      <td>351484039</td>\n      <td>0.022017</td>\n      <td>2</td>\n      <td>73</td>\n    </tr>\n    <tr>\n      <th>22307079</th>\n      <td>2020-02-13</td>\n      <td>11693170829426928559</td>\n      <td>351484039</td>\n      <td>0.022017</td>\n      <td>2</td>\n      <td>73</td>\n    </tr>\n    <tr>\n      <th>22326267</th>\n      <td>2020-02-13</td>\n      <td>14251597971675452778</td>\n      <td>351484039</td>\n      <td>0.022017</td>\n      <td>2</td>\n      <td>73</td>\n    </tr>\n    <tr>\n      <th>22333826</th>\n      <td>2020-02-14</td>\n      <td>11322089096702754811</td>\n      <td>351484039</td>\n      <td>0.022017</td>\n      <td>2</td>\n      <td>73</td>\n    </tr>\n    <tr>\n      <th>22333814</th>\n      <td>2020-02-14</td>\n      <td>17298776028320583102</td>\n      <td>351484039</td>\n      <td>0.019814</td>\n      <td>2</td>\n      <td>73</td>\n    </tr>\n    <tr>\n      <th>...</th>\n      <td>...</td>\n      <td>...</td>\n      <td>...</td>\n      <td>...</td>\n      <td>...</td>\n      <td>...</td>\n    </tr>\n    <tr>\n      <th>31773893</th>\n      <td>2020-09-22</td>\n      <td>13118523669876511337</td>\n      <td>351484039</td>\n      <td>0.022017</td>\n      <td>2</td>\n      <td>104</td>\n    </tr>\n    <tr>\n      <th>31780827</th>\n      <td>2020-09-22</td>\n      <td>15473878317449867690</td>\n      <td>351484039</td>\n      <td>0.022017</td>\n      <td>2</td>\n      <td>104</td>\n    </tr>\n    <tr>\n      <th>31757413</th>\n      <td>2020-09-22</td>\n      <td>16551754216385484410</td>\n      <td>351484039</td>\n      <td>0.022017</td>\n      <td>2</td>\n      <td>104</td>\n    </tr>\n    <tr>\n      <th>31757898</th>\n      <td>2020-09-22</td>\n      <td>17214430568995933187</td>\n      <td>351484039</td>\n      <td>0.011000</td>\n      <td>1</td>\n      <td>104</td>\n    </tr>\n    <tr>\n      <th>31766926</th>\n      <td>2020-09-22</td>\n      <td>17247708601818852435</td>\n      <td>351484039</td>\n      <td>0.022017</td>\n      <td>2</td>\n      <td>104</td>\n    </tr>\n  </tbody>\n</table>\n<p>3832 rows × 6 columns</p>\n</div>"
     },
     "execution_count": 173,
     "metadata": {},
     "output_type": "execute_result"
    }
   ],
   "source": [
    "\n",
    "# Determine the threshold for the top half\n",
    "transactions_count = transactions.groupby([\"article_id\"])[\"article_id\"].value_counts(dropna=False)\n",
    "if not \"long_tail\" in articles.columns:\n",
    "    articles = articles.merge(transactions.groupby(['article_id'])[\"article_id\"].value_counts(dropna=False), left_on =\"article_id\", how=\"left\", right_index=True)\n",
    "    articles[\"count\"].fillna(0, inplace=True)\n",
    "    articles = articles.rename(columns={\"count\": \"sales_count\"})\n",
    "    if alpha is None:\n",
    "        threshold = articles[\"sales_count\"].median()\n",
    "    else:\n",
    "        threshold = alpha \n",
    "    print(f\"Threshold (alpha): {threshold}\")\n",
    "    articles[\"long_tail\"] = (articles[\"sales_count\"] <= threshold).astype(int)\n",
    "transactions[transactions[\"article_id\"] == 351484039]\n"
   ],
   "metadata": {
    "collapsed": false,
    "ExecuteTime": {
     "end_time": "2023-11-22T08:49:07.599306300Z",
     "start_time": "2023-11-22T08:49:05.977807Z"
    }
   }
  },
  {
   "cell_type": "markdown",
   "source": [
    "Amount of Long Tail and Short Head items:"
   ],
   "metadata": {
    "collapsed": false
   }
  },
  {
   "cell_type": "code",
   "execution_count": 174,
   "outputs": [
    {
     "data": {
      "text/plain": "long_tail\n1    105134\n0       408\nName: count, dtype: int64"
     },
     "execution_count": 174,
     "metadata": {},
     "output_type": "execute_result"
    }
   ],
   "source": [
    "articles[\"long_tail\"].value_counts()"
   ],
   "metadata": {
    "collapsed": false,
    "ExecuteTime": {
     "end_time": "2023-11-22T08:49:07.605306300Z",
     "start_time": "2023-11-22T08:49:07.597806700Z"
    }
   }
  },
  {
   "cell_type": "markdown",
   "source": [
    "Items below the threshold get classified as long tail:"
   ],
   "metadata": {
    "collapsed": false
   }
  },
  {
   "cell_type": "code",
   "execution_count": 175,
   "outputs": [
    {
     "data": {
      "text/plain": "        article_id  sales_count\n0        706016001      50287.0\n1        706016002      35043.0\n2        372860001      31718.0\n3        610776002      30199.0\n4        759871002      26329.0\n...            ...          ...\n105537   926010001          0.0\n105538   896195002          0.0\n105539   917203001          0.0\n105540   917203003          0.0\n105541   959461001          0.0\n\n[105542 rows x 2 columns]",
      "text/html": "<div>\n<style scoped>\n    .dataframe tbody tr th:only-of-type {\n        vertical-align: middle;\n    }\n\n    .dataframe tbody tr th {\n        vertical-align: top;\n    }\n\n    .dataframe thead th {\n        text-align: right;\n    }\n</style>\n<table border=\"1\" class=\"dataframe\">\n  <thead>\n    <tr style=\"text-align: right;\">\n      <th></th>\n      <th>article_id</th>\n      <th>sales_count</th>\n    </tr>\n  </thead>\n  <tbody>\n    <tr>\n      <th>0</th>\n      <td>706016001</td>\n      <td>50287.0</td>\n    </tr>\n    <tr>\n      <th>1</th>\n      <td>706016002</td>\n      <td>35043.0</td>\n    </tr>\n    <tr>\n      <th>2</th>\n      <td>372860001</td>\n      <td>31718.0</td>\n    </tr>\n    <tr>\n      <th>3</th>\n      <td>610776002</td>\n      <td>30199.0</td>\n    </tr>\n    <tr>\n      <th>4</th>\n      <td>759871002</td>\n      <td>26329.0</td>\n    </tr>\n    <tr>\n      <th>...</th>\n      <td>...</td>\n      <td>...</td>\n    </tr>\n    <tr>\n      <th>105537</th>\n      <td>926010001</td>\n      <td>0.0</td>\n    </tr>\n    <tr>\n      <th>105538</th>\n      <td>896195002</td>\n      <td>0.0</td>\n    </tr>\n    <tr>\n      <th>105539</th>\n      <td>917203001</td>\n      <td>0.0</td>\n    </tr>\n    <tr>\n      <th>105540</th>\n      <td>917203003</td>\n      <td>0.0</td>\n    </tr>\n    <tr>\n      <th>105541</th>\n      <td>959461001</td>\n      <td>0.0</td>\n    </tr>\n  </tbody>\n</table>\n<p>105542 rows × 2 columns</p>\n</div>"
     },
     "execution_count": 175,
     "metadata": {},
     "output_type": "execute_result"
    }
   ],
   "source": [
    "sorted_articles = articles[[\"article_id\", \"sales_count\"]].sort_values(by=\"sales_count\", ascending=False)\n",
    "\n",
    "sorted_articles.reset_index(drop=True, inplace=True)\n",
    "sorted_articles"
   ],
   "metadata": {
    "collapsed": false,
    "ExecuteTime": {
     "end_time": "2023-11-22T08:49:07.630807400Z",
     "start_time": "2023-11-22T08:49:07.605306300Z"
    }
   }
  },
  {
   "cell_type": "code",
   "execution_count": 176,
   "outputs": [
    {
     "data": {
      "text/plain": "<Figure size 640x480 with 1 Axes>",
      "image/png": "[encoded data removed]"
     },
     "metadata": {},
     "output_type": "display_data"
    },
    {
     "data": {
      "text/plain": "        article_id  sales_count\n0        706016001      50287.0\n1        706016002      35043.0\n2        372860001      31718.0\n3        610776002      30199.0\n4        759871002      26329.0\n...            ...          ...\n105537   926010001          0.0\n105538   896195002          0.0\n105539   917203001          0.0\n105540   917203003          0.0\n105541   959461001          0.0\n\n[105542 rows x 2 columns]",
      "text/html": "<div>\n<style scoped>\n    .dataframe tbody tr th:only-of-type {\n        vertical-align: middle;\n    }\n\n    .dataframe tbody tr th {\n        vertical-align: top;\n    }\n\n    .dataframe thead th {\n        text-align: right;\n    }\n</style>\n<table border=\"1\" class=\"dataframe\">\n  <thead>\n    <tr style=\"text-align: right;\">\n      <th></th>\n      <th>article_id</th>\n      <th>sales_count</th>\n    </tr>\n  </thead>\n  <tbody>\n    <tr>\n      <th>0</th>\n      <td>706016001</td>\n      <td>50287.0</td>\n    </tr>\n    <tr>\n      <th>1</th>\n      <td>706016002</td>\n      <td>35043.0</td>\n    </tr>\n    <tr>\n      <th>2</th>\n      <td>372860001</td>\n      <td>31718.0</td>\n    </tr>\n    <tr>\n      <th>3</th>\n      <td>610776002</td>\n      <td>30199.0</td>\n    </tr>\n    <tr>\n      <th>4</th>\n      <td>759871002</td>\n      <td>26329.0</td>\n    </tr>\n    <tr>\n      <th>...</th>\n      <td>...</td>\n      <td>...</td>\n    </tr>\n    <tr>\n      <th>105537</th>\n      <td>926010001</td>\n      <td>0.0</td>\n    </tr>\n    <tr>\n      <th>105538</th>\n      <td>896195002</td>\n      <td>0.0</td>\n    </tr>\n    <tr>\n      <th>105539</th>\n      <td>917203001</td>\n      <td>0.0</td>\n    </tr>\n    <tr>\n      <th>105540</th>\n      <td>917203003</td>\n      <td>0.0</td>\n    </tr>\n    <tr>\n      <th>105541</th>\n      <td>959461001</td>\n      <td>0.0</td>\n    </tr>\n  </tbody>\n</table>\n<p>105542 rows × 2 columns</p>\n</div>"
     },
     "execution_count": 176,
     "metadata": {},
     "output_type": "execute_result"
    }
   ],
   "source": [
    "sns.scatterplot(y=sorted_articles[\"sales_count\"], x=sorted_articles.index)\n",
    "# plt.gca().invert_xaxis()  # To reverse the x-axis\n",
    "\n",
    "plt.xlabel(\"Popularity rank\")\n",
    "plt.ylabel(\"Sales\")\n",
    "plt.show()\n",
    "\n",
    "plt.show()\n",
    "sorted_articles"
   ],
   "metadata": {
    "collapsed": false,
    "ExecuteTime": {
     "end_time": "2023-11-22T08:49:07.947317600Z",
     "start_time": "2023-11-22T08:49:07.619308200Z"
    }
   }
  },
  {
   "cell_type": "markdown",
   "source": [
    "The scatterplot shows us that there's a select few in the short head part, while a huge amount is in the long tail part."
   ],
   "metadata": {
    "collapsed": false
   }
  },
  {
   "cell_type": "markdown",
   "source": [
    "# Radek's preprocessing"
   ],
   "metadata": {
    "collapsed": false
   }
  },
  {
   "cell_type": "markdown",
   "source": [
    "In this section, I will be swapping Short Head candidates with Long Tail ones "
   ],
   "metadata": {
    "collapsed": false
   }
  },
  {
   "cell_type": "code",
   "execution_count": 177,
   "outputs": [],
   "source": [
    "test_week = transactions.week.max() + 1\n",
    "transactions = transactions[transactions.week > transactions.week.max() - 10]"
   ],
   "metadata": {
    "collapsed": false,
    "ExecuteTime": {
     "end_time": "2023-11-22T08:49:08.173817Z",
     "start_time": "2023-11-22T08:49:07.946319900Z"
    }
   }
  },
  {
   "cell_type": "markdown",
   "source": [
    "## Generating candidates"
   ],
   "metadata": {
    "collapsed": false
   }
  },
  {
   "cell_type": "markdown",
   "source": [
    "### Last purchase candidates"
   ],
   "metadata": {
    "collapsed": false
   }
  },
  {
   "cell_type": "code",
   "execution_count": 178,
   "outputs": [
    {
     "name": "stdout",
     "output_type": "stream",
     "text": [
      "CPU times: total: 11 s\n",
      "Wall time: 11 s\n"
     ]
    }
   ],
   "source": [
    "%%time\n",
    "\n",
    "c2weeks = transactions.groupby('customer_id')['week'].unique()"
   ],
   "metadata": {
    "collapsed": false,
    "ExecuteTime": {
     "end_time": "2023-11-22T08:49:19.206317700Z",
     "start_time": "2023-11-22T08:49:08.174817100Z"
    }
   }
  },
  {
   "cell_type": "code",
   "execution_count": 179,
   "outputs": [
    {
     "data": {
      "text/plain": "            min        max\nweek                      \n95   2020-07-15 2020-07-21\n96   2020-07-22 2020-07-28\n97   2020-07-29 2020-08-04\n98   2020-08-05 2020-08-11\n99   2020-08-12 2020-08-18\n100  2020-08-19 2020-08-25\n101  2020-08-26 2020-09-01\n102  2020-09-02 2020-09-08\n103  2020-09-09 2020-09-15\n104  2020-09-16 2020-09-22",
      "text/html": "<div>\n<style scoped>\n    .dataframe tbody tr th:only-of-type {\n        vertical-align: middle;\n    }\n\n    .dataframe tbody tr th {\n        vertical-align: top;\n    }\n\n    .dataframe thead th {\n        text-align: right;\n    }\n</style>\n<table border=\"1\" class=\"dataframe\">\n  <thead>\n    <tr style=\"text-align: right;\">\n      <th></th>\n      <th>min</th>\n      <th>max</th>\n    </tr>\n    <tr>\n      <th>week</th>\n      <th></th>\n      <th></th>\n    </tr>\n  </thead>\n  <tbody>\n    <tr>\n      <th>95</th>\n      <td>2020-07-15</td>\n      <td>2020-07-21</td>\n    </tr>\n    <tr>\n      <th>96</th>\n      <td>2020-07-22</td>\n      <td>2020-07-28</td>\n    </tr>\n    <tr>\n      <th>97</th>\n      <td>2020-07-29</td>\n      <td>2020-08-04</td>\n    </tr>\n    <tr>\n      <th>98</th>\n      <td>2020-08-05</td>\n      <td>2020-08-11</td>\n    </tr>\n    <tr>\n      <th>99</th>\n      <td>2020-08-12</td>\n      <td>2020-08-18</td>\n    </tr>\n    <tr>\n      <th>100</th>\n      <td>2020-08-19</td>\n      <td>2020-08-25</td>\n    </tr>\n    <tr>\n      <th>101</th>\n      <td>2020-08-26</td>\n      <td>2020-09-01</td>\n    </tr>\n    <tr>\n      <th>102</th>\n      <td>2020-09-02</td>\n      <td>2020-09-08</td>\n    </tr>\n    <tr>\n      <th>103</th>\n      <td>2020-09-09</td>\n      <td>2020-09-15</td>\n    </tr>\n    <tr>\n      <th>104</th>\n      <td>2020-09-16</td>\n      <td>2020-09-22</td>\n    </tr>\n  </tbody>\n</table>\n</div>"
     },
     "execution_count": 179,
     "metadata": {},
     "output_type": "execute_result"
    }
   ],
   "source": [
    "transactions.groupby('week')['t_dat'].agg(['min', 'max'])\n"
   ],
   "metadata": {
    "collapsed": false,
    "ExecuteTime": {
     "end_time": "2023-11-22T08:49:19.257316400Z",
     "start_time": "2023-11-22T08:49:19.203817Z"
    }
   }
  },
  {
   "cell_type": "code",
   "execution_count": 180,
   "outputs": [
    {
     "data": {
      "text/plain": "customer_id\n28847241659200          [95, 96, 101, 102]\n41318098387474                        [98]\n116809474287335                 [101, 103]\n200292573348128          [95, 96, 99, 102]\n248294615847351                       [96]\n                               ...        \n18446624797007271432                  [95]\n18446630855572834764                 [103]\n18446662237889060501                 [100]\n18446705133201055310                 [102]\n18446737527580148316                 [104]\nName: week, Length: 437365, dtype: object"
     },
     "execution_count": 180,
     "metadata": {},
     "output_type": "execute_result"
    }
   ],
   "source": [
    "c2weeks"
   ],
   "metadata": {
    "collapsed": false,
    "ExecuteTime": {
     "end_time": "2023-11-22T08:49:19.275315800Z",
     "start_time": "2023-11-22T08:49:19.258316Z"
    }
   }
  },
  {
   "cell_type": "code",
   "execution_count": 181,
   "outputs": [
    {
     "name": "stdout",
     "output_type": "stream",
     "text": [
      "CPU times: total: 750 ms\n",
      "Wall time: 859 ms\n"
     ]
    }
   ],
   "source": [
    "%%time\n",
    "\n",
    "c2weeks2shifted_weeks = {}\n",
    "\n",
    "for c_id, weeks in c2weeks.items():\n",
    "    c2weeks2shifted_weeks[c_id] = {}\n",
    "    for i in range(weeks.shape[0]-1):\n",
    "        c2weeks2shifted_weeks[c_id][weeks[i]] = weeks[i+1]\n",
    "    c2weeks2shifted_weeks[c_id][weeks[-1]] = test_week"
   ],
   "metadata": {
    "collapsed": false,
    "ExecuteTime": {
     "end_time": "2023-11-22T08:49:20.130092900Z",
     "start_time": "2023-11-22T08:49:19.264316800Z"
    }
   }
  },
  {
   "cell_type": "code",
   "execution_count": 182,
   "outputs": [
    {
     "data": {
      "text/plain": "{95: 96, 96: 101, 101: 102, 102: 105}"
     },
     "execution_count": 182,
     "metadata": {},
     "output_type": "execute_result"
    }
   ],
   "source": [
    "c2weeks2shifted_weeks[28847241659200]"
   ],
   "metadata": {
    "collapsed": false,
    "ExecuteTime": {
     "end_time": "2023-11-22T08:49:20.136592Z",
     "start_time": "2023-11-22T08:49:20.128591900Z"
    }
   }
  },
  {
   "cell_type": "code",
   "execution_count": 183,
   "outputs": [],
   "source": [
    "candidates_last_purchase = transactions.copy()\n"
   ],
   "metadata": {
    "collapsed": false,
    "ExecuteTime": {
     "end_time": "2023-11-22T08:49:20.214091500Z",
     "start_time": "2023-11-22T08:49:20.134091200Z"
    }
   }
  },
  {
   "cell_type": "code",
   "execution_count": 184,
   "outputs": [
    {
     "name": "stdout",
     "output_type": "stream",
     "text": [
      "CPU times: total: 13.3 s\n",
      "Wall time: 13.3 s\n"
     ]
    }
   ],
   "source": [
    "%%time\n",
    "\n",
    "weeks = []\n",
    "for i, (c_id, week) in enumerate(zip(transactions['customer_id'], transactions['week'])):\n",
    "    weeks.append(c2weeks2shifted_weeks[c_id][week])\n",
    "    \n",
    "candidates_last_purchase.week=weeks"
   ],
   "metadata": {
    "collapsed": false,
    "ExecuteTime": {
     "end_time": "2023-11-22T08:49:33.479592600Z",
     "start_time": "2023-11-22T08:49:20.154092900Z"
    }
   }
  },
  {
   "cell_type": "code",
   "execution_count": 185,
   "outputs": [
    {
     "data": {
      "text/plain": "              t_dat      customer_id  article_id     price  sales_channel_id  \\\n29030503 2020-07-15  272412481300040   778064028  0.008458                 1   \n29030504 2020-07-15  272412481300040   816592008  0.016932                 1   \n29030505 2020-07-15  272412481300040   621381021  0.033881                 1   \n29030506 2020-07-15  272412481300040   817477003  0.025407                 1   \n29030507 2020-07-15  272412481300040   899088002  0.025407                 1   \n29319533 2020-07-22  272412481300040   885077001  0.008458                 1   \n29410772 2020-07-24  272412481300040   850176003  0.029034                 2   \n29410773 2020-07-24  272412481300040   875803001  0.064559                 2   \n29410774 2020-07-24  272412481300040   892970003  0.020966                 2   \n29410775 2020-07-24  272412481300040   854619003  0.020966                 2   \n29531614 2020-07-27  272412481300040   900398001  0.030492                 2   \n29531615 2020-07-27  272412481300040   834179002  0.025407                 2   \n29531616 2020-07-27  272412481300040   875803001  0.067780                 2   \n31495014 2020-09-14  272412481300040   923460002  0.039932                 2   \n31495015 2020-09-14  272412481300040   922381001  0.039932                 2   \n31495016 2020-09-14  272412481300040   921906005  0.031949                 2   \n\n          week  \n29030503    96  \n29030504    96  \n29030505    96  \n29030506    96  \n29030507    96  \n29319533   103  \n29410772   103  \n29410773   103  \n29410774   103  \n29410775   103  \n29531614   103  \n29531615   103  \n29531616   103  \n31495014   105  \n31495015   105  \n31495016   105  ",
      "text/html": "<div>\n<style scoped>\n    .dataframe tbody tr th:only-of-type {\n        vertical-align: middle;\n    }\n\n    .dataframe tbody tr th {\n        vertical-align: top;\n    }\n\n    .dataframe thead th {\n        text-align: right;\n    }\n</style>\n<table border=\"1\" class=\"dataframe\">\n  <thead>\n    <tr style=\"text-align: right;\">\n      <th></th>\n      <th>t_dat</th>\n      <th>customer_id</th>\n      <th>article_id</th>\n      <th>price</th>\n      <th>sales_channel_id</th>\n      <th>week</th>\n    </tr>\n  </thead>\n  <tbody>\n    <tr>\n      <th>29030503</th>\n      <td>2020-07-15</td>\n      <td>272412481300040</td>\n      <td>778064028</td>\n      <td>0.008458</td>\n      <td>1</td>\n      <td>96</td>\n    </tr>\n    <tr>\n      <th>29030504</th>\n      <td>2020-07-15</td>\n      <td>272412481300040</td>\n      <td>816592008</td>\n      <td>0.016932</td>\n      <td>1</td>\n      <td>96</td>\n    </tr>\n    <tr>\n      <th>29030505</th>\n      <td>2020-07-15</td>\n      <td>272412481300040</td>\n      <td>621381021</td>\n      <td>0.033881</td>\n      <td>1</td>\n      <td>96</td>\n    </tr>\n    <tr>\n      <th>29030506</th>\n      <td>2020-07-15</td>\n      <td>272412481300040</td>\n      <td>817477003</td>\n      <td>0.025407</td>\n      <td>1</td>\n      <td>96</td>\n    </tr>\n    <tr>\n      <th>29030507</th>\n      <td>2020-07-15</td>\n      <td>272412481300040</td>\n      <td>899088002</td>\n      <td>0.025407</td>\n      <td>1</td>\n      <td>96</td>\n    </tr>\n    <tr>\n      <th>29319533</th>\n      <td>2020-07-22</td>\n      <td>272412481300040</td>\n      <td>885077001</td>\n      <td>0.008458</td>\n      <td>1</td>\n      <td>103</td>\n    </tr>\n    <tr>\n      <th>29410772</th>\n      <td>2020-07-24</td>\n      <td>272412481300040</td>\n      <td>850176003</td>\n      <td>0.029034</td>\n      <td>2</td>\n      <td>103</td>\n    </tr>\n    <tr>\n      <th>29410773</th>\n      <td>2020-07-24</td>\n      <td>272412481300040</td>\n      <td>875803001</td>\n      <td>0.064559</td>\n      <td>2</td>\n      <td>103</td>\n    </tr>\n    <tr>\n      <th>29410774</th>\n      <td>2020-07-24</td>\n      <td>272412481300040</td>\n      <td>892970003</td>\n      <td>0.020966</td>\n      <td>2</td>\n      <td>103</td>\n    </tr>\n    <tr>\n      <th>29410775</th>\n      <td>2020-07-24</td>\n      <td>272412481300040</td>\n      <td>854619003</td>\n      <td>0.020966</td>\n      <td>2</td>\n      <td>103</td>\n    </tr>\n    <tr>\n      <th>29531614</th>\n      <td>2020-07-27</td>\n      <td>272412481300040</td>\n      <td>900398001</td>\n      <td>0.030492</td>\n      <td>2</td>\n      <td>103</td>\n    </tr>\n    <tr>\n      <th>29531615</th>\n      <td>2020-07-27</td>\n      <td>272412481300040</td>\n      <td>834179002</td>\n      <td>0.025407</td>\n      <td>2</td>\n      <td>103</td>\n    </tr>\n    <tr>\n      <th>29531616</th>\n      <td>2020-07-27</td>\n      <td>272412481300040</td>\n      <td>875803001</td>\n      <td>0.067780</td>\n      <td>2</td>\n      <td>103</td>\n    </tr>\n    <tr>\n      <th>31495014</th>\n      <td>2020-09-14</td>\n      <td>272412481300040</td>\n      <td>923460002</td>\n      <td>0.039932</td>\n      <td>2</td>\n      <td>105</td>\n    </tr>\n    <tr>\n      <th>31495015</th>\n      <td>2020-09-14</td>\n      <td>272412481300040</td>\n      <td>922381001</td>\n      <td>0.039932</td>\n      <td>2</td>\n      <td>105</td>\n    </tr>\n    <tr>\n      <th>31495016</th>\n      <td>2020-09-14</td>\n      <td>272412481300040</td>\n      <td>921906005</td>\n      <td>0.031949</td>\n      <td>2</td>\n      <td>105</td>\n    </tr>\n  </tbody>\n</table>\n</div>"
     },
     "execution_count": 185,
     "metadata": {},
     "output_type": "execute_result"
    }
   ],
   "source": [
    "candidates_last_purchase[candidates_last_purchase['customer_id']==272412481300040]"
   ],
   "metadata": {
    "collapsed": false,
    "ExecuteTime": {
     "end_time": "2023-11-22T08:49:33.494590900Z",
     "start_time": "2023-11-22T08:49:33.478094100Z"
    }
   }
  },
  {
   "cell_type": "code",
   "execution_count": 186,
   "outputs": [
    {
     "data": {
      "text/plain": "              t_dat      customer_id  article_id     price  sales_channel_id  \\\n29030503 2020-07-15  272412481300040   778064028  0.008458                 1   \n29030504 2020-07-15  272412481300040   816592008  0.016932                 1   \n29030505 2020-07-15  272412481300040   621381021  0.033881                 1   \n29030506 2020-07-15  272412481300040   817477003  0.025407                 1   \n29030507 2020-07-15  272412481300040   899088002  0.025407                 1   \n29319533 2020-07-22  272412481300040   885077001  0.008458                 1   \n29410772 2020-07-24  272412481300040   850176003  0.029034                 2   \n29410773 2020-07-24  272412481300040   875803001  0.064559                 2   \n29410774 2020-07-24  272412481300040   892970003  0.020966                 2   \n29410775 2020-07-24  272412481300040   854619003  0.020966                 2   \n29531614 2020-07-27  272412481300040   900398001  0.030492                 2   \n29531615 2020-07-27  272412481300040   834179002  0.025407                 2   \n29531616 2020-07-27  272412481300040   875803001  0.067780                 2   \n31495014 2020-09-14  272412481300040   923460002  0.039932                 2   \n31495015 2020-09-14  272412481300040   922381001  0.039932                 2   \n31495016 2020-09-14  272412481300040   921906005  0.031949                 2   \n\n          week  \n29030503    95  \n29030504    95  \n29030505    95  \n29030506    95  \n29030507    95  \n29319533    96  \n29410772    96  \n29410773    96  \n29410774    96  \n29410775    96  \n29531614    96  \n29531615    96  \n29531616    96  \n31495014   103  \n31495015   103  \n31495016   103  ",
      "text/html": "<div>\n<style scoped>\n    .dataframe tbody tr th:only-of-type {\n        vertical-align: middle;\n    }\n\n    .dataframe tbody tr th {\n        vertical-align: top;\n    }\n\n    .dataframe thead th {\n        text-align: right;\n    }\n</style>\n<table border=\"1\" class=\"dataframe\">\n  <thead>\n    <tr style=\"text-align: right;\">\n      <th></th>\n      <th>t_dat</th>\n      <th>customer_id</th>\n      <th>article_id</th>\n      <th>price</th>\n      <th>sales_channel_id</th>\n      <th>week</th>\n    </tr>\n  </thead>\n  <tbody>\n    <tr>\n      <th>29030503</th>\n      <td>2020-07-15</td>\n      <td>272412481300040</td>\n      <td>778064028</td>\n      <td>0.008458</td>\n      <td>1</td>\n      <td>95</td>\n    </tr>\n    <tr>\n      <th>29030504</th>\n      <td>2020-07-15</td>\n      <td>272412481300040</td>\n      <td>816592008</td>\n      <td>0.016932</td>\n      <td>1</td>\n      <td>95</td>\n    </tr>\n    <tr>\n      <th>29030505</th>\n      <td>2020-07-15</td>\n      <td>272412481300040</td>\n      <td>621381021</td>\n      <td>0.033881</td>\n      <td>1</td>\n      <td>95</td>\n    </tr>\n    <tr>\n      <th>29030506</th>\n      <td>2020-07-15</td>\n      <td>272412481300040</td>\n      <td>817477003</td>\n      <td>0.025407</td>\n      <td>1</td>\n      <td>95</td>\n    </tr>\n    <tr>\n      <th>29030507</th>\n      <td>2020-07-15</td>\n      <td>272412481300040</td>\n      <td>899088002</td>\n      <td>0.025407</td>\n      <td>1</td>\n      <td>95</td>\n    </tr>\n    <tr>\n      <th>29319533</th>\n      <td>2020-07-22</td>\n      <td>272412481300040</td>\n      <td>885077001</td>\n      <td>0.008458</td>\n      <td>1</td>\n      <td>96</td>\n    </tr>\n    <tr>\n      <th>29410772</th>\n      <td>2020-07-24</td>\n      <td>272412481300040</td>\n      <td>850176003</td>\n      <td>0.029034</td>\n      <td>2</td>\n      <td>96</td>\n    </tr>\n    <tr>\n      <th>29410773</th>\n      <td>2020-07-24</td>\n      <td>272412481300040</td>\n      <td>875803001</td>\n      <td>0.064559</td>\n      <td>2</td>\n      <td>96</td>\n    </tr>\n    <tr>\n      <th>29410774</th>\n      <td>2020-07-24</td>\n      <td>272412481300040</td>\n      <td>892970003</td>\n      <td>0.020966</td>\n      <td>2</td>\n      <td>96</td>\n    </tr>\n    <tr>\n      <th>29410775</th>\n      <td>2020-07-24</td>\n      <td>272412481300040</td>\n      <td>854619003</td>\n      <td>0.020966</td>\n      <td>2</td>\n      <td>96</td>\n    </tr>\n    <tr>\n      <th>29531614</th>\n      <td>2020-07-27</td>\n      <td>272412481300040</td>\n      <td>900398001</td>\n      <td>0.030492</td>\n      <td>2</td>\n      <td>96</td>\n    </tr>\n    <tr>\n      <th>29531615</th>\n      <td>2020-07-27</td>\n      <td>272412481300040</td>\n      <td>834179002</td>\n      <td>0.025407</td>\n      <td>2</td>\n      <td>96</td>\n    </tr>\n    <tr>\n      <th>29531616</th>\n      <td>2020-07-27</td>\n      <td>272412481300040</td>\n      <td>875803001</td>\n      <td>0.067780</td>\n      <td>2</td>\n      <td>96</td>\n    </tr>\n    <tr>\n      <th>31495014</th>\n      <td>2020-09-14</td>\n      <td>272412481300040</td>\n      <td>923460002</td>\n      <td>0.039932</td>\n      <td>2</td>\n      <td>103</td>\n    </tr>\n    <tr>\n      <th>31495015</th>\n      <td>2020-09-14</td>\n      <td>272412481300040</td>\n      <td>922381001</td>\n      <td>0.039932</td>\n      <td>2</td>\n      <td>103</td>\n    </tr>\n    <tr>\n      <th>31495016</th>\n      <td>2020-09-14</td>\n      <td>272412481300040</td>\n      <td>921906005</td>\n      <td>0.031949</td>\n      <td>2</td>\n      <td>103</td>\n    </tr>\n  </tbody>\n</table>\n</div>"
     },
     "execution_count": 186,
     "metadata": {},
     "output_type": "execute_result"
    }
   ],
   "source": [
    "transactions[transactions['customer_id']==272412481300040]"
   ],
   "metadata": {
    "collapsed": false,
    "ExecuteTime": {
     "end_time": "2023-11-22T08:49:33.574092900Z",
     "start_time": "2023-11-22T08:49:33.490094300Z"
    }
   }
  },
  {
   "cell_type": "markdown",
   "source": [
    "### Bestsellers candidates"
   ],
   "metadata": {
    "collapsed": false
   }
  },
  {
   "cell_type": "markdown",
   "source": [],
   "metadata": {
    "collapsed": false
   }
  },
  {
   "cell_type": "code",
   "execution_count": 187,
   "outputs": [],
   "source": [
    "mean_price = transactions \\\n",
    ".groupby(['week', 'article_id'])['price'].mean()"
   ],
   "metadata": {
    "collapsed": false,
    "ExecuteTime": {
     "end_time": "2023-11-22T08:49:33.720592400Z",
     "start_time": "2023-11-22T08:49:33.528592400Z"
    }
   }
  },
  {
   "cell_type": "code",
   "execution_count": 188,
   "outputs": [
    {
     "data": {
      "text/plain": "week  article_id\n95    108775015     0.004729\n      108775044     0.008458\n      110065001     0.006085\n      110065002     0.006085\n      111565001     0.004288\n                      ...   \n104   952267001     0.013732\n      952938001     0.048651\n      953450001     0.016932\n      953763001     0.021885\n      956217002     0.059068\nName: price, Length: 196880, dtype: float32"
     },
     "execution_count": 188,
     "metadata": {},
     "output_type": "execute_result"
    }
   ],
   "source": [
    "mean_price"
   ],
   "metadata": {
    "collapsed": false,
    "ExecuteTime": {
     "end_time": "2023-11-22T08:49:33.727592100Z",
     "start_time": "2023-11-22T08:49:33.721092Z"
    }
   }
  },
  {
   "cell_type": "code",
   "execution_count": 189,
   "outputs": [],
   "source": [
    "sales = transactions \\\n",
    "    .groupby('week')['article_id'].value_counts() \\\n",
    "    .groupby('week').rank(method='dense', ascending=False) \\\n",
    "    .groupby('week').head(12).rename('bestseller_rank').astype('int8')"
   ],
   "metadata": {
    "collapsed": false,
    "ExecuteTime": {
     "end_time": "2023-11-22T08:49:33.940593500Z",
     "start_time": "2023-11-22T08:49:33.725590900Z"
    }
   }
  },
  {
   "cell_type": "code",
   "execution_count": 190,
   "outputs": [
    {
     "data": {
      "text/plain": "week  article_id\n95    760084003      1\n      866731001      2\n      600886001      3\n      706016001      4\n      372860002      5\n                    ..\n104   915529003      8\n      915529005      9\n      448509014     10\n      762846027     11\n      714790020     12\nName: bestseller_rank, Length: 120, dtype: int8"
     },
     "execution_count": 190,
     "metadata": {},
     "output_type": "execute_result"
    }
   ],
   "source": [
    "sales"
   ],
   "metadata": {
    "collapsed": false,
    "ExecuteTime": {
     "end_time": "2023-11-22T08:49:33.945092100Z",
     "start_time": "2023-11-22T08:49:33.940593500Z"
    }
   }
  },
  {
   "cell_type": "code",
   "execution_count": 191,
   "outputs": [],
   "source": [
    "sales_frame = sales.to_frame().reset_index() # DataFrame is easier to use than Series (from Radek), so I'll use this from now on"
   ],
   "metadata": {
    "collapsed": false,
    "ExecuteTime": {
     "end_time": "2023-11-22T08:49:33.952591900Z",
     "start_time": "2023-11-22T08:49:33.944591100Z"
    }
   }
  },
  {
   "cell_type": "markdown",
   "source": [
    "### Diversity before"
   ],
   "metadata": {
    "collapsed": false
   }
  },
  {
   "cell_type": "markdown",
   "source": [
    "I'll measure diversity using Jaccard index"
   ],
   "metadata": {
    "collapsed": false
   }
  },
  {
   "cell_type": "code",
   "execution_count": 192,
   "outputs": [
    {
     "name": "stdout",
     "output_type": "stream",
     "text": [
      "95, 96: 0.736842105263158\n",
      "96, 97: 0.8571428571428572\n",
      "97, 98: 1.0\n",
      "98, 99: 1.0\n",
      "99, 100: 0.8\n",
      "100, 101: 0.736842105263158\n",
      "101, 102: 0.5882352941176471\n",
      "102, 103: 0.8571428571428572\n",
      "103, 104: 0.5882352941176471\n",
      "Average diversity: 0.7960489458941472\n"
     ]
    }
   ],
   "source": [
    "def jaccard_diversity(list1, list2):\n",
    "    intersection = len(list1.intersection(list2))\n",
    "    union = len(list1.union(list2))\n",
    "    jaccard_index = intersection / union\n",
    "    diversity_index = 1 - jaccard_index\n",
    "    return diversity_index\n",
    "\n",
    "def avg_jaccard_diversity(df, weeks_list): # only computes diversity with next week (chain)\n",
    "    jaccard_sum = 0\n",
    "    pair_count = 0\n",
    "\n",
    "    for i, week1 in enumerate(weeks_list):\n",
    "        article_ids1 = set(df[df[\"week\"] == week1][\"article_id\"])\n",
    "        if week1 == weeks_list.max():\n",
    "            break\n",
    "        week2 = week1 + 1\n",
    "        article_ids2 = set(df[df[\"week\"] == week2][\"article_id\"])\n",
    "        diversity_index = jaccard_diversity(article_ids1, article_ids2)\n",
    "        print(f\"{week1}, {week2}: {diversity_index}\")\n",
    "        jaccard_sum += diversity_index\n",
    "        pair_count += 1\n",
    "    average_jaccard = jaccard_sum / pair_count\n",
    "    print(f\"Average diversity: {average_jaccard}\")\n",
    "\n",
    "\n",
    "weeks_list = sales_frame[\"week\"].unique()\n",
    "\n",
    "avg_jaccard_diversity(sales_frame, weeks_list)"
   ],
   "metadata": {
    "collapsed": false,
    "ExecuteTime": {
     "end_time": "2023-11-22T08:49:33.966595100Z",
     "start_time": "2023-11-22T08:49:33.951095Z"
    }
   }
  },
  {
   "cell_type": "markdown",
   "source": [
    "When we replace a short head item, diversity is bound to increase (assuming we don't recommend the same Long Tail item twice within 2 weeks)"
   ],
   "metadata": {
    "collapsed": false
   }
  },
  {
   "cell_type": "code",
   "execution_count": 193,
   "outputs": [
    {
     "data": {
      "text/plain": "     week  article_id  bestseller_rank\n0      95   189616008                1\n1      95   866731001                2\n2      95   600886001                3\n3      95   706016001                4\n4      95   372860002                5\n..    ...         ...              ...\n115   104   915529003                8\n116   104   915529005                9\n117   104   448509014               10\n118   104   762846027               11\n119   104   714790020               12\n\n[120 rows x 3 columns]",
      "text/html": "<div>\n<style scoped>\n    .dataframe tbody tr th:only-of-type {\n        vertical-align: middle;\n    }\n\n    .dataframe tbody tr th {\n        vertical-align: top;\n    }\n\n    .dataframe thead th {\n        text-align: right;\n    }\n</style>\n<table border=\"1\" class=\"dataframe\">\n  <thead>\n    <tr style=\"text-align: right;\">\n      <th></th>\n      <th>week</th>\n      <th>article_id</th>\n      <th>bestseller_rank</th>\n    </tr>\n  </thead>\n  <tbody>\n    <tr>\n      <th>0</th>\n      <td>95</td>\n      <td>189616008</td>\n      <td>1</td>\n    </tr>\n    <tr>\n      <th>1</th>\n      <td>95</td>\n      <td>866731001</td>\n      <td>2</td>\n    </tr>\n    <tr>\n      <th>2</th>\n      <td>95</td>\n      <td>600886001</td>\n      <td>3</td>\n    </tr>\n    <tr>\n      <th>3</th>\n      <td>95</td>\n      <td>706016001</td>\n      <td>4</td>\n    </tr>\n    <tr>\n      <th>4</th>\n      <td>95</td>\n      <td>372860002</td>\n      <td>5</td>\n    </tr>\n    <tr>\n      <th>...</th>\n      <td>...</td>\n      <td>...</td>\n      <td>...</td>\n    </tr>\n    <tr>\n      <th>115</th>\n      <td>104</td>\n      <td>915529003</td>\n      <td>8</td>\n    </tr>\n    <tr>\n      <th>116</th>\n      <td>104</td>\n      <td>915529005</td>\n      <td>9</td>\n    </tr>\n    <tr>\n      <th>117</th>\n      <td>104</td>\n      <td>448509014</td>\n      <td>10</td>\n    </tr>\n    <tr>\n      <th>118</th>\n      <td>104</td>\n      <td>762846027</td>\n      <td>11</td>\n    </tr>\n    <tr>\n      <th>119</th>\n      <td>104</td>\n      <td>714790020</td>\n      <td>12</td>\n    </tr>\n  </tbody>\n</table>\n<p>120 rows × 3 columns</p>\n</div>"
     },
     "execution_count": 193,
     "metadata": {},
     "output_type": "execute_result"
    }
   ],
   "source": [
    "def increase_diversity(df, weeks_list, K):\n",
    "    top_long_tail = articles[articles[\"long_tail\"]==1][[\"article_id\", \"sales_count\"]].head(200).sort_values(by=\"sales_count\", ascending=False)\n",
    "    top_long_tail.reset_index(inplace=True)\n",
    "    long_tail_index = 0 # start from most popular\n",
    "    for i, week1 in enumerate(weeks_list):\n",
    "        article_ids1 = set(df[df[\"week\"] == week1][\"article_id\"])\n",
    "        if week1 == weeks_list.max():\n",
    "            break\n",
    "        week2 = week1 + 1\n",
    "        items_left = K\n",
    "        article_ids2 = set(df[df[\"week\"] == week2][\"article_id\"])\n",
    "        curr_diversity_index = jaccard_diversity(article_ids1, article_ids2)\n",
    "\n",
    "        for j, item in df[df[\"week\"]==week1].iterrows(): # edit items one by one until K items edited or diversity maximized\n",
    "            if items_left == 0:\n",
    "                break\n",
    "            old_item = df.at[j, \"article_id\"]\n",
    "            new_item = top_long_tail.at[long_tail_index, \"article_id\"]\n",
    "            df.at[j, \"article_id\"] = new_item\n",
    "            items_left -= 1\n",
    "            long_tail_index += 1\n",
    "            diversity_index = jaccard_diversity(article_ids1, article_ids2) # diversity is always going to increase, because it contains no long tail items\n",
    "            if diversity_index == 1.0 or items_left == 0: # good, no replacement needed\n",
    "                break\n",
    "    return df\n",
    "\n",
    "sales_frame = increase_diversity(sales_frame, weeks_list, K=K)\n",
    "\n",
    "sales_frame"
   ],
   "metadata": {
    "collapsed": false,
    "ExecuteTime": {
     "end_time": "2023-11-22T08:49:34.024094500Z",
     "start_time": "2023-11-22T08:49:33.957591400Z"
    }
   }
  },
  {
   "cell_type": "code",
   "execution_count": 194,
   "outputs": [
    {
     "name": "stdout",
     "output_type": "stream",
     "text": [
      "95, 96: 0.8571428571428572\n",
      "96, 97: 0.9565217391304348\n",
      "97, 98: 1.0\n",
      "98, 99: 1.0\n",
      "99, 100: 0.8571428571428572\n",
      "100, 101: 0.736842105263158\n",
      "101, 102: 0.6666666666666667\n",
      "102, 103: 0.8571428571428572\n",
      "103, 104: 0.6666666666666667\n",
      "Average diversity: 0.8442361943506108\n"
     ]
    }
   ],
   "source": [
    "avg_jaccard_diversity(sales_frame, weeks_list)"
   ],
   "metadata": {
    "collapsed": false,
    "ExecuteTime": {
     "end_time": "2023-11-22T08:49:34.024594200Z",
     "start_time": "2023-11-22T08:49:34.007091200Z"
    }
   }
  },
  {
   "cell_type": "markdown",
   "source": [
    "### Personalizing candidates: KNN"
   ],
   "metadata": {
    "collapsed": false
   }
  },
  {
   "cell_type": "markdown",
   "source": [
    "We now have the personalize these candidates for users who bought item(s) previously. Radek uses popular items from the test week to recommend to all users, even those who didn't have make purchases, hence the candidate generation for the test week will remain unchanged."
   ],
   "metadata": {
    "collapsed": false
   }
  },
  {
   "cell_type": "code",
   "execution_count": 195,
   "outputs": [
    {
     "data": {
      "text/plain": "              t_dat           customer_id  article_id     price  \\\n29030503 2020-07-15       272412481300040   778064028  0.008458   \n29030504 2020-07-15       272412481300040   816592008  0.016932   \n29030505 2020-07-15       272412481300040   621381021  0.033881   \n29030506 2020-07-15       272412481300040   817477003  0.025407   \n29030507 2020-07-15       272412481300040   899088002  0.025407   \n...             ...                   ...         ...       ...   \n31774722 2020-09-22  18439937050817258297   891591003  0.084729   \n31774723 2020-09-22  18439937050817258297   869706005  0.084729   \n31779097 2020-09-22  18440902715633436014   918894002  0.016932   \n31779098 2020-09-22  18440902715633436014   761269001  0.016932   \n31780475 2020-09-22  18443633011701112574   914868002  0.033881   \n\n          sales_channel_id  week  \n29030503                 1    95  \n29030504                 1    95  \n29030505                 1    95  \n29030506                 1    95  \n29030507                 1    95  \n...                    ...   ...  \n31774722                 2   104  \n31774723                 2   104  \n31779097                 1   104  \n31779098                 1   104  \n31780475                 1   104  \n\n[2762872 rows x 6 columns]",
      "text/html": "<div>\n<style scoped>\n    .dataframe tbody tr th:only-of-type {\n        vertical-align: middle;\n    }\n\n    .dataframe tbody tr th {\n        vertical-align: top;\n    }\n\n    .dataframe thead th {\n        text-align: right;\n    }\n</style>\n<table border=\"1\" class=\"dataframe\">\n  <thead>\n    <tr style=\"text-align: right;\">\n      <th></th>\n      <th>t_dat</th>\n      <th>customer_id</th>\n      <th>article_id</th>\n      <th>price</th>\n      <th>sales_channel_id</th>\n      <th>week</th>\n    </tr>\n  </thead>\n  <tbody>\n    <tr>\n      <th>29030503</th>\n      <td>2020-07-15</td>\n      <td>272412481300040</td>\n      <td>778064028</td>\n      <td>0.008458</td>\n      <td>1</td>\n      <td>95</td>\n    </tr>\n    <tr>\n      <th>29030504</th>\n      <td>2020-07-15</td>\n      <td>272412481300040</td>\n      <td>816592008</td>\n      <td>0.016932</td>\n      <td>1</td>\n      <td>95</td>\n    </tr>\n    <tr>\n      <th>29030505</th>\n      <td>2020-07-15</td>\n      <td>272412481300040</td>\n      <td>621381021</td>\n      <td>0.033881</td>\n      <td>1</td>\n      <td>95</td>\n    </tr>\n    <tr>\n      <th>29030506</th>\n      <td>2020-07-15</td>\n      <td>272412481300040</td>\n      <td>817477003</td>\n      <td>0.025407</td>\n      <td>1</td>\n      <td>95</td>\n    </tr>\n    <tr>\n      <th>29030507</th>\n      <td>2020-07-15</td>\n      <td>272412481300040</td>\n      <td>899088002</td>\n      <td>0.025407</td>\n      <td>1</td>\n      <td>95</td>\n    </tr>\n    <tr>\n      <th>...</th>\n      <td>...</td>\n      <td>...</td>\n      <td>...</td>\n      <td>...</td>\n      <td>...</td>\n      <td>...</td>\n    </tr>\n    <tr>\n      <th>31774722</th>\n      <td>2020-09-22</td>\n      <td>18439937050817258297</td>\n      <td>891591003</td>\n      <td>0.084729</td>\n      <td>2</td>\n      <td>104</td>\n    </tr>\n    <tr>\n      <th>31774723</th>\n      <td>2020-09-22</td>\n      <td>18439937050817258297</td>\n      <td>869706005</td>\n      <td>0.084729</td>\n      <td>2</td>\n      <td>104</td>\n    </tr>\n    <tr>\n      <th>31779097</th>\n      <td>2020-09-22</td>\n      <td>18440902715633436014</td>\n      <td>918894002</td>\n      <td>0.016932</td>\n      <td>1</td>\n      <td>104</td>\n    </tr>\n    <tr>\n      <th>31779098</th>\n      <td>2020-09-22</td>\n      <td>18440902715633436014</td>\n      <td>761269001</td>\n      <td>0.016932</td>\n      <td>1</td>\n      <td>104</td>\n    </tr>\n    <tr>\n      <th>31780475</th>\n      <td>2020-09-22</td>\n      <td>18443633011701112574</td>\n      <td>914868002</td>\n      <td>0.033881</td>\n      <td>1</td>\n      <td>104</td>\n    </tr>\n  </tbody>\n</table>\n<p>2762872 rows × 6 columns</p>\n</div>"
     },
     "execution_count": 195,
     "metadata": {},
     "output_type": "execute_result"
    }
   ],
   "source": [
    "transactions"
   ],
   "metadata": {
    "collapsed": false,
    "ExecuteTime": {
     "end_time": "2023-11-22T08:49:34.024594200Z",
     "start_time": "2023-11-22T08:49:34.015595200Z"
    }
   }
  },
  {
   "cell_type": "code",
   "execution_count": 196,
   "outputs": [
    {
     "data": {
      "text/plain": "        index  article_id  sales_count           customer_id  week\n0       22465   598755001       5000.0   1155273576847131497    95\n1       22465   598755001       5000.0   2593922373982065886    95\n2       22465   598755001       5000.0   2683969249742094143    95\n3       22465   598755001       5000.0   8458578397382596872    95\n4       22465   598755001       5000.0  13467842284602600397    95\n...       ...         ...          ...                   ...   ...\n232399  91590   850259002       2757.0   2154919872542929560   101\n232400  91590   850259002       2757.0   1660045867611861065   102\n232401  91590   850259002       2757.0  10604618731655969063   102\n232402  91590   850259002       2757.0   5194179330490702485   104\n232403  91590   850259002       2757.0   7455250409495986129   104\n\n[232404 rows x 5 columns]",
      "text/html": "<div>\n<style scoped>\n    .dataframe tbody tr th:only-of-type {\n        vertical-align: middle;\n    }\n\n    .dataframe tbody tr th {\n        vertical-align: top;\n    }\n\n    .dataframe thead th {\n        text-align: right;\n    }\n</style>\n<table border=\"1\" class=\"dataframe\">\n  <thead>\n    <tr style=\"text-align: right;\">\n      <th></th>\n      <th>index</th>\n      <th>article_id</th>\n      <th>sales_count</th>\n      <th>customer_id</th>\n      <th>week</th>\n    </tr>\n  </thead>\n  <tbody>\n    <tr>\n      <th>0</th>\n      <td>22465</td>\n      <td>598755001</td>\n      <td>5000.0</td>\n      <td>1155273576847131497</td>\n      <td>95</td>\n    </tr>\n    <tr>\n      <th>1</th>\n      <td>22465</td>\n      <td>598755001</td>\n      <td>5000.0</td>\n      <td>2593922373982065886</td>\n      <td>95</td>\n    </tr>\n    <tr>\n      <th>2</th>\n      <td>22465</td>\n      <td>598755001</td>\n      <td>5000.0</td>\n      <td>2683969249742094143</td>\n      <td>95</td>\n    </tr>\n    <tr>\n      <th>3</th>\n      <td>22465</td>\n      <td>598755001</td>\n      <td>5000.0</td>\n      <td>8458578397382596872</td>\n      <td>95</td>\n    </tr>\n    <tr>\n      <th>4</th>\n      <td>22465</td>\n      <td>598755001</td>\n      <td>5000.0</td>\n      <td>13467842284602600397</td>\n      <td>95</td>\n    </tr>\n    <tr>\n      <th>...</th>\n      <td>...</td>\n      <td>...</td>\n      <td>...</td>\n      <td>...</td>\n      <td>...</td>\n    </tr>\n    <tr>\n      <th>232399</th>\n      <td>91590</td>\n      <td>850259002</td>\n      <td>2757.0</td>\n      <td>2154919872542929560</td>\n      <td>101</td>\n    </tr>\n    <tr>\n      <th>232400</th>\n      <td>91590</td>\n      <td>850259002</td>\n      <td>2757.0</td>\n      <td>1660045867611861065</td>\n      <td>102</td>\n    </tr>\n    <tr>\n      <th>232401</th>\n      <td>91590</td>\n      <td>850259002</td>\n      <td>2757.0</td>\n      <td>10604618731655969063</td>\n      <td>102</td>\n    </tr>\n    <tr>\n      <th>232402</th>\n      <td>91590</td>\n      <td>850259002</td>\n      <td>2757.0</td>\n      <td>5194179330490702485</td>\n      <td>104</td>\n    </tr>\n    <tr>\n      <th>232403</th>\n      <td>91590</td>\n      <td>850259002</td>\n      <td>2757.0</td>\n      <td>7455250409495986129</td>\n      <td>104</td>\n    </tr>\n  </tbody>\n</table>\n<p>232404 rows × 5 columns</p>\n</div>"
     },
     "execution_count": 196,
     "metadata": {},
     "output_type": "execute_result"
    }
   ],
   "source": [
    "top_long_tail = articles[articles[\"long_tail\"]==1][[\"article_id\", \"sales_count\"]].sort_values(by=\"sales_count\", ascending=False).head(1000).reset_index()\n",
    "# top_long_tail.reset_index(inplace=True)\n",
    "top_long_tail_interactions = top_long_tail.merge(transactions[[\"article_id\", \"customer_id\", \"week\"]], on='article_id', how='inner') # inner to drop rows when no article match found\n",
    "\n",
    "top_long_tail_interactions"
   ],
   "metadata": {
    "collapsed": false,
    "ExecuteTime": {
     "end_time": "2023-11-22T08:49:34.237592100Z",
     "start_time": "2023-11-22T08:49:34.022592100Z"
    }
   }
  },
  {
   "cell_type": "markdown",
   "source": [
    "To make this computationally less expensive, I will take the most popular long tail item purchase per user"
   ],
   "metadata": {
    "collapsed": false
   }
  },
  {
   "cell_type": "code",
   "execution_count": 197,
   "outputs": [],
   "source": [
    "top_long_tail_interactions = top_long_tail_interactions.groupby([\"customer_id\", \"week\"]).head(1)"
   ],
   "metadata": {
    "collapsed": false,
    "ExecuteTime": {
     "end_time": "2023-11-22T08:49:34.327091800Z",
     "start_time": "2023-11-22T08:49:34.235591100Z"
    }
   }
  },
  {
   "cell_type": "markdown",
   "source": [
    "Now we have a list of top long tail purchases per user and week. For example, a user bought 2 items part of the top 1000 in 2 different weeks:"
   ],
   "metadata": {
    "collapsed": false
   }
  },
  {
   "cell_type": "code",
   "execution_count": 198,
   "outputs": [
    {
     "data": {
      "text/plain": "        index  article_id  sales_count           customer_id  week\n0       22465   598755001       5000.0   1155273576847131497    95\n1       22465   598755001       5000.0   2593922373982065886    95\n2       22465   598755001       5000.0   2683969249742094143    95\n3       22465   598755001       5000.0   8458578397382596872    95\n4       22465   598755001       5000.0  13467842284602600397    95\n...       ...         ...          ...                   ...   ...\n232397  91590   850259002       2757.0    296676015814588384   101\n232398  91590   850259002       2757.0   5474775927656454007   101\n232400  91590   850259002       2757.0   1660045867611861065   102\n232402  91590   850259002       2757.0   5194179330490702485   104\n232403  91590   850259002       2757.0   7455250409495986129   104\n\n[162475 rows x 5 columns]",
      "text/html": "<div>\n<style scoped>\n    .dataframe tbody tr th:only-of-type {\n        vertical-align: middle;\n    }\n\n    .dataframe tbody tr th {\n        vertical-align: top;\n    }\n\n    .dataframe thead th {\n        text-align: right;\n    }\n</style>\n<table border=\"1\" class=\"dataframe\">\n  <thead>\n    <tr style=\"text-align: right;\">\n      <th></th>\n      <th>index</th>\n      <th>article_id</th>\n      <th>sales_count</th>\n      <th>customer_id</th>\n      <th>week</th>\n    </tr>\n  </thead>\n  <tbody>\n    <tr>\n      <th>0</th>\n      <td>22465</td>\n      <td>598755001</td>\n      <td>5000.0</td>\n      <td>1155273576847131497</td>\n      <td>95</td>\n    </tr>\n    <tr>\n      <th>1</th>\n      <td>22465</td>\n      <td>598755001</td>\n      <td>5000.0</td>\n      <td>2593922373982065886</td>\n      <td>95</td>\n    </tr>\n    <tr>\n      <th>2</th>\n      <td>22465</td>\n      <td>598755001</td>\n      <td>5000.0</td>\n      <td>2683969249742094143</td>\n      <td>95</td>\n    </tr>\n    <tr>\n      <th>3</th>\n      <td>22465</td>\n      <td>598755001</td>\n      <td>5000.0</td>\n      <td>8458578397382596872</td>\n      <td>95</td>\n    </tr>\n    <tr>\n      <th>4</th>\n      <td>22465</td>\n      <td>598755001</td>\n      <td>5000.0</td>\n      <td>13467842284602600397</td>\n      <td>95</td>\n    </tr>\n    <tr>\n      <th>...</th>\n      <td>...</td>\n      <td>...</td>\n      <td>...</td>\n      <td>...</td>\n      <td>...</td>\n    </tr>\n    <tr>\n      <th>232397</th>\n      <td>91590</td>\n      <td>850259002</td>\n      <td>2757.0</td>\n      <td>296676015814588384</td>\n      <td>101</td>\n    </tr>\n    <tr>\n      <th>232398</th>\n      <td>91590</td>\n      <td>850259002</td>\n      <td>2757.0</td>\n      <td>5474775927656454007</td>\n      <td>101</td>\n    </tr>\n    <tr>\n      <th>232400</th>\n      <td>91590</td>\n      <td>850259002</td>\n      <td>2757.0</td>\n      <td>1660045867611861065</td>\n      <td>102</td>\n    </tr>\n    <tr>\n      <th>232402</th>\n      <td>91590</td>\n      <td>850259002</td>\n      <td>2757.0</td>\n      <td>5194179330490702485</td>\n      <td>104</td>\n    </tr>\n    <tr>\n      <th>232403</th>\n      <td>91590</td>\n      <td>850259002</td>\n      <td>2757.0</td>\n      <td>7455250409495986129</td>\n      <td>104</td>\n    </tr>\n  </tbody>\n</table>\n<p>162475 rows × 5 columns</p>\n</div>"
     },
     "execution_count": 198,
     "metadata": {},
     "output_type": "execute_result"
    }
   ],
   "source": [
    "top_long_tail_interactions\n"
   ],
   "metadata": {
    "collapsed": false,
    "ExecuteTime": {
     "end_time": "2023-11-22T08:49:34.328093100Z",
     "start_time": "2023-11-22T08:49:34.309592600Z"
    }
   }
  },
  {
   "cell_type": "code",
   "execution_count": 199,
   "outputs": [
    {
     "data": {
      "text/plain": "customer_id\n107976824977578409      1\n1493321412182594709     1\n6567960287277251826     1\n5461328346560079022     1\n3961462986099231551     1\n                       ..\n11570700679734721851    1\n9570722601438353771     1\n8428218764679667865     1\n8226560039654604435     1\n17882518856805427118    1\nName: count, Length: 20255, dtype: int64"
     },
     "execution_count": 199,
     "metadata": {},
     "output_type": "execute_result"
    }
   ],
   "source": [
    "top_long_tail_interactions[top_long_tail_interactions[\"week\"]==96][\"customer_id\"].value_counts()\n"
   ],
   "metadata": {
    "collapsed": false,
    "ExecuteTime": {
     "end_time": "2023-11-22T08:49:34.328594200Z",
     "start_time": "2023-11-22T08:49:34.316092600Z"
    }
   }
  },
  {
   "cell_type": "code",
   "execution_count": 200,
   "outputs": [
    {
     "data": {
      "text/plain": "Empty DataFrame\nColumns: [t_dat, customer_id, article_id, price, sales_channel_id, week]\nIndex: []",
      "text/html": "<div>\n<style scoped>\n    .dataframe tbody tr th:only-of-type {\n        vertical-align: middle;\n    }\n\n    .dataframe tbody tr th {\n        vertical-align: top;\n    }\n\n    .dataframe thead th {\n        text-align: right;\n    }\n</style>\n<table border=\"1\" class=\"dataframe\">\n  <thead>\n    <tr style=\"text-align: right;\">\n      <th></th>\n      <th>t_dat</th>\n      <th>customer_id</th>\n      <th>article_id</th>\n      <th>price</th>\n      <th>sales_channel_id</th>\n      <th>week</th>\n    </tr>\n  </thead>\n  <tbody>\n  </tbody>\n</table>\n</div>"
     },
     "execution_count": 200,
     "metadata": {},
     "output_type": "execute_result"
    }
   ],
   "source": [
    "transactions[transactions[\"customer_id\"]==107976824977578416]"
   ],
   "metadata": {
    "collapsed": false,
    "ExecuteTime": {
     "end_time": "2023-11-22T08:49:34.380091500Z",
     "start_time": "2023-11-22T08:49:34.325594Z"
    }
   }
  },
  {
   "cell_type": "markdown",
   "source": [
    "### K-Nearest Neighbours"
   ],
   "metadata": {
    "collapsed": false
   }
  },
  {
   "cell_type": "markdown",
   "source": [
    "We will replace top k bestseller items with k personalized long tail items."
   ],
   "metadata": {
    "collapsed": false
   }
  },
  {
   "cell_type": "markdown",
   "source": [
    "Step 1: Create user-item interaction matrix"
   ],
   "metadata": {
    "collapsed": false
   }
  },
  {
   "cell_type": "code",
   "execution_count": 201,
   "outputs": [
    {
     "data": {
      "text/plain": "                           index                                            \\\ncustomer_id 200292573348128      248294615847351      272412481300040        \narticle_id                                                                   \n111565001                      0                    0                    0   \n111609001                      0                    0                    0   \n153115019                      0                    0                    0   \n153115020                      0                    0                    0   \n182909001                      0                    0                    0   \n...                          ...                  ...                  ...   \n883033001                      0                    0                    0   \n883033002                      0                    0                    0   \n915526001                      0                    0                    0   \n916468003                      0                    0                    0   \n918292001                      0                    0                    0   \n\n                                                                            \\\ncustomer_id 330092272649261      366493139417506      745180086074610        \narticle_id                                                                   \n111565001                      0                    0                    0   \n111609001                      0                    0                    0   \n153115019                      0                    0                    0   \n153115020                      0                    0                    1   \n182909001                      0                    0                    0   \n...                          ...                  ...                  ...   \n883033001                      0                    0                    0   \n883033002                      0                    0                    0   \n915526001                      0                    0                    0   \n916468003                      0                    0                    0   \n918292001                      0                    0                    0   \n\n                                                                            \\\ncustomer_id 857913002275398      879819981624203      1037449031262554       \narticle_id                                                                   \n111565001                      0                    0                    0   \n111609001                      0                    0                    0   \n153115019                      0                    0                    0   \n153115020                      0                    0                    0   \n182909001                      0                    0                    0   \n...                          ...                  ...                  ...   \n883033001                      0                    0                    0   \n883033002                      0                    0                    0   \n915526001                      0                    0                    0   \n916468003                      0                    0                    0   \n918292001                      0                    0                    0   \n\n                                  ...                 week  \\\ncustomer_id 1083424902212452      ... 18445164350380731040   \narticle_id                        ...                        \n111565001                      0  ...                    0   \n111609001                      0  ...                    0   \n153115019                      0  ...                    0   \n153115020                      0  ...                    0   \n182909001                      0  ...                    0   \n...                          ...  ...                  ...   \n883033001                      0  ...                    0   \n883033002                      0  ...                    0   \n915526001                      0  ...                    0   \n916468003                      0  ...                    0   \n918292001                      0  ...                    0   \n\n                                                                            \\\ncustomer_id 18445310347432716808 18445340048433064259 18445641720816255142   \narticle_id                                                                   \n111565001                      0                    0                    0   \n111609001                      0                    0                    0   \n153115019                      0                    0                    0   \n153115020                      0                    0                    0   \n182909001                      0                    0                    0   \n...                          ...                  ...                  ...   \n883033001                      0                    0                    0   \n883033002                      0                    0                    0   \n915526001                      0                    1                    0   \n916468003                      0                    0                    0   \n918292001                      0                    0                    0   \n\n                                                                            \\\ncustomer_id 18445692600011570228 18445869016569286805 18445903880167013488   \narticle_id                                                                   \n111565001                      0                    0                    0   \n111609001                      0                    0                    0   \n153115019                      0                    0                    0   \n153115020                      0                    0                    0   \n182909001                      0                    0                    0   \n...                          ...                  ...                  ...   \n883033001                      0                    0                    0   \n883033002                      0                    0                    0   \n915526001                      0                    0                    0   \n916468003                      0                    0                    0   \n918292001                      0                    0                    0   \n\n                                                                            \ncustomer_id 18446018759554823977 18446522881501826039 18446571879212697038  \narticle_id                                                                  \n111565001                      0                    0                    0  \n111609001                      0                    0                    0  \n153115019                      0                    0                    0  \n153115020                      0                    0                    0  \n182909001                      0                    0                    0  \n...                          ...                  ...                  ...  \n883033001                      0                    0                    0  \n883033002                      0                    0                    0  \n915526001                      0                    0                    0  \n916468003                      0                    0                    0  \n918292001                      0                    0                    0  \n\n[835 rows x 418137 columns]",
      "text/html": "<div>\n<style scoped>\n    .dataframe tbody tr th:only-of-type {\n        vertical-align: middle;\n    }\n\n    .dataframe tbody tr th {\n        vertical-align: top;\n    }\n\n    .dataframe thead tr th {\n        text-align: left;\n    }\n\n    .dataframe thead tr:last-of-type th {\n        text-align: right;\n    }\n</style>\n<table border=\"1\" class=\"dataframe\">\n  <thead>\n    <tr>\n      <th></th>\n      <th colspan=\"10\" halign=\"left\">index</th>\n      <th>...</th>\n      <th colspan=\"10\" halign=\"left\">week</th>\n    </tr>\n    <tr>\n      <th>customer_id</th>\n      <th>200292573348128</th>\n      <th>248294615847351</th>\n      <th>272412481300040</th>\n      <th>330092272649261</th>\n      <th>366493139417506</th>\n      <th>745180086074610</th>\n      <th>857913002275398</th>\n      <th>879819981624203</th>\n      <th>1037449031262554</th>\n      <th>1083424902212452</th>\n      <th>...</th>\n      <th>18445164350380731040</th>\n      <th>18445310347432716808</th>\n      <th>18445340048433064259</th>\n      <th>18445641720816255142</th>\n      <th>18445692600011570228</th>\n      <th>18445869016569286805</th>\n      <th>18445903880167013488</th>\n      <th>18446018759554823977</th>\n      <th>18446522881501826039</th>\n      <th>18446571879212697038</th>\n    </tr>\n    <tr>\n      <th>article_id</th>\n      <th></th>\n      <th></th>\n      <th></th>\n      <th></th>\n      <th></th>\n      <th></th>\n      <th></th>\n      <th></th>\n      <th></th>\n      <th></th>\n      <th></th>\n      <th></th>\n      <th></th>\n      <th></th>\n      <th></th>\n      <th></th>\n      <th></th>\n      <th></th>\n      <th></th>\n      <th></th>\n      <th></th>\n    </tr>\n  </thead>\n  <tbody>\n    <tr>\n      <th>111565001</th>\n      <td>0</td>\n      <td>0</td>\n      <td>0</td>\n      <td>0</td>\n      <td>0</td>\n      <td>0</td>\n      <td>0</td>\n      <td>0</td>\n      <td>0</td>\n      <td>0</td>\n      <td>...</td>\n      <td>0</td>\n      <td>0</td>\n      <td>0</td>\n      <td>0</td>\n      <td>0</td>\n      <td>0</td>\n      <td>0</td>\n      <td>0</td>\n      <td>0</td>\n      <td>0</td>\n    </tr>\n    <tr>\n      <th>111609001</th>\n      <td>0</td>\n      <td>0</td>\n      <td>0</td>\n      <td>0</td>\n      <td>0</td>\n      <td>0</td>\n      <td>0</td>\n      <td>0</td>\n      <td>0</td>\n      <td>0</td>\n      <td>...</td>\n      <td>0</td>\n      <td>0</td>\n      <td>0</td>\n      <td>0</td>\n      <td>0</td>\n      <td>0</td>\n      <td>0</td>\n      <td>0</td>\n      <td>0</td>\n      <td>0</td>\n    </tr>\n    <tr>\n      <th>153115019</th>\n      <td>0</td>\n      <td>0</td>\n      <td>0</td>\n      <td>0</td>\n      <td>0</td>\n      <td>0</td>\n      <td>0</td>\n      <td>0</td>\n      <td>0</td>\n      <td>0</td>\n      <td>...</td>\n      <td>0</td>\n      <td>0</td>\n      <td>0</td>\n      <td>0</td>\n      <td>0</td>\n      <td>0</td>\n      <td>0</td>\n      <td>0</td>\n      <td>0</td>\n      <td>0</td>\n    </tr>\n    <tr>\n      <th>153115020</th>\n      <td>0</td>\n      <td>0</td>\n      <td>0</td>\n      <td>0</td>\n      <td>0</td>\n      <td>1</td>\n      <td>0</td>\n      <td>0</td>\n      <td>0</td>\n      <td>0</td>\n      <td>...</td>\n      <td>0</td>\n      <td>0</td>\n      <td>0</td>\n      <td>0</td>\n      <td>0</td>\n      <td>0</td>\n      <td>0</td>\n      <td>0</td>\n      <td>0</td>\n      <td>0</td>\n    </tr>\n    <tr>\n      <th>182909001</th>\n      <td>0</td>\n      <td>0</td>\n      <td>0</td>\n      <td>0</td>\n      <td>0</td>\n      <td>0</td>\n      <td>0</td>\n      <td>0</td>\n      <td>0</td>\n      <td>0</td>\n      <td>...</td>\n      <td>0</td>\n      <td>0</td>\n      <td>0</td>\n      <td>0</td>\n      <td>0</td>\n      <td>0</td>\n      <td>0</td>\n      <td>0</td>\n      <td>0</td>\n      <td>0</td>\n    </tr>\n    <tr>\n      <th>...</th>\n      <td>...</td>\n      <td>...</td>\n      <td>...</td>\n      <td>...</td>\n      <td>...</td>\n      <td>...</td>\n      <td>...</td>\n      <td>...</td>\n      <td>...</td>\n      <td>...</td>\n      <td>...</td>\n      <td>...</td>\n      <td>...</td>\n      <td>...</td>\n      <td>...</td>\n      <td>...</td>\n      <td>...</td>\n      <td>...</td>\n      <td>...</td>\n      <td>...</td>\n      <td>...</td>\n    </tr>\n    <tr>\n      <th>883033001</th>\n      <td>0</td>\n      <td>0</td>\n      <td>0</td>\n      <td>0</td>\n      <td>0</td>\n      <td>0</td>\n      <td>0</td>\n      <td>0</td>\n      <td>0</td>\n      <td>0</td>\n      <td>...</td>\n      <td>0</td>\n      <td>0</td>\n      <td>0</td>\n      <td>0</td>\n      <td>0</td>\n      <td>0</td>\n      <td>0</td>\n      <td>0</td>\n      <td>0</td>\n      <td>0</td>\n    </tr>\n    <tr>\n      <th>883033002</th>\n      <td>0</td>\n      <td>0</td>\n      <td>0</td>\n      <td>0</td>\n      <td>0</td>\n      <td>0</td>\n      <td>0</td>\n      <td>0</td>\n      <td>0</td>\n      <td>0</td>\n      <td>...</td>\n      <td>0</td>\n      <td>0</td>\n      <td>0</td>\n      <td>0</td>\n      <td>0</td>\n      <td>0</td>\n      <td>0</td>\n      <td>0</td>\n      <td>0</td>\n      <td>0</td>\n    </tr>\n    <tr>\n      <th>915526001</th>\n      <td>0</td>\n      <td>0</td>\n      <td>0</td>\n      <td>0</td>\n      <td>0</td>\n      <td>0</td>\n      <td>0</td>\n      <td>0</td>\n      <td>0</td>\n      <td>0</td>\n      <td>...</td>\n      <td>0</td>\n      <td>0</td>\n      <td>1</td>\n      <td>0</td>\n      <td>0</td>\n      <td>0</td>\n      <td>0</td>\n      <td>0</td>\n      <td>0</td>\n      <td>0</td>\n    </tr>\n    <tr>\n      <th>916468003</th>\n      <td>0</td>\n      <td>0</td>\n      <td>0</td>\n      <td>0</td>\n      <td>0</td>\n      <td>0</td>\n      <td>0</td>\n      <td>0</td>\n      <td>0</td>\n      <td>0</td>\n      <td>...</td>\n      <td>0</td>\n      <td>0</td>\n      <td>0</td>\n      <td>0</td>\n      <td>0</td>\n      <td>0</td>\n      <td>0</td>\n      <td>0</td>\n      <td>0</td>\n      <td>0</td>\n    </tr>\n    <tr>\n      <th>918292001</th>\n      <td>0</td>\n      <td>0</td>\n      <td>0</td>\n      <td>0</td>\n      <td>0</td>\n      <td>0</td>\n      <td>0</td>\n      <td>0</td>\n      <td>0</td>\n      <td>0</td>\n      <td>...</td>\n      <td>0</td>\n      <td>0</td>\n      <td>0</td>\n      <td>0</td>\n      <td>0</td>\n      <td>0</td>\n      <td>0</td>\n      <td>0</td>\n      <td>0</td>\n      <td>0</td>\n    </tr>\n  </tbody>\n</table>\n<p>835 rows × 418137 columns</p>\n</div>"
     },
     "execution_count": 201,
     "metadata": {},
     "output_type": "execute_result"
    }
   ],
   "source": [
    "# interaction matrix will give cell a value of 1 if user interacted with an item\n",
    "top_long_tail_interactions_matrix=top_long_tail_interactions.pivot_table(index=\"article_id\", columns=\"customer_id\", aggfunc=lambda x: 1, fill_value=0) \n",
    "top_long_tail_interactions_matrix"
   ],
   "metadata": {
    "collapsed": false,
    "ExecuteTime": {
     "end_time": "2023-11-22T08:49:46.071092100Z",
     "start_time": "2023-11-22T08:49:34.335092200Z"
    }
   }
  },
  {
   "cell_type": "markdown",
   "source": [
    "Amount of 1's in matrix:"
   ],
   "metadata": {
    "collapsed": false
   }
  },
  {
   "cell_type": "code",
   "execution_count": 202,
   "outputs": [
    {
     "data": {
      "text/plain": "479463"
     },
     "execution_count": 202,
     "metadata": {},
     "output_type": "execute_result"
    }
   ],
   "source": [
    "top_long_tail_interactions_matrix.values.sum()"
   ],
   "metadata": {
    "collapsed": false,
    "ExecuteTime": {
     "end_time": "2023-11-22T08:49:46.071592400Z",
     "start_time": "2023-11-22T08:49:45.272594400Z"
    }
   }
  },
  {
   "cell_type": "markdown",
   "source": [
    "Step 2: calculate cosine similarities"
   ],
   "metadata": {
    "collapsed": false
   }
  },
  {
   "cell_type": "code",
   "execution_count": 203,
   "outputs": [
    {
     "data": {
      "text/plain": "                           index                                            \\\ncustomer_id 200292573348128      248294615847351      272412481300040        \narticle_id                                                                   \n111565001                      0                    0                    0   \n111609001                      0                    0                    0   \n153115019                      0                    0                    0   \n153115020                      0                    0                    0   \n182909001                      0                    0                    0   \n...                          ...                  ...                  ...   \n883033001                      0                    0                    0   \n883033002                      0                    0                    0   \n915526001                      0                    0                    0   \n916468003                      0                    0                    0   \n918292001                      0                    0                    0   \n\n                                                                            \\\ncustomer_id 330092272649261      366493139417506      745180086074610        \narticle_id                                                                   \n111565001                      0                    0                    0   \n111609001                      0                    0                    0   \n153115019                      0                    0                    0   \n153115020                      0                    0                    1   \n182909001                      0                    0                    0   \n...                          ...                  ...                  ...   \n883033001                      0                    0                    0   \n883033002                      0                    0                    0   \n915526001                      0                    0                    0   \n916468003                      0                    0                    0   \n918292001                      0                    0                    0   \n\n                                                                            \\\ncustomer_id 857913002275398      879819981624203      1037449031262554       \narticle_id                                                                   \n111565001                      0                    0                    0   \n111609001                      0                    0                    0   \n153115019                      0                    0                    0   \n153115020                      0                    0                    0   \n182909001                      0                    0                    0   \n...                          ...                  ...                  ...   \n883033001                      0                    0                    0   \n883033002                      0                    0                    0   \n915526001                      0                    0                    0   \n916468003                      0                    0                    0   \n918292001                      0                    0                    0   \n\n                                  ...                 week  \\\ncustomer_id 1083424902212452      ... 18445164350380731040   \narticle_id                        ...                        \n111565001                      0  ...                    0   \n111609001                      0  ...                    0   \n153115019                      0  ...                    0   \n153115020                      0  ...                    0   \n182909001                      0  ...                    0   \n...                          ...  ...                  ...   \n883033001                      0  ...                    0   \n883033002                      0  ...                    0   \n915526001                      0  ...                    0   \n916468003                      0  ...                    0   \n918292001                      0  ...                    0   \n\n                                                                            \\\ncustomer_id 18445310347432716808 18445340048433064259 18445641720816255142   \narticle_id                                                                   \n111565001                      0                    0                    0   \n111609001                      0                    0                    0   \n153115019                      0                    0                    0   \n153115020                      0                    0                    0   \n182909001                      0                    0                    0   \n...                          ...                  ...                  ...   \n883033001                      0                    0                    0   \n883033002                      0                    0                    0   \n915526001                      0                    1                    0   \n916468003                      0                    0                    0   \n918292001                      0                    0                    0   \n\n                                                                            \\\ncustomer_id 18445692600011570228 18445869016569286805 18445903880167013488   \narticle_id                                                                   \n111565001                      0                    0                    0   \n111609001                      0                    0                    0   \n153115019                      0                    0                    0   \n153115020                      0                    0                    0   \n182909001                      0                    0                    0   \n...                          ...                  ...                  ...   \n883033001                      0                    0                    0   \n883033002                      0                    0                    0   \n915526001                      0                    0                    0   \n916468003                      0                    0                    0   \n918292001                      0                    0                    0   \n\n                                                                            \ncustomer_id 18446018759554823977 18446522881501826039 18446571879212697038  \narticle_id                                                                  \n111565001                      0                    0                    0  \n111609001                      0                    0                    0  \n153115019                      0                    0                    0  \n153115020                      0                    0                    0  \n182909001                      0                    0                    0  \n...                          ...                  ...                  ...  \n883033001                      0                    0                    0  \n883033002                      0                    0                    0  \n915526001                      0                    0                    0  \n916468003                      0                    0                    0  \n918292001                      0                    0                    0  \n\n[835 rows x 418137 columns]",
      "text/html": "<div>\n<style scoped>\n    .dataframe tbody tr th:only-of-type {\n        vertical-align: middle;\n    }\n\n    .dataframe tbody tr th {\n        vertical-align: top;\n    }\n\n    .dataframe thead tr th {\n        text-align: left;\n    }\n\n    .dataframe thead tr:last-of-type th {\n        text-align: right;\n    }\n</style>\n<table border=\"1\" class=\"dataframe\">\n  <thead>\n    <tr>\n      <th></th>\n      <th colspan=\"10\" halign=\"left\">index</th>\n      <th>...</th>\n      <th colspan=\"10\" halign=\"left\">week</th>\n    </tr>\n    <tr>\n      <th>customer_id</th>\n      <th>200292573348128</th>\n      <th>248294615847351</th>\n      <th>272412481300040</th>\n      <th>330092272649261</th>\n      <th>366493139417506</th>\n      <th>745180086074610</th>\n      <th>857913002275398</th>\n      <th>879819981624203</th>\n      <th>1037449031262554</th>\n      <th>1083424902212452</th>\n      <th>...</th>\n      <th>18445164350380731040</th>\n      <th>18445310347432716808</th>\n      <th>18445340048433064259</th>\n      <th>18445641720816255142</th>\n      <th>18445692600011570228</th>\n      <th>18445869016569286805</th>\n      <th>18445903880167013488</th>\n      <th>18446018759554823977</th>\n      <th>18446522881501826039</th>\n      <th>18446571879212697038</th>\n    </tr>\n    <tr>\n      <th>article_id</th>\n      <th></th>\n      <th></th>\n      <th></th>\n      <th></th>\n      <th></th>\n      <th></th>\n      <th></th>\n      <th></th>\n      <th></th>\n      <th></th>\n      <th></th>\n      <th></th>\n      <th></th>\n      <th></th>\n      <th></th>\n      <th></th>\n      <th></th>\n      <th></th>\n      <th></th>\n      <th></th>\n      <th></th>\n    </tr>\n  </thead>\n  <tbody>\n    <tr>\n      <th>111565001</th>\n      <td>0</td>\n      <td>0</td>\n      <td>0</td>\n      <td>0</td>\n      <td>0</td>\n      <td>0</td>\n      <td>0</td>\n      <td>0</td>\n      <td>0</td>\n      <td>0</td>\n      <td>...</td>\n      <td>0</td>\n      <td>0</td>\n      <td>0</td>\n      <td>0</td>\n      <td>0</td>\n      <td>0</td>\n      <td>0</td>\n      <td>0</td>\n      <td>0</td>\n      <td>0</td>\n    </tr>\n    <tr>\n      <th>111609001</th>\n      <td>0</td>\n      <td>0</td>\n      <td>0</td>\n      <td>0</td>\n      <td>0</td>\n      <td>0</td>\n      <td>0</td>\n      <td>0</td>\n      <td>0</td>\n      <td>0</td>\n      <td>...</td>\n      <td>0</td>\n      <td>0</td>\n      <td>0</td>\n      <td>0</td>\n      <td>0</td>\n      <td>0</td>\n      <td>0</td>\n      <td>0</td>\n      <td>0</td>\n      <td>0</td>\n    </tr>\n    <tr>\n      <th>153115019</th>\n      <td>0</td>\n      <td>0</td>\n      <td>0</td>\n      <td>0</td>\n      <td>0</td>\n      <td>0</td>\n      <td>0</td>\n      <td>0</td>\n      <td>0</td>\n      <td>0</td>\n      <td>...</td>\n      <td>0</td>\n      <td>0</td>\n      <td>0</td>\n      <td>0</td>\n      <td>0</td>\n      <td>0</td>\n      <td>0</td>\n      <td>0</td>\n      <td>0</td>\n      <td>0</td>\n    </tr>\n    <tr>\n      <th>153115020</th>\n      <td>0</td>\n      <td>0</td>\n      <td>0</td>\n      <td>0</td>\n      <td>0</td>\n      <td>1</td>\n      <td>0</td>\n      <td>0</td>\n      <td>0</td>\n      <td>0</td>\n      <td>...</td>\n      <td>0</td>\n      <td>0</td>\n      <td>0</td>\n      <td>0</td>\n      <td>0</td>\n      <td>0</td>\n      <td>0</td>\n      <td>0</td>\n      <td>0</td>\n      <td>0</td>\n    </tr>\n    <tr>\n      <th>182909001</th>\n      <td>0</td>\n      <td>0</td>\n      <td>0</td>\n      <td>0</td>\n      <td>0</td>\n      <td>0</td>\n      <td>0</td>\n      <td>0</td>\n      <td>0</td>\n      <td>0</td>\n      <td>...</td>\n      <td>0</td>\n      <td>0</td>\n      <td>0</td>\n      <td>0</td>\n      <td>0</td>\n      <td>0</td>\n      <td>0</td>\n      <td>0</td>\n      <td>0</td>\n      <td>0</td>\n    </tr>\n    <tr>\n      <th>...</th>\n      <td>...</td>\n      <td>...</td>\n      <td>...</td>\n      <td>...</td>\n      <td>...</td>\n      <td>...</td>\n      <td>...</td>\n      <td>...</td>\n      <td>...</td>\n      <td>...</td>\n      <td>...</td>\n      <td>...</td>\n      <td>...</td>\n      <td>...</td>\n      <td>...</td>\n      <td>...</td>\n      <td>...</td>\n      <td>...</td>\n      <td>...</td>\n      <td>...</td>\n      <td>...</td>\n    </tr>\n    <tr>\n      <th>883033001</th>\n      <td>0</td>\n      <td>0</td>\n      <td>0</td>\n      <td>0</td>\n      <td>0</td>\n      <td>0</td>\n      <td>0</td>\n      <td>0</td>\n      <td>0</td>\n      <td>0</td>\n      <td>...</td>\n      <td>0</td>\n      <td>0</td>\n      <td>0</td>\n      <td>0</td>\n      <td>0</td>\n      <td>0</td>\n      <td>0</td>\n      <td>0</td>\n      <td>0</td>\n      <td>0</td>\n    </tr>\n    <tr>\n      <th>883033002</th>\n      <td>0</td>\n      <td>0</td>\n      <td>0</td>\n      <td>0</td>\n      <td>0</td>\n      <td>0</td>\n      <td>0</td>\n      <td>0</td>\n      <td>0</td>\n      <td>0</td>\n      <td>...</td>\n      <td>0</td>\n      <td>0</td>\n      <td>0</td>\n      <td>0</td>\n      <td>0</td>\n      <td>0</td>\n      <td>0</td>\n      <td>0</td>\n      <td>0</td>\n      <td>0</td>\n    </tr>\n    <tr>\n      <th>915526001</th>\n      <td>0</td>\n      <td>0</td>\n      <td>0</td>\n      <td>0</td>\n      <td>0</td>\n      <td>0</td>\n      <td>0</td>\n      <td>0</td>\n      <td>0</td>\n      <td>0</td>\n      <td>...</td>\n      <td>0</td>\n      <td>0</td>\n      <td>1</td>\n      <td>0</td>\n      <td>0</td>\n      <td>0</td>\n      <td>0</td>\n      <td>0</td>\n      <td>0</td>\n      <td>0</td>\n    </tr>\n    <tr>\n      <th>916468003</th>\n      <td>0</td>\n      <td>0</td>\n      <td>0</td>\n      <td>0</td>\n      <td>0</td>\n      <td>0</td>\n      <td>0</td>\n      <td>0</td>\n      <td>0</td>\n      <td>0</td>\n      <td>...</td>\n      <td>0</td>\n      <td>0</td>\n      <td>0</td>\n      <td>0</td>\n      <td>0</td>\n      <td>0</td>\n      <td>0</td>\n      <td>0</td>\n      <td>0</td>\n      <td>0</td>\n    </tr>\n    <tr>\n      <th>918292001</th>\n      <td>0</td>\n      <td>0</td>\n      <td>0</td>\n      <td>0</td>\n      <td>0</td>\n      <td>0</td>\n      <td>0</td>\n      <td>0</td>\n      <td>0</td>\n      <td>0</td>\n      <td>...</td>\n      <td>0</td>\n      <td>0</td>\n      <td>0</td>\n      <td>0</td>\n      <td>0</td>\n      <td>0</td>\n      <td>0</td>\n      <td>0</td>\n      <td>0</td>\n      <td>0</td>\n    </tr>\n  </tbody>\n</table>\n<p>835 rows × 418137 columns</p>\n</div>"
     },
     "execution_count": 203,
     "metadata": {},
     "output_type": "execute_result"
    }
   ],
   "source": [
    "from scipy.sparse import csr_matrix\n",
    "from sklearn.neighbors import NearestNeighbors\n",
    "import numpy as np\n",
    "\n",
    "KNN = NearestNeighbors(algorithm=\"brute\", metric=\"cosine\").fit(csr_matrix(top_long_tail_interactions_matrix)) # huge increase in speed when using csr_matrix!\n",
    "top_long_tail_interactions_matrix"
   ],
   "metadata": {
    "collapsed": false,
    "ExecuteTime": {
     "end_time": "2023-11-22T08:49:49.104592700Z",
     "start_time": "2023-11-22T08:49:45.480093800Z"
    }
   }
  },
  {
   "cell_type": "markdown",
   "source": [
    "Step 3: personalize k bestseller items"
   ],
   "metadata": {
    "collapsed": false
   }
  },
  {
   "cell_type": "markdown",
   "source": [
    "Since it's item-to-item, items will be similar to each other no matter the user. This makes computation less expensive."
   ],
   "metadata": {
    "collapsed": false
   }
  },
  {
   "cell_type": "code",
   "execution_count": 204,
   "outputs": [
    {
     "data": {
      "text/plain": "array([598755001, 590928023, 224606019, 756633001, 659832001, 624486002,\n       559630013, 457892003, 490176001, 448515001, 658030006, 827635001,\n       805000001, 827411001, 111565001, 769748002, 590928022, 579541004,\n       682550001, 697054003, 559630026, 711053009, 429313006, 568808001,\n       561445006, 603145001, 783346020, 757915002, 688537012, 742933003,\n       859125001, 794575001, 817472002, 599580046, 759482001, 758050001,\n       832361002, 243937001, 733267001, 519583008, 189616001, 685813002,\n       762063001, 529008045, 599580028, 752814004, 652924004, 562245093,\n       562245064, 373506001, 717884003, 729860002, 711440001, 599580041,\n       697091007, 720504001, 536139010, 736681001, 713253003, 664074007,\n       733803001, 458543001, 573716049, 692226003, 700758001, 557994003,\n       351484027, 852174001, 809961002, 399136011, 399223035, 883033002,\n       832330002, 742916002, 351484033, 688873002, 507883014, 736681002,\n       715624011, 484205004, 754404006, 583534002, 715624008, 810838011,\n       783346016, 554450005, 756633002, 803772001, 779324004, 789772001,\n       823118001, 573716052, 720125041, 797710001, 739348004, 841434001,\n       687034009, 688537010, 719214003, 714807003, 688105003, 684209012,\n       736530001, 673677010, 664133001, 611024001, 751471021, 810557001,\n       816423004, 661794001, 399201042, 732017001, 822946001, 712924001,\n       253448002, 687704002, 714790017, 399087021, 547780002, 833530002,\n       589599001, 742912002, 574109012, 501616007, 704756001, 538699007,\n       832361003, 762143001, 685813003, 772005008, 678694001, 721990004,\n       880839001, 767869002, 742947001, 791587009, 562252028, 590928019,\n       554772003, 524529001, 598755002, 594987002, 698718002, 713199001,\n       762856001, 817353008, 640542002, 301227002, 768921001, 685813005,\n       689009001, 637255001, 723347001, 711582001, 565379022, 399136061,\n       399256002, 757971001, 690936003, 733935003, 724906006, 456163060,\n       741040001, 799421001, 799417004, 739974006, 766346003, 866383006,\n       399087029, 573085010, 464908002, 624486005, 590928013, 557599001,\n       740498001, 811198002, 796210008, 660599016, 698276009, 740922001,\n       690936006, 534164001, 464297021, 673799001, 712924012, 605094001,\n       399223034, 730683050, 832359001, 728156006, 754238001, 811927007,\n       738133005, 832361006, 685814033, 153115020, 624486003, 751592001,\n       717490057, 556255001, 532578010, 612481001, 723349001, 731160005,\n       636323003, 351484026, 673677012, 492897001, 832359002, 743098002,\n       727948001, 639448001, 733027002, 719530004, 599718001, 824185001,\n       610776072, 688873001, 714803001, 634426008, 697060013, 681381003,\n       758084002, 201219001, 772349008, 741220004, 465655019, 712587005,\n       578478001, 775328001, 790096002, 620081001, 750422018, 636505001,\n       189626001, 399136027, 783346017, 811500001, 373506004, 690936002,\n       799421004, 469039019, 266875001, 684209025, 549914003, 554450025,\n       751551001, 687034023, 678342002, 595696005, 458239001, 687704012,\n       768440001, 519583033, 490176002, 695545002, 569984001, 351484039,\n       806388009, 377277001, 824995001, 752689003, 811925005, 731160004,\n       679284001, 832453005, 559616017, 611221005, 817353002, 598859001,\n       882888002, 781813001, 547365003, 523489001, 684209019, 773955001,\n       833499002, 767834002, 619884001, 832331003, 610776071, 850176003,\n       798579009, 682236001, 739590027, 663679001, 866731001, 679853020,\n       399061028, 486639003, 699598004, 689005001, 570002001, 316085001,\n       681657001, 621381016, 554598038, 820613001, 717464002, 781613002,\n       707269003, 681180003, 400285006, 673677015, 678692001, 556260004,\n       751471026, 766346008, 610776068, 660726001, 687524012, 565379023,\n       699075005, 918292001, 762063003, 720125004, 774148001, 709300002,\n       687034010, 556539010, 586896039, 552716001, 677930005, 740943001,\n       832330003, 772005005, 570004009, 573085020, 806605001, 778062001,\n       623115001, 516859002, 656763006, 698283001, 599719001, 762205001,\n       559630002, 714807004, 711053004, 554811008, 455832001, 876053003,\n       781758001, 819520001, 562245102, 612481004, 779551002, 730683019,\n       599580027, 736531001, 763270003, 757903003, 796210002, 579302004,\n       832453002, 717490003, 762205003, 417951005, 599580049, 832453001,\n       824999001, 838055001, 731407001, 597891002, 368979001, 734460001,\n       712216005, 212629004, 823165001, 804992001, 621381014, 806225008,\n       640021012, 640539001, 562245084, 585480002, 799190004, 698293001,\n       736581001, 693497001, 835008005, 599502001, 717490059, 705732001,\n       746775001, 700765001, 781180003, 700851001, 733935001, 842607001,\n       464908039, 742087002, 698276001, 537346013, 857812004, 570003001,\n       685814005, 509091026, 566140015, 487827009, 824997001, 562245061,\n       457466002, 854619003, 690936001, 695544002, 712924003, 698294001,\n       863937003, 573085042, 855080001, 841434003, 636323005, 616920001,\n       507910004, 529953001, 741356001, 711053005, 690936013, 852584001,\n       800389001, 742925003, 541518004, 759871013, 664319005, 723349003,\n       803986005, 749615001, 689009002, 770315006, 576897001, 777892001,\n       715624002, 714790024, 717490058, 658030016, 786304001, 795675003,\n       632982059, 722439001, 573085005, 605106002, 742916003, 811835001,\n       708428003, 597891007, 469658009, 832284001, 562245089, 599580072,\n       723173001, 773989001, 678942016, 700701003, 426199002, 745232001,\n       706016038, 798763003, 599580061, 587229001, 879248001, 853881001,\n       529008003, 599580047, 523490003, 568601023, 578487002, 799417001,\n       752814006, 706016025, 564334002, 610776074, 818031002, 817472005,\n       369796007, 767438002, 699423003, 677999001, 733097008, 661306005,\n       688728003, 712924014, 742924003, 708428002, 811925002, 811927004,\n       739953002, 767438004, 706016010, 834217009, 762205005, 297078001,\n       512251004, 685816017, 562245097, 575347014, 559616014, 625939003,\n       534357002, 554477020, 708459003, 751941002, 570189003, 859139002,\n       704065001, 573716002, 762656001, 764155001, 832473001, 673677011,\n       733936001, 811783002, 827083001, 583534009, 860949002, 801512004,\n       741356004, 372860069, 745219002, 767799004, 709297003, 745219003,\n       697054052, 746069006, 559630008, 767032001, 562245059, 717370001,\n       751530002, 751530001, 709138001, 542533001, 562245025, 699077002,\n       682670002, 699077006, 875287001, 697054015, 685814002, 212629048,\n       452818001, 111609001, 658030017, 717490015, 728473001, 777504001,\n       708478001, 681181001, 669091001, 653188002, 736489003, 660599017,\n       779554002, 182909001, 589599036, 568601030, 692709002, 841260013,\n       834217004, 751998001, 316441024, 812464001, 673900001, 708472002,\n       214844001, 778064018, 536139012, 661794002, 776237006, 827411006,\n       743616009, 690936023, 690933005, 816832001, 815851001, 739529001,\n       721990006, 811907006, 752814018, 554450026, 706016036, 752512008,\n       733098018, 559633008, 883033001, 812167002, 747737001, 570319001,\n       708705001, 720504004, 524529010, 816423002, 516000087, 845790002,\n       702623001, 728156001, 832298003, 758088002, 711053007, 607154001,\n       740943003, 781813004, 783440002, 747984002, 816563002, 554598065,\n       841434002, 673901003, 714825005, 496762004, 736530006, 720125039,\n       608776020, 863001001, 562245005, 705732003, 689389004, 699424003,\n       767799003, 768759002, 512251003, 759479001, 692721002, 636207006,\n       399087015, 877278002, 809549001, 620963002, 708428004, 599718002,\n       554598058, 812525001, 621381009, 818031001, 603584019, 505882002,\n       622955001, 562245088, 819147001, 810557003, 806778001, 833499003,\n       658030005, 672598001, 841260007, 220094001, 760084008, 739362001,\n       743594003, 832330004, 660497007, 685448005, 822344001, 153115019,\n       817401001, 678691002, 720504008, 556539016, 865076001, 186262006,\n       708311001, 801309002, 612800009, 844409002, 730013002, 850244003,\n       692709001, 816423003, 714927002, 819139001, 664319014, 860820001,\n       652730004, 266875006, 751471027, 879781003, 794320001, 722436003,\n       324946001, 859139001, 610776083, 762856008, 716348004, 694848001,\n       613459001, 708138002, 622958003, 673396015, 752814005, 710194001,\n       698286003, 804992018, 594264003, 715624013, 915526001, 768931002,\n       751471043, 516712001, 860819001, 599489001, 762656002, 841260011,\n       717885001, 736049001, 854683003, 850259001, 758002008, 857880001,\n       727004001, 490176004, 562252039, 458543005, 832298006, 859077005,\n       763270002, 724729001, 519583045, 733067001, 523490001, 429313002,\n       798579002, 811835003, 823505001, 736681003, 763280008, 854043006,\n       685811001, 783346023, 599719004, 742561001, 738943010, 680374001,\n       399256032, 573085038, 732103001, 812207002, 678342028, 737224002,\n       811783001, 696209001, 662948012, 562498002, 464927008, 832361007,\n       680391002, 772349003, 758089002, 679853011, 546406001, 685814007,\n       699423001, 715303006, 573085034, 736573001, 883024001, 815264002,\n       572998002, 715624012, 685816004, 776237021, 801673001, 679854005,\n       564309022, 688537026, 748236001, 767032002, 678086002, 689898002,\n       452618001, 794819001, 780297002, 878013001, 715303001, 776861001,\n       763270001, 723151001, 826776001, 836699001, 817401004, 399256030,\n       684087001, 819143001, 797078010, 749509001, 815434001, 714790021,\n       721320001, 747984001, 685347001, 739529002, 186262001, 783507001,\n       655784007, 746994002, 671607001, 660308001, 629758013, 619580001,\n       861847004, 783380003, 687524001, 763673002, 821398002, 799190001,\n       624257001, 716671001, 309864002, 760084006, 716581001, 736678002,\n       751471018, 664405005, 652924010, 578374001, 786304002, 598755015,\n       762205002, 785018008, 844059001, 916468003, 733267005, 781758003,\n       372008001, 708472003, 708428007, 777070002, 854683002, 832481002,\n       717727001, 492897002, 730863005, 656719005, 744862001, 685816008,\n       850259002])"
     },
     "execution_count": 204,
     "metadata": {},
     "output_type": "execute_result"
    }
   ],
   "source": [
    "unique_top_long_tail = top_long_tail_interactions[\"article_id\"].unique()\n",
    "unique_top_long_tail"
   ],
   "metadata": {
    "collapsed": false,
    "ExecuteTime": {
     "end_time": "2023-11-22T08:49:49.121591900Z",
     "start_time": "2023-11-22T08:49:49.105093700Z"
    }
   }
  },
  {
   "cell_type": "code",
   "execution_count": 205,
   "outputs": [],
   "source": [
    "def get_k_similar_long_tail_items(article_id, k):\n",
    "\n",
    "    query_item_index = top_long_tail_interactions_matrix.index.get_loc(article_id)\n",
    "    query_item_vector = top_long_tail_interactions_matrix.values[query_item_index].reshape(1, -1)\n",
    "    \n",
    "    distances, indices = KNN.kneighbors(query_item_vector, n_neighbors=k)\n",
    "    nearest_neighbors_indices = indices.flatten()[1:]  # Exclude the first element (the user itself)\n",
    "    nearest_neighbor_ids = top_long_tail_interactions_matrix.iloc[nearest_neighbors_indices].index\n",
    "    \n",
    "    return nearest_neighbor_ids.tolist()\n"
   ],
   "metadata": {
    "collapsed": false,
    "ExecuteTime": {
     "end_time": "2023-11-22T08:49:49.130591100Z",
     "start_time": "2023-11-22T08:49:49.123093500Z"
    }
   }
  },
  {
   "cell_type": "code",
   "execution_count": 206,
   "outputs": [
    {
     "data": {
      "text/plain": "     article_id similar_article_id\n0     598755001        [598755002]\n1     590928023        [712924014]\n2     224606019        [716671001]\n3     756633001        [799417001]\n4     659832001        [452618001]\n..          ...                ...\n830   730863005        [685816004]\n831   656719005        [762656002]\n832   744862001        [678342028]\n833   685816008        [857812004]\n834   850259002        [794320001]\n\n[835 rows x 2 columns]",
      "text/html": "<div>\n<style scoped>\n    .dataframe tbody tr th:only-of-type {\n        vertical-align: middle;\n    }\n\n    .dataframe tbody tr th {\n        vertical-align: top;\n    }\n\n    .dataframe thead th {\n        text-align: right;\n    }\n</style>\n<table border=\"1\" class=\"dataframe\">\n  <thead>\n    <tr style=\"text-align: right;\">\n      <th></th>\n      <th>article_id</th>\n      <th>similar_article_id</th>\n    </tr>\n  </thead>\n  <tbody>\n    <tr>\n      <th>0</th>\n      <td>598755001</td>\n      <td>[598755002]</td>\n    </tr>\n    <tr>\n      <th>1</th>\n      <td>590928023</td>\n      <td>[712924014]</td>\n    </tr>\n    <tr>\n      <th>2</th>\n      <td>224606019</td>\n      <td>[716671001]</td>\n    </tr>\n    <tr>\n      <th>3</th>\n      <td>756633001</td>\n      <td>[799417001]</td>\n    </tr>\n    <tr>\n      <th>4</th>\n      <td>659832001</td>\n      <td>[452618001]</td>\n    </tr>\n    <tr>\n      <th>...</th>\n      <td>...</td>\n      <td>...</td>\n    </tr>\n    <tr>\n      <th>830</th>\n      <td>730863005</td>\n      <td>[685816004]</td>\n    </tr>\n    <tr>\n      <th>831</th>\n      <td>656719005</td>\n      <td>[762656002]</td>\n    </tr>\n    <tr>\n      <th>832</th>\n      <td>744862001</td>\n      <td>[678342028]</td>\n    </tr>\n    <tr>\n      <th>833</th>\n      <td>685816008</td>\n      <td>[857812004]</td>\n    </tr>\n    <tr>\n      <th>834</th>\n      <td>850259002</td>\n      <td>[794320001]</td>\n    </tr>\n  </tbody>\n</table>\n<p>835 rows × 2 columns</p>\n</div>"
     },
     "execution_count": 206,
     "metadata": {},
     "output_type": "execute_result"
    }
   ],
   "source": [
    "similar_long_tail_items = []\n",
    "\n",
    "for article_id in unique_top_long_tail:\n",
    "    similar_items = get_k_similar_long_tail_items(article_id, K+1)\n",
    "    # for similar_item in similar_items:\n",
    "    #     similar_long_tail_items.append({'article_id': article_id, 'similar_article_id': similar_item})\n",
    "    similar_long_tail_items.append({'article_id': article_id, 'similar_article_id': similar_items})\n",
    "\n",
    "similar_long_tail_items = pd.DataFrame(similar_long_tail_items)\n",
    "similar_long_tail_items"
   ],
   "metadata": {
    "collapsed": false,
    "ExecuteTime": {
     "end_time": "2023-11-22T08:50:05.475594200Z",
     "start_time": "2023-11-22T08:49:49.127593400Z"
    }
   }
  },
  {
   "cell_type": "code",
   "execution_count": 207,
   "outputs": [],
   "source": [
    "bestsellers_previous_week = pd.merge(sales_frame, mean_price, on=['week', 'article_id']).reset_index()\n",
    "bestsellers_previous_week.week += 1"
   ],
   "metadata": {
    "collapsed": false,
    "ExecuteTime": {
     "end_time": "2023-11-22T08:50:05.511592200Z",
     "start_time": "2023-11-22T08:50:05.475094700Z"
    }
   }
  },
  {
   "cell_type": "code",
   "execution_count": 208,
   "outputs": [
    {
     "data": {
      "text/plain": "     index  week  article_id  bestseller_rank     price\n0        0    96   866731001                2  0.024919\n1        1    96   600886001                3  0.022980\n2        2    96   706016001                4  0.033197\n3        3    96   372860002                5  0.013193\n4        4    96   610776002                6  0.008318\n..     ...   ...         ...              ...       ...\n114    114   105   915529003                8  0.033439\n115    115   105   915529005                9  0.033417\n116    116   105   448509014               10  0.041630\n117    117   105   762846027               11  0.025005\n118    118   105   714790020               12  0.049951\n\n[119 rows x 5 columns]",
      "text/html": "<div>\n<style scoped>\n    .dataframe tbody tr th:only-of-type {\n        vertical-align: middle;\n    }\n\n    .dataframe tbody tr th {\n        vertical-align: top;\n    }\n\n    .dataframe thead th {\n        text-align: right;\n    }\n</style>\n<table border=\"1\" class=\"dataframe\">\n  <thead>\n    <tr style=\"text-align: right;\">\n      <th></th>\n      <th>index</th>\n      <th>week</th>\n      <th>article_id</th>\n      <th>bestseller_rank</th>\n      <th>price</th>\n    </tr>\n  </thead>\n  <tbody>\n    <tr>\n      <th>0</th>\n      <td>0</td>\n      <td>96</td>\n      <td>866731001</td>\n      <td>2</td>\n      <td>0.024919</td>\n    </tr>\n    <tr>\n      <th>1</th>\n      <td>1</td>\n      <td>96</td>\n      <td>600886001</td>\n      <td>3</td>\n      <td>0.022980</td>\n    </tr>\n    <tr>\n      <th>2</th>\n      <td>2</td>\n      <td>96</td>\n      <td>706016001</td>\n      <td>4</td>\n      <td>0.033197</td>\n    </tr>\n    <tr>\n      <th>3</th>\n      <td>3</td>\n      <td>96</td>\n      <td>372860002</td>\n      <td>5</td>\n      <td>0.013193</td>\n    </tr>\n    <tr>\n      <th>4</th>\n      <td>4</td>\n      <td>96</td>\n      <td>610776002</td>\n      <td>6</td>\n      <td>0.008318</td>\n    </tr>\n    <tr>\n      <th>...</th>\n      <td>...</td>\n      <td>...</td>\n      <td>...</td>\n      <td>...</td>\n      <td>...</td>\n    </tr>\n    <tr>\n      <th>114</th>\n      <td>114</td>\n      <td>105</td>\n      <td>915529003</td>\n      <td>8</td>\n      <td>0.033439</td>\n    </tr>\n    <tr>\n      <th>115</th>\n      <td>115</td>\n      <td>105</td>\n      <td>915529005</td>\n      <td>9</td>\n      <td>0.033417</td>\n    </tr>\n    <tr>\n      <th>116</th>\n      <td>116</td>\n      <td>105</td>\n      <td>448509014</td>\n      <td>10</td>\n      <td>0.041630</td>\n    </tr>\n    <tr>\n      <th>117</th>\n      <td>117</td>\n      <td>105</td>\n      <td>762846027</td>\n      <td>11</td>\n      <td>0.025005</td>\n    </tr>\n    <tr>\n      <th>118</th>\n      <td>118</td>\n      <td>105</td>\n      <td>714790020</td>\n      <td>12</td>\n      <td>0.049951</td>\n    </tr>\n  </tbody>\n</table>\n<p>119 rows × 5 columns</p>\n</div>"
     },
     "execution_count": 208,
     "metadata": {},
     "output_type": "execute_result"
    }
   ],
   "source": [
    "bestsellers_previous_week"
   ],
   "metadata": {
    "collapsed": false,
    "ExecuteTime": {
     "end_time": "2023-11-22T08:50:05.526594400Z",
     "start_time": "2023-11-22T08:50:05.509593900Z"
    }
   }
  },
  {
   "cell_type": "code",
   "execution_count": 209,
   "outputs": [],
   "source": [
    "unique_transactions = transactions \\\n",
    "    .groupby(['week', 'customer_id']) \\\n",
    "    .head(1) \\\n",
    "    .drop(columns=['article_id', 'price']) \\\n",
    "    .copy()\n",
    "\n",
    "# unique transactions will only contain users that never made long tail item purchases within 10 weeks.\n",
    "# Since we cannot personalize for those, they will simply merge with bestseller items.\n",
    "unique_transactions_not_personalized = unique_transactions[~unique_transactions[\"customer_id\"].isin(top_long_tail_interactions[\"customer_id\"])]"
   ],
   "metadata": {
    "collapsed": false,
    "ExecuteTime": {
     "end_time": "2023-11-22T08:50:06.107592600Z",
     "start_time": "2023-11-22T08:50:05.518092600Z"
    }
   }
  },
  {
   "cell_type": "code",
   "execution_count": 210,
   "outputs": [
    {
     "data": {
      "text/plain": "              t_dat           customer_id  sales_channel_id  week\n29067103 2020-07-15      2133687643102426                 2    95\n29027487 2020-07-15      6010692573790711                 1    95\n29030261 2020-07-15      6434044519214559                 2    95\n29066471 2020-07-15      7678388473497046                 2    95\n29045989 2020-07-15      9033460998303010                 1    95\n...             ...                   ...               ...   ...\n31782717 2020-09-22  18432411165497420051                 1   104\n31777299 2020-09-22  18432753550436772025                 2   104\n31760188 2020-09-22  18435221511488011015                 1   104\n31787251 2020-09-22  18437941771381362708                 2   104\n31779097 2020-09-22  18440902715633436014                 1   104\n\n[458148 rows x 4 columns]",
      "text/html": "<div>\n<style scoped>\n    .dataframe tbody tr th:only-of-type {\n        vertical-align: middle;\n    }\n\n    .dataframe tbody tr th {\n        vertical-align: top;\n    }\n\n    .dataframe thead th {\n        text-align: right;\n    }\n</style>\n<table border=\"1\" class=\"dataframe\">\n  <thead>\n    <tr style=\"text-align: right;\">\n      <th></th>\n      <th>t_dat</th>\n      <th>customer_id</th>\n      <th>sales_channel_id</th>\n      <th>week</th>\n    </tr>\n  </thead>\n  <tbody>\n    <tr>\n      <th>29067103</th>\n      <td>2020-07-15</td>\n      <td>2133687643102426</td>\n      <td>2</td>\n      <td>95</td>\n    </tr>\n    <tr>\n      <th>29027487</th>\n      <td>2020-07-15</td>\n      <td>6010692573790711</td>\n      <td>1</td>\n      <td>95</td>\n    </tr>\n    <tr>\n      <th>29030261</th>\n      <td>2020-07-15</td>\n      <td>6434044519214559</td>\n      <td>2</td>\n      <td>95</td>\n    </tr>\n    <tr>\n      <th>29066471</th>\n      <td>2020-07-15</td>\n      <td>7678388473497046</td>\n      <td>2</td>\n      <td>95</td>\n    </tr>\n    <tr>\n      <th>29045989</th>\n      <td>2020-07-15</td>\n      <td>9033460998303010</td>\n      <td>1</td>\n      <td>95</td>\n    </tr>\n    <tr>\n      <th>...</th>\n      <td>...</td>\n      <td>...</td>\n      <td>...</td>\n      <td>...</td>\n    </tr>\n    <tr>\n      <th>31782717</th>\n      <td>2020-09-22</td>\n      <td>18432411165497420051</td>\n      <td>1</td>\n      <td>104</td>\n    </tr>\n    <tr>\n      <th>31777299</th>\n      <td>2020-09-22</td>\n      <td>18432753550436772025</td>\n      <td>2</td>\n      <td>104</td>\n    </tr>\n    <tr>\n      <th>31760188</th>\n      <td>2020-09-22</td>\n      <td>18435221511488011015</td>\n      <td>1</td>\n      <td>104</td>\n    </tr>\n    <tr>\n      <th>31787251</th>\n      <td>2020-09-22</td>\n      <td>18437941771381362708</td>\n      <td>2</td>\n      <td>104</td>\n    </tr>\n    <tr>\n      <th>31779097</th>\n      <td>2020-09-22</td>\n      <td>18440902715633436014</td>\n      <td>1</td>\n      <td>104</td>\n    </tr>\n  </tbody>\n</table>\n<p>458148 rows × 4 columns</p>\n</div>"
     },
     "execution_count": 210,
     "metadata": {},
     "output_type": "execute_result"
    }
   ],
   "source": [
    "unique_transactions_not_personalized"
   ],
   "metadata": {
    "collapsed": false,
    "ExecuteTime": {
     "end_time": "2023-11-22T08:50:06.108592600Z",
     "start_time": "2023-11-22T08:50:06.078092700Z"
    }
   }
  },
  {
   "cell_type": "code",
   "execution_count": 211,
   "outputs": [
    {
     "data": {
      "text/plain": "              t_dat           customer_id  article_id     price  \\\n29030503 2020-07-15       272412481300040   778064028  0.008458   \n29064059 2020-07-15      1456826891333599   888294001  0.013542   \n29067103 2020-07-15      2133687643102426   843642001  0.042356   \n29027487 2020-07-15      6010692573790711   857812010  0.039661   \n29046403 2020-07-15      6171059100114610   815447007  0.006763   \n...             ...                   ...         ...       ...   \n31760188 2020-09-22  18435221511488011015   573085055  0.033881   \n31782234 2020-09-22  18436859303155335645   801447001  0.030492   \n31787251 2020-09-22  18437941771381362708   907188001  0.050831   \n31776022 2020-09-22  18438270306572912089   751471043  0.033881   \n31779097 2020-09-22  18440902715633436014   918894002  0.016932   \n\n          sales_channel_id  week  \n29030503                 1    95  \n29064059                 1    95  \n29067103                 2    95  \n29027487                 1    95  \n29046403                 2    95  \n...                    ...   ...  \n31760188                 1   104  \n31782234                 1   104  \n31787251                 2   104  \n31776022                 1   104  \n31779097                 1   104  \n\n[755710 rows x 6 columns]",
      "text/html": "<div>\n<style scoped>\n    .dataframe tbody tr th:only-of-type {\n        vertical-align: middle;\n    }\n\n    .dataframe tbody tr th {\n        vertical-align: top;\n    }\n\n    .dataframe thead th {\n        text-align: right;\n    }\n</style>\n<table border=\"1\" class=\"dataframe\">\n  <thead>\n    <tr style=\"text-align: right;\">\n      <th></th>\n      <th>t_dat</th>\n      <th>customer_id</th>\n      <th>article_id</th>\n      <th>price</th>\n      <th>sales_channel_id</th>\n      <th>week</th>\n    </tr>\n  </thead>\n  <tbody>\n    <tr>\n      <th>29030503</th>\n      <td>2020-07-15</td>\n      <td>272412481300040</td>\n      <td>778064028</td>\n      <td>0.008458</td>\n      <td>1</td>\n      <td>95</td>\n    </tr>\n    <tr>\n      <th>29064059</th>\n      <td>2020-07-15</td>\n      <td>1456826891333599</td>\n      <td>888294001</td>\n      <td>0.013542</td>\n      <td>1</td>\n      <td>95</td>\n    </tr>\n    <tr>\n      <th>29067103</th>\n      <td>2020-07-15</td>\n      <td>2133687643102426</td>\n      <td>843642001</td>\n      <td>0.042356</td>\n      <td>2</td>\n      <td>95</td>\n    </tr>\n    <tr>\n      <th>29027487</th>\n      <td>2020-07-15</td>\n      <td>6010692573790711</td>\n      <td>857812010</td>\n      <td>0.039661</td>\n      <td>1</td>\n      <td>95</td>\n    </tr>\n    <tr>\n      <th>29046403</th>\n      <td>2020-07-15</td>\n      <td>6171059100114610</td>\n      <td>815447007</td>\n      <td>0.006763</td>\n      <td>2</td>\n      <td>95</td>\n    </tr>\n    <tr>\n      <th>...</th>\n      <td>...</td>\n      <td>...</td>\n      <td>...</td>\n      <td>...</td>\n      <td>...</td>\n      <td>...</td>\n    </tr>\n    <tr>\n      <th>31760188</th>\n      <td>2020-09-22</td>\n      <td>18435221511488011015</td>\n      <td>573085055</td>\n      <td>0.033881</td>\n      <td>1</td>\n      <td>104</td>\n    </tr>\n    <tr>\n      <th>31782234</th>\n      <td>2020-09-22</td>\n      <td>18436859303155335645</td>\n      <td>801447001</td>\n      <td>0.030492</td>\n      <td>1</td>\n      <td>104</td>\n    </tr>\n    <tr>\n      <th>31787251</th>\n      <td>2020-09-22</td>\n      <td>18437941771381362708</td>\n      <td>907188001</td>\n      <td>0.050831</td>\n      <td>2</td>\n      <td>104</td>\n    </tr>\n    <tr>\n      <th>31776022</th>\n      <td>2020-09-22</td>\n      <td>18438270306572912089</td>\n      <td>751471043</td>\n      <td>0.033881</td>\n      <td>1</td>\n      <td>104</td>\n    </tr>\n    <tr>\n      <th>31779097</th>\n      <td>2020-09-22</td>\n      <td>18440902715633436014</td>\n      <td>918894002</td>\n      <td>0.016932</td>\n      <td>1</td>\n      <td>104</td>\n    </tr>\n  </tbody>\n</table>\n<p>755710 rows × 6 columns</p>\n</div>"
     },
     "execution_count": 211,
     "metadata": {},
     "output_type": "execute_result"
    }
   ],
   "source": [
    "transactions.drop_duplicates(['week', 'customer_id'])"
   ],
   "metadata": {
    "collapsed": false,
    "ExecuteTime": {
     "end_time": "2023-11-22T08:50:06.375594Z",
     "start_time": "2023-11-22T08:50:06.101593Z"
    }
   }
  },
  {
   "cell_type": "code",
   "execution_count": 212,
   "outputs": [
    {
     "data": {
      "text/plain": "             t_dat           customer_id  sales_channel_id  week  index  \\\n0       2020-07-22       649760207043851                 1    96      0   \n1       2020-07-22       649760207043851                 1    96      1   \n2       2020-07-22       649760207043851                 1    96      2   \n3       2020-07-22       649760207043851                 1    96      3   \n4       2020-07-22       649760207043851                 1    96      4   \n...            ...                   ...               ...   ...    ...   \n4923168 2020-09-22  18440902715633436014                 1   104    102   \n4923169 2020-09-22  18440902715633436014                 1   104    103   \n4923170 2020-09-22  18440902715633436014                 1   104    104   \n4923171 2020-09-22  18440902715633436014                 1   104    105   \n4923172 2020-09-22  18440902715633436014                 1   104    106   \n\n         article_id  bestseller_rank     price  \n0         866731001                2  0.024919  \n1         600886001                3  0.022980  \n2         706016001                4  0.033197  \n3         372860002                5  0.013193  \n4         610776002                6  0.008318  \n...             ...              ...       ...  \n4923168   918292001                8  0.041424  \n4923169   762846027                9  0.025104  \n4923170   809238005               10  0.041656  \n4923171   673677002               11  0.024925  \n4923172   923758001               12  0.033478  \n\n[4923173 rows x 8 columns]",
      "text/html": "<div>\n<style scoped>\n    .dataframe tbody tr th:only-of-type {\n        vertical-align: middle;\n    }\n\n    .dataframe tbody tr th {\n        vertical-align: top;\n    }\n\n    .dataframe thead th {\n        text-align: right;\n    }\n</style>\n<table border=\"1\" class=\"dataframe\">\n  <thead>\n    <tr style=\"text-align: right;\">\n      <th></th>\n      <th>t_dat</th>\n      <th>customer_id</th>\n      <th>sales_channel_id</th>\n      <th>week</th>\n      <th>index</th>\n      <th>article_id</th>\n      <th>bestseller_rank</th>\n      <th>price</th>\n    </tr>\n  </thead>\n  <tbody>\n    <tr>\n      <th>0</th>\n      <td>2020-07-22</td>\n      <td>649760207043851</td>\n      <td>1</td>\n      <td>96</td>\n      <td>0</td>\n      <td>866731001</td>\n      <td>2</td>\n      <td>0.024919</td>\n    </tr>\n    <tr>\n      <th>1</th>\n      <td>2020-07-22</td>\n      <td>649760207043851</td>\n      <td>1</td>\n      <td>96</td>\n      <td>1</td>\n      <td>600886001</td>\n      <td>3</td>\n      <td>0.022980</td>\n    </tr>\n    <tr>\n      <th>2</th>\n      <td>2020-07-22</td>\n      <td>649760207043851</td>\n      <td>1</td>\n      <td>96</td>\n      <td>2</td>\n      <td>706016001</td>\n      <td>4</td>\n      <td>0.033197</td>\n    </tr>\n    <tr>\n      <th>3</th>\n      <td>2020-07-22</td>\n      <td>649760207043851</td>\n      <td>1</td>\n      <td>96</td>\n      <td>3</td>\n      <td>372860002</td>\n      <td>5</td>\n      <td>0.013193</td>\n    </tr>\n    <tr>\n      <th>4</th>\n      <td>2020-07-22</td>\n      <td>649760207043851</td>\n      <td>1</td>\n      <td>96</td>\n      <td>4</td>\n      <td>610776002</td>\n      <td>6</td>\n      <td>0.008318</td>\n    </tr>\n    <tr>\n      <th>...</th>\n      <td>...</td>\n      <td>...</td>\n      <td>...</td>\n      <td>...</td>\n      <td>...</td>\n      <td>...</td>\n      <td>...</td>\n      <td>...</td>\n    </tr>\n    <tr>\n      <th>4923168</th>\n      <td>2020-09-22</td>\n      <td>18440902715633436014</td>\n      <td>1</td>\n      <td>104</td>\n      <td>102</td>\n      <td>918292001</td>\n      <td>8</td>\n      <td>0.041424</td>\n    </tr>\n    <tr>\n      <th>4923169</th>\n      <td>2020-09-22</td>\n      <td>18440902715633436014</td>\n      <td>1</td>\n      <td>104</td>\n      <td>103</td>\n      <td>762846027</td>\n      <td>9</td>\n      <td>0.025104</td>\n    </tr>\n    <tr>\n      <th>4923170</th>\n      <td>2020-09-22</td>\n      <td>18440902715633436014</td>\n      <td>1</td>\n      <td>104</td>\n      <td>104</td>\n      <td>809238005</td>\n      <td>10</td>\n      <td>0.041656</td>\n    </tr>\n    <tr>\n      <th>4923171</th>\n      <td>2020-09-22</td>\n      <td>18440902715633436014</td>\n      <td>1</td>\n      <td>104</td>\n      <td>105</td>\n      <td>673677002</td>\n      <td>11</td>\n      <td>0.024925</td>\n    </tr>\n    <tr>\n      <th>4923172</th>\n      <td>2020-09-22</td>\n      <td>18440902715633436014</td>\n      <td>1</td>\n      <td>104</td>\n      <td>106</td>\n      <td>923758001</td>\n      <td>12</td>\n      <td>0.033478</td>\n    </tr>\n  </tbody>\n</table>\n<p>4923173 rows × 8 columns</p>\n</div>"
     },
     "execution_count": 212,
     "metadata": {},
     "output_type": "execute_result"
    }
   ],
   "source": [
    "# candidate bestsellers for users we cannot generate personalized candidates for\n",
    "candidates_bestsellers = pd.merge(\n",
    "    unique_transactions_not_personalized,\n",
    "    bestsellers_previous_week,\n",
    "    on='week',\n",
    ")\n",
    "candidates_bestsellers"
   ],
   "metadata": {
    "collapsed": false,
    "ExecuteTime": {
     "end_time": "2023-11-22T08:50:07.713868400Z",
     "start_time": "2023-11-22T08:50:06.376592200Z"
    }
   }
  },
  {
   "cell_type": "code",
   "execution_count": 213,
   "outputs": [
    {
     "data": {
      "text/plain": "        index  article_id  sales_count           customer_id  week\n31      22465   598755001       5000.0    107976824977578409    96\n32      22465   598755001       5000.0   2439403413560584179    96\n33      22465   598755001       5000.0   7277307652190892760    96\n34      22465   598755001       5000.0   9442157838157959436    96\n35      22465   598755001       5000.0  10542420106459276787    96\n...       ...         ...          ...                   ...   ...\n232251  91590   850259002       2757.0   8585022613676459629    96\n232252  91590   850259002       2757.0  11519808411186093891    96\n232253  91590   850259002       2757.0  16724823495123755397    96\n232255  91590   850259002       2757.0  17006265333647032764    96\n232256  91590   850259002       2757.0  17882518856805427118    96\n\n[20255 rows x 5 columns]",
      "text/html": "<div>\n<style scoped>\n    .dataframe tbody tr th:only-of-type {\n        vertical-align: middle;\n    }\n\n    .dataframe tbody tr th {\n        vertical-align: top;\n    }\n\n    .dataframe thead th {\n        text-align: right;\n    }\n</style>\n<table border=\"1\" class=\"dataframe\">\n  <thead>\n    <tr style=\"text-align: right;\">\n      <th></th>\n      <th>index</th>\n      <th>article_id</th>\n      <th>sales_count</th>\n      <th>customer_id</th>\n      <th>week</th>\n    </tr>\n  </thead>\n  <tbody>\n    <tr>\n      <th>31</th>\n      <td>22465</td>\n      <td>598755001</td>\n      <td>5000.0</td>\n      <td>107976824977578409</td>\n      <td>96</td>\n    </tr>\n    <tr>\n      <th>32</th>\n      <td>22465</td>\n      <td>598755001</td>\n      <td>5000.0</td>\n      <td>2439403413560584179</td>\n      <td>96</td>\n    </tr>\n    <tr>\n      <th>33</th>\n      <td>22465</td>\n      <td>598755001</td>\n      <td>5000.0</td>\n      <td>7277307652190892760</td>\n      <td>96</td>\n    </tr>\n    <tr>\n      <th>34</th>\n      <td>22465</td>\n      <td>598755001</td>\n      <td>5000.0</td>\n      <td>9442157838157959436</td>\n      <td>96</td>\n    </tr>\n    <tr>\n      <th>35</th>\n      <td>22465</td>\n      <td>598755001</td>\n      <td>5000.0</td>\n      <td>10542420106459276787</td>\n      <td>96</td>\n    </tr>\n    <tr>\n      <th>...</th>\n      <td>...</td>\n      <td>...</td>\n      <td>...</td>\n      <td>...</td>\n      <td>...</td>\n    </tr>\n    <tr>\n      <th>232251</th>\n      <td>91590</td>\n      <td>850259002</td>\n      <td>2757.0</td>\n      <td>8585022613676459629</td>\n      <td>96</td>\n    </tr>\n    <tr>\n      <th>232252</th>\n      <td>91590</td>\n      <td>850259002</td>\n      <td>2757.0</td>\n      <td>11519808411186093891</td>\n      <td>96</td>\n    </tr>\n    <tr>\n      <th>232253</th>\n      <td>91590</td>\n      <td>850259002</td>\n      <td>2757.0</td>\n      <td>16724823495123755397</td>\n      <td>96</td>\n    </tr>\n    <tr>\n      <th>232255</th>\n      <td>91590</td>\n      <td>850259002</td>\n      <td>2757.0</td>\n      <td>17006265333647032764</td>\n      <td>96</td>\n    </tr>\n    <tr>\n      <th>232256</th>\n      <td>91590</td>\n      <td>850259002</td>\n      <td>2757.0</td>\n      <td>17882518856805427118</td>\n      <td>96</td>\n    </tr>\n  </tbody>\n</table>\n<p>20255 rows × 5 columns</p>\n</div>"
     },
     "execution_count": 213,
     "metadata": {},
     "output_type": "execute_result"
    }
   ],
   "source": [
    "top_long_tail_interactions[top_long_tail_interactions[\"week\"]==96]"
   ],
   "metadata": {
    "collapsed": false,
    "ExecuteTime": {
     "end_time": "2023-11-22T08:50:07.724867700Z",
     "start_time": "2023-11-22T08:50:07.713368Z"
    }
   }
  },
  {
   "cell_type": "code",
   "execution_count": 214,
   "outputs": [
    {
     "data": {
      "text/plain": "article_id\n730683050    358\n706016038    221\n866383006    177\n816423004    174\n832453005    171\n            ... \n562252039      1\n599580049      1\n783440002      1\n857880001      1\n697054015      1\nName: count, Length: 695, dtype: int64"
     },
     "execution_count": 214,
     "metadata": {},
     "output_type": "execute_result"
    }
   ],
   "source": [
    "top_long_tail_interactions[top_long_tail_interactions[\"week\"]==96][\"article_id\"].value_counts()"
   ],
   "metadata": {
    "collapsed": false,
    "ExecuteTime": {
     "end_time": "2023-11-22T08:50:07.732366800Z",
     "start_time": "2023-11-22T08:50:07.723868800Z"
    }
   }
  },
  {
   "cell_type": "code",
   "execution_count": 215,
   "outputs": [
    {
     "data": {
      "text/plain": "              t_dat           customer_id  sales_channel_id  week\n29334775 2020-07-22       200292573348128                 2    96\n29330872 2020-07-22       248294615847351                 1    96\n29319533 2020-07-22       272412481300040                 1    96\n29357168 2020-07-22       649760207043851                 1    96\n29324267 2020-07-22      2269719878901327                 1    96\n...             ...                   ...               ...   ...\n29602896 2020-07-28  18437287698903424427                 1    96\n29579216 2020-07-28  18442208713248673405                 2    96\n29601372 2020-07-28  18443005737395567187                 1    96\n29589628 2020-07-28  18443721675496509156                 2    96\n29567766 2020-07-28  18445692600011570228                 2    96\n\n[80591 rows x 4 columns]",
      "text/html": "<div>\n<style scoped>\n    .dataframe tbody tr th:only-of-type {\n        vertical-align: middle;\n    }\n\n    .dataframe tbody tr th {\n        vertical-align: top;\n    }\n\n    .dataframe thead th {\n        text-align: right;\n    }\n</style>\n<table border=\"1\" class=\"dataframe\">\n  <thead>\n    <tr style=\"text-align: right;\">\n      <th></th>\n      <th>t_dat</th>\n      <th>customer_id</th>\n      <th>sales_channel_id</th>\n      <th>week</th>\n    </tr>\n  </thead>\n  <tbody>\n    <tr>\n      <th>29334775</th>\n      <td>2020-07-22</td>\n      <td>200292573348128</td>\n      <td>2</td>\n      <td>96</td>\n    </tr>\n    <tr>\n      <th>29330872</th>\n      <td>2020-07-22</td>\n      <td>248294615847351</td>\n      <td>1</td>\n      <td>96</td>\n    </tr>\n    <tr>\n      <th>29319533</th>\n      <td>2020-07-22</td>\n      <td>272412481300040</td>\n      <td>1</td>\n      <td>96</td>\n    </tr>\n    <tr>\n      <th>29357168</th>\n      <td>2020-07-22</td>\n      <td>649760207043851</td>\n      <td>1</td>\n      <td>96</td>\n    </tr>\n    <tr>\n      <th>29324267</th>\n      <td>2020-07-22</td>\n      <td>2269719878901327</td>\n      <td>1</td>\n      <td>96</td>\n    </tr>\n    <tr>\n      <th>...</th>\n      <td>...</td>\n      <td>...</td>\n      <td>...</td>\n      <td>...</td>\n    </tr>\n    <tr>\n      <th>29602896</th>\n      <td>2020-07-28</td>\n      <td>18437287698903424427</td>\n      <td>1</td>\n      <td>96</td>\n    </tr>\n    <tr>\n      <th>29579216</th>\n      <td>2020-07-28</td>\n      <td>18442208713248673405</td>\n      <td>2</td>\n      <td>96</td>\n    </tr>\n    <tr>\n      <th>29601372</th>\n      <td>2020-07-28</td>\n      <td>18443005737395567187</td>\n      <td>1</td>\n      <td>96</td>\n    </tr>\n    <tr>\n      <th>29589628</th>\n      <td>2020-07-28</td>\n      <td>18443721675496509156</td>\n      <td>2</td>\n      <td>96</td>\n    </tr>\n    <tr>\n      <th>29567766</th>\n      <td>2020-07-28</td>\n      <td>18445692600011570228</td>\n      <td>2</td>\n      <td>96</td>\n    </tr>\n  </tbody>\n</table>\n<p>80591 rows × 4 columns</p>\n</div>"
     },
     "execution_count": 215,
     "metadata": {},
     "output_type": "execute_result"
    }
   ],
   "source": [
    "unique_transactions[unique_transactions[\"week\"]==96]"
   ],
   "metadata": {
    "collapsed": false,
    "ExecuteTime": {
     "end_time": "2023-11-22T08:50:07.756866900Z",
     "start_time": "2023-11-22T08:50:07.730367100Z"
    }
   }
  },
  {
   "cell_type": "markdown",
   "source": [
    "### Generating personalized candidates"
   ],
   "metadata": {
    "collapsed": false
   }
  },
  {
   "cell_type": "code",
   "execution_count": 216,
   "outputs": [
    {
     "name": "stderr",
     "output_type": "stream",
     "text": [
      "C:\\Users\\guled\\AppData\\Local\\Temp\\ipykernel_17508\\2036143937.py:15: FutureWarning: The behavior of DataFrame concatenation with empty or all-NA entries is deprecated. In a future version, this will no longer exclude empty or all-NA columns when determining the result dtypes. To retain the old behavior, exclude the relevant entries before the concat operation.\n",
      "  candidates_bestsellers_personalized = pd.concat([candidates_bestsellers_personalized, unpersonalized_candidates_week]) # gives warning, but safe to ignore\n"
     ]
    },
    {
     "data": {
      "text/plain": "      index  article_id  sales_count           customer_id  week  \\\n0     22465   598755001       5000.0   7636828614367800812   104   \n1     22465   598755001       5000.0  16525959734502196750   104   \n2     22465   598755001       5000.0    286971730925296472   104   \n3     22465   598755001       5000.0   5244928710645076966   104   \n4     22465   598755001       5000.0   7443171947608403248   104   \n...     ...         ...          ...                   ...   ...   \n9983  38172   656719005       2759.0   6627814345272218069   104   \n9984  46432   685816008       2758.0   2179145031901605098   104   \n9985  46432   685816008       2758.0   7316578718749643934   104   \n9986  91590   850259002       2757.0   5194179330490702485   104   \n9987  91590   850259002       2757.0   7455250409495986129   104   \n\n     similar_article_id  \n0             598755002  \n1             598755002  \n2             598755002  \n3             598755002  \n4             598755002  \n...                 ...  \n9983          762656002  \n9984          857812004  \n9985          857812004  \n9986          794320001  \n9987          794320001  \n\n[9988 rows x 6 columns]",
      "text/html": "<div>\n<style scoped>\n    .dataframe tbody tr th:only-of-type {\n        vertical-align: middle;\n    }\n\n    .dataframe tbody tr th {\n        vertical-align: top;\n    }\n\n    .dataframe thead th {\n        text-align: right;\n    }\n</style>\n<table border=\"1\" class=\"dataframe\">\n  <thead>\n    <tr style=\"text-align: right;\">\n      <th></th>\n      <th>index</th>\n      <th>article_id</th>\n      <th>sales_count</th>\n      <th>customer_id</th>\n      <th>week</th>\n      <th>similar_article_id</th>\n    </tr>\n  </thead>\n  <tbody>\n    <tr>\n      <th>0</th>\n      <td>22465</td>\n      <td>598755001</td>\n      <td>5000.0</td>\n      <td>7636828614367800812</td>\n      <td>104</td>\n      <td>598755002</td>\n    </tr>\n    <tr>\n      <th>1</th>\n      <td>22465</td>\n      <td>598755001</td>\n      <td>5000.0</td>\n      <td>16525959734502196750</td>\n      <td>104</td>\n      <td>598755002</td>\n    </tr>\n    <tr>\n      <th>2</th>\n      <td>22465</td>\n      <td>598755001</td>\n      <td>5000.0</td>\n      <td>286971730925296472</td>\n      <td>104</td>\n      <td>598755002</td>\n    </tr>\n    <tr>\n      <th>3</th>\n      <td>22465</td>\n      <td>598755001</td>\n      <td>5000.0</td>\n      <td>5244928710645076966</td>\n      <td>104</td>\n      <td>598755002</td>\n    </tr>\n    <tr>\n      <th>4</th>\n      <td>22465</td>\n      <td>598755001</td>\n      <td>5000.0</td>\n      <td>7443171947608403248</td>\n      <td>104</td>\n      <td>598755002</td>\n    </tr>\n    <tr>\n      <th>...</th>\n      <td>...</td>\n      <td>...</td>\n      <td>...</td>\n      <td>...</td>\n      <td>...</td>\n      <td>...</td>\n    </tr>\n    <tr>\n      <th>9983</th>\n      <td>38172</td>\n      <td>656719005</td>\n      <td>2759.0</td>\n      <td>6627814345272218069</td>\n      <td>104</td>\n      <td>762656002</td>\n    </tr>\n    <tr>\n      <th>9984</th>\n      <td>46432</td>\n      <td>685816008</td>\n      <td>2758.0</td>\n      <td>2179145031901605098</td>\n      <td>104</td>\n      <td>857812004</td>\n    </tr>\n    <tr>\n      <th>9985</th>\n      <td>46432</td>\n      <td>685816008</td>\n      <td>2758.0</td>\n      <td>7316578718749643934</td>\n      <td>104</td>\n      <td>857812004</td>\n    </tr>\n    <tr>\n      <th>9986</th>\n      <td>91590</td>\n      <td>850259002</td>\n      <td>2757.0</td>\n      <td>5194179330490702485</td>\n      <td>104</td>\n      <td>794320001</td>\n    </tr>\n    <tr>\n      <th>9987</th>\n      <td>91590</td>\n      <td>850259002</td>\n      <td>2757.0</td>\n      <td>7455250409495986129</td>\n      <td>104</td>\n      <td>794320001</td>\n    </tr>\n  </tbody>\n</table>\n<p>9988 rows × 6 columns</p>\n</div>"
     },
     "execution_count": 216,
     "metadata": {},
     "output_type": "execute_result"
    }
   ],
   "source": [
    "# transactions of customers that purchased long tail item within 10 weeks\n",
    "#unique_transactions_personalized = unique_transactions[unique_transactions[\"customer_id\"].isin(top_long_tail_interactions[\"customer_id\"])]\n",
    "candidates_bestsellers_personalized = pd.DataFrame(columns=candidates_bestsellers.columns)\n",
    "# for week in range (96, 105):\n",
    "unique_long_tail_transactions_week = top_long_tail_interactions[top_long_tail_interactions[\"week\"]==week]\n",
    "\n",
    "# generate unpersonalized candidates for customers that did not make any long tail purchase in the current week\n",
    "unique_transactions_week = unique_transactions[unique_transactions[\"week\"]==week]\n",
    "unique_transactions_week_not_purchased = unique_transactions_week[~unique_transactions_week[\"customer_id\"].isin(unique_long_tail_transactions_week[\"customer_id\"])]\n",
    "unpersonalized_candidates_week = pd.merge( # matches all ids that didn't purchase in current week to the bestsellers for the same week\n",
    "unique_transactions_week_not_purchased,\n",
    "bestsellers_previous_week[bestsellers_previous_week[\"week\"]==week],\n",
    "on='week',\n",
    ")\n",
    "candidates_bestsellers_personalized = pd.concat([candidates_bestsellers_personalized, unpersonalized_candidates_week]) # gives warning, but safe to ignore\n",
    "\n",
    "# generate personalized candidates for remaining customers who did makes purchases\n",
    "unique_transactions_week_purchased = unique_long_tail_transactions_week\n",
    "# we get the most popular Long Tail item bought by each customer\n",
    "# unique_transactions_week_purchased = unique_transactions_week_purchased.merge(unique_transactions_week[\"customer_id\"], on=\"customer_id\", how=\"left\")\n",
    "# \n",
    "# replace the article_ids with top K similar ones\n",
    "# these items are definitely in the similar_long_tail_items, since an interaction matrix was made for the top 1000 long tail items and the similarities were calculated\n",
    "unique_transactions_week_purchased = unique_transactions_week_purchased.merge(similar_long_tail_items[[\"article_id\", \"similar_article_id\"]], on=\"article_id\", how=\"left\")\n",
    "\n",
    "# Since similar_article_id contains arrays, we now explode in order to get a seperate row for each array value\n",
    "unique_transactions_week_purchased = unique_transactions_week_purchased.explode(\"similar_article_id\")\n",
    "# replace similar article id by article id, and delete original one\n",
    "# unique_transactions_week_purchased = unique_transactions_week_purchased.drop(columns=\"article_id\")\n",
    "# unique_transactions_week_purchased = unique_transactions_week_purchased.rename(columns={\"similar_article_id\":\"article_id\"})\n",
    "\n",
    "# add extra info used by Radek\n",
    "personalized_customers_added_data = unique_long_tail_transactions_week.merge(unique_transactions[unique_transactions[\"week\"]==week][[\"t_dat\", \"customer_id\", \"sales_channel_id\"]], on=\"customer_id\", how=\"left\")\n",
    "\n",
    "# first K bestsellers got replaced by personalized items per user, so slice K rows\n",
    "remaining_bestsellers = bestsellers_previous_week[bestsellers_previous_week[\"week\"]==week][K-1:].head(12-K)\n",
    "remaining_candidates_week = pd.merge(\n",
    "unique_long_tail_transactions_week[[\"customer_id\", \"week\"]],\n",
    "remaining_bestsellers,\n",
    "on='week',\n",
    ")\n",
    "\n",
    "# personalized candidates by concat personalized and bestseller candidates together\n",
    "candidates_bestsellers_personalized = pd.concat([candidates_bestsellers_personalized, unique_transactions_week_purchased])\n",
    "candidates_bestsellers_personalized = pd.concat([candidates_bestsellers_personalized, remaining_candidates_week])\n",
    "candidates_bestsellers_personalized = candidates_bestsellers_personalized.drop(columns=[\"sales_count\"])\n",
    "candidates_bestsellers_personalized[\"article_id\"] = candidates_bestsellers_personalized[\"article_id\"].astype(\"int32\") # got converted to object, fix later\n",
    "unique_transactions_week_purchased"
   ],
   "metadata": {
    "collapsed": false,
    "ExecuteTime": {
     "end_time": "2023-11-22T08:50:08.174866900Z",
     "start_time": "2023-11-22T08:50:07.739868100Z"
    }
   }
  },
  {
   "cell_type": "markdown",
   "source": [
    "Article info gets added like Radek did"
   ],
   "metadata": {
    "collapsed": false
   }
  },
  {
   "cell_type": "code",
   "execution_count": 217,
   "outputs": [
    {
     "data": {
      "text/plain": "            t_dat          customer_id sales_channel_id week index  \\\n0      2020-09-16    11484807043854349                1  104    95   \n1      2020-09-16    11484807043854349                1  104    96   \n2      2020-09-16    11484807043854349                1  104    97   \n3      2020-09-16    11484807043854349                1  104    98   \n4      2020-09-16    11484807043854349                1  104    99   \n...           ...                  ...              ...  ...   ...   \n827803        NaT  7455250409495986129              NaN  104   101   \n827804        NaT  7455250409495986129              NaN  104   102   \n827805        NaT  7455250409495986129              NaN  104   103   \n827806        NaT  7455250409495986129              NaN  104   104   \n827807        NaT  7455250409495986129              NaN  104   105   \n\n        article_id     price similar_article_id  long_tail  \n0        186262006  0.003922                NaN          1  \n1        865799006  0.033340                NaN          1  \n2        918522001  0.041416                NaN          1  \n3        924243001  0.041549                NaN          1  \n4        448509014  0.041604                NaN          0  \n...            ...       ...                ...        ...  \n827803   809238001  0.041612                NaN          1  \n827804   918292001  0.041424                NaN          1  \n827805   762846027  0.025104                NaN          1  \n827806   809238005  0.041656                NaN          1  \n827807   673677002  0.024925                NaN          0  \n\n[827808 rows x 9 columns]",
      "text/html": "<div>\n<style scoped>\n    .dataframe tbody tr th:only-of-type {\n        vertical-align: middle;\n    }\n\n    .dataframe tbody tr th {\n        vertical-align: top;\n    }\n\n    .dataframe thead th {\n        text-align: right;\n    }\n</style>\n<table border=\"1\" class=\"dataframe\">\n  <thead>\n    <tr style=\"text-align: right;\">\n      <th></th>\n      <th>t_dat</th>\n      <th>customer_id</th>\n      <th>sales_channel_id</th>\n      <th>week</th>\n      <th>index</th>\n      <th>article_id</th>\n      <th>price</th>\n      <th>similar_article_id</th>\n      <th>long_tail</th>\n    </tr>\n  </thead>\n  <tbody>\n    <tr>\n      <th>0</th>\n      <td>2020-09-16</td>\n      <td>11484807043854349</td>\n      <td>1</td>\n      <td>104</td>\n      <td>95</td>\n      <td>186262006</td>\n      <td>0.003922</td>\n      <td>NaN</td>\n      <td>1</td>\n    </tr>\n    <tr>\n      <th>1</th>\n      <td>2020-09-16</td>\n      <td>11484807043854349</td>\n      <td>1</td>\n      <td>104</td>\n      <td>96</td>\n      <td>865799006</td>\n      <td>0.033340</td>\n      <td>NaN</td>\n      <td>1</td>\n    </tr>\n    <tr>\n      <th>2</th>\n      <td>2020-09-16</td>\n      <td>11484807043854349</td>\n      <td>1</td>\n      <td>104</td>\n      <td>97</td>\n      <td>918522001</td>\n      <td>0.041416</td>\n      <td>NaN</td>\n      <td>1</td>\n    </tr>\n    <tr>\n      <th>3</th>\n      <td>2020-09-16</td>\n      <td>11484807043854349</td>\n      <td>1</td>\n      <td>104</td>\n      <td>98</td>\n      <td>924243001</td>\n      <td>0.041549</td>\n      <td>NaN</td>\n      <td>1</td>\n    </tr>\n    <tr>\n      <th>4</th>\n      <td>2020-09-16</td>\n      <td>11484807043854349</td>\n      <td>1</td>\n      <td>104</td>\n      <td>99</td>\n      <td>448509014</td>\n      <td>0.041604</td>\n      <td>NaN</td>\n      <td>0</td>\n    </tr>\n    <tr>\n      <th>...</th>\n      <td>...</td>\n      <td>...</td>\n      <td>...</td>\n      <td>...</td>\n      <td>...</td>\n      <td>...</td>\n      <td>...</td>\n      <td>...</td>\n      <td>...</td>\n    </tr>\n    <tr>\n      <th>827803</th>\n      <td>NaT</td>\n      <td>7455250409495986129</td>\n      <td>NaN</td>\n      <td>104</td>\n      <td>101</td>\n      <td>809238001</td>\n      <td>0.041612</td>\n      <td>NaN</td>\n      <td>1</td>\n    </tr>\n    <tr>\n      <th>827804</th>\n      <td>NaT</td>\n      <td>7455250409495986129</td>\n      <td>NaN</td>\n      <td>104</td>\n      <td>102</td>\n      <td>918292001</td>\n      <td>0.041424</td>\n      <td>NaN</td>\n      <td>1</td>\n    </tr>\n    <tr>\n      <th>827805</th>\n      <td>NaT</td>\n      <td>7455250409495986129</td>\n      <td>NaN</td>\n      <td>104</td>\n      <td>103</td>\n      <td>762846027</td>\n      <td>0.025104</td>\n      <td>NaN</td>\n      <td>1</td>\n    </tr>\n    <tr>\n      <th>827806</th>\n      <td>NaT</td>\n      <td>7455250409495986129</td>\n      <td>NaN</td>\n      <td>104</td>\n      <td>104</td>\n      <td>809238005</td>\n      <td>0.041656</td>\n      <td>NaN</td>\n      <td>1</td>\n    </tr>\n    <tr>\n      <th>827807</th>\n      <td>NaT</td>\n      <td>7455250409495986129</td>\n      <td>NaN</td>\n      <td>104</td>\n      <td>105</td>\n      <td>673677002</td>\n      <td>0.024925</td>\n      <td>NaN</td>\n      <td>0</td>\n    </tr>\n  </tbody>\n</table>\n<p>827808 rows × 9 columns</p>\n</div>"
     },
     "execution_count": 217,
     "metadata": {},
     "output_type": "execute_result"
    }
   ],
   "source": [
    "candidates_bestsellers_personalized = candidates_bestsellers_personalized.merge(articles[[\"article_id\", \"long_tail\"]], on=\"article_id\", how=\"left\").drop(columns=[\"bestseller_rank\"])\n",
    "candidates_bestsellers_personalized"
   ],
   "metadata": {
    "collapsed": false,
    "ExecuteTime": {
     "end_time": "2023-11-22T08:50:08.376867Z",
     "start_time": "2023-11-22T08:50:08.172867600Z"
    }
   }
  },
  {
   "cell_type": "code",
   "execution_count": 218,
   "outputs": [
    {
     "name": "stdout",
     "output_type": "stream",
     "text": [
      "<class 'pandas.core.frame.DataFrame'>\n",
      "RangeIndex: 827808 entries, 0 to 827807\n",
      "Data columns (total 9 columns):\n",
      " #   Column              Non-Null Count   Dtype         \n",
      "---  ------              --------------   -----         \n",
      " 0   t_dat               707952 non-null  datetime64[us]\n",
      " 1   customer_id         827808 non-null  object        \n",
      " 2   sales_channel_id    707952 non-null  object        \n",
      " 3   week                827808 non-null  object        \n",
      " 4   index               827808 non-null  object        \n",
      " 5   article_id          827808 non-null  int32         \n",
      " 6   price               817820 non-null  float32       \n",
      " 7   similar_article_id  9988 non-null    object        \n",
      " 8   long_tail           827808 non-null  int32         \n",
      "dtypes: datetime64[us](1), float32(1), int32(2), object(5)\n",
      "memory usage: 47.4+ MB\n"
     ]
    }
   ],
   "source": [
    "candidates_bestsellers_personalized.info()\n"
   ],
   "metadata": {
    "collapsed": false,
    "ExecuteTime": {
     "end_time": "2023-11-22T08:50:08.488366600Z",
     "start_time": "2023-11-22T08:50:08.376367200Z"
    }
   }
  },
  {
   "cell_type": "code",
   "execution_count": 219,
   "outputs": [],
   "source": [
    "test_set_transactions = unique_transactions_not_personalized.drop_duplicates('customer_id').reset_index(drop=True)\n",
    "test_set_transactions.week = test_week"
   ],
   "metadata": {
    "collapsed": false,
    "ExecuteTime": {
     "end_time": "2023-11-22T08:50:08.516367100Z",
     "start_time": "2023-11-22T08:50:08.487367Z"
    }
   }
  },
  {
   "cell_type": "code",
   "execution_count": 220,
   "outputs": [
    {
     "data": {
      "text/plain": "            t_dat           customer_id  sales_channel_id  week\n0      2020-07-15      2133687643102426                 2   105\n1      2020-07-15      6010692573790711                 1   105\n2      2020-07-15      6434044519214559                 2   105\n3      2020-07-15      7678388473497046                 2   105\n4      2020-07-15      9033460998303010                 1   105\n...           ...                   ...               ...   ...\n297981 2020-09-22  18403657855694067653                 2   105\n297982 2020-09-22  18410229429441241008                 2   105\n297983 2020-09-22  18417769707947924979                 2   105\n297984 2020-09-22  18418054986721795659                 2   105\n297985 2020-09-22  18421175435799911749                 2   105\n\n[297986 rows x 4 columns]",
      "text/html": "<div>\n<style scoped>\n    .dataframe tbody tr th:only-of-type {\n        vertical-align: middle;\n    }\n\n    .dataframe tbody tr th {\n        vertical-align: top;\n    }\n\n    .dataframe thead th {\n        text-align: right;\n    }\n</style>\n<table border=\"1\" class=\"dataframe\">\n  <thead>\n    <tr style=\"text-align: right;\">\n      <th></th>\n      <th>t_dat</th>\n      <th>customer_id</th>\n      <th>sales_channel_id</th>\n      <th>week</th>\n    </tr>\n  </thead>\n  <tbody>\n    <tr>\n      <th>0</th>\n      <td>2020-07-15</td>\n      <td>2133687643102426</td>\n      <td>2</td>\n      <td>105</td>\n    </tr>\n    <tr>\n      <th>1</th>\n      <td>2020-07-15</td>\n      <td>6010692573790711</td>\n      <td>1</td>\n      <td>105</td>\n    </tr>\n    <tr>\n      <th>2</th>\n      <td>2020-07-15</td>\n      <td>6434044519214559</td>\n      <td>2</td>\n      <td>105</td>\n    </tr>\n    <tr>\n      <th>3</th>\n      <td>2020-07-15</td>\n      <td>7678388473497046</td>\n      <td>2</td>\n      <td>105</td>\n    </tr>\n    <tr>\n      <th>4</th>\n      <td>2020-07-15</td>\n      <td>9033460998303010</td>\n      <td>1</td>\n      <td>105</td>\n    </tr>\n    <tr>\n      <th>...</th>\n      <td>...</td>\n      <td>...</td>\n      <td>...</td>\n      <td>...</td>\n    </tr>\n    <tr>\n      <th>297981</th>\n      <td>2020-09-22</td>\n      <td>18403657855694067653</td>\n      <td>2</td>\n      <td>105</td>\n    </tr>\n    <tr>\n      <th>297982</th>\n      <td>2020-09-22</td>\n      <td>18410229429441241008</td>\n      <td>2</td>\n      <td>105</td>\n    </tr>\n    <tr>\n      <th>297983</th>\n      <td>2020-09-22</td>\n      <td>18417769707947924979</td>\n      <td>2</td>\n      <td>105</td>\n    </tr>\n    <tr>\n      <th>297984</th>\n      <td>2020-09-22</td>\n      <td>18418054986721795659</td>\n      <td>2</td>\n      <td>105</td>\n    </tr>\n    <tr>\n      <th>297985</th>\n      <td>2020-09-22</td>\n      <td>18421175435799911749</td>\n      <td>2</td>\n      <td>105</td>\n    </tr>\n  </tbody>\n</table>\n<p>297986 rows × 4 columns</p>\n</div>"
     },
     "execution_count": 220,
     "metadata": {},
     "output_type": "execute_result"
    }
   ],
   "source": [
    "test_set_transactions"
   ],
   "metadata": {
    "collapsed": false,
    "ExecuteTime": {
     "end_time": "2023-11-22T08:50:08.519869500Z",
     "start_time": "2023-11-22T08:50:08.511368700Z"
    }
   }
  },
  {
   "cell_type": "code",
   "execution_count": 221,
   "outputs": [
    {
     "name": "stdout",
     "output_type": "stream",
     "text": [
      "<class 'pandas.core.frame.DataFrame'>\n",
      "RangeIndex: 119 entries, 0 to 118\n",
      "Data columns (total 5 columns):\n",
      " #   Column           Non-Null Count  Dtype  \n",
      "---  ------           --------------  -----  \n",
      " 0   index            119 non-null    int64  \n",
      " 1   week             119 non-null    int8   \n",
      " 2   article_id       119 non-null    int32  \n",
      " 3   bestseller_rank  119 non-null    int8   \n",
      " 4   price            119 non-null    float32\n",
      "dtypes: float32(1), int32(1), int64(1), int8(2)\n",
      "memory usage: 2.2 KB\n"
     ]
    }
   ],
   "source": [
    "bestsellers_previous_week.info()"
   ],
   "metadata": {
    "collapsed": false,
    "ExecuteTime": {
     "end_time": "2023-11-22T08:50:08.525367300Z",
     "start_time": "2023-11-22T08:50:08.518366900Z"
    }
   }
  },
  {
   "cell_type": "code",
   "execution_count": 222,
   "outputs": [],
   "source": [
    "candidates_bestsellers_test_week = pd.merge(\n",
    "    test_set_transactions,\n",
    "    bestsellers_previous_week,\n",
    "    on='week'\n",
    ")"
   ],
   "metadata": {
    "collapsed": false,
    "ExecuteTime": {
     "end_time": "2023-11-22T08:50:08.712867300Z",
     "start_time": "2023-11-22T08:50:08.524369300Z"
    }
   }
  },
  {
   "cell_type": "markdown",
   "source": [
    "Bestsellers from test week get added to bestseller candidates of training weeks"
   ],
   "metadata": {
    "collapsed": false
   }
  },
  {
   "cell_type": "code",
   "execution_count": 223,
   "outputs": [],
   "source": [
    "candidates_bestsellers = pd.concat([candidates_bestsellers, candidates_bestsellers_test_week])\n",
    "candidates_bestsellers.drop(columns='bestseller_rank', inplace=True)"
   ],
   "metadata": {
    "collapsed": false,
    "ExecuteTime": {
     "end_time": "2023-11-22T08:50:09.045868200Z",
     "start_time": "2023-11-22T08:50:08.713367700Z"
    }
   }
  },
  {
   "cell_type": "code",
   "execution_count": 224,
   "outputs": [
    {
     "data": {
      "text/plain": "             t_dat           customer_id  sales_channel_id  week  index  \\\n0       2020-07-22       649760207043851                 1    96      0   \n1       2020-07-22       649760207043851                 1    96      1   \n2       2020-07-22       649760207043851                 1    96      2   \n3       2020-07-22       649760207043851                 1    96      3   \n4       2020-07-22       649760207043851                 1    96      4   \n...            ...                   ...               ...   ...    ...   \n3575827 2020-09-22  18421175435799911749                 2   105    114   \n3575828 2020-09-22  18421175435799911749                 2   105    115   \n3575829 2020-09-22  18421175435799911749                 2   105    116   \n3575830 2020-09-22  18421175435799911749                 2   105    117   \n3575831 2020-09-22  18421175435799911749                 2   105    118   \n\n         article_id     price  \n0         866731001  0.024919  \n1         600886001  0.022980  \n2         706016001  0.033197  \n3         372860002  0.013193  \n4         610776002  0.008318  \n...             ...       ...  \n3575827   915529003  0.033439  \n3575828   915529005  0.033417  \n3575829   448509014  0.041630  \n3575830   762846027  0.025005  \n3575831   714790020  0.049951  \n\n[8499005 rows x 7 columns]",
      "text/html": "<div>\n<style scoped>\n    .dataframe tbody tr th:only-of-type {\n        vertical-align: middle;\n    }\n\n    .dataframe tbody tr th {\n        vertical-align: top;\n    }\n\n    .dataframe thead th {\n        text-align: right;\n    }\n</style>\n<table border=\"1\" class=\"dataframe\">\n  <thead>\n    <tr style=\"text-align: right;\">\n      <th></th>\n      <th>t_dat</th>\n      <th>customer_id</th>\n      <th>sales_channel_id</th>\n      <th>week</th>\n      <th>index</th>\n      <th>article_id</th>\n      <th>price</th>\n    </tr>\n  </thead>\n  <tbody>\n    <tr>\n      <th>0</th>\n      <td>2020-07-22</td>\n      <td>649760207043851</td>\n      <td>1</td>\n      <td>96</td>\n      <td>0</td>\n      <td>866731001</td>\n      <td>0.024919</td>\n    </tr>\n    <tr>\n      <th>1</th>\n      <td>2020-07-22</td>\n      <td>649760207043851</td>\n      <td>1</td>\n      <td>96</td>\n      <td>1</td>\n      <td>600886001</td>\n      <td>0.022980</td>\n    </tr>\n    <tr>\n      <th>2</th>\n      <td>2020-07-22</td>\n      <td>649760207043851</td>\n      <td>1</td>\n      <td>96</td>\n      <td>2</td>\n      <td>706016001</td>\n      <td>0.033197</td>\n    </tr>\n    <tr>\n      <th>3</th>\n      <td>2020-07-22</td>\n      <td>649760207043851</td>\n      <td>1</td>\n      <td>96</td>\n      <td>3</td>\n      <td>372860002</td>\n      <td>0.013193</td>\n    </tr>\n    <tr>\n      <th>4</th>\n      <td>2020-07-22</td>\n      <td>649760207043851</td>\n      <td>1</td>\n      <td>96</td>\n      <td>4</td>\n      <td>610776002</td>\n      <td>0.008318</td>\n    </tr>\n    <tr>\n      <th>...</th>\n      <td>...</td>\n      <td>...</td>\n      <td>...</td>\n      <td>...</td>\n      <td>...</td>\n      <td>...</td>\n      <td>...</td>\n    </tr>\n    <tr>\n      <th>3575827</th>\n      <td>2020-09-22</td>\n      <td>18421175435799911749</td>\n      <td>2</td>\n      <td>105</td>\n      <td>114</td>\n      <td>915529003</td>\n      <td>0.033439</td>\n    </tr>\n    <tr>\n      <th>3575828</th>\n      <td>2020-09-22</td>\n      <td>18421175435799911749</td>\n      <td>2</td>\n      <td>105</td>\n      <td>115</td>\n      <td>915529005</td>\n      <td>0.033417</td>\n    </tr>\n    <tr>\n      <th>3575829</th>\n      <td>2020-09-22</td>\n      <td>18421175435799911749</td>\n      <td>2</td>\n      <td>105</td>\n      <td>116</td>\n      <td>448509014</td>\n      <td>0.041630</td>\n    </tr>\n    <tr>\n      <th>3575830</th>\n      <td>2020-09-22</td>\n      <td>18421175435799911749</td>\n      <td>2</td>\n      <td>105</td>\n      <td>117</td>\n      <td>762846027</td>\n      <td>0.025005</td>\n    </tr>\n    <tr>\n      <th>3575831</th>\n      <td>2020-09-22</td>\n      <td>18421175435799911749</td>\n      <td>2</td>\n      <td>105</td>\n      <td>118</td>\n      <td>714790020</td>\n      <td>0.049951</td>\n    </tr>\n  </tbody>\n</table>\n<p>8499005 rows × 7 columns</p>\n</div>"
     },
     "execution_count": 224,
     "metadata": {},
     "output_type": "execute_result"
    }
   ],
   "source": [
    "candidates_bestsellers\n",
    "# candidates_bestsellers[candidates_bestsellers[\"article_id\"] == 938182001]\n"
   ],
   "metadata": {
    "collapsed": false,
    "ExecuteTime": {
     "end_time": "2023-11-22T08:50:09.057867900Z",
     "start_time": "2023-11-22T08:50:09.045369600Z"
    }
   }
  },
  {
   "cell_type": "markdown",
   "source": [
    "Article info gets added to bestseller candidates"
   ],
   "metadata": {
    "collapsed": false
   }
  },
  {
   "cell_type": "code",
   "execution_count": 225,
   "outputs": [],
   "source": [
    "candidates_bestsellers = candidates_bestsellers.merge(articles[[\"article_id\"]], on=\"article_id\", how=\"left\")"
   ],
   "metadata": {
    "collapsed": false,
    "ExecuteTime": {
     "end_time": "2023-11-22T08:50:09.738368700Z",
     "start_time": "2023-11-22T08:50:09.054367300Z"
    }
   }
  },
  {
   "cell_type": "markdown",
   "source": [
    "Now we also add personalized candidates for users that bought atleast 1 Long Tail item"
   ],
   "metadata": {
    "collapsed": false
   }
  },
  {
   "cell_type": "code",
   "execution_count": 226,
   "outputs": [
    {
     "name": "stdout",
     "output_type": "stream",
     "text": [
      "<class 'pandas.core.frame.DataFrame'>\n",
      "Index: 9326813 entries, 0 to 827807\n",
      "Data columns (total 9 columns):\n",
      " #   Column              Dtype         \n",
      "---  ------              -----         \n",
      " 0   t_dat               datetime64[us]\n",
      " 1   customer_id         object        \n",
      " 2   sales_channel_id    object        \n",
      " 3   week                object        \n",
      " 4   index               object        \n",
      " 5   article_id          int32         \n",
      " 6   price               float32       \n",
      " 7   similar_article_id  object        \n",
      " 8   long_tail           float64       \n",
      "dtypes: datetime64[us](1), float32(1), float64(1), int32(1), object(5)\n",
      "memory usage: 640.4+ MB\n"
     ]
    }
   ],
   "source": [
    "candidates_bestsellers = pd.concat([candidates_bestsellers, candidates_bestsellers_personalized])\n",
    "candidates_bestsellers.info()\n"
   ],
   "metadata": {
    "collapsed": false,
    "ExecuteTime": {
     "end_time": "2023-11-22T08:50:10.498867600Z",
     "start_time": "2023-11-22T08:50:09.739867600Z"
    }
   }
  },
  {
   "cell_type": "markdown",
   "source": [],
   "metadata": {
    "collapsed": false
   }
  },
  {
   "cell_type": "markdown",
   "source": [
    "# Combining transactions and candidates / negative examples\n"
   ],
   "metadata": {
    "collapsed": false
   }
  },
  {
   "cell_type": "code",
   "execution_count": 227,
   "outputs": [],
   "source": [
    "transactions['purchased'] = 1\n"
   ],
   "metadata": {
    "collapsed": false,
    "ExecuteTime": {
     "end_time": "2023-11-22T08:50:10.519867400Z",
     "start_time": "2023-11-22T08:50:10.499867400Z"
    }
   }
  },
  {
   "cell_type": "code",
   "execution_count": 228,
   "outputs": [],
   "source": [
    "data = pd.concat([transactions, candidates_last_purchase, candidates_bestsellers])\n",
    "data.purchased.fillna(0, inplace=True)"
   ],
   "metadata": {
    "collapsed": false,
    "ExecuteTime": {
     "end_time": "2023-11-22T08:50:12.681869100Z",
     "start_time": "2023-11-22T08:50:10.509868800Z"
    }
   }
  },
  {
   "cell_type": "code",
   "execution_count": 229,
   "outputs": [
    {
     "data": {
      "text/plain": "              t_dat          customer_id  article_id     price  \\\n29030503 2020-07-15      272412481300040   778064028  0.008458   \n29030504 2020-07-15      272412481300040   816592008  0.016932   \n29030505 2020-07-15      272412481300040   621381021  0.033881   \n29030506 2020-07-15      272412481300040   817477003  0.025407   \n29030507 2020-07-15      272412481300040   899088002  0.025407   \n...             ...                  ...         ...       ...   \n827803          NaT  7455250409495986129   809238001  0.041612   \n827804          NaT  7455250409495986129   918292001  0.041424   \n827805          NaT  7455250409495986129   762846027  0.025104   \n827806          NaT  7455250409495986129   809238005  0.041656   \n827807          NaT  7455250409495986129   673677002  0.024925   \n\n         sales_channel_id week  purchased index similar_article_id  long_tail  \n29030503                1   95        1.0   NaN                NaN        NaN  \n29030504                1   95        1.0   NaN                NaN        NaN  \n29030505                1   95        1.0   NaN                NaN        NaN  \n29030506                1   95        1.0   NaN                NaN        NaN  \n29030507                1   95        1.0   NaN                NaN        NaN  \n...                   ...  ...        ...   ...                ...        ...  \n827803                NaN  104        0.0   101                NaN        1.0  \n827804                NaN  104        0.0   102                NaN        1.0  \n827805                NaN  104        0.0   103                NaN        1.0  \n827806                NaN  104        0.0   104                NaN        1.0  \n827807                NaN  104        0.0   105                NaN        0.0  \n\n[14852557 rows x 10 columns]",
      "text/html": "<div>\n<style scoped>\n    .dataframe tbody tr th:only-of-type {\n        vertical-align: middle;\n    }\n\n    .dataframe tbody tr th {\n        vertical-align: top;\n    }\n\n    .dataframe thead th {\n        text-align: right;\n    }\n</style>\n<table border=\"1\" class=\"dataframe\">\n  <thead>\n    <tr style=\"text-align: right;\">\n      <th></th>\n      <th>t_dat</th>\n      <th>customer_id</th>\n      <th>article_id</th>\n      <th>price</th>\n      <th>sales_channel_id</th>\n      <th>week</th>\n      <th>purchased</th>\n      <th>index</th>\n      <th>similar_article_id</th>\n      <th>long_tail</th>\n    </tr>\n  </thead>\n  <tbody>\n    <tr>\n      <th>29030503</th>\n      <td>2020-07-15</td>\n      <td>272412481300040</td>\n      <td>778064028</td>\n      <td>0.008458</td>\n      <td>1</td>\n      <td>95</td>\n      <td>1.0</td>\n      <td>NaN</td>\n      <td>NaN</td>\n      <td>NaN</td>\n    </tr>\n    <tr>\n      <th>29030504</th>\n      <td>2020-07-15</td>\n      <td>272412481300040</td>\n      <td>816592008</td>\n      <td>0.016932</td>\n      <td>1</td>\n      <td>95</td>\n      <td>1.0</td>\n      <td>NaN</td>\n      <td>NaN</td>\n      <td>NaN</td>\n    </tr>\n    <tr>\n      <th>29030505</th>\n      <td>2020-07-15</td>\n      <td>272412481300040</td>\n      <td>621381021</td>\n      <td>0.033881</td>\n      <td>1</td>\n      <td>95</td>\n      <td>1.0</td>\n      <td>NaN</td>\n      <td>NaN</td>\n      <td>NaN</td>\n    </tr>\n    <tr>\n      <th>29030506</th>\n      <td>2020-07-15</td>\n      <td>272412481300040</td>\n      <td>817477003</td>\n      <td>0.025407</td>\n      <td>1</td>\n      <td>95</td>\n      <td>1.0</td>\n      <td>NaN</td>\n      <td>NaN</td>\n      <td>NaN</td>\n    </tr>\n    <tr>\n      <th>29030507</th>\n      <td>2020-07-15</td>\n      <td>272412481300040</td>\n      <td>899088002</td>\n      <td>0.025407</td>\n      <td>1</td>\n      <td>95</td>\n      <td>1.0</td>\n      <td>NaN</td>\n      <td>NaN</td>\n      <td>NaN</td>\n    </tr>\n    <tr>\n      <th>...</th>\n      <td>...</td>\n      <td>...</td>\n      <td>...</td>\n      <td>...</td>\n      <td>...</td>\n      <td>...</td>\n      <td>...</td>\n      <td>...</td>\n      <td>...</td>\n      <td>...</td>\n    </tr>\n    <tr>\n      <th>827803</th>\n      <td>NaT</td>\n      <td>7455250409495986129</td>\n      <td>809238001</td>\n      <td>0.041612</td>\n      <td>NaN</td>\n      <td>104</td>\n      <td>0.0</td>\n      <td>101</td>\n      <td>NaN</td>\n      <td>1.0</td>\n    </tr>\n    <tr>\n      <th>827804</th>\n      <td>NaT</td>\n      <td>7455250409495986129</td>\n      <td>918292001</td>\n      <td>0.041424</td>\n      <td>NaN</td>\n      <td>104</td>\n      <td>0.0</td>\n      <td>102</td>\n      <td>NaN</td>\n      <td>1.0</td>\n    </tr>\n    <tr>\n      <th>827805</th>\n      <td>NaT</td>\n      <td>7455250409495986129</td>\n      <td>762846027</td>\n      <td>0.025104</td>\n      <td>NaN</td>\n      <td>104</td>\n      <td>0.0</td>\n      <td>103</td>\n      <td>NaN</td>\n      <td>1.0</td>\n    </tr>\n    <tr>\n      <th>827806</th>\n      <td>NaT</td>\n      <td>7455250409495986129</td>\n      <td>809238005</td>\n      <td>0.041656</td>\n      <td>NaN</td>\n      <td>104</td>\n      <td>0.0</td>\n      <td>104</td>\n      <td>NaN</td>\n      <td>1.0</td>\n    </tr>\n    <tr>\n      <th>827807</th>\n      <td>NaT</td>\n      <td>7455250409495986129</td>\n      <td>673677002</td>\n      <td>0.024925</td>\n      <td>NaN</td>\n      <td>104</td>\n      <td>0.0</td>\n      <td>105</td>\n      <td>NaN</td>\n      <td>0.0</td>\n    </tr>\n  </tbody>\n</table>\n<p>14852557 rows × 10 columns</p>\n</div>"
     },
     "execution_count": 229,
     "metadata": {},
     "output_type": "execute_result"
    }
   ],
   "source": [
    "data"
   ],
   "metadata": {
    "collapsed": false,
    "ExecuteTime": {
     "end_time": "2023-11-22T08:50:12.700366600Z",
     "start_time": "2023-11-22T08:50:12.683367600Z"
    }
   }
  },
  {
   "cell_type": "code",
   "execution_count": 230,
   "outputs": [],
   "source": [
    "data.drop_duplicates(['customer_id', 'article_id', 'week'], inplace=True)"
   ],
   "metadata": {
    "collapsed": false,
    "ExecuteTime": {
     "end_time": "2023-11-22T08:50:18.323366600Z",
     "start_time": "2023-11-22T08:50:12.695367100Z"
    }
   }
  },
  {
   "cell_type": "code",
   "execution_count": 231,
   "outputs": [
    {
     "data": {
      "text/plain": "0.18167212779029285"
     },
     "execution_count": 231,
     "metadata": {},
     "output_type": "execute_result"
    }
   ],
   "source": [
    "data.purchased.mean()\n"
   ],
   "metadata": {
    "collapsed": false,
    "ExecuteTime": {
     "end_time": "2023-11-22T08:50:18.383368400Z",
     "start_time": "2023-11-22T08:50:18.325368200Z"
    }
   }
  },
  {
   "cell_type": "markdown",
   "source": [
    "### Add bestseller information\n"
   ],
   "metadata": {
    "collapsed": false
   }
  },
  {
   "cell_type": "code",
   "execution_count": 232,
   "outputs": [],
   "source": [
    "data = pd.merge(\n",
    "    data,\n",
    "    bestsellers_previous_week[['week', 'article_id', 'bestseller_rank']],\n",
    "    on=['week', 'article_id'],\n",
    "    how='left'\n",
    ")"
   ],
   "metadata": {
    "collapsed": false,
    "ExecuteTime": {
     "end_time": "2023-11-22T08:50:23.506369700Z",
     "start_time": "2023-11-22T08:50:18.382868200Z"
    }
   }
  },
  {
   "cell_type": "code",
   "execution_count": 233,
   "outputs": [],
   "source": [
    "data = data[data.week != data.week.min()]\n",
    "data.bestseller_rank.fillna(999, inplace=True)"
   ],
   "metadata": {
    "collapsed": false,
    "ExecuteTime": {
     "end_time": "2023-11-22T08:50:25.303369900Z",
     "start_time": "2023-11-22T08:50:23.508367700Z"
    }
   }
  },
  {
   "cell_type": "code",
   "execution_count": 234,
   "outputs": [],
   "source": [
    "data = pd.merge(data, articles, on='article_id', how='left')\n",
    "data = pd.merge(data, customers, on='customer_id', how='left')"
   ],
   "metadata": {
    "collapsed": false,
    "ExecuteTime": {
     "end_time": "2023-11-22T08:50:35.848703400Z",
     "start_time": "2023-11-22T08:50:25.300368700Z"
    }
   }
  },
  {
   "cell_type": "code",
   "execution_count": 235,
   "outputs": [],
   "source": [
    "data.sort_values(['week', 'customer_id'], inplace=True)\n",
    "data.reset_index(drop=True, inplace=True)"
   ],
   "metadata": {
    "collapsed": false,
    "ExecuteTime": {
     "end_time": "2023-11-22T08:50:41.364202300Z",
     "start_time": "2023-11-22T08:50:35.872205400Z"
    }
   }
  },
  {
   "cell_type": "code",
   "execution_count": 236,
   "outputs": [],
   "source": [
    "train = data[data.week != test_week]\n",
    "test = data[data.week==test_week].drop_duplicates(['customer_id', 'article_id', 'sales_channel_id']).copy()"
   ],
   "metadata": {
    "collapsed": false,
    "ExecuteTime": {
     "end_time": "2023-11-22T08:50:47.251456100Z",
     "start_time": "2023-11-22T08:50:42.001710400Z"
    }
   }
  },
  {
   "cell_type": "code",
   "execution_count": 237,
   "outputs": [],
   "source": [
    "train_baskets = train.groupby(['week', 'customer_id'])['article_id'].count().values"
   ],
   "metadata": {
    "collapsed": false,
    "ExecuteTime": {
     "end_time": "2023-11-22T08:50:48.668454900Z",
     "start_time": "2023-11-22T08:50:47.238955600Z"
    }
   }
  },
  {
   "cell_type": "code",
   "execution_count": 238,
   "outputs": [],
   "source": [
    "columns_to_use = ['article_id', 'product_type_no', 'graphical_appearance_no', 'colour_group_code', 'perceived_colour_value_id',\n",
    "'perceived_colour_master_id', 'department_no', 'index_code',\n",
    "'index_group_no', 'section_no', 'garment_group_no', 'FN', 'Active',\n",
    "'club_member_status', 'fashion_news_frequency', 'age', 'postal_code', 'bestseller_rank']"
   ],
   "metadata": {
    "collapsed": false,
    "ExecuteTime": {
     "end_time": "2023-11-22T08:50:48.684956200Z",
     "start_time": "2023-11-22T08:50:48.651456800Z"
    }
   }
  },
  {
   "cell_type": "code",
   "execution_count": 239,
   "outputs": [
    {
     "name": "stdout",
     "output_type": "stream",
     "text": [
      "CPU times: total: 250 ms\n",
      "Wall time: 268 ms\n"
     ]
    }
   ],
   "source": [
    "%%time\n",
    "\n",
    "train_X = train[columns_to_use]\n",
    "train_y = train['purchased']\n",
    "\n",
    "test_X = test[columns_to_use]"
   ],
   "metadata": {
    "collapsed": false,
    "ExecuteTime": {
     "end_time": "2023-11-22T08:50:48.940454900Z",
     "start_time": "2023-11-22T08:50:48.657956800Z"
    }
   }
  },
  {
   "cell_type": "code",
   "execution_count": 240,
   "outputs": [],
   "source": [
    "# Model training\n"
   ],
   "metadata": {
    "collapsed": false,
    "ExecuteTime": {
     "end_time": "2023-11-22T08:50:48.943955400Z",
     "start_time": "2023-11-22T08:50:48.941274700Z"
    }
   }
  },
  {
   "cell_type": "code",
   "execution_count": 241,
   "outputs": [],
   "source": [
    "from lightgbm.sklearn import LGBMRanker"
   ],
   "metadata": {
    "collapsed": false,
    "ExecuteTime": {
     "end_time": "2023-11-22T08:50:48.954955500Z",
     "start_time": "2023-11-22T08:50:48.945956600Z"
    }
   }
  },
  {
   "cell_type": "code",
   "execution_count": 242,
   "outputs": [],
   "source": [
    "ranker = LGBMRanker(\n",
    "    objective=\"lambdarank\",\n",
    "    metric=\"ndcg\",\n",
    "    boosting_type=\"dart\",\n",
    "    n_estimators=1,\n",
    "    importance_type='gain',\n",
    "    verbose=10\n",
    ")"
   ],
   "metadata": {
    "collapsed": false,
    "ExecuteTime": {
     "end_time": "2023-11-22T08:50:48.994955300Z",
     "start_time": "2023-11-22T08:50:48.958455600Z"
    }
   }
  },
  {
   "cell_type": "code",
   "execution_count": 243,
   "outputs": [
    {
     "name": "stdout",
     "output_type": "stream",
     "text": [
      "[LightGBM] [Debug] Dataset::GetMultiBinFromSparseFeatures: sparse rate 0.847625\n",
      "[LightGBM] [Debug] Dataset::GetMultiBinFromAllFeatures: sparse rate 0.151249\n",
      "[LightGBM] [Debug] init for col-wise cost 0.102437 seconds, init for row-wise cost 0.218168 seconds\n",
      "[LightGBM] [Info] Auto-choosing row-wise multi-threading, the overhead of testing was 0.174082 seconds.\n",
      "You can set `force_row_wise=true` to remove the overhead.\n",
      "And if memory is not enough, you can set `force_col_wise=true`.\n",
      "[LightGBM] [Debug] Using Dense Multi-Val Bin\n",
      "[LightGBM] [Info] Total Bins 1087\n",
      "[LightGBM] [Info] Number of data points in the train set: 8466302, number of used features: 18\n",
      "[LightGBM] [Debug] Trained a tree with leaves = 31 and depth = 13\n",
      "CPU times: total: 14.9 s\n",
      "Wall time: 2.73 s\n"
     ]
    }
   ],
   "source": [
    "%%time\n",
    "\n",
    "ranker = ranker.fit(\n",
    "    train_X,\n",
    "    train_y,\n",
    "    group=train_baskets,\n",
    ")"
   ],
   "metadata": {
    "collapsed": false,
    "ExecuteTime": {
     "end_time": "2023-11-22T08:50:51.720795700Z",
     "start_time": "2023-11-22T08:50:48.988455800Z"
    }
   }
  },
  {
   "cell_type": "code",
   "execution_count": 244,
   "outputs": [
    {
     "name": "stdout",
     "output_type": "stream",
     "text": [
      "bestseller_rank 0.992132055524303\n",
      "product_type_no 0.002603688284212981\n",
      "garment_group_no 0.001835166125638445\n",
      "article_id 0.001834457698536654\n",
      "age 0.0005034443055290727\n",
      "department_no 0.00034357367570581656\n",
      "postal_code 0.00026789692222995814\n",
      "club_member_status 0.00015974561115068194\n",
      "Active 9.009846880087734e-05\n",
      "graphical_appearance_no 8.482889056551339e-05\n",
      "section_no 7.280044969967128e-05\n",
      "index_code 7.224404362737313e-05\n",
      "FN 0.0\n",
      "fashion_news_frequency 0.0\n",
      "perceived_colour_master_id 0.0\n",
      "perceived_colour_value_id 0.0\n",
      "colour_group_code 0.0\n",
      "index_group_no 0.0\n"
     ]
    }
   ],
   "source": [
    "for i in ranker.feature_importances_.argsort()[::-1]:\n",
    "    print(columns_to_use[i], ranker.feature_importances_[i]/ranker.feature_importances_.sum())"
   ],
   "metadata": {
    "collapsed": false,
    "ExecuteTime": {
     "end_time": "2023-11-22T08:50:51.734295700Z",
     "start_time": "2023-11-22T08:50:51.723295800Z"
    }
   }
  },
  {
   "cell_type": "markdown",
   "source": [
    "# Calculate predictions"
   ],
   "metadata": {
    "collapsed": false
   }
  },
  {
   "cell_type": "code",
   "execution_count": 245,
   "outputs": [
    {
     "name": "stdout",
     "output_type": "stream",
     "text": [
      "CPU times: total: 0 ns\n",
      "Wall time: 0 ns\n"
     ]
    }
   ],
   "source": [
    "%time\n",
    "\n",
    "test['preds'] = ranker.predict(test_X)\n",
    "\n",
    "c_id2predicted_article_ids = test \\\n",
    "    .sort_values(['customer_id', 'preds'], ascending=False) \\\n",
    "    .groupby('customer_id')['article_id'].apply(list).to_dict()\n",
    "\n",
    "bestsellers_last_week = \\\n",
    "    bestsellers_previous_week[bestsellers_previous_week.week == bestsellers_previous_week.week.max()]['article_id'].tolist()"
   ],
   "metadata": {
    "collapsed": false,
    "ExecuteTime": {
     "end_time": "2023-11-22T08:51:00.456326500Z",
     "start_time": "2023-11-22T08:50:51.738296700Z"
    }
   }
  },
  {
   "cell_type": "code",
   "execution_count": 246,
   "outputs": [
    {
     "data": {
      "text/plain": "[924243001,\n 924243002,\n 918522001,\n 923758001,\n 866731001,\n 909370001,\n 751471001,\n 915529003,\n 915529005,\n 448509014,\n 762846027,\n 714790020]"
     },
     "execution_count": 246,
     "metadata": {},
     "output_type": "execute_result"
    }
   ],
   "source": [
    "bestsellers_last_week"
   ],
   "metadata": {
    "collapsed": false,
    "ExecuteTime": {
     "end_time": "2023-11-22T08:51:00.466828600Z",
     "start_time": "2023-11-22T08:51:00.456326500Z"
    }
   }
  },
  {
   "cell_type": "markdown",
   "source": [
    "# Create submission"
   ],
   "metadata": {
    "collapsed": false
   }
  },
  {
   "cell_type": "code",
   "execution_count": 247,
   "outputs": [],
   "source": [
    "sub = pd.read_csv(utils.path + \"sample_submission.csv\")"
   ],
   "metadata": {
    "collapsed": false,
    "ExecuteTime": {
     "end_time": "2023-11-22T08:51:03.507476300Z",
     "start_time": "2023-11-22T08:51:00.467327500Z"
    }
   }
  },
  {
   "cell_type": "code",
   "execution_count": 248,
   "outputs": [
    {
     "name": "stdout",
     "output_type": "stream",
     "text": [
      "CPU times: total: 4.03 s\n",
      "Wall time: 6.41 s\n"
     ]
    }
   ],
   "source": [
    "%%time\n",
    "preds = []\n",
    "for c_id in utils.customer_hex_id_to_int(sub.customer_id):\n",
    "    pred = c_id2predicted_article_ids.get(c_id, [])\n",
    "    pred = pred + bestsellers_last_week\n",
    "    preds.append(pred[:12])"
   ],
   "metadata": {
    "collapsed": false,
    "ExecuteTime": {
     "end_time": "2023-11-22T08:51:09.929025700Z",
     "start_time": "2023-11-22T08:51:03.509477600Z"
    }
   }
  },
  {
   "cell_type": "code",
   "execution_count": 249,
   "outputs": [],
   "source": [
    "preds = [' '.join(['0' + str(p) for p in ps]) for ps in preds]\n",
    "sub.prediction = preds"
   ],
   "metadata": {
    "collapsed": false,
    "ExecuteTime": {
     "end_time": "2023-11-22T08:51:12.023025600Z",
     "start_time": "2023-11-22T08:51:09.926523Z"
    }
   }
  },
  {
   "cell_type": "code",
   "execution_count": 250,
   "outputs": [],
   "source": [
    "sub_name = \"basic_model_submission_K\" + str(K) + \"_a\" + str(alpha) + \".csv.gz\"\n",
    "sub.to_csv(f\"{sub_name}\", index=False)"
   ],
   "metadata": {
    "collapsed": false,
    "ExecuteTime": {
     "end_time": "2023-11-22T08:51:23.704316800Z",
     "start_time": "2023-11-22T08:51:12.024025900Z"
    }
   }
  },
  {
   "cell_type": "markdown",
   "source": [
    "# Evaluation"
   ],
   "metadata": {
    "collapsed": false
   }
  },
  {
   "cell_type": "code",
   "execution_count": 251,
   "outputs": [
    {
     "name": "stdout",
     "output_type": "stream",
     "text": [
      "basic_model_submission_K1_a5000.csv.gz\n"
     ]
    }
   ],
   "source": [
    "from create_validation import create_validation\n",
    "from evaluation import eval_sub\n",
    "create_validation()\n",
    "print(sub_name)"
   ],
   "metadata": {
    "collapsed": false,
    "ExecuteTime": {
     "end_time": "2023-11-22T08:51:32.949448500Z",
     "start_time": "2023-11-22T08:51:23.704316800Z"
    }
   }
  },
  {
   "cell_type": "markdown",
   "source": [
    "### MAP@12 score"
   ],
   "metadata": {
    "collapsed": false
   }
  },
  {
   "cell_type": "code",
   "execution_count": 252,
   "outputs": [
    {
     "name": "stdout",
     "output_type": "stream",
     "text": [
      "0.9348744921602494\n"
     ]
    }
   ],
   "source": [
    "from evaluation import eval_sub\n",
    "\n",
    "MAP12_score = eval_sub(sub_name, \"map\", k=12)\n",
    "print(MAP12_score)"
   ],
   "metadata": {
    "collapsed": false,
    "ExecuteTime": {
     "end_time": "2023-11-22T08:51:41.474641600Z",
     "start_time": "2023-11-22T08:51:32.958447400Z"
    }
   }
  },
  {
   "cell_type": "markdown",
   "source": [
    "### Recall score"
   ],
   "metadata": {
    "collapsed": false
   }
  },
  {
   "cell_type": "code",
   "execution_count": 253,
   "outputs": [
    {
     "name": "stdout",
     "output_type": "stream",
     "text": [
      "0.04758695982656973\n"
     ]
    }
   ],
   "source": [
    "recall_score = eval_sub(sub_name, \"recall\", k=12)\n",
    "print(recall_score)"
   ],
   "metadata": {
    "collapsed": false,
    "ExecuteTime": {
     "end_time": "2023-11-22T08:51:48.909703200Z",
     "start_time": "2023-11-22T08:51:41.465640Z"
    }
   }
  },
  {
   "cell_type": "markdown",
   "source": [],
   "metadata": {
    "collapsed": false
   }
  }
 ],
 "metadata": {
  "kernelspec": {
   "display_name": "Python 3",
   "language": "python",
   "name": "python3"
  },
  "language_info": {
   "codemirror_mode": {
    "name": "ipython",
    "version": 2
   },
   "file_extension": ".py",
   "mimetype": "text/x-python",
   "name": "python",
   "nbconvert_exporter": "python",
   "pygments_lexer": "ipython2",
   "version": "2.7.6"
  }
 },
 "nbformat": 4,
 "nbformat_minor": 0
}
