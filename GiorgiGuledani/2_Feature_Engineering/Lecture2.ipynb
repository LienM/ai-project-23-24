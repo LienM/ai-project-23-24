{
 "cells": [
  {
   "cell_type": "markdown",
   "source": [
    "**Student name: Giorgi Guledani**\n",
    "\n",
    "**Student ID: 20193667**\n",
    "\n",
    "# Lecture 2: Feature engineering"
   ],
   "metadata": {
    "collapsed": false
   }
  },
  {
   "cell_type": "code",
   "execution_count": 14,
   "outputs": [],
   "source": [
    "import pandas as pd\n",
    "path = \"../datasets/\"\n",
    "articles = pd.read_parquet(path + \"articles.parquet\")\n",
    "customers = pd.read_parquet(path + \"customers.parquet\")\n",
    "transactions_train = pd.read_parquet(path + \"transactions_train.parquet\")"
   ],
   "metadata": {
    "collapsed": false,
    "ExecuteTime": {
     "end_time": "2023-10-11T03:39:38.361287900Z",
     "start_time": "2023-10-11T03:39:37.303787800Z"
    }
   }
  },
  {
   "cell_type": "markdown",
   "source": [
    "# Radek's preprocessing"
   ],
   "metadata": {
    "collapsed": false
   }
  },
  {
   "cell_type": "markdown",
   "source": [
    "Radek already got rid of missing values (replaced by -1's), used label encoding on some columns and optimized RAM usage by changing data types. He also added a column \"week\" in the transactions table in order to represent column \"t_dat\" in numbers. The notebook takes in the .parquet files produced by Radek where further preprocessing and feature engineering is done.\n",
    "\n",
    "Source: https://www.kaggle.com/code/marcogorelli/radek-s-lgbmranker-starter-pack-warmup"
   ],
   "metadata": {
    "collapsed": false
   }
  },
  {
   "cell_type": "markdown",
   "source": [
    "# Articles"
   ],
   "metadata": {
    "collapsed": false
   }
  },
  {
   "cell_type": "markdown",
   "source": [
    "No extra changes made"
   ],
   "metadata": {
    "collapsed": false
   }
  },
  {
   "cell_type": "code",
   "execution_count": 15,
   "outputs": [
    {
     "data": {
      "text/plain": "   article_id  product_code  prod_name  product_type_no  product_type_name   \n0   108775015        108775      12855              253                  9  \\\n1   108775044        108775      12855              253                  9   \n2   108775051        108775      44846              253                  9   \n3   110065001        110065       8159              306                 13   \n4   110065002        110065       8159              306                 13   \n\n   product_group_name  graphical_appearance_no  graphical_appearance_name   \n0                   0                  1010016                          0  \\\n1                   0                  1010016                          0   \n2                   0                  1010017                          3   \n3                   4                  1010016                          0   \n4                   4                  1010016                          0   \n\n   colour_group_code  colour_group_name  ...  department_name  index_code   \n0                  9                  0  ...               10           0  \\\n1                 10                  2  ...               10           0   \n2                 11                 11  ...               10           0   \n3                  9                  0  ...              131           7   \n4                 10                  2  ...              131           7   \n\n   index_name  index_group_no  index_group_name  section_no  section_name   \n0           0               1                 0          16            30  \\\n1           0               1                 0          16            30   \n2           0               1                 0          16            30   \n3           7               1                 0          61             5   \n4           7               1                 0          61             5   \n\n   garment_group_no  garment_group_name  detail_desc  \n0              1002                   2         8834  \n1              1002                   2         8834  \n2              1002                   2         8834  \n3              1017                   4         8243  \n4              1017                   4         8243  \n\n[5 rows x 25 columns]",
      "text/html": "<div>\n<style scoped>\n    .dataframe tbody tr th:only-of-type {\n        vertical-align: middle;\n    }\n\n    .dataframe tbody tr th {\n        vertical-align: top;\n    }\n\n    .dataframe thead th {\n        text-align: right;\n    }\n</style>\n<table border=\"1\" class=\"dataframe\">\n  <thead>\n    <tr style=\"text-align: right;\">\n      <th></th>\n      <th>article_id</th>\n      <th>product_code</th>\n      <th>prod_name</th>\n      <th>product_type_no</th>\n      <th>product_type_name</th>\n      <th>product_group_name</th>\n      <th>graphical_appearance_no</th>\n      <th>graphical_appearance_name</th>\n      <th>colour_group_code</th>\n      <th>colour_group_name</th>\n      <th>...</th>\n      <th>department_name</th>\n      <th>index_code</th>\n      <th>index_name</th>\n      <th>index_group_no</th>\n      <th>index_group_name</th>\n      <th>section_no</th>\n      <th>section_name</th>\n      <th>garment_group_no</th>\n      <th>garment_group_name</th>\n      <th>detail_desc</th>\n    </tr>\n  </thead>\n  <tbody>\n    <tr>\n      <th>0</th>\n      <td>108775015</td>\n      <td>108775</td>\n      <td>12855</td>\n      <td>253</td>\n      <td>9</td>\n      <td>0</td>\n      <td>1010016</td>\n      <td>0</td>\n      <td>9</td>\n      <td>0</td>\n      <td>...</td>\n      <td>10</td>\n      <td>0</td>\n      <td>0</td>\n      <td>1</td>\n      <td>0</td>\n      <td>16</td>\n      <td>30</td>\n      <td>1002</td>\n      <td>2</td>\n      <td>8834</td>\n    </tr>\n    <tr>\n      <th>1</th>\n      <td>108775044</td>\n      <td>108775</td>\n      <td>12855</td>\n      <td>253</td>\n      <td>9</td>\n      <td>0</td>\n      <td>1010016</td>\n      <td>0</td>\n      <td>10</td>\n      <td>2</td>\n      <td>...</td>\n      <td>10</td>\n      <td>0</td>\n      <td>0</td>\n      <td>1</td>\n      <td>0</td>\n      <td>16</td>\n      <td>30</td>\n      <td>1002</td>\n      <td>2</td>\n      <td>8834</td>\n    </tr>\n    <tr>\n      <th>2</th>\n      <td>108775051</td>\n      <td>108775</td>\n      <td>44846</td>\n      <td>253</td>\n      <td>9</td>\n      <td>0</td>\n      <td>1010017</td>\n      <td>3</td>\n      <td>11</td>\n      <td>11</td>\n      <td>...</td>\n      <td>10</td>\n      <td>0</td>\n      <td>0</td>\n      <td>1</td>\n      <td>0</td>\n      <td>16</td>\n      <td>30</td>\n      <td>1002</td>\n      <td>2</td>\n      <td>8834</td>\n    </tr>\n    <tr>\n      <th>3</th>\n      <td>110065001</td>\n      <td>110065</td>\n      <td>8159</td>\n      <td>306</td>\n      <td>13</td>\n      <td>4</td>\n      <td>1010016</td>\n      <td>0</td>\n      <td>9</td>\n      <td>0</td>\n      <td>...</td>\n      <td>131</td>\n      <td>7</td>\n      <td>7</td>\n      <td>1</td>\n      <td>0</td>\n      <td>61</td>\n      <td>5</td>\n      <td>1017</td>\n      <td>4</td>\n      <td>8243</td>\n    </tr>\n    <tr>\n      <th>4</th>\n      <td>110065002</td>\n      <td>110065</td>\n      <td>8159</td>\n      <td>306</td>\n      <td>13</td>\n      <td>4</td>\n      <td>1010016</td>\n      <td>0</td>\n      <td>10</td>\n      <td>2</td>\n      <td>...</td>\n      <td>131</td>\n      <td>7</td>\n      <td>7</td>\n      <td>1</td>\n      <td>0</td>\n      <td>61</td>\n      <td>5</td>\n      <td>1017</td>\n      <td>4</td>\n      <td>8243</td>\n    </tr>\n  </tbody>\n</table>\n<p>5 rows × 25 columns</p>\n</div>"
     },
     "execution_count": 15,
     "metadata": {},
     "output_type": "execute_result"
    }
   ],
   "source": [
    "articles.head()"
   ],
   "metadata": {
    "collapsed": false,
    "ExecuteTime": {
     "end_time": "2023-10-11T03:39:38.376787900Z",
     "start_time": "2023-10-11T03:39:38.362287900Z"
    }
   }
  },
  {
   "cell_type": "markdown",
   "source": [
    "# Transactions"
   ],
   "metadata": {
    "collapsed": false
   }
  },
  {
   "cell_type": "markdown",
   "source": [
    "No extra changes made"
   ],
   "metadata": {
    "collapsed": false
   }
  },
  {
   "cell_type": "code",
   "execution_count": 16,
   "outputs": [
    {
     "data": {
      "text/plain": "           t_dat       customer_id  article_id     price  sales_channel_id   \n25784 2018-09-20  1728846800780188   519773001  0.028458                 2  \\\n25785 2018-09-20  1728846800780188   578472001  0.032525                 2   \n5389  2018-09-20  2076973761519164   661795002  0.167797                 2   \n5390  2018-09-20  2076973761519164   684080003  0.101678                 2   \n47429 2018-09-20  2918879973994241   662980001  0.033881                 1   \n\n       week  \n25784     0  \n25785     0  \n5389      0  \n5390      0  \n47429     0  ",
      "text/html": "<div>\n<style scoped>\n    .dataframe tbody tr th:only-of-type {\n        vertical-align: middle;\n    }\n\n    .dataframe tbody tr th {\n        vertical-align: top;\n    }\n\n    .dataframe thead th {\n        text-align: right;\n    }\n</style>\n<table border=\"1\" class=\"dataframe\">\n  <thead>\n    <tr style=\"text-align: right;\">\n      <th></th>\n      <th>t_dat</th>\n      <th>customer_id</th>\n      <th>article_id</th>\n      <th>price</th>\n      <th>sales_channel_id</th>\n      <th>week</th>\n    </tr>\n  </thead>\n  <tbody>\n    <tr>\n      <th>25784</th>\n      <td>2018-09-20</td>\n      <td>1728846800780188</td>\n      <td>519773001</td>\n      <td>0.028458</td>\n      <td>2</td>\n      <td>0</td>\n    </tr>\n    <tr>\n      <th>25785</th>\n      <td>2018-09-20</td>\n      <td>1728846800780188</td>\n      <td>578472001</td>\n      <td>0.032525</td>\n      <td>2</td>\n      <td>0</td>\n    </tr>\n    <tr>\n      <th>5389</th>\n      <td>2018-09-20</td>\n      <td>2076973761519164</td>\n      <td>661795002</td>\n      <td>0.167797</td>\n      <td>2</td>\n      <td>0</td>\n    </tr>\n    <tr>\n      <th>5390</th>\n      <td>2018-09-20</td>\n      <td>2076973761519164</td>\n      <td>684080003</td>\n      <td>0.101678</td>\n      <td>2</td>\n      <td>0</td>\n    </tr>\n    <tr>\n      <th>47429</th>\n      <td>2018-09-20</td>\n      <td>2918879973994241</td>\n      <td>662980001</td>\n      <td>0.033881</td>\n      <td>1</td>\n      <td>0</td>\n    </tr>\n  </tbody>\n</table>\n</div>"
     },
     "execution_count": 16,
     "metadata": {},
     "output_type": "execute_result"
    }
   ],
   "source": [
    "transactions_train.head()"
   ],
   "metadata": {
    "collapsed": false,
    "ExecuteTime": {
     "end_time": "2023-10-11T03:39:38.421287400Z",
     "start_time": "2023-10-11T03:39:38.376787900Z"
    }
   }
  },
  {
   "cell_type": "markdown",
   "source": [
    "# Customers"
   ],
   "metadata": {
    "collapsed": false
   }
  },
  {
   "cell_type": "markdown",
   "source": [
    "### Preprocessing"
   ],
   "metadata": {
    "collapsed": false
   }
  },
  {
   "cell_type": "code",
   "execution_count": 17,
   "outputs": [
    {
     "data": {
      "text/plain": "   Active  FN       0\n0      -1  -1  895050\n1      -1   1   12526\n2       1   1  464404",
      "text/html": "<div>\n<style scoped>\n    .dataframe tbody tr th:only-of-type {\n        vertical-align: middle;\n    }\n\n    .dataframe tbody tr th {\n        vertical-align: top;\n    }\n\n    .dataframe thead th {\n        text-align: right;\n    }\n</style>\n<table border=\"1\" class=\"dataframe\">\n  <thead>\n    <tr style=\"text-align: right;\">\n      <th></th>\n      <th>Active</th>\n      <th>FN</th>\n      <th>0</th>\n    </tr>\n  </thead>\n  <tbody>\n    <tr>\n      <th>0</th>\n      <td>-1</td>\n      <td>-1</td>\n      <td>895050</td>\n    </tr>\n    <tr>\n      <th>1</th>\n      <td>-1</td>\n      <td>1</td>\n      <td>12526</td>\n    </tr>\n    <tr>\n      <th>2</th>\n      <td>1</td>\n      <td>1</td>\n      <td>464404</td>\n    </tr>\n  </tbody>\n</table>\n</div>"
     },
     "execution_count": 17,
     "metadata": {},
     "output_type": "execute_result"
    }
   ],
   "source": [
    "customers.groupby(by=[\"Active\", \"FN\"], dropna=False).size().reset_index()"
   ],
   "metadata": {
    "collapsed": false,
    "ExecuteTime": {
     "end_time": "2023-10-11T03:39:38.532788300Z",
     "start_time": "2023-10-11T03:39:38.393788200Z"
    }
   }
  },
  {
   "cell_type": "markdown",
   "source": [
    "We can see that the 2 columns are highly correlated. An active account will always receive fashion news. The only reason 2 values may be different is because Radek replaced missing values of FN by 0 (when Active was 1)\n",
    "Let's combine it into 1 column by dropping FN column:"
   ],
   "metadata": {
    "collapsed": false
   }
  },
  {
   "cell_type": "code",
   "execution_count": 18,
   "outputs": [
    {
     "data": {
      "text/plain": "            customer_id  Active  club_member_status  fashion_news_frequency   \n0   6883939031699146327      -1                   0                       0  \\\n1  11246327431398957306      -1                   0                       0   \n2  18439897732908966680      -1                   0                       0   \n3  18352672461570950206      -1                   0                       0   \n4  18162778555210377306       1                   0                       1   \n\n   age  postal_code  \n0   49         6305  \n1   25        33726  \n2   24         3247  \n3   54       168643  \n4   52       168645  ",
      "text/html": "<div>\n<style scoped>\n    .dataframe tbody tr th:only-of-type {\n        vertical-align: middle;\n    }\n\n    .dataframe tbody tr th {\n        vertical-align: top;\n    }\n\n    .dataframe thead th {\n        text-align: right;\n    }\n</style>\n<table border=\"1\" class=\"dataframe\">\n  <thead>\n    <tr style=\"text-align: right;\">\n      <th></th>\n      <th>customer_id</th>\n      <th>Active</th>\n      <th>club_member_status</th>\n      <th>fashion_news_frequency</th>\n      <th>age</th>\n      <th>postal_code</th>\n    </tr>\n  </thead>\n  <tbody>\n    <tr>\n      <th>0</th>\n      <td>6883939031699146327</td>\n      <td>-1</td>\n      <td>0</td>\n      <td>0</td>\n      <td>49</td>\n      <td>6305</td>\n    </tr>\n    <tr>\n      <th>1</th>\n      <td>11246327431398957306</td>\n      <td>-1</td>\n      <td>0</td>\n      <td>0</td>\n      <td>25</td>\n      <td>33726</td>\n    </tr>\n    <tr>\n      <th>2</th>\n      <td>18439897732908966680</td>\n      <td>-1</td>\n      <td>0</td>\n      <td>0</td>\n      <td>24</td>\n      <td>3247</td>\n    </tr>\n    <tr>\n      <th>3</th>\n      <td>18352672461570950206</td>\n      <td>-1</td>\n      <td>0</td>\n      <td>0</td>\n      <td>54</td>\n      <td>168643</td>\n    </tr>\n    <tr>\n      <th>4</th>\n      <td>18162778555210377306</td>\n      <td>1</td>\n      <td>0</td>\n      <td>1</td>\n      <td>52</td>\n      <td>168645</td>\n    </tr>\n  </tbody>\n</table>\n</div>"
     },
     "execution_count": 18,
     "metadata": {},
     "output_type": "execute_result"
    }
   ],
   "source": [
    "customers = customers.drop(\"FN\", axis=1)\n",
    "customers.head()"
   ],
   "metadata": {
    "collapsed": false,
    "ExecuteTime": {
     "end_time": "2023-10-11T03:39:38.534288700Z",
     "start_time": "2023-10-11T03:39:38.469287100Z"
    }
   }
  },
  {
   "cell_type": "markdown",
   "source": [],
   "metadata": {
    "collapsed": false
   }
  },
  {
   "cell_type": "markdown",
   "source": [
    "### Feature engineering #1: Missing ages to mean"
   ],
   "metadata": {
    "collapsed": false
   }
  },
  {
   "cell_type": "code",
   "execution_count": 19,
   "outputs": [],
   "source": [
    "# fill in missing age values (mean)\n",
    "mean_age = customers['age'].mean()\n",
    "customers[\"age\"] = customers['age'].replace(-1, mean_age)"
   ],
   "metadata": {
    "collapsed": false,
    "ExecuteTime": {
     "end_time": "2023-10-11T03:39:38.534788100Z",
     "start_time": "2023-10-11T03:39:38.502291900Z"
    }
   }
  },
  {
   "cell_type": "markdown",
   "source": [
    "### Feature engineering #2: Age bins\n"
   ],
   "metadata": {
    "collapsed": false
   }
  },
  {
   "cell_type": "code",
   "execution_count": 20,
   "outputs": [
    {
     "data": {
      "text/plain": "            customer_id  Active  club_member_status  fashion_news_frequency   \n0   6883939031699146327      -1                   0                       0  \\\n1  11246327431398957306      -1                   0                       0   \n2  18439897732908966680      -1                   0                       0   \n3  18352672461570950206      -1                   0                       0   \n4  18162778555210377306       1                   0                       1   \n\n    age  postal_code    age_group  \n0  49.0         6305  Middle-aged  \n1  25.0        33726        Young  \n2  24.0         3247        Young  \n3  54.0       168643       Senior  \n4  52.0       168645       Senior  ",
      "text/html": "<div>\n<style scoped>\n    .dataframe tbody tr th:only-of-type {\n        vertical-align: middle;\n    }\n\n    .dataframe tbody tr th {\n        vertical-align: top;\n    }\n\n    .dataframe thead th {\n        text-align: right;\n    }\n</style>\n<table border=\"1\" class=\"dataframe\">\n  <thead>\n    <tr style=\"text-align: right;\">\n      <th></th>\n      <th>customer_id</th>\n      <th>Active</th>\n      <th>club_member_status</th>\n      <th>fashion_news_frequency</th>\n      <th>age</th>\n      <th>postal_code</th>\n      <th>age_group</th>\n    </tr>\n  </thead>\n  <tbody>\n    <tr>\n      <th>0</th>\n      <td>6883939031699146327</td>\n      <td>-1</td>\n      <td>0</td>\n      <td>0</td>\n      <td>49.0</td>\n      <td>6305</td>\n      <td>Middle-aged</td>\n    </tr>\n    <tr>\n      <th>1</th>\n      <td>11246327431398957306</td>\n      <td>-1</td>\n      <td>0</td>\n      <td>0</td>\n      <td>25.0</td>\n      <td>33726</td>\n      <td>Young</td>\n    </tr>\n    <tr>\n      <th>2</th>\n      <td>18439897732908966680</td>\n      <td>-1</td>\n      <td>0</td>\n      <td>0</td>\n      <td>24.0</td>\n      <td>3247</td>\n      <td>Young</td>\n    </tr>\n    <tr>\n      <th>3</th>\n      <td>18352672461570950206</td>\n      <td>-1</td>\n      <td>0</td>\n      <td>0</td>\n      <td>54.0</td>\n      <td>168643</td>\n      <td>Senior</td>\n    </tr>\n    <tr>\n      <th>4</th>\n      <td>18162778555210377306</td>\n      <td>1</td>\n      <td>0</td>\n      <td>1</td>\n      <td>52.0</td>\n      <td>168645</td>\n      <td>Senior</td>\n    </tr>\n  </tbody>\n</table>\n</div>"
     },
     "execution_count": 20,
     "metadata": {},
     "output_type": "execute_result"
    }
   ],
   "source": [
    "# give labels to age groups\n",
    "bin_edges = [0, 25, 35, 50, float('inf')]  # Age ranges and an upper bound\n",
    "bin_labels = ['Young', 'Adult', 'Middle-aged', 'Senior']\n",
    "customers['age_group'] = pd.cut(customers['age'], bins=bin_edges, labels=bin_labels)\n",
    "customers.head()"
   ],
   "metadata": {
    "collapsed": false,
    "ExecuteTime": {
     "end_time": "2023-10-11T03:39:38.593288400Z",
     "start_time": "2023-10-11T03:39:38.518287300Z"
    }
   }
  },
  {
   "cell_type": "markdown",
   "source": [
    "### Feature engineering #3: favorite category"
   ],
   "metadata": {
    "collapsed": false
   }
  },
  {
   "cell_type": "markdown",
   "source": [],
   "metadata": {
    "collapsed": false
   }
  },
  {
   "cell_type": "code",
   "execution_count": 21,
   "outputs": [
    {
     "data": {
      "text/plain": "           customer_id  article_id\n0  6883939031699146327   176209023\n1  6883939031699146327   568601006\n2  6883939031699146327   568601006\n3  6883939031699146327   568601043\n4  6883939031699146327   607642008",
      "text/html": "<div>\n<style scoped>\n    .dataframe tbody tr th:only-of-type {\n        vertical-align: middle;\n    }\n\n    .dataframe tbody tr th {\n        vertical-align: top;\n    }\n\n    .dataframe thead th {\n        text-align: right;\n    }\n</style>\n<table border=\"1\" class=\"dataframe\">\n  <thead>\n    <tr style=\"text-align: right;\">\n      <th></th>\n      <th>customer_id</th>\n      <th>article_id</th>\n    </tr>\n  </thead>\n  <tbody>\n    <tr>\n      <th>0</th>\n      <td>6883939031699146327</td>\n      <td>176209023</td>\n    </tr>\n    <tr>\n      <th>1</th>\n      <td>6883939031699146327</td>\n      <td>568601006</td>\n    </tr>\n    <tr>\n      <th>2</th>\n      <td>6883939031699146327</td>\n      <td>568601006</td>\n    </tr>\n    <tr>\n      <th>3</th>\n      <td>6883939031699146327</td>\n      <td>568601043</td>\n    </tr>\n    <tr>\n      <th>4</th>\n      <td>6883939031699146327</td>\n      <td>607642008</td>\n    </tr>\n  </tbody>\n</table>\n</div>"
     },
     "execution_count": 21,
     "metadata": {},
     "output_type": "execute_result"
    }
   ],
   "source": [
    "articles_transactions = pd.merge(articles[[\"article_id\", \"product_group_name\", \"product_type_name\"]], transactions_train[[\"article_id\", \"customer_id\"]], on=\"article_id\")\n",
    "articles_transactions_customers = pd.merge(customers[\"customer_id\"], articles_transactions[[\"article_id\", \"customer_id\"]], on=\"customer_id\")\n",
    "articles_transactions_customers.head()\n"
   ],
   "metadata": {
    "collapsed": false,
    "ExecuteTime": {
     "end_time": "2023-10-11T03:39:46.963288300Z",
     "start_time": "2023-10-11T03:39:38.563788900Z"
    }
   }
  },
  {
   "cell_type": "markdown",
   "source": [
    "We now find the most popular group, which will be given to customers that have no favorite product group (no purchases)"
   ],
   "metadata": {
    "collapsed": false
   }
  },
  {
   "cell_type": "code",
   "execution_count": 22,
   "outputs": [
    {
     "data": {
      "text/plain": "0"
     },
     "execution_count": 22,
     "metadata": {},
     "output_type": "execute_result"
    }
   ],
   "source": [
    "most_popular_group =  articles_transactions[\"product_group_name\"].mode().iloc[0] # most popular group in column (iloc: to get actual val instead of table)\n",
    "most_popular_group"
   ],
   "metadata": {
    "collapsed": false,
    "ExecuteTime": {
     "end_time": "2023-10-11T03:39:47.094290800Z",
     "start_time": "2023-10-11T03:39:46.964289800Z"
    }
   }
  },
  {
   "cell_type": "markdown",
   "source": [
    "When we compare all groups, only the top 7 are very popular:"
   ],
   "metadata": {
    "collapsed": false
   }
  },
  {
   "cell_type": "code",
   "execution_count": 23,
   "outputs": [
    {
     "data": {
      "text/plain": "product_group_name\n0     12552755\n1      7046054\n2      3552470\n6      2579222\n4      2565858\n3      1599593\n5       745521\n7       685712\n8       348180\n9        97040\n12        7313\n13        5427\n11        1500\n10         559\n14         533\n15         279\n16         229\n17          74\n18           5\nName: count, dtype: int64"
     },
     "execution_count": 23,
     "metadata": {},
     "output_type": "execute_result"
    }
   ],
   "source": [
    "articles_transactions[\"product_group_name\"].value_counts(dropna=False)\n"
   ],
   "metadata": {
    "collapsed": false,
    "ExecuteTime": {
     "end_time": "2023-10-11T03:39:47.214287Z",
     "start_time": "2023-10-11T03:39:47.089289600Z"
    }
   }
  },
  {
   "cell_type": "markdown",
   "source": [
    "Now we get the favorite category group per customer"
   ],
   "metadata": {
    "collapsed": false
   }
  },
  {
   "cell_type": "code",
   "execution_count": 24,
   "outputs": [
    {
     "data": {
      "text/plain": "                  customer_id  fav_product_group\n0               4245900472157                  0\n1              23962613628581                  1\n2              25398598941468                  1\n3              28847241659200                  0\n4              41046458195168                  4\n...                       ...                ...\n1362276  18446630855572834764                  0\n1362277  18446662237889060501                  0\n1362278  18446705133201055310                  0\n1362279  18446723086055369602                  0\n1362280  18446737527580148316                  0\n\n[1362281 rows x 2 columns]",
      "text/html": "<div>\n<style scoped>\n    .dataframe tbody tr th:only-of-type {\n        vertical-align: middle;\n    }\n\n    .dataframe tbody tr th {\n        vertical-align: top;\n    }\n\n    .dataframe thead th {\n        text-align: right;\n    }\n</style>\n<table border=\"1\" class=\"dataframe\">\n  <thead>\n    <tr style=\"text-align: right;\">\n      <th></th>\n      <th>customer_id</th>\n      <th>fav_product_group</th>\n    </tr>\n  </thead>\n  <tbody>\n    <tr>\n      <th>0</th>\n      <td>4245900472157</td>\n      <td>0</td>\n    </tr>\n    <tr>\n      <th>1</th>\n      <td>23962613628581</td>\n      <td>1</td>\n    </tr>\n    <tr>\n      <th>2</th>\n      <td>25398598941468</td>\n      <td>1</td>\n    </tr>\n    <tr>\n      <th>3</th>\n      <td>28847241659200</td>\n      <td>0</td>\n    </tr>\n    <tr>\n      <th>4</th>\n      <td>41046458195168</td>\n      <td>4</td>\n    </tr>\n    <tr>\n      <th>...</th>\n      <td>...</td>\n      <td>...</td>\n    </tr>\n    <tr>\n      <th>1362276</th>\n      <td>18446630855572834764</td>\n      <td>0</td>\n    </tr>\n    <tr>\n      <th>1362277</th>\n      <td>18446662237889060501</td>\n      <td>0</td>\n    </tr>\n    <tr>\n      <th>1362278</th>\n      <td>18446705133201055310</td>\n      <td>0</td>\n    </tr>\n    <tr>\n      <th>1362279</th>\n      <td>18446723086055369602</td>\n      <td>0</td>\n    </tr>\n    <tr>\n      <th>1362280</th>\n      <td>18446737527580148316</td>\n      <td>0</td>\n    </tr>\n  </tbody>\n</table>\n<p>1362281 rows × 2 columns</p>\n</div>"
     },
     "execution_count": 24,
     "metadata": {},
     "output_type": "execute_result"
    }
   ],
   "source": [
    "articles_transactions = (articles_transactions.groupby([\"customer_id\"])\n",
    ".product_group_name\n",
    ".apply(lambda x: x.mode()[0])\n",
    ".reset_index()\n",
    ".rename({'product_group_name': 'fav_product_group'}, axis=1)\n",
    ")\n",
    "\n",
    "articles_transactions"
   ],
   "metadata": {
    "collapsed": false,
    "ExecuteTime": {
     "end_time": "2023-10-11T03:41:17.545288400Z",
     "start_time": "2023-10-11T03:39:47.211287400Z"
    }
   }
  },
  {
   "cell_type": "markdown",
   "source": [
    "Merge with the customer dataset:"
   ],
   "metadata": {
    "collapsed": false
   }
  },
  {
   "cell_type": "code",
   "execution_count": 25,
   "outputs": [
    {
     "data": {
      "text/plain": "            customer_id  Active  club_member_status  fashion_news_frequency   \n0   6883939031699146327      -1                   0                       0  \\\n1  11246327431398957306      -1                   0                       0   \n2  18439897732908966680      -1                   0                       0   \n3  18352672461570950206      -1                   0                       0   \n4  18162778555210377306       1                   0                       1   \n\n    age  postal_code    age_group  fav_product_group  \n0  49.0         6305  Middle-aged                0.0  \n1  25.0        33726        Young                6.0  \n2  24.0         3247        Young                0.0  \n3  54.0       168643       Senior                4.0  \n4  52.0       168645       Senior                0.0  ",
      "text/html": "<div>\n<style scoped>\n    .dataframe tbody tr th:only-of-type {\n        vertical-align: middle;\n    }\n\n    .dataframe tbody tr th {\n        vertical-align: top;\n    }\n\n    .dataframe thead th {\n        text-align: right;\n    }\n</style>\n<table border=\"1\" class=\"dataframe\">\n  <thead>\n    <tr style=\"text-align: right;\">\n      <th></th>\n      <th>customer_id</th>\n      <th>Active</th>\n      <th>club_member_status</th>\n      <th>fashion_news_frequency</th>\n      <th>age</th>\n      <th>postal_code</th>\n      <th>age_group</th>\n      <th>fav_product_group</th>\n    </tr>\n  </thead>\n  <tbody>\n    <tr>\n      <th>0</th>\n      <td>6883939031699146327</td>\n      <td>-1</td>\n      <td>0</td>\n      <td>0</td>\n      <td>49.0</td>\n      <td>6305</td>\n      <td>Middle-aged</td>\n      <td>0.0</td>\n    </tr>\n    <tr>\n      <th>1</th>\n      <td>11246327431398957306</td>\n      <td>-1</td>\n      <td>0</td>\n      <td>0</td>\n      <td>25.0</td>\n      <td>33726</td>\n      <td>Young</td>\n      <td>6.0</td>\n    </tr>\n    <tr>\n      <th>2</th>\n      <td>18439897732908966680</td>\n      <td>-1</td>\n      <td>0</td>\n      <td>0</td>\n      <td>24.0</td>\n      <td>3247</td>\n      <td>Young</td>\n      <td>0.0</td>\n    </tr>\n    <tr>\n      <th>3</th>\n      <td>18352672461570950206</td>\n      <td>-1</td>\n      <td>0</td>\n      <td>0</td>\n      <td>54.0</td>\n      <td>168643</td>\n      <td>Senior</td>\n      <td>4.0</td>\n    </tr>\n    <tr>\n      <th>4</th>\n      <td>18162778555210377306</td>\n      <td>1</td>\n      <td>0</td>\n      <td>1</td>\n      <td>52.0</td>\n      <td>168645</td>\n      <td>Senior</td>\n      <td>0.0</td>\n    </tr>\n  </tbody>\n</table>\n</div>"
     },
     "execution_count": 25,
     "metadata": {},
     "output_type": "execute_result"
    }
   ],
   "source": [
    "customers = pd.merge(customers, articles_transactions[[\"customer_id\", \"fav_product_group\"]], on=\"customer_id\", how=\"left\")\n",
    "customers[\"fav_product_group\"] = customers[\"fav_product_group\"].fillna(most_popular_group) # give most popular group to customers without purchases\n",
    "customers.head()"
   ],
   "metadata": {
    "collapsed": false,
    "ExecuteTime": {
     "end_time": "2023-10-11T03:41:18.041788Z",
     "start_time": "2023-10-11T03:41:17.547799100Z"
    }
   }
  },
  {
   "cell_type": "markdown",
   "source": [
    "# Generate updated datasets"
   ],
   "metadata": {
    "collapsed": false
   }
  },
  {
   "cell_type": "markdown",
   "source": [
    "Only generates new customers file, as no extra changes were made on articles and transactions_train."
   ],
   "metadata": {
    "collapsed": false
   }
  },
  {
   "cell_type": "code",
   "execution_count": 26,
   "outputs": [],
   "source": [
    "customers.to_parquet(path + \"customers2.parquet\")"
   ],
   "metadata": {
    "collapsed": false,
    "ExecuteTime": {
     "end_time": "2023-10-11T03:41:18.320288Z",
     "start_time": "2023-10-11T03:41:18.042787700Z"
    }
   }
  }
 ],
 "metadata": {
  "kernelspec": {
   "display_name": "Python 3",
   "language": "python",
   "name": "python3"
  },
  "language_info": {
   "codemirror_mode": {
    "name": "ipython",
    "version": 2
   },
   "file_extension": ".py",
   "mimetype": "text/x-python",
   "name": "python",
   "nbconvert_exporter": "python",
   "pygments_lexer": "ipython2",
   "version": "2.7.6"
  }
 },
 "nbformat": 4,
 "nbformat_minor": 0
}
