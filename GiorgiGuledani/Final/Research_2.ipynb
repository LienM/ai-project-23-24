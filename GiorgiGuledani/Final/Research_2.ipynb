{
 "cells": [
  {
   "cell_type": "markdown",
   "source": [
    "**Student name: Giorgi Guledani**\n",
    "\n",
    "**Student ID: 20193667**\n",
    "\n",
    "# Lecture 5: Research 2: Will personalized Long Tail items further improve the recommender model?"
   ],
   "metadata": {
    "collapsed": false
   }
  },
  {
   "cell_type": "markdown",
   "source": [
    "This notebook builds upon the previous research question: \"How to address the Long Tail Problem?\"."
   ],
   "metadata": {
    "collapsed": false
   }
  },
  {
   "cell_type": "code",
   "execution_count": 1,
   "outputs": [],
   "source": [
    "import pandas as pd\n",
    "import utils\n",
    "import seaborn as sns\n",
    "import matplotlib.pyplot as plt\n",
    "from sklearn.mixture import GaussianMixture\n",
    "\n",
    "articles = pd.read_parquet(f'{utils.path}/articles.parquet')\n",
    "customers = pd.read_parquet(f'{utils.path}/customers.parquet')\n",
    "transactions = pd.read_parquet(f'{utils.path}/transactions_train.parquet')"
   ],
   "metadata": {
    "collapsed": false,
    "ExecuteTime": {
     "end_time": "2024-01-26T22:47:32.583606600Z",
     "start_time": "2024-01-26T22:47:30.418606600Z"
    }
   }
  },
  {
   "cell_type": "markdown",
   "source": [
    "# Parameters"
   ],
   "metadata": {
    "collapsed": false
   }
  },
  {
   "cell_type": "code",
   "execution_count": 2,
   "outputs": [],
   "source": [
    "K = 1 # amount of items to replace Short Head items with personalized Long Tail items, if customer made atleast 1 Long Tail item purchase\n",
    "\n",
    "# threshold for identifying long tail items. Total item sale counts below or equal to this threshold are marked as Long Tail\n",
    "# if None, the mean of all item sale counts is taken as the threshold (= threshold in the middle)\n",
    "alpha = 2000"
   ],
   "metadata": {
    "collapsed": false,
    "ExecuteTime": {
     "end_time": "2024-01-26T22:47:32.588607Z",
     "start_time": "2024-01-26T22:47:32.585607500Z"
    }
   }
  },
  {
   "cell_type": "markdown",
   "source": [
    "# Identifying short head and long tail items"
   ],
   "metadata": {
    "collapsed": false
   }
  },
  {
   "cell_type": "markdown",
   "source": [
    "Like previously, we have to first identify the Long Tail items"
   ],
   "metadata": {
    "collapsed": false
   }
  },
  {
   "cell_type": "code",
   "execution_count": 3,
   "outputs": [
    {
     "name": "stdout",
     "output_type": "stream",
     "text": [
      "Threshold (alpha): 2000\n"
     ]
    },
    {
     "data": {
      "text/plain": "              t_dat           customer_id  article_id     price  \\\n22279468 2020-02-12   7993556869309464686   351484039  0.022017   \n22307079 2020-02-13  11693170829426928559   351484039  0.022017   \n22326267 2020-02-13  14251597971675452778   351484039  0.022017   \n22333826 2020-02-14  11322089096702754811   351484039  0.022017   \n22333814 2020-02-14  17298776028320583102   351484039  0.019814   \n...             ...                   ...         ...       ...   \n31773893 2020-09-22  13118523669876511337   351484039  0.022017   \n31780827 2020-09-22  15473878317449867690   351484039  0.022017   \n31757413 2020-09-22  16551754216385484410   351484039  0.022017   \n31757898 2020-09-22  17214430568995933187   351484039  0.011000   \n31766926 2020-09-22  17247708601818852435   351484039  0.022017   \n\n          sales_channel_id  week  \n22279468                 2    73  \n22307079                 2    73  \n22326267                 2    73  \n22333826                 2    73  \n22333814                 2    73  \n...                    ...   ...  \n31773893                 2   104  \n31780827                 2   104  \n31757413                 2   104  \n31757898                 1   104  \n31766926                 2   104  \n\n[3832 rows x 6 columns]",
      "text/html": "<div>\n<style scoped>\n    .dataframe tbody tr th:only-of-type {\n        vertical-align: middle;\n    }\n\n    .dataframe tbody tr th {\n        vertical-align: top;\n    }\n\n    .dataframe thead th {\n        text-align: right;\n    }\n</style>\n<table border=\"1\" class=\"dataframe\">\n  <thead>\n    <tr style=\"text-align: right;\">\n      <th></th>\n      <th>t_dat</th>\n      <th>customer_id</th>\n      <th>article_id</th>\n      <th>price</th>\n      <th>sales_channel_id</th>\n      <th>week</th>\n    </tr>\n  </thead>\n  <tbody>\n    <tr>\n      <th>22279468</th>\n      <td>2020-02-12</td>\n      <td>7993556869309464686</td>\n      <td>351484039</td>\n      <td>0.022017</td>\n      <td>2</td>\n      <td>73</td>\n    </tr>\n    <tr>\n      <th>22307079</th>\n      <td>2020-02-13</td>\n      <td>11693170829426928559</td>\n      <td>351484039</td>\n      <td>0.022017</td>\n      <td>2</td>\n      <td>73</td>\n    </tr>\n    <tr>\n      <th>22326267</th>\n      <td>2020-02-13</td>\n      <td>14251597971675452778</td>\n      <td>351484039</td>\n      <td>0.022017</td>\n      <td>2</td>\n      <td>73</td>\n    </tr>\n    <tr>\n      <th>22333826</th>\n      <td>2020-02-14</td>\n      <td>11322089096702754811</td>\n      <td>351484039</td>\n      <td>0.022017</td>\n      <td>2</td>\n      <td>73</td>\n    </tr>\n    <tr>\n      <th>22333814</th>\n      <td>2020-02-14</td>\n      <td>17298776028320583102</td>\n      <td>351484039</td>\n      <td>0.019814</td>\n      <td>2</td>\n      <td>73</td>\n    </tr>\n    <tr>\n      <th>...</th>\n      <td>...</td>\n      <td>...</td>\n      <td>...</td>\n      <td>...</td>\n      <td>...</td>\n      <td>...</td>\n    </tr>\n    <tr>\n      <th>31773893</th>\n      <td>2020-09-22</td>\n      <td>13118523669876511337</td>\n      <td>351484039</td>\n      <td>0.022017</td>\n      <td>2</td>\n      <td>104</td>\n    </tr>\n    <tr>\n      <th>31780827</th>\n      <td>2020-09-22</td>\n      <td>15473878317449867690</td>\n      <td>351484039</td>\n      <td>0.022017</td>\n      <td>2</td>\n      <td>104</td>\n    </tr>\n    <tr>\n      <th>31757413</th>\n      <td>2020-09-22</td>\n      <td>16551754216385484410</td>\n      <td>351484039</td>\n      <td>0.022017</td>\n      <td>2</td>\n      <td>104</td>\n    </tr>\n    <tr>\n      <th>31757898</th>\n      <td>2020-09-22</td>\n      <td>17214430568995933187</td>\n      <td>351484039</td>\n      <td>0.011000</td>\n      <td>1</td>\n      <td>104</td>\n    </tr>\n    <tr>\n      <th>31766926</th>\n      <td>2020-09-22</td>\n      <td>17247708601818852435</td>\n      <td>351484039</td>\n      <td>0.022017</td>\n      <td>2</td>\n      <td>104</td>\n    </tr>\n  </tbody>\n</table>\n<p>3832 rows × 6 columns</p>\n</div>"
     },
     "execution_count": 3,
     "metadata": {},
     "output_type": "execute_result"
    }
   ],
   "source": [
    "\n",
    "# Determine the threshold for the top half\n",
    "transactions_count = transactions.groupby([\"article_id\"])[\"article_id\"].value_counts(dropna=False)\n",
    "if not \"long_tail\" in articles.columns:\n",
    "    articles = articles.merge(transactions.groupby(['article_id'])[\"article_id\"].value_counts(dropna=False), left_on =\"article_id\", how=\"left\", right_index=True)\n",
    "    articles[\"count\"].fillna(0, inplace=True)\n",
    "    articles = articles.rename(columns={\"count\": \"sales_count\"})\n",
    "    if alpha is None:\n",
    "        threshold = articles[\"sales_count\"].median()\n",
    "    else:\n",
    "        threshold = alpha \n",
    "    print(f\"Threshold (alpha): {threshold}\")\n",
    "    articles[\"long_tail\"] = (articles[\"sales_count\"] <= threshold).astype(int)\n",
    "transactions[transactions[\"article_id\"] == 351484039]\n"
   ],
   "metadata": {
    "collapsed": false,
    "ExecuteTime": {
     "end_time": "2024-01-26T22:47:34.066606800Z",
     "start_time": "2024-01-26T22:47:32.589607700Z"
    }
   }
  },
  {
   "cell_type": "markdown",
   "source": [
    "Amount of Long Tail and Short Head items:"
   ],
   "metadata": {
    "collapsed": false
   }
  },
  {
   "cell_type": "code",
   "execution_count": 4,
   "outputs": [
    {
     "data": {
      "text/plain": "long_tail\n1    102919\n0      2623\nName: count, dtype: int64"
     },
     "execution_count": 4,
     "metadata": {},
     "output_type": "execute_result"
    }
   ],
   "source": [
    "articles[\"long_tail\"].value_counts()"
   ],
   "metadata": {
    "collapsed": false,
    "ExecuteTime": {
     "end_time": "2024-01-26T22:47:34.081106800Z",
     "start_time": "2024-01-26T22:47:34.065607Z"
    }
   }
  },
  {
   "cell_type": "markdown",
   "source": [
    "Items below the threshold get classified as long tail:"
   ],
   "metadata": {
    "collapsed": false
   }
  },
  {
   "cell_type": "code",
   "execution_count": 5,
   "outputs": [
    {
     "data": {
      "text/plain": "        article_id  sales_count\n0        706016001      50287.0\n1        706016002      35043.0\n2        372860001      31718.0\n3        610776002      30199.0\n4        759871002      26329.0\n...            ...          ...\n105537   926010001          0.0\n105538   896195002          0.0\n105539   917203001          0.0\n105540   917203003          0.0\n105541   959461001          0.0\n\n[105542 rows x 2 columns]",
      "text/html": "<div>\n<style scoped>\n    .dataframe tbody tr th:only-of-type {\n        vertical-align: middle;\n    }\n\n    .dataframe tbody tr th {\n        vertical-align: top;\n    }\n\n    .dataframe thead th {\n        text-align: right;\n    }\n</style>\n<table border=\"1\" class=\"dataframe\">\n  <thead>\n    <tr style=\"text-align: right;\">\n      <th></th>\n      <th>article_id</th>\n      <th>sales_count</th>\n    </tr>\n  </thead>\n  <tbody>\n    <tr>\n      <th>0</th>\n      <td>706016001</td>\n      <td>50287.0</td>\n    </tr>\n    <tr>\n      <th>1</th>\n      <td>706016002</td>\n      <td>35043.0</td>\n    </tr>\n    <tr>\n      <th>2</th>\n      <td>372860001</td>\n      <td>31718.0</td>\n    </tr>\n    <tr>\n      <th>3</th>\n      <td>610776002</td>\n      <td>30199.0</td>\n    </tr>\n    <tr>\n      <th>4</th>\n      <td>759871002</td>\n      <td>26329.0</td>\n    </tr>\n    <tr>\n      <th>...</th>\n      <td>...</td>\n      <td>...</td>\n    </tr>\n    <tr>\n      <th>105537</th>\n      <td>926010001</td>\n      <td>0.0</td>\n    </tr>\n    <tr>\n      <th>105538</th>\n      <td>896195002</td>\n      <td>0.0</td>\n    </tr>\n    <tr>\n      <th>105539</th>\n      <td>917203001</td>\n      <td>0.0</td>\n    </tr>\n    <tr>\n      <th>105540</th>\n      <td>917203003</td>\n      <td>0.0</td>\n    </tr>\n    <tr>\n      <th>105541</th>\n      <td>959461001</td>\n      <td>0.0</td>\n    </tr>\n  </tbody>\n</table>\n<p>105542 rows × 2 columns</p>\n</div>"
     },
     "execution_count": 5,
     "metadata": {},
     "output_type": "execute_result"
    }
   ],
   "source": [
    "sorted_articles = articles[[\"article_id\", \"sales_count\"]].sort_values(by=\"sales_count\", ascending=False)\n",
    "\n",
    "sorted_articles.reset_index(drop=True, inplace=True)\n",
    "sorted_articles"
   ],
   "metadata": {
    "collapsed": false,
    "ExecuteTime": {
     "end_time": "2024-01-26T22:47:34.088108Z",
     "start_time": "2024-01-26T22:47:34.072107900Z"
    }
   }
  },
  {
   "cell_type": "code",
   "execution_count": 6,
   "outputs": [
    {
     "data": {
      "text/plain": "<Figure size 640x480 with 1 Axes>",
      "image/png": "[encoded data removed]"
     },
     "metadata": {},
     "output_type": "display_data"
    },
    {
     "data": {
      "text/plain": "        article_id  sales_count\n0        706016001      50287.0\n1        706016002      35043.0\n2        372860001      31718.0\n3        610776002      30199.0\n4        759871002      26329.0\n...            ...          ...\n105537   926010001          0.0\n105538   896195002          0.0\n105539   917203001          0.0\n105540   917203003          0.0\n105541   959461001          0.0\n\n[105542 rows x 2 columns]",
      "text/html": "<div>\n<style scoped>\n    .dataframe tbody tr th:only-of-type {\n        vertical-align: middle;\n    }\n\n    .dataframe tbody tr th {\n        vertical-align: top;\n    }\n\n    .dataframe thead th {\n        text-align: right;\n    }\n</style>\n<table border=\"1\" class=\"dataframe\">\n  <thead>\n    <tr style=\"text-align: right;\">\n      <th></th>\n      <th>article_id</th>\n      <th>sales_count</th>\n    </tr>\n  </thead>\n  <tbody>\n    <tr>\n      <th>0</th>\n      <td>706016001</td>\n      <td>50287.0</td>\n    </tr>\n    <tr>\n      <th>1</th>\n      <td>706016002</td>\n      <td>35043.0</td>\n    </tr>\n    <tr>\n      <th>2</th>\n      <td>372860001</td>\n      <td>31718.0</td>\n    </tr>\n    <tr>\n      <th>3</th>\n      <td>610776002</td>\n      <td>30199.0</td>\n    </tr>\n    <tr>\n      <th>4</th>\n      <td>759871002</td>\n      <td>26329.0</td>\n    </tr>\n    <tr>\n      <th>...</th>\n      <td>...</td>\n      <td>...</td>\n    </tr>\n    <tr>\n      <th>105537</th>\n      <td>926010001</td>\n      <td>0.0</td>\n    </tr>\n    <tr>\n      <th>105538</th>\n      <td>896195002</td>\n      <td>0.0</td>\n    </tr>\n    <tr>\n      <th>105539</th>\n      <td>917203001</td>\n      <td>0.0</td>\n    </tr>\n    <tr>\n      <th>105540</th>\n      <td>917203003</td>\n      <td>0.0</td>\n    </tr>\n    <tr>\n      <th>105541</th>\n      <td>959461001</td>\n      <td>0.0</td>\n    </tr>\n  </tbody>\n</table>\n<p>105542 rows × 2 columns</p>\n</div>"
     },
     "execution_count": 6,
     "metadata": {},
     "output_type": "execute_result"
    }
   ],
   "source": [
    "sns.scatterplot(y=sorted_articles[\"sales_count\"], x=sorted_articles.index)\n",
    "# plt.gca().invert_xaxis()  # To reverse the x-axis\n",
    "\n",
    "plt.xlabel(\"Popularity rank\")\n",
    "plt.ylabel(\"Sales\")\n",
    "plt.show()\n",
    "\n",
    "plt.show()\n",
    "sorted_articles"
   ],
   "metadata": {
    "collapsed": false,
    "ExecuteTime": {
     "end_time": "2024-01-26T22:47:34.435607200Z",
     "start_time": "2024-01-26T22:47:34.090106900Z"
    }
   }
  },
  {
   "cell_type": "markdown",
   "source": [
    "The scatterplot shows us that there's a select few in the short head part, while a huge amount is in the long tail part."
   ],
   "metadata": {
    "collapsed": false
   }
  },
  {
   "cell_type": "markdown",
   "source": [
    "# Candidate Generation"
   ],
   "metadata": {
    "collapsed": false
   }
  },
  {
   "cell_type": "code",
   "execution_count": 7,
   "outputs": [],
   "source": [
    "test_week = transactions.week.max() + 1\n",
    "transactions = transactions[transactions.week > transactions.week.max() - 10]"
   ],
   "metadata": {
    "collapsed": false,
    "ExecuteTime": {
     "end_time": "2024-01-26T22:47:34.629106900Z",
     "start_time": "2024-01-26T22:47:34.434108100Z"
    }
   }
  },
  {
   "cell_type": "markdown",
   "source": [
    "### Last purchase candidates"
   ],
   "metadata": {
    "collapsed": false
   }
  },
  {
   "cell_type": "code",
   "execution_count": 8,
   "outputs": [
    {
     "name": "stdout",
     "output_type": "stream",
     "text": [
      "CPU times: total: 25.3 s\n",
      "Wall time: 25.4 s\n"
     ]
    }
   ],
   "source": [
    "%%time\n",
    "\n",
    "c2weeks = transactions.groupby('customer_id')['week'].unique()\n",
    "transactions.groupby('week')['t_dat'].agg(['min', 'max'])\n",
    "\n",
    "c2weeks2shifted_weeks = {}\n",
    "\n",
    "for c_id, weeks in c2weeks.items():\n",
    "    c2weeks2shifted_weeks[c_id] = {}\n",
    "    for i in range(weeks.shape[0]-1):\n",
    "        c2weeks2shifted_weeks[c_id][weeks[i]] = weeks[i+1]\n",
    "    c2weeks2shifted_weeks[c_id][weeks[-1]] = test_week\n",
    "    \n",
    "candidates_last_purchase = transactions.copy()\n",
    "\n",
    "weeks = []\n",
    "for i, (c_id, week) in enumerate(zip(transactions['customer_id'], transactions['week'])):\n",
    "    weeks.append(c2weeks2shifted_weeks[c_id][week])\n",
    "    \n",
    "candidates_last_purchase.week=weeks"
   ],
   "metadata": {
    "collapsed": false,
    "ExecuteTime": {
     "end_time": "2024-01-26T22:48:00.017108Z",
     "start_time": "2024-01-26T22:47:34.630606800Z"
    }
   }
  },
  {
   "cell_type": "markdown",
   "source": [
    "### Bestsellers candidates"
   ],
   "metadata": {
    "collapsed": false
   }
  },
  {
   "cell_type": "code",
   "execution_count": 9,
   "outputs": [],
   "source": [
    "mean_price = transactions \\\n",
    ".groupby(['week', 'article_id'])['price'].mean()"
   ],
   "metadata": {
    "collapsed": false,
    "ExecuteTime": {
     "end_time": "2024-01-26T22:48:00.198108200Z",
     "start_time": "2024-01-26T22:48:00.015108300Z"
    }
   }
  },
  {
   "cell_type": "code",
   "execution_count": 10,
   "outputs": [
    {
     "data": {
      "text/plain": "week  article_id\n95    108775015     0.004729\n      108775044     0.008458\n      110065001     0.006085\n      110065002     0.006085\n      111565001     0.004288\n                      ...   \n104   952267001     0.013732\n      952938001     0.048651\n      953450001     0.016932\n      953763001     0.021885\n      956217002     0.059068\nName: price, Length: 196880, dtype: float32"
     },
     "execution_count": 10,
     "metadata": {},
     "output_type": "execute_result"
    }
   ],
   "source": [
    "mean_price"
   ],
   "metadata": {
    "collapsed": false,
    "ExecuteTime": {
     "end_time": "2024-01-26T22:48:00.203606600Z",
     "start_time": "2024-01-26T22:48:00.199608500Z"
    }
   }
  },
  {
   "cell_type": "code",
   "execution_count": 11,
   "outputs": [],
   "source": [
    "sales = transactions \\\n",
    "    .groupby('week')['article_id'].value_counts() \\\n",
    "    .groupby('week').rank(method='dense', ascending=False) \\\n",
    "    .groupby('week').head(12).rename('bestseller_rank').astype('int8')"
   ],
   "metadata": {
    "collapsed": false,
    "ExecuteTime": {
     "end_time": "2024-01-26T22:48:00.426608800Z",
     "start_time": "2024-01-26T22:48:00.205107700Z"
    }
   }
  },
  {
   "cell_type": "code",
   "execution_count": 12,
   "outputs": [
    {
     "data": {
      "text/plain": "week  article_id\n95    760084003      1\n      866731001      2\n      600886001      3\n      706016001      4\n      372860002      5\n                    ..\n104   915529003      8\n      915529005      9\n      448509014     10\n      762846027     11\n      714790020     12\nName: bestseller_rank, Length: 120, dtype: int8"
     },
     "execution_count": 12,
     "metadata": {},
     "output_type": "execute_result"
    }
   ],
   "source": [
    "sales"
   ],
   "metadata": {
    "collapsed": false,
    "ExecuteTime": {
     "end_time": "2024-01-26T22:48:00.470106500Z",
     "start_time": "2024-01-26T22:48:00.427607700Z"
    }
   }
  },
  {
   "cell_type": "code",
   "execution_count": 13,
   "outputs": [],
   "source": [
    "sales_frame = sales.to_frame().reset_index() # DataFrame is easier to use than Series (from Radek), so I'll use this from now on\n"
   ],
   "metadata": {
    "collapsed": false,
    "ExecuteTime": {
     "end_time": "2024-01-26T22:48:00.470106500Z",
     "start_time": "2024-01-26T22:48:00.461607600Z"
    }
   }
  },
  {
   "cell_type": "code",
   "execution_count": 14,
   "outputs": [],
   "source": [
    "sales_frame = sales_frame.merge(articles[[\"article_id\", \"long_tail\"]], on=\"article_id\", how=\"inner\")"
   ],
   "metadata": {
    "collapsed": false,
    "ExecuteTime": {
     "end_time": "2024-01-26T22:48:00.486608500Z",
     "start_time": "2024-01-26T22:48:00.467108500Z"
    }
   }
  },
  {
   "cell_type": "code",
   "execution_count": 15,
   "outputs": [
    {
     "data": {
      "text/plain": "long_tail\n0    84\n1    36\nName: count, dtype: int64"
     },
     "execution_count": 15,
     "metadata": {},
     "output_type": "execute_result"
    }
   ],
   "source": [
    "sales_frame[\"long_tail\"].value_counts()\n"
   ],
   "metadata": {
    "collapsed": false,
    "ExecuteTime": {
     "end_time": "2024-01-26T22:48:00.487108900Z",
     "start_time": "2024-01-26T22:48:00.481607500Z"
    }
   }
  },
  {
   "cell_type": "markdown",
   "source": [
    "### Personalizing candidates: KNN"
   ],
   "metadata": {
    "collapsed": false
   }
  },
  {
   "cell_type": "markdown",
   "source": [
    "We now have to personalize these candidates for users who bought Long Tail item(s) previously. Radek uses popular items from the last week (=test week) to recommend to all users, even those who didn't make purchases, hence the candidate generation for the test week will remain unchanged."
   ],
   "metadata": {
    "collapsed": false
   }
  },
  {
   "cell_type": "code",
   "execution_count": 16,
   "outputs": [
    {
     "data": {
      "text/plain": "              t_dat           customer_id  article_id     price  \\\n29030503 2020-07-15       272412481300040   778064028  0.008458   \n29030504 2020-07-15       272412481300040   816592008  0.016932   \n29030505 2020-07-15       272412481300040   621381021  0.033881   \n29030506 2020-07-15       272412481300040   817477003  0.025407   \n29030507 2020-07-15       272412481300040   899088002  0.025407   \n...             ...                   ...         ...       ...   \n31774722 2020-09-22  18439937050817258297   891591003  0.084729   \n31774723 2020-09-22  18439937050817258297   869706005  0.084729   \n31779097 2020-09-22  18440902715633436014   918894002  0.016932   \n31779098 2020-09-22  18440902715633436014   761269001  0.016932   \n31780475 2020-09-22  18443633011701112574   914868002  0.033881   \n\n          sales_channel_id  week  \n29030503                 1    95  \n29030504                 1    95  \n29030505                 1    95  \n29030506                 1    95  \n29030507                 1    95  \n...                    ...   ...  \n31774722                 2   104  \n31774723                 2   104  \n31779097                 1   104  \n31779098                 1   104  \n31780475                 1   104  \n\n[2762872 rows x 6 columns]",
      "text/html": "<div>\n<style scoped>\n    .dataframe tbody tr th:only-of-type {\n        vertical-align: middle;\n    }\n\n    .dataframe tbody tr th {\n        vertical-align: top;\n    }\n\n    .dataframe thead th {\n        text-align: right;\n    }\n</style>\n<table border=\"1\" class=\"dataframe\">\n  <thead>\n    <tr style=\"text-align: right;\">\n      <th></th>\n      <th>t_dat</th>\n      <th>customer_id</th>\n      <th>article_id</th>\n      <th>price</th>\n      <th>sales_channel_id</th>\n      <th>week</th>\n    </tr>\n  </thead>\n  <tbody>\n    <tr>\n      <th>29030503</th>\n      <td>2020-07-15</td>\n      <td>272412481300040</td>\n      <td>778064028</td>\n      <td>0.008458</td>\n      <td>1</td>\n      <td>95</td>\n    </tr>\n    <tr>\n      <th>29030504</th>\n      <td>2020-07-15</td>\n      <td>272412481300040</td>\n      <td>816592008</td>\n      <td>0.016932</td>\n      <td>1</td>\n      <td>95</td>\n    </tr>\n    <tr>\n      <th>29030505</th>\n      <td>2020-07-15</td>\n      <td>272412481300040</td>\n      <td>621381021</td>\n      <td>0.033881</td>\n      <td>1</td>\n      <td>95</td>\n    </tr>\n    <tr>\n      <th>29030506</th>\n      <td>2020-07-15</td>\n      <td>272412481300040</td>\n      <td>817477003</td>\n      <td>0.025407</td>\n      <td>1</td>\n      <td>95</td>\n    </tr>\n    <tr>\n      <th>29030507</th>\n      <td>2020-07-15</td>\n      <td>272412481300040</td>\n      <td>899088002</td>\n      <td>0.025407</td>\n      <td>1</td>\n      <td>95</td>\n    </tr>\n    <tr>\n      <th>...</th>\n      <td>...</td>\n      <td>...</td>\n      <td>...</td>\n      <td>...</td>\n      <td>...</td>\n      <td>...</td>\n    </tr>\n    <tr>\n      <th>31774722</th>\n      <td>2020-09-22</td>\n      <td>18439937050817258297</td>\n      <td>891591003</td>\n      <td>0.084729</td>\n      <td>2</td>\n      <td>104</td>\n    </tr>\n    <tr>\n      <th>31774723</th>\n      <td>2020-09-22</td>\n      <td>18439937050817258297</td>\n      <td>869706005</td>\n      <td>0.084729</td>\n      <td>2</td>\n      <td>104</td>\n    </tr>\n    <tr>\n      <th>31779097</th>\n      <td>2020-09-22</td>\n      <td>18440902715633436014</td>\n      <td>918894002</td>\n      <td>0.016932</td>\n      <td>1</td>\n      <td>104</td>\n    </tr>\n    <tr>\n      <th>31779098</th>\n      <td>2020-09-22</td>\n      <td>18440902715633436014</td>\n      <td>761269001</td>\n      <td>0.016932</td>\n      <td>1</td>\n      <td>104</td>\n    </tr>\n    <tr>\n      <th>31780475</th>\n      <td>2020-09-22</td>\n      <td>18443633011701112574</td>\n      <td>914868002</td>\n      <td>0.033881</td>\n      <td>1</td>\n      <td>104</td>\n    </tr>\n  </tbody>\n</table>\n<p>2762872 rows × 6 columns</p>\n</div>"
     },
     "execution_count": 16,
     "metadata": {},
     "output_type": "execute_result"
    }
   ],
   "source": [
    "transactions"
   ],
   "metadata": {
    "collapsed": false,
    "ExecuteTime": {
     "end_time": "2024-01-26T22:48:00.507108600Z",
     "start_time": "2024-01-26T22:48:00.486608500Z"
    }
   }
  },
  {
   "cell_type": "code",
   "execution_count": 17,
   "outputs": [
    {
     "data": {
      "text/plain": "        index  article_id  sales_count           customer_id  week\n0       87446   827907001       2000.0   1155273576847131497    95\n1       87446   827907001       2000.0   1544020276116048112    95\n2       87446   827907001       2000.0   2709255152936586007    95\n3       87446   827907001       2000.0   5392980473272375639    95\n4       87446   827907001       2000.0   5794016310180579503    95\n...       ...         ...          ...                   ...   ...\n120828  83833   813538002       1658.0   4314880535793909958   103\n120829  83833   813538002       1658.0   9905136349707104371   103\n120830  83833   813538002       1658.0  10091711478649023356   103\n120831  83833   813538002       1658.0  12380247308394758761   103\n120832  83833   813538002       1658.0  11391775260805284296   104\n\n[120833 rows x 5 columns]",
      "text/html": "<div>\n<style scoped>\n    .dataframe tbody tr th:only-of-type {\n        vertical-align: middle;\n    }\n\n    .dataframe tbody tr th {\n        vertical-align: top;\n    }\n\n    .dataframe thead th {\n        text-align: right;\n    }\n</style>\n<table border=\"1\" class=\"dataframe\">\n  <thead>\n    <tr style=\"text-align: right;\">\n      <th></th>\n      <th>index</th>\n      <th>article_id</th>\n      <th>sales_count</th>\n      <th>customer_id</th>\n      <th>week</th>\n    </tr>\n  </thead>\n  <tbody>\n    <tr>\n      <th>0</th>\n      <td>87446</td>\n      <td>827907001</td>\n      <td>2000.0</td>\n      <td>1155273576847131497</td>\n      <td>95</td>\n    </tr>\n    <tr>\n      <th>1</th>\n      <td>87446</td>\n      <td>827907001</td>\n      <td>2000.0</td>\n      <td>1544020276116048112</td>\n      <td>95</td>\n    </tr>\n    <tr>\n      <th>2</th>\n      <td>87446</td>\n      <td>827907001</td>\n      <td>2000.0</td>\n      <td>2709255152936586007</td>\n      <td>95</td>\n    </tr>\n    <tr>\n      <th>3</th>\n      <td>87446</td>\n      <td>827907001</td>\n      <td>2000.0</td>\n      <td>5392980473272375639</td>\n      <td>95</td>\n    </tr>\n    <tr>\n      <th>4</th>\n      <td>87446</td>\n      <td>827907001</td>\n      <td>2000.0</td>\n      <td>5794016310180579503</td>\n      <td>95</td>\n    </tr>\n    <tr>\n      <th>...</th>\n      <td>...</td>\n      <td>...</td>\n      <td>...</td>\n      <td>...</td>\n      <td>...</td>\n    </tr>\n    <tr>\n      <th>120828</th>\n      <td>83833</td>\n      <td>813538002</td>\n      <td>1658.0</td>\n      <td>4314880535793909958</td>\n      <td>103</td>\n    </tr>\n    <tr>\n      <th>120829</th>\n      <td>83833</td>\n      <td>813538002</td>\n      <td>1658.0</td>\n      <td>9905136349707104371</td>\n      <td>103</td>\n    </tr>\n    <tr>\n      <th>120830</th>\n      <td>83833</td>\n      <td>813538002</td>\n      <td>1658.0</td>\n      <td>10091711478649023356</td>\n      <td>103</td>\n    </tr>\n    <tr>\n      <th>120831</th>\n      <td>83833</td>\n      <td>813538002</td>\n      <td>1658.0</td>\n      <td>12380247308394758761</td>\n      <td>103</td>\n    </tr>\n    <tr>\n      <th>120832</th>\n      <td>83833</td>\n      <td>813538002</td>\n      <td>1658.0</td>\n      <td>11391775260805284296</td>\n      <td>104</td>\n    </tr>\n  </tbody>\n</table>\n<p>120833 rows × 5 columns</p>\n</div>"
     },
     "execution_count": 17,
     "metadata": {},
     "output_type": "execute_result"
    }
   ],
   "source": [
    "top_long_tail = articles[articles[\"long_tail\"]==1][[\"article_id\", \"sales_count\"]].sort_values(by=\"sales_count\", ascending=False).head(1000).reset_index()\n",
    "top_long_tail_transactions = top_long_tail.merge(transactions[[\"article_id\", \"customer_id\", \"week\"]], on='article_id', how='inner') # inner drops row if article never bought\n",
    "\n",
    "top_long_tail_transactions"
   ],
   "metadata": {
    "collapsed": false,
    "ExecuteTime": {
     "end_time": "2024-01-26T22:48:00.687606700Z",
     "start_time": "2024-01-26T22:48:00.494608200Z"
    }
   }
  },
  {
   "cell_type": "markdown",
   "source": [
    "To make this computationally less expensive, I will take the most popular long tail item purchase per user"
   ],
   "metadata": {
    "collapsed": false
   }
  },
  {
   "cell_type": "code",
   "execution_count": 18,
   "outputs": [],
   "source": [
    "top_long_tail_transaction_per_user = top_long_tail_transactions.groupby([\"customer_id\", \"week\"]).head(1)"
   ],
   "metadata": {
    "collapsed": false,
    "ExecuteTime": {
     "end_time": "2024-01-26T22:48:00.764106300Z",
     "start_time": "2024-01-26T22:48:00.686108100Z"
    }
   }
  },
  {
   "cell_type": "markdown",
   "source": [
    "Now we have a list of top long tail purchases per user and week. For example, a user bought 2 items part of the top 1000 in 2 different weeks:"
   ],
   "metadata": {
    "collapsed": false
   }
  },
  {
   "cell_type": "code",
   "execution_count": 19,
   "outputs": [
    {
     "data": {
      "text/plain": "        index  article_id  sales_count           customer_id  week\n0       87446   827907001       2000.0   1155273576847131497    95\n1       87446   827907001       2000.0   1544020276116048112    95\n2       87446   827907001       2000.0   2709255152936586007    95\n3       87446   827907001       2000.0   5392980473272375639    95\n4       87446   827907001       2000.0   5794016310180579503    95\n...       ...         ...          ...                   ...   ...\n120827  83833   813538002       1658.0  12043416092198402164   103\n120828  83833   813538002       1658.0   4314880535793909958   103\n120830  83833   813538002       1658.0  10091711478649023356   103\n120831  83833   813538002       1658.0  12380247308394758761   103\n120832  83833   813538002       1658.0  11391775260805284296   104\n\n[97547 rows x 5 columns]",
      "text/html": "<div>\n<style scoped>\n    .dataframe tbody tr th:only-of-type {\n        vertical-align: middle;\n    }\n\n    .dataframe tbody tr th {\n        vertical-align: top;\n    }\n\n    .dataframe thead th {\n        text-align: right;\n    }\n</style>\n<table border=\"1\" class=\"dataframe\">\n  <thead>\n    <tr style=\"text-align: right;\">\n      <th></th>\n      <th>index</th>\n      <th>article_id</th>\n      <th>sales_count</th>\n      <th>customer_id</th>\n      <th>week</th>\n    </tr>\n  </thead>\n  <tbody>\n    <tr>\n      <th>0</th>\n      <td>87446</td>\n      <td>827907001</td>\n      <td>2000.0</td>\n      <td>1155273576847131497</td>\n      <td>95</td>\n    </tr>\n    <tr>\n      <th>1</th>\n      <td>87446</td>\n      <td>827907001</td>\n      <td>2000.0</td>\n      <td>1544020276116048112</td>\n      <td>95</td>\n    </tr>\n    <tr>\n      <th>2</th>\n      <td>87446</td>\n      <td>827907001</td>\n      <td>2000.0</td>\n      <td>2709255152936586007</td>\n      <td>95</td>\n    </tr>\n    <tr>\n      <th>3</th>\n      <td>87446</td>\n      <td>827907001</td>\n      <td>2000.0</td>\n      <td>5392980473272375639</td>\n      <td>95</td>\n    </tr>\n    <tr>\n      <th>4</th>\n      <td>87446</td>\n      <td>827907001</td>\n      <td>2000.0</td>\n      <td>5794016310180579503</td>\n      <td>95</td>\n    </tr>\n    <tr>\n      <th>...</th>\n      <td>...</td>\n      <td>...</td>\n      <td>...</td>\n      <td>...</td>\n      <td>...</td>\n    </tr>\n    <tr>\n      <th>120827</th>\n      <td>83833</td>\n      <td>813538002</td>\n      <td>1658.0</td>\n      <td>12043416092198402164</td>\n      <td>103</td>\n    </tr>\n    <tr>\n      <th>120828</th>\n      <td>83833</td>\n      <td>813538002</td>\n      <td>1658.0</td>\n      <td>4314880535793909958</td>\n      <td>103</td>\n    </tr>\n    <tr>\n      <th>120830</th>\n      <td>83833</td>\n      <td>813538002</td>\n      <td>1658.0</td>\n      <td>10091711478649023356</td>\n      <td>103</td>\n    </tr>\n    <tr>\n      <th>120831</th>\n      <td>83833</td>\n      <td>813538002</td>\n      <td>1658.0</td>\n      <td>12380247308394758761</td>\n      <td>103</td>\n    </tr>\n    <tr>\n      <th>120832</th>\n      <td>83833</td>\n      <td>813538002</td>\n      <td>1658.0</td>\n      <td>11391775260805284296</td>\n      <td>104</td>\n    </tr>\n  </tbody>\n</table>\n<p>97547 rows × 5 columns</p>\n</div>"
     },
     "execution_count": 19,
     "metadata": {},
     "output_type": "execute_result"
    }
   ],
   "source": [
    "top_long_tail_transaction_per_user\n"
   ],
   "metadata": {
    "collapsed": false,
    "ExecuteTime": {
     "end_time": "2024-01-26T22:48:00.780607100Z",
     "start_time": "2024-01-26T22:48:00.722607600Z"
    }
   }
  },
  {
   "cell_type": "code",
   "execution_count": 20,
   "outputs": [
    {
     "data": {
      "text/plain": "customer_id\n845940109071444979      1\n4849593994785800338     1\n14540883457586789388    1\n15194933563374499573    1\n16463112080382572093    1\n                       ..\n3428687595783783237     1\n6253896767976887253     1\n7938846267417496365     1\n12193395328291788780    1\n17910290199070732775    1\nName: count, Length: 11838, dtype: int64"
     },
     "execution_count": 20,
     "metadata": {},
     "output_type": "execute_result"
    }
   ],
   "source": [
    "top_long_tail_transaction_per_user[top_long_tail_transaction_per_user[\"week\"]==96][\"customer_id\"].value_counts()\n"
   ],
   "metadata": {
    "collapsed": false,
    "ExecuteTime": {
     "end_time": "2024-01-26T22:48:00.781106900Z",
     "start_time": "2024-01-26T22:48:00.730107500Z"
    }
   }
  },
  {
   "cell_type": "code",
   "execution_count": 21,
   "outputs": [
    {
     "data": {
      "text/plain": "Empty DataFrame\nColumns: [t_dat, customer_id, article_id, price, sales_channel_id, week]\nIndex: []",
      "text/html": "<div>\n<style scoped>\n    .dataframe tbody tr th:only-of-type {\n        vertical-align: middle;\n    }\n\n    .dataframe tbody tr th {\n        vertical-align: top;\n    }\n\n    .dataframe thead th {\n        text-align: right;\n    }\n</style>\n<table border=\"1\" class=\"dataframe\">\n  <thead>\n    <tr style=\"text-align: right;\">\n      <th></th>\n      <th>t_dat</th>\n      <th>customer_id</th>\n      <th>article_id</th>\n      <th>price</th>\n      <th>sales_channel_id</th>\n      <th>week</th>\n    </tr>\n  </thead>\n  <tbody>\n  </tbody>\n</table>\n</div>"
     },
     "execution_count": 21,
     "metadata": {},
     "output_type": "execute_result"
    }
   ],
   "source": [
    "transactions[transactions[\"customer_id\"]==107976824977578416]"
   ],
   "metadata": {
    "collapsed": false,
    "ExecuteTime": {
     "end_time": "2024-01-26T22:48:00.795106700Z",
     "start_time": "2024-01-26T22:48:00.736107200Z"
    }
   }
  },
  {
   "cell_type": "markdown",
   "source": [
    "### K-Nearest Neighbours"
   ],
   "metadata": {
    "collapsed": false
   }
  },
  {
   "cell_type": "markdown",
   "source": [
    "We will replace top k bestseller items with k personalized long tail items."
   ],
   "metadata": {
    "collapsed": false
   }
  },
  {
   "cell_type": "markdown",
   "source": [
    "Step 1: Create user-item interaction matrix"
   ],
   "metadata": {
    "collapsed": false
   }
  },
  {
   "cell_type": "code",
   "execution_count": 22,
   "outputs": [
    {
     "data": {
      "text/plain": "                           index                                            \\\ncustomer_id 116809474287335      272412481300040      330092272649261        \narticle_id                                                                   \n153115021                      0                    0                    0   \n156227001                      0                    0                    0   \n188183016                      0                    0                    0   \n214844003                      0                    0                    0   \n228257004                      0                    0                    0   \n...                          ...                  ...                  ...   \n913030001                      0                    0                    0   \n915529001                      0                    0                    0   \n918292004                      0                    0                    0   \n918522001                      0                    0                    0   \n924243001                      0                    0                    0   \n\n                                                                            \\\ncustomer_id 690285180337957      745180086074610      879819981624203        \narticle_id                                                                   \n153115021                      0                    0                    0   \n156227001                      0                    0                    0   \n188183016                      0                    0                    0   \n214844003                      0                    0                    0   \n228257004                      0                    0                    0   \n...                          ...                  ...                  ...   \n913030001                      0                    0                    0   \n915529001                      1                    0                    0   \n918292004                      0                    0                    0   \n918522001                      0                    0                    0   \n924243001                      0                    0                    0   \n\n                                                                            \\\ncustomer_id 1296218836199721     1394073833551710     1773900972412728       \narticle_id                                                                   \n153115021                      0                    0                    0   \n156227001                      0                    0                    0   \n188183016                      0                    0                    0   \n214844003                      0                    0                    0   \n228257004                      0                    0                    0   \n...                          ...                  ...                  ...   \n913030001                      0                    0                    0   \n915529001                      0                    0                    0   \n918292004                      0                    0                    0   \n918522001                      0                    0                    0   \n924243001                      0                    0                    0   \n\n                                  ...                 week  \\\ncustomer_id 1905990147027598      ... 18443414166633689256   \narticle_id                        ...                        \n153115021                      0  ...                    0   \n156227001                      0  ...                    0   \n188183016                      0  ...                    0   \n214844003                      0  ...                    0   \n228257004                      0  ...                    0   \n...                          ...  ...                  ...   \n913030001                      0  ...                    0   \n915529001                      0  ...                    0   \n918292004                      1  ...                    0   \n918522001                      0  ...                    0   \n924243001                      0  ...                    0   \n\n                                                                            \\\ncustomer_id 18444040847486084907 18444212647743429500 18445412194736247951   \narticle_id                                                                   \n153115021                      0                    0                    0   \n156227001                      0                    0                    0   \n188183016                      0                    0                    0   \n214844003                      0                    0                    0   \n228257004                      0                    0                    0   \n...                          ...                  ...                  ...   \n913030001                      0                    0                    0   \n915529001                      0                    0                    0   \n918292004                      0                    0                    0   \n918522001                      0                    0                    0   \n924243001                      0                    0                    0   \n\n                                                                            \\\ncustomer_id 18445692600011570228 18445869016569286805 18445903880167013488   \narticle_id                                                                   \n153115021                      0                    0                    0   \n156227001                      0                    0                    0   \n188183016                      0                    0                    0   \n214844003                      0                    0                    0   \n228257004                      0                    0                    0   \n...                          ...                  ...                  ...   \n913030001                      0                    0                    0   \n915529001                      0                    0                    0   \n918292004                      0                    0                    0   \n918522001                      0                    0                    0   \n924243001                      0                    0                    0   \n\n                                                                            \ncustomer_id 18446420423308293068 18446590778427270109 18446624797007271432  \narticle_id                                                                  \n153115021                      0                    0                    0  \n156227001                      0                    0                    0  \n188183016                      0                    0                    0  \n214844003                      0                    0                    0  \n228257004                      0                    0                    0  \n...                          ...                  ...                  ...  \n913030001                      0                    0                    0  \n915529001                      0                    0                    0  \n918292004                      0                    0                    0  \n918522001                      0                    0                    0  \n924243001                      0                    0                    0  \n\n[714 rows x 260781 columns]",
      "text/html": "<div>\n<style scoped>\n    .dataframe tbody tr th:only-of-type {\n        vertical-align: middle;\n    }\n\n    .dataframe tbody tr th {\n        vertical-align: top;\n    }\n\n    .dataframe thead tr th {\n        text-align: left;\n    }\n\n    .dataframe thead tr:last-of-type th {\n        text-align: right;\n    }\n</style>\n<table border=\"1\" class=\"dataframe\">\n  <thead>\n    <tr>\n      <th></th>\n      <th colspan=\"10\" halign=\"left\">index</th>\n      <th>...</th>\n      <th colspan=\"10\" halign=\"left\">week</th>\n    </tr>\n    <tr>\n      <th>customer_id</th>\n      <th>116809474287335</th>\n      <th>272412481300040</th>\n      <th>330092272649261</th>\n      <th>690285180337957</th>\n      <th>745180086074610</th>\n      <th>879819981624203</th>\n      <th>1296218836199721</th>\n      <th>1394073833551710</th>\n      <th>1773900972412728</th>\n      <th>1905990147027598</th>\n      <th>...</th>\n      <th>18443414166633689256</th>\n      <th>18444040847486084907</th>\n      <th>18444212647743429500</th>\n      <th>18445412194736247951</th>\n      <th>18445692600011570228</th>\n      <th>18445869016569286805</th>\n      <th>18445903880167013488</th>\n      <th>18446420423308293068</th>\n      <th>18446590778427270109</th>\n      <th>18446624797007271432</th>\n    </tr>\n    <tr>\n      <th>article_id</th>\n      <th></th>\n      <th></th>\n      <th></th>\n      <th></th>\n      <th></th>\n      <th></th>\n      <th></th>\n      <th></th>\n      <th></th>\n      <th></th>\n      <th></th>\n      <th></th>\n      <th></th>\n      <th></th>\n      <th></th>\n      <th></th>\n      <th></th>\n      <th></th>\n      <th></th>\n      <th></th>\n      <th></th>\n    </tr>\n  </thead>\n  <tbody>\n    <tr>\n      <th>153115021</th>\n      <td>0</td>\n      <td>0</td>\n      <td>0</td>\n      <td>0</td>\n      <td>0</td>\n      <td>0</td>\n      <td>0</td>\n      <td>0</td>\n      <td>0</td>\n      <td>0</td>\n      <td>...</td>\n      <td>0</td>\n      <td>0</td>\n      <td>0</td>\n      <td>0</td>\n      <td>0</td>\n      <td>0</td>\n      <td>0</td>\n      <td>0</td>\n      <td>0</td>\n      <td>0</td>\n    </tr>\n    <tr>\n      <th>156227001</th>\n      <td>0</td>\n      <td>0</td>\n      <td>0</td>\n      <td>0</td>\n      <td>0</td>\n      <td>0</td>\n      <td>0</td>\n      <td>0</td>\n      <td>0</td>\n      <td>0</td>\n      <td>...</td>\n      <td>0</td>\n      <td>0</td>\n      <td>0</td>\n      <td>0</td>\n      <td>0</td>\n      <td>0</td>\n      <td>0</td>\n      <td>0</td>\n      <td>0</td>\n      <td>0</td>\n    </tr>\n    <tr>\n      <th>188183016</th>\n      <td>0</td>\n      <td>0</td>\n      <td>0</td>\n      <td>0</td>\n      <td>0</td>\n      <td>0</td>\n      <td>0</td>\n      <td>0</td>\n      <td>0</td>\n      <td>0</td>\n      <td>...</td>\n      <td>0</td>\n      <td>0</td>\n      <td>0</td>\n      <td>0</td>\n      <td>0</td>\n      <td>0</td>\n      <td>0</td>\n      <td>0</td>\n      <td>0</td>\n      <td>0</td>\n    </tr>\n    <tr>\n      <th>214844003</th>\n      <td>0</td>\n      <td>0</td>\n      <td>0</td>\n      <td>0</td>\n      <td>0</td>\n      <td>0</td>\n      <td>0</td>\n      <td>0</td>\n      <td>0</td>\n      <td>0</td>\n      <td>...</td>\n      <td>0</td>\n      <td>0</td>\n      <td>0</td>\n      <td>0</td>\n      <td>0</td>\n      <td>0</td>\n      <td>0</td>\n      <td>0</td>\n      <td>0</td>\n      <td>0</td>\n    </tr>\n    <tr>\n      <th>228257004</th>\n      <td>0</td>\n      <td>0</td>\n      <td>0</td>\n      <td>0</td>\n      <td>0</td>\n      <td>0</td>\n      <td>0</td>\n      <td>0</td>\n      <td>0</td>\n      <td>0</td>\n      <td>...</td>\n      <td>0</td>\n      <td>0</td>\n      <td>0</td>\n      <td>0</td>\n      <td>0</td>\n      <td>0</td>\n      <td>0</td>\n      <td>0</td>\n      <td>0</td>\n      <td>0</td>\n    </tr>\n    <tr>\n      <th>...</th>\n      <td>...</td>\n      <td>...</td>\n      <td>...</td>\n      <td>...</td>\n      <td>...</td>\n      <td>...</td>\n      <td>...</td>\n      <td>...</td>\n      <td>...</td>\n      <td>...</td>\n      <td>...</td>\n      <td>...</td>\n      <td>...</td>\n      <td>...</td>\n      <td>...</td>\n      <td>...</td>\n      <td>...</td>\n      <td>...</td>\n      <td>...</td>\n      <td>...</td>\n      <td>...</td>\n    </tr>\n    <tr>\n      <th>913030001</th>\n      <td>0</td>\n      <td>0</td>\n      <td>0</td>\n      <td>0</td>\n      <td>0</td>\n      <td>0</td>\n      <td>0</td>\n      <td>0</td>\n      <td>0</td>\n      <td>0</td>\n      <td>...</td>\n      <td>0</td>\n      <td>0</td>\n      <td>0</td>\n      <td>0</td>\n      <td>0</td>\n      <td>0</td>\n      <td>0</td>\n      <td>0</td>\n      <td>0</td>\n      <td>0</td>\n    </tr>\n    <tr>\n      <th>915529001</th>\n      <td>0</td>\n      <td>0</td>\n      <td>0</td>\n      <td>1</td>\n      <td>0</td>\n      <td>0</td>\n      <td>0</td>\n      <td>0</td>\n      <td>0</td>\n      <td>0</td>\n      <td>...</td>\n      <td>0</td>\n      <td>0</td>\n      <td>0</td>\n      <td>0</td>\n      <td>0</td>\n      <td>0</td>\n      <td>0</td>\n      <td>0</td>\n      <td>0</td>\n      <td>0</td>\n    </tr>\n    <tr>\n      <th>918292004</th>\n      <td>0</td>\n      <td>0</td>\n      <td>0</td>\n      <td>0</td>\n      <td>0</td>\n      <td>0</td>\n      <td>0</td>\n      <td>0</td>\n      <td>0</td>\n      <td>1</td>\n      <td>...</td>\n      <td>0</td>\n      <td>0</td>\n      <td>0</td>\n      <td>0</td>\n      <td>0</td>\n      <td>0</td>\n      <td>0</td>\n      <td>0</td>\n      <td>0</td>\n      <td>0</td>\n    </tr>\n    <tr>\n      <th>918522001</th>\n      <td>0</td>\n      <td>0</td>\n      <td>0</td>\n      <td>0</td>\n      <td>0</td>\n      <td>0</td>\n      <td>0</td>\n      <td>0</td>\n      <td>0</td>\n      <td>0</td>\n      <td>...</td>\n      <td>0</td>\n      <td>0</td>\n      <td>0</td>\n      <td>0</td>\n      <td>0</td>\n      <td>0</td>\n      <td>0</td>\n      <td>0</td>\n      <td>0</td>\n      <td>0</td>\n    </tr>\n    <tr>\n      <th>924243001</th>\n      <td>0</td>\n      <td>0</td>\n      <td>0</td>\n      <td>0</td>\n      <td>0</td>\n      <td>0</td>\n      <td>0</td>\n      <td>0</td>\n      <td>0</td>\n      <td>0</td>\n      <td>...</td>\n      <td>0</td>\n      <td>0</td>\n      <td>0</td>\n      <td>0</td>\n      <td>0</td>\n      <td>0</td>\n      <td>0</td>\n      <td>0</td>\n      <td>0</td>\n      <td>0</td>\n    </tr>\n  </tbody>\n</table>\n<p>714 rows × 260781 columns</p>\n</div>"
     },
     "execution_count": 22,
     "metadata": {},
     "output_type": "execute_result"
    }
   ],
   "source": [
    "# interaction matrix will give cell a value of 1 if user interacted with an item\n",
    "top_long_tail_interactions_matrix=top_long_tail_transaction_per_user.pivot_table(index=\"article_id\", columns=\"customer_id\", aggfunc=lambda x: 1, fill_value=0) \n",
    "top_long_tail_interactions_matrix"
   ],
   "metadata": {
    "collapsed": false,
    "ExecuteTime": {
     "end_time": "2024-01-26T22:48:04.587107400Z",
     "start_time": "2024-01-26T22:48:00.744607800Z"
    }
   }
  },
  {
   "cell_type": "markdown",
   "source": [
    "Amount of 1's in matrix:"
   ],
   "metadata": {
    "collapsed": false
   }
  },
  {
   "cell_type": "code",
   "execution_count": 23,
   "outputs": [
    {
     "data": {
      "text/plain": "287811"
     },
     "execution_count": 23,
     "metadata": {},
     "output_type": "execute_result"
    }
   ],
   "source": [
    "top_long_tail_interactions_matrix.values.sum()"
   ],
   "metadata": {
    "collapsed": false,
    "ExecuteTime": {
     "end_time": "2024-01-26T22:48:04.737608200Z",
     "start_time": "2024-01-26T22:48:04.584607800Z"
    }
   }
  },
  {
   "cell_type": "markdown",
   "source": [
    "Step 2: computed cosine similarities"
   ],
   "metadata": {
    "collapsed": false
   }
  },
  {
   "cell_type": "code",
   "execution_count": 24,
   "outputs": [
    {
     "data": {
      "text/plain": "                           index                                            \\\ncustomer_id 116809474287335      272412481300040      330092272649261        \narticle_id                                                                   \n153115021                      0                    0                    0   \n156227001                      0                    0                    0   \n188183016                      0                    0                    0   \n214844003                      0                    0                    0   \n228257004                      0                    0                    0   \n...                          ...                  ...                  ...   \n913030001                      0                    0                    0   \n915529001                      0                    0                    0   \n918292004                      0                    0                    0   \n918522001                      0                    0                    0   \n924243001                      0                    0                    0   \n\n                                                                            \\\ncustomer_id 690285180337957      745180086074610      879819981624203        \narticle_id                                                                   \n153115021                      0                    0                    0   \n156227001                      0                    0                    0   \n188183016                      0                    0                    0   \n214844003                      0                    0                    0   \n228257004                      0                    0                    0   \n...                          ...                  ...                  ...   \n913030001                      0                    0                    0   \n915529001                      1                    0                    0   \n918292004                      0                    0                    0   \n918522001                      0                    0                    0   \n924243001                      0                    0                    0   \n\n                                                                            \\\ncustomer_id 1296218836199721     1394073833551710     1773900972412728       \narticle_id                                                                   \n153115021                      0                    0                    0   \n156227001                      0                    0                    0   \n188183016                      0                    0                    0   \n214844003                      0                    0                    0   \n228257004                      0                    0                    0   \n...                          ...                  ...                  ...   \n913030001                      0                    0                    0   \n915529001                      0                    0                    0   \n918292004                      0                    0                    0   \n918522001                      0                    0                    0   \n924243001                      0                    0                    0   \n\n                                  ...                 week  \\\ncustomer_id 1905990147027598      ... 18443414166633689256   \narticle_id                        ...                        \n153115021                      0  ...                    0   \n156227001                      0  ...                    0   \n188183016                      0  ...                    0   \n214844003                      0  ...                    0   \n228257004                      0  ...                    0   \n...                          ...  ...                  ...   \n913030001                      0  ...                    0   \n915529001                      0  ...                    0   \n918292004                      1  ...                    0   \n918522001                      0  ...                    0   \n924243001                      0  ...                    0   \n\n                                                                            \\\ncustomer_id 18444040847486084907 18444212647743429500 18445412194736247951   \narticle_id                                                                   \n153115021                      0                    0                    0   \n156227001                      0                    0                    0   \n188183016                      0                    0                    0   \n214844003                      0                    0                    0   \n228257004                      0                    0                    0   \n...                          ...                  ...                  ...   \n913030001                      0                    0                    0   \n915529001                      0                    0                    0   \n918292004                      0                    0                    0   \n918522001                      0                    0                    0   \n924243001                      0                    0                    0   \n\n                                                                            \\\ncustomer_id 18445692600011570228 18445869016569286805 18445903880167013488   \narticle_id                                                                   \n153115021                      0                    0                    0   \n156227001                      0                    0                    0   \n188183016                      0                    0                    0   \n214844003                      0                    0                    0   \n228257004                      0                    0                    0   \n...                          ...                  ...                  ...   \n913030001                      0                    0                    0   \n915529001                      0                    0                    0   \n918292004                      0                    0                    0   \n918522001                      0                    0                    0   \n924243001                      0                    0                    0   \n\n                                                                            \ncustomer_id 18446420423308293068 18446590778427270109 18446624797007271432  \narticle_id                                                                  \n153115021                      0                    0                    0  \n156227001                      0                    0                    0  \n188183016                      0                    0                    0  \n214844003                      0                    0                    0  \n228257004                      0                    0                    0  \n...                          ...                  ...                  ...  \n913030001                      0                    0                    0  \n915529001                      0                    0                    0  \n918292004                      0                    0                    0  \n918522001                      0                    0                    0  \n924243001                      0                    0                    0  \n\n[714 rows x 260781 columns]",
      "text/html": "<div>\n<style scoped>\n    .dataframe tbody tr th:only-of-type {\n        vertical-align: middle;\n    }\n\n    .dataframe tbody tr th {\n        vertical-align: top;\n    }\n\n    .dataframe thead tr th {\n        text-align: left;\n    }\n\n    .dataframe thead tr:last-of-type th {\n        text-align: right;\n    }\n</style>\n<table border=\"1\" class=\"dataframe\">\n  <thead>\n    <tr>\n      <th></th>\n      <th colspan=\"10\" halign=\"left\">index</th>\n      <th>...</th>\n      <th colspan=\"10\" halign=\"left\">week</th>\n    </tr>\n    <tr>\n      <th>customer_id</th>\n      <th>116809474287335</th>\n      <th>272412481300040</th>\n      <th>330092272649261</th>\n      <th>690285180337957</th>\n      <th>745180086074610</th>\n      <th>879819981624203</th>\n      <th>1296218836199721</th>\n      <th>1394073833551710</th>\n      <th>1773900972412728</th>\n      <th>1905990147027598</th>\n      <th>...</th>\n      <th>18443414166633689256</th>\n      <th>18444040847486084907</th>\n      <th>18444212647743429500</th>\n      <th>18445412194736247951</th>\n      <th>18445692600011570228</th>\n      <th>18445869016569286805</th>\n      <th>18445903880167013488</th>\n      <th>18446420423308293068</th>\n      <th>18446590778427270109</th>\n      <th>18446624797007271432</th>\n    </tr>\n    <tr>\n      <th>article_id</th>\n      <th></th>\n      <th></th>\n      <th></th>\n      <th></th>\n      <th></th>\n      <th></th>\n      <th></th>\n      <th></th>\n      <th></th>\n      <th></th>\n      <th></th>\n      <th></th>\n      <th></th>\n      <th></th>\n      <th></th>\n      <th></th>\n      <th></th>\n      <th></th>\n      <th></th>\n      <th></th>\n      <th></th>\n    </tr>\n  </thead>\n  <tbody>\n    <tr>\n      <th>153115021</th>\n      <td>0</td>\n      <td>0</td>\n      <td>0</td>\n      <td>0</td>\n      <td>0</td>\n      <td>0</td>\n      <td>0</td>\n      <td>0</td>\n      <td>0</td>\n      <td>0</td>\n      <td>...</td>\n      <td>0</td>\n      <td>0</td>\n      <td>0</td>\n      <td>0</td>\n      <td>0</td>\n      <td>0</td>\n      <td>0</td>\n      <td>0</td>\n      <td>0</td>\n      <td>0</td>\n    </tr>\n    <tr>\n      <th>156227001</th>\n      <td>0</td>\n      <td>0</td>\n      <td>0</td>\n      <td>0</td>\n      <td>0</td>\n      <td>0</td>\n      <td>0</td>\n      <td>0</td>\n      <td>0</td>\n      <td>0</td>\n      <td>...</td>\n      <td>0</td>\n      <td>0</td>\n      <td>0</td>\n      <td>0</td>\n      <td>0</td>\n      <td>0</td>\n      <td>0</td>\n      <td>0</td>\n      <td>0</td>\n      <td>0</td>\n    </tr>\n    <tr>\n      <th>188183016</th>\n      <td>0</td>\n      <td>0</td>\n      <td>0</td>\n      <td>0</td>\n      <td>0</td>\n      <td>0</td>\n      <td>0</td>\n      <td>0</td>\n      <td>0</td>\n      <td>0</td>\n      <td>...</td>\n      <td>0</td>\n      <td>0</td>\n      <td>0</td>\n      <td>0</td>\n      <td>0</td>\n      <td>0</td>\n      <td>0</td>\n      <td>0</td>\n      <td>0</td>\n      <td>0</td>\n    </tr>\n    <tr>\n      <th>214844003</th>\n      <td>0</td>\n      <td>0</td>\n      <td>0</td>\n      <td>0</td>\n      <td>0</td>\n      <td>0</td>\n      <td>0</td>\n      <td>0</td>\n      <td>0</td>\n      <td>0</td>\n      <td>...</td>\n      <td>0</td>\n      <td>0</td>\n      <td>0</td>\n      <td>0</td>\n      <td>0</td>\n      <td>0</td>\n      <td>0</td>\n      <td>0</td>\n      <td>0</td>\n      <td>0</td>\n    </tr>\n    <tr>\n      <th>228257004</th>\n      <td>0</td>\n      <td>0</td>\n      <td>0</td>\n      <td>0</td>\n      <td>0</td>\n      <td>0</td>\n      <td>0</td>\n      <td>0</td>\n      <td>0</td>\n      <td>0</td>\n      <td>...</td>\n      <td>0</td>\n      <td>0</td>\n      <td>0</td>\n      <td>0</td>\n      <td>0</td>\n      <td>0</td>\n      <td>0</td>\n      <td>0</td>\n      <td>0</td>\n      <td>0</td>\n    </tr>\n    <tr>\n      <th>...</th>\n      <td>...</td>\n      <td>...</td>\n      <td>...</td>\n      <td>...</td>\n      <td>...</td>\n      <td>...</td>\n      <td>...</td>\n      <td>...</td>\n      <td>...</td>\n      <td>...</td>\n      <td>...</td>\n      <td>...</td>\n      <td>...</td>\n      <td>...</td>\n      <td>...</td>\n      <td>...</td>\n      <td>...</td>\n      <td>...</td>\n      <td>...</td>\n      <td>...</td>\n      <td>...</td>\n    </tr>\n    <tr>\n      <th>913030001</th>\n      <td>0</td>\n      <td>0</td>\n      <td>0</td>\n      <td>0</td>\n      <td>0</td>\n      <td>0</td>\n      <td>0</td>\n      <td>0</td>\n      <td>0</td>\n      <td>0</td>\n      <td>...</td>\n      <td>0</td>\n      <td>0</td>\n      <td>0</td>\n      <td>0</td>\n      <td>0</td>\n      <td>0</td>\n      <td>0</td>\n      <td>0</td>\n      <td>0</td>\n      <td>0</td>\n    </tr>\n    <tr>\n      <th>915529001</th>\n      <td>0</td>\n      <td>0</td>\n      <td>0</td>\n      <td>1</td>\n      <td>0</td>\n      <td>0</td>\n      <td>0</td>\n      <td>0</td>\n      <td>0</td>\n      <td>0</td>\n      <td>...</td>\n      <td>0</td>\n      <td>0</td>\n      <td>0</td>\n      <td>0</td>\n      <td>0</td>\n      <td>0</td>\n      <td>0</td>\n      <td>0</td>\n      <td>0</td>\n      <td>0</td>\n    </tr>\n    <tr>\n      <th>918292004</th>\n      <td>0</td>\n      <td>0</td>\n      <td>0</td>\n      <td>0</td>\n      <td>0</td>\n      <td>0</td>\n      <td>0</td>\n      <td>0</td>\n      <td>0</td>\n      <td>1</td>\n      <td>...</td>\n      <td>0</td>\n      <td>0</td>\n      <td>0</td>\n      <td>0</td>\n      <td>0</td>\n      <td>0</td>\n      <td>0</td>\n      <td>0</td>\n      <td>0</td>\n      <td>0</td>\n    </tr>\n    <tr>\n      <th>918522001</th>\n      <td>0</td>\n      <td>0</td>\n      <td>0</td>\n      <td>0</td>\n      <td>0</td>\n      <td>0</td>\n      <td>0</td>\n      <td>0</td>\n      <td>0</td>\n      <td>0</td>\n      <td>...</td>\n      <td>0</td>\n      <td>0</td>\n      <td>0</td>\n      <td>0</td>\n      <td>0</td>\n      <td>0</td>\n      <td>0</td>\n      <td>0</td>\n      <td>0</td>\n      <td>0</td>\n    </tr>\n    <tr>\n      <th>924243001</th>\n      <td>0</td>\n      <td>0</td>\n      <td>0</td>\n      <td>0</td>\n      <td>0</td>\n      <td>0</td>\n      <td>0</td>\n      <td>0</td>\n      <td>0</td>\n      <td>0</td>\n      <td>...</td>\n      <td>0</td>\n      <td>0</td>\n      <td>0</td>\n      <td>0</td>\n      <td>0</td>\n      <td>0</td>\n      <td>0</td>\n      <td>0</td>\n      <td>0</td>\n      <td>0</td>\n    </tr>\n  </tbody>\n</table>\n<p>714 rows × 260781 columns</p>\n</div>"
     },
     "execution_count": 24,
     "metadata": {},
     "output_type": "execute_result"
    }
   ],
   "source": [
    "from scipy.sparse import csr_matrix\n",
    "from sklearn.neighbors import NearestNeighbors\n",
    "import numpy as np\n",
    "\n",
    "KNN = NearestNeighbors(algorithm=\"brute\", metric=\"cosine\").fit(csr_matrix(top_long_tail_interactions_matrix)) # huge increase in speed when using csr_matrix!\n",
    "top_long_tail_interactions_matrix"
   ],
   "metadata": {
    "collapsed": false,
    "ExecuteTime": {
     "end_time": "2024-01-26T22:48:06.130606700Z",
     "start_time": "2024-01-26T22:48:04.707607300Z"
    }
   }
  },
  {
   "cell_type": "code",
   "execution_count": 25,
   "outputs": [
    {
     "data": {
      "text/plain": "                           index                                            \\\ncustomer_id 116809474287335      272412481300040      330092272649261        \narticle_id                                                                   \n153115021                      0                    0                    0   \n156227001                      0                    0                    0   \n188183016                      0                    0                    0   \n214844003                      0                    0                    0   \n228257004                      0                    0                    0   \n...                          ...                  ...                  ...   \n913030001                      0                    0                    0   \n915529001                      0                    0                    0   \n918292004                      0                    0                    0   \n918522001                      0                    0                    0   \n924243001                      0                    0                    0   \n\n                                                                            \\\ncustomer_id 690285180337957      745180086074610      879819981624203        \narticle_id                                                                   \n153115021                      0                    0                    0   \n156227001                      0                    0                    0   \n188183016                      0                    0                    0   \n214844003                      0                    0                    0   \n228257004                      0                    0                    0   \n...                          ...                  ...                  ...   \n913030001                      0                    0                    0   \n915529001                      1                    0                    0   \n918292004                      0                    0                    0   \n918522001                      0                    0                    0   \n924243001                      0                    0                    0   \n\n                                                                            \\\ncustomer_id 1296218836199721     1394073833551710     1773900972412728       \narticle_id                                                                   \n153115021                      0                    0                    0   \n156227001                      0                    0                    0   \n188183016                      0                    0                    0   \n214844003                      0                    0                    0   \n228257004                      0                    0                    0   \n...                          ...                  ...                  ...   \n913030001                      0                    0                    0   \n915529001                      0                    0                    0   \n918292004                      0                    0                    0   \n918522001                      0                    0                    0   \n924243001                      0                    0                    0   \n\n                                  ...                 week  \\\ncustomer_id 1905990147027598      ... 18443414166633689256   \narticle_id                        ...                        \n153115021                      0  ...                    0   \n156227001                      0  ...                    0   \n188183016                      0  ...                    0   \n214844003                      0  ...                    0   \n228257004                      0  ...                    0   \n...                          ...  ...                  ...   \n913030001                      0  ...                    0   \n915529001                      0  ...                    0   \n918292004                      1  ...                    0   \n918522001                      0  ...                    0   \n924243001                      0  ...                    0   \n\n                                                                            \\\ncustomer_id 18444040847486084907 18444212647743429500 18445412194736247951   \narticle_id                                                                   \n153115021                      0                    0                    0   \n156227001                      0                    0                    0   \n188183016                      0                    0                    0   \n214844003                      0                    0                    0   \n228257004                      0                    0                    0   \n...                          ...                  ...                  ...   \n913030001                      0                    0                    0   \n915529001                      0                    0                    0   \n918292004                      0                    0                    0   \n918522001                      0                    0                    0   \n924243001                      0                    0                    0   \n\n                                                                            \\\ncustomer_id 18445692600011570228 18445869016569286805 18445903880167013488   \narticle_id                                                                   \n153115021                      0                    0                    0   \n156227001                      0                    0                    0   \n188183016                      0                    0                    0   \n214844003                      0                    0                    0   \n228257004                      0                    0                    0   \n...                          ...                  ...                  ...   \n913030001                      0                    0                    0   \n915529001                      0                    0                    0   \n918292004                      0                    0                    0   \n918522001                      0                    0                    0   \n924243001                      0                    0                    0   \n\n                                                                            \ncustomer_id 18446420423308293068 18446590778427270109 18446624797007271432  \narticle_id                                                                  \n153115021                      0                    0                    0  \n156227001                      0                    0                    0  \n188183016                      0                    0                    0  \n214844003                      0                    0                    0  \n228257004                      0                    0                    0  \n...                          ...                  ...                  ...  \n913030001                      0                    0                    0  \n915529001                      0                    0                    0  \n918292004                      0                    0                    0  \n918522001                      0                    0                    0  \n924243001                      0                    0                    0  \n\n[714 rows x 260781 columns]",
      "text/html": "<div>\n<style scoped>\n    .dataframe tbody tr th:only-of-type {\n        vertical-align: middle;\n    }\n\n    .dataframe tbody tr th {\n        vertical-align: top;\n    }\n\n    .dataframe thead tr th {\n        text-align: left;\n    }\n\n    .dataframe thead tr:last-of-type th {\n        text-align: right;\n    }\n</style>\n<table border=\"1\" class=\"dataframe\">\n  <thead>\n    <tr>\n      <th></th>\n      <th colspan=\"10\" halign=\"left\">index</th>\n      <th>...</th>\n      <th colspan=\"10\" halign=\"left\">week</th>\n    </tr>\n    <tr>\n      <th>customer_id</th>\n      <th>116809474287335</th>\n      <th>272412481300040</th>\n      <th>330092272649261</th>\n      <th>690285180337957</th>\n      <th>745180086074610</th>\n      <th>879819981624203</th>\n      <th>1296218836199721</th>\n      <th>1394073833551710</th>\n      <th>1773900972412728</th>\n      <th>1905990147027598</th>\n      <th>...</th>\n      <th>18443414166633689256</th>\n      <th>18444040847486084907</th>\n      <th>18444212647743429500</th>\n      <th>18445412194736247951</th>\n      <th>18445692600011570228</th>\n      <th>18445869016569286805</th>\n      <th>18445903880167013488</th>\n      <th>18446420423308293068</th>\n      <th>18446590778427270109</th>\n      <th>18446624797007271432</th>\n    </tr>\n    <tr>\n      <th>article_id</th>\n      <th></th>\n      <th></th>\n      <th></th>\n      <th></th>\n      <th></th>\n      <th></th>\n      <th></th>\n      <th></th>\n      <th></th>\n      <th></th>\n      <th></th>\n      <th></th>\n      <th></th>\n      <th></th>\n      <th></th>\n      <th></th>\n      <th></th>\n      <th></th>\n      <th></th>\n      <th></th>\n      <th></th>\n    </tr>\n  </thead>\n  <tbody>\n    <tr>\n      <th>153115021</th>\n      <td>0</td>\n      <td>0</td>\n      <td>0</td>\n      <td>0</td>\n      <td>0</td>\n      <td>0</td>\n      <td>0</td>\n      <td>0</td>\n      <td>0</td>\n      <td>0</td>\n      <td>...</td>\n      <td>0</td>\n      <td>0</td>\n      <td>0</td>\n      <td>0</td>\n      <td>0</td>\n      <td>0</td>\n      <td>0</td>\n      <td>0</td>\n      <td>0</td>\n      <td>0</td>\n    </tr>\n    <tr>\n      <th>156227001</th>\n      <td>0</td>\n      <td>0</td>\n      <td>0</td>\n      <td>0</td>\n      <td>0</td>\n      <td>0</td>\n      <td>0</td>\n      <td>0</td>\n      <td>0</td>\n      <td>0</td>\n      <td>...</td>\n      <td>0</td>\n      <td>0</td>\n      <td>0</td>\n      <td>0</td>\n      <td>0</td>\n      <td>0</td>\n      <td>0</td>\n      <td>0</td>\n      <td>0</td>\n      <td>0</td>\n    </tr>\n    <tr>\n      <th>188183016</th>\n      <td>0</td>\n      <td>0</td>\n      <td>0</td>\n      <td>0</td>\n      <td>0</td>\n      <td>0</td>\n      <td>0</td>\n      <td>0</td>\n      <td>0</td>\n      <td>0</td>\n      <td>...</td>\n      <td>0</td>\n      <td>0</td>\n      <td>0</td>\n      <td>0</td>\n      <td>0</td>\n      <td>0</td>\n      <td>0</td>\n      <td>0</td>\n      <td>0</td>\n      <td>0</td>\n    </tr>\n    <tr>\n      <th>214844003</th>\n      <td>0</td>\n      <td>0</td>\n      <td>0</td>\n      <td>0</td>\n      <td>0</td>\n      <td>0</td>\n      <td>0</td>\n      <td>0</td>\n      <td>0</td>\n      <td>0</td>\n      <td>...</td>\n      <td>0</td>\n      <td>0</td>\n      <td>0</td>\n      <td>0</td>\n      <td>0</td>\n      <td>0</td>\n      <td>0</td>\n      <td>0</td>\n      <td>0</td>\n      <td>0</td>\n    </tr>\n    <tr>\n      <th>228257004</th>\n      <td>0</td>\n      <td>0</td>\n      <td>0</td>\n      <td>0</td>\n      <td>0</td>\n      <td>0</td>\n      <td>0</td>\n      <td>0</td>\n      <td>0</td>\n      <td>0</td>\n      <td>...</td>\n      <td>0</td>\n      <td>0</td>\n      <td>0</td>\n      <td>0</td>\n      <td>0</td>\n      <td>0</td>\n      <td>0</td>\n      <td>0</td>\n      <td>0</td>\n      <td>0</td>\n    </tr>\n    <tr>\n      <th>...</th>\n      <td>...</td>\n      <td>...</td>\n      <td>...</td>\n      <td>...</td>\n      <td>...</td>\n      <td>...</td>\n      <td>...</td>\n      <td>...</td>\n      <td>...</td>\n      <td>...</td>\n      <td>...</td>\n      <td>...</td>\n      <td>...</td>\n      <td>...</td>\n      <td>...</td>\n      <td>...</td>\n      <td>...</td>\n      <td>...</td>\n      <td>...</td>\n      <td>...</td>\n      <td>...</td>\n    </tr>\n    <tr>\n      <th>913030001</th>\n      <td>0</td>\n      <td>0</td>\n      <td>0</td>\n      <td>0</td>\n      <td>0</td>\n      <td>0</td>\n      <td>0</td>\n      <td>0</td>\n      <td>0</td>\n      <td>0</td>\n      <td>...</td>\n      <td>0</td>\n      <td>0</td>\n      <td>0</td>\n      <td>0</td>\n      <td>0</td>\n      <td>0</td>\n      <td>0</td>\n      <td>0</td>\n      <td>0</td>\n      <td>0</td>\n    </tr>\n    <tr>\n      <th>915529001</th>\n      <td>0</td>\n      <td>0</td>\n      <td>0</td>\n      <td>1</td>\n      <td>0</td>\n      <td>0</td>\n      <td>0</td>\n      <td>0</td>\n      <td>0</td>\n      <td>0</td>\n      <td>...</td>\n      <td>0</td>\n      <td>0</td>\n      <td>0</td>\n      <td>0</td>\n      <td>0</td>\n      <td>0</td>\n      <td>0</td>\n      <td>0</td>\n      <td>0</td>\n      <td>0</td>\n    </tr>\n    <tr>\n      <th>918292004</th>\n      <td>0</td>\n      <td>0</td>\n      <td>0</td>\n      <td>0</td>\n      <td>0</td>\n      <td>0</td>\n      <td>0</td>\n      <td>0</td>\n      <td>0</td>\n      <td>1</td>\n      <td>...</td>\n      <td>0</td>\n      <td>0</td>\n      <td>0</td>\n      <td>0</td>\n      <td>0</td>\n      <td>0</td>\n      <td>0</td>\n      <td>0</td>\n      <td>0</td>\n      <td>0</td>\n    </tr>\n    <tr>\n      <th>918522001</th>\n      <td>0</td>\n      <td>0</td>\n      <td>0</td>\n      <td>0</td>\n      <td>0</td>\n      <td>0</td>\n      <td>0</td>\n      <td>0</td>\n      <td>0</td>\n      <td>0</td>\n      <td>...</td>\n      <td>0</td>\n      <td>0</td>\n      <td>0</td>\n      <td>0</td>\n      <td>0</td>\n      <td>0</td>\n      <td>0</td>\n      <td>0</td>\n      <td>0</td>\n      <td>0</td>\n    </tr>\n    <tr>\n      <th>924243001</th>\n      <td>0</td>\n      <td>0</td>\n      <td>0</td>\n      <td>0</td>\n      <td>0</td>\n      <td>0</td>\n      <td>0</td>\n      <td>0</td>\n      <td>0</td>\n      <td>0</td>\n      <td>...</td>\n      <td>0</td>\n      <td>0</td>\n      <td>0</td>\n      <td>0</td>\n      <td>0</td>\n      <td>0</td>\n      <td>0</td>\n      <td>0</td>\n      <td>0</td>\n      <td>0</td>\n    </tr>\n  </tbody>\n</table>\n<p>714 rows × 260781 columns</p>\n</div>"
     },
     "execution_count": 25,
     "metadata": {},
     "output_type": "execute_result"
    }
   ],
   "source": [
    "top_long_tail_interactions_matrix"
   ],
   "metadata": {
    "collapsed": false,
    "ExecuteTime": {
     "end_time": "2024-01-26T22:48:06.144608200Z",
     "start_time": "2024-01-26T22:48:06.129107400Z"
    }
   }
  },
  {
   "cell_type": "markdown",
   "source": [
    "Step 3: personalize k bestseller items"
   ],
   "metadata": {
    "collapsed": false
   }
  },
  {
   "cell_type": "markdown",
   "source": [
    "Since it's item-based, items will be similar to each other no matter the user. So only unique IDs are picked to make computation less expensive."
   ],
   "metadata": {
    "collapsed": false
   }
  },
  {
   "cell_type": "code",
   "execution_count": 26,
   "outputs": [
    {
     "data": {
      "text/plain": "array([827907001, 624486010, 673799003, 681179002, 433444001, 693243002,\n       832114002, 564448002, 536139047, 568597023, 817361006, 811835009,\n       695632033, 464927018, 794007001, 821336002, 803592003, 695632101,\n       735607002, 664461007, 685813018, 678942036, 832036002, 784427002,\n       556539014, 611235001, 600886007, 677930037, 844915002, 863000002,\n       723173004, 651591001, 842112005, 803757013, 638945003, 663282006,\n       759814011, 529008046, 856310003, 841699003, 732842004, 814766001,\n       823168002, 806131004, 855080002, 915529001, 610776023, 836706001,\n       677930002, 821336001, 436083001, 815808001, 297078002, 752811002,\n       803757002, 681180013, 832732002, 744073001, 818036001, 505882006,\n       664647001, 761296004, 751994006, 811907001, 817110002, 327310002,\n       748284001, 568601026, 188183016, 562245103, 750423001, 739590024,\n       504155011, 831211001, 487827007, 736218002, 832473003, 624486076,\n       697564004, 677930060, 578630002, 610776024, 228257004, 859136003,\n       825733002, 790645001, 768759004, 775624001, 714927003, 696594003,\n       763280006, 739347003, 400246014, 799365013, 599719019, 636207005,\n       841260005, 720426001, 878013004, 880749002, 835417001, 706016011,\n       864498001, 854193002, 395127001, 849859002, 757828001, 741478003,\n       703152001, 782555001, 753214007, 609598006, 817491006, 800691009,\n       478646001, 729860001, 631536015, 775100001, 762846031, 156227001,\n       814762001, 717580001, 688537017, 827698001, 843872003, 153115021,\n       693242014, 691855005, 797527001, 852174003, 840607010, 632307002,\n       754356001, 562245063, 560221006, 851094001, 838357002, 664319016,\n       589017001, 464297031, 785515002, 554640001, 861767002, 713692001,\n       835563007, 700737001, 710708001, 784001001, 841434007, 708311017,\n       548613029, 832309010, 753061002, 854678003, 599580074, 664133002,\n       761269001, 732725002, 719530007, 573085019, 653664007, 863937010,\n       817491004, 607642002, 708459002, 788846008, 865799001, 783346024,\n       733099001, 554598081, 839496002, 589017002, 881031001, 829302004,\n       697054016, 821031002, 842952001, 796806001, 816938004, 752516006,\n       689047004, 817353009, 625939004, 791587018, 622598001, 349301025,\n       709187001, 847673001, 708345003, 752657001, 822203005, 562245098,\n       708471003, 477507001, 757303013, 832482001, 706509001, 806261002,\n       634591006, 832330001, 688558018, 685816007, 570033001, 895002004,\n       307239004, 806131001, 859105006, 734273001, 803118001, 697050008,\n       803772003, 777434001, 757671007, 918292004, 714996001, 697054047,\n       707488001, 852498001, 756097002, 817361007, 568601031, 719214001,\n       749974001, 751530004, 479167002, 831568001, 214844003, 796248001,\n       442915001, 790368002, 821643001, 754323002, 696209007, 669710006,\n       693243017, 808028001, 851110001, 783346021, 861765001, 383152002,\n       429313013, 683001001, 699082001, 687704039, 822180002, 797565001,\n       675070013, 733098017, 471714008, 821336003, 599580083, 854677004,\n       662888007, 808628002, 511105002, 784460001, 562252032, 767436003,\n       716590001, 816588001, 909370001, 756132001, 861848002, 829302002,\n       707269007, 719209001, 700737002, 649662002, 817069001, 678692006,\n       507909026, 749615002, 721609001, 740930001, 813898002, 714826002,\n       762846010, 818024003, 721609002, 705734002, 786336001, 858052005,\n       835008009, 506098016, 778064026, 794468001, 622962001, 708456008,\n       793012001, 708868003, 488561021, 579541011, 716672002, 779781001,\n       816938002, 811835002, 678696015, 687635001, 865076002, 599718012,\n       750422023, 854261001, 715303007, 806241001, 608776024, 615941001,\n       806388004, 781833008, 768440010, 816589004, 752516002, 783244002,\n       696527001, 786347001, 697054054, 659854010, 708432006, 448509027,\n       854619002, 865929003, 653208001, 806012001, 751295003, 858147001,\n       624486061, 560047002, 762600004, 622958016, 685816003, 765773003,\n       701738003, 860738001, 717884002, 788632001, 693242013, 589514001,\n       607030008, 820428001, 675068005, 796137001, 747192002, 832481005,\n       850176002, 636323004, 855200007, 854678002, 708536002, 799410003,\n       774879001, 707743006, 768551003, 709996003, 739363003, 786925004,\n       572797039, 571092001, 732409003, 720100001, 396135058, 733441002,\n       840607001, 851546002, 562245090, 683001009, 739953004, 615141007,\n       622966014, 906635002, 717370003, 758642001, 664133003, 832321002,\n       797988001, 559630003, 820484003, 560213002, 745184004, 673799002,\n       776861002, 698273004, 556438001, 856848002, 812807002, 712216010,\n       741843001, 576897002, 616708006, 523489013, 828114001, 619884019,\n       867044003, 787696004, 752477003, 679285006, 906635001, 708138021,\n       827957002, 851400001, 896152001, 681179011, 820168001, 746330004,\n       797527003, 783384001, 732409001, 682771001, 806388011, 856848001,\n       816166003, 801301001, 699426003, 763275002, 679853010, 741356003,\n       841699008, 537732001, 685811003, 874064001, 731407006, 855198005,\n       818403001, 763673001, 598515031, 689563003, 826646001, 827968003,\n       738133006, 725663002, 599718016, 785018004, 776237019, 719463001,\n       817416001, 783244001, 685429003, 595696021, 708311010, 802485002,\n       905518001, 865533001, 626587003, 724905009, 818024002, 841228001,\n       858052008, 779068002, 685429002, 633109002, 802485003, 832253003,\n       733106003, 825585007, 832465001, 758286001, 640174002, 822946002,\n       824774001, 621381011, 708459007, 561445037, 554598067, 708755001,\n       536139054, 863583001, 763727003, 841960002, 809874001, 733936002,\n       757903001, 637515003, 613246004, 819113007, 621759002, 768759005,\n       775328011, 401044002, 861477001, 735607004, 757926001, 678942011,\n       674606026, 698273002, 817472003, 781180002, 776885001, 843873004,\n       755754002, 728162005, 776237014, 770825001, 826492006, 806131002,\n       750330003, 821163010, 754323008, 698258004, 456163062, 717365002,\n       736783004, 808666002, 821148003, 784143001, 913030001, 777504002,\n       832465007, 535035001, 600886022, 806241002, 796240001, 723874001,\n       886754001, 879294001, 732725001, 822311001, 767438001, 622956001,\n       828982004, 803685001, 331093001, 781613011, 724399001, 748816001,\n       693242016, 792490001, 842605001, 664074039, 630675001, 739953006,\n       824148001, 714718002, 877278003, 607427003, 640021013, 743616001,\n       650279001, 547752004, 749407001, 688728001, 715343007, 441386001,\n       668956001, 701472001, 752514003, 641187003, 901638001, 804992014,\n       808698004, 841260001, 757991001, 737224003, 730685001, 730013004,\n       399223068, 825771001, 752814014, 737260001, 626587004, 739819009,\n       835730001, 779349001, 731425003, 807244002, 833500001, 685816006,\n       746069001, 560047001, 788632002, 865917002, 708459009, 719450001,\n       586955001, 851774001, 751342001, 801673002, 824752001, 788178001,\n       685347002, 711440004, 779546002, 523490004, 816563005, 846181003,\n       612800011, 867044001, 779659002, 712216011, 802485001, 787880005,\n       834179002, 708311020, 793137009, 679853003, 685814006, 854678005,\n       821397001, 778064038, 828652001, 727593004, 614854008, 924243001,\n       741478004, 553611001, 749699009, 780297013, 734440001, 918522001,\n       750423005, 851546003, 751557002, 769748005, 802974003, 736530010,\n       742079001, 850241004, 641187004, 849859001, 763529002, 779842001,\n       824499001, 870304001, 832359003, 725663001, 739529009, 607031009,\n       798779001, 821746001, 787696001, 677930031, 854384001, 779068004,\n       746087002, 758002011, 762796004, 862970003, 806261006, 605106006,\n       703558001, 564311002, 837278002, 875451001, 828830001, 798407007,\n       767046001, 830016001, 842238001, 579541076, 849711003, 477107001,\n       579541030, 805510026, 807174001, 685347011, 589222003, 873564004,\n       754910002, 675068003, 456163064, 605106001, 737260004, 863583002,\n       708138009, 547365002, 836142001, 843777005, 880186003, 658030029,\n       823165005, 721266001, 716348008, 857880002, 828991001, 882840001,\n       863620002, 697054060, 826508005, 565379027, 733045002, 839332001,\n       832253001, 743113004, 852374001, 711649001, 713019009, 797527004,\n       824148002, 712216007, 562245099, 490436001, 755575001, 748140001,\n       748269010, 797835008, 854384002, 757904002, 770336001, 695632011,\n       554450035, 708311029, 772899001, 865073001, 752512003, 907527001,\n       679854013, 628425001, 706016028, 868751001, 501820002, 786307001,\n       792817003, 859125004, 699361002, 755467001, 631744004, 813538002])"
     },
     "execution_count": 26,
     "metadata": {},
     "output_type": "execute_result"
    }
   ],
   "source": [
    "unique_top_long_tail = top_long_tail_transaction_per_user[\"article_id\"].unique()\n",
    "unique_top_long_tail"
   ],
   "metadata": {
    "collapsed": false,
    "ExecuteTime": {
     "end_time": "2024-01-26T22:48:06.150108900Z",
     "start_time": "2024-01-26T22:48:06.143608100Z"
    }
   }
  },
  {
   "cell_type": "code",
   "execution_count": 27,
   "outputs": [],
   "source": [
    "def get_k_similar_long_tail_items(article_id, k):\n",
    "\n",
    "    query_item_index = top_long_tail_interactions_matrix.index.get_loc(article_id)\n",
    "    query_item_vector = top_long_tail_interactions_matrix.values[query_item_index].reshape(1, -1)\n",
    "    \n",
    "    distances, indices = KNN.kneighbors(query_item_vector, n_neighbors=k)\n",
    "    nearest_neighbors_indices = indices.flatten()[1:]  # Exclude the first element (the user itself)\n",
    "    nearest_neighbor_ids = top_long_tail_interactions_matrix.iloc[nearest_neighbors_indices].index\n",
    "    \n",
    "    return nearest_neighbor_ids.tolist()\n"
   ],
   "metadata": {
    "collapsed": false,
    "ExecuteTime": {
     "end_time": "2024-01-26T22:48:06.161609200Z",
     "start_time": "2024-01-26T22:48:06.150108900Z"
    }
   }
  },
  {
   "cell_type": "code",
   "execution_count": 28,
   "outputs": [
    {
     "data": {
      "text/plain": "     article_id similar_article_id\n0     827907001        [779781001]\n1     624486010        [677930060]\n2     673799003        [156227001]\n3     681179002        [751994006]\n4     433444001        [752657001]\n..          ...                ...\n709   859125004        [775624001]\n710   699361002        [842112005]\n711   755467001        [535035001]\n712   631744004        [867044003]\n713   813538002        [638945003]\n\n[714 rows x 2 columns]",
      "text/html": "<div>\n<style scoped>\n    .dataframe tbody tr th:only-of-type {\n        vertical-align: middle;\n    }\n\n    .dataframe tbody tr th {\n        vertical-align: top;\n    }\n\n    .dataframe thead th {\n        text-align: right;\n    }\n</style>\n<table border=\"1\" class=\"dataframe\">\n  <thead>\n    <tr style=\"text-align: right;\">\n      <th></th>\n      <th>article_id</th>\n      <th>similar_article_id</th>\n    </tr>\n  </thead>\n  <tbody>\n    <tr>\n      <th>0</th>\n      <td>827907001</td>\n      <td>[779781001]</td>\n    </tr>\n    <tr>\n      <th>1</th>\n      <td>624486010</td>\n      <td>[677930060]</td>\n    </tr>\n    <tr>\n      <th>2</th>\n      <td>673799003</td>\n      <td>[156227001]</td>\n    </tr>\n    <tr>\n      <th>3</th>\n      <td>681179002</td>\n      <td>[751994006]</td>\n    </tr>\n    <tr>\n      <th>4</th>\n      <td>433444001</td>\n      <td>[752657001]</td>\n    </tr>\n    <tr>\n      <th>...</th>\n      <td>...</td>\n      <td>...</td>\n    </tr>\n    <tr>\n      <th>709</th>\n      <td>859125004</td>\n      <td>[775624001]</td>\n    </tr>\n    <tr>\n      <th>710</th>\n      <td>699361002</td>\n      <td>[842112005]</td>\n    </tr>\n    <tr>\n      <th>711</th>\n      <td>755467001</td>\n      <td>[535035001]</td>\n    </tr>\n    <tr>\n      <th>712</th>\n      <td>631744004</td>\n      <td>[867044003]</td>\n    </tr>\n    <tr>\n      <th>713</th>\n      <td>813538002</td>\n      <td>[638945003]</td>\n    </tr>\n  </tbody>\n</table>\n<p>714 rows × 2 columns</p>\n</div>"
     },
     "execution_count": 28,
     "metadata": {},
     "output_type": "execute_result"
    }
   ],
   "source": [
    "similar_long_tail_items = []\n",
    "\n",
    "for article_id in unique_top_long_tail:\n",
    "    similar_items = get_k_similar_long_tail_items(article_id, K+1)\n",
    "    similar_long_tail_items.append({'article_id': article_id, 'similar_article_id': similar_items})\n",
    "\n",
    "similar_long_tail_items = pd.DataFrame(similar_long_tail_items)\n",
    "similar_long_tail_items"
   ],
   "metadata": {
    "collapsed": false,
    "ExecuteTime": {
     "end_time": "2024-01-26T22:48:14.719106800Z",
     "start_time": "2024-01-26T22:48:06.154107800Z"
    }
   }
  },
  {
   "cell_type": "code",
   "execution_count": 29,
   "outputs": [],
   "source": [
    "bestsellers_previous_week = pd.merge(sales_frame, mean_price, on=['week', 'article_id']).reset_index()\n",
    "bestsellers_previous_week.week += 1"
   ],
   "metadata": {
    "collapsed": false,
    "ExecuteTime": {
     "end_time": "2024-01-26T22:48:14.775608100Z",
     "start_time": "2024-01-26T22:48:14.717607600Z"
    }
   }
  },
  {
   "cell_type": "code",
   "execution_count": 30,
   "outputs": [
    {
     "data": {
      "text/plain": "     index  week  article_id  bestseller_rank  long_tail     price\n0        0    96   760084003                1          0  0.025094\n1        1    97   760084003                4          0  0.024986\n2        2    96   866731001                2          0  0.024919\n3        3   100   866731001                3          0  0.023898\n4        4   105   866731001                5          0  0.025015\n..     ...   ...         ...              ...        ...       ...\n115    115   104   923758001               12          1  0.033478\n116    116   105   923758001                4          1  0.033462\n117    117   105   924243002                2          1  0.041877\n118    118   105   915529005                9          1  0.033417\n119    119   105   714790020               12          0  0.049951\n\n[120 rows x 6 columns]",
      "text/html": "<div>\n<style scoped>\n    .dataframe tbody tr th:only-of-type {\n        vertical-align: middle;\n    }\n\n    .dataframe tbody tr th {\n        vertical-align: top;\n    }\n\n    .dataframe thead th {\n        text-align: right;\n    }\n</style>\n<table border=\"1\" class=\"dataframe\">\n  <thead>\n    <tr style=\"text-align: right;\">\n      <th></th>\n      <th>index</th>\n      <th>week</th>\n      <th>article_id</th>\n      <th>bestseller_rank</th>\n      <th>long_tail</th>\n      <th>price</th>\n    </tr>\n  </thead>\n  <tbody>\n    <tr>\n      <th>0</th>\n      <td>0</td>\n      <td>96</td>\n      <td>760084003</td>\n      <td>1</td>\n      <td>0</td>\n      <td>0.025094</td>\n    </tr>\n    <tr>\n      <th>1</th>\n      <td>1</td>\n      <td>97</td>\n      <td>760084003</td>\n      <td>4</td>\n      <td>0</td>\n      <td>0.024986</td>\n    </tr>\n    <tr>\n      <th>2</th>\n      <td>2</td>\n      <td>96</td>\n      <td>866731001</td>\n      <td>2</td>\n      <td>0</td>\n      <td>0.024919</td>\n    </tr>\n    <tr>\n      <th>3</th>\n      <td>3</td>\n      <td>100</td>\n      <td>866731001</td>\n      <td>3</td>\n      <td>0</td>\n      <td>0.023898</td>\n    </tr>\n    <tr>\n      <th>4</th>\n      <td>4</td>\n      <td>105</td>\n      <td>866731001</td>\n      <td>5</td>\n      <td>0</td>\n      <td>0.025015</td>\n    </tr>\n    <tr>\n      <th>...</th>\n      <td>...</td>\n      <td>...</td>\n      <td>...</td>\n      <td>...</td>\n      <td>...</td>\n      <td>...</td>\n    </tr>\n    <tr>\n      <th>115</th>\n      <td>115</td>\n      <td>104</td>\n      <td>923758001</td>\n      <td>12</td>\n      <td>1</td>\n      <td>0.033478</td>\n    </tr>\n    <tr>\n      <th>116</th>\n      <td>116</td>\n      <td>105</td>\n      <td>923758001</td>\n      <td>4</td>\n      <td>1</td>\n      <td>0.033462</td>\n    </tr>\n    <tr>\n      <th>117</th>\n      <td>117</td>\n      <td>105</td>\n      <td>924243002</td>\n      <td>2</td>\n      <td>1</td>\n      <td>0.041877</td>\n    </tr>\n    <tr>\n      <th>118</th>\n      <td>118</td>\n      <td>105</td>\n      <td>915529005</td>\n      <td>9</td>\n      <td>1</td>\n      <td>0.033417</td>\n    </tr>\n    <tr>\n      <th>119</th>\n      <td>119</td>\n      <td>105</td>\n      <td>714790020</td>\n      <td>12</td>\n      <td>0</td>\n      <td>0.049951</td>\n    </tr>\n  </tbody>\n</table>\n<p>120 rows × 6 columns</p>\n</div>"
     },
     "execution_count": 30,
     "metadata": {},
     "output_type": "execute_result"
    }
   ],
   "source": [
    "bestsellers_previous_week"
   ],
   "metadata": {
    "collapsed": false,
    "ExecuteTime": {
     "end_time": "2024-01-26T22:48:14.776108900Z",
     "start_time": "2024-01-26T22:48:14.750106800Z"
    }
   }
  },
  {
   "cell_type": "code",
   "execution_count": 31,
   "outputs": [],
   "source": [
    "unique_transactions = transactions \\\n",
    "    .groupby(['week', 'customer_id']) \\\n",
    "    .head(1) \\\n",
    "    .drop(columns=['article_id', 'price']) \\\n",
    "    .copy()\n",
    "\n",
    "# unique transactions will only contain users that never made long tail item purchases within 10 weeks.\n",
    "# Since we cannot personalize for those, they will simply merge with bestseller items.\n",
    "if K>0:\n",
    "    unique_transactions_not_personalized = unique_transactions[~unique_transactions[\"customer_id\"].isin(top_long_tail_transaction_per_user[\"customer_id\"])]\n",
    "else:\n",
    "    unique_transactions_not_personalized = unique_transactions # we won't personalize for any user, so set as unique_transactions like in RQ1"
   ],
   "metadata": {
    "collapsed": false,
    "ExecuteTime": {
     "end_time": "2024-01-26T22:48:15.244106500Z",
     "start_time": "2024-01-26T22:48:14.758106700Z"
    }
   }
  },
  {
   "cell_type": "code",
   "execution_count": 32,
   "outputs": [
    {
     "data": {
      "text/plain": "              t_dat           customer_id  sales_channel_id  week\n29064059 2020-07-15      1456826891333599                 1    95\n29067103 2020-07-15      2133687643102426                 2    95\n29027487 2020-07-15      6010692573790711                 1    95\n29046403 2020-07-15      6171059100114610                 2    95\n29030261 2020-07-15      6434044519214559                 2    95\n...             ...                   ...               ...   ...\n31760892 2020-09-22  18430257223551121786                 2   104\n31782717 2020-09-22  18432411165497420051                 1   104\n31777299 2020-09-22  18432753550436772025                 2   104\n31760188 2020-09-22  18435221511488011015                 1   104\n31776022 2020-09-22  18438270306572912089                 1   104\n\n[554364 rows x 4 columns]",
      "text/html": "<div>\n<style scoped>\n    .dataframe tbody tr th:only-of-type {\n        vertical-align: middle;\n    }\n\n    .dataframe tbody tr th {\n        vertical-align: top;\n    }\n\n    .dataframe thead th {\n        text-align: right;\n    }\n</style>\n<table border=\"1\" class=\"dataframe\">\n  <thead>\n    <tr style=\"text-align: right;\">\n      <th></th>\n      <th>t_dat</th>\n      <th>customer_id</th>\n      <th>sales_channel_id</th>\n      <th>week</th>\n    </tr>\n  </thead>\n  <tbody>\n    <tr>\n      <th>29064059</th>\n      <td>2020-07-15</td>\n      <td>1456826891333599</td>\n      <td>1</td>\n      <td>95</td>\n    </tr>\n    <tr>\n      <th>29067103</th>\n      <td>2020-07-15</td>\n      <td>2133687643102426</td>\n      <td>2</td>\n      <td>95</td>\n    </tr>\n    <tr>\n      <th>29027487</th>\n      <td>2020-07-15</td>\n      <td>6010692573790711</td>\n      <td>1</td>\n      <td>95</td>\n    </tr>\n    <tr>\n      <th>29046403</th>\n      <td>2020-07-15</td>\n      <td>6171059100114610</td>\n      <td>2</td>\n      <td>95</td>\n    </tr>\n    <tr>\n      <th>29030261</th>\n      <td>2020-07-15</td>\n      <td>6434044519214559</td>\n      <td>2</td>\n      <td>95</td>\n    </tr>\n    <tr>\n      <th>...</th>\n      <td>...</td>\n      <td>...</td>\n      <td>...</td>\n      <td>...</td>\n    </tr>\n    <tr>\n      <th>31760892</th>\n      <td>2020-09-22</td>\n      <td>18430257223551121786</td>\n      <td>2</td>\n      <td>104</td>\n    </tr>\n    <tr>\n      <th>31782717</th>\n      <td>2020-09-22</td>\n      <td>18432411165497420051</td>\n      <td>1</td>\n      <td>104</td>\n    </tr>\n    <tr>\n      <th>31777299</th>\n      <td>2020-09-22</td>\n      <td>18432753550436772025</td>\n      <td>2</td>\n      <td>104</td>\n    </tr>\n    <tr>\n      <th>31760188</th>\n      <td>2020-09-22</td>\n      <td>18435221511488011015</td>\n      <td>1</td>\n      <td>104</td>\n    </tr>\n    <tr>\n      <th>31776022</th>\n      <td>2020-09-22</td>\n      <td>18438270306572912089</td>\n      <td>1</td>\n      <td>104</td>\n    </tr>\n  </tbody>\n</table>\n<p>554364 rows × 4 columns</p>\n</div>"
     },
     "execution_count": 32,
     "metadata": {},
     "output_type": "execute_result"
    }
   ],
   "source": [
    "unique_transactions_not_personalized"
   ],
   "metadata": {
    "collapsed": false,
    "ExecuteTime": {
     "end_time": "2024-01-26T22:48:15.253606300Z",
     "start_time": "2024-01-26T22:48:15.245107900Z"
    }
   }
  },
  {
   "cell_type": "code",
   "execution_count": 33,
   "outputs": [
    {
     "data": {
      "text/plain": "              t_dat           customer_id  article_id     price  \\\n29030503 2020-07-15       272412481300040   778064028  0.008458   \n29064059 2020-07-15      1456826891333599   888294001  0.013542   \n29067103 2020-07-15      2133687643102426   843642001  0.042356   \n29027487 2020-07-15      6010692573790711   857812010  0.039661   \n29046403 2020-07-15      6171059100114610   815447007  0.006763   \n...             ...                   ...         ...       ...   \n31760188 2020-09-22  18435221511488011015   573085055  0.033881   \n31782234 2020-09-22  18436859303155335645   801447001  0.030492   \n31787251 2020-09-22  18437941771381362708   907188001  0.050831   \n31776022 2020-09-22  18438270306572912089   751471043  0.033881   \n31779097 2020-09-22  18440902715633436014   918894002  0.016932   \n\n          sales_channel_id  week  \n29030503                 1    95  \n29064059                 1    95  \n29067103                 2    95  \n29027487                 1    95  \n29046403                 2    95  \n...                    ...   ...  \n31760188                 1   104  \n31782234                 1   104  \n31787251                 2   104  \n31776022                 1   104  \n31779097                 1   104  \n\n[755710 rows x 6 columns]",
      "text/html": "<div>\n<style scoped>\n    .dataframe tbody tr th:only-of-type {\n        vertical-align: middle;\n    }\n\n    .dataframe tbody tr th {\n        vertical-align: top;\n    }\n\n    .dataframe thead th {\n        text-align: right;\n    }\n</style>\n<table border=\"1\" class=\"dataframe\">\n  <thead>\n    <tr style=\"text-align: right;\">\n      <th></th>\n      <th>t_dat</th>\n      <th>customer_id</th>\n      <th>article_id</th>\n      <th>price</th>\n      <th>sales_channel_id</th>\n      <th>week</th>\n    </tr>\n  </thead>\n  <tbody>\n    <tr>\n      <th>29030503</th>\n      <td>2020-07-15</td>\n      <td>272412481300040</td>\n      <td>778064028</td>\n      <td>0.008458</td>\n      <td>1</td>\n      <td>95</td>\n    </tr>\n    <tr>\n      <th>29064059</th>\n      <td>2020-07-15</td>\n      <td>1456826891333599</td>\n      <td>888294001</td>\n      <td>0.013542</td>\n      <td>1</td>\n      <td>95</td>\n    </tr>\n    <tr>\n      <th>29067103</th>\n      <td>2020-07-15</td>\n      <td>2133687643102426</td>\n      <td>843642001</td>\n      <td>0.042356</td>\n      <td>2</td>\n      <td>95</td>\n    </tr>\n    <tr>\n      <th>29027487</th>\n      <td>2020-07-15</td>\n      <td>6010692573790711</td>\n      <td>857812010</td>\n      <td>0.039661</td>\n      <td>1</td>\n      <td>95</td>\n    </tr>\n    <tr>\n      <th>29046403</th>\n      <td>2020-07-15</td>\n      <td>6171059100114610</td>\n      <td>815447007</td>\n      <td>0.006763</td>\n      <td>2</td>\n      <td>95</td>\n    </tr>\n    <tr>\n      <th>...</th>\n      <td>...</td>\n      <td>...</td>\n      <td>...</td>\n      <td>...</td>\n      <td>...</td>\n      <td>...</td>\n    </tr>\n    <tr>\n      <th>31760188</th>\n      <td>2020-09-22</td>\n      <td>18435221511488011015</td>\n      <td>573085055</td>\n      <td>0.033881</td>\n      <td>1</td>\n      <td>104</td>\n    </tr>\n    <tr>\n      <th>31782234</th>\n      <td>2020-09-22</td>\n      <td>18436859303155335645</td>\n      <td>801447001</td>\n      <td>0.030492</td>\n      <td>1</td>\n      <td>104</td>\n    </tr>\n    <tr>\n      <th>31787251</th>\n      <td>2020-09-22</td>\n      <td>18437941771381362708</td>\n      <td>907188001</td>\n      <td>0.050831</td>\n      <td>2</td>\n      <td>104</td>\n    </tr>\n    <tr>\n      <th>31776022</th>\n      <td>2020-09-22</td>\n      <td>18438270306572912089</td>\n      <td>751471043</td>\n      <td>0.033881</td>\n      <td>1</td>\n      <td>104</td>\n    </tr>\n    <tr>\n      <th>31779097</th>\n      <td>2020-09-22</td>\n      <td>18440902715633436014</td>\n      <td>918894002</td>\n      <td>0.016932</td>\n      <td>1</td>\n      <td>104</td>\n    </tr>\n  </tbody>\n</table>\n<p>755710 rows × 6 columns</p>\n</div>"
     },
     "execution_count": 33,
     "metadata": {},
     "output_type": "execute_result"
    }
   ],
   "source": [
    "transactions.drop_duplicates(['week', 'customer_id'])"
   ],
   "metadata": {
    "collapsed": false,
    "ExecuteTime": {
     "end_time": "2024-01-26T22:48:15.476106100Z",
     "start_time": "2024-01-26T22:48:15.252606400Z"
    }
   }
  },
  {
   "cell_type": "code",
   "execution_count": 34,
   "outputs": [
    {
     "data": {
      "text/plain": "             t_dat           customer_id  sales_channel_id  week  index  \\\n0       2020-07-22       200292573348128                 2    96      0   \n1       2020-07-22       200292573348128                 2    96      2   \n2       2020-07-22       200292573348128                 2    96      5   \n3       2020-07-22       200292573348128                 2    96      6   \n4       2020-07-22       200292573348128                 2    96     11   \n...            ...                   ...               ...   ...    ...   \n5984515 2020-09-22  18438270306572912089                 1   104    110   \n5984516 2020-09-22  18438270306572912089                 1   104    111   \n5984517 2020-09-22  18438270306572912089                 1   104    113   \n5984518 2020-09-22  18438270306572912089                 1   104    114   \n5984519 2020-09-22  18438270306572912089                 1   104    115   \n\n         article_id  bestseller_rank  long_tail     price  \n0         760084003                1          0  0.025094  \n1         866731001                2          0  0.024919  \n2         600886001                3          0  0.022980  \n3         706016001                4          0  0.033197  \n4         372860002                5          0  0.013193  \n...             ...              ...        ...       ...  \n5984515   809238001                7          1  0.041612  \n5984516   762846027                9          1  0.025104  \n5984517   809238005               10          1  0.041656  \n5984518   673677002               11          0  0.024925  \n5984519   923758001               12          1  0.033478  \n\n[5984520 rows x 9 columns]",
      "text/html": "<div>\n<style scoped>\n    .dataframe tbody tr th:only-of-type {\n        vertical-align: middle;\n    }\n\n    .dataframe tbody tr th {\n        vertical-align: top;\n    }\n\n    .dataframe thead th {\n        text-align: right;\n    }\n</style>\n<table border=\"1\" class=\"dataframe\">\n  <thead>\n    <tr style=\"text-align: right;\">\n      <th></th>\n      <th>t_dat</th>\n      <th>customer_id</th>\n      <th>sales_channel_id</th>\n      <th>week</th>\n      <th>index</th>\n      <th>article_id</th>\n      <th>bestseller_rank</th>\n      <th>long_tail</th>\n      <th>price</th>\n    </tr>\n  </thead>\n  <tbody>\n    <tr>\n      <th>0</th>\n      <td>2020-07-22</td>\n      <td>200292573348128</td>\n      <td>2</td>\n      <td>96</td>\n      <td>0</td>\n      <td>760084003</td>\n      <td>1</td>\n      <td>0</td>\n      <td>0.025094</td>\n    </tr>\n    <tr>\n      <th>1</th>\n      <td>2020-07-22</td>\n      <td>200292573348128</td>\n      <td>2</td>\n      <td>96</td>\n      <td>2</td>\n      <td>866731001</td>\n      <td>2</td>\n      <td>0</td>\n      <td>0.024919</td>\n    </tr>\n    <tr>\n      <th>2</th>\n      <td>2020-07-22</td>\n      <td>200292573348128</td>\n      <td>2</td>\n      <td>96</td>\n      <td>5</td>\n      <td>600886001</td>\n      <td>3</td>\n      <td>0</td>\n      <td>0.022980</td>\n    </tr>\n    <tr>\n      <th>3</th>\n      <td>2020-07-22</td>\n      <td>200292573348128</td>\n      <td>2</td>\n      <td>96</td>\n      <td>6</td>\n      <td>706016001</td>\n      <td>4</td>\n      <td>0</td>\n      <td>0.033197</td>\n    </tr>\n    <tr>\n      <th>4</th>\n      <td>2020-07-22</td>\n      <td>200292573348128</td>\n      <td>2</td>\n      <td>96</td>\n      <td>11</td>\n      <td>372860002</td>\n      <td>5</td>\n      <td>0</td>\n      <td>0.013193</td>\n    </tr>\n    <tr>\n      <th>...</th>\n      <td>...</td>\n      <td>...</td>\n      <td>...</td>\n      <td>...</td>\n      <td>...</td>\n      <td>...</td>\n      <td>...</td>\n      <td>...</td>\n      <td>...</td>\n    </tr>\n    <tr>\n      <th>5984515</th>\n      <td>2020-09-22</td>\n      <td>18438270306572912089</td>\n      <td>1</td>\n      <td>104</td>\n      <td>110</td>\n      <td>809238001</td>\n      <td>7</td>\n      <td>1</td>\n      <td>0.041612</td>\n    </tr>\n    <tr>\n      <th>5984516</th>\n      <td>2020-09-22</td>\n      <td>18438270306572912089</td>\n      <td>1</td>\n      <td>104</td>\n      <td>111</td>\n      <td>762846027</td>\n      <td>9</td>\n      <td>1</td>\n      <td>0.025104</td>\n    </tr>\n    <tr>\n      <th>5984517</th>\n      <td>2020-09-22</td>\n      <td>18438270306572912089</td>\n      <td>1</td>\n      <td>104</td>\n      <td>113</td>\n      <td>809238005</td>\n      <td>10</td>\n      <td>1</td>\n      <td>0.041656</td>\n    </tr>\n    <tr>\n      <th>5984518</th>\n      <td>2020-09-22</td>\n      <td>18438270306572912089</td>\n      <td>1</td>\n      <td>104</td>\n      <td>114</td>\n      <td>673677002</td>\n      <td>11</td>\n      <td>0</td>\n      <td>0.024925</td>\n    </tr>\n    <tr>\n      <th>5984519</th>\n      <td>2020-09-22</td>\n      <td>18438270306572912089</td>\n      <td>1</td>\n      <td>104</td>\n      <td>115</td>\n      <td>923758001</td>\n      <td>12</td>\n      <td>1</td>\n      <td>0.033478</td>\n    </tr>\n  </tbody>\n</table>\n<p>5984520 rows × 9 columns</p>\n</div>"
     },
     "execution_count": 34,
     "metadata": {},
     "output_type": "execute_result"
    }
   ],
   "source": [
    "# candidate bestsellers for users we cannot generate personalized candidates for\n",
    "candidates_bestsellers = pd.merge(\n",
    "    unique_transactions_not_personalized,\n",
    "    bestsellers_previous_week,\n",
    "    on='week',\n",
    ")\n",
    "candidates_bestsellers"
   ],
   "metadata": {
    "collapsed": false,
    "ExecuteTime": {
     "end_time": "2024-01-26T22:48:15.744606600Z",
     "start_time": "2024-01-26T22:48:15.474108400Z"
    }
   }
  },
  {
   "cell_type": "code",
   "execution_count": 35,
   "outputs": [
    {
     "data": {
      "text/plain": "        index  article_id  sales_count           customer_id  week\n73      87446   827907001       2000.0    845940109071444979    96\n74      87446   827907001       2000.0   5693573144300706032    96\n75      87446   827907001       2000.0   7004433352234558241    96\n76      87446   827907001       2000.0   9537503610367461912    96\n77      87446   827907001       2000.0   9782683950275054240    96\n...       ...         ...          ...                   ...   ...\n120653  83833   813538002       1658.0  13792101878921932687    96\n120655  83833   813538002       1658.0  15083845044766287643    96\n120657  83833   813538002       1658.0  15121917964838131157    96\n120658  83833   813538002       1658.0  17372960074283024964    96\n120659  83833   813538002       1658.0  17910290199070732775    96\n\n[11838 rows x 5 columns]",
      "text/html": "<div>\n<style scoped>\n    .dataframe tbody tr th:only-of-type {\n        vertical-align: middle;\n    }\n\n    .dataframe tbody tr th {\n        vertical-align: top;\n    }\n\n    .dataframe thead th {\n        text-align: right;\n    }\n</style>\n<table border=\"1\" class=\"dataframe\">\n  <thead>\n    <tr style=\"text-align: right;\">\n      <th></th>\n      <th>index</th>\n      <th>article_id</th>\n      <th>sales_count</th>\n      <th>customer_id</th>\n      <th>week</th>\n    </tr>\n  </thead>\n  <tbody>\n    <tr>\n      <th>73</th>\n      <td>87446</td>\n      <td>827907001</td>\n      <td>2000.0</td>\n      <td>845940109071444979</td>\n      <td>96</td>\n    </tr>\n    <tr>\n      <th>74</th>\n      <td>87446</td>\n      <td>827907001</td>\n      <td>2000.0</td>\n      <td>5693573144300706032</td>\n      <td>96</td>\n    </tr>\n    <tr>\n      <th>75</th>\n      <td>87446</td>\n      <td>827907001</td>\n      <td>2000.0</td>\n      <td>7004433352234558241</td>\n      <td>96</td>\n    </tr>\n    <tr>\n      <th>76</th>\n      <td>87446</td>\n      <td>827907001</td>\n      <td>2000.0</td>\n      <td>9537503610367461912</td>\n      <td>96</td>\n    </tr>\n    <tr>\n      <th>77</th>\n      <td>87446</td>\n      <td>827907001</td>\n      <td>2000.0</td>\n      <td>9782683950275054240</td>\n      <td>96</td>\n    </tr>\n    <tr>\n      <th>...</th>\n      <td>...</td>\n      <td>...</td>\n      <td>...</td>\n      <td>...</td>\n      <td>...</td>\n    </tr>\n    <tr>\n      <th>120653</th>\n      <td>83833</td>\n      <td>813538002</td>\n      <td>1658.0</td>\n      <td>13792101878921932687</td>\n      <td>96</td>\n    </tr>\n    <tr>\n      <th>120655</th>\n      <td>83833</td>\n      <td>813538002</td>\n      <td>1658.0</td>\n      <td>15083845044766287643</td>\n      <td>96</td>\n    </tr>\n    <tr>\n      <th>120657</th>\n      <td>83833</td>\n      <td>813538002</td>\n      <td>1658.0</td>\n      <td>15121917964838131157</td>\n      <td>96</td>\n    </tr>\n    <tr>\n      <th>120658</th>\n      <td>83833</td>\n      <td>813538002</td>\n      <td>1658.0</td>\n      <td>17372960074283024964</td>\n      <td>96</td>\n    </tr>\n    <tr>\n      <th>120659</th>\n      <td>83833</td>\n      <td>813538002</td>\n      <td>1658.0</td>\n      <td>17910290199070732775</td>\n      <td>96</td>\n    </tr>\n  </tbody>\n</table>\n<p>11838 rows × 5 columns</p>\n</div>"
     },
     "execution_count": 35,
     "metadata": {},
     "output_type": "execute_result"
    }
   ],
   "source": [
    "top_long_tail_transaction_per_user[top_long_tail_transaction_per_user[\"week\"]==96]"
   ],
   "metadata": {
    "collapsed": false,
    "ExecuteTime": {
     "end_time": "2024-01-26T22:48:15.751106900Z",
     "start_time": "2024-01-26T22:48:15.743107500Z"
    }
   }
  },
  {
   "cell_type": "code",
   "execution_count": 36,
   "outputs": [
    {
     "data": {
      "text/plain": "article_id\n791587018    185\n895002004    149\n816588001    147\n821746001    137\n875451001    133\n            ... \n828652001      1\n696209007      1\n708459007      1\n854678005      1\n576897002      1\nName: count, Length: 547, dtype: int64"
     },
     "execution_count": 36,
     "metadata": {},
     "output_type": "execute_result"
    }
   ],
   "source": [
    "top_long_tail_transaction_per_user[top_long_tail_transaction_per_user[\"week\"]==96][\"article_id\"].value_counts()"
   ],
   "metadata": {
    "collapsed": false,
    "ExecuteTime": {
     "end_time": "2024-01-26T22:48:15.764106900Z",
     "start_time": "2024-01-26T22:48:15.751106900Z"
    }
   }
  },
  {
   "cell_type": "code",
   "execution_count": 37,
   "outputs": [
    {
     "data": {
      "text/plain": "              t_dat           customer_id  sales_channel_id  week\n29334775 2020-07-22       200292573348128                 2    96\n29330872 2020-07-22       248294615847351                 1    96\n29319533 2020-07-22       272412481300040                 1    96\n29357168 2020-07-22       649760207043851                 1    96\n29324267 2020-07-22      2269719878901327                 1    96\n...             ...                   ...               ...   ...\n29602896 2020-07-28  18437287698903424427                 1    96\n29579216 2020-07-28  18442208713248673405                 2    96\n29601372 2020-07-28  18443005737395567187                 1    96\n29589628 2020-07-28  18443721675496509156                 2    96\n29567766 2020-07-28  18445692600011570228                 2    96\n\n[80591 rows x 4 columns]",
      "text/html": "<div>\n<style scoped>\n    .dataframe tbody tr th:only-of-type {\n        vertical-align: middle;\n    }\n\n    .dataframe tbody tr th {\n        vertical-align: top;\n    }\n\n    .dataframe thead th {\n        text-align: right;\n    }\n</style>\n<table border=\"1\" class=\"dataframe\">\n  <thead>\n    <tr style=\"text-align: right;\">\n      <th></th>\n      <th>t_dat</th>\n      <th>customer_id</th>\n      <th>sales_channel_id</th>\n      <th>week</th>\n    </tr>\n  </thead>\n  <tbody>\n    <tr>\n      <th>29334775</th>\n      <td>2020-07-22</td>\n      <td>200292573348128</td>\n      <td>2</td>\n      <td>96</td>\n    </tr>\n    <tr>\n      <th>29330872</th>\n      <td>2020-07-22</td>\n      <td>248294615847351</td>\n      <td>1</td>\n      <td>96</td>\n    </tr>\n    <tr>\n      <th>29319533</th>\n      <td>2020-07-22</td>\n      <td>272412481300040</td>\n      <td>1</td>\n      <td>96</td>\n    </tr>\n    <tr>\n      <th>29357168</th>\n      <td>2020-07-22</td>\n      <td>649760207043851</td>\n      <td>1</td>\n      <td>96</td>\n    </tr>\n    <tr>\n      <th>29324267</th>\n      <td>2020-07-22</td>\n      <td>2269719878901327</td>\n      <td>1</td>\n      <td>96</td>\n    </tr>\n    <tr>\n      <th>...</th>\n      <td>...</td>\n      <td>...</td>\n      <td>...</td>\n      <td>...</td>\n    </tr>\n    <tr>\n      <th>29602896</th>\n      <td>2020-07-28</td>\n      <td>18437287698903424427</td>\n      <td>1</td>\n      <td>96</td>\n    </tr>\n    <tr>\n      <th>29579216</th>\n      <td>2020-07-28</td>\n      <td>18442208713248673405</td>\n      <td>2</td>\n      <td>96</td>\n    </tr>\n    <tr>\n      <th>29601372</th>\n      <td>2020-07-28</td>\n      <td>18443005737395567187</td>\n      <td>1</td>\n      <td>96</td>\n    </tr>\n    <tr>\n      <th>29589628</th>\n      <td>2020-07-28</td>\n      <td>18443721675496509156</td>\n      <td>2</td>\n      <td>96</td>\n    </tr>\n    <tr>\n      <th>29567766</th>\n      <td>2020-07-28</td>\n      <td>18445692600011570228</td>\n      <td>2</td>\n      <td>96</td>\n    </tr>\n  </tbody>\n</table>\n<p>80591 rows × 4 columns</p>\n</div>"
     },
     "execution_count": 37,
     "metadata": {},
     "output_type": "execute_result"
    }
   ],
   "source": [
    "unique_transactions[unique_transactions[\"week\"]==96]"
   ],
   "metadata": {
    "collapsed": false,
    "ExecuteTime": {
     "end_time": "2024-01-26T22:48:15.777607Z",
     "start_time": "2024-01-26T22:48:15.757106600Z"
    }
   }
  },
  {
   "cell_type": "markdown",
   "source": [
    "### Generating personalized candidates"
   ],
   "metadata": {
    "collapsed": false
   }
  },
  {
   "cell_type": "markdown",
   "source": [
    "We'll use a random user as example to see how the candidates will get replaced"
   ],
   "metadata": {
    "collapsed": false
   }
  },
  {
   "cell_type": "code",
   "execution_count": 38,
   "outputs": [
    {
     "data": {
      "text/plain": "    index  article_id  sales_count         customer_id  week\n73  87446   827907001       2000.0  845940109071444979    96",
      "text/html": "<div>\n<style scoped>\n    .dataframe tbody tr th:only-of-type {\n        vertical-align: middle;\n    }\n\n    .dataframe tbody tr th {\n        vertical-align: top;\n    }\n\n    .dataframe thead th {\n        text-align: right;\n    }\n</style>\n<table border=\"1\" class=\"dataframe\">\n  <thead>\n    <tr style=\"text-align: right;\">\n      <th></th>\n      <th>index</th>\n      <th>article_id</th>\n      <th>sales_count</th>\n      <th>customer_id</th>\n      <th>week</th>\n    </tr>\n  </thead>\n  <tbody>\n    <tr>\n      <th>73</th>\n      <td>87446</td>\n      <td>827907001</td>\n      <td>2000.0</td>\n      <td>845940109071444979</td>\n      <td>96</td>\n    </tr>\n  </tbody>\n</table>\n</div>"
     },
     "execution_count": 38,
     "metadata": {},
     "output_type": "execute_result"
    }
   ],
   "source": [
    "random_user = top_long_tail_transaction_per_user[top_long_tail_transaction_per_user[\"week\"]==96].head(1)\n",
    "random_user_remaining_bestsellers_week_96 = None\n",
    "random_user"
   ],
   "metadata": {
    "collapsed": false,
    "ExecuteTime": {
     "end_time": "2024-01-26T22:48:15.803107900Z",
     "start_time": "2024-01-26T22:48:15.766108100Z"
    }
   }
  },
  {
   "cell_type": "code",
   "execution_count": 39,
   "outputs": [
    {
     "name": "stderr",
     "output_type": "stream",
     "text": [
      "C:\\Users\\guled\\AppData\\Local\\Temp\\ipykernel_7572\\1999363555.py:15: FutureWarning: The behavior of DataFrame concatenation with empty or all-NA entries is deprecated. In a future version, this will no longer exclude empty or all-NA columns when determining the result dtypes. To retain the old behavior, exclude the relevant entries before the concat operation.\n",
      "  candidates_bestsellers_personalized = pd.concat([candidates_bestsellers_personalized, unpersonalized_candidates_week])\n"
     ]
    }
   ],
   "source": [
    "candidates_bestsellers_personalized = pd.DataFrame(columns=candidates_bestsellers.columns) # start with empty dataframe\n",
    "\n",
    "if K>0:\n",
    "    for week in range (96, 106):\n",
    "        unique_long_tail_transactions_week = top_long_tail_transaction_per_user[top_long_tail_transaction_per_user[\"week\"]==week]\n",
    "\n",
    "        # generate unpersonalized candidates for customers that did not make any long tail purchase in the current week\n",
    "        unique_transactions_week = unique_transactions[unique_transactions[\"week\"]==week]\n",
    "        unique_transactions_week_not_purchased = unique_transactions_week[~unique_transactions_week[\"customer_id\"].isin(unique_long_tail_transactions_week[\"customer_id\"])]\n",
    "        unpersonalized_candidates_week = pd.merge( # matches all ids that didn't purchase in current week to the bestsellers for the same week\n",
    "        unique_transactions_week_not_purchased,\n",
    "        bestsellers_previous_week[bestsellers_previous_week[\"week\"]==week],\n",
    "        on='week',\n",
    "        )\n",
    "        candidates_bestsellers_personalized = pd.concat([candidates_bestsellers_personalized, unpersonalized_candidates_week])\n",
    "    \n",
    "        # generate personalized candidates for remaining customers who did makes purchases\n",
    "        unique_transactions_week_purchased = unique_long_tail_transactions_week\n",
    "\n",
    "        # KNN: replace the article_ids with top K similar ones\n",
    "        unique_transactions_week_purchased = unique_transactions_week_purchased.merge(similar_long_tail_items[[\"article_id\", \"similar_article_id\"]], on=\"article_id\", how=\"left\")\n",
    "        unique_transactions_week_purchased.purchased = 1\n",
    "        # Since column similar_article_id contains arrays, we now explode in order to get a seperate row for each array value\n",
    "        unique_transactions_week_purchased = unique_transactions_week_purchased.explode(\"similar_article_id\")\n",
    "        # replace similar article id by article id, and delete original one\n",
    "        unique_transactions_week_purchased = unique_transactions_week_purchased.drop(columns=\"article_id\")\n",
    "        unique_transactions_week_purchased = unique_transactions_week_purchased.rename(columns={\"similar_article_id\":\"article_id\"})\n",
    "    \n",
    "        # add extra info used by Radek\n",
    "        personalized_customers_added_data = unique_long_tail_transactions_week.merge(unique_transactions[unique_transactions[\"week\"]==week][[\"t_dat\", \"customer_id\", \"sales_channel_id\"]], on=\"customer_id\", how=\"left\")\n",
    "    \n",
    "        # first K bestsellers got replaced by personalized items per user, so slice K rows\n",
    "        remaining_bestsellers = bestsellers_previous_week[bestsellers_previous_week[\"week\"]==week].head(12-K)\n",
    "        if week == 96:\n",
    "            random_user_remaining_bestsellers_week_96 = remaining_bestsellers\n",
    "        remaining_candidates_week = pd.merge(\n",
    "        unique_long_tail_transactions_week[[\"customer_id\", \"week\"]],\n",
    "        remaining_bestsellers,\n",
    "        on='week',\n",
    "        )\n",
    "        \n",
    "        # personalized candidates by concat personalized and bestseller candidates together\n",
    "        candidates_bestsellers_personalized = pd.concat([candidates_bestsellers_personalized, unique_transactions_week_purchased])\n",
    "        candidates_bestsellers_personalized = pd.concat([candidates_bestsellers_personalized, remaining_candidates_week])\n",
    "        candidates_bestsellers_personalized = candidates_bestsellers_personalized.drop(columns=[\"sales_count\"])\n",
    "        candidates_bestsellers_personalized[\"article_id\"] = candidates_bestsellers_personalized[\"article_id\"].astype(\"int32\") # got converted to object\n",
    "        # give personalized items higher bestseller_rank\n",
    "        candidates_bestsellers_personalized[\"bestseller_rank\"] = candidates_bestsellers_personalized[\"bestseller_rank\"].fillna(1).astype(\"int32\")\n",
    "        candidates_bestsellers_personalized[\"long_tail\"] = candidates_bestsellers_personalized[\"long_tail\"].fillna(1).astype(\"int32\") # replaced items will have NaN value, but they are definitely Long Tail items"
   ],
   "metadata": {
    "collapsed": false,
    "ExecuteTime": {
     "end_time": "2024-01-26T22:48:27.705108300Z",
     "start_time": "2024-01-26T22:48:15.776108Z"
    }
   }
  },
  {
   "cell_type": "markdown",
   "source": [],
   "metadata": {
    "collapsed": false
   }
  },
  {
   "cell_type": "markdown",
   "source": [
    "Remaining bestseller candidates for the random user when K popular items have been sliced off:"
   ],
   "metadata": {
    "collapsed": false
   }
  },
  {
   "cell_type": "code",
   "execution_count": 40,
   "outputs": [
    {
     "data": {
      "text/plain": "    index  week  article_id  bestseller_rank  long_tail     price\n0       0    96   760084003                1          0  0.025094\n2       2    96   866731001                2          0  0.024919\n5       5    96   600886001                3          0  0.022980\n6       6    96   706016001                4          0  0.033197\n11     11    96   372860002                5          0  0.013193\n14     14    96   610776002                6          0  0.008318\n17     17    96   877278002                7          0  0.025036\n18     18    96   547780003                8          0  0.024814\n19     19    96   817354001                9          0  0.021913\n20     20    96   827968001               10          0  0.016436\n23     23    96   866731003               11          1  0.024893",
      "text/html": "<div>\n<style scoped>\n    .dataframe tbody tr th:only-of-type {\n        vertical-align: middle;\n    }\n\n    .dataframe tbody tr th {\n        vertical-align: top;\n    }\n\n    .dataframe thead th {\n        text-align: right;\n    }\n</style>\n<table border=\"1\" class=\"dataframe\">\n  <thead>\n    <tr style=\"text-align: right;\">\n      <th></th>\n      <th>index</th>\n      <th>week</th>\n      <th>article_id</th>\n      <th>bestseller_rank</th>\n      <th>long_tail</th>\n      <th>price</th>\n    </tr>\n  </thead>\n  <tbody>\n    <tr>\n      <th>0</th>\n      <td>0</td>\n      <td>96</td>\n      <td>760084003</td>\n      <td>1</td>\n      <td>0</td>\n      <td>0.025094</td>\n    </tr>\n    <tr>\n      <th>2</th>\n      <td>2</td>\n      <td>96</td>\n      <td>866731001</td>\n      <td>2</td>\n      <td>0</td>\n      <td>0.024919</td>\n    </tr>\n    <tr>\n      <th>5</th>\n      <td>5</td>\n      <td>96</td>\n      <td>600886001</td>\n      <td>3</td>\n      <td>0</td>\n      <td>0.022980</td>\n    </tr>\n    <tr>\n      <th>6</th>\n      <td>6</td>\n      <td>96</td>\n      <td>706016001</td>\n      <td>4</td>\n      <td>0</td>\n      <td>0.033197</td>\n    </tr>\n    <tr>\n      <th>11</th>\n      <td>11</td>\n      <td>96</td>\n      <td>372860002</td>\n      <td>5</td>\n      <td>0</td>\n      <td>0.013193</td>\n    </tr>\n    <tr>\n      <th>14</th>\n      <td>14</td>\n      <td>96</td>\n      <td>610776002</td>\n      <td>6</td>\n      <td>0</td>\n      <td>0.008318</td>\n    </tr>\n    <tr>\n      <th>17</th>\n      <td>17</td>\n      <td>96</td>\n      <td>877278002</td>\n      <td>7</td>\n      <td>0</td>\n      <td>0.025036</td>\n    </tr>\n    <tr>\n      <th>18</th>\n      <td>18</td>\n      <td>96</td>\n      <td>547780003</td>\n      <td>8</td>\n      <td>0</td>\n      <td>0.024814</td>\n    </tr>\n    <tr>\n      <th>19</th>\n      <td>19</td>\n      <td>96</td>\n      <td>817354001</td>\n      <td>9</td>\n      <td>0</td>\n      <td>0.021913</td>\n    </tr>\n    <tr>\n      <th>20</th>\n      <td>20</td>\n      <td>96</td>\n      <td>827968001</td>\n      <td>10</td>\n      <td>0</td>\n      <td>0.016436</td>\n    </tr>\n    <tr>\n      <th>23</th>\n      <td>23</td>\n      <td>96</td>\n      <td>866731003</td>\n      <td>11</td>\n      <td>1</td>\n      <td>0.024893</td>\n    </tr>\n  </tbody>\n</table>\n</div>"
     },
     "execution_count": 40,
     "metadata": {},
     "output_type": "execute_result"
    }
   ],
   "source": [
    "random_user_remaining_bestsellers_week_96"
   ],
   "metadata": {
    "collapsed": false,
    "ExecuteTime": {
     "end_time": "2024-01-26T22:48:27.711606400Z",
     "start_time": "2024-01-26T22:48:27.706106800Z"
    }
   }
  },
  {
   "cell_type": "markdown",
   "source": [
    "New Personalized + bestseller candidates of the random user when the sliced off items have been replaced by similar items. The items have all received bestseller_rank=1 for more priority"
   ],
   "metadata": {
    "collapsed": false
   }
  },
  {
   "cell_type": "code",
   "execution_count": 41,
   "outputs": [
    {
     "data": {
      "text/plain": "   t_dat         customer_id sales_channel_id week  index  article_id  \\\n0    NaT  845940109071444979              NaN   96  87446   779781001   \n0    NaT  845940109071444979              NaN   96      0   760084003   \n1    NaT  845940109071444979              NaN   96      2   866731001   \n2    NaT  845940109071444979              NaN   96      5   600886001   \n3    NaT  845940109071444979              NaN   96      6   706016001   \n4    NaT  845940109071444979              NaN   96     11   372860002   \n5    NaT  845940109071444979              NaN   96     14   610776002   \n6    NaT  845940109071444979              NaN   96     17   877278002   \n7    NaT  845940109071444979              NaN   96     18   547780003   \n8    NaT  845940109071444979              NaN   96     19   817354001   \n9    NaT  845940109071444979              NaN   96     20   827968001   \n10   NaT  845940109071444979              NaN   96     23   866731003   \n\n    bestseller_rank  long_tail     price  \n0                 1          1       NaN  \n0                 1          0  0.025094  \n1                 2          0  0.024919  \n2                 3          0  0.022980  \n3                 4          0  0.033197  \n4                 5          0  0.013193  \n5                 6          0  0.008318  \n6                 7          0  0.025036  \n7                 8          0  0.024814  \n8                 9          0  0.021913  \n9                10          0  0.016436  \n10               11          1  0.024893  ",
      "text/html": "<div>\n<style scoped>\n    .dataframe tbody tr th:only-of-type {\n        vertical-align: middle;\n    }\n\n    .dataframe tbody tr th {\n        vertical-align: top;\n    }\n\n    .dataframe thead th {\n        text-align: right;\n    }\n</style>\n<table border=\"1\" class=\"dataframe\">\n  <thead>\n    <tr style=\"text-align: right;\">\n      <th></th>\n      <th>t_dat</th>\n      <th>customer_id</th>\n      <th>sales_channel_id</th>\n      <th>week</th>\n      <th>index</th>\n      <th>article_id</th>\n      <th>bestseller_rank</th>\n      <th>long_tail</th>\n      <th>price</th>\n    </tr>\n  </thead>\n  <tbody>\n    <tr>\n      <th>0</th>\n      <td>NaT</td>\n      <td>845940109071444979</td>\n      <td>NaN</td>\n      <td>96</td>\n      <td>87446</td>\n      <td>779781001</td>\n      <td>1</td>\n      <td>1</td>\n      <td>NaN</td>\n    </tr>\n    <tr>\n      <th>0</th>\n      <td>NaT</td>\n      <td>845940109071444979</td>\n      <td>NaN</td>\n      <td>96</td>\n      <td>0</td>\n      <td>760084003</td>\n      <td>1</td>\n      <td>0</td>\n      <td>0.025094</td>\n    </tr>\n    <tr>\n      <th>1</th>\n      <td>NaT</td>\n      <td>845940109071444979</td>\n      <td>NaN</td>\n      <td>96</td>\n      <td>2</td>\n      <td>866731001</td>\n      <td>2</td>\n      <td>0</td>\n      <td>0.024919</td>\n    </tr>\n    <tr>\n      <th>2</th>\n      <td>NaT</td>\n      <td>845940109071444979</td>\n      <td>NaN</td>\n      <td>96</td>\n      <td>5</td>\n      <td>600886001</td>\n      <td>3</td>\n      <td>0</td>\n      <td>0.022980</td>\n    </tr>\n    <tr>\n      <th>3</th>\n      <td>NaT</td>\n      <td>845940109071444979</td>\n      <td>NaN</td>\n      <td>96</td>\n      <td>6</td>\n      <td>706016001</td>\n      <td>4</td>\n      <td>0</td>\n      <td>0.033197</td>\n    </tr>\n    <tr>\n      <th>4</th>\n      <td>NaT</td>\n      <td>845940109071444979</td>\n      <td>NaN</td>\n      <td>96</td>\n      <td>11</td>\n      <td>372860002</td>\n      <td>5</td>\n      <td>0</td>\n      <td>0.013193</td>\n    </tr>\n    <tr>\n      <th>5</th>\n      <td>NaT</td>\n      <td>845940109071444979</td>\n      <td>NaN</td>\n      <td>96</td>\n      <td>14</td>\n      <td>610776002</td>\n      <td>6</td>\n      <td>0</td>\n      <td>0.008318</td>\n    </tr>\n    <tr>\n      <th>6</th>\n      <td>NaT</td>\n      <td>845940109071444979</td>\n      <td>NaN</td>\n      <td>96</td>\n      <td>17</td>\n      <td>877278002</td>\n      <td>7</td>\n      <td>0</td>\n      <td>0.025036</td>\n    </tr>\n    <tr>\n      <th>7</th>\n      <td>NaT</td>\n      <td>845940109071444979</td>\n      <td>NaN</td>\n      <td>96</td>\n      <td>18</td>\n      <td>547780003</td>\n      <td>8</td>\n      <td>0</td>\n      <td>0.024814</td>\n    </tr>\n    <tr>\n      <th>8</th>\n      <td>NaT</td>\n      <td>845940109071444979</td>\n      <td>NaN</td>\n      <td>96</td>\n      <td>19</td>\n      <td>817354001</td>\n      <td>9</td>\n      <td>0</td>\n      <td>0.021913</td>\n    </tr>\n    <tr>\n      <th>9</th>\n      <td>NaT</td>\n      <td>845940109071444979</td>\n      <td>NaN</td>\n      <td>96</td>\n      <td>20</td>\n      <td>827968001</td>\n      <td>10</td>\n      <td>0</td>\n      <td>0.016436</td>\n    </tr>\n    <tr>\n      <th>10</th>\n      <td>NaT</td>\n      <td>845940109071444979</td>\n      <td>NaN</td>\n      <td>96</td>\n      <td>23</td>\n      <td>866731003</td>\n      <td>11</td>\n      <td>1</td>\n      <td>0.024893</td>\n    </tr>\n  </tbody>\n</table>\n</div>"
     },
     "execution_count": 41,
     "metadata": {},
     "output_type": "execute_result"
    }
   ],
   "source": [
    "candidates_bestsellers_personalized[candidates_bestsellers_personalized[\"customer_id\"] == random_user[\"customer_id\"].values[0]]"
   ],
   "metadata": {
    "collapsed": false,
    "ExecuteTime": {
     "end_time": "2024-01-26T22:48:34.758107600Z",
     "start_time": "2024-01-26T22:48:27.715607400Z"
    }
   }
  },
  {
   "cell_type": "markdown",
   "source": [
    "Article info gets added like Radek did"
   ],
   "metadata": {
    "collapsed": false
   }
  },
  {
   "cell_type": "code",
   "execution_count": 42,
   "outputs": [
    {
     "data": {
      "text/plain": "           t_dat           customer_id sales_channel_id week index  \\\n0     2020-07-22       200292573348128                2   96     0   \n1     2020-07-22       200292573348128                2   96     2   \n2     2020-07-22       200292573348128                2   96     5   \n3     2020-07-22       200292573348128                2   96     6   \n4     2020-07-22       200292573348128                2   96    11   \n...          ...                   ...              ...  ...   ...   \n77732        NaT  11391775260805284296              NaN  104   108   \n77733        NaT  11391775260805284296              NaN  104   110   \n77734        NaT  11391775260805284296              NaN  104   111   \n77735        NaT  11391775260805284296              NaN  104   113   \n77736        NaT  11391775260805284296              NaN  104   114   \n\n       article_id  bestseller_rank  long_tail     price  \n0       760084003                1          0  0.025094  \n1       866731001                2          0  0.024919  \n2       600886001                3          0  0.022980  \n3       706016001                4          0  0.033197  \n4       372860002                5          0  0.013193  \n...           ...              ...        ...       ...  \n77732   924243001                4          1  0.041549  \n77733   809238001                7          1  0.041612  \n77734   762846027                9          1  0.025104  \n77735   809238005               10          1  0.041656  \n77736   673677002               11          0  0.024925  \n\n[8141196 rows x 9 columns]",
      "text/html": "<div>\n<style scoped>\n    .dataframe tbody tr th:only-of-type {\n        vertical-align: middle;\n    }\n\n    .dataframe tbody tr th {\n        vertical-align: top;\n    }\n\n    .dataframe thead th {\n        text-align: right;\n    }\n</style>\n<table border=\"1\" class=\"dataframe\">\n  <thead>\n    <tr style=\"text-align: right;\">\n      <th></th>\n      <th>t_dat</th>\n      <th>customer_id</th>\n      <th>sales_channel_id</th>\n      <th>week</th>\n      <th>index</th>\n      <th>article_id</th>\n      <th>bestseller_rank</th>\n      <th>long_tail</th>\n      <th>price</th>\n    </tr>\n  </thead>\n  <tbody>\n    <tr>\n      <th>0</th>\n      <td>2020-07-22</td>\n      <td>200292573348128</td>\n      <td>2</td>\n      <td>96</td>\n      <td>0</td>\n      <td>760084003</td>\n      <td>1</td>\n      <td>0</td>\n      <td>0.025094</td>\n    </tr>\n    <tr>\n      <th>1</th>\n      <td>2020-07-22</td>\n      <td>200292573348128</td>\n      <td>2</td>\n      <td>96</td>\n      <td>2</td>\n      <td>866731001</td>\n      <td>2</td>\n      <td>0</td>\n      <td>0.024919</td>\n    </tr>\n    <tr>\n      <th>2</th>\n      <td>2020-07-22</td>\n      <td>200292573348128</td>\n      <td>2</td>\n      <td>96</td>\n      <td>5</td>\n      <td>600886001</td>\n      <td>3</td>\n      <td>0</td>\n      <td>0.022980</td>\n    </tr>\n    <tr>\n      <th>3</th>\n      <td>2020-07-22</td>\n      <td>200292573348128</td>\n      <td>2</td>\n      <td>96</td>\n      <td>6</td>\n      <td>706016001</td>\n      <td>4</td>\n      <td>0</td>\n      <td>0.033197</td>\n    </tr>\n    <tr>\n      <th>4</th>\n      <td>2020-07-22</td>\n      <td>200292573348128</td>\n      <td>2</td>\n      <td>96</td>\n      <td>11</td>\n      <td>372860002</td>\n      <td>5</td>\n      <td>0</td>\n      <td>0.013193</td>\n    </tr>\n    <tr>\n      <th>...</th>\n      <td>...</td>\n      <td>...</td>\n      <td>...</td>\n      <td>...</td>\n      <td>...</td>\n      <td>...</td>\n      <td>...</td>\n      <td>...</td>\n      <td>...</td>\n    </tr>\n    <tr>\n      <th>77732</th>\n      <td>NaT</td>\n      <td>11391775260805284296</td>\n      <td>NaN</td>\n      <td>104</td>\n      <td>108</td>\n      <td>924243001</td>\n      <td>4</td>\n      <td>1</td>\n      <td>0.041549</td>\n    </tr>\n    <tr>\n      <th>77733</th>\n      <td>NaT</td>\n      <td>11391775260805284296</td>\n      <td>NaN</td>\n      <td>104</td>\n      <td>110</td>\n      <td>809238001</td>\n      <td>7</td>\n      <td>1</td>\n      <td>0.041612</td>\n    </tr>\n    <tr>\n      <th>77734</th>\n      <td>NaT</td>\n      <td>11391775260805284296</td>\n      <td>NaN</td>\n      <td>104</td>\n      <td>111</td>\n      <td>762846027</td>\n      <td>9</td>\n      <td>1</td>\n      <td>0.025104</td>\n    </tr>\n    <tr>\n      <th>77735</th>\n      <td>NaT</td>\n      <td>11391775260805284296</td>\n      <td>NaN</td>\n      <td>104</td>\n      <td>113</td>\n      <td>809238005</td>\n      <td>10</td>\n      <td>1</td>\n      <td>0.041656</td>\n    </tr>\n    <tr>\n      <th>77736</th>\n      <td>NaT</td>\n      <td>11391775260805284296</td>\n      <td>NaN</td>\n      <td>104</td>\n      <td>114</td>\n      <td>673677002</td>\n      <td>11</td>\n      <td>0</td>\n      <td>0.024925</td>\n    </tr>\n  </tbody>\n</table>\n<p>8141196 rows × 9 columns</p>\n</div>"
     },
     "execution_count": 42,
     "metadata": {},
     "output_type": "execute_result"
    }
   ],
   "source": [
    "candidates_bestsellers_personalized"
   ],
   "metadata": {
    "collapsed": false,
    "ExecuteTime": {
     "end_time": "2024-01-26T22:48:34.771607100Z",
     "start_time": "2024-01-26T22:48:34.756107600Z"
    }
   }
  },
  {
   "cell_type": "code",
   "execution_count": 43,
   "outputs": [],
   "source": [
    "test_set_transactions = unique_transactions_not_personalized.drop_duplicates('customer_id').reset_index(drop=True)\n",
    "test_set_transactions.week = test_week"
   ],
   "metadata": {
    "collapsed": false,
    "ExecuteTime": {
     "end_time": "2024-01-26T22:48:34.832108100Z",
     "start_time": "2024-01-26T22:48:34.765606800Z"
    }
   }
  },
  {
   "cell_type": "code",
   "execution_count": 44,
   "outputs": [
    {
     "data": {
      "text/plain": "            t_dat           customer_id  sales_channel_id  week\n0      2020-07-15      1456826891333599                 1   105\n1      2020-07-15      2133687643102426                 2   105\n2      2020-07-15      6010692573790711                 1   105\n3      2020-07-15      6171059100114610                 2   105\n4      2020-07-15      6434044519214559                 2   105\n...           ...                   ...               ...   ...\n350433 2020-09-22  18403657855694067653                 2   105\n350434 2020-09-22  18409112236320621348                 2   105\n350435 2020-09-22  18410229429441241008                 2   105\n350436 2020-09-22  18418054986721795659                 2   105\n350437 2020-09-22  18438270306572912089                 1   105\n\n[350438 rows x 4 columns]",
      "text/html": "<div>\n<style scoped>\n    .dataframe tbody tr th:only-of-type {\n        vertical-align: middle;\n    }\n\n    .dataframe tbody tr th {\n        vertical-align: top;\n    }\n\n    .dataframe thead th {\n        text-align: right;\n    }\n</style>\n<table border=\"1\" class=\"dataframe\">\n  <thead>\n    <tr style=\"text-align: right;\">\n      <th></th>\n      <th>t_dat</th>\n      <th>customer_id</th>\n      <th>sales_channel_id</th>\n      <th>week</th>\n    </tr>\n  </thead>\n  <tbody>\n    <tr>\n      <th>0</th>\n      <td>2020-07-15</td>\n      <td>1456826891333599</td>\n      <td>1</td>\n      <td>105</td>\n    </tr>\n    <tr>\n      <th>1</th>\n      <td>2020-07-15</td>\n      <td>2133687643102426</td>\n      <td>2</td>\n      <td>105</td>\n    </tr>\n    <tr>\n      <th>2</th>\n      <td>2020-07-15</td>\n      <td>6010692573790711</td>\n      <td>1</td>\n      <td>105</td>\n    </tr>\n    <tr>\n      <th>3</th>\n      <td>2020-07-15</td>\n      <td>6171059100114610</td>\n      <td>2</td>\n      <td>105</td>\n    </tr>\n    <tr>\n      <th>4</th>\n      <td>2020-07-15</td>\n      <td>6434044519214559</td>\n      <td>2</td>\n      <td>105</td>\n    </tr>\n    <tr>\n      <th>...</th>\n      <td>...</td>\n      <td>...</td>\n      <td>...</td>\n      <td>...</td>\n    </tr>\n    <tr>\n      <th>350433</th>\n      <td>2020-09-22</td>\n      <td>18403657855694067653</td>\n      <td>2</td>\n      <td>105</td>\n    </tr>\n    <tr>\n      <th>350434</th>\n      <td>2020-09-22</td>\n      <td>18409112236320621348</td>\n      <td>2</td>\n      <td>105</td>\n    </tr>\n    <tr>\n      <th>350435</th>\n      <td>2020-09-22</td>\n      <td>18410229429441241008</td>\n      <td>2</td>\n      <td>105</td>\n    </tr>\n    <tr>\n      <th>350436</th>\n      <td>2020-09-22</td>\n      <td>18418054986721795659</td>\n      <td>2</td>\n      <td>105</td>\n    </tr>\n    <tr>\n      <th>350437</th>\n      <td>2020-09-22</td>\n      <td>18438270306572912089</td>\n      <td>1</td>\n      <td>105</td>\n    </tr>\n  </tbody>\n</table>\n<p>350438 rows × 4 columns</p>\n</div>"
     },
     "execution_count": 44,
     "metadata": {},
     "output_type": "execute_result"
    }
   ],
   "source": [
    "test_set_transactions"
   ],
   "metadata": {
    "collapsed": false,
    "ExecuteTime": {
     "end_time": "2024-01-26T22:48:34.892108400Z",
     "start_time": "2024-01-26T22:48:34.797609300Z"
    }
   }
  },
  {
   "cell_type": "code",
   "execution_count": 45,
   "outputs": [
    {
     "name": "stdout",
     "output_type": "stream",
     "text": [
      "<class 'pandas.core.frame.DataFrame'>\n",
      "RangeIndex: 120 entries, 0 to 119\n",
      "Data columns (total 6 columns):\n",
      " #   Column           Non-Null Count  Dtype  \n",
      "---  ------           --------------  -----  \n",
      " 0   index            120 non-null    int64  \n",
      " 1   week             120 non-null    int8   \n",
      " 2   article_id       120 non-null    int32  \n",
      " 3   bestseller_rank  120 non-null    int8   \n",
      " 4   long_tail        120 non-null    int32  \n",
      " 5   price            120 non-null    float32\n",
      "dtypes: float32(1), int32(2), int64(1), int8(2)\n",
      "memory usage: 2.7 KB\n"
     ]
    }
   ],
   "source": [
    "bestsellers_previous_week.info()"
   ],
   "metadata": {
    "collapsed": false,
    "ExecuteTime": {
     "end_time": "2024-01-26T22:48:34.892608Z",
     "start_time": "2024-01-26T22:48:34.805106700Z"
    }
   }
  },
  {
   "cell_type": "code",
   "execution_count": 46,
   "outputs": [],
   "source": [
    "candidates_bestsellers_test_week = pd.merge(\n",
    "    test_set_transactions,\n",
    "    bestsellers_previous_week,\n",
    "    on='week'\n",
    ")"
   ],
   "metadata": {
    "collapsed": false,
    "ExecuteTime": {
     "end_time": "2024-01-26T22:48:35.033106900Z",
     "start_time": "2024-01-26T22:48:34.811607600Z"
    }
   }
  },
  {
   "cell_type": "code",
   "execution_count": 47,
   "outputs": [
    {
     "data": {
      "text/plain": "             t_dat           customer_id  sales_channel_id  week  index  \\\n0       2020-07-15      1456826891333599                 1   105      4   \n1       2020-07-15      1456826891333599                 1   105     39   \n2       2020-07-15      1456826891333599                 1   105     92   \n3       2020-07-15      1456826891333599                 1   105    100   \n4       2020-07-15      1456826891333599                 1   105    104   \n...            ...                   ...               ...   ...    ...   \n4205251 2020-09-22  18438270306572912089                 1   105    112   \n4205252 2020-09-22  18438270306572912089                 1   105    116   \n4205253 2020-09-22  18438270306572912089                 1   105    117   \n4205254 2020-09-22  18438270306572912089                 1   105    118   \n4205255 2020-09-22  18438270306572912089                 1   105    119   \n\n         article_id  bestseller_rank  long_tail     price  \n0         866731001                5          0  0.025015  \n1         751471001                7          0  0.033423  \n2         915529003                8          0  0.033439  \n3         448509014               10          0  0.041630  \n4         909370001                6          1  0.032640  \n...             ...              ...        ...       ...  \n4205251   762846027               11          1  0.025005  \n4205252   923758001                4          1  0.033462  \n4205253   924243002                2          1  0.041877  \n4205254   915529005                9          1  0.033417  \n4205255   714790020               12          0  0.049951  \n\n[4205256 rows x 9 columns]",
      "text/html": "<div>\n<style scoped>\n    .dataframe tbody tr th:only-of-type {\n        vertical-align: middle;\n    }\n\n    .dataframe tbody tr th {\n        vertical-align: top;\n    }\n\n    .dataframe thead th {\n        text-align: right;\n    }\n</style>\n<table border=\"1\" class=\"dataframe\">\n  <thead>\n    <tr style=\"text-align: right;\">\n      <th></th>\n      <th>t_dat</th>\n      <th>customer_id</th>\n      <th>sales_channel_id</th>\n      <th>week</th>\n      <th>index</th>\n      <th>article_id</th>\n      <th>bestseller_rank</th>\n      <th>long_tail</th>\n      <th>price</th>\n    </tr>\n  </thead>\n  <tbody>\n    <tr>\n      <th>0</th>\n      <td>2020-07-15</td>\n      <td>1456826891333599</td>\n      <td>1</td>\n      <td>105</td>\n      <td>4</td>\n      <td>866731001</td>\n      <td>5</td>\n      <td>0</td>\n      <td>0.025015</td>\n    </tr>\n    <tr>\n      <th>1</th>\n      <td>2020-07-15</td>\n      <td>1456826891333599</td>\n      <td>1</td>\n      <td>105</td>\n      <td>39</td>\n      <td>751471001</td>\n      <td>7</td>\n      <td>0</td>\n      <td>0.033423</td>\n    </tr>\n    <tr>\n      <th>2</th>\n      <td>2020-07-15</td>\n      <td>1456826891333599</td>\n      <td>1</td>\n      <td>105</td>\n      <td>92</td>\n      <td>915529003</td>\n      <td>8</td>\n      <td>0</td>\n      <td>0.033439</td>\n    </tr>\n    <tr>\n      <th>3</th>\n      <td>2020-07-15</td>\n      <td>1456826891333599</td>\n      <td>1</td>\n      <td>105</td>\n      <td>100</td>\n      <td>448509014</td>\n      <td>10</td>\n      <td>0</td>\n      <td>0.041630</td>\n    </tr>\n    <tr>\n      <th>4</th>\n      <td>2020-07-15</td>\n      <td>1456826891333599</td>\n      <td>1</td>\n      <td>105</td>\n      <td>104</td>\n      <td>909370001</td>\n      <td>6</td>\n      <td>1</td>\n      <td>0.032640</td>\n    </tr>\n    <tr>\n      <th>...</th>\n      <td>...</td>\n      <td>...</td>\n      <td>...</td>\n      <td>...</td>\n      <td>...</td>\n      <td>...</td>\n      <td>...</td>\n      <td>...</td>\n      <td>...</td>\n    </tr>\n    <tr>\n      <th>4205251</th>\n      <td>2020-09-22</td>\n      <td>18438270306572912089</td>\n      <td>1</td>\n      <td>105</td>\n      <td>112</td>\n      <td>762846027</td>\n      <td>11</td>\n      <td>1</td>\n      <td>0.025005</td>\n    </tr>\n    <tr>\n      <th>4205252</th>\n      <td>2020-09-22</td>\n      <td>18438270306572912089</td>\n      <td>1</td>\n      <td>105</td>\n      <td>116</td>\n      <td>923758001</td>\n      <td>4</td>\n      <td>1</td>\n      <td>0.033462</td>\n    </tr>\n    <tr>\n      <th>4205253</th>\n      <td>2020-09-22</td>\n      <td>18438270306572912089</td>\n      <td>1</td>\n      <td>105</td>\n      <td>117</td>\n      <td>924243002</td>\n      <td>2</td>\n      <td>1</td>\n      <td>0.041877</td>\n    </tr>\n    <tr>\n      <th>4205254</th>\n      <td>2020-09-22</td>\n      <td>18438270306572912089</td>\n      <td>1</td>\n      <td>105</td>\n      <td>118</td>\n      <td>915529005</td>\n      <td>9</td>\n      <td>1</td>\n      <td>0.033417</td>\n    </tr>\n    <tr>\n      <th>4205255</th>\n      <td>2020-09-22</td>\n      <td>18438270306572912089</td>\n      <td>1</td>\n      <td>105</td>\n      <td>119</td>\n      <td>714790020</td>\n      <td>12</td>\n      <td>0</td>\n      <td>0.049951</td>\n    </tr>\n  </tbody>\n</table>\n<p>4205256 rows × 9 columns</p>\n</div>"
     },
     "execution_count": 47,
     "metadata": {},
     "output_type": "execute_result"
    }
   ],
   "source": [
    "candidates_bestsellers_test_week"
   ],
   "metadata": {
    "collapsed": false,
    "ExecuteTime": {
     "end_time": "2024-01-26T22:48:35.069607200Z",
     "start_time": "2024-01-26T22:48:35.032607700Z"
    }
   }
  },
  {
   "cell_type": "markdown",
   "source": [
    "Bestsellers from test week get added to bestseller candidates of training weeks"
   ],
   "metadata": {
    "collapsed": false
   }
  },
  {
   "cell_type": "code",
   "execution_count": 48,
   "outputs": [],
   "source": [
    "candidates_bestsellers = pd.concat([candidates_bestsellers, candidates_bestsellers_test_week])"
   ],
   "metadata": {
    "collapsed": false,
    "ExecuteTime": {
     "end_time": "2024-01-26T22:48:35.176607100Z",
     "start_time": "2024-01-26T22:48:35.042109400Z"
    }
   }
  },
  {
   "cell_type": "code",
   "execution_count": 49,
   "outputs": [
    {
     "data": {
      "text/plain": "             t_dat           customer_id  sales_channel_id  week  index  \\\n0       2020-07-22       200292573348128                 2    96      0   \n1       2020-07-22       200292573348128                 2    96      2   \n2       2020-07-22       200292573348128                 2    96      5   \n3       2020-07-22       200292573348128                 2    96      6   \n4       2020-07-22       200292573348128                 2    96     11   \n...            ...                   ...               ...   ...    ...   \n4205251 2020-09-22  18438270306572912089                 1   105    112   \n4205252 2020-09-22  18438270306572912089                 1   105    116   \n4205253 2020-09-22  18438270306572912089                 1   105    117   \n4205254 2020-09-22  18438270306572912089                 1   105    118   \n4205255 2020-09-22  18438270306572912089                 1   105    119   \n\n         article_id  bestseller_rank  long_tail     price  \n0         760084003                1          0  0.025094  \n1         866731001                2          0  0.024919  \n2         600886001                3          0  0.022980  \n3         706016001                4          0  0.033197  \n4         372860002                5          0  0.013193  \n...             ...              ...        ...       ...  \n4205251   762846027               11          1  0.025005  \n4205252   923758001                4          1  0.033462  \n4205253   924243002                2          1  0.041877  \n4205254   915529005                9          1  0.033417  \n4205255   714790020               12          0  0.049951  \n\n[10189776 rows x 9 columns]",
      "text/html": "<div>\n<style scoped>\n    .dataframe tbody tr th:only-of-type {\n        vertical-align: middle;\n    }\n\n    .dataframe tbody tr th {\n        vertical-align: top;\n    }\n\n    .dataframe thead th {\n        text-align: right;\n    }\n</style>\n<table border=\"1\" class=\"dataframe\">\n  <thead>\n    <tr style=\"text-align: right;\">\n      <th></th>\n      <th>t_dat</th>\n      <th>customer_id</th>\n      <th>sales_channel_id</th>\n      <th>week</th>\n      <th>index</th>\n      <th>article_id</th>\n      <th>bestseller_rank</th>\n      <th>long_tail</th>\n      <th>price</th>\n    </tr>\n  </thead>\n  <tbody>\n    <tr>\n      <th>0</th>\n      <td>2020-07-22</td>\n      <td>200292573348128</td>\n      <td>2</td>\n      <td>96</td>\n      <td>0</td>\n      <td>760084003</td>\n      <td>1</td>\n      <td>0</td>\n      <td>0.025094</td>\n    </tr>\n    <tr>\n      <th>1</th>\n      <td>2020-07-22</td>\n      <td>200292573348128</td>\n      <td>2</td>\n      <td>96</td>\n      <td>2</td>\n      <td>866731001</td>\n      <td>2</td>\n      <td>0</td>\n      <td>0.024919</td>\n    </tr>\n    <tr>\n      <th>2</th>\n      <td>2020-07-22</td>\n      <td>200292573348128</td>\n      <td>2</td>\n      <td>96</td>\n      <td>5</td>\n      <td>600886001</td>\n      <td>3</td>\n      <td>0</td>\n      <td>0.022980</td>\n    </tr>\n    <tr>\n      <th>3</th>\n      <td>2020-07-22</td>\n      <td>200292573348128</td>\n      <td>2</td>\n      <td>96</td>\n      <td>6</td>\n      <td>706016001</td>\n      <td>4</td>\n      <td>0</td>\n      <td>0.033197</td>\n    </tr>\n    <tr>\n      <th>4</th>\n      <td>2020-07-22</td>\n      <td>200292573348128</td>\n      <td>2</td>\n      <td>96</td>\n      <td>11</td>\n      <td>372860002</td>\n      <td>5</td>\n      <td>0</td>\n      <td>0.013193</td>\n    </tr>\n    <tr>\n      <th>...</th>\n      <td>...</td>\n      <td>...</td>\n      <td>...</td>\n      <td>...</td>\n      <td>...</td>\n      <td>...</td>\n      <td>...</td>\n      <td>...</td>\n      <td>...</td>\n    </tr>\n    <tr>\n      <th>4205251</th>\n      <td>2020-09-22</td>\n      <td>18438270306572912089</td>\n      <td>1</td>\n      <td>105</td>\n      <td>112</td>\n      <td>762846027</td>\n      <td>11</td>\n      <td>1</td>\n      <td>0.025005</td>\n    </tr>\n    <tr>\n      <th>4205252</th>\n      <td>2020-09-22</td>\n      <td>18438270306572912089</td>\n      <td>1</td>\n      <td>105</td>\n      <td>116</td>\n      <td>923758001</td>\n      <td>4</td>\n      <td>1</td>\n      <td>0.033462</td>\n    </tr>\n    <tr>\n      <th>4205253</th>\n      <td>2020-09-22</td>\n      <td>18438270306572912089</td>\n      <td>1</td>\n      <td>105</td>\n      <td>117</td>\n      <td>924243002</td>\n      <td>2</td>\n      <td>1</td>\n      <td>0.041877</td>\n    </tr>\n    <tr>\n      <th>4205254</th>\n      <td>2020-09-22</td>\n      <td>18438270306572912089</td>\n      <td>1</td>\n      <td>105</td>\n      <td>118</td>\n      <td>915529005</td>\n      <td>9</td>\n      <td>1</td>\n      <td>0.033417</td>\n    </tr>\n    <tr>\n      <th>4205255</th>\n      <td>2020-09-22</td>\n      <td>18438270306572912089</td>\n      <td>1</td>\n      <td>105</td>\n      <td>119</td>\n      <td>714790020</td>\n      <td>12</td>\n      <td>0</td>\n      <td>0.049951</td>\n    </tr>\n  </tbody>\n</table>\n<p>10189776 rows × 9 columns</p>\n</div>"
     },
     "execution_count": 49,
     "metadata": {},
     "output_type": "execute_result"
    }
   ],
   "source": [
    "candidates_bestsellers\n"
   ],
   "metadata": {
    "collapsed": false,
    "ExecuteTime": {
     "end_time": "2024-01-26T22:48:35.187107100Z",
     "start_time": "2024-01-26T22:48:35.172606800Z"
    }
   }
  },
  {
   "cell_type": "markdown",
   "source": [
    "Article info gets added to bestseller candidates"
   ],
   "metadata": {
    "collapsed": false
   }
  },
  {
   "cell_type": "code",
   "execution_count": 50,
   "outputs": [
    {
     "data": {
      "text/plain": "long_tail\n0    6157666\n1    4032110\nName: count, dtype: int64"
     },
     "execution_count": 50,
     "metadata": {},
     "output_type": "execute_result"
    }
   ],
   "source": [
    "candidates_bestsellers[\"long_tail\"].value_counts()\n",
    "\n"
   ],
   "metadata": {
    "collapsed": false,
    "ExecuteTime": {
     "end_time": "2024-01-26T22:48:35.263108500Z",
     "start_time": "2024-01-26T22:48:35.181611100Z"
    }
   }
  },
  {
   "cell_type": "code",
   "execution_count": 51,
   "outputs": [
    {
     "data": {
      "text/plain": "           t_dat           customer_id sales_channel_id week index  \\\n0     2020-07-22       200292573348128                2   96     0   \n1     2020-07-22       200292573348128                2   96     2   \n2     2020-07-22       200292573348128                2   96     5   \n3     2020-07-22       200292573348128                2   96     6   \n4     2020-07-22       200292573348128                2   96    11   \n...          ...                   ...              ...  ...   ...   \n77732        NaT  11391775260805284296              NaN  104   108   \n77733        NaT  11391775260805284296              NaN  104   110   \n77734        NaT  11391775260805284296              NaN  104   111   \n77735        NaT  11391775260805284296              NaN  104   113   \n77736        NaT  11391775260805284296              NaN  104   114   \n\n       article_id  bestseller_rank  long_tail     price  \n0       760084003                1          0  0.025094  \n1       866731001                2          0  0.024919  \n2       600886001                3          0  0.022980  \n3       706016001                4          0  0.033197  \n4       372860002                5          0  0.013193  \n...           ...              ...        ...       ...  \n77732   924243001                4          1  0.041549  \n77733   809238001                7          1  0.041612  \n77734   762846027                9          1  0.025104  \n77735   809238005               10          1  0.041656  \n77736   673677002               11          0  0.024925  \n\n[8141196 rows x 9 columns]",
      "text/html": "<div>\n<style scoped>\n    .dataframe tbody tr th:only-of-type {\n        vertical-align: middle;\n    }\n\n    .dataframe tbody tr th {\n        vertical-align: top;\n    }\n\n    .dataframe thead th {\n        text-align: right;\n    }\n</style>\n<table border=\"1\" class=\"dataframe\">\n  <thead>\n    <tr style=\"text-align: right;\">\n      <th></th>\n      <th>t_dat</th>\n      <th>customer_id</th>\n      <th>sales_channel_id</th>\n      <th>week</th>\n      <th>index</th>\n      <th>article_id</th>\n      <th>bestseller_rank</th>\n      <th>long_tail</th>\n      <th>price</th>\n    </tr>\n  </thead>\n  <tbody>\n    <tr>\n      <th>0</th>\n      <td>2020-07-22</td>\n      <td>200292573348128</td>\n      <td>2</td>\n      <td>96</td>\n      <td>0</td>\n      <td>760084003</td>\n      <td>1</td>\n      <td>0</td>\n      <td>0.025094</td>\n    </tr>\n    <tr>\n      <th>1</th>\n      <td>2020-07-22</td>\n      <td>200292573348128</td>\n      <td>2</td>\n      <td>96</td>\n      <td>2</td>\n      <td>866731001</td>\n      <td>2</td>\n      <td>0</td>\n      <td>0.024919</td>\n    </tr>\n    <tr>\n      <th>2</th>\n      <td>2020-07-22</td>\n      <td>200292573348128</td>\n      <td>2</td>\n      <td>96</td>\n      <td>5</td>\n      <td>600886001</td>\n      <td>3</td>\n      <td>0</td>\n      <td>0.022980</td>\n    </tr>\n    <tr>\n      <th>3</th>\n      <td>2020-07-22</td>\n      <td>200292573348128</td>\n      <td>2</td>\n      <td>96</td>\n      <td>6</td>\n      <td>706016001</td>\n      <td>4</td>\n      <td>0</td>\n      <td>0.033197</td>\n    </tr>\n    <tr>\n      <th>4</th>\n      <td>2020-07-22</td>\n      <td>200292573348128</td>\n      <td>2</td>\n      <td>96</td>\n      <td>11</td>\n      <td>372860002</td>\n      <td>5</td>\n      <td>0</td>\n      <td>0.013193</td>\n    </tr>\n    <tr>\n      <th>...</th>\n      <td>...</td>\n      <td>...</td>\n      <td>...</td>\n      <td>...</td>\n      <td>...</td>\n      <td>...</td>\n      <td>...</td>\n      <td>...</td>\n      <td>...</td>\n    </tr>\n    <tr>\n      <th>77732</th>\n      <td>NaT</td>\n      <td>11391775260805284296</td>\n      <td>NaN</td>\n      <td>104</td>\n      <td>108</td>\n      <td>924243001</td>\n      <td>4</td>\n      <td>1</td>\n      <td>0.041549</td>\n    </tr>\n    <tr>\n      <th>77733</th>\n      <td>NaT</td>\n      <td>11391775260805284296</td>\n      <td>NaN</td>\n      <td>104</td>\n      <td>110</td>\n      <td>809238001</td>\n      <td>7</td>\n      <td>1</td>\n      <td>0.041612</td>\n    </tr>\n    <tr>\n      <th>77734</th>\n      <td>NaT</td>\n      <td>11391775260805284296</td>\n      <td>NaN</td>\n      <td>104</td>\n      <td>111</td>\n      <td>762846027</td>\n      <td>9</td>\n      <td>1</td>\n      <td>0.025104</td>\n    </tr>\n    <tr>\n      <th>77735</th>\n      <td>NaT</td>\n      <td>11391775260805284296</td>\n      <td>NaN</td>\n      <td>104</td>\n      <td>113</td>\n      <td>809238005</td>\n      <td>10</td>\n      <td>1</td>\n      <td>0.041656</td>\n    </tr>\n    <tr>\n      <th>77736</th>\n      <td>NaT</td>\n      <td>11391775260805284296</td>\n      <td>NaN</td>\n      <td>104</td>\n      <td>114</td>\n      <td>673677002</td>\n      <td>11</td>\n      <td>0</td>\n      <td>0.024925</td>\n    </tr>\n  </tbody>\n</table>\n<p>8141196 rows × 9 columns</p>\n</div>"
     },
     "execution_count": 51,
     "metadata": {},
     "output_type": "execute_result"
    }
   ],
   "source": [
    "candidates_bestsellers_personalized"
   ],
   "metadata": {
    "collapsed": false,
    "ExecuteTime": {
     "end_time": "2024-01-26T22:48:35.316107Z",
     "start_time": "2024-01-26T22:48:35.218606900Z"
    }
   }
  },
  {
   "cell_type": "markdown",
   "source": [
    "Now we also add personalized candidates for users that bought atleast 1 Long Tail item"
   ],
   "metadata": {
    "collapsed": false
   }
  },
  {
   "cell_type": "code",
   "execution_count": 52,
   "outputs": [
    {
     "name": "stdout",
     "output_type": "stream",
     "text": [
      "<class 'pandas.core.frame.DataFrame'>\n",
      "Index: 18330972 entries, 0 to 77736\n",
      "Data columns (total 9 columns):\n",
      " #   Column            Dtype         \n",
      "---  ------            -----         \n",
      " 0   t_dat             datetime64[us]\n",
      " 1   customer_id       object        \n",
      " 2   sales_channel_id  object        \n",
      " 3   week              object        \n",
      " 4   index             object        \n",
      " 5   article_id        int32         \n",
      " 6   bestseller_rank   int32         \n",
      " 7   long_tail         int32         \n",
      " 8   price             float32       \n",
      "dtypes: datetime64[us](1), float32(1), int32(3), object(4)\n",
      "memory usage: 1.1+ GB\n"
     ]
    }
   ],
   "source": [
    "if K>0:\n",
    "    candidates_bestsellers = pd.concat([candidates_bestsellers, candidates_bestsellers_personalized])\n",
    "    candidates_bestsellers.info()\n"
   ],
   "metadata": {
    "collapsed": false,
    "ExecuteTime": {
     "end_time": "2024-01-26T22:48:35.923107800Z",
     "start_time": "2024-01-26T22:48:35.229107200Z"
    }
   }
  },
  {
   "cell_type": "markdown",
   "source": [],
   "metadata": {
    "collapsed": false
   }
  },
  {
   "cell_type": "code",
   "execution_count": 53,
   "outputs": [
    {
     "data": {
      "text/plain": "           t_dat           customer_id sales_channel_id week index  \\\n0     2020-07-22       200292573348128                2   96     0   \n1     2020-07-22       200292573348128                2   96     2   \n2     2020-07-22       200292573348128                2   96     5   \n3     2020-07-22       200292573348128                2   96     6   \n4     2020-07-22       200292573348128                2   96    11   \n...          ...                   ...              ...  ...   ...   \n77732        NaT  11391775260805284296              NaN  104   108   \n77733        NaT  11391775260805284296              NaN  104   110   \n77734        NaT  11391775260805284296              NaN  104   111   \n77735        NaT  11391775260805284296              NaN  104   113   \n77736        NaT  11391775260805284296              NaN  104   114   \n\n       article_id  bestseller_rank  long_tail     price  \n0       760084003                1          0  0.025094  \n1       866731001                2          0  0.024919  \n2       600886001                3          0  0.022980  \n3       706016001                4          0  0.033197  \n4       372860002                5          0  0.013193  \n...           ...              ...        ...       ...  \n77732   924243001                4          1  0.041549  \n77733   809238001                7          1  0.041612  \n77734   762846027                9          1  0.025104  \n77735   809238005               10          1  0.041656  \n77736   673677002               11          0  0.024925  \n\n[18330972 rows x 9 columns]",
      "text/html": "<div>\n<style scoped>\n    .dataframe tbody tr th:only-of-type {\n        vertical-align: middle;\n    }\n\n    .dataframe tbody tr th {\n        vertical-align: top;\n    }\n\n    .dataframe thead th {\n        text-align: right;\n    }\n</style>\n<table border=\"1\" class=\"dataframe\">\n  <thead>\n    <tr style=\"text-align: right;\">\n      <th></th>\n      <th>t_dat</th>\n      <th>customer_id</th>\n      <th>sales_channel_id</th>\n      <th>week</th>\n      <th>index</th>\n      <th>article_id</th>\n      <th>bestseller_rank</th>\n      <th>long_tail</th>\n      <th>price</th>\n    </tr>\n  </thead>\n  <tbody>\n    <tr>\n      <th>0</th>\n      <td>2020-07-22</td>\n      <td>200292573348128</td>\n      <td>2</td>\n      <td>96</td>\n      <td>0</td>\n      <td>760084003</td>\n      <td>1</td>\n      <td>0</td>\n      <td>0.025094</td>\n    </tr>\n    <tr>\n      <th>1</th>\n      <td>2020-07-22</td>\n      <td>200292573348128</td>\n      <td>2</td>\n      <td>96</td>\n      <td>2</td>\n      <td>866731001</td>\n      <td>2</td>\n      <td>0</td>\n      <td>0.024919</td>\n    </tr>\n    <tr>\n      <th>2</th>\n      <td>2020-07-22</td>\n      <td>200292573348128</td>\n      <td>2</td>\n      <td>96</td>\n      <td>5</td>\n      <td>600886001</td>\n      <td>3</td>\n      <td>0</td>\n      <td>0.022980</td>\n    </tr>\n    <tr>\n      <th>3</th>\n      <td>2020-07-22</td>\n      <td>200292573348128</td>\n      <td>2</td>\n      <td>96</td>\n      <td>6</td>\n      <td>706016001</td>\n      <td>4</td>\n      <td>0</td>\n      <td>0.033197</td>\n    </tr>\n    <tr>\n      <th>4</th>\n      <td>2020-07-22</td>\n      <td>200292573348128</td>\n      <td>2</td>\n      <td>96</td>\n      <td>11</td>\n      <td>372860002</td>\n      <td>5</td>\n      <td>0</td>\n      <td>0.013193</td>\n    </tr>\n    <tr>\n      <th>...</th>\n      <td>...</td>\n      <td>...</td>\n      <td>...</td>\n      <td>...</td>\n      <td>...</td>\n      <td>...</td>\n      <td>...</td>\n      <td>...</td>\n      <td>...</td>\n    </tr>\n    <tr>\n      <th>77732</th>\n      <td>NaT</td>\n      <td>11391775260805284296</td>\n      <td>NaN</td>\n      <td>104</td>\n      <td>108</td>\n      <td>924243001</td>\n      <td>4</td>\n      <td>1</td>\n      <td>0.041549</td>\n    </tr>\n    <tr>\n      <th>77733</th>\n      <td>NaT</td>\n      <td>11391775260805284296</td>\n      <td>NaN</td>\n      <td>104</td>\n      <td>110</td>\n      <td>809238001</td>\n      <td>7</td>\n      <td>1</td>\n      <td>0.041612</td>\n    </tr>\n    <tr>\n      <th>77734</th>\n      <td>NaT</td>\n      <td>11391775260805284296</td>\n      <td>NaN</td>\n      <td>104</td>\n      <td>111</td>\n      <td>762846027</td>\n      <td>9</td>\n      <td>1</td>\n      <td>0.025104</td>\n    </tr>\n    <tr>\n      <th>77735</th>\n      <td>NaT</td>\n      <td>11391775260805284296</td>\n      <td>NaN</td>\n      <td>104</td>\n      <td>113</td>\n      <td>809238005</td>\n      <td>10</td>\n      <td>1</td>\n      <td>0.041656</td>\n    </tr>\n    <tr>\n      <th>77736</th>\n      <td>NaT</td>\n      <td>11391775260805284296</td>\n      <td>NaN</td>\n      <td>104</td>\n      <td>114</td>\n      <td>673677002</td>\n      <td>11</td>\n      <td>0</td>\n      <td>0.024925</td>\n    </tr>\n  </tbody>\n</table>\n<p>18330972 rows × 9 columns</p>\n</div>"
     },
     "execution_count": 53,
     "metadata": {},
     "output_type": "execute_result"
    }
   ],
   "source": [
    "candidates_bestsellers"
   ],
   "metadata": {
    "collapsed": false,
    "ExecuteTime": {
     "end_time": "2024-01-26T22:48:35.937107500Z",
     "start_time": "2024-01-26T22:48:35.922108300Z"
    }
   }
  },
  {
   "cell_type": "markdown",
   "source": [
    "# Combining transactions and candidates / negative examples\n"
   ],
   "metadata": {
    "collapsed": false
   }
  },
  {
   "cell_type": "code",
   "execution_count": 54,
   "outputs": [],
   "source": [
    "transactions['purchased'] = 1\n"
   ],
   "metadata": {
    "collapsed": false,
    "ExecuteTime": {
     "end_time": "2024-01-26T22:48:35.941606700Z",
     "start_time": "2024-01-26T22:48:35.931107Z"
    }
   }
  },
  {
   "cell_type": "code",
   "execution_count": 55,
   "outputs": [],
   "source": [
    "# There will be NaN values since not all tables contain the same columns, but it doesn't matter here\n",
    "data = pd.concat([transactions, candidates_last_purchase, candidates_bestsellers]) \n",
    "data.purchased.fillna(0, inplace=True)\n",
    "data.bestseller_rank.fillna(999, inplace=True)"
   ],
   "metadata": {
    "collapsed": false,
    "ExecuteTime": {
     "end_time": "2024-01-26T22:48:36.936108100Z",
     "start_time": "2024-01-26T22:48:35.938608200Z"
    }
   }
  },
  {
   "cell_type": "code",
   "execution_count": 56,
   "outputs": [
    {
     "data": {
      "text/plain": "              t_dat           customer_id  article_id     price  \\\n29030503 2020-07-15       272412481300040   778064028  0.008458   \n29030504 2020-07-15       272412481300040   816592008  0.016932   \n29030505 2020-07-15       272412481300040   621381021  0.033881   \n29030506 2020-07-15       272412481300040   817477003  0.025407   \n29030507 2020-07-15       272412481300040   899088002  0.025407   \n...             ...                   ...         ...       ...   \n77732           NaT  11391775260805284296   924243001  0.041549   \n77733           NaT  11391775260805284296   809238001  0.041612   \n77734           NaT  11391775260805284296   762846027  0.025104   \n77735           NaT  11391775260805284296   809238005  0.041656   \n77736           NaT  11391775260805284296   673677002  0.024925   \n\n         sales_channel_id week  purchased index  bestseller_rank  long_tail  \n29030503                1   95        1.0   NaN            999.0        NaN  \n29030504                1   95        1.0   NaN            999.0        NaN  \n29030505                1   95        1.0   NaN            999.0        NaN  \n29030506                1   95        1.0   NaN            999.0        NaN  \n29030507                1   95        1.0   NaN            999.0        NaN  \n...                   ...  ...        ...   ...              ...        ...  \n77732                 NaN  104        0.0   108              4.0        1.0  \n77733                 NaN  104        0.0   110              7.0        1.0  \n77734                 NaN  104        0.0   111              9.0        1.0  \n77735                 NaN  104        0.0   113             10.0        1.0  \n77736                 NaN  104        0.0   114             11.0        0.0  \n\n[23856716 rows x 10 columns]",
      "text/html": "<div>\n<style scoped>\n    .dataframe tbody tr th:only-of-type {\n        vertical-align: middle;\n    }\n\n    .dataframe tbody tr th {\n        vertical-align: top;\n    }\n\n    .dataframe thead th {\n        text-align: right;\n    }\n</style>\n<table border=\"1\" class=\"dataframe\">\n  <thead>\n    <tr style=\"text-align: right;\">\n      <th></th>\n      <th>t_dat</th>\n      <th>customer_id</th>\n      <th>article_id</th>\n      <th>price</th>\n      <th>sales_channel_id</th>\n      <th>week</th>\n      <th>purchased</th>\n      <th>index</th>\n      <th>bestseller_rank</th>\n      <th>long_tail</th>\n    </tr>\n  </thead>\n  <tbody>\n    <tr>\n      <th>29030503</th>\n      <td>2020-07-15</td>\n      <td>272412481300040</td>\n      <td>778064028</td>\n      <td>0.008458</td>\n      <td>1</td>\n      <td>95</td>\n      <td>1.0</td>\n      <td>NaN</td>\n      <td>999.0</td>\n      <td>NaN</td>\n    </tr>\n    <tr>\n      <th>29030504</th>\n      <td>2020-07-15</td>\n      <td>272412481300040</td>\n      <td>816592008</td>\n      <td>0.016932</td>\n      <td>1</td>\n      <td>95</td>\n      <td>1.0</td>\n      <td>NaN</td>\n      <td>999.0</td>\n      <td>NaN</td>\n    </tr>\n    <tr>\n      <th>29030505</th>\n      <td>2020-07-15</td>\n      <td>272412481300040</td>\n      <td>621381021</td>\n      <td>0.033881</td>\n      <td>1</td>\n      <td>95</td>\n      <td>1.0</td>\n      <td>NaN</td>\n      <td>999.0</td>\n      <td>NaN</td>\n    </tr>\n    <tr>\n      <th>29030506</th>\n      <td>2020-07-15</td>\n      <td>272412481300040</td>\n      <td>817477003</td>\n      <td>0.025407</td>\n      <td>1</td>\n      <td>95</td>\n      <td>1.0</td>\n      <td>NaN</td>\n      <td>999.0</td>\n      <td>NaN</td>\n    </tr>\n    <tr>\n      <th>29030507</th>\n      <td>2020-07-15</td>\n      <td>272412481300040</td>\n      <td>899088002</td>\n      <td>0.025407</td>\n      <td>1</td>\n      <td>95</td>\n      <td>1.0</td>\n      <td>NaN</td>\n      <td>999.0</td>\n      <td>NaN</td>\n    </tr>\n    <tr>\n      <th>...</th>\n      <td>...</td>\n      <td>...</td>\n      <td>...</td>\n      <td>...</td>\n      <td>...</td>\n      <td>...</td>\n      <td>...</td>\n      <td>...</td>\n      <td>...</td>\n      <td>...</td>\n    </tr>\n    <tr>\n      <th>77732</th>\n      <td>NaT</td>\n      <td>11391775260805284296</td>\n      <td>924243001</td>\n      <td>0.041549</td>\n      <td>NaN</td>\n      <td>104</td>\n      <td>0.0</td>\n      <td>108</td>\n      <td>4.0</td>\n      <td>1.0</td>\n    </tr>\n    <tr>\n      <th>77733</th>\n      <td>NaT</td>\n      <td>11391775260805284296</td>\n      <td>809238001</td>\n      <td>0.041612</td>\n      <td>NaN</td>\n      <td>104</td>\n      <td>0.0</td>\n      <td>110</td>\n      <td>7.0</td>\n      <td>1.0</td>\n    </tr>\n    <tr>\n      <th>77734</th>\n      <td>NaT</td>\n      <td>11391775260805284296</td>\n      <td>762846027</td>\n      <td>0.025104</td>\n      <td>NaN</td>\n      <td>104</td>\n      <td>0.0</td>\n      <td>111</td>\n      <td>9.0</td>\n      <td>1.0</td>\n    </tr>\n    <tr>\n      <th>77735</th>\n      <td>NaT</td>\n      <td>11391775260805284296</td>\n      <td>809238005</td>\n      <td>0.041656</td>\n      <td>NaN</td>\n      <td>104</td>\n      <td>0.0</td>\n      <td>113</td>\n      <td>10.0</td>\n      <td>1.0</td>\n    </tr>\n    <tr>\n      <th>77736</th>\n      <td>NaT</td>\n      <td>11391775260805284296</td>\n      <td>673677002</td>\n      <td>0.024925</td>\n      <td>NaN</td>\n      <td>104</td>\n      <td>0.0</td>\n      <td>114</td>\n      <td>11.0</td>\n      <td>0.0</td>\n    </tr>\n  </tbody>\n</table>\n<p>23856716 rows × 10 columns</p>\n</div>"
     },
     "execution_count": 56,
     "metadata": {},
     "output_type": "execute_result"
    }
   ],
   "source": [
    "data"
   ],
   "metadata": {
    "collapsed": false,
    "ExecuteTime": {
     "end_time": "2024-01-26T22:48:36.946106600Z",
     "start_time": "2024-01-26T22:48:36.936108100Z"
    }
   }
  },
  {
   "cell_type": "code",
   "execution_count": 57,
   "outputs": [],
   "source": [
    "data.drop_duplicates(['customer_id', 'article_id', 'week'], inplace=True)"
   ],
   "metadata": {
    "collapsed": false,
    "ExecuteTime": {
     "end_time": "2024-01-26T22:48:44.172607100Z",
     "start_time": "2024-01-26T22:48:36.947107400Z"
    }
   }
  },
  {
   "cell_type": "code",
   "execution_count": 58,
   "outputs": [
    {
     "data": {
      "text/plain": "     index  week  article_id  bestseller_rank  long_tail     price\n0        0    96   760084003                1          0  0.025094\n1        1    97   760084003                4          0  0.024986\n2        2    96   866731001                2          0  0.024919\n3        3   100   866731001                3          0  0.023898\n4        4   105   866731001                5          0  0.025015\n..     ...   ...         ...              ...        ...       ...\n115    115   104   923758001               12          1  0.033478\n116    116   105   923758001                4          1  0.033462\n117    117   105   924243002                2          1  0.041877\n118    118   105   915529005                9          1  0.033417\n119    119   105   714790020               12          0  0.049951\n\n[120 rows x 6 columns]",
      "text/html": "<div>\n<style scoped>\n    .dataframe tbody tr th:only-of-type {\n        vertical-align: middle;\n    }\n\n    .dataframe tbody tr th {\n        vertical-align: top;\n    }\n\n    .dataframe thead th {\n        text-align: right;\n    }\n</style>\n<table border=\"1\" class=\"dataframe\">\n  <thead>\n    <tr style=\"text-align: right;\">\n      <th></th>\n      <th>index</th>\n      <th>week</th>\n      <th>article_id</th>\n      <th>bestseller_rank</th>\n      <th>long_tail</th>\n      <th>price</th>\n    </tr>\n  </thead>\n  <tbody>\n    <tr>\n      <th>0</th>\n      <td>0</td>\n      <td>96</td>\n      <td>760084003</td>\n      <td>1</td>\n      <td>0</td>\n      <td>0.025094</td>\n    </tr>\n    <tr>\n      <th>1</th>\n      <td>1</td>\n      <td>97</td>\n      <td>760084003</td>\n      <td>4</td>\n      <td>0</td>\n      <td>0.024986</td>\n    </tr>\n    <tr>\n      <th>2</th>\n      <td>2</td>\n      <td>96</td>\n      <td>866731001</td>\n      <td>2</td>\n      <td>0</td>\n      <td>0.024919</td>\n    </tr>\n    <tr>\n      <th>3</th>\n      <td>3</td>\n      <td>100</td>\n      <td>866731001</td>\n      <td>3</td>\n      <td>0</td>\n      <td>0.023898</td>\n    </tr>\n    <tr>\n      <th>4</th>\n      <td>4</td>\n      <td>105</td>\n      <td>866731001</td>\n      <td>5</td>\n      <td>0</td>\n      <td>0.025015</td>\n    </tr>\n    <tr>\n      <th>...</th>\n      <td>...</td>\n      <td>...</td>\n      <td>...</td>\n      <td>...</td>\n      <td>...</td>\n      <td>...</td>\n    </tr>\n    <tr>\n      <th>115</th>\n      <td>115</td>\n      <td>104</td>\n      <td>923758001</td>\n      <td>12</td>\n      <td>1</td>\n      <td>0.033478</td>\n    </tr>\n    <tr>\n      <th>116</th>\n      <td>116</td>\n      <td>105</td>\n      <td>923758001</td>\n      <td>4</td>\n      <td>1</td>\n      <td>0.033462</td>\n    </tr>\n    <tr>\n      <th>117</th>\n      <td>117</td>\n      <td>105</td>\n      <td>924243002</td>\n      <td>2</td>\n      <td>1</td>\n      <td>0.041877</td>\n    </tr>\n    <tr>\n      <th>118</th>\n      <td>118</td>\n      <td>105</td>\n      <td>915529005</td>\n      <td>9</td>\n      <td>1</td>\n      <td>0.033417</td>\n    </tr>\n    <tr>\n      <th>119</th>\n      <td>119</td>\n      <td>105</td>\n      <td>714790020</td>\n      <td>12</td>\n      <td>0</td>\n      <td>0.049951</td>\n    </tr>\n  </tbody>\n</table>\n<p>120 rows × 6 columns</p>\n</div>"
     },
     "execution_count": 58,
     "metadata": {},
     "output_type": "execute_result"
    }
   ],
   "source": [
    "bestsellers_previous_week"
   ],
   "metadata": {
    "collapsed": false,
    "ExecuteTime": {
     "end_time": "2024-01-26T22:48:44.188107400Z",
     "start_time": "2024-01-26T22:48:44.170606700Z"
    }
   }
  },
  {
   "cell_type": "markdown",
   "source": [
    "### Add bestseller information\n"
   ],
   "metadata": {
    "collapsed": false
   }
  },
  {
   "cell_type": "code",
   "execution_count": 59,
   "outputs": [],
   "source": [
    "data = pd.merge(\n",
    "    data,\n",
    "    bestsellers_previous_week[['week', 'article_id']],\n",
    "    on=['week', 'article_id'],\n",
    "    how='left'\n",
    ")"
   ],
   "metadata": {
    "collapsed": false,
    "ExecuteTime": {
     "end_time": "2024-01-26T22:48:49.540606600Z",
     "start_time": "2024-01-26T22:48:44.178607Z"
    }
   }
  },
  {
   "cell_type": "code",
   "execution_count": 60,
   "outputs": [
    {
     "data": {
      "text/plain": "              t_dat           customer_id  article_id     price  \\\n0        2020-07-15       272412481300040   778064028  0.008458   \n1        2020-07-15       272412481300040   816592008  0.016932   \n2        2020-07-15       272412481300040   621381021  0.033881   \n3        2020-07-15       272412481300040   817477003  0.025407   \n4        2020-07-15       272412481300040   899088002  0.025407   \n...             ...                   ...         ...       ...   \n17217833        NaT  11391775260805284296   924243001  0.041549   \n17217834        NaT  11391775260805284296   809238001  0.041612   \n17217835        NaT  11391775260805284296   762846027  0.025104   \n17217836        NaT  11391775260805284296   809238005  0.041656   \n17217837        NaT  11391775260805284296   673677002  0.024925   \n\n         sales_channel_id week  purchased index  bestseller_rank  long_tail  \n0                       1   95        1.0   NaN            999.0        NaN  \n1                       1   95        1.0   NaN            999.0        NaN  \n2                       1   95        1.0   NaN            999.0        NaN  \n3                       1   95        1.0   NaN            999.0        NaN  \n4                       1   95        1.0   NaN            999.0        NaN  \n...                   ...  ...        ...   ...              ...        ...  \n17217833              NaN  104        0.0   108              4.0        1.0  \n17217834              NaN  104        0.0   110              7.0        1.0  \n17217835              NaN  104        0.0   111              9.0        1.0  \n17217836              NaN  104        0.0   113             10.0        1.0  \n17217837              NaN  104        0.0   114             11.0        0.0  \n\n[17217838 rows x 10 columns]",
      "text/html": "<div>\n<style scoped>\n    .dataframe tbody tr th:only-of-type {\n        vertical-align: middle;\n    }\n\n    .dataframe tbody tr th {\n        vertical-align: top;\n    }\n\n    .dataframe thead th {\n        text-align: right;\n    }\n</style>\n<table border=\"1\" class=\"dataframe\">\n  <thead>\n    <tr style=\"text-align: right;\">\n      <th></th>\n      <th>t_dat</th>\n      <th>customer_id</th>\n      <th>article_id</th>\n      <th>price</th>\n      <th>sales_channel_id</th>\n      <th>week</th>\n      <th>purchased</th>\n      <th>index</th>\n      <th>bestseller_rank</th>\n      <th>long_tail</th>\n    </tr>\n  </thead>\n  <tbody>\n    <tr>\n      <th>0</th>\n      <td>2020-07-15</td>\n      <td>272412481300040</td>\n      <td>778064028</td>\n      <td>0.008458</td>\n      <td>1</td>\n      <td>95</td>\n      <td>1.0</td>\n      <td>NaN</td>\n      <td>999.0</td>\n      <td>NaN</td>\n    </tr>\n    <tr>\n      <th>1</th>\n      <td>2020-07-15</td>\n      <td>272412481300040</td>\n      <td>816592008</td>\n      <td>0.016932</td>\n      <td>1</td>\n      <td>95</td>\n      <td>1.0</td>\n      <td>NaN</td>\n      <td>999.0</td>\n      <td>NaN</td>\n    </tr>\n    <tr>\n      <th>2</th>\n      <td>2020-07-15</td>\n      <td>272412481300040</td>\n      <td>621381021</td>\n      <td>0.033881</td>\n      <td>1</td>\n      <td>95</td>\n      <td>1.0</td>\n      <td>NaN</td>\n      <td>999.0</td>\n      <td>NaN</td>\n    </tr>\n    <tr>\n      <th>3</th>\n      <td>2020-07-15</td>\n      <td>272412481300040</td>\n      <td>817477003</td>\n      <td>0.025407</td>\n      <td>1</td>\n      <td>95</td>\n      <td>1.0</td>\n      <td>NaN</td>\n      <td>999.0</td>\n      <td>NaN</td>\n    </tr>\n    <tr>\n      <th>4</th>\n      <td>2020-07-15</td>\n      <td>272412481300040</td>\n      <td>899088002</td>\n      <td>0.025407</td>\n      <td>1</td>\n      <td>95</td>\n      <td>1.0</td>\n      <td>NaN</td>\n      <td>999.0</td>\n      <td>NaN</td>\n    </tr>\n    <tr>\n      <th>...</th>\n      <td>...</td>\n      <td>...</td>\n      <td>...</td>\n      <td>...</td>\n      <td>...</td>\n      <td>...</td>\n      <td>...</td>\n      <td>...</td>\n      <td>...</td>\n      <td>...</td>\n    </tr>\n    <tr>\n      <th>17217833</th>\n      <td>NaT</td>\n      <td>11391775260805284296</td>\n      <td>924243001</td>\n      <td>0.041549</td>\n      <td>NaN</td>\n      <td>104</td>\n      <td>0.0</td>\n      <td>108</td>\n      <td>4.0</td>\n      <td>1.0</td>\n    </tr>\n    <tr>\n      <th>17217834</th>\n      <td>NaT</td>\n      <td>11391775260805284296</td>\n      <td>809238001</td>\n      <td>0.041612</td>\n      <td>NaN</td>\n      <td>104</td>\n      <td>0.0</td>\n      <td>110</td>\n      <td>7.0</td>\n      <td>1.0</td>\n    </tr>\n    <tr>\n      <th>17217835</th>\n      <td>NaT</td>\n      <td>11391775260805284296</td>\n      <td>762846027</td>\n      <td>0.025104</td>\n      <td>NaN</td>\n      <td>104</td>\n      <td>0.0</td>\n      <td>111</td>\n      <td>9.0</td>\n      <td>1.0</td>\n    </tr>\n    <tr>\n      <th>17217836</th>\n      <td>NaT</td>\n      <td>11391775260805284296</td>\n      <td>809238005</td>\n      <td>0.041656</td>\n      <td>NaN</td>\n      <td>104</td>\n      <td>0.0</td>\n      <td>113</td>\n      <td>10.0</td>\n      <td>1.0</td>\n    </tr>\n    <tr>\n      <th>17217837</th>\n      <td>NaT</td>\n      <td>11391775260805284296</td>\n      <td>673677002</td>\n      <td>0.024925</td>\n      <td>NaN</td>\n      <td>104</td>\n      <td>0.0</td>\n      <td>114</td>\n      <td>11.0</td>\n      <td>0.0</td>\n    </tr>\n  </tbody>\n</table>\n<p>17217838 rows × 10 columns</p>\n</div>"
     },
     "execution_count": 60,
     "metadata": {},
     "output_type": "execute_result"
    }
   ],
   "source": [
    "data"
   ],
   "metadata": {
    "collapsed": false,
    "ExecuteTime": {
     "end_time": "2024-01-26T22:48:49.556606900Z",
     "start_time": "2024-01-26T22:48:49.541607700Z"
    }
   }
  },
  {
   "cell_type": "code",
   "execution_count": 61,
   "outputs": [
    {
     "name": "stderr",
     "output_type": "stream",
     "text": [
      "C:\\Users\\guled\\AppData\\Local\\Temp\\ipykernel_7572\\2256192994.py:2: SettingWithCopyWarning: \n",
      "A value is trying to be set on a copy of a slice from a DataFrame\n",
      "\n",
      "See the caveats in the documentation: https://pandas.pydata.org/pandas-docs/stable/user_guide/indexing.html#returning-a-view-versus-a-copy\n",
      "  data.bestseller_rank.fillna(999, inplace=True)\n"
     ]
    }
   ],
   "source": [
    "data = data[data.week != data.week.min()]\n",
    "data.bestseller_rank.fillna(999, inplace=True)"
   ],
   "metadata": {
    "collapsed": false,
    "ExecuteTime": {
     "end_time": "2024-01-26T22:48:51.281607400Z",
     "start_time": "2024-01-26T22:48:49.555107800Z"
    }
   }
  },
  {
   "cell_type": "code",
   "execution_count": 62,
   "outputs": [],
   "source": [
    "data = pd.merge(data, articles.drop(columns=\"long_tail\"), on='article_id', how='left')\n",
    "data = pd.merge(data, customers, on='customer_id', how='left')"
   ],
   "metadata": {
    "collapsed": false,
    "ExecuteTime": {
     "end_time": "2024-01-26T22:49:05.287106900Z",
     "start_time": "2024-01-26T22:48:51.283106700Z"
    }
   }
  },
  {
   "cell_type": "code",
   "execution_count": 63,
   "outputs": [
    {
     "data": {
      "text/plain": "              t_dat           customer_id  article_id     price  \\\n0        2020-07-22       200292573348128   880777001  0.025407   \n1        2020-07-22       200292573348128   784332002  0.025407   \n2        2020-07-22       200292573348128   827968001  0.016932   \n3        2020-07-22       200292573348128   599580086  0.011847   \n4        2020-07-22       248294615847351   720504008  0.031458   \n...             ...                   ...         ...       ...   \n16955846        NaT  11391775260805284296   924243001  0.041549   \n16955847        NaT  11391775260805284296   809238001  0.041612   \n16955848        NaT  11391775260805284296   762846027  0.025104   \n16955849        NaT  11391775260805284296   809238005  0.041656   \n16955850        NaT  11391775260805284296   673677002  0.024925   \n\n         sales_channel_id week  purchased index  bestseller_rank  long_tail  \\\n0                       2   96        1.0   NaN            999.0        NaN   \n1                       2   96        1.0   NaN            999.0        NaN   \n2                       2   96        1.0   NaN            999.0        NaN   \n3                       2   96        1.0   NaN            999.0        NaN   \n4                       1   96        1.0   NaN            999.0        NaN   \n...                   ...  ...        ...   ...              ...        ...   \n16955846              NaN  104        0.0   108              4.0        1.0   \n16955847              NaN  104        0.0   110              7.0        1.0   \n16955848              NaN  104        0.0   111              9.0        1.0   \n16955849              NaN  104        0.0   113             10.0        1.0   \n16955850              NaN  104        0.0   114             11.0        0.0   \n\n          ...  garment_group_no  garment_group_name  detail_desc  sales_count  \\\n0         ...              1018                  12         9213        155.0   \n1         ...              1005                   0         7303        372.0   \n2         ...              1002                   2         1227       6677.0   \n3         ...              1018                  12           52        932.0   \n4         ...              1016                  11           95       3001.0   \n...       ...               ...                 ...          ...          ...   \n16955846  ...              1003                   3        13007       1705.0   \n16955847  ...              1003                   3         4489       1178.0   \n16955848  ...              1010                   6          492       1260.0   \n16955849  ...              1003                   3         4489        632.0   \n16955850  ...              1003                   3          574      19143.0   \n\n          FN  Active  club_member_status  fashion_news_frequency  age  \\\n0          1       1                   0                       1   25   \n1          1       1                   0                       1   25   \n2          1       1                   0                       1   25   \n3          1       1                   0                       1   25   \n4         -1      -1                   0                       0   46   \n...       ..     ...                 ...                     ...  ...   \n16955846  -1      -1                   0                       0   25   \n16955847  -1      -1                   0                       0   25   \n16955848  -1      -1                   0                       0   25   \n16955849  -1      -1                   0                       0   25   \n16955850  -1      -1                   0                       0   25   \n\n          postal_code  \n0               63947  \n1               63947  \n2               63947  \n3               63947  \n4                8666  \n...               ...  \n16955846       166303  \n16955847       166303  \n16955848       166303  \n16955849       166303  \n16955850       166303  \n\n[16955851 rows x 41 columns]",
      "text/html": "<div>\n<style scoped>\n    .dataframe tbody tr th:only-of-type {\n        vertical-align: middle;\n    }\n\n    .dataframe tbody tr th {\n        vertical-align: top;\n    }\n\n    .dataframe thead th {\n        text-align: right;\n    }\n</style>\n<table border=\"1\" class=\"dataframe\">\n  <thead>\n    <tr style=\"text-align: right;\">\n      <th></th>\n      <th>t_dat</th>\n      <th>customer_id</th>\n      <th>article_id</th>\n      <th>price</th>\n      <th>sales_channel_id</th>\n      <th>week</th>\n      <th>purchased</th>\n      <th>index</th>\n      <th>bestseller_rank</th>\n      <th>long_tail</th>\n      <th>...</th>\n      <th>garment_group_no</th>\n      <th>garment_group_name</th>\n      <th>detail_desc</th>\n      <th>sales_count</th>\n      <th>FN</th>\n      <th>Active</th>\n      <th>club_member_status</th>\n      <th>fashion_news_frequency</th>\n      <th>age</th>\n      <th>postal_code</th>\n    </tr>\n  </thead>\n  <tbody>\n    <tr>\n      <th>0</th>\n      <td>2020-07-22</td>\n      <td>200292573348128</td>\n      <td>880777001</td>\n      <td>0.025407</td>\n      <td>2</td>\n      <td>96</td>\n      <td>1.0</td>\n      <td>NaN</td>\n      <td>999.0</td>\n      <td>NaN</td>\n      <td>...</td>\n      <td>1018</td>\n      <td>12</td>\n      <td>9213</td>\n      <td>155.0</td>\n      <td>1</td>\n      <td>1</td>\n      <td>0</td>\n      <td>1</td>\n      <td>25</td>\n      <td>63947</td>\n    </tr>\n    <tr>\n      <th>1</th>\n      <td>2020-07-22</td>\n      <td>200292573348128</td>\n      <td>784332002</td>\n      <td>0.025407</td>\n      <td>2</td>\n      <td>96</td>\n      <td>1.0</td>\n      <td>NaN</td>\n      <td>999.0</td>\n      <td>NaN</td>\n      <td>...</td>\n      <td>1005</td>\n      <td>0</td>\n      <td>7303</td>\n      <td>372.0</td>\n      <td>1</td>\n      <td>1</td>\n      <td>0</td>\n      <td>1</td>\n      <td>25</td>\n      <td>63947</td>\n    </tr>\n    <tr>\n      <th>2</th>\n      <td>2020-07-22</td>\n      <td>200292573348128</td>\n      <td>827968001</td>\n      <td>0.016932</td>\n      <td>2</td>\n      <td>96</td>\n      <td>1.0</td>\n      <td>NaN</td>\n      <td>999.0</td>\n      <td>NaN</td>\n      <td>...</td>\n      <td>1002</td>\n      <td>2</td>\n      <td>1227</td>\n      <td>6677.0</td>\n      <td>1</td>\n      <td>1</td>\n      <td>0</td>\n      <td>1</td>\n      <td>25</td>\n      <td>63947</td>\n    </tr>\n    <tr>\n      <th>3</th>\n      <td>2020-07-22</td>\n      <td>200292573348128</td>\n      <td>599580086</td>\n      <td>0.011847</td>\n      <td>2</td>\n      <td>96</td>\n      <td>1.0</td>\n      <td>NaN</td>\n      <td>999.0</td>\n      <td>NaN</td>\n      <td>...</td>\n      <td>1018</td>\n      <td>12</td>\n      <td>52</td>\n      <td>932.0</td>\n      <td>1</td>\n      <td>1</td>\n      <td>0</td>\n      <td>1</td>\n      <td>25</td>\n      <td>63947</td>\n    </tr>\n    <tr>\n      <th>4</th>\n      <td>2020-07-22</td>\n      <td>248294615847351</td>\n      <td>720504008</td>\n      <td>0.031458</td>\n      <td>1</td>\n      <td>96</td>\n      <td>1.0</td>\n      <td>NaN</td>\n      <td>999.0</td>\n      <td>NaN</td>\n      <td>...</td>\n      <td>1016</td>\n      <td>11</td>\n      <td>95</td>\n      <td>3001.0</td>\n      <td>-1</td>\n      <td>-1</td>\n      <td>0</td>\n      <td>0</td>\n      <td>46</td>\n      <td>8666</td>\n    </tr>\n    <tr>\n      <th>...</th>\n      <td>...</td>\n      <td>...</td>\n      <td>...</td>\n      <td>...</td>\n      <td>...</td>\n      <td>...</td>\n      <td>...</td>\n      <td>...</td>\n      <td>...</td>\n      <td>...</td>\n      <td>...</td>\n      <td>...</td>\n      <td>...</td>\n      <td>...</td>\n      <td>...</td>\n      <td>...</td>\n      <td>...</td>\n      <td>...</td>\n      <td>...</td>\n      <td>...</td>\n      <td>...</td>\n    </tr>\n    <tr>\n      <th>16955846</th>\n      <td>NaT</td>\n      <td>11391775260805284296</td>\n      <td>924243001</td>\n      <td>0.041549</td>\n      <td>NaN</td>\n      <td>104</td>\n      <td>0.0</td>\n      <td>108</td>\n      <td>4.0</td>\n      <td>1.0</td>\n      <td>...</td>\n      <td>1003</td>\n      <td>3</td>\n      <td>13007</td>\n      <td>1705.0</td>\n      <td>-1</td>\n      <td>-1</td>\n      <td>0</td>\n      <td>0</td>\n      <td>25</td>\n      <td>166303</td>\n    </tr>\n    <tr>\n      <th>16955847</th>\n      <td>NaT</td>\n      <td>11391775260805284296</td>\n      <td>809238001</td>\n      <td>0.041612</td>\n      <td>NaN</td>\n      <td>104</td>\n      <td>0.0</td>\n      <td>110</td>\n      <td>7.0</td>\n      <td>1.0</td>\n      <td>...</td>\n      <td>1003</td>\n      <td>3</td>\n      <td>4489</td>\n      <td>1178.0</td>\n      <td>-1</td>\n      <td>-1</td>\n      <td>0</td>\n      <td>0</td>\n      <td>25</td>\n      <td>166303</td>\n    </tr>\n    <tr>\n      <th>16955848</th>\n      <td>NaT</td>\n      <td>11391775260805284296</td>\n      <td>762846027</td>\n      <td>0.025104</td>\n      <td>NaN</td>\n      <td>104</td>\n      <td>0.0</td>\n      <td>111</td>\n      <td>9.0</td>\n      <td>1.0</td>\n      <td>...</td>\n      <td>1010</td>\n      <td>6</td>\n      <td>492</td>\n      <td>1260.0</td>\n      <td>-1</td>\n      <td>-1</td>\n      <td>0</td>\n      <td>0</td>\n      <td>25</td>\n      <td>166303</td>\n    </tr>\n    <tr>\n      <th>16955849</th>\n      <td>NaT</td>\n      <td>11391775260805284296</td>\n      <td>809238005</td>\n      <td>0.041656</td>\n      <td>NaN</td>\n      <td>104</td>\n      <td>0.0</td>\n      <td>113</td>\n      <td>10.0</td>\n      <td>1.0</td>\n      <td>...</td>\n      <td>1003</td>\n      <td>3</td>\n      <td>4489</td>\n      <td>632.0</td>\n      <td>-1</td>\n      <td>-1</td>\n      <td>0</td>\n      <td>0</td>\n      <td>25</td>\n      <td>166303</td>\n    </tr>\n    <tr>\n      <th>16955850</th>\n      <td>NaT</td>\n      <td>11391775260805284296</td>\n      <td>673677002</td>\n      <td>0.024925</td>\n      <td>NaN</td>\n      <td>104</td>\n      <td>0.0</td>\n      <td>114</td>\n      <td>11.0</td>\n      <td>0.0</td>\n      <td>...</td>\n      <td>1003</td>\n      <td>3</td>\n      <td>574</td>\n      <td>19143.0</td>\n      <td>-1</td>\n      <td>-1</td>\n      <td>0</td>\n      <td>0</td>\n      <td>25</td>\n      <td>166303</td>\n    </tr>\n  </tbody>\n</table>\n<p>16955851 rows × 41 columns</p>\n</div>"
     },
     "execution_count": 63,
     "metadata": {},
     "output_type": "execute_result"
    }
   ],
   "source": [
    "data"
   ],
   "metadata": {
    "collapsed": false,
    "ExecuteTime": {
     "end_time": "2024-01-26T22:49:09.100106100Z",
     "start_time": "2024-01-26T22:49:05.315107700Z"
    }
   }
  },
  {
   "cell_type": "code",
   "execution_count": 64,
   "outputs": [],
   "source": [
    "data.sort_values(['week', 'customer_id'], inplace=True)\n",
    "data.reset_index(drop=True, inplace=True)"
   ],
   "metadata": {
    "collapsed": false,
    "ExecuteTime": {
     "end_time": "2024-01-26T22:49:15.732107300Z",
     "start_time": "2024-01-26T22:49:09.099606100Z"
    }
   }
  },
  {
   "cell_type": "code",
   "execution_count": 65,
   "outputs": [],
   "source": [
    "train = data[data.week != test_week]\n",
    "test = data[data.week==test_week].drop_duplicates(['customer_id', 'article_id', 'sales_channel_id']).copy()"
   ],
   "metadata": {
    "collapsed": false,
    "ExecuteTime": {
     "end_time": "2024-01-26T22:49:21.045107800Z",
     "start_time": "2024-01-26T22:49:15.737106400Z"
    }
   }
  },
  {
   "cell_type": "code",
   "execution_count": 66,
   "outputs": [],
   "source": [
    "train_baskets = train.groupby(['week', 'customer_id'])['article_id'].count().values"
   ],
   "metadata": {
    "collapsed": false,
    "ExecuteTime": {
     "end_time": "2024-01-26T22:49:22.679106600Z",
     "start_time": "2024-01-26T22:49:21.046108Z"
    }
   }
  },
  {
   "cell_type": "code",
   "execution_count": 67,
   "outputs": [],
   "source": [
    "columns_to_use = ['article_id', 'product_type_no', 'graphical_appearance_no', 'colour_group_code', 'perceived_colour_value_id',\n",
    "'perceived_colour_master_id', 'department_no', 'index_code',\n",
    "'index_group_no', 'section_no', 'garment_group_no', 'FN', 'Active',\n",
    "'club_member_status', 'fashion_news_frequency', 'age', 'postal_code', 'bestseller_rank']"
   ],
   "metadata": {
    "collapsed": false,
    "ExecuteTime": {
     "end_time": "2024-01-26T22:49:22.693106400Z",
     "start_time": "2024-01-26T22:49:22.690605900Z"
    }
   }
  },
  {
   "cell_type": "code",
   "execution_count": 68,
   "outputs": [
    {
     "name": "stdout",
     "output_type": "stream",
     "text": [
      "CPU times: total: 328 ms\n",
      "Wall time: 324 ms\n"
     ]
    }
   ],
   "source": [
    "%%time\n",
    "\n",
    "train_X = train[columns_to_use]\n",
    "train_y = train['purchased']\n",
    "\n",
    "test_X = test[columns_to_use]"
   ],
   "metadata": {
    "collapsed": false,
    "ExecuteTime": {
     "end_time": "2024-01-26T22:49:23.037107500Z",
     "start_time": "2024-01-26T22:49:22.697606100Z"
    }
   }
  },
  {
   "cell_type": "code",
   "execution_count": 69,
   "outputs": [],
   "source": [
    "# Model training\n"
   ],
   "metadata": {
    "collapsed": false,
    "ExecuteTime": {
     "end_time": "2024-01-26T22:49:23.041606400Z",
     "start_time": "2024-01-26T22:49:23.036107200Z"
    }
   }
  },
  {
   "cell_type": "code",
   "execution_count": 70,
   "outputs": [],
   "source": [
    "from lightgbm.sklearn import LGBMRanker"
   ],
   "metadata": {
    "collapsed": false,
    "ExecuteTime": {
     "end_time": "2024-01-26T22:49:23.369107400Z",
     "start_time": "2024-01-26T22:49:23.040606700Z"
    }
   }
  },
  {
   "cell_type": "code",
   "execution_count": 71,
   "outputs": [],
   "source": [
    "ranker = LGBMRanker(\n",
    "    objective=\"lambdarank\",\n",
    "    metric=\"ndcg\",\n",
    "    boosting_type=\"dart\",\n",
    "    n_estimators=1,\n",
    "    importance_type='gain',\n",
    "    verbose=10\n",
    ")"
   ],
   "metadata": {
    "collapsed": false,
    "ExecuteTime": {
     "end_time": "2024-01-26T22:49:23.369607200Z",
     "start_time": "2024-01-26T22:49:23.363654200Z"
    }
   }
  },
  {
   "cell_type": "code",
   "execution_count": 72,
   "outputs": [
    {
     "name": "stdout",
     "output_type": "stream",
     "text": [
      "[LightGBM] [Debug] Dataset::GetMultiBinFromSparseFeatures: sparse rate 0.847255\n",
      "[LightGBM] [Debug] Dataset::GetMultiBinFromAllFeatures: sparse rate 0.152977\n",
      "[LightGBM] [Debug] init for col-wise cost 0.081233 seconds, init for row-wise cost 0.275033 seconds\n",
      "[LightGBM] [Info] Auto-choosing row-wise multi-threading, the overhead of testing was 0.175093 seconds.\n",
      "You can set `force_row_wise=true` to remove the overhead.\n",
      "And if memory is not enough, you can set `force_col_wise=true`.\n",
      "[LightGBM] [Debug] Using Dense Multi-Val Bin\n",
      "[LightGBM] [Info] Total Bins 1148\n",
      "[LightGBM] [Info] Number of data points in the train set: 11381355, number of used features: 18\n",
      "[LightGBM] [Debug] Trained a tree with leaves = 31 and depth = 12\n",
      "CPU times: total: 19.5 s\n",
      "Wall time: 3.86 s\n"
     ]
    }
   ],
   "source": [
    "%%time\n",
    "\n",
    "ranker = ranker.fit(\n",
    "    train_X,\n",
    "    train_y,\n",
    "    group=train_baskets,\n",
    ")"
   ],
   "metadata": {
    "collapsed": false,
    "ExecuteTime": {
     "end_time": "2024-01-26T22:49:27.253107300Z",
     "start_time": "2024-01-26T22:49:23.367107300Z"
    }
   }
  },
  {
   "cell_type": "code",
   "execution_count": 73,
   "outputs": [
    {
     "name": "stdout",
     "output_type": "stream",
     "text": [
      "bestseller_rank 0.9991601452826653\n",
      "article_id 0.00019700948815342304\n",
      "age 0.00018660742244663988\n",
      "garment_group_no 9.848446626010222e-05\n",
      "product_type_no 7.016188316528359e-05\n",
      "department_no 6.606644949666243e-05\n",
      "postal_code 6.52228745590298e-05\n",
      "club_member_status 6.302916685724567e-05\n",
      "colour_group_code 2.5460229870096838e-05\n",
      "Active 1.9428469613823365e-05\n",
      "section_no 1.7183227947483644e-05\n",
      "FN 1.209895024537151e-05\n",
      "fashion_news_frequency 1.0725700696257543e-05\n",
      "index_group_no 8.376388023331162e-06\n",
      "index_code 0.0\n",
      "perceived_colour_master_id 0.0\n",
      "perceived_colour_value_id 0.0\n",
      "graphical_appearance_no 0.0\n"
     ]
    }
   ],
   "source": [
    "for i in ranker.feature_importances_.argsort()[::-1]:\n",
    "    print(columns_to_use[i], ranker.feature_importances_[i]/ranker.feature_importances_.sum())"
   ],
   "metadata": {
    "collapsed": false,
    "ExecuteTime": {
     "end_time": "2024-01-26T22:49:27.254106500Z",
     "start_time": "2024-01-26T22:49:27.234106500Z"
    }
   }
  },
  {
   "cell_type": "markdown",
   "source": [
    "# Calculate predictions"
   ],
   "metadata": {
    "collapsed": false
   }
  },
  {
   "cell_type": "code",
   "execution_count": 74,
   "outputs": [
    {
     "name": "stdout",
     "output_type": "stream",
     "text": [
      "CPU times: total: 0 ns\n",
      "Wall time: 0 ns\n"
     ]
    }
   ],
   "source": [
    "%time\n",
    "\n",
    "test['preds'] = ranker.predict(test_X)\n",
    "\n",
    "c_id2predicted_article_ids = test \\\n",
    "    .sort_values(['customer_id', 'preds'], ascending=False) \\\n",
    "    .groupby('customer_id')['article_id'].apply(list).to_dict()\n",
    "\n",
    "bestsellers_last_week = \\\n",
    "    bestsellers_previous_week[bestsellers_previous_week.week == bestsellers_previous_week.week.max()]['article_id'].tolist()"
   ],
   "metadata": {
    "collapsed": false,
    "ExecuteTime": {
     "end_time": "2024-01-26T22:49:37.421896700Z",
     "start_time": "2024-01-26T22:49:27.248106400Z"
    }
   }
  },
  {
   "cell_type": "code",
   "execution_count": 75,
   "outputs": [
    {
     "data": {
      "text/plain": "[866731001,\n 751471001,\n 915529003,\n 448509014,\n 909370001,\n 918522001,\n 924243001,\n 762846027,\n 923758001,\n 924243002,\n 915529005,\n 714790020]"
     },
     "execution_count": 75,
     "metadata": {},
     "output_type": "execute_result"
    }
   ],
   "source": [
    "bestsellers_last_week"
   ],
   "metadata": {
    "collapsed": false,
    "ExecuteTime": {
     "end_time": "2024-01-26T22:49:37.426896600Z",
     "start_time": "2024-01-26T22:49:37.422897800Z"
    }
   }
  },
  {
   "cell_type": "markdown",
   "source": [
    "# Create submission"
   ],
   "metadata": {
    "collapsed": false
   }
  },
  {
   "cell_type": "code",
   "execution_count": 76,
   "outputs": [],
   "source": [
    "sub = pd.read_csv(utils.path + \"sample_submission.csv\")"
   ],
   "metadata": {
    "collapsed": false,
    "ExecuteTime": {
     "end_time": "2024-01-26T22:49:39.393394700Z",
     "start_time": "2024-01-26T22:49:37.427897300Z"
    }
   }
  },
  {
   "cell_type": "code",
   "execution_count": 77,
   "outputs": [
    {
     "name": "stdout",
     "output_type": "stream",
     "text": [
      "CPU times: total: 3.12 s\n",
      "Wall time: 3.12 s\n"
     ]
    }
   ],
   "source": [
    "%%time\n",
    "preds = []\n",
    "for c_id in utils.customer_hex_id_to_int(sub.customer_id):\n",
    "    pred = c_id2predicted_article_ids.get(c_id, [])\n",
    "    pred = pred + bestsellers_last_week\n",
    "    preds.append(pred[:12])"
   ],
   "metadata": {
    "collapsed": false,
    "ExecuteTime": {
     "end_time": "2024-01-26T22:49:42.521894500Z",
     "start_time": "2024-01-26T22:49:39.393895500Z"
    }
   }
  },
  {
   "cell_type": "code",
   "execution_count": 78,
   "outputs": [],
   "source": [
    "preds = [' '.join(['0' + str(p) for p in ps]) for ps in preds]\n",
    "sub.prediction = preds"
   ],
   "metadata": {
    "collapsed": false,
    "ExecuteTime": {
     "end_time": "2024-01-26T22:49:44.594395900Z",
     "start_time": "2024-01-26T22:49:42.521894500Z"
    }
   }
  },
  {
   "cell_type": "code",
   "execution_count": 79,
   "outputs": [],
   "source": [
    "sub_name = \"research2_K\" + str(K)\n",
    "sub_name += \"_a\" \n",
    "sub_name+= \"_median\" if alpha is None else str(alpha)\n",
    "sub_name +=\".csv.gz\"\n",
    "sub.to_csv(f\"{sub_name}\", index=False)"
   ],
   "metadata": {
    "collapsed": false,
    "ExecuteTime": {
     "end_time": "2024-01-26T22:49:55.398451400Z",
     "start_time": "2024-01-26T22:49:44.595897600Z"
    }
   }
  },
  {
   "cell_type": "markdown",
   "source": [
    "# Evaluation"
   ],
   "metadata": {
    "collapsed": false
   }
  },
  {
   "cell_type": "code",
   "execution_count": 80,
   "outputs": [
    {
     "name": "stdout",
     "output_type": "stream",
     "text": [
      "research2_K1_a2000.csv.gz\n"
     ]
    }
   ],
   "source": [
    "from evaluation import eval_sub, diversity\n",
    "from create_validation import create_validation\n",
    "submission = pd.read_csv(sub_name)\n",
    "print(sub_name)"
   ],
   "metadata": {
    "collapsed": false,
    "ExecuteTime": {
     "end_time": "2024-01-26T22:49:58.463450900Z",
     "start_time": "2024-01-26T22:49:55.398952200Z"
    }
   }
  },
  {
   "cell_type": "code",
   "execution_count": 81,
   "outputs": [],
   "source": [
    "create_validation(sub_name)"
   ],
   "metadata": {
    "collapsed": false,
    "ExecuteTime": {
     "end_time": "2024-01-26T22:50:07.305593500Z",
     "start_time": "2024-01-26T22:49:58.462454700Z"
    }
   }
  },
  {
   "cell_type": "markdown",
   "source": [
    "### MAP@12 score"
   ],
   "metadata": {
    "collapsed": false
   }
  },
  {
   "cell_type": "code",
   "execution_count": 82,
   "outputs": [
    {
     "name": "stdout",
     "output_type": "stream",
     "text": [
      "k=1: 0.04725849504282862\n"
     ]
    }
   ],
   "source": [
    "\n",
    "MAP12_score = eval_sub(sub_name, \"map\", k=12)\n",
    "print(f\"k={K}: {MAP12_score}\")"
   ],
   "metadata": {
    "collapsed": false,
    "ExecuteTime": {
     "end_time": "2024-01-26T22:50:16.161716500Z",
     "start_time": "2024-01-26T22:50:07.307592900Z"
    }
   }
  },
  {
   "cell_type": "markdown",
   "source": [
    "### Recall score"
   ],
   "metadata": {
    "collapsed": false
   }
  },
  {
   "cell_type": "code",
   "execution_count": 83,
   "outputs": [
    {
     "name": "stdout",
     "output_type": "stream",
     "text": [
      "0.04790248100369241\n",
      "k=1: 0.04790248100369241\n"
     ]
    }
   ],
   "source": [
    "recall_score = eval_sub(sub_name, \"recall\", k=12)\n",
    "print(recall_score)\n",
    "print(f\"k={K}: {recall_score}\")"
   ],
   "metadata": {
    "collapsed": false,
    "ExecuteTime": {
     "end_time": "2024-01-26T22:50:25.085717100Z",
     "start_time": "2024-01-26T22:50:16.218717800Z"
    }
   }
  },
  {
   "cell_type": "markdown",
   "source": [
    "### Diversity"
   ],
   "metadata": {
    "collapsed": false
   }
  },
  {
   "cell_type": "code",
   "execution_count": 84,
   "outputs": [
    {
     "name": "stdout",
     "output_type": "stream",
     "text": [
      "k=1: 0.31659078632622734\n"
     ]
    }
   ],
   "source": [
    "diversity_score = diversity(sub_name)\n",
    "print(f\"k={K}: {diversity_score}\")"
   ],
   "metadata": {
    "collapsed": false,
    "ExecuteTime": {
     "end_time": "2024-01-26T22:50:48.014217Z",
     "start_time": "2024-01-26T22:50:25.084717300Z"
    }
   }
  },
  {
   "cell_type": "markdown",
   "source": [],
   "metadata": {
    "collapsed": false
   }
  }
 ],
 "metadata": {
  "kernelspec": {
   "display_name": "Python 3",
   "language": "python",
   "name": "python3"
  },
  "language_info": {
   "codemirror_mode": {
    "name": "ipython",
    "version": 2
   },
   "file_extension": ".py",
   "mimetype": "text/x-python",
   "name": "python",
   "nbconvert_exporter": "python",
   "pygments_lexer": "ipython2",
   "version": "2.7.6"
  }
 },
 "nbformat": 4,
 "nbformat_minor": 0
}
