{
 "cells": [
  {
   "cell_type": "markdown",
   "metadata": {
    "collapsed": false
   },
   "source": [
    "**Student name: Giorgi Guledani**\n",
    "\n",
    "**Student ID: 20193667**\n",
    "\n",
    "# Research 1: How to address the Long Tail Problem?"
   ]
  },
  {
   "cell_type": "code",
   "execution_count": 1,
   "metadata": {
    "collapsed": false,
    "ExecuteTime": {
     "end_time": "2024-01-26T16:51:02.080372100Z",
     "start_time": "2024-01-26T16:51:00.297614900Z"
    }
   },
   "outputs": [],
   "source": [
    "import pandas as pd\n",
    "import utils\n",
    "import seaborn as sns\n",
    "import matplotlib.pyplot as plt\n",
    "\n",
    "articles = pd.read_parquet(f'{utils.path}/articles.parquet')\n",
    "customers = pd.read_parquet(f'{utils.path}/customers.parquet')\n",
    "transactions = pd.read_parquet(f'{utils.path}/transactions_train.parquet')"
   ]
  },
  {
   "cell_type": "markdown",
   "metadata": {
    "collapsed": false
   },
   "source": [
    "# Parameters"
   ]
  },
  {
   "cell_type": "code",
   "execution_count": 2,
   "metadata": {
    "collapsed": false,
    "ExecuteTime": {
     "end_time": "2024-01-26T16:51:02.086873100Z",
     "start_time": "2024-01-26T16:51:02.082373500Z"
    }
   },
   "outputs": [],
   "source": [
    "\n",
    "K_items = 1 # amount of items to replace with Long Tail items\n",
    "minimal_replacement = True # if True, will replace at most K items until diversity is 100%. If False, will replace K times regardless of diversity.\n",
    "top_down_replacement = False # If True, will replace starting from the top ranked short head candidate. If False, will start from the bottom.\n",
    "alpha = 500 # if None, median is used (=threshold in the middle)"
   ]
  },
  {
   "cell_type": "markdown",
   "metadata": {
    "collapsed": false
   },
   "source": [
    "# Identifying short head and long tail items"
   ]
  },
  {
   "cell_type": "code",
   "execution_count": 3,
   "metadata": {
    "collapsed": false,
    "ExecuteTime": {
     "end_time": "2024-01-26T16:51:03.599873900Z",
     "start_time": "2024-01-26T16:51:02.085373500Z"
    }
   },
   "outputs": [
    {
     "name": "stdout",
     "output_type": "stream",
     "text": [
      "Threshold (alpha): 500\n"
     ]
    }
   ],
   "source": [
    "\n",
    "# Determine the threshold, sales above this value will be Short Head, otherwise Long Tail\n",
    "transactions_count = transactions.groupby([\"article_id\"])[\"article_id\"].value_counts(dropna=False)\n",
    "if not \"long_tail\" in articles.columns:\n",
    "    articles = articles.merge(transactions.groupby(['article_id'])[\"article_id\"].value_counts(dropna=False), left_on =\"article_id\", how=\"left\", right_index=True)\n",
    "    articles[\"count\"].fillna(0, inplace=True)\n",
    "    articles = articles.rename(columns={\"count\": \"sales_count\"})\n",
    "    threshold = articles[\"sales_count\"].median() if alpha is None else alpha\n",
    "    print(f\"Threshold (alpha): {threshold}\")\n",
    "    articles[\"long_tail\"] = (articles[\"sales_count\"] <= threshold).astype(int)"
   ]
  },
  {
   "cell_type": "markdown",
   "source": [
    "Partitioning of Long Tail/Short Head items"
   ],
   "metadata": {
    "collapsed": false
   }
  },
  {
   "cell_type": "code",
   "execution_count": 4,
   "metadata": {
    "collapsed": false,
    "ExecuteTime": {
     "end_time": "2024-01-26T16:51:03.745372500Z",
     "start_time": "2024-01-26T16:51:03.599375100Z"
    }
   },
   "outputs": [
    {
     "data": {
      "text/plain": "<Axes: xlabel='long_tail'>"
     },
     "execution_count": 4,
     "metadata": {},
     "output_type": "execute_result"
    },
    {
     "data": {
      "text/plain": "<Figure size 640x480 with 1 Axes>",
      "image/png": "[encoded data removed]"
     },
     "metadata": {},
     "output_type": "display_data"
    }
   ],
   "source": [
    "articles[\"long_tail\"].replace({1: \"True\", 0: \"False\"}).value_counts(normalize=True).plot(kind='bar')"
   ]
  },
  {
   "cell_type": "markdown",
   "metadata": {
    "ExecuteTime": {
     "end_time": "2024-01-19T19:08:44.711377Z",
     "start_time": "2024-01-19T19:08:44.664861200Z"
    },
    "collapsed": false
   },
   "source": [
    "Items below the threshold get classified as long tail:"
   ]
  },
  {
   "cell_type": "code",
   "execution_count": 5,
   "metadata": {
    "collapsed": false,
    "ExecuteTime": {
     "end_time": "2024-01-26T16:51:03.809373400Z",
     "start_time": "2024-01-26T16:51:03.744872900Z"
    }
   },
   "outputs": [
    {
     "data": {
      "text/plain": "        article_id  sales_count  long_tail\n0        706016001      50287.0          0\n1        706016002      35043.0          0\n2        372860001      31718.0          0\n3        610776002      30199.0          0\n4        759871002      26329.0          0\n...            ...          ...        ...\n105537   926010001          0.0          1\n105538   896195002          0.0          1\n105539   917203001          0.0          1\n105540   917203003          0.0          1\n105541   959461001          0.0          1\n\n[105542 rows x 3 columns]",
      "text/html": "<div>\n<style scoped>\n    .dataframe tbody tr th:only-of-type {\n        vertical-align: middle;\n    }\n\n    .dataframe tbody tr th {\n        vertical-align: top;\n    }\n\n    .dataframe thead th {\n        text-align: right;\n    }\n</style>\n<table border=\"1\" class=\"dataframe\">\n  <thead>\n    <tr style=\"text-align: right;\">\n      <th></th>\n      <th>article_id</th>\n      <th>sales_count</th>\n      <th>long_tail</th>\n    </tr>\n  </thead>\n  <tbody>\n    <tr>\n      <th>0</th>\n      <td>706016001</td>\n      <td>50287.0</td>\n      <td>0</td>\n    </tr>\n    <tr>\n      <th>1</th>\n      <td>706016002</td>\n      <td>35043.0</td>\n      <td>0</td>\n    </tr>\n    <tr>\n      <th>2</th>\n      <td>372860001</td>\n      <td>31718.0</td>\n      <td>0</td>\n    </tr>\n    <tr>\n      <th>3</th>\n      <td>610776002</td>\n      <td>30199.0</td>\n      <td>0</td>\n    </tr>\n    <tr>\n      <th>4</th>\n      <td>759871002</td>\n      <td>26329.0</td>\n      <td>0</td>\n    </tr>\n    <tr>\n      <th>...</th>\n      <td>...</td>\n      <td>...</td>\n      <td>...</td>\n    </tr>\n    <tr>\n      <th>105537</th>\n      <td>926010001</td>\n      <td>0.0</td>\n      <td>1</td>\n    </tr>\n    <tr>\n      <th>105538</th>\n      <td>896195002</td>\n      <td>0.0</td>\n      <td>1</td>\n    </tr>\n    <tr>\n      <th>105539</th>\n      <td>917203001</td>\n      <td>0.0</td>\n      <td>1</td>\n    </tr>\n    <tr>\n      <th>105540</th>\n      <td>917203003</td>\n      <td>0.0</td>\n      <td>1</td>\n    </tr>\n    <tr>\n      <th>105541</th>\n      <td>959461001</td>\n      <td>0.0</td>\n      <td>1</td>\n    </tr>\n  </tbody>\n</table>\n<p>105542 rows × 3 columns</p>\n</div>"
     },
     "execution_count": 5,
     "metadata": {},
     "output_type": "execute_result"
    }
   ],
   "source": [
    "sorted_articles = articles[[\"article_id\", \"sales_count\", \"long_tail\"]].sort_values(by=\"sales_count\", ascending=False)\n",
    "\n",
    "sorted_articles.reset_index(drop=True, inplace=True)\n",
    "sorted_articles"
   ]
  },
  {
   "cell_type": "markdown",
   "metadata": {
    "collapsed": false
   },
   "source": [
    "From the plot below, we can see that there is a large chunk of Long Tail items because of popularity bias"
   ]
  },
  {
   "cell_type": "code",
   "execution_count": 6,
   "metadata": {
    "collapsed": false,
    "ExecuteTime": {
     "end_time": "2024-01-26T16:51:04.055355800Z",
     "start_time": "2024-01-26T16:51:03.764875500Z"
    }
   },
   "outputs": [
    {
     "data": {
      "text/plain": "<Figure size 640x480 with 1 Axes>",
      "image/png": "[encoded data removed]"
     },
     "metadata": {},
     "output_type": "display_data"
    }
   ],
   "source": [
    "sns.scatterplot(y=sorted_articles[\"sales_count\"], x=sorted_articles.index)\n",
    "plt.xlabel(\"Popularity rank\")\n",
    "plt.ylabel(\"Sales\")\n",
    "plt.show()"
   ]
  },
  {
   "cell_type": "markdown",
   "metadata": {
    "ExecuteTime": {
     "end_time": "2024-01-19T19:31:13.397283100Z",
     "start_time": "2024-01-19T19:31:13.301782500Z"
    },
    "collapsed": false
   },
   "source": [
    "The scatterplot shows us that there's a select few in the short head part, while a huge amount is in the long tail part."
   ]
  },
  {
   "cell_type": "markdown",
   "metadata": {
    "ExecuteTime": {
     "end_time": "2024-01-19T19:28:07.730360Z",
     "start_time": "2024-01-19T19:28:07.697845200Z"
    },
    "collapsed": false
   },
   "source": [
    "# Candidate Generation"
   ]
  },
  {
   "cell_type": "code",
   "execution_count": 7,
   "metadata": {
    "collapsed": false,
    "ExecuteTime": {
     "end_time": "2024-01-26T16:51:04.255854200Z",
     "start_time": "2024-01-26T16:51:04.053353600Z"
    }
   },
   "outputs": [],
   "source": [
    "test_week = transactions.week.max() + 1\n",
    "transactions = transactions[transactions.week > transactions.week.max() - 10]"
   ]
  },
  {
   "cell_type": "markdown",
   "metadata": {
    "collapsed": false
   },
   "source": [
    "### Last purchase candidates"
   ]
  },
  {
   "cell_type": "code",
   "execution_count": 8,
   "metadata": {
    "collapsed": false,
    "ExecuteTime": {
     "end_time": "2024-01-26T16:51:29.511731200Z",
     "start_time": "2024-01-26T16:51:04.256854400Z"
    }
   },
   "outputs": [
    {
     "name": "stdout",
     "output_type": "stream",
     "text": [
      "CPU times: total: 25.2 s\n",
      "Wall time: 25.2 s\n"
     ]
    }
   ],
   "source": [
    "%%time\n",
    "\n",
    "c2weeks = transactions.groupby('customer_id')['week'].unique()\n",
    "transactions.groupby('week')['t_dat'].agg(['min', 'max'])\n",
    "\n",
    "c2weeks2shifted_weeks = {}\n",
    "\n",
    "for c_id, weeks in c2weeks.items():\n",
    "    c2weeks2shifted_weeks[c_id] = {}\n",
    "    for i in range(weeks.shape[0]-1):\n",
    "        c2weeks2shifted_weeks[c_id][weeks[i]] = weeks[i+1]\n",
    "    c2weeks2shifted_weeks[c_id][weeks[-1]] = test_week\n",
    "    \n",
    "candidates_last_purchase = transactions.copy()\n",
    "\n",
    "weeks = []\n",
    "for i, (c_id, week) in enumerate(zip(transactions['customer_id'], transactions['week'])):\n",
    "    weeks.append(c2weeks2shifted_weeks[c_id][week])\n",
    "    \n",
    "candidates_last_purchase.week=weeks\n"
   ]
  },
  {
   "cell_type": "code",
   "execution_count": 9,
   "metadata": {
    "collapsed": false,
    "ExecuteTime": {
     "end_time": "2024-01-26T16:51:29.779232300Z",
     "start_time": "2024-01-26T16:51:29.509233100Z"
    }
   },
   "outputs": [
    {
     "data": {
      "text/plain": "long_tail\n0    0.648926\n1    0.351074\nName: proportion, dtype: float64"
     },
     "execution_count": 9,
     "metadata": {},
     "output_type": "execute_result"
    }
   ],
   "source": [
    "candidates_last_purchase.merge(articles[[\"article_id\", \"long_tail\"]], on =\"article_id\", how=\"left\")[\"long_tail\"].value_counts(normalize=True)"
   ]
  },
  {
   "cell_type": "markdown",
   "metadata": {
    "ExecuteTime": {
     "end_time": "2024-01-19T19:23:13.212691100Z",
     "start_time": "2024-01-19T19:23:12.937191700Z"
    },
    "collapsed": false
   },
   "source": [
    "Let's first compute the bestseller candidates as usual"
   ]
  },
  {
   "cell_type": "markdown",
   "metadata": {
    "collapsed": false
   },
   "source": []
  },
  {
   "cell_type": "code",
   "execution_count": 10,
   "metadata": {
    "collapsed": false,
    "ExecuteTime": {
     "end_time": "2024-01-26T16:51:30.007730300Z",
     "start_time": "2024-01-26T16:51:29.780731100Z"
    }
   },
   "outputs": [],
   "source": [
    "sales = transactions \\\n",
    "    .groupby('week')['article_id'].value_counts() \\\n",
    "    .groupby('week').rank(method='dense', ascending=False) \\\n",
    "    .groupby('week').head(12).rename('bestseller_rank').astype('int8')"
   ]
  },
  {
   "cell_type": "code",
   "execution_count": 11,
   "metadata": {
    "collapsed": false,
    "ExecuteTime": {
     "end_time": "2024-01-26T16:51:30.015231300Z",
     "start_time": "2024-01-26T16:51:30.008233100Z"
    }
   },
   "outputs": [
    {
     "data": {
      "text/plain": "week  article_id\n95    760084003      1\n      866731001      2\n      600886001      3\n      706016001      4\n      372860002      5\n                    ..\n104   915529003      8\n      915529005      9\n      448509014     10\n      762846027     11\n      714790020     12\nName: bestseller_rank, Length: 120, dtype: int8"
     },
     "execution_count": 11,
     "metadata": {},
     "output_type": "execute_result"
    }
   ],
   "source": [
    "sales"
   ]
  },
  {
   "cell_type": "code",
   "execution_count": 12,
   "metadata": {
    "collapsed": false,
    "ExecuteTime": {
     "end_time": "2024-01-26T16:51:30.058233100Z",
     "start_time": "2024-01-26T16:51:30.013231800Z"
    }
   },
   "outputs": [],
   "source": [
    "sales_frame = sales.to_frame().reset_index() # DataFrame is easier to use than Series (from Radek), so I'll use this from now on"
   ]
  },
  {
   "cell_type": "markdown",
   "metadata": {
    "ExecuteTime": {
     "end_time": "2024-01-19T19:23:13.638013500Z",
     "start_time": "2024-01-19T19:23:13.631015Z"
    },
    "collapsed": false
   },
   "source": [
    "### Diversity before"
   ]
  },
  {
   "cell_type": "markdown",
   "metadata": {
    "ExecuteTime": {
     "end_time": "2024-01-19T19:23:13.661013900Z",
     "start_time": "2024-01-19T19:23:13.637013800Z"
    },
    "collapsed": false
   },
   "source": [
    "I'll measure candidate diversity of these bestseller candidates using Jaccard index"
   ]
  },
  {
   "cell_type": "code",
   "execution_count": 13,
   "metadata": {
    "collapsed": false,
    "ExecuteTime": {
     "end_time": "2024-01-26T16:51:30.058731600Z",
     "start_time": "2024-01-26T16:51:30.047232700Z"
    }
   },
   "outputs": [
    {
     "name": "stdout",
     "output_type": "stream",
     "text": [
      "95, 96: 0.736842105263158\n",
      "96, 97: 0.8571428571428572\n",
      "97, 98: 1.0\n",
      "98, 99: 1.0\n",
      "99, 100: 0.8\n",
      "100, 101: 0.736842105263158\n",
      "101, 102: 0.5882352941176471\n",
      "102, 103: 0.8571428571428572\n",
      "103, 104: 0.5882352941176471\n",
      "Average diversity: 0.7960489458941472\n"
     ]
    }
   ],
   "source": [
    "def jaccard_diversity(list1, list2):\n",
    "    intersection = len(list1.intersection(list2))\n",
    "    union = len(list1.union(list2))\n",
    "    jaccard_index = intersection / union\n",
    "    diversity_index = 1 - jaccard_index\n",
    "    return diversity_index\n",
    "\n",
    "def avg_jaccard_diversity(df, weeks_list): # only computes diversity of current with next week (chain)\n",
    "    jaccard_sum = 0\n",
    "    pair_count = 0\n",
    "    \n",
    "    for i, week1 in enumerate(weeks_list):\n",
    "        article_ids1 = set(df[df[\"week\"] == week1][\"article_id\"])\n",
    "        if week1 == weeks_list.max():\n",
    "            break\n",
    "        week2 = week1 + 1\n",
    "        article_ids2 = set(df[df[\"week\"] == week2][\"article_id\"])\n",
    "        diversity_index = jaccard_diversity(article_ids1, article_ids2)\n",
    "        print(f\"{week1}, {week2}: {diversity_index}\")\n",
    "        jaccard_sum += diversity_index\n",
    "        pair_count += 1\n",
    "    average_jaccard = jaccard_sum / pair_count\n",
    "    print(f\"Average diversity: {average_jaccard}\")\n",
    "\n",
    "\n",
    "weeks_list = sales_frame[\"week\"].unique()\n",
    "avg_jaccard_diversity(sales_frame, weeks_list)"
   ]
  },
  {
   "cell_type": "markdown",
   "metadata": {
    "ExecuteTime": {
     "end_time": "2024-01-19T19:23:13.715513200Z",
     "start_time": "2024-01-19T19:23:13.672013300Z"
    },
    "collapsed": false
   },
   "source": [
    "### Increasing diversity"
   ]
  },
  {
   "cell_type": "markdown",
   "metadata": {
    "ExecuteTime": {
     "end_time": "2024-01-19T19:23:13.715513200Z",
     "start_time": "2024-01-19T19:23:13.682513800Z"
    },
    "collapsed": false
   },
   "source": [
    "A lower diversity implies that the same item gets recommended twice in a row per 2 weeks. We will now replace these duplicates by Long Tail items and increase diversity,"
   ]
  },
  {
   "cell_type": "markdown",
   "metadata": {
    "collapsed": false
   },
   "source": [
    "Currently, there are fewer Long Tail candidates:"
   ]
  },
  {
   "cell_type": "code",
   "execution_count": 14,
   "metadata": {
    "collapsed": false,
    "ExecuteTime": {
     "end_time": "2024-01-26T16:51:30.082230200Z",
     "start_time": "2024-01-26T16:51:30.057232900Z"
    }
   },
   "outputs": [
    {
     "data": {
      "text/plain": "long_tail\n0    119\n1      1\nName: count, dtype: int64"
     },
     "execution_count": 14,
     "metadata": {},
     "output_type": "execute_result"
    }
   ],
   "source": [
    "sales_frame.merge(articles[[\"article_id\", \"long_tail\"]], on =\"article_id\", how=\"left\")[\"long_tail\"].value_counts()"
   ]
  },
  {
   "cell_type": "code",
   "execution_count": 15,
   "metadata": {
    "collapsed": false,
    "ExecuteTime": {
     "end_time": "2024-01-26T16:51:30.165233500Z",
     "start_time": "2024-01-26T16:51:30.075232100Z"
    }
   },
   "outputs": [
    {
     "data": {
      "text/plain": "     week  article_id  bestseller_rank\n0      95   760084003                1\n1      95   866731001                2\n2      95   600886001                3\n3      95   706016001                4\n4      95   372860002                5\n..    ...         ...              ...\n115   104   915529003                8\n116   104   915529005                9\n117   104   448509014               10\n118   104   481696002               11\n119   104   714790020               12\n\n[120 rows x 3 columns]",
      "text/html": "<div>\n<style scoped>\n    .dataframe tbody tr th:only-of-type {\n        vertical-align: middle;\n    }\n\n    .dataframe tbody tr th {\n        vertical-align: top;\n    }\n\n    .dataframe thead th {\n        text-align: right;\n    }\n</style>\n<table border=\"1\" class=\"dataframe\">\n  <thead>\n    <tr style=\"text-align: right;\">\n      <th></th>\n      <th>week</th>\n      <th>article_id</th>\n      <th>bestseller_rank</th>\n    </tr>\n  </thead>\n  <tbody>\n    <tr>\n      <th>0</th>\n      <td>95</td>\n      <td>760084003</td>\n      <td>1</td>\n    </tr>\n    <tr>\n      <th>1</th>\n      <td>95</td>\n      <td>866731001</td>\n      <td>2</td>\n    </tr>\n    <tr>\n      <th>2</th>\n      <td>95</td>\n      <td>600886001</td>\n      <td>3</td>\n    </tr>\n    <tr>\n      <th>3</th>\n      <td>95</td>\n      <td>706016001</td>\n      <td>4</td>\n    </tr>\n    <tr>\n      <th>4</th>\n      <td>95</td>\n      <td>372860002</td>\n      <td>5</td>\n    </tr>\n    <tr>\n      <th>...</th>\n      <td>...</td>\n      <td>...</td>\n      <td>...</td>\n    </tr>\n    <tr>\n      <th>115</th>\n      <td>104</td>\n      <td>915529003</td>\n      <td>8</td>\n    </tr>\n    <tr>\n      <th>116</th>\n      <td>104</td>\n      <td>915529005</td>\n      <td>9</td>\n    </tr>\n    <tr>\n      <th>117</th>\n      <td>104</td>\n      <td>448509014</td>\n      <td>10</td>\n    </tr>\n    <tr>\n      <th>118</th>\n      <td>104</td>\n      <td>481696002</td>\n      <td>11</td>\n    </tr>\n    <tr>\n      <th>119</th>\n      <td>104</td>\n      <td>714790020</td>\n      <td>12</td>\n    </tr>\n  </tbody>\n</table>\n<p>120 rows × 3 columns</p>\n</div>"
     },
     "execution_count": 15,
     "metadata": {},
     "output_type": "execute_result"
    }
   ],
   "source": [
    "def increase_diversity(df, weeks_list, K):\n",
    "    top_long_tail = articles[articles[\"long_tail\"]==1][[\"article_id\", \"sales_count\"]].sort_values(by=\"sales_count\", ascending=False).head(200)\n",
    "    top_long_tail.reset_index(inplace=True)\n",
    "    long_tail_index = 0 # start from most popular\n",
    "    for i, week1 in enumerate(weeks_list):\n",
    "        article_ids1 = set(df[df[\"week\"] == week1][\"article_id\"])\n",
    "        if week1 == weeks_list.max():\n",
    "            break\n",
    "        week2 = week1 + 1\n",
    "        items_left = K\n",
    "        article_ids2 = set(df[df[\"week\"] == week2][\"article_id\"])\n",
    "        previous_diversity_index = jaccard_diversity(article_ids1, article_ids2)\n",
    "        \n",
    "        current_week = df[df[\"week\"]==week2] if top_down_replacement else df[df[\"week\"]==week2].iloc[::-1]\n",
    "        for j, item in current_week.iterrows(): # edit items one by one from bottom up until K items edited or diversity maximized\n",
    "            if items_left == 0:\n",
    "                break\n",
    "            \n",
    "            # Replace current candidate with a long tail item\n",
    "            old_item = df.at[j, \"article_id\"]\n",
    "            new_item = top_long_tail.at[long_tail_index, \"article_id\"]\n",
    "            df.at[j, \"article_id\"] = new_item\n",
    "            article_ids1 = set(df[df[\"week\"] == week1][\"article_id\"])\n",
    "            article_ids2 = set(df[df[\"week\"] == week2][\"article_id\"])\n",
    "            diversity_index = jaccard_diversity(article_ids1, article_ids2)\n",
    "            if minimal_replacement is True:\n",
    "                if diversity_index > previous_diversity_index: # if new item gives us better diversity than before\n",
    "                    items_left -= 1\n",
    "                    long_tail_index += 1\n",
    "                    previous_diversity_index = diversity_index\n",
    "    \n",
    "                else: # change had no effect, set it back to previous item\n",
    "                    df.at[j, \"article_id\"] = old_item\n",
    "\n",
    "                if diversity_index == 1.0:\n",
    "                    break\n",
    "            else: # minimal_replacement = False replaces exactly K items with Long Tail items, even when diversity is 100%\n",
    "                if diversity_index >= previous_diversity_index: # if new item didn't decrease diversity\n",
    "                    items_left -= 1\n",
    "                    long_tail_index += 1\n",
    "                else:\n",
    "                    df.at[j, \"article_id\"] = old_item\n",
    "    return df\n",
    "\n",
    "sales_frame = increase_diversity(sales_frame, weeks_list, K=K_items)\n",
    "sales_frame"
   ]
  },
  {
   "cell_type": "markdown",
   "metadata": {
    "collapsed": false
   },
   "source": [
    "Now we can see an increase in diversity:"
   ]
  },
  {
   "cell_type": "code",
   "execution_count": 16,
   "metadata": {
    "collapsed": false,
    "ExecuteTime": {
     "end_time": "2024-01-26T16:51:30.165233500Z",
     "start_time": "2024-01-26T16:51:30.111731900Z"
    }
   },
   "outputs": [
    {
     "name": "stdout",
     "output_type": "stream",
     "text": [
      "95, 96: 0.8\n",
      "96, 97: 0.9090909090909091\n",
      "97, 98: 1.0\n",
      "98, 99: 1.0\n",
      "99, 100: 0.8571428571428572\n",
      "100, 101: 0.8\n",
      "101, 102: 0.6666666666666667\n",
      "102, 103: 0.9090909090909091\n",
      "103, 104: 0.6666666666666667\n",
      "Average diversity: 0.8454064454064455\n"
     ]
    }
   ],
   "source": [
    "avg_jaccard_diversity(sales_frame, weeks_list)"
   ]
  },
  {
   "cell_type": "markdown",
   "source": [
    "Let's now look at the amount of Long Tail candidate items"
   ],
   "metadata": {
    "collapsed": false
   }
  },
  {
   "cell_type": "code",
   "execution_count": 17,
   "metadata": {
    "collapsed": false,
    "ExecuteTime": {
     "end_time": "2024-01-26T16:51:30.167232Z",
     "start_time": "2024-01-26T16:51:30.119233800Z"
    }
   },
   "outputs": [
    {
     "data": {
      "text/plain": "long_tail\n0    112\n1      8\nName: count, dtype: int64"
     },
     "execution_count": 17,
     "metadata": {},
     "output_type": "execute_result"
    }
   ],
   "source": [
    "sales_frame = sales_frame.merge(articles[[\"article_id\", \"long_tail\"]], on=\"article_id\", how=\"inner\")\n",
    "sales_frame[\"long_tail\"].value_counts()\n"
   ]
  },
  {
   "cell_type": "markdown",
   "metadata": {
    "collapsed": false
   },
   "source": []
  },
  {
   "cell_type": "code",
   "execution_count": 18,
   "metadata": {
    "collapsed": false,
    "ExecuteTime": {
     "end_time": "2024-01-26T16:51:30.167232Z",
     "start_time": "2024-01-26T16:51:30.136232200Z"
    }
   },
   "outputs": [],
   "source": [
    "bestsellers_previous_weeks = sales_frame.reset_index()\n",
    "\n",
    "bestsellers_previous_weeks.week += 1"
   ]
  },
  {
   "cell_type": "code",
   "execution_count": 19,
   "metadata": {
    "collapsed": false,
    "ExecuteTime": {
     "end_time": "2024-01-26T16:51:30.168231400Z",
     "start_time": "2024-01-26T16:51:30.140232Z"
    }
   },
   "outputs": [
    {
     "data": {
      "text/plain": "     index  week  article_id  bestseller_rank  long_tail\n0        0    96   760084003                1          0\n1        1    97   760084003                4          0\n2        2    96   866731001                2          0\n3        3   100   866731001                3          0\n4        4   105   866731001                5          0\n..     ...   ...         ...              ...        ...\n115    115   105   923758001                4          0\n116    116   105   924243002                2          0\n117    117   105   915529005                9          0\n118    118   105   481696002               11          1\n119    119   105   714790020               12          0\n\n[120 rows x 5 columns]",
      "text/html": "<div>\n<style scoped>\n    .dataframe tbody tr th:only-of-type {\n        vertical-align: middle;\n    }\n\n    .dataframe tbody tr th {\n        vertical-align: top;\n    }\n\n    .dataframe thead th {\n        text-align: right;\n    }\n</style>\n<table border=\"1\" class=\"dataframe\">\n  <thead>\n    <tr style=\"text-align: right;\">\n      <th></th>\n      <th>index</th>\n      <th>week</th>\n      <th>article_id</th>\n      <th>bestseller_rank</th>\n      <th>long_tail</th>\n    </tr>\n  </thead>\n  <tbody>\n    <tr>\n      <th>0</th>\n      <td>0</td>\n      <td>96</td>\n      <td>760084003</td>\n      <td>1</td>\n      <td>0</td>\n    </tr>\n    <tr>\n      <th>1</th>\n      <td>1</td>\n      <td>97</td>\n      <td>760084003</td>\n      <td>4</td>\n      <td>0</td>\n    </tr>\n    <tr>\n      <th>2</th>\n      <td>2</td>\n      <td>96</td>\n      <td>866731001</td>\n      <td>2</td>\n      <td>0</td>\n    </tr>\n    <tr>\n      <th>3</th>\n      <td>3</td>\n      <td>100</td>\n      <td>866731001</td>\n      <td>3</td>\n      <td>0</td>\n    </tr>\n    <tr>\n      <th>4</th>\n      <td>4</td>\n      <td>105</td>\n      <td>866731001</td>\n      <td>5</td>\n      <td>0</td>\n    </tr>\n    <tr>\n      <th>...</th>\n      <td>...</td>\n      <td>...</td>\n      <td>...</td>\n      <td>...</td>\n      <td>...</td>\n    </tr>\n    <tr>\n      <th>115</th>\n      <td>115</td>\n      <td>105</td>\n      <td>923758001</td>\n      <td>4</td>\n      <td>0</td>\n    </tr>\n    <tr>\n      <th>116</th>\n      <td>116</td>\n      <td>105</td>\n      <td>924243002</td>\n      <td>2</td>\n      <td>0</td>\n    </tr>\n    <tr>\n      <th>117</th>\n      <td>117</td>\n      <td>105</td>\n      <td>915529005</td>\n      <td>9</td>\n      <td>0</td>\n    </tr>\n    <tr>\n      <th>118</th>\n      <td>118</td>\n      <td>105</td>\n      <td>481696002</td>\n      <td>11</td>\n      <td>1</td>\n    </tr>\n    <tr>\n      <th>119</th>\n      <td>119</td>\n      <td>105</td>\n      <td>714790020</td>\n      <td>12</td>\n      <td>0</td>\n    </tr>\n  </tbody>\n</table>\n<p>120 rows × 5 columns</p>\n</div>"
     },
     "execution_count": 19,
     "metadata": {},
     "output_type": "execute_result"
    }
   ],
   "source": [
    "bestsellers_previous_weeks"
   ]
  },
  {
   "cell_type": "code",
   "execution_count": 20,
   "metadata": {
    "collapsed": false,
    "ExecuteTime": {
     "end_time": "2024-01-26T16:51:30.650731200Z",
     "start_time": "2024-01-26T16:51:30.147732700Z"
    }
   },
   "outputs": [],
   "source": [
    "unique_transactions = transactions \\\n",
    "    .groupby(['week', 'customer_id']) \\\n",
    "    .head(1) \\\n",
    "    .drop(columns=['article_id', 'price']) \\\n",
    "    .copy()"
   ]
  },
  {
   "cell_type": "code",
   "execution_count": 21,
   "metadata": {
    "collapsed": false,
    "ExecuteTime": {
     "end_time": "2024-01-26T16:51:30.657729900Z",
     "start_time": "2024-01-26T16:51:30.647233400Z"
    }
   },
   "outputs": [
    {
     "data": {
      "text/plain": "              t_dat           customer_id  sales_channel_id  week\n29030503 2020-07-15       272412481300040                 1    95\n29064059 2020-07-15      1456826891333599                 1    95\n29067103 2020-07-15      2133687643102426                 2    95\n29027487 2020-07-15      6010692573790711                 1    95\n29046403 2020-07-15      6171059100114610                 2    95\n...             ...                   ...               ...   ...\n31760188 2020-09-22  18435221511488011015                 1   104\n31782234 2020-09-22  18436859303155335645                 1   104\n31787251 2020-09-22  18437941771381362708                 2   104\n31776022 2020-09-22  18438270306572912089                 1   104\n31779097 2020-09-22  18440902715633436014                 1   104\n\n[755710 rows x 4 columns]",
      "text/html": "<div>\n<style scoped>\n    .dataframe tbody tr th:only-of-type {\n        vertical-align: middle;\n    }\n\n    .dataframe tbody tr th {\n        vertical-align: top;\n    }\n\n    .dataframe thead th {\n        text-align: right;\n    }\n</style>\n<table border=\"1\" class=\"dataframe\">\n  <thead>\n    <tr style=\"text-align: right;\">\n      <th></th>\n      <th>t_dat</th>\n      <th>customer_id</th>\n      <th>sales_channel_id</th>\n      <th>week</th>\n    </tr>\n  </thead>\n  <tbody>\n    <tr>\n      <th>29030503</th>\n      <td>2020-07-15</td>\n      <td>272412481300040</td>\n      <td>1</td>\n      <td>95</td>\n    </tr>\n    <tr>\n      <th>29064059</th>\n      <td>2020-07-15</td>\n      <td>1456826891333599</td>\n      <td>1</td>\n      <td>95</td>\n    </tr>\n    <tr>\n      <th>29067103</th>\n      <td>2020-07-15</td>\n      <td>2133687643102426</td>\n      <td>2</td>\n      <td>95</td>\n    </tr>\n    <tr>\n      <th>29027487</th>\n      <td>2020-07-15</td>\n      <td>6010692573790711</td>\n      <td>1</td>\n      <td>95</td>\n    </tr>\n    <tr>\n      <th>29046403</th>\n      <td>2020-07-15</td>\n      <td>6171059100114610</td>\n      <td>2</td>\n      <td>95</td>\n    </tr>\n    <tr>\n      <th>...</th>\n      <td>...</td>\n      <td>...</td>\n      <td>...</td>\n      <td>...</td>\n    </tr>\n    <tr>\n      <th>31760188</th>\n      <td>2020-09-22</td>\n      <td>18435221511488011015</td>\n      <td>1</td>\n      <td>104</td>\n    </tr>\n    <tr>\n      <th>31782234</th>\n      <td>2020-09-22</td>\n      <td>18436859303155335645</td>\n      <td>1</td>\n      <td>104</td>\n    </tr>\n    <tr>\n      <th>31787251</th>\n      <td>2020-09-22</td>\n      <td>18437941771381362708</td>\n      <td>2</td>\n      <td>104</td>\n    </tr>\n    <tr>\n      <th>31776022</th>\n      <td>2020-09-22</td>\n      <td>18438270306572912089</td>\n      <td>1</td>\n      <td>104</td>\n    </tr>\n    <tr>\n      <th>31779097</th>\n      <td>2020-09-22</td>\n      <td>18440902715633436014</td>\n      <td>1</td>\n      <td>104</td>\n    </tr>\n  </tbody>\n</table>\n<p>755710 rows × 4 columns</p>\n</div>"
     },
     "execution_count": 21,
     "metadata": {},
     "output_type": "execute_result"
    }
   ],
   "source": [
    "unique_transactions"
   ]
  },
  {
   "cell_type": "code",
   "execution_count": 22,
   "metadata": {
    "collapsed": false,
    "ExecuteTime": {
     "end_time": "2024-01-26T16:51:30.873731100Z",
     "start_time": "2024-01-26T16:51:30.655231200Z"
    }
   },
   "outputs": [
    {
     "data": {
      "text/plain": "              t_dat           customer_id  article_id     price  \\\n29030503 2020-07-15       272412481300040   778064028  0.008458   \n29064059 2020-07-15      1456826891333599   888294001  0.013542   \n29067103 2020-07-15      2133687643102426   843642001  0.042356   \n29027487 2020-07-15      6010692573790711   857812010  0.039661   \n29046403 2020-07-15      6171059100114610   815447007  0.006763   \n...             ...                   ...         ...       ...   \n31760188 2020-09-22  18435221511488011015   573085055  0.033881   \n31782234 2020-09-22  18436859303155335645   801447001  0.030492   \n31787251 2020-09-22  18437941771381362708   907188001  0.050831   \n31776022 2020-09-22  18438270306572912089   751471043  0.033881   \n31779097 2020-09-22  18440902715633436014   918894002  0.016932   \n\n          sales_channel_id  week  \n29030503                 1    95  \n29064059                 1    95  \n29067103                 2    95  \n29027487                 1    95  \n29046403                 2    95  \n...                    ...   ...  \n31760188                 1   104  \n31782234                 1   104  \n31787251                 2   104  \n31776022                 1   104  \n31779097                 1   104  \n\n[755710 rows x 6 columns]",
      "text/html": "<div>\n<style scoped>\n    .dataframe tbody tr th:only-of-type {\n        vertical-align: middle;\n    }\n\n    .dataframe tbody tr th {\n        vertical-align: top;\n    }\n\n    .dataframe thead th {\n        text-align: right;\n    }\n</style>\n<table border=\"1\" class=\"dataframe\">\n  <thead>\n    <tr style=\"text-align: right;\">\n      <th></th>\n      <th>t_dat</th>\n      <th>customer_id</th>\n      <th>article_id</th>\n      <th>price</th>\n      <th>sales_channel_id</th>\n      <th>week</th>\n    </tr>\n  </thead>\n  <tbody>\n    <tr>\n      <th>29030503</th>\n      <td>2020-07-15</td>\n      <td>272412481300040</td>\n      <td>778064028</td>\n      <td>0.008458</td>\n      <td>1</td>\n      <td>95</td>\n    </tr>\n    <tr>\n      <th>29064059</th>\n      <td>2020-07-15</td>\n      <td>1456826891333599</td>\n      <td>888294001</td>\n      <td>0.013542</td>\n      <td>1</td>\n      <td>95</td>\n    </tr>\n    <tr>\n      <th>29067103</th>\n      <td>2020-07-15</td>\n      <td>2133687643102426</td>\n      <td>843642001</td>\n      <td>0.042356</td>\n      <td>2</td>\n      <td>95</td>\n    </tr>\n    <tr>\n      <th>29027487</th>\n      <td>2020-07-15</td>\n      <td>6010692573790711</td>\n      <td>857812010</td>\n      <td>0.039661</td>\n      <td>1</td>\n      <td>95</td>\n    </tr>\n    <tr>\n      <th>29046403</th>\n      <td>2020-07-15</td>\n      <td>6171059100114610</td>\n      <td>815447007</td>\n      <td>0.006763</td>\n      <td>2</td>\n      <td>95</td>\n    </tr>\n    <tr>\n      <th>...</th>\n      <td>...</td>\n      <td>...</td>\n      <td>...</td>\n      <td>...</td>\n      <td>...</td>\n      <td>...</td>\n    </tr>\n    <tr>\n      <th>31760188</th>\n      <td>2020-09-22</td>\n      <td>18435221511488011015</td>\n      <td>573085055</td>\n      <td>0.033881</td>\n      <td>1</td>\n      <td>104</td>\n    </tr>\n    <tr>\n      <th>31782234</th>\n      <td>2020-09-22</td>\n      <td>18436859303155335645</td>\n      <td>801447001</td>\n      <td>0.030492</td>\n      <td>1</td>\n      <td>104</td>\n    </tr>\n    <tr>\n      <th>31787251</th>\n      <td>2020-09-22</td>\n      <td>18437941771381362708</td>\n      <td>907188001</td>\n      <td>0.050831</td>\n      <td>2</td>\n      <td>104</td>\n    </tr>\n    <tr>\n      <th>31776022</th>\n      <td>2020-09-22</td>\n      <td>18438270306572912089</td>\n      <td>751471043</td>\n      <td>0.033881</td>\n      <td>1</td>\n      <td>104</td>\n    </tr>\n    <tr>\n      <th>31779097</th>\n      <td>2020-09-22</td>\n      <td>18440902715633436014</td>\n      <td>918894002</td>\n      <td>0.016932</td>\n      <td>1</td>\n      <td>104</td>\n    </tr>\n  </tbody>\n</table>\n<p>755710 rows × 6 columns</p>\n</div>"
     },
     "execution_count": 22,
     "metadata": {},
     "output_type": "execute_result"
    }
   ],
   "source": [
    "transactions.drop_duplicates(['week', 'customer_id'])"
   ]
  },
  {
   "cell_type": "markdown",
   "metadata": {
    "ExecuteTime": {
     "end_time": "2024-01-19T19:23:14.256516400Z",
     "start_time": "2024-01-19T19:23:14.249013Z"
    },
    "collapsed": false
   },
   "source": [
    "bestseller candidates will be given to users who made purchase in given week"
   ]
  },
  {
   "cell_type": "code",
   "execution_count": 23,
   "metadata": {
    "collapsed": false,
    "ExecuteTime": {
     "end_time": "2024-01-26T16:51:31.245732500Z",
     "start_time": "2024-01-26T16:51:30.871732900Z"
    }
   },
   "outputs": [
    {
     "data": {
      "text/plain": "             t_dat           customer_id  sales_channel_id  week  index  \\\n0       2020-07-22       200292573348128                 2    96      0   \n1       2020-07-22       200292573348128                 2    96      2   \n2       2020-07-22       200292573348128                 2    96      5   \n3       2020-07-22       200292573348128                 2    96      6   \n4       2020-07-22       200292573348128                 2    96     11   \n...            ...                   ...               ...   ...    ...   \n8141191 2020-09-22  18440902715633436014                 1   104    110   \n8141192 2020-09-22  18440902715633436014                 1   104    111   \n8141193 2020-09-22  18440902715633436014                 1   104    112   \n8141194 2020-09-22  18440902715633436014                 1   104    113   \n8141195 2020-09-22  18440902715633436014                 1   104    114   \n\n         article_id  bestseller_rank  long_tail  \n0         760084003                1          0  \n1         866731001                2          0  \n2         600886001                3          0  \n3         706016001                4          0  \n4         372860002                5          0  \n...             ...              ...        ...  \n8141191   739575003                8          1  \n8141192   762846027                9          0  \n8141193   809238005               10          0  \n8141194   673677002               11          0  \n8141195   923758001               12          0  \n\n[8141196 rows x 8 columns]",
      "text/html": "<div>\n<style scoped>\n    .dataframe tbody tr th:only-of-type {\n        vertical-align: middle;\n    }\n\n    .dataframe tbody tr th {\n        vertical-align: top;\n    }\n\n    .dataframe thead th {\n        text-align: right;\n    }\n</style>\n<table border=\"1\" class=\"dataframe\">\n  <thead>\n    <tr style=\"text-align: right;\">\n      <th></th>\n      <th>t_dat</th>\n      <th>customer_id</th>\n      <th>sales_channel_id</th>\n      <th>week</th>\n      <th>index</th>\n      <th>article_id</th>\n      <th>bestseller_rank</th>\n      <th>long_tail</th>\n    </tr>\n  </thead>\n  <tbody>\n    <tr>\n      <th>0</th>\n      <td>2020-07-22</td>\n      <td>200292573348128</td>\n      <td>2</td>\n      <td>96</td>\n      <td>0</td>\n      <td>760084003</td>\n      <td>1</td>\n      <td>0</td>\n    </tr>\n    <tr>\n      <th>1</th>\n      <td>2020-07-22</td>\n      <td>200292573348128</td>\n      <td>2</td>\n      <td>96</td>\n      <td>2</td>\n      <td>866731001</td>\n      <td>2</td>\n      <td>0</td>\n    </tr>\n    <tr>\n      <th>2</th>\n      <td>2020-07-22</td>\n      <td>200292573348128</td>\n      <td>2</td>\n      <td>96</td>\n      <td>5</td>\n      <td>600886001</td>\n      <td>3</td>\n      <td>0</td>\n    </tr>\n    <tr>\n      <th>3</th>\n      <td>2020-07-22</td>\n      <td>200292573348128</td>\n      <td>2</td>\n      <td>96</td>\n      <td>6</td>\n      <td>706016001</td>\n      <td>4</td>\n      <td>0</td>\n    </tr>\n    <tr>\n      <th>4</th>\n      <td>2020-07-22</td>\n      <td>200292573348128</td>\n      <td>2</td>\n      <td>96</td>\n      <td>11</td>\n      <td>372860002</td>\n      <td>5</td>\n      <td>0</td>\n    </tr>\n    <tr>\n      <th>...</th>\n      <td>...</td>\n      <td>...</td>\n      <td>...</td>\n      <td>...</td>\n      <td>...</td>\n      <td>...</td>\n      <td>...</td>\n      <td>...</td>\n    </tr>\n    <tr>\n      <th>8141191</th>\n      <td>2020-09-22</td>\n      <td>18440902715633436014</td>\n      <td>1</td>\n      <td>104</td>\n      <td>110</td>\n      <td>739575003</td>\n      <td>8</td>\n      <td>1</td>\n    </tr>\n    <tr>\n      <th>8141192</th>\n      <td>2020-09-22</td>\n      <td>18440902715633436014</td>\n      <td>1</td>\n      <td>104</td>\n      <td>111</td>\n      <td>762846027</td>\n      <td>9</td>\n      <td>0</td>\n    </tr>\n    <tr>\n      <th>8141193</th>\n      <td>2020-09-22</td>\n      <td>18440902715633436014</td>\n      <td>1</td>\n      <td>104</td>\n      <td>112</td>\n      <td>809238005</td>\n      <td>10</td>\n      <td>0</td>\n    </tr>\n    <tr>\n      <th>8141194</th>\n      <td>2020-09-22</td>\n      <td>18440902715633436014</td>\n      <td>1</td>\n      <td>104</td>\n      <td>113</td>\n      <td>673677002</td>\n      <td>11</td>\n      <td>0</td>\n    </tr>\n    <tr>\n      <th>8141195</th>\n      <td>2020-09-22</td>\n      <td>18440902715633436014</td>\n      <td>1</td>\n      <td>104</td>\n      <td>114</td>\n      <td>923758001</td>\n      <td>12</td>\n      <td>0</td>\n    </tr>\n  </tbody>\n</table>\n<p>8141196 rows × 8 columns</p>\n</div>"
     },
     "execution_count": 23,
     "metadata": {},
     "output_type": "execute_result"
    }
   ],
   "source": [
    "candidates_bestsellers = pd.merge(\n",
    "    unique_transactions,\n",
    "    bestsellers_previous_weeks,\n",
    "    on='week',\n",
    ")\n",
    "candidates_bestsellers"
   ]
  },
  {
   "cell_type": "code",
   "execution_count": 24,
   "metadata": {
    "collapsed": false,
    "ExecuteTime": {
     "end_time": "2024-01-26T16:51:31.343731300Z",
     "start_time": "2024-01-26T16:51:31.243732300Z"
    }
   },
   "outputs": [
    {
     "data": {
      "text/plain": "long_tail\n0    0.934955\n1    0.065045\nName: proportion, dtype: float64"
     },
     "execution_count": 24,
     "metadata": {},
     "output_type": "execute_result"
    }
   ],
   "source": [
    "candidates_bestsellers[\"long_tail\"].value_counts(normalize=True)"
   ]
  },
  {
   "cell_type": "code",
   "execution_count": 25,
   "metadata": {
    "collapsed": false,
    "ExecuteTime": {
     "end_time": "2024-01-26T16:51:31.369733100Z",
     "start_time": "2024-01-26T16:51:31.283231400Z"
    }
   },
   "outputs": [],
   "source": [
    "test_set_transactions = unique_transactions.drop_duplicates('customer_id').reset_index(drop=True)\n",
    "test_set_transactions.week = test_week"
   ]
  },
  {
   "cell_type": "code",
   "execution_count": 26,
   "metadata": {
    "collapsed": false,
    "ExecuteTime": {
     "end_time": "2024-01-26T16:51:31.394730700Z",
     "start_time": "2024-01-26T16:51:31.318230300Z"
    }
   },
   "outputs": [
    {
     "data": {
      "text/plain": "            t_dat           customer_id  sales_channel_id  week\n0      2020-07-15       272412481300040                 1   105\n1      2020-07-15      1456826891333599                 1   105\n2      2020-07-15      2133687643102426                 2   105\n3      2020-07-15      6010692573790711                 1   105\n4      2020-07-15      6171059100114610                 2   105\n...           ...                   ...               ...   ...\n437360 2020-09-22  18410229429441241008                 2   105\n437361 2020-09-22  18417769707947924979                 2   105\n437362 2020-09-22  18418054986721795659                 2   105\n437363 2020-09-22  18421175435799911749                 2   105\n437364 2020-09-22  18438270306572912089                 1   105\n\n[437365 rows x 4 columns]",
      "text/html": "<div>\n<style scoped>\n    .dataframe tbody tr th:only-of-type {\n        vertical-align: middle;\n    }\n\n    .dataframe tbody tr th {\n        vertical-align: top;\n    }\n\n    .dataframe thead th {\n        text-align: right;\n    }\n</style>\n<table border=\"1\" class=\"dataframe\">\n  <thead>\n    <tr style=\"text-align: right;\">\n      <th></th>\n      <th>t_dat</th>\n      <th>customer_id</th>\n      <th>sales_channel_id</th>\n      <th>week</th>\n    </tr>\n  </thead>\n  <tbody>\n    <tr>\n      <th>0</th>\n      <td>2020-07-15</td>\n      <td>272412481300040</td>\n      <td>1</td>\n      <td>105</td>\n    </tr>\n    <tr>\n      <th>1</th>\n      <td>2020-07-15</td>\n      <td>1456826891333599</td>\n      <td>1</td>\n      <td>105</td>\n    </tr>\n    <tr>\n      <th>2</th>\n      <td>2020-07-15</td>\n      <td>2133687643102426</td>\n      <td>2</td>\n      <td>105</td>\n    </tr>\n    <tr>\n      <th>3</th>\n      <td>2020-07-15</td>\n      <td>6010692573790711</td>\n      <td>1</td>\n      <td>105</td>\n    </tr>\n    <tr>\n      <th>4</th>\n      <td>2020-07-15</td>\n      <td>6171059100114610</td>\n      <td>2</td>\n      <td>105</td>\n    </tr>\n    <tr>\n      <th>...</th>\n      <td>...</td>\n      <td>...</td>\n      <td>...</td>\n      <td>...</td>\n    </tr>\n    <tr>\n      <th>437360</th>\n      <td>2020-09-22</td>\n      <td>18410229429441241008</td>\n      <td>2</td>\n      <td>105</td>\n    </tr>\n    <tr>\n      <th>437361</th>\n      <td>2020-09-22</td>\n      <td>18417769707947924979</td>\n      <td>2</td>\n      <td>105</td>\n    </tr>\n    <tr>\n      <th>437362</th>\n      <td>2020-09-22</td>\n      <td>18418054986721795659</td>\n      <td>2</td>\n      <td>105</td>\n    </tr>\n    <tr>\n      <th>437363</th>\n      <td>2020-09-22</td>\n      <td>18421175435799911749</td>\n      <td>2</td>\n      <td>105</td>\n    </tr>\n    <tr>\n      <th>437364</th>\n      <td>2020-09-22</td>\n      <td>18438270306572912089</td>\n      <td>1</td>\n      <td>105</td>\n    </tr>\n  </tbody>\n</table>\n<p>437365 rows × 4 columns</p>\n</div>"
     },
     "execution_count": 26,
     "metadata": {},
     "output_type": "execute_result"
    }
   ],
   "source": [
    "test_set_transactions"
   ]
  },
  {
   "cell_type": "code",
   "execution_count": 27,
   "metadata": {
    "collapsed": false,
    "ExecuteTime": {
     "end_time": "2024-01-26T16:51:31.395730100Z",
     "start_time": "2024-01-26T16:51:31.325731800Z"
    }
   },
   "outputs": [
    {
     "data": {
      "text/plain": "     index  week  article_id  bestseller_rank  long_tail\n0        0    96   760084003                1          0\n1        1    97   760084003                4          0\n2        2    96   866731001                2          0\n3        3   100   866731001                3          0\n4        4   105   866731001                5          0\n..     ...   ...         ...              ...        ...\n115    115   105   923758001                4          0\n116    116   105   924243002                2          0\n117    117   105   915529005                9          0\n118    118   105   481696002               11          1\n119    119   105   714790020               12          0\n\n[120 rows x 5 columns]",
      "text/html": "<div>\n<style scoped>\n    .dataframe tbody tr th:only-of-type {\n        vertical-align: middle;\n    }\n\n    .dataframe tbody tr th {\n        vertical-align: top;\n    }\n\n    .dataframe thead th {\n        text-align: right;\n    }\n</style>\n<table border=\"1\" class=\"dataframe\">\n  <thead>\n    <tr style=\"text-align: right;\">\n      <th></th>\n      <th>index</th>\n      <th>week</th>\n      <th>article_id</th>\n      <th>bestseller_rank</th>\n      <th>long_tail</th>\n    </tr>\n  </thead>\n  <tbody>\n    <tr>\n      <th>0</th>\n      <td>0</td>\n      <td>96</td>\n      <td>760084003</td>\n      <td>1</td>\n      <td>0</td>\n    </tr>\n    <tr>\n      <th>1</th>\n      <td>1</td>\n      <td>97</td>\n      <td>760084003</td>\n      <td>4</td>\n      <td>0</td>\n    </tr>\n    <tr>\n      <th>2</th>\n      <td>2</td>\n      <td>96</td>\n      <td>866731001</td>\n      <td>2</td>\n      <td>0</td>\n    </tr>\n    <tr>\n      <th>3</th>\n      <td>3</td>\n      <td>100</td>\n      <td>866731001</td>\n      <td>3</td>\n      <td>0</td>\n    </tr>\n    <tr>\n      <th>4</th>\n      <td>4</td>\n      <td>105</td>\n      <td>866731001</td>\n      <td>5</td>\n      <td>0</td>\n    </tr>\n    <tr>\n      <th>...</th>\n      <td>...</td>\n      <td>...</td>\n      <td>...</td>\n      <td>...</td>\n      <td>...</td>\n    </tr>\n    <tr>\n      <th>115</th>\n      <td>115</td>\n      <td>105</td>\n      <td>923758001</td>\n      <td>4</td>\n      <td>0</td>\n    </tr>\n    <tr>\n      <th>116</th>\n      <td>116</td>\n      <td>105</td>\n      <td>924243002</td>\n      <td>2</td>\n      <td>0</td>\n    </tr>\n    <tr>\n      <th>117</th>\n      <td>117</td>\n      <td>105</td>\n      <td>915529005</td>\n      <td>9</td>\n      <td>0</td>\n    </tr>\n    <tr>\n      <th>118</th>\n      <td>118</td>\n      <td>105</td>\n      <td>481696002</td>\n      <td>11</td>\n      <td>1</td>\n    </tr>\n    <tr>\n      <th>119</th>\n      <td>119</td>\n      <td>105</td>\n      <td>714790020</td>\n      <td>12</td>\n      <td>0</td>\n    </tr>\n  </tbody>\n</table>\n<p>120 rows × 5 columns</p>\n</div>"
     },
     "execution_count": 27,
     "metadata": {},
     "output_type": "execute_result"
    }
   ],
   "source": [
    "bestsellers_previous_weeks"
   ]
  },
  {
   "cell_type": "code",
   "execution_count": 28,
   "metadata": {
    "collapsed": false,
    "ExecuteTime": {
     "end_time": "2024-01-26T16:51:31.602232500Z",
     "start_time": "2024-01-26T16:51:31.332731500Z"
    }
   },
   "outputs": [
    {
     "data": {
      "text/plain": "             t_dat           customer_id  sales_channel_id  week  index  \\\n0       2020-07-15       272412481300040                 1   105      4   \n1       2020-07-15       272412481300040                 1   105     37   \n2       2020-07-15       272412481300040                 1   105     90   \n3       2020-07-15       272412481300040                 1   105     99   \n4       2020-07-15       272412481300040                 1   105    103   \n...            ...                   ...               ...   ...    ...   \n5248375 2020-09-22  18438270306572912089                 1   105    115   \n5248376 2020-09-22  18438270306572912089                 1   105    116   \n5248377 2020-09-22  18438270306572912089                 1   105    117   \n5248378 2020-09-22  18438270306572912089                 1   105    118   \n5248379 2020-09-22  18438270306572912089                 1   105    119   \n\n         article_id  bestseller_rank  long_tail  \n0         866731001                5          0  \n1         751471001                7          0  \n2         915529003                8          0  \n3         448509014               10          0  \n4         909370001                6          0  \n...             ...              ...        ...  \n5248375   923758001                4          0  \n5248376   924243002                2          0  \n5248377   915529005                9          0  \n5248378   481696002               11          1  \n5248379   714790020               12          0  \n\n[5248380 rows x 8 columns]",
      "text/html": "<div>\n<style scoped>\n    .dataframe tbody tr th:only-of-type {\n        vertical-align: middle;\n    }\n\n    .dataframe tbody tr th {\n        vertical-align: top;\n    }\n\n    .dataframe thead th {\n        text-align: right;\n    }\n</style>\n<table border=\"1\" class=\"dataframe\">\n  <thead>\n    <tr style=\"text-align: right;\">\n      <th></th>\n      <th>t_dat</th>\n      <th>customer_id</th>\n      <th>sales_channel_id</th>\n      <th>week</th>\n      <th>index</th>\n      <th>article_id</th>\n      <th>bestseller_rank</th>\n      <th>long_tail</th>\n    </tr>\n  </thead>\n  <tbody>\n    <tr>\n      <th>0</th>\n      <td>2020-07-15</td>\n      <td>272412481300040</td>\n      <td>1</td>\n      <td>105</td>\n      <td>4</td>\n      <td>866731001</td>\n      <td>5</td>\n      <td>0</td>\n    </tr>\n    <tr>\n      <th>1</th>\n      <td>2020-07-15</td>\n      <td>272412481300040</td>\n      <td>1</td>\n      <td>105</td>\n      <td>37</td>\n      <td>751471001</td>\n      <td>7</td>\n      <td>0</td>\n    </tr>\n    <tr>\n      <th>2</th>\n      <td>2020-07-15</td>\n      <td>272412481300040</td>\n      <td>1</td>\n      <td>105</td>\n      <td>90</td>\n      <td>915529003</td>\n      <td>8</td>\n      <td>0</td>\n    </tr>\n    <tr>\n      <th>3</th>\n      <td>2020-07-15</td>\n      <td>272412481300040</td>\n      <td>1</td>\n      <td>105</td>\n      <td>99</td>\n      <td>448509014</td>\n      <td>10</td>\n      <td>0</td>\n    </tr>\n    <tr>\n      <th>4</th>\n      <td>2020-07-15</td>\n      <td>272412481300040</td>\n      <td>1</td>\n      <td>105</td>\n      <td>103</td>\n      <td>909370001</td>\n      <td>6</td>\n      <td>0</td>\n    </tr>\n    <tr>\n      <th>...</th>\n      <td>...</td>\n      <td>...</td>\n      <td>...</td>\n      <td>...</td>\n      <td>...</td>\n      <td>...</td>\n      <td>...</td>\n      <td>...</td>\n    </tr>\n    <tr>\n      <th>5248375</th>\n      <td>2020-09-22</td>\n      <td>18438270306572912089</td>\n      <td>1</td>\n      <td>105</td>\n      <td>115</td>\n      <td>923758001</td>\n      <td>4</td>\n      <td>0</td>\n    </tr>\n    <tr>\n      <th>5248376</th>\n      <td>2020-09-22</td>\n      <td>18438270306572912089</td>\n      <td>1</td>\n      <td>105</td>\n      <td>116</td>\n      <td>924243002</td>\n      <td>2</td>\n      <td>0</td>\n    </tr>\n    <tr>\n      <th>5248377</th>\n      <td>2020-09-22</td>\n      <td>18438270306572912089</td>\n      <td>1</td>\n      <td>105</td>\n      <td>117</td>\n      <td>915529005</td>\n      <td>9</td>\n      <td>0</td>\n    </tr>\n    <tr>\n      <th>5248378</th>\n      <td>2020-09-22</td>\n      <td>18438270306572912089</td>\n      <td>1</td>\n      <td>105</td>\n      <td>118</td>\n      <td>481696002</td>\n      <td>11</td>\n      <td>1</td>\n    </tr>\n    <tr>\n      <th>5248379</th>\n      <td>2020-09-22</td>\n      <td>18438270306572912089</td>\n      <td>1</td>\n      <td>105</td>\n      <td>119</td>\n      <td>714790020</td>\n      <td>12</td>\n      <td>0</td>\n    </tr>\n  </tbody>\n</table>\n<p>5248380 rows × 8 columns</p>\n</div>"
     },
     "execution_count": 28,
     "metadata": {},
     "output_type": "execute_result"
    }
   ],
   "source": [
    "candidates_bestsellers_test_week = pd.merge(\n",
    "    test_set_transactions,\n",
    "    bestsellers_previous_weeks,\n",
    "    on='week'\n",
    ")\n",
    "candidates_bestsellers_test_week"
   ]
  },
  {
   "cell_type": "markdown",
   "metadata": {
    "ExecuteTime": {
     "end_time": "2024-01-19T19:23:14.940076500Z",
     "start_time": "2024-01-19T19:23:14.887577Z"
    },
    "collapsed": false
   },
   "source": [
    "Bestsellers from test week get added to bestseller candidates of training weeks"
   ]
  },
  {
   "cell_type": "code",
   "execution_count": 29,
   "metadata": {
    "collapsed": false,
    "ExecuteTime": {
     "end_time": "2024-01-26T16:51:31.632731800Z",
     "start_time": "2024-01-26T16:51:31.601730800Z"
    }
   },
   "outputs": [
    {
     "data": {
      "text/plain": "long_tail\n0    0.916667\n1    0.083333\nName: proportion, dtype: float64"
     },
     "execution_count": 29,
     "metadata": {},
     "output_type": "execute_result"
    }
   ],
   "source": [
    "candidates_bestsellers_test_week[\"long_tail\"].value_counts(normalize=True)\n"
   ]
  },
  {
   "cell_type": "code",
   "execution_count": 30,
   "metadata": {
    "collapsed": false,
    "ExecuteTime": {
     "end_time": "2024-01-26T16:51:31.996733600Z",
     "start_time": "2024-01-26T16:51:31.630733400Z"
    }
   },
   "outputs": [],
   "source": [
    "candidates_bestsellers = pd.concat([candidates_bestsellers, candidates_bestsellers_test_week])\n",
    "candidates_bestsellers.drop(columns='bestseller_rank', inplace=True)"
   ]
  },
  {
   "cell_type": "code",
   "execution_count": 31,
   "metadata": {
    "collapsed": false,
    "ExecuteTime": {
     "end_time": "2024-01-26T16:51:32.011732800Z",
     "start_time": "2024-01-26T16:51:31.997233200Z"
    }
   },
   "outputs": [
    {
     "data": {
      "text/plain": "             t_dat           customer_id  sales_channel_id  week  index  \\\n0       2020-07-22       200292573348128                 2    96      0   \n1       2020-07-22       200292573348128                 2    96      2   \n2       2020-07-22       200292573348128                 2    96      5   \n3       2020-07-22       200292573348128                 2    96      6   \n4       2020-07-22       200292573348128                 2    96     11   \n...            ...                   ...               ...   ...    ...   \n5248375 2020-09-22  18438270306572912089                 1   105    115   \n5248376 2020-09-22  18438270306572912089                 1   105    116   \n5248377 2020-09-22  18438270306572912089                 1   105    117   \n5248378 2020-09-22  18438270306572912089                 1   105    118   \n5248379 2020-09-22  18438270306572912089                 1   105    119   \n\n         article_id  long_tail  \n0         760084003          0  \n1         866731001          0  \n2         600886001          0  \n3         706016001          0  \n4         372860002          0  \n...             ...        ...  \n5248375   923758001          0  \n5248376   924243002          0  \n5248377   915529005          0  \n5248378   481696002          1  \n5248379   714790020          0  \n\n[13389576 rows x 7 columns]",
      "text/html": "<div>\n<style scoped>\n    .dataframe tbody tr th:only-of-type {\n        vertical-align: middle;\n    }\n\n    .dataframe tbody tr th {\n        vertical-align: top;\n    }\n\n    .dataframe thead th {\n        text-align: right;\n    }\n</style>\n<table border=\"1\" class=\"dataframe\">\n  <thead>\n    <tr style=\"text-align: right;\">\n      <th></th>\n      <th>t_dat</th>\n      <th>customer_id</th>\n      <th>sales_channel_id</th>\n      <th>week</th>\n      <th>index</th>\n      <th>article_id</th>\n      <th>long_tail</th>\n    </tr>\n  </thead>\n  <tbody>\n    <tr>\n      <th>0</th>\n      <td>2020-07-22</td>\n      <td>200292573348128</td>\n      <td>2</td>\n      <td>96</td>\n      <td>0</td>\n      <td>760084003</td>\n      <td>0</td>\n    </tr>\n    <tr>\n      <th>1</th>\n      <td>2020-07-22</td>\n      <td>200292573348128</td>\n      <td>2</td>\n      <td>96</td>\n      <td>2</td>\n      <td>866731001</td>\n      <td>0</td>\n    </tr>\n    <tr>\n      <th>2</th>\n      <td>2020-07-22</td>\n      <td>200292573348128</td>\n      <td>2</td>\n      <td>96</td>\n      <td>5</td>\n      <td>600886001</td>\n      <td>0</td>\n    </tr>\n    <tr>\n      <th>3</th>\n      <td>2020-07-22</td>\n      <td>200292573348128</td>\n      <td>2</td>\n      <td>96</td>\n      <td>6</td>\n      <td>706016001</td>\n      <td>0</td>\n    </tr>\n    <tr>\n      <th>4</th>\n      <td>2020-07-22</td>\n      <td>200292573348128</td>\n      <td>2</td>\n      <td>96</td>\n      <td>11</td>\n      <td>372860002</td>\n      <td>0</td>\n    </tr>\n    <tr>\n      <th>...</th>\n      <td>...</td>\n      <td>...</td>\n      <td>...</td>\n      <td>...</td>\n      <td>...</td>\n      <td>...</td>\n      <td>...</td>\n    </tr>\n    <tr>\n      <th>5248375</th>\n      <td>2020-09-22</td>\n      <td>18438270306572912089</td>\n      <td>1</td>\n      <td>105</td>\n      <td>115</td>\n      <td>923758001</td>\n      <td>0</td>\n    </tr>\n    <tr>\n      <th>5248376</th>\n      <td>2020-09-22</td>\n      <td>18438270306572912089</td>\n      <td>1</td>\n      <td>105</td>\n      <td>116</td>\n      <td>924243002</td>\n      <td>0</td>\n    </tr>\n    <tr>\n      <th>5248377</th>\n      <td>2020-09-22</td>\n      <td>18438270306572912089</td>\n      <td>1</td>\n      <td>105</td>\n      <td>117</td>\n      <td>915529005</td>\n      <td>0</td>\n    </tr>\n    <tr>\n      <th>5248378</th>\n      <td>2020-09-22</td>\n      <td>18438270306572912089</td>\n      <td>1</td>\n      <td>105</td>\n      <td>118</td>\n      <td>481696002</td>\n      <td>1</td>\n    </tr>\n    <tr>\n      <th>5248379</th>\n      <td>2020-09-22</td>\n      <td>18438270306572912089</td>\n      <td>1</td>\n      <td>105</td>\n      <td>119</td>\n      <td>714790020</td>\n      <td>0</td>\n    </tr>\n  </tbody>\n</table>\n<p>13389576 rows × 7 columns</p>\n</div>"
     },
     "execution_count": 31,
     "metadata": {},
     "output_type": "execute_result"
    }
   ],
   "source": [
    "candidates_bestsellers"
   ]
  },
  {
   "cell_type": "markdown",
   "metadata": {
    "ExecuteTime": {
     "end_time": "2024-01-19T19:23:15.569075100Z",
     "start_time": "2024-01-19T19:23:15.181575900Z"
    },
    "collapsed": false
   },
   "source": [
    "# Combining transactions and candidates / negative examples\n"
   ]
  },
  {
   "cell_type": "code",
   "execution_count": 32,
   "metadata": {
    "collapsed": false,
    "ExecuteTime": {
     "end_time": "2024-01-26T16:51:32.014731200Z",
     "start_time": "2024-01-26T16:51:32.006230900Z"
    }
   },
   "outputs": [],
   "source": [
    "transactions['purchased'] = 1\n"
   ]
  },
  {
   "cell_type": "markdown",
   "metadata": {
    "collapsed": false
   },
   "source": [
    "Set around 30% of long tail candidates to purchased, since only replacing candidates is not effective:"
   ]
  },
  {
   "cell_type": "code",
   "execution_count": 33,
   "metadata": {
    "collapsed": false,
    "ExecuteTime": {
     "end_time": "2024-01-26T16:51:33.939233700Z",
     "start_time": "2024-01-26T16:51:32.043230500Z"
    }
   },
   "outputs": [],
   "source": [
    "if K_items > 0:\n",
    "    rows_to_update = int(len(candidates_bestsellers[candidates_bestsellers['long_tail'] == 1]) * 0.3)\n",
    "    \n",
    "    # select long tail item candidates, and set purchased to True for some\n",
    "    selected_rows = candidates_bestsellers[candidates_bestsellers['long_tail'] == 1]\n",
    "    selected_indices = selected_rows.index\n",
    "    candidates_bestsellers.loc[selected_indices[:rows_to_update], \"purchased\"] = 1\n",
    "    candidates_bestsellers[candidates_bestsellers['long_tail'] == 1][\"purchased\"].value_counts()\n"
   ]
  },
  {
   "cell_type": "code",
   "execution_count": 34,
   "metadata": {
    "collapsed": false,
    "ExecuteTime": {
     "end_time": "2024-01-26T16:51:36.054730800Z",
     "start_time": "2024-01-26T16:51:33.940232600Z"
    }
   },
   "outputs": [],
   "source": [
    "data = pd.concat([transactions, candidates_last_purchase, candidates_bestsellers.drop(columns=[\"long_tail\", \"index\"])])\n",
    "data.purchased.fillna(0, inplace=True)\n",
    "data = data.merge(articles[[\"article_id\", \"long_tail\"]], on=[\"article_id\"], how=\"left\").reset_index()\n"
   ]
  },
  {
   "cell_type": "code",
   "execution_count": 35,
   "metadata": {
    "collapsed": false,
    "ExecuteTime": {
     "end_time": "2024-01-26T16:51:36.069230400Z",
     "start_time": "2024-01-26T16:51:36.055230900Z"
    }
   },
   "outputs": [
    {
     "data": {
      "text/plain": "             index      t_dat           customer_id  article_id     price  \\\n0                0 2020-07-15       272412481300040   778064028  0.008458   \n1                1 2020-07-15       272412481300040   816592008  0.016932   \n2                2 2020-07-15       272412481300040   621381021  0.033881   \n3                3 2020-07-15       272412481300040   817477003  0.025407   \n4                4 2020-07-15       272412481300040   899088002  0.025407   \n...            ...        ...                   ...         ...       ...   \n18915315  18915315 2020-09-22  18438270306572912089   923758001       NaN   \n18915316  18915316 2020-09-22  18438270306572912089   924243002       NaN   \n18915317  18915317 2020-09-22  18438270306572912089   915529005       NaN   \n18915318  18915318 2020-09-22  18438270306572912089   481696002       NaN   \n18915319  18915319 2020-09-22  18438270306572912089   714790020       NaN   \n\n          sales_channel_id  week  purchased  long_tail  \n0                        1    95        1.0          0  \n1                        1    95        1.0          0  \n2                        1    95        1.0          0  \n3                        1    95        1.0          0  \n4                        1    95        1.0          1  \n...                    ...   ...        ...        ...  \n18915315                 1   105        0.0          0  \n18915316                 1   105        1.0          0  \n18915317                 1   105        0.0          0  \n18915318                 1   105        0.0          1  \n18915319                 1   105        0.0          0  \n\n[18915320 rows x 9 columns]",
      "text/html": "<div>\n<style scoped>\n    .dataframe tbody tr th:only-of-type {\n        vertical-align: middle;\n    }\n\n    .dataframe tbody tr th {\n        vertical-align: top;\n    }\n\n    .dataframe thead th {\n        text-align: right;\n    }\n</style>\n<table border=\"1\" class=\"dataframe\">\n  <thead>\n    <tr style=\"text-align: right;\">\n      <th></th>\n      <th>index</th>\n      <th>t_dat</th>\n      <th>customer_id</th>\n      <th>article_id</th>\n      <th>price</th>\n      <th>sales_channel_id</th>\n      <th>week</th>\n      <th>purchased</th>\n      <th>long_tail</th>\n    </tr>\n  </thead>\n  <tbody>\n    <tr>\n      <th>0</th>\n      <td>0</td>\n      <td>2020-07-15</td>\n      <td>272412481300040</td>\n      <td>778064028</td>\n      <td>0.008458</td>\n      <td>1</td>\n      <td>95</td>\n      <td>1.0</td>\n      <td>0</td>\n    </tr>\n    <tr>\n      <th>1</th>\n      <td>1</td>\n      <td>2020-07-15</td>\n      <td>272412481300040</td>\n      <td>816592008</td>\n      <td>0.016932</td>\n      <td>1</td>\n      <td>95</td>\n      <td>1.0</td>\n      <td>0</td>\n    </tr>\n    <tr>\n      <th>2</th>\n      <td>2</td>\n      <td>2020-07-15</td>\n      <td>272412481300040</td>\n      <td>621381021</td>\n      <td>0.033881</td>\n      <td>1</td>\n      <td>95</td>\n      <td>1.0</td>\n      <td>0</td>\n    </tr>\n    <tr>\n      <th>3</th>\n      <td>3</td>\n      <td>2020-07-15</td>\n      <td>272412481300040</td>\n      <td>817477003</td>\n      <td>0.025407</td>\n      <td>1</td>\n      <td>95</td>\n      <td>1.0</td>\n      <td>0</td>\n    </tr>\n    <tr>\n      <th>4</th>\n      <td>4</td>\n      <td>2020-07-15</td>\n      <td>272412481300040</td>\n      <td>899088002</td>\n      <td>0.025407</td>\n      <td>1</td>\n      <td>95</td>\n      <td>1.0</td>\n      <td>1</td>\n    </tr>\n    <tr>\n      <th>...</th>\n      <td>...</td>\n      <td>...</td>\n      <td>...</td>\n      <td>...</td>\n      <td>...</td>\n      <td>...</td>\n      <td>...</td>\n      <td>...</td>\n      <td>...</td>\n    </tr>\n    <tr>\n      <th>18915315</th>\n      <td>18915315</td>\n      <td>2020-09-22</td>\n      <td>18438270306572912089</td>\n      <td>923758001</td>\n      <td>NaN</td>\n      <td>1</td>\n      <td>105</td>\n      <td>0.0</td>\n      <td>0</td>\n    </tr>\n    <tr>\n      <th>18915316</th>\n      <td>18915316</td>\n      <td>2020-09-22</td>\n      <td>18438270306572912089</td>\n      <td>924243002</td>\n      <td>NaN</td>\n      <td>1</td>\n      <td>105</td>\n      <td>1.0</td>\n      <td>0</td>\n    </tr>\n    <tr>\n      <th>18915317</th>\n      <td>18915317</td>\n      <td>2020-09-22</td>\n      <td>18438270306572912089</td>\n      <td>915529005</td>\n      <td>NaN</td>\n      <td>1</td>\n      <td>105</td>\n      <td>0.0</td>\n      <td>0</td>\n    </tr>\n    <tr>\n      <th>18915318</th>\n      <td>18915318</td>\n      <td>2020-09-22</td>\n      <td>18438270306572912089</td>\n      <td>481696002</td>\n      <td>NaN</td>\n      <td>1</td>\n      <td>105</td>\n      <td>0.0</td>\n      <td>1</td>\n    </tr>\n    <tr>\n      <th>18915319</th>\n      <td>18915319</td>\n      <td>2020-09-22</td>\n      <td>18438270306572912089</td>\n      <td>714790020</td>\n      <td>NaN</td>\n      <td>1</td>\n      <td>105</td>\n      <td>0.0</td>\n      <td>0</td>\n    </tr>\n  </tbody>\n</table>\n<p>18915320 rows × 9 columns</p>\n</div>"
     },
     "execution_count": 35,
     "metadata": {},
     "output_type": "execute_result"
    }
   ],
   "source": [
    "data"
   ]
  },
  {
   "cell_type": "code",
   "execution_count": 36,
   "metadata": {
    "collapsed": false,
    "ExecuteTime": {
     "end_time": "2024-01-26T16:51:39.820731200Z",
     "start_time": "2024-01-26T16:51:36.064730100Z"
    }
   },
   "outputs": [],
   "source": [
    "data.drop_duplicates(['customer_id', 'article_id', 'week'], inplace=True)"
   ]
  },
  {
   "cell_type": "markdown",
   "source": [
    "Amount of Long Tail items fed to model"
   ],
   "metadata": {
    "collapsed": false
   }
  },
  {
   "cell_type": "code",
   "execution_count": 37,
   "metadata": {
    "collapsed": false,
    "ExecuteTime": {
     "end_time": "2024-01-26T16:51:39.886230400Z",
     "start_time": "2024-01-26T16:51:39.822232200Z"
    }
   },
   "outputs": [
    {
     "data": {
      "text/plain": "long_tail\n0    0.851548\n1    0.148452\nName: proportion, dtype: float64"
     },
     "execution_count": 37,
     "metadata": {},
     "output_type": "execute_result"
    }
   ],
   "source": [
    "data[\"long_tail\"].value_counts(normalize=True)\n"
   ]
  },
  {
   "cell_type": "markdown",
   "metadata": {
    "ExecuteTime": {
     "end_time": "2024-01-19T19:23:23.813075700Z",
     "start_time": "2024-01-19T19:23:23.731576Z"
    },
    "collapsed": false
   },
   "source": [
    "### Add bestseller information\n"
   ]
  },
  {
   "cell_type": "code",
   "execution_count": 38,
   "metadata": {
    "collapsed": false,
    "ExecuteTime": {
     "end_time": "2024-01-26T16:51:41.206231200Z",
     "start_time": "2024-01-26T16:51:39.884231200Z"
    }
   },
   "outputs": [],
   "source": [
    "data = pd.merge(\n",
    "    data,\n",
    "    bestsellers_previous_weeks[['week', 'article_id', 'bestseller_rank']],\n",
    "    on=['week', 'article_id'],\n",
    "    how='left'\n",
    ")"
   ]
  },
  {
   "cell_type": "code",
   "execution_count": 39,
   "metadata": {
    "collapsed": false,
    "ExecuteTime": {
     "end_time": "2024-01-26T16:51:41.217231200Z",
     "start_time": "2024-01-26T16:51:41.207231500Z"
    }
   },
   "outputs": [
    {
     "data": {
      "text/plain": "     index  week  article_id  bestseller_rank  long_tail\n0        0    96   760084003                1          0\n1        1    97   760084003                4          0\n2        2    96   866731001                2          0\n3        3   100   866731001                3          0\n4        4   105   866731001                5          0\n..     ...   ...         ...              ...        ...\n115    115   105   923758001                4          0\n116    116   105   924243002                2          0\n117    117   105   915529005                9          0\n118    118   105   481696002               11          1\n119    119   105   714790020               12          0\n\n[120 rows x 5 columns]",
      "text/html": "<div>\n<style scoped>\n    .dataframe tbody tr th:only-of-type {\n        vertical-align: middle;\n    }\n\n    .dataframe tbody tr th {\n        vertical-align: top;\n    }\n\n    .dataframe thead th {\n        text-align: right;\n    }\n</style>\n<table border=\"1\" class=\"dataframe\">\n  <thead>\n    <tr style=\"text-align: right;\">\n      <th></th>\n      <th>index</th>\n      <th>week</th>\n      <th>article_id</th>\n      <th>bestseller_rank</th>\n      <th>long_tail</th>\n    </tr>\n  </thead>\n  <tbody>\n    <tr>\n      <th>0</th>\n      <td>0</td>\n      <td>96</td>\n      <td>760084003</td>\n      <td>1</td>\n      <td>0</td>\n    </tr>\n    <tr>\n      <th>1</th>\n      <td>1</td>\n      <td>97</td>\n      <td>760084003</td>\n      <td>4</td>\n      <td>0</td>\n    </tr>\n    <tr>\n      <th>2</th>\n      <td>2</td>\n      <td>96</td>\n      <td>866731001</td>\n      <td>2</td>\n      <td>0</td>\n    </tr>\n    <tr>\n      <th>3</th>\n      <td>3</td>\n      <td>100</td>\n      <td>866731001</td>\n      <td>3</td>\n      <td>0</td>\n    </tr>\n    <tr>\n      <th>4</th>\n      <td>4</td>\n      <td>105</td>\n      <td>866731001</td>\n      <td>5</td>\n      <td>0</td>\n    </tr>\n    <tr>\n      <th>...</th>\n      <td>...</td>\n      <td>...</td>\n      <td>...</td>\n      <td>...</td>\n      <td>...</td>\n    </tr>\n    <tr>\n      <th>115</th>\n      <td>115</td>\n      <td>105</td>\n      <td>923758001</td>\n      <td>4</td>\n      <td>0</td>\n    </tr>\n    <tr>\n      <th>116</th>\n      <td>116</td>\n      <td>105</td>\n      <td>924243002</td>\n      <td>2</td>\n      <td>0</td>\n    </tr>\n    <tr>\n      <th>117</th>\n      <td>117</td>\n      <td>105</td>\n      <td>915529005</td>\n      <td>9</td>\n      <td>0</td>\n    </tr>\n    <tr>\n      <th>118</th>\n      <td>118</td>\n      <td>105</td>\n      <td>481696002</td>\n      <td>11</td>\n      <td>1</td>\n    </tr>\n    <tr>\n      <th>119</th>\n      <td>119</td>\n      <td>105</td>\n      <td>714790020</td>\n      <td>12</td>\n      <td>0</td>\n    </tr>\n  </tbody>\n</table>\n<p>120 rows × 5 columns</p>\n</div>"
     },
     "execution_count": 39,
     "metadata": {},
     "output_type": "execute_result"
    }
   ],
   "source": [
    "bestsellers_previous_weeks"
   ]
  },
  {
   "cell_type": "code",
   "execution_count": 40,
   "metadata": {
    "collapsed": false,
    "ExecuteTime": {
     "end_time": "2024-01-26T16:51:42.253231300Z",
     "start_time": "2024-01-26T16:51:41.214732Z"
    }
   },
   "outputs": [],
   "source": [
    "data = data[data.week != data.week.min()]\n",
    "data.bestseller_rank.fillna(999, inplace=True)"
   ]
  },
  {
   "cell_type": "code",
   "execution_count": 41,
   "metadata": {
    "collapsed": false,
    "ExecuteTime": {
     "end_time": "2024-01-26T16:51:42.269229700Z",
     "start_time": "2024-01-26T16:51:42.256732100Z"
    }
   },
   "outputs": [
    {
     "data": {
      "text/plain": "             index      t_dat           customer_id  article_id     price  \\\n261987      289528 2020-07-22       200292573348128   880777001  0.025407   \n261988      289529 2020-07-22       200292573348128   784332002  0.025407   \n261989      289530 2020-07-22       200292573348128   827968001  0.016932   \n261990      289531 2020-07-22       200292573348128   599580086  0.011847   \n261991      289532 2020-07-22       248294615847351   720504008  0.031458   \n...            ...        ...                   ...         ...       ...   \n18257384  18915315 2020-09-22  18438270306572912089   923758001       NaN   \n18257385  18915316 2020-09-22  18438270306572912089   924243002       NaN   \n18257386  18915317 2020-09-22  18438270306572912089   915529005       NaN   \n18257387  18915318 2020-09-22  18438270306572912089   481696002       NaN   \n18257388  18915319 2020-09-22  18438270306572912089   714790020       NaN   \n\n          sales_channel_id  week  purchased  long_tail  bestseller_rank  \n261987                   2    96        1.0          1            999.0  \n261988                   2    96        1.0          1            999.0  \n261989                   2    96        1.0          0             10.0  \n261990                   2    96        1.0          0            999.0  \n261991                   1    96        1.0          0            999.0  \n...                    ...   ...        ...        ...              ...  \n18257384                 1   105        0.0          0              4.0  \n18257385                 1   105        1.0          0              2.0  \n18257386                 1   105        0.0          0              9.0  \n18257387                 1   105        0.0          1             11.0  \n18257388                 1   105        0.0          0             12.0  \n\n[17995402 rows x 10 columns]",
      "text/html": "<div>\n<style scoped>\n    .dataframe tbody tr th:only-of-type {\n        vertical-align: middle;\n    }\n\n    .dataframe tbody tr th {\n        vertical-align: top;\n    }\n\n    .dataframe thead th {\n        text-align: right;\n    }\n</style>\n<table border=\"1\" class=\"dataframe\">\n  <thead>\n    <tr style=\"text-align: right;\">\n      <th></th>\n      <th>index</th>\n      <th>t_dat</th>\n      <th>customer_id</th>\n      <th>article_id</th>\n      <th>price</th>\n      <th>sales_channel_id</th>\n      <th>week</th>\n      <th>purchased</th>\n      <th>long_tail</th>\n      <th>bestseller_rank</th>\n    </tr>\n  </thead>\n  <tbody>\n    <tr>\n      <th>261987</th>\n      <td>289528</td>\n      <td>2020-07-22</td>\n      <td>200292573348128</td>\n      <td>880777001</td>\n      <td>0.025407</td>\n      <td>2</td>\n      <td>96</td>\n      <td>1.0</td>\n      <td>1</td>\n      <td>999.0</td>\n    </tr>\n    <tr>\n      <th>261988</th>\n      <td>289529</td>\n      <td>2020-07-22</td>\n      <td>200292573348128</td>\n      <td>784332002</td>\n      <td>0.025407</td>\n      <td>2</td>\n      <td>96</td>\n      <td>1.0</td>\n      <td>1</td>\n      <td>999.0</td>\n    </tr>\n    <tr>\n      <th>261989</th>\n      <td>289530</td>\n      <td>2020-07-22</td>\n      <td>200292573348128</td>\n      <td>827968001</td>\n      <td>0.016932</td>\n      <td>2</td>\n      <td>96</td>\n      <td>1.0</td>\n      <td>0</td>\n      <td>10.0</td>\n    </tr>\n    <tr>\n      <th>261990</th>\n      <td>289531</td>\n      <td>2020-07-22</td>\n      <td>200292573348128</td>\n      <td>599580086</td>\n      <td>0.011847</td>\n      <td>2</td>\n      <td>96</td>\n      <td>1.0</td>\n      <td>0</td>\n      <td>999.0</td>\n    </tr>\n    <tr>\n      <th>261991</th>\n      <td>289532</td>\n      <td>2020-07-22</td>\n      <td>248294615847351</td>\n      <td>720504008</td>\n      <td>0.031458</td>\n      <td>1</td>\n      <td>96</td>\n      <td>1.0</td>\n      <td>0</td>\n      <td>999.0</td>\n    </tr>\n    <tr>\n      <th>...</th>\n      <td>...</td>\n      <td>...</td>\n      <td>...</td>\n      <td>...</td>\n      <td>...</td>\n      <td>...</td>\n      <td>...</td>\n      <td>...</td>\n      <td>...</td>\n      <td>...</td>\n    </tr>\n    <tr>\n      <th>18257384</th>\n      <td>18915315</td>\n      <td>2020-09-22</td>\n      <td>18438270306572912089</td>\n      <td>923758001</td>\n      <td>NaN</td>\n      <td>1</td>\n      <td>105</td>\n      <td>0.0</td>\n      <td>0</td>\n      <td>4.0</td>\n    </tr>\n    <tr>\n      <th>18257385</th>\n      <td>18915316</td>\n      <td>2020-09-22</td>\n      <td>18438270306572912089</td>\n      <td>924243002</td>\n      <td>NaN</td>\n      <td>1</td>\n      <td>105</td>\n      <td>1.0</td>\n      <td>0</td>\n      <td>2.0</td>\n    </tr>\n    <tr>\n      <th>18257386</th>\n      <td>18915317</td>\n      <td>2020-09-22</td>\n      <td>18438270306572912089</td>\n      <td>915529005</td>\n      <td>NaN</td>\n      <td>1</td>\n      <td>105</td>\n      <td>0.0</td>\n      <td>0</td>\n      <td>9.0</td>\n    </tr>\n    <tr>\n      <th>18257387</th>\n      <td>18915318</td>\n      <td>2020-09-22</td>\n      <td>18438270306572912089</td>\n      <td>481696002</td>\n      <td>NaN</td>\n      <td>1</td>\n      <td>105</td>\n      <td>0.0</td>\n      <td>1</td>\n      <td>11.0</td>\n    </tr>\n    <tr>\n      <th>18257388</th>\n      <td>18915319</td>\n      <td>2020-09-22</td>\n      <td>18438270306572912089</td>\n      <td>714790020</td>\n      <td>NaN</td>\n      <td>1</td>\n      <td>105</td>\n      <td>0.0</td>\n      <td>0</td>\n      <td>12.0</td>\n    </tr>\n  </tbody>\n</table>\n<p>17995402 rows × 10 columns</p>\n</div>"
     },
     "execution_count": 41,
     "metadata": {},
     "output_type": "execute_result"
    }
   ],
   "source": [
    "data"
   ]
  },
  {
   "cell_type": "code",
   "execution_count": 42,
   "metadata": {
    "collapsed": false,
    "ExecuteTime": {
     "end_time": "2024-01-26T16:51:50.931730800Z",
     "start_time": "2024-01-26T16:51:42.267730900Z"
    }
   },
   "outputs": [],
   "source": [
    "data = pd.merge(data, articles, on='article_id', how='left')\n",
    "data = pd.merge(data, customers, on='customer_id', how='left')"
   ]
  },
  {
   "cell_type": "code",
   "execution_count": 43,
   "metadata": {
    "collapsed": false,
    "ExecuteTime": {
     "end_time": "2024-01-26T16:51:55.272740800Z",
     "start_time": "2024-01-26T16:51:50.935730200Z"
    }
   },
   "outputs": [],
   "source": [
    "data.sort_values(['week', 'customer_id'], inplace=True)\n",
    "data.reset_index(drop=True, inplace=True)"
   ]
  },
  {
   "cell_type": "code",
   "execution_count": 44,
   "metadata": {
    "collapsed": false,
    "ExecuteTime": {
     "end_time": "2024-01-26T16:51:57.911737500Z",
     "start_time": "2024-01-26T16:51:55.274239Z"
    }
   },
   "outputs": [],
   "source": [
    "data = data.merge(articles[[\"article_id\", \"long_tail\"]], on=[\"article_id\"], how=\"left\")"
   ]
  },
  {
   "cell_type": "code",
   "execution_count": 45,
   "metadata": {
    "collapsed": false,
    "ExecuteTime": {
     "end_time": "2024-01-26T16:52:01.493738600Z",
     "start_time": "2024-01-26T16:51:57.913740400Z"
    }
   },
   "outputs": [],
   "source": [
    "train = data[data.week != test_week]\n",
    "test = data[data.week==test_week].drop_duplicates(['customer_id', 'article_id', 'sales_channel_id']).copy()"
   ]
  },
  {
   "cell_type": "code",
   "execution_count": 46,
   "metadata": {
    "collapsed": false,
    "ExecuteTime": {
     "end_time": "2024-01-26T16:52:02.064238Z",
     "start_time": "2024-01-26T16:52:01.494738800Z"
    }
   },
   "outputs": [],
   "source": [
    "train_baskets = train.groupby(['week', 'customer_id'])['article_id'].count().values"
   ]
  },
  {
   "cell_type": "code",
   "execution_count": 47,
   "metadata": {
    "collapsed": false,
    "ExecuteTime": {
     "end_time": "2024-01-26T16:52:02.077236900Z",
     "start_time": "2024-01-26T16:52:02.069781100Z"
    }
   },
   "outputs": [],
   "source": [
    "columns_to_use = ['article_id', 'product_type_no', 'graphical_appearance_no', 'colour_group_code', 'perceived_colour_value_id',\n",
    "'perceived_colour_master_id', 'department_no', 'index_code',\n",
    "'index_group_no', 'section_no', 'garment_group_no', 'FN', 'Active',\n",
    "'club_member_status', 'fashion_news_frequency', 'age', 'postal_code', 'bestseller_rank']"
   ]
  },
  {
   "cell_type": "code",
   "execution_count": 48,
   "metadata": {
    "collapsed": false,
    "ExecuteTime": {
     "end_time": "2024-01-26T16:52:02.327737900Z",
     "start_time": "2024-01-26T16:52:02.076237400Z"
    }
   },
   "outputs": [
    {
     "name": "stdout",
     "output_type": "stream",
     "text": [
      "CPU times: total: 266 ms\n",
      "Wall time: 242 ms\n"
     ]
    }
   ],
   "source": [
    "%%time\n",
    "\n",
    "train_X = train[columns_to_use]\n",
    "train_y = train['purchased']\n",
    "\n",
    "test_X = test[columns_to_use]"
   ]
  },
  {
   "cell_type": "code",
   "execution_count": 49,
   "metadata": {
    "collapsed": false,
    "ExecuteTime": {
     "end_time": "2024-01-26T16:52:02.329238100Z",
     "start_time": "2024-01-26T16:52:02.327238100Z"
    }
   },
   "outputs": [],
   "source": [
    "# Model training"
   ]
  },
  {
   "cell_type": "code",
   "execution_count": 50,
   "metadata": {
    "collapsed": false,
    "ExecuteTime": {
     "end_time": "2024-01-26T16:52:02.675732600Z",
     "start_time": "2024-01-26T16:52:02.330239300Z"
    }
   },
   "outputs": [],
   "source": [
    "from lightgbm.sklearn import LGBMRanker"
   ]
  },
  {
   "cell_type": "code",
   "execution_count": 51,
   "metadata": {
    "collapsed": false,
    "ExecuteTime": {
     "end_time": "2024-01-26T16:52:02.680733300Z",
     "start_time": "2024-01-26T16:52:02.677733Z"
    }
   },
   "outputs": [],
   "source": [
    "ranker = LGBMRanker(\n",
    "    objective=\"lambdarank\",\n",
    "    metric=\"ndcg\",\n",
    "    boosting_type=\"dart\",\n",
    "    n_estimators=1,\n",
    "    importance_type='gain',\n",
    "    verbose=10\n",
    ")"
   ]
  },
  {
   "cell_type": "code",
   "execution_count": 52,
   "metadata": {
    "collapsed": false,
    "ExecuteTime": {
     "end_time": "2024-01-26T16:52:09.989227900Z",
     "start_time": "2024-01-26T16:52:02.681234400Z"
    }
   },
   "outputs": [
    {
     "name": "stdout",
     "output_type": "stream",
     "text": [
      "[LightGBM] [Debug] Dataset::GetMultiBinFromSparseFeatures: sparse rate 0.844942\n",
      "[LightGBM] [Debug] Dataset::GetMultiBinFromAllFeatures: sparse rate 0.152692\n",
      "[LightGBM] [Debug] init for col-wise cost 0.114958 seconds, init for row-wise cost 0.282704 seconds\n",
      "[LightGBM] [Info] Auto-choosing row-wise multi-threading, the overhead of testing was 0.206415 seconds.\n",
      "You can set `force_row_wise=true` to remove the overhead.\n",
      "And if memory is not enough, you can set `force_col_wise=true`.\n",
      "[LightGBM] [Debug] Using Dense Multi-Val Bin\n",
      "[LightGBM] [Info] Total Bins 1147\n",
      "[LightGBM] [Info] Number of data points in the train set: 11384345, number of used features: 18\n",
      "[LightGBM] [Debug] Trained a tree with leaves = 31 and depth = 12\n",
      "CPU times: total: 21.1 s\n",
      "Wall time: 7.3 s\n"
     ]
    }
   ],
   "source": [
    "%%time\n",
    "\n",
    "ranker = ranker.fit(\n",
    "    train_X,\n",
    "    train_y,\n",
    "    group=train_baskets,\n",
    ")"
   ]
  },
  {
   "cell_type": "code",
   "execution_count": 53,
   "metadata": {
    "collapsed": false,
    "ExecuteTime": {
     "end_time": "2024-01-26T16:52:10.039727500Z",
     "start_time": "2024-01-26T16:52:10.002728400Z"
    }
   },
   "outputs": [
    {
     "name": "stdout",
     "output_type": "stream",
     "text": [
      "bestseller_rank 0.9473252584344444\n",
      "article_id 0.025770583334048622\n",
      "colour_group_code 0.016423283840115627\n",
      "section_no 0.006834565371580109\n",
      "garment_group_no 0.002375489259168166\n",
      "department_no 0.0007787629428852392\n",
      "age 0.0001945998959246076\n",
      "product_type_no 0.00013847308552603654\n",
      "postal_code 8.200706696302856e-05\n",
      "club_member_status 7.697676934414913e-05\n",
      "fashion_news_frequency 0.0\n",
      "Active 0.0\n",
      "FN 0.0\n",
      "index_code 0.0\n",
      "perceived_colour_master_id 0.0\n",
      "perceived_colour_value_id 0.0\n",
      "graphical_appearance_no 0.0\n",
      "index_group_no 0.0\n"
     ]
    }
   ],
   "source": [
    "for i in ranker.feature_importances_.argsort()[::-1]:\n",
    "    print(columns_to_use[i], ranker.feature_importances_[i]/ranker.feature_importances_.sum())"
   ]
  },
  {
   "cell_type": "markdown",
   "metadata": {
    "ExecuteTime": {
     "end_time": "2024-01-19T19:23:57.089002Z",
     "start_time": "2024-01-19T19:23:57.075501300Z"
    },
    "collapsed": false
   },
   "source": [
    "# Calculate predictions"
   ]
  },
  {
   "cell_type": "code",
   "execution_count": 54,
   "metadata": {
    "collapsed": false,
    "ExecuteTime": {
     "end_time": "2024-01-26T16:52:18.630729500Z",
     "start_time": "2024-01-26T16:52:10.014727700Z"
    }
   },
   "outputs": [
    {
     "name": "stdout",
     "output_type": "stream",
     "text": [
      "CPU times: total: 0 ns\n",
      "Wall time: 0 ns\n"
     ]
    }
   ],
   "source": [
    "%time\n",
    "\n",
    "test['preds'] = ranker.predict(test_X)\n",
    "\n",
    "c_id2predicted_article_ids = test \\\n",
    "    .sort_values(['customer_id', 'preds'], ascending=False) \\\n",
    "    .groupby('customer_id')['article_id'].apply(list).to_dict()\n",
    "\n",
    "bestsellers_last_week = \\\n",
    "    bestsellers_previous_weeks[bestsellers_previous_weeks.week == bestsellers_previous_weeks.week.max()]['article_id'].tolist()"
   ]
  },
  {
   "cell_type": "markdown",
   "metadata": {
    "ExecuteTime": {
     "start_time": "2024-01-19T19:23:57.090501800Z"
    },
    "collapsed": false
   },
   "source": [
    "# Create submission"
   ]
  },
  {
   "cell_type": "code",
   "execution_count": 55,
   "metadata": {
    "collapsed": false,
    "ExecuteTime": {
     "end_time": "2024-01-26T16:52:20.529229600Z",
     "start_time": "2024-01-26T16:52:18.631731200Z"
    }
   },
   "outputs": [],
   "source": [
    "sub = pd.read_csv(utils.path + \"sample_submission.csv\")"
   ]
  },
  {
   "cell_type": "code",
   "execution_count": 56,
   "metadata": {
    "collapsed": false,
    "ExecuteTime": {
     "end_time": "2024-01-26T16:52:23.455730Z",
     "start_time": "2024-01-26T16:52:20.529729900Z"
    }
   },
   "outputs": [
    {
     "name": "stdout",
     "output_type": "stream",
     "text": [
      "CPU times: total: 2.92 s\n",
      "Wall time: 2.92 s\n"
     ]
    }
   ],
   "source": [
    "%%time\n",
    "preds = []\n",
    "for c_id in utils.customer_hex_id_to_int(sub.customer_id):\n",
    "    pred = c_id2predicted_article_ids.get(c_id, [])\n",
    "    pred = pred + bestsellers_last_week\n",
    "    preds.append(pred[:12])"
   ]
  },
  {
   "cell_type": "code",
   "execution_count": 57,
   "metadata": {
    "collapsed": false,
    "ExecuteTime": {
     "end_time": "2024-01-26T16:52:25.508729800Z",
     "start_time": "2024-01-26T16:52:23.455730Z"
    }
   },
   "outputs": [],
   "source": [
    "preds = [' '.join(['0' + str(p) for p in ps]) for ps in preds]\n",
    "sub.prediction = preds"
   ]
  },
  {
   "cell_type": "code",
   "execution_count": 58,
   "metadata": {
    "collapsed": false,
    "ExecuteTime": {
     "end_time": "2024-01-26T16:52:37.098186Z",
     "start_time": "2024-01-26T16:52:25.510232400Z"
    }
   },
   "outputs": [],
   "source": [
    "sub_name = \"research1_K\" + str(K_items)\n",
    "sub_name += \"_a\" \n",
    "sub_name+= \"_median\" if alpha is None else str(alpha)\n",
    "sub_name += \"_minimal\" if minimal_replacement is True else \"\"\n",
    "sub_name += \"_topDown\" if top_down_replacement is True else \"_bottomUp\"\n",
    "sub_name +=\".csv.gz\"\n",
    "\n",
    "sub.to_csv(f\"{sub_name}\", index=False)"
   ]
  },
  {
   "cell_type": "markdown",
   "metadata": {
    "collapsed": false
   },
   "source": [
    "# Evaluation"
   ]
  },
  {
   "cell_type": "code",
   "execution_count": 59,
   "metadata": {
    "collapsed": false,
    "ExecuteTime": {
     "end_time": "2024-01-26T16:52:39.915688400Z",
     "start_time": "2024-01-26T16:52:37.098687500Z"
    }
   },
   "outputs": [
    {
     "name": "stdout",
     "output_type": "stream",
     "text": [
      "research1_K1_a500_minimal_bottomUp.csv.gz\n"
     ]
    }
   ],
   "source": [
    "from evaluation import eval_sub, diversity\n",
    "from create_validation import create_validation\n",
    "submission = pd.read_csv(sub_name)\n",
    "print(sub_name)"
   ]
  },
  {
   "cell_type": "code",
   "execution_count": 60,
   "metadata": {
    "collapsed": false,
    "ExecuteTime": {
     "end_time": "2024-01-26T16:52:48.426835800Z",
     "start_time": "2024-01-26T16:52:39.914186900Z"
    }
   },
   "outputs": [],
   "source": [
    "create_validation(sub_name)"
   ]
  },
  {
   "cell_type": "markdown",
   "metadata": {
    "collapsed": false
   },
   "source": [
    "### MAP@12 score"
   ]
  },
  {
   "cell_type": "code",
   "execution_count": 61,
   "metadata": {
    "collapsed": false,
    "ExecuteTime": {
     "end_time": "2024-01-26T16:52:56.924835400Z",
     "start_time": "2024-01-26T16:52:48.428335500Z"
    }
   },
   "outputs": [
    {
     "name": "stdout",
     "output_type": "stream",
     "text": [
      "k=1: 0.046641443084854343\n"
     ]
    }
   ],
   "source": [
    "\n",
    "MAP12_score = eval_sub(sub_name, \"map\", k=12)\n",
    "print(f\"k={K_items}: {MAP12_score}\")"
   ]
  },
  {
   "cell_type": "markdown",
   "metadata": {
    "ExecuteTime": {
     "end_time": "2024-01-15T20:58:01.206379300Z",
     "start_time": "2024-01-15T20:57:52.503199200Z"
    },
    "collapsed": false
   },
   "source": [
    "### Recall score"
   ]
  },
  {
   "cell_type": "code",
   "execution_count": 62,
   "metadata": {
    "collapsed": false,
    "ExecuteTime": {
     "end_time": "2024-01-26T16:53:05.228835300Z",
     "start_time": "2024-01-26T16:52:56.922834800Z"
    }
   },
   "outputs": [
    {
     "name": "stdout",
     "output_type": "stream",
     "text": [
      "0.04714762048433096\n",
      "k=1: 0.04714762048433096\n"
     ]
    }
   ],
   "source": [
    "recall_score = eval_sub(sub_name, \"recall\", k=12)\n",
    "print(recall_score)\n",
    "print(f\"k={K_items}: {recall_score}\")"
   ]
  },
  {
   "cell_type": "markdown",
   "metadata": {
    "collapsed": false
   },
   "source": [
    "### Long Tail item rate"
   ]
  },
  {
   "cell_type": "code",
   "execution_count": 63,
   "metadata": {
    "collapsed": false,
    "ExecuteTime": {
     "end_time": "2024-01-26T16:53:11.517834900Z",
     "start_time": "2024-01-26T16:53:05.226836800Z"
    }
   },
   "outputs": [],
   "source": [
    "# flatten the list of lists into a single list\n",
    "flattened_predictions = [int(item) for l in sub.prediction.str.split(\" \") for item in l]\n",
    "flattened_predictions = pd.DataFrame(flattened_predictions, columns=[\"article_id\"])"
   ]
  },
  {
   "cell_type": "code",
   "execution_count": 64,
   "metadata": {
    "collapsed": false,
    "ExecuteTime": {
     "end_time": "2024-01-26T16:53:12.677835400Z",
     "start_time": "2024-01-26T16:53:11.519335100Z"
    }
   },
   "outputs": [],
   "source": [
    "flattened_predictions = flattened_predictions.merge(articles[[\"article_id\", \"long_tail\"]], on=[\"article_id\"], how=\"left\")"
   ]
  },
  {
   "cell_type": "code",
   "execution_count": 65,
   "metadata": {
    "collapsed": false,
    "ExecuteTime": {
     "end_time": "2024-01-26T16:53:12.743835600Z",
     "start_time": "2024-01-26T16:53:12.679335200Z"
    }
   },
   "outputs": [
    {
     "data": {
      "text/plain": "long_tail\n0    0.894843\n1    0.105157\nName: proportion, dtype: float64"
     },
     "execution_count": 65,
     "metadata": {},
     "output_type": "execute_result"
    }
   ],
   "source": [
    "flattened_predictions[\"long_tail\"].value_counts(normalize=True)"
   ]
  },
  {
   "cell_type": "markdown",
   "metadata": {
    "collapsed": false
   },
   "source": [
    "### Diversity"
   ]
  },
  {
   "cell_type": "code",
   "execution_count": 66,
   "metadata": {
    "collapsed": false,
    "ExecuteTime": {
     "end_time": "2024-01-26T16:53:14.199471200Z",
     "start_time": "2024-01-26T16:53:12.739835200Z"
    }
   },
   "outputs": [
    {
     "name": "stdout",
     "output_type": "stream",
     "text": [
      "k=1: 20.38782802014161\n"
     ]
    }
   ],
   "source": [
    "import numpy as np\n",
    "\n",
    "probabilities = sub.value_counts(normalize=True) # probability distribution\n",
    "\n",
    "entropy_value = -np.sum(probabilities * np.log2(probabilities))\n",
    "print(f\"k={K_items}: {entropy_value}\")\n"
   ]
  },
  {
   "cell_type": "markdown",
   "source": [
    "k=3: 20.38782802014161"
   ],
   "metadata": {
    "collapsed": false
   }
  },
  {
   "cell_type": "code",
   "execution_count": 67,
   "metadata": {
    "collapsed": false,
    "ExecuteTime": {
     "end_time": "2024-01-26T16:53:33.917400600Z",
     "start_time": "2024-01-26T16:53:14.195969100Z"
    }
   },
   "outputs": [
    {
     "name": "stdout",
     "output_type": "stream",
     "text": [
      "k=1: 0.31671044601295467\n"
     ]
    }
   ],
   "source": [
    "diversity_score = diversity(sub_name)\n",
    "print(f\"k={K_items}: {diversity_score}\")"
   ]
  }
 ],
 "metadata": {
  "kernelspec": {
   "display_name": "Python 3 (ipykernel)",
   "language": "python",
   "name": "python3"
  },
  "language_info": {
   "codemirror_mode": {
    "name": "ipython",
    "version": 3
   },
   "file_extension": ".py",
   "mimetype": "text/x-python",
   "name": "python",
   "nbconvert_exporter": "python",
   "pygments_lexer": "ipython3",
   "version": "3.11.3"
  }
 },
 "nbformat": 4,
 "nbformat_minor": 4
}
