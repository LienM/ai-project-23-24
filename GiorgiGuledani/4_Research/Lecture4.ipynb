{
 "cells": [
  {
   "cell_type": "markdown",
   "source": [
    "**Student name: Giorgi Guledani**\n",
    "\n",
    "**Student ID: 20193667**\n",
    "\n",
    "# Lecture 4: Research 1: How to address the Long Tail Problem?"
   ],
   "metadata": {
    "collapsed": false
   }
  },
  {
   "cell_type": "code",
   "execution_count": 1,
   "outputs": [],
   "source": [
    "import pandas as pd\n",
    "import utils\n",
    "import seaborn as sns\n",
    "import matplotlib.pyplot as plt\n",
    "from sklearn.mixture import GaussianMixture\n",
    "\n",
    "articles = pd.read_parquet(f'{utils.path}/articles.parquet')\n",
    "customers = pd.read_parquet(f'{utils.path}/customers.parquet')\n",
    "transactions = pd.read_parquet(f'{utils.path}/transactions_train.parquet')"
   ],
   "metadata": {
    "collapsed": false,
    "ExecuteTime": {
     "end_time": "2023-11-08T08:54:35.737534400Z",
     "start_time": "2023-11-08T08:54:33.896223800Z"
    }
   }
  },
  {
   "cell_type": "markdown",
   "source": [
    "# Parameters"
   ],
   "metadata": {
    "collapsed": false
   }
  },
  {
   "cell_type": "code",
   "execution_count": 2,
   "outputs": [],
   "source": [
    "# max items to replace Short Head items with Long Tail items\n",
    "K_items = 10 "
   ],
   "metadata": {
    "collapsed": false,
    "ExecuteTime": {
     "end_time": "2023-11-08T08:54:35.740033400Z",
     "start_time": "2023-11-08T08:54:35.735027100Z"
    }
   }
  },
  {
   "cell_type": "markdown",
   "source": [
    "# Identifying short head and long tail items"
   ],
   "metadata": {
    "collapsed": false
   }
  },
  {
   "cell_type": "code",
   "execution_count": 3,
   "outputs": [
    {
     "name": "stdout",
     "output_type": "stream",
     "text": [
      "Threshold (alpha): 63.0\n"
     ]
    },
    {
     "data": {
      "text/plain": "              t_dat           customer_id  article_id     price  \\\n22279468 2020-02-12   7993556869309464686   351484039  0.022017   \n22307079 2020-02-13  11693170829426928559   351484039  0.022017   \n22326267 2020-02-13  14251597971675452778   351484039  0.022017   \n22333826 2020-02-14  11322089096702754811   351484039  0.022017   \n22333814 2020-02-14  17298776028320583102   351484039  0.019814   \n...             ...                   ...         ...       ...   \n31773893 2020-09-22  13118523669876511337   351484039  0.022017   \n31780827 2020-09-22  15473878317449867690   351484039  0.022017   \n31757413 2020-09-22  16551754216385484410   351484039  0.022017   \n31757898 2020-09-22  17214430568995933187   351484039  0.011000   \n31766926 2020-09-22  17247708601818852435   351484039  0.022017   \n\n          sales_channel_id  week  \n22279468                 2    73  \n22307079                 2    73  \n22326267                 2    73  \n22333826                 2    73  \n22333814                 2    73  \n...                    ...   ...  \n31773893                 2   104  \n31780827                 2   104  \n31757413                 2   104  \n31757898                 1   104  \n31766926                 2   104  \n\n[3832 rows x 6 columns]",
      "text/html": "<div>\n<style scoped>\n    .dataframe tbody tr th:only-of-type {\n        vertical-align: middle;\n    }\n\n    .dataframe tbody tr th {\n        vertical-align: top;\n    }\n\n    .dataframe thead th {\n        text-align: right;\n    }\n</style>\n<table border=\"1\" class=\"dataframe\">\n  <thead>\n    <tr style=\"text-align: right;\">\n      <th></th>\n      <th>t_dat</th>\n      <th>customer_id</th>\n      <th>article_id</th>\n      <th>price</th>\n      <th>sales_channel_id</th>\n      <th>week</th>\n    </tr>\n  </thead>\n  <tbody>\n    <tr>\n      <th>22279468</th>\n      <td>2020-02-12</td>\n      <td>7993556869309464686</td>\n      <td>351484039</td>\n      <td>0.022017</td>\n      <td>2</td>\n      <td>73</td>\n    </tr>\n    <tr>\n      <th>22307079</th>\n      <td>2020-02-13</td>\n      <td>11693170829426928559</td>\n      <td>351484039</td>\n      <td>0.022017</td>\n      <td>2</td>\n      <td>73</td>\n    </tr>\n    <tr>\n      <th>22326267</th>\n      <td>2020-02-13</td>\n      <td>14251597971675452778</td>\n      <td>351484039</td>\n      <td>0.022017</td>\n      <td>2</td>\n      <td>73</td>\n    </tr>\n    <tr>\n      <th>22333826</th>\n      <td>2020-02-14</td>\n      <td>11322089096702754811</td>\n      <td>351484039</td>\n      <td>0.022017</td>\n      <td>2</td>\n      <td>73</td>\n    </tr>\n    <tr>\n      <th>22333814</th>\n      <td>2020-02-14</td>\n      <td>17298776028320583102</td>\n      <td>351484039</td>\n      <td>0.019814</td>\n      <td>2</td>\n      <td>73</td>\n    </tr>\n    <tr>\n      <th>...</th>\n      <td>...</td>\n      <td>...</td>\n      <td>...</td>\n      <td>...</td>\n      <td>...</td>\n      <td>...</td>\n    </tr>\n    <tr>\n      <th>31773893</th>\n      <td>2020-09-22</td>\n      <td>13118523669876511337</td>\n      <td>351484039</td>\n      <td>0.022017</td>\n      <td>2</td>\n      <td>104</td>\n    </tr>\n    <tr>\n      <th>31780827</th>\n      <td>2020-09-22</td>\n      <td>15473878317449867690</td>\n      <td>351484039</td>\n      <td>0.022017</td>\n      <td>2</td>\n      <td>104</td>\n    </tr>\n    <tr>\n      <th>31757413</th>\n      <td>2020-09-22</td>\n      <td>16551754216385484410</td>\n      <td>351484039</td>\n      <td>0.022017</td>\n      <td>2</td>\n      <td>104</td>\n    </tr>\n    <tr>\n      <th>31757898</th>\n      <td>2020-09-22</td>\n      <td>17214430568995933187</td>\n      <td>351484039</td>\n      <td>0.011000</td>\n      <td>1</td>\n      <td>104</td>\n    </tr>\n    <tr>\n      <th>31766926</th>\n      <td>2020-09-22</td>\n      <td>17247708601818852435</td>\n      <td>351484039</td>\n      <td>0.022017</td>\n      <td>2</td>\n      <td>104</td>\n    </tr>\n  </tbody>\n</table>\n<p>3832 rows × 6 columns</p>\n</div>"
     },
     "execution_count": 3,
     "metadata": {},
     "output_type": "execute_result"
    }
   ],
   "source": [
    "\n",
    "# Determine the threshold for the top half\n",
    "transactions_count = transactions.groupby([\"article_id\"])[\"article_id\"].value_counts(dropna=False)\n",
    "if not \"long_tail\" in articles.columns:\n",
    "    articles = articles.merge(transactions.groupby(['article_id'])[\"article_id\"].value_counts(dropna=False), left_on =\"article_id\", how=\"left\", right_index=True)\n",
    "    articles[\"count\"].fillna(0, inplace=True)\n",
    "    articles = articles.rename(columns={\"count\": \"sales_count\"})\n",
    "    threshold = articles[\"sales_count\"].median()\n",
    "    print(f\"Threshold (alpha): {threshold}\")\n",
    "    articles[\"long_tail\"] = (articles[\"sales_count\"] <= threshold).astype(int)\n",
    "transactions[transactions[\"article_id\"] == 351484039]\n"
   ],
   "metadata": {
    "collapsed": false,
    "ExecuteTime": {
     "end_time": "2023-11-08T08:54:37.104528600Z",
     "start_time": "2023-11-08T08:54:35.740533800Z"
    }
   }
  },
  {
   "cell_type": "markdown",
   "source": [
    "According to a paper, setting the threshold in the middle gave the best results, which is why I set it as the median of all counts."
   ],
   "metadata": {
    "collapsed": false
   }
  },
  {
   "cell_type": "code",
   "execution_count": 4,
   "outputs": [
    {
     "data": {
      "text/plain": "long_tail\n1    52921\n0    52621\nName: count, dtype: int64"
     },
     "execution_count": 4,
     "metadata": {},
     "output_type": "execute_result"
    }
   ],
   "source": [
    "articles[\"long_tail\"].value_counts()"
   ],
   "metadata": {
    "collapsed": false,
    "ExecuteTime": {
     "end_time": "2023-11-08T08:54:37.110527700Z",
     "start_time": "2023-11-08T08:54:37.104027700Z"
    }
   }
  },
  {
   "cell_type": "markdown",
   "source": [
    "Items below the threshold get classified as long tail:"
   ],
   "metadata": {
    "collapsed": false
   }
  },
  {
   "cell_type": "code",
   "execution_count": 5,
   "outputs": [
    {
     "data": {
      "text/plain": "        article_id  sales_count\n0        706016001      50287.0\n1        706016002      35043.0\n2        372860001      31718.0\n3        610776002      30199.0\n4        759871002      26329.0\n...            ...          ...\n105537   926010001          0.0\n105538   896195002          0.0\n105539   917203001          0.0\n105540   917203003          0.0\n105541   959461001          0.0\n\n[105542 rows x 2 columns]",
      "text/html": "<div>\n<style scoped>\n    .dataframe tbody tr th:only-of-type {\n        vertical-align: middle;\n    }\n\n    .dataframe tbody tr th {\n        vertical-align: top;\n    }\n\n    .dataframe thead th {\n        text-align: right;\n    }\n</style>\n<table border=\"1\" class=\"dataframe\">\n  <thead>\n    <tr style=\"text-align: right;\">\n      <th></th>\n      <th>article_id</th>\n      <th>sales_count</th>\n    </tr>\n  </thead>\n  <tbody>\n    <tr>\n      <th>0</th>\n      <td>706016001</td>\n      <td>50287.0</td>\n    </tr>\n    <tr>\n      <th>1</th>\n      <td>706016002</td>\n      <td>35043.0</td>\n    </tr>\n    <tr>\n      <th>2</th>\n      <td>372860001</td>\n      <td>31718.0</td>\n    </tr>\n    <tr>\n      <th>3</th>\n      <td>610776002</td>\n      <td>30199.0</td>\n    </tr>\n    <tr>\n      <th>4</th>\n      <td>759871002</td>\n      <td>26329.0</td>\n    </tr>\n    <tr>\n      <th>...</th>\n      <td>...</td>\n      <td>...</td>\n    </tr>\n    <tr>\n      <th>105537</th>\n      <td>926010001</td>\n      <td>0.0</td>\n    </tr>\n    <tr>\n      <th>105538</th>\n      <td>896195002</td>\n      <td>0.0</td>\n    </tr>\n    <tr>\n      <th>105539</th>\n      <td>917203001</td>\n      <td>0.0</td>\n    </tr>\n    <tr>\n      <th>105540</th>\n      <td>917203003</td>\n      <td>0.0</td>\n    </tr>\n    <tr>\n      <th>105541</th>\n      <td>959461001</td>\n      <td>0.0</td>\n    </tr>\n  </tbody>\n</table>\n<p>105542 rows × 2 columns</p>\n</div>"
     },
     "execution_count": 5,
     "metadata": {},
     "output_type": "execute_result"
    }
   ],
   "source": [
    "sorted_articles = articles[[\"article_id\", \"sales_count\"]].sort_values(by=\"sales_count\", ascending=False)\n",
    "\n",
    "sorted_articles.reset_index(drop=True, inplace=True)\n",
    "sorted_articles"
   ],
   "metadata": {
    "collapsed": false,
    "ExecuteTime": {
     "end_time": "2023-11-08T08:54:37.126528400Z",
     "start_time": "2023-11-08T08:54:37.110026700Z"
    }
   }
  },
  {
   "cell_type": "code",
   "execution_count": 6,
   "outputs": [
    {
     "data": {
      "text/plain": "<Figure size 640x480 with 1 Axes>",
      "image/png": "[encoded data removed]"
     },
     "metadata": {},
     "output_type": "display_data"
    },
    {
     "data": {
      "text/plain": "        article_id  sales_count\n0        706016001      50287.0\n1        706016002      35043.0\n2        372860001      31718.0\n3        610776002      30199.0\n4        759871002      26329.0\n...            ...          ...\n105537   926010001          0.0\n105538   896195002          0.0\n105539   917203001          0.0\n105540   917203003          0.0\n105541   959461001          0.0\n\n[105542 rows x 2 columns]",
      "text/html": "<div>\n<style scoped>\n    .dataframe tbody tr th:only-of-type {\n        vertical-align: middle;\n    }\n\n    .dataframe tbody tr th {\n        vertical-align: top;\n    }\n\n    .dataframe thead th {\n        text-align: right;\n    }\n</style>\n<table border=\"1\" class=\"dataframe\">\n  <thead>\n    <tr style=\"text-align: right;\">\n      <th></th>\n      <th>article_id</th>\n      <th>sales_count</th>\n    </tr>\n  </thead>\n  <tbody>\n    <tr>\n      <th>0</th>\n      <td>706016001</td>\n      <td>50287.0</td>\n    </tr>\n    <tr>\n      <th>1</th>\n      <td>706016002</td>\n      <td>35043.0</td>\n    </tr>\n    <tr>\n      <th>2</th>\n      <td>372860001</td>\n      <td>31718.0</td>\n    </tr>\n    <tr>\n      <th>3</th>\n      <td>610776002</td>\n      <td>30199.0</td>\n    </tr>\n    <tr>\n      <th>4</th>\n      <td>759871002</td>\n      <td>26329.0</td>\n    </tr>\n    <tr>\n      <th>...</th>\n      <td>...</td>\n      <td>...</td>\n    </tr>\n    <tr>\n      <th>105537</th>\n      <td>926010001</td>\n      <td>0.0</td>\n    </tr>\n    <tr>\n      <th>105538</th>\n      <td>896195002</td>\n      <td>0.0</td>\n    </tr>\n    <tr>\n      <th>105539</th>\n      <td>917203001</td>\n      <td>0.0</td>\n    </tr>\n    <tr>\n      <th>105540</th>\n      <td>917203003</td>\n      <td>0.0</td>\n    </tr>\n    <tr>\n      <th>105541</th>\n      <td>959461001</td>\n      <td>0.0</td>\n    </tr>\n  </tbody>\n</table>\n<p>105542 rows × 2 columns</p>\n</div>"
     },
     "execution_count": 6,
     "metadata": {},
     "output_type": "execute_result"
    }
   ],
   "source": [
    "sns.scatterplot(y=sorted_articles[\"sales_count\"], x=sorted_articles.index)\n",
    "# plt.gca().invert_xaxis()  # To reverse the x-axis\n",
    "\n",
    "plt.xlabel(\"Popularity rank\")\n",
    "plt.ylabel(\"Sales\")\n",
    "plt.show()\n",
    "\n",
    "plt.show()\n",
    "sorted_articles"
   ],
   "metadata": {
    "collapsed": false,
    "ExecuteTime": {
     "end_time": "2023-11-08T08:54:37.476529700Z",
     "start_time": "2023-11-08T08:54:37.126028500Z"
    }
   }
  },
  {
   "cell_type": "markdown",
   "source": [
    "The scatterplot shows us that there's a select few in the short head part, while a huge amount is in the long tail part."
   ],
   "metadata": {
    "collapsed": false
   }
  },
  {
   "cell_type": "markdown",
   "source": [
    "# Radek's preprocessing"
   ],
   "metadata": {
    "collapsed": false
   }
  },
  {
   "cell_type": "markdown",
   "source": [
    "In this section, I will be swapping Short Head candidates with Long Tail ones "
   ],
   "metadata": {
    "collapsed": false
   }
  },
  {
   "cell_type": "code",
   "execution_count": 7,
   "outputs": [],
   "source": [
    "test_week = transactions.week.max() + 1\n",
    "transactions = transactions[transactions.week > transactions.week.max() - 10]"
   ],
   "metadata": {
    "collapsed": false,
    "ExecuteTime": {
     "end_time": "2023-11-08T08:54:37.735028100Z",
     "start_time": "2023-11-08T08:54:37.476529700Z"
    }
   }
  },
  {
   "cell_type": "markdown",
   "source": [
    "## Generating candidates"
   ],
   "metadata": {
    "collapsed": false
   }
  },
  {
   "cell_type": "markdown",
   "source": [
    "### Last purchase candidates"
   ],
   "metadata": {
    "collapsed": false
   }
  },
  {
   "cell_type": "code",
   "execution_count": 8,
   "outputs": [
    {
     "name": "stdout",
     "output_type": "stream",
     "text": [
      "CPU times: total: 10.7 s\n",
      "Wall time: 10.8 s\n"
     ]
    }
   ],
   "source": [
    "%%time\n",
    "\n",
    "c2weeks = transactions.groupby('customer_id')['week'].unique()"
   ],
   "metadata": {
    "collapsed": false,
    "ExecuteTime": {
     "end_time": "2023-11-08T08:54:48.537027100Z",
     "start_time": "2023-11-08T08:54:37.723527800Z"
    }
   }
  },
  {
   "cell_type": "code",
   "execution_count": 9,
   "outputs": [
    {
     "data": {
      "text/plain": "            min        max\nweek                      \n95   2020-07-15 2020-07-21\n96   2020-07-22 2020-07-28\n97   2020-07-29 2020-08-04\n98   2020-08-05 2020-08-11\n99   2020-08-12 2020-08-18\n100  2020-08-19 2020-08-25\n101  2020-08-26 2020-09-01\n102  2020-09-02 2020-09-08\n103  2020-09-09 2020-09-15\n104  2020-09-16 2020-09-22",
      "text/html": "<div>\n<style scoped>\n    .dataframe tbody tr th:only-of-type {\n        vertical-align: middle;\n    }\n\n    .dataframe tbody tr th {\n        vertical-align: top;\n    }\n\n    .dataframe thead th {\n        text-align: right;\n    }\n</style>\n<table border=\"1\" class=\"dataframe\">\n  <thead>\n    <tr style=\"text-align: right;\">\n      <th></th>\n      <th>min</th>\n      <th>max</th>\n    </tr>\n    <tr>\n      <th>week</th>\n      <th></th>\n      <th></th>\n    </tr>\n  </thead>\n  <tbody>\n    <tr>\n      <th>95</th>\n      <td>2020-07-15</td>\n      <td>2020-07-21</td>\n    </tr>\n    <tr>\n      <th>96</th>\n      <td>2020-07-22</td>\n      <td>2020-07-28</td>\n    </tr>\n    <tr>\n      <th>97</th>\n      <td>2020-07-29</td>\n      <td>2020-08-04</td>\n    </tr>\n    <tr>\n      <th>98</th>\n      <td>2020-08-05</td>\n      <td>2020-08-11</td>\n    </tr>\n    <tr>\n      <th>99</th>\n      <td>2020-08-12</td>\n      <td>2020-08-18</td>\n    </tr>\n    <tr>\n      <th>100</th>\n      <td>2020-08-19</td>\n      <td>2020-08-25</td>\n    </tr>\n    <tr>\n      <th>101</th>\n      <td>2020-08-26</td>\n      <td>2020-09-01</td>\n    </tr>\n    <tr>\n      <th>102</th>\n      <td>2020-09-02</td>\n      <td>2020-09-08</td>\n    </tr>\n    <tr>\n      <th>103</th>\n      <td>2020-09-09</td>\n      <td>2020-09-15</td>\n    </tr>\n    <tr>\n      <th>104</th>\n      <td>2020-09-16</td>\n      <td>2020-09-22</td>\n    </tr>\n  </tbody>\n</table>\n</div>"
     },
     "execution_count": 9,
     "metadata": {},
     "output_type": "execute_result"
    }
   ],
   "source": [
    "transactions.groupby('week')['t_dat'].agg(['min', 'max'])\n"
   ],
   "metadata": {
    "collapsed": false,
    "ExecuteTime": {
     "end_time": "2023-11-08T08:54:48.618529400Z",
     "start_time": "2023-11-08T08:54:48.536526900Z"
    }
   }
  },
  {
   "cell_type": "code",
   "execution_count": 10,
   "outputs": [
    {
     "data": {
      "text/plain": "customer_id\n28847241659200          [95, 96, 101, 102]\n41318098387474                        [98]\n116809474287335                 [101, 103]\n200292573348128          [95, 96, 99, 102]\n248294615847351                       [96]\n                               ...        \n18446624797007271432                  [95]\n18446630855572834764                 [103]\n18446662237889060501                 [100]\n18446705133201055310                 [102]\n18446737527580148316                 [104]\nName: week, Length: 437365, dtype: object"
     },
     "execution_count": 10,
     "metadata": {},
     "output_type": "execute_result"
    }
   ],
   "source": [
    "c2weeks"
   ],
   "metadata": {
    "collapsed": false,
    "ExecuteTime": {
     "end_time": "2023-11-08T08:54:48.619529400Z",
     "start_time": "2023-11-08T08:54:48.585528700Z"
    }
   }
  },
  {
   "cell_type": "code",
   "execution_count": 11,
   "outputs": [
    {
     "name": "stdout",
     "output_type": "stream",
     "text": [
      "CPU times: total: 375 ms\n",
      "Wall time: 376 ms\n"
     ]
    }
   ],
   "source": [
    "%%time\n",
    "\n",
    "c2weeks2shifted_weeks = {}\n",
    "\n",
    "for c_id, weeks in c2weeks.items():\n",
    "    c2weeks2shifted_weeks[c_id] = {}\n",
    "    for i in range(weeks.shape[0]-1):\n",
    "        c2weeks2shifted_weeks[c_id][weeks[i]] = weeks[i+1]\n",
    "    c2weeks2shifted_weeks[c_id][weeks[-1]] = test_week"
   ],
   "metadata": {
    "collapsed": false,
    "ExecuteTime": {
     "end_time": "2023-11-08T08:54:48.973526800Z",
     "start_time": "2023-11-08T08:54:48.591028700Z"
    }
   }
  },
  {
   "cell_type": "code",
   "execution_count": 12,
   "outputs": [
    {
     "data": {
      "text/plain": "{95: 96, 96: 101, 101: 102, 102: 105}"
     },
     "execution_count": 12,
     "metadata": {},
     "output_type": "execute_result"
    }
   ],
   "source": [
    "c2weeks2shifted_weeks[28847241659200]"
   ],
   "metadata": {
    "collapsed": false,
    "ExecuteTime": {
     "end_time": "2023-11-08T08:54:48.979028300Z",
     "start_time": "2023-11-08T08:54:48.974527400Z"
    }
   }
  },
  {
   "cell_type": "code",
   "execution_count": 13,
   "outputs": [],
   "source": [
    "candidates_last_purchase = transactions.copy()\n"
   ],
   "metadata": {
    "collapsed": false,
    "ExecuteTime": {
     "end_time": "2023-11-08T08:54:48.992028Z",
     "start_time": "2023-11-08T08:54:48.978029Z"
    }
   }
  },
  {
   "cell_type": "code",
   "execution_count": 14,
   "outputs": [
    {
     "name": "stdout",
     "output_type": "stream",
     "text": [
      "CPU times: total: 13.2 s\n",
      "Wall time: 13.2 s\n"
     ]
    }
   ],
   "source": [
    "%%time\n",
    "\n",
    "weeks = []\n",
    "for i, (c_id, week) in enumerate(zip(transactions['customer_id'], transactions['week'])):\n",
    "    weeks.append(c2weeks2shifted_weeks[c_id][week])\n",
    "    \n",
    "candidates_last_purchase.week=weeks"
   ],
   "metadata": {
    "collapsed": false,
    "ExecuteTime": {
     "end_time": "2023-11-08T08:55:02.232527400Z",
     "start_time": "2023-11-08T08:54:48.993027400Z"
    }
   }
  },
  {
   "cell_type": "code",
   "execution_count": 15,
   "outputs": [
    {
     "data": {
      "text/plain": "              t_dat      customer_id  article_id     price  sales_channel_id  \\\n29030503 2020-07-15  272412481300040   778064028  0.008458                 1   \n29030504 2020-07-15  272412481300040   816592008  0.016932                 1   \n29030505 2020-07-15  272412481300040   621381021  0.033881                 1   \n29030506 2020-07-15  272412481300040   817477003  0.025407                 1   \n29030507 2020-07-15  272412481300040   899088002  0.025407                 1   \n29319533 2020-07-22  272412481300040   885077001  0.008458                 1   \n29410772 2020-07-24  272412481300040   850176003  0.029034                 2   \n29410773 2020-07-24  272412481300040   875803001  0.064559                 2   \n29410774 2020-07-24  272412481300040   892970003  0.020966                 2   \n29410775 2020-07-24  272412481300040   854619003  0.020966                 2   \n29531614 2020-07-27  272412481300040   900398001  0.030492                 2   \n29531615 2020-07-27  272412481300040   834179002  0.025407                 2   \n29531616 2020-07-27  272412481300040   875803001  0.067780                 2   \n31495014 2020-09-14  272412481300040   923460002  0.039932                 2   \n31495015 2020-09-14  272412481300040   922381001  0.039932                 2   \n31495016 2020-09-14  272412481300040   921906005  0.031949                 2   \n\n          week  \n29030503    96  \n29030504    96  \n29030505    96  \n29030506    96  \n29030507    96  \n29319533   103  \n29410772   103  \n29410773   103  \n29410774   103  \n29410775   103  \n29531614   103  \n29531615   103  \n29531616   103  \n31495014   105  \n31495015   105  \n31495016   105  ",
      "text/html": "<div>\n<style scoped>\n    .dataframe tbody tr th:only-of-type {\n        vertical-align: middle;\n    }\n\n    .dataframe tbody tr th {\n        vertical-align: top;\n    }\n\n    .dataframe thead th {\n        text-align: right;\n    }\n</style>\n<table border=\"1\" class=\"dataframe\">\n  <thead>\n    <tr style=\"text-align: right;\">\n      <th></th>\n      <th>t_dat</th>\n      <th>customer_id</th>\n      <th>article_id</th>\n      <th>price</th>\n      <th>sales_channel_id</th>\n      <th>week</th>\n    </tr>\n  </thead>\n  <tbody>\n    <tr>\n      <th>29030503</th>\n      <td>2020-07-15</td>\n      <td>272412481300040</td>\n      <td>778064028</td>\n      <td>0.008458</td>\n      <td>1</td>\n      <td>96</td>\n    </tr>\n    <tr>\n      <th>29030504</th>\n      <td>2020-07-15</td>\n      <td>272412481300040</td>\n      <td>816592008</td>\n      <td>0.016932</td>\n      <td>1</td>\n      <td>96</td>\n    </tr>\n    <tr>\n      <th>29030505</th>\n      <td>2020-07-15</td>\n      <td>272412481300040</td>\n      <td>621381021</td>\n      <td>0.033881</td>\n      <td>1</td>\n      <td>96</td>\n    </tr>\n    <tr>\n      <th>29030506</th>\n      <td>2020-07-15</td>\n      <td>272412481300040</td>\n      <td>817477003</td>\n      <td>0.025407</td>\n      <td>1</td>\n      <td>96</td>\n    </tr>\n    <tr>\n      <th>29030507</th>\n      <td>2020-07-15</td>\n      <td>272412481300040</td>\n      <td>899088002</td>\n      <td>0.025407</td>\n      <td>1</td>\n      <td>96</td>\n    </tr>\n    <tr>\n      <th>29319533</th>\n      <td>2020-07-22</td>\n      <td>272412481300040</td>\n      <td>885077001</td>\n      <td>0.008458</td>\n      <td>1</td>\n      <td>103</td>\n    </tr>\n    <tr>\n      <th>29410772</th>\n      <td>2020-07-24</td>\n      <td>272412481300040</td>\n      <td>850176003</td>\n      <td>0.029034</td>\n      <td>2</td>\n      <td>103</td>\n    </tr>\n    <tr>\n      <th>29410773</th>\n      <td>2020-07-24</td>\n      <td>272412481300040</td>\n      <td>875803001</td>\n      <td>0.064559</td>\n      <td>2</td>\n      <td>103</td>\n    </tr>\n    <tr>\n      <th>29410774</th>\n      <td>2020-07-24</td>\n      <td>272412481300040</td>\n      <td>892970003</td>\n      <td>0.020966</td>\n      <td>2</td>\n      <td>103</td>\n    </tr>\n    <tr>\n      <th>29410775</th>\n      <td>2020-07-24</td>\n      <td>272412481300040</td>\n      <td>854619003</td>\n      <td>0.020966</td>\n      <td>2</td>\n      <td>103</td>\n    </tr>\n    <tr>\n      <th>29531614</th>\n      <td>2020-07-27</td>\n      <td>272412481300040</td>\n      <td>900398001</td>\n      <td>0.030492</td>\n      <td>2</td>\n      <td>103</td>\n    </tr>\n    <tr>\n      <th>29531615</th>\n      <td>2020-07-27</td>\n      <td>272412481300040</td>\n      <td>834179002</td>\n      <td>0.025407</td>\n      <td>2</td>\n      <td>103</td>\n    </tr>\n    <tr>\n      <th>29531616</th>\n      <td>2020-07-27</td>\n      <td>272412481300040</td>\n      <td>875803001</td>\n      <td>0.067780</td>\n      <td>2</td>\n      <td>103</td>\n    </tr>\n    <tr>\n      <th>31495014</th>\n      <td>2020-09-14</td>\n      <td>272412481300040</td>\n      <td>923460002</td>\n      <td>0.039932</td>\n      <td>2</td>\n      <td>105</td>\n    </tr>\n    <tr>\n      <th>31495015</th>\n      <td>2020-09-14</td>\n      <td>272412481300040</td>\n      <td>922381001</td>\n      <td>0.039932</td>\n      <td>2</td>\n      <td>105</td>\n    </tr>\n    <tr>\n      <th>31495016</th>\n      <td>2020-09-14</td>\n      <td>272412481300040</td>\n      <td>921906005</td>\n      <td>0.031949</td>\n      <td>2</td>\n      <td>105</td>\n    </tr>\n  </tbody>\n</table>\n</div>"
     },
     "execution_count": 15,
     "metadata": {},
     "output_type": "execute_result"
    }
   ],
   "source": [
    "candidates_last_purchase[candidates_last_purchase['customer_id']==272412481300040]"
   ],
   "metadata": {
    "collapsed": false,
    "ExecuteTime": {
     "end_time": "2023-11-08T08:55:02.304027700Z",
     "start_time": "2023-11-08T08:55:02.231526700Z"
    }
   }
  },
  {
   "cell_type": "code",
   "execution_count": 16,
   "outputs": [
    {
     "data": {
      "text/plain": "              t_dat      customer_id  article_id     price  sales_channel_id  \\\n29030503 2020-07-15  272412481300040   778064028  0.008458                 1   \n29030504 2020-07-15  272412481300040   816592008  0.016932                 1   \n29030505 2020-07-15  272412481300040   621381021  0.033881                 1   \n29030506 2020-07-15  272412481300040   817477003  0.025407                 1   \n29030507 2020-07-15  272412481300040   899088002  0.025407                 1   \n29319533 2020-07-22  272412481300040   885077001  0.008458                 1   \n29410772 2020-07-24  272412481300040   850176003  0.029034                 2   \n29410773 2020-07-24  272412481300040   875803001  0.064559                 2   \n29410774 2020-07-24  272412481300040   892970003  0.020966                 2   \n29410775 2020-07-24  272412481300040   854619003  0.020966                 2   \n29531614 2020-07-27  272412481300040   900398001  0.030492                 2   \n29531615 2020-07-27  272412481300040   834179002  0.025407                 2   \n29531616 2020-07-27  272412481300040   875803001  0.067780                 2   \n31495014 2020-09-14  272412481300040   923460002  0.039932                 2   \n31495015 2020-09-14  272412481300040   922381001  0.039932                 2   \n31495016 2020-09-14  272412481300040   921906005  0.031949                 2   \n\n          week  \n29030503    95  \n29030504    95  \n29030505    95  \n29030506    95  \n29030507    95  \n29319533    96  \n29410772    96  \n29410773    96  \n29410774    96  \n29410775    96  \n29531614    96  \n29531615    96  \n29531616    96  \n31495014   103  \n31495015   103  \n31495016   103  ",
      "text/html": "<div>\n<style scoped>\n    .dataframe tbody tr th:only-of-type {\n        vertical-align: middle;\n    }\n\n    .dataframe tbody tr th {\n        vertical-align: top;\n    }\n\n    .dataframe thead th {\n        text-align: right;\n    }\n</style>\n<table border=\"1\" class=\"dataframe\">\n  <thead>\n    <tr style=\"text-align: right;\">\n      <th></th>\n      <th>t_dat</th>\n      <th>customer_id</th>\n      <th>article_id</th>\n      <th>price</th>\n      <th>sales_channel_id</th>\n      <th>week</th>\n    </tr>\n  </thead>\n  <tbody>\n    <tr>\n      <th>29030503</th>\n      <td>2020-07-15</td>\n      <td>272412481300040</td>\n      <td>778064028</td>\n      <td>0.008458</td>\n      <td>1</td>\n      <td>95</td>\n    </tr>\n    <tr>\n      <th>29030504</th>\n      <td>2020-07-15</td>\n      <td>272412481300040</td>\n      <td>816592008</td>\n      <td>0.016932</td>\n      <td>1</td>\n      <td>95</td>\n    </tr>\n    <tr>\n      <th>29030505</th>\n      <td>2020-07-15</td>\n      <td>272412481300040</td>\n      <td>621381021</td>\n      <td>0.033881</td>\n      <td>1</td>\n      <td>95</td>\n    </tr>\n    <tr>\n      <th>29030506</th>\n      <td>2020-07-15</td>\n      <td>272412481300040</td>\n      <td>817477003</td>\n      <td>0.025407</td>\n      <td>1</td>\n      <td>95</td>\n    </tr>\n    <tr>\n      <th>29030507</th>\n      <td>2020-07-15</td>\n      <td>272412481300040</td>\n      <td>899088002</td>\n      <td>0.025407</td>\n      <td>1</td>\n      <td>95</td>\n    </tr>\n    <tr>\n      <th>29319533</th>\n      <td>2020-07-22</td>\n      <td>272412481300040</td>\n      <td>885077001</td>\n      <td>0.008458</td>\n      <td>1</td>\n      <td>96</td>\n    </tr>\n    <tr>\n      <th>29410772</th>\n      <td>2020-07-24</td>\n      <td>272412481300040</td>\n      <td>850176003</td>\n      <td>0.029034</td>\n      <td>2</td>\n      <td>96</td>\n    </tr>\n    <tr>\n      <th>29410773</th>\n      <td>2020-07-24</td>\n      <td>272412481300040</td>\n      <td>875803001</td>\n      <td>0.064559</td>\n      <td>2</td>\n      <td>96</td>\n    </tr>\n    <tr>\n      <th>29410774</th>\n      <td>2020-07-24</td>\n      <td>272412481300040</td>\n      <td>892970003</td>\n      <td>0.020966</td>\n      <td>2</td>\n      <td>96</td>\n    </tr>\n    <tr>\n      <th>29410775</th>\n      <td>2020-07-24</td>\n      <td>272412481300040</td>\n      <td>854619003</td>\n      <td>0.020966</td>\n      <td>2</td>\n      <td>96</td>\n    </tr>\n    <tr>\n      <th>29531614</th>\n      <td>2020-07-27</td>\n      <td>272412481300040</td>\n      <td>900398001</td>\n      <td>0.030492</td>\n      <td>2</td>\n      <td>96</td>\n    </tr>\n    <tr>\n      <th>29531615</th>\n      <td>2020-07-27</td>\n      <td>272412481300040</td>\n      <td>834179002</td>\n      <td>0.025407</td>\n      <td>2</td>\n      <td>96</td>\n    </tr>\n    <tr>\n      <th>29531616</th>\n      <td>2020-07-27</td>\n      <td>272412481300040</td>\n      <td>875803001</td>\n      <td>0.067780</td>\n      <td>2</td>\n      <td>96</td>\n    </tr>\n    <tr>\n      <th>31495014</th>\n      <td>2020-09-14</td>\n      <td>272412481300040</td>\n      <td>923460002</td>\n      <td>0.039932</td>\n      <td>2</td>\n      <td>103</td>\n    </tr>\n    <tr>\n      <th>31495015</th>\n      <td>2020-09-14</td>\n      <td>272412481300040</td>\n      <td>922381001</td>\n      <td>0.039932</td>\n      <td>2</td>\n      <td>103</td>\n    </tr>\n    <tr>\n      <th>31495016</th>\n      <td>2020-09-14</td>\n      <td>272412481300040</td>\n      <td>921906005</td>\n      <td>0.031949</td>\n      <td>2</td>\n      <td>103</td>\n    </tr>\n  </tbody>\n</table>\n</div>"
     },
     "execution_count": 16,
     "metadata": {},
     "output_type": "execute_result"
    }
   ],
   "source": [
    "transactions[transactions['customer_id']==272412481300040]"
   ],
   "metadata": {
    "collapsed": false,
    "ExecuteTime": {
     "end_time": "2023-11-08T08:55:02.305527300Z",
     "start_time": "2023-11-08T08:55:02.266527800Z"
    }
   }
  },
  {
   "cell_type": "markdown",
   "source": [
    "### Bestsellers candidates"
   ],
   "metadata": {
    "collapsed": false
   }
  },
  {
   "cell_type": "markdown",
   "source": [],
   "metadata": {
    "collapsed": false
   }
  },
  {
   "cell_type": "code",
   "execution_count": 17,
   "outputs": [],
   "source": [
    "mean_price = transactions \\\n",
    ".groupby(['week', 'article_id'])['price'].mean()"
   ],
   "metadata": {
    "collapsed": false,
    "ExecuteTime": {
     "end_time": "2023-11-08T08:55:02.494026800Z",
     "start_time": "2023-11-08T08:55:02.277527800Z"
    }
   }
  },
  {
   "cell_type": "code",
   "execution_count": 18,
   "outputs": [
    {
     "data": {
      "text/plain": "week  article_id\n95    108775015     0.004729\n      108775044     0.008458\n      110065001     0.006085\n      110065002     0.006085\n      111565001     0.004288\n                      ...   \n104   952267001     0.013732\n      952938001     0.048651\n      953450001     0.016932\n      953763001     0.021885\n      956217002     0.059068\nName: price, Length: 196880, dtype: float32"
     },
     "execution_count": 18,
     "metadata": {},
     "output_type": "execute_result"
    }
   ],
   "source": [
    "mean_price"
   ],
   "metadata": {
    "collapsed": false,
    "ExecuteTime": {
     "end_time": "2023-11-08T08:55:02.494528100Z",
     "start_time": "2023-11-08T08:55:02.482028200Z"
    }
   }
  },
  {
   "cell_type": "code",
   "execution_count": 19,
   "outputs": [],
   "source": [
    "sales = transactions \\\n",
    "    .groupby('week')['article_id'].value_counts() \\\n",
    "    .groupby('week').rank(method='dense', ascending=False) \\\n",
    "    .groupby('week').head(12).rename('bestseller_rank').astype('int8')"
   ],
   "metadata": {
    "collapsed": false,
    "ExecuteTime": {
     "end_time": "2023-11-08T08:55:02.713027900Z",
     "start_time": "2023-11-08T08:55:02.488527700Z"
    }
   }
  },
  {
   "cell_type": "code",
   "execution_count": 20,
   "outputs": [
    {
     "data": {
      "text/plain": "week  article_id\n95    760084003      1\n      866731001      2\n      600886001      3\n      706016001      4\n      372860002      5\n                    ..\n104   915529003      8\n      915529005      9\n      448509014     10\n      762846027     11\n      714790020     12\nName: bestseller_rank, Length: 120, dtype: int8"
     },
     "execution_count": 20,
     "metadata": {},
     "output_type": "execute_result"
    }
   ],
   "source": [
    "sales"
   ],
   "metadata": {
    "collapsed": false,
    "ExecuteTime": {
     "end_time": "2023-11-08T08:55:02.718527400Z",
     "start_time": "2023-11-08T08:55:02.713528300Z"
    }
   }
  },
  {
   "cell_type": "code",
   "execution_count": 21,
   "outputs": [],
   "source": [
    "sales_frame = sales.to_frame().reset_index() # DataFrame is easier to use than Series (from Radek), so I'll use this from now on"
   ],
   "metadata": {
    "collapsed": false,
    "ExecuteTime": {
     "end_time": "2023-11-08T08:55:02.726028Z",
     "start_time": "2023-11-08T08:55:02.717528700Z"
    }
   }
  },
  {
   "cell_type": "markdown",
   "source": [
    "### Diversity before"
   ],
   "metadata": {
    "collapsed": false
   }
  },
  {
   "cell_type": "markdown",
   "source": [
    "I'll measure diversity using Jaccard index"
   ],
   "metadata": {
    "collapsed": false
   }
  },
  {
   "cell_type": "code",
   "execution_count": 22,
   "outputs": [
    {
     "name": "stdout",
     "output_type": "stream",
     "text": [
      "95, 96: 0.736842105263158\n",
      "96, 97: 0.8571428571428572\n",
      "97, 98: 1.0\n",
      "98, 99: 1.0\n",
      "99, 100: 0.8\n",
      "100, 101: 0.736842105263158\n",
      "101, 102: 0.5882352941176471\n",
      "102, 103: 0.8571428571428572\n",
      "103, 104: 0.5882352941176471\n",
      "Average diversity: 0.7960489458941472\n"
     ]
    }
   ],
   "source": [
    "def jaccard_diversity(list1, list2):\n",
    "    intersection = len(list1.intersection(list2))\n",
    "    union = len(list1.union(list2))\n",
    "    jaccard_index = intersection / union\n",
    "    diversity_index = 1 - jaccard_index\n",
    "    return diversity_index\n",
    "\n",
    "def avg_jaccard_diversity(df, weeks_list): # only computes diversity with next week (chain)\n",
    "    jaccard_sum = 0\n",
    "    pair_count = 0\n",
    "    \n",
    "    for i, week1 in enumerate(weeks_list):\n",
    "        article_ids1 = set(df[df[\"week\"] == week1][\"article_id\"])\n",
    "        if week1 == weeks_list.max():\n",
    "            break\n",
    "        week2 = week1 + 1\n",
    "        article_ids2 = set(df[df[\"week\"] == week2][\"article_id\"])\n",
    "        diversity_index = jaccard_diversity(article_ids1, article_ids2)\n",
    "        print(f\"{week1}, {week2}: {diversity_index}\")\n",
    "        jaccard_sum += diversity_index\n",
    "        pair_count += 1\n",
    "    average_jaccard = jaccard_sum / pair_count\n",
    "    print(f\"Average diversity: {average_jaccard}\")\n",
    "\n",
    "\n",
    "weeks_list = sales_frame[\"week\"].unique()\n",
    "\n",
    "avg_jaccard_diversity(sales_frame, weeks_list)"
   ],
   "metadata": {
    "collapsed": false,
    "ExecuteTime": {
     "end_time": "2023-11-08T08:55:02.731026900Z",
     "start_time": "2023-11-08T08:55:02.723027600Z"
    }
   }
  },
  {
   "cell_type": "code",
   "execution_count": 23,
   "outputs": [
    {
     "data": {
      "text/plain": "     week  article_id  bestseller_rank\n0      95   760084003                1\n1      95   866731001                2\n2      95   600886001                3\n3      95   706016001                4\n4      95   372860002                5\n..    ...         ...              ...\n115   104   915529003                8\n116   104   915529005                9\n117   104   448509014               10\n118   104   762846027               11\n119   104   714790020               12\n\n[120 rows x 3 columns]",
      "text/html": "<div>\n<style scoped>\n    .dataframe tbody tr th:only-of-type {\n        vertical-align: middle;\n    }\n\n    .dataframe tbody tr th {\n        vertical-align: top;\n    }\n\n    .dataframe thead th {\n        text-align: right;\n    }\n</style>\n<table border=\"1\" class=\"dataframe\">\n  <thead>\n    <tr style=\"text-align: right;\">\n      <th></th>\n      <th>week</th>\n      <th>article_id</th>\n      <th>bestseller_rank</th>\n    </tr>\n  </thead>\n  <tbody>\n    <tr>\n      <th>0</th>\n      <td>95</td>\n      <td>760084003</td>\n      <td>1</td>\n    </tr>\n    <tr>\n      <th>1</th>\n      <td>95</td>\n      <td>866731001</td>\n      <td>2</td>\n    </tr>\n    <tr>\n      <th>2</th>\n      <td>95</td>\n      <td>600886001</td>\n      <td>3</td>\n    </tr>\n    <tr>\n      <th>3</th>\n      <td>95</td>\n      <td>706016001</td>\n      <td>4</td>\n    </tr>\n    <tr>\n      <th>4</th>\n      <td>95</td>\n      <td>372860002</td>\n      <td>5</td>\n    </tr>\n    <tr>\n      <th>...</th>\n      <td>...</td>\n      <td>...</td>\n      <td>...</td>\n    </tr>\n    <tr>\n      <th>115</th>\n      <td>104</td>\n      <td>915529003</td>\n      <td>8</td>\n    </tr>\n    <tr>\n      <th>116</th>\n      <td>104</td>\n      <td>915529005</td>\n      <td>9</td>\n    </tr>\n    <tr>\n      <th>117</th>\n      <td>104</td>\n      <td>448509014</td>\n      <td>10</td>\n    </tr>\n    <tr>\n      <th>118</th>\n      <td>104</td>\n      <td>762846027</td>\n      <td>11</td>\n    </tr>\n    <tr>\n      <th>119</th>\n      <td>104</td>\n      <td>714790020</td>\n      <td>12</td>\n    </tr>\n  </tbody>\n</table>\n<p>120 rows × 3 columns</p>\n</div>"
     },
     "execution_count": 23,
     "metadata": {},
     "output_type": "execute_result"
    }
   ],
   "source": [
    "sales_frame"
   ],
   "metadata": {
    "collapsed": false,
    "ExecuteTime": {
     "end_time": "2023-11-08T08:55:02.739026800Z",
     "start_time": "2023-11-08T08:55:02.730527900Z"
    }
   }
  },
  {
   "cell_type": "markdown",
   "source": [
    "### Increasing diversity"
   ],
   "metadata": {
    "collapsed": false
   }
  },
  {
   "cell_type": "markdown",
   "source": [
    "We see that there only is a diversity of almost 80%. I'll use the most popular candidates from Long Tail to replace K Short Head items"
   ],
   "metadata": {
    "collapsed": false
   }
  },
  {
   "cell_type": "markdown",
   "source": [
    "We can see that currently there is not a single Long Tail candidate:"
   ],
   "metadata": {
    "collapsed": false
   }
  },
  {
   "cell_type": "code",
   "execution_count": 24,
   "outputs": [
    {
     "data": {
      "text/plain": "long_tail\n0    120\nName: count, dtype: int64"
     },
     "execution_count": 24,
     "metadata": {},
     "output_type": "execute_result"
    }
   ],
   "source": [
    "sales_frame.merge(articles[[\"article_id\", \"long_tail\"]], on =\"article_id\", how=\"left\")[\"long_tail\"].value_counts()"
   ],
   "metadata": {
    "collapsed": false,
    "ExecuteTime": {
     "end_time": "2023-11-08T08:55:02.777027200Z",
     "start_time": "2023-11-08T08:55:02.736528200Z"
    }
   }
  },
  {
   "cell_type": "markdown",
   "source": [
    "This means that when we replace a short head item, diversity is bound to increase (assuming we don't recommend the same Long Tail item twice within 2 weeks)"
   ],
   "metadata": {
    "collapsed": false
   }
  },
  {
   "cell_type": "code",
   "execution_count": 25,
   "outputs": [
    {
     "data": {
      "text/plain": "     week  article_id  bestseller_rank\n0      95   150959013                1\n1      95   146721001                2\n2      95   176209025                3\n3      95   156610010                4\n4      95   213691001                5\n..    ...         ...              ...\n115   104   915529003                8\n116   104   915529005                9\n117   104   448509014               10\n118   104   762846027               11\n119   104   714790020               12\n\n[120 rows x 3 columns]",
      "text/html": "<div>\n<style scoped>\n    .dataframe tbody tr th:only-of-type {\n        vertical-align: middle;\n    }\n\n    .dataframe tbody tr th {\n        vertical-align: top;\n    }\n\n    .dataframe thead th {\n        text-align: right;\n    }\n</style>\n<table border=\"1\" class=\"dataframe\">\n  <thead>\n    <tr style=\"text-align: right;\">\n      <th></th>\n      <th>week</th>\n      <th>article_id</th>\n      <th>bestseller_rank</th>\n    </tr>\n  </thead>\n  <tbody>\n    <tr>\n      <th>0</th>\n      <td>95</td>\n      <td>150959013</td>\n      <td>1</td>\n    </tr>\n    <tr>\n      <th>1</th>\n      <td>95</td>\n      <td>146721001</td>\n      <td>2</td>\n    </tr>\n    <tr>\n      <th>2</th>\n      <td>95</td>\n      <td>176209025</td>\n      <td>3</td>\n    </tr>\n    <tr>\n      <th>3</th>\n      <td>95</td>\n      <td>156610010</td>\n      <td>4</td>\n    </tr>\n    <tr>\n      <th>4</th>\n      <td>95</td>\n      <td>213691001</td>\n      <td>5</td>\n    </tr>\n    <tr>\n      <th>...</th>\n      <td>...</td>\n      <td>...</td>\n      <td>...</td>\n    </tr>\n    <tr>\n      <th>115</th>\n      <td>104</td>\n      <td>915529003</td>\n      <td>8</td>\n    </tr>\n    <tr>\n      <th>116</th>\n      <td>104</td>\n      <td>915529005</td>\n      <td>9</td>\n    </tr>\n    <tr>\n      <th>117</th>\n      <td>104</td>\n      <td>448509014</td>\n      <td>10</td>\n    </tr>\n    <tr>\n      <th>118</th>\n      <td>104</td>\n      <td>762846027</td>\n      <td>11</td>\n    </tr>\n    <tr>\n      <th>119</th>\n      <td>104</td>\n      <td>714790020</td>\n      <td>12</td>\n    </tr>\n  </tbody>\n</table>\n<p>120 rows × 3 columns</p>\n</div>"
     },
     "execution_count": 25,
     "metadata": {},
     "output_type": "execute_result"
    }
   ],
   "source": [
    "def increase_diversity(df, weeks_list, K):\n",
    "    top_long_tail = articles[articles[\"long_tail\"]==1][[\"article_id\", \"sales_count\"]].head(200).sort_values(by=\"sales_count\", ascending=False)\n",
    "    top_long_tail.reset_index(inplace=True)\n",
    "    long_tail_index = 0 # start from most popular\n",
    "    for i, week1 in enumerate(weeks_list):\n",
    "        article_ids1 = set(df[df[\"week\"] == week1][\"article_id\"])\n",
    "        if week1 == weeks_list.max():\n",
    "            break\n",
    "        week2 = week1 + 1\n",
    "        items_left = K\n",
    "        article_ids2 = set(df[df[\"week\"] == week2][\"article_id\"])\n",
    "        curr_diversity_index = jaccard_diversity(article_ids1, article_ids2)\n",
    "        \n",
    "        for j, item in df[df[\"week\"]==week1].iterrows(): # edit items one by one until K items edited or diversity maximized\n",
    "            if items_left == 0:\n",
    "                break\n",
    "            old_item = df.at[j, \"article_id\"]\n",
    "            new_item = top_long_tail.at[long_tail_index, \"article_id\"]\n",
    "            df.at[j, \"article_id\"] = new_item\n",
    "            items_left -= 1\n",
    "            long_tail_index += 1\n",
    "            diversity_index = jaccard_diversity(article_ids1, article_ids2) # diversity is always going to increase, because it contains no long tail items\n",
    "            if diversity_index == 1.0 or items_left == 0: # good, no replacement needed\n",
    "                break\n",
    "    return df\n",
    "\n",
    "sales_frame = increase_diversity(sales_frame, weeks_list, K=K_items)\n",
    "\n",
    "sales_frame"
   ],
   "metadata": {
    "collapsed": false,
    "ExecuteTime": {
     "end_time": "2023-11-08T08:55:02.824026800Z",
     "start_time": "2023-11-08T08:55:02.752527Z"
    }
   }
  },
  {
   "cell_type": "markdown",
   "source": [
    "Now we can see an improvement in diversity:"
   ],
   "metadata": {
    "collapsed": false
   }
  },
  {
   "cell_type": "code",
   "execution_count": 26,
   "outputs": [
    {
     "name": "stdout",
     "output_type": "stream",
     "text": [
      "95, 96: 1.0\n",
      "96, 97: 1.0\n",
      "97, 98: 1.0\n",
      "98, 99: 1.0\n",
      "99, 100: 1.0\n",
      "100, 101: 1.0\n",
      "101, 102: 1.0\n",
      "102, 103: 1.0\n",
      "103, 104: 0.9565217391304348\n",
      "Average diversity: 0.995169082125604\n"
     ]
    }
   ],
   "source": [
    "avg_jaccard_diversity(sales_frame, weeks_list)"
   ],
   "metadata": {
    "collapsed": false,
    "ExecuteTime": {
     "end_time": "2023-11-08T08:55:02.847528700Z",
     "start_time": "2023-11-08T08:55:02.775527300Z"
    }
   }
  },
  {
   "cell_type": "code",
   "execution_count": 27,
   "outputs": [],
   "source": [
    "bestsellers_previous_week = pd.merge(sales_frame, mean_price, on=['week', 'article_id']).reset_index()\n",
    "bestsellers_previous_week.week += 1"
   ],
   "metadata": {
    "collapsed": false,
    "ExecuteTime": {
     "end_time": "2023-11-08T08:55:02.902526Z",
     "start_time": "2023-11-08T08:55:02.783527600Z"
    }
   }
  },
  {
   "cell_type": "code",
   "execution_count": 28,
   "outputs": [
    {
     "data": {
      "text/plain": "   index  week  article_id  bestseller_rank     price\n0      0    96   866731003               11  0.024893\n1      1    96   866383006               12  0.023195",
      "text/html": "<div>\n<style scoped>\n    .dataframe tbody tr th:only-of-type {\n        vertical-align: middle;\n    }\n\n    .dataframe tbody tr th {\n        vertical-align: top;\n    }\n\n    .dataframe thead th {\n        text-align: right;\n    }\n</style>\n<table border=\"1\" class=\"dataframe\">\n  <thead>\n    <tr style=\"text-align: right;\">\n      <th></th>\n      <th>index</th>\n      <th>week</th>\n      <th>article_id</th>\n      <th>bestseller_rank</th>\n      <th>price</th>\n    </tr>\n  </thead>\n  <tbody>\n    <tr>\n      <th>0</th>\n      <td>0</td>\n      <td>96</td>\n      <td>866731003</td>\n      <td>11</td>\n      <td>0.024893</td>\n    </tr>\n    <tr>\n      <th>1</th>\n      <td>1</td>\n      <td>96</td>\n      <td>866383006</td>\n      <td>12</td>\n      <td>0.023195</td>\n    </tr>\n  </tbody>\n</table>\n</div>"
     },
     "execution_count": 28,
     "metadata": {},
     "output_type": "execute_result"
    }
   ],
   "source": [
    "bestsellers_previous_week.pipe(lambda df: df[df['week']==96])"
   ],
   "metadata": {
    "collapsed": false,
    "ExecuteTime": {
     "end_time": "2023-11-08T08:55:02.903026200Z",
     "start_time": "2023-11-08T08:55:02.806527900Z"
    }
   }
  },
  {
   "cell_type": "code",
   "execution_count": 29,
   "outputs": [],
   "source": [
    "unique_transactions = transactions \\\n",
    "    .groupby(['week', 'customer_id']) \\\n",
    "    .head(1) \\\n",
    "    .drop(columns=['article_id', 'price']) \\\n",
    "    .copy()"
   ],
   "metadata": {
    "collapsed": false,
    "ExecuteTime": {
     "end_time": "2023-11-08T08:55:03.282029Z",
     "start_time": "2023-11-08T08:55:02.813028700Z"
    }
   }
  },
  {
   "cell_type": "code",
   "execution_count": 30,
   "outputs": [
    {
     "data": {
      "text/plain": "              t_dat           customer_id  sales_channel_id  week\n29030503 2020-07-15       272412481300040                 1    95\n29064059 2020-07-15      1456826891333599                 1    95\n29067103 2020-07-15      2133687643102426                 2    95\n29027487 2020-07-15      6010692573790711                 1    95\n29046403 2020-07-15      6171059100114610                 2    95\n...             ...                   ...               ...   ...\n31760188 2020-09-22  18435221511488011015                 1   104\n31782234 2020-09-22  18436859303155335645                 1   104\n31787251 2020-09-22  18437941771381362708                 2   104\n31776022 2020-09-22  18438270306572912089                 1   104\n31779097 2020-09-22  18440902715633436014                 1   104\n\n[755710 rows x 4 columns]",
      "text/html": "<div>\n<style scoped>\n    .dataframe tbody tr th:only-of-type {\n        vertical-align: middle;\n    }\n\n    .dataframe tbody tr th {\n        vertical-align: top;\n    }\n\n    .dataframe thead th {\n        text-align: right;\n    }\n</style>\n<table border=\"1\" class=\"dataframe\">\n  <thead>\n    <tr style=\"text-align: right;\">\n      <th></th>\n      <th>t_dat</th>\n      <th>customer_id</th>\n      <th>sales_channel_id</th>\n      <th>week</th>\n    </tr>\n  </thead>\n  <tbody>\n    <tr>\n      <th>29030503</th>\n      <td>2020-07-15</td>\n      <td>272412481300040</td>\n      <td>1</td>\n      <td>95</td>\n    </tr>\n    <tr>\n      <th>29064059</th>\n      <td>2020-07-15</td>\n      <td>1456826891333599</td>\n      <td>1</td>\n      <td>95</td>\n    </tr>\n    <tr>\n      <th>29067103</th>\n      <td>2020-07-15</td>\n      <td>2133687643102426</td>\n      <td>2</td>\n      <td>95</td>\n    </tr>\n    <tr>\n      <th>29027487</th>\n      <td>2020-07-15</td>\n      <td>6010692573790711</td>\n      <td>1</td>\n      <td>95</td>\n    </tr>\n    <tr>\n      <th>29046403</th>\n      <td>2020-07-15</td>\n      <td>6171059100114610</td>\n      <td>2</td>\n      <td>95</td>\n    </tr>\n    <tr>\n      <th>...</th>\n      <td>...</td>\n      <td>...</td>\n      <td>...</td>\n      <td>...</td>\n    </tr>\n    <tr>\n      <th>31760188</th>\n      <td>2020-09-22</td>\n      <td>18435221511488011015</td>\n      <td>1</td>\n      <td>104</td>\n    </tr>\n    <tr>\n      <th>31782234</th>\n      <td>2020-09-22</td>\n      <td>18436859303155335645</td>\n      <td>1</td>\n      <td>104</td>\n    </tr>\n    <tr>\n      <th>31787251</th>\n      <td>2020-09-22</td>\n      <td>18437941771381362708</td>\n      <td>2</td>\n      <td>104</td>\n    </tr>\n    <tr>\n      <th>31776022</th>\n      <td>2020-09-22</td>\n      <td>18438270306572912089</td>\n      <td>1</td>\n      <td>104</td>\n    </tr>\n    <tr>\n      <th>31779097</th>\n      <td>2020-09-22</td>\n      <td>18440902715633436014</td>\n      <td>1</td>\n      <td>104</td>\n    </tr>\n  </tbody>\n</table>\n<p>755710 rows × 4 columns</p>\n</div>"
     },
     "execution_count": 30,
     "metadata": {},
     "output_type": "execute_result"
    }
   ],
   "source": [
    "unique_transactions"
   ],
   "metadata": {
    "collapsed": false,
    "ExecuteTime": {
     "end_time": "2023-11-08T08:55:03.291528600Z",
     "start_time": "2023-11-08T08:55:03.282528Z"
    }
   }
  },
  {
   "cell_type": "code",
   "execution_count": 31,
   "outputs": [
    {
     "data": {
      "text/plain": "              t_dat           customer_id  article_id     price  \\\n29030503 2020-07-15       272412481300040   778064028  0.008458   \n29064059 2020-07-15      1456826891333599   888294001  0.013542   \n29067103 2020-07-15      2133687643102426   843642001  0.042356   \n29027487 2020-07-15      6010692573790711   857812010  0.039661   \n29046403 2020-07-15      6171059100114610   815447007  0.006763   \n...             ...                   ...         ...       ...   \n31760188 2020-09-22  18435221511488011015   573085055  0.033881   \n31782234 2020-09-22  18436859303155335645   801447001  0.030492   \n31787251 2020-09-22  18437941771381362708   907188001  0.050831   \n31776022 2020-09-22  18438270306572912089   751471043  0.033881   \n31779097 2020-09-22  18440902715633436014   918894002  0.016932   \n\n          sales_channel_id  week  \n29030503                 1    95  \n29064059                 1    95  \n29067103                 2    95  \n29027487                 1    95  \n29046403                 2    95  \n...                    ...   ...  \n31760188                 1   104  \n31782234                 1   104  \n31787251                 2   104  \n31776022                 1   104  \n31779097                 1   104  \n\n[755710 rows x 6 columns]",
      "text/html": "<div>\n<style scoped>\n    .dataframe tbody tr th:only-of-type {\n        vertical-align: middle;\n    }\n\n    .dataframe tbody tr th {\n        vertical-align: top;\n    }\n\n    .dataframe thead th {\n        text-align: right;\n    }\n</style>\n<table border=\"1\" class=\"dataframe\">\n  <thead>\n    <tr style=\"text-align: right;\">\n      <th></th>\n      <th>t_dat</th>\n      <th>customer_id</th>\n      <th>article_id</th>\n      <th>price</th>\n      <th>sales_channel_id</th>\n      <th>week</th>\n    </tr>\n  </thead>\n  <tbody>\n    <tr>\n      <th>29030503</th>\n      <td>2020-07-15</td>\n      <td>272412481300040</td>\n      <td>778064028</td>\n      <td>0.008458</td>\n      <td>1</td>\n      <td>95</td>\n    </tr>\n    <tr>\n      <th>29064059</th>\n      <td>2020-07-15</td>\n      <td>1456826891333599</td>\n      <td>888294001</td>\n      <td>0.013542</td>\n      <td>1</td>\n      <td>95</td>\n    </tr>\n    <tr>\n      <th>29067103</th>\n      <td>2020-07-15</td>\n      <td>2133687643102426</td>\n      <td>843642001</td>\n      <td>0.042356</td>\n      <td>2</td>\n      <td>95</td>\n    </tr>\n    <tr>\n      <th>29027487</th>\n      <td>2020-07-15</td>\n      <td>6010692573790711</td>\n      <td>857812010</td>\n      <td>0.039661</td>\n      <td>1</td>\n      <td>95</td>\n    </tr>\n    <tr>\n      <th>29046403</th>\n      <td>2020-07-15</td>\n      <td>6171059100114610</td>\n      <td>815447007</td>\n      <td>0.006763</td>\n      <td>2</td>\n      <td>95</td>\n    </tr>\n    <tr>\n      <th>...</th>\n      <td>...</td>\n      <td>...</td>\n      <td>...</td>\n      <td>...</td>\n      <td>...</td>\n      <td>...</td>\n    </tr>\n    <tr>\n      <th>31760188</th>\n      <td>2020-09-22</td>\n      <td>18435221511488011015</td>\n      <td>573085055</td>\n      <td>0.033881</td>\n      <td>1</td>\n      <td>104</td>\n    </tr>\n    <tr>\n      <th>31782234</th>\n      <td>2020-09-22</td>\n      <td>18436859303155335645</td>\n      <td>801447001</td>\n      <td>0.030492</td>\n      <td>1</td>\n      <td>104</td>\n    </tr>\n    <tr>\n      <th>31787251</th>\n      <td>2020-09-22</td>\n      <td>18437941771381362708</td>\n      <td>907188001</td>\n      <td>0.050831</td>\n      <td>2</td>\n      <td>104</td>\n    </tr>\n    <tr>\n      <th>31776022</th>\n      <td>2020-09-22</td>\n      <td>18438270306572912089</td>\n      <td>751471043</td>\n      <td>0.033881</td>\n      <td>1</td>\n      <td>104</td>\n    </tr>\n    <tr>\n      <th>31779097</th>\n      <td>2020-09-22</td>\n      <td>18440902715633436014</td>\n      <td>918894002</td>\n      <td>0.016932</td>\n      <td>1</td>\n      <td>104</td>\n    </tr>\n  </tbody>\n</table>\n<p>755710 rows × 6 columns</p>\n</div>"
     },
     "execution_count": 31,
     "metadata": {},
     "output_type": "execute_result"
    }
   ],
   "source": [
    "transactions.drop_duplicates(['week', 'customer_id'])"
   ],
   "metadata": {
    "collapsed": false,
    "ExecuteTime": {
     "end_time": "2023-11-08T08:55:03.521528300Z",
     "start_time": "2023-11-08T08:55:03.288028Z"
    }
   }
  },
  {
   "cell_type": "code",
   "execution_count": 32,
   "outputs": [
    {
     "data": {
      "text/plain": "             t_dat           customer_id  sales_channel_id  week  index  \\\n0       2020-07-22       200292573348128                 2    96      0   \n1       2020-07-22       200292573348128                 2    96      1   \n2       2020-07-22       248294615847351                 1    96      0   \n3       2020-07-22       248294615847351                 1    96      1   \n4       2020-07-22       272412481300040                 1    96      0   \n...            ...                   ...               ...   ...    ...   \n2822492 2020-09-22  18437941771381362708                 2   104     37   \n2822493 2020-09-22  18438270306572912089                 1   104     36   \n2822494 2020-09-22  18438270306572912089                 1   104     37   \n2822495 2020-09-22  18440902715633436014                 1   104     36   \n2822496 2020-09-22  18440902715633436014                 1   104     37   \n\n         article_id  bestseller_rank     price  \n0         866731003               11  0.024893  \n1         866383006               12  0.023195  \n2         866731003               11  0.024893  \n3         866383006               12  0.023195  \n4         866731003               11  0.024893  \n...             ...              ...       ...  \n2822492   923758001               12  0.033478  \n2822493   673677002               11  0.024925  \n2822494   923758001               12  0.033478  \n2822495   673677002               11  0.024925  \n2822496   923758001               12  0.033478  \n\n[2822497 rows x 8 columns]",
      "text/html": "<div>\n<style scoped>\n    .dataframe tbody tr th:only-of-type {\n        vertical-align: middle;\n    }\n\n    .dataframe tbody tr th {\n        vertical-align: top;\n    }\n\n    .dataframe thead th {\n        text-align: right;\n    }\n</style>\n<table border=\"1\" class=\"dataframe\">\n  <thead>\n    <tr style=\"text-align: right;\">\n      <th></th>\n      <th>t_dat</th>\n      <th>customer_id</th>\n      <th>sales_channel_id</th>\n      <th>week</th>\n      <th>index</th>\n      <th>article_id</th>\n      <th>bestseller_rank</th>\n      <th>price</th>\n    </tr>\n  </thead>\n  <tbody>\n    <tr>\n      <th>0</th>\n      <td>2020-07-22</td>\n      <td>200292573348128</td>\n      <td>2</td>\n      <td>96</td>\n      <td>0</td>\n      <td>866731003</td>\n      <td>11</td>\n      <td>0.024893</td>\n    </tr>\n    <tr>\n      <th>1</th>\n      <td>2020-07-22</td>\n      <td>200292573348128</td>\n      <td>2</td>\n      <td>96</td>\n      <td>1</td>\n      <td>866383006</td>\n      <td>12</td>\n      <td>0.023195</td>\n    </tr>\n    <tr>\n      <th>2</th>\n      <td>2020-07-22</td>\n      <td>248294615847351</td>\n      <td>1</td>\n      <td>96</td>\n      <td>0</td>\n      <td>866731003</td>\n      <td>11</td>\n      <td>0.024893</td>\n    </tr>\n    <tr>\n      <th>3</th>\n      <td>2020-07-22</td>\n      <td>248294615847351</td>\n      <td>1</td>\n      <td>96</td>\n      <td>1</td>\n      <td>866383006</td>\n      <td>12</td>\n      <td>0.023195</td>\n    </tr>\n    <tr>\n      <th>4</th>\n      <td>2020-07-22</td>\n      <td>272412481300040</td>\n      <td>1</td>\n      <td>96</td>\n      <td>0</td>\n      <td>866731003</td>\n      <td>11</td>\n      <td>0.024893</td>\n    </tr>\n    <tr>\n      <th>...</th>\n      <td>...</td>\n      <td>...</td>\n      <td>...</td>\n      <td>...</td>\n      <td>...</td>\n      <td>...</td>\n      <td>...</td>\n      <td>...</td>\n    </tr>\n    <tr>\n      <th>2822492</th>\n      <td>2020-09-22</td>\n      <td>18437941771381362708</td>\n      <td>2</td>\n      <td>104</td>\n      <td>37</td>\n      <td>923758001</td>\n      <td>12</td>\n      <td>0.033478</td>\n    </tr>\n    <tr>\n      <th>2822493</th>\n      <td>2020-09-22</td>\n      <td>18438270306572912089</td>\n      <td>1</td>\n      <td>104</td>\n      <td>36</td>\n      <td>673677002</td>\n      <td>11</td>\n      <td>0.024925</td>\n    </tr>\n    <tr>\n      <th>2822494</th>\n      <td>2020-09-22</td>\n      <td>18438270306572912089</td>\n      <td>1</td>\n      <td>104</td>\n      <td>37</td>\n      <td>923758001</td>\n      <td>12</td>\n      <td>0.033478</td>\n    </tr>\n    <tr>\n      <th>2822495</th>\n      <td>2020-09-22</td>\n      <td>18440902715633436014</td>\n      <td>1</td>\n      <td>104</td>\n      <td>36</td>\n      <td>673677002</td>\n      <td>11</td>\n      <td>0.024925</td>\n    </tr>\n    <tr>\n      <th>2822496</th>\n      <td>2020-09-22</td>\n      <td>18440902715633436014</td>\n      <td>1</td>\n      <td>104</td>\n      <td>37</td>\n      <td>923758001</td>\n      <td>12</td>\n      <td>0.033478</td>\n    </tr>\n  </tbody>\n</table>\n<p>2822497 rows × 8 columns</p>\n</div>"
     },
     "execution_count": 32,
     "metadata": {},
     "output_type": "execute_result"
    }
   ],
   "source": [
    "candidates_bestsellers = pd.merge(\n",
    "    unique_transactions,\n",
    "    bestsellers_previous_week,\n",
    "    on='week',\n",
    ")\n",
    "candidates_bestsellers"
   ],
   "metadata": {
    "collapsed": false,
    "ExecuteTime": {
     "end_time": "2023-11-08T08:55:03.694528200Z",
     "start_time": "2023-11-08T08:55:03.520528400Z"
    }
   }
  },
  {
   "cell_type": "code",
   "execution_count": 33,
   "outputs": [],
   "source": [
    "test_set_transactions = unique_transactions.drop_duplicates('customer_id').reset_index(drop=True)\n",
    "test_set_transactions.week = test_week"
   ],
   "metadata": {
    "collapsed": false,
    "ExecuteTime": {
     "end_time": "2023-11-08T08:55:03.764526700Z",
     "start_time": "2023-11-08T08:55:03.693527600Z"
    }
   }
  },
  {
   "cell_type": "code",
   "execution_count": 34,
   "outputs": [
    {
     "data": {
      "text/plain": "            t_dat           customer_id  sales_channel_id  week\n0      2020-07-15       272412481300040                 1   105\n1      2020-07-15      1456826891333599                 1   105\n2      2020-07-15      2133687643102426                 2   105\n3      2020-07-15      6010692573790711                 1   105\n4      2020-07-15      6171059100114610                 2   105\n...           ...                   ...               ...   ...\n437360 2020-09-22  18410229429441241008                 2   105\n437361 2020-09-22  18417769707947924979                 2   105\n437362 2020-09-22  18418054986721795659                 2   105\n437363 2020-09-22  18421175435799911749                 2   105\n437364 2020-09-22  18438270306572912089                 1   105\n\n[437365 rows x 4 columns]",
      "text/html": "<div>\n<style scoped>\n    .dataframe tbody tr th:only-of-type {\n        vertical-align: middle;\n    }\n\n    .dataframe tbody tr th {\n        vertical-align: top;\n    }\n\n    .dataframe thead th {\n        text-align: right;\n    }\n</style>\n<table border=\"1\" class=\"dataframe\">\n  <thead>\n    <tr style=\"text-align: right;\">\n      <th></th>\n      <th>t_dat</th>\n      <th>customer_id</th>\n      <th>sales_channel_id</th>\n      <th>week</th>\n    </tr>\n  </thead>\n  <tbody>\n    <tr>\n      <th>0</th>\n      <td>2020-07-15</td>\n      <td>272412481300040</td>\n      <td>1</td>\n      <td>105</td>\n    </tr>\n    <tr>\n      <th>1</th>\n      <td>2020-07-15</td>\n      <td>1456826891333599</td>\n      <td>1</td>\n      <td>105</td>\n    </tr>\n    <tr>\n      <th>2</th>\n      <td>2020-07-15</td>\n      <td>2133687643102426</td>\n      <td>2</td>\n      <td>105</td>\n    </tr>\n    <tr>\n      <th>3</th>\n      <td>2020-07-15</td>\n      <td>6010692573790711</td>\n      <td>1</td>\n      <td>105</td>\n    </tr>\n    <tr>\n      <th>4</th>\n      <td>2020-07-15</td>\n      <td>6171059100114610</td>\n      <td>2</td>\n      <td>105</td>\n    </tr>\n    <tr>\n      <th>...</th>\n      <td>...</td>\n      <td>...</td>\n      <td>...</td>\n      <td>...</td>\n    </tr>\n    <tr>\n      <th>437360</th>\n      <td>2020-09-22</td>\n      <td>18410229429441241008</td>\n      <td>2</td>\n      <td>105</td>\n    </tr>\n    <tr>\n      <th>437361</th>\n      <td>2020-09-22</td>\n      <td>18417769707947924979</td>\n      <td>2</td>\n      <td>105</td>\n    </tr>\n    <tr>\n      <th>437362</th>\n      <td>2020-09-22</td>\n      <td>18418054986721795659</td>\n      <td>2</td>\n      <td>105</td>\n    </tr>\n    <tr>\n      <th>437363</th>\n      <td>2020-09-22</td>\n      <td>18421175435799911749</td>\n      <td>2</td>\n      <td>105</td>\n    </tr>\n    <tr>\n      <th>437364</th>\n      <td>2020-09-22</td>\n      <td>18438270306572912089</td>\n      <td>1</td>\n      <td>105</td>\n    </tr>\n  </tbody>\n</table>\n<p>437365 rows × 4 columns</p>\n</div>"
     },
     "execution_count": 34,
     "metadata": {},
     "output_type": "execute_result"
    }
   ],
   "source": [
    "test_set_transactions"
   ],
   "metadata": {
    "collapsed": false,
    "ExecuteTime": {
     "end_time": "2023-11-08T08:55:03.809027Z",
     "start_time": "2023-11-08T08:55:03.730027700Z"
    }
   }
  },
  {
   "cell_type": "code",
   "execution_count": 35,
   "outputs": [
    {
     "name": "stdout",
     "output_type": "stream",
     "text": [
      "<class 'pandas.core.frame.DataFrame'>\n",
      "RangeIndex: 50 entries, 0 to 49\n",
      "Data columns (total 5 columns):\n",
      " #   Column           Non-Null Count  Dtype  \n",
      "---  ------           --------------  -----  \n",
      " 0   index            50 non-null     int64  \n",
      " 1   week             50 non-null     int8   \n",
      " 2   article_id       50 non-null     int32  \n",
      " 3   bestseller_rank  50 non-null     int8   \n",
      " 4   price            50 non-null     float32\n",
      "dtypes: float32(1), int32(1), int64(1), int8(2)\n",
      "memory usage: 1.0 KB\n"
     ]
    }
   ],
   "source": [
    "bestsellers_previous_week.info()"
   ],
   "metadata": {
    "collapsed": false,
    "ExecuteTime": {
     "end_time": "2023-11-08T08:55:03.828529400Z",
     "start_time": "2023-11-08T08:55:03.737027400Z"
    }
   }
  },
  {
   "cell_type": "code",
   "execution_count": 36,
   "outputs": [],
   "source": [
    "candidates_bestsellers_test_week = pd.merge(\n",
    "    test_set_transactions,\n",
    "    bestsellers_previous_week,\n",
    "    on='week'\n",
    ")"
   ],
   "metadata": {
    "collapsed": false,
    "ExecuteTime": {
     "end_time": "2023-11-08T08:55:04.017028100Z",
     "start_time": "2023-11-08T08:55:03.744526800Z"
    }
   }
  },
  {
   "cell_type": "markdown",
   "source": [
    "Bestsellers from test week get added to bestseller candidates of training weeks"
   ],
   "metadata": {
    "collapsed": false
   }
  },
  {
   "cell_type": "code",
   "execution_count": 37,
   "outputs": [],
   "source": [
    "candidates_bestsellers = pd.concat([candidates_bestsellers, candidates_bestsellers_test_week])\n",
    "candidates_bestsellers.drop(columns='bestseller_rank', inplace=True)"
   ],
   "metadata": {
    "collapsed": false,
    "ExecuteTime": {
     "end_time": "2023-11-08T08:55:04.300527900Z",
     "start_time": "2023-11-08T08:55:04.018028400Z"
    }
   }
  },
  {
   "cell_type": "code",
   "execution_count": 38,
   "outputs": [
    {
     "data": {
      "text/plain": "             t_dat           customer_id  sales_channel_id  week  index  \\\n0       2020-07-22       200292573348128                 2    96      0   \n1       2020-07-22       200292573348128                 2    96      1   \n2       2020-07-22       248294615847351                 1    96      0   \n3       2020-07-22       248294615847351                 1    96      1   \n4       2020-07-22       272412481300040                 1    96      0   \n...            ...                   ...               ...   ...    ...   \n5248375 2020-09-22  18438270306572912089                 1   105     45   \n5248376 2020-09-22  18438270306572912089                 1   105     46   \n5248377 2020-09-22  18438270306572912089                 1   105     47   \n5248378 2020-09-22  18438270306572912089                 1   105     48   \n5248379 2020-09-22  18438270306572912089                 1   105     49   \n\n         article_id     price  \n0         866731003  0.024893  \n1         866383006  0.023195  \n2         866731003  0.024893  \n3         866383006  0.023195  \n4         866731003  0.024893  \n...             ...       ...  \n5248375   915529003  0.033439  \n5248376   915529005  0.033417  \n5248377   448509014  0.041630  \n5248378   762846027  0.025005  \n5248379   714790020  0.049951  \n\n[8070877 rows x 7 columns]",
      "text/html": "<div>\n<style scoped>\n    .dataframe tbody tr th:only-of-type {\n        vertical-align: middle;\n    }\n\n    .dataframe tbody tr th {\n        vertical-align: top;\n    }\n\n    .dataframe thead th {\n        text-align: right;\n    }\n</style>\n<table border=\"1\" class=\"dataframe\">\n  <thead>\n    <tr style=\"text-align: right;\">\n      <th></th>\n      <th>t_dat</th>\n      <th>customer_id</th>\n      <th>sales_channel_id</th>\n      <th>week</th>\n      <th>index</th>\n      <th>article_id</th>\n      <th>price</th>\n    </tr>\n  </thead>\n  <tbody>\n    <tr>\n      <th>0</th>\n      <td>2020-07-22</td>\n      <td>200292573348128</td>\n      <td>2</td>\n      <td>96</td>\n      <td>0</td>\n      <td>866731003</td>\n      <td>0.024893</td>\n    </tr>\n    <tr>\n      <th>1</th>\n      <td>2020-07-22</td>\n      <td>200292573348128</td>\n      <td>2</td>\n      <td>96</td>\n      <td>1</td>\n      <td>866383006</td>\n      <td>0.023195</td>\n    </tr>\n    <tr>\n      <th>2</th>\n      <td>2020-07-22</td>\n      <td>248294615847351</td>\n      <td>1</td>\n      <td>96</td>\n      <td>0</td>\n      <td>866731003</td>\n      <td>0.024893</td>\n    </tr>\n    <tr>\n      <th>3</th>\n      <td>2020-07-22</td>\n      <td>248294615847351</td>\n      <td>1</td>\n      <td>96</td>\n      <td>1</td>\n      <td>866383006</td>\n      <td>0.023195</td>\n    </tr>\n    <tr>\n      <th>4</th>\n      <td>2020-07-22</td>\n      <td>272412481300040</td>\n      <td>1</td>\n      <td>96</td>\n      <td>0</td>\n      <td>866731003</td>\n      <td>0.024893</td>\n    </tr>\n    <tr>\n      <th>...</th>\n      <td>...</td>\n      <td>...</td>\n      <td>...</td>\n      <td>...</td>\n      <td>...</td>\n      <td>...</td>\n      <td>...</td>\n    </tr>\n    <tr>\n      <th>5248375</th>\n      <td>2020-09-22</td>\n      <td>18438270306572912089</td>\n      <td>1</td>\n      <td>105</td>\n      <td>45</td>\n      <td>915529003</td>\n      <td>0.033439</td>\n    </tr>\n    <tr>\n      <th>5248376</th>\n      <td>2020-09-22</td>\n      <td>18438270306572912089</td>\n      <td>1</td>\n      <td>105</td>\n      <td>46</td>\n      <td>915529005</td>\n      <td>0.033417</td>\n    </tr>\n    <tr>\n      <th>5248377</th>\n      <td>2020-09-22</td>\n      <td>18438270306572912089</td>\n      <td>1</td>\n      <td>105</td>\n      <td>47</td>\n      <td>448509014</td>\n      <td>0.041630</td>\n    </tr>\n    <tr>\n      <th>5248378</th>\n      <td>2020-09-22</td>\n      <td>18438270306572912089</td>\n      <td>1</td>\n      <td>105</td>\n      <td>48</td>\n      <td>762846027</td>\n      <td>0.025005</td>\n    </tr>\n    <tr>\n      <th>5248379</th>\n      <td>2020-09-22</td>\n      <td>18438270306572912089</td>\n      <td>1</td>\n      <td>105</td>\n      <td>49</td>\n      <td>714790020</td>\n      <td>0.049951</td>\n    </tr>\n  </tbody>\n</table>\n<p>8070877 rows × 7 columns</p>\n</div>"
     },
     "execution_count": 38,
     "metadata": {},
     "output_type": "execute_result"
    }
   ],
   "source": [
    "candidates_bestsellers\n",
    "# candidates_bestsellers[candidates_bestsellers[\"article_id\"] == 938182001]\n"
   ],
   "metadata": {
    "collapsed": false,
    "ExecuteTime": {
     "end_time": "2023-11-08T08:55:04.309527700Z",
     "start_time": "2023-11-08T08:55:04.301028700Z"
    }
   }
  },
  {
   "cell_type": "markdown",
   "source": [
    "Article info gets added to bestseller candidates"
   ],
   "metadata": {
    "collapsed": false
   }
  },
  {
   "cell_type": "code",
   "execution_count": 39,
   "outputs": [
    {
     "data": {
      "text/plain": "             t_dat           customer_id  sales_channel_id  week  index  \\\n0       2020-07-22       200292573348128                 2    96      0   \n1       2020-07-22       200292573348128                 2    96      1   \n2       2020-07-22       248294615847351                 1    96      0   \n3       2020-07-22       248294615847351                 1    96      1   \n4       2020-07-22       272412481300040                 1    96      0   \n...            ...                   ...               ...   ...    ...   \n8070872 2020-09-22  18438270306572912089                 1   105     45   \n8070873 2020-09-22  18438270306572912089                 1   105     46   \n8070874 2020-09-22  18438270306572912089                 1   105     47   \n8070875 2020-09-22  18438270306572912089                 1   105     48   \n8070876 2020-09-22  18438270306572912089                 1   105     49   \n\n         article_id     price  long_tail  sales_count  \n0         866731003  0.024893          0       1375.0  \n1         866383006  0.023195          0       4158.0  \n2         866731003  0.024893          0       1375.0  \n3         866383006  0.023195          0       4158.0  \n4         866731003  0.024893          0       1375.0  \n...             ...       ...        ...          ...  \n8070872   915529003  0.033439          0       2697.0  \n8070873   915529005  0.033417          0        856.0  \n8070874   448509014  0.041630          0      19216.0  \n8070875   762846027  0.025005          0       1260.0  \n8070876   714790020  0.049951          0       8152.0  \n\n[8070877 rows x 9 columns]",
      "text/html": "<div>\n<style scoped>\n    .dataframe tbody tr th:only-of-type {\n        vertical-align: middle;\n    }\n\n    .dataframe tbody tr th {\n        vertical-align: top;\n    }\n\n    .dataframe thead th {\n        text-align: right;\n    }\n</style>\n<table border=\"1\" class=\"dataframe\">\n  <thead>\n    <tr style=\"text-align: right;\">\n      <th></th>\n      <th>t_dat</th>\n      <th>customer_id</th>\n      <th>sales_channel_id</th>\n      <th>week</th>\n      <th>index</th>\n      <th>article_id</th>\n      <th>price</th>\n      <th>long_tail</th>\n      <th>sales_count</th>\n    </tr>\n  </thead>\n  <tbody>\n    <tr>\n      <th>0</th>\n      <td>2020-07-22</td>\n      <td>200292573348128</td>\n      <td>2</td>\n      <td>96</td>\n      <td>0</td>\n      <td>866731003</td>\n      <td>0.024893</td>\n      <td>0</td>\n      <td>1375.0</td>\n    </tr>\n    <tr>\n      <th>1</th>\n      <td>2020-07-22</td>\n      <td>200292573348128</td>\n      <td>2</td>\n      <td>96</td>\n      <td>1</td>\n      <td>866383006</td>\n      <td>0.023195</td>\n      <td>0</td>\n      <td>4158.0</td>\n    </tr>\n    <tr>\n      <th>2</th>\n      <td>2020-07-22</td>\n      <td>248294615847351</td>\n      <td>1</td>\n      <td>96</td>\n      <td>0</td>\n      <td>866731003</td>\n      <td>0.024893</td>\n      <td>0</td>\n      <td>1375.0</td>\n    </tr>\n    <tr>\n      <th>3</th>\n      <td>2020-07-22</td>\n      <td>248294615847351</td>\n      <td>1</td>\n      <td>96</td>\n      <td>1</td>\n      <td>866383006</td>\n      <td>0.023195</td>\n      <td>0</td>\n      <td>4158.0</td>\n    </tr>\n    <tr>\n      <th>4</th>\n      <td>2020-07-22</td>\n      <td>272412481300040</td>\n      <td>1</td>\n      <td>96</td>\n      <td>0</td>\n      <td>866731003</td>\n      <td>0.024893</td>\n      <td>0</td>\n      <td>1375.0</td>\n    </tr>\n    <tr>\n      <th>...</th>\n      <td>...</td>\n      <td>...</td>\n      <td>...</td>\n      <td>...</td>\n      <td>...</td>\n      <td>...</td>\n      <td>...</td>\n      <td>...</td>\n      <td>...</td>\n    </tr>\n    <tr>\n      <th>8070872</th>\n      <td>2020-09-22</td>\n      <td>18438270306572912089</td>\n      <td>1</td>\n      <td>105</td>\n      <td>45</td>\n      <td>915529003</td>\n      <td>0.033439</td>\n      <td>0</td>\n      <td>2697.0</td>\n    </tr>\n    <tr>\n      <th>8070873</th>\n      <td>2020-09-22</td>\n      <td>18438270306572912089</td>\n      <td>1</td>\n      <td>105</td>\n      <td>46</td>\n      <td>915529005</td>\n      <td>0.033417</td>\n      <td>0</td>\n      <td>856.0</td>\n    </tr>\n    <tr>\n      <th>8070874</th>\n      <td>2020-09-22</td>\n      <td>18438270306572912089</td>\n      <td>1</td>\n      <td>105</td>\n      <td>47</td>\n      <td>448509014</td>\n      <td>0.041630</td>\n      <td>0</td>\n      <td>19216.0</td>\n    </tr>\n    <tr>\n      <th>8070875</th>\n      <td>2020-09-22</td>\n      <td>18438270306572912089</td>\n      <td>1</td>\n      <td>105</td>\n      <td>48</td>\n      <td>762846027</td>\n      <td>0.025005</td>\n      <td>0</td>\n      <td>1260.0</td>\n    </tr>\n    <tr>\n      <th>8070876</th>\n      <td>2020-09-22</td>\n      <td>18438270306572912089</td>\n      <td>1</td>\n      <td>105</td>\n      <td>49</td>\n      <td>714790020</td>\n      <td>0.049951</td>\n      <td>0</td>\n      <td>8152.0</td>\n    </tr>\n  </tbody>\n</table>\n<p>8070877 rows × 9 columns</p>\n</div>"
     },
     "execution_count": 39,
     "metadata": {},
     "output_type": "execute_result"
    }
   ],
   "source": [
    "candidates_bestsellers = candidates_bestsellers.merge(articles[[\"article_id\", \"long_tail\", \"sales_count\"]], on=\"article_id\", how=\"left\")\n",
    "candidates_bestsellers"
   ],
   "metadata": {
    "collapsed": false,
    "ExecuteTime": {
     "end_time": "2023-11-08T08:55:04.990534400Z",
     "start_time": "2023-11-08T08:55:04.312528500Z"
    }
   }
  },
  {
   "cell_type": "markdown",
   "source": [],
   "metadata": {
    "collapsed": false
   }
  },
  {
   "cell_type": "markdown",
   "source": [
    "# Combining transactions and candidates / negative examples\n"
   ],
   "metadata": {
    "collapsed": false
   }
  },
  {
   "cell_type": "code",
   "execution_count": 40,
   "outputs": [],
   "source": [
    "transactions['purchased'] = 1\n"
   ],
   "metadata": {
    "collapsed": false,
    "ExecuteTime": {
     "end_time": "2023-11-08T08:55:04.998529300Z",
     "start_time": "2023-11-08T08:55:04.989528300Z"
    }
   }
  },
  {
   "cell_type": "code",
   "execution_count": 41,
   "outputs": [],
   "source": [
    "data = pd.concat([transactions, candidates_last_purchase, candidates_bestsellers])\n",
    "data.purchased.fillna(0, inplace=True)"
   ],
   "metadata": {
    "collapsed": false,
    "ExecuteTime": {
     "end_time": "2023-11-08T08:55:05.415028900Z",
     "start_time": "2023-11-08T08:55:04.998529300Z"
    }
   }
  },
  {
   "cell_type": "code",
   "execution_count": 42,
   "outputs": [
    {
     "data": {
      "text/plain": "              t_dat           customer_id  article_id     price  \\\n29030503 2020-07-15       272412481300040   778064028  0.008458   \n29030504 2020-07-15       272412481300040   816592008  0.016932   \n29030505 2020-07-15       272412481300040   621381021  0.033881   \n29030506 2020-07-15       272412481300040   817477003  0.025407   \n29030507 2020-07-15       272412481300040   899088002  0.025407   \n...             ...                   ...         ...       ...   \n8070872  2020-09-22  18438270306572912089   915529003  0.033439   \n8070873  2020-09-22  18438270306572912089   915529005  0.033417   \n8070874  2020-09-22  18438270306572912089   448509014  0.041630   \n8070875  2020-09-22  18438270306572912089   762846027  0.025005   \n8070876  2020-09-22  18438270306572912089   714790020  0.049951   \n\n          sales_channel_id  week  purchased  index  long_tail  sales_count  \n29030503                 1    95        1.0    NaN        NaN          NaN  \n29030504                 1    95        1.0    NaN        NaN          NaN  \n29030505                 1    95        1.0    NaN        NaN          NaN  \n29030506                 1    95        1.0    NaN        NaN          NaN  \n29030507                 1    95        1.0    NaN        NaN          NaN  \n...                    ...   ...        ...    ...        ...          ...  \n8070872                  1   105        0.0   45.0        0.0       2697.0  \n8070873                  1   105        0.0   46.0        0.0        856.0  \n8070874                  1   105        0.0   47.0        0.0      19216.0  \n8070875                  1   105        0.0   48.0        0.0       1260.0  \n8070876                  1   105        0.0   49.0        0.0       8152.0  \n\n[13596621 rows x 10 columns]",
      "text/html": "<div>\n<style scoped>\n    .dataframe tbody tr th:only-of-type {\n        vertical-align: middle;\n    }\n\n    .dataframe tbody tr th {\n        vertical-align: top;\n    }\n\n    .dataframe thead th {\n        text-align: right;\n    }\n</style>\n<table border=\"1\" class=\"dataframe\">\n  <thead>\n    <tr style=\"text-align: right;\">\n      <th></th>\n      <th>t_dat</th>\n      <th>customer_id</th>\n      <th>article_id</th>\n      <th>price</th>\n      <th>sales_channel_id</th>\n      <th>week</th>\n      <th>purchased</th>\n      <th>index</th>\n      <th>long_tail</th>\n      <th>sales_count</th>\n    </tr>\n  </thead>\n  <tbody>\n    <tr>\n      <th>29030503</th>\n      <td>2020-07-15</td>\n      <td>272412481300040</td>\n      <td>778064028</td>\n      <td>0.008458</td>\n      <td>1</td>\n      <td>95</td>\n      <td>1.0</td>\n      <td>NaN</td>\n      <td>NaN</td>\n      <td>NaN</td>\n    </tr>\n    <tr>\n      <th>29030504</th>\n      <td>2020-07-15</td>\n      <td>272412481300040</td>\n      <td>816592008</td>\n      <td>0.016932</td>\n      <td>1</td>\n      <td>95</td>\n      <td>1.0</td>\n      <td>NaN</td>\n      <td>NaN</td>\n      <td>NaN</td>\n    </tr>\n    <tr>\n      <th>29030505</th>\n      <td>2020-07-15</td>\n      <td>272412481300040</td>\n      <td>621381021</td>\n      <td>0.033881</td>\n      <td>1</td>\n      <td>95</td>\n      <td>1.0</td>\n      <td>NaN</td>\n      <td>NaN</td>\n      <td>NaN</td>\n    </tr>\n    <tr>\n      <th>29030506</th>\n      <td>2020-07-15</td>\n      <td>272412481300040</td>\n      <td>817477003</td>\n      <td>0.025407</td>\n      <td>1</td>\n      <td>95</td>\n      <td>1.0</td>\n      <td>NaN</td>\n      <td>NaN</td>\n      <td>NaN</td>\n    </tr>\n    <tr>\n      <th>29030507</th>\n      <td>2020-07-15</td>\n      <td>272412481300040</td>\n      <td>899088002</td>\n      <td>0.025407</td>\n      <td>1</td>\n      <td>95</td>\n      <td>1.0</td>\n      <td>NaN</td>\n      <td>NaN</td>\n      <td>NaN</td>\n    </tr>\n    <tr>\n      <th>...</th>\n      <td>...</td>\n      <td>...</td>\n      <td>...</td>\n      <td>...</td>\n      <td>...</td>\n      <td>...</td>\n      <td>...</td>\n      <td>...</td>\n      <td>...</td>\n      <td>...</td>\n    </tr>\n    <tr>\n      <th>8070872</th>\n      <td>2020-09-22</td>\n      <td>18438270306572912089</td>\n      <td>915529003</td>\n      <td>0.033439</td>\n      <td>1</td>\n      <td>105</td>\n      <td>0.0</td>\n      <td>45.0</td>\n      <td>0.0</td>\n      <td>2697.0</td>\n    </tr>\n    <tr>\n      <th>8070873</th>\n      <td>2020-09-22</td>\n      <td>18438270306572912089</td>\n      <td>915529005</td>\n      <td>0.033417</td>\n      <td>1</td>\n      <td>105</td>\n      <td>0.0</td>\n      <td>46.0</td>\n      <td>0.0</td>\n      <td>856.0</td>\n    </tr>\n    <tr>\n      <th>8070874</th>\n      <td>2020-09-22</td>\n      <td>18438270306572912089</td>\n      <td>448509014</td>\n      <td>0.041630</td>\n      <td>1</td>\n      <td>105</td>\n      <td>0.0</td>\n      <td>47.0</td>\n      <td>0.0</td>\n      <td>19216.0</td>\n    </tr>\n    <tr>\n      <th>8070875</th>\n      <td>2020-09-22</td>\n      <td>18438270306572912089</td>\n      <td>762846027</td>\n      <td>0.025005</td>\n      <td>1</td>\n      <td>105</td>\n      <td>0.0</td>\n      <td>48.0</td>\n      <td>0.0</td>\n      <td>1260.0</td>\n    </tr>\n    <tr>\n      <th>8070876</th>\n      <td>2020-09-22</td>\n      <td>18438270306572912089</td>\n      <td>714790020</td>\n      <td>0.049951</td>\n      <td>1</td>\n      <td>105</td>\n      <td>0.0</td>\n      <td>49.0</td>\n      <td>0.0</td>\n      <td>8152.0</td>\n    </tr>\n  </tbody>\n</table>\n<p>13596621 rows × 10 columns</p>\n</div>"
     },
     "execution_count": 42,
     "metadata": {},
     "output_type": "execute_result"
    }
   ],
   "source": [
    "data"
   ],
   "metadata": {
    "collapsed": false,
    "ExecuteTime": {
     "end_time": "2023-11-08T08:55:05.426528300Z",
     "start_time": "2023-11-08T08:55:05.415527200Z"
    }
   }
  },
  {
   "cell_type": "code",
   "execution_count": 43,
   "outputs": [],
   "source": [
    "data.drop_duplicates(['customer_id', 'article_id', 'week'], inplace=True)"
   ],
   "metadata": {
    "collapsed": false,
    "ExecuteTime": {
     "end_time": "2023-11-08T08:55:08.528028900Z",
     "start_time": "2023-11-08T08:55:05.425027100Z"
    }
   }
  },
  {
   "cell_type": "code",
   "execution_count": 44,
   "outputs": [
    {
     "data": {
      "text/plain": "0.19145887405044987"
     },
     "execution_count": 44,
     "metadata": {},
     "output_type": "execute_result"
    }
   ],
   "source": [
    "data.purchased.mean()\n"
   ],
   "metadata": {
    "collapsed": false,
    "ExecuteTime": {
     "end_time": "2023-11-08T08:55:08.571027800Z",
     "start_time": "2023-11-08T08:55:08.528529Z"
    }
   }
  },
  {
   "cell_type": "markdown",
   "source": [
    "### Add bestseller information\n"
   ],
   "metadata": {
    "collapsed": false
   }
  },
  {
   "cell_type": "code",
   "execution_count": 45,
   "outputs": [],
   "source": [
    "data = pd.merge(\n",
    "    data,\n",
    "    bestsellers_previous_week[['week', 'article_id', 'bestseller_rank']],\n",
    "    on=['week', 'article_id'],\n",
    "    how='left'\n",
    ")"
   ],
   "metadata": {
    "collapsed": false,
    "ExecuteTime": {
     "end_time": "2023-11-08T08:55:09.967030400Z",
     "start_time": "2023-11-08T08:55:08.570029500Z"
    }
   }
  },
  {
   "cell_type": "code",
   "execution_count": 46,
   "outputs": [],
   "source": [
    "data = data[data.week != data.week.min()]\n",
    "data.bestseller_rank.fillna(999, inplace=True)"
   ],
   "metadata": {
    "collapsed": false,
    "ExecuteTime": {
     "end_time": "2023-11-08T08:55:10.622028200Z",
     "start_time": "2023-11-08T08:55:09.967030400Z"
    }
   }
  },
  {
   "cell_type": "code",
   "execution_count": 47,
   "outputs": [],
   "source": [
    "data = pd.merge(data, articles, on='article_id', how='left')\n",
    "data = pd.merge(data, customers, on='customer_id', how='left')"
   ],
   "metadata": {
    "collapsed": false,
    "ExecuteTime": {
     "end_time": "2023-11-08T08:55:16.878029700Z",
     "start_time": "2023-11-08T08:55:10.621528400Z"
    }
   }
  },
  {
   "cell_type": "code",
   "execution_count": 48,
   "outputs": [],
   "source": [
    "data.sort_values(['week', 'customer_id'], inplace=True)\n",
    "data.reset_index(drop=True, inplace=True)"
   ],
   "metadata": {
    "collapsed": false,
    "ExecuteTime": {
     "end_time": "2023-11-08T08:55:19.982527500Z",
     "start_time": "2023-11-08T08:55:16.880029300Z"
    }
   }
  },
  {
   "cell_type": "code",
   "execution_count": 49,
   "outputs": [],
   "source": [
    "train = data[data.week != test_week]\n",
    "test = data[data.week==test_week].drop_duplicates(['customer_id', 'article_id', 'sales_channel_id']).copy()"
   ],
   "metadata": {
    "collapsed": false,
    "ExecuteTime": {
     "end_time": "2023-11-08T08:55:22.774027900Z",
     "start_time": "2023-11-08T08:55:19.983526400Z"
    }
   }
  },
  {
   "cell_type": "code",
   "execution_count": 50,
   "outputs": [],
   "source": [
    "train_baskets = train.groupby(['week', 'customer_id'])['article_id'].count().values"
   ],
   "metadata": {
    "collapsed": false,
    "ExecuteTime": {
     "end_time": "2023-11-08T08:55:23.133527200Z",
     "start_time": "2023-11-08T08:55:22.775528500Z"
    }
   }
  },
  {
   "cell_type": "code",
   "execution_count": 51,
   "outputs": [],
   "source": [
    "columns_to_use = ['article_id', 'product_type_no', 'graphical_appearance_no', 'colour_group_code', 'perceived_colour_value_id',\n",
    "'perceived_colour_master_id', 'department_no', 'index_code',\n",
    "'index_group_no', 'section_no', 'garment_group_no', 'FN', 'Active',\n",
    "'club_member_status', 'fashion_news_frequency', 'age', 'postal_code', 'bestseller_rank']"
   ],
   "metadata": {
    "collapsed": false,
    "ExecuteTime": {
     "end_time": "2023-11-08T08:55:23.143528900Z",
     "start_time": "2023-11-08T08:55:23.134527800Z"
    }
   }
  },
  {
   "cell_type": "code",
   "execution_count": 52,
   "outputs": [
    {
     "name": "stdout",
     "output_type": "stream",
     "text": [
      "CPU times: total: 172 ms\n",
      "Wall time: 173 ms\n"
     ]
    }
   ],
   "source": [
    "%%time\n",
    "\n",
    "train_X = train[columns_to_use]\n",
    "train_y = train['purchased']\n",
    "\n",
    "test_X = test[columns_to_use]"
   ],
   "metadata": {
    "collapsed": false,
    "ExecuteTime": {
     "end_time": "2023-11-08T08:55:23.319028200Z",
     "start_time": "2023-11-08T08:55:23.139027800Z"
    }
   }
  },
  {
   "cell_type": "code",
   "execution_count": 53,
   "outputs": [],
   "source": [
    "# Model training\n"
   ],
   "metadata": {
    "collapsed": false,
    "ExecuteTime": {
     "end_time": "2023-11-08T08:55:23.321527Z",
     "start_time": "2023-11-08T08:55:23.318527800Z"
    }
   }
  },
  {
   "cell_type": "code",
   "execution_count": 54,
   "outputs": [],
   "source": [
    "from lightgbm.sklearn import LGBMRanker"
   ],
   "metadata": {
    "collapsed": false,
    "ExecuteTime": {
     "end_time": "2023-11-08T08:55:23.545527400Z",
     "start_time": "2023-11-08T08:55:23.322026800Z"
    }
   }
  },
  {
   "cell_type": "code",
   "execution_count": 55,
   "outputs": [],
   "source": [
    "ranker = LGBMRanker(\n",
    "    objective=\"lambdarank\",\n",
    "    metric=\"ndcg\",\n",
    "    boosting_type=\"dart\",\n",
    "    n_estimators=1,\n",
    "    importance_type='gain',\n",
    "    verbose=10\n",
    ")"
   ],
   "metadata": {
    "collapsed": false,
    "ExecuteTime": {
     "end_time": "2023-11-08T08:55:23.549027100Z",
     "start_time": "2023-11-08T08:55:23.546027400Z"
    }
   }
  },
  {
   "cell_type": "code",
   "execution_count": 56,
   "outputs": [
    {
     "name": "stdout",
     "output_type": "stream",
     "text": [
      "[LightGBM] [Debug] Dataset::GetMultiBinFromAllFeatures: sparse rate 0.110149\n",
      "[LightGBM] [Debug] init for col-wise cost 0.000019 seconds, init for row-wise cost 0.160493 seconds\n",
      "[LightGBM] [Info] Auto-choosing row-wise multi-threading, the overhead of testing was 0.053873 seconds.\n",
      "You can set `force_row_wise=true` to remove the overhead.\n",
      "And if memory is not enough, you can set `force_col_wise=true`.\n",
      "[LightGBM] [Debug] Using Dense Multi-Val Bin\n",
      "[LightGBM] [Info] Total Bins 1092\n",
      "[LightGBM] [Info] Number of data points in the train set: 6101375, number of used features: 18\n",
      "[LightGBM] [Debug] Trained a tree with leaves = 31 and depth = 10\n",
      "CPU times: total: 12.1 s\n",
      "Wall time: 2.32 s\n"
     ]
    }
   ],
   "source": [
    "%%time\n",
    "\n",
    "ranker = ranker.fit(\n",
    "    train_X,\n",
    "    train_y,\n",
    "    group=train_baskets,\n",
    ")"
   ],
   "metadata": {
    "collapsed": false,
    "ExecuteTime": {
     "end_time": "2023-11-08T08:55:25.898435600Z",
     "start_time": "2023-11-08T08:55:23.549527400Z"
    }
   }
  },
  {
   "cell_type": "code",
   "execution_count": 57,
   "outputs": [
    {
     "name": "stdout",
     "output_type": "stream",
     "text": [
      "bestseller_rank 0.996693283714759\n",
      "age 0.0009898252975102466\n",
      "article_id 0.0006328531011281351\n",
      "postal_code 0.000395100770146758\n",
      "club_member_status 0.00037221787482013196\n",
      "department_no 0.0002597253314254633\n",
      "Active 0.00019288863474224455\n",
      "colour_group_code 0.00016829179321106778\n",
      "product_type_no 0.00016582458563520075\n",
      "garment_group_no 9.340582950725811e-05\n",
      "fashion_news_frequency 3.658306711450939e-05\n",
      "FN 0.0\n",
      "section_no 0.0\n",
      "index_code 0.0\n",
      "perceived_colour_master_id 0.0\n",
      "perceived_colour_value_id 0.0\n",
      "graphical_appearance_no 0.0\n",
      "index_group_no 0.0\n"
     ]
    }
   ],
   "source": [
    "for i in ranker.feature_importances_.argsort()[::-1]:\n",
    "    print(columns_to_use[i], ranker.feature_importances_[i]/ranker.feature_importances_.sum())"
   ],
   "metadata": {
    "collapsed": false,
    "ExecuteTime": {
     "end_time": "2023-11-08T08:55:25.911430Z",
     "start_time": "2023-11-08T08:55:25.869430300Z"
    }
   }
  },
  {
   "cell_type": "markdown",
   "source": [
    "# Calculate predictions"
   ],
   "metadata": {
    "collapsed": false
   }
  },
  {
   "cell_type": "code",
   "execution_count": 58,
   "outputs": [
    {
     "name": "stdout",
     "output_type": "stream",
     "text": [
      "CPU times: total: 0 ns\n",
      "Wall time: 0 ns\n"
     ]
    }
   ],
   "source": [
    "%time\n",
    "\n",
    "test['preds'] = ranker.predict(test_X)\n",
    "\n",
    "c_id2predicted_article_ids = test \\\n",
    "    .sort_values(['customer_id', 'preds'], ascending=False) \\\n",
    "    .groupby('customer_id')['article_id'].apply(list).to_dict()\n",
    "\n",
    "bestsellers_last_week = \\\n",
    "    bestsellers_previous_week[bestsellers_previous_week.week == bestsellers_previous_week.week.max()]['article_id'].tolist()"
   ],
   "metadata": {
    "collapsed": false,
    "ExecuteTime": {
     "end_time": "2023-11-08T08:55:33.016548900Z",
     "start_time": "2023-11-08T08:55:25.883430900Z"
    }
   }
  },
  {
   "cell_type": "code",
   "execution_count": 59,
   "outputs": [
    {
     "data": {
      "text/plain": "[924243001,\n 924243002,\n 918522001,\n 923758001,\n 866731001,\n 909370001,\n 751471001,\n 915529003,\n 915529005,\n 448509014,\n 762846027,\n 714790020]"
     },
     "execution_count": 59,
     "metadata": {},
     "output_type": "execute_result"
    }
   ],
   "source": [
    "bestsellers_last_week"
   ],
   "metadata": {
    "collapsed": false,
    "ExecuteTime": {
     "end_time": "2023-11-08T08:55:33.022049800Z",
     "start_time": "2023-11-08T08:55:33.016548900Z"
    }
   }
  },
  {
   "cell_type": "markdown",
   "source": [
    "# Create submission"
   ],
   "metadata": {
    "collapsed": false
   }
  },
  {
   "cell_type": "code",
   "execution_count": 60,
   "outputs": [],
   "source": [
    "sub = pd.read_csv(utils.path + \"sample_submission.csv\")"
   ],
   "metadata": {
    "collapsed": false,
    "ExecuteTime": {
     "end_time": "2023-11-08T08:55:34.808048Z",
     "start_time": "2023-11-08T08:55:33.020548100Z"
    }
   }
  },
  {
   "cell_type": "code",
   "execution_count": 61,
   "outputs": [
    {
     "name": "stdout",
     "output_type": "stream",
     "text": [
      "CPU times: total: 2.88 s\n",
      "Wall time: 2.87 s\n"
     ]
    }
   ],
   "source": [
    "%%time\n",
    "preds = []\n",
    "for c_id in utils.customer_hex_id_to_int(sub.customer_id):\n",
    "    pred = c_id2predicted_article_ids.get(c_id, [])\n",
    "    pred = pred + bestsellers_last_week\n",
    "    preds.append(pred[:12])"
   ],
   "metadata": {
    "collapsed": false,
    "ExecuteTime": {
     "end_time": "2023-11-08T08:55:37.682048400Z",
     "start_time": "2023-11-08T08:55:34.808549800Z"
    }
   }
  },
  {
   "cell_type": "code",
   "execution_count": 62,
   "outputs": [],
   "source": [
    "preds = [' '.join(['0' + str(p) for p in ps]) for ps in preds]\n",
    "sub.prediction = preds"
   ],
   "metadata": {
    "collapsed": false,
    "ExecuteTime": {
     "end_time": "2023-11-08T08:55:39.731049200Z",
     "start_time": "2023-11-08T08:55:37.681548300Z"
    }
   }
  },
  {
   "cell_type": "code",
   "execution_count": 63,
   "outputs": [],
   "source": [
    "sub_name = \"basic_model_submission_K\" + str(K_items) + \".csv.gz\"\n",
    "sub.to_csv(f\"{sub_name}\", index=False)"
   ],
   "metadata": {
    "collapsed": false,
    "ExecuteTime": {
     "end_time": "2023-11-08T08:55:50.885048100Z",
     "start_time": "2023-11-08T08:55:39.727551100Z"
    }
   }
  },
  {
   "cell_type": "markdown",
   "source": [
    "# Evaluation (extra)"
   ],
   "metadata": {
    "collapsed": false
   }
  },
  {
   "cell_type": "code",
   "execution_count": 64,
   "outputs": [],
   "source": [
    "from create_validation import create_validation\n",
    "create_validation()"
   ],
   "metadata": {
    "collapsed": false,
    "ExecuteTime": {
     "end_time": "2023-11-08T08:55:59.703002800Z",
     "start_time": "2023-11-08T08:55:50.885048100Z"
    }
   }
  },
  {
   "cell_type": "markdown",
   "source": [
    "### MAP@12 score"
   ],
   "metadata": {
    "collapsed": false
   }
  },
  {
   "cell_type": "code",
   "execution_count": 65,
   "outputs": [
    {
     "name": "stdout",
     "output_type": "stream",
     "text": [
      "basic_model_submission_K10.csv.gz\n",
      "0.9249087213223713\n"
     ]
    }
   ],
   "source": [
    "from evaluation import eval_sub_MAP\n",
    "\n",
    "MAP12_score = eval_sub_MAP(sub_name)\n",
    "print(sub_name)\n",
    "print(MAP12_score)"
   ],
   "metadata": {
    "collapsed": false,
    "ExecuteTime": {
     "end_time": "2023-11-08T08:56:07.451003100Z",
     "start_time": "2023-11-08T08:55:59.708002800Z"
    }
   }
  },
  {
   "cell_type": "markdown",
   "source": [],
   "metadata": {
    "collapsed": false
   }
  }
 ],
 "metadata": {
  "kernelspec": {
   "display_name": "Python 3",
   "language": "python",
   "name": "python3"
  },
  "language_info": {
   "codemirror_mode": {
    "name": "ipython",
    "version": 2
   },
   "file_extension": ".py",
   "mimetype": "text/x-python",
   "name": "python",
   "nbconvert_exporter": "python",
   "pygments_lexer": "ipython2",
   "version": "2.7.6"
  }
 },
 "nbformat": 4,
 "nbformat_minor": 0
}
