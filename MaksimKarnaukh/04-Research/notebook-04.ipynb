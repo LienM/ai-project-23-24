{
 "metadata": {
  "kernelspec": {
   "display_name": "Python 3",
   "language": "python",
   "name": "python3"
  },
  "language_info": {
   "name": "python",
   "version": "3.10.12",
   "mimetype": "text/x-python",
   "codemirror_mode": {
    "name": "ipython",
    "version": 3
   },
   "pygments_lexer": "ipython3",
   "nbconvert_exporter": "python",
   "file_extension": ".py"
  },
  "papermill": {
   "default_parameters": {},
   "duration": 185.112876,
   "end_time": "2022-04-16T17:01:37.553573",
   "environment_variables": {},
   "exception": null,
   "input_path": "__notebook__.ipynb",
   "output_path": "__notebook__.ipynb",
   "parameters": {},
   "start_time": "2022-04-16T16:58:32.440697",
   "version": "2.3.4"
  }
 },
 "nbformat_minor": 5,
 "nbformat": 4,
 "cells": [
  {
   "cell_type": "markdown",
   "source": [
    "Radek posted about this [here](https://www.kaggle.com/competitions/h-and-m-personalized-fashion-recommendations/discussion/309220), and linked to a GitHub repo with the code.\n",
    "\n",
    "I just transferred that code here to Kaggle notebooks, that's all."
   ],
   "metadata": {
    "papermill": {
     "duration": 0.052947,
     "end_time": "2022-04-16T16:58:42.297492",
     "exception": false,
     "start_time": "2022-04-16T16:58:42.244545",
     "status": "completed"
    },
    "tags": []
   },
   "id": "1c494b88382cd063"
  },
  {
   "cell_type": "code",
   "source": [
    "import numpy as np\n",
    "\n",
    "def apk(actual, predicted, k=10):\n",
    "    \"\"\"\n",
    "    Computes the average precision at k.\n",
    "\n",
    "    This function computes the average prescision at k between two lists of\n",
    "    items.\n",
    "\n",
    "    Parameters\n",
    "    ----------\n",
    "    actual : list\n",
    "             A list of elements that are to be predicted (order doesn't matter)\n",
    "    predicted : list\n",
    "                A list of predicted elements (order does matter)\n",
    "    k : int, optional\n",
    "        The maximum number of predicted elements\n",
    "\n",
    "    Returns\n",
    "    -------\n",
    "    score : double\n",
    "            The average precision at k over the input lists\n",
    "\n",
    "    \"\"\"\n",
    "    if len(predicted)>k:\n",
    "        predicted = predicted[:k]\n",
    "\n",
    "    score = 0.0\n",
    "    num_hits = 0.0\n",
    "\n",
    "    for i,p in enumerate(predicted):\n",
    "        if p in actual and p not in predicted[:i]:\n",
    "            num_hits += 1.0\n",
    "            score += num_hits / (i+1.0)\n",
    "\n",
    "    if not actual:\n",
    "        return 0.0\n",
    "\n",
    "    return score / min(len(actual), k)\n",
    "\n",
    "def mapk(actual, predicted, k=10):\n",
    "    \"\"\"\n",
    "    Computes the mean average precision at k.\n",
    "\n",
    "    This function computes the mean average prescision at k between two lists\n",
    "    of lists of items.\n",
    "\n",
    "    Parameters\n",
    "    ----------\n",
    "    actual : list\n",
    "             A list of lists of elements that are to be predicted \n",
    "             (order doesn't matter in the lists)\n",
    "    predicted : list\n",
    "                A list of lists of predicted elements\n",
    "                (order matters in the lists)\n",
    "    k : int, optional\n",
    "        The maximum number of predicted elements\n",
    "\n",
    "    Returns\n",
    "    -------\n",
    "    score : double\n",
    "            The mean average precision at k over the input lists\n",
    "\n",
    "    \"\"\"\n",
    "    return np.mean([apk(a,p,k) for a,p in zip(actual, predicted)])"
   ],
   "metadata": {
    "papermill": {
     "duration": 0.085968,
     "end_time": "2022-04-16T16:58:42.429535",
     "exception": false,
     "start_time": "2022-04-16T16:58:42.343567",
     "status": "completed"
    },
    "tags": [],
    "execution": {
     "iopub.status.busy": "2023-10-11T08:02:33.314155Z",
     "iopub.execute_input": "2023-10-11T08:02:33.314553Z",
     "iopub.status.idle": "2023-10-11T08:02:33.324352Z",
     "shell.execute_reply.started": "2023-10-11T08:02:33.314527Z",
     "shell.execute_reply": "2023-10-11T08:02:33.323182Z"
    },
    "trusted": true,
    "ExecuteTime": {
     "end_time": "2023-11-07T21:06:39.539247200Z",
     "start_time": "2023-11-07T21:06:39.400752200Z"
    }
   },
   "execution_count": 1,
   "outputs": [],
   "id": "2b9ff34659d7d9c3"
  },
  {
   "cell_type": "code",
   "source": [
    "from sklearn.base import BaseEstimator, TransformerMixin\n",
    "import numpy as np\n",
    "\n",
    "# https://www.kaggle.com/c/h-and-m-personalized-fashion-recommendations/discussion/308635\n",
    "def customer_hex_id_to_int(series):\n",
    "    return series.str[-16:].apply(hex_id_to_int)\n",
    "\n",
    "def hex_id_to_int(str):\n",
    "    return int(str[-16:], 16)\n",
    "\n",
    "def article_id_str_to_int(series):\n",
    "    return series.astype('int32')\n",
    "\n",
    "def article_id_int_to_str(series):\n",
    "    return '0' + series.astype('str')\n",
    "\n",
    "class Categorize(BaseEstimator, TransformerMixin):\n",
    "    def __init__(self, min_examples=0):\n",
    "        self.min_examples = min_examples\n",
    "        self.categories = []\n",
    "        \n",
    "    def fit(self, X):\n",
    "        for i in range(X.shape[1]):\n",
    "            vc = X.iloc[:, i].value_counts()\n",
    "            self.categories.append(vc[vc > self.min_examples].index.tolist())\n",
    "        return self\n",
    "\n",
    "    def transform(self, X):\n",
    "        data = {X.columns[i]: pd.Categorical(X.iloc[:, i], categories=self.categories[i]).codes for i in range(X.shape[1])}\n",
    "        return pd.DataFrame(data=data)\n",
    "\n",
    "\n",
    "def calculate_apk(list_of_preds, list_of_gts):\n",
    "    # for fast validation this can be changed to operate on dicts of {'cust_id_int': [art_id_int, ...]}\n",
    "    # using 'data/val_week_purchases_by_cust.pkl'\n",
    "    apks = []\n",
    "    for preds, gt in zip(list_of_preds, list_of_gts):\n",
    "        apks.append(apk(gt, preds, k=12))\n",
    "    return np.mean(apks)\n",
    "\n",
    "def eval_sub(sub_csv, skip_cust_with_no_purchases=True):\n",
    "    sub=pd.read_csv(sub_csv)\n",
    "    validation_set=pd.read_parquet('data/validation_ground_truth.parquet')\n",
    "\n",
    "    apks = []\n",
    "\n",
    "    no_purchases_pattern = []\n",
    "    for pred, gt in zip(sub.prediction.str.split(), validation_set.prediction.str.split()):\n",
    "        if skip_cust_with_no_purchases and (gt == no_purchases_pattern): continue\n",
    "        apks.append(apk(gt, pred, k=12))\n",
    "    return np.mean(apks)"
   ],
   "metadata": {
    "papermill": {
     "duration": 1.348449,
     "end_time": "2022-04-16T16:58:43.828990",
     "exception": false,
     "start_time": "2022-04-16T16:58:42.480541",
     "status": "completed"
    },
    "tags": [],
    "execution": {
     "iopub.status.busy": "2023-10-11T08:02:33.363111Z",
     "iopub.execute_input": "2023-10-11T08:02:33.363887Z",
     "iopub.status.idle": "2023-10-11T08:02:33.430110Z",
     "shell.execute_reply.started": "2023-10-11T08:02:33.363843Z",
     "shell.execute_reply": "2023-10-11T08:02:33.429142Z"
    },
    "trusted": true,
    "ExecuteTime": {
     "end_time": "2023-11-07T21:06:39.727670100Z",
     "start_time": "2023-11-07T21:06:39.466176200Z"
    }
   },
   "execution_count": 2,
   "outputs": [],
   "id": "a3e90c217d7a3257"
  },
  {
   "cell_type": "code",
   "source": [
    "import pandas as pd\n",
    "\n",
    "transactions = pd.read_parquet('../input/transactions_train.parquet')\n",
    "customers = pd.read_parquet('../input/customers.parquet')\n",
    "articles = pd.read_parquet('../input/articles.parquet')\n",
    "\n",
    "test_week = transactions.week.max() # + 1\n",
    "transactions = transactions[transactions.week > transactions.week.max() - 2]\n"
   ],
   "metadata": {
    "papermill": {
     "duration": 9.279307,
     "end_time": "2022-04-16T16:58:53.289550",
     "exception": false,
     "start_time": "2022-04-16T16:58:44.010243",
     "status": "completed"
    },
    "tags": [],
    "execution": {
     "iopub.status.busy": "2023-10-11T08:02:33.432368Z",
     "iopub.execute_input": "2023-10-11T08:02:33.433121Z",
     "iopub.status.idle": "2023-10-11T08:02:37.691627Z",
     "shell.execute_reply.started": "2023-10-11T08:02:33.433081Z",
     "shell.execute_reply": "2023-10-11T08:02:37.690543Z"
    },
    "trusted": true,
    "ExecuteTime": {
     "end_time": "2023-11-07T21:06:41.551360700Z",
     "start_time": "2023-11-07T21:06:39.727670100Z"
    }
   },
   "execution_count": 3,
   "outputs": [],
   "id": "ea3486ea109915fd"
  },
  {
   "cell_type": "code",
   "execution_count": 4,
   "outputs": [
    {
     "data": {
      "text/plain": "              t_dat           customer_id  article_id     price  \\\n31317806 2020-09-09      4920151714340210   564358058  0.033881   \n31317807 2020-09-09      4920151714340210   568601044  0.050831   \n31317808 2020-09-09      4920151714340210   779781013  0.042356   \n31317809 2020-09-09      4920151714340210   843465004  0.050831   \n31317810 2020-09-09      4920151714340210   715828013  0.033881   \n...             ...                   ...         ...       ...   \n31774722 2020-09-22  18439937050817258297   891591003  0.084729   \n31774723 2020-09-22  18439937050817258297   869706005  0.084729   \n31779097 2020-09-22  18440902715633436014   918894002  0.016932   \n31779098 2020-09-22  18440902715633436014   761269001  0.016932   \n31780475 2020-09-22  18443633011701112574   914868002  0.033881   \n\n          sales_channel_id  week  \n31317806                 1   103  \n31317807                 1   103  \n31317808                 1   103  \n31317809                 1   103  \n31317810                 1   103  \n...                    ...   ...  \n31774722                 2   104  \n31774723                 2   104  \n31779097                 1   104  \n31779098                 1   104  \n31780475                 1   104  \n\n[495552 rows x 6 columns]",
      "text/html": "<div>\n<style scoped>\n    .dataframe tbody tr th:only-of-type {\n        vertical-align: middle;\n    }\n\n    .dataframe tbody tr th {\n        vertical-align: top;\n    }\n\n    .dataframe thead th {\n        text-align: right;\n    }\n</style>\n<table border=\"1\" class=\"dataframe\">\n  <thead>\n    <tr style=\"text-align: right;\">\n      <th></th>\n      <th>t_dat</th>\n      <th>customer_id</th>\n      <th>article_id</th>\n      <th>price</th>\n      <th>sales_channel_id</th>\n      <th>week</th>\n    </tr>\n  </thead>\n  <tbody>\n    <tr>\n      <th>31317806</th>\n      <td>2020-09-09</td>\n      <td>4920151714340210</td>\n      <td>564358058</td>\n      <td>0.033881</td>\n      <td>1</td>\n      <td>103</td>\n    </tr>\n    <tr>\n      <th>31317807</th>\n      <td>2020-09-09</td>\n      <td>4920151714340210</td>\n      <td>568601044</td>\n      <td>0.050831</td>\n      <td>1</td>\n      <td>103</td>\n    </tr>\n    <tr>\n      <th>31317808</th>\n      <td>2020-09-09</td>\n      <td>4920151714340210</td>\n      <td>779781013</td>\n      <td>0.042356</td>\n      <td>1</td>\n      <td>103</td>\n    </tr>\n    <tr>\n      <th>31317809</th>\n      <td>2020-09-09</td>\n      <td>4920151714340210</td>\n      <td>843465004</td>\n      <td>0.050831</td>\n      <td>1</td>\n      <td>103</td>\n    </tr>\n    <tr>\n      <th>31317810</th>\n      <td>2020-09-09</td>\n      <td>4920151714340210</td>\n      <td>715828013</td>\n      <td>0.033881</td>\n      <td>1</td>\n      <td>103</td>\n    </tr>\n    <tr>\n      <th>...</th>\n      <td>...</td>\n      <td>...</td>\n      <td>...</td>\n      <td>...</td>\n      <td>...</td>\n      <td>...</td>\n    </tr>\n    <tr>\n      <th>31774722</th>\n      <td>2020-09-22</td>\n      <td>18439937050817258297</td>\n      <td>891591003</td>\n      <td>0.084729</td>\n      <td>2</td>\n      <td>104</td>\n    </tr>\n    <tr>\n      <th>31774723</th>\n      <td>2020-09-22</td>\n      <td>18439937050817258297</td>\n      <td>869706005</td>\n      <td>0.084729</td>\n      <td>2</td>\n      <td>104</td>\n    </tr>\n    <tr>\n      <th>31779097</th>\n      <td>2020-09-22</td>\n      <td>18440902715633436014</td>\n      <td>918894002</td>\n      <td>0.016932</td>\n      <td>1</td>\n      <td>104</td>\n    </tr>\n    <tr>\n      <th>31779098</th>\n      <td>2020-09-22</td>\n      <td>18440902715633436014</td>\n      <td>761269001</td>\n      <td>0.016932</td>\n      <td>1</td>\n      <td>104</td>\n    </tr>\n    <tr>\n      <th>31780475</th>\n      <td>2020-09-22</td>\n      <td>18443633011701112574</td>\n      <td>914868002</td>\n      <td>0.033881</td>\n      <td>1</td>\n      <td>104</td>\n    </tr>\n  </tbody>\n</table>\n<p>495552 rows × 6 columns</p>\n</div>"
     },
     "execution_count": 4,
     "metadata": {},
     "output_type": "execute_result"
    }
   ],
   "source": [
    "transactions"
   ],
   "metadata": {
    "collapsed": false,
    "ExecuteTime": {
     "end_time": "2023-11-07T21:06:41.568143100Z",
     "start_time": "2023-11-07T21:06:41.552364400Z"
    }
   },
   "id": "9897630c260c305e"
  },
  {
   "cell_type": "markdown",
   "source": [
    "# Generating candidates"
   ],
   "metadata": {
    "papermill": {
     "duration": 0.04664,
     "end_time": "2022-04-16T16:58:53.778482",
     "exception": false,
     "start_time": "2022-04-16T16:58:53.731842",
     "status": "completed"
    },
    "tags": []
   },
   "id": "db3c9bcadb9cda9b"
  },
  {
   "cell_type": "markdown",
   "source": [
    "### Last purchase candidates"
   ],
   "metadata": {
    "papermill": {
     "duration": 0.047255,
     "end_time": "2022-04-16T16:58:53.872805",
     "exception": false,
     "start_time": "2022-04-16T16:58:53.825550",
     "status": "completed"
    },
    "tags": []
   },
   "id": "b53210a64303217c"
  },
  {
   "cell_type": "code",
   "execution_count": 5,
   "outputs": [],
   "source": [
    "import pandas as pd\n",
    "import numpy as np\n",
    "import torch\n",
    "import torch.nn as nn\n",
    "import torch.optim as optim\n",
    "from sklearn.model_selection import train_test_split\n",
    "\n",
    "# transactions = pd.DataFrame({\n",
    "#     'customer_id': [1, 1, 1, 2, 2, 3, 3, 3, 3],\n",
    "#     'article_id': [11, 22, 33, 11, 22, 11, 22, 33, 44],\n",
    "# })\n",
    "# user_ids = transactions['customer_id'].unique()\n",
    "# article_ids = transactions['article_id'].unique()\n",
    "# # Create a mapping from user and article IDs to non-negative integers\n",
    "# user_id_to_index = {customer_id: i for i, customer_id in enumerate(user_ids)}\n",
    "# item_id_to_index = {article_id: i for i, article_id in enumerate(article_ids)}\n",
    "# \n",
    "# # Update the interaction DataFrame with non-negative integer indices\n",
    "# transactions['customer_id'] = transactions['customer_id'].map(user_id_to_index)\n",
    "# transactions['article_id'] = transactions['article_id'].map(item_id_to_index)\n",
    "# print(transactions)\n",
    "# num_users = transactions['customer_id'].nunique()\n",
    "# num_items = transactions['article_id'].nunique()\n",
    "# # create a small example matrix that represents the user-item interaction matrix\n",
    "# interactions = np.zeros((num_users, num_items), dtype=np.float32)\n",
    "# for _, row in transactions.iterrows():\n",
    "#     user_id = row['customer_id']\n",
    "#     item_id = row['article_id']\n",
    "#     interactions[user_id, item_id] = 1.0\n",
    "#     \n",
    "# # print interactions np adjacency matrix in a table form\n",
    "# print(interactions)\n",
    "#     \n",
    "# # draw this matrix in graph form\n",
    "# import networkx as nx\n",
    "# import matplotlib.pyplot as plt\n",
    "# \n",
    "# # create graph from biadjacency matrix, where rows are users and columns are items\n",
    "# \n",
    "# # create a graph and then loop over the adjacency matrix and add edges where there is an interaction\n",
    "# G = nx.Graph()\n",
    "# \n",
    "# for i in range(interactions.shape[0]):\n",
    "#     for j in range(interactions.shape[1]):\n",
    "#         if interactions[i, j] == 1:\n",
    "#             G.add_edge(i, j + num_users)\n",
    "#                         \n",
    "# # draw the bipartite graph\n",
    "# nx.draw(G, with_labels=True)\n",
    "# plt.show()\n",
    "\n"
   ],
   "metadata": {
    "collapsed": false,
    "ExecuteTime": {
     "end_time": "2023-11-07T21:06:42.823998700Z",
     "start_time": "2023-11-07T21:06:41.569645500Z"
    }
   },
   "id": "32278ade542abeef"
  },
  {
   "cell_type": "code",
   "execution_count": 6,
   "outputs": [],
   "source": [
    "# import pandas as pd\n",
    "# import numpy as np\n",
    "# import torch\n",
    "# import torch.nn as nn\n",
    "# import torch.optim as optim\n",
    "# from sklearn.model_selection import train_test_split\n",
    "# \n",
    "# user_ids = transactions['customer_id'].unique()\n",
    "# article_ids = transactions['article_id'].unique()\n",
    "# interactions_ = transactions[['customer_id', 'article_id']].drop_duplicates()\n",
    "# \n",
    "# # Create a user-item interaction matrix\n",
    "# num_users = transactions['customer_id'].nunique()\n",
    "# num_items = transactions['article_id'].nunique()\n",
    "# \n",
    "# # Create a mapping from user and article IDs to non-negative integers\n",
    "# user_id_to_index = {customer_id: i for i, customer_id in enumerate(user_ids)}\n",
    "# item_id_to_index = {article_id: i for i, article_id in enumerate(article_ids)}\n",
    "# \n",
    "# # map user and article IDs to non-negative integers\n",
    "# interactions_['customer_id'] = interactions_['customer_id'].map(user_id_to_index)\n",
    "# interactions_['article_id'] = interactions_['article_id'].map(item_id_to_index)\n",
    "# interactions = np.zeros((num_users, num_items), dtype=np.float32)\n",
    "# for _, row in interactions_.iterrows():\n",
    "#     user_id = row['customer_id']\n",
    "#     item_id = row['article_id']\n",
    "#     interactions[user_id, item_id] = 1.0\n",
    "# \n",
    "# # Define a simple LightGCN model\n",
    "# class LightGCN(nn.Module):\n",
    "#     def __init__(self, num_users, num_items, embedding_dim):\n",
    "#         super(LightGCN, self).__init__()\n",
    "#         self.embedding_dim = embedding_dim\n",
    "#         self.user_embedding = nn.Embedding(num_users, embedding_dim)\n",
    "#         self.item_embedding = nn.Embedding(num_items, embedding_dim)\n",
    "# \n",
    "#     def forward(self, user_indices, item_indices):\n",
    "#         user_embed = self.user_embedding(user_indices)\n",
    "#         item_embed = self.item_embedding(item_indices)\n",
    "#         return user_embed, item_embed\n",
    "# \n",
    "# # Define training parameters\n",
    "# embedding_dim = 64\n",
    "# num_epochs = 10\n",
    "# learning_rate = 0.001\n",
    "# \n",
    "# # Split data into train and test sets\n",
    "# train_interactions, test_interactions = train_test_split(interactions, test_size=0.2, random_state=42)\n",
    "# \n",
    "# # Initialize the LightGCN model\n",
    "# model = LightGCN(num_users, num_items, embedding_dim)\n",
    "# optimizer = optim.Adam(model.parameters(), lr=learning_rate)\n",
    "# \n",
    "# # Training loop\n",
    "# for epoch in range(num_epochs):\n",
    "#     for user_id in range(num_users):\n",
    "#         for item_id in range(num_items):\n",
    "#             if train_interactions[user_id, item_id] == 1:\n",
    "#                 user_indices = torch.tensor([user_id], dtype=torch.long)\n",
    "#                 item_indices = torch.tensor([item_id], dtype=torch.long)\n",
    "# \n",
    "#                 user_embed, item_embed = model(user_indices, item_indices)\n",
    "#                 \n",
    "#                 # Compute loss (e.g., BPR loss) and perform backpropagation\n",
    "#                 loss = -torch.log(torch.sigmoid(torch.sum(user_embed * item_embed)))\n",
    "#                 optimizer.zero_grad()\n",
    "#                 loss.backward()\n",
    "#                 optimizer.step()\n",
    "# \n",
    "# # Inference for candidate generation\n",
    "# def generate_candidates(user_id, num_candidates=10):\n",
    "#     user_indices = torch.tensor([user_id], dtype=torch.long)\n",
    "#     user_embed, _ = model(user_indices, torch.arange(num_items, dtype=torch.long))\n",
    "#     \n",
    "#     # Calculate scores for all items\n",
    "#     scores = torch.mm(user_embed, model.item_embedding.weight.t())\n",
    "#     scores = torch.sigmoid(scores)\n",
    "#     \n",
    "#     # Get top-k recommended item indices\n",
    "#     _, top_item_indices = torch.topk(scores, num_candidates)\n",
    "#     return top_item_indices.numpy()[0]\n",
    "# \n",
    "# # Evaluate the model\n",
    "# map_scores = []\n",
    "# for user_id in range(num_users):\n",
    "#     recommended_items = generate_candidates(user_id)\n",
    "#     true_items = np.where(test_interactions[user_id] == 1)[0]\n",
    "#     # Calculate MAP score\n",
    "#     map_score = apk(true_items, recommended_items, k=10)\n",
    "#     map_scores.append(map_score)\n",
    "# \n",
    "# # Calculate the mean MAP score\n",
    "# mean_map = np.mean(map_scores)\n",
    "# print(\"Mean Average Precision (MAP):\", mean_map)"
   ],
   "metadata": {
    "collapsed": false,
    "ExecuteTime": {
     "end_time": "2023-11-07T21:06:42.840238800Z",
     "start_time": "2023-11-07T21:06:42.826144700Z"
    }
   },
   "id": "d3493346448cb9ee"
  },
  {
   "cell_type": "code",
   "execution_count": 7,
   "outputs": [],
   "source": [
    "# data = pd.merge(transactions, customers, on='customer_id', how='left')\n",
    "# data = pd.merge(data, articles, on='article_id', how='left')\n",
    "data = transactions.copy()\n",
    "data.sort_values(['week', 'customer_id'], inplace=True)\n",
    "data.reset_index(drop=True, inplace=True)\n",
    "\n",
    "user_ids = data['customer_id'].unique()\n",
    "article_ids = data['article_id'].unique()\n",
    "\n",
    "# Create a mapping from user and article IDs to non-negative integers\n",
    "user_id_to_index = {customer_id: i for i, customer_id in enumerate(user_ids)}\n",
    "item_id_to_index = {article_id: i for i, article_id in enumerate(article_ids)}\n",
    "\n",
    "# map user and article IDs to non-negative integers\n",
    "data['customer_id'] = data['customer_id'].map(user_id_to_index)\n",
    "data['article_id'] = data['article_id'].map(item_id_to_index)\n",
    "\n",
    "train = data[data.week != test_week].drop_duplicates(['customer_id', 'article_id', 'sales_channel_id']).copy()\n",
    "test = data[data.week == test_week].drop_duplicates(['customer_id', 'article_id', 'sales_channel_id']).copy()\n",
    "\n",
    "# make a text file and write (customer_id, article_id) pairs separated by a tab to it from the train dataset\n",
    "with open('../input/train.txt', 'w') as f:\n",
    "    idx = 0\n",
    "    for _, row in train[['customer_id', 'article_id']].iterrows():\n",
    "        f.write(f'{row[\"customer_id\"]}\\t{row[\"article_id\"]}\\n')\n",
    "        if idx == 100:\n",
    "            break\n",
    "        idx += 1\n",
    "        \n",
    "f.close()\n",
    "# do the same for the test dataset\n",
    "with open('../input/test.txt', 'w') as file:\n",
    "    idx = 0\n",
    "    for i, row in test[['customer_id', 'article_id']].iterrows():\n",
    "        file.write(f'{row[\"customer_id\"]}\\t{row[\"article_id\"]}\\n')\n",
    "        if idx == 100:\n",
    "            break\n",
    "        idx += 1\n",
    "        \n",
    "file.close()\n"
   ],
   "metadata": {
    "collapsed": false,
    "ExecuteTime": {
     "end_time": "2023-11-07T21:06:43.377348300Z",
     "start_time": "2023-11-07T21:06:42.842238100Z"
    }
   },
   "id": "edc03c85f8bab8be"
  },
  {
   "cell_type": "code",
   "execution_count": 8,
   "outputs": [],
   "source": [
    "# train"
   ],
   "metadata": {
    "collapsed": false,
    "ExecuteTime": {
     "end_time": "2023-11-07T21:06:43.393441900Z",
     "start_time": "2023-11-07T21:06:43.378347600Z"
    }
   },
   "id": "285eb85e95cf5cba"
  },
  {
   "cell_type": "code",
   "execution_count": 9,
   "outputs": [],
   "source": [
    "# test"
   ],
   "metadata": {
    "collapsed": false,
    "ExecuteTime": {
     "end_time": "2023-11-07T21:06:43.412339800Z",
     "start_time": "2023-11-07T21:06:43.394443600Z"
    }
   },
   "id": "200e1dd457c0a6c"
  },
  {
   "cell_type": "code",
   "execution_count": 10,
   "outputs": [
    {
     "name": "stdout",
     "output_type": "stream",
     "text": [
      "LastFm Sparsity : 3.868428021135469e-09\n",
      "(1362281, 38331)\n",
      "  (0, 0)\t1.0\n",
      "  (1, 1)\t1.0\n",
      "  (1, 2)\t1.0\n",
      "  (1, 3)\t1.0\n",
      "  (2, 4)\t1.0\n",
      "  (2, 5)\t1.0\n",
      "  (3, 6)\t1.0\n",
      "  (3, 7)\t1.0\n",
      "  (4, 8)\t1.0\n",
      "  (4, 9)\t1.0\n",
      "  (5, 10)\t1.0\n",
      "  (6, 11)\t1.0\n",
      "  (7, 12)\t1.0\n",
      "  (7, 13)\t1.0\n",
      "  (7, 14)\t1.0\n",
      "  (7, 15)\t1.0\n",
      "  (7, 16)\t1.0\n",
      "  (8, 17)\t1.0\n",
      "  (8, 18)\t1.0\n",
      "  (8, 19)\t1.0\n",
      "  (8, 20)\t1.0\n",
      "  (8, 21)\t1.0\n",
      "  (9, 22)\t1.0\n",
      "  (9, 23)\t1.0\n",
      "  (10, 24)\t1.0\n",
      "  :\t:\n",
      "  (24, 76)\t1.0\n",
      "  (24, 77)\t1.0\n",
      "  (25, 78)\t1.0\n",
      "  (25, 79)\t1.0\n",
      "  (25, 80)\t1.0\n",
      "  (26, 81)\t1.0\n",
      "  (26, 82)\t1.0\n",
      "  (27, 83)\t1.0\n",
      "  (27, 84)\t1.0\n",
      "  (27, 85)\t1.0\n",
      "  (27, 86)\t1.0\n",
      "  (28, 87)\t1.0\n",
      "  (28, 88)\t1.0\n",
      "  (29, 89)\t1.0\n",
      "  (29, 90)\t1.0\n",
      "  (29, 91)\t1.0\n",
      "  (30, 92)\t1.0\n",
      "  (30, 93)\t1.0\n",
      "  (31, 64)\t1.0\n",
      "  (31, 94)\t1.0\n",
      "  (31, 95)\t1.0\n",
      "  (31, 96)\t1.0\n",
      "  (31, 97)\t1.0\n",
      "  (31, 98)\t1.0\n",
      "  (31, 99)\t1.0\n",
      "LastFm is ready to go\n"
     ]
    }
   ],
   "source": [
    "import model\n",
    "import dataloader\n",
    "\n",
    "dataset = dataloader.LastFM(path=\"../input\")"
   ],
   "metadata": {
    "collapsed": false,
    "ExecuteTime": {
     "end_time": "2023-11-07T21:07:37.528384600Z",
     "start_time": "2023-11-07T21:06:43.410340100Z"
    }
   },
   "id": "954e6976e2b561df"
  },
  {
   "cell_type": "code",
   "execution_count": 11,
   "outputs": [
    {
     "ename": "RuntimeError",
     "evalue": "[enforce fail at alloc_cpu.cpp:80] data. DefaultCPUAllocator: not enough memory: you tried to allocate 7846855898176 bytes.",
     "output_type": "error",
     "traceback": [
      "\u001B[1;31m---------------------------------------------------------------------------\u001B[0m",
      "\u001B[1;31mRuntimeError\u001B[0m                              Traceback (most recent call last)",
      "Cell \u001B[1;32mIn[11], line 1\u001B[0m\n\u001B[1;32m----> 1\u001B[0m lightgcn_model \u001B[38;5;241m=\u001B[39m \u001B[43mmodel\u001B[49m\u001B[38;5;241;43m.\u001B[39;49m\u001B[43mLightGCN\u001B[49m\u001B[43m(\u001B[49m\u001B[43mdataset\u001B[49m\u001B[43m)\u001B[49m\n",
      "File \u001B[1;32m~\\PycharmProjects\\ai-project-23-24\\MaksimKarnaukh\\04-Research\\model.py:44\u001B[0m, in \u001B[0;36mLightGCN.__init__\u001B[1;34m(self, dataset)\u001B[0m\n\u001B[0;32m     42\u001B[0m \u001B[38;5;28mself\u001B[39m\u001B[38;5;241m.\u001B[39mconfig \u001B[38;5;241m=\u001B[39m config\n\u001B[0;32m     43\u001B[0m \u001B[38;5;28mself\u001B[39m\u001B[38;5;241m.\u001B[39mdataset \u001B[38;5;241m=\u001B[39m dataset\n\u001B[1;32m---> 44\u001B[0m \u001B[38;5;28;43mself\u001B[39;49m\u001B[38;5;241;43m.\u001B[39;49m\u001B[43m__init_weight\u001B[49m\u001B[43m(\u001B[49m\u001B[43m)\u001B[49m\n",
      "File \u001B[1;32m~\\PycharmProjects\\ai-project-23-24\\MaksimKarnaukh\\04-Research\\model.py:70\u001B[0m, in \u001B[0;36mLightGCN.__init_weight\u001B[1;34m(self)\u001B[0m\n\u001B[0;32m     68\u001B[0m     \u001B[38;5;28mprint\u001B[39m(\u001B[38;5;124m'\u001B[39m\u001B[38;5;124muse pretarined data\u001B[39m\u001B[38;5;124m'\u001B[39m)\n\u001B[0;32m     69\u001B[0m \u001B[38;5;28mself\u001B[39m\u001B[38;5;241m.\u001B[39mf \u001B[38;5;241m=\u001B[39m nn\u001B[38;5;241m.\u001B[39mSigmoid()\n\u001B[1;32m---> 70\u001B[0m \u001B[38;5;28mself\u001B[39m\u001B[38;5;241m.\u001B[39mGraph \u001B[38;5;241m=\u001B[39m \u001B[38;5;28;43mself\u001B[39;49m\u001B[38;5;241;43m.\u001B[39;49m\u001B[43mdataset\u001B[49m\u001B[38;5;241;43m.\u001B[39;49m\u001B[43mgetSparseGraph\u001B[49m\u001B[43m(\u001B[49m\u001B[43m)\u001B[49m\n\u001B[0;32m     71\u001B[0m \u001B[38;5;28mprint\u001B[39m(\u001B[38;5;124mf\u001B[39m\u001B[38;5;124m\"\u001B[39m\u001B[38;5;124mlgn is already to go(dropout:\u001B[39m\u001B[38;5;132;01m{\u001B[39;00m\u001B[38;5;28mself\u001B[39m\u001B[38;5;241m.\u001B[39mconfig[\u001B[38;5;124m'\u001B[39m\u001B[38;5;124mdropout\u001B[39m\u001B[38;5;124m'\u001B[39m]\u001B[38;5;132;01m}\u001B[39;00m\u001B[38;5;124m)\u001B[39m\u001B[38;5;124m\"\u001B[39m)\n",
      "File \u001B[1;32m~\\PycharmProjects\\ai-project-23-24\\MaksimKarnaukh\\04-Research\\dataloader.py:192\u001B[0m, in \u001B[0;36mLastFM.getSparseGraph\u001B[1;34m(self)\u001B[0m\n\u001B[0;32m    189\u001B[0m data \u001B[38;5;241m=\u001B[39m torch\u001B[38;5;241m.\u001B[39mones(index\u001B[38;5;241m.\u001B[39msize(\u001B[38;5;241m-\u001B[39m\u001B[38;5;241m1\u001B[39m))\u001B[38;5;241m.\u001B[39mint()\n\u001B[0;32m    190\u001B[0m \u001B[38;5;28mself\u001B[39m\u001B[38;5;241m.\u001B[39mGraph \u001B[38;5;241m=\u001B[39m torch\u001B[38;5;241m.\u001B[39msparse_coo_tensor(index, data, torch\u001B[38;5;241m.\u001B[39mSize([\u001B[38;5;28mself\u001B[39m\u001B[38;5;241m.\u001B[39mn_users\u001B[38;5;241m+\u001B[39m\u001B[38;5;28mself\u001B[39m\u001B[38;5;241m.\u001B[39mm_items, \u001B[38;5;28mself\u001B[39m\u001B[38;5;241m.\u001B[39mn_users\u001B[38;5;241m+\u001B[39m\u001B[38;5;28mself\u001B[39m\u001B[38;5;241m.\u001B[39mm_items]))\n\u001B[1;32m--> 192\u001B[0m dense \u001B[38;5;241m=\u001B[39m \u001B[38;5;28;43mself\u001B[39;49m\u001B[38;5;241;43m.\u001B[39;49m\u001B[43mGraph\u001B[49m\u001B[38;5;241;43m.\u001B[39;49m\u001B[43mto_dense\u001B[49m\u001B[43m(\u001B[49m\u001B[43m)\u001B[49m\n\u001B[0;32m    193\u001B[0m D \u001B[38;5;241m=\u001B[39m torch\u001B[38;5;241m.\u001B[39msum(dense, dim\u001B[38;5;241m=\u001B[39m\u001B[38;5;241m1\u001B[39m)\u001B[38;5;241m.\u001B[39mfloat()\n\u001B[0;32m    194\u001B[0m D[D\u001B[38;5;241m==\u001B[39m\u001B[38;5;241m0.\u001B[39m] \u001B[38;5;241m=\u001B[39m \u001B[38;5;241m1.\u001B[39m\n",
      "\u001B[1;31mRuntimeError\u001B[0m: [enforce fail at alloc_cpu.cpp:80] data. DefaultCPUAllocator: not enough memory: you tried to allocate 7846855898176 bytes."
     ]
    }
   ],
   "source": [
    "lightgcn_model = model.LightGCN(dataset)"
   ],
   "metadata": {
    "collapsed": false,
    "ExecuteTime": {
     "end_time": "2023-11-07T21:07:38.441875600Z",
     "start_time": "2023-11-07T21:07:37.529383900Z"
    }
   },
   "id": "e20a23d5f46c0d2e"
  },
  {
   "cell_type": "code",
   "execution_count": null,
   "outputs": [],
   "source": [
    "user_ids = [0, 1, 2] # [272412481300040, 1456826891333599, 2133687643102426]  # Replace with user IDs for which you want recommendations\n",
    "ratings = lightgcn_model.getUsersRating(user_ids)  # Get recommendations for users\n",
    "print(ratings)"
   ],
   "metadata": {
    "collapsed": false,
    "ExecuteTime": {
     "end_time": "2023-11-07T21:07:38.447879400Z",
     "start_time": "2023-11-07T21:07:38.443877100Z"
    }
   },
   "id": "a2441f50482b8a38"
  },
  {
   "cell_type": "code",
   "execution_count": null,
   "outputs": [],
   "source": [
    "# import torch\n",
    "# import torch.nn as nn\n",
    "# import torch.optim as optim\n",
    "# from torch_geometric.data import Data\n",
    "# from torch_geometric.nn import SAGEConv\n",
    "# from torch_geometric.utils import train_test_split\n",
    "# import networkx as nx\n",
    "# import numpy as np\n",
    "# \n",
    "# knowledge_graph = nx.Graph()\n",
    "# knowledge_graph.add_node('CustomerA', type='Customer')\n",
    "# knowledge_graph.add_node('CustomerB', type='Customer')\n",
    "# knowledge_graph.add_node('ArticleX', type='Article')\n",
    "# knowledge_graph.add_node('ArticleY', type='Article')\n",
    "# \n",
    "# knowledge_graph.add_edge('CustomerA', 'ArticleX', interaction='purchased')\n",
    "# knowledge_graph.add_edge('CustomerA', 'ArticleY', interaction='purchased')\n",
    "# knowledge_graph.add_edge('CustomerB', 'ArticleX', interaction='purchased')\n",
    "# \n",
    "# class GraphSAGENet(nn.Module):\n",
    "#     def __init__(self, in_channels, hidden_channels, out_channels):\n",
    "#         super(GraphSAGENet, self).__init__()\n",
    "#         self.conv1 = SAGEConv(in_channels, hidden_channels)\n",
    "#         self.conv2 = SAGEConv(hidden_channels, out_channels)\n",
    "# \n",
    "#     def forward(self, data):\n",
    "#         x, edge_index = data.x, data.edge_index\n",
    "#         x = self.conv1(x, edge_index)\n",
    "#         x = nn.functional.relu(x)\n",
    "#         x = self.conv2(x, edge_index)\n",
    "#         return x\n",
    "# \n",
    "# data = Data(x=torch.eye(4), edge_index=torch.tensor([[0, 0, 1, 1, 2, 3], [2, 3, 2, 3, 0, 1]]).long())\n",
    "# data.train_mask = torch.tensor([0, 1, 2, 3], dtype=torch.bool)\n",
    "# \n",
    "# device = torch.device('cuda' if torch.cuda.is_available() else 'cpu')\n",
    "# model = GraphSAGENet(4, 16, 1).to(device)\n",
    "# optimizer = optim.Adam(model.parameters(), lr=0.01)\n",
    "# criterion = nn.BCEWithLogitsLoss()\n",
    "# \n",
    "# def train(data):\n",
    "#     model.train()\n",
    "#     optimizer.zero_grad()\n",
    "#     out = model(data)\n",
    "#     loss = criterion(out[data.train_mask], data.y[data.train_mask].view(-1, 1).to(torch.float))\n",
    "#     loss.backward()\n",
    "#     optimizer.step()\n",
    "# \n",
    "# for epoch in range(1000):\n",
    "#     train(data)\n",
    "# \n",
    "# def generate_recommendations(data, user_id):\n",
    "#     # You can modify this part to suit your use case\n",
    "#     user_idx = int(user_id[7:])  # Extract the user index from user_id\n",
    "#     user_embeddings = model(data)[user_idx]\n",
    "#     item_scores = torch.matmul(model(data), user_embeddings)\n",
    "#     recommendations = np.argsort(item_scores.cpu().detach().numpy())[::-1]  # Sort in descending order\n",
    "#     return recommendations\n",
    "# \n",
    "# user_id = 'CustomerA'\n",
    "# recommendations = generate_recommendations(data, user_id)\n",
    "# print(f\"Recommendations for {user_id}: {recommendations}\")"
   ],
   "metadata": {
    "collapsed": false,
    "ExecuteTime": {
     "start_time": "2023-11-07T21:07:38.444876300Z"
    }
   },
   "id": "aa13f11566ddb5d1"
  },
  {
   "cell_type": "code",
   "source": [
    "c2weeks = transactions.groupby('customer_id')['week'].unique()\n",
    "c2weeks2shifted_weeks = {}\n",
    "\n",
    "for c_id, weeks in c2weeks.items():\n",
    "    c2weeks2shifted_weeks[c_id] = {}\n",
    "    for i in range(weeks.shape[0]-1):\n",
    "        c2weeks2shifted_weeks[c_id][weeks[i]] = weeks[i+1]\n",
    "    c2weeks2shifted_weeks[c_id][weeks[-1]] = test_week\n",
    "    \n",
    "candidates_last_purchase = transactions.copy()\n",
    "weeks = []\n",
    "for i, (c_id, week) in enumerate(zip(transactions['customer_id'], transactions['week'])):\n",
    "    weeks.append(c2weeks2shifted_weeks[c_id][week])\n",
    "candidates_last_purchase.week=weeks"
   ],
   "metadata": {
    "papermill": {
     "duration": 8.716794,
     "end_time": "2022-04-16T16:59:25.784593",
     "exception": false,
     "start_time": "2022-04-16T16:59:17.067799",
     "status": "completed"
    },
    "tags": [],
    "execution": {
     "iopub.status.busy": "2023-10-11T08:03:04.442232Z",
     "iopub.execute_input": "2023-10-11T08:03:04.442523Z",
     "iopub.status.idle": "2023-10-11T08:03:22.614016Z",
     "shell.execute_reply.started": "2023-10-11T08:03:04.442499Z",
     "shell.execute_reply": "2023-10-11T08:03:22.612552Z"
    },
    "trusted": true,
    "ExecuteTime": {
     "start_time": "2023-11-07T21:07:38.446877700Z"
    }
   },
   "execution_count": null,
   "outputs": [],
   "id": "9fd4547c64950724"
  },
  {
   "cell_type": "code",
   "source": [
    "### Bestsellers candidates\n",
    "mean_price = transactions.groupby(['week', 'article_id'])['price'].mean()\n",
    "sales = transactions \\\n",
    "    .groupby('week')['article_id'].value_counts() \\\n",
    "    .groupby('week').rank(method='dense', ascending=False) \\\n",
    "    .groupby('week').head(12).rename('bestseller_rank').astype('int8')\n",
    "bestsellers_previous_week = pd.merge(sales, mean_price, on=['week', 'article_id']).reset_index()\n",
    "bestsellers_previous_week.week += 1"
   ],
   "metadata": {
    "papermill": {
     "duration": 0.11991,
     "end_time": "2022-04-16T16:59:28.231470",
     "exception": false,
     "start_time": "2022-04-16T16:59:28.111560",
     "status": "completed"
    },
    "tags": [],
    "execution": {
     "iopub.status.busy": "2023-10-11T08:03:25.596069Z",
     "iopub.execute_input": "2023-10-11T08:03:25.596380Z",
     "iopub.status.idle": "2023-10-11T08:03:25.640966Z",
     "shell.execute_reply.started": "2023-10-11T08:03:25.596349Z",
     "shell.execute_reply": "2023-10-11T08:03:25.640019Z"
    },
    "trusted": true,
    "ExecuteTime": {
     "end_time": "2023-11-07T21:07:38.447879400Z",
     "start_time": "2023-11-07T21:07:38.447879400Z"
    }
   },
   "execution_count": null,
   "outputs": [],
   "id": "bf2b1aaa2053ebaa"
  },
  {
   "cell_type": "code",
   "source": [
    "bestsellers_previous_week.pipe(lambda df: df[df['week']==96])"
   ],
   "metadata": {
    "papermill": {
     "duration": 0.089116,
     "end_time": "2022-04-16T16:59:28.399153",
     "exception": false,
     "start_time": "2022-04-16T16:59:28.310037",
     "status": "completed"
    },
    "tags": [],
    "execution": {
     "iopub.status.busy": "2023-10-11T08:03:25.642378Z",
     "iopub.execute_input": "2023-10-11T08:03:25.642812Z",
     "iopub.status.idle": "2023-10-11T08:03:25.654010Z",
     "shell.execute_reply.started": "2023-10-11T08:03:25.642753Z",
     "shell.execute_reply": "2023-10-11T08:03:25.653041Z"
    },
    "trusted": true,
    "ExecuteTime": {
     "start_time": "2023-11-07T21:07:38.449382300Z"
    }
   },
   "execution_count": null,
   "outputs": [],
   "id": "38554d4d96501297"
  },
  {
   "cell_type": "code",
   "source": [
    "unique_transactions = transactions \\\n",
    "    .groupby(['week', 'customer_id']) \\\n",
    "    .head(1) \\\n",
    "    .drop(columns=['article_id', 'price']) \\\n",
    "    .copy()\n",
    "candidates_bestsellers = pd.merge(\n",
    "    unique_transactions,\n",
    "    bestsellers_previous_week,\n",
    "    on='week',\n",
    ")\n",
    "test_set_transactions = unique_transactions.drop_duplicates('customer_id').reset_index(drop=True)\n",
    "test_set_transactions.week = test_week"
   ],
   "metadata": {
    "papermill": {
     "duration": 0.163691,
     "end_time": "2022-04-16T16:59:30.668845",
     "exception": false,
     "start_time": "2022-04-16T16:59:30.505154",
     "status": "completed"
    },
    "tags": [],
    "execution": {
     "iopub.status.busy": "2023-10-11T08:03:27.233086Z",
     "iopub.execute_input": "2023-10-11T08:03:27.233759Z",
     "iopub.status.idle": "2023-10-11T08:03:27.290835Z",
     "shell.execute_reply.started": "2023-10-11T08:03:27.233720Z",
     "shell.execute_reply": "2023-10-11T08:03:27.290007Z"
    },
    "trusted": true,
    "ExecuteTime": {
     "start_time": "2023-11-07T21:07:38.449382300Z"
    }
   },
   "execution_count": null,
   "outputs": [],
   "id": "43f6a7082fae2b06"
  },
  {
   "cell_type": "code",
   "source": [
    "# test_set_transactions"
   ],
   "metadata": {
    "papermill": {
     "duration": 0.098295,
     "end_time": "2022-04-16T16:59:30.846626",
     "exception": false,
     "start_time": "2022-04-16T16:59:30.748331",
     "status": "completed"
    },
    "tags": [],
    "execution": {
     "iopub.status.busy": "2023-10-11T08:03:27.292596Z",
     "iopub.execute_input": "2023-10-11T08:03:27.293638Z",
     "iopub.status.idle": "2023-10-11T08:03:27.302090Z",
     "shell.execute_reply.started": "2023-10-11T08:03:27.293597Z",
     "shell.execute_reply": "2023-10-11T08:03:27.300846Z"
    },
    "trusted": true,
    "ExecuteTime": {
     "start_time": "2023-11-07T21:07:38.451385600Z"
    }
   },
   "execution_count": null,
   "outputs": [],
   "id": "2bee51c080e7d11d"
  },
  {
   "cell_type": "code",
   "source": [
    "candidates_bestsellers_test_week = pd.merge(\n",
    "    test_set_transactions,\n",
    "    bestsellers_previous_week,\n",
    "    on='week'\n",
    ")\n",
    "candidates_bestsellers = pd.concat([candidates_bestsellers, candidates_bestsellers_test_week])\n",
    "candidates_bestsellers.drop(columns='bestseller_rank', inplace=True)"
   ],
   "metadata": {
    "papermill": {
     "duration": 0.570441,
     "end_time": "2022-04-16T16:59:32.058855",
     "exception": false,
     "start_time": "2022-04-16T16:59:31.488414",
     "status": "completed"
    },
    "tags": [],
    "execution": {
     "iopub.status.busy": "2023-10-11T08:03:27.665568Z",
     "iopub.execute_input": "2023-10-11T08:03:27.666052Z",
     "iopub.status.idle": "2023-10-11T08:03:28.402619Z",
     "shell.execute_reply.started": "2023-10-11T08:03:27.666007Z",
     "shell.execute_reply": "2023-10-11T08:03:28.401580Z"
    },
    "trusted": true,
    "ExecuteTime": {
     "start_time": "2023-11-07T21:07:38.452388800Z"
    }
   },
   "execution_count": null,
   "outputs": [],
   "id": "99b980ad8b9e2dad"
  },
  {
   "cell_type": "code",
   "source": [
    "candidates_bestsellers"
   ],
   "metadata": {
    "papermill": {
     "duration": 0.095192,
     "end_time": "2022-04-16T16:59:32.233727",
     "exception": false,
     "start_time": "2022-04-16T16:59:32.138535",
     "status": "completed"
    },
    "tags": [],
    "execution": {
     "iopub.status.busy": "2023-10-11T08:03:28.403915Z",
     "iopub.execute_input": "2023-10-11T08:03:28.404325Z",
     "iopub.status.idle": "2023-10-11T08:03:28.412380Z",
     "shell.execute_reply.started": "2023-10-11T08:03:28.404290Z",
     "shell.execute_reply": "2023-10-11T08:03:28.411231Z"
    },
    "trusted": true,
    "ExecuteTime": {
     "start_time": "2023-11-07T21:07:38.453388600Z"
    }
   },
   "execution_count": null,
   "outputs": [],
   "id": "8ca62bd46a28d851"
  },
  {
   "cell_type": "markdown",
   "source": [
    "# Combining transactions and candidates / negative examples"
   ],
   "metadata": {
    "papermill": {
     "duration": 0.08208,
     "end_time": "2022-04-16T16:59:32.397198",
     "exception": false,
     "start_time": "2022-04-16T16:59:32.315118",
     "status": "completed"
    },
    "tags": []
   },
   "id": "88415118080fdaed"
  },
  {
   "cell_type": "code",
   "source": [
    "transactions['purchased'] = 1\n",
    "data = pd.concat([transactions, candidates_last_purchase, candidates_bestsellers])\n",
    "data.purchased.fillna(0, inplace=True)\n",
    "data.drop_duplicates(['customer_id', 'article_id', 'week'], inplace=True)"
   ],
   "metadata": {
    "papermill": {
     "duration": 7.070271,
     "end_time": "2022-04-16T16:59:40.552624",
     "exception": false,
     "start_time": "2022-04-16T16:59:33.482353",
     "status": "completed"
    },
    "tags": [],
    "execution": {
     "iopub.status.busy": "2023-10-11T08:03:29.013858Z",
     "iopub.execute_input": "2023-10-11T08:03:29.014298Z",
     "iopub.status.idle": "2023-10-11T08:03:35.907805Z",
     "shell.execute_reply.started": "2023-10-11T08:03:29.014259Z",
     "shell.execute_reply": "2023-10-11T08:03:35.906630Z"
    },
    "trusted": true,
    "ExecuteTime": {
     "end_time": "2023-11-07T21:07:38.455388700Z",
     "start_time": "2023-11-07T21:07:38.454388700Z"
    }
   },
   "execution_count": null,
   "outputs": [],
   "id": "79abce01eb35c392"
  },
  {
   "cell_type": "markdown",
   "source": [
    "### Add bestseller information"
   ],
   "metadata": {
    "papermill": {
     "duration": 0.085919,
     "end_time": "2022-04-16T16:59:40.938934",
     "exception": false,
     "start_time": "2022-04-16T16:59:40.853015",
     "status": "completed"
    },
    "tags": []
   },
   "id": "43c893713e721c04"
  },
  {
   "cell_type": "code",
   "source": [
    "data = pd.merge(\n",
    "    data,\n",
    "    bestsellers_previous_week[['week', 'article_id', 'bestseller_rank']],\n",
    "    on=['week', 'article_id'],\n",
    "    how='left'\n",
    ")\n",
    "data = data[data.week != data.week.min()]\n",
    "data.bestseller_rank.fillna(999, inplace=True)\n",
    "data = pd.merge(data, articles, on='article_id', how='left')\n",
    "data = pd.merge(data, customers, on='customer_id', how='left')\n",
    "data.sort_values(['week', 'customer_id'], inplace=True)\n",
    "data.reset_index(drop=True, inplace=True)"
   ],
   "metadata": {
    "papermill": {
     "duration": 6.526551,
     "end_time": "2022-04-16T17:00:17.700139",
     "exception": false,
     "start_time": "2022-04-16T17:00:11.173588",
     "status": "completed"
    },
    "tags": [],
    "execution": {
     "iopub.status.busy": "2023-10-11T08:03:53.360623Z",
     "iopub.execute_input": "2023-10-11T08:03:53.361255Z",
     "iopub.status.idle": "2023-10-11T08:03:58.996101Z",
     "shell.execute_reply.started": "2023-10-11T08:03:53.361181Z",
     "shell.execute_reply": "2023-10-11T08:03:58.994878Z"
    },
    "trusted": true,
    "ExecuteTime": {
     "start_time": "2023-11-07T21:07:38.454388700Z"
    }
   },
   "execution_count": null,
   "outputs": [],
   "id": "cf878ef12e8a2606"
  },
  {
   "cell_type": "code",
   "source": [
    "train = data[data.week != test_week]\n",
    "test = data[data.week==test_week].drop_duplicates(['customer_id', 'article_id', 'sales_channel_id']).copy()"
   ],
   "metadata": {
    "papermill": {
     "duration": 6.711593,
     "end_time": "2022-04-16T17:00:24.465301",
     "exception": false,
     "start_time": "2022-04-16T17:00:17.753708",
     "status": "completed"
    },
    "tags": [],
    "execution": {
     "iopub.status.busy": "2023-10-11T08:03:58.997487Z",
     "iopub.execute_input": "2023-10-11T08:03:58.998061Z",
     "iopub.status.idle": "2023-10-11T08:04:05.048167Z",
     "shell.execute_reply.started": "2023-10-11T08:03:58.998031Z",
     "shell.execute_reply": "2023-10-11T08:04:05.046865Z"
    },
    "trusted": true,
    "ExecuteTime": {
     "end_time": "2023-11-07T21:07:38.455388700Z",
     "start_time": "2023-11-07T21:07:38.455388700Z"
    }
   },
   "execution_count": null,
   "outputs": [],
   "id": "9918b84796200b6e"
  },
  {
   "cell_type": "code",
   "source": [
    "train_baskets = train.groupby(['week', 'customer_id'])['article_id'].count().values"
   ],
   "metadata": {
    "papermill": {
     "duration": 1.036818,
     "end_time": "2022-04-16T17:00:25.556300",
     "exception": false,
     "start_time": "2022-04-16T17:00:24.519482",
     "status": "completed"
    },
    "tags": [],
    "execution": {
     "iopub.status.busy": "2023-10-11T08:04:05.049936Z",
     "iopub.execute_input": "2023-10-11T08:04:05.050282Z",
     "iopub.status.idle": "2023-10-11T08:04:05.826591Z",
     "shell.execute_reply.started": "2023-10-11T08:04:05.050248Z",
     "shell.execute_reply": "2023-10-11T08:04:05.825128Z"
    },
    "trusted": true,
    "ExecuteTime": {
     "start_time": "2023-11-07T21:07:38.456389200Z"
    }
   },
   "execution_count": null,
   "outputs": [],
   "id": "ba7d814dbd464026"
  },
  {
   "cell_type": "code",
   "source": [
    "extra_columns = []\n",
    "columns_to_use = ['article_id', 'product_type_no', 'graphical_appearance_no', 'colour_group_code', 'perceived_colour_value_id',\n",
    "'perceived_colour_master_id', 'department_no', 'index_code',\n",
    "'index_group_no', 'section_no', 'garment_group_no', 'FN', 'Active',\n",
    "'club_member_status', 'fashion_news_frequency', 'age', 'postal_code', 'bestseller_rank']\n",
    "columns_to_use.extend(extra_columns)"
   ],
   "metadata": {
    "papermill": {
     "duration": 0.070485,
     "end_time": "2022-04-16T17:00:25.687322",
     "exception": false,
     "start_time": "2022-04-16T17:00:25.616837",
     "status": "completed"
    },
    "tags": [],
    "execution": {
     "iopub.status.busy": "2023-10-11T08:04:05.828276Z",
     "iopub.execute_input": "2023-10-11T08:04:05.828819Z",
     "iopub.status.idle": "2023-10-11T08:04:05.834579Z",
     "shell.execute_reply.started": "2023-10-11T08:04:05.828659Z",
     "shell.execute_reply": "2023-10-11T08:04:05.833394Z"
    },
    "trusted": true,
    "ExecuteTime": {
     "start_time": "2023-11-07T21:07:38.456389200Z"
    }
   },
   "execution_count": null,
   "outputs": [],
   "id": "a24741570390faec"
  },
  {
   "cell_type": "code",
   "source": [
    "train_X = train[columns_to_use]\n",
    "train_y = train['purchased']\n",
    "\n",
    "test_X = test[columns_to_use]"
   ],
   "metadata": {
    "papermill": {
     "duration": 0.633318,
     "end_time": "2022-04-16T17:00:26.379109",
     "exception": false,
     "start_time": "2022-04-16T17:00:25.745791",
     "status": "completed"
    },
    "tags": [],
    "execution": {
     "iopub.status.busy": "2023-10-11T08:04:05.835768Z",
     "iopub.execute_input": "2023-10-11T08:04:05.836432Z",
     "iopub.status.idle": "2023-10-11T08:04:06.660128Z",
     "shell.execute_reply.started": "2023-10-11T08:04:05.836399Z",
     "shell.execute_reply": "2023-10-11T08:04:06.658324Z"
    },
    "trusted": true,
    "ExecuteTime": {
     "start_time": "2023-11-07T21:07:38.457388900Z"
    }
   },
   "execution_count": null,
   "outputs": [],
   "id": "84918c306f6c2fbf"
  },
  {
   "cell_type": "code",
   "source": [
    "test_X"
   ],
   "metadata": {
    "execution": {
     "iopub.status.busy": "2023-10-11T08:04:06.661241Z",
     "iopub.status.idle": "2023-10-11T08:04:06.661650Z",
     "shell.execute_reply.started": "2023-10-11T08:04:06.661472Z",
     "shell.execute_reply": "2023-10-11T08:04:06.661490Z"
    },
    "trusted": true,
    "ExecuteTime": {
     "start_time": "2023-11-07T21:07:38.458388600Z"
    }
   },
   "execution_count": null,
   "outputs": [],
   "id": "f3d93799760e2fad"
  },
  {
   "cell_type": "markdown",
   "source": [
    "# Model training"
   ],
   "metadata": {
    "papermill": {
     "duration": 0.09573,
     "end_time": "2022-04-16T17:00:26.563647",
     "exception": false,
     "start_time": "2022-04-16T17:00:26.467917",
     "status": "completed"
    },
    "tags": []
   },
   "id": "9b8dfb6049a2a3ff"
  },
  {
   "cell_type": "code",
   "source": [
    "from lightgbm.sklearn import LGBMRanker\n",
    "ranker = LGBMRanker(\n",
    "    objective=\"lambdarank\",\n",
    "    metric=\"ndcg\",\n",
    "    boosting_type=\"dart\",\n",
    "    n_estimators=1,\n",
    "    importance_type='gain',\n",
    "    verbose=10\n",
    ")\n",
    "ranker = ranker.fit(\n",
    "    train_X,\n",
    "    train_y,\n",
    "    group=train_baskets,\n",
    ")"
   ],
   "metadata": {
    "papermill": {
     "duration": 11.066279,
     "end_time": "2022-04-16T17:00:39.301931",
     "exception": false,
     "start_time": "2022-04-16T17:00:28.235652",
     "status": "completed"
    },
    "tags": [],
    "execution": {
     "iopub.status.busy": "2023-10-11T08:04:06.672341Z",
     "iopub.status.idle": "2023-10-11T08:04:06.673322Z",
     "shell.execute_reply.started": "2023-10-11T08:04:06.672987Z",
     "shell.execute_reply": "2023-10-11T08:04:06.673007Z"
    },
    "trusted": true,
    "ExecuteTime": {
     "start_time": "2023-11-07T21:07:38.458388600Z"
    }
   },
   "execution_count": null,
   "outputs": [],
   "id": "d66a13b6aae7e71d"
  },
  {
   "cell_type": "code",
   "source": [
    "for i in ranker.feature_importances_.argsort()[::-1]:\n",
    "    print(columns_to_use[i], ranker.feature_importances_[i]/ranker.feature_importances_.sum())"
   ],
   "metadata": {
    "papermill": {
     "duration": 0.107527,
     "end_time": "2022-04-16T17:00:39.466759",
     "exception": false,
     "start_time": "2022-04-16T17:00:39.359232",
     "status": "completed"
    },
    "tags": [],
    "execution": {
     "iopub.status.busy": "2023-10-11T08:04:06.675105Z",
     "iopub.status.idle": "2023-10-11T08:04:06.675529Z",
     "shell.execute_reply.started": "2023-10-11T08:04:06.675343Z",
     "shell.execute_reply": "2023-10-11T08:04:06.675362Z"
    },
    "trusted": true,
    "ExecuteTime": {
     "start_time": "2023-11-07T21:07:38.459891300Z"
    }
   },
   "execution_count": null,
   "outputs": [],
   "id": "a03e9b47dc795f19"
  },
  {
   "cell_type": "markdown",
   "source": [
    "# Calculate predictions"
   ],
   "metadata": {
    "papermill": {
     "duration": 0.056904,
     "end_time": "2022-04-16T17:00:39.580889",
     "exception": false,
     "start_time": "2022-04-16T17:00:39.523985",
     "status": "completed"
    },
    "tags": []
   },
   "id": "5737da47a7d37c2e"
  },
  {
   "cell_type": "code",
   "source": [
    "test['preds'] = ranker.predict(test_X)\n",
    "\n",
    "c_id2predicted_article_ids = test \\\n",
    "    .sort_values(['customer_id', 'preds'], ascending=False) \\\n",
    "    .groupby('customer_id')['article_id'].apply(list).to_dict()\n",
    "\n",
    "bestsellers_last_week = \\\n",
    "    bestsellers_previous_week[bestsellers_previous_week.week == bestsellers_previous_week.week.max()]['article_id'].tolist()"
   ],
   "metadata": {
    "papermill": {
     "duration": 13.140874,
     "end_time": "2022-04-16T17:00:52.777866",
     "exception": false,
     "start_time": "2022-04-16T17:00:39.636992",
     "status": "completed"
    },
    "tags": [],
    "execution": {
     "iopub.status.busy": "2023-10-11T08:04:06.677139Z",
     "iopub.status.idle": "2023-10-11T08:04:06.677612Z",
     "shell.execute_reply.started": "2023-10-11T08:04:06.677364Z",
     "shell.execute_reply": "2023-10-11T08:04:06.677392Z"
    },
    "trusted": true,
    "ExecuteTime": {
     "start_time": "2023-11-07T21:07:38.459891300Z"
    }
   },
   "execution_count": null,
   "outputs": [],
   "id": "1de07c0536b68c90"
  },
  {
   "cell_type": "markdown",
   "source": [
    "# Create submission"
   ],
   "metadata": {
    "papermill": {
     "duration": 0.07093,
     "end_time": "2022-04-16T17:00:52.913143",
     "exception": false,
     "start_time": "2022-04-16T17:00:52.842213",
     "status": "completed"
    },
    "tags": []
   },
   "id": "ac204415266f1bc5"
  },
  {
   "cell_type": "code",
   "source": [
    "sub = pd.read_csv('../input/sample_submission.csv')\n",
    "preds = []\n",
    "for c_id in customer_hex_id_to_int(sub.customer_id):\n",
    "    pred = c_id2predicted_article_ids.get(c_id, [])\n",
    "    pred = pred + bestsellers_last_week\n",
    "    preds.append(pred[:12])\n",
    "preds = [' '.join(['0' + str(p) for p in ps]) for ps in preds]\n",
    "sub.prediction = preds\n",
    "sub_name = 'basic_model_submission'\n",
    "sub.to_csv(f'{sub_name}.csv.gz', index=False)"
   ],
   "metadata": {
    "execution": {
     "iopub.status.busy": "2023-10-11T08:04:06.685139Z",
     "iopub.status.idle": "2023-10-11T08:04:06.685896Z",
     "shell.execute_reply.started": "2023-10-11T08:04:06.685667Z",
     "shell.execute_reply": "2023-10-11T08:04:06.685687Z"
    },
    "trusted": true,
    "ExecuteTime": {
     "start_time": "2023-11-07T21:07:38.460896100Z"
    }
   },
   "execution_count": null,
   "outputs": [],
   "id": "67a45867f9ea155d"
  }
 ]
}
