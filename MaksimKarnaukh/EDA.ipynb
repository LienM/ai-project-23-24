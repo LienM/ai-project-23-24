{
 "cells": [
  {
   "cell_type": "code",
   "execution_count": 1,
   "outputs": [],
   "source": [
    "from EDA import *\n"
   ],
   "metadata": {
    "collapsed": false,
    "ExecuteTime": {
     "end_time": "2023-10-03T00:37:38.409849400Z",
     "start_time": "2023-10-03T00:37:36.848958700Z"
    }
   }
  },
  {
   "cell_type": "code",
   "execution_count": 2,
   "outputs": [],
   "source": [
    "# Specify the data types for specific columns\n",
    "data_types_articles = {\n",
    "    'article_id': str,\n",
    "    'product_code': str,\n",
    "}\n",
    "data_types_transactions = {\n",
    "    'article_id': str,\n",
    "}\n",
    "\n",
    "# Load necessary datasets for exploratory data analysis\n",
    "# articles_df = load_dataset(\"datasets/articles.csv\", data_types_articles)\n",
    "# customers_df = load_dataset(\"datasets/customers.csv\")\n",
    "transactions_train_df = load_dataset(\"datasets/transactions_train.csv\", data_types_transactions)\n"
   ],
   "metadata": {
    "collapsed": false,
    "ExecuteTime": {
     "end_time": "2023-10-03T00:38:13.638117900Z",
     "start_time": "2023-10-03T00:37:38.409849400Z"
    }
   }
  },
  {
   "cell_type": "code",
   "execution_count": 3,
   "outputs": [
    {
     "name": "stdout",
     "output_type": "stream",
     "text": [
      "\tVerifying sales channel ids of transactions:\n",
      "\t\tThere are 0 missing sales channel ids\n",
      "\t\tSales channel id value counts:\n",
      " sales_channel_id\n",
      "2    22379862\n",
      "1     9408462\n",
      "Name: count, dtype: int64\n"
     ]
    }
   ],
   "source": [
    "# Perform exploratory data analysis on each dataset\n",
    "\n",
    "# perform_articles_eda(articles_df)\n",
    "\n",
    "# perform_customers_eda(customers_df)\n",
    "# graphs_by_age_group(customers_df)\n",
    "\n",
    "# perform_transactions_eda(transactions_train_df)\n",
    "# verify_purchase_dates(transactions_train_df)\n",
    "# verify_transaction_customer_id(transactions_train_df)\n",
    "# verify_transaction_article_id(transactions_train_df)\n",
    "# verify_prices(transactions_train_df)\n",
    "verify_sales_channel_ids(transactions_train_df)\n"
   ],
   "metadata": {
    "collapsed": false,
    "ExecuteTime": {
     "end_time": "2023-10-03T00:38:13.927529400Z",
     "start_time": "2023-10-03T00:38:13.638117900Z"
    }
   }
  },
  {
   "cell_type": "code",
   "execution_count": 3,
   "outputs": [],
   "source": [],
   "metadata": {
    "collapsed": false,
    "ExecuteTime": {
     "end_time": "2023-10-03T00:38:13.974412400Z",
     "start_time": "2023-10-03T00:38:13.927529400Z"
    }
   }
  }
 ],
 "metadata": {
  "kernelspec": {
   "display_name": "Python 3",
   "language": "python",
   "name": "python3"
  },
  "language_info": {
   "codemirror_mode": {
    "name": "ipython",
    "version": 2
   },
   "file_extension": ".py",
   "mimetype": "text/x-python",
   "name": "python",
   "nbconvert_exporter": "python",
   "pygments_lexer": "ipython2",
   "version": "2.7.6"
  }
 },
 "nbformat": 4,
 "nbformat_minor": 0
}
