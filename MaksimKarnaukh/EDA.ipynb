{
 "cells": [
  {
   "cell_type": "code",
   "execution_count": 1,
   "metadata": {
    "collapsed": false,
    "ExecuteTime": {
     "end_time": "2023-10-03T03:04:41.678668900Z",
     "start_time": "2023-10-03T03:04:40.291013100Z"
    }
   },
   "outputs": [],
   "source": [
    "from EDA import *"
   ]
  },
  {
   "cell_type": "markdown",
   "source": [
    "# Exploratory Data Analysis: Articles\n",
    "#### Load the dataset\n",
    "\n",
    "###### First we load in the articles dataset. We specify the data types for two specific columns in the dataset. This is done to ensure leading zeroes in integer values don't get dropped. We also check the first 10 rows of the dataset to get a feel for the data."
   ],
   "metadata": {
    "collapsed": false
   }
  },
  {
   "cell_type": "code",
   "execution_count": 2,
   "metadata": {
    "collapsed": false,
    "ExecuteTime": {
     "end_time": "2023-10-03T03:04:42.458424200Z",
     "start_time": "2023-10-03T03:04:41.686917700Z"
    }
   },
   "outputs": [],
   "source": [
    "# Specify the data types for specific columns in articles.csv\n",
    "data_types_articles = {'article_id': str, 'product_code': str, }\n",
    "articles = load_dataset(\"datasets/articles.csv\", data_types_articles)"
   ]
  },
  {
   "cell_type": "code",
   "execution_count": 3,
   "metadata": {
    "collapsed": false,
    "ExecuteTime": {
     "end_time": "2023-10-03T03:04:42.504764300Z",
     "start_time": "2023-10-03T03:04:42.459421Z"
    }
   },
   "outputs": [
    {
     "data": {
      "text/plain": "   article_id product_code                  prod_name  product_type_no  \\\n0  0108775015      0108775                  Strap top              253   \n1  0108775044      0108775                  Strap top              253   \n2  0108775051      0108775              Strap top (1)              253   \n3  0110065001      0110065          OP T-shirt (Idro)              306   \n4  0110065002      0110065          OP T-shirt (Idro)              306   \n5  0110065011      0110065          OP T-shirt (Idro)              306   \n6  0111565001      0111565        20 den 1p Stockings              304   \n7  0111565003      0111565        20 den 1p Stockings              302   \n8  0111586001      0111586  Shape Up 30 den 1p Tights              273   \n9  0111593001      0111593   Support 40 den 1p Tights              304   \n\n  product_type_name  product_group_name  graphical_appearance_no  \\\n0          Vest top  Garment Upper body                  1010016   \n1          Vest top  Garment Upper body                  1010016   \n2          Vest top  Garment Upper body                  1010017   \n3               Bra           Underwear                  1010016   \n4               Bra           Underwear                  1010016   \n5               Bra           Underwear                  1010016   \n6  Underwear Tights      Socks & Tights                  1010016   \n7             Socks      Socks & Tights                  1010016   \n8   Leggings/Tights  Garment Lower body                  1010016   \n9  Underwear Tights      Socks & Tights                  1010016   \n\n  graphical_appearance_name  colour_group_code colour_group_name  ...  \\\n0                     Solid                  9             Black  ...   \n1                     Solid                 10             White  ...   \n2                    Stripe                 11         Off White  ...   \n3                     Solid                  9             Black  ...   \n4                     Solid                 10             White  ...   \n5                     Solid                 12       Light Beige  ...   \n6                     Solid                  9             Black  ...   \n7                     Solid                 13             Beige  ...   \n8                     Solid                  9             Black  ...   \n9                     Solid                  9             Black  ...   \n\n   department_name index_code        index_name index_group_no  \\\n0     Jersey Basic          A        Ladieswear              1   \n1     Jersey Basic          A        Ladieswear              1   \n2     Jersey Basic          A        Ladieswear              1   \n3   Clean Lingerie          B  Lingeries/Tights              1   \n4   Clean Lingerie          B  Lingeries/Tights              1   \n5   Clean Lingerie          B  Lingeries/Tights              1   \n6     Tights basic          B  Lingeries/Tights              1   \n7     Tights basic          B  Lingeries/Tights              1   \n8     Tights basic          B  Lingeries/Tights              1   \n9     Tights basic          B  Lingeries/Tights              1   \n\n   index_group_name section_no                    section_name  \\\n0        Ladieswear         16          Womens Everyday Basics   \n1        Ladieswear         16          Womens Everyday Basics   \n2        Ladieswear         16          Womens Everyday Basics   \n3        Ladieswear         61                 Womens Lingerie   \n4        Ladieswear         61                 Womens Lingerie   \n5        Ladieswear         61                 Womens Lingerie   \n6        Ladieswear         62  Womens Nightwear, Socks & Tigh   \n7        Ladieswear         62  Womens Nightwear, Socks & Tigh   \n8        Ladieswear         62  Womens Nightwear, Socks & Tigh   \n9        Ladieswear         62  Womens Nightwear, Socks & Tigh   \n\n  garment_group_no  garment_group_name  \\\n0             1002        Jersey Basic   \n1             1002        Jersey Basic   \n2             1002        Jersey Basic   \n3             1017   Under-, Nightwear   \n4             1017   Under-, Nightwear   \n5             1017   Under-, Nightwear   \n6             1021    Socks and Tights   \n7             1021    Socks and Tights   \n8             1021    Socks and Tights   \n9             1021    Socks and Tights   \n\n                                         detail_desc  \n0            Jersey top with narrow shoulder straps.  \n1            Jersey top with narrow shoulder straps.  \n2            Jersey top with narrow shoulder straps.  \n3  Microfibre T-shirt bra with underwired, moulde...  \n4  Microfibre T-shirt bra with underwired, moulde...  \n5  Microfibre T-shirt bra with underwired, moulde...  \n6  Semi shiny nylon stockings with a wide, reinfo...  \n7  Semi shiny nylon stockings with a wide, reinfo...  \n8  Tights with built-in support to lift the botto...  \n9  Semi shiny tights that shape the tummy, thighs...  \n\n[10 rows x 25 columns]",
      "text/html": "<div>\n<style scoped>\n    .dataframe tbody tr th:only-of-type {\n        vertical-align: middle;\n    }\n\n    .dataframe tbody tr th {\n        vertical-align: top;\n    }\n\n    .dataframe thead th {\n        text-align: right;\n    }\n</style>\n<table border=\"1\" class=\"dataframe\">\n  <thead>\n    <tr style=\"text-align: right;\">\n      <th></th>\n      <th>article_id</th>\n      <th>product_code</th>\n      <th>prod_name</th>\n      <th>product_type_no</th>\n      <th>product_type_name</th>\n      <th>product_group_name</th>\n      <th>graphical_appearance_no</th>\n      <th>graphical_appearance_name</th>\n      <th>colour_group_code</th>\n      <th>colour_group_name</th>\n      <th>...</th>\n      <th>department_name</th>\n      <th>index_code</th>\n      <th>index_name</th>\n      <th>index_group_no</th>\n      <th>index_group_name</th>\n      <th>section_no</th>\n      <th>section_name</th>\n      <th>garment_group_no</th>\n      <th>garment_group_name</th>\n      <th>detail_desc</th>\n    </tr>\n  </thead>\n  <tbody>\n    <tr>\n      <th>0</th>\n      <td>0108775015</td>\n      <td>0108775</td>\n      <td>Strap top</td>\n      <td>253</td>\n      <td>Vest top</td>\n      <td>Garment Upper body</td>\n      <td>1010016</td>\n      <td>Solid</td>\n      <td>9</td>\n      <td>Black</td>\n      <td>...</td>\n      <td>Jersey Basic</td>\n      <td>A</td>\n      <td>Ladieswear</td>\n      <td>1</td>\n      <td>Ladieswear</td>\n      <td>16</td>\n      <td>Womens Everyday Basics</td>\n      <td>1002</td>\n      <td>Jersey Basic</td>\n      <td>Jersey top with narrow shoulder straps.</td>\n    </tr>\n    <tr>\n      <th>1</th>\n      <td>0108775044</td>\n      <td>0108775</td>\n      <td>Strap top</td>\n      <td>253</td>\n      <td>Vest top</td>\n      <td>Garment Upper body</td>\n      <td>1010016</td>\n      <td>Solid</td>\n      <td>10</td>\n      <td>White</td>\n      <td>...</td>\n      <td>Jersey Basic</td>\n      <td>A</td>\n      <td>Ladieswear</td>\n      <td>1</td>\n      <td>Ladieswear</td>\n      <td>16</td>\n      <td>Womens Everyday Basics</td>\n      <td>1002</td>\n      <td>Jersey Basic</td>\n      <td>Jersey top with narrow shoulder straps.</td>\n    </tr>\n    <tr>\n      <th>2</th>\n      <td>0108775051</td>\n      <td>0108775</td>\n      <td>Strap top (1)</td>\n      <td>253</td>\n      <td>Vest top</td>\n      <td>Garment Upper body</td>\n      <td>1010017</td>\n      <td>Stripe</td>\n      <td>11</td>\n      <td>Off White</td>\n      <td>...</td>\n      <td>Jersey Basic</td>\n      <td>A</td>\n      <td>Ladieswear</td>\n      <td>1</td>\n      <td>Ladieswear</td>\n      <td>16</td>\n      <td>Womens Everyday Basics</td>\n      <td>1002</td>\n      <td>Jersey Basic</td>\n      <td>Jersey top with narrow shoulder straps.</td>\n    </tr>\n    <tr>\n      <th>3</th>\n      <td>0110065001</td>\n      <td>0110065</td>\n      <td>OP T-shirt (Idro)</td>\n      <td>306</td>\n      <td>Bra</td>\n      <td>Underwear</td>\n      <td>1010016</td>\n      <td>Solid</td>\n      <td>9</td>\n      <td>Black</td>\n      <td>...</td>\n      <td>Clean Lingerie</td>\n      <td>B</td>\n      <td>Lingeries/Tights</td>\n      <td>1</td>\n      <td>Ladieswear</td>\n      <td>61</td>\n      <td>Womens Lingerie</td>\n      <td>1017</td>\n      <td>Under-, Nightwear</td>\n      <td>Microfibre T-shirt bra with underwired, moulde...</td>\n    </tr>\n    <tr>\n      <th>4</th>\n      <td>0110065002</td>\n      <td>0110065</td>\n      <td>OP T-shirt (Idro)</td>\n      <td>306</td>\n      <td>Bra</td>\n      <td>Underwear</td>\n      <td>1010016</td>\n      <td>Solid</td>\n      <td>10</td>\n      <td>White</td>\n      <td>...</td>\n      <td>Clean Lingerie</td>\n      <td>B</td>\n      <td>Lingeries/Tights</td>\n      <td>1</td>\n      <td>Ladieswear</td>\n      <td>61</td>\n      <td>Womens Lingerie</td>\n      <td>1017</td>\n      <td>Under-, Nightwear</td>\n      <td>Microfibre T-shirt bra with underwired, moulde...</td>\n    </tr>\n    <tr>\n      <th>5</th>\n      <td>0110065011</td>\n      <td>0110065</td>\n      <td>OP T-shirt (Idro)</td>\n      <td>306</td>\n      <td>Bra</td>\n      <td>Underwear</td>\n      <td>1010016</td>\n      <td>Solid</td>\n      <td>12</td>\n      <td>Light Beige</td>\n      <td>...</td>\n      <td>Clean Lingerie</td>\n      <td>B</td>\n      <td>Lingeries/Tights</td>\n      <td>1</td>\n      <td>Ladieswear</td>\n      <td>61</td>\n      <td>Womens Lingerie</td>\n      <td>1017</td>\n      <td>Under-, Nightwear</td>\n      <td>Microfibre T-shirt bra with underwired, moulde...</td>\n    </tr>\n    <tr>\n      <th>6</th>\n      <td>0111565001</td>\n      <td>0111565</td>\n      <td>20 den 1p Stockings</td>\n      <td>304</td>\n      <td>Underwear Tights</td>\n      <td>Socks &amp; Tights</td>\n      <td>1010016</td>\n      <td>Solid</td>\n      <td>9</td>\n      <td>Black</td>\n      <td>...</td>\n      <td>Tights basic</td>\n      <td>B</td>\n      <td>Lingeries/Tights</td>\n      <td>1</td>\n      <td>Ladieswear</td>\n      <td>62</td>\n      <td>Womens Nightwear, Socks &amp; Tigh</td>\n      <td>1021</td>\n      <td>Socks and Tights</td>\n      <td>Semi shiny nylon stockings with a wide, reinfo...</td>\n    </tr>\n    <tr>\n      <th>7</th>\n      <td>0111565003</td>\n      <td>0111565</td>\n      <td>20 den 1p Stockings</td>\n      <td>302</td>\n      <td>Socks</td>\n      <td>Socks &amp; Tights</td>\n      <td>1010016</td>\n      <td>Solid</td>\n      <td>13</td>\n      <td>Beige</td>\n      <td>...</td>\n      <td>Tights basic</td>\n      <td>B</td>\n      <td>Lingeries/Tights</td>\n      <td>1</td>\n      <td>Ladieswear</td>\n      <td>62</td>\n      <td>Womens Nightwear, Socks &amp; Tigh</td>\n      <td>1021</td>\n      <td>Socks and Tights</td>\n      <td>Semi shiny nylon stockings with a wide, reinfo...</td>\n    </tr>\n    <tr>\n      <th>8</th>\n      <td>0111586001</td>\n      <td>0111586</td>\n      <td>Shape Up 30 den 1p Tights</td>\n      <td>273</td>\n      <td>Leggings/Tights</td>\n      <td>Garment Lower body</td>\n      <td>1010016</td>\n      <td>Solid</td>\n      <td>9</td>\n      <td>Black</td>\n      <td>...</td>\n      <td>Tights basic</td>\n      <td>B</td>\n      <td>Lingeries/Tights</td>\n      <td>1</td>\n      <td>Ladieswear</td>\n      <td>62</td>\n      <td>Womens Nightwear, Socks &amp; Tigh</td>\n      <td>1021</td>\n      <td>Socks and Tights</td>\n      <td>Tights with built-in support to lift the botto...</td>\n    </tr>\n    <tr>\n      <th>9</th>\n      <td>0111593001</td>\n      <td>0111593</td>\n      <td>Support 40 den 1p Tights</td>\n      <td>304</td>\n      <td>Underwear Tights</td>\n      <td>Socks &amp; Tights</td>\n      <td>1010016</td>\n      <td>Solid</td>\n      <td>9</td>\n      <td>Black</td>\n      <td>...</td>\n      <td>Tights basic</td>\n      <td>B</td>\n      <td>Lingeries/Tights</td>\n      <td>1</td>\n      <td>Ladieswear</td>\n      <td>62</td>\n      <td>Womens Nightwear, Socks &amp; Tigh</td>\n      <td>1021</td>\n      <td>Socks and Tights</td>\n      <td>Semi shiny tights that shape the tummy, thighs...</td>\n    </tr>\n  </tbody>\n</table>\n<p>10 rows × 25 columns</p>\n</div>"
     },
     "execution_count": 3,
     "metadata": {},
     "output_type": "execute_result"
    }
   ],
   "source": [
    "# Check the first 10 rows of the articles dataset\n",
    "articles.head(10)"
   ]
  },
  {
   "cell_type": "markdown",
   "source": [
    "#### Verification of the (individual) columns"
   ],
   "metadata": {
    "collapsed": false
   }
  },
  {
   "cell_type": "code",
   "execution_count": 4,
   "outputs": [
    {
     "name": "stdout",
     "output_type": "stream",
     "text": [
      "Missing values per column:\n",
      "article_id                        0\n",
      "product_code                      0\n",
      "prod_name                         0\n",
      "product_type_no                   0\n",
      "product_type_name                 0\n",
      "product_group_name                0\n",
      "graphical_appearance_no           0\n",
      "graphical_appearance_name         0\n",
      "colour_group_code                 0\n",
      "colour_group_name                 0\n",
      "perceived_colour_value_id         0\n",
      "perceived_colour_value_name       0\n",
      "perceived_colour_master_id        0\n",
      "perceived_colour_master_name      0\n",
      "department_no                     0\n",
      "department_name                   0\n",
      "index_code                        0\n",
      "index_name                        0\n",
      "index_group_no                    0\n",
      "index_group_name                  0\n",
      "section_no                        0\n",
      "section_name                      0\n",
      "garment_group_no                  0\n",
      "garment_group_name                0\n",
      "detail_desc                     416\n",
      "dtype: int64\n"
     ]
    }
   ],
   "source": [
    "# check missing values of each column\n",
    "print(f\"Missing values per column:\\n{articles.isna().sum()}\")"
   ],
   "metadata": {
    "collapsed": false,
    "ExecuteTime": {
     "end_time": "2023-10-03T03:04:42.647245900Z",
     "start_time": "2023-10-03T03:04:42.492582400Z"
    }
   }
  },
  {
   "cell_type": "markdown",
   "source": [
    "##### Verify the article_id column\n",
    "###### We check the article_id column for missing values, unique values and whether each value has the same format or length. Nothing unusual is found."
   ],
   "metadata": {
    "collapsed": false
   }
  },
  {
   "cell_type": "code",
   "execution_count": 5,
   "outputs": [
    {
     "name": "stdout",
     "output_type": "stream",
     "text": [
      "There are 0 missing article ids.\n",
      "article ids contain unique ids: True\n",
      "All article ids have the same format: True\n"
     ]
    }
   ],
   "source": [
    "# Check for missing values, unique values and format of article_id column\n",
    "verify_article_ids(articles)"
   ],
   "metadata": {
    "collapsed": false,
    "ExecuteTime": {
     "end_time": "2023-10-03T03:04:42.741958100Z",
     "start_time": "2023-10-03T03:04:42.569729Z"
    }
   }
  },
  {
   "cell_type": "markdown",
   "source": [
    "##### Verify the product_code column\n",
    "###### We check the product_code column for missing values and whether each value has the same format or length. Nothing unusual is found. Duplicates are not a problem, as the product_code column is not a unique identifier for each row."
   ],
   "metadata": {
    "collapsed": false
   }
  },
  {
   "cell_type": "code",
   "execution_count": 6,
   "outputs": [
    {
     "name": "stdout",
     "output_type": "stream",
     "text": [
      "There are 0 missing product codes.\n",
      "All product codes have the same format: True\n"
     ]
    }
   ],
   "source": [
    "# Check for missing values, unique values and format of product_code column\n",
    "verify_product_code(articles)"
   ],
   "metadata": {
    "collapsed": false,
    "ExecuteTime": {
     "end_time": "2023-10-03T03:04:42.827659100Z",
     "start_time": "2023-10-03T03:04:42.690149500Z"
    }
   }
  },
  {
   "cell_type": "markdown",
   "source": [
    "##### Verify the product_name column\n",
    "###### We check the product_name column for missing values and value counts. Nothing unusual is found."
   ],
   "metadata": {
    "collapsed": false
   }
  },
  {
   "cell_type": "code",
   "execution_count": 7,
   "outputs": [
    {
     "name": "stdout",
     "output_type": "stream",
     "text": [
      "There are 0 missing product names.\n",
      "Product name value counts:\n",
      "prod_name\n",
      "Dragonfly dress                98\n",
      "Mike tee                       72\n",
      "Wow printed tee 6.99           70\n",
      "1pk Fun                        55\n",
      "TP Paddington Sweater          54\n",
      "                               ..\n",
      "W MARCIE DRESS CNY              1\n",
      "W NAPOLI SKIRT CNY              1\n",
      "BEANIE JERSEY FLEECED LINED     1\n",
      "H-string multicolour            1\n",
      "Lounge dress                    1\n",
      "Name: count, Length: 45875, dtype: int64\n"
     ]
    }
   ],
   "source": [
    "# Check for missing values and check value counts of prod_name column\n",
    "verify_prod_name(articles)"
   ],
   "metadata": {
    "collapsed": false,
    "ExecuteTime": {
     "end_time": "2023-10-03T03:04:42.829667200Z",
     "start_time": "2023-10-03T03:04:42.781703400Z"
    }
   }
  },
  {
   "cell_type": "markdown",
   "source": [
    "##### Verify the product_type_no column\n",
    "###### We check the product_type_no column for missing values and value counts. Nothing unusual is found."
   ],
   "metadata": {
    "collapsed": false
   }
  },
  {
   "cell_type": "code",
   "execution_count": 8,
   "outputs": [
    {
     "name": "stdout",
     "output_type": "stream",
     "text": [
      "There are 0 missing product type numbers.\n",
      "Product type number value counts:\n",
      "product_type_no\n",
      "272    11169\n",
      "265    10362\n",
      "252     9302\n",
      "255     7904\n",
      "254     4155\n",
      "       ...  \n",
      "525        1\n",
      "514        1\n",
      "351        1\n",
      "349        1\n",
      "483        1\n",
      "Name: count, Length: 132, dtype: int64\n"
     ]
    }
   ],
   "source": [
    "# Check for missing values and check value counts of product_type_no column\n",
    "verify_product_type_no(articles)"
   ],
   "metadata": {
    "collapsed": false,
    "ExecuteTime": {
     "end_time": "2023-10-03T03:04:42.843963900Z",
     "start_time": "2023-10-03T03:04:42.828662500Z"
    }
   }
  },
  {
   "cell_type": "markdown",
   "source": [
    "##### Verify the product_type_name column"
   ],
   "metadata": {
    "collapsed": false
   }
  },
  {
   "cell_type": "code",
   "execution_count": 9,
   "outputs": [
    {
     "name": "stdout",
     "output_type": "stream",
     "text": [
      "Product type names are unique:False\n",
      "There are 0 missing product type names.\n",
      "Product type name value counts:\n",
      "product_type_name\n",
      "Trousers         11169\n",
      "Dress            10362\n",
      "Sweater           9302\n",
      "T-shirt           7904\n",
      "Top               4155\n",
      "                 ...  \n",
      "Keychain             1\n",
      "Headband             1\n",
      "Cushion              1\n",
      "Blanket              1\n",
      "Clothing mist        1\n",
      "Name: count, Length: 131, dtype: int64\n"
     ]
    }
   ],
   "source": [
    "verify_product_type_name(articles)\n"
   ],
   "metadata": {
    "collapsed": false,
    "ExecuteTime": {
     "end_time": "2023-10-03T03:04:42.931286600Z",
     "start_time": "2023-10-03T03:04:42.841978500Z"
    }
   }
  },
  {
   "cell_type": "markdown",
   "source": [
    "##### Verify the product_group_name column"
   ],
   "metadata": {
    "collapsed": false
   }
  },
  {
   "cell_type": "code",
   "execution_count": 10,
   "outputs": [
    {
     "name": "stdout",
     "output_type": "stream",
     "text": [
      "There are 0 missing colour group names.\n",
      "Colour group name value counts:\n",
      "colour_group_name\n",
      "Black              22670\n",
      "Dark Blue          12171\n",
      "White               9542\n",
      "Light Pink          5811\n",
      "Grey                4487\n",
      "Light Beige         3356\n",
      "Blue                3308\n",
      "Red                 3056\n",
      "Light Blue          3012\n",
      "Greenish Khaki      2767\n",
      "Dark Grey           2731\n",
      "Off White           2726\n",
      "Beige               2712\n",
      "Dark Red            2340\n",
      "Dark Green          2106\n",
      "Light Grey          2105\n",
      "Pink                2063\n",
      "Yellow              1645\n",
      "Light Orange        1520\n",
      "Yellowish Brown     1471\n",
      "Gold                1377\n",
      "Dark Beige          1084\n",
      "Light Turquoise     1027\n",
      "Light Yellow         984\n",
      "Dark Orange          886\n",
      "Dark Pink            818\n",
      "Green                815\n",
      "Orange               779\n",
      "Other Pink           750\n",
      "Silver               709\n",
      "Light Green          681\n",
      "Dark Yellow          574\n",
      "Light Purple         553\n",
      "Dark Turquoise       473\n",
      "Turquoise            435\n",
      "Dark Purple          315\n",
      "Light Red            285\n",
      "Greyish Beige        226\n",
      "Other Yellow         225\n",
      "Purple               182\n",
      "Other Orange         153\n",
      "Other Green          129\n",
      "Other Red            114\n",
      "Other                105\n",
      "Bronze/Copper         94\n",
      "Other Blue            51\n",
      "Other Purple          46\n",
      "Transparent           31\n",
      "Unknown               28\n",
      "Other Turquoise       14\n",
      "Name: count, dtype: int64\n"
     ]
    }
   ],
   "source": [
    "verify_colour_group_name(articles)\n"
   ],
   "metadata": {
    "collapsed": false,
    "ExecuteTime": {
     "end_time": "2023-10-03T03:04:42.936497200Z",
     "start_time": "2023-10-03T03:04:42.872455300Z"
    }
   }
  },
  {
   "cell_type": "markdown",
   "source": [
    "##### Verify the graphical_appearance_name column"
   ],
   "metadata": {
    "collapsed": false
   }
  },
  {
   "cell_type": "code",
   "execution_count": 11,
   "outputs": [
    {
     "name": "stdout",
     "output_type": "stream",
     "text": [
      "There are 0 missing graphical appearance names.\n",
      "Graphical appearance name value counts:\n",
      "graphical_appearance_name\n",
      "Solid                  49747\n",
      "All over pattern       17165\n",
      "Melange                 5938\n",
      "Stripe                  4990\n",
      "Denim                   4842\n",
      "Front print             3215\n",
      "Placement print         3098\n",
      "Check                   2178\n",
      "Colour blocking         1830\n",
      "Lace                    1513\n",
      "Other structure         1502\n",
      "Application/3D          1341\n",
      "Embroidery              1165\n",
      "Mixed solid/pattern     1132\n",
      "Glittering/Metallic      958\n",
      "Jacquard                 830\n",
      "Sequin                   806\n",
      "Dot                      681\n",
      "Treatment                586\n",
      "Other pattern            515\n",
      "Contrast                 376\n",
      "Metallic                 346\n",
      "Chambray                 322\n",
      "Slub                     153\n",
      "Transparent               86\n",
      "Mesh                      86\n",
      "Neps                      66\n",
      "Unknown                   52\n",
      "Argyle                    15\n",
      "Hologram                   8\n",
      "Name: count, dtype: int64\n"
     ]
    }
   ],
   "source": [
    "verify_graphical_appearance_name(articles)\n"
   ],
   "metadata": {
    "collapsed": false,
    "ExecuteTime": {
     "end_time": "2023-10-03T03:04:42.957811700Z",
     "start_time": "2023-10-03T03:04:42.902944700Z"
    }
   }
  },
  {
   "cell_type": "markdown",
   "source": [
    "##### Check for correlations between certain columns"
   ],
   "metadata": {
    "collapsed": false
   }
  },
  {
   "cell_type": "code",
   "execution_count": 12,
   "outputs": [
    {
     "name": "stdout",
     "output_type": "stream",
     "text": [
      "Each product_code is uniquely mapped to a product_type_no: False\n",
      "Each product_type_no is uniquely mapped to a product_type_name: False\n",
      "Non unique product_type_name values:\n",
      "      product_type_no product_type_name  count\n",
      "22                83          Umbrella     26\n",
      "129              532          Umbrella      3\n"
     ]
    }
   ],
   "source": [
    "check_correlation_between_columns_articles(articles)\n"
   ],
   "metadata": {
    "collapsed": false,
    "ExecuteTime": {
     "end_time": "2023-10-03T03:04:43.066726500Z",
     "start_time": "2023-10-03T03:04:42.934486300Z"
    }
   }
  },
  {
   "cell_type": "markdown",
   "source": [
    "# Exploratory Data Analysis: Customers"
   ],
   "metadata": {
    "collapsed": false
   }
  },
  {
   "cell_type": "code",
   "execution_count": 13,
   "metadata": {
    "collapsed": false,
    "ExecuteTime": {
     "end_time": "2023-10-03T03:04:43.095199600Z",
     "start_time": "2023-10-03T03:04:43.059525100Z"
    }
   },
   "outputs": [],
   "source": [
    "data_types_transactions = {\n",
    "    'article_id': str,\n",
    "}\n",
    "# customers_df = load_dataset(\"datasets/customers.csv\")\n",
    "# transactions_train_df = load_dataset(\"datasets/transactions_train.csv\", data_types_transactions)"
   ]
  }
 ],
 "metadata": {
  "kernelspec": {
   "display_name": "Python 3 (ipykernel)",
   "language": "python",
   "name": "python3"
  },
  "language_info": {
   "codemirror_mode": {
    "name": "ipython",
    "version": 3
   },
   "file_extension": ".py",
   "mimetype": "text/x-python",
   "name": "python",
   "nbconvert_exporter": "python",
   "pygments_lexer": "ipython3",
   "version": "3.8.6"
  }
 },
 "nbformat": 4,
 "nbformat_minor": 4
}
