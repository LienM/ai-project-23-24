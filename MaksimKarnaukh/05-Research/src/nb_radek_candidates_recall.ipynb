{
 "metadata": {
  "kernelspec": {
   "display_name": "Python 3",
   "language": "python",
   "name": "python3"
  },
  "language_info": {
   "name": "python",
   "version": "3.10.12",
   "mimetype": "text/x-python",
   "codemirror_mode": {
    "name": "ipython",
    "version": 3
   },
   "pygments_lexer": "ipython3",
   "nbconvert_exporter": "python",
   "file_extension": ".py"
  },
  "papermill": {
   "default_parameters": {},
   "duration": 185.112876,
   "end_time": "2022-04-16T17:01:37.553573",
   "environment_variables": {},
   "exception": null,
   "input_path": "__notebook__.ipynb",
   "output_path": "__notebook__.ipynb",
   "parameters": {},
   "start_time": "2022-04-16T16:58:32.440697",
   "version": "2.3.4"
  }
 },
 "nbformat_minor": 5,
 "nbformat": 4,
 "cells": [
  {
   "cell_type": "markdown",
   "source": [
    "Radek posted about this [here](https://www.kaggle.com/competitions/h-and-m-personalized-fashion-recommendations/discussion/309220), and linked to a GitHub repo with the code.\n",
    "\n",
    "I just transferred that code here to Kaggle notebooks, that's all."
   ],
   "metadata": {
    "papermill": {
     "duration": 0.052947,
     "end_time": "2022-04-16T16:58:42.297492",
     "exception": false,
     "start_time": "2022-04-16T16:58:42.244545",
     "status": "completed"
    },
    "tags": []
   },
   "id": "1c494b88382cd063"
  },
  {
   "cell_type": "code",
   "source": [
    "from helper_functions import customer_hex_id_to_int, mapk\n",
    "from helper_functions import recall, recall12, mean_recall, calculate_recall_per_customer_batch, calculate_recall_per_week\n",
    "from helper_functions import read_parquet_datasets\n",
    "import pandas as pd\n",
    "import numpy as np\n",
    "\n",
    "transactions, customers, articles = read_parquet_datasets()\n",
    "\n",
    "validation = transactions[transactions.week == transactions.week.max()]\n",
    "\n",
    "test_week = transactions.week.max() + 1\n",
    "transactions = transactions[transactions.week > transactions.week.max() - 10]"
   ],
   "metadata": {
    "papermill": {
     "duration": 9.279307,
     "end_time": "2022-04-16T16:58:53.289550",
     "exception": false,
     "start_time": "2022-04-16T16:58:44.010243",
     "status": "completed"
    },
    "tags": [],
    "execution": {
     "iopub.status.busy": "2023-10-11T08:02:33.432368Z",
     "iopub.execute_input": "2023-10-11T08:02:33.433121Z",
     "iopub.status.idle": "2023-10-11T08:02:37.691627Z",
     "shell.execute_reply.started": "2023-10-11T08:02:33.433081Z",
     "shell.execute_reply": "2023-10-11T08:02:37.690543Z"
    },
    "trusted": true,
    "ExecuteTime": {
     "end_time": "2023-12-23T18:56:59.624291100Z",
     "start_time": "2023-12-23T18:56:58.757980800Z"
    }
   },
   "execution_count": 19,
   "outputs": [],
   "id": "ea3486ea109915fd"
  },
  {
   "cell_type": "markdown",
   "source": [
    "# Generating candidates"
   ],
   "metadata": {
    "papermill": {
     "duration": 0.04664,
     "end_time": "2022-04-16T16:58:53.778482",
     "exception": false,
     "start_time": "2022-04-16T16:58:53.731842",
     "status": "completed"
    },
    "tags": []
   },
   "id": "db3c9bcadb9cda9b"
  },
  {
   "cell_type": "markdown",
   "source": [
    "### Last purchase candidates"
   ],
   "metadata": {
    "papermill": {
     "duration": 0.047255,
     "end_time": "2022-04-16T16:58:53.872805",
     "exception": false,
     "start_time": "2022-04-16T16:58:53.825550",
     "status": "completed"
    },
    "tags": []
   },
   "id": "b53210a64303217c"
  },
  {
   "cell_type": "code",
   "source": [
    "c2weeks = transactions.groupby('customer_id')['week'].unique()\n",
    "c2weeks2shifted_weeks = {}\n",
    "\n",
    "for c_id, weeks in c2weeks.items():\n",
    "    c2weeks2shifted_weeks[c_id] = {}\n",
    "    for i in range(weeks.shape[0]-1):\n",
    "        c2weeks2shifted_weeks[c_id][weeks[i]] = weeks[i+1]\n",
    "    c2weeks2shifted_weeks[c_id][weeks[-1]] = test_week\n",
    "    \n",
    "candidates_last_purchase = transactions.copy()\n",
    "weeks = []\n",
    "for i, (c_id, week) in enumerate(zip(transactions['customer_id'], transactions['week'])):\n",
    "    weeks.append(c2weeks2shifted_weeks[c_id][week])\n",
    "candidates_last_purchase.week=weeks"
   ],
   "metadata": {
    "papermill": {
     "duration": 8.716794,
     "end_time": "2022-04-16T16:59:25.784593",
     "exception": false,
     "start_time": "2022-04-16T16:59:17.067799",
     "status": "completed"
    },
    "tags": [],
    "execution": {
     "iopub.status.busy": "2023-10-11T08:03:04.442232Z",
     "iopub.execute_input": "2023-10-11T08:03:04.442523Z",
     "iopub.status.idle": "2023-10-11T08:03:22.614016Z",
     "shell.execute_reply.started": "2023-10-11T08:03:04.442499Z",
     "shell.execute_reply": "2023-10-11T08:03:22.612552Z"
    },
    "trusted": true,
    "ExecuteTime": {
     "end_time": "2023-12-23T18:57:15.184113600Z",
     "start_time": "2023-12-23T18:56:59.626502300Z"
    }
   },
   "execution_count": 20,
   "outputs": [],
   "id": "9fd4547c64950724"
  },
  {
   "cell_type": "code",
   "source": [
    "### Bestsellers candidates\n",
    "mean_price = transactions.groupby(['week', 'article_id'])['price'].mean()\n",
    "sales = transactions \\\n",
    "    .groupby('week')['article_id'].value_counts() \\\n",
    "    .groupby('week').rank(method='dense', ascending=False) \\\n",
    "    .groupby('week').head(12).rename('bestseller_rank').astype('int8')\n",
    "bestsellers_previous_week = pd.merge(sales, mean_price, on=['week', 'article_id']).reset_index()\n",
    "bestsellers_previous_week.week += 1"
   ],
   "metadata": {
    "papermill": {
     "duration": 0.11991,
     "end_time": "2022-04-16T16:59:28.231470",
     "exception": false,
     "start_time": "2022-04-16T16:59:28.111560",
     "status": "completed"
    },
    "tags": [],
    "execution": {
     "iopub.status.busy": "2023-10-11T08:03:25.596069Z",
     "iopub.execute_input": "2023-10-11T08:03:25.596380Z",
     "iopub.status.idle": "2023-10-11T08:03:25.640966Z",
     "shell.execute_reply.started": "2023-10-11T08:03:25.596349Z",
     "shell.execute_reply": "2023-10-11T08:03:25.640019Z"
    },
    "trusted": true,
    "ExecuteTime": {
     "end_time": "2023-12-23T18:57:15.517683400Z",
     "start_time": "2023-12-23T18:57:15.185620Z"
    }
   },
   "execution_count": 21,
   "outputs": [],
   "id": "bf2b1aaa2053ebaa"
  },
  {
   "cell_type": "code",
   "source": [
    "# bestsellers_previous_week.pipe(lambda df: df[df['week']==96])\n",
    "bestsellers_previous_week"
   ],
   "metadata": {
    "papermill": {
     "duration": 0.089116,
     "end_time": "2022-04-16T16:59:28.399153",
     "exception": false,
     "start_time": "2022-04-16T16:59:28.310037",
     "status": "completed"
    },
    "tags": [],
    "execution": {
     "iopub.status.busy": "2023-10-11T08:03:25.642378Z",
     "iopub.execute_input": "2023-10-11T08:03:25.642812Z",
     "iopub.status.idle": "2023-10-11T08:03:25.654010Z",
     "shell.execute_reply.started": "2023-10-11T08:03:25.642753Z",
     "shell.execute_reply": "2023-10-11T08:03:25.653041Z"
    },
    "trusted": true,
    "ExecuteTime": {
     "end_time": "2023-12-23T18:57:15.529471700Z",
     "start_time": "2023-12-23T18:57:15.518183400Z"
    }
   },
   "execution_count": 22,
   "outputs": [
    {
     "data": {
      "text/plain": "     week  article_id  bestseller_rank     price\n0      96   760084003                1  0.025094\n1      96   866731001                2  0.024919\n2      96   600886001                3  0.022980\n3      96   706016001                4  0.033197\n4      96   372860002                5  0.013193\n..    ...         ...              ...       ...\n115   105   915529003                8  0.033439\n116   105   915529005                9  0.033417\n117   105   448509014               10  0.041630\n118   105   762846027               11  0.025005\n119   105   714790020               12  0.049951\n\n[120 rows x 4 columns]",
      "text/html": "<div>\n<style scoped>\n    .dataframe tbody tr th:only-of-type {\n        vertical-align: middle;\n    }\n\n    .dataframe tbody tr th {\n        vertical-align: top;\n    }\n\n    .dataframe thead th {\n        text-align: right;\n    }\n</style>\n<table border=\"1\" class=\"dataframe\">\n  <thead>\n    <tr style=\"text-align: right;\">\n      <th></th>\n      <th>week</th>\n      <th>article_id</th>\n      <th>bestseller_rank</th>\n      <th>price</th>\n    </tr>\n  </thead>\n  <tbody>\n    <tr>\n      <th>0</th>\n      <td>96</td>\n      <td>760084003</td>\n      <td>1</td>\n      <td>0.025094</td>\n    </tr>\n    <tr>\n      <th>1</th>\n      <td>96</td>\n      <td>866731001</td>\n      <td>2</td>\n      <td>0.024919</td>\n    </tr>\n    <tr>\n      <th>2</th>\n      <td>96</td>\n      <td>600886001</td>\n      <td>3</td>\n      <td>0.022980</td>\n    </tr>\n    <tr>\n      <th>3</th>\n      <td>96</td>\n      <td>706016001</td>\n      <td>4</td>\n      <td>0.033197</td>\n    </tr>\n    <tr>\n      <th>4</th>\n      <td>96</td>\n      <td>372860002</td>\n      <td>5</td>\n      <td>0.013193</td>\n    </tr>\n    <tr>\n      <th>...</th>\n      <td>...</td>\n      <td>...</td>\n      <td>...</td>\n      <td>...</td>\n    </tr>\n    <tr>\n      <th>115</th>\n      <td>105</td>\n      <td>915529003</td>\n      <td>8</td>\n      <td>0.033439</td>\n    </tr>\n    <tr>\n      <th>116</th>\n      <td>105</td>\n      <td>915529005</td>\n      <td>9</td>\n      <td>0.033417</td>\n    </tr>\n    <tr>\n      <th>117</th>\n      <td>105</td>\n      <td>448509014</td>\n      <td>10</td>\n      <td>0.041630</td>\n    </tr>\n    <tr>\n      <th>118</th>\n      <td>105</td>\n      <td>762846027</td>\n      <td>11</td>\n      <td>0.025005</td>\n    </tr>\n    <tr>\n      <th>119</th>\n      <td>105</td>\n      <td>714790020</td>\n      <td>12</td>\n      <td>0.049951</td>\n    </tr>\n  </tbody>\n</table>\n<p>120 rows × 4 columns</p>\n</div>"
     },
     "execution_count": 22,
     "metadata": {},
     "output_type": "execute_result"
    }
   ],
   "id": "38554d4d96501297"
  },
  {
   "cell_type": "code",
   "execution_count": 23,
   "outputs": [],
   "source": [
    "# analogous to calculate_recall_per_customer_batch(...) function\n",
    "# Get the purchases for the last week in the validation set\n",
    "actual_purchases_last_week = validation[validation['week'] == validation['week'].max()].groupby('customer_id')['article_id'].apply(list)\n",
    "\n",
    "# Step 1: Extract the 12 bestselling articles for the last week\n",
    "bestsellers_last_week = bestsellers_previous_week[bestsellers_previous_week['week'] == validation['week'].max()]['article_id']\n",
    "\n",
    "# Step 2: Create a DataFrame with 'customer_id' and 'article_id' for each customer and the 12 articles\n",
    "customers = pd.DataFrame({'customer_id': np.repeat(validation['customer_id'].unique(), 12)})\n",
    "customers['article_id'] = np.tile(bestsellers_last_week.tolist(), len(validation['customer_id'].unique()))\n",
    "\n",
    "# Step 3: create a list of articles for each customer\n",
    "predicted_bestsellers_last_week = customers.groupby('customer_id')['article_id'].apply(list)"
   ],
   "metadata": {
    "collapsed": false,
    "ExecuteTime": {
     "end_time": "2023-12-23T18:57:16.714077800Z",
     "start_time": "2023-12-23T18:57:15.523457800Z"
    }
   },
   "id": "2c921a50d0a3589f"
  },
  {
   "cell_type": "code",
   "execution_count": 24,
   "outputs": [
    {
     "data": {
      "text/plain": "customer_id\n1402273113592184                                   [885951001, 611415001]\n1827730561464445                                   [918603001, 921380001]\n1951136007097426                                              [778745010]\n2639747769247776                                              [819547001]\n3177658828628418                                   [869331006, 866731001]\n                                              ...                        \n18444954504588539615                                          [903062001]\n18445164350380731040                                          [730683050]\n18445340048433064259                                          [714790028]\n18445641720816255142    [898713001, 909014001, 919365008, 827635001, 8...\n18446737527580148316         [547780001, 763988001, 763988003, 547780040]\nName: article_id, Length: 68984, dtype: object"
     },
     "execution_count": 24,
     "metadata": {},
     "output_type": "execute_result"
    }
   ],
   "source": [
    "actual_purchases_last_week"
   ],
   "metadata": {
    "collapsed": false,
    "ExecuteTime": {
     "end_time": "2023-12-23T18:57:16.727075700Z",
     "start_time": "2023-12-23T18:57:16.715584Z"
    }
   },
   "id": "92144ef1869e1fd2"
  },
  {
   "cell_type": "code",
   "execution_count": 25,
   "outputs": [
    {
     "data": {
      "text/plain": "customer_id\n1402273113592184        [909370001, 865799006, 918522001, 924243001, 4...\n1827730561464445        [909370001, 865799006, 918522001, 924243001, 4...\n1951136007097426        [909370001, 865799006, 918522001, 924243001, 4...\n2639747769247776        [909370001, 865799006, 918522001, 924243001, 4...\n3177658828628418        [909370001, 865799006, 918522001, 924243001, 4...\n                                              ...                        \n18444954504588539615    [909370001, 865799006, 918522001, 924243001, 4...\n18445164350380731040    [909370001, 865799006, 918522001, 924243001, 4...\n18445340048433064259    [909370001, 865799006, 918522001, 924243001, 4...\n18445641720816255142    [909370001, 865799006, 918522001, 924243001, 4...\n18446737527580148316    [909370001, 865799006, 918522001, 924243001, 4...\nName: article_id, Length: 68984, dtype: object"
     },
     "execution_count": 25,
     "metadata": {},
     "output_type": "execute_result"
    }
   ],
   "source": [
    "predicted_bestsellers_last_week"
   ],
   "metadata": {
    "collapsed": false,
    "ExecuteTime": {
     "end_time": "2023-12-23T18:57:16.738152600Z",
     "start_time": "2023-12-23T18:57:16.719969900Z"
    }
   },
   "id": "7eea14a41ea11b29"
  },
  {
   "cell_type": "code",
   "execution_count": 26,
   "outputs": [
    {
     "name": "stdout",
     "output_type": "stream",
     "text": [
      "Recall Score for Bestsellers Candidates for last week: 0.024726918923118894\n"
     ]
    }
   ],
   "source": [
    "# Calculate recall between actual purchases and predicted bestsellers for the last week\n",
    "recall_last_week = mean_recall(actual_purchases_last_week, predicted_bestsellers_last_week)\n",
    "print(\"Recall Score for Bestsellers Candidates for last week:\", recall_last_week)"
   ],
   "metadata": {
    "collapsed": false,
    "ExecuteTime": {
     "end_time": "2023-12-23T18:57:16.787475800Z",
     "start_time": "2023-12-23T18:57:16.733644500Z"
    }
   },
   "id": "5617ed8e267f9988"
  },
  {
   "cell_type": "code",
   "execution_count": 27,
   "outputs": [],
   "source": [
    "pd.options.display.max_seq_items = 2000"
   ],
   "metadata": {
    "collapsed": false,
    "ExecuteTime": {
     "end_time": "2023-12-23T18:57:16.787975200Z",
     "start_time": "2023-12-23T18:57:16.785921200Z"
    }
   },
   "id": "5ccacb33d4747ad6"
  },
  {
   "cell_type": "code",
   "execution_count": 28,
   "outputs": [
    {
     "name": "stdout",
     "output_type": "stream",
     "text": [
      "Week: 100\n",
      "predicted_bestsellers_current_week:  customer_id\n",
      "28847241659200          [916468003, 812668001, 866731001, 610776002, 8...\n",
      "41318098387474          [916468003, 812668001, 866731001, 610776002, 8...\n",
      "116809474287335         [916468003, 812668001, 866731001, 610776002, 8...\n",
      "200292573348128         [916468003, 812668001, 866731001, 610776002, 8...\n",
      "248294615847351         [916468003, 812668001, 866731001, 610776002, 8...\n",
      "                                              ...                        \n",
      "18446624797007271432    [916468003, 812668001, 866731001, 610776002, 8...\n",
      "18446630855572834764    [916468003, 812668001, 866731001, 610776002, 8...\n",
      "18446662237889060501    [916468003, 812668001, 866731001, 610776002, 8...\n",
      "18446705133201055310    [916468003, 812668001, 866731001, 610776002, 8...\n",
      "18446737527580148316    [916468003, 812668001, 866731001, 610776002, 8...\n",
      "Name: article_id, Length: 437365, dtype: object\n",
      "Week: 101\n",
      "predicted_bestsellers_current_week:  customer_id\n",
      "28847241659200          [916468003, 896152003, 896152002, 751471001, 7...\n",
      "41318098387474          [916468003, 896152003, 896152002, 751471001, 7...\n",
      "116809474287335         [916468003, 896152003, 896152002, 751471001, 7...\n",
      "200292573348128         [916468003, 896152003, 896152002, 751471001, 7...\n",
      "248294615847351         [916468003, 896152003, 896152002, 751471001, 7...\n",
      "                                              ...                        \n",
      "18446624797007271432    [916468003, 896152003, 896152002, 751471001, 7...\n",
      "18446630855572834764    [916468003, 896152003, 896152002, 751471001, 7...\n",
      "18446662237889060501    [916468003, 896152003, 896152002, 751471001, 7...\n",
      "18446705133201055310    [916468003, 896152003, 896152002, 751471001, 7...\n",
      "18446737527580148316    [916468003, 896152003, 896152002, 751471001, 7...\n",
      "Name: article_id, Length: 437365, dtype: object\n",
      "Week: 102\n",
      "predicted_bestsellers_current_week:  customer_id\n",
      "28847241659200          [898694001, 933706001, 751471001, 915526001, 9...\n",
      "41318098387474          [898694001, 933706001, 751471001, 915526001, 9...\n",
      "116809474287335         [898694001, 933706001, 751471001, 915526001, 9...\n",
      "200292573348128         [898694001, 933706001, 751471001, 915526001, 9...\n",
      "248294615847351         [898694001, 933706001, 751471001, 915526001, 9...\n",
      "                                              ...                        \n",
      "18446624797007271432    [898694001, 933706001, 751471001, 915526001, 9...\n",
      "18446630855572834764    [898694001, 933706001, 751471001, 915526001, 9...\n",
      "18446662237889060501    [898694001, 933706001, 751471001, 915526001, 9...\n",
      "18446705133201055310    [898694001, 933706001, 751471001, 915526001, 9...\n",
      "18446737527580148316    [898694001, 933706001, 751471001, 915526001, 9...\n",
      "Name: article_id, Length: 437365, dtype: object\n",
      "Week: 103\n",
      "predicted_bestsellers_current_week:  customer_id\n",
      "28847241659200          [915526001, 751471043, 751471001, 706016001, 9...\n",
      "41318098387474          [915526001, 751471043, 751471001, 706016001, 9...\n",
      "116809474287335         [915526001, 751471043, 751471001, 706016001, 9...\n",
      "200292573348128         [915526001, 751471043, 751471001, 706016001, 9...\n",
      "248294615847351         [915526001, 751471043, 751471001, 706016001, 9...\n",
      "                                              ...                        \n",
      "18446624797007271432    [915526001, 751471043, 751471001, 706016001, 9...\n",
      "18446630855572834764    [915526001, 751471043, 751471001, 706016001, 9...\n",
      "18446662237889060501    [915526001, 751471043, 751471001, 706016001, 9...\n",
      "18446705133201055310    [915526001, 751471043, 751471001, 706016001, 9...\n",
      "18446737527580148316    [915526001, 751471043, 751471001, 706016001, 9...\n",
      "Name: article_id, Length: 437365, dtype: object\n",
      "Week: 104\n",
      "predicted_bestsellers_current_week:  customer_id\n",
      "28847241659200          [909370001, 865799006, 918522001, 924243001, 4...\n",
      "41318098387474          [909370001, 865799006, 918522001, 924243001, 4...\n",
      "116809474287335         [909370001, 865799006, 918522001, 924243001, 4...\n",
      "200292573348128         [909370001, 865799006, 918522001, 924243001, 4...\n",
      "248294615847351         [909370001, 865799006, 918522001, 924243001, 4...\n",
      "                                              ...                        \n",
      "18446624797007271432    [909370001, 865799006, 918522001, 924243001, 4...\n",
      "18446630855572834764    [909370001, 865799006, 918522001, 924243001, 4...\n",
      "18446662237889060501    [909370001, 865799006, 918522001, 924243001, 4...\n",
      "18446705133201055310    [909370001, 865799006, 918522001, 924243001, 4...\n",
      "18446737527580148316    [909370001, 865799006, 918522001, 924243001, 4...\n",
      "Name: article_id, Length: 437365, dtype: object\n",
      "{100: 0.01999729628144646, 101: 0.022689908101592778, 102: 0.024923172680216706, 103: 0.02021864403496489, 104: 0.024726918923118894}\n"
     ]
    }
   ],
   "source": [
    "recall_per_week = {}\n",
    "num_weeks = 5\n",
    "validation = transactions # we use all (actually the last 5 weeks) as validation\n",
    "\n",
    "for i in range(num_weeks, 0, -1):\n",
    "    # Get the purchases for the current week in the validation set\n",
    "    actual_purchases_current_week = validation[validation['week'] == validation['week'].max() - (i - 1)].groupby('customer_id')['article_id'].apply(list)\n",
    "\n",
    "    # Extract the 12 bestselling articles for the current week\n",
    "    bestsellers_current_week = bestsellers_previous_week[bestsellers_previous_week['week'] == validation['week'].max() - (i - 1)]['article_id']\n",
    "\n",
    "    # Create a DataFrame with 'customer_id' and 'article_id' for each customer and the 12 articles\n",
    "    customers = pd.DataFrame({'customer_id': np.repeat(validation['customer_id'].unique(), 12)})\n",
    "    customers['article_id'] = np.tile(bestsellers_current_week.tolist(), len(validation['customer_id'].unique()))\n",
    "\n",
    "    # Create a list of articles for each customer\n",
    "    predicted_bestsellers_current_week = customers.groupby('customer_id')['article_id'].apply(list)\n",
    "    \n",
    "    print(\"Week:\", 104-(i-1))\n",
    "    print(\"predicted_bestsellers_current_week: \", predicted_bestsellers_current_week)\n",
    "\n",
    "    # Calculate recall between actual purchases and predicted bestsellers for the current week\n",
    "    recall_current_week = mean_recall(actual_purchases_current_week, predicted_bestsellers_current_week)\n",
    "    recall_per_week[104-(i-1)] = recall_current_week\n",
    "\n",
    "print(recall_per_week)"
   ],
   "metadata": {
    "collapsed": false,
    "ExecuteTime": {
     "end_time": "2023-12-23T18:57:38.997788700Z",
     "start_time": "2023-12-23T18:57:16.788475Z"
    }
   },
   "id": "ca224ec40824dd5d"
  }
 ]
}
