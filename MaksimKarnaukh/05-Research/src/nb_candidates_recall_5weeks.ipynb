{
 "metadata": {
  "kernelspec": {
   "display_name": "Python 3",
   "language": "python",
   "name": "python3"
  },
  "language_info": {
   "name": "python",
   "version": "3.10.12",
   "mimetype": "text/x-python",
   "codemirror_mode": {
    "name": "ipython",
    "version": 3
   },
   "pygments_lexer": "ipython3",
   "nbconvert_exporter": "python",
   "file_extension": ".py"
  },
  "papermill": {
   "default_parameters": {},
   "duration": 185.112876,
   "end_time": "2022-04-16T17:01:37.553573",
   "environment_variables": {},
   "exception": null,
   "input_path": "__notebook__.ipynb",
   "output_path": "__notebook__.ipynb",
   "parameters": {},
   "start_time": "2022-04-16T16:58:32.440697",
   "version": "2.3.4"
  }
 },
 "nbformat_minor": 5,
 "nbformat": 4,
 "cells": [
  {
   "cell_type": "markdown",
   "source": [],
   "metadata": {
    "papermill": {
     "duration": 0.052947,
     "end_time": "2022-04-16T16:58:42.297492",
     "exception": false,
     "start_time": "2022-04-16T16:58:42.244545",
     "status": "completed"
    },
    "tags": []
   },
   "id": "1c494b88382cd063"
  },
  {
   "cell_type": "code",
   "execution_count": 1,
   "outputs": [],
   "source": [
    "import numpy as np\n",
    "from helper_functions import recall, recall12, mean_recall, calculate_recall_per_customer_batch, calculate_recall_per_week\n",
    "from helper_functions import read_parquet_datasets\n",
    "from candidate_generation import get_candidates\n",
    "import pandas as pd\n",
    "import time\n",
    "\n",
    "transactions, customers, articles = read_parquet_datasets()\n",
    "\n",
    "transactions_copy = transactions.copy()\n",
    "validation = transactions[transactions.week == transactions.week.max()]\n",
    "\n",
    "test_week = transactions.week.max() + 1\n",
    "transactions = transactions[transactions.week > transactions.week.max() - 10]"
   ],
   "metadata": {
    "collapsed": false,
    "ExecuteTime": {
     "end_time": "2023-12-19T18:43:01.501546200Z",
     "start_time": "2023-12-19T18:42:59.979814300Z"
    }
   },
   "id": "ea3f779a42353f00"
  },
  {
   "cell_type": "markdown",
   "source": [
    "# Generating candidates"
   ],
   "metadata": {
    "papermill": {
     "duration": 0.04664,
     "end_time": "2022-04-16T16:58:53.778482",
     "exception": false,
     "start_time": "2022-04-16T16:58:53.731842",
     "status": "completed"
    },
    "tags": []
   },
   "id": "db3c9bcadb9cda9b"
  },
  {
   "cell_type": "markdown",
   "source": [
    "### Last purchase candidates"
   ],
   "metadata": {
    "papermill": {
     "duration": 0.047255,
     "end_time": "2022-04-16T16:58:53.872805",
     "exception": false,
     "start_time": "2022-04-16T16:58:53.825550",
     "status": "completed"
    },
    "tags": []
   },
   "id": "b53210a64303217c"
  },
  {
   "cell_type": "code",
   "source": [
    "c2weeks = transactions.groupby('customer_id')['week'].unique()\n",
    "c2weeks2shifted_weeks = {}\n",
    "\n",
    "for c_id, weeks in c2weeks.items():\n",
    "    c2weeks2shifted_weeks[c_id] = {}\n",
    "    for i in range(weeks.shape[0]-1):\n",
    "        c2weeks2shifted_weeks[c_id][weeks[i]] = weeks[i+1]\n",
    "    c2weeks2shifted_weeks[c_id][weeks[-1]] = test_week\n",
    "    \n",
    "candidates_last_purchase = transactions.copy()\n",
    "weeks = []\n",
    "for i, (c_id, week) in enumerate(zip(transactions['customer_id'], transactions['week'])):\n",
    "    weeks.append(c2weeks2shifted_weeks[c_id][week])\n",
    "candidates_last_purchase.week=weeks"
   ],
   "metadata": {
    "papermill": {
     "duration": 8.716794,
     "end_time": "2022-04-16T16:59:25.784593",
     "exception": false,
     "start_time": "2022-04-16T16:59:17.067799",
     "status": "completed"
    },
    "tags": [],
    "execution": {
     "iopub.status.busy": "2023-10-11T08:03:04.442232Z",
     "iopub.execute_input": "2023-10-11T08:03:04.442523Z",
     "iopub.status.idle": "2023-10-11T08:03:22.614016Z",
     "shell.execute_reply.started": "2023-10-11T08:03:04.442499Z",
     "shell.execute_reply": "2023-10-11T08:03:22.612552Z"
    },
    "trusted": true,
    "ExecuteTime": {
     "end_time": "2023-12-19T18:43:08.052879800Z",
     "start_time": "2023-12-19T18:43:01.502703Z"
    }
   },
   "execution_count": 2,
   "outputs": [
    {
     "ename": "KeyboardInterrupt",
     "evalue": "",
     "output_type": "error",
     "traceback": [
      "\u001B[1;31m---------------------------------------------------------------------------\u001B[0m",
      "\u001B[1;31mKeyboardInterrupt\u001B[0m                         Traceback (most recent call last)",
      "Cell \u001B[1;32mIn[2], line 13\u001B[0m\n\u001B[0;32m     11\u001B[0m weeks \u001B[38;5;241m=\u001B[39m []\n\u001B[0;32m     12\u001B[0m \u001B[38;5;28;01mfor\u001B[39;00m i, (c_id, week) \u001B[38;5;129;01min\u001B[39;00m \u001B[38;5;28menumerate\u001B[39m(\u001B[38;5;28mzip\u001B[39m(transactions[\u001B[38;5;124m'\u001B[39m\u001B[38;5;124mcustomer_id\u001B[39m\u001B[38;5;124m'\u001B[39m], transactions[\u001B[38;5;124m'\u001B[39m\u001B[38;5;124mweek\u001B[39m\u001B[38;5;124m'\u001B[39m])):\n\u001B[1;32m---> 13\u001B[0m     weeks\u001B[38;5;241m.\u001B[39mappend(c2weeks2shifted_weeks[c_id][week])\n\u001B[0;32m     14\u001B[0m candidates_last_purchase\u001B[38;5;241m.\u001B[39mweek\u001B[38;5;241m=\u001B[39mweeks\n",
      "\u001B[1;31mKeyboardInterrupt\u001B[0m: "
     ]
    }
   ],
   "id": "9fd4547c64950724"
  },
  {
   "cell_type": "markdown",
   "source": [
    "### Create three features: age, index_group_name and mean purchase price of the customer."
   ],
   "metadata": {
    "collapsed": false
   },
   "id": "75efc0e487cd778d"
  },
  {
   "cell_type": "code",
   "execution_count": null,
   "outputs": [],
   "source": [
    "# first create mean price per customer\n",
    "mean_price_per_c = transactions.groupby('customer_id')['price'].mean().rename('mean_price_per_c').reset_index()\n",
    "# figure out the customers preferred index group name by looking at past transactions articles' index_group_name\n",
    "temp_transactions = pd.merge(transactions, articles[['article_id', 'index_group_name']], on='article_id', how='left')\n",
    "# per customer count the number of purchases of each index_group_name\n",
    "c2index_group_name = temp_transactions.groupby('customer_id')['index_group_name'].value_counts().rename('count').reset_index()\n",
    "c2index_group_name = c2index_group_name.sort_values('count', ascending=False).groupby('customer_id').head(1).rename(columns={'index_group_name': 'highest_count_ign_per_c'})\n",
    "# merge the mean_price_per_c and c2index_group_name dataframes\n",
    "transactions_with_2feat = pd.merge(c2index_group_name[['customer_id', 'highest_count_ign_per_c']], mean_price_per_c, on='customer_id', how='left')\n",
    "\n",
    "# per article, find the average age of the customers who bought it\n",
    "transactions_with_age = pd.merge(transactions, customers[['customer_id', 'age']], on='customer_id', how='left')\n",
    "mean_age_per_article = transactions_with_age.groupby('article_id')['age'].mean().rename('mean_age_per_a').astype('int8').reset_index()\n",
    "\n",
    "# merge to get the mean_price_per_c, highest_count_ign_per_c and mean_age_per_a columns. This forms the transactions_with_3feat (transactions with three features) dataframe\n",
    "transactions_with_age_2feat = pd.merge(transactions_with_age, transactions_with_2feat, on='customer_id', how='left')\n",
    "transactions_with_3feat = pd.merge(transactions_with_age_2feat, mean_age_per_article, on='article_id', how='left')\n",
    "transactions_with_3feat = pd.merge(transactions_with_3feat, articles[['article_id', 'index_group_name']], on='article_id', how='left') # to get the index_group_name (back)"
   ],
   "metadata": {
    "collapsed": false,
    "ExecuteTime": {
     "end_time": "2023-12-19T18:43:08.055381200Z",
     "start_time": "2023-12-19T18:43:08.053880500Z"
    }
   },
   "id": "3a74564cfe40fb2c"
  },
  {
   "cell_type": "code",
   "execution_count": null,
   "outputs": [],
   "source": [
    "transactions_with_3feat"
   ],
   "metadata": {
    "collapsed": false,
    "ExecuteTime": {
     "start_time": "2023-12-19T18:43:08.054881400Z"
    }
   },
   "id": "6f94e8d5eb113a4f"
  },
  {
   "cell_type": "code",
   "execution_count": null,
   "outputs": [],
   "source": [
    "# merge t with customers columns customer_id, age on customer_id for later use\n",
    "t_merged = pd.merge(transactions_with_2feat, customers[['customer_id', 'age']], on='customer_id', how='left')\n",
    "# Create a DataFrame with unique articles\n",
    "unique_articles = transactions_with_3feat[['t_dat', 'sales_channel_id', 'article_id', 'price', 'index_group_name', 'week']].drop_duplicates()\n",
    "# we only keep latest purchase of each article\n",
    "unique_articles = unique_articles.sort_values('t_dat', ascending=False).drop_duplicates('article_id')"
   ],
   "metadata": {
    "collapsed": false,
    "ExecuteTime": {
     "start_time": "2023-12-19T18:43:08.055880400Z"
    }
   },
   "id": "d87e010afeabddc1"
  },
  {
   "cell_type": "markdown",
   "source": [
    "### Calculate overall mean recall"
   ],
   "metadata": {
    "collapsed": false
   },
   "id": "d4c6aa47de86834d"
  },
  {
   "cell_type": "code",
   "execution_count": null,
   "outputs": [],
   "source": [
    "# Define the total number of customers and batch size\n",
    "total_customers = mean_price_per_c['customer_id'].nunique()\n",
    "print(\"Total customers:\", total_customers)\n",
    "batch_size = 1000\n",
    "\n",
    "validation = transactions # we use all (actually the last 5 weeks) as validation\n",
    "\n",
    "topX_price=50 # top x candidates filtered by price columns\n",
    "topX_age=25 # top x candidates filtered by age columns\n",
    "\n",
    "# Initialize an empty list to store mean recalls for each batch\n",
    "mean_recalls = {}\n",
    "\n",
    "batches = mean_price_per_c['customer_id'].unique()\n",
    "\n",
    "# Iterate over customer batches\n",
    "for i in range(0, total_customers, batch_size):\n",
    "    start = time.time()\n",
    "    start_idx = i\n",
    "    end_idx = i + batch_size\n",
    "    \n",
    "    # Get the current batch of customers\n",
    "    current_batch = batches[start_idx:end_idx]\n",
    "    \n",
    "    # Get candidates for the current batch\n",
    "    top_candidates_3feat = get_candidates([current_batch], unique_articles, t_merged, mean_age_per_article, topX_price, topX_age)\n",
    "    \n",
    "    # Increment the week for the candidates to match the next week\n",
    "    top_candidates_3feat_prev_week = top_candidates_3feat.copy()\n",
    "    top_candidates_3feat_prev_week.week += 1\n",
    "    \n",
    "    # Calculate mean recall for the current batch\n",
    "    mean_recall_per_week = calculate_recall_per_week(validation, top_candidates_3feat_prev_week, current_batch, topX_age, compare_against_bestsellers=True)\n",
    "    \n",
    "    # Append mean recall to the dictionary\n",
    "    for week, mean_recall in mean_recall_per_week.items():\n",
    "        if week not in mean_recalls:\n",
    "            mean_recalls[week] = []\n",
    "        mean_recalls[week].append(mean_recall)\n",
    "    \n",
    "    print(f'Batch {i} processed in {time.time() - start:.2f} seconds')\n",
    "\n",
    "# Calculate overall mean recall\n",
    "mean_recalls = {week: np.mean(mean_recall) for week, mean_recall in mean_recalls.items()}"
   ],
   "metadata": {
    "collapsed": false,
    "ExecuteTime": {
     "start_time": "2023-12-19T18:43:08.056882Z"
    }
   },
   "id": "9b246b314b7a2ce2"
  },
  {
   "cell_type": "code",
   "execution_count": null,
   "outputs": [],
   "source": [
    "print(mean_recalls)"
   ],
   "metadata": {
    "collapsed": false,
    "ExecuteTime": {
     "start_time": "2023-12-19T18:43:08.057380100Z"
    }
   },
   "id": "3bf2d3e29070dbd0"
  }
 ]
}
