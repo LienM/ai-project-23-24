{
 "metadata": {
  "kernelspec": {
   "display_name": "Python 3",
   "language": "python",
   "name": "python3"
  },
  "language_info": {
   "name": "python",
   "version": "3.10.12",
   "mimetype": "text/x-python",
   "codemirror_mode": {
    "name": "ipython",
    "version": 3
   },
   "pygments_lexer": "ipython3",
   "nbconvert_exporter": "python",
   "file_extension": ".py"
  },
  "papermill": {
   "default_parameters": {},
   "duration": 185.112876,
   "end_time": "2022-04-16T17:01:37.553573",
   "environment_variables": {},
   "exception": null,
   "input_path": "__notebook__.ipynb",
   "output_path": "__notebook__.ipynb",
   "parameters": {},
   "start_time": "2022-04-16T16:58:32.440697",
   "version": "2.3.4"
  }
 },
 "nbformat_minor": 5,
 "nbformat": 4,
 "cells": [
  {
   "cell_type": "markdown",
   "source": [],
   "metadata": {
    "papermill": {
     "duration": 0.052947,
     "end_time": "2022-04-16T16:58:42.297492",
     "exception": false,
     "start_time": "2022-04-16T16:58:42.244545",
     "status": "completed"
    },
    "tags": []
   },
   "id": "1c494b88382cd063"
  },
  {
   "cell_type": "code",
   "source": [
    "from helper_functions import customer_hex_id_to_int, mapk\n",
    "from helper_functions import recall, recall12, mean_recall, calculate_recall_per_customer_batch \n",
    "from helper_functions import read_parquet_datasets\n",
    "from candidate_generation import get_candidates\n",
    "import pandas as pd\n",
    "import numpy as np\n",
    "import time\n",
    "import matplotlib.pyplot as plt\n",
    "\n",
    "transactions, customers, articles = read_parquet_datasets()\n",
    "\n",
    "validation = transactions[transactions.week == transactions.week.max()]\n",
    "test_week = transactions.week.max() + 1\n",
    "transactions = transactions[transactions.week > transactions.week.max() - 10]\n",
    "\n",
    "transactions_copy = transactions.copy()"
   ],
   "metadata": {
    "papermill": {
     "duration": 1.348449,
     "end_time": "2022-04-16T16:58:43.828990",
     "exception": false,
     "start_time": "2022-04-16T16:58:42.480541",
     "status": "completed"
    },
    "tags": [],
    "execution": {
     "iopub.status.busy": "2023-10-11T08:02:33.363111Z",
     "iopub.execute_input": "2023-10-11T08:02:33.363887Z",
     "iopub.status.idle": "2023-10-11T08:02:33.430110Z",
     "shell.execute_reply.started": "2023-10-11T08:02:33.363843Z",
     "shell.execute_reply": "2023-10-11T08:02:33.429142Z"
    },
    "trusted": true,
    "ExecuteTime": {
     "end_time": "2023-12-19T19:07:18.346240600Z",
     "start_time": "2023-12-19T19:07:16.699484Z"
    }
   },
   "execution_count": 1,
   "outputs": [],
   "id": "a3e90c217d7a3257"
  },
  {
   "cell_type": "markdown",
   "source": [
    "# Generating candidates"
   ],
   "metadata": {
    "papermill": {
     "duration": 0.04664,
     "end_time": "2022-04-16T16:58:53.778482",
     "exception": false,
     "start_time": "2022-04-16T16:58:53.731842",
     "status": "completed"
    },
    "tags": []
   },
   "id": "db3c9bcadb9cda9b"
  },
  {
   "cell_type": "markdown",
   "source": [
    "### Last purchase candidates"
   ],
   "metadata": {
    "papermill": {
     "duration": 0.047255,
     "end_time": "2022-04-16T16:58:53.872805",
     "exception": false,
     "start_time": "2022-04-16T16:58:53.825550",
     "status": "completed"
    },
    "tags": []
   },
   "id": "b53210a64303217c"
  },
  {
   "cell_type": "code",
   "source": [
    "c2weeks = transactions.groupby('customer_id')['week'].unique()\n",
    "c2weeks2shifted_weeks = {}\n",
    "\n",
    "for c_id, weeks in c2weeks.items():\n",
    "    c2weeks2shifted_weeks[c_id] = {}\n",
    "    for i in range(weeks.shape[0]-1):\n",
    "        c2weeks2shifted_weeks[c_id][weeks[i]] = weeks[i+1]\n",
    "    c2weeks2shifted_weeks[c_id][weeks[-1]] = test_week\n",
    "    \n",
    "candidates_last_purchase = transactions.copy()\n",
    "weeks = []\n",
    "for i, (c_id, week) in enumerate(zip(transactions['customer_id'], transactions['week'])):\n",
    "    weeks.append(c2weeks2shifted_weeks[c_id][week])\n",
    "candidates_last_purchase.week=weeks"
   ],
   "metadata": {
    "papermill": {
     "duration": 8.716794,
     "end_time": "2022-04-16T16:59:25.784593",
     "exception": false,
     "start_time": "2022-04-16T16:59:17.067799",
     "status": "completed"
    },
    "tags": [],
    "execution": {
     "iopub.status.busy": "2023-10-11T08:03:04.442232Z",
     "iopub.execute_input": "2023-10-11T08:03:04.442523Z",
     "iopub.status.idle": "2023-10-11T08:03:22.614016Z",
     "shell.execute_reply.started": "2023-10-11T08:03:04.442499Z",
     "shell.execute_reply": "2023-10-11T08:03:22.612552Z"
    },
    "trusted": true,
    "ExecuteTime": {
     "end_time": "2023-12-19T19:07:33.893636Z",
     "start_time": "2023-12-19T19:07:18.348241400Z"
    }
   },
   "execution_count": 2,
   "outputs": [],
   "id": "9fd4547c64950724"
  },
  {
   "cell_type": "markdown",
   "source": [
    "### Create three features: age, index_group_name and mean purchase price of the customer."
   ],
   "metadata": {
    "collapsed": false
   },
   "id": "75efc0e487cd778d"
  },
  {
   "cell_type": "code",
   "execution_count": 3,
   "outputs": [],
   "source": [
    "# first create mean price per customer\n",
    "mean_price_per_c = transactions.groupby('customer_id')['price'].mean().rename('mean_price_per_c').reset_index()\n",
    "# figure out the customers preferred index group name by looking at past transactions articles' index_group_name\n",
    "temp_transactions = pd.merge(transactions, articles[['article_id', 'index_group_name']], on='article_id', how='left')\n",
    "# per customer count the number of purchases of each index_group_name\n",
    "c2index_group_name = temp_transactions.groupby('customer_id')['index_group_name'].value_counts().rename('count').reset_index()\n",
    "c2index_group_name = c2index_group_name.sort_values('count', ascending=False).groupby('customer_id').head(1).rename(columns={'index_group_name': 'highest_count_ign_per_c'})\n",
    "# merge the mean_price_per_c and c2index_group_name dataframes\n",
    "transactions_with_2feat = pd.merge(c2index_group_name[['customer_id', 'highest_count_ign_per_c']], mean_price_per_c, on='customer_id', how='left')\n",
    "\n",
    "# per article, find the average age of the customers who bought it\n",
    "transactions_with_age = pd.merge(transactions, customers[['customer_id', 'age']], on='customer_id', how='left')\n",
    "mean_age_per_article = transactions_with_age.groupby('article_id')['age'].mean().rename('mean_age_per_a').astype('int8').reset_index()\n",
    "\n",
    "# merge to get the mean_price_per_c, highest_count_ign_per_c and mean_age_per_a columns. This forms the transactions_with_3feat (transactions with three features) dataframe\n",
    "transactions_with_age_2feat = pd.merge(transactions_with_age, transactions_with_2feat, on='customer_id', how='left')\n",
    "transactions_with_3feat = pd.merge(transactions_with_age_2feat, mean_age_per_article, on='article_id', how='left')\n",
    "transactions_with_3feat = pd.merge(transactions_with_3feat, articles[['article_id', 'index_group_name']], on='article_id', how='left') # to get the index_group_name (back)"
   ],
   "metadata": {
    "collapsed": false,
    "ExecuteTime": {
     "end_time": "2023-12-19T19:07:35.592248300Z",
     "start_time": "2023-12-19T19:07:33.895135800Z"
    }
   },
   "id": "3a74564cfe40fb2c"
  },
  {
   "cell_type": "code",
   "execution_count": 4,
   "outputs": [
    {
     "data": {
      "text/plain": "        customer_id  mean_price_per_c\ncount  4.373650e+05     437365.000000\nmean   9.222122e+18          0.028418\nstd    5.321600e+18          0.015294\nmin    2.884724e+13          0.000559\n25%    4.608568e+18          0.019051\n50%    9.234793e+18          0.025407\n75%    1.382773e+19          0.033881\nmax    1.844674e+19          0.506780",
      "text/html": "<div>\n<style scoped>\n    .dataframe tbody tr th:only-of-type {\n        vertical-align: middle;\n    }\n\n    .dataframe tbody tr th {\n        vertical-align: top;\n    }\n\n    .dataframe thead th {\n        text-align: right;\n    }\n</style>\n<table border=\"1\" class=\"dataframe\">\n  <thead>\n    <tr style=\"text-align: right;\">\n      <th></th>\n      <th>customer_id</th>\n      <th>mean_price_per_c</th>\n    </tr>\n  </thead>\n  <tbody>\n    <tr>\n      <th>count</th>\n      <td>4.373650e+05</td>\n      <td>437365.000000</td>\n    </tr>\n    <tr>\n      <th>mean</th>\n      <td>9.222122e+18</td>\n      <td>0.028418</td>\n    </tr>\n    <tr>\n      <th>std</th>\n      <td>5.321600e+18</td>\n      <td>0.015294</td>\n    </tr>\n    <tr>\n      <th>min</th>\n      <td>2.884724e+13</td>\n      <td>0.000559</td>\n    </tr>\n    <tr>\n      <th>25%</th>\n      <td>4.608568e+18</td>\n      <td>0.019051</td>\n    </tr>\n    <tr>\n      <th>50%</th>\n      <td>9.234793e+18</td>\n      <td>0.025407</td>\n    </tr>\n    <tr>\n      <th>75%</th>\n      <td>1.382773e+19</td>\n      <td>0.033881</td>\n    </tr>\n    <tr>\n      <th>max</th>\n      <td>1.844674e+19</td>\n      <td>0.506780</td>\n    </tr>\n  </tbody>\n</table>\n</div>"
     },
     "execution_count": 4,
     "metadata": {},
     "output_type": "execute_result"
    }
   ],
   "source": [
    "mean_price_per_c.describe()"
   ],
   "metadata": {
    "collapsed": false,
    "ExecuteTime": {
     "end_time": "2023-12-19T19:07:35.616021300Z",
     "start_time": "2023-12-19T19:07:35.592248300Z"
    }
   },
   "id": "34fec5445925a9e9"
  },
  {
   "cell_type": "code",
   "execution_count": 5,
   "outputs": [
    {
     "data": {
      "text/plain": "<Figure size 2000x1000 with 1 Axes>",
      "image/png": "[encoded data removed]"
     },
     "metadata": {},
     "output_type": "display_data"
    }
   ],
   "source": [
    "# create a plot to see the distribution of the mean_price_per_c column\n",
    "plt.figure(figsize=(20, 10))\n",
    "plt.hist(mean_price_per_c['mean_price_per_c'], bins=100)\n",
    "plt.show()"
   ],
   "metadata": {
    "collapsed": false,
    "ExecuteTime": {
     "end_time": "2023-12-19T19:07:35.747170400Z",
     "start_time": "2023-12-19T19:07:35.616021300Z"
    }
   },
   "id": "c836be7ce8143d45"
  },
  {
   "cell_type": "code",
   "execution_count": 6,
   "outputs": [
    {
     "data": {
      "text/plain": "                 customer_id  highest_count_ign_per_c  count\n717397  18442606110317830291                        0    231\n14356     371834049679164774                        0    231\n483365  12416564893706204993                        0    196\n670906  17234420386288341054                        0    166\n37771     979392728188584892                        0    160\n...                      ...                      ...    ...\n249873   6420757378897806626                        0      1\n249872   6420635653313041923                        2      1\n249868   6420532178711353262                        2      1\n528364  13570978177308658659                        2      1\n528368  13571048438557800266                        2      1\n\n[437365 rows x 3 columns]",
      "text/html": "<div>\n<style scoped>\n    .dataframe tbody tr th:only-of-type {\n        vertical-align: middle;\n    }\n\n    .dataframe tbody tr th {\n        vertical-align: top;\n    }\n\n    .dataframe thead th {\n        text-align: right;\n    }\n</style>\n<table border=\"1\" class=\"dataframe\">\n  <thead>\n    <tr style=\"text-align: right;\">\n      <th></th>\n      <th>customer_id</th>\n      <th>highest_count_ign_per_c</th>\n      <th>count</th>\n    </tr>\n  </thead>\n  <tbody>\n    <tr>\n      <th>717397</th>\n      <td>18442606110317830291</td>\n      <td>0</td>\n      <td>231</td>\n    </tr>\n    <tr>\n      <th>14356</th>\n      <td>371834049679164774</td>\n      <td>0</td>\n      <td>231</td>\n    </tr>\n    <tr>\n      <th>483365</th>\n      <td>12416564893706204993</td>\n      <td>0</td>\n      <td>196</td>\n    </tr>\n    <tr>\n      <th>670906</th>\n      <td>17234420386288341054</td>\n      <td>0</td>\n      <td>166</td>\n    </tr>\n    <tr>\n      <th>37771</th>\n      <td>979392728188584892</td>\n      <td>0</td>\n      <td>160</td>\n    </tr>\n    <tr>\n      <th>...</th>\n      <td>...</td>\n      <td>...</td>\n      <td>...</td>\n    </tr>\n    <tr>\n      <th>249873</th>\n      <td>6420757378897806626</td>\n      <td>0</td>\n      <td>1</td>\n    </tr>\n    <tr>\n      <th>249872</th>\n      <td>6420635653313041923</td>\n      <td>2</td>\n      <td>1</td>\n    </tr>\n    <tr>\n      <th>249868</th>\n      <td>6420532178711353262</td>\n      <td>2</td>\n      <td>1</td>\n    </tr>\n    <tr>\n      <th>528364</th>\n      <td>13570978177308658659</td>\n      <td>2</td>\n      <td>1</td>\n    </tr>\n    <tr>\n      <th>528368</th>\n      <td>13571048438557800266</td>\n      <td>2</td>\n      <td>1</td>\n    </tr>\n  </tbody>\n</table>\n<p>437365 rows × 3 columns</p>\n</div>"
     },
     "execution_count": 6,
     "metadata": {},
     "output_type": "execute_result"
    }
   ],
   "source": [
    "c2index_group_name"
   ],
   "metadata": {
    "collapsed": false,
    "ExecuteTime": {
     "end_time": "2023-12-19T19:07:35.757218600Z",
     "start_time": "2023-12-19T19:07:35.747170400Z"
    }
   },
   "id": "f28abedca18c6a66"
  },
  {
   "cell_type": "code",
   "execution_count": 7,
   "outputs": [
    {
     "data": {
      "text/plain": "<Figure size 1200x800 with 1 Axes>",
      "image/png": "[encoded data removed]"
     },
     "metadata": {},
     "output_type": "display_data"
    }
   ],
   "source": [
    "# Create plot to see the distribution of the highest_count_ign_per_c column\n",
    "unique_values, counts = np.unique(c2index_group_name['highest_count_ign_per_c'], return_counts=True)\n",
    "\n",
    "plt.figure(figsize=(12, 8))\n",
    "ax = plt.subplot()\n",
    "\n",
    "ax.bar(unique_values, counts, color='skyblue')\n",
    "\n",
    "ax.set_title('Distribution of highest count ign per customer')\n",
    "ax.set_xlabel('Values')\n",
    "ax.set_ylabel('Counts')\n",
    "ax.set_xticks(unique_values)\n",
    "ax.grid(axis='y', linestyle='--', alpha=0.7)\n",
    "\n",
    "plt.show()"
   ],
   "metadata": {
    "collapsed": false,
    "ExecuteTime": {
     "end_time": "2023-12-19T19:07:35.854768200Z",
     "start_time": "2023-12-19T19:07:35.752218600Z"
    }
   },
   "id": "fd6eba499fb82a8d"
  },
  {
   "cell_type": "code",
   "execution_count": 8,
   "outputs": [
    {
     "data": {
      "text/plain": "       article_id  mean_age_per_a\n0       108775015              40\n1       108775044              38\n2       110065001              36\n3       110065002              27\n4       110065011              27\n...           ...             ...\n38326   952267001              34\n38327   952938001              36\n38328   953450001              31\n38329   953763001              35\n38330   956217002              48\n\n[38331 rows x 2 columns]",
      "text/html": "<div>\n<style scoped>\n    .dataframe tbody tr th:only-of-type {\n        vertical-align: middle;\n    }\n\n    .dataframe tbody tr th {\n        vertical-align: top;\n    }\n\n    .dataframe thead th {\n        text-align: right;\n    }\n</style>\n<table border=\"1\" class=\"dataframe\">\n  <thead>\n    <tr style=\"text-align: right;\">\n      <th></th>\n      <th>article_id</th>\n      <th>mean_age_per_a</th>\n    </tr>\n  </thead>\n  <tbody>\n    <tr>\n      <th>0</th>\n      <td>108775015</td>\n      <td>40</td>\n    </tr>\n    <tr>\n      <th>1</th>\n      <td>108775044</td>\n      <td>38</td>\n    </tr>\n    <tr>\n      <th>2</th>\n      <td>110065001</td>\n      <td>36</td>\n    </tr>\n    <tr>\n      <th>3</th>\n      <td>110065002</td>\n      <td>27</td>\n    </tr>\n    <tr>\n      <th>4</th>\n      <td>110065011</td>\n      <td>27</td>\n    </tr>\n    <tr>\n      <th>...</th>\n      <td>...</td>\n      <td>...</td>\n    </tr>\n    <tr>\n      <th>38326</th>\n      <td>952267001</td>\n      <td>34</td>\n    </tr>\n    <tr>\n      <th>38327</th>\n      <td>952938001</td>\n      <td>36</td>\n    </tr>\n    <tr>\n      <th>38328</th>\n      <td>953450001</td>\n      <td>31</td>\n    </tr>\n    <tr>\n      <th>38329</th>\n      <td>953763001</td>\n      <td>35</td>\n    </tr>\n    <tr>\n      <th>38330</th>\n      <td>956217002</td>\n      <td>48</td>\n    </tr>\n  </tbody>\n</table>\n<p>38331 rows × 2 columns</p>\n</div>"
     },
     "execution_count": 8,
     "metadata": {},
     "output_type": "execute_result"
    }
   ],
   "source": [
    "mean_age_per_article"
   ],
   "metadata": {
    "collapsed": false,
    "ExecuteTime": {
     "end_time": "2023-12-19T19:13:25.055671200Z",
     "start_time": "2023-12-19T19:13:25.029703400Z"
    }
   },
   "id": "f3fbe9a60028c080"
  },
  {
   "cell_type": "code",
   "execution_count": 9,
   "outputs": [
    {
     "data": {
      "text/plain": "<Figure size 2000x1000 with 1 Axes>",
      "image/png": "[encoded data removed]"
     },
     "metadata": {},
     "output_type": "display_data"
    }
   ],
   "source": [
    "# Create plot to see the distribution of the mean age per article column\n",
    "plt.figure(figsize=(20, 10))\n",
    "plt.hist(mean_age_per_article['mean_age_per_a'], bins=100)\n",
    "plt.show()"
   ],
   "metadata": {
    "collapsed": false,
    "ExecuteTime": {
     "end_time": "2023-12-19T19:13:46.228276700Z",
     "start_time": "2023-12-19T19:13:46.140246100Z"
    }
   },
   "id": "2414d4c5f110cc85"
  },
  {
   "cell_type": "code",
   "execution_count": 106,
   "outputs": [
    {
     "data": {
      "text/plain": "             t_dat           customer_id  article_id     price  \\\n0       2020-07-15       272412481300040   778064028  0.008458   \n1       2020-07-15       272412481300040   816592008  0.016932   \n2       2020-07-15       272412481300040   621381021  0.033881   \n3       2020-07-15       272412481300040   817477003  0.025407   \n4       2020-07-15       272412481300040   899088002  0.025407   \n...            ...                   ...         ...       ...   \n2762867 2020-09-22  18439937050817258297   891591003  0.084729   \n2762868 2020-09-22  18439937050817258297   869706005  0.084729   \n2762869 2020-09-22  18440902715633436014   918894002  0.016932   \n2762870 2020-09-22  18440902715633436014   761269001  0.016932   \n2762871 2020-09-22  18443633011701112574   914868002  0.033881   \n\n         sales_channel_id  week  age  highest_count_ign_per_c  \\\n0                       1    95   48                        0   \n1                       1    95   48                        0   \n2                       1    95   48                        0   \n3                       1    95   48                        0   \n4                       1    95   48                        0   \n...                   ...   ...  ...                      ...   \n2762867                 2   104   49                        0   \n2762868                 2   104   49                        0   \n2762869                 1   104   18                        0   \n2762870                 1   104   18                        0   \n2762871                 1   104   58                        0   \n\n         mean_price_per_c  mean_age_per_a  index_group_name  \n0                0.030597              32                 0  \n1                0.030597              37                 2  \n2                0.030597              35                 2  \n3                0.030597              33                 0  \n4                0.030597              35                 2  \n...                   ...             ...               ...  \n2762867          0.040379              41                 0  \n2762868          0.040379              39                 0  \n2762869          0.028232              30                 0  \n2762870          0.028232              33                 0  \n2762871          0.032186              33                 2  \n\n[2762872 rows x 11 columns]",
      "text/html": "<div>\n<style scoped>\n    .dataframe tbody tr th:only-of-type {\n        vertical-align: middle;\n    }\n\n    .dataframe tbody tr th {\n        vertical-align: top;\n    }\n\n    .dataframe thead th {\n        text-align: right;\n    }\n</style>\n<table border=\"1\" class=\"dataframe\">\n  <thead>\n    <tr style=\"text-align: right;\">\n      <th></th>\n      <th>t_dat</th>\n      <th>customer_id</th>\n      <th>article_id</th>\n      <th>price</th>\n      <th>sales_channel_id</th>\n      <th>week</th>\n      <th>age</th>\n      <th>highest_count_ign_per_c</th>\n      <th>mean_price_per_c</th>\n      <th>mean_age_per_a</th>\n      <th>index_group_name</th>\n    </tr>\n  </thead>\n  <tbody>\n    <tr>\n      <th>0</th>\n      <td>2020-07-15</td>\n      <td>272412481300040</td>\n      <td>778064028</td>\n      <td>0.008458</td>\n      <td>1</td>\n      <td>95</td>\n      <td>48</td>\n      <td>0</td>\n      <td>0.030597</td>\n      <td>32</td>\n      <td>0</td>\n    </tr>\n    <tr>\n      <th>1</th>\n      <td>2020-07-15</td>\n      <td>272412481300040</td>\n      <td>816592008</td>\n      <td>0.016932</td>\n      <td>1</td>\n      <td>95</td>\n      <td>48</td>\n      <td>0</td>\n      <td>0.030597</td>\n      <td>37</td>\n      <td>2</td>\n    </tr>\n    <tr>\n      <th>2</th>\n      <td>2020-07-15</td>\n      <td>272412481300040</td>\n      <td>621381021</td>\n      <td>0.033881</td>\n      <td>1</td>\n      <td>95</td>\n      <td>48</td>\n      <td>0</td>\n      <td>0.030597</td>\n      <td>35</td>\n      <td>2</td>\n    </tr>\n    <tr>\n      <th>3</th>\n      <td>2020-07-15</td>\n      <td>272412481300040</td>\n      <td>817477003</td>\n      <td>0.025407</td>\n      <td>1</td>\n      <td>95</td>\n      <td>48</td>\n      <td>0</td>\n      <td>0.030597</td>\n      <td>33</td>\n      <td>0</td>\n    </tr>\n    <tr>\n      <th>4</th>\n      <td>2020-07-15</td>\n      <td>272412481300040</td>\n      <td>899088002</td>\n      <td>0.025407</td>\n      <td>1</td>\n      <td>95</td>\n      <td>48</td>\n      <td>0</td>\n      <td>0.030597</td>\n      <td>35</td>\n      <td>2</td>\n    </tr>\n    <tr>\n      <th>...</th>\n      <td>...</td>\n      <td>...</td>\n      <td>...</td>\n      <td>...</td>\n      <td>...</td>\n      <td>...</td>\n      <td>...</td>\n      <td>...</td>\n      <td>...</td>\n      <td>...</td>\n      <td>...</td>\n    </tr>\n    <tr>\n      <th>2762867</th>\n      <td>2020-09-22</td>\n      <td>18439937050817258297</td>\n      <td>891591003</td>\n      <td>0.084729</td>\n      <td>2</td>\n      <td>104</td>\n      <td>49</td>\n      <td>0</td>\n      <td>0.040379</td>\n      <td>41</td>\n      <td>0</td>\n    </tr>\n    <tr>\n      <th>2762868</th>\n      <td>2020-09-22</td>\n      <td>18439937050817258297</td>\n      <td>869706005</td>\n      <td>0.084729</td>\n      <td>2</td>\n      <td>104</td>\n      <td>49</td>\n      <td>0</td>\n      <td>0.040379</td>\n      <td>39</td>\n      <td>0</td>\n    </tr>\n    <tr>\n      <th>2762869</th>\n      <td>2020-09-22</td>\n      <td>18440902715633436014</td>\n      <td>918894002</td>\n      <td>0.016932</td>\n      <td>1</td>\n      <td>104</td>\n      <td>18</td>\n      <td>0</td>\n      <td>0.028232</td>\n      <td>30</td>\n      <td>0</td>\n    </tr>\n    <tr>\n      <th>2762870</th>\n      <td>2020-09-22</td>\n      <td>18440902715633436014</td>\n      <td>761269001</td>\n      <td>0.016932</td>\n      <td>1</td>\n      <td>104</td>\n      <td>18</td>\n      <td>0</td>\n      <td>0.028232</td>\n      <td>33</td>\n      <td>0</td>\n    </tr>\n    <tr>\n      <th>2762871</th>\n      <td>2020-09-22</td>\n      <td>18443633011701112574</td>\n      <td>914868002</td>\n      <td>0.033881</td>\n      <td>1</td>\n      <td>104</td>\n      <td>58</td>\n      <td>0</td>\n      <td>0.032186</td>\n      <td>33</td>\n      <td>2</td>\n    </tr>\n  </tbody>\n</table>\n<p>2762872 rows × 11 columns</p>\n</div>"
     },
     "execution_count": 106,
     "metadata": {},
     "output_type": "execute_result"
    }
   ],
   "source": [
    "transactions_with_3feat"
   ],
   "metadata": {
    "collapsed": false,
    "ExecuteTime": {
     "end_time": "2023-12-18T00:49:21.546137Z",
     "start_time": "2023-12-18T00:49:21.533635200Z"
    }
   },
   "id": "6f94e8d5eb113a4f"
  },
  {
   "cell_type": "markdown",
   "source": [
    "### Generate personalized candidates for each customer based on three features: age, index_group_name and mean purchase price of the customer."
   ],
   "metadata": {
    "collapsed": false
   },
   "id": "a8985d7b387944cd"
  },
  {
   "cell_type": "code",
   "execution_count": 107,
   "outputs": [],
   "source": [
    "# merge t with customers columns customer_id, age on customer_id for later use\n",
    "t_merged = pd.merge(transactions_with_2feat, customers[['customer_id', 'age']], on='customer_id', how='left')\n",
    "# Create a DataFrame with unique articles\n",
    "unique_articles = transactions_with_3feat[['t_dat', 'sales_channel_id', 'article_id', 'price', 'index_group_name', 'week']].drop_duplicates()\n",
    "# we only keep latest purchase of each article\n",
    "unique_articles = unique_articles.sort_values('t_dat', ascending=False).drop_duplicates('article_id')\n",
    "\n",
    "unique_customers = mean_price_per_c['customer_id'].unique()[:1000]\n",
    "chunk_size = 1000  # Define the number of customers to process at once\n",
    "chunks = [unique_customers[i:i + chunk_size] for i in range(0, len(unique_customers), chunk_size)]\n",
    "topX_price=50 # top x candidates filtered by price columns\n",
    "topX_age=25 # top x candidates filtered by age columns\n",
    "\n",
    "top_candidates_3feat = get_candidates(chunks, unique_articles, t_merged,mean_age_per_article, topX_price, topX_age)"
   ],
   "metadata": {
    "collapsed": false,
    "ExecuteTime": {
     "end_time": "2023-12-18T00:49:22.335034900Z",
     "start_time": "2023-12-18T00:49:21.546636Z"
    }
   },
   "id": "d87e010afeabddc1"
  },
  {
   "cell_type": "code",
   "execution_count": 109,
   "outputs": [
    {
     "data": {
      "text/plain": "            t_dat  sales_channel_id  article_id     price  index_group_name  \\\n0      2020-07-16                 1   754852002  0.050831                 0   \n1      2020-07-21                 1   747764002  0.047441                 0   \n2      2020-07-16                 1   685944002  0.042356                 0   \n3      2020-07-19                 1   746344001  0.033881                 0   \n4      2020-07-15                 1   796042001  0.033881                 0   \n...           ...               ...         ...       ...               ...   \n249995 2020-09-22                 2   761406005  0.022017                 2   \n249996 2020-09-22                 1   911034002  0.021678                 2   \n249997 2020-09-22                 1   670698020  0.021169                 2   \n249998 2020-09-22                 1   884405005  0.021169                 2   \n249999 2020-09-20                 1   850622002  0.021169                 2   \n\n        week        customer_id  highest_count_ign_per_c  mean_price_per_c  \\\n0         95     28847241659200                        0          0.046085   \n1         95     28847241659200                        0          0.046085   \n2         95     28847241659200                        0          0.046085   \n3         95     28847241659200                        0          0.046085   \n4         95     28847241659200                        0          0.046085   \n...      ...                ...                      ...               ...   \n249995   104  42984229297455520                        2          0.021452   \n249996   104  42984229297455520                        2          0.021452   \n249997   104  42984229297455520                        2          0.021452   \n249998   104  42984229297455520                        2          0.021452   \n249999   104  42984229297455520                        2          0.021452   \n\n        age  mean_age_per_a  price_rank  age_rank  \n0        21              21        21.0       1.0  \n1        21              22         2.0       2.0  \n2        21              20         7.0       2.0  \n3        21              20        36.0       2.0  \n4        21              22        36.0       2.0  \n...     ...             ...         ...       ...  \n249995   18              31        40.0      15.0  \n249996   18              32        12.0      22.0  \n249997   18              32        13.0      22.0  \n249998   18              32        13.0      22.0  \n249999   18              32        13.0      22.0  \n\n[250000 rows x 13 columns]",
      "text/html": "<div>\n<style scoped>\n    .dataframe tbody tr th:only-of-type {\n        vertical-align: middle;\n    }\n\n    .dataframe tbody tr th {\n        vertical-align: top;\n    }\n\n    .dataframe thead th {\n        text-align: right;\n    }\n</style>\n<table border=\"1\" class=\"dataframe\">\n  <thead>\n    <tr style=\"text-align: right;\">\n      <th></th>\n      <th>t_dat</th>\n      <th>sales_channel_id</th>\n      <th>article_id</th>\n      <th>price</th>\n      <th>index_group_name</th>\n      <th>week</th>\n      <th>customer_id</th>\n      <th>highest_count_ign_per_c</th>\n      <th>mean_price_per_c</th>\n      <th>age</th>\n      <th>mean_age_per_a</th>\n      <th>price_rank</th>\n      <th>age_rank</th>\n    </tr>\n  </thead>\n  <tbody>\n    <tr>\n      <th>0</th>\n      <td>2020-07-16</td>\n      <td>1</td>\n      <td>754852002</td>\n      <td>0.050831</td>\n      <td>0</td>\n      <td>95</td>\n      <td>28847241659200</td>\n      <td>0</td>\n      <td>0.046085</td>\n      <td>21</td>\n      <td>21</td>\n      <td>21.0</td>\n      <td>1.0</td>\n    </tr>\n    <tr>\n      <th>1</th>\n      <td>2020-07-21</td>\n      <td>1</td>\n      <td>747764002</td>\n      <td>0.047441</td>\n      <td>0</td>\n      <td>95</td>\n      <td>28847241659200</td>\n      <td>0</td>\n      <td>0.046085</td>\n      <td>21</td>\n      <td>22</td>\n      <td>2.0</td>\n      <td>2.0</td>\n    </tr>\n    <tr>\n      <th>2</th>\n      <td>2020-07-16</td>\n      <td>1</td>\n      <td>685944002</td>\n      <td>0.042356</td>\n      <td>0</td>\n      <td>95</td>\n      <td>28847241659200</td>\n      <td>0</td>\n      <td>0.046085</td>\n      <td>21</td>\n      <td>20</td>\n      <td>7.0</td>\n      <td>2.0</td>\n    </tr>\n    <tr>\n      <th>3</th>\n      <td>2020-07-19</td>\n      <td>1</td>\n      <td>746344001</td>\n      <td>0.033881</td>\n      <td>0</td>\n      <td>95</td>\n      <td>28847241659200</td>\n      <td>0</td>\n      <td>0.046085</td>\n      <td>21</td>\n      <td>20</td>\n      <td>36.0</td>\n      <td>2.0</td>\n    </tr>\n    <tr>\n      <th>4</th>\n      <td>2020-07-15</td>\n      <td>1</td>\n      <td>796042001</td>\n      <td>0.033881</td>\n      <td>0</td>\n      <td>95</td>\n      <td>28847241659200</td>\n      <td>0</td>\n      <td>0.046085</td>\n      <td>21</td>\n      <td>22</td>\n      <td>36.0</td>\n      <td>2.0</td>\n    </tr>\n    <tr>\n      <th>...</th>\n      <td>...</td>\n      <td>...</td>\n      <td>...</td>\n      <td>...</td>\n      <td>...</td>\n      <td>...</td>\n      <td>...</td>\n      <td>...</td>\n      <td>...</td>\n      <td>...</td>\n      <td>...</td>\n      <td>...</td>\n      <td>...</td>\n    </tr>\n    <tr>\n      <th>249995</th>\n      <td>2020-09-22</td>\n      <td>2</td>\n      <td>761406005</td>\n      <td>0.022017</td>\n      <td>2</td>\n      <td>104</td>\n      <td>42984229297455520</td>\n      <td>2</td>\n      <td>0.021452</td>\n      <td>18</td>\n      <td>31</td>\n      <td>40.0</td>\n      <td>15.0</td>\n    </tr>\n    <tr>\n      <th>249996</th>\n      <td>2020-09-22</td>\n      <td>1</td>\n      <td>911034002</td>\n      <td>0.021678</td>\n      <td>2</td>\n      <td>104</td>\n      <td>42984229297455520</td>\n      <td>2</td>\n      <td>0.021452</td>\n      <td>18</td>\n      <td>32</td>\n      <td>12.0</td>\n      <td>22.0</td>\n    </tr>\n    <tr>\n      <th>249997</th>\n      <td>2020-09-22</td>\n      <td>1</td>\n      <td>670698020</td>\n      <td>0.021169</td>\n      <td>2</td>\n      <td>104</td>\n      <td>42984229297455520</td>\n      <td>2</td>\n      <td>0.021452</td>\n      <td>18</td>\n      <td>32</td>\n      <td>13.0</td>\n      <td>22.0</td>\n    </tr>\n    <tr>\n      <th>249998</th>\n      <td>2020-09-22</td>\n      <td>1</td>\n      <td>884405005</td>\n      <td>0.021169</td>\n      <td>2</td>\n      <td>104</td>\n      <td>42984229297455520</td>\n      <td>2</td>\n      <td>0.021452</td>\n      <td>18</td>\n      <td>32</td>\n      <td>13.0</td>\n      <td>22.0</td>\n    </tr>\n    <tr>\n      <th>249999</th>\n      <td>2020-09-20</td>\n      <td>1</td>\n      <td>850622002</td>\n      <td>0.021169</td>\n      <td>2</td>\n      <td>104</td>\n      <td>42984229297455520</td>\n      <td>2</td>\n      <td>0.021452</td>\n      <td>18</td>\n      <td>32</td>\n      <td>13.0</td>\n      <td>22.0</td>\n    </tr>\n  </tbody>\n</table>\n<p>250000 rows × 13 columns</p>\n</div>"
     },
     "execution_count": 109,
     "metadata": {},
     "output_type": "execute_result"
    }
   ],
   "source": [
    "top_candidates_3feat"
   ],
   "metadata": {
    "collapsed": false,
    "ExecuteTime": {
     "end_time": "2023-12-18T00:49:53.241612100Z",
     "start_time": "2023-12-18T00:49:53.224407500Z"
    }
   },
   "id": "fd989a746b4b6fa7"
  },
  {
   "cell_type": "code",
   "execution_count": 110,
   "outputs": [
    {
     "data": {
      "text/plain": "          t_dat  sales_channel_id  article_id     price  index_group_name  \\\n1250 2020-07-20                 1   578317003  0.027102                 0   \n1251 2020-07-18                 1   690803001  0.033881                 0   \n1252 2020-07-17                 1   559626001  0.025424                 0   \n1253 2020-07-21                 2   594834018  0.030492                 0   \n1254 2020-07-15                 2   757333004  0.030492                 0   \n...         ...               ...         ...       ...               ...   \n1495 2020-09-22                 2   557994003  0.030492                 0   \n1496 2020-09-22                 1   843380004  0.030492                 0   \n1497 2020-09-22                 1   883689001  0.030492                 0   \n1498 2020-09-22                 2   874264001  0.030492                 0   \n1499 2020-09-22                 2   789150001  0.030492                 0   \n\n      week      customer_id  highest_count_ign_per_c  mean_price_per_c  age  \\\n1250    95  272412481300040                        0          0.030597   48   \n1251    95  272412481300040                        0          0.030597   48   \n1252    95  272412481300040                        0          0.030597   48   \n1253    95  272412481300040                        0          0.030597   48   \n1254    95  272412481300040                        0          0.030597   48   \n...    ...              ...                      ...               ...  ...   \n1495   104  272412481300040                        0          0.030597   48   \n1496   104  272412481300040                        0          0.030597   48   \n1497   104  272412481300040                        0          0.030597   48   \n1498   104  272412481300040                        0          0.030597   48   \n1499   104  272412481300040                        0          0.030597   48   \n\n      mean_age_per_a  price_rank  age_rank  \n1250              48        26.0       1.0  \n1251              47        11.0       2.0  \n1252              47        45.0       2.0  \n1253              46         1.0       4.0  \n1254              50         1.0       4.0  \n...              ...         ...       ...  \n1495              34         4.0      18.0  \n1496              34         4.0      18.0  \n1497              34         4.0      18.0  \n1498              34         4.0      18.0  \n1499              33         4.0      25.0  \n\n[250 rows x 13 columns]",
      "text/html": "<div>\n<style scoped>\n    .dataframe tbody tr th:only-of-type {\n        vertical-align: middle;\n    }\n\n    .dataframe tbody tr th {\n        vertical-align: top;\n    }\n\n    .dataframe thead th {\n        text-align: right;\n    }\n</style>\n<table border=\"1\" class=\"dataframe\">\n  <thead>\n    <tr style=\"text-align: right;\">\n      <th></th>\n      <th>t_dat</th>\n      <th>sales_channel_id</th>\n      <th>article_id</th>\n      <th>price</th>\n      <th>index_group_name</th>\n      <th>week</th>\n      <th>customer_id</th>\n      <th>highest_count_ign_per_c</th>\n      <th>mean_price_per_c</th>\n      <th>age</th>\n      <th>mean_age_per_a</th>\n      <th>price_rank</th>\n      <th>age_rank</th>\n    </tr>\n  </thead>\n  <tbody>\n    <tr>\n      <th>1250</th>\n      <td>2020-07-20</td>\n      <td>1</td>\n      <td>578317003</td>\n      <td>0.027102</td>\n      <td>0</td>\n      <td>95</td>\n      <td>272412481300040</td>\n      <td>0</td>\n      <td>0.030597</td>\n      <td>48</td>\n      <td>48</td>\n      <td>26.0</td>\n      <td>1.0</td>\n    </tr>\n    <tr>\n      <th>1251</th>\n      <td>2020-07-18</td>\n      <td>1</td>\n      <td>690803001</td>\n      <td>0.033881</td>\n      <td>0</td>\n      <td>95</td>\n      <td>272412481300040</td>\n      <td>0</td>\n      <td>0.030597</td>\n      <td>48</td>\n      <td>47</td>\n      <td>11.0</td>\n      <td>2.0</td>\n    </tr>\n    <tr>\n      <th>1252</th>\n      <td>2020-07-17</td>\n      <td>1</td>\n      <td>559626001</td>\n      <td>0.025424</td>\n      <td>0</td>\n      <td>95</td>\n      <td>272412481300040</td>\n      <td>0</td>\n      <td>0.030597</td>\n      <td>48</td>\n      <td>47</td>\n      <td>45.0</td>\n      <td>2.0</td>\n    </tr>\n    <tr>\n      <th>1253</th>\n      <td>2020-07-21</td>\n      <td>2</td>\n      <td>594834018</td>\n      <td>0.030492</td>\n      <td>0</td>\n      <td>95</td>\n      <td>272412481300040</td>\n      <td>0</td>\n      <td>0.030597</td>\n      <td>48</td>\n      <td>46</td>\n      <td>1.0</td>\n      <td>4.0</td>\n    </tr>\n    <tr>\n      <th>1254</th>\n      <td>2020-07-15</td>\n      <td>2</td>\n      <td>757333004</td>\n      <td>0.030492</td>\n      <td>0</td>\n      <td>95</td>\n      <td>272412481300040</td>\n      <td>0</td>\n      <td>0.030597</td>\n      <td>48</td>\n      <td>50</td>\n      <td>1.0</td>\n      <td>4.0</td>\n    </tr>\n    <tr>\n      <th>...</th>\n      <td>...</td>\n      <td>...</td>\n      <td>...</td>\n      <td>...</td>\n      <td>...</td>\n      <td>...</td>\n      <td>...</td>\n      <td>...</td>\n      <td>...</td>\n      <td>...</td>\n      <td>...</td>\n      <td>...</td>\n      <td>...</td>\n    </tr>\n    <tr>\n      <th>1495</th>\n      <td>2020-09-22</td>\n      <td>2</td>\n      <td>557994003</td>\n      <td>0.030492</td>\n      <td>0</td>\n      <td>104</td>\n      <td>272412481300040</td>\n      <td>0</td>\n      <td>0.030597</td>\n      <td>48</td>\n      <td>34</td>\n      <td>4.0</td>\n      <td>18.0</td>\n    </tr>\n    <tr>\n      <th>1496</th>\n      <td>2020-09-22</td>\n      <td>1</td>\n      <td>843380004</td>\n      <td>0.030492</td>\n      <td>0</td>\n      <td>104</td>\n      <td>272412481300040</td>\n      <td>0</td>\n      <td>0.030597</td>\n      <td>48</td>\n      <td>34</td>\n      <td>4.0</td>\n      <td>18.0</td>\n    </tr>\n    <tr>\n      <th>1497</th>\n      <td>2020-09-22</td>\n      <td>1</td>\n      <td>883689001</td>\n      <td>0.030492</td>\n      <td>0</td>\n      <td>104</td>\n      <td>272412481300040</td>\n      <td>0</td>\n      <td>0.030597</td>\n      <td>48</td>\n      <td>34</td>\n      <td>4.0</td>\n      <td>18.0</td>\n    </tr>\n    <tr>\n      <th>1498</th>\n      <td>2020-09-22</td>\n      <td>2</td>\n      <td>874264001</td>\n      <td>0.030492</td>\n      <td>0</td>\n      <td>104</td>\n      <td>272412481300040</td>\n      <td>0</td>\n      <td>0.030597</td>\n      <td>48</td>\n      <td>34</td>\n      <td>4.0</td>\n      <td>18.0</td>\n    </tr>\n    <tr>\n      <th>1499</th>\n      <td>2020-09-22</td>\n      <td>2</td>\n      <td>789150001</td>\n      <td>0.030492</td>\n      <td>0</td>\n      <td>104</td>\n      <td>272412481300040</td>\n      <td>0</td>\n      <td>0.030597</td>\n      <td>48</td>\n      <td>33</td>\n      <td>4.0</td>\n      <td>25.0</td>\n    </tr>\n  </tbody>\n</table>\n<p>250 rows × 13 columns</p>\n</div>"
     },
     "execution_count": 110,
     "metadata": {},
     "output_type": "execute_result"
    }
   ],
   "source": [
    "top_candidates_3feat[top_candidates_3feat['customer_id'] == 272412481300040]"
   ],
   "metadata": {
    "collapsed": false,
    "ExecuteTime": {
     "end_time": "2023-12-18T00:49:53.280444800Z",
     "start_time": "2023-12-18T00:49:53.241108200Z"
    }
   },
   "id": "c1d114e579f71e1d"
  },
  {
   "cell_type": "code",
   "execution_count": 111,
   "outputs": [],
   "source": [
    "top_candidates_3feat_prev_week = top_candidates_3feat.copy()\n",
    "del top_candidates_3feat\n",
    "top_candidates_3feat_prev_week.week += 1"
   ],
   "metadata": {
    "collapsed": false,
    "ExecuteTime": {
     "end_time": "2023-12-18T00:49:53.282952200Z",
     "start_time": "2023-12-18T00:49:53.257636300Z"
    }
   },
   "id": "ca8195cb9a6c73f5"
  },
  {
   "cell_type": "code",
   "execution_count": 112,
   "outputs": [
    {
     "data": {
      "text/plain": "            t_dat  sales_channel_id  article_id     price  index_group_name  \\\n0      2020-07-16                 1   754852002  0.050831                 0   \n1      2020-07-21                 1   747764002  0.047441                 0   \n2      2020-07-16                 1   685944002  0.042356                 0   \n3      2020-07-19                 1   746344001  0.033881                 0   \n4      2020-07-15                 1   796042001  0.033881                 0   \n...           ...               ...         ...       ...               ...   \n249995 2020-09-22                 2   761406005  0.022017                 2   \n249996 2020-09-22                 1   911034002  0.021678                 2   \n249997 2020-09-22                 1   670698020  0.021169                 2   \n249998 2020-09-22                 1   884405005  0.021169                 2   \n249999 2020-09-20                 1   850622002  0.021169                 2   \n\n        week        customer_id  highest_count_ign_per_c  mean_price_per_c  \\\n0         96     28847241659200                        0          0.046085   \n1         96     28847241659200                        0          0.046085   \n2         96     28847241659200                        0          0.046085   \n3         96     28847241659200                        0          0.046085   \n4         96     28847241659200                        0          0.046085   \n...      ...                ...                      ...               ...   \n249995   105  42984229297455520                        2          0.021452   \n249996   105  42984229297455520                        2          0.021452   \n249997   105  42984229297455520                        2          0.021452   \n249998   105  42984229297455520                        2          0.021452   \n249999   105  42984229297455520                        2          0.021452   \n\n        age  mean_age_per_a  price_rank  age_rank  \n0        21              21        21.0       1.0  \n1        21              22         2.0       2.0  \n2        21              20         7.0       2.0  \n3        21              20        36.0       2.0  \n4        21              22        36.0       2.0  \n...     ...             ...         ...       ...  \n249995   18              31        40.0      15.0  \n249996   18              32        12.0      22.0  \n249997   18              32        13.0      22.0  \n249998   18              32        13.0      22.0  \n249999   18              32        13.0      22.0  \n\n[250000 rows x 13 columns]",
      "text/html": "<div>\n<style scoped>\n    .dataframe tbody tr th:only-of-type {\n        vertical-align: middle;\n    }\n\n    .dataframe tbody tr th {\n        vertical-align: top;\n    }\n\n    .dataframe thead th {\n        text-align: right;\n    }\n</style>\n<table border=\"1\" class=\"dataframe\">\n  <thead>\n    <tr style=\"text-align: right;\">\n      <th></th>\n      <th>t_dat</th>\n      <th>sales_channel_id</th>\n      <th>article_id</th>\n      <th>price</th>\n      <th>index_group_name</th>\n      <th>week</th>\n      <th>customer_id</th>\n      <th>highest_count_ign_per_c</th>\n      <th>mean_price_per_c</th>\n      <th>age</th>\n      <th>mean_age_per_a</th>\n      <th>price_rank</th>\n      <th>age_rank</th>\n    </tr>\n  </thead>\n  <tbody>\n    <tr>\n      <th>0</th>\n      <td>2020-07-16</td>\n      <td>1</td>\n      <td>754852002</td>\n      <td>0.050831</td>\n      <td>0</td>\n      <td>96</td>\n      <td>28847241659200</td>\n      <td>0</td>\n      <td>0.046085</td>\n      <td>21</td>\n      <td>21</td>\n      <td>21.0</td>\n      <td>1.0</td>\n    </tr>\n    <tr>\n      <th>1</th>\n      <td>2020-07-21</td>\n      <td>1</td>\n      <td>747764002</td>\n      <td>0.047441</td>\n      <td>0</td>\n      <td>96</td>\n      <td>28847241659200</td>\n      <td>0</td>\n      <td>0.046085</td>\n      <td>21</td>\n      <td>22</td>\n      <td>2.0</td>\n      <td>2.0</td>\n    </tr>\n    <tr>\n      <th>2</th>\n      <td>2020-07-16</td>\n      <td>1</td>\n      <td>685944002</td>\n      <td>0.042356</td>\n      <td>0</td>\n      <td>96</td>\n      <td>28847241659200</td>\n      <td>0</td>\n      <td>0.046085</td>\n      <td>21</td>\n      <td>20</td>\n      <td>7.0</td>\n      <td>2.0</td>\n    </tr>\n    <tr>\n      <th>3</th>\n      <td>2020-07-19</td>\n      <td>1</td>\n      <td>746344001</td>\n      <td>0.033881</td>\n      <td>0</td>\n      <td>96</td>\n      <td>28847241659200</td>\n      <td>0</td>\n      <td>0.046085</td>\n      <td>21</td>\n      <td>20</td>\n      <td>36.0</td>\n      <td>2.0</td>\n    </tr>\n    <tr>\n      <th>4</th>\n      <td>2020-07-15</td>\n      <td>1</td>\n      <td>796042001</td>\n      <td>0.033881</td>\n      <td>0</td>\n      <td>96</td>\n      <td>28847241659200</td>\n      <td>0</td>\n      <td>0.046085</td>\n      <td>21</td>\n      <td>22</td>\n      <td>36.0</td>\n      <td>2.0</td>\n    </tr>\n    <tr>\n      <th>...</th>\n      <td>...</td>\n      <td>...</td>\n      <td>...</td>\n      <td>...</td>\n      <td>...</td>\n      <td>...</td>\n      <td>...</td>\n      <td>...</td>\n      <td>...</td>\n      <td>...</td>\n      <td>...</td>\n      <td>...</td>\n      <td>...</td>\n    </tr>\n    <tr>\n      <th>249995</th>\n      <td>2020-09-22</td>\n      <td>2</td>\n      <td>761406005</td>\n      <td>0.022017</td>\n      <td>2</td>\n      <td>105</td>\n      <td>42984229297455520</td>\n      <td>2</td>\n      <td>0.021452</td>\n      <td>18</td>\n      <td>31</td>\n      <td>40.0</td>\n      <td>15.0</td>\n    </tr>\n    <tr>\n      <th>249996</th>\n      <td>2020-09-22</td>\n      <td>1</td>\n      <td>911034002</td>\n      <td>0.021678</td>\n      <td>2</td>\n      <td>105</td>\n      <td>42984229297455520</td>\n      <td>2</td>\n      <td>0.021452</td>\n      <td>18</td>\n      <td>32</td>\n      <td>12.0</td>\n      <td>22.0</td>\n    </tr>\n    <tr>\n      <th>249997</th>\n      <td>2020-09-22</td>\n      <td>1</td>\n      <td>670698020</td>\n      <td>0.021169</td>\n      <td>2</td>\n      <td>105</td>\n      <td>42984229297455520</td>\n      <td>2</td>\n      <td>0.021452</td>\n      <td>18</td>\n      <td>32</td>\n      <td>13.0</td>\n      <td>22.0</td>\n    </tr>\n    <tr>\n      <th>249998</th>\n      <td>2020-09-22</td>\n      <td>1</td>\n      <td>884405005</td>\n      <td>0.021169</td>\n      <td>2</td>\n      <td>105</td>\n      <td>42984229297455520</td>\n      <td>2</td>\n      <td>0.021452</td>\n      <td>18</td>\n      <td>32</td>\n      <td>13.0</td>\n      <td>22.0</td>\n    </tr>\n    <tr>\n      <th>249999</th>\n      <td>2020-09-20</td>\n      <td>1</td>\n      <td>850622002</td>\n      <td>0.021169</td>\n      <td>2</td>\n      <td>105</td>\n      <td>42984229297455520</td>\n      <td>2</td>\n      <td>0.021452</td>\n      <td>18</td>\n      <td>32</td>\n      <td>13.0</td>\n      <td>22.0</td>\n    </tr>\n  </tbody>\n</table>\n<p>250000 rows × 13 columns</p>\n</div>"
     },
     "execution_count": 112,
     "metadata": {},
     "output_type": "execute_result"
    }
   ],
   "source": [
    "top_candidates_3feat_prev_week"
   ],
   "metadata": {
    "collapsed": false,
    "ExecuteTime": {
     "end_time": "2023-12-18T00:49:53.334831100Z",
     "start_time": "2023-12-18T00:49:53.275444900Z"
    }
   },
   "id": "d79b38b8165c69cf"
  },
  {
   "cell_type": "code",
   "execution_count": 113,
   "outputs": [
    {
     "name": "stdout",
     "output_type": "stream",
     "text": [
      "Validation and candidates_last_week have the same number of unique customers\n",
      "Recall Score on Candidates for Last Week: 0.0\n"
     ]
    }
   ],
   "source": [
    "recall_last_week = calculate_recall_per_customer_batch(validation, top_candidates_3feat_prev_week, unique_customers, topX_age)"
   ],
   "metadata": {
    "collapsed": false,
    "ExecuteTime": {
     "end_time": "2023-12-18T00:49:53.405398100Z",
     "start_time": "2023-12-18T00:49:53.289651600Z"
    }
   },
   "id": "3ce7575ff477a416"
  },
  {
   "cell_type": "code",
   "execution_count": 114,
   "outputs": [],
   "source": [
    "unique_transactions_ = transactions.groupby(['week', 'customer_id']).head(1).drop(columns=['article_id', 'price']).copy()\n",
    "candidates_ = top_candidates_3feat_prev_week.copy()\n",
    "candidates_.drop(columns=['price_rank', 'age_rank', 'highest_count_ign_per_c', 'mean_price_per_c', 'index_group_name', 'mean_age_per_a', 'age'], inplace=True)"
   ],
   "metadata": {
    "collapsed": false,
    "ExecuteTime": {
     "end_time": "2023-12-18T00:49:53.885216900Z",
     "start_time": "2023-12-18T00:49:53.318316800Z"
    }
   },
   "id": "7b4dda00b8fd4140"
  },
  {
   "cell_type": "code",
   "execution_count": 115,
   "outputs": [
    {
     "data": {
      "text/plain": "            t_dat  sales_channel_id  article_id     price  week  \\\n0      2020-07-16                 1   754852002  0.050831    96   \n1      2020-07-21                 1   747764002  0.047441    96   \n2      2020-07-16                 1   685944002  0.042356    96   \n3      2020-07-19                 1   746344001  0.033881    96   \n4      2020-07-15                 1   796042001  0.033881    96   \n...           ...               ...         ...       ...   ...   \n249995 2020-09-22                 2   761406005  0.022017   105   \n249996 2020-09-22                 1   911034002  0.021678   105   \n249997 2020-09-22                 1   670698020  0.021169   105   \n249998 2020-09-22                 1   884405005  0.021169   105   \n249999 2020-09-20                 1   850622002  0.021169   105   \n\n              customer_id  \n0          28847241659200  \n1          28847241659200  \n2          28847241659200  \n3          28847241659200  \n4          28847241659200  \n...                   ...  \n249995  42984229297455520  \n249996  42984229297455520  \n249997  42984229297455520  \n249998  42984229297455520  \n249999  42984229297455520  \n\n[250000 rows x 6 columns]",
      "text/html": "<div>\n<style scoped>\n    .dataframe tbody tr th:only-of-type {\n        vertical-align: middle;\n    }\n\n    .dataframe tbody tr th {\n        vertical-align: top;\n    }\n\n    .dataframe thead th {\n        text-align: right;\n    }\n</style>\n<table border=\"1\" class=\"dataframe\">\n  <thead>\n    <tr style=\"text-align: right;\">\n      <th></th>\n      <th>t_dat</th>\n      <th>sales_channel_id</th>\n      <th>article_id</th>\n      <th>price</th>\n      <th>week</th>\n      <th>customer_id</th>\n    </tr>\n  </thead>\n  <tbody>\n    <tr>\n      <th>0</th>\n      <td>2020-07-16</td>\n      <td>1</td>\n      <td>754852002</td>\n      <td>0.050831</td>\n      <td>96</td>\n      <td>28847241659200</td>\n    </tr>\n    <tr>\n      <th>1</th>\n      <td>2020-07-21</td>\n      <td>1</td>\n      <td>747764002</td>\n      <td>0.047441</td>\n      <td>96</td>\n      <td>28847241659200</td>\n    </tr>\n    <tr>\n      <th>2</th>\n      <td>2020-07-16</td>\n      <td>1</td>\n      <td>685944002</td>\n      <td>0.042356</td>\n      <td>96</td>\n      <td>28847241659200</td>\n    </tr>\n    <tr>\n      <th>3</th>\n      <td>2020-07-19</td>\n      <td>1</td>\n      <td>746344001</td>\n      <td>0.033881</td>\n      <td>96</td>\n      <td>28847241659200</td>\n    </tr>\n    <tr>\n      <th>4</th>\n      <td>2020-07-15</td>\n      <td>1</td>\n      <td>796042001</td>\n      <td>0.033881</td>\n      <td>96</td>\n      <td>28847241659200</td>\n    </tr>\n    <tr>\n      <th>...</th>\n      <td>...</td>\n      <td>...</td>\n      <td>...</td>\n      <td>...</td>\n      <td>...</td>\n      <td>...</td>\n    </tr>\n    <tr>\n      <th>249995</th>\n      <td>2020-09-22</td>\n      <td>2</td>\n      <td>761406005</td>\n      <td>0.022017</td>\n      <td>105</td>\n      <td>42984229297455520</td>\n    </tr>\n    <tr>\n      <th>249996</th>\n      <td>2020-09-22</td>\n      <td>1</td>\n      <td>911034002</td>\n      <td>0.021678</td>\n      <td>105</td>\n      <td>42984229297455520</td>\n    </tr>\n    <tr>\n      <th>249997</th>\n      <td>2020-09-22</td>\n      <td>1</td>\n      <td>670698020</td>\n      <td>0.021169</td>\n      <td>105</td>\n      <td>42984229297455520</td>\n    </tr>\n    <tr>\n      <th>249998</th>\n      <td>2020-09-22</td>\n      <td>1</td>\n      <td>884405005</td>\n      <td>0.021169</td>\n      <td>105</td>\n      <td>42984229297455520</td>\n    </tr>\n    <tr>\n      <th>249999</th>\n      <td>2020-09-20</td>\n      <td>1</td>\n      <td>850622002</td>\n      <td>0.021169</td>\n      <td>105</td>\n      <td>42984229297455520</td>\n    </tr>\n  </tbody>\n</table>\n<p>250000 rows × 6 columns</p>\n</div>"
     },
     "execution_count": 115,
     "metadata": {},
     "output_type": "execute_result"
    }
   ],
   "source": [
    "candidates_"
   ],
   "metadata": {
    "collapsed": false,
    "ExecuteTime": {
     "end_time": "2023-12-18T00:49:53.897693300Z",
     "start_time": "2023-12-18T00:49:53.886716700Z"
    }
   },
   "id": "ae86eaceca41f18f"
  },
  {
   "cell_type": "code",
   "execution_count": 116,
   "outputs": [],
   "source": [
    "transactions['purchased'] = 1\n",
    "data = pd.concat([transactions, candidates_last_purchase, candidates_])\n",
    "data.purchased.fillna(0, inplace=True)\n",
    "data.drop_duplicates(['customer_id', 'article_id', 'week'], inplace=True)"
   ],
   "metadata": {
    "collapsed": false,
    "ExecuteTime": {
     "end_time": "2023-12-18T00:49:56.132538400Z",
     "start_time": "2023-12-18T00:49:53.896693Z"
    }
   },
   "id": "ad5570d733ab83e0"
  },
  {
   "cell_type": "code",
   "execution_count": 117,
   "outputs": [
    {
     "data": {
      "text/plain": "              t_dat        customer_id  article_id     price  \\\n29030503 2020-07-15    272412481300040   778064028  0.008458   \n29030504 2020-07-15    272412481300040   816592008  0.016932   \n29030505 2020-07-15    272412481300040   621381021  0.033881   \n29030506 2020-07-15    272412481300040   817477003  0.025407   \n29030507 2020-07-15    272412481300040   899088002  0.025407   \n...             ...                ...         ...       ...   \n249995   2020-09-22  42984229297455520   761406005  0.022017   \n249996   2020-09-22  42984229297455520   911034002  0.021678   \n249997   2020-09-22  42984229297455520   670698020  0.021169   \n249998   2020-09-22  42984229297455520   884405005  0.021169   \n249999   2020-09-20  42984229297455520   850622002  0.021169   \n\n          sales_channel_id  week  purchased  \n29030503                 1    95        1.0  \n29030504                 1    95        1.0  \n29030505                 1    95        1.0  \n29030506                 1    95        1.0  \n29030507                 1    95        1.0  \n...                    ...   ...        ...  \n249995                   2   105        0.0  \n249996                   1   105        0.0  \n249997                   1   105        0.0  \n249998                   1   105        0.0  \n249999                   1   105        0.0  \n\n[5179634 rows x 7 columns]",
      "text/html": "<div>\n<style scoped>\n    .dataframe tbody tr th:only-of-type {\n        vertical-align: middle;\n    }\n\n    .dataframe tbody tr th {\n        vertical-align: top;\n    }\n\n    .dataframe thead th {\n        text-align: right;\n    }\n</style>\n<table border=\"1\" class=\"dataframe\">\n  <thead>\n    <tr style=\"text-align: right;\">\n      <th></th>\n      <th>t_dat</th>\n      <th>customer_id</th>\n      <th>article_id</th>\n      <th>price</th>\n      <th>sales_channel_id</th>\n      <th>week</th>\n      <th>purchased</th>\n    </tr>\n  </thead>\n  <tbody>\n    <tr>\n      <th>29030503</th>\n      <td>2020-07-15</td>\n      <td>272412481300040</td>\n      <td>778064028</td>\n      <td>0.008458</td>\n      <td>1</td>\n      <td>95</td>\n      <td>1.0</td>\n    </tr>\n    <tr>\n      <th>29030504</th>\n      <td>2020-07-15</td>\n      <td>272412481300040</td>\n      <td>816592008</td>\n      <td>0.016932</td>\n      <td>1</td>\n      <td>95</td>\n      <td>1.0</td>\n    </tr>\n    <tr>\n      <th>29030505</th>\n      <td>2020-07-15</td>\n      <td>272412481300040</td>\n      <td>621381021</td>\n      <td>0.033881</td>\n      <td>1</td>\n      <td>95</td>\n      <td>1.0</td>\n    </tr>\n    <tr>\n      <th>29030506</th>\n      <td>2020-07-15</td>\n      <td>272412481300040</td>\n      <td>817477003</td>\n      <td>0.025407</td>\n      <td>1</td>\n      <td>95</td>\n      <td>1.0</td>\n    </tr>\n    <tr>\n      <th>29030507</th>\n      <td>2020-07-15</td>\n      <td>272412481300040</td>\n      <td>899088002</td>\n      <td>0.025407</td>\n      <td>1</td>\n      <td>95</td>\n      <td>1.0</td>\n    </tr>\n    <tr>\n      <th>...</th>\n      <td>...</td>\n      <td>...</td>\n      <td>...</td>\n      <td>...</td>\n      <td>...</td>\n      <td>...</td>\n      <td>...</td>\n    </tr>\n    <tr>\n      <th>249995</th>\n      <td>2020-09-22</td>\n      <td>42984229297455520</td>\n      <td>761406005</td>\n      <td>0.022017</td>\n      <td>2</td>\n      <td>105</td>\n      <td>0.0</td>\n    </tr>\n    <tr>\n      <th>249996</th>\n      <td>2020-09-22</td>\n      <td>42984229297455520</td>\n      <td>911034002</td>\n      <td>0.021678</td>\n      <td>1</td>\n      <td>105</td>\n      <td>0.0</td>\n    </tr>\n    <tr>\n      <th>249997</th>\n      <td>2020-09-22</td>\n      <td>42984229297455520</td>\n      <td>670698020</td>\n      <td>0.021169</td>\n      <td>1</td>\n      <td>105</td>\n      <td>0.0</td>\n    </tr>\n    <tr>\n      <th>249998</th>\n      <td>2020-09-22</td>\n      <td>42984229297455520</td>\n      <td>884405005</td>\n      <td>0.021169</td>\n      <td>1</td>\n      <td>105</td>\n      <td>0.0</td>\n    </tr>\n    <tr>\n      <th>249999</th>\n      <td>2020-09-20</td>\n      <td>42984229297455520</td>\n      <td>850622002</td>\n      <td>0.021169</td>\n      <td>1</td>\n      <td>105</td>\n      <td>0.0</td>\n    </tr>\n  </tbody>\n</table>\n<p>5179634 rows × 7 columns</p>\n</div>"
     },
     "execution_count": 117,
     "metadata": {},
     "output_type": "execute_result"
    }
   ],
   "source": [
    "data"
   ],
   "metadata": {
    "collapsed": false,
    "ExecuteTime": {
     "end_time": "2023-12-18T00:49:56.148174Z",
     "start_time": "2023-12-18T00:49:56.139596400Z"
    }
   },
   "id": "26beba46d2608ff9"
  },
  {
   "cell_type": "code",
   "execution_count": 118,
   "outputs": [],
   "source": [
    "data = pd.merge(\n",
    "    data,\n",
    "    top_candidates_3feat_prev_week[['week', 'article_id', 'price_rank', 'age_rank']],\n",
    "    on=['week', 'article_id'],\n",
    "    how='left'\n",
    ")\n",
    "data = data[data.week != data.week.min()]\n",
    "data.price_rank.fillna(999, inplace=True)\n",
    "data.age_rank.fillna(999, inplace=True)"
   ],
   "metadata": {
    "collapsed": false,
    "ExecuteTime": {
     "end_time": "2023-12-18T00:49:59.580360600Z",
     "start_time": "2023-12-18T00:49:56.142117100Z"
    }
   },
   "id": "201447ea1164722c"
  },
  {
   "cell_type": "code",
   "execution_count": 119,
   "outputs": [
    {
     "data": {
      "text/plain": "              t_dat        customer_id  article_id     price  \\\n261987   2020-07-22    200292573348128   880777001  0.025407   \n261988   2020-07-22    200292573348128   784332002  0.025407   \n261989   2020-07-22    200292573348128   827968001  0.016932   \n261990   2020-07-22    200292573348128   599580086  0.011847   \n261991   2020-07-22    248294615847351   720504008  0.031458   \n...             ...                ...         ...       ...   \n16993901 2020-09-22  42984229297455520   884405005  0.021169   \n16993902 2020-09-20  42984229297455520   850622002  0.021169   \n16993903 2020-09-20  42984229297455520   850622002  0.021169   \n16993904 2020-09-20  42984229297455520   850622002  0.021169   \n16993905 2020-09-20  42984229297455520   850622002  0.021169   \n\n          sales_channel_id  week  purchased  price_rank  age_rank  \n261987                   2    96        1.0       999.0     999.0  \n261988                   2    96        1.0       999.0     999.0  \n261989                   2    96        1.0       999.0     999.0  \n261990                   2    96        1.0       999.0     999.0  \n261991                   1    96        1.0       999.0     999.0  \n...                    ...   ...        ...         ...       ...  \n16993901                 1   105        0.0        13.0      22.0  \n16993902                 1   105        0.0        15.0      21.0  \n16993903                 1   105        0.0        15.0      21.0  \n16993904                 1   105        0.0         1.0      23.0  \n16993905                 1   105        0.0        13.0      22.0  \n\n[16731919 rows x 9 columns]",
      "text/html": "<div>\n<style scoped>\n    .dataframe tbody tr th:only-of-type {\n        vertical-align: middle;\n    }\n\n    .dataframe tbody tr th {\n        vertical-align: top;\n    }\n\n    .dataframe thead th {\n        text-align: right;\n    }\n</style>\n<table border=\"1\" class=\"dataframe\">\n  <thead>\n    <tr style=\"text-align: right;\">\n      <th></th>\n      <th>t_dat</th>\n      <th>customer_id</th>\n      <th>article_id</th>\n      <th>price</th>\n      <th>sales_channel_id</th>\n      <th>week</th>\n      <th>purchased</th>\n      <th>price_rank</th>\n      <th>age_rank</th>\n    </tr>\n  </thead>\n  <tbody>\n    <tr>\n      <th>261987</th>\n      <td>2020-07-22</td>\n      <td>200292573348128</td>\n      <td>880777001</td>\n      <td>0.025407</td>\n      <td>2</td>\n      <td>96</td>\n      <td>1.0</td>\n      <td>999.0</td>\n      <td>999.0</td>\n    </tr>\n    <tr>\n      <th>261988</th>\n      <td>2020-07-22</td>\n      <td>200292573348128</td>\n      <td>784332002</td>\n      <td>0.025407</td>\n      <td>2</td>\n      <td>96</td>\n      <td>1.0</td>\n      <td>999.0</td>\n      <td>999.0</td>\n    </tr>\n    <tr>\n      <th>261989</th>\n      <td>2020-07-22</td>\n      <td>200292573348128</td>\n      <td>827968001</td>\n      <td>0.016932</td>\n      <td>2</td>\n      <td>96</td>\n      <td>1.0</td>\n      <td>999.0</td>\n      <td>999.0</td>\n    </tr>\n    <tr>\n      <th>261990</th>\n      <td>2020-07-22</td>\n      <td>200292573348128</td>\n      <td>599580086</td>\n      <td>0.011847</td>\n      <td>2</td>\n      <td>96</td>\n      <td>1.0</td>\n      <td>999.0</td>\n      <td>999.0</td>\n    </tr>\n    <tr>\n      <th>261991</th>\n      <td>2020-07-22</td>\n      <td>248294615847351</td>\n      <td>720504008</td>\n      <td>0.031458</td>\n      <td>1</td>\n      <td>96</td>\n      <td>1.0</td>\n      <td>999.0</td>\n      <td>999.0</td>\n    </tr>\n    <tr>\n      <th>...</th>\n      <td>...</td>\n      <td>...</td>\n      <td>...</td>\n      <td>...</td>\n      <td>...</td>\n      <td>...</td>\n      <td>...</td>\n      <td>...</td>\n      <td>...</td>\n    </tr>\n    <tr>\n      <th>16993901</th>\n      <td>2020-09-22</td>\n      <td>42984229297455520</td>\n      <td>884405005</td>\n      <td>0.021169</td>\n      <td>1</td>\n      <td>105</td>\n      <td>0.0</td>\n      <td>13.0</td>\n      <td>22.0</td>\n    </tr>\n    <tr>\n      <th>16993902</th>\n      <td>2020-09-20</td>\n      <td>42984229297455520</td>\n      <td>850622002</td>\n      <td>0.021169</td>\n      <td>1</td>\n      <td>105</td>\n      <td>0.0</td>\n      <td>15.0</td>\n      <td>21.0</td>\n    </tr>\n    <tr>\n      <th>16993903</th>\n      <td>2020-09-20</td>\n      <td>42984229297455520</td>\n      <td>850622002</td>\n      <td>0.021169</td>\n      <td>1</td>\n      <td>105</td>\n      <td>0.0</td>\n      <td>15.0</td>\n      <td>21.0</td>\n    </tr>\n    <tr>\n      <th>16993904</th>\n      <td>2020-09-20</td>\n      <td>42984229297455520</td>\n      <td>850622002</td>\n      <td>0.021169</td>\n      <td>1</td>\n      <td>105</td>\n      <td>0.0</td>\n      <td>1.0</td>\n      <td>23.0</td>\n    </tr>\n    <tr>\n      <th>16993905</th>\n      <td>2020-09-20</td>\n      <td>42984229297455520</td>\n      <td>850622002</td>\n      <td>0.021169</td>\n      <td>1</td>\n      <td>105</td>\n      <td>0.0</td>\n      <td>13.0</td>\n      <td>22.0</td>\n    </tr>\n  </tbody>\n</table>\n<p>16731919 rows × 9 columns</p>\n</div>"
     },
     "execution_count": 119,
     "metadata": {},
     "output_type": "execute_result"
    }
   ],
   "source": [
    "data"
   ],
   "metadata": {
    "collapsed": false,
    "ExecuteTime": {
     "end_time": "2023-12-18T00:49:59.597460900Z",
     "start_time": "2023-12-18T00:49:59.580360600Z"
    }
   },
   "id": "3fd077988fe1c49b"
  },
  {
   "cell_type": "code",
   "execution_count": 120,
   "outputs": [],
   "source": [
    "data = pd.merge(data, articles, on='article_id', how='left')\n",
    "data = pd.merge(data, customers, on='customer_id', how='left')\n",
    "data.sort_values(['week', 'customer_id'], inplace=True)\n",
    "data.reset_index(drop=True, inplace=True)"
   ],
   "metadata": {
    "collapsed": false,
    "ExecuteTime": {
     "end_time": "2023-12-18T00:50:09.061319Z",
     "start_time": "2023-12-18T00:49:59.592959800Z"
    }
   },
   "id": "26b5cc1efa00cc6c"
  },
  {
   "cell_type": "code",
   "execution_count": 121,
   "outputs": [],
   "source": [
    "train = data[data.week != test_week]\n",
    "test = data[data.week==test_week].drop_duplicates(['customer_id', 'article_id', 'sales_channel_id']).copy()"
   ],
   "metadata": {
    "collapsed": false,
    "ExecuteTime": {
     "end_time": "2023-12-18T00:50:12.372036200Z",
     "start_time": "2023-12-18T00:50:09.060315400Z"
    }
   },
   "id": "1c546cdad958817e"
  },
  {
   "cell_type": "code",
   "execution_count": 122,
   "outputs": [
    {
     "data": {
      "text/plain": "              t_dat           customer_id  article_id     price  \\\n0        2020-07-26        28847241659200   887770001  0.016932   \n1        2020-07-18        28847241659200   762846001  0.025407   \n2        2020-07-18        28847241659200   829308001  0.033881   \n3        2020-07-16        28847241659200   754852002  0.050831   \n4        2020-07-16        28847241659200   754852002  0.050831   \n...             ...                   ...         ...       ...   \n12340983 2020-09-20  18445641720816255142   923037003  0.033881   \n12340984 2020-09-21  18446737527580148316   547780001  0.023712   \n12340985 2020-09-21  18446737527580148316   763988001  0.023712   \n12340986 2020-09-21  18446737527580148316   763988003  0.023712   \n12340987 2020-09-21  18446737527580148316   547780040  0.023712   \n\n          sales_channel_id  week  purchased  price_rank  age_rank  \\\n0                        1    96        1.0       999.0     999.0   \n1                        1    96        0.0       999.0     999.0   \n2                        1    96        0.0       999.0     999.0   \n3                        1    96        0.0        21.0       1.0   \n4                        1    96        0.0         5.0       1.0   \n...                    ...   ...        ...         ...       ...   \n12340983                 2   104        1.0       999.0     999.0   \n12340984                 2   104        1.0       999.0     999.0   \n12340985                 2   104        1.0       999.0     999.0   \n12340986                 2   104        1.0       999.0     999.0   \n12340987                 2   104        1.0       999.0     999.0   \n\n          product_code  ...  section_name  garment_group_no  \\\n0               887770  ...            10              1010   \n1               762846  ...             7              1010   \n2               829308  ...            21              1005   \n3               754852  ...            45              1001   \n4               754852  ...            45              1001   \n...                ...  ...           ...               ...   \n12340983        923037  ...            31              1017   \n12340984        547780  ...            27              1002   \n12340985        763988  ...            16              1002   \n12340986        763988  ...            16              1002   \n12340987        547780  ...            27              1002   \n\n          garment_group_name  detail_desc  FN  Active  club_member_status  \\\n0                          6         3692   1       1                   0   \n1                          6          492   1       1                   0   \n2                          0         9082   1       1                   0   \n3                         10        17015   1       1                   0   \n4                         10        17015   1       1                   0   \n...                      ...          ...  ..     ...                 ...   \n12340983                   4        10043   1       1                   0   \n12340984                   2          271   1       1                   0   \n12340985                   2         1107   1       1                   0   \n12340986                   2         1107   1       1                   0   \n12340987                   2          271   1       1                   0   \n\n          fashion_news_frequency  age  postal_code  \n0                              1   21        57896  \n1                              1   21        57896  \n2                              1   21        57896  \n3                              1   21        57896  \n4                              1   21        57896  \n...                          ...  ...          ...  \n12340983                       1   31       147613  \n12340984                       1   60        96323  \n12340985                       1   60        96323  \n12340986                       1   60        96323  \n12340987                       1   60        96323  \n\n[12340988 rows x 39 columns]",
      "text/html": "<div>\n<style scoped>\n    .dataframe tbody tr th:only-of-type {\n        vertical-align: middle;\n    }\n\n    .dataframe tbody tr th {\n        vertical-align: top;\n    }\n\n    .dataframe thead th {\n        text-align: right;\n    }\n</style>\n<table border=\"1\" class=\"dataframe\">\n  <thead>\n    <tr style=\"text-align: right;\">\n      <th></th>\n      <th>t_dat</th>\n      <th>customer_id</th>\n      <th>article_id</th>\n      <th>price</th>\n      <th>sales_channel_id</th>\n      <th>week</th>\n      <th>purchased</th>\n      <th>price_rank</th>\n      <th>age_rank</th>\n      <th>product_code</th>\n      <th>...</th>\n      <th>section_name</th>\n      <th>garment_group_no</th>\n      <th>garment_group_name</th>\n      <th>detail_desc</th>\n      <th>FN</th>\n      <th>Active</th>\n      <th>club_member_status</th>\n      <th>fashion_news_frequency</th>\n      <th>age</th>\n      <th>postal_code</th>\n    </tr>\n  </thead>\n  <tbody>\n    <tr>\n      <th>0</th>\n      <td>2020-07-26</td>\n      <td>28847241659200</td>\n      <td>887770001</td>\n      <td>0.016932</td>\n      <td>1</td>\n      <td>96</td>\n      <td>1.0</td>\n      <td>999.0</td>\n      <td>999.0</td>\n      <td>887770</td>\n      <td>...</td>\n      <td>10</td>\n      <td>1010</td>\n      <td>6</td>\n      <td>3692</td>\n      <td>1</td>\n      <td>1</td>\n      <td>0</td>\n      <td>1</td>\n      <td>21</td>\n      <td>57896</td>\n    </tr>\n    <tr>\n      <th>1</th>\n      <td>2020-07-18</td>\n      <td>28847241659200</td>\n      <td>762846001</td>\n      <td>0.025407</td>\n      <td>1</td>\n      <td>96</td>\n      <td>0.0</td>\n      <td>999.0</td>\n      <td>999.0</td>\n      <td>762846</td>\n      <td>...</td>\n      <td>7</td>\n      <td>1010</td>\n      <td>6</td>\n      <td>492</td>\n      <td>1</td>\n      <td>1</td>\n      <td>0</td>\n      <td>1</td>\n      <td>21</td>\n      <td>57896</td>\n    </tr>\n    <tr>\n      <th>2</th>\n      <td>2020-07-18</td>\n      <td>28847241659200</td>\n      <td>829308001</td>\n      <td>0.033881</td>\n      <td>1</td>\n      <td>96</td>\n      <td>0.0</td>\n      <td>999.0</td>\n      <td>999.0</td>\n      <td>829308</td>\n      <td>...</td>\n      <td>21</td>\n      <td>1005</td>\n      <td>0</td>\n      <td>9082</td>\n      <td>1</td>\n      <td>1</td>\n      <td>0</td>\n      <td>1</td>\n      <td>21</td>\n      <td>57896</td>\n    </tr>\n    <tr>\n      <th>3</th>\n      <td>2020-07-16</td>\n      <td>28847241659200</td>\n      <td>754852002</td>\n      <td>0.050831</td>\n      <td>1</td>\n      <td>96</td>\n      <td>0.0</td>\n      <td>21.0</td>\n      <td>1.0</td>\n      <td>754852</td>\n      <td>...</td>\n      <td>45</td>\n      <td>1001</td>\n      <td>10</td>\n      <td>17015</td>\n      <td>1</td>\n      <td>1</td>\n      <td>0</td>\n      <td>1</td>\n      <td>21</td>\n      <td>57896</td>\n    </tr>\n    <tr>\n      <th>4</th>\n      <td>2020-07-16</td>\n      <td>28847241659200</td>\n      <td>754852002</td>\n      <td>0.050831</td>\n      <td>1</td>\n      <td>96</td>\n      <td>0.0</td>\n      <td>5.0</td>\n      <td>1.0</td>\n      <td>754852</td>\n      <td>...</td>\n      <td>45</td>\n      <td>1001</td>\n      <td>10</td>\n      <td>17015</td>\n      <td>1</td>\n      <td>1</td>\n      <td>0</td>\n      <td>1</td>\n      <td>21</td>\n      <td>57896</td>\n    </tr>\n    <tr>\n      <th>...</th>\n      <td>...</td>\n      <td>...</td>\n      <td>...</td>\n      <td>...</td>\n      <td>...</td>\n      <td>...</td>\n      <td>...</td>\n      <td>...</td>\n      <td>...</td>\n      <td>...</td>\n      <td>...</td>\n      <td>...</td>\n      <td>...</td>\n      <td>...</td>\n      <td>...</td>\n      <td>...</td>\n      <td>...</td>\n      <td>...</td>\n      <td>...</td>\n      <td>...</td>\n      <td>...</td>\n    </tr>\n    <tr>\n      <th>12340983</th>\n      <td>2020-09-20</td>\n      <td>18445641720816255142</td>\n      <td>923037003</td>\n      <td>0.033881</td>\n      <td>2</td>\n      <td>104</td>\n      <td>1.0</td>\n      <td>999.0</td>\n      <td>999.0</td>\n      <td>923037</td>\n      <td>...</td>\n      <td>31</td>\n      <td>1017</td>\n      <td>4</td>\n      <td>10043</td>\n      <td>1</td>\n      <td>1</td>\n      <td>0</td>\n      <td>1</td>\n      <td>31</td>\n      <td>147613</td>\n    </tr>\n    <tr>\n      <th>12340984</th>\n      <td>2020-09-21</td>\n      <td>18446737527580148316</td>\n      <td>547780001</td>\n      <td>0.023712</td>\n      <td>2</td>\n      <td>104</td>\n      <td>1.0</td>\n      <td>999.0</td>\n      <td>999.0</td>\n      <td>547780</td>\n      <td>...</td>\n      <td>27</td>\n      <td>1002</td>\n      <td>2</td>\n      <td>271</td>\n      <td>1</td>\n      <td>1</td>\n      <td>0</td>\n      <td>1</td>\n      <td>60</td>\n      <td>96323</td>\n    </tr>\n    <tr>\n      <th>12340985</th>\n      <td>2020-09-21</td>\n      <td>18446737527580148316</td>\n      <td>763988001</td>\n      <td>0.023712</td>\n      <td>2</td>\n      <td>104</td>\n      <td>1.0</td>\n      <td>999.0</td>\n      <td>999.0</td>\n      <td>763988</td>\n      <td>...</td>\n      <td>16</td>\n      <td>1002</td>\n      <td>2</td>\n      <td>1107</td>\n      <td>1</td>\n      <td>1</td>\n      <td>0</td>\n      <td>1</td>\n      <td>60</td>\n      <td>96323</td>\n    </tr>\n    <tr>\n      <th>12340986</th>\n      <td>2020-09-21</td>\n      <td>18446737527580148316</td>\n      <td>763988003</td>\n      <td>0.023712</td>\n      <td>2</td>\n      <td>104</td>\n      <td>1.0</td>\n      <td>999.0</td>\n      <td>999.0</td>\n      <td>763988</td>\n      <td>...</td>\n      <td>16</td>\n      <td>1002</td>\n      <td>2</td>\n      <td>1107</td>\n      <td>1</td>\n      <td>1</td>\n      <td>0</td>\n      <td>1</td>\n      <td>60</td>\n      <td>96323</td>\n    </tr>\n    <tr>\n      <th>12340987</th>\n      <td>2020-09-21</td>\n      <td>18446737527580148316</td>\n      <td>547780040</td>\n      <td>0.023712</td>\n      <td>2</td>\n      <td>104</td>\n      <td>1.0</td>\n      <td>999.0</td>\n      <td>999.0</td>\n      <td>547780</td>\n      <td>...</td>\n      <td>27</td>\n      <td>1002</td>\n      <td>2</td>\n      <td>271</td>\n      <td>1</td>\n      <td>1</td>\n      <td>0</td>\n      <td>1</td>\n      <td>60</td>\n      <td>96323</td>\n    </tr>\n  </tbody>\n</table>\n<p>12340988 rows × 39 columns</p>\n</div>"
     },
     "execution_count": 122,
     "metadata": {},
     "output_type": "execute_result"
    }
   ],
   "source": [
    "train"
   ],
   "metadata": {
    "collapsed": false,
    "ExecuteTime": {
     "end_time": "2023-12-18T00:50:14.024953100Z",
     "start_time": "2023-12-18T00:50:12.373041Z"
    }
   },
   "id": "ecdc005f3603d9e8"
  },
  {
   "cell_type": "code",
   "execution_count": 123,
   "outputs": [
    {
     "data": {
      "text/plain": "              t_dat           customer_id  article_id     price  \\\n12340988 2020-09-03        28847241659200   925246001  0.128797   \n12340989 2020-09-22        28847241659200   779068002  0.045746   \n12340996 2020-09-22        28847241659200   754323004  0.045746   \n12341003 2020-09-22        28847241659200   721481003  0.045746   \n12341010 2020-09-22        28847241659200   904225001  0.045746   \n...             ...                   ...         ...       ...   \n16731910 2020-09-06  18446705133201055310   875784002  0.050831   \n16731911 2020-09-21  18446737527580148316   547780001  0.023712   \n16731914 2020-09-21  18446737527580148316   763988001  0.023712   \n16731915 2020-09-21  18446737527580148316   763988003  0.023712   \n16731916 2020-09-21  18446737527580148316   547780040  0.023712   \n\n          sales_channel_id  week  purchased  price_rank  age_rank  \\\n12340988                 2   105        0.0       999.0     999.0   \n12340989                 2   105        0.0         7.0       1.0   \n12340996                 2   105        0.0         7.0       2.0   \n12341003                 2   105        0.0         7.0       3.0   \n12341010                 1   105        0.0         7.0       3.0   \n...                    ...   ...        ...         ...       ...   \n16731910                 2   105        0.0       999.0     999.0   \n16731911                 2   105        0.0        13.0      15.0   \n16731914                 2   105        0.0         1.0      16.0   \n16731915                 2   105        0.0       999.0     999.0   \n16731916                 2   105        0.0        44.0      15.0   \n\n          product_code  ...  section_name  garment_group_no  \\\n12340988        925246  ...            40              1007   \n12340989        779068  ...            10              1003   \n12340996        754323  ...             0              1003   \n12341003        721481  ...             0              1010   \n12341010        904225  ...            20              1020   \n...                ...  ...           ...               ...   \n16731910        875784  ...            15              1003   \n16731911        547780  ...            27              1002   \n16731914        763988  ...            16              1002   \n16731915        763988  ...            16              1002   \n16731916        547780  ...            27              1002   \n\n          garment_group_name  detail_desc  FN  Active  club_member_status  \\\n12340988                   9        27855   1       1                   0   \n12340989                   3        15430   1       1                   0   \n12340996                   3         4874   1       1                   0   \n12341003                   6        11900   1       1                   0   \n12341010                   7        26543   1       1                   0   \n...                      ...          ...  ..     ...                 ...   \n16731910                   3        11763   1       1                   0   \n16731911                   2          271   1       1                   0   \n16731914                   2         1107   1       1                   0   \n16731915                   2         1107   1       1                   0   \n16731916                   2          271   1       1                   0   \n\n          fashion_news_frequency  age  postal_code  \n12340988                       1   21        57896  \n12340989                       1   21        57896  \n12340996                       1   21        57896  \n12341003                       1   21        57896  \n12341010                       1   21        57896  \n...                          ...  ...          ...  \n16731910                       1   60       177867  \n16731911                       1   60        96323  \n16731914                       1   60        96323  \n16731915                       1   60        96323  \n16731916                       1   60        96323  \n\n[1402530 rows x 39 columns]",
      "text/html": "<div>\n<style scoped>\n    .dataframe tbody tr th:only-of-type {\n        vertical-align: middle;\n    }\n\n    .dataframe tbody tr th {\n        vertical-align: top;\n    }\n\n    .dataframe thead th {\n        text-align: right;\n    }\n</style>\n<table border=\"1\" class=\"dataframe\">\n  <thead>\n    <tr style=\"text-align: right;\">\n      <th></th>\n      <th>t_dat</th>\n      <th>customer_id</th>\n      <th>article_id</th>\n      <th>price</th>\n      <th>sales_channel_id</th>\n      <th>week</th>\n      <th>purchased</th>\n      <th>price_rank</th>\n      <th>age_rank</th>\n      <th>product_code</th>\n      <th>...</th>\n      <th>section_name</th>\n      <th>garment_group_no</th>\n      <th>garment_group_name</th>\n      <th>detail_desc</th>\n      <th>FN</th>\n      <th>Active</th>\n      <th>club_member_status</th>\n      <th>fashion_news_frequency</th>\n      <th>age</th>\n      <th>postal_code</th>\n    </tr>\n  </thead>\n  <tbody>\n    <tr>\n      <th>12340988</th>\n      <td>2020-09-03</td>\n      <td>28847241659200</td>\n      <td>925246001</td>\n      <td>0.128797</td>\n      <td>2</td>\n      <td>105</td>\n      <td>0.0</td>\n      <td>999.0</td>\n      <td>999.0</td>\n      <td>925246</td>\n      <td>...</td>\n      <td>40</td>\n      <td>1007</td>\n      <td>9</td>\n      <td>27855</td>\n      <td>1</td>\n      <td>1</td>\n      <td>0</td>\n      <td>1</td>\n      <td>21</td>\n      <td>57896</td>\n    </tr>\n    <tr>\n      <th>12340989</th>\n      <td>2020-09-22</td>\n      <td>28847241659200</td>\n      <td>779068002</td>\n      <td>0.045746</td>\n      <td>2</td>\n      <td>105</td>\n      <td>0.0</td>\n      <td>7.0</td>\n      <td>1.0</td>\n      <td>779068</td>\n      <td>...</td>\n      <td>10</td>\n      <td>1003</td>\n      <td>3</td>\n      <td>15430</td>\n      <td>1</td>\n      <td>1</td>\n      <td>0</td>\n      <td>1</td>\n      <td>21</td>\n      <td>57896</td>\n    </tr>\n    <tr>\n      <th>12340996</th>\n      <td>2020-09-22</td>\n      <td>28847241659200</td>\n      <td>754323004</td>\n      <td>0.045746</td>\n      <td>2</td>\n      <td>105</td>\n      <td>0.0</td>\n      <td>7.0</td>\n      <td>2.0</td>\n      <td>754323</td>\n      <td>...</td>\n      <td>0</td>\n      <td>1003</td>\n      <td>3</td>\n      <td>4874</td>\n      <td>1</td>\n      <td>1</td>\n      <td>0</td>\n      <td>1</td>\n      <td>21</td>\n      <td>57896</td>\n    </tr>\n    <tr>\n      <th>12341003</th>\n      <td>2020-09-22</td>\n      <td>28847241659200</td>\n      <td>721481003</td>\n      <td>0.045746</td>\n      <td>2</td>\n      <td>105</td>\n      <td>0.0</td>\n      <td>7.0</td>\n      <td>3.0</td>\n      <td>721481</td>\n      <td>...</td>\n      <td>0</td>\n      <td>1010</td>\n      <td>6</td>\n      <td>11900</td>\n      <td>1</td>\n      <td>1</td>\n      <td>0</td>\n      <td>1</td>\n      <td>21</td>\n      <td>57896</td>\n    </tr>\n    <tr>\n      <th>12341010</th>\n      <td>2020-09-22</td>\n      <td>28847241659200</td>\n      <td>904225001</td>\n      <td>0.045746</td>\n      <td>1</td>\n      <td>105</td>\n      <td>0.0</td>\n      <td>7.0</td>\n      <td>3.0</td>\n      <td>904225</td>\n      <td>...</td>\n      <td>20</td>\n      <td>1020</td>\n      <td>7</td>\n      <td>26543</td>\n      <td>1</td>\n      <td>1</td>\n      <td>0</td>\n      <td>1</td>\n      <td>21</td>\n      <td>57896</td>\n    </tr>\n    <tr>\n      <th>...</th>\n      <td>...</td>\n      <td>...</td>\n      <td>...</td>\n      <td>...</td>\n      <td>...</td>\n      <td>...</td>\n      <td>...</td>\n      <td>...</td>\n      <td>...</td>\n      <td>...</td>\n      <td>...</td>\n      <td>...</td>\n      <td>...</td>\n      <td>...</td>\n      <td>...</td>\n      <td>...</td>\n      <td>...</td>\n      <td>...</td>\n      <td>...</td>\n      <td>...</td>\n      <td>...</td>\n    </tr>\n    <tr>\n      <th>16731910</th>\n      <td>2020-09-06</td>\n      <td>18446705133201055310</td>\n      <td>875784002</td>\n      <td>0.050831</td>\n      <td>2</td>\n      <td>105</td>\n      <td>0.0</td>\n      <td>999.0</td>\n      <td>999.0</td>\n      <td>875784</td>\n      <td>...</td>\n      <td>15</td>\n      <td>1003</td>\n      <td>3</td>\n      <td>11763</td>\n      <td>1</td>\n      <td>1</td>\n      <td>0</td>\n      <td>1</td>\n      <td>60</td>\n      <td>177867</td>\n    </tr>\n    <tr>\n      <th>16731911</th>\n      <td>2020-09-21</td>\n      <td>18446737527580148316</td>\n      <td>547780001</td>\n      <td>0.023712</td>\n      <td>2</td>\n      <td>105</td>\n      <td>0.0</td>\n      <td>13.0</td>\n      <td>15.0</td>\n      <td>547780</td>\n      <td>...</td>\n      <td>27</td>\n      <td>1002</td>\n      <td>2</td>\n      <td>271</td>\n      <td>1</td>\n      <td>1</td>\n      <td>0</td>\n      <td>1</td>\n      <td>60</td>\n      <td>96323</td>\n    </tr>\n    <tr>\n      <th>16731914</th>\n      <td>2020-09-21</td>\n      <td>18446737527580148316</td>\n      <td>763988001</td>\n      <td>0.023712</td>\n      <td>2</td>\n      <td>105</td>\n      <td>0.0</td>\n      <td>1.0</td>\n      <td>16.0</td>\n      <td>763988</td>\n      <td>...</td>\n      <td>16</td>\n      <td>1002</td>\n      <td>2</td>\n      <td>1107</td>\n      <td>1</td>\n      <td>1</td>\n      <td>0</td>\n      <td>1</td>\n      <td>60</td>\n      <td>96323</td>\n    </tr>\n    <tr>\n      <th>16731915</th>\n      <td>2020-09-21</td>\n      <td>18446737527580148316</td>\n      <td>763988003</td>\n      <td>0.023712</td>\n      <td>2</td>\n      <td>105</td>\n      <td>0.0</td>\n      <td>999.0</td>\n      <td>999.0</td>\n      <td>763988</td>\n      <td>...</td>\n      <td>16</td>\n      <td>1002</td>\n      <td>2</td>\n      <td>1107</td>\n      <td>1</td>\n      <td>1</td>\n      <td>0</td>\n      <td>1</td>\n      <td>60</td>\n      <td>96323</td>\n    </tr>\n    <tr>\n      <th>16731916</th>\n      <td>2020-09-21</td>\n      <td>18446737527580148316</td>\n      <td>547780040</td>\n      <td>0.023712</td>\n      <td>2</td>\n      <td>105</td>\n      <td>0.0</td>\n      <td>44.0</td>\n      <td>15.0</td>\n      <td>547780</td>\n      <td>...</td>\n      <td>27</td>\n      <td>1002</td>\n      <td>2</td>\n      <td>271</td>\n      <td>1</td>\n      <td>1</td>\n      <td>0</td>\n      <td>1</td>\n      <td>60</td>\n      <td>96323</td>\n    </tr>\n  </tbody>\n</table>\n<p>1402530 rows × 39 columns</p>\n</div>"
     },
     "execution_count": 123,
     "metadata": {},
     "output_type": "execute_result"
    }
   ],
   "source": [
    "test"
   ],
   "metadata": {
    "collapsed": false,
    "ExecuteTime": {
     "end_time": "2023-12-18T00:50:14.217276100Z",
     "start_time": "2023-12-18T00:50:14.024451300Z"
    }
   },
   "id": "bf496f60023c723d"
  },
  {
   "cell_type": "code",
   "execution_count": 124,
   "outputs": [],
   "source": [
    "train_baskets = train.groupby(['week', 'customer_id'])['article_id'].count().values"
   ],
   "metadata": {
    "collapsed": false,
    "ExecuteTime": {
     "end_time": "2023-12-18T00:50:14.945807200Z",
     "start_time": "2023-12-18T00:50:14.218274600Z"
    }
   },
   "id": "c67f7a2a90520bc1"
  },
  {
   "cell_type": "code",
   "execution_count": 125,
   "outputs": [
    {
     "data": {
      "text/plain": "array([2172, 2121, 3607, ...,    2,    7,    4], dtype=int64)"
     },
     "execution_count": 125,
     "metadata": {},
     "output_type": "execute_result"
    }
   ],
   "source": [
    "train_baskets"
   ],
   "metadata": {
    "collapsed": false,
    "ExecuteTime": {
     "end_time": "2023-12-18T00:50:14.949978Z",
     "start_time": "2023-12-18T00:50:14.945124500Z"
    }
   },
   "id": "b126a8a13e89aba0"
  },
  {
   "cell_type": "code",
   "execution_count": 126,
   "outputs": [],
   "source": [
    "extra_columns = ['price_rank', 'age_rank']\n",
    "columns_to_use = ['article_id', 'product_type_no', 'graphical_appearance_no', 'colour_group_code', 'perceived_colour_value_id',\n",
    "'perceived_colour_master_id', 'department_no', 'index_code',\n",
    "'index_group_no', 'section_no', 'garment_group_no', 'FN', 'Active',\n",
    "'club_member_status', 'fashion_news_frequency', 'age', 'postal_code']\n",
    "columns_to_use.extend(extra_columns)\n",
    "\n",
    "train_X = train[columns_to_use]\n",
    "train_y = train['purchased']\n",
    "\n",
    "test_X = test[columns_to_use]"
   ],
   "metadata": {
    "collapsed": false,
    "ExecuteTime": {
     "end_time": "2023-12-18T00:50:15.687900200Z",
     "start_time": "2023-12-18T00:50:14.950485100Z"
    }
   },
   "id": "b7b334fa1a611f59"
  },
  {
   "cell_type": "code",
   "execution_count": 127,
   "outputs": [
    {
     "data": {
      "text/plain": "          article_id  product_type_no  graphical_appearance_no  \\\n12340988   925246001              262                  1010016   \n12340989   779068002              252                  1010016   \n12340996   754323004              252                  1010010   \n12341003   721481003              258                  1010017   \n12341010   904225001               87                  1010016   \n...              ...              ...                      ...   \n16731910   875784002              252                  1010016   \n16731911   547780001              272                  1010016   \n16731914   763988001              272                  1010016   \n16731915   763988003              272                  1010010   \n16731916   547780040              272                  1010016   \n\n          colour_group_code  perceived_colour_value_id  \\\n12340988                  9                          4   \n12340989                 13                          2   \n12340996                 14                          4   \n12341003                 73                          2   \n12341010                  9                          4   \n...                     ...                        ...   \n16731910                  9                          4   \n16731911                  9                          4   \n16731914                  9                          4   \n16731915                  9                          4   \n16731916                 31                          1   \n\n          perceived_colour_master_id  department_no  index_code  \\\n12340988                           5           1201           0   \n12340989                          11           1610           0   \n12340996                          11           1626           0   \n12341003                           6           1522           0   \n12341010                           5           3529           6   \n...                              ...            ...         ...   \n16731910                          12           1949           0   \n16731911                           5           1643           1   \n16731914                           5           5833           2   \n16731915                          12           5833           2   \n16731916                           3           1643           1   \n\n          index_group_no  section_no  garment_group_no  FN  Active  \\\n12340988               1          19              1007   1       1   \n12340989               1           6              1003   1       1   \n12340996               1          15              1003   1       1   \n12341003               1          15              1010   1       1   \n12341010               1          64              1020   1       1   \n...                  ...         ...               ...  ..     ...   \n16731910               1           2              1003   1       1   \n16731911               2          51              1002   1       1   \n16731914               3          26              1002   1       1   \n16731915               3          26              1002   1       1   \n16731916               2          51              1002   1       1   \n\n          club_member_status  fashion_news_frequency  age  postal_code  \\\n12340988                   0                       1   21        57896   \n12340989                   0                       1   21        57896   \n12340996                   0                       1   21        57896   \n12341003                   0                       1   21        57896   \n12341010                   0                       1   21        57896   \n...                      ...                     ...  ...          ...   \n16731910                   0                       1   60       177867   \n16731911                   0                       1   60        96323   \n16731914                   0                       1   60        96323   \n16731915                   0                       1   60        96323   \n16731916                   0                       1   60        96323   \n\n          price_rank  age_rank  \n12340988       999.0     999.0  \n12340989         7.0       1.0  \n12340996         7.0       2.0  \n12341003         7.0       3.0  \n12341010         7.0       3.0  \n...              ...       ...  \n16731910       999.0     999.0  \n16731911        13.0      15.0  \n16731914         1.0      16.0  \n16731915       999.0     999.0  \n16731916        44.0      15.0  \n\n[1402530 rows x 19 columns]",
      "text/html": "<div>\n<style scoped>\n    .dataframe tbody tr th:only-of-type {\n        vertical-align: middle;\n    }\n\n    .dataframe tbody tr th {\n        vertical-align: top;\n    }\n\n    .dataframe thead th {\n        text-align: right;\n    }\n</style>\n<table border=\"1\" class=\"dataframe\">\n  <thead>\n    <tr style=\"text-align: right;\">\n      <th></th>\n      <th>article_id</th>\n      <th>product_type_no</th>\n      <th>graphical_appearance_no</th>\n      <th>colour_group_code</th>\n      <th>perceived_colour_value_id</th>\n      <th>perceived_colour_master_id</th>\n      <th>department_no</th>\n      <th>index_code</th>\n      <th>index_group_no</th>\n      <th>section_no</th>\n      <th>garment_group_no</th>\n      <th>FN</th>\n      <th>Active</th>\n      <th>club_member_status</th>\n      <th>fashion_news_frequency</th>\n      <th>age</th>\n      <th>postal_code</th>\n      <th>price_rank</th>\n      <th>age_rank</th>\n    </tr>\n  </thead>\n  <tbody>\n    <tr>\n      <th>12340988</th>\n      <td>925246001</td>\n      <td>262</td>\n      <td>1010016</td>\n      <td>9</td>\n      <td>4</td>\n      <td>5</td>\n      <td>1201</td>\n      <td>0</td>\n      <td>1</td>\n      <td>19</td>\n      <td>1007</td>\n      <td>1</td>\n      <td>1</td>\n      <td>0</td>\n      <td>1</td>\n      <td>21</td>\n      <td>57896</td>\n      <td>999.0</td>\n      <td>999.0</td>\n    </tr>\n    <tr>\n      <th>12340989</th>\n      <td>779068002</td>\n      <td>252</td>\n      <td>1010016</td>\n      <td>13</td>\n      <td>2</td>\n      <td>11</td>\n      <td>1610</td>\n      <td>0</td>\n      <td>1</td>\n      <td>6</td>\n      <td>1003</td>\n      <td>1</td>\n      <td>1</td>\n      <td>0</td>\n      <td>1</td>\n      <td>21</td>\n      <td>57896</td>\n      <td>7.0</td>\n      <td>1.0</td>\n    </tr>\n    <tr>\n      <th>12340996</th>\n      <td>754323004</td>\n      <td>252</td>\n      <td>1010010</td>\n      <td>14</td>\n      <td>4</td>\n      <td>11</td>\n      <td>1626</td>\n      <td>0</td>\n      <td>1</td>\n      <td>15</td>\n      <td>1003</td>\n      <td>1</td>\n      <td>1</td>\n      <td>0</td>\n      <td>1</td>\n      <td>21</td>\n      <td>57896</td>\n      <td>7.0</td>\n      <td>2.0</td>\n    </tr>\n    <tr>\n      <th>12341003</th>\n      <td>721481003</td>\n      <td>258</td>\n      <td>1010017</td>\n      <td>73</td>\n      <td>2</td>\n      <td>6</td>\n      <td>1522</td>\n      <td>0</td>\n      <td>1</td>\n      <td>15</td>\n      <td>1010</td>\n      <td>1</td>\n      <td>1</td>\n      <td>0</td>\n      <td>1</td>\n      <td>21</td>\n      <td>57896</td>\n      <td>7.0</td>\n      <td>3.0</td>\n    </tr>\n    <tr>\n      <th>12341010</th>\n      <td>904225001</td>\n      <td>87</td>\n      <td>1010016</td>\n      <td>9</td>\n      <td>4</td>\n      <td>5</td>\n      <td>3529</td>\n      <td>6</td>\n      <td>1</td>\n      <td>64</td>\n      <td>1020</td>\n      <td>1</td>\n      <td>1</td>\n      <td>0</td>\n      <td>1</td>\n      <td>21</td>\n      <td>57896</td>\n      <td>7.0</td>\n      <td>3.0</td>\n    </tr>\n    <tr>\n      <th>...</th>\n      <td>...</td>\n      <td>...</td>\n      <td>...</td>\n      <td>...</td>\n      <td>...</td>\n      <td>...</td>\n      <td>...</td>\n      <td>...</td>\n      <td>...</td>\n      <td>...</td>\n      <td>...</td>\n      <td>...</td>\n      <td>...</td>\n      <td>...</td>\n      <td>...</td>\n      <td>...</td>\n      <td>...</td>\n      <td>...</td>\n      <td>...</td>\n    </tr>\n    <tr>\n      <th>16731910</th>\n      <td>875784002</td>\n      <td>252</td>\n      <td>1010016</td>\n      <td>9</td>\n      <td>4</td>\n      <td>12</td>\n      <td>1949</td>\n      <td>0</td>\n      <td>1</td>\n      <td>2</td>\n      <td>1003</td>\n      <td>1</td>\n      <td>1</td>\n      <td>0</td>\n      <td>1</td>\n      <td>60</td>\n      <td>177867</td>\n      <td>999.0</td>\n      <td>999.0</td>\n    </tr>\n    <tr>\n      <th>16731911</th>\n      <td>547780001</td>\n      <td>272</td>\n      <td>1010016</td>\n      <td>9</td>\n      <td>4</td>\n      <td>5</td>\n      <td>1643</td>\n      <td>1</td>\n      <td>2</td>\n      <td>51</td>\n      <td>1002</td>\n      <td>1</td>\n      <td>1</td>\n      <td>0</td>\n      <td>1</td>\n      <td>60</td>\n      <td>96323</td>\n      <td>13.0</td>\n      <td>15.0</td>\n    </tr>\n    <tr>\n      <th>16731914</th>\n      <td>763988001</td>\n      <td>272</td>\n      <td>1010016</td>\n      <td>9</td>\n      <td>4</td>\n      <td>5</td>\n      <td>5833</td>\n      <td>2</td>\n      <td>3</td>\n      <td>26</td>\n      <td>1002</td>\n      <td>1</td>\n      <td>1</td>\n      <td>0</td>\n      <td>1</td>\n      <td>60</td>\n      <td>96323</td>\n      <td>1.0</td>\n      <td>16.0</td>\n    </tr>\n    <tr>\n      <th>16731915</th>\n      <td>763988003</td>\n      <td>272</td>\n      <td>1010010</td>\n      <td>9</td>\n      <td>4</td>\n      <td>12</td>\n      <td>5833</td>\n      <td>2</td>\n      <td>3</td>\n      <td>26</td>\n      <td>1002</td>\n      <td>1</td>\n      <td>1</td>\n      <td>0</td>\n      <td>1</td>\n      <td>60</td>\n      <td>96323</td>\n      <td>999.0</td>\n      <td>999.0</td>\n    </tr>\n    <tr>\n      <th>16731916</th>\n      <td>547780040</td>\n      <td>272</td>\n      <td>1010016</td>\n      <td>31</td>\n      <td>1</td>\n      <td>3</td>\n      <td>1643</td>\n      <td>1</td>\n      <td>2</td>\n      <td>51</td>\n      <td>1002</td>\n      <td>1</td>\n      <td>1</td>\n      <td>0</td>\n      <td>1</td>\n      <td>60</td>\n      <td>96323</td>\n      <td>44.0</td>\n      <td>15.0</td>\n    </tr>\n  </tbody>\n</table>\n<p>1402530 rows × 19 columns</p>\n</div>"
     },
     "execution_count": 127,
     "metadata": {},
     "output_type": "execute_result"
    }
   ],
   "source": [
    "test_X"
   ],
   "metadata": {
    "collapsed": false,
    "ExecuteTime": {
     "end_time": "2023-12-18T00:50:15.703298Z",
     "start_time": "2023-12-18T00:50:15.688901100Z"
    }
   },
   "id": "9ae23cbdc4c6d2ea"
  },
  {
   "cell_type": "markdown",
   "source": [
    "# Model training and ranking"
   ],
   "metadata": {
    "collapsed": false
   },
   "id": "722100b0655f7e48"
  },
  {
   "cell_type": "code",
   "execution_count": 128,
   "outputs": [
    {
     "name": "stdout",
     "output_type": "stream",
     "text": [
      "[LightGBM] [Debug] Dataset::GetMultiBinFromSparseFeatures: sparse rate 0.889245\n",
      "[LightGBM] [Debug] Dataset::GetMultiBinFromAllFeatures: sparse rate 0.155714\n",
      "[LightGBM] [Debug] init for col-wise cost 0.079666 seconds, init for row-wise cost 0.168006 seconds\n",
      "[LightGBM] [Info] Auto-choosing row-wise multi-threading, the overhead of testing was 0.183850 seconds.\n",
      "You can set `force_row_wise=true` to remove the overhead.\n",
      "And if memory is not enough, you can set `force_col_wise=true`.\n",
      "[LightGBM] [Debug] Using Dense Multi-Val Bin\n",
      "[LightGBM] [Info] Total Bins 1158\n",
      "[LightGBM] [Info] Number of data points in the train set: 12340988, number of used features: 19\n",
      "[LightGBM] [Debug] Trained a tree with leaves = 31 and depth = 13\n",
      "price_rank 0.6835620043234258\n",
      "article_id 0.11766371018323818\n",
      "product_type_no 0.07645167159613835\n",
      "garment_group_no 0.06177753506324362\n",
      "department_no 0.04177899449274285\n",
      "section_no 0.01131151231931095\n",
      "graphical_appearance_no 0.004557535348505498\n",
      "colour_group_code 0.002897036673394664\n",
      "Active 0.0\n",
      "FN 0.0\n",
      "club_member_status 0.0\n",
      "fashion_news_frequency 0.0\n",
      "index_group_no 0.0\n",
      "index_code 0.0\n",
      "age 0.0\n",
      "perceived_colour_master_id 0.0\n",
      "perceived_colour_value_id 0.0\n",
      "postal_code 0.0\n",
      "age_rank 0.0\n"
     ]
    }
   ],
   "source": [
    "from lightgbm.sklearn import LGBMRanker\n",
    "ranker = LGBMRanker(\n",
    "    objective=\"lambdarank\",\n",
    "    metric=\"ndcg\",\n",
    "    boosting_type=\"dart\",\n",
    "    n_estimators=1,\n",
    "    importance_type='gain',\n",
    "    verbose=10\n",
    ")\n",
    "ranker = ranker.fit(\n",
    "    train_X,\n",
    "    train_y,\n",
    "    group=train_baskets,\n",
    ")\n",
    "\n",
    "for i in ranker.feature_importances_.argsort()[::-1]:\n",
    "    print(columns_to_use[i], ranker.feature_importances_[i]/ranker.feature_importances_.sum())\n",
    "    \n",
    "test['preds'] = ranker.predict(test_X)\n",
    "\n",
    "c_id2predicted_article_ids = test \\\n",
    "    .sort_values(['customer_id', 'preds'], ascending=False) \\\n",
    "    .groupby('customer_id')['article_id'].apply(list).to_dict()\n",
    "\n",
    "best_last_week = \\\n",
    "    top_candidates_3feat_prev_week[top_candidates_3feat_prev_week.week == top_candidates_3feat_prev_week.week.max()]['article_id'].tolist()"
   ],
   "metadata": {
    "collapsed": false,
    "ExecuteTime": {
     "end_time": "2023-12-18T00:50:29.043358900Z",
     "start_time": "2023-12-18T00:50:15.707297200Z"
    }
   },
   "id": "c6a40fe281d19c5"
  },
  {
   "cell_type": "code",
   "execution_count": 129,
   "outputs": [],
   "source": [
    "sub = pd.read_csv('../input/sample_submission.csv')\n",
    "preds = []\n",
    "for c_id in customer_hex_id_to_int(sub.customer_id):\n",
    "    pred = c_id2predicted_article_ids.get(c_id, [])\n",
    "    pred = pred + best_last_week\n",
    "    preds.append(pred[:12])"
   ],
   "metadata": {
    "collapsed": false,
    "ExecuteTime": {
     "end_time": "2023-12-18T00:51:27.634107200Z",
     "start_time": "2023-12-18T00:50:29.044360500Z"
    }
   },
   "id": "9b5544a9e14f8d32"
  },
  {
   "cell_type": "code",
   "execution_count": 130,
   "outputs": [
    {
     "name": "stderr",
     "output_type": "stream",
     "text": [
      "68984it [00:00, 931431.45it/s]"
     ]
    },
    {
     "name": "stdout",
     "output_type": "stream",
     "text": [
      "Total users in validation: 68984\n",
      "mAP12 Score on Validation set: 0.00020435931735109805\n",
      "recall Score on Validation set: 0.0008370739349937931\n"
     ]
    },
    {
     "name": "stderr",
     "output_type": "stream",
     "text": [
      "\n"
     ]
    }
   ],
   "source": [
    "# Copied from NickWils\n",
    "from tqdm import tqdm\n",
    "# Creating validation set for metrics use case\n",
    "positive_items_val = validation.groupby(['customer_id'])['article_id'].apply(list)\n",
    "val_users = positive_items_val.keys()\n",
    "val_items = []\n",
    "for i, user in tqdm(enumerate(val_users)):\n",
    "    val_items.append(positive_items_val[user])\n",
    "    \n",
    "print(\"Total users in validation:\", len(val_users))\n",
    "print(\"mAP12 Score on Validation set:\", mapk(val_items, preds))\n",
    "print(\"recall Score on Validation set:\", recall12(val_items, preds))"
   ],
   "metadata": {
    "collapsed": false,
    "ExecuteTime": {
     "end_time": "2023-12-18T00:51:28.388488700Z",
     "start_time": "2023-12-18T00:51:27.636107Z"
    }
   },
   "id": "55859965f7447716"
  },
  {
   "cell_type": "code",
   "execution_count": 131,
   "outputs": [],
   "source": [
    "preds = [' '.join(['0' + str(p) for p in ps]) for ps in preds]\n",
    "sub.prediction = preds\n",
    "sub.to_csv(f'../basic_model_submission.csv.gz', index=False)"
   ],
   "metadata": {
    "collapsed": false,
    "ExecuteTime": {
     "end_time": "2023-12-18T00:51:39.167432400Z",
     "start_time": "2023-12-18T00:51:28.388488700Z"
    }
   },
   "id": "10ac750cd3556fde"
  },
  {
   "cell_type": "markdown",
   "source": [
    "# Radek"
   ],
   "metadata": {
    "collapsed": false
   },
   "id": "b78e078e4e9dba03"
  },
  {
   "cell_type": "code",
   "execution_count": 132,
   "outputs": [],
   "source": [
    "transactions = transactions_copy.copy()\n",
    "del transactions_copy"
   ],
   "metadata": {
    "collapsed": false,
    "ExecuteTime": {
     "end_time": "2023-12-18T00:51:39.344427600Z",
     "start_time": "2023-12-18T00:51:39.167931600Z"
    }
   },
   "id": "887fdcf3034a9093"
  },
  {
   "cell_type": "code",
   "source": [
    "### Bestsellers candidates\n",
    "mean_price = transactions.groupby(['week', 'article_id'])['price'].mean()\n",
    "sales = transactions \\\n",
    "    .groupby('week')['article_id'].value_counts() \\\n",
    "    .groupby('week').rank(method='dense', ascending=False) \\\n",
    "    .groupby('week').head(12).rename('bestseller_rank').astype('int8')\n",
    "bestsellers_previous_week = pd.merge(sales, mean_price, on=['week', 'article_id']).reset_index()\n",
    "bestsellers_previous_week.week += 1"
   ],
   "metadata": {
    "papermill": {
     "duration": 0.11991,
     "end_time": "2022-04-16T16:59:28.231470",
     "exception": false,
     "start_time": "2022-04-16T16:59:28.111560",
     "status": "completed"
    },
    "tags": [],
    "execution": {
     "iopub.status.busy": "2023-10-11T08:03:25.596069Z",
     "iopub.execute_input": "2023-10-11T08:03:25.596380Z",
     "iopub.status.idle": "2023-10-11T08:03:25.640966Z",
     "shell.execute_reply.started": "2023-10-11T08:03:25.596349Z",
     "shell.execute_reply": "2023-10-11T08:03:25.640019Z"
    },
    "trusted": true,
    "ExecuteTime": {
     "end_time": "2023-12-18T00:51:43.377663100Z",
     "start_time": "2023-12-18T00:51:39.345929800Z"
    }
   },
   "execution_count": 133,
   "outputs": [],
   "id": "bf2b1aaa2053ebaa"
  },
  {
   "cell_type": "code",
   "source": [
    "# bestsellers_previous_week.pipe(lambda df: df[df['week']==96])\n",
    "bestsellers_previous_week"
   ],
   "metadata": {
    "papermill": {
     "duration": 0.089116,
     "end_time": "2022-04-16T16:59:28.399153",
     "exception": false,
     "start_time": "2022-04-16T16:59:28.310037",
     "status": "completed"
    },
    "tags": [],
    "execution": {
     "iopub.status.busy": "2023-10-11T08:03:25.642378Z",
     "iopub.execute_input": "2023-10-11T08:03:25.642812Z",
     "iopub.status.idle": "2023-10-11T08:03:25.654010Z",
     "shell.execute_reply.started": "2023-10-11T08:03:25.642753Z",
     "shell.execute_reply": "2023-10-11T08:03:25.653041Z"
    },
    "trusted": true,
    "ExecuteTime": {
     "end_time": "2023-12-18T00:51:43.384788900Z",
     "start_time": "2023-12-18T00:51:43.378609700Z"
    }
   },
   "execution_count": 134,
   "outputs": [
    {
     "data": {
      "text/plain": "      week  article_id  bestseller_rank     price\n0        1   685687003                1  0.016912\n1        1   685687001                2  0.016904\n2        1   685687004                3  0.016857\n3        1   685687002                4  0.016922\n4        1   562245001                5  0.023881\n...    ...         ...              ...       ...\n1255   105   915529003                8  0.033439\n1256   105   915529005                9  0.033417\n1257   105   448509014               10  0.041630\n1258   105   762846027               11  0.025005\n1259   105   714790020               12  0.049951\n\n[1260 rows x 4 columns]",
      "text/html": "<div>\n<style scoped>\n    .dataframe tbody tr th:only-of-type {\n        vertical-align: middle;\n    }\n\n    .dataframe tbody tr th {\n        vertical-align: top;\n    }\n\n    .dataframe thead th {\n        text-align: right;\n    }\n</style>\n<table border=\"1\" class=\"dataframe\">\n  <thead>\n    <tr style=\"text-align: right;\">\n      <th></th>\n      <th>week</th>\n      <th>article_id</th>\n      <th>bestseller_rank</th>\n      <th>price</th>\n    </tr>\n  </thead>\n  <tbody>\n    <tr>\n      <th>0</th>\n      <td>1</td>\n      <td>685687003</td>\n      <td>1</td>\n      <td>0.016912</td>\n    </tr>\n    <tr>\n      <th>1</th>\n      <td>1</td>\n      <td>685687001</td>\n      <td>2</td>\n      <td>0.016904</td>\n    </tr>\n    <tr>\n      <th>2</th>\n      <td>1</td>\n      <td>685687004</td>\n      <td>3</td>\n      <td>0.016857</td>\n    </tr>\n    <tr>\n      <th>3</th>\n      <td>1</td>\n      <td>685687002</td>\n      <td>4</td>\n      <td>0.016922</td>\n    </tr>\n    <tr>\n      <th>4</th>\n      <td>1</td>\n      <td>562245001</td>\n      <td>5</td>\n      <td>0.023881</td>\n    </tr>\n    <tr>\n      <th>...</th>\n      <td>...</td>\n      <td>...</td>\n      <td>...</td>\n      <td>...</td>\n    </tr>\n    <tr>\n      <th>1255</th>\n      <td>105</td>\n      <td>915529003</td>\n      <td>8</td>\n      <td>0.033439</td>\n    </tr>\n    <tr>\n      <th>1256</th>\n      <td>105</td>\n      <td>915529005</td>\n      <td>9</td>\n      <td>0.033417</td>\n    </tr>\n    <tr>\n      <th>1257</th>\n      <td>105</td>\n      <td>448509014</td>\n      <td>10</td>\n      <td>0.041630</td>\n    </tr>\n    <tr>\n      <th>1258</th>\n      <td>105</td>\n      <td>762846027</td>\n      <td>11</td>\n      <td>0.025005</td>\n    </tr>\n    <tr>\n      <th>1259</th>\n      <td>105</td>\n      <td>714790020</td>\n      <td>12</td>\n      <td>0.049951</td>\n    </tr>\n  </tbody>\n</table>\n<p>1260 rows × 4 columns</p>\n</div>"
     },
     "execution_count": 134,
     "metadata": {},
     "output_type": "execute_result"
    }
   ],
   "id": "38554d4d96501297"
  },
  {
   "cell_type": "code",
   "source": [
    "unique_transactions = transactions.groupby(['week', 'customer_id']).head(1).drop(columns=['article_id', 'price']).copy()\n",
    "candidates_bestsellers = pd.merge(unique_transactions, bestsellers_previous_week, on='week',)\n",
    "test_set_transactions = unique_transactions.drop_duplicates('customer_id').reset_index(drop=True)\n",
    "test_set_transactions.week = test_week"
   ],
   "metadata": {
    "papermill": {
     "duration": 0.163691,
     "end_time": "2022-04-16T16:59:30.668845",
     "exception": false,
     "start_time": "2022-04-16T16:59:30.505154",
     "status": "completed"
    },
    "tags": [],
    "execution": {
     "iopub.status.busy": "2023-10-11T08:03:27.233086Z",
     "iopub.execute_input": "2023-10-11T08:03:27.233759Z",
     "iopub.status.idle": "2023-10-11T08:03:27.290835Z",
     "shell.execute_reply.started": "2023-10-11T08:03:27.233720Z",
     "shell.execute_reply": "2023-10-11T08:03:27.290007Z"
    },
    "trusted": true,
    "ExecuteTime": {
     "end_time": "2023-12-18T00:51:50.635453100Z",
     "start_time": "2023-12-18T00:51:43.382723400Z"
    }
   },
   "execution_count": 135,
   "outputs": [],
   "id": "43f6a7082fae2b06"
  },
  {
   "cell_type": "code",
   "execution_count": 136,
   "outputs": [],
   "source": [
    "# candidates_bestsellers"
   ],
   "metadata": {
    "collapsed": false,
    "ExecuteTime": {
     "end_time": "2023-12-18T00:51:50.638488100Z",
     "start_time": "2023-12-18T00:51:50.636453200Z"
    }
   },
   "id": "a7ed7192b23479a4"
  },
  {
   "cell_type": "code",
   "source": [
    "# test_set_transactions\n",
    "# unique_transactions"
   ],
   "metadata": {
    "papermill": {
     "duration": 0.098295,
     "end_time": "2022-04-16T16:59:30.846626",
     "exception": false,
     "start_time": "2022-04-16T16:59:30.748331",
     "status": "completed"
    },
    "tags": [],
    "execution": {
     "iopub.status.busy": "2023-10-11T08:03:27.292596Z",
     "iopub.execute_input": "2023-10-11T08:03:27.293638Z",
     "iopub.status.idle": "2023-10-11T08:03:27.302090Z",
     "shell.execute_reply.started": "2023-10-11T08:03:27.293597Z",
     "shell.execute_reply": "2023-10-11T08:03:27.300846Z"
    },
    "trusted": true,
    "ExecuteTime": {
     "end_time": "2023-12-18T00:51:50.645334600Z",
     "start_time": "2023-12-18T00:51:50.638488100Z"
    }
   },
   "execution_count": 137,
   "outputs": [],
   "id": "2bee51c080e7d11d"
  },
  {
   "cell_type": "code",
   "source": [
    "candidates_bestsellers_test_week = pd.merge(test_set_transactions, bestsellers_previous_week, on='week')\n",
    "candidates_bestsellers = pd.concat([candidates_bestsellers, candidates_bestsellers_test_week])\n",
    "candidates_bestsellers.drop(columns='bestseller_rank', inplace=True)"
   ],
   "metadata": {
    "papermill": {
     "duration": 0.570441,
     "end_time": "2022-04-16T16:59:32.058855",
     "exception": false,
     "start_time": "2022-04-16T16:59:31.488414",
     "status": "completed"
    },
    "tags": [],
    "execution": {
     "iopub.status.busy": "2023-10-11T08:03:27.665568Z",
     "iopub.execute_input": "2023-10-11T08:03:27.666052Z",
     "iopub.status.idle": "2023-10-11T08:03:28.402619Z",
     "shell.execute_reply.started": "2023-10-11T08:03:27.666007Z",
     "shell.execute_reply": "2023-10-11T08:03:28.401580Z"
    },
    "trusted": true,
    "ExecuteTime": {
     "end_time": "2023-12-18T00:51:53.243584200Z",
     "start_time": "2023-12-18T00:51:50.643834700Z"
    }
   },
   "execution_count": 138,
   "outputs": [],
   "id": "99b980ad8b9e2dad"
  },
  {
   "cell_type": "code",
   "source": [
    "candidates_bestsellers"
   ],
   "metadata": {
    "papermill": {
     "duration": 0.095192,
     "end_time": "2022-04-16T16:59:32.233727",
     "exception": false,
     "start_time": "2022-04-16T16:59:32.138535",
     "status": "completed"
    },
    "tags": [],
    "execution": {
     "iopub.status.busy": "2023-10-11T08:03:28.403915Z",
     "iopub.execute_input": "2023-10-11T08:03:28.404325Z",
     "iopub.status.idle": "2023-10-11T08:03:28.412380Z",
     "shell.execute_reply.started": "2023-10-11T08:03:28.404290Z",
     "shell.execute_reply": "2023-10-11T08:03:28.411231Z"
    },
    "trusted": true,
    "ExecuteTime": {
     "end_time": "2023-12-18T00:51:53.253460600Z",
     "start_time": "2023-12-18T00:51:53.243082100Z"
    }
   },
   "execution_count": 139,
   "outputs": [
    {
     "data": {
      "text/plain": "              t_dat           customer_id  sales_channel_id  week  article_id  \\\n0        2018-09-26       857913002275398                 1     1   685687003   \n1        2018-09-26       857913002275398                 1     1   685687001   \n2        2018-09-26       857913002275398                 1     1   685687004   \n3        2018-09-26       857913002275398                 1     1   685687002   \n4        2018-09-26       857913002275398                 1     1   562245001   \n...             ...                   ...               ...   ...         ...   \n16347367 2020-09-22  18417769707947924979                 2   105   915529003   \n16347368 2020-09-22  18417769707947924979                 2   105   915529005   \n16347369 2020-09-22  18417769707947924979                 2   105   448509014   \n16347370 2020-09-22  18417769707947924979                 2   105   762846027   \n16347371 2020-09-22  18417769707947924979                 2   105   714790020   \n\n             price  \n0         0.016912  \n1         0.016904  \n2         0.016857  \n3         0.016922  \n4         0.023881  \n...            ...  \n16347367  0.033439  \n16347368  0.033417  \n16347369  0.041630  \n16347370  0.025005  \n16347371  0.049951  \n\n[112482960 rows x 6 columns]",
      "text/html": "<div>\n<style scoped>\n    .dataframe tbody tr th:only-of-type {\n        vertical-align: middle;\n    }\n\n    .dataframe tbody tr th {\n        vertical-align: top;\n    }\n\n    .dataframe thead th {\n        text-align: right;\n    }\n</style>\n<table border=\"1\" class=\"dataframe\">\n  <thead>\n    <tr style=\"text-align: right;\">\n      <th></th>\n      <th>t_dat</th>\n      <th>customer_id</th>\n      <th>sales_channel_id</th>\n      <th>week</th>\n      <th>article_id</th>\n      <th>price</th>\n    </tr>\n  </thead>\n  <tbody>\n    <tr>\n      <th>0</th>\n      <td>2018-09-26</td>\n      <td>857913002275398</td>\n      <td>1</td>\n      <td>1</td>\n      <td>685687003</td>\n      <td>0.016912</td>\n    </tr>\n    <tr>\n      <th>1</th>\n      <td>2018-09-26</td>\n      <td>857913002275398</td>\n      <td>1</td>\n      <td>1</td>\n      <td>685687001</td>\n      <td>0.016904</td>\n    </tr>\n    <tr>\n      <th>2</th>\n      <td>2018-09-26</td>\n      <td>857913002275398</td>\n      <td>1</td>\n      <td>1</td>\n      <td>685687004</td>\n      <td>0.016857</td>\n    </tr>\n    <tr>\n      <th>3</th>\n      <td>2018-09-26</td>\n      <td>857913002275398</td>\n      <td>1</td>\n      <td>1</td>\n      <td>685687002</td>\n      <td>0.016922</td>\n    </tr>\n    <tr>\n      <th>4</th>\n      <td>2018-09-26</td>\n      <td>857913002275398</td>\n      <td>1</td>\n      <td>1</td>\n      <td>562245001</td>\n      <td>0.023881</td>\n    </tr>\n    <tr>\n      <th>...</th>\n      <td>...</td>\n      <td>...</td>\n      <td>...</td>\n      <td>...</td>\n      <td>...</td>\n      <td>...</td>\n    </tr>\n    <tr>\n      <th>16347367</th>\n      <td>2020-09-22</td>\n      <td>18417769707947924979</td>\n      <td>2</td>\n      <td>105</td>\n      <td>915529003</td>\n      <td>0.033439</td>\n    </tr>\n    <tr>\n      <th>16347368</th>\n      <td>2020-09-22</td>\n      <td>18417769707947924979</td>\n      <td>2</td>\n      <td>105</td>\n      <td>915529005</td>\n      <td>0.033417</td>\n    </tr>\n    <tr>\n      <th>16347369</th>\n      <td>2020-09-22</td>\n      <td>18417769707947924979</td>\n      <td>2</td>\n      <td>105</td>\n      <td>448509014</td>\n      <td>0.041630</td>\n    </tr>\n    <tr>\n      <th>16347370</th>\n      <td>2020-09-22</td>\n      <td>18417769707947924979</td>\n      <td>2</td>\n      <td>105</td>\n      <td>762846027</td>\n      <td>0.025005</td>\n    </tr>\n    <tr>\n      <th>16347371</th>\n      <td>2020-09-22</td>\n      <td>18417769707947924979</td>\n      <td>2</td>\n      <td>105</td>\n      <td>714790020</td>\n      <td>0.049951</td>\n    </tr>\n  </tbody>\n</table>\n<p>112482960 rows × 6 columns</p>\n</div>"
     },
     "execution_count": 139,
     "metadata": {},
     "output_type": "execute_result"
    }
   ],
   "id": "8ca62bd46a28d851"
  },
  {
   "cell_type": "markdown",
   "source": [
    "# Combining transactions and candidates / negative examples"
   ],
   "metadata": {
    "papermill": {
     "duration": 0.08208,
     "end_time": "2022-04-16T16:59:32.397198",
     "exception": false,
     "start_time": "2022-04-16T16:59:32.315118",
     "status": "completed"
    },
    "tags": []
   },
   "id": "88415118080fdaed"
  },
  {
   "cell_type": "code",
   "source": [
    "transactions['purchased'] = 1\n",
    "data = pd.concat([transactions, candidates_last_purchase, candidates_bestsellers])\n",
    "data.purchased.fillna(0, inplace=True)\n",
    "data.drop_duplicates(['customer_id', 'article_id', 'week'], inplace=True)"
   ],
   "metadata": {
    "papermill": {
     "duration": 7.070271,
     "end_time": "2022-04-16T16:59:40.552624",
     "exception": false,
     "start_time": "2022-04-16T16:59:33.482353",
     "status": "completed"
    },
    "tags": [],
    "execution": {
     "iopub.status.busy": "2023-10-11T08:03:29.013858Z",
     "iopub.execute_input": "2023-10-11T08:03:29.014298Z",
     "iopub.status.idle": "2023-10-11T08:03:35.907805Z",
     "shell.execute_reply.started": "2023-10-11T08:03:29.014259Z",
     "shell.execute_reply": "2023-10-11T08:03:35.906630Z"
    },
    "trusted": true,
    "ExecuteTime": {
     "end_time": "2023-12-18T00:52:22.474336Z",
     "start_time": "2023-12-18T00:51:53.249940100Z"
    }
   },
   "execution_count": 140,
   "outputs": [],
   "id": "79abce01eb35c392"
  },
  {
   "cell_type": "code",
   "execution_count": 141,
   "outputs": [
    {
     "data": {
      "text/plain": "              t_dat           customer_id  article_id     price  \\\n25784    2018-09-20      1728846800780188   519773001  0.028458   \n25785    2018-09-20      1728846800780188   578472001  0.032525   \n5389     2018-09-20      2076973761519164   661795002  0.167797   \n5390     2018-09-20      2076973761519164   684080003  0.101678   \n47429    2018-09-20      2918879973994241   662980001  0.033881   \n...             ...                   ...         ...       ...   \n16347367 2020-09-22  18417769707947924979   915529003  0.033439   \n16347368 2020-09-22  18417769707947924979   915529005  0.033417   \n16347369 2020-09-22  18417769707947924979   448509014  0.041630   \n16347370 2020-09-22  18417769707947924979   762846027  0.025005   \n16347371 2020-09-22  18417769707947924979   714790020  0.049951   \n\n          sales_channel_id  week  purchased  \n25784                    2     0        1.0  \n25785                    2     0        1.0  \n5389                     2     0        1.0  \n5390                     2     0        1.0  \n47429                    1     0        1.0  \n...                    ...   ...        ...  \n16347367                 2   105        0.0  \n16347368                 2   105        0.0  \n16347369                 2   105        0.0  \n16347370                 2   105        0.0  \n16347371                 2   105        0.0  \n\n[142738044 rows x 7 columns]",
      "text/html": "<div>\n<style scoped>\n    .dataframe tbody tr th:only-of-type {\n        vertical-align: middle;\n    }\n\n    .dataframe tbody tr th {\n        vertical-align: top;\n    }\n\n    .dataframe thead th {\n        text-align: right;\n    }\n</style>\n<table border=\"1\" class=\"dataframe\">\n  <thead>\n    <tr style=\"text-align: right;\">\n      <th></th>\n      <th>t_dat</th>\n      <th>customer_id</th>\n      <th>article_id</th>\n      <th>price</th>\n      <th>sales_channel_id</th>\n      <th>week</th>\n      <th>purchased</th>\n    </tr>\n  </thead>\n  <tbody>\n    <tr>\n      <th>25784</th>\n      <td>2018-09-20</td>\n      <td>1728846800780188</td>\n      <td>519773001</td>\n      <td>0.028458</td>\n      <td>2</td>\n      <td>0</td>\n      <td>1.0</td>\n    </tr>\n    <tr>\n      <th>25785</th>\n      <td>2018-09-20</td>\n      <td>1728846800780188</td>\n      <td>578472001</td>\n      <td>0.032525</td>\n      <td>2</td>\n      <td>0</td>\n      <td>1.0</td>\n    </tr>\n    <tr>\n      <th>5389</th>\n      <td>2018-09-20</td>\n      <td>2076973761519164</td>\n      <td>661795002</td>\n      <td>0.167797</td>\n      <td>2</td>\n      <td>0</td>\n      <td>1.0</td>\n    </tr>\n    <tr>\n      <th>5390</th>\n      <td>2018-09-20</td>\n      <td>2076973761519164</td>\n      <td>684080003</td>\n      <td>0.101678</td>\n      <td>2</td>\n      <td>0</td>\n      <td>1.0</td>\n    </tr>\n    <tr>\n      <th>47429</th>\n      <td>2018-09-20</td>\n      <td>2918879973994241</td>\n      <td>662980001</td>\n      <td>0.033881</td>\n      <td>1</td>\n      <td>0</td>\n      <td>1.0</td>\n    </tr>\n    <tr>\n      <th>...</th>\n      <td>...</td>\n      <td>...</td>\n      <td>...</td>\n      <td>...</td>\n      <td>...</td>\n      <td>...</td>\n      <td>...</td>\n    </tr>\n    <tr>\n      <th>16347367</th>\n      <td>2020-09-22</td>\n      <td>18417769707947924979</td>\n      <td>915529003</td>\n      <td>0.033439</td>\n      <td>2</td>\n      <td>105</td>\n      <td>0.0</td>\n    </tr>\n    <tr>\n      <th>16347368</th>\n      <td>2020-09-22</td>\n      <td>18417769707947924979</td>\n      <td>915529005</td>\n      <td>0.033417</td>\n      <td>2</td>\n      <td>105</td>\n      <td>0.0</td>\n    </tr>\n    <tr>\n      <th>16347369</th>\n      <td>2020-09-22</td>\n      <td>18417769707947924979</td>\n      <td>448509014</td>\n      <td>0.041630</td>\n      <td>2</td>\n      <td>105</td>\n      <td>0.0</td>\n    </tr>\n    <tr>\n      <th>16347370</th>\n      <td>2020-09-22</td>\n      <td>18417769707947924979</td>\n      <td>762846027</td>\n      <td>0.025005</td>\n      <td>2</td>\n      <td>105</td>\n      <td>0.0</td>\n    </tr>\n    <tr>\n      <th>16347371</th>\n      <td>2020-09-22</td>\n      <td>18417769707947924979</td>\n      <td>714790020</td>\n      <td>0.049951</td>\n      <td>2</td>\n      <td>105</td>\n      <td>0.0</td>\n    </tr>\n  </tbody>\n</table>\n<p>142738044 rows × 7 columns</p>\n</div>"
     },
     "execution_count": 141,
     "metadata": {},
     "output_type": "execute_result"
    }
   ],
   "source": [
    "data"
   ],
   "metadata": {
    "collapsed": false,
    "ExecuteTime": {
     "end_time": "2023-12-18T00:52:22.483578700Z",
     "start_time": "2023-12-18T00:52:22.473835900Z"
    }
   },
   "id": "3cc9ba36fcd3d3b0"
  },
  {
   "cell_type": "markdown",
   "source": [
    "### Add bestseller information"
   ],
   "metadata": {
    "papermill": {
     "duration": 0.085919,
     "end_time": "2022-04-16T16:59:40.938934",
     "exception": false,
     "start_time": "2022-04-16T16:59:40.853015",
     "status": "completed"
    },
    "tags": []
   },
   "id": "43c893713e721c04"
  },
  {
   "cell_type": "code",
   "source": [
    "data = pd.merge(\n",
    "    data,\n",
    "    bestsellers_previous_week[['week', 'article_id', 'bestseller_rank']],\n",
    "    on=['week', 'article_id'],\n",
    "    how='left'\n",
    ")\n",
    "data = data[data.week != data.week.min()]\n",
    "data.bestseller_rank.fillna(999, inplace=True)\n",
    "data = pd.merge(data, articles, on='article_id', how='left')\n",
    "data = pd.merge(data, customers, on='customer_id', how='left')\n",
    "data.sort_values(['week', 'customer_id'], inplace=True)\n",
    "data.reset_index(drop=True, inplace=True)"
   ],
   "metadata": {
    "papermill": {
     "duration": 6.526551,
     "end_time": "2022-04-16T17:00:17.700139",
     "exception": false,
     "start_time": "2022-04-16T17:00:11.173588",
     "status": "completed"
    },
    "tags": [],
    "execution": {
     "iopub.status.busy": "2023-10-11T08:03:53.360623Z",
     "iopub.execute_input": "2023-10-11T08:03:53.361255Z",
     "iopub.status.idle": "2023-10-11T08:03:58.996101Z",
     "shell.execute_reply.started": "2023-10-11T08:03:53.361181Z",
     "shell.execute_reply": "2023-10-11T08:03:58.994878Z"
    },
    "trusted": true,
    "ExecuteTime": {
     "end_time": "2023-12-18T00:53:42.061621300Z",
     "start_time": "2023-12-18T00:52:22.481578400Z"
    }
   },
   "execution_count": 142,
   "outputs": [],
   "id": "cf878ef12e8a2606"
  },
  {
   "cell_type": "code",
   "source": [
    "train = data[data.week != test_week]\n",
    "test = data[data.week==test_week].drop_duplicates(['customer_id', 'article_id', 'sales_channel_id']).copy()"
   ],
   "metadata": {
    "papermill": {
     "duration": 6.711593,
     "end_time": "2022-04-16T17:00:24.465301",
     "exception": false,
     "start_time": "2022-04-16T17:00:17.753708",
     "status": "completed"
    },
    "tags": [],
    "execution": {
     "iopub.status.busy": "2023-10-11T08:03:58.997487Z",
     "iopub.execute_input": "2023-10-11T08:03:58.998061Z",
     "iopub.status.idle": "2023-10-11T08:04:05.048167Z",
     "shell.execute_reply.started": "2023-10-11T08:03:58.998031Z",
     "shell.execute_reply": "2023-10-11T08:04:05.046865Z"
    },
    "trusted": true,
    "ExecuteTime": {
     "end_time": "2023-12-18T00:53:55.052307800Z",
     "start_time": "2023-12-18T00:53:42.062120700Z"
    }
   },
   "execution_count": 143,
   "outputs": [],
   "id": "9918b84796200b6e"
  },
  {
   "cell_type": "code",
   "execution_count": 144,
   "outputs": [
    {
     "data": {
      "text/plain": "               t_dat           customer_id  article_id     price  \\\n124800519 2020-04-10         4245900472157   924243001  0.041535   \n124800520 2020-04-10         4245900472157   924243002  0.041877   \n124800521 2020-04-10         4245900472157   918522001  0.041435   \n124800522 2020-04-10         4245900472157   923758001  0.033462   \n124800523 2020-04-10         4245900472157   866731001  0.025015   \n...              ...                   ...         ...       ...   \n142509656 2018-09-29  18446737527580148316   915529003  0.033439   \n142509657 2018-09-29  18446737527580148316   915529005  0.033417   \n142509658 2018-09-29  18446737527580148316   448509014  0.041630   \n142509659 2018-09-29  18446737527580148316   762846027  0.025005   \n142509660 2018-09-29  18446737527580148316   714790020  0.049951   \n\n           sales_channel_id  week  purchased  bestseller_rank  product_code  \\\n124800519                 2   105        0.0              1.0        924243   \n124800520                 2   105        0.0              2.0        924243   \n124800521                 2   105        0.0              3.0        918522   \n124800522                 2   105        0.0              4.0        923758   \n124800523                 2   105        0.0              5.0        866731   \n...                     ...   ...        ...              ...           ...   \n142509656                 1   105        0.0              8.0        915529   \n142509657                 1   105        0.0              9.0        915529   \n142509658                 1   105        0.0             10.0        448509   \n142509659                 1   105        0.0             11.0        762846   \n142509660                 1   105        0.0             12.0        714790   \n\n           prod_name  ...  section_name  garment_group_no  garment_group_name  \\\n124800519      19190  ...             0              1003                   3   \n124800520      19190  ...             0              1003                   3   \n124800521      26372  ...             0              1003                   3   \n124800522      19359  ...             0              1010                   6   \n124800523       3609  ...            21              1005                   0   \n...              ...  ...           ...               ...                 ...   \n142509656       7046  ...             0              1003                   3   \n142509657       7046  ...             0              1003                   3   \n142509658        259  ...             1              1009                   5   \n142509659        472  ...             7              1010                   6   \n142509660       4354  ...            37              1016                  11   \n\n           detail_desc  FN  Active  club_member_status  \\\n124800519        13007  -1      -1                   0   \n124800520        13007  -1      -1                   0   \n124800521        28633  -1      -1                   0   \n124800522        27869  -1      -1                   0   \n124800523         3130  -1      -1                   0   \n...                ...  ..     ...                 ...   \n142509656        10909   1       1                   0   \n142509657        10909   1       1                   0   \n142509658          255   1       1                   0   \n142509659          492   1       1                   0   \n142509660          856   1       1                   0   \n\n           fashion_news_frequency  age  postal_code  \n124800519                       0   21        64922  \n124800520                       0   21        64922  \n124800521                       0   21        64922  \n124800522                       0   21        64922  \n124800523                       0   21        64922  \n...                           ...  ...          ...  \n142509656                       1   60        96323  \n142509657                       1   60        96323  \n142509658                       1   60        96323  \n142509659                       1   60        96323  \n142509660                       1   60        96323  \n\n[17709142 rows x 38 columns]",
      "text/html": "<div>\n<style scoped>\n    .dataframe tbody tr th:only-of-type {\n        vertical-align: middle;\n    }\n\n    .dataframe tbody tr th {\n        vertical-align: top;\n    }\n\n    .dataframe thead th {\n        text-align: right;\n    }\n</style>\n<table border=\"1\" class=\"dataframe\">\n  <thead>\n    <tr style=\"text-align: right;\">\n      <th></th>\n      <th>t_dat</th>\n      <th>customer_id</th>\n      <th>article_id</th>\n      <th>price</th>\n      <th>sales_channel_id</th>\n      <th>week</th>\n      <th>purchased</th>\n      <th>bestseller_rank</th>\n      <th>product_code</th>\n      <th>prod_name</th>\n      <th>...</th>\n      <th>section_name</th>\n      <th>garment_group_no</th>\n      <th>garment_group_name</th>\n      <th>detail_desc</th>\n      <th>FN</th>\n      <th>Active</th>\n      <th>club_member_status</th>\n      <th>fashion_news_frequency</th>\n      <th>age</th>\n      <th>postal_code</th>\n    </tr>\n  </thead>\n  <tbody>\n    <tr>\n      <th>124800519</th>\n      <td>2020-04-10</td>\n      <td>4245900472157</td>\n      <td>924243001</td>\n      <td>0.041535</td>\n      <td>2</td>\n      <td>105</td>\n      <td>0.0</td>\n      <td>1.0</td>\n      <td>924243</td>\n      <td>19190</td>\n      <td>...</td>\n      <td>0</td>\n      <td>1003</td>\n      <td>3</td>\n      <td>13007</td>\n      <td>-1</td>\n      <td>-1</td>\n      <td>0</td>\n      <td>0</td>\n      <td>21</td>\n      <td>64922</td>\n    </tr>\n    <tr>\n      <th>124800520</th>\n      <td>2020-04-10</td>\n      <td>4245900472157</td>\n      <td>924243002</td>\n      <td>0.041877</td>\n      <td>2</td>\n      <td>105</td>\n      <td>0.0</td>\n      <td>2.0</td>\n      <td>924243</td>\n      <td>19190</td>\n      <td>...</td>\n      <td>0</td>\n      <td>1003</td>\n      <td>3</td>\n      <td>13007</td>\n      <td>-1</td>\n      <td>-1</td>\n      <td>0</td>\n      <td>0</td>\n      <td>21</td>\n      <td>64922</td>\n    </tr>\n    <tr>\n      <th>124800521</th>\n      <td>2020-04-10</td>\n      <td>4245900472157</td>\n      <td>918522001</td>\n      <td>0.041435</td>\n      <td>2</td>\n      <td>105</td>\n      <td>0.0</td>\n      <td>3.0</td>\n      <td>918522</td>\n      <td>26372</td>\n      <td>...</td>\n      <td>0</td>\n      <td>1003</td>\n      <td>3</td>\n      <td>28633</td>\n      <td>-1</td>\n      <td>-1</td>\n      <td>0</td>\n      <td>0</td>\n      <td>21</td>\n      <td>64922</td>\n    </tr>\n    <tr>\n      <th>124800522</th>\n      <td>2020-04-10</td>\n      <td>4245900472157</td>\n      <td>923758001</td>\n      <td>0.033462</td>\n      <td>2</td>\n      <td>105</td>\n      <td>0.0</td>\n      <td>4.0</td>\n      <td>923758</td>\n      <td>19359</td>\n      <td>...</td>\n      <td>0</td>\n      <td>1010</td>\n      <td>6</td>\n      <td>27869</td>\n      <td>-1</td>\n      <td>-1</td>\n      <td>0</td>\n      <td>0</td>\n      <td>21</td>\n      <td>64922</td>\n    </tr>\n    <tr>\n      <th>124800523</th>\n      <td>2020-04-10</td>\n      <td>4245900472157</td>\n      <td>866731001</td>\n      <td>0.025015</td>\n      <td>2</td>\n      <td>105</td>\n      <td>0.0</td>\n      <td>5.0</td>\n      <td>866731</td>\n      <td>3609</td>\n      <td>...</td>\n      <td>21</td>\n      <td>1005</td>\n      <td>0</td>\n      <td>3130</td>\n      <td>-1</td>\n      <td>-1</td>\n      <td>0</td>\n      <td>0</td>\n      <td>21</td>\n      <td>64922</td>\n    </tr>\n    <tr>\n      <th>...</th>\n      <td>...</td>\n      <td>...</td>\n      <td>...</td>\n      <td>...</td>\n      <td>...</td>\n      <td>...</td>\n      <td>...</td>\n      <td>...</td>\n      <td>...</td>\n      <td>...</td>\n      <td>...</td>\n      <td>...</td>\n      <td>...</td>\n      <td>...</td>\n      <td>...</td>\n      <td>...</td>\n      <td>...</td>\n      <td>...</td>\n      <td>...</td>\n      <td>...</td>\n      <td>...</td>\n    </tr>\n    <tr>\n      <th>142509656</th>\n      <td>2018-09-29</td>\n      <td>18446737527580148316</td>\n      <td>915529003</td>\n      <td>0.033439</td>\n      <td>1</td>\n      <td>105</td>\n      <td>0.0</td>\n      <td>8.0</td>\n      <td>915529</td>\n      <td>7046</td>\n      <td>...</td>\n      <td>0</td>\n      <td>1003</td>\n      <td>3</td>\n      <td>10909</td>\n      <td>1</td>\n      <td>1</td>\n      <td>0</td>\n      <td>1</td>\n      <td>60</td>\n      <td>96323</td>\n    </tr>\n    <tr>\n      <th>142509657</th>\n      <td>2018-09-29</td>\n      <td>18446737527580148316</td>\n      <td>915529005</td>\n      <td>0.033417</td>\n      <td>1</td>\n      <td>105</td>\n      <td>0.0</td>\n      <td>9.0</td>\n      <td>915529</td>\n      <td>7046</td>\n      <td>...</td>\n      <td>0</td>\n      <td>1003</td>\n      <td>3</td>\n      <td>10909</td>\n      <td>1</td>\n      <td>1</td>\n      <td>0</td>\n      <td>1</td>\n      <td>60</td>\n      <td>96323</td>\n    </tr>\n    <tr>\n      <th>142509658</th>\n      <td>2018-09-29</td>\n      <td>18446737527580148316</td>\n      <td>448509014</td>\n      <td>0.041630</td>\n      <td>1</td>\n      <td>105</td>\n      <td>0.0</td>\n      <td>10.0</td>\n      <td>448509</td>\n      <td>259</td>\n      <td>...</td>\n      <td>1</td>\n      <td>1009</td>\n      <td>5</td>\n      <td>255</td>\n      <td>1</td>\n      <td>1</td>\n      <td>0</td>\n      <td>1</td>\n      <td>60</td>\n      <td>96323</td>\n    </tr>\n    <tr>\n      <th>142509659</th>\n      <td>2018-09-29</td>\n      <td>18446737527580148316</td>\n      <td>762846027</td>\n      <td>0.025005</td>\n      <td>1</td>\n      <td>105</td>\n      <td>0.0</td>\n      <td>11.0</td>\n      <td>762846</td>\n      <td>472</td>\n      <td>...</td>\n      <td>7</td>\n      <td>1010</td>\n      <td>6</td>\n      <td>492</td>\n      <td>1</td>\n      <td>1</td>\n      <td>0</td>\n      <td>1</td>\n      <td>60</td>\n      <td>96323</td>\n    </tr>\n    <tr>\n      <th>142509660</th>\n      <td>2018-09-29</td>\n      <td>18446737527580148316</td>\n      <td>714790020</td>\n      <td>0.049951</td>\n      <td>1</td>\n      <td>105</td>\n      <td>0.0</td>\n      <td>12.0</td>\n      <td>714790</td>\n      <td>4354</td>\n      <td>...</td>\n      <td>37</td>\n      <td>1016</td>\n      <td>11</td>\n      <td>856</td>\n      <td>1</td>\n      <td>1</td>\n      <td>0</td>\n      <td>1</td>\n      <td>60</td>\n      <td>96323</td>\n    </tr>\n  </tbody>\n</table>\n<p>17709142 rows × 38 columns</p>\n</div>"
     },
     "execution_count": 144,
     "metadata": {},
     "output_type": "execute_result"
    }
   ],
   "source": [
    "test"
   ],
   "metadata": {
    "collapsed": false,
    "ExecuteTime": {
     "end_time": "2023-12-18T00:53:56.292265Z",
     "start_time": "2023-12-18T00:53:55.052807100Z"
    }
   },
   "id": "47ce2142709fb910"
  },
  {
   "cell_type": "code",
   "source": [
    "train_baskets = train.groupby(['week', 'customer_id'])['article_id'].count().values"
   ],
   "metadata": {
    "papermill": {
     "duration": 1.036818,
     "end_time": "2022-04-16T17:00:25.556300",
     "exception": false,
     "start_time": "2022-04-16T17:00:24.519482",
     "status": "completed"
    },
    "tags": [],
    "execution": {
     "iopub.status.busy": "2023-10-11T08:04:05.049936Z",
     "iopub.execute_input": "2023-10-11T08:04:05.050282Z",
     "iopub.status.idle": "2023-10-11T08:04:05.826591Z",
     "shell.execute_reply.started": "2023-10-11T08:04:05.050248Z",
     "shell.execute_reply": "2023-10-11T08:04:05.825128Z"
    },
    "trusted": true,
    "ExecuteTime": {
     "end_time": "2023-12-18T00:54:00.925601200Z",
     "start_time": "2023-12-18T00:53:56.294771600Z"
    }
   },
   "execution_count": 145,
   "outputs": [],
   "id": "ba7d814dbd464026"
  },
  {
   "cell_type": "code",
   "execution_count": 146,
   "outputs": [
    {
     "data": {
      "text/plain": "array([18, 13, 17, ..., 14, 19, 16], dtype=int64)"
     },
     "execution_count": 146,
     "metadata": {},
     "output_type": "execute_result"
    }
   ],
   "source": [
    "train_baskets"
   ],
   "metadata": {
    "collapsed": false,
    "ExecuteTime": {
     "end_time": "2023-12-18T00:54:00.937698400Z",
     "start_time": "2023-12-18T00:54:00.928472200Z"
    }
   },
   "id": "d0a803dd40f2a38b"
  },
  {
   "cell_type": "code",
   "source": [
    "extra_columns = []\n",
    "columns_to_use = ['article_id', 'product_type_no', 'graphical_appearance_no', 'colour_group_code', 'perceived_colour_value_id',\n",
    "'perceived_colour_master_id', 'department_no', 'index_code',\n",
    "'index_group_no', 'section_no', 'garment_group_no', 'FN', 'Active',\n",
    "'club_member_status', 'fashion_news_frequency', 'age', 'postal_code', 'bestseller_rank']\n",
    "columns_to_use.extend(extra_columns)"
   ],
   "metadata": {
    "papermill": {
     "duration": 0.070485,
     "end_time": "2022-04-16T17:00:25.687322",
     "exception": false,
     "start_time": "2022-04-16T17:00:25.616837",
     "status": "completed"
    },
    "tags": [],
    "execution": {
     "iopub.status.busy": "2023-10-11T08:04:05.828276Z",
     "iopub.execute_input": "2023-10-11T08:04:05.828819Z",
     "iopub.status.idle": "2023-10-11T08:04:05.834579Z",
     "shell.execute_reply.started": "2023-10-11T08:04:05.828659Z",
     "shell.execute_reply": "2023-10-11T08:04:05.833394Z"
    },
    "trusted": true,
    "ExecuteTime": {
     "end_time": "2023-12-18T00:54:00.938698100Z",
     "start_time": "2023-12-18T00:54:00.933481300Z"
    }
   },
   "execution_count": 147,
   "outputs": [],
   "id": "a24741570390faec"
  },
  {
   "cell_type": "code",
   "source": [
    "train_X = train[columns_to_use]\n",
    "train_y = train['purchased']\n",
    "\n",
    "test_X = test[columns_to_use]"
   ],
   "metadata": {
    "papermill": {
     "duration": 0.633318,
     "end_time": "2022-04-16T17:00:26.379109",
     "exception": false,
     "start_time": "2022-04-16T17:00:25.745791",
     "status": "completed"
    },
    "tags": [],
    "execution": {
     "iopub.status.busy": "2023-10-11T08:04:05.835768Z",
     "iopub.execute_input": "2023-10-11T08:04:05.836432Z",
     "iopub.status.idle": "2023-10-11T08:04:06.660128Z",
     "shell.execute_reply.started": "2023-10-11T08:04:05.836399Z",
     "shell.execute_reply": "2023-10-11T08:04:06.658324Z"
    },
    "trusted": true,
    "ExecuteTime": {
     "end_time": "2023-12-18T00:54:03.036118Z",
     "start_time": "2023-12-18T00:54:00.937198300Z"
    }
   },
   "execution_count": 148,
   "outputs": [],
   "id": "84918c306f6c2fbf"
  },
  {
   "cell_type": "code",
   "source": [
    "test_X"
   ],
   "metadata": {
    "execution": {
     "iopub.status.busy": "2023-10-11T08:04:06.661241Z",
     "iopub.status.idle": "2023-10-11T08:04:06.661650Z",
     "shell.execute_reply.started": "2023-10-11T08:04:06.661472Z",
     "shell.execute_reply": "2023-10-11T08:04:06.661490Z"
    },
    "trusted": true,
    "ExecuteTime": {
     "end_time": "2023-12-18T00:54:03.047623500Z",
     "start_time": "2023-12-18T00:54:03.037118400Z"
    }
   },
   "execution_count": 149,
   "outputs": [
    {
     "data": {
      "text/plain": "           article_id  product_type_no  graphical_appearance_no  \\\n124800519   924243001              252                  1010016   \n124800520   924243002              252                  1010016   \n124800521   918522001              252                  1010016   \n124800522   923758001               -1                  1010016   \n124800523   866731001              273                  1010016   \n...               ...              ...                      ...   \n142509656   915529003              252                  1010016   \n142509657   915529005              252                  1010016   \n142509658   448509014              272                  1010016   \n142509659   762846027              259                  1010016   \n142509660   714790020              272                  1010023   \n\n           colour_group_code  perceived_colour_value_id  \\\n124800519                 13                          1   \n124800520                  9                          4   \n124800521                 11                          3   \n124800522                 10                          3   \n124800523                  9                          4   \n...                      ...                        ...   \n142509656                  9                          4   \n142509657                 13                          1   \n142509658                 72                          3   \n142509659                 13                          1   \n142509660                 72                          2   \n\n           perceived_colour_master_id  department_no  index_code  \\\n124800519                           1           1626           0   \n124800520                           5           1626           0   \n124800521                           9           1626           0   \n124800522                           9           1522           0   \n124800523                           5           8310           9   \n...                               ...            ...         ...   \n142509656                           5           1626           0   \n142509657                           1           1626           0   \n142509658                           2           1747           1   \n142509659                           1           1515           0   \n142509660                           2           1772           1   \n\n           index_group_no  section_no  garment_group_no  FN  Active  \\\n124800519               1          15              1003  -1      -1   \n124800520               1          15              1003  -1      -1   \n124800521               1          15              1003  -1      -1   \n124800522               1          15              1010  -1      -1   \n124800523              26           5              1005  -1      -1   \n...                   ...         ...               ...  ..     ...   \n142509656               1          15              1003   1       1   \n142509657               1          15              1003   1       1   \n142509658               2          53              1009   1       1   \n142509659               1          11              1010   1       1   \n142509660               2          57              1016   1       1   \n\n           club_member_status  fashion_news_frequency  age  postal_code  \\\n124800519                   0                       0   21        64922   \n124800520                   0                       0   21        64922   \n124800521                   0                       0   21        64922   \n124800522                   0                       0   21        64922   \n124800523                   0                       0   21        64922   \n...                       ...                     ...  ...          ...   \n142509656                   0                       1   60        96323   \n142509657                   0                       1   60        96323   \n142509658                   0                       1   60        96323   \n142509659                   0                       1   60        96323   \n142509660                   0                       1   60        96323   \n\n           bestseller_rank  \n124800519              1.0  \n124800520              2.0  \n124800521              3.0  \n124800522              4.0  \n124800523              5.0  \n...                    ...  \n142509656              8.0  \n142509657              9.0  \n142509658             10.0  \n142509659             11.0  \n142509660             12.0  \n\n[17709142 rows x 18 columns]",
      "text/html": "<div>\n<style scoped>\n    .dataframe tbody tr th:only-of-type {\n        vertical-align: middle;\n    }\n\n    .dataframe tbody tr th {\n        vertical-align: top;\n    }\n\n    .dataframe thead th {\n        text-align: right;\n    }\n</style>\n<table border=\"1\" class=\"dataframe\">\n  <thead>\n    <tr style=\"text-align: right;\">\n      <th></th>\n      <th>article_id</th>\n      <th>product_type_no</th>\n      <th>graphical_appearance_no</th>\n      <th>colour_group_code</th>\n      <th>perceived_colour_value_id</th>\n      <th>perceived_colour_master_id</th>\n      <th>department_no</th>\n      <th>index_code</th>\n      <th>index_group_no</th>\n      <th>section_no</th>\n      <th>garment_group_no</th>\n      <th>FN</th>\n      <th>Active</th>\n      <th>club_member_status</th>\n      <th>fashion_news_frequency</th>\n      <th>age</th>\n      <th>postal_code</th>\n      <th>bestseller_rank</th>\n    </tr>\n  </thead>\n  <tbody>\n    <tr>\n      <th>124800519</th>\n      <td>924243001</td>\n      <td>252</td>\n      <td>1010016</td>\n      <td>13</td>\n      <td>1</td>\n      <td>1</td>\n      <td>1626</td>\n      <td>0</td>\n      <td>1</td>\n      <td>15</td>\n      <td>1003</td>\n      <td>-1</td>\n      <td>-1</td>\n      <td>0</td>\n      <td>0</td>\n      <td>21</td>\n      <td>64922</td>\n      <td>1.0</td>\n    </tr>\n    <tr>\n      <th>124800520</th>\n      <td>924243002</td>\n      <td>252</td>\n      <td>1010016</td>\n      <td>9</td>\n      <td>4</td>\n      <td>5</td>\n      <td>1626</td>\n      <td>0</td>\n      <td>1</td>\n      <td>15</td>\n      <td>1003</td>\n      <td>-1</td>\n      <td>-1</td>\n      <td>0</td>\n      <td>0</td>\n      <td>21</td>\n      <td>64922</td>\n      <td>2.0</td>\n    </tr>\n    <tr>\n      <th>124800521</th>\n      <td>918522001</td>\n      <td>252</td>\n      <td>1010016</td>\n      <td>11</td>\n      <td>3</td>\n      <td>9</td>\n      <td>1626</td>\n      <td>0</td>\n      <td>1</td>\n      <td>15</td>\n      <td>1003</td>\n      <td>-1</td>\n      <td>-1</td>\n      <td>0</td>\n      <td>0</td>\n      <td>21</td>\n      <td>64922</td>\n      <td>3.0</td>\n    </tr>\n    <tr>\n      <th>124800522</th>\n      <td>923758001</td>\n      <td>-1</td>\n      <td>1010016</td>\n      <td>10</td>\n      <td>3</td>\n      <td>9</td>\n      <td>1522</td>\n      <td>0</td>\n      <td>1</td>\n      <td>15</td>\n      <td>1010</td>\n      <td>-1</td>\n      <td>-1</td>\n      <td>0</td>\n      <td>0</td>\n      <td>21</td>\n      <td>64922</td>\n      <td>4.0</td>\n    </tr>\n    <tr>\n      <th>124800523</th>\n      <td>866731001</td>\n      <td>273</td>\n      <td>1010016</td>\n      <td>9</td>\n      <td>4</td>\n      <td>5</td>\n      <td>8310</td>\n      <td>9</td>\n      <td>26</td>\n      <td>5</td>\n      <td>1005</td>\n      <td>-1</td>\n      <td>-1</td>\n      <td>0</td>\n      <td>0</td>\n      <td>21</td>\n      <td>64922</td>\n      <td>5.0</td>\n    </tr>\n    <tr>\n      <th>...</th>\n      <td>...</td>\n      <td>...</td>\n      <td>...</td>\n      <td>...</td>\n      <td>...</td>\n      <td>...</td>\n      <td>...</td>\n      <td>...</td>\n      <td>...</td>\n      <td>...</td>\n      <td>...</td>\n      <td>...</td>\n      <td>...</td>\n      <td>...</td>\n      <td>...</td>\n      <td>...</td>\n      <td>...</td>\n      <td>...</td>\n    </tr>\n    <tr>\n      <th>142509656</th>\n      <td>915529003</td>\n      <td>252</td>\n      <td>1010016</td>\n      <td>9</td>\n      <td>4</td>\n      <td>5</td>\n      <td>1626</td>\n      <td>0</td>\n      <td>1</td>\n      <td>15</td>\n      <td>1003</td>\n      <td>1</td>\n      <td>1</td>\n      <td>0</td>\n      <td>1</td>\n      <td>60</td>\n      <td>96323</td>\n      <td>8.0</td>\n    </tr>\n    <tr>\n      <th>142509657</th>\n      <td>915529005</td>\n      <td>252</td>\n      <td>1010016</td>\n      <td>13</td>\n      <td>1</td>\n      <td>1</td>\n      <td>1626</td>\n      <td>0</td>\n      <td>1</td>\n      <td>15</td>\n      <td>1003</td>\n      <td>1</td>\n      <td>1</td>\n      <td>0</td>\n      <td>1</td>\n      <td>60</td>\n      <td>96323</td>\n      <td>9.0</td>\n    </tr>\n    <tr>\n      <th>142509658</th>\n      <td>448509014</td>\n      <td>272</td>\n      <td>1010016</td>\n      <td>72</td>\n      <td>3</td>\n      <td>2</td>\n      <td>1747</td>\n      <td>1</td>\n      <td>2</td>\n      <td>53</td>\n      <td>1009</td>\n      <td>1</td>\n      <td>1</td>\n      <td>0</td>\n      <td>1</td>\n      <td>60</td>\n      <td>96323</td>\n      <td>10.0</td>\n    </tr>\n    <tr>\n      <th>142509659</th>\n      <td>762846027</td>\n      <td>259</td>\n      <td>1010016</td>\n      <td>13</td>\n      <td>1</td>\n      <td>1</td>\n      <td>1515</td>\n      <td>0</td>\n      <td>1</td>\n      <td>11</td>\n      <td>1010</td>\n      <td>1</td>\n      <td>1</td>\n      <td>0</td>\n      <td>1</td>\n      <td>60</td>\n      <td>96323</td>\n      <td>11.0</td>\n    </tr>\n    <tr>\n      <th>142509660</th>\n      <td>714790020</td>\n      <td>272</td>\n      <td>1010023</td>\n      <td>72</td>\n      <td>2</td>\n      <td>2</td>\n      <td>1772</td>\n      <td>1</td>\n      <td>2</td>\n      <td>57</td>\n      <td>1016</td>\n      <td>1</td>\n      <td>1</td>\n      <td>0</td>\n      <td>1</td>\n      <td>60</td>\n      <td>96323</td>\n      <td>12.0</td>\n    </tr>\n  </tbody>\n</table>\n<p>17709142 rows × 18 columns</p>\n</div>"
     },
     "execution_count": 149,
     "metadata": {},
     "output_type": "execute_result"
    }
   ],
   "id": "f3d93799760e2fad"
  },
  {
   "cell_type": "markdown",
   "source": [
    "# Model training"
   ],
   "metadata": {
    "papermill": {
     "duration": 0.09573,
     "end_time": "2022-04-16T17:00:26.563647",
     "exception": false,
     "start_time": "2022-04-16T17:00:26.467917",
     "status": "completed"
    },
    "tags": []
   },
   "id": "9b8dfb6049a2a3ff"
  },
  {
   "cell_type": "code",
   "source": [
    "from lightgbm.sklearn import LGBMRanker\n",
    "ranker = LGBMRanker(\n",
    "    objective=\"lambdarank\",\n",
    "    metric=\"ndcg\",\n",
    "    boosting_type=\"dart\",\n",
    "    n_estimators=1,\n",
    "    importance_type='gain',\n",
    "    verbose=10\n",
    ")\n",
    "ranker = ranker.fit(\n",
    "    train_X,\n",
    "    train_y,\n",
    "    group=train_baskets,\n",
    ")"
   ],
   "metadata": {
    "papermill": {
     "duration": 11.066279,
     "end_time": "2022-04-16T17:00:39.301931",
     "exception": false,
     "start_time": "2022-04-16T17:00:28.235652",
     "status": "completed"
    },
    "tags": [],
    "execution": {
     "iopub.status.busy": "2023-10-11T08:04:06.672341Z",
     "iopub.status.idle": "2023-10-11T08:04:06.673322Z",
     "shell.execute_reply.started": "2023-10-11T08:04:06.672987Z",
     "shell.execute_reply": "2023-10-11T08:04:06.673007Z"
    },
    "trusted": true,
    "ExecuteTime": {
     "end_time": "2023-12-18T00:54:14.351108700Z",
     "start_time": "2023-12-18T00:54:03.047623500Z"
    }
   },
   "execution_count": 150,
   "outputs": [
    {
     "ename": "MemoryError",
     "evalue": "Unable to allocate 16.7 GiB for an array with shape (124800519, 18) and data type float64",
     "output_type": "error",
     "traceback": [
      "\u001B[1;31m---------------------------------------------------------------------------\u001B[0m",
      "\u001B[1;31mMemoryError\u001B[0m                               Traceback (most recent call last)",
      "Cell \u001B[1;32mIn[150], line 10\u001B[0m\n\u001B[0;32m      1\u001B[0m \u001B[38;5;28;01mfrom\u001B[39;00m \u001B[38;5;21;01mlightgbm\u001B[39;00m\u001B[38;5;21;01m.\u001B[39;00m\u001B[38;5;21;01msklearn\u001B[39;00m \u001B[38;5;28;01mimport\u001B[39;00m LGBMRanker\n\u001B[0;32m      2\u001B[0m ranker \u001B[38;5;241m=\u001B[39m LGBMRanker(\n\u001B[0;32m      3\u001B[0m     objective\u001B[38;5;241m=\u001B[39m\u001B[38;5;124m\"\u001B[39m\u001B[38;5;124mlambdarank\u001B[39m\u001B[38;5;124m\"\u001B[39m,\n\u001B[0;32m      4\u001B[0m     metric\u001B[38;5;241m=\u001B[39m\u001B[38;5;124m\"\u001B[39m\u001B[38;5;124mndcg\u001B[39m\u001B[38;5;124m\"\u001B[39m,\n\u001B[1;32m   (...)\u001B[0m\n\u001B[0;32m      8\u001B[0m     verbose\u001B[38;5;241m=\u001B[39m\u001B[38;5;241m10\u001B[39m\n\u001B[0;32m      9\u001B[0m )\n\u001B[1;32m---> 10\u001B[0m ranker \u001B[38;5;241m=\u001B[39m \u001B[43mranker\u001B[49m\u001B[38;5;241;43m.\u001B[39;49m\u001B[43mfit\u001B[49m\u001B[43m(\u001B[49m\n\u001B[0;32m     11\u001B[0m \u001B[43m    \u001B[49m\u001B[43mtrain_X\u001B[49m\u001B[43m,\u001B[49m\n\u001B[0;32m     12\u001B[0m \u001B[43m    \u001B[49m\u001B[43mtrain_y\u001B[49m\u001B[43m,\u001B[49m\n\u001B[0;32m     13\u001B[0m \u001B[43m    \u001B[49m\u001B[43mgroup\u001B[49m\u001B[38;5;241;43m=\u001B[39;49m\u001B[43mtrain_baskets\u001B[49m\u001B[43m,\u001B[49m\n\u001B[0;32m     14\u001B[0m \u001B[43m)\u001B[49m\n",
      "File \u001B[1;32m~\\PycharmProjects\\ai-project-23-24\\venv\\Lib\\site-packages\\lightgbm\\sklearn.py:1299\u001B[0m, in \u001B[0;36mLGBMRanker.fit\u001B[1;34m(self, X, y, sample_weight, init_score, group, eval_set, eval_names, eval_sample_weight, eval_init_score, eval_group, eval_metric, eval_at, feature_name, categorical_feature, callbacks, init_model)\u001B[0m\n\u001B[0;32m   1295\u001B[0m         \u001B[38;5;28;01mraise\u001B[39;00m \u001B[38;5;167;01mValueError\u001B[39;00m(\u001B[38;5;124m\"\u001B[39m\u001B[38;5;124mShould set group for all eval datasets for ranking task; \u001B[39m\u001B[38;5;124m\"\u001B[39m\n\u001B[0;32m   1296\u001B[0m                          \u001B[38;5;124m\"\u001B[39m\u001B[38;5;124mif you use dict, the index should start from 0\u001B[39m\u001B[38;5;124m\"\u001B[39m)\n\u001B[0;32m   1298\u001B[0m \u001B[38;5;28mself\u001B[39m\u001B[38;5;241m.\u001B[39m_eval_at \u001B[38;5;241m=\u001B[39m eval_at\n\u001B[1;32m-> 1299\u001B[0m \u001B[38;5;28;43msuper\u001B[39;49m\u001B[43m(\u001B[49m\u001B[43m)\u001B[49m\u001B[38;5;241;43m.\u001B[39;49m\u001B[43mfit\u001B[49m\u001B[43m(\u001B[49m\n\u001B[0;32m   1300\u001B[0m \u001B[43m    \u001B[49m\u001B[43mX\u001B[49m\u001B[43m,\u001B[49m\n\u001B[0;32m   1301\u001B[0m \u001B[43m    \u001B[49m\u001B[43my\u001B[49m\u001B[43m,\u001B[49m\n\u001B[0;32m   1302\u001B[0m \u001B[43m    \u001B[49m\u001B[43msample_weight\u001B[49m\u001B[38;5;241;43m=\u001B[39;49m\u001B[43msample_weight\u001B[49m\u001B[43m,\u001B[49m\n\u001B[0;32m   1303\u001B[0m \u001B[43m    \u001B[49m\u001B[43minit_score\u001B[49m\u001B[38;5;241;43m=\u001B[39;49m\u001B[43minit_score\u001B[49m\u001B[43m,\u001B[49m\n\u001B[0;32m   1304\u001B[0m \u001B[43m    \u001B[49m\u001B[43mgroup\u001B[49m\u001B[38;5;241;43m=\u001B[39;49m\u001B[43mgroup\u001B[49m\u001B[43m,\u001B[49m\n\u001B[0;32m   1305\u001B[0m \u001B[43m    \u001B[49m\u001B[43meval_set\u001B[49m\u001B[38;5;241;43m=\u001B[39;49m\u001B[43meval_set\u001B[49m\u001B[43m,\u001B[49m\n\u001B[0;32m   1306\u001B[0m \u001B[43m    \u001B[49m\u001B[43meval_names\u001B[49m\u001B[38;5;241;43m=\u001B[39;49m\u001B[43meval_names\u001B[49m\u001B[43m,\u001B[49m\n\u001B[0;32m   1307\u001B[0m \u001B[43m    \u001B[49m\u001B[43meval_sample_weight\u001B[49m\u001B[38;5;241;43m=\u001B[39;49m\u001B[43meval_sample_weight\u001B[49m\u001B[43m,\u001B[49m\n\u001B[0;32m   1308\u001B[0m \u001B[43m    \u001B[49m\u001B[43meval_init_score\u001B[49m\u001B[38;5;241;43m=\u001B[39;49m\u001B[43meval_init_score\u001B[49m\u001B[43m,\u001B[49m\n\u001B[0;32m   1309\u001B[0m \u001B[43m    \u001B[49m\u001B[43meval_group\u001B[49m\u001B[38;5;241;43m=\u001B[39;49m\u001B[43meval_group\u001B[49m\u001B[43m,\u001B[49m\n\u001B[0;32m   1310\u001B[0m \u001B[43m    \u001B[49m\u001B[43meval_metric\u001B[49m\u001B[38;5;241;43m=\u001B[39;49m\u001B[43meval_metric\u001B[49m\u001B[43m,\u001B[49m\n\u001B[0;32m   1311\u001B[0m \u001B[43m    \u001B[49m\u001B[43mfeature_name\u001B[49m\u001B[38;5;241;43m=\u001B[39;49m\u001B[43mfeature_name\u001B[49m\u001B[43m,\u001B[49m\n\u001B[0;32m   1312\u001B[0m \u001B[43m    \u001B[49m\u001B[43mcategorical_feature\u001B[49m\u001B[38;5;241;43m=\u001B[39;49m\u001B[43mcategorical_feature\u001B[49m\u001B[43m,\u001B[49m\n\u001B[0;32m   1313\u001B[0m \u001B[43m    \u001B[49m\u001B[43mcallbacks\u001B[49m\u001B[38;5;241;43m=\u001B[39;49m\u001B[43mcallbacks\u001B[49m\u001B[43m,\u001B[49m\n\u001B[0;32m   1314\u001B[0m \u001B[43m    \u001B[49m\u001B[43minit_model\u001B[49m\u001B[38;5;241;43m=\u001B[39;49m\u001B[43minit_model\u001B[49m\n\u001B[0;32m   1315\u001B[0m \u001B[43m\u001B[49m\u001B[43m)\u001B[49m\n\u001B[0;32m   1316\u001B[0m \u001B[38;5;28;01mreturn\u001B[39;00m \u001B[38;5;28mself\u001B[39m\n",
      "File \u001B[1;32m~\\PycharmProjects\\ai-project-23-24\\venv\\Lib\\site-packages\\lightgbm\\sklearn.py:842\u001B[0m, in \u001B[0;36mLGBMModel.fit\u001B[1;34m(self, X, y, sample_weight, init_score, group, eval_set, eval_names, eval_sample_weight, eval_class_weight, eval_init_score, eval_group, eval_metric, feature_name, categorical_feature, callbacks, init_model)\u001B[0m\n\u001B[0;32m    839\u001B[0m evals_result: _EvalResultDict \u001B[38;5;241m=\u001B[39m {}\n\u001B[0;32m    840\u001B[0m callbacks\u001B[38;5;241m.\u001B[39mappend(record_evaluation(evals_result))\n\u001B[1;32m--> 842\u001B[0m \u001B[38;5;28mself\u001B[39m\u001B[38;5;241m.\u001B[39m_Booster \u001B[38;5;241m=\u001B[39m \u001B[43mtrain\u001B[49m\u001B[43m(\u001B[49m\n\u001B[0;32m    843\u001B[0m \u001B[43m    \u001B[49m\u001B[43mparams\u001B[49m\u001B[38;5;241;43m=\u001B[39;49m\u001B[43mparams\u001B[49m\u001B[43m,\u001B[49m\n\u001B[0;32m    844\u001B[0m \u001B[43m    \u001B[49m\u001B[43mtrain_set\u001B[49m\u001B[38;5;241;43m=\u001B[39;49m\u001B[43mtrain_set\u001B[49m\u001B[43m,\u001B[49m\n\u001B[0;32m    845\u001B[0m \u001B[43m    \u001B[49m\u001B[43mnum_boost_round\u001B[49m\u001B[38;5;241;43m=\u001B[39;49m\u001B[38;5;28;43mself\u001B[39;49m\u001B[38;5;241;43m.\u001B[39;49m\u001B[43mn_estimators\u001B[49m\u001B[43m,\u001B[49m\n\u001B[0;32m    846\u001B[0m \u001B[43m    \u001B[49m\u001B[43mvalid_sets\u001B[49m\u001B[38;5;241;43m=\u001B[39;49m\u001B[43mvalid_sets\u001B[49m\u001B[43m,\u001B[49m\n\u001B[0;32m    847\u001B[0m \u001B[43m    \u001B[49m\u001B[43mvalid_names\u001B[49m\u001B[38;5;241;43m=\u001B[39;49m\u001B[43meval_names\u001B[49m\u001B[43m,\u001B[49m\n\u001B[0;32m    848\u001B[0m \u001B[43m    \u001B[49m\u001B[43mfeval\u001B[49m\u001B[38;5;241;43m=\u001B[39;49m\u001B[43meval_metrics_callable\u001B[49m\u001B[43m,\u001B[49m\u001B[43m  \u001B[49m\u001B[38;5;66;43;03m# type: ignore[arg-type]\u001B[39;49;00m\n\u001B[0;32m    849\u001B[0m \u001B[43m    \u001B[49m\u001B[43minit_model\u001B[49m\u001B[38;5;241;43m=\u001B[39;49m\u001B[43minit_model\u001B[49m\u001B[43m,\u001B[49m\n\u001B[0;32m    850\u001B[0m \u001B[43m    \u001B[49m\u001B[43mfeature_name\u001B[49m\u001B[38;5;241;43m=\u001B[39;49m\u001B[43mfeature_name\u001B[49m\u001B[43m,\u001B[49m\n\u001B[0;32m    851\u001B[0m \u001B[43m    \u001B[49m\u001B[43mcallbacks\u001B[49m\u001B[38;5;241;43m=\u001B[39;49m\u001B[43mcallbacks\u001B[49m\n\u001B[0;32m    852\u001B[0m \u001B[43m\u001B[49m\u001B[43m)\u001B[49m\n\u001B[0;32m    854\u001B[0m \u001B[38;5;28mself\u001B[39m\u001B[38;5;241m.\u001B[39m_evals_result \u001B[38;5;241m=\u001B[39m evals_result\n\u001B[0;32m    855\u001B[0m \u001B[38;5;28mself\u001B[39m\u001B[38;5;241m.\u001B[39m_best_iteration \u001B[38;5;241m=\u001B[39m \u001B[38;5;28mself\u001B[39m\u001B[38;5;241m.\u001B[39m_Booster\u001B[38;5;241m.\u001B[39mbest_iteration\n",
      "File \u001B[1;32m~\\PycharmProjects\\ai-project-23-24\\venv\\Lib\\site-packages\\lightgbm\\engine.py:255\u001B[0m, in \u001B[0;36mtrain\u001B[1;34m(params, train_set, num_boost_round, valid_sets, valid_names, feval, init_model, feature_name, categorical_feature, keep_training_booster, callbacks)\u001B[0m\n\u001B[0;32m    253\u001B[0m \u001B[38;5;66;03m# construct booster\u001B[39;00m\n\u001B[0;32m    254\u001B[0m \u001B[38;5;28;01mtry\u001B[39;00m:\n\u001B[1;32m--> 255\u001B[0m     booster \u001B[38;5;241m=\u001B[39m \u001B[43mBooster\u001B[49m\u001B[43m(\u001B[49m\u001B[43mparams\u001B[49m\u001B[38;5;241;43m=\u001B[39;49m\u001B[43mparams\u001B[49m\u001B[43m,\u001B[49m\u001B[43m \u001B[49m\u001B[43mtrain_set\u001B[49m\u001B[38;5;241;43m=\u001B[39;49m\u001B[43mtrain_set\u001B[49m\u001B[43m)\u001B[49m\n\u001B[0;32m    256\u001B[0m     \u001B[38;5;28;01mif\u001B[39;00m is_valid_contain_train:\n\u001B[0;32m    257\u001B[0m         booster\u001B[38;5;241m.\u001B[39mset_train_data_name(train_data_name)\n",
      "File \u001B[1;32m~\\PycharmProjects\\ai-project-23-24\\venv\\Lib\\site-packages\\lightgbm\\basic.py:3200\u001B[0m, in \u001B[0;36mBooster.__init__\u001B[1;34m(self, params, train_set, model_file, model_str)\u001B[0m\n\u001B[0;32m   3193\u001B[0m     \u001B[38;5;28mself\u001B[39m\u001B[38;5;241m.\u001B[39mset_network(\n\u001B[0;32m   3194\u001B[0m         machines\u001B[38;5;241m=\u001B[39mmachines,\n\u001B[0;32m   3195\u001B[0m         local_listen_port\u001B[38;5;241m=\u001B[39mparams[\u001B[38;5;124m\"\u001B[39m\u001B[38;5;124mlocal_listen_port\u001B[39m\u001B[38;5;124m\"\u001B[39m],\n\u001B[0;32m   3196\u001B[0m         listen_time_out\u001B[38;5;241m=\u001B[39mparams\u001B[38;5;241m.\u001B[39mget(\u001B[38;5;124m\"\u001B[39m\u001B[38;5;124mtime_out\u001B[39m\u001B[38;5;124m\"\u001B[39m, \u001B[38;5;241m120\u001B[39m),\n\u001B[0;32m   3197\u001B[0m         num_machines\u001B[38;5;241m=\u001B[39mparams[\u001B[38;5;124m\"\u001B[39m\u001B[38;5;124mnum_machines\u001B[39m\u001B[38;5;124m\"\u001B[39m]\n\u001B[0;32m   3198\u001B[0m     )\n\u001B[0;32m   3199\u001B[0m \u001B[38;5;66;03m# construct booster object\u001B[39;00m\n\u001B[1;32m-> 3200\u001B[0m \u001B[43mtrain_set\u001B[49m\u001B[38;5;241;43m.\u001B[39;49m\u001B[43mconstruct\u001B[49m\u001B[43m(\u001B[49m\u001B[43m)\u001B[49m\n\u001B[0;32m   3201\u001B[0m \u001B[38;5;66;03m# copy the parameters from train_set\u001B[39;00m\n\u001B[0;32m   3202\u001B[0m params\u001B[38;5;241m.\u001B[39mupdate(train_set\u001B[38;5;241m.\u001B[39mget_params())\n",
      "File \u001B[1;32m~\\PycharmProjects\\ai-project-23-24\\venv\\Lib\\site-packages\\lightgbm\\basic.py:2276\u001B[0m, in \u001B[0;36mDataset.construct\u001B[1;34m(self)\u001B[0m\n\u001B[0;32m   2269\u001B[0m             \u001B[38;5;28mself\u001B[39m\u001B[38;5;241m.\u001B[39m_set_init_score_by_predictor(\n\u001B[0;32m   2270\u001B[0m                 predictor\u001B[38;5;241m=\u001B[39m\u001B[38;5;28mself\u001B[39m\u001B[38;5;241m.\u001B[39m_predictor,\n\u001B[0;32m   2271\u001B[0m                 data\u001B[38;5;241m=\u001B[39m\u001B[38;5;28mself\u001B[39m\u001B[38;5;241m.\u001B[39mdata,\n\u001B[0;32m   2272\u001B[0m                 used_indices\u001B[38;5;241m=\u001B[39mused_indices\n\u001B[0;32m   2273\u001B[0m             )\n\u001B[0;32m   2274\u001B[0m \u001B[38;5;28;01melse\u001B[39;00m:\n\u001B[0;32m   2275\u001B[0m     \u001B[38;5;66;03m# create train\u001B[39;00m\n\u001B[1;32m-> 2276\u001B[0m     \u001B[38;5;28;43mself\u001B[39;49m\u001B[38;5;241;43m.\u001B[39;49m\u001B[43m_lazy_init\u001B[49m\u001B[43m(\u001B[49m\u001B[43mdata\u001B[49m\u001B[38;5;241;43m=\u001B[39;49m\u001B[38;5;28;43mself\u001B[39;49m\u001B[38;5;241;43m.\u001B[39;49m\u001B[43mdata\u001B[49m\u001B[43m,\u001B[49m\u001B[43m \u001B[49m\u001B[43mlabel\u001B[49m\u001B[38;5;241;43m=\u001B[39;49m\u001B[38;5;28;43mself\u001B[39;49m\u001B[38;5;241;43m.\u001B[39;49m\u001B[43mlabel\u001B[49m\u001B[43m,\u001B[49m\u001B[43m \u001B[49m\u001B[43mreference\u001B[49m\u001B[38;5;241;43m=\u001B[39;49m\u001B[38;5;28;43;01mNone\u001B[39;49;00m\u001B[43m,\u001B[49m\n\u001B[0;32m   2277\u001B[0m \u001B[43m                    \u001B[49m\u001B[43mweight\u001B[49m\u001B[38;5;241;43m=\u001B[39;49m\u001B[38;5;28;43mself\u001B[39;49m\u001B[38;5;241;43m.\u001B[39;49m\u001B[43mweight\u001B[49m\u001B[43m,\u001B[49m\u001B[43m \u001B[49m\u001B[43mgroup\u001B[49m\u001B[38;5;241;43m=\u001B[39;49m\u001B[38;5;28;43mself\u001B[39;49m\u001B[38;5;241;43m.\u001B[39;49m\u001B[43mgroup\u001B[49m\u001B[43m,\u001B[49m\n\u001B[0;32m   2278\u001B[0m \u001B[43m                    \u001B[49m\u001B[43minit_score\u001B[49m\u001B[38;5;241;43m=\u001B[39;49m\u001B[38;5;28;43mself\u001B[39;49m\u001B[38;5;241;43m.\u001B[39;49m\u001B[43minit_score\u001B[49m\u001B[43m,\u001B[49m\u001B[43m \u001B[49m\u001B[43mpredictor\u001B[49m\u001B[38;5;241;43m=\u001B[39;49m\u001B[38;5;28;43mself\u001B[39;49m\u001B[38;5;241;43m.\u001B[39;49m\u001B[43m_predictor\u001B[49m\u001B[43m,\u001B[49m\n\u001B[0;32m   2279\u001B[0m \u001B[43m                    \u001B[49m\u001B[43mfeature_name\u001B[49m\u001B[38;5;241;43m=\u001B[39;49m\u001B[38;5;28;43mself\u001B[39;49m\u001B[38;5;241;43m.\u001B[39;49m\u001B[43mfeature_name\u001B[49m\u001B[43m,\u001B[49m\u001B[43m \u001B[49m\u001B[43mcategorical_feature\u001B[49m\u001B[38;5;241;43m=\u001B[39;49m\u001B[38;5;28;43mself\u001B[39;49m\u001B[38;5;241;43m.\u001B[39;49m\u001B[43mcategorical_feature\u001B[49m\u001B[43m,\u001B[49m\n\u001B[0;32m   2280\u001B[0m \u001B[43m                    \u001B[49m\u001B[43mparams\u001B[49m\u001B[38;5;241;43m=\u001B[39;49m\u001B[38;5;28;43mself\u001B[39;49m\u001B[38;5;241;43m.\u001B[39;49m\u001B[43mparams\u001B[49m\u001B[43m,\u001B[49m\u001B[43m \u001B[49m\u001B[43mposition\u001B[49m\u001B[38;5;241;43m=\u001B[39;49m\u001B[38;5;28;43mself\u001B[39;49m\u001B[38;5;241;43m.\u001B[39;49m\u001B[43mposition\u001B[49m\u001B[43m)\u001B[49m\n\u001B[0;32m   2281\u001B[0m \u001B[38;5;28;01mif\u001B[39;00m \u001B[38;5;28mself\u001B[39m\u001B[38;5;241m.\u001B[39mfree_raw_data:\n\u001B[0;32m   2282\u001B[0m     \u001B[38;5;28mself\u001B[39m\u001B[38;5;241m.\u001B[39mdata \u001B[38;5;241m=\u001B[39m \u001B[38;5;28;01mNone\u001B[39;00m\n",
      "File \u001B[1;32m~\\PycharmProjects\\ai-project-23-24\\venv\\Lib\\site-packages\\lightgbm\\basic.py:1918\u001B[0m, in \u001B[0;36mDataset._lazy_init\u001B[1;34m(self, data, label, reference, weight, group, init_score, predictor, feature_name, categorical_feature, params, position)\u001B[0m\n\u001B[0;32m   1916\u001B[0m     \u001B[38;5;28mself\u001B[39m\u001B[38;5;241m.\u001B[39m__init_from_csc(data, params_str, ref_dataset)\n\u001B[0;32m   1917\u001B[0m \u001B[38;5;28;01melif\u001B[39;00m \u001B[38;5;28misinstance\u001B[39m(data, np\u001B[38;5;241m.\u001B[39mndarray):\n\u001B[1;32m-> 1918\u001B[0m     \u001B[38;5;28;43mself\u001B[39;49m\u001B[38;5;241;43m.\u001B[39;49m\u001B[43m__init_from_np2d\u001B[49m\u001B[43m(\u001B[49m\u001B[43mdata\u001B[49m\u001B[43m,\u001B[49m\u001B[43m \u001B[49m\u001B[43mparams_str\u001B[49m\u001B[43m,\u001B[49m\u001B[43m \u001B[49m\u001B[43mref_dataset\u001B[49m\u001B[43m)\u001B[49m\n\u001B[0;32m   1919\u001B[0m \u001B[38;5;28;01melif\u001B[39;00m \u001B[38;5;28misinstance\u001B[39m(data, \u001B[38;5;28mlist\u001B[39m) \u001B[38;5;129;01mand\u001B[39;00m \u001B[38;5;28mlen\u001B[39m(data) \u001B[38;5;241m>\u001B[39m \u001B[38;5;241m0\u001B[39m:\n\u001B[0;32m   1920\u001B[0m     \u001B[38;5;28;01mif\u001B[39;00m \u001B[38;5;28mall\u001B[39m(\u001B[38;5;28misinstance\u001B[39m(x, np\u001B[38;5;241m.\u001B[39mndarray) \u001B[38;5;28;01mfor\u001B[39;00m x \u001B[38;5;129;01min\u001B[39;00m data):\n",
      "File \u001B[1;32m~\\PycharmProjects\\ai-project-23-24\\venv\\Lib\\site-packages\\lightgbm\\basic.py:2049\u001B[0m, in \u001B[0;36mDataset.__init_from_np2d\u001B[1;34m(self, mat, params_str, ref_dataset)\u001B[0m\n\u001B[0;32m   2047\u001B[0m \u001B[38;5;28mself\u001B[39m\u001B[38;5;241m.\u001B[39m_handle \u001B[38;5;241m=\u001B[39m ctypes\u001B[38;5;241m.\u001B[39mc_void_p()\n\u001B[0;32m   2048\u001B[0m \u001B[38;5;28;01mif\u001B[39;00m mat\u001B[38;5;241m.\u001B[39mdtype \u001B[38;5;241m==\u001B[39m np\u001B[38;5;241m.\u001B[39mfloat32 \u001B[38;5;129;01mor\u001B[39;00m mat\u001B[38;5;241m.\u001B[39mdtype \u001B[38;5;241m==\u001B[39m np\u001B[38;5;241m.\u001B[39mfloat64:\n\u001B[1;32m-> 2049\u001B[0m     data \u001B[38;5;241m=\u001B[39m np\u001B[38;5;241m.\u001B[39marray(\u001B[43mmat\u001B[49m\u001B[38;5;241;43m.\u001B[39;49m\u001B[43mreshape\u001B[49m\u001B[43m(\u001B[49m\u001B[43mmat\u001B[49m\u001B[38;5;241;43m.\u001B[39;49m\u001B[43msize\u001B[49m\u001B[43m)\u001B[49m, dtype\u001B[38;5;241m=\u001B[39mmat\u001B[38;5;241m.\u001B[39mdtype, copy\u001B[38;5;241m=\u001B[39m\u001B[38;5;28;01mFalse\u001B[39;00m)\n\u001B[0;32m   2050\u001B[0m \u001B[38;5;28;01melse\u001B[39;00m:  \u001B[38;5;66;03m# change non-float data to float data, need to copy\u001B[39;00m\n\u001B[0;32m   2051\u001B[0m     data \u001B[38;5;241m=\u001B[39m np\u001B[38;5;241m.\u001B[39marray(mat\u001B[38;5;241m.\u001B[39mreshape(mat\u001B[38;5;241m.\u001B[39msize), dtype\u001B[38;5;241m=\u001B[39mnp\u001B[38;5;241m.\u001B[39mfloat32)\n",
      "\u001B[1;31mMemoryError\u001B[0m: Unable to allocate 16.7 GiB for an array with shape (124800519, 18) and data type float64"
     ]
    }
   ],
   "id": "d66a13b6aae7e71d"
  },
  {
   "cell_type": "code",
   "source": [
    "for i in ranker.feature_importances_.argsort()[::-1]:\n",
    "    print(columns_to_use[i], ranker.feature_importances_[i]/ranker.feature_importances_.sum())"
   ],
   "metadata": {
    "papermill": {
     "duration": 0.107527,
     "end_time": "2022-04-16T17:00:39.466759",
     "exception": false,
     "start_time": "2022-04-16T17:00:39.359232",
     "status": "completed"
    },
    "tags": [],
    "execution": {
     "iopub.status.busy": "2023-10-11T08:04:06.675105Z",
     "iopub.status.idle": "2023-10-11T08:04:06.675529Z",
     "shell.execute_reply.started": "2023-10-11T08:04:06.675343Z",
     "shell.execute_reply": "2023-10-11T08:04:06.675362Z"
    },
    "trusted": true,
    "ExecuteTime": {
     "start_time": "2023-12-18T00:54:14.344107800Z"
    }
   },
   "execution_count": null,
   "outputs": [],
   "id": "a03e9b47dc795f19"
  },
  {
   "cell_type": "markdown",
   "source": [
    "# Calculate predictions"
   ],
   "metadata": {
    "papermill": {
     "duration": 0.056904,
     "end_time": "2022-04-16T17:00:39.580889",
     "exception": false,
     "start_time": "2022-04-16T17:00:39.523985",
     "status": "completed"
    },
    "tags": []
   },
   "id": "5737da47a7d37c2e"
  },
  {
   "cell_type": "code",
   "source": [
    "test['preds'] = ranker.predict(test_X)\n",
    "\n",
    "c_id2predicted_article_ids = test \\\n",
    "    .sort_values(['customer_id', 'preds'], ascending=False) \\\n",
    "    .groupby('customer_id')['article_id'].apply(list).to_dict()\n",
    "\n",
    "bestsellers_last_week = \\\n",
    "    bestsellers_previous_week[bestsellers_previous_week.week == bestsellers_previous_week.week.max()]['article_id'].tolist()"
   ],
   "metadata": {
    "papermill": {
     "duration": 13.140874,
     "end_time": "2022-04-16T17:00:52.777866",
     "exception": false,
     "start_time": "2022-04-16T17:00:39.636992",
     "status": "completed"
    },
    "tags": [],
    "execution": {
     "iopub.status.busy": "2023-10-11T08:04:06.677139Z",
     "iopub.status.idle": "2023-10-11T08:04:06.677612Z",
     "shell.execute_reply.started": "2023-10-11T08:04:06.677364Z",
     "shell.execute_reply": "2023-10-11T08:04:06.677392Z"
    },
    "trusted": true,
    "ExecuteTime": {
     "start_time": "2023-12-18T00:54:14.345108800Z"
    }
   },
   "execution_count": null,
   "outputs": [],
   "id": "1de07c0536b68c90"
  },
  {
   "cell_type": "markdown",
   "source": [
    "# Create submission"
   ],
   "metadata": {
    "papermill": {
     "duration": 0.07093,
     "end_time": "2022-04-16T17:00:52.913143",
     "exception": false,
     "start_time": "2022-04-16T17:00:52.842213",
     "status": "completed"
    },
    "tags": []
   },
   "id": "ac204415266f1bc5"
  },
  {
   "cell_type": "code",
   "execution_count": null,
   "outputs": [],
   "source": [
    "sub = pd.read_csv('../input/sample_submission.csv')\n",
    "preds = []\n",
    "for c_id in customer_hex_id_to_int(sub.customer_id):\n",
    "    pred = c_id2predicted_article_ids.get(c_id, [])\n",
    "    pred = pred + bestsellers_last_week\n",
    "    preds.append(pred[:12])"
   ],
   "metadata": {
    "collapsed": false,
    "ExecuteTime": {
     "start_time": "2023-12-18T00:54:14.346608700Z"
    }
   },
   "id": "c73f580ff038f063"
  },
  {
   "cell_type": "code",
   "execution_count": null,
   "outputs": [],
   "source": [
    "from tqdm import tqdm\n",
    "positive_items_val = validation.groupby(['customer_id'])['article_id'].apply(list)\n",
    "# creating validation set for metrics use case\n",
    "val_users = positive_items_val.keys()\n",
    "val_items = []\n",
    "for i, user in tqdm(enumerate(val_users)):\n",
    "    val_items.append(positive_items_val[user])\n",
    "\n",
    "print(\"Total users in validation:\", len(val_users))\n",
    "print(\"mAP12 Score on Validation set:\", mapk(val_items, preds))\n",
    "print(\"recall Score on Validation set:\", recall12(val_items, preds))"
   ],
   "metadata": {
    "collapsed": false,
    "ExecuteTime": {
     "start_time": "2023-12-18T00:54:14.347110300Z"
    }
   },
   "id": "9491f661f185ae73"
  },
  {
   "cell_type": "code",
   "execution_count": null,
   "outputs": [],
   "source": [
    "preds = [' '.join(['0' + str(p) for p in ps]) for ps in preds]\n",
    "# sub.prediction = preds\n",
    "# sub_name = 'basic_model_submission'\n",
    "# sub.to_csv(f'{sub_name}.csv.gz', index=False)"
   ],
   "metadata": {
    "collapsed": false,
    "ExecuteTime": {
     "start_time": "2023-12-18T00:54:14.349108500Z"
    }
   },
   "id": "2e08c2ed7c3d7ab6"
  }
 ]
}
