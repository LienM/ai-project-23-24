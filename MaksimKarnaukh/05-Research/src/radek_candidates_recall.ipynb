{
 "metadata": {
  "kernelspec": {
   "display_name": "Python 3",
   "language": "python",
   "name": "python3"
  },
  "language_info": {
   "name": "python",
   "version": "3.10.12",
   "mimetype": "text/x-python",
   "codemirror_mode": {
    "name": "ipython",
    "version": 3
   },
   "pygments_lexer": "ipython3",
   "nbconvert_exporter": "python",
   "file_extension": ".py"
  },
  "papermill": {
   "default_parameters": {},
   "duration": 185.112876,
   "end_time": "2022-04-16T17:01:37.553573",
   "environment_variables": {},
   "exception": null,
   "input_path": "__notebook__.ipynb",
   "output_path": "__notebook__.ipynb",
   "parameters": {},
   "start_time": "2022-04-16T16:58:32.440697",
   "version": "2.3.4"
  }
 },
 "nbformat_minor": 5,
 "nbformat": 4,
 "cells": [
  {
   "cell_type": "markdown",
   "source": [
    "Radek posted about this [here](https://www.kaggle.com/competitions/h-and-m-personalized-fashion-recommendations/discussion/309220), and linked to a GitHub repo with the code.\n",
    "\n",
    "I just transferred that code here to Kaggle notebooks, that's all."
   ],
   "metadata": {
    "papermill": {
     "duration": 0.052947,
     "end_time": "2022-04-16T16:58:42.297492",
     "exception": false,
     "start_time": "2022-04-16T16:58:42.244545",
     "status": "completed"
    },
    "tags": []
   },
   "id": "1c494b88382cd063"
  },
  {
   "cell_type": "code",
   "source": [
    "from helper_functions import customer_hex_id_to_int, mapk\n",
    "from helper_functions import recall, recall12, mean_recall, calculate_recall_per_customer_batch\n",
    "from helper_functions import read_parquet_datasets\n",
    "import pandas as pd\n",
    "import numpy as np\n",
    "\n",
    "transactions, customers, articles = read_parquet_datasets()\n",
    "\n",
    "validation = transactions[transactions.week == transactions.week.max()]\n",
    "\n",
    "test_week = transactions.week.max() + 1\n",
    "transactions = transactions[transactions.week > transactions.week.max() - 10]"
   ],
   "metadata": {
    "papermill": {
     "duration": 9.279307,
     "end_time": "2022-04-16T16:58:53.289550",
     "exception": false,
     "start_time": "2022-04-16T16:58:44.010243",
     "status": "completed"
    },
    "tags": [],
    "execution": {
     "iopub.status.busy": "2023-10-11T08:02:33.432368Z",
     "iopub.execute_input": "2023-10-11T08:02:33.433121Z",
     "iopub.status.idle": "2023-10-11T08:02:37.691627Z",
     "shell.execute_reply.started": "2023-10-11T08:02:33.433081Z",
     "shell.execute_reply": "2023-10-11T08:02:37.690543Z"
    },
    "trusted": true,
    "ExecuteTime": {
     "end_time": "2023-12-19T00:26:06.863727800Z",
     "start_time": "2023-12-19T00:26:05.774042200Z"
    }
   },
   "execution_count": 6,
   "outputs": [],
   "id": "ea3486ea109915fd"
  },
  {
   "cell_type": "markdown",
   "source": [
    "# Generating candidates"
   ],
   "metadata": {
    "papermill": {
     "duration": 0.04664,
     "end_time": "2022-04-16T16:58:53.778482",
     "exception": false,
     "start_time": "2022-04-16T16:58:53.731842",
     "status": "completed"
    },
    "tags": []
   },
   "id": "db3c9bcadb9cda9b"
  },
  {
   "cell_type": "markdown",
   "source": [
    "### Last purchase candidates"
   ],
   "metadata": {
    "papermill": {
     "duration": 0.047255,
     "end_time": "2022-04-16T16:58:53.872805",
     "exception": false,
     "start_time": "2022-04-16T16:58:53.825550",
     "status": "completed"
    },
    "tags": []
   },
   "id": "b53210a64303217c"
  },
  {
   "cell_type": "code",
   "source": [
    "c2weeks = transactions.groupby('customer_id')['week'].unique()\n",
    "c2weeks2shifted_weeks = {}\n",
    "\n",
    "for c_id, weeks in c2weeks.items():\n",
    "    c2weeks2shifted_weeks[c_id] = {}\n",
    "    for i in range(weeks.shape[0]-1):\n",
    "        c2weeks2shifted_weeks[c_id][weeks[i]] = weeks[i+1]\n",
    "    c2weeks2shifted_weeks[c_id][weeks[-1]] = test_week\n",
    "    \n",
    "candidates_last_purchase = transactions.copy()\n",
    "weeks = []\n",
    "for i, (c_id, week) in enumerate(zip(transactions['customer_id'], transactions['week'])):\n",
    "    weeks.append(c2weeks2shifted_weeks[c_id][week])\n",
    "candidates_last_purchase.week=weeks"
   ],
   "metadata": {
    "papermill": {
     "duration": 8.716794,
     "end_time": "2022-04-16T16:59:25.784593",
     "exception": false,
     "start_time": "2022-04-16T16:59:17.067799",
     "status": "completed"
    },
    "tags": [],
    "execution": {
     "iopub.status.busy": "2023-10-11T08:03:04.442232Z",
     "iopub.execute_input": "2023-10-11T08:03:04.442523Z",
     "iopub.status.idle": "2023-10-11T08:03:22.614016Z",
     "shell.execute_reply.started": "2023-10-11T08:03:04.442499Z",
     "shell.execute_reply": "2023-10-11T08:03:22.612552Z"
    },
    "trusted": true,
    "ExecuteTime": {
     "end_time": "2023-12-19T00:26:22.693565700Z",
     "start_time": "2023-12-19T00:26:06.864227500Z"
    }
   },
   "execution_count": 7,
   "outputs": [],
   "id": "9fd4547c64950724"
  },
  {
   "cell_type": "code",
   "source": [
    "### Bestsellers candidates\n",
    "mean_price = transactions.groupby(['week', 'article_id'])['price'].mean()\n",
    "sales = transactions \\\n",
    "    .groupby('week')['article_id'].value_counts() \\\n",
    "    .groupby('week').rank(method='dense', ascending=False) \\\n",
    "    .groupby('week').head(12).rename('bestseller_rank').astype('int8')\n",
    "bestsellers_previous_week = pd.merge(sales, mean_price, on=['week', 'article_id']).reset_index()\n",
    "bestsellers_previous_week.week += 1"
   ],
   "metadata": {
    "papermill": {
     "duration": 0.11991,
     "end_time": "2022-04-16T16:59:28.231470",
     "exception": false,
     "start_time": "2022-04-16T16:59:28.111560",
     "status": "completed"
    },
    "tags": [],
    "execution": {
     "iopub.status.busy": "2023-10-11T08:03:25.596069Z",
     "iopub.execute_input": "2023-10-11T08:03:25.596380Z",
     "iopub.status.idle": "2023-10-11T08:03:25.640966Z",
     "shell.execute_reply.started": "2023-10-11T08:03:25.596349Z",
     "shell.execute_reply": "2023-10-11T08:03:25.640019Z"
    },
    "trusted": true,
    "ExecuteTime": {
     "end_time": "2023-12-19T00:26:22.983700400Z",
     "start_time": "2023-12-19T00:26:22.694066100Z"
    }
   },
   "execution_count": 8,
   "outputs": [],
   "id": "bf2b1aaa2053ebaa"
  },
  {
   "cell_type": "code",
   "source": [
    "# bestsellers_previous_week.pipe(lambda df: df[df['week']==96])\n",
    "bestsellers_previous_week"
   ],
   "metadata": {
    "papermill": {
     "duration": 0.089116,
     "end_time": "2022-04-16T16:59:28.399153",
     "exception": false,
     "start_time": "2022-04-16T16:59:28.310037",
     "status": "completed"
    },
    "tags": [],
    "execution": {
     "iopub.status.busy": "2023-10-11T08:03:25.642378Z",
     "iopub.execute_input": "2023-10-11T08:03:25.642812Z",
     "iopub.status.idle": "2023-10-11T08:03:25.654010Z",
     "shell.execute_reply.started": "2023-10-11T08:03:25.642753Z",
     "shell.execute_reply": "2023-10-11T08:03:25.653041Z"
    },
    "trusted": true,
    "ExecuteTime": {
     "end_time": "2023-12-19T00:26:22.990632600Z",
     "start_time": "2023-12-19T00:26:22.984201300Z"
    }
   },
   "execution_count": 9,
   "outputs": [
    {
     "data": {
      "text/plain": "     week  article_id  bestseller_rank     price\n0      96   760084003                1  0.025094\n1      96   866731001                2  0.024919\n2      96   600886001                3  0.022980\n3      96   706016001                4  0.033197\n4      96   372860002                5  0.013193\n..    ...         ...              ...       ...\n115   105   915529003                8  0.033439\n116   105   915529005                9  0.033417\n117   105   448509014               10  0.041630\n118   105   762846027               11  0.025005\n119   105   714790020               12  0.049951\n\n[120 rows x 4 columns]",
      "text/html": "<div>\n<style scoped>\n    .dataframe tbody tr th:only-of-type {\n        vertical-align: middle;\n    }\n\n    .dataframe tbody tr th {\n        vertical-align: top;\n    }\n\n    .dataframe thead th {\n        text-align: right;\n    }\n</style>\n<table border=\"1\" class=\"dataframe\">\n  <thead>\n    <tr style=\"text-align: right;\">\n      <th></th>\n      <th>week</th>\n      <th>article_id</th>\n      <th>bestseller_rank</th>\n      <th>price</th>\n    </tr>\n  </thead>\n  <tbody>\n    <tr>\n      <th>0</th>\n      <td>96</td>\n      <td>760084003</td>\n      <td>1</td>\n      <td>0.025094</td>\n    </tr>\n    <tr>\n      <th>1</th>\n      <td>96</td>\n      <td>866731001</td>\n      <td>2</td>\n      <td>0.024919</td>\n    </tr>\n    <tr>\n      <th>2</th>\n      <td>96</td>\n      <td>600886001</td>\n      <td>3</td>\n      <td>0.022980</td>\n    </tr>\n    <tr>\n      <th>3</th>\n      <td>96</td>\n      <td>706016001</td>\n      <td>4</td>\n      <td>0.033197</td>\n    </tr>\n    <tr>\n      <th>4</th>\n      <td>96</td>\n      <td>372860002</td>\n      <td>5</td>\n      <td>0.013193</td>\n    </tr>\n    <tr>\n      <th>...</th>\n      <td>...</td>\n      <td>...</td>\n      <td>...</td>\n      <td>...</td>\n    </tr>\n    <tr>\n      <th>115</th>\n      <td>105</td>\n      <td>915529003</td>\n      <td>8</td>\n      <td>0.033439</td>\n    </tr>\n    <tr>\n      <th>116</th>\n      <td>105</td>\n      <td>915529005</td>\n      <td>9</td>\n      <td>0.033417</td>\n    </tr>\n    <tr>\n      <th>117</th>\n      <td>105</td>\n      <td>448509014</td>\n      <td>10</td>\n      <td>0.041630</td>\n    </tr>\n    <tr>\n      <th>118</th>\n      <td>105</td>\n      <td>762846027</td>\n      <td>11</td>\n      <td>0.025005</td>\n    </tr>\n    <tr>\n      <th>119</th>\n      <td>105</td>\n      <td>714790020</td>\n      <td>12</td>\n      <td>0.049951</td>\n    </tr>\n  </tbody>\n</table>\n<p>120 rows × 4 columns</p>\n</div>"
     },
     "execution_count": 9,
     "metadata": {},
     "output_type": "execute_result"
    }
   ],
   "id": "38554d4d96501297"
  },
  {
   "cell_type": "code",
   "execution_count": 10,
   "outputs": [],
   "source": [
    "# analogous to calculate_recall_per_customer_batch(...) function\n",
    "# Get the purchases for the last week in the validation set\n",
    "actual_purchases_last_week = validation[validation['week'] == validation['week'].max()].groupby('customer_id')['article_id'].apply(list)\n",
    "\n",
    "# Step 1: Extract the 12 bestselling articles for the last week\n",
    "bestsellers_last_week = bestsellers_previous_week[bestsellers_previous_week['week'] == validation['week'].max()]['article_id']\n",
    "\n",
    "# Step 2: Create a DataFrame with 'customer_id' and 'article_id' for each customer and the 12 articles\n",
    "customers = pd.DataFrame({'customer_id': np.repeat(validation['customer_id'].unique(), 12)})\n",
    "customers['article_id'] = np.tile(bestsellers_last_week.tolist(), len(validation['customer_id'].unique()))\n",
    "\n",
    "# Step 3: create a list of articles for each customer\n",
    "predicted_bestsellers_last_week = customers.groupby('customer_id')['article_id'].apply(list)"
   ],
   "metadata": {
    "collapsed": false,
    "ExecuteTime": {
     "end_time": "2023-12-19T00:26:24.284791600Z",
     "start_time": "2023-12-19T00:26:22.992632800Z"
    }
   },
   "id": "2c921a50d0a3589f"
  },
  {
   "cell_type": "code",
   "execution_count": 11,
   "outputs": [
    {
     "data": {
      "text/plain": "customer_id\n1402273113592184                                   [885951001, 611415001]\n1827730561464445                                   [918603001, 921380001]\n1951136007097426                                              [778745010]\n2639747769247776                                              [819547001]\n3177658828628418                                   [869331006, 866731001]\n                                              ...                        \n18444954504588539615                                          [903062001]\n18445164350380731040                                          [730683050]\n18445340048433064259                                          [714790028]\n18445641720816255142    [898713001, 909014001, 919365008, 827635001, 8...\n18446737527580148316         [547780001, 763988001, 763988003, 547780040]\nName: article_id, Length: 68984, dtype: object"
     },
     "execution_count": 11,
     "metadata": {},
     "output_type": "execute_result"
    }
   ],
   "source": [
    "actual_purchases_last_week"
   ],
   "metadata": {
    "collapsed": false,
    "ExecuteTime": {
     "end_time": "2023-12-19T00:26:24.289036600Z",
     "start_time": "2023-12-19T00:26:24.285294Z"
    }
   },
   "id": "92144ef1869e1fd2"
  },
  {
   "cell_type": "code",
   "execution_count": 12,
   "outputs": [
    {
     "data": {
      "text/plain": "customer_id\n1402273113592184        [909370001, 865799006, 918522001, 924243001, 4...\n1827730561464445        [909370001, 865799006, 918522001, 924243001, 4...\n1951136007097426        [909370001, 865799006, 918522001, 924243001, 4...\n2639747769247776        [909370001, 865799006, 918522001, 924243001, 4...\n3177658828628418        [909370001, 865799006, 918522001, 924243001, 4...\n                                              ...                        \n18444954504588539615    [909370001, 865799006, 918522001, 924243001, 4...\n18445164350380731040    [909370001, 865799006, 918522001, 924243001, 4...\n18445340048433064259    [909370001, 865799006, 918522001, 924243001, 4...\n18445641720816255142    [909370001, 865799006, 918522001, 924243001, 4...\n18446737527580148316    [909370001, 865799006, 918522001, 924243001, 4...\nName: article_id, Length: 68984, dtype: object"
     },
     "execution_count": 12,
     "metadata": {},
     "output_type": "execute_result"
    }
   ],
   "source": [
    "predicted_bestsellers_last_week"
   ],
   "metadata": {
    "collapsed": false,
    "ExecuteTime": {
     "end_time": "2023-12-19T00:26:24.294008700Z",
     "start_time": "2023-12-19T00:26:24.289036600Z"
    }
   },
   "id": "7eea14a41ea11b29"
  },
  {
   "cell_type": "code",
   "execution_count": 13,
   "outputs": [
    {
     "name": "stdout",
     "output_type": "stream",
     "text": [
      "Recall Score for Bestsellers Candidates: 0.024726918923118894\n"
     ]
    }
   ],
   "source": [
    "# Calculate recall between actual purchases and predicted bestsellers for the last week\n",
    "recall_last_week = mean_recall(actual_purchases_last_week, predicted_bestsellers_last_week)\n",
    "\n",
    "print(\"Recall Score for Bestsellers Candidates:\", recall_last_week)"
   ],
   "metadata": {
    "collapsed": false,
    "ExecuteTime": {
     "end_time": "2023-12-19T00:26:24.346587800Z",
     "start_time": "2023-12-19T00:26:24.295014800Z"
    }
   },
   "id": "5617ed8e267f9988"
  },
  {
   "cell_type": "code",
   "source": [
    "unique_transactions = transactions.groupby(['week', 'customer_id']).head(1).drop(columns=['article_id', 'price']).copy()\n",
    "candidates_bestsellers = pd.merge(unique_transactions, bestsellers_previous_week, on='week',)\n",
    "test_set_transactions = unique_transactions.drop_duplicates('customer_id').reset_index(drop=True)\n",
    "test_set_transactions.week = test_week"
   ],
   "metadata": {
    "papermill": {
     "duration": 0.163691,
     "end_time": "2022-04-16T16:59:30.668845",
     "exception": false,
     "start_time": "2022-04-16T16:59:30.505154",
     "status": "completed"
    },
    "tags": [],
    "execution": {
     "iopub.status.busy": "2023-10-11T08:03:27.233086Z",
     "iopub.execute_input": "2023-10-11T08:03:27.233759Z",
     "iopub.status.idle": "2023-10-11T08:03:27.290835Z",
     "shell.execute_reply.started": "2023-10-11T08:03:27.233720Z",
     "shell.execute_reply": "2023-10-11T08:03:27.290007Z"
    },
    "trusted": true,
    "ExecuteTime": {
     "end_time": "2023-12-19T00:26:24.901517900Z",
     "start_time": "2023-12-19T00:26:24.347587900Z"
    }
   },
   "execution_count": 14,
   "outputs": [],
   "id": "43f6a7082fae2b06"
  },
  {
   "cell_type": "code",
   "execution_count": 15,
   "outputs": [],
   "source": [
    "# candidates_bestsellers"
   ],
   "metadata": {
    "collapsed": false,
    "ExecuteTime": {
     "end_time": "2023-12-19T00:26:24.903509600Z",
     "start_time": "2023-12-19T00:26:24.902017900Z"
    }
   },
   "id": "a7ed7192b23479a4"
  },
  {
   "cell_type": "code",
   "source": [
    "# test_set_transactions\n",
    "# unique_transactions"
   ],
   "metadata": {
    "papermill": {
     "duration": 0.098295,
     "end_time": "2022-04-16T16:59:30.846626",
     "exception": false,
     "start_time": "2022-04-16T16:59:30.748331",
     "status": "completed"
    },
    "tags": [],
    "execution": {
     "iopub.status.busy": "2023-10-11T08:03:27.292596Z",
     "iopub.execute_input": "2023-10-11T08:03:27.293638Z",
     "iopub.status.idle": "2023-10-11T08:03:27.302090Z",
     "shell.execute_reply.started": "2023-10-11T08:03:27.293597Z",
     "shell.execute_reply": "2023-10-11T08:03:27.300846Z"
    },
    "trusted": true,
    "ExecuteTime": {
     "end_time": "2023-12-19T00:26:24.917016500Z",
     "start_time": "2023-12-19T00:26:24.903509600Z"
    }
   },
   "execution_count": 16,
   "outputs": [],
   "id": "2bee51c080e7d11d"
  },
  {
   "cell_type": "code",
   "source": [
    "candidates_bestsellers_test_week = pd.merge(test_set_transactions, bestsellers_previous_week, on='week')\n",
    "candidates_bestsellers = pd.concat([candidates_bestsellers, candidates_bestsellers_test_week])\n",
    "candidates_bestsellers.drop(columns='bestseller_rank', inplace=True)"
   ],
   "metadata": {
    "papermill": {
     "duration": 0.570441,
     "end_time": "2022-04-16T16:59:32.058855",
     "exception": false,
     "start_time": "2022-04-16T16:59:31.488414",
     "status": "completed"
    },
    "tags": [],
    "execution": {
     "iopub.status.busy": "2023-10-11T08:03:27.665568Z",
     "iopub.execute_input": "2023-10-11T08:03:27.666052Z",
     "iopub.status.idle": "2023-10-11T08:03:28.402619Z",
     "shell.execute_reply.started": "2023-10-11T08:03:27.666007Z",
     "shell.execute_reply": "2023-10-11T08:03:28.401580Z"
    },
    "trusted": true,
    "ExecuteTime": {
     "end_time": "2023-12-19T00:26:25.305527500Z",
     "start_time": "2023-12-19T00:26:24.917518600Z"
    }
   },
   "execution_count": 17,
   "outputs": [],
   "id": "99b980ad8b9e2dad"
  },
  {
   "cell_type": "code",
   "source": [
    "candidates_bestsellers"
   ],
   "metadata": {
    "papermill": {
     "duration": 0.095192,
     "end_time": "2022-04-16T16:59:32.233727",
     "exception": false,
     "start_time": "2022-04-16T16:59:32.138535",
     "status": "completed"
    },
    "tags": [],
    "execution": {
     "iopub.status.busy": "2023-10-11T08:03:28.403915Z",
     "iopub.execute_input": "2023-10-11T08:03:28.404325Z",
     "iopub.status.idle": "2023-10-11T08:03:28.412380Z",
     "shell.execute_reply.started": "2023-10-11T08:03:28.404290Z",
     "shell.execute_reply": "2023-10-11T08:03:28.411231Z"
    },
    "trusted": true,
    "ExecuteTime": {
     "end_time": "2023-12-19T00:26:25.310013600Z",
     "start_time": "2023-12-19T00:26:25.305527500Z"
    }
   },
   "execution_count": 18,
   "outputs": [
    {
     "data": {
      "text/plain": "             t_dat           customer_id  sales_channel_id  week  article_id  \\\n0       2020-07-22       200292573348128                 2    96   760084003   \n1       2020-07-22       200292573348128                 2    96   866731001   \n2       2020-07-22       200292573348128                 2    96   600886001   \n3       2020-07-22       200292573348128                 2    96   706016001   \n4       2020-07-22       200292573348128                 2    96   372860002   \n...            ...                   ...               ...   ...         ...   \n5248375 2020-09-22  18438270306572912089                 1   105   915529003   \n5248376 2020-09-22  18438270306572912089                 1   105   915529005   \n5248377 2020-09-22  18438270306572912089                 1   105   448509014   \n5248378 2020-09-22  18438270306572912089                 1   105   762846027   \n5248379 2020-09-22  18438270306572912089                 1   105   714790020   \n\n            price  \n0        0.025094  \n1        0.024919  \n2        0.022980  \n3        0.033197  \n4        0.013193  \n...           ...  \n5248375  0.033439  \n5248376  0.033417  \n5248377  0.041630  \n5248378  0.025005  \n5248379  0.049951  \n\n[13389576 rows x 6 columns]",
      "text/html": "<div>\n<style scoped>\n    .dataframe tbody tr th:only-of-type {\n        vertical-align: middle;\n    }\n\n    .dataframe tbody tr th {\n        vertical-align: top;\n    }\n\n    .dataframe thead th {\n        text-align: right;\n    }\n</style>\n<table border=\"1\" class=\"dataframe\">\n  <thead>\n    <tr style=\"text-align: right;\">\n      <th></th>\n      <th>t_dat</th>\n      <th>customer_id</th>\n      <th>sales_channel_id</th>\n      <th>week</th>\n      <th>article_id</th>\n      <th>price</th>\n    </tr>\n  </thead>\n  <tbody>\n    <tr>\n      <th>0</th>\n      <td>2020-07-22</td>\n      <td>200292573348128</td>\n      <td>2</td>\n      <td>96</td>\n      <td>760084003</td>\n      <td>0.025094</td>\n    </tr>\n    <tr>\n      <th>1</th>\n      <td>2020-07-22</td>\n      <td>200292573348128</td>\n      <td>2</td>\n      <td>96</td>\n      <td>866731001</td>\n      <td>0.024919</td>\n    </tr>\n    <tr>\n      <th>2</th>\n      <td>2020-07-22</td>\n      <td>200292573348128</td>\n      <td>2</td>\n      <td>96</td>\n      <td>600886001</td>\n      <td>0.022980</td>\n    </tr>\n    <tr>\n      <th>3</th>\n      <td>2020-07-22</td>\n      <td>200292573348128</td>\n      <td>2</td>\n      <td>96</td>\n      <td>706016001</td>\n      <td>0.033197</td>\n    </tr>\n    <tr>\n      <th>4</th>\n      <td>2020-07-22</td>\n      <td>200292573348128</td>\n      <td>2</td>\n      <td>96</td>\n      <td>372860002</td>\n      <td>0.013193</td>\n    </tr>\n    <tr>\n      <th>...</th>\n      <td>...</td>\n      <td>...</td>\n      <td>...</td>\n      <td>...</td>\n      <td>...</td>\n      <td>...</td>\n    </tr>\n    <tr>\n      <th>5248375</th>\n      <td>2020-09-22</td>\n      <td>18438270306572912089</td>\n      <td>1</td>\n      <td>105</td>\n      <td>915529003</td>\n      <td>0.033439</td>\n    </tr>\n    <tr>\n      <th>5248376</th>\n      <td>2020-09-22</td>\n      <td>18438270306572912089</td>\n      <td>1</td>\n      <td>105</td>\n      <td>915529005</td>\n      <td>0.033417</td>\n    </tr>\n    <tr>\n      <th>5248377</th>\n      <td>2020-09-22</td>\n      <td>18438270306572912089</td>\n      <td>1</td>\n      <td>105</td>\n      <td>448509014</td>\n      <td>0.041630</td>\n    </tr>\n    <tr>\n      <th>5248378</th>\n      <td>2020-09-22</td>\n      <td>18438270306572912089</td>\n      <td>1</td>\n      <td>105</td>\n      <td>762846027</td>\n      <td>0.025005</td>\n    </tr>\n    <tr>\n      <th>5248379</th>\n      <td>2020-09-22</td>\n      <td>18438270306572912089</td>\n      <td>1</td>\n      <td>105</td>\n      <td>714790020</td>\n      <td>0.049951</td>\n    </tr>\n  </tbody>\n</table>\n<p>13389576 rows × 6 columns</p>\n</div>"
     },
     "execution_count": 18,
     "metadata": {},
     "output_type": "execute_result"
    }
   ],
   "id": "8ca62bd46a28d851"
  },
  {
   "cell_type": "markdown",
   "source": [
    "# Combining transactions and candidates / negative examples"
   ],
   "metadata": {
    "papermill": {
     "duration": 0.08208,
     "end_time": "2022-04-16T16:59:32.397198",
     "exception": false,
     "start_time": "2022-04-16T16:59:32.315118",
     "status": "completed"
    },
    "tags": []
   },
   "id": "88415118080fdaed"
  },
  {
   "cell_type": "code",
   "source": [
    "transactions['purchased'] = 1\n",
    "data = pd.concat([transactions, candidates_last_purchase, candidates_bestsellers])\n",
    "data.purchased.fillna(0, inplace=True)\n",
    "data.drop_duplicates(['customer_id', 'article_id', 'week'], inplace=True)"
   ],
   "metadata": {
    "papermill": {
     "duration": 7.070271,
     "end_time": "2022-04-16T16:59:40.552624",
     "exception": false,
     "start_time": "2022-04-16T16:59:33.482353",
     "status": "completed"
    },
    "tags": [],
    "execution": {
     "iopub.status.busy": "2023-10-11T08:03:29.013858Z",
     "iopub.execute_input": "2023-10-11T08:03:29.014298Z",
     "iopub.status.idle": "2023-10-11T08:03:35.907805Z",
     "shell.execute_reply.started": "2023-10-11T08:03:29.014259Z",
     "shell.execute_reply": "2023-10-11T08:03:35.906630Z"
    },
    "trusted": true,
    "ExecuteTime": {
     "end_time": "2023-12-19T00:26:28.226661400Z",
     "start_time": "2023-12-19T00:26:25.310013600Z"
    }
   },
   "execution_count": 19,
   "outputs": [],
   "id": "79abce01eb35c392"
  },
  {
   "cell_type": "code",
   "execution_count": 20,
   "outputs": [
    {
     "data": {
      "text/plain": "              t_dat           customer_id  article_id     price  \\\n29030503 2020-07-15       272412481300040   778064028  0.008458   \n29030504 2020-07-15       272412481300040   816592008  0.016932   \n29030505 2020-07-15       272412481300040   621381021  0.033881   \n29030506 2020-07-15       272412481300040   817477003  0.025407   \n29030507 2020-07-15       272412481300040   899088002  0.025407   \n...             ...                   ...         ...       ...   \n5248375  2020-09-22  18438270306572912089   915529003  0.033439   \n5248376  2020-09-22  18438270306572912089   915529005  0.033417   \n5248377  2020-09-22  18438270306572912089   448509014  0.041630   \n5248378  2020-09-22  18438270306572912089   762846027  0.025005   \n5248379  2020-09-22  18438270306572912089   714790020  0.049951   \n\n          sales_channel_id  week  purchased  \n29030503                 1    95        1.0  \n29030504                 1    95        1.0  \n29030505                 1    95        1.0  \n29030506                 1    95        1.0  \n29030507                 1    95        1.0  \n...                    ...   ...        ...  \n5248375                  1   105        0.0  \n5248376                  1   105        0.0  \n5248377                  1   105        0.0  \n5248378                  1   105        0.0  \n5248379                  1   105        0.0  \n\n[18253749 rows x 7 columns]",
      "text/html": "<div>\n<style scoped>\n    .dataframe tbody tr th:only-of-type {\n        vertical-align: middle;\n    }\n\n    .dataframe tbody tr th {\n        vertical-align: top;\n    }\n\n    .dataframe thead th {\n        text-align: right;\n    }\n</style>\n<table border=\"1\" class=\"dataframe\">\n  <thead>\n    <tr style=\"text-align: right;\">\n      <th></th>\n      <th>t_dat</th>\n      <th>customer_id</th>\n      <th>article_id</th>\n      <th>price</th>\n      <th>sales_channel_id</th>\n      <th>week</th>\n      <th>purchased</th>\n    </tr>\n  </thead>\n  <tbody>\n    <tr>\n      <th>29030503</th>\n      <td>2020-07-15</td>\n      <td>272412481300040</td>\n      <td>778064028</td>\n      <td>0.008458</td>\n      <td>1</td>\n      <td>95</td>\n      <td>1.0</td>\n    </tr>\n    <tr>\n      <th>29030504</th>\n      <td>2020-07-15</td>\n      <td>272412481300040</td>\n      <td>816592008</td>\n      <td>0.016932</td>\n      <td>1</td>\n      <td>95</td>\n      <td>1.0</td>\n    </tr>\n    <tr>\n      <th>29030505</th>\n      <td>2020-07-15</td>\n      <td>272412481300040</td>\n      <td>621381021</td>\n      <td>0.033881</td>\n      <td>1</td>\n      <td>95</td>\n      <td>1.0</td>\n    </tr>\n    <tr>\n      <th>29030506</th>\n      <td>2020-07-15</td>\n      <td>272412481300040</td>\n      <td>817477003</td>\n      <td>0.025407</td>\n      <td>1</td>\n      <td>95</td>\n      <td>1.0</td>\n    </tr>\n    <tr>\n      <th>29030507</th>\n      <td>2020-07-15</td>\n      <td>272412481300040</td>\n      <td>899088002</td>\n      <td>0.025407</td>\n      <td>1</td>\n      <td>95</td>\n      <td>1.0</td>\n    </tr>\n    <tr>\n      <th>...</th>\n      <td>...</td>\n      <td>...</td>\n      <td>...</td>\n      <td>...</td>\n      <td>...</td>\n      <td>...</td>\n      <td>...</td>\n    </tr>\n    <tr>\n      <th>5248375</th>\n      <td>2020-09-22</td>\n      <td>18438270306572912089</td>\n      <td>915529003</td>\n      <td>0.033439</td>\n      <td>1</td>\n      <td>105</td>\n      <td>0.0</td>\n    </tr>\n    <tr>\n      <th>5248376</th>\n      <td>2020-09-22</td>\n      <td>18438270306572912089</td>\n      <td>915529005</td>\n      <td>0.033417</td>\n      <td>1</td>\n      <td>105</td>\n      <td>0.0</td>\n    </tr>\n    <tr>\n      <th>5248377</th>\n      <td>2020-09-22</td>\n      <td>18438270306572912089</td>\n      <td>448509014</td>\n      <td>0.041630</td>\n      <td>1</td>\n      <td>105</td>\n      <td>0.0</td>\n    </tr>\n    <tr>\n      <th>5248378</th>\n      <td>2020-09-22</td>\n      <td>18438270306572912089</td>\n      <td>762846027</td>\n      <td>0.025005</td>\n      <td>1</td>\n      <td>105</td>\n      <td>0.0</td>\n    </tr>\n    <tr>\n      <th>5248379</th>\n      <td>2020-09-22</td>\n      <td>18438270306572912089</td>\n      <td>714790020</td>\n      <td>0.049951</td>\n      <td>1</td>\n      <td>105</td>\n      <td>0.0</td>\n    </tr>\n  </tbody>\n</table>\n<p>18253749 rows × 7 columns</p>\n</div>"
     },
     "execution_count": 20,
     "metadata": {},
     "output_type": "execute_result"
    }
   ],
   "source": [
    "data"
   ],
   "metadata": {
    "collapsed": false,
    "ExecuteTime": {
     "end_time": "2023-12-19T00:26:28.231777300Z",
     "start_time": "2023-12-19T00:26:28.227246Z"
    }
   },
   "id": "3cc9ba36fcd3d3b0"
  },
  {
   "cell_type": "markdown",
   "source": [
    "### Add bestseller information"
   ],
   "metadata": {
    "papermill": {
     "duration": 0.085919,
     "end_time": "2022-04-16T16:59:40.938934",
     "exception": false,
     "start_time": "2022-04-16T16:59:40.853015",
     "status": "completed"
    },
    "tags": []
   },
   "id": "43c893713e721c04"
  },
  {
   "cell_type": "code",
   "source": [
    "data = pd.merge(\n",
    "    data,\n",
    "    bestsellers_previous_week[['week', 'article_id', 'bestseller_rank']],\n",
    "    on=['week', 'article_id'],\n",
    "    how='left'\n",
    ")\n",
    "data = data[data.week != data.week.min()]\n",
    "data.bestseller_rank.fillna(999, inplace=True)\n",
    "data = pd.merge(data, articles, on='article_id', how='left')\n",
    "data = pd.merge(data, customers, on='customer_id', how='left')\n",
    "data.sort_values(['week', 'customer_id'], inplace=True)\n",
    "data.reset_index(drop=True, inplace=True)"
   ],
   "metadata": {
    "papermill": {
     "duration": 6.526551,
     "end_time": "2022-04-16T17:00:17.700139",
     "exception": false,
     "start_time": "2022-04-16T17:00:11.173588",
     "status": "completed"
    },
    "tags": [],
    "execution": {
     "iopub.status.busy": "2023-10-11T08:03:53.360623Z",
     "iopub.execute_input": "2023-10-11T08:03:53.361255Z",
     "iopub.status.idle": "2023-10-11T08:03:58.996101Z",
     "shell.execute_reply.started": "2023-10-11T08:03:53.361181Z",
     "shell.execute_reply": "2023-10-11T08:03:58.994878Z"
    },
    "trusted": true,
    "ExecuteTime": {
     "end_time": "2023-12-19T00:26:44.544027Z",
     "start_time": "2023-12-19T00:26:28.232930800Z"
    }
   },
   "execution_count": 21,
   "outputs": [],
   "id": "cf878ef12e8a2606"
  },
  {
   "cell_type": "code",
   "source": [
    "train = data[data.week != test_week]\n",
    "test = data[data.week==test_week].drop_duplicates(['customer_id', 'article_id', 'sales_channel_id']).copy()"
   ],
   "metadata": {
    "papermill": {
     "duration": 6.711593,
     "end_time": "2022-04-16T17:00:24.465301",
     "exception": false,
     "start_time": "2022-04-16T17:00:17.753708",
     "status": "completed"
    },
    "tags": [],
    "execution": {
     "iopub.status.busy": "2023-10-11T08:03:58.997487Z",
     "iopub.execute_input": "2023-10-11T08:03:58.998061Z",
     "iopub.status.idle": "2023-10-11T08:04:05.048167Z",
     "shell.execute_reply.started": "2023-10-11T08:03:58.998031Z",
     "shell.execute_reply": "2023-10-11T08:04:05.046865Z"
    },
    "trusted": true,
    "ExecuteTime": {
     "end_time": "2023-12-19T00:26:47.945172400Z",
     "start_time": "2023-12-19T00:26:44.545267700Z"
    }
   },
   "execution_count": 22,
   "outputs": [
    {
     "ename": "KeyError",
     "evalue": "Index(['article_id'], dtype='object')",
     "output_type": "error",
     "traceback": [
      "\u001B[1;31m---------------------------------------------------------------------------\u001B[0m",
      "\u001B[1;31mKeyError\u001B[0m                                  Traceback (most recent call last)",
      "\u001B[1;32m~\\AppData\\Local\\Temp\\ipykernel_2712\\1899933713.py\u001B[0m in \u001B[0;36m?\u001B[1;34m()\u001B[0m\n\u001B[0;32m      1\u001B[0m \u001B[0mtrain\u001B[0m \u001B[1;33m=\u001B[0m \u001B[0mdata\u001B[0m\u001B[1;33m[\u001B[0m\u001B[0mdata\u001B[0m\u001B[1;33m.\u001B[0m\u001B[0mweek\u001B[0m \u001B[1;33m!=\u001B[0m \u001B[0mtest_week\u001B[0m\u001B[1;33m]\u001B[0m\u001B[1;33m\u001B[0m\u001B[1;33m\u001B[0m\u001B[0m\n\u001B[1;32m----> 2\u001B[1;33m \u001B[0mtest\u001B[0m \u001B[1;33m=\u001B[0m \u001B[0mdata\u001B[0m\u001B[1;33m[\u001B[0m\u001B[0mdata\u001B[0m\u001B[1;33m.\u001B[0m\u001B[0mweek\u001B[0m\u001B[1;33m==\u001B[0m\u001B[0mtest_week\u001B[0m\u001B[1;33m]\u001B[0m\u001B[1;33m.\u001B[0m\u001B[0mdrop_duplicates\u001B[0m\u001B[1;33m(\u001B[0m\u001B[1;33m[\u001B[0m\u001B[1;34m'customer_id'\u001B[0m\u001B[1;33m,\u001B[0m \u001B[1;34m'article_id'\u001B[0m\u001B[1;33m,\u001B[0m \u001B[1;34m'sales_channel_id'\u001B[0m\u001B[1;33m]\u001B[0m\u001B[1;33m)\u001B[0m\u001B[1;33m.\u001B[0m\u001B[0mcopy\u001B[0m\u001B[1;33m(\u001B[0m\u001B[1;33m)\u001B[0m\u001B[1;33m\u001B[0m\u001B[1;33m\u001B[0m\u001B[0m\n\u001B[0m",
      "\u001B[1;32m~\\PycharmProjects\\ai-project-23-24\\venv\\Lib\\site-packages\\pandas\\core\\frame.py\u001B[0m in \u001B[0;36m?\u001B[1;34m(self, subset, keep, inplace, ignore_index)\u001B[0m\n\u001B[0;32m   6562\u001B[0m \u001B[1;33m\u001B[0m\u001B[0m\n\u001B[0;32m   6563\u001B[0m         \u001B[0minplace\u001B[0m \u001B[1;33m=\u001B[0m \u001B[0mvalidate_bool_kwarg\u001B[0m\u001B[1;33m(\u001B[0m\u001B[0minplace\u001B[0m\u001B[1;33m,\u001B[0m \u001B[1;34m\"inplace\"\u001B[0m\u001B[1;33m)\u001B[0m\u001B[1;33m\u001B[0m\u001B[1;33m\u001B[0m\u001B[0m\n\u001B[0;32m   6564\u001B[0m         \u001B[0mignore_index\u001B[0m \u001B[1;33m=\u001B[0m \u001B[0mvalidate_bool_kwarg\u001B[0m\u001B[1;33m(\u001B[0m\u001B[0mignore_index\u001B[0m\u001B[1;33m,\u001B[0m \u001B[1;34m\"ignore_index\"\u001B[0m\u001B[1;33m)\u001B[0m\u001B[1;33m\u001B[0m\u001B[1;33m\u001B[0m\u001B[0m\n\u001B[0;32m   6565\u001B[0m \u001B[1;33m\u001B[0m\u001B[0m\n\u001B[1;32m-> 6566\u001B[1;33m         \u001B[0mresult\u001B[0m \u001B[1;33m=\u001B[0m \u001B[0mself\u001B[0m\u001B[1;33m[\u001B[0m\u001B[1;33m-\u001B[0m\u001B[0mself\u001B[0m\u001B[1;33m.\u001B[0m\u001B[0mduplicated\u001B[0m\u001B[1;33m(\u001B[0m\u001B[0msubset\u001B[0m\u001B[1;33m,\u001B[0m \u001B[0mkeep\u001B[0m\u001B[1;33m=\u001B[0m\u001B[0mkeep\u001B[0m\u001B[1;33m)\u001B[0m\u001B[1;33m]\u001B[0m\u001B[1;33m\u001B[0m\u001B[1;33m\u001B[0m\u001B[0m\n\u001B[0m\u001B[0;32m   6567\u001B[0m         \u001B[1;32mif\u001B[0m \u001B[0mignore_index\u001B[0m\u001B[1;33m:\u001B[0m\u001B[1;33m\u001B[0m\u001B[1;33m\u001B[0m\u001B[0m\n\u001B[0;32m   6568\u001B[0m             \u001B[0mresult\u001B[0m\u001B[1;33m.\u001B[0m\u001B[0mindex\u001B[0m \u001B[1;33m=\u001B[0m \u001B[0mdefault_index\u001B[0m\u001B[1;33m(\u001B[0m\u001B[0mlen\u001B[0m\u001B[1;33m(\u001B[0m\u001B[0mresult\u001B[0m\u001B[1;33m)\u001B[0m\u001B[1;33m)\u001B[0m\u001B[1;33m\u001B[0m\u001B[1;33m\u001B[0m\u001B[0m\n\u001B[0;32m   6569\u001B[0m \u001B[1;33m\u001B[0m\u001B[0m\n",
      "\u001B[1;32m~\\PycharmProjects\\ai-project-23-24\\venv\\Lib\\site-packages\\pandas\\core\\frame.py\u001B[0m in \u001B[0;36m?\u001B[1;34m(self, subset, keep)\u001B[0m\n\u001B[0;32m   6694\u001B[0m         \u001B[1;31m# Otherwise, raise a KeyError, same as if you try to __getitem__ with a\u001B[0m\u001B[1;33m\u001B[0m\u001B[1;33m\u001B[0m\u001B[0m\n\u001B[0;32m   6695\u001B[0m         \u001B[1;31m# key that doesn't exist.\u001B[0m\u001B[1;33m\u001B[0m\u001B[1;33m\u001B[0m\u001B[0m\n\u001B[0;32m   6696\u001B[0m         \u001B[0mdiff\u001B[0m \u001B[1;33m=\u001B[0m \u001B[0mset\u001B[0m\u001B[1;33m(\u001B[0m\u001B[0msubset\u001B[0m\u001B[1;33m)\u001B[0m \u001B[1;33m-\u001B[0m \u001B[0mset\u001B[0m\u001B[1;33m(\u001B[0m\u001B[0mself\u001B[0m\u001B[1;33m.\u001B[0m\u001B[0mcolumns\u001B[0m\u001B[1;33m)\u001B[0m\u001B[1;33m\u001B[0m\u001B[1;33m\u001B[0m\u001B[0m\n\u001B[0;32m   6697\u001B[0m         \u001B[1;32mif\u001B[0m \u001B[0mdiff\u001B[0m\u001B[1;33m:\u001B[0m\u001B[1;33m\u001B[0m\u001B[1;33m\u001B[0m\u001B[0m\n\u001B[1;32m-> 6698\u001B[1;33m             \u001B[1;32mraise\u001B[0m \u001B[0mKeyError\u001B[0m\u001B[1;33m(\u001B[0m\u001B[0mIndex\u001B[0m\u001B[1;33m(\u001B[0m\u001B[0mdiff\u001B[0m\u001B[1;33m)\u001B[0m\u001B[1;33m)\u001B[0m\u001B[1;33m\u001B[0m\u001B[1;33m\u001B[0m\u001B[0m\n\u001B[0m\u001B[0;32m   6699\u001B[0m \u001B[1;33m\u001B[0m\u001B[0m\n\u001B[0;32m   6700\u001B[0m         \u001B[1;32mif\u001B[0m \u001B[0mlen\u001B[0m\u001B[1;33m(\u001B[0m\u001B[0msubset\u001B[0m\u001B[1;33m)\u001B[0m \u001B[1;33m==\u001B[0m \u001B[1;36m1\u001B[0m \u001B[1;32mand\u001B[0m \u001B[0mself\u001B[0m\u001B[1;33m.\u001B[0m\u001B[0mcolumns\u001B[0m\u001B[1;33m.\u001B[0m\u001B[0mis_unique\u001B[0m\u001B[1;33m:\u001B[0m\u001B[1;33m\u001B[0m\u001B[1;33m\u001B[0m\u001B[0m\n\u001B[0;32m   6701\u001B[0m             \u001B[1;31m# GH#45236 This is faster than get_group_index below\u001B[0m\u001B[1;33m\u001B[0m\u001B[1;33m\u001B[0m\u001B[0m\n",
      "\u001B[1;31mKeyError\u001B[0m: Index(['article_id'], dtype='object')"
     ]
    }
   ],
   "id": "9918b84796200b6e"
  },
  {
   "cell_type": "code",
   "execution_count": null,
   "outputs": [],
   "source": [
    "test"
   ],
   "metadata": {
    "collapsed": false,
    "ExecuteTime": {
     "start_time": "2023-12-19T00:26:47.947173200Z"
    }
   },
   "id": "47ce2142709fb910"
  },
  {
   "cell_type": "code",
   "source": [
    "train_baskets = train.groupby(['week', 'customer_id'])['article_id'].count().values"
   ],
   "metadata": {
    "papermill": {
     "duration": 1.036818,
     "end_time": "2022-04-16T17:00:25.556300",
     "exception": false,
     "start_time": "2022-04-16T17:00:24.519482",
     "status": "completed"
    },
    "tags": [],
    "execution": {
     "iopub.status.busy": "2023-10-11T08:04:05.049936Z",
     "iopub.execute_input": "2023-10-11T08:04:05.050282Z",
     "iopub.status.idle": "2023-10-11T08:04:05.826591Z",
     "shell.execute_reply.started": "2023-10-11T08:04:05.050248Z",
     "shell.execute_reply": "2023-10-11T08:04:05.825128Z"
    },
    "trusted": true,
    "ExecuteTime": {
     "start_time": "2023-12-19T00:26:47.948176300Z"
    }
   },
   "execution_count": null,
   "outputs": [],
   "id": "ba7d814dbd464026"
  },
  {
   "cell_type": "code",
   "execution_count": null,
   "outputs": [],
   "source": [
    "train_baskets"
   ],
   "metadata": {
    "collapsed": false,
    "ExecuteTime": {
     "start_time": "2023-12-19T00:26:47.948676200Z"
    }
   },
   "id": "d0a803dd40f2a38b"
  },
  {
   "cell_type": "code",
   "source": [
    "extra_columns = []\n",
    "columns_to_use = ['article_id', 'product_type_no', 'graphical_appearance_no', 'colour_group_code', 'perceived_colour_value_id',\n",
    "'perceived_colour_master_id', 'department_no', 'index_code',\n",
    "'index_group_no', 'section_no', 'garment_group_no', 'FN', 'Active',\n",
    "'club_member_status', 'fashion_news_frequency', 'age', 'postal_code', 'bestseller_rank']\n",
    "columns_to_use.extend(extra_columns)"
   ],
   "metadata": {
    "papermill": {
     "duration": 0.070485,
     "end_time": "2022-04-16T17:00:25.687322",
     "exception": false,
     "start_time": "2022-04-16T17:00:25.616837",
     "status": "completed"
    },
    "tags": [],
    "execution": {
     "iopub.status.busy": "2023-10-11T08:04:05.828276Z",
     "iopub.execute_input": "2023-10-11T08:04:05.828819Z",
     "iopub.status.idle": "2023-10-11T08:04:05.834579Z",
     "shell.execute_reply.started": "2023-10-11T08:04:05.828659Z",
     "shell.execute_reply": "2023-10-11T08:04:05.833394Z"
    },
    "trusted": true,
    "ExecuteTime": {
     "start_time": "2023-12-19T00:26:47.949676700Z"
    }
   },
   "execution_count": null,
   "outputs": [],
   "id": "a24741570390faec"
  },
  {
   "cell_type": "code",
   "source": [
    "train_X = train[columns_to_use]\n",
    "train_y = train['purchased']\n",
    "\n",
    "test_X = test[columns_to_use]"
   ],
   "metadata": {
    "papermill": {
     "duration": 0.633318,
     "end_time": "2022-04-16T17:00:26.379109",
     "exception": false,
     "start_time": "2022-04-16T17:00:25.745791",
     "status": "completed"
    },
    "tags": [],
    "execution": {
     "iopub.status.busy": "2023-10-11T08:04:05.835768Z",
     "iopub.execute_input": "2023-10-11T08:04:05.836432Z",
     "iopub.status.idle": "2023-10-11T08:04:06.660128Z",
     "shell.execute_reply.started": "2023-10-11T08:04:05.836399Z",
     "shell.execute_reply": "2023-10-11T08:04:06.658324Z"
    },
    "trusted": true,
    "ExecuteTime": {
     "start_time": "2023-12-19T00:26:47.950676300Z"
    }
   },
   "execution_count": null,
   "outputs": [],
   "id": "84918c306f6c2fbf"
  },
  {
   "cell_type": "code",
   "source": [
    "test_X"
   ],
   "metadata": {
    "execution": {
     "iopub.status.busy": "2023-10-11T08:04:06.661241Z",
     "iopub.status.idle": "2023-10-11T08:04:06.661650Z",
     "shell.execute_reply.started": "2023-10-11T08:04:06.661472Z",
     "shell.execute_reply": "2023-10-11T08:04:06.661490Z"
    },
    "trusted": true,
    "ExecuteTime": {
     "start_time": "2023-12-19T00:26:47.951176100Z"
    }
   },
   "execution_count": null,
   "outputs": [],
   "id": "f3d93799760e2fad"
  },
  {
   "cell_type": "markdown",
   "source": [
    "# Model training"
   ],
   "metadata": {
    "papermill": {
     "duration": 0.09573,
     "end_time": "2022-04-16T17:00:26.563647",
     "exception": false,
     "start_time": "2022-04-16T17:00:26.467917",
     "status": "completed"
    },
    "tags": []
   },
   "id": "9b8dfb6049a2a3ff"
  },
  {
   "cell_type": "code",
   "source": [
    "from lightgbm.sklearn import LGBMRanker\n",
    "ranker = LGBMRanker(\n",
    "    objective=\"lambdarank\",\n",
    "    metric=\"ndcg\",\n",
    "    boosting_type=\"dart\",\n",
    "    n_estimators=1,\n",
    "    importance_type='gain',\n",
    "    verbose=10\n",
    ")\n",
    "ranker = ranker.fit(\n",
    "    train_X,\n",
    "    train_y,\n",
    "    group=train_baskets,\n",
    ")"
   ],
   "metadata": {
    "papermill": {
     "duration": 11.066279,
     "end_time": "2022-04-16T17:00:39.301931",
     "exception": false,
     "start_time": "2022-04-16T17:00:28.235652",
     "status": "completed"
    },
    "tags": [],
    "execution": {
     "iopub.status.busy": "2023-10-11T08:04:06.672341Z",
     "iopub.status.idle": "2023-10-11T08:04:06.673322Z",
     "shell.execute_reply.started": "2023-10-11T08:04:06.672987Z",
     "shell.execute_reply": "2023-10-11T08:04:06.673007Z"
    },
    "trusted": true,
    "ExecuteTime": {
     "start_time": "2023-12-19T00:26:47.952178700Z"
    }
   },
   "execution_count": null,
   "outputs": [],
   "id": "d66a13b6aae7e71d"
  },
  {
   "cell_type": "code",
   "source": [
    "for i in ranker.feature_importances_.argsort()[::-1]:\n",
    "    print(columns_to_use[i], ranker.feature_importances_[i]/ranker.feature_importances_.sum())"
   ],
   "metadata": {
    "papermill": {
     "duration": 0.107527,
     "end_time": "2022-04-16T17:00:39.466759",
     "exception": false,
     "start_time": "2022-04-16T17:00:39.359232",
     "status": "completed"
    },
    "tags": [],
    "execution": {
     "iopub.status.busy": "2023-10-11T08:04:06.675105Z",
     "iopub.status.idle": "2023-10-11T08:04:06.675529Z",
     "shell.execute_reply.started": "2023-10-11T08:04:06.675343Z",
     "shell.execute_reply": "2023-10-11T08:04:06.675362Z"
    },
    "trusted": true,
    "ExecuteTime": {
     "end_time": "2023-12-19T00:26:47.953181700Z",
     "start_time": "2023-12-19T00:26:47.952681700Z"
    }
   },
   "execution_count": null,
   "outputs": [],
   "id": "a03e9b47dc795f19"
  },
  {
   "cell_type": "markdown",
   "source": [
    "# Calculate predictions"
   ],
   "metadata": {
    "papermill": {
     "duration": 0.056904,
     "end_time": "2022-04-16T17:00:39.580889",
     "exception": false,
     "start_time": "2022-04-16T17:00:39.523985",
     "status": "completed"
    },
    "tags": []
   },
   "id": "5737da47a7d37c2e"
  },
  {
   "cell_type": "code",
   "source": [
    "test['preds'] = ranker.predict(test_X)\n",
    "\n",
    "c_id2predicted_article_ids = test \\\n",
    "    .sort_values(['customer_id', 'preds'], ascending=False) \\\n",
    "    .groupby('customer_id')['article_id'].apply(list).to_dict()\n",
    "\n",
    "bestsellers_last_week = \\\n",
    "    bestsellers_previous_week[bestsellers_previous_week.week == bestsellers_previous_week.week.max()]['article_id'].tolist()"
   ],
   "metadata": {
    "papermill": {
     "duration": 13.140874,
     "end_time": "2022-04-16T17:00:52.777866",
     "exception": false,
     "start_time": "2022-04-16T17:00:39.636992",
     "status": "completed"
    },
    "tags": [],
    "execution": {
     "iopub.status.busy": "2023-10-11T08:04:06.677139Z",
     "iopub.status.idle": "2023-10-11T08:04:06.677612Z",
     "shell.execute_reply.started": "2023-10-11T08:04:06.677364Z",
     "shell.execute_reply": "2023-10-11T08:04:06.677392Z"
    },
    "trusted": true,
    "ExecuteTime": {
     "start_time": "2023-12-19T00:26:47.953181700Z"
    }
   },
   "execution_count": null,
   "outputs": [],
   "id": "1de07c0536b68c90"
  },
  {
   "cell_type": "markdown",
   "source": [
    "# Create submission"
   ],
   "metadata": {
    "papermill": {
     "duration": 0.07093,
     "end_time": "2022-04-16T17:00:52.913143",
     "exception": false,
     "start_time": "2022-04-16T17:00:52.842213",
     "status": "completed"
    },
    "tags": []
   },
   "id": "ac204415266f1bc5"
  },
  {
   "cell_type": "code",
   "execution_count": null,
   "outputs": [],
   "source": [
    "sub = pd.read_csv('../input/sample_submission.csv')\n",
    "preds = []\n",
    "for c_id in customer_hex_id_to_int(sub.customer_id):\n",
    "    pred = c_id2predicted_article_ids.get(c_id, [])\n",
    "    pred = pred + bestsellers_last_week\n",
    "    preds.append(pred[:12])"
   ],
   "metadata": {
    "collapsed": false,
    "ExecuteTime": {
     "start_time": "2023-12-19T00:26:47.953681500Z"
    }
   },
   "id": "c73f580ff038f063"
  },
  {
   "cell_type": "code",
   "execution_count": null,
   "outputs": [],
   "source": [
    "from tqdm import tqdm\n",
    "positive_items_val = validation.groupby(['customer_id'])['article_id'].apply(list)\n",
    "# creating validation set for metrics use case\n",
    "val_users = positive_items_val.keys()\n",
    "val_items = []\n",
    "for i, user in tqdm(enumerate(val_users)):\n",
    "    val_items.append(positive_items_val[user])\n",
    "\n",
    "print(\"Total users in validation:\", len(val_users))\n",
    "print(\"mAP12 Score on Validation set:\", mapk(val_items, preds))\n",
    "print(\"recall Score on Validation set:\", recall12(val_items, preds))"
   ],
   "metadata": {
    "collapsed": false,
    "ExecuteTime": {
     "start_time": "2023-12-19T00:26:47.954181500Z"
    }
   },
   "id": "9491f661f185ae73"
  },
  {
   "cell_type": "code",
   "execution_count": null,
   "outputs": [],
   "source": [
    "preds = [' '.join(['0' + str(p) for p in ps]) for ps in preds]\n",
    "# sub.prediction = preds\n",
    "# sub_name = 'basic_model_submission'\n",
    "# sub.to_csv(f'{sub_name}.csv.gz', index=False)"
   ],
   "metadata": {
    "collapsed": false,
    "ExecuteTime": {
     "start_time": "2023-12-19T00:26:47.954181500Z"
    }
   },
   "id": "2e08c2ed7c3d7ab6"
  }
 ]
}
