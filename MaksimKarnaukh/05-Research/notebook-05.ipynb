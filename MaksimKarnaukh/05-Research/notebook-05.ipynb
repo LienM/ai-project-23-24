{
 "metadata": {
  "kernelspec": {
   "display_name": "Python 3",
   "language": "python",
   "name": "python3"
  },
  "language_info": {
   "name": "python",
   "version": "3.10.12",
   "mimetype": "text/x-python",
   "codemirror_mode": {
    "name": "ipython",
    "version": 3
   },
   "pygments_lexer": "ipython3",
   "nbconvert_exporter": "python",
   "file_extension": ".py"
  },
  "papermill": {
   "default_parameters": {},
   "duration": 185.112876,
   "end_time": "2022-04-16T17:01:37.553573",
   "environment_variables": {},
   "exception": null,
   "input_path": "__notebook__.ipynb",
   "output_path": "__notebook__.ipynb",
   "parameters": {},
   "start_time": "2022-04-16T16:58:32.440697",
   "version": "2.3.4"
  }
 },
 "nbformat_minor": 5,
 "nbformat": 4,
 "cells": [
  {
   "cell_type": "markdown",
   "source": [
    "Radek posted about this [here](https://www.kaggle.com/competitions/h-and-m-personalized-fashion-recommendations/discussion/309220), and linked to a GitHub repo with the code.\n",
    "\n",
    "I just transferred that code here to Kaggle notebooks, that's all."
   ],
   "metadata": {
    "papermill": {
     "duration": 0.052947,
     "end_time": "2022-04-16T16:58:42.297492",
     "exception": false,
     "start_time": "2022-04-16T16:58:42.244545",
     "status": "completed"
    },
    "tags": []
   },
   "id": "1c494b88382cd063"
  },
  {
   "cell_type": "code",
   "source": [
    "import numpy as np\n",
    "\n",
    "def apk(actual, predicted, k=10):\n",
    "    \"\"\"\n",
    "    Computes the average precision at k.\n",
    "\n",
    "    This function computes the average prescision at k between two lists of\n",
    "    items.\n",
    "\n",
    "    Parameters\n",
    "    ----------\n",
    "    actual : list\n",
    "             A list of elements that are to be predicted (order doesn't matter)\n",
    "    predicted : list\n",
    "                A list of predicted elements (order does matter)\n",
    "    k : int, optional\n",
    "        The maximum number of predicted elements\n",
    "\n",
    "    Returns\n",
    "    -------\n",
    "    score : double\n",
    "            The average precision at k over the input lists\n",
    "\n",
    "    \"\"\"\n",
    "    if len(predicted)>k:\n",
    "        predicted = predicted[:k]\n",
    "\n",
    "    score = 0.0\n",
    "    num_hits = 0.0\n",
    "\n",
    "    for i,p in enumerate(predicted):\n",
    "        if p in actual and p not in predicted[:i]:\n",
    "            num_hits += 1.0\n",
    "            score += num_hits / (i+1.0)\n",
    "\n",
    "    if not actual:\n",
    "        return 0.0\n",
    "\n",
    "    return score / min(len(actual), k)\n",
    "\n",
    "def mapk(actual, predicted, k=10):\n",
    "    \"\"\"\n",
    "    Computes the mean average precision at k.\n",
    "\n",
    "    This function computes the mean average prescision at k between two lists\n",
    "    of lists of items.\n",
    "\n",
    "    Parameters\n",
    "    ----------\n",
    "    actual : list\n",
    "             A list of lists of elements that are to be predicted \n",
    "             (order doesn't matter in the lists)\n",
    "    predicted : list\n",
    "                A list of lists of predicted elements\n",
    "                (order matters in the lists)\n",
    "    k : int, optional\n",
    "        The maximum number of predicted elements\n",
    "\n",
    "    Returns\n",
    "    -------\n",
    "    score : double\n",
    "            The mean average precision at k over the input lists\n",
    "\n",
    "    \"\"\"\n",
    "    return np.mean([apk(a,p,k) for a,p in zip(actual, predicted)])"
   ],
   "metadata": {
    "papermill": {
     "duration": 0.085968,
     "end_time": "2022-04-16T16:58:42.429535",
     "exception": false,
     "start_time": "2022-04-16T16:58:42.343567",
     "status": "completed"
    },
    "tags": [],
    "execution": {
     "iopub.status.busy": "2023-10-11T08:02:33.314155Z",
     "iopub.execute_input": "2023-10-11T08:02:33.314553Z",
     "iopub.status.idle": "2023-10-11T08:02:33.324352Z",
     "shell.execute_reply.started": "2023-10-11T08:02:33.314527Z",
     "shell.execute_reply": "2023-10-11T08:02:33.323182Z"
    },
    "trusted": true,
    "ExecuteTime": {
     "end_time": "2023-11-29T03:08:53.511212800Z",
     "start_time": "2023-11-29T03:08:53.310484700Z"
    }
   },
   "execution_count": 63,
   "outputs": [],
   "id": "2b9ff34659d7d9c3"
  },
  {
   "cell_type": "code",
   "source": [
    "from sklearn.base import BaseEstimator, TransformerMixin\n",
    "import numpy as np\n",
    "\n",
    "# https://www.kaggle.com/c/h-and-m-personalized-fashion-recommendations/discussion/308635\n",
    "def customer_hex_id_to_int(series):\n",
    "    return series.str[-16:].apply(hex_id_to_int)\n",
    "\n",
    "def hex_id_to_int(str):\n",
    "    return int(str[-16:], 16)\n",
    "\n",
    "def article_id_str_to_int(series):\n",
    "    return series.astype('int32')\n",
    "\n",
    "def article_id_int_to_str(series):\n",
    "    return '0' + series.astype('str')\n",
    "\n",
    "class Categorize(BaseEstimator, TransformerMixin):\n",
    "    def __init__(self, min_examples=0):\n",
    "        self.min_examples = min_examples\n",
    "        self.categories = []\n",
    "        \n",
    "    def fit(self, X):\n",
    "        for i in range(X.shape[1]):\n",
    "            vc = X.iloc[:, i].value_counts()\n",
    "            self.categories.append(vc[vc > self.min_examples].index.tolist())\n",
    "        return self\n",
    "\n",
    "    def transform(self, X):\n",
    "        data = {X.columns[i]: pd.Categorical(X.iloc[:, i], categories=self.categories[i]).codes for i in range(X.shape[1])}\n",
    "        return pd.DataFrame(data=data)\n",
    "\n",
    "\n",
    "def calculate_apk(list_of_preds, list_of_gts):\n",
    "    # for fast validation this can be changed to operate on dicts of {'cust_id_int': [art_id_int, ...]}\n",
    "    # using 'data/val_week_purchases_by_cust.pkl'\n",
    "    apks = []\n",
    "    for preds, gt in zip(list_of_preds, list_of_gts):\n",
    "        apks.append(apk(gt, preds, k=12))\n",
    "    return np.mean(apks)\n",
    "\n",
    "def eval_sub(sub_csv, skip_cust_with_no_purchases=True):\n",
    "    sub=pd.read_csv(sub_csv)\n",
    "    validation_set=pd.read_parquet('data/validation_ground_truth.parquet')\n",
    "\n",
    "    apks = []\n",
    "\n",
    "    no_purchases_pattern = []\n",
    "    for pred, gt in zip(sub.prediction.str.split(), validation_set.prediction.str.split()):\n",
    "        if skip_cust_with_no_purchases and (gt == no_purchases_pattern): continue\n",
    "        apks.append(apk(gt, pred, k=12))\n",
    "    return np.mean(apks)"
   ],
   "metadata": {
    "papermill": {
     "duration": 1.348449,
     "end_time": "2022-04-16T16:58:43.828990",
     "exception": false,
     "start_time": "2022-04-16T16:58:42.480541",
     "status": "completed"
    },
    "tags": [],
    "execution": {
     "iopub.status.busy": "2023-10-11T08:02:33.363111Z",
     "iopub.execute_input": "2023-10-11T08:02:33.363887Z",
     "iopub.status.idle": "2023-10-11T08:02:33.430110Z",
     "shell.execute_reply.started": "2023-10-11T08:02:33.363843Z",
     "shell.execute_reply": "2023-10-11T08:02:33.429142Z"
    },
    "trusted": true,
    "ExecuteTime": {
     "end_time": "2023-11-29T03:08:53.748032300Z",
     "start_time": "2023-11-29T03:08:53.315485Z"
    }
   },
   "execution_count": 64,
   "outputs": [],
   "id": "a3e90c217d7a3257"
  },
  {
   "cell_type": "code",
   "source": [
    "import pandas as pd\n",
    "import time\n",
    "\n",
    "transactions = pd.read_parquet('../input/transactions_train.parquet')\n",
    "customers = pd.read_parquet('../input/customers.parquet')\n",
    "articles = pd.read_parquet('../input/articles.parquet')\n",
    "\n",
    "test_week = transactions.week.max() + 1\n",
    "transactions = transactions[transactions.week > transactions.week.max() - 10]"
   ],
   "metadata": {
    "papermill": {
     "duration": 9.279307,
     "end_time": "2022-04-16T16:58:53.289550",
     "exception": false,
     "start_time": "2022-04-16T16:58:44.010243",
     "status": "completed"
    },
    "tags": [],
    "execution": {
     "iopub.status.busy": "2023-10-11T08:02:33.432368Z",
     "iopub.execute_input": "2023-10-11T08:02:33.433121Z",
     "iopub.status.idle": "2023-10-11T08:02:37.691627Z",
     "shell.execute_reply.started": "2023-10-11T08:02:33.433081Z",
     "shell.execute_reply": "2023-10-11T08:02:37.690543Z"
    },
    "trusted": true,
    "ExecuteTime": {
     "end_time": "2023-11-29T03:08:55.063497400Z",
     "start_time": "2023-11-29T03:08:53.329495300Z"
    }
   },
   "execution_count": 65,
   "outputs": [],
   "id": "ea3486ea109915fd"
  },
  {
   "cell_type": "markdown",
   "source": [
    "# Generating candidates"
   ],
   "metadata": {
    "papermill": {
     "duration": 0.04664,
     "end_time": "2022-04-16T16:58:53.778482",
     "exception": false,
     "start_time": "2022-04-16T16:58:53.731842",
     "status": "completed"
    },
    "tags": []
   },
   "id": "db3c9bcadb9cda9b"
  },
  {
   "cell_type": "markdown",
   "source": [
    "### Last purchase candidates"
   ],
   "metadata": {
    "papermill": {
     "duration": 0.047255,
     "end_time": "2022-04-16T16:58:53.872805",
     "exception": false,
     "start_time": "2022-04-16T16:58:53.825550",
     "status": "completed"
    },
    "tags": []
   },
   "id": "b53210a64303217c"
  },
  {
   "cell_type": "code",
   "source": [
    "c2weeks = transactions.groupby('customer_id')['week'].unique()\n",
    "c2weeks2shifted_weeks = {}\n",
    "\n",
    "for c_id, weeks in c2weeks.items():\n",
    "    c2weeks2shifted_weeks[c_id] = {}\n",
    "    for i in range(weeks.shape[0]-1):\n",
    "        c2weeks2shifted_weeks[c_id][weeks[i]] = weeks[i+1]\n",
    "    c2weeks2shifted_weeks[c_id][weeks[-1]] = test_week\n",
    "    \n",
    "candidates_last_purchase = transactions.copy()\n",
    "weeks = []\n",
    "for i, (c_id, week) in enumerate(zip(transactions['customer_id'], transactions['week'])):\n",
    "    weeks.append(c2weeks2shifted_weeks[c_id][week])\n",
    "candidates_last_purchase.week=weeks"
   ],
   "metadata": {
    "papermill": {
     "duration": 8.716794,
     "end_time": "2022-04-16T16:59:25.784593",
     "exception": false,
     "start_time": "2022-04-16T16:59:17.067799",
     "status": "completed"
    },
    "tags": [],
    "execution": {
     "iopub.status.busy": "2023-10-11T08:03:04.442232Z",
     "iopub.execute_input": "2023-10-11T08:03:04.442523Z",
     "iopub.status.idle": "2023-10-11T08:03:22.614016Z",
     "shell.execute_reply.started": "2023-10-11T08:03:04.442499Z",
     "shell.execute_reply": "2023-10-11T08:03:22.612552Z"
    },
    "trusted": true,
    "ExecuteTime": {
     "end_time": "2023-11-29T03:09:10.677402300Z",
     "start_time": "2023-11-29T03:08:55.066429400Z"
    }
   },
   "execution_count": 66,
   "outputs": [],
   "id": "9fd4547c64950724"
  },
  {
   "cell_type": "code",
   "execution_count": 67,
   "outputs": [
    {
     "data": {
      "text/plain": "              t_dat           customer_id  article_id     price  \\\n29030503 2020-07-15       272412481300040   778064028  0.008458   \n29030504 2020-07-15       272412481300040   816592008  0.016932   \n29030505 2020-07-15       272412481300040   621381021  0.033881   \n29030506 2020-07-15       272412481300040   817477003  0.025407   \n29030507 2020-07-15       272412481300040   899088002  0.025407   \n...             ...                   ...         ...       ...   \n31774722 2020-09-22  18439937050817258297   891591003  0.084729   \n31774723 2020-09-22  18439937050817258297   869706005  0.084729   \n31779097 2020-09-22  18440902715633436014   918894002  0.016932   \n31779098 2020-09-22  18440902715633436014   761269001  0.016932   \n31780475 2020-09-22  18443633011701112574   914868002  0.033881   \n\n          sales_channel_id  week  \n29030503                 1    95  \n29030504                 1    95  \n29030505                 1    95  \n29030506                 1    95  \n29030507                 1    95  \n...                    ...   ...  \n31774722                 2   104  \n31774723                 2   104  \n31779097                 1   104  \n31779098                 1   104  \n31780475                 1   104  \n\n[2762872 rows x 6 columns]",
      "text/html": "<div>\n<style scoped>\n    .dataframe tbody tr th:only-of-type {\n        vertical-align: middle;\n    }\n\n    .dataframe tbody tr th {\n        vertical-align: top;\n    }\n\n    .dataframe thead th {\n        text-align: right;\n    }\n</style>\n<table border=\"1\" class=\"dataframe\">\n  <thead>\n    <tr style=\"text-align: right;\">\n      <th></th>\n      <th>t_dat</th>\n      <th>customer_id</th>\n      <th>article_id</th>\n      <th>price</th>\n      <th>sales_channel_id</th>\n      <th>week</th>\n    </tr>\n  </thead>\n  <tbody>\n    <tr>\n      <th>29030503</th>\n      <td>2020-07-15</td>\n      <td>272412481300040</td>\n      <td>778064028</td>\n      <td>0.008458</td>\n      <td>1</td>\n      <td>95</td>\n    </tr>\n    <tr>\n      <th>29030504</th>\n      <td>2020-07-15</td>\n      <td>272412481300040</td>\n      <td>816592008</td>\n      <td>0.016932</td>\n      <td>1</td>\n      <td>95</td>\n    </tr>\n    <tr>\n      <th>29030505</th>\n      <td>2020-07-15</td>\n      <td>272412481300040</td>\n      <td>621381021</td>\n      <td>0.033881</td>\n      <td>1</td>\n      <td>95</td>\n    </tr>\n    <tr>\n      <th>29030506</th>\n      <td>2020-07-15</td>\n      <td>272412481300040</td>\n      <td>817477003</td>\n      <td>0.025407</td>\n      <td>1</td>\n      <td>95</td>\n    </tr>\n    <tr>\n      <th>29030507</th>\n      <td>2020-07-15</td>\n      <td>272412481300040</td>\n      <td>899088002</td>\n      <td>0.025407</td>\n      <td>1</td>\n      <td>95</td>\n    </tr>\n    <tr>\n      <th>...</th>\n      <td>...</td>\n      <td>...</td>\n      <td>...</td>\n      <td>...</td>\n      <td>...</td>\n      <td>...</td>\n    </tr>\n    <tr>\n      <th>31774722</th>\n      <td>2020-09-22</td>\n      <td>18439937050817258297</td>\n      <td>891591003</td>\n      <td>0.084729</td>\n      <td>2</td>\n      <td>104</td>\n    </tr>\n    <tr>\n      <th>31774723</th>\n      <td>2020-09-22</td>\n      <td>18439937050817258297</td>\n      <td>869706005</td>\n      <td>0.084729</td>\n      <td>2</td>\n      <td>104</td>\n    </tr>\n    <tr>\n      <th>31779097</th>\n      <td>2020-09-22</td>\n      <td>18440902715633436014</td>\n      <td>918894002</td>\n      <td>0.016932</td>\n      <td>1</td>\n      <td>104</td>\n    </tr>\n    <tr>\n      <th>31779098</th>\n      <td>2020-09-22</td>\n      <td>18440902715633436014</td>\n      <td>761269001</td>\n      <td>0.016932</td>\n      <td>1</td>\n      <td>104</td>\n    </tr>\n    <tr>\n      <th>31780475</th>\n      <td>2020-09-22</td>\n      <td>18443633011701112574</td>\n      <td>914868002</td>\n      <td>0.033881</td>\n      <td>1</td>\n      <td>104</td>\n    </tr>\n  </tbody>\n</table>\n<p>2762872 rows × 6 columns</p>\n</div>"
     },
     "execution_count": 67,
     "metadata": {},
     "output_type": "execute_result"
    }
   ],
   "source": [
    "transactions"
   ],
   "metadata": {
    "collapsed": false,
    "ExecuteTime": {
     "end_time": "2023-11-29T03:09:10.719414500Z",
     "start_time": "2023-11-29T03:09:10.677402300Z"
    }
   },
   "id": "d6c4a5b428f91499"
  },
  {
   "cell_type": "code",
   "execution_count": 68,
   "outputs": [
    {
     "data": {
      "text/plain": "              t_dat           customer_id  article_id     price  \\\n29030503 2020-07-15       272412481300040   778064028  0.008458   \n29030504 2020-07-15       272412481300040   816592008  0.016932   \n29030505 2020-07-15       272412481300040   621381021  0.033881   \n29030506 2020-07-15       272412481300040   817477003  0.025407   \n29030507 2020-07-15       272412481300040   899088002  0.025407   \n...             ...                   ...         ...       ...   \n31774722 2020-09-22  18439937050817258297   891591003  0.084729   \n31774723 2020-09-22  18439937050817258297   869706005  0.084729   \n31779097 2020-09-22  18440902715633436014   918894002  0.016932   \n31779098 2020-09-22  18440902715633436014   761269001  0.016932   \n31780475 2020-09-22  18443633011701112574   914868002  0.033881   \n\n          sales_channel_id  week  \n29030503                 1    96  \n29030504                 1    96  \n29030505                 1    96  \n29030506                 1    96  \n29030507                 1    96  \n...                    ...   ...  \n31774722                 2   105  \n31774723                 2   105  \n31779097                 1   105  \n31779098                 1   105  \n31780475                 1   105  \n\n[2762872 rows x 6 columns]",
      "text/html": "<div>\n<style scoped>\n    .dataframe tbody tr th:only-of-type {\n        vertical-align: middle;\n    }\n\n    .dataframe tbody tr th {\n        vertical-align: top;\n    }\n\n    .dataframe thead th {\n        text-align: right;\n    }\n</style>\n<table border=\"1\" class=\"dataframe\">\n  <thead>\n    <tr style=\"text-align: right;\">\n      <th></th>\n      <th>t_dat</th>\n      <th>customer_id</th>\n      <th>article_id</th>\n      <th>price</th>\n      <th>sales_channel_id</th>\n      <th>week</th>\n    </tr>\n  </thead>\n  <tbody>\n    <tr>\n      <th>29030503</th>\n      <td>2020-07-15</td>\n      <td>272412481300040</td>\n      <td>778064028</td>\n      <td>0.008458</td>\n      <td>1</td>\n      <td>96</td>\n    </tr>\n    <tr>\n      <th>29030504</th>\n      <td>2020-07-15</td>\n      <td>272412481300040</td>\n      <td>816592008</td>\n      <td>0.016932</td>\n      <td>1</td>\n      <td>96</td>\n    </tr>\n    <tr>\n      <th>29030505</th>\n      <td>2020-07-15</td>\n      <td>272412481300040</td>\n      <td>621381021</td>\n      <td>0.033881</td>\n      <td>1</td>\n      <td>96</td>\n    </tr>\n    <tr>\n      <th>29030506</th>\n      <td>2020-07-15</td>\n      <td>272412481300040</td>\n      <td>817477003</td>\n      <td>0.025407</td>\n      <td>1</td>\n      <td>96</td>\n    </tr>\n    <tr>\n      <th>29030507</th>\n      <td>2020-07-15</td>\n      <td>272412481300040</td>\n      <td>899088002</td>\n      <td>0.025407</td>\n      <td>1</td>\n      <td>96</td>\n    </tr>\n    <tr>\n      <th>...</th>\n      <td>...</td>\n      <td>...</td>\n      <td>...</td>\n      <td>...</td>\n      <td>...</td>\n      <td>...</td>\n    </tr>\n    <tr>\n      <th>31774722</th>\n      <td>2020-09-22</td>\n      <td>18439937050817258297</td>\n      <td>891591003</td>\n      <td>0.084729</td>\n      <td>2</td>\n      <td>105</td>\n    </tr>\n    <tr>\n      <th>31774723</th>\n      <td>2020-09-22</td>\n      <td>18439937050817258297</td>\n      <td>869706005</td>\n      <td>0.084729</td>\n      <td>2</td>\n      <td>105</td>\n    </tr>\n    <tr>\n      <th>31779097</th>\n      <td>2020-09-22</td>\n      <td>18440902715633436014</td>\n      <td>918894002</td>\n      <td>0.016932</td>\n      <td>1</td>\n      <td>105</td>\n    </tr>\n    <tr>\n      <th>31779098</th>\n      <td>2020-09-22</td>\n      <td>18440902715633436014</td>\n      <td>761269001</td>\n      <td>0.016932</td>\n      <td>1</td>\n      <td>105</td>\n    </tr>\n    <tr>\n      <th>31780475</th>\n      <td>2020-09-22</td>\n      <td>18443633011701112574</td>\n      <td>914868002</td>\n      <td>0.033881</td>\n      <td>1</td>\n      <td>105</td>\n    </tr>\n  </tbody>\n</table>\n<p>2762872 rows × 6 columns</p>\n</div>"
     },
     "execution_count": 68,
     "metadata": {},
     "output_type": "execute_result"
    }
   ],
   "source": [
    "candidates_last_purchase"
   ],
   "metadata": {
    "collapsed": false,
    "ExecuteTime": {
     "end_time": "2023-11-29T03:09:10.769431100Z",
     "start_time": "2023-11-29T03:09:10.707903400Z"
    }
   },
   "id": "8088b3f57ee52594"
  },
  {
   "cell_type": "code",
   "execution_count": 69,
   "outputs": [],
   "source": [
    "# generate personalized candidates for each customer based on three features: age, index_group_name and mean purchase price of the customer.\n",
    "\n",
    "# first create mean price per customer\n",
    "mean_price_per_c = transactions.groupby('customer_id')['price'].mean().rename('mean_price_per_c').reset_index()\n",
    "# figure out the customers preferred index group name by looking at past transactions articles' index_group_name\n",
    "ttransactions = pd.merge(transactions, articles[['article_id', 'index_group_name']], on='article_id', how='left')\n",
    "# per customer count the number of purchases of each index_group_name\n",
    "c2index_group_name = ttransactions.groupby('customer_id')['index_group_name'].value_counts().rename('count').reset_index()\n",
    "c2index_group_name = c2index_group_name.sort_values('count', ascending=False).groupby('customer_id').head(1).rename(columns={'index_group_name': 'highest_count_ign_per_c'})\n",
    "# merge the mean_price_per_c and c2index_group_name dataframes\n",
    "t = pd.merge(c2index_group_name[['customer_id', 'highest_count_ign_per_c']], mean_price_per_c, on='customer_id', how='left')\n",
    "\n",
    "# per article find the average age of the customers who bought it\n",
    "transactions_with_age = pd.merge(transactions, customers[['customer_id', 'age']], on='customer_id', how='left')\n",
    "mean_age_per_a = transactions_with_age.groupby('article_id')['age'].mean().rename('mean_age_per_a').astype('int8').reset_index()\n",
    "\n",
    "# merge to get the mean_price_per_c, highest_count_ign_per_c and mean_age_per_a columns\n",
    "transactions_with_age_feat = pd.merge(transactions_with_age, t, on='customer_id', how='left')\n",
    "transactions_with_3feat = pd.merge(transactions_with_age_feat, mean_age_per_a, on='article_id', how='left')\n",
    "transactions_with_3feat = pd.merge(transactions_with_3feat, articles[['article_id', 'index_group_name']], on='article_id', how='left')"
   ],
   "metadata": {
    "collapsed": false,
    "ExecuteTime": {
     "end_time": "2023-11-29T03:09:12.550349100Z",
     "start_time": "2023-11-29T03:09:10.726490100Z"
    }
   },
   "id": "3a74564cfe40fb2c"
  },
  {
   "cell_type": "code",
   "execution_count": 70,
   "outputs": [
    {
     "data": {
      "text/plain": "             t_dat           customer_id  article_id     price  \\\n0       2020-07-15       272412481300040   778064028  0.008458   \n1       2020-07-15       272412481300040   816592008  0.016932   \n2       2020-07-15       272412481300040   621381021  0.033881   \n3       2020-07-15       272412481300040   817477003  0.025407   \n4       2020-07-15       272412481300040   899088002  0.025407   \n...            ...                   ...         ...       ...   \n2762867 2020-09-22  18439937050817258297   891591003  0.084729   \n2762868 2020-09-22  18439937050817258297   869706005  0.084729   \n2762869 2020-09-22  18440902715633436014   918894002  0.016932   \n2762870 2020-09-22  18440902715633436014   761269001  0.016932   \n2762871 2020-09-22  18443633011701112574   914868002  0.033881   \n\n         sales_channel_id  week  age  highest_count_ign_per_c  \\\n0                       1    95   48                        0   \n1                       1    95   48                        0   \n2                       1    95   48                        0   \n3                       1    95   48                        0   \n4                       1    95   48                        0   \n...                   ...   ...  ...                      ...   \n2762867                 2   104   49                        0   \n2762868                 2   104   49                        0   \n2762869                 1   104   18                        0   \n2762870                 1   104   18                        0   \n2762871                 1   104   58                        0   \n\n         mean_price_per_c  mean_age_per_a  index_group_name  \n0                0.030597              32                 0  \n1                0.030597              37                 2  \n2                0.030597              35                 2  \n3                0.030597              33                 0  \n4                0.030597              35                 2  \n...                   ...             ...               ...  \n2762867          0.040379              41                 0  \n2762868          0.040379              39                 0  \n2762869          0.028232              30                 0  \n2762870          0.028232              33                 0  \n2762871          0.032186              33                 2  \n\n[2762872 rows x 11 columns]",
      "text/html": "<div>\n<style scoped>\n    .dataframe tbody tr th:only-of-type {\n        vertical-align: middle;\n    }\n\n    .dataframe tbody tr th {\n        vertical-align: top;\n    }\n\n    .dataframe thead th {\n        text-align: right;\n    }\n</style>\n<table border=\"1\" class=\"dataframe\">\n  <thead>\n    <tr style=\"text-align: right;\">\n      <th></th>\n      <th>t_dat</th>\n      <th>customer_id</th>\n      <th>article_id</th>\n      <th>price</th>\n      <th>sales_channel_id</th>\n      <th>week</th>\n      <th>age</th>\n      <th>highest_count_ign_per_c</th>\n      <th>mean_price_per_c</th>\n      <th>mean_age_per_a</th>\n      <th>index_group_name</th>\n    </tr>\n  </thead>\n  <tbody>\n    <tr>\n      <th>0</th>\n      <td>2020-07-15</td>\n      <td>272412481300040</td>\n      <td>778064028</td>\n      <td>0.008458</td>\n      <td>1</td>\n      <td>95</td>\n      <td>48</td>\n      <td>0</td>\n      <td>0.030597</td>\n      <td>32</td>\n      <td>0</td>\n    </tr>\n    <tr>\n      <th>1</th>\n      <td>2020-07-15</td>\n      <td>272412481300040</td>\n      <td>816592008</td>\n      <td>0.016932</td>\n      <td>1</td>\n      <td>95</td>\n      <td>48</td>\n      <td>0</td>\n      <td>0.030597</td>\n      <td>37</td>\n      <td>2</td>\n    </tr>\n    <tr>\n      <th>2</th>\n      <td>2020-07-15</td>\n      <td>272412481300040</td>\n      <td>621381021</td>\n      <td>0.033881</td>\n      <td>1</td>\n      <td>95</td>\n      <td>48</td>\n      <td>0</td>\n      <td>0.030597</td>\n      <td>35</td>\n      <td>2</td>\n    </tr>\n    <tr>\n      <th>3</th>\n      <td>2020-07-15</td>\n      <td>272412481300040</td>\n      <td>817477003</td>\n      <td>0.025407</td>\n      <td>1</td>\n      <td>95</td>\n      <td>48</td>\n      <td>0</td>\n      <td>0.030597</td>\n      <td>33</td>\n      <td>0</td>\n    </tr>\n    <tr>\n      <th>4</th>\n      <td>2020-07-15</td>\n      <td>272412481300040</td>\n      <td>899088002</td>\n      <td>0.025407</td>\n      <td>1</td>\n      <td>95</td>\n      <td>48</td>\n      <td>0</td>\n      <td>0.030597</td>\n      <td>35</td>\n      <td>2</td>\n    </tr>\n    <tr>\n      <th>...</th>\n      <td>...</td>\n      <td>...</td>\n      <td>...</td>\n      <td>...</td>\n      <td>...</td>\n      <td>...</td>\n      <td>...</td>\n      <td>...</td>\n      <td>...</td>\n      <td>...</td>\n      <td>...</td>\n    </tr>\n    <tr>\n      <th>2762867</th>\n      <td>2020-09-22</td>\n      <td>18439937050817258297</td>\n      <td>891591003</td>\n      <td>0.084729</td>\n      <td>2</td>\n      <td>104</td>\n      <td>49</td>\n      <td>0</td>\n      <td>0.040379</td>\n      <td>41</td>\n      <td>0</td>\n    </tr>\n    <tr>\n      <th>2762868</th>\n      <td>2020-09-22</td>\n      <td>18439937050817258297</td>\n      <td>869706005</td>\n      <td>0.084729</td>\n      <td>2</td>\n      <td>104</td>\n      <td>49</td>\n      <td>0</td>\n      <td>0.040379</td>\n      <td>39</td>\n      <td>0</td>\n    </tr>\n    <tr>\n      <th>2762869</th>\n      <td>2020-09-22</td>\n      <td>18440902715633436014</td>\n      <td>918894002</td>\n      <td>0.016932</td>\n      <td>1</td>\n      <td>104</td>\n      <td>18</td>\n      <td>0</td>\n      <td>0.028232</td>\n      <td>30</td>\n      <td>0</td>\n    </tr>\n    <tr>\n      <th>2762870</th>\n      <td>2020-09-22</td>\n      <td>18440902715633436014</td>\n      <td>761269001</td>\n      <td>0.016932</td>\n      <td>1</td>\n      <td>104</td>\n      <td>18</td>\n      <td>0</td>\n      <td>0.028232</td>\n      <td>33</td>\n      <td>0</td>\n    </tr>\n    <tr>\n      <th>2762871</th>\n      <td>2020-09-22</td>\n      <td>18443633011701112574</td>\n      <td>914868002</td>\n      <td>0.033881</td>\n      <td>1</td>\n      <td>104</td>\n      <td>58</td>\n      <td>0</td>\n      <td>0.032186</td>\n      <td>33</td>\n      <td>2</td>\n    </tr>\n  </tbody>\n</table>\n<p>2762872 rows × 11 columns</p>\n</div>"
     },
     "execution_count": 70,
     "metadata": {},
     "output_type": "execute_result"
    }
   ],
   "source": [
    "transactions_with_3feat"
   ],
   "metadata": {
    "collapsed": false,
    "ExecuteTime": {
     "end_time": "2023-11-29T03:09:12.571472Z",
     "start_time": "2023-11-29T03:09:12.551348900Z"
    }
   },
   "id": "6f94e8d5eb113a4f"
  },
  {
   "cell_type": "code",
   "execution_count": 71,
   "outputs": [
    {
     "data": {
      "text/plain": "week  customer_id         \n95    28847241659200          0.029644\n      200292573348128         0.034075\n      272412481300040         0.022017\n      857913002275398         0.019757\n      1456826891333599        0.014390\n                                ...   \n104   18444954504588539615    0.016932\n      18445164350380731040    0.042356\n      18445340048433064259    0.050831\n      18445641720816255142    0.056884\n      18446737527580148316    0.023712\nName: price, Length: 755710, dtype: float32"
     },
     "execution_count": 71,
     "metadata": {},
     "output_type": "execute_result"
    }
   ],
   "source": [
    "# print price of transactions_with_3feat grouped by week and then customer_id\n",
    "transactions_with_3feat.groupby(['week', 'customer_id'])['price'].mean()"
   ],
   "metadata": {
    "collapsed": false,
    "ExecuteTime": {
     "end_time": "2023-11-29T03:09:12.818290600Z",
     "start_time": "2023-11-29T03:09:12.567165100Z"
    }
   },
   "id": "d43638a4c3a3f6bf"
  },
  {
   "cell_type": "code",
   "execution_count": 72,
   "outputs": [],
   "source": [
    "# merge t with customers columns customer_id, age on customer_id\n",
    "t_merged = pd.merge(t, customers[['customer_id', 'age']], on='customer_id', how='left')"
   ],
   "metadata": {
    "collapsed": false,
    "ExecuteTime": {
     "end_time": "2023-11-29T03:09:13.005487400Z",
     "start_time": "2023-11-29T03:09:12.817291100Z"
    }
   },
   "id": "d87e010afeabddc1"
  },
  {
   "cell_type": "code",
   "execution_count": 73,
   "outputs": [
    {
     "name": "stdout",
     "output_type": "stream",
     "text": [
      "Chunk processed in 18.00 seconds\n"
     ]
    }
   ],
   "source": [
    "# Create a DataFrame with unique articles\n",
    "unique_articles = transactions_with_3feat[['t_dat', 'article_id', 'price', 'index_group_name', 'week']].drop_duplicates()\n",
    "# we only keep latest purchase of each article\n",
    "unique_articles = unique_articles.sort_values('t_dat', ascending=False).drop_duplicates('article_id').drop(columns=['t_dat'])\n",
    "\n",
    "chunk_size = 1000  # Define the number of customers to process at once\n",
    "\n",
    "unique_customers = mean_price_per_c['customer_id'].unique()[:1000]\n",
    "\n",
    "# Process customers in chunks\n",
    "chunks = [unique_customers[i:i + chunk_size] for i in range(0, len(unique_customers), chunk_size)]\n",
    "\n",
    "result_candidates_3feat = pd.DataFrame()  # DataFrame to store final candidates\n",
    "\n",
    "result_candidates_3feat_chunks = []\n",
    "\n",
    "for customer_chunk in chunks:\n",
    "    start = time.time()\n",
    "    # Cartesian product of unique articles and customers, since we want to choose candidates out of all unique articles for each customer\n",
    "    candidate_articles = pd.merge(\n",
    "        unique_articles,\n",
    "        pd.DataFrame({'customer_id': customer_chunk}),\n",
    "        how='cross'\n",
    "    )\n",
    "    # get the necessary columns to filter out the candidates\n",
    "    candidate_articles = pd.merge(candidate_articles, t_merged, on='customer_id', how='left')\n",
    "    candidate_articles = pd.merge(candidate_articles, mean_age_per_a, on='article_id', how='left')\n",
    "    \n",
    "    # Select all candidates per customer_id where highest_count_ign_per_c is equal to index_group_name\n",
    "    candidate_articles = candidate_articles[candidate_articles['highest_count_ign_per_c']==candidate_articles['index_group_name']]\n",
    "    \n",
    "    # Calculate price difference for each combination\n",
    "    candidate_articles['price_difference'] = abs(candidate_articles['mean_price_per_c'] - candidate_articles['price'])\n",
    "    # Rank articles within each customer group based on price difference\n",
    "    candidate_articles['price_rank'] = (\n",
    "        candidate_articles\n",
    "        .groupby(['week', 'customer_id'])['price_difference']\n",
    "        .rank(ascending=True, method='min')\n",
    "    )\n",
    "    # Select the top 100 candidates for each customer\n",
    "    top_candidates = (\n",
    "        candidate_articles\n",
    "        .sort_values(by=['customer_id', 'week', 'price_rank'])\n",
    "        .groupby(['week', 'customer_id'])\n",
    "        .head(50)\n",
    "    )\n",
    "    \n",
    "    # Calculate age difference for each combination\n",
    "    top_candidates['age_difference'] = abs(top_candidates['age'] - top_candidates['mean_age_per_a'])\n",
    "    # Rank articles within each customer group based on age difference\n",
    "    top_candidates['age_rank'] = (\n",
    "        top_candidates\n",
    "        .groupby(['week', 'customer_id'])['age_difference']\n",
    "        .rank(ascending=True, method='min')\n",
    "    )\n",
    "    # Select the top 50 candidates for each customer based on age difference\n",
    "    top_candidates = (\n",
    "        top_candidates\n",
    "        .sort_values(by=['customer_id', 'week', 'age_rank'])\n",
    "        .groupby(['week', 'customer_id'])\n",
    "        .head(12)\n",
    "    )\n",
    "    \n",
    "    # Append current chunk's candidates to result\n",
    "    result_candidates_3feat_chunks.append(top_candidates)\n",
    "    \n",
    "    print(f'Chunk processed in {time.time() - start:.2f} seconds')\n",
    "    \n",
    "# Concatenate all chunks into the final result    \n",
    "result_candidates_3feat = pd.concat(result_candidates_3feat_chunks, ignore_index=True)\n",
    "\n",
    "top_candidates_3feat_price = result_candidates_3feat.drop(columns=['price_difference', 'age_difference'])"
   ],
   "metadata": {
    "collapsed": false,
    "ExecuteTime": {
     "end_time": "2023-11-29T03:09:31.293731400Z",
     "start_time": "2023-11-29T03:09:13.009487Z"
    }
   },
   "id": "44409c4013498fda"
  },
  {
   "cell_type": "code",
   "execution_count": 74,
   "outputs": [
    {
     "data": {
      "text/plain": "        article_id     price  index_group_name  week        customer_id  \\\n0        754852002  0.050831                 0    95     28847241659200   \n1        747764002  0.047441                 0    95     28847241659200   \n2        685944002  0.042356                 0    95     28847241659200   \n3        746344001  0.033881                 0    95     28847241659200   \n4        796042001  0.033881                 0    95     28847241659200   \n...            ...       ...               ...   ...                ...   \n119995   761406001  0.022017                 2   104  42984229297455520   \n119996   874110016  0.021339                 2   104  42984229297455520   \n119997   855686002  0.021322                 2   104  42984229297455520   \n119998   894481002  0.021169                 2   104  42984229297455520   \n119999   865482002  0.021169                 2   104  42984229297455520   \n\n        highest_count_ign_per_c  mean_price_per_c  age  mean_age_per_a  \\\n0                             0          0.046085   21              21   \n1                             0          0.046085   21              22   \n2                             0          0.046085   21              20   \n3                             0          0.046085   21              20   \n4                             0          0.046085   21              22   \n...                         ...               ...  ...             ...   \n119995                        2          0.021452   18              29   \n119996                        2          0.021452   18              30   \n119997                        2          0.021452   18              30   \n119998                        2          0.021452   18              30   \n119999                        2          0.021452   18              30   \n\n        price_rank  age_rank  \n0             21.0       1.0  \n1              2.0       2.0  \n2              7.0       2.0  \n3             36.0       2.0  \n4             36.0       2.0  \n...            ...       ...  \n119995        40.0       4.0  \n119996         3.0       9.0  \n119997         4.0       9.0  \n119998        13.0       9.0  \n119999        13.0       9.0  \n\n[120000 rows x 11 columns]",
      "text/html": "<div>\n<style scoped>\n    .dataframe tbody tr th:only-of-type {\n        vertical-align: middle;\n    }\n\n    .dataframe tbody tr th {\n        vertical-align: top;\n    }\n\n    .dataframe thead th {\n        text-align: right;\n    }\n</style>\n<table border=\"1\" class=\"dataframe\">\n  <thead>\n    <tr style=\"text-align: right;\">\n      <th></th>\n      <th>article_id</th>\n      <th>price</th>\n      <th>index_group_name</th>\n      <th>week</th>\n      <th>customer_id</th>\n      <th>highest_count_ign_per_c</th>\n      <th>mean_price_per_c</th>\n      <th>age</th>\n      <th>mean_age_per_a</th>\n      <th>price_rank</th>\n      <th>age_rank</th>\n    </tr>\n  </thead>\n  <tbody>\n    <tr>\n      <th>0</th>\n      <td>754852002</td>\n      <td>0.050831</td>\n      <td>0</td>\n      <td>95</td>\n      <td>28847241659200</td>\n      <td>0</td>\n      <td>0.046085</td>\n      <td>21</td>\n      <td>21</td>\n      <td>21.0</td>\n      <td>1.0</td>\n    </tr>\n    <tr>\n      <th>1</th>\n      <td>747764002</td>\n      <td>0.047441</td>\n      <td>0</td>\n      <td>95</td>\n      <td>28847241659200</td>\n      <td>0</td>\n      <td>0.046085</td>\n      <td>21</td>\n      <td>22</td>\n      <td>2.0</td>\n      <td>2.0</td>\n    </tr>\n    <tr>\n      <th>2</th>\n      <td>685944002</td>\n      <td>0.042356</td>\n      <td>0</td>\n      <td>95</td>\n      <td>28847241659200</td>\n      <td>0</td>\n      <td>0.046085</td>\n      <td>21</td>\n      <td>20</td>\n      <td>7.0</td>\n      <td>2.0</td>\n    </tr>\n    <tr>\n      <th>3</th>\n      <td>746344001</td>\n      <td>0.033881</td>\n      <td>0</td>\n      <td>95</td>\n      <td>28847241659200</td>\n      <td>0</td>\n      <td>0.046085</td>\n      <td>21</td>\n      <td>20</td>\n      <td>36.0</td>\n      <td>2.0</td>\n    </tr>\n    <tr>\n      <th>4</th>\n      <td>796042001</td>\n      <td>0.033881</td>\n      <td>0</td>\n      <td>95</td>\n      <td>28847241659200</td>\n      <td>0</td>\n      <td>0.046085</td>\n      <td>21</td>\n      <td>22</td>\n      <td>36.0</td>\n      <td>2.0</td>\n    </tr>\n    <tr>\n      <th>...</th>\n      <td>...</td>\n      <td>...</td>\n      <td>...</td>\n      <td>...</td>\n      <td>...</td>\n      <td>...</td>\n      <td>...</td>\n      <td>...</td>\n      <td>...</td>\n      <td>...</td>\n      <td>...</td>\n    </tr>\n    <tr>\n      <th>119995</th>\n      <td>761406001</td>\n      <td>0.022017</td>\n      <td>2</td>\n      <td>104</td>\n      <td>42984229297455520</td>\n      <td>2</td>\n      <td>0.021452</td>\n      <td>18</td>\n      <td>29</td>\n      <td>40.0</td>\n      <td>4.0</td>\n    </tr>\n    <tr>\n      <th>119996</th>\n      <td>874110016</td>\n      <td>0.021339</td>\n      <td>2</td>\n      <td>104</td>\n      <td>42984229297455520</td>\n      <td>2</td>\n      <td>0.021452</td>\n      <td>18</td>\n      <td>30</td>\n      <td>3.0</td>\n      <td>9.0</td>\n    </tr>\n    <tr>\n      <th>119997</th>\n      <td>855686002</td>\n      <td>0.021322</td>\n      <td>2</td>\n      <td>104</td>\n      <td>42984229297455520</td>\n      <td>2</td>\n      <td>0.021452</td>\n      <td>18</td>\n      <td>30</td>\n      <td>4.0</td>\n      <td>9.0</td>\n    </tr>\n    <tr>\n      <th>119998</th>\n      <td>894481002</td>\n      <td>0.021169</td>\n      <td>2</td>\n      <td>104</td>\n      <td>42984229297455520</td>\n      <td>2</td>\n      <td>0.021452</td>\n      <td>18</td>\n      <td>30</td>\n      <td>13.0</td>\n      <td>9.0</td>\n    </tr>\n    <tr>\n      <th>119999</th>\n      <td>865482002</td>\n      <td>0.021169</td>\n      <td>2</td>\n      <td>104</td>\n      <td>42984229297455520</td>\n      <td>2</td>\n      <td>0.021452</td>\n      <td>18</td>\n      <td>30</td>\n      <td>13.0</td>\n      <td>9.0</td>\n    </tr>\n  </tbody>\n</table>\n<p>120000 rows × 11 columns</p>\n</div>"
     },
     "execution_count": 74,
     "metadata": {},
     "output_type": "execute_result"
    }
   ],
   "source": [
    "top_candidates_3feat_price"
   ],
   "metadata": {
    "collapsed": false,
    "ExecuteTime": {
     "end_time": "2023-11-29T03:09:31.337120Z",
     "start_time": "2023-11-29T03:09:31.292049100Z"
    }
   },
   "id": "fd989a746b4b6fa7"
  },
  {
   "cell_type": "code",
   "execution_count": 75,
   "outputs": [
    {
     "data": {
      "text/plain": "     article_id     price  index_group_name  week      customer_id  \\\n600   578317003  0.027102                 0    95  272412481300040   \n601   690803001  0.033881                 0    95  272412481300040   \n602   559626001  0.025424                 0    95  272412481300040   \n603   594834018  0.030492                 0    95  272412481300040   \n604   757333004  0.030492                 0    95  272412481300040   \n..          ...       ...               ...   ...              ...   \n715   874816001  0.030492                 0   104  272412481300040   \n716   646490020  0.030492                 0   104  272412481300040   \n717   887761002  0.030492                 0   104  272412481300040   \n718   859736001  0.030492                 0   104  272412481300040   \n719   824997001  0.030492                 0   104  272412481300040   \n\n     highest_count_ign_per_c  mean_price_per_c  age  mean_age_per_a  \\\n600                        0          0.030597   48              48   \n601                        0          0.030597   48              47   \n602                        0          0.030597   48              47   \n603                        0          0.030597   48              46   \n604                        0          0.030597   48              50   \n..                       ...               ...  ...             ...   \n715                        0          0.030597   48              38   \n716                        0          0.030597   48              38   \n717                        0          0.030597   48              38   \n718                        0          0.030597   48              37   \n719                        0          0.030597   48              37   \n\n     price_rank  age_rank  \n600        26.0       1.0  \n601        11.0       2.0  \n602        45.0       2.0  \n603         1.0       4.0  \n604         1.0       4.0  \n..          ...       ...  \n715         3.0       8.0  \n716         3.0       8.0  \n717         3.0       8.0  \n718         3.0      11.0  \n719         3.0      11.0  \n\n[120 rows x 11 columns]",
      "text/html": "<div>\n<style scoped>\n    .dataframe tbody tr th:only-of-type {\n        vertical-align: middle;\n    }\n\n    .dataframe tbody tr th {\n        vertical-align: top;\n    }\n\n    .dataframe thead th {\n        text-align: right;\n    }\n</style>\n<table border=\"1\" class=\"dataframe\">\n  <thead>\n    <tr style=\"text-align: right;\">\n      <th></th>\n      <th>article_id</th>\n      <th>price</th>\n      <th>index_group_name</th>\n      <th>week</th>\n      <th>customer_id</th>\n      <th>highest_count_ign_per_c</th>\n      <th>mean_price_per_c</th>\n      <th>age</th>\n      <th>mean_age_per_a</th>\n      <th>price_rank</th>\n      <th>age_rank</th>\n    </tr>\n  </thead>\n  <tbody>\n    <tr>\n      <th>600</th>\n      <td>578317003</td>\n      <td>0.027102</td>\n      <td>0</td>\n      <td>95</td>\n      <td>272412481300040</td>\n      <td>0</td>\n      <td>0.030597</td>\n      <td>48</td>\n      <td>48</td>\n      <td>26.0</td>\n      <td>1.0</td>\n    </tr>\n    <tr>\n      <th>601</th>\n      <td>690803001</td>\n      <td>0.033881</td>\n      <td>0</td>\n      <td>95</td>\n      <td>272412481300040</td>\n      <td>0</td>\n      <td>0.030597</td>\n      <td>48</td>\n      <td>47</td>\n      <td>11.0</td>\n      <td>2.0</td>\n    </tr>\n    <tr>\n      <th>602</th>\n      <td>559626001</td>\n      <td>0.025424</td>\n      <td>0</td>\n      <td>95</td>\n      <td>272412481300040</td>\n      <td>0</td>\n      <td>0.030597</td>\n      <td>48</td>\n      <td>47</td>\n      <td>45.0</td>\n      <td>2.0</td>\n    </tr>\n    <tr>\n      <th>603</th>\n      <td>594834018</td>\n      <td>0.030492</td>\n      <td>0</td>\n      <td>95</td>\n      <td>272412481300040</td>\n      <td>0</td>\n      <td>0.030597</td>\n      <td>48</td>\n      <td>46</td>\n      <td>1.0</td>\n      <td>4.0</td>\n    </tr>\n    <tr>\n      <th>604</th>\n      <td>757333004</td>\n      <td>0.030492</td>\n      <td>0</td>\n      <td>95</td>\n      <td>272412481300040</td>\n      <td>0</td>\n      <td>0.030597</td>\n      <td>48</td>\n      <td>50</td>\n      <td>1.0</td>\n      <td>4.0</td>\n    </tr>\n    <tr>\n      <th>...</th>\n      <td>...</td>\n      <td>...</td>\n      <td>...</td>\n      <td>...</td>\n      <td>...</td>\n      <td>...</td>\n      <td>...</td>\n      <td>...</td>\n      <td>...</td>\n      <td>...</td>\n      <td>...</td>\n    </tr>\n    <tr>\n      <th>715</th>\n      <td>874816001</td>\n      <td>0.030492</td>\n      <td>0</td>\n      <td>104</td>\n      <td>272412481300040</td>\n      <td>0</td>\n      <td>0.030597</td>\n      <td>48</td>\n      <td>38</td>\n      <td>3.0</td>\n      <td>8.0</td>\n    </tr>\n    <tr>\n      <th>716</th>\n      <td>646490020</td>\n      <td>0.030492</td>\n      <td>0</td>\n      <td>104</td>\n      <td>272412481300040</td>\n      <td>0</td>\n      <td>0.030597</td>\n      <td>48</td>\n      <td>38</td>\n      <td>3.0</td>\n      <td>8.0</td>\n    </tr>\n    <tr>\n      <th>717</th>\n      <td>887761002</td>\n      <td>0.030492</td>\n      <td>0</td>\n      <td>104</td>\n      <td>272412481300040</td>\n      <td>0</td>\n      <td>0.030597</td>\n      <td>48</td>\n      <td>38</td>\n      <td>3.0</td>\n      <td>8.0</td>\n    </tr>\n    <tr>\n      <th>718</th>\n      <td>859736001</td>\n      <td>0.030492</td>\n      <td>0</td>\n      <td>104</td>\n      <td>272412481300040</td>\n      <td>0</td>\n      <td>0.030597</td>\n      <td>48</td>\n      <td>37</td>\n      <td>3.0</td>\n      <td>11.0</td>\n    </tr>\n    <tr>\n      <th>719</th>\n      <td>824997001</td>\n      <td>0.030492</td>\n      <td>0</td>\n      <td>104</td>\n      <td>272412481300040</td>\n      <td>0</td>\n      <td>0.030597</td>\n      <td>48</td>\n      <td>37</td>\n      <td>3.0</td>\n      <td>11.0</td>\n    </tr>\n  </tbody>\n</table>\n<p>120 rows × 11 columns</p>\n</div>"
     },
     "execution_count": 75,
     "metadata": {},
     "output_type": "execute_result"
    }
   ],
   "source": [
    "top_candidates_3feat_price[top_candidates_3feat_price['customer_id']==272412481300040]"
   ],
   "metadata": {
    "collapsed": false,
    "ExecuteTime": {
     "end_time": "2023-11-29T03:09:31.369217600Z",
     "start_time": "2023-11-29T03:09:31.309023300Z"
    }
   },
   "id": "c1d114e579f71e1d"
  },
  {
   "cell_type": "code",
   "execution_count": 76,
   "outputs": [],
   "source": [
    "top_candidates_3feat_prev_week = top_candidates_3feat_price.copy()\n",
    "top_candidates_3feat_prev_week.week += 1"
   ],
   "metadata": {
    "collapsed": false,
    "ExecuteTime": {
     "end_time": "2023-11-29T03:09:31.386185Z",
     "start_time": "2023-11-29T03:09:31.323355600Z"
    }
   },
   "id": "ca8195cb9a6c73f5"
  },
  {
   "cell_type": "code",
   "execution_count": 77,
   "outputs": [
    {
     "data": {
      "text/plain": "        article_id     price  index_group_name  week        customer_id  \\\n0        754852002  0.050831                 0    96     28847241659200   \n1        747764002  0.047441                 0    96     28847241659200   \n2        685944002  0.042356                 0    96     28847241659200   \n3        746344001  0.033881                 0    96     28847241659200   \n4        796042001  0.033881                 0    96     28847241659200   \n...            ...       ...               ...   ...                ...   \n119995   761406001  0.022017                 2   105  42984229297455520   \n119996   874110016  0.021339                 2   105  42984229297455520   \n119997   855686002  0.021322                 2   105  42984229297455520   \n119998   894481002  0.021169                 2   105  42984229297455520   \n119999   865482002  0.021169                 2   105  42984229297455520   \n\n        highest_count_ign_per_c  mean_price_per_c  age  mean_age_per_a  \\\n0                             0          0.046085   21              21   \n1                             0          0.046085   21              22   \n2                             0          0.046085   21              20   \n3                             0          0.046085   21              20   \n4                             0          0.046085   21              22   \n...                         ...               ...  ...             ...   \n119995                        2          0.021452   18              29   \n119996                        2          0.021452   18              30   \n119997                        2          0.021452   18              30   \n119998                        2          0.021452   18              30   \n119999                        2          0.021452   18              30   \n\n        price_rank  age_rank  \n0             21.0       1.0  \n1              2.0       2.0  \n2              7.0       2.0  \n3             36.0       2.0  \n4             36.0       2.0  \n...            ...       ...  \n119995        40.0       4.0  \n119996         3.0       9.0  \n119997         4.0       9.0  \n119998        13.0       9.0  \n119999        13.0       9.0  \n\n[120000 rows x 11 columns]",
      "text/html": "<div>\n<style scoped>\n    .dataframe tbody tr th:only-of-type {\n        vertical-align: middle;\n    }\n\n    .dataframe tbody tr th {\n        vertical-align: top;\n    }\n\n    .dataframe thead th {\n        text-align: right;\n    }\n</style>\n<table border=\"1\" class=\"dataframe\">\n  <thead>\n    <tr style=\"text-align: right;\">\n      <th></th>\n      <th>article_id</th>\n      <th>price</th>\n      <th>index_group_name</th>\n      <th>week</th>\n      <th>customer_id</th>\n      <th>highest_count_ign_per_c</th>\n      <th>mean_price_per_c</th>\n      <th>age</th>\n      <th>mean_age_per_a</th>\n      <th>price_rank</th>\n      <th>age_rank</th>\n    </tr>\n  </thead>\n  <tbody>\n    <tr>\n      <th>0</th>\n      <td>754852002</td>\n      <td>0.050831</td>\n      <td>0</td>\n      <td>96</td>\n      <td>28847241659200</td>\n      <td>0</td>\n      <td>0.046085</td>\n      <td>21</td>\n      <td>21</td>\n      <td>21.0</td>\n      <td>1.0</td>\n    </tr>\n    <tr>\n      <th>1</th>\n      <td>747764002</td>\n      <td>0.047441</td>\n      <td>0</td>\n      <td>96</td>\n      <td>28847241659200</td>\n      <td>0</td>\n      <td>0.046085</td>\n      <td>21</td>\n      <td>22</td>\n      <td>2.0</td>\n      <td>2.0</td>\n    </tr>\n    <tr>\n      <th>2</th>\n      <td>685944002</td>\n      <td>0.042356</td>\n      <td>0</td>\n      <td>96</td>\n      <td>28847241659200</td>\n      <td>0</td>\n      <td>0.046085</td>\n      <td>21</td>\n      <td>20</td>\n      <td>7.0</td>\n      <td>2.0</td>\n    </tr>\n    <tr>\n      <th>3</th>\n      <td>746344001</td>\n      <td>0.033881</td>\n      <td>0</td>\n      <td>96</td>\n      <td>28847241659200</td>\n      <td>0</td>\n      <td>0.046085</td>\n      <td>21</td>\n      <td>20</td>\n      <td>36.0</td>\n      <td>2.0</td>\n    </tr>\n    <tr>\n      <th>4</th>\n      <td>796042001</td>\n      <td>0.033881</td>\n      <td>0</td>\n      <td>96</td>\n      <td>28847241659200</td>\n      <td>0</td>\n      <td>0.046085</td>\n      <td>21</td>\n      <td>22</td>\n      <td>36.0</td>\n      <td>2.0</td>\n    </tr>\n    <tr>\n      <th>...</th>\n      <td>...</td>\n      <td>...</td>\n      <td>...</td>\n      <td>...</td>\n      <td>...</td>\n      <td>...</td>\n      <td>...</td>\n      <td>...</td>\n      <td>...</td>\n      <td>...</td>\n      <td>...</td>\n    </tr>\n    <tr>\n      <th>119995</th>\n      <td>761406001</td>\n      <td>0.022017</td>\n      <td>2</td>\n      <td>105</td>\n      <td>42984229297455520</td>\n      <td>2</td>\n      <td>0.021452</td>\n      <td>18</td>\n      <td>29</td>\n      <td>40.0</td>\n      <td>4.0</td>\n    </tr>\n    <tr>\n      <th>119996</th>\n      <td>874110016</td>\n      <td>0.021339</td>\n      <td>2</td>\n      <td>105</td>\n      <td>42984229297455520</td>\n      <td>2</td>\n      <td>0.021452</td>\n      <td>18</td>\n      <td>30</td>\n      <td>3.0</td>\n      <td>9.0</td>\n    </tr>\n    <tr>\n      <th>119997</th>\n      <td>855686002</td>\n      <td>0.021322</td>\n      <td>2</td>\n      <td>105</td>\n      <td>42984229297455520</td>\n      <td>2</td>\n      <td>0.021452</td>\n      <td>18</td>\n      <td>30</td>\n      <td>4.0</td>\n      <td>9.0</td>\n    </tr>\n    <tr>\n      <th>119998</th>\n      <td>894481002</td>\n      <td>0.021169</td>\n      <td>2</td>\n      <td>105</td>\n      <td>42984229297455520</td>\n      <td>2</td>\n      <td>0.021452</td>\n      <td>18</td>\n      <td>30</td>\n      <td>13.0</td>\n      <td>9.0</td>\n    </tr>\n    <tr>\n      <th>119999</th>\n      <td>865482002</td>\n      <td>0.021169</td>\n      <td>2</td>\n      <td>105</td>\n      <td>42984229297455520</td>\n      <td>2</td>\n      <td>0.021452</td>\n      <td>18</td>\n      <td>30</td>\n      <td>13.0</td>\n      <td>9.0</td>\n    </tr>\n  </tbody>\n</table>\n<p>120000 rows × 11 columns</p>\n</div>"
     },
     "execution_count": 77,
     "metadata": {},
     "output_type": "execute_result"
    }
   ],
   "source": [
    "top_candidates_3feat_prev_week"
   ],
   "metadata": {
    "collapsed": false,
    "ExecuteTime": {
     "end_time": "2023-11-29T03:09:31.406185900Z",
     "start_time": "2023-11-29T03:09:31.338121400Z"
    }
   },
   "id": "d79b38b8165c69cf"
  },
  {
   "cell_type": "code",
   "execution_count": 78,
   "outputs": [],
   "source": [
    "unique_transactions_ = transactions.groupby(['week', 'customer_id']).head(1).drop(columns=['article_id', 'price']).copy()\n",
    "# candidates_ = pd.merge(unique_transactions_, top_candidates_3feat_prev_week, on='week',)\n",
    "candidates_ = top_candidates_3feat_prev_week.copy()\n",
    "test_set_transactions_ = unique_transactions_.drop_duplicates('customer_id').reset_index(drop=True)\n",
    "test_set_transactions_.week = test_week"
   ],
   "metadata": {
    "collapsed": false,
    "ExecuteTime": {
     "end_time": "2023-11-29T03:09:31.718355Z",
     "start_time": "2023-11-29T03:09:31.356145100Z"
    }
   },
   "id": "7b4dda00b8fd4140"
  },
  {
   "cell_type": "code",
   "execution_count": 79,
   "outputs": [
    {
     "data": {
      "text/plain": "            t_dat           customer_id  sales_channel_id  week\n0      2020-07-15       272412481300040                 1   105\n1      2020-07-15      1456826891333599                 1   105\n2      2020-07-15      2133687643102426                 2   105\n3      2020-07-15      6010692573790711                 1   105\n4      2020-07-15      6171059100114610                 2   105\n...           ...                   ...               ...   ...\n437360 2020-09-22  18410229429441241008                 2   105\n437361 2020-09-22  18417769707947924979                 2   105\n437362 2020-09-22  18418054986721795659                 2   105\n437363 2020-09-22  18421175435799911749                 2   105\n437364 2020-09-22  18438270306572912089                 1   105\n\n[437365 rows x 4 columns]",
      "text/html": "<div>\n<style scoped>\n    .dataframe tbody tr th:only-of-type {\n        vertical-align: middle;\n    }\n\n    .dataframe tbody tr th {\n        vertical-align: top;\n    }\n\n    .dataframe thead th {\n        text-align: right;\n    }\n</style>\n<table border=\"1\" class=\"dataframe\">\n  <thead>\n    <tr style=\"text-align: right;\">\n      <th></th>\n      <th>t_dat</th>\n      <th>customer_id</th>\n      <th>sales_channel_id</th>\n      <th>week</th>\n    </tr>\n  </thead>\n  <tbody>\n    <tr>\n      <th>0</th>\n      <td>2020-07-15</td>\n      <td>272412481300040</td>\n      <td>1</td>\n      <td>105</td>\n    </tr>\n    <tr>\n      <th>1</th>\n      <td>2020-07-15</td>\n      <td>1456826891333599</td>\n      <td>1</td>\n      <td>105</td>\n    </tr>\n    <tr>\n      <th>2</th>\n      <td>2020-07-15</td>\n      <td>2133687643102426</td>\n      <td>2</td>\n      <td>105</td>\n    </tr>\n    <tr>\n      <th>3</th>\n      <td>2020-07-15</td>\n      <td>6010692573790711</td>\n      <td>1</td>\n      <td>105</td>\n    </tr>\n    <tr>\n      <th>4</th>\n      <td>2020-07-15</td>\n      <td>6171059100114610</td>\n      <td>2</td>\n      <td>105</td>\n    </tr>\n    <tr>\n      <th>...</th>\n      <td>...</td>\n      <td>...</td>\n      <td>...</td>\n      <td>...</td>\n    </tr>\n    <tr>\n      <th>437360</th>\n      <td>2020-09-22</td>\n      <td>18410229429441241008</td>\n      <td>2</td>\n      <td>105</td>\n    </tr>\n    <tr>\n      <th>437361</th>\n      <td>2020-09-22</td>\n      <td>18417769707947924979</td>\n      <td>2</td>\n      <td>105</td>\n    </tr>\n    <tr>\n      <th>437362</th>\n      <td>2020-09-22</td>\n      <td>18418054986721795659</td>\n      <td>2</td>\n      <td>105</td>\n    </tr>\n    <tr>\n      <th>437363</th>\n      <td>2020-09-22</td>\n      <td>18421175435799911749</td>\n      <td>2</td>\n      <td>105</td>\n    </tr>\n    <tr>\n      <th>437364</th>\n      <td>2020-09-22</td>\n      <td>18438270306572912089</td>\n      <td>1</td>\n      <td>105</td>\n    </tr>\n  </tbody>\n</table>\n<p>437365 rows × 4 columns</p>\n</div>"
     },
     "execution_count": 79,
     "metadata": {},
     "output_type": "execute_result"
    }
   ],
   "source": [
    "test_set_transactions_"
   ],
   "metadata": {
    "collapsed": false,
    "ExecuteTime": {
     "end_time": "2023-11-29T03:09:31.732377900Z",
     "start_time": "2023-11-29T03:09:31.717355700Z"
    }
   },
   "id": "3e29b74b90eb0509"
  },
  {
   "cell_type": "code",
   "execution_count": 80,
   "outputs": [
    {
     "data": {
      "text/plain": "        article_id     price  index_group_name  week        customer_id  \\\n0        754852002  0.050831                 0    96     28847241659200   \n1        747764002  0.047441                 0    96     28847241659200   \n2        685944002  0.042356                 0    96     28847241659200   \n3        746344001  0.033881                 0    96     28847241659200   \n4        796042001  0.033881                 0    96     28847241659200   \n...            ...       ...               ...   ...                ...   \n119995   761406001  0.022017                 2   105  42984229297455520   \n119996   874110016  0.021339                 2   105  42984229297455520   \n119997   855686002  0.021322                 2   105  42984229297455520   \n119998   894481002  0.021169                 2   105  42984229297455520   \n119999   865482002  0.021169                 2   105  42984229297455520   \n\n        highest_count_ign_per_c  mean_price_per_c  age  mean_age_per_a  \\\n0                             0          0.046085   21              21   \n1                             0          0.046085   21              22   \n2                             0          0.046085   21              20   \n3                             0          0.046085   21              20   \n4                             0          0.046085   21              22   \n...                         ...               ...  ...             ...   \n119995                        2          0.021452   18              29   \n119996                        2          0.021452   18              30   \n119997                        2          0.021452   18              30   \n119998                        2          0.021452   18              30   \n119999                        2          0.021452   18              30   \n\n        price_rank  age_rank  \n0             21.0       1.0  \n1              2.0       2.0  \n2              7.0       2.0  \n3             36.0       2.0  \n4             36.0       2.0  \n...            ...       ...  \n119995        40.0       4.0  \n119996         3.0       9.0  \n119997         4.0       9.0  \n119998        13.0       9.0  \n119999        13.0       9.0  \n\n[120000 rows x 11 columns]",
      "text/html": "<div>\n<style scoped>\n    .dataframe tbody tr th:only-of-type {\n        vertical-align: middle;\n    }\n\n    .dataframe tbody tr th {\n        vertical-align: top;\n    }\n\n    .dataframe thead th {\n        text-align: right;\n    }\n</style>\n<table border=\"1\" class=\"dataframe\">\n  <thead>\n    <tr style=\"text-align: right;\">\n      <th></th>\n      <th>article_id</th>\n      <th>price</th>\n      <th>index_group_name</th>\n      <th>week</th>\n      <th>customer_id</th>\n      <th>highest_count_ign_per_c</th>\n      <th>mean_price_per_c</th>\n      <th>age</th>\n      <th>mean_age_per_a</th>\n      <th>price_rank</th>\n      <th>age_rank</th>\n    </tr>\n  </thead>\n  <tbody>\n    <tr>\n      <th>0</th>\n      <td>754852002</td>\n      <td>0.050831</td>\n      <td>0</td>\n      <td>96</td>\n      <td>28847241659200</td>\n      <td>0</td>\n      <td>0.046085</td>\n      <td>21</td>\n      <td>21</td>\n      <td>21.0</td>\n      <td>1.0</td>\n    </tr>\n    <tr>\n      <th>1</th>\n      <td>747764002</td>\n      <td>0.047441</td>\n      <td>0</td>\n      <td>96</td>\n      <td>28847241659200</td>\n      <td>0</td>\n      <td>0.046085</td>\n      <td>21</td>\n      <td>22</td>\n      <td>2.0</td>\n      <td>2.0</td>\n    </tr>\n    <tr>\n      <th>2</th>\n      <td>685944002</td>\n      <td>0.042356</td>\n      <td>0</td>\n      <td>96</td>\n      <td>28847241659200</td>\n      <td>0</td>\n      <td>0.046085</td>\n      <td>21</td>\n      <td>20</td>\n      <td>7.0</td>\n      <td>2.0</td>\n    </tr>\n    <tr>\n      <th>3</th>\n      <td>746344001</td>\n      <td>0.033881</td>\n      <td>0</td>\n      <td>96</td>\n      <td>28847241659200</td>\n      <td>0</td>\n      <td>0.046085</td>\n      <td>21</td>\n      <td>20</td>\n      <td>36.0</td>\n      <td>2.0</td>\n    </tr>\n    <tr>\n      <th>4</th>\n      <td>796042001</td>\n      <td>0.033881</td>\n      <td>0</td>\n      <td>96</td>\n      <td>28847241659200</td>\n      <td>0</td>\n      <td>0.046085</td>\n      <td>21</td>\n      <td>22</td>\n      <td>36.0</td>\n      <td>2.0</td>\n    </tr>\n    <tr>\n      <th>...</th>\n      <td>...</td>\n      <td>...</td>\n      <td>...</td>\n      <td>...</td>\n      <td>...</td>\n      <td>...</td>\n      <td>...</td>\n      <td>...</td>\n      <td>...</td>\n      <td>...</td>\n      <td>...</td>\n    </tr>\n    <tr>\n      <th>119995</th>\n      <td>761406001</td>\n      <td>0.022017</td>\n      <td>2</td>\n      <td>105</td>\n      <td>42984229297455520</td>\n      <td>2</td>\n      <td>0.021452</td>\n      <td>18</td>\n      <td>29</td>\n      <td>40.0</td>\n      <td>4.0</td>\n    </tr>\n    <tr>\n      <th>119996</th>\n      <td>874110016</td>\n      <td>0.021339</td>\n      <td>2</td>\n      <td>105</td>\n      <td>42984229297455520</td>\n      <td>2</td>\n      <td>0.021452</td>\n      <td>18</td>\n      <td>30</td>\n      <td>3.0</td>\n      <td>9.0</td>\n    </tr>\n    <tr>\n      <th>119997</th>\n      <td>855686002</td>\n      <td>0.021322</td>\n      <td>2</td>\n      <td>105</td>\n      <td>42984229297455520</td>\n      <td>2</td>\n      <td>0.021452</td>\n      <td>18</td>\n      <td>30</td>\n      <td>4.0</td>\n      <td>9.0</td>\n    </tr>\n    <tr>\n      <th>119998</th>\n      <td>894481002</td>\n      <td>0.021169</td>\n      <td>2</td>\n      <td>105</td>\n      <td>42984229297455520</td>\n      <td>2</td>\n      <td>0.021452</td>\n      <td>18</td>\n      <td>30</td>\n      <td>13.0</td>\n      <td>9.0</td>\n    </tr>\n    <tr>\n      <th>119999</th>\n      <td>865482002</td>\n      <td>0.021169</td>\n      <td>2</td>\n      <td>105</td>\n      <td>42984229297455520</td>\n      <td>2</td>\n      <td>0.021452</td>\n      <td>18</td>\n      <td>30</td>\n      <td>13.0</td>\n      <td>9.0</td>\n    </tr>\n  </tbody>\n</table>\n<p>120000 rows × 11 columns</p>\n</div>"
     },
     "execution_count": 80,
     "metadata": {},
     "output_type": "execute_result"
    }
   ],
   "source": [
    "top_candidates_3feat_prev_week"
   ],
   "metadata": {
    "collapsed": false,
    "ExecuteTime": {
     "end_time": "2023-11-29T03:09:31.757696200Z",
     "start_time": "2023-11-29T03:09:31.733380500Z"
    }
   },
   "id": "1102adbe91011208"
  },
  {
   "cell_type": "code",
   "execution_count": 81,
   "outputs": [],
   "source": [
    "# candidates__test_week = pd.merge(test_set_transactions_, top_candidates_3feat_prev_week, on='week')\n",
    "# candidates_ = pd.concat([candidates_, candidates__test_week])\n",
    "candidates_.drop(columns=['price_rank', 'age_rank', 'highest_count_ign_per_c', 'mean_price_per_c', 'index_group_name', 'mean_age_per_a', 'age'], inplace=True)"
   ],
   "metadata": {
    "collapsed": false,
    "ExecuteTime": {
     "end_time": "2023-11-29T03:09:31.811696800Z",
     "start_time": "2023-11-29T03:09:31.749408100Z"
    }
   },
   "id": "1226b647237010f5"
  },
  {
   "cell_type": "code",
   "execution_count": 82,
   "outputs": [
    {
     "data": {
      "text/plain": "        article_id     price  week        customer_id\n0        754852002  0.050831    96     28847241659200\n1        747764002  0.047441    96     28847241659200\n2        685944002  0.042356    96     28847241659200\n3        746344001  0.033881    96     28847241659200\n4        796042001  0.033881    96     28847241659200\n...            ...       ...   ...                ...\n119995   761406001  0.022017   105  42984229297455520\n119996   874110016  0.021339   105  42984229297455520\n119997   855686002  0.021322   105  42984229297455520\n119998   894481002  0.021169   105  42984229297455520\n119999   865482002  0.021169   105  42984229297455520\n\n[120000 rows x 4 columns]",
      "text/html": "<div>\n<style scoped>\n    .dataframe tbody tr th:only-of-type {\n        vertical-align: middle;\n    }\n\n    .dataframe tbody tr th {\n        vertical-align: top;\n    }\n\n    .dataframe thead th {\n        text-align: right;\n    }\n</style>\n<table border=\"1\" class=\"dataframe\">\n  <thead>\n    <tr style=\"text-align: right;\">\n      <th></th>\n      <th>article_id</th>\n      <th>price</th>\n      <th>week</th>\n      <th>customer_id</th>\n    </tr>\n  </thead>\n  <tbody>\n    <tr>\n      <th>0</th>\n      <td>754852002</td>\n      <td>0.050831</td>\n      <td>96</td>\n      <td>28847241659200</td>\n    </tr>\n    <tr>\n      <th>1</th>\n      <td>747764002</td>\n      <td>0.047441</td>\n      <td>96</td>\n      <td>28847241659200</td>\n    </tr>\n    <tr>\n      <th>2</th>\n      <td>685944002</td>\n      <td>0.042356</td>\n      <td>96</td>\n      <td>28847241659200</td>\n    </tr>\n    <tr>\n      <th>3</th>\n      <td>746344001</td>\n      <td>0.033881</td>\n      <td>96</td>\n      <td>28847241659200</td>\n    </tr>\n    <tr>\n      <th>4</th>\n      <td>796042001</td>\n      <td>0.033881</td>\n      <td>96</td>\n      <td>28847241659200</td>\n    </tr>\n    <tr>\n      <th>...</th>\n      <td>...</td>\n      <td>...</td>\n      <td>...</td>\n      <td>...</td>\n    </tr>\n    <tr>\n      <th>119995</th>\n      <td>761406001</td>\n      <td>0.022017</td>\n      <td>105</td>\n      <td>42984229297455520</td>\n    </tr>\n    <tr>\n      <th>119996</th>\n      <td>874110016</td>\n      <td>0.021339</td>\n      <td>105</td>\n      <td>42984229297455520</td>\n    </tr>\n    <tr>\n      <th>119997</th>\n      <td>855686002</td>\n      <td>0.021322</td>\n      <td>105</td>\n      <td>42984229297455520</td>\n    </tr>\n    <tr>\n      <th>119998</th>\n      <td>894481002</td>\n      <td>0.021169</td>\n      <td>105</td>\n      <td>42984229297455520</td>\n    </tr>\n    <tr>\n      <th>119999</th>\n      <td>865482002</td>\n      <td>0.021169</td>\n      <td>105</td>\n      <td>42984229297455520</td>\n    </tr>\n  </tbody>\n</table>\n<p>120000 rows × 4 columns</p>\n</div>"
     },
     "execution_count": 82,
     "metadata": {},
     "output_type": "execute_result"
    }
   ],
   "source": [
    "candidates_"
   ],
   "metadata": {
    "collapsed": false,
    "ExecuteTime": {
     "end_time": "2023-11-29T03:09:31.850443300Z",
     "start_time": "2023-11-29T03:09:31.764201700Z"
    }
   },
   "id": "ae86eaceca41f18f"
  },
  {
   "cell_type": "code",
   "execution_count": 83,
   "outputs": [],
   "source": [
    "transactions['purchased'] = 1\n",
    "data = pd.concat([transactions, candidates_last_purchase, candidates_])\n",
    "data.purchased.fillna(0, inplace=True)\n",
    "data.drop_duplicates(['customer_id', 'article_id', 'week'], inplace=True)"
   ],
   "metadata": {
    "collapsed": false,
    "ExecuteTime": {
     "end_time": "2023-11-29T03:09:32.615095400Z",
     "start_time": "2023-11-29T03:09:31.782248800Z"
    }
   },
   "id": "ad5570d733ab83e0"
  },
  {
   "cell_type": "code",
   "execution_count": 84,
   "outputs": [
    {
     "data": {
      "text/plain": "              t_dat        customer_id  article_id     price  \\\n29030503 2020-07-15    272412481300040   778064028  0.008458   \n29030504 2020-07-15    272412481300040   816592008  0.016932   \n29030505 2020-07-15    272412481300040   621381021  0.033881   \n29030506 2020-07-15    272412481300040   817477003  0.025407   \n29030507 2020-07-15    272412481300040   899088002  0.025407   \n...             ...                ...         ...       ...   \n119995          NaT  42984229297455520   761406001  0.022017   \n119996          NaT  42984229297455520   874110016  0.021339   \n119997          NaT  42984229297455520   855686002  0.021322   \n119998          NaT  42984229297455520   894481002  0.021169   \n119999          NaT  42984229297455520   865482002  0.021169   \n\n          sales_channel_id  week  purchased  \n29030503               1.0    95        1.0  \n29030504               1.0    95        1.0  \n29030505               1.0    95        1.0  \n29030506               1.0    95        1.0  \n29030507               1.0    95        1.0  \n...                    ...   ...        ...  \n119995                 NaN   105        0.0  \n119996                 NaN   105        0.0  \n119997                 NaN   105        0.0  \n119998                 NaN   105        0.0  \n119999                 NaN   105        0.0  \n\n[5049666 rows x 7 columns]",
      "text/html": "<div>\n<style scoped>\n    .dataframe tbody tr th:only-of-type {\n        vertical-align: middle;\n    }\n\n    .dataframe tbody tr th {\n        vertical-align: top;\n    }\n\n    .dataframe thead th {\n        text-align: right;\n    }\n</style>\n<table border=\"1\" class=\"dataframe\">\n  <thead>\n    <tr style=\"text-align: right;\">\n      <th></th>\n      <th>t_dat</th>\n      <th>customer_id</th>\n      <th>article_id</th>\n      <th>price</th>\n      <th>sales_channel_id</th>\n      <th>week</th>\n      <th>purchased</th>\n    </tr>\n  </thead>\n  <tbody>\n    <tr>\n      <th>29030503</th>\n      <td>2020-07-15</td>\n      <td>272412481300040</td>\n      <td>778064028</td>\n      <td>0.008458</td>\n      <td>1.0</td>\n      <td>95</td>\n      <td>1.0</td>\n    </tr>\n    <tr>\n      <th>29030504</th>\n      <td>2020-07-15</td>\n      <td>272412481300040</td>\n      <td>816592008</td>\n      <td>0.016932</td>\n      <td>1.0</td>\n      <td>95</td>\n      <td>1.0</td>\n    </tr>\n    <tr>\n      <th>29030505</th>\n      <td>2020-07-15</td>\n      <td>272412481300040</td>\n      <td>621381021</td>\n      <td>0.033881</td>\n      <td>1.0</td>\n      <td>95</td>\n      <td>1.0</td>\n    </tr>\n    <tr>\n      <th>29030506</th>\n      <td>2020-07-15</td>\n      <td>272412481300040</td>\n      <td>817477003</td>\n      <td>0.025407</td>\n      <td>1.0</td>\n      <td>95</td>\n      <td>1.0</td>\n    </tr>\n    <tr>\n      <th>29030507</th>\n      <td>2020-07-15</td>\n      <td>272412481300040</td>\n      <td>899088002</td>\n      <td>0.025407</td>\n      <td>1.0</td>\n      <td>95</td>\n      <td>1.0</td>\n    </tr>\n    <tr>\n      <th>...</th>\n      <td>...</td>\n      <td>...</td>\n      <td>...</td>\n      <td>...</td>\n      <td>...</td>\n      <td>...</td>\n      <td>...</td>\n    </tr>\n    <tr>\n      <th>119995</th>\n      <td>NaT</td>\n      <td>42984229297455520</td>\n      <td>761406001</td>\n      <td>0.022017</td>\n      <td>NaN</td>\n      <td>105</td>\n      <td>0.0</td>\n    </tr>\n    <tr>\n      <th>119996</th>\n      <td>NaT</td>\n      <td>42984229297455520</td>\n      <td>874110016</td>\n      <td>0.021339</td>\n      <td>NaN</td>\n      <td>105</td>\n      <td>0.0</td>\n    </tr>\n    <tr>\n      <th>119997</th>\n      <td>NaT</td>\n      <td>42984229297455520</td>\n      <td>855686002</td>\n      <td>0.021322</td>\n      <td>NaN</td>\n      <td>105</td>\n      <td>0.0</td>\n    </tr>\n    <tr>\n      <th>119998</th>\n      <td>NaT</td>\n      <td>42984229297455520</td>\n      <td>894481002</td>\n      <td>0.021169</td>\n      <td>NaN</td>\n      <td>105</td>\n      <td>0.0</td>\n    </tr>\n    <tr>\n      <th>119999</th>\n      <td>NaT</td>\n      <td>42984229297455520</td>\n      <td>865482002</td>\n      <td>0.021169</td>\n      <td>NaN</td>\n      <td>105</td>\n      <td>0.0</td>\n    </tr>\n  </tbody>\n</table>\n<p>5049666 rows × 7 columns</p>\n</div>"
     },
     "execution_count": 84,
     "metadata": {},
     "output_type": "execute_result"
    }
   ],
   "source": [
    "data"
   ],
   "metadata": {
    "collapsed": false,
    "ExecuteTime": {
     "end_time": "2023-11-29T03:09:32.634638200Z",
     "start_time": "2023-11-29T03:09:32.615095400Z"
    }
   },
   "id": "26beba46d2608ff9"
  },
  {
   "cell_type": "code",
   "execution_count": 85,
   "outputs": [],
   "source": [
    "data = pd.merge(\n",
    "    data,\n",
    "    top_candidates_3feat_prev_week[['week', 'article_id', 'price_rank', 'age_rank']],\n",
    "    on=['week', 'article_id'],\n",
    "    how='left'\n",
    ")\n",
    "data = data[data.week != data.week.min()]\n",
    "data.price_rank.fillna(999, inplace=True)\n",
    "data.age_rank.fillna(999, inplace=True)"
   ],
   "metadata": {
    "collapsed": false,
    "ExecuteTime": {
     "end_time": "2023-11-29T03:09:33.761619100Z",
     "start_time": "2023-11-29T03:09:32.631637500Z"
    }
   },
   "id": "201447ea1164722c"
  },
  {
   "cell_type": "code",
   "execution_count": 86,
   "outputs": [
    {
     "data": {
      "text/plain": "             t_dat        customer_id  article_id     price  sales_channel_id  \\\n261987  2020-07-22    200292573348128   880777001  0.025407               2.0   \n261988  2020-07-22    200292573348128   784332002  0.025407               2.0   \n261989  2020-07-22    200292573348128   827968001  0.016932               2.0   \n261990  2020-07-22    200292573348128   599580086  0.011847               2.0   \n261991  2020-07-22    248294615847351   720504008  0.031458               1.0   \n...            ...                ...         ...       ...               ...   \n8690925        NaT  42984229297455520   894481002  0.021169               NaN   \n8690926        NaT  42984229297455520   865482002  0.021169               NaN   \n8690927        NaT  42984229297455520   865482002  0.021169               NaN   \n8690928        NaT  42984229297455520   865482002  0.021169               NaN   \n8690929        NaT  42984229297455520   865482002  0.021169               NaN   \n\n         week  purchased  price_rank  age_rank  \n261987     96        1.0       999.0     999.0  \n261988     96        1.0       999.0     999.0  \n261989     96        1.0       999.0     999.0  \n261990     96        1.0       999.0     999.0  \n261991     96        1.0       999.0     999.0  \n...       ...        ...         ...       ...  \n8690925   105        0.0        13.0       9.0  \n8690926   105        0.0         1.0       6.0  \n8690927   105        0.0         1.0       9.0  \n8690928   105        0.0         1.0       7.0  \n8690929   105        0.0        13.0       9.0  \n\n[8428943 rows x 9 columns]",
      "text/html": "<div>\n<style scoped>\n    .dataframe tbody tr th:only-of-type {\n        vertical-align: middle;\n    }\n\n    .dataframe tbody tr th {\n        vertical-align: top;\n    }\n\n    .dataframe thead th {\n        text-align: right;\n    }\n</style>\n<table border=\"1\" class=\"dataframe\">\n  <thead>\n    <tr style=\"text-align: right;\">\n      <th></th>\n      <th>t_dat</th>\n      <th>customer_id</th>\n      <th>article_id</th>\n      <th>price</th>\n      <th>sales_channel_id</th>\n      <th>week</th>\n      <th>purchased</th>\n      <th>price_rank</th>\n      <th>age_rank</th>\n    </tr>\n  </thead>\n  <tbody>\n    <tr>\n      <th>261987</th>\n      <td>2020-07-22</td>\n      <td>200292573348128</td>\n      <td>880777001</td>\n      <td>0.025407</td>\n      <td>2.0</td>\n      <td>96</td>\n      <td>1.0</td>\n      <td>999.0</td>\n      <td>999.0</td>\n    </tr>\n    <tr>\n      <th>261988</th>\n      <td>2020-07-22</td>\n      <td>200292573348128</td>\n      <td>784332002</td>\n      <td>0.025407</td>\n      <td>2.0</td>\n      <td>96</td>\n      <td>1.0</td>\n      <td>999.0</td>\n      <td>999.0</td>\n    </tr>\n    <tr>\n      <th>261989</th>\n      <td>2020-07-22</td>\n      <td>200292573348128</td>\n      <td>827968001</td>\n      <td>0.016932</td>\n      <td>2.0</td>\n      <td>96</td>\n      <td>1.0</td>\n      <td>999.0</td>\n      <td>999.0</td>\n    </tr>\n    <tr>\n      <th>261990</th>\n      <td>2020-07-22</td>\n      <td>200292573348128</td>\n      <td>599580086</td>\n      <td>0.011847</td>\n      <td>2.0</td>\n      <td>96</td>\n      <td>1.0</td>\n      <td>999.0</td>\n      <td>999.0</td>\n    </tr>\n    <tr>\n      <th>261991</th>\n      <td>2020-07-22</td>\n      <td>248294615847351</td>\n      <td>720504008</td>\n      <td>0.031458</td>\n      <td>1.0</td>\n      <td>96</td>\n      <td>1.0</td>\n      <td>999.0</td>\n      <td>999.0</td>\n    </tr>\n    <tr>\n      <th>...</th>\n      <td>...</td>\n      <td>...</td>\n      <td>...</td>\n      <td>...</td>\n      <td>...</td>\n      <td>...</td>\n      <td>...</td>\n      <td>...</td>\n      <td>...</td>\n    </tr>\n    <tr>\n      <th>8690925</th>\n      <td>NaT</td>\n      <td>42984229297455520</td>\n      <td>894481002</td>\n      <td>0.021169</td>\n      <td>NaN</td>\n      <td>105</td>\n      <td>0.0</td>\n      <td>13.0</td>\n      <td>9.0</td>\n    </tr>\n    <tr>\n      <th>8690926</th>\n      <td>NaT</td>\n      <td>42984229297455520</td>\n      <td>865482002</td>\n      <td>0.021169</td>\n      <td>NaN</td>\n      <td>105</td>\n      <td>0.0</td>\n      <td>1.0</td>\n      <td>6.0</td>\n    </tr>\n    <tr>\n      <th>8690927</th>\n      <td>NaT</td>\n      <td>42984229297455520</td>\n      <td>865482002</td>\n      <td>0.021169</td>\n      <td>NaN</td>\n      <td>105</td>\n      <td>0.0</td>\n      <td>1.0</td>\n      <td>9.0</td>\n    </tr>\n    <tr>\n      <th>8690928</th>\n      <td>NaT</td>\n      <td>42984229297455520</td>\n      <td>865482002</td>\n      <td>0.021169</td>\n      <td>NaN</td>\n      <td>105</td>\n      <td>0.0</td>\n      <td>1.0</td>\n      <td>7.0</td>\n    </tr>\n    <tr>\n      <th>8690929</th>\n      <td>NaT</td>\n      <td>42984229297455520</td>\n      <td>865482002</td>\n      <td>0.021169</td>\n      <td>NaN</td>\n      <td>105</td>\n      <td>0.0</td>\n      <td>13.0</td>\n      <td>9.0</td>\n    </tr>\n  </tbody>\n</table>\n<p>8428943 rows × 9 columns</p>\n</div>"
     },
     "execution_count": 86,
     "metadata": {},
     "output_type": "execute_result"
    }
   ],
   "source": [
    "data"
   ],
   "metadata": {
    "collapsed": false,
    "ExecuteTime": {
     "end_time": "2023-11-29T03:09:33.780141100Z",
     "start_time": "2023-11-29T03:09:33.763619800Z"
    }
   },
   "id": "3fd077988fe1c49b"
  },
  {
   "cell_type": "code",
   "execution_count": 87,
   "outputs": [],
   "source": [
    "data = pd.merge(data, articles, on='article_id', how='left')\n",
    "data = pd.merge(data, customers, on='customer_id', how='left')\n",
    "data.sort_values(['week', 'customer_id'], inplace=True)\n",
    "data.reset_index(drop=True, inplace=True)"
   ],
   "metadata": {
    "collapsed": false,
    "ExecuteTime": {
     "end_time": "2023-11-29T03:09:36.806729900Z",
     "start_time": "2023-11-29T03:09:33.778632900Z"
    }
   },
   "id": "26b5cc1efa00cc6c"
  },
  {
   "cell_type": "code",
   "execution_count": 88,
   "outputs": [],
   "source": [
    "train = data[data.week != test_week]\n",
    "test = data[data.week==test_week].drop_duplicates(['customer_id', 'article_id', 'sales_channel_id']).copy()"
   ],
   "metadata": {
    "collapsed": false,
    "ExecuteTime": {
     "end_time": "2023-11-29T03:09:37.591173100Z",
     "start_time": "2023-11-29T03:09:36.806729900Z"
    }
   },
   "id": "1c546cdad958817e"
  },
  {
   "cell_type": "code",
   "execution_count": 89,
   "outputs": [
    {
     "data": {
      "text/plain": "             t_dat           customer_id  article_id     price  \\\n0       2020-07-26        28847241659200   887770001  0.016932   \n1       2020-07-18        28847241659200   762846001  0.025407   \n2       2020-07-18        28847241659200   829308001  0.033881   \n3              NaT        28847241659200   754852002  0.050831   \n4              NaT        28847241659200   754852002  0.050831   \n...            ...                   ...         ...       ...   \n5861233 2020-09-20  18445641720816255142   923037003  0.033881   \n5861234 2020-09-21  18446737527580148316   547780001  0.023712   \n5861235 2020-09-21  18446737527580148316   763988001  0.023712   \n5861236 2020-09-21  18446737527580148316   763988003  0.023712   \n5861237 2020-09-21  18446737527580148316   547780040  0.023712   \n\n         sales_channel_id  week  purchased  price_rank  age_rank  \\\n0                     1.0    96        1.0       999.0     999.0   \n1                     1.0    96        0.0       999.0     999.0   \n2                     1.0    96        0.0       999.0     999.0   \n3                     NaN    96        0.0        21.0       1.0   \n4                     NaN    96        0.0         5.0       1.0   \n...                   ...   ...        ...         ...       ...   \n5861233               2.0   104        1.0       999.0     999.0   \n5861234               2.0   104        1.0       999.0     999.0   \n5861235               2.0   104        1.0       999.0     999.0   \n5861236               2.0   104        1.0       999.0     999.0   \n5861237               2.0   104        1.0       999.0     999.0   \n\n         product_code  ...  section_name  garment_group_no  \\\n0              887770  ...            10              1010   \n1              762846  ...             7              1010   \n2              829308  ...            21              1005   \n3              754852  ...            45              1001   \n4              754852  ...            45              1001   \n...               ...  ...           ...               ...   \n5861233        923037  ...            31              1017   \n5861234        547780  ...            27              1002   \n5861235        763988  ...            16              1002   \n5861236        763988  ...            16              1002   \n5861237        547780  ...            27              1002   \n\n         garment_group_name  detail_desc  FN  Active  club_member_status  \\\n0                         6         3692   1       1                   0   \n1                         6          492   1       1                   0   \n2                         0         9082   1       1                   0   \n3                        10        17015   1       1                   0   \n4                        10        17015   1       1                   0   \n...                     ...          ...  ..     ...                 ...   \n5861233                   4        10043   1       1                   0   \n5861234                   2          271   1       1                   0   \n5861235                   2         1107   1       1                   0   \n5861236                   2         1107   1       1                   0   \n5861237                   2          271   1       1                   0   \n\n         fashion_news_frequency  age  postal_code  \n0                             1   21        57896  \n1                             1   21        57896  \n2                             1   21        57896  \n3                             1   21        57896  \n4                             1   21        57896  \n...                         ...  ...          ...  \n5861233                       1   31       147613  \n5861234                       1   60        96323  \n5861235                       1   60        96323  \n5861236                       1   60        96323  \n5861237                       1   60        96323  \n\n[5861238 rows x 39 columns]",
      "text/html": "<div>\n<style scoped>\n    .dataframe tbody tr th:only-of-type {\n        vertical-align: middle;\n    }\n\n    .dataframe tbody tr th {\n        vertical-align: top;\n    }\n\n    .dataframe thead th {\n        text-align: right;\n    }\n</style>\n<table border=\"1\" class=\"dataframe\">\n  <thead>\n    <tr style=\"text-align: right;\">\n      <th></th>\n      <th>t_dat</th>\n      <th>customer_id</th>\n      <th>article_id</th>\n      <th>price</th>\n      <th>sales_channel_id</th>\n      <th>week</th>\n      <th>purchased</th>\n      <th>price_rank</th>\n      <th>age_rank</th>\n      <th>product_code</th>\n      <th>...</th>\n      <th>section_name</th>\n      <th>garment_group_no</th>\n      <th>garment_group_name</th>\n      <th>detail_desc</th>\n      <th>FN</th>\n      <th>Active</th>\n      <th>club_member_status</th>\n      <th>fashion_news_frequency</th>\n      <th>age</th>\n      <th>postal_code</th>\n    </tr>\n  </thead>\n  <tbody>\n    <tr>\n      <th>0</th>\n      <td>2020-07-26</td>\n      <td>28847241659200</td>\n      <td>887770001</td>\n      <td>0.016932</td>\n      <td>1.0</td>\n      <td>96</td>\n      <td>1.0</td>\n      <td>999.0</td>\n      <td>999.0</td>\n      <td>887770</td>\n      <td>...</td>\n      <td>10</td>\n      <td>1010</td>\n      <td>6</td>\n      <td>3692</td>\n      <td>1</td>\n      <td>1</td>\n      <td>0</td>\n      <td>1</td>\n      <td>21</td>\n      <td>57896</td>\n    </tr>\n    <tr>\n      <th>1</th>\n      <td>2020-07-18</td>\n      <td>28847241659200</td>\n      <td>762846001</td>\n      <td>0.025407</td>\n      <td>1.0</td>\n      <td>96</td>\n      <td>0.0</td>\n      <td>999.0</td>\n      <td>999.0</td>\n      <td>762846</td>\n      <td>...</td>\n      <td>7</td>\n      <td>1010</td>\n      <td>6</td>\n      <td>492</td>\n      <td>1</td>\n      <td>1</td>\n      <td>0</td>\n      <td>1</td>\n      <td>21</td>\n      <td>57896</td>\n    </tr>\n    <tr>\n      <th>2</th>\n      <td>2020-07-18</td>\n      <td>28847241659200</td>\n      <td>829308001</td>\n      <td>0.033881</td>\n      <td>1.0</td>\n      <td>96</td>\n      <td>0.0</td>\n      <td>999.0</td>\n      <td>999.0</td>\n      <td>829308</td>\n      <td>...</td>\n      <td>21</td>\n      <td>1005</td>\n      <td>0</td>\n      <td>9082</td>\n      <td>1</td>\n      <td>1</td>\n      <td>0</td>\n      <td>1</td>\n      <td>21</td>\n      <td>57896</td>\n    </tr>\n    <tr>\n      <th>3</th>\n      <td>NaT</td>\n      <td>28847241659200</td>\n      <td>754852002</td>\n      <td>0.050831</td>\n      <td>NaN</td>\n      <td>96</td>\n      <td>0.0</td>\n      <td>21.0</td>\n      <td>1.0</td>\n      <td>754852</td>\n      <td>...</td>\n      <td>45</td>\n      <td>1001</td>\n      <td>10</td>\n      <td>17015</td>\n      <td>1</td>\n      <td>1</td>\n      <td>0</td>\n      <td>1</td>\n      <td>21</td>\n      <td>57896</td>\n    </tr>\n    <tr>\n      <th>4</th>\n      <td>NaT</td>\n      <td>28847241659200</td>\n      <td>754852002</td>\n      <td>0.050831</td>\n      <td>NaN</td>\n      <td>96</td>\n      <td>0.0</td>\n      <td>5.0</td>\n      <td>1.0</td>\n      <td>754852</td>\n      <td>...</td>\n      <td>45</td>\n      <td>1001</td>\n      <td>10</td>\n      <td>17015</td>\n      <td>1</td>\n      <td>1</td>\n      <td>0</td>\n      <td>1</td>\n      <td>21</td>\n      <td>57896</td>\n    </tr>\n    <tr>\n      <th>...</th>\n      <td>...</td>\n      <td>...</td>\n      <td>...</td>\n      <td>...</td>\n      <td>...</td>\n      <td>...</td>\n      <td>...</td>\n      <td>...</td>\n      <td>...</td>\n      <td>...</td>\n      <td>...</td>\n      <td>...</td>\n      <td>...</td>\n      <td>...</td>\n      <td>...</td>\n      <td>...</td>\n      <td>...</td>\n      <td>...</td>\n      <td>...</td>\n      <td>...</td>\n      <td>...</td>\n    </tr>\n    <tr>\n      <th>5861233</th>\n      <td>2020-09-20</td>\n      <td>18445641720816255142</td>\n      <td>923037003</td>\n      <td>0.033881</td>\n      <td>2.0</td>\n      <td>104</td>\n      <td>1.0</td>\n      <td>999.0</td>\n      <td>999.0</td>\n      <td>923037</td>\n      <td>...</td>\n      <td>31</td>\n      <td>1017</td>\n      <td>4</td>\n      <td>10043</td>\n      <td>1</td>\n      <td>1</td>\n      <td>0</td>\n      <td>1</td>\n      <td>31</td>\n      <td>147613</td>\n    </tr>\n    <tr>\n      <th>5861234</th>\n      <td>2020-09-21</td>\n      <td>18446737527580148316</td>\n      <td>547780001</td>\n      <td>0.023712</td>\n      <td>2.0</td>\n      <td>104</td>\n      <td>1.0</td>\n      <td>999.0</td>\n      <td>999.0</td>\n      <td>547780</td>\n      <td>...</td>\n      <td>27</td>\n      <td>1002</td>\n      <td>2</td>\n      <td>271</td>\n      <td>1</td>\n      <td>1</td>\n      <td>0</td>\n      <td>1</td>\n      <td>60</td>\n      <td>96323</td>\n    </tr>\n    <tr>\n      <th>5861235</th>\n      <td>2020-09-21</td>\n      <td>18446737527580148316</td>\n      <td>763988001</td>\n      <td>0.023712</td>\n      <td>2.0</td>\n      <td>104</td>\n      <td>1.0</td>\n      <td>999.0</td>\n      <td>999.0</td>\n      <td>763988</td>\n      <td>...</td>\n      <td>16</td>\n      <td>1002</td>\n      <td>2</td>\n      <td>1107</td>\n      <td>1</td>\n      <td>1</td>\n      <td>0</td>\n      <td>1</td>\n      <td>60</td>\n      <td>96323</td>\n    </tr>\n    <tr>\n      <th>5861236</th>\n      <td>2020-09-21</td>\n      <td>18446737527580148316</td>\n      <td>763988003</td>\n      <td>0.023712</td>\n      <td>2.0</td>\n      <td>104</td>\n      <td>1.0</td>\n      <td>999.0</td>\n      <td>999.0</td>\n      <td>763988</td>\n      <td>...</td>\n      <td>16</td>\n      <td>1002</td>\n      <td>2</td>\n      <td>1107</td>\n      <td>1</td>\n      <td>1</td>\n      <td>0</td>\n      <td>1</td>\n      <td>60</td>\n      <td>96323</td>\n    </tr>\n    <tr>\n      <th>5861237</th>\n      <td>2020-09-21</td>\n      <td>18446737527580148316</td>\n      <td>547780040</td>\n      <td>0.023712</td>\n      <td>2.0</td>\n      <td>104</td>\n      <td>1.0</td>\n      <td>999.0</td>\n      <td>999.0</td>\n      <td>547780</td>\n      <td>...</td>\n      <td>27</td>\n      <td>1002</td>\n      <td>2</td>\n      <td>271</td>\n      <td>1</td>\n      <td>1</td>\n      <td>0</td>\n      <td>1</td>\n      <td>60</td>\n      <td>96323</td>\n    </tr>\n  </tbody>\n</table>\n<p>5861238 rows × 39 columns</p>\n</div>"
     },
     "execution_count": 89,
     "metadata": {},
     "output_type": "execute_result"
    }
   ],
   "source": [
    "train"
   ],
   "metadata": {
    "collapsed": false,
    "ExecuteTime": {
     "end_time": "2023-11-29T03:09:38.107216300Z",
     "start_time": "2023-11-29T03:09:37.592173600Z"
    }
   },
   "id": "ecdc005f3603d9e8"
  },
  {
   "cell_type": "code",
   "execution_count": 90,
   "outputs": [
    {
     "data": {
      "text/plain": "             t_dat           customer_id  article_id     price  \\\n5861238 2020-09-03        28847241659200   925246001  0.128797   \n5861239        NaT        28847241659200   779068002  0.045746   \n5861245        NaT        28847241659200   754323004  0.045746   \n5861252        NaT        28847241659200   721481003  0.045746   \n5861259        NaT        28847241659200   904225001  0.045746   \n...            ...                   ...         ...       ...   \n8428938 2020-09-06  18446705133201055310   875784002  0.050831   \n8428939 2020-09-21  18446737527580148316   547780001  0.023712   \n8428940 2020-09-21  18446737527580148316   763988001  0.023712   \n8428941 2020-09-21  18446737527580148316   763988003  0.023712   \n8428942 2020-09-21  18446737527580148316   547780040  0.023712   \n\n         sales_channel_id  week  purchased  price_rank  age_rank  \\\n5861238               2.0   105        0.0       999.0     999.0   \n5861239               NaN   105        0.0         7.0       1.0   \n5861245               NaN   105        0.0         7.0       2.0   \n5861252               NaN   105        0.0         7.0       3.0   \n5861259               NaN   105        0.0         7.0       3.0   \n...                   ...   ...        ...         ...       ...   \n8428938               2.0   105        0.0       999.0     999.0   \n8428939               2.0   105        0.0       999.0     999.0   \n8428940               2.0   105        0.0       999.0     999.0   \n8428941               2.0   105        0.0       999.0     999.0   \n8428942               2.0   105        0.0       999.0     999.0   \n\n         product_code  ...  section_name  garment_group_no  \\\n5861238        925246  ...            40              1007   \n5861239        779068  ...            10              1003   \n5861245        754323  ...             0              1003   \n5861252        721481  ...             0              1010   \n5861259        904225  ...            20              1020   \n...               ...  ...           ...               ...   \n8428938        875784  ...            15              1003   \n8428939        547780  ...            27              1002   \n8428940        763988  ...            16              1002   \n8428941        763988  ...            16              1002   \n8428942        547780  ...            27              1002   \n\n         garment_group_name  detail_desc  FN  Active  club_member_status  \\\n5861238                   9        27855   1       1                   0   \n5861239                   3        15430   1       1                   0   \n5861245                   3         4874   1       1                   0   \n5861252                   6        11900   1       1                   0   \n5861259                   7        26543   1       1                   0   \n...                     ...          ...  ..     ...                 ...   \n8428938                   3        11763   1       1                   0   \n8428939                   2          271   1       1                   0   \n8428940                   2         1107   1       1                   0   \n8428941                   2         1107   1       1                   0   \n8428942                   2          271   1       1                   0   \n\n         fashion_news_frequency  age  postal_code  \n5861238                       1   21        57896  \n5861239                       1   21        57896  \n5861245                       1   21        57896  \n5861252                       1   21        57896  \n5861259                       1   21        57896  \n...                         ...  ...          ...  \n8428938                       1   60       177867  \n8428939                       1   60        96323  \n8428940                       1   60        96323  \n8428941                       1   60        96323  \n8428942                       1   60        96323  \n\n[1389562 rows x 39 columns]",
      "text/html": "<div>\n<style scoped>\n    .dataframe tbody tr th:only-of-type {\n        vertical-align: middle;\n    }\n\n    .dataframe tbody tr th {\n        vertical-align: top;\n    }\n\n    .dataframe thead th {\n        text-align: right;\n    }\n</style>\n<table border=\"1\" class=\"dataframe\">\n  <thead>\n    <tr style=\"text-align: right;\">\n      <th></th>\n      <th>t_dat</th>\n      <th>customer_id</th>\n      <th>article_id</th>\n      <th>price</th>\n      <th>sales_channel_id</th>\n      <th>week</th>\n      <th>purchased</th>\n      <th>price_rank</th>\n      <th>age_rank</th>\n      <th>product_code</th>\n      <th>...</th>\n      <th>section_name</th>\n      <th>garment_group_no</th>\n      <th>garment_group_name</th>\n      <th>detail_desc</th>\n      <th>FN</th>\n      <th>Active</th>\n      <th>club_member_status</th>\n      <th>fashion_news_frequency</th>\n      <th>age</th>\n      <th>postal_code</th>\n    </tr>\n  </thead>\n  <tbody>\n    <tr>\n      <th>5861238</th>\n      <td>2020-09-03</td>\n      <td>28847241659200</td>\n      <td>925246001</td>\n      <td>0.128797</td>\n      <td>2.0</td>\n      <td>105</td>\n      <td>0.0</td>\n      <td>999.0</td>\n      <td>999.0</td>\n      <td>925246</td>\n      <td>...</td>\n      <td>40</td>\n      <td>1007</td>\n      <td>9</td>\n      <td>27855</td>\n      <td>1</td>\n      <td>1</td>\n      <td>0</td>\n      <td>1</td>\n      <td>21</td>\n      <td>57896</td>\n    </tr>\n    <tr>\n      <th>5861239</th>\n      <td>NaT</td>\n      <td>28847241659200</td>\n      <td>779068002</td>\n      <td>0.045746</td>\n      <td>NaN</td>\n      <td>105</td>\n      <td>0.0</td>\n      <td>7.0</td>\n      <td>1.0</td>\n      <td>779068</td>\n      <td>...</td>\n      <td>10</td>\n      <td>1003</td>\n      <td>3</td>\n      <td>15430</td>\n      <td>1</td>\n      <td>1</td>\n      <td>0</td>\n      <td>1</td>\n      <td>21</td>\n      <td>57896</td>\n    </tr>\n    <tr>\n      <th>5861245</th>\n      <td>NaT</td>\n      <td>28847241659200</td>\n      <td>754323004</td>\n      <td>0.045746</td>\n      <td>NaN</td>\n      <td>105</td>\n      <td>0.0</td>\n      <td>7.0</td>\n      <td>2.0</td>\n      <td>754323</td>\n      <td>...</td>\n      <td>0</td>\n      <td>1003</td>\n      <td>3</td>\n      <td>4874</td>\n      <td>1</td>\n      <td>1</td>\n      <td>0</td>\n      <td>1</td>\n      <td>21</td>\n      <td>57896</td>\n    </tr>\n    <tr>\n      <th>5861252</th>\n      <td>NaT</td>\n      <td>28847241659200</td>\n      <td>721481003</td>\n      <td>0.045746</td>\n      <td>NaN</td>\n      <td>105</td>\n      <td>0.0</td>\n      <td>7.0</td>\n      <td>3.0</td>\n      <td>721481</td>\n      <td>...</td>\n      <td>0</td>\n      <td>1010</td>\n      <td>6</td>\n      <td>11900</td>\n      <td>1</td>\n      <td>1</td>\n      <td>0</td>\n      <td>1</td>\n      <td>21</td>\n      <td>57896</td>\n    </tr>\n    <tr>\n      <th>5861259</th>\n      <td>NaT</td>\n      <td>28847241659200</td>\n      <td>904225001</td>\n      <td>0.045746</td>\n      <td>NaN</td>\n      <td>105</td>\n      <td>0.0</td>\n      <td>7.0</td>\n      <td>3.0</td>\n      <td>904225</td>\n      <td>...</td>\n      <td>20</td>\n      <td>1020</td>\n      <td>7</td>\n      <td>26543</td>\n      <td>1</td>\n      <td>1</td>\n      <td>0</td>\n      <td>1</td>\n      <td>21</td>\n      <td>57896</td>\n    </tr>\n    <tr>\n      <th>...</th>\n      <td>...</td>\n      <td>...</td>\n      <td>...</td>\n      <td>...</td>\n      <td>...</td>\n      <td>...</td>\n      <td>...</td>\n      <td>...</td>\n      <td>...</td>\n      <td>...</td>\n      <td>...</td>\n      <td>...</td>\n      <td>...</td>\n      <td>...</td>\n      <td>...</td>\n      <td>...</td>\n      <td>...</td>\n      <td>...</td>\n      <td>...</td>\n      <td>...</td>\n      <td>...</td>\n    </tr>\n    <tr>\n      <th>8428938</th>\n      <td>2020-09-06</td>\n      <td>18446705133201055310</td>\n      <td>875784002</td>\n      <td>0.050831</td>\n      <td>2.0</td>\n      <td>105</td>\n      <td>0.0</td>\n      <td>999.0</td>\n      <td>999.0</td>\n      <td>875784</td>\n      <td>...</td>\n      <td>15</td>\n      <td>1003</td>\n      <td>3</td>\n      <td>11763</td>\n      <td>1</td>\n      <td>1</td>\n      <td>0</td>\n      <td>1</td>\n      <td>60</td>\n      <td>177867</td>\n    </tr>\n    <tr>\n      <th>8428939</th>\n      <td>2020-09-21</td>\n      <td>18446737527580148316</td>\n      <td>547780001</td>\n      <td>0.023712</td>\n      <td>2.0</td>\n      <td>105</td>\n      <td>0.0</td>\n      <td>999.0</td>\n      <td>999.0</td>\n      <td>547780</td>\n      <td>...</td>\n      <td>27</td>\n      <td>1002</td>\n      <td>2</td>\n      <td>271</td>\n      <td>1</td>\n      <td>1</td>\n      <td>0</td>\n      <td>1</td>\n      <td>60</td>\n      <td>96323</td>\n    </tr>\n    <tr>\n      <th>8428940</th>\n      <td>2020-09-21</td>\n      <td>18446737527580148316</td>\n      <td>763988001</td>\n      <td>0.023712</td>\n      <td>2.0</td>\n      <td>105</td>\n      <td>0.0</td>\n      <td>999.0</td>\n      <td>999.0</td>\n      <td>763988</td>\n      <td>...</td>\n      <td>16</td>\n      <td>1002</td>\n      <td>2</td>\n      <td>1107</td>\n      <td>1</td>\n      <td>1</td>\n      <td>0</td>\n      <td>1</td>\n      <td>60</td>\n      <td>96323</td>\n    </tr>\n    <tr>\n      <th>8428941</th>\n      <td>2020-09-21</td>\n      <td>18446737527580148316</td>\n      <td>763988003</td>\n      <td>0.023712</td>\n      <td>2.0</td>\n      <td>105</td>\n      <td>0.0</td>\n      <td>999.0</td>\n      <td>999.0</td>\n      <td>763988</td>\n      <td>...</td>\n      <td>16</td>\n      <td>1002</td>\n      <td>2</td>\n      <td>1107</td>\n      <td>1</td>\n      <td>1</td>\n      <td>0</td>\n      <td>1</td>\n      <td>60</td>\n      <td>96323</td>\n    </tr>\n    <tr>\n      <th>8428942</th>\n      <td>2020-09-21</td>\n      <td>18446737527580148316</td>\n      <td>547780040</td>\n      <td>0.023712</td>\n      <td>2.0</td>\n      <td>105</td>\n      <td>0.0</td>\n      <td>999.0</td>\n      <td>999.0</td>\n      <td>547780</td>\n      <td>...</td>\n      <td>27</td>\n      <td>1002</td>\n      <td>2</td>\n      <td>271</td>\n      <td>1</td>\n      <td>1</td>\n      <td>0</td>\n      <td>1</td>\n      <td>60</td>\n      <td>96323</td>\n    </tr>\n  </tbody>\n</table>\n<p>1389562 rows × 39 columns</p>\n</div>"
     },
     "execution_count": 90,
     "metadata": {},
     "output_type": "execute_result"
    }
   ],
   "source": [
    "test"
   ],
   "metadata": {
    "collapsed": false,
    "ExecuteTime": {
     "end_time": "2023-11-29T03:09:38.259005700Z",
     "start_time": "2023-11-29T03:09:38.106217600Z"
    }
   },
   "id": "bf496f60023c723d"
  },
  {
   "cell_type": "code",
   "execution_count": 91,
   "outputs": [],
   "source": [
    "train_baskets = train.groupby(['week', 'customer_id'])['article_id'].count().values"
   ],
   "metadata": {
    "collapsed": false,
    "ExecuteTime": {
     "end_time": "2023-11-29T03:09:38.515376100Z",
     "start_time": "2023-11-29T03:09:38.247997200Z"
    }
   },
   "id": "c67f7a2a90520bc1"
  },
  {
   "cell_type": "code",
   "execution_count": 92,
   "outputs": [
    {
     "data": {
      "text/plain": "array([511, 480, 999, ...,   2,   7,   4], dtype=int64)"
     },
     "execution_count": 92,
     "metadata": {},
     "output_type": "execute_result"
    }
   ],
   "source": [
    "train_baskets"
   ],
   "metadata": {
    "collapsed": false,
    "ExecuteTime": {
     "end_time": "2023-11-29T03:09:38.532556200Z",
     "start_time": "2023-11-29T03:09:38.515376100Z"
    }
   },
   "id": "b126a8a13e89aba0"
  },
  {
   "cell_type": "code",
   "execution_count": 93,
   "outputs": [],
   "source": [
    "extra_columns = ['price_rank', 'age_rank']\n",
    "columns_to_use = ['article_id', 'product_type_no', 'graphical_appearance_no', 'colour_group_code', 'perceived_colour_value_id',\n",
    "'perceived_colour_master_id', 'department_no', 'index_code',\n",
    "'index_group_no', 'section_no', 'garment_group_no', 'FN', 'Active',\n",
    "'club_member_status', 'fashion_news_frequency', 'age', 'postal_code']\n",
    "columns_to_use.extend(extra_columns)\n",
    "\n",
    "train_X = train[columns_to_use]\n",
    "train_y = train['purchased']\n",
    "\n",
    "test_X = test[columns_to_use]"
   ],
   "metadata": {
    "collapsed": false,
    "ExecuteTime": {
     "end_time": "2023-11-29T03:09:38.640101500Z",
     "start_time": "2023-11-29T03:09:38.533556900Z"
    }
   },
   "id": "b7b334fa1a611f59"
  },
  {
   "cell_type": "code",
   "execution_count": 94,
   "outputs": [
    {
     "data": {
      "text/plain": "         article_id  product_type_no  graphical_appearance_no  \\\n5861238   925246001              262                  1010016   \n5861239   779068002              252                  1010016   \n5861245   754323004              252                  1010010   \n5861252   721481003              258                  1010017   \n5861259   904225001               87                  1010016   \n...             ...              ...                      ...   \n8428938   875784002              252                  1010016   \n8428939   547780001              272                  1010016   \n8428940   763988001              272                  1010016   \n8428941   763988003              272                  1010010   \n8428942   547780040              272                  1010016   \n\n         colour_group_code  perceived_colour_value_id  \\\n5861238                  9                          4   \n5861239                 13                          2   \n5861245                 14                          4   \n5861252                 73                          2   \n5861259                  9                          4   \n...                    ...                        ...   \n8428938                  9                          4   \n8428939                  9                          4   \n8428940                  9                          4   \n8428941                  9                          4   \n8428942                 31                          1   \n\n         perceived_colour_master_id  department_no  index_code  \\\n5861238                           5           1201           0   \n5861239                          11           1610           0   \n5861245                          11           1626           0   \n5861252                           6           1522           0   \n5861259                           5           3529           6   \n...                             ...            ...         ...   \n8428938                          12           1949           0   \n8428939                           5           1643           1   \n8428940                           5           5833           2   \n8428941                          12           5833           2   \n8428942                           3           1643           1   \n\n         index_group_no  section_no  garment_group_no  FN  Active  \\\n5861238               1          19              1007   1       1   \n5861239               1           6              1003   1       1   \n5861245               1          15              1003   1       1   \n5861252               1          15              1010   1       1   \n5861259               1          64              1020   1       1   \n...                 ...         ...               ...  ..     ...   \n8428938               1           2              1003   1       1   \n8428939               2          51              1002   1       1   \n8428940               3          26              1002   1       1   \n8428941               3          26              1002   1       1   \n8428942               2          51              1002   1       1   \n\n         club_member_status  fashion_news_frequency  age  postal_code  \\\n5861238                   0                       1   21        57896   \n5861239                   0                       1   21        57896   \n5861245                   0                       1   21        57896   \n5861252                   0                       1   21        57896   \n5861259                   0                       1   21        57896   \n...                     ...                     ...  ...          ...   \n8428938                   0                       1   60       177867   \n8428939                   0                       1   60        96323   \n8428940                   0                       1   60        96323   \n8428941                   0                       1   60        96323   \n8428942                   0                       1   60        96323   \n\n         price_rank  age_rank  \n5861238       999.0     999.0  \n5861239         7.0       1.0  \n5861245         7.0       2.0  \n5861252         7.0       3.0  \n5861259         7.0       3.0  \n...             ...       ...  \n8428938       999.0     999.0  \n8428939       999.0     999.0  \n8428940       999.0     999.0  \n8428941       999.0     999.0  \n8428942       999.0     999.0  \n\n[1389562 rows x 19 columns]",
      "text/html": "<div>\n<style scoped>\n    .dataframe tbody tr th:only-of-type {\n        vertical-align: middle;\n    }\n\n    .dataframe tbody tr th {\n        vertical-align: top;\n    }\n\n    .dataframe thead th {\n        text-align: right;\n    }\n</style>\n<table border=\"1\" class=\"dataframe\">\n  <thead>\n    <tr style=\"text-align: right;\">\n      <th></th>\n      <th>article_id</th>\n      <th>product_type_no</th>\n      <th>graphical_appearance_no</th>\n      <th>colour_group_code</th>\n      <th>perceived_colour_value_id</th>\n      <th>perceived_colour_master_id</th>\n      <th>department_no</th>\n      <th>index_code</th>\n      <th>index_group_no</th>\n      <th>section_no</th>\n      <th>garment_group_no</th>\n      <th>FN</th>\n      <th>Active</th>\n      <th>club_member_status</th>\n      <th>fashion_news_frequency</th>\n      <th>age</th>\n      <th>postal_code</th>\n      <th>price_rank</th>\n      <th>age_rank</th>\n    </tr>\n  </thead>\n  <tbody>\n    <tr>\n      <th>5861238</th>\n      <td>925246001</td>\n      <td>262</td>\n      <td>1010016</td>\n      <td>9</td>\n      <td>4</td>\n      <td>5</td>\n      <td>1201</td>\n      <td>0</td>\n      <td>1</td>\n      <td>19</td>\n      <td>1007</td>\n      <td>1</td>\n      <td>1</td>\n      <td>0</td>\n      <td>1</td>\n      <td>21</td>\n      <td>57896</td>\n      <td>999.0</td>\n      <td>999.0</td>\n    </tr>\n    <tr>\n      <th>5861239</th>\n      <td>779068002</td>\n      <td>252</td>\n      <td>1010016</td>\n      <td>13</td>\n      <td>2</td>\n      <td>11</td>\n      <td>1610</td>\n      <td>0</td>\n      <td>1</td>\n      <td>6</td>\n      <td>1003</td>\n      <td>1</td>\n      <td>1</td>\n      <td>0</td>\n      <td>1</td>\n      <td>21</td>\n      <td>57896</td>\n      <td>7.0</td>\n      <td>1.0</td>\n    </tr>\n    <tr>\n      <th>5861245</th>\n      <td>754323004</td>\n      <td>252</td>\n      <td>1010010</td>\n      <td>14</td>\n      <td>4</td>\n      <td>11</td>\n      <td>1626</td>\n      <td>0</td>\n      <td>1</td>\n      <td>15</td>\n      <td>1003</td>\n      <td>1</td>\n      <td>1</td>\n      <td>0</td>\n      <td>1</td>\n      <td>21</td>\n      <td>57896</td>\n      <td>7.0</td>\n      <td>2.0</td>\n    </tr>\n    <tr>\n      <th>5861252</th>\n      <td>721481003</td>\n      <td>258</td>\n      <td>1010017</td>\n      <td>73</td>\n      <td>2</td>\n      <td>6</td>\n      <td>1522</td>\n      <td>0</td>\n      <td>1</td>\n      <td>15</td>\n      <td>1010</td>\n      <td>1</td>\n      <td>1</td>\n      <td>0</td>\n      <td>1</td>\n      <td>21</td>\n      <td>57896</td>\n      <td>7.0</td>\n      <td>3.0</td>\n    </tr>\n    <tr>\n      <th>5861259</th>\n      <td>904225001</td>\n      <td>87</td>\n      <td>1010016</td>\n      <td>9</td>\n      <td>4</td>\n      <td>5</td>\n      <td>3529</td>\n      <td>6</td>\n      <td>1</td>\n      <td>64</td>\n      <td>1020</td>\n      <td>1</td>\n      <td>1</td>\n      <td>0</td>\n      <td>1</td>\n      <td>21</td>\n      <td>57896</td>\n      <td>7.0</td>\n      <td>3.0</td>\n    </tr>\n    <tr>\n      <th>...</th>\n      <td>...</td>\n      <td>...</td>\n      <td>...</td>\n      <td>...</td>\n      <td>...</td>\n      <td>...</td>\n      <td>...</td>\n      <td>...</td>\n      <td>...</td>\n      <td>...</td>\n      <td>...</td>\n      <td>...</td>\n      <td>...</td>\n      <td>...</td>\n      <td>...</td>\n      <td>...</td>\n      <td>...</td>\n      <td>...</td>\n      <td>...</td>\n    </tr>\n    <tr>\n      <th>8428938</th>\n      <td>875784002</td>\n      <td>252</td>\n      <td>1010016</td>\n      <td>9</td>\n      <td>4</td>\n      <td>12</td>\n      <td>1949</td>\n      <td>0</td>\n      <td>1</td>\n      <td>2</td>\n      <td>1003</td>\n      <td>1</td>\n      <td>1</td>\n      <td>0</td>\n      <td>1</td>\n      <td>60</td>\n      <td>177867</td>\n      <td>999.0</td>\n      <td>999.0</td>\n    </tr>\n    <tr>\n      <th>8428939</th>\n      <td>547780001</td>\n      <td>272</td>\n      <td>1010016</td>\n      <td>9</td>\n      <td>4</td>\n      <td>5</td>\n      <td>1643</td>\n      <td>1</td>\n      <td>2</td>\n      <td>51</td>\n      <td>1002</td>\n      <td>1</td>\n      <td>1</td>\n      <td>0</td>\n      <td>1</td>\n      <td>60</td>\n      <td>96323</td>\n      <td>999.0</td>\n      <td>999.0</td>\n    </tr>\n    <tr>\n      <th>8428940</th>\n      <td>763988001</td>\n      <td>272</td>\n      <td>1010016</td>\n      <td>9</td>\n      <td>4</td>\n      <td>5</td>\n      <td>5833</td>\n      <td>2</td>\n      <td>3</td>\n      <td>26</td>\n      <td>1002</td>\n      <td>1</td>\n      <td>1</td>\n      <td>0</td>\n      <td>1</td>\n      <td>60</td>\n      <td>96323</td>\n      <td>999.0</td>\n      <td>999.0</td>\n    </tr>\n    <tr>\n      <th>8428941</th>\n      <td>763988003</td>\n      <td>272</td>\n      <td>1010010</td>\n      <td>9</td>\n      <td>4</td>\n      <td>12</td>\n      <td>5833</td>\n      <td>2</td>\n      <td>3</td>\n      <td>26</td>\n      <td>1002</td>\n      <td>1</td>\n      <td>1</td>\n      <td>0</td>\n      <td>1</td>\n      <td>60</td>\n      <td>96323</td>\n      <td>999.0</td>\n      <td>999.0</td>\n    </tr>\n    <tr>\n      <th>8428942</th>\n      <td>547780040</td>\n      <td>272</td>\n      <td>1010016</td>\n      <td>31</td>\n      <td>1</td>\n      <td>3</td>\n      <td>1643</td>\n      <td>1</td>\n      <td>2</td>\n      <td>51</td>\n      <td>1002</td>\n      <td>1</td>\n      <td>1</td>\n      <td>0</td>\n      <td>1</td>\n      <td>60</td>\n      <td>96323</td>\n      <td>999.0</td>\n      <td>999.0</td>\n    </tr>\n  </tbody>\n</table>\n<p>1389562 rows × 19 columns</p>\n</div>"
     },
     "execution_count": 94,
     "metadata": {},
     "output_type": "execute_result"
    }
   ],
   "source": [
    "test_X"
   ],
   "metadata": {
    "collapsed": false,
    "ExecuteTime": {
     "end_time": "2023-11-29T03:09:38.665121900Z",
     "start_time": "2023-11-29T03:09:38.641102200Z"
    }
   },
   "id": "9ae23cbdc4c6d2ea"
  },
  {
   "cell_type": "code",
   "execution_count": 95,
   "outputs": [
    {
     "name": "stdout",
     "output_type": "stream",
     "text": [
      "[LightGBM] [Debug] Dataset::GetMultiBinFromSparseFeatures: sparse rate 0.857265\n",
      "[LightGBM] [Debug] Dataset::GetMultiBinFromAllFeatures: sparse rate 0.147489\n",
      "[LightGBM] [Debug] init for col-wise cost 0.042139 seconds, init for row-wise cost 0.055072 seconds\n",
      "[LightGBM] [Info] Auto-choosing row-wise multi-threading, the overhead of testing was 0.063597 seconds.\n",
      "You can set `force_row_wise=true` to remove the overhead.\n",
      "And if memory is not enough, you can set `force_col_wise=true`.\n",
      "[LightGBM] [Debug] Using Dense Multi-Val Bin\n",
      "[LightGBM] [Info] Total Bins 1160\n",
      "[LightGBM] [Info] Number of data points in the train set: 5861238, number of used features: 19\n",
      "[LightGBM] [Debug] Trained a tree with leaves = 31 and depth = 13\n"
     ]
    }
   ],
   "source": [
    "from lightgbm.sklearn import LGBMRanker\n",
    "ranker = LGBMRanker(\n",
    "    objective=\"lambdarank\",\n",
    "    metric=\"ndcg\",\n",
    "    boosting_type=\"dart\",\n",
    "    n_estimators=1,\n",
    "    importance_type='gain',\n",
    "    verbose=10\n",
    ")\n",
    "ranker = ranker.fit(\n",
    "    train_X,\n",
    "    train_y,\n",
    "    group=train_baskets,\n",
    ")"
   ],
   "metadata": {
    "collapsed": false,
    "ExecuteTime": {
     "end_time": "2023-11-29T03:09:40.055023900Z",
     "start_time": "2023-11-29T03:09:38.657611200Z"
    }
   },
   "id": "c6a40fe281d19c5"
  },
  {
   "cell_type": "code",
   "execution_count": 96,
   "outputs": [
    {
     "name": "stdout",
     "output_type": "stream",
     "text": [
      "price_rank 0.5767226339082321\n",
      "article_id 0.1545668302125849\n",
      "product_type_no 0.10616275726044201\n",
      "garment_group_no 0.079561831816993\n",
      "department_no 0.05759610958053573\n",
      "section_no 0.01456013861489466\n",
      "graphical_appearance_no 0.00680894920940695\n",
      "colour_group_code 0.004020749396910688\n",
      "Active 0.0\n",
      "FN 0.0\n",
      "club_member_status 0.0\n",
      "fashion_news_frequency 0.0\n",
      "index_group_no 0.0\n",
      "index_code 0.0\n",
      "age 0.0\n",
      "perceived_colour_master_id 0.0\n",
      "perceived_colour_value_id 0.0\n",
      "postal_code 0.0\n",
      "age_rank 0.0\n"
     ]
    }
   ],
   "source": [
    "for i in ranker.feature_importances_.argsort()[::-1]:\n",
    "    print(columns_to_use[i], ranker.feature_importances_[i]/ranker.feature_importances_.sum())"
   ],
   "metadata": {
    "collapsed": false,
    "ExecuteTime": {
     "end_time": "2023-11-29T03:09:40.069531900Z",
     "start_time": "2023-11-29T03:09:40.027505400Z"
    }
   },
   "id": "a7fa25bfba7bbd98"
  },
  {
   "cell_type": "code",
   "execution_count": 97,
   "outputs": [],
   "source": [
    "test['preds'] = ranker.predict(test_X)\n",
    "\n",
    "c_id2predicted_article_ids = test \\\n",
    "    .sort_values(['customer_id', 'preds'], ascending=False) \\\n",
    "    .groupby('customer_id')['article_id'].apply(list).to_dict()\n",
    "\n",
    "best_last_week = \\\n",
    "    top_candidates_3feat_prev_week[top_candidates_3feat_prev_week.week == top_candidates_3feat_prev_week.week.max()]['article_id'].tolist()"
   ],
   "metadata": {
    "collapsed": false,
    "ExecuteTime": {
     "end_time": "2023-11-29T03:09:44.390688400Z",
     "start_time": "2023-11-29T03:09:40.043516800Z"
    }
   },
   "id": "c09803d81131c215"
  },
  {
   "cell_type": "code",
   "execution_count": 98,
   "outputs": [],
   "source": [
    "sub = pd.read_csv('../input/sample_submission.csv')\n",
    "preds = []\n",
    "for c_id in customer_hex_id_to_int(sub.customer_id):\n",
    "    pred = c_id2predicted_article_ids.get(c_id, [])\n",
    "    pred = pred + best_last_week\n",
    "    preds.append(pred[:12])\n",
    "preds = [' '.join(['0' + str(p) for p in ps]) for ps in preds]\n",
    "sub.prediction = preds\n",
    "sub_name = 'basic_model_submission'\n",
    "sub.to_csv(f'{sub_name}.csv.gz', index=False)"
   ],
   "metadata": {
    "collapsed": false,
    "ExecuteTime": {
     "end_time": "2023-11-29T03:10:20.447248400Z",
     "start_time": "2023-11-29T03:09:44.392688400Z"
    }
   },
   "id": "10ac750cd3556fde"
  },
  {
   "cell_type": "code",
   "execution_count": null,
   "outputs": [],
   "source": [],
   "metadata": {
    "collapsed": false,
    "ExecuteTime": {
     "start_time": "2023-11-29T00:34:13.606116800Z"
    }
   },
   "id": "4787d91c0f8faa23"
  },
  {
   "cell_type": "code",
   "execution_count": null,
   "outputs": [],
   "source": [],
   "metadata": {
    "collapsed": false,
    "ExecuteTime": {
     "start_time": "2023-11-29T00:34:13.607116200Z"
    }
   },
   "id": "f52e4cd023f8304"
  },
  {
   "cell_type": "code",
   "execution_count": null,
   "outputs": [],
   "source": [],
   "metadata": {
    "collapsed": false,
    "ExecuteTime": {
     "start_time": "2023-11-29T00:34:13.607116200Z"
    }
   },
   "id": "327e07a422f8991"
  },
  {
   "cell_type": "code",
   "execution_count": null,
   "outputs": [],
   "source": [],
   "metadata": {
    "collapsed": false,
    "ExecuteTime": {
     "end_time": "2023-11-29T00:34:13.610116900Z",
     "start_time": "2023-11-29T00:34:13.608115700Z"
    }
   },
   "id": "887fdcf3034a9093"
  },
  {
   "cell_type": "code",
   "source": [
    "### Bestsellers candidates\n",
    "mean_price = transactions.groupby(['week', 'article_id'])['price'].mean()\n",
    "sales = transactions \\\n",
    "    .groupby('week')['article_id'].value_counts() \\\n",
    "    .groupby('week').rank(method='dense', ascending=False) \\\n",
    "    .groupby('week').head(12).rename('bestseller_rank').astype('int8')\n",
    "bestsellers_previous_week = pd.merge(sales, mean_price, on=['week', 'article_id']).reset_index()\n",
    "bestsellers_previous_week.week += 1"
   ],
   "metadata": {
    "papermill": {
     "duration": 0.11991,
     "end_time": "2022-04-16T16:59:28.231470",
     "exception": false,
     "start_time": "2022-04-16T16:59:28.111560",
     "status": "completed"
    },
    "tags": [],
    "execution": {
     "iopub.status.busy": "2023-10-11T08:03:25.596069Z",
     "iopub.execute_input": "2023-10-11T08:03:25.596380Z",
     "iopub.status.idle": "2023-10-11T08:03:25.640966Z",
     "shell.execute_reply.started": "2023-10-11T08:03:25.596349Z",
     "shell.execute_reply": "2023-10-11T08:03:25.640019Z"
    },
    "trusted": true,
    "ExecuteTime": {
     "end_time": "2023-11-28T23:48:56.941427600Z",
     "start_time": "2023-11-28T23:48:56.612827Z"
    }
   },
   "execution_count": 48,
   "outputs": [],
   "id": "bf2b1aaa2053ebaa"
  },
  {
   "cell_type": "code",
   "source": [
    "# bestsellers_previous_week.pipe(lambda df: df[df['week']==96])\n",
    "bestsellers_previous_week"
   ],
   "metadata": {
    "papermill": {
     "duration": 0.089116,
     "end_time": "2022-04-16T16:59:28.399153",
     "exception": false,
     "start_time": "2022-04-16T16:59:28.310037",
     "status": "completed"
    },
    "tags": [],
    "execution": {
     "iopub.status.busy": "2023-10-11T08:03:25.642378Z",
     "iopub.execute_input": "2023-10-11T08:03:25.642812Z",
     "iopub.status.idle": "2023-10-11T08:03:25.654010Z",
     "shell.execute_reply.started": "2023-10-11T08:03:25.642753Z",
     "shell.execute_reply": "2023-10-11T08:03:25.653041Z"
    },
    "trusted": true,
    "ExecuteTime": {
     "end_time": "2023-11-28T23:48:56.958958300Z",
     "start_time": "2023-11-28T23:48:56.941427600Z"
    }
   },
   "execution_count": 49,
   "outputs": [
    {
     "data": {
      "text/plain": "     week  article_id  bestseller_rank     price\n0      96   760084003                1  0.025094\n1      96   866731001                2  0.024919\n2      96   600886001                3  0.022980\n3      96   706016001                4  0.033197\n4      96   372860002                5  0.013193\n..    ...         ...              ...       ...\n115   105   915529003                8  0.033439\n116   105   915529005                9  0.033417\n117   105   448509014               10  0.041630\n118   105   762846027               11  0.025005\n119   105   714790020               12  0.049951\n\n[120 rows x 4 columns]",
      "text/html": "<div>\n<style scoped>\n    .dataframe tbody tr th:only-of-type {\n        vertical-align: middle;\n    }\n\n    .dataframe tbody tr th {\n        vertical-align: top;\n    }\n\n    .dataframe thead th {\n        text-align: right;\n    }\n</style>\n<table border=\"1\" class=\"dataframe\">\n  <thead>\n    <tr style=\"text-align: right;\">\n      <th></th>\n      <th>week</th>\n      <th>article_id</th>\n      <th>bestseller_rank</th>\n      <th>price</th>\n    </tr>\n  </thead>\n  <tbody>\n    <tr>\n      <th>0</th>\n      <td>96</td>\n      <td>760084003</td>\n      <td>1</td>\n      <td>0.025094</td>\n    </tr>\n    <tr>\n      <th>1</th>\n      <td>96</td>\n      <td>866731001</td>\n      <td>2</td>\n      <td>0.024919</td>\n    </tr>\n    <tr>\n      <th>2</th>\n      <td>96</td>\n      <td>600886001</td>\n      <td>3</td>\n      <td>0.022980</td>\n    </tr>\n    <tr>\n      <th>3</th>\n      <td>96</td>\n      <td>706016001</td>\n      <td>4</td>\n      <td>0.033197</td>\n    </tr>\n    <tr>\n      <th>4</th>\n      <td>96</td>\n      <td>372860002</td>\n      <td>5</td>\n      <td>0.013193</td>\n    </tr>\n    <tr>\n      <th>...</th>\n      <td>...</td>\n      <td>...</td>\n      <td>...</td>\n      <td>...</td>\n    </tr>\n    <tr>\n      <th>115</th>\n      <td>105</td>\n      <td>915529003</td>\n      <td>8</td>\n      <td>0.033439</td>\n    </tr>\n    <tr>\n      <th>116</th>\n      <td>105</td>\n      <td>915529005</td>\n      <td>9</td>\n      <td>0.033417</td>\n    </tr>\n    <tr>\n      <th>117</th>\n      <td>105</td>\n      <td>448509014</td>\n      <td>10</td>\n      <td>0.041630</td>\n    </tr>\n    <tr>\n      <th>118</th>\n      <td>105</td>\n      <td>762846027</td>\n      <td>11</td>\n      <td>0.025005</td>\n    </tr>\n    <tr>\n      <th>119</th>\n      <td>105</td>\n      <td>714790020</td>\n      <td>12</td>\n      <td>0.049951</td>\n    </tr>\n  </tbody>\n</table>\n<p>120 rows × 4 columns</p>\n</div>"
     },
     "execution_count": 49,
     "metadata": {},
     "output_type": "execute_result"
    }
   ],
   "id": "38554d4d96501297"
  },
  {
   "cell_type": "code",
   "source": [
    "unique_transactions = transactions.groupby(['week', 'customer_id']).head(1).drop(columns=['article_id', 'price']).copy()\n",
    "candidates_bestsellers = pd.merge(unique_transactions, bestsellers_previous_week, on='week',)\n",
    "test_set_transactions = unique_transactions.drop_duplicates('customer_id').reset_index(drop=True)\n",
    "test_set_transactions.week = test_week"
   ],
   "metadata": {
    "papermill": {
     "duration": 0.163691,
     "end_time": "2022-04-16T16:59:30.668845",
     "exception": false,
     "start_time": "2022-04-16T16:59:30.505154",
     "status": "completed"
    },
    "tags": [],
    "execution": {
     "iopub.status.busy": "2023-10-11T08:03:27.233086Z",
     "iopub.execute_input": "2023-10-11T08:03:27.233759Z",
     "iopub.status.idle": "2023-10-11T08:03:27.290835Z",
     "shell.execute_reply.started": "2023-10-11T08:03:27.233720Z",
     "shell.execute_reply": "2023-10-11T08:03:27.290007Z"
    },
    "trusted": true,
    "ExecuteTime": {
     "end_time": "2023-11-28T23:48:57.616586800Z",
     "start_time": "2023-11-28T23:48:56.958958300Z"
    }
   },
   "execution_count": 50,
   "outputs": [],
   "id": "43f6a7082fae2b06"
  },
  {
   "cell_type": "code",
   "execution_count": 51,
   "outputs": [],
   "source": [
    "# candidates_bestsellers"
   ],
   "metadata": {
    "collapsed": false,
    "ExecuteTime": {
     "end_time": "2023-11-28T23:48:57.632215Z",
     "start_time": "2023-11-28T23:48:57.616586800Z"
    }
   },
   "id": "a7ed7192b23479a4"
  },
  {
   "cell_type": "code",
   "source": [
    "# test_set_transactions\n",
    "# unique_transactions"
   ],
   "metadata": {
    "papermill": {
     "duration": 0.098295,
     "end_time": "2022-04-16T16:59:30.846626",
     "exception": false,
     "start_time": "2022-04-16T16:59:30.748331",
     "status": "completed"
    },
    "tags": [],
    "execution": {
     "iopub.status.busy": "2023-10-11T08:03:27.292596Z",
     "iopub.execute_input": "2023-10-11T08:03:27.293638Z",
     "iopub.status.idle": "2023-10-11T08:03:27.302090Z",
     "shell.execute_reply.started": "2023-10-11T08:03:27.293597Z",
     "shell.execute_reply": "2023-10-11T08:03:27.300846Z"
    },
    "trusted": true,
    "ExecuteTime": {
     "end_time": "2023-11-28T23:48:57.651445800Z",
     "start_time": "2023-11-28T23:48:57.633215300Z"
    }
   },
   "execution_count": 52,
   "outputs": [],
   "id": "2bee51c080e7d11d"
  },
  {
   "cell_type": "code",
   "source": [
    "candidates_bestsellers_test_week = pd.merge(test_set_transactions, bestsellers_previous_week, on='week')\n",
    "candidates_bestsellers = pd.concat([candidates_bestsellers, candidates_bestsellers_test_week])\n",
    "candidates_bestsellers.drop(columns='bestseller_rank', inplace=True)"
   ],
   "metadata": {
    "papermill": {
     "duration": 0.570441,
     "end_time": "2022-04-16T16:59:32.058855",
     "exception": false,
     "start_time": "2022-04-16T16:59:31.488414",
     "status": "completed"
    },
    "tags": [],
    "execution": {
     "iopub.status.busy": "2023-10-11T08:03:27.665568Z",
     "iopub.execute_input": "2023-10-11T08:03:27.666052Z",
     "iopub.status.idle": "2023-10-11T08:03:28.402619Z",
     "shell.execute_reply.started": "2023-10-11T08:03:27.666007Z",
     "shell.execute_reply": "2023-10-11T08:03:28.401580Z"
    },
    "trusted": true,
    "ExecuteTime": {
     "end_time": "2023-11-28T23:48:58.086663900Z",
     "start_time": "2023-11-28T23:48:57.648446200Z"
    }
   },
   "execution_count": 53,
   "outputs": [],
   "id": "99b980ad8b9e2dad"
  },
  {
   "cell_type": "code",
   "source": [
    "candidates_bestsellers"
   ],
   "metadata": {
    "papermill": {
     "duration": 0.095192,
     "end_time": "2022-04-16T16:59:32.233727",
     "exception": false,
     "start_time": "2022-04-16T16:59:32.138535",
     "status": "completed"
    },
    "tags": [],
    "execution": {
     "iopub.status.busy": "2023-10-11T08:03:28.403915Z",
     "iopub.execute_input": "2023-10-11T08:03:28.404325Z",
     "iopub.status.idle": "2023-10-11T08:03:28.412380Z",
     "shell.execute_reply.started": "2023-10-11T08:03:28.404290Z",
     "shell.execute_reply": "2023-10-11T08:03:28.411231Z"
    },
    "trusted": true,
    "ExecuteTime": {
     "end_time": "2023-11-28T23:48:58.102041600Z",
     "start_time": "2023-11-28T23:48:58.086663900Z"
    }
   },
   "execution_count": 54,
   "outputs": [
    {
     "data": {
      "text/plain": "             t_dat           customer_id  sales_channel_id  week  article_id  \\\n0       2020-07-22       200292573348128                 2    96   760084003   \n1       2020-07-22       200292573348128                 2    96   866731001   \n2       2020-07-22       200292573348128                 2    96   600886001   \n3       2020-07-22       200292573348128                 2    96   706016001   \n4       2020-07-22       200292573348128                 2    96   372860002   \n...            ...                   ...               ...   ...         ...   \n5248375 2020-09-22  18438270306572912089                 1   105   915529003   \n5248376 2020-09-22  18438270306572912089                 1   105   915529005   \n5248377 2020-09-22  18438270306572912089                 1   105   448509014   \n5248378 2020-09-22  18438270306572912089                 1   105   762846027   \n5248379 2020-09-22  18438270306572912089                 1   105   714790020   \n\n            price  \n0        0.025094  \n1        0.024919  \n2        0.022980  \n3        0.033197  \n4        0.013193  \n...           ...  \n5248375  0.033439  \n5248376  0.033417  \n5248377  0.041630  \n5248378  0.025005  \n5248379  0.049951  \n\n[13389576 rows x 6 columns]",
      "text/html": "<div>\n<style scoped>\n    .dataframe tbody tr th:only-of-type {\n        vertical-align: middle;\n    }\n\n    .dataframe tbody tr th {\n        vertical-align: top;\n    }\n\n    .dataframe thead th {\n        text-align: right;\n    }\n</style>\n<table border=\"1\" class=\"dataframe\">\n  <thead>\n    <tr style=\"text-align: right;\">\n      <th></th>\n      <th>t_dat</th>\n      <th>customer_id</th>\n      <th>sales_channel_id</th>\n      <th>week</th>\n      <th>article_id</th>\n      <th>price</th>\n    </tr>\n  </thead>\n  <tbody>\n    <tr>\n      <th>0</th>\n      <td>2020-07-22</td>\n      <td>200292573348128</td>\n      <td>2</td>\n      <td>96</td>\n      <td>760084003</td>\n      <td>0.025094</td>\n    </tr>\n    <tr>\n      <th>1</th>\n      <td>2020-07-22</td>\n      <td>200292573348128</td>\n      <td>2</td>\n      <td>96</td>\n      <td>866731001</td>\n      <td>0.024919</td>\n    </tr>\n    <tr>\n      <th>2</th>\n      <td>2020-07-22</td>\n      <td>200292573348128</td>\n      <td>2</td>\n      <td>96</td>\n      <td>600886001</td>\n      <td>0.022980</td>\n    </tr>\n    <tr>\n      <th>3</th>\n      <td>2020-07-22</td>\n      <td>200292573348128</td>\n      <td>2</td>\n      <td>96</td>\n      <td>706016001</td>\n      <td>0.033197</td>\n    </tr>\n    <tr>\n      <th>4</th>\n      <td>2020-07-22</td>\n      <td>200292573348128</td>\n      <td>2</td>\n      <td>96</td>\n      <td>372860002</td>\n      <td>0.013193</td>\n    </tr>\n    <tr>\n      <th>...</th>\n      <td>...</td>\n      <td>...</td>\n      <td>...</td>\n      <td>...</td>\n      <td>...</td>\n      <td>...</td>\n    </tr>\n    <tr>\n      <th>5248375</th>\n      <td>2020-09-22</td>\n      <td>18438270306572912089</td>\n      <td>1</td>\n      <td>105</td>\n      <td>915529003</td>\n      <td>0.033439</td>\n    </tr>\n    <tr>\n      <th>5248376</th>\n      <td>2020-09-22</td>\n      <td>18438270306572912089</td>\n      <td>1</td>\n      <td>105</td>\n      <td>915529005</td>\n      <td>0.033417</td>\n    </tr>\n    <tr>\n      <th>5248377</th>\n      <td>2020-09-22</td>\n      <td>18438270306572912089</td>\n      <td>1</td>\n      <td>105</td>\n      <td>448509014</td>\n      <td>0.041630</td>\n    </tr>\n    <tr>\n      <th>5248378</th>\n      <td>2020-09-22</td>\n      <td>18438270306572912089</td>\n      <td>1</td>\n      <td>105</td>\n      <td>762846027</td>\n      <td>0.025005</td>\n    </tr>\n    <tr>\n      <th>5248379</th>\n      <td>2020-09-22</td>\n      <td>18438270306572912089</td>\n      <td>1</td>\n      <td>105</td>\n      <td>714790020</td>\n      <td>0.049951</td>\n    </tr>\n  </tbody>\n</table>\n<p>13389576 rows × 6 columns</p>\n</div>"
     },
     "execution_count": 54,
     "metadata": {},
     "output_type": "execute_result"
    }
   ],
   "id": "8ca62bd46a28d851"
  },
  {
   "cell_type": "markdown",
   "source": [
    "# Combining transactions and candidates / negative examples"
   ],
   "metadata": {
    "papermill": {
     "duration": 0.08208,
     "end_time": "2022-04-16T16:59:32.397198",
     "exception": false,
     "start_time": "2022-04-16T16:59:32.315118",
     "status": "completed"
    },
    "tags": []
   },
   "id": "88415118080fdaed"
  },
  {
   "cell_type": "code",
   "source": [
    "transactions['purchased'] = 1\n",
    "data = pd.concat([transactions, candidates_last_purchase, candidates_bestsellers])\n",
    "data.purchased.fillna(0, inplace=True)\n",
    "data.drop_duplicates(['customer_id', 'article_id', 'week'], inplace=True)"
   ],
   "metadata": {
    "papermill": {
     "duration": 7.070271,
     "end_time": "2022-04-16T16:59:40.552624",
     "exception": false,
     "start_time": "2022-04-16T16:59:33.482353",
     "status": "completed"
    },
    "tags": [],
    "execution": {
     "iopub.status.busy": "2023-10-11T08:03:29.013858Z",
     "iopub.execute_input": "2023-10-11T08:03:29.014298Z",
     "iopub.status.idle": "2023-10-11T08:03:35.907805Z",
     "shell.execute_reply.started": "2023-10-11T08:03:29.014259Z",
     "shell.execute_reply": "2023-10-11T08:03:35.906630Z"
    },
    "trusted": true,
    "ExecuteTime": {
     "end_time": "2023-11-28T23:49:01.086249100Z",
     "start_time": "2023-11-28T23:48:58.102041600Z"
    }
   },
   "execution_count": 55,
   "outputs": [],
   "id": "79abce01eb35c392"
  },
  {
   "cell_type": "code",
   "execution_count": 56,
   "outputs": [
    {
     "data": {
      "text/plain": "              t_dat           customer_id  article_id     price  \\\n29030503 2020-07-15       272412481300040   778064028  0.008458   \n29030504 2020-07-15       272412481300040   816592008  0.016932   \n29030505 2020-07-15       272412481300040   621381021  0.033881   \n29030506 2020-07-15       272412481300040   817477003  0.025407   \n29030507 2020-07-15       272412481300040   899088002  0.025407   \n...             ...                   ...         ...       ...   \n5248375  2020-09-22  18438270306572912089   915529003  0.033439   \n5248376  2020-09-22  18438270306572912089   915529005  0.033417   \n5248377  2020-09-22  18438270306572912089   448509014  0.041630   \n5248378  2020-09-22  18438270306572912089   762846027  0.025005   \n5248379  2020-09-22  18438270306572912089   714790020  0.049951   \n\n          sales_channel_id  week  purchased  \n29030503                 1    95        1.0  \n29030504                 1    95        1.0  \n29030505                 1    95        1.0  \n29030506                 1    95        1.0  \n29030507                 1    95        1.0  \n...                    ...   ...        ...  \n5248375                  1   105        0.0  \n5248376                  1   105        0.0  \n5248377                  1   105        0.0  \n5248378                  1   105        0.0  \n5248379                  1   105        0.0  \n\n[18253749 rows x 7 columns]",
      "text/html": "<div>\n<style scoped>\n    .dataframe tbody tr th:only-of-type {\n        vertical-align: middle;\n    }\n\n    .dataframe tbody tr th {\n        vertical-align: top;\n    }\n\n    .dataframe thead th {\n        text-align: right;\n    }\n</style>\n<table border=\"1\" class=\"dataframe\">\n  <thead>\n    <tr style=\"text-align: right;\">\n      <th></th>\n      <th>t_dat</th>\n      <th>customer_id</th>\n      <th>article_id</th>\n      <th>price</th>\n      <th>sales_channel_id</th>\n      <th>week</th>\n      <th>purchased</th>\n    </tr>\n  </thead>\n  <tbody>\n    <tr>\n      <th>29030503</th>\n      <td>2020-07-15</td>\n      <td>272412481300040</td>\n      <td>778064028</td>\n      <td>0.008458</td>\n      <td>1</td>\n      <td>95</td>\n      <td>1.0</td>\n    </tr>\n    <tr>\n      <th>29030504</th>\n      <td>2020-07-15</td>\n      <td>272412481300040</td>\n      <td>816592008</td>\n      <td>0.016932</td>\n      <td>1</td>\n      <td>95</td>\n      <td>1.0</td>\n    </tr>\n    <tr>\n      <th>29030505</th>\n      <td>2020-07-15</td>\n      <td>272412481300040</td>\n      <td>621381021</td>\n      <td>0.033881</td>\n      <td>1</td>\n      <td>95</td>\n      <td>1.0</td>\n    </tr>\n    <tr>\n      <th>29030506</th>\n      <td>2020-07-15</td>\n      <td>272412481300040</td>\n      <td>817477003</td>\n      <td>0.025407</td>\n      <td>1</td>\n      <td>95</td>\n      <td>1.0</td>\n    </tr>\n    <tr>\n      <th>29030507</th>\n      <td>2020-07-15</td>\n      <td>272412481300040</td>\n      <td>899088002</td>\n      <td>0.025407</td>\n      <td>1</td>\n      <td>95</td>\n      <td>1.0</td>\n    </tr>\n    <tr>\n      <th>...</th>\n      <td>...</td>\n      <td>...</td>\n      <td>...</td>\n      <td>...</td>\n      <td>...</td>\n      <td>...</td>\n      <td>...</td>\n    </tr>\n    <tr>\n      <th>5248375</th>\n      <td>2020-09-22</td>\n      <td>18438270306572912089</td>\n      <td>915529003</td>\n      <td>0.033439</td>\n      <td>1</td>\n      <td>105</td>\n      <td>0.0</td>\n    </tr>\n    <tr>\n      <th>5248376</th>\n      <td>2020-09-22</td>\n      <td>18438270306572912089</td>\n      <td>915529005</td>\n      <td>0.033417</td>\n      <td>1</td>\n      <td>105</td>\n      <td>0.0</td>\n    </tr>\n    <tr>\n      <th>5248377</th>\n      <td>2020-09-22</td>\n      <td>18438270306572912089</td>\n      <td>448509014</td>\n      <td>0.041630</td>\n      <td>1</td>\n      <td>105</td>\n      <td>0.0</td>\n    </tr>\n    <tr>\n      <th>5248378</th>\n      <td>2020-09-22</td>\n      <td>18438270306572912089</td>\n      <td>762846027</td>\n      <td>0.025005</td>\n      <td>1</td>\n      <td>105</td>\n      <td>0.0</td>\n    </tr>\n    <tr>\n      <th>5248379</th>\n      <td>2020-09-22</td>\n      <td>18438270306572912089</td>\n      <td>714790020</td>\n      <td>0.049951</td>\n      <td>1</td>\n      <td>105</td>\n      <td>0.0</td>\n    </tr>\n  </tbody>\n</table>\n<p>18253749 rows × 7 columns</p>\n</div>"
     },
     "execution_count": 56,
     "metadata": {},
     "output_type": "execute_result"
    }
   ],
   "source": [
    "data"
   ],
   "metadata": {
    "collapsed": false,
    "ExecuteTime": {
     "end_time": "2023-11-28T23:49:01.103623200Z",
     "start_time": "2023-11-28T23:49:01.087246500Z"
    }
   },
   "id": "3cc9ba36fcd3d3b0"
  },
  {
   "cell_type": "markdown",
   "source": [
    "### Add bestseller information"
   ],
   "metadata": {
    "papermill": {
     "duration": 0.085919,
     "end_time": "2022-04-16T16:59:40.938934",
     "exception": false,
     "start_time": "2022-04-16T16:59:40.853015",
     "status": "completed"
    },
    "tags": []
   },
   "id": "43c893713e721c04"
  },
  {
   "cell_type": "code",
   "source": [
    "data = pd.merge(\n",
    "    data,\n",
    "    bestsellers_previous_week[['week', 'article_id', 'bestseller_rank']],\n",
    "    on=['week', 'article_id'],\n",
    "    how='left'\n",
    ")\n",
    "data = data[data.week != data.week.min()]\n",
    "data.bestseller_rank.fillna(999, inplace=True)\n",
    "data = pd.merge(data, articles, on='article_id', how='left')\n",
    "data = pd.merge(data, customers, on='customer_id', how='left')\n",
    "data.sort_values(['week', 'customer_id'], inplace=True)\n",
    "data.reset_index(drop=True, inplace=True)"
   ],
   "metadata": {
    "papermill": {
     "duration": 6.526551,
     "end_time": "2022-04-16T17:00:17.700139",
     "exception": false,
     "start_time": "2022-04-16T17:00:11.173588",
     "status": "completed"
    },
    "tags": [],
    "execution": {
     "iopub.status.busy": "2023-10-11T08:03:53.360623Z",
     "iopub.execute_input": "2023-10-11T08:03:53.361255Z",
     "iopub.status.idle": "2023-10-11T08:03:58.996101Z",
     "shell.execute_reply.started": "2023-10-11T08:03:53.361181Z",
     "shell.execute_reply": "2023-10-11T08:03:58.994878Z"
    },
    "trusted": true,
    "ExecuteTime": {
     "end_time": "2023-11-28T23:49:08.620198300Z",
     "start_time": "2023-11-28T23:49:01.104622400Z"
    }
   },
   "execution_count": 57,
   "outputs": [],
   "id": "cf878ef12e8a2606"
  },
  {
   "cell_type": "code",
   "source": [
    "train = data[data.week != test_week]\n",
    "test = data[data.week==test_week].drop_duplicates(['customer_id', 'article_id', 'sales_channel_id']).copy()"
   ],
   "metadata": {
    "papermill": {
     "duration": 6.711593,
     "end_time": "2022-04-16T17:00:24.465301",
     "exception": false,
     "start_time": "2022-04-16T17:00:17.753708",
     "status": "completed"
    },
    "tags": [],
    "execution": {
     "iopub.status.busy": "2023-10-11T08:03:58.997487Z",
     "iopub.execute_input": "2023-10-11T08:03:58.998061Z",
     "iopub.status.idle": "2023-10-11T08:04:05.048167Z",
     "shell.execute_reply.started": "2023-10-11T08:03:58.998031Z",
     "shell.execute_reply": "2023-10-11T08:04:05.046865Z"
    },
    "trusted": true,
    "ExecuteTime": {
     "end_time": "2023-11-28T23:49:10.939668400Z",
     "start_time": "2023-11-28T23:49:08.621703200Z"
    }
   },
   "execution_count": 58,
   "outputs": [],
   "id": "9918b84796200b6e"
  },
  {
   "cell_type": "code",
   "execution_count": 59,
   "outputs": [
    {
     "data": {
      "text/plain": "              t_dat           customer_id  article_id     price  \\\n11381612 2020-09-03        28847241659200   925246001  0.128797   \n11381613 2020-07-18        28847241659200   924243001  0.041535   \n11381614 2020-07-18        28847241659200   924243002  0.041877   \n11381615 2020-07-18        28847241659200   918522001  0.041435   \n11381616 2020-07-18        28847241659200   923758001  0.033462   \n...             ...                   ...         ...       ...   \n17991757 2020-09-21  18446737527580148316   915529003  0.033439   \n17991758 2020-09-21  18446737527580148316   915529005  0.033417   \n17991759 2020-09-21  18446737527580148316   448509014  0.041630   \n17991760 2020-09-21  18446737527580148316   762846027  0.025005   \n17991761 2020-09-21  18446737527580148316   714790020  0.049951   \n\n          sales_channel_id  week  purchased  bestseller_rank  product_code  \\\n11381612                 2   105        0.0            999.0        925246   \n11381613                 1   105        0.0              1.0        924243   \n11381614                 1   105        0.0              2.0        924243   \n11381615                 1   105        0.0              3.0        918522   \n11381616                 1   105        0.0              4.0        923758   \n...                    ...   ...        ...              ...           ...   \n17991757                 2   105        0.0              8.0        915529   \n17991758                 2   105        0.0              9.0        915529   \n17991759                 2   105        0.0             10.0        448509   \n17991760                 2   105        0.0             11.0        762846   \n17991761                 2   105        0.0             12.0        714790   \n\n          prod_name  ...  section_name  garment_group_no  garment_group_name  \\\n11381612      25454  ...            40              1007                   9   \n11381613      19190  ...             0              1003                   3   \n11381614      19190  ...             0              1003                   3   \n11381615      26372  ...             0              1003                   3   \n11381616      19359  ...             0              1010                   6   \n...             ...  ...           ...               ...                 ...   \n17991757       7046  ...             0              1003                   3   \n17991758       7046  ...             0              1003                   3   \n17991759        259  ...             1              1009                   5   \n17991760        472  ...             7              1010                   6   \n17991761       4354  ...            37              1016                  11   \n\n          detail_desc  FN  Active  club_member_status  fashion_news_frequency  \\\n11381612        27855   1       1                   0                       1   \n11381613        13007   1       1                   0                       1   \n11381614        13007   1       1                   0                       1   \n11381615        28633   1       1                   0                       1   \n11381616        27869   1       1                   0                       1   \n...               ...  ..     ...                 ...                     ...   \n17991757        10909   1       1                   0                       1   \n17991758        10909   1       1                   0                       1   \n17991759          255   1       1                   0                       1   \n17991760          492   1       1                   0                       1   \n17991761          856   1       1                   0                       1   \n\n          age  postal_code  \n11381612   21        57896  \n11381613   21        57896  \n11381614   21        57896  \n11381615   21        57896  \n11381616   21        57896  \n...       ...          ...  \n17991757   60        96323  \n17991758   60        96323  \n17991759   60        96323  \n17991760   60        96323  \n17991761   60        96323  \n\n[6610150 rows x 38 columns]",
      "text/html": "<div>\n<style scoped>\n    .dataframe tbody tr th:only-of-type {\n        vertical-align: middle;\n    }\n\n    .dataframe tbody tr th {\n        vertical-align: top;\n    }\n\n    .dataframe thead th {\n        text-align: right;\n    }\n</style>\n<table border=\"1\" class=\"dataframe\">\n  <thead>\n    <tr style=\"text-align: right;\">\n      <th></th>\n      <th>t_dat</th>\n      <th>customer_id</th>\n      <th>article_id</th>\n      <th>price</th>\n      <th>sales_channel_id</th>\n      <th>week</th>\n      <th>purchased</th>\n      <th>bestseller_rank</th>\n      <th>product_code</th>\n      <th>prod_name</th>\n      <th>...</th>\n      <th>section_name</th>\n      <th>garment_group_no</th>\n      <th>garment_group_name</th>\n      <th>detail_desc</th>\n      <th>FN</th>\n      <th>Active</th>\n      <th>club_member_status</th>\n      <th>fashion_news_frequency</th>\n      <th>age</th>\n      <th>postal_code</th>\n    </tr>\n  </thead>\n  <tbody>\n    <tr>\n      <th>11381612</th>\n      <td>2020-09-03</td>\n      <td>28847241659200</td>\n      <td>925246001</td>\n      <td>0.128797</td>\n      <td>2</td>\n      <td>105</td>\n      <td>0.0</td>\n      <td>999.0</td>\n      <td>925246</td>\n      <td>25454</td>\n      <td>...</td>\n      <td>40</td>\n      <td>1007</td>\n      <td>9</td>\n      <td>27855</td>\n      <td>1</td>\n      <td>1</td>\n      <td>0</td>\n      <td>1</td>\n      <td>21</td>\n      <td>57896</td>\n    </tr>\n    <tr>\n      <th>11381613</th>\n      <td>2020-07-18</td>\n      <td>28847241659200</td>\n      <td>924243001</td>\n      <td>0.041535</td>\n      <td>1</td>\n      <td>105</td>\n      <td>0.0</td>\n      <td>1.0</td>\n      <td>924243</td>\n      <td>19190</td>\n      <td>...</td>\n      <td>0</td>\n      <td>1003</td>\n      <td>3</td>\n      <td>13007</td>\n      <td>1</td>\n      <td>1</td>\n      <td>0</td>\n      <td>1</td>\n      <td>21</td>\n      <td>57896</td>\n    </tr>\n    <tr>\n      <th>11381614</th>\n      <td>2020-07-18</td>\n      <td>28847241659200</td>\n      <td>924243002</td>\n      <td>0.041877</td>\n      <td>1</td>\n      <td>105</td>\n      <td>0.0</td>\n      <td>2.0</td>\n      <td>924243</td>\n      <td>19190</td>\n      <td>...</td>\n      <td>0</td>\n      <td>1003</td>\n      <td>3</td>\n      <td>13007</td>\n      <td>1</td>\n      <td>1</td>\n      <td>0</td>\n      <td>1</td>\n      <td>21</td>\n      <td>57896</td>\n    </tr>\n    <tr>\n      <th>11381615</th>\n      <td>2020-07-18</td>\n      <td>28847241659200</td>\n      <td>918522001</td>\n      <td>0.041435</td>\n      <td>1</td>\n      <td>105</td>\n      <td>0.0</td>\n      <td>3.0</td>\n      <td>918522</td>\n      <td>26372</td>\n      <td>...</td>\n      <td>0</td>\n      <td>1003</td>\n      <td>3</td>\n      <td>28633</td>\n      <td>1</td>\n      <td>1</td>\n      <td>0</td>\n      <td>1</td>\n      <td>21</td>\n      <td>57896</td>\n    </tr>\n    <tr>\n      <th>11381616</th>\n      <td>2020-07-18</td>\n      <td>28847241659200</td>\n      <td>923758001</td>\n      <td>0.033462</td>\n      <td>1</td>\n      <td>105</td>\n      <td>0.0</td>\n      <td>4.0</td>\n      <td>923758</td>\n      <td>19359</td>\n      <td>...</td>\n      <td>0</td>\n      <td>1010</td>\n      <td>6</td>\n      <td>27869</td>\n      <td>1</td>\n      <td>1</td>\n      <td>0</td>\n      <td>1</td>\n      <td>21</td>\n      <td>57896</td>\n    </tr>\n    <tr>\n      <th>...</th>\n      <td>...</td>\n      <td>...</td>\n      <td>...</td>\n      <td>...</td>\n      <td>...</td>\n      <td>...</td>\n      <td>...</td>\n      <td>...</td>\n      <td>...</td>\n      <td>...</td>\n      <td>...</td>\n      <td>...</td>\n      <td>...</td>\n      <td>...</td>\n      <td>...</td>\n      <td>...</td>\n      <td>...</td>\n      <td>...</td>\n      <td>...</td>\n      <td>...</td>\n      <td>...</td>\n    </tr>\n    <tr>\n      <th>17991757</th>\n      <td>2020-09-21</td>\n      <td>18446737527580148316</td>\n      <td>915529003</td>\n      <td>0.033439</td>\n      <td>2</td>\n      <td>105</td>\n      <td>0.0</td>\n      <td>8.0</td>\n      <td>915529</td>\n      <td>7046</td>\n      <td>...</td>\n      <td>0</td>\n      <td>1003</td>\n      <td>3</td>\n      <td>10909</td>\n      <td>1</td>\n      <td>1</td>\n      <td>0</td>\n      <td>1</td>\n      <td>60</td>\n      <td>96323</td>\n    </tr>\n    <tr>\n      <th>17991758</th>\n      <td>2020-09-21</td>\n      <td>18446737527580148316</td>\n      <td>915529005</td>\n      <td>0.033417</td>\n      <td>2</td>\n      <td>105</td>\n      <td>0.0</td>\n      <td>9.0</td>\n      <td>915529</td>\n      <td>7046</td>\n      <td>...</td>\n      <td>0</td>\n      <td>1003</td>\n      <td>3</td>\n      <td>10909</td>\n      <td>1</td>\n      <td>1</td>\n      <td>0</td>\n      <td>1</td>\n      <td>60</td>\n      <td>96323</td>\n    </tr>\n    <tr>\n      <th>17991759</th>\n      <td>2020-09-21</td>\n      <td>18446737527580148316</td>\n      <td>448509014</td>\n      <td>0.041630</td>\n      <td>2</td>\n      <td>105</td>\n      <td>0.0</td>\n      <td>10.0</td>\n      <td>448509</td>\n      <td>259</td>\n      <td>...</td>\n      <td>1</td>\n      <td>1009</td>\n      <td>5</td>\n      <td>255</td>\n      <td>1</td>\n      <td>1</td>\n      <td>0</td>\n      <td>1</td>\n      <td>60</td>\n      <td>96323</td>\n    </tr>\n    <tr>\n      <th>17991760</th>\n      <td>2020-09-21</td>\n      <td>18446737527580148316</td>\n      <td>762846027</td>\n      <td>0.025005</td>\n      <td>2</td>\n      <td>105</td>\n      <td>0.0</td>\n      <td>11.0</td>\n      <td>762846</td>\n      <td>472</td>\n      <td>...</td>\n      <td>7</td>\n      <td>1010</td>\n      <td>6</td>\n      <td>492</td>\n      <td>1</td>\n      <td>1</td>\n      <td>0</td>\n      <td>1</td>\n      <td>60</td>\n      <td>96323</td>\n    </tr>\n    <tr>\n      <th>17991761</th>\n      <td>2020-09-21</td>\n      <td>18446737527580148316</td>\n      <td>714790020</td>\n      <td>0.049951</td>\n      <td>2</td>\n      <td>105</td>\n      <td>0.0</td>\n      <td>12.0</td>\n      <td>714790</td>\n      <td>4354</td>\n      <td>...</td>\n      <td>37</td>\n      <td>1016</td>\n      <td>11</td>\n      <td>856</td>\n      <td>1</td>\n      <td>1</td>\n      <td>0</td>\n      <td>1</td>\n      <td>60</td>\n      <td>96323</td>\n    </tr>\n  </tbody>\n</table>\n<p>6610150 rows × 38 columns</p>\n</div>"
     },
     "execution_count": 59,
     "metadata": {},
     "output_type": "execute_result"
    }
   ],
   "source": [
    "test"
   ],
   "metadata": {
    "collapsed": false,
    "ExecuteTime": {
     "end_time": "2023-11-28T23:49:11.423309300Z",
     "start_time": "2023-11-28T23:49:10.940670200Z"
    }
   },
   "id": "47ce2142709fb910"
  },
  {
   "cell_type": "code",
   "source": [
    "train_baskets = train.groupby(['week', 'customer_id'])['article_id'].count().values"
   ],
   "metadata": {
    "papermill": {
     "duration": 1.036818,
     "end_time": "2022-04-16T17:00:25.556300",
     "exception": false,
     "start_time": "2022-04-16T17:00:24.519482",
     "status": "completed"
    },
    "tags": [],
    "execution": {
     "iopub.status.busy": "2023-10-11T08:04:05.049936Z",
     "iopub.execute_input": "2023-10-11T08:04:05.050282Z",
     "iopub.status.idle": "2023-10-11T08:04:05.826591Z",
     "shell.execute_reply.started": "2023-10-11T08:04:05.050248Z",
     "shell.execute_reply": "2023-10-11T08:04:05.825128Z"
    },
    "trusted": true,
    "ExecuteTime": {
     "end_time": "2023-11-28T23:49:11.847432900Z",
     "start_time": "2023-11-28T23:49:11.423309300Z"
    }
   },
   "execution_count": 60,
   "outputs": [],
   "id": "ba7d814dbd464026"
  },
  {
   "cell_type": "code",
   "execution_count": 61,
   "outputs": [
    {
     "data": {
      "text/plain": "array([15, 23, 16, ..., 14, 19, 16], dtype=int64)"
     },
     "execution_count": 61,
     "metadata": {},
     "output_type": "execute_result"
    }
   ],
   "source": [
    "train_baskets"
   ],
   "metadata": {
    "collapsed": false,
    "ExecuteTime": {
     "end_time": "2023-11-28T23:49:11.861608200Z",
     "start_time": "2023-11-28T23:49:11.848430100Z"
    }
   },
   "id": "d0a803dd40f2a38b"
  },
  {
   "cell_type": "code",
   "source": [
    "extra_columns = []\n",
    "columns_to_use = ['article_id', 'product_type_no', 'graphical_appearance_no', 'colour_group_code', 'perceived_colour_value_id',\n",
    "'perceived_colour_master_id', 'department_no', 'index_code',\n",
    "'index_group_no', 'section_no', 'garment_group_no', 'FN', 'Active',\n",
    "'club_member_status', 'fashion_news_frequency', 'age', 'postal_code', 'bestseller_rank']\n",
    "columns_to_use.extend(extra_columns)"
   ],
   "metadata": {
    "papermill": {
     "duration": 0.070485,
     "end_time": "2022-04-16T17:00:25.687322",
     "exception": false,
     "start_time": "2022-04-16T17:00:25.616837",
     "status": "completed"
    },
    "tags": [],
    "execution": {
     "iopub.status.busy": "2023-10-11T08:04:05.828276Z",
     "iopub.execute_input": "2023-10-11T08:04:05.828819Z",
     "iopub.status.idle": "2023-10-11T08:04:05.834579Z",
     "shell.execute_reply.started": "2023-10-11T08:04:05.828659Z",
     "shell.execute_reply": "2023-10-11T08:04:05.833394Z"
    },
    "trusted": true,
    "ExecuteTime": {
     "end_time": "2023-11-28T23:49:11.886475700Z",
     "start_time": "2023-11-28T23:49:11.862752500Z"
    }
   },
   "execution_count": 62,
   "outputs": [],
   "id": "a24741570390faec"
  },
  {
   "cell_type": "code",
   "source": [
    "train_X = train[columns_to_use]\n",
    "train_y = train['purchased']\n",
    "\n",
    "test_X = test[columns_to_use]"
   ],
   "metadata": {
    "papermill": {
     "duration": 0.633318,
     "end_time": "2022-04-16T17:00:26.379109",
     "exception": false,
     "start_time": "2022-04-16T17:00:25.745791",
     "status": "completed"
    },
    "tags": [],
    "execution": {
     "iopub.status.busy": "2023-10-11T08:04:05.835768Z",
     "iopub.execute_input": "2023-10-11T08:04:05.836432Z",
     "iopub.status.idle": "2023-10-11T08:04:06.660128Z",
     "shell.execute_reply.started": "2023-10-11T08:04:05.836399Z",
     "shell.execute_reply": "2023-10-11T08:04:06.658324Z"
    },
    "trusted": true,
    "ExecuteTime": {
     "end_time": "2023-11-28T23:49:12.171579400Z",
     "start_time": "2023-11-28T23:49:11.877256800Z"
    }
   },
   "execution_count": 63,
   "outputs": [],
   "id": "84918c306f6c2fbf"
  },
  {
   "cell_type": "code",
   "source": [
    "test_X"
   ],
   "metadata": {
    "execution": {
     "iopub.status.busy": "2023-10-11T08:04:06.661241Z",
     "iopub.status.idle": "2023-10-11T08:04:06.661650Z",
     "shell.execute_reply.started": "2023-10-11T08:04:06.661472Z",
     "shell.execute_reply": "2023-10-11T08:04:06.661490Z"
    },
    "trusted": true,
    "ExecuteTime": {
     "end_time": "2023-11-28T23:49:12.186217300Z",
     "start_time": "2023-11-28T23:49:12.171579400Z"
    }
   },
   "execution_count": 64,
   "outputs": [
    {
     "data": {
      "text/plain": "          article_id  product_type_no  graphical_appearance_no  \\\n11381612   925246001              262                  1010016   \n11381613   924243001              252                  1010016   \n11381614   924243002              252                  1010016   \n11381615   918522001              252                  1010016   \n11381616   923758001               -1                  1010016   \n...              ...              ...                      ...   \n17991757   915529003              252                  1010016   \n17991758   915529005              252                  1010016   \n17991759   448509014              272                  1010016   \n17991760   762846027              259                  1010016   \n17991761   714790020              272                  1010023   \n\n          colour_group_code  perceived_colour_value_id  \\\n11381612                  9                          4   \n11381613                 13                          1   \n11381614                  9                          4   \n11381615                 11                          3   \n11381616                 10                          3   \n...                     ...                        ...   \n17991757                  9                          4   \n17991758                 13                          1   \n17991759                 72                          3   \n17991760                 13                          1   \n17991761                 72                          2   \n\n          perceived_colour_master_id  department_no  index_code  \\\n11381612                           5           1201           0   \n11381613                           1           1626           0   \n11381614                           5           1626           0   \n11381615                           9           1626           0   \n11381616                           9           1522           0   \n...                              ...            ...         ...   \n17991757                           5           1626           0   \n17991758                           1           1626           0   \n17991759                           2           1747           1   \n17991760                           1           1515           0   \n17991761                           2           1772           1   \n\n          index_group_no  section_no  garment_group_no  FN  Active  \\\n11381612               1          19              1007   1       1   \n11381613               1          15              1003   1       1   \n11381614               1          15              1003   1       1   \n11381615               1          15              1003   1       1   \n11381616               1          15              1010   1       1   \n...                  ...         ...               ...  ..     ...   \n17991757               1          15              1003   1       1   \n17991758               1          15              1003   1       1   \n17991759               2          53              1009   1       1   \n17991760               1          11              1010   1       1   \n17991761               2          57              1016   1       1   \n\n          club_member_status  fashion_news_frequency  age  postal_code  \\\n11381612                   0                       1   21        57896   \n11381613                   0                       1   21        57896   \n11381614                   0                       1   21        57896   \n11381615                   0                       1   21        57896   \n11381616                   0                       1   21        57896   \n...                      ...                     ...  ...          ...   \n17991757                   0                       1   60        96323   \n17991758                   0                       1   60        96323   \n17991759                   0                       1   60        96323   \n17991760                   0                       1   60        96323   \n17991761                   0                       1   60        96323   \n\n          bestseller_rank  \n11381612            999.0  \n11381613              1.0  \n11381614              2.0  \n11381615              3.0  \n11381616              4.0  \n...                   ...  \n17991757              8.0  \n17991758              9.0  \n17991759             10.0  \n17991760             11.0  \n17991761             12.0  \n\n[6610150 rows x 18 columns]",
      "text/html": "<div>\n<style scoped>\n    .dataframe tbody tr th:only-of-type {\n        vertical-align: middle;\n    }\n\n    .dataframe tbody tr th {\n        vertical-align: top;\n    }\n\n    .dataframe thead th {\n        text-align: right;\n    }\n</style>\n<table border=\"1\" class=\"dataframe\">\n  <thead>\n    <tr style=\"text-align: right;\">\n      <th></th>\n      <th>article_id</th>\n      <th>product_type_no</th>\n      <th>graphical_appearance_no</th>\n      <th>colour_group_code</th>\n      <th>perceived_colour_value_id</th>\n      <th>perceived_colour_master_id</th>\n      <th>department_no</th>\n      <th>index_code</th>\n      <th>index_group_no</th>\n      <th>section_no</th>\n      <th>garment_group_no</th>\n      <th>FN</th>\n      <th>Active</th>\n      <th>club_member_status</th>\n      <th>fashion_news_frequency</th>\n      <th>age</th>\n      <th>postal_code</th>\n      <th>bestseller_rank</th>\n    </tr>\n  </thead>\n  <tbody>\n    <tr>\n      <th>11381612</th>\n      <td>925246001</td>\n      <td>262</td>\n      <td>1010016</td>\n      <td>9</td>\n      <td>4</td>\n      <td>5</td>\n      <td>1201</td>\n      <td>0</td>\n      <td>1</td>\n      <td>19</td>\n      <td>1007</td>\n      <td>1</td>\n      <td>1</td>\n      <td>0</td>\n      <td>1</td>\n      <td>21</td>\n      <td>57896</td>\n      <td>999.0</td>\n    </tr>\n    <tr>\n      <th>11381613</th>\n      <td>924243001</td>\n      <td>252</td>\n      <td>1010016</td>\n      <td>13</td>\n      <td>1</td>\n      <td>1</td>\n      <td>1626</td>\n      <td>0</td>\n      <td>1</td>\n      <td>15</td>\n      <td>1003</td>\n      <td>1</td>\n      <td>1</td>\n      <td>0</td>\n      <td>1</td>\n      <td>21</td>\n      <td>57896</td>\n      <td>1.0</td>\n    </tr>\n    <tr>\n      <th>11381614</th>\n      <td>924243002</td>\n      <td>252</td>\n      <td>1010016</td>\n      <td>9</td>\n      <td>4</td>\n      <td>5</td>\n      <td>1626</td>\n      <td>0</td>\n      <td>1</td>\n      <td>15</td>\n      <td>1003</td>\n      <td>1</td>\n      <td>1</td>\n      <td>0</td>\n      <td>1</td>\n      <td>21</td>\n      <td>57896</td>\n      <td>2.0</td>\n    </tr>\n    <tr>\n      <th>11381615</th>\n      <td>918522001</td>\n      <td>252</td>\n      <td>1010016</td>\n      <td>11</td>\n      <td>3</td>\n      <td>9</td>\n      <td>1626</td>\n      <td>0</td>\n      <td>1</td>\n      <td>15</td>\n      <td>1003</td>\n      <td>1</td>\n      <td>1</td>\n      <td>0</td>\n      <td>1</td>\n      <td>21</td>\n      <td>57896</td>\n      <td>3.0</td>\n    </tr>\n    <tr>\n      <th>11381616</th>\n      <td>923758001</td>\n      <td>-1</td>\n      <td>1010016</td>\n      <td>10</td>\n      <td>3</td>\n      <td>9</td>\n      <td>1522</td>\n      <td>0</td>\n      <td>1</td>\n      <td>15</td>\n      <td>1010</td>\n      <td>1</td>\n      <td>1</td>\n      <td>0</td>\n      <td>1</td>\n      <td>21</td>\n      <td>57896</td>\n      <td>4.0</td>\n    </tr>\n    <tr>\n      <th>...</th>\n      <td>...</td>\n      <td>...</td>\n      <td>...</td>\n      <td>...</td>\n      <td>...</td>\n      <td>...</td>\n      <td>...</td>\n      <td>...</td>\n      <td>...</td>\n      <td>...</td>\n      <td>...</td>\n      <td>...</td>\n      <td>...</td>\n      <td>...</td>\n      <td>...</td>\n      <td>...</td>\n      <td>...</td>\n      <td>...</td>\n    </tr>\n    <tr>\n      <th>17991757</th>\n      <td>915529003</td>\n      <td>252</td>\n      <td>1010016</td>\n      <td>9</td>\n      <td>4</td>\n      <td>5</td>\n      <td>1626</td>\n      <td>0</td>\n      <td>1</td>\n      <td>15</td>\n      <td>1003</td>\n      <td>1</td>\n      <td>1</td>\n      <td>0</td>\n      <td>1</td>\n      <td>60</td>\n      <td>96323</td>\n      <td>8.0</td>\n    </tr>\n    <tr>\n      <th>17991758</th>\n      <td>915529005</td>\n      <td>252</td>\n      <td>1010016</td>\n      <td>13</td>\n      <td>1</td>\n      <td>1</td>\n      <td>1626</td>\n      <td>0</td>\n      <td>1</td>\n      <td>15</td>\n      <td>1003</td>\n      <td>1</td>\n      <td>1</td>\n      <td>0</td>\n      <td>1</td>\n      <td>60</td>\n      <td>96323</td>\n      <td>9.0</td>\n    </tr>\n    <tr>\n      <th>17991759</th>\n      <td>448509014</td>\n      <td>272</td>\n      <td>1010016</td>\n      <td>72</td>\n      <td>3</td>\n      <td>2</td>\n      <td>1747</td>\n      <td>1</td>\n      <td>2</td>\n      <td>53</td>\n      <td>1009</td>\n      <td>1</td>\n      <td>1</td>\n      <td>0</td>\n      <td>1</td>\n      <td>60</td>\n      <td>96323</td>\n      <td>10.0</td>\n    </tr>\n    <tr>\n      <th>17991760</th>\n      <td>762846027</td>\n      <td>259</td>\n      <td>1010016</td>\n      <td>13</td>\n      <td>1</td>\n      <td>1</td>\n      <td>1515</td>\n      <td>0</td>\n      <td>1</td>\n      <td>11</td>\n      <td>1010</td>\n      <td>1</td>\n      <td>1</td>\n      <td>0</td>\n      <td>1</td>\n      <td>60</td>\n      <td>96323</td>\n      <td>11.0</td>\n    </tr>\n    <tr>\n      <th>17991761</th>\n      <td>714790020</td>\n      <td>272</td>\n      <td>1010023</td>\n      <td>72</td>\n      <td>2</td>\n      <td>2</td>\n      <td>1772</td>\n      <td>1</td>\n      <td>2</td>\n      <td>57</td>\n      <td>1016</td>\n      <td>1</td>\n      <td>1</td>\n      <td>0</td>\n      <td>1</td>\n      <td>60</td>\n      <td>96323</td>\n      <td>12.0</td>\n    </tr>\n  </tbody>\n</table>\n<p>6610150 rows × 18 columns</p>\n</div>"
     },
     "execution_count": 64,
     "metadata": {},
     "output_type": "execute_result"
    }
   ],
   "id": "f3d93799760e2fad"
  },
  {
   "cell_type": "markdown",
   "source": [
    "# Model training"
   ],
   "metadata": {
    "papermill": {
     "duration": 0.09573,
     "end_time": "2022-04-16T17:00:26.563647",
     "exception": false,
     "start_time": "2022-04-16T17:00:26.467917",
     "status": "completed"
    },
    "tags": []
   },
   "id": "9b8dfb6049a2a3ff"
  },
  {
   "cell_type": "code",
   "source": [
    "from lightgbm.sklearn import LGBMRanker\n",
    "ranker = LGBMRanker(\n",
    "    objective=\"lambdarank\",\n",
    "    metric=\"ndcg\",\n",
    "    boosting_type=\"dart\",\n",
    "    n_estimators=1,\n",
    "    importance_type='gain',\n",
    "    verbose=10\n",
    ")\n",
    "ranker = ranker.fit(\n",
    "    train_X,\n",
    "    train_y,\n",
    "    group=train_baskets,\n",
    ")"
   ],
   "metadata": {
    "papermill": {
     "duration": 11.066279,
     "end_time": "2022-04-16T17:00:39.301931",
     "exception": false,
     "start_time": "2022-04-16T17:00:28.235652",
     "status": "completed"
    },
    "tags": [],
    "execution": {
     "iopub.status.busy": "2023-10-11T08:04:06.672341Z",
     "iopub.status.idle": "2023-10-11T08:04:06.673322Z",
     "shell.execute_reply.started": "2023-10-11T08:04:06.672987Z",
     "shell.execute_reply": "2023-10-11T08:04:06.673007Z"
    },
    "trusted": true,
    "ExecuteTime": {
     "end_time": "2023-11-28T23:49:13.976109200Z",
     "start_time": "2023-11-28T23:49:12.187217300Z"
    }
   },
   "execution_count": 65,
   "outputs": [
    {
     "name": "stdout",
     "output_type": "stream",
     "text": [
      "[LightGBM] [Debug] Dataset::GetMultiBinFromSparseFeatures: sparse rate 0.848850\n",
      "[LightGBM] [Debug] Dataset::GetMultiBinFromAllFeatures: sparse rate 0.153113\n",
      "[LightGBM] [Debug] init for col-wise cost 0.085042 seconds, init for row-wise cost 0.098664 seconds\n",
      "[LightGBM] [Info] Auto-choosing row-wise multi-threading, the overhead of testing was 0.125895 seconds.\n",
      "You can set `force_row_wise=true` to remove the overhead.\n",
      "And if memory is not enough, you can set `force_col_wise=true`.\n",
      "[LightGBM] [Debug] Using Dense Multi-Val Bin\n",
      "[LightGBM] [Info] Total Bins 1079\n",
      "[LightGBM] [Info] Number of data points in the train set: 11381612, number of used features: 18\n",
      "[LightGBM] [Debug] Trained a tree with leaves = 31 and depth = 12\n"
     ]
    }
   ],
   "id": "d66a13b6aae7e71d"
  },
  {
   "cell_type": "code",
   "source": [
    "for i in ranker.feature_importances_.argsort()[::-1]:\n",
    "    print(columns_to_use[i], ranker.feature_importances_[i]/ranker.feature_importances_.sum())"
   ],
   "metadata": {
    "papermill": {
     "duration": 0.107527,
     "end_time": "2022-04-16T17:00:39.466759",
     "exception": false,
     "start_time": "2022-04-16T17:00:39.359232",
     "status": "completed"
    },
    "tags": [],
    "execution": {
     "iopub.status.busy": "2023-10-11T08:04:06.675105Z",
     "iopub.status.idle": "2023-10-11T08:04:06.675529Z",
     "shell.execute_reply.started": "2023-10-11T08:04:06.675343Z",
     "shell.execute_reply": "2023-10-11T08:04:06.675362Z"
    },
    "trusted": true,
    "ExecuteTime": {
     "end_time": "2023-11-28T23:49:14.021401400Z",
     "start_time": "2023-11-28T23:49:13.977826100Z"
    }
   },
   "execution_count": 66,
   "outputs": [
    {
     "name": "stdout",
     "output_type": "stream",
     "text": [
      "bestseller_rank 0.9989805711820897\n",
      "age 0.00024136039423249762\n",
      "article_id 0.0001716082873112681\n",
      "garment_group_no 0.000144767354190598\n",
      "department_no 9.631753928857237e-05\n",
      "product_type_no 9.014783466245737e-05\n",
      "section_no 7.07609526662605e-05\n",
      "postal_code 6.79219757232404e-05\n",
      "club_member_status 6.519780365736126e-05\n",
      "colour_group_code 5.3587542243445946e-05\n",
      "perceived_colour_value_id 1.7759133934558557e-05\n",
      "fashion_news_frequency 0.0\n",
      "Active 0.0\n",
      "FN 0.0\n",
      "index_code 0.0\n",
      "perceived_colour_master_id 0.0\n",
      "graphical_appearance_no 0.0\n",
      "index_group_no 0.0\n"
     ]
    }
   ],
   "id": "a03e9b47dc795f19"
  },
  {
   "cell_type": "markdown",
   "source": [
    "# Calculate predictions"
   ],
   "metadata": {
    "papermill": {
     "duration": 0.056904,
     "end_time": "2022-04-16T17:00:39.580889",
     "exception": false,
     "start_time": "2022-04-16T17:00:39.523985",
     "status": "completed"
    },
    "tags": []
   },
   "id": "5737da47a7d37c2e"
  },
  {
   "cell_type": "code",
   "source": [
    "test['preds'] = ranker.predict(test_X)\n",
    "\n",
    "c_id2predicted_article_ids = test \\\n",
    "    .sort_values(['customer_id', 'preds'], ascending=False) \\\n",
    "    .groupby('customer_id')['article_id'].apply(list).to_dict()\n",
    "\n",
    "bestsellers_last_week = \\\n",
    "    bestsellers_previous_week[bestsellers_previous_week.week == bestsellers_previous_week.week.max()]['article_id'].tolist()"
   ],
   "metadata": {
    "papermill": {
     "duration": 13.140874,
     "end_time": "2022-04-16T17:00:52.777866",
     "exception": false,
     "start_time": "2022-04-16T17:00:39.636992",
     "status": "completed"
    },
    "tags": [],
    "execution": {
     "iopub.status.busy": "2023-10-11T08:04:06.677139Z",
     "iopub.status.idle": "2023-10-11T08:04:06.677612Z",
     "shell.execute_reply.started": "2023-10-11T08:04:06.677364Z",
     "shell.execute_reply": "2023-10-11T08:04:06.677392Z"
    },
    "trusted": true,
    "ExecuteTime": {
     "end_time": "2023-11-28T23:49:19.932045100Z",
     "start_time": "2023-11-28T23:49:13.993879Z"
    }
   },
   "execution_count": 67,
   "outputs": [],
   "id": "1de07c0536b68c90"
  },
  {
   "cell_type": "markdown",
   "source": [
    "# Create submission"
   ],
   "metadata": {
    "papermill": {
     "duration": 0.07093,
     "end_time": "2022-04-16T17:00:52.913143",
     "exception": false,
     "start_time": "2022-04-16T17:00:52.842213",
     "status": "completed"
    },
    "tags": []
   },
   "id": "ac204415266f1bc5"
  },
  {
   "cell_type": "code",
   "source": [
    "sub = pd.read_csv('../input/sample_submission.csv')\n",
    "preds = []\n",
    "for c_id in customer_hex_id_to_int(sub.customer_id):\n",
    "    pred = c_id2predicted_article_ids.get(c_id, [])\n",
    "    pred = pred + bestsellers_last_week\n",
    "    preds.append(pred[:12])\n",
    "preds = [' '.join(['0' + str(p) for p in ps]) for ps in preds]\n",
    "sub.prediction = preds\n",
    "sub_name = 'basic_model_submission'\n",
    "sub.to_csv(f'{sub_name}.csv.gz', index=False)"
   ],
   "metadata": {
    "execution": {
     "iopub.status.busy": "2023-10-11T08:04:06.685139Z",
     "iopub.status.idle": "2023-10-11T08:04:06.685896Z",
     "shell.execute_reply.started": "2023-10-11T08:04:06.685667Z",
     "shell.execute_reply": "2023-10-11T08:04:06.685687Z"
    },
    "trusted": true,
    "ExecuteTime": {
     "end_time": "2023-11-28T23:49:34.515601Z",
     "start_time": "2023-11-28T23:49:19.933048200Z"
    }
   },
   "execution_count": 68,
   "outputs": [],
   "id": "67a45867f9ea155d"
  }
 ]
}
