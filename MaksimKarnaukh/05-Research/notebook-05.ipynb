{
 "metadata": {
  "kernelspec": {
   "display_name": "Python 3",
   "language": "python",
   "name": "python3"
  },
  "language_info": {
   "name": "python",
   "version": "3.10.12",
   "mimetype": "text/x-python",
   "codemirror_mode": {
    "name": "ipython",
    "version": 3
   },
   "pygments_lexer": "ipython3",
   "nbconvert_exporter": "python",
   "file_extension": ".py"
  },
  "papermill": {
   "default_parameters": {},
   "duration": 185.112876,
   "end_time": "2022-04-16T17:01:37.553573",
   "environment_variables": {},
   "exception": null,
   "input_path": "__notebook__.ipynb",
   "output_path": "__notebook__.ipynb",
   "parameters": {},
   "start_time": "2022-04-16T16:58:32.440697",
   "version": "2.3.4"
  }
 },
 "nbformat_minor": 5,
 "nbformat": 4,
 "cells": [
  {
   "cell_type": "markdown",
   "source": [
    "Radek posted about this [here](https://www.kaggle.com/competitions/h-and-m-personalized-fashion-recommendations/discussion/309220), and linked to a GitHub repo with the code.\n",
    "\n",
    "I just transferred that code here to Kaggle notebooks, that's all."
   ],
   "metadata": {
    "papermill": {
     "duration": 0.052947,
     "end_time": "2022-04-16T16:58:42.297492",
     "exception": false,
     "start_time": "2022-04-16T16:58:42.244545",
     "status": "completed"
    },
    "tags": []
   },
   "id": "1c494b88382cd063"
  },
  {
   "cell_type": "code",
   "source": [
    "import numpy as np\n",
    "\n",
    "def apk(actual, predicted, k=10):\n",
    "    \"\"\"\n",
    "    Computes the average precision at k.\n",
    "\n",
    "    This function computes the average prescision at k between two lists of\n",
    "    items.\n",
    "\n",
    "    Parameters\n",
    "    ----------\n",
    "    actual : list\n",
    "             A list of elements that are to be predicted (order doesn't matter)\n",
    "    predicted : list\n",
    "                A list of predicted elements (order does matter)\n",
    "    k : int, optional\n",
    "        The maximum number of predicted elements\n",
    "\n",
    "    Returns\n",
    "    -------\n",
    "    score : double\n",
    "            The average precision at k over the input lists\n",
    "\n",
    "    \"\"\"\n",
    "    if len(predicted)>k:\n",
    "        predicted = predicted[:k]\n",
    "\n",
    "    score = 0.0\n",
    "    num_hits = 0.0\n",
    "\n",
    "    for i,p in enumerate(predicted):\n",
    "        if p in actual and p not in predicted[:i]:\n",
    "            num_hits += 1.0\n",
    "            score += num_hits / (i+1.0)\n",
    "\n",
    "    if not actual:\n",
    "        return 0.0\n",
    "\n",
    "    return score / min(len(actual), k)\n",
    "\n",
    "def mapk(actual, predicted, k=10):\n",
    "    \"\"\"\n",
    "    Computes the mean average precision at k.\n",
    "\n",
    "    This function computes the mean average prescision at k between two lists\n",
    "    of lists of items.\n",
    "\n",
    "    Parameters\n",
    "    ----------\n",
    "    actual : list\n",
    "             A list of lists of elements that are to be predicted \n",
    "             (order doesn't matter in the lists)\n",
    "    predicted : list\n",
    "                A list of lists of predicted elements\n",
    "                (order matters in the lists)\n",
    "    k : int, optional\n",
    "        The maximum number of predicted elements\n",
    "\n",
    "    Returns\n",
    "    -------\n",
    "    score : double\n",
    "            The mean average precision at k over the input lists\n",
    "\n",
    "    \"\"\"\n",
    "    return np.mean([apk(a,p,k) for a,p in zip(actual, predicted)])"
   ],
   "metadata": {
    "papermill": {
     "duration": 0.085968,
     "end_time": "2022-04-16T16:58:42.429535",
     "exception": false,
     "start_time": "2022-04-16T16:58:42.343567",
     "status": "completed"
    },
    "tags": [],
    "execution": {
     "iopub.status.busy": "2023-10-11T08:02:33.314155Z",
     "iopub.execute_input": "2023-10-11T08:02:33.314553Z",
     "iopub.status.idle": "2023-10-11T08:02:33.324352Z",
     "shell.execute_reply.started": "2023-10-11T08:02:33.314527Z",
     "shell.execute_reply": "2023-10-11T08:02:33.323182Z"
    },
    "trusted": true,
    "ExecuteTime": {
     "end_time": "2023-11-21T23:00:39.305176900Z",
     "start_time": "2023-11-21T23:00:39.215023300Z"
    }
   },
   "execution_count": 98,
   "outputs": [],
   "id": "2b9ff34659d7d9c3"
  },
  {
   "cell_type": "code",
   "source": [
    "from sklearn.base import BaseEstimator, TransformerMixin\n",
    "import numpy as np\n",
    "\n",
    "# https://www.kaggle.com/c/h-and-m-personalized-fashion-recommendations/discussion/308635\n",
    "def customer_hex_id_to_int(series):\n",
    "    return series.str[-16:].apply(hex_id_to_int)\n",
    "\n",
    "def hex_id_to_int(str):\n",
    "    return int(str[-16:], 16)\n",
    "\n",
    "def article_id_str_to_int(series):\n",
    "    return series.astype('int32')\n",
    "\n",
    "def article_id_int_to_str(series):\n",
    "    return '0' + series.astype('str')\n",
    "\n",
    "class Categorize(BaseEstimator, TransformerMixin):\n",
    "    def __init__(self, min_examples=0):\n",
    "        self.min_examples = min_examples\n",
    "        self.categories = []\n",
    "        \n",
    "    def fit(self, X):\n",
    "        for i in range(X.shape[1]):\n",
    "            vc = X.iloc[:, i].value_counts()\n",
    "            self.categories.append(vc[vc > self.min_examples].index.tolist())\n",
    "        return self\n",
    "\n",
    "    def transform(self, X):\n",
    "        data = {X.columns[i]: pd.Categorical(X.iloc[:, i], categories=self.categories[i]).codes for i in range(X.shape[1])}\n",
    "        return pd.DataFrame(data=data)\n",
    "\n",
    "\n",
    "def calculate_apk(list_of_preds, list_of_gts):\n",
    "    # for fast validation this can be changed to operate on dicts of {'cust_id_int': [art_id_int, ...]}\n",
    "    # using 'data/val_week_purchases_by_cust.pkl'\n",
    "    apks = []\n",
    "    for preds, gt in zip(list_of_preds, list_of_gts):\n",
    "        apks.append(apk(gt, preds, k=12))\n",
    "    return np.mean(apks)\n",
    "\n",
    "def eval_sub(sub_csv, skip_cust_with_no_purchases=True):\n",
    "    sub=pd.read_csv(sub_csv)\n",
    "    validation_set=pd.read_parquet('data/validation_ground_truth.parquet')\n",
    "\n",
    "    apks = []\n",
    "\n",
    "    no_purchases_pattern = []\n",
    "    for pred, gt in zip(sub.prediction.str.split(), validation_set.prediction.str.split()):\n",
    "        if skip_cust_with_no_purchases and (gt == no_purchases_pattern): continue\n",
    "        apks.append(apk(gt, pred, k=12))\n",
    "    return np.mean(apks)"
   ],
   "metadata": {
    "papermill": {
     "duration": 1.348449,
     "end_time": "2022-04-16T16:58:43.828990",
     "exception": false,
     "start_time": "2022-04-16T16:58:42.480541",
     "status": "completed"
    },
    "tags": [],
    "execution": {
     "iopub.status.busy": "2023-10-11T08:02:33.363111Z",
     "iopub.execute_input": "2023-10-11T08:02:33.363887Z",
     "iopub.status.idle": "2023-10-11T08:02:33.430110Z",
     "shell.execute_reply.started": "2023-10-11T08:02:33.363843Z",
     "shell.execute_reply": "2023-10-11T08:02:33.429142Z"
    },
    "trusted": true,
    "ExecuteTime": {
     "end_time": "2023-11-21T23:00:39.391682900Z",
     "start_time": "2023-11-21T23:00:39.224022700Z"
    }
   },
   "execution_count": 99,
   "outputs": [],
   "id": "a3e90c217d7a3257"
  },
  {
   "cell_type": "code",
   "source": [
    "import pandas as pd\n",
    "\n",
    "transactions = pd.read_parquet('../input/transactions_train.parquet')\n",
    "customers = pd.read_parquet('../input/customers.parquet')\n",
    "articles = pd.read_parquet('../input/articles.parquet')\n",
    "\n",
    "test_week = transactions.week.max() + 1\n",
    "transactions = transactions[transactions.week > transactions.week.max() - 10]"
   ],
   "metadata": {
    "papermill": {
     "duration": 9.279307,
     "end_time": "2022-04-16T16:58:53.289550",
     "exception": false,
     "start_time": "2022-04-16T16:58:44.010243",
     "status": "completed"
    },
    "tags": [],
    "execution": {
     "iopub.status.busy": "2023-10-11T08:02:33.432368Z",
     "iopub.execute_input": "2023-10-11T08:02:33.433121Z",
     "iopub.status.idle": "2023-10-11T08:02:37.691627Z",
     "shell.execute_reply.started": "2023-10-11T08:02:33.433081Z",
     "shell.execute_reply": "2023-10-11T08:02:37.690543Z"
    },
    "trusted": true,
    "ExecuteTime": {
     "end_time": "2023-11-21T23:00:40.991262800Z",
     "start_time": "2023-11-21T23:00:39.236502700Z"
    }
   },
   "execution_count": 100,
   "outputs": [],
   "id": "ea3486ea109915fd"
  },
  {
   "cell_type": "markdown",
   "source": [
    "# Generating candidates"
   ],
   "metadata": {
    "papermill": {
     "duration": 0.04664,
     "end_time": "2022-04-16T16:58:53.778482",
     "exception": false,
     "start_time": "2022-04-16T16:58:53.731842",
     "status": "completed"
    },
    "tags": []
   },
   "id": "db3c9bcadb9cda9b"
  },
  {
   "cell_type": "markdown",
   "source": [
    "### Last purchase candidates"
   ],
   "metadata": {
    "papermill": {
     "duration": 0.047255,
     "end_time": "2022-04-16T16:58:53.872805",
     "exception": false,
     "start_time": "2022-04-16T16:58:53.825550",
     "status": "completed"
    },
    "tags": []
   },
   "id": "b53210a64303217c"
  },
  {
   "cell_type": "code",
   "source": [
    "c2weeks = transactions.groupby('customer_id')['week'].unique()\n",
    "c2weeks2shifted_weeks = {}\n",
    "\n",
    "for c_id, weeks in c2weeks.items():\n",
    "    c2weeks2shifted_weeks[c_id] = {}\n",
    "    for i in range(weeks.shape[0]-1):\n",
    "        c2weeks2shifted_weeks[c_id][weeks[i]] = weeks[i+1]\n",
    "    c2weeks2shifted_weeks[c_id][weeks[-1]] = test_week\n",
    "    \n",
    "candidates_last_purchase = transactions.copy()\n",
    "weeks = []\n",
    "for i, (c_id, week) in enumerate(zip(transactions['customer_id'], transactions['week'])):\n",
    "    weeks.append(c2weeks2shifted_weeks[c_id][week])\n",
    "candidates_last_purchase.week=weeks"
   ],
   "metadata": {
    "papermill": {
     "duration": 8.716794,
     "end_time": "2022-04-16T16:59:25.784593",
     "exception": false,
     "start_time": "2022-04-16T16:59:17.067799",
     "status": "completed"
    },
    "tags": [],
    "execution": {
     "iopub.status.busy": "2023-10-11T08:03:04.442232Z",
     "iopub.execute_input": "2023-10-11T08:03:04.442523Z",
     "iopub.status.idle": "2023-10-11T08:03:22.614016Z",
     "shell.execute_reply.started": "2023-10-11T08:03:04.442499Z",
     "shell.execute_reply": "2023-10-11T08:03:22.612552Z"
    },
    "trusted": true,
    "ExecuteTime": {
     "end_time": "2023-11-21T23:00:57.122363400Z",
     "start_time": "2023-11-21T23:00:40.994048300Z"
    }
   },
   "execution_count": 101,
   "outputs": [],
   "id": "9fd4547c64950724"
  },
  {
   "cell_type": "code",
   "execution_count": 102,
   "outputs": [
    {
     "data": {
      "text/plain": "              t_dat           customer_id  article_id     price  \\\n29030503 2020-07-15       272412481300040   778064028  0.008458   \n29030504 2020-07-15       272412481300040   816592008  0.016932   \n29030505 2020-07-15       272412481300040   621381021  0.033881   \n29030506 2020-07-15       272412481300040   817477003  0.025407   \n29030507 2020-07-15       272412481300040   899088002  0.025407   \n...             ...                   ...         ...       ...   \n31774722 2020-09-22  18439937050817258297   891591003  0.084729   \n31774723 2020-09-22  18439937050817258297   869706005  0.084729   \n31779097 2020-09-22  18440902715633436014   918894002  0.016932   \n31779098 2020-09-22  18440902715633436014   761269001  0.016932   \n31780475 2020-09-22  18443633011701112574   914868002  0.033881   \n\n          sales_channel_id  week  \n29030503                 1    95  \n29030504                 1    95  \n29030505                 1    95  \n29030506                 1    95  \n29030507                 1    95  \n...                    ...   ...  \n31774722                 2   104  \n31774723                 2   104  \n31779097                 1   104  \n31779098                 1   104  \n31780475                 1   104  \n\n[2762872 rows x 6 columns]",
      "text/html": "<div>\n<style scoped>\n    .dataframe tbody tr th:only-of-type {\n        vertical-align: middle;\n    }\n\n    .dataframe tbody tr th {\n        vertical-align: top;\n    }\n\n    .dataframe thead th {\n        text-align: right;\n    }\n</style>\n<table border=\"1\" class=\"dataframe\">\n  <thead>\n    <tr style=\"text-align: right;\">\n      <th></th>\n      <th>t_dat</th>\n      <th>customer_id</th>\n      <th>article_id</th>\n      <th>price</th>\n      <th>sales_channel_id</th>\n      <th>week</th>\n    </tr>\n  </thead>\n  <tbody>\n    <tr>\n      <th>29030503</th>\n      <td>2020-07-15</td>\n      <td>272412481300040</td>\n      <td>778064028</td>\n      <td>0.008458</td>\n      <td>1</td>\n      <td>95</td>\n    </tr>\n    <tr>\n      <th>29030504</th>\n      <td>2020-07-15</td>\n      <td>272412481300040</td>\n      <td>816592008</td>\n      <td>0.016932</td>\n      <td>1</td>\n      <td>95</td>\n    </tr>\n    <tr>\n      <th>29030505</th>\n      <td>2020-07-15</td>\n      <td>272412481300040</td>\n      <td>621381021</td>\n      <td>0.033881</td>\n      <td>1</td>\n      <td>95</td>\n    </tr>\n    <tr>\n      <th>29030506</th>\n      <td>2020-07-15</td>\n      <td>272412481300040</td>\n      <td>817477003</td>\n      <td>0.025407</td>\n      <td>1</td>\n      <td>95</td>\n    </tr>\n    <tr>\n      <th>29030507</th>\n      <td>2020-07-15</td>\n      <td>272412481300040</td>\n      <td>899088002</td>\n      <td>0.025407</td>\n      <td>1</td>\n      <td>95</td>\n    </tr>\n    <tr>\n      <th>...</th>\n      <td>...</td>\n      <td>...</td>\n      <td>...</td>\n      <td>...</td>\n      <td>...</td>\n      <td>...</td>\n    </tr>\n    <tr>\n      <th>31774722</th>\n      <td>2020-09-22</td>\n      <td>18439937050817258297</td>\n      <td>891591003</td>\n      <td>0.084729</td>\n      <td>2</td>\n      <td>104</td>\n    </tr>\n    <tr>\n      <th>31774723</th>\n      <td>2020-09-22</td>\n      <td>18439937050817258297</td>\n      <td>869706005</td>\n      <td>0.084729</td>\n      <td>2</td>\n      <td>104</td>\n    </tr>\n    <tr>\n      <th>31779097</th>\n      <td>2020-09-22</td>\n      <td>18440902715633436014</td>\n      <td>918894002</td>\n      <td>0.016932</td>\n      <td>1</td>\n      <td>104</td>\n    </tr>\n    <tr>\n      <th>31779098</th>\n      <td>2020-09-22</td>\n      <td>18440902715633436014</td>\n      <td>761269001</td>\n      <td>0.016932</td>\n      <td>1</td>\n      <td>104</td>\n    </tr>\n    <tr>\n      <th>31780475</th>\n      <td>2020-09-22</td>\n      <td>18443633011701112574</td>\n      <td>914868002</td>\n      <td>0.033881</td>\n      <td>1</td>\n      <td>104</td>\n    </tr>\n  </tbody>\n</table>\n<p>2762872 rows × 6 columns</p>\n</div>"
     },
     "execution_count": 102,
     "metadata": {},
     "output_type": "execute_result"
    }
   ],
   "source": [
    "transactions"
   ],
   "metadata": {
    "collapsed": false,
    "ExecuteTime": {
     "end_time": "2023-11-21T23:00:57.164426600Z",
     "start_time": "2023-11-21T23:00:57.145148500Z"
    }
   },
   "id": "d6c4a5b428f91499"
  },
  {
   "cell_type": "code",
   "execution_count": 103,
   "outputs": [
    {
     "data": {
      "text/plain": "              t_dat           customer_id  article_id     price  \\\n29030503 2020-07-15       272412481300040   778064028  0.008458   \n29030504 2020-07-15       272412481300040   816592008  0.016932   \n29030505 2020-07-15       272412481300040   621381021  0.033881   \n29030506 2020-07-15       272412481300040   817477003  0.025407   \n29030507 2020-07-15       272412481300040   899088002  0.025407   \n...             ...                   ...         ...       ...   \n31774722 2020-09-22  18439937050817258297   891591003  0.084729   \n31774723 2020-09-22  18439937050817258297   869706005  0.084729   \n31779097 2020-09-22  18440902715633436014   918894002  0.016932   \n31779098 2020-09-22  18440902715633436014   761269001  0.016932   \n31780475 2020-09-22  18443633011701112574   914868002  0.033881   \n\n          sales_channel_id  week  \n29030503                 1    96  \n29030504                 1    96  \n29030505                 1    96  \n29030506                 1    96  \n29030507                 1    96  \n...                    ...   ...  \n31774722                 2   105  \n31774723                 2   105  \n31779097                 1   105  \n31779098                 1   105  \n31780475                 1   105  \n\n[2762872 rows x 6 columns]",
      "text/html": "<div>\n<style scoped>\n    .dataframe tbody tr th:only-of-type {\n        vertical-align: middle;\n    }\n\n    .dataframe tbody tr th {\n        vertical-align: top;\n    }\n\n    .dataframe thead th {\n        text-align: right;\n    }\n</style>\n<table border=\"1\" class=\"dataframe\">\n  <thead>\n    <tr style=\"text-align: right;\">\n      <th></th>\n      <th>t_dat</th>\n      <th>customer_id</th>\n      <th>article_id</th>\n      <th>price</th>\n      <th>sales_channel_id</th>\n      <th>week</th>\n    </tr>\n  </thead>\n  <tbody>\n    <tr>\n      <th>29030503</th>\n      <td>2020-07-15</td>\n      <td>272412481300040</td>\n      <td>778064028</td>\n      <td>0.008458</td>\n      <td>1</td>\n      <td>96</td>\n    </tr>\n    <tr>\n      <th>29030504</th>\n      <td>2020-07-15</td>\n      <td>272412481300040</td>\n      <td>816592008</td>\n      <td>0.016932</td>\n      <td>1</td>\n      <td>96</td>\n    </tr>\n    <tr>\n      <th>29030505</th>\n      <td>2020-07-15</td>\n      <td>272412481300040</td>\n      <td>621381021</td>\n      <td>0.033881</td>\n      <td>1</td>\n      <td>96</td>\n    </tr>\n    <tr>\n      <th>29030506</th>\n      <td>2020-07-15</td>\n      <td>272412481300040</td>\n      <td>817477003</td>\n      <td>0.025407</td>\n      <td>1</td>\n      <td>96</td>\n    </tr>\n    <tr>\n      <th>29030507</th>\n      <td>2020-07-15</td>\n      <td>272412481300040</td>\n      <td>899088002</td>\n      <td>0.025407</td>\n      <td>1</td>\n      <td>96</td>\n    </tr>\n    <tr>\n      <th>...</th>\n      <td>...</td>\n      <td>...</td>\n      <td>...</td>\n      <td>...</td>\n      <td>...</td>\n      <td>...</td>\n    </tr>\n    <tr>\n      <th>31774722</th>\n      <td>2020-09-22</td>\n      <td>18439937050817258297</td>\n      <td>891591003</td>\n      <td>0.084729</td>\n      <td>2</td>\n      <td>105</td>\n    </tr>\n    <tr>\n      <th>31774723</th>\n      <td>2020-09-22</td>\n      <td>18439937050817258297</td>\n      <td>869706005</td>\n      <td>0.084729</td>\n      <td>2</td>\n      <td>105</td>\n    </tr>\n    <tr>\n      <th>31779097</th>\n      <td>2020-09-22</td>\n      <td>18440902715633436014</td>\n      <td>918894002</td>\n      <td>0.016932</td>\n      <td>1</td>\n      <td>105</td>\n    </tr>\n    <tr>\n      <th>31779098</th>\n      <td>2020-09-22</td>\n      <td>18440902715633436014</td>\n      <td>761269001</td>\n      <td>0.016932</td>\n      <td>1</td>\n      <td>105</td>\n    </tr>\n    <tr>\n      <th>31780475</th>\n      <td>2020-09-22</td>\n      <td>18443633011701112574</td>\n      <td>914868002</td>\n      <td>0.033881</td>\n      <td>1</td>\n      <td>105</td>\n    </tr>\n  </tbody>\n</table>\n<p>2762872 rows × 6 columns</p>\n</div>"
     },
     "execution_count": 103,
     "metadata": {},
     "output_type": "execute_result"
    }
   ],
   "source": [
    "candidates_last_purchase"
   ],
   "metadata": {
    "collapsed": false,
    "ExecuteTime": {
     "end_time": "2023-11-21T23:00:57.200566600Z",
     "start_time": "2023-11-21T23:00:57.154249900Z"
    }
   },
   "id": "8088b3f57ee52594"
  },
  {
   "cell_type": "code",
   "execution_count": 104,
   "outputs": [],
   "source": [
    "# generate personalized candidates for each customer based on three features: age, index_group_name and mean purchase price of the customer.\n",
    "\n",
    "# first create mean price per customer\n",
    "mean_price_per_c = transactions.groupby('customer_id')['price'].mean().rename('mean_price_per_c').reset_index()\n",
    "# figure out the customers preferred index group name by looking at past transactions articles' index_group_name\n",
    "ttransactions = pd.merge(transactions, articles[['article_id', 'index_group_name']], on='article_id', how='left')\n",
    "# per customer count the number of purchases of each index_group_name\n",
    "c2index_group_name = ttransactions.groupby('customer_id')['index_group_name'].value_counts().rename('count').reset_index()\n",
    "c2index_group_name = c2index_group_name.sort_values('count', ascending=False).groupby('customer_id').head(1).rename(columns={'index_group_name': 'highest_count_ign_per_c'})\n",
    "# merge the mean_price_per_c and c2index_group_name dataframes\n",
    "t = pd.merge(c2index_group_name[['customer_id', 'highest_count_ign_per_c']], mean_price_per_c, on='customer_id', how='left')\n",
    "\n",
    "# per article find the average age of the customers who bought it\n",
    "transactions_with_age = pd.merge(transactions, customers[['customer_id', 'age']], on='customer_id', how='left')\n",
    "mean_age_per_a = transactions_with_age.groupby('article_id')['age'].mean().rename('mean_age_per_a').astype('int8').reset_index()\n",
    "\n",
    "# merge to get the mean_price_per_c, highest_count_ign and mean_age_per_a columns\n",
    "transactions_with_3feat = pd.merge(transactions_with_age, t, on='customer_id', how='left')\n",
    "transactions_with_3feat = pd.merge(transactions_with_3feat, mean_age_per_a, on='article_id', how='left')\n",
    "transactions_with_3feat = pd.merge(transactions_with_3feat, articles[['article_id', 'index_group_name']], on='article_id', how='left')"
   ],
   "metadata": {
    "collapsed": false,
    "ExecuteTime": {
     "end_time": "2023-11-21T23:00:59.086979900Z",
     "start_time": "2023-11-21T23:00:57.172446600Z"
    }
   },
   "id": "3a74564cfe40fb2c"
  },
  {
   "cell_type": "code",
   "execution_count": 105,
   "outputs": [
    {
     "data": {
      "text/plain": "             t_dat           customer_id  article_id     price  \\\n0       2020-07-15       272412481300040   778064028  0.008458   \n1       2020-07-15       272412481300040   816592008  0.016932   \n2       2020-07-15       272412481300040   621381021  0.033881   \n3       2020-07-15       272412481300040   817477003  0.025407   \n4       2020-07-15       272412481300040   899088002  0.025407   \n...            ...                   ...         ...       ...   \n2762867 2020-09-22  18439937050817258297   891591003  0.084729   \n2762868 2020-09-22  18439937050817258297   869706005  0.084729   \n2762869 2020-09-22  18440902715633436014   918894002  0.016932   \n2762870 2020-09-22  18440902715633436014   761269001  0.016932   \n2762871 2020-09-22  18443633011701112574   914868002  0.033881   \n\n         sales_channel_id  week  age  highest_count_ign_per_c  \\\n0                       1    95   48                        0   \n1                       1    95   48                        0   \n2                       1    95   48                        0   \n3                       1    95   48                        0   \n4                       1    95   48                        0   \n...                   ...   ...  ...                      ...   \n2762867                 2   104   49                        0   \n2762868                 2   104   49                        0   \n2762869                 1   104   18                        0   \n2762870                 1   104   18                        0   \n2762871                 1   104   58                        0   \n\n         mean_price_per_c  mean_age_per_a  index_group_name  \n0                0.030597              32                 0  \n1                0.030597              37                 2  \n2                0.030597              35                 2  \n3                0.030597              33                 0  \n4                0.030597              35                 2  \n...                   ...             ...               ...  \n2762867          0.040379              41                 0  \n2762868          0.040379              39                 0  \n2762869          0.028232              30                 0  \n2762870          0.028232              33                 0  \n2762871          0.032186              33                 2  \n\n[2762872 rows x 11 columns]",
      "text/html": "<div>\n<style scoped>\n    .dataframe tbody tr th:only-of-type {\n        vertical-align: middle;\n    }\n\n    .dataframe tbody tr th {\n        vertical-align: top;\n    }\n\n    .dataframe thead th {\n        text-align: right;\n    }\n</style>\n<table border=\"1\" class=\"dataframe\">\n  <thead>\n    <tr style=\"text-align: right;\">\n      <th></th>\n      <th>t_dat</th>\n      <th>customer_id</th>\n      <th>article_id</th>\n      <th>price</th>\n      <th>sales_channel_id</th>\n      <th>week</th>\n      <th>age</th>\n      <th>highest_count_ign_per_c</th>\n      <th>mean_price_per_c</th>\n      <th>mean_age_per_a</th>\n      <th>index_group_name</th>\n    </tr>\n  </thead>\n  <tbody>\n    <tr>\n      <th>0</th>\n      <td>2020-07-15</td>\n      <td>272412481300040</td>\n      <td>778064028</td>\n      <td>0.008458</td>\n      <td>1</td>\n      <td>95</td>\n      <td>48</td>\n      <td>0</td>\n      <td>0.030597</td>\n      <td>32</td>\n      <td>0</td>\n    </tr>\n    <tr>\n      <th>1</th>\n      <td>2020-07-15</td>\n      <td>272412481300040</td>\n      <td>816592008</td>\n      <td>0.016932</td>\n      <td>1</td>\n      <td>95</td>\n      <td>48</td>\n      <td>0</td>\n      <td>0.030597</td>\n      <td>37</td>\n      <td>2</td>\n    </tr>\n    <tr>\n      <th>2</th>\n      <td>2020-07-15</td>\n      <td>272412481300040</td>\n      <td>621381021</td>\n      <td>0.033881</td>\n      <td>1</td>\n      <td>95</td>\n      <td>48</td>\n      <td>0</td>\n      <td>0.030597</td>\n      <td>35</td>\n      <td>2</td>\n    </tr>\n    <tr>\n      <th>3</th>\n      <td>2020-07-15</td>\n      <td>272412481300040</td>\n      <td>817477003</td>\n      <td>0.025407</td>\n      <td>1</td>\n      <td>95</td>\n      <td>48</td>\n      <td>0</td>\n      <td>0.030597</td>\n      <td>33</td>\n      <td>0</td>\n    </tr>\n    <tr>\n      <th>4</th>\n      <td>2020-07-15</td>\n      <td>272412481300040</td>\n      <td>899088002</td>\n      <td>0.025407</td>\n      <td>1</td>\n      <td>95</td>\n      <td>48</td>\n      <td>0</td>\n      <td>0.030597</td>\n      <td>35</td>\n      <td>2</td>\n    </tr>\n    <tr>\n      <th>...</th>\n      <td>...</td>\n      <td>...</td>\n      <td>...</td>\n      <td>...</td>\n      <td>...</td>\n      <td>...</td>\n      <td>...</td>\n      <td>...</td>\n      <td>...</td>\n      <td>...</td>\n      <td>...</td>\n    </tr>\n    <tr>\n      <th>2762867</th>\n      <td>2020-09-22</td>\n      <td>18439937050817258297</td>\n      <td>891591003</td>\n      <td>0.084729</td>\n      <td>2</td>\n      <td>104</td>\n      <td>49</td>\n      <td>0</td>\n      <td>0.040379</td>\n      <td>41</td>\n      <td>0</td>\n    </tr>\n    <tr>\n      <th>2762868</th>\n      <td>2020-09-22</td>\n      <td>18439937050817258297</td>\n      <td>869706005</td>\n      <td>0.084729</td>\n      <td>2</td>\n      <td>104</td>\n      <td>49</td>\n      <td>0</td>\n      <td>0.040379</td>\n      <td>39</td>\n      <td>0</td>\n    </tr>\n    <tr>\n      <th>2762869</th>\n      <td>2020-09-22</td>\n      <td>18440902715633436014</td>\n      <td>918894002</td>\n      <td>0.016932</td>\n      <td>1</td>\n      <td>104</td>\n      <td>18</td>\n      <td>0</td>\n      <td>0.028232</td>\n      <td>30</td>\n      <td>0</td>\n    </tr>\n    <tr>\n      <th>2762870</th>\n      <td>2020-09-22</td>\n      <td>18440902715633436014</td>\n      <td>761269001</td>\n      <td>0.016932</td>\n      <td>1</td>\n      <td>104</td>\n      <td>18</td>\n      <td>0</td>\n      <td>0.028232</td>\n      <td>33</td>\n      <td>0</td>\n    </tr>\n    <tr>\n      <th>2762871</th>\n      <td>2020-09-22</td>\n      <td>18443633011701112574</td>\n      <td>914868002</td>\n      <td>0.033881</td>\n      <td>1</td>\n      <td>104</td>\n      <td>58</td>\n      <td>0</td>\n      <td>0.032186</td>\n      <td>33</td>\n      <td>2</td>\n    </tr>\n  </tbody>\n</table>\n<p>2762872 rows × 11 columns</p>\n</div>"
     },
     "execution_count": 105,
     "metadata": {},
     "output_type": "execute_result"
    }
   ],
   "source": [
    "transactions_with_3feat"
   ],
   "metadata": {
    "collapsed": false,
    "ExecuteTime": {
     "end_time": "2023-11-21T23:00:59.103426500Z",
     "start_time": "2023-11-21T23:00:59.087979900Z"
    }
   },
   "id": "6f94e8d5eb113a4f"
  },
  {
   "cell_type": "code",
   "execution_count": 106,
   "outputs": [
    {
     "data": {
      "text/plain": "                 customer_id  highest_count_ign_per_c  mean_price_per_c\n0       18442606110317830291                        0          0.021770\n1         371834049679164774                        0          0.032494\n2       12416564893706204993                        0          0.036745\n3       17234420386288341054                        0          0.031118\n4         979392728188584892                        0          0.021122\n...                      ...                      ...               ...\n437360   6420757378897806626                        0          0.084729\n437361   6420635653313041923                        2          0.022017\n437362   6420532178711353262                        2          0.033881\n437363  13570978177308658659                        2          0.010153\n437364  13571048438557800266                        2          0.084729\n\n[437365 rows x 3 columns]",
      "text/html": "<div>\n<style scoped>\n    .dataframe tbody tr th:only-of-type {\n        vertical-align: middle;\n    }\n\n    .dataframe tbody tr th {\n        vertical-align: top;\n    }\n\n    .dataframe thead th {\n        text-align: right;\n    }\n</style>\n<table border=\"1\" class=\"dataframe\">\n  <thead>\n    <tr style=\"text-align: right;\">\n      <th></th>\n      <th>customer_id</th>\n      <th>highest_count_ign_per_c</th>\n      <th>mean_price_per_c</th>\n    </tr>\n  </thead>\n  <tbody>\n    <tr>\n      <th>0</th>\n      <td>18442606110317830291</td>\n      <td>0</td>\n      <td>0.021770</td>\n    </tr>\n    <tr>\n      <th>1</th>\n      <td>371834049679164774</td>\n      <td>0</td>\n      <td>0.032494</td>\n    </tr>\n    <tr>\n      <th>2</th>\n      <td>12416564893706204993</td>\n      <td>0</td>\n      <td>0.036745</td>\n    </tr>\n    <tr>\n      <th>3</th>\n      <td>17234420386288341054</td>\n      <td>0</td>\n      <td>0.031118</td>\n    </tr>\n    <tr>\n      <th>4</th>\n      <td>979392728188584892</td>\n      <td>0</td>\n      <td>0.021122</td>\n    </tr>\n    <tr>\n      <th>...</th>\n      <td>...</td>\n      <td>...</td>\n      <td>...</td>\n    </tr>\n    <tr>\n      <th>437360</th>\n      <td>6420757378897806626</td>\n      <td>0</td>\n      <td>0.084729</td>\n    </tr>\n    <tr>\n      <th>437361</th>\n      <td>6420635653313041923</td>\n      <td>2</td>\n      <td>0.022017</td>\n    </tr>\n    <tr>\n      <th>437362</th>\n      <td>6420532178711353262</td>\n      <td>2</td>\n      <td>0.033881</td>\n    </tr>\n    <tr>\n      <th>437363</th>\n      <td>13570978177308658659</td>\n      <td>2</td>\n      <td>0.010153</td>\n    </tr>\n    <tr>\n      <th>437364</th>\n      <td>13571048438557800266</td>\n      <td>2</td>\n      <td>0.084729</td>\n    </tr>\n  </tbody>\n</table>\n<p>437365 rows × 3 columns</p>\n</div>"
     },
     "execution_count": 106,
     "metadata": {},
     "output_type": "execute_result"
    }
   ],
   "source": [
    "t"
   ],
   "metadata": {
    "collapsed": false,
    "ExecuteTime": {
     "end_time": "2023-11-21T23:00:59.128299300Z",
     "start_time": "2023-11-21T23:00:59.103426500Z"
    }
   },
   "id": "d87e010afeabddc1"
  },
  {
   "cell_type": "code",
   "execution_count": 107,
   "outputs": [],
   "source": [
    "# For every unique customer_id in the transactions_with_3feat dataframe, rank all the unique articles present in the transactions_with_3feat dataframe based on the difference between the customer's mean_price_per_c and the article's price. Then select the 100 best candidates of this ranking. Do this using built-in pandas functions. This will result in a new dataframe with 100*number_of_unique_customers rows.\n",
    "\n"
   ],
   "metadata": {
    "collapsed": false,
    "ExecuteTime": {
     "end_time": "2023-11-21T23:00:59.174853100Z",
     "start_time": "2023-11-21T23:00:59.118807300Z"
    }
   },
   "id": "4ba4784e37e14526"
  },
  {
   "cell_type": "code",
   "execution_count": 108,
   "outputs": [],
   "source": [
    "# # Calculate the price difference for each article and customer\n",
    "# candidates_3feat_price = (\n",
    "#     transactions_with_3feat\n",
    "#     .assign(price_difference=lambda x: abs(x['mean_price_per_c'] - x['price']))\n",
    "# )\n",
    "# \n",
    "# # Rank the articles within each customer group based on price difference\n",
    "# candidates_3feat_price['price_rank'] = (\n",
    "#     candidates_3feat_price\n",
    "#     .groupby('customer_id')['price_difference']\n",
    "#     .rank(ascending=True, method='min')\n",
    "# )\n",
    "# \n",
    "# # Select the top 100 candidates for each customer\n",
    "# top_candidates_3feat_price = (\n",
    "#     candidates_3feat_price\n",
    "#     .loc[candidates_3feat_price.groupby('customer_id')['price_rank'].head(100).index]\n",
    "# )\n",
    "# \n",
    "# # Drop unnecessary columns\n",
    "# top_candidates_3feat_price = top_candidates_3feat_price.drop(columns=['price_difference', 'price_rank'])"
   ],
   "metadata": {
    "collapsed": false,
    "ExecuteTime": {
     "end_time": "2023-11-21T23:00:59.188066600Z",
     "start_time": "2023-11-21T23:00:59.135320Z"
    }
   },
   "id": "28a24280510a5e0f"
  },
  {
   "cell_type": "code",
   "execution_count": 109,
   "outputs": [],
   "source": [
    "# Create a DataFrame with unique articles and their prices\n",
    "unique_articles = transactions_with_3feat[['t_dat', 'article_id', 'price', 'index_group_name']].drop_duplicates()\n",
    "# in unique_articles dataframe, if an article_id is not unique select the article_id with latest t_dat, drop the other rows with the same article_id\n",
    "unique_articles = unique_articles.sort_values('t_dat', ascending=False).drop_duplicates('article_id').drop(columns=['t_dat'])"
   ],
   "metadata": {
    "collapsed": false,
    "ExecuteTime": {
     "end_time": "2023-11-21T23:00:59.385415500Z",
     "start_time": "2023-11-21T23:00:59.152418100Z"
    }
   },
   "id": "44409c4013498fda"
  },
  {
   "cell_type": "code",
   "execution_count": 110,
   "outputs": [],
   "source": [
    "# # Merge with customer information\n",
    "# candidates_3feat_price = pd.merge(\n",
    "#     unique_articles,\n",
    "#     mean_price_per_c[['customer_id', 'mean_price_per_c']],\n",
    "#     how='cross'  # Cartesian product to get all combinations of articles and customers\n",
    "# )\n",
    "# \n",
    "# # Calculate the price difference for each combination\n",
    "# candidates_3feat_price['price_difference'] = abs(candidates_3feat_price['mean_price_per_c'] - candidates_3feat_price['price'])\n",
    "# \n",
    "# # Rank articles within each customer group based on price difference\n",
    "# candidates_3feat_price['price_rank'] = (\n",
    "#     candidates_3feat_price\n",
    "#     .groupby('customer_id')['price_difference']\n",
    "#     .rank(ascending=True, method='min')\n",
    "# )\n",
    "# \n",
    "# # Select the top 100 candidates for each customer\n",
    "# top_candidates_3feat_price = (\n",
    "#     candidates_3feat_price\n",
    "#     .loc[candidates_3feat_price.groupby('customer_id')['price_rank'].head(100).index]\n",
    "# )\n",
    "# \n",
    "# # Drop unnecessary columns\n",
    "# top_candidates_3feat_price = top_candidates_3feat_price.drop(columns=['price_difference', 'price_rank'])"
   ],
   "metadata": {
    "collapsed": false,
    "ExecuteTime": {
     "end_time": "2023-11-21T23:00:59.400926800Z",
     "start_time": "2023-11-21T23:00:59.386418900Z"
    }
   },
   "id": "d8e90a1c4e0f9838"
  },
  {
   "cell_type": "code",
   "execution_count": null,
   "outputs": [
    {
     "name": "stdout",
     "output_type": "stream",
     "text": [
      "          article_id     price  index_group_name        customer_id  \\\n",
      "0          875719001  0.033881                 2     28847241659200   \n",
      "1          875719001  0.033881                 2     41318098387474   \n",
      "2          875719001  0.033881                 2    116809474287335   \n",
      "3          875719001  0.033881                 2    200292573348128   \n",
      "4          875719001  0.033881                 2    248294615847351   \n",
      "...              ...       ...               ...                ...   \n",
      "38330995   751336001  0.030492                 1  42872089953753496   \n",
      "38330996   751336001  0.030492                 1  42878316430623896   \n",
      "38330997   751336001  0.030492                 1  42910407533866495   \n",
      "38330998   751336001  0.030492                 1  42942643248675808   \n",
      "38330999   751336001  0.030492                 1  42984229297455520   \n",
      "\n",
      "          highest_count_ign_per_c  mean_price_per_c  mean_age_per_a  \n",
      "0                               0          0.046085              35  \n",
      "1                               0          0.033881              35  \n",
      "2                               0          0.029644              35  \n",
      "3                               0          0.029602              35  \n",
      "4                               3          0.022017              35  \n",
      "...                           ...               ...             ...  \n",
      "38330995                        2          0.031056              32  \n",
      "38330996                        0          0.015384              32  \n",
      "38330997                        0          0.039249              32  \n",
      "38330998                        0          0.014390              32  \n",
      "38330999                        2          0.021452              32  \n",
      "\n",
      "[38331000 rows x 7 columns]\n"
     ]
    }
   ],
   "source": [
    "chunk_size = 1000  # Define the number of customers to process at once\n",
    "\n",
    "unique_customers = mean_price_per_c['customer_id'].unique()[:1000]\n",
    "\n",
    "# Process customers in chunks\n",
    "chunks = [unique_customers[i:i + chunk_size] for i in range(0, len(unique_customers), chunk_size)]\n",
    "\n",
    "result_candidates_3feat_price = pd.DataFrame()  # DataFrame to store final candidates\n",
    "\n",
    "result_candidates_3feat_price_chunks = []\n",
    "\n",
    "for customer_chunk in chunks:\n",
    "    # Get articles for the current chunk of customers\n",
    "    candidate_articles = pd.merge(\n",
    "        unique_articles,\n",
    "        pd.DataFrame({'customer_id': customer_chunk}),\n",
    "        how='cross'\n",
    "    )\n",
    "        \n",
    "    candidate_articles = pd.merge(candidate_articles, t, on='customer_id', how='left')\n",
    "    candidate_articles = pd.merge(candidate_articles, mean_age_per_a, on='article_id', how='left')\n",
    "    \n",
    "    print(candidate_articles)\n",
    "\n",
    "    # Calculate price difference for each combination\n",
    "    candidate_articles['price_difference'] = abs(candidate_articles['mean_price_per_c'] - candidate_articles['price'])\n",
    "    # Rank articles within each customer group based on price difference\n",
    "    candidate_articles['price_rank'] = (\n",
    "        candidate_articles\n",
    "        .groupby('customer_id')['price_difference']\n",
    "        .rank(ascending=True, method='min')\n",
    "    )\n",
    "    # Select the top 100 candidates for each customer\n",
    "    top_candidates = (\n",
    "        candidate_articles\n",
    "        .sort_values(by=['customer_id', 'price_rank'])\n",
    "        .groupby('customer_id')\n",
    "        .head(100)\n",
    "    )\n",
    "    \n",
    "    # Select 50 candidates where highest_count_ign_per_c is equal to index_group_name\n",
    "    top_candidates = top_candidates[top_candidates['highest_count_ign_per_c'] == top_candidates['index_group_name']].head(50)\n",
    "    \n",
    "    # # Calculate age difference for each combination\n",
    "    # top_candidates['age_difference'] = abs(top_candidates['age'] - top_candidates['mean_age_per_a'])\n",
    "    # # Rank articles within each customer group based on age difference\n",
    "    # top_candidates['age_rank'] = (\n",
    "    #     top_candidates\n",
    "    #     .groupby('customer_id')['age_difference']\n",
    "    #     .rank(ascending=True, method='min')\n",
    "    # )\n",
    "    # # Select the top 25 candidates for each customer based on age difference\n",
    "    # top_candidates = (\n",
    "    #     top_candidates\n",
    "    #     .sort_values(by=['customer_id', 'age_rank'])\n",
    "    #     .groupby('customer_id')\n",
    "    #     .head(25)\n",
    "    # )\n",
    "    \n",
    "    # Append current chunk's candidates to result\n",
    "    result_candidates_3feat_price_chunks.append(top_candidates)\n",
    "    \n",
    "# Concatenate all chunks into the final result    \n",
    "result_candidates_3feat_price = pd.concat(result_candidates_3feat_price_chunks, ignore_index=True)\n",
    "\n",
    "# Drop unnecessary columns\n",
    "# top_candidates_3feat_price = result_candidates_3feat_price.drop(columns=['price_difference', 'price_rank'])\n",
    "top_candidates_3feat_price = result_candidates_3feat_price.drop(columns=['price_difference'])"
   ],
   "metadata": {
    "collapsed": false,
    "is_executing": true,
    "ExecuteTime": {
     "start_time": "2023-11-21T23:00:59.405433900Z"
    }
   },
   "id": "a96c46017e1e8ac3"
  },
  {
   "cell_type": "code",
   "execution_count": null,
   "outputs": [],
   "source": [
    "top_candidates_3feat_price"
   ],
   "metadata": {
    "collapsed": false,
    "is_executing": true
   },
   "id": "fd989a746b4b6fa7"
  },
  {
   "cell_type": "code",
   "execution_count": null,
   "outputs": [],
   "source": [
    "top_candidates_3feat_price[top_candidates_3feat_price['customer_id']==272412481300040]"
   ],
   "metadata": {
    "collapsed": false,
    "is_executing": true
   },
   "id": "c1d114e579f71e1d"
  },
  {
   "cell_type": "code",
   "source": [
    "### Bestsellers candidates\n",
    "mean_price = transactions.groupby(['week', 'article_id'])['price'].mean()\n",
    "sales = transactions \\\n",
    "    .groupby('week')['article_id'].value_counts() \\\n",
    "    .groupby('week').rank(method='dense', ascending=False) \\\n",
    "    .groupby('week').head(12).rename('bestseller_rank').astype('int8')\n",
    "bestsellers_previous_week = pd.merge(sales, mean_price, on=['week', 'article_id']).reset_index()\n",
    "bestsellers_previous_week.week += 1"
   ],
   "metadata": {
    "papermill": {
     "duration": 0.11991,
     "end_time": "2022-04-16T16:59:28.231470",
     "exception": false,
     "start_time": "2022-04-16T16:59:28.111560",
     "status": "completed"
    },
    "tags": [],
    "execution": {
     "iopub.status.busy": "2023-10-11T08:03:25.596069Z",
     "iopub.execute_input": "2023-10-11T08:03:25.596380Z",
     "iopub.status.idle": "2023-10-11T08:03:25.640966Z",
     "shell.execute_reply.started": "2023-10-11T08:03:25.596349Z",
     "shell.execute_reply": "2023-10-11T08:03:25.640019Z"
    },
    "trusted": true,
    "is_executing": true
   },
   "execution_count": null,
   "outputs": [],
   "id": "bf2b1aaa2053ebaa"
  },
  {
   "cell_type": "code",
   "source": [
    "# bestsellers_previous_week.pipe(lambda df: df[df['week']==96])\n",
    "bestsellers_previous_week"
   ],
   "metadata": {
    "papermill": {
     "duration": 0.089116,
     "end_time": "2022-04-16T16:59:28.399153",
     "exception": false,
     "start_time": "2022-04-16T16:59:28.310037",
     "status": "completed"
    },
    "tags": [],
    "execution": {
     "iopub.status.busy": "2023-10-11T08:03:25.642378Z",
     "iopub.execute_input": "2023-10-11T08:03:25.642812Z",
     "iopub.status.idle": "2023-10-11T08:03:25.654010Z",
     "shell.execute_reply.started": "2023-10-11T08:03:25.642753Z",
     "shell.execute_reply": "2023-10-11T08:03:25.653041Z"
    },
    "trusted": true,
    "is_executing": true
   },
   "execution_count": null,
   "outputs": [],
   "id": "38554d4d96501297"
  },
  {
   "cell_type": "code",
   "source": [
    "unique_transactions = transactions.groupby(['week', 'customer_id']).head(1) .drop(columns=['article_id', 'price']).copy()\n",
    "candidates_bestsellers = pd.merge(unique_transactions, bestsellers_previous_week, on='week',)\n",
    "test_set_transactions = unique_transactions.drop_duplicates('customer_id').reset_index(drop=True)\n",
    "test_set_transactions.week = test_week"
   ],
   "metadata": {
    "papermill": {
     "duration": 0.163691,
     "end_time": "2022-04-16T16:59:30.668845",
     "exception": false,
     "start_time": "2022-04-16T16:59:30.505154",
     "status": "completed"
    },
    "tags": [],
    "execution": {
     "iopub.status.busy": "2023-10-11T08:03:27.233086Z",
     "iopub.execute_input": "2023-10-11T08:03:27.233759Z",
     "iopub.status.idle": "2023-10-11T08:03:27.290835Z",
     "shell.execute_reply.started": "2023-10-11T08:03:27.233720Z",
     "shell.execute_reply": "2023-10-11T08:03:27.290007Z"
    },
    "trusted": true,
    "is_executing": true
   },
   "execution_count": null,
   "outputs": [],
   "id": "43f6a7082fae2b06"
  },
  {
   "cell_type": "code",
   "execution_count": null,
   "outputs": [],
   "source": [
    "# candidates_bestsellers"
   ],
   "metadata": {
    "collapsed": false,
    "is_executing": true
   },
   "id": "a7ed7192b23479a4"
  },
  {
   "cell_type": "code",
   "source": [
    "# test_set_transactions\n",
    "# unique_transactions"
   ],
   "metadata": {
    "papermill": {
     "duration": 0.098295,
     "end_time": "2022-04-16T16:59:30.846626",
     "exception": false,
     "start_time": "2022-04-16T16:59:30.748331",
     "status": "completed"
    },
    "tags": [],
    "execution": {
     "iopub.status.busy": "2023-10-11T08:03:27.292596Z",
     "iopub.execute_input": "2023-10-11T08:03:27.293638Z",
     "iopub.status.idle": "2023-10-11T08:03:27.302090Z",
     "shell.execute_reply.started": "2023-10-11T08:03:27.293597Z",
     "shell.execute_reply": "2023-10-11T08:03:27.300846Z"
    },
    "trusted": true,
    "is_executing": true
   },
   "execution_count": null,
   "outputs": [],
   "id": "2bee51c080e7d11d"
  },
  {
   "cell_type": "code",
   "source": [
    "candidates_bestsellers_test_week = pd.merge(test_set_transactions, bestsellers_previous_week, on='week')\n",
    "candidates_bestsellers = pd.concat([candidates_bestsellers, candidates_bestsellers_test_week])\n",
    "candidates_bestsellers.drop(columns='bestseller_rank', inplace=True)"
   ],
   "metadata": {
    "papermill": {
     "duration": 0.570441,
     "end_time": "2022-04-16T16:59:32.058855",
     "exception": false,
     "start_time": "2022-04-16T16:59:31.488414",
     "status": "completed"
    },
    "tags": [],
    "execution": {
     "iopub.status.busy": "2023-10-11T08:03:27.665568Z",
     "iopub.execute_input": "2023-10-11T08:03:27.666052Z",
     "iopub.status.idle": "2023-10-11T08:03:28.402619Z",
     "shell.execute_reply.started": "2023-10-11T08:03:27.666007Z",
     "shell.execute_reply": "2023-10-11T08:03:28.401580Z"
    },
    "trusted": true,
    "is_executing": true
   },
   "execution_count": null,
   "outputs": [],
   "id": "99b980ad8b9e2dad"
  },
  {
   "cell_type": "code",
   "source": [
    "candidates_bestsellers"
   ],
   "metadata": {
    "papermill": {
     "duration": 0.095192,
     "end_time": "2022-04-16T16:59:32.233727",
     "exception": false,
     "start_time": "2022-04-16T16:59:32.138535",
     "status": "completed"
    },
    "tags": [],
    "execution": {
     "iopub.status.busy": "2023-10-11T08:03:28.403915Z",
     "iopub.execute_input": "2023-10-11T08:03:28.404325Z",
     "iopub.status.idle": "2023-10-11T08:03:28.412380Z",
     "shell.execute_reply.started": "2023-10-11T08:03:28.404290Z",
     "shell.execute_reply": "2023-10-11T08:03:28.411231Z"
    },
    "trusted": true,
    "is_executing": true
   },
   "execution_count": null,
   "outputs": [],
   "id": "8ca62bd46a28d851"
  },
  {
   "cell_type": "markdown",
   "source": [
    "# Combining transactions and candidates / negative examples"
   ],
   "metadata": {
    "papermill": {
     "duration": 0.08208,
     "end_time": "2022-04-16T16:59:32.397198",
     "exception": false,
     "start_time": "2022-04-16T16:59:32.315118",
     "status": "completed"
    },
    "tags": []
   },
   "id": "88415118080fdaed"
  },
  {
   "cell_type": "code",
   "source": [
    "transactions['purchased'] = 1\n",
    "data = pd.concat([transactions, candidates_last_purchase, candidates_bestsellers])\n",
    "data.purchased.fillna(0, inplace=True)\n",
    "data.drop_duplicates(['customer_id', 'article_id', 'week'], inplace=True)"
   ],
   "metadata": {
    "papermill": {
     "duration": 7.070271,
     "end_time": "2022-04-16T16:59:40.552624",
     "exception": false,
     "start_time": "2022-04-16T16:59:33.482353",
     "status": "completed"
    },
    "tags": [],
    "execution": {
     "iopub.status.busy": "2023-10-11T08:03:29.013858Z",
     "iopub.execute_input": "2023-10-11T08:03:29.014298Z",
     "iopub.status.idle": "2023-10-11T08:03:35.907805Z",
     "shell.execute_reply.started": "2023-10-11T08:03:29.014259Z",
     "shell.execute_reply": "2023-10-11T08:03:35.906630Z"
    },
    "trusted": true,
    "is_executing": true
   },
   "execution_count": null,
   "outputs": [],
   "id": "79abce01eb35c392"
  },
  {
   "cell_type": "code",
   "execution_count": null,
   "outputs": [],
   "source": [
    "data"
   ],
   "metadata": {
    "collapsed": false,
    "is_executing": true
   },
   "id": "3cc9ba36fcd3d3b0"
  },
  {
   "cell_type": "markdown",
   "source": [
    "### Add bestseller information"
   ],
   "metadata": {
    "papermill": {
     "duration": 0.085919,
     "end_time": "2022-04-16T16:59:40.938934",
     "exception": false,
     "start_time": "2022-04-16T16:59:40.853015",
     "status": "completed"
    },
    "tags": []
   },
   "id": "43c893713e721c04"
  },
  {
   "cell_type": "code",
   "source": [
    "data = pd.merge(\n",
    "    data,\n",
    "    bestsellers_previous_week[['week', 'article_id', 'bestseller_rank']],\n",
    "    on=['week', 'article_id'],\n",
    "    how='left'\n",
    ")\n",
    "data = data[data.week != data.week.min()]\n",
    "data.bestseller_rank.fillna(999, inplace=True)\n",
    "data = pd.merge(data, articles, on='article_id', how='left')\n",
    "data = pd.merge(data, customers, on='customer_id', how='left')\n",
    "data.sort_values(['week', 'customer_id'], inplace=True)\n",
    "data.reset_index(drop=True, inplace=True)"
   ],
   "metadata": {
    "papermill": {
     "duration": 6.526551,
     "end_time": "2022-04-16T17:00:17.700139",
     "exception": false,
     "start_time": "2022-04-16T17:00:11.173588",
     "status": "completed"
    },
    "tags": [],
    "execution": {
     "iopub.status.busy": "2023-10-11T08:03:53.360623Z",
     "iopub.execute_input": "2023-10-11T08:03:53.361255Z",
     "iopub.status.idle": "2023-10-11T08:03:58.996101Z",
     "shell.execute_reply.started": "2023-10-11T08:03:53.361181Z",
     "shell.execute_reply": "2023-10-11T08:03:58.994878Z"
    },
    "trusted": true,
    "is_executing": true
   },
   "execution_count": null,
   "outputs": [],
   "id": "cf878ef12e8a2606"
  },
  {
   "cell_type": "code",
   "source": [
    "train = data[data.week != test_week]\n",
    "test = data[data.week==test_week].drop_duplicates(['customer_id', 'article_id', 'sales_channel_id']).copy()"
   ],
   "metadata": {
    "papermill": {
     "duration": 6.711593,
     "end_time": "2022-04-16T17:00:24.465301",
     "exception": false,
     "start_time": "2022-04-16T17:00:17.753708",
     "status": "completed"
    },
    "tags": [],
    "execution": {
     "iopub.status.busy": "2023-10-11T08:03:58.997487Z",
     "iopub.execute_input": "2023-10-11T08:03:58.998061Z",
     "iopub.status.idle": "2023-10-11T08:04:05.048167Z",
     "shell.execute_reply.started": "2023-10-11T08:03:58.998031Z",
     "shell.execute_reply": "2023-10-11T08:04:05.046865Z"
    },
    "trusted": true,
    "is_executing": true
   },
   "execution_count": null,
   "outputs": [],
   "id": "9918b84796200b6e"
  },
  {
   "cell_type": "code",
   "execution_count": null,
   "outputs": [],
   "source": [
    "test"
   ],
   "metadata": {
    "collapsed": false,
    "is_executing": true
   },
   "id": "47ce2142709fb910"
  },
  {
   "cell_type": "code",
   "source": [
    "train_baskets = train.groupby(['week', 'customer_id'])['article_id'].count().values"
   ],
   "metadata": {
    "papermill": {
     "duration": 1.036818,
     "end_time": "2022-04-16T17:00:25.556300",
     "exception": false,
     "start_time": "2022-04-16T17:00:24.519482",
     "status": "completed"
    },
    "tags": [],
    "execution": {
     "iopub.status.busy": "2023-10-11T08:04:05.049936Z",
     "iopub.execute_input": "2023-10-11T08:04:05.050282Z",
     "iopub.status.idle": "2023-10-11T08:04:05.826591Z",
     "shell.execute_reply.started": "2023-10-11T08:04:05.050248Z",
     "shell.execute_reply": "2023-10-11T08:04:05.825128Z"
    },
    "trusted": true,
    "is_executing": true
   },
   "execution_count": null,
   "outputs": [],
   "id": "ba7d814dbd464026"
  },
  {
   "cell_type": "code",
   "source": [
    "extra_columns = []\n",
    "columns_to_use = ['article_id', 'product_type_no', 'graphical_appearance_no', 'colour_group_code', 'perceived_colour_value_id',\n",
    "'perceived_colour_master_id', 'department_no', 'index_code',\n",
    "'index_group_no', 'section_no', 'garment_group_no', 'FN', 'Active',\n",
    "'club_member_status', 'fashion_news_frequency', 'age', 'postal_code', 'bestseller_rank']\n",
    "columns_to_use.extend(extra_columns)"
   ],
   "metadata": {
    "papermill": {
     "duration": 0.070485,
     "end_time": "2022-04-16T17:00:25.687322",
     "exception": false,
     "start_time": "2022-04-16T17:00:25.616837",
     "status": "completed"
    },
    "tags": [],
    "execution": {
     "iopub.status.busy": "2023-10-11T08:04:05.828276Z",
     "iopub.execute_input": "2023-10-11T08:04:05.828819Z",
     "iopub.status.idle": "2023-10-11T08:04:05.834579Z",
     "shell.execute_reply.started": "2023-10-11T08:04:05.828659Z",
     "shell.execute_reply": "2023-10-11T08:04:05.833394Z"
    },
    "trusted": true,
    "is_executing": true
   },
   "execution_count": null,
   "outputs": [],
   "id": "a24741570390faec"
  },
  {
   "cell_type": "code",
   "source": [
    "train_X = train[columns_to_use]\n",
    "train_y = train['purchased']\n",
    "\n",
    "test_X = test[columns_to_use]"
   ],
   "metadata": {
    "papermill": {
     "duration": 0.633318,
     "end_time": "2022-04-16T17:00:26.379109",
     "exception": false,
     "start_time": "2022-04-16T17:00:25.745791",
     "status": "completed"
    },
    "tags": [],
    "execution": {
     "iopub.status.busy": "2023-10-11T08:04:05.835768Z",
     "iopub.execute_input": "2023-10-11T08:04:05.836432Z",
     "iopub.status.idle": "2023-10-11T08:04:06.660128Z",
     "shell.execute_reply.started": "2023-10-11T08:04:05.836399Z",
     "shell.execute_reply": "2023-10-11T08:04:06.658324Z"
    },
    "trusted": true,
    "is_executing": true
   },
   "execution_count": null,
   "outputs": [],
   "id": "84918c306f6c2fbf"
  },
  {
   "cell_type": "code",
   "source": [
    "test_X"
   ],
   "metadata": {
    "execution": {
     "iopub.status.busy": "2023-10-11T08:04:06.661241Z",
     "iopub.status.idle": "2023-10-11T08:04:06.661650Z",
     "shell.execute_reply.started": "2023-10-11T08:04:06.661472Z",
     "shell.execute_reply": "2023-10-11T08:04:06.661490Z"
    },
    "trusted": true,
    "is_executing": true
   },
   "execution_count": null,
   "outputs": [],
   "id": "f3d93799760e2fad"
  },
  {
   "cell_type": "markdown",
   "source": [
    "# Model training"
   ],
   "metadata": {
    "papermill": {
     "duration": 0.09573,
     "end_time": "2022-04-16T17:00:26.563647",
     "exception": false,
     "start_time": "2022-04-16T17:00:26.467917",
     "status": "completed"
    },
    "tags": []
   },
   "id": "9b8dfb6049a2a3ff"
  },
  {
   "cell_type": "code",
   "source": [
    "from lightgbm.sklearn import LGBMRanker\n",
    "ranker = LGBMRanker(\n",
    "    objective=\"lambdarank\",\n",
    "    metric=\"ndcg\",\n",
    "    boosting_type=\"dart\",\n",
    "    n_estimators=1,\n",
    "    importance_type='gain',\n",
    "    verbose=10\n",
    ")\n",
    "ranker = ranker.fit(\n",
    "    train_X,\n",
    "    train_y,\n",
    "    group=train_baskets,\n",
    ")"
   ],
   "metadata": {
    "papermill": {
     "duration": 11.066279,
     "end_time": "2022-04-16T17:00:39.301931",
     "exception": false,
     "start_time": "2022-04-16T17:00:28.235652",
     "status": "completed"
    },
    "tags": [],
    "execution": {
     "iopub.status.busy": "2023-10-11T08:04:06.672341Z",
     "iopub.status.idle": "2023-10-11T08:04:06.673322Z",
     "shell.execute_reply.started": "2023-10-11T08:04:06.672987Z",
     "shell.execute_reply": "2023-10-11T08:04:06.673007Z"
    },
    "trusted": true,
    "is_executing": true
   },
   "execution_count": null,
   "outputs": [],
   "id": "d66a13b6aae7e71d"
  },
  {
   "cell_type": "code",
   "source": [
    "for i in ranker.feature_importances_.argsort()[::-1]:\n",
    "    print(columns_to_use[i], ranker.feature_importances_[i]/ranker.feature_importances_.sum())"
   ],
   "metadata": {
    "papermill": {
     "duration": 0.107527,
     "end_time": "2022-04-16T17:00:39.466759",
     "exception": false,
     "start_time": "2022-04-16T17:00:39.359232",
     "status": "completed"
    },
    "tags": [],
    "execution": {
     "iopub.status.busy": "2023-10-11T08:04:06.675105Z",
     "iopub.status.idle": "2023-10-11T08:04:06.675529Z",
     "shell.execute_reply.started": "2023-10-11T08:04:06.675343Z",
     "shell.execute_reply": "2023-10-11T08:04:06.675362Z"
    },
    "trusted": true,
    "is_executing": true
   },
   "execution_count": null,
   "outputs": [],
   "id": "a03e9b47dc795f19"
  },
  {
   "cell_type": "markdown",
   "source": [
    "# Calculate predictions"
   ],
   "metadata": {
    "papermill": {
     "duration": 0.056904,
     "end_time": "2022-04-16T17:00:39.580889",
     "exception": false,
     "start_time": "2022-04-16T17:00:39.523985",
     "status": "completed"
    },
    "tags": []
   },
   "id": "5737da47a7d37c2e"
  },
  {
   "cell_type": "code",
   "source": [
    "test['preds'] = ranker.predict(test_X)\n",
    "\n",
    "c_id2predicted_article_ids = test \\\n",
    "    .sort_values(['customer_id', 'preds'], ascending=False) \\\n",
    "    .groupby('customer_id')['article_id'].apply(list).to_dict()\n",
    "\n",
    "bestsellers_last_week = \\\n",
    "    bestsellers_previous_week[bestsellers_previous_week.week == bestsellers_previous_week.week.max()]['article_id'].tolist()"
   ],
   "metadata": {
    "papermill": {
     "duration": 13.140874,
     "end_time": "2022-04-16T17:00:52.777866",
     "exception": false,
     "start_time": "2022-04-16T17:00:39.636992",
     "status": "completed"
    },
    "tags": [],
    "execution": {
     "iopub.status.busy": "2023-10-11T08:04:06.677139Z",
     "iopub.status.idle": "2023-10-11T08:04:06.677612Z",
     "shell.execute_reply.started": "2023-10-11T08:04:06.677364Z",
     "shell.execute_reply": "2023-10-11T08:04:06.677392Z"
    },
    "trusted": true,
    "is_executing": true
   },
   "execution_count": null,
   "outputs": [],
   "id": "1de07c0536b68c90"
  },
  {
   "cell_type": "markdown",
   "source": [
    "# Create submission"
   ],
   "metadata": {
    "papermill": {
     "duration": 0.07093,
     "end_time": "2022-04-16T17:00:52.913143",
     "exception": false,
     "start_time": "2022-04-16T17:00:52.842213",
     "status": "completed"
    },
    "tags": []
   },
   "id": "ac204415266f1bc5"
  },
  {
   "cell_type": "code",
   "source": [
    "sub = pd.read_csv('../input/sample_submission.csv')\n",
    "preds = []\n",
    "for c_id in customer_hex_id_to_int(sub.customer_id):\n",
    "    pred = c_id2predicted_article_ids.get(c_id, [])\n",
    "    pred = pred + bestsellers_last_week\n",
    "    preds.append(pred[:12])\n",
    "preds = [' '.join(['0' + str(p) for p in ps]) for ps in preds]\n",
    "sub.prediction = preds\n",
    "sub_name = 'basic_model_submission'\n",
    "sub.to_csv(f'{sub_name}.csv.gz', index=False)"
   ],
   "metadata": {
    "execution": {
     "iopub.status.busy": "2023-10-11T08:04:06.685139Z",
     "iopub.status.idle": "2023-10-11T08:04:06.685896Z",
     "shell.execute_reply.started": "2023-10-11T08:04:06.685667Z",
     "shell.execute_reply": "2023-10-11T08:04:06.685687Z"
    },
    "trusted": true,
    "is_executing": true
   },
   "execution_count": null,
   "outputs": [],
   "id": "67a45867f9ea155d"
  }
 ]
}
