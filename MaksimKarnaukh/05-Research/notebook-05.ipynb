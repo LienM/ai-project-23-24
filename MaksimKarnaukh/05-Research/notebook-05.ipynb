{
 "metadata": {
  "kernelspec": {
   "display_name": "Python 3",
   "language": "python",
   "name": "python3"
  },
  "language_info": {
   "name": "python",
   "version": "3.10.12",
   "mimetype": "text/x-python",
   "codemirror_mode": {
    "name": "ipython",
    "version": 3
   },
   "pygments_lexer": "ipython3",
   "nbconvert_exporter": "python",
   "file_extension": ".py"
  },
  "papermill": {
   "default_parameters": {},
   "duration": 185.112876,
   "end_time": "2022-04-16T17:01:37.553573",
   "environment_variables": {},
   "exception": null,
   "input_path": "__notebook__.ipynb",
   "output_path": "__notebook__.ipynb",
   "parameters": {},
   "start_time": "2022-04-16T16:58:32.440697",
   "version": "2.3.4"
  }
 },
 "nbformat_minor": 5,
 "nbformat": 4,
 "cells": [
  {
   "cell_type": "markdown",
   "source": [
    "Radek posted about this [here](https://www.kaggle.com/competitions/h-and-m-personalized-fashion-recommendations/discussion/309220), and linked to a GitHub repo with the code.\n",
    "\n",
    "I just transferred that code here to Kaggle notebooks, that's all."
   ],
   "metadata": {
    "papermill": {
     "duration": 0.052947,
     "end_time": "2022-04-16T16:58:42.297492",
     "exception": false,
     "start_time": "2022-04-16T16:58:42.244545",
     "status": "completed"
    },
    "tags": []
   },
   "id": "1c494b88382cd063"
  },
  {
   "cell_type": "code",
   "source": [
    "import numpy as np\n",
    "\n",
    "def apk(actual, predicted, k=10):\n",
    "    \"\"\"\n",
    "    Computes the average precision at k.\n",
    "\n",
    "    This function computes the average prescision at k between two lists of\n",
    "    items.\n",
    "\n",
    "    Parameters\n",
    "    ----------\n",
    "    actual : list\n",
    "             A list of elements that are to be predicted (order doesn't matter)\n",
    "    predicted : list\n",
    "                A list of predicted elements (order does matter)\n",
    "    k : int, optional\n",
    "        The maximum number of predicted elements\n",
    "\n",
    "    Returns\n",
    "    -------\n",
    "    score : double\n",
    "            The average precision at k over the input lists\n",
    "\n",
    "    \"\"\"\n",
    "    if len(predicted)>k:\n",
    "        predicted = predicted[:k]\n",
    "\n",
    "    score = 0.0\n",
    "    num_hits = 0.0\n",
    "\n",
    "    for i,p in enumerate(predicted):\n",
    "        if p in actual and p not in predicted[:i]:\n",
    "            num_hits += 1.0\n",
    "            score += num_hits / (i+1.0)\n",
    "\n",
    "    if not actual:\n",
    "        return 0.0\n",
    "\n",
    "    return score / min(len(actual), k)\n",
    "\n",
    "def mapk(actual, predicted, k=10):\n",
    "    \"\"\"\n",
    "    Computes the mean average precision at k.\n",
    "\n",
    "    This function computes the mean average prescision at k between two lists\n",
    "    of lists of items.\n",
    "\n",
    "    Parameters\n",
    "    ----------\n",
    "    actual : list\n",
    "             A list of lists of elements that are to be predicted \n",
    "             (order doesn't matter in the lists)\n",
    "    predicted : list\n",
    "                A list of lists of predicted elements\n",
    "                (order matters in the lists)\n",
    "    k : int, optional\n",
    "        The maximum number of predicted elements\n",
    "\n",
    "    Returns\n",
    "    -------\n",
    "    score : double\n",
    "            The mean average precision at k over the input lists\n",
    "\n",
    "    \"\"\"\n",
    "    return np.mean([apk(a,p,k) for a,p in zip(actual, predicted)])"
   ],
   "metadata": {
    "papermill": {
     "duration": 0.085968,
     "end_time": "2022-04-16T16:58:42.429535",
     "exception": false,
     "start_time": "2022-04-16T16:58:42.343567",
     "status": "completed"
    },
    "tags": [],
    "execution": {
     "iopub.status.busy": "2023-10-11T08:02:33.314155Z",
     "iopub.execute_input": "2023-10-11T08:02:33.314553Z",
     "iopub.status.idle": "2023-10-11T08:02:33.324352Z",
     "shell.execute_reply.started": "2023-10-11T08:02:33.314527Z",
     "shell.execute_reply": "2023-10-11T08:02:33.323182Z"
    },
    "trusted": true,
    "ExecuteTime": {
     "end_time": "2023-12-17T04:17:14.096791700Z",
     "start_time": "2023-12-17T04:17:14.090129Z"
    }
   },
   "execution_count": 66,
   "outputs": [],
   "id": "2b9ff34659d7d9c3"
  },
  {
   "cell_type": "code",
   "source": [
    "from sklearn.base import BaseEstimator, TransformerMixin\n",
    "import numpy as np\n",
    "\n",
    "# https://www.kaggle.com/c/h-and-m-personalized-fashion-recommendations/discussion/308635\n",
    "def customer_hex_id_to_int(series):\n",
    "    return series.str[-16:].apply(hex_id_to_int)\n",
    "\n",
    "def hex_id_to_int(str):\n",
    "    return int(str[-16:], 16)\n",
    "\n",
    "def article_id_str_to_int(series):\n",
    "    return series.astype('int32')\n",
    "\n",
    "def article_id_int_to_str(series):\n",
    "    return '0' + series.astype('str')\n",
    "\n",
    "class Categorize(BaseEstimator, TransformerMixin):\n",
    "    def __init__(self, min_examples=0):\n",
    "        self.min_examples = min_examples\n",
    "        self.categories = []\n",
    "        \n",
    "    def fit(self, X):\n",
    "        for i in range(X.shape[1]):\n",
    "            vc = X.iloc[:, i].value_counts()\n",
    "            self.categories.append(vc[vc > self.min_examples].index.tolist())\n",
    "        return self\n",
    "\n",
    "    def transform(self, X):\n",
    "        data = {X.columns[i]: pd.Categorical(X.iloc[:, i], categories=self.categories[i]).codes for i in range(X.shape[1])}\n",
    "        return pd.DataFrame(data=data)\n",
    "\n",
    "\n",
    "def calculate_apk(list_of_preds, list_of_gts):\n",
    "    # for fast validation this can be changed to operate on dicts of {'cust_id_int': [art_id_int, ...]}\n",
    "    # using 'data/val_week_purchases_by_cust.pkl'\n",
    "    apks = []\n",
    "    for preds, gt in zip(list_of_preds, list_of_gts):\n",
    "        apks.append(apk(gt, preds, k=12))\n",
    "    return np.mean(apks)\n",
    "\n",
    "def eval_sub(sub_csv, skip_cust_with_no_purchases=True):\n",
    "    sub=pd.read_csv(sub_csv)\n",
    "    validation_set=pd.read_parquet('data/validation_ground_truth.parquet')\n",
    "\n",
    "    apks = []\n",
    "\n",
    "    no_purchases_pattern = []\n",
    "    for pred, gt in zip(sub.prediction.str.split(), validation_set.prediction.str.split()):\n",
    "        if skip_cust_with_no_purchases and (gt == no_purchases_pattern): continue\n",
    "        apks.append(apk(gt, pred, k=12))\n",
    "    return np.mean(apks)"
   ],
   "metadata": {
    "papermill": {
     "duration": 1.348449,
     "end_time": "2022-04-16T16:58:43.828990",
     "exception": false,
     "start_time": "2022-04-16T16:58:42.480541",
     "status": "completed"
    },
    "tags": [],
    "execution": {
     "iopub.status.busy": "2023-10-11T08:02:33.363111Z",
     "iopub.execute_input": "2023-10-11T08:02:33.363887Z",
     "iopub.status.idle": "2023-10-11T08:02:33.430110Z",
     "shell.execute_reply.started": "2023-10-11T08:02:33.363843Z",
     "shell.execute_reply": "2023-10-11T08:02:33.429142Z"
    },
    "trusted": true,
    "ExecuteTime": {
     "end_time": "2023-12-17T04:17:14.099275Z",
     "start_time": "2023-12-17T04:17:14.092258400Z"
    }
   },
   "execution_count": 67,
   "outputs": [],
   "id": "a3e90c217d7a3257"
  },
  {
   "cell_type": "code",
   "source": [
    "import pandas as pd\n",
    "import time\n",
    "\n",
    "transactions = pd.read_parquet('../input/transactions_train.parquet')\n",
    "customers = pd.read_parquet('../input/customers.parquet')\n",
    "articles = pd.read_parquet('../input/articles.parquet')\n",
    "\n",
    "transactions_copy = transactions.copy()\n",
    "validation = transactions[transactions.week == transactions.week.max()]\n",
    "\n",
    "test_week = transactions.week.max() + 1\n",
    "transactions = transactions[transactions.week > transactions.week.max() - 10]"
   ],
   "metadata": {
    "papermill": {
     "duration": 9.279307,
     "end_time": "2022-04-16T16:58:53.289550",
     "exception": false,
     "start_time": "2022-04-16T16:58:44.010243",
     "status": "completed"
    },
    "tags": [],
    "execution": {
     "iopub.status.busy": "2023-10-11T08:02:33.432368Z",
     "iopub.execute_input": "2023-10-11T08:02:33.433121Z",
     "iopub.status.idle": "2023-10-11T08:02:37.691627Z",
     "shell.execute_reply.started": "2023-10-11T08:02:33.433081Z",
     "shell.execute_reply": "2023-10-11T08:02:37.690543Z"
    },
    "trusted": true,
    "ExecuteTime": {
     "end_time": "2023-12-17T04:17:15.118975300Z",
     "start_time": "2023-12-17T04:17:14.097287900Z"
    }
   },
   "execution_count": 68,
   "outputs": [],
   "id": "ea3486ea109915fd"
  },
  {
   "cell_type": "markdown",
   "source": [
    "# Generating candidates"
   ],
   "metadata": {
    "papermill": {
     "duration": 0.04664,
     "end_time": "2022-04-16T16:58:53.778482",
     "exception": false,
     "start_time": "2022-04-16T16:58:53.731842",
     "status": "completed"
    },
    "tags": []
   },
   "id": "db3c9bcadb9cda9b"
  },
  {
   "cell_type": "markdown",
   "source": [
    "### Last purchase candidates"
   ],
   "metadata": {
    "papermill": {
     "duration": 0.047255,
     "end_time": "2022-04-16T16:58:53.872805",
     "exception": false,
     "start_time": "2022-04-16T16:58:53.825550",
     "status": "completed"
    },
    "tags": []
   },
   "id": "b53210a64303217c"
  },
  {
   "cell_type": "code",
   "source": [
    "c2weeks = transactions.groupby('customer_id')['week'].unique()\n",
    "c2weeks2shifted_weeks = {}\n",
    "\n",
    "for c_id, weeks in c2weeks.items():\n",
    "    c2weeks2shifted_weeks[c_id] = {}\n",
    "    for i in range(weeks.shape[0]-1):\n",
    "        c2weeks2shifted_weeks[c_id][weeks[i]] = weeks[i+1]\n",
    "    c2weeks2shifted_weeks[c_id][weeks[-1]] = test_week\n",
    "    \n",
    "candidates_last_purchase = transactions.copy()\n",
    "weeks = []\n",
    "for i, (c_id, week) in enumerate(zip(transactions['customer_id'], transactions['week'])):\n",
    "    weeks.append(c2weeks2shifted_weeks[c_id][week])\n",
    "candidates_last_purchase.week=weeks"
   ],
   "metadata": {
    "papermill": {
     "duration": 8.716794,
     "end_time": "2022-04-16T16:59:25.784593",
     "exception": false,
     "start_time": "2022-04-16T16:59:17.067799",
     "status": "completed"
    },
    "tags": [],
    "execution": {
     "iopub.status.busy": "2023-10-11T08:03:04.442232Z",
     "iopub.execute_input": "2023-10-11T08:03:04.442523Z",
     "iopub.status.idle": "2023-10-11T08:03:22.614016Z",
     "shell.execute_reply.started": "2023-10-11T08:03:04.442499Z",
     "shell.execute_reply": "2023-10-11T08:03:22.612552Z"
    },
    "trusted": true,
    "ExecuteTime": {
     "end_time": "2023-12-17T04:17:30.589043800Z",
     "start_time": "2023-12-17T04:17:15.120465Z"
    }
   },
   "execution_count": 69,
   "outputs": [],
   "id": "9fd4547c64950724"
  },
  {
   "cell_type": "code",
   "execution_count": 70,
   "outputs": [],
   "source": [
    "# generate personalized candidates for each customer based on three features: age, index_group_name and mean purchase price of the customer.\n",
    "\n",
    "# first create mean price per customer\n",
    "mean_price_per_c = transactions.groupby('customer_id')['price'].mean().rename('mean_price_per_c').reset_index()\n",
    "# figure out the customers preferred index group name by looking at past transactions articles' index_group_name\n",
    "ttransactions = pd.merge(transactions, articles[['article_id', 'index_group_name']], on='article_id', how='left')\n",
    "# per customer count the number of purchases of each index_group_name\n",
    "c2index_group_name = ttransactions.groupby('customer_id')['index_group_name'].value_counts().rename('count').reset_index()\n",
    "c2index_group_name = c2index_group_name.sort_values('count', ascending=False).groupby('customer_id').head(1).rename(columns={'index_group_name': 'highest_count_ign_per_c'})\n",
    "# merge the mean_price_per_c and c2index_group_name dataframes\n",
    "t = pd.merge(c2index_group_name[['customer_id', 'highest_count_ign_per_c']], mean_price_per_c, on='customer_id', how='left')\n",
    "\n",
    "# per article find the average age of the customers who bought it\n",
    "transactions_with_age = pd.merge(transactions, customers[['customer_id', 'age']], on='customer_id', how='left')\n",
    "mean_age_per_a = transactions_with_age.groupby('article_id')['age'].mean().rename('mean_age_per_a').astype('int8').reset_index()\n",
    "\n",
    "# merge to get the mean_price_per_c, highest_count_ign_per_c and mean_age_per_a columns\n",
    "transactions_with_age_feat = pd.merge(transactions_with_age, t, on='customer_id', how='left')\n",
    "transactions_with_3feat = pd.merge(transactions_with_age_feat, mean_age_per_a, on='article_id', how='left')\n",
    "transactions_with_3feat = pd.merge(transactions_with_3feat, articles[['article_id', 'index_group_name']], on='article_id', how='left')"
   ],
   "metadata": {
    "collapsed": false,
    "ExecuteTime": {
     "end_time": "2023-12-17T04:17:32.285225400Z",
     "start_time": "2023-12-17T04:17:30.589588200Z"
    }
   },
   "id": "3a74564cfe40fb2c"
  },
  {
   "cell_type": "code",
   "execution_count": 71,
   "outputs": [
    {
     "data": {
      "text/plain": "             t_dat           customer_id  article_id     price  \\\n0       2020-07-15       272412481300040   778064028  0.008458   \n1       2020-07-15       272412481300040   816592008  0.016932   \n2       2020-07-15       272412481300040   621381021  0.033881   \n3       2020-07-15       272412481300040   817477003  0.025407   \n4       2020-07-15       272412481300040   899088002  0.025407   \n...            ...                   ...         ...       ...   \n2762867 2020-09-22  18439937050817258297   891591003  0.084729   \n2762868 2020-09-22  18439937050817258297   869706005  0.084729   \n2762869 2020-09-22  18440902715633436014   918894002  0.016932   \n2762870 2020-09-22  18440902715633436014   761269001  0.016932   \n2762871 2020-09-22  18443633011701112574   914868002  0.033881   \n\n         sales_channel_id  week  age  highest_count_ign_per_c  \\\n0                       1    95   48                        0   \n1                       1    95   48                        0   \n2                       1    95   48                        0   \n3                       1    95   48                        0   \n4                       1    95   48                        0   \n...                   ...   ...  ...                      ...   \n2762867                 2   104   49                        0   \n2762868                 2   104   49                        0   \n2762869                 1   104   18                        0   \n2762870                 1   104   18                        0   \n2762871                 1   104   58                        0   \n\n         mean_price_per_c  mean_age_per_a  index_group_name  \n0                0.030597              32                 0  \n1                0.030597              37                 2  \n2                0.030597              35                 2  \n3                0.030597              33                 0  \n4                0.030597              35                 2  \n...                   ...             ...               ...  \n2762867          0.040379              41                 0  \n2762868          0.040379              39                 0  \n2762869          0.028232              30                 0  \n2762870          0.028232              33                 0  \n2762871          0.032186              33                 2  \n\n[2762872 rows x 11 columns]",
      "text/html": "<div>\n<style scoped>\n    .dataframe tbody tr th:only-of-type {\n        vertical-align: middle;\n    }\n\n    .dataframe tbody tr th {\n        vertical-align: top;\n    }\n\n    .dataframe thead th {\n        text-align: right;\n    }\n</style>\n<table border=\"1\" class=\"dataframe\">\n  <thead>\n    <tr style=\"text-align: right;\">\n      <th></th>\n      <th>t_dat</th>\n      <th>customer_id</th>\n      <th>article_id</th>\n      <th>price</th>\n      <th>sales_channel_id</th>\n      <th>week</th>\n      <th>age</th>\n      <th>highest_count_ign_per_c</th>\n      <th>mean_price_per_c</th>\n      <th>mean_age_per_a</th>\n      <th>index_group_name</th>\n    </tr>\n  </thead>\n  <tbody>\n    <tr>\n      <th>0</th>\n      <td>2020-07-15</td>\n      <td>272412481300040</td>\n      <td>778064028</td>\n      <td>0.008458</td>\n      <td>1</td>\n      <td>95</td>\n      <td>48</td>\n      <td>0</td>\n      <td>0.030597</td>\n      <td>32</td>\n      <td>0</td>\n    </tr>\n    <tr>\n      <th>1</th>\n      <td>2020-07-15</td>\n      <td>272412481300040</td>\n      <td>816592008</td>\n      <td>0.016932</td>\n      <td>1</td>\n      <td>95</td>\n      <td>48</td>\n      <td>0</td>\n      <td>0.030597</td>\n      <td>37</td>\n      <td>2</td>\n    </tr>\n    <tr>\n      <th>2</th>\n      <td>2020-07-15</td>\n      <td>272412481300040</td>\n      <td>621381021</td>\n      <td>0.033881</td>\n      <td>1</td>\n      <td>95</td>\n      <td>48</td>\n      <td>0</td>\n      <td>0.030597</td>\n      <td>35</td>\n      <td>2</td>\n    </tr>\n    <tr>\n      <th>3</th>\n      <td>2020-07-15</td>\n      <td>272412481300040</td>\n      <td>817477003</td>\n      <td>0.025407</td>\n      <td>1</td>\n      <td>95</td>\n      <td>48</td>\n      <td>0</td>\n      <td>0.030597</td>\n      <td>33</td>\n      <td>0</td>\n    </tr>\n    <tr>\n      <th>4</th>\n      <td>2020-07-15</td>\n      <td>272412481300040</td>\n      <td>899088002</td>\n      <td>0.025407</td>\n      <td>1</td>\n      <td>95</td>\n      <td>48</td>\n      <td>0</td>\n      <td>0.030597</td>\n      <td>35</td>\n      <td>2</td>\n    </tr>\n    <tr>\n      <th>...</th>\n      <td>...</td>\n      <td>...</td>\n      <td>...</td>\n      <td>...</td>\n      <td>...</td>\n      <td>...</td>\n      <td>...</td>\n      <td>...</td>\n      <td>...</td>\n      <td>...</td>\n      <td>...</td>\n    </tr>\n    <tr>\n      <th>2762867</th>\n      <td>2020-09-22</td>\n      <td>18439937050817258297</td>\n      <td>891591003</td>\n      <td>0.084729</td>\n      <td>2</td>\n      <td>104</td>\n      <td>49</td>\n      <td>0</td>\n      <td>0.040379</td>\n      <td>41</td>\n      <td>0</td>\n    </tr>\n    <tr>\n      <th>2762868</th>\n      <td>2020-09-22</td>\n      <td>18439937050817258297</td>\n      <td>869706005</td>\n      <td>0.084729</td>\n      <td>2</td>\n      <td>104</td>\n      <td>49</td>\n      <td>0</td>\n      <td>0.040379</td>\n      <td>39</td>\n      <td>0</td>\n    </tr>\n    <tr>\n      <th>2762869</th>\n      <td>2020-09-22</td>\n      <td>18440902715633436014</td>\n      <td>918894002</td>\n      <td>0.016932</td>\n      <td>1</td>\n      <td>104</td>\n      <td>18</td>\n      <td>0</td>\n      <td>0.028232</td>\n      <td>30</td>\n      <td>0</td>\n    </tr>\n    <tr>\n      <th>2762870</th>\n      <td>2020-09-22</td>\n      <td>18440902715633436014</td>\n      <td>761269001</td>\n      <td>0.016932</td>\n      <td>1</td>\n      <td>104</td>\n      <td>18</td>\n      <td>0</td>\n      <td>0.028232</td>\n      <td>33</td>\n      <td>0</td>\n    </tr>\n    <tr>\n      <th>2762871</th>\n      <td>2020-09-22</td>\n      <td>18443633011701112574</td>\n      <td>914868002</td>\n      <td>0.033881</td>\n      <td>1</td>\n      <td>104</td>\n      <td>58</td>\n      <td>0</td>\n      <td>0.032186</td>\n      <td>33</td>\n      <td>2</td>\n    </tr>\n  </tbody>\n</table>\n<p>2762872 rows × 11 columns</p>\n</div>"
     },
     "execution_count": 71,
     "metadata": {},
     "output_type": "execute_result"
    }
   ],
   "source": [
    "transactions_with_3feat"
   ],
   "metadata": {
    "collapsed": false,
    "ExecuteTime": {
     "end_time": "2023-12-17T04:17:32.292861200Z",
     "start_time": "2023-12-17T04:17:32.285722700Z"
    }
   },
   "id": "6f94e8d5eb113a4f"
  },
  {
   "cell_type": "code",
   "execution_count": 72,
   "outputs": [],
   "source": [
    "# merge t with customers columns customer_id, age on customer_id for later use\n",
    "t_merged = pd.merge(t, customers[['customer_id', 'age']], on='customer_id', how='left')"
   ],
   "metadata": {
    "collapsed": false,
    "ExecuteTime": {
     "end_time": "2023-12-17T04:17:32.466855500Z",
     "start_time": "2023-12-17T04:17:32.291371100Z"
    }
   },
   "id": "d87e010afeabddc1"
  },
  {
   "cell_type": "code",
   "execution_count": 73,
   "outputs": [
    {
     "name": "stdout",
     "output_type": "stream",
     "text": [
      "Chunk 0 processed in 18.82 seconds\n",
      "Chunk 1 processed in 18.84 seconds\n",
      "Chunk 2 processed in 18.52 seconds\n",
      "Chunk 3 processed in 18.28 seconds\n",
      "Chunk 4 processed in 18.29 seconds\n",
      "Chunk 5 processed in 18.01 seconds\n"
     ]
    }
   ],
   "source": [
    "# Create a DataFrame with unique articles\n",
    "unique_articles = transactions_with_3feat[['t_dat', 'sales_channel_id', 'article_id', 'price', 'index_group_name', 'week']].drop_duplicates()\n",
    "# we only keep latest purchase of each article\n",
    "unique_articles = unique_articles.sort_values('t_dat', ascending=False).drop_duplicates('article_id')#.drop(columns=['t_dat'])\n",
    "\n",
    "chunk_size = 1000  # Define the number of customers to process at once\n",
    "\n",
    "unique_customers = mean_price_per_c['customer_id'].unique()[:6000]\n",
    "\n",
    "# Process customers in chunks\n",
    "chunks = [unique_customers[i:i + chunk_size] for i in range(0, len(unique_customers), chunk_size)]\n",
    "\n",
    "result_candidates_3feat = pd.DataFrame()  # DataFrame to store final candidates\n",
    "\n",
    "result_candidates_3feat_chunks = []\n",
    "\n",
    "for idx, customer_chunk in enumerate(chunks):\n",
    "    start = time.time()\n",
    "    # Cartesian product of unique articles and customers, since we want to choose candidates out of all unique articles for each customer\n",
    "    candidate_articles = pd.merge(\n",
    "        unique_articles,\n",
    "        pd.DataFrame({'customer_id': customer_chunk}),\n",
    "        how='cross'\n",
    "    )\n",
    "    # get the necessary columns to filter out the candidates\n",
    "    candidate_articles = pd.merge(candidate_articles, t_merged, on='customer_id', how='left')\n",
    "    candidate_articles = pd.merge(candidate_articles, mean_age_per_a, on='article_id', how='left')\n",
    "    \n",
    "    # Select all candidates per customer_id where highest_count_ign_per_c is equal to index_group_name\n",
    "    candidate_articles = candidate_articles[candidate_articles['highest_count_ign_per_c']==candidate_articles['index_group_name']]\n",
    "    \n",
    "    # Calculate price difference for each combination\n",
    "    candidate_articles['price_difference'] = abs(candidate_articles['mean_price_per_c'] - candidate_articles['price'])\n",
    "    # Rank articles within each customer group based on price difference\n",
    "    candidate_articles['price_rank'] = (\n",
    "        candidate_articles\n",
    "        .groupby(['week', 'customer_id'])['price_difference']\n",
    "        .rank(ascending=True, method='min')\n",
    "    )\n",
    "    # Select the top 50 candidates for each customer\n",
    "    top_candidates = (\n",
    "        candidate_articles\n",
    "        .sort_values(by=['customer_id', 'week', 'price_rank'])\n",
    "        .groupby(['week', 'customer_id'])\n",
    "        .head(50)\n",
    "    )\n",
    "    \n",
    "    # Calculate age difference for each combination\n",
    "    top_candidates['age_difference'] = abs(top_candidates['age'] - top_candidates['mean_age_per_a'])\n",
    "    # Rank articles within each customer group based on age difference\n",
    "    top_candidates['age_rank'] = (\n",
    "        top_candidates\n",
    "        .groupby(['week', 'customer_id'])['age_difference']\n",
    "        .rank(ascending=True, method='min')\n",
    "    )\n",
    "    # Select the top 12 candidates for each customer based on age difference\n",
    "    top_candidates = (\n",
    "        top_candidates\n",
    "        .sort_values(by=['customer_id', 'week', 'age_rank'])\n",
    "        .groupby(['week', 'customer_id'])\n",
    "        .head(12)\n",
    "    )\n",
    "    \n",
    "    # Append current chunk's candidates to result\n",
    "    result_candidates_3feat_chunks.append(top_candidates)\n",
    "    \n",
    "    print(f'Chunk {idx} processed in {time.time() - start:.2f} seconds')\n",
    "    \n",
    "# Concatenate all chunks into the final result    \n",
    "result_candidates_3feat = pd.concat(result_candidates_3feat_chunks, ignore_index=True)\n",
    "\n",
    "top_candidates_3feat = result_candidates_3feat.drop(columns=['price_difference', 'age_difference'])"
   ],
   "metadata": {
    "collapsed": false,
    "ExecuteTime": {
     "end_time": "2023-12-17T04:19:23.554105Z",
     "start_time": "2023-12-17T04:17:32.469338300Z"
    }
   },
   "id": "44409c4013498fda"
  },
  {
   "cell_type": "code",
   "execution_count": 74,
   "outputs": [
    {
     "data": {
      "text/plain": "            t_dat  sales_channel_id  article_id     price  index_group_name  \\\n0      2020-07-16                 1   754852002  0.050831                 0   \n1      2020-07-21                 1   747764002  0.047441                 0   \n2      2020-07-16                 1   685944002  0.042356                 0   \n3      2020-07-19                 1   746344001  0.033881                 0   \n4      2020-07-15                 1   796042001  0.033881                 0   \n...           ...               ...         ...       ...               ...   \n719995 2020-09-21                 2   844109002  0.021000                 0   \n719996 2020-09-21                 2   877509001  0.021508                 0   \n719997 2020-09-22                 1   567532030  0.021169                 0   \n719998 2020-09-19                 1   933411001  0.020864                 0   \n719999 2020-09-18                 2   893323001  0.020780                 0   \n\n        week         customer_id  highest_count_ign_per_c  mean_price_per_c  \\\n0         95      28847241659200                        0          0.046085   \n1         95      28847241659200                        0          0.046085   \n2         95      28847241659200                        0          0.046085   \n3         95      28847241659200                        0          0.046085   \n4         95      28847241659200                        0          0.046085   \n...      ...                 ...                      ...               ...   \n719995   104  248181446477491347                        0          0.021169   \n719996   104  248181446477491347                        0          0.021169   \n719997   104  248181446477491347                        0          0.021169   \n719998   104  248181446477491347                        0          0.021169   \n719999   104  248181446477491347                        0          0.021169   \n\n        age  mean_age_per_a  price_rank  age_rank  \n0        21              21        21.0       1.0  \n1        21              22         2.0       2.0  \n2        21              20         7.0       2.0  \n3        21              20        36.0       2.0  \n4        21              22        36.0       2.0  \n...     ...             ...         ...       ...  \n719995   19              31        31.0       5.0  \n719996   19              31        45.0       5.0  \n719997   19              32         1.0      10.0  \n719998   19              32        41.0      10.0  \n719999   19              32        49.0      10.0  \n\n[720000 rows x 13 columns]",
      "text/html": "<div>\n<style scoped>\n    .dataframe tbody tr th:only-of-type {\n        vertical-align: middle;\n    }\n\n    .dataframe tbody tr th {\n        vertical-align: top;\n    }\n\n    .dataframe thead th {\n        text-align: right;\n    }\n</style>\n<table border=\"1\" class=\"dataframe\">\n  <thead>\n    <tr style=\"text-align: right;\">\n      <th></th>\n      <th>t_dat</th>\n      <th>sales_channel_id</th>\n      <th>article_id</th>\n      <th>price</th>\n      <th>index_group_name</th>\n      <th>week</th>\n      <th>customer_id</th>\n      <th>highest_count_ign_per_c</th>\n      <th>mean_price_per_c</th>\n      <th>age</th>\n      <th>mean_age_per_a</th>\n      <th>price_rank</th>\n      <th>age_rank</th>\n    </tr>\n  </thead>\n  <tbody>\n    <tr>\n      <th>0</th>\n      <td>2020-07-16</td>\n      <td>1</td>\n      <td>754852002</td>\n      <td>0.050831</td>\n      <td>0</td>\n      <td>95</td>\n      <td>28847241659200</td>\n      <td>0</td>\n      <td>0.046085</td>\n      <td>21</td>\n      <td>21</td>\n      <td>21.0</td>\n      <td>1.0</td>\n    </tr>\n    <tr>\n      <th>1</th>\n      <td>2020-07-21</td>\n      <td>1</td>\n      <td>747764002</td>\n      <td>0.047441</td>\n      <td>0</td>\n      <td>95</td>\n      <td>28847241659200</td>\n      <td>0</td>\n      <td>0.046085</td>\n      <td>21</td>\n      <td>22</td>\n      <td>2.0</td>\n      <td>2.0</td>\n    </tr>\n    <tr>\n      <th>2</th>\n      <td>2020-07-16</td>\n      <td>1</td>\n      <td>685944002</td>\n      <td>0.042356</td>\n      <td>0</td>\n      <td>95</td>\n      <td>28847241659200</td>\n      <td>0</td>\n      <td>0.046085</td>\n      <td>21</td>\n      <td>20</td>\n      <td>7.0</td>\n      <td>2.0</td>\n    </tr>\n    <tr>\n      <th>3</th>\n      <td>2020-07-19</td>\n      <td>1</td>\n      <td>746344001</td>\n      <td>0.033881</td>\n      <td>0</td>\n      <td>95</td>\n      <td>28847241659200</td>\n      <td>0</td>\n      <td>0.046085</td>\n      <td>21</td>\n      <td>20</td>\n      <td>36.0</td>\n      <td>2.0</td>\n    </tr>\n    <tr>\n      <th>4</th>\n      <td>2020-07-15</td>\n      <td>1</td>\n      <td>796042001</td>\n      <td>0.033881</td>\n      <td>0</td>\n      <td>95</td>\n      <td>28847241659200</td>\n      <td>0</td>\n      <td>0.046085</td>\n      <td>21</td>\n      <td>22</td>\n      <td>36.0</td>\n      <td>2.0</td>\n    </tr>\n    <tr>\n      <th>...</th>\n      <td>...</td>\n      <td>...</td>\n      <td>...</td>\n      <td>...</td>\n      <td>...</td>\n      <td>...</td>\n      <td>...</td>\n      <td>...</td>\n      <td>...</td>\n      <td>...</td>\n      <td>...</td>\n      <td>...</td>\n      <td>...</td>\n    </tr>\n    <tr>\n      <th>719995</th>\n      <td>2020-09-21</td>\n      <td>2</td>\n      <td>844109002</td>\n      <td>0.021000</td>\n      <td>0</td>\n      <td>104</td>\n      <td>248181446477491347</td>\n      <td>0</td>\n      <td>0.021169</td>\n      <td>19</td>\n      <td>31</td>\n      <td>31.0</td>\n      <td>5.0</td>\n    </tr>\n    <tr>\n      <th>719996</th>\n      <td>2020-09-21</td>\n      <td>2</td>\n      <td>877509001</td>\n      <td>0.021508</td>\n      <td>0</td>\n      <td>104</td>\n      <td>248181446477491347</td>\n      <td>0</td>\n      <td>0.021169</td>\n      <td>19</td>\n      <td>31</td>\n      <td>45.0</td>\n      <td>5.0</td>\n    </tr>\n    <tr>\n      <th>719997</th>\n      <td>2020-09-22</td>\n      <td>1</td>\n      <td>567532030</td>\n      <td>0.021169</td>\n      <td>0</td>\n      <td>104</td>\n      <td>248181446477491347</td>\n      <td>0</td>\n      <td>0.021169</td>\n      <td>19</td>\n      <td>32</td>\n      <td>1.0</td>\n      <td>10.0</td>\n    </tr>\n    <tr>\n      <th>719998</th>\n      <td>2020-09-19</td>\n      <td>1</td>\n      <td>933411001</td>\n      <td>0.020864</td>\n      <td>0</td>\n      <td>104</td>\n      <td>248181446477491347</td>\n      <td>0</td>\n      <td>0.021169</td>\n      <td>19</td>\n      <td>32</td>\n      <td>41.0</td>\n      <td>10.0</td>\n    </tr>\n    <tr>\n      <th>719999</th>\n      <td>2020-09-18</td>\n      <td>2</td>\n      <td>893323001</td>\n      <td>0.020780</td>\n      <td>0</td>\n      <td>104</td>\n      <td>248181446477491347</td>\n      <td>0</td>\n      <td>0.021169</td>\n      <td>19</td>\n      <td>32</td>\n      <td>49.0</td>\n      <td>10.0</td>\n    </tr>\n  </tbody>\n</table>\n<p>720000 rows × 13 columns</p>\n</div>"
     },
     "execution_count": 74,
     "metadata": {},
     "output_type": "execute_result"
    }
   ],
   "source": [
    "top_candidates_3feat"
   ],
   "metadata": {
    "collapsed": false,
    "ExecuteTime": {
     "end_time": "2023-12-17T04:19:23.560156600Z",
     "start_time": "2023-12-17T04:19:23.553819500Z"
    }
   },
   "id": "fd989a746b4b6fa7"
  },
  {
   "cell_type": "code",
   "execution_count": 75,
   "outputs": [
    {
     "data": {
      "text/plain": "         t_dat  sales_channel_id  article_id     price  index_group_name  \\\n600 2020-07-20                 1   578317003  0.027102                 0   \n601 2020-07-18                 1   690803001  0.033881                 0   \n602 2020-07-17                 1   559626001  0.025424                 0   \n603 2020-07-21                 2   594834018  0.030492                 0   \n604 2020-07-15                 2   757333004  0.030492                 0   \n..         ...               ...         ...       ...               ...   \n715 2020-09-22                 1   646490020  0.030492                 0   \n716 2020-09-22                 1   859736001  0.030492                 0   \n717 2020-09-22                 1   824997001  0.030492                 0   \n718 2020-09-22                 2   947509001  0.030492                 0   \n719 2020-09-22                 2   939289001  0.030492                 0   \n\n     week      customer_id  highest_count_ign_per_c  mean_price_per_c  age  \\\n600    95  272412481300040                        0          0.030597   48   \n601    95  272412481300040                        0          0.030597   48   \n602    95  272412481300040                        0          0.030597   48   \n603    95  272412481300040                        0          0.030597   48   \n604    95  272412481300040                        0          0.030597   48   \n..    ...              ...                      ...               ...  ...   \n715   104  272412481300040                        0          0.030597   48   \n716   104  272412481300040                        0          0.030597   48   \n717   104  272412481300040                        0          0.030597   48   \n718   104  272412481300040                        0          0.030597   48   \n719   104  272412481300040                        0          0.030597   48   \n\n     mean_age_per_a  price_rank  age_rank  \n600              48        26.0       1.0  \n601              47        11.0       2.0  \n602              47        45.0       2.0  \n603              46         1.0       4.0  \n604              50         1.0       4.0  \n..              ...         ...       ...  \n715              38         4.0       7.0  \n716              37         4.0       9.0  \n717              37         4.0       9.0  \n718              37         4.0       9.0  \n719              37         4.0       9.0  \n\n[120 rows x 13 columns]",
      "text/html": "<div>\n<style scoped>\n    .dataframe tbody tr th:only-of-type {\n        vertical-align: middle;\n    }\n\n    .dataframe tbody tr th {\n        vertical-align: top;\n    }\n\n    .dataframe thead th {\n        text-align: right;\n    }\n</style>\n<table border=\"1\" class=\"dataframe\">\n  <thead>\n    <tr style=\"text-align: right;\">\n      <th></th>\n      <th>t_dat</th>\n      <th>sales_channel_id</th>\n      <th>article_id</th>\n      <th>price</th>\n      <th>index_group_name</th>\n      <th>week</th>\n      <th>customer_id</th>\n      <th>highest_count_ign_per_c</th>\n      <th>mean_price_per_c</th>\n      <th>age</th>\n      <th>mean_age_per_a</th>\n      <th>price_rank</th>\n      <th>age_rank</th>\n    </tr>\n  </thead>\n  <tbody>\n    <tr>\n      <th>600</th>\n      <td>2020-07-20</td>\n      <td>1</td>\n      <td>578317003</td>\n      <td>0.027102</td>\n      <td>0</td>\n      <td>95</td>\n      <td>272412481300040</td>\n      <td>0</td>\n      <td>0.030597</td>\n      <td>48</td>\n      <td>48</td>\n      <td>26.0</td>\n      <td>1.0</td>\n    </tr>\n    <tr>\n      <th>601</th>\n      <td>2020-07-18</td>\n      <td>1</td>\n      <td>690803001</td>\n      <td>0.033881</td>\n      <td>0</td>\n      <td>95</td>\n      <td>272412481300040</td>\n      <td>0</td>\n      <td>0.030597</td>\n      <td>48</td>\n      <td>47</td>\n      <td>11.0</td>\n      <td>2.0</td>\n    </tr>\n    <tr>\n      <th>602</th>\n      <td>2020-07-17</td>\n      <td>1</td>\n      <td>559626001</td>\n      <td>0.025424</td>\n      <td>0</td>\n      <td>95</td>\n      <td>272412481300040</td>\n      <td>0</td>\n      <td>0.030597</td>\n      <td>48</td>\n      <td>47</td>\n      <td>45.0</td>\n      <td>2.0</td>\n    </tr>\n    <tr>\n      <th>603</th>\n      <td>2020-07-21</td>\n      <td>2</td>\n      <td>594834018</td>\n      <td>0.030492</td>\n      <td>0</td>\n      <td>95</td>\n      <td>272412481300040</td>\n      <td>0</td>\n      <td>0.030597</td>\n      <td>48</td>\n      <td>46</td>\n      <td>1.0</td>\n      <td>4.0</td>\n    </tr>\n    <tr>\n      <th>604</th>\n      <td>2020-07-15</td>\n      <td>2</td>\n      <td>757333004</td>\n      <td>0.030492</td>\n      <td>0</td>\n      <td>95</td>\n      <td>272412481300040</td>\n      <td>0</td>\n      <td>0.030597</td>\n      <td>48</td>\n      <td>50</td>\n      <td>1.0</td>\n      <td>4.0</td>\n    </tr>\n    <tr>\n      <th>...</th>\n      <td>...</td>\n      <td>...</td>\n      <td>...</td>\n      <td>...</td>\n      <td>...</td>\n      <td>...</td>\n      <td>...</td>\n      <td>...</td>\n      <td>...</td>\n      <td>...</td>\n      <td>...</td>\n      <td>...</td>\n      <td>...</td>\n    </tr>\n    <tr>\n      <th>715</th>\n      <td>2020-09-22</td>\n      <td>1</td>\n      <td>646490020</td>\n      <td>0.030492</td>\n      <td>0</td>\n      <td>104</td>\n      <td>272412481300040</td>\n      <td>0</td>\n      <td>0.030597</td>\n      <td>48</td>\n      <td>38</td>\n      <td>4.0</td>\n      <td>7.0</td>\n    </tr>\n    <tr>\n      <th>716</th>\n      <td>2020-09-22</td>\n      <td>1</td>\n      <td>859736001</td>\n      <td>0.030492</td>\n      <td>0</td>\n      <td>104</td>\n      <td>272412481300040</td>\n      <td>0</td>\n      <td>0.030597</td>\n      <td>48</td>\n      <td>37</td>\n      <td>4.0</td>\n      <td>9.0</td>\n    </tr>\n    <tr>\n      <th>717</th>\n      <td>2020-09-22</td>\n      <td>1</td>\n      <td>824997001</td>\n      <td>0.030492</td>\n      <td>0</td>\n      <td>104</td>\n      <td>272412481300040</td>\n      <td>0</td>\n      <td>0.030597</td>\n      <td>48</td>\n      <td>37</td>\n      <td>4.0</td>\n      <td>9.0</td>\n    </tr>\n    <tr>\n      <th>718</th>\n      <td>2020-09-22</td>\n      <td>2</td>\n      <td>947509001</td>\n      <td>0.030492</td>\n      <td>0</td>\n      <td>104</td>\n      <td>272412481300040</td>\n      <td>0</td>\n      <td>0.030597</td>\n      <td>48</td>\n      <td>37</td>\n      <td>4.0</td>\n      <td>9.0</td>\n    </tr>\n    <tr>\n      <th>719</th>\n      <td>2020-09-22</td>\n      <td>2</td>\n      <td>939289001</td>\n      <td>0.030492</td>\n      <td>0</td>\n      <td>104</td>\n      <td>272412481300040</td>\n      <td>0</td>\n      <td>0.030597</td>\n      <td>48</td>\n      <td>37</td>\n      <td>4.0</td>\n      <td>9.0</td>\n    </tr>\n  </tbody>\n</table>\n<p>120 rows × 13 columns</p>\n</div>"
     },
     "execution_count": 75,
     "metadata": {},
     "output_type": "execute_result"
    }
   ],
   "source": [
    "top_candidates_3feat[top_candidates_3feat['customer_id'] == 272412481300040]"
   ],
   "metadata": {
    "collapsed": false,
    "ExecuteTime": {
     "end_time": "2023-12-17T04:19:23.583920800Z",
     "start_time": "2023-12-17T04:19:23.560156600Z"
    }
   },
   "id": "c1d114e579f71e1d"
  },
  {
   "cell_type": "code",
   "execution_count": 76,
   "outputs": [],
   "source": [
    "top_candidates_3feat_prev_week = top_candidates_3feat.copy()\n",
    "del top_candidates_3feat\n",
    "top_candidates_3feat_prev_week.week += 1"
   ],
   "metadata": {
    "collapsed": false,
    "ExecuteTime": {
     "end_time": "2023-12-17T04:19:23.627559300Z",
     "start_time": "2023-12-17T04:19:23.574970600Z"
    }
   },
   "id": "ca8195cb9a6c73f5"
  },
  {
   "cell_type": "code",
   "execution_count": 77,
   "outputs": [
    {
     "data": {
      "text/plain": "            t_dat  sales_channel_id  article_id     price  index_group_name  \\\n0      2020-07-16                 1   754852002  0.050831                 0   \n1      2020-07-21                 1   747764002  0.047441                 0   \n2      2020-07-16                 1   685944002  0.042356                 0   \n3      2020-07-19                 1   746344001  0.033881                 0   \n4      2020-07-15                 1   796042001  0.033881                 0   \n...           ...               ...         ...       ...               ...   \n719995 2020-09-21                 2   844109002  0.021000                 0   \n719996 2020-09-21                 2   877509001  0.021508                 0   \n719997 2020-09-22                 1   567532030  0.021169                 0   \n719998 2020-09-19                 1   933411001  0.020864                 0   \n719999 2020-09-18                 2   893323001  0.020780                 0   \n\n        week         customer_id  highest_count_ign_per_c  mean_price_per_c  \\\n0         96      28847241659200                        0          0.046085   \n1         96      28847241659200                        0          0.046085   \n2         96      28847241659200                        0          0.046085   \n3         96      28847241659200                        0          0.046085   \n4         96      28847241659200                        0          0.046085   \n...      ...                 ...                      ...               ...   \n719995   105  248181446477491347                        0          0.021169   \n719996   105  248181446477491347                        0          0.021169   \n719997   105  248181446477491347                        0          0.021169   \n719998   105  248181446477491347                        0          0.021169   \n719999   105  248181446477491347                        0          0.021169   \n\n        age  mean_age_per_a  price_rank  age_rank  \n0        21              21        21.0       1.0  \n1        21              22         2.0       2.0  \n2        21              20         7.0       2.0  \n3        21              20        36.0       2.0  \n4        21              22        36.0       2.0  \n...     ...             ...         ...       ...  \n719995   19              31        31.0       5.0  \n719996   19              31        45.0       5.0  \n719997   19              32         1.0      10.0  \n719998   19              32        41.0      10.0  \n719999   19              32        49.0      10.0  \n\n[720000 rows x 13 columns]",
      "text/html": "<div>\n<style scoped>\n    .dataframe tbody tr th:only-of-type {\n        vertical-align: middle;\n    }\n\n    .dataframe tbody tr th {\n        vertical-align: top;\n    }\n\n    .dataframe thead th {\n        text-align: right;\n    }\n</style>\n<table border=\"1\" class=\"dataframe\">\n  <thead>\n    <tr style=\"text-align: right;\">\n      <th></th>\n      <th>t_dat</th>\n      <th>sales_channel_id</th>\n      <th>article_id</th>\n      <th>price</th>\n      <th>index_group_name</th>\n      <th>week</th>\n      <th>customer_id</th>\n      <th>highest_count_ign_per_c</th>\n      <th>mean_price_per_c</th>\n      <th>age</th>\n      <th>mean_age_per_a</th>\n      <th>price_rank</th>\n      <th>age_rank</th>\n    </tr>\n  </thead>\n  <tbody>\n    <tr>\n      <th>0</th>\n      <td>2020-07-16</td>\n      <td>1</td>\n      <td>754852002</td>\n      <td>0.050831</td>\n      <td>0</td>\n      <td>96</td>\n      <td>28847241659200</td>\n      <td>0</td>\n      <td>0.046085</td>\n      <td>21</td>\n      <td>21</td>\n      <td>21.0</td>\n      <td>1.0</td>\n    </tr>\n    <tr>\n      <th>1</th>\n      <td>2020-07-21</td>\n      <td>1</td>\n      <td>747764002</td>\n      <td>0.047441</td>\n      <td>0</td>\n      <td>96</td>\n      <td>28847241659200</td>\n      <td>0</td>\n      <td>0.046085</td>\n      <td>21</td>\n      <td>22</td>\n      <td>2.0</td>\n      <td>2.0</td>\n    </tr>\n    <tr>\n      <th>2</th>\n      <td>2020-07-16</td>\n      <td>1</td>\n      <td>685944002</td>\n      <td>0.042356</td>\n      <td>0</td>\n      <td>96</td>\n      <td>28847241659200</td>\n      <td>0</td>\n      <td>0.046085</td>\n      <td>21</td>\n      <td>20</td>\n      <td>7.0</td>\n      <td>2.0</td>\n    </tr>\n    <tr>\n      <th>3</th>\n      <td>2020-07-19</td>\n      <td>1</td>\n      <td>746344001</td>\n      <td>0.033881</td>\n      <td>0</td>\n      <td>96</td>\n      <td>28847241659200</td>\n      <td>0</td>\n      <td>0.046085</td>\n      <td>21</td>\n      <td>20</td>\n      <td>36.0</td>\n      <td>2.0</td>\n    </tr>\n    <tr>\n      <th>4</th>\n      <td>2020-07-15</td>\n      <td>1</td>\n      <td>796042001</td>\n      <td>0.033881</td>\n      <td>0</td>\n      <td>96</td>\n      <td>28847241659200</td>\n      <td>0</td>\n      <td>0.046085</td>\n      <td>21</td>\n      <td>22</td>\n      <td>36.0</td>\n      <td>2.0</td>\n    </tr>\n    <tr>\n      <th>...</th>\n      <td>...</td>\n      <td>...</td>\n      <td>...</td>\n      <td>...</td>\n      <td>...</td>\n      <td>...</td>\n      <td>...</td>\n      <td>...</td>\n      <td>...</td>\n      <td>...</td>\n      <td>...</td>\n      <td>...</td>\n      <td>...</td>\n    </tr>\n    <tr>\n      <th>719995</th>\n      <td>2020-09-21</td>\n      <td>2</td>\n      <td>844109002</td>\n      <td>0.021000</td>\n      <td>0</td>\n      <td>105</td>\n      <td>248181446477491347</td>\n      <td>0</td>\n      <td>0.021169</td>\n      <td>19</td>\n      <td>31</td>\n      <td>31.0</td>\n      <td>5.0</td>\n    </tr>\n    <tr>\n      <th>719996</th>\n      <td>2020-09-21</td>\n      <td>2</td>\n      <td>877509001</td>\n      <td>0.021508</td>\n      <td>0</td>\n      <td>105</td>\n      <td>248181446477491347</td>\n      <td>0</td>\n      <td>0.021169</td>\n      <td>19</td>\n      <td>31</td>\n      <td>45.0</td>\n      <td>5.0</td>\n    </tr>\n    <tr>\n      <th>719997</th>\n      <td>2020-09-22</td>\n      <td>1</td>\n      <td>567532030</td>\n      <td>0.021169</td>\n      <td>0</td>\n      <td>105</td>\n      <td>248181446477491347</td>\n      <td>0</td>\n      <td>0.021169</td>\n      <td>19</td>\n      <td>32</td>\n      <td>1.0</td>\n      <td>10.0</td>\n    </tr>\n    <tr>\n      <th>719998</th>\n      <td>2020-09-19</td>\n      <td>1</td>\n      <td>933411001</td>\n      <td>0.020864</td>\n      <td>0</td>\n      <td>105</td>\n      <td>248181446477491347</td>\n      <td>0</td>\n      <td>0.021169</td>\n      <td>19</td>\n      <td>32</td>\n      <td>41.0</td>\n      <td>10.0</td>\n    </tr>\n    <tr>\n      <th>719999</th>\n      <td>2020-09-18</td>\n      <td>2</td>\n      <td>893323001</td>\n      <td>0.020780</td>\n      <td>0</td>\n      <td>105</td>\n      <td>248181446477491347</td>\n      <td>0</td>\n      <td>0.021169</td>\n      <td>19</td>\n      <td>32</td>\n      <td>49.0</td>\n      <td>10.0</td>\n    </tr>\n  </tbody>\n</table>\n<p>720000 rows × 13 columns</p>\n</div>"
     },
     "execution_count": 77,
     "metadata": {},
     "output_type": "execute_result"
    }
   ],
   "source": [
    "top_candidates_3feat_prev_week"
   ],
   "metadata": {
    "collapsed": false,
    "ExecuteTime": {
     "end_time": "2023-12-17T04:19:23.649443100Z",
     "start_time": "2023-12-17T04:19:23.591940200Z"
    }
   },
   "id": "d79b38b8165c69cf"
  },
  {
   "cell_type": "code",
   "execution_count": 78,
   "outputs": [],
   "source": [
    "unique_transactions_ = transactions.groupby(['week', 'customer_id']).head(1).drop(columns=['article_id', 'price']).copy()\n",
    "candidates_ = top_candidates_3feat_prev_week.copy()\n",
    "# test_set_transactions_ = unique_transactions_.drop_duplicates('customer_id').reset_index(drop=True)\n",
    "# test_set_transactions_.week = test_week"
   ],
   "metadata": {
    "collapsed": false,
    "ExecuteTime": {
     "end_time": "2023-12-17T04:19:23.931446700Z",
     "start_time": "2023-12-17T04:19:23.598176300Z"
    }
   },
   "id": "7b4dda00b8fd4140"
  },
  {
   "cell_type": "code",
   "execution_count": 79,
   "outputs": [],
   "source": [
    "# candidates__test_week = pd.merge(test_set_transactions_, top_candidates_3feat_prev_week, on='week')\n",
    "# candidates_ = pd.concat([candidates_, candidates__test_week])\n",
    "candidates_.drop(columns=['price_rank', 'age_rank', 'highest_count_ign_per_c', 'mean_price_per_c', 'index_group_name', 'mean_age_per_a', 'age'], inplace=True)"
   ],
   "metadata": {
    "collapsed": false,
    "ExecuteTime": {
     "end_time": "2023-12-17T04:19:23.941759100Z",
     "start_time": "2023-12-17T04:19:23.931943700Z"
    }
   },
   "id": "1226b647237010f5"
  },
  {
   "cell_type": "code",
   "execution_count": 80,
   "outputs": [
    {
     "data": {
      "text/plain": "            t_dat  sales_channel_id  article_id     price  week  \\\n0      2020-07-16                 1   754852002  0.050831    96   \n1      2020-07-21                 1   747764002  0.047441    96   \n2      2020-07-16                 1   685944002  0.042356    96   \n3      2020-07-19                 1   746344001  0.033881    96   \n4      2020-07-15                 1   796042001  0.033881    96   \n...           ...               ...         ...       ...   ...   \n719995 2020-09-21                 2   844109002  0.021000   105   \n719996 2020-09-21                 2   877509001  0.021508   105   \n719997 2020-09-22                 1   567532030  0.021169   105   \n719998 2020-09-19                 1   933411001  0.020864   105   \n719999 2020-09-18                 2   893323001  0.020780   105   \n\n               customer_id  \n0           28847241659200  \n1           28847241659200  \n2           28847241659200  \n3           28847241659200  \n4           28847241659200  \n...                    ...  \n719995  248181446477491347  \n719996  248181446477491347  \n719997  248181446477491347  \n719998  248181446477491347  \n719999  248181446477491347  \n\n[720000 rows x 6 columns]",
      "text/html": "<div>\n<style scoped>\n    .dataframe tbody tr th:only-of-type {\n        vertical-align: middle;\n    }\n\n    .dataframe tbody tr th {\n        vertical-align: top;\n    }\n\n    .dataframe thead th {\n        text-align: right;\n    }\n</style>\n<table border=\"1\" class=\"dataframe\">\n  <thead>\n    <tr style=\"text-align: right;\">\n      <th></th>\n      <th>t_dat</th>\n      <th>sales_channel_id</th>\n      <th>article_id</th>\n      <th>price</th>\n      <th>week</th>\n      <th>customer_id</th>\n    </tr>\n  </thead>\n  <tbody>\n    <tr>\n      <th>0</th>\n      <td>2020-07-16</td>\n      <td>1</td>\n      <td>754852002</td>\n      <td>0.050831</td>\n      <td>96</td>\n      <td>28847241659200</td>\n    </tr>\n    <tr>\n      <th>1</th>\n      <td>2020-07-21</td>\n      <td>1</td>\n      <td>747764002</td>\n      <td>0.047441</td>\n      <td>96</td>\n      <td>28847241659200</td>\n    </tr>\n    <tr>\n      <th>2</th>\n      <td>2020-07-16</td>\n      <td>1</td>\n      <td>685944002</td>\n      <td>0.042356</td>\n      <td>96</td>\n      <td>28847241659200</td>\n    </tr>\n    <tr>\n      <th>3</th>\n      <td>2020-07-19</td>\n      <td>1</td>\n      <td>746344001</td>\n      <td>0.033881</td>\n      <td>96</td>\n      <td>28847241659200</td>\n    </tr>\n    <tr>\n      <th>4</th>\n      <td>2020-07-15</td>\n      <td>1</td>\n      <td>796042001</td>\n      <td>0.033881</td>\n      <td>96</td>\n      <td>28847241659200</td>\n    </tr>\n    <tr>\n      <th>...</th>\n      <td>...</td>\n      <td>...</td>\n      <td>...</td>\n      <td>...</td>\n      <td>...</td>\n      <td>...</td>\n    </tr>\n    <tr>\n      <th>719995</th>\n      <td>2020-09-21</td>\n      <td>2</td>\n      <td>844109002</td>\n      <td>0.021000</td>\n      <td>105</td>\n      <td>248181446477491347</td>\n    </tr>\n    <tr>\n      <th>719996</th>\n      <td>2020-09-21</td>\n      <td>2</td>\n      <td>877509001</td>\n      <td>0.021508</td>\n      <td>105</td>\n      <td>248181446477491347</td>\n    </tr>\n    <tr>\n      <th>719997</th>\n      <td>2020-09-22</td>\n      <td>1</td>\n      <td>567532030</td>\n      <td>0.021169</td>\n      <td>105</td>\n      <td>248181446477491347</td>\n    </tr>\n    <tr>\n      <th>719998</th>\n      <td>2020-09-19</td>\n      <td>1</td>\n      <td>933411001</td>\n      <td>0.020864</td>\n      <td>105</td>\n      <td>248181446477491347</td>\n    </tr>\n    <tr>\n      <th>719999</th>\n      <td>2020-09-18</td>\n      <td>2</td>\n      <td>893323001</td>\n      <td>0.020780</td>\n      <td>105</td>\n      <td>248181446477491347</td>\n    </tr>\n  </tbody>\n</table>\n<p>720000 rows × 6 columns</p>\n</div>"
     },
     "execution_count": 80,
     "metadata": {},
     "output_type": "execute_result"
    }
   ],
   "source": [
    "candidates_"
   ],
   "metadata": {
    "collapsed": false,
    "ExecuteTime": {
     "end_time": "2023-12-17T04:19:23.948066900Z",
     "start_time": "2023-12-17T04:19:23.942752400Z"
    }
   },
   "id": "ae86eaceca41f18f"
  },
  {
   "cell_type": "code",
   "execution_count": 81,
   "outputs": [],
   "source": [
    "transactions['purchased'] = 1\n",
    "data = pd.concat([transactions, candidates_last_purchase, candidates_])\n",
    "data.purchased.fillna(0, inplace=True)\n",
    "data.drop_duplicates(['customer_id', 'article_id', 'week'], inplace=True)"
   ],
   "metadata": {
    "collapsed": false,
    "ExecuteTime": {
     "end_time": "2023-12-17T04:19:25.086079800Z",
     "start_time": "2023-12-17T04:19:23.947073700Z"
    }
   },
   "id": "ad5570d733ab83e0"
  },
  {
   "cell_type": "code",
   "execution_count": 82,
   "outputs": [
    {
     "data": {
      "text/plain": "              t_dat         customer_id  article_id     price  \\\n29030503 2020-07-15     272412481300040   778064028  0.008458   \n29030504 2020-07-15     272412481300040   816592008  0.016932   \n29030505 2020-07-15     272412481300040   621381021  0.033881   \n29030506 2020-07-15     272412481300040   817477003  0.025407   \n29030507 2020-07-15     272412481300040   899088002  0.025407   \n...             ...                 ...         ...       ...   \n719995   2020-09-21  248181446477491347   844109002  0.021000   \n719996   2020-09-21  248181446477491347   877509001  0.021508   \n719997   2020-09-22  248181446477491347   567532030  0.021169   \n719998   2020-09-19  248181446477491347   933411001  0.020864   \n719999   2020-09-18  248181446477491347   893323001  0.020780   \n\n          sales_channel_id  week  purchased  \n29030503                 1    95        1.0  \n29030504                 1    95        1.0  \n29030505                 1    95        1.0  \n29030506                 1    95        1.0  \n29030507                 1    95        1.0  \n...                    ...   ...        ...  \n719995                   2   105        0.0  \n719996                   2   105        0.0  \n719997                   1   105        0.0  \n719998                   1   105        0.0  \n719999                   2   105        0.0  \n\n[5649514 rows x 7 columns]",
      "text/html": "<div>\n<style scoped>\n    .dataframe tbody tr th:only-of-type {\n        vertical-align: middle;\n    }\n\n    .dataframe tbody tr th {\n        vertical-align: top;\n    }\n\n    .dataframe thead th {\n        text-align: right;\n    }\n</style>\n<table border=\"1\" class=\"dataframe\">\n  <thead>\n    <tr style=\"text-align: right;\">\n      <th></th>\n      <th>t_dat</th>\n      <th>customer_id</th>\n      <th>article_id</th>\n      <th>price</th>\n      <th>sales_channel_id</th>\n      <th>week</th>\n      <th>purchased</th>\n    </tr>\n  </thead>\n  <tbody>\n    <tr>\n      <th>29030503</th>\n      <td>2020-07-15</td>\n      <td>272412481300040</td>\n      <td>778064028</td>\n      <td>0.008458</td>\n      <td>1</td>\n      <td>95</td>\n      <td>1.0</td>\n    </tr>\n    <tr>\n      <th>29030504</th>\n      <td>2020-07-15</td>\n      <td>272412481300040</td>\n      <td>816592008</td>\n      <td>0.016932</td>\n      <td>1</td>\n      <td>95</td>\n      <td>1.0</td>\n    </tr>\n    <tr>\n      <th>29030505</th>\n      <td>2020-07-15</td>\n      <td>272412481300040</td>\n      <td>621381021</td>\n      <td>0.033881</td>\n      <td>1</td>\n      <td>95</td>\n      <td>1.0</td>\n    </tr>\n    <tr>\n      <th>29030506</th>\n      <td>2020-07-15</td>\n      <td>272412481300040</td>\n      <td>817477003</td>\n      <td>0.025407</td>\n      <td>1</td>\n      <td>95</td>\n      <td>1.0</td>\n    </tr>\n    <tr>\n      <th>29030507</th>\n      <td>2020-07-15</td>\n      <td>272412481300040</td>\n      <td>899088002</td>\n      <td>0.025407</td>\n      <td>1</td>\n      <td>95</td>\n      <td>1.0</td>\n    </tr>\n    <tr>\n      <th>...</th>\n      <td>...</td>\n      <td>...</td>\n      <td>...</td>\n      <td>...</td>\n      <td>...</td>\n      <td>...</td>\n      <td>...</td>\n    </tr>\n    <tr>\n      <th>719995</th>\n      <td>2020-09-21</td>\n      <td>248181446477491347</td>\n      <td>844109002</td>\n      <td>0.021000</td>\n      <td>2</td>\n      <td>105</td>\n      <td>0.0</td>\n    </tr>\n    <tr>\n      <th>719996</th>\n      <td>2020-09-21</td>\n      <td>248181446477491347</td>\n      <td>877509001</td>\n      <td>0.021508</td>\n      <td>2</td>\n      <td>105</td>\n      <td>0.0</td>\n    </tr>\n    <tr>\n      <th>719997</th>\n      <td>2020-09-22</td>\n      <td>248181446477491347</td>\n      <td>567532030</td>\n      <td>0.021169</td>\n      <td>1</td>\n      <td>105</td>\n      <td>0.0</td>\n    </tr>\n    <tr>\n      <th>719998</th>\n      <td>2020-09-19</td>\n      <td>248181446477491347</td>\n      <td>933411001</td>\n      <td>0.020864</td>\n      <td>1</td>\n      <td>105</td>\n      <td>0.0</td>\n    </tr>\n    <tr>\n      <th>719999</th>\n      <td>2020-09-18</td>\n      <td>248181446477491347</td>\n      <td>893323001</td>\n      <td>0.020780</td>\n      <td>2</td>\n      <td>105</td>\n      <td>0.0</td>\n    </tr>\n  </tbody>\n</table>\n<p>5649514 rows × 7 columns</p>\n</div>"
     },
     "execution_count": 82,
     "metadata": {},
     "output_type": "execute_result"
    }
   ],
   "source": [
    "data"
   ],
   "metadata": {
    "collapsed": false,
    "ExecuteTime": {
     "end_time": "2023-12-17T04:19:25.092652600Z",
     "start_time": "2023-12-17T04:19:25.086576500Z"
    }
   },
   "id": "26beba46d2608ff9"
  },
  {
   "cell_type": "code",
   "execution_count": 83,
   "outputs": [],
   "source": [
    "data = pd.merge(\n",
    "    data,\n",
    "    top_candidates_3feat_prev_week[['week', 'article_id', 'price_rank', 'age_rank']],\n",
    "    on=['week', 'article_id'],\n",
    "    how='left'\n",
    ")\n",
    "data = data[data.week != data.week.min()]\n",
    "data.price_rank.fillna(999, inplace=True)\n",
    "data.age_rank.fillna(999, inplace=True)"
   ],
   "metadata": {
    "collapsed": false,
    "ExecuteTime": {
     "end_time": "2023-12-17T04:19:35.447109600Z",
     "start_time": "2023-12-17T04:19:25.092155900Z"
    }
   },
   "id": "201447ea1164722c"
  },
  {
   "cell_type": "code",
   "execution_count": 84,
   "outputs": [
    {
     "data": {
      "text/plain": "               t_dat         customer_id  article_id     price  \\\n261987    2020-07-22     200292573348128   880777001  0.025407   \n261988    2020-07-22     200292573348128   784332002  0.025407   \n261989    2020-07-22     200292573348128   827968001  0.016932   \n261990    2020-07-22     200292573348128   599580086  0.011847   \n261991    2020-07-22     248294615847351   720504008  0.031458   \n...              ...                 ...         ...       ...   \n106053710 2020-09-18  248181446477491347   893323001  0.020780   \n106053711 2020-09-18  248181446477491347   893323001  0.020780   \n106053712 2020-09-18  248181446477491347   893323001  0.020780   \n106053713 2020-09-18  248181446477491347   893323001  0.020780   \n106053714 2020-09-18  248181446477491347   893323001  0.020780   \n\n           sales_channel_id  week  purchased  price_rank  age_rank  \n261987                    2    96        1.0       999.0     999.0  \n261988                    2    96        1.0       999.0     999.0  \n261989                    2    96        1.0       999.0     999.0  \n261990                    2    96        1.0       999.0     999.0  \n261991                    1    96        1.0       999.0     999.0  \n...                     ...   ...        ...         ...       ...  \n106053710                 2   105        0.0        49.0       9.0  \n106053711                 2   105        0.0        49.0      10.0  \n106053712                 2   105        0.0        49.0      10.0  \n106053713                 2   105        0.0        40.0       9.0  \n106053714                 2   105        0.0        49.0      10.0  \n\n[105791728 rows x 9 columns]",
      "text/html": "<div>\n<style scoped>\n    .dataframe tbody tr th:only-of-type {\n        vertical-align: middle;\n    }\n\n    .dataframe tbody tr th {\n        vertical-align: top;\n    }\n\n    .dataframe thead th {\n        text-align: right;\n    }\n</style>\n<table border=\"1\" class=\"dataframe\">\n  <thead>\n    <tr style=\"text-align: right;\">\n      <th></th>\n      <th>t_dat</th>\n      <th>customer_id</th>\n      <th>article_id</th>\n      <th>price</th>\n      <th>sales_channel_id</th>\n      <th>week</th>\n      <th>purchased</th>\n      <th>price_rank</th>\n      <th>age_rank</th>\n    </tr>\n  </thead>\n  <tbody>\n    <tr>\n      <th>261987</th>\n      <td>2020-07-22</td>\n      <td>200292573348128</td>\n      <td>880777001</td>\n      <td>0.025407</td>\n      <td>2</td>\n      <td>96</td>\n      <td>1.0</td>\n      <td>999.0</td>\n      <td>999.0</td>\n    </tr>\n    <tr>\n      <th>261988</th>\n      <td>2020-07-22</td>\n      <td>200292573348128</td>\n      <td>784332002</td>\n      <td>0.025407</td>\n      <td>2</td>\n      <td>96</td>\n      <td>1.0</td>\n      <td>999.0</td>\n      <td>999.0</td>\n    </tr>\n    <tr>\n      <th>261989</th>\n      <td>2020-07-22</td>\n      <td>200292573348128</td>\n      <td>827968001</td>\n      <td>0.016932</td>\n      <td>2</td>\n      <td>96</td>\n      <td>1.0</td>\n      <td>999.0</td>\n      <td>999.0</td>\n    </tr>\n    <tr>\n      <th>261990</th>\n      <td>2020-07-22</td>\n      <td>200292573348128</td>\n      <td>599580086</td>\n      <td>0.011847</td>\n      <td>2</td>\n      <td>96</td>\n      <td>1.0</td>\n      <td>999.0</td>\n      <td>999.0</td>\n    </tr>\n    <tr>\n      <th>261991</th>\n      <td>2020-07-22</td>\n      <td>248294615847351</td>\n      <td>720504008</td>\n      <td>0.031458</td>\n      <td>1</td>\n      <td>96</td>\n      <td>1.0</td>\n      <td>999.0</td>\n      <td>999.0</td>\n    </tr>\n    <tr>\n      <th>...</th>\n      <td>...</td>\n      <td>...</td>\n      <td>...</td>\n      <td>...</td>\n      <td>...</td>\n      <td>...</td>\n      <td>...</td>\n      <td>...</td>\n      <td>...</td>\n    </tr>\n    <tr>\n      <th>106053710</th>\n      <td>2020-09-18</td>\n      <td>248181446477491347</td>\n      <td>893323001</td>\n      <td>0.020780</td>\n      <td>2</td>\n      <td>105</td>\n      <td>0.0</td>\n      <td>49.0</td>\n      <td>9.0</td>\n    </tr>\n    <tr>\n      <th>106053711</th>\n      <td>2020-09-18</td>\n      <td>248181446477491347</td>\n      <td>893323001</td>\n      <td>0.020780</td>\n      <td>2</td>\n      <td>105</td>\n      <td>0.0</td>\n      <td>49.0</td>\n      <td>10.0</td>\n    </tr>\n    <tr>\n      <th>106053712</th>\n      <td>2020-09-18</td>\n      <td>248181446477491347</td>\n      <td>893323001</td>\n      <td>0.020780</td>\n      <td>2</td>\n      <td>105</td>\n      <td>0.0</td>\n      <td>49.0</td>\n      <td>10.0</td>\n    </tr>\n    <tr>\n      <th>106053713</th>\n      <td>2020-09-18</td>\n      <td>248181446477491347</td>\n      <td>893323001</td>\n      <td>0.020780</td>\n      <td>2</td>\n      <td>105</td>\n      <td>0.0</td>\n      <td>40.0</td>\n      <td>9.0</td>\n    </tr>\n    <tr>\n      <th>106053714</th>\n      <td>2020-09-18</td>\n      <td>248181446477491347</td>\n      <td>893323001</td>\n      <td>0.020780</td>\n      <td>2</td>\n      <td>105</td>\n      <td>0.0</td>\n      <td>49.0</td>\n      <td>10.0</td>\n    </tr>\n  </tbody>\n</table>\n<p>105791728 rows × 9 columns</p>\n</div>"
     },
     "execution_count": 84,
     "metadata": {},
     "output_type": "execute_result"
    }
   ],
   "source": [
    "data"
   ],
   "metadata": {
    "collapsed": false,
    "ExecuteTime": {
     "end_time": "2023-12-17T04:19:35.454116900Z",
     "start_time": "2023-12-17T04:19:35.447606400Z"
    }
   },
   "id": "3fd077988fe1c49b"
  },
  {
   "cell_type": "code",
   "execution_count": 85,
   "outputs": [],
   "source": [
    "data = pd.merge(data, articles, on='article_id', how='left')\n",
    "data = pd.merge(data, customers, on='customer_id', how='left')\n",
    "data.sort_values(['week', 'customer_id'], inplace=True)\n",
    "data.reset_index(drop=True, inplace=True)"
   ],
   "metadata": {
    "collapsed": false,
    "ExecuteTime": {
     "end_time": "2023-12-17T04:20:20.054433100Z",
     "start_time": "2023-12-17T04:19:35.453115400Z"
    }
   },
   "id": "26b5cc1efa00cc6c"
  },
  {
   "cell_type": "code",
   "execution_count": 86,
   "outputs": [],
   "source": [
    "train = data[data.week != test_week]\n",
    "test = data[data.week==test_week].drop_duplicates(['customer_id', 'article_id', 'sales_channel_id']).copy()"
   ],
   "metadata": {
    "collapsed": false,
    "ExecuteTime": {
     "end_time": "2023-12-17T04:20:28.002697600Z",
     "start_time": "2023-12-17T04:20:20.056593800Z"
    }
   },
   "id": "1c546cdad958817e"
  },
  {
   "cell_type": "code",
   "execution_count": 87,
   "outputs": [
    {
     "data": {
      "text/plain": "              t_dat           customer_id  article_id     price  \\\n0        2020-07-26        28847241659200   887770001  0.016932   \n1        2020-07-18        28847241659200   762846001  0.025407   \n2        2020-07-18        28847241659200   829308001  0.033881   \n3        2020-07-16        28847241659200   754852002  0.050831   \n4        2020-07-16        28847241659200   754852002  0.050831   \n...             ...                   ...         ...       ...   \n92667253 2020-09-20  18445641720816255142   923037003  0.033881   \n92667254 2020-09-21  18446737527580148316   547780001  0.023712   \n92667255 2020-09-21  18446737527580148316   763988001  0.023712   \n92667256 2020-09-21  18446737527580148316   763988003  0.023712   \n92667257 2020-09-21  18446737527580148316   547780040  0.023712   \n\n          sales_channel_id  week  purchased  price_rank  age_rank  \\\n0                        1    96        1.0       999.0     999.0   \n1                        1    96        0.0       999.0     999.0   \n2                        1    96        0.0       999.0     999.0   \n3                        1    96        0.0        21.0       1.0   \n4                        1    96        0.0         5.0       1.0   \n...                    ...   ...        ...         ...       ...   \n92667253                 2   104        1.0       999.0     999.0   \n92667254                 2   104        1.0       999.0     999.0   \n92667255                 2   104        1.0       999.0     999.0   \n92667256                 2   104        1.0       999.0     999.0   \n92667257                 2   104        1.0       999.0     999.0   \n\n          product_code  ...  section_name  garment_group_no  \\\n0               887770  ...            10              1010   \n1               762846  ...             7              1010   \n2               829308  ...            21              1005   \n3               754852  ...            45              1001   \n4               754852  ...            45              1001   \n...                ...  ...           ...               ...   \n92667253        923037  ...            31              1017   \n92667254        547780  ...            27              1002   \n92667255        763988  ...            16              1002   \n92667256        763988  ...            16              1002   \n92667257        547780  ...            27              1002   \n\n          garment_group_name  detail_desc  FN  Active  club_member_status  \\\n0                          6         3692   1       1                   0   \n1                          6          492   1       1                   0   \n2                          0         9082   1       1                   0   \n3                         10        17015   1       1                   0   \n4                         10        17015   1       1                   0   \n...                      ...          ...  ..     ...                 ...   \n92667253                   4        10043   1       1                   0   \n92667254                   2          271   1       1                   0   \n92667255                   2         1107   1       1                   0   \n92667256                   2         1107   1       1                   0   \n92667257                   2          271   1       1                   0   \n\n          fashion_news_frequency  age  postal_code  \n0                              1   21        57896  \n1                              1   21        57896  \n2                              1   21        57896  \n3                              1   21        57896  \n4                              1   21        57896  \n...                          ...  ...          ...  \n92667253                       1   31       147613  \n92667254                       1   60        96323  \n92667255                       1   60        96323  \n92667256                       1   60        96323  \n92667257                       1   60        96323  \n\n[92667258 rows x 39 columns]",
      "text/html": "<div>\n<style scoped>\n    .dataframe tbody tr th:only-of-type {\n        vertical-align: middle;\n    }\n\n    .dataframe tbody tr th {\n        vertical-align: top;\n    }\n\n    .dataframe thead th {\n        text-align: right;\n    }\n</style>\n<table border=\"1\" class=\"dataframe\">\n  <thead>\n    <tr style=\"text-align: right;\">\n      <th></th>\n      <th>t_dat</th>\n      <th>customer_id</th>\n      <th>article_id</th>\n      <th>price</th>\n      <th>sales_channel_id</th>\n      <th>week</th>\n      <th>purchased</th>\n      <th>price_rank</th>\n      <th>age_rank</th>\n      <th>product_code</th>\n      <th>...</th>\n      <th>section_name</th>\n      <th>garment_group_no</th>\n      <th>garment_group_name</th>\n      <th>detail_desc</th>\n      <th>FN</th>\n      <th>Active</th>\n      <th>club_member_status</th>\n      <th>fashion_news_frequency</th>\n      <th>age</th>\n      <th>postal_code</th>\n    </tr>\n  </thead>\n  <tbody>\n    <tr>\n      <th>0</th>\n      <td>2020-07-26</td>\n      <td>28847241659200</td>\n      <td>887770001</td>\n      <td>0.016932</td>\n      <td>1</td>\n      <td>96</td>\n      <td>1.0</td>\n      <td>999.0</td>\n      <td>999.0</td>\n      <td>887770</td>\n      <td>...</td>\n      <td>10</td>\n      <td>1010</td>\n      <td>6</td>\n      <td>3692</td>\n      <td>1</td>\n      <td>1</td>\n      <td>0</td>\n      <td>1</td>\n      <td>21</td>\n      <td>57896</td>\n    </tr>\n    <tr>\n      <th>1</th>\n      <td>2020-07-18</td>\n      <td>28847241659200</td>\n      <td>762846001</td>\n      <td>0.025407</td>\n      <td>1</td>\n      <td>96</td>\n      <td>0.0</td>\n      <td>999.0</td>\n      <td>999.0</td>\n      <td>762846</td>\n      <td>...</td>\n      <td>7</td>\n      <td>1010</td>\n      <td>6</td>\n      <td>492</td>\n      <td>1</td>\n      <td>1</td>\n      <td>0</td>\n      <td>1</td>\n      <td>21</td>\n      <td>57896</td>\n    </tr>\n    <tr>\n      <th>2</th>\n      <td>2020-07-18</td>\n      <td>28847241659200</td>\n      <td>829308001</td>\n      <td>0.033881</td>\n      <td>1</td>\n      <td>96</td>\n      <td>0.0</td>\n      <td>999.0</td>\n      <td>999.0</td>\n      <td>829308</td>\n      <td>...</td>\n      <td>21</td>\n      <td>1005</td>\n      <td>0</td>\n      <td>9082</td>\n      <td>1</td>\n      <td>1</td>\n      <td>0</td>\n      <td>1</td>\n      <td>21</td>\n      <td>57896</td>\n    </tr>\n    <tr>\n      <th>3</th>\n      <td>2020-07-16</td>\n      <td>28847241659200</td>\n      <td>754852002</td>\n      <td>0.050831</td>\n      <td>1</td>\n      <td>96</td>\n      <td>0.0</td>\n      <td>21.0</td>\n      <td>1.0</td>\n      <td>754852</td>\n      <td>...</td>\n      <td>45</td>\n      <td>1001</td>\n      <td>10</td>\n      <td>17015</td>\n      <td>1</td>\n      <td>1</td>\n      <td>0</td>\n      <td>1</td>\n      <td>21</td>\n      <td>57896</td>\n    </tr>\n    <tr>\n      <th>4</th>\n      <td>2020-07-16</td>\n      <td>28847241659200</td>\n      <td>754852002</td>\n      <td>0.050831</td>\n      <td>1</td>\n      <td>96</td>\n      <td>0.0</td>\n      <td>5.0</td>\n      <td>1.0</td>\n      <td>754852</td>\n      <td>...</td>\n      <td>45</td>\n      <td>1001</td>\n      <td>10</td>\n      <td>17015</td>\n      <td>1</td>\n      <td>1</td>\n      <td>0</td>\n      <td>1</td>\n      <td>21</td>\n      <td>57896</td>\n    </tr>\n    <tr>\n      <th>...</th>\n      <td>...</td>\n      <td>...</td>\n      <td>...</td>\n      <td>...</td>\n      <td>...</td>\n      <td>...</td>\n      <td>...</td>\n      <td>...</td>\n      <td>...</td>\n      <td>...</td>\n      <td>...</td>\n      <td>...</td>\n      <td>...</td>\n      <td>...</td>\n      <td>...</td>\n      <td>...</td>\n      <td>...</td>\n      <td>...</td>\n      <td>...</td>\n      <td>...</td>\n      <td>...</td>\n    </tr>\n    <tr>\n      <th>92667253</th>\n      <td>2020-09-20</td>\n      <td>18445641720816255142</td>\n      <td>923037003</td>\n      <td>0.033881</td>\n      <td>2</td>\n      <td>104</td>\n      <td>1.0</td>\n      <td>999.0</td>\n      <td>999.0</td>\n      <td>923037</td>\n      <td>...</td>\n      <td>31</td>\n      <td>1017</td>\n      <td>4</td>\n      <td>10043</td>\n      <td>1</td>\n      <td>1</td>\n      <td>0</td>\n      <td>1</td>\n      <td>31</td>\n      <td>147613</td>\n    </tr>\n    <tr>\n      <th>92667254</th>\n      <td>2020-09-21</td>\n      <td>18446737527580148316</td>\n      <td>547780001</td>\n      <td>0.023712</td>\n      <td>2</td>\n      <td>104</td>\n      <td>1.0</td>\n      <td>999.0</td>\n      <td>999.0</td>\n      <td>547780</td>\n      <td>...</td>\n      <td>27</td>\n      <td>1002</td>\n      <td>2</td>\n      <td>271</td>\n      <td>1</td>\n      <td>1</td>\n      <td>0</td>\n      <td>1</td>\n      <td>60</td>\n      <td>96323</td>\n    </tr>\n    <tr>\n      <th>92667255</th>\n      <td>2020-09-21</td>\n      <td>18446737527580148316</td>\n      <td>763988001</td>\n      <td>0.023712</td>\n      <td>2</td>\n      <td>104</td>\n      <td>1.0</td>\n      <td>999.0</td>\n      <td>999.0</td>\n      <td>763988</td>\n      <td>...</td>\n      <td>16</td>\n      <td>1002</td>\n      <td>2</td>\n      <td>1107</td>\n      <td>1</td>\n      <td>1</td>\n      <td>0</td>\n      <td>1</td>\n      <td>60</td>\n      <td>96323</td>\n    </tr>\n    <tr>\n      <th>92667256</th>\n      <td>2020-09-21</td>\n      <td>18446737527580148316</td>\n      <td>763988003</td>\n      <td>0.023712</td>\n      <td>2</td>\n      <td>104</td>\n      <td>1.0</td>\n      <td>999.0</td>\n      <td>999.0</td>\n      <td>763988</td>\n      <td>...</td>\n      <td>16</td>\n      <td>1002</td>\n      <td>2</td>\n      <td>1107</td>\n      <td>1</td>\n      <td>1</td>\n      <td>0</td>\n      <td>1</td>\n      <td>60</td>\n      <td>96323</td>\n    </tr>\n    <tr>\n      <th>92667257</th>\n      <td>2020-09-21</td>\n      <td>18446737527580148316</td>\n      <td>547780040</td>\n      <td>0.023712</td>\n      <td>2</td>\n      <td>104</td>\n      <td>1.0</td>\n      <td>999.0</td>\n      <td>999.0</td>\n      <td>547780</td>\n      <td>...</td>\n      <td>27</td>\n      <td>1002</td>\n      <td>2</td>\n      <td>271</td>\n      <td>1</td>\n      <td>1</td>\n      <td>0</td>\n      <td>1</td>\n      <td>60</td>\n      <td>96323</td>\n    </tr>\n  </tbody>\n</table>\n<p>92667258 rows × 39 columns</p>\n</div>"
     },
     "execution_count": 87,
     "metadata": {},
     "output_type": "execute_result"
    }
   ],
   "source": [
    "train"
   ],
   "metadata": {
    "collapsed": false,
    "ExecuteTime": {
     "end_time": "2023-12-17T04:20:37.758155400Z",
     "start_time": "2023-12-17T04:20:28.002697600Z"
    }
   },
   "id": "ecdc005f3603d9e8"
  },
  {
   "cell_type": "code",
   "execution_count": 88,
   "outputs": [
    {
     "data": {
      "text/plain": "               t_dat           customer_id  article_id     price  \\\n92667258  2020-09-03        28847241659200   925246001  0.128797   \n92667259  2020-09-22        28847241659200   779068002  0.045746   \n92667279  2020-09-22        28847241659200   754323004  0.045746   \n92667304  2020-09-22        28847241659200   721481003  0.045746   \n92667329  2020-09-22        28847241659200   904225001  0.045746   \n...              ...                   ...         ...       ...   \n105791723 2020-09-06  18446705133201055310   875784002  0.050831   \n105791724 2020-09-21  18446737527580148316   547780001  0.023712   \n105791725 2020-09-21  18446737527580148316   763988001  0.023712   \n105791726 2020-09-21  18446737527580148316   763988003  0.023712   \n105791727 2020-09-21  18446737527580148316   547780040  0.023712   \n\n           sales_channel_id  week  purchased  price_rank  age_rank  \\\n92667258                  2   105        0.0       999.0     999.0   \n92667259                  2   105        0.0         7.0       1.0   \n92667279                  2   105        0.0         7.0       2.0   \n92667304                  2   105        0.0         7.0       3.0   \n92667329                  1   105        0.0         7.0       3.0   \n...                     ...   ...        ...         ...       ...   \n105791723                 2   105        0.0       999.0     999.0   \n105791724                 2   105        0.0       999.0     999.0   \n105791725                 2   105        0.0        19.0       1.0   \n105791726                 2   105        0.0       999.0     999.0   \n105791727                 2   105        0.0       999.0     999.0   \n\n           product_code  ...  section_name  garment_group_no  \\\n92667258         925246  ...            40              1007   \n92667259         779068  ...            10              1003   \n92667279         754323  ...             0              1003   \n92667304         721481  ...             0              1010   \n92667329         904225  ...            20              1020   \n...                 ...  ...           ...               ...   \n105791723        875784  ...            15              1003   \n105791724        547780  ...            27              1002   \n105791725        763988  ...            16              1002   \n105791726        763988  ...            16              1002   \n105791727        547780  ...            27              1002   \n\n           garment_group_name  detail_desc  FN  Active  club_member_status  \\\n92667258                    9        27855   1       1                   0   \n92667259                    3        15430   1       1                   0   \n92667279                    3         4874   1       1                   0   \n92667304                    6        11900   1       1                   0   \n92667329                    7        26543   1       1                   0   \n...                       ...          ...  ..     ...                 ...   \n105791723                   3        11763   1       1                   0   \n105791724                   2          271   1       1                   0   \n105791725                   2         1107   1       1                   0   \n105791726                   2         1107   1       1                   0   \n105791727                   2          271   1       1                   0   \n\n           fashion_news_frequency  age  postal_code  \n92667258                        1   21        57896  \n92667259                        1   21        57896  \n92667279                        1   21        57896  \n92667304                        1   21        57896  \n92667329                        1   21        57896  \n...                           ...  ...          ...  \n105791723                       1   60       177867  \n105791724                       1   60        96323  \n105791725                       1   60        96323  \n105791726                       1   60        96323  \n105791727                       1   60        96323  \n\n[1449414 rows x 39 columns]",
      "text/html": "<div>\n<style scoped>\n    .dataframe tbody tr th:only-of-type {\n        vertical-align: middle;\n    }\n\n    .dataframe tbody tr th {\n        vertical-align: top;\n    }\n\n    .dataframe thead th {\n        text-align: right;\n    }\n</style>\n<table border=\"1\" class=\"dataframe\">\n  <thead>\n    <tr style=\"text-align: right;\">\n      <th></th>\n      <th>t_dat</th>\n      <th>customer_id</th>\n      <th>article_id</th>\n      <th>price</th>\n      <th>sales_channel_id</th>\n      <th>week</th>\n      <th>purchased</th>\n      <th>price_rank</th>\n      <th>age_rank</th>\n      <th>product_code</th>\n      <th>...</th>\n      <th>section_name</th>\n      <th>garment_group_no</th>\n      <th>garment_group_name</th>\n      <th>detail_desc</th>\n      <th>FN</th>\n      <th>Active</th>\n      <th>club_member_status</th>\n      <th>fashion_news_frequency</th>\n      <th>age</th>\n      <th>postal_code</th>\n    </tr>\n  </thead>\n  <tbody>\n    <tr>\n      <th>92667258</th>\n      <td>2020-09-03</td>\n      <td>28847241659200</td>\n      <td>925246001</td>\n      <td>0.128797</td>\n      <td>2</td>\n      <td>105</td>\n      <td>0.0</td>\n      <td>999.0</td>\n      <td>999.0</td>\n      <td>925246</td>\n      <td>...</td>\n      <td>40</td>\n      <td>1007</td>\n      <td>9</td>\n      <td>27855</td>\n      <td>1</td>\n      <td>1</td>\n      <td>0</td>\n      <td>1</td>\n      <td>21</td>\n      <td>57896</td>\n    </tr>\n    <tr>\n      <th>92667259</th>\n      <td>2020-09-22</td>\n      <td>28847241659200</td>\n      <td>779068002</td>\n      <td>0.045746</td>\n      <td>2</td>\n      <td>105</td>\n      <td>0.0</td>\n      <td>7.0</td>\n      <td>1.0</td>\n      <td>779068</td>\n      <td>...</td>\n      <td>10</td>\n      <td>1003</td>\n      <td>3</td>\n      <td>15430</td>\n      <td>1</td>\n      <td>1</td>\n      <td>0</td>\n      <td>1</td>\n      <td>21</td>\n      <td>57896</td>\n    </tr>\n    <tr>\n      <th>92667279</th>\n      <td>2020-09-22</td>\n      <td>28847241659200</td>\n      <td>754323004</td>\n      <td>0.045746</td>\n      <td>2</td>\n      <td>105</td>\n      <td>0.0</td>\n      <td>7.0</td>\n      <td>2.0</td>\n      <td>754323</td>\n      <td>...</td>\n      <td>0</td>\n      <td>1003</td>\n      <td>3</td>\n      <td>4874</td>\n      <td>1</td>\n      <td>1</td>\n      <td>0</td>\n      <td>1</td>\n      <td>21</td>\n      <td>57896</td>\n    </tr>\n    <tr>\n      <th>92667304</th>\n      <td>2020-09-22</td>\n      <td>28847241659200</td>\n      <td>721481003</td>\n      <td>0.045746</td>\n      <td>2</td>\n      <td>105</td>\n      <td>0.0</td>\n      <td>7.0</td>\n      <td>3.0</td>\n      <td>721481</td>\n      <td>...</td>\n      <td>0</td>\n      <td>1010</td>\n      <td>6</td>\n      <td>11900</td>\n      <td>1</td>\n      <td>1</td>\n      <td>0</td>\n      <td>1</td>\n      <td>21</td>\n      <td>57896</td>\n    </tr>\n    <tr>\n      <th>92667329</th>\n      <td>2020-09-22</td>\n      <td>28847241659200</td>\n      <td>904225001</td>\n      <td>0.045746</td>\n      <td>1</td>\n      <td>105</td>\n      <td>0.0</td>\n      <td>7.0</td>\n      <td>3.0</td>\n      <td>904225</td>\n      <td>...</td>\n      <td>20</td>\n      <td>1020</td>\n      <td>7</td>\n      <td>26543</td>\n      <td>1</td>\n      <td>1</td>\n      <td>0</td>\n      <td>1</td>\n      <td>21</td>\n      <td>57896</td>\n    </tr>\n    <tr>\n      <th>...</th>\n      <td>...</td>\n      <td>...</td>\n      <td>...</td>\n      <td>...</td>\n      <td>...</td>\n      <td>...</td>\n      <td>...</td>\n      <td>...</td>\n      <td>...</td>\n      <td>...</td>\n      <td>...</td>\n      <td>...</td>\n      <td>...</td>\n      <td>...</td>\n      <td>...</td>\n      <td>...</td>\n      <td>...</td>\n      <td>...</td>\n      <td>...</td>\n      <td>...</td>\n      <td>...</td>\n    </tr>\n    <tr>\n      <th>105791723</th>\n      <td>2020-09-06</td>\n      <td>18446705133201055310</td>\n      <td>875784002</td>\n      <td>0.050831</td>\n      <td>2</td>\n      <td>105</td>\n      <td>0.0</td>\n      <td>999.0</td>\n      <td>999.0</td>\n      <td>875784</td>\n      <td>...</td>\n      <td>15</td>\n      <td>1003</td>\n      <td>3</td>\n      <td>11763</td>\n      <td>1</td>\n      <td>1</td>\n      <td>0</td>\n      <td>1</td>\n      <td>60</td>\n      <td>177867</td>\n    </tr>\n    <tr>\n      <th>105791724</th>\n      <td>2020-09-21</td>\n      <td>18446737527580148316</td>\n      <td>547780001</td>\n      <td>0.023712</td>\n      <td>2</td>\n      <td>105</td>\n      <td>0.0</td>\n      <td>999.0</td>\n      <td>999.0</td>\n      <td>547780</td>\n      <td>...</td>\n      <td>27</td>\n      <td>1002</td>\n      <td>2</td>\n      <td>271</td>\n      <td>1</td>\n      <td>1</td>\n      <td>0</td>\n      <td>1</td>\n      <td>60</td>\n      <td>96323</td>\n    </tr>\n    <tr>\n      <th>105791725</th>\n      <td>2020-09-21</td>\n      <td>18446737527580148316</td>\n      <td>763988001</td>\n      <td>0.023712</td>\n      <td>2</td>\n      <td>105</td>\n      <td>0.0</td>\n      <td>19.0</td>\n      <td>1.0</td>\n      <td>763988</td>\n      <td>...</td>\n      <td>16</td>\n      <td>1002</td>\n      <td>2</td>\n      <td>1107</td>\n      <td>1</td>\n      <td>1</td>\n      <td>0</td>\n      <td>1</td>\n      <td>60</td>\n      <td>96323</td>\n    </tr>\n    <tr>\n      <th>105791726</th>\n      <td>2020-09-21</td>\n      <td>18446737527580148316</td>\n      <td>763988003</td>\n      <td>0.023712</td>\n      <td>2</td>\n      <td>105</td>\n      <td>0.0</td>\n      <td>999.0</td>\n      <td>999.0</td>\n      <td>763988</td>\n      <td>...</td>\n      <td>16</td>\n      <td>1002</td>\n      <td>2</td>\n      <td>1107</td>\n      <td>1</td>\n      <td>1</td>\n      <td>0</td>\n      <td>1</td>\n      <td>60</td>\n      <td>96323</td>\n    </tr>\n    <tr>\n      <th>105791727</th>\n      <td>2020-09-21</td>\n      <td>18446737527580148316</td>\n      <td>547780040</td>\n      <td>0.023712</td>\n      <td>2</td>\n      <td>105</td>\n      <td>0.0</td>\n      <td>999.0</td>\n      <td>999.0</td>\n      <td>547780</td>\n      <td>...</td>\n      <td>27</td>\n      <td>1002</td>\n      <td>2</td>\n      <td>271</td>\n      <td>1</td>\n      <td>1</td>\n      <td>0</td>\n      <td>1</td>\n      <td>60</td>\n      <td>96323</td>\n    </tr>\n  </tbody>\n</table>\n<p>1449414 rows × 39 columns</p>\n</div>"
     },
     "execution_count": 88,
     "metadata": {},
     "output_type": "execute_result"
    }
   ],
   "source": [
    "test"
   ],
   "metadata": {
    "collapsed": false,
    "ExecuteTime": {
     "end_time": "2023-12-17T04:20:37.879623200Z",
     "start_time": "2023-12-17T04:20:37.757162Z"
    }
   },
   "id": "bf496f60023c723d"
  },
  {
   "cell_type": "code",
   "execution_count": 89,
   "outputs": [],
   "source": [
    "train_baskets = train.groupby(['week', 'customer_id'])['article_id'].count().values"
   ],
   "metadata": {
    "collapsed": false,
    "ExecuteTime": {
     "end_time": "2023-12-17T04:20:40.550315800Z",
     "start_time": "2023-12-17T04:20:37.880119800Z"
    }
   },
   "id": "c67f7a2a90520bc1"
  },
  {
   "cell_type": "code",
   "execution_count": 90,
   "outputs": [
    {
     "data": {
      "text/plain": "array([3221, 2967, 5764, ...,    2,    7,    4], dtype=int64)"
     },
     "execution_count": 90,
     "metadata": {},
     "output_type": "execute_result"
    }
   ],
   "source": [
    "train_baskets"
   ],
   "metadata": {
    "collapsed": false,
    "ExecuteTime": {
     "end_time": "2023-12-17T04:20:40.558682100Z",
     "start_time": "2023-12-17T04:20:40.551308900Z"
    }
   },
   "id": "b126a8a13e89aba0"
  },
  {
   "cell_type": "code",
   "execution_count": 91,
   "outputs": [],
   "source": [
    "extra_columns = ['price_rank', 'age_rank']\n",
    "columns_to_use = ['article_id', 'product_type_no', 'graphical_appearance_no', 'colour_group_code', 'perceived_colour_value_id',\n",
    "'perceived_colour_master_id', 'department_no', 'index_code',\n",
    "'index_group_no', 'section_no', 'garment_group_no', 'FN', 'Active',\n",
    "'club_member_status', 'fashion_news_frequency', 'age', 'postal_code']\n",
    "columns_to_use.extend(extra_columns)\n",
    "\n",
    "train_X = train[columns_to_use]\n",
    "train_y = train['purchased']\n",
    "\n",
    "test_X = test[columns_to_use]"
   ],
   "metadata": {
    "collapsed": false,
    "ExecuteTime": {
     "end_time": "2023-12-17T04:20:42.142870700Z",
     "start_time": "2023-12-17T04:20:40.562159Z"
    }
   },
   "id": "b7b334fa1a611f59"
  },
  {
   "cell_type": "code",
   "execution_count": 92,
   "outputs": [
    {
     "data": {
      "text/plain": "           article_id  product_type_no  graphical_appearance_no  \\\n92667258    925246001              262                  1010016   \n92667259    779068002              252                  1010016   \n92667279    754323004              252                  1010010   \n92667304    721481003              258                  1010017   \n92667329    904225001               87                  1010016   \n...               ...              ...                      ...   \n105791723   875784002              252                  1010016   \n105791724   547780001              272                  1010016   \n105791725   763988001              272                  1010016   \n105791726   763988003              272                  1010010   \n105791727   547780040              272                  1010016   \n\n           colour_group_code  perceived_colour_value_id  \\\n92667258                   9                          4   \n92667259                  13                          2   \n92667279                  14                          4   \n92667304                  73                          2   \n92667329                   9                          4   \n...                      ...                        ...   \n105791723                  9                          4   \n105791724                  9                          4   \n105791725                  9                          4   \n105791726                  9                          4   \n105791727                 31                          1   \n\n           perceived_colour_master_id  department_no  index_code  \\\n92667258                            5           1201           0   \n92667259                           11           1610           0   \n92667279                           11           1626           0   \n92667304                            6           1522           0   \n92667329                            5           3529           6   \n...                               ...            ...         ...   \n105791723                          12           1949           0   \n105791724                           5           1643           1   \n105791725                           5           5833           2   \n105791726                          12           5833           2   \n105791727                           3           1643           1   \n\n           index_group_no  section_no  garment_group_no  FN  Active  \\\n92667258                1          19              1007   1       1   \n92667259                1           6              1003   1       1   \n92667279                1          15              1003   1       1   \n92667304                1          15              1010   1       1   \n92667329                1          64              1020   1       1   \n...                   ...         ...               ...  ..     ...   \n105791723               1           2              1003   1       1   \n105791724               2          51              1002   1       1   \n105791725               3          26              1002   1       1   \n105791726               3          26              1002   1       1   \n105791727               2          51              1002   1       1   \n\n           club_member_status  fashion_news_frequency  age  postal_code  \\\n92667258                    0                       1   21        57896   \n92667259                    0                       1   21        57896   \n92667279                    0                       1   21        57896   \n92667304                    0                       1   21        57896   \n92667329                    0                       1   21        57896   \n...                       ...                     ...  ...          ...   \n105791723                   0                       1   60       177867   \n105791724                   0                       1   60        96323   \n105791725                   0                       1   60        96323   \n105791726                   0                       1   60        96323   \n105791727                   0                       1   60        96323   \n\n           price_rank  age_rank  \n92667258        999.0     999.0  \n92667259          7.0       1.0  \n92667279          7.0       2.0  \n92667304          7.0       3.0  \n92667329          7.0       3.0  \n...               ...       ...  \n105791723       999.0     999.0  \n105791724       999.0     999.0  \n105791725        19.0       1.0  \n105791726       999.0     999.0  \n105791727       999.0     999.0  \n\n[1449414 rows x 19 columns]",
      "text/html": "<div>\n<style scoped>\n    .dataframe tbody tr th:only-of-type {\n        vertical-align: middle;\n    }\n\n    .dataframe tbody tr th {\n        vertical-align: top;\n    }\n\n    .dataframe thead th {\n        text-align: right;\n    }\n</style>\n<table border=\"1\" class=\"dataframe\">\n  <thead>\n    <tr style=\"text-align: right;\">\n      <th></th>\n      <th>article_id</th>\n      <th>product_type_no</th>\n      <th>graphical_appearance_no</th>\n      <th>colour_group_code</th>\n      <th>perceived_colour_value_id</th>\n      <th>perceived_colour_master_id</th>\n      <th>department_no</th>\n      <th>index_code</th>\n      <th>index_group_no</th>\n      <th>section_no</th>\n      <th>garment_group_no</th>\n      <th>FN</th>\n      <th>Active</th>\n      <th>club_member_status</th>\n      <th>fashion_news_frequency</th>\n      <th>age</th>\n      <th>postal_code</th>\n      <th>price_rank</th>\n      <th>age_rank</th>\n    </tr>\n  </thead>\n  <tbody>\n    <tr>\n      <th>92667258</th>\n      <td>925246001</td>\n      <td>262</td>\n      <td>1010016</td>\n      <td>9</td>\n      <td>4</td>\n      <td>5</td>\n      <td>1201</td>\n      <td>0</td>\n      <td>1</td>\n      <td>19</td>\n      <td>1007</td>\n      <td>1</td>\n      <td>1</td>\n      <td>0</td>\n      <td>1</td>\n      <td>21</td>\n      <td>57896</td>\n      <td>999.0</td>\n      <td>999.0</td>\n    </tr>\n    <tr>\n      <th>92667259</th>\n      <td>779068002</td>\n      <td>252</td>\n      <td>1010016</td>\n      <td>13</td>\n      <td>2</td>\n      <td>11</td>\n      <td>1610</td>\n      <td>0</td>\n      <td>1</td>\n      <td>6</td>\n      <td>1003</td>\n      <td>1</td>\n      <td>1</td>\n      <td>0</td>\n      <td>1</td>\n      <td>21</td>\n      <td>57896</td>\n      <td>7.0</td>\n      <td>1.0</td>\n    </tr>\n    <tr>\n      <th>92667279</th>\n      <td>754323004</td>\n      <td>252</td>\n      <td>1010010</td>\n      <td>14</td>\n      <td>4</td>\n      <td>11</td>\n      <td>1626</td>\n      <td>0</td>\n      <td>1</td>\n      <td>15</td>\n      <td>1003</td>\n      <td>1</td>\n      <td>1</td>\n      <td>0</td>\n      <td>1</td>\n      <td>21</td>\n      <td>57896</td>\n      <td>7.0</td>\n      <td>2.0</td>\n    </tr>\n    <tr>\n      <th>92667304</th>\n      <td>721481003</td>\n      <td>258</td>\n      <td>1010017</td>\n      <td>73</td>\n      <td>2</td>\n      <td>6</td>\n      <td>1522</td>\n      <td>0</td>\n      <td>1</td>\n      <td>15</td>\n      <td>1010</td>\n      <td>1</td>\n      <td>1</td>\n      <td>0</td>\n      <td>1</td>\n      <td>21</td>\n      <td>57896</td>\n      <td>7.0</td>\n      <td>3.0</td>\n    </tr>\n    <tr>\n      <th>92667329</th>\n      <td>904225001</td>\n      <td>87</td>\n      <td>1010016</td>\n      <td>9</td>\n      <td>4</td>\n      <td>5</td>\n      <td>3529</td>\n      <td>6</td>\n      <td>1</td>\n      <td>64</td>\n      <td>1020</td>\n      <td>1</td>\n      <td>1</td>\n      <td>0</td>\n      <td>1</td>\n      <td>21</td>\n      <td>57896</td>\n      <td>7.0</td>\n      <td>3.0</td>\n    </tr>\n    <tr>\n      <th>...</th>\n      <td>...</td>\n      <td>...</td>\n      <td>...</td>\n      <td>...</td>\n      <td>...</td>\n      <td>...</td>\n      <td>...</td>\n      <td>...</td>\n      <td>...</td>\n      <td>...</td>\n      <td>...</td>\n      <td>...</td>\n      <td>...</td>\n      <td>...</td>\n      <td>...</td>\n      <td>...</td>\n      <td>...</td>\n      <td>...</td>\n      <td>...</td>\n    </tr>\n    <tr>\n      <th>105791723</th>\n      <td>875784002</td>\n      <td>252</td>\n      <td>1010016</td>\n      <td>9</td>\n      <td>4</td>\n      <td>12</td>\n      <td>1949</td>\n      <td>0</td>\n      <td>1</td>\n      <td>2</td>\n      <td>1003</td>\n      <td>1</td>\n      <td>1</td>\n      <td>0</td>\n      <td>1</td>\n      <td>60</td>\n      <td>177867</td>\n      <td>999.0</td>\n      <td>999.0</td>\n    </tr>\n    <tr>\n      <th>105791724</th>\n      <td>547780001</td>\n      <td>272</td>\n      <td>1010016</td>\n      <td>9</td>\n      <td>4</td>\n      <td>5</td>\n      <td>1643</td>\n      <td>1</td>\n      <td>2</td>\n      <td>51</td>\n      <td>1002</td>\n      <td>1</td>\n      <td>1</td>\n      <td>0</td>\n      <td>1</td>\n      <td>60</td>\n      <td>96323</td>\n      <td>999.0</td>\n      <td>999.0</td>\n    </tr>\n    <tr>\n      <th>105791725</th>\n      <td>763988001</td>\n      <td>272</td>\n      <td>1010016</td>\n      <td>9</td>\n      <td>4</td>\n      <td>5</td>\n      <td>5833</td>\n      <td>2</td>\n      <td>3</td>\n      <td>26</td>\n      <td>1002</td>\n      <td>1</td>\n      <td>1</td>\n      <td>0</td>\n      <td>1</td>\n      <td>60</td>\n      <td>96323</td>\n      <td>19.0</td>\n      <td>1.0</td>\n    </tr>\n    <tr>\n      <th>105791726</th>\n      <td>763988003</td>\n      <td>272</td>\n      <td>1010010</td>\n      <td>9</td>\n      <td>4</td>\n      <td>12</td>\n      <td>5833</td>\n      <td>2</td>\n      <td>3</td>\n      <td>26</td>\n      <td>1002</td>\n      <td>1</td>\n      <td>1</td>\n      <td>0</td>\n      <td>1</td>\n      <td>60</td>\n      <td>96323</td>\n      <td>999.0</td>\n      <td>999.0</td>\n    </tr>\n    <tr>\n      <th>105791727</th>\n      <td>547780040</td>\n      <td>272</td>\n      <td>1010016</td>\n      <td>31</td>\n      <td>1</td>\n      <td>3</td>\n      <td>1643</td>\n      <td>1</td>\n      <td>2</td>\n      <td>51</td>\n      <td>1002</td>\n      <td>1</td>\n      <td>1</td>\n      <td>0</td>\n      <td>1</td>\n      <td>60</td>\n      <td>96323</td>\n      <td>999.0</td>\n      <td>999.0</td>\n    </tr>\n  </tbody>\n</table>\n<p>1449414 rows × 19 columns</p>\n</div>"
     },
     "execution_count": 92,
     "metadata": {},
     "output_type": "execute_result"
    }
   ],
   "source": [
    "test_X"
   ],
   "metadata": {
    "collapsed": false,
    "ExecuteTime": {
     "end_time": "2023-12-17T04:20:42.153071500Z",
     "start_time": "2023-12-17T04:20:42.147853800Z"
    }
   },
   "id": "9ae23cbdc4c6d2ea"
  },
  {
   "cell_type": "code",
   "execution_count": 93,
   "outputs": [
    {
     "name": "stdout",
     "output_type": "stream",
     "text": [
      "[LightGBM] [Debug] Dataset::GetMultiBinFromSparseFeatures: sparse rate 0.805593\n",
      "[LightGBM] [Debug] Dataset::GetMultiBinFromAllFeatures: sparse rate 0.157898\n",
      "[LightGBM] [Debug] init for col-wise cost 0.634831 seconds, init for row-wise cost 0.818386 seconds\n",
      "[LightGBM] [Info] Auto-choosing row-wise multi-threading, the overhead of testing was 1.088935 seconds.\n",
      "You can set `force_row_wise=true` to remove the overhead.\n",
      "And if memory is not enough, you can set `force_col_wise=true`.\n",
      "[LightGBM] [Debug] Using Dense Multi-Val Bin\n",
      "[LightGBM] [Info] Total Bins 1185\n",
      "[LightGBM] [Info] Number of data points in the train set: 92667258, number of used features: 19\n",
      "[LightGBM] [Debug] Trained a tree with leaves = 31 and depth = 14\n"
     ]
    }
   ],
   "source": [
    "from lightgbm.sklearn import LGBMRanker\n",
    "ranker = LGBMRanker(\n",
    "    objective=\"lambdarank\",\n",
    "    metric=\"ndcg\",\n",
    "    boosting_type=\"dart\",\n",
    "    n_estimators=1,\n",
    "    importance_type='gain',\n",
    "    verbose=10\n",
    ")\n",
    "ranker = ranker.fit(\n",
    "    train_X,\n",
    "    train_y,\n",
    "    group=train_baskets,\n",
    ")"
   ],
   "metadata": {
    "collapsed": false,
    "ExecuteTime": {
     "end_time": "2023-12-17T04:21:05.340007500Z",
     "start_time": "2023-12-17T04:20:42.153071500Z"
    }
   },
   "id": "c6a40fe281d19c5"
  },
  {
   "cell_type": "code",
   "execution_count": 94,
   "outputs": [
    {
     "name": "stdout",
     "output_type": "stream",
     "text": [
      "price_rank 0.8896997124977307\n",
      "article_id 0.036097043265728136\n",
      "product_type_no 0.030501297045879783\n",
      "garment_group_no 0.022045179428931534\n",
      "department_no 0.015237165531724921\n",
      "section_no 0.003757250791166784\n",
      "graphical_appearance_no 0.001673780088645187\n",
      "colour_group_code 0.0009885713501929883\n",
      "Active 0.0\n",
      "FN 0.0\n",
      "club_member_status 0.0\n",
      "fashion_news_frequency 0.0\n",
      "index_group_no 0.0\n",
      "index_code 0.0\n",
      "age 0.0\n",
      "perceived_colour_master_id 0.0\n",
      "perceived_colour_value_id 0.0\n",
      "postal_code 0.0\n",
      "age_rank 0.0\n"
     ]
    }
   ],
   "source": [
    "for i in ranker.feature_importances_.argsort()[::-1]:\n",
    "    print(columns_to_use[i], ranker.feature_importances_[i]/ranker.feature_importances_.sum())"
   ],
   "metadata": {
    "collapsed": false,
    "ExecuteTime": {
     "end_time": "2023-12-17T04:21:05.351056400Z",
     "start_time": "2023-12-17T04:21:05.345491600Z"
    }
   },
   "id": "a7fa25bfba7bbd98"
  },
  {
   "cell_type": "code",
   "execution_count": 95,
   "outputs": [],
   "source": [
    "test['preds'] = ranker.predict(test_X)\n",
    "\n",
    "c_id2predicted_article_ids = test \\\n",
    "    .sort_values(['customer_id', 'preds'], ascending=False) \\\n",
    "    .groupby('customer_id')['article_id'].apply(list).to_dict()\n",
    "\n",
    "best_last_week = \\\n",
    "    top_candidates_3feat_prev_week[top_candidates_3feat_prev_week.week == top_candidates_3feat_prev_week.week.max()]['article_id'].tolist()"
   ],
   "metadata": {
    "collapsed": false,
    "ExecuteTime": {
     "end_time": "2023-12-17T04:21:10.909627700Z",
     "start_time": "2023-12-17T04:21:05.353043300Z"
    }
   },
   "id": "c09803d81131c215"
  },
  {
   "cell_type": "code",
   "execution_count": 96,
   "outputs": [],
   "source": [
    "sub = pd.read_csv('../input/sample_submission.csv')\n",
    "preds = []\n",
    "for c_id in customer_hex_id_to_int(sub.customer_id):\n",
    "    pred = c_id2predicted_article_ids.get(c_id, [])\n",
    "    pred = pred + best_last_week\n",
    "    preds.append(pred[:12])"
   ],
   "metadata": {
    "collapsed": false,
    "ExecuteTime": {
     "end_time": "2023-12-17T04:23:40.962231400Z",
     "start_time": "2023-12-17T04:21:10.910124100Z"
    }
   },
   "id": "9b5544a9e14f8d32"
  },
  {
   "cell_type": "code",
   "execution_count": 97,
   "outputs": [],
   "source": [
    "# Copied from NickWils https://github.com/LienM/ai-project-23-24/blob/main/NickWils/Lecture6/candidate-repurchase.ipynb\n",
    "def recall(actual, predicted, k=12):\n",
    "    # if len(predicted) > k:\n",
    "    #     predicted = predicted[:k]\n",
    "\n",
    "    correct_predictions = [p for p in predicted if p in actual]\n",
    "\n",
    "    return len(correct_predictions) / len(actual)\n",
    "\n",
    "def recall12(actual, predicted):\n",
    "    return np.mean([recall(a,p) for a,p in zip(actual, predicted)])"
   ],
   "metadata": {
    "collapsed": false,
    "ExecuteTime": {
     "end_time": "2023-12-17T04:23:40.965327Z",
     "start_time": "2023-12-17T04:23:40.962727900Z"
    }
   },
   "id": "cf2d3f33b22d95bd"
  },
  {
   "cell_type": "code",
   "execution_count": 98,
   "outputs": [],
   "source": [
    "def calculateRecall(expected, retrieved):\n",
    "    \"\"\"\n",
    "    R(ecall) = TP/(TP+FN) how much of correct\n",
    "    :param expected: list of expected values \n",
    "    :param retrieved: list of retrieved values\n",
    "    :return:\n",
    "    \"\"\"\n",
    "    # number of retrieved values that are also in expected (True positive)\n",
    "    TP = len([ret for ret in retrieved if ret in expected])\n",
    "    # number of expected values that aren't retrieved (False negative)\n",
    "    FN = len([ex for ex in expected if ex not in retrieved])\n",
    "    # recall calculation (by formula)\n",
    "    recall = TP/(TP+FN)\n",
    "    return recall\n",
    "\n",
    "def mean_recall(expected, retrieved):\n",
    "    \"\"\"\n",
    "    Calculate mean recall for all users\n",
    "    :param expected: list of expected values\n",
    "    :param retrieved: list of retrieved values\n",
    "    :return:\n",
    "    \"\"\"\n",
    "    recalls = [calculateRecall(ex, ret) for ex, ret in zip(expected, retrieved)]\n",
    "    mean_recall = np.mean(recalls)\n",
    "    return mean_recall"
   ],
   "metadata": {
    "collapsed": false,
    "ExecuteTime": {
     "end_time": "2023-12-17T04:23:40.978156500Z",
     "start_time": "2023-12-17T04:23:40.971903Z"
    }
   },
   "id": "5e0be75f57b5036"
  },
  {
   "cell_type": "code",
   "execution_count": 99,
   "outputs": [
    {
     "name": "stderr",
     "output_type": "stream",
     "text": [
      "68984it [00:00, 908859.19it/s]\n"
     ]
    }
   ],
   "source": [
    "from tqdm import tqdm\n",
    "# Creating validation set for metrics use case\n",
    "positive_items_val = validation.groupby(['customer_id'])['article_id'].apply(list)\n",
    "val_users = positive_items_val.keys()\n",
    "val_items = []\n",
    "for i, user in tqdm(enumerate(val_users)):\n",
    "    val_items.append(positive_items_val[user])"
   ],
   "metadata": {
    "collapsed": false,
    "ExecuteTime": {
     "end_time": "2023-12-17T04:23:41.541557300Z",
     "start_time": "2023-12-17T04:23:40.979646900Z"
    }
   },
   "id": "955faac44d28274a"
  },
  {
   "cell_type": "code",
   "execution_count": 100,
   "outputs": [
    {
     "data": {
      "text/plain": "            t_dat  sales_channel_id  article_id     price  index_group_name  \\\n0      2020-07-16                 1   754852002  0.050831                 0   \n1      2020-07-21                 1   747764002  0.047441                 0   \n2      2020-07-16                 1   685944002  0.042356                 0   \n3      2020-07-19                 1   746344001  0.033881                 0   \n4      2020-07-15                 1   796042001  0.033881                 0   \n...           ...               ...         ...       ...               ...   \n719995 2020-09-21                 2   844109002  0.021000                 0   \n719996 2020-09-21                 2   877509001  0.021508                 0   \n719997 2020-09-22                 1   567532030  0.021169                 0   \n719998 2020-09-19                 1   933411001  0.020864                 0   \n719999 2020-09-18                 2   893323001  0.020780                 0   \n\n        week         customer_id  highest_count_ign_per_c  mean_price_per_c  \\\n0         96      28847241659200                        0          0.046085   \n1         96      28847241659200                        0          0.046085   \n2         96      28847241659200                        0          0.046085   \n3         96      28847241659200                        0          0.046085   \n4         96      28847241659200                        0          0.046085   \n...      ...                 ...                      ...               ...   \n719995   105  248181446477491347                        0          0.021169   \n719996   105  248181446477491347                        0          0.021169   \n719997   105  248181446477491347                        0          0.021169   \n719998   105  248181446477491347                        0          0.021169   \n719999   105  248181446477491347                        0          0.021169   \n\n        age  mean_age_per_a  price_rank  age_rank  \n0        21              21        21.0       1.0  \n1        21              22         2.0       2.0  \n2        21              20         7.0       2.0  \n3        21              20        36.0       2.0  \n4        21              22        36.0       2.0  \n...     ...             ...         ...       ...  \n719995   19              31        31.0       5.0  \n719996   19              31        45.0       5.0  \n719997   19              32         1.0      10.0  \n719998   19              32        41.0      10.0  \n719999   19              32        49.0      10.0  \n\n[720000 rows x 13 columns]",
      "text/html": "<div>\n<style scoped>\n    .dataframe tbody tr th:only-of-type {\n        vertical-align: middle;\n    }\n\n    .dataframe tbody tr th {\n        vertical-align: top;\n    }\n\n    .dataframe thead th {\n        text-align: right;\n    }\n</style>\n<table border=\"1\" class=\"dataframe\">\n  <thead>\n    <tr style=\"text-align: right;\">\n      <th></th>\n      <th>t_dat</th>\n      <th>sales_channel_id</th>\n      <th>article_id</th>\n      <th>price</th>\n      <th>index_group_name</th>\n      <th>week</th>\n      <th>customer_id</th>\n      <th>highest_count_ign_per_c</th>\n      <th>mean_price_per_c</th>\n      <th>age</th>\n      <th>mean_age_per_a</th>\n      <th>price_rank</th>\n      <th>age_rank</th>\n    </tr>\n  </thead>\n  <tbody>\n    <tr>\n      <th>0</th>\n      <td>2020-07-16</td>\n      <td>1</td>\n      <td>754852002</td>\n      <td>0.050831</td>\n      <td>0</td>\n      <td>96</td>\n      <td>28847241659200</td>\n      <td>0</td>\n      <td>0.046085</td>\n      <td>21</td>\n      <td>21</td>\n      <td>21.0</td>\n      <td>1.0</td>\n    </tr>\n    <tr>\n      <th>1</th>\n      <td>2020-07-21</td>\n      <td>1</td>\n      <td>747764002</td>\n      <td>0.047441</td>\n      <td>0</td>\n      <td>96</td>\n      <td>28847241659200</td>\n      <td>0</td>\n      <td>0.046085</td>\n      <td>21</td>\n      <td>22</td>\n      <td>2.0</td>\n      <td>2.0</td>\n    </tr>\n    <tr>\n      <th>2</th>\n      <td>2020-07-16</td>\n      <td>1</td>\n      <td>685944002</td>\n      <td>0.042356</td>\n      <td>0</td>\n      <td>96</td>\n      <td>28847241659200</td>\n      <td>0</td>\n      <td>0.046085</td>\n      <td>21</td>\n      <td>20</td>\n      <td>7.0</td>\n      <td>2.0</td>\n    </tr>\n    <tr>\n      <th>3</th>\n      <td>2020-07-19</td>\n      <td>1</td>\n      <td>746344001</td>\n      <td>0.033881</td>\n      <td>0</td>\n      <td>96</td>\n      <td>28847241659200</td>\n      <td>0</td>\n      <td>0.046085</td>\n      <td>21</td>\n      <td>20</td>\n      <td>36.0</td>\n      <td>2.0</td>\n    </tr>\n    <tr>\n      <th>4</th>\n      <td>2020-07-15</td>\n      <td>1</td>\n      <td>796042001</td>\n      <td>0.033881</td>\n      <td>0</td>\n      <td>96</td>\n      <td>28847241659200</td>\n      <td>0</td>\n      <td>0.046085</td>\n      <td>21</td>\n      <td>22</td>\n      <td>36.0</td>\n      <td>2.0</td>\n    </tr>\n    <tr>\n      <th>...</th>\n      <td>...</td>\n      <td>...</td>\n      <td>...</td>\n      <td>...</td>\n      <td>...</td>\n      <td>...</td>\n      <td>...</td>\n      <td>...</td>\n      <td>...</td>\n      <td>...</td>\n      <td>...</td>\n      <td>...</td>\n      <td>...</td>\n    </tr>\n    <tr>\n      <th>719995</th>\n      <td>2020-09-21</td>\n      <td>2</td>\n      <td>844109002</td>\n      <td>0.021000</td>\n      <td>0</td>\n      <td>105</td>\n      <td>248181446477491347</td>\n      <td>0</td>\n      <td>0.021169</td>\n      <td>19</td>\n      <td>31</td>\n      <td>31.0</td>\n      <td>5.0</td>\n    </tr>\n    <tr>\n      <th>719996</th>\n      <td>2020-09-21</td>\n      <td>2</td>\n      <td>877509001</td>\n      <td>0.021508</td>\n      <td>0</td>\n      <td>105</td>\n      <td>248181446477491347</td>\n      <td>0</td>\n      <td>0.021169</td>\n      <td>19</td>\n      <td>31</td>\n      <td>45.0</td>\n      <td>5.0</td>\n    </tr>\n    <tr>\n      <th>719997</th>\n      <td>2020-09-22</td>\n      <td>1</td>\n      <td>567532030</td>\n      <td>0.021169</td>\n      <td>0</td>\n      <td>105</td>\n      <td>248181446477491347</td>\n      <td>0</td>\n      <td>0.021169</td>\n      <td>19</td>\n      <td>32</td>\n      <td>1.0</td>\n      <td>10.0</td>\n    </tr>\n    <tr>\n      <th>719998</th>\n      <td>2020-09-19</td>\n      <td>1</td>\n      <td>933411001</td>\n      <td>0.020864</td>\n      <td>0</td>\n      <td>105</td>\n      <td>248181446477491347</td>\n      <td>0</td>\n      <td>0.021169</td>\n      <td>19</td>\n      <td>32</td>\n      <td>41.0</td>\n      <td>10.0</td>\n    </tr>\n    <tr>\n      <th>719999</th>\n      <td>2020-09-18</td>\n      <td>2</td>\n      <td>893323001</td>\n      <td>0.020780</td>\n      <td>0</td>\n      <td>105</td>\n      <td>248181446477491347</td>\n      <td>0</td>\n      <td>0.021169</td>\n      <td>19</td>\n      <td>32</td>\n      <td>49.0</td>\n      <td>10.0</td>\n    </tr>\n  </tbody>\n</table>\n<p>720000 rows × 13 columns</p>\n</div>"
     },
     "execution_count": 100,
     "metadata": {},
     "output_type": "execute_result"
    }
   ],
   "source": [
    "top_candidates_3feat_prev_week"
   ],
   "metadata": {
    "collapsed": false,
    "ExecuteTime": {
     "end_time": "2023-12-17T04:23:41.554943Z",
     "start_time": "2023-12-17T04:23:41.540563800Z"
    }
   },
   "id": "b4406e344fdfe58b"
  },
  {
   "cell_type": "code",
   "execution_count": 101,
   "outputs": [],
   "source": [
    "\n",
    "# Get the purchases for the last week in the validation set\n",
    "last_week_purchases_val = validation[validation['week'] == validation['week'].max()]"
   ],
   "metadata": {
    "collapsed": false,
    "ExecuteTime": {
     "end_time": "2023-12-17T04:23:41.576281800Z",
     "start_time": "2023-12-17T04:23:41.553942400Z"
    }
   },
   "id": "ad5b2fc4f165384a"
  },
  {
   "cell_type": "code",
   "execution_count": 102,
   "outputs": [
    {
     "data": {
      "text/plain": "              t_dat           customer_id  article_id     price  \\\n31552433 2020-09-16      3177658828628418   869331006  0.030492   \n31552434 2020-09-16      3177658828628418   866731001  0.025407   \n31559847 2020-09-16      9802572176960585   896152002  0.033881   \n31559848 2020-09-16      9802572176960585   915526001  0.033881   \n31559686 2020-09-16     11484807043854349   878085001  0.025407   \n...             ...                   ...         ...       ...   \n31774722 2020-09-22  18439937050817258297   891591003  0.084729   \n31774723 2020-09-22  18439937050817258297   869706005  0.084729   \n31779097 2020-09-22  18440902715633436014   918894002  0.016932   \n31779098 2020-09-22  18440902715633436014   761269001  0.016932   \n31780475 2020-09-22  18443633011701112574   914868002  0.033881   \n\n          sales_channel_id  week  \n31552433                 1   104  \n31552434                 1   104  \n31559847                 1   104  \n31559848                 1   104  \n31559686                 1   104  \n...                    ...   ...  \n31774722                 2   104  \n31774723                 2   104  \n31779097                 1   104  \n31779098                 1   104  \n31780475                 1   104  \n\n[240311 rows x 6 columns]",
      "text/html": "<div>\n<style scoped>\n    .dataframe tbody tr th:only-of-type {\n        vertical-align: middle;\n    }\n\n    .dataframe tbody tr th {\n        vertical-align: top;\n    }\n\n    .dataframe thead th {\n        text-align: right;\n    }\n</style>\n<table border=\"1\" class=\"dataframe\">\n  <thead>\n    <tr style=\"text-align: right;\">\n      <th></th>\n      <th>t_dat</th>\n      <th>customer_id</th>\n      <th>article_id</th>\n      <th>price</th>\n      <th>sales_channel_id</th>\n      <th>week</th>\n    </tr>\n  </thead>\n  <tbody>\n    <tr>\n      <th>31552433</th>\n      <td>2020-09-16</td>\n      <td>3177658828628418</td>\n      <td>869331006</td>\n      <td>0.030492</td>\n      <td>1</td>\n      <td>104</td>\n    </tr>\n    <tr>\n      <th>31552434</th>\n      <td>2020-09-16</td>\n      <td>3177658828628418</td>\n      <td>866731001</td>\n      <td>0.025407</td>\n      <td>1</td>\n      <td>104</td>\n    </tr>\n    <tr>\n      <th>31559847</th>\n      <td>2020-09-16</td>\n      <td>9802572176960585</td>\n      <td>896152002</td>\n      <td>0.033881</td>\n      <td>1</td>\n      <td>104</td>\n    </tr>\n    <tr>\n      <th>31559848</th>\n      <td>2020-09-16</td>\n      <td>9802572176960585</td>\n      <td>915526001</td>\n      <td>0.033881</td>\n      <td>1</td>\n      <td>104</td>\n    </tr>\n    <tr>\n      <th>31559686</th>\n      <td>2020-09-16</td>\n      <td>11484807043854349</td>\n      <td>878085001</td>\n      <td>0.025407</td>\n      <td>1</td>\n      <td>104</td>\n    </tr>\n    <tr>\n      <th>...</th>\n      <td>...</td>\n      <td>...</td>\n      <td>...</td>\n      <td>...</td>\n      <td>...</td>\n      <td>...</td>\n    </tr>\n    <tr>\n      <th>31774722</th>\n      <td>2020-09-22</td>\n      <td>18439937050817258297</td>\n      <td>891591003</td>\n      <td>0.084729</td>\n      <td>2</td>\n      <td>104</td>\n    </tr>\n    <tr>\n      <th>31774723</th>\n      <td>2020-09-22</td>\n      <td>18439937050817258297</td>\n      <td>869706005</td>\n      <td>0.084729</td>\n      <td>2</td>\n      <td>104</td>\n    </tr>\n    <tr>\n      <th>31779097</th>\n      <td>2020-09-22</td>\n      <td>18440902715633436014</td>\n      <td>918894002</td>\n      <td>0.016932</td>\n      <td>1</td>\n      <td>104</td>\n    </tr>\n    <tr>\n      <th>31779098</th>\n      <td>2020-09-22</td>\n      <td>18440902715633436014</td>\n      <td>761269001</td>\n      <td>0.016932</td>\n      <td>1</td>\n      <td>104</td>\n    </tr>\n    <tr>\n      <th>31780475</th>\n      <td>2020-09-22</td>\n      <td>18443633011701112574</td>\n      <td>914868002</td>\n      <td>0.033881</td>\n      <td>1</td>\n      <td>104</td>\n    </tr>\n  </tbody>\n</table>\n<p>240311 rows × 6 columns</p>\n</div>"
     },
     "execution_count": 102,
     "metadata": {},
     "output_type": "execute_result"
    }
   ],
   "source": [
    "last_week_purchases_val"
   ],
   "metadata": {
    "collapsed": false,
    "ExecuteTime": {
     "end_time": "2023-12-17T04:23:41.591885900Z",
     "start_time": "2023-12-17T04:23:41.566817300Z"
    }
   },
   "id": "d91a375e7ddc146e"
  },
  {
   "cell_type": "code",
   "execution_count": 103,
   "outputs": [
    {
     "name": "stdout",
     "output_type": "stream",
     "text": [
      "Recall Score on Candidates for Last Week: 0.0\n"
     ]
    }
   ],
   "source": [
    "\n",
    "# Get the corresponding candidates you generated for those 6000 customers in the last week\n",
    "candidates_last_week = top_candidates_3feat_prev_week[\n",
    "    (top_candidates_3feat_prev_week['week'] == validation['week'].max()) &\n",
    "    (top_candidates_3feat_prev_week['customer_id'].isin(unique_customers))\n",
    "]\n",
    "\n",
    "# Group purchases and candidates by customer_id\n",
    "actual_purchases_last_week = last_week_purchases_val.groupby('customer_id')['article_id'].apply(list)\n",
    "predicted_candidates_last_week = candidates_last_week.groupby('customer_id')['article_id'].apply(list)\n",
    "\n",
    "# Calculate recall between actual purchases and predicted candidates for the last week\n",
    "recall_last_week = mean_recall(actual_purchases_last_week, predicted_candidates_last_week)\n",
    "\n",
    "print(\"Recall Score on Candidates for Last Week:\", recall_last_week)"
   ],
   "metadata": {
    "collapsed": false,
    "ExecuteTime": {
     "end_time": "2023-12-17T04:23:42.162868400Z",
     "start_time": "2023-12-17T04:23:41.570301800Z"
    }
   },
   "id": "7eed1bfa6d901c2b"
  },
  {
   "cell_type": "code",
   "execution_count": 104,
   "outputs": [
    {
     "name": "stdout",
     "output_type": "stream",
     "text": [
      "Total users in validation: 68984\n",
      "mAP12 Score on Validation set: 0.00019668922346535993\n",
      "recall Score on Validation set: 0.0008370739349937931\n"
     ]
    }
   ],
   "source": [
    "print(\"Total users in validation:\", len(val_users))\n",
    "print(\"mAP12 Score on Validation set:\", mapk(val_items, preds))\n",
    "print(\"recall Score on Validation set:\", recall12(val_items, preds))"
   ],
   "metadata": {
    "collapsed": false,
    "ExecuteTime": {
     "end_time": "2023-12-17T04:23:42.261955900Z",
     "start_time": "2023-12-17T04:23:42.162868400Z"
    }
   },
   "id": "55859965f7447716"
  },
  {
   "cell_type": "code",
   "execution_count": 105,
   "outputs": [],
   "source": [
    "preds = [' '.join(['0' + str(p) for p in ps]) for ps in preds]\n",
    "sub.prediction = preds\n",
    "sub.to_csv(f'basic_model_submission.csv.gz', index=False)"
   ],
   "metadata": {
    "collapsed": false,
    "ExecuteTime": {
     "end_time": "2023-12-17T04:23:52.576362400Z",
     "start_time": "2023-12-17T04:23:42.365330700Z"
    }
   },
   "id": "10ac750cd3556fde"
  },
  {
   "cell_type": "markdown",
   "source": [
    "Radek"
   ],
   "metadata": {
    "collapsed": false
   },
   "id": "b78e078e4e9dba03"
  },
  {
   "cell_type": "code",
   "execution_count": 106,
   "outputs": [],
   "source": [
    "transactions = transactions_copy.copy()\n",
    "del transactions_copy"
   ],
   "metadata": {
    "collapsed": false,
    "ExecuteTime": {
     "end_time": "2023-12-17T04:23:53.437789400Z",
     "start_time": "2023-12-17T04:23:52.576858800Z"
    }
   },
   "id": "887fdcf3034a9093"
  },
  {
   "cell_type": "code",
   "source": [
    "### Bestsellers candidates\n",
    "mean_price = transactions.groupby(['week', 'article_id'])['price'].mean()\n",
    "sales = transactions \\\n",
    "    .groupby('week')['article_id'].value_counts() \\\n",
    "    .groupby('week').rank(method='dense', ascending=False) \\\n",
    "    .groupby('week').head(12).rename('bestseller_rank').astype('int8')\n",
    "bestsellers_previous_week = pd.merge(sales, mean_price, on=['week', 'article_id']).reset_index()\n",
    "bestsellers_previous_week.week += 1"
   ],
   "metadata": {
    "papermill": {
     "duration": 0.11991,
     "end_time": "2022-04-16T16:59:28.231470",
     "exception": false,
     "start_time": "2022-04-16T16:59:28.111560",
     "status": "completed"
    },
    "tags": [],
    "execution": {
     "iopub.status.busy": "2023-10-11T08:03:25.596069Z",
     "iopub.execute_input": "2023-10-11T08:03:25.596380Z",
     "iopub.status.idle": "2023-10-11T08:03:25.640966Z",
     "shell.execute_reply.started": "2023-10-11T08:03:25.596349Z",
     "shell.execute_reply": "2023-10-11T08:03:25.640019Z"
    },
    "trusted": true,
    "ExecuteTime": {
     "end_time": "2023-12-17T04:23:57.316963Z",
     "start_time": "2023-12-17T04:23:53.439775500Z"
    }
   },
   "execution_count": 107,
   "outputs": [],
   "id": "bf2b1aaa2053ebaa"
  },
  {
   "cell_type": "code",
   "source": [
    "# bestsellers_previous_week.pipe(lambda df: df[df['week']==96])\n",
    "bestsellers_previous_week"
   ],
   "metadata": {
    "papermill": {
     "duration": 0.089116,
     "end_time": "2022-04-16T16:59:28.399153",
     "exception": false,
     "start_time": "2022-04-16T16:59:28.310037",
     "status": "completed"
    },
    "tags": [],
    "execution": {
     "iopub.status.busy": "2023-10-11T08:03:25.642378Z",
     "iopub.execute_input": "2023-10-11T08:03:25.642812Z",
     "iopub.status.idle": "2023-10-11T08:03:25.654010Z",
     "shell.execute_reply.started": "2023-10-11T08:03:25.642753Z",
     "shell.execute_reply": "2023-10-11T08:03:25.653041Z"
    },
    "trusted": true,
    "ExecuteTime": {
     "end_time": "2023-12-17T04:23:57.325375900Z",
     "start_time": "2023-12-17T04:23:57.317458900Z"
    }
   },
   "execution_count": 108,
   "outputs": [
    {
     "data": {
      "text/plain": "      week  article_id  bestseller_rank     price\n0        1   685687003                1  0.016912\n1        1   685687001                2  0.016904\n2        1   685687004                3  0.016857\n3        1   685687002                4  0.016922\n4        1   562245001                5  0.023881\n...    ...         ...              ...       ...\n1255   105   915529003                8  0.033439\n1256   105   915529005                9  0.033417\n1257   105   448509014               10  0.041630\n1258   105   762846027               11  0.025005\n1259   105   714790020               12  0.049951\n\n[1260 rows x 4 columns]",
      "text/html": "<div>\n<style scoped>\n    .dataframe tbody tr th:only-of-type {\n        vertical-align: middle;\n    }\n\n    .dataframe tbody tr th {\n        vertical-align: top;\n    }\n\n    .dataframe thead th {\n        text-align: right;\n    }\n</style>\n<table border=\"1\" class=\"dataframe\">\n  <thead>\n    <tr style=\"text-align: right;\">\n      <th></th>\n      <th>week</th>\n      <th>article_id</th>\n      <th>bestseller_rank</th>\n      <th>price</th>\n    </tr>\n  </thead>\n  <tbody>\n    <tr>\n      <th>0</th>\n      <td>1</td>\n      <td>685687003</td>\n      <td>1</td>\n      <td>0.016912</td>\n    </tr>\n    <tr>\n      <th>1</th>\n      <td>1</td>\n      <td>685687001</td>\n      <td>2</td>\n      <td>0.016904</td>\n    </tr>\n    <tr>\n      <th>2</th>\n      <td>1</td>\n      <td>685687004</td>\n      <td>3</td>\n      <td>0.016857</td>\n    </tr>\n    <tr>\n      <th>3</th>\n      <td>1</td>\n      <td>685687002</td>\n      <td>4</td>\n      <td>0.016922</td>\n    </tr>\n    <tr>\n      <th>4</th>\n      <td>1</td>\n      <td>562245001</td>\n      <td>5</td>\n      <td>0.023881</td>\n    </tr>\n    <tr>\n      <th>...</th>\n      <td>...</td>\n      <td>...</td>\n      <td>...</td>\n      <td>...</td>\n    </tr>\n    <tr>\n      <th>1255</th>\n      <td>105</td>\n      <td>915529003</td>\n      <td>8</td>\n      <td>0.033439</td>\n    </tr>\n    <tr>\n      <th>1256</th>\n      <td>105</td>\n      <td>915529005</td>\n      <td>9</td>\n      <td>0.033417</td>\n    </tr>\n    <tr>\n      <th>1257</th>\n      <td>105</td>\n      <td>448509014</td>\n      <td>10</td>\n      <td>0.041630</td>\n    </tr>\n    <tr>\n      <th>1258</th>\n      <td>105</td>\n      <td>762846027</td>\n      <td>11</td>\n      <td>0.025005</td>\n    </tr>\n    <tr>\n      <th>1259</th>\n      <td>105</td>\n      <td>714790020</td>\n      <td>12</td>\n      <td>0.049951</td>\n    </tr>\n  </tbody>\n</table>\n<p>1260 rows × 4 columns</p>\n</div>"
     },
     "execution_count": 108,
     "metadata": {},
     "output_type": "execute_result"
    }
   ],
   "id": "38554d4d96501297"
  },
  {
   "cell_type": "code",
   "source": [
    "unique_transactions = transactions.groupby(['week', 'customer_id']).head(1).drop(columns=['article_id', 'price']).copy()\n",
    "candidates_bestsellers = pd.merge(unique_transactions, bestsellers_previous_week, on='week',)\n",
    "test_set_transactions = unique_transactions.drop_duplicates('customer_id').reset_index(drop=True)\n",
    "test_set_transactions.week = test_week"
   ],
   "metadata": {
    "papermill": {
     "duration": 0.163691,
     "end_time": "2022-04-16T16:59:30.668845",
     "exception": false,
     "start_time": "2022-04-16T16:59:30.505154",
     "status": "completed"
    },
    "tags": [],
    "execution": {
     "iopub.status.busy": "2023-10-11T08:03:27.233086Z",
     "iopub.execute_input": "2023-10-11T08:03:27.233759Z",
     "iopub.status.idle": "2023-10-11T08:03:27.290835Z",
     "shell.execute_reply.started": "2023-10-11T08:03:27.233720Z",
     "shell.execute_reply": "2023-10-11T08:03:27.290007Z"
    },
    "trusted": true,
    "ExecuteTime": {
     "end_time": "2023-12-17T04:24:04.341178Z",
     "start_time": "2023-12-17T04:23:57.322167200Z"
    }
   },
   "execution_count": 109,
   "outputs": [],
   "id": "43f6a7082fae2b06"
  },
  {
   "cell_type": "code",
   "execution_count": 110,
   "outputs": [],
   "source": [
    "# candidates_bestsellers"
   ],
   "metadata": {
    "collapsed": false,
    "ExecuteTime": {
     "end_time": "2023-12-17T04:24:04.344296Z",
     "start_time": "2023-12-17T04:24:04.341786700Z"
    }
   },
   "id": "a7ed7192b23479a4"
  },
  {
   "cell_type": "code",
   "source": [
    "# test_set_transactions\n",
    "# unique_transactions"
   ],
   "metadata": {
    "papermill": {
     "duration": 0.098295,
     "end_time": "2022-04-16T16:59:30.846626",
     "exception": false,
     "start_time": "2022-04-16T16:59:30.748331",
     "status": "completed"
    },
    "tags": [],
    "execution": {
     "iopub.status.busy": "2023-10-11T08:03:27.292596Z",
     "iopub.execute_input": "2023-10-11T08:03:27.293638Z",
     "iopub.status.idle": "2023-10-11T08:03:27.302090Z",
     "shell.execute_reply.started": "2023-10-11T08:03:27.293597Z",
     "shell.execute_reply": "2023-10-11T08:03:27.300846Z"
    },
    "trusted": true,
    "ExecuteTime": {
     "end_time": "2023-12-17T04:24:04.351352900Z",
     "start_time": "2023-12-17T04:24:04.343789300Z"
    }
   },
   "execution_count": 111,
   "outputs": [],
   "id": "2bee51c080e7d11d"
  },
  {
   "cell_type": "code",
   "source": [
    "candidates_bestsellers_test_week = pd.merge(test_set_transactions, bestsellers_previous_week, on='week')\n",
    "candidates_bestsellers = pd.concat([candidates_bestsellers, candidates_bestsellers_test_week])\n",
    "candidates_bestsellers.drop(columns='bestseller_rank', inplace=True)"
   ],
   "metadata": {
    "papermill": {
     "duration": 0.570441,
     "end_time": "2022-04-16T16:59:32.058855",
     "exception": false,
     "start_time": "2022-04-16T16:59:31.488414",
     "status": "completed"
    },
    "tags": [],
    "execution": {
     "iopub.status.busy": "2023-10-11T08:03:27.665568Z",
     "iopub.execute_input": "2023-10-11T08:03:27.666052Z",
     "iopub.status.idle": "2023-10-11T08:03:28.402619Z",
     "shell.execute_reply.started": "2023-10-11T08:03:27.666007Z",
     "shell.execute_reply": "2023-10-11T08:03:28.401580Z"
    },
    "trusted": true,
    "ExecuteTime": {
     "end_time": "2023-12-17T04:24:06.819756900Z",
     "start_time": "2023-12-17T04:24:04.347876200Z"
    }
   },
   "execution_count": 112,
   "outputs": [],
   "id": "99b980ad8b9e2dad"
  },
  {
   "cell_type": "code",
   "source": [
    "candidates_bestsellers"
   ],
   "metadata": {
    "papermill": {
     "duration": 0.095192,
     "end_time": "2022-04-16T16:59:32.233727",
     "exception": false,
     "start_time": "2022-04-16T16:59:32.138535",
     "status": "completed"
    },
    "tags": [],
    "execution": {
     "iopub.status.busy": "2023-10-11T08:03:28.403915Z",
     "iopub.execute_input": "2023-10-11T08:03:28.404325Z",
     "iopub.status.idle": "2023-10-11T08:03:28.412380Z",
     "shell.execute_reply.started": "2023-10-11T08:03:28.404290Z",
     "shell.execute_reply": "2023-10-11T08:03:28.411231Z"
    },
    "trusted": true,
    "ExecuteTime": {
     "end_time": "2023-12-17T04:24:06.830997Z",
     "start_time": "2023-12-17T04:24:06.819756900Z"
    }
   },
   "execution_count": 113,
   "outputs": [
    {
     "data": {
      "text/plain": "              t_dat           customer_id  sales_channel_id  week  article_id  \\\n0        2018-09-26       857913002275398                 1     1   685687003   \n1        2018-09-26       857913002275398                 1     1   685687001   \n2        2018-09-26       857913002275398                 1     1   685687004   \n3        2018-09-26       857913002275398                 1     1   685687002   \n4        2018-09-26       857913002275398                 1     1   562245001   \n...             ...                   ...               ...   ...         ...   \n16347367 2020-09-22  18417769707947924979                 2   105   915529003   \n16347368 2020-09-22  18417769707947924979                 2   105   915529005   \n16347369 2020-09-22  18417769707947924979                 2   105   448509014   \n16347370 2020-09-22  18417769707947924979                 2   105   762846027   \n16347371 2020-09-22  18417769707947924979                 2   105   714790020   \n\n             price  \n0         0.016912  \n1         0.016904  \n2         0.016857  \n3         0.016922  \n4         0.023881  \n...            ...  \n16347367  0.033439  \n16347368  0.033417  \n16347369  0.041630  \n16347370  0.025005  \n16347371  0.049951  \n\n[112482960 rows x 6 columns]",
      "text/html": "<div>\n<style scoped>\n    .dataframe tbody tr th:only-of-type {\n        vertical-align: middle;\n    }\n\n    .dataframe tbody tr th {\n        vertical-align: top;\n    }\n\n    .dataframe thead th {\n        text-align: right;\n    }\n</style>\n<table border=\"1\" class=\"dataframe\">\n  <thead>\n    <tr style=\"text-align: right;\">\n      <th></th>\n      <th>t_dat</th>\n      <th>customer_id</th>\n      <th>sales_channel_id</th>\n      <th>week</th>\n      <th>article_id</th>\n      <th>price</th>\n    </tr>\n  </thead>\n  <tbody>\n    <tr>\n      <th>0</th>\n      <td>2018-09-26</td>\n      <td>857913002275398</td>\n      <td>1</td>\n      <td>1</td>\n      <td>685687003</td>\n      <td>0.016912</td>\n    </tr>\n    <tr>\n      <th>1</th>\n      <td>2018-09-26</td>\n      <td>857913002275398</td>\n      <td>1</td>\n      <td>1</td>\n      <td>685687001</td>\n      <td>0.016904</td>\n    </tr>\n    <tr>\n      <th>2</th>\n      <td>2018-09-26</td>\n      <td>857913002275398</td>\n      <td>1</td>\n      <td>1</td>\n      <td>685687004</td>\n      <td>0.016857</td>\n    </tr>\n    <tr>\n      <th>3</th>\n      <td>2018-09-26</td>\n      <td>857913002275398</td>\n      <td>1</td>\n      <td>1</td>\n      <td>685687002</td>\n      <td>0.016922</td>\n    </tr>\n    <tr>\n      <th>4</th>\n      <td>2018-09-26</td>\n      <td>857913002275398</td>\n      <td>1</td>\n      <td>1</td>\n      <td>562245001</td>\n      <td>0.023881</td>\n    </tr>\n    <tr>\n      <th>...</th>\n      <td>...</td>\n      <td>...</td>\n      <td>...</td>\n      <td>...</td>\n      <td>...</td>\n      <td>...</td>\n    </tr>\n    <tr>\n      <th>16347367</th>\n      <td>2020-09-22</td>\n      <td>18417769707947924979</td>\n      <td>2</td>\n      <td>105</td>\n      <td>915529003</td>\n      <td>0.033439</td>\n    </tr>\n    <tr>\n      <th>16347368</th>\n      <td>2020-09-22</td>\n      <td>18417769707947924979</td>\n      <td>2</td>\n      <td>105</td>\n      <td>915529005</td>\n      <td>0.033417</td>\n    </tr>\n    <tr>\n      <th>16347369</th>\n      <td>2020-09-22</td>\n      <td>18417769707947924979</td>\n      <td>2</td>\n      <td>105</td>\n      <td>448509014</td>\n      <td>0.041630</td>\n    </tr>\n    <tr>\n      <th>16347370</th>\n      <td>2020-09-22</td>\n      <td>18417769707947924979</td>\n      <td>2</td>\n      <td>105</td>\n      <td>762846027</td>\n      <td>0.025005</td>\n    </tr>\n    <tr>\n      <th>16347371</th>\n      <td>2020-09-22</td>\n      <td>18417769707947924979</td>\n      <td>2</td>\n      <td>105</td>\n      <td>714790020</td>\n      <td>0.049951</td>\n    </tr>\n  </tbody>\n</table>\n<p>112482960 rows × 6 columns</p>\n</div>"
     },
     "execution_count": 113,
     "metadata": {},
     "output_type": "execute_result"
    }
   ],
   "id": "8ca62bd46a28d851"
  },
  {
   "cell_type": "markdown",
   "source": [
    "# Combining transactions and candidates / negative examples"
   ],
   "metadata": {
    "papermill": {
     "duration": 0.08208,
     "end_time": "2022-04-16T16:59:32.397198",
     "exception": false,
     "start_time": "2022-04-16T16:59:32.315118",
     "status": "completed"
    },
    "tags": []
   },
   "id": "88415118080fdaed"
  },
  {
   "cell_type": "code",
   "source": [
    "transactions['purchased'] = 1\n",
    "data = pd.concat([transactions, candidates_last_purchase, candidates_bestsellers])\n",
    "data.purchased.fillna(0, inplace=True)\n",
    "data.drop_duplicates(['customer_id', 'article_id', 'week'], inplace=True)"
   ],
   "metadata": {
    "papermill": {
     "duration": 7.070271,
     "end_time": "2022-04-16T16:59:40.552624",
     "exception": false,
     "start_time": "2022-04-16T16:59:33.482353",
     "status": "completed"
    },
    "tags": [],
    "execution": {
     "iopub.status.busy": "2023-10-11T08:03:29.013858Z",
     "iopub.execute_input": "2023-10-11T08:03:29.014298Z",
     "iopub.status.idle": "2023-10-11T08:03:35.907805Z",
     "shell.execute_reply.started": "2023-10-11T08:03:29.014259Z",
     "shell.execute_reply": "2023-10-11T08:03:35.906630Z"
    },
    "trusted": true,
    "ExecuteTime": {
     "end_time": "2023-12-17T04:24:36.340874500Z",
     "start_time": "2023-12-17T04:24:06.831494300Z"
    }
   },
   "execution_count": 114,
   "outputs": [],
   "id": "79abce01eb35c392"
  },
  {
   "cell_type": "code",
   "execution_count": 115,
   "outputs": [
    {
     "data": {
      "text/plain": "              t_dat           customer_id  article_id     price  \\\n25784    2018-09-20      1728846800780188   519773001  0.028458   \n25785    2018-09-20      1728846800780188   578472001  0.032525   \n5389     2018-09-20      2076973761519164   661795002  0.167797   \n5390     2018-09-20      2076973761519164   684080003  0.101678   \n47429    2018-09-20      2918879973994241   662980001  0.033881   \n...             ...                   ...         ...       ...   \n16347367 2020-09-22  18417769707947924979   915529003  0.033439   \n16347368 2020-09-22  18417769707947924979   915529005  0.033417   \n16347369 2020-09-22  18417769707947924979   448509014  0.041630   \n16347370 2020-09-22  18417769707947924979   762846027  0.025005   \n16347371 2020-09-22  18417769707947924979   714790020  0.049951   \n\n          sales_channel_id  week  purchased  \n25784                    2     0        1.0  \n25785                    2     0        1.0  \n5389                     2     0        1.0  \n5390                     2     0        1.0  \n47429                    1     0        1.0  \n...                    ...   ...        ...  \n16347367                 2   105        0.0  \n16347368                 2   105        0.0  \n16347369                 2   105        0.0  \n16347370                 2   105        0.0  \n16347371                 2   105        0.0  \n\n[142738044 rows x 7 columns]",
      "text/html": "<div>\n<style scoped>\n    .dataframe tbody tr th:only-of-type {\n        vertical-align: middle;\n    }\n\n    .dataframe tbody tr th {\n        vertical-align: top;\n    }\n\n    .dataframe thead th {\n        text-align: right;\n    }\n</style>\n<table border=\"1\" class=\"dataframe\">\n  <thead>\n    <tr style=\"text-align: right;\">\n      <th></th>\n      <th>t_dat</th>\n      <th>customer_id</th>\n      <th>article_id</th>\n      <th>price</th>\n      <th>sales_channel_id</th>\n      <th>week</th>\n      <th>purchased</th>\n    </tr>\n  </thead>\n  <tbody>\n    <tr>\n      <th>25784</th>\n      <td>2018-09-20</td>\n      <td>1728846800780188</td>\n      <td>519773001</td>\n      <td>0.028458</td>\n      <td>2</td>\n      <td>0</td>\n      <td>1.0</td>\n    </tr>\n    <tr>\n      <th>25785</th>\n      <td>2018-09-20</td>\n      <td>1728846800780188</td>\n      <td>578472001</td>\n      <td>0.032525</td>\n      <td>2</td>\n      <td>0</td>\n      <td>1.0</td>\n    </tr>\n    <tr>\n      <th>5389</th>\n      <td>2018-09-20</td>\n      <td>2076973761519164</td>\n      <td>661795002</td>\n      <td>0.167797</td>\n      <td>2</td>\n      <td>0</td>\n      <td>1.0</td>\n    </tr>\n    <tr>\n      <th>5390</th>\n      <td>2018-09-20</td>\n      <td>2076973761519164</td>\n      <td>684080003</td>\n      <td>0.101678</td>\n      <td>2</td>\n      <td>0</td>\n      <td>1.0</td>\n    </tr>\n    <tr>\n      <th>47429</th>\n      <td>2018-09-20</td>\n      <td>2918879973994241</td>\n      <td>662980001</td>\n      <td>0.033881</td>\n      <td>1</td>\n      <td>0</td>\n      <td>1.0</td>\n    </tr>\n    <tr>\n      <th>...</th>\n      <td>...</td>\n      <td>...</td>\n      <td>...</td>\n      <td>...</td>\n      <td>...</td>\n      <td>...</td>\n      <td>...</td>\n    </tr>\n    <tr>\n      <th>16347367</th>\n      <td>2020-09-22</td>\n      <td>18417769707947924979</td>\n      <td>915529003</td>\n      <td>0.033439</td>\n      <td>2</td>\n      <td>105</td>\n      <td>0.0</td>\n    </tr>\n    <tr>\n      <th>16347368</th>\n      <td>2020-09-22</td>\n      <td>18417769707947924979</td>\n      <td>915529005</td>\n      <td>0.033417</td>\n      <td>2</td>\n      <td>105</td>\n      <td>0.0</td>\n    </tr>\n    <tr>\n      <th>16347369</th>\n      <td>2020-09-22</td>\n      <td>18417769707947924979</td>\n      <td>448509014</td>\n      <td>0.041630</td>\n      <td>2</td>\n      <td>105</td>\n      <td>0.0</td>\n    </tr>\n    <tr>\n      <th>16347370</th>\n      <td>2020-09-22</td>\n      <td>18417769707947924979</td>\n      <td>762846027</td>\n      <td>0.025005</td>\n      <td>2</td>\n      <td>105</td>\n      <td>0.0</td>\n    </tr>\n    <tr>\n      <th>16347371</th>\n      <td>2020-09-22</td>\n      <td>18417769707947924979</td>\n      <td>714790020</td>\n      <td>0.049951</td>\n      <td>2</td>\n      <td>105</td>\n      <td>0.0</td>\n    </tr>\n  </tbody>\n</table>\n<p>142738044 rows × 7 columns</p>\n</div>"
     },
     "execution_count": 115,
     "metadata": {},
     "output_type": "execute_result"
    }
   ],
   "source": [
    "data"
   ],
   "metadata": {
    "collapsed": false,
    "ExecuteTime": {
     "end_time": "2023-12-17T04:24:36.349729700Z",
     "start_time": "2023-12-17T04:24:36.340874500Z"
    }
   },
   "id": "3cc9ba36fcd3d3b0"
  },
  {
   "cell_type": "markdown",
   "source": [
    "### Add bestseller information"
   ],
   "metadata": {
    "papermill": {
     "duration": 0.085919,
     "end_time": "2022-04-16T16:59:40.938934",
     "exception": false,
     "start_time": "2022-04-16T16:59:40.853015",
     "status": "completed"
    },
    "tags": []
   },
   "id": "43c893713e721c04"
  },
  {
   "cell_type": "code",
   "source": [
    "data = pd.merge(\n",
    "    data,\n",
    "    bestsellers_previous_week[['week', 'article_id', 'bestseller_rank']],\n",
    "    on=['week', 'article_id'],\n",
    "    how='left'\n",
    ")\n",
    "data = data[data.week != data.week.min()]\n",
    "data.bestseller_rank.fillna(999, inplace=True)\n",
    "data = pd.merge(data, articles, on='article_id', how='left')\n",
    "data = pd.merge(data, customers, on='customer_id', how='left')\n",
    "data.sort_values(['week', 'customer_id'], inplace=True)\n",
    "data.reset_index(drop=True, inplace=True)"
   ],
   "metadata": {
    "papermill": {
     "duration": 6.526551,
     "end_time": "2022-04-16T17:00:17.700139",
     "exception": false,
     "start_time": "2022-04-16T17:00:11.173588",
     "status": "completed"
    },
    "tags": [],
    "execution": {
     "iopub.status.busy": "2023-10-11T08:03:53.360623Z",
     "iopub.execute_input": "2023-10-11T08:03:53.361255Z",
     "iopub.status.idle": "2023-10-11T08:03:58.996101Z",
     "shell.execute_reply.started": "2023-10-11T08:03:53.361181Z",
     "shell.execute_reply": "2023-10-11T08:03:58.994878Z"
    },
    "trusted": true,
    "ExecuteTime": {
     "end_time": "2023-12-17T04:25:43.719301500Z",
     "start_time": "2023-12-17T04:24:36.346702400Z"
    }
   },
   "execution_count": 116,
   "outputs": [],
   "id": "cf878ef12e8a2606"
  },
  {
   "cell_type": "code",
   "source": [
    "train = data[data.week != test_week]\n",
    "test = data[data.week==test_week].drop_duplicates(['customer_id', 'article_id', 'sales_channel_id']).copy()"
   ],
   "metadata": {
    "papermill": {
     "duration": 6.711593,
     "end_time": "2022-04-16T17:00:24.465301",
     "exception": false,
     "start_time": "2022-04-16T17:00:17.753708",
     "status": "completed"
    },
    "tags": [],
    "execution": {
     "iopub.status.busy": "2023-10-11T08:03:58.997487Z",
     "iopub.execute_input": "2023-10-11T08:03:58.998061Z",
     "iopub.status.idle": "2023-10-11T08:04:05.048167Z",
     "shell.execute_reply.started": "2023-10-11T08:03:58.998031Z",
     "shell.execute_reply": "2023-10-11T08:04:05.046865Z"
    },
    "trusted": true,
    "ExecuteTime": {
     "end_time": "2023-12-17T04:25:55.830890Z",
     "start_time": "2023-12-17T04:25:43.719301500Z"
    }
   },
   "execution_count": 117,
   "outputs": [],
   "id": "9918b84796200b6e"
  },
  {
   "cell_type": "code",
   "execution_count": 118,
   "outputs": [
    {
     "data": {
      "text/plain": "               t_dat           customer_id  article_id     price  \\\n124800519 2020-04-10         4245900472157   924243001  0.041535   \n124800520 2020-04-10         4245900472157   924243002  0.041877   \n124800521 2020-04-10         4245900472157   918522001  0.041435   \n124800522 2020-04-10         4245900472157   923758001  0.033462   \n124800523 2020-04-10         4245900472157   866731001  0.025015   \n...              ...                   ...         ...       ...   \n142509656 2018-09-29  18446737527580148316   915529003  0.033439   \n142509657 2018-09-29  18446737527580148316   915529005  0.033417   \n142509658 2018-09-29  18446737527580148316   448509014  0.041630   \n142509659 2018-09-29  18446737527580148316   762846027  0.025005   \n142509660 2018-09-29  18446737527580148316   714790020  0.049951   \n\n           sales_channel_id  week  purchased  bestseller_rank  product_code  \\\n124800519                 2   105        0.0              1.0        924243   \n124800520                 2   105        0.0              2.0        924243   \n124800521                 2   105        0.0              3.0        918522   \n124800522                 2   105        0.0              4.0        923758   \n124800523                 2   105        0.0              5.0        866731   \n...                     ...   ...        ...              ...           ...   \n142509656                 1   105        0.0              8.0        915529   \n142509657                 1   105        0.0              9.0        915529   \n142509658                 1   105        0.0             10.0        448509   \n142509659                 1   105        0.0             11.0        762846   \n142509660                 1   105        0.0             12.0        714790   \n\n           prod_name  ...  section_name  garment_group_no  garment_group_name  \\\n124800519      19190  ...             0              1003                   3   \n124800520      19190  ...             0              1003                   3   \n124800521      26372  ...             0              1003                   3   \n124800522      19359  ...             0              1010                   6   \n124800523       3609  ...            21              1005                   0   \n...              ...  ...           ...               ...                 ...   \n142509656       7046  ...             0              1003                   3   \n142509657       7046  ...             0              1003                   3   \n142509658        259  ...             1              1009                   5   \n142509659        472  ...             7              1010                   6   \n142509660       4354  ...            37              1016                  11   \n\n           detail_desc  FN  Active  club_member_status  \\\n124800519        13007  -1      -1                   0   \n124800520        13007  -1      -1                   0   \n124800521        28633  -1      -1                   0   \n124800522        27869  -1      -1                   0   \n124800523         3130  -1      -1                   0   \n...                ...  ..     ...                 ...   \n142509656        10909   1       1                   0   \n142509657        10909   1       1                   0   \n142509658          255   1       1                   0   \n142509659          492   1       1                   0   \n142509660          856   1       1                   0   \n\n           fashion_news_frequency  age  postal_code  \n124800519                       0   21        64922  \n124800520                       0   21        64922  \n124800521                       0   21        64922  \n124800522                       0   21        64922  \n124800523                       0   21        64922  \n...                           ...  ...          ...  \n142509656                       1   60        96323  \n142509657                       1   60        96323  \n142509658                       1   60        96323  \n142509659                       1   60        96323  \n142509660                       1   60        96323  \n\n[17709142 rows x 38 columns]",
      "text/html": "<div>\n<style scoped>\n    .dataframe tbody tr th:only-of-type {\n        vertical-align: middle;\n    }\n\n    .dataframe tbody tr th {\n        vertical-align: top;\n    }\n\n    .dataframe thead th {\n        text-align: right;\n    }\n</style>\n<table border=\"1\" class=\"dataframe\">\n  <thead>\n    <tr style=\"text-align: right;\">\n      <th></th>\n      <th>t_dat</th>\n      <th>customer_id</th>\n      <th>article_id</th>\n      <th>price</th>\n      <th>sales_channel_id</th>\n      <th>week</th>\n      <th>purchased</th>\n      <th>bestseller_rank</th>\n      <th>product_code</th>\n      <th>prod_name</th>\n      <th>...</th>\n      <th>section_name</th>\n      <th>garment_group_no</th>\n      <th>garment_group_name</th>\n      <th>detail_desc</th>\n      <th>FN</th>\n      <th>Active</th>\n      <th>club_member_status</th>\n      <th>fashion_news_frequency</th>\n      <th>age</th>\n      <th>postal_code</th>\n    </tr>\n  </thead>\n  <tbody>\n    <tr>\n      <th>124800519</th>\n      <td>2020-04-10</td>\n      <td>4245900472157</td>\n      <td>924243001</td>\n      <td>0.041535</td>\n      <td>2</td>\n      <td>105</td>\n      <td>0.0</td>\n      <td>1.0</td>\n      <td>924243</td>\n      <td>19190</td>\n      <td>...</td>\n      <td>0</td>\n      <td>1003</td>\n      <td>3</td>\n      <td>13007</td>\n      <td>-1</td>\n      <td>-1</td>\n      <td>0</td>\n      <td>0</td>\n      <td>21</td>\n      <td>64922</td>\n    </tr>\n    <tr>\n      <th>124800520</th>\n      <td>2020-04-10</td>\n      <td>4245900472157</td>\n      <td>924243002</td>\n      <td>0.041877</td>\n      <td>2</td>\n      <td>105</td>\n      <td>0.0</td>\n      <td>2.0</td>\n      <td>924243</td>\n      <td>19190</td>\n      <td>...</td>\n      <td>0</td>\n      <td>1003</td>\n      <td>3</td>\n      <td>13007</td>\n      <td>-1</td>\n      <td>-1</td>\n      <td>0</td>\n      <td>0</td>\n      <td>21</td>\n      <td>64922</td>\n    </tr>\n    <tr>\n      <th>124800521</th>\n      <td>2020-04-10</td>\n      <td>4245900472157</td>\n      <td>918522001</td>\n      <td>0.041435</td>\n      <td>2</td>\n      <td>105</td>\n      <td>0.0</td>\n      <td>3.0</td>\n      <td>918522</td>\n      <td>26372</td>\n      <td>...</td>\n      <td>0</td>\n      <td>1003</td>\n      <td>3</td>\n      <td>28633</td>\n      <td>-1</td>\n      <td>-1</td>\n      <td>0</td>\n      <td>0</td>\n      <td>21</td>\n      <td>64922</td>\n    </tr>\n    <tr>\n      <th>124800522</th>\n      <td>2020-04-10</td>\n      <td>4245900472157</td>\n      <td>923758001</td>\n      <td>0.033462</td>\n      <td>2</td>\n      <td>105</td>\n      <td>0.0</td>\n      <td>4.0</td>\n      <td>923758</td>\n      <td>19359</td>\n      <td>...</td>\n      <td>0</td>\n      <td>1010</td>\n      <td>6</td>\n      <td>27869</td>\n      <td>-1</td>\n      <td>-1</td>\n      <td>0</td>\n      <td>0</td>\n      <td>21</td>\n      <td>64922</td>\n    </tr>\n    <tr>\n      <th>124800523</th>\n      <td>2020-04-10</td>\n      <td>4245900472157</td>\n      <td>866731001</td>\n      <td>0.025015</td>\n      <td>2</td>\n      <td>105</td>\n      <td>0.0</td>\n      <td>5.0</td>\n      <td>866731</td>\n      <td>3609</td>\n      <td>...</td>\n      <td>21</td>\n      <td>1005</td>\n      <td>0</td>\n      <td>3130</td>\n      <td>-1</td>\n      <td>-1</td>\n      <td>0</td>\n      <td>0</td>\n      <td>21</td>\n      <td>64922</td>\n    </tr>\n    <tr>\n      <th>...</th>\n      <td>...</td>\n      <td>...</td>\n      <td>...</td>\n      <td>...</td>\n      <td>...</td>\n      <td>...</td>\n      <td>...</td>\n      <td>...</td>\n      <td>...</td>\n      <td>...</td>\n      <td>...</td>\n      <td>...</td>\n      <td>...</td>\n      <td>...</td>\n      <td>...</td>\n      <td>...</td>\n      <td>...</td>\n      <td>...</td>\n      <td>...</td>\n      <td>...</td>\n      <td>...</td>\n    </tr>\n    <tr>\n      <th>142509656</th>\n      <td>2018-09-29</td>\n      <td>18446737527580148316</td>\n      <td>915529003</td>\n      <td>0.033439</td>\n      <td>1</td>\n      <td>105</td>\n      <td>0.0</td>\n      <td>8.0</td>\n      <td>915529</td>\n      <td>7046</td>\n      <td>...</td>\n      <td>0</td>\n      <td>1003</td>\n      <td>3</td>\n      <td>10909</td>\n      <td>1</td>\n      <td>1</td>\n      <td>0</td>\n      <td>1</td>\n      <td>60</td>\n      <td>96323</td>\n    </tr>\n    <tr>\n      <th>142509657</th>\n      <td>2018-09-29</td>\n      <td>18446737527580148316</td>\n      <td>915529005</td>\n      <td>0.033417</td>\n      <td>1</td>\n      <td>105</td>\n      <td>0.0</td>\n      <td>9.0</td>\n      <td>915529</td>\n      <td>7046</td>\n      <td>...</td>\n      <td>0</td>\n      <td>1003</td>\n      <td>3</td>\n      <td>10909</td>\n      <td>1</td>\n      <td>1</td>\n      <td>0</td>\n      <td>1</td>\n      <td>60</td>\n      <td>96323</td>\n    </tr>\n    <tr>\n      <th>142509658</th>\n      <td>2018-09-29</td>\n      <td>18446737527580148316</td>\n      <td>448509014</td>\n      <td>0.041630</td>\n      <td>1</td>\n      <td>105</td>\n      <td>0.0</td>\n      <td>10.0</td>\n      <td>448509</td>\n      <td>259</td>\n      <td>...</td>\n      <td>1</td>\n      <td>1009</td>\n      <td>5</td>\n      <td>255</td>\n      <td>1</td>\n      <td>1</td>\n      <td>0</td>\n      <td>1</td>\n      <td>60</td>\n      <td>96323</td>\n    </tr>\n    <tr>\n      <th>142509659</th>\n      <td>2018-09-29</td>\n      <td>18446737527580148316</td>\n      <td>762846027</td>\n      <td>0.025005</td>\n      <td>1</td>\n      <td>105</td>\n      <td>0.0</td>\n      <td>11.0</td>\n      <td>762846</td>\n      <td>472</td>\n      <td>...</td>\n      <td>7</td>\n      <td>1010</td>\n      <td>6</td>\n      <td>492</td>\n      <td>1</td>\n      <td>1</td>\n      <td>0</td>\n      <td>1</td>\n      <td>60</td>\n      <td>96323</td>\n    </tr>\n    <tr>\n      <th>142509660</th>\n      <td>2018-09-29</td>\n      <td>18446737527580148316</td>\n      <td>714790020</td>\n      <td>0.049951</td>\n      <td>1</td>\n      <td>105</td>\n      <td>0.0</td>\n      <td>12.0</td>\n      <td>714790</td>\n      <td>4354</td>\n      <td>...</td>\n      <td>37</td>\n      <td>1016</td>\n      <td>11</td>\n      <td>856</td>\n      <td>1</td>\n      <td>1</td>\n      <td>0</td>\n      <td>1</td>\n      <td>60</td>\n      <td>96323</td>\n    </tr>\n  </tbody>\n</table>\n<p>17709142 rows × 38 columns</p>\n</div>"
     },
     "execution_count": 118,
     "metadata": {},
     "output_type": "execute_result"
    }
   ],
   "source": [
    "test"
   ],
   "metadata": {
    "collapsed": false,
    "ExecuteTime": {
     "end_time": "2023-12-17T04:25:57.062833500Z",
     "start_time": "2023-12-17T04:25:55.844063400Z"
    }
   },
   "id": "47ce2142709fb910"
  },
  {
   "cell_type": "code",
   "source": [
    "train_baskets = train.groupby(['week', 'customer_id'])['article_id'].count().values"
   ],
   "metadata": {
    "papermill": {
     "duration": 1.036818,
     "end_time": "2022-04-16T17:00:25.556300",
     "exception": false,
     "start_time": "2022-04-16T17:00:24.519482",
     "status": "completed"
    },
    "tags": [],
    "execution": {
     "iopub.status.busy": "2023-10-11T08:04:05.049936Z",
     "iopub.execute_input": "2023-10-11T08:04:05.050282Z",
     "iopub.status.idle": "2023-10-11T08:04:05.826591Z",
     "shell.execute_reply.started": "2023-10-11T08:04:05.050248Z",
     "shell.execute_reply": "2023-10-11T08:04:05.825128Z"
    },
    "trusted": true,
    "ExecuteTime": {
     "end_time": "2023-12-17T04:26:01.789393600Z",
     "start_time": "2023-12-17T04:25:57.062833500Z"
    }
   },
   "execution_count": 119,
   "outputs": [],
   "id": "ba7d814dbd464026"
  },
  {
   "cell_type": "code",
   "execution_count": 120,
   "outputs": [
    {
     "data": {
      "text/plain": "array([18, 13, 17, ..., 14, 19, 16], dtype=int64)"
     },
     "execution_count": 120,
     "metadata": {},
     "output_type": "execute_result"
    }
   ],
   "source": [
    "train_baskets"
   ],
   "metadata": {
    "collapsed": false,
    "ExecuteTime": {
     "end_time": "2023-12-17T04:26:01.792934800Z",
     "start_time": "2023-12-17T04:26:01.790883400Z"
    }
   },
   "id": "d0a803dd40f2a38b"
  },
  {
   "cell_type": "code",
   "source": [
    "extra_columns = []\n",
    "columns_to_use = ['article_id', 'product_type_no', 'graphical_appearance_no', 'colour_group_code', 'perceived_colour_value_id',\n",
    "'perceived_colour_master_id', 'department_no', 'index_code',\n",
    "'index_group_no', 'section_no', 'garment_group_no', 'FN', 'Active',\n",
    "'club_member_status', 'fashion_news_frequency', 'age', 'postal_code', 'bestseller_rank']\n",
    "columns_to_use.extend(extra_columns)"
   ],
   "metadata": {
    "papermill": {
     "duration": 0.070485,
     "end_time": "2022-04-16T17:00:25.687322",
     "exception": false,
     "start_time": "2022-04-16T17:00:25.616837",
     "status": "completed"
    },
    "tags": [],
    "execution": {
     "iopub.status.busy": "2023-10-11T08:04:05.828276Z",
     "iopub.execute_input": "2023-10-11T08:04:05.828819Z",
     "iopub.status.idle": "2023-10-11T08:04:05.834579Z",
     "shell.execute_reply.started": "2023-10-11T08:04:05.828659Z",
     "shell.execute_reply": "2023-10-11T08:04:05.833394Z"
    },
    "trusted": true,
    "ExecuteTime": {
     "end_time": "2023-12-17T04:26:01.796459400Z",
     "start_time": "2023-12-17T04:26:01.792438200Z"
    }
   },
   "execution_count": 121,
   "outputs": [],
   "id": "a24741570390faec"
  },
  {
   "cell_type": "code",
   "source": [
    "train_X = train[columns_to_use]\n",
    "train_y = train['purchased']\n",
    "\n",
    "test_X = test[columns_to_use]"
   ],
   "metadata": {
    "papermill": {
     "duration": 0.633318,
     "end_time": "2022-04-16T17:00:26.379109",
     "exception": false,
     "start_time": "2022-04-16T17:00:25.745791",
     "status": "completed"
    },
    "tags": [],
    "execution": {
     "iopub.status.busy": "2023-10-11T08:04:05.835768Z",
     "iopub.execute_input": "2023-10-11T08:04:05.836432Z",
     "iopub.status.idle": "2023-10-11T08:04:06.660128Z",
     "shell.execute_reply.started": "2023-10-11T08:04:05.836399Z",
     "shell.execute_reply": "2023-10-11T08:04:06.658324Z"
    },
    "trusted": true,
    "ExecuteTime": {
     "end_time": "2023-12-17T04:26:03.762953400Z",
     "start_time": "2023-12-17T04:26:01.796459400Z"
    }
   },
   "execution_count": 122,
   "outputs": [],
   "id": "84918c306f6c2fbf"
  },
  {
   "cell_type": "code",
   "source": [
    "test_X"
   ],
   "metadata": {
    "execution": {
     "iopub.status.busy": "2023-10-11T08:04:06.661241Z",
     "iopub.status.idle": "2023-10-11T08:04:06.661650Z",
     "shell.execute_reply.started": "2023-10-11T08:04:06.661472Z",
     "shell.execute_reply": "2023-10-11T08:04:06.661490Z"
    },
    "trusted": true,
    "ExecuteTime": {
     "end_time": "2023-12-17T04:26:03.771289200Z",
     "start_time": "2023-12-17T04:26:03.764463600Z"
    }
   },
   "execution_count": 123,
   "outputs": [
    {
     "data": {
      "text/plain": "           article_id  product_type_no  graphical_appearance_no  \\\n124800519   924243001              252                  1010016   \n124800520   924243002              252                  1010016   \n124800521   918522001              252                  1010016   \n124800522   923758001               -1                  1010016   \n124800523   866731001              273                  1010016   \n...               ...              ...                      ...   \n142509656   915529003              252                  1010016   \n142509657   915529005              252                  1010016   \n142509658   448509014              272                  1010016   \n142509659   762846027              259                  1010016   \n142509660   714790020              272                  1010023   \n\n           colour_group_code  perceived_colour_value_id  \\\n124800519                 13                          1   \n124800520                  9                          4   \n124800521                 11                          3   \n124800522                 10                          3   \n124800523                  9                          4   \n...                      ...                        ...   \n142509656                  9                          4   \n142509657                 13                          1   \n142509658                 72                          3   \n142509659                 13                          1   \n142509660                 72                          2   \n\n           perceived_colour_master_id  department_no  index_code  \\\n124800519                           1           1626           0   \n124800520                           5           1626           0   \n124800521                           9           1626           0   \n124800522                           9           1522           0   \n124800523                           5           8310           9   \n...                               ...            ...         ...   \n142509656                           5           1626           0   \n142509657                           1           1626           0   \n142509658                           2           1747           1   \n142509659                           1           1515           0   \n142509660                           2           1772           1   \n\n           index_group_no  section_no  garment_group_no  FN  Active  \\\n124800519               1          15              1003  -1      -1   \n124800520               1          15              1003  -1      -1   \n124800521               1          15              1003  -1      -1   \n124800522               1          15              1010  -1      -1   \n124800523              26           5              1005  -1      -1   \n...                   ...         ...               ...  ..     ...   \n142509656               1          15              1003   1       1   \n142509657               1          15              1003   1       1   \n142509658               2          53              1009   1       1   \n142509659               1          11              1010   1       1   \n142509660               2          57              1016   1       1   \n\n           club_member_status  fashion_news_frequency  age  postal_code  \\\n124800519                   0                       0   21        64922   \n124800520                   0                       0   21        64922   \n124800521                   0                       0   21        64922   \n124800522                   0                       0   21        64922   \n124800523                   0                       0   21        64922   \n...                       ...                     ...  ...          ...   \n142509656                   0                       1   60        96323   \n142509657                   0                       1   60        96323   \n142509658                   0                       1   60        96323   \n142509659                   0                       1   60        96323   \n142509660                   0                       1   60        96323   \n\n           bestseller_rank  \n124800519              1.0  \n124800520              2.0  \n124800521              3.0  \n124800522              4.0  \n124800523              5.0  \n...                    ...  \n142509656              8.0  \n142509657              9.0  \n142509658             10.0  \n142509659             11.0  \n142509660             12.0  \n\n[17709142 rows x 18 columns]",
      "text/html": "<div>\n<style scoped>\n    .dataframe tbody tr th:only-of-type {\n        vertical-align: middle;\n    }\n\n    .dataframe tbody tr th {\n        vertical-align: top;\n    }\n\n    .dataframe thead th {\n        text-align: right;\n    }\n</style>\n<table border=\"1\" class=\"dataframe\">\n  <thead>\n    <tr style=\"text-align: right;\">\n      <th></th>\n      <th>article_id</th>\n      <th>product_type_no</th>\n      <th>graphical_appearance_no</th>\n      <th>colour_group_code</th>\n      <th>perceived_colour_value_id</th>\n      <th>perceived_colour_master_id</th>\n      <th>department_no</th>\n      <th>index_code</th>\n      <th>index_group_no</th>\n      <th>section_no</th>\n      <th>garment_group_no</th>\n      <th>FN</th>\n      <th>Active</th>\n      <th>club_member_status</th>\n      <th>fashion_news_frequency</th>\n      <th>age</th>\n      <th>postal_code</th>\n      <th>bestseller_rank</th>\n    </tr>\n  </thead>\n  <tbody>\n    <tr>\n      <th>124800519</th>\n      <td>924243001</td>\n      <td>252</td>\n      <td>1010016</td>\n      <td>13</td>\n      <td>1</td>\n      <td>1</td>\n      <td>1626</td>\n      <td>0</td>\n      <td>1</td>\n      <td>15</td>\n      <td>1003</td>\n      <td>-1</td>\n      <td>-1</td>\n      <td>0</td>\n      <td>0</td>\n      <td>21</td>\n      <td>64922</td>\n      <td>1.0</td>\n    </tr>\n    <tr>\n      <th>124800520</th>\n      <td>924243002</td>\n      <td>252</td>\n      <td>1010016</td>\n      <td>9</td>\n      <td>4</td>\n      <td>5</td>\n      <td>1626</td>\n      <td>0</td>\n      <td>1</td>\n      <td>15</td>\n      <td>1003</td>\n      <td>-1</td>\n      <td>-1</td>\n      <td>0</td>\n      <td>0</td>\n      <td>21</td>\n      <td>64922</td>\n      <td>2.0</td>\n    </tr>\n    <tr>\n      <th>124800521</th>\n      <td>918522001</td>\n      <td>252</td>\n      <td>1010016</td>\n      <td>11</td>\n      <td>3</td>\n      <td>9</td>\n      <td>1626</td>\n      <td>0</td>\n      <td>1</td>\n      <td>15</td>\n      <td>1003</td>\n      <td>-1</td>\n      <td>-1</td>\n      <td>0</td>\n      <td>0</td>\n      <td>21</td>\n      <td>64922</td>\n      <td>3.0</td>\n    </tr>\n    <tr>\n      <th>124800522</th>\n      <td>923758001</td>\n      <td>-1</td>\n      <td>1010016</td>\n      <td>10</td>\n      <td>3</td>\n      <td>9</td>\n      <td>1522</td>\n      <td>0</td>\n      <td>1</td>\n      <td>15</td>\n      <td>1010</td>\n      <td>-1</td>\n      <td>-1</td>\n      <td>0</td>\n      <td>0</td>\n      <td>21</td>\n      <td>64922</td>\n      <td>4.0</td>\n    </tr>\n    <tr>\n      <th>124800523</th>\n      <td>866731001</td>\n      <td>273</td>\n      <td>1010016</td>\n      <td>9</td>\n      <td>4</td>\n      <td>5</td>\n      <td>8310</td>\n      <td>9</td>\n      <td>26</td>\n      <td>5</td>\n      <td>1005</td>\n      <td>-1</td>\n      <td>-1</td>\n      <td>0</td>\n      <td>0</td>\n      <td>21</td>\n      <td>64922</td>\n      <td>5.0</td>\n    </tr>\n    <tr>\n      <th>...</th>\n      <td>...</td>\n      <td>...</td>\n      <td>...</td>\n      <td>...</td>\n      <td>...</td>\n      <td>...</td>\n      <td>...</td>\n      <td>...</td>\n      <td>...</td>\n      <td>...</td>\n      <td>...</td>\n      <td>...</td>\n      <td>...</td>\n      <td>...</td>\n      <td>...</td>\n      <td>...</td>\n      <td>...</td>\n      <td>...</td>\n    </tr>\n    <tr>\n      <th>142509656</th>\n      <td>915529003</td>\n      <td>252</td>\n      <td>1010016</td>\n      <td>9</td>\n      <td>4</td>\n      <td>5</td>\n      <td>1626</td>\n      <td>0</td>\n      <td>1</td>\n      <td>15</td>\n      <td>1003</td>\n      <td>1</td>\n      <td>1</td>\n      <td>0</td>\n      <td>1</td>\n      <td>60</td>\n      <td>96323</td>\n      <td>8.0</td>\n    </tr>\n    <tr>\n      <th>142509657</th>\n      <td>915529005</td>\n      <td>252</td>\n      <td>1010016</td>\n      <td>13</td>\n      <td>1</td>\n      <td>1</td>\n      <td>1626</td>\n      <td>0</td>\n      <td>1</td>\n      <td>15</td>\n      <td>1003</td>\n      <td>1</td>\n      <td>1</td>\n      <td>0</td>\n      <td>1</td>\n      <td>60</td>\n      <td>96323</td>\n      <td>9.0</td>\n    </tr>\n    <tr>\n      <th>142509658</th>\n      <td>448509014</td>\n      <td>272</td>\n      <td>1010016</td>\n      <td>72</td>\n      <td>3</td>\n      <td>2</td>\n      <td>1747</td>\n      <td>1</td>\n      <td>2</td>\n      <td>53</td>\n      <td>1009</td>\n      <td>1</td>\n      <td>1</td>\n      <td>0</td>\n      <td>1</td>\n      <td>60</td>\n      <td>96323</td>\n      <td>10.0</td>\n    </tr>\n    <tr>\n      <th>142509659</th>\n      <td>762846027</td>\n      <td>259</td>\n      <td>1010016</td>\n      <td>13</td>\n      <td>1</td>\n      <td>1</td>\n      <td>1515</td>\n      <td>0</td>\n      <td>1</td>\n      <td>11</td>\n      <td>1010</td>\n      <td>1</td>\n      <td>1</td>\n      <td>0</td>\n      <td>1</td>\n      <td>60</td>\n      <td>96323</td>\n      <td>11.0</td>\n    </tr>\n    <tr>\n      <th>142509660</th>\n      <td>714790020</td>\n      <td>272</td>\n      <td>1010023</td>\n      <td>72</td>\n      <td>2</td>\n      <td>2</td>\n      <td>1772</td>\n      <td>1</td>\n      <td>2</td>\n      <td>57</td>\n      <td>1016</td>\n      <td>1</td>\n      <td>1</td>\n      <td>0</td>\n      <td>1</td>\n      <td>60</td>\n      <td>96323</td>\n      <td>12.0</td>\n    </tr>\n  </tbody>\n</table>\n<p>17709142 rows × 18 columns</p>\n</div>"
     },
     "execution_count": 123,
     "metadata": {},
     "output_type": "execute_result"
    }
   ],
   "id": "f3d93799760e2fad"
  },
  {
   "cell_type": "markdown",
   "source": [
    "# Model training"
   ],
   "metadata": {
    "papermill": {
     "duration": 0.09573,
     "end_time": "2022-04-16T17:00:26.563647",
     "exception": false,
     "start_time": "2022-04-16T17:00:26.467917",
     "status": "completed"
    },
    "tags": []
   },
   "id": "9b8dfb6049a2a3ff"
  },
  {
   "cell_type": "code",
   "source": [
    "from lightgbm.sklearn import LGBMRanker\n",
    "ranker = LGBMRanker(\n",
    "    objective=\"lambdarank\",\n",
    "    metric=\"ndcg\",\n",
    "    boosting_type=\"dart\",\n",
    "    n_estimators=1,\n",
    "    importance_type='gain',\n",
    "    verbose=10\n",
    ")\n",
    "ranker = ranker.fit(\n",
    "    train_X,\n",
    "    train_y,\n",
    "    group=train_baskets,\n",
    ")"
   ],
   "metadata": {
    "papermill": {
     "duration": 11.066279,
     "end_time": "2022-04-16T17:00:39.301931",
     "exception": false,
     "start_time": "2022-04-16T17:00:28.235652",
     "status": "completed"
    },
    "tags": [],
    "execution": {
     "iopub.status.busy": "2023-10-11T08:04:06.672341Z",
     "iopub.status.idle": "2023-10-11T08:04:06.673322Z",
     "shell.execute_reply.started": "2023-10-11T08:04:06.672987Z",
     "shell.execute_reply": "2023-10-11T08:04:06.673007Z"
    },
    "trusted": true,
    "ExecuteTime": {
     "end_time": "2023-12-17T04:26:46.497054700Z",
     "start_time": "2023-12-17T04:26:03.770792600Z"
    }
   },
   "execution_count": 124,
   "outputs": [
    {
     "name": "stdout",
     "output_type": "stream",
     "text": [
      "[LightGBM] [Debug] Dataset::GetMultiBinFromAllFeatures: sparse rate 0.111309\n",
      "[LightGBM] [Debug] init for col-wise cost 0.000260 seconds, init for row-wise cost 0.957937 seconds\n",
      "[LightGBM] [Info] Auto-choosing row-wise multi-threading, the overhead of testing was 0.509384 seconds.\n",
      "You can set `force_row_wise=true` to remove the overhead.\n",
      "And if memory is not enough, you can set `force_col_wise=true`.\n",
      "[LightGBM] [Debug] Using Dense Multi-Val Bin\n",
      "[LightGBM] [Info] Total Bins 1096\n",
      "[LightGBM] [Info] Number of data points in the train set: 124800519, number of used features: 18\n",
      "[LightGBM] [Debug] Trained a tree with leaves = 31 and depth = 8\n"
     ]
    }
   ],
   "id": "d66a13b6aae7e71d"
  },
  {
   "cell_type": "code",
   "source": [
    "for i in ranker.feature_importances_.argsort()[::-1]:\n",
    "    print(columns_to_use[i], ranker.feature_importances_[i]/ranker.feature_importances_.sum())"
   ],
   "metadata": {
    "papermill": {
     "duration": 0.107527,
     "end_time": "2022-04-16T17:00:39.466759",
     "exception": false,
     "start_time": "2022-04-16T17:00:39.359232",
     "status": "completed"
    },
    "tags": [],
    "execution": {
     "iopub.status.busy": "2023-10-11T08:04:06.675105Z",
     "iopub.status.idle": "2023-10-11T08:04:06.675529Z",
     "shell.execute_reply.started": "2023-10-11T08:04:06.675343Z",
     "shell.execute_reply": "2023-10-11T08:04:06.675362Z"
    },
    "trusted": true,
    "ExecuteTime": {
     "end_time": "2023-12-17T04:26:46.512947800Z",
     "start_time": "2023-12-17T04:26:46.500051Z"
    }
   },
   "execution_count": 125,
   "outputs": [
    {
     "name": "stdout",
     "output_type": "stream",
     "text": [
      "bestseller_rank 0.9997377003617672\n",
      "article_id 0.0002089729146411682\n",
      "age 2.4592794035160452e-05\n",
      "index_group_no 9.986910440894015e-06\n",
      "department_no 9.032626764532162e-06\n",
      "colour_group_code 4.8489558499091254e-06\n",
      "section_no 3.1959499676713425e-06\n",
      "perceived_colour_master_id 1.6694865334151692e-06\n",
      "fashion_news_frequency 0.0\n",
      "club_member_status 0.0\n",
      "Active 0.0\n",
      "FN 0.0\n",
      "garment_group_no 0.0\n",
      "postal_code 0.0\n",
      "index_code 0.0\n",
      "perceived_colour_value_id 0.0\n",
      "graphical_appearance_no 0.0\n",
      "product_type_no 0.0\n"
     ]
    }
   ],
   "id": "a03e9b47dc795f19"
  },
  {
   "cell_type": "markdown",
   "source": [
    "# Calculate predictions"
   ],
   "metadata": {
    "papermill": {
     "duration": 0.056904,
     "end_time": "2022-04-16T17:00:39.580889",
     "exception": false,
     "start_time": "2022-04-16T17:00:39.523985",
     "status": "completed"
    },
    "tags": []
   },
   "id": "5737da47a7d37c2e"
  },
  {
   "cell_type": "code",
   "source": [
    "test['preds'] = ranker.predict(test_X)\n",
    "\n",
    "c_id2predicted_article_ids = test \\\n",
    "    .sort_values(['customer_id', 'preds'], ascending=False) \\\n",
    "    .groupby('customer_id')['article_id'].apply(list).to_dict()\n",
    "\n",
    "bestsellers_last_week = \\\n",
    "    bestsellers_previous_week[bestsellers_previous_week.week == bestsellers_previous_week.week.max()]['article_id'].tolist()"
   ],
   "metadata": {
    "papermill": {
     "duration": 13.140874,
     "end_time": "2022-04-16T17:00:52.777866",
     "exception": false,
     "start_time": "2022-04-16T17:00:39.636992",
     "status": "completed"
    },
    "tags": [],
    "execution": {
     "iopub.status.busy": "2023-10-11T08:04:06.677139Z",
     "iopub.status.idle": "2023-10-11T08:04:06.677612Z",
     "shell.execute_reply.started": "2023-10-11T08:04:06.677364Z",
     "shell.execute_reply": "2023-10-11T08:04:06.677392Z"
    },
    "trusted": true,
    "ExecuteTime": {
     "end_time": "2023-12-17T04:27:03.206163Z",
     "start_time": "2023-12-17T04:26:46.509968600Z"
    }
   },
   "execution_count": 126,
   "outputs": [],
   "id": "1de07c0536b68c90"
  },
  {
   "cell_type": "markdown",
   "source": [
    "# Create submission"
   ],
   "metadata": {
    "papermill": {
     "duration": 0.07093,
     "end_time": "2022-04-16T17:00:52.913143",
     "exception": false,
     "start_time": "2022-04-16T17:00:52.842213",
     "status": "completed"
    },
    "tags": []
   },
   "id": "ac204415266f1bc5"
  },
  {
   "cell_type": "code",
   "execution_count": 127,
   "outputs": [],
   "source": [
    "sub = pd.read_csv('../input/sample_submission.csv')\n",
    "preds = []\n",
    "for c_id in customer_hex_id_to_int(sub.customer_id):\n",
    "    pred = c_id2predicted_article_ids.get(c_id, [])\n",
    "    pred = pred + bestsellers_last_week\n",
    "    preds.append(pred[:12])"
   ],
   "metadata": {
    "collapsed": false,
    "ExecuteTime": {
     "end_time": "2023-12-17T04:27:07.568459300Z",
     "start_time": "2023-12-17T04:27:03.207155700Z"
    }
   },
   "id": "c73f580ff038f063"
  },
  {
   "cell_type": "code",
   "execution_count": 128,
   "outputs": [
    {
     "name": "stderr",
     "output_type": "stream",
     "text": [
      "68984it [00:00, 918962.28it/s]"
     ]
    },
    {
     "name": "stdout",
     "output_type": "stream",
     "text": [
      "Total users in validation: 68984\n",
      "mAP12 Score on Validation set: 0.007010047546234681\n",
      "recall Score on Validation set: 0.0258515562586121\n"
     ]
    },
    {
     "name": "stderr",
     "output_type": "stream",
     "text": [
      "\n"
     ]
    }
   ],
   "source": [
    "from tqdm import tqdm\n",
    "positive_items_val = validation.groupby(['customer_id'])['article_id'].apply(list)\n",
    "# creating validation set for metrics use case\n",
    "val_users = positive_items_val.keys()\n",
    "val_items = []\n",
    "for i, user in tqdm(enumerate(val_users)):\n",
    "    val_items.append(positive_items_val[user])\n",
    "\n",
    "print(\"Total users in validation:\", len(val_users))\n",
    "print(\"mAP12 Score on Validation set:\", mapk(val_items, preds))\n",
    "print(\"recall Score on Validation set:\", recall12(val_items, preds))"
   ],
   "metadata": {
    "collapsed": false,
    "ExecuteTime": {
     "end_time": "2023-12-17T04:27:08.201304400Z",
     "start_time": "2023-12-17T04:27:07.569890700Z"
    }
   },
   "id": "9491f661f185ae73"
  },
  {
   "cell_type": "code",
   "execution_count": 129,
   "outputs": [],
   "source": [
    "preds = [' '.join(['0' + str(p) for p in ps]) for ps in preds]\n",
    "# sub.prediction = preds\n",
    "# sub_name = 'basic_model_submission'\n",
    "# sub.to_csv(f'{sub_name}.csv.gz', index=False)"
   ],
   "metadata": {
    "collapsed": false,
    "ExecuteTime": {
     "end_time": "2023-12-17T04:27:09.875302300Z",
     "start_time": "2023-12-17T04:27:08.200807500Z"
    }
   },
   "id": "2e08c2ed7c3d7ab6"
  }
 ]
}
