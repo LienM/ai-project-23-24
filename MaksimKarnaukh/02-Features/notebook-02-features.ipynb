{
 "metadata": {
  "kernelspec": {
   "display_name": "Python 3",
   "language": "python",
   "name": "python3"
  },
  "language_info": {
   "name": "python",
   "version": "3.10.12",
   "mimetype": "text/x-python",
   "codemirror_mode": {
    "name": "ipython",
    "version": 3
   },
   "pygments_lexer": "ipython3",
   "nbconvert_exporter": "python",
   "file_extension": ".py"
  },
  "papermill": {
   "default_parameters": {},
   "duration": 185.112876,
   "end_time": "2022-04-16T17:01:37.553573",
   "environment_variables": {},
   "exception": null,
   "input_path": "__notebook__.ipynb",
   "output_path": "__notebook__.ipynb",
   "parameters": {},
   "start_time": "2022-04-16T16:58:32.440697",
   "version": "2.3.4"
  }
 },
 "nbformat_minor": 5,
 "nbformat": 4,
 "cells": [
  {
   "cell_type": "markdown",
   "source": [
    "Radek posted about this [here](https://www.kaggle.com/competitions/h-and-m-personalized-fashion-recommendations/discussion/309220), and linked to a GitHub repo with the code.\n",
    "\n",
    "I just transferred that code here to Kaggle notebooks, that's all."
   ],
   "metadata": {
    "papermill": {
     "duration": 0.052947,
     "end_time": "2022-04-16T16:58:42.297492",
     "exception": false,
     "start_time": "2022-04-16T16:58:42.244545",
     "status": "completed"
    },
    "tags": []
   },
   "id": "1c494b88382cd063"
  },
  {
   "cell_type": "code",
   "source": [
    "import numpy as np\n",
    "\n",
    "def apk(actual, predicted, k=10):\n",
    "    \"\"\"\n",
    "    Computes the average precision at k.\n",
    "\n",
    "    This function computes the average prescision at k between two lists of\n",
    "    items.\n",
    "\n",
    "    Parameters\n",
    "    ----------\n",
    "    actual : list\n",
    "             A list of elements that are to be predicted (order doesn't matter)\n",
    "    predicted : list\n",
    "                A list of predicted elements (order does matter)\n",
    "    k : int, optional\n",
    "        The maximum number of predicted elements\n",
    "\n",
    "    Returns\n",
    "    -------\n",
    "    score : double\n",
    "            The average precision at k over the input lists\n",
    "\n",
    "    \"\"\"\n",
    "    if len(predicted)>k:\n",
    "        predicted = predicted[:k]\n",
    "\n",
    "    score = 0.0\n",
    "    num_hits = 0.0\n",
    "\n",
    "    for i,p in enumerate(predicted):\n",
    "        if p in actual and p not in predicted[:i]:\n",
    "            num_hits += 1.0\n",
    "            score += num_hits / (i+1.0)\n",
    "\n",
    "    if not actual:\n",
    "        return 0.0\n",
    "\n",
    "    return score / min(len(actual), k)\n",
    "\n",
    "def mapk(actual, predicted, k=10):\n",
    "    \"\"\"\n",
    "    Computes the mean average precision at k.\n",
    "\n",
    "    This function computes the mean average prescision at k between two lists\n",
    "    of lists of items.\n",
    "\n",
    "    Parameters\n",
    "    ----------\n",
    "    actual : list\n",
    "             A list of lists of elements that are to be predicted \n",
    "             (order doesn't matter in the lists)\n",
    "    predicted : list\n",
    "                A list of lists of predicted elements\n",
    "                (order matters in the lists)\n",
    "    k : int, optional\n",
    "        The maximum number of predicted elements\n",
    "\n",
    "    Returns\n",
    "    -------\n",
    "    score : double\n",
    "            The mean average precision at k over the input lists\n",
    "\n",
    "    \"\"\"\n",
    "    return np.mean([apk(a,p,k) for a,p in zip(actual, predicted)])"
   ],
   "metadata": {
    "papermill": {
     "duration": 0.085968,
     "end_time": "2022-04-16T16:58:42.429535",
     "exception": false,
     "start_time": "2022-04-16T16:58:42.343567",
     "status": "completed"
    },
    "tags": [],
    "execution": {
     "iopub.status.busy": "2023-10-11T08:02:33.314155Z",
     "iopub.execute_input": "2023-10-11T08:02:33.314553Z",
     "iopub.status.idle": "2023-10-11T08:02:33.324352Z",
     "shell.execute_reply.started": "2023-10-11T08:02:33.314527Z",
     "shell.execute_reply": "2023-10-11T08:02:33.323182Z"
    },
    "trusted": true,
    "ExecuteTime": {
     "end_time": "2023-11-02T23:00:47.228815500Z",
     "start_time": "2023-11-02T23:00:47.023639200Z"
    }
   },
   "execution_count": 35,
   "outputs": [],
   "id": "2b9ff34659d7d9c3"
  },
  {
   "cell_type": "code",
   "source": [
    "from sklearn.base import BaseEstimator, TransformerMixin\n",
    "import numpy as np\n",
    "\n",
    "# https://www.kaggle.com/c/h-and-m-personalized-fashion-recommendations/discussion/308635\n",
    "def customer_hex_id_to_int(series):\n",
    "    return series.str[-16:].apply(hex_id_to_int)\n",
    "\n",
    "def hex_id_to_int(str):\n",
    "    return int(str[-16:], 16)\n",
    "\n",
    "def article_id_str_to_int(series):\n",
    "    return series.astype('int32')\n",
    "\n",
    "def article_id_int_to_str(series):\n",
    "    return '0' + series.astype('str')\n",
    "\n",
    "class Categorize(BaseEstimator, TransformerMixin):\n",
    "    def __init__(self, min_examples=0):\n",
    "        self.min_examples = min_examples\n",
    "        self.categories = []\n",
    "        \n",
    "    def fit(self, X):\n",
    "        for i in range(X.shape[1]):\n",
    "            vc = X.iloc[:, i].value_counts()\n",
    "            self.categories.append(vc[vc > self.min_examples].index.tolist())\n",
    "        return self\n",
    "\n",
    "    def transform(self, X):\n",
    "        data = {X.columns[i]: pd.Categorical(X.iloc[:, i], categories=self.categories[i]).codes for i in range(X.shape[1])}\n",
    "        return pd.DataFrame(data=data)\n",
    "\n",
    "\n",
    "def calculate_apk(list_of_preds, list_of_gts):\n",
    "    # for fast validation this can be changed to operate on dicts of {'cust_id_int': [art_id_int, ...]}\n",
    "    # using 'data/val_week_purchases_by_cust.pkl'\n",
    "    apks = []\n",
    "    for preds, gt in zip(list_of_preds, list_of_gts):\n",
    "        apks.append(apk(gt, preds, k=12))\n",
    "    return np.mean(apks)\n",
    "\n",
    "def eval_sub(sub_csv, skip_cust_with_no_purchases=True):\n",
    "    sub=pd.read_csv(sub_csv)\n",
    "    validation_set=pd.read_parquet('data/validation_ground_truth.parquet')\n",
    "\n",
    "    apks = []\n",
    "\n",
    "    no_purchases_pattern = []\n",
    "    for pred, gt in zip(sub.prediction.str.split(), validation_set.prediction.str.split()):\n",
    "        if skip_cust_with_no_purchases and (gt == no_purchases_pattern): continue\n",
    "        apks.append(apk(gt, pred, k=12))\n",
    "    return np.mean(apks)"
   ],
   "metadata": {
    "papermill": {
     "duration": 1.348449,
     "end_time": "2022-04-16T16:58:43.828990",
     "exception": false,
     "start_time": "2022-04-16T16:58:42.480541",
     "status": "completed"
    },
    "tags": [],
    "execution": {
     "iopub.status.busy": "2023-10-11T08:02:33.363111Z",
     "iopub.execute_input": "2023-10-11T08:02:33.363887Z",
     "iopub.status.idle": "2023-10-11T08:02:33.430110Z",
     "shell.execute_reply.started": "2023-10-11T08:02:33.363843Z",
     "shell.execute_reply": "2023-10-11T08:02:33.429142Z"
    },
    "trusted": true,
    "ExecuteTime": {
     "end_time": "2023-11-02T23:00:47.591574700Z",
     "start_time": "2023-11-02T23:00:47.032333300Z"
    }
   },
   "execution_count": 36,
   "outputs": [],
   "id": "a3e90c217d7a3257"
  },
  {
   "cell_type": "code",
   "source": [
    "import pandas as pd\n",
    "\n",
    "transactions = pd.read_parquet('../input/transactions_train.parquet')\n",
    "customers = pd.read_parquet('../input/customers.parquet')\n",
    "articles = pd.read_parquet('../input/articles.parquet')\n",
    "\n",
    "test_week = transactions.week.max() + 1\n",
    "transactions = transactions[transactions.week > transactions.week.max() - 10]"
   ],
   "metadata": {
    "papermill": {
     "duration": 9.279307,
     "end_time": "2022-04-16T16:58:53.289550",
     "exception": false,
     "start_time": "2022-04-16T16:58:44.010243",
     "status": "completed"
    },
    "tags": [],
    "execution": {
     "iopub.status.busy": "2023-10-11T08:02:33.432368Z",
     "iopub.execute_input": "2023-10-11T08:02:33.433121Z",
     "iopub.status.idle": "2023-10-11T08:02:37.691627Z",
     "shell.execute_reply.started": "2023-10-11T08:02:33.433081Z",
     "shell.execute_reply": "2023-10-11T08:02:37.690543Z"
    },
    "trusted": true,
    "ExecuteTime": {
     "end_time": "2023-11-02T23:00:48.871630Z",
     "start_time": "2023-11-02T23:00:47.045365200Z"
    }
   },
   "execution_count": 37,
   "outputs": [],
   "id": "ea3486ea109915fd"
  },
  {
   "cell_type": "markdown",
   "source": [
    "# Generating candidates"
   ],
   "metadata": {
    "papermill": {
     "duration": 0.04664,
     "end_time": "2022-04-16T16:58:53.778482",
     "exception": false,
     "start_time": "2022-04-16T16:58:53.731842",
     "status": "completed"
    },
    "tags": []
   },
   "id": "db3c9bcadb9cda9b"
  },
  {
   "cell_type": "markdown",
   "source": [
    "### Last purchase candidates"
   ],
   "metadata": {
    "papermill": {
     "duration": 0.047255,
     "end_time": "2022-04-16T16:58:53.872805",
     "exception": false,
     "start_time": "2022-04-16T16:58:53.825550",
     "status": "completed"
    },
    "tags": []
   },
   "id": "b53210a64303217c"
  },
  {
   "cell_type": "code",
   "source": [
    "c2weeks = transactions.groupby('customer_id')['week'].unique()"
   ],
   "metadata": {
    "papermill": {
     "duration": 21.129005,
     "end_time": "2022-04-16T16:59:15.047833",
     "exception": false,
     "start_time": "2022-04-16T16:58:53.918828",
     "status": "completed"
    },
    "tags": [],
    "execution": {
     "iopub.status.busy": "2023-10-11T08:02:37.693974Z",
     "iopub.execute_input": "2023-10-11T08:02:37.694719Z",
     "iopub.status.idle": "2023-10-11T08:03:03.165244Z",
     "shell.execute_reply.started": "2023-10-11T08:02:37.694675Z",
     "shell.execute_reply": "2023-10-11T08:03:03.164122Z"
    },
    "trusted": true,
    "ExecuteTime": {
     "end_time": "2023-11-02T23:00:55.323191700Z",
     "start_time": "2023-11-02T23:00:48.872630200Z"
    }
   },
   "execution_count": 38,
   "outputs": [],
   "id": "1f6967bd9234f737"
  },
  {
   "cell_type": "code",
   "source": [
    "transactions.groupby('week')['t_dat'].agg(['min', 'max'])"
   ],
   "metadata": {
    "papermill": {
     "duration": 0.164411,
     "end_time": "2022-04-16T16:59:15.283877",
     "exception": false,
     "start_time": "2022-04-16T16:59:15.119466",
     "status": "completed"
    },
    "tags": [],
    "execution": {
     "iopub.status.busy": "2023-10-11T08:03:03.167580Z",
     "iopub.execute_input": "2023-10-11T08:03:03.167975Z",
     "iopub.status.idle": "2023-10-11T08:03:03.236806Z",
     "shell.execute_reply.started": "2023-10-11T08:03:03.167946Z",
     "shell.execute_reply": "2023-10-11T08:03:03.235696Z"
    },
    "trusted": true,
    "ExecuteTime": {
     "end_time": "2023-11-02T23:00:55.364315300Z",
     "start_time": "2023-11-02T23:00:55.325192900Z"
    }
   },
   "execution_count": 39,
   "outputs": [
    {
     "data": {
      "text/plain": "            min        max\nweek                      \n95   2020-07-15 2020-07-21\n96   2020-07-22 2020-07-28\n97   2020-07-29 2020-08-04\n98   2020-08-05 2020-08-11\n99   2020-08-12 2020-08-18\n100  2020-08-19 2020-08-25\n101  2020-08-26 2020-09-01\n102  2020-09-02 2020-09-08\n103  2020-09-09 2020-09-15\n104  2020-09-16 2020-09-22",
      "text/html": "<div>\n<style scoped>\n    .dataframe tbody tr th:only-of-type {\n        vertical-align: middle;\n    }\n\n    .dataframe tbody tr th {\n        vertical-align: top;\n    }\n\n    .dataframe thead th {\n        text-align: right;\n    }\n</style>\n<table border=\"1\" class=\"dataframe\">\n  <thead>\n    <tr style=\"text-align: right;\">\n      <th></th>\n      <th>min</th>\n      <th>max</th>\n    </tr>\n    <tr>\n      <th>week</th>\n      <th></th>\n      <th></th>\n    </tr>\n  </thead>\n  <tbody>\n    <tr>\n      <th>95</th>\n      <td>2020-07-15</td>\n      <td>2020-07-21</td>\n    </tr>\n    <tr>\n      <th>96</th>\n      <td>2020-07-22</td>\n      <td>2020-07-28</td>\n    </tr>\n    <tr>\n      <th>97</th>\n      <td>2020-07-29</td>\n      <td>2020-08-04</td>\n    </tr>\n    <tr>\n      <th>98</th>\n      <td>2020-08-05</td>\n      <td>2020-08-11</td>\n    </tr>\n    <tr>\n      <th>99</th>\n      <td>2020-08-12</td>\n      <td>2020-08-18</td>\n    </tr>\n    <tr>\n      <th>100</th>\n      <td>2020-08-19</td>\n      <td>2020-08-25</td>\n    </tr>\n    <tr>\n      <th>101</th>\n      <td>2020-08-26</td>\n      <td>2020-09-01</td>\n    </tr>\n    <tr>\n      <th>102</th>\n      <td>2020-09-02</td>\n      <td>2020-09-08</td>\n    </tr>\n    <tr>\n      <th>103</th>\n      <td>2020-09-09</td>\n      <td>2020-09-15</td>\n    </tr>\n    <tr>\n      <th>104</th>\n      <td>2020-09-16</td>\n      <td>2020-09-22</td>\n    </tr>\n  </tbody>\n</table>\n</div>"
     },
     "execution_count": 39,
     "metadata": {},
     "output_type": "execute_result"
    }
   ],
   "id": "1045317789483a3b"
  },
  {
   "cell_type": "code",
   "source": [
    "# c2weeks"
   ],
   "metadata": {
    "papermill": {
     "duration": 0.085836,
     "end_time": "2022-04-16T16:59:15.439989",
     "exception": false,
     "start_time": "2022-04-16T16:59:15.354153",
     "status": "completed"
    },
    "tags": [],
    "execution": {
     "iopub.status.busy": "2023-10-11T08:03:03.238889Z",
     "iopub.execute_input": "2023-10-11T08:03:03.239166Z",
     "iopub.status.idle": "2023-10-11T08:03:03.243275Z",
     "shell.execute_reply.started": "2023-10-11T08:03:03.239143Z",
     "shell.execute_reply": "2023-10-11T08:03:03.242104Z"
    },
    "trusted": true,
    "ExecuteTime": {
     "end_time": "2023-11-02T23:00:55.372330200Z",
     "start_time": "2023-11-02T23:00:55.356309400Z"
    }
   },
   "execution_count": 40,
   "outputs": [],
   "id": "80837fb06f0c0db1"
  },
  {
   "cell_type": "code",
   "source": [
    "c2weeks2shifted_weeks = {}\n",
    "\n",
    "for c_id, weeks in c2weeks.items():\n",
    "    c2weeks2shifted_weeks[c_id] = {}\n",
    "    for i in range(weeks.shape[0]-1):\n",
    "        c2weeks2shifted_weeks[c_id][weeks[i]] = weeks[i+1]\n",
    "    c2weeks2shifted_weeks[c_id][weeks[-1]] = test_week"
   ],
   "metadata": {
    "papermill": {
     "duration": 1.152087,
     "end_time": "2022-04-16T16:59:16.664416",
     "exception": false,
     "start_time": "2022-04-16T16:59:15.512329",
     "status": "completed"
    },
    "tags": [],
    "execution": {
     "iopub.status.busy": "2023-10-11T08:03:03.244549Z",
     "iopub.execute_input": "2023-10-11T08:03:03.245342Z",
     "iopub.status.idle": "2023-10-11T08:03:04.150754Z",
     "shell.execute_reply.started": "2023-10-11T08:03:03.245312Z",
     "shell.execute_reply": "2023-10-11T08:03:04.149625Z"
    },
    "trusted": true,
    "ExecuteTime": {
     "end_time": "2023-11-02T23:00:55.682001300Z",
     "start_time": "2023-11-02T23:00:55.370329200Z"
    }
   },
   "execution_count": 41,
   "outputs": [],
   "id": "c09d5818a6a4c34d"
  },
  {
   "cell_type": "code",
   "source": [
    "# c2weeks2shifted_weeks[28847241659200]\n",
    "transactions.price.describe().apply('{:.8f}'.format)"
   ],
   "metadata": {
    "papermill": {
     "duration": 0.083354,
     "end_time": "2022-04-16T16:59:16.821693",
     "exception": false,
     "start_time": "2022-04-16T16:59:16.738339",
     "status": "completed"
    },
    "tags": [],
    "execution": {
     "iopub.status.busy": "2023-10-11T08:03:04.152374Z",
     "iopub.execute_input": "2023-10-11T08:03:04.152789Z",
     "iopub.status.idle": "2023-10-11T08:03:04.266862Z",
     "shell.execute_reply.started": "2023-10-11T08:03:04.152742Z",
     "shell.execute_reply": "2023-10-11T08:03:04.265860Z"
    },
    "trusted": true,
    "ExecuteTime": {
     "end_time": "2023-11-02T23:00:55.745184800Z",
     "start_time": "2023-11-02T23:00:55.683001900Z"
    }
   },
   "execution_count": 42,
   "outputs": [
    {
     "data": {
      "text/plain": "count    2762872.00000000\nmean           0.02804788\nstd            0.01924847\nmin            0.00016949\n25%            0.01693220\n50%            0.02540678\n75%            0.03388136\nmax            0.50677967\nName: price, dtype: object"
     },
     "execution_count": 42,
     "metadata": {},
     "output_type": "execute_result"
    }
   ],
   "id": "53d5c449fdec0e13"
  },
  {
   "cell_type": "code",
   "source": [
    "# transactions.price.hist(bins=100)"
   ],
   "metadata": {
    "execution": {
     "iopub.status.busy": "2023-10-11T08:03:04.268369Z",
     "iopub.execute_input": "2023-10-11T08:03:04.268673Z",
     "iopub.status.idle": "2023-10-11T08:03:04.272487Z",
     "shell.execute_reply.started": "2023-10-11T08:03:04.268649Z",
     "shell.execute_reply": "2023-10-11T08:03:04.271498Z"
    },
    "trusted": true,
    "ExecuteTime": {
     "end_time": "2023-11-02T23:00:55.771240400Z",
     "start_time": "2023-11-02T23:00:55.746185500Z"
    }
   },
   "execution_count": 43,
   "outputs": [],
   "id": "99be4768229498b"
  },
  {
   "cell_type": "code",
   "source": [
    "# customer_ids = []\n",
    "# average_prices_without_outliers = []\n",
    "\n",
    "# # Step 1: Group by 'customer_id'\n",
    "# grouped = transactions.groupby('customer_id')\n",
    "\n",
    "# # Step 2: Calculate the 25th and 75th percentiles for each customer's prices\n",
    "# for customer_id, group in grouped:\n",
    "#     Q1 = group['price'].quantile(0.25)\n",
    "#     Q3 = group['price'].quantile(0.75)\n",
    "    \n",
    "#     # Step 3: Identify and remove outliers for each customer\n",
    "#     IQR = Q3 - Q1\n",
    "#     price_threshold_low = Q1 - 1.5 * IQR\n",
    "#     price_threshold_high = Q3 + 1.5 * IQR\n",
    "#     filtered_group = group[(group['price'] >= price_threshold_low) & (group['price'] <= price_threshold_high)]\n",
    "    \n",
    "#     if not filtered_group.empty:\n",
    "#         # Add the customer ID and average price without outliers to the lists\n",
    "#         customer_ids.append(customer_id)\n",
    "#         average_price = filtered_group['price'].mean()\n",
    "#         average_prices_without_outliers.append(average_price)\n",
    "\n",
    "# # Step 4: Create a DataFrame with 'customer_id' and 'price' columns\n",
    "# clipped_prices = pd.DataFrame({'customer_id': customer_ids, 'price': average_prices_without_outliers})\n",
    "\n",
    "# # Step 5: Merge the clipped_prices DataFrame with the customers DataFrame\n",
    "# customers = pd.merge(customers, clipped_prices, on='customer_id', how='left')"
   ],
   "metadata": {
    "execution": {
     "iopub.status.busy": "2023-10-11T08:03:04.273907Z",
     "iopub.execute_input": "2023-10-11T08:03:04.274245Z",
     "iopub.status.idle": "2023-10-11T08:03:04.293247Z",
     "shell.execute_reply.started": "2023-10-11T08:03:04.274218Z",
     "shell.execute_reply": "2023-10-11T08:03:04.292131Z"
    },
    "trusted": true,
    "ExecuteTime": {
     "end_time": "2023-11-02T23:00:55.778537400Z",
     "start_time": "2023-11-02T23:00:55.762210900Z"
    }
   },
   "execution_count": 44,
   "outputs": [],
   "id": "efa18893cb521e31"
  },
  {
   "cell_type": "code",
   "source": [
    "# transactions['clipped_avg_price_p_c'] = average_prices_without_outliers\n",
    "# clipped_prices"
   ],
   "metadata": {
    "execution": {
     "iopub.status.busy": "2023-10-11T08:03:04.295175Z",
     "iopub.execute_input": "2023-10-11T08:03:04.295508Z",
     "iopub.status.idle": "2023-10-11T08:03:04.320313Z",
     "shell.execute_reply.started": "2023-10-11T08:03:04.295482Z",
     "shell.execute_reply": "2023-10-11T08:03:04.318531Z"
    },
    "trusted": true,
    "ExecuteTime": {
     "end_time": "2023-11-02T23:00:55.793041500Z",
     "start_time": "2023-11-02T23:00:55.778537400Z"
    }
   },
   "execution_count": 45,
   "outputs": [],
   "id": "d78a324d15951486"
  },
  {
   "cell_type": "code",
   "source": [
    "# customers.price.describe().apply('{:.8f}'.format)"
   ],
   "metadata": {
    "execution": {
     "iopub.status.busy": "2023-10-11T08:03:04.324654Z",
     "iopub.execute_input": "2023-10-11T08:03:04.325086Z",
     "iopub.status.idle": "2023-10-11T08:03:04.336768Z",
     "shell.execute_reply.started": "2023-10-11T08:03:04.325056Z",
     "shell.execute_reply": "2023-10-11T08:03:04.335677Z"
    },
    "trusted": true,
    "ExecuteTime": {
     "end_time": "2023-11-02T23:00:55.819095400Z",
     "start_time": "2023-11-02T23:00:55.794042900Z"
    }
   },
   "execution_count": 46,
   "outputs": [],
   "id": "5c005aa8619c321"
  },
  {
   "cell_type": "code",
   "source": [
    "# customers"
   ],
   "metadata": {
    "execution": {
     "iopub.status.busy": "2023-10-11T08:03:04.338124Z",
     "iopub.execute_input": "2023-10-11T08:03:04.338801Z",
     "iopub.status.idle": "2023-10-11T08:03:04.355020Z",
     "shell.execute_reply.started": "2023-10-11T08:03:04.338755Z",
     "shell.execute_reply": "2023-10-11T08:03:04.353695Z"
    },
    "trusted": true,
    "ExecuteTime": {
     "end_time": "2023-11-02T23:00:55.826094600Z",
     "start_time": "2023-11-02T23:00:55.809585100Z"
    }
   },
   "execution_count": 47,
   "outputs": [],
   "id": "f9ef0b5a6d421e05"
  },
  {
   "cell_type": "code",
   "source": [
    "# transactions = transactions.groupby('customer_id').apply(lambda df: df[(df.price < df.price.quantile(0.75) + 0.5) & (df.price > df.price.quantile(0.2) - 0.5)])\n",
    "\n",
    "# transactions.price = transactions.groupby('customer_id')['price'].transform(lambda x: x.clip(x.quantile(0.2) - 0.05, x.quantile(0.75) + 0.05))"
   ],
   "metadata": {
    "execution": {
     "iopub.status.busy": "2023-10-11T08:03:04.356477Z",
     "iopub.execute_input": "2023-10-11T08:03:04.357696Z",
     "iopub.status.idle": "2023-10-11T08:03:04.374104Z",
     "shell.execute_reply.started": "2023-10-11T08:03:04.357646Z",
     "shell.execute_reply": "2023-10-11T08:03:04.372864Z"
    },
    "trusted": true,
    "ExecuteTime": {
     "end_time": "2023-11-02T23:00:55.841139700Z",
     "start_time": "2023-11-02T23:00:55.826094600Z"
    }
   },
   "execution_count": 48,
   "outputs": [],
   "id": "5b2db668fde702e8"
  },
  {
   "cell_type": "code",
   "source": [
    "# transactions.price.describe().apply('{:.8f}'.format)"
   ],
   "metadata": {
    "execution": {
     "iopub.status.busy": "2023-10-11T08:03:04.375964Z",
     "iopub.execute_input": "2023-10-11T08:03:04.376389Z",
     "iopub.status.idle": "2023-10-11T08:03:04.392343Z",
     "shell.execute_reply.started": "2023-10-11T08:03:04.376339Z",
     "shell.execute_reply": "2023-10-11T08:03:04.390614Z"
    },
    "trusted": true,
    "ExecuteTime": {
     "end_time": "2023-11-02T23:00:55.866257500Z",
     "start_time": "2023-11-02T23:00:55.841139700Z"
    }
   },
   "execution_count": 49,
   "outputs": [],
   "id": "d6d8a0aca30dff18"
  },
  {
   "cell_type": "code",
   "source": [
    "# transactions"
   ],
   "metadata": {
    "execution": {
     "iopub.status.busy": "2023-10-11T08:03:04.394105Z",
     "iopub.execute_input": "2023-10-11T08:03:04.394464Z",
     "iopub.status.idle": "2023-10-11T08:03:04.408702Z",
     "shell.execute_reply.started": "2023-10-11T08:03:04.394432Z",
     "shell.execute_reply": "2023-10-11T08:03:04.407074Z"
    },
    "trusted": true,
    "ExecuteTime": {
     "end_time": "2023-11-02T23:00:55.876274500Z",
     "start_time": "2023-11-02T23:00:55.856253900Z"
    }
   },
   "execution_count": 50,
   "outputs": [],
   "id": "8ea752f9a44067bc"
  },
  {
   "cell_type": "code",
   "source": [
    "candidates_last_purchase = transactions.copy()"
   ],
   "metadata": {
    "papermill": {
     "duration": 0.095127,
     "end_time": "2022-04-16T16:59:16.991288",
     "exception": false,
     "start_time": "2022-04-16T16:59:16.896161",
     "status": "completed"
    },
    "tags": [],
    "execution": {
     "iopub.status.busy": "2023-10-11T08:03:04.410606Z",
     "iopub.execute_input": "2023-10-11T08:03:04.410966Z",
     "iopub.status.idle": "2023-10-11T08:03:04.441051Z",
     "shell.execute_reply.started": "2023-10-11T08:03:04.410937Z",
     "shell.execute_reply": "2023-10-11T08:03:04.440191Z"
    },
    "trusted": true,
    "ExecuteTime": {
     "end_time": "2023-11-02T23:00:55.911233700Z",
     "start_time": "2023-11-02T23:00:55.872276500Z"
    }
   },
   "execution_count": 51,
   "outputs": [],
   "id": "e265e213700018ac"
  },
  {
   "cell_type": "code",
   "source": [
    "weeks = []\n",
    "for i, (c_id, week) in enumerate(zip(transactions['customer_id'], transactions['week'])):\n",
    "    weeks.append(c2weeks2shifted_weeks[c_id][week])\n",
    "    \n",
    "candidates_last_purchase.week=weeks"
   ],
   "metadata": {
    "papermill": {
     "duration": 8.716794,
     "end_time": "2022-04-16T16:59:25.784593",
     "exception": false,
     "start_time": "2022-04-16T16:59:17.067799",
     "status": "completed"
    },
    "tags": [],
    "execution": {
     "iopub.status.busy": "2023-10-11T08:03:04.442232Z",
     "iopub.execute_input": "2023-10-11T08:03:04.442523Z",
     "iopub.status.idle": "2023-10-11T08:03:22.614016Z",
     "shell.execute_reply.started": "2023-10-11T08:03:04.442499Z",
     "shell.execute_reply": "2023-10-11T08:03:22.612552Z"
    },
    "trusted": true,
    "ExecuteTime": {
     "end_time": "2023-11-02T23:01:05.225301300Z",
     "start_time": "2023-11-02T23:00:55.916234Z"
    }
   },
   "execution_count": 52,
   "outputs": [],
   "id": "9fd4547c64950724"
  },
  {
   "cell_type": "code",
   "source": [
    "# candidates_last_purchase[candidates_last_purchase['customer_id']==272412481300040]"
   ],
   "metadata": {
    "papermill": {
     "duration": 0.098217,
     "end_time": "2022-04-16T16:59:25.967641",
     "exception": false,
     "start_time": "2022-04-16T16:59:25.869424",
     "status": "completed"
    },
    "tags": [],
    "execution": {
     "iopub.status.busy": "2023-10-11T08:03:22.615548Z",
     "iopub.execute_input": "2023-10-11T08:03:22.616071Z",
     "iopub.status.idle": "2023-10-11T08:03:22.621645Z",
     "shell.execute_reply.started": "2023-10-11T08:03:22.616029Z",
     "shell.execute_reply": "2023-10-11T08:03:22.620047Z"
    },
    "trusted": true,
    "ExecuteTime": {
     "end_time": "2023-11-02T23:01:05.242065Z",
     "start_time": "2023-11-02T23:01:05.226303200Z"
    }
   },
   "execution_count": 53,
   "outputs": [],
   "id": "7ebedb06868b5601"
  },
  {
   "cell_type": "code",
   "source": [
    "# transactions[transactions['customer_id']==272412481300040]"
   ],
   "metadata": {
    "papermill": {
     "duration": 0.095969,
     "end_time": "2022-04-16T16:59:26.140736",
     "exception": false,
     "start_time": "2022-04-16T16:59:26.044767",
     "status": "completed"
    },
    "tags": [],
    "execution": {
     "iopub.status.busy": "2023-10-11T08:03:22.623224Z",
     "iopub.execute_input": "2023-10-11T08:03:22.623634Z",
     "iopub.status.idle": "2023-10-11T08:03:22.643060Z",
     "shell.execute_reply.started": "2023-10-11T08:03:22.623593Z",
     "shell.execute_reply": "2023-10-11T08:03:22.641644Z"
    },
    "trusted": true,
    "ExecuteTime": {
     "end_time": "2023-11-02T23:01:05.261597Z",
     "start_time": "2023-11-02T23:01:05.242065Z"
    }
   },
   "execution_count": 54,
   "outputs": [],
   "id": "f15ea5777fad2750"
  },
  {
   "cell_type": "code",
   "source": [
    "# mean_price_per_c = transactions \\\n",
    "#     .groupby(['week', 'customer_id'])['price'].mean() \\\n",
    "#     .groupby('customer_id').mean() \\\n",
    "#     .rename('mean_price_per_c')\n",
    "mean_price_per_c = transactions.groupby('customer_id')['price'].mean().rename('mean_price_per_c').reset_index()\n",
    "median_price_per_c = transactions.groupby('customer_id')['price'].median().rename('median_price_per_c').reset_index()"
   ],
   "metadata": {
    "collapsed": false,
    "execution": {
     "iopub.status.busy": "2023-10-11T08:03:22.644397Z",
     "iopub.execute_input": "2023-10-11T08:03:22.644830Z",
     "iopub.status.idle": "2023-10-11T08:03:23.266430Z",
     "shell.execute_reply.started": "2023-10-11T08:03:22.644764Z",
     "shell.execute_reply": "2023-10-11T08:03:23.265310Z"
    },
    "trusted": true,
    "ExecuteTime": {
     "end_time": "2023-11-02T23:01:05.604224100Z",
     "start_time": "2023-11-02T23:01:05.257595400Z"
    }
   },
   "execution_count": 55,
   "outputs": [],
   "id": "9a7574b0495d0380"
  },
  {
   "cell_type": "code",
   "source": [
    "# Calculate percentiles (25th and 75th) of prices per customer\n",
    "percentiles = transactions.groupby('customer_id')['price'].quantile([0.25, 0.75]).unstack().reset_index()\n",
    "percentiles.rename(columns={0.25: 'Q1_price', 0.75: 'Q3_price'}, inplace=True)"
   ],
   "metadata": {
    "execution": {
     "iopub.status.busy": "2023-10-11T08:03:23.267576Z",
     "iopub.execute_input": "2023-10-11T08:03:23.267929Z",
     "iopub.status.idle": "2023-10-11T08:03:24.415876Z",
     "shell.execute_reply.started": "2023-10-11T08:03:23.267902Z",
     "shell.execute_reply": "2023-10-11T08:03:24.414642Z"
    },
    "trusted": true,
    "ExecuteTime": {
     "end_time": "2023-11-02T23:01:06.186805300Z",
     "start_time": "2023-11-02T23:01:05.605224800Z"
    }
   },
   "execution_count": 56,
   "outputs": [],
   "id": "5322de4ce3595a43"
  },
  {
   "cell_type": "code",
   "source": [
    "max_price_per_customer = transactions.groupby('customer_id')['price'].max().reset_index()\n",
    "min_price_per_customer = transactions.groupby('customer_id')['price'].min().reset_index()\n",
    "max_price_per_customer.rename(columns={'price': 'max_price_per_customer'}, inplace=True)\n",
    "min_price_per_customer.rename(columns={'price': 'min_price_per_customer'}, inplace=True)\n",
    "\n",
    "max_price_per_article = transactions.groupby('article_id')['price'].max().rename('max_price_per_article').reset_index()\n",
    "min_price_per_article = transactions.groupby('article_id')['price'].min().rename('min_price_per_article').reset_index()"
   ],
   "metadata": {
    "execution": {
     "iopub.status.busy": "2023-10-11T08:03:24.417411Z",
     "iopub.execute_input": "2023-10-11T08:03:24.417739Z",
     "iopub.status.idle": "2023-10-11T08:03:25.034805Z",
     "shell.execute_reply.started": "2023-10-11T08:03:24.417712Z",
     "shell.execute_reply": "2023-10-11T08:03:25.034000Z"
    },
    "trusted": true,
    "ExecuteTime": {
     "end_time": "2023-11-02T23:01:06.530436600Z",
     "start_time": "2023-11-02T23:01:06.187809300Z"
    }
   },
   "execution_count": 57,
   "outputs": [],
   "id": "5144c80c4df4cfe4"
  },
  {
   "cell_type": "code",
   "source": [
    "# transactions_copy = transactions.copy()\n",
    "# transactions_copy['t_dat'] = pd.to_datetime(transactions_copy['t_dat'])\n",
    "\n",
    "# season_mapping = {\n",
    "#     1: 0, 2: 0, 3: 1,\n",
    "#     4: 1, 5: 1, 6: 2,\n",
    "#     7: 2, 8: 2, 9: 3,\n",
    "#     10: 3, 11: 3, 12: 0\n",
    "# }\n",
    "\n",
    "# # Extract the month from 't_dat' and map to seasons\n",
    "# transactions_copy['month'] = transactions_copy['t_dat'].dt.month\n",
    "# transactions['season'] = transactions_copy['month'].map(season_mapping)"
   ],
   "metadata": {
    "execution": {
     "iopub.status.busy": "2023-10-11T08:03:25.036211Z",
     "iopub.execute_input": "2023-10-11T08:03:25.036817Z",
     "iopub.status.idle": "2023-10-11T08:03:25.041191Z",
     "shell.execute_reply.started": "2023-10-11T08:03:25.036759Z",
     "shell.execute_reply": "2023-10-11T08:03:25.039889Z"
    },
    "trusted": true,
    "ExecuteTime": {
     "end_time": "2023-11-02T23:01:06.546966Z",
     "start_time": "2023-11-02T23:01:06.531437400Z"
    }
   },
   "execution_count": 58,
   "outputs": [],
   "id": "904b0b46f56eccc7"
  },
  {
   "cell_type": "code",
   "source": [
    "max_price_per_article"
   ],
   "metadata": {
    "execution": {
     "iopub.status.busy": "2023-10-11T08:03:25.042673Z",
     "iopub.execute_input": "2023-10-11T08:03:25.043021Z",
     "iopub.status.idle": "2023-10-11T08:03:25.073237Z",
     "shell.execute_reply.started": "2023-10-11T08:03:25.042994Z",
     "shell.execute_reply": "2023-10-11T08:03:25.071870Z"
    },
    "trusted": true,
    "ExecuteTime": {
     "end_time": "2023-11-02T23:01:06.579906700Z",
     "start_time": "2023-11-02T23:01:06.547967300Z"
    }
   },
   "execution_count": 59,
   "outputs": [
    {
     "data": {
      "text/plain": "       article_id  max_price_per_article\n0       108775015               0.005068\n1       108775044               0.008458\n2       110065001               0.006763\n3       110065002               0.006085\n4       110065011               0.011847\n...           ...                    ...\n38326   952267001               0.016932\n38327   952938001               0.050831\n38328   953450001               0.016932\n38329   953763001               0.022017\n38330   956217002               0.059305\n\n[38331 rows x 2 columns]",
      "text/html": "<div>\n<style scoped>\n    .dataframe tbody tr th:only-of-type {\n        vertical-align: middle;\n    }\n\n    .dataframe tbody tr th {\n        vertical-align: top;\n    }\n\n    .dataframe thead th {\n        text-align: right;\n    }\n</style>\n<table border=\"1\" class=\"dataframe\">\n  <thead>\n    <tr style=\"text-align: right;\">\n      <th></th>\n      <th>article_id</th>\n      <th>max_price_per_article</th>\n    </tr>\n  </thead>\n  <tbody>\n    <tr>\n      <th>0</th>\n      <td>108775015</td>\n      <td>0.005068</td>\n    </tr>\n    <tr>\n      <th>1</th>\n      <td>108775044</td>\n      <td>0.008458</td>\n    </tr>\n    <tr>\n      <th>2</th>\n      <td>110065001</td>\n      <td>0.006763</td>\n    </tr>\n    <tr>\n      <th>3</th>\n      <td>110065002</td>\n      <td>0.006085</td>\n    </tr>\n    <tr>\n      <th>4</th>\n      <td>110065011</td>\n      <td>0.011847</td>\n    </tr>\n    <tr>\n      <th>...</th>\n      <td>...</td>\n      <td>...</td>\n    </tr>\n    <tr>\n      <th>38326</th>\n      <td>952267001</td>\n      <td>0.016932</td>\n    </tr>\n    <tr>\n      <th>38327</th>\n      <td>952938001</td>\n      <td>0.050831</td>\n    </tr>\n    <tr>\n      <th>38328</th>\n      <td>953450001</td>\n      <td>0.016932</td>\n    </tr>\n    <tr>\n      <th>38329</th>\n      <td>953763001</td>\n      <td>0.022017</td>\n    </tr>\n    <tr>\n      <th>38330</th>\n      <td>956217002</td>\n      <td>0.059305</td>\n    </tr>\n  </tbody>\n</table>\n<p>38331 rows × 2 columns</p>\n</div>"
     },
     "execution_count": 59,
     "metadata": {},
     "output_type": "execute_result"
    }
   ],
   "id": "4e927cad2ed361d9"
  },
  {
   "cell_type": "markdown",
   "source": [
    "### Bestsellers candidates"
   ],
   "metadata": {
    "papermill": {
     "duration": 0.076715,
     "end_time": "2022-04-16T16:59:26.293010",
     "exception": false,
     "start_time": "2022-04-16T16:59:26.216295",
     "status": "completed"
    },
    "tags": []
   },
   "id": "8fafa6b9295962c5"
  },
  {
   "cell_type": "code",
   "source": [
    "mean_price = transactions \\\n",
    "    .groupby(['week', 'article_id'])['price'].mean()"
   ],
   "metadata": {
    "papermill": {
     "duration": 0.331688,
     "end_time": "2022-04-16T16:59:26.700507",
     "exception": false,
     "start_time": "2022-04-16T16:59:26.368819",
     "status": "completed"
    },
    "tags": [],
    "execution": {
     "iopub.status.busy": "2023-10-11T08:03:25.077264Z",
     "iopub.execute_input": "2023-10-11T08:03:25.077633Z",
     "iopub.status.idle": "2023-10-11T08:03:25.303413Z",
     "shell.execute_reply.started": "2023-10-11T08:03:25.077603Z",
     "shell.execute_reply": "2023-10-11T08:03:25.301915Z"
    },
    "trusted": true,
    "ExecuteTime": {
     "end_time": "2023-11-02T23:01:06.736302100Z",
     "start_time": "2023-11-02T23:01:06.579906700Z"
    }
   },
   "execution_count": 60,
   "outputs": [],
   "id": "8b52b54fb1d7c498"
  },
  {
   "cell_type": "code",
   "source": [
    "# mean_price"
   ],
   "metadata": {
    "papermill": {
     "duration": 0.120303,
     "end_time": "2022-04-16T16:59:26.869795",
     "exception": false,
     "start_time": "2022-04-16T16:59:26.749492",
     "status": "completed"
    },
    "tags": [],
    "execution": {
     "iopub.status.busy": "2023-10-11T08:03:25.305396Z",
     "iopub.execute_input": "2023-10-11T08:03:25.305747Z",
     "iopub.status.idle": "2023-10-11T08:03:25.309616Z",
     "shell.execute_reply.started": "2023-10-11T08:03:25.305716Z",
     "shell.execute_reply": "2023-10-11T08:03:25.308897Z"
    },
    "trusted": true,
    "ExecuteTime": {
     "end_time": "2023-11-02T23:01:06.751897300Z",
     "start_time": "2023-11-02T23:01:06.736302100Z"
    }
   },
   "execution_count": 61,
   "outputs": [],
   "id": "ae36eb4b251abb1f"
  },
  {
   "cell_type": "code",
   "source": [
    "sales = transactions \\\n",
    "    .groupby('week')['article_id'].value_counts() \\\n",
    "    .groupby('week').rank(method='dense', ascending=False) \\\n",
    "    .groupby('week').head(12).rename('bestseller_rank').astype('int8')"
   ],
   "metadata": {
    "papermill": {
     "duration": 0.840436,
     "end_time": "2022-04-16T16:59:27.761667",
     "exception": false,
     "start_time": "2022-04-16T16:59:26.921231",
     "status": "completed"
    },
    "tags": [],
    "execution": {
     "iopub.status.busy": "2023-10-11T08:03:25.311061Z",
     "iopub.execute_input": "2023-10-11T08:03:25.311339Z",
     "iopub.status.idle": "2023-10-11T08:03:25.571725Z",
     "shell.execute_reply.started": "2023-10-11T08:03:25.311313Z",
     "shell.execute_reply": "2023-10-11T08:03:25.570652Z"
    },
    "trusted": true,
    "ExecuteTime": {
     "end_time": "2023-11-02T23:01:06.938938200Z",
     "start_time": "2023-11-02T23:01:06.752896700Z"
    }
   },
   "execution_count": 62,
   "outputs": [],
   "id": "f35ed4c0eb01167d"
  },
  {
   "cell_type": "code",
   "source": [
    "# sales"
   ],
   "metadata": {
    "papermill": {
     "duration": 0.061677,
     "end_time": "2022-04-16T16:59:27.871620",
     "exception": false,
     "start_time": "2022-04-16T16:59:27.809943",
     "status": "completed"
    },
    "tags": [],
    "execution": {
     "iopub.status.busy": "2023-10-11T08:03:25.573508Z",
     "iopub.execute_input": "2023-10-11T08:03:25.573947Z",
     "iopub.status.idle": "2023-10-11T08:03:25.578625Z",
     "shell.execute_reply.started": "2023-10-11T08:03:25.573909Z",
     "shell.execute_reply": "2023-10-11T08:03:25.577218Z"
    },
    "trusted": true,
    "ExecuteTime": {
     "end_time": "2023-11-02T23:01:06.954119900Z",
     "start_time": "2023-11-02T23:01:06.939938700Z"
    }
   },
   "execution_count": 63,
   "outputs": [],
   "id": "2886f1df7830f39d"
  },
  {
   "cell_type": "code",
   "source": [
    "# sales.loc[95]"
   ],
   "metadata": {
    "papermill": {
     "duration": 0.088243,
     "end_time": "2022-04-16T16:59:28.034495",
     "exception": false,
     "start_time": "2022-04-16T16:59:27.946252",
     "status": "completed"
    },
    "tags": [],
    "execution": {
     "iopub.status.busy": "2023-10-11T08:03:25.586160Z",
     "iopub.execute_input": "2023-10-11T08:03:25.586490Z",
     "iopub.status.idle": "2023-10-11T08:03:25.594243Z",
     "shell.execute_reply.started": "2023-10-11T08:03:25.586464Z",
     "shell.execute_reply": "2023-10-11T08:03:25.593150Z"
    },
    "trusted": true,
    "ExecuteTime": {
     "end_time": "2023-11-02T23:01:06.980649600Z",
     "start_time": "2023-11-02T23:01:06.955120300Z"
    }
   },
   "execution_count": 64,
   "outputs": [],
   "id": "4c8af719aa97d64b"
  },
  {
   "cell_type": "code",
   "source": [
    "bestsellers_previous_week = pd.merge(sales, mean_price, on=['week', 'article_id']).reset_index()\n",
    "bestsellers_previous_week.week += 1"
   ],
   "metadata": {
    "papermill": {
     "duration": 0.11991,
     "end_time": "2022-04-16T16:59:28.231470",
     "exception": false,
     "start_time": "2022-04-16T16:59:28.111560",
     "status": "completed"
    },
    "tags": [],
    "execution": {
     "iopub.status.busy": "2023-10-11T08:03:25.596069Z",
     "iopub.execute_input": "2023-10-11T08:03:25.596380Z",
     "iopub.status.idle": "2023-10-11T08:03:25.640966Z",
     "shell.execute_reply.started": "2023-10-11T08:03:25.596349Z",
     "shell.execute_reply": "2023-10-11T08:03:25.640019Z"
    },
    "trusted": true,
    "ExecuteTime": {
     "end_time": "2023-11-02T23:01:07.001668100Z",
     "start_time": "2023-11-02T23:01:06.971142900Z"
    }
   },
   "execution_count": 65,
   "outputs": [],
   "id": "bf2b1aaa2053ebaa"
  },
  {
   "cell_type": "code",
   "source": [
    "bestsellers_previous_week.pipe(lambda df: df[df['week']==96])"
   ],
   "metadata": {
    "papermill": {
     "duration": 0.089116,
     "end_time": "2022-04-16T16:59:28.399153",
     "exception": false,
     "start_time": "2022-04-16T16:59:28.310037",
     "status": "completed"
    },
    "tags": [],
    "execution": {
     "iopub.status.busy": "2023-10-11T08:03:25.642378Z",
     "iopub.execute_input": "2023-10-11T08:03:25.642812Z",
     "iopub.status.idle": "2023-10-11T08:03:25.654010Z",
     "shell.execute_reply.started": "2023-10-11T08:03:25.642753Z",
     "shell.execute_reply": "2023-10-11T08:03:25.653041Z"
    },
    "trusted": true,
    "ExecuteTime": {
     "end_time": "2023-11-02T23:01:07.037254500Z",
     "start_time": "2023-11-02T23:01:07.002667800Z"
    }
   },
   "execution_count": 66,
   "outputs": [
    {
     "data": {
      "text/plain": "    week  article_id  bestseller_rank     price\n0     96   760084003                1  0.025094\n1     96   866731001                2  0.024919\n2     96   600886001                3  0.022980\n3     96   706016001                4  0.033197\n4     96   372860002                5  0.013193\n5     96   610776002                6  0.008318\n6     96   877278002                7  0.025036\n7     96   547780003                8  0.024814\n8     96   817354001                9  0.021913\n9     96   827968001               10  0.016436\n10    96   866731003               11  0.024893\n11    96   866383006               12  0.023195",
      "text/html": "<div>\n<style scoped>\n    .dataframe tbody tr th:only-of-type {\n        vertical-align: middle;\n    }\n\n    .dataframe tbody tr th {\n        vertical-align: top;\n    }\n\n    .dataframe thead th {\n        text-align: right;\n    }\n</style>\n<table border=\"1\" class=\"dataframe\">\n  <thead>\n    <tr style=\"text-align: right;\">\n      <th></th>\n      <th>week</th>\n      <th>article_id</th>\n      <th>bestseller_rank</th>\n      <th>price</th>\n    </tr>\n  </thead>\n  <tbody>\n    <tr>\n      <th>0</th>\n      <td>96</td>\n      <td>760084003</td>\n      <td>1</td>\n      <td>0.025094</td>\n    </tr>\n    <tr>\n      <th>1</th>\n      <td>96</td>\n      <td>866731001</td>\n      <td>2</td>\n      <td>0.024919</td>\n    </tr>\n    <tr>\n      <th>2</th>\n      <td>96</td>\n      <td>600886001</td>\n      <td>3</td>\n      <td>0.022980</td>\n    </tr>\n    <tr>\n      <th>3</th>\n      <td>96</td>\n      <td>706016001</td>\n      <td>4</td>\n      <td>0.033197</td>\n    </tr>\n    <tr>\n      <th>4</th>\n      <td>96</td>\n      <td>372860002</td>\n      <td>5</td>\n      <td>0.013193</td>\n    </tr>\n    <tr>\n      <th>5</th>\n      <td>96</td>\n      <td>610776002</td>\n      <td>6</td>\n      <td>0.008318</td>\n    </tr>\n    <tr>\n      <th>6</th>\n      <td>96</td>\n      <td>877278002</td>\n      <td>7</td>\n      <td>0.025036</td>\n    </tr>\n    <tr>\n      <th>7</th>\n      <td>96</td>\n      <td>547780003</td>\n      <td>8</td>\n      <td>0.024814</td>\n    </tr>\n    <tr>\n      <th>8</th>\n      <td>96</td>\n      <td>817354001</td>\n      <td>9</td>\n      <td>0.021913</td>\n    </tr>\n    <tr>\n      <th>9</th>\n      <td>96</td>\n      <td>827968001</td>\n      <td>10</td>\n      <td>0.016436</td>\n    </tr>\n    <tr>\n      <th>10</th>\n      <td>96</td>\n      <td>866731003</td>\n      <td>11</td>\n      <td>0.024893</td>\n    </tr>\n    <tr>\n      <th>11</th>\n      <td>96</td>\n      <td>866383006</td>\n      <td>12</td>\n      <td>0.023195</td>\n    </tr>\n  </tbody>\n</table>\n</div>"
     },
     "execution_count": 66,
     "metadata": {},
     "output_type": "execute_result"
    }
   ],
   "id": "38554d4d96501297"
  },
  {
   "cell_type": "code",
   "source": [
    "unique_transactions = transactions \\\n",
    "    .groupby(['week', 'customer_id']) \\\n",
    "    .head(1) \\\n",
    "    .drop(columns=['article_id', 'price']) \\\n",
    "    .copy()"
   ],
   "metadata": {
    "papermill": {
     "duration": 0.667005,
     "end_time": "2022-04-16T16:59:29.144061",
     "exception": false,
     "start_time": "2022-04-16T16:59:28.477056",
     "status": "completed"
    },
    "tags": [],
    "execution": {
     "iopub.status.busy": "2023-10-11T08:03:25.654893Z",
     "iopub.execute_input": "2023-10-11T08:03:25.655215Z",
     "iopub.status.idle": "2023-10-11T08:03:26.267862Z",
     "shell.execute_reply.started": "2023-10-11T08:03:25.655188Z",
     "shell.execute_reply": "2023-10-11T08:03:26.266282Z"
    },
    "trusted": true,
    "ExecuteTime": {
     "end_time": "2023-11-02T23:01:07.456977200Z",
     "start_time": "2023-11-02T23:01:07.035198100Z"
    }
   },
   "execution_count": 67,
   "outputs": [],
   "id": "d020ffb8d128a060"
  },
  {
   "cell_type": "code",
   "source": [
    "# unique_transactions"
   ],
   "metadata": {
    "papermill": {
     "duration": 0.093091,
     "end_time": "2022-04-16T16:59:29.316226",
     "exception": false,
     "start_time": "2022-04-16T16:59:29.223135",
     "status": "completed"
    },
    "tags": [],
    "execution": {
     "iopub.status.busy": "2023-10-11T08:03:26.269364Z",
     "iopub.execute_input": "2023-10-11T08:03:26.273100Z",
     "iopub.status.idle": "2023-10-11T08:03:26.281815Z",
     "shell.execute_reply.started": "2023-10-11T08:03:26.273042Z",
     "shell.execute_reply": "2023-10-11T08:03:26.279595Z"
    },
    "trusted": true,
    "ExecuteTime": {
     "end_time": "2023-11-02T23:01:07.470481800Z",
     "start_time": "2023-11-02T23:01:07.455972600Z"
    }
   },
   "execution_count": 68,
   "outputs": [],
   "id": "51e432898ef846c6"
  },
  {
   "cell_type": "code",
   "source": [
    "transactions.drop_duplicates(['week', 'customer_id'])"
   ],
   "metadata": {
    "papermill": {
     "duration": 0.383891,
     "end_time": "2022-04-16T16:59:29.791258",
     "exception": false,
     "start_time": "2022-04-16T16:59:29.407367",
     "status": "completed"
    },
    "tags": [],
    "execution": {
     "iopub.status.busy": "2023-10-11T08:03:26.288409Z",
     "iopub.execute_input": "2023-10-11T08:03:26.288855Z",
     "iopub.status.idle": "2023-10-11T08:03:26.586834Z",
     "shell.execute_reply.started": "2023-10-11T08:03:26.288816Z",
     "shell.execute_reply": "2023-10-11T08:03:26.585082Z"
    },
    "trusted": true,
    "ExecuteTime": {
     "end_time": "2023-11-02T23:01:07.627008Z",
     "start_time": "2023-11-02T23:01:07.471482600Z"
    }
   },
   "execution_count": 69,
   "outputs": [
    {
     "data": {
      "text/plain": "              t_dat           customer_id  article_id     price  \\\n29030503 2020-07-15       272412481300040   778064028  0.008458   \n29064059 2020-07-15      1456826891333599   888294001  0.013542   \n29067103 2020-07-15      2133687643102426   843642001  0.042356   \n29027487 2020-07-15      6010692573790711   857812010  0.039661   \n29046403 2020-07-15      6171059100114610   815447007  0.006763   \n...             ...                   ...         ...       ...   \n31760188 2020-09-22  18435221511488011015   573085055  0.033881   \n31782234 2020-09-22  18436859303155335645   801447001  0.030492   \n31787251 2020-09-22  18437941771381362708   907188001  0.050831   \n31776022 2020-09-22  18438270306572912089   751471043  0.033881   \n31779097 2020-09-22  18440902715633436014   918894002  0.016932   \n\n          sales_channel_id  week  \n29030503                 1    95  \n29064059                 1    95  \n29067103                 2    95  \n29027487                 1    95  \n29046403                 2    95  \n...                    ...   ...  \n31760188                 1   104  \n31782234                 1   104  \n31787251                 2   104  \n31776022                 1   104  \n31779097                 1   104  \n\n[755710 rows x 6 columns]",
      "text/html": "<div>\n<style scoped>\n    .dataframe tbody tr th:only-of-type {\n        vertical-align: middle;\n    }\n\n    .dataframe tbody tr th {\n        vertical-align: top;\n    }\n\n    .dataframe thead th {\n        text-align: right;\n    }\n</style>\n<table border=\"1\" class=\"dataframe\">\n  <thead>\n    <tr style=\"text-align: right;\">\n      <th></th>\n      <th>t_dat</th>\n      <th>customer_id</th>\n      <th>article_id</th>\n      <th>price</th>\n      <th>sales_channel_id</th>\n      <th>week</th>\n    </tr>\n  </thead>\n  <tbody>\n    <tr>\n      <th>29030503</th>\n      <td>2020-07-15</td>\n      <td>272412481300040</td>\n      <td>778064028</td>\n      <td>0.008458</td>\n      <td>1</td>\n      <td>95</td>\n    </tr>\n    <tr>\n      <th>29064059</th>\n      <td>2020-07-15</td>\n      <td>1456826891333599</td>\n      <td>888294001</td>\n      <td>0.013542</td>\n      <td>1</td>\n      <td>95</td>\n    </tr>\n    <tr>\n      <th>29067103</th>\n      <td>2020-07-15</td>\n      <td>2133687643102426</td>\n      <td>843642001</td>\n      <td>0.042356</td>\n      <td>2</td>\n      <td>95</td>\n    </tr>\n    <tr>\n      <th>29027487</th>\n      <td>2020-07-15</td>\n      <td>6010692573790711</td>\n      <td>857812010</td>\n      <td>0.039661</td>\n      <td>1</td>\n      <td>95</td>\n    </tr>\n    <tr>\n      <th>29046403</th>\n      <td>2020-07-15</td>\n      <td>6171059100114610</td>\n      <td>815447007</td>\n      <td>0.006763</td>\n      <td>2</td>\n      <td>95</td>\n    </tr>\n    <tr>\n      <th>...</th>\n      <td>...</td>\n      <td>...</td>\n      <td>...</td>\n      <td>...</td>\n      <td>...</td>\n      <td>...</td>\n    </tr>\n    <tr>\n      <th>31760188</th>\n      <td>2020-09-22</td>\n      <td>18435221511488011015</td>\n      <td>573085055</td>\n      <td>0.033881</td>\n      <td>1</td>\n      <td>104</td>\n    </tr>\n    <tr>\n      <th>31782234</th>\n      <td>2020-09-22</td>\n      <td>18436859303155335645</td>\n      <td>801447001</td>\n      <td>0.030492</td>\n      <td>1</td>\n      <td>104</td>\n    </tr>\n    <tr>\n      <th>31787251</th>\n      <td>2020-09-22</td>\n      <td>18437941771381362708</td>\n      <td>907188001</td>\n      <td>0.050831</td>\n      <td>2</td>\n      <td>104</td>\n    </tr>\n    <tr>\n      <th>31776022</th>\n      <td>2020-09-22</td>\n      <td>18438270306572912089</td>\n      <td>751471043</td>\n      <td>0.033881</td>\n      <td>1</td>\n      <td>104</td>\n    </tr>\n    <tr>\n      <th>31779097</th>\n      <td>2020-09-22</td>\n      <td>18440902715633436014</td>\n      <td>918894002</td>\n      <td>0.016932</td>\n      <td>1</td>\n      <td>104</td>\n    </tr>\n  </tbody>\n</table>\n<p>755710 rows × 6 columns</p>\n</div>"
     },
     "execution_count": 69,
     "metadata": {},
     "output_type": "execute_result"
    }
   ],
   "id": "17c292aaddc3f335"
  },
  {
   "cell_type": "code",
   "source": [
    "candidates_bestsellers = pd.merge(\n",
    "    unique_transactions,\n",
    "    bestsellers_previous_week,\n",
    "    on='week',\n",
    ")"
   ],
   "metadata": {
    "papermill": {
     "duration": 0.575247,
     "end_time": "2022-04-16T16:59:30.453425",
     "exception": false,
     "start_time": "2022-04-16T16:59:29.878178",
     "status": "completed"
    },
    "tags": [],
    "execution": {
     "iopub.status.busy": "2023-10-11T08:03:26.589003Z",
     "iopub.execute_input": "2023-10-11T08:03:26.589984Z",
     "iopub.status.idle": "2023-10-11T08:03:27.231562Z",
     "shell.execute_reply.started": "2023-10-11T08:03:26.589941Z",
     "shell.execute_reply": "2023-10-11T08:03:27.230731Z"
    },
    "trusted": true,
    "ExecuteTime": {
     "end_time": "2023-11-02T23:01:07.846061300Z",
     "start_time": "2023-11-02T23:01:07.628008300Z"
    }
   },
   "execution_count": 70,
   "outputs": [],
   "id": "e15ab6c0831b1e26"
  },
  {
   "cell_type": "code",
   "source": [
    "test_set_transactions = unique_transactions.drop_duplicates('customer_id').reset_index(drop=True)\n",
    "test_set_transactions.week = test_week"
   ],
   "metadata": {
    "papermill": {
     "duration": 0.163691,
     "end_time": "2022-04-16T16:59:30.668845",
     "exception": false,
     "start_time": "2022-04-16T16:59:30.505154",
     "status": "completed"
    },
    "tags": [],
    "execution": {
     "iopub.status.busy": "2023-10-11T08:03:27.233086Z",
     "iopub.execute_input": "2023-10-11T08:03:27.233759Z",
     "iopub.status.idle": "2023-10-11T08:03:27.290835Z",
     "shell.execute_reply.started": "2023-10-11T08:03:27.233720Z",
     "shell.execute_reply": "2023-10-11T08:03:27.290007Z"
    },
    "trusted": true,
    "ExecuteTime": {
     "end_time": "2023-11-02T23:01:07.881100600Z",
     "start_time": "2023-11-02T23:01:07.847064700Z"
    }
   },
   "execution_count": 71,
   "outputs": [],
   "id": "43f6a7082fae2b06"
  },
  {
   "cell_type": "code",
   "source": [
    "# test_set_transactions"
   ],
   "metadata": {
    "papermill": {
     "duration": 0.098295,
     "end_time": "2022-04-16T16:59:30.846626",
     "exception": false,
     "start_time": "2022-04-16T16:59:30.748331",
     "status": "completed"
    },
    "tags": [],
    "execution": {
     "iopub.status.busy": "2023-10-11T08:03:27.292596Z",
     "iopub.execute_input": "2023-10-11T08:03:27.293638Z",
     "iopub.status.idle": "2023-10-11T08:03:27.302090Z",
     "shell.execute_reply.started": "2023-10-11T08:03:27.293597Z",
     "shell.execute_reply": "2023-10-11T08:03:27.300846Z"
    },
    "trusted": true,
    "ExecuteTime": {
     "end_time": "2023-11-02T23:01:07.894298500Z",
     "start_time": "2023-11-02T23:01:07.878101200Z"
    }
   },
   "execution_count": 72,
   "outputs": [],
   "id": "2bee51c080e7d11d"
  },
  {
   "cell_type": "code",
   "source": [
    "candidates_bestsellers_test_week = pd.merge(\n",
    "    test_set_transactions,\n",
    "    bestsellers_previous_week,\n",
    "    on='week'\n",
    ")"
   ],
   "metadata": {
    "papermill": {
     "duration": 0.473042,
     "end_time": "2022-04-16T16:59:31.405328",
     "exception": false,
     "start_time": "2022-04-16T16:59:30.932286",
     "status": "completed"
    },
    "tags": [],
    "execution": {
     "iopub.status.busy": "2023-10-11T08:03:27.303904Z",
     "iopub.execute_input": "2023-10-11T08:03:27.304357Z",
     "iopub.status.idle": "2023-10-11T08:03:27.663683Z",
     "shell.execute_reply.started": "2023-10-11T08:03:27.304316Z",
     "shell.execute_reply": "2023-10-11T08:03:27.662350Z"
    },
    "trusted": true,
    "ExecuteTime": {
     "end_time": "2023-11-02T23:01:08.063969200Z",
     "start_time": "2023-11-02T23:01:07.893299Z"
    }
   },
   "execution_count": 73,
   "outputs": [],
   "id": "4e129b953148ece4"
  },
  {
   "cell_type": "code",
   "source": [
    "candidates_bestsellers = pd.concat([candidates_bestsellers, candidates_bestsellers_test_week])\n",
    "candidates_bestsellers.drop(columns='bestseller_rank', inplace=True)"
   ],
   "metadata": {
    "papermill": {
     "duration": 0.570441,
     "end_time": "2022-04-16T16:59:32.058855",
     "exception": false,
     "start_time": "2022-04-16T16:59:31.488414",
     "status": "completed"
    },
    "tags": [],
    "execution": {
     "iopub.status.busy": "2023-10-11T08:03:27.665568Z",
     "iopub.execute_input": "2023-10-11T08:03:27.666052Z",
     "iopub.status.idle": "2023-10-11T08:03:28.402619Z",
     "shell.execute_reply.started": "2023-10-11T08:03:27.666007Z",
     "shell.execute_reply": "2023-10-11T08:03:28.401580Z"
    },
    "trusted": true,
    "ExecuteTime": {
     "end_time": "2023-11-02T23:01:08.317444900Z",
     "start_time": "2023-11-02T23:01:08.064969Z"
    }
   },
   "execution_count": 74,
   "outputs": [],
   "id": "99b980ad8b9e2dad"
  },
  {
   "cell_type": "code",
   "source": [
    "# candidates_bestsellers"
   ],
   "metadata": {
    "papermill": {
     "duration": 0.095192,
     "end_time": "2022-04-16T16:59:32.233727",
     "exception": false,
     "start_time": "2022-04-16T16:59:32.138535",
     "status": "completed"
    },
    "tags": [],
    "execution": {
     "iopub.status.busy": "2023-10-11T08:03:28.403915Z",
     "iopub.execute_input": "2023-10-11T08:03:28.404325Z",
     "iopub.status.idle": "2023-10-11T08:03:28.412380Z",
     "shell.execute_reply.started": "2023-10-11T08:03:28.404290Z",
     "shell.execute_reply": "2023-10-11T08:03:28.411231Z"
    },
    "trusted": true,
    "ExecuteTime": {
     "end_time": "2023-11-02T23:01:08.333459900Z",
     "start_time": "2023-11-02T23:01:08.320445900Z"
    }
   },
   "execution_count": 75,
   "outputs": [],
   "id": "8ca62bd46a28d851"
  },
  {
   "cell_type": "markdown",
   "source": [
    "# Combining transactions and candidates / negative examples"
   ],
   "metadata": {
    "papermill": {
     "duration": 0.08208,
     "end_time": "2022-04-16T16:59:32.397198",
     "exception": false,
     "start_time": "2022-04-16T16:59:32.315118",
     "status": "completed"
    },
    "tags": []
   },
   "id": "88415118080fdaed"
  },
  {
   "cell_type": "code",
   "source": [
    "transactions['purchased'] = 1"
   ],
   "metadata": {
    "papermill": {
     "duration": 0.090433,
     "end_time": "2022-04-16T16:59:32.570268",
     "exception": false,
     "start_time": "2022-04-16T16:59:32.479835",
     "status": "completed"
    },
    "tags": [],
    "execution": {
     "iopub.status.busy": "2023-10-11T08:03:28.413582Z",
     "iopub.execute_input": "2023-10-11T08:03:28.413917Z",
     "iopub.status.idle": "2023-10-11T08:03:28.428742Z",
     "shell.execute_reply.started": "2023-10-11T08:03:28.413888Z",
     "shell.execute_reply": "2023-10-11T08:03:28.427655Z"
    },
    "trusted": true,
    "ExecuteTime": {
     "end_time": "2023-11-02T23:01:08.353366200Z",
     "start_time": "2023-11-02T23:01:08.334461Z"
    }
   },
   "execution_count": 76,
   "outputs": [],
   "id": "f23f0e13e0dff533"
  },
  {
   "cell_type": "code",
   "source": [
    "data = pd.concat([transactions, candidates_last_purchase, candidates_bestsellers])\n",
    "data.purchased.fillna(0, inplace=True)"
   ],
   "metadata": {
    "papermill": {
     "duration": 0.56807,
     "end_time": "2022-04-16T16:59:33.217736",
     "exception": false,
     "start_time": "2022-04-16T16:59:32.649666",
     "status": "completed"
    },
    "tags": [],
    "execution": {
     "iopub.status.busy": "2023-10-11T08:03:28.430009Z",
     "iopub.execute_input": "2023-10-11T08:03:28.430308Z",
     "iopub.status.idle": "2023-10-11T08:03:29.001001Z",
     "shell.execute_reply.started": "2023-10-11T08:03:28.430283Z",
     "shell.execute_reply": "2023-10-11T08:03:28.999811Z"
    },
    "trusted": true,
    "ExecuteTime": {
     "end_time": "2023-11-02T23:01:08.583503Z",
     "start_time": "2023-11-02T23:01:08.350368Z"
    }
   },
   "execution_count": 77,
   "outputs": [],
   "id": "ce1f94783f94b572"
  },
  {
   "cell_type": "code",
   "source": [
    "# data"
   ],
   "metadata": {
    "papermill": {
     "duration": 0.102346,
     "end_time": "2022-04-16T16:59:33.398626",
     "exception": false,
     "start_time": "2022-04-16T16:59:33.296280",
     "status": "completed"
    },
    "tags": [],
    "execution": {
     "iopub.status.busy": "2023-10-11T08:03:29.002639Z",
     "iopub.execute_input": "2023-10-11T08:03:29.003136Z",
     "iopub.status.idle": "2023-10-11T08:03:29.011997Z",
     "shell.execute_reply.started": "2023-10-11T08:03:29.003093Z",
     "shell.execute_reply": "2023-10-11T08:03:29.010313Z"
    },
    "trusted": true,
    "ExecuteTime": {
     "end_time": "2023-11-02T23:01:08.599152400Z",
     "start_time": "2023-11-02T23:01:08.584503400Z"
    }
   },
   "execution_count": 78,
   "outputs": [],
   "id": "afb0a86cde359738"
  },
  {
   "cell_type": "code",
   "source": [
    "data.drop_duplicates(['customer_id', 'article_id', 'week'], inplace=True)"
   ],
   "metadata": {
    "papermill": {
     "duration": 7.070271,
     "end_time": "2022-04-16T16:59:40.552624",
     "exception": false,
     "start_time": "2022-04-16T16:59:33.482353",
     "status": "completed"
    },
    "tags": [],
    "execution": {
     "iopub.status.busy": "2023-10-11T08:03:29.013858Z",
     "iopub.execute_input": "2023-10-11T08:03:29.014298Z",
     "iopub.status.idle": "2023-10-11T08:03:35.907805Z",
     "shell.execute_reply.started": "2023-10-11T08:03:29.014259Z",
     "shell.execute_reply": "2023-10-11T08:03:35.906630Z"
    },
    "trusted": true,
    "ExecuteTime": {
     "end_time": "2023-11-02T23:01:12.174184400Z",
     "start_time": "2023-11-02T23:01:08.600154600Z"
    }
   },
   "execution_count": 79,
   "outputs": [],
   "id": "79abce01eb35c392"
  },
  {
   "cell_type": "code",
   "source": [
    "data.purchased.mean()"
   ],
   "metadata": {
    "papermill": {
     "duration": 0.131175,
     "end_time": "2022-04-16T16:59:40.768430",
     "exception": false,
     "start_time": "2022-04-16T16:59:40.637255",
     "status": "completed"
    },
    "tags": [],
    "execution": {
     "iopub.status.busy": "2023-10-11T08:03:35.908997Z",
     "iopub.execute_input": "2023-10-11T08:03:35.909310Z",
     "iopub.status.idle": "2023-10-11T08:03:35.963499Z",
     "shell.execute_reply.started": "2023-10-11T08:03:35.909285Z",
     "shell.execute_reply": "2023-10-11T08:03:35.962320Z"
    },
    "trusted": true,
    "ExecuteTime": {
     "end_time": "2023-11-02T23:01:12.220731100Z",
     "start_time": "2023-11-02T23:01:12.175185700Z"
    }
   },
   "execution_count": 80,
   "outputs": [
    {
     "data": {
      "text/plain": "0.13607582749165664"
     },
     "execution_count": 80,
     "metadata": {},
     "output_type": "execute_result"
    }
   ],
   "id": "1b2e93565f1cebaf"
  },
  {
   "cell_type": "markdown",
   "source": [
    "### Add bestseller information"
   ],
   "metadata": {
    "papermill": {
     "duration": 0.085919,
     "end_time": "2022-04-16T16:59:40.938934",
     "exception": false,
     "start_time": "2022-04-16T16:59:40.853015",
     "status": "completed"
    },
    "tags": []
   },
   "id": "43c893713e721c04"
  },
  {
   "cell_type": "code",
   "source": [
    "data = pd.merge(\n",
    "    data,\n",
    "    bestsellers_previous_week[['week', 'article_id', 'bestseller_rank']],\n",
    "    on=['week', 'article_id'],\n",
    "    how='left'\n",
    ")"
   ],
   "metadata": {
    "papermill": {
     "duration": 3.024555,
     "end_time": "2022-04-16T16:59:44.048610",
     "exception": false,
     "start_time": "2022-04-16T16:59:41.024055",
     "status": "completed"
    },
    "tags": [],
    "execution": {
     "iopub.status.busy": "2023-10-11T08:03:35.965024Z",
     "iopub.execute_input": "2023-10-11T08:03:35.965472Z",
     "iopub.status.idle": "2023-10-11T08:03:38.559690Z",
     "shell.execute_reply.started": "2023-10-11T08:03:35.965428Z",
     "shell.execute_reply": "2023-10-11T08:03:38.558101Z"
    },
    "trusted": true,
    "ExecuteTime": {
     "end_time": "2023-11-02T23:01:13.383966Z",
     "start_time": "2023-11-02T23:01:12.222731200Z"
    }
   },
   "execution_count": 81,
   "outputs": [],
   "id": "1f21fa2a4d8f0623"
  },
  {
   "cell_type": "code",
   "source": [
    "# data"
   ],
   "metadata": {
    "execution": {
     "iopub.status.busy": "2023-10-11T08:03:38.561214Z",
     "iopub.execute_input": "2023-10-11T08:03:38.561571Z",
     "iopub.status.idle": "2023-10-11T08:03:38.565588Z",
     "shell.execute_reply.started": "2023-10-11T08:03:38.561541Z",
     "shell.execute_reply": "2023-10-11T08:03:38.564676Z"
    },
    "trusted": true,
    "ExecuteTime": {
     "end_time": "2023-11-02T23:01:13.398982800Z",
     "start_time": "2023-11-02T23:01:13.383966Z"
    }
   },
   "execution_count": 82,
   "outputs": [],
   "id": "d8d51e54c66282e4"
  },
  {
   "cell_type": "code",
   "source": [
    "# merge mean_price_per_c with data to get the average price of the last purchase for each customer\n",
    "# data = pd.merge(data, mean_price_per_c, on='customer_id', how='left')\n",
    "\n",
    "# data = pd.merge(data, percentiles[['customer_id', 'Q1_price', 'Q3_price']], on='customer_id', how='left')\n",
    "\n",
    "# data = pd.merge(data, max_price_per_customer, on='customer_id', how='left')\n",
    "# data = pd.merge(data, min_price_per_customer, on='customer_id', how='left')\n",
    "\n",
    "# data = pd.merge(data, transactions_copy[['week', 'customer_id', 'season']], on=['week', 'customer_id'], how='left')\n",
    "\n",
    "# data = pd.merge(data, median_price_per_c, on='customer_id', how='left')\n",
    "\n",
    "data = pd.merge(data, max_price_per_article, on='article_id', how='left')\n",
    "data = pd.merge(data, min_price_per_article, on='article_id', how='left')"
   ],
   "metadata": {
    "collapsed": false,
    "execution": {
     "iopub.status.busy": "2023-10-11T08:03:38.566840Z",
     "iopub.execute_input": "2023-10-11T08:03:38.567333Z",
     "iopub.status.idle": "2023-10-11T08:03:43.006688Z",
     "shell.execute_reply.started": "2023-10-11T08:03:38.567305Z",
     "shell.execute_reply": "2023-10-11T08:03:43.005716Z"
    },
    "trusted": true,
    "ExecuteTime": {
     "end_time": "2023-11-02T23:01:15.613533800Z",
     "start_time": "2023-11-02T23:01:13.399982900Z"
    }
   },
   "execution_count": 83,
   "outputs": [],
   "id": "3fe665595b69404a"
  },
  {
   "cell_type": "code",
   "source": [
    "data = data[data.week != data.week.min()]\n",
    "data.bestseller_rank.fillna(999, inplace=True)"
   ],
   "metadata": {
    "papermill": {
     "duration": 1.650973,
     "end_time": "2022-04-16T16:59:45.781085",
     "exception": false,
     "start_time": "2022-04-16T16:59:44.130112",
     "status": "completed"
    },
    "tags": [],
    "execution": {
     "iopub.status.busy": "2023-10-11T08:03:43.008560Z",
     "iopub.execute_input": "2023-10-11T08:03:43.009547Z",
     "iopub.status.idle": "2023-10-11T08:03:44.875731Z",
     "shell.execute_reply.started": "2023-10-11T08:03:43.009511Z",
     "shell.execute_reply": "2023-10-11T08:03:44.874584Z"
    },
    "trusted": true,
    "ExecuteTime": {
     "end_time": "2023-11-02T23:01:16.175410300Z",
     "start_time": "2023-11-02T23:01:15.614534100Z"
    }
   },
   "execution_count": 84,
   "outputs": [],
   "id": "69f5421ca5a9f1fa"
  },
  {
   "cell_type": "code",
   "source": [
    "data"
   ],
   "metadata": {
    "execution": {
     "iopub.status.busy": "2023-10-11T08:03:44.877033Z",
     "iopub.execute_input": "2023-10-11T08:03:44.877378Z",
     "iopub.status.idle": "2023-10-11T08:03:44.902310Z",
     "shell.execute_reply.started": "2023-10-11T08:03:44.877348Z",
     "shell.execute_reply": "2023-10-11T08:03:44.900913Z"
    },
    "trusted": true,
    "ExecuteTime": {
     "end_time": "2023-11-02T23:01:16.192352300Z",
     "start_time": "2023-11-02T23:01:16.175410300Z"
    }
   },
   "execution_count": 85,
   "outputs": [
    {
     "data": {
      "text/plain": "              t_dat           customer_id  article_id     price  \\\n261987   2020-07-22       200292573348128   880777001  0.025407   \n261988   2020-07-22       200292573348128   784332002  0.025407   \n261989   2020-07-22       200292573348128   827968001  0.016932   \n261990   2020-07-22       200292573348128   599580086  0.011847   \n261991   2020-07-22       248294615847351   720504008  0.031458   \n...             ...                   ...         ...       ...   \n18253744 2020-09-22  18438270306572912089   915529003  0.033439   \n18253745 2020-09-22  18438270306572912089   915529005  0.033417   \n18253746 2020-09-22  18438270306572912089   448509014  0.041630   \n18253747 2020-09-22  18438270306572912089   762846027  0.025005   \n18253748 2020-09-22  18438270306572912089   714790020  0.049951   \n\n          sales_channel_id  week  purchased  bestseller_rank  \\\n261987                   2    96        1.0            999.0   \n261988                   2    96        1.0            999.0   \n261989                   2    96        1.0             10.0   \n261990                   2    96        1.0            999.0   \n261991                   1    96        1.0            999.0   \n...                    ...   ...        ...              ...   \n18253744                 1   105        0.0              8.0   \n18253745                 1   105        0.0              9.0   \n18253746                 1   105        0.0             10.0   \n18253747                 1   105        0.0             11.0   \n18253748                 1   105        0.0             12.0   \n\n          max_price_per_article  min_price_per_article  \n261987                 0.025407               0.020085  \n261988                 0.033881               0.011847  \n261989                 0.016932               0.003373  \n261990                 0.015237               0.006763  \n261991                 0.033881               0.014390  \n...                         ...                    ...  \n18253744               0.033881               0.022508  \n18253745               0.033881               0.014814  \n18253746               0.042356               0.014390  \n18253747               0.025407               0.012695  \n18253748               0.050831               0.018627  \n\n[17991762 rows x 10 columns]",
      "text/html": "<div>\n<style scoped>\n    .dataframe tbody tr th:only-of-type {\n        vertical-align: middle;\n    }\n\n    .dataframe tbody tr th {\n        vertical-align: top;\n    }\n\n    .dataframe thead th {\n        text-align: right;\n    }\n</style>\n<table border=\"1\" class=\"dataframe\">\n  <thead>\n    <tr style=\"text-align: right;\">\n      <th></th>\n      <th>t_dat</th>\n      <th>customer_id</th>\n      <th>article_id</th>\n      <th>price</th>\n      <th>sales_channel_id</th>\n      <th>week</th>\n      <th>purchased</th>\n      <th>bestseller_rank</th>\n      <th>max_price_per_article</th>\n      <th>min_price_per_article</th>\n    </tr>\n  </thead>\n  <tbody>\n    <tr>\n      <th>261987</th>\n      <td>2020-07-22</td>\n      <td>200292573348128</td>\n      <td>880777001</td>\n      <td>0.025407</td>\n      <td>2</td>\n      <td>96</td>\n      <td>1.0</td>\n      <td>999.0</td>\n      <td>0.025407</td>\n      <td>0.020085</td>\n    </tr>\n    <tr>\n      <th>261988</th>\n      <td>2020-07-22</td>\n      <td>200292573348128</td>\n      <td>784332002</td>\n      <td>0.025407</td>\n      <td>2</td>\n      <td>96</td>\n      <td>1.0</td>\n      <td>999.0</td>\n      <td>0.033881</td>\n      <td>0.011847</td>\n    </tr>\n    <tr>\n      <th>261989</th>\n      <td>2020-07-22</td>\n      <td>200292573348128</td>\n      <td>827968001</td>\n      <td>0.016932</td>\n      <td>2</td>\n      <td>96</td>\n      <td>1.0</td>\n      <td>10.0</td>\n      <td>0.016932</td>\n      <td>0.003373</td>\n    </tr>\n    <tr>\n      <th>261990</th>\n      <td>2020-07-22</td>\n      <td>200292573348128</td>\n      <td>599580086</td>\n      <td>0.011847</td>\n      <td>2</td>\n      <td>96</td>\n      <td>1.0</td>\n      <td>999.0</td>\n      <td>0.015237</td>\n      <td>0.006763</td>\n    </tr>\n    <tr>\n      <th>261991</th>\n      <td>2020-07-22</td>\n      <td>248294615847351</td>\n      <td>720504008</td>\n      <td>0.031458</td>\n      <td>1</td>\n      <td>96</td>\n      <td>1.0</td>\n      <td>999.0</td>\n      <td>0.033881</td>\n      <td>0.014390</td>\n    </tr>\n    <tr>\n      <th>...</th>\n      <td>...</td>\n      <td>...</td>\n      <td>...</td>\n      <td>...</td>\n      <td>...</td>\n      <td>...</td>\n      <td>...</td>\n      <td>...</td>\n      <td>...</td>\n      <td>...</td>\n    </tr>\n    <tr>\n      <th>18253744</th>\n      <td>2020-09-22</td>\n      <td>18438270306572912089</td>\n      <td>915529003</td>\n      <td>0.033439</td>\n      <td>1</td>\n      <td>105</td>\n      <td>0.0</td>\n      <td>8.0</td>\n      <td>0.033881</td>\n      <td>0.022508</td>\n    </tr>\n    <tr>\n      <th>18253745</th>\n      <td>2020-09-22</td>\n      <td>18438270306572912089</td>\n      <td>915529005</td>\n      <td>0.033417</td>\n      <td>1</td>\n      <td>105</td>\n      <td>0.0</td>\n      <td>9.0</td>\n      <td>0.033881</td>\n      <td>0.014814</td>\n    </tr>\n    <tr>\n      <th>18253746</th>\n      <td>2020-09-22</td>\n      <td>18438270306572912089</td>\n      <td>448509014</td>\n      <td>0.041630</td>\n      <td>1</td>\n      <td>105</td>\n      <td>0.0</td>\n      <td>10.0</td>\n      <td>0.042356</td>\n      <td>0.014390</td>\n    </tr>\n    <tr>\n      <th>18253747</th>\n      <td>2020-09-22</td>\n      <td>18438270306572912089</td>\n      <td>762846027</td>\n      <td>0.025005</td>\n      <td>1</td>\n      <td>105</td>\n      <td>0.0</td>\n      <td>11.0</td>\n      <td>0.025407</td>\n      <td>0.012695</td>\n    </tr>\n    <tr>\n      <th>18253748</th>\n      <td>2020-09-22</td>\n      <td>18438270306572912089</td>\n      <td>714790020</td>\n      <td>0.049951</td>\n      <td>1</td>\n      <td>105</td>\n      <td>0.0</td>\n      <td>12.0</td>\n      <td>0.050831</td>\n      <td>0.018627</td>\n    </tr>\n  </tbody>\n</table>\n<p>17991762 rows × 10 columns</p>\n</div>"
     },
     "execution_count": 85,
     "metadata": {},
     "output_type": "execute_result"
    }
   ],
   "id": "4568b3ffc0a501ff"
  },
  {
   "cell_type": "code",
   "source": [
    "# replace every -1 value in age column of customers dataset with the mean age value\n",
    "# customers.age.replace(-1, customers.age.mean(), inplace=True)\n",
    "\n",
    "# customers['age_group'] = pd.cut(customers.age, bins=[0, 20, 40, 60, 80, 100], labels=['1', '2', '3', '4', '5'])\n",
    "# # One-hot-encode the 'age_group' column\n",
    "# customers = pd.get_dummies(customers, columns=['age_group'], prefix='age_group')\n"
   ],
   "metadata": {
    "execution": {
     "iopub.status.busy": "2023-10-11T08:03:44.903674Z",
     "iopub.execute_input": "2023-10-11T08:03:44.904025Z",
     "iopub.status.idle": "2023-10-11T08:03:44.912324Z",
     "shell.execute_reply.started": "2023-10-11T08:03:44.903996Z",
     "shell.execute_reply": "2023-10-11T08:03:44.911190Z"
    },
    "trusted": true,
    "ExecuteTime": {
     "end_time": "2023-11-02T23:01:16.218872200Z",
     "start_time": "2023-11-02T23:01:16.192352300Z"
    }
   },
   "execution_count": 86,
   "outputs": [],
   "id": "edf5576e17d3fc7a"
  },
  {
   "cell_type": "code",
   "source": [
    "customers"
   ],
   "metadata": {
    "execution": {
     "iopub.status.busy": "2023-10-11T08:03:44.913621Z",
     "iopub.execute_input": "2023-10-11T08:03:44.913952Z",
     "iopub.status.idle": "2023-10-11T08:03:44.934455Z",
     "shell.execute_reply.started": "2023-10-11T08:03:44.913924Z",
     "shell.execute_reply": "2023-10-11T08:03:44.933225Z"
    },
    "trusted": true,
    "ExecuteTime": {
     "end_time": "2023-11-02T23:01:16.275457600Z",
     "start_time": "2023-11-02T23:01:16.208365800Z"
    }
   },
   "execution_count": 87,
   "outputs": [
    {
     "data": {
      "text/plain": "                  customer_id  FN  Active  club_member_status  \\\n0         6883939031699146327  -1      -1                   0   \n1        11246327431398957306  -1      -1                   0   \n2        18439897732908966680  -1      -1                   0   \n3        18352672461570950206  -1      -1                   0   \n4        18162778555210377306   1       1                   0   \n...                       ...  ..     ...                 ...   \n1371975   7551062398649767985  -1      -1                   0   \n1371976   9305341941720086711  -1      -1                   0   \n1371977  10160427316885688932   1       1                   0   \n1371978   2551401172826382186   1       1                   0   \n1371979  16929951892735599169  -1      -1                   1   \n\n         fashion_news_frequency  age  postal_code  \n0                             0   49         6305  \n1                             0   25        33726  \n2                             0   24         3247  \n3                             0   54       168643  \n4                             1   52       168645  \n...                         ...  ...          ...  \n1371975                       0   24        50351  \n1371976                       0   21        80169  \n1371977                       1   21       106737  \n1371978                       1   18       111894  \n1371979                       0   65       352898  \n\n[1371980 rows x 7 columns]",
      "text/html": "<div>\n<style scoped>\n    .dataframe tbody tr th:only-of-type {\n        vertical-align: middle;\n    }\n\n    .dataframe tbody tr th {\n        vertical-align: top;\n    }\n\n    .dataframe thead th {\n        text-align: right;\n    }\n</style>\n<table border=\"1\" class=\"dataframe\">\n  <thead>\n    <tr style=\"text-align: right;\">\n      <th></th>\n      <th>customer_id</th>\n      <th>FN</th>\n      <th>Active</th>\n      <th>club_member_status</th>\n      <th>fashion_news_frequency</th>\n      <th>age</th>\n      <th>postal_code</th>\n    </tr>\n  </thead>\n  <tbody>\n    <tr>\n      <th>0</th>\n      <td>6883939031699146327</td>\n      <td>-1</td>\n      <td>-1</td>\n      <td>0</td>\n      <td>0</td>\n      <td>49</td>\n      <td>6305</td>\n    </tr>\n    <tr>\n      <th>1</th>\n      <td>11246327431398957306</td>\n      <td>-1</td>\n      <td>-1</td>\n      <td>0</td>\n      <td>0</td>\n      <td>25</td>\n      <td>33726</td>\n    </tr>\n    <tr>\n      <th>2</th>\n      <td>18439897732908966680</td>\n      <td>-1</td>\n      <td>-1</td>\n      <td>0</td>\n      <td>0</td>\n      <td>24</td>\n      <td>3247</td>\n    </tr>\n    <tr>\n      <th>3</th>\n      <td>18352672461570950206</td>\n      <td>-1</td>\n      <td>-1</td>\n      <td>0</td>\n      <td>0</td>\n      <td>54</td>\n      <td>168643</td>\n    </tr>\n    <tr>\n      <th>4</th>\n      <td>18162778555210377306</td>\n      <td>1</td>\n      <td>1</td>\n      <td>0</td>\n      <td>1</td>\n      <td>52</td>\n      <td>168645</td>\n    </tr>\n    <tr>\n      <th>...</th>\n      <td>...</td>\n      <td>...</td>\n      <td>...</td>\n      <td>...</td>\n      <td>...</td>\n      <td>...</td>\n      <td>...</td>\n    </tr>\n    <tr>\n      <th>1371975</th>\n      <td>7551062398649767985</td>\n      <td>-1</td>\n      <td>-1</td>\n      <td>0</td>\n      <td>0</td>\n      <td>24</td>\n      <td>50351</td>\n    </tr>\n    <tr>\n      <th>1371976</th>\n      <td>9305341941720086711</td>\n      <td>-1</td>\n      <td>-1</td>\n      <td>0</td>\n      <td>0</td>\n      <td>21</td>\n      <td>80169</td>\n    </tr>\n    <tr>\n      <th>1371977</th>\n      <td>10160427316885688932</td>\n      <td>1</td>\n      <td>1</td>\n      <td>0</td>\n      <td>1</td>\n      <td>21</td>\n      <td>106737</td>\n    </tr>\n    <tr>\n      <th>1371978</th>\n      <td>2551401172826382186</td>\n      <td>1</td>\n      <td>1</td>\n      <td>0</td>\n      <td>1</td>\n      <td>18</td>\n      <td>111894</td>\n    </tr>\n    <tr>\n      <th>1371979</th>\n      <td>16929951892735599169</td>\n      <td>-1</td>\n      <td>-1</td>\n      <td>1</td>\n      <td>0</td>\n      <td>65</td>\n      <td>352898</td>\n    </tr>\n  </tbody>\n</table>\n<p>1371980 rows × 7 columns</p>\n</div>"
     },
     "execution_count": 87,
     "metadata": {},
     "output_type": "execute_result"
    }
   ],
   "id": "d2f607459556b3c0"
  },
  {
   "cell_type": "code",
   "source": [
    "data = pd.merge(data, articles, on='article_id', how='left')\n",
    "data = pd.merge(data, customers, on='customer_id', how='left')"
   ],
   "metadata": {
    "papermill": {
     "duration": 25.250701,
     "end_time": "2022-04-16T17:00:11.116901",
     "exception": false,
     "start_time": "2022-04-16T16:59:45.866200",
     "status": "completed"
    },
    "tags": [],
    "execution": {
     "iopub.status.busy": "2023-10-11T08:03:44.935804Z",
     "iopub.execute_input": "2023-10-11T08:03:44.937026Z",
     "iopub.status.idle": "2023-10-11T08:03:52.653197Z",
     "shell.execute_reply.started": "2023-10-11T08:03:44.936991Z",
     "shell.execute_reply": "2023-10-11T08:03:52.652271Z"
    },
    "trusted": true,
    "ExecuteTime": {
     "end_time": "2023-11-02T23:01:20.396717500Z",
     "start_time": "2023-11-02T23:01:16.224872600Z"
    }
   },
   "execution_count": 88,
   "outputs": [],
   "id": "944de5ba545172e1"
  },
  {
   "cell_type": "code",
   "source": [
    "# correlation = data['article_id'].corr(data['mean_price_per_c'])\n",
    "correlation = data['article_id'].corr(data['max_price_per_article'])\n",
    "correlation = data['article_id'].corr(data['min_price_per_article'])"
   ],
   "metadata": {
    "execution": {
     "iopub.status.busy": "2023-10-11T08:03:52.654699Z",
     "iopub.execute_input": "2023-10-11T08:03:52.655404Z",
     "iopub.status.idle": "2023-10-11T08:03:53.349215Z",
     "shell.execute_reply.started": "2023-10-11T08:03:52.655366Z",
     "shell.execute_reply": "2023-10-11T08:03:53.348194Z"
    },
    "trusted": true,
    "ExecuteTime": {
     "end_time": "2023-11-02T23:01:20.883799700Z",
     "start_time": "2023-11-02T23:01:20.396717500Z"
    }
   },
   "execution_count": 89,
   "outputs": [],
   "id": "4048e45228e5f8cb"
  },
  {
   "cell_type": "code",
   "source": [
    "correlation"
   ],
   "metadata": {
    "execution": {
     "iopub.status.busy": "2023-10-11T08:03:53.350704Z",
     "iopub.execute_input": "2023-10-11T08:03:53.351440Z",
     "iopub.status.idle": "2023-10-11T08:03:53.358854Z",
     "shell.execute_reply.started": "2023-10-11T08:03:53.351400Z",
     "shell.execute_reply": "2023-10-11T08:03:53.357603Z"
    },
    "trusted": true,
    "ExecuteTime": {
     "end_time": "2023-11-02T23:01:20.899013200Z",
     "start_time": "2023-11-02T23:01:20.884801200Z"
    }
   },
   "execution_count": 90,
   "outputs": [
    {
     "data": {
      "text/plain": "0.2687475812553158"
     },
     "execution_count": 90,
     "metadata": {},
     "output_type": "execute_result"
    }
   ],
   "id": "24639ff8f0d686d5"
  },
  {
   "cell_type": "code",
   "source": [
    "data.sort_values(['week', 'customer_id'], inplace=True)\n",
    "data.reset_index(drop=True, inplace=True)"
   ],
   "metadata": {
    "papermill": {
     "duration": 6.526551,
     "end_time": "2022-04-16T17:00:17.700139",
     "exception": false,
     "start_time": "2022-04-16T17:00:11.173588",
     "status": "completed"
    },
    "tags": [],
    "execution": {
     "iopub.status.busy": "2023-10-11T08:03:53.360623Z",
     "iopub.execute_input": "2023-10-11T08:03:53.361255Z",
     "iopub.status.idle": "2023-10-11T08:03:58.996101Z",
     "shell.execute_reply.started": "2023-10-11T08:03:53.361181Z",
     "shell.execute_reply": "2023-10-11T08:03:58.994878Z"
    },
    "trusted": true,
    "ExecuteTime": {
     "end_time": "2023-11-02T23:01:23.233081400Z",
     "start_time": "2023-11-02T23:01:20.900013800Z"
    }
   },
   "execution_count": 91,
   "outputs": [],
   "id": "cf878ef12e8a2606"
  },
  {
   "cell_type": "code",
   "source": [
    "train = data[data.week != test_week]\n",
    "test = data[data.week==test_week].drop_duplicates(['customer_id', 'article_id', 'sales_channel_id']).copy()"
   ],
   "metadata": {
    "papermill": {
     "duration": 6.711593,
     "end_time": "2022-04-16T17:00:24.465301",
     "exception": false,
     "start_time": "2022-04-16T17:00:17.753708",
     "status": "completed"
    },
    "tags": [],
    "execution": {
     "iopub.status.busy": "2023-10-11T08:03:58.997487Z",
     "iopub.execute_input": "2023-10-11T08:03:58.998061Z",
     "iopub.status.idle": "2023-10-11T08:04:05.048167Z",
     "shell.execute_reply.started": "2023-10-11T08:03:58.998031Z",
     "shell.execute_reply": "2023-10-11T08:04:05.046865Z"
    },
    "trusted": true,
    "ExecuteTime": {
     "end_time": "2023-11-02T23:01:25.811235400Z",
     "start_time": "2023-11-02T23:01:23.232081200Z"
    }
   },
   "execution_count": 92,
   "outputs": [],
   "id": "9918b84796200b6e"
  },
  {
   "cell_type": "code",
   "source": [
    "train_baskets = train.groupby(['week', 'customer_id'])['article_id'].count().values"
   ],
   "metadata": {
    "papermill": {
     "duration": 1.036818,
     "end_time": "2022-04-16T17:00:25.556300",
     "exception": false,
     "start_time": "2022-04-16T17:00:24.519482",
     "status": "completed"
    },
    "tags": [],
    "execution": {
     "iopub.status.busy": "2023-10-11T08:04:05.049936Z",
     "iopub.execute_input": "2023-10-11T08:04:05.050282Z",
     "iopub.status.idle": "2023-10-11T08:04:05.826591Z",
     "shell.execute_reply.started": "2023-10-11T08:04:05.050248Z",
     "shell.execute_reply": "2023-10-11T08:04:05.825128Z"
    },
    "trusted": true,
    "ExecuteTime": {
     "end_time": "2023-11-02T23:01:26.231982700Z",
     "start_time": "2023-11-02T23:01:25.812235400Z"
    }
   },
   "execution_count": 93,
   "outputs": [],
   "id": "ba7d814dbd464026"
  },
  {
   "cell_type": "code",
   "source": [
    "extra_columns = []\n",
    "columns_to_use = ['article_id', 'product_type_no', 'graphical_appearance_no', 'colour_group_code', 'perceived_colour_value_id',\n",
    "'perceived_colour_master_id', 'department_no', 'index_code',\n",
    "'index_group_no', 'section_no', 'garment_group_no', 'FN', 'Active',\n",
    "'club_member_status', 'fashion_news_frequency', 'age', 'postal_code', 'bestseller_rank']\n",
    "columns_to_use.extend(extra_columns)"
   ],
   "metadata": {
    "papermill": {
     "duration": 0.070485,
     "end_time": "2022-04-16T17:00:25.687322",
     "exception": false,
     "start_time": "2022-04-16T17:00:25.616837",
     "status": "completed"
    },
    "tags": [],
    "execution": {
     "iopub.status.busy": "2023-10-11T08:04:05.828276Z",
     "iopub.execute_input": "2023-10-11T08:04:05.828819Z",
     "iopub.status.idle": "2023-10-11T08:04:05.834579Z",
     "shell.execute_reply.started": "2023-10-11T08:04:05.828659Z",
     "shell.execute_reply": "2023-10-11T08:04:05.833394Z"
    },
    "trusted": true,
    "ExecuteTime": {
     "end_time": "2023-11-02T23:01:26.247711800Z",
     "start_time": "2023-11-02T23:01:26.232983700Z"
    }
   },
   "execution_count": 94,
   "outputs": [],
   "id": "a24741570390faec"
  },
  {
   "cell_type": "code",
   "source": [
    "train_X = train[columns_to_use]\n",
    "train_y = train['purchased']\n",
    "\n",
    "test_X = test[columns_to_use]"
   ],
   "metadata": {
    "papermill": {
     "duration": 0.633318,
     "end_time": "2022-04-16T17:00:26.379109",
     "exception": false,
     "start_time": "2022-04-16T17:00:25.745791",
     "status": "completed"
    },
    "tags": [],
    "execution": {
     "iopub.status.busy": "2023-10-11T08:04:05.835768Z",
     "iopub.execute_input": "2023-10-11T08:04:05.836432Z",
     "iopub.status.idle": "2023-10-11T08:04:06.660128Z",
     "shell.execute_reply.started": "2023-10-11T08:04:05.836399Z",
     "shell.execute_reply": "2023-10-11T08:04:06.658324Z"
    },
    "trusted": true,
    "ExecuteTime": {
     "end_time": "2023-11-02T23:01:26.482252900Z",
     "start_time": "2023-11-02T23:01:26.247711800Z"
    }
   },
   "execution_count": 95,
   "outputs": [],
   "id": "84918c306f6c2fbf"
  },
  {
   "cell_type": "code",
   "source": [
    "test_X"
   ],
   "metadata": {
    "execution": {
     "iopub.status.busy": "2023-10-11T08:04:06.661241Z",
     "iopub.status.idle": "2023-10-11T08:04:06.661650Z",
     "shell.execute_reply.started": "2023-10-11T08:04:06.661472Z",
     "shell.execute_reply": "2023-10-11T08:04:06.661490Z"
    },
    "trusted": true,
    "ExecuteTime": {
     "end_time": "2023-11-02T23:01:26.498450200Z",
     "start_time": "2023-11-02T23:01:26.488237700Z"
    }
   },
   "execution_count": 96,
   "outputs": [
    {
     "data": {
      "text/plain": "          article_id  product_type_no  graphical_appearance_no  \\\n11381612   925246001              262                  1010016   \n11381613   924243001              252                  1010016   \n11381614   924243002              252                  1010016   \n11381615   918522001              252                  1010016   \n11381616   923758001               -1                  1010016   \n...              ...              ...                      ...   \n17991757   915529003              252                  1010016   \n17991758   915529005              252                  1010016   \n17991759   448509014              272                  1010016   \n17991760   762846027              259                  1010016   \n17991761   714790020              272                  1010023   \n\n          colour_group_code  perceived_colour_value_id  \\\n11381612                  9                          4   \n11381613                 13                          1   \n11381614                  9                          4   \n11381615                 11                          3   \n11381616                 10                          3   \n...                     ...                        ...   \n17991757                  9                          4   \n17991758                 13                          1   \n17991759                 72                          3   \n17991760                 13                          1   \n17991761                 72                          2   \n\n          perceived_colour_master_id  department_no  index_code  \\\n11381612                           5           1201           0   \n11381613                           1           1626           0   \n11381614                           5           1626           0   \n11381615                           9           1626           0   \n11381616                           9           1522           0   \n...                              ...            ...         ...   \n17991757                           5           1626           0   \n17991758                           1           1626           0   \n17991759                           2           1747           1   \n17991760                           1           1515           0   \n17991761                           2           1772           1   \n\n          index_group_no  section_no  garment_group_no  FN  Active  \\\n11381612               1          19              1007   1       1   \n11381613               1          15              1003   1       1   \n11381614               1          15              1003   1       1   \n11381615               1          15              1003   1       1   \n11381616               1          15              1010   1       1   \n...                  ...         ...               ...  ..     ...   \n17991757               1          15              1003   1       1   \n17991758               1          15              1003   1       1   \n17991759               2          53              1009   1       1   \n17991760               1          11              1010   1       1   \n17991761               2          57              1016   1       1   \n\n          club_member_status  fashion_news_frequency  age  postal_code  \\\n11381612                   0                       1   21        57896   \n11381613                   0                       1   21        57896   \n11381614                   0                       1   21        57896   \n11381615                   0                       1   21        57896   \n11381616                   0                       1   21        57896   \n...                      ...                     ...  ...          ...   \n17991757                   0                       1   60        96323   \n17991758                   0                       1   60        96323   \n17991759                   0                       1   60        96323   \n17991760                   0                       1   60        96323   \n17991761                   0                       1   60        96323   \n\n          bestseller_rank  \n11381612            999.0  \n11381613              1.0  \n11381614              2.0  \n11381615              3.0  \n11381616              4.0  \n...                   ...  \n17991757              8.0  \n17991758              9.0  \n17991759             10.0  \n17991760             11.0  \n17991761             12.0  \n\n[6610150 rows x 18 columns]",
      "text/html": "<div>\n<style scoped>\n    .dataframe tbody tr th:only-of-type {\n        vertical-align: middle;\n    }\n\n    .dataframe tbody tr th {\n        vertical-align: top;\n    }\n\n    .dataframe thead th {\n        text-align: right;\n    }\n</style>\n<table border=\"1\" class=\"dataframe\">\n  <thead>\n    <tr style=\"text-align: right;\">\n      <th></th>\n      <th>article_id</th>\n      <th>product_type_no</th>\n      <th>graphical_appearance_no</th>\n      <th>colour_group_code</th>\n      <th>perceived_colour_value_id</th>\n      <th>perceived_colour_master_id</th>\n      <th>department_no</th>\n      <th>index_code</th>\n      <th>index_group_no</th>\n      <th>section_no</th>\n      <th>garment_group_no</th>\n      <th>FN</th>\n      <th>Active</th>\n      <th>club_member_status</th>\n      <th>fashion_news_frequency</th>\n      <th>age</th>\n      <th>postal_code</th>\n      <th>bestseller_rank</th>\n    </tr>\n  </thead>\n  <tbody>\n    <tr>\n      <th>11381612</th>\n      <td>925246001</td>\n      <td>262</td>\n      <td>1010016</td>\n      <td>9</td>\n      <td>4</td>\n      <td>5</td>\n      <td>1201</td>\n      <td>0</td>\n      <td>1</td>\n      <td>19</td>\n      <td>1007</td>\n      <td>1</td>\n      <td>1</td>\n      <td>0</td>\n      <td>1</td>\n      <td>21</td>\n      <td>57896</td>\n      <td>999.0</td>\n    </tr>\n    <tr>\n      <th>11381613</th>\n      <td>924243001</td>\n      <td>252</td>\n      <td>1010016</td>\n      <td>13</td>\n      <td>1</td>\n      <td>1</td>\n      <td>1626</td>\n      <td>0</td>\n      <td>1</td>\n      <td>15</td>\n      <td>1003</td>\n      <td>1</td>\n      <td>1</td>\n      <td>0</td>\n      <td>1</td>\n      <td>21</td>\n      <td>57896</td>\n      <td>1.0</td>\n    </tr>\n    <tr>\n      <th>11381614</th>\n      <td>924243002</td>\n      <td>252</td>\n      <td>1010016</td>\n      <td>9</td>\n      <td>4</td>\n      <td>5</td>\n      <td>1626</td>\n      <td>0</td>\n      <td>1</td>\n      <td>15</td>\n      <td>1003</td>\n      <td>1</td>\n      <td>1</td>\n      <td>0</td>\n      <td>1</td>\n      <td>21</td>\n      <td>57896</td>\n      <td>2.0</td>\n    </tr>\n    <tr>\n      <th>11381615</th>\n      <td>918522001</td>\n      <td>252</td>\n      <td>1010016</td>\n      <td>11</td>\n      <td>3</td>\n      <td>9</td>\n      <td>1626</td>\n      <td>0</td>\n      <td>1</td>\n      <td>15</td>\n      <td>1003</td>\n      <td>1</td>\n      <td>1</td>\n      <td>0</td>\n      <td>1</td>\n      <td>21</td>\n      <td>57896</td>\n      <td>3.0</td>\n    </tr>\n    <tr>\n      <th>11381616</th>\n      <td>923758001</td>\n      <td>-1</td>\n      <td>1010016</td>\n      <td>10</td>\n      <td>3</td>\n      <td>9</td>\n      <td>1522</td>\n      <td>0</td>\n      <td>1</td>\n      <td>15</td>\n      <td>1010</td>\n      <td>1</td>\n      <td>1</td>\n      <td>0</td>\n      <td>1</td>\n      <td>21</td>\n      <td>57896</td>\n      <td>4.0</td>\n    </tr>\n    <tr>\n      <th>...</th>\n      <td>...</td>\n      <td>...</td>\n      <td>...</td>\n      <td>...</td>\n      <td>...</td>\n      <td>...</td>\n      <td>...</td>\n      <td>...</td>\n      <td>...</td>\n      <td>...</td>\n      <td>...</td>\n      <td>...</td>\n      <td>...</td>\n      <td>...</td>\n      <td>...</td>\n      <td>...</td>\n      <td>...</td>\n      <td>...</td>\n    </tr>\n    <tr>\n      <th>17991757</th>\n      <td>915529003</td>\n      <td>252</td>\n      <td>1010016</td>\n      <td>9</td>\n      <td>4</td>\n      <td>5</td>\n      <td>1626</td>\n      <td>0</td>\n      <td>1</td>\n      <td>15</td>\n      <td>1003</td>\n      <td>1</td>\n      <td>1</td>\n      <td>0</td>\n      <td>1</td>\n      <td>60</td>\n      <td>96323</td>\n      <td>8.0</td>\n    </tr>\n    <tr>\n      <th>17991758</th>\n      <td>915529005</td>\n      <td>252</td>\n      <td>1010016</td>\n      <td>13</td>\n      <td>1</td>\n      <td>1</td>\n      <td>1626</td>\n      <td>0</td>\n      <td>1</td>\n      <td>15</td>\n      <td>1003</td>\n      <td>1</td>\n      <td>1</td>\n      <td>0</td>\n      <td>1</td>\n      <td>60</td>\n      <td>96323</td>\n      <td>9.0</td>\n    </tr>\n    <tr>\n      <th>17991759</th>\n      <td>448509014</td>\n      <td>272</td>\n      <td>1010016</td>\n      <td>72</td>\n      <td>3</td>\n      <td>2</td>\n      <td>1747</td>\n      <td>1</td>\n      <td>2</td>\n      <td>53</td>\n      <td>1009</td>\n      <td>1</td>\n      <td>1</td>\n      <td>0</td>\n      <td>1</td>\n      <td>60</td>\n      <td>96323</td>\n      <td>10.0</td>\n    </tr>\n    <tr>\n      <th>17991760</th>\n      <td>762846027</td>\n      <td>259</td>\n      <td>1010016</td>\n      <td>13</td>\n      <td>1</td>\n      <td>1</td>\n      <td>1515</td>\n      <td>0</td>\n      <td>1</td>\n      <td>11</td>\n      <td>1010</td>\n      <td>1</td>\n      <td>1</td>\n      <td>0</td>\n      <td>1</td>\n      <td>60</td>\n      <td>96323</td>\n      <td>11.0</td>\n    </tr>\n    <tr>\n      <th>17991761</th>\n      <td>714790020</td>\n      <td>272</td>\n      <td>1010023</td>\n      <td>72</td>\n      <td>2</td>\n      <td>2</td>\n      <td>1772</td>\n      <td>1</td>\n      <td>2</td>\n      <td>57</td>\n      <td>1016</td>\n      <td>1</td>\n      <td>1</td>\n      <td>0</td>\n      <td>1</td>\n      <td>60</td>\n      <td>96323</td>\n      <td>12.0</td>\n    </tr>\n  </tbody>\n</table>\n<p>6610150 rows × 18 columns</p>\n</div>"
     },
     "execution_count": 96,
     "metadata": {},
     "output_type": "execute_result"
    }
   ],
   "id": "f3d93799760e2fad"
  },
  {
   "cell_type": "markdown",
   "source": [
    "# Model training"
   ],
   "metadata": {
    "papermill": {
     "duration": 0.09573,
     "end_time": "2022-04-16T17:00:26.563647",
     "exception": false,
     "start_time": "2022-04-16T17:00:26.467917",
     "status": "completed"
    },
    "tags": []
   },
   "id": "9b8dfb6049a2a3ff"
  },
  {
   "cell_type": "code",
   "source": [
    "from lightgbm.sklearn import LGBMRanker"
   ],
   "metadata": {
    "papermill": {
     "duration": 1.297829,
     "end_time": "2022-04-16T17:00:27.954191",
     "exception": false,
     "start_time": "2022-04-16T17:00:26.656362",
     "status": "completed"
    },
    "tags": [],
    "execution": {
     "iopub.status.busy": "2023-10-11T08:04:06.667274Z",
     "iopub.status.idle": "2023-10-11T08:04:06.667820Z",
     "shell.execute_reply.started": "2023-10-11T08:04:06.667577Z",
     "shell.execute_reply": "2023-10-11T08:04:06.667600Z"
    },
    "trusted": true,
    "ExecuteTime": {
     "end_time": "2023-11-02T23:01:26.576791800Z",
     "start_time": "2023-11-02T23:01:26.498450200Z"
    }
   },
   "execution_count": 97,
   "outputs": [],
   "id": "69ca6681f80800ab"
  },
  {
   "cell_type": "code",
   "source": [
    "ranker = LGBMRanker(\n",
    "    objective=\"lambdarank\",\n",
    "    metric=\"ndcg\",\n",
    "    boosting_type=\"dart\",\n",
    "    n_estimators=1,\n",
    "    importance_type='gain',\n",
    "    verbose=10\n",
    ")"
   ],
   "metadata": {
    "papermill": {
     "duration": 0.101059,
     "end_time": "2022-04-16T17:00:28.147805",
     "exception": false,
     "start_time": "2022-04-16T17:00:28.046746",
     "status": "completed"
    },
    "tags": [],
    "execution": {
     "iopub.status.busy": "2023-10-11T08:04:06.669873Z",
     "iopub.status.idle": "2023-10-11T08:04:06.670717Z",
     "shell.execute_reply.started": "2023-10-11T08:04:06.670458Z",
     "shell.execute_reply": "2023-10-11T08:04:06.670501Z"
    },
    "trusted": true,
    "ExecuteTime": {
     "end_time": "2023-11-02T23:01:26.592808300Z",
     "start_time": "2023-11-02T23:01:26.576288300Z"
    }
   },
   "execution_count": 98,
   "outputs": [],
   "id": "962a3e90ebab0442"
  },
  {
   "cell_type": "code",
   "source": [
    "ranker = ranker.fit(\n",
    "    train_X,\n",
    "    train_y,\n",
    "    group=train_baskets,\n",
    ")"
   ],
   "metadata": {
    "papermill": {
     "duration": 11.066279,
     "end_time": "2022-04-16T17:00:39.301931",
     "exception": false,
     "start_time": "2022-04-16T17:00:28.235652",
     "status": "completed"
    },
    "tags": [],
    "execution": {
     "iopub.status.busy": "2023-10-11T08:04:06.672341Z",
     "iopub.status.idle": "2023-10-11T08:04:06.673322Z",
     "shell.execute_reply.started": "2023-10-11T08:04:06.672987Z",
     "shell.execute_reply": "2023-10-11T08:04:06.673007Z"
    },
    "trusted": true,
    "ExecuteTime": {
     "end_time": "2023-11-02T23:01:28.560029500Z",
     "start_time": "2023-11-02T23:01:26.591808300Z"
    }
   },
   "execution_count": 99,
   "outputs": [
    {
     "name": "stdout",
     "output_type": "stream",
     "text": [
      "[LightGBM] [Debug] Dataset::GetMultiBinFromSparseFeatures: sparse rate 0.848850\n",
      "[LightGBM] [Debug] Dataset::GetMultiBinFromAllFeatures: sparse rate 0.153113\n",
      "[LightGBM] [Debug] init for col-wise cost 0.101089 seconds, init for row-wise cost 0.098679 seconds\n",
      "[LightGBM] [Info] Auto-choosing row-wise multi-threading, the overhead of testing was 0.148236 seconds.\n",
      "You can set `force_row_wise=true` to remove the overhead.\n",
      "And if memory is not enough, you can set `force_col_wise=true`.\n",
      "[LightGBM] [Debug] Using Dense Multi-Val Bin\n",
      "[LightGBM] [Info] Total Bins 1079\n",
      "[LightGBM] [Info] Number of data points in the train set: 11381612, number of used features: 18\n",
      "[LightGBM] [Debug] Trained a tree with leaves = 31 and depth = 12\n"
     ]
    }
   ],
   "id": "d66a13b6aae7e71d"
  },
  {
   "cell_type": "code",
   "source": [
    "for i in ranker.feature_importances_.argsort()[::-1]:\n",
    "    print(columns_to_use[i], ranker.feature_importances_[i]/ranker.feature_importances_.sum())"
   ],
   "metadata": {
    "papermill": {
     "duration": 0.107527,
     "end_time": "2022-04-16T17:00:39.466759",
     "exception": false,
     "start_time": "2022-04-16T17:00:39.359232",
     "status": "completed"
    },
    "tags": [],
    "execution": {
     "iopub.status.busy": "2023-10-11T08:04:06.675105Z",
     "iopub.status.idle": "2023-10-11T08:04:06.675529Z",
     "shell.execute_reply.started": "2023-10-11T08:04:06.675343Z",
     "shell.execute_reply": "2023-10-11T08:04:06.675362Z"
    },
    "trusted": true,
    "ExecuteTime": {
     "end_time": "2023-11-02T23:01:28.606034Z",
     "start_time": "2023-11-02T23:01:28.561029200Z"
    }
   },
   "execution_count": 100,
   "outputs": [
    {
     "name": "stdout",
     "output_type": "stream",
     "text": [
      "bestseller_rank 0.9989805711820897\n",
      "age 0.00024136039423249762\n",
      "article_id 0.0001716082873112681\n",
      "garment_group_no 0.000144767354190598\n",
      "department_no 9.631753928857237e-05\n",
      "product_type_no 9.014783466245737e-05\n",
      "section_no 7.07609526662605e-05\n",
      "postal_code 6.79219757232404e-05\n",
      "club_member_status 6.519780365736126e-05\n",
      "colour_group_code 5.3587542243445946e-05\n",
      "perceived_colour_value_id 1.7759133934558557e-05\n",
      "fashion_news_frequency 0.0\n",
      "Active 0.0\n",
      "FN 0.0\n",
      "index_code 0.0\n",
      "perceived_colour_master_id 0.0\n",
      "graphical_appearance_no 0.0\n",
      "index_group_no 0.0\n"
     ]
    }
   ],
   "id": "a03e9b47dc795f19"
  },
  {
   "cell_type": "markdown",
   "source": [
    "# Calculate predictions"
   ],
   "metadata": {
    "papermill": {
     "duration": 0.056904,
     "end_time": "2022-04-16T17:00:39.580889",
     "exception": false,
     "start_time": "2022-04-16T17:00:39.523985",
     "status": "completed"
    },
    "tags": []
   },
   "id": "5737da47a7d37c2e"
  },
  {
   "cell_type": "code",
   "source": [
    "test['preds'] = ranker.predict(test_X)\n",
    "\n",
    "c_id2predicted_article_ids = test \\\n",
    "    .sort_values(['customer_id', 'preds'], ascending=False) \\\n",
    "    .groupby('customer_id')['article_id'].apply(list).to_dict()\n",
    "\n",
    "bestsellers_last_week = \\\n",
    "    bestsellers_previous_week[bestsellers_previous_week.week == bestsellers_previous_week.week.max()]['article_id'].tolist()"
   ],
   "metadata": {
    "papermill": {
     "duration": 13.140874,
     "end_time": "2022-04-16T17:00:52.777866",
     "exception": false,
     "start_time": "2022-04-16T17:00:39.636992",
     "status": "completed"
    },
    "tags": [],
    "execution": {
     "iopub.status.busy": "2023-10-11T08:04:06.677139Z",
     "iopub.status.idle": "2023-10-11T08:04:06.677612Z",
     "shell.execute_reply.started": "2023-10-11T08:04:06.677364Z",
     "shell.execute_reply": "2023-10-11T08:04:06.677392Z"
    },
    "trusted": true,
    "ExecuteTime": {
     "end_time": "2023-11-02T23:01:34.811367300Z",
     "start_time": "2023-11-02T23:01:28.576511300Z"
    }
   },
   "execution_count": 101,
   "outputs": [],
   "id": "1de07c0536b68c90"
  },
  {
   "cell_type": "markdown",
   "source": [
    "# Create submission"
   ],
   "metadata": {
    "papermill": {
     "duration": 0.07093,
     "end_time": "2022-04-16T17:00:52.913143",
     "exception": false,
     "start_time": "2022-04-16T17:00:52.842213",
     "status": "completed"
    },
    "tags": []
   },
   "id": "ac204415266f1bc5"
  },
  {
   "cell_type": "code",
   "source": [
    "sub = pd.read_csv('../input/sample_submission.csv')"
   ],
   "metadata": {
    "papermill": {
     "duration": 6.515044,
     "end_time": "2022-04-16T17:00:59.497708",
     "exception": false,
     "start_time": "2022-04-16T17:00:52.982664",
     "status": "completed"
    },
    "tags": [],
    "execution": {
     "iopub.status.busy": "2023-10-11T08:04:06.679480Z",
     "iopub.status.idle": "2023-10-11T08:04:06.679971Z",
     "shell.execute_reply.started": "2023-10-11T08:04:06.679746Z",
     "shell.execute_reply": "2023-10-11T08:04:06.679766Z"
    },
    "trusted": true,
    "ExecuteTime": {
     "end_time": "2023-11-02T23:01:36.019061100Z",
     "start_time": "2023-11-02T23:01:34.812367400Z"
    }
   },
   "execution_count": 102,
   "outputs": [],
   "id": "7d3393e55f757bb"
  },
  {
   "cell_type": "code",
   "source": [
    "preds = []\n",
    "for c_id in customer_hex_id_to_int(sub.customer_id):\n",
    "    pred = c_id2predicted_article_ids.get(c_id, [])\n",
    "    pred = pred + bestsellers_last_week\n",
    "    preds.append(pred[:12])"
   ],
   "metadata": {
    "papermill": {
     "duration": 6.421346,
     "end_time": "2022-04-16T17:01:06.009173",
     "exception": false,
     "start_time": "2022-04-16T17:00:59.587827",
     "status": "completed"
    },
    "tags": [],
    "execution": {
     "iopub.status.busy": "2023-10-11T08:04:06.681044Z",
     "iopub.status.idle": "2023-10-11T08:04:06.681420Z",
     "shell.execute_reply.started": "2023-10-11T08:04:06.681253Z",
     "shell.execute_reply": "2023-10-11T08:04:06.681270Z"
    },
    "trusted": true,
    "ExecuteTime": {
     "end_time": "2023-11-02T23:01:38.262570900Z",
     "start_time": "2023-11-02T23:01:36.058967600Z"
    }
   },
   "execution_count": 103,
   "outputs": [],
   "id": "9852696d0df5d72e"
  },
  {
   "cell_type": "code",
   "source": [
    "preds = [' '.join(['0' + str(p) for p in ps]) for ps in preds]\n",
    "sub.prediction = preds"
   ],
   "metadata": {
    "papermill": {
     "duration": 6.90116,
     "end_time": "2022-04-16T17:01:12.972216",
     "exception": false,
     "start_time": "2022-04-16T17:01:06.071056",
     "status": "completed"
    },
    "tags": [],
    "execution": {
     "iopub.status.busy": "2023-10-11T08:04:06.683158Z",
     "iopub.status.idle": "2023-10-11T08:04:06.683536Z",
     "shell.execute_reply.started": "2023-10-11T08:04:06.683368Z",
     "shell.execute_reply": "2023-10-11T08:04:06.683385Z"
    },
    "trusted": true,
    "ExecuteTime": {
     "end_time": "2023-11-02T23:01:40.246996100Z",
     "start_time": "2023-11-02T23:01:38.341025400Z"
    }
   },
   "execution_count": 104,
   "outputs": [],
   "id": "26b9feefc147daf5"
  },
  {
   "cell_type": "code",
   "source": [
    "sub_name = 'basic_model_submission'\n",
    "sub.to_csv(f'{sub_name}.csv.gz', index=False)"
   ],
   "metadata": {
    "execution": {
     "iopub.status.busy": "2023-10-11T08:04:06.685139Z",
     "iopub.status.idle": "2023-10-11T08:04:06.685896Z",
     "shell.execute_reply.started": "2023-10-11T08:04:06.685667Z",
     "shell.execute_reply": "2023-10-11T08:04:06.685687Z"
    },
    "trusted": true,
    "ExecuteTime": {
     "end_time": "2023-11-02T23:01:49.624197Z",
     "start_time": "2023-11-02T23:01:40.247995600Z"
    }
   },
   "execution_count": 105,
   "outputs": [],
   "id": "67a45867f9ea155d"
  }
 ]
}
