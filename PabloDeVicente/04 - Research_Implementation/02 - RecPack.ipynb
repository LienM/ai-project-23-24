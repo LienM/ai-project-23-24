{
 "cells": [
  {
   "cell_type": "code",
   "execution_count": 1,
   "metadata": {},
   "outputs": [
    {
     "name": "stderr",
     "output_type": "stream",
     "text": [
      "/home/pablo/.local/lib/python3.10/site-packages/tqdm/auto.py:21: TqdmWarning: IProgress not found. Please update jupyter and ipywidgets. See https://ipywidgets.readthedocs.io/en/stable/user_install.html\n",
      "  from .autonotebook import tqdm as notebook_tqdm\n"
     ]
    }
   ],
   "source": [
    "import tqdm as notebook_tqdm\n",
    "import functions as f\n",
    "import pandas as pd\n",
    "import numpy as np\n",
    "\n",
    "from recpack.datasets import MovieLens25M\n",
    "from recpack.scenarios import WeakGeneralization\n",
    "from recpack.pipelines import PipelineBuilder\n",
    "from recpack.preprocessing.preprocessors import DataFramePreprocessor\n",
    "from recpack.preprocessing.filters import MinItemsPerUser, MinUsersPerItem"
   ]
  },
  {
   "cell_type": "code",
   "execution_count": 3,
   "metadata": {},
   "outputs": [
    {
     "name": "stdout",
     "output_type": "stream",
     "text": [
      "Number of elements in database before : 31788324\n",
      "Number of elements in database after : 2522561\n",
      "Database contains recrods from : 2020-09-15 00:00:00 to : 2020-07-15 00:00:00\n"
     ]
    }
   ],
   "source": [
    "transactions_path = '../00 - Data/transactions_train/transactions_train.csv'\n",
    "short_transactions_path = f.shorten_transactions(transactions_path,2)\n",
    "transactions = pd.read_csv(short_transactions_path)"
   ]
  },
  {
   "cell_type": "code",
   "execution_count": 5,
   "metadata": {},
   "outputs": [
    {
     "name": "stderr",
     "output_type": "stream",
     "text": [
      "100%|██████████| 2429824/2429824 [00:02<00:00, 929027.67it/s] \n",
      "100%|██████████| 2429824/2429824 [00:02<00:00, 1043313.75it/s]\n"
     ]
    }
   ],
   "source": [
    "#turns pandas dataframe into interaction-matrix object\n",
    "#       item1   item2   item3\n",
    "#usr1      x                x\n",
    "#usr2       x       x\n",
    "proc = DataFramePreprocessor(item_ix='article_id', user_ix='customer_id', timestamp_ix='t_dat')\n",
    "#every user has at least 2 items bought\n",
    "proc.add_filter(MinUsersPerItem(2, item_ix='article_id', user_ix='customer_id'))\n",
    "#every item is bought at least twice\n",
    "proc.add_filter(MinItemsPerUser(2, item_ix='article_id', user_ix='customer_id'))\n",
    "\n",
    "interaction_matrix = proc.process(transactions)"
   ]
  },
  {
   "cell_type": "code",
   "execution_count": 6,
   "metadata": {},
   "outputs": [
    {
     "name": "stderr",
     "output_type": "stream",
     "text": [
      "338534it [01:25, 3956.89it/s]\n",
      "338534it [01:26, 3907.99it/s]\n"
     ]
    }
   ],
   "source": [
    "from recpack.scenarios import WeakGeneralization\n",
    "#divide matrix into test-train (75-25)\n",
    "scenario = WeakGeneralization(0.75, validation=True)\n",
    "scenario.split(interaction_matrix)\n",
    "\n",
    "builder = PipelineBuilder()\n",
    "builder.set_data_from_scenario(scenario)"
   ]
  },
  {
   "cell_type": "markdown",
   "metadata": {},
   "source": [
    "First, you calculate the Discounted Cumulative Gain (DCG) at K, which is the sum of the relevance scores of the top-K recommended items, each discounted by its position in the list. Relevance scores are often binary (relevant or not relevant) or graded (e.g., on a scale from 1 to 5).\n",
    "Then, you calculate the Ideal DCG (IDCG) at K, which represents the best possible DCG score if the recommendations were perfectly relevant.\n",
    "Finally, you compute NDCG@K as the ratio of DCG@K to IDCG@K, normalizing the score to be between 0 and 1. A higher NDCG@K indicates better recommendations.\n",
    "Coverage@K:\n",
    "\n",
    "Coverage is a metric that measures how diverse or comprehensive a recommendation system is in terms of the items it suggests.\n",
    "The \"@K\" in this metric signifies that it is calculated for the top K recommendations.\n",
    "The idea is to assess the ability of the system to cover a wide range of items in its recommendations, not just focusing on a few popular items.\n",
    "The Coverage@K metric can be calculated in various ways, but a common approach is to count the unique items that appear in the top-K recommendations. A higher Coverage@K indicates that the recommendations cover a larger variety of items."
   ]
  },
  {
   "cell_type": "code",
   "execution_count": 8,
   "metadata": {},
   "outputs": [
    {
     "name": "stderr",
     "output_type": "stream",
     "text": [
      "/home/pablo/.local/lib/python3.10/site-packages/recpack/pipelines/pipeline_builder.py:145: UserWarning: Grid parameter for add_algorithm function will be deprecated in favour of optimisation_info.\n",
      "  warnings.warn(\n"
     ]
    }
   ],
   "source": [
    "#adds algorithms to use later on\n",
    "builder.add_algorithm('Popularity') # No real parameters to optimise\n",
    "#we will evaluate similarity using K nearest neighbors and computing distance with cosoine\n",
    "builder.add_algorithm('ItemKNN', grid={\n",
    "    'K': [100, 200, 500],\n",
    "    'similarity': ['cosine', 'conditional_probability'],\n",
    "})\n",
    "\n",
    "#Set the metric for optimisation of parameters in algorithms. What is NDCGK ??\n",
    "builder.set_optimisation_metric('NDCGK', K=10)\n",
    "\n",
    "#adds metric for evaluation\n",
    "#Normalized Discounted Cumulative Gain at K\n",
    "builder.add_metric('NDCGK', K=[10, 20, 50])\n",
    "builder.add_metric('CoverageK', K=[10, 20])"
   ]
  },
  {
   "cell_type": "code",
   "execution_count": 11,
   "metadata": {},
   "outputs": [
    {
     "name": "stderr",
     "output_type": "stream",
     "text": [
      "  0%|          | 0/2 [00:00<?, ?it/s]"
     ]
    },
    {
     "name": "stdout",
     "output_type": "stream",
     "text": [
      "2023-11-07 18:09:15,216 - base - recpack - INFO - Fitting Popularity complete - Took 0.541s\n"
     ]
    },
    {
     "name": "stderr",
     "output_type": "stream",
     "text": [
      " 50%|█████     | 1/2 [00:43<00:43, 43.39s/it]/usr/lib/python3/dist-packages/scipy/sparse/_index.py:146: SparseEfficiencyWarning: Changing the sparsity structure of a csr_matrix is expensive. lil_matrix is more efficient.\n",
      "  self._set_arrayXarray(i, j, x)\n"
     ]
    },
    {
     "name": "stdout",
     "output_type": "stream",
     "text": [
      "2023-11-07 18:10:00,681 - base - recpack - INFO - Fitting ItemKNN complete - Took 2.62s\n"
     ]
    },
    {
     "name": "stderr",
     "output_type": "stream",
     "text": [
      "/home/pablo/.local/lib/python3.10/site-packages/recpack/algorithms/base.py:279: UserWarning: ItemKNN missing similar items for 496 items.\n",
      "  warnings.warn(f\"{self.name} missing similar items for {missing} items.\")\n",
      "/usr/lib/python3/dist-packages/scipy/sparse/_index.py:146: SparseEfficiencyWarning: Changing the sparsity structure of a csr_matrix is expensive. lil_matrix is more efficient.\n",
      "  self._set_arrayXarray(i, j, x)\n"
     ]
    },
    {
     "name": "stdout",
     "output_type": "stream",
     "text": [
      "2023-11-07 18:10:18,900 - base - recpack - INFO - Fitting ItemKNN complete - Took 2.92s\n"
     ]
    },
    {
     "name": "stderr",
     "output_type": "stream",
     "text": [
      "/home/pablo/.local/lib/python3.10/site-packages/recpack/algorithms/base.py:279: UserWarning: ItemKNN missing similar items for 496 items.\n",
      "  warnings.warn(f\"{self.name} missing similar items for {missing} items.\")\n",
      "/usr/lib/python3/dist-packages/scipy/sparse/_index.py:146: SparseEfficiencyWarning: Changing the sparsity structure of a csr_matrix is expensive. lil_matrix is more efficient.\n",
      "  self._set_arrayXarray(i, j, x)\n"
     ]
    },
    {
     "name": "stdout",
     "output_type": "stream",
     "text": [
      "2023-11-07 18:10:35,394 - base - recpack - INFO - Fitting ItemKNN complete - Took 3.55s\n"
     ]
    },
    {
     "name": "stderr",
     "output_type": "stream",
     "text": [
      "/home/pablo/.local/lib/python3.10/site-packages/recpack/algorithms/base.py:279: UserWarning: ItemKNN missing similar items for 496 items.\n",
      "  warnings.warn(f\"{self.name} missing similar items for {missing} items.\")\n",
      "/usr/lib/python3/dist-packages/scipy/sparse/_index.py:146: SparseEfficiencyWarning: Changing the sparsity structure of a csr_matrix is expensive. lil_matrix is more efficient.\n",
      "  self._set_arrayXarray(i, j, x)\n"
     ]
    },
    {
     "name": "stdout",
     "output_type": "stream",
     "text": [
      "2023-11-07 18:11:05,859 - base - recpack - INFO - Fitting ItemKNN complete - Took 4.05s\n"
     ]
    },
    {
     "name": "stderr",
     "output_type": "stream",
     "text": [
      "/home/pablo/.local/lib/python3.10/site-packages/recpack/algorithms/base.py:279: UserWarning: ItemKNN missing similar items for 496 items.\n",
      "  warnings.warn(f\"{self.name} missing similar items for {missing} items.\")\n",
      "/usr/lib/python3/dist-packages/scipy/sparse/_index.py:146: SparseEfficiencyWarning: Changing the sparsity structure of a csr_matrix is expensive. lil_matrix is more efficient.\n",
      "  self._set_arrayXarray(i, j, x)\n"
     ]
    },
    {
     "name": "stdout",
     "output_type": "stream",
     "text": [
      "2023-11-07 18:11:34,932 - base - recpack - INFO - Fitting ItemKNN complete - Took 6.26s\n"
     ]
    },
    {
     "name": "stderr",
     "output_type": "stream",
     "text": [
      "/home/pablo/.local/lib/python3.10/site-packages/recpack/algorithms/base.py:279: UserWarning: ItemKNN missing similar items for 496 items.\n",
      "  warnings.warn(f\"{self.name} missing similar items for {missing} items.\")\n",
      "/usr/lib/python3/dist-packages/scipy/sparse/_index.py:146: SparseEfficiencyWarning: Changing the sparsity structure of a csr_matrix is expensive. lil_matrix is more efficient.\n",
      "  self._set_arrayXarray(i, j, x)\n"
     ]
    },
    {
     "name": "stdout",
     "output_type": "stream",
     "text": [
      "2023-11-07 18:12:36,402 - base - recpack - INFO - Fitting ItemKNN complete - Took 6.52s\n"
     ]
    },
    {
     "name": "stderr",
     "output_type": "stream",
     "text": [
      "/home/pablo/.local/lib/python3.10/site-packages/recpack/algorithms/base.py:279: UserWarning: ItemKNN missing similar items for 496 items.\n",
      "  warnings.warn(f\"{self.name} missing similar items for {missing} items.\")\n",
      "/usr/lib/python3/dist-packages/scipy/sparse/_index.py:146: SparseEfficiencyWarning: Changing the sparsity structure of a csr_matrix is expensive. lil_matrix is more efficient.\n",
      "  self._set_arrayXarray(i, j, x)\n"
     ]
    },
    {
     "name": "stdout",
     "output_type": "stream",
     "text": [
      "2023-11-07 18:13:23,469 - base - recpack - INFO - Fitting ItemKNN complete - Took 3.28s\n"
     ]
    },
    {
     "name": "stderr",
     "output_type": "stream",
     "text": [
      "/home/pablo/.local/lib/python3.10/site-packages/recpack/algorithms/base.py:279: UserWarning: ItemKNN missing similar items for 185 items.\n",
      "  warnings.warn(f\"{self.name} missing similar items for {missing} items.\")\n",
      "100%|██████████| 2/2 [04:55<00:00, 147.68s/it]\n"
     ]
    }
   ],
   "source": [
    "pipeline = builder.build()\n",
    "pipeline.run()"
   ]
  },
  {
   "cell_type": "markdown",
   "metadata": {},
   "source": [
    "For the itemKNN recommendation, we can see how when suggesting in a range of k=10 it achieves a pretty high recommendation of varied items (0.77)\n",
    "but looking at the metric NDCGK it is not very good at recommending stuff. This leads me to believe that i am recommending too much novel stuff\n"
   ]
  },
  {
   "cell_type": "code",
   "execution_count": 14,
   "metadata": {},
   "outputs": [
    {
     "data": {
      "text/html": [
       "<div>\n",
       "<style scoped>\n",
       "    .dataframe tbody tr th:only-of-type {\n",
       "        vertical-align: middle;\n",
       "    }\n",
       "\n",
       "    .dataframe tbody tr th {\n",
       "        vertical-align: top;\n",
       "    }\n",
       "\n",
       "    .dataframe thead th {\n",
       "        text-align: right;\n",
       "    }\n",
       "</style>\n",
       "<table border=\"1\" class=\"dataframe\">\n",
       "  <thead>\n",
       "    <tr style=\"text-align: right;\">\n",
       "      <th></th>\n",
       "      <th>NDCGK_10</th>\n",
       "      <th>NDCGK_20</th>\n",
       "      <th>NDCGK_50</th>\n",
       "      <th>CoverageK_10</th>\n",
       "      <th>CoverageK_20</th>\n",
       "    </tr>\n",
       "  </thead>\n",
       "  <tbody>\n",
       "    <tr>\n",
       "      <th>Popularity(K=200)</th>\n",
       "      <td>0.005446</td>\n",
       "      <td>0.007678</td>\n",
       "      <td>0.011997</td>\n",
       "      <td>0.000489</td>\n",
       "      <td>0.000848</td>\n",
       "    </tr>\n",
       "    <tr>\n",
       "      <th>ItemKNN(K=100,normalize_X=False,normalize_sim=False,pop_discount=None,similarity=conditional_probability)</th>\n",
       "      <td>0.095057</td>\n",
       "      <td>0.105070</td>\n",
       "      <td>0.117266</td>\n",
       "      <td>0.773613</td>\n",
       "      <td>0.878079</td>\n",
       "    </tr>\n",
       "  </tbody>\n",
       "</table>\n",
       "</div>"
      ],
      "text/plain": [
       "                                                    NDCGK_10  NDCGK_20  \\\n",
       "Popularity(K=200)                                   0.005446  0.007678   \n",
       "ItemKNN(K=100,normalize_X=False,normalize_sim=F...  0.095057  0.105070   \n",
       "\n",
       "                                                    NDCGK_50  CoverageK_10  \\\n",
       "Popularity(K=200)                                   0.011997      0.000489   \n",
       "ItemKNN(K=100,normalize_X=False,normalize_sim=F...  0.117266      0.773613   \n",
       "\n",
       "                                                    CoverageK_20  \n",
       "Popularity(K=200)                                       0.000848  \n",
       "ItemKNN(K=100,normalize_X=False,normalize_sim=F...      0.878079  "
      ]
     },
     "execution_count": 14,
     "metadata": {},
     "output_type": "execute_result"
    }
   ],
   "source": [
    "pipeline.get_metrics()\n"
   ]
  },
  {
   "cell_type": "code",
   "execution_count": 13,
   "metadata": {},
   "outputs": [
    {
     "data": {
      "text/html": [
       "<div>\n",
       "<style scoped>\n",
       "    .dataframe tbody tr th:only-of-type {\n",
       "        vertical-align: middle;\n",
       "    }\n",
       "\n",
       "    .dataframe tbody tr th {\n",
       "        vertical-align: top;\n",
       "    }\n",
       "\n",
       "    .dataframe thead th {\n",
       "        text-align: right;\n",
       "    }\n",
       "</style>\n",
       "<table border=\"1\" class=\"dataframe\">\n",
       "  <thead>\n",
       "    <tr style=\"text-align: right;\">\n",
       "      <th></th>\n",
       "      <th>algorithm</th>\n",
       "      <th>identifier</th>\n",
       "      <th>params</th>\n",
       "      <th>NDCGK_10</th>\n",
       "    </tr>\n",
       "  </thead>\n",
       "  <tbody>\n",
       "    <tr>\n",
       "      <th>0</th>\n",
       "      <td>ItemKNN</td>\n",
       "      <td>ItemKNN(K=100,normalize_X=False,normalize_sim=...</td>\n",
       "      <td>{'K': 100, 'similarity': 'cosine'}</td>\n",
       "      <td>0.066662</td>\n",
       "    </tr>\n",
       "    <tr>\n",
       "      <th>1</th>\n",
       "      <td>ItemKNN</td>\n",
       "      <td>ItemKNN(K=100,normalize_X=False,normalize_sim=...</td>\n",
       "      <td>{'K': 100, 'similarity': 'conditional_probabil...</td>\n",
       "      <td>0.081270</td>\n",
       "    </tr>\n",
       "    <tr>\n",
       "      <th>2</th>\n",
       "      <td>ItemKNN</td>\n",
       "      <td>ItemKNN(K=200,normalize_X=False,normalize_sim=...</td>\n",
       "      <td>{'K': 200, 'similarity': 'cosine'}</td>\n",
       "      <td>0.067496</td>\n",
       "    </tr>\n",
       "    <tr>\n",
       "      <th>3</th>\n",
       "      <td>ItemKNN</td>\n",
       "      <td>ItemKNN(K=200,normalize_X=False,normalize_sim=...</td>\n",
       "      <td>{'K': 200, 'similarity': 'conditional_probabil...</td>\n",
       "      <td>0.081221</td>\n",
       "    </tr>\n",
       "    <tr>\n",
       "      <th>4</th>\n",
       "      <td>ItemKNN</td>\n",
       "      <td>ItemKNN(K=500,normalize_X=False,normalize_sim=...</td>\n",
       "      <td>{'K': 500, 'similarity': 'cosine'}</td>\n",
       "      <td>0.068564</td>\n",
       "    </tr>\n",
       "    <tr>\n",
       "      <th>5</th>\n",
       "      <td>ItemKNN</td>\n",
       "      <td>ItemKNN(K=500,normalize_X=False,normalize_sim=...</td>\n",
       "      <td>{'K': 500, 'similarity': 'conditional_probabil...</td>\n",
       "      <td>0.081145</td>\n",
       "    </tr>\n",
       "  </tbody>\n",
       "</table>\n",
       "</div>"
      ],
      "text/plain": [
       "  algorithm                                         identifier  \\\n",
       "0   ItemKNN  ItemKNN(K=100,normalize_X=False,normalize_sim=...   \n",
       "1   ItemKNN  ItemKNN(K=100,normalize_X=False,normalize_sim=...   \n",
       "2   ItemKNN  ItemKNN(K=200,normalize_X=False,normalize_sim=...   \n",
       "3   ItemKNN  ItemKNN(K=200,normalize_X=False,normalize_sim=...   \n",
       "4   ItemKNN  ItemKNN(K=500,normalize_X=False,normalize_sim=...   \n",
       "5   ItemKNN  ItemKNN(K=500,normalize_X=False,normalize_sim=...   \n",
       "\n",
       "                                              params  NDCGK_10  \n",
       "0                 {'K': 100, 'similarity': 'cosine'}  0.066662  \n",
       "1  {'K': 100, 'similarity': 'conditional_probabil...  0.081270  \n",
       "2                 {'K': 200, 'similarity': 'cosine'}  0.067496  \n",
       "3  {'K': 200, 'similarity': 'conditional_probabil...  0.081221  \n",
       "4                 {'K': 500, 'similarity': 'cosine'}  0.068564  \n",
       "5  {'K': 500, 'similarity': 'conditional_probabil...  0.081145  "
      ]
     },
     "execution_count": 13,
     "metadata": {},
     "output_type": "execute_result"
    }
   ],
   "source": [
    "pipeline.optimisation_results\n"
   ]
  }
 ],
 "metadata": {
  "kernelspec": {
   "display_name": "Python 3",
   "language": "python",
   "name": "python3"
  },
  "language_info": {
   "codemirror_mode": {
    "name": "ipython",
    "version": 3
   },
   "file_extension": ".py",
   "mimetype": "text/x-python",
   "name": "python",
   "nbconvert_exporter": "python",
   "pygments_lexer": "ipython3",
   "version": "3.10.12"
  }
 },
 "nbformat": 4,
 "nbformat_minor": 2
}
