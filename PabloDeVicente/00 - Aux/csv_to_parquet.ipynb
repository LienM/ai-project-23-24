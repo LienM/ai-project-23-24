{
 "cells": [
  {
   "cell_type": "code",
   "execution_count": 1,
   "metadata": {},
   "outputs": [],
   "source": [
    "import pandas as pd\n",
    "import pyarrow as pa\n",
    "import pyarrow.parquet as pq"
   ]
  },
  {
   "cell_type": "code",
   "execution_count": 3,
   "metadata": {},
   "outputs": [],
   "source": [
    "df = pd.read_csv('../data/articles.csv/articles.csv')"
   ]
  },
  {
   "cell_type": "code",
   "execution_count": 5,
   "metadata": {},
   "outputs": [],
   "source": [
    "# Write the DataFrame to a Parquet file\n",
    "table = pa.Table.from_pandas(df)\n",
    "pq.write_table(table, '../data/articles/articles.parquet')"
   ]
  },
  {
   "cell_type": "code",
   "execution_count": 6,
   "metadata": {},
   "outputs": [],
   "source": [
    "df = pd.read_csv('../data/customers/customers.csv')"
   ]
  },
  {
   "cell_type": "code",
   "execution_count": 7,
   "metadata": {},
   "outputs": [],
   "source": [
    "# Write the DataFrame to a Parquet file\n",
    "table = pa.Table.from_pandas(df)\n",
    "pq.write_table(table, '../data/customers/customers.parquet')"
   ]
  },
  {
   "cell_type": "code",
   "execution_count": 8,
   "metadata": {},
   "outputs": [],
   "source": [
    "df = pd.read_csv('../data/sample_submission/sample_submission.csv')"
   ]
  },
  {
   "cell_type": "code",
   "execution_count": 9,
   "metadata": {},
   "outputs": [],
   "source": [
    "# Write the DataFrame to a Parquet file\n",
    "table = pa.Table.from_pandas(df)\n",
    "pq.write_table(table, '../data/sample_submission/sample_submission.parquet')"
   ]
  },
  {
   "cell_type": "code",
   "execution_count": 10,
   "metadata": {},
   "outputs": [],
   "source": [
    "df = pd.read_csv('../data/transactions_train/transactions_train.csv')"
   ]
  },
  {
   "cell_type": "code",
   "execution_count": 11,
   "metadata": {},
   "outputs": [],
   "source": [
    "# Write the DataFrame to a Parquet file\n",
    "table = pa.Table.from_pandas(df)\n",
    "pq.write_table(table, '../data/transactions_train/transactions_train.parquet')"
   ]
  },
  {
   "cell_type": "code",
   "execution_count": 12,
   "metadata": {},
   "outputs": [
    {
     "data": {
      "text/plain": [
       "pyarrow.Table\n",
       "t_dat: string\n",
       "customer_id: string\n",
       "article_id: int64\n",
       "price: double\n",
       "sales_channel_id: int64\n",
       "----\n",
       "t_dat: [[\"2018-09-20\",\"2018-09-20\",\"2018-09-20\",\"2018-09-20\",\"2018-09-20\",...,\"2020-09-22\",\"2020-09-22\",\"2020-09-22\",\"2020-09-22\",\"2020-09-22\"]]\n",
       "customer_id: [[\"000058a12d5b43e67d225668fa1f8d618c13dc232df0cad8ffe7ad4a1091e318\",\"000058a12d5b43e67d225668fa1f8d618c13dc232df0cad8ffe7ad4a1091e318\",\"00007d2de826758b65a93dd24ce629ed66842531df6699338c5570910a014cc2\",\"00007d2de826758b65a93dd24ce629ed66842531df6699338c5570910a014cc2\",\"00007d2de826758b65a93dd24ce629ed66842531df6699338c5570910a014cc2\",...,\"fff2282977442e327b45d8c89afde25617d00124d0f99982410630ac51314356\",\"fff2282977442e327b45d8c89afde25617d00124d0f99982410630ac51314356\",\"fff380805474b287b05cb2a7507b9a013482f7dd0bce0e6936f26ea7ecaa68a1\",\"fff4d3a8b1f3b60af93e78c30a7cb4cf75edaf2590d3e593881ae6007d775f0f\",\"fffef3b6b73545df065b521e19f64bf6fe93bfd450ab20e02ce5d1e58a8f700b\"]]\n",
       "article_id: [[663713001,541518023,505221004,685687003,685687004,...,929511001,891322004,918325001,833459002,898573003]]\n",
       "price: [[0.0508305084745762,0.0304915254237288,0.0152372881355932,0.0169322033898305,0.0169322033898305,...,0.0593050847457627,0.0423559322033898,0.0432033898305084,0.0067627118644067,0.0338813559322033]]\n",
       "sales_channel_id: [[2,2,2,2,2,...,2,2,1,1,2]]"
      ]
     },
     "execution_count": 12,
     "metadata": {},
     "output_type": "execute_result"
    }
   ],
   "source": [
    "table"
   ]
  },
  {
   "cell_type": "code",
   "execution_count": null,
   "metadata": {},
   "outputs": [],
   "source": [
    "ta"
   ]
  }
 ],
 "metadata": {
  "kernelspec": {
   "display_name": "Python 3",
   "language": "python",
   "name": "python3"
  },
  "language_info": {
   "codemirror_mode": {
    "name": "ipython",
    "version": 3
   },
   "file_extension": ".py",
   "mimetype": "text/x-python",
   "name": "python",
   "nbconvert_exporter": "python",
   "pygments_lexer": "ipython3",
   "version": "3.11.5"
  }
 },
 "nbformat": 4,
 "nbformat_minor": 2
}
