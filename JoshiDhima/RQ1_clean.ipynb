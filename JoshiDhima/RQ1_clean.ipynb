{
 "cells": [
  {
   "cell_type": "code",
   "execution_count": 1,
   "metadata": {},
   "outputs": [],
   "source": [
    "from lightgbm.sklearn import LGBMRanker\n",
    "\n",
    "import numpy as np\n",
    "import pandas as pd"
   ]
  },
  {
   "cell_type": "code",
   "execution_count": 2,
   "metadata": {},
   "outputs": [
    {
     "name": "stdout",
     "output_type": "stream",
     "text": [
      "CPU times: total: 20.3 s\n",
      "Wall time: 18.4 s\n"
     ]
    }
   ],
   "source": [
    "%%time\n",
    "\n",
    "transactions = pd.read_parquet('data/parquet/transactions_train.parquet')\n",
    "customers = pd.read_parquet('data/parquet/customers.parquet')\n",
    "articles = pd.read_parquet('data/parquet/articles.parquet')\n",
    "\n",
    "all_data = transactions.merge(customers, on='customer_id', how='left')\n",
    "all_data = all_data.merge(articles, on='article_id', how='left')"
   ]
  },
  {
   "cell_type": "code",
   "execution_count": 3,
   "metadata": {},
   "outputs": [],
   "source": [
    "TEST_WEEK = 105\n",
    "TRAINING_WEEKS = 10\n",
    "POPULARITY_WEEKS = 3\n",
    "\n",
    "transactions = transactions[transactions.week > transactions.week.max() - TRAINING_WEEKS]\n",
    "train_weeks = range(TEST_WEEK - TRAINING_WEEKS, TEST_WEEK)\n",
    "train = transactions[transactions.week.isin(train_weeks)]\n",
    "test = transactions[transactions.week == TEST_WEEK]"
   ]
  },
  {
   "cell_type": "code",
   "execution_count": 4,
   "metadata": {},
   "outputs": [],
   "source": [
    "mean_price = transactions.groupby(['article_id'])['price'].mean()\n",
    "common_sales_channel = transactions.groupby(['article_id'])['sales_channel_id'].agg(lambda x: x.value_counts().index[0])\n",
    "\n",
    "customers['age_group'] = pd.cut(customers['age'], bins=[0, 25, 40, 60, 100], labels=[0, 1, 2, 3])\n",
    "\n",
    "avg_price_spent = train.groupby('customer_id')['price'].mean()\n",
    "max_price_spent = train.groupby('customer_id')['price'].max()\n",
    "\n",
    "customers['avg_price_spent'] = customers['customer_id'].map(avg_price_spent).fillna(0)\n",
    "customers['max_price_spent'] = customers['customer_id'].map(max_price_spent).fillna(0)\n",
    "\n",
    "customers['avg_price_group'] = pd.cut(customers['avg_price_spent'], bins=[-1, 0.02, 0.04, 0.1, 0.3, 1], labels=[0, 1, 2, 3, 4])\n",
    "customers['max_price_group'] = pd.cut(customers['max_price_spent'], bins=[-1, 0.02, 0.04, 0.1, 0.3, 1], labels=[0, 1, 2, 3, 4])\n",
    "\n",
    "transactions_with_age = pd.merge(transactions, customers[['customer_id', 'age']], on='customer_id', how='left')\n",
    "avg_purchaser_age = transactions_with_age.groupby('article_id')['age'].mean().reset_index()\n",
    "avg_purchaser_age.rename(columns={'age': 'avg_purchaser_age'}, inplace=True)\n",
    "avg_purchaser_age['avg_purchaser_age'].fillna(-1, inplace=True)\n",
    "articles = pd.merge(articles, avg_purchaser_age, on='article_id', how='left')"
   ]
  },
  {
   "cell_type": "code",
   "execution_count": 5,
   "metadata": {},
   "outputs": [],
   "source": [
    "pivot_table = pd.pivot_table(\n",
    "    all_data[all_data.week < TEST_WEEK],\n",
    "    index='customer_id',\n",
    "    columns='index_code',\n",
    "    values='article_id',\n",
    "    aggfunc='count',\n",
    "    fill_value=0\n",
    ")\n",
    "\n",
    "pivot_table['total_purchases'] = pivot_table.sum(axis=1)\n",
    "pivot_table['percentage_women_purchases'] = ((pivot_table[0] + pivot_table[7] + pivot_table[6]) / pivot_table['total_purchases'])\n",
    "pivot_table['percentage_children_purchases'] = ((pivot_table[5] + pivot_table[3] + pivot_table[4] + pivot_table[8]) / pivot_table['total_purchases'])\n",
    "pivot_table['percentage_men_purchases'] = (pivot_table[2] / pivot_table['total_purchases'])\n",
    "pivot_table.reset_index(inplace=True)\n",
    "pivot_table['most_bought_gender'] = pivot_table[['percentage_women_purchases', 'percentage_children_purchases', 'percentage_men_purchases']].idxmax(axis=1)\n",
    "\n",
    "customers['most_bought_gender'] = customers['customer_id'].map(pivot_table.set_index('customer_id')['most_bought_gender'])\n",
    "customers['percentage_women_purchases'] = customers['customer_id'].map(pivot_table.set_index('customer_id')['percentage_women_purchases'])\n",
    "customers['percentage_children_purchases'] = customers['customer_id'].map(pivot_table.set_index('customer_id')['percentage_children_purchases'])\n",
    "customers['percentage_men_purchases'] = customers['customer_id'].map(pivot_table.set_index('customer_id')['percentage_men_purchases'])\n",
    "customers['total_purchases'] = customers['customer_id'].map(pivot_table.set_index('customer_id')['total_purchases'])"
   ]
  },
  {
   "cell_type": "code",
   "execution_count": 6,
   "metadata": {},
   "outputs": [],
   "source": [
    "unique_customers = pd.DataFrame(train['customer_id'].unique(), columns=['customer_id']).merge(customers, on='customer_id', how='left')\n",
    "train_customers = train.merge(customers, on='customer_id', how='left')\n",
    "train_customers = train_customers[train_customers['customer_id'].isin(unique_customers['customer_id'])]"
   ]
  },
  {
   "cell_type": "code",
   "execution_count": 7,
   "metadata": {},
   "outputs": [],
   "source": [
    "def candidates_user_feature(feature, count=12):\n",
    "    candidates = pd.DataFrame()\n",
    "    for week in range(TEST_WEEK - TRAINING_WEEKS + POPULARITY_WEEKS, TEST_WEEK):\n",
    "        relevant_weeks = train_customers[(week - POPULARITY_WEEKS) < train_customers.week][train_customers.week <= week]\n",
    "        recent_article_counts = relevant_weeks.groupby([feature, 'article_id']).size().reset_index(name='count')\n",
    "        article_counts_sorted = recent_article_counts.sort_values([feature, 'count'], ascending=[True, False])\n",
    "        top_articles_feature = article_counts_sorted.groupby(feature).head(count)\n",
    "        curr_candidates = unique_customers.merge(top_articles_feature, on=[feature], how='left')[['customer_id', 'article_id']]\n",
    "        curr_candidates['week'] = week + 1\n",
    "        curr_candidates = pd.merge(curr_candidates, mean_price, on=['article_id'])\n",
    "        curr_candidates = pd.merge(curr_candidates, common_sales_channel, on=['article_id'])\n",
    "        curr_candidates['t_dat'] = transactions[transactions['week'] == week]['t_dat'].sample(n=len(curr_candidates), random_state=1, replace=True).values\n",
    "        candidates = pd.concat([candidates, curr_candidates])\n",
    "    return candidates"
   ]
  },
  {
   "cell_type": "code",
   "execution_count": 8,
   "metadata": {},
   "outputs": [],
   "source": [
    "def candidates_radek_repurchase():\n",
    "    c2weeks = transactions.groupby('customer_id')['week'].unique()\n",
    "    c2weeks2shifted_weeks = {}\n",
    "\n",
    "    for c_id, weeks in c2weeks.items():\n",
    "        c2weeks2shifted_weeks[c_id] = {}\n",
    "        for i in range(weeks.shape[0]-1):\n",
    "            c2weeks2shifted_weeks[c_id][weeks[i]] = weeks[i+1]\n",
    "        c2weeks2shifted_weeks[c_id][weeks[-1]] = TEST_WEEK\n",
    "        \n",
    "    weeks = []\n",
    "    for i, (c_id, week) in enumerate(zip(transactions['customer_id'], transactions['week'])):\n",
    "        weeks.append(c2weeks2shifted_weeks[c_id][week])\n",
    "        \n",
    "    candidates_last_purchase = transactions.copy()\n",
    "    candidates_last_purchase.week=weeks\n",
    "    return candidates_last_purchase"
   ]
  },
  {
   "cell_type": "code",
   "execution_count": 9,
   "metadata": {},
   "outputs": [],
   "source": [
    "def candidates_radek_bestseller(count=12):\n",
    "    mean_price = transactions \\\n",
    "        .groupby(['week', 'article_id'])['price'].mean()\n",
    "    sales = transactions \\\n",
    "        .groupby('week')['article_id'].value_counts() \\\n",
    "        .groupby('week').rank(method='dense', ascending=False) \\\n",
    "        .groupby('week').head(count).rename('bestseller_rank').astype('int8')\n",
    "    bestsellers_previous_week = pd.merge(sales, mean_price, on=['week', 'article_id']).reset_index()\n",
    "    bestsellers_previous_week.week += 1    \n",
    "    unique_transactions = transactions \\\n",
    "        .groupby(['week', 'customer_id']) \\\n",
    "        .head(1) \\\n",
    "        .drop(columns=['article_id', 'price']) \\\n",
    "        .copy()\n",
    "    candidates_bestsellers = pd.merge(\n",
    "        unique_transactions,\n",
    "        bestsellers_previous_week,\n",
    "        on='week',\n",
    "    )\n",
    "    test_set_transactions = unique_transactions.drop_duplicates('customer_id').reset_index(drop=True)\n",
    "    test_set_transactions.week = TEST_WEEK\n",
    "    candidates_bestsellers_test_week = pd.merge(\n",
    "        test_set_transactions,\n",
    "        bestsellers_previous_week,\n",
    "        on='week'\n",
    "    )\n",
    "    candidates_bestsellers = pd.concat([candidates_bestsellers, candidates_bestsellers_test_week])\n",
    "    candidates_bestsellers.drop(columns='bestseller_rank', inplace=True)\n",
    "    return candidates_bestsellers"
   ]
  },
  {
   "cell_type": "code",
   "execution_count": 10,
   "metadata": {},
   "outputs": [
    {
     "name": "stderr",
     "output_type": "stream",
     "text": [
      "C:\\Users\\5joshi\\AppData\\Local\\Temp\\ipykernel_27340\\2843754821.py:4: UserWarning: Boolean Series key will be reindexed to match DataFrame index.\n",
      "  relevant_weeks = train_customers[(week - POPULARITY_WEEKS) < train_customers.week][train_customers.week <= week]\n",
      "C:\\Users\\5joshi\\AppData\\Local\\Temp\\ipykernel_27340\\2843754821.py:5: FutureWarning: The default of observed=False is deprecated and will be changed to True in a future version of pandas. Pass observed=False to retain current behavior or observed=True to adopt the future default and silence this warning.\n",
      "  recent_article_counts = relevant_weeks.groupby([feature, 'article_id']).size().reset_index(name='count')\n",
      "C:\\Users\\5joshi\\AppData\\Local\\Temp\\ipykernel_27340\\2843754821.py:7: FutureWarning: The default of observed=False is deprecated and will be changed to True in a future version of pandas. Pass observed=False to retain current behavior or observed=True to adopt the future default and silence this warning.\n",
      "  top_articles_feature = article_counts_sorted.groupby(feature).head(count)\n",
      "C:\\Users\\5joshi\\AppData\\Local\\Temp\\ipykernel_27340\\2843754821.py:4: UserWarning: Boolean Series key will be reindexed to match DataFrame index.\n",
      "  relevant_weeks = train_customers[(week - POPULARITY_WEEKS) < train_customers.week][train_customers.week <= week]\n",
      "C:\\Users\\5joshi\\AppData\\Local\\Temp\\ipykernel_27340\\2843754821.py:5: FutureWarning: The default of observed=False is deprecated and will be changed to True in a future version of pandas. Pass observed=False to retain current behavior or observed=True to adopt the future default and silence this warning.\n",
      "  recent_article_counts = relevant_weeks.groupby([feature, 'article_id']).size().reset_index(name='count')\n",
      "C:\\Users\\5joshi\\AppData\\Local\\Temp\\ipykernel_27340\\2843754821.py:7: FutureWarning: The default of observed=False is deprecated and will be changed to True in a future version of pandas. Pass observed=False to retain current behavior or observed=True to adopt the future default and silence this warning.\n",
      "  top_articles_feature = article_counts_sorted.groupby(feature).head(count)\n",
      "C:\\Users\\5joshi\\AppData\\Local\\Temp\\ipykernel_27340\\2843754821.py:4: UserWarning: Boolean Series key will be reindexed to match DataFrame index.\n",
      "  relevant_weeks = train_customers[(week - POPULARITY_WEEKS) < train_customers.week][train_customers.week <= week]\n",
      "C:\\Users\\5joshi\\AppData\\Local\\Temp\\ipykernel_27340\\2843754821.py:5: FutureWarning: The default of observed=False is deprecated and will be changed to True in a future version of pandas. Pass observed=False to retain current behavior or observed=True to adopt the future default and silence this warning.\n",
      "  recent_article_counts = relevant_weeks.groupby([feature, 'article_id']).size().reset_index(name='count')\n",
      "C:\\Users\\5joshi\\AppData\\Local\\Temp\\ipykernel_27340\\2843754821.py:7: FutureWarning: The default of observed=False is deprecated and will be changed to True in a future version of pandas. Pass observed=False to retain current behavior or observed=True to adopt the future default and silence this warning.\n",
      "  top_articles_feature = article_counts_sorted.groupby(feature).head(count)\n",
      "C:\\Users\\5joshi\\AppData\\Local\\Temp\\ipykernel_27340\\2843754821.py:4: UserWarning: Boolean Series key will be reindexed to match DataFrame index.\n",
      "  relevant_weeks = train_customers[(week - POPULARITY_WEEKS) < train_customers.week][train_customers.week <= week]\n",
      "C:\\Users\\5joshi\\AppData\\Local\\Temp\\ipykernel_27340\\2843754821.py:5: FutureWarning: The default of observed=False is deprecated and will be changed to True in a future version of pandas. Pass observed=False to retain current behavior or observed=True to adopt the future default and silence this warning.\n",
      "  recent_article_counts = relevant_weeks.groupby([feature, 'article_id']).size().reset_index(name='count')\n",
      "C:\\Users\\5joshi\\AppData\\Local\\Temp\\ipykernel_27340\\2843754821.py:7: FutureWarning: The default of observed=False is deprecated and will be changed to True in a future version of pandas. Pass observed=False to retain current behavior or observed=True to adopt the future default and silence this warning.\n",
      "  top_articles_feature = article_counts_sorted.groupby(feature).head(count)\n",
      "C:\\Users\\5joshi\\AppData\\Local\\Temp\\ipykernel_27340\\2843754821.py:4: UserWarning: Boolean Series key will be reindexed to match DataFrame index.\n",
      "  relevant_weeks = train_customers[(week - POPULARITY_WEEKS) < train_customers.week][train_customers.week <= week]\n",
      "C:\\Users\\5joshi\\AppData\\Local\\Temp\\ipykernel_27340\\2843754821.py:5: FutureWarning: The default of observed=False is deprecated and will be changed to True in a future version of pandas. Pass observed=False to retain current behavior or observed=True to adopt the future default and silence this warning.\n",
      "  recent_article_counts = relevant_weeks.groupby([feature, 'article_id']).size().reset_index(name='count')\n",
      "C:\\Users\\5joshi\\AppData\\Local\\Temp\\ipykernel_27340\\2843754821.py:7: FutureWarning: The default of observed=False is deprecated and will be changed to True in a future version of pandas. Pass observed=False to retain current behavior or observed=True to adopt the future default and silence this warning.\n",
      "  top_articles_feature = article_counts_sorted.groupby(feature).head(count)\n",
      "C:\\Users\\5joshi\\AppData\\Local\\Temp\\ipykernel_27340\\2843754821.py:4: UserWarning: Boolean Series key will be reindexed to match DataFrame index.\n",
      "  relevant_weeks = train_customers[(week - POPULARITY_WEEKS) < train_customers.week][train_customers.week <= week]\n",
      "C:\\Users\\5joshi\\AppData\\Local\\Temp\\ipykernel_27340\\2843754821.py:5: FutureWarning: The default of observed=False is deprecated and will be changed to True in a future version of pandas. Pass observed=False to retain current behavior or observed=True to adopt the future default and silence this warning.\n",
      "  recent_article_counts = relevant_weeks.groupby([feature, 'article_id']).size().reset_index(name='count')\n",
      "C:\\Users\\5joshi\\AppData\\Local\\Temp\\ipykernel_27340\\2843754821.py:7: FutureWarning: The default of observed=False is deprecated and will be changed to True in a future version of pandas. Pass observed=False to retain current behavior or observed=True to adopt the future default and silence this warning.\n",
      "  top_articles_feature = article_counts_sorted.groupby(feature).head(count)\n",
      "C:\\Users\\5joshi\\AppData\\Local\\Temp\\ipykernel_27340\\2843754821.py:4: UserWarning: Boolean Series key will be reindexed to match DataFrame index.\n",
      "  relevant_weeks = train_customers[(week - POPULARITY_WEEKS) < train_customers.week][train_customers.week <= week]\n",
      "C:\\Users\\5joshi\\AppData\\Local\\Temp\\ipykernel_27340\\2843754821.py:5: FutureWarning: The default of observed=False is deprecated and will be changed to True in a future version of pandas. Pass observed=False to retain current behavior or observed=True to adopt the future default and silence this warning.\n",
      "  recent_article_counts = relevant_weeks.groupby([feature, 'article_id']).size().reset_index(name='count')\n",
      "C:\\Users\\5joshi\\AppData\\Local\\Temp\\ipykernel_27340\\2843754821.py:7: FutureWarning: The default of observed=False is deprecated and will be changed to True in a future version of pandas. Pass observed=False to retain current behavior or observed=True to adopt the future default and silence this warning.\n",
      "  top_articles_feature = article_counts_sorted.groupby(feature).head(count)\n",
      "C:\\Users\\5joshi\\AppData\\Local\\Temp\\ipykernel_27340\\2843754821.py:4: UserWarning: Boolean Series key will be reindexed to match DataFrame index.\n",
      "  relevant_weeks = train_customers[(week - POPULARITY_WEEKS) < train_customers.week][train_customers.week <= week]\n",
      "C:\\Users\\5joshi\\AppData\\Local\\Temp\\ipykernel_27340\\2843754821.py:5: FutureWarning: The default of observed=False is deprecated and will be changed to True in a future version of pandas. Pass observed=False to retain current behavior or observed=True to adopt the future default and silence this warning.\n",
      "  recent_article_counts = relevant_weeks.groupby([feature, 'article_id']).size().reset_index(name='count')\n",
      "C:\\Users\\5joshi\\AppData\\Local\\Temp\\ipykernel_27340\\2843754821.py:7: FutureWarning: The default of observed=False is deprecated and will be changed to True in a future version of pandas. Pass observed=False to retain current behavior or observed=True to adopt the future default and silence this warning.\n",
      "  top_articles_feature = article_counts_sorted.groupby(feature).head(count)\n",
      "C:\\Users\\5joshi\\AppData\\Local\\Temp\\ipykernel_27340\\2843754821.py:4: UserWarning: Boolean Series key will be reindexed to match DataFrame index.\n",
      "  relevant_weeks = train_customers[(week - POPULARITY_WEEKS) < train_customers.week][train_customers.week <= week]\n",
      "C:\\Users\\5joshi\\AppData\\Local\\Temp\\ipykernel_27340\\2843754821.py:5: FutureWarning: The default of observed=False is deprecated and will be changed to True in a future version of pandas. Pass observed=False to retain current behavior or observed=True to adopt the future default and silence this warning.\n",
      "  recent_article_counts = relevant_weeks.groupby([feature, 'article_id']).size().reset_index(name='count')\n",
      "C:\\Users\\5joshi\\AppData\\Local\\Temp\\ipykernel_27340\\2843754821.py:7: FutureWarning: The default of observed=False is deprecated and will be changed to True in a future version of pandas. Pass observed=False to retain current behavior or observed=True to adopt the future default and silence this warning.\n",
      "  top_articles_feature = article_counts_sorted.groupby(feature).head(count)\n",
      "C:\\Users\\5joshi\\AppData\\Local\\Temp\\ipykernel_27340\\2843754821.py:4: UserWarning: Boolean Series key will be reindexed to match DataFrame index.\n",
      "  relevant_weeks = train_customers[(week - POPULARITY_WEEKS) < train_customers.week][train_customers.week <= week]\n",
      "C:\\Users\\5joshi\\AppData\\Local\\Temp\\ipykernel_27340\\2843754821.py:5: FutureWarning: The default of observed=False is deprecated and will be changed to True in a future version of pandas. Pass observed=False to retain current behavior or observed=True to adopt the future default and silence this warning.\n",
      "  recent_article_counts = relevant_weeks.groupby([feature, 'article_id']).size().reset_index(name='count')\n",
      "C:\\Users\\5joshi\\AppData\\Local\\Temp\\ipykernel_27340\\2843754821.py:7: FutureWarning: The default of observed=False is deprecated and will be changed to True in a future version of pandas. Pass observed=False to retain current behavior or observed=True to adopt the future default and silence this warning.\n",
      "  top_articles_feature = article_counts_sorted.groupby(feature).head(count)\n",
      "C:\\Users\\5joshi\\AppData\\Local\\Temp\\ipykernel_27340\\2843754821.py:4: UserWarning: Boolean Series key will be reindexed to match DataFrame index.\n",
      "  relevant_weeks = train_customers[(week - POPULARITY_WEEKS) < train_customers.week][train_customers.week <= week]\n",
      "C:\\Users\\5joshi\\AppData\\Local\\Temp\\ipykernel_27340\\2843754821.py:5: FutureWarning: The default of observed=False is deprecated and will be changed to True in a future version of pandas. Pass observed=False to retain current behavior or observed=True to adopt the future default and silence this warning.\n",
      "  recent_article_counts = relevant_weeks.groupby([feature, 'article_id']).size().reset_index(name='count')\n",
      "C:\\Users\\5joshi\\AppData\\Local\\Temp\\ipykernel_27340\\2843754821.py:7: FutureWarning: The default of observed=False is deprecated and will be changed to True in a future version of pandas. Pass observed=False to retain current behavior or observed=True to adopt the future default and silence this warning.\n",
      "  top_articles_feature = article_counts_sorted.groupby(feature).head(count)\n",
      "C:\\Users\\5joshi\\AppData\\Local\\Temp\\ipykernel_27340\\2843754821.py:4: UserWarning: Boolean Series key will be reindexed to match DataFrame index.\n",
      "  relevant_weeks = train_customers[(week - POPULARITY_WEEKS) < train_customers.week][train_customers.week <= week]\n",
      "C:\\Users\\5joshi\\AppData\\Local\\Temp\\ipykernel_27340\\2843754821.py:5: FutureWarning: The default of observed=False is deprecated and will be changed to True in a future version of pandas. Pass observed=False to retain current behavior or observed=True to adopt the future default and silence this warning.\n",
      "  recent_article_counts = relevant_weeks.groupby([feature, 'article_id']).size().reset_index(name='count')\n",
      "C:\\Users\\5joshi\\AppData\\Local\\Temp\\ipykernel_27340\\2843754821.py:7: FutureWarning: The default of observed=False is deprecated and will be changed to True in a future version of pandas. Pass observed=False to retain current behavior or observed=True to adopt the future default and silence this warning.\n",
      "  top_articles_feature = article_counts_sorted.groupby(feature).head(count)\n",
      "C:\\Users\\5joshi\\AppData\\Local\\Temp\\ipykernel_27340\\2843754821.py:4: UserWarning: Boolean Series key will be reindexed to match DataFrame index.\n",
      "  relevant_weeks = train_customers[(week - POPULARITY_WEEKS) < train_customers.week][train_customers.week <= week]\n",
      "C:\\Users\\5joshi\\AppData\\Local\\Temp\\ipykernel_27340\\2843754821.py:5: FutureWarning: The default of observed=False is deprecated and will be changed to True in a future version of pandas. Pass observed=False to retain current behavior or observed=True to adopt the future default and silence this warning.\n",
      "  recent_article_counts = relevant_weeks.groupby([feature, 'article_id']).size().reset_index(name='count')\n",
      "C:\\Users\\5joshi\\AppData\\Local\\Temp\\ipykernel_27340\\2843754821.py:7: FutureWarning: The default of observed=False is deprecated and will be changed to True in a future version of pandas. Pass observed=False to retain current behavior or observed=True to adopt the future default and silence this warning.\n",
      "  top_articles_feature = article_counts_sorted.groupby(feature).head(count)\n",
      "C:\\Users\\5joshi\\AppData\\Local\\Temp\\ipykernel_27340\\2843754821.py:4: UserWarning: Boolean Series key will be reindexed to match DataFrame index.\n",
      "  relevant_weeks = train_customers[(week - POPULARITY_WEEKS) < train_customers.week][train_customers.week <= week]\n",
      "C:\\Users\\5joshi\\AppData\\Local\\Temp\\ipykernel_27340\\2843754821.py:5: FutureWarning: The default of observed=False is deprecated and will be changed to True in a future version of pandas. Pass observed=False to retain current behavior or observed=True to adopt the future default and silence this warning.\n",
      "  recent_article_counts = relevant_weeks.groupby([feature, 'article_id']).size().reset_index(name='count')\n",
      "C:\\Users\\5joshi\\AppData\\Local\\Temp\\ipykernel_27340\\2843754821.py:7: FutureWarning: The default of observed=False is deprecated and will be changed to True in a future version of pandas. Pass observed=False to retain current behavior or observed=True to adopt the future default and silence this warning.\n",
      "  top_articles_feature = article_counts_sorted.groupby(feature).head(count)\n",
      "C:\\Users\\5joshi\\AppData\\Local\\Temp\\ipykernel_27340\\2843754821.py:4: UserWarning: Boolean Series key will be reindexed to match DataFrame index.\n",
      "  relevant_weeks = train_customers[(week - POPULARITY_WEEKS) < train_customers.week][train_customers.week <= week]\n",
      "C:\\Users\\5joshi\\AppData\\Local\\Temp\\ipykernel_27340\\2843754821.py:5: FutureWarning: The default of observed=False is deprecated and will be changed to True in a future version of pandas. Pass observed=False to retain current behavior or observed=True to adopt the future default and silence this warning.\n",
      "  recent_article_counts = relevant_weeks.groupby([feature, 'article_id']).size().reset_index(name='count')\n",
      "C:\\Users\\5joshi\\AppData\\Local\\Temp\\ipykernel_27340\\2843754821.py:7: FutureWarning: The default of observed=False is deprecated and will be changed to True in a future version of pandas. Pass observed=False to retain current behavior or observed=True to adopt the future default and silence this warning.\n",
      "  top_articles_feature = article_counts_sorted.groupby(feature).head(count)\n",
      "C:\\Users\\5joshi\\AppData\\Local\\Temp\\ipykernel_27340\\2843754821.py:4: UserWarning: Boolean Series key will be reindexed to match DataFrame index.\n",
      "  relevant_weeks = train_customers[(week - POPULARITY_WEEKS) < train_customers.week][train_customers.week <= week]\n",
      "C:\\Users\\5joshi\\AppData\\Local\\Temp\\ipykernel_27340\\2843754821.py:5: FutureWarning: The default of observed=False is deprecated and will be changed to True in a future version of pandas. Pass observed=False to retain current behavior or observed=True to adopt the future default and silence this warning.\n",
      "  recent_article_counts = relevant_weeks.groupby([feature, 'article_id']).size().reset_index(name='count')\n",
      "C:\\Users\\5joshi\\AppData\\Local\\Temp\\ipykernel_27340\\2843754821.py:7: FutureWarning: The default of observed=False is deprecated and will be changed to True in a future version of pandas. Pass observed=False to retain current behavior or observed=True to adopt the future default and silence this warning.\n",
      "  top_articles_feature = article_counts_sorted.groupby(feature).head(count)\n",
      "C:\\Users\\5joshi\\AppData\\Local\\Temp\\ipykernel_27340\\2843754821.py:4: UserWarning: Boolean Series key will be reindexed to match DataFrame index.\n",
      "  relevant_weeks = train_customers[(week - POPULARITY_WEEKS) < train_customers.week][train_customers.week <= week]\n",
      "C:\\Users\\5joshi\\AppData\\Local\\Temp\\ipykernel_27340\\2843754821.py:5: FutureWarning: The default of observed=False is deprecated and will be changed to True in a future version of pandas. Pass observed=False to retain current behavior or observed=True to adopt the future default and silence this warning.\n",
      "  recent_article_counts = relevant_weeks.groupby([feature, 'article_id']).size().reset_index(name='count')\n",
      "C:\\Users\\5joshi\\AppData\\Local\\Temp\\ipykernel_27340\\2843754821.py:7: FutureWarning: The default of observed=False is deprecated and will be changed to True in a future version of pandas. Pass observed=False to retain current behavior or observed=True to adopt the future default and silence this warning.\n",
      "  top_articles_feature = article_counts_sorted.groupby(feature).head(count)\n",
      "C:\\Users\\5joshi\\AppData\\Local\\Temp\\ipykernel_27340\\2843754821.py:4: UserWarning: Boolean Series key will be reindexed to match DataFrame index.\n",
      "  relevant_weeks = train_customers[(week - POPULARITY_WEEKS) < train_customers.week][train_customers.week <= week]\n",
      "C:\\Users\\5joshi\\AppData\\Local\\Temp\\ipykernel_27340\\2843754821.py:5: FutureWarning: The default of observed=False is deprecated and will be changed to True in a future version of pandas. Pass observed=False to retain current behavior or observed=True to adopt the future default and silence this warning.\n",
      "  recent_article_counts = relevant_weeks.groupby([feature, 'article_id']).size().reset_index(name='count')\n",
      "C:\\Users\\5joshi\\AppData\\Local\\Temp\\ipykernel_27340\\2843754821.py:7: FutureWarning: The default of observed=False is deprecated and will be changed to True in a future version of pandas. Pass observed=False to retain current behavior or observed=True to adopt the future default and silence this warning.\n",
      "  top_articles_feature = article_counts_sorted.groupby(feature).head(count)\n",
      "C:\\Users\\5joshi\\AppData\\Local\\Temp\\ipykernel_27340\\2843754821.py:4: UserWarning: Boolean Series key will be reindexed to match DataFrame index.\n",
      "  relevant_weeks = train_customers[(week - POPULARITY_WEEKS) < train_customers.week][train_customers.week <= week]\n",
      "C:\\Users\\5joshi\\AppData\\Local\\Temp\\ipykernel_27340\\2843754821.py:5: FutureWarning: The default of observed=False is deprecated and will be changed to True in a future version of pandas. Pass observed=False to retain current behavior or observed=True to adopt the future default and silence this warning.\n",
      "  recent_article_counts = relevant_weeks.groupby([feature, 'article_id']).size().reset_index(name='count')\n",
      "C:\\Users\\5joshi\\AppData\\Local\\Temp\\ipykernel_27340\\2843754821.py:7: FutureWarning: The default of observed=False is deprecated and will be changed to True in a future version of pandas. Pass observed=False to retain current behavior or observed=True to adopt the future default and silence this warning.\n",
      "  top_articles_feature = article_counts_sorted.groupby(feature).head(count)\n",
      "C:\\Users\\5joshi\\AppData\\Local\\Temp\\ipykernel_27340\\2843754821.py:4: UserWarning: Boolean Series key will be reindexed to match DataFrame index.\n",
      "  relevant_weeks = train_customers[(week - POPULARITY_WEEKS) < train_customers.week][train_customers.week <= week]\n",
      "C:\\Users\\5joshi\\AppData\\Local\\Temp\\ipykernel_27340\\2843754821.py:5: FutureWarning: The default of observed=False is deprecated and will be changed to True in a future version of pandas. Pass observed=False to retain current behavior or observed=True to adopt the future default and silence this warning.\n",
      "  recent_article_counts = relevant_weeks.groupby([feature, 'article_id']).size().reset_index(name='count')\n",
      "C:\\Users\\5joshi\\AppData\\Local\\Temp\\ipykernel_27340\\2843754821.py:7: FutureWarning: The default of observed=False is deprecated and will be changed to True in a future version of pandas. Pass observed=False to retain current behavior or observed=True to adopt the future default and silence this warning.\n",
      "  top_articles_feature = article_counts_sorted.groupby(feature).head(count)\n",
      "C:\\Users\\5joshi\\AppData\\Local\\Temp\\ipykernel_27340\\2843754821.py:4: UserWarning: Boolean Series key will be reindexed to match DataFrame index.\n",
      "  relevant_weeks = train_customers[(week - POPULARITY_WEEKS) < train_customers.week][train_customers.week <= week]\n",
      "C:\\Users\\5joshi\\AppData\\Local\\Temp\\ipykernel_27340\\2843754821.py:5: FutureWarning: The default of observed=False is deprecated and will be changed to True in a future version of pandas. Pass observed=False to retain current behavior or observed=True to adopt the future default and silence this warning.\n",
      "  recent_article_counts = relevant_weeks.groupby([feature, 'article_id']).size().reset_index(name='count')\n",
      "C:\\Users\\5joshi\\AppData\\Local\\Temp\\ipykernel_27340\\2843754821.py:7: FutureWarning: The default of observed=False is deprecated and will be changed to True in a future version of pandas. Pass observed=False to retain current behavior or observed=True to adopt the future default and silence this warning.\n",
      "  top_articles_feature = article_counts_sorted.groupby(feature).head(count)\n",
      "C:\\Users\\5joshi\\AppData\\Local\\Temp\\ipykernel_27340\\2843754821.py:4: UserWarning: Boolean Series key will be reindexed to match DataFrame index.\n",
      "  relevant_weeks = train_customers[(week - POPULARITY_WEEKS) < train_customers.week][train_customers.week <= week]\n",
      "C:\\Users\\5joshi\\AppData\\Local\\Temp\\ipykernel_27340\\2843754821.py:4: UserWarning: Boolean Series key will be reindexed to match DataFrame index.\n",
      "  relevant_weeks = train_customers[(week - POPULARITY_WEEKS) < train_customers.week][train_customers.week <= week]\n",
      "C:\\Users\\5joshi\\AppData\\Local\\Temp\\ipykernel_27340\\2843754821.py:4: UserWarning: Boolean Series key will be reindexed to match DataFrame index.\n",
      "  relevant_weeks = train_customers[(week - POPULARITY_WEEKS) < train_customers.week][train_customers.week <= week]\n",
      "C:\\Users\\5joshi\\AppData\\Local\\Temp\\ipykernel_27340\\2843754821.py:4: UserWarning: Boolean Series key will be reindexed to match DataFrame index.\n",
      "  relevant_weeks = train_customers[(week - POPULARITY_WEEKS) < train_customers.week][train_customers.week <= week]\n",
      "C:\\Users\\5joshi\\AppData\\Local\\Temp\\ipykernel_27340\\2843754821.py:4: UserWarning: Boolean Series key will be reindexed to match DataFrame index.\n",
      "  relevant_weeks = train_customers[(week - POPULARITY_WEEKS) < train_customers.week][train_customers.week <= week]\n",
      "C:\\Users\\5joshi\\AppData\\Local\\Temp\\ipykernel_27340\\2843754821.py:4: UserWarning: Boolean Series key will be reindexed to match DataFrame index.\n",
      "  relevant_weeks = train_customers[(week - POPULARITY_WEEKS) < train_customers.week][train_customers.week <= week]\n",
      "C:\\Users\\5joshi\\AppData\\Local\\Temp\\ipykernel_27340\\2843754821.py:4: UserWarning: Boolean Series key will be reindexed to match DataFrame index.\n",
      "  relevant_weeks = train_customers[(week - POPULARITY_WEEKS) < train_customers.week][train_customers.week <= week]\n"
     ]
    }
   ],
   "source": [
    "candidates_age_group = candidates_user_feature('age_group')\n",
    "candidates_avg_price = candidates_user_feature('avg_price_group')\n",
    "candidates_max_price = candidates_user_feature('max_price_group')\n",
    "candidates_gender = candidates_user_feature('most_bought_gender')\n",
    "candidates_repurchase = candidates_radek_repurchase()\n",
    "candidates_bestseller = candidates_radek_bestseller()\n"
   ]
  },
  {
   "cell_type": "code",
   "execution_count": 11,
   "metadata": {},
   "outputs": [],
   "source": [
    "all_candidate_methods = {\n",
    "    \"Popularity (age group)\": candidates_age_group, \n",
    "    \"Popularity (avg price group)\": candidates_avg_price, \n",
    "    \"Popularity (max price group)\": candidates_max_price, \n",
    "    \"Popularity (gender)\": candidates_gender, \n",
    "    \"Repurchase (radek)\": candidates_repurchase, \n",
    "    \"Bestsellers (radek)\": candidates_bestseller\n",
    "    }\n",
    "merged_candidates = pd.concat(all_candidate_methods.values()).drop_duplicates([\"customer_id\", \"week\", \"article_id\"])"
   ]
  },
  {
   "cell_type": "code",
   "execution_count": 12,
   "metadata": {},
   "outputs": [],
   "source": [
    "data = transactions\n",
    "data['purchased'] = 1\n",
    "data = pd.concat([transactions, merged_candidates]).drop_duplicates([\"customer_id\", \"week\", \"article_id\"])\n",
    "data.purchased.fillna(0, inplace=True)"
   ]
  },
  {
   "cell_type": "code",
   "execution_count": 13,
   "metadata": {},
   "outputs": [],
   "source": [
    "for method, candidates in all_candidate_methods.items():\n",
    "    candidates[method] = 1\n",
    "    data = data.merge(candidates[['customer_id', 'week', 'article_id', method]], on=['customer_id', 'week', 'article_id'], how='left')\n",
    "    data[method].fillna(0, inplace=True)"
   ]
  },
  {
   "cell_type": "code",
   "execution_count": 14,
   "metadata": {},
   "outputs": [],
   "source": [
    "data = pd.merge(data, articles, on='article_id', how='left')\n",
    "data = pd.merge(data, customers, on='customer_id', how='left')\n",
    "data.sort_values(['week', 'customer_id'], inplace=True)\n",
    "data.reset_index(drop=True, inplace=True)"
   ]
  },
  {
   "cell_type": "code",
   "execution_count": 16,
   "metadata": {},
   "outputs": [],
   "source": [
    "data['num_methods'] = data[list(all_candidate_methods.keys())].sum(axis=1)"
   ]
  },
  {
   "cell_type": "code",
   "execution_count": 82,
   "metadata": {},
   "outputs": [],
   "source": [
    "filtered_data = data[(data.purchased == 1) | (data['Bestsellers (radek)'] == 1) | (data['Repurchase (radek)'] == 1)]"
   ]
  },
  {
   "cell_type": "code",
   "execution_count": 83,
   "metadata": {},
   "outputs": [],
   "source": [
    "train = data[data.week.isin(train_weeks)][(data.purchased == 1) | data.num_methods > 2]\n",
    "test = data[data.week == TEST_WEEK][(data.purchased == 1) | data.num_methods > 2 | (data['Repurchase (radek)'] == 1)]\n",
    "\n",
    "train_baskets = train.groupby(['week', 'customer_id'])['article_id'].count().values"
   ]
  },
  {
   "cell_type": "code",
   "execution_count": 108,
   "metadata": {},
   "outputs": [],
   "source": [
    "columns_to_use = ['article_id', 'product_type_no', 'graphical_appearance_no', 'colour_group_code', 'perceived_colour_value_id',\n",
    "'perceived_colour_master_id', 'department_no', 'index_code',\n",
    "'index_group_no', 'section_no', 'garment_group_no', 'FN', 'Active',\n",
    "'club_member_status', 'fashion_news_frequency', 'age', 'postal_code',\n",
    "'age_group', 'avg_purchaser_age', 'percentage_children_purchases', 'percentage_men_purchases', 'percentage_women_purchases', 'total_purchases']\n",
    "\n",
    "# columns_to_use.extend(list(all_candidate_methods.keys()))"
   ]
  },
  {
   "cell_type": "code",
   "execution_count": 109,
   "metadata": {},
   "outputs": [
    {
     "name": "stdout",
     "output_type": "stream",
     "text": [
      "CPU times: total: 1.36 s\n",
      "Wall time: 1.4 s\n"
     ]
    }
   ],
   "source": [
    "%%time\n",
    "\n",
    "train_X = train[columns_to_use]\n",
    "train_y = train['purchased']\n",
    "\n",
    "test_X = test[columns_to_use]"
   ]
  },
  {
   "cell_type": "code",
   "execution_count": 110,
   "metadata": {},
   "outputs": [],
   "source": [
    "ranker = LGBMRanker(\n",
    "    objective=\"lambdarank\",\n",
    "    metric=\"ndcg\",\n",
    "    boosting_type=\"dart\",\n",
    "    n_estimators=1,\n",
    "    importance_type='gain',\n",
    "    verbose=10\n",
    ")"
   ]
  },
  {
   "cell_type": "code",
   "execution_count": 111,
   "metadata": {},
   "outputs": [
    {
     "name": "stdout",
     "output_type": "stream",
     "text": [
      "[LightGBM] [Debug] Dataset::GetMultiBinFromSparseFeatures: sparse rate 0.804273\n",
      "[LightGBM] [Debug] Dataset::GetMultiBinFromAllFeatures: sparse rate 0.187844\n",
      "[LightGBM] [Debug] init for col-wise cost 0.461211 seconds, init for row-wise cost 0.991661 seconds\n",
      "[LightGBM] [Info] Auto-choosing row-wise multi-threading, the overhead of testing was 0.691792 seconds.\n",
      "You can set `force_row_wise=true` to remove the overhead.\n",
      "And if memory is not enough, you can set `force_col_wise=true`.\n",
      "[LightGBM] [Debug] Using Dense Multi-Val Bin\n",
      "[LightGBM] [Info] Total Bins 2345\n",
      "[LightGBM] [Info] Number of data points in the train set: 11772260, number of used features: 23\n",
      "[LightGBM] [Debug] Trained a tree with leaves = 31 and depth = 8\n",
      "CPU times: total: 35.7 s\n",
      "Wall time: 9.42 s\n"
     ]
    }
   ],
   "source": [
    "%%time\n",
    "\n",
    "ranker = ranker.fit(\n",
    "    train_X,\n",
    "    train_y,\n",
    "    group=train_baskets,\n",
    ")"
   ]
  },
  {
   "cell_type": "code",
   "execution_count": 112,
   "metadata": {},
   "outputs": [
    {
     "name": "stdout",
     "output_type": "stream",
     "text": [
      "article_id 0.2835955491092478\n",
      "section_no 0.14733112349459293\n",
      "avg_purchaser_age 0.141388567797081\n",
      "product_type_no 0.1204890737084944\n",
      "department_no 0.08371039396337257\n",
      "garment_group_no 0.06802719390678798\n",
      "colour_group_code 0.04309015634553394\n",
      "perceived_colour_value_id 0.035974477753172626\n",
      "graphical_appearance_no 0.032383585821524154\n",
      "index_code 0.02980630461794214\n",
      "perceived_colour_master_id 0.01420357348225047\n",
      "index_group_no 0.0\n",
      "total_purchases 0.0\n",
      "percentage_women_purchases 0.0\n",
      "Active 0.0\n",
      "club_member_status 0.0\n",
      "fashion_news_frequency 0.0\n",
      "age 0.0\n",
      "postal_code 0.0\n",
      "age_group 0.0\n",
      "percentage_children_purchases 0.0\n",
      "percentage_men_purchases 0.0\n",
      "FN 0.0\n"
     ]
    }
   ],
   "source": [
    "for i in ranker.feature_importances_.argsort()[::-1]:\n",
    "    print(columns_to_use[i], ranker.feature_importances_[i]/ranker.feature_importances_.sum())"
   ]
  },
  {
   "cell_type": "code",
   "execution_count": 113,
   "metadata": {},
   "outputs": [
    {
     "name": "stdout",
     "output_type": "stream",
     "text": [
      "CPU times: total: 0 ns\n",
      "Wall time: 0 ns\n"
     ]
    },
    {
     "name": "stderr",
     "output_type": "stream",
     "text": [
      "C:\\Users\\5joshi\\AppData\\Local\\Temp\\ipykernel_27340\\416085496.py:3: SettingWithCopyWarning: \n",
      "A value is trying to be set on a copy of a slice from a DataFrame.\n",
      "Try using .loc[row_indexer,col_indexer] = value instead\n",
      "\n",
      "See the caveats in the documentation: https://pandas.pydata.org/pandas-docs/stable/user_guide/indexing.html#returning-a-view-versus-a-copy\n",
      "  test['preds'] = ranker.predict(test_X)\n"
     ]
    }
   ],
   "source": [
    "%time\n",
    "\n",
    "test['preds'] = ranker.predict(test_X)\n",
    "\n",
    "c_id2predicted_article_ids = test \\\n",
    "    .sort_values(['customer_id', 'preds'], ascending=False) \\\n",
    "    .groupby('customer_id')['article_id'].apply(list).to_dict()"
   ]
  },
  {
   "cell_type": "code",
   "execution_count": 114,
   "metadata": {},
   "outputs": [],
   "source": [
    "def customer_hex_id_to_int(series):\n",
    "    return series.str[-16:].apply(hex_id_to_int)\n",
    "\n",
    "def hex_id_to_int(str):\n",
    "    return int(str[-16:], 16)"
   ]
  },
  {
   "cell_type": "code",
   "execution_count": 115,
   "metadata": {},
   "outputs": [],
   "source": [
    "sub = pd.read_csv('data/original/sample_submission.csv')"
   ]
  },
  {
   "cell_type": "code",
   "execution_count": 116,
   "metadata": {},
   "outputs": [],
   "source": [
    "mean_price = transactions \\\n",
    "    .groupby(['week', 'article_id'])['price'].mean()\n",
    "sales = transactions \\\n",
    "    .groupby('week')['article_id'].value_counts() \\\n",
    "    .groupby('week').rank(method='dense', ascending=False) \\\n",
    "    .groupby('week').head(12).rename('bestseller_rank').astype('int8')\n",
    "bestsellers_previous_week = pd.merge(sales, mean_price, on=['week', 'article_id']).reset_index()\n",
    "bestsellers_previous_week.week += 1\n",
    "bestsellers_last_week = \\\n",
    "    bestsellers_previous_week[bestsellers_previous_week.week == bestsellers_previous_week.week.max()]['article_id'].tolist()"
   ]
  },
  {
   "cell_type": "code",
   "execution_count": 117,
   "metadata": {},
   "outputs": [
    {
     "name": "stdout",
     "output_type": "stream",
     "text": [
      "CPU times: total: 4.27 s\n",
      "Wall time: 4.34 s\n"
     ]
    }
   ],
   "source": [
    "%%time\n",
    "preds = []\n",
    "for c_id in customer_hex_id_to_int(sub.customer_id):\n",
    "    pred = c_id2predicted_article_ids.get(c_id, [])\n",
    "    pred = pred + bestsellers_last_week\n",
    "    preds.append(pred[:12])"
   ]
  },
  {
   "cell_type": "code",
   "execution_count": 118,
   "metadata": {},
   "outputs": [],
   "source": [
    "preds = [' '.join(['0' + str(p) for p in ps]) for ps in preds]\n",
    "sub.prediction = preds\n",
    "sub_name = 'candidate_generation_model'\n",
    "sub.to_csv(f'{sub_name}.csv.gz', index=False)"
   ]
  },
  {
   "cell_type": "code",
   "execution_count": 119,
   "metadata": {},
   "outputs": [
    {
     "name": "stdout",
     "output_type": "stream",
     "text": [
      "Popularity (age group) 5220420\n",
      "Popularity (avg price group) 5248380\n",
      "Popularity (max price group) 5248380\n",
      "Popularity (gender) 5248380\n",
      "Repurchase (radek) 1527904\n",
      "Bestsellers (radek) 5248380\n"
     ]
    }
   ],
   "source": [
    "for method, cands in all_candidate_methods.items():\n",
    "    print(method, len(cands[cands.week == TEST_WEEK]))"
   ]
  }
 ],
 "metadata": {
  "kernelspec": {
   "display_name": "Python 3",
   "language": "python",
   "name": "python3"
  },
  "language_info": {
   "codemirror_mode": {
    "name": "ipython",
    "version": 3
   },
   "file_extension": ".py",
   "mimetype": "text/x-python",
   "name": "python",
   "nbconvert_exporter": "python",
   "pygments_lexer": "ipython3",
   "version": "3.10.11"
  }
 },
 "nbformat": 4,
 "nbformat_minor": 2
}
