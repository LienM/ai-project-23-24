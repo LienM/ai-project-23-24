{
 "cells": [
  {
   "cell_type": "code",
   "execution_count": 1,
   "metadata": {},
   "outputs": [],
   "source": [
    "import pandas as pd\n",
    "import seaborn as sns\n",
    "import matplotlib.pyplot as plt"
   ]
  },
  {
   "cell_type": "code",
   "execution_count": 6,
   "metadata": {},
   "outputs": [],
   "source": [
    "articles = pd.read_csv('./data/articles.csv')\n",
    "customers = pd.read_csv('./data/customers.csv')\n",
    "sample_submission = pd.read_csv('./data/sample_submission.csv')\n",
    "transactions_train = pd.read_csv('./data/transactions_train.csv')"
   ]
  },
  {
   "cell_type": "markdown",
   "metadata": {},
   "source": [
    "## Articles"
   ]
  },
  {
   "cell_type": "code",
   "execution_count": 7,
   "metadata": {},
   "outputs": [
    {
     "data": {
      "text/html": [
       "<div>\n",
       "<style scoped>\n",
       "    .dataframe tbody tr th:only-of-type {\n",
       "        vertical-align: middle;\n",
       "    }\n",
       "\n",
       "    .dataframe tbody tr th {\n",
       "        vertical-align: top;\n",
       "    }\n",
       "\n",
       "    .dataframe thead th {\n",
       "        text-align: right;\n",
       "    }\n",
       "</style>\n",
       "<table border=\"1\" class=\"dataframe\">\n",
       "  <thead>\n",
       "    <tr style=\"text-align: right;\">\n",
       "      <th></th>\n",
       "      <th>article_id</th>\n",
       "      <th>product_code</th>\n",
       "      <th>prod_name</th>\n",
       "      <th>product_type_no</th>\n",
       "      <th>product_type_name</th>\n",
       "      <th>product_group_name</th>\n",
       "      <th>graphical_appearance_no</th>\n",
       "      <th>graphical_appearance_name</th>\n",
       "      <th>colour_group_code</th>\n",
       "      <th>colour_group_name</th>\n",
       "      <th>...</th>\n",
       "      <th>department_name</th>\n",
       "      <th>index_code</th>\n",
       "      <th>index_name</th>\n",
       "      <th>index_group_no</th>\n",
       "      <th>index_group_name</th>\n",
       "      <th>section_no</th>\n",
       "      <th>section_name</th>\n",
       "      <th>garment_group_no</th>\n",
       "      <th>garment_group_name</th>\n",
       "      <th>detail_desc</th>\n",
       "    </tr>\n",
       "  </thead>\n",
       "  <tbody>\n",
       "    <tr>\n",
       "      <th>0</th>\n",
       "      <td>108775015</td>\n",
       "      <td>108775</td>\n",
       "      <td>Strap top</td>\n",
       "      <td>253</td>\n",
       "      <td>Vest top</td>\n",
       "      <td>Garment Upper body</td>\n",
       "      <td>1010016</td>\n",
       "      <td>Solid</td>\n",
       "      <td>9</td>\n",
       "      <td>Black</td>\n",
       "      <td>...</td>\n",
       "      <td>Jersey Basic</td>\n",
       "      <td>A</td>\n",
       "      <td>Ladieswear</td>\n",
       "      <td>1</td>\n",
       "      <td>Ladieswear</td>\n",
       "      <td>16</td>\n",
       "      <td>Womens Everyday Basics</td>\n",
       "      <td>1002</td>\n",
       "      <td>Jersey Basic</td>\n",
       "      <td>Jersey top with narrow shoulder straps.</td>\n",
       "    </tr>\n",
       "    <tr>\n",
       "      <th>1</th>\n",
       "      <td>108775044</td>\n",
       "      <td>108775</td>\n",
       "      <td>Strap top</td>\n",
       "      <td>253</td>\n",
       "      <td>Vest top</td>\n",
       "      <td>Garment Upper body</td>\n",
       "      <td>1010016</td>\n",
       "      <td>Solid</td>\n",
       "      <td>10</td>\n",
       "      <td>White</td>\n",
       "      <td>...</td>\n",
       "      <td>Jersey Basic</td>\n",
       "      <td>A</td>\n",
       "      <td>Ladieswear</td>\n",
       "      <td>1</td>\n",
       "      <td>Ladieswear</td>\n",
       "      <td>16</td>\n",
       "      <td>Womens Everyday Basics</td>\n",
       "      <td>1002</td>\n",
       "      <td>Jersey Basic</td>\n",
       "      <td>Jersey top with narrow shoulder straps.</td>\n",
       "    </tr>\n",
       "    <tr>\n",
       "      <th>2</th>\n",
       "      <td>108775051</td>\n",
       "      <td>108775</td>\n",
       "      <td>Strap top (1)</td>\n",
       "      <td>253</td>\n",
       "      <td>Vest top</td>\n",
       "      <td>Garment Upper body</td>\n",
       "      <td>1010017</td>\n",
       "      <td>Stripe</td>\n",
       "      <td>11</td>\n",
       "      <td>Off White</td>\n",
       "      <td>...</td>\n",
       "      <td>Jersey Basic</td>\n",
       "      <td>A</td>\n",
       "      <td>Ladieswear</td>\n",
       "      <td>1</td>\n",
       "      <td>Ladieswear</td>\n",
       "      <td>16</td>\n",
       "      <td>Womens Everyday Basics</td>\n",
       "      <td>1002</td>\n",
       "      <td>Jersey Basic</td>\n",
       "      <td>Jersey top with narrow shoulder straps.</td>\n",
       "    </tr>\n",
       "    <tr>\n",
       "      <th>3</th>\n",
       "      <td>110065001</td>\n",
       "      <td>110065</td>\n",
       "      <td>OP T-shirt (Idro)</td>\n",
       "      <td>306</td>\n",
       "      <td>Bra</td>\n",
       "      <td>Underwear</td>\n",
       "      <td>1010016</td>\n",
       "      <td>Solid</td>\n",
       "      <td>9</td>\n",
       "      <td>Black</td>\n",
       "      <td>...</td>\n",
       "      <td>Clean Lingerie</td>\n",
       "      <td>B</td>\n",
       "      <td>Lingeries/Tights</td>\n",
       "      <td>1</td>\n",
       "      <td>Ladieswear</td>\n",
       "      <td>61</td>\n",
       "      <td>Womens Lingerie</td>\n",
       "      <td>1017</td>\n",
       "      <td>Under-, Nightwear</td>\n",
       "      <td>Microfibre T-shirt bra with underwired, moulde...</td>\n",
       "    </tr>\n",
       "    <tr>\n",
       "      <th>4</th>\n",
       "      <td>110065002</td>\n",
       "      <td>110065</td>\n",
       "      <td>OP T-shirt (Idro)</td>\n",
       "      <td>306</td>\n",
       "      <td>Bra</td>\n",
       "      <td>Underwear</td>\n",
       "      <td>1010016</td>\n",
       "      <td>Solid</td>\n",
       "      <td>10</td>\n",
       "      <td>White</td>\n",
       "      <td>...</td>\n",
       "      <td>Clean Lingerie</td>\n",
       "      <td>B</td>\n",
       "      <td>Lingeries/Tights</td>\n",
       "      <td>1</td>\n",
       "      <td>Ladieswear</td>\n",
       "      <td>61</td>\n",
       "      <td>Womens Lingerie</td>\n",
       "      <td>1017</td>\n",
       "      <td>Under-, Nightwear</td>\n",
       "      <td>Microfibre T-shirt bra with underwired, moulde...</td>\n",
       "    </tr>\n",
       "  </tbody>\n",
       "</table>\n",
       "<p>5 rows × 25 columns</p>\n",
       "</div>"
      ],
      "text/plain": [
       "   article_id  product_code          prod_name  product_type_no  \\\n",
       "0   108775015        108775          Strap top              253   \n",
       "1   108775044        108775          Strap top              253   \n",
       "2   108775051        108775      Strap top (1)              253   \n",
       "3   110065001        110065  OP T-shirt (Idro)              306   \n",
       "4   110065002        110065  OP T-shirt (Idro)              306   \n",
       "\n",
       "  product_type_name  product_group_name  graphical_appearance_no  \\\n",
       "0          Vest top  Garment Upper body                  1010016   \n",
       "1          Vest top  Garment Upper body                  1010016   \n",
       "2          Vest top  Garment Upper body                  1010017   \n",
       "3               Bra           Underwear                  1010016   \n",
       "4               Bra           Underwear                  1010016   \n",
       "\n",
       "  graphical_appearance_name  colour_group_code colour_group_name  ...  \\\n",
       "0                     Solid                  9             Black  ...   \n",
       "1                     Solid                 10             White  ...   \n",
       "2                    Stripe                 11         Off White  ...   \n",
       "3                     Solid                  9             Black  ...   \n",
       "4                     Solid                 10             White  ...   \n",
       "\n",
       "   department_name index_code        index_name index_group_no  \\\n",
       "0     Jersey Basic          A        Ladieswear              1   \n",
       "1     Jersey Basic          A        Ladieswear              1   \n",
       "2     Jersey Basic          A        Ladieswear              1   \n",
       "3   Clean Lingerie          B  Lingeries/Tights              1   \n",
       "4   Clean Lingerie          B  Lingeries/Tights              1   \n",
       "\n",
       "   index_group_name section_no            section_name garment_group_no  \\\n",
       "0        Ladieswear         16  Womens Everyday Basics             1002   \n",
       "1        Ladieswear         16  Womens Everyday Basics             1002   \n",
       "2        Ladieswear         16  Womens Everyday Basics             1002   \n",
       "3        Ladieswear         61         Womens Lingerie             1017   \n",
       "4        Ladieswear         61         Womens Lingerie             1017   \n",
       "\n",
       "   garment_group_name                                        detail_desc  \n",
       "0        Jersey Basic            Jersey top with narrow shoulder straps.  \n",
       "1        Jersey Basic            Jersey top with narrow shoulder straps.  \n",
       "2        Jersey Basic            Jersey top with narrow shoulder straps.  \n",
       "3   Under-, Nightwear  Microfibre T-shirt bra with underwired, moulde...  \n",
       "4   Under-, Nightwear  Microfibre T-shirt bra with underwired, moulde...  \n",
       "\n",
       "[5 rows x 25 columns]"
      ]
     },
     "execution_count": 7,
     "metadata": {},
     "output_type": "execute_result"
    }
   ],
   "source": [
    "articles.head()"
   ]
  },
  {
   "cell_type": "code",
   "execution_count": 24,
   "metadata": {},
   "outputs": [
    {
     "data": {
      "text/plain": [
       "Index(['article_id', 'product_code', 'prod_name', 'product_type_no',\n",
       "       'product_type_name', 'product_group_name', 'graphical_appearance_no',\n",
       "       'graphical_appearance_name', 'colour_group_code', 'colour_group_name',\n",
       "       'perceived_colour_value_id', 'perceived_colour_value_name',\n",
       "       'perceived_colour_master_id', 'perceived_colour_master_name',\n",
       "       'department_no', 'department_name', 'index_code', 'index_name',\n",
       "       'index_group_no', 'index_group_name', 'section_no', 'section_name',\n",
       "       'garment_group_no', 'garment_group_name', 'detail_desc',\n",
       "       'product_code_check'],\n",
       "      dtype='object')"
      ]
     },
     "execution_count": 24,
     "metadata": {},
     "output_type": "execute_result"
    }
   ],
   "source": [
    "articles.columns"
   ]
  },
  {
   "cell_type": "code",
   "execution_count": 20,
   "metadata": {},
   "outputs": [
    {
     "name": "stdout",
     "output_type": "stream",
     "text": [
      "There are 105542 articles of which 105542 are unique.\n"
     ]
    }
   ],
   "source": [
    "print(f\"There are {len(articles)} articles of which {len(articles['article_id'].unique())} are unique.\")"
   ]
  },
  {
   "cell_type": "code",
   "execution_count": 149,
   "metadata": {},
   "outputs": [
    {
     "data": {
      "text/plain": [
       "article_id                      0.000000\n",
       "product_code                    0.000000\n",
       "prod_name                       0.000000\n",
       "product_type_no                 0.000000\n",
       "product_type_name               0.000000\n",
       "product_group_name              0.000000\n",
       "graphical_appearance_no         0.000000\n",
       "graphical_appearance_name       0.000000\n",
       "colour_group_code               0.000000\n",
       "colour_group_name               0.000000\n",
       "perceived_colour_value_id       0.000000\n",
       "perceived_colour_value_name     0.000000\n",
       "perceived_colour_master_id      0.000000\n",
       "perceived_colour_master_name    0.000000\n",
       "department_no                   0.000000\n",
       "department_name                 0.000000\n",
       "index_code                      0.000000\n",
       "index_name                      0.000000\n",
       "index_group_no                  0.000000\n",
       "index_group_name                0.000000\n",
       "section_no                      0.000000\n",
       "section_name                    0.000000\n",
       "garment_group_no                0.000000\n",
       "garment_group_name              0.000000\n",
       "detail_desc                     0.003942\n",
       "product_code_check              0.000000\n",
       "has_image                       0.000000\n",
       "dtype: float64"
      ]
     },
     "execution_count": 149,
     "metadata": {},
     "output_type": "execute_result"
    }
   ],
   "source": [
    "articles.isna().sum() / len(articles)"
   ]
  },
  {
   "cell_type": "code",
   "execution_count": 12,
   "metadata": {},
   "outputs": [
    {
     "data": {
      "text/plain": [
       "count    1.055420e+05\n",
       "mean     6.984246e+08\n",
       "std      1.284624e+08\n",
       "min      1.087750e+08\n",
       "25%      6.169925e+08\n",
       "50%      7.022130e+08\n",
       "75%      7.967030e+08\n",
       "max      9.594610e+08\n",
       "Name: article_id, dtype: float64"
      ]
     },
     "execution_count": 12,
     "metadata": {},
     "output_type": "execute_result"
    }
   ],
   "source": [
    "articles[\"article_id\"].describe()"
   ]
  },
  {
   "cell_type": "code",
   "execution_count": 15,
   "metadata": {},
   "outputs": [
    {
     "name": "stdout",
     "output_type": "stream",
     "text": [
      "Article ids from 108775015 to 959461001 with lengths 9 to 9\n"
     ]
    }
   ],
   "source": [
    "article_min = articles[\"article_id\"].min()\n",
    "article_max = articles[\"article_id\"].max()\n",
    "\n",
    "print(f\"Article ids from {article_min} to {article_max} with lengths {len(str(article_min))} to {len(str(article_max))}\")"
   ]
  },
  {
   "cell_type": "code",
   "execution_count": 16,
   "metadata": {},
   "outputs": [
    {
     "data": {
      "text/plain": [
       "count    105542.000000\n",
       "mean     698424.563378\n",
       "std      128462.384432\n",
       "min      108775.000000\n",
       "25%      616992.500000\n",
       "50%      702213.000000\n",
       "75%      796703.000000\n",
       "max      959461.000000\n",
       "Name: product_code, dtype: float64"
      ]
     },
     "execution_count": 16,
     "metadata": {},
     "output_type": "execute_result"
    }
   ],
   "source": [
    "articles[\"product_code\"].describe()"
   ]
  },
  {
   "cell_type": "code",
   "execution_count": 22,
   "metadata": {},
   "outputs": [
    {
     "data": {
      "text/plain": [
       "count     105542\n",
       "unique         1\n",
       "top         True\n",
       "freq      105542\n",
       "Name: product_code_check, dtype: object"
      ]
     },
     "execution_count": 22,
     "metadata": {},
     "output_type": "execute_result"
    }
   ],
   "source": [
    "# Check if the beginning of the article id matches the product code for each product\n",
    "articles[\"product_code_check\"] = articles['article_id'] // 1000 == articles['product_code']\n",
    "articles[\"product_code_check\"].describe()\n"
   ]
  },
  {
   "cell_type": "code",
   "execution_count": 26,
   "metadata": {},
   "outputs": [
    {
     "data": {
      "text/plain": [
       "article_id                      105542\n",
       "product_code                     47224\n",
       "prod_name                        45875\n",
       "product_type_no                    132\n",
       "product_type_name                  131\n",
       "product_group_name                  19\n",
       "graphical_appearance_no             30\n",
       "graphical_appearance_name           30\n",
       "colour_group_code                   50\n",
       "colour_group_name                   50\n",
       "perceived_colour_value_id            8\n",
       "perceived_colour_value_name          8\n",
       "perceived_colour_master_id          20\n",
       "perceived_colour_master_name        20\n",
       "department_no                      299\n",
       "department_name                    250\n",
       "index_code                          10\n",
       "index_name                          10\n",
       "index_group_no                       5\n",
       "index_group_name                     5\n",
       "section_no                          57\n",
       "section_name                        56\n",
       "garment_group_no                    21\n",
       "garment_group_name                  21\n",
       "detail_desc                      43404\n",
       "product_code_check                   1\n",
       "dtype: int64"
      ]
     },
     "execution_count": 26,
     "metadata": {},
     "output_type": "execute_result"
    }
   ],
   "source": [
    "articles.nunique()"
   ]
  },
  {
   "cell_type": "code",
   "execution_count": 32,
   "metadata": {},
   "outputs": [
    {
     "name": "stdout",
     "output_type": "stream",
     "text": [
      "        product_code                     prod_name\n",
      "0             108775                     Strap top\n",
      "2             108775                 Strap top (1)\n",
      "46            146706      Tanktop body white 3PACK\n",
      "48            146706               3P TANKTOP BODY\n",
      "70            156610                  Connor pants\n",
      "...              ...                           ...\n",
      "105150        933729  HEDDA conscious training cap\n",
      "105231        935196       PS STAR SILK MIX TIGHTS\n",
      "105232        935196       PQ STAR SILK MIX TIGHTS\n",
      "105335        937627            PS CAT CASH BEANIE\n",
      "105336        937627            PQ CAT CASH BEANIE\n",
      "\n",
      "[4764 rows x 2 columns]\n"
     ]
    }
   ],
   "source": [
    "products = articles[[\"product_code\", \"prod_name\"]].drop_duplicates()\n",
    "print(products[products.duplicated(subset=\"product_code\", keep=False)])"
   ]
  },
  {
   "cell_type": "code",
   "execution_count": 35,
   "metadata": {},
   "outputs": [
    {
     "name": "stdout",
     "output_type": "stream",
     "text": [
      "     product_type_no product_type_name\n",
      "36               532          Umbrella\n",
      "719               83          Umbrella\n",
      "Empty DataFrame\n",
      "Columns: [product_type_no, product_group_name]\n",
      "Index: []\n"
     ]
    }
   ],
   "source": [
    "product_types = articles[[\"product_type_no\", \"product_type_name\"]].drop_duplicates()\n",
    "print(product_types[product_types.duplicated(subset=\"product_type_no\", keep=False)])\n",
    "\n",
    "product_groups = articles[[\"product_type_no\", \"product_group_name\"]].drop_duplicates()\n",
    "print(product_groups[product_groups.duplicated(subset=\"product_type_no\", keep=False)])"
   ]
  },
  {
   "cell_type": "code",
   "execution_count": 36,
   "metadata": {},
   "outputs": [
    {
     "name": "stdout",
     "output_type": "stream",
     "text": [
      "     product_type_no product_type_name\n",
      "36               532          Umbrella\n",
      "719               83          Umbrella\n"
     ]
    }
   ],
   "source": [
    "print(product_types[product_types.duplicated(subset=\"product_type_name\", keep=False)])\n"
   ]
  },
  {
   "cell_type": "code",
   "execution_count": 46,
   "metadata": {},
   "outputs": [],
   "source": [
    "def find_duplicate_pairwise_matches(numcol, namecol):\n",
    "    df = articles[[numcol, namecol]].drop_duplicates()\n",
    "    return df[df.duplicated(subset=namecol, keep=False)]    "
   ]
  },
  {
   "cell_type": "code",
   "execution_count": 47,
   "metadata": {},
   "outputs": [
    {
     "name": "stdout",
     "output_type": "stream",
     "text": [
      "graphical_appearance_no has 0 duplicates\n",
      "colour_group_code has 0 duplicates\n",
      "perceived_colour_value_id has 0 duplicates\n",
      "perceived_colour_master_id has 0 duplicates\n",
      "department_no has 71 duplicates\n",
      "index_code has 0 duplicates\n",
      "index_group_no has 0 duplicates\n",
      "section_no has 2 duplicates\n",
      "garment_group_no has 0 duplicates\n"
     ]
    }
   ],
   "source": [
    "duplicate_graphical_appearance = find_duplicate_pairwise_matches(\"graphical_appearance_no\", \"graphical_appearance_name\")\n",
    "duplicate_colour_group = find_duplicate_pairwise_matches(\"colour_group_code\", \"colour_group_name\")\n",
    "duplicate_perceived_colour_value = find_duplicate_pairwise_matches(\"perceived_colour_value_id\", \"perceived_colour_value_name\")\n",
    "duplicate_perceived_colour_master = find_duplicate_pairwise_matches(\"perceived_colour_master_id\", \"perceived_colour_master_name\")\n",
    "duplicate_department = find_duplicate_pairwise_matches(\"department_no\", \"department_name\")\n",
    "duplicate_index = find_duplicate_pairwise_matches(\"index_code\", \"index_name\")\n",
    "duplicate_index_group = find_duplicate_pairwise_matches(\"index_group_no\", \"index_group_name\")\n",
    "duplicate_section = find_duplicate_pairwise_matches(\"section_no\", \"section_name\")\n",
    "duplicate_garment_group = find_duplicate_pairwise_matches(\"garment_group_no\", \"garment_group_name\") \n",
    "\n",
    "for duplicates in [duplicate_graphical_appearance, duplicate_colour_group, duplicate_perceived_colour_value, duplicate_perceived_colour_master, duplicate_department, duplicate_index, duplicate_index_group, duplicate_section, duplicate_garment_group]:\n",
    "    print(f\"{duplicates.columns[0]} has {len(duplicates)} duplicates\")"
   ]
  },
  {
   "cell_type": "code",
   "execution_count": 56,
   "metadata": {},
   "outputs": [
    {
     "name": "stdout",
     "output_type": "stream",
     "text": [
      "       department_no department_name\n",
      "5475            3510     Accessories\n",
      "26948           3941     Accessories\n",
      "9286            7530     Accessories\n",
      "381             9985     Accessories\n",
      "438             3209            Bags\n",
      "...              ...             ...\n",
      "4344            1710         Trouser\n",
      "322             5656         Trouser\n",
      "526             1722         Trouser\n",
      "481             2031   Woven bottoms\n",
      "859             1939   Woven bottoms\n",
      "\n",
      "[71 rows x 2 columns]\n"
     ]
    }
   ],
   "source": [
    "duplicate_department = duplicate_department.sort_values(by=\"department_name\")\n",
    "print(duplicate_department)"
   ]
  },
  {
   "cell_type": "code",
   "execution_count": 59,
   "metadata": {},
   "outputs": [
    {
     "name": "stdout",
     "output_type": "stream",
     "text": [
      "       section_no  section_name\n",
      "38956           4  Ladies Other\n",
      "43598          17  Ladies Other\n"
     ]
    }
   ],
   "source": [
    "print(duplicate_section)"
   ]
  },
  {
   "cell_type": "code",
   "execution_count": 61,
   "metadata": {},
   "outputs": [
    {
     "data": {
      "text/plain": [
       "Trousers         11169\n",
       "Dress            10362\n",
       "Sweater           9302\n",
       "T-shirt           7904\n",
       "Top               4155\n",
       "                 ...  \n",
       "Keychain             1\n",
       "Headband             1\n",
       "Cushion              1\n",
       "Blanket              1\n",
       "Clothing mist        1\n",
       "Name: product_type_name, Length: 131, dtype: int64"
      ]
     },
     "execution_count": 61,
     "metadata": {},
     "output_type": "execute_result"
    }
   ],
   "source": [
    "articles[\"product_type_name\"].value_counts()\n"
   ]
  },
  {
   "cell_type": "code",
   "execution_count": 62,
   "metadata": {},
   "outputs": [
    {
     "data": {
      "text/plain": [
       "Solid                  49747\n",
       "All over pattern       17165\n",
       "Melange                 5938\n",
       "Stripe                  4990\n",
       "Denim                   4842\n",
       "Front print             3215\n",
       "Placement print         3098\n",
       "Check                   2178\n",
       "Colour blocking         1830\n",
       "Lace                    1513\n",
       "Other structure         1502\n",
       "Application/3D          1341\n",
       "Embroidery              1165\n",
       "Mixed solid/pattern     1132\n",
       "Glittering/Metallic      958\n",
       "Jacquard                 830\n",
       "Sequin                   806\n",
       "Dot                      681\n",
       "Treatment                586\n",
       "Other pattern            515\n",
       "Contrast                 376\n",
       "Metallic                 346\n",
       "Chambray                 322\n",
       "Slub                     153\n",
       "Transparent               86\n",
       "Mesh                      86\n",
       "Neps                      66\n",
       "Unknown                   52\n",
       "Argyle                    15\n",
       "Hologram                   8\n",
       "Name: graphical_appearance_name, dtype: int64"
      ]
     },
     "execution_count": 62,
     "metadata": {},
     "output_type": "execute_result"
    }
   ],
   "source": [
    "articles[\"graphical_appearance_name\"].value_counts()\n"
   ]
  },
  {
   "cell_type": "code",
   "execution_count": 63,
   "metadata": {},
   "outputs": [
    {
     "data": {
      "text/plain": [
       "Black              22670\n",
       "Dark Blue          12171\n",
       "White               9542\n",
       "Light Pink          5811\n",
       "Grey                4487\n",
       "Light Beige         3356\n",
       "Blue                3308\n",
       "Red                 3056\n",
       "Light Blue          3012\n",
       "Greenish Khaki      2767\n",
       "Dark Grey           2731\n",
       "Off White           2726\n",
       "Beige               2712\n",
       "Dark Red            2340\n",
       "Dark Green          2106\n",
       "Light Grey          2105\n",
       "Pink                2063\n",
       "Yellow              1645\n",
       "Light Orange        1520\n",
       "Yellowish Brown     1471\n",
       "Gold                1377\n",
       "Dark Beige          1084\n",
       "Light Turquoise     1027\n",
       "Light Yellow         984\n",
       "Dark Orange          886\n",
       "Dark Pink            818\n",
       "Green                815\n",
       "Orange               779\n",
       "Other Pink           750\n",
       "Silver               709\n",
       "Light Green          681\n",
       "Dark Yellow          574\n",
       "Light Purple         553\n",
       "Dark Turquoise       473\n",
       "Turquoise            435\n",
       "Dark Purple          315\n",
       "Light Red            285\n",
       "Greyish Beige        226\n",
       "Other Yellow         225\n",
       "Purple               182\n",
       "Other Orange         153\n",
       "Other Green          129\n",
       "Other Red            114\n",
       "Other                105\n",
       "Bronze/Copper         94\n",
       "Other Blue            51\n",
       "Other Purple          46\n",
       "Transparent           31\n",
       "Unknown               28\n",
       "Other Turquoise       14\n",
       "Name: colour_group_name, dtype: int64"
      ]
     },
     "execution_count": 63,
     "metadata": {},
     "output_type": "execute_result"
    }
   ],
   "source": [
    "articles[\"colour_group_name\"].value_counts()\n"
   ]
  },
  {
   "cell_type": "code",
   "execution_count": 65,
   "metadata": {},
   "outputs": [
    {
     "data": {
      "text/plain": [
       "Dark            42706\n",
       "Dusty Light     22152\n",
       "Light           15739\n",
       "Medium Dusty    12630\n",
       "Bright           6471\n",
       "Medium           5711\n",
       "Undefined         105\n",
       "Unknown            28\n",
       "Name: perceived_colour_value_name, dtype: int64"
      ]
     },
     "execution_count": 65,
     "metadata": {},
     "output_type": "execute_result"
    }
   ],
   "source": [
    "articles[\"perceived_colour_value_name\"].value_counts()"
   ]
  },
  {
   "cell_type": "code",
   "execution_count": 69,
   "metadata": {},
   "outputs": [
    {
     "data": {
      "text/plain": [
       "Black              22585\n",
       "Blue               18469\n",
       "White              12665\n",
       "Pink                9403\n",
       "Grey                8924\n",
       "Red                 5878\n",
       "Beige               5657\n",
       "Green               3526\n",
       "Khaki green         3181\n",
       "Yellow              3121\n",
       "Orange              2734\n",
       "Brown               2269\n",
       "Metal               2180\n",
       "Turquoise           1829\n",
       "Mole                1223\n",
       "Lilac Purple        1100\n",
       "Unknown              685\n",
       "undefined            105\n",
       "Yellowish Green        5\n",
       "Bluish Green           3\n",
       "Name: perceived_colour_master_name, dtype: int64"
      ]
     },
     "execution_count": 69,
     "metadata": {},
     "output_type": "execute_result"
    }
   ],
   "source": [
    "articles[\"perceived_colour_master_name\"].value_counts()"
   ]
  },
  {
   "cell_type": "code",
   "execution_count": 68,
   "metadata": {},
   "outputs": [
    {
     "data": {
      "text/plain": [
       "colour_group_name  perceived_colour_value_name  perceived_colour_master_name\n",
       "Black              Dark                         Black                           22331\n",
       "Dark Blue          Dark                         Blue                             9662\n",
       "White              Light                        White                            9212\n",
       "Light Pink         Dusty Light                  Pink                             4296\n",
       "Grey               Dusty Light                  Grey                             3039\n",
       "                                                                                ...  \n",
       "Dark Blue          Dark                         Green                               1\n",
       "Greenish Khaki     Medium Dusty                 Beige                               1\n",
       "Dark Blue          Medium Dusty                 Grey                                1\n",
       "Other Pink         Bright                       Red                                 1\n",
       "Light Yellow       Medium Dusty                 Yellow                              1\n",
       "Length: 296, dtype: int64"
      ]
     },
     "execution_count": 68,
     "metadata": {},
     "output_type": "execute_result"
    }
   ],
   "source": [
    "colour = articles[[\"colour_group_name\", \"perceived_colour_value_name\", \"perceived_colour_master_name\"]]\n",
    "colour.value_counts()"
   ]
  },
  {
   "cell_type": "code",
   "execution_count": 71,
   "metadata": {},
   "outputs": [
    {
     "data": {
      "text/plain": [
       "Jersey                             4604\n",
       "Knitwear                           3503\n",
       "Trouser                            2655\n",
       "Blouse                             2362\n",
       "Dress                              2087\n",
       "                                   ... \n",
       "Woven bottoms inactive from S.7       1\n",
       "Jersey inactive from S.6              1\n",
       "EQ Divided Blue                       1\n",
       "Accessories Other                     1\n",
       "Kids Boy License                      1\n",
       "Name: department_name, Length: 250, dtype: int64"
      ]
     },
     "execution_count": 71,
     "metadata": {},
     "output_type": "execute_result"
    }
   ],
   "source": [
    "articles[\"department_name\"].value_counts()"
   ]
  },
  {
   "cell_type": "code",
   "execution_count": 70,
   "metadata": {},
   "outputs": [
    {
     "data": {
      "text/plain": [
       "Ladieswear                        26001\n",
       "Divided                           15149\n",
       "Menswear                          12553\n",
       "Children Sizes 92-140             12007\n",
       "Children Sizes 134-170             9214\n",
       "Baby Sizes 50-98                   8875\n",
       "Ladies Accessories                 6961\n",
       "Lingeries/Tights                   6775\n",
       "Children Accessories, Swimwear     4615\n",
       "Sport                              3392\n",
       "Name: index_name, dtype: int64"
      ]
     },
     "execution_count": 70,
     "metadata": {},
     "output_type": "execute_result"
    }
   ],
   "source": [
    "articles[\"index_name\"].value_counts()"
   ]
  },
  {
   "cell_type": "code",
   "execution_count": 72,
   "metadata": {},
   "outputs": [
    {
     "data": {
      "text/plain": [
       "Womens Everyday Collection        7295\n",
       "Divided Collection                7124\n",
       "Baby Essentials & Complements     4932\n",
       "Kids Girl                         4469\n",
       "Young Girl                        3899\n",
       "Womens Lingerie                   3598\n",
       "Girls Underwear & Basics          3490\n",
       "Womens Tailoring                  3376\n",
       "Kids Boy                          3328\n",
       "Womens Small accessories          3270\n",
       "Womens Casual                     2725\n",
       "Kids Outerwear                    2665\n",
       "Womens Trend                      2622\n",
       "Divided Projects                  2364\n",
       "Young Boy                         2352\n",
       "H&M+                              2337\n",
       "Men Underwear                     2322\n",
       "Mama                              2266\n",
       "Kids & Baby Shoes                 2142\n",
       "Boys Underwear & Basics           2034\n",
       "Womens Shoes                      2026\n",
       "Ladies H&M Sport                  1894\n",
       "Womens Swimwear, beachwear        1839\n",
       "Contemporary Smart                1778\n",
       "Baby Girl                         1760\n",
       "Divided Accessories               1732\n",
       "Kids Accessories, Swimwear & D    1731\n",
       "Divided Basics                    1723\n",
       "Baby Boy                          1717\n",
       "Womens Big accessories            1665\n",
       "Womens Everyday Basics            1581\n",
       "Womens Nightwear, Socks & Tigh    1566\n",
       "Contemporary Casual               1560\n",
       "Contemporary Street               1490\n",
       "Men Suits & Tailoring             1428\n",
       "Men Accessories                   1337\n",
       "Womens Premium                    1270\n",
       "Ladies Denim                      1101\n",
       "Divided Selected                   991\n",
       "Men H&M Sport                      872\n",
       "Womens Jackets                     829\n",
       "Special Collections                682\n",
       "Men Shoes                          645\n",
       "Mens Outerwear                     629\n",
       "Kids Sports                        626\n",
       "Collaborations                     559\n",
       "Denim Men                          521\n",
       "Men Edition                        330\n",
       "Men Project                        298\n",
       "Divided Asia keys                  280\n",
       "Kids Local Relevance               192\n",
       "Men Other 2                        190\n",
       "Divided Complements Other           35\n",
       "EQ Divided                          26\n",
       "Men Other                           25\n",
       "Ladies Other                         4\n",
       "Name: section_name, dtype: int64"
      ]
     },
     "execution_count": 72,
     "metadata": {},
     "output_type": "execute_result"
    }
   ],
   "source": [
    "articles[\"section_name\"].value_counts()"
   ]
  },
  {
   "cell_type": "code",
   "execution_count": 73,
   "metadata": {},
   "outputs": [
    {
     "data": {
      "text/plain": [
       "Jersey Fancy                     21445\n",
       "Accessories                      11519\n",
       "Jersey Basic                      8126\n",
       "Knitwear                          7490\n",
       "Under-, Nightwear                 7441\n",
       "Trousers                          6727\n",
       "Blouses                           5838\n",
       "Shoes                             5145\n",
       "Dresses Ladies                    4874\n",
       "Outdoor                           4501\n",
       "Unknown                           3873\n",
       "Trousers Denim                    3100\n",
       "Swimwear                          2787\n",
       "Socks and Tights                  2272\n",
       "Shirts                            2116\n",
       "Woven/Jersey/Knitted mix Baby     1965\n",
       "Shorts                            1559\n",
       "Dresses/Skirts girls              1541\n",
       "Skirts                            1254\n",
       "Special Offers                    1061\n",
       "Dressed                            908\n",
       "Name: garment_group_name, dtype: int64"
      ]
     },
     "execution_count": 73,
     "metadata": {},
     "output_type": "execute_result"
    }
   ],
   "source": [
    "articles[\"garment_group_name\"].value_counts()"
   ]
  },
  {
   "cell_type": "code",
   "execution_count": 74,
   "metadata": {},
   "outputs": [
    {
     "data": {
      "text/plain": [
       "0              Jersey top with narrow shoulder straps.\n",
       "1              Jersey top with narrow shoulder straps.\n",
       "2              Jersey top with narrow shoulder straps.\n",
       "3    Microfibre T-shirt bra with underwired, moulde...\n",
       "4    Microfibre T-shirt bra with underwired, moulde...\n",
       "Name: detail_desc, dtype: object"
      ]
     },
     "execution_count": 74,
     "metadata": {},
     "output_type": "execute_result"
    }
   ],
   "source": [
    "articles[\"detail_desc\"].head()"
   ]
  },
  {
   "cell_type": "code",
   "execution_count": 75,
   "metadata": {},
   "outputs": [
    {
     "data": {
      "text/plain": [
       "True    105542\n",
       "Name: product_code_check, dtype: int64"
      ]
     },
     "execution_count": 75,
     "metadata": {},
     "output_type": "execute_result"
    }
   ],
   "source": [
    "articles[\"product_code_check\"].value_counts()"
   ]
  },
  {
   "cell_type": "markdown",
   "metadata": {},
   "source": [
    "## Customers"
   ]
  },
  {
   "cell_type": "code",
   "execution_count": 81,
   "metadata": {},
   "outputs": [
    {
     "data": {
      "text/html": [
       "<div>\n",
       "<style scoped>\n",
       "    .dataframe tbody tr th:only-of-type {\n",
       "        vertical-align: middle;\n",
       "    }\n",
       "\n",
       "    .dataframe tbody tr th {\n",
       "        vertical-align: top;\n",
       "    }\n",
       "\n",
       "    .dataframe thead th {\n",
       "        text-align: right;\n",
       "    }\n",
       "</style>\n",
       "<table border=\"1\" class=\"dataframe\">\n",
       "  <thead>\n",
       "    <tr style=\"text-align: right;\">\n",
       "      <th></th>\n",
       "      <th>customer_id</th>\n",
       "      <th>FN</th>\n",
       "      <th>Active</th>\n",
       "      <th>club_member_status</th>\n",
       "      <th>fashion_news_frequency</th>\n",
       "      <th>age</th>\n",
       "      <th>postal_code</th>\n",
       "    </tr>\n",
       "  </thead>\n",
       "  <tbody>\n",
       "    <tr>\n",
       "      <th>0</th>\n",
       "      <td>00000dbacae5abe5e23885899a1fa44253a17956c6d1c3...</td>\n",
       "      <td>NaN</td>\n",
       "      <td>NaN</td>\n",
       "      <td>ACTIVE</td>\n",
       "      <td>NONE</td>\n",
       "      <td>49.0</td>\n",
       "      <td>52043ee2162cf5aa7ee79974281641c6f11a68d276429a...</td>\n",
       "    </tr>\n",
       "    <tr>\n",
       "      <th>1</th>\n",
       "      <td>0000423b00ade91418cceaf3b26c6af3dd342b51fd051e...</td>\n",
       "      <td>NaN</td>\n",
       "      <td>NaN</td>\n",
       "      <td>ACTIVE</td>\n",
       "      <td>NONE</td>\n",
       "      <td>25.0</td>\n",
       "      <td>2973abc54daa8a5f8ccfe9362140c63247c5eee03f1d93...</td>\n",
       "    </tr>\n",
       "    <tr>\n",
       "      <th>2</th>\n",
       "      <td>000058a12d5b43e67d225668fa1f8d618c13dc232df0ca...</td>\n",
       "      <td>NaN</td>\n",
       "      <td>NaN</td>\n",
       "      <td>ACTIVE</td>\n",
       "      <td>NONE</td>\n",
       "      <td>24.0</td>\n",
       "      <td>64f17e6a330a85798e4998f62d0930d14db8db1c054af6...</td>\n",
       "    </tr>\n",
       "    <tr>\n",
       "      <th>3</th>\n",
       "      <td>00005ca1c9ed5f5146b52ac8639a40ca9d57aeff4d1bd2...</td>\n",
       "      <td>NaN</td>\n",
       "      <td>NaN</td>\n",
       "      <td>ACTIVE</td>\n",
       "      <td>NONE</td>\n",
       "      <td>54.0</td>\n",
       "      <td>5d36574f52495e81f019b680c843c443bd343d5ca5b1c2...</td>\n",
       "    </tr>\n",
       "    <tr>\n",
       "      <th>4</th>\n",
       "      <td>00006413d8573cd20ed7128e53b7b13819fe5cfc2d801f...</td>\n",
       "      <td>1.0</td>\n",
       "      <td>1.0</td>\n",
       "      <td>ACTIVE</td>\n",
       "      <td>Regularly</td>\n",
       "      <td>52.0</td>\n",
       "      <td>25fa5ddee9aac01b35208d01736e57942317d756b32ddd...</td>\n",
       "    </tr>\n",
       "  </tbody>\n",
       "</table>\n",
       "</div>"
      ],
      "text/plain": [
       "                                         customer_id   FN  Active  \\\n",
       "0  00000dbacae5abe5e23885899a1fa44253a17956c6d1c3...  NaN     NaN   \n",
       "1  0000423b00ade91418cceaf3b26c6af3dd342b51fd051e...  NaN     NaN   \n",
       "2  000058a12d5b43e67d225668fa1f8d618c13dc232df0ca...  NaN     NaN   \n",
       "3  00005ca1c9ed5f5146b52ac8639a40ca9d57aeff4d1bd2...  NaN     NaN   \n",
       "4  00006413d8573cd20ed7128e53b7b13819fe5cfc2d801f...  1.0     1.0   \n",
       "\n",
       "  club_member_status fashion_news_frequency   age  \\\n",
       "0             ACTIVE                   NONE  49.0   \n",
       "1             ACTIVE                   NONE  25.0   \n",
       "2             ACTIVE                   NONE  24.0   \n",
       "3             ACTIVE                   NONE  54.0   \n",
       "4             ACTIVE              Regularly  52.0   \n",
       "\n",
       "                                         postal_code  \n",
       "0  52043ee2162cf5aa7ee79974281641c6f11a68d276429a...  \n",
       "1  2973abc54daa8a5f8ccfe9362140c63247c5eee03f1d93...  \n",
       "2  64f17e6a330a85798e4998f62d0930d14db8db1c054af6...  \n",
       "3  5d36574f52495e81f019b680c843c443bd343d5ca5b1c2...  \n",
       "4  25fa5ddee9aac01b35208d01736e57942317d756b32ddd...  "
      ]
     },
     "execution_count": 81,
     "metadata": {},
     "output_type": "execute_result"
    }
   ],
   "source": [
    "customers.head()"
   ]
  },
  {
   "cell_type": "code",
   "execution_count": 80,
   "metadata": {},
   "outputs": [
    {
     "name": "stdout",
     "output_type": "stream",
     "text": [
      "There are 1371980 customers of which 1371980 are unique.\n"
     ]
    }
   ],
   "source": [
    "print(f\"There are {len(customers)} customers of which {len(customers['customer_id'].unique())} are unique.\")"
   ]
  },
  {
   "cell_type": "code",
   "execution_count": 150,
   "metadata": {},
   "outputs": [
    {
     "data": {
      "text/plain": [
       "customer_id               0.000000\n",
       "FN                        0.652378\n",
       "Active                    0.661508\n",
       "club_member_status        0.004418\n",
       "fashion_news_frequency    0.011669\n",
       "age                       0.011561\n",
       "postal_code               0.000000\n",
       "age_intervals             0.011561\n",
       "dtype: float64"
      ]
     },
     "execution_count": 150,
     "metadata": {},
     "output_type": "execute_result"
    }
   ],
   "source": [
    "customers.isna().sum() / len(customers)"
   ]
  },
  {
   "cell_type": "code",
   "execution_count": 83,
   "metadata": {},
   "outputs": [
    {
     "data": {
      "text/plain": [
       "1.0    476930\n",
       "Name: FN, dtype: int64"
      ]
     },
     "execution_count": 83,
     "metadata": {},
     "output_type": "execute_result"
    }
   ],
   "source": [
    "customers[\"FN\"].value_counts()"
   ]
  },
  {
   "cell_type": "code",
   "execution_count": 84,
   "metadata": {},
   "outputs": [
    {
     "data": {
      "text/plain": [
       "1.0    464404\n",
       "Name: Active, dtype: int64"
      ]
     },
     "execution_count": 84,
     "metadata": {},
     "output_type": "execute_result"
    }
   ],
   "source": [
    "customers[\"Active\"].value_counts()"
   ]
  },
  {
   "cell_type": "code",
   "execution_count": 85,
   "metadata": {},
   "outputs": [
    {
     "data": {
      "text/plain": [
       "ACTIVE        1272491\n",
       "PRE-CREATE      92960\n",
       "LEFT CLUB         467\n",
       "Name: club_member_status, dtype: int64"
      ]
     },
     "execution_count": 85,
     "metadata": {},
     "output_type": "execute_result"
    }
   ],
   "source": [
    "customers[\"club_member_status\"].value_counts()"
   ]
  },
  {
   "cell_type": "code",
   "execution_count": 86,
   "metadata": {},
   "outputs": [
    {
     "data": {
      "text/plain": [
       "NONE         877711\n",
       "Regularly    477416\n",
       "Monthly         842\n",
       "None              2\n",
       "Name: fashion_news_frequency, dtype: int64"
      ]
     },
     "execution_count": 86,
     "metadata": {},
     "output_type": "execute_result"
    }
   ],
   "source": [
    "customers[\"fashion_news_frequency\"].value_counts()"
   ]
  },
  {
   "cell_type": "code",
   "execution_count": 88,
   "metadata": {},
   "outputs": [
    {
     "data": {
      "text/plain": [
       "count    1.356119e+06\n",
       "mean     3.638696e+01\n",
       "std      1.431363e+01\n",
       "min      1.600000e+01\n",
       "25%      2.400000e+01\n",
       "50%      3.200000e+01\n",
       "75%      4.900000e+01\n",
       "max      9.900000e+01\n",
       "Name: age, dtype: float64"
      ]
     },
     "execution_count": 88,
     "metadata": {},
     "output_type": "execute_result"
    }
   ],
   "source": [
    "customers[\"age\"].describe()"
   ]
  },
  {
   "cell_type": "code",
   "execution_count": 90,
   "metadata": {},
   "outputs": [
    {
     "data": {
      "text/plain": [
       "21.0    67530\n",
       "24.0    56124\n",
       "20.0    55196\n",
       "25.0    54989\n",
       "23.0    54867\n",
       "        ...  \n",
       "98.0        7\n",
       "97.0        4\n",
       "93.0        4\n",
       "96.0        3\n",
       "94.0        3\n",
       "Name: age, Length: 84, dtype: int64"
      ]
     },
     "execution_count": 90,
     "metadata": {},
     "output_type": "execute_result"
    }
   ],
   "source": [
    "customers[\"age\"].value_counts()"
   ]
  },
  {
   "cell_type": "code",
   "execution_count": 92,
   "metadata": {},
   "outputs": [
    {
     "data": {
      "text/plain": [
       "<AxesSubplot:>"
      ]
     },
     "execution_count": 92,
     "metadata": {},
     "output_type": "execute_result"
    },
    {
     "data": {
      "image/png": "[encoded data removed]",
      "text/plain": [
       "<Figure size 640x480 with 1 Axes>"
      ]
     },
     "metadata": {},
     "output_type": "display_data"
    }
   ],
   "source": [
    "customers['age_intervals'] = pd.cut(customers['age'], range(15, 101, 5), right=False)\n",
    "customers['age_intervals'].value_counts().plot.bar()\n"
   ]
  },
  {
   "cell_type": "code",
   "execution_count": 96,
   "metadata": {},
   "outputs": [
    {
     "name": "stdout",
     "output_type": "stream",
     "text": [
      "An example of a customer_id is 00000dbacae5abe5e23885899a1fa44253a17956c6d1c3d25f88aa139fdfc657 with length 64\n"
     ]
    }
   ],
   "source": [
    "print(f\"An example of a customer_id is {customers['customer_id'][0]} with length {len(str(customers['customer_id'][0]))}\")"
   ]
  },
  {
   "cell_type": "code",
   "execution_count": 98,
   "metadata": {},
   "outputs": [
    {
     "data": {
      "text/html": [
       "<div>\n",
       "<style scoped>\n",
       "    .dataframe tbody tr th:only-of-type {\n",
       "        vertical-align: middle;\n",
       "    }\n",
       "\n",
       "    .dataframe tbody tr th {\n",
       "        vertical-align: top;\n",
       "    }\n",
       "\n",
       "    .dataframe thead th {\n",
       "        text-align: right;\n",
       "    }\n",
       "</style>\n",
       "<table border=\"1\" class=\"dataframe\">\n",
       "  <thead>\n",
       "    <tr style=\"text-align: right;\">\n",
       "      <th></th>\n",
       "      <th>customer_id</th>\n",
       "      <th>FN</th>\n",
       "      <th>Active</th>\n",
       "      <th>club_member_status</th>\n",
       "      <th>fashion_news_frequency</th>\n",
       "      <th>age</th>\n",
       "      <th>postal_code</th>\n",
       "      <th>age_intervals</th>\n",
       "    </tr>\n",
       "  </thead>\n",
       "  <tbody>\n",
       "  </tbody>\n",
       "</table>\n",
       "</div>"
      ],
      "text/plain": [
       "Empty DataFrame\n",
       "Columns: [customer_id, FN, Active, club_member_status, fashion_news_frequency, age, postal_code, age_intervals]\n",
       "Index: []"
      ]
     },
     "execution_count": 98,
     "metadata": {},
     "output_type": "execute_result"
    }
   ],
   "source": [
    "user_id_matches = customers[\"customer_id\"].str.fullmatch(\"^[0-9a-f]{64}$\")\n",
    "customers[~user_id_matches]"
   ]
  },
  {
   "cell_type": "code",
   "execution_count": 99,
   "metadata": {},
   "outputs": [
    {
     "name": "stdout",
     "output_type": "stream",
     "text": [
      "An example of a postal code is 52043ee2162cf5aa7ee79974281641c6f11a68d276429a91f8ca0d4b6efa8100 with length 64\n"
     ]
    }
   ],
   "source": [
    "print(f\"An example of a postal code is {customers['postal_code'][0]} with length {len(str(customers['postal_code'][0]))}\")"
   ]
  },
  {
   "cell_type": "code",
   "execution_count": 100,
   "metadata": {},
   "outputs": [
    {
     "data": {
      "text/html": [
       "<div>\n",
       "<style scoped>\n",
       "    .dataframe tbody tr th:only-of-type {\n",
       "        vertical-align: middle;\n",
       "    }\n",
       "\n",
       "    .dataframe tbody tr th {\n",
       "        vertical-align: top;\n",
       "    }\n",
       "\n",
       "    .dataframe thead th {\n",
       "        text-align: right;\n",
       "    }\n",
       "</style>\n",
       "<table border=\"1\" class=\"dataframe\">\n",
       "  <thead>\n",
       "    <tr style=\"text-align: right;\">\n",
       "      <th></th>\n",
       "      <th>customer_id</th>\n",
       "      <th>FN</th>\n",
       "      <th>Active</th>\n",
       "      <th>club_member_status</th>\n",
       "      <th>fashion_news_frequency</th>\n",
       "      <th>age</th>\n",
       "      <th>postal_code</th>\n",
       "      <th>age_intervals</th>\n",
       "    </tr>\n",
       "  </thead>\n",
       "  <tbody>\n",
       "  </tbody>\n",
       "</table>\n",
       "</div>"
      ],
      "text/plain": [
       "Empty DataFrame\n",
       "Columns: [customer_id, FN, Active, club_member_status, fashion_news_frequency, age, postal_code, age_intervals]\n",
       "Index: []"
      ]
     },
     "execution_count": 100,
     "metadata": {},
     "output_type": "execute_result"
    }
   ],
   "source": [
    "postal_code_matches = customers[\"postal_code\"].str.fullmatch(\"^[0-9a-f]{64}$\")\n",
    "customers[~postal_code_matches]"
   ]
  },
  {
   "cell_type": "markdown",
   "metadata": {},
   "source": [
    "## Sample Submission"
   ]
  },
  {
   "cell_type": "code",
   "execution_count": 9,
   "metadata": {},
   "outputs": [
    {
     "data": {
      "text/html": [
       "<div>\n",
       "<style scoped>\n",
       "    .dataframe tbody tr th:only-of-type {\n",
       "        vertical-align: middle;\n",
       "    }\n",
       "\n",
       "    .dataframe tbody tr th {\n",
       "        vertical-align: top;\n",
       "    }\n",
       "\n",
       "    .dataframe thead th {\n",
       "        text-align: right;\n",
       "    }\n",
       "</style>\n",
       "<table border=\"1\" class=\"dataframe\">\n",
       "  <thead>\n",
       "    <tr style=\"text-align: right;\">\n",
       "      <th></th>\n",
       "      <th>customer_id</th>\n",
       "      <th>prediction</th>\n",
       "    </tr>\n",
       "  </thead>\n",
       "  <tbody>\n",
       "    <tr>\n",
       "      <th>0</th>\n",
       "      <td>00000dbacae5abe5e23885899a1fa44253a17956c6d1c3...</td>\n",
       "      <td>0706016001 0706016002 0372860001 0610776002 07...</td>\n",
       "    </tr>\n",
       "    <tr>\n",
       "      <th>1</th>\n",
       "      <td>0000423b00ade91418cceaf3b26c6af3dd342b51fd051e...</td>\n",
       "      <td>0706016001 0706016002 0372860001 0610776002 07...</td>\n",
       "    </tr>\n",
       "    <tr>\n",
       "      <th>2</th>\n",
       "      <td>000058a12d5b43e67d225668fa1f8d618c13dc232df0ca...</td>\n",
       "      <td>0706016001 0706016002 0372860001 0610776002 07...</td>\n",
       "    </tr>\n",
       "    <tr>\n",
       "      <th>3</th>\n",
       "      <td>00005ca1c9ed5f5146b52ac8639a40ca9d57aeff4d1bd2...</td>\n",
       "      <td>0706016001 0706016002 0372860001 0610776002 07...</td>\n",
       "    </tr>\n",
       "    <tr>\n",
       "      <th>4</th>\n",
       "      <td>00006413d8573cd20ed7128e53b7b13819fe5cfc2d801f...</td>\n",
       "      <td>0706016001 0706016002 0372860001 0610776002 07...</td>\n",
       "    </tr>\n",
       "  </tbody>\n",
       "</table>\n",
       "</div>"
      ],
      "text/plain": [
       "                                         customer_id  \\\n",
       "0  00000dbacae5abe5e23885899a1fa44253a17956c6d1c3...   \n",
       "1  0000423b00ade91418cceaf3b26c6af3dd342b51fd051e...   \n",
       "2  000058a12d5b43e67d225668fa1f8d618c13dc232df0ca...   \n",
       "3  00005ca1c9ed5f5146b52ac8639a40ca9d57aeff4d1bd2...   \n",
       "4  00006413d8573cd20ed7128e53b7b13819fe5cfc2d801f...   \n",
       "\n",
       "                                          prediction  \n",
       "0  0706016001 0706016002 0372860001 0610776002 07...  \n",
       "1  0706016001 0706016002 0372860001 0610776002 07...  \n",
       "2  0706016001 0706016002 0372860001 0610776002 07...  \n",
       "3  0706016001 0706016002 0372860001 0610776002 07...  \n",
       "4  0706016001 0706016002 0372860001 0610776002 07...  "
      ]
     },
     "execution_count": 9,
     "metadata": {},
     "output_type": "execute_result"
    }
   ],
   "source": [
    "sample_submission.head()"
   ]
  },
  {
   "cell_type": "code",
   "execution_count": 103,
   "metadata": {},
   "outputs": [
    {
     "data": {
      "text/plain": [
       "True    1371980\n",
       "Name: customer_id, dtype: int64"
      ]
     },
     "execution_count": 103,
     "metadata": {},
     "output_type": "execute_result"
    }
   ],
   "source": [
    "(customers[\"customer_id\"] == sample_submission[\"customer_id\"]).value_counts()"
   ]
  },
  {
   "cell_type": "markdown",
   "metadata": {},
   "source": [
    "## Transactions "
   ]
  },
  {
   "cell_type": "code",
   "execution_count": 10,
   "metadata": {},
   "outputs": [
    {
     "data": {
      "text/html": [
       "<div>\n",
       "<style scoped>\n",
       "    .dataframe tbody tr th:only-of-type {\n",
       "        vertical-align: middle;\n",
       "    }\n",
       "\n",
       "    .dataframe tbody tr th {\n",
       "        vertical-align: top;\n",
       "    }\n",
       "\n",
       "    .dataframe thead th {\n",
       "        text-align: right;\n",
       "    }\n",
       "</style>\n",
       "<table border=\"1\" class=\"dataframe\">\n",
       "  <thead>\n",
       "    <tr style=\"text-align: right;\">\n",
       "      <th></th>\n",
       "      <th>t_dat</th>\n",
       "      <th>customer_id</th>\n",
       "      <th>article_id</th>\n",
       "      <th>price</th>\n",
       "      <th>sales_channel_id</th>\n",
       "    </tr>\n",
       "  </thead>\n",
       "  <tbody>\n",
       "    <tr>\n",
       "      <th>0</th>\n",
       "      <td>2018-09-20</td>\n",
       "      <td>000058a12d5b43e67d225668fa1f8d618c13dc232df0ca...</td>\n",
       "      <td>663713001</td>\n",
       "      <td>0.050831</td>\n",
       "      <td>2</td>\n",
       "    </tr>\n",
       "    <tr>\n",
       "      <th>1</th>\n",
       "      <td>2018-09-20</td>\n",
       "      <td>000058a12d5b43e67d225668fa1f8d618c13dc232df0ca...</td>\n",
       "      <td>541518023</td>\n",
       "      <td>0.030492</td>\n",
       "      <td>2</td>\n",
       "    </tr>\n",
       "    <tr>\n",
       "      <th>2</th>\n",
       "      <td>2018-09-20</td>\n",
       "      <td>00007d2de826758b65a93dd24ce629ed66842531df6699...</td>\n",
       "      <td>505221004</td>\n",
       "      <td>0.015237</td>\n",
       "      <td>2</td>\n",
       "    </tr>\n",
       "    <tr>\n",
       "      <th>3</th>\n",
       "      <td>2018-09-20</td>\n",
       "      <td>00007d2de826758b65a93dd24ce629ed66842531df6699...</td>\n",
       "      <td>685687003</td>\n",
       "      <td>0.016932</td>\n",
       "      <td>2</td>\n",
       "    </tr>\n",
       "    <tr>\n",
       "      <th>4</th>\n",
       "      <td>2018-09-20</td>\n",
       "      <td>00007d2de826758b65a93dd24ce629ed66842531df6699...</td>\n",
       "      <td>685687004</td>\n",
       "      <td>0.016932</td>\n",
       "      <td>2</td>\n",
       "    </tr>\n",
       "  </tbody>\n",
       "</table>\n",
       "</div>"
      ],
      "text/plain": [
       "        t_dat                                        customer_id  article_id  \\\n",
       "0  2018-09-20  000058a12d5b43e67d225668fa1f8d618c13dc232df0ca...   663713001   \n",
       "1  2018-09-20  000058a12d5b43e67d225668fa1f8d618c13dc232df0ca...   541518023   \n",
       "2  2018-09-20  00007d2de826758b65a93dd24ce629ed66842531df6699...   505221004   \n",
       "3  2018-09-20  00007d2de826758b65a93dd24ce629ed66842531df6699...   685687003   \n",
       "4  2018-09-20  00007d2de826758b65a93dd24ce629ed66842531df6699...   685687004   \n",
       "\n",
       "      price  sales_channel_id  \n",
       "0  0.050831                 2  \n",
       "1  0.030492                 2  \n",
       "2  0.015237                 2  \n",
       "3  0.016932                 2  \n",
       "4  0.016932                 2  "
      ]
     },
     "execution_count": 10,
     "metadata": {},
     "output_type": "execute_result"
    }
   ],
   "source": [
    "transactions_train.head()"
   ]
  },
  {
   "cell_type": "code",
   "execution_count": 129,
   "metadata": {},
   "outputs": [
    {
     "data": {
      "text/plain": [
       "t_dat               0\n",
       "customer_id         0\n",
       "article_id          0\n",
       "price               0\n",
       "sales_channel_id    0\n",
       "dtype: int64"
      ]
     },
     "execution_count": 129,
     "metadata": {},
     "output_type": "execute_result"
    }
   ],
   "source": [
    "transactions_train.isna().sum()"
   ]
  },
  {
   "cell_type": "code",
   "execution_count": 120,
   "metadata": {},
   "outputs": [
    {
     "data": {
      "text/plain": [
       "True    31788324\n",
       "Name: customer_id, dtype: int64"
      ]
     },
     "execution_count": 120,
     "metadata": {},
     "output_type": "execute_result"
    }
   ],
   "source": [
    "(transactions_train[\"customer_id\"].isin(customers[\"customer_id\"])).value_counts()"
   ]
  },
  {
   "cell_type": "code",
   "execution_count": 151,
   "metadata": {},
   "outputs": [
    {
     "data": {
      "text/plain": [
       "True     0.992931\n",
       "False    0.007069\n",
       "Name: customer_id, dtype: float64"
      ]
     },
     "execution_count": 151,
     "metadata": {},
     "output_type": "execute_result"
    }
   ],
   "source": [
    "(customers[\"customer_id\"].isin(transactions_train[\"customer_id\"])).value_counts() / len(customers)"
   ]
  },
  {
   "cell_type": "code",
   "execution_count": 123,
   "metadata": {},
   "outputs": [
    {
     "data": {
      "text/plain": [
       "True    31788324\n",
       "Name: article_id, dtype: int64"
      ]
     },
     "execution_count": 123,
     "metadata": {},
     "output_type": "execute_result"
    }
   ],
   "source": [
    "(transactions_train[\"article_id\"].isin(articles[\"article_id\"])).value_counts()"
   ]
  },
  {
   "cell_type": "code",
   "execution_count": 152,
   "metadata": {},
   "outputs": [
    {
     "data": {
      "text/plain": [
       "True     0.990572\n",
       "False    0.009428\n",
       "Name: article_id, dtype: float64"
      ]
     },
     "execution_count": 152,
     "metadata": {},
     "output_type": "execute_result"
    }
   ],
   "source": [
    "(articles[\"article_id\"].isin(transactions_train[\"article_id\"])).value_counts() / len(articles)"
   ]
  },
  {
   "cell_type": "code",
   "execution_count": 128,
   "metadata": {},
   "outputs": [
    {
     "name": "stderr",
     "output_type": "stream",
     "text": [
      "C:\\Users\\5joshi\\AppData\\Local\\Temp\\ipykernel_19596\\2945023692.py:2: FutureWarning: Treating datetime data as categorical rather than numeric in `.describe` is deprecated and will be removed in a future version of pandas. Specify `datetime_is_numeric=True` to silence this warning and adopt the future behavior now.\n",
      "  transactions_train[\"t_dat\"].describe()\n"
     ]
    },
    {
     "data": {
      "text/plain": [
       "count                31788324\n",
       "unique                    734\n",
       "top       2019-09-28 00:00:00\n",
       "freq                   198622\n",
       "first     2018-09-20 00:00:00\n",
       "last      2020-09-22 00:00:00\n",
       "Name: t_dat, dtype: object"
      ]
     },
     "execution_count": 128,
     "metadata": {},
     "output_type": "execute_result"
    }
   ],
   "source": [
    "transactions_train[\"t_dat\"] = transactions_train[\"t_dat\"].astype(\"datetime64\")\n",
    "transactions_train[\"t_dat\"].describe()"
   ]
  },
  {
   "cell_type": "code",
   "execution_count": 130,
   "metadata": {},
   "outputs": [
    {
     "data": {
      "text/plain": [
       "count    3.178832e+07\n",
       "mean     2.782927e-02\n",
       "std      1.918113e-02\n",
       "min      1.694915e-05\n",
       "25%      1.581356e-02\n",
       "50%      2.540678e-02\n",
       "75%      3.388136e-02\n",
       "max      5.915254e-01\n",
       "Name: price, dtype: float64"
      ]
     },
     "execution_count": 130,
     "metadata": {},
     "output_type": "execute_result"
    }
   ],
   "source": [
    "transactions_train[\"price\"].describe()"
   ]
  },
  {
   "cell_type": "code",
   "execution_count": 153,
   "metadata": {},
   "outputs": [
    {
     "data": {
      "text/plain": [
       "min    0.000017\n",
       "max    0.591525\n",
       "Name: price, dtype: float64"
      ]
     },
     "execution_count": 153,
     "metadata": {},
     "output_type": "execute_result"
    }
   ],
   "source": [
    "transactions_train[\"price\"].agg([\"min\", \"max\"])"
   ]
  },
  {
   "cell_type": "code",
   "execution_count": 154,
   "metadata": {},
   "outputs": [
    {
     "data": {
      "text/plain": [
       "2    0.704028\n",
       "1    0.295972\n",
       "Name: sales_channel_id, dtype: float64"
      ]
     },
     "execution_count": 154,
     "metadata": {},
     "output_type": "execute_result"
    }
   ],
   "source": [
    "transactions_train[\"sales_channel_id\"].value_counts() / len(transactions_train)"
   ]
  },
  {
   "cell_type": "markdown",
   "metadata": {},
   "source": [
    "## Images"
   ]
  },
  {
   "cell_type": "code",
   "execution_count": 107,
   "metadata": {},
   "outputs": [],
   "source": [
    "import os"
   ]
  },
  {
   "cell_type": "code",
   "execution_count": 111,
   "metadata": {},
   "outputs": [
    {
     "data": {
      "text/html": [
       "<div>\n",
       "<style scoped>\n",
       "    .dataframe tbody tr th:only-of-type {\n",
       "        vertical-align: middle;\n",
       "    }\n",
       "\n",
       "    .dataframe tbody tr th {\n",
       "        vertical-align: top;\n",
       "    }\n",
       "\n",
       "    .dataframe thead th {\n",
       "        text-align: right;\n",
       "    }\n",
       "</style>\n",
       "<table border=\"1\" class=\"dataframe\">\n",
       "  <thead>\n",
       "    <tr style=\"text-align: right;\">\n",
       "      <th></th>\n",
       "      <th>article_id</th>\n",
       "    </tr>\n",
       "  </thead>\n",
       "  <tbody>\n",
       "    <tr>\n",
       "      <th>0</th>\n",
       "      <td>108775015</td>\n",
       "    </tr>\n",
       "    <tr>\n",
       "      <th>1</th>\n",
       "      <td>108775044</td>\n",
       "    </tr>\n",
       "    <tr>\n",
       "      <th>2</th>\n",
       "      <td>108775051</td>\n",
       "    </tr>\n",
       "    <tr>\n",
       "      <th>3</th>\n",
       "      <td>110065001</td>\n",
       "    </tr>\n",
       "    <tr>\n",
       "      <th>4</th>\n",
       "      <td>110065002</td>\n",
       "    </tr>\n",
       "  </tbody>\n",
       "</table>\n",
       "</div>"
      ],
      "text/plain": [
       "   article_id\n",
       "0   108775015\n",
       "1   108775044\n",
       "2   108775051\n",
       "3   110065001\n",
       "4   110065002"
      ]
     },
     "execution_count": 111,
     "metadata": {},
     "output_type": "execute_result"
    }
   ],
   "source": [
    "image_names = []\n",
    "for root, dirs, files in os.walk(\"./data/images\"):\n",
    "    for file in files:\n",
    "        if file.endswith(\".jpg\"):\n",
    "             image_names.append(int(file[:-4]))\n",
    "            \n",
    "image_names = pd.DataFrame(image_names, columns=[\"article_id\"])\n",
    "image_names.head()"
   ]
  },
  {
   "cell_type": "code",
   "execution_count": 112,
   "metadata": {},
   "outputs": [
    {
     "data": {
      "text/plain": [
       "105100"
      ]
     },
     "execution_count": 112,
     "metadata": {},
     "output_type": "execute_result"
    }
   ],
   "source": [
    "len(image_names)"
   ]
  },
  {
   "cell_type": "code",
   "execution_count": 155,
   "metadata": {},
   "outputs": [
    {
     "data": {
      "text/plain": [
       "True     0.995812\n",
       "False    0.004188\n",
       "Name: has_image, dtype: float64"
      ]
     },
     "execution_count": 155,
     "metadata": {},
     "output_type": "execute_result"
    }
   ],
   "source": [
    "articles[\"has_image\"] = articles[\"article_id\"].isin(image_names[\"article_id\"])\n",
    "articles[\"has_image\"].value_counts() / len(articles)"
   ]
  },
  {
   "cell_type": "markdown",
   "metadata": {},
   "source": [
    "## Experiments"
   ]
  },
  {
   "cell_type": "code",
   "execution_count": 132,
   "metadata": {},
   "outputs": [
    {
     "data": {
      "text/html": [
       "<div>\n",
       "<style scoped>\n",
       "    .dataframe tbody tr th:only-of-type {\n",
       "        vertical-align: middle;\n",
       "    }\n",
       "\n",
       "    .dataframe tbody tr th {\n",
       "        vertical-align: top;\n",
       "    }\n",
       "\n",
       "    .dataframe thead th {\n",
       "        text-align: right;\n",
       "    }\n",
       "</style>\n",
       "<table border=\"1\" class=\"dataframe\">\n",
       "  <thead>\n",
       "    <tr style=\"text-align: right;\">\n",
       "      <th></th>\n",
       "      <th>article_id</th>\n",
       "      <th>product_code</th>\n",
       "      <th>prod_name</th>\n",
       "      <th>product_type_no</th>\n",
       "      <th>product_type_name</th>\n",
       "      <th>product_group_name</th>\n",
       "      <th>graphical_appearance_no</th>\n",
       "      <th>graphical_appearance_name</th>\n",
       "      <th>colour_group_code</th>\n",
       "      <th>colour_group_name</th>\n",
       "      <th>...</th>\n",
       "      <th>customer_id</th>\n",
       "      <th>price</th>\n",
       "      <th>sales_channel_id</th>\n",
       "      <th>FN</th>\n",
       "      <th>Active</th>\n",
       "      <th>club_member_status</th>\n",
       "      <th>fashion_news_frequency</th>\n",
       "      <th>age</th>\n",
       "      <th>postal_code</th>\n",
       "      <th>age_intervals</th>\n",
       "    </tr>\n",
       "  </thead>\n",
       "  <tbody>\n",
       "    <tr>\n",
       "      <th>0</th>\n",
       "      <td>108775015</td>\n",
       "      <td>108775</td>\n",
       "      <td>Strap top</td>\n",
       "      <td>253</td>\n",
       "      <td>Vest top</td>\n",
       "      <td>Garment Upper body</td>\n",
       "      <td>1010016</td>\n",
       "      <td>Solid</td>\n",
       "      <td>9</td>\n",
       "      <td>Black</td>\n",
       "      <td>...</td>\n",
       "      <td>05ed96931b707698bc94aa53766d44686ae5ccbbc99dfb...</td>\n",
       "      <td>0.008458</td>\n",
       "      <td>1</td>\n",
       "      <td>1.0</td>\n",
       "      <td>1.0</td>\n",
       "      <td>ACTIVE</td>\n",
       "      <td>Regularly</td>\n",
       "      <td>37.0</td>\n",
       "      <td>e15819a7b5a739bde5002a217d27e049695afb433924ce...</td>\n",
       "      <td>[35, 40)</td>\n",
       "    </tr>\n",
       "    <tr>\n",
       "      <th>1</th>\n",
       "      <td>108775015</td>\n",
       "      <td>108775</td>\n",
       "      <td>Strap top</td>\n",
       "      <td>253</td>\n",
       "      <td>Vest top</td>\n",
       "      <td>Garment Upper body</td>\n",
       "      <td>1010016</td>\n",
       "      <td>Solid</td>\n",
       "      <td>9</td>\n",
       "      <td>Black</td>\n",
       "      <td>...</td>\n",
       "      <td>05ed96931b707698bc94aa53766d44686ae5ccbbc99dfb...</td>\n",
       "      <td>0.008458</td>\n",
       "      <td>1</td>\n",
       "      <td>1.0</td>\n",
       "      <td>1.0</td>\n",
       "      <td>ACTIVE</td>\n",
       "      <td>Regularly</td>\n",
       "      <td>37.0</td>\n",
       "      <td>e15819a7b5a739bde5002a217d27e049695afb433924ce...</td>\n",
       "      <td>[35, 40)</td>\n",
       "    </tr>\n",
       "    <tr>\n",
       "      <th>2</th>\n",
       "      <td>108775015</td>\n",
       "      <td>108775</td>\n",
       "      <td>Strap top</td>\n",
       "      <td>253</td>\n",
       "      <td>Vest top</td>\n",
       "      <td>Garment Upper body</td>\n",
       "      <td>1010016</td>\n",
       "      <td>Solid</td>\n",
       "      <td>9</td>\n",
       "      <td>Black</td>\n",
       "      <td>...</td>\n",
       "      <td>05ed96931b707698bc94aa53766d44686ae5ccbbc99dfb...</td>\n",
       "      <td>0.008458</td>\n",
       "      <td>1</td>\n",
       "      <td>1.0</td>\n",
       "      <td>1.0</td>\n",
       "      <td>ACTIVE</td>\n",
       "      <td>Regularly</td>\n",
       "      <td>37.0</td>\n",
       "      <td>e15819a7b5a739bde5002a217d27e049695afb433924ce...</td>\n",
       "      <td>[35, 40)</td>\n",
       "    </tr>\n",
       "    <tr>\n",
       "      <th>3</th>\n",
       "      <td>237347040</td>\n",
       "      <td>237347</td>\n",
       "      <td>Theron</td>\n",
       "      <td>308</td>\n",
       "      <td>Hoodie</td>\n",
       "      <td>Garment Upper body</td>\n",
       "      <td>1010010</td>\n",
       "      <td>Melange</td>\n",
       "      <td>71</td>\n",
       "      <td>Light Blue</td>\n",
       "      <td>...</td>\n",
       "      <td>05ed96931b707698bc94aa53766d44686ae5ccbbc99dfb...</td>\n",
       "      <td>0.033881</td>\n",
       "      <td>1</td>\n",
       "      <td>1.0</td>\n",
       "      <td>1.0</td>\n",
       "      <td>ACTIVE</td>\n",
       "      <td>Regularly</td>\n",
       "      <td>37.0</td>\n",
       "      <td>e15819a7b5a739bde5002a217d27e049695afb433924ce...</td>\n",
       "      <td>[35, 40)</td>\n",
       "    </tr>\n",
       "    <tr>\n",
       "      <th>4</th>\n",
       "      <td>270381001</td>\n",
       "      <td>270381</td>\n",
       "      <td>Clubba sunglasses</td>\n",
       "      <td>81</td>\n",
       "      <td>Sunglasses</td>\n",
       "      <td>Accessories</td>\n",
       "      <td>1010016</td>\n",
       "      <td>Solid</td>\n",
       "      <td>17</td>\n",
       "      <td>Yellowish Brown</td>\n",
       "      <td>...</td>\n",
       "      <td>05ed96931b707698bc94aa53766d44686ae5ccbbc99dfb...</td>\n",
       "      <td>0.006763</td>\n",
       "      <td>1</td>\n",
       "      <td>1.0</td>\n",
       "      <td>1.0</td>\n",
       "      <td>ACTIVE</td>\n",
       "      <td>Regularly</td>\n",
       "      <td>37.0</td>\n",
       "      <td>e15819a7b5a739bde5002a217d27e049695afb433924ce...</td>\n",
       "      <td>[35, 40)</td>\n",
       "    </tr>\n",
       "  </tbody>\n",
       "</table>\n",
       "<p>5 rows × 38 columns</p>\n",
       "</div>"
      ],
      "text/plain": [
       "   article_id  product_code          prod_name  product_type_no  \\\n",
       "0   108775015        108775          Strap top              253   \n",
       "1   108775015        108775          Strap top              253   \n",
       "2   108775015        108775          Strap top              253   \n",
       "3   237347040        237347             Theron              308   \n",
       "4   270381001        270381  Clubba sunglasses               81   \n",
       "\n",
       "  product_type_name  product_group_name  graphical_appearance_no  \\\n",
       "0          Vest top  Garment Upper body                  1010016   \n",
       "1          Vest top  Garment Upper body                  1010016   \n",
       "2          Vest top  Garment Upper body                  1010016   \n",
       "3            Hoodie  Garment Upper body                  1010010   \n",
       "4        Sunglasses         Accessories                  1010016   \n",
       "\n",
       "  graphical_appearance_name  colour_group_code colour_group_name  ...  \\\n",
       "0                     Solid                  9             Black  ...   \n",
       "1                     Solid                  9             Black  ...   \n",
       "2                     Solid                  9             Black  ...   \n",
       "3                   Melange                 71        Light Blue  ...   \n",
       "4                     Solid                 17   Yellowish Brown  ...   \n",
       "\n",
       "                                         customer_id     price  \\\n",
       "0  05ed96931b707698bc94aa53766d44686ae5ccbbc99dfb...  0.008458   \n",
       "1  05ed96931b707698bc94aa53766d44686ae5ccbbc99dfb...  0.008458   \n",
       "2  05ed96931b707698bc94aa53766d44686ae5ccbbc99dfb...  0.008458   \n",
       "3  05ed96931b707698bc94aa53766d44686ae5ccbbc99dfb...  0.033881   \n",
       "4  05ed96931b707698bc94aa53766d44686ae5ccbbc99dfb...  0.006763   \n",
       "\n",
       "   sales_channel_id   FN  Active club_member_status fashion_news_frequency  \\\n",
       "0                 1  1.0     1.0             ACTIVE              Regularly   \n",
       "1                 1  1.0     1.0             ACTIVE              Regularly   \n",
       "2                 1  1.0     1.0             ACTIVE              Regularly   \n",
       "3                 1  1.0     1.0             ACTIVE              Regularly   \n",
       "4                 1  1.0     1.0             ACTIVE              Regularly   \n",
       "\n",
       "    age                                        postal_code age_intervals  \n",
       "0  37.0  e15819a7b5a739bde5002a217d27e049695afb433924ce...      [35, 40)  \n",
       "1  37.0  e15819a7b5a739bde5002a217d27e049695afb433924ce...      [35, 40)  \n",
       "2  37.0  e15819a7b5a739bde5002a217d27e049695afb433924ce...      [35, 40)  \n",
       "3  37.0  e15819a7b5a739bde5002a217d27e049695afb433924ce...      [35, 40)  \n",
       "4  37.0  e15819a7b5a739bde5002a217d27e049695afb433924ce...      [35, 40)  \n",
       "\n",
       "[5 rows x 38 columns]"
      ]
     },
     "execution_count": 132,
     "metadata": {},
     "output_type": "execute_result"
    }
   ],
   "source": [
    "merged = pd.merge(articles, transactions_train, on=\"article_id\", how=\"inner\")\n",
    "merged = pd.merge(merged, customers, on=\"customer_id\", how=\"inner\")\n",
    "merged.head()"
   ]
  },
  {
   "cell_type": "code",
   "execution_count": 145,
   "metadata": {},
   "outputs": [
    {
     "data": {
      "text/plain": [
       "Text(0, 0.5, 'Median age')"
      ]
     },
     "execution_count": 145,
     "metadata": {},
     "output_type": "execute_result"
    },
    {
     "data": {
      "image/png": "[encoded data removed]",
      "text/plain": [
       "<Figure size 640x480 with 1 Axes>"
      ]
     },
     "metadata": {},
     "output_type": "display_data"
    }
   ],
   "source": [
    "merged.groupby(\"product_group_name\")['age'].median().plot.bar().set_ylabel(\"Median age\")"
   ]
  },
  {
   "cell_type": "code",
   "execution_count": 146,
   "metadata": {},
   "outputs": [
    {
     "data": {
      "text/plain": [
       "Text(0, 0.5, 'Median age')"
      ]
     },
     "execution_count": 146,
     "metadata": {},
     "output_type": "execute_result"
    },
    {
     "data": {
      "image/png": "[encoded data removed]",
      "text/plain": [
       "<Figure size 640x480 with 1 Axes>"
      ]
     },
     "metadata": {},
     "output_type": "display_data"
    }
   ],
   "source": [
    "merged.groupby(\"index_name\")['age'].median().plot.bar().set_ylabel(\"Median age\")"
   ]
  },
  {
   "cell_type": "code",
   "execution_count": 147,
   "metadata": {},
   "outputs": [
    {
     "data": {
      "text/plain": [
       "Text(0, 0.5, 'Median age')"
      ]
     },
     "execution_count": 147,
     "metadata": {},
     "output_type": "execute_result"
    },
    {
     "data": {
      "image/png": "[encoded data removed]",
      "text/plain": [
       "<Figure size 640x480 with 1 Axes>"
      ]
     },
     "metadata": {},
     "output_type": "display_data"
    }
   ],
   "source": [
    "merged.groupby(\"garment_group_name\")['age'].mean().plot.bar().set_ylabel(\"Median age\")"
   ]
  },
  {
   "cell_type": "code",
   "execution_count": 148,
   "metadata": {},
   "outputs": [
    {
     "data": {
      "text/plain": [
       "Text(0, 0.5, 'Median age')"
      ]
     },
     "execution_count": 148,
     "metadata": {},
     "output_type": "execute_result"
    },
    {
     "data": {
      "image/png": "[encoded data removed]",
      "text/plain": [
       "<Figure size 640x480 with 1 Axes>"
      ]
     },
     "metadata": {},
     "output_type": "display_data"
    }
   ],
   "source": [
    "merged.groupby(\"perceived_colour_value_name\")['age'].mean().plot.bar().set_ylabel(\"Median age\")"
   ]
  }
 ],
 "metadata": {
  "kernelspec": {
   "display_name": "Python 3",
   "language": "python",
   "name": "python3"
  },
  "language_info": {
   "codemirror_mode": {
    "name": "ipython",
    "version": 3
   },
   "file_extension": ".py",
   "mimetype": "text/x-python",
   "name": "python",
   "nbconvert_exporter": "python",
   "pygments_lexer": "ipython3",
   "version": "3.10.11"
  },
  "orig_nbformat": 4
 },
 "nbformat": 4,
 "nbformat_minor": 2
}
