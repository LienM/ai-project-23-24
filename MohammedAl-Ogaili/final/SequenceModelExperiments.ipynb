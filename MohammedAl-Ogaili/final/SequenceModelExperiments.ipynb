{
 "cells": [
  {
   "cell_type": "code",
   "execution_count": 1,
   "metadata": {},
   "outputs": [],
   "source": [
    "%run util.ipynb"
   ]
  },
  {
   "cell_type": "code",
   "execution_count": 2,
   "metadata": {
    "ExecuteTime": {
     "end_time": "2023-11-18T16:01:27.839690200Z",
     "start_time": "2023-11-18T16:01:27.776245400Z"
    },
    "collapsed": false
   },
   "outputs": [],
   "source": [
    "import os;os.environ['CUDA_LAUNCH_BLOCKING'] = \"1\""
   ]
  },
  {
   "cell_type": "code",
   "execution_count": 3,
   "metadata": {
    "ExecuteTime": {
     "end_time": "2023-11-18T16:01:29.735280400Z",
     "start_time": "2023-11-18T16:01:27.779701200Z"
    }
   },
   "outputs": [],
   "source": [
    "import time\n",
    "import numpy as np\n",
    "import pandas as pd\n",
    "\n",
    "from sklearn import metrics\n",
    "from sklearn.model_selection import train_test_split\n",
    "\n",
    "import seaborn as sns\n",
    "import matplotlib\n",
    "from matplotlib import pyplot as plt\n",
    "\n",
    "import torch\n",
    "import torch.nn as nn\n",
    "import torch.nn.functional as F\n",
    "import torch.nn.utils.rnn as rnn\n",
    "from torch.utils.data import DataLoader, TensorDataset, Dataset\n",
    "\n",
    "from tqdm import tqdm"
   ]
  },
  {
   "cell_type": "markdown",
   "metadata": {},
   "source": [
    "Defining some parameters."
   ]
  },
  {
   "cell_type": "code",
   "execution_count": 4,
   "metadata": {
    "ExecuteTime": {
     "end_time": "2023-11-18T16:01:29.735280400Z",
     "start_time": "2023-11-18T16:01:29.731574400Z"
    }
   },
   "outputs": [],
   "source": [
    "SEED = 20193575\n",
    "\n",
    "# Training weeks end at MAX_WEEK - 1\n",
    "N_TRAINING_WEEKS = 5\n",
    "MAX_WEEK = 105\n",
    "\n",
    "# Possible values: \"product_type_name\", \"prod_name\", \"article_id\", not tested with any other feature\n",
    "SEQUENCE_COLUMN = \"product_type_name\"\n",
    "BASE_PATH = f\"./models/{SEQUENCE_COLUMN}\" + (f\"_{MAX_WEEK}/\" if MAX_WEEK != 105 else \"/\")"
   ]
  },
  {
   "cell_type": "code",
   "execution_count": 5,
   "metadata": {
    "ExecuteTime": {
     "end_time": "2023-11-18T16:01:29.755887900Z",
     "start_time": "2023-11-18T16:01:29.734280300Z"
    }
   },
   "outputs": [],
   "source": [
    "np.random.seed(SEED)\n",
    "torch.manual_seed(SEED)\n",
    "device = torch.device(\"cuda\" if torch.cuda.is_available() else \"cpu\")"
   ]
  },
  {
   "cell_type": "code",
   "execution_count": 6,
   "metadata": {},
   "outputs": [],
   "source": [
    "assert torch.cuda.is_available(), \"CUDA is not available, training will be slow.\""
   ]
  },
  {
   "cell_type": "code",
   "execution_count": 7,
   "metadata": {
    "ExecuteTime": {
     "end_time": "2023-11-18T16:01:32.571811400Z",
     "start_time": "2023-11-18T16:01:29.756887600Z"
    }
   },
   "outputs": [],
   "source": [
    "articles = pd.read_parquet('../data/articles.parquet')\n",
    "customers = pd.read_parquet('../data/customers.parquet')\n",
    "transactions = pd.read_parquet('../data/transactions_train.parquet')\n",
    "sample_submission = pd.read_csv('../data/sample_submission.csv')"
   ]
  },
  {
   "cell_type": "markdown",
   "metadata": {},
   "source": [
    "# Simple preprocessing"
   ]
  },
  {
   "cell_type": "code",
   "execution_count": 8,
   "metadata": {},
   "outputs": [],
   "source": [
    "# get the needed article features and merge them into the transactions\n",
    "transactions = pd.merge(transactions, articles[[\"article_id\", \"prod_name\", \"product_type_name\"]], on=\"article_id\", how=\"left\")"
   ]
  },
  {
   "cell_type": "code",
   "execution_count": 9,
   "metadata": {
    "ExecuteTime": {
     "end_time": "2023-11-18T16:01:33.865976200Z",
     "start_time": "2023-11-18T16:01:32.572814700Z"
    }
   },
   "outputs": [],
   "source": [
    "# map the article ids to a continuous range, only used if we want to use the article ids as input\n",
    "article_id_map = {original: (idx + 1) for idx, original in enumerate(articles[\"article_id\"].unique())}\n",
    "inverse_article_id_map = {(idx + 1): original for idx, original in enumerate(articles[\"article_id\"].unique())}\n",
    "articles[\"article_id_mapped\"] = articles[\"article_id\"].map(article_id_map)\n",
    "transactions[\"article_id_mapped\"] = transactions[\"article_id\"].map(article_id_map)"
   ]
  },
  {
   "cell_type": "code",
   "execution_count": 10,
   "metadata": {
    "ExecuteTime": {
     "end_time": "2023-11-18T16:01:33.894010800Z",
     "start_time": "2023-11-18T16:01:33.866976700Z"
    }
   },
   "outputs": [
    {
     "data": {
      "text/plain": [
       "article_id                      105542\n",
       "product_code                     47224\n",
       "prod_name                        45875\n",
       "product_type_no                    132\n",
       "product_type_name                  131\n",
       "product_group_name                  19\n",
       "graphical_appearance_no             30\n",
       "graphical_appearance_name           30\n",
       "colour_group_code                   50\n",
       "colour_group_name                   50\n",
       "perceived_colour_value_id            8\n",
       "perceived_colour_value_name          8\n",
       "perceived_colour_master_id          20\n",
       "perceived_colour_master_name        20\n",
       "department_no                      299\n",
       "department_name                    250\n",
       "index_code                          10\n",
       "index_name                          10\n",
       "index_group_no                       5\n",
       "index_group_name                     5\n",
       "section_no                          57\n",
       "section_name                        56\n",
       "garment_group_no                    21\n",
       "garment_group_name                  21\n",
       "detail_desc                      43405\n",
       "article_id_mapped               105542\n",
       "dtype: int64"
      ]
     },
     "execution_count": 10,
     "metadata": {},
     "output_type": "execute_result"
    }
   ],
   "source": [
    "articles.nunique()"
   ]
  },
  {
   "cell_type": "markdown",
   "metadata": {},
   "source": [
    "## Training"
   ]
  },
  {
   "cell_type": "code",
   "execution_count": 11,
   "metadata": {
    "ExecuteTime": {
     "end_time": "2023-11-18T16:01:36.406481700Z",
     "start_time": "2023-11-18T16:01:33.898874200Z"
    }
   },
   "outputs": [],
   "source": [
    "# Split 80/20 on customer id\n",
    "train_customers, val_customers = train_test_split(transactions.customer_id.unique(), test_size=0.2, random_state=SEED)\n",
    "training_transactions_df = transactions[transactions.customer_id.isin(train_customers)]\n",
    "validation_transactions_df = transactions[transactions.customer_id.isin(val_customers)]"
   ]
  },
  {
   "cell_type": "code",
   "execution_count": 12,
   "metadata": {
    "ExecuteTime": {
     "end_time": "2023-11-18T16:01:39.078819600Z",
     "start_time": "2023-11-18T16:01:36.425676900Z"
    }
   },
   "outputs": [],
   "source": [
    "training_transactions = filter_transactions_by_weeks(training_transactions_df, SEQUENCE_COLUMN)"
   ]
  },
  {
   "cell_type": "code",
   "execution_count": 13,
   "metadata": {
    "ExecuteTime": {
     "end_time": "2023-11-18T16:01:39.682684300Z",
     "start_time": "2023-11-18T16:01:39.079820900Z"
    },
    "collapsed": false
   },
   "outputs": [],
   "source": [
    "validation_transactions = filter_transactions_by_weeks(validation_transactions_df, SEQUENCE_COLUMN)"
   ]
  },
  {
   "cell_type": "markdown",
   "metadata": {},
   "source": [
    "Some sanity checks quick in between"
   ]
  },
  {
   "cell_type": "code",
   "execution_count": 14,
   "metadata": {},
   "outputs": [
    {
     "data": {
      "text/plain": [
       "array([  9,  13,  37,  14,  15,   2,   4,   0,  48,  81,  43,  29,  50,\n",
       "        64,  12, 103,  30,  39,  27,  31,  20,  10,  33,  11,   3,   1,\n",
       "        18,  66,   7,   8,  36,  24,  16,  34,  17,  45,  22,  21,  25,\n",
       "        42,  23,  32,   6,  67,  61,  28,  38,  26,  40,  47,  57, 100,\n",
       "       101,  41,  70,  35,  44,  60,  51,  92,  55,   5,  72,  69,  56,\n",
       "        73,  88,  75,  46,  62,  68,  53,  74,  58,  19,  49,  83,  65,\n",
       "        80,  59,  54,  63, 109,  79,  77,  52,  87, 110,  78,  82,  98,\n",
       "       121,  86,  76,  71,  95, 129, 116, 115,  94, 128, 102,  91,  97,\n",
       "        93,  84,  90, 112,  89,  99, 127, 108, 126,  85, 125, 124, 104,\n",
       "       106, 123, 122, 111, 107, 120, 118, 105, 119,  96, 113, 114, 117,\n",
       "       130], dtype=int16)"
      ]
     },
     "execution_count": 14,
     "metadata": {},
     "output_type": "execute_result"
    }
   ],
   "source": [
    "articles[\"product_type_name\"].unique()"
   ]
  },
  {
   "cell_type": "code",
   "execution_count": 15,
   "metadata": {
    "ExecuteTime": {
     "end_time": "2023-11-18T16:01:40.664591700Z",
     "start_time": "2023-11-18T16:01:39.684684500Z"
    }
   },
   "outputs": [
    {
     "data": {
      "text/plain": [
       "count    1.362281e+06\n",
       "mean     2.333463e+01\n",
       "std      3.924225e+01\n",
       "min      1.000000e+00\n",
       "25%      3.000000e+00\n",
       "50%      9.000000e+00\n",
       "75%      2.700000e+01\n",
       "max      1.895000e+03\n",
       "Name: count, dtype: float64"
      ]
     },
     "execution_count": 15,
     "metadata": {},
     "output_type": "execute_result"
    }
   ],
   "source": [
    "transactions.customer_id.value_counts().describe()"
   ]
  },
  {
   "cell_type": "code",
   "execution_count": 16,
   "metadata": {
    "ExecuteTime": {
     "end_time": "2023-11-18T16:01:41.900947600Z",
     "start_time": "2023-11-18T16:01:40.664591700Z"
    }
   },
   "outputs": [
    {
     "data": {
      "text/plain": [
       "9.0"
      ]
     },
     "execution_count": 16,
     "metadata": {},
     "output_type": "execute_result"
    }
   ],
   "source": [
    "training_transactions_df.customer_id.value_counts().median()"
   ]
  },
  {
   "cell_type": "markdown",
   "metadata": {},
   "source": [
    "Defining hyperparameters and other constants"
   ]
  },
  {
   "cell_type": "code",
   "execution_count": 17,
   "metadata": {
    "ExecuteTime": {
     "end_time": "2023-11-18T16:01:42.431461200Z",
     "start_time": "2023-11-18T16:01:41.899540400Z"
    }
   },
   "outputs": [],
   "source": [
    "EMBEDDING_DIM = 64\n",
    "HIDDEN_DIM = 100\n",
    "\n",
    "BATCH_SIZE = 128\n",
    "\n",
    "# Padding article added to map, actual articles start at 1\n",
    "article_id_map[-1] = 0\n",
    "PADDING_ARTICLE = articles[SEQUENCE_COLUMN].nunique() if SEQUENCE_COLUMN != \"article_id\" else 0\n",
    "\n",
    "NUM_ARTICLES_IN_SEQUENCE = 12\n",
    "N_ARTICLES = articles[SEQUENCE_COLUMN].nunique()\n",
    "\n",
    "model = LSTMRecommender(\n",
    "    input_dim=NUM_ARTICLES_IN_SEQUENCE,\n",
    "    embedding_dim=EMBEDDING_DIM,\n",
    "    hidden_dim=HIDDEN_DIM,\n",
    "    n_articles=N_ARTICLES+1,\n",
    "    bidirectional=False,\n",
    "    num_layers=1,\n",
    "    dropout=0.2\n",
    "    )\n",
    "\n",
    "loss_fn = nn.CrossEntropyLoss()\n",
    "# optimizer = torch.optim.SGD(model.parameters(), lr=0.0001)\n",
    "optimizer = torch.optim.Adam(model.parameters(), lr=0.0001)"
   ]
  },
  {
   "cell_type": "markdown",
   "metadata": {},
   "source": [
    "Some more sanity checks"
   ]
  },
  {
   "cell_type": "code",
   "execution_count": 18,
   "metadata": {
    "ExecuteTime": {
     "end_time": "2023-11-18T16:01:42.442080600Z",
     "start_time": "2023-11-18T16:01:42.432463Z"
    }
   },
   "outputs": [
    {
     "data": {
      "text/plain": [
       "count    105542.000000\n",
       "mean         12.750573\n",
       "std          15.250827\n",
       "min           0.000000\n",
       "25%           2.000000\n",
       "50%           7.000000\n",
       "75%          18.000000\n",
       "max         130.000000\n",
       "Name: product_type_name, dtype: float64"
      ]
     },
     "execution_count": 18,
     "metadata": {},
     "output_type": "execute_result"
    }
   ],
   "source": [
    "articles[SEQUENCE_COLUMN].describe()"
   ]
  },
  {
   "cell_type": "code",
   "execution_count": 19,
   "metadata": {
    "ExecuteTime": {
     "end_time": "2023-11-18T16:01:42.456433400Z",
     "start_time": "2023-11-18T16:01:42.437978700Z"
    }
   },
   "outputs": [
    {
     "data": {
      "text/plain": [
       "130"
      ]
     },
     "execution_count": 19,
     "metadata": {},
     "output_type": "execute_result"
    }
   ],
   "source": [
    "articles[SEQUENCE_COLUMN].max() - articles[SEQUENCE_COLUMN].min()"
   ]
  },
  {
   "cell_type": "code",
   "execution_count": 20,
   "metadata": {
    "ExecuteTime": {
     "end_time": "2023-11-18T16:01:42.485764Z",
     "start_time": "2023-11-18T16:01:42.460853500Z"
    },
    "collapsed": false
   },
   "outputs": [
    {
     "data": {
      "text/html": [
       "<div>\n",
       "<style scoped>\n",
       "    .dataframe tbody tr th:only-of-type {\n",
       "        vertical-align: middle;\n",
       "    }\n",
       "\n",
       "    .dataframe tbody tr th {\n",
       "        vertical-align: top;\n",
       "    }\n",
       "\n",
       "    .dataframe thead th {\n",
       "        text-align: right;\n",
       "    }\n",
       "</style>\n",
       "<table border=\"1\" class=\"dataframe\">\n",
       "  <thead>\n",
       "    <tr style=\"text-align: right;\">\n",
       "      <th></th>\n",
       "      <th>customer_id</th>\n",
       "      <th>history</th>\n",
       "    </tr>\n",
       "  </thead>\n",
       "  <tbody>\n",
       "    <tr>\n",
       "      <th>0</th>\n",
       "      <td>116809474287335</td>\n",
       "      <td>[2, 2, 0, 2, 2, 2]</td>\n",
       "    </tr>\n",
       "    <tr>\n",
       "      <th>1</th>\n",
       "      <td>200292573348128</td>\n",
       "      <td>[8]</td>\n",
       "    </tr>\n",
       "    <tr>\n",
       "      <th>2</th>\n",
       "      <td>329094189075899</td>\n",
       "      <td>[44, 44]</td>\n",
       "    </tr>\n",
       "    <tr>\n",
       "      <th>3</th>\n",
       "      <td>690285180337957</td>\n",
       "      <td>[2, 2, 2]</td>\n",
       "    </tr>\n",
       "    <tr>\n",
       "      <th>4</th>\n",
       "      <td>745180086074610</td>\n",
       "      <td>[17, 1, 15, 1, 17, 13, 3, 1, 9, 1, 4, 1, 1, 17...</td>\n",
       "    </tr>\n",
       "  </tbody>\n",
       "</table>\n",
       "</div>"
      ],
      "text/plain": [
       "       customer_id                                            history\n",
       "0  116809474287335                                 [2, 2, 0, 2, 2, 2]\n",
       "1  200292573348128                                                [8]\n",
       "2  329094189075899                                           [44, 44]\n",
       "3  690285180337957                                          [2, 2, 2]\n",
       "4  745180086074610  [17, 1, 15, 1, 17, 13, 3, 1, 9, 1, 4, 1, 1, 17..."
      ]
     },
     "execution_count": 20,
     "metadata": {},
     "output_type": "execute_result"
    }
   ],
   "source": [
    "training_transactions.head()"
   ]
  },
  {
   "cell_type": "code",
   "execution_count": 21,
   "metadata": {
    "ExecuteTime": {
     "end_time": "2023-11-18T16:01:42.487763400Z",
     "start_time": "2023-11-18T16:01:42.467793700Z"
    },
    "collapsed": false
   },
   "outputs": [],
   "source": [
    "def run_validation():\n",
    "    \"\"\"Run validation on the model and return the accuracy, loss, recall and precision.\"\"\"\n",
    "    model.eval()\n",
    "    y_true, y_pred = [], []\n",
    "    criterion = nn.CrossEntropyLoss()\n",
    "    val_loss = 0.0\n",
    "    \n",
    "    with torch.no_grad():\n",
    "        dataloader = combine_sequences(validation_transactions)\n",
    "        for sequences, targets in dataloader:\n",
    "            sequence = sequences.to(device)\n",
    "            target = targets.to(device).long()\n",
    "            \n",
    "            # Predict\n",
    "            out = model(sequence)\n",
    "            loss = criterion(out, target)\n",
    "            val_loss += loss.item()\n",
    "\n",
    "            # Get predictions, temperature scaling is not used here\n",
    "            predictions = torch.argmax(out, dim=1)\n",
    "            y_pred.extend(predictions.cpu().numpy())\n",
    "            y_true.extend(target.cpu().numpy())\n",
    "        \n",
    "    val_loss /= len(dataloader)\n",
    "    accuracy = metrics.accuracy_score(y_true, y_pred)\n",
    "    recall = metrics.recall_score(y_true, y_pred, average=\"weighted\", zero_division=0.0)\n",
    "    precision = metrics.precision_score(y_true, y_pred, average=\"weighted\", zero_division=0.0)\n",
    "    return accuracy, val_loss, recall, precision"
   ]
  },
  {
   "cell_type": "code",
   "execution_count": 22,
   "metadata": {
    "ExecuteTime": {
     "end_time": "2023-11-18T15:45:57.864590900Z",
     "start_time": "2023-11-18T15:21:26.725958300Z"
    }
   },
   "outputs": [
    {
     "name": "stdout",
     "output_type": "stream",
     "text": [
      "Training start: Thu Dec 28 22:23:23 2023\n"
     ]
    },
    {
     "name": "stdout",
     "output_type": "stream",
     "text": [
      "+-------+---------------------+-------------------+-------------------------+--------------------+----------------------+------------+\n",
      "| Epoch | Validation Accuracy | Training Accuracy |     Validation Loss     |     Epoch Loss     |     Running Loss     | Epoch Time |\n",
      "+-------+---------------------+-------------------+-------------------------+--------------------+----------------------+------------+\n",
      "| 1     | 30.8731%            | 28.7003%          | 2.6820                  | 2.8379             | 2.8379               | 38.61s     |\n",
      "| 2     | 31.2009%            | 31.1236%          | 2.6491                  | 2.6790             | 5.5169               | 38.11s     |\n",
      "| 3     | 31.3212%            | 31.3091%          | 2.6349                  | 2.6557             | 8.1726               | 38.85s     |\n",
      "| 4     | 31.4343%            | 31.4385%          | 2.6264                  | 2.6443             | 10.8169              | 38.83s     |\n",
      "| 5     | 31.5830%            | 31.4992%          | 2.6203                  | 2.6358             | 13.4527              | 39.07s     |\n",
      "| 6     | 31.6662%            | 31.6199%          | 2.6161                  | 2.6304             | 16.0831              | 39.19s     |\n",
      "| 7     | 31.7606%            | 31.6767%          | 2.6133                  | 2.6259             | 18.7090              | 39.10s     |\n",
      "| 8     | 31.8154%            | 31.7719%          | 2.6099                  | 2.6222             | 21.3312              | 39.09s     |\n",
      "| 9     | 31.8366%            | 31.8499%          | 2.6079                  | 2.6194             | 23.9506              | 37.82s     |\n",
      "| 10    | 31.8862%            | 31.9049%          | 2.6063                  | 2.6168             | 26.5674              | 38.77s     |\n",
      "| 11    | 31.9468%            | 31.9392%          | 2.6049                  | 2.6147             | 29.1820              | 37.70s     |\n",
      "| 12    | 31.9338%            | 31.9931%          | 2.6046                  | 2.6128             | 31.7948              | 38.69s     |\n",
      "| 13    | 32.0589%            | 32.0184%          | 2.6031                  | 2.6112             | 34.4060              | 38.80s     |\n",
      "| 14    | 32.1047%            | 32.0377%          | 2.6017                  | 2.6097             | 37.0157              | 37.90s     |\n",
      "| 15    | 32.1114%            | 32.0901%          | 2.6014                  | 2.6087             | 39.6244              | 39.00s     |\n",
      "| 16    | 32.0897%            | 32.1310%          | 2.6013                  | 2.6069             | 42.2313              | 39.68s     |\n",
      "| 17    | 32.0893%            | 32.1545%          | 2.6003                  | 2.6060             | 44.8373              | 39.73s     |\n",
      "| 18    | 32.1018%            | 32.1924%          | 2.5997                  | 2.6045             | 47.4417              | 38.36s     |\n",
      "| 19    | 32.1441%            | 32.1597%          | 2.5994                  | 2.6040             | 50.0457              | 37.17s     |\n",
      "| 20    | 32.1441%            | 32.2024%          | 2.5989                  | 2.6028             | 52.6485              | 36.69s     |\n",
      "| 21    | 32.1716%            | 32.2037%          | 2.5984                  | 2.6025             | 55.2510              | 36.04s     |\n",
      "| 22    | 32.1624%            | 32.2584%          | 2.5982                  | 2.6012             | 57.8521              | 39.64s     |\n",
      "| 23    | 32.1571%            | 32.2449%          | 2.5984                  | 2.6002             | 60.4524              | 43.16s     |\n",
      "| 24    | 32.2211%            | 32.2510%          | 2.5981                  | 2.5994             | 63.0518              | 39.02s     |\n",
      "| 25    | 32.1985%            | 32.2749%          | 2.5975                  | 2.5990             | 65.6508              | 40.21s     |\n",
      "| 26    | 32.1860%            | 32.2454%          | 2.5976                  | 2.5981             | 68.2489              | 38.96s     |\n",
      "| 27    | 32.2144%            | 32.3045%          | 2.5975                  | 2.5976             | 70.8464              | 38.86s     |\n",
      "| 28    | 32.2471%            | 32.2921%          | 2.5974                  | 2.5969             | 73.4433              | 38.48s     |\n",
      "| 29    | 32.2332%            | 32.3056%          | 2.5976                  | 2.5962             | 76.0395              | 37.14s     |\n",
      "| 30    | 32.2067%            | 32.2995%          | 2.5976                  | 2.5955             | 78.6350              | 38.49s     |\n",
      "| 31    | 32.1903%            | 32.3374%          | 2.5966                  | 2.5953             | 81.2303              | 37.64s     |\n",
      "| 32    | 32.1894%            | 32.3642%          | 2.5970                  | 2.5944             | 83.8247              | 36.60s     |\n",
      "| 33    | 32.2539%            | 32.3782%          | 2.5966                  | 2.5935             | 86.4183              | 36.19s     |\n",
      "| 34    | 32.2298%            | 32.3562%          | 2.5968                  | 2.5936             | 89.0118              | 36.84s     |\n",
      "| 35    | 32.2197%            | 32.3639%          | 2.5971                  | 2.5925             | 91.6043              | 37.06s     |\n",
      "| 36    | 32.2221%            | 32.3832%          | 2.5968                  | 2.5919             | 94.1963              | 36.03s     |\n",
      "| 37    | 32.2726%            | 32.4200%          | 2.5964                  | 2.5918             | 96.7881              | 35.63s     |\n",
      "| 38    | 32.2231%            | 32.4342%          | 2.5969                  | 2.5911             | 99.3792              | 37.34s     |\n",
      "| 39    | 32.2322%            | 32.4016%          | 2.5978                  | 2.5906             | 101.9698             | 38.30s     |\n",
      "| 40    | 32.2081%            | 32.4292%          | 2.5968                  | 2.5903             | 104.5601             | 38.86s     |\n",
      "| 41    | 32.2048%            | 32.4195%          | 2.5970                  | 2.5895             | 107.1496             | 38.41s     |\n",
      "| 42    | 32.2028%            | 32.4222%          | 2.5973                  | 2.5895             | 109.7391             | 37.35s     |\n",
      "| 43    | 32.1817%            | 32.4225%          | 2.5970                  | 2.5884             | 112.3275             | 36.11s     |\n",
      "| 44    | 32.2264%            | 32.4463%          | 2.5974                  | 2.5880             | 114.9154             | 35.71s     |\n",
      "| 45    | 32.2534%            | 32.4485%          | 2.5973                  | 2.5877             | 117.5032             | 34.95s     |\n",
      "| 46    | 32.2004%            | 32.4684%          | 2.5972                  | 2.5877             | 120.0909             | 36.37s     |\n",
      "| 47    | 32.1980%            | 32.4576%          | 2.5975                  | 2.5867             | 122.6776             | 34.66s     |\n",
      "| 48    | 32.1773%            | 32.4793%          | 2.5977                  | 2.5866             | 125.2642             | 36.19s     |\n",
      "| 49    | 32.2245%            | 32.4903%          | 2.5977                  | 2.5860             | 127.8502             | 34.74s     |\n",
      "| 50    | 32.1581%            | 32.4864%          | 2.5978                  | 2.5855             | 130.4357             | 35.27s     |\n",
      "+-------+---------------------+-------------------+-------------------------+--------------------+----------------------+------------+\n"
     ]
    },
    {
     "data": {
      "image/png": "[encoded data removed]",
      "text/plain": [
       "<Figure size 1800x500 with 3 Axes>"
      ]
     },
     "metadata": {},
     "output_type": "display_data"
    },
    {
     "name": "stdout",
     "output_type": "stream",
     "text": [
      "Training time: 1906.60s\n"
     ]
    }
   ],
   "source": [
    "EPOCHS = 50\n",
    "\n",
    "# Training loop, starting with some statistics and setting up a table\n",
    "start_time = time.perf_counter()\n",
    "print(\"Training start:\", time.asctime(time.localtime()))\n",
    "\n",
    "header_printed = False\n",
    "col_widths = []\n",
    "table_seperator = \"\"\n",
    "\n",
    "running_loss = 0.0\n",
    "statistics = pd.DataFrame(columns=[\"Epoch\", \"Training Loss\", \"Validation Loss\", \"Training Recall\", \"Validation Recall\", \"Training Precision\", \"Validation Precision\"])\n",
    "\n",
    "model.to(device)\n",
    "dataloader = combine_sequences(training_transactions)\n",
    "for epoch in range(EPOCHS):\n",
    "    epoch_start_time = time.perf_counter()\n",
    "    \n",
    "    training_accuracy = 0\n",
    "    epoch_loss = 0.0\n",
    "    y_true, y_pred = [], []\n",
    "\n",
    "    #### Training phase ####\n",
    "    model.train()\n",
    "    for idx, (sequence, target) in enumerate(dataloader):\n",
    "        sequence = sequence.to(device)\n",
    "        target = target.to(device).long()\n",
    "        # Predict\n",
    "        out = model(sequence)\n",
    "        # Calculate loss\n",
    "        loss = loss_fn(out, target)\n",
    "        # Backpropagation\n",
    "        optimizer.zero_grad()\n",
    "        loss.backward()\n",
    "        optimizer.step()\n",
    "\n",
    "        # Statistics\n",
    "        predicted = torch.argmax(out, dim=1)\n",
    "\n",
    "        y_true.extend(target.cpu().numpy())\n",
    "        y_pred.extend(predicted.cpu().numpy())\n",
    "\n",
    "        epoch_loss += loss.item()\n",
    "        training_accuracy += (predicted == target).sum().item()\n",
    "\n",
    "    epoch_loss /= len(dataloader)\n",
    "    running_loss += epoch_loss\n",
    "    training_accuracy /= len(dataloader.dataset)\n",
    "\n",
    "    # Precision & recall calculation for current epoch\n",
    "    train_recall = metrics.recall_score(y_true, y_pred, average=\"weighted\", zero_division=0.0)\n",
    "    train_precision = metrics.precision_score(y_true, y_pred, average=\"weighted\", zero_division=0.0)\n",
    "\n",
    "    #### Validation phase ####\n",
    "    val_accuracy, val_loss, val_recall, val_precision = run_validation()\n",
    "\n",
    "    statistics.loc[len(statistics)] = [epoch, epoch_loss, float(val_loss), train_recall, val_recall, train_precision, val_precision]\n",
    "    \n",
    "    # Print table\n",
    "    if not header_printed:\n",
    "        header_printed = True\n",
    "        header_text = \"| Epoch | Validation Accuracy | Training Accuracy |     Validation Loss     |     Epoch Loss     |     Running Loss     | Epoch Time |\"\n",
    "        col_widths = [len(s)-2 for s in header_text.split(\"|\")[1:-1]]\n",
    "        table_seperator = f\"+{'+'.join(['-' * (x + 2) for x in col_widths])}+\"\n",
    "        print(table_seperator)\n",
    "        print(header_text)\n",
    "        print(table_seperator)\n",
    "    \n",
    "    print(f\"| {str(epoch + 1):<{col_widths[0]}} | \"\n",
    "              f\"{f'{val_accuracy:.4%}':<{col_widths[1]}} | \"\n",
    "              f\"{f'{training_accuracy:.4%}':<{col_widths[2]}} | \"\n",
    "              f\"{f'{val_loss:.4f}':<{col_widths[3]}} | \"\n",
    "              f\"{f'{epoch_loss:.4f}':<{col_widths[4]}} | \"\n",
    "              f\"{f'{running_loss:.4f}':<{col_widths[5]}} | \"\n",
    "              f\"{f'{time.perf_counter() - epoch_start_time:.2f}s':<{col_widths[6]}} |\")\n",
    "    \n",
    "    # Save model after each epoch for analysis\n",
    "    torch.save(model.state_dict(), BASE_PATH + f\"LSTM_Model_Epoch_{epoch + 1}.pt\")\n",
    "\n",
    "statistics.set_index(\"Epoch\", inplace=True)\n",
    "print(table_seperator)\n",
    "\n",
    "# Plot the statistics if the model is sufficiently trained\n",
    "if EPOCHS > 5:\n",
    "    plt.figure(figsize=(18, 5))\n",
    "    statistics[[\"Training Loss\", \"Validation Loss\"]].plot(ax=plt.subplot(1,3,1), title=f\"Loss\", legend=True)\n",
    "    statistics[[\"Training Recall\", \"Validation Recall\"]].plot(ax=plt.subplot(1,3,2), title=f\"Weighted Recall\", legend=True)\n",
    "    statistics[[\"Training Precision\", \"Validation Precision\"]].plot(ax=plt.subplot(1,3,3), title=f\"Weighted Precision\", legend=True)\n",
    "    plt.show()\n",
    "    statistics.to_csv(BASE_PATH + f\"metrics.csv\")\n",
    "\n",
    "\n",
    "end_time = time.perf_counter()\n",
    "print(f\"Training time: {end_time - start_time:.2f}s\")"
   ]
  },
  {
   "cell_type": "code",
   "execution_count": 23,
   "metadata": {},
   "outputs": [
    {
     "data": {
      "text/html": [
       "<div>\n",
       "<style scoped>\n",
       "    .dataframe tbody tr th:only-of-type {\n",
       "        vertical-align: middle;\n",
       "    }\n",
       "\n",
       "    .dataframe tbody tr th {\n",
       "        vertical-align: top;\n",
       "    }\n",
       "\n",
       "    .dataframe thead th {\n",
       "        text-align: right;\n",
       "    }\n",
       "</style>\n",
       "<table border=\"1\" class=\"dataframe\">\n",
       "  <thead>\n",
       "    <tr style=\"text-align: right;\">\n",
       "      <th></th>\n",
       "      <th>Training Loss</th>\n",
       "      <th>Validation Loss</th>\n",
       "      <th>Training Recall</th>\n",
       "      <th>Validation Recall</th>\n",
       "      <th>Training Precision</th>\n",
       "      <th>Validation Precision</th>\n",
       "    </tr>\n",
       "    <tr>\n",
       "      <th>Epoch</th>\n",
       "      <th></th>\n",
       "      <th></th>\n",
       "      <th></th>\n",
       "      <th></th>\n",
       "      <th></th>\n",
       "      <th></th>\n",
       "    </tr>\n",
       "  </thead>\n",
       "  <tbody>\n",
       "    <tr>\n",
       "      <th>0.0</th>\n",
       "      <td>2.837891</td>\n",
       "      <td>2.681974</td>\n",
       "      <td>0.287003</td>\n",
       "      <td>0.308731</td>\n",
       "      <td>0.272739</td>\n",
       "      <td>0.283648</td>\n",
       "    </tr>\n",
       "    <tr>\n",
       "      <th>1.0</th>\n",
       "      <td>2.679009</td>\n",
       "      <td>2.649070</td>\n",
       "      <td>0.311236</td>\n",
       "      <td>0.312009</td>\n",
       "      <td>0.294438</td>\n",
       "      <td>0.291772</td>\n",
       "    </tr>\n",
       "    <tr>\n",
       "      <th>2.0</th>\n",
       "      <td>2.655670</td>\n",
       "      <td>2.634938</td>\n",
       "      <td>0.313091</td>\n",
       "      <td>0.313212</td>\n",
       "      <td>0.295898</td>\n",
       "      <td>0.295941</td>\n",
       "    </tr>\n",
       "    <tr>\n",
       "      <th>3.0</th>\n",
       "      <td>2.644305</td>\n",
       "      <td>2.626363</td>\n",
       "      <td>0.314385</td>\n",
       "      <td>0.314343</td>\n",
       "      <td>0.298564</td>\n",
       "      <td>0.298975</td>\n",
       "    </tr>\n",
       "    <tr>\n",
       "      <th>4.0</th>\n",
       "      <td>2.635804</td>\n",
       "      <td>2.620304</td>\n",
       "      <td>0.314992</td>\n",
       "      <td>0.315830</td>\n",
       "      <td>0.298477</td>\n",
       "      <td>0.299427</td>\n",
       "    </tr>\n",
       "    <tr>\n",
       "      <th>5.0</th>\n",
       "      <td>2.630448</td>\n",
       "      <td>2.616078</td>\n",
       "      <td>0.316199</td>\n",
       "      <td>0.316662</td>\n",
       "      <td>0.299439</td>\n",
       "      <td>0.300463</td>\n",
       "    </tr>\n",
       "    <tr>\n",
       "      <th>6.0</th>\n",
       "      <td>2.625883</td>\n",
       "      <td>2.613265</td>\n",
       "      <td>0.316767</td>\n",
       "      <td>0.317606</td>\n",
       "      <td>0.300044</td>\n",
       "      <td>0.302104</td>\n",
       "    </tr>\n",
       "    <tr>\n",
       "      <th>7.0</th>\n",
       "      <td>2.622226</td>\n",
       "      <td>2.609896</td>\n",
       "      <td>0.317719</td>\n",
       "      <td>0.318154</td>\n",
       "      <td>0.301495</td>\n",
       "      <td>0.302096</td>\n",
       "    </tr>\n",
       "    <tr>\n",
       "      <th>8.0</th>\n",
       "      <td>2.619353</td>\n",
       "      <td>2.607903</td>\n",
       "      <td>0.318499</td>\n",
       "      <td>0.318366</td>\n",
       "      <td>0.301847</td>\n",
       "      <td>0.302323</td>\n",
       "    </tr>\n",
       "    <tr>\n",
       "      <th>9.0</th>\n",
       "      <td>2.616769</td>\n",
       "      <td>2.606292</td>\n",
       "      <td>0.319049</td>\n",
       "      <td>0.318862</td>\n",
       "      <td>0.302894</td>\n",
       "      <td>0.303255</td>\n",
       "    </tr>\n",
       "    <tr>\n",
       "      <th>10.0</th>\n",
       "      <td>2.614693</td>\n",
       "      <td>2.604878</td>\n",
       "      <td>0.319392</td>\n",
       "      <td>0.319468</td>\n",
       "      <td>0.303431</td>\n",
       "      <td>0.303866</td>\n",
       "    </tr>\n",
       "    <tr>\n",
       "      <th>11.0</th>\n",
       "      <td>2.612752</td>\n",
       "      <td>2.604578</td>\n",
       "      <td>0.319931</td>\n",
       "      <td>0.319338</td>\n",
       "      <td>0.304302</td>\n",
       "      <td>0.303852</td>\n",
       "    </tr>\n",
       "    <tr>\n",
       "      <th>12.0</th>\n",
       "      <td>2.611153</td>\n",
       "      <td>2.603124</td>\n",
       "      <td>0.320184</td>\n",
       "      <td>0.320589</td>\n",
       "      <td>0.305250</td>\n",
       "      <td>0.305709</td>\n",
       "    </tr>\n",
       "    <tr>\n",
       "      <th>13.0</th>\n",
       "      <td>2.609728</td>\n",
       "      <td>2.601706</td>\n",
       "      <td>0.320377</td>\n",
       "      <td>0.321047</td>\n",
       "      <td>0.305750</td>\n",
       "      <td>0.306718</td>\n",
       "    </tr>\n",
       "    <tr>\n",
       "      <th>14.0</th>\n",
       "      <td>2.608696</td>\n",
       "      <td>2.601446</td>\n",
       "      <td>0.320901</td>\n",
       "      <td>0.321114</td>\n",
       "      <td>0.305658</td>\n",
       "      <td>0.306252</td>\n",
       "    </tr>\n",
       "    <tr>\n",
       "      <th>15.0</th>\n",
       "      <td>2.606897</td>\n",
       "      <td>2.601289</td>\n",
       "      <td>0.321310</td>\n",
       "      <td>0.320897</td>\n",
       "      <td>0.306550</td>\n",
       "      <td>0.306962</td>\n",
       "    </tr>\n",
       "    <tr>\n",
       "      <th>16.0</th>\n",
       "      <td>2.605983</td>\n",
       "      <td>2.600334</td>\n",
       "      <td>0.321545</td>\n",
       "      <td>0.320893</td>\n",
       "      <td>0.306358</td>\n",
       "      <td>0.306000</td>\n",
       "    </tr>\n",
       "    <tr>\n",
       "      <th>17.0</th>\n",
       "      <td>2.604453</td>\n",
       "      <td>2.599703</td>\n",
       "      <td>0.321924</td>\n",
       "      <td>0.321018</td>\n",
       "      <td>0.306844</td>\n",
       "      <td>0.306645</td>\n",
       "    </tr>\n",
       "    <tr>\n",
       "      <th>18.0</th>\n",
       "      <td>2.604012</td>\n",
       "      <td>2.599404</td>\n",
       "      <td>0.321597</td>\n",
       "      <td>0.321441</td>\n",
       "      <td>0.306618</td>\n",
       "      <td>0.306975</td>\n",
       "    </tr>\n",
       "    <tr>\n",
       "      <th>19.0</th>\n",
       "      <td>2.602771</td>\n",
       "      <td>2.598914</td>\n",
       "      <td>0.322024</td>\n",
       "      <td>0.321441</td>\n",
       "      <td>0.306956</td>\n",
       "      <td>0.307164</td>\n",
       "    </tr>\n",
       "    <tr>\n",
       "      <th>20.0</th>\n",
       "      <td>2.602468</td>\n",
       "      <td>2.598416</td>\n",
       "      <td>0.322037</td>\n",
       "      <td>0.321716</td>\n",
       "      <td>0.307161</td>\n",
       "      <td>0.306890</td>\n",
       "    </tr>\n",
       "    <tr>\n",
       "      <th>21.0</th>\n",
       "      <td>2.601188</td>\n",
       "      <td>2.598155</td>\n",
       "      <td>0.322584</td>\n",
       "      <td>0.321624</td>\n",
       "      <td>0.307430</td>\n",
       "      <td>0.307740</td>\n",
       "    </tr>\n",
       "    <tr>\n",
       "      <th>22.0</th>\n",
       "      <td>2.600249</td>\n",
       "      <td>2.598399</td>\n",
       "      <td>0.322449</td>\n",
       "      <td>0.321571</td>\n",
       "      <td>0.307492</td>\n",
       "      <td>0.307871</td>\n",
       "    </tr>\n",
       "    <tr>\n",
       "      <th>23.0</th>\n",
       "      <td>2.599388</td>\n",
       "      <td>2.598148</td>\n",
       "      <td>0.322510</td>\n",
       "      <td>0.322211</td>\n",
       "      <td>0.307556</td>\n",
       "      <td>0.307785</td>\n",
       "    </tr>\n",
       "    <tr>\n",
       "      <th>24.0</th>\n",
       "      <td>2.598984</td>\n",
       "      <td>2.597460</td>\n",
       "      <td>0.322749</td>\n",
       "      <td>0.321985</td>\n",
       "      <td>0.308013</td>\n",
       "      <td>0.308075</td>\n",
       "    </tr>\n",
       "    <tr>\n",
       "      <th>25.0</th>\n",
       "      <td>2.598102</td>\n",
       "      <td>2.597645</td>\n",
       "      <td>0.322454</td>\n",
       "      <td>0.321860</td>\n",
       "      <td>0.307484</td>\n",
       "      <td>0.307628</td>\n",
       "    </tr>\n",
       "    <tr>\n",
       "      <th>26.0</th>\n",
       "      <td>2.597563</td>\n",
       "      <td>2.597468</td>\n",
       "      <td>0.323045</td>\n",
       "      <td>0.322144</td>\n",
       "      <td>0.308742</td>\n",
       "      <td>0.308109</td>\n",
       "    </tr>\n",
       "    <tr>\n",
       "      <th>27.0</th>\n",
       "      <td>2.596888</td>\n",
       "      <td>2.597432</td>\n",
       "      <td>0.322921</td>\n",
       "      <td>0.322471</td>\n",
       "      <td>0.308371</td>\n",
       "      <td>0.308666</td>\n",
       "    </tr>\n",
       "    <tr>\n",
       "      <th>28.0</th>\n",
       "      <td>2.596170</td>\n",
       "      <td>2.597633</td>\n",
       "      <td>0.323056</td>\n",
       "      <td>0.322332</td>\n",
       "      <td>0.308353</td>\n",
       "      <td>0.308317</td>\n",
       "    </tr>\n",
       "    <tr>\n",
       "      <th>29.0</th>\n",
       "      <td>2.595538</td>\n",
       "      <td>2.597629</td>\n",
       "      <td>0.322995</td>\n",
       "      <td>0.322067</td>\n",
       "      <td>0.308392</td>\n",
       "      <td>0.308011</td>\n",
       "    </tr>\n",
       "    <tr>\n",
       "      <th>30.0</th>\n",
       "      <td>2.595282</td>\n",
       "      <td>2.596643</td>\n",
       "      <td>0.323374</td>\n",
       "      <td>0.321903</td>\n",
       "      <td>0.308982</td>\n",
       "      <td>0.308027</td>\n",
       "    </tr>\n",
       "    <tr>\n",
       "      <th>31.0</th>\n",
       "      <td>2.594421</td>\n",
       "      <td>2.597043</td>\n",
       "      <td>0.323642</td>\n",
       "      <td>0.321894</td>\n",
       "      <td>0.309425</td>\n",
       "      <td>0.308423</td>\n",
       "    </tr>\n",
       "    <tr>\n",
       "      <th>32.0</th>\n",
       "      <td>2.593540</td>\n",
       "      <td>2.596588</td>\n",
       "      <td>0.323782</td>\n",
       "      <td>0.322539</td>\n",
       "      <td>0.308903</td>\n",
       "      <td>0.309189</td>\n",
       "    </tr>\n",
       "    <tr>\n",
       "      <th>33.0</th>\n",
       "      <td>2.593569</td>\n",
       "      <td>2.596757</td>\n",
       "      <td>0.323562</td>\n",
       "      <td>0.322298</td>\n",
       "      <td>0.309326</td>\n",
       "      <td>0.308735</td>\n",
       "    </tr>\n",
       "    <tr>\n",
       "      <th>34.0</th>\n",
       "      <td>2.592504</td>\n",
       "      <td>2.597088</td>\n",
       "      <td>0.323639</td>\n",
       "      <td>0.322197</td>\n",
       "      <td>0.309262</td>\n",
       "      <td>0.308349</td>\n",
       "    </tr>\n",
       "    <tr>\n",
       "      <th>35.0</th>\n",
       "      <td>2.591944</td>\n",
       "      <td>2.596813</td>\n",
       "      <td>0.323832</td>\n",
       "      <td>0.322221</td>\n",
       "      <td>0.309378</td>\n",
       "      <td>0.308857</td>\n",
       "    </tr>\n",
       "    <tr>\n",
       "      <th>36.0</th>\n",
       "      <td>2.591771</td>\n",
       "      <td>2.596407</td>\n",
       "      <td>0.324200</td>\n",
       "      <td>0.322726</td>\n",
       "      <td>0.310054</td>\n",
       "      <td>0.309256</td>\n",
       "    </tr>\n",
       "    <tr>\n",
       "      <th>37.0</th>\n",
       "      <td>2.591140</td>\n",
       "      <td>2.596935</td>\n",
       "      <td>0.324342</td>\n",
       "      <td>0.322231</td>\n",
       "      <td>0.309923</td>\n",
       "      <td>0.308738</td>\n",
       "    </tr>\n",
       "    <tr>\n",
       "      <th>38.0</th>\n",
       "      <td>2.590592</td>\n",
       "      <td>2.597777</td>\n",
       "      <td>0.324016</td>\n",
       "      <td>0.322322</td>\n",
       "      <td>0.309856</td>\n",
       "      <td>0.309310</td>\n",
       "    </tr>\n",
       "    <tr>\n",
       "      <th>39.0</th>\n",
       "      <td>2.590331</td>\n",
       "      <td>2.596781</td>\n",
       "      <td>0.324292</td>\n",
       "      <td>0.322081</td>\n",
       "      <td>0.310122</td>\n",
       "      <td>0.308394</td>\n",
       "    </tr>\n",
       "    <tr>\n",
       "      <th>40.0</th>\n",
       "      <td>2.589465</td>\n",
       "      <td>2.596953</td>\n",
       "      <td>0.324195</td>\n",
       "      <td>0.322048</td>\n",
       "      <td>0.309571</td>\n",
       "      <td>0.308824</td>\n",
       "    </tr>\n",
       "    <tr>\n",
       "      <th>41.0</th>\n",
       "      <td>2.589513</td>\n",
       "      <td>2.597280</td>\n",
       "      <td>0.324222</td>\n",
       "      <td>0.322028</td>\n",
       "      <td>0.309731</td>\n",
       "      <td>0.308758</td>\n",
       "    </tr>\n",
       "    <tr>\n",
       "      <th>42.0</th>\n",
       "      <td>2.588377</td>\n",
       "      <td>2.596993</td>\n",
       "      <td>0.324225</td>\n",
       "      <td>0.321817</td>\n",
       "      <td>0.309911</td>\n",
       "      <td>0.308785</td>\n",
       "    </tr>\n",
       "    <tr>\n",
       "      <th>43.0</th>\n",
       "      <td>2.587960</td>\n",
       "      <td>2.597394</td>\n",
       "      <td>0.324463</td>\n",
       "      <td>0.322264</td>\n",
       "      <td>0.310058</td>\n",
       "      <td>0.308982</td>\n",
       "    </tr>\n",
       "    <tr>\n",
       "      <th>44.0</th>\n",
       "      <td>2.587734</td>\n",
       "      <td>2.597273</td>\n",
       "      <td>0.324485</td>\n",
       "      <td>0.322534</td>\n",
       "      <td>0.310107</td>\n",
       "      <td>0.309352</td>\n",
       "    </tr>\n",
       "    <tr>\n",
       "      <th>45.0</th>\n",
       "      <td>2.587722</td>\n",
       "      <td>2.597192</td>\n",
       "      <td>0.324684</td>\n",
       "      <td>0.322004</td>\n",
       "      <td>0.310571</td>\n",
       "      <td>0.308813</td>\n",
       "    </tr>\n",
       "    <tr>\n",
       "      <th>46.0</th>\n",
       "      <td>2.586745</td>\n",
       "      <td>2.597472</td>\n",
       "      <td>0.324576</td>\n",
       "      <td>0.321980</td>\n",
       "      <td>0.310556</td>\n",
       "      <td>0.308453</td>\n",
       "    </tr>\n",
       "    <tr>\n",
       "      <th>47.0</th>\n",
       "      <td>2.586604</td>\n",
       "      <td>2.597730</td>\n",
       "      <td>0.324793</td>\n",
       "      <td>0.321773</td>\n",
       "      <td>0.310636</td>\n",
       "      <td>0.308062</td>\n",
       "    </tr>\n",
       "    <tr>\n",
       "      <th>48.0</th>\n",
       "      <td>2.585965</td>\n",
       "      <td>2.597713</td>\n",
       "      <td>0.324903</td>\n",
       "      <td>0.322245</td>\n",
       "      <td>0.310451</td>\n",
       "      <td>0.308703</td>\n",
       "    </tr>\n",
       "    <tr>\n",
       "      <th>49.0</th>\n",
       "      <td>2.585503</td>\n",
       "      <td>2.597846</td>\n",
       "      <td>0.324864</td>\n",
       "      <td>0.321581</td>\n",
       "      <td>0.310767</td>\n",
       "      <td>0.308387</td>\n",
       "    </tr>\n",
       "  </tbody>\n",
       "</table>\n",
       "</div>"
      ],
      "text/plain": [
       "       Training Loss  Validation Loss  Training Recall  Validation Recall  \\\n",
       "Epoch                                                                       \n",
       "0.0         2.837891         2.681974         0.287003           0.308731   \n",
       "1.0         2.679009         2.649070         0.311236           0.312009   \n",
       "2.0         2.655670         2.634938         0.313091           0.313212   \n",
       "3.0         2.644305         2.626363         0.314385           0.314343   \n",
       "4.0         2.635804         2.620304         0.314992           0.315830   \n",
       "5.0         2.630448         2.616078         0.316199           0.316662   \n",
       "6.0         2.625883         2.613265         0.316767           0.317606   \n",
       "7.0         2.622226         2.609896         0.317719           0.318154   \n",
       "8.0         2.619353         2.607903         0.318499           0.318366   \n",
       "9.0         2.616769         2.606292         0.319049           0.318862   \n",
       "10.0        2.614693         2.604878         0.319392           0.319468   \n",
       "11.0        2.612752         2.604578         0.319931           0.319338   \n",
       "12.0        2.611153         2.603124         0.320184           0.320589   \n",
       "13.0        2.609728         2.601706         0.320377           0.321047   \n",
       "14.0        2.608696         2.601446         0.320901           0.321114   \n",
       "15.0        2.606897         2.601289         0.321310           0.320897   \n",
       "16.0        2.605983         2.600334         0.321545           0.320893   \n",
       "17.0        2.604453         2.599703         0.321924           0.321018   \n",
       "18.0        2.604012         2.599404         0.321597           0.321441   \n",
       "19.0        2.602771         2.598914         0.322024           0.321441   \n",
       "20.0        2.602468         2.598416         0.322037           0.321716   \n",
       "21.0        2.601188         2.598155         0.322584           0.321624   \n",
       "22.0        2.600249         2.598399         0.322449           0.321571   \n",
       "23.0        2.599388         2.598148         0.322510           0.322211   \n",
       "24.0        2.598984         2.597460         0.322749           0.321985   \n",
       "25.0        2.598102         2.597645         0.322454           0.321860   \n",
       "26.0        2.597563         2.597468         0.323045           0.322144   \n",
       "27.0        2.596888         2.597432         0.322921           0.322471   \n",
       "28.0        2.596170         2.597633         0.323056           0.322332   \n",
       "29.0        2.595538         2.597629         0.322995           0.322067   \n",
       "30.0        2.595282         2.596643         0.323374           0.321903   \n",
       "31.0        2.594421         2.597043         0.323642           0.321894   \n",
       "32.0        2.593540         2.596588         0.323782           0.322539   \n",
       "33.0        2.593569         2.596757         0.323562           0.322298   \n",
       "34.0        2.592504         2.597088         0.323639           0.322197   \n",
       "35.0        2.591944         2.596813         0.323832           0.322221   \n",
       "36.0        2.591771         2.596407         0.324200           0.322726   \n",
       "37.0        2.591140         2.596935         0.324342           0.322231   \n",
       "38.0        2.590592         2.597777         0.324016           0.322322   \n",
       "39.0        2.590331         2.596781         0.324292           0.322081   \n",
       "40.0        2.589465         2.596953         0.324195           0.322048   \n",
       "41.0        2.589513         2.597280         0.324222           0.322028   \n",
       "42.0        2.588377         2.596993         0.324225           0.321817   \n",
       "43.0        2.587960         2.597394         0.324463           0.322264   \n",
       "44.0        2.587734         2.597273         0.324485           0.322534   \n",
       "45.0        2.587722         2.597192         0.324684           0.322004   \n",
       "46.0        2.586745         2.597472         0.324576           0.321980   \n",
       "47.0        2.586604         2.597730         0.324793           0.321773   \n",
       "48.0        2.585965         2.597713         0.324903           0.322245   \n",
       "49.0        2.585503         2.597846         0.324864           0.321581   \n",
       "\n",
       "       Training Precision  Validation Precision  \n",
       "Epoch                                            \n",
       "0.0              0.272739              0.283648  \n",
       "1.0              0.294438              0.291772  \n",
       "2.0              0.295898              0.295941  \n",
       "3.0              0.298564              0.298975  \n",
       "4.0              0.298477              0.299427  \n",
       "5.0              0.299439              0.300463  \n",
       "6.0              0.300044              0.302104  \n",
       "7.0              0.301495              0.302096  \n",
       "8.0              0.301847              0.302323  \n",
       "9.0              0.302894              0.303255  \n",
       "10.0             0.303431              0.303866  \n",
       "11.0             0.304302              0.303852  \n",
       "12.0             0.305250              0.305709  \n",
       "13.0             0.305750              0.306718  \n",
       "14.0             0.305658              0.306252  \n",
       "15.0             0.306550              0.306962  \n",
       "16.0             0.306358              0.306000  \n",
       "17.0             0.306844              0.306645  \n",
       "18.0             0.306618              0.306975  \n",
       "19.0             0.306956              0.307164  \n",
       "20.0             0.307161              0.306890  \n",
       "21.0             0.307430              0.307740  \n",
       "22.0             0.307492              0.307871  \n",
       "23.0             0.307556              0.307785  \n",
       "24.0             0.308013              0.308075  \n",
       "25.0             0.307484              0.307628  \n",
       "26.0             0.308742              0.308109  \n",
       "27.0             0.308371              0.308666  \n",
       "28.0             0.308353              0.308317  \n",
       "29.0             0.308392              0.308011  \n",
       "30.0             0.308982              0.308027  \n",
       "31.0             0.309425              0.308423  \n",
       "32.0             0.308903              0.309189  \n",
       "33.0             0.309326              0.308735  \n",
       "34.0             0.309262              0.308349  \n",
       "35.0             0.309378              0.308857  \n",
       "36.0             0.310054              0.309256  \n",
       "37.0             0.309923              0.308738  \n",
       "38.0             0.309856              0.309310  \n",
       "39.0             0.310122              0.308394  \n",
       "40.0             0.309571              0.308824  \n",
       "41.0             0.309731              0.308758  \n",
       "42.0             0.309911              0.308785  \n",
       "43.0             0.310058              0.308982  \n",
       "44.0             0.310107              0.309352  \n",
       "45.0             0.310571              0.308813  \n",
       "46.0             0.310556              0.308453  \n",
       "47.0             0.310636              0.308062  \n",
       "48.0             0.310451              0.308703  \n",
       "49.0             0.310767              0.308387  "
      ]
     },
     "execution_count": 23,
     "metadata": {},
     "output_type": "execute_result"
    }
   ],
   "source": [
    "statistics"
   ]
  },
  {
   "cell_type": "markdown",
   "metadata": {
    "collapsed": false
   },
   "source": [
    "# Generate submission"
   ]
  },
  {
   "cell_type": "code",
   "execution_count": 24,
   "metadata": {
    "ExecuteTime": {
     "end_time": "2023-11-18T16:01:44.497680500Z",
     "start_time": "2023-11-18T16:01:42.474962Z"
    },
    "collapsed": false
   },
   "outputs": [],
   "source": [
    "sub = pd.read_csv('../data/sample_submission.csv')"
   ]
  },
  {
   "cell_type": "code",
   "execution_count": 25,
   "metadata": {
    "ExecuteTime": {
     "end_time": "2023-11-18T16:02:22.848548400Z",
     "start_time": "2023-11-18T16:02:22.670128800Z"
    },
    "collapsed": false
   },
   "outputs": [],
   "source": [
    "# Model redefinition to make generating submissions easier without running previous cells\n",
    "model = LSTMRecommender(\n",
    "    input_dim=NUM_ARTICLES_IN_SEQUENCE,\n",
    "    embedding_dim=EMBEDDING_DIM,\n",
    "    hidden_dim=HIDDEN_DIM,\n",
    "    n_articles=N_ARTICLES+1,\n",
    "    bidirectional=False,\n",
    "    num_layers=1,\n",
    "    dropout=0.2\n",
    "    )"
   ]
  },
  {
   "cell_type": "code",
   "execution_count": 26,
   "metadata": {
    "ExecuteTime": {
     "end_time": "2023-11-18T16:02:28.680832900Z",
     "start_time": "2023-11-18T16:02:26.797893300Z"
    },
    "collapsed": false
   },
   "outputs": [
    {
     "data": {
      "text/plain": [
       "LSTMRecommender(\n",
       "  (embedding): Embedding(132, 64)\n",
       "  (lstm): LSTM(64, 100, batch_first=True)\n",
       "  (fc): Linear(in_features=100, out_features=132, bias=True)\n",
       "  (dropout): Dropout(p=0.2, inplace=False)\n",
       ")"
      ]
     },
     "execution_count": 26,
     "metadata": {},
     "output_type": "execute_result"
    }
   ],
   "source": [
    "# Epochs on the graph start from 0, however they are saved starting from 1\n",
    "# Defining the optimal epoch for each sequence column, based on the validation loss graph\n",
    "optimal_epoch = {\n",
    "    \"product_type_name\": 25,\n",
    "    \"article_id\": 10,\n",
    "    \"prod_name\": 16,\n",
    "}\n",
    "model.load_state_dict(torch.load(BASE_PATH + f\"LSTM_Model_Epoch_{optimal_epoch[SEQUENCE_COLUMN]}.pt\"))\n",
    "model.to(device)"
   ]
  },
  {
   "cell_type": "code",
   "execution_count": 27,
   "metadata": {
    "ExecuteTime": {
     "end_time": "2023-11-18T16:02:30.801553700Z",
     "start_time": "2023-11-18T16:02:30.787153600Z"
    },
    "collapsed": false
   },
   "outputs": [
    {
     "data": {
      "text/html": [
       "<div>\n",
       "<style scoped>\n",
       "    .dataframe tbody tr th:only-of-type {\n",
       "        vertical-align: middle;\n",
       "    }\n",
       "\n",
       "    .dataframe tbody tr th {\n",
       "        vertical-align: top;\n",
       "    }\n",
       "\n",
       "    .dataframe thead th {\n",
       "        text-align: right;\n",
       "    }\n",
       "</style>\n",
       "<table border=\"1\" class=\"dataframe\">\n",
       "  <thead>\n",
       "    <tr style=\"text-align: right;\">\n",
       "      <th></th>\n",
       "      <th>t_dat</th>\n",
       "      <th>customer_id</th>\n",
       "      <th>article_id</th>\n",
       "      <th>price</th>\n",
       "      <th>sales_channel_id</th>\n",
       "      <th>week</th>\n",
       "      <th>prod_name</th>\n",
       "      <th>product_type_name</th>\n",
       "      <th>article_id_mapped</th>\n",
       "    </tr>\n",
       "  </thead>\n",
       "  <tbody>\n",
       "    <tr>\n",
       "      <th>0</th>\n",
       "      <td>2018-09-20</td>\n",
       "      <td>1728846800780188</td>\n",
       "      <td>519773001</td>\n",
       "      <td>0.028458</td>\n",
       "      <td>2</td>\n",
       "      <td>0</td>\n",
       "      <td>7147</td>\n",
       "      <td>17</td>\n",
       "      <td>8050</td>\n",
       "    </tr>\n",
       "    <tr>\n",
       "      <th>1</th>\n",
       "      <td>2018-09-20</td>\n",
       "      <td>1728846800780188</td>\n",
       "      <td>578472001</td>\n",
       "      <td>0.032525</td>\n",
       "      <td>2</td>\n",
       "      <td>0</td>\n",
       "      <td>37340</td>\n",
       "      <td>38</td>\n",
       "      <td>18291</td>\n",
       "    </tr>\n",
       "    <tr>\n",
       "      <th>2</th>\n",
       "      <td>2018-09-20</td>\n",
       "      <td>2076973761519164</td>\n",
       "      <td>661795002</td>\n",
       "      <td>0.167797</td>\n",
       "      <td>2</td>\n",
       "      <td>0</td>\n",
       "      <td>43993</td>\n",
       "      <td>38</td>\n",
       "      <td>39546</td>\n",
       "    </tr>\n",
       "    <tr>\n",
       "      <th>3</th>\n",
       "      <td>2018-09-20</td>\n",
       "      <td>2076973761519164</td>\n",
       "      <td>684080003</td>\n",
       "      <td>0.101678</td>\n",
       "      <td>2</td>\n",
       "      <td>0</td>\n",
       "      <td>1768</td>\n",
       "      <td>6</td>\n",
       "      <td>45748</td>\n",
       "    </tr>\n",
       "    <tr>\n",
       "      <th>4</th>\n",
       "      <td>2018-09-20</td>\n",
       "      <td>2918879973994241</td>\n",
       "      <td>662980001</td>\n",
       "      <td>0.033881</td>\n",
       "      <td>1</td>\n",
       "      <td>0</td>\n",
       "      <td>2110</td>\n",
       "      <td>2</td>\n",
       "      <td>39897</td>\n",
       "    </tr>\n",
       "  </tbody>\n",
       "</table>\n",
       "</div>"
      ],
      "text/plain": [
       "       t_dat       customer_id  article_id     price  sales_channel_id  week  \\\n",
       "0 2018-09-20  1728846800780188   519773001  0.028458                 2     0   \n",
       "1 2018-09-20  1728846800780188   578472001  0.032525                 2     0   \n",
       "2 2018-09-20  2076973761519164   661795002  0.167797                 2     0   \n",
       "3 2018-09-20  2076973761519164   684080003  0.101678                 2     0   \n",
       "4 2018-09-20  2918879973994241   662980001  0.033881                 1     0   \n",
       "\n",
       "   prod_name  product_type_name  article_id_mapped  \n",
       "0       7147                 17               8050  \n",
       "1      37340                 38              18291  \n",
       "2      43993                 38              39546  \n",
       "3       1768                  6              45748  \n",
       "4       2110                  2              39897  "
      ]
     },
     "execution_count": 27,
     "metadata": {},
     "output_type": "execute_result"
    }
   ],
   "source": [
    "# Double checking the transactions\n",
    "transactions.head()"
   ]
  },
  {
   "cell_type": "code",
   "execution_count": 28,
   "metadata": {
    "ExecuteTime": {
     "end_time": "2023-11-18T16:03:00.350668500Z",
     "start_time": "2023-11-18T16:02:35.170346700Z"
    },
    "collapsed": false
   },
   "outputs": [],
   "source": [
    "# Sort the dataframe by \"customer_id\" and \"t_dat\" in descending order\n",
    "df = transactions.sort_values(by=['customer_id', 't_dat'], ascending=[True, True])\n",
    "\n",
    "# Group by \"customer_id\" and get the last 12 transactions for each customer\n",
    "df_grouped = df.groupby('customer_id')['article_id_mapped' if SEQUENCE_COLUMN == \"article_id\" else SEQUENCE_COLUMN].apply(list)\n",
    "transactions_filtered = pd.DataFrame({\"customer_id\": df_grouped.index, \"sequence\": df_grouped.apply(lambda x: x[-12:])})"
   ]
  },
  {
   "cell_type": "code",
   "execution_count": 29,
   "metadata": {
    "ExecuteTime": {
     "end_time": "2023-11-18T16:03:00.867631700Z",
     "start_time": "2023-11-18T16:03:00.350668500Z"
    },
    "collapsed": false
   },
   "outputs": [],
   "source": [
    "# Convert customer ids to integers\n",
    "customer_ids = sub.customer_id.apply(hex_id_to_int).tolist()"
   ]
  },
  {
   "cell_type": "code",
   "execution_count": 30,
   "metadata": {
    "ExecuteTime": {
     "end_time": "2023-11-18T16:03:01.305242600Z",
     "start_time": "2023-11-18T16:03:00.867631700Z"
    },
    "collapsed": false
   },
   "outputs": [],
   "source": [
    "# Find missing customers if any\n",
    "missing_customer_ids = list(set(customer_ids).difference(set(transactions_filtered.customer_id)))"
   ]
  },
  {
   "cell_type": "code",
   "execution_count": 31,
   "metadata": {
    "ExecuteTime": {
     "end_time": "2023-11-18T16:03:01.343808Z",
     "start_time": "2023-11-18T16:03:01.305242600Z"
    },
    "collapsed": false
   },
   "outputs": [],
   "source": [
    "# Create a new dataframe with the missing customer_ids and an empty list as the sequence\n",
    "df_missing = pd.DataFrame({\n",
    "  'customer_id': missing_customer_ids,\n",
    "  'sequence': [[] for _ in range(len(missing_customer_ids))]\n",
    "})\n",
    "\n",
    "# Concatenate df_result and df_missing\n",
    "transactions_filtered = pd.concat([transactions_filtered, df_missing])"
   ]
  },
  {
   "cell_type": "code",
   "execution_count": 32,
   "metadata": {
    "ExecuteTime": {
     "end_time": "2023-11-18T16:03:01.888163800Z",
     "start_time": "2023-11-18T16:03:01.344807300Z"
    },
    "collapsed": false
   },
   "outputs": [],
   "source": [
    "# Sorting based on customer_ids in submission\n",
    "transactions_df = transactions_filtered.copy()\n",
    "transactions_df['customer_id'] = pd.Categorical(transactions_df['customer_id'], categories=customer_ids, ordered=True)\n",
    "transactions_df_sorted = transactions_df.sort_values(\"customer_id\")"
   ]
  },
  {
   "cell_type": "code",
   "execution_count": 33,
   "metadata": {
    "ExecuteTime": {
     "end_time": "2023-11-18T16:03:43.167978100Z",
     "start_time": "2023-11-18T16:03:43.152727500Z"
    },
    "collapsed": false
   },
   "outputs": [
    {
     "data": {
      "text/html": [
       "<div>\n",
       "<style scoped>\n",
       "    .dataframe tbody tr th:only-of-type {\n",
       "        vertical-align: middle;\n",
       "    }\n",
       "\n",
       "    .dataframe tbody tr th {\n",
       "        vertical-align: top;\n",
       "    }\n",
       "\n",
       "    .dataframe thead th {\n",
       "        text-align: right;\n",
       "    }\n",
       "</style>\n",
       "<table border=\"1\" class=\"dataframe\">\n",
       "  <thead>\n",
       "    <tr style=\"text-align: right;\">\n",
       "      <th></th>\n",
       "      <th>customer_id</th>\n",
       "      <th>sequence</th>\n",
       "    </tr>\n",
       "  </thead>\n",
       "  <tbody>\n",
       "    <tr>\n",
       "      <th>6.883939e+18</th>\n",
       "      <td>6883939031699146327</td>\n",
       "      <td>[25, 25, 4, 45, 2, 1, 3, 4, 6, 9, 2, 25]</td>\n",
       "    </tr>\n",
       "    <tr>\n",
       "      <th>1.124633e+19</th>\n",
       "      <td>11246327431398957306</td>\n",
       "      <td>[31, 31, 31, 31, 31, 20, 20, 20, 31, 31, 20, 2]</td>\n",
       "    </tr>\n",
       "    <tr>\n",
       "      <th>1.843990e+19</th>\n",
       "      <td>18439897732908966680</td>\n",
       "      <td>[20, 2, 2, 5, 11, 0, 0, 8, 8, 2, 2, 6]</td>\n",
       "    </tr>\n",
       "    <tr>\n",
       "      <th>1.835267e+19</th>\n",
       "      <td>18352672461570950206</td>\n",
       "      <td>[13, 13]</td>\n",
       "    </tr>\n",
       "    <tr>\n",
       "      <th>1.816278e+19</th>\n",
       "      <td>18162778555210377306</td>\n",
       "      <td>[2, 31, 20, 6, 6, 56, 56, 56, 3, 64, 1, 3]</td>\n",
       "    </tr>\n",
       "    <tr>\n",
       "      <th>...</th>\n",
       "      <td>...</td>\n",
       "      <td>...</td>\n",
       "    </tr>\n",
       "    <tr>\n",
       "      <th>7.551062e+18</th>\n",
       "      <td>7551062398649767985</td>\n",
       "      <td>[10, 20, 24, 47, 31, 13, 26, 15, 4, 3, 3, 10]</td>\n",
       "    </tr>\n",
       "    <tr>\n",
       "      <th>9.305342e+18</th>\n",
       "      <td>9305341941720086711</td>\n",
       "      <td>[34, 50, 31, 20, 15, 3, 3, 30, 3, 30, 9, 8]</td>\n",
       "    </tr>\n",
       "    <tr>\n",
       "      <th>1.016043e+19</th>\n",
       "      <td>10160427316885688932</td>\n",
       "      <td>[17, 0, 40, 40, 40, 0, 3, 2, 8, 1, 2, 8]</td>\n",
       "    </tr>\n",
       "    <tr>\n",
       "      <th>2.551401e+18</th>\n",
       "      <td>2551401172826382186</td>\n",
       "      <td>[10, 24, 0, 1, 3, 1, 10]</td>\n",
       "    </tr>\n",
       "    <tr>\n",
       "      <th>1.692995e+19</th>\n",
       "      <td>16929951892735599169</td>\n",
       "      <td>[27]</td>\n",
       "    </tr>\n",
       "  </tbody>\n",
       "</table>\n",
       "<p>1371980 rows × 2 columns</p>\n",
       "</div>"
      ],
      "text/plain": [
       "                       customer_id  \\\n",
       "6.883939e+18   6883939031699146327   \n",
       "1.124633e+19  11246327431398957306   \n",
       "1.843990e+19  18439897732908966680   \n",
       "1.835267e+19  18352672461570950206   \n",
       "1.816278e+19  18162778555210377306   \n",
       "...                            ...   \n",
       "7.551062e+18   7551062398649767985   \n",
       "9.305342e+18   9305341941720086711   \n",
       "1.016043e+19  10160427316885688932   \n",
       "2.551401e+18   2551401172826382186   \n",
       "1.692995e+19  16929951892735599169   \n",
       "\n",
       "                                                     sequence  \n",
       "6.883939e+18         [25, 25, 4, 45, 2, 1, 3, 4, 6, 9, 2, 25]  \n",
       "1.124633e+19  [31, 31, 31, 31, 31, 20, 20, 20, 31, 31, 20, 2]  \n",
       "1.843990e+19           [20, 2, 2, 5, 11, 0, 0, 8, 8, 2, 2, 6]  \n",
       "1.835267e+19                                         [13, 13]  \n",
       "1.816278e+19       [2, 31, 20, 6, 6, 56, 56, 56, 3, 64, 1, 3]  \n",
       "...                                                       ...  \n",
       "7.551062e+18    [10, 20, 24, 47, 31, 13, 26, 15, 4, 3, 3, 10]  \n",
       "9.305342e+18      [34, 50, 31, 20, 15, 3, 3, 30, 3, 30, 9, 8]  \n",
       "1.016043e+19         [17, 0, 40, 40, 40, 0, 3, 2, 8, 1, 2, 8]  \n",
       "2.551401e+18                         [10, 24, 0, 1, 3, 1, 10]  \n",
       "1.692995e+19                                             [27]  \n",
       "\n",
       "[1371980 rows x 2 columns]"
      ]
     },
     "execution_count": 33,
     "metadata": {},
     "output_type": "execute_result"
    }
   ],
   "source": [
    "transactions_df_sorted"
   ]
  },
  {
   "cell_type": "code",
   "execution_count": 34,
   "metadata": {
    "collapsed": false,
    "is_executing": true
   },
   "outputs": [],
   "source": [
    "history_dataset = HistoryDataset(transactions_df_sorted.sequence.tolist())\n",
    "history_dataloader = DataLoader(history_dataset, batch_size=BATCH_SIZE, shuffle=False)"
   ]
  },
  {
   "cell_type": "code",
   "execution_count": 35,
   "metadata": {},
   "outputs": [],
   "source": [
    "if SEQUENCE_COLUMN != \"article_id\":\n",
    "    articles_from_column = transactions.groupby(SEQUENCE_COLUMN)[\"article_id\"].value_counts()\n",
    "    articles_from_column = articles_from_column.groupby(level=0).apply(lambda x: x.index.get_level_values(1).tolist()).to_dict()\n",
    "    \n",
    "    # If the model predicts the padding value then we simply use one of the most sold articles instead\n",
    "    articles_from_column[PADDING_ARTICLE] = transactions[\"article_id\"].value_counts().nlargest(12).index.tolist()\n",
    "else:\n",
    "    most_popular = transactions[\"article_id\"].value_counts().nlargest(12).index.tolist()"
   ]
  },
  {
   "cell_type": "code",
   "execution_count": 36,
   "metadata": {
    "collapsed": false,
    "is_executing": true
   },
   "outputs": [
    {
     "name": "stderr",
     "output_type": "stream",
     "text": [
      "100%|██████████| 10719/10719 [04:21<00:00, 40.96it/s]\n"
     ]
    }
   ],
   "source": [
    "preds = []\n",
    "counter = 0\n",
    "history_batches = []\n",
    "history_batch = []\n",
    "\n",
    "for idx, batch in enumerate(tqdm(history_dataloader)):\n",
    "    batch = batch.to(device)\n",
    "    \n",
    "    for i in range(12):\n",
    "        # Pass padded batches to the model\n",
    "        with torch.no_grad():\n",
    "            out = model(batch[:, -12:])\n",
    "\n",
    "            # random prediction sample based on probabilities\n",
    "            out = sample_lstm(out, temperature=0.15)\n",
    "\n",
    "        # Append model's output to each sequence in the batch\n",
    "        batch = torch.cat((batch, out), dim=1)\n",
    "    for i in range(batch.shape[0]):\n",
    "        # Make actual predictions if column is not article_id\n",
    "        customer_col_preds = batch[i, -12:].tolist()\n",
    "        if SEQUENCE_COLUMN != \"article_id\":\n",
    "            customer_preds = process_predictions(customer_col_preds, articles_from_column, PADDING_ARTICLE)\n",
    "            preds.append(customer_preds)\n",
    "        else:\n",
    "            preds.append(process_mapped_predictions(batch[i, -12:].tolist(), inverse_article_id_map, most_popular))"
   ]
  },
  {
   "cell_type": "code",
   "execution_count": 37,
   "metadata": {
    "ExecuteTime": {
     "start_time": "2023-11-08T00:37:22.710732400Z"
    },
    "collapsed": false
   },
   "outputs": [],
   "source": [
    "import pickle\n",
    "with open(BASE_PATH + f\"rec_list.bin\", \"wb\") as f:\n",
    "    pickle.dump(preds, f)"
   ]
  },
  {
   "cell_type": "code",
   "execution_count": 38,
   "metadata": {
    "ExecuteTime": {
     "start_time": "2023-11-08T00:37:22.711733200Z"
    },
    "collapsed": false
   },
   "outputs": [],
   "source": [
    "with open(BASE_PATH + f\"rec_list.bin\", \"rb\") as f:\n",
    "    some_list = pickle.load(f)"
   ]
  },
  {
   "cell_type": "code",
   "execution_count": 39,
   "metadata": {
    "ExecuteTime": {
     "end_time": "2023-11-08T00:37:22.726754600Z",
     "start_time": "2023-11-08T00:37:22.712733100Z"
    },
    "collapsed": false
   },
   "outputs": [],
   "source": [
    "assert preds == some_list"
   ]
  },
  {
   "cell_type": "code",
   "execution_count": 40,
   "metadata": {
    "ExecuteTime": {
     "start_time": "2023-11-08T00:37:22.713733700Z"
    },
    "collapsed": false
   },
   "outputs": [
    {
     "data": {
      "text/plain": [
       "article_id\n",
       "706016001    50287\n",
       "706016002    35043\n",
       "372860001    31718\n",
       "610776002    30199\n",
       "759871002    26329\n",
       "             ...  \n",
       "390531007        1\n",
       "734529007        1\n",
       "653907001        1\n",
       "456641003        1\n",
       "880582004        1\n",
       "Name: count, Length: 104547, dtype: int64"
      ]
     },
     "execution_count": 40,
     "metadata": {},
     "output_type": "execute_result"
    }
   ],
   "source": [
    "transactions[\"article_id\"].value_counts()"
   ]
  },
  {
   "cell_type": "code",
   "execution_count": 41,
   "metadata": {
    "ExecuteTime": {
     "end_time": "2023-11-08T01:32:25.419889300Z",
     "start_time": "2023-11-08T01:32:21.863104600Z"
    },
    "collapsed": false
   },
   "outputs": [],
   "source": [
    "_preds = [' '.join(['0' + str(p) for p in ps]) for ps in preds]\n",
    "sub.prediction = _preds"
   ]
  },
  {
   "cell_type": "code",
   "execution_count": null,
   "metadata": {
    "ExecuteTime": {
     "end_time": "2023-11-08T01:33:06.418490400Z",
     "start_time": "2023-11-08T01:32:36.509053500Z"
    },
    "collapsed": false
   },
   "outputs": [],
   "source": [
    "sub_name = f'lstm_model_submission_e{optimal_epoch[SEQUENCE_COLUMN]}.csv.gz'\n",
    "sub.to_csv(BASE_PATH + sub_name, index=False)"
   ]
  }
 ],
 "metadata": {
  "kernelspec": {
   "display_name": "Python 3 (ipykernel)",
   "language": "python",
   "name": "python3"
  },
  "language_info": {
   "codemirror_mode": {
    "name": "ipython",
    "version": 3
   },
   "file_extension": ".py",
   "mimetype": "text/x-python",
   "name": "python",
   "nbconvert_exporter": "python",
   "pygments_lexer": "ipython3",
   "version": "3.11.5"
  }
 },
 "nbformat": 4,
 "nbformat_minor": 4
}
