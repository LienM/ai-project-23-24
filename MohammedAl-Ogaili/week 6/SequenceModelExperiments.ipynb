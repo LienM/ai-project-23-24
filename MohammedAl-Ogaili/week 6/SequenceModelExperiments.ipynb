{
 "cells": [
  {
   "cell_type": "code",
   "execution_count": 140,
   "metadata": {
    "ExecuteTime": {
     "end_time": "2023-11-18T16:01:27.839690200Z",
     "start_time": "2023-11-18T16:01:27.776245400Z"
    },
    "collapsed": false
   },
   "outputs": [],
   "source": [
    "import os;os.environ['CUDA_LAUNCH_BLOCKING'] = \"1\""
   ]
  },
  {
   "cell_type": "code",
   "execution_count": 141,
   "metadata": {
    "ExecuteTime": {
     "end_time": "2023-11-18T16:01:29.735280400Z",
     "start_time": "2023-11-18T16:01:27.779701200Z"
    }
   },
   "outputs": [],
   "source": [
    "import time\n",
    "import numpy as np\n",
    "import pandas as pd\n",
    "import torch\n",
    "from sklearn.model_selection import train_test_split\n",
    "from sklearn import metrics\n",
    "\n",
    "import seaborn as sns\n",
    "import torch.nn as nn\n",
    "import torch.nn.functional as F\n",
    "import torch.nn.utils.rnn as rnn\n",
    "from torch.utils.data import DataLoader, TensorDataset, Dataset"
   ]
  },
  {
   "cell_type": "code",
   "execution_count": 142,
   "metadata": {
    "ExecuteTime": {
     "end_time": "2023-11-18T16:01:29.735280400Z",
     "start_time": "2023-11-18T16:01:29.731574400Z"
    }
   },
   "outputs": [],
   "source": [
    "SEED = 20193575"
   ]
  },
  {
   "cell_type": "code",
   "execution_count": 143,
   "metadata": {
    "ExecuteTime": {
     "end_time": "2023-11-18T16:01:29.755887900Z",
     "start_time": "2023-11-18T16:01:29.734280300Z"
    }
   },
   "outputs": [],
   "source": [
    "np.random.seed(SEED)\n",
    "torch.manual_seed(SEED)\n",
    "device = torch.device(\"cuda\" if torch.cuda.is_available() else \"cpu\")"
   ]
  },
  {
   "cell_type": "code",
   "execution_count": 144,
   "metadata": {
    "ExecuteTime": {
     "end_time": "2023-11-18T16:01:32.571811400Z",
     "start_time": "2023-11-18T16:01:29.756887600Z"
    }
   },
   "outputs": [],
   "source": [
    "articles = pd.read_parquet('../data/articles.parquet')\n",
    "customers = pd.read_parquet('../data/customers.parquet')\n",
    "transactions = pd.read_parquet('../data/transactions_train.parquet')\n",
    "sample_submission = pd.read_csv('../data/sample_submission.csv')"
   ]
  },
  {
   "cell_type": "markdown",
   "metadata": {},
   "source": [
    "# Simple preprocessing"
   ]
  },
  {
   "cell_type": "code",
   "execution_count": 145,
   "metadata": {
    "ExecuteTime": {
     "end_time": "2023-11-18T16:01:33.865976200Z",
     "start_time": "2023-11-18T16:01:32.572814700Z"
    }
   },
   "outputs": [],
   "source": [
    "article_id_map = {original: (idx + 1) for idx, original in enumerate(articles[\"article_id\"].unique())}\n",
    "inverse_article_id_map = {(idx + 1): original for idx, original in enumerate(articles[\"article_id\"].unique())}\n",
    "articles[\"article_id_mapped\"] = articles[\"article_id\"].map(article_id_map)\n",
    "transactions[\"article_id_mapped\"] = transactions[\"article_id\"].map(article_id_map)"
   ]
  },
  {
   "cell_type": "code",
   "execution_count": 146,
   "metadata": {
    "ExecuteTime": {
     "end_time": "2023-11-18T16:01:33.894010800Z",
     "start_time": "2023-11-18T16:01:33.866976700Z"
    }
   },
   "outputs": [
    {
     "data": {
      "text/plain": [
       "article_id                      105542\n",
       "product_code                     47224\n",
       "prod_name                        45875\n",
       "product_type_no                    132\n",
       "product_type_name                  131\n",
       "product_group_name                  19\n",
       "graphical_appearance_no             30\n",
       "graphical_appearance_name           30\n",
       "colour_group_code                   50\n",
       "colour_group_name                   50\n",
       "perceived_colour_value_id            8\n",
       "perceived_colour_value_name          8\n",
       "perceived_colour_master_id          20\n",
       "perceived_colour_master_name        20\n",
       "department_no                      299\n",
       "department_name                    250\n",
       "index_code                          10\n",
       "index_name                          10\n",
       "index_group_no                       5\n",
       "index_group_name                     5\n",
       "section_no                          57\n",
       "section_name                        56\n",
       "garment_group_no                    21\n",
       "garment_group_name                  21\n",
       "detail_desc                      43405\n",
       "article_id_mapped               105542\n",
       "dtype: int64"
      ]
     },
     "execution_count": 146,
     "metadata": {},
     "output_type": "execute_result"
    }
   ],
   "source": [
    "articles.nunique()"
   ]
  },
  {
   "cell_type": "markdown",
   "metadata": {},
   "source": [
    "## Model definition"
   ]
  },
  {
   "cell_type": "code",
   "execution_count": 147,
   "metadata": {
    "ExecuteTime": {
     "end_time": "2023-11-18T16:01:33.899874300Z",
     "start_time": "2023-11-18T16:01:33.892009400Z"
    }
   },
   "outputs": [],
   "source": [
    "class LSTMRecommender(nn.Module):\n",
    "    def __init__(self, embedding_dim, input_dim, hidden_dim, n_articles, num_layers=2, bidirectional=True, dropout=0.2):\n",
    "        super().__init__()\n",
    "        self.input_dim = input_dim\n",
    "        self.hidden_dim = hidden_dim\n",
    "        self.n_articles = n_articles\n",
    "        self.n_directions = 2 if bidirectional else 1\n",
    "        self.num_layers = num_layers\n",
    "\n",
    "        # Embedding articles to a lower dimension\n",
    "        self.embedding = nn.Embedding(n_articles, embedding_dim)\n",
    "        self.lstm = nn.LSTM(embedding_dim, hidden_dim, num_layers=num_layers, batch_first=True, bidirectional=bidirectional)\n",
    "        self.fc = nn.Linear(hidden_dim * num_layers, n_articles)\n",
    "        self.dropout = nn.Dropout(dropout)\n",
    "\n",
    "    def forward(self, x):\n",
    "        h0 = torch.zeros(self.n_directions * self.num_layers, x.size(0), self.hidden_dim, requires_grad=True, device=device)\n",
    "        c0 = torch.zeros(self.n_directions * self.num_layers, x.size(0), self.hidden_dim, requires_grad=True, device=device)\n",
    "        # Embed\n",
    "        embedded_sequence = self.embedding(x)\n",
    "        # Forward propagate LSTM\n",
    "        out, (hn, cn) = self.lstm(embedded_sequence, (h0.detach(), c0.detach()))\n",
    "        # Dropout\n",
    "        out = self.dropout(out)\n",
    "        # Decode hidden state of last time step\n",
    "        out = self.fc(out[:, -1, :])\n",
    "        return out\n",
    "        # out = F.softmax(out, dim=1)\n",
    "        # return torch.max(out, dim=1)[1]"
   ]
  },
  {
   "cell_type": "markdown",
   "metadata": {},
   "source": [
    "## Training"
   ]
  },
  {
   "cell_type": "code",
   "execution_count": 148,
   "metadata": {
    "ExecuteTime": {
     "end_time": "2023-11-18T16:01:36.406481700Z",
     "start_time": "2023-11-18T16:01:33.898874200Z"
    }
   },
   "outputs": [],
   "source": [
    "# Split 80/20 on customer id\n",
    "train_customers, val_customers = train_test_split(transactions.customer_id.unique(), test_size=0.2, random_state=SEED)\n",
    "training_transactions_df = transactions[transactions.customer_id.isin(train_customers)]\n",
    "validation_transactions_df = transactions[transactions.customer_id.isin(val_customers)]"
   ]
  },
  {
   "cell_type": "code",
   "execution_count": 149,
   "metadata": {
    "ExecuteTime": {
     "end_time": "2023-11-18T16:01:36.409939800Z",
     "start_time": "2023-11-18T16:01:36.407480900Z"
    }
   },
   "outputs": [],
   "source": [
    "N_TRAINING_WEEKS = 5\n",
    "MAX_WEEK = 105"
   ]
  },
  {
   "cell_type": "code",
   "execution_count": 150,
   "metadata": {
    "ExecuteTime": {
     "end_time": "2023-11-18T16:01:36.424677800Z",
     "start_time": "2023-11-18T16:01:36.409939800Z"
    },
    "collapsed": false
   },
   "outputs": [],
   "source": [
    "def filter_transactions_by_weeks(transactions):\n",
    "    _transactions = transactions[\"customer_id article_id_mapped week\".split()]\n",
    "    filtered_transactions = _transactions[_transactions.week.between(MAX_WEEK - N_TRAINING_WEEKS, MAX_WEEK - 1)]\n",
    "    filtered_transactions = filtered_transactions.groupby(\"customer_id\")[\"article_id_mapped\"].apply(list).reset_index(name=\"history\")\n",
    "    return filtered_transactions"
   ]
  },
  {
   "cell_type": "code",
   "execution_count": 151,
   "metadata": {
    "ExecuteTime": {
     "end_time": "2023-11-18T16:01:39.078819600Z",
     "start_time": "2023-11-18T16:01:36.425676900Z"
    }
   },
   "outputs": [],
   "source": [
    "training_transactions = filter_transactions_by_weeks(training_transactions_df)"
   ]
  },
  {
   "cell_type": "code",
   "execution_count": 152,
   "metadata": {
    "ExecuteTime": {
     "end_time": "2023-11-18T16:01:39.682684300Z",
     "start_time": "2023-11-18T16:01:39.079820900Z"
    },
    "collapsed": false
   },
   "outputs": [],
   "source": [
    "validation_transactions = filter_transactions_by_weeks(validation_transactions_df)"
   ]
  },
  {
   "cell_type": "code",
   "execution_count": 153,
   "metadata": {
    "ExecuteTime": {
     "end_time": "2023-11-18T16:01:40.664591700Z",
     "start_time": "2023-11-18T16:01:39.684684500Z"
    }
   },
   "outputs": [
    {
     "data": {
      "text/plain": [
       "count    1.362281e+06\n",
       "mean     2.333463e+01\n",
       "std      3.924225e+01\n",
       "min      1.000000e+00\n",
       "25%      3.000000e+00\n",
       "50%      9.000000e+00\n",
       "75%      2.700000e+01\n",
       "max      1.895000e+03\n",
       "Name: count, dtype: float64"
      ]
     },
     "execution_count": 153,
     "metadata": {},
     "output_type": "execute_result"
    }
   ],
   "source": [
    "transactions.customer_id.value_counts().describe()"
   ]
  },
  {
   "cell_type": "code",
   "execution_count": 154,
   "metadata": {
    "ExecuteTime": {
     "end_time": "2023-11-18T16:01:41.900947600Z",
     "start_time": "2023-11-18T16:01:40.664591700Z"
    }
   },
   "outputs": [
    {
     "data": {
      "text/plain": [
       "9.0"
      ]
     },
     "execution_count": 154,
     "metadata": {},
     "output_type": "execute_result"
    }
   ],
   "source": [
    "training_transactions_df.customer_id.value_counts().median()"
   ]
  },
  {
   "cell_type": "code",
   "execution_count": 155,
   "metadata": {
    "ExecuteTime": {
     "end_time": "2023-11-18T16:01:42.431461200Z",
     "start_time": "2023-11-18T16:01:41.899540400Z"
    }
   },
   "outputs": [],
   "source": [
    "EMBEDDING_DIM = 64\n",
    "HIDDEN_DIM = 100\n",
    "\n",
    "BATCH_SIZE = 128\n",
    "\n",
    "# Padding article added to map, actual articles start at 1\n",
    "article_id_map[-1] = 0\n",
    "PADDING_ARTICLE = 0\n",
    "\n",
    "NUM_ARTICLES_IN_SEQUENCE = 12\n",
    "N_ARTICLES = articles.article_id.nunique()\n",
    "\n",
    "model = LSTMRecommender(\n",
    "    input_dim=NUM_ARTICLES_IN_SEQUENCE,\n",
    "    embedding_dim=EMBEDDING_DIM,\n",
    "    hidden_dim=HIDDEN_DIM,\n",
    "    # Output dim is only the number of articles while n_articles is for the embedding and has to include the padding\n",
    "    n_articles=N_ARTICLES+1,\n",
    "    bidirectional=False,\n",
    "    num_layers=1,\n",
    "    dropout=0.2\n",
    "    )\n",
    "\n",
    "loss_fn = nn.CrossEntropyLoss()\n",
    "# optimizer = torch.optim.SGD(model.parameters(), lr=0.0001)\n",
    "optimizer = torch.optim.Adam(model.parameters(), lr=0.0001)"
   ]
  },
  {
   "cell_type": "code",
   "execution_count": 156,
   "metadata": {
    "ExecuteTime": {
     "end_time": "2023-11-18T16:01:42.442080600Z",
     "start_time": "2023-11-18T16:01:42.432463Z"
    }
   },
   "outputs": [
    {
     "data": {
      "text/plain": [
       "count    1.055420e+05\n",
       "mean     6.984246e+08\n",
       "std      1.284624e+08\n",
       "min      1.087750e+08\n",
       "25%      6.169925e+08\n",
       "50%      7.022130e+08\n",
       "75%      7.967030e+08\n",
       "max      9.594610e+08\n",
       "Name: article_id, dtype: float64"
      ]
     },
     "execution_count": 156,
     "metadata": {},
     "output_type": "execute_result"
    }
   ],
   "source": [
    "articles.article_id.describe()"
   ]
  },
  {
   "cell_type": "code",
   "execution_count": 157,
   "metadata": {
    "ExecuteTime": {
     "end_time": "2023-11-18T16:01:42.456433400Z",
     "start_time": "2023-11-18T16:01:42.437978700Z"
    }
   },
   "outputs": [
    {
     "data": {
      "text/plain": [
       "850685986"
      ]
     },
     "execution_count": 157,
     "metadata": {},
     "output_type": "execute_result"
    }
   ],
   "source": [
    "articles.article_id.max() - articles.article_id.min()"
   ]
  },
  {
   "cell_type": "code",
   "execution_count": 158,
   "metadata": {
    "ExecuteTime": {
     "end_time": "2023-11-18T16:01:42.469793800Z",
     "start_time": "2023-11-18T16:01:42.455434Z"
    }
   },
   "outputs": [],
   "source": [
    "class SequenceDataset(Dataset):\n",
    "   def __init__(self, sequences, targets):\n",
    "       self.sequences = sequences\n",
    "       self.targets = targets\n",
    "\n",
    "   def __len__(self):\n",
    "       return len(self.sequences)\n",
    "\n",
    "   def __getitem__(self, idx):\n",
    "       return self.sequences[idx], self.targets[idx]\n",
    "\n",
    "\n",
    "def combine_sequences(user_transactions):\n",
    "    combined_sequence_batch = []\n",
    "    combined_target_batch = []\n",
    "    \n",
    "    for idx, (customer, history) in user_transactions.iterrows():\n",
    "        history_batch, target_batch = create_batch(history)\n",
    "        if history_batch is None or target_batch is None:\n",
    "            continue\n",
    "        combined_sequence_batch.extend(history_batch)\n",
    "        combined_target_batch.extend(target_batch)\n",
    "    \n",
    "    sequence_dataset = SequenceDataset(combined_sequence_batch, combined_target_batch)\n",
    "    dataloader = DataLoader(sequence_dataset, batch_size=BATCH_SIZE, shuffle=True)\n",
    "    return dataloader\n",
    "\n",
    "\n",
    "def create_batch(history):\n",
    "    # Create batch of sequences\n",
    "    if len(history) <= 1:\n",
    "        return None, None\n",
    "    history_batch = []\n",
    "    target_batch = []\n",
    "    for i in range(1, len(history)):\n",
    "        if i < 12:\n",
    "            # Add padding to the beginning of the sequence\n",
    "            history_batch.append(torch.tensor([PADDING_ARTICLE] * (NUM_ARTICLES_IN_SEQUENCE - i) + history[:i], dtype=torch.int32))\n",
    "        else:\n",
    "            history_batch.append(torch.tensor(history[i-12:i], dtype=torch.int32))\n",
    "        target_batch.append(torch.tensor(history[i], dtype=torch.float32, requires_grad=True))\n",
    "    return history_batch, target_batch"
   ]
  },
  {
   "cell_type": "code",
   "execution_count": 159,
   "metadata": {
    "ExecuteTime": {
     "end_time": "2023-11-18T16:01:42.485764Z",
     "start_time": "2023-11-18T16:01:42.460853500Z"
    },
    "collapsed": false
   },
   "outputs": [
    {
     "data": {
      "text/html": [
       "<div>\n",
       "<style scoped>\n",
       "    .dataframe tbody tr th:only-of-type {\n",
       "        vertical-align: middle;\n",
       "    }\n",
       "\n",
       "    .dataframe tbody tr th {\n",
       "        vertical-align: top;\n",
       "    }\n",
       "\n",
       "    .dataframe thead th {\n",
       "        text-align: right;\n",
       "    }\n",
       "</style>\n",
       "<table border=\"1\" class=\"dataframe\">\n",
       "  <thead>\n",
       "    <tr style=\"text-align: right;\">\n",
       "      <th></th>\n",
       "      <th>customer_id</th>\n",
       "      <th>history</th>\n",
       "    </tr>\n",
       "  </thead>\n",
       "  <tbody>\n",
       "    <tr>\n",
       "      <th>0</th>\n",
       "      <td>116809474287335</td>\n",
       "      <td>[103797, 105274, 81604, 97235, 87175, 102762]</td>\n",
       "    </tr>\n",
       "    <tr>\n",
       "      <th>1</th>\n",
       "      <td>200292573348128</td>\n",
       "      <td>[102421]</td>\n",
       "    </tr>\n",
       "    <tr>\n",
       "      <th>2</th>\n",
       "      <td>329094189075899</td>\n",
       "      <td>[85869, 85869]</td>\n",
       "    </tr>\n",
       "    <tr>\n",
       "      <th>3</th>\n",
       "      <td>690285180337957</td>\n",
       "      <td>[103798, 103796, 103798]</td>\n",
       "    </tr>\n",
       "    <tr>\n",
       "      <th>4</th>\n",
       "      <td>745180086074610</td>\n",
       "      <td>[94675, 95031, 80903, 74854, 18611, 85677, 102...</td>\n",
       "    </tr>\n",
       "  </tbody>\n",
       "</table>\n",
       "</div>"
      ],
      "text/plain": [
       "       customer_id                                            history\n",
       "0  116809474287335      [103797, 105274, 81604, 97235, 87175, 102762]\n",
       "1  200292573348128                                           [102421]\n",
       "2  329094189075899                                     [85869, 85869]\n",
       "3  690285180337957                           [103798, 103796, 103798]\n",
       "4  745180086074610  [94675, 95031, 80903, 74854, 18611, 85677, 102..."
      ]
     },
     "execution_count": 159,
     "metadata": {},
     "output_type": "execute_result"
    }
   ],
   "source": [
    "training_transactions.head()"
   ]
  },
  {
   "cell_type": "code",
   "execution_count": 160,
   "metadata": {
    "ExecuteTime": {
     "end_time": "2023-11-18T16:01:42.487763400Z",
     "start_time": "2023-11-18T16:01:42.467793700Z"
    },
    "collapsed": false
   },
   "outputs": [],
   "source": [
    "def run_validation():\n",
    "    y_true, y_pred = [], []\n",
    "    criterion = nn.CrossEntropyLoss()\n",
    "    val_loss = 0.0\n",
    "    \n",
    "    with torch.no_grad():\n",
    "        dataloader = combine_sequences(validation_transactions)\n",
    "        for sequences, targets in dataloader:\n",
    "            sequence = sequences.to(device)\n",
    "            target = targets.to(device).long()\n",
    "            \n",
    "            # Predict\n",
    "            out = model(sequence)\n",
    "            loss = criterion(out, target)\n",
    "            val_loss += loss.item()\n",
    "\n",
    "            # Get predictions\n",
    "            predictions = torch.argmax(out, dim=1)\n",
    "            y_pred.extend(predictions.cpu().numpy())\n",
    "            y_true.extend(target.cpu().numpy())\n",
    "        \n",
    "    val_loss /= len(dataloader)\n",
    "    accuracy = metrics.accuracy_score(y_true, y_pred)\n",
    "    return accuracy, val_loss"
   ]
  },
  {
   "cell_type": "code",
   "execution_count": 47,
   "metadata": {
    "ExecuteTime": {
     "end_time": "2023-11-18T15:45:57.864590900Z",
     "start_time": "2023-11-18T15:21:26.725958300Z"
    }
   },
   "outputs": [
    {
     "name": "stdout",
     "output_type": "stream",
     "text": [
      "218069\n",
      "Training start: Sat Nov 18 18:22:08 2023\n"
     ]
    },
    {
     "name": "stdout",
     "output_type": "stream",
     "text": [
      "+-------+---------------------+-------------------+-------------------------+--------------------+----------------------+------------+\n",
      "| Epoch | Validation Accuracy | Training Accuracy |     Validation Loss     |     Epoch Loss     |     Running Loss     | Epoch Time |\n",
      "+-------+---------------------+-------------------+-------------------------+--------------------+----------------------+------------+\n",
      "| 1     | 0.3301%             | 0.2588%           | 8.9355                  | 9.1255             | 9.1255               | 56.11s     |\n",
      "| 2     | 0.7128%             | 0.4985%           | 8.8749                  | 8.8425             | 17.9680              | 56.47s     |\n",
      "| 3     | 1.1829%             | 0.9982%           | 8.8010                  | 8.7399             | 26.7079              | 56.48s     |\n",
      "| 4     | 1.8721%             | 1.6282%           | 8.7156                  | 8.6147             | 35.3226              | 55.22s     |\n",
      "| 5     | 2.7615%             | 2.5178%           | 8.6323                  | 8.4750             | 43.7977              | 56.95s     |\n",
      "| 6     | 3.7341%             | 3.5622%           | 8.5459                  | 8.3406             | 52.1383              | 56.57s     |\n",
      "| 7     | 4.3959%             | 4.4735%           | 8.4814                  | 8.2192             | 60.3575              | 57.79s     |\n",
      "| 8     | 5.0653%             | 5.2423%           | 8.4203                  | 8.1128             | 68.4702              | 56.11s     |\n",
      "| 9     | 5.5716%             | 5.8679%           | 8.3698                  | 8.0177             | 76.4880              | 56.70s     |\n",
      "| 10    | 5.9638%             | 6.4411%           | 8.3284                  | 7.9320             | 84.4200              | 55.41s     |\n",
      "| 11    | 6.3541%             | 6.9217%           | 8.2924                  | 7.8544             | 92.2744              | 56.61s     |\n",
      "| 12    | 6.6554%             | 7.3615%           | 8.2608                  | 7.7848             | 100.0592             | 55.37s     |\n",
      "| 13    | 6.9191%             | 7.7180%           | 8.2322                  | 7.7207             | 107.7799             | 56.78s     |\n",
      "| 14    | 7.1338%             | 8.0510%           | 8.2058                  | 7.6602             | 115.4401             | 55.24s     |\n",
      "| 15    | 7.3143%             | 8.3462%           | 8.1847                  | 7.6059             | 123.0461             | 57.99s     |\n",
      "| 16    | 7.4582%             | 8.5954%           | 8.1686                  | 7.5550             | 130.6010             | 56.40s     |\n",
      "| 17    | 7.6916%             | 8.8262%           | 8.1465                  | 7.5070             | 138.1080             | 55.52s     |\n",
      "| 18    | 7.7883%             | 9.0394%           | 8.1327                  | 7.4627             | 145.5707             | 55.31s     |\n",
      "| 19    | 7.8316%             | 9.2064%           | 8.1236                  | 7.4197             | 152.9905             | 55.12s     |\n",
      "| 20    | 7.9462%             | 9.4087%           | 8.1110                  | 7.3808             | 160.3713             | 55.55s     |\n",
      "| 21    | 8.0386%             | 9.5478%           | 8.1020                  | 7.3431             | 167.7144             | 55.71s     |\n",
      "| 22    | 8.1449%             | 9.6927%           | 8.0894                  | 7.3078             | 175.0222             | 55.71s     |\n",
      "| 23    | 8.1685%             | 9.8315%           | 8.0824                  | 7.2740             | 182.2962             | 58.09s     |\n",
      "| 24    | 8.1829%             | 9.9743%           | 8.0758                  | 7.2410             | 189.5373             | 56.32s     |\n",
      "| 25    | 8.2027%             | 10.0875%          | 8.0717                  | 7.2095             | 196.7468             | 57.64s     |\n",
      "| 26    | 8.2320%             | 10.2140%          | 8.0698                  | 7.1806             | 203.9273             | 56.87s     |\n",
      "| 27    | 8.2946%             | 10.2858%          | 8.0653                  | 7.1524             | 211.0797             | 56.18s     |\n",
      "| 28    | 8.3206%             | 10.3981%          | 8.0598                  | 7.1244             | 218.2042             | 57.24s     |\n",
      "| 29    | 8.3663%             | 10.5044%          | 8.0568                  | 7.0988             | 225.3029             | 57.69s     |\n",
      "| 30    | 8.3254%             | 10.5832%          | 8.0528                  | 7.0738             | 232.3767             | 56.10s     |\n",
      "| 31    | 8.3451%             | 10.6854%          | 8.0529                  | 7.0508             | 239.4275             | 58.37s     |\n",
      "| 32    | 8.3783%             | 10.7562%          | 8.0515                  | 7.0256             | 246.4531             | 57.18s     |\n",
      "| 33    | 8.4265%             | 10.8368%          | 8.0484                  | 7.0030             | 253.4560             | 57.53s     |\n",
      "| 34    | 8.3846%             | 10.9327%          | 8.0506                  | 6.9815             | 260.4376             | 58.29s     |\n",
      "| 35    | 8.3581%             | 10.9926%          | 8.0464                  | 6.9606             | 267.3982             | 56.88s     |\n",
      "| 36    | 8.4038%             | 11.0812%          | 8.0521                  | 6.9404             | 274.3386             | 55.75s     |\n",
      "| 37    | 8.4260%             | 11.1450%          | 8.0467                  | 6.9202             | 281.2588             | 57.03s     |\n",
      "| 38    | 8.3721%             | 11.2124%          | 8.0477                  | 6.9015             | 288.1602             | 55.33s     |\n",
      "| 39    | 8.3668%             | 11.2870%          | 8.0485                  | 6.8835             | 295.0438             | 56.67s     |\n",
      "| 40    | 8.4313%             | 11.3526%          | 8.0496                  | 6.8644             | 301.9081             | 55.33s     |\n",
      "| 41    | 8.4192%             | 11.4280%          | 8.0497                  | 6.8462             | 308.7543             | 56.48s     |\n",
      "| 42    | 8.3475%             | 11.4857%          | 8.0527                  | 6.8289             | 315.5832             | 56.13s     |\n",
      "| 43    | 8.3206%             | 11.5278%          | 8.0558                  | 6.8113             | 322.3946             | 57.98s     |\n",
      "| 44    | 8.3134%             | 11.6065%          | 8.0597                  | 6.7959             | 329.1905             | 54.98s     |\n",
      "| 45    | 8.2580%             | 11.6372%          | 8.0593                  | 6.7799             | 335.9704             | 56.81s     |\n",
      "| 46    | 8.2777%             | 11.7197%          | 8.0607                  | 6.7627             | 342.7331             | 55.62s     |\n",
      "| 47    | 8.3167%             | 11.7850%          | 8.0657                  | 6.7500             | 349.4830             | 55.94s     |\n",
      "| 48    | 8.2854%             | 11.8375%          | 8.0702                  | 6.7342             | 356.2173             | 56.96s     |\n",
      "| 49    | 8.2532%             | 11.8667%          | 8.0714                  | 6.7194             | 362.9366             | 56.91s     |\n",
      "| 50    | 8.2311%             | 11.9677%          | 8.0709                  | 6.7034             | 369.6400             | 55.96s     |\n",
      "Training time: 2855.32s\n"
     ]
    }
   ],
   "source": [
    "EPOCHS = 50\n",
    "\n",
    "print(len(training_transactions))\n",
    "\n",
    "start_time = time.perf_counter()\n",
    "print(\"Training start:\", time.asctime(time.localtime()))\n",
    "\n",
    "header_printed = False\n",
    "col_widths = []\n",
    "table_seperator = \"\"\n",
    "\n",
    "running_loss = 0.0\n",
    "val_losses = []\n",
    "train_losses = []\n",
    "\n",
    "model.to(device)\n",
    "dataloader = combine_sequences(training_transactions)\n",
    "len(dataloader)\n",
    "for epoch in range(EPOCHS):\n",
    "    epoch_start_time = time.perf_counter()\n",
    "    \n",
    "    training_accuracy = 0\n",
    "    epoch_loss = 0.0\n",
    "    for idx, (sequence, target) in enumerate(dataloader):\n",
    "        sequence = sequence.to(device)\n",
    "        target = target.to(device).long()\n",
    "        # Predict\n",
    "        out = model(sequence)\n",
    "        # Calculate loss\n",
    "        loss = loss_fn(\n",
    "            # torch.tensor(out, dtype=torch.float32, requires_grad=True), torch.tensor(target[0], dtype=torch.float32, requires_grad=True)\n",
    "            # out.to(torch.float32).clone().detach().requires_grad_(True), target\n",
    "            out, target\n",
    "        )\n",
    "        # Backpropagation\n",
    "        optimizer.zero_grad()\n",
    "        loss.backward()\n",
    "        optimizer.step()\n",
    "\n",
    "        # Statistics\n",
    "        predicted = torch.argmax(out, dim=1)\n",
    "        epoch_loss += loss.item()\n",
    "        training_accuracy += (predicted == target).sum().item()\n",
    "\n",
    "    epoch_loss /= len(dataloader)\n",
    "    running_loss += epoch_loss\n",
    "    training_accuracy /= len(dataloader.dataset)\n",
    "    \n",
    "    val_accuracy, val_loss = run_validation()\n",
    "    \n",
    "    train_losses.append(epoch_loss)\n",
    "    val_losses.append(float(val_loss))\n",
    "    \n",
    "    if not header_printed:\n",
    "        header_printed = True\n",
    "        header_text = \"| Epoch | Validation Accuracy | Training Accuracy |     Validation Loss     |     Epoch Loss     |     Running Loss     | Epoch Time |\"\n",
    "        col_widths = [len(s)-2 for s in header_text.split(\"|\")[1:-1]]\n",
    "        table_seperator = f\"+{'+'.join(['-' * (x + 2) for x in col_widths])}+\"\n",
    "        print(table_seperator)\n",
    "        print(header_text)\n",
    "        print(table_seperator)\n",
    "    \n",
    "    print(f\"| {str(epoch + 1):<{col_widths[0]}} | \"\n",
    "              f\"{f'{val_accuracy:.4%}':<{col_widths[1]}} | \"\n",
    "              f\"{f'{training_accuracy:.4%}':<{col_widths[2]}} | \"\n",
    "              f\"{f'{val_loss:.4f}':<{col_widths[3]}} | \"\n",
    "              f\"{f'{epoch_loss:.4f}':<{col_widths[4]}} | \"\n",
    "              f\"{f'{running_loss:.4f}':<{col_widths[5]}} | \"\n",
    "              f\"{f'{time.perf_counter() - epoch_start_time:.2f}s':<{col_widths[6]}} |\")\n",
    "    \n",
    "    torch.save(model.state_dict(), f\"./models/LSTM_Model_Epoch_{epoch + 1}.pt\")\n",
    "\n",
    "end_time = time.perf_counter()\n",
    "print(f\"Training time: {end_time - start_time:.2f}s\")"
   ]
  },
  {
   "cell_type": "markdown",
   "metadata": {
    "collapsed": false
   },
   "source": [
    "# Generate submission"
   ]
  },
  {
   "cell_type": "code",
   "execution_count": 161,
   "metadata": {
    "ExecuteTime": {
     "end_time": "2023-11-18T16:01:42.487763400Z",
     "start_time": "2023-11-18T16:01:42.471853Z"
    },
    "collapsed": false
   },
   "outputs": [],
   "source": [
    "def customer_hex_id_to_int(series):\n",
    "    return series.str[-16:].apply(hex_id_to_int)\n",
    "\n",
    "def hex_id_to_int(str):\n",
    "    return int(str[-16:], 16)"
   ]
  },
  {
   "cell_type": "code",
   "execution_count": 162,
   "metadata": {
    "ExecuteTime": {
     "end_time": "2023-11-18T16:01:44.497680500Z",
     "start_time": "2023-11-18T16:01:42.474962Z"
    },
    "collapsed": false
   },
   "outputs": [],
   "source": [
    "sub = pd.read_csv('../data/sample_submission.csv')"
   ]
  },
  {
   "cell_type": "code",
   "execution_count": 74,
   "metadata": {
    "ExecuteTime": {
     "end_time": "2023-11-18T16:02:22.848548400Z",
     "start_time": "2023-11-18T16:02:22.670128800Z"
    },
    "collapsed": false
   },
   "outputs": [],
   "source": [
    "model = LSTMRecommender(\n",
    "    input_dim=NUM_ARTICLES_IN_SEQUENCE,\n",
    "    embedding_dim=EMBEDDING_DIM,\n",
    "    hidden_dim=HIDDEN_DIM,\n",
    "    # Output dim is only the number of articles while n_articles is for the embedding and has to include the padding\n",
    "    n_articles=N_ARTICLES+1,\n",
    "    bidirectional=False,\n",
    "    num_layers=1,\n",
    "    dropout=0.2\n",
    "    )"
   ]
  },
  {
   "cell_type": "code",
   "execution_count": 163,
   "metadata": {
    "ExecuteTime": {
     "end_time": "2023-11-18T16:02:28.680832900Z",
     "start_time": "2023-11-18T16:02:26.797893300Z"
    },
    "collapsed": false
   },
   "outputs": [
    {
     "data": {
      "text/plain": [
       "LSTMRecommender(\n",
       "  (embedding): Embedding(105543, 64)\n",
       "  (lstm): LSTM(64, 100, batch_first=True)\n",
       "  (fc): Linear(in_features=100, out_features=105543, bias=True)\n",
       "  (dropout): Dropout(p=0.2, inplace=False)\n",
       ")"
      ]
     },
     "execution_count": 163,
     "metadata": {},
     "output_type": "execute_result"
    }
   ],
   "source": [
    "model.load_state_dict(torch.load(\"./models/article_id_model/LSTM_Model_Epoch_25.pt\"))\n",
    "model.to(device)"
   ]
  },
  {
   "cell_type": "code",
   "execution_count": 164,
   "metadata": {
    "ExecuteTime": {
     "end_time": "2023-11-18T16:02:30.801553700Z",
     "start_time": "2023-11-18T16:02:30.787153600Z"
    },
    "collapsed": false
   },
   "outputs": [
    {
     "data": {
      "text/html": [
       "<div>\n",
       "<style scoped>\n",
       "    .dataframe tbody tr th:only-of-type {\n",
       "        vertical-align: middle;\n",
       "    }\n",
       "\n",
       "    .dataframe tbody tr th {\n",
       "        vertical-align: top;\n",
       "    }\n",
       "\n",
       "    .dataframe thead th {\n",
       "        text-align: right;\n",
       "    }\n",
       "</style>\n",
       "<table border=\"1\" class=\"dataframe\">\n",
       "  <thead>\n",
       "    <tr style=\"text-align: right;\">\n",
       "      <th></th>\n",
       "      <th>t_dat</th>\n",
       "      <th>customer_id</th>\n",
       "      <th>article_id</th>\n",
       "      <th>price</th>\n",
       "      <th>sales_channel_id</th>\n",
       "      <th>week</th>\n",
       "      <th>article_id_mapped</th>\n",
       "    </tr>\n",
       "  </thead>\n",
       "  <tbody>\n",
       "    <tr>\n",
       "      <th>25784</th>\n",
       "      <td>2018-09-20</td>\n",
       "      <td>1728846800780188</td>\n",
       "      <td>519773001</td>\n",
       "      <td>0.028458</td>\n",
       "      <td>2</td>\n",
       "      <td>0</td>\n",
       "      <td>8050</td>\n",
       "    </tr>\n",
       "    <tr>\n",
       "      <th>25785</th>\n",
       "      <td>2018-09-20</td>\n",
       "      <td>1728846800780188</td>\n",
       "      <td>578472001</td>\n",
       "      <td>0.032525</td>\n",
       "      <td>2</td>\n",
       "      <td>0</td>\n",
       "      <td>18291</td>\n",
       "    </tr>\n",
       "    <tr>\n",
       "      <th>5389</th>\n",
       "      <td>2018-09-20</td>\n",
       "      <td>2076973761519164</td>\n",
       "      <td>661795002</td>\n",
       "      <td>0.167797</td>\n",
       "      <td>2</td>\n",
       "      <td>0</td>\n",
       "      <td>39546</td>\n",
       "    </tr>\n",
       "    <tr>\n",
       "      <th>5390</th>\n",
       "      <td>2018-09-20</td>\n",
       "      <td>2076973761519164</td>\n",
       "      <td>684080003</td>\n",
       "      <td>0.101678</td>\n",
       "      <td>2</td>\n",
       "      <td>0</td>\n",
       "      <td>45748</td>\n",
       "    </tr>\n",
       "    <tr>\n",
       "      <th>47429</th>\n",
       "      <td>2018-09-20</td>\n",
       "      <td>2918879973994241</td>\n",
       "      <td>662980001</td>\n",
       "      <td>0.033881</td>\n",
       "      <td>1</td>\n",
       "      <td>0</td>\n",
       "      <td>39897</td>\n",
       "    </tr>\n",
       "  </tbody>\n",
       "</table>\n",
       "</div>"
      ],
      "text/plain": [
       "           t_dat       customer_id  article_id     price  sales_channel_id  \\\n",
       "25784 2018-09-20  1728846800780188   519773001  0.028458                 2   \n",
       "25785 2018-09-20  1728846800780188   578472001  0.032525                 2   \n",
       "5389  2018-09-20  2076973761519164   661795002  0.167797                 2   \n",
       "5390  2018-09-20  2076973761519164   684080003  0.101678                 2   \n",
       "47429 2018-09-20  2918879973994241   662980001  0.033881                 1   \n",
       "\n",
       "       week  article_id_mapped  \n",
       "25784     0               8050  \n",
       "25785     0              18291  \n",
       "5389      0              39546  \n",
       "5390      0              45748  \n",
       "47429     0              39897  "
      ]
     },
     "execution_count": 164,
     "metadata": {},
     "output_type": "execute_result"
    }
   ],
   "source": [
    "transactions.head()"
   ]
  },
  {
   "cell_type": "code",
   "execution_count": 165,
   "metadata": {
    "ExecuteTime": {
     "end_time": "2023-11-18T16:02:32.757889700Z",
     "start_time": "2023-11-18T16:02:32.736819200Z"
    },
    "collapsed": false
   },
   "outputs": [],
   "source": [
    "class HistoryDataset(Dataset):\n",
    "    def __init__(self, history):\n",
    "        self.histories = history\n",
    "\n",
    "    def __len__(self):\n",
    "        return len(self.histories)\n",
    "\n",
    "    def __getitem__(self, idx):\n",
    "        history = self.histories[idx]\n",
    "        if len(history) < 12:\n",
    "            history = [PADDING_ARTICLE] * (NUM_ARTICLES_IN_SEQUENCE - len(history)) + history\n",
    "        return torch.tensor(history[-12:], dtype=torch.int32)"
   ]
  },
  {
   "cell_type": "code",
   "execution_count": 166,
   "metadata": {
    "ExecuteTime": {
     "end_time": "2023-11-18T16:03:00.350668500Z",
     "start_time": "2023-11-18T16:02:35.170346700Z"
    },
    "collapsed": false
   },
   "outputs": [],
   "source": [
    "# Sort the dataframe by \"customer_id\" and \"t_dat\" in descending order\n",
    "df = transactions.sort_values(by=['customer_id', 't_dat'], ascending=[True, True])\n",
    "\n",
    "# Group by \"customer_id\" and get the last 12 transactions for each customer\n",
    "df_grouped = df.groupby('customer_id')['article_id_mapped'].apply(list)\n",
    "transactions_filtered = pd.DataFrame({\"customer_id\": df_grouped.index, \"sequence\": df_grouped.apply(lambda x: x[-12:])})"
   ]
  },
  {
   "cell_type": "code",
   "execution_count": 167,
   "metadata": {
    "ExecuteTime": {
     "end_time": "2023-11-18T16:03:00.867631700Z",
     "start_time": "2023-11-18T16:03:00.350668500Z"
    },
    "collapsed": false
   },
   "outputs": [],
   "source": [
    "# Convert customer ids to integers\n",
    "customer_ids = sub.customer_id.apply(hex_id_to_int).tolist()"
   ]
  },
  {
   "cell_type": "code",
   "execution_count": 168,
   "metadata": {
    "ExecuteTime": {
     "end_time": "2023-11-18T16:03:01.305242600Z",
     "start_time": "2023-11-18T16:03:00.867631700Z"
    },
    "collapsed": false
   },
   "outputs": [],
   "source": [
    "missing_customer_ids = list(set(customer_ids).difference(set(transactions_filtered.customer_id)))"
   ]
  },
  {
   "cell_type": "code",
   "execution_count": 169,
   "metadata": {
    "ExecuteTime": {
     "end_time": "2023-11-18T16:03:01.343808Z",
     "start_time": "2023-11-18T16:03:01.305242600Z"
    },
    "collapsed": false
   },
   "outputs": [],
   "source": [
    "# Create a new dataframe with the missing customer_ids and an empty list as the sequence\n",
    "df_missing = pd.DataFrame({\n",
    "  'customer_id': missing_customer_ids,\n",
    "  'sequence': [[] for _ in range(len(missing_customer_ids))]\n",
    "})\n",
    "\n",
    "# Concatenate df_result and df_missing\n",
    "transactions_filtered = pd.concat([transactions_filtered, df_missing])"
   ]
  },
  {
   "cell_type": "code",
   "execution_count": 170,
   "metadata": {
    "ExecuteTime": {
     "end_time": "2023-11-18T16:03:01.888163800Z",
     "start_time": "2023-11-18T16:03:01.344807300Z"
    },
    "collapsed": false
   },
   "outputs": [],
   "source": [
    "# Sorting based on customer_ids in submission\n",
    "transactions_df = transactions_filtered.copy()\n",
    "transactions_df['customer_id'] = pd.Categorical(transactions_df['customer_id'], categories=customer_ids, ordered=True)\n",
    "transactions_df_sorted = transactions_df.sort_values(\"customer_id\")"
   ]
  },
  {
   "cell_type": "code",
   "execution_count": 171,
   "metadata": {
    "ExecuteTime": {
     "end_time": "2023-11-18T16:03:43.167978100Z",
     "start_time": "2023-11-18T16:03:43.152727500Z"
    },
    "collapsed": false
   },
   "outputs": [
    {
     "data": {
      "text/html": [
       "<div>\n",
       "<style scoped>\n",
       "    .dataframe tbody tr th:only-of-type {\n",
       "        vertical-align: middle;\n",
       "    }\n",
       "\n",
       "    .dataframe tbody tr th {\n",
       "        vertical-align: top;\n",
       "    }\n",
       "\n",
       "    .dataframe thead th {\n",
       "        text-align: right;\n",
       "    }\n",
       "</style>\n",
       "<table border=\"1\" class=\"dataframe\">\n",
       "  <thead>\n",
       "    <tr style=\"text-align: right;\">\n",
       "      <th></th>\n",
       "      <th>customer_id</th>\n",
       "      <th>sequence</th>\n",
       "    </tr>\n",
       "  </thead>\n",
       "  <tbody>\n",
       "    <tr>\n",
       "      <th>6.883939e+18</th>\n",
       "      <td>6883939031699146327</td>\n",
       "      <td>[79279, 79279, 76504, 49479, 76591, 83623, 900...</td>\n",
       "    </tr>\n",
       "    <tr>\n",
       "      <th>1.124633e+19</th>\n",
       "      <td>11246327431398957306</td>\n",
       "      <td>[83344, 83344, 83344, 59459, 13741, 22665, 834...</td>\n",
       "    </tr>\n",
       "    <tr>\n",
       "      <th>1.843990e+19</th>\n",
       "      <td>18439897732908966680</td>\n",
       "      <td>[1470, 60254, 60260, 93586, 91842, 67275, 6727...</td>\n",
       "    </tr>\n",
       "    <tr>\n",
       "      <th>1.835267e+19</th>\n",
       "      <td>18352672461570950206</td>\n",
       "      <td>[64526, 61176]</td>\n",
       "    </tr>\n",
       "    <tr>\n",
       "      <th>1.816278e+19</th>\n",
       "      <td>18162778555210377306</td>\n",
       "      <td>[43443, 51125, 54462, 2182, 2182, 20518, 87477...</td>\n",
       "    </tr>\n",
       "    <tr>\n",
       "      <th>...</th>\n",
       "      <td>...</td>\n",
       "      <td>...</td>\n",
       "    </tr>\n",
       "    <tr>\n",
       "      <th>7.551062e+18</th>\n",
       "      <td>7551062398649767985</td>\n",
       "      <td>[86089, 22653, 69116, 86099, 45799, 86106, 564...</td>\n",
       "    </tr>\n",
       "    <tr>\n",
       "      <th>9.305342e+18</th>\n",
       "      <td>9305341941720086711</td>\n",
       "      <td>[7193, 89051, 92636, 92643, 81335, 41294, 4645...</td>\n",
       "    </tr>\n",
       "    <tr>\n",
       "      <th>1.016043e+19</th>\n",
       "      <td>10160427316885688932</td>\n",
       "      <td>[69226, 53894, 84735, 16535, 16535, 32744, 889...</td>\n",
       "    </tr>\n",
       "    <tr>\n",
       "      <th>2.551401e+18</th>\n",
       "      <td>2551401172826382186</td>\n",
       "      <td>[85873, 81752, 56695, 95507, 89865, 95507, 99150]</td>\n",
       "    </tr>\n",
       "    <tr>\n",
       "      <th>1.692995e+19</th>\n",
       "      <td>16929951892735599169</td>\n",
       "      <td>[81595]</td>\n",
       "    </tr>\n",
       "  </tbody>\n",
       "</table>\n",
       "<p>1371980 rows × 2 columns</p>\n",
       "</div>"
      ],
      "text/plain": [
       "                       customer_id  \\\n",
       "6.883939e+18   6883939031699146327   \n",
       "1.124633e+19  11246327431398957306   \n",
       "1.843990e+19  18439897732908966680   \n",
       "1.835267e+19  18352672461570950206   \n",
       "1.816278e+19  18162778555210377306   \n",
       "...                            ...   \n",
       "7.551062e+18   7551062398649767985   \n",
       "9.305342e+18   9305341941720086711   \n",
       "1.016043e+19  10160427316885688932   \n",
       "2.551401e+18   2551401172826382186   \n",
       "1.692995e+19  16929951892735599169   \n",
       "\n",
       "                                                       sequence  \n",
       "6.883939e+18  [79279, 79279, 76504, 49479, 76591, 83623, 900...  \n",
       "1.124633e+19  [83344, 83344, 83344, 59459, 13741, 22665, 834...  \n",
       "1.843990e+19  [1470, 60254, 60260, 93586, 91842, 67275, 6727...  \n",
       "1.835267e+19                                     [64526, 61176]  \n",
       "1.816278e+19  [43443, 51125, 54462, 2182, 2182, 20518, 87477...  \n",
       "...                                                         ...  \n",
       "7.551062e+18  [86089, 22653, 69116, 86099, 45799, 86106, 564...  \n",
       "9.305342e+18  [7193, 89051, 92636, 92643, 81335, 41294, 4645...  \n",
       "1.016043e+19  [69226, 53894, 84735, 16535, 16535, 32744, 889...  \n",
       "2.551401e+18  [85873, 81752, 56695, 95507, 89865, 95507, 99150]  \n",
       "1.692995e+19                                            [81595]  \n",
       "\n",
       "[1371980 rows x 2 columns]"
      ]
     },
     "execution_count": 171,
     "metadata": {},
     "output_type": "execute_result"
    }
   ],
   "source": [
    "transactions_df_sorted"
   ]
  },
  {
   "cell_type": "code",
   "execution_count": 172,
   "metadata": {
    "collapsed": false,
    "is_executing": true
   },
   "outputs": [],
   "source": [
    "history_dataset = HistoryDataset(transactions_df_sorted.sequence.tolist())\n",
    "history_dataloader = DataLoader(history_dataset, batch_size=BATCH_SIZE, shuffle=False)"
   ]
  },
  {
   "cell_type": "code",
   "execution_count": 173,
   "metadata": {},
   "outputs": [],
   "source": [
    "def sample_lstm(logits, temperature=1.0):\n",
    "    scaled = logits / temperature\n",
    "    probabilities = F.softmax(scaled, dim=1)\n",
    "    return torch.multinomial(probabilities, 1)"
   ]
  },
  {
   "cell_type": "code",
   "execution_count": 174,
   "metadata": {
    "collapsed": false,
    "is_executing": true
   },
   "outputs": [
    {
     "name": "stdout",
     "output_type": "stream",
     "text": [
      "0\n",
      "100\n",
      "200\n",
      "300\n",
      "400\n",
      "500\n",
      "600\n",
      "700\n",
      "800\n",
      "900\n",
      "1000\n",
      "1100\n",
      "1200\n",
      "1300\n",
      "1400\n",
      "1500\n",
      "1600\n",
      "1700\n",
      "1800\n",
      "1900\n",
      "2000\n",
      "2100\n",
      "2200\n",
      "2300\n",
      "2400\n",
      "2500\n",
      "2600\n",
      "2700\n",
      "2800\n",
      "2900\n",
      "3000\n",
      "3100\n",
      "3200\n",
      "3300\n",
      "3400\n",
      "3500\n",
      "3600\n",
      "3700\n",
      "3800\n",
      "3900\n",
      "4000\n",
      "4100\n",
      "4200\n",
      "4300\n",
      "4400\n",
      "4500\n",
      "4600\n",
      "4700\n",
      "4800\n",
      "4900\n",
      "5000\n",
      "5100\n",
      "5200\n",
      "5300\n",
      "5400\n",
      "5500\n",
      "5600\n",
      "5700\n",
      "5800\n",
      "5900\n",
      "6000\n",
      "6100\n",
      "6200\n",
      "6300\n",
      "6400\n",
      "6500\n",
      "6600\n",
      "6700\n",
      "6800\n",
      "6900\n",
      "7000\n",
      "7100\n",
      "7200\n",
      "7300\n",
      "7400\n",
      "7500\n",
      "7600\n",
      "7700\n",
      "7800\n",
      "7900\n",
      "8000\n",
      "8100\n",
      "8200\n",
      "8300\n",
      "8400\n",
      "8500\n",
      "8600\n",
      "8700\n",
      "8800\n",
      "8900\n",
      "9000\n",
      "9100\n",
      "9200\n",
      "9300\n",
      "9400\n",
      "9500\n",
      "9600\n",
      "9700\n",
      "9800\n",
      "9900\n",
      "10000\n",
      "10100\n",
      "10200\n",
      "10300\n",
      "10400\n",
      "10500\n",
      "10600\n",
      "10700\n"
     ]
    }
   ],
   "source": [
    "preds = []\n",
    "counter = 0\n",
    "history_batches = []\n",
    "history_batch = []\n",
    "\n",
    "for idx, batch in enumerate(history_dataloader):\n",
    "    batch = batch.to(device)\n",
    "    \n",
    "    for i in range(12):\n",
    "        # Pass padded batches to the model\n",
    "        with torch.no_grad():\n",
    "            out = model(batch[:, -12:])\n",
    "\n",
    "            # random prediction sample based on probabilities\n",
    "            out = sample_lstm(out, temperature=0.1)\n",
    "\n",
    "        # Append model's output to each transaction in the batch\n",
    "        batch = torch.cat((batch, out), dim=1)\n",
    "    for i in range(batch.shape[0]):\n",
    "        preds.append(batch[i, -12:].tolist())\n",
    "    if idx % 100 == 0:\n",
    "        print(idx)"
   ]
  },
  {
   "cell_type": "code",
   "execution_count": null,
   "metadata": {
    "ExecuteTime": {
     "start_time": "2023-11-08T00:37:22.710732400Z"
    },
    "collapsed": false
   },
   "outputs": [],
   "source": [
    "import pickle\n",
    "with open(\"rec_list.bin\", \"wb\") as f:\n",
    "    pickle.dump(preds, f)"
   ]
  },
  {
   "cell_type": "code",
   "execution_count": null,
   "metadata": {
    "ExecuteTime": {
     "start_time": "2023-11-08T00:37:22.711733200Z"
    },
    "collapsed": false
   },
   "outputs": [],
   "source": [
    "with open(\"rec_list.bin\", \"rb\") as f:\n",
    "    some_list = pickle.load(f)"
   ]
  },
  {
   "cell_type": "code",
   "execution_count": null,
   "metadata": {
    "ExecuteTime": {
     "end_time": "2023-11-08T00:37:22.726754600Z",
     "start_time": "2023-11-08T00:37:22.712733100Z"
    },
    "collapsed": false
   },
   "outputs": [],
   "source": [
    "print(len(preds), len(some_list))"
   ]
  },
  {
   "cell_type": "code",
   "execution_count": 175,
   "metadata": {
    "ExecuteTime": {
     "start_time": "2023-11-08T00:37:22.713733700Z"
    },
    "collapsed": false
   },
   "outputs": [
    {
     "data": {
      "text/plain": [
       "article_id\n",
       "706016001    50287\n",
       "706016002    35043\n",
       "372860001    31718\n",
       "610776002    30199\n",
       "759871002    26329\n",
       "             ...  \n",
       "390531007        1\n",
       "734529007        1\n",
       "653907001        1\n",
       "456641003        1\n",
       "880582004        1\n",
       "Name: count, Length: 104547, dtype: int64"
      ]
     },
     "execution_count": 175,
     "metadata": {},
     "output_type": "execute_result"
    }
   ],
   "source": [
    "transactions[\"article_id\"].value_counts()"
   ]
  },
  {
   "cell_type": "code",
   "execution_count": 176,
   "metadata": {
    "ExecuteTime": {
     "end_time": "2023-11-08T01:32:25.419889300Z",
     "start_time": "2023-11-08T01:32:21.863104600Z"
    },
    "collapsed": false
   },
   "outputs": [],
   "source": [
    "_preds = [' '.join(['0' + str(inverse_article_id_map.get(p, 706016001)) for p in ps]) for ps in preds]\n",
    "sub.prediction = _preds"
   ]
  },
  {
   "cell_type": "code",
   "execution_count": null,
   "metadata": {
    "ExecuteTime": {
     "end_time": "2023-11-08T01:33:06.418490400Z",
     "start_time": "2023-11-08T01:32:36.509053500Z"
    },
    "collapsed": false
   },
   "outputs": [],
   "source": [
    "sub_name = 'lstm_model_submission_e25_fix1_random'\n",
    "sub.to_csv(f'{sub_name}.csv.gz', index=False)"
   ]
  }
 ],
 "metadata": {
  "kernelspec": {
   "display_name": "Python 3 (ipykernel)",
   "language": "python",
   "name": "python3"
  },
  "language_info": {
   "codemirror_mode": {
    "name": "ipython",
    "version": 3
   },
   "file_extension": ".py",
   "mimetype": "text/x-python",
   "name": "python",
   "nbconvert_exporter": "python",
   "pygments_lexer": "ipython3",
   "version": "3.11.5"
  }
 },
 "nbformat": 4,
 "nbformat_minor": 4
}
