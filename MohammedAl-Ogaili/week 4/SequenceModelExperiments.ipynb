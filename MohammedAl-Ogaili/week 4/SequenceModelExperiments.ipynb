{
 "cells": [
  {
   "cell_type": "code",
   "execution_count": 1,
   "outputs": [],
   "source": [
    "import os;os.environ['CUDA_LAUNCH_BLOCKING'] = \"1\""
   ],
   "metadata": {
    "collapsed": false,
    "ExecuteTime": {
     "end_time": "2023-11-08T01:42:02.196667100Z",
     "start_time": "2023-11-08T01:42:02.120584Z"
    }
   }
  },
  {
   "cell_type": "code",
   "execution_count": 2,
   "metadata": {
    "ExecuteTime": {
     "end_time": "2023-11-08T01:42:03.914268100Z",
     "start_time": "2023-11-08T01:42:02.123145800Z"
    }
   },
   "outputs": [],
   "source": [
    "import time\n",
    "import numpy as np\n",
    "import pandas as pd\n",
    "import torch\n",
    "from sklearn.model_selection import train_test_split\n",
    "from sklearn import metrics\n",
    "\n",
    "import seaborn as sns\n",
    "import torch.nn as nn\n",
    "import torch.nn.functional as F\n",
    "import torch.nn.utils.rnn as rnn\n",
    "from torch.utils.data import DataLoader, TensorDataset, Dataset"
   ]
  },
  {
   "cell_type": "code",
   "execution_count": 3,
   "metadata": {
    "ExecuteTime": {
     "end_time": "2023-11-08T01:42:03.916292100Z",
     "start_time": "2023-11-08T01:42:03.914268100Z"
    }
   },
   "outputs": [],
   "source": [
    "SEED = 20193575"
   ]
  },
  {
   "cell_type": "code",
   "execution_count": 4,
   "metadata": {
    "ExecuteTime": {
     "end_time": "2023-11-08T01:42:03.953333Z",
     "start_time": "2023-11-08T01:42:03.916292100Z"
    }
   },
   "outputs": [],
   "source": [
    "np.random.seed(SEED)\n",
    "torch.manual_seed(SEED)\n",
    "device = torch.device(\"cuda\" if torch.cuda.is_available() else \"cpu\")"
   ]
  },
  {
   "cell_type": "code",
   "execution_count": 5,
   "metadata": {
    "ExecuteTime": {
     "end_time": "2023-11-08T01:42:06.614928600Z",
     "start_time": "2023-11-08T01:42:03.946328500Z"
    }
   },
   "outputs": [],
   "source": [
    "articles = pd.read_parquet('../data/articles.parquet')\n",
    "customers = pd.read_parquet('../data/customers.parquet')\n",
    "transactions = pd.read_parquet('../data/transactions_train.parquet')\n",
    "sample_submission = pd.read_csv('../data/sample_submission.csv')"
   ]
  },
  {
   "cell_type": "markdown",
   "metadata": {},
   "source": [
    "# Simple preprocessing"
   ]
  },
  {
   "cell_type": "code",
   "execution_count": 6,
   "metadata": {
    "ExecuteTime": {
     "end_time": "2023-11-08T01:42:08.098555400Z",
     "start_time": "2023-11-08T01:42:06.615928500Z"
    }
   },
   "outputs": [],
   "source": [
    "article_id_map = {original: (idx + 1) for idx, original in enumerate(articles[\"article_id\"].unique())}\n",
    "inverse_article_id_map = {(idx + 1): original for idx, original in enumerate(articles[\"article_id\"].unique())}\n",
    "articles[\"article_id_mapped\"] = articles[\"article_id\"].map(article_id_map)\n",
    "transactions[\"article_id_mapped\"] = transactions[\"article_id\"].map(article_id_map)"
   ]
  },
  {
   "cell_type": "code",
   "execution_count": 7,
   "metadata": {
    "ExecuteTime": {
     "end_time": "2023-11-08T01:42:08.129057100Z",
     "start_time": "2023-11-08T01:42:08.098555400Z"
    }
   },
   "outputs": [
    {
     "data": {
      "text/plain": "article_id                      105542\nproduct_code                     47224\nprod_name                        45875\nproduct_type_no                    132\nproduct_type_name                  131\nproduct_group_name                  19\ngraphical_appearance_no             30\ngraphical_appearance_name           30\ncolour_group_code                   50\ncolour_group_name                   50\nperceived_colour_value_id            8\nperceived_colour_value_name          8\nperceived_colour_master_id          20\nperceived_colour_master_name        20\ndepartment_no                      299\ndepartment_name                    250\nindex_code                          10\nindex_name                          10\nindex_group_no                       5\nindex_group_name                     5\nsection_no                          57\nsection_name                        56\ngarment_group_no                    21\ngarment_group_name                  21\ndetail_desc                      43405\narticle_id_mapped               105542\ndtype: int64"
     },
     "execution_count": 7,
     "metadata": {},
     "output_type": "execute_result"
    }
   ],
   "source": [
    "articles.nunique()"
   ]
  },
  {
   "cell_type": "markdown",
   "metadata": {},
   "source": [
    "## Model definition"
   ]
  },
  {
   "cell_type": "code",
   "execution_count": 8,
   "metadata": {
    "ExecuteTime": {
     "end_time": "2023-11-08T01:42:08.142164300Z",
     "start_time": "2023-11-08T01:42:08.127056400Z"
    }
   },
   "outputs": [],
   "source": [
    "class LSTMRecommender(nn.Module):\n",
    "    def __init__(self, embedding_dim, input_dim, hidden_dim, n_articles, num_layers=2, bidirectional=True, dropout=0.2):\n",
    "        super().__init__()\n",
    "        self.input_dim = input_dim\n",
    "        self.hidden_dim = hidden_dim\n",
    "        self.n_articles = n_articles\n",
    "        self.n_directions = 2 if bidirectional else 1\n",
    "        self.num_layers = num_layers\n",
    "\n",
    "        # Embedding articles to a lower dimension\n",
    "        self.embedding = nn.Embedding(n_articles, embedding_dim)\n",
    "        self.lstm = nn.LSTM(embedding_dim, hidden_dim, num_layers=num_layers, batch_first=True, bidirectional=bidirectional)\n",
    "        self.fc = nn.Linear(hidden_dim * num_layers, n_articles)\n",
    "        self.dropout = nn.Dropout(dropout)\n",
    "\n",
    "    def forward(self, x):\n",
    "        h0 = torch.zeros(self.n_directions * self.num_layers, x.size(0), self.hidden_dim, requires_grad=True, device=device)\n",
    "        c0 = torch.zeros(self.n_directions * self.num_layers, x.size(0), self.hidden_dim, requires_grad=True, device=device)\n",
    "        # Embed\n",
    "        embedded_sequence = self.embedding(x)\n",
    "        # Forward propagate LSTM\n",
    "        out, (hn, cn) = self.lstm(embedded_sequence, (h0.detach(), c0.detach()))\n",
    "        # Dropout\n",
    "        out = self.dropout(out)\n",
    "        # Decode hidden state of last time step\n",
    "        out = self.fc(out[:, -1, :])\n",
    "        out = F.softmax(out, dim=1)\n",
    "        return torch.max(out, dim=1)[1]"
   ]
  },
  {
   "cell_type": "markdown",
   "metadata": {},
   "source": [
    "## Training"
   ]
  },
  {
   "cell_type": "code",
   "execution_count": 9,
   "metadata": {
    "ExecuteTime": {
     "end_time": "2023-11-08T01:42:10.340302700Z",
     "start_time": "2023-11-08T01:42:08.142164300Z"
    }
   },
   "outputs": [],
   "source": [
    "# Split 80/20 on customer id\n",
    "train_customers, val_customers = train_test_split(transactions.customer_id.unique(), test_size=0.2, random_state=SEED)\n",
    "training_transactions_df = transactions[transactions.customer_id.isin(train_customers)]\n",
    "validation_transactions_df = transactions[transactions.customer_id.isin(val_customers)]"
   ]
  },
  {
   "cell_type": "code",
   "execution_count": 10,
   "metadata": {
    "ExecuteTime": {
     "end_time": "2023-11-08T01:42:10.344411700Z",
     "start_time": "2023-11-08T01:42:10.341302600Z"
    }
   },
   "outputs": [],
   "source": [
    "N_TRAINING_WEEKS = 5\n",
    "MAX_WEEK = 105"
   ]
  },
  {
   "cell_type": "code",
   "execution_count": 11,
   "outputs": [],
   "source": [
    "def filter_transactions_by_weeks(transactions):\n",
    "    _transactions = transactions[\"customer_id article_id_mapped week\".split()]\n",
    "    filtered_transactions = _transactions[_transactions.week.between(MAX_WEEK - N_TRAINING_WEEKS, MAX_WEEK - 1)]\n",
    "    filtered_transactions = filtered_transactions.groupby(\"customer_id\")[\"article_id_mapped\"].apply(list).reset_index(name=\"history\")\n",
    "    return filtered_transactions"
   ],
   "metadata": {
    "collapsed": false,
    "ExecuteTime": {
     "end_time": "2023-11-08T01:42:10.355663800Z",
     "start_time": "2023-11-08T01:42:10.344411700Z"
    }
   }
  },
  {
   "cell_type": "code",
   "execution_count": 12,
   "metadata": {
    "ExecuteTime": {
     "end_time": "2023-11-08T01:42:13.000631400Z",
     "start_time": "2023-11-08T01:42:10.349661Z"
    }
   },
   "outputs": [],
   "source": [
    "training_transactions = filter_transactions_by_weeks(training_transactions_df)"
   ]
  },
  {
   "cell_type": "code",
   "execution_count": 13,
   "outputs": [],
   "source": [
    "validation_transactions = filter_transactions_by_weeks(validation_transactions_df)"
   ],
   "metadata": {
    "collapsed": false,
    "ExecuteTime": {
     "end_time": "2023-11-08T01:42:13.613253800Z",
     "start_time": "2023-11-08T01:42:13.002629700Z"
    }
   }
  },
  {
   "cell_type": "code",
   "execution_count": 14,
   "metadata": {
    "ExecuteTime": {
     "end_time": "2023-11-08T01:42:14.670223200Z",
     "start_time": "2023-11-08T01:42:13.614254700Z"
    }
   },
   "outputs": [
    {
     "data": {
      "text/plain": "count    1.362281e+06\nmean     2.333463e+01\nstd      3.924225e+01\nmin      1.000000e+00\n25%      3.000000e+00\n50%      9.000000e+00\n75%      2.700000e+01\nmax      1.895000e+03\nName: count, dtype: float64"
     },
     "execution_count": 14,
     "metadata": {},
     "output_type": "execute_result"
    }
   ],
   "source": [
    "transactions.customer_id.value_counts().describe()"
   ]
  },
  {
   "cell_type": "code",
   "execution_count": 15,
   "metadata": {
    "ExecuteTime": {
     "end_time": "2023-11-08T01:42:15.550335700Z",
     "start_time": "2023-11-08T01:42:14.669223100Z"
    }
   },
   "outputs": [
    {
     "data": {
      "text/plain": "9.0"
     },
     "execution_count": 15,
     "metadata": {},
     "output_type": "execute_result"
    }
   ],
   "source": [
    "training_transactions_df.customer_id.value_counts().median()"
   ]
  },
  {
   "cell_type": "code",
   "execution_count": 16,
   "metadata": {
    "ExecuteTime": {
     "end_time": "2023-11-08T01:42:16.065796200Z",
     "start_time": "2023-11-08T01:42:15.549335200Z"
    }
   },
   "outputs": [],
   "source": [
    "EMBEDDING_DIM = 64\n",
    "HIDDEN_DIM = 100\n",
    "\n",
    "BATCH_SIZE = 128\n",
    "\n",
    "# Padding article added to map, actual articles start at 1\n",
    "article_id_map[-1] = 0\n",
    "PADDING_ARTICLE = 0\n",
    "\n",
    "NUM_ARTICLES_IN_SEQUENCE = 12\n",
    "N_ARTICLES = articles.article_id.nunique()\n",
    "\n",
    "model = LSTMRecommender(\n",
    "    input_dim=NUM_ARTICLES_IN_SEQUENCE,\n",
    "    embedding_dim=EMBEDDING_DIM,\n",
    "    hidden_dim=HIDDEN_DIM,\n",
    "    # Output dim is only the number of articles while n_articles is for the embedding and has to include the padding\n",
    "    n_articles=N_ARTICLES+1,\n",
    "    bidirectional=False,\n",
    "    num_layers=1,\n",
    "    dropout=0.2\n",
    "    )\n",
    "\n",
    "loss_fn = nn.MSELoss()\n",
    "# optimizer = torch.optim.SGD(model.parameters(), lr=0.0001)\n",
    "optimizer = torch.optim.Adam(model.parameters(), lr=0.0001)"
   ]
  },
  {
   "cell_type": "code",
   "execution_count": 17,
   "metadata": {
    "ExecuteTime": {
     "end_time": "2023-11-08T01:42:16.075844600Z",
     "start_time": "2023-11-08T01:42:16.066844100Z"
    }
   },
   "outputs": [
    {
     "data": {
      "text/plain": "count    1.055420e+05\nmean     6.984246e+08\nstd      1.284624e+08\nmin      1.087750e+08\n25%      6.169925e+08\n50%      7.022130e+08\n75%      7.967030e+08\nmax      9.594610e+08\nName: article_id, dtype: float64"
     },
     "execution_count": 17,
     "metadata": {},
     "output_type": "execute_result"
    }
   ],
   "source": [
    "articles.article_id.describe()"
   ]
  },
  {
   "cell_type": "code",
   "execution_count": 18,
   "metadata": {
    "ExecuteTime": {
     "end_time": "2023-11-08T01:42:16.080349Z",
     "start_time": "2023-11-08T01:42:16.072844100Z"
    }
   },
   "outputs": [
    {
     "data": {
      "text/plain": "850685986"
     },
     "execution_count": 18,
     "metadata": {},
     "output_type": "execute_result"
    }
   ],
   "source": [
    "articles.article_id.max() - articles.article_id.min()"
   ]
  },
  {
   "cell_type": "code",
   "execution_count": 19,
   "metadata": {
    "ExecuteTime": {
     "end_time": "2023-11-08T01:42:16.083171Z",
     "start_time": "2023-11-08T01:42:16.079348600Z"
    }
   },
   "outputs": [],
   "source": [
    "class SequenceDataset(Dataset):\n",
    "   def __init__(self, sequences, targets):\n",
    "       self.sequences = sequences\n",
    "       self.targets = targets\n",
    "\n",
    "   def __len__(self):\n",
    "       return len(self.sequences)\n",
    "\n",
    "   def __getitem__(self, idx):\n",
    "       return self.sequences[idx], self.targets[idx]\n",
    "\n",
    "\n",
    "def combine_sequences(user_transactions):\n",
    "    combined_sequence_batch = []\n",
    "    combined_target_batch = []\n",
    "    \n",
    "    for idx, (customer, history) in user_transactions.iterrows():\n",
    "        history_batch, target_batch = create_batch(history)\n",
    "        if history_batch is None or target_batch is None:\n",
    "            continue\n",
    "        combined_sequence_batch.extend(history_batch)\n",
    "        combined_target_batch.extend(target_batch)\n",
    "    \n",
    "    sequence_dataset = SequenceDataset(combined_sequence_batch, combined_target_batch)\n",
    "    dataloader = DataLoader(sequence_dataset, batch_size=BATCH_SIZE, shuffle=True)\n",
    "    return dataloader\n",
    "\n",
    "\n",
    "def create_batch(history):\n",
    "    # Create batch of sequences\n",
    "    if len(history) <= 1:\n",
    "        return None, None\n",
    "    history_batch = []\n",
    "    target_batch = []\n",
    "    for i in range(1, len(history)):\n",
    "        if i < 12:\n",
    "            # Add padding to the beginning of the sequence\n",
    "            history_batch.append(torch.tensor([PADDING_ARTICLE] * (NUM_ARTICLES_IN_SEQUENCE - i) + history[:i], dtype=torch.int32))\n",
    "        else:\n",
    "            history_batch.append(torch.tensor(history[i-12:i], dtype=torch.int32))\n",
    "        target_batch.append(torch.tensor(history[i], dtype=torch.float32, requires_grad=True))\n",
    "    return history_batch, target_batch"
   ]
  },
  {
   "cell_type": "code",
   "execution_count": 20,
   "outputs": [
    {
     "data": {
      "text/plain": "       customer_id                                            history\n0  116809474287335      [103797, 105274, 81604, 97235, 87175, 102762]\n1  200292573348128                                           [102421]\n2  329094189075899                                     [85869, 85869]\n3  690285180337957                           [103798, 103796, 103798]\n4  745180086074610  [94675, 95031, 80903, 74854, 18611, 85677, 102...",
      "text/html": "<div>\n<style scoped>\n    .dataframe tbody tr th:only-of-type {\n        vertical-align: middle;\n    }\n\n    .dataframe tbody tr th {\n        vertical-align: top;\n    }\n\n    .dataframe thead th {\n        text-align: right;\n    }\n</style>\n<table border=\"1\" class=\"dataframe\">\n  <thead>\n    <tr style=\"text-align: right;\">\n      <th></th>\n      <th>customer_id</th>\n      <th>history</th>\n    </tr>\n  </thead>\n  <tbody>\n    <tr>\n      <th>0</th>\n      <td>116809474287335</td>\n      <td>[103797, 105274, 81604, 97235, 87175, 102762]</td>\n    </tr>\n    <tr>\n      <th>1</th>\n      <td>200292573348128</td>\n      <td>[102421]</td>\n    </tr>\n    <tr>\n      <th>2</th>\n      <td>329094189075899</td>\n      <td>[85869, 85869]</td>\n    </tr>\n    <tr>\n      <th>3</th>\n      <td>690285180337957</td>\n      <td>[103798, 103796, 103798]</td>\n    </tr>\n    <tr>\n      <th>4</th>\n      <td>745180086074610</td>\n      <td>[94675, 95031, 80903, 74854, 18611, 85677, 102...</td>\n    </tr>\n  </tbody>\n</table>\n</div>"
     },
     "execution_count": 20,
     "metadata": {},
     "output_type": "execute_result"
    }
   ],
   "source": [
    "training_transactions.head()"
   ],
   "metadata": {
    "collapsed": false,
    "ExecuteTime": {
     "end_time": "2023-11-08T01:42:16.094250100Z",
     "start_time": "2023-11-08T01:42:16.082171400Z"
    }
   }
  },
  {
   "cell_type": "code",
   "execution_count": 21,
   "outputs": [],
   "source": [
    "def run_validation():\n",
    "    y_true, y_pred = [], []\n",
    "    criterion = nn.MSELoss()\n",
    "    val_loss = 0.0\n",
    "    \n",
    "    with torch.no_grad():\n",
    "        dataloader = combine_sequences(validation_transactions)\n",
    "        for sequences, targets in dataloader:\n",
    "            sequence = sequences.to(device)\n",
    "            target = targets.to(device)\n",
    "            \n",
    "            # Predict\n",
    "            out = model(sequence)\n",
    "            loss = criterion(out.to(torch.float32).clone().detach(), target)\n",
    "            val_loss += loss.item()\n",
    "            y_pred.extend(out.cpu().numpy())\n",
    "            y_true.extend(target.cpu().numpy())\n",
    "        \n",
    "    val_loss /= len(dataloader)\n",
    "    accuracy = metrics.accuracy_score(y_true, y_pred)\n",
    "    return accuracy, val_loss"
   ],
   "metadata": {
    "collapsed": false,
    "ExecuteTime": {
     "end_time": "2023-11-08T01:42:16.094250100Z",
     "start_time": "2023-11-08T01:42:16.090229900Z"
    }
   }
  },
  {
   "cell_type": "code",
   "execution_count": 22,
   "metadata": {
    "ExecuteTime": {
     "end_time": "2023-11-08T02:06:13.101596500Z",
     "start_time": "2023-11-08T01:42:16.093250400Z"
    }
   },
   "outputs": [
    {
     "name": "stdout",
     "output_type": "stream",
     "text": [
      "218069\n",
      "Training start: Wed Nov  8 02:42:16 2023\n",
      "+-------+---------------------+-------------------+-------------------------+--------------------+----------------------+------------+\n",
      "| Epoch | Validation Accuracy | Training Accuracy |     Validation Loss     |     Epoch Loss     |     Running Loss     | Epoch Time |\n",
      "+-------+---------------------+-------------------+-------------------------+--------------------+----------------------+------------+\n",
      "| 1     | 0.0010%             | 0.0007%           | 2450971860.7291         | 2443925412.3400    | 2443925412.3400      | 26.53s     |\n",
      "| 2     | 0.0010%             | 0.0009%           | 2454524028.5320         | 2449663098.4400    | 4893588510.7800      | 27.64s     |\n",
      "| 3     | 0.0014%             | 0.0007%           | 2453551624.2759         | 2445347007.5600    | 7338935518.3400      | 28.39s     |\n",
      "| 4     | 0.0014%             | 0.0007%           | 2448871336.3547         | 2446907938.6800    | 9785843457.0200      | 28.46s     |\n",
      "| 5     | 0.0010%             | 0.0010%           | 2453374299.9015         | 2443716935.4800    | 12229560392.5000     | 27.31s     |\n",
      "| 6     | 0.0000%             | 0.0004%           | 2451931421.6355         | 2449129384.1800    | 14678689776.6800     | 28.18s     |\n",
      "| 7     | 0.0005%             | 0.0007%           | 2445970129.8916         | 2449806335.4400    | 17128496112.1200     | 28.33s     |\n",
      "| 8     | 0.0000%             | 0.0020%           | 2447247055.2906         | 2448570386.5800    | 19577066498.7000     | 27.60s     |\n",
      "| 9     | 0.0005%             | 0.0012%           | 2453317489.3399         | 2445198196.9000    | 22022264695.6000     | 28.62s     |\n",
      "| 10    | 0.0005%             | 0.0006%           | 2448318879.2118         | 2447792112.6400    | 24470056808.2400     | 28.41s     |\n",
      "| 11    | 0.0010%             | 0.0002%           | 2452040621.0049         | 2446131692.1400    | 26916188500.3800     | 28.22s     |\n",
      "| 12    | 0.0005%             | 0.0009%           | 2444487614.0296         | 2449201891.0200    | 29365390391.4000     | 26.87s     |\n",
      "| 13    | 0.0010%             | 0.0010%           | 2445490670.4236         | 2450856530.2800    | 31816246921.6800     | 27.72s     |\n",
      "| 14    | 0.0010%             | 0.0009%           | 2446486799.2118         | 2450925411.0600    | 34267172332.7400     | 27.14s     |\n",
      "| 15    | 0.0005%             | 0.0009%           | 2446323909.1232         | 2448447739.3000    | 36715620072.0400     | 27.97s     |\n",
      "| 16    | 0.0010%             | 0.0009%           | 2454228270.8177         | 2447148403.2400    | 39162768475.2800     | 27.92s     |\n",
      "| 17    | 0.0005%             | 0.0007%           | 2451832300.8473         | 2443587405.7000    | 41606355880.9800     | 28.04s     |\n",
      "| 18    | 0.0000%             | 0.0009%           | 2454825405.1626         | 2451267816.2600    | 44057623697.2400     | 27.09s     |\n",
      "| 19    | 0.0005%             | 0.0011%           | 2453140363.6650         | 2444963649.2200    | 46502587346.4600     | 28.61s     |\n",
      "| 20    | 0.0010%             | 0.0010%           | 2444288601.2217         | 2445861687.1800    | 48948449033.6400     | 28.38s     |\n",
      "| 21    | 0.0014%             | 0.0006%           | 2457268353.8128         | 2446456109.3200    | 51394905142.9600     | 27.62s     |\n",
      "| 22    | 0.0010%             | 0.0011%           | 2451378955.3498         | 2446548393.9000    | 53841453536.8600     | 28.95s     |\n",
      "| 23    | 0.0010%             | 0.0012%           | 2452995403.6650         | 2445933501.5000    | 56287387038.3600     | 27.10s     |\n",
      "| 24    | 0.0000%             | 0.0006%           | 2441639174.8571         | 2444183742.4800    | 58731570780.8400     | 28.68s     |\n",
      "| 25    | 0.0005%             | 0.0005%           | 2454546610.9163         | 2448589200.6600    | 61180159981.5000     | 29.60s     |\n",
      "| 26    | 0.0000%             | 0.0007%           | 2451255222.3842         | 2438342530.1800    | 63618502511.6800     | 27.58s     |\n",
      "| 27    | 0.0014%             | 0.0013%           | 2444016594.8374         | 2450222972.7400    | 66068725484.4200     | 29.10s     |\n",
      "| 28    | 0.0010%             | 0.0007%           | 2452053936.7094         | 2442485917.3800    | 68511211401.8000     | 29.09s     |\n",
      "| 29    | 0.0000%             | 0.0009%           | 2447113701.6749         | 2451509666.6600    | 70962721068.4600     | 28.92s     |\n",
      "| 30    | 0.0005%             | 0.0007%           | 2447136887.8818         | 2446601986.5400    | 73409323055.0000     | 27.24s     |\n",
      "| 31    | 0.0000%             | 0.0011%           | 2443051087.9212         | 2446471255.6000    | 75855794310.6000     | 28.46s     |\n",
      "| 32    | 0.0005%             | 0.0011%           | 2457165166.2660         | 2447209953.1600    | 78303004263.7600     | 28.90s     |\n",
      "| 33    | 0.0005%             | 0.0005%           | 2452121858.5222         | 2449960692.3000    | 80752964956.0600     | 28.01s     |\n",
      "| 34    | 0.0010%             | 0.0007%           | 2446700303.9212         | 2448454669.1400    | 83201419625.2000     | 29.16s     |\n",
      "| 35    | 0.0000%             | 0.0007%           | 2454171893.6749         | 2448419811.9800    | 85649839437.1800     | 28.52s     |\n",
      "| 36    | 0.0010%             | 0.0006%           | 2445600056.9852         | 2449692614.1600    | 88099532051.3400     | 28.71s     |\n",
      "| 37    | 0.0014%             | 0.0010%           | 2446069447.0148         | 2444785618.0200    | 90544317669.3600     | 29.53s     |\n",
      "| 38    | 0.0010%             | 0.0004%           | 2454615241.8522         | 2449572758.5800    | 92993890427.9400     | 28.06s     |\n",
      "| 39    | 0.0005%             | 0.0005%           | 2454919722.6404         | 2450009685.0200    | 95443900112.9600     | 29.00s     |\n",
      "| 40    | 0.0005%             | 0.0009%           | 2446391039.6847         | 2447565980.3800    | 97891466093.3400     | 28.19s     |\n",
      "| 41    | 0.0014%             | 0.0009%           | 2453943754.2463         | 2443653914.6800    | 100335120008.0200    | 27.89s     |\n",
      "| 42    | 0.0014%             | 0.0005%           | 2470199957.6749         | 2443234241.2600    | 102778354249.2800    | 27.83s     |\n",
      "| 43    | 0.0000%             | 0.0009%           | 2452859829.0443         | 2446640557.3400    | 105224994806.6200    | 28.77s     |\n",
      "| 44    | 0.0010%             | 0.0004%           | 2440499853.0049         | 2449094545.7000    | 107674089352.3200    | 28.90s     |\n",
      "| 45    | 0.0000%             | 0.0010%           | 2447367266.5222         | 2444049081.8000    | 110118138434.1200    | 29.61s     |\n",
      "| 46    | 0.0005%             | 0.0007%           | 2445365247.6059         | 2448332152.5400    | 112566470586.6600    | 29.22s     |\n",
      "| 47    | 0.0005%             | 0.0004%           | 2451150064.7882         | 2448224016.8800    | 115014694603.5400    | 27.67s     |\n",
      "| 48    | 0.0010%             | 0.0007%           | 2442899546.6404         | 2442917680.1800    | 117457612283.7200    | 29.08s     |\n",
      "| 49    | 0.0005%             | 0.0009%           | 2446364216.4335         | 2447792966.4200    | 119905405250.1400    | 29.88s     |\n",
      "| 50    | 0.0014%             | 0.0015%           | 2452137481.8522         | 2443787033.7000    | 122349192283.8400    | 29.75s     |\n",
      "Training time: 1437.00s\n"
     ]
    }
   ],
   "source": [
    "EPOCHS = 50\n",
    "\n",
    "print(len(training_transactions))\n",
    "\n",
    "start_time = time.perf_counter()\n",
    "print(\"Training start:\", time.asctime(time.localtime()))\n",
    "\n",
    "header_printed = False\n",
    "col_widths = []\n",
    "table_seperator = \"\"\n",
    "\n",
    "running_loss = 0.0\n",
    "val_losses = []\n",
    "train_losses = []\n",
    "\n",
    "model.to(device)\n",
    "dataloader = combine_sequences(training_transactions)\n",
    "len(dataloader)\n",
    "for epoch in range(EPOCHS):\n",
    "    epoch_start_time = time.perf_counter()\n",
    "    \n",
    "    training_accuracy = 0\n",
    "    epoch_loss = 0.0\n",
    "    for idx, (sequence, target) in enumerate(dataloader):\n",
    "        sequence = sequence.to(device)\n",
    "        target = target.to(device)\n",
    "        # Predict\n",
    "        out = model(sequence)\n",
    "        # Calculate loss\n",
    "        loss = loss_fn(\n",
    "            # torch.tensor(out, dtype=torch.float32, requires_grad=True), torch.tensor(target[0], dtype=torch.float32, requires_grad=True)\n",
    "            out.to(torch.float32).clone().detach().requires_grad_(True), target\n",
    "        )\n",
    "        # Backpropagation\n",
    "        optimizer.zero_grad()\n",
    "        loss.backward()\n",
    "        optimizer.step()\n",
    "\n",
    "        # Statistics\n",
    "        epoch_loss += loss.item()\n",
    "        training_accuracy += (out == target).sum().item()\n",
    "\n",
    "    epoch_loss /= len(dataloader)\n",
    "    running_loss += epoch_loss\n",
    "    training_accuracy /= len(dataloader.dataset)\n",
    "    \n",
    "    val_accuracy, val_loss = run_validation()\n",
    "    \n",
    "    train_losses.append(epoch_loss)\n",
    "    val_losses.append(float(val_loss))\n",
    "    \n",
    "    if not header_printed:\n",
    "        header_printed = True\n",
    "        header_text = \"| Epoch | Validation Accuracy | Training Accuracy |     Validation Loss     |     Epoch Loss     |     Running Loss     | Epoch Time |\"\n",
    "        col_widths = [len(s)-2 for s in header_text.split(\"|\")[1:-1]]\n",
    "        table_seperator = f\"+{'+'.join(['-' * (x + 2) for x in col_widths])}+\"\n",
    "        print(table_seperator)\n",
    "        print(header_text)\n",
    "        print(table_seperator)\n",
    "    \n",
    "    print(f\"| {str(epoch + 1):<{col_widths[0]}} | \"\n",
    "              f\"{f'{val_accuracy:.4%}':<{col_widths[1]}} | \"\n",
    "              f\"{f'{training_accuracy:.4%}':<{col_widths[2]}} | \"\n",
    "              f\"{f'{val_loss:.4f}':<{col_widths[3]}} | \"\n",
    "              f\"{f'{epoch_loss:.4f}':<{col_widths[4]}} | \"\n",
    "              f\"{f'{running_loss:.4f}':<{col_widths[5]}} | \"\n",
    "              f\"{f'{time.perf_counter() - epoch_start_time:.2f}s':<{col_widths[6]}} |\")\n",
    "    \n",
    "    torch.save(model.state_dict(), f\"./models/LSTM_Model_Epoch_{epoch + 1}.pt\")\n",
    "\n",
    "end_time = time.perf_counter()\n",
    "print(f\"Training time: {end_time - start_time:.2f}s\")"
   ]
  },
  {
   "cell_type": "markdown",
   "source": [
    "# Generate submission"
   ],
   "metadata": {
    "collapsed": false
   }
  },
  {
   "cell_type": "code",
   "execution_count": 23,
   "outputs": [],
   "source": [
    "def customer_hex_id_to_int(series):\n",
    "    return series.str[-16:].apply(hex_id_to_int)\n",
    "\n",
    "def hex_id_to_int(str):\n",
    "    return int(str[-16:], 16)"
   ],
   "metadata": {
    "collapsed": false,
    "ExecuteTime": {
     "end_time": "2023-11-08T02:12:58.538610300Z",
     "start_time": "2023-11-08T02:12:58.516273500Z"
    }
   }
  },
  {
   "cell_type": "code",
   "execution_count": 24,
   "outputs": [],
   "source": [
    "sub = pd.read_csv('../data/sample_submission.csv')"
   ],
   "metadata": {
    "collapsed": false,
    "ExecuteTime": {
     "end_time": "2023-11-08T02:13:02.107116700Z",
     "start_time": "2023-11-08T02:12:59.783420500Z"
    }
   }
  },
  {
   "cell_type": "code",
   "execution_count": 25,
   "outputs": [],
   "source": [
    "model = LSTMRecommender(\n",
    "    input_dim=NUM_ARTICLES_IN_SEQUENCE,\n",
    "    embedding_dim=EMBEDDING_DIM,\n",
    "    hidden_dim=HIDDEN_DIM,\n",
    "    # Output dim is only the number of articles while n_articles is for the embedding and has to include the padding\n",
    "    n_articles=N_ARTICLES+1,\n",
    "    bidirectional=True,\n",
    "    dropout=0.2\n",
    "    )"
   ],
   "metadata": {
    "collapsed": false,
    "ExecuteTime": {
     "end_time": "2023-11-08T02:13:02.226086400Z",
     "start_time": "2023-11-08T02:13:02.107116700Z"
    }
   }
  },
  {
   "cell_type": "code",
   "execution_count": 27,
   "outputs": [
    {
     "data": {
      "text/plain": "LSTMRecommender(\n  (embedding): Embedding(105543, 64)\n  (lstm): LSTM(64, 100, batch_first=True)\n  (fc): Linear(in_features=100, out_features=105543, bias=True)\n  (dropout): Dropout(p=0.2, inplace=False)\n)"
     },
     "execution_count": 27,
     "metadata": {},
     "output_type": "execute_result"
    }
   ],
   "source": [
    "model.load_state_dict(torch.load(\"./models/LSTM_Model_Epoch_50.pt\"))\n",
    "model.to(device)"
   ],
   "metadata": {
    "collapsed": false,
    "ExecuteTime": {
     "end_time": "2023-11-08T02:13:39.794638600Z",
     "start_time": "2023-11-08T02:13:39.702995400Z"
    }
   }
  },
  {
   "cell_type": "code",
   "execution_count": 28,
   "outputs": [
    {
     "data": {
      "text/plain": "           t_dat       customer_id  article_id     price  sales_channel_id  \\\n25784 2018-09-20  1728846800780188   519773001  0.028458                 2   \n25785 2018-09-20  1728846800780188   578472001  0.032525                 2   \n5389  2018-09-20  2076973761519164   661795002  0.167797                 2   \n5390  2018-09-20  2076973761519164   684080003  0.101678                 2   \n47429 2018-09-20  2918879973994241   662980001  0.033881                 1   \n\n       week  article_id_mapped  \n25784     0               8050  \n25785     0              18291  \n5389      0              39546  \n5390      0              45748  \n47429     0              39897  ",
      "text/html": "<div>\n<style scoped>\n    .dataframe tbody tr th:only-of-type {\n        vertical-align: middle;\n    }\n\n    .dataframe tbody tr th {\n        vertical-align: top;\n    }\n\n    .dataframe thead th {\n        text-align: right;\n    }\n</style>\n<table border=\"1\" class=\"dataframe\">\n  <thead>\n    <tr style=\"text-align: right;\">\n      <th></th>\n      <th>t_dat</th>\n      <th>customer_id</th>\n      <th>article_id</th>\n      <th>price</th>\n      <th>sales_channel_id</th>\n      <th>week</th>\n      <th>article_id_mapped</th>\n    </tr>\n  </thead>\n  <tbody>\n    <tr>\n      <th>25784</th>\n      <td>2018-09-20</td>\n      <td>1728846800780188</td>\n      <td>519773001</td>\n      <td>0.028458</td>\n      <td>2</td>\n      <td>0</td>\n      <td>8050</td>\n    </tr>\n    <tr>\n      <th>25785</th>\n      <td>2018-09-20</td>\n      <td>1728846800780188</td>\n      <td>578472001</td>\n      <td>0.032525</td>\n      <td>2</td>\n      <td>0</td>\n      <td>18291</td>\n    </tr>\n    <tr>\n      <th>5389</th>\n      <td>2018-09-20</td>\n      <td>2076973761519164</td>\n      <td>661795002</td>\n      <td>0.167797</td>\n      <td>2</td>\n      <td>0</td>\n      <td>39546</td>\n    </tr>\n    <tr>\n      <th>5390</th>\n      <td>2018-09-20</td>\n      <td>2076973761519164</td>\n      <td>684080003</td>\n      <td>0.101678</td>\n      <td>2</td>\n      <td>0</td>\n      <td>45748</td>\n    </tr>\n    <tr>\n      <th>47429</th>\n      <td>2018-09-20</td>\n      <td>2918879973994241</td>\n      <td>662980001</td>\n      <td>0.033881</td>\n      <td>1</td>\n      <td>0</td>\n      <td>39897</td>\n    </tr>\n  </tbody>\n</table>\n</div>"
     },
     "execution_count": 28,
     "metadata": {},
     "output_type": "execute_result"
    }
   ],
   "source": [
    "transactions.head()"
   ],
   "metadata": {
    "collapsed": false,
    "ExecuteTime": {
     "end_time": "2023-11-08T02:13:48.969195100Z",
     "start_time": "2023-11-08T02:13:48.937502600Z"
    }
   }
  },
  {
   "cell_type": "code",
   "execution_count": 29,
   "outputs": [],
   "source": [
    "class HistoryDataset(Dataset):\n",
    "    def __init__(self, history):\n",
    "        self.histories = history\n",
    "\n",
    "    def __len__(self):\n",
    "        return len(self.histories)\n",
    "\n",
    "    def __getitem__(self, idx):\n",
    "        history = self.histories[idx]\n",
    "        if len(history) < 12:\n",
    "            history = [PADDING_ARTICLE] * (NUM_ARTICLES_IN_SEQUENCE - len(history)) + history\n",
    "        return torch.tensor(history[-12:], dtype=torch.int32)"
   ],
   "metadata": {
    "collapsed": false,
    "ExecuteTime": {
     "end_time": "2023-11-08T02:13:51.270704600Z",
     "start_time": "2023-11-08T02:13:51.256751500Z"
    }
   }
  },
  {
   "cell_type": "code",
   "execution_count": 30,
   "outputs": [],
   "source": [
    "# Sort the dataframe by \"customer_id\" and \"t_dat\" in descending order\n",
    "df = transactions.sort_values(by=['customer_id', 't_dat'], ascending=[True, True])\n",
    "\n",
    "# Group by \"customer_id\" and get the last 12 transactions for each customer\n",
    "df_grouped = df.groupby('customer_id')['article_id_mapped'].apply(list)\n",
    "transactions_filtered = pd.DataFrame({\"customer_id\": df_grouped.index, \"sequence\": df_grouped.apply(lambda x: x[-12:])})"
   ],
   "metadata": {
    "collapsed": false,
    "ExecuteTime": {
     "end_time": "2023-11-08T02:14:21.656455100Z",
     "start_time": "2023-11-08T02:13:53.924711100Z"
    }
   }
  },
  {
   "cell_type": "code",
   "execution_count": 31,
   "outputs": [],
   "source": [
    "# Convert customer ids to integers\n",
    "customer_ids = sub.customer_id.apply(hex_id_to_int).tolist()"
   ],
   "metadata": {
    "collapsed": false,
    "ExecuteTime": {
     "end_time": "2023-11-08T02:14:22.167570500Z",
     "start_time": "2023-11-08T02:14:21.657820600Z"
    }
   }
  },
  {
   "cell_type": "code",
   "execution_count": 32,
   "outputs": [],
   "source": [
    "missing_customer_ids = list(set(customer_ids).difference(set(transactions_filtered.customer_id)))"
   ],
   "metadata": {
    "collapsed": false,
    "ExecuteTime": {
     "end_time": "2023-11-08T02:14:22.609154Z",
     "start_time": "2023-11-08T02:14:22.167570500Z"
    }
   }
  },
  {
   "cell_type": "code",
   "execution_count": 33,
   "outputs": [],
   "source": [
    "# Create a new dataframe with the missing customer_ids and an empty list as the sequence\n",
    "df_missing = pd.DataFrame({\n",
    "  'customer_id': missing_customer_ids,\n",
    "  'sequence': [[] for _ in range(len(missing_customer_ids))]\n",
    "})\n",
    "\n",
    "# Concatenate df_result and df_missing\n",
    "transactions_filtered = pd.concat([transactions_filtered, df_missing])"
   ],
   "metadata": {
    "collapsed": false,
    "ExecuteTime": {
     "end_time": "2023-11-08T02:14:22.662253Z",
     "start_time": "2023-11-08T02:14:22.611154300Z"
    }
   }
  },
  {
   "cell_type": "code",
   "execution_count": 34,
   "outputs": [],
   "source": [
    "# Sorting based on customer_ids in submission\n",
    "transactions_df = transactions_filtered.copy()\n",
    "transactions_df['customer_id'] = pd.Categorical(transactions_df['customer_id'], categories=customer_ids, ordered=True)\n",
    "transactions_df_sorted = transactions_df.sort_values(\"customer_id\")"
   ],
   "metadata": {
    "collapsed": false,
    "ExecuteTime": {
     "end_time": "2023-11-08T02:14:23.229997Z",
     "start_time": "2023-11-08T02:14:22.662253Z"
    }
   }
  },
  {
   "cell_type": "code",
   "execution_count": 35,
   "outputs": [
    {
     "data": {
      "text/plain": "                       customer_id  \\\n6.883939e+18   6883939031699146327   \n1.124633e+19  11246327431398957306   \n1.843990e+19  18439897732908966680   \n1.835267e+19  18352672461570950206   \n1.816278e+19  18162778555210377306   \n...                            ...   \n7.551062e+18   7551062398649767985   \n9.305342e+18   9305341941720086711   \n1.016043e+19  10160427316885688932   \n2.551401e+18   2551401172826382186   \n1.692995e+19  16929951892735599169   \n\n                                                       sequence  \n6.883939e+18  [79279, 79279, 76504, 49479, 76591, 83623, 900...  \n1.124633e+19  [83344, 83344, 83344, 59459, 13741, 22665, 834...  \n1.843990e+19  [1470, 60254, 60260, 93586, 91842, 67275, 6727...  \n1.835267e+19                                     [64526, 61176]  \n1.816278e+19  [43443, 51125, 54462, 2182, 2182, 20518, 87477...  \n...                                                         ...  \n7.551062e+18  [86089, 22653, 69116, 86099, 45799, 86106, 564...  \n9.305342e+18  [7193, 89051, 92636, 92643, 81335, 41294, 4645...  \n1.016043e+19  [69226, 53894, 84735, 16535, 16535, 32744, 889...  \n2.551401e+18  [85873, 81752, 56695, 95507, 89865, 95507, 99150]  \n1.692995e+19                                            [81595]  \n\n[1371980 rows x 2 columns]",
      "text/html": "<div>\n<style scoped>\n    .dataframe tbody tr th:only-of-type {\n        vertical-align: middle;\n    }\n\n    .dataframe tbody tr th {\n        vertical-align: top;\n    }\n\n    .dataframe thead th {\n        text-align: right;\n    }\n</style>\n<table border=\"1\" class=\"dataframe\">\n  <thead>\n    <tr style=\"text-align: right;\">\n      <th></th>\n      <th>customer_id</th>\n      <th>sequence</th>\n    </tr>\n  </thead>\n  <tbody>\n    <tr>\n      <th>6.883939e+18</th>\n      <td>6883939031699146327</td>\n      <td>[79279, 79279, 76504, 49479, 76591, 83623, 900...</td>\n    </tr>\n    <tr>\n      <th>1.124633e+19</th>\n      <td>11246327431398957306</td>\n      <td>[83344, 83344, 83344, 59459, 13741, 22665, 834...</td>\n    </tr>\n    <tr>\n      <th>1.843990e+19</th>\n      <td>18439897732908966680</td>\n      <td>[1470, 60254, 60260, 93586, 91842, 67275, 6727...</td>\n    </tr>\n    <tr>\n      <th>1.835267e+19</th>\n      <td>18352672461570950206</td>\n      <td>[64526, 61176]</td>\n    </tr>\n    <tr>\n      <th>1.816278e+19</th>\n      <td>18162778555210377306</td>\n      <td>[43443, 51125, 54462, 2182, 2182, 20518, 87477...</td>\n    </tr>\n    <tr>\n      <th>...</th>\n      <td>...</td>\n      <td>...</td>\n    </tr>\n    <tr>\n      <th>7.551062e+18</th>\n      <td>7551062398649767985</td>\n      <td>[86089, 22653, 69116, 86099, 45799, 86106, 564...</td>\n    </tr>\n    <tr>\n      <th>9.305342e+18</th>\n      <td>9305341941720086711</td>\n      <td>[7193, 89051, 92636, 92643, 81335, 41294, 4645...</td>\n    </tr>\n    <tr>\n      <th>1.016043e+19</th>\n      <td>10160427316885688932</td>\n      <td>[69226, 53894, 84735, 16535, 16535, 32744, 889...</td>\n    </tr>\n    <tr>\n      <th>2.551401e+18</th>\n      <td>2551401172826382186</td>\n      <td>[85873, 81752, 56695, 95507, 89865, 95507, 99150]</td>\n    </tr>\n    <tr>\n      <th>1.692995e+19</th>\n      <td>16929951892735599169</td>\n      <td>[81595]</td>\n    </tr>\n  </tbody>\n</table>\n<p>1371980 rows × 2 columns</p>\n</div>"
     },
     "execution_count": 35,
     "metadata": {},
     "output_type": "execute_result"
    }
   ],
   "source": [
    "transactions_df_sorted"
   ],
   "metadata": {
    "collapsed": false,
    "ExecuteTime": {
     "end_time": "2023-11-08T02:14:23.267572Z",
     "start_time": "2023-11-08T02:14:23.230997100Z"
    }
   }
  },
  {
   "cell_type": "code",
   "execution_count": 36,
   "outputs": [],
   "source": [
    "history_dataset = HistoryDataset(transactions_df_sorted.sequence.tolist())\n",
    "history_dataloader = DataLoader(history_dataset, batch_size=BATCH_SIZE, shuffle=False)"
   ],
   "metadata": {
    "collapsed": false,
    "ExecuteTime": {
     "end_time": "2023-11-08T02:14:23.291654800Z",
     "start_time": "2023-11-08T02:14:23.264059100Z"
    }
   }
  },
  {
   "cell_type": "code",
   "execution_count": 37,
   "outputs": [
    {
     "name": "stdout",
     "output_type": "stream",
     "text": [
      "0\n",
      "100\n",
      "200\n",
      "300\n",
      "400\n",
      "500\n",
      "600\n",
      "700\n",
      "800\n",
      "900\n",
      "1000\n",
      "1100\n",
      "1200\n",
      "1300\n",
      "1400\n",
      "1500\n",
      "1600\n",
      "1700\n",
      "1800\n",
      "1900\n",
      "2000\n",
      "2100\n",
      "2200\n",
      "2300\n",
      "2400\n",
      "2500\n",
      "2600\n",
      "2700\n",
      "2800\n",
      "2900\n",
      "3000\n",
      "3100\n",
      "3200\n",
      "3300\n",
      "3400\n",
      "3500\n",
      "3600\n",
      "3700\n",
      "3800\n",
      "3900\n",
      "4000\n",
      "4100\n",
      "4200\n",
      "4300\n",
      "4400\n",
      "4500\n",
      "4600\n",
      "4700\n",
      "4800\n",
      "4900\n",
      "5000\n",
      "5100\n",
      "5200\n",
      "5300\n",
      "5400\n",
      "5500\n",
      "5600\n",
      "5700\n",
      "5800\n",
      "5900\n",
      "6000\n",
      "6100\n",
      "6200\n",
      "6300\n",
      "6400\n",
      "6500\n",
      "6600\n",
      "6700\n",
      "6800\n",
      "6900\n",
      "7000\n",
      "7100\n",
      "7200\n",
      "7300\n",
      "7400\n",
      "7500\n",
      "7600\n",
      "7700\n",
      "7800\n",
      "7900\n",
      "8000\n",
      "8100\n",
      "8200\n",
      "8300\n",
      "8400\n",
      "8500\n",
      "8600\n",
      "8700\n",
      "8800\n",
      "8900\n",
      "9000\n",
      "9100\n",
      "9200\n",
      "9300\n",
      "9400\n",
      "9500\n",
      "9600\n",
      "9700\n",
      "9800\n",
      "9900\n",
      "10000\n",
      "10100\n",
      "10200\n",
      "10300\n",
      "10400\n",
      "10500\n",
      "10600\n",
      "10700\n"
     ]
    }
   ],
   "source": [
    "preds = []\n",
    "counter = 0\n",
    "history_batches = []\n",
    "history_batch = []\n",
    "\n",
    "for idx, batch in enumerate(history_dataloader):\n",
    "    batch = batch.to(device)\n",
    "    \n",
    "    for i in range(12):\n",
    "        # Pass padded batches to the model\n",
    "        with torch.no_grad():\n",
    "            out = model(batch[:, -12:]).unsqueeze(1)\n",
    "\n",
    "        # Append model's output to each transaction in the batch\n",
    "        batch = torch.cat((batch, out), dim=1)\n",
    "    for i in range(batch.shape[0]):\n",
    "        preds.append(batch[i, -12:].tolist())\n",
    "    if idx % 100 == 0:\n",
    "        print(idx)"
   ],
   "metadata": {
    "collapsed": false,
    "ExecuteTime": {
     "end_time": "2023-11-08T02:17:57.830068900Z",
     "start_time": "2023-11-08T02:14:23.291654800Z"
    }
   }
  },
  {
   "cell_type": "code",
   "execution_count": null,
   "outputs": [],
   "source": [
    "preds = []\n",
    "counter = 0\n",
    "for c_id in customer_hex_id_to_int(sub.customer_id):\n",
    "    history = transactions[transactions.customer_id==c_id][\"article_id_mapped\"].tolist()\n",
    "\n",
    "    for i in range(12):\n",
    "        if len(history) < 12:\n",
    "            history = [PADDING_ARTICLE] * (NUM_ARTICLES_IN_SEQUENCE - len(history)) + history\n",
    "        with torch.no_grad():\n",
    "            out = model(torch.tensor([history[-12:]], dtype=torch.int32).to(device)).item()\n",
    "        history.append(out)\n",
    "\n",
    "    preds.append(history[-12:])\n",
    "    counter+=1\n",
    "    if counter % 100 == 0:\n",
    "        print(counter)"
   ],
   "metadata": {
    "collapsed": false,
    "ExecuteTime": {
     "end_time": "2023-11-08T00:37:22.712733100Z",
     "start_time": "2023-11-08T00:37:22.710732400Z"
    }
   }
  },
  {
   "cell_type": "code",
   "execution_count": null,
   "outputs": [],
   "source": [
    "import pickle\n",
    "with open(\"rec_list.bin\", \"wb\") as f:\n",
    "    pickle.dump(preds, f)"
   ],
   "metadata": {
    "collapsed": false,
    "ExecuteTime": {
     "start_time": "2023-11-08T00:37:22.710732400Z"
    }
   }
  },
  {
   "cell_type": "code",
   "execution_count": null,
   "outputs": [],
   "source": [
    "with open(\"rec_list.bin\", \"rb\") as f:\n",
    "    some_list = pickle.load(f)"
   ],
   "metadata": {
    "collapsed": false,
    "ExecuteTime": {
     "start_time": "2023-11-08T00:37:22.711733200Z"
    }
   }
  },
  {
   "cell_type": "code",
   "execution_count": null,
   "outputs": [],
   "source": [
    "print(len(preds), len(some_list))"
   ],
   "metadata": {
    "collapsed": false,
    "ExecuteTime": {
     "end_time": "2023-11-08T00:37:22.726754600Z",
     "start_time": "2023-11-08T00:37:22.712733100Z"
    }
   }
  },
  {
   "cell_type": "code",
   "execution_count": null,
   "outputs": [],
   "source": [
    "transactions[\"article_id\"].value_counts()"
   ],
   "metadata": {
    "collapsed": false,
    "ExecuteTime": {
     "start_time": "2023-11-08T00:37:22.713733700Z"
    }
   }
  },
  {
   "cell_type": "code",
   "execution_count": 36,
   "outputs": [],
   "source": [
    "_preds = [' '.join(['0' + str(inverse_article_id_map.get(p, 706016001)) for p in ps]) for ps in preds]\n",
    "sub.prediction = _preds"
   ],
   "metadata": {
    "collapsed": false,
    "ExecuteTime": {
     "end_time": "2023-11-08T01:32:25.419889300Z",
     "start_time": "2023-11-08T01:32:21.863104600Z"
    }
   }
  },
  {
   "cell_type": "code",
   "execution_count": 37,
   "outputs": [],
   "source": [
    "sub_name = 'lstm_model_submission_e21'\n",
    "sub.to_csv(f'{sub_name}.csv.gz', index=False)"
   ],
   "metadata": {
    "collapsed": false,
    "ExecuteTime": {
     "end_time": "2023-11-08T01:33:06.418490400Z",
     "start_time": "2023-11-08T01:32:36.509053500Z"
    }
   }
  }
 ],
 "metadata": {
  "kernelspec": {
   "display_name": "Python 3 (ipykernel)",
   "language": "python",
   "name": "python3"
  },
  "language_info": {
   "codemirror_mode": {
    "name": "ipython",
    "version": 3
   },
   "file_extension": ".py",
   "mimetype": "text/x-python",
   "name": "python",
   "nbconvert_exporter": "python",
   "pygments_lexer": "ipython3",
   "version": "3.11.5"
  }
 },
 "nbformat": 4,
 "nbformat_minor": 4
}
