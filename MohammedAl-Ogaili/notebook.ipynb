{
 "cells": [
  {
   "cell_type": "code",
   "execution_count": 1,
   "metadata": {},
   "outputs": [],
   "source": [
    "import pandas as pd\n",
    "import numpy as np\n",
    "import seaborn as sns\n",
    "import string"
   ]
  },
  {
   "cell_type": "code",
   "execution_count": 2,
   "metadata": {},
   "outputs": [],
   "source": [
    "# Force some columns to be read as strings since the submission requires a 10-digit product id\n",
    "articles_df = pd.read_csv('./data/articles.csv', dtype={'article_id': 'str', 'product_code': 'str'})\n",
    "customers_df = pd.read_csv('./data/customers.csv')\n",
    "transactions_df = pd.read_csv('./data/transactions_train.csv', dtype={'article_id': 'str'})\n",
    "sample_submission_df = pd.read_csv('./data/sample_submission.csv')"
   ]
  },
  {
   "cell_type": "markdown",
   "metadata": {},
   "source": [
    "## Articles"
   ]
  },
  {
   "cell_type": "code",
   "execution_count": 3,
   "metadata": {},
   "outputs": [
    {
     "data": {
      "text/html": [
       "<div>\n",
       "<style scoped>\n",
       "    .dataframe tbody tr th:only-of-type {\n",
       "        vertical-align: middle;\n",
       "    }\n",
       "\n",
       "    .dataframe tbody tr th {\n",
       "        vertical-align: top;\n",
       "    }\n",
       "\n",
       "    .dataframe thead th {\n",
       "        text-align: right;\n",
       "    }\n",
       "</style>\n",
       "<table border=\"1\" class=\"dataframe\">\n",
       "  <thead>\n",
       "    <tr style=\"text-align: right;\">\n",
       "      <th></th>\n",
       "      <th>article_id</th>\n",
       "      <th>product_code</th>\n",
       "      <th>prod_name</th>\n",
       "      <th>product_type_no</th>\n",
       "      <th>product_type_name</th>\n",
       "      <th>product_group_name</th>\n",
       "      <th>graphical_appearance_no</th>\n",
       "      <th>graphical_appearance_name</th>\n",
       "      <th>colour_group_code</th>\n",
       "      <th>colour_group_name</th>\n",
       "      <th>...</th>\n",
       "      <th>department_name</th>\n",
       "      <th>index_code</th>\n",
       "      <th>index_name</th>\n",
       "      <th>index_group_no</th>\n",
       "      <th>index_group_name</th>\n",
       "      <th>section_no</th>\n",
       "      <th>section_name</th>\n",
       "      <th>garment_group_no</th>\n",
       "      <th>garment_group_name</th>\n",
       "      <th>detail_desc</th>\n",
       "    </tr>\n",
       "  </thead>\n",
       "  <tbody>\n",
       "    <tr>\n",
       "      <th>0</th>\n",
       "      <td>0108775015</td>\n",
       "      <td>0108775</td>\n",
       "      <td>Strap top</td>\n",
       "      <td>253</td>\n",
       "      <td>Vest top</td>\n",
       "      <td>Garment Upper body</td>\n",
       "      <td>1010016</td>\n",
       "      <td>Solid</td>\n",
       "      <td>9</td>\n",
       "      <td>Black</td>\n",
       "      <td>...</td>\n",
       "      <td>Jersey Basic</td>\n",
       "      <td>A</td>\n",
       "      <td>Ladieswear</td>\n",
       "      <td>1</td>\n",
       "      <td>Ladieswear</td>\n",
       "      <td>16</td>\n",
       "      <td>Womens Everyday Basics</td>\n",
       "      <td>1002</td>\n",
       "      <td>Jersey Basic</td>\n",
       "      <td>Jersey top with narrow shoulder straps.</td>\n",
       "    </tr>\n",
       "    <tr>\n",
       "      <th>1</th>\n",
       "      <td>0108775044</td>\n",
       "      <td>0108775</td>\n",
       "      <td>Strap top</td>\n",
       "      <td>253</td>\n",
       "      <td>Vest top</td>\n",
       "      <td>Garment Upper body</td>\n",
       "      <td>1010016</td>\n",
       "      <td>Solid</td>\n",
       "      <td>10</td>\n",
       "      <td>White</td>\n",
       "      <td>...</td>\n",
       "      <td>Jersey Basic</td>\n",
       "      <td>A</td>\n",
       "      <td>Ladieswear</td>\n",
       "      <td>1</td>\n",
       "      <td>Ladieswear</td>\n",
       "      <td>16</td>\n",
       "      <td>Womens Everyday Basics</td>\n",
       "      <td>1002</td>\n",
       "      <td>Jersey Basic</td>\n",
       "      <td>Jersey top with narrow shoulder straps.</td>\n",
       "    </tr>\n",
       "    <tr>\n",
       "      <th>2</th>\n",
       "      <td>0108775051</td>\n",
       "      <td>0108775</td>\n",
       "      <td>Strap top (1)</td>\n",
       "      <td>253</td>\n",
       "      <td>Vest top</td>\n",
       "      <td>Garment Upper body</td>\n",
       "      <td>1010017</td>\n",
       "      <td>Stripe</td>\n",
       "      <td>11</td>\n",
       "      <td>Off White</td>\n",
       "      <td>...</td>\n",
       "      <td>Jersey Basic</td>\n",
       "      <td>A</td>\n",
       "      <td>Ladieswear</td>\n",
       "      <td>1</td>\n",
       "      <td>Ladieswear</td>\n",
       "      <td>16</td>\n",
       "      <td>Womens Everyday Basics</td>\n",
       "      <td>1002</td>\n",
       "      <td>Jersey Basic</td>\n",
       "      <td>Jersey top with narrow shoulder straps.</td>\n",
       "    </tr>\n",
       "    <tr>\n",
       "      <th>3</th>\n",
       "      <td>0110065001</td>\n",
       "      <td>0110065</td>\n",
       "      <td>OP T-shirt (Idro)</td>\n",
       "      <td>306</td>\n",
       "      <td>Bra</td>\n",
       "      <td>Underwear</td>\n",
       "      <td>1010016</td>\n",
       "      <td>Solid</td>\n",
       "      <td>9</td>\n",
       "      <td>Black</td>\n",
       "      <td>...</td>\n",
       "      <td>Clean Lingerie</td>\n",
       "      <td>B</td>\n",
       "      <td>Lingeries/Tights</td>\n",
       "      <td>1</td>\n",
       "      <td>Ladieswear</td>\n",
       "      <td>61</td>\n",
       "      <td>Womens Lingerie</td>\n",
       "      <td>1017</td>\n",
       "      <td>Under-, Nightwear</td>\n",
       "      <td>Microfibre T-shirt bra with underwired, moulde...</td>\n",
       "    </tr>\n",
       "    <tr>\n",
       "      <th>4</th>\n",
       "      <td>0110065002</td>\n",
       "      <td>0110065</td>\n",
       "      <td>OP T-shirt (Idro)</td>\n",
       "      <td>306</td>\n",
       "      <td>Bra</td>\n",
       "      <td>Underwear</td>\n",
       "      <td>1010016</td>\n",
       "      <td>Solid</td>\n",
       "      <td>10</td>\n",
       "      <td>White</td>\n",
       "      <td>...</td>\n",
       "      <td>Clean Lingerie</td>\n",
       "      <td>B</td>\n",
       "      <td>Lingeries/Tights</td>\n",
       "      <td>1</td>\n",
       "      <td>Ladieswear</td>\n",
       "      <td>61</td>\n",
       "      <td>Womens Lingerie</td>\n",
       "      <td>1017</td>\n",
       "      <td>Under-, Nightwear</td>\n",
       "      <td>Microfibre T-shirt bra with underwired, moulde...</td>\n",
       "    </tr>\n",
       "  </tbody>\n",
       "</table>\n",
       "<p>5 rows × 25 columns</p>\n",
       "</div>"
      ],
      "text/plain": [
       "   article_id product_code          prod_name  product_type_no  \\\n",
       "0  0108775015      0108775          Strap top              253   \n",
       "1  0108775044      0108775          Strap top              253   \n",
       "2  0108775051      0108775      Strap top (1)              253   \n",
       "3  0110065001      0110065  OP T-shirt (Idro)              306   \n",
       "4  0110065002      0110065  OP T-shirt (Idro)              306   \n",
       "\n",
       "  product_type_name  product_group_name  graphical_appearance_no  \\\n",
       "0          Vest top  Garment Upper body                  1010016   \n",
       "1          Vest top  Garment Upper body                  1010016   \n",
       "2          Vest top  Garment Upper body                  1010017   \n",
       "3               Bra           Underwear                  1010016   \n",
       "4               Bra           Underwear                  1010016   \n",
       "\n",
       "  graphical_appearance_name  colour_group_code colour_group_name  ...  \\\n",
       "0                     Solid                  9             Black  ...   \n",
       "1                     Solid                 10             White  ...   \n",
       "2                    Stripe                 11         Off White  ...   \n",
       "3                     Solid                  9             Black  ...   \n",
       "4                     Solid                 10             White  ...   \n",
       "\n",
       "   department_name index_code        index_name index_group_no  \\\n",
       "0     Jersey Basic          A        Ladieswear              1   \n",
       "1     Jersey Basic          A        Ladieswear              1   \n",
       "2     Jersey Basic          A        Ladieswear              1   \n",
       "3   Clean Lingerie          B  Lingeries/Tights              1   \n",
       "4   Clean Lingerie          B  Lingeries/Tights              1   \n",
       "\n",
       "   index_group_name section_no            section_name garment_group_no  \\\n",
       "0        Ladieswear         16  Womens Everyday Basics             1002   \n",
       "1        Ladieswear         16  Womens Everyday Basics             1002   \n",
       "2        Ladieswear         16  Womens Everyday Basics             1002   \n",
       "3        Ladieswear         61         Womens Lingerie             1017   \n",
       "4        Ladieswear         61         Womens Lingerie             1017   \n",
       "\n",
       "   garment_group_name                                        detail_desc  \n",
       "0        Jersey Basic            Jersey top with narrow shoulder straps.  \n",
       "1        Jersey Basic            Jersey top with narrow shoulder straps.  \n",
       "2        Jersey Basic            Jersey top with narrow shoulder straps.  \n",
       "3   Under-, Nightwear  Microfibre T-shirt bra with underwired, moulde...  \n",
       "4   Under-, Nightwear  Microfibre T-shirt bra with underwired, moulde...  \n",
       "\n",
       "[5 rows x 25 columns]"
      ]
     },
     "execution_count": 3,
     "metadata": {},
     "output_type": "execute_result"
    }
   ],
   "source": [
    "articles_df.head()"
   ]
  },
  {
   "cell_type": "code",
   "execution_count": 4,
   "metadata": {},
   "outputs": [
    {
     "data": {
      "text/plain": [
       "article_id                        0\n",
       "product_code                      0\n",
       "prod_name                         0\n",
       "product_type_no                   0\n",
       "product_type_name                 0\n",
       "product_group_name                0\n",
       "graphical_appearance_no           0\n",
       "graphical_appearance_name         0\n",
       "colour_group_code                 0\n",
       "colour_group_name                 0\n",
       "perceived_colour_value_id         0\n",
       "perceived_colour_value_name       0\n",
       "perceived_colour_master_id        0\n",
       "perceived_colour_master_name      0\n",
       "department_no                     0\n",
       "department_name                   0\n",
       "index_code                        0\n",
       "index_name                        0\n",
       "index_group_no                    0\n",
       "index_group_name                  0\n",
       "section_no                        0\n",
       "section_name                      0\n",
       "garment_group_no                  0\n",
       "garment_group_name                0\n",
       "detail_desc                     416\n",
       "dtype: int64"
      ]
     },
     "execution_count": 4,
     "metadata": {},
     "output_type": "execute_result"
    }
   ],
   "source": [
    "articles_df.isna().sum()"
   ]
  },
  {
   "cell_type": "markdown",
   "metadata": {},
   "source": [
    "There are 416 missing descriptions and no other missing values which is a good sign."
   ]
  },
  {
   "cell_type": "code",
   "execution_count": 5,
   "metadata": {},
   "outputs": [
    {
     "data": {
      "text/plain": [
       "article_id                      105542\n",
       "product_code                    105542\n",
       "prod_name                       105542\n",
       "product_type_no                 105542\n",
       "product_type_name               105542\n",
       "product_group_name              105542\n",
       "graphical_appearance_no         105542\n",
       "graphical_appearance_name       105542\n",
       "colour_group_code               105542\n",
       "colour_group_name               105542\n",
       "perceived_colour_value_id       105542\n",
       "perceived_colour_value_name     105542\n",
       "perceived_colour_master_id      105542\n",
       "perceived_colour_master_name    105542\n",
       "department_no                   105542\n",
       "department_name                 105542\n",
       "index_code                      105542\n",
       "index_name                      105542\n",
       "index_group_no                  105542\n",
       "index_group_name                105542\n",
       "section_no                      105542\n",
       "section_name                    105542\n",
       "garment_group_no                105542\n",
       "garment_group_name              105542\n",
       "detail_desc                     105126\n",
       "dtype: int64"
      ]
     },
     "execution_count": 5,
     "metadata": {},
     "output_type": "execute_result"
    }
   ],
   "source": [
    "articles_df.count()"
   ]
  },
  {
   "cell_type": "code",
   "execution_count": 6,
   "metadata": {},
   "outputs": [
    {
     "data": {
      "text/plain": [
       "article_id                      105542\n",
       "product_code                     47224\n",
       "prod_name                        45875\n",
       "product_type_no                    132\n",
       "product_type_name                  131\n",
       "product_group_name                  19\n",
       "graphical_appearance_no             30\n",
       "graphical_appearance_name           30\n",
       "colour_group_code                   50\n",
       "colour_group_name                   50\n",
       "perceived_colour_value_id            8\n",
       "perceived_colour_value_name          8\n",
       "perceived_colour_master_id          20\n",
       "perceived_colour_master_name        20\n",
       "department_no                      299\n",
       "department_name                    250\n",
       "index_code                          10\n",
       "index_name                          10\n",
       "index_group_no                       5\n",
       "index_group_name                     5\n",
       "section_no                          57\n",
       "section_name                        56\n",
       "garment_group_no                    21\n",
       "garment_group_name                  21\n",
       "detail_desc                      43404\n",
       "dtype: int64"
      ]
     },
     "execution_count": 6,
     "metadata": {},
     "output_type": "execute_result"
    }
   ],
   "source": [
    "articles_df.nunique()"
   ]
  },
  {
   "cell_type": "markdown",
   "metadata": {},
   "source": [
    "All articles in the dataset are unique.\n",
    "\n",
    "Interestingly product_type_no and product_type_name do not have the same amount of unique values. Section name and section number are also suspicious.\n",
    "Let's investigate."
   ]
  },
  {
   "cell_type": "code",
   "execution_count": 7,
   "metadata": {},
   "outputs": [
    {
     "data": {
      "text/html": [
       "<div>\n",
       "<style scoped>\n",
       "    .dataframe tbody tr th:only-of-type {\n",
       "        vertical-align: middle;\n",
       "    }\n",
       "\n",
       "    .dataframe tbody tr th {\n",
       "        vertical-align: top;\n",
       "    }\n",
       "\n",
       "    .dataframe thead th {\n",
       "        text-align: right;\n",
       "    }\n",
       "</style>\n",
       "<table border=\"1\" class=\"dataframe\">\n",
       "  <thead>\n",
       "    <tr style=\"text-align: right;\">\n",
       "      <th></th>\n",
       "      <th>department_no</th>\n",
       "      <th>department_name</th>\n",
       "      <th>count</th>\n",
       "    </tr>\n",
       "  </thead>\n",
       "  <tbody>\n",
       "    <tr>\n",
       "      <th>296</th>\n",
       "      <td>9985</td>\n",
       "      <td>Accessories</td>\n",
       "      <td>579</td>\n",
       "    </tr>\n",
       "    <tr>\n",
       "      <th>116</th>\n",
       "      <td>3941</td>\n",
       "      <td>Accessories</td>\n",
       "      <td>57</td>\n",
       "    </tr>\n",
       "    <tr>\n",
       "      <th>229</th>\n",
       "      <td>7530</td>\n",
       "      <td>Accessories</td>\n",
       "      <td>51</td>\n",
       "    </tr>\n",
       "    <tr>\n",
       "      <th>94</th>\n",
       "      <td>3510</td>\n",
       "      <td>Accessories</td>\n",
       "      <td>7</td>\n",
       "    </tr>\n",
       "    <tr>\n",
       "      <th>88</th>\n",
       "      <td>3209</td>\n",
       "      <td>Bags</td>\n",
       "      <td>517</td>\n",
       "    </tr>\n",
       "    <tr>\n",
       "      <th>...</th>\n",
       "      <td>...</td>\n",
       "      <td>...</td>\n",
       "      <td>...</td>\n",
       "    </tr>\n",
       "    <tr>\n",
       "      <th>49</th>\n",
       "      <td>1710</td>\n",
       "      <td>Trouser</td>\n",
       "      <td>322</td>\n",
       "    </tr>\n",
       "    <tr>\n",
       "      <th>50</th>\n",
       "      <td>1717</td>\n",
       "      <td>Trouser</td>\n",
       "      <td>470</td>\n",
       "    </tr>\n",
       "    <tr>\n",
       "      <th>51</th>\n",
       "      <td>1722</td>\n",
       "      <td>Trouser</td>\n",
       "      <td>917</td>\n",
       "    </tr>\n",
       "    <tr>\n",
       "      <th>70</th>\n",
       "      <td>1939</td>\n",
       "      <td>Woven bottoms</td>\n",
       "      <td>379</td>\n",
       "    </tr>\n",
       "    <tr>\n",
       "      <th>74</th>\n",
       "      <td>2031</td>\n",
       "      <td>Woven bottoms</td>\n",
       "      <td>314</td>\n",
       "    </tr>\n",
       "  </tbody>\n",
       "</table>\n",
       "<p>71 rows × 3 columns</p>\n",
       "</div>"
      ],
      "text/plain": [
       "     department_no department_name  count\n",
       "296           9985     Accessories    579\n",
       "116           3941     Accessories     57\n",
       "229           7530     Accessories     51\n",
       "94            3510     Accessories      7\n",
       "88            3209            Bags    517\n",
       "..             ...             ...    ...\n",
       "49            1710         Trouser    322\n",
       "50            1717         Trouser    470\n",
       "51            1722         Trouser    917\n",
       "70            1939   Woven bottoms    379\n",
       "74            2031   Woven bottoms    314\n",
       "\n",
       "[71 rows x 3 columns]"
      ]
     },
     "execution_count": 7,
     "metadata": {},
     "output_type": "execute_result"
    }
   ],
   "source": [
    "x = articles_df.groupby(['department_no', 'department_name']).size().reset_index(name='count').sort_values(\"department_name\")\n",
    "x[x[\"department_name\"].duplicated(keep=False)]"
   ]
  },
  {
   "cell_type": "code",
   "execution_count": 8,
   "metadata": {},
   "outputs": [],
   "source": [
    "mapping_counts = articles_df.groupby(['product_type_no', 'product_type_name']).size().reset_index(name='count')"
   ]
  },
  {
   "cell_type": "code",
   "execution_count": 9,
   "metadata": {},
   "outputs": [
    {
     "data": {
      "text/plain": [
       "product_type_no      0\n",
       "product_type_name    0\n",
       "count                0\n",
       "dtype: int64"
      ]
     },
     "execution_count": 9,
     "metadata": {},
     "output_type": "execute_result"
    }
   ],
   "source": [
    "mapping_counts.isna().sum()"
   ]
  },
  {
   "cell_type": "code",
   "execution_count": 10,
   "metadata": {},
   "outputs": [
    {
     "data": {
      "text/plain": [
       "product_type_no      132\n",
       "product_type_name    131\n",
       "count                 96\n",
       "dtype: int64"
      ]
     },
     "execution_count": 10,
     "metadata": {},
     "output_type": "execute_result"
    }
   ],
   "source": [
    "mapping_counts.nunique()"
   ]
  },
  {
   "cell_type": "code",
   "execution_count": 11,
   "metadata": {},
   "outputs": [
    {
     "data": {
      "text/html": [
       "<div>\n",
       "<style scoped>\n",
       "    .dataframe tbody tr th:only-of-type {\n",
       "        vertical-align: middle;\n",
       "    }\n",
       "\n",
       "    .dataframe tbody tr th {\n",
       "        vertical-align: top;\n",
       "    }\n",
       "\n",
       "    .dataframe thead th {\n",
       "        text-align: right;\n",
       "    }\n",
       "</style>\n",
       "<table border=\"1\" class=\"dataframe\">\n",
       "  <thead>\n",
       "    <tr style=\"text-align: right;\">\n",
       "      <th></th>\n",
       "      <th>product_type_no</th>\n",
       "      <th>product_type_name</th>\n",
       "      <th>count</th>\n",
       "    </tr>\n",
       "  </thead>\n",
       "  <tbody>\n",
       "    <tr>\n",
       "      <th>22</th>\n",
       "      <td>83</td>\n",
       "      <td>Umbrella</td>\n",
       "      <td>26</td>\n",
       "    </tr>\n",
       "    <tr>\n",
       "      <th>129</th>\n",
       "      <td>532</td>\n",
       "      <td>Umbrella</td>\n",
       "      <td>3</td>\n",
       "    </tr>\n",
       "  </tbody>\n",
       "</table>\n",
       "</div>"
      ],
      "text/plain": [
       "     product_type_no product_type_name  count\n",
       "22                83          Umbrella     26\n",
       "129              532          Umbrella      3"
      ]
     },
     "execution_count": 11,
     "metadata": {},
     "output_type": "execute_result"
    }
   ],
   "source": [
    "# Find non-unique product_type_names\n",
    "mapping_counts[mapping_counts[\"product_type_name\"].duplicated(keep=False)]\n"
   ]
  },
  {
   "cell_type": "markdown",
   "metadata": {},
   "source": [
    "Product type \"Umbrella\" corresponds to two different product types.\n",
    "\n",
    "Let's find which articles have these product types."
   ]
  },
  {
   "cell_type": "code",
   "execution_count": 12,
   "metadata": {},
   "outputs": [
    {
     "data": {
      "text/html": [
       "<div>\n",
       "<style scoped>\n",
       "    .dataframe tbody tr th:only-of-type {\n",
       "        vertical-align: middle;\n",
       "    }\n",
       "\n",
       "    .dataframe tbody tr th {\n",
       "        vertical-align: top;\n",
       "    }\n",
       "\n",
       "    .dataframe thead th {\n",
       "        text-align: right;\n",
       "    }\n",
       "</style>\n",
       "<table border=\"1\" class=\"dataframe\">\n",
       "  <thead>\n",
       "    <tr style=\"text-align: right;\">\n",
       "      <th></th>\n",
       "      <th>article_id</th>\n",
       "      <th>product_code</th>\n",
       "      <th>prod_name</th>\n",
       "      <th>product_type_no</th>\n",
       "      <th>product_type_name</th>\n",
       "      <th>product_group_name</th>\n",
       "      <th>graphical_appearance_no</th>\n",
       "      <th>graphical_appearance_name</th>\n",
       "      <th>colour_group_code</th>\n",
       "      <th>colour_group_name</th>\n",
       "      <th>...</th>\n",
       "      <th>department_name</th>\n",
       "      <th>index_code</th>\n",
       "      <th>index_name</th>\n",
       "      <th>index_group_no</th>\n",
       "      <th>index_group_name</th>\n",
       "      <th>section_no</th>\n",
       "      <th>section_name</th>\n",
       "      <th>garment_group_no</th>\n",
       "      <th>garment_group_name</th>\n",
       "      <th>detail_desc</th>\n",
       "    </tr>\n",
       "  </thead>\n",
       "  <tbody>\n",
       "    <tr>\n",
       "      <th>36</th>\n",
       "      <td>0130035001</td>\n",
       "      <td>0130035</td>\n",
       "      <td>Black Umbrella</td>\n",
       "      <td>532</td>\n",
       "      <td>Umbrella</td>\n",
       "      <td>Items</td>\n",
       "      <td>1010016</td>\n",
       "      <td>Solid</td>\n",
       "      <td>9</td>\n",
       "      <td>Black</td>\n",
       "      <td>...</td>\n",
       "      <td>Other items</td>\n",
       "      <td>C</td>\n",
       "      <td>Ladies Accessories</td>\n",
       "      <td>1</td>\n",
       "      <td>Ladieswear</td>\n",
       "      <td>66</td>\n",
       "      <td>Womens Small accessories</td>\n",
       "      <td>1019</td>\n",
       "      <td>Accessories</td>\n",
       "      <td>Umbrella with a telescopic handle and matching...</td>\n",
       "    </tr>\n",
       "    <tr>\n",
       "      <th>719</th>\n",
       "      <td>0289597012</td>\n",
       "      <td>0289597</td>\n",
       "      <td>UMBRELLA</td>\n",
       "      <td>83</td>\n",
       "      <td>Umbrella</td>\n",
       "      <td>Accessories</td>\n",
       "      <td>1010016</td>\n",
       "      <td>Solid</td>\n",
       "      <td>50</td>\n",
       "      <td>Other Pink</td>\n",
       "      <td>...</td>\n",
       "      <td>Other Accessories</td>\n",
       "      <td>D</td>\n",
       "      <td>Divided</td>\n",
       "      <td>2</td>\n",
       "      <td>Divided</td>\n",
       "      <td>52</td>\n",
       "      <td>Divided Accessories</td>\n",
       "      <td>1019</td>\n",
       "      <td>Accessories</td>\n",
       "      <td>Umbrella with a telescopic handle and matching...</td>\n",
       "    </tr>\n",
       "    <tr>\n",
       "      <th>720</th>\n",
       "      <td>0289597015</td>\n",
       "      <td>0289597</td>\n",
       "      <td>UMBRELLA</td>\n",
       "      <td>83</td>\n",
       "      <td>Umbrella</td>\n",
       "      <td>Accessories</td>\n",
       "      <td>1010001</td>\n",
       "      <td>All over pattern</td>\n",
       "      <td>9</td>\n",
       "      <td>Black</td>\n",
       "      <td>...</td>\n",
       "      <td>Other Accessories</td>\n",
       "      <td>D</td>\n",
       "      <td>Divided</td>\n",
       "      <td>2</td>\n",
       "      <td>Divided</td>\n",
       "      <td>52</td>\n",
       "      <td>Divided Accessories</td>\n",
       "      <td>1019</td>\n",
       "      <td>Accessories</td>\n",
       "      <td>Umbrella with a telescopic handle and matching...</td>\n",
       "    </tr>\n",
       "    <tr>\n",
       "      <th>721</th>\n",
       "      <td>0289597016</td>\n",
       "      <td>0289597</td>\n",
       "      <td>UMBRELLA</td>\n",
       "      <td>83</td>\n",
       "      <td>Umbrella</td>\n",
       "      <td>Accessories</td>\n",
       "      <td>1010001</td>\n",
       "      <td>All over pattern</td>\n",
       "      <td>51</td>\n",
       "      <td>Light Pink</td>\n",
       "      <td>...</td>\n",
       "      <td>Other Accessories</td>\n",
       "      <td>D</td>\n",
       "      <td>Divided</td>\n",
       "      <td>2</td>\n",
       "      <td>Divided</td>\n",
       "      <td>52</td>\n",
       "      <td>Divided Accessories</td>\n",
       "      <td>1019</td>\n",
       "      <td>Accessories</td>\n",
       "      <td>Umbrella with a telescopic handle and matching...</td>\n",
       "    </tr>\n",
       "    <tr>\n",
       "      <th>722</th>\n",
       "      <td>0289597022</td>\n",
       "      <td>0289597</td>\n",
       "      <td>UMBRELLA</td>\n",
       "      <td>83</td>\n",
       "      <td>Umbrella</td>\n",
       "      <td>Accessories</td>\n",
       "      <td>1010016</td>\n",
       "      <td>Solid</td>\n",
       "      <td>73</td>\n",
       "      <td>Dark Blue</td>\n",
       "      <td>...</td>\n",
       "      <td>Other Accessories</td>\n",
       "      <td>D</td>\n",
       "      <td>Divided</td>\n",
       "      <td>2</td>\n",
       "      <td>Divided</td>\n",
       "      <td>52</td>\n",
       "      <td>Divided Accessories</td>\n",
       "      <td>1019</td>\n",
       "      <td>Accessories</td>\n",
       "      <td>Umbrella with a telescopic handle and matching...</td>\n",
       "    </tr>\n",
       "    <tr>\n",
       "      <th>1104</th>\n",
       "      <td>0318035003</td>\n",
       "      <td>0318035</td>\n",
       "      <td>Classic Clear umbrella</td>\n",
       "      <td>83</td>\n",
       "      <td>Umbrella</td>\n",
       "      <td>Accessories</td>\n",
       "      <td>1010019</td>\n",
       "      <td>Transparent</td>\n",
       "      <td>2</td>\n",
       "      <td>Transparent</td>\n",
       "      <td>...</td>\n",
       "      <td>Other items</td>\n",
       "      <td>C</td>\n",
       "      <td>Ladies Accessories</td>\n",
       "      <td>1</td>\n",
       "      <td>Ladieswear</td>\n",
       "      <td>66</td>\n",
       "      <td>Womens Small accessories</td>\n",
       "      <td>1019</td>\n",
       "      <td>Accessories</td>\n",
       "      <td>Umbrella in transparent, printed plastic with ...</td>\n",
       "    </tr>\n",
       "    <tr>\n",
       "      <th>1105</th>\n",
       "      <td>0318035009</td>\n",
       "      <td>0318035</td>\n",
       "      <td>Classic Clear umbrella</td>\n",
       "      <td>83</td>\n",
       "      <td>Umbrella</td>\n",
       "      <td>Accessories</td>\n",
       "      <td>1010001</td>\n",
       "      <td>All over pattern</td>\n",
       "      <td>73</td>\n",
       "      <td>Dark Blue</td>\n",
       "      <td>...</td>\n",
       "      <td>Other items</td>\n",
       "      <td>C</td>\n",
       "      <td>Ladies Accessories</td>\n",
       "      <td>1</td>\n",
       "      <td>Ladieswear</td>\n",
       "      <td>66</td>\n",
       "      <td>Womens Small accessories</td>\n",
       "      <td>1019</td>\n",
       "      <td>Accessories</td>\n",
       "      <td>Umbrella in transparent, printed plastic with ...</td>\n",
       "    </tr>\n",
       "    <tr>\n",
       "      <th>1106</th>\n",
       "      <td>0318035015</td>\n",
       "      <td>0318035</td>\n",
       "      <td>Classic Clear umbrella</td>\n",
       "      <td>83</td>\n",
       "      <td>Umbrella</td>\n",
       "      <td>Accessories</td>\n",
       "      <td>1010019</td>\n",
       "      <td>Transparent</td>\n",
       "      <td>51</td>\n",
       "      <td>Light Pink</td>\n",
       "      <td>...</td>\n",
       "      <td>Other items</td>\n",
       "      <td>C</td>\n",
       "      <td>Ladies Accessories</td>\n",
       "      <td>1</td>\n",
       "      <td>Ladieswear</td>\n",
       "      <td>66</td>\n",
       "      <td>Womens Small accessories</td>\n",
       "      <td>1019</td>\n",
       "      <td>Accessories</td>\n",
       "      <td>Umbrella in transparent, printed plastic with ...</td>\n",
       "    </tr>\n",
       "    <tr>\n",
       "      <th>1107</th>\n",
       "      <td>0318035017</td>\n",
       "      <td>0318035</td>\n",
       "      <td>Classic Clear umbrella</td>\n",
       "      <td>83</td>\n",
       "      <td>Umbrella</td>\n",
       "      <td>Accessories</td>\n",
       "      <td>1010019</td>\n",
       "      <td>Transparent</td>\n",
       "      <td>9</td>\n",
       "      <td>Black</td>\n",
       "      <td>...</td>\n",
       "      <td>Other items</td>\n",
       "      <td>C</td>\n",
       "      <td>Ladies Accessories</td>\n",
       "      <td>1</td>\n",
       "      <td>Ladieswear</td>\n",
       "      <td>66</td>\n",
       "      <td>Womens Small accessories</td>\n",
       "      <td>1019</td>\n",
       "      <td>Accessories</td>\n",
       "      <td>Umbrella in transparent, printed plastic with ...</td>\n",
       "    </tr>\n",
       "    <tr>\n",
       "      <th>1108</th>\n",
       "      <td>0318035018</td>\n",
       "      <td>0318035</td>\n",
       "      <td>Classic Clear umbrella</td>\n",
       "      <td>83</td>\n",
       "      <td>Umbrella</td>\n",
       "      <td>Accessories</td>\n",
       "      <td>1010006</td>\n",
       "      <td>Dot</td>\n",
       "      <td>10</td>\n",
       "      <td>White</td>\n",
       "      <td>...</td>\n",
       "      <td>Other items</td>\n",
       "      <td>C</td>\n",
       "      <td>Ladies Accessories</td>\n",
       "      <td>1</td>\n",
       "      <td>Ladieswear</td>\n",
       "      <td>66</td>\n",
       "      <td>Womens Small accessories</td>\n",
       "      <td>1019</td>\n",
       "      <td>Accessories</td>\n",
       "      <td>Umbrella in transparent, printed plastic with ...</td>\n",
       "    </tr>\n",
       "    <tr>\n",
       "      <th>1109</th>\n",
       "      <td>0318035022</td>\n",
       "      <td>0318035</td>\n",
       "      <td>Classic Clear umbrella</td>\n",
       "      <td>83</td>\n",
       "      <td>Umbrella</td>\n",
       "      <td>Accessories</td>\n",
       "      <td>1010001</td>\n",
       "      <td>All over pattern</td>\n",
       "      <td>2</td>\n",
       "      <td>Transparent</td>\n",
       "      <td>...</td>\n",
       "      <td>Other items</td>\n",
       "      <td>C</td>\n",
       "      <td>Ladies Accessories</td>\n",
       "      <td>1</td>\n",
       "      <td>Ladieswear</td>\n",
       "      <td>66</td>\n",
       "      <td>Womens Small accessories</td>\n",
       "      <td>1019</td>\n",
       "      <td>Accessories</td>\n",
       "      <td>Umbrella in transparent, printed plastic with ...</td>\n",
       "    </tr>\n",
       "    <tr>\n",
       "      <th>1110</th>\n",
       "      <td>0318035023</td>\n",
       "      <td>0318035</td>\n",
       "      <td>Classic Clear umbrella</td>\n",
       "      <td>83</td>\n",
       "      <td>Umbrella</td>\n",
       "      <td>Accessories</td>\n",
       "      <td>1010001</td>\n",
       "      <td>All over pattern</td>\n",
       "      <td>51</td>\n",
       "      <td>Light Pink</td>\n",
       "      <td>...</td>\n",
       "      <td>Other items</td>\n",
       "      <td>C</td>\n",
       "      <td>Ladies Accessories</td>\n",
       "      <td>1</td>\n",
       "      <td>Ladieswear</td>\n",
       "      <td>66</td>\n",
       "      <td>Womens Small accessories</td>\n",
       "      <td>1019</td>\n",
       "      <td>Accessories</td>\n",
       "      <td>Umbrella in transparent, printed plastic with ...</td>\n",
       "    </tr>\n",
       "    <tr>\n",
       "      <th>1111</th>\n",
       "      <td>0318035025</td>\n",
       "      <td>0318035</td>\n",
       "      <td>Classic Clear umbrella</td>\n",
       "      <td>83</td>\n",
       "      <td>Umbrella</td>\n",
       "      <td>Accessories</td>\n",
       "      <td>1010001</td>\n",
       "      <td>All over pattern</td>\n",
       "      <td>2</td>\n",
       "      <td>Transparent</td>\n",
       "      <td>...</td>\n",
       "      <td>Other items</td>\n",
       "      <td>C</td>\n",
       "      <td>Ladies Accessories</td>\n",
       "      <td>1</td>\n",
       "      <td>Ladieswear</td>\n",
       "      <td>66</td>\n",
       "      <td>Womens Small accessories</td>\n",
       "      <td>1019</td>\n",
       "      <td>Accessories</td>\n",
       "      <td>Umbrella in transparent, printed plastic with ...</td>\n",
       "    </tr>\n",
       "    <tr>\n",
       "      <th>1112</th>\n",
       "      <td>0318035026</td>\n",
       "      <td>0318035</td>\n",
       "      <td>Classic Clear umbrella</td>\n",
       "      <td>83</td>\n",
       "      <td>Umbrella</td>\n",
       "      <td>Accessories</td>\n",
       "      <td>1010001</td>\n",
       "      <td>All over pattern</td>\n",
       "      <td>93</td>\n",
       "      <td>Dark Green</td>\n",
       "      <td>...</td>\n",
       "      <td>Other items</td>\n",
       "      <td>C</td>\n",
       "      <td>Ladies Accessories</td>\n",
       "      <td>1</td>\n",
       "      <td>Ladieswear</td>\n",
       "      <td>66</td>\n",
       "      <td>Womens Small accessories</td>\n",
       "      <td>1019</td>\n",
       "      <td>Accessories</td>\n",
       "      <td>Umbrella in transparent, printed plastic with ...</td>\n",
       "    </tr>\n",
       "    <tr>\n",
       "      <th>1158</th>\n",
       "      <td>0322017003</td>\n",
       "      <td>0322017</td>\n",
       "      <td>Mini Umbrella</td>\n",
       "      <td>532</td>\n",
       "      <td>Umbrella</td>\n",
       "      <td>Items</td>\n",
       "      <td>1010016</td>\n",
       "      <td>Solid</td>\n",
       "      <td>9</td>\n",
       "      <td>Black</td>\n",
       "      <td>...</td>\n",
       "      <td>Other items</td>\n",
       "      <td>C</td>\n",
       "      <td>Ladies Accessories</td>\n",
       "      <td>1</td>\n",
       "      <td>Ladieswear</td>\n",
       "      <td>66</td>\n",
       "      <td>Womens Small accessories</td>\n",
       "      <td>1019</td>\n",
       "      <td>Accessories</td>\n",
       "      <td>Small umbrella with a telescopic handle and a ...</td>\n",
       "    </tr>\n",
       "    <tr>\n",
       "      <th>1159</th>\n",
       "      <td>0322017015</td>\n",
       "      <td>0322017</td>\n",
       "      <td>Mini Umbrella</td>\n",
       "      <td>83</td>\n",
       "      <td>Umbrella</td>\n",
       "      <td>Accessories</td>\n",
       "      <td>1010001</td>\n",
       "      <td>All over pattern</td>\n",
       "      <td>31</td>\n",
       "      <td>Light Orange</td>\n",
       "      <td>...</td>\n",
       "      <td>Other items</td>\n",
       "      <td>C</td>\n",
       "      <td>Ladies Accessories</td>\n",
       "      <td>1</td>\n",
       "      <td>Ladieswear</td>\n",
       "      <td>66</td>\n",
       "      <td>Womens Small accessories</td>\n",
       "      <td>1019</td>\n",
       "      <td>Accessories</td>\n",
       "      <td>Small umbrella with a telescopic handle and a ...</td>\n",
       "    </tr>\n",
       "    <tr>\n",
       "      <th>1160</th>\n",
       "      <td>0322017029</td>\n",
       "      <td>0322017</td>\n",
       "      <td>Mini Umbrella</td>\n",
       "      <td>83</td>\n",
       "      <td>Umbrella</td>\n",
       "      <td>Accessories</td>\n",
       "      <td>1010016</td>\n",
       "      <td>Solid</td>\n",
       "      <td>31</td>\n",
       "      <td>Light Orange</td>\n",
       "      <td>...</td>\n",
       "      <td>Other items</td>\n",
       "      <td>C</td>\n",
       "      <td>Ladies Accessories</td>\n",
       "      <td>1</td>\n",
       "      <td>Ladieswear</td>\n",
       "      <td>66</td>\n",
       "      <td>Womens Small accessories</td>\n",
       "      <td>1019</td>\n",
       "      <td>Accessories</td>\n",
       "      <td>Small umbrella with a telescopic handle and a ...</td>\n",
       "    </tr>\n",
       "    <tr>\n",
       "      <th>1161</th>\n",
       "      <td>0322017030</td>\n",
       "      <td>0322017</td>\n",
       "      <td>Mini Umbrella</td>\n",
       "      <td>83</td>\n",
       "      <td>Umbrella</td>\n",
       "      <td>Accessories</td>\n",
       "      <td>1010001</td>\n",
       "      <td>All over pattern</td>\n",
       "      <td>17</td>\n",
       "      <td>Yellowish Brown</td>\n",
       "      <td>...</td>\n",
       "      <td>Other items</td>\n",
       "      <td>C</td>\n",
       "      <td>Ladies Accessories</td>\n",
       "      <td>1</td>\n",
       "      <td>Ladieswear</td>\n",
       "      <td>66</td>\n",
       "      <td>Womens Small accessories</td>\n",
       "      <td>1019</td>\n",
       "      <td>Accessories</td>\n",
       "      <td>Small umbrella with a telescopic handle and a ...</td>\n",
       "    </tr>\n",
       "    <tr>\n",
       "      <th>1162</th>\n",
       "      <td>0322017038</td>\n",
       "      <td>0322017</td>\n",
       "      <td>Mini Umbrella</td>\n",
       "      <td>83</td>\n",
       "      <td>Umbrella</td>\n",
       "      <td>Accessories</td>\n",
       "      <td>1010001</td>\n",
       "      <td>All over pattern</td>\n",
       "      <td>9</td>\n",
       "      <td>Black</td>\n",
       "      <td>...</td>\n",
       "      <td>Other items</td>\n",
       "      <td>C</td>\n",
       "      <td>Ladies Accessories</td>\n",
       "      <td>1</td>\n",
       "      <td>Ladieswear</td>\n",
       "      <td>66</td>\n",
       "      <td>Womens Small accessories</td>\n",
       "      <td>1019</td>\n",
       "      <td>Accessories</td>\n",
       "      <td>Small umbrella with a telescopic handle and a ...</td>\n",
       "    </tr>\n",
       "    <tr>\n",
       "      <th>1163</th>\n",
       "      <td>0322017039</td>\n",
       "      <td>0322017</td>\n",
       "      <td>Mini Umbrella</td>\n",
       "      <td>83</td>\n",
       "      <td>Umbrella</td>\n",
       "      <td>Accessories</td>\n",
       "      <td>1010001</td>\n",
       "      <td>All over pattern</td>\n",
       "      <td>52</td>\n",
       "      <td>Pink</td>\n",
       "      <td>...</td>\n",
       "      <td>Other items</td>\n",
       "      <td>C</td>\n",
       "      <td>Ladies Accessories</td>\n",
       "      <td>1</td>\n",
       "      <td>Ladieswear</td>\n",
       "      <td>66</td>\n",
       "      <td>Womens Small accessories</td>\n",
       "      <td>1019</td>\n",
       "      <td>Accessories</td>\n",
       "      <td>Small umbrella with a telescopic handle and a ...</td>\n",
       "    </tr>\n",
       "    <tr>\n",
       "      <th>1164</th>\n",
       "      <td>0322017040</td>\n",
       "      <td>0322017</td>\n",
       "      <td>Mini Umbrella</td>\n",
       "      <td>83</td>\n",
       "      <td>Umbrella</td>\n",
       "      <td>Accessories</td>\n",
       "      <td>1010001</td>\n",
       "      <td>All over pattern</td>\n",
       "      <td>40</td>\n",
       "      <td>Other Red</td>\n",
       "      <td>...</td>\n",
       "      <td>Other items</td>\n",
       "      <td>C</td>\n",
       "      <td>Ladies Accessories</td>\n",
       "      <td>1</td>\n",
       "      <td>Ladieswear</td>\n",
       "      <td>66</td>\n",
       "      <td>Womens Small accessories</td>\n",
       "      <td>1019</td>\n",
       "      <td>Accessories</td>\n",
       "      <td>Small umbrella with a telescopic handle and a ...</td>\n",
       "    </tr>\n",
       "    <tr>\n",
       "      <th>1165</th>\n",
       "      <td>0322017043</td>\n",
       "      <td>0322017</td>\n",
       "      <td>Mini Umbrella</td>\n",
       "      <td>83</td>\n",
       "      <td>Umbrella</td>\n",
       "      <td>Accessories</td>\n",
       "      <td>1010001</td>\n",
       "      <td>All over pattern</td>\n",
       "      <td>9</td>\n",
       "      <td>Black</td>\n",
       "      <td>...</td>\n",
       "      <td>Other items</td>\n",
       "      <td>C</td>\n",
       "      <td>Ladies Accessories</td>\n",
       "      <td>1</td>\n",
       "      <td>Ladieswear</td>\n",
       "      <td>66</td>\n",
       "      <td>Womens Small accessories</td>\n",
       "      <td>1019</td>\n",
       "      <td>Accessories</td>\n",
       "      <td>Small umbrella with a telescopic handle and a ...</td>\n",
       "    </tr>\n",
       "    <tr>\n",
       "      <th>7339</th>\n",
       "      <td>0512989012</td>\n",
       "      <td>0512989</td>\n",
       "      <td>Fancy umbrella</td>\n",
       "      <td>83</td>\n",
       "      <td>Umbrella</td>\n",
       "      <td>Accessories</td>\n",
       "      <td>1010001</td>\n",
       "      <td>All over pattern</td>\n",
       "      <td>9</td>\n",
       "      <td>Black</td>\n",
       "      <td>...</td>\n",
       "      <td>Other items</td>\n",
       "      <td>C</td>\n",
       "      <td>Ladies Accessories</td>\n",
       "      <td>1</td>\n",
       "      <td>Ladieswear</td>\n",
       "      <td>66</td>\n",
       "      <td>Womens Small accessories</td>\n",
       "      <td>1019</td>\n",
       "      <td>Accessories</td>\n",
       "      <td>Umbrella with a telescopic handle and matching...</td>\n",
       "    </tr>\n",
       "    <tr>\n",
       "      <th>7340</th>\n",
       "      <td>0512989020</td>\n",
       "      <td>0512989</td>\n",
       "      <td>Fancy umbrella</td>\n",
       "      <td>83</td>\n",
       "      <td>Umbrella</td>\n",
       "      <td>Accessories</td>\n",
       "      <td>1010001</td>\n",
       "      <td>All over pattern</td>\n",
       "      <td>11</td>\n",
       "      <td>Off White</td>\n",
       "      <td>...</td>\n",
       "      <td>Other items</td>\n",
       "      <td>C</td>\n",
       "      <td>Ladies Accessories</td>\n",
       "      <td>1</td>\n",
       "      <td>Ladieswear</td>\n",
       "      <td>66</td>\n",
       "      <td>Womens Small accessories</td>\n",
       "      <td>1019</td>\n",
       "      <td>Accessories</td>\n",
       "      <td>Umbrella with a telescopic handle and matching...</td>\n",
       "    </tr>\n",
       "    <tr>\n",
       "      <th>7341</th>\n",
       "      <td>0512989021</td>\n",
       "      <td>0512989</td>\n",
       "      <td>Fancy umbrella</td>\n",
       "      <td>83</td>\n",
       "      <td>Umbrella</td>\n",
       "      <td>Accessories</td>\n",
       "      <td>1010001</td>\n",
       "      <td>All over pattern</td>\n",
       "      <td>22</td>\n",
       "      <td>Yellow</td>\n",
       "      <td>...</td>\n",
       "      <td>Other items</td>\n",
       "      <td>C</td>\n",
       "      <td>Ladies Accessories</td>\n",
       "      <td>1</td>\n",
       "      <td>Ladieswear</td>\n",
       "      <td>66</td>\n",
       "      <td>Womens Small accessories</td>\n",
       "      <td>1019</td>\n",
       "      <td>Accessories</td>\n",
       "      <td>Umbrella with a telescopic handle and matching...</td>\n",
       "    </tr>\n",
       "    <tr>\n",
       "      <th>7342</th>\n",
       "      <td>0512989022</td>\n",
       "      <td>0512989</td>\n",
       "      <td>Fancy umbrella</td>\n",
       "      <td>83</td>\n",
       "      <td>Umbrella</td>\n",
       "      <td>Accessories</td>\n",
       "      <td>1010001</td>\n",
       "      <td>All over pattern</td>\n",
       "      <td>93</td>\n",
       "      <td>Dark Green</td>\n",
       "      <td>...</td>\n",
       "      <td>Other items</td>\n",
       "      <td>C</td>\n",
       "      <td>Ladies Accessories</td>\n",
       "      <td>1</td>\n",
       "      <td>Ladieswear</td>\n",
       "      <td>66</td>\n",
       "      <td>Womens Small accessories</td>\n",
       "      <td>1019</td>\n",
       "      <td>Accessories</td>\n",
       "      <td>Umbrella with a telescopic handle and matching...</td>\n",
       "    </tr>\n",
       "    <tr>\n",
       "      <th>7343</th>\n",
       "      <td>0512989023</td>\n",
       "      <td>0512989</td>\n",
       "      <td>Fancy umbrella</td>\n",
       "      <td>83</td>\n",
       "      <td>Umbrella</td>\n",
       "      <td>Accessories</td>\n",
       "      <td>1010001</td>\n",
       "      <td>All over pattern</td>\n",
       "      <td>51</td>\n",
       "      <td>Light Pink</td>\n",
       "      <td>...</td>\n",
       "      <td>Other items</td>\n",
       "      <td>C</td>\n",
       "      <td>Ladies Accessories</td>\n",
       "      <td>1</td>\n",
       "      <td>Ladieswear</td>\n",
       "      <td>66</td>\n",
       "      <td>Womens Small accessories</td>\n",
       "      <td>1019</td>\n",
       "      <td>Accessories</td>\n",
       "      <td>Umbrella with a telescopic handle and matching...</td>\n",
       "    </tr>\n",
       "    <tr>\n",
       "      <th>7344</th>\n",
       "      <td>0512989029</td>\n",
       "      <td>0512989</td>\n",
       "      <td>Fancy umbrella</td>\n",
       "      <td>83</td>\n",
       "      <td>Umbrella</td>\n",
       "      <td>Accessories</td>\n",
       "      <td>1010001</td>\n",
       "      <td>All over pattern</td>\n",
       "      <td>9</td>\n",
       "      <td>Black</td>\n",
       "      <td>...</td>\n",
       "      <td>Other items</td>\n",
       "      <td>C</td>\n",
       "      <td>Ladies Accessories</td>\n",
       "      <td>1</td>\n",
       "      <td>Ladieswear</td>\n",
       "      <td>66</td>\n",
       "      <td>Womens Small accessories</td>\n",
       "      <td>1019</td>\n",
       "      <td>Accessories</td>\n",
       "      <td>Umbrella with a telescopic handle and matching...</td>\n",
       "    </tr>\n",
       "    <tr>\n",
       "      <th>105215</th>\n",
       "      <td>0934389001</td>\n",
       "      <td>0934389</td>\n",
       "      <td>Clear Umbrella</td>\n",
       "      <td>532</td>\n",
       "      <td>Umbrella</td>\n",
       "      <td>Items</td>\n",
       "      <td>1010019</td>\n",
       "      <td>Transparent</td>\n",
       "      <td>10</td>\n",
       "      <td>White</td>\n",
       "      <td>...</td>\n",
       "      <td>Other items</td>\n",
       "      <td>C</td>\n",
       "      <td>Ladies Accessories</td>\n",
       "      <td>1</td>\n",
       "      <td>Ladieswear</td>\n",
       "      <td>66</td>\n",
       "      <td>Womens Small accessories</td>\n",
       "      <td>1019</td>\n",
       "      <td>Accessories</td>\n",
       "      <td>Umbrella with a transparent plastic canopy and...</td>\n",
       "    </tr>\n",
       "  </tbody>\n",
       "</table>\n",
       "<p>29 rows × 25 columns</p>\n",
       "</div>"
      ],
      "text/plain": [
       "        article_id product_code               prod_name  product_type_no  \\\n",
       "36      0130035001      0130035          Black Umbrella              532   \n",
       "719     0289597012      0289597                UMBRELLA               83   \n",
       "720     0289597015      0289597                UMBRELLA               83   \n",
       "721     0289597016      0289597                UMBRELLA               83   \n",
       "722     0289597022      0289597                UMBRELLA               83   \n",
       "1104    0318035003      0318035  Classic Clear umbrella               83   \n",
       "1105    0318035009      0318035  Classic Clear umbrella               83   \n",
       "1106    0318035015      0318035  Classic Clear umbrella               83   \n",
       "1107    0318035017      0318035  Classic Clear umbrella               83   \n",
       "1108    0318035018      0318035  Classic Clear umbrella               83   \n",
       "1109    0318035022      0318035  Classic Clear umbrella               83   \n",
       "1110    0318035023      0318035  Classic Clear umbrella               83   \n",
       "1111    0318035025      0318035  Classic Clear umbrella               83   \n",
       "1112    0318035026      0318035  Classic Clear umbrella               83   \n",
       "1158    0322017003      0322017           Mini Umbrella              532   \n",
       "1159    0322017015      0322017           Mini Umbrella               83   \n",
       "1160    0322017029      0322017           Mini Umbrella               83   \n",
       "1161    0322017030      0322017           Mini Umbrella               83   \n",
       "1162    0322017038      0322017           Mini Umbrella               83   \n",
       "1163    0322017039      0322017           Mini Umbrella               83   \n",
       "1164    0322017040      0322017           Mini Umbrella               83   \n",
       "1165    0322017043      0322017           Mini Umbrella               83   \n",
       "7339    0512989012      0512989          Fancy umbrella               83   \n",
       "7340    0512989020      0512989          Fancy umbrella               83   \n",
       "7341    0512989021      0512989          Fancy umbrella               83   \n",
       "7342    0512989022      0512989          Fancy umbrella               83   \n",
       "7343    0512989023      0512989          Fancy umbrella               83   \n",
       "7344    0512989029      0512989          Fancy umbrella               83   \n",
       "105215  0934389001      0934389          Clear Umbrella              532   \n",
       "\n",
       "       product_type_name product_group_name  graphical_appearance_no  \\\n",
       "36              Umbrella              Items                  1010016   \n",
       "719             Umbrella        Accessories                  1010016   \n",
       "720             Umbrella        Accessories                  1010001   \n",
       "721             Umbrella        Accessories                  1010001   \n",
       "722             Umbrella        Accessories                  1010016   \n",
       "1104            Umbrella        Accessories                  1010019   \n",
       "1105            Umbrella        Accessories                  1010001   \n",
       "1106            Umbrella        Accessories                  1010019   \n",
       "1107            Umbrella        Accessories                  1010019   \n",
       "1108            Umbrella        Accessories                  1010006   \n",
       "1109            Umbrella        Accessories                  1010001   \n",
       "1110            Umbrella        Accessories                  1010001   \n",
       "1111            Umbrella        Accessories                  1010001   \n",
       "1112            Umbrella        Accessories                  1010001   \n",
       "1158            Umbrella              Items                  1010016   \n",
       "1159            Umbrella        Accessories                  1010001   \n",
       "1160            Umbrella        Accessories                  1010016   \n",
       "1161            Umbrella        Accessories                  1010001   \n",
       "1162            Umbrella        Accessories                  1010001   \n",
       "1163            Umbrella        Accessories                  1010001   \n",
       "1164            Umbrella        Accessories                  1010001   \n",
       "1165            Umbrella        Accessories                  1010001   \n",
       "7339            Umbrella        Accessories                  1010001   \n",
       "7340            Umbrella        Accessories                  1010001   \n",
       "7341            Umbrella        Accessories                  1010001   \n",
       "7342            Umbrella        Accessories                  1010001   \n",
       "7343            Umbrella        Accessories                  1010001   \n",
       "7344            Umbrella        Accessories                  1010001   \n",
       "105215          Umbrella              Items                  1010019   \n",
       "\n",
       "       graphical_appearance_name  colour_group_code colour_group_name  ...  \\\n",
       "36                         Solid                  9             Black  ...   \n",
       "719                        Solid                 50        Other Pink  ...   \n",
       "720             All over pattern                  9             Black  ...   \n",
       "721             All over pattern                 51        Light Pink  ...   \n",
       "722                        Solid                 73         Dark Blue  ...   \n",
       "1104                 Transparent                  2       Transparent  ...   \n",
       "1105            All over pattern                 73         Dark Blue  ...   \n",
       "1106                 Transparent                 51        Light Pink  ...   \n",
       "1107                 Transparent                  9             Black  ...   \n",
       "1108                         Dot                 10             White  ...   \n",
       "1109            All over pattern                  2       Transparent  ...   \n",
       "1110            All over pattern                 51        Light Pink  ...   \n",
       "1111            All over pattern                  2       Transparent  ...   \n",
       "1112            All over pattern                 93        Dark Green  ...   \n",
       "1158                       Solid                  9             Black  ...   \n",
       "1159            All over pattern                 31      Light Orange  ...   \n",
       "1160                       Solid                 31      Light Orange  ...   \n",
       "1161            All over pattern                 17   Yellowish Brown  ...   \n",
       "1162            All over pattern                  9             Black  ...   \n",
       "1163            All over pattern                 52              Pink  ...   \n",
       "1164            All over pattern                 40         Other Red  ...   \n",
       "1165            All over pattern                  9             Black  ...   \n",
       "7339            All over pattern                  9             Black  ...   \n",
       "7340            All over pattern                 11         Off White  ...   \n",
       "7341            All over pattern                 22            Yellow  ...   \n",
       "7342            All over pattern                 93        Dark Green  ...   \n",
       "7343            All over pattern                 51        Light Pink  ...   \n",
       "7344            All over pattern                  9             Black  ...   \n",
       "105215               Transparent                 10             White  ...   \n",
       "\n",
       "          department_name index_code          index_name index_group_no  \\\n",
       "36            Other items          C  Ladies Accessories              1   \n",
       "719     Other Accessories          D             Divided              2   \n",
       "720     Other Accessories          D             Divided              2   \n",
       "721     Other Accessories          D             Divided              2   \n",
       "722     Other Accessories          D             Divided              2   \n",
       "1104          Other items          C  Ladies Accessories              1   \n",
       "1105          Other items          C  Ladies Accessories              1   \n",
       "1106          Other items          C  Ladies Accessories              1   \n",
       "1107          Other items          C  Ladies Accessories              1   \n",
       "1108          Other items          C  Ladies Accessories              1   \n",
       "1109          Other items          C  Ladies Accessories              1   \n",
       "1110          Other items          C  Ladies Accessories              1   \n",
       "1111          Other items          C  Ladies Accessories              1   \n",
       "1112          Other items          C  Ladies Accessories              1   \n",
       "1158          Other items          C  Ladies Accessories              1   \n",
       "1159          Other items          C  Ladies Accessories              1   \n",
       "1160          Other items          C  Ladies Accessories              1   \n",
       "1161          Other items          C  Ladies Accessories              1   \n",
       "1162          Other items          C  Ladies Accessories              1   \n",
       "1163          Other items          C  Ladies Accessories              1   \n",
       "1164          Other items          C  Ladies Accessories              1   \n",
       "1165          Other items          C  Ladies Accessories              1   \n",
       "7339          Other items          C  Ladies Accessories              1   \n",
       "7340          Other items          C  Ladies Accessories              1   \n",
       "7341          Other items          C  Ladies Accessories              1   \n",
       "7342          Other items          C  Ladies Accessories              1   \n",
       "7343          Other items          C  Ladies Accessories              1   \n",
       "7344          Other items          C  Ladies Accessories              1   \n",
       "105215        Other items          C  Ladies Accessories              1   \n",
       "\n",
       "        index_group_name section_no              section_name  \\\n",
       "36            Ladieswear         66  Womens Small accessories   \n",
       "719              Divided         52       Divided Accessories   \n",
       "720              Divided         52       Divided Accessories   \n",
       "721              Divided         52       Divided Accessories   \n",
       "722              Divided         52       Divided Accessories   \n",
       "1104          Ladieswear         66  Womens Small accessories   \n",
       "1105          Ladieswear         66  Womens Small accessories   \n",
       "1106          Ladieswear         66  Womens Small accessories   \n",
       "1107          Ladieswear         66  Womens Small accessories   \n",
       "1108          Ladieswear         66  Womens Small accessories   \n",
       "1109          Ladieswear         66  Womens Small accessories   \n",
       "1110          Ladieswear         66  Womens Small accessories   \n",
       "1111          Ladieswear         66  Womens Small accessories   \n",
       "1112          Ladieswear         66  Womens Small accessories   \n",
       "1158          Ladieswear         66  Womens Small accessories   \n",
       "1159          Ladieswear         66  Womens Small accessories   \n",
       "1160          Ladieswear         66  Womens Small accessories   \n",
       "1161          Ladieswear         66  Womens Small accessories   \n",
       "1162          Ladieswear         66  Womens Small accessories   \n",
       "1163          Ladieswear         66  Womens Small accessories   \n",
       "1164          Ladieswear         66  Womens Small accessories   \n",
       "1165          Ladieswear         66  Womens Small accessories   \n",
       "7339          Ladieswear         66  Womens Small accessories   \n",
       "7340          Ladieswear         66  Womens Small accessories   \n",
       "7341          Ladieswear         66  Womens Small accessories   \n",
       "7342          Ladieswear         66  Womens Small accessories   \n",
       "7343          Ladieswear         66  Womens Small accessories   \n",
       "7344          Ladieswear         66  Womens Small accessories   \n",
       "105215        Ladieswear         66  Womens Small accessories   \n",
       "\n",
       "       garment_group_no  garment_group_name  \\\n",
       "36                 1019         Accessories   \n",
       "719                1019         Accessories   \n",
       "720                1019         Accessories   \n",
       "721                1019         Accessories   \n",
       "722                1019         Accessories   \n",
       "1104               1019         Accessories   \n",
       "1105               1019         Accessories   \n",
       "1106               1019         Accessories   \n",
       "1107               1019         Accessories   \n",
       "1108               1019         Accessories   \n",
       "1109               1019         Accessories   \n",
       "1110               1019         Accessories   \n",
       "1111               1019         Accessories   \n",
       "1112               1019         Accessories   \n",
       "1158               1019         Accessories   \n",
       "1159               1019         Accessories   \n",
       "1160               1019         Accessories   \n",
       "1161               1019         Accessories   \n",
       "1162               1019         Accessories   \n",
       "1163               1019         Accessories   \n",
       "1164               1019         Accessories   \n",
       "1165               1019         Accessories   \n",
       "7339               1019         Accessories   \n",
       "7340               1019         Accessories   \n",
       "7341               1019         Accessories   \n",
       "7342               1019         Accessories   \n",
       "7343               1019         Accessories   \n",
       "7344               1019         Accessories   \n",
       "105215             1019         Accessories   \n",
       "\n",
       "                                              detail_desc  \n",
       "36      Umbrella with a telescopic handle and matching...  \n",
       "719     Umbrella with a telescopic handle and matching...  \n",
       "720     Umbrella with a telescopic handle and matching...  \n",
       "721     Umbrella with a telescopic handle and matching...  \n",
       "722     Umbrella with a telescopic handle and matching...  \n",
       "1104    Umbrella in transparent, printed plastic with ...  \n",
       "1105    Umbrella in transparent, printed plastic with ...  \n",
       "1106    Umbrella in transparent, printed plastic with ...  \n",
       "1107    Umbrella in transparent, printed plastic with ...  \n",
       "1108    Umbrella in transparent, printed plastic with ...  \n",
       "1109    Umbrella in transparent, printed plastic with ...  \n",
       "1110    Umbrella in transparent, printed plastic with ...  \n",
       "1111    Umbrella in transparent, printed plastic with ...  \n",
       "1112    Umbrella in transparent, printed plastic with ...  \n",
       "1158    Small umbrella with a telescopic handle and a ...  \n",
       "1159    Small umbrella with a telescopic handle and a ...  \n",
       "1160    Small umbrella with a telescopic handle and a ...  \n",
       "1161    Small umbrella with a telescopic handle and a ...  \n",
       "1162    Small umbrella with a telescopic handle and a ...  \n",
       "1163    Small umbrella with a telescopic handle and a ...  \n",
       "1164    Small umbrella with a telescopic handle and a ...  \n",
       "1165    Small umbrella with a telescopic handle and a ...  \n",
       "7339    Umbrella with a telescopic handle and matching...  \n",
       "7340    Umbrella with a telescopic handle and matching...  \n",
       "7341    Umbrella with a telescopic handle and matching...  \n",
       "7342    Umbrella with a telescopic handle and matching...  \n",
       "7343    Umbrella with a telescopic handle and matching...  \n",
       "7344    Umbrella with a telescopic handle and matching...  \n",
       "105215  Umbrella with a transparent plastic canopy and...  \n",
       "\n",
       "[29 rows x 25 columns]"
      ]
     },
     "execution_count": 12,
     "metadata": {},
     "output_type": "execute_result"
    }
   ],
   "source": [
    "umbrellas = articles_df[articles_df[\"product_type_name\"] == \"Umbrella\"]\n",
    "umbrellas"
   ]
  },
  {
   "cell_type": "code",
   "execution_count": 13,
   "metadata": {},
   "outputs": [
    {
     "data": {
      "text/plain": [
       "29"
      ]
     },
     "execution_count": 13,
     "metadata": {},
     "output_type": "execute_result"
    }
   ],
   "source": [
    "len(umbrellas)"
   ]
  },
  {
   "cell_type": "markdown",
   "metadata": {},
   "source": [
    "There are 29 articles marked as umbrella across two product type numbers."
   ]
  },
  {
   "cell_type": "markdown",
   "metadata": {},
   "source": [
    "### Section name/no"
   ]
  },
  {
   "cell_type": "code",
   "execution_count": 14,
   "metadata": {},
   "outputs": [],
   "source": [
    "mapping_counts = articles_df.groupby(['section_no', 'section_name']).size().reset_index(name='count').sort_values(\"section_name\")"
   ]
  },
  {
   "cell_type": "code",
   "execution_count": 15,
   "metadata": {},
   "outputs": [
    {
     "data": {
      "text/plain": [
       "section_no      0\n",
       "section_name    0\n",
       "count           0\n",
       "dtype: int64"
      ]
     },
     "execution_count": 15,
     "metadata": {},
     "output_type": "execute_result"
    }
   ],
   "source": [
    "mapping_counts.isna().sum()"
   ]
  },
  {
   "cell_type": "code",
   "execution_count": 16,
   "metadata": {},
   "outputs": [
    {
     "data": {
      "text/html": [
       "<div>\n",
       "<style scoped>\n",
       "    .dataframe tbody tr th:only-of-type {\n",
       "        vertical-align: middle;\n",
       "    }\n",
       "\n",
       "    .dataframe tbody tr th {\n",
       "        vertical-align: top;\n",
       "    }\n",
       "\n",
       "    .dataframe thead th {\n",
       "        text-align: right;\n",
       "    }\n",
       "</style>\n",
       "<table border=\"1\" class=\"dataframe\">\n",
       "  <thead>\n",
       "    <tr style=\"text-align: right;\">\n",
       "      <th></th>\n",
       "      <th>section_no</th>\n",
       "      <th>section_name</th>\n",
       "      <th>count</th>\n",
       "    </tr>\n",
       "  </thead>\n",
       "  <tbody>\n",
       "    <tr>\n",
       "      <th>1</th>\n",
       "      <td>4</td>\n",
       "      <td>Ladies Other</td>\n",
       "      <td>3</td>\n",
       "    </tr>\n",
       "    <tr>\n",
       "      <th>9</th>\n",
       "      <td>17</td>\n",
       "      <td>Ladies Other</td>\n",
       "      <td>1</td>\n",
       "    </tr>\n",
       "  </tbody>\n",
       "</table>\n",
       "</div>"
      ],
      "text/plain": [
       "   section_no  section_name  count\n",
       "1           4  Ladies Other      3\n",
       "9          17  Ladies Other      1"
      ]
     },
     "execution_count": 16,
     "metadata": {},
     "output_type": "execute_result"
    }
   ],
   "source": [
    "# Find non-unique section names\n",
    "mapping_counts[mapping_counts[\"section_name\"].duplicated(keep=False)]"
   ]
  },
  {
   "cell_type": "code",
   "execution_count": 17,
   "metadata": {},
   "outputs": [
    {
     "data": {
      "text/html": [
       "<div>\n",
       "<style scoped>\n",
       "    .dataframe tbody tr th:only-of-type {\n",
       "        vertical-align: middle;\n",
       "    }\n",
       "\n",
       "    .dataframe tbody tr th {\n",
       "        vertical-align: top;\n",
       "    }\n",
       "\n",
       "    .dataframe thead th {\n",
       "        text-align: right;\n",
       "    }\n",
       "</style>\n",
       "<table border=\"1\" class=\"dataframe\">\n",
       "  <thead>\n",
       "    <tr style=\"text-align: right;\">\n",
       "      <th></th>\n",
       "      <th>article_id</th>\n",
       "      <th>product_code</th>\n",
       "      <th>prod_name</th>\n",
       "      <th>product_type_no</th>\n",
       "      <th>product_type_name</th>\n",
       "      <th>product_group_name</th>\n",
       "      <th>graphical_appearance_no</th>\n",
       "      <th>graphical_appearance_name</th>\n",
       "      <th>colour_group_code</th>\n",
       "      <th>colour_group_name</th>\n",
       "      <th>...</th>\n",
       "      <th>department_name</th>\n",
       "      <th>index_code</th>\n",
       "      <th>index_name</th>\n",
       "      <th>index_group_no</th>\n",
       "      <th>index_group_name</th>\n",
       "      <th>section_no</th>\n",
       "      <th>section_name</th>\n",
       "      <th>garment_group_no</th>\n",
       "      <th>garment_group_name</th>\n",
       "      <th>detail_desc</th>\n",
       "    </tr>\n",
       "  </thead>\n",
       "  <tbody>\n",
       "    <tr>\n",
       "      <th>38956</th>\n",
       "      <td>0659573001</td>\n",
       "      <td>0659573</td>\n",
       "      <td>Campari Top</td>\n",
       "      <td>258</td>\n",
       "      <td>Blouse</td>\n",
       "      <td>Garment Upper body</td>\n",
       "      <td>1010016</td>\n",
       "      <td>Solid</td>\n",
       "      <td>12</td>\n",
       "      <td>Light Beige</td>\n",
       "      <td>...</td>\n",
       "      <td>Test Ladies</td>\n",
       "      <td>A</td>\n",
       "      <td>Ladieswear</td>\n",
       "      <td>1</td>\n",
       "      <td>Ladieswear</td>\n",
       "      <td>4</td>\n",
       "      <td>Ladies Other</td>\n",
       "      <td>1001</td>\n",
       "      <td>Unknown</td>\n",
       "      <td>Short-sleeved top in satin with a lace yoke an...</td>\n",
       "    </tr>\n",
       "    <tr>\n",
       "      <th>38957</th>\n",
       "      <td>0659573002</td>\n",
       "      <td>0659573</td>\n",
       "      <td>Campari Top</td>\n",
       "      <td>258</td>\n",
       "      <td>Blouse</td>\n",
       "      <td>Garment Upper body</td>\n",
       "      <td>1010016</td>\n",
       "      <td>Solid</td>\n",
       "      <td>9</td>\n",
       "      <td>Black</td>\n",
       "      <td>...</td>\n",
       "      <td>Test Ladies</td>\n",
       "      <td>A</td>\n",
       "      <td>Ladieswear</td>\n",
       "      <td>1</td>\n",
       "      <td>Ladieswear</td>\n",
       "      <td>4</td>\n",
       "      <td>Ladies Other</td>\n",
       "      <td>1001</td>\n",
       "      <td>Unknown</td>\n",
       "      <td>Short-sleeved top in satin with a lace yoke an...</td>\n",
       "    </tr>\n",
       "    <tr>\n",
       "      <th>40058</th>\n",
       "      <td>0663434001</td>\n",
       "      <td>0663434</td>\n",
       "      <td>La Boum Blouse</td>\n",
       "      <td>258</td>\n",
       "      <td>Blouse</td>\n",
       "      <td>Garment Upper body</td>\n",
       "      <td>1010016</td>\n",
       "      <td>Solid</td>\n",
       "      <td>8</td>\n",
       "      <td>Dark Grey</td>\n",
       "      <td>...</td>\n",
       "      <td>Test Ladies</td>\n",
       "      <td>A</td>\n",
       "      <td>Ladieswear</td>\n",
       "      <td>1</td>\n",
       "      <td>Ladieswear</td>\n",
       "      <td>4</td>\n",
       "      <td>Ladies Other</td>\n",
       "      <td>1001</td>\n",
       "      <td>Unknown</td>\n",
       "      <td>Straight-cut blouse in satin crêpe with a smal...</td>\n",
       "    </tr>\n",
       "    <tr>\n",
       "      <th>43598</th>\n",
       "      <td>0677760001</td>\n",
       "      <td>0677760</td>\n",
       "      <td>Banana</td>\n",
       "      <td>252</td>\n",
       "      <td>Sweater</td>\n",
       "      <td>Garment Upper body</td>\n",
       "      <td>1010016</td>\n",
       "      <td>Solid</td>\n",
       "      <td>9</td>\n",
       "      <td>Black</td>\n",
       "      <td>...</td>\n",
       "      <td>Jersey inactive from S.6</td>\n",
       "      <td>A</td>\n",
       "      <td>Ladieswear</td>\n",
       "      <td>1</td>\n",
       "      <td>Ladieswear</td>\n",
       "      <td>17</td>\n",
       "      <td>Ladies Other</td>\n",
       "      <td>1005</td>\n",
       "      <td>Jersey Fancy</td>\n",
       "      <td>Long, cable-knit jumper in a soft cotton blend...</td>\n",
       "    </tr>\n",
       "  </tbody>\n",
       "</table>\n",
       "<p>4 rows × 25 columns</p>\n",
       "</div>"
      ],
      "text/plain": [
       "       article_id product_code       prod_name  product_type_no  \\\n",
       "38956  0659573001      0659573     Campari Top              258   \n",
       "38957  0659573002      0659573     Campari Top              258   \n",
       "40058  0663434001      0663434  La Boum Blouse              258   \n",
       "43598  0677760001      0677760          Banana              252   \n",
       "\n",
       "      product_type_name  product_group_name  graphical_appearance_no  \\\n",
       "38956            Blouse  Garment Upper body                  1010016   \n",
       "38957            Blouse  Garment Upper body                  1010016   \n",
       "40058            Blouse  Garment Upper body                  1010016   \n",
       "43598           Sweater  Garment Upper body                  1010016   \n",
       "\n",
       "      graphical_appearance_name  colour_group_code colour_group_name  ...  \\\n",
       "38956                     Solid                 12       Light Beige  ...   \n",
       "38957                     Solid                  9             Black  ...   \n",
       "40058                     Solid                  8         Dark Grey  ...   \n",
       "43598                     Solid                  9             Black  ...   \n",
       "\n",
       "                department_name index_code  index_name index_group_no  \\\n",
       "38956               Test Ladies          A  Ladieswear              1   \n",
       "38957               Test Ladies          A  Ladieswear              1   \n",
       "40058               Test Ladies          A  Ladieswear              1   \n",
       "43598  Jersey inactive from S.6          A  Ladieswear              1   \n",
       "\n",
       "       index_group_name section_no  section_name garment_group_no  \\\n",
       "38956        Ladieswear          4  Ladies Other             1001   \n",
       "38957        Ladieswear          4  Ladies Other             1001   \n",
       "40058        Ladieswear          4  Ladies Other             1001   \n",
       "43598        Ladieswear         17  Ladies Other             1005   \n",
       "\n",
       "       garment_group_name                                        detail_desc  \n",
       "38956             Unknown  Short-sleeved top in satin with a lace yoke an...  \n",
       "38957             Unknown  Short-sleeved top in satin with a lace yoke an...  \n",
       "40058             Unknown  Straight-cut blouse in satin crêpe with a smal...  \n",
       "43598        Jersey Fancy  Long, cable-knit jumper in a soft cotton blend...  \n",
       "\n",
       "[4 rows x 25 columns]"
      ]
     },
     "execution_count": 17,
     "metadata": {},
     "output_type": "execute_result"
    }
   ],
   "source": [
    "ladies_other = articles_df[articles_df[\"section_name\"] == \"Ladies Other\"]\n",
    "ladies_other.sort_values(\"section_no\")"
   ]
  },
  {
   "cell_type": "markdown",
   "metadata": {},
   "source": [
    "... 1 sweater and 3 blouse's. They should be in the same section. But no worries we can just ignore the `no' columns."
   ]
  },
  {
   "cell_type": "markdown",
   "metadata": {},
   "source": [
    "## Customers"
   ]
  },
  {
   "cell_type": "code",
   "execution_count": 18,
   "metadata": {},
   "outputs": [
    {
     "data": {
      "text/html": [
       "<div>\n",
       "<style scoped>\n",
       "    .dataframe tbody tr th:only-of-type {\n",
       "        vertical-align: middle;\n",
       "    }\n",
       "\n",
       "    .dataframe tbody tr th {\n",
       "        vertical-align: top;\n",
       "    }\n",
       "\n",
       "    .dataframe thead th {\n",
       "        text-align: right;\n",
       "    }\n",
       "</style>\n",
       "<table border=\"1\" class=\"dataframe\">\n",
       "  <thead>\n",
       "    <tr style=\"text-align: right;\">\n",
       "      <th></th>\n",
       "      <th>customer_id</th>\n",
       "      <th>FN</th>\n",
       "      <th>Active</th>\n",
       "      <th>club_member_status</th>\n",
       "      <th>fashion_news_frequency</th>\n",
       "      <th>age</th>\n",
       "      <th>postal_code</th>\n",
       "    </tr>\n",
       "  </thead>\n",
       "  <tbody>\n",
       "    <tr>\n",
       "      <th>0</th>\n",
       "      <td>00000dbacae5abe5e23885899a1fa44253a17956c6d1c3...</td>\n",
       "      <td>NaN</td>\n",
       "      <td>NaN</td>\n",
       "      <td>ACTIVE</td>\n",
       "      <td>NONE</td>\n",
       "      <td>49.0</td>\n",
       "      <td>52043ee2162cf5aa7ee79974281641c6f11a68d276429a...</td>\n",
       "    </tr>\n",
       "    <tr>\n",
       "      <th>1</th>\n",
       "      <td>0000423b00ade91418cceaf3b26c6af3dd342b51fd051e...</td>\n",
       "      <td>NaN</td>\n",
       "      <td>NaN</td>\n",
       "      <td>ACTIVE</td>\n",
       "      <td>NONE</td>\n",
       "      <td>25.0</td>\n",
       "      <td>2973abc54daa8a5f8ccfe9362140c63247c5eee03f1d93...</td>\n",
       "    </tr>\n",
       "    <tr>\n",
       "      <th>2</th>\n",
       "      <td>000058a12d5b43e67d225668fa1f8d618c13dc232df0ca...</td>\n",
       "      <td>NaN</td>\n",
       "      <td>NaN</td>\n",
       "      <td>ACTIVE</td>\n",
       "      <td>NONE</td>\n",
       "      <td>24.0</td>\n",
       "      <td>64f17e6a330a85798e4998f62d0930d14db8db1c054af6...</td>\n",
       "    </tr>\n",
       "    <tr>\n",
       "      <th>3</th>\n",
       "      <td>00005ca1c9ed5f5146b52ac8639a40ca9d57aeff4d1bd2...</td>\n",
       "      <td>NaN</td>\n",
       "      <td>NaN</td>\n",
       "      <td>ACTIVE</td>\n",
       "      <td>NONE</td>\n",
       "      <td>54.0</td>\n",
       "      <td>5d36574f52495e81f019b680c843c443bd343d5ca5b1c2...</td>\n",
       "    </tr>\n",
       "    <tr>\n",
       "      <th>4</th>\n",
       "      <td>00006413d8573cd20ed7128e53b7b13819fe5cfc2d801f...</td>\n",
       "      <td>1.0</td>\n",
       "      <td>1.0</td>\n",
       "      <td>ACTIVE</td>\n",
       "      <td>Regularly</td>\n",
       "      <td>52.0</td>\n",
       "      <td>25fa5ddee9aac01b35208d01736e57942317d756b32ddd...</td>\n",
       "    </tr>\n",
       "  </tbody>\n",
       "</table>\n",
       "</div>"
      ],
      "text/plain": [
       "                                         customer_id   FN  Active  \\\n",
       "0  00000dbacae5abe5e23885899a1fa44253a17956c6d1c3...  NaN     NaN   \n",
       "1  0000423b00ade91418cceaf3b26c6af3dd342b51fd051e...  NaN     NaN   \n",
       "2  000058a12d5b43e67d225668fa1f8d618c13dc232df0ca...  NaN     NaN   \n",
       "3  00005ca1c9ed5f5146b52ac8639a40ca9d57aeff4d1bd2...  NaN     NaN   \n",
       "4  00006413d8573cd20ed7128e53b7b13819fe5cfc2d801f...  1.0     1.0   \n",
       "\n",
       "  club_member_status fashion_news_frequency   age  \\\n",
       "0             ACTIVE                   NONE  49.0   \n",
       "1             ACTIVE                   NONE  25.0   \n",
       "2             ACTIVE                   NONE  24.0   \n",
       "3             ACTIVE                   NONE  54.0   \n",
       "4             ACTIVE              Regularly  52.0   \n",
       "\n",
       "                                         postal_code  \n",
       "0  52043ee2162cf5aa7ee79974281641c6f11a68d276429a...  \n",
       "1  2973abc54daa8a5f8ccfe9362140c63247c5eee03f1d93...  \n",
       "2  64f17e6a330a85798e4998f62d0930d14db8db1c054af6...  \n",
       "3  5d36574f52495e81f019b680c843c443bd343d5ca5b1c2...  \n",
       "4  25fa5ddee9aac01b35208d01736e57942317d756b32ddd...  "
      ]
     },
     "execution_count": 18,
     "metadata": {},
     "output_type": "execute_result"
    }
   ],
   "source": [
    "customers_df.head()"
   ]
  },
  {
   "cell_type": "code",
   "execution_count": 19,
   "metadata": {},
   "outputs": [
    {
     "data": {
      "text/plain": [
       "customer_id               1371980\n",
       "FN                         476930\n",
       "Active                     464404\n",
       "club_member_status        1365918\n",
       "fashion_news_frequency    1355969\n",
       "age                       1356119\n",
       "postal_code               1371980\n",
       "dtype: int64"
      ]
     },
     "execution_count": 19,
     "metadata": {},
     "output_type": "execute_result"
    }
   ],
   "source": [
    "customers_df.count()"
   ]
  },
  {
   "cell_type": "code",
   "execution_count": 20,
   "metadata": {},
   "outputs": [
    {
     "data": {
      "text/plain": [
       "customer_id                    0\n",
       "FN                        895050\n",
       "Active                    907576\n",
       "club_member_status          6062\n",
       "fashion_news_frequency     16011\n",
       "age                        15861\n",
       "postal_code                    0\n",
       "dtype: int64"
      ]
     },
     "execution_count": 20,
     "metadata": {},
     "output_type": "execute_result"
    }
   ],
   "source": [
    "customers_df.isna().sum()"
   ]
  },
  {
   "cell_type": "markdown",
   "metadata": {},
   "source": [
    "We have a couple of problems, namely a lot of missing values.\n",
    "\n",
    "FN and Active columns seem to be the most egregious ones. However, \"FN\" column is a boolean telling us whether a user is subscribed to the fashion newsletter. \"Active\" column tells us whether said customer is active for communication.\n",
    "\n",
    "https://www.kaggle.com/competitions/h-and-m-personalized-fashion-recommendations/discussion/305952\n",
    "\n",
    "So, we can just impute the value `0' for all missing values in these columns.\n",
    "\n",
    "The other columns we'll have to investigate further."
   ]
  },
  {
   "cell_type": "code",
   "execution_count": 21,
   "metadata": {},
   "outputs": [
    {
     "data": {
      "text/plain": [
       "customer_id               1371980\n",
       "FN                              1\n",
       "Active                          1\n",
       "club_member_status              3\n",
       "fashion_news_frequency          3\n",
       "age                            84\n",
       "postal_code                352899\n",
       "dtype: int64"
      ]
     },
     "execution_count": 21,
     "metadata": {},
     "output_type": "execute_result"
    }
   ],
   "source": [
    "customers_df.nunique()"
   ]
  },
  {
   "cell_type": "markdown",
   "metadata": {},
   "source": [
    "### Investigating the other columns"
   ]
  },
  {
   "cell_type": "code",
   "execution_count": 22,
   "metadata": {},
   "outputs": [
    {
     "data": {
      "text/plain": [
       "club_member_status\n",
       "ACTIVE        0.927485\n",
       "PRE-CREATE    0.067756\n",
       "NaN           0.004418\n",
       "LEFT CLUB     0.000340\n",
       "Name: proportion, dtype: float64"
      ]
     },
     "execution_count": 22,
     "metadata": {},
     "output_type": "execute_result"
    }
   ],
   "source": [
    "customers_df[\"club_member_status\"].value_counts(dropna=False, normalize=True)"
   ]
  },
  {
   "cell_type": "code",
   "execution_count": 23,
   "metadata": {},
   "outputs": [
    {
     "data": {
      "text/plain": [
       "fashion_news_frequency\n",
       "NONE         0.639740\n",
       "Regularly    0.347976\n",
       "NaN          0.011670\n",
       "Monthly      0.000614\n",
       "Name: proportion, dtype: float64"
      ]
     },
     "execution_count": 23,
     "metadata": {},
     "output_type": "execute_result"
    }
   ],
   "source": [
    "customers_df[\"fashion_news_frequency\"].value_counts(dropna=False, normalize=True)"
   ]
  },
  {
   "cell_type": "markdown",
   "metadata": {},
   "source": [
    "Quite a few missing values here, we can do a few things to mediate. Either we fill it in with NONE or we create a new value and assign to these rows.\n",
    "\n",
    "Filling in NONE will skew our data since that is also an option in here"
   ]
  },
  {
   "cell_type": "code",
   "execution_count": 24,
   "metadata": {},
   "outputs": [
    {
     "data": {
      "text/plain": [
       "age\n",
       "21.0    67530\n",
       "24.0    56124\n",
       "20.0    55196\n",
       "25.0    54989\n",
       "23.0    54867\n",
       "        ...  \n",
       "98.0        7\n",
       "97.0        4\n",
       "93.0        4\n",
       "96.0        3\n",
       "94.0        3\n",
       "Name: count, Length: 85, dtype: int64"
      ]
     },
     "execution_count": 24,
     "metadata": {},
     "output_type": "execute_result"
    }
   ],
   "source": [
    "customers_df[\"age\"].value_counts(dropna=False)"
   ]
  },
  {
   "cell_type": "code",
   "execution_count": 25,
   "metadata": {},
   "outputs": [
    {
     "name": "stderr",
     "output_type": "stream",
     "text": [
      "c:\\Users\\risky\\AppData\\Local\\Programs\\Python\\Python311\\Lib\\site-packages\\seaborn\\_oldcore.py:1498: FutureWarning: is_categorical_dtype is deprecated and will be removed in a future version. Use isinstance(dtype, CategoricalDtype) instead\n",
      "  if pd.api.types.is_categorical_dtype(vector):\n",
      "c:\\Users\\risky\\AppData\\Local\\Programs\\Python\\Python311\\Lib\\site-packages\\seaborn\\_oldcore.py:1119: FutureWarning: use_inf_as_na option is deprecated and will be removed in a future version. Convert inf values to NaN before operating instead.\n",
      "  with pd.option_context('mode.use_inf_as_na', True):\n"
     ]
    },
    {
     "data": {
      "image/png": "[encoded data removed]",
      "text/plain": [
       "<Figure size 1600x800 with 1 Axes>"
      ]
     },
     "metadata": {},
     "output_type": "display_data"
    }
   ],
   "source": [
    "# Age distribution of customers plot\n",
    "sns.set_style(\"whitegrid\")\n",
    "sns.displot(customers_df, x=\"age\", kde=True, height=8, aspect=2, stat=\"density\", bins=40).set(title=\"Age distribution of customers\");"
   ]
  },
  {
   "cell_type": "code",
   "execution_count": 26,
   "metadata": {},
   "outputs": [
    {
     "name": "stderr",
     "output_type": "stream",
     "text": [
      "c:\\Users\\risky\\AppData\\Local\\Programs\\Python\\Python311\\Lib\\site-packages\\seaborn\\_oldcore.py:1498: FutureWarning: is_categorical_dtype is deprecated and will be removed in a future version. Use isinstance(dtype, CategoricalDtype) instead\n",
      "  if pd.api.types.is_categorical_dtype(vector):\n"
     ]
    },
    {
     "data": {
      "text/plain": [
       "<Axes: xlabel='age'>"
      ]
     },
     "execution_count": 26,
     "metadata": {},
     "output_type": "execute_result"
    },
    {
     "data": {
      "image/png": "[encoded data removed]",
      "text/plain": [
       "<Figure size 640x480 with 1 Axes>"
      ]
     },
     "metadata": {},
     "output_type": "display_data"
    }
   ],
   "source": [
    "sns.boxplot(x=customers_df[\"age\"])"
   ]
  },
  {
   "cell_type": "markdown",
   "metadata": {},
   "source": [
    "The age distribution graph looks good. Let's see how many missing values we're dealing with."
   ]
  },
  {
   "cell_type": "code",
   "execution_count": 27,
   "metadata": {},
   "outputs": [
    {
     "name": "stdout",
     "output_type": "stream",
     "text": [
      "1.16% of all customer rows have age missing. \n",
      "We can use the median as value for these rows since we cannot delete them.\n"
     ]
    }
   ],
   "source": [
    "print(f\"{customers_df['age'].isna().sum() / len(customers_df):.2%} of all customer rows have age missing. \\nWe can use the median as value for these rows since we cannot delete them.\")"
   ]
  },
  {
   "cell_type": "code",
   "execution_count": 28,
   "metadata": {},
   "outputs": [],
   "source": [
    "# Check if length is 64 and contains hex characters\n",
    "assert (customers_df[\"customer_id\"].str.len() == 64).all(), \"Bad hex format\"\n",
    "assert (customers_df[\"postal_code\"].str.len() == 64).all(), \"Bad hex format\"\n",
    "assert (customers_df[\"customer_id\"].apply(lambda x: all(c in string.hexdigits for c in x))).all(), \"customer_id column contains non-hexadecimal characters\"\n",
    "assert (customers_df[\"postal_code\"].apply(lambda x: all(c in string.hexdigits for c in x))).all(), \"postal_code column contains non-hexadecimal characters\""
   ]
  },
  {
   "cell_type": "code",
   "execution_count": 29,
   "metadata": {},
   "outputs": [
    {
     "data": {
      "text/plain": [
       "customer_id\n",
       "00000dbacae5abe5e23885899a1fa44253a17956c6d1c3d25f88aa139fdfc657    1\n",
       "aaabd1b7c85e6139d6c80addf788b1fde89f52dd71edabfeef699117078ca7d1    1\n",
       "aaabafd8f1490fb3cb830f363c766568b8c53e8daf938e7262ebc58ac1417a09    1\n",
       "aaabad72467637cd672a021d2699c2bfb02736cdf53d64e8f3385b623cf9dd1e    1\n",
       "aaab82bd88837ce6490c66c82954aa1e6d59ca1ae6afcb87a86065cfcf96fb70    1\n",
       "                                                                   ..\n",
       "557716a29afd925a80a972134bf6f63fb24943ed1cd33e33850578d429f05189    1\n",
       "55771330f2fc1075c0a65181ddc963dd0630c61cc51180414195d9f18d4e584b    1\n",
       "557707059a44632a572fc1cb5676c5f874d27924b28bedfd016c78a36a4b6a40    1\n",
       "557705fcf5be9236da875c5546485cc96d607dc9fec13506ae3a5182eeb66931    1\n",
       "ffffd9ac14e89946416d80e791d064701994755c3ab686a1eaf3458c36f52241    1\n",
       "Name: count, Length: 1371980, dtype: int64"
      ]
     },
     "execution_count": 29,
     "metadata": {},
     "output_type": "execute_result"
    }
   ],
   "source": [
    "customers_df[\"customer_id\"].value_counts(dropna=False)"
   ]
  },
  {
   "cell_type": "code",
   "execution_count": 30,
   "metadata": {},
   "outputs": [
    {
     "data": {
      "text/plain": [
       "postal_code\n",
       "2c29ae653a9282cce4151bd87643c907644e09541abc28ae87dea0d1f6603b1c    120303\n",
       "cc4ed85e30f4977dae47662ddc468cd2eec11472de6fac5ec985080fd92243c8       261\n",
       "714976379549eb90aae4a71bca6c7402cc646ae7c40f6c1cb91d4b5a18623fc1       159\n",
       "7c1fa3b0ec1d37ce2c3f34f63bd792f3b4494f324b6be5d1e4ba6a75456b96a7       157\n",
       "5b7eb31eabebd3277de632b82267286d847fd5d44287ee150bb4206b48439145       156\n",
       "                                                                     ...  \n",
       "16dd7e391f305b54c01ffed87c189e33de83158d0a808d1b346222703742f638         1\n",
       "5ce1c699380b3c13655347c9636043f5e64ec2538a1ee7d42dd253a584577630         1\n",
       "afdedc642d01efeefec6fc8d3394724a71888ebd0ff0311eff6f34946589479d         1\n",
       "4c8838d278d23029c920b9684fa4cf30a532428a445afb300eeb288685cf00e1         1\n",
       "0a1a03306fb2f62164c2a439b38c0caa64b40deaae868799ccb93ac69444b79d         1\n",
       "Name: count, Length: 352899, dtype: int64"
      ]
     },
     "execution_count": 30,
     "metadata": {},
     "output_type": "execute_result"
    }
   ],
   "source": [
    "customers_df[\"postal_code\"].value_counts(dropna=False)"
   ]
  },
  {
   "cell_type": "markdown",
   "metadata": {},
   "source": [
    "`2c29ae653a9282cce4151bd87643c907644e09541abc28ae87dea0d1f6603b1c' is suspicious."
   ]
  },
  {
   "cell_type": "markdown",
   "metadata": {},
   "source": [
    "## Transactions"
   ]
  },
  {
   "cell_type": "code",
   "execution_count": 31,
   "metadata": {},
   "outputs": [
    {
     "name": "stdout",
     "output_type": "stream",
     "text": [
      "t_dat,customer_id,article_id,price,sales_channel_id\n",
      "\n",
      "2018-09-20,000058a12d5b43e67d225668fa1f8d618c13dc232df0cad8ffe7ad4a1091e318,0663713001,0.050830508474576264,2\n",
      "\n",
      "2018-09-20,000058a12d5b43e67d225668fa1f8d618c13dc232df0cad8ffe7ad4a1091e318,0541518023,0.03049152542372881,2\n",
      "\n",
      "2018-09-20,00007d2de826758b65a93dd24ce629ed66842531df6699338c5570910a014cc2,0505221004,0.01523728813559322,2\n",
      "\n",
      "2018-09-20,00007d2de826758b65a93dd24ce629ed66842531df6699338c5570910a014cc2,0685687003,0.016932203389830508,2\n",
      "\n"
     ]
    }
   ],
   "source": [
    "# Transactions file too big, lets print the first couple lines from the file\n",
    "with open('./data/transactions_train.csv') as f:\n",
    "    for i in range(5):\n",
    "        print(f.readline())"
   ]
  },
  {
   "cell_type": "code",
   "execution_count": 32,
   "metadata": {},
   "outputs": [
    {
     "data": {
      "text/html": [
       "<div>\n",
       "<style scoped>\n",
       "    .dataframe tbody tr th:only-of-type {\n",
       "        vertical-align: middle;\n",
       "    }\n",
       "\n",
       "    .dataframe tbody tr th {\n",
       "        vertical-align: top;\n",
       "    }\n",
       "\n",
       "    .dataframe thead th {\n",
       "        text-align: right;\n",
       "    }\n",
       "</style>\n",
       "<table border=\"1\" class=\"dataframe\">\n",
       "  <thead>\n",
       "    <tr style=\"text-align: right;\">\n",
       "      <th></th>\n",
       "      <th>t_dat</th>\n",
       "      <th>customer_id</th>\n",
       "      <th>article_id</th>\n",
       "      <th>price</th>\n",
       "      <th>sales_channel_id</th>\n",
       "    </tr>\n",
       "  </thead>\n",
       "  <tbody>\n",
       "    <tr>\n",
       "      <th>0</th>\n",
       "      <td>2018-09-20</td>\n",
       "      <td>000058a12d5b43e67d225668fa1f8d618c13dc232df0ca...</td>\n",
       "      <td>0663713001</td>\n",
       "      <td>0.050831</td>\n",
       "      <td>2</td>\n",
       "    </tr>\n",
       "    <tr>\n",
       "      <th>1</th>\n",
       "      <td>2018-09-20</td>\n",
       "      <td>000058a12d5b43e67d225668fa1f8d618c13dc232df0ca...</td>\n",
       "      <td>0541518023</td>\n",
       "      <td>0.030492</td>\n",
       "      <td>2</td>\n",
       "    </tr>\n",
       "    <tr>\n",
       "      <th>2</th>\n",
       "      <td>2018-09-20</td>\n",
       "      <td>00007d2de826758b65a93dd24ce629ed66842531df6699...</td>\n",
       "      <td>0505221004</td>\n",
       "      <td>0.015237</td>\n",
       "      <td>2</td>\n",
       "    </tr>\n",
       "    <tr>\n",
       "      <th>3</th>\n",
       "      <td>2018-09-20</td>\n",
       "      <td>00007d2de826758b65a93dd24ce629ed66842531df6699...</td>\n",
       "      <td>0685687003</td>\n",
       "      <td>0.016932</td>\n",
       "      <td>2</td>\n",
       "    </tr>\n",
       "    <tr>\n",
       "      <th>4</th>\n",
       "      <td>2018-09-20</td>\n",
       "      <td>00007d2de826758b65a93dd24ce629ed66842531df6699...</td>\n",
       "      <td>0685687004</td>\n",
       "      <td>0.016932</td>\n",
       "      <td>2</td>\n",
       "    </tr>\n",
       "  </tbody>\n",
       "</table>\n",
       "</div>"
      ],
      "text/plain": [
       "        t_dat                                        customer_id  article_id  \\\n",
       "0  2018-09-20  000058a12d5b43e67d225668fa1f8d618c13dc232df0ca...  0663713001   \n",
       "1  2018-09-20  000058a12d5b43e67d225668fa1f8d618c13dc232df0ca...  0541518023   \n",
       "2  2018-09-20  00007d2de826758b65a93dd24ce629ed66842531df6699...  0505221004   \n",
       "3  2018-09-20  00007d2de826758b65a93dd24ce629ed66842531df6699...  0685687003   \n",
       "4  2018-09-20  00007d2de826758b65a93dd24ce629ed66842531df6699...  0685687004   \n",
       "\n",
       "      price  sales_channel_id  \n",
       "0  0.050831                 2  \n",
       "1  0.030492                 2  \n",
       "2  0.015237                 2  \n",
       "3  0.016932                 2  \n",
       "4  0.016932                 2  "
      ]
     },
     "execution_count": 32,
     "metadata": {},
     "output_type": "execute_result"
    }
   ],
   "source": [
    "transactions_df.head()"
   ]
  },
  {
   "cell_type": "code",
   "execution_count": 33,
   "metadata": {},
   "outputs": [
    {
     "data": {
      "text/plain": [
       "t_dat               0\n",
       "customer_id         0\n",
       "article_id          0\n",
       "price               0\n",
       "sales_channel_id    0\n",
       "dtype: int64"
      ]
     },
     "execution_count": 33,
     "metadata": {},
     "output_type": "execute_result"
    }
   ],
   "source": [
    "transactions_df.isna().sum()"
   ]
  },
  {
   "cell_type": "code",
   "execution_count": 34,
   "metadata": {},
   "outputs": [
    {
     "data": {
      "text/plain": [
       "True"
      ]
     },
     "execution_count": 34,
     "metadata": {},
     "output_type": "execute_result"
    }
   ],
   "source": [
    "# Check if all customers in transactions are in customers_df\n",
    "transactions_df[\"customer_id\"].isin(customers_df[\"customer_id\"]).all()"
   ]
  },
  {
   "cell_type": "code",
   "execution_count": 35,
   "metadata": {},
   "outputs": [
    {
     "data": {
      "text/plain": [
       "customer_id\n",
       "True     0.992931\n",
       "False    0.007069\n",
       "Name: proportion, dtype: float64"
      ]
     },
     "execution_count": 35,
     "metadata": {},
     "output_type": "execute_result"
    }
   ],
   "source": [
    "customers_df[\"customer_id\"].isin(transactions_df[\"customer_id\"]).value_counts(normalize=True)"
   ]
  },
  {
   "cell_type": "code",
   "execution_count": 36,
   "metadata": {},
   "outputs": [
    {
     "data": {
      "text/plain": [
       "True"
      ]
     },
     "execution_count": 36,
     "metadata": {},
     "output_type": "execute_result"
    }
   ],
   "source": [
    "# Check if all articles in transactions are in articles_df\n",
    "transactions_df[\"article_id\"].isin(articles_df[\"article_id\"]).all()"
   ]
  },
  {
   "cell_type": "code",
   "execution_count": 37,
   "metadata": {},
   "outputs": [
    {
     "data": {
      "text/plain": [
       "article_id\n",
       "True     0.990572\n",
       "False    0.009428\n",
       "Name: proportion, dtype: float64"
      ]
     },
     "execution_count": 37,
     "metadata": {},
     "output_type": "execute_result"
    }
   ],
   "source": [
    "articles_df[\"article_id\"].isin(transactions_df[\"article_id\"]).value_counts(normalize=True)"
   ]
  },
  {
   "cell_type": "code",
   "execution_count": 38,
   "metadata": {},
   "outputs": [
    {
     "data": {
      "text/plain": [
       "price\n",
       "0.016932    3416921\n",
       "0.033881    3406538\n",
       "0.025407    3266926\n",
       "0.013542    1497769\n",
       "0.050831    1494130\n",
       "             ...   \n",
       "0.250780          1\n",
       "0.106932          1\n",
       "0.335678          1\n",
       "0.301949          1\n",
       "0.250390          1\n",
       "Name: count, Length: 9857, dtype: int64"
      ]
     },
     "execution_count": 38,
     "metadata": {},
     "output_type": "execute_result"
    }
   ],
   "source": [
    "transactions_df[\"price\"].value_counts()"
   ]
  },
  {
   "cell_type": "code",
   "execution_count": 39,
   "metadata": {},
   "outputs": [
    {
     "data": {
      "text/plain": [
       "t_dat\n",
       "2019-09-28    198622\n",
       "2020-04-11    162799\n",
       "2019-11-29    160875\n",
       "2018-11-23    142018\n",
       "2018-09-29    141700\n",
       "               ...  \n",
       "2019-01-01     18145\n",
       "2018-09-22     17635\n",
       "2018-12-25     14799\n",
       "2019-12-25     13637\n",
       "2020-01-01     12760\n",
       "Name: count, Length: 734, dtype: int64"
      ]
     },
     "execution_count": 39,
     "metadata": {},
     "output_type": "execute_result"
    }
   ],
   "source": [
    "transactions_df[\"t_dat\"].value_counts()"
   ]
  },
  {
   "cell_type": "code",
   "execution_count": 41,
   "metadata": {},
   "outputs": [],
   "source": [
    "transactions_instore = transactions_df[transactions_df[\"sales_channel_id\"] == 1]\n",
    "transactions_online = transactions_df[transactions_df[\"sales_channel_id\"] == 2]"
   ]
  },
  {
   "cell_type": "code",
   "execution_count": 42,
   "metadata": {},
   "outputs": [
    {
     "name": "stderr",
     "output_type": "stream",
     "text": [
      "c:\\Users\\risky\\AppData\\Local\\Programs\\Python\\Python311\\Lib\\site-packages\\seaborn\\_oldcore.py:1498: FutureWarning: is_categorical_dtype is deprecated and will be removed in a future version. Use isinstance(dtype, CategoricalDtype) instead\n",
      "  if pd.api.types.is_categorical_dtype(vector):\n",
      "c:\\Users\\risky\\AppData\\Local\\Programs\\Python\\Python311\\Lib\\site-packages\\seaborn\\_oldcore.py:1119: FutureWarning: use_inf_as_na option is deprecated and will be removed in a future version. Convert inf values to NaN before operating instead.\n",
      "  with pd.option_context('mode.use_inf_as_na', True):\n"
     ]
    },
    {
     "data": {
      "image/png": "[encoded data removed]",
      "text/plain": [
       "<Figure size 1600x800 with 1 Axes>"
      ]
     },
     "metadata": {},
     "output_type": "display_data"
    }
   ],
   "source": [
    "dates = pd.to_datetime(transactions_instore[\"t_dat\"])\n",
    "sns.displot(dates, height=8, aspect=2, kde=True, stat=\"density\", bins=48).set(title=\"Instore transactions density over time (bi-weekly)\");"
   ]
  },
  {
   "cell_type": "code",
   "execution_count": 43,
   "metadata": {},
   "outputs": [
    {
     "name": "stderr",
     "output_type": "stream",
     "text": [
      "c:\\Users\\risky\\AppData\\Local\\Programs\\Python\\Python311\\Lib\\site-packages\\seaborn\\_oldcore.py:1498: FutureWarning: is_categorical_dtype is deprecated and will be removed in a future version. Use isinstance(dtype, CategoricalDtype) instead\n",
      "  if pd.api.types.is_categorical_dtype(vector):\n",
      "c:\\Users\\risky\\AppData\\Local\\Programs\\Python\\Python311\\Lib\\site-packages\\seaborn\\_oldcore.py:1119: FutureWarning: use_inf_as_na option is deprecated and will be removed in a future version. Convert inf values to NaN before operating instead.\n",
      "  with pd.option_context('mode.use_inf_as_na', True):\n"
     ]
    },
    {
     "data": {
      "image/png": "[encoded data removed]",
      "text/plain": [
       "<Figure size 1600x800 with 1 Axes>"
      ]
     },
     "metadata": {},
     "output_type": "display_data"
    }
   ],
   "source": [
    "dates = pd.to_datetime(transactions_online[\"t_dat\"])\n",
    "sns.displot(dates, height=8, aspect=2, kde=True, stat=\"density\", bins=48).set(title=\"Online transactions density over time (bi-weekly)\");"
   ]
  },
  {
   "cell_type": "code",
   "execution_count": 45,
   "metadata": {},
   "outputs": [
    {
     "name": "stdout",
     "output_type": "stream",
     "text": [
      "2018-09-20\n",
      "2020-09-22\n"
     ]
    }
   ],
   "source": [
    "print(transactions_df[\"t_dat\"].min())\n",
    "print(transactions_df[\"t_dat\"].max())"
   ]
  },
  {
   "cell_type": "markdown",
   "metadata": {},
   "source": [
    "## Submission example"
   ]
  },
  {
   "cell_type": "code",
   "execution_count": 46,
   "metadata": {},
   "outputs": [
    {
     "data": {
      "text/html": [
       "<div>\n",
       "<style scoped>\n",
       "    .dataframe tbody tr th:only-of-type {\n",
       "        vertical-align: middle;\n",
       "    }\n",
       "\n",
       "    .dataframe tbody tr th {\n",
       "        vertical-align: top;\n",
       "    }\n",
       "\n",
       "    .dataframe thead th {\n",
       "        text-align: right;\n",
       "    }\n",
       "</style>\n",
       "<table border=\"1\" class=\"dataframe\">\n",
       "  <thead>\n",
       "    <tr style=\"text-align: right;\">\n",
       "      <th></th>\n",
       "      <th>customer_id</th>\n",
       "      <th>prediction</th>\n",
       "    </tr>\n",
       "  </thead>\n",
       "  <tbody>\n",
       "    <tr>\n",
       "      <th>0</th>\n",
       "      <td>00000dbacae5abe5e23885899a1fa44253a17956c6d1c3...</td>\n",
       "      <td>0706016001 0706016002 0372860001 0610776002 07...</td>\n",
       "    </tr>\n",
       "    <tr>\n",
       "      <th>1</th>\n",
       "      <td>0000423b00ade91418cceaf3b26c6af3dd342b51fd051e...</td>\n",
       "      <td>0706016001 0706016002 0372860001 0610776002 07...</td>\n",
       "    </tr>\n",
       "    <tr>\n",
       "      <th>2</th>\n",
       "      <td>000058a12d5b43e67d225668fa1f8d618c13dc232df0ca...</td>\n",
       "      <td>0706016001 0706016002 0372860001 0610776002 07...</td>\n",
       "    </tr>\n",
       "    <tr>\n",
       "      <th>3</th>\n",
       "      <td>00005ca1c9ed5f5146b52ac8639a40ca9d57aeff4d1bd2...</td>\n",
       "      <td>0706016001 0706016002 0372860001 0610776002 07...</td>\n",
       "    </tr>\n",
       "    <tr>\n",
       "      <th>4</th>\n",
       "      <td>00006413d8573cd20ed7128e53b7b13819fe5cfc2d801f...</td>\n",
       "      <td>0706016001 0706016002 0372860001 0610776002 07...</td>\n",
       "    </tr>\n",
       "  </tbody>\n",
       "</table>\n",
       "</div>"
      ],
      "text/plain": [
       "                                         customer_id  \\\n",
       "0  00000dbacae5abe5e23885899a1fa44253a17956c6d1c3...   \n",
       "1  0000423b00ade91418cceaf3b26c6af3dd342b51fd051e...   \n",
       "2  000058a12d5b43e67d225668fa1f8d618c13dc232df0ca...   \n",
       "3  00005ca1c9ed5f5146b52ac8639a40ca9d57aeff4d1bd2...   \n",
       "4  00006413d8573cd20ed7128e53b7b13819fe5cfc2d801f...   \n",
       "\n",
       "                                          prediction  \n",
       "0  0706016001 0706016002 0372860001 0610776002 07...  \n",
       "1  0706016001 0706016002 0372860001 0610776002 07...  \n",
       "2  0706016001 0706016002 0372860001 0610776002 07...  \n",
       "3  0706016001 0706016002 0372860001 0610776002 07...  \n",
       "4  0706016001 0706016002 0372860001 0610776002 07...  "
      ]
     },
     "execution_count": 46,
     "metadata": {},
     "output_type": "execute_result"
    }
   ],
   "source": [
    "sample_submission_df.head()"
   ]
  },
  {
   "cell_type": "code",
   "execution_count": 47,
   "metadata": {},
   "outputs": [
    {
     "data": {
      "text/plain": [
       "customer_id    0\n",
       "prediction     0\n",
       "dtype: int64"
      ]
     },
     "execution_count": 47,
     "metadata": {},
     "output_type": "execute_result"
    }
   ],
   "source": [
    "sample_submission_df.isna().sum()"
   ]
  },
  {
   "cell_type": "code",
   "execution_count": 48,
   "metadata": {},
   "outputs": [
    {
     "data": {
      "text/plain": [
       "customer_id    1371980\n",
       "prediction     1371980\n",
       "dtype: int64"
      ]
     },
     "execution_count": 48,
     "metadata": {},
     "output_type": "execute_result"
    }
   ],
   "source": [
    "sample_submission_df.count()"
   ]
  },
  {
   "cell_type": "markdown",
   "metadata": {},
   "source": [
    "Let's check if all customers are present"
   ]
  },
  {
   "cell_type": "code",
   "execution_count": 49,
   "metadata": {},
   "outputs": [],
   "source": [
    "assert (sample_submission_df[\"customer_id\"] == customers_df[\"customer_id\"]).all(), \"customer_id in sample_submission.csv does not match customer_id in customers.csv\""
   ]
  },
  {
   "cell_type": "code",
   "execution_count": 50,
   "metadata": {},
   "outputs": [
    {
     "data": {
      "text/plain": [
       "customer_id    1371980\n",
       "prediction           1\n",
       "dtype: int64"
      ]
     },
     "execution_count": 50,
     "metadata": {},
     "output_type": "execute_result"
    }
   ],
   "source": [
    "sample_submission_df.nunique()"
   ]
  },
  {
   "cell_type": "markdown",
   "metadata": {},
   "source": [
    "There is only 1 prediction, let's print it."
   ]
  },
  {
   "cell_type": "code",
   "execution_count": 51,
   "metadata": {},
   "outputs": [
    {
     "data": {
      "text/plain": [
       "prediction\n",
       "0706016001 0706016002 0372860001 0610776002 0759871002 0464297007 0372860002 0610776001 0399223001 0706016003 0720125001 0156231001    1371980\n",
       "Name: count, dtype: int64"
      ]
     },
     "execution_count": 51,
     "metadata": {},
     "output_type": "execute_result"
    }
   ],
   "source": [
    "sample_submission_df[\"prediction\"].value_counts()"
   ]
  },
  {
   "cell_type": "code",
   "execution_count": 52,
   "metadata": {},
   "outputs": [],
   "source": [
    "prediction = sample_submission_df[\"prediction\"].iloc[0]\n",
    "for article in prediction.split(\" \"):\n",
    "    assert len(article) == 10, \"Article id must be 10 digits long\""
   ]
  },
  {
   "cell_type": "markdown",
   "metadata": {},
   "source": [
    "All good!"
   ]
  }
 ],
 "metadata": {
  "kernelspec": {
   "display_name": "Python 3",
   "language": "python",
   "name": "python3"
  },
  "language_info": {
   "codemirror_mode": {
    "name": "ipython",
    "version": 3
   },
   "file_extension": ".py",
   "mimetype": "text/x-python",
   "name": "python",
   "nbconvert_exporter": "python",
   "pygments_lexer": "ipython3",
   "version": "3.11.5"
  },
  "orig_nbformat": 4
 },
 "nbformat": 4,
 "nbformat_minor": 2
}
