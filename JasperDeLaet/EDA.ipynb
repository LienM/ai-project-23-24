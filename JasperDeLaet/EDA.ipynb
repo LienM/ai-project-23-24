{
 "cells": [
  {
   "cell_type": "code",
   "execution_count": 78,
   "id": "6344801d-bd88-41ba-90f1-2771d409ac8b",
   "metadata": {},
   "outputs": [],
   "source": [
    "import pandas as pd\n",
    "import matplotlib.pyplot as plt"
   ]
  },
  {
   "cell_type": "code",
   "execution_count": 79,
   "id": "a01a78f3-e731-4639-a23b-26b80432f282",
   "metadata": {},
   "outputs": [],
   "source": [
    "# load in articles.csv\n",
    "articles_df = pd.read_csv('./data/articles.csv')"
   ]
  },
  {
   "cell_type": "code",
   "execution_count": 80,
   "id": "41abe9a5-182b-4710-82b0-6939e2a2f2d3",
   "metadata": {},
   "outputs": [
    {
     "name": "stdout",
     "output_type": "stream",
     "text": [
      "25\n"
     ]
    }
   ],
   "source": [
    "print(len(articles_df.columns))"
   ]
  },
  {
   "cell_type": "code",
   "execution_count": 81,
   "id": "20492a56-7797-4044-8c87-8241e2e53a07",
   "metadata": {},
   "outputs": [
    {
     "name": "stdout",
     "output_type": "stream",
     "text": [
      "                              Total    %\n",
      "detail_desc                     416  0.4\n",
      "perceived_colour_master_name      0  0.0\n",
      "garment_group_name                0  0.0\n",
      "garment_group_no                  0  0.0\n",
      "section_name                      0  0.0\n",
      "section_no                        0  0.0\n",
      "index_group_name                  0  0.0\n",
      "index_group_no                    0  0.0\n",
      "index_name                        0  0.0\n",
      "index_code                        0  0.0\n",
      "department_name                   0  0.0\n",
      "department_no                     0  0.0\n",
      "article_id                        0  0.0\n",
      "product_code                      0  0.0\n",
      "perceived_colour_value_name       0  0.0\n",
      "perceived_colour_value_id         0  0.0\n",
      "colour_group_name                 0  0.0\n",
      "colour_group_code                 0  0.0\n",
      "graphical_appearance_name         0  0.0\n",
      "graphical_appearance_no           0  0.0\n",
      "product_group_name                0  0.0\n",
      "product_type_name                 0  0.0\n",
      "product_type_no                   0  0.0\n",
      "prod_name                         0  0.0\n",
      "perceived_colour_master_id        0  0.0\n"
     ]
    }
   ],
   "source": [
    "# Following code is to find any missing values for each columns, as well as displaying the percentage that is missing\n",
    "total = articles_df.isnull().sum().sort_values(ascending=False)\n",
    "percent_1 = articles_df.isnull().sum()/articles_df.isnull().count()*100\n",
    "percent_2 = (round(percent_1, 1)).sort_values(ascending=False)\n",
    "missing_data = pd.concat([total, percent_2], axis=1, keys=['Total', '%'])\n",
    "print(missing_data.head(25)) # 25 is the amount of columns (can be found by doing print(len(df.columns)))"
   ]
  },
  {
   "cell_type": "code",
   "execution_count": 82,
   "id": "c967c74e-ce17-41ef-b3d4-2c79b19edd98",
   "metadata": {},
   "outputs": [
    {
     "data": {
      "text/plain": [
       "count                                105126\n",
       "unique                                43404\n",
       "top       T-shirt in printed cotton jersey.\n",
       "freq                                    159\n",
       "Name: detail_desc, dtype: object"
      ]
     },
     "execution_count": 82,
     "metadata": {},
     "output_type": "execute_result"
    }
   ],
   "source": [
    "articles_df['detail_desc'].describe()"
   ]
  },
  {
   "cell_type": "code",
   "execution_count": 83,
   "id": "00a2383e-1086-4a50-95bf-dc817c254592",
   "metadata": {},
   "outputs": [
    {
     "data": {
      "text/html": [
       "<div>\n",
       "<style scoped>\n",
       "    .dataframe tbody tr th:only-of-type {\n",
       "        vertical-align: middle;\n",
       "    }\n",
       "\n",
       "    .dataframe tbody tr th {\n",
       "        vertical-align: top;\n",
       "    }\n",
       "\n",
       "    .dataframe thead th {\n",
       "        text-align: right;\n",
       "    }\n",
       "</style>\n",
       "<table border=\"1\" class=\"dataframe\">\n",
       "  <thead>\n",
       "    <tr style=\"text-align: right;\">\n",
       "      <th></th>\n",
       "      <th>article_id</th>\n",
       "      <th>product_code</th>\n",
       "      <th>product_type_no</th>\n",
       "      <th>graphical_appearance_no</th>\n",
       "      <th>colour_group_code</th>\n",
       "      <th>perceived_colour_value_id</th>\n",
       "      <th>perceived_colour_master_id</th>\n",
       "      <th>department_no</th>\n",
       "      <th>index_group_no</th>\n",
       "      <th>section_no</th>\n",
       "      <th>garment_group_no</th>\n",
       "    </tr>\n",
       "  </thead>\n",
       "  <tbody>\n",
       "    <tr>\n",
       "      <th>count</th>\n",
       "      <td>1.055420e+05</td>\n",
       "      <td>105542.000000</td>\n",
       "      <td>105542.000000</td>\n",
       "      <td>1.055420e+05</td>\n",
       "      <td>105542.000000</td>\n",
       "      <td>105542.000000</td>\n",
       "      <td>105542.000000</td>\n",
       "      <td>105542.000000</td>\n",
       "      <td>105542.000000</td>\n",
       "      <td>105542.000000</td>\n",
       "      <td>105542.000000</td>\n",
       "    </tr>\n",
       "    <tr>\n",
       "      <th>mean</th>\n",
       "      <td>6.984246e+08</td>\n",
       "      <td>698424.563378</td>\n",
       "      <td>234.861875</td>\n",
       "      <td>1.009515e+06</td>\n",
       "      <td>32.233822</td>\n",
       "      <td>3.206183</td>\n",
       "      <td>7.807972</td>\n",
       "      <td>4532.777833</td>\n",
       "      <td>3.171534</td>\n",
       "      <td>42.664219</td>\n",
       "      <td>1010.438290</td>\n",
       "    </tr>\n",
       "    <tr>\n",
       "      <th>std</th>\n",
       "      <td>1.284624e+08</td>\n",
       "      <td>128462.384432</td>\n",
       "      <td>75.049308</td>\n",
       "      <td>2.241359e+04</td>\n",
       "      <td>28.086154</td>\n",
       "      <td>1.563839</td>\n",
       "      <td>5.376727</td>\n",
       "      <td>2712.692011</td>\n",
       "      <td>4.353234</td>\n",
       "      <td>23.260105</td>\n",
       "      <td>6.731023</td>\n",
       "    </tr>\n",
       "    <tr>\n",
       "      <th>min</th>\n",
       "      <td>1.087750e+08</td>\n",
       "      <td>108775.000000</td>\n",
       "      <td>-1.000000</td>\n",
       "      <td>-1.000000e+00</td>\n",
       "      <td>-1.000000</td>\n",
       "      <td>-1.000000</td>\n",
       "      <td>-1.000000</td>\n",
       "      <td>1201.000000</td>\n",
       "      <td>1.000000</td>\n",
       "      <td>2.000000</td>\n",
       "      <td>1001.000000</td>\n",
       "    </tr>\n",
       "    <tr>\n",
       "      <th>25%</th>\n",
       "      <td>6.169925e+08</td>\n",
       "      <td>616992.500000</td>\n",
       "      <td>252.000000</td>\n",
       "      <td>1.010008e+06</td>\n",
       "      <td>9.000000</td>\n",
       "      <td>2.000000</td>\n",
       "      <td>4.000000</td>\n",
       "      <td>1676.000000</td>\n",
       "      <td>1.000000</td>\n",
       "      <td>20.000000</td>\n",
       "      <td>1005.000000</td>\n",
       "    </tr>\n",
       "    <tr>\n",
       "      <th>50%</th>\n",
       "      <td>7.022130e+08</td>\n",
       "      <td>702213.000000</td>\n",
       "      <td>259.000000</td>\n",
       "      <td>1.010016e+06</td>\n",
       "      <td>14.000000</td>\n",
       "      <td>4.000000</td>\n",
       "      <td>5.000000</td>\n",
       "      <td>4222.000000</td>\n",
       "      <td>2.000000</td>\n",
       "      <td>46.000000</td>\n",
       "      <td>1009.000000</td>\n",
       "    </tr>\n",
       "    <tr>\n",
       "      <th>75%</th>\n",
       "      <td>7.967030e+08</td>\n",
       "      <td>796703.000000</td>\n",
       "      <td>272.000000</td>\n",
       "      <td>1.010016e+06</td>\n",
       "      <td>52.000000</td>\n",
       "      <td>4.000000</td>\n",
       "      <td>11.000000</td>\n",
       "      <td>7389.000000</td>\n",
       "      <td>4.000000</td>\n",
       "      <td>61.000000</td>\n",
       "      <td>1017.000000</td>\n",
       "    </tr>\n",
       "    <tr>\n",
       "      <th>max</th>\n",
       "      <td>9.594610e+08</td>\n",
       "      <td>959461.000000</td>\n",
       "      <td>762.000000</td>\n",
       "      <td>1.010029e+06</td>\n",
       "      <td>93.000000</td>\n",
       "      <td>7.000000</td>\n",
       "      <td>20.000000</td>\n",
       "      <td>9989.000000</td>\n",
       "      <td>26.000000</td>\n",
       "      <td>97.000000</td>\n",
       "      <td>1025.000000</td>\n",
       "    </tr>\n",
       "  </tbody>\n",
       "</table>\n",
       "</div>"
      ],
      "text/plain": [
       "         article_id   product_code  product_type_no  graphical_appearance_no  \\\n",
       "count  1.055420e+05  105542.000000    105542.000000             1.055420e+05   \n",
       "mean   6.984246e+08  698424.563378       234.861875             1.009515e+06   \n",
       "std    1.284624e+08  128462.384432        75.049308             2.241359e+04   \n",
       "min    1.087750e+08  108775.000000        -1.000000            -1.000000e+00   \n",
       "25%    6.169925e+08  616992.500000       252.000000             1.010008e+06   \n",
       "50%    7.022130e+08  702213.000000       259.000000             1.010016e+06   \n",
       "75%    7.967030e+08  796703.000000       272.000000             1.010016e+06   \n",
       "max    9.594610e+08  959461.000000       762.000000             1.010029e+06   \n",
       "\n",
       "       colour_group_code  perceived_colour_value_id  \\\n",
       "count      105542.000000              105542.000000   \n",
       "mean           32.233822                   3.206183   \n",
       "std            28.086154                   1.563839   \n",
       "min            -1.000000                  -1.000000   \n",
       "25%             9.000000                   2.000000   \n",
       "50%            14.000000                   4.000000   \n",
       "75%            52.000000                   4.000000   \n",
       "max            93.000000                   7.000000   \n",
       "\n",
       "       perceived_colour_master_id  department_no  index_group_no  \\\n",
       "count               105542.000000  105542.000000   105542.000000   \n",
       "mean                     7.807972    4532.777833        3.171534   \n",
       "std                      5.376727    2712.692011        4.353234   \n",
       "min                     -1.000000    1201.000000        1.000000   \n",
       "25%                      4.000000    1676.000000        1.000000   \n",
       "50%                      5.000000    4222.000000        2.000000   \n",
       "75%                     11.000000    7389.000000        4.000000   \n",
       "max                     20.000000    9989.000000       26.000000   \n",
       "\n",
       "          section_no  garment_group_no  \n",
       "count  105542.000000     105542.000000  \n",
       "mean       42.664219       1010.438290  \n",
       "std        23.260105          6.731023  \n",
       "min         2.000000       1001.000000  \n",
       "25%        20.000000       1005.000000  \n",
       "50%        46.000000       1009.000000  \n",
       "75%        61.000000       1017.000000  \n",
       "max        97.000000       1025.000000  "
      ]
     },
     "execution_count": 83,
     "metadata": {},
     "output_type": "execute_result"
    }
   ],
   "source": [
    "articles_df.describe()"
   ]
  },
  {
   "cell_type": "code",
   "execution_count": 84,
   "id": "e4b6ffc4-e215-4451-ba70-68fb6b0e2c05",
   "metadata": {},
   "outputs": [
    {
     "name": "stdout",
     "output_type": "stream",
     "text": [
      "121\n"
     ]
    }
   ],
   "source": [
    "print(articles_df['product_type_no'].value_counts()[-1])"
   ]
  },
  {
   "cell_type": "code",
   "execution_count": 85,
   "id": "f398ffd2-1dfe-4929-bb0d-48c8264538ff",
   "metadata": {},
   "outputs": [
    {
     "name": "stdout",
     "output_type": "stream",
     "text": [
      "52\n"
     ]
    }
   ],
   "source": [
    "print(articles_df['graphical_appearance_no'].value_counts()[-1])"
   ]
  },
  {
   "cell_type": "code",
   "execution_count": 86,
   "id": "25aa38dd-cbb2-486a-b267-a0fb5a77365a",
   "metadata": {},
   "outputs": [
    {
     "name": "stdout",
     "output_type": "stream",
     "text": [
      "28\n"
     ]
    }
   ],
   "source": [
    "print(articles_df['colour_group_code'].value_counts()[-1])"
   ]
  },
  {
   "cell_type": "code",
   "execution_count": 87,
   "id": "f8ab98ba-7c93-4aa0-b2dd-b6fa2fc54289",
   "metadata": {},
   "outputs": [
    {
     "name": "stdout",
     "output_type": "stream",
     "text": [
      "28\n"
     ]
    }
   ],
   "source": [
    "print(articles_df['perceived_colour_value_id'].value_counts()[-1])"
   ]
  },
  {
   "cell_type": "code",
   "execution_count": 88,
   "id": "f76339fc-8913-4fce-9f29-673d36a5ac3d",
   "metadata": {},
   "outputs": [
    {
     "name": "stdout",
     "output_type": "stream",
     "text": [
      "685\n"
     ]
    }
   ],
   "source": [
    "print(articles_df['perceived_colour_master_id'].value_counts()[-1])"
   ]
  },
  {
   "cell_type": "code",
   "execution_count": 89,
   "id": "af3e3c42-f950-4beb-a4e0-808c65fc4d9b",
   "metadata": {},
   "outputs": [],
   "source": [
    "# load in customers.csv\n",
    "\n",
    "customers_df = pd.read_csv('./data/customers.csv')"
   ]
  },
  {
   "cell_type": "code",
   "execution_count": 90,
   "id": "4024da73-6164-4233-9451-e7d9753e4c71",
   "metadata": {},
   "outputs": [
    {
     "name": "stdout",
     "output_type": "stream",
     "text": [
      "7\n"
     ]
    }
   ],
   "source": [
    "print(len(customers_df.columns))"
   ]
  },
  {
   "cell_type": "code",
   "execution_count": 91,
   "id": "234e4cc7-fb9d-4312-b647-5dbe91b18b35",
   "metadata": {},
   "outputs": [
    {
     "name": "stdout",
     "output_type": "stream",
     "text": [
      "1371980\n"
     ]
    }
   ],
   "source": [
    "print(len(customers_df.index))"
   ]
  },
  {
   "cell_type": "code",
   "execution_count": 92,
   "id": "aafe308e-2111-4919-a81b-19de98ceb3f3",
   "metadata": {},
   "outputs": [
    {
     "name": "stdout",
     "output_type": "stream",
     "text": [
      "                         Total     %\n",
      "Active                  907576  66.2\n",
      "FN                      895050  65.2\n",
      "fashion_news_frequency   16009   1.2\n",
      "age                      15861   1.2\n",
      "club_member_status        6062   0.4\n",
      "customer_id                  0   0.0\n",
      "postal_code                  0   0.0\n"
     ]
    }
   ],
   "source": [
    "# Following code is to find any missing values for each columns, as well as displaying the percentage that is missing\n",
    "total = customers_df.isnull().sum().sort_values(ascending=False)\n",
    "percent_1 = customers_df.isnull().sum()/customers_df.isnull().count()*100\n",
    "percent_2 = (round(percent_1, 1)).sort_values(ascending=False)\n",
    "missing_data = pd.concat([total, percent_2], axis=1, keys=['Total', '%'])\n",
    "print(missing_data.head(7)) # 7 is the amount of columns (can be found by doing print(len(df.columns)))"
   ]
  },
  {
   "cell_type": "code",
   "execution_count": 93,
   "id": "ac36c8ea-7134-4908-bc1b-42856a4c3502",
   "metadata": {},
   "outputs": [
    {
     "data": {
      "text/plain": [
       "array([nan,  1.])"
      ]
     },
     "execution_count": 93,
     "metadata": {},
     "output_type": "execute_result"
    }
   ],
   "source": [
    "# Find out which values are not missing (to see whether it is a true/false column)\n",
    "customers_df['Active'].unique()"
   ]
  },
  {
   "cell_type": "code",
   "execution_count": 94,
   "id": "9aac7181-5e2d-4940-b643-bef91a5b1612",
   "metadata": {},
   "outputs": [
    {
     "data": {
      "text/plain": [
       "array([nan,  1.])"
      ]
     },
     "execution_count": 94,
     "metadata": {},
     "output_type": "execute_result"
    }
   ],
   "source": [
    "# The same as line above\n",
    "customers_df['FN'].unique()"
   ]
  },
  {
   "cell_type": "code",
   "execution_count": 95,
   "id": "eeb7a516-57dc-4777-a7b2-e07da4fadc7e",
   "metadata": {},
   "outputs": [
    {
     "data": {
      "text/plain": [
       "array(['NONE', 'Regularly', nan, 'Monthly', 'None'], dtype=object)"
      ]
     },
     "execution_count": 95,
     "metadata": {},
     "output_type": "execute_result"
    }
   ],
   "source": [
    "customers_df['fashion_news_frequency'].unique()"
   ]
  },
  {
   "cell_type": "code",
   "execution_count": 96,
   "id": "fb2a4066-d66b-426b-bce2-a677eae4bc72",
   "metadata": {},
   "outputs": [
    {
     "data": {
      "text/plain": [
       "array([49., 25., 24., 54., 52., nan, 20., 32., 29., 31., 56., 75., 41.,\n",
       "       27., 30., 48., 35., 22., 40., 38., 45., 68., 55., 19., 60., 44.,\n",
       "       21., 26., 28., 53., 33., 17., 23., 51., 18., 34., 57., 47., 70.,\n",
       "       50., 63., 58., 43., 67., 72., 42., 39., 79., 71., 59., 36., 62.,\n",
       "       37., 46., 73., 64., 74., 61., 85., 69., 76., 66., 65., 82., 16.,\n",
       "       90., 80., 78., 81., 84., 77., 97., 89., 83., 98., 88., 86., 87.,\n",
       "       93., 91., 99., 96., 94., 92., 95.])"
      ]
     },
     "execution_count": 96,
     "metadata": {},
     "output_type": "execute_result"
    }
   ],
   "source": [
    "customers_df['age'].unique()"
   ]
  },
  {
   "cell_type": "code",
   "execution_count": 97,
   "id": "0f33599c-bbb4-42ab-9b80-ec247cf50695",
   "metadata": {},
   "outputs": [
    {
     "data": {
      "text/plain": [
       "count    1.356119e+06\n",
       "mean     3.638696e+01\n",
       "std      1.431363e+01\n",
       "min      1.600000e+01\n",
       "25%      2.400000e+01\n",
       "50%      3.200000e+01\n",
       "75%      4.900000e+01\n",
       "max      9.900000e+01\n",
       "Name: age, dtype: float64"
      ]
     },
     "execution_count": 97,
     "metadata": {},
     "output_type": "execute_result"
    }
   ],
   "source": [
    "customers_df['age'].describe()"
   ]
  },
  {
   "cell_type": "code",
   "execution_count": 98,
   "id": "a5a69f49-ef4d-4590-83f0-54469d2dec10",
   "metadata": {},
   "outputs": [
    {
     "data": {
      "text/plain": [
       "array(['ACTIVE', nan, 'PRE-CREATE', 'LEFT CLUB'], dtype=object)"
      ]
     },
     "execution_count": 98,
     "metadata": {},
     "output_type": "execute_result"
    }
   ],
   "source": [
    "customers_df['club_member_status'].unique()"
   ]
  },
  {
   "cell_type": "code",
   "execution_count": 99,
   "id": "cc703069-4f49-4c78-8923-adcffa82919e",
   "metadata": {},
   "outputs": [],
   "source": [
    "# load in transactions_train.csv\n",
    "transactions_train_df = pd.read_csv('./data/transactions_train.csv')"
   ]
  },
  {
   "cell_type": "code",
   "execution_count": 100,
   "id": "eeada4df-c9b1-4aea-a22c-08ca57a72eba",
   "metadata": {},
   "outputs": [
    {
     "name": "stdout",
     "output_type": "stream",
     "text": [
      "5\n"
     ]
    }
   ],
   "source": [
    "# the amount of columns/features\n",
    "print(len(transactions_train_df.columns))"
   ]
  },
  {
   "cell_type": "code",
   "execution_count": 101,
   "id": "e756e394-297b-4f1d-abf1-e82b241d3844",
   "metadata": {},
   "outputs": [
    {
     "name": "stdout",
     "output_type": "stream",
     "text": [
      "31788324\n"
     ]
    }
   ],
   "source": [
    "print(len(transactions_train_df.index))"
   ]
  },
  {
   "cell_type": "code",
   "execution_count": 102,
   "id": "b9f658b4-b16c-4cdb-b559-4c37ac235b5c",
   "metadata": {},
   "outputs": [
    {
     "name": "stdout",
     "output_type": "stream",
     "text": [
      "                  Total    %\n",
      "t_dat                 0  0.0\n",
      "customer_id           0  0.0\n",
      "article_id            0  0.0\n",
      "price                 0  0.0\n",
      "sales_channel_id      0  0.0\n"
     ]
    }
   ],
   "source": [
    "# Following code is to find any missing values for each columns, as well as displaying the percentage that is missing\n",
    "total = transactions_train_df.isnull().sum().sort_values(ascending=False)\n",
    "percent_1 = transactions_train_df.isnull().sum()/transactions_train_df.isnull().count()*100\n",
    "percent_2 = (round(percent_1, 1)).sort_values(ascending=False)\n",
    "missing_data = pd.concat([total, percent_2], axis=1, keys=['Total', '%'])\n",
    "print(missing_data.head(5)) # 5 is the amount of columns (can be found by doing print(len(df.columns)))"
   ]
  },
  {
   "cell_type": "code",
   "execution_count": 103,
   "id": "1b1f2688-cec9-435c-9bea-139f41d8a74a",
   "metadata": {},
   "outputs": [
    {
     "name": "stdout",
     "output_type": "stream",
     "text": [
      "True\n",
      "True\n"
     ]
    }
   ],
   "source": [
    "# Let's check whether all customer_id's are valid and whether all article_ids are valid -> yes\n",
    "\n",
    "customer_ids = customers_df['customer_id']\n",
    "article_ids = articles_df['article_id']\n",
    "\n",
    "all_customers_exist = transactions_train_df['customer_id'].isin(customer_ids).all()\n",
    "all_articles_exist = transactions_train_df['article_id'].isin(article_ids).all()\n",
    "\n",
    "print(all_customers_exist)\n",
    "print(all_articles_exist)"
   ]
  },
  {
   "cell_type": "code",
   "execution_count": 104,
   "id": "a31aa552-f920-4e3b-8422-8a36b091d10a",
   "metadata": {},
   "outputs": [
    {
     "name": "stdout",
     "output_type": "stream",
     "text": [
      "                                                     Total    %\n",
      "2c29ae653a9282cce4151bd87643c907644e09541abc28a...  120303  9.0\n",
      "cc4ed85e30f4977dae47662ddc468cd2eec11472de6fac5...     261  0.0\n",
      "714976379549eb90aae4a71bca6c7402cc646ae7c40f6c1...     159  0.0\n",
      "7c1fa3b0ec1d37ce2c3f34f63bd792f3b4494f324b6be5d...     157  0.0\n",
      "5b7eb31eabebd3277de632b82267286d847fd5d44287ee1...     156  0.0\n",
      "...                                                    ...  ...\n",
      "16dd7e391f305b54c01ffed87c189e33de83158d0a808d1...       1  0.0\n",
      "5ce1c699380b3c13655347c9636043f5e64ec2538a1ee7d...       1  0.0\n",
      "afdedc642d01efeefec6fc8d3394724a71888ebd0ff0311...       1  0.0\n",
      "4c8838d278d23029c920b9684fa4cf30a532428a445afb3...       1  0.0\n",
      "0a1a03306fb2f62164c2a439b38c0caa64b40deaae86879...       1  0.0\n",
      "\n",
      "[352899 rows x 2 columns]\n"
     ]
    }
   ],
   "source": [
    "# Postal code distribution\n",
    "\n",
    "total = customers_df['postal_code'].value_counts()\n",
    "percentage = round((customers_df['postal_code'].value_counts()/len(customers_df))*100)\n",
    "postal_code_count = pd.concat([total, percentage], axis=1, keys=['Total', '%'])\n",
    "print(postal_code_count)"
   ]
  },
  {
   "cell_type": "code",
   "execution_count": 106,
   "id": "822c5a35-2d0a-4d81-91de-f11b5c38a465",
   "metadata": {},
   "outputs": [
    {
     "data": {
      "image/png": "[encoded data removed]",
      "text/plain": [
       "<Figure size 640x480 with 1 Axes>"
      ]
     },
     "metadata": {},
     "output_type": "display_data"
    }
   ],
   "source": [
    "# Check age distribution\n",
    "\n",
    "customers_df['age'].hist(bins=20)\n",
    "plt.show()"
   ]
  },
  {
   "cell_type": "code",
   "execution_count": null,
   "id": "5d9e73a9-bded-4376-9813-ffc495030c5d",
   "metadata": {},
   "outputs": [],
   "source": []
  }
 ],
 "metadata": {
  "kernelspec": {
   "display_name": "Python 3 (ipykernel)",
   "language": "python",
   "name": "python3"
  },
  "language_info": {
   "codemirror_mode": {
    "name": "ipython",
    "version": 3
   },
   "file_extension": ".py",
   "mimetype": "text/x-python",
   "name": "python",
   "nbconvert_exporter": "python",
   "pygments_lexer": "ipython3",
   "version": "3.9.12"
  }
 },
 "nbformat": 4,
 "nbformat_minor": 5
}
