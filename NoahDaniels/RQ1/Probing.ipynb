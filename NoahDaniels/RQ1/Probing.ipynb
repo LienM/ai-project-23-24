{
 "cells": [
  {
   "cell_type": "code",
   "execution_count": 76,
   "id": "618e3ea3-e873-407d-a846-c8f55b4ef8d6",
   "metadata": {},
   "outputs": [],
   "source": [
    "# make external scripts auto reload\n",
    "%load_ext autoreload\n",
    "%autoreload 2"
   ]
  },
  {
   "cell_type": "code",
   "execution_count": 330,
   "id": "a4b7cba0-0633-4bef-9d67-4223ea500166",
   "metadata": {},
   "outputs": [],
   "source": [
    "import kaggle\n",
    "import time\n",
    "import pandas as pd\n",
    "import numpy as np\n",
    "\n",
    "from experiment_template import customer_hex_id_to_int\n",
    "from candidate_generation import *"
   ]
  },
  {
   "cell_type": "code",
   "execution_count": 325,
   "id": "3ac45684-3809-4b50-bba0-33bce803e86e",
   "metadata": {},
   "outputs": [],
   "source": [
    "COMPETITION_NAME = 'h-and-m-personalized-fashion-recommendations'\n",
    "\n",
    "def submit(filepath):\n",
    "    kaggle.api.competition_submit(filepath, '', COMPETITION_NAME)\n",
    "    res = None\n",
    "    while res is None:\n",
    "        time.sleep(1)\n",
    "        res = get_results()[0]\n",
    "        if res[1] is None:\n",
    "            res = None\n",
    "\n",
    "    return float(res[1]), float(res[2])\n",
    "\n",
    "def get_results():\n",
    "    return [\n",
    "        (sub['fileNameNullable'], sub['publicScoreNullable'], sub['privateScoreNullable']) for sub in kaggle.api.competitions_submissions_list(COMPETITION_NAME)\n",
    "    ]\n",
    "\n",
    "def create_uniform_prediction(customers, items):\n",
    "    return pd.merge(pd.Series(customers, name='customer_id'), pd.Series([items], name='prediction'), how='cross')\n",
    "\n",
    "def hex_id_to_int(str):\n",
    "    return int(str[-16:], 16)\n",
    "\n",
    "def customer_hex_id_to_int(series):\n",
    "    return series.str[-16:].apply(hex_id_to_int)\n",
    "\n",
    "def article_id_str_to_int(series):\n",
    "    return series.astype('int32')\n",
    "\n",
    "def submission_to_df(path):\n",
    "    sub = pd.read_csv(path)\n",
    "\n",
    "    def pc(str):\n",
    "        return int(str, 16)\n",
    "\n",
    "    def pp(str):\n",
    "        return list(map(int, str.split()))\n",
    "\n",
    "    sub.customer_id = sub.customer_id.str[-16:].apply(pc)\n",
    "    sub.prediction = sub.prediction.apply(pp)\n",
    "\n",
    "    return sub\n",
    "\n",
    "def create_submission(predictions, sample_submission):\n",
    "    predictions = predictions.set_index(\"customer_id\").prediction.to_dict()\n",
    "    preds = []\n",
    "    result = sample_submission.copy()\n",
    "    for customer_id in customer_hex_id_to_int(result.customer_id):\n",
    "        if customer_id not in predictions:\n",
    "            preds.append(\" \".join([\"0\"] * 12))\n",
    "        else:\n",
    "            preds.append(\" \".join(f\"0{x}\" for x in predictions[customer_id]))\n",
    "    result.prediction = preds\n",
    "    return result\n",
    "\n",
    "def save_and_submit(predictions, name=None):\n",
    "    if name is None:\n",
    "        name = 'probing'\n",
    "        \n",
    "    sub = create_submission(predictions, sample_submission)\n",
    "    sub.to_csv(BASE_PATH + f'{name}.csv.gz', index=False)\n",
    "    return submit(BASE_PATH + f'{name}.csv.gz')\n",
    "\n",
    "def candidates_to_predictions(candidates):\n",
    "    c = candidates.drop(columns='week').drop_duplicates(['customer_id', 'article_id'])\n",
    "    return c.groupby('customer_id').head(12).groupby('customer_id', as_index=False).article_id.apply(list).rename(columns={'article_id':'prediction'})"
   ]
  },
  {
   "cell_type": "code",
   "execution_count": 216,
   "id": "4088888e-1c02-471b-98e4-0ca4af0b5bca",
   "metadata": {},
   "outputs": [],
   "source": [
    "BASE_PATH = '../../../data/'\n",
    "# DATA_PATH = BASE_PATH + 'sample_0.05/'\n",
    "DATA_PATH = BASE_PATH + 'parquet/'\n",
    "\n",
    "# make sure the same data preprocessing as in the radek notebook have been performed\n",
    "# (see 02 FE/DataProcessingRadek.ipynb)\n",
    "transactions = pd.read_parquet(DATA_PATH + 'transactions_train.parquet')\n",
    "customers = pd.read_parquet(DATA_PATH + 'customers.parquet')\n",
    "articles = pd.read_parquet(DATA_PATH + 'articles.parquet')\n",
    "sample_submission = pd.read_csv(BASE_PATH + 'original/sample_submission.csv')\n",
    "\n",
    "transactions = add_relative_week(transactions, 105)"
   ]
  },
  {
   "cell_type": "code",
   "execution_count": 239,
   "id": "65427861-dc91-47c5-b142-17a986a98402",
   "metadata": {},
   "outputs": [
    {
     "name": "stdout",
     "output_type": "stream",
     "text": [
      "active users: 437365 (31.88% of all users)\n"
     ]
    }
   ],
   "source": [
    "active_users = transactions[transactions.week > 104 - 10].customer_id.unique()\n",
    "cold_users = list(set(customers.customer_id) - set(active_users))\n",
    "num_users = len(customers)\n",
    "num_active_users = len(active_users)\n",
    "\n",
    "print(f'active users: {num_active_users} ({num_active_users/num_users:.2%} of all users)')"
   ]
  },
  {
   "cell_type": "code",
   "execution_count": 225,
   "id": "44c677fa-fd7d-48ac-84d0-254b1166b12f",
   "metadata": {},
   "outputs": [
    {
     "data": {
      "text/plain": [
       "array([924243001, 918522001, 924243002, 923758001, 866731001, 915529003,\n",
       "       909370001, 915529005, 751471001, 918292001, 762846027, 448509014],\n",
       "      dtype=int32)"
      ]
     },
     "execution_count": 225,
     "metadata": {},
     "output_type": "execute_result"
    }
   ],
   "source": [
    "top12_articles"
   ]
  },
  {
   "cell_type": "code",
   "execution_count": 257,
   "id": "1309beda-f7a5-487d-9b3b-8640788f10ad",
   "metadata": {},
   "outputs": [],
   "source": [
    "# top12_articles = transactions[transactions.week==104].article_id.value_counts().head(12).index.values\n",
    "top12_articles = transactions[transactions.week==104].drop_duplicates(['customer_id', 'article_id']).article_id.value_counts().head(12).index.values\n",
    "predictions = create_uniform_prediction(active_users, top12_articles)\n",
    "save_and_submit(predictions)"
   ]
  },
  {
   "cell_type": "code",
   "execution_count": 342,
   "id": "3550539e-ac73-4da0-82dc-e03d66a65122",
   "metadata": {},
   "outputs": [
    {
     "name": "stderr",
     "output_type": "stream",
     "text": [
      "100%|███████████████████████████████████████████████████████████████████████████████████████████████████████████████████████████████████████████████████████████████| 62.0M/62.0M [00:22<00:00, 2.92MB/s]\n"
     ]
    },
    {
     "data": {
      "text/plain": [
       "(0.00278, 0.0029)"
      ]
     },
     "execution_count": 342,
     "metadata": {},
     "output_type": "execute_result"
    }
   ],
   "source": [
    "predictions = submission_to_df(BASE_PATH + 'sub05-12f.csv.gz')\n",
    "predictions = predictions.drop(index=predictions[~predictions.customer_id.isin(cold_users)].index)\n",
    "save_and_submit(predictions)"
   ]
  },
  {
   "cell_type": "code",
   "execution_count": 340,
   "id": "ee0587b1-1f2a-4fa6-afc3-71052602a256",
   "metadata": {},
   "outputs": [
    {
     "name": "stderr",
     "output_type": "stream",
     "text": [
      "100%|███████████████████████████████████████████████████████████████████████████████████████████████████████████████████████████████████████████████████████████████| 55.6M/55.6M [00:21<00:00, 2.66MB/s]\n"
     ]
    },
    {
     "data": {
      "text/plain": [
       "(0.01958, 0.01907)"
      ]
     },
     "execution_count": 340,
     "metadata": {},
     "output_type": "execute_result"
    }
   ],
   "source": [
    "active_customers = pd.Series(cold_users, name='customer_id')\n",
    "bask = baskets(None, 105, active_customers, True)\n",
    "c = pd.concat([\n",
    "    candidates_repurchase(bask, transactions, 5, False),\n",
    "    candidates_popularity(bask, transactions, 12, 1)\n",
    "]).drop(columns='week').drop_duplicates(['customer_id', 'article_id'])\n",
    "predictions = c.groupby('customer_id').head(12).groupby('customer_id', as_index=False).article_id.apply(list).rename(columns={'article_id':'prediction'})\n",
    "save_and_submit(predictions)"
   ]
  },
  {
   "cell_type": "code",
   "execution_count": 339,
   "id": "d77bd6f5-ae9c-434e-9858-1f8d637f6011",
   "metadata": {},
   "outputs": [
    {
     "name": "stderr",
     "output_type": "stream",
     "text": [
      "100%|███████████████████████████████████████████████████████████████████████████████████████████████████████████████████████████████████████████████████████████████| 62.0M/62.0M [00:20<00:00, 3.15MB/s]\n"
     ]
    },
    {
     "data": {
      "text/plain": [
       "(0.00278, 0.0029)"
      ]
     },
     "execution_count": 339,
     "metadata": {},
     "output_type": "execute_result"
    }
   ],
   "source": [
    "bask = baskets(None, 105, cold_users, True)\n",
    "training_data = transactions[transactions.week > 104-10]\n",
    "c = pd.concat([\n",
    "    # candidates_repurchase(bask, transactions, 4, False),\n",
    "    candidates_article_feature(bask, transactions, articles, 'prod_name', 6, 1, 2, 6, True),\n",
    "    # candidates_article_feature(bask, transactions, articles, 'department_name', 6, 1, 2, 3, True),\n",
    "    # candidates_article_feature(bask, transactions, articles, 'colour_group_name', 6, 1, 2, 3, True),\n",
    "    # candidates_customer_feature(bask, training_data, customers, \"age\", 6, 1),\n",
    "    # candidates_customer_feature(bask, training_data, customers, \"postal_code\", 6, 1),\n",
    "    candidates_popularity(bask, transactions, 12, 1)\n",
    "])\n",
    "predictions = candidates_to_predictions(c)\n",
    "save_and_submit(predictions)"
   ]
  },
  {
   "cell_type": "code",
   "execution_count": 316,
   "id": "ad743a18-713b-4008-a4a6-3090aaac29dc",
   "metadata": {},
   "outputs": [
    {
     "name": "stdout",
     "output_type": "stream",
     "text": [
      "80 1.3688211665504764\n",
      "81 1.3169539799130565\n",
      "82 1.3882005899705014\n",
      "83 1.4423333333333332\n",
      "84 1.5796911274856162\n",
      "85 1.5861463015937882\n",
      "86 1.4963843521817348\n",
      "87 1.3839402887139107\n",
      "88 1.4631043979444083\n",
      "89 1.682159640517271\n",
      "90 1.776995473812774\n",
      "91 1.6862302483069977\n",
      "92 1.8294872420354198\n",
      "93 2.176618945182108\n",
      "94 2.3193273640532865\n",
      "95 2.391275727388423\n",
      "96 2.4031924327519953\n",
      "97 2.442338072669826\n",
      "98 2.4129800237161363\n",
      "99 2.6057209514632045\n",
      "100 2.456573896353167\n",
      "101 2.2783088235294118\n",
      "102 2.136510300322661\n",
      "103 2.0630741748894184\n",
      "104 1.9904629790185537\n"
     ]
    }
   ],
   "source": [
    "for test_week in range(80, 105):\n",
    "    ac = set(transactions[(transactions.week > test_week - 11) & (transactions.week < test_week)].customer_id.unique())\n",
    "    cc = set(customers.customer_id) - ac\n",
    "    tc = set(transactions[transactions.week == test_week].customer_id.unique())\n",
    "    \n",
    "    print(test_week, len(ac & tc) / len(cc & tc))"
   ]
  }
 ],
 "metadata": {
  "kernelspec": {
   "display_name": "Python 3 (ipykernel)",
   "language": "python",
   "name": "python3"
  },
  "language_info": {
   "codemirror_mode": {
    "name": "ipython",
    "version": 3
   },
   "file_extension": ".py",
   "mimetype": "text/x-python",
   "name": "python",
   "nbconvert_exporter": "python",
   "pygments_lexer": "ipython3",
   "version": "3.11.2"
  }
 },
 "nbformat": 4,
 "nbformat_minor": 5
}
