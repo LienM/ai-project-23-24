{
 "cells": [
  {
   "cell_type": "code",
   "execution_count": 1,
   "id": "95d882bc-703f-4481-bc14-b48a2eb9809e",
   "metadata": {},
   "outputs": [],
   "source": [
    "import numpy as np\n",
    "import pandas as pd"
   ]
  },
  {
   "cell_type": "code",
   "execution_count": 828,
   "id": "ea297c75-a84d-48ac-bf9f-a9e064672ab9",
   "metadata": {},
   "outputs": [],
   "source": [
    "BASE_PATH = '../../data/parquet/'\n",
    "\n",
    "transactions_original = pd.read_parquet(BASE_PATH + 'transactions_train.parquet')\n",
    "customers_original = pd.read_parquet(BASE_PATH + 'customers.parquet')\n",
    "articles_original = pd.read_parquet(BASE_PATH + 'articles.parquet')\n",
    "\n",
    "transactions = transactions_original.copy()\n",
    "customers = customers_original.copy()\n",
    "articles = articles_original.copy()"
   ]
  },
  {
   "cell_type": "code",
   "execution_count": 780,
   "id": "896a7270-32d3-413f-b654-7a5427973ee1",
   "metadata": {},
   "outputs": [],
   "source": [
    "def recall(predictions, test_data):\n",
    "    joined = pd.merge(test_data, predictions, how='inner').drop_duplicates()\n",
    "    relevant_selected = joined.groupby('customer_id').count()\n",
    "    relevant_total = test_data.groupby('customer_id').count()\n",
    "\n",
    "    recall = relevant_selected.divide(relevant_total, fill_value=0)\n",
    "    return recall.mean().values[0]\n",
    "    # return recall[~recall.article_id.isna()].mean().values[0]\n",
    "    # return recall.loc[test_data.customer_id.unique()].mean().values[0]\n",
    "    # return recall.loc[predictions.customer_id.unique()].mean().values[0]"
   ]
  },
  {
   "cell_type": "code",
   "execution_count": 703,
   "id": "173de47e-b070-4ab7-9b9c-ce8313dfef6b",
   "metadata": {},
   "outputs": [
    {
     "data": {
      "text/plain": [
       "0.125"
      ]
     },
     "execution_count": 703,
     "metadata": {},
     "output_type": "execute_result"
    }
   ],
   "source": [
    "recall(test_data.iloc[:1], test_data)"
   ]
  },
  {
   "cell_type": "code",
   "execution_count": 987,
   "id": "3ddce18e-a69f-43ae-971d-a79121e219bf",
   "metadata": {},
   "outputs": [],
   "source": [
    "# clean slate\n",
    "transactions = transactions_original.copy()\n",
    "customers = customers_original.copy()\n",
    "articles = articles_original.copy()\n",
    "\n",
    "# split data into test en training\n",
    "test_weeks = [103, 104]\n",
    "train_weeks = [91, 92, 93, 94, 95, 96, 97, 98, 99, 100, 101, 102]\n",
    "test_data = transactions[transactions.week.isin(test_weeks)][['customer_id', 'article_id']].drop_duplicates()\n",
    "test_X = pd.Series(test_data['customer_id'].unique(), name='customer_id')\n",
    "train_data = transactions[transactions.week.isin(train_weeks)].copy()\n",
    "\n",
    "# add bin/clip features\n",
    "transactions['clipped_price'] = transactions['price'].clip(0, 150)\n",
    "transactions['binned_price'] = pd.cut(transactions.price, bins=[0, 4, 5, 6, 7, 8, 9, 10, 13, 15, 18, 20, 25, 30, 40, 60, np.inf])\n",
    "customers['age_group'] = pd.cut(customers.age, bins=[0, 40, 60, 100], labels=[\"Young Adult\", \"Middle Aged\", \"Old\"])\n",
    "\n",
    "# add purchase behaviour features\n",
    "article_max_price = transactions.groupby('article_id')['binned_price'].max().to_frame('article_price')\n",
    "articles = pd.merge(articles, article_max_price, on='article_id', how='left')"
   ]
  },
  {
   "cell_type": "code",
   "execution_count": 833,
   "id": "642b3937-a456-4431-a545-cf52c16fd741",
   "metadata": {},
   "outputs": [
    {
     "name": "stdout",
     "output_type": "stream",
     "text": [
      "test customers: 128333 (9.35% of total)\n",
      "test customers in training data: 70.67%\n",
      "repurchase rate: 2.69%\n"
     ]
    }
   ],
   "source": [
    "v = len(test_X) / len(customers)\n",
    "print(f'test customers: {len(test_X)} ({v:.2%} of total)')\n",
    "v = len(set(test_X) & set(train_data.customer_id.unique())) / len(test_X)\n",
    "print(f'test customers in training data: {v:.2%}')\n",
    "v = len(pd.merge(train_data, test_data, on=['customer_id', 'article_id'])) / len(test_data)\n",
    "print(f'repurchase rate: {v:.2%}')"
   ]
  },
  {
   "cell_type": "code",
   "execution_count": 1037,
   "id": "e7ac3c6b-ed62-4f92-b614-b07aec4398bf",
   "metadata": {},
   "outputs": [],
   "source": [
    "def merge_candidates(cs):\n",
    "    c = pd.concat(cs)\n",
    "    c.drop_duplicates(['customer_id', 'article_id'], inplace=True)\n",
    "    return c[['customer_id', 'article_id']]\n",
    "\n",
    "def popular_global(t, c, k=10):\n",
    "    popular_articles = pd.Series(t.article_id.value_counts().head(k).index, name='article_id')\n",
    "    return pd.merge(c, popular_articles, how='cross')\n",
    "\n",
    "def repurchase(t, c):\n",
    "    return t[t.customer_id.isin(c)][['customer_id', 'article_id']]\n",
    "\n",
    "# get `k` most popular items among users who match on user `feature`\n",
    "def popular_by_feature(t, c, feature, k=10):\n",
    "    cc = pd.merge(c, customers, on='customer_id', how='left')\n",
    "    tt = pd.merge(t, customers, on='customer_id', how='left')\n",
    "    tt = tt.groupby(feature, observed=False, as_index=False).article_id.value_counts()\n",
    "    tt = tt.groupby(feature, observed=False).head(k)\n",
    "    return pd.merge(cc, tt, on=feature)[['customer_id', 'article_id']]\n",
    "\n",
    "# get top `k2` items in user history (with at least `threshold` occurences in that history)\n",
    "# for each of those items, get `k1` most popular articles which match on item `feature`\n",
    "def popular_similar_items(t, c, feature, k1=10, k2=1, threshold=2):\n",
    "    tt = pd.merge(t, articles[['article_id', feature]], on='article_id', how='left')\n",
    "\n",
    "    # k1 popular representatives per group\n",
    "    a = tt \\\n",
    "        .groupby(feature, observed=False, as_index=False).article_id.value_counts() \\\n",
    "        .groupby(feature, observed=False).head(k1)[[feature, 'article_id']]\n",
    "\n",
    "    # k2 common items in user history\n",
    "    b = tt[tt.customer_id.isin(c)] \\\n",
    "        .groupby('customer_id', as_index=False)[feature].value_counts()\n",
    "    b = b[b['count'] >= threshold].groupby('customer_id').head(k2)[['customer_id', feature]]\n",
    "\n",
    "    return pd.merge(a, b, on=feature, how='inner')[['customer_id', 'article_id']]"
   ]
  },
  {
   "cell_type": "code",
   "execution_count": 1023,
   "id": "cf6f47ec-773e-443e-a8c8-bab8ff1e4273",
   "metadata": {
    "jupyter": {
     "source_hidden": true
    }
   },
   "outputs": [
    {
     "name": "stdout",
     "output_type": "stream",
     "text": [
      "28.08\t3.58%\n"
     ]
    }
   ],
   "source": [
    "# radek\n",
    "def baseline(t):\n",
    "    # repurchase\n",
    "    c2weeks = t.groupby('customer_id')['week'].unique()\n",
    "\n",
    "    c2weeks2shifted_weeks = {}\n",
    "    \n",
    "    for c_id, weeks in c2weeks.items():\n",
    "        c2weeks2shifted_weeks[c_id] = {}\n",
    "        for i in range(weeks.shape[0]-1):\n",
    "            c2weeks2shifted_weeks[c_id][weeks[i]] = weeks[i+1]\n",
    "        c2weeks2shifted_weeks[c_id][weeks[-1]] = test_weeks[0]\n",
    "\n",
    "    candidates_last_purchase = t.copy()\n",
    "\n",
    "    weeks = []\n",
    "    for i, (c_id, week) in enumerate(zip(t['customer_id'], t['week'])):\n",
    "        weeks.append(c2weeks2shifted_weeks[c_id][week])\n",
    "        \n",
    "    candidates_last_purchase.week=weeks\n",
    "\n",
    "    # bestseller\n",
    "    mean_price = transactions.groupby(['week', 'article_id'])['price'].mean()\n",
    "    sales = transactions \\\n",
    "        .groupby('week')['article_id'].value_counts() \\\n",
    "        .groupby('week').rank(method='dense', ascending=False) \\\n",
    "        .groupby('week').head(12).rename('bestseller_rank').astype('int8')\n",
    "    bestsellers_previous_week = pd.merge(sales, mean_price, on=['week', 'article_id']).reset_index()\n",
    "    bestsellers_previous_week.week += 1\n",
    "\n",
    "    unique_transactions = t \\\n",
    "        .groupby(['week', 'customer_id']) \\\n",
    "        .head(1) \\\n",
    "        .drop(columns=['article_id', 'price']) \\\n",
    "        .copy()\n",
    "\n",
    "    candidates_bestsellers = pd.merge(\n",
    "        unique_transactions,\n",
    "        bestsellers_previous_week,\n",
    "        on='week',\n",
    "    )\n",
    "\n",
    "    data = pd.concat([t, candidates_last_purchase, candidates_bestsellers])\n",
    "    data.drop_duplicates(['customer_id', 'article_id'], inplace=True)\n",
    "    return data\n",
    "candidates_radek = baseline(train_data)\n",
    "print_scheme(candidates_radek)"
   ]
  },
  {
   "cell_type": "code",
   "execution_count": 1003,
   "id": "0537b5a7-9554-4865-a4c7-41b50d105c34",
   "metadata": {},
   "outputs": [],
   "source": [
    "candidates = dict()\n",
    "count = 10"
   ]
  },
  {
   "cell_type": "code",
   "execution_count": 1004,
   "id": "f1f80dee-8221-4792-9d6d-dc00ce78906c",
   "metadata": {},
   "outputs": [],
   "source": [
    "candidates['repurchase'] = repurchase(train_data, test_X)\n",
    "candidates['pop (global)'] = popular_global(train_data, test_X, count)\n",
    "candidates['pop (per age group)'] = popular_by_feature(train_data, test_X, 'age_group', count)\n",
    "candidates['pop (per age)'] = popular_by_feature(train_data, test_X, 'age', count)\n",
    "candidates['pop (per postal)'] = popular_by_feature(train_data, test_X, 'postal_code', count)\n",
    "candidates['pop (per active)'] = popular_by_feature(train_data, test_X, 'Active', count)"
   ]
  },
  {
   "cell_type": "code",
   "execution_count": 1021,
   "id": "d6c59b7d-927d-4992-809e-cc055b92d529",
   "metadata": {},
   "outputs": [],
   "source": [
    "for f in ['product_code','prod_name',\n",
    " 'product_type_name',\n",
    " 'product_group_name',\n",
    " 'graphical_appearance_name',\n",
    " 'colour_group_name',\n",
    " 'perceived_colour_value_name',\n",
    " 'perceived_colour_master_name',\n",
    " 'department_name',\n",
    " 'index_name',\n",
    " 'index_group_name',\n",
    " 'section_name',\n",
    " 'garment_group_name',\n",
    " 'article_price']:\n",
    "    # print(f, len(pd.merge(train_data, articles)[f].unique()))\n",
    "    candidates[f'items ({f})'] = merge_candidates([\n",
    "        popular_similar_items(train_data, test_X, f, 3, 3, 1),\n",
    "        popular_similar_items(train_data, test_X, f, 10, 5, 2)\n",
    "    ])"
   ]
  },
  {
   "cell_type": "code",
   "execution_count": 1020,
   "id": "b428bfa7-7a44-468d-a3b4-0e7667f72dc4",
   "metadata": {},
   "outputs": [
    {
     "name": "stdout",
     "output_type": "stream",
     "text": [
      "                                  Scheme    Count   Recall (per slot)\n",
      "--------------------------------------------------------------------------------\n",
      "                              repurchase    11.63    2.63% (0.2260%)\n",
      "                            pop (global)    10.00    0.89% (0.0886%)\n",
      "                     pop (per age group)    10.00    1.03% (0.1028%)\n",
      "                           pop (per age)    10.00    1.14% (0.1138%)\n",
      "                        pop (per postal)     8.62    1.59% (0.1846%)\n",
      "                        pop (per active)    10.00    0.83% (0.0828%)\n",
      "                       items (prod_name)    11.11    2.27% (0.2046%)\n",
      "               items (product_type_name)    23.57    1.16% (0.0491%)\n",
      "              items (product_group_name)    22.22    0.94% (0.0421%)\n",
      "       items (graphical_appearance_name)    19.52    0.85% (0.0437%)\n",
      "               items (colour_group_name)    22.92    0.92% (0.0401%)\n",
      "     items (perceived_colour_value_name)    22.97    0.96% (0.0416%)\n",
      "    items (perceived_colour_master_name)    23.76    0.89% (0.0376%)\n",
      "                 items (department_name)    23.44    1.36% (0.0578%)\n",
      "                      items (index_name)    20.39    1.00% (0.0492%)\n",
      "                items (index_group_name)    16.44    0.93% (0.0563%)\n",
      "                    items (section_name)    23.78    1.31% (0.0551%)\n",
      "              items (garment_group_name)    24.15    1.19% (0.0491%)\n",
      "                   items (article_price)    24.94    1.14% (0.0455%)\n",
      "                    items (product_code)    11.39    2.37% (0.2083%)\n",
      "\n",
      "                                     all   107.16    7.56%\n"
     ]
    }
   ],
   "source": [
    "c_all = merge_candidates(candidates.values())\n",
    "recall_all = recall(c_all, test_data)\n",
    "print(f'{\"Scheme\":>40} {\"Count\":>8} {\"Recall\":>8} {\"(per slot)\":>7}\\n{\"\":->80}')\n",
    "for k, v in candidates.items():\n",
    "    candidates_per_user = len(v) / len(v.customer_id.unique())\n",
    "    recall1 = recall(v, test_data)\n",
    "    recall2 =  recall1 / candidates_per_user\n",
    "    fract = 0\n",
    "    print(f'{k:>40} {candidates_per_user:>8.2f} {recall1:>8.2%} ({recall2:.4%})')\n",
    "\n",
    "\n",
    "candidates_per_user = len(c_all) / len(c_all.customer_id.unique())\n",
    "print(f'\\n{\"all\":>40} {candidates_per_user:>8.2f} {recall_all:>8.2%}')"
   ]
  },
  {
   "cell_type": "code",
   "execution_count": 1022,
   "id": "56873e51-85ed-4545-9b18-dfa00767e25d",
   "metadata": {},
   "outputs": [
    {
     "name": "stdout",
     "output_type": "stream",
     "text": [
      "10.13\t2.63%\n",
      "14.22\t3.04%\n",
      "24.89\t4.23%\n",
      "33.48\t4.71%\n"
     ]
    }
   ],
   "source": [
    "print_scheme(merge_candidates([\n",
    "    repurchase(train_data, test_X)\n",
    "]))\n",
    "print_scheme(merge_candidates([\n",
    "    repurchase(train_data, test_X),\n",
    "    popular_similar_items(train_data, test_X, 'prod_name', 10, 3)\n",
    "]))\n",
    "print_scheme(merge_candidates([\n",
    "    repurchase(train_data, test_X),\n",
    "    popular_similar_items(train_data, test_X, 'prod_name', 10, 3),\n",
    "    popular_by_feature(train_data, test_X, 'postal_code', 10),\n",
    "    popular_by_feature(train_data, test_X, 'age', 10),\n",
    "]))\n",
    "print_scheme(merge_candidates([\n",
    "    repurchase(train_data, test_X),\n",
    "    popular_similar_items(train_data, test_X, 'prod_name', 20, 6, 2),\n",
    "    popular_by_feature(train_data, test_X, 'postal_code', 15),\n",
    "    popular_by_feature(train_data, test_X, 'age', 15),\n",
    "]))"
   ]
  },
  {
   "cell_type": "code",
   "execution_count": 770,
   "id": "3f889010-749c-4e66-a7e3-508e572f590d",
   "metadata": {},
   "outputs": [],
   "source": [
    "def print_scheme(v):\n",
    "    cpu = len(v) / len(v.customer_id.unique())\n",
    "    r = recall(v, test_data)\n",
    "    print(f'{cpu:.2f}\\t{r:.2%}')"
   ]
  },
  {
   "cell_type": "code",
   "execution_count": 1039,
   "id": "6e9e9556-0278-44b6-b9a0-42e1c4ed73f7",
   "metadata": {},
   "outputs": [],
   "source": [
    "cand = merge_candidates([\n",
    "    repurchase(train_data, customers.customer_id),\n",
    "    popular_similar_items(train_data, customers.customer_id, 'prod_name', 20, 6, 2),\n",
    "    popular_by_feature(train_data, customers.customer_id, 'postal_code', 15),\n",
    "    popular_by_feature(train_data, customers.customer_id, 'age', 15),\n",
    "])"
   ]
  },
  {
   "cell_type": "code",
   "execution_count": 1042,
   "id": "99fa17a9-fc0c-46a3-9f99-238d1b124385",
   "metadata": {},
   "outputs": [
    {
     "name": "stdout",
     "output_type": "stream",
     "text": [
      "26.76\t4.70%\n"
     ]
    }
   ],
   "source": [
    "print_scheme(cand)"
   ]
  },
  {
   "cell_type": "code",
   "execution_count": 1043,
   "id": "d4390c3a-a4a6-42ae-893b-48c6cd798418",
   "metadata": {},
   "outputs": [],
   "source": [
    "cand.to_parquet(BASE_PATH + 'candidates.parquet', index=False)"
   ]
  }
 ],
 "metadata": {
  "kernelspec": {
   "display_name": "Python 3 (ipykernel)",
   "language": "python",
   "name": "python3"
  },
  "language_info": {
   "codemirror_mode": {
    "name": "ipython",
    "version": 3
   },
   "file_extension": ".py",
   "mimetype": "text/x-python",
   "name": "python",
   "nbconvert_exporter": "python",
   "pygments_lexer": "ipython3",
   "version": "3.11.2"
  }
 },
 "nbformat": 4,
 "nbformat_minor": 5
}
