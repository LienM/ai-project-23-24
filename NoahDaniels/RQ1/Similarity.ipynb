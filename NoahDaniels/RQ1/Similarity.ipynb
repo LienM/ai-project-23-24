{
 "cells": [
  {
   "cell_type": "code",
   "execution_count": 1,
   "id": "5bf12323-3beb-410a-af84-5804642ee760",
   "metadata": {},
   "outputs": [],
   "source": [
    "import numpy as np\n",
    "import pandas as pd\n",
    "from scipy.sparse import diags\n",
    "from scipy.sparse import csr_matrix\n",
    "from sklearn.metrics.pairwise import cosine_similarity\n",
    "from sklearn.preprocessing import Normalizer"
   ]
  },
  {
   "cell_type": "code",
   "execution_count": 147,
   "id": "8bacbe19-4b09-4357-ad53-7965a1b61e04",
   "metadata": {},
   "outputs": [],
   "source": [
    "# code copied from recpack\n",
    "def rescale_id_space(ids, id_mapping=None):\n",
    "    \"\"\"\n",
    "    Map the given ids to indices,\n",
    "    if id_mapping is not None, use that as start, and add new values\n",
    "    \"\"\"\n",
    "    counter = 0\n",
    "\n",
    "    if id_mapping is not None and len(id_mapping) > 0:\n",
    "        counter = max(id_mapping.values()) + 1\n",
    "    else:\n",
    "        id_mapping = {}\n",
    "    for val in ids:\n",
    "        if val not in id_mapping:\n",
    "            id_mapping[val] = counter\n",
    "            counter += 1\n",
    "\n",
    "    return id_mapping\n",
    "\n",
    "# code copied from recpack\n",
    "def get_top_K_ranks(X: csr_matrix, K = None) -> csr_matrix:\n",
    "    \"\"\"Returns a matrix of ranks assigned to the largest K values in X.\n",
    "\n",
    "    Selects K largest values for every row in X and assigns a rank to each.\n",
    "\n",
    "    :param X: Matrix from which we will select K values in every row.\n",
    "    :type X: csr_matrix\n",
    "    :param K: Amount of values to select.\n",
    "    :type K: int, optional\n",
    "    :return: Matrix with K values per row.\n",
    "    :rtype: csr_matrix\n",
    "    \"\"\"\n",
    "    U, I, V = [], [], []\n",
    "    for row_ix, (le, ri) in enumerate(zip(X.indptr[:-1], X.indptr[1:])):\n",
    "        K_row_pick = min(K, ri - le) if K is not None else ri - le\n",
    "\n",
    "        if K_row_pick != 0:\n",
    "\n",
    "            top_k_row = X.indices[le + np.argpartition(X.data[le:ri], list(range(-K_row_pick, 0)))[-K_row_pick:]]\n",
    "\n",
    "            for rank, col_ix in enumerate(reversed(top_k_row)):\n",
    "                U.append(row_ix)\n",
    "                I.append(col_ix)\n",
    "                V.append(rank + 1)\n",
    "\n",
    "    X_top_K = csr_matrix((V, (U, I)), shape=X.shape)\n",
    "\n",
    "    return X_top_K\n",
    "\n",
    "# code copied from recpack\n",
    "def invert(x):\n",
    "    \"\"\"Invert an array.\n",
    "\n",
    "    :param x: [description]\n",
    "    :type x: [type]\n",
    "    :return: [description]\n",
    "    :rtype: [type]\n",
    "    \"\"\"\n",
    "    if isinstance(x, np.ndarray):\n",
    "        ret = np.zeros(x.shape)\n",
    "    elif isinstance(x, csr_matrix):\n",
    "        ret = csr_matrix(x.shape)\n",
    "    else:\n",
    "        raise TypeError(\"Unsupported type for argument x.\")\n",
    "    ret[x.nonzero()] = 1 / x[x.nonzero()]\n",
    "    return ret\n"
   ]
  },
  {
   "cell_type": "code",
   "execution_count": 50,
   "id": "bcefef2f-7000-490f-b0b9-33a51df94643",
   "metadata": {},
   "outputs": [],
   "source": [
    "BASE_PATH = '../../../data/'\n",
    "# DATA_PATH = BASE_PATH + 'sample_0.05/'\n",
    "DATA_PATH = BASE_PATH + 'parquet/'\n",
    "\n",
    "transactions = pd.read_parquet(DATA_PATH + 'transactions_train.parquet')\n",
    "customers = pd.read_parquet(DATA_PATH + 'customers.parquet')\n",
    "articles = pd.read_parquet(DATA_PATH + 'articles.parquet')"
   ]
  },
  {
   "cell_type": "code",
   "execution_count": 54,
   "id": "4d3601e4-de2b-4c28-9102-dc802886b8ce",
   "metadata": {},
   "outputs": [],
   "source": [
    "# code copied from recpack\n",
    "df = transactions.copy()\n",
    "a = df.article_id.value_counts()\n",
    "a = set(a[a > 100].index)\n",
    "df = df[df.article_id.isin(a)]\n",
    "\n",
    "item_ids = list(df.article_id.unique())\n",
    "user_ids = list(df.customer_id.unique())\n",
    "\n",
    "_user_id_mapping = rescale_id_space(user_ids)\n",
    "_item_id_mapping = rescale_id_space(item_ids)\n",
    "\n",
    "df.loc[:, 'uid'] = df.customer_id.map(lambda x: _user_id_mapping.get(x))\n",
    "df.loc[:, 'iid'] = df.article_id.map(lambda x: _item_id_mapping.get(x))\n",
    "values = np.ones(df.shape[0])\n",
    "indices = df[['uid', 'iid']].values\n",
    "indices = indices[:, 0], indices[:, 1]\n",
    "shape = (len(user_ids), len(item_ids))\n",
    "matrix = csr_matrix((values, indices), shape=shape, dtype=np.int32)"
   ]
  },
  {
   "cell_type": "code",
   "execution_count": null,
   "id": "959c8b54-7f60-45ce-b715-9989feff02bd",
   "metadata": {},
   "outputs": [],
   "source": [
    "# code copied from recpack\n",
    "item_cosine_similarities = cosine_similarity(matrix.T, dense_output=False)\n",
    "item_cosine_similarities.setdiag(0)"
   ]
  },
  {
   "cell_type": "code",
   "execution_count": 148,
   "id": "51d046e2-abd4-4f35-89d4-df81d7095b68",
   "metadata": {},
   "outputs": [
    {
     "name": "stderr",
     "output_type": "stream",
     "text": [
      "/Users/noah/Documents/School/Ma2 Informatica/AI Project/ai-project-23-24/env/lib/python3.11/site-packages/scipy/sparse/_index.py:143: SparseEfficiencyWarning: Changing the sparsity structure of a csr_matrix is expensive. lil_matrix is more efficient.\n",
      "  self._set_arrayXarray(i, j, x)\n"
     ]
    }
   ],
   "source": [
    "# code copied from recpack\n",
    "X_binary = matrix.astype(bool).astype(matrix.dtype)\n",
    "co_mat = X_binary.T @ matrix\n",
    "A = invert(diags(X_binary.sum(axis=0).A[0]).tocsr())\n",
    "item_cond_prob_similarities = A @ co_mat\n",
    "item_cond_prob_similarities.setdiag(0)"
   ]
  },
  {
   "cell_type": "code",
   "execution_count": 153,
   "id": "ea0bd545-b348-41a6-9a10-d9476ef2c6bf",
   "metadata": {},
   "outputs": [],
   "source": [
    "# code copied from recpack\n",
    "transformer = Normalizer(norm=\"l1\", copy=False)\n",
    "item_similarities = transformer.transform(item_cond_prob_similarities)\n",
    "\n",
    "top_K_ranks = get_top_K_ranks(item_similarities, 50)\n",
    "top_K_ranks[top_K_ranks > 0] = 1  # ranks to binary\n",
    "\n",
    "item_similarities2 = top_K_ranks.multiply(item_similarities)  # elementwise multiplication"
   ]
  },
  {
   "cell_type": "code",
   "execution_count": 154,
   "id": "7cd09de9-afd4-4467-b123-db2b13e7abdb",
   "metadata": {},
   "outputs": [],
   "source": [
    "sims = []\n",
    "for i1, i2 in zip(*item_similarities2.nonzero()):\n",
    "    sims.append((i1, i2, item_similarities2[i1, i2]))\n",
    "\n",
    "a = pd.DataFrame(sims, columns=['article_id', 'similar_article_id', 'score'])\n",
    "\n",
    "_item_id_mapping_rev = {i1: i2 for (i2, i1) in _item_id_mapping.items()}\n",
    "a['article_id'] = a.article_id.map(lambda x: _item_id_mapping_rev.get(x))\n",
    "a['similar_article_id'] = a.similar_article_id.map(lambda x: _item_id_mapping_rev.get(x))\n",
    "\n",
    "a.sort_values(['article_id', 'score'], ascending=[True, False], inplace=True)\n",
    "a.reset_index(inplace=True, drop=True)"
   ]
  },
  {
   "cell_type": "code",
   "execution_count": 156,
   "id": "f51b474d-a199-4775-866e-e37e945f7b44",
   "metadata": {},
   "outputs": [],
   "source": [
    "a.to_parquet('sim_condprob.parquet')"
   ]
  }
 ],
 "metadata": {
  "kernelspec": {
   "display_name": "Python 3 (ipykernel)",
   "language": "python",
   "name": "python3"
  },
  "language_info": {
   "codemirror_mode": {
    "name": "ipython",
    "version": 3
   },
   "file_extension": ".py",
   "mimetype": "text/x-python",
   "name": "python",
   "nbconvert_exporter": "python",
   "pygments_lexer": "ipython3",
   "version": "3.11.2"
  }
 },
 "nbformat": 4,
 "nbformat_minor": 5
}
