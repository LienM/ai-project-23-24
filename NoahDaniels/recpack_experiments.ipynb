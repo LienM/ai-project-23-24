{
 "cells": [
  {
   "cell_type": "code",
   "execution_count": 1,
   "id": "d5a17b6c-30a3-42ce-bcce-c7efaa2ec891",
   "metadata": {},
   "outputs": [],
   "source": [
    "import pandas as pd\n",
    "import numpy as np"
   ]
  },
  {
   "cell_type": "code",
   "execution_count": 2,
   "id": "9e2f5a84-c1c6-42d2-8849-0c2eb92052f1",
   "metadata": {},
   "outputs": [],
   "source": [
    "from recpack.preprocessing.preprocessors import DataFramePreprocessor\n",
    "from recpack.preprocessing.filters import MinItemsPerUser, MinUsersPerItem\n",
    "from recpack.scenarios import Timed\n",
    "from recpack.algorithms import Random, Popularity, ItemKNN, EASE\n",
    "from recpack.pipelines import PipelineBuilder, GridSearchInfo\n",
    "from recpack.metrics import RecallK"
   ]
  },
  {
   "cell_type": "markdown",
   "id": "297729fc-ba07-4e2e-b425-f9bd9f64a2f3",
   "metadata": {
    "jp-MarkdownHeadingCollapsed": true
   },
   "source": [
    "# Testing various algorithms\n",
    "\n",
    "In the following cells, I setup a recpack pipeline with the H&M dataset and test different algorithms. The algorithms are evaluated on recall@10/25/50.\n",
    "\n",
    "Algorithm | R@10\t | R@25\t\t| R@50   \n",
    "----------|----------|----------|---------\n",
    "Popularit | 0.015959 | 0.03930\t| 0.068584\n",
    "ItemKNN   | 0.047625 | 0.076670\t| 0.106593 \n",
    "EASE      | 0.046306 | 0.074782\t| 0.103866\n",
    "SVD       | 0.030904 | 0.051831\t| 0.078366\n",
    "NMF       | 0.027480 | 0.04821\t| 0.072477\n",
    "Prod2Vec  | 0.004908 | 0.010384\t| 0.017368 \n",
    "SLIM      | 0.000000 | 0.000000 | 0.000000"
   ]
  },
  {
   "cell_type": "markdown",
   "id": "ad62fc05-2bc4-4f97-b1d4-7c6c5e444841",
   "metadata": {},
   "source": [
    "## Load data\n",
    "\n",
    "The dataset is preprocessed by removing items with fewer than 100 customers to reduce the number of items to a more managable number. Only the last 10 weeks of transactions are used."
   ]
  },
  {
   "cell_type": "code",
   "execution_count": 3,
   "id": "c0d30512-3fe0-4c89-8144-63ca2de70ebc",
   "metadata": {},
   "outputs": [],
   "source": [
    "BASE_PATH = '../../data/'\n",
    "DATA_PATH = BASE_PATH + 'parquet/'\n",
    "# DATA_PATH = BASE_PATH + 'sample_0.05/'\n",
    "\n",
    "transactions = pd.read_parquet(DATA_PATH + 'transactions_train.parquet')\n",
    "customers = pd.read_parquet(DATA_PATH + 'customers.parquet')\n",
    "articles = pd.read_parquet(DATA_PATH + 'articles.parquet')"
   ]
  },
  {
   "cell_type": "code",
   "execution_count": 6,
   "id": "1e9e3daf-8735-4aee-88f3-69393711e041",
   "metadata": {},
   "outputs": [
    {
     "data": {
      "application/vnd.jupyter.widget-view+json": {
       "model_id": "d02758fec5594eb48161886b1a72f3e2",
       "version_major": 2,
       "version_minor": 0
      },
      "text/plain": [
       "  0%|          | 0/2163645 [00:00<?, ?it/s]"
      ]
     },
     "metadata": {},
     "output_type": "display_data"
    },
    {
     "data": {
      "application/vnd.jupyter.widget-view+json": {
       "model_id": "7486938a16fb4e4c805580095eec16e3",
       "version_major": 2,
       "version_minor": 0
      },
      "text/plain": [
       "  0%|          | 0/2163645 [00:00<?, ?it/s]"
      ]
     },
     "metadata": {},
     "output_type": "display_data"
    }
   ],
   "source": [
    "proc = DataFramePreprocessor(item_ix='article_id', user_ix='customer_id', timestamp_ix='week')\n",
    "proc.add_filter(MinUsersPerItem(100, item_ix='article_id', user_ix='customer_id'))\n",
    "interaction_matrix = proc.process(transactions[transactions.week > 94])"
   ]
  },
  {
   "cell_type": "markdown",
   "id": "20711be7-07a3-40bc-8e04-0ec7429eca64",
   "metadata": {},
   "source": [
    "## Create scenario\n",
    "\n",
    "A timed scenario is used with the final week as test week and the previous 4 weeks for training. For KNN a different scenario with validation enable is used."
   ]
  },
  {
   "cell_type": "code",
   "execution_count": 8,
   "id": "f35f16e4-f4b5-4abc-9db6-4547bee59df7",
   "metadata": {},
   "outputs": [],
   "source": [
    "scenario = Timed(104, delta_in=4)\n",
    "# scenario = Timed(104, 103, delta_in=3, validation=True)\n",
    "scenario.split(interaction_matrix)"
   ]
  },
  {
   "cell_type": "markdown",
   "id": "405c1071-ec74-4f90-bad1-ea176a696650",
   "metadata": {},
   "source": [
    "## Experiments\n",
    "\n",
    "After fitting and evaluating a few algorithms, ItemKNN was chosen as it perfomed very well and took by far the least amount of fitting time."
   ]
  },
  {
   "cell_type": "code",
   "execution_count": 9,
   "id": "7f496830-1d27-4dc8-93e6-5af4934bf57b",
   "metadata": {},
   "outputs": [],
   "source": [
    "builder = PipelineBuilder()\n",
    "builder.set_data_from_scenario(scenario)\n",
    "\n",
    "builder.add_algorithm('Popularity')\n",
    "# builder.add_algorithm('ItemKNN', optimisation_info=GridSearchInfo({\n",
    "#     'K': [50, 100, 200, 500],\n",
    "#     'similarity': ['cosine', 'conditional_probability'],\n",
    "#     'pop_discount': [None, 0.5],\n",
    "#     'normalize_X': [True, False],\n",
    "#     'normalize_sim': [True, False],\n",
    "# }))\n",
    "# builder.add_algorithm(\"EASE\")\n",
    "# builder.add_algorithm(\"SVD\")\n",
    "# builder.add_algorithm(\"NMF\")\n",
    "# builder.add_algorithm(\"Prod2Vec\")\n",
    "# builder.add_algorithm(\"SLIM\")\n",
    "\n",
    "builder.set_optimisation_metric('RecallK', K=10)\n",
    "builder.add_metric('RecallK', K=[10, 25, 50])\n",
    "pipeline = builder.build()"
   ]
  },
  {
   "cell_type": "code",
   "execution_count": 10,
   "id": "f86d5813-6784-489e-8d42-a6645fdf9b88",
   "metadata": {},
   "outputs": [
    {
     "data": {
      "application/vnd.jupyter.widget-view+json": {
       "model_id": "17564be1f53c45be83fa1149410a14e7",
       "version_major": 2,
       "version_minor": 0
      },
      "text/plain": [
       "  0%|          | 0/1 [00:00<?, ?it/s]"
      ]
     },
     "metadata": {},
     "output_type": "display_data"
    },
    {
     "name": "stdout",
     "output_type": "stream",
     "text": [
      "2023-12-27 17:46:02,064 - base - recpack - INFO - Fitting Popularity complete - Took 0.121s\n"
     ]
    }
   ],
   "source": [
    "pipeline.run()"
   ]
  },
  {
   "cell_type": "code",
   "execution_count": 11,
   "id": "e2a1cfdb-924e-4359-b704-0a338f0ea040",
   "metadata": {},
   "outputs": [
    {
     "data": {
      "text/html": [
       "<div>\n",
       "<style scoped>\n",
       "    .dataframe tbody tr th:only-of-type {\n",
       "        vertical-align: middle;\n",
       "    }\n",
       "\n",
       "    .dataframe tbody tr th {\n",
       "        vertical-align: top;\n",
       "    }\n",
       "\n",
       "    .dataframe thead th {\n",
       "        text-align: right;\n",
       "    }\n",
       "</style>\n",
       "<table border=\"1\" class=\"dataframe\">\n",
       "  <thead>\n",
       "    <tr style=\"text-align: right;\">\n",
       "      <th></th>\n",
       "      <th>RecallK_10</th>\n",
       "      <th>RecallK_25</th>\n",
       "      <th>RecallK_50</th>\n",
       "    </tr>\n",
       "  </thead>\n",
       "  <tbody>\n",
       "    <tr>\n",
       "      <th>Popularity(K=200)</th>\n",
       "      <td>0.017484</td>\n",
       "      <td>0.037025</td>\n",
       "      <td>0.068299</td>\n",
       "    </tr>\n",
       "  </tbody>\n",
       "</table>\n",
       "</div>"
      ],
      "text/plain": [
       "                   RecallK_10  RecallK_25  RecallK_50\n",
       "Popularity(K=200)    0.017484    0.037025    0.068299"
      ]
     },
     "execution_count": 11,
     "metadata": {},
     "output_type": "execute_result"
    }
   ],
   "source": [
    "pipeline.get_metrics()"
   ]
  },
  {
   "cell_type": "code",
   "execution_count": 129,
   "id": "457eb14b-bef0-419d-b0af-13b8e5bc5917",
   "metadata": {},
   "outputs": [
    {
     "data": {
      "text/html": [
       "<div>\n",
       "<style scoped>\n",
       "    .dataframe tbody tr th:only-of-type {\n",
       "        vertical-align: middle;\n",
       "    }\n",
       "\n",
       "    .dataframe tbody tr th {\n",
       "        vertical-align: top;\n",
       "    }\n",
       "\n",
       "    .dataframe thead th {\n",
       "        text-align: right;\n",
       "    }\n",
       "</style>\n",
       "<table border=\"1\" class=\"dataframe\">\n",
       "  <thead>\n",
       "    <tr style=\"text-align: right;\">\n",
       "      <th></th>\n",
       "      <th>algorithm</th>\n",
       "      <th>identifier</th>\n",
       "      <th>params</th>\n",
       "      <th>RecallK_10</th>\n",
       "    </tr>\n",
       "  </thead>\n",
       "  <tbody>\n",
       "    <tr>\n",
       "      <th>0</th>\n",
       "      <td>ItemKNN</td>\n",
       "      <td>ItemKNN(K=50,normalize_X=True,normalize_sim=Tr...</td>\n",
       "      <td>{'K': 50, 'normalize_X': True, 'normalize_sim'...</td>\n",
       "      <td>0.025129</td>\n",
       "    </tr>\n",
       "    <tr>\n",
       "      <th>1</th>\n",
       "      <td>ItemKNN</td>\n",
       "      <td>ItemKNN(K=50,normalize_X=True,normalize_sim=Tr...</td>\n",
       "      <td>{'K': 50, 'normalize_X': True, 'normalize_sim'...</td>\n",
       "      <td>0.047095</td>\n",
       "    </tr>\n",
       "    <tr>\n",
       "      <th>2</th>\n",
       "      <td>ItemKNN</td>\n",
       "      <td>ItemKNN(K=50,normalize_X=True,normalize_sim=Tr...</td>\n",
       "      <td>{'K': 50, 'normalize_X': True, 'normalize_sim'...</td>\n",
       "      <td>0.025129</td>\n",
       "    </tr>\n",
       "    <tr>\n",
       "      <th>3</th>\n",
       "      <td>ItemKNN</td>\n",
       "      <td>ItemKNN(K=50,normalize_X=True,normalize_sim=Tr...</td>\n",
       "      <td>{'K': 50, 'normalize_X': True, 'normalize_sim'...</td>\n",
       "      <td>0.033812</td>\n",
       "    </tr>\n",
       "    <tr>\n",
       "      <th>4</th>\n",
       "      <td>ItemKNN</td>\n",
       "      <td>ItemKNN(K=50,normalize_X=True,normalize_sim=Fa...</td>\n",
       "      <td>{'K': 50, 'normalize_X': True, 'normalize_sim'...</td>\n",
       "      <td>0.025121</td>\n",
       "    </tr>\n",
       "    <tr>\n",
       "      <th>...</th>\n",
       "      <td>...</td>\n",
       "      <td>...</td>\n",
       "      <td>...</td>\n",
       "      <td>...</td>\n",
       "    </tr>\n",
       "    <tr>\n",
       "      <th>59</th>\n",
       "      <td>ItemKNN</td>\n",
       "      <td>ItemKNN(K=500,normalize_X=False,normalize_sim=...</td>\n",
       "      <td>{'K': 500, 'normalize_X': False, 'normalize_si...</td>\n",
       "      <td>0.030181</td>\n",
       "    </tr>\n",
       "    <tr>\n",
       "      <th>60</th>\n",
       "      <td>ItemKNN</td>\n",
       "      <td>ItemKNN(K=500,normalize_X=False,normalize_sim=...</td>\n",
       "      <td>{'K': 500, 'normalize_X': False, 'normalize_si...</td>\n",
       "      <td>0.034381</td>\n",
       "    </tr>\n",
       "    <tr>\n",
       "      <th>61</th>\n",
       "      <td>ItemKNN</td>\n",
       "      <td>ItemKNN(K=500,normalize_X=False,normalize_sim=...</td>\n",
       "      <td>{'K': 500, 'normalize_X': False, 'normalize_si...</td>\n",
       "      <td>0.045535</td>\n",
       "    </tr>\n",
       "    <tr>\n",
       "      <th>62</th>\n",
       "      <td>ItemKNN</td>\n",
       "      <td>ItemKNN(K=500,normalize_X=False,normalize_sim=...</td>\n",
       "      <td>{'K': 500, 'normalize_X': False, 'normalize_si...</td>\n",
       "      <td>0.034381</td>\n",
       "    </tr>\n",
       "    <tr>\n",
       "      <th>63</th>\n",
       "      <td>ItemKNN</td>\n",
       "      <td>ItemKNN(K=500,normalize_X=False,normalize_sim=...</td>\n",
       "      <td>{'K': 500, 'normalize_X': False, 'normalize_si...</td>\n",
       "      <td>0.026572</td>\n",
       "    </tr>\n",
       "  </tbody>\n",
       "</table>\n",
       "<p>64 rows × 4 columns</p>\n",
       "</div>"
      ],
      "text/plain": [
       "   algorithm                                         identifier  \\\n",
       "0    ItemKNN  ItemKNN(K=50,normalize_X=True,normalize_sim=Tr...   \n",
       "1    ItemKNN  ItemKNN(K=50,normalize_X=True,normalize_sim=Tr...   \n",
       "2    ItemKNN  ItemKNN(K=50,normalize_X=True,normalize_sim=Tr...   \n",
       "3    ItemKNN  ItemKNN(K=50,normalize_X=True,normalize_sim=Tr...   \n",
       "4    ItemKNN  ItemKNN(K=50,normalize_X=True,normalize_sim=Fa...   \n",
       "..       ...                                                ...   \n",
       "59   ItemKNN  ItemKNN(K=500,normalize_X=False,normalize_sim=...   \n",
       "60   ItemKNN  ItemKNN(K=500,normalize_X=False,normalize_sim=...   \n",
       "61   ItemKNN  ItemKNN(K=500,normalize_X=False,normalize_sim=...   \n",
       "62   ItemKNN  ItemKNN(K=500,normalize_X=False,normalize_sim=...   \n",
       "63   ItemKNN  ItemKNN(K=500,normalize_X=False,normalize_sim=...   \n",
       "\n",
       "                                               params  RecallK_10  \n",
       "0   {'K': 50, 'normalize_X': True, 'normalize_sim'...    0.025129  \n",
       "1   {'K': 50, 'normalize_X': True, 'normalize_sim'...    0.047095  \n",
       "2   {'K': 50, 'normalize_X': True, 'normalize_sim'...    0.025129  \n",
       "3   {'K': 50, 'normalize_X': True, 'normalize_sim'...    0.033812  \n",
       "4   {'K': 50, 'normalize_X': True, 'normalize_sim'...    0.025121  \n",
       "..                                                ...         ...  \n",
       "59  {'K': 500, 'normalize_X': False, 'normalize_si...    0.030181  \n",
       "60  {'K': 500, 'normalize_X': False, 'normalize_si...    0.034381  \n",
       "61  {'K': 500, 'normalize_X': False, 'normalize_si...    0.045535  \n",
       "62  {'K': 500, 'normalize_X': False, 'normalize_si...    0.034381  \n",
       "63  {'K': 500, 'normalize_X': False, 'normalize_si...    0.026572  \n",
       "\n",
       "[64 rows x 4 columns]"
      ]
     },
     "execution_count": 129,
     "metadata": {},
     "output_type": "execute_result"
    }
   ],
   "source": [
    "pipeline.optimisation_results"
   ]
  },
  {
   "cell_type": "markdown",
   "id": "728728c5-4de2-4b52-b537-d9ae00cd1ffe",
   "metadata": {
    "jp-MarkdownHeadingCollapsed": true
   },
   "source": [
    "# Creating similarity lookup inspired by itemKNN\n",
    "\n",
    "In the following cells, I attempt to get the top-100 similar items for each item inside a dataframe. This way, candidate generation code used in the other notebooks can just use the dataframe and doesn't need to concern itself with sparse matrices and rescaled user and item id spaces.\n",
    "\n",
    "The code is mostly copied from the DataframePreprocessor and ItemKNN classes in recpack. In a better world, I would have extracted the required data from a recpack pipeline, but this was faster at the moment (isues getting recpack to install on certain python environments). It also allowed me to better understand what was happening under the hood."
   ]
  },
  {
   "cell_type": "code",
   "execution_count": 22,
   "id": "7d1b71e1-49be-48ca-a191-2ee7d4606c00",
   "metadata": {},
   "outputs": [],
   "source": [
    "from recpack.util import get_top_K_ranks\n",
    "from recpack.preprocessing.util import rescale_id_space\n",
    "from recpack.algorithms.util import invert\n",
    "\n",
    "from scipy.sparse import diags\n",
    "from scipy.sparse import csr_matrix\n",
    "from sklearn.metrics.pairwise import cosine_similarity\n",
    "from sklearn.preprocessing import Normalizer"
   ]
  },
  {
   "cell_type": "markdown",
   "id": "36a0a541-ba98-4f0f-bc79-76b105a0f5d8",
   "metadata": {},
   "source": [
    "## Load H&M dataset\n",
    "\n",
    "Load the dataset as an interaction matrix, and remember the mappibngs between the original and new user/item ids."
   ]
  },
  {
   "cell_type": "code",
   "execution_count": 18,
   "id": "a6f22075-cb92-43b0-b26a-8b03fbdaacad",
   "metadata": {},
   "outputs": [],
   "source": [
    "df = transactions.copy()\n",
    "a = df.article_id.value_counts()\n",
    "a = set(a[a > 100].index)\n",
    "df = df[df.article_id.isin(a)]\n",
    "\n",
    "item_ids = list(df.article_id.unique())\n",
    "user_ids = list(df.customer_id.unique())\n",
    "\n",
    "user_id_mapping = rescale_id_space(user_ids)\n",
    "item_id_mapping = rescale_id_space(item_ids)\n",
    "\n",
    "df.loc[:, 'uid'] = df.customer_id.map(lambda x: user_id_mapping.get(x))\n",
    "df.loc[:, 'iid'] = df.article_id.map(lambda x: item_id_mapping.get(x))\n",
    "values = np.ones(df.shape[0])\n",
    "indices = df[['uid', 'iid']].values\n",
    "indices = indices[:, 0], indices[:, 1]\n",
    "shape = (len(user_ids), len(item_ids))\n",
    "matrix = csr_matrix((values, indices), shape=shape, dtype=np.int32)"
   ]
  },
  {
   "cell_type": "markdown",
   "id": "d1ffe586-60b2-4626-970d-3fbd981527a1",
   "metadata": {},
   "source": [
    "## Fit ItemKNN"
   ]
  },
  {
   "cell_type": "code",
   "execution_count": 20,
   "id": "de129015-7738-49fb-9983-0909e409df09",
   "metadata": {},
   "outputs": [
    {
     "name": "stderr",
     "output_type": "stream",
     "text": [
      "/Users/noah/Documents/School/Ma2 Informatica/AI Project/recpack_test/env/lib/python3.9/site-packages/scipy/sparse/_index.py:143: SparseEfficiencyWarning: Changing the sparsity structure of a csr_matrix is expensive. lil_matrix is more efficient.\n",
      "  self._set_arrayXarray(i, j, x)\n"
     ]
    }
   ],
   "source": [
    "transformer = Normalizer(norm=\"l1\", copy=False)\n",
    "\n",
    "item_cosine_similarities = cosine_similarity(matrix.T, dense_output=False)\n",
    "item_cosine_similarities.setdiag(0)\n",
    "item_similarities = transformer.transform(item_cosine_similarities)\n",
    "\n",
    "# X_binary = matrix.astype(bool).astype(matrix.dtype)\n",
    "# co_mat = X_binary.T @ matrix\n",
    "# A = invert(diags(X_binary.sum(axis=0).A[0]).tocsr())\n",
    "# item_cond_prob_similarities = A @ co_mat\n",
    "# item_cond_prob_similarities.setdiag(0)\n",
    "# item_similarities = transformer.transform(item_cond_prob_similarities)"
   ]
  },
  {
   "cell_type": "code",
   "execution_count": 23,
   "id": "21b7b26b-7f57-453b-be26-f039a1f3d7ee",
   "metadata": {},
   "outputs": [],
   "source": [
    "top_K_ranks = get_top_K_ranks(item_similarities, 100)\n",
    "top_K_ranks[top_K_ranks > 0] = 1\n",
    "\n",
    "item_similarities = top_K_ranks.multiply(item_similarities) "
   ]
  },
  {
   "cell_type": "markdown",
   "id": "66c3f0b4-fdac-44e6-b44c-e076a7698a9c",
   "metadata": {},
   "source": [
    "## Create similarity dataframe\n",
    "\n",
    "For each item, record the top-100 most similar items. Requires converting the article ids back to the original ids."
   ]
  },
  {
   "cell_type": "code",
   "execution_count": 26,
   "id": "5cf77057-f2d7-41db-b85b-cb3ab010b36c",
   "metadata": {},
   "outputs": [],
   "source": [
    "sims = []\n",
    "for i1, i2 in zip(*item_similarities.nonzero()):\n",
    "    sims.append((i1, i2, item_similarities[i1, i2]))\n",
    "\n",
    "result = pd.DataFrame(sims, columns=['article_id', 'similar_article_id', 'score'])\n",
    "\n",
    "item_id_mapping_rev = {i1: i2 for (i2, i1) in item_id_mapping.items()}\n",
    "result['article_id'] = result.article_id.map(lambda x: item_id_mapping_rev.get(x))\n",
    "result['similar_article_id'] = result.similar_article_id.map(lambda x: item_id_mapping_rev.get(x))\n",
    "\n",
    "result.sort_values(['article_id', 'score'], ascending=[True, False], inplace=True)\n",
    "result.reset_index(inplace=True, drop=True)"
   ]
  },
  {
   "cell_type": "code",
   "execution_count": 27,
   "id": "1adb4a04-96b5-4bff-9962-33a870a2a83a",
   "metadata": {},
   "outputs": [],
   "source": [
    "result.to_parquet('sim_cosine.parquet')\n",
    "# result.to_parquet('sim_cond_prob.parquet')"
   ]
  }
 ],
 "metadata": {
  "kernelspec": {
   "display_name": "Python 3 (ipykernel)",
   "language": "python",
   "name": "python3"
  },
  "language_info": {
   "codemirror_mode": {
    "name": "ipython",
    "version": 3
   },
   "file_extension": ".py",
   "mimetype": "text/x-python",
   "name": "python",
   "nbconvert_exporter": "python",
   "pygments_lexer": "ipython3",
   "version": "3.11.2"
  }
 },
 "nbformat": 4,
 "nbformat_minor": 5
}
