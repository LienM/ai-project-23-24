{
 "cells": [
  {
   "cell_type": "markdown",
   "id": "54958734-c6aa-4fde-aff6-b8fb8300ed57",
   "metadata": {},
   "source": [
    "Based on https://github.com/radekosmulski/personalized_fashion_recs/blob/main/01_Solution_warmup.ipynb"
   ]
  },
  {
   "cell_type": "code",
   "execution_count": 1,
   "id": "ce54f6d4-749c-4e44-89d1-eeb1254d996b",
   "metadata": {},
   "outputs": [],
   "source": [
    "from sklearn.base import BaseEstimator, TransformerMixin\n",
    "import numpy as np\n",
    "import pandas as pd"
   ]
  },
  {
   "cell_type": "code",
   "execution_count": 2,
   "id": "0a1d3c58-4bb5-424f-85b9-5e1c3a0902db",
   "metadata": {},
   "outputs": [],
   "source": [
    "# helper functions\n",
    "\n",
    "# https://www.kaggle.com/c/h-and-m-personalized-fashion-recommendations/discussion/308635\n",
    "def customer_hex_id_to_int(series):\n",
    "    return series.str[-16:].apply(hex_id_to_int)\n",
    "\n",
    "def hex_id_to_int(str):\n",
    "    return int(str[-16:], 16)\n",
    "\n",
    "def article_id_str_to_int(series):\n",
    "    return series.astype('int32')\n",
    "\n",
    "def article_id_int_to_str(series):\n",
    "    return '0' + series.astype('str')\n",
    "\n",
    "class Categorize(BaseEstimator, TransformerMixin):\n",
    "    def __init__(self, min_examples=0):\n",
    "        self.min_examples = min_examples\n",
    "        self.categories = []\n",
    "        \n",
    "    def fit(self, X):\n",
    "        for i in range(X.shape[1]):\n",
    "            vc = X.iloc[:, i].value_counts()\n",
    "            self.categories.append(vc[vc > self.min_examples].index.tolist())\n",
    "        return self\n",
    "\n",
    "    def transform(self, X):\n",
    "        data = {X.columns[i]: pd.Categorical(X.iloc[:, i], categories=self.categories[i]).codes for i in range(X.shape[1])}\n",
    "        return pd.DataFrame(data=data)"
   ]
  },
  {
   "cell_type": "code",
   "execution_count": 7,
   "id": "e89a459e-a73a-40f4-a236-6d3932e57c53",
   "metadata": {},
   "outputs": [
    {
     "name": "stdout",
     "output_type": "stream",
     "text": [
      "CPU times: user 18.5 s, sys: 2.41 s, total: 20.9 s\n",
      "Wall time: 21.7 s\n"
     ]
    }
   ],
   "source": [
    "%%time\n",
    "\n",
    "BASE_PATH = '../../data/'\n",
    "\n",
    "transactions = pd.read_csv(BASE_PATH + 'transactions_train.csv')\n",
    "customers = pd.read_csv(BASE_PATH + 'customers.csv')\n",
    "articles = pd.read_csv(BASE_PATH + 'articles.csv')"
   ]
  },
  {
   "cell_type": "code",
   "execution_count": 4,
   "id": "e397cbd0-580e-46b6-beb0-445444fced12",
   "metadata": {},
   "outputs": [
    {
     "name": "stdout",
     "output_type": "stream",
     "text": [
      "<class 'pandas.core.frame.DataFrame'>\n",
      "RangeIndex: 31788324 entries, 0 to 31788323\n",
      "Data columns (total 5 columns):\n",
      " #   Column            Dtype  \n",
      "---  ------            -----  \n",
      " 0   t_dat             object \n",
      " 1   customer_id       object \n",
      " 2   article_id        int64  \n",
      " 3   price             float64\n",
      " 4   sales_channel_id  int64  \n",
      "dtypes: float64(1), int64(2), object(2)\n",
      "memory usage: 6.3 GB\n",
      "<class 'pandas.core.frame.DataFrame'>\n",
      "RangeIndex: 1371980 entries, 0 to 1371979\n",
      "Data columns (total 7 columns):\n",
      " #   Column                  Non-Null Count    Dtype  \n",
      "---  ------                  --------------    -----  \n",
      " 0   customer_id             1371980 non-null  object \n",
      " 1   FN                      476930 non-null   float64\n",
      " 2   Active                  464404 non-null   float64\n",
      " 3   club_member_status      1365918 non-null  object \n",
      " 4   fashion_news_frequency  1355969 non-null  object \n",
      " 5   age                     1356119 non-null  float64\n",
      " 6   postal_code             1371980 non-null  object \n",
      "dtypes: float64(3), object(4)\n",
      "memory usage: 512.3 MB\n",
      "<class 'pandas.core.frame.DataFrame'>\n",
      "RangeIndex: 105542 entries, 0 to 105541\n",
      "Data columns (total 25 columns):\n",
      " #   Column                        Non-Null Count   Dtype \n",
      "---  ------                        --------------   ----- \n",
      " 0   article_id                    105542 non-null  int64 \n",
      " 1   product_code                  105542 non-null  int64 \n",
      " 2   prod_name                     105542 non-null  object\n",
      " 3   product_type_no               105542 non-null  int64 \n",
      " 4   product_type_name             105542 non-null  object\n",
      " 5   product_group_name            105542 non-null  object\n",
      " 6   graphical_appearance_no       105542 non-null  int64 \n",
      " 7   graphical_appearance_name     105542 non-null  object\n",
      " 8   colour_group_code             105542 non-null  int64 \n",
      " 9   colour_group_name             105542 non-null  object\n",
      " 10  perceived_colour_value_id     105542 non-null  int64 \n",
      " 11  perceived_colour_value_name   105542 non-null  object\n",
      " 12  perceived_colour_master_id    105542 non-null  int64 \n",
      " 13  perceived_colour_master_name  105542 non-null  object\n",
      " 14  department_no                 105542 non-null  int64 \n",
      " 15  department_name               105542 non-null  object\n",
      " 16  index_code                    105542 non-null  object\n",
      " 17  index_name                    105542 non-null  object\n",
      " 18  index_group_no                105542 non-null  int64 \n",
      " 19  index_group_name              105542 non-null  object\n",
      " 20  section_no                    105542 non-null  int64 \n",
      " 21  section_name                  105542 non-null  object\n",
      " 22  garment_group_no              105542 non-null  int64 \n",
      " 23  garment_group_name            105542 non-null  object\n",
      " 24  detail_desc                   105126 non-null  object\n",
      "dtypes: int64(11), object(14)\n",
      "memory usage: 117.6 MB\n"
     ]
    }
   ],
   "source": [
    "transactions.info(memory_usage='deep')\n",
    "customers.info(memory_usage='deep')\n",
    "articles.info(memory_usage='deep')"
   ]
  },
  {
   "cell_type": "code",
   "execution_count": 8,
   "id": "d2b97bd4-13da-4ad3-9503-6a97d9bdb606",
   "metadata": {},
   "outputs": [],
   "source": [
    "transactions2 = transactions.copy()\n",
    "customers2 = customers.copy()\n",
    "articles2 = articles.copy()\n",
    "\n",
    "transactions2['customer_id'] = customer_hex_id_to_int(transactions2['customer_id'])\n",
    "transactions2.t_dat = pd.to_datetime(transactions2.t_dat, format='%Y-%m-%d')\n",
    "transactions2['week'] = 104 - (transactions2.t_dat.max() - transactions2.t_dat).dt.days // 7\n",
    "transactions2.article_id = article_id_str_to_int(transactions2.article_id)\n",
    "articles2.article_id = article_id_str_to_int(articles2.article_id)\n",
    "transactions2.week = transactions2.week.astype('int8')\n",
    "transactions2.sales_channel_id = transactions2.sales_channel_id.astype('int8')\n",
    "transactions2.price = transactions2.price.astype('float32')\n",
    "\n",
    "customers2.customer_id = customer_hex_id_to_int(customers2.customer_id)\n",
    "for col in ['FN', 'Active', 'age']:\n",
    "    customers2[col].fillna(-1, inplace=True)\n",
    "    customers2[col] = customers2[col].astype('int8')\n",
    "customers2.club_member_status = Categorize().fit_transform(customers2[['club_member_status']]).club_member_status\n",
    "customers2.postal_code = Categorize().fit_transform(customers2[['postal_code']]).postal_code\n",
    "customers2.fashion_news_frequency = Categorize().fit_transform(customers2[['fashion_news_frequency']]).fashion_news_frequency\n",
    "\n",
    "for col in articles2.columns:\n",
    "    if articles2[col].dtype == 'object':\n",
    "        articles2[col] = Categorize().fit_transform(articles[[col]])[col]\n",
    "for col in articles2.columns:\n",
    "    if articles2[col].dtype == 'int64':\n",
    "        articles2[col] = articles2[col].astype('int32')\n",
    "\n",
    "transactions2.sort_values(['t_dat', 'customer_id'], inplace=True)"
   ]
  },
  {
   "cell_type": "code",
   "execution_count": 12,
   "id": "20e15464-5f9c-4593-9180-f0b01668a36c",
   "metadata": {},
   "outputs": [
    {
     "data": {
      "text/plain": [
       "[['Ladieswear', 'Baby/Children', 'Divided', 'Menswear', 'Sport']]"
      ]
     },
     "execution_count": 12,
     "metadata": {},
     "output_type": "execute_result"
    }
   ],
   "source": [
    "c = Categorize()\n",
    "c.fit(articles[['index_group_name']])\n",
    "c.categories"
   ]
  },
  {
   "cell_type": "code",
   "execution_count": 17,
   "id": "3f56fb39-9eac-406e-803a-58cd3414e17c",
   "metadata": {},
   "outputs": [
    {
     "data": {
      "text/plain": [
       "11        112679048\n",
       "12        112679052\n",
       "37        141661022\n",
       "38        141661025\n",
       "46        146706001\n",
       "            ...    \n",
       "105522    948152001\n",
       "105523    948152002\n",
       "105524    948758001\n",
       "105526    948997001\n",
       "105533    950449002\n",
       "Name: article_id, Length: 34711, dtype: int64"
      ]
     },
     "execution_count": 17,
     "metadata": {},
     "output_type": "execute_result"
    }
   ],
   "source": [
    "articles[articles.index_group_name == 'Baby/Children'].article_id"
   ]
  },
  {
   "cell_type": "code",
   "execution_count": 19,
   "id": "3e32cd7d-fbcf-485c-870b-9ed4423b488d",
   "metadata": {},
   "outputs": [
    {
     "data": {
      "text/plain": [
       "11        112679048\n",
       "12        112679052\n",
       "37        141661022\n",
       "38        141661025\n",
       "46        146706001\n",
       "            ...    \n",
       "105522    948152001\n",
       "105523    948152002\n",
       "105524    948758001\n",
       "105526    948997001\n",
       "105533    950449002\n",
       "Name: article_id, Length: 34711, dtype: int32"
      ]
     },
     "execution_count": 19,
     "metadata": {},
     "output_type": "execute_result"
    }
   ],
   "source": [
    "articles2[articles2.index_group_name == 1].article_id"
   ]
  },
  {
   "cell_type": "code",
   "execution_count": 9,
   "id": "2de9b7ca-39f9-4f41-8f6f-5ace60c32ebd",
   "metadata": {},
   "outputs": [
    {
     "name": "stdout",
     "output_type": "stream",
     "text": [
      "<class 'pandas.core.frame.DataFrame'>\n",
      "RangeIndex: 31788324 entries, 0 to 31788323\n",
      "Data columns (total 6 columns):\n",
      " #   Column            Dtype         \n",
      "---  ------            -----         \n",
      " 0   t_dat             datetime64[ns]\n",
      " 1   customer_id       uint64        \n",
      " 2   article_id        int32         \n",
      " 3   price             float32       \n",
      " 4   sales_channel_id  int8          \n",
      " 5   week              int8          \n",
      "dtypes: datetime64[ns](1), float32(1), int32(1), int8(2), uint64(1)\n",
      "memory usage: 788.2 MB\n",
      "<class 'pandas.core.frame.DataFrame'>\n",
      "RangeIndex: 1371980 entries, 0 to 1371979\n",
      "Data columns (total 7 columns):\n",
      " #   Column                  Non-Null Count    Dtype \n",
      "---  ------                  --------------    ----- \n",
      " 0   customer_id             1371980 non-null  uint64\n",
      " 1   FN                      1371980 non-null  int8  \n",
      " 2   Active                  1371980 non-null  int8  \n",
      " 3   club_member_status      1371980 non-null  int8  \n",
      " 4   fashion_news_frequency  1371980 non-null  int8  \n",
      " 5   age                     1371980 non-null  int8  \n",
      " 6   postal_code             1371980 non-null  int32 \n",
      "dtypes: int32(1), int8(5), uint64(1)\n",
      "memory usage: 22.2 MB\n",
      "<class 'pandas.core.frame.DataFrame'>\n",
      "RangeIndex: 105542 entries, 0 to 105541\n",
      "Data columns (total 25 columns):\n",
      " #   Column                        Non-Null Count   Dtype\n",
      "---  ------                        --------------   -----\n",
      " 0   article_id                    105542 non-null  int32\n",
      " 1   product_code                  105542 non-null  int32\n",
      " 2   prod_name                     105542 non-null  int32\n",
      " 3   product_type_no               105542 non-null  int32\n",
      " 4   product_type_name             105542 non-null  int16\n",
      " 5   product_group_name            105542 non-null  int8 \n",
      " 6   graphical_appearance_no       105542 non-null  int32\n",
      " 7   graphical_appearance_name     105542 non-null  int8 \n",
      " 8   colour_group_code             105542 non-null  int32\n",
      " 9   colour_group_name             105542 non-null  int8 \n",
      " 10  perceived_colour_value_id     105542 non-null  int32\n",
      " 11  perceived_colour_value_name   105542 non-null  int8 \n",
      " 12  perceived_colour_master_id    105542 non-null  int32\n",
      " 13  perceived_colour_master_name  105542 non-null  int8 \n",
      " 14  department_no                 105542 non-null  int32\n",
      " 15  department_name               105542 non-null  int16\n",
      " 16  index_code                    105542 non-null  int8 \n",
      " 17  index_name                    105542 non-null  int8 \n",
      " 18  index_group_no                105542 non-null  int32\n",
      " 19  index_group_name              105542 non-null  int8 \n",
      " 20  section_no                    105542 non-null  int32\n",
      " 21  section_name                  105542 non-null  int8 \n",
      " 22  garment_group_no              105542 non-null  int32\n",
      " 23  garment_group_name            105542 non-null  int8 \n",
      " 24  detail_desc                   105542 non-null  int32\n",
      "dtypes: int16(2), int32(13), int8(10)\n",
      "memory usage: 6.6 MB\n"
     ]
    }
   ],
   "source": [
    "transactions.info(memory_usage='deep')\n",
    "customers.info(memory_usage='deep')\n",
    "articles.info(memory_usage='deep')"
   ]
  },
  {
   "cell_type": "code",
   "execution_count": 13,
   "id": "8516961c-54f9-44b2-a1a7-4db24e114391",
   "metadata": {},
   "outputs": [
    {
     "name": "stdout",
     "output_type": "stream",
     "text": [
      "CPU times: user 3.39 s, sys: 131 ms, total: 3.52 s\n",
      "Wall time: 5.01 s\n"
     ]
    }
   ],
   "source": [
    "%%time\n",
    "\n",
    "transactions.to_parquet(BASE_PATH + 'transactions_train.parquet')\n",
    "customers.to_parquet(BASE_PATH + 'customers.parquet')\n",
    "articles.to_parquet(BASE_PATH + 'articles.parquet')"
   ]
  },
  {
   "cell_type": "code",
   "execution_count": 16,
   "id": "4f5f7190-8a3e-411f-bebd-fab85061ede4",
   "metadata": {},
   "outputs": [
    {
     "name": "stdout",
     "output_type": "stream",
     "text": [
      "CPU times: user 1.72 s, sys: 206 ms, total: 1.93 s\n",
      "Wall time: 1.93 s\n"
     ]
    }
   ],
   "source": [
    "%%time\n",
    "# let's create a 5% sample of the entiriety of the data to speed up dev\n",
    "\n",
    "sample = 0.05\n",
    "customers_sample = customers.sample(frac=sample, replace=False)\n",
    "customers_sample_ids = set(customers_sample['customer_id'])\n",
    "transactions_sample = transactions[transactions[\"customer_id\"].isin(customers_sample_ids)]\n",
    "articles_sample_ids = set(transactions_sample[\"article_id\"])\n",
    "articles_sample = articles[articles[\"article_id\"].isin(articles_sample_ids)]\n",
    "\n",
    "customers_sample.to_parquet(BASE_PATH + f'customers_sample_{sample}.parquet', index=False)\n",
    "transactions_sample.to_parquet(BASE_PATH + f'transactions_train_sample_{sample}.parquet', index=False)\n",
    "articles_sample.to_parquet(BASE_PATH + f'articles_train_sample_{sample}.parquet', index=False)"
   ]
  }
 ],
 "metadata": {
  "kernelspec": {
   "display_name": "Python 3 (ipykernel)",
   "language": "python",
   "name": "python3"
  },
  "language_info": {
   "codemirror_mode": {
    "name": "ipython",
    "version": 3
   },
   "file_extension": ".py",
   "mimetype": "text/x-python",
   "name": "python",
   "nbconvert_exporter": "python",
   "pygments_lexer": "ipython3",
   "version": "3.11.2"
  }
 },
 "nbformat": 4,
 "nbformat_minor": 5
}
