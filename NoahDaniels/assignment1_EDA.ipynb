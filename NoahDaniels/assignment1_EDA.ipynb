{
 "cells": [
  {
   "cell_type": "code",
   "execution_count": 2,
   "id": "cb0ae886-69d0-471e-adfe-8d04ba52be78",
   "metadata": {},
   "outputs": [],
   "source": [
    "import pandas as pd\n",
    "import numpy as np\n",
    "import seaborn as sns\n",
    "import matplotlib.pyplot as plt\n",
    "\n",
    "sns.set_theme()\n",
    "pd.set_option('display.max_columns', None)"
   ]
  },
  {
   "cell_type": "code",
   "execution_count": 3,
   "id": "6b60f3ba-a51e-4e59-af5c-6bc5d731a7a4",
   "metadata": {},
   "outputs": [],
   "source": [
    "BASE_PATH = '../../data/'\n",
    "customers = pd.read_csv(BASE_PATH + 'customers.csv')\n",
    "articles = pd.read_csv(BASE_PATH + 'articles.csv', dtype={\n",
    "    \"article_id\": str,\n",
    "    \"product_code\": str\n",
    "})\n",
    "transactions = pd.read_csv(BASE_PATH + 'transactions_train.csv', dtype={\n",
    "    \"article_id\": str,\n",
    "})\n",
    "submissions = pd.read_csv(BASE_PATH + 'sample_submission.csv')"
   ]
  },
  {
   "cell_type": "markdown",
   "id": "9decfa36-3aa7-408d-ae4a-8b87191ca309",
   "metadata": {},
   "source": [
    "# Utilities"
   ]
  },
  {
   "cell_type": "code",
   "execution_count": 3,
   "id": "e02c19fa-4c32-4e0c-9ac3-fa07b520a247",
   "metadata": {},
   "outputs": [],
   "source": [
    "def print_na(series):\n",
    "    \"\"\"\n",
    "    Prints the number of missing values (and a percentage) of a series\n",
    "    \"\"\"\n",
    "    na_count = series.isna().sum()\n",
    "    na_fraction = na_count / len(series)\n",
    "    print(f'missing values: {na_count} ({100*na_fraction:.2f}%)')\n",
    "\n",
    "\n",
    "def find_inconsistencies(df, key_column, related_column):\n",
    "    \"\"\"\n",
    "    Finds out if rows with the same key in the key column all have the same value in the related column\n",
    "    If all keys map to a unique value in the related column, None is returned\n",
    "    If some keys map to multiple values in the related column, the first key that does so together with all the unique values in the related column are returned\n",
    "    \n",
    "    Parameters\n",
    "    df: the dataframe on which the inconsistencies are searched\n",
    "    key_column: name of column in df\n",
    "    related_column: name of column in df\n",
    "\n",
    "    Returns: None or a tuple(key and list of values)\n",
    "    \"\"\"\n",
    "    \n",
    "    inconsistency = None\n",
    "    for key in df[key_column].unique():\n",
    "        related_values = df[related_column][df[key_column] == key]\n",
    "        if len(related_values.unique()) != 1:\n",
    "            inconsistency = (key, related_values.unique())\n",
    "            break\n",
    "    return inconsistency\n",
    "\n",
    "def print_inconsistencies(df, key_column, related_column):\n",
    "    \"\"\"\n",
    "    Prints the results of find_inconsistencies\n",
    "    \"\"\"\n",
    "    inconsistency = find_inconsistencies(df, key_column, related_column)\n",
    "    if inconsistency is None:\n",
    "        print(f'No inconsistencies from {key_column} -> {related_column}')\n",
    "    else:\n",
    "        print(f'At least one inconsistency from {key_column} -> {related_column}:')\n",
    "        print(f'\\t{inconsistency[0]:<20}{inconsistency[1]}')\n",
    "\n",
    "def get_pairs(key_series, related_series):\n",
    "    \"\"\"\n",
    "    Get mapping between two columns that are consistent\n",
    "    Where consistent means that rows with the same key always have the same value in a related column, for all keys\n",
    "    \n",
    "    Returns: dict mapping keys to their unique values\n",
    "    \"\"\"\n",
    "    results = {}\n",
    "    for key in key_series.unique():\n",
    "        related_values = related_series[key_series == key]\n",
    "        results[key] = related_values.unique()[0]\n",
    "    return results\n",
    "\n",
    "def find_missing(ids_A, ids_B):\n",
    "    \"\"\"\n",
    "    Finds which elements from iterable A are missing from iterable B and vice versa\n",
    "\n",
    "    Returns: a tuple with two elements\n",
    "    1) a list of elements in B that are missing from A and \n",
    "    2) a list of elements in A that are missing from B\n",
    "    \"\"\"\n",
    "    idset_A = set(ids_A)\n",
    "    idset_B = set(ids_B)\n",
    "    \n",
    "    missing_from_A = []\n",
    "    missing_from_B = []\n",
    "    \n",
    "    for id_A in ids_A:\n",
    "        if id_A not in idset_B:\n",
    "            missing_from_B.append(id_A)\n",
    "\n",
    "    for id_B in ids_B:\n",
    "        if id_B not in idset_A:\n",
    "            missing_from_A.append(id_B)\n",
    "\n",
    "    return missing_from_A, missing_from_B"
   ]
  },
  {
   "cell_type": "markdown",
   "id": "80bb3c4e-bb70-4509-8fe0-3daf8af17777",
   "metadata": {
    "jp-MarkdownHeadingCollapsed": true
   },
   "source": [
    "# Customers\n",
    "\n",
    "## Conclusions\n",
    "\n",
    "+ `customer_id` can be safely used\n",
    "    + no missing values, all unique and formatted consistently (64 hex digits)\n",
    "+ `FN` and `Active`\n",
    "    + only contain missing values (65%) or 1.0 (35%) -> interpret as boolean\n",
    "    + FN means the customer receives the \"fashion news\" newsletter\n",
    "    + Active means active for communication (newsletter, promotions, etc.)\n",
    "    + Active => FN\n",
    "+ `club_member_status`\n",
    "    + enum column with large majority of entries being 'ACTIVE'\n",
    "    + unrelated to `Active` column\n",
    "    + 0.5% missing values -> add new 'Unknown' value\n",
    "+ `fashion_news_frequency`\n",
    "    + enum column\n",
    "    + 1% missing -> add new 'Unknown' value\n",
    "    + related to FN and Active but not exactly\n",
    "+ `age`\n",
    "    + no impossible values\n",
    "    + between 16 and 99\n",
    "    + small fraction missing (1%)\n",
    "+ `postal_code` can be safely used\n",
    "    + no missing values, all unique and formatted consistently\n",
    "    + `2c29ae653a9282cce4151bd87643c907644e09541abc28ae87dea0d1f6603b1c` is overrepresented and likely signifies a missing value"
   ]
  },
  {
   "cell_type": "markdown",
   "id": "50a30967-240a-43ac-866b-f6bd0aec1845",
   "metadata": {
    "jp-MarkdownHeadingCollapsed": true
   },
   "source": [
    "## Validate"
   ]
  },
  {
   "cell_type": "code",
   "execution_count": 4,
   "id": "c37ae9a6-bd4b-46bf-988e-2c49f3fe08d8",
   "metadata": {},
   "outputs": [
    {
     "data": {
      "text/html": [
       "<div>\n",
       "<style scoped>\n",
       "    .dataframe tbody tr th:only-of-type {\n",
       "        vertical-align: middle;\n",
       "    }\n",
       "\n",
       "    .dataframe tbody tr th {\n",
       "        vertical-align: top;\n",
       "    }\n",
       "\n",
       "    .dataframe thead th {\n",
       "        text-align: right;\n",
       "    }\n",
       "</style>\n",
       "<table border=\"1\" class=\"dataframe\">\n",
       "  <thead>\n",
       "    <tr style=\"text-align: right;\">\n",
       "      <th></th>\n",
       "      <th>customer_id</th>\n",
       "      <th>FN</th>\n",
       "      <th>Active</th>\n",
       "      <th>club_member_status</th>\n",
       "      <th>fashion_news_frequency</th>\n",
       "      <th>age</th>\n",
       "      <th>postal_code</th>\n",
       "    </tr>\n",
       "  </thead>\n",
       "  <tbody>\n",
       "    <tr>\n",
       "      <th>0</th>\n",
       "      <td>00000dbacae5abe5e23885899a1fa44253a17956c6d1c3...</td>\n",
       "      <td>NaN</td>\n",
       "      <td>NaN</td>\n",
       "      <td>ACTIVE</td>\n",
       "      <td>NONE</td>\n",
       "      <td>49.0</td>\n",
       "      <td>52043ee2162cf5aa7ee79974281641c6f11a68d276429a...</td>\n",
       "    </tr>\n",
       "    <tr>\n",
       "      <th>1</th>\n",
       "      <td>0000423b00ade91418cceaf3b26c6af3dd342b51fd051e...</td>\n",
       "      <td>NaN</td>\n",
       "      <td>NaN</td>\n",
       "      <td>ACTIVE</td>\n",
       "      <td>NONE</td>\n",
       "      <td>25.0</td>\n",
       "      <td>2973abc54daa8a5f8ccfe9362140c63247c5eee03f1d93...</td>\n",
       "    </tr>\n",
       "    <tr>\n",
       "      <th>2</th>\n",
       "      <td>000058a12d5b43e67d225668fa1f8d618c13dc232df0ca...</td>\n",
       "      <td>NaN</td>\n",
       "      <td>NaN</td>\n",
       "      <td>ACTIVE</td>\n",
       "      <td>NONE</td>\n",
       "      <td>24.0</td>\n",
       "      <td>64f17e6a330a85798e4998f62d0930d14db8db1c054af6...</td>\n",
       "    </tr>\n",
       "    <tr>\n",
       "      <th>3</th>\n",
       "      <td>00005ca1c9ed5f5146b52ac8639a40ca9d57aeff4d1bd2...</td>\n",
       "      <td>NaN</td>\n",
       "      <td>NaN</td>\n",
       "      <td>ACTIVE</td>\n",
       "      <td>NONE</td>\n",
       "      <td>54.0</td>\n",
       "      <td>5d36574f52495e81f019b680c843c443bd343d5ca5b1c2...</td>\n",
       "    </tr>\n",
       "    <tr>\n",
       "      <th>4</th>\n",
       "      <td>00006413d8573cd20ed7128e53b7b13819fe5cfc2d801f...</td>\n",
       "      <td>1.0</td>\n",
       "      <td>1.0</td>\n",
       "      <td>ACTIVE</td>\n",
       "      <td>Regularly</td>\n",
       "      <td>52.0</td>\n",
       "      <td>25fa5ddee9aac01b35208d01736e57942317d756b32ddd...</td>\n",
       "    </tr>\n",
       "  </tbody>\n",
       "</table>\n",
       "</div>"
      ],
      "text/plain": [
       "                                         customer_id   FN  Active  \\\n",
       "0  00000dbacae5abe5e23885899a1fa44253a17956c6d1c3...  NaN     NaN   \n",
       "1  0000423b00ade91418cceaf3b26c6af3dd342b51fd051e...  NaN     NaN   \n",
       "2  000058a12d5b43e67d225668fa1f8d618c13dc232df0ca...  NaN     NaN   \n",
       "3  00005ca1c9ed5f5146b52ac8639a40ca9d57aeff4d1bd2...  NaN     NaN   \n",
       "4  00006413d8573cd20ed7128e53b7b13819fe5cfc2d801f...  1.0     1.0   \n",
       "\n",
       "  club_member_status fashion_news_frequency   age  \\\n",
       "0             ACTIVE                   NONE  49.0   \n",
       "1             ACTIVE                   NONE  25.0   \n",
       "2             ACTIVE                   NONE  24.0   \n",
       "3             ACTIVE                   NONE  54.0   \n",
       "4             ACTIVE              Regularly  52.0   \n",
       "\n",
       "                                         postal_code  \n",
       "0  52043ee2162cf5aa7ee79974281641c6f11a68d276429a...  \n",
       "1  2973abc54daa8a5f8ccfe9362140c63247c5eee03f1d93...  \n",
       "2  64f17e6a330a85798e4998f62d0930d14db8db1c054af6...  \n",
       "3  5d36574f52495e81f019b680c843c443bd343d5ca5b1c2...  \n",
       "4  25fa5ddee9aac01b35208d01736e57942317d756b32ddd...  "
      ]
     },
     "execution_count": 4,
     "metadata": {},
     "output_type": "execute_result"
    }
   ],
   "source": [
    "customers.head()"
   ]
  },
  {
   "cell_type": "code",
   "execution_count": 5,
   "id": "357ab796-0bb5-4733-bf23-33fe329cc66f",
   "metadata": {},
   "outputs": [
    {
     "name": "stdout",
     "output_type": "stream",
     "text": [
      "customer count: 1371980\n",
      "unique customer ids: 1371980\n",
      "customer ids with 64 hex ditis: 1371980\n",
      "missing values: 0 (0.00%)\n"
     ]
    }
   ],
   "source": [
    "# ids are unique, never missing and formatted correctly\n",
    "print(f'customer count: {len(customers)}')\n",
    "print(f'unique customer ids: {len(customers.customer_id.unique())}')\n",
    "print(f'customer ids with 64 hex ditis: {customers.customer_id.str.match(\"[a-f0-9]{64}\").sum()}')\n",
    "print_na(customers.customer_id)"
   ]
  },
  {
   "cell_type": "code",
   "execution_count": 6,
   "id": "bf14e10b-91cd-4004-80de-d0a96194436c",
   "metadata": {},
   "outputs": [
    {
     "name": "stdout",
     "output_type": "stream",
     "text": [
      "FN\n",
      "1.0    476930\n",
      "Name: count, dtype: int64\n",
      "fraction FN==1: 34.76%\n",
      "missing values: 895050 (65.24%)\n"
     ]
    }
   ],
   "source": [
    "# FN is either 1 (~35%) or missing (~65%)\n",
    "# -> FN is probably supposed to be a boolean field with missing values being false\n",
    "print(customers.FN.value_counts())\n",
    "print(f'fraction FN==1: {100*len(customers[customers.FN == 1.0]) / len(customers):.2f}%')\n",
    "print_na(customers.FN)"
   ]
  },
  {
   "cell_type": "code",
   "execution_count": 7,
   "id": "2a7af9ff-f089-455f-9c52-98a53baf3d9e",
   "metadata": {},
   "outputs": [
    {
     "name": "stdout",
     "output_type": "stream",
     "text": [
      "Active\n",
      "1.0    464404\n",
      "Name: count, dtype: int64\n",
      "fraction FN==1: 33.85%\n",
      "missing values: 907576 (66.15%)\n"
     ]
    }
   ],
   "source": [
    "# Active is either 1.0 or missing, in about same ratio as FN\n",
    "# -> missing likely means inactive\n",
    "print(customers.Active.value_counts())\n",
    "print(f'fraction FN==1: {100*len(customers[customers.Active == 1.0]) / len(customers):.2f}%')\n",
    "print_na(customers.Active)"
   ]
  },
  {
   "cell_type": "code",
   "execution_count": 8,
   "id": "dcf2e34a-b319-4861-89a5-e86e2e0faf8b",
   "metadata": {},
   "outputs": [
    {
     "name": "stdout",
     "output_type": "stream",
     "text": [
      "club_member_status\n",
      "ACTIVE        1272491\n",
      "PRE-CREATE      92960\n",
      "LEFT CLUB         467\n",
      "Name: count, dtype: int64\n",
      "missing values: 6062 (0.44%)\n"
     ]
    }
   ],
   "source": [
    "# club_member_status is either ACTIVE, PRE_CREATE or LEFT_CLUB\n",
    "# 6062 (~0.45%) missing values\n",
    "print(customers.club_member_status.value_counts())\n",
    "print_na(customers.club_member_status)"
   ]
  },
  {
   "cell_type": "code",
   "execution_count": 9,
   "id": "45c2558f-e5f8-4929-96df-52f3621a0283",
   "metadata": {},
   "outputs": [
    {
     "name": "stdout",
     "output_type": "stream",
     "text": [
      "fashion_news_frequency\n",
      "NONE         877711\n",
      "Regularly    477416\n",
      "Monthly         842\n",
      "Name: count, dtype: int64\n",
      "missing values: 16011 (1.17%)\n"
     ]
    }
   ],
   "source": [
    "# fashion news frequency is missing for ~1.2% of customers\n",
    "print(customers.fashion_news_frequency.value_counts())\n",
    "print_na(customers.fashion_news_frequency)"
   ]
  },
  {
   "cell_type": "code",
   "execution_count": 10,
   "id": "d8b9daf2-c9fe-4eef-a7a6-01a74aa7da07",
   "metadata": {},
   "outputs": [
    {
     "name": "stdout",
     "output_type": "stream",
     "text": [
      "count    1.356119e+06\n",
      "mean     3.638696e+01\n",
      "std      1.431363e+01\n",
      "min      1.600000e+01\n",
      "25%      2.400000e+01\n",
      "50%      3.200000e+01\n",
      "75%      4.900000e+01\n",
      "max      9.900000e+01\n",
      "Name: age, dtype: float64\n",
      "missing values: 15861 (1.16%)\n"
     ]
    }
   ],
   "source": [
    "# ages range between 16 and 99, no impossible values\n",
    "# 1.2% of customers have no recorded age\n",
    "print(customers.age.describe())\n",
    "print_na(customers.age)"
   ]
  },
  {
   "cell_type": "code",
   "execution_count": 11,
   "id": "bb145f5f-c3b7-4da5-b69c-02356d665959",
   "metadata": {},
   "outputs": [
    {
     "name": "stdout",
     "output_type": "stream",
     "text": [
      "missing values: 0 (0.00%)\n",
      "64 hex ditis: 1371980/1371980\n",
      "fraction top: 8.8%\n",
      "postal_code\n",
      "2c29ae653a9282cce4151bd87643c907644e09541abc28ae87dea0d1f6603b1c    120303\n",
      "cc4ed85e30f4977dae47662ddc468cd2eec11472de6fac5ec985080fd92243c8       261\n",
      "714976379549eb90aae4a71bca6c7402cc646ae7c40f6c1cb91d4b5a18623fc1       159\n",
      "7c1fa3b0ec1d37ce2c3f34f63bd792f3b4494f324b6be5d1e4ba6a75456b96a7       157\n",
      "5b7eb31eabebd3277de632b82267286d847fd5d44287ee150bb4206b48439145       156\n",
      "                                                                     ...  \n",
      "16dd7e391f305b54c01ffed87c189e33de83158d0a808d1b346222703742f638         1\n",
      "5ce1c699380b3c13655347c9636043f5e64ec2538a1ee7d42dd253a584577630         1\n",
      "afdedc642d01efeefec6fc8d3394724a71888ebd0ff0311eff6f34946589479d         1\n",
      "4c8838d278d23029c920b9684fa4cf30a532428a445afb300eeb288685cf00e1         1\n",
      "0a1a03306fb2f62164c2a439b38c0caa64b40deaae868799ccb93ac69444b79d         1\n",
      "Name: count, Length: 352899, dtype: int64\n"
     ]
    }
   ],
   "source": [
    "# postal codes have no missing values\n",
    "# all postal code are 64 character long hex strings\n",
    "# top postal code is far more common than second most common postcode\n",
    "# -> could be hashed null value?\n",
    "vc = customers.postal_code.value_counts()\n",
    "\n",
    "print_na(customers.postal_code)\n",
    "print(f'64 hex ditis: {customers.postal_code.str.match(\"[a-f0-9]{64}\").sum()}/{len(customers.postal_code)}')\n",
    "print(f'fraction top: {vc.iloc[0] / len(customers):.1%}')\n",
    "print(vc)"
   ]
  },
  {
   "cell_type": "markdown",
   "id": "067bbbab-c2ec-4b95-9376-f0673db9c76e",
   "metadata": {
    "jp-MarkdownHeadingCollapsed": true
   },
   "source": [
    "## Explore"
   ]
  },
  {
   "cell_type": "code",
   "execution_count": 12,
   "id": "1c4ab367-7000-43c2-8a47-921c97847b18",
   "metadata": {},
   "outputs": [
    {
     "name": "stdout",
     "output_type": "stream",
     "text": [
      "Active\n",
      "1.0    1175\n",
      "Name: count, dtype: int64\n",
      "club_member_status\n",
      "PRE-CREATE    7336\n",
      "ACTIVE        6236\n",
      "LEFT CLUB        3\n",
      "Name: count, dtype: int64\n",
      "fashion_news_frequency\n",
      "NONE         12441\n",
      "Regularly     1205\n",
      "Monthly          1\n",
      "Name: count, dtype: int64\n",
      "postal_code\n",
      "2c29ae653a9282cce4151bd87643c907644e09541abc28ae87dea0d1f6603b1c    2301\n",
      "7954175a5ef0ac2cfad30acf81e339dd15c08a104293426a92cb679f5c135314       7\n",
      "28ec696f0cce3d5205abb10fb49d7c3bea005319b98967480edd2b9486fcb48b       4\n",
      "de68b9b15aef6d8f37989ec80618c365be47461cdae0ab3d8b02a3e24813e59a       4\n",
      "166b13f5055d907905b47193a4a4bbfe5f60fc627ad7307c60e5dbe5c71ae851       4\n",
      "                                                                    ... \n",
      "a9b80465e53874bf2340bdabbccb3c188d2c23a0fa9b84c8017e955e3af41dd6       1\n",
      "771454295110b6191b0b3f7f2a4e2693cd5f9c6ce50de330a335ac711936d255       1\n",
      "aae345efb458b9bf16ec2e522ddb54bb13accacd4fedb75362a02ecec83bc77b       1\n",
      "c8230be51c854928b9933f650e20bcc062b28acaed740f75e4b6acefe971e1d8       1\n",
      "0bc235f16dc6b7ee1520e04191396c068898565153b41398719c3c57ab196cc1       1\n",
      "Name: count, Length: 13109, dtype: int64\n"
     ]
    }
   ],
   "source": [
    "# custommers with missing age don't have anything in common\n",
    "na_age = customers[customers.age.isna()]\n",
    "print(na_age.Active.value_counts())\n",
    "print(na_age.club_member_status.value_counts())\n",
    "print(na_age.fashion_news_frequency.value_counts())\n",
    "print(na_age.postal_code.value_counts())"
   ]
  },
  {
   "cell_type": "code",
   "execution_count": 13,
   "id": "2f2e5b77-29a4-4eed-a5c1-1df2096d67b2",
   "metadata": {},
   "outputs": [
    {
     "data": {
      "text/plain": [
       "club_member_status\n",
       "ACTIVE        458452\n",
       "PRE-CREATE      5631\n",
       "LEFT CLUB          3\n",
       "Name: count, dtype: int64"
      ]
     },
     "execution_count": 13,
     "metadata": {},
     "output_type": "execute_result"
    }
   ],
   "source": [
    "# Active fields has nothing to do with club_member status being 'ACTIVE'\n",
    "customers[customers.Active == 1].club_member_status.value_counts()"
   ]
  },
  {
   "cell_type": "code",
   "execution_count": 14,
   "id": "8090ca44-e83a-4f58-81be-e892e96ae6d7",
   "metadata": {},
   "outputs": [
    {
     "name": "stdout",
     "output_type": "stream",
     "text": [
      "P(FN | Active): 464404/464404 (100.0%)\n",
      "P(Active | FN): 464404/476930 (97.4%)\n"
     ]
    }
   ],
   "source": [
    "# all Active==1 custommers also have FN==1\n",
    "# for 12525 (~2.6%) of FN==1, active is missing\n",
    "\n",
    "active_customers_count = len(customers[customers.Active == 1])\n",
    "fn_customers_count = len(customers[customers.FN == 1])\n",
    "val1 = len(customers[(customers.Active == 1) & (customers.FN == 1)])\n",
    "\n",
    "print(f'P(FN | Active): {val1}/{active_customers_count} ({val1/active_customers_count:.1%})')\n",
    "print(f'P(Active | FN): {val1}/{fn_customers_count} ({val1/fn_customers_count:.1%})')"
   ]
  },
  {
   "cell_type": "code",
   "execution_count": 15,
   "id": "4a4e3645-af54-4d67-b1a7-8f6d592dc621",
   "metadata": {},
   "outputs": [
    {
     "name": "stdout",
     "output_type": "stream",
     "text": [
      "fashion_news_frequency\n",
      "Regularly    475310\n",
      "Monthly         829\n",
      "NONE            789\n",
      "NaN               2\n",
      "Name: count, dtype: int64\n",
      "fashion_news_frequency\n",
      "Regularly    463106\n",
      "Monthly         798\n",
      "NONE            499\n",
      "NaN               1\n",
      "Name: count, dtype: int64\n"
     ]
    }
   ],
   "source": [
    "# no direct implication from Active or FN to fashion_news_frequency\n",
    "print(customers[customers.FN==1].fashion_news_frequency.value_counts(dropna=False))\n",
    "print(customers[customers.Active==1].fashion_news_frequency.value_counts(dropna=False))"
   ]
  },
  {
   "cell_type": "markdown",
   "id": "5f244463-0399-4df7-bdb1-fabb116ecb7b",
   "metadata": {},
   "source": [
    "# Articles\n",
    "\n",
    "## Conclusions\n",
    "\n",
    "+ `article_id` can be safely used\n",
    "    + no missing values, all unique and formatted consistently (10 numbers)\n",
    "    + note to use as string instead of number because of leading zero\n",
    "+ no missing values in any column except `detail_desc`\n",
    "    + some columns do contain pseudo missing values (such as an 'Unknown' category)\n",
    "    + product_type_no, graphical_appearance_no, colour_group_code, perceived_colour_value_id, perceived_colour_master_id, and garment_group_no have these\n",
    "+ `detail_desc`\n",
    "    + < 0.5% missing values\n",
    "        + probably okay to replace with empty string\n",
    "        + alternative is to populate with value from other column (such as product_type_name) because no values are missing in those\n",
    "    + filled in values are at least 10 characters\n",
    "+ most `X_no/code/id` columns map uniquely to their respective `X_name` columns (i.e. same id implies same name)\n",
    "    + exception: product_code\n",
    "    + for most it is a one-to-one relationship (i.e. id  implies name and vice versa)\n",
    "    + for X=`product_type`, `department`, and `section` it is a many-to-one relationship\n",
    "        + (e.g. product_type_name 'Umbrella' is used for product_type_no 532 AND 83\n",
    "    + best to use no/code/id everywhere\n",
    "+ `product_code` doesn't map to any column\n",
    "+ `product_type_no` maps to `product_type_group_name` (belongs-to relationship)\n",
    "+ `index_code` maps to `index_group_no` (belongs-to relationship)"
   ]
  },
  {
   "cell_type": "markdown",
   "id": "9b53a60a-a489-427f-b059-99d5d9c18bb9",
   "metadata": {
    "jp-MarkdownHeadingCollapsed": true
   },
   "source": [
    "## Validate"
   ]
  },
  {
   "cell_type": "code",
   "execution_count": 16,
   "id": "414954e3-64a5-4d48-9312-af24c10f0a60",
   "metadata": {},
   "outputs": [
    {
     "data": {
      "text/html": [
       "<div>\n",
       "<style scoped>\n",
       "    .dataframe tbody tr th:only-of-type {\n",
       "        vertical-align: middle;\n",
       "    }\n",
       "\n",
       "    .dataframe tbody tr th {\n",
       "        vertical-align: top;\n",
       "    }\n",
       "\n",
       "    .dataframe thead th {\n",
       "        text-align: right;\n",
       "    }\n",
       "</style>\n",
       "<table border=\"1\" class=\"dataframe\">\n",
       "  <thead>\n",
       "    <tr style=\"text-align: right;\">\n",
       "      <th></th>\n",
       "      <th>article_id</th>\n",
       "      <th>product_code</th>\n",
       "      <th>prod_name</th>\n",
       "      <th>product_type_no</th>\n",
       "      <th>product_type_name</th>\n",
       "      <th>product_group_name</th>\n",
       "      <th>graphical_appearance_no</th>\n",
       "      <th>graphical_appearance_name</th>\n",
       "      <th>colour_group_code</th>\n",
       "      <th>colour_group_name</th>\n",
       "      <th>perceived_colour_value_id</th>\n",
       "      <th>perceived_colour_value_name</th>\n",
       "      <th>perceived_colour_master_id</th>\n",
       "      <th>perceived_colour_master_name</th>\n",
       "      <th>department_no</th>\n",
       "      <th>department_name</th>\n",
       "      <th>index_code</th>\n",
       "      <th>index_name</th>\n",
       "      <th>index_group_no</th>\n",
       "      <th>index_group_name</th>\n",
       "      <th>section_no</th>\n",
       "      <th>section_name</th>\n",
       "      <th>garment_group_no</th>\n",
       "      <th>garment_group_name</th>\n",
       "      <th>detail_desc</th>\n",
       "    </tr>\n",
       "  </thead>\n",
       "  <tbody>\n",
       "    <tr>\n",
       "      <th>0</th>\n",
       "      <td>0108775015</td>\n",
       "      <td>0108775</td>\n",
       "      <td>Strap top</td>\n",
       "      <td>253</td>\n",
       "      <td>Vest top</td>\n",
       "      <td>Garment Upper body</td>\n",
       "      <td>1010016</td>\n",
       "      <td>Solid</td>\n",
       "      <td>9</td>\n",
       "      <td>Black</td>\n",
       "      <td>4</td>\n",
       "      <td>Dark</td>\n",
       "      <td>5</td>\n",
       "      <td>Black</td>\n",
       "      <td>1676</td>\n",
       "      <td>Jersey Basic</td>\n",
       "      <td>A</td>\n",
       "      <td>Ladieswear</td>\n",
       "      <td>1</td>\n",
       "      <td>Ladieswear</td>\n",
       "      <td>16</td>\n",
       "      <td>Womens Everyday Basics</td>\n",
       "      <td>1002</td>\n",
       "      <td>Jersey Basic</td>\n",
       "      <td>Jersey top with narrow shoulder straps.</td>\n",
       "    </tr>\n",
       "    <tr>\n",
       "      <th>1</th>\n",
       "      <td>0108775044</td>\n",
       "      <td>0108775</td>\n",
       "      <td>Strap top</td>\n",
       "      <td>253</td>\n",
       "      <td>Vest top</td>\n",
       "      <td>Garment Upper body</td>\n",
       "      <td>1010016</td>\n",
       "      <td>Solid</td>\n",
       "      <td>10</td>\n",
       "      <td>White</td>\n",
       "      <td>3</td>\n",
       "      <td>Light</td>\n",
       "      <td>9</td>\n",
       "      <td>White</td>\n",
       "      <td>1676</td>\n",
       "      <td>Jersey Basic</td>\n",
       "      <td>A</td>\n",
       "      <td>Ladieswear</td>\n",
       "      <td>1</td>\n",
       "      <td>Ladieswear</td>\n",
       "      <td>16</td>\n",
       "      <td>Womens Everyday Basics</td>\n",
       "      <td>1002</td>\n",
       "      <td>Jersey Basic</td>\n",
       "      <td>Jersey top with narrow shoulder straps.</td>\n",
       "    </tr>\n",
       "    <tr>\n",
       "      <th>2</th>\n",
       "      <td>0108775051</td>\n",
       "      <td>0108775</td>\n",
       "      <td>Strap top (1)</td>\n",
       "      <td>253</td>\n",
       "      <td>Vest top</td>\n",
       "      <td>Garment Upper body</td>\n",
       "      <td>1010017</td>\n",
       "      <td>Stripe</td>\n",
       "      <td>11</td>\n",
       "      <td>Off White</td>\n",
       "      <td>1</td>\n",
       "      <td>Dusty Light</td>\n",
       "      <td>9</td>\n",
       "      <td>White</td>\n",
       "      <td>1676</td>\n",
       "      <td>Jersey Basic</td>\n",
       "      <td>A</td>\n",
       "      <td>Ladieswear</td>\n",
       "      <td>1</td>\n",
       "      <td>Ladieswear</td>\n",
       "      <td>16</td>\n",
       "      <td>Womens Everyday Basics</td>\n",
       "      <td>1002</td>\n",
       "      <td>Jersey Basic</td>\n",
       "      <td>Jersey top with narrow shoulder straps.</td>\n",
       "    </tr>\n",
       "    <tr>\n",
       "      <th>3</th>\n",
       "      <td>0110065001</td>\n",
       "      <td>0110065</td>\n",
       "      <td>OP T-shirt (Idro)</td>\n",
       "      <td>306</td>\n",
       "      <td>Bra</td>\n",
       "      <td>Underwear</td>\n",
       "      <td>1010016</td>\n",
       "      <td>Solid</td>\n",
       "      <td>9</td>\n",
       "      <td>Black</td>\n",
       "      <td>4</td>\n",
       "      <td>Dark</td>\n",
       "      <td>5</td>\n",
       "      <td>Black</td>\n",
       "      <td>1339</td>\n",
       "      <td>Clean Lingerie</td>\n",
       "      <td>B</td>\n",
       "      <td>Lingeries/Tights</td>\n",
       "      <td>1</td>\n",
       "      <td>Ladieswear</td>\n",
       "      <td>61</td>\n",
       "      <td>Womens Lingerie</td>\n",
       "      <td>1017</td>\n",
       "      <td>Under-, Nightwear</td>\n",
       "      <td>Microfibre T-shirt bra with underwired, moulde...</td>\n",
       "    </tr>\n",
       "    <tr>\n",
       "      <th>4</th>\n",
       "      <td>0110065002</td>\n",
       "      <td>0110065</td>\n",
       "      <td>OP T-shirt (Idro)</td>\n",
       "      <td>306</td>\n",
       "      <td>Bra</td>\n",
       "      <td>Underwear</td>\n",
       "      <td>1010016</td>\n",
       "      <td>Solid</td>\n",
       "      <td>10</td>\n",
       "      <td>White</td>\n",
       "      <td>3</td>\n",
       "      <td>Light</td>\n",
       "      <td>9</td>\n",
       "      <td>White</td>\n",
       "      <td>1339</td>\n",
       "      <td>Clean Lingerie</td>\n",
       "      <td>B</td>\n",
       "      <td>Lingeries/Tights</td>\n",
       "      <td>1</td>\n",
       "      <td>Ladieswear</td>\n",
       "      <td>61</td>\n",
       "      <td>Womens Lingerie</td>\n",
       "      <td>1017</td>\n",
       "      <td>Under-, Nightwear</td>\n",
       "      <td>Microfibre T-shirt bra with underwired, moulde...</td>\n",
       "    </tr>\n",
       "  </tbody>\n",
       "</table>\n",
       "</div>"
      ],
      "text/plain": [
       "   article_id product_code          prod_name  product_type_no  \\\n",
       "0  0108775015      0108775          Strap top              253   \n",
       "1  0108775044      0108775          Strap top              253   \n",
       "2  0108775051      0108775      Strap top (1)              253   \n",
       "3  0110065001      0110065  OP T-shirt (Idro)              306   \n",
       "4  0110065002      0110065  OP T-shirt (Idro)              306   \n",
       "\n",
       "  product_type_name  product_group_name  graphical_appearance_no  \\\n",
       "0          Vest top  Garment Upper body                  1010016   \n",
       "1          Vest top  Garment Upper body                  1010016   \n",
       "2          Vest top  Garment Upper body                  1010017   \n",
       "3               Bra           Underwear                  1010016   \n",
       "4               Bra           Underwear                  1010016   \n",
       "\n",
       "  graphical_appearance_name  colour_group_code colour_group_name  \\\n",
       "0                     Solid                  9             Black   \n",
       "1                     Solid                 10             White   \n",
       "2                    Stripe                 11         Off White   \n",
       "3                     Solid                  9             Black   \n",
       "4                     Solid                 10             White   \n",
       "\n",
       "   perceived_colour_value_id perceived_colour_value_name  \\\n",
       "0                          4                        Dark   \n",
       "1                          3                       Light   \n",
       "2                          1                 Dusty Light   \n",
       "3                          4                        Dark   \n",
       "4                          3                       Light   \n",
       "\n",
       "   perceived_colour_master_id perceived_colour_master_name  department_no  \\\n",
       "0                           5                        Black           1676   \n",
       "1                           9                        White           1676   \n",
       "2                           9                        White           1676   \n",
       "3                           5                        Black           1339   \n",
       "4                           9                        White           1339   \n",
       "\n",
       "  department_name index_code        index_name  index_group_no  \\\n",
       "0    Jersey Basic          A        Ladieswear               1   \n",
       "1    Jersey Basic          A        Ladieswear               1   \n",
       "2    Jersey Basic          A        Ladieswear               1   \n",
       "3  Clean Lingerie          B  Lingeries/Tights               1   \n",
       "4  Clean Lingerie          B  Lingeries/Tights               1   \n",
       "\n",
       "  index_group_name  section_no            section_name  garment_group_no  \\\n",
       "0       Ladieswear          16  Womens Everyday Basics              1002   \n",
       "1       Ladieswear          16  Womens Everyday Basics              1002   \n",
       "2       Ladieswear          16  Womens Everyday Basics              1002   \n",
       "3       Ladieswear          61         Womens Lingerie              1017   \n",
       "4       Ladieswear          61         Womens Lingerie              1017   \n",
       "\n",
       "  garment_group_name                                        detail_desc  \n",
       "0       Jersey Basic            Jersey top with narrow shoulder straps.  \n",
       "1       Jersey Basic            Jersey top with narrow shoulder straps.  \n",
       "2       Jersey Basic            Jersey top with narrow shoulder straps.  \n",
       "3  Under-, Nightwear  Microfibre T-shirt bra with underwired, moulde...  \n",
       "4  Under-, Nightwear  Microfibre T-shirt bra with underwired, moulde...  "
      ]
     },
     "execution_count": 16,
     "metadata": {},
     "output_type": "execute_result"
    }
   ],
   "source": [
    "articles.head()"
   ]
  },
  {
   "cell_type": "code",
   "execution_count": 17,
   "id": "12759963-0d10-45bc-a5d6-1fd45c107d37",
   "metadata": {},
   "outputs": [
    {
     "name": "stdout",
     "output_type": "stream",
     "text": [
      "article count: 105542\n",
      "unique article ids: 105542\n",
      "article ids that are 10 numbers: 105542\n",
      "missing values: 0 (0.00%)\n"
     ]
    }
   ],
   "source": [
    "print(f'article count: {len(articles)}')\n",
    "print(f'unique article ids: {len(articles.article_id.unique())}')\n",
    "print(f'article ids that are 10 numbers: {articles.article_id.str.match(\"[0-9]{10}\").sum()}')\n",
    "print_na(customers.customer_id)"
   ]
  },
  {
   "cell_type": "code",
   "execution_count": 18,
   "id": "2c87d8cb-6bbd-4e61-a2ea-6dfca48727a5",
   "metadata": {},
   "outputs": [
    {
     "name": "stdout",
     "output_type": "stream",
     "text": [
      "article_id               \tmissing values: 0 (0.00%)\n",
      "product_code             \tmissing values: 0 (0.00%)\n",
      "prod_name                \tmissing values: 0 (0.00%)\n",
      "product_type_no          \tmissing values: 0 (0.00%)\n",
      "product_type_name        \tmissing values: 0 (0.00%)\n",
      "product_group_name       \tmissing values: 0 (0.00%)\n",
      "graphical_appearance_no  \tmissing values: 0 (0.00%)\n",
      "graphical_appearance_name\tmissing values: 0 (0.00%)\n",
      "colour_group_code        \tmissing values: 0 (0.00%)\n",
      "colour_group_name        \tmissing values: 0 (0.00%)\n",
      "perceived_colour_value_id\tmissing values: 0 (0.00%)\n",
      "perceived_colour_value_name\tmissing values: 0 (0.00%)\n",
      "perceived_colour_master_id\tmissing values: 0 (0.00%)\n",
      "perceived_colour_master_name\tmissing values: 0 (0.00%)\n",
      "department_no            \tmissing values: 0 (0.00%)\n",
      "department_name          \tmissing values: 0 (0.00%)\n",
      "index_code               \tmissing values: 0 (0.00%)\n",
      "index_name               \tmissing values: 0 (0.00%)\n",
      "index_group_no           \tmissing values: 0 (0.00%)\n",
      "index_group_name         \tmissing values: 0 (0.00%)\n",
      "section_no               \tmissing values: 0 (0.00%)\n",
      "section_name             \tmissing values: 0 (0.00%)\n",
      "garment_group_no         \tmissing values: 0 (0.00%)\n",
      "garment_group_name       \tmissing values: 0 (0.00%)\n",
      "detail_desc              \tmissing values: 416 (0.39%)\n"
     ]
    }
   ],
   "source": [
    "# no columns have missing values except 'detail_desc' which has below 0.5% missing values\n",
    "for k in articles.keys():\n",
    "    print(f'{k:25}', end=\"\\t\")\n",
    "    print_na(articles[k])"
   ]
  },
  {
   "cell_type": "code",
   "execution_count": 19,
   "id": "161ab97b-c921-4317-ae59-8902c108ee19",
   "metadata": {},
   "outputs": [
    {
     "data": {
      "text/plain": [
       "0"
      ]
     },
     "execution_count": 19,
     "metadata": {},
     "output_type": "execute_result"
    }
   ],
   "source": [
    "# detail_desc contains at least 11 characters\n",
    "articles.detail_desc.map(lambda s: len(s) < 11, na_action='ignore').sum()"
   ]
  },
  {
   "cell_type": "code",
   "execution_count": 20,
   "id": "a3988620-5080-45ac-8040-5d7d8a94f162",
   "metadata": {},
   "outputs": [
    {
     "name": "stdout",
     "output_type": "stream",
     "text": [
      "\n",
      "X_no/code/id -> X_name\n",
      "At least one inconsistency from product_code -> prod_name:\n",
      "\t0108775             ['Strap top' 'Strap top (1)']\n",
      "No inconsistencies from product_type_no -> product_type_name\n",
      "No inconsistencies from graphical_appearance_no -> graphical_appearance_name\n",
      "No inconsistencies from colour_group_code -> colour_group_name\n",
      "No inconsistencies from perceived_colour_value_id -> perceived_colour_value_name\n",
      "No inconsistencies from perceived_colour_master_id -> perceived_colour_master_name\n",
      "No inconsistencies from department_no -> department_name\n",
      "No inconsistencies from index_code -> index_name\n",
      "No inconsistencies from index_group_no -> index_group_name\n",
      "No inconsistencies from section_no -> section_name\n",
      "No inconsistencies from garment_group_no -> garment_group_name\n",
      "\n",
      "X_name -> X_no/code/id\n",
      "At least one inconsistency from prod_name -> product_code:\n",
      "\t6P SS BODY          ['0147339' '0634036']\n",
      "At least one inconsistency from product_type_name -> product_type_no:\n",
      "\tUmbrella            [532  83]\n",
      "No inconsistencies from graphical_appearance_name -> graphical_appearance_no\n",
      "No inconsistencies from colour_group_name -> colour_group_code\n",
      "No inconsistencies from perceived_colour_value_name -> perceived_colour_value_id\n",
      "No inconsistencies from perceived_colour_master_name -> perceived_colour_master_id\n",
      "At least one inconsistency from department_name -> department_no:\n",
      "\tJersey Basic        [1676 5883]\n",
      "No inconsistencies from index_name -> index_code\n",
      "No inconsistencies from index_group_name -> index_group_no\n",
      "At least one inconsistency from section_name -> section_no:\n",
      "\tLadies Other        [ 4 17]\n",
      "No inconsistencies from garment_group_name -> garment_group_no\n",
      "\n",
      "Extra\n",
      "No inconsistencies from product_type_no -> product_group_name\n",
      "At least one inconsistency from product_group_name -> product_type_no:\n",
      "\tGarment Upper body  [253 252 254 256 308 255 259 245 264 262 263 257 260 258 261]\n",
      "No inconsistencies from index_code -> index_group_no\n",
      "At least one inconsistency from index_group_no -> index_code:\n",
      "\t1                   ['A' 'B' 'C']\n",
      "At least one inconsistency from colour_group_code -> perceived_colour_value_id:\n",
      "\t10                  [3 1 5]\n",
      "\n",
      "Product code\n",
      "At least one inconsistency from product_code -> product_type_no:\n",
      "\t0111565             [304 302]\n",
      "At least one inconsistency from product_code -> graphical_appearance_no:\n",
      "\t0108775             [1010016 1010017]\n",
      "At least one inconsistency from product_code -> colour_group_code:\n",
      "\t0108775             [ 9 10 11]\n",
      "At least one inconsistency from product_code -> perceived_colour_value_id:\n",
      "\t0108775             [4 3 1]\n",
      "At least one inconsistency from product_code -> perceived_colour_master_id:\n",
      "\t0108775             [5 9]\n",
      "At least one inconsistency from product_code -> department_no:\n",
      "\t0126589             [4342 4343]\n",
      "At least one inconsistency from product_code -> index_code:\n",
      "\t0301656             ['D' 'A']\n",
      "At least one inconsistency from product_code -> index_group_no:\n",
      "\t0301656             [2 1]\n",
      "At least one inconsistency from product_code -> section_no:\n",
      "\t0349301             [64 52]\n",
      "At least one inconsistency from product_code -> garment_group_no:\n",
      "\t0241412             [1005 1009]\n"
     ]
    }
   ],
   "source": [
    "# no/code/id -> name\n",
    "print('\\nX_no/code/id -> X_name')\n",
    "print_inconsistencies(articles, 'product_code', 'prod_name')\n",
    "print_inconsistencies(articles, 'product_type_no', 'product_type_name')\n",
    "print_inconsistencies(articles, 'graphical_appearance_no', 'graphical_appearance_name')\n",
    "print_inconsistencies(articles, 'colour_group_code', 'colour_group_name')\n",
    "print_inconsistencies(articles, 'perceived_colour_value_id', 'perceived_colour_value_name')\n",
    "print_inconsistencies(articles, 'perceived_colour_master_id', 'perceived_colour_master_name')\n",
    "print_inconsistencies(articles, 'department_no', 'department_name')\n",
    "print_inconsistencies(articles, 'index_code', 'index_name')\n",
    "print_inconsistencies(articles, 'index_group_no', 'index_group_name')\n",
    "print_inconsistencies(articles, 'section_no', 'section_name')\n",
    "print_inconsistencies(articles, 'garment_group_no', 'garment_group_name')\n",
    "\n",
    "# name -> no/code/id\n",
    "print('\\nX_name -> X_no/code/id')\n",
    "print_inconsistencies(articles, 'prod_name', 'product_code')\n",
    "print_inconsistencies(articles, 'product_type_name', 'product_type_no')\n",
    "print_inconsistencies(articles, 'graphical_appearance_name', 'graphical_appearance_no')\n",
    "print_inconsistencies(articles, 'colour_group_name', 'colour_group_code')\n",
    "print_inconsistencies(articles, 'perceived_colour_value_name', 'perceived_colour_value_id')\n",
    "print_inconsistencies(articles, 'perceived_colour_master_name', 'perceived_colour_master_id')\n",
    "print_inconsistencies(articles, 'department_name', 'department_no')\n",
    "print_inconsistencies(articles, 'index_name', 'index_code')\n",
    "print_inconsistencies(articles, 'index_group_name', 'index_group_no')\n",
    "print_inconsistencies(articles, 'section_name', 'section_no')\n",
    "print_inconsistencies(articles, 'garment_group_name', 'garment_group_no')\n",
    "\n",
    "# extra relations\n",
    "print('\\nExtra')\n",
    "print_inconsistencies(articles, 'product_type_no', 'product_group_name')\n",
    "print_inconsistencies(articles, 'product_group_name', 'product_type_no')\n",
    "print_inconsistencies(articles, 'index_code', 'index_group_no')\n",
    "print_inconsistencies(articles, 'index_group_no', 'index_code')\n",
    "print_inconsistencies(articles, 'colour_group_code', 'perceived_colour_value_id')\n",
    "\n",
    "# product_code\n",
    "print(\"\\nProduct code\")\n",
    "print_inconsistencies(articles, 'product_code', 'product_type_no')\n",
    "print_inconsistencies(articles, 'product_code', 'graphical_appearance_no')\n",
    "print_inconsistencies(articles, 'product_code', 'colour_group_code')\n",
    "print_inconsistencies(articles, 'product_code', 'perceived_colour_value_id')\n",
    "print_inconsistencies(articles, 'product_code', 'perceived_colour_master_id')\n",
    "print_inconsistencies(articles, 'product_code', 'department_no')\n",
    "print_inconsistencies(articles, 'product_code', 'index_code')\n",
    "print_inconsistencies(articles, 'product_code', 'index_group_no')\n",
    "print_inconsistencies(articles, 'product_code', 'section_no')\n",
    "print_inconsistencies(articles, 'product_code', 'garment_group_no')\n",
    "\n",
    "# no/code/id columns uniquely define name columns except in the case of product_code -> prod_name\n",
    "# some names are used for than one id (in the columns prod_name, product_type_name, department_name and section_name)\n",
    "\n",
    "# groups:\n",
    "# product_type_no belongs a single product_type_group_name, but the reverse is not true\n",
    "# index_code belong to a single index_group, but the reverse is not true "
   ]
  },
  {
   "cell_type": "code",
   "execution_count": 8,
   "id": "76816984-5d88-47f3-a450-29213c102d83",
   "metadata": {},
   "outputs": [
    {
     "data": {
      "text/html": [
       "<div>\n",
       "<style scoped>\n",
       "    .dataframe tbody tr th:only-of-type {\n",
       "        vertical-align: middle;\n",
       "    }\n",
       "\n",
       "    .dataframe tbody tr th {\n",
       "        vertical-align: top;\n",
       "    }\n",
       "\n",
       "    .dataframe thead th {\n",
       "        text-align: right;\n",
       "    }\n",
       "</style>\n",
       "<table border=\"1\" class=\"dataframe\">\n",
       "  <thead>\n",
       "    <tr style=\"text-align: right;\">\n",
       "      <th></th>\n",
       "      <th>article_id</th>\n",
       "      <th>product_code</th>\n",
       "      <th>prod_name</th>\n",
       "      <th>product_type_no</th>\n",
       "      <th>product_type_name</th>\n",
       "      <th>product_group_name</th>\n",
       "      <th>graphical_appearance_no</th>\n",
       "      <th>graphical_appearance_name</th>\n",
       "      <th>colour_group_code</th>\n",
       "      <th>colour_group_name</th>\n",
       "      <th>perceived_colour_value_id</th>\n",
       "      <th>perceived_colour_value_name</th>\n",
       "      <th>perceived_colour_master_id</th>\n",
       "      <th>perceived_colour_master_name</th>\n",
       "      <th>department_no</th>\n",
       "      <th>department_name</th>\n",
       "      <th>index_code</th>\n",
       "      <th>index_name</th>\n",
       "      <th>index_group_no</th>\n",
       "      <th>index_group_name</th>\n",
       "      <th>section_no</th>\n",
       "      <th>section_name</th>\n",
       "      <th>garment_group_no</th>\n",
       "      <th>garment_group_name</th>\n",
       "      <th>detail_desc</th>\n",
       "    </tr>\n",
       "  </thead>\n",
       "  <tbody>\n",
       "    <tr>\n",
       "      <th>430</th>\n",
       "      <td>0241412034</td>\n",
       "      <td>0241412</td>\n",
       "      <td>AOP Leggings</td>\n",
       "      <td>273</td>\n",
       "      <td>Leggings/Tights</td>\n",
       "      <td>Garment Lower body</td>\n",
       "      <td>1010001</td>\n",
       "      <td>All over pattern</td>\n",
       "      <td>8</td>\n",
       "      <td>Dark Grey</td>\n",
       "      <td>4</td>\n",
       "      <td>Dark</td>\n",
       "      <td>12</td>\n",
       "      <td>Grey</td>\n",
       "      <td>5962</td>\n",
       "      <td>Jersey Fancy DS</td>\n",
       "      <td>D</td>\n",
       "      <td>Divided</td>\n",
       "      <td>2</td>\n",
       "      <td>Divided</td>\n",
       "      <td>58</td>\n",
       "      <td>Divided Selected</td>\n",
       "      <td>1005</td>\n",
       "      <td>Jersey Fancy</td>\n",
       "      <td>Leggings in patterned jersey with an elasticat...</td>\n",
       "    </tr>\n",
       "    <tr>\n",
       "      <th>431</th>\n",
       "      <td>0241412037</td>\n",
       "      <td>0241412</td>\n",
       "      <td>AOP Leggings</td>\n",
       "      <td>273</td>\n",
       "      <td>Leggings/Tights</td>\n",
       "      <td>Garment Lower body</td>\n",
       "      <td>1010014</td>\n",
       "      <td>Placement print</td>\n",
       "      <td>9</td>\n",
       "      <td>Black</td>\n",
       "      <td>4</td>\n",
       "      <td>Dark</td>\n",
       "      <td>5</td>\n",
       "      <td>Black</td>\n",
       "      <td>5962</td>\n",
       "      <td>Jersey Fancy DS</td>\n",
       "      <td>D</td>\n",
       "      <td>Divided</td>\n",
       "      <td>2</td>\n",
       "      <td>Divided</td>\n",
       "      <td>58</td>\n",
       "      <td>Divided Selected</td>\n",
       "      <td>1005</td>\n",
       "      <td>Jersey Fancy</td>\n",
       "      <td>Leggings in patterned jersey with an elasticat...</td>\n",
       "    </tr>\n",
       "    <tr>\n",
       "      <th>432</th>\n",
       "      <td>0241412038</td>\n",
       "      <td>0241412</td>\n",
       "      <td>AOP Leggings</td>\n",
       "      <td>273</td>\n",
       "      <td>Leggings/Tights</td>\n",
       "      <td>Garment Lower body</td>\n",
       "      <td>1010001</td>\n",
       "      <td>All over pattern</td>\n",
       "      <td>33</td>\n",
       "      <td>Dark Orange</td>\n",
       "      <td>7</td>\n",
       "      <td>Medium</td>\n",
       "      <td>18</td>\n",
       "      <td>Red</td>\n",
       "      <td>1649</td>\n",
       "      <td>Trousers DS</td>\n",
       "      <td>D</td>\n",
       "      <td>Divided</td>\n",
       "      <td>2</td>\n",
       "      <td>Divided</td>\n",
       "      <td>58</td>\n",
       "      <td>Divided Selected</td>\n",
       "      <td>1009</td>\n",
       "      <td>Trousers</td>\n",
       "      <td>Leggings in patterned jersey with an elasticat...</td>\n",
       "    </tr>\n",
       "    <tr>\n",
       "      <th>433</th>\n",
       "      <td>0241412043</td>\n",
       "      <td>0241412</td>\n",
       "      <td>AOP Leggings</td>\n",
       "      <td>273</td>\n",
       "      <td>Leggings/Tights</td>\n",
       "      <td>Garment Lower body</td>\n",
       "      <td>1010001</td>\n",
       "      <td>All over pattern</td>\n",
       "      <td>14</td>\n",
       "      <td>Dark Beige</td>\n",
       "      <td>4</td>\n",
       "      <td>Dark</td>\n",
       "      <td>11</td>\n",
       "      <td>Beige</td>\n",
       "      <td>1649</td>\n",
       "      <td>Trousers DS</td>\n",
       "      <td>D</td>\n",
       "      <td>Divided</td>\n",
       "      <td>2</td>\n",
       "      <td>Divided</td>\n",
       "      <td>58</td>\n",
       "      <td>Divided Selected</td>\n",
       "      <td>1009</td>\n",
       "      <td>Trousers</td>\n",
       "      <td>Leggings in patterned jersey with an elasticat...</td>\n",
       "    </tr>\n",
       "    <tr>\n",
       "      <th>434</th>\n",
       "      <td>0241412044</td>\n",
       "      <td>0241412</td>\n",
       "      <td>AOP Leggings</td>\n",
       "      <td>273</td>\n",
       "      <td>Leggings/Tights</td>\n",
       "      <td>Garment Lower body</td>\n",
       "      <td>1010001</td>\n",
       "      <td>All over pattern</td>\n",
       "      <td>42</td>\n",
       "      <td>Red</td>\n",
       "      <td>7</td>\n",
       "      <td>Medium</td>\n",
       "      <td>18</td>\n",
       "      <td>Red</td>\n",
       "      <td>1649</td>\n",
       "      <td>Trousers DS</td>\n",
       "      <td>D</td>\n",
       "      <td>Divided</td>\n",
       "      <td>2</td>\n",
       "      <td>Divided</td>\n",
       "      <td>58</td>\n",
       "      <td>Divided Selected</td>\n",
       "      <td>1009</td>\n",
       "      <td>Trousers</td>\n",
       "      <td>Leggings in patterned jersey with an elasticat...</td>\n",
       "    </tr>\n",
       "    <tr>\n",
       "      <th>435</th>\n",
       "      <td>0241412045</td>\n",
       "      <td>0241412</td>\n",
       "      <td>AOP Leggings</td>\n",
       "      <td>273</td>\n",
       "      <td>Leggings/Tights</td>\n",
       "      <td>Garment Lower body</td>\n",
       "      <td>1010001</td>\n",
       "      <td>All over pattern</td>\n",
       "      <td>93</td>\n",
       "      <td>Dark Green</td>\n",
       "      <td>4</td>\n",
       "      <td>Dark</td>\n",
       "      <td>19</td>\n",
       "      <td>Green</td>\n",
       "      <td>1649</td>\n",
       "      <td>Trousers DS</td>\n",
       "      <td>D</td>\n",
       "      <td>Divided</td>\n",
       "      <td>2</td>\n",
       "      <td>Divided</td>\n",
       "      <td>58</td>\n",
       "      <td>Divided Selected</td>\n",
       "      <td>1009</td>\n",
       "      <td>Trousers</td>\n",
       "      <td>Leggings in patterned jersey with an elasticat...</td>\n",
       "    </tr>\n",
       "    <tr>\n",
       "      <th>436</th>\n",
       "      <td>0241412046</td>\n",
       "      <td>0241412</td>\n",
       "      <td>AOP Leggings</td>\n",
       "      <td>273</td>\n",
       "      <td>Leggings/Tights</td>\n",
       "      <td>Garment Lower body</td>\n",
       "      <td>1010001</td>\n",
       "      <td>All over pattern</td>\n",
       "      <td>9</td>\n",
       "      <td>Black</td>\n",
       "      <td>4</td>\n",
       "      <td>Dark</td>\n",
       "      <td>5</td>\n",
       "      <td>Black</td>\n",
       "      <td>1649</td>\n",
       "      <td>Trousers DS</td>\n",
       "      <td>D</td>\n",
       "      <td>Divided</td>\n",
       "      <td>2</td>\n",
       "      <td>Divided</td>\n",
       "      <td>58</td>\n",
       "      <td>Divided Selected</td>\n",
       "      <td>1009</td>\n",
       "      <td>Trousers</td>\n",
       "      <td>Leggings in patterned jersey with an elasticat...</td>\n",
       "    </tr>\n",
       "    <tr>\n",
       "      <th>437</th>\n",
       "      <td>0241412052</td>\n",
       "      <td>0241412</td>\n",
       "      <td>AOP Leggings</td>\n",
       "      <td>273</td>\n",
       "      <td>Leggings/Tights</td>\n",
       "      <td>Garment Lower body</td>\n",
       "      <td>1010009</td>\n",
       "      <td>Glittering/Metallic</td>\n",
       "      <td>9</td>\n",
       "      <td>Black</td>\n",
       "      <td>4</td>\n",
       "      <td>Dark</td>\n",
       "      <td>5</td>\n",
       "      <td>Black</td>\n",
       "      <td>1649</td>\n",
       "      <td>Trousers DS</td>\n",
       "      <td>D</td>\n",
       "      <td>Divided</td>\n",
       "      <td>2</td>\n",
       "      <td>Divided</td>\n",
       "      <td>58</td>\n",
       "      <td>Divided Selected</td>\n",
       "      <td>1009</td>\n",
       "      <td>Trousers</td>\n",
       "      <td>Leggings in patterned jersey with an elasticat...</td>\n",
       "    </tr>\n",
       "  </tbody>\n",
       "</table>\n",
       "</div>"
      ],
      "text/plain": [
       "     article_id product_code     prod_name  product_type_no product_type_name  \\\n",
       "430  0241412034      0241412  AOP Leggings              273   Leggings/Tights   \n",
       "431  0241412037      0241412  AOP Leggings              273   Leggings/Tights   \n",
       "432  0241412038      0241412  AOP Leggings              273   Leggings/Tights   \n",
       "433  0241412043      0241412  AOP Leggings              273   Leggings/Tights   \n",
       "434  0241412044      0241412  AOP Leggings              273   Leggings/Tights   \n",
       "435  0241412045      0241412  AOP Leggings              273   Leggings/Tights   \n",
       "436  0241412046      0241412  AOP Leggings              273   Leggings/Tights   \n",
       "437  0241412052      0241412  AOP Leggings              273   Leggings/Tights   \n",
       "\n",
       "     product_group_name  graphical_appearance_no graphical_appearance_name  \\\n",
       "430  Garment Lower body                  1010001          All over pattern   \n",
       "431  Garment Lower body                  1010014           Placement print   \n",
       "432  Garment Lower body                  1010001          All over pattern   \n",
       "433  Garment Lower body                  1010001          All over pattern   \n",
       "434  Garment Lower body                  1010001          All over pattern   \n",
       "435  Garment Lower body                  1010001          All over pattern   \n",
       "436  Garment Lower body                  1010001          All over pattern   \n",
       "437  Garment Lower body                  1010009       Glittering/Metallic   \n",
       "\n",
       "     colour_group_code colour_group_name  perceived_colour_value_id  \\\n",
       "430                  8         Dark Grey                          4   \n",
       "431                  9             Black                          4   \n",
       "432                 33       Dark Orange                          7   \n",
       "433                 14        Dark Beige                          4   \n",
       "434                 42               Red                          7   \n",
       "435                 93        Dark Green                          4   \n",
       "436                  9             Black                          4   \n",
       "437                  9             Black                          4   \n",
       "\n",
       "    perceived_colour_value_name  perceived_colour_master_id  \\\n",
       "430                        Dark                          12   \n",
       "431                        Dark                           5   \n",
       "432                      Medium                          18   \n",
       "433                        Dark                          11   \n",
       "434                      Medium                          18   \n",
       "435                        Dark                          19   \n",
       "436                        Dark                           5   \n",
       "437                        Dark                           5   \n",
       "\n",
       "    perceived_colour_master_name  department_no  department_name index_code  \\\n",
       "430                         Grey           5962  Jersey Fancy DS          D   \n",
       "431                        Black           5962  Jersey Fancy DS          D   \n",
       "432                          Red           1649      Trousers DS          D   \n",
       "433                        Beige           1649      Trousers DS          D   \n",
       "434                          Red           1649      Trousers DS          D   \n",
       "435                        Green           1649      Trousers DS          D   \n",
       "436                        Black           1649      Trousers DS          D   \n",
       "437                        Black           1649      Trousers DS          D   \n",
       "\n",
       "    index_name  index_group_no index_group_name  section_no      section_name  \\\n",
       "430    Divided               2          Divided          58  Divided Selected   \n",
       "431    Divided               2          Divided          58  Divided Selected   \n",
       "432    Divided               2          Divided          58  Divided Selected   \n",
       "433    Divided               2          Divided          58  Divided Selected   \n",
       "434    Divided               2          Divided          58  Divided Selected   \n",
       "435    Divided               2          Divided          58  Divided Selected   \n",
       "436    Divided               2          Divided          58  Divided Selected   \n",
       "437    Divided               2          Divided          58  Divided Selected   \n",
       "\n",
       "     garment_group_no garment_group_name  \\\n",
       "430              1005       Jersey Fancy   \n",
       "431              1005       Jersey Fancy   \n",
       "432              1009           Trousers   \n",
       "433              1009           Trousers   \n",
       "434              1009           Trousers   \n",
       "435              1009           Trousers   \n",
       "436              1009           Trousers   \n",
       "437              1009           Trousers   \n",
       "\n",
       "                                           detail_desc  \n",
       "430  Leggings in patterned jersey with an elasticat...  \n",
       "431  Leggings in patterned jersey with an elasticat...  \n",
       "432  Leggings in patterned jersey with an elasticat...  \n",
       "433  Leggings in patterned jersey with an elasticat...  \n",
       "434  Leggings in patterned jersey with an elasticat...  \n",
       "435  Leggings in patterned jersey with an elasticat...  \n",
       "436  Leggings in patterned jersey with an elasticat...  \n",
       "437  Leggings in patterned jersey with an elasticat...  "
      ]
     },
     "execution_count": 8,
     "metadata": {},
     "output_type": "execute_result"
    }
   ],
   "source": [
    "# All these leggings are 'Trousers', but two are actually 'Jersey'?\n",
    "articles[articles.product_code == '0241412']"
   ]
  },
  {
   "cell_type": "code",
   "execution_count": 21,
   "id": "af363eaa-2aba-445e-af48-b2c2f8eff423",
   "metadata": {},
   "outputs": [
    {
     "name": "stdout",
     "output_type": "stream",
     "text": [
      "product_type\n",
      "{253: 'Vest top', 306: 'Bra', 304: 'Underwear Tights', 302: 'Socks', 273: 'Leggings/Tights', 252: 'Sweater', 254: 'Top', 272: 'Trousers', 72: 'Hair clip', 532: 'Umbrella', 295: 'Pyjama jumpsuit/playsuit', 256: 'Bodysuit', 73: 'Hair string', -1: 'Unknown', 308: 'Hoodie', 196: 'Sleep Bag', 74: 'Hair/alice band', 67: 'Belt', 87: 'Boots', 298: 'Bikini top', 59: 'Swimwear bottom', 286: 'Underwear bottom', 57: 'Swimsuit', 275: 'Skirt', 255: 'T-shirt', 265: 'Dress', 75: 'Hat/beanie', 307: 'Kids Underwear top', 274: 'Shorts', 259: 'Shirt', 69: 'Cap/peaked', 297: 'Pyjama set', 94: 'Sneakers', 81: 'Sunglasses', 245: 'Cardigan', 71: 'Gloves', 70: 'Earring', 66: 'Bag', 264: 'Blazer', 89: 'Other shoe', 267: 'Jumpsuit/Playsuit', 91: 'Sandals', 262: 'Jacket', 83: 'Umbrella', 277: 'Costumes', 305: 'Robe', 80: 'Scarf', 263: 'Coat', 78: 'Other accessories', 257: 'Polo shirt', 93: 'Slippers', 293: 'Night gown', 495: 'Alice band', 515: 'Straw hat', 76: 'Hat/brim', 260: 'Tailored Waistcoat', 77: 'Necklace', 86: 'Ballerinas', 82: 'Tie', 296: 'Pyjama bottom', 509: 'Felt hat', 68: 'Bracelet', 258: 'Blouse', 271: 'Outdoor overall', 85: 'Watch', 283: 'Underwear body', 496: 'Beanie', 161: 'Giftbox', 49: 'Sleeping sack', 268: 'Dungarees', 276: 'Outdoor trousers', 84: 'Wallet', 299: 'Swimwear set', 60: 'Swimwear top', 144: 'Flat shoe', 270: 'Garment Set', 79: 'Ring', 156: 'Waterbottle', 95: 'Wedge', 287: 'Long John', 261: 'Outdoor Waistcoat', 90: 'Pumps', 88: 'Flip flop', 499: 'Braces', 100: 'Bootie', 98: 'Fine cosmetics', 92: 'Heeled sandals', 289: 'Nipple covers', 96: 'Chem. cosmetics', 155: 'Soft Toys', 512: 'Hair ties', 284: 'Underwear corset', 291: 'Bra extender', 285: 'Underdress', 288: 'Underwear set', 300: 'Sarong', 303: 'Leg warmers', 349: 'Blanket', 511: 'Hairband', 475: 'Tote bag', 477: 'Weekend/Gym bag', 351: 'Cushion', 467: 'Backpack', 508: 'Earrings', 503: 'Bucket hat', 465: 'Flat shoes', 230: 'Heels', 504: 'Cap', 476: 'Shoulder bag', 326: 'Side table', 494: 'Accessories set', 514: 'Headband', 498: 'Baby Bib', 525: 'Keychain', 231: 'Dog Wear', 492: 'Washing bag', 489: 'Sewing kit', 470: 'Cross-body bag', 102: 'Moccasins', 366: 'Towel', 493: 'Wood balls', 762: 'Zipper head', 529: 'Mobile case', 464: 'Pre-walkers', 389: 'Toy', 761: 'Marker pen', 468: 'Bumbag', 521: 'Dog wear', 510: 'Eyeglasses', 523: 'Wireless earphone case', 491: 'Stain remover spray', 483: 'Clothing mist'}\n",
      "Pseudo missing value: -1 -> Unknown\n",
      "\n",
      "graphical_appearance\n",
      "{1010016: 'Solid', 1010017: 'Stripe', 1010001: 'All over pattern', 1010010: 'Melange', 1010019: 'Transparent', 1010011: 'Metallic', 1010002: 'Application/3D', 1010023: 'Denim', 1010005: 'Colour blocking', 1010006: 'Dot', 1010026: 'Other structure', 1010020: 'Contrast', 1010018: 'Treatment', 1010004: 'Check', 1010024: 'Chambray', 1010008: 'Front print', 1010009: 'Glittering/Metallic', 1010012: 'Mixed solid/pattern', 1010014: 'Placement print', 1010013: 'Other pattern', 1010027: 'Neps', 1010007: 'Embroidery', 1010021: 'Lace', 1010022: 'Jacquard', -1: 'Unknown', 1010003: 'Argyle', 1010025: 'Slub', 1010028: 'Mesh', 1010015: 'Sequin', 1010029: 'Hologram'}\n",
      "Pseudo missing value: -1 -> Unknown\n",
      "\n",
      "colour_group\n",
      "{9: 'Black', 10: 'White', 11: 'Off White', 12: 'Light Beige', 13: 'Beige', 7: 'Grey', 71: 'Light Blue', 6: 'Light Grey', 73: 'Dark Blue', 8: 'Dark Grey', 52: 'Pink', 43: 'Dark Red', 15: 'Greyish Beige', 31: 'Light Orange', 3: 'Silver', 5: 'Gold', 51: 'Light Pink', 53: 'Dark Pink', 17: 'Yellowish Brown', 72: 'Blue', 81: 'Light Turquoise', 22: 'Yellow', 19: 'Greenish Khaki', 23: 'Dark Yellow', 50: 'Other Pink', 63: 'Dark Purple', 42: 'Red', 2: 'Transparent', 93: 'Dark Green', 40: 'Other Red', 82: 'Turquoise', 33: 'Dark Orange', 1: 'Other', 32: 'Orange', 14: 'Dark Beige', 20: 'Other Yellow', 91: 'Light Green', 30: 'Other Orange', 62: 'Purple', 41: 'Light Red', 21: 'Light Yellow', 92: 'Green', 61: 'Light Purple', 83: 'Dark Turquoise', 60: 'Other Purple', 4: 'Bronze/Copper', 80: 'Other Turquoise', 90: 'Other Green', 70: 'Other Blue', -1: 'Unknown'}\n",
      "Pseudo missing value: -1 -> Unknown\n",
      "Pseudo missing value: 1 -> Other\n",
      "\n",
      "perceived_colour_value\n",
      "{4: 'Dark', 3: 'Light', 1: 'Dusty Light', 2: 'Medium Dusty', 5: 'Bright', 7: 'Medium', 6: 'Undefined', -1: 'Unknown'}\n",
      "Pseudo missing value: -1 -> Unknown\n",
      "Pseudo missing value: 6 -> Undefined\n",
      "\n",
      "perceived_colour_master\n",
      "{5: 'Black', 9: 'White', 11: 'Beige', 12: 'Grey', 2: 'Blue', 4: 'Pink', 6: 'Lilac Purple', 18: 'Red', 1: 'Mole', 3: 'Orange', 15: 'Metal', 13: 'Brown', 7: 'Turquoise', 8: 'Yellow', 20: 'Khaki green', 19: 'Green', 14: 'undefined', -1: 'Unknown', 10: 'Yellowish Green', 16: 'Bluish Green'}\n",
      "Pseudo missing value: -1 -> Unknown\n",
      "Pseudo missing value: 14 -> undefined\n",
      "\n",
      "department\n",
      "{1676: 'Jersey Basic', 1339: 'Clean Lingerie', 3608: 'Tights basic', 6515: 'Baby basics', 1334: 'Casual Lingerie', 5883: 'Jersey Basic', 2032: 'Jersey', 4342: 'EQ & Special Collections', 4343: 'Hair Accessories', 3419: 'Other items', 6563: 'Baby Nightwear', 8559: 'Men Sport Woven', 8394: 'Men Sport Bottoms', 7956: 'Kids Boy Denim', 3611: 'Shopbasket Socks', 3610: 'Socks', 3937: 'UW', 7930: 'Young Girl Jersey Basic', 5283: 'Jacket Street', 3509: 'Belts', 3929: 'Divided Shoes', 4242: 'Swimwear', 7988: 'Underwear Jersey', 1643: 'Basic 1', 5963: 'Tops Knitwear DS', 8560: 'Men Sport Acc', 7668: 'Kids Boy Jersey Basic', 7932: 'Young Girl UW/NW', 5783: 'Shirt', 3709: 'Nightwear', 5683: 'Trouser', 3946: 'Small Accessories', 8888: 'Sunglasses', 3519: 'Gloves/Hats', 5656: 'Trouser', 3945: 'Knit & Woven', 5868: 'Basics', 9985: 'Accessories', 4344: 'Jewellery', 5962: 'Jersey Fancy DS', 1649: 'Trousers DS', 3209: 'Bags', 8615: 'Blazer S&T', 1626: 'Knitwear', 2031: 'Woven bottoms', 5658: 'Shorts', 5961: 'Dresses DS', 1338: 'Expressive Lingerie', 1722: 'Trouser', 7922: 'Kids Girl UW/NW', 8768: 'Young Boy Jersey Basic', 7921: 'Kids Girl S&T', 7931: 'Young Girl S&T', 3630: 'Shoes / Boots inactive from s5', 2035: 'Nursing', 5882: 'Jersey Fancy', 3629: 'Shoes', 3710: 'Functional Lingerie', 8558: 'Men Sport Tops', 3948: 'Other Accessories', 3944: 'Bags', 8756: 'Young Boy Trouser', 1919: 'Jersey', 1939: 'Woven bottoms', 5960: 'Outdoor/Blazers DS', 3705: 'Mama Lingerie', 7188: 'Socks Bin', 1745: 'Shorts', 1773: 'Denim Other Garments', 1779: 'Everyday Waredrobe Denim', 5878: 'Knitwear', 7389: 'Belts', 5828: 'Jersey Fancy', 1747: 'Trousers', 1772: 'Denim Trousers', 1244: 'Outdoor/Blazers', 8956: 'Young Boy Denim', 3439: 'EQ & Special Collections', 3409: 'Scarves', 9986: 'Small Accessories', 1344: 'Dresses', 1444: 'Skirts', 7920: 'Kids Girl Jersey Basic', 6541: 'Baby Socks', 1948: 'Trousers & Skirt', 8757: 'Young Boy Shirt', 4312: 'Kids Girl Big Acc', 8917: 'Young Girl Denim', 3527: 'Flats', 2950: 'Baby Toys/Acc', 1717: 'Trouser', 1343: 'Projects Dresses', 5673: 'Denim shorts', 5957: 'Jersey inactive from s1', 8090: 'Promotion/Other/Offer', 5687: 'Shorts', 5831: 'Knitwear', 7388: 'Bags & Items', 1666: 'Jersey', 5631: 'Trouser', 1920: 'Small Bags', 8616: 'Trouser S&T', 8617: 'Shirt S&T', 5731: 'Shirt', 1949: 'Knitwear', 2033: 'Woven Tops', 5672: 'Denim trousers', 8718: 'Young Girl Knitwear', 1201: 'Outwear', 5884: 'Knitwear', 5958: 'Knitwear inactive from s1', 1545: 'Projects Woven Tops', 1644: 'Projects Jersey & Knitwear', 5679: 'Denim wardrobe H&M man inactive from S.6', 6512: 'Baby Boy Outdoor', 5686: 'Trouser', 3040: 'Premium Quality', 5956: 'Woven inactive from s1', 1547: 'Tops woven DS', 6564: 'Newborn', 1422: 'Skirt', 1670: 'Jersey License', 4345: 'Jewellery Extended', 5832: 'Light Basic Jersey', 5454: 'Suit Extended inactive from s1', 4225: 'Young Boy UW/NW', 1641: 'Jersey', 1647: 'Tops Knitwear', 4214: 'Kids Boy Socks', 4224: 'Young Boy Socks', 5952: 'Outdoor inactive from s1', 9984: 'Swimwear', 4310: 'Kids Girl Swimwear', 4320: 'Young Girl Swimwear', 8316: 'Ladies Sport Bras', 8310: 'Ladies Sport Bottoms', 1636: 'Jersey fancy', 5777: 'Shirt', 5555: 'Blazer', 2034: 'Knitwear', 6565: 'Baby Boy Woven', 4210: 'Kids Boy Swimwear', 4220: 'Young boy Swimwear', 1414: 'Skirt', 1723: 'Shorts', 4314: 'Kids Dress-up/Football', 5848: 'Jersey Fancy', 4317: 'Sneakers small girl inactive from s2', 1543: 'Tops Woven', 1510: 'Blouse', 1642: 'Shorts DS', 3529: 'Boots', 4212: 'Kids Boy Big Acc', 4213: 'Boys Small Acc & Bags', 1909: 'Woven top', 8713: 'Young Girl Dresses', 1646: 'Knitwear Basic', 3828: 'Sneakers', 1322: 'Dress', 6555: 'Baby Girl Woven', 6525: 'Baby Girl Jersey Fancy', 5252: 'Jacket Casual', 4215: 'Kids Boy UW/NW', 8396: 'Ladies Sport Acc', 1313: 'Dress', 7616: 'Kids Girl Jersey Fancy', 5690: 'Shorts', 6557: 'Baby Exclusive', 8755: 'Young Boy Shorts', 1610: 'Knitwear', 3936: 'EQ Divided Basics', 1410: 'Shorts & Skirts', 4090: 'Promotion/ Other /Offer', 7656: 'Kids Boy Trouser', 1515: 'Blouse', 1640: 'Tops Fancy Jersey', 7618: 'Kids Girl Knitwear', 7648: 'Kids Boy Jersey Fancy', 1660: 'Jersey', 1710: 'Trouser', 3528: 'Heels', 1912: 'Woven Premium', 1941: 'Blouse & Dress', 7617: 'Kids Girl Trouser', 7613: 'Kids Girl Dresses', 1743: 'Projects Woven Bottoms', 7020: 'Conscious Exclusive', 3939: 'Shoes Other', 7812: 'Kids Girl Outdoor', 1447: 'Skirts DS', 8716: 'Young Girl Jersey Fancy', 8852: 'Young Boy Outdoor', 8812: 'Young Girl Outdoor', 3510: 'Accessories', 1926: 'Woven Occasion', 7852: 'Kids Boy Outdoor', 5131: 'Blazer', 1522: 'Blouse', 8748: 'Young Boy Jersey Fancy', 5767: 'Shirt', 4211: 'Kids Boy Shoes', 1929: 'Outwear', 8397: 'Ladies Sport Woven', 6281: 'Bottoms Girls', 6280: 'Tops Girls', 1310: 'Dress', 4322: 'Young Girl Big Acc', 4221: 'Young Boy Shoes', 8758: 'Young Boy Knitwear', 1212: 'Suit', 4311: 'Kids Girl Shoes', 5262: 'Jacket Smart', 5741: 'Projects', 7658: 'Kids Boy Knitwear', 8398: 'Woven bottoms inactive from S.7', 1612: 'Jersey/Knitwear Premium', 4327: 'Sneakers big girl inactive from s2', 1222: 'Suit jacket', 7657: 'Kids Boy Shirt', 5231: 'Jacket', 7917: 'Kids Girl Denim', 8717: 'Young Girl Trouser', 4313: 'Girls Small Acc/Bags', 5787: 'Shirt Extended inactive from s1', 6283: 'Tops Boys', 6526: 'Baby Girl Knitwear', 6561: 'Baby Shoes', 1616: 'Knitwear', 1202: 'Jackets', 1686: 'Jersey Occasion', 4222: 'Young Boy Big Acc', 7819: 'Kids Girl License', 5858: 'Knitwear', 6545: 'Baby Boy Jersey Fancy', 8563: 'Bottoms Boys', 5641: 'Local relevance', 4216: 'Dress-up Boys', 4323: 'Small Acc. Jewellery & Other', 6546: 'Baby Boy Knitwear', 3030: 'Equatorial Assortment', 9989: 'Loungewear', 7530: 'Accessories', 2080: 'Studio Collection', 7510: 'Woven', 1241: 'Outwear & Blazers', 1648: 'Knitwear', 7989: 'Underwear Jersey Fancy inactive from s1', 9020: 'Special Collection', 3080: 'Take Care External', 1352: 'Equatorial', 1652: 'Divided+', 1774: 'OL Extended Sizes', 7520: 'Knitwear', 3090: 'Campaigns', 7987: 'Underwear Woven', 5833: 'Heavy Basic Jersey', 8030: 'EQ H&M Man', 4321: 'Young Girl Shoes', 4030: 'AK Other', 7655: 'Kids Boy Shorts', 1752: 'Bottoms', 3708: 'Loungewear', 1336: 'Shopbasket Lingerie', 7659: 'Kids Boy License', 6550: 'Baby Girl Outdoor', 7050: 'Promotion / Other / Offer', 5959: 'Divided+ inactive from s.1', 1778: 'OL Extended Sizes', 3941: 'Accessories', 3932: 'Tops & Bottoms Other', 4920: 'Take care', 7814: 'Girls Local Relevance', 5626: 'AK Dresses & Outdoor', 3000: 'Limited Edition', 7952: 'Jersey License', 4020: 'AK Tops Jersey & Woven', 5627: 'AK Tops Knitwear', 1645: 'Divided Swimwear', 1744: 'AK Bottoms', 7854: 'Girls Projects', 5950: 'On Demand', 1727: 'Test Ladies', 5999: 'Socks Wall', 1620: 'Jersey inactive from S.6', 7848: 'Boys Local Relevance', 8815: 'License', 4091: 'Price Items', 7912: 'Asia Assortment', 8564: 'Accessories Boys', 4092: 'Read & React', 3938: 'EQ Ladies Denim', 3420: 'Small Accessories Extended', 2932: 'Baby Boy Local Relevance', 7757: 'Kids Girl Exclusive', 2930: 'Baby Girl Local Relevance', 3943: 'EQ Divided Blue', 7857: 'Kids Boy Exclusive', 3931: 'Accessories Other', 5888: 'Blanks'}\n",
      "\n",
      "index\n",
      "{'A': 'Ladieswear', 'B': 'Lingeries/Tights', 'G': 'Baby Sizes 50-98', 'F': 'Menswear', 'C': 'Ladies Accessories', 'S': 'Sport', 'H': 'Children Sizes 92-140', 'D': 'Divided', 'I': 'Children Sizes 134-170', 'J': 'Children Accessories, Swimwear'}\n",
      "\n",
      "index_group\n",
      "{1: 'Ladieswear', 4: 'Baby/Children', 3: 'Menswear', 26: 'Sport', 2: 'Divided'}\n",
      "\n",
      "section\n",
      "{16: 'Womens Everyday Basics', 61: 'Womens Lingerie', 62: 'Womens Nightwear, Socks & Tigh', 44: 'Baby Essentials & Complements', 26: 'Men Underwear', 8: 'Mama', 66: 'Womens Small accessories', 22: 'Men H&M Sport', 46: 'Kids Boy', 51: 'Divided Basics', 79: 'Girls Underwear & Basics', 31: 'Mens Outerwear', 65: 'Womens Big accessories', 52: 'Divided Accessories', 60: 'Womens Swimwear, beachwear', 58: 'Divided Selected', 72: 'Boys Underwear & Basics', 55: 'Contemporary Street', 21: 'Contemporary Casual', 25: 'Men Accessories', 23: 'Men Suits & Tailoring', 15: 'Womens Everyday Collection', 27: 'Men Shoes', 47: 'Young Boy', 2: 'H&M+', 53: 'Divided Collection', 57: 'Ladies Denim', 20: 'Contemporary Smart', 18: 'Womens Trend', 45: 'Kids Outerwear', 77: 'Young Girl', 64: 'Womens Shoes', 11: 'Womens Tailoring', 50: 'Divided Projects', 56: 'Denim Men', 29: 'Men Other', 19: 'Womens Jackets', 30: 'Men Other 2', 41: 'Baby Boy', 6: 'Womens Casual', 43: 'Kids Accessories, Swimwear & D', 5: 'Ladies H&M Sport', 42: 'Kids & Baby Shoes', 40: 'Baby Girl', 76: 'Kids Girl', 80: 'Divided Complements Other', 14: 'Womens Premium', 82: 'Special Collections', 49: 'Kids Sports', 24: 'Men Project', 28: 'Men Edition', 97: 'Collaborations', 70: 'Divided Asia keys', 71: 'EQ Divided', 48: 'Kids Local Relevance', 4: 'Ladies Other', 17: 'Ladies Other'}\n",
      "\n",
      "garment_group\n",
      "{1002: 'Jersey Basic', 1017: 'Under-, Nightwear', 1021: 'Socks and Tights', 1005: 'Jersey Fancy', 1019: 'Accessories', 1016: 'Trousers Denim', 1007: 'Outdoor', 1020: 'Shoes', 1018: 'Swimwear', 1003: 'Knitwear', 1011: 'Shirts', 1009: 'Trousers', 1008: 'Dressed', 1025: 'Shorts', 1013: 'Dresses Ladies', 1012: 'Skirts', 1023: 'Special Offers', 1010: 'Blouses', 1001: 'Unknown', 1006: 'Woven/Jersey/Knitted mix Baby', 1014: 'Dresses/Skirts girls'}\n",
      "Pseudo missing value: 1001 -> Unknown\n"
     ]
    }
   ],
   "source": [
    "# some X_no/code/id columns contains -1, identifying missing or unkown values\n",
    "temp = get_pairs(articles.product_type_no, articles.product_type_name)\n",
    "print('product_type')\n",
    "print(temp)\n",
    "print(f'Pseudo missing value: -1 -> {temp[-1]}')\n",
    "\n",
    "temp = get_pairs(articles.graphical_appearance_no, articles.graphical_appearance_name)\n",
    "print('\\ngraphical_appearance')\n",
    "print(temp)\n",
    "print(f'Pseudo missing value: -1 -> {temp[-1]}')\n",
    "\n",
    "temp = get_pairs(articles.colour_group_code, articles.colour_group_name)\n",
    "print('\\ncolour_group')\n",
    "print(temp)\n",
    "print(f'Pseudo missing value: -1 -> {temp[-1]}')\n",
    "print(f'Pseudo missing value: 1 -> {temp[1]}')\n",
    "\n",
    "temp = get_pairs(articles.perceived_colour_value_id, articles.perceived_colour_value_name)\n",
    "print('\\nperceived_colour_value')\n",
    "print(temp)\n",
    "print(f'Pseudo missing value: -1 -> {temp[-1]}')\n",
    "print(f'Pseudo missing value: 6 -> {temp[6]}')\n",
    "\n",
    "temp = get_pairs(articles.perceived_colour_master_id, articles.perceived_colour_master_name)\n",
    "print('\\nperceived_colour_master')\n",
    "print(temp)\n",
    "print(f'Pseudo missing value: -1 -> {temp[-1]}')\n",
    "print(f'Pseudo missing value: 14 -> {temp[14]}')\n",
    "\n",
    "temp = get_pairs(articles.department_no, articles.department_name)\n",
    "print('\\ndepartment')\n",
    "print(temp)\n",
    "\n",
    "temp = get_pairs(articles.index_code, articles.index_name)\n",
    "print('\\nindex')\n",
    "print(temp)\n",
    "\n",
    "temp = get_pairs(articles.index_group_no, articles.index_group_name)\n",
    "print('\\nindex_group')\n",
    "print(temp)\n",
    "\n",
    "temp = get_pairs(articles.section_no, articles.section_name)\n",
    "print('\\nsection')\n",
    "print(temp)\n",
    "\n",
    "temp = get_pairs(articles.garment_group_no, articles.garment_group_name)\n",
    "print('\\ngarment_group')\n",
    "print(temp)\n",
    "print(f'Pseudo missing value: 1001 -> {temp[1001]}')"
   ]
  },
  {
   "cell_type": "markdown",
   "id": "5f32c53f-1a28-45f1-8bf9-573986e494a6",
   "metadata": {
    "jp-MarkdownHeadingCollapsed": true
   },
   "source": [
    "# Training data\n",
    "\n",
    "## Conclusions\n",
    "\n",
    "+ no missing values\n",
    "+ all customers and articles are known\n",
    "    + but not all known articles or customers have interactions\n",
    "+  `sales_channel_id` is about 30% 1 and 70% 2\n",
    "    + 2 means online\n",
    "    + 1 means in-store \n",
    "+  `price` has no signifcant outliers and seems reasonably distributed\n",
    "    + vales are rescaled\n",
    "    + articles generally have the same price across transactions, but occasionally seem to be discounted"
   ]
  },
  {
   "cell_type": "markdown",
   "id": "89509061-4e42-4f36-8262-ebfd157e2c76",
   "metadata": {},
   "source": [
    "## Validate"
   ]
  },
  {
   "cell_type": "code",
   "execution_count": 22,
   "id": "a8723f4c-573d-4196-bbcb-af9bc35813dc",
   "metadata": {},
   "outputs": [
    {
     "data": {
      "text/html": [
       "<div>\n",
       "<style scoped>\n",
       "    .dataframe tbody tr th:only-of-type {\n",
       "        vertical-align: middle;\n",
       "    }\n",
       "\n",
       "    .dataframe tbody tr th {\n",
       "        vertical-align: top;\n",
       "    }\n",
       "\n",
       "    .dataframe thead th {\n",
       "        text-align: right;\n",
       "    }\n",
       "</style>\n",
       "<table border=\"1\" class=\"dataframe\">\n",
       "  <thead>\n",
       "    <tr style=\"text-align: right;\">\n",
       "      <th></th>\n",
       "      <th>t_dat</th>\n",
       "      <th>customer_id</th>\n",
       "      <th>article_id</th>\n",
       "      <th>price</th>\n",
       "      <th>sales_channel_id</th>\n",
       "    </tr>\n",
       "  </thead>\n",
       "  <tbody>\n",
       "    <tr>\n",
       "      <th>0</th>\n",
       "      <td>2018-09-20</td>\n",
       "      <td>000058a12d5b43e67d225668fa1f8d618c13dc232df0ca...</td>\n",
       "      <td>0663713001</td>\n",
       "      <td>0.050831</td>\n",
       "      <td>2</td>\n",
       "    </tr>\n",
       "    <tr>\n",
       "      <th>1</th>\n",
       "      <td>2018-09-20</td>\n",
       "      <td>000058a12d5b43e67d225668fa1f8d618c13dc232df0ca...</td>\n",
       "      <td>0541518023</td>\n",
       "      <td>0.030492</td>\n",
       "      <td>2</td>\n",
       "    </tr>\n",
       "    <tr>\n",
       "      <th>2</th>\n",
       "      <td>2018-09-20</td>\n",
       "      <td>00007d2de826758b65a93dd24ce629ed66842531df6699...</td>\n",
       "      <td>0505221004</td>\n",
       "      <td>0.015237</td>\n",
       "      <td>2</td>\n",
       "    </tr>\n",
       "    <tr>\n",
       "      <th>3</th>\n",
       "      <td>2018-09-20</td>\n",
       "      <td>00007d2de826758b65a93dd24ce629ed66842531df6699...</td>\n",
       "      <td>0685687003</td>\n",
       "      <td>0.016932</td>\n",
       "      <td>2</td>\n",
       "    </tr>\n",
       "    <tr>\n",
       "      <th>4</th>\n",
       "      <td>2018-09-20</td>\n",
       "      <td>00007d2de826758b65a93dd24ce629ed66842531df6699...</td>\n",
       "      <td>0685687004</td>\n",
       "      <td>0.016932</td>\n",
       "      <td>2</td>\n",
       "    </tr>\n",
       "    <tr>\n",
       "      <th>5</th>\n",
       "      <td>2018-09-20</td>\n",
       "      <td>00007d2de826758b65a93dd24ce629ed66842531df6699...</td>\n",
       "      <td>0685687001</td>\n",
       "      <td>0.016932</td>\n",
       "      <td>2</td>\n",
       "    </tr>\n",
       "    <tr>\n",
       "      <th>6</th>\n",
       "      <td>2018-09-20</td>\n",
       "      <td>00007d2de826758b65a93dd24ce629ed66842531df6699...</td>\n",
       "      <td>0505221001</td>\n",
       "      <td>0.020322</td>\n",
       "      <td>2</td>\n",
       "    </tr>\n",
       "    <tr>\n",
       "      <th>7</th>\n",
       "      <td>2018-09-20</td>\n",
       "      <td>00083cda041544b2fbb0e0d2905ad17da7cf1007526fb4...</td>\n",
       "      <td>0688873012</td>\n",
       "      <td>0.030492</td>\n",
       "      <td>1</td>\n",
       "    </tr>\n",
       "    <tr>\n",
       "      <th>8</th>\n",
       "      <td>2018-09-20</td>\n",
       "      <td>00083cda041544b2fbb0e0d2905ad17da7cf1007526fb4...</td>\n",
       "      <td>0501323011</td>\n",
       "      <td>0.053373</td>\n",
       "      <td>1</td>\n",
       "    </tr>\n",
       "    <tr>\n",
       "      <th>9</th>\n",
       "      <td>2018-09-20</td>\n",
       "      <td>00083cda041544b2fbb0e0d2905ad17da7cf1007526fb4...</td>\n",
       "      <td>0598859003</td>\n",
       "      <td>0.045746</td>\n",
       "      <td>2</td>\n",
       "    </tr>\n",
       "  </tbody>\n",
       "</table>\n",
       "</div>"
      ],
      "text/plain": [
       "        t_dat                                        customer_id  article_id  \\\n",
       "0  2018-09-20  000058a12d5b43e67d225668fa1f8d618c13dc232df0ca...  0663713001   \n",
       "1  2018-09-20  000058a12d5b43e67d225668fa1f8d618c13dc232df0ca...  0541518023   \n",
       "2  2018-09-20  00007d2de826758b65a93dd24ce629ed66842531df6699...  0505221004   \n",
       "3  2018-09-20  00007d2de826758b65a93dd24ce629ed66842531df6699...  0685687003   \n",
       "4  2018-09-20  00007d2de826758b65a93dd24ce629ed66842531df6699...  0685687004   \n",
       "5  2018-09-20  00007d2de826758b65a93dd24ce629ed66842531df6699...  0685687001   \n",
       "6  2018-09-20  00007d2de826758b65a93dd24ce629ed66842531df6699...  0505221001   \n",
       "7  2018-09-20  00083cda041544b2fbb0e0d2905ad17da7cf1007526fb4...  0688873012   \n",
       "8  2018-09-20  00083cda041544b2fbb0e0d2905ad17da7cf1007526fb4...  0501323011   \n",
       "9  2018-09-20  00083cda041544b2fbb0e0d2905ad17da7cf1007526fb4...  0598859003   \n",
       "\n",
       "      price  sales_channel_id  \n",
       "0  0.050831                 2  \n",
       "1  0.030492                 2  \n",
       "2  0.015237                 2  \n",
       "3  0.016932                 2  \n",
       "4  0.016932                 2  \n",
       "5  0.016932                 2  \n",
       "6  0.020322                 2  \n",
       "7  0.030492                 1  \n",
       "8  0.053373                 1  \n",
       "9  0.045746                 2  "
      ]
     },
     "execution_count": 22,
     "metadata": {},
     "output_type": "execute_result"
    }
   ],
   "source": [
    "transactions.head(10)"
   ]
  },
  {
   "cell_type": "code",
   "execution_count": 23,
   "id": "6c65a095-2683-406b-b941-6e9a9e6a612d",
   "metadata": {},
   "outputs": [
    {
     "name": "stdout",
     "output_type": "stream",
     "text": [
      "t_dat               False\n",
      "customer_id         False\n",
      "article_id          False\n",
      "price               False\n",
      "sales_channel_id    False\n",
      "dtype: bool\n",
      "transaction count: 31788324\n"
     ]
    }
   ],
   "source": [
    "# no missing values :D\n",
    "print(transactions.isna().any())\n",
    "print(f'transaction count: {len(transactions)}')"
   ]
  },
  {
   "cell_type": "code",
   "execution_count": 24,
   "id": "073c76b7-ea75-445d-9455-e1071910a790",
   "metadata": {},
   "outputs": [
    {
     "name": "stdout",
     "output_type": "stream",
     "text": [
      "known customers: 1371980\n",
      "customers with transactions: 1362281\n",
      "missing customers: 0\n",
      "customers without transactions: 9699 (0.71%)\n"
     ]
    }
   ],
   "source": [
    "# all customer with interactions are known, but not all known customers have transactions\n",
    "transaction_customers = transactions.customer_id.unique()\n",
    "known_customers = customers.customer_id\n",
    "mysterious_customers, missing_customers = find_missing(transaction_customers, known_customers)\n",
    "\n",
    "print(f'known customers: {len(known_customers)}')\n",
    "print(f'customers with transactions: {len(transaction_customers)}')\n",
    "print(f'missing customers: {len(missing_customers)}')\n",
    "print(f'customers without transactions: {len(mysterious_customers)} ({100 * len(mysterious_customers)/len(known_customers):.2f}%)')"
   ]
  },
  {
   "cell_type": "code",
   "execution_count": 25,
   "id": "0a0526a5-e237-4eec-b0b0-ce508d37043c",
   "metadata": {},
   "outputs": [
    {
     "name": "stdout",
     "output_type": "stream",
     "text": [
      "known articles: 105542\n",
      "articles with transactions: 104547\n",
      "missing articles: 0\n",
      "articles without transactions: 995 (0.94%)\n"
     ]
    }
   ],
   "source": [
    "# all articles with interactions are known, but not all known articles have transactions\n",
    "transaction_articles = transactions.article_id.unique()\n",
    "known_articles = articles.article_id\n",
    "mysterious_articles, missing_articles = find_missing(transaction_articles, known_articles)\n",
    "\n",
    "print(f'known articles: {len(known_articles)}')\n",
    "print(f'articles with transactions: {len(transaction_articles)}')\n",
    "print(f'missing articles: {len(missing_articles)}')\n",
    "print(f'articles without transactions: {len(mysterious_articles)} ({100 * len(mysterious_articles)/len(known_articles):.2f}%)')"
   ]
  },
  {
   "cell_type": "code",
   "execution_count": 26,
   "id": "647d3a9e-4e82-44cb-8d57-d537e08cfc1a",
   "metadata": {},
   "outputs": [
    {
     "data": {
      "text/plain": [
       "sales_channel_id\n",
       "2    22379862\n",
       "1     9408462\n",
       "Name: count, dtype: int64"
      ]
     },
     "execution_count": 26,
     "metadata": {},
     "output_type": "execute_result"
    }
   ],
   "source": [
    "transactions.sales_channel_id.value_counts()"
   ]
  },
  {
   "cell_type": "code",
   "execution_count": 27,
   "id": "29155e87-8b93-4939-9fcb-a1fe9be16b3a",
   "metadata": {},
   "outputs": [
    {
     "data": {
      "text/plain": [
       "count    3.178832e+07\n",
       "mean     2.782927e-02\n",
       "std      1.918113e-02\n",
       "min      1.694915e-05\n",
       "25%      1.581356e-02\n",
       "50%      2.540678e-02\n",
       "75%      3.388136e-02\n",
       "max      5.915254e-01\n",
       "Name: price, dtype: float64"
      ]
     },
     "execution_count": 27,
     "metadata": {},
     "output_type": "execute_result"
    }
   ],
   "source": [
    "transactions.price.describe()"
   ]
  },
  {
   "cell_type": "code",
   "execution_count": 28,
   "id": "38246bca-dc6f-4e9f-b6e7-ad9219f7dd7c",
   "metadata": {},
   "outputs": [
    {
     "data": {
      "text/plain": [
       "('2018-09-20', '2020-09-22')"
      ]
     },
     "execution_count": 28,
     "metadata": {},
     "output_type": "execute_result"
    }
   ],
   "source": [
    "transactions.t_dat.min(), transactions.t_dat.max()"
   ]
  },
  {
   "cell_type": "code",
   "execution_count": 29,
   "id": "6a5826a8-148b-47b6-b73b-ed77ce0fa587",
   "metadata": {},
   "outputs": [
    {
     "name": "stdout",
     "output_type": "stream",
     "text": [
      "March 2020: sales_channel_id\n",
      "2    893665\n",
      "1    154087\n",
      "Name: count, dtype: int64\n",
      "\n",
      "April 2020: sales_channel_id\n",
      "2    1340882\n",
      "Name: count, dtype: int64\n",
      "\n",
      "May 2020: sales_channel_id\n",
      "2    970069\n",
      "1    391746\n",
      "Name: count, dtype: int64\n",
      "\n"
     ]
    }
   ],
   "source": [
    "print('March 2020:', transactions[transactions.t_dat.str.startswith('2020-03-')].sales_channel_id.value_counts(), end='\\n\\n')\n",
    "print('April 2020:', transactions[transactions.t_dat.str.startswith('2020-04-')].sales_channel_id.value_counts(), end='\\n\\n')\n",
    "print('May 2020:', transactions[transactions.t_dat.str.startswith('2020-05-')].sales_channel_id.value_counts(), end='\\n\\n')"
   ]
  },
  {
   "cell_type": "code",
   "execution_count": 30,
   "id": "01655930-5cd3-427a-9b12-8694e937eae6",
   "metadata": {},
   "outputs": [
    {
     "name": "stdout",
     "output_type": "stream",
     "text": [
      "Expensive (>0.2) articles:\n",
      "article_id\n",
      "0787148001    461\n",
      "0733852001    341\n",
      "0763322002    299\n",
      "0639338001    274\n",
      "0670485001    268\n",
      "             ... \n",
      "0794844001      1\n",
      "0768410002      1\n",
      "0615665001      1\n",
      "0550801001      1\n",
      "0917671001      1\n",
      "Name: count, Length: 506, dtype: int64\n",
      "\n",
      "Prices of 0787148001:\n",
      "price\n",
      "0.252542    326\n",
      "0.189407     37\n",
      "0.202034     27\n",
      "0.227288     21\n",
      "0.245763     11\n",
      "           ... \n",
      "0.101017      1\n",
      "0.198254      1\n",
      "0.063136      1\n",
      "0.223593      1\n",
      "0.202017      1\n",
      "Name: count, Length: 80, dtype: int64\n"
     ]
    }
   ],
   "source": [
    "# expensive in one transactions seems to indicate expensive in other too\n",
    "expensive_articles = transactions[transactions.price > 0.2].article_id.value_counts()\n",
    "print(\"Expensive (>0.2) articles:\")\n",
    "print(expensive_articles)\n",
    "\n",
    "print(f\"\\nPrices of {expensive_articles.index[0]}:\")\n",
    "print(transactions[transactions.article_id == expensive_articles.index[0]].price.value_counts())\n",
    "# for i in range(10):\n",
    "#     print(f\"\\nPrices of {expensive_articles.index[i]}:\")\n",
    "#     print(transactions[transactions.article_id == expensive_articles.index[i]].price.value_counts())"
   ]
  },
  {
   "cell_type": "markdown",
   "id": "ab68ac6c-09c7-4a64-8672-677067840cc8",
   "metadata": {
    "jp-MarkdownHeadingCollapsed": true
   },
   "source": [
    "# Sample Submission"
   ]
  },
  {
   "cell_type": "markdown",
   "id": "79bbf53f-eb61-4563-a0f1-edf9650a0f69",
   "metadata": {},
   "source": [
    "## Validate"
   ]
  },
  {
   "cell_type": "code",
   "execution_count": 31,
   "id": "ef923743-48be-4cbf-b3c8-d4093c434d71",
   "metadata": {},
   "outputs": [
    {
     "data": {
      "text/html": [
       "<div>\n",
       "<style scoped>\n",
       "    .dataframe tbody tr th:only-of-type {\n",
       "        vertical-align: middle;\n",
       "    }\n",
       "\n",
       "    .dataframe tbody tr th {\n",
       "        vertical-align: top;\n",
       "    }\n",
       "\n",
       "    .dataframe thead th {\n",
       "        text-align: right;\n",
       "    }\n",
       "</style>\n",
       "<table border=\"1\" class=\"dataframe\">\n",
       "  <thead>\n",
       "    <tr style=\"text-align: right;\">\n",
       "      <th></th>\n",
       "      <th>customer_id</th>\n",
       "      <th>prediction</th>\n",
       "    </tr>\n",
       "  </thead>\n",
       "  <tbody>\n",
       "    <tr>\n",
       "      <th>0</th>\n",
       "      <td>00000dbacae5abe5e23885899a1fa44253a17956c6d1c3...</td>\n",
       "      <td>0706016001 0706016002 0372860001 0610776002 07...</td>\n",
       "    </tr>\n",
       "    <tr>\n",
       "      <th>1</th>\n",
       "      <td>0000423b00ade91418cceaf3b26c6af3dd342b51fd051e...</td>\n",
       "      <td>0706016001 0706016002 0372860001 0610776002 07...</td>\n",
       "    </tr>\n",
       "    <tr>\n",
       "      <th>2</th>\n",
       "      <td>000058a12d5b43e67d225668fa1f8d618c13dc232df0ca...</td>\n",
       "      <td>0706016001 0706016002 0372860001 0610776002 07...</td>\n",
       "    </tr>\n",
       "    <tr>\n",
       "      <th>3</th>\n",
       "      <td>00005ca1c9ed5f5146b52ac8639a40ca9d57aeff4d1bd2...</td>\n",
       "      <td>0706016001 0706016002 0372860001 0610776002 07...</td>\n",
       "    </tr>\n",
       "    <tr>\n",
       "      <th>4</th>\n",
       "      <td>00006413d8573cd20ed7128e53b7b13819fe5cfc2d801f...</td>\n",
       "      <td>0706016001 0706016002 0372860001 0610776002 07...</td>\n",
       "    </tr>\n",
       "  </tbody>\n",
       "</table>\n",
       "</div>"
      ],
      "text/plain": [
       "                                         customer_id  \\\n",
       "0  00000dbacae5abe5e23885899a1fa44253a17956c6d1c3...   \n",
       "1  0000423b00ade91418cceaf3b26c6af3dd342b51fd051e...   \n",
       "2  000058a12d5b43e67d225668fa1f8d618c13dc232df0ca...   \n",
       "3  00005ca1c9ed5f5146b52ac8639a40ca9d57aeff4d1bd2...   \n",
       "4  00006413d8573cd20ed7128e53b7b13819fe5cfc2d801f...   \n",
       "\n",
       "                                          prediction  \n",
       "0  0706016001 0706016002 0372860001 0610776002 07...  \n",
       "1  0706016001 0706016002 0372860001 0610776002 07...  \n",
       "2  0706016001 0706016002 0372860001 0610776002 07...  \n",
       "3  0706016001 0706016002 0372860001 0610776002 07...  \n",
       "4  0706016001 0706016002 0372860001 0610776002 07...  "
      ]
     },
     "execution_count": 31,
     "metadata": {},
     "output_type": "execute_result"
    }
   ],
   "source": [
    "submissions.head()"
   ]
  },
  {
   "cell_type": "code",
   "execution_count": 32,
   "id": "13926431-42f3-45e0-a45e-a1b07cc85f3c",
   "metadata": {},
   "outputs": [
    {
     "name": "stdout",
     "output_type": "stream",
     "text": [
      "customer_id    False\n",
      "prediction     False\n",
      "dtype: bool\n",
      "prediction count: 1371980\n"
     ]
    }
   ],
   "source": [
    "# no missing values\n",
    "print(submissions.isna().any())\n",
    "print(f'prediction count: {len(submissions)}')"
   ]
  },
  {
   "cell_type": "code",
   "execution_count": 33,
   "id": "eaf384d5-6cc9-4bae-83d1-e831e32d250a",
   "metadata": {},
   "outputs": [
    {
     "name": "stdout",
     "output_type": "stream",
     "text": [
      "known customers: 1371980\n",
      "customers in sample submission: 1371980\n",
      "missing customers: 0\n"
     ]
    }
   ],
   "source": [
    "# all known customers have exactly one prediction\n",
    "submission_customers = submissions.customer_id.unique()\n",
    "known_customers = customers.customer_id\n",
    "_, missing_customers = find_missing(submission_customers, known_customers)\n",
    "\n",
    "print(f'known customers: {len(known_customers)}')\n",
    "print(f'customers in sample submission: {len(submission_customers)}')\n",
    "print(f'missing customers: {len(missing_customers)}')"
   ]
  },
  {
   "cell_type": "code",
   "execution_count": 34,
   "id": "dc90d2ab-2c50-4104-b5da-be79800d7647",
   "metadata": {},
   "outputs": [
    {
     "name": "stdout",
     "output_type": "stream",
     "text": [
      "all predictions are 12 known articles: True\n"
     ]
    }
   ],
   "source": [
    "# all predictions are 12 known articles\n",
    "known_articles = set(articles.article_id)\n",
    "all_good = True\n",
    "for pred in map(lambda x: x.split(' '), submissions.prediction.values):\n",
    "    if len(pred) != 12:\n",
    "        all_good = pred\n",
    "        break\n",
    "    for p in pred:\n",
    "        if p not in known_articles:\n",
    "            all_good = p\n",
    "            break\n",
    "\n",
    "print(f\"all predictions are 12 known articles: {all_good}\")"
   ]
  },
  {
   "cell_type": "markdown",
   "id": "529930c2-e2b9-4583-baf9-d5d4fab7ff54",
   "metadata": {},
   "source": [
    "# Visualisations"
   ]
  },
  {
   "cell_type": "code",
   "execution_count": 35,
   "id": "e8c9d0e4-04b3-4d43-bde9-663d6a4f2e73",
   "metadata": {},
   "outputs": [
    {
     "data": {
      "text/plain": [
       "<Axes: xlabel='Age'>"
      ]
     },
     "execution_count": 35,
     "metadata": {},
     "output_type": "execute_result"
    },
    {
     "data": {
      "image/png": "[encoded data removed]",
      "text/plain": [
       "<Figure size 640x480 with 2 Axes>"
      ]
     },
     "metadata": {},
     "output_type": "display_data"
    }
   ],
   "source": [
    "fig, axes = plt.subplots(nrows=2, sharex=True)\n",
    "customers.age.hist(bins=int(customers.age.max()-customers.age.min()), ax=axes[0])\n",
    "axes[1].set_xlabel('Age')\n",
    "axes[0].set_title('Customer Age')\n",
    "customers.boxplot('age', ax=axes[1], vert=False)"
   ]
  },
  {
   "cell_type": "code",
   "execution_count": 36,
   "id": "a4eee24a-0029-42eb-a9a4-b5f583bf2ddd",
   "metadata": {},
   "outputs": [
    {
     "data": {
      "text/plain": [
       "Text(0.5, 1.0, 'Active')"
      ]
     },
     "execution_count": 36,
     "metadata": {},
     "output_type": "execute_result"
    },
    {
     "data": {
      "image/png": "[encoded data removed]",
      "text/plain": [
       "<Figure size 640x480 with 4 Axes>"
      ]
     },
     "metadata": {},
     "output_type": "display_data"
    }
   ],
   "source": [
    "fig, axes = plt.subplots(ncols=2, nrows=2)\n",
    "\n",
    "df1 = customers.club_member_status.value_counts(dropna=False)\n",
    "df2 = customers.fashion_news_frequency.value_counts(dropna=False)\n",
    "df3 = customers.FN.value_counts(dropna=False)\n",
    "df4 = customers.Active.value_counts(dropna=False)\n",
    "\n",
    "axes[0][0].pie(df1)\n",
    "axes[0][0].legend(df1.index, loc='upper left', fontsize=8, bbox_to_anchor=(0.6, 1))\n",
    "axes[0][0].axis('off')\n",
    "axes[0][0].set_title('club_member_status')\n",
    "\n",
    "axes[0][1].pie(df2)\n",
    "axes[0][1].legend(df2.index, loc='upper left', fontsize=8, bbox_to_anchor=(0.6, 1))\n",
    "axes[0][1].axis('off')\n",
    "axes[0][1].set_title('fashion_news_frequency')\n",
    "\n",
    "axes[1][0].pie(df3)\n",
    "axes[1][0].legend(df3.index, loc='upper left', fontsize=8, bbox_to_anchor=(0.6, 1))\n",
    "axes[1][0].axis('off')\n",
    "axes[1][0].set_title('FN')\n",
    "\n",
    "axes[1][1].pie(df4)\n",
    "axes[1][1].legend(df4.index, loc='upper left', fontsize=8, bbox_to_anchor=(0.6, 1))\n",
    "axes[1][1].axis('off')\n",
    "axes[1][1].set_title('Active')"
   ]
  },
  {
   "cell_type": "code",
   "execution_count": 37,
   "id": "aaf853d7-6a0a-4f53-a0d7-141dfcc71153",
   "metadata": {},
   "outputs": [
    {
     "data": {
      "text/plain": [
       "Text(0.5, 1.0, 'index_group_name')"
      ]
     },
     "execution_count": 37,
     "metadata": {},
     "output_type": "execute_result"
    },
    {
     "data": {
      "image/png": "[encoded data removed]",
      "text/plain": [
       "<Figure size 640x480 with 2 Axes>"
      ]
     },
     "metadata": {},
     "output_type": "display_data"
    }
   ],
   "source": [
    "df1_order = ['Ladieswear', 'Lingeries/Tights', 'Ladies Accessories', 'Baby Sizes 50-98', 'Children Sizes 92-140', 'Children Sizes 134-170', 'Children Accessories, Swimwear', 'Divided', 'Menswear', 'Sport']\n",
    "df1 = articles.index_name.value_counts()\n",
    "df1 = pd.Series({k: df1[k] for k in df1_order})\n",
    "df2 = articles.index_group_name.value_counts()\n",
    "\n",
    "\n",
    "fig, axes = plt.subplots(ncols=2)\n",
    "\n",
    "axes[0].pie(df1.values, colors=[('tab:blue', 1), ('tab:blue', 0.75), ('tab:blue', 0.5), ('tab:orange', 1), ('tab:orange', 0.75), ('tab:orange', 0.5), ('tab:orange', 0.25), 'tab:green', 'tab:red', 'tab:purple'])\n",
    "axes[0].legend(df1.index, loc='upper center', fontsize=8, bbox_to_anchor=(0.5, 0))\n",
    "axes[0].axis('off')\n",
    "axes[0].set_title('index_name')\n",
    "\n",
    "axes[1].pie(df2, colors=['tab:blue', 'tab:orange', 'tab:green', 'tab:red', 'tab:purple'])\n",
    "axes[1].legend(df2.index, loc='upper center', fontsize=8, bbox_to_anchor=(0.5, 0))\n",
    "axes[1].axis('off')\n",
    "axes[1].set_title('index_group_name')"
   ]
  },
  {
   "cell_type": "code",
   "execution_count": 38,
   "id": "0e957ac1-c6ab-49f9-a2fc-d281cb20675e",
   "metadata": {},
   "outputs": [
    {
     "data": {
      "text/plain": [
       "perceived_colour_value_name\n",
       "Dark            42706\n",
       "Dusty Light     22152\n",
       "Light           15739\n",
       "Medium Dusty    12630\n",
       "Bright           6471\n",
       "Medium           5711\n",
       "Undefined         105\n",
       "Unknown            28\n",
       "Name: count, dtype: int64"
      ]
     },
     "execution_count": 38,
     "metadata": {},
     "output_type": "execute_result"
    },
    {
     "data": {
      "image/png": "[encoded data removed]",
      "text/plain": [
       "<Figure size 400x400 with 1 Axes>"
      ]
     },
     "metadata": {},
     "output_type": "display_data"
    }
   ],
   "source": [
    "fig, ax = plt.subplots(ncols=1, figsize=(4,4))\n",
    "\n",
    "df = articles.perceived_colour_value_name.value_counts()\n",
    "ax.pie(df)\n",
    "ax.legend(df.index, loc='upper right', fontsize=8)\n",
    "ax.axis('off')\n",
    "ax.set_title('perceived_colour_value_name')\n",
    "df"
   ]
  },
  {
   "cell_type": "code",
   "execution_count": 39,
   "id": "344d5a28-c1fb-4933-9ab3-9e2e5d618c73",
   "metadata": {},
   "outputs": [
    {
     "data": {
      "text/plain": [
       "0.2959722569834132"
      ]
     },
     "execution_count": 39,
     "metadata": {},
     "output_type": "execute_result"
    },
    {
     "data": {
      "image/png": "[encoded data removed]",
      "text/plain": [
       "<Figure size 300x300 with 1 Axes>"
      ]
     },
     "metadata": {},
     "output_type": "display_data"
    }
   ],
   "source": [
    "fig, ax = plt.subplots(ncols=1, figsize=(3,3))\n",
    "\n",
    "df = transactions.sales_channel_id.value_counts()\n",
    "\n",
    "ax.pie(df)\n",
    "ax.legend(df.index, loc='upper right', fontsize=8)\n",
    "ax.axis('off')\n",
    "ax.set_title('sales_channel_id')\n",
    "\n",
    "df[1] / (df[1]+df[2])"
   ]
  },
  {
   "cell_type": "code",
   "execution_count": 40,
   "id": "6d3b81e2-551f-4533-aca3-6d11f689ab21",
   "metadata": {},
   "outputs": [
    {
     "name": "stdout",
     "output_type": "stream",
     "text": [
      "number of transactions with price exceeding 0.001: 31774036 (99.96%)\n",
      "number of transactions with price exceeding 0.01: 28631131 (90.07%)\n",
      "number of transactions with price exceeding 0.02: 19400551 (61.03%)\n",
      "number of transactions with price exceeding 0.03: 11870584 (37.34%)\n",
      "number of transactions with price exceeding 0.04: 6159329 (19.38%)\n",
      "number of transactions with price exceeding 0.05: 3728801 (11.73%)\n",
      "number of transactions with price exceeding 0.1: 318629 (1.00%)\n",
      "number of transactions with price exceeding 0.2: 20691 (0.07%)\n",
      "number of transactions with price exceeding 0.3: 3888 (0.01%)\n"
     ]
    },
    {
     "data": {
      "image/png": "[encoded data removed]",
      "text/plain": [
       "<Figure size 640x480 with 2 Axes>"
      ]
     },
     "metadata": {},
     "output_type": "display_data"
    }
   ],
   "source": [
    "fig, axes = plt.subplots(nrows=2, sharex=True)\n",
    "transactions.price.hist(bins=60, ax=axes[0])\n",
    "axes[1].set_xlabel('Price')\n",
    "axes[0].set_title('Prices')\n",
    "transactions.boxplot('price', ax=axes[1], vert=False)\n",
    "\n",
    "num_transactions = len(transactions)\n",
    "for lim in [0.001, 0.01, 0.02, 0.03, 0.04, 0.05, 0.1, 0.2, 0.3]:\n",
    "    count = len(transactions[transactions.price > lim])\n",
    "    print(f'number of transactions with price exceeding {lim}: {count} ({100 * count/num_transactions:.2f}%)')"
   ]
  }
 ],
 "metadata": {
  "kernelspec": {
   "display_name": "Python 3 (ipykernel)",
   "language": "python",
   "name": "python3"
  },
  "language_info": {
   "codemirror_mode": {
    "name": "ipython",
    "version": 3
   },
   "file_extension": ".py",
   "mimetype": "text/x-python",
   "name": "python",
   "nbconvert_exporter": "python",
   "pygments_lexer": "ipython3",
   "version": "3.11.2"
  }
 },
 "nbformat": 4,
 "nbformat_minor": 5
}
