{
 "cells": [
  {
   "cell_type": "code",
   "execution_count": 1,
   "id": "618e3ea3-e873-407d-a846-c8f55b4ef8d6",
   "metadata": {},
   "outputs": [],
   "source": [
    "# make external scripts auto reload\n",
    "%load_ext autoreload\n",
    "%autoreload 2"
   ]
  },
  {
   "cell_type": "code",
   "execution_count": 4,
   "id": "a4b7cba0-0633-4bef-9d67-4223ea500166",
   "metadata": {},
   "outputs": [],
   "source": [
    "import kaggle\n",
    "import time\n",
    "import pandas as pd\n",
    "import numpy as np\n",
    "\n",
    "from template.experiment_template import customer_hex_id_to_int\n",
    "from candidate_generation import *"
   ]
  },
  {
   "cell_type": "markdown",
   "id": "d578a14b-5177-4b52-9d98-7868621a35f0",
   "metadata": {},
   "source": [
    "## Load data and utils"
   ]
  },
  {
   "cell_type": "code",
   "execution_count": 19,
   "id": "3ac45684-3809-4b50-bba0-33bce803e86e",
   "metadata": {
    "jupyter": {
     "source_hidden": true
    }
   },
   "outputs": [],
   "source": [
    "COMPETITION_NAME = 'h-and-m-personalized-fashion-recommendations'\n",
    "\n",
    "def submit(filepath):\n",
    "    kaggle.api.competition_submit(filepath, '', COMPETITION_NAME)\n",
    "    res = None\n",
    "    while res is None:\n",
    "        time.sleep(1)\n",
    "        res = get_results()[0]\n",
    "        if res[1] is None:\n",
    "            res = None\n",
    "\n",
    "    return float(res[1]), float(res[2])\n",
    "\n",
    "def get_results():\n",
    "    return [\n",
    "        (sub['fileNameNullable'], sub['publicScoreNullable'], sub['privateScoreNullable']) for sub in kaggle.api.competitions_submissions_list(COMPETITION_NAME)\n",
    "    ]\n",
    "\n",
    "def create_uniform_prediction(customers, items):\n",
    "    return pd.merge(pd.Series(customers, name='customer_id'), pd.Series([items], name='prediction'), how='cross')\n",
    "\n",
    "def hex_id_to_int(str):\n",
    "    return int(str[-16:], 16)\n",
    "\n",
    "def customer_hex_id_to_int(series):\n",
    "    return series.str[-16:].apply(hex_id_to_int)\n",
    "\n",
    "def article_id_str_to_int(series):\n",
    "    return series.astype('int32')\n",
    "\n",
    "def submission_to_df(path):\n",
    "    sub = pd.read_csv(path)\n",
    "\n",
    "    def pc(str):\n",
    "        return int(str, 16)\n",
    "\n",
    "    def pp(str):\n",
    "        return list(map(int, str.split()))\n",
    "\n",
    "    sub.customer_id = sub.customer_id.str[-16:].apply(pc)\n",
    "    sub.prediction = sub.prediction.apply(pp)\n",
    "\n",
    "    return sub\n",
    "\n",
    "def create_submission(predictions, sample_submission):\n",
    "    predictions = predictions.set_index(\"customer_id\").prediction.to_dict()\n",
    "    preds = []\n",
    "    result = sample_submission.copy()\n",
    "    for customer_id in customer_hex_id_to_int(result.customer_id):\n",
    "        if customer_id not in predictions:\n",
    "            preds.append(\" \".join([\"0\"] * 12))\n",
    "        else:\n",
    "            preds.append(\" \".join(f\"0{x}\" for x in predictions[customer_id]))\n",
    "    result.prediction = preds\n",
    "    return result\n",
    "\n",
    "def save_and_submit(predictions, name=None):\n",
    "    if name is None:\n",
    "        name = 'probing'\n",
    "        \n",
    "    sub = create_submission(predictions, sample_submission)\n",
    "    sub.to_csv(BASE_PATH + f'{name}.csv.gz', index=False)\n",
    "    return submit(BASE_PATH + f'{name}.csv.gz')\n",
    "\n",
    "def candidates_to_predictions(candidates):\n",
    "    c = candidates.drop(columns='week').drop_duplicates(['customer_id', 'article_id'])\n",
    "    return c.groupby('customer_id').head(12).groupby('customer_id', as_index=False).article_id.apply(list).rename(columns={'article_id':'prediction'})\n",
    "\n",
    "def do_probe_cold(predictions):\n",
    "    print(\"All\", save_and_submit(predictions))\n",
    "    \n",
    "    predictions_subset = predictions.drop(index=predictions[~predictions.customer_id.isin(cold_users)].index)\n",
    "    print(\"Active\", save_and_submit(predictions_subset))\n",
    "    \n",
    "    predictions_subset = predictions.drop(index=predictions[predictions.customer_id.isin(cold_users)].index)\n",
    "    print(\"Cold\", save_and_submit(predictions_subset))\n",
    "    "
   ]
  },
  {
   "cell_type": "code",
   "execution_count": 8,
   "id": "4088888e-1c02-471b-98e4-0ca4af0b5bca",
   "metadata": {},
   "outputs": [],
   "source": [
    "BASE_PATH = '../../data/'\n",
    "# DATA_PATH = BASE_PATH + 'sample_0.05/'\n",
    "DATA_PATH = BASE_PATH + 'parquet/'\n",
    "\n",
    "# make sure the same data preprocessing as in the radek notebook have been performed\n",
    "# (see 02 FE/DataProcessingRadek.ipynb)\n",
    "transactions = pd.read_parquet(DATA_PATH + 'transactions_train.parquet')\n",
    "customers = pd.read_parquet(DATA_PATH + 'customers.parquet')\n",
    "articles = pd.read_parquet(DATA_PATH + 'articles.parquet')\n",
    "sample_submission = pd.read_csv(BASE_PATH + 'original/sample_submission.csv')\n",
    "\n",
    "transactions = add_relative_week(transactions)"
   ]
  },
  {
   "cell_type": "code",
   "execution_count": 9,
   "id": "65427861-dc91-47c5-b142-17a986a98402",
   "metadata": {},
   "outputs": [
    {
     "name": "stdout",
     "output_type": "stream",
     "text": [
      "active users: 437365 (31.88% of all users)\n"
     ]
    }
   ],
   "source": [
    "active_users = transactions[transactions.week > 104 - 10].customer_id.unique()\n",
    "cold_users = list(set(customers.customer_id) - set(active_users))\n",
    "num_users = len(customers)\n",
    "num_active_users = len(active_users)\n",
    "\n",
    "print(f'active users: {num_active_users} ({num_active_users/num_users:.2%} of all users)')"
   ]
  },
  {
   "cell_type": "markdown",
   "id": "864a588c-7f01-4969-ad20-8b8f28f9c314",
   "metadata": {},
   "source": [
    "## Experiments\n",
    "\n",
    "Approach | All | Active | Cold\n",
    "---|---|---|---\n",
    "top-12 last week | 0.00784 | 0.00520 | 0.00228\n",
    "repurchase 4 weeks + top-12 last week | 0.02203 | 0.01974 | 0.00228\n",
    "my first model | 0.02230 | 0.02064 | 0.00208"
   ]
  },
  {
   "cell_type": "code",
   "execution_count": 22,
   "id": "1309beda-f7a5-487d-9b3b-8640788f10ad",
   "metadata": {},
   "outputs": [
    {
     "name": "stderr",
     "output_type": "stream",
     "text": [
      "100%|█████████████████████████████████████████████████████████████████████████████████████████████████████████████████████████████████████████████████████████████████████████████| 49.9M/49.9M [00:18<00:00, 2.76MB/s]\n"
     ]
    },
    {
     "name": "stdout",
     "output_type": "stream",
     "text": [
      "All (0.0052, 0.00496)\n"
     ]
    },
    {
     "name": "stderr",
     "output_type": "stream",
     "text": [
      "100%|█████████████████████████████████████████████████████████████████████████████████████████████████████████████████████████████████████████████████████████████████████████████| 48.8M/48.8M [00:19<00:00, 2.56MB/s]\n"
     ]
    },
    {
     "name": "stdout",
     "output_type": "stream",
     "text": [
      "Active (0.0, 0.0)\n"
     ]
    },
    {
     "name": "stderr",
     "output_type": "stream",
     "text": [
      "100%|█████████████████████████████████████████████████████████████████████████████████████████████████████████████████████████████████████████████████████████████████████████████| 49.9M/49.9M [00:17<00:00, 3.08MB/s]\n"
     ]
    },
    {
     "name": "stdout",
     "output_type": "stream",
     "text": [
      "Cold (0.0052, 0.00496)\n"
     ]
    }
   ],
   "source": [
    "# top-12 last week\n",
    "top12_articles = transactions[transactions.week==104].drop_duplicates(['customer_id', 'article_id']).article_id.value_counts().head(12).index.values\n",
    "predictions = create_uniform_prediction(active_users, top12_articles)\n",
    "\n",
    "do_probe_cold(predictions)"
   ]
  },
  {
   "cell_type": "code",
   "execution_count": 20,
   "id": "1cb6b64c-9fbd-4534-b2e5-3dfbd08816d9",
   "metadata": {},
   "outputs": [
    {
     "name": "stderr",
     "output_type": "stream",
     "text": [
      "100%|█████████████████████████████████████████████████████████████████████████████████████████████████████████████████████████████████████████████████████████████████████████████| 55.3M/55.3M [00:18<00:00, 3.10MB/s]\n"
     ]
    },
    {
     "name": "stdout",
     "output_type": "stream",
     "text": [
      "All (0.02083, 0.02086)\n"
     ]
    },
    {
     "name": "stderr",
     "output_type": "stream",
     "text": [
      "100%|█████████████████████████████████████████████████████████████████████████████████████████████████████████████████████████████████████████████████████████████████████████████| 50.4M/50.4M [00:19<00:00, 2.76MB/s]\n"
     ]
    },
    {
     "name": "stdout",
     "output_type": "stream",
     "text": [
      "Active (0.0019, 0.00193)\n"
     ]
    },
    {
     "name": "stderr",
     "output_type": "stream",
     "text": [
      "100%|█████████████████████████████████████████████████████████████████████████████████████████████████████████████████████████████████████████████████████████████████████████████| 54.6M/54.6M [00:19<00:00, 2.96MB/s]\n"
     ]
    },
    {
     "name": "stdout",
     "output_type": "stream",
     "text": [
      "Cold (0.01893, 0.01893)\n"
     ]
    }
   ],
   "source": [
    "bask = baskets(None, 105, transactions.customer_id.unique(), True)\n",
    "c = pd.concat([\n",
    "    candidates_repurchase(bask, transactions, 4, False),\n",
    "    candidates_popularity(bask, transactions, 12, 1)\n",
    "])\n",
    "predictions = candidates_to_predictions(c)\n",
    "\n",
    "do_probe_cold(predictions)"
   ]
  },
  {
   "cell_type": "code",
   "execution_count": 21,
   "id": "3550539e-ac73-4da0-82dc-e03d66a65122",
   "metadata": {},
   "outputs": [
    {
     "name": "stderr",
     "output_type": "stream",
     "text": [
      "100%|█████████████████████████████████████████████████████████████████████████████████████████████████████████████████████████████████████████████████████████████████████████████| 76.8M/76.8M [00:27<00:00, 2.97MB/s]\n"
     ]
    },
    {
     "name": "stdout",
     "output_type": "stream",
     "text": [
      "All (0.02343, 0.02297)\n"
     ]
    },
    {
     "name": "stderr",
     "output_type": "stream",
     "text": [
      "100%|█████████████████████████████████████████████████████████████████████████████████████████████████████████████████████████████████████████████████████████████████████████████| 62.0M/62.0M [00:21<00:00, 3.07MB/s]\n"
     ]
    },
    {
     "name": "stdout",
     "output_type": "stream",
     "text": [
      "Active (0.00278, 0.0029)\n"
     ]
    },
    {
     "name": "stderr",
     "output_type": "stream",
     "text": [
      "100%|█████████████████████████████████████████████████████████████████████████████████████████████████████████████████████████████████████████████████████████████████████████████| 64.7M/64.7M [00:21<00:00, 3.11MB/s]\n"
     ]
    },
    {
     "name": "stdout",
     "output_type": "stream",
     "text": [
      "Cold (0.02064, 0.02007)\n"
     ]
    }
   ],
   "source": [
    "# first model\n",
    "predictions = submission_to_df(BASE_PATH + 'sub05-12f.csv.gz') \n",
    "\n",
    "do_probe_cold(predictions)"
   ]
  },
  {
   "cell_type": "markdown",
   "id": "6c3dcdae-fb7f-44fb-a1a1-3b0eef65c682",
   "metadata": {},
   "source": [
    "## Finding better predictions for cold customers\n",
    "\n",
    "Method | public | private\n",
    "---|---|---\n",
    "repurchase (distant history) | 0.00189 | 0.00191\n",
    "IPop prod_name | 0.00263 | 0.00276\n",
    "IPop department_name | 0.00175 | 0.00187\n",
    "IPop colour_group_name | 0.00159 | 0.0017\n",
    "UPop age | 0.0025 | 0.00239\n",
    "UPop postal_code | 0.00204 | 0.00233"
   ]
  },
  {
   "cell_type": "code",
   "execution_count": 15,
   "id": "5b317235-e631-4d0b-932e-2171f4b7bc77",
   "metadata": {},
   "outputs": [
    {
     "name": "stderr",
     "output_type": "stream",
     "text": [
      "100%|█████████████████████████████████████████████████████████████████████████████████████████████████████████████████████████████████████████████████████████████████████████████| 54.6M/54.6M [00:19<00:00, 2.94MB/s]\n"
     ]
    },
    {
     "data": {
      "text/plain": [
       "(0.00204, 0.00233)"
      ]
     },
     "execution_count": 15,
     "metadata": {},
     "output_type": "execute_result"
    }
   ],
   "source": [
    "bask = baskets(None, 105, cold_users, True)\n",
    "c = pd.concat([\n",
    "    # candidates_repurchase(bask, transactions, 3, True),\n",
    "    # candidates_article_feature(bask, transactions, articles, 'prod_name', 6, 1, 2, 6, True),\n",
    "    # candidates_article_feature(bask, transactions, articles, 'department_name', 6, 1, 2, 3, True),\n",
    "    # candidates_article_feature(bask, transactions, articles, 'colour_group_name', 6, 1, 2, 3, True),\n",
    "    # candidates_customer_feature(bask, transactions, customers, \"age\", 12, 1),\n",
    "    candidates_customer_feature(bask, transactions, customers, \"postal_code\", 12, 1),\n",
    "    candidates_popularity(bask, transactions, 12, 1)\n",
    "])\n",
    "predictions = candidates_to_predictions(c)\n",
    "save_and_submit(predictions)"
   ]
  }
 ],
 "metadata": {
  "kernelspec": {
   "display_name": "Python 3 (ipykernel)",
   "language": "python",
   "name": "python3"
  },
  "language_info": {
   "codemirror_mode": {
    "name": "ipython",
    "version": 3
   },
   "file_extension": ".py",
   "mimetype": "text/x-python",
   "name": "python",
   "nbconvert_exporter": "python",
   "pygments_lexer": "ipython3",
   "version": "3.11.2"
  }
 },
 "nbformat": 4,
 "nbformat_minor": 5
}
